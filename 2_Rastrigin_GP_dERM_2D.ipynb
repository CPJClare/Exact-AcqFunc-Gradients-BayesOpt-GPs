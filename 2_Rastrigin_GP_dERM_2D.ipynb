{
  "nbformat": 4,
  "nbformat_minor": 0,
  "metadata": {
    "colab": {
      "name": "2. Rastrigin_GP_dERM_2D.ipynb",
      "provenance": [],
      "collapsed_sections": []
    },
    "kernelspec": {
      "name": "python3",
      "display_name": "Python 3"
    },
    "language_info": {
      "name": "python"
    }
  },
  "cells": [
    {
      "cell_type": "markdown",
      "metadata": {
        "id": "Dqn4dFx7Z2Ir"
      },
      "source": [
        "\n",
        "Rastrigin: 2D\n"
      ]
    },
    {
      "cell_type": "code",
      "metadata": {
        "id": "MJTM_GZZZb5x",
        "colab": {
          "base_uri": "https://localhost:8080/"
        },
        "outputId": "e9d10848-d96f-4a8e-d545-97ff6022cd16"
      },
      "source": [
        "pip install pyGPGO\n"
      ],
      "execution_count": null,
      "outputs": [
        {
          "output_type": "stream",
          "name": "stdout",
          "text": [
            "Collecting pyGPGO\n",
            "  Downloading pyGPGO-0.5.1.tar.gz (14 kB)\n",
            "Requirement already satisfied: numpy in /usr/local/lib/python3.7/dist-packages (from pyGPGO) (1.19.5)\n",
            "Requirement already satisfied: mkl in /usr/local/lib/python3.7/dist-packages (from pyGPGO) (2019.0)\n",
            "Requirement already satisfied: scipy in /usr/local/lib/python3.7/dist-packages (from pyGPGO) (1.4.1)\n",
            "Requirement already satisfied: joblib in /usr/local/lib/python3.7/dist-packages (from pyGPGO) (1.1.0)\n",
            "Requirement already satisfied: scikit-learn in /usr/local/lib/python3.7/dist-packages (from pyGPGO) (1.0.1)\n",
            "Requirement already satisfied: Theano-PyMC in /usr/local/lib/python3.7/dist-packages (from pyGPGO) (1.1.2)\n",
            "Requirement already satisfied: pyMC3 in /usr/local/lib/python3.7/dist-packages (from pyGPGO) (3.11.4)\n",
            "Requirement already satisfied: intel-openmp in /usr/local/lib/python3.7/dist-packages (from mkl->pyGPGO) (2021.4.0)\n",
            "Requirement already satisfied: arviz>=0.11.0 in /usr/local/lib/python3.7/dist-packages (from pyMC3->pyGPGO) (0.11.4)\n",
            "Requirement already satisfied: pandas>=0.24.0 in /usr/local/lib/python3.7/dist-packages (from pyMC3->pyGPGO) (1.1.5)\n",
            "Requirement already satisfied: dill in /usr/local/lib/python3.7/dist-packages (from pyMC3->pyGPGO) (0.3.4)\n",
            "Requirement already satisfied: cachetools>=4.2.1 in /usr/local/lib/python3.7/dist-packages (from pyMC3->pyGPGO) (4.2.4)\n",
            "Requirement already satisfied: semver>=2.13.0 in /usr/local/lib/python3.7/dist-packages (from pyMC3->pyGPGO) (2.13.0)\n",
            "Requirement already satisfied: typing-extensions>=3.7.4 in /usr/local/lib/python3.7/dist-packages (from pyMC3->pyGPGO) (3.10.0.2)\n",
            "Requirement already satisfied: fastprogress>=0.2.0 in /usr/local/lib/python3.7/dist-packages (from pyMC3->pyGPGO) (1.0.0)\n",
            "Requirement already satisfied: patsy>=0.5.1 in /usr/local/lib/python3.7/dist-packages (from pyMC3->pyGPGO) (0.5.2)\n",
            "Requirement already satisfied: filelock in /usr/local/lib/python3.7/dist-packages (from Theano-PyMC->pyGPGO) (3.3.2)\n",
            "Requirement already satisfied: netcdf4 in /usr/local/lib/python3.7/dist-packages (from arviz>=0.11.0->pyMC3->pyGPGO) (1.5.8)\n",
            "Requirement already satisfied: setuptools>=38.4 in /usr/local/lib/python3.7/dist-packages (from arviz>=0.11.0->pyMC3->pyGPGO) (57.4.0)\n",
            "Requirement already satisfied: packaging in /usr/local/lib/python3.7/dist-packages (from arviz>=0.11.0->pyMC3->pyGPGO) (21.2)\n",
            "Requirement already satisfied: matplotlib>=3.0 in /usr/local/lib/python3.7/dist-packages (from arviz>=0.11.0->pyMC3->pyGPGO) (3.2.2)\n",
            "Requirement already satisfied: xarray>=0.16.1 in /usr/local/lib/python3.7/dist-packages (from arviz>=0.11.0->pyMC3->pyGPGO) (0.18.2)\n",
            "Requirement already satisfied: python-dateutil>=2.1 in /usr/local/lib/python3.7/dist-packages (from matplotlib>=3.0->arviz>=0.11.0->pyMC3->pyGPGO) (2.8.2)\n",
            "Requirement already satisfied: pyparsing!=2.0.4,!=2.1.2,!=2.1.6,>=2.0.1 in /usr/local/lib/python3.7/dist-packages (from matplotlib>=3.0->arviz>=0.11.0->pyMC3->pyGPGO) (2.4.7)\n",
            "Requirement already satisfied: cycler>=0.10 in /usr/local/lib/python3.7/dist-packages (from matplotlib>=3.0->arviz>=0.11.0->pyMC3->pyGPGO) (0.11.0)\n",
            "Requirement already satisfied: kiwisolver>=1.0.1 in /usr/local/lib/python3.7/dist-packages (from matplotlib>=3.0->arviz>=0.11.0->pyMC3->pyGPGO) (1.3.2)\n",
            "Requirement already satisfied: pytz>=2017.2 in /usr/local/lib/python3.7/dist-packages (from pandas>=0.24.0->pyMC3->pyGPGO) (2018.9)\n",
            "Requirement already satisfied: six in /usr/local/lib/python3.7/dist-packages (from patsy>=0.5.1->pyMC3->pyGPGO) (1.15.0)\n",
            "Requirement already satisfied: cftime in /usr/local/lib/python3.7/dist-packages (from netcdf4->arviz>=0.11.0->pyMC3->pyGPGO) (1.5.1.1)\n",
            "Requirement already satisfied: threadpoolctl>=2.0.0 in /usr/local/lib/python3.7/dist-packages (from scikit-learn->pyGPGO) (3.0.0)\n",
            "Building wheels for collected packages: pyGPGO\n",
            "  Building wheel for pyGPGO (setup.py) ... \u001b[?25l\u001b[?25hdone\n",
            "  Created wheel for pyGPGO: filename=pyGPGO-0.5.1-py3-none-any.whl size=19880 sha256=e8c38d7ec03bed68ec527877d4960ef83aec1df1b4138dda71685a7233289fe3\n",
            "  Stored in directory: /root/.cache/pip/wheels/c8/5d/0b/2160114e2f1b87791c51b66cf07f89831dbb6f49167950316f\n",
            "Successfully built pyGPGO\n",
            "Installing collected packages: pyGPGO\n",
            "Successfully installed pyGPGO-0.5.1\n"
          ]
        }
      ]
    },
    {
      "cell_type": "code",
      "metadata": {
        "id": "ZJSSPbwPaEUB"
      },
      "source": [
        "### Import:\n",
        "\n",
        "import numpy as np\n",
        "import scipy as sp\n",
        "import pandas as pd\n",
        "import matplotlib.pyplot as plt\n",
        "import warnings\n",
        "import itertools\n",
        "\n",
        "from pyGPGO.GPGO import GPGO\n",
        "from pyGPGO.surrogates.GaussianProcess import GaussianProcess\n",
        "from pyGPGO.acquisition import Acquisition\n",
        "from pyGPGO.covfunc import squaredExponential\n",
        "\n",
        "from joblib import Parallel, delayed\n",
        "from numpy.linalg import solve, cholesky\n",
        "from scipy.spatial.distance import cdist\n",
        "from scipy.optimize import minimize\n",
        "from scipy.stats import norm\n",
        "import time\n",
        "\n",
        "warnings.filterwarnings(\"ignore\", category=RuntimeWarning)\n"
      ],
      "execution_count": null,
      "outputs": []
    },
    {
      "cell_type": "code",
      "metadata": {
        "id": "OeYcTUNoaJWa"
      },
      "source": [
        "### Inputs:\n",
        "\n",
        "func = 'Rastrigin'\n",
        "n_test = 500\n",
        "eps = 1e-08\n",
        "\n",
        "util_grad_exact = 'dERM_GP'\n",
        "util_grad_approx = 'ExpectedRegret'\n",
        "\n",
        "n_init = 5 # random initialisations\n",
        "iters = 20\n",
        "opt = True"
      ],
      "execution_count": null,
      "outputs": []
    },
    {
      "cell_type": "code",
      "metadata": {
        "id": "xpaEOjdzaPMS"
      },
      "source": [
        "### Objective Function - Rastrigin(x) 2-D:\n",
        "\n",
        "def objfunc(x1_training, x2_training):\n",
        "        return  operator * (10 * dim + x1_training** 2 - 10 * np.cos(2 * np.pi * x1_training)\n",
        "                                    + x2_training** 2 - 10 * np.cos(2 * np.pi * x2_training)\n",
        "                          )\n",
        "        \n",
        "def objfunc_der(x1_training, x2_training):\n",
        "        return  operator * (2 * x1_training + 20 * np.pi * np.sin(2 * np.pi * x1_training)\n",
        "                                    + 2 * x2_training + 20 * np.pi * np.sin(2 * np.pi * x2_training)\n",
        "                          )\n",
        "    \n",
        "# Constraints:\n",
        "lb = -5.12 \n",
        "ub = +5.12\n",
        "    \n",
        "# Input array dimension(s):\n",
        "dim = 2\n",
        "\n",
        "# 2-D inputs' parameter bounds:\n",
        "param = {'x1_training': ('cont', [lb, ub]),\n",
        "             'x2_training': ('cont', [lb, ub])}\n",
        "\n",
        "# True y bounds:\n",
        "operator = -1\n",
        "y_global_orig = 0 # targets global minimum\n",
        "\n",
        "# Test data:\n",
        "x1_test = np.linspace(lb, ub, n_test) \n",
        "x2_test = np.linspace(lb, ub, n_test)\n",
        "  \n",
        "x_test = np.column_stack((x1_test,x2_test))\n"
      ],
      "execution_count": null,
      "outputs": []
    },
    {
      "cell_type": "code",
      "metadata": {
        "id": "eYpI3Zm4aGxi"
      },
      "source": [
        "n_start_AcqFunc = iters\n"
      ],
      "execution_count": null,
      "outputs": []
    },
    {
      "cell_type": "code",
      "metadata": {
        "id": "oO_GUmOoaV0T"
      },
      "source": [
        "### Cumulative Regret Calculator:\n",
        "\n",
        "def min_max_array(x):\n",
        "    new_list = []\n",
        "    for i, num in enumerate(x):\n",
        "            new_list.append(np.min(x[0:i+1]))\n",
        "    return new_list\n",
        "  "
      ],
      "execution_count": null,
      "outputs": []
    },
    {
      "cell_type": "code",
      "metadata": {
        "id": "kuuJx0IMam9S"
      },
      "source": [
        "### Surrogate derivatives: \n",
        "\n",
        "cov_func = squaredExponential()\n",
        "\n",
        "def kronDelta(X, Xstar):\n",
        "    return cdist(X, Xstar) < np.finfo(np.float32).eps\n",
        "\n",
        "def se(X, Xstar, sigmaf, l, sigman):\n",
        "    return sigmaf * np.exp(-0.5 * cdist(X, Xstar) ** 2 / l ** 2) + sigman * kronDelta(X, Xstar)\n",
        "\n",
        "def deriv_se(X, Xstar, sigmaf, l, sigman):\n",
        "    return cdist(X, Xstar) / (l ** 2) * se(X, Xstar, sigmaf, l, sigman)\n",
        "\n",
        "def der_covmat(X, Xstar, sigmaf, l, sigman):\n",
        "      nx = len(X)\n",
        "      ny = len(Xstar)\n",
        "      return np.round(np.array([deriv_se(np.atleast_2d(i), np.atleast_2d(j), sigmaf, l, sigman) for (i, j) in itertools.product(X, Xstar)]).reshape(nx, ny), 8)\n",
        "\n",
        "class dGaussianProcess(GaussianProcess):\n",
        "    l = GaussianProcess(cov_func, optimize=opt).getcovparams()['l']\n",
        "    sigmaf = GaussianProcess(cov_func, optimize=opt).getcovparams()['sigmaf']\n",
        "    sigman = GaussianProcess(cov_func, optimize=opt).getcovparams()['sigman']\n",
        "\n",
        "    def AcqGrad(self, Xstar):\n",
        "        Xstar = np.atleast_2d(Xstar)\n",
        "        Kstar = self.covfunc.K(self.X, Xstar).T\n",
        "        dKstar = der_covmat(self.X, Xstar, self.sigmaf, self.l, self.sigman).T\n",
        "        \n",
        "        alpha_Kstar = np.dot(np.linalg.inv(self.K + (self.sigman**2) * np.eye(len(self.X))), Kstar.T)\n",
        "        \n",
        "        dm = np.dot(dKstar, self.alpha)\n",
        "        ds = -2 * np.dot(dKstar, alpha_Kstar)\n",
        "        \n",
        "        return dm, ds\n",
        "        "
      ],
      "execution_count": null,
      "outputs": []
    },
    {
      "cell_type": "code",
      "metadata": {
        "id": "_Dc3YVHVaXz7"
      },
      "source": [
        "class Acquisition_new(Acquisition):    \n",
        "    def __init__(self, mode, eps=eps, **params):\n",
        "        \n",
        "        self.params = params\n",
        "        self.eps = eps\n",
        "\n",
        "        mode_dict = {\n",
        "            'ExpectedRegret': self.ExpectedRegret,\n",
        "            'dERM_GP': self.dERM_GP\n",
        "        }\n",
        "\n",
        "        self.f = mode_dict[mode]\n",
        "    \n",
        "    def ExpectedRegret(self, tau, mean, std):\n",
        "        z = (mean - y_global_orig - self.eps) / (std + self.eps)\n",
        "        return (mean - y_global_orig) * norm.cdf(z) + std * norm.pdf(z)[0]\n",
        "\n",
        "\n",
        "    def dERM_GP(self, tau, mean, std, ds, dm):\n",
        "        gamma = (mean - y_global_orig - self.eps) / (std + self.eps)\n",
        "        gamma_h = (mean - tau) / (std + self.eps)\n",
        "        dsdx = ds / (2 * (std + self.eps))\n",
        "        dmdx = (dm - gamma * dsdx) / (std + self.eps)\n",
        "        \n",
        "        f = (std + self.eps) * (gamma * norm.cdf(gamma) + norm.pdf(gamma))\n",
        "        df1 = f / (std + self.eps) * dsdx \n",
        "        df2 = (std + self.eps) * norm.cdf(gamma) * dmdx\n",
        "        df = (df1 + df2)[0]\n",
        "        df_arr = []\n",
        "\n",
        "        for j in range(0, dim):\n",
        "          df_arr.append(df)\n",
        "        return f, np.asarray(df_arr).transpose()\n",
        "        \n",
        "    def d_eval(self, tau, mean, std, ds, dm):\n",
        "    \n",
        "        return self.f(tau, mean, std, ds, dm, **self.params)\n",
        "        "
      ],
      "execution_count": null,
      "outputs": []
    },
    {
      "cell_type": "code",
      "metadata": {
        "id": "PITEQC8YSl7i"
      },
      "source": [
        "## GPGO_multi: Multistart changed to variable 'n_start_AcqFunc'\n",
        "\n",
        "class GPGO_multi(GPGO):\n",
        "    n_start = n_start_AcqFunc\n",
        "\n",
        "    def _optimizeAcq(self, method='L-BFGS-B', n_start=n_start_AcqFunc):\n",
        "        \n",
        "        start_points_dict = [self._sampleParam() for i in range(n_start)]\n",
        "        start_points_arr = np.array([list(s.values())\n",
        "                                     for s in start_points_dict])\n",
        "        x_best = np.empty((n_start, len(self.parameter_key)))\n",
        "        f_best = np.empty((n_start,))\n",
        "        if self.n_jobs == 1:\n",
        "            for index, start_point in enumerate(start_points_arr):\n",
        "                res = minimize(self._acqWrapper, x0=start_point, method=method,\n",
        "                               bounds=self.parameter_range)\n",
        "                x_best[index], f_best[index] = res.x, np.atleast_1d(res.fun)[0]\n",
        "        else:\n",
        "            opt = Parallel(n_jobs=self.n_jobs)(delayed(minimize)(self._acqWrapper,\n",
        "                                                                 x0=start_point,\n",
        "                                                                 method=method,\n",
        "                                                                 bounds=self.parameter_range) for start_point in\n",
        "                                               start_points_arr)\n",
        "            x_best = np.array([res.x for res in opt])\n",
        "            f_best = np.array([np.atleast_1d(res.fun)[0] for res in opt])\n",
        "\n",
        "        self.best = x_best[np.argmin(f_best)]"
      ],
      "execution_count": null,
      "outputs": []
    },
    {
      "cell_type": "code",
      "metadata": {
        "id": "b_B-w81BJxKN"
      },
      "source": [
        "## dGPGO:\n",
        "\n",
        "grad = 1\n",
        "\n",
        "class dGPGO(GPGO):\n",
        "    n_start = n_start_AcqFunc\n",
        "\n",
        "    def d_optimizeAcq(self, method='L-BFGS-B', n_start=n_start_AcqFunc):\n",
        "        start_points_dict = [self._sampleParam() for i in range(n_start)]\n",
        "        start_points_arr = np.array([list(s.values())\n",
        "                                     for s in start_points_dict])\n",
        "        x_best = np.empty((n_start, len(self.parameter_key)))\n",
        "        f_best = np.empty((n_start,))\n",
        "        opt = Parallel(n_jobs=self.n_jobs)(delayed(minimize)(self.acqfunc,\n",
        "                                                                 x0=start_point,\n",
        "                                                                 method=method,\n",
        "                                                                 jac = True,\n",
        "                                                                 bounds=self.parameter_range) for start_point in\n",
        "                                               start_points_arr)\n",
        "        x_best = np.array([res.x for res in opt])\n",
        "        f_best = np.array([np.atleast_1d(res.fun)[0] for res in opt])\n",
        "\n",
        "        self.x_best = x_best\n",
        "        self.f_best = f_best\n",
        "        self.best = x_best[np.argmin(f_best)]\n",
        "        self.start_points_arr = start_points_arr\n",
        "\n",
        "        return x_best, f_best\n",
        "    \n",
        "    def run(self, max_iter=10, init_evals=3, resume=False):\n",
        "        \n",
        "        if not resume:\n",
        "            self.init_evals = init_evals\n",
        "            self._firstRun(self.init_evals)\n",
        "            self.logger._printInit(self)\n",
        "        for iteration in range(max_iter):\n",
        "            self.d_optimizeAcq()\n",
        "            self.updateGP()\n",
        "            self.logger._printCurrent(self)\n",
        "\n",
        "    def acqfunc(self, xnew, n_start=n_start_AcqFunc):\n",
        "        new_mean, new_var = self.GP.predict(xnew, return_std=True)\n",
        "        new_std = np.sqrt(new_var + eps)\n",
        "        dm, ds = self.GP.AcqGrad(xnew)\n",
        "        f, df = self.A.d_eval(self.tau, new_mean, new_std, ds=ds, dm=dm)\n",
        "\n",
        "        return -f, -df * grad\n"
      ],
      "execution_count": null,
      "outputs": []
    },
    {
      "cell_type": "code",
      "metadata": {
        "id": "qXIKGuXVGEg2"
      },
      "source": [
        "###Reproducible set-seeds:\n",
        "\n",
        "run_num_1 = 1\n",
        "run_num_2 = 2\n",
        "run_num_3 = 3\n",
        "run_num_4 = 4\n",
        "run_num_5 = 5\n",
        "run_num_6 = 6\n",
        "run_num_7 = 7\n",
        "run_num_8 = 8\n",
        "run_num_9 = 9\n",
        "run_num_10 = 10\n",
        "run_num_11 = 11\n",
        "run_num_12 = 12\n",
        "run_num_13 = 13\n",
        "run_num_14 = 14\n",
        "run_num_15 = 15\n",
        "run_num_16 = 16\n",
        "run_num_17 = 17\n",
        "run_num_18 = 18\n",
        "run_num_19 = 19\n",
        "run_num_20 = 20\n"
      ],
      "execution_count": null,
      "outputs": []
    },
    {
      "cell_type": "code",
      "metadata": {
        "colab": {
          "base_uri": "https://localhost:8080/"
        },
        "id": "JEhagQmnTVIK",
        "outputId": "5614a9be-cb43-468b-8700-5e994c31fa23"
      },
      "source": [
        "start_approx = time.time()\n",
        "start_approx\n"
      ],
      "execution_count": null,
      "outputs": [
        {
          "output_type": "execute_result",
          "data": {
            "text/plain": [
              "1637144021.24311"
            ]
          },
          "metadata": {},
          "execution_count": 12
        }
      ]
    },
    {
      "cell_type": "code",
      "metadata": {
        "colab": {
          "base_uri": "https://localhost:8080/"
        },
        "id": "aH0YSTXufD1v",
        "outputId": "83df08fb-7cfc-47e7-ca12-3c2845e64985"
      },
      "source": [
        "### ESTIMATED GP EI GRADIENTS\n",
        "\n",
        "np.random.seed(run_num_1)\n",
        "surrogate_approx_1 = GaussianProcess(cov_func, optimize=opt)\n",
        "\n",
        "approx_1 = GPGO_multi(surrogate_approx_1, Acquisition_new(util_grad_approx), objfunc, param)\n",
        "approx_1.run(init_evals=n_init, max_iter=iters)\n"
      ],
      "execution_count": null,
      "outputs": [
        {
          "output_type": "stream",
          "name": "stdout",
          "text": [
            "Evaluation \t Proposed point \t  Current eval. \t Best eval.\n",
            "init   \t [-0.84969467  2.25612281]. \t  -20.33436270766351 \t -19.908403246996286\n",
            "init   \t [-5.1188288  -2.02411446]. \t  -33.07414982069084 \t -19.908403246996286\n",
            "init   \t [-3.61721968 -4.17445279]. \t  -53.347974723929894 \t -19.908403246996286\n",
            "init   \t [-3.21269544 -1.58145816]. \t  -39.218472310354045 \t -19.908403246996286\n",
            "init   \t [-1.05710106  0.39748336]. \t  -19.908403246996286 \t -19.908403246996286\n",
            "1      \t [ 4.04077223 -4.24914728]. \t  -44.655863836006326 \t -19.908403246996286\n",
            "2      \t [4.64028151 5.12      ]. \t  -66.81752730899376 \t -19.908403246996286\n",
            "3      \t [-5.12  5.12]. \t  -57.849427451571785 \t -19.908403246996286\n",
            "4      \t [5.12       0.33809582]. \t  -44.29589120518327 \t -19.908403246996286\n",
            "5      \t [ 0.22553122 -5.12      ]. \t  -37.4442083812247 \t -19.908403246996286\n",
            "6      \t [0.75630513 5.12      ]. \t  -39.100651914461935 \t -19.908403246996286\n",
            "7      \t [ 1.73165733 -1.39031839]. \t  -33.79944486006294 \t -19.908403246996286\n",
            "8      \t [-5.12        1.53252438]. \t  -51.065262035482036 \t -19.908403246996286\n",
            "9      \t [2.3401352  2.12959221]. \t  -28.512708117067863 \t -19.908403246996286\n",
            "10     \t [-0.69320436 -2.54695233]. \t  -40.02880483078059 \t -19.908403246996286\n",
            "11     \t [-2.12390134  5.12      ]. \t  -36.31595932191016 \t -19.908403246996286\n",
            "12     \t [-2.92078456  2.70660755]. \t  -29.76277421970933 \t -19.908403246996286\n",
            "13     \t [ 1.87123045 -3.6303233 ]. \t  -36.60977631840857 \t -19.908403246996286\n",
            "14     \t [ 5.12       -2.11637184]. \t  -35.95991261291692 \t -19.908403246996286\n",
            "15     \t [0.87623754 0.65025495]. \t  -19.92967328725949 \t -19.908403246996286\n",
            "16     \t [5.12       2.65908472]. \t  -51.402180795159225 \t -19.908403246996286\n",
            "17     \t [-2.87561161  0.51297874]. \t  -31.4008686770216 \t -19.908403246996286\n",
            "18     \t [2.47998251 4.04391683]. \t  -42.80288409346009 \t -19.908403246996286\n",
            "19     \t [-1.74997847 -5.12      ]. \t  -41.98849093025048 \t -19.908403246996286\n",
            "20     \t [3.63714851 1.07184182]. \t  -31.890559735488843 \t -19.908403246996286\n"
          ]
        }
      ]
    },
    {
      "cell_type": "code",
      "metadata": {
        "colab": {
          "base_uri": "https://localhost:8080/"
        },
        "id": "wTxsSZxFGBB5",
        "outputId": "4870f7f1-9569-4b56-cb08-a518f0e6d8e1"
      },
      "source": [
        "### ESTIMATED GP EI GRADIENTS\n",
        "\n",
        "np.random.seed(run_num_2)\n",
        "surrogate_approx_2 = GaussianProcess(cov_func, optimize=opt)\n",
        "\n",
        "approx_2 = GPGO_multi(surrogate_approx_2, Acquisition_new(util_grad_approx), objfunc, param)\n",
        "approx_2.run(init_evals=n_init, max_iter=iters)\n"
      ],
      "execution_count": null,
      "outputs": [
        {
          "output_type": "stream",
          "name": "stdout",
          "text": [
            "Evaluation \t Proposed point \t  Current eval. \t Best eval.\n",
            "init   \t [-0.6554122  -4.85451539]. \t  -43.490296251903594 \t -18.964539418712707\n",
            "init   \t [ 0.50854377 -0.6622987 ]. \t  -35.91861667536101 \t -18.964539418712707\n",
            "init   \t [-0.81543371 -1.73737143]. \t  -20.479562046739524 \t -18.964539418712707\n",
            "init   \t [-3.02439799  1.2213347 ]. \t  -18.964539418712707 \t -18.964539418712707\n",
            "init   \t [-2.05153614 -2.3876887 ]. \t  -28.041315668371354 \t -18.964539418712707\n",
            "1      \t [ 5.12 -5.12]. \t  -57.849427451571785 \t -18.964539418712707\n",
            "2      \t [4.77484577 5.12      ]. \t  -60.169093311219 \t -18.964539418712707\n",
            "3      \t [-0.33018751  5.12      ]. \t  -43.86159508626071 \t -18.964539418712707\n",
            "4      \t [5.12       0.08035632]. \t  -30.17891149546477 \t -18.964539418712707\n",
            "5      \t [-5.12  5.12]. \t  -57.849427451571785 \t -18.964539418712707\n",
            "6      \t [-5.12 -5.12]. \t  -57.849427451571785 \t -18.964539418712707\n",
            "7      \t [2.21222967 2.42058184]. \t  -37.182830503110985 \t -18.964539418712707\n",
            "8      \t [-5.12       -1.23376938]. \t  -39.428867644576115 \t -18.964539418712707\n",
            "9      \t [ 2.61529471 -2.99623712]. \t  -33.30885030765323 \t -18.964539418712707\n",
            "10     \t [-0.72600779  2.16940141]. \t  -21.884701106061854 \t -18.964539418712707\n",
            "11     \t [-5.12        2.08416156]. \t  -34.6343258313273 \t -18.964539418712707\n",
            "12     \t [5.12      2.4530537]. \t  -54.51028817434575 \t -18.964539418712707\n",
            "13     \t [ 5.12       -2.31183251]. \t  -48.05733685983902 \t -18.964539418712707\n",
            "14     \t [-2.68770585  3.8501487 ]. \t  -39.97688083153335 \t -18.964539418712707\n",
            "15     \t [ 2.83679658 -0.18929861]. \t  -19.17381405192582 \t -18.964539418712707\n",
            "16     \t [ 2.01548556 -5.12      ]. \t  -33.0341935848719 \t -18.964539418712707\n",
            "17     \t [2.14374511 5.12      ]. \t  -37.329176254533884 \t -18.964539418712707\n",
            "18     \t [-2.80497738 -5.12      ]. \t  -43.40656977218383 \t -18.964539418712707\n",
            "19     \t [-2.24038654 -0.19774968]. \t  -21.230443793905764 \t -18.964539418712707\n",
            "20     \t [0.69558842 0.97492405]. \t  \u001b[92m-14.910754535749911\u001b[0m \t -14.910754535749911\n"
          ]
        }
      ]
    },
    {
      "cell_type": "code",
      "metadata": {
        "colab": {
          "base_uri": "https://localhost:8080/"
        },
        "id": "-dgzIrUIGCGT",
        "outputId": "6b2066c6-33c5-498b-ac2f-99bc42a3b709"
      },
      "source": [
        "### ESTIMATED GP EI GRADIENTS\n",
        "\n",
        "np.random.seed(run_num_3)\n",
        "surrogate_approx_3 = GaussianProcess(cov_func, optimize=opt)\n",
        "\n",
        "approx_3 = GPGO_multi(surrogate_approx_3, Acquisition_new(util_grad_approx), objfunc, param)\n",
        "approx_3.run(init_evals=n_init, max_iter=iters)\n"
      ],
      "execution_count": null,
      "outputs": [
        {
          "output_type": "stream",
          "name": "stdout",
          "text": [
            "Evaluation \t Proposed point \t  Current eval. \t Best eval.\n",
            "init   \t [0.52017052 2.1314337 ]. \t  -27.953858411008774 \t -10.607662635789808\n",
            "init   \t [-2.14113547  0.11087468]. \t  -10.607662635789808 \t -10.607662635789808\n",
            "init   \t [4.02377681 4.05804123]. \t  -33.42749829480097 \t -10.607662635789808\n",
            "init   \t [-3.83400642 -2.99783293]. \t  -28.650953928965198 \t -10.607662635789808\n",
            "init   \t [-4.59297584 -0.6061072 ]. \t  -57.6631355589384 \t -10.607662635789808\n",
            "1      \t [ 5.12 -5.12]. \t  -57.849427451571785 \t -10.607662635789808\n",
            "2      \t [-4.61904204  5.12      ]. \t  -67.59102009462822 \t -10.607662635789808\n",
            "3      \t [ 5.12       -0.40159891]. \t  -47.234806525771404 \t -10.607662635789808\n",
            "4      \t [ 0.29071736 -5.12      ]. \t  -41.53976060750644 \t -10.607662635789808\n",
            "5      \t [ 1.34927722 -1.51093783]. \t  -39.92092770530185 \t -10.607662635789808\n",
            "6      \t [-0.80321914  5.12      ]. \t  -36.28798476592165 \t -10.607662635789808\n",
            "7      \t [-2.83254219  2.46988965]. \t  -38.98833187418504 \t -10.607662635789808\n",
            "8      \t [-5.12 -5.12]. \t  -57.849427451571785 \t -10.607662635789808\n",
            "9      \t [-1.29193397 -2.45233747]. \t  -39.842384439838895 \t -10.607662635789808\n",
            "10     \t [2.99550784 1.38871498]. \t  -28.558995798076847 \t -10.607662635789808\n",
            "11     \t [ 2.85586124 -3.62592368]. \t  -42.16143820182259 \t -10.607662635789808\n",
            "12     \t [-2.30541263 -5.12      ]. \t  -47.651402374765254 \t -10.607662635789808\n",
            "13     \t [-5.12        2.15780815]. \t  -38.10681437517889 \t -10.607662635789808\n",
            "14     \t [1.78454006 5.12      ]. \t  -39.95607651318983 \t -10.607662635789808\n",
            "15     \t [5.12       2.19509189]. \t  -40.36119576236298 \t -10.607662635789808\n",
            "16     \t [-0.59568858  0.19929874]. \t  -25.508930004113893 \t -10.607662635789808\n",
            "17     \t [-0.87023704  3.35303777]. \t  -31.175042757774655 \t -10.607662635789808\n",
            "18     \t [ 5.12       -2.64157806]. \t  -52.20017772659336 \t -10.607662635789808\n",
            "19     \t [5.12 5.12]. \t  -57.849427451571785 \t -10.607662635789808\n",
            "20     \t [2.4519435  2.74120935]. \t  -43.62589778835599 \t -10.607662635789808\n"
          ]
        }
      ]
    },
    {
      "cell_type": "code",
      "metadata": {
        "colab": {
          "base_uri": "https://localhost:8080/"
        },
        "id": "hOtG-2sCGCKS",
        "outputId": "fa24adbc-12b1-4f53-bb8b-f96707453e3f"
      },
      "source": [
        "### ESTIMATED GP EI GRADIENTS\n",
        "\n",
        "np.random.seed(run_num_4)\n",
        "surrogate_approx_4 = GaussianProcess(cov_func, optimize=opt)\n",
        "\n",
        "approx_4 = GPGO_multi(surrogate_approx_4, Acquisition_new(util_grad_approx), objfunc, param)\n",
        "approx_4.run(init_evals=n_init, max_iter=iters)\n"
      ],
      "execution_count": null,
      "outputs": [
        {
          "output_type": "stream",
          "name": "stdout",
          "text": [
            "Evaluation \t Proposed point \t  Current eval. \t Best eval.\n",
            "init   \t [4.78238555 0.48365823]. \t  -51.03163809010808 \t -14.323038259018315\n",
            "init   \t [4.84028785 2.19971578]. \t  -39.78645699016559 \t -14.323038259018315\n",
            "init   \t [ 2.02474316 -2.90724357]. \t  -14.323038259018315 \t -14.323038259018315\n",
            "init   \t [ 4.87705042 -5.05620219]. \t  -52.80627247106233 \t -14.323038259018315\n",
            "init   \t [-2.52946061 -0.66773471]. \t  -41.61497868486559 \t -14.323038259018315\n",
            "1      \t [-0.75213717  4.73292922]. \t  -43.90258428635684 \t -14.323038259018315\n",
            "2      \t [-5.12 -5.12]. \t  -57.849427451571785 \t -14.323038259018315\n",
            "3      \t [-5.12        3.36771998]. \t  -57.0065931877583 \t -14.323038259018315\n",
            "4      \t [-0.95956457 -5.12      ]. \t  -30.16648642810128 \t -14.323038259018315\n",
            "5      \t [0.89090861 1.10665806]. \t  \u001b[92m-6.439742827630441\u001b[0m \t -6.439742827630441\n",
            "6      \t [2.95832758 5.12      ]. \t  -38.01725113264108 \t -6.439742827630441\n",
            "7      \t [-5.12       -1.83363717]. \t  -37.2704152332493 \t -6.439742827630441\n",
            "8      \t [-2.00817359  2.13669147]. \t  -12.078369779736487 \t -6.439742827630441\n",
            "9      \t [ 0.4230478  -1.07673892]. \t  -21.3321142799052 \t -6.439742827630441\n",
            "10     \t [ 5.12       -2.25305237]. \t  -44.19273313346537 \t -6.439742827630441\n",
            "11     \t [ 1.8232651 -5.12     ]. \t  -37.80649803925334 \t -6.439742827630441\n",
            "12     \t [1.6839459  2.60377786]. \t  -41.595889727023355 \t -6.439742827630441\n",
            "13     \t [-5.12        0.70852619]. \t  -42.00320709533461 \t -6.439742827630441\n",
            "14     \t [-2.65165755 -3.36538842]. \t  -50.781811177162076 \t -6.439742827630441\n",
            "15     \t [-3.29111523  5.12      ]. \t  -52.31086086365826 \t -6.439742827630441\n",
            "16     \t [5.12 5.12]. \t  -57.849427451571785 \t -6.439742827630441\n",
            "17     \t [ 2.38665718 -0.33870784]. \t  -38.669958428841746 \t -6.439742827630441\n",
            "18     \t [-0.38601631  1.12960897]. \t  -22.104850973209388 \t -6.439742827630441\n",
            "19     \t [-0.10204959 -4.13543896]. \t  -22.506057749492076 \t -6.439742827630441\n",
            "20     \t [ 1.30180419 -2.20995822]. \t  -27.28694921186064 \t -6.439742827630441\n"
          ]
        }
      ]
    },
    {
      "cell_type": "code",
      "metadata": {
        "colab": {
          "base_uri": "https://localhost:8080/"
        },
        "id": "JF_SxcEvGCOl",
        "outputId": "60dd7f39-2f03-4106-87c3-a5a9625bdedb"
      },
      "source": [
        "### ESTIMATED GP EI GRADIENTS\n",
        "\n",
        "np.random.seed(run_num_5)\n",
        "surrogate_approx_5 = GaussianProcess(cov_func, optimize=opt)\n",
        "\n",
        "approx_5 = GPGO_multi(surrogate_approx_5, Acquisition_new(util_grad_approx), objfunc, param)\n",
        "approx_5.run(init_evals=n_init, max_iter=iters)\n"
      ],
      "execution_count": null,
      "outputs": [
        {
          "output_type": "stream",
          "name": "stdout",
          "text": [
            "Evaluation \t Proposed point \t  Current eval. \t Best eval.\n",
            "init   \t [-2.84678993  3.79629882]. \t  -33.93442008827236 \t -7.8108627039749745\n",
            "init   \t [-3.00319585  4.2865757 ]. \t  -39.673876075575784 \t -7.8108627039749745\n",
            "init   \t [-0.11866943  1.14425716]. \t  -7.8108627039749745 \t -7.8108627039749745\n",
            "init   \t [2.72289645 0.1886002 ]. \t  -25.38160395721669 \t -7.8108627039749745\n",
            "init   \t [-2.08076286 -3.19773462]. \t  -22.589982116319675 \t -7.8108627039749745\n",
            "1      \t [ 5.12       -4.82910414]. \t  -57.47682591577337 \t -7.8108627039749745\n",
            "2      \t [5.12 5.12]. \t  -57.849427451571785 \t -7.8108627039749745\n",
            "3      \t [-5.12       -0.04624623]. \t  -29.346055646927017 \t -7.8108627039749745\n",
            "4      \t [1.00367618 5.12      ]. \t  -29.934747080138813 \t -7.8108627039749745\n",
            "5      \t [-5.12 -5.12]. \t  -57.849427451571785 \t -7.8108627039749745\n",
            "6      \t [ 1.10695801 -5.12      ]. \t  -32.324518858419424 \t -7.8108627039749745\n",
            "7      \t [ 5.12       -1.43814139]. \t  -50.24710665015467 \t -7.8108627039749745\n",
            "8      \t [ 0.60095115 -1.8798776 ]. \t  -24.66556063641847 \t -7.8108627039749745\n",
            "9      \t [5.12       1.92589268]. \t  -33.698387675740456 \t -7.8108627039749745\n",
            "10     \t [-2.19754621  0.01747611]. \t  -11.653313172299129 \t -7.8108627039749745\n",
            "11     \t [2.18576673 2.78412814]. \t  -26.47378646614346 \t -7.8108627039749745\n",
            "12     \t [-5.12        2.61671811]. \t  -53.201212371109406 \t -7.8108627039749745\n",
            "13     \t [-5.12       -2.41250675]. \t  -53.2715259261543 \t -7.8108627039749745\n",
            "14     \t [ 2.79552797 -3.03525441]. \t  -24.450326225720026 \t -7.8108627039749745\n",
            "15     \t [-1.68214973 -5.12      ]. \t  -45.889533379211336 \t -7.8108627039749745\n",
            "16     \t [-0.5525305   2.80290375]. \t  -34.35862747203634 \t -7.8108627039749745\n",
            "17     \t [-0.13848235  0.11768802]. \t  \u001b[92m-6.197250199569677\u001b[0m \t -6.197250199569677\n",
            "18     \t [-2.74272761  1.33636317]. \t  -34.92914966386003 \t -6.197250199569677\n",
            "19     \t [-1.85557444 -1.21696296]. \t  -16.70570198614631 \t -6.197250199569677\n",
            "20     \t [0.60700641 0.51646576]. \t  -38.40538148979724 \t -6.197250199569677\n"
          ]
        }
      ]
    },
    {
      "cell_type": "code",
      "metadata": {
        "colab": {
          "base_uri": "https://localhost:8080/"
        },
        "id": "-kDxZtJsGCR3",
        "outputId": "79b4487d-c875-4030-dcb9-cecd86b9d4c0"
      },
      "source": [
        "### ESTIMATED GP EI GRADIENTS\n",
        "\n",
        "np.random.seed(run_num_6)\n",
        "surrogate_approx_6 = GaussianProcess(cov_func, optimize=opt)\n",
        "\n",
        "approx_6 = GPGO_multi(surrogate_approx_6, Acquisition_new(util_grad_approx), objfunc, param)\n",
        "approx_6.run(init_evals=n_init, max_iter=iters)\n"
      ],
      "execution_count": null,
      "outputs": [
        {
          "output_type": "stream",
          "name": "stdout",
          "text": [
            "Evaluation \t Proposed point \t  Current eval. \t Best eval.\n",
            "init   \t [ 4.02288795 -1.72052679]. \t  -31.08835710146886 \t -17.28954482757088\n",
            "init   \t [ 3.28938622 -4.69302655]. \t  -58.797867722203385 \t -17.28954482757088\n",
            "init   \t [-4.0175956   0.97333314]. \t  -17.28954482757088 \t -17.28954482757088\n",
            "init   \t [ 0.30532979 -0.83141193]. \t  -19.296253155889353 \t -17.28954482757088\n",
            "init   \t [-1.68542362  1.25459899]. \t  -28.650630936276173 \t -17.28954482757088\n",
            "1      \t [-3.50682913 -4.82182882]. \t  -61.17719800274786 \t -17.28954482757088\n",
            "2      \t [5.12 5.12]. \t  -57.849427451571785 \t -17.28954482757088\n",
            "3      \t [-5.12  5.12]. \t  -57.849427451571785 \t -17.28954482757088\n",
            "4      \t [0.39543546 5.12      ]. \t  -46.999373090619045 \t -17.28954482757088\n",
            "5      \t [2.8423059  1.91250897]. \t  -17.72966633001967 \t -17.28954482757088\n",
            "6      \t [-5.12       -1.80313796]. \t  -38.89894920549178 \t -17.28954482757088\n",
            "7      \t [-0.11793256 -4.27602974]. \t  -32.548561739375906 \t -17.28954482757088\n",
            "8      \t [5.12      1.1216648]. \t  -32.9651620711159 \t -17.28954482757088\n",
            "9      \t [-2.1524198  -1.84298302]. \t  \u001b[92m-16.75975404440311\u001b[0m \t -16.75975404440311\n",
            "10     \t [-2.34769642  4.03943034]. \t  -37.894150188377196 \t -16.75975404440311\n",
            "11     \t [-5.12        2.43494875]. \t  -54.029955969540694 \t -16.75975404440311\n",
            "12     \t [0.64354516 2.21401111]. \t  -29.27501012413403 \t -16.75975404440311\n",
            "13     \t [ 1.64082062 -2.38178664]. \t  -42.06569784214023 \t -16.75975404440311\n",
            "14     \t [2.746907  4.1429452]. \t  -38.67324835367704 \t -16.75975404440311\n",
            "15     \t [-3.14397632 -0.44795825]. \t  -33.37562844678702 \t -16.75975404440311\n",
            "16     \t [ 5.12       -3.46514499]. \t  -60.69309434914981 \t -16.75975404440311\n",
            "17     \t [2.39403896 0.12596162]. \t  -26.583469909964354 \t -16.75975404440311\n",
            "18     \t [-1.17930262 -2.57979762]. \t  -32.51789696770649 \t -16.75975404440311\n",
            "19     \t [ 1.64771181 -5.04664027]. \t  -44.60341226542793 \t -16.75975404440311\n",
            "20     \t [-3.8240752  -2.91744674]. \t  -29.96233531213317 \t -16.75975404440311\n"
          ]
        }
      ]
    },
    {
      "cell_type": "code",
      "metadata": {
        "colab": {
          "base_uri": "https://localhost:8080/"
        },
        "id": "fKB8MCD_GCVI",
        "outputId": "0e28576e-31a5-4691-95d1-0e746013aee2"
      },
      "source": [
        "### ESTIMATED GP EI GRADIENTS\n",
        "\n",
        "np.random.seed(run_num_7)\n",
        "surrogate_approx_7 = GaussianProcess(cov_func, optimize=opt)\n",
        "\n",
        "approx_7 = GPGO_multi(surrogate_approx_7, Acquisition_new(util_grad_approx), objfunc, param)\n",
        "approx_7.run(init_evals=n_init, max_iter=iters)\n"
      ],
      "execution_count": null,
      "outputs": [
        {
          "output_type": "stream",
          "name": "stdout",
          "text": [
            "Evaluation \t Proposed point \t  Current eval. \t Best eval.\n",
            "init   \t [-4.33860312  2.86636843]. \t  -45.646133072936244 \t -22.52235437888213\n",
            "init   \t [-0.63068947  2.28828342]. \t  -34.83012662845338 \t -22.52235437888213\n",
            "init   \t [4.8946126  0.39419771]. \t  -44.09657005662876 \t -22.52235437888213\n",
            "init   \t [ 0.01147355 -4.38219639]. \t  -36.613209822404315 \t -22.52235437888213\n",
            "init   \t [-2.37118484e+00 -1.20319155e-03]. \t  -22.52235437888213 \t -22.52235437888213\n",
            "1      \t [-5.12 -5.12]. \t  -57.849427451571785 \t -22.52235437888213\n",
            "2      \t [ 5.12 -5.12]. \t  -57.849427451571785 \t -22.52235437888213\n",
            "3      \t [3.59148274 5.12      ]. \t  -60.216456152688124 \t -22.52235437888213\n",
            "4      \t [-4.02558214 -1.33646422]. \t  -33.289738493146906 \t -22.52235437888213\n",
            "5      \t [ 1.40596234 -0.96124897]. \t  \u001b[92m-21.500321781402842\u001b[0m \t -21.500321781402842\n",
            "6      \t [-1.80774681  5.12      ]. \t  -38.64341172628781 \t -21.500321781402842\n",
            "7      \t [2.33744232 2.13046197]. \t  -28.40011689272525 \t -21.500321781402842\n",
            "8      \t [ 3.57934997 -2.5392969 ]. \t  -57.73916802836034 \t -21.500321781402842\n",
            "9      \t [-2.52339264 -3.63387362]. \t  -56.130766161259324 \t -21.500321781402842\n",
            "10     \t [-5.12  5.12]. \t  -57.849427451571785 \t -21.500321781402842\n",
            "11     \t [0.80579214 5.12      ]. \t  -36.139848403673454 \t -21.500321781402842\n",
            "12     \t [ 2.3217479 -5.12     ]. \t  -48.67213262645645 \t -21.500321781402842\n",
            "13     \t [5.12      2.9941621]. \t  -37.896447000753255 \t -21.500321781402842\n",
            "14     \t [-0.64387    -1.53213345]. \t  -38.743890774607934 \t -21.500321781402842\n",
            "15     \t [ 3.25667925 -0.42133209]. \t  -40.0061081202604 \t -21.500321781402842\n",
            "16     \t [-5.12        0.58600144]. \t  -47.84333141665796 \t -21.500321781402842\n",
            "17     \t [-2.19405477  0.94961621]. \t  \u001b[92m-12.769362746067559\u001b[0m \t -12.769362746067559\n",
            "18     \t [ 1.19347349 -2.25353536]. \t  -23.24745028953262 \t -12.769362746067559\n",
            "19     \t [0.63513526 0.6105198 ]. \t  -35.06714553712486 \t -12.769362746067559\n",
            "20     \t [-3.55098647  4.45289609]. \t  -71.4942359968112 \t -12.769362746067559\n"
          ]
        }
      ]
    },
    {
      "cell_type": "code",
      "metadata": {
        "colab": {
          "base_uri": "https://localhost:8080/"
        },
        "id": "4unvifF-GCXp",
        "outputId": "1fe58352-9650-4451-f50e-f0b2fba22524"
      },
      "source": [
        "### ESTIMATED GP EI GRADIENTS\n",
        "\n",
        "np.random.seed(run_num_8)\n",
        "surrogate_approx_8 = GaussianProcess(cov_func, optimize=opt)\n",
        "\n",
        "approx_8 = GPGO_multi(surrogate_approx_8, Acquisition_new(util_grad_approx), objfunc, param)\n",
        "approx_8.run(init_evals=n_init, max_iter=iters)\n"
      ],
      "execution_count": null,
      "outputs": [
        {
          "output_type": "stream",
          "name": "stdout",
          "text": [
            "Evaluation \t Proposed point \t  Current eval. \t Best eval.\n",
            "init   \t [3.82391708 4.79785639]. \t  -50.20079446939181 \t -13.871821018360485\n",
            "init   \t [3.78055209 0.31596228]. \t  -36.5114251593508 \t -13.871821018360485\n",
            "init   \t [-2.73686192 -5.00327624]. \t  -43.34985765011677 \t -13.871821018360485\n",
            "init   \t [-0.7119993  -0.99992207]. \t  -13.871821018360485 \t -13.871821018360485\n",
            "init   \t [ 0.23218863 -0.22126801]. \t  -17.190590355445654 \t -13.871821018360485\n",
            "1      \t [-3.08049418  4.13284171]. \t  -31.107529727094295 \t -13.871821018360485\n",
            "2      \t [ 5.12 -5.12]. \t  -57.849427451571785 \t -13.871821018360485\n",
            "3      \t [-5.12       -0.39982603]. \t  -47.168314618373735 \t -13.871821018360485\n",
            "4      \t [ 1.18398246 -4.40957112]. \t  -45.244868241394975 \t -13.871821018360485\n",
            "5      \t [0.42088125 3.28854336]. \t  -42.179413920587116 \t -13.871821018360485\n",
            "6      \t [-2.38772959  1.21881037]. \t  -32.85298868042359 \t -13.871821018360485\n",
            "7      \t [ 5.12       -2.11274933]. \t  -35.79454727217525 \t -13.871821018360485\n",
            "8      \t [-5.12       -3.49173971]. \t  -61.103494390414404 \t -13.871821018360485\n",
            "9      \t [-5.12       2.6239697]. \t  -52.926625135329516 \t -13.871821018360485\n",
            "10     \t [5.12       2.45000556]. \t  -54.43791404861162 \t -13.871821018360485\n",
            "11     \t [-2.40451671 -2.09521426]. \t  -30.162091324476282 \t -13.871821018360485\n",
            "12     \t [ 2.1322248  -1.86139614]. \t  -14.826688922921893 \t -13.871821018360485\n",
            "13     \t [-5.12  5.12]. \t  -57.849427451571785 \t -13.871821018360485\n",
            "14     \t [1.72922631 1.31540625]. \t  -30.01695541807097 \t -13.871821018360485\n",
            "15     \t [ 3.24236214 -3.38194626]. \t  -48.843606251286204 \t -13.871821018360485\n",
            "16     \t [-0.29473695 -2.7236633 ]. \t  -31.926489425824137 \t -13.871821018360485\n",
            "17     \t [-0.74487209  0.60054416]. \t  -29.307654133805116 \t -13.871821018360485\n",
            "18     \t [0.68465518 4.4767246 ]. \t  -54.39442390069189 \t -13.871821018360485\n",
            "19     \t [ 1.55367953 -0.95890877]. \t  -23.10146106774845 \t -13.871821018360485\n",
            "20     \t [-2.29349869  3.07090807]. \t  -28.365985948307426 \t -13.871821018360485\n"
          ]
        }
      ]
    },
    {
      "cell_type": "code",
      "metadata": {
        "colab": {
          "base_uri": "https://localhost:8080/"
        },
        "id": "85OIXcg7GCaJ",
        "outputId": "0fc4d879-c8c0-4964-9013-6efa437cf71c"
      },
      "source": [
        "### ESTIMATED GP EI GRADIENTS\n",
        "\n",
        "np.random.seed(run_num_9)\n",
        "surrogate_approx_9 = GaussianProcess(cov_func, optimize=opt)\n",
        "\n",
        "approx_9 = GPGO_multi(surrogate_approx_9, Acquisition_new(util_grad_approx), objfunc, param)\n",
        "approx_9.run(init_evals=n_init, max_iter=iters)\n"
      ],
      "execution_count": null,
      "outputs": [
        {
          "output_type": "stream",
          "name": "stdout",
          "text": [
            "Evaluation \t Proposed point \t  Current eval. \t Best eval.\n",
            "init   \t [-5.01376866  0.01919582]. \t  -25.248289026162446 \t -24.454800313488693\n",
            "init   \t [-0.04328148 -3.74958562]. \t  -24.454800313488693 \t -24.454800313488693\n",
            "init   \t [-3.66478248 -2.88195916]. \t  -39.46509426509438 \t -24.454800313488693\n",
            "init   \t [-0.83447623 -2.57944404]. \t  -31.06766397812992 \t -24.454800313488693\n",
            "init   \t [-4.25922917 -1.58209393]. \t  -49.922543556206975 \t -24.454800313488693\n",
            "1      \t [3.69491889 4.82146316]. \t  -55.95031066333101 \t -24.454800313488693\n",
            "2      \t [-2.19884748  5.08680517]. \t  -39.002426583702 \t -24.454800313488693\n",
            "3      \t [ 5.10452216 -0.68397541]. \t  -42.63453098314871 \t -24.454800313488693\n",
            "4      \t [ 4.49553512 -5.12      ]. \t  -69.13061496361522 \t -24.454800313488693\n",
            "5      \t [0.62467974 1.48438828]. \t  -39.6308447203286 \t -24.454800313488693\n",
            "6      \t [-5.12        3.40866689]. \t  -58.94182561458615 \t -24.454800313488693\n",
            "7      \t [ 2.19603187 -1.69761718]. \t  -27.610360693384305 \t -24.454800313488693\n",
            "8      \t [-2.38119449  1.43087426]. \t  -44.129868089806955 \t -24.454800313488693\n",
            "9      \t [0.6872057 5.12     ]. \t  -43.24087697385325 \t -24.454800313488693\n",
            "10     \t [3.74025274 1.8347847 ]. \t  -32.889215520669616 \t -24.454800313488693\n",
            "11     \t [-5.12 -5.12]. \t  -57.849427451571785 \t -24.454800313488693\n",
            "12     \t [-0.76267303 -0.52627876]. \t  -29.927206390244052 \t -24.454800313488693\n",
            "13     \t [-0.82768339  3.25125423]. \t  -26.645040149323993 \t -24.454800313488693\n",
            "14     \t [ 1.62944877 -5.12      ]. \t  -48.450494513017986 \t -24.454800313488693\n",
            "15     \t [ 5.12      -2.8268313]. \t  -42.27356404585153 \t -24.454800313488693\n",
            "16     \t [2.48032038 0.15135082]. \t  -30.289569643283833 \t -24.454800313488693\n",
            "17     \t [-2.34863672 -3.58784535]. \t  -52.7121118170932 \t -24.454800313488693\n",
            "18     \t [1.9358038  3.15894413]. \t  \u001b[92m-19.114613205711834\u001b[0m \t -19.114613205711834\n",
            "19     \t [ 2.2563622  -3.10193575]. \t  -27.09473486710963 \t -19.114613205711834\n",
            "20     \t [ 0.91410357 -0.70379965]. \t  \u001b[92m-15.61456315105384\u001b[0m \t -15.61456315105384\n"
          ]
        }
      ]
    },
    {
      "cell_type": "code",
      "metadata": {
        "colab": {
          "base_uri": "https://localhost:8080/"
        },
        "id": "QQBR-qJPGCcp",
        "outputId": "82f68619-6b99-4357-c230-61162afae856"
      },
      "source": [
        "### ESTIMATED GP EI GRADIENTS\n",
        "\n",
        "np.random.seed(run_num_10)\n",
        "surrogate_approx_10 = GaussianProcess(cov_func, optimize=opt)\n",
        "\n",
        "approx_10 = GPGO_multi(surrogate_approx_10, Acquisition_new(util_grad_approx), objfunc, param)\n",
        "approx_10.run(init_evals=n_init, max_iter=iters)\n"
      ],
      "execution_count": null,
      "outputs": [
        {
          "output_type": "stream",
          "name": "stdout",
          "text": [
            "Evaluation \t Proposed point \t  Current eval. \t Best eval.\n",
            "init   \t [ 2.77832339 -4.90750004]. \t  -41.674330194390116 \t -13.839458310244165\n",
            "init   \t [1.36855793 2.54775176]. \t  -44.69639719065837 \t -13.839458310244165\n",
            "init   \t [-0.01528819 -2.81808235]. \t  -13.839458310244165 \t -13.839458310244165\n",
            "init   \t [-3.09183626  2.66783449]. \t  -33.23221510904937 \t -13.839458310244165\n",
            "init   \t [-3.38830503 -4.2154003 ]. \t  -54.73014366983691 \t -13.839458310244165\n",
            "1      \t [ 5.12       -0.56860392]. \t  -48.33329462653664 \t -13.839458310244165\n",
            "2      \t [5.12 5.12]. \t  -57.849427451571785 \t -13.839458310244165\n",
            "3      \t [-5.12       -0.60617914]. \t  -47.14809173422459 \t -13.839458310244165\n",
            "4      \t [-5.12  5.12]. \t  -57.849427451571785 \t -13.839458310244165\n",
            "5      \t [-0.83793555  5.12      ]. \t  -34.37854972204409 \t -13.839458310244165\n",
            "6      \t [-1.23133194 -0.10555144]. \t  \u001b[92m-12.476791500721827\u001b[0m \t -12.476791500721827\n",
            "7      \t [ 1.89650273 -0.79267969]. \t  -13.616377620323334 \t -12.476791500721827\n",
            "8      \t [-0.3844307 -5.12     ]. \t  -46.54990815147971 \t -12.476791500721827\n",
            "9      \t [ 5.12       -3.59889678]. \t  -60.00749079695247 \t -12.476791500721827\n",
            "10     \t [4.53188807 2.23124506]. \t  -54.14073459521484 \t -12.476791500721827\n",
            "11     \t [2.14105337 5.12      ]. \t  -37.185718917688064 \t -12.476791500721827\n",
            "12     \t [-2.40775833 -1.64850897]. \t  -42.835241805149316 \t -12.476791500721827\n",
            "13     \t [-0.92614499  1.5730992 ]. \t  -23.353539325759506 \t -12.476791500721827\n",
            "14     \t [-5.12        2.04460682]. \t  -33.495330910396206 \t -12.476791500721827\n",
            "15     \t [ 2.34621985 -2.44967493]. \t  -46.69394877759186 \t -12.476791500721827\n",
            "16     \t [-5.12 -5.12]. \t  -57.849427451571785 \t -12.476791500721827\n",
            "17     \t [2.50557289 0.41816719]. \t  -45.15363822656498 \t -12.476791500721827\n",
            "18     \t [-5.12       -2.67621194]. \t  -50.55874957663676 \t -12.476791500721827\n",
            "19     \t [ 0.23651517 -0.75067054]. \t  -19.7310506126372 \t -12.476791500721827\n",
            "20     \t [-3.07730341  4.02975103]. \t  -27.039468593004102 \t -12.476791500721827\n"
          ]
        }
      ]
    },
    {
      "cell_type": "code",
      "metadata": {
        "colab": {
          "base_uri": "https://localhost:8080/"
        },
        "id": "JS8ejeQ2GCfi",
        "outputId": "73e85949-1a9e-4720-b70a-3436300897ee"
      },
      "source": [
        "### ESTIMATED GP EI GRADIENTS\n",
        "\n",
        "np.random.seed(run_num_11)\n",
        "surrogate_approx_11 = GaussianProcess(cov_func, optimize=opt)\n",
        "\n",
        "approx_11 = GPGO_multi(surrogate_approx_11, Acquisition_new(util_grad_approx), objfunc, param)\n",
        "approx_11.run(init_evals=n_init, max_iter=iters)\n"
      ],
      "execution_count": null,
      "outputs": [
        {
          "output_type": "stream",
          "name": "stdout",
          "text": [
            "Evaluation \t Proposed point \t  Current eval. \t Best eval.\n",
            "init   \t [-3.27403839 -4.92057353]. \t  -47.655641290890955 \t -10.679755252484755\n",
            "init   \t [-0.37664229  2.30332343]. \t  -35.87889240695259 \t -10.679755252484755\n",
            "init   \t [-0.81711509 -0.14922651]. \t  -10.679755252484755 \t -10.679755252484755\n",
            "init   \t [-4.98912446 -0.12931474]. \t  -28.05462905574235 \t -10.679755252484755\n",
            "init   \t [4.52410012 3.59214172]. \t  -71.62694632141611 \t -10.679755252484755\n",
            "1      \t [ 3.73200785 -5.12      ]. \t  -53.98067014717985 \t -10.679755252484755\n",
            "2      \t [-5.12  5.12]. \t  -57.849427451571785 \t -10.679755252484755\n",
            "3      \t [ 5.12       -0.89340857]. \t  -31.88302241474738 \t -10.679755252484755\n",
            "4      \t [ 0.31356402 -3.36750127]. \t  -42.05708481864723 \t -10.679755252484755\n",
            "5      \t [1.20983398 5.12      ]. \t  -37.89141107596778 \t -10.679755252484755\n",
            "6      \t [2.15080963 0.11826982]. \t  -11.439676550889681 \t -10.679755252484755\n",
            "7      \t [-1.93524339  5.12      ]. \t  -33.4862718263164 \t -10.679755252484755\n",
            "8      \t [-3.48347002  2.27241248]. \t  -48.64810254427019 \t -10.679755252484755\n",
            "9      \t [-2.67788885 -1.87845781]. \t  -27.854116556538568 \t -10.679755252484755\n",
            "10     \t [-5.12       -2.92559797]. \t  -38.55677784470835 \t -10.679755252484755\n",
            "11     \t [ 2.83474765 -2.22575392]. \t  -26.39547403977829 \t -10.679755252484755\n",
            "12     \t [2.20443125 2.05643774]. \t  -16.886419579677785 \t -10.679755252484755\n",
            "13     \t [5.12       1.17109886]. \t  -35.539266958134576 \t -10.679755252484755\n",
            "14     \t [ 0.63093325 -0.73443823]. \t  -28.716301994895176 \t -10.679755252484755\n",
            "15     \t [-0.79710765 -5.12      ]. \t  -36.64326227882336 \t -10.679755252484755\n",
            "16     \t [-5.01765715 -4.69688599]. \t  -60.5747493776605 \t -10.679755252484755\n",
            "17     \t [-2.12985375  0.23382464]. \t  -16.72420550350336 \t -10.679755252484755\n",
            "18     \t [ 5.12       -3.18030299]. \t  -44.798480966400724 \t -10.679755252484755\n",
            "19     \t [2.81838208 1.45745274]. \t  -35.54664367191485 \t -10.679755252484755\n",
            "20     \t [ 2.17713294 -0.83168554]. \t  -16.101447219533263 \t -10.679755252484755\n"
          ]
        }
      ]
    },
    {
      "cell_type": "code",
      "metadata": {
        "colab": {
          "base_uri": "https://localhost:8080/"
        },
        "id": "DXwjUVZ4GCii",
        "outputId": "8f84c691-2e73-48cb-a802-17b52ead8b53"
      },
      "source": [
        "### ESTIMATED GP EI GRADIENTS\n",
        "\n",
        "np.random.seed(run_num_12)\n",
        "surrogate_approx_12 = GaussianProcess(cov_func, optimize=opt)\n",
        "\n",
        "approx_12 = GPGO_multi(surrogate_approx_12, Acquisition_new(util_grad_approx), objfunc, param)\n",
        "approx_12.run(init_evals=n_init, max_iter=iters)\n"
      ],
      "execution_count": null,
      "outputs": [
        {
          "output_type": "stream",
          "name": "stdout",
          "text": [
            "Evaluation \t Proposed point \t  Current eval. \t Best eval.\n",
            "init   \t [-3.54137249  2.45810889]. \t  -57.903242869085595 \t -40.51116653209555\n",
            "init   \t [-2.42365424  0.34549139]. \t  -40.51116653209555 \t -40.51116653209555\n",
            "init   \t [-4.97075238  4.28796936]. \t  -55.62655915398208 \t -40.51116653209555\n",
            "init   \t [ 4.10332011 -4.77776458]. \t  -49.962803461970296 \t -40.51116653209555\n",
            "init   \t [ 4.6791612  -3.71497655]. \t  -62.183891474990624 \t -40.51116653209555\n",
            "1      \t [4.12828398 5.12      ]. \t  -49.04377260896486 \t -40.51116653209555\n",
            "2      \t [-5.12 -5.12]. \t  -57.849427451571785 \t -40.51116653209555\n",
            "3      \t [2.40876004 0.58851143]. \t  -43.04277302743077 \t -40.51116653209555\n",
            "4      \t [-0.48694043 -4.12694144]. \t  \u001b[92m-40.25082195724219\u001b[0m \t -40.25082195724219\n",
            "5      \t [-5.12       -1.54445324]. \t  -50.92251417551503 \t -40.25082195724219\n",
            "6      \t [-0.17351919  5.12      ]. \t  \u001b[92m-34.33221432232489\u001b[0m \t -34.33221432232489\n",
            "7      \t [5.12       1.93231879]. \t  \u001b[92m-33.54922824417045\u001b[0m \t -33.54922824417045\n",
            "8      \t [-0.03121352  2.24843835]. \t  \u001b[92m-15.150029595850128\u001b[0m \t -15.150029595850128\n",
            "9      \t [ 1.73113367 -2.25520828]. \t  -29.59260801488866 \t -15.150029595850128\n",
            "10     \t [-2.63276516 -2.71414931]. \t  -43.24941593642122 \t -15.150029595850128\n",
            "11     \t [-0.16141621 -0.7196103 ]. \t  -17.15882809146317 \t -15.150029595850128\n",
            "12     \t [ 5.12       -0.85996228]. \t  -33.291835254361104 \t -15.150029595850128\n",
            "13     \t [2.04934145 3.3920885 ]. \t  -33.97090682473313 \t -15.150029595850128\n",
            "14     \t [-2.49510298  5.12      ]. \t  -55.14551938923243 \t -15.150029595850128\n",
            "15     \t [ 1.66813929 -5.12      ]. \t  -46.62705804216887 \t -15.150029595850128\n",
            "16     \t [-0.06027734  0.92131314]. \t  \u001b[92m-2.7585991841207935\u001b[0m \t -2.7585991841207935\n",
            "17     \t [-0.05920265  0.91964754]. \t  -2.7807893797095122 \t -2.7585991841207935\n",
            "18     \t [-0.05892241  0.9185053 ]. \t  -2.8072103740709338 \t -2.7585991841207935\n",
            "19     \t [-2.55378441 -5.12      ]. \t  -54.8809336132919 \t -2.7585991841207935\n",
            "20     \t [-0.05874533  0.9182426 ]. \t  -2.8107863705763023 \t -2.7585991841207935\n"
          ]
        }
      ]
    },
    {
      "cell_type": "code",
      "metadata": {
        "colab": {
          "base_uri": "https://localhost:8080/"
        },
        "id": "CphOPndPGClX",
        "outputId": "14a68633-b2cd-4323-91cc-a698040ac3b1"
      },
      "source": [
        "### ESTIMATED GP EI GRADIENTS\n",
        "\n",
        "np.random.seed(run_num_13)\n",
        "surrogate_approx_13 = GaussianProcess(cov_func, optimize=opt)\n",
        "\n",
        "approx_13 = GPGO_multi(surrogate_approx_13, Acquisition_new(util_grad_approx), objfunc, param)\n",
        "approx_13.run(init_evals=n_init, max_iter=iters)\n"
      ],
      "execution_count": null,
      "outputs": [
        {
          "output_type": "stream",
          "name": "stdout",
          "text": [
            "Evaluation \t Proposed point \t  Current eval. \t Best eval.\n",
            "init   \t [ 2.84367268 -2.68757791]. \t  -33.58019830007169 \t -17.435826639425656\n",
            "init   \t [3.32061217 4.76927179]. \t  -56.857057997503354 \t -17.435826639425656\n",
            "init   \t [ 4.83943541 -0.47667971]. \t  -48.211919361679726 \t -17.435826639425656\n",
            "init   \t [1.11659482 2.82139151]. \t  -17.435826639425656 \t -17.435826639425656\n",
            "init   \t [1.45012065 2.27346667]. \t  -38.25352329493884 \t -17.435826639425656\n",
            "1      \t [-4.10876704 -2.60547476]. \t  -43.79941556238635 \t -17.435826639425656\n",
            "2      \t [-4.210207    3.16126079]. \t  -39.95389880951034 \t -17.435826639425656\n",
            "3      \t [-0.62130064 -5.12      ]. \t  -46.544229285892115 \t -17.435826639425656\n",
            "4      \t [-0.72633021 -0.82502427]. \t  -18.148697146605524 \t -17.435826639425656\n",
            "5      \t [-1.0340358  5.12     ]. \t  -30.221739637636595 \t -17.435826639425656\n",
            "6      \t [-5.12        0.27694188]. \t  -40.686145793284986 \t -17.435826639425656\n",
            "7      \t [ 5.12 -5.12]. \t  -57.849427451571785 \t -17.435826639425656\n",
            "8      \t [-5.12 -5.12]. \t  -57.849427451571785 \t -17.435826639425656\n",
            "9      \t [-1.61600898  1.74878416]. \t  -33.20515926070999 \t -17.435826639425656\n",
            "10     \t [5.12       2.46276819]. \t  -54.71755997826591 \t -17.435826639425656\n",
            "11     \t [ 1.69877736 -0.35321366]. \t  -32.21374347385563 \t -17.435826639425656\n",
            "12     \t [ 0.16665822 -2.74600132]. \t  -22.819056319215466 \t -17.435826639425656\n",
            "13     \t [-3.58664586  5.12      ]. \t  -60.343062125809 \t -17.435826639425656\n",
            "14     \t [ 2.15664178 -5.12      ]. \t  -38.04059978869893 \t -17.435826639425656\n",
            "15     \t [-2.67283106 -0.52418983]. \t  -41.96442415529511 \t -17.435826639425656\n",
            "16     \t [-2.78044126 -5.12      ]. \t  -44.754527089063885 \t -17.435826639425656\n",
            "17     \t [0.96029819 5.12      ]. \t  -30.15641227125117 \t -17.435826639425656\n",
            "18     \t [-0.57702358  3.30756977]. \t  -43.663446827333495 \t -17.435826639425656\n",
            "19     \t [-3.21492355  1.04796609]. \t  -19.698568468935775 \t -17.435826639425656\n",
            "20     \t [-2.50235735 -2.46612373]. \t  -52.11678819285541 \t -17.435826639425656\n"
          ]
        }
      ]
    },
    {
      "cell_type": "code",
      "metadata": {
        "colab": {
          "base_uri": "https://localhost:8080/"
        },
        "id": "ojHTeARNGCoi",
        "outputId": "e3328454-ae4f-43cd-d219-5c371c8a64f3"
      },
      "source": [
        "### ESTIMATED GP EI GRADIENTS\n",
        "\n",
        "np.random.seed(run_num_14)\n",
        "surrogate_approx_14 = GaussianProcess(cov_func, optimize=opt)\n",
        "\n",
        "approx_14 = GPGO_multi(surrogate_approx_14, Acquisition_new(util_grad_approx), objfunc, param)\n",
        "approx_14.run(init_evals=n_init, max_iter=iters)\n"
      ],
      "execution_count": null,
      "outputs": [
        {
          "output_type": "stream",
          "name": "stdout",
          "text": [
            "Evaluation \t Proposed point \t  Current eval. \t Best eval.\n",
            "init   \t [0.14277984 2.79721013]. \t  -18.683085263052178 \t -10.423838604848608\n",
            "init   \t [ 3.7931795  -5.03759925]. \t  -47.36348784446708 \t -10.423838604848608\n",
            "init   \t [-1.94830412  4.68586229]. \t  -40.19779334078636 \t -10.423838604848608\n",
            "init   \t [ 0.13431513 -1.86076749]. \t  -10.423838604848608 \t -10.423838604848608\n",
            "init   \t [ 0.40140736 -2.85434939]. \t  -30.353548735049138 \t -10.423838604848608\n",
            "1      \t [-4.98693264 -1.05452915]. \t  -26.596428006897547 \t -10.423838604848608\n",
            "2      \t [5.12 5.12]. \t  -57.849427451571785 \t -10.423838604848608\n",
            "3      \t [ 5.12       -0.06387262]. \t  -29.723345629311133 \t -10.423838604848608\n",
            "4      \t [-3.5633238 -5.12     ]. \t  -60.8408538559967 \t -10.423838604848608\n",
            "5      \t [-1.85186527  0.20590279]. \t  -14.7641440279331 \t -10.423838604848608\n",
            "6      \t [-5.12        2.75339211]. \t  -46.292765573980496 \t -10.423838604848608\n",
            "7      \t [1.8898502  0.23394118]. \t  -14.919838460614862 \t -10.423838604848608\n",
            "8      \t [1.75648642 5.12      ]. \t  -41.60251724788029 \t -10.423838604848608\n",
            "9      \t [3.48535319 2.41517406]. \t  -56.551418484801715 \t -10.423838604848608\n",
            "10     \t [-0.42384675 -5.12      ]. \t  -47.98129486870833 \t -10.423838604848608\n",
            "11     \t [ 3.28502088 -2.14149309]. \t  -31.258391693859537 \t -10.423838604848608\n",
            "12     \t [-2.44068163 -2.25909607]. \t  -40.945099211328895 \t -10.423838604848608\n",
            "13     \t [-5.12  5.12]. \t  -57.849427451571785 \t -10.423838604848608\n",
            "14     \t [-2.50251088  2.04472928]. \t  -30.834565452299973 \t -10.423838604848608\n",
            "15     \t [ 0.00517065 -0.05368178]. \t  \u001b[92m-0.5716443369544137\u001b[0m \t -0.5716443369544137\n",
            "16     \t [ 0.00520073 -0.05181773]. \t  \u001b[92m-0.5333981714774829\u001b[0m \t -0.5333981714774829\n",
            "17     \t [ 0.00521072 -0.05078269]. \t  \u001b[92m-0.5127117165319923\u001b[0m \t -0.5127117165319923\n",
            "18     \t [ 0.00522861 -0.05008738]. \t  \u001b[92m-0.4990648256355037\u001b[0m \t -0.4990648256355037\n",
            "19     \t [ 0.00523747 -0.04958834]. \t  \u001b[92m-0.4893743826504391\u001b[0m \t -0.4893743826504391\n",
            "20     \t [ 0.00524422 -0.04920012]. \t  \u001b[92m-0.481900677924445\u001b[0m \t -0.481900677924445\n"
          ]
        }
      ]
    },
    {
      "cell_type": "code",
      "metadata": {
        "colab": {
          "base_uri": "https://localhost:8080/"
        },
        "id": "vCJzn4vWGCs3",
        "outputId": "fbedeec2-9010-43c7-d1a9-bd870ae2ffbc"
      },
      "source": [
        "### ESTIMATED GP EI GRADIENTS\n",
        "\n",
        "np.random.seed(run_num_15)\n",
        "surrogate_approx_15 = GaussianProcess(cov_func, optimize=opt)\n",
        "\n",
        "approx_15 = GPGO_multi(surrogate_approx_15, Acquisition_new(util_grad_approx), objfunc, param)\n",
        "approx_15.run(init_evals=n_init, max_iter=iters)\n"
      ],
      "execution_count": null,
      "outputs": [
        {
          "output_type": "stream",
          "name": "stdout",
          "text": [
            "Evaluation \t Proposed point \t  Current eval. \t Best eval.\n",
            "init   \t [ 3.57189322 -3.28810573]. \t  -54.938487770767075 \t -7.990765314336182\n",
            "init   \t [-4.56332069 -1.41784631]. \t  -60.750198753157726 \t -7.990765314336182\n",
            "init   \t [-2.29989449  0.3072023 ]. \t  -31.984997246800887 \t -7.990765314336182\n",
            "init   \t [-1.9873903  -2.00218256]. \t  -7.990765314336182 \t -7.990765314336182\n",
            "init   \t [-3.97576933 -2.5610341 ]. \t  -41.754957769694336 \t -7.990765314336182\n",
            "1      \t [5.12      4.8007629]. \t  -58.83631552706962 \t -7.990765314336182\n",
            "2      \t [-5.12      5.068432]. \t  -55.52393816380152 \t -7.990765314336182\n",
            "3      \t [0.00795356 5.12      ]. \t  -28.937261227682868 \t -7.990765314336182\n",
            "4      \t [2.25293715 1.11070296]. \t  -18.817019042331907 \t -7.990765314336182\n",
            "5      \t [-0.33197535 -5.12      ]. \t  -43.96084683626894 \t -7.990765314336182\n",
            "6      \t [5.12       0.08147475]. \t  -30.213300455194748 \t -7.990765314336182\n",
            "7      \t [ 0.59198955 -1.56889437]. \t  -40.26515083237238 \t -7.990765314336182\n",
            "8      \t [-5.12 -5.12]. \t  -57.849427451571785 \t -7.990765314336182\n",
            "9      \t [-2.39515266  3.29912428]. \t  -47.566195826484126 \t -7.990765314336182\n",
            "10     \t [0.2257593  2.17448169]. \t  -18.69323390739617 \t -7.990765314336182\n",
            "11     \t [-5.12        1.74834893]. \t  -42.08517559489344 \t -7.990765314336182\n",
            "12     \t [ 2.132085 -5.12    ]. \t  -36.72111208335065 \t -7.990765314336182\n",
            "13     \t [2.41652656 3.84339982]. \t  -43.72977764892319 \t -7.990765314336182\n",
            "14     \t [5.12       2.25664427]. \t  -44.43450730115528 \t -7.990765314336182\n",
            "15     \t [-2.63102745 -5.12      ]. \t  -52.64528831300923 \t -7.990765314336182\n",
            "16     \t [-0.08612264  0.53762361]. \t  -21.44703942600277 \t -7.990765314336182\n",
            "17     \t [ 3.00320403 -0.77494328]. \t  -18.06097345966665 \t -7.990765314336182\n",
            "18     \t [-1.38799482 -2.76081657]. \t  -36.493750305063124 \t -7.990765314336182\n",
            "19     \t [ 1.10265193 -3.52288256]. \t  -35.532252564689834 \t -7.990765314336182\n",
            "20     \t [ 3.87272803 -0.60031097]. \t  -36.46765569949622 \t -7.990765314336182\n"
          ]
        }
      ]
    },
    {
      "cell_type": "code",
      "metadata": {
        "colab": {
          "base_uri": "https://localhost:8080/"
        },
        "id": "bGGkhp-kGCw6",
        "outputId": "79514a41-893f-4478-8a5c-00a0922d09c2"
      },
      "source": [
        "### ESTIMATED GP EI GRADIENTS\n",
        "\n",
        "np.random.seed(run_num_16)\n",
        "surrogate_approx_16 = GaussianProcess(cov_func, optimize=opt)\n",
        "\n",
        "approx_16 = GPGO_multi(surrogate_approx_16, Acquisition_new(util_grad_approx), objfunc, param)\n",
        "approx_16.run(init_evals=n_init, max_iter=iters)\n"
      ],
      "execution_count": null,
      "outputs": [
        {
          "output_type": "stream",
          "name": "stdout",
          "text": [
            "Evaluation \t Proposed point \t  Current eval. \t Best eval.\n",
            "init   \t [-2.83349935  0.23719262]. \t  -22.27210456874814 \t -22.27210456874814\n",
            "init   \t [ 0.51918292 -4.65303603]. \t  -57.57021076017139 \t -22.27210456874814\n",
            "init   \t [-1.42613673 -2.83565116]. \t  -33.89145899403749 \t -22.27210456874814\n",
            "init   \t [ 1.9325559  -3.44339021]. \t  -35.85029586225333 \t -22.27210456874814\n",
            "init   \t [-4.39987336  4.51595121]. \t  -77.78800881964571 \t -22.27210456874814\n",
            "1      \t [2.142749   4.83374619]. \t  -36.69381850109535 \t -22.27210456874814\n",
            "2      \t [5.12       0.59289917]. \t  -47.620520561702925 \t -22.27210456874814\n",
            "3      \t [-5.12 -5.12]. \t  -57.849427451571785 \t -22.27210456874814\n",
            "4      \t [1.00686592 0.83549834]. \t  \u001b[92m-6.603799654593312\u001b[0m \t -6.603799654593312\n",
            "5      \t [-0.94229218  3.24295449]. \t  -21.612313565214063 \t -6.603799654593312\n",
            "6      \t [ 5.12 -5.12]. \t  -57.849427451571785 \t -6.603799654593312\n",
            "7      \t [-5.12       -1.65377245]. \t  -47.34413519198449 \t -6.603799654593312\n",
            "8      \t [5.12       4.25504088]. \t  -57.346761728233865 \t -6.603799654593312\n",
            "9      \t [ 5.12      -2.2159263]. \t  -41.710446945433894 \t -6.603799654593312\n",
            "10     \t [-5.12        1.50296316]. \t  -51.1818788755448 \t -6.603799654593312\n",
            "11     \t [2.52046695 1.9987247 ]. \t  -30.265402225907145 \t -6.603799654593312\n",
            "12     \t [ 0.61975078 -0.7789833 ]. \t  -26.480276607653337 \t -6.603799654593312\n",
            "13     \t [-1.27022853  5.12      ]. \t  -41.80577083397016 \t -6.603799654593312\n",
            "14     \t [-2.37027109 -5.12      ]. \t  -51.400776349696216 \t -6.603799654593312\n",
            "15     \t [-0.59152185  1.20637645]. \t  -27.490143512227558 \t -6.603799654593312\n",
            "16     \t [ 2.83178712 -0.80749341]. \t  -20.221073192268584 \t -6.603799654593312\n",
            "17     \t [0.77437548 3.02752574]. \t  -18.389178289981604 \t -6.603799654593312\n",
            "18     \t [-2.68064112  2.4260011 ]. \t  -46.23107300405626 \t -6.603799654593312\n",
            "19     \t [-1.77714038 -0.94448152]. \t  -12.955522769251866 \t -6.603799654593312\n",
            "20     \t [ 3.45569769 -4.61735471]. \t  -70.27933734324651 \t -6.603799654593312\n"
          ]
        }
      ]
    },
    {
      "cell_type": "code",
      "metadata": {
        "id": "Yrs2mp7hGC1Z",
        "colab": {
          "base_uri": "https://localhost:8080/"
        },
        "outputId": "28d314e7-58c4-4354-ca24-531f49bb2e56"
      },
      "source": [
        "### ESTIMATED GP EI GRADIENTS\n",
        "\n",
        "np.random.seed(run_num_17)\n",
        "surrogate_approx_17 = GaussianProcess(cov_func, optimize=opt)\n",
        "\n",
        "approx_17 = GPGO_multi(surrogate_approx_17, Acquisition_new(util_grad_approx), objfunc, param)\n",
        "approx_17.run(init_evals=n_init, max_iter=iters)\n"
      ],
      "execution_count": null,
      "outputs": [
        {
          "output_type": "stream",
          "name": "stdout",
          "text": [
            "Evaluation \t Proposed point \t  Current eval. \t Best eval.\n",
            "init   \t [-2.10263037  0.31320838]. \t  -20.395145364684023 \t -20.395145364684023\n",
            "init   \t [-3.15882714 -4.42470033]. \t  -53.03732051200137 \t -20.395145364684023\n",
            "init   \t [2.93873111 1.60085526]. \t  -29.989224812583537 \t -20.395145364684023\n",
            "init   \t [1.40821398 0.77417363]. \t  -29.451989415882437 \t -20.395145364684023\n",
            "init   \t [-4.71999574 -1.45598869]. \t  -55.89242173757483 \t -20.395145364684023\n",
            "1      \t [ 5.12 -5.12]. \t  -57.849427451571785 \t -20.395145364684023\n",
            "2      \t [-4.70696357  5.12      ]. \t  -63.75144562567341 \t -20.395145364684023\n",
            "3      \t [0.05624733 5.12      ]. \t  -29.545906146758426 \t -20.395145364684023\n",
            "4      \t [5.12 5.12]. \t  -57.849427451571785 \t -20.395145364684023\n",
            "5      \t [ 1.077264   -3.51432684]. \t  -34.62591651354173 \t -20.395145364684023\n",
            "6      \t [ 5.12     -1.253805]. \t  -40.735792813734875 \t -20.395145364684023\n",
            "7      \t [-5.12        1.83143795]. \t  -37.382366135599646 \t -20.395145364684023\n",
            "8      \t [-1.9827193  3.0868246]. \t  \u001b[92m-14.9700520753292\u001b[0m \t -14.9700520753292\n",
            "9      \t [-1.18642067 -1.99220414]. \t  \u001b[92m-11.499065585906756\u001b[0m \t -11.499065585906756\n",
            "10     \t [5.12       2.05334662]. \t  -33.69745702520561 \t -11.499065585906756\n",
            "11     \t [ 2.52175123 -1.51538035]. \t  -48.51570497901355 \t -11.499065585906756\n",
            "12     \t [2.39043519 4.26295961]. \t  -52.42291450458801 \t -11.499065585906756\n",
            "13     \t [-0.57836353 -5.12      ]. \t  -48.0713559643157 \t -11.499065585906756\n",
            "14     \t [-0.15351628  2.41431795]. \t  -28.740332158157948 \t -11.499065585906756\n",
            "15     \t [-2.13586078  5.12      ]. \t  -36.91416235725701 \t -11.499065585906756\n",
            "16     \t [-0.16169182 -0.81111696]. \t  -11.669433815852022 \t -11.499065585906756\n",
            "17     \t [ 2.5492251 -5.12     ]. \t  -54.94876029309843 \t -11.499065585906756\n",
            "18     \t [-0.52560078  0.07159203]. \t  -21.14706168452146 \t -11.499065585906756\n",
            "19     \t [-2.98544993  2.11046676]. \t  -15.722335694215834 \t -11.499065585906756\n",
            "20     \t [-2.30729364 -2.00748084]. \t  -22.887244515575954 \t -11.499065585906756\n"
          ]
        }
      ]
    },
    {
      "cell_type": "code",
      "metadata": {
        "id": "f0HIEP3PIUEa",
        "colab": {
          "base_uri": "https://localhost:8080/"
        },
        "outputId": "60b62c0e-4f44-4cdd-d014-a80cc22cdc5b"
      },
      "source": [
        "### ESTIMATED GP EI GRADIENTS\n",
        "\n",
        "np.random.seed(run_num_18)\n",
        "surrogate_approx_18 = GaussianProcess(cov_func, optimize=opt)\n",
        "\n",
        "approx_18 = GPGO_multi(surrogate_approx_18, Acquisition_new(util_grad_approx), objfunc, param)\n",
        "approx_18.run(init_evals=n_init, max_iter=iters)\n"
      ],
      "execution_count": null,
      "outputs": [
        {
          "output_type": "stream",
          "name": "stdout",
          "text": [
            "Evaluation \t Proposed point \t  Current eval. \t Best eval.\n",
            "init   \t [1.53983224 0.05584255]. \t  -22.67190580753611 \t -22.67190580753611\n",
            "init   \t [ 3.87687906 -3.25795609]. \t  -38.990099416711985 \t -22.67190580753611\n",
            "init   \t [3.60686662 2.56139557]. \t  -56.66448698782129 \t -22.67190580753611\n",
            "init   \t [1.70088108 4.99604939]. \t  -40.894059318256296 \t -22.67190580753611\n",
            "init   \t [-2.48864335 -4.83014733]. \t  -54.6725749848372 \t -22.67190580753611\n",
            "1      \t [-5.00718904  2.9174042 ]. \t  -34.91005808676357 \t -22.67190580753611\n",
            "2      \t [-5.12       -1.37222114]. \t  -47.75423927503102 \t -22.67190580753611\n",
            "3      \t [-1.30205533  2.41793749]. \t  -39.45439977588798 \t -22.67190580753611\n",
            "4      \t [ 1.04804663 -5.12      ]. \t  -30.475340813935276 \t -22.67190580753611\n",
            "5      \t [-1.46191306 -1.336791  ]. \t  -38.82617470809004 \t -22.67190580753611\n",
            "6      \t [-2.73822047  5.12      ]. \t  -47.16201908944714 \t -22.67190580753611\n",
            "7      \t [ 5.12       -0.35162333]. \t  -45.00841525498375 \t -22.67190580753611\n",
            "8      \t [5.12 5.12]. \t  -57.849427451571785 \t -22.67190580753611\n",
            "9      \t [ 1.09298124 -2.48161346]. \t  -28.94492152427805 \t -22.67190580753611\n",
            "10     \t [-5.12 -5.12]. \t  -57.849427451571785 \t -22.67190580753611\n",
            "11     \t [ 5.12 -5.12]. \t  -57.849427451571785 \t -22.67190580753611\n",
            "12     \t [-3.41490673  0.75493339]. \t  -40.52602346648511 \t -22.67190580753611\n",
            "13     \t [-0.07692185  0.6970143 ]. \t  \u001b[92m-14.905180982515276\u001b[0m \t -14.905180982515276\n",
            "14     \t [-3.31657863 -2.66776777]. \t  -47.11895646880784 \t -14.905180982515276\n",
            "15     \t [-5.12  5.12]. \t  -57.849427451571785 \t -14.905180982515276\n",
            "16     \t [ 2.95861135 -1.0742201 ]. \t  \u001b[92m-11.311360352043167\u001b[0m \t -11.311360352043167\n",
            "17     \t [1.03718439 2.55512871]. \t  -27.282190100558818 \t -11.311360352043167\n",
            "18     \t [-0.54270008 -3.63144931]. \t  -49.90300290907253 \t -11.311360352043167\n",
            "19     \t [-0.7223645   0.68467701]. \t  -26.708366102360095 \t -11.311360352043167\n",
            "20     \t [-4.85217233  1.32463924]. \t  -43.83021651328372 \t -11.311360352043167\n"
          ]
        }
      ]
    },
    {
      "cell_type": "code",
      "metadata": {
        "id": "S3mxRQDLIUPC",
        "colab": {
          "base_uri": "https://localhost:8080/"
        },
        "outputId": "e0994c4d-2594-49d0-d027-319e2d64649f"
      },
      "source": [
        "### ESTIMATED GP EI GRADIENTS\n",
        "\n",
        "np.random.seed(run_num_19)\n",
        "surrogate_approx_19 = GaussianProcess(cov_func, optimize=opt)\n",
        "\n",
        "approx_19 = GPGO_multi(surrogate_approx_19, Acquisition_new(util_grad_approx), objfunc, param)\n",
        "approx_19.run(init_evals=n_init, max_iter=iters)\n"
      ],
      "execution_count": null,
      "outputs": [
        {
          "output_type": "stream",
          "name": "stdout",
          "text": [
            "Evaluation \t Proposed point \t  Current eval. \t Best eval.\n",
            "init   \t [-4.12125592  2.6751971 ]. \t  -41.43485596167127 \t -25.867003842388073\n",
            "init   \t [-2.59135515 -3.70553152]. \t  -51.60126035043229 \t -25.867003842388073\n",
            "init   \t [-1.72598719 -4.27008445]. \t  -43.97430127029199 \t -25.867003842388073\n",
            "init   \t [1.76104531 3.13952049]. \t  -25.867003842388073 \t -25.867003842388073\n",
            "init   \t [4.9432772  1.38916592]. \t  -44.66580306903559 \t -25.867003842388073\n",
            "1      \t [ 5.12 -5.12]. \t  -57.849427451571785 \t -25.867003842388073\n",
            "2      \t [ 1.77619464 -1.68663335]. \t  -28.238247751547107 \t -25.867003842388073\n",
            "3      \t [5.12 5.12]. \t  -57.849427451571785 \t -25.867003842388073\n",
            "4      \t [-1.28669736  5.12      ]. \t  -42.86569018501187 \t -25.867003842388073\n",
            "5      \t [-5.12       -0.97841384]. \t  -29.973843760306124 \t -25.867003842388073\n",
            "6      \t [-1.20053384  0.35650887]. \t  \u001b[92m-24.713832493597153\u001b[0m \t -24.713832493597153\n",
            "7      \t [ 1.5401455 -5.12     ]. \t  -50.980315881073935 \t -24.713832493597153\n",
            "8      \t [-5.12 -5.12]. \t  -57.849427451571785 \t -24.713832493597153\n",
            "9      \t [-5.12  5.12]. \t  -57.849427451571785 \t -24.713832493597153\n",
            "10     \t [ 5.12       -1.82150466]. \t  -37.89944862351517 \t -24.713832493597153\n",
            "11     \t [1.81556451 0.74307447]. \t  \u001b[92m-20.279435030464754\u001b[0m \t -20.279435030464754\n",
            "12     \t [2.0296664 5.12     ]. \t  -33.217480857356065 \t -20.279435030464754\n",
            "13     \t [-0.86365204  2.59155726]. \t  -29.303159740649676 \t -20.279435030464754\n",
            "14     \t [-0.58589236 -1.856717  ]. \t  -26.15545601869839 \t -20.279435030464754\n",
            "15     \t [-2.98478425 -0.75187469]. \t  \u001b[92m-19.402130285295044\u001b[0m \t -19.402130285295044\n",
            "16     \t [ 3.24038804 -3.28101404]. \t  -42.59795801419768 \t -19.402130285295044\n",
            "17     \t [-3.50068329  0.77003864]. \t  -41.59191012842804 \t -19.402130285295044\n",
            "18     \t [-5.12      -2.8069604]. \t  -43.30072734684 \t -19.402130285295044\n",
            "19     \t [0.3343493  0.40408088]. \t  -33.56845898817061 \t -19.402130285295044\n",
            "20     \t [2.48869387 0.94186978]. \t  -27.715124004800348 \t -19.402130285295044\n"
          ]
        }
      ]
    },
    {
      "cell_type": "code",
      "metadata": {
        "id": "Aawd59dRIUYn",
        "colab": {
          "base_uri": "https://localhost:8080/"
        },
        "outputId": "11f4f44d-e82c-48ea-d408-6a5c82bf3515"
      },
      "source": [
        "### ESTIMATED GP EI GRADIENTS\n",
        "\n",
        "np.random.seed(run_num_20)\n",
        "surrogate_approx_20 = GaussianProcess(cov_func, optimize=opt)\n",
        "\n",
        "approx_20 = GPGO_multi(surrogate_approx_20, Acquisition_new(util_grad_approx), objfunc, param)\n",
        "approx_20.run(init_evals=n_init, max_iter=iters)\n"
      ],
      "execution_count": null,
      "outputs": [
        {
          "output_type": "stream",
          "name": "stdout",
          "text": [
            "Evaluation \t Proposed point \t  Current eval. \t Best eval.\n",
            "init   \t [0.9024594  4.07258857]. \t  -20.24255447774017 \t -17.388691338534382\n",
            "init   \t [4.00927467 3.23417577]. \t  -35.55852254546393 \t -17.388691338534382\n",
            "init   \t [-4.75249064  1.96359764]. \t  -36.54582989269194 \t -17.388691338534382\n",
            "init   \t [-1.24230715  0.18955208]. \t  -17.388691338534382 \t -17.388691338534382\n",
            "init   \t [ 1.61742301 -3.13497377]. \t  -33.22932870179905 \t -17.388691338534382\n",
            "1      \t [-5.12       -3.80676527]. \t  -49.924648969758294 \t -17.388691338534382\n",
            "2      \t [ 5.12       -0.92644504]. \t  -30.832096866887802 \t -17.388691338534382\n",
            "3      \t [ 5.12 -5.12]. \t  -57.849427451571785 \t -17.388691338534382\n",
            "4      \t [-2.703692  5.12    ]. \t  -49.10340102448606 \t -17.388691338534382\n",
            "5      \t [-1.50460778 -5.12      ]. \t  -51.18436762764294 \t -17.388691338534382\n",
            "6      \t [1.91189042 0.46615145]. \t  -25.140989370455223 \t -17.388691338534382\n",
            "7      \t [-3.79264529 -1.02036442]. \t  -22.85951596461122 \t -17.388691338534382\n",
            "8      \t [-1.34490874  2.54597429]. \t  -43.492532920475306 \t -17.388691338534382\n",
            "9      \t [-1.17769307 -2.22263307]. \t  -20.227510591180682 \t -17.388691338534382\n",
            "10     \t [-5.12  5.12]. \t  -57.849427451571785 \t -17.388691338534382\n",
            "11     \t [5.12 5.12]. \t  -57.849427451571785 \t -17.388691338534382\n",
            "12     \t [ 2.22276021 -5.12      ]. \t  -42.162194244141176 \t -17.388691338534382\n",
            "13     \t [5.12      1.3220137]. \t  -45.04436553137296 \t -17.388691338534382\n",
            "14     \t [ 3.91456642 -2.67254799]. \t  -38.549455409847 \t -17.388691338534382\n",
            "15     \t [ 0.54280877 -1.04687998]. \t  -21.461723204348573 \t -17.388691338534382\n",
            "16     \t [2.3694811 5.12     ]. \t  -51.36082244118515 \t -17.388691338534382\n",
            "17     \t [-5.12       -0.32879815]. \t  -43.78404785514693 \t -17.388691338534382\n",
            "18     \t [-0.36926268  5.12      ]. \t  -45.87269510477007 \t -17.388691338534382\n",
            "19     \t [-2.90009445 -2.89711147]. \t  -20.727980909674358 \t -17.388691338534382\n",
            "20     \t [-2.78883732  0.66967683]. \t  -30.64532625784201 \t -17.388691338534382\n"
          ]
        }
      ]
    },
    {
      "cell_type": "code",
      "metadata": {
        "id": "xkgzPRbBTHaq",
        "colab": {
          "base_uri": "https://localhost:8080/"
        },
        "outputId": "466a5d69-08e9-4746-b4a8-be2ba943a6f3"
      },
      "source": [
        "end_approx = time.time()\n",
        "end_approx\n",
        "\n",
        "time_approx = end_approx - start_approx\n",
        "time_approx\n",
        "\n",
        "start_exact = time.time()\n",
        "start_exact"
      ],
      "execution_count": null,
      "outputs": [
        {
          "output_type": "execute_result",
          "data": {
            "text/plain": [
              "1637144108.6714842"
            ]
          },
          "metadata": {},
          "execution_count": 33
        }
      ]
    },
    {
      "cell_type": "code",
      "metadata": {
        "id": "7CG3Ndvb16Rb",
        "colab": {
          "base_uri": "https://localhost:8080/"
        },
        "outputId": "7920a920-694c-49fb-cdbf-d48f14d7e9f1"
      },
      "source": [
        "### EXACT GP EI GRADIENTS\n",
        "\n",
        "np.random.seed(run_num_1)\n",
        "surrogate_exact_1 = dGaussianProcess(cov_func, optimize=opt)\n",
        "\n",
        "exact_1 = dGPGO(surrogate_exact_1, Acquisition_new(util_grad_exact), objfunc, param)\n",
        "exact_1.run(init_evals=n_init, max_iter=iters)\n"
      ],
      "execution_count": null,
      "outputs": [
        {
          "output_type": "stream",
          "name": "stdout",
          "text": [
            "Evaluation \t Proposed point \t  Current eval. \t Best eval.\n",
            "init   \t [-0.84969467  2.25612281]. \t  -20.33436270766351 \t -19.908403246996286\n",
            "init   \t [-5.1188288  -2.02411446]. \t  -33.07414982069084 \t -19.908403246996286\n",
            "init   \t [-3.61721968 -4.17445279]. \t  -53.347974723929894 \t -19.908403246996286\n",
            "init   \t [-3.21269544 -1.58145816]. \t  -39.218472310354045 \t -19.908403246996286\n",
            "init   \t [-1.05710106  0.39748336]. \t  -19.908403246996286 \t -19.908403246996286\n",
            "1      \t [ 4.04077223 -4.24914728]. \t  -44.655863836006326 \t -19.908403246996286\n",
            "2      \t [4.42977754 2.01541797]. \t  -42.77403520288679 \t -19.908403246996286\n",
            "3      \t [ 0.05031295 -5.12      ]. \t  -29.422774631909775 \t -19.908403246996286\n",
            "4      \t [-5.12        4.36680096]. \t  -64.6912384379068 \t -19.908403246996286\n",
            "5      \t [ 1.88167735 -0.72065792]. \t  \u001b[92m-18.53182360078804\u001b[0m \t -18.53182360078804\n",
            "6      \t [-5.12        1.09549852]. \t  -31.871671507877338 \t -18.53182360078804\n",
            "7      \t [1.39882906 5.05766937]. \t  -46.23277535664419 \t -18.53182360078804\n",
            "8      \t [4.62022436 4.15131683]. \t  -60.04921821265257 \t -18.53182360078804\n",
            "9      \t [-1.93958654  4.93995468]. \t  -29.58026172519594 \t -18.53182360078804\n",
            "10     \t [ 1.2939493  -3.19450302]. \t  -31.18886654233498 \t -18.53182360078804\n",
            "11     \t [1.59857561 1.7135512 ]. \t  -35.904331076279114 \t -18.53182360078804\n",
            "12     \t [ 4.49258285 -0.82962694]. \t  -46.06374116087394 \t -18.53182360078804\n",
            "13     \t [-0.88951059 -2.45090719]. \t  -28.640704902813873 \t -18.53182360078804\n",
            "14     \t [-3.10691636  2.49379354]. \t  -38.03715290511505 \t -18.53182360078804\n",
            "15     \t [ 0.09199207 -0.48349482]. \t  -21.81295170314051 \t -18.53182360078804\n",
            "16     \t [ 2.52931119 -1.63453432]. \t  -45.53504589977706 \t -18.53182360078804\n",
            "17     \t [-0.52348071  3.95261922]. \t  -36.2284669845001 \t -18.53182360078804\n",
            "18     \t [-1.75757937  0.48705813]. \t  -32.81722187063595 \t -18.53182360078804\n",
            "19     \t [-1.88569813 -4.78721088]. \t  -36.62641259281669 \t -18.53182360078804\n",
            "20     \t [1.00827846 0.27921875]. \t  \u001b[92m-12.933686478303438\u001b[0m \t -12.933686478303438\n"
          ]
        }
      ]
    },
    {
      "cell_type": "code",
      "metadata": {
        "id": "-ilCPSAu9SAg",
        "colab": {
          "base_uri": "https://localhost:8080/"
        },
        "outputId": "00fd16b1-8856-4325-e059-0186fc93d154"
      },
      "source": [
        "### EXACT GP EI GRADIENTS\n",
        "\n",
        "np.random.seed(run_num_2)\n",
        "surrogate_exact_2 = dGaussianProcess(cov_func, optimize=opt)\n",
        "\n",
        "exact_2 = dGPGO(surrogate_exact_2, Acquisition_new(util_grad_exact), objfunc, param)\n",
        "exact_2.run(init_evals=n_init, max_iter=iters)\n"
      ],
      "execution_count": null,
      "outputs": [
        {
          "output_type": "stream",
          "name": "stdout",
          "text": [
            "Evaluation \t Proposed point \t  Current eval. \t Best eval.\n",
            "init   \t [-0.6554122  -4.85451539]. \t  -43.490296251903594 \t -18.964539418712707\n",
            "init   \t [ 0.50854377 -0.6622987 ]. \t  -35.91861667536101 \t -18.964539418712707\n",
            "init   \t [-0.81543371 -1.73737143]. \t  -20.479562046739524 \t -18.964539418712707\n",
            "init   \t [-3.02439799  1.2213347 ]. \t  -18.964539418712707 \t -18.964539418712707\n",
            "init   \t [-2.05153614 -2.3876887 ]. \t  -28.041315668371354 \t -18.964539418712707\n",
            "1      \t [4.81874241 3.07464552]. \t  -39.56740440269988 \t -18.964539418712707\n",
            "2      \t [ 4.84260546 -3.96517156]. \t  -43.91613432985733 \t -18.964539418712707\n",
            "3      \t [-5.12 -5.12]. \t  -57.849427451571785 \t -18.964539418712707\n",
            "4      \t [0.70799905 3.12454697]. \t  -25.781362594131053 \t -18.964539418712707\n",
            "5      \t [-5.12       -1.34933757]. \t  -46.58955473918141 \t -18.964539418712707\n",
            "6      \t [-4.40667555  4.45597249]. \t  -77.22380642989526 \t -18.964539418712707\n",
            "7      \t [ 3.30047968 -1.27609408]. \t  -37.27260610986593 \t -18.964539418712707\n",
            "8      \t [-1.30641393  4.19358628]. \t  -39.29289519767243 \t -18.964539418712707\n",
            "9      \t [2.67297837 1.38409886]. \t  -41.17680360445668 \t -18.964539418712707\n",
            "10     \t [ 1.76469521 -5.12      ]. \t  -41.11684723020419 \t -18.964539418712707\n",
            "11     \t [1.79838179 5.03471234]. \t  -35.82609781741636 \t -18.964539418712707\n",
            "12     \t [-0.98629548  1.39790692]. \t  -20.97614444064957 \t -18.964539418712707\n",
            "13     \t [-3.0619505  -0.27747329]. \t  -21.91821757206223 \t -18.964539418712707\n",
            "14     \t [4.52051443 0.0151121 ]. \t  -40.397368869855065 \t -18.964539418712707\n",
            "15     \t [-5.12        1.41960666]. \t  -49.691130719904336 \t -18.964539418712707\n",
            "16     \t [-3.05284446 -5.12      ]. \t  -38.79075226063044 \t -18.964539418712707\n",
            "17     \t [ 0.96353464 -2.72842193]. \t  -19.98565615102561 \t -18.964539418712707\n",
            "18     \t [4.66191489 5.00298098]. \t  -62.021319710275456 \t -18.964539418712707\n",
            "19     \t [-2.1010181   1.97565079]. \t  \u001b[92m-10.38187101701012\u001b[0m \t -10.38187101701012\n",
            "20     \t [ 2.70295854 -3.19885855]. \t  -37.293235437997495 \t -10.38187101701012\n"
          ]
        }
      ]
    },
    {
      "cell_type": "code",
      "metadata": {
        "id": "XieJ158mIvlP",
        "colab": {
          "base_uri": "https://localhost:8080/"
        },
        "outputId": "26dd7fce-0452-4b0f-f084-8e91d73b3942"
      },
      "source": [
        "### EXACT GP EI GRADIENTS\n",
        "\n",
        "np.random.seed(run_num_3)\n",
        "surrogate_exact_3 = dGaussianProcess(cov_func, optimize=opt)\n",
        "\n",
        "exact_3 = dGPGO(surrogate_exact_3, Acquisition_new(util_grad_exact), objfunc, param)\n",
        "exact_3.run(init_evals=n_init, max_iter=iters)\n"
      ],
      "execution_count": null,
      "outputs": [
        {
          "output_type": "stream",
          "name": "stdout",
          "text": [
            "Evaluation \t Proposed point \t  Current eval. \t Best eval.\n",
            "init   \t [0.52017052 2.1314337 ]. \t  -27.953858411008774 \t -10.607662635789808\n",
            "init   \t [-2.14113547  0.11087468]. \t  -10.607662635789808 \t -10.607662635789808\n",
            "init   \t [4.02377681 4.05804123]. \t  -33.42749829480097 \t -10.607662635789808\n",
            "init   \t [-3.83400642 -2.99783293]. \t  -28.650953928965198 \t -10.607662635789808\n",
            "init   \t [-4.59297584 -0.6061072 ]. \t  -57.6631355589384 \t -10.607662635789808\n",
            "1      \t [ 1.69820778 -3.15505283]. \t  -30.4172487012779 \t -10.607662635789808\n",
            "2      \t [-3.37574827  4.45054465]. \t  -67.82834279148828 \t -10.607662635789808\n",
            "3      \t [ 4.05064016 -1.63134992]. \t  -36.35432538784898 \t -10.607662635789808\n",
            "4      \t [-1.15557104 -5.12      ]. \t  -34.6689356281524 \t -10.607662635789808\n",
            "5      \t [3.57014251 1.19524803]. \t  -39.84627752637513 \t -10.607662635789808\n",
            "6      \t [ 4.46798017 -5.12      ]. \t  -68.68586219497874 \t -10.607662635789808\n",
            "7      \t [-5.12 -5.12]. \t  -57.849427451571785 \t -10.607662635789808\n",
            "8      \t [-0.77421212 -1.6988398 ]. \t  -25.129446648583542 \t -10.607662635789808\n",
            "9      \t [0.33097264 4.36233771]. \t  -50.4972564791689 \t -10.607662635789808\n",
            "10     \t [-2.03793036  0.91187693]. \t  \u001b[92m-6.76144731803633\u001b[0m \t -6.76144731803633\n",
            "11     \t [ 1.27765436 -0.70116326]. \t  -26.87345039474512 \t -6.76144731803633\n",
            "12     \t [-5.12        1.60750084]. \t  -49.31304358093215 \t -6.76144731803633\n",
            "13     \t [-1.64283266  1.57230845]. \t  -40.39271771975034 \t -6.76144731803633\n",
            "14     \t [0.16791489 0.07689657]. \t  \u001b[92m-6.246848229578385\u001b[0m \t -6.246848229578385\n",
            "15     \t [-1.2404138   0.02985033]. \t  -11.112932564419213 \t -6.246848229578385\n",
            "16     \t [5.00785594 5.03232409]. \t  -50.62062296005979 \t -6.246848229578385\n",
            "17     \t [-1.55940239 -3.29615801]. \t  -45.46762263509439 \t -6.246848229578385\n",
            "18     \t [2.33579704 3.93518592]. \t  -36.892912555507365 \t -6.246848229578385\n",
            "19     \t [ 0.95272705 -5.12      ]. \t  -30.270287309686367 \t -6.246848229578385\n",
            "20     \t [-1.26498569 -0.60441012]. \t  -30.829900692269767 \t -6.246848229578385\n"
          ]
        }
      ]
    },
    {
      "cell_type": "code",
      "metadata": {
        "id": "PhLBVOIfIvol",
        "colab": {
          "base_uri": "https://localhost:8080/"
        },
        "outputId": "65c8008e-88b9-4f93-8678-c09c86d0a7be"
      },
      "source": [
        "### EXACT GP EI GRADIENTS\n",
        "\n",
        "np.random.seed(run_num_4)\n",
        "surrogate_exact_4 = dGaussianProcess(cov_func, optimize=opt)\n",
        "\n",
        "exact_4 = dGPGO(surrogate_exact_4, Acquisition_new(util_grad_exact), objfunc, param)\n",
        "exact_4.run(init_evals=n_init, max_iter=iters)\n"
      ],
      "execution_count": null,
      "outputs": [
        {
          "output_type": "stream",
          "name": "stdout",
          "text": [
            "Evaluation \t Proposed point \t  Current eval. \t Best eval.\n",
            "init   \t [4.78238555 0.48365823]. \t  -51.03163809010808 \t -14.323038259018315\n",
            "init   \t [4.84028785 2.19971578]. \t  -39.78645699016559 \t -14.323038259018315\n",
            "init   \t [ 2.02474316 -2.90724357]. \t  -14.323038259018315 \t -14.323038259018315\n",
            "init   \t [ 4.87705042 -5.05620219]. \t  -52.80627247106233 \t -14.323038259018315\n",
            "init   \t [-2.52946061 -0.66773471]. \t  -41.61497868486559 \t -14.323038259018315\n",
            "1      \t [-5.12 -5.12]. \t  -57.849427451571785 \t -14.323038259018315\n",
            "2      \t [-0.9356617   4.54448646]. \t  -41.945730234839424 \t -14.323038259018315\n",
            "3      \t [-0.95998291 -5.12      ]. \t  -30.1607163567245 \t -14.323038259018315\n",
            "4      \t [0.49976441 1.02192631]. \t  -21.388835716483523 \t -14.323038259018315\n",
            "5      \t [-5.12        3.15229124]. \t  -43.100874683724356 \t -14.323038259018315\n",
            "6      \t [3.56583759 4.58335811]. \t  -71.53836326334684 \t -14.323038259018315\n",
            "7      \t [-5.12       -0.25183489]. \t  -39.10342163726967 \t -14.323038259018315\n",
            "8      \t [ 1.79446602 -5.12      ]. \t  -39.38714530613919 \t -14.323038259018315\n",
            "9      \t [-0.2638373  -2.42591789]. \t  -35.759115709874 \t -14.323038259018315\n",
            "10     \t [ 4.38798694 -2.55041342]. \t  -62.88543818818923 \t -14.323038259018315\n",
            "11     \t [1.91450651 1.82356497]. \t  \u001b[92m-13.93974571557904\u001b[0m \t -13.93974571557904\n",
            "12     \t [ 1.28174765 -0.57669723]. \t  -32.818163694076816 \t -13.93974571557904\n",
            "13     \t [-2.2870318   1.96894212]. \t  -21.60288529938694 \t -13.93974571557904\n",
            "14     \t [-3.0097143  -3.36159924]. \t  -36.828691472686565 \t -13.93974571557904\n",
            "15     \t [1.06116886 4.0465962 ]. \t  -18.65606782264638 \t -13.93974571557904\n",
            "16     \t [-4.09278935  4.85755333]. \t  -45.743629261263834 \t -13.93974571557904\n",
            "17     \t [0.92838213 3.01502631]. \t  \u001b[92m-10.992291303971456\u001b[0m \t -10.992291303971456\n",
            "18     \t [-1.61377914  1.47315463]. \t  -42.18416727847375 \t -10.992291303971456\n",
            "19     \t [-4.0302978   1.61277175]. \t  -36.61794318670101 \t -10.992291303971456\n",
            "20     \t [-4.97019826 -3.22219732]. \t  -43.5222046443181 \t -10.992291303971456\n"
          ]
        }
      ]
    },
    {
      "cell_type": "code",
      "metadata": {
        "id": "arbiPyj2IvsJ",
        "colab": {
          "base_uri": "https://localhost:8080/"
        },
        "outputId": "c50898f3-6aea-4211-a93e-a16dcdd87345"
      },
      "source": [
        "### EXACT GP EI GRADIENTS\n",
        "\n",
        "np.random.seed(run_num_5)\n",
        "surrogate_exact_5 = dGaussianProcess(cov_func, optimize=opt)\n",
        "\n",
        "exact_5 = dGPGO(surrogate_exact_5, Acquisition_new(util_grad_exact), objfunc, param)\n",
        "exact_5.run(init_evals=n_init, max_iter=iters)\n"
      ],
      "execution_count": null,
      "outputs": [
        {
          "output_type": "stream",
          "name": "stdout",
          "text": [
            "Evaluation \t Proposed point \t  Current eval. \t Best eval.\n",
            "init   \t [-2.84678993  3.79629882]. \t  -33.93442008827236 \t -7.8108627039749745\n",
            "init   \t [-3.00319585  4.2865757 ]. \t  -39.673876075575784 \t -7.8108627039749745\n",
            "init   \t [-0.11866943  1.14425716]. \t  -7.8108627039749745 \t -7.8108627039749745\n",
            "init   \t [2.72289645 0.1886002 ]. \t  -25.38160395721669 \t -7.8108627039749745\n",
            "init   \t [-2.08076286 -3.19773462]. \t  -22.589982116319675 \t -7.8108627039749745\n",
            "1      \t [ 4.32895605 -5.09732646]. \t  -61.29478907190488 \t -7.8108627039749745\n",
            "2      \t [4.02415917 4.76321328]. \t  -48.16778619122226 \t -7.8108627039749745\n",
            "3      \t [-5.12      -0.2720871]. \t  -40.382068322008536 \t -7.8108627039749745\n",
            "4      \t [-5.12 -5.12]. \t  -57.849427451571785 \t -7.8108627039749745\n",
            "5      \t [0.64616406 3.76259192]. \t  -39.85539268801165 \t -7.8108627039749745\n",
            "6      \t [ 0.45368249 -4.92011562]. \t  -45.2263140561282 \t -7.8108627039749745\n",
            "7      \t [-2.07609669 -0.08308392]. \t  \u001b[92m-6.770430619715153\u001b[0m \t -6.770430619715153\n",
            "8      \t [ 0.69059454 -1.80377245]. \t  -24.062293413375937 \t -6.770430619715153\n",
            "9      \t [-5.12        2.52152907]. \t  -55.19147058969826 \t -6.770430619715153\n",
            "10     \t [ 4.45978711 -2.54583523]. \t  -65.64163807030289 \t -6.770430619715153\n",
            "11     \t [-1.57961621 -0.92860595]. \t  -23.121525243350916 \t -6.770430619715153\n",
            "12     \t [3.06653578 2.39559043]. \t  -33.92793178626854 \t -6.770430619715153\n",
            "13     \t [-5.12       -2.60641792]. \t  -53.56476115139948 \t -6.770430619715153\n",
            "14     \t [-2.47192908  1.15504892]. \t  -31.67114230869505 \t -6.770430619715153\n",
            "15     \t [0.76583716 0.3116611 ]. \t  -23.46828666896688 \t -6.770430619715153\n",
            "16     \t [4.78260795 1.52619186]. \t  -53.032977636866654 \t -6.770430619715153\n",
            "17     \t [-0.57284214  1.93726165]. \t  -23.818874339312735 \t -6.770430619715153\n",
            "18     \t [1.84612464 4.73198936]. \t  -41.24999051102359 \t -6.770430619715153\n",
            "19     \t [-2.38633771 -0.94271884]. \t  -24.780463480788978 \t -6.770430619715153\n",
            "20     \t [ 1.10047987 -2.90316852]. \t  -13.361455156462116 \t -6.770430619715153\n"
          ]
        }
      ]
    },
    {
      "cell_type": "code",
      "metadata": {
        "id": "04KJCEm_Ivvf",
        "colab": {
          "base_uri": "https://localhost:8080/"
        },
        "outputId": "f709623a-9c67-4e19-ce97-cd140fd8c239"
      },
      "source": [
        "### EXACT GP EI GRADIENTS\n",
        "\n",
        "np.random.seed(run_num_6)\n",
        "surrogate_exact_6 = dGaussianProcess(cov_func, optimize=opt)\n",
        "\n",
        "exact_6 = dGPGO(surrogate_exact_6, Acquisition_new(util_grad_exact), objfunc, param)\n",
        "exact_6.run(init_evals=n_init, max_iter=iters)\n"
      ],
      "execution_count": null,
      "outputs": [
        {
          "output_type": "stream",
          "name": "stdout",
          "text": [
            "Evaluation \t Proposed point \t  Current eval. \t Best eval.\n",
            "init   \t [ 4.02288795 -1.72052679]. \t  -31.08835710146886 \t -17.28954482757088\n",
            "init   \t [ 3.28938622 -4.69302655]. \t  -58.797867722203385 \t -17.28954482757088\n",
            "init   \t [-4.0175956   0.97333314]. \t  -17.28954482757088 \t -17.28954482757088\n",
            "init   \t [ 0.30532979 -0.83141193]. \t  -19.296253155889353 \t -17.28954482757088\n",
            "init   \t [-1.68542362  1.25459899]. \t  -28.650630936276173 \t -17.28954482757088\n",
            "1      \t [-3.63314199 -4.59895004]. \t  -69.17906827599155 \t -17.28954482757088\n",
            "2      \t [4.48914029 2.92869999]. \t  -49.6932034994741 \t -17.28954482757088\n",
            "3      \t [0.82621778 4.40942473]. \t  -43.9415716851669 \t -17.28954482757088\n",
            "4      \t [-2.91508567  4.40569092]. \t  -47.5928067251325 \t -17.28954482757088\n",
            "5      \t [-0.40019056 -3.69616273]. \t  -45.23752535662341 \t -17.28954482757088\n",
            "6      \t [-5.12       -1.62438962]. \t  -48.66148937290729 \t -17.28954482757088\n",
            "7      \t [-5.12       3.0217412]. \t  -38.14879186693945 \t -17.28954482757088\n",
            "8      \t [4.97249185 0.36584776]. \t  -41.66149499528153 \t -17.28954482757088\n",
            "9      \t [2.1003772  0.49407343]. \t  -26.57254391967599 \t -17.28954482757088\n",
            "10     \t [3.63038763 5.06978973]. \t  -56.656290608494245 \t -17.28954482757088\n",
            "11     \t [ 1.71832945 -2.25893673]. \t  -30.593480243807534 \t -17.28954482757088\n",
            "12     \t [0.7778714  1.85534274]. \t  \u001b[92m-16.15903386304508\u001b[0m \t -16.15903386304508\n",
            "13     \t [-2.43528752 -2.20646142]. \t  -37.2821864970886 \t -16.15903386304508\n",
            "14     \t [-1.20105639  2.98663698]. \t  -17.370788370682035 \t -16.15903386304508\n",
            "15     \t [-1.70077313 -0.4542886 ]. \t  -35.73331159728951 \t -16.15903386304508\n",
            "16     \t [ 4.90472415 -3.31388097]. \t  -50.68392804367505 \t -16.15903386304508\n",
            "17     \t [-0.4697952   5.03088012]. \t  -45.53855510120901 \t -16.15903386304508\n",
            "18     \t [-3.32650066  2.4694831 ]. \t  -51.60440256888837 \t -16.15903386304508\n",
            "19     \t [ 0.98152167 -5.12      ]. \t  -29.955422098937028 \t -16.15903386304508\n",
            "20     \t [-0.02353775  1.5750139 ]. \t  -21.50005251803106 \t -16.15903386304508\n"
          ]
        }
      ]
    },
    {
      "cell_type": "code",
      "metadata": {
        "id": "tAOkme3CIvyO",
        "colab": {
          "base_uri": "https://localhost:8080/"
        },
        "outputId": "95de1b21-dcf9-4567-c10d-a2556d8175a4"
      },
      "source": [
        "### EXACT GP EI GRADIENTS\n",
        "\n",
        "np.random.seed(run_num_7)\n",
        "surrogate_exact_7 = dGaussianProcess(cov_func, optimize=opt)\n",
        "\n",
        "exact_7 = dGPGO(surrogate_exact_7, Acquisition_new(util_grad_exact), objfunc, param)\n",
        "exact_7.run(init_evals=n_init, max_iter=iters)\n"
      ],
      "execution_count": null,
      "outputs": [
        {
          "output_type": "stream",
          "name": "stdout",
          "text": [
            "Evaluation \t Proposed point \t  Current eval. \t Best eval.\n",
            "init   \t [-4.33860312  2.86636843]. \t  -45.646133072936244 \t -22.52235437888213\n",
            "init   \t [-0.63068947  2.28828342]. \t  -34.83012662845338 \t -22.52235437888213\n",
            "init   \t [4.8946126  0.39419771]. \t  -44.09657005662876 \t -22.52235437888213\n",
            "init   \t [ 0.01147355 -4.38219639]. \t  -36.613209822404315 \t -22.52235437888213\n",
            "init   \t [-2.37118484e+00 -1.20319155e-03]. \t  -22.52235437888213 \t -22.52235437888213\n",
            "1      \t [-5.12 -5.12]. \t  -57.849427451571785 \t -22.52235437888213\n",
            "2      \t [3.36336072 4.52412691]. \t  -68.20074440954015 \t -22.52235437888213\n",
            "3      \t [ 3.81570236 -4.87523301]. \t  -47.234127813742255 \t -22.52235437888213\n",
            "4      \t [-4.02558214 -1.33646422]. \t  -33.289738493146906 \t -22.52235437888213\n",
            "5      \t [ 2.08345712 -1.62083226]. \t  -25.56531840752674 \t -22.52235437888213\n",
            "6      \t [-5.06222639  5.11189301]. \t  -54.88345235987289 \t -22.52235437888213\n",
            "7      \t [-1.42652306  5.01672073]. \t  -46.210693549077874 \t -22.52235437888213\n",
            "8      \t [-2.68692539 -3.59693507]. \t  -52.21953057232421 \t -22.52235437888213\n",
            "9      \t [1.82898489 1.95523551]. \t  \u001b[92m-12.799530001633999\u001b[0m \t -12.799530001633999\n",
            "10     \t [-0.68525889 -1.18889563]. \t  -22.093924434485757 \t -12.799530001633999\n",
            "11     \t [-5.12       -0.20406557]. \t  -36.12011314849367 \t -12.799530001633999\n",
            "12     \t [ 1.97375236 -3.50532246]. \t  -36.31307568900058 \t -12.799530001633999\n",
            "13     \t [ 4.47641608 -2.66308524]. \t  -62.214332477671114 \t -12.799530001633999\n",
            "14     \t [1.62431368 0.31547602]. \t  -33.83832463400052 \t -12.799530001633999\n",
            "15     \t [1.00628252 3.86057176]. \t  -19.52252984285333 \t -12.799530001633999\n",
            "16     \t [-2.61061913  1.63293095]. \t  -43.87214691079575 \t -12.799530001633999\n",
            "17     \t [-0.6583163 -2.6636698]. \t  -38.137980613741036 \t -12.799530001633999\n",
            "18     \t [4.93487447 3.56465751]. \t  -57.07142965316001 \t -12.799530001633999\n",
            "19     \t [1.30004099 2.73234102]. \t  -33.35568467170227 \t -12.799530001633999\n",
            "20     \t [-0.67408594  0.74727166]. \t  -25.77522737335628 \t -12.799530001633999\n"
          ]
        }
      ]
    },
    {
      "cell_type": "code",
      "metadata": {
        "id": "69-J3EF4Iv1S",
        "colab": {
          "base_uri": "https://localhost:8080/"
        },
        "outputId": "d256e528-bd59-4c93-d419-3d09b94f2f1c"
      },
      "source": [
        "### EXACT GP EI GRADIENTS\n",
        "\n",
        "np.random.seed(run_num_8)\n",
        "surrogate_exact_8 = dGaussianProcess(cov_func, optimize=opt)\n",
        "\n",
        "exact_8 = dGPGO(surrogate_exact_8, Acquisition_new(util_grad_exact), objfunc, param)\n",
        "exact_8.run(init_evals=n_init, max_iter=iters)\n"
      ],
      "execution_count": null,
      "outputs": [
        {
          "output_type": "stream",
          "name": "stdout",
          "text": [
            "Evaluation \t Proposed point \t  Current eval. \t Best eval.\n",
            "init   \t [3.82391708 4.79785639]. \t  -50.20079446939181 \t -13.871821018360485\n",
            "init   \t [3.78055209 0.31596228]. \t  -36.5114251593508 \t -13.871821018360485\n",
            "init   \t [-2.73686192 -5.00327624]. \t  -43.34985765011677 \t -13.871821018360485\n",
            "init   \t [-0.7119993  -0.99992207]. \t  -13.871821018360485 \t -13.871821018360485\n",
            "init   \t [ 0.23218863 -0.22126801]. \t  -17.190590355445654 \t -13.871821018360485\n",
            "1      \t [ 4.96381252 -4.82580554]. \t  -53.60027026696133 \t -13.871821018360485\n",
            "2      \t [-5.03492225  2.95509263]. \t  -34.71822332027364 \t -13.871821018360485\n",
            "3      \t [-5.12       -1.42340976]. \t  -49.8150687567971 \t -13.871821018360485\n",
            "4      \t [ 1.07401995 -4.78714854]. \t  -32.819482405041285 \t -13.871821018360485\n",
            "5      \t [-1.77947142  3.28321304]. \t  -34.17655008183277 \t -13.871821018360485\n",
            "6      \t [0.92723218 4.08120806]. \t  -19.816911627445975 \t -13.871821018360485\n",
            "7      \t [ 2.03150538 -2.59544749]. \t  -29.313621174081007 \t -13.871821018360485\n",
            "8      \t [-2.58359992  0.20222924]. \t  -32.41109297985055 \t -13.871821018360485\n",
            "9      \t [ 5.09033741 -1.80057301]. \t  -37.59730661475024 \t -13.871821018360485\n",
            "10     \t [-5.12 -5.12]. \t  -57.849427451571785 \t -13.871821018360485\n",
            "11     \t [1.50495891 1.76896063]. \t  -34.2007540783535 \t -13.871821018360485\n",
            "12     \t [-0.88565031 -3.07466398]. \t  \u001b[92m-13.790235113281318\u001b[0m \t -13.790235113281318\n",
            "13     \t [-2.85512095 -2.28102615]. \t  -29.15682909499267 \t -13.790235113281318\n",
            "14     \t [5.11860196 2.27117782]. \t  -45.33551720343768 \t -13.790235113281318\n",
            "15     \t [-0.78379795  1.53534923]. \t  -30.618330993748707 \t -13.790235113281318\n",
            "16     \t [ 1.32245764 -0.02764522]. \t  -16.29713940794921 \t -13.790235113281318\n",
            "17     \t [-3.16221289  4.85687994]. \t  -42.126540901723686 \t -13.790235113281318\n",
            "18     \t [-5.12        0.89336899]. \t  -31.884495970888242 \t -13.790235113281318\n",
            "19     \t [ 2.56400174 -5.12      ]. \t  -54.70109424008582 \t -13.790235113281318\n",
            "20     \t [ 0.0420352  -2.30656294]. \t  -19.14837150591867 \t -13.790235113281318\n"
          ]
        }
      ]
    },
    {
      "cell_type": "code",
      "metadata": {
        "id": "vonm9jyuIv4t",
        "colab": {
          "base_uri": "https://localhost:8080/"
        },
        "outputId": "703b36d6-839b-474b-d6bc-c077769e023e"
      },
      "source": [
        "### EXACT GP EI GRADIENTS\n",
        "\n",
        "np.random.seed(run_num_9)\n",
        "surrogate_exact_9 = dGaussianProcess(cov_func, optimize=opt)\n",
        "\n",
        "exact_9 = dGPGO(surrogate_exact_9, Acquisition_new(util_grad_exact), objfunc, param)\n",
        "exact_9.run(init_evals=n_init, max_iter=iters)\n"
      ],
      "execution_count": null,
      "outputs": [
        {
          "output_type": "stream",
          "name": "stdout",
          "text": [
            "Evaluation \t Proposed point \t  Current eval. \t Best eval.\n",
            "init   \t [-5.01376866  0.01919582]. \t  -25.248289026162446 \t -24.454800313488693\n",
            "init   \t [-0.04328148 -3.74958562]. \t  -24.454800313488693 \t -24.454800313488693\n",
            "init   \t [-3.66478248 -2.88195916]. \t  -39.46509426509438 \t -24.454800313488693\n",
            "init   \t [-0.83447623 -2.57944404]. \t  -31.06766397812992 \t -24.454800313488693\n",
            "init   \t [-4.25922917 -1.58209393]. \t  -49.922543556206975 \t -24.454800313488693\n",
            "1      \t [3.69491889 4.82146316]. \t  -55.95031066333101 \t -24.454800313488693\n",
            "2      \t [-2.02106223  4.82097351]. \t  -33.10085788033846 \t -24.454800313488693\n",
            "3      \t [2.31293488 0.49744783]. \t  -39.44790049079931 \t -24.454800313488693\n",
            "4      \t [ 4.33918228 -3.34469103]. \t  -60.93504471189683 \t -24.454800313488693\n",
            "5      \t [-2.79126137  1.85705148]. \t  \u001b[92m-22.445787870163024\u001b[0m \t -22.445787870163024\n",
            "6      \t [0.55016819 3.32617646]. \t  -45.47907227310175 \t -22.445787870163024\n",
            "7      \t [-5.12 -5.12]. \t  -57.849427451571785 \t -22.445787870163024\n",
            "8      \t [-0.48692173 -0.06893675]. \t  \u001b[92m-21.13158901548811\u001b[0m \t -21.13158901548811\n",
            "9      \t [4.92132525 2.20506827]. \t  -37.49309934591211 \t -21.13158901548811\n",
            "10     \t [ 1.68449799 -2.40998397]. \t  -41.08870290008022 \t -21.13158901548811\n",
            "11     \t [-5.12        3.17866103]. \t  -44.69483535266673 \t -21.13158901548811\n",
            "12     \t [ 4.52779143 -1.6726632 ]. \t  -57.81685945152068 \t -21.13158901548811\n",
            "13     \t [-2.69003995  0.03498912]. \t  -21.15713418019195 \t -21.13158901548811\n",
            "14     \t [ 0.61330768 -5.12      ]. \t  -46.87186385952889 \t -21.13158901548811\n",
            "15     \t [-1.43253702  2.38377614]. \t  -44.29957689085761 \t -21.13158901548811\n",
            "16     \t [2.88204901 2.42098789]. \t  -35.58297920064872 \t -21.13158901548811\n",
            "17     \t [-3.95279224  4.7456756 ]. \t  -48.85436703489777 \t -21.13158901548811\n",
            "18     \t [-2.76430903 -4.94997416]. \t  -41.7357334235706 \t -21.13158901548811\n",
            "19     \t [ 0.25387285 -0.33310068]. \t  -25.406056796909738 \t -21.13158901548811\n",
            "20     \t [ 2.79677446 -5.12      ]. \t  -43.84986019358982 \t -21.13158901548811\n"
          ]
        }
      ]
    },
    {
      "cell_type": "code",
      "metadata": {
        "id": "6amuYlUdIv7r",
        "colab": {
          "base_uri": "https://localhost:8080/"
        },
        "outputId": "b093e42f-fd56-43da-8484-73609a4ee65a"
      },
      "source": [
        "### EXACT GP EI GRADIENTS\n",
        "\n",
        "np.random.seed(run_num_10)\n",
        "surrogate_exact_10 = dGaussianProcess(cov_func, optimize=opt)\n",
        "\n",
        "exact_10 = dGPGO(surrogate_exact_10, Acquisition_new(util_grad_exact), objfunc, param)\n",
        "exact_10.run(init_evals=n_init, max_iter=iters)\n"
      ],
      "execution_count": null,
      "outputs": [
        {
          "output_type": "stream",
          "name": "stdout",
          "text": [
            "Evaluation \t Proposed point \t  Current eval. \t Best eval.\n",
            "init   \t [ 2.77832339 -4.90750004]. \t  -41.674330194390116 \t -13.839458310244165\n",
            "init   \t [1.36855793 2.54775176]. \t  -44.69639719065837 \t -13.839458310244165\n",
            "init   \t [-0.01528819 -2.81808235]. \t  -13.839458310244165 \t -13.839458310244165\n",
            "init   \t [-3.09183626  2.66783449]. \t  -33.23221510904937 \t -13.839458310244165\n",
            "init   \t [-3.38830503 -4.2154003 ]. \t  -54.73014366983691 \t -13.839458310244165\n",
            "1      \t [4.54922969 4.99328486]. \t  -65.16269428931048 \t -13.839458310244165\n",
            "2      \t [ 4.88530663 -0.60647603]. \t  -44.56456522462214 \t -13.839458310244165\n",
            "3      \t [-4.15971409 -0.73573335]. \t  -33.366298330027085 \t -13.839458310244165\n",
            "4      \t [-1.28414399  0.11592725]. \t  -16.32892153952375 \t -13.839458310244165\n",
            "5      \t [-4.5050859   5.00650982]. \t  -65.36419794062027 \t -13.839458310244165\n",
            "6      \t [0.10579747 5.07144996]. \t  -28.85095188801787 \t -13.839458310244165\n",
            "7      \t [ 1.45217321 -0.61236025]. \t  -39.645423959144075 \t -13.839458310244165\n",
            "8      \t [-0.38260024 -5.12      ]. \t  -46.47164507187031 \t -13.839458310244165\n",
            "9      \t [3.81003016 2.08113637]. \t  -26.436004814318817 \t -13.839458310244165\n",
            "10     \t [-5.12        1.41669249]. \t  -49.592796529175935 \t -13.839458310244165\n",
            "11     \t [-1.77515859 -2.15312827]. \t  -20.495252314071806 \t -13.839458310244165\n",
            "12     \t [-5.12       -2.73208197]. \t  -47.512431634814114 \t -13.839458310244165\n",
            "13     \t [ 5.10031529 -3.51564416]. \t  -60.24618901940386 \t -13.839458310244165\n",
            "14     \t [ 1.06077897 -2.86125235]. \t  \u001b[92m-13.597709305032652\u001b[0m \t -13.597709305032652\n",
            "15     \t [-0.96237876  2.32091569]. \t  -20.900685478507306 \t -13.597709305032652\n",
            "16     \t [-5.12 -5.12]. \t  -57.849427451571785 \t -13.597709305032652\n",
            "17     \t [2.02496482 3.94435364]. \t  -20.38620584749213 \t -13.597709305032652\n",
            "18     \t [ 2.67228035 -2.91505178]. \t  -31.72102368548636 \t -13.597709305032652\n",
            "19     \t [-2.47839633 -0.29665913]. \t  -39.02833458859465 \t -13.597709305032652\n",
            "20     \t [-0.15424214 -2.50817807]. \t  -30.64139560541581 \t -13.597709305032652\n"
          ]
        }
      ]
    },
    {
      "cell_type": "code",
      "metadata": {
        "id": "VwbLIP9cIv-F",
        "colab": {
          "base_uri": "https://localhost:8080/"
        },
        "outputId": "cb853b3a-ecd5-466c-b553-965bd4918096"
      },
      "source": [
        "### EXACT GP EI GRADIENTS\n",
        "\n",
        "np.random.seed(run_num_11)\n",
        "surrogate_exact_11 = dGaussianProcess(cov_func, optimize=opt)\n",
        "\n",
        "exact_11 = dGPGO(surrogate_exact_11, Acquisition_new(util_grad_exact), objfunc, param)\n",
        "exact_11.run(init_evals=n_init, max_iter=iters)\n"
      ],
      "execution_count": null,
      "outputs": [
        {
          "output_type": "stream",
          "name": "stdout",
          "text": [
            "Evaluation \t Proposed point \t  Current eval. \t Best eval.\n",
            "init   \t [-3.27403839 -4.92057353]. \t  -47.655641290890955 \t -10.679755252484755\n",
            "init   \t [-0.37664229  2.30332343]. \t  -35.87889240695259 \t -10.679755252484755\n",
            "init   \t [-0.81711509 -0.14922651]. \t  -10.679755252484755 \t -10.679755252484755\n",
            "init   \t [-4.98912446 -0.12931474]. \t  -28.05462905574235 \t -10.679755252484755\n",
            "init   \t [4.52410012 3.59214172]. \t  -71.62694632141611 \t -10.679755252484755\n",
            "1      \t [ 3.03550212 -4.46785095]. \t  -49.22040431745476 \t -10.679755252484755\n",
            "2      \t [ 3.1242034  -0.44692918]. \t  -32.30319665958667 \t -10.679755252484755\n",
            "3      \t [-2.37391615 -2.12755363]. \t  -30.22800483532128 \t -10.679755252484755\n",
            "4      \t [-0.13935146 -5.12      ]. \t  -32.538548021795435 \t -10.679755252484755\n",
            "5      \t [-4.04281273  2.6141044 ]. \t  -41.07571123773391 \t -10.679755252484755\n",
            "6      \t [-5.12       -3.04904707]. \t  -38.69250493997703 \t -10.679755252484755\n",
            "7      \t [0.48249443 4.76103897]. \t  -52.14682097157273 \t -10.679755252484755\n",
            "8      \t [ 0.98830594 -2.97339376]. \t  \u001b[92m-9.9842077074804\u001b[0m \t -9.9842077074804\n",
            "9      \t [-2.4987636   4.63206655]. \t  -64.4498018549653 \t -9.9842077074804\n",
            "10     \t [2.3855129  1.59716573]. \t  -43.95754943847685 \t -9.9842077074804\n",
            "11     \t [-2.65558989  0.67002809]. \t  -37.90722554343539 \t -9.9842077074804\n",
            "12     \t [ 0.3965843  -0.97433381]. \t  -19.198525838401657 \t -9.9842077074804\n",
            "13     \t [ 5.05131067 -0.52568656]. \t  -46.17733437088973 \t -9.9842077074804\n",
            "14     \t [ 4.01509202 -2.52807025]. \t  -42.40189909379452 \t -9.9842077074804\n",
            "15     \t [-0.87183658 -2.00488457]. \t  \u001b[92m-7.855237016921377\u001b[0m \t -7.855237016921377\n",
            "16     \t [-5.01762281 -4.6968618 ]. \t  -60.57537502753269 \t -7.855237016921377\n",
            "17     \t [ 1.21790218 -2.11019084]. \t  -16.235585870121774 \t -7.855237016921377\n",
            "18     \t [2.97593319 5.01607692]. \t  -34.18229615605391 \t -7.855237016921377\n",
            "19     \t [-5.12        4.08987555]. \t  -47.20432902761277 \t -7.855237016921377\n",
            "20     \t [ 4.65693289 -4.23299658]. \t  -64.0589338482502 \t -7.855237016921377\n"
          ]
        }
      ]
    },
    {
      "cell_type": "code",
      "metadata": {
        "id": "MlUNFjc-JTBY",
        "colab": {
          "base_uri": "https://localhost:8080/"
        },
        "outputId": "d19c49be-73fd-407f-ffc4-bbc93847304c"
      },
      "source": [
        "### EXACT GP EI GRADIENTS\n",
        "\n",
        "np.random.seed(run_num_12)\n",
        "surrogate_exact_12 = dGaussianProcess(cov_func, optimize=opt)\n",
        "\n",
        "exact_12 = dGPGO(surrogate_exact_12, Acquisition_new(util_grad_exact), objfunc, param)\n",
        "exact_12.run(init_evals=n_init, max_iter=iters)\n"
      ],
      "execution_count": null,
      "outputs": [
        {
          "output_type": "stream",
          "name": "stdout",
          "text": [
            "Evaluation \t Proposed point \t  Current eval. \t Best eval.\n",
            "init   \t [-3.54137249  2.45810889]. \t  -57.903242869085595 \t -40.51116653209555\n",
            "init   \t [-2.42365424  0.34549139]. \t  -40.51116653209555 \t -40.51116653209555\n",
            "init   \t [-4.97075238  4.28796936]. \t  -55.62655915398208 \t -40.51116653209555\n",
            "init   \t [ 4.10332011 -4.77776458]. \t  -49.962803461970296 \t -40.51116653209555\n",
            "init   \t [ 4.6791612  -3.71497655]. \t  -62.183891474990624 \t -40.51116653209555\n",
            "1      \t [4.61121049 2.73895066]. \t  -57.11523489073049 \t -40.51116653209555\n",
            "2      \t [-5.12 -5.12]. \t  -57.849427451571785 \t -40.51116653209555\n",
            "3      \t [-0.45569846 -5.12      ]. \t  -48.747462848395585 \t -40.51116653209555\n",
            "4      \t [0.31747111 4.56681598]. \t  -54.201719827935285 \t -40.51116653209555\n",
            "5      \t [1.21387927 0.48480941]. \t  \u001b[92m-29.41292934394653\u001b[0m \t -29.41292934394653\n",
            "6      \t [-3.1218552  -2.65757742]. \t  -35.08546134346617 \t -29.41292934394653\n",
            "7      \t [ 0.1976234 -2.1385073]. \t  \u001b[92m-14.934206456324985\u001b[0m \t -14.934206456324985\n",
            "8      \t [ 4.81638731 -0.90941609]. \t  -31.549735008232688 \t -14.934206456324985\n",
            "9      \t [ 2.27024923 -2.31995297]. \t  -36.060199206399176 \t -14.934206456324985\n",
            "10     \t [-0.988672    2.29844252]. \t  -19.282583093081975 \t -14.934206456324985\n",
            "11     \t [4.63194566 4.74509476]. \t  -71.03484693298282 \t -14.934206456324985\n",
            "12     \t [-5.12       -1.33284014]. \t  -45.67431609749523 \t -14.934206456324985\n",
            "13     \t [-3.00369893 -5.12      ]. \t  -37.94962159837361 \t -14.934206456324985\n",
            "14     \t [-2.08597123  4.9052726 ]. \t  -31.55635786790098 \t -14.934206456324985\n",
            "15     \t [ 1.854211 -5.12    ]. \t  -36.272988180262615 \t -14.934206456324985\n",
            "16     \t [1.83718124 3.51863561]. \t  -40.479660130319836 \t -14.934206456324985\n",
            "17     \t [-0.62124021  0.29084134]. \t  -30.244716311266234 \t -14.934206456324985\n",
            "18     \t [ 0.98052159 -3.30037244]. \t  -25.04109713269669 \t -14.934206456324985\n",
            "19     \t [-5.12        0.93933248]. \t  -30.524815885536782 \t -14.934206456324985\n",
            "20     \t [3.17799748 0.74622928]. \t  -26.522125523222094 \t -14.934206456324985\n"
          ]
        }
      ]
    },
    {
      "cell_type": "code",
      "metadata": {
        "id": "9BsKdU9eJTFL",
        "colab": {
          "base_uri": "https://localhost:8080/"
        },
        "outputId": "80c07667-710d-4cc5-d564-95f7806a2c34"
      },
      "source": [
        "### EXACT GP EI GRADIENTS\n",
        "\n",
        "np.random.seed(run_num_13)\n",
        "surrogate_exact_13 = dGaussianProcess(cov_func, optimize=opt)\n",
        "\n",
        "exact_13 = dGPGO(surrogate_exact_13, Acquisition_new(util_grad_exact), objfunc, param)\n",
        "exact_13.run(init_evals=n_init, max_iter=iters)\n"
      ],
      "execution_count": null,
      "outputs": [
        {
          "output_type": "stream",
          "name": "stdout",
          "text": [
            "Evaluation \t Proposed point \t  Current eval. \t Best eval.\n",
            "init   \t [ 2.84367268 -2.68757791]. \t  -33.58019830007169 \t -17.435826639425656\n",
            "init   \t [3.32061217 4.76927179]. \t  -56.857057997503354 \t -17.435826639425656\n",
            "init   \t [ 4.83943541 -0.47667971]. \t  -48.211919361679726 \t -17.435826639425656\n",
            "init   \t [1.11659482 2.82139151]. \t  -17.435826639425656 \t -17.435826639425656\n",
            "init   \t [1.45012065 2.27346667]. \t  -38.25352329493884 \t -17.435826639425656\n",
            "1      \t [-4.10876704 -2.60547476]. \t  -43.79941556238635 \t -17.435826639425656\n",
            "2      \t [-3.79952453  2.6681578 ]. \t  -43.412352421375 \t -17.435826639425656\n",
            "3      \t [-0.6217369 -5.12     ]. \t  -46.52581789969061 \t -17.435826639425656\n",
            "4      \t [-0.26966776 -1.43947155]. \t  -32.66290883294401 \t -17.435826639425656\n",
            "5      \t [ 4.07604883 -5.12      ]. \t  -46.65893377925101 \t -17.435826639425656\n",
            "6      \t [-1.47143339  4.29526654]. \t  -53.25977008096706 \t -17.435826639425656\n",
            "7      \t [-4.62868249 -0.10493485]. \t  -40.43723541856039 \t -17.435826639425656\n",
            "8      \t [-5.12 -5.12]. \t  -57.849427451571785 \t -17.435826639425656\n",
            "9      \t [-1.58106164  0.7659479 ]. \t  -30.816808602566596 \t -17.435826639425656\n",
            "10     \t [ 2.29943271 -0.39478748]. \t  -36.39285824890764 \t -17.435826639425656\n",
            "11     \t [4.51970584 2.1035468 ]. \t  -46.81891383249832 \t -17.435826639425656\n",
            "12     \t [-1.76359296 -3.25188418]. \t  -32.95036187214959 \t -17.435826639425656\n",
            "13     \t [-3.80635706  4.54230577]. \t  -61.302202221033696 \t -17.435826639425656\n",
            "14     \t [ 1.21942483 -3.91510993]. \t  -26.29484833136221 \t -17.435826639425656\n",
            "15     \t [1.12858658 4.31054588]. \t  -36.657688887831476 \t -17.435826639425656\n",
            "16     \t [-3.09605022 -4.99115255]. \t  -36.27904251849568 \t -17.435826639425656\n",
            "17     \t [ 4.70230437 -3.46309837]. \t  -66.78927344008598 \t -17.435826639425656\n",
            "18     \t [0.18074323 0.86407284]. \t  \u001b[92m-9.994488598074437\u001b[0m \t -9.994488598074437\n",
            "19     \t [ 1.64171243 -4.8471478 ]. \t  -46.74909762216046 \t -9.994488598074437\n",
            "20     \t [-1.97116302 -1.33875909]. \t  -21.133731145016284 \t -9.994488598074437\n"
          ]
        }
      ]
    },
    {
      "cell_type": "code",
      "metadata": {
        "id": "k6GjFBr1JTJf",
        "colab": {
          "base_uri": "https://localhost:8080/"
        },
        "outputId": "26e720f8-0a19-4b67-ddcd-d92ce72b7bf4"
      },
      "source": [
        "### EXACT GP EI GRADIENTS\n",
        "\n",
        "np.random.seed(run_num_14)\n",
        "surrogate_exact_14 = dGaussianProcess(cov_func, optimize=opt)\n",
        "\n",
        "exact_14 = dGPGO(surrogate_exact_14, Acquisition_new(util_grad_exact), objfunc, param)\n",
        "exact_14.run(init_evals=n_init, max_iter=iters)\n"
      ],
      "execution_count": null,
      "outputs": [
        {
          "output_type": "stream",
          "name": "stdout",
          "text": [
            "Evaluation \t Proposed point \t  Current eval. \t Best eval.\n",
            "init   \t [0.14277984 2.79721013]. \t  -18.683085263052178 \t -10.423838604848608\n",
            "init   \t [ 3.7931795  -5.03759925]. \t  -47.36348784446708 \t -10.423838604848608\n",
            "init   \t [-1.94830412  4.68586229]. \t  -40.19779334078636 \t -10.423838604848608\n",
            "init   \t [ 0.13431513 -1.86076749]. \t  -10.423838604848608 \t -10.423838604848608\n",
            "init   \t [ 0.40140736 -2.85434939]. \t  -30.353548735049138 \t -10.423838604848608\n",
            "1      \t [-4.63745607 -5.12      ]. \t  -66.92729151062768 \t -10.423838604848608\n",
            "2      \t [-5.12        0.35745973]. \t  -45.30294271290654 \t -10.423838604848608\n",
            "3      \t [4.4439689  3.11845863]. \t  -51.504668856084436 \t -10.423838604848608\n",
            "4      \t [ 3.6782177  -0.74354156]. \t  -38.84667498401869 \t -10.423838604848608\n",
            "5      \t [-1.78787776  0.30846662]. \t  -24.52562824385054 \t -10.423838604848608\n",
            "6      \t [-2.49187509 -3.20907535]. \t  -43.951449534577 \t -10.423838604848608\n",
            "7      \t [1.52626351 4.96418392]. \t  -47.08890155320673 \t -10.423838604848608\n",
            "8      \t [-5.12        3.67660723]. \t  -56.89185101668556 \t -10.423838604848608\n",
            "9      \t [0.33488298 0.65724834]. \t  -31.131643649917713 \t -10.423838604848608\n",
            "10     \t [-0.23665183 -5.12      ]. \t  -38.143010133587865 \t -10.423838604848608\n",
            "11     \t [-5.12       -2.27453705]. \t  -45.63384059117661 \t -10.423838604848608\n",
            "12     \t [2.25694305 1.90099319]. \t  -21.01698133361503 \t -10.423838604848608\n",
            "13     \t [-2.48222707  2.13671816]. \t  -34.132972468645846 \t -10.423838604848608\n",
            "14     \t [ 1.65333705 -5.12      ]. \t  -47.36518113310447 \t -10.423838604848608\n",
            "15     \t [ 3.51239068 -2.86149474]. \t  -44.048428048548686 \t -10.423838604848608\n",
            "16     \t [5.07782546 0.05000718]. \t  -27.44831738948664 \t -10.423838604848608\n",
            "17     \t [3.8289554  5.10308137]. \t  -47.96756005738325 \t -10.423838604848608\n",
            "18     \t [ 1.42318672 -1.2732974 ]. \t  -33.963107470452904 \t -10.423838604848608\n",
            "19     \t [-0.39631635  4.02391231]. \t  -34.41356548751282 \t -10.423838604848608\n",
            "20     \t [-1.74065882 -1.28301272]. \t  -27.32200992021133 \t -10.423838604848608\n"
          ]
        }
      ]
    },
    {
      "cell_type": "code",
      "metadata": {
        "id": "dPS8WB3aJTN6",
        "colab": {
          "base_uri": "https://localhost:8080/"
        },
        "outputId": "aa6a1bf9-887e-4444-b1ba-d87675933c93"
      },
      "source": [
        "### EXACT GP EI GRADIENTS\n",
        "\n",
        "np.random.seed(run_num_15)\n",
        "surrogate_exact_15 = dGaussianProcess(cov_func, optimize=opt)\n",
        "\n",
        "exact_15 = dGPGO(surrogate_exact_15, Acquisition_new(util_grad_exact), objfunc, param)\n",
        "exact_15.run(init_evals=n_init, max_iter=iters)\n"
      ],
      "execution_count": null,
      "outputs": [
        {
          "output_type": "stream",
          "name": "stdout",
          "text": [
            "Evaluation \t Proposed point \t  Current eval. \t Best eval.\n",
            "init   \t [ 3.57189322 -3.28810573]. \t  -54.938487770767075 \t -7.990765314336182\n",
            "init   \t [-4.56332069 -1.41784631]. \t  -60.750198753157726 \t -7.990765314336182\n",
            "init   \t [-2.29989449  0.3072023 ]. \t  -31.984997246800887 \t -7.990765314336182\n",
            "init   \t [-1.9873903  -2.00218256]. \t  -7.990765314336182 \t -7.990765314336182\n",
            "init   \t [-3.97576933 -2.5610341 ]. \t  -41.754957769694336 \t -7.990765314336182\n",
            "1      \t [2.7754098  2.98802689]. \t  -25.069717172883625 \t -7.990765314336182\n",
            "2      \t [-4.96635744  4.09320867]. \t  -43.30810083468987 \t -7.990765314336182\n",
            "3      \t [-0.48678637 -5.12      ]. \t  -49.12722981281452 \t -7.990765314336182\n",
            "4      \t [ 1.26414094 -0.45894939]. \t  -32.36522413645861 \t -7.990765314336182\n",
            "5      \t [-5.12 -5.12]. \t  -57.849427451571785 \t -7.990765314336182\n",
            "6      \t [-1.11264377  3.65252986]. \t  -32.72927781378255 \t -7.990765314336182\n",
            "7      \t [ 5.02944823 -1.315303  ]. \t  -41.185005624417045 \t -7.990765314336182\n",
            "8      \t [-4.97543626  1.31695394]. \t  -40.69204874492209 \t -7.990765314336182\n",
            "9      \t [4.96192824 1.83667299]. \t  -33.098239669444546 \t -7.990765314336182\n",
            "10     \t [-0.72795931 -2.30386086]. \t  -30.53808531849004 \t -7.990765314336182\n",
            "11     \t [0.94691346 1.42742816]. \t  -22.46363331631472 \t -7.990765314336182\n",
            "12     \t [ 1.58228957 -4.40773737]. \t  -58.99090003556758 \t -7.990765314336182\n",
            "13     \t [5.08622275 4.05094317]. \t  -44.21965856118919 \t -7.990765314336182\n",
            "14     \t [-2.69025884  4.88419206]. \t  -47.29150088660377 \t -7.990765314336182\n",
            "15     \t [0.6206782  4.84738823]. \t  -45.39855867381298 \t -7.990765314336182\n",
            "16     \t [-3.62453018  2.36719405]. \t  -52.54863137920327 \t -7.990765314336182\n",
            "17     \t [-2.73034845 -5.12      ]. \t  -47.61112485486536 \t -7.990765314336182\n",
            "18     \t [ 1.86976302 -1.80854146]. \t  -16.336342037569914 \t -7.990765314336182\n",
            "19     \t [2.74605789 1.15203164]. \t  -23.341571370075158 \t -7.990765314336182\n",
            "20     \t [-0.5062336  -0.33999778]. \t  -35.722352057437426 \t -7.990765314336182\n"
          ]
        }
      ]
    },
    {
      "cell_type": "code",
      "metadata": {
        "id": "SHWdp2giJTRm",
        "colab": {
          "base_uri": "https://localhost:8080/"
        },
        "outputId": "fb4fc87a-c40a-4821-c17f-b7dbad36609b"
      },
      "source": [
        "### EXACT GP EI GRADIENTS\n",
        "\n",
        "np.random.seed(run_num_16)\n",
        "surrogate_exact_16 = dGaussianProcess(cov_func, optimize=opt)\n",
        "\n",
        "exact_16 = dGPGO(surrogate_exact_16, Acquisition_new(util_grad_exact), objfunc, param)\n",
        "exact_16.run(init_evals=n_init, max_iter=iters)\n"
      ],
      "execution_count": null,
      "outputs": [
        {
          "output_type": "stream",
          "name": "stdout",
          "text": [
            "Evaluation \t Proposed point \t  Current eval. \t Best eval.\n",
            "init   \t [-2.83349935  0.23719262]. \t  -22.27210456874814 \t -22.27210456874814\n",
            "init   \t [ 0.51918292 -4.65303603]. \t  -57.57021076017139 \t -22.27210456874814\n",
            "init   \t [-1.42613673 -2.83565116]. \t  -33.89145899403749 \t -22.27210456874814\n",
            "init   \t [ 1.9325559  -3.44339021]. \t  -35.85029586225333 \t -22.27210456874814\n",
            "init   \t [-4.39987336  4.51595121]. \t  -77.78800881964571 \t -22.27210456874814\n",
            "1      \t [2.142749   4.83374619]. \t  -36.69381850109535 \t -22.27210456874814\n",
            "2      \t [-5.12 -5.12]. \t  -57.849427451571785 \t -22.27210456874814\n",
            "3      \t [ 1.29434241 -0.04481114]. \t  \u001b[92m-14.8213000463427\u001b[0m \t -14.8213000463427\n",
            "4      \t [ 4.52096722 -0.05412316]. \t  -40.9280938700155 \t -14.8213000463427\n",
            "5      \t [-1.13936227  2.77999621]. \t  -20.747883100142108 \t -14.8213000463427\n",
            "6      \t [-5.12       -1.65346801]. \t  -47.35885527487623 \t -14.8213000463427\n",
            "7      \t [ 4.61353471 -4.56408508]. \t  -78.87747696873812 \t -14.8213000463427\n",
            "8      \t [3.99508263 3.34928174]. \t  -43.02442830095118 \t -14.8213000463427\n",
            "9      \t [2.71386532 0.91615797]. \t  -21.811134930791802 \t -14.8213000463427\n",
            "10     \t [-0.65063545 -0.11447857]. \t  -18.759199733777397 \t -14.8213000463427\n",
            "11     \t [-0.24032328  4.76785831]. \t  -41.06287872333731 \t -14.8213000463427\n",
            "12     \t [-5.12        1.35085932]. \t  -46.67098207276765 \t -14.8213000463427\n",
            "13     \t [0.78637148 2.45865897]. \t  -34.06247011341172 \t -14.8213000463427\n",
            "14     \t [-2.41730276 -5.12      ]. \t  -53.44823463621398 \t -14.8213000463427\n",
            "15     \t [ 2.23272246 -1.91944413]. \t  -18.839678890438698 \t -14.8213000463427\n",
            "16     \t [-3.63326523 -3.29848488]. \t  -53.77459674667044 \t -14.8213000463427\n",
            "17     \t [ 4.81158258 -2.2806381 ]. \t  -46.492301938781644 \t -14.8213000463427\n",
            "18     \t [-2.92019554  2.52123095]. \t  -36.0263250730965 \t -14.8213000463427\n",
            "19     \t [ 0.03254319 -1.55487122]. \t  -22.038551642717486 \t -14.8213000463427\n",
            "20     \t [4.93797051 4.69790435]. \t  -60.418917139450386 \t -14.8213000463427\n"
          ]
        }
      ]
    },
    {
      "cell_type": "code",
      "metadata": {
        "id": "yU2SflSsJTUs",
        "colab": {
          "base_uri": "https://localhost:8080/"
        },
        "outputId": "a1f959d3-5da5-420c-90a8-1726f491c472"
      },
      "source": [
        "### EXACT GP EI GRADIENTS\n",
        "\n",
        "np.random.seed(run_num_17)\n",
        "surrogate_exact_17 = dGaussianProcess(cov_func, optimize=opt)\n",
        "\n",
        "exact_17 = dGPGO(surrogate_exact_17, Acquisition_new(util_grad_exact), objfunc, param)\n",
        "exact_17.run(init_evals=n_init, max_iter=iters)\n"
      ],
      "execution_count": null,
      "outputs": [
        {
          "output_type": "stream",
          "name": "stdout",
          "text": [
            "Evaluation \t Proposed point \t  Current eval. \t Best eval.\n",
            "init   \t [-2.10263037  0.31320838]. \t  -20.395145364684023 \t -20.395145364684023\n",
            "init   \t [-3.15882714 -4.42470033]. \t  -53.03732051200137 \t -20.395145364684023\n",
            "init   \t [2.93873111 1.60085526]. \t  -29.989224812583537 \t -20.395145364684023\n",
            "init   \t [1.40821398 0.77417363]. \t  -29.451989415882437 \t -20.395145364684023\n",
            "init   \t [-4.71999574 -1.45598869]. \t  -55.89242173757483 \t -20.395145364684023\n",
            "1      \t [ 4.96008736 -4.44720822]. \t  -64.14783177084814 \t -20.395145364684023\n",
            "2      \t [-1.95646705  4.77829278]. \t  -35.26326039091227 \t -20.395145364684023\n",
            "3      \t [4.67136791 4.9849391 ]. \t  -61.45808001353926 \t -20.395145364684023\n",
            "4      \t [ 0.75509568 -3.19259018]. \t  -26.913237875716995 \t -20.395145364684023\n",
            "5      \t [ 4.53480696 -1.0371415 ]. \t  -41.673009951291 \t -20.395145364684023\n",
            "6      \t [-5.12        2.72903412]. \t  -47.68585945292577 \t -20.395145364684023\n",
            "7      \t [-1.35099667 -2.11586175]. \t  -24.765268436539156 \t -20.395145364684023\n",
            "8      \t [1.79246748 3.56900677]. \t  -42.388654801793784 \t -20.395145364684023\n",
            "9      \t [ 1.61832682 -5.12      ]. \t  -48.90494335125399 \t -20.395145364684023\n",
            "10     \t [-2.54836707  2.48270796]. \t  -52.14081762405996 \t -20.395145364684023\n",
            "11     \t [-5.12 -5.12]. \t  -57.849427451571785 \t -20.395145364684023\n",
            "12     \t [-0.28314557  2.38407299]. \t  -35.29401666220479 \t -20.395145364684023\n",
            "13     \t [ 2.25039164 -1.79584957]. \t  -25.472813720251473 \t -20.395145364684023\n",
            "14     \t [-1.00610784 -5.12      ]. \t  -29.944329672740416 \t -20.395145364684023\n",
            "15     \t [4.84829699 1.67157639]. \t  -45.239706912848206 \t -20.395145364684023\n",
            "16     \t [0.36740821 5.09218236]. \t  -44.42215396078207 \t -20.395145364684023\n",
            "17     \t [-0.88018597 -0.34205545]. \t  \u001b[92m-19.06091002220665\u001b[0m \t -19.06091002220665\n",
            "18     \t [ 0.29346888 -0.51060361]. \t  -33.02205444553679 \t -19.06091002220665\n",
            "19     \t [-3.31466921  0.87789402]. \t  -28.511655500109633 \t -19.06091002220665\n",
            "20     \t [2.06198611 5.07248794]. \t  -31.750208056629504 \t -19.06091002220665\n"
          ]
        }
      ]
    },
    {
      "cell_type": "code",
      "metadata": {
        "id": "es0KCh_0JTgY",
        "colab": {
          "base_uri": "https://localhost:8080/"
        },
        "outputId": "8442461d-2c95-4151-f53e-1e47437d052a"
      },
      "source": [
        "### EXACT GP EI GRADIENTS\n",
        "\n",
        "np.random.seed(run_num_18)\n",
        "surrogate_exact_18 = dGaussianProcess(cov_func, optimize=opt)\n",
        "\n",
        "exact_18 = dGPGO(surrogate_exact_18, Acquisition_new(util_grad_exact), objfunc, param)\n",
        "exact_18.run(init_evals=n_init, max_iter=iters)\n"
      ],
      "execution_count": null,
      "outputs": [
        {
          "output_type": "stream",
          "name": "stdout",
          "text": [
            "Evaluation \t Proposed point \t  Current eval. \t Best eval.\n",
            "init   \t [1.53983224 0.05584255]. \t  -22.67190580753611 \t -22.67190580753611\n",
            "init   \t [ 3.87687906 -3.25795609]. \t  -38.990099416711985 \t -22.67190580753611\n",
            "init   \t [3.60686662 2.56139557]. \t  -56.66448698782129 \t -22.67190580753611\n",
            "init   \t [1.70088108 4.99604939]. \t  -40.894059318256296 \t -22.67190580753611\n",
            "init   \t [-2.48864335 -4.83014733]. \t  -54.6725749848372 \t -22.67190580753611\n",
            "1      \t [-5.00718904  2.9174042 ]. \t  -34.91005808676357 \t -22.67190580753611\n",
            "2      \t [-5.12      -1.4723489]. \t  -50.94198161400097 \t -22.67190580753611\n",
            "3      \t [-1.82074717  0.25668698]. \t  \u001b[92m-19.50081638273157\u001b[0m \t -19.50081638273157\n",
            "4      \t [-1.68683462  3.75396613]. \t  -40.553924707925525 \t -19.50081638273157\n",
            "5      \t [ 0.65993239 -5.12      ]. \t  -44.722078823117414 \t -19.50081638273157\n",
            "6      \t [-0.65850564 -2.19347409]. \t  -27.20483571723993 \t -19.50081638273157\n",
            "7      \t [-5.12 -5.12]. \t  -57.849427451571785 \t -19.50081638273157\n",
            "8      \t [4.54745174 5.04751857]. \t  -66.1579953768757 \t -19.50081638273157\n",
            "9      \t [0.91852    1.87549127]. \t  \u001b[92m-8.550396209151558\u001b[0m \t -8.550396209151558\n",
            "10     \t [-2.77926974 -2.2702819 ]. \t  -32.32069996906416 \t -8.550396209151558\n",
            "11     \t [-5.12        0.82967936]. \t  -34.81320909364208 \t -8.550396209151558\n",
            "12     \t [ 4.45892611 -0.73057619]. \t  -51.30200117124187 \t -8.550396209151558\n",
            "13     \t [ 4.45959784 -5.12      ]. \t  -68.49224332544647 \t -8.550396209151558\n",
            "14     \t [ 1.16780817 -1.72097319]. \t  -21.2014805948231 \t -8.550396209151558\n",
            "15     \t [-4.93311462  4.65004427]. \t  -62.70427715056073 \t -8.550396209151558\n",
            "16     \t [-1.20429586  1.76466807]. \t  -20.811694600442742 \t -8.550396209151558\n",
            "17     \t [ 1.85647368 -3.31293268]. \t  -32.07198385726131 \t -8.550396209151558\n",
            "18     \t [-2.59005582  0.87381549]. \t  -28.89509581784066 \t -8.550396209151558\n",
            "19     \t [1.48257904 1.62284728]. \t  -41.93788823552083 \t -8.550396209151558\n",
            "20     \t [-0.15305714 -0.35242362]. \t  -20.42661608681704 \t -8.550396209151558\n"
          ]
        }
      ]
    },
    {
      "cell_type": "code",
      "metadata": {
        "id": "Pput2LHPIwBM",
        "colab": {
          "base_uri": "https://localhost:8080/"
        },
        "outputId": "a0fd4d8d-353f-47cb-e545-59c3b8afb96c"
      },
      "source": [
        "### EXACT GP EI GRADIENTS\n",
        "\n",
        "np.random.seed(run_num_19)\n",
        "surrogate_exact_19 = dGaussianProcess(cov_func, optimize=opt)\n",
        "\n",
        "exact_19 = dGPGO(surrogate_exact_19, Acquisition_new(util_grad_exact), objfunc, param)\n",
        "exact_19.run(init_evals=n_init, max_iter=iters)\n"
      ],
      "execution_count": null,
      "outputs": [
        {
          "output_type": "stream",
          "name": "stdout",
          "text": [
            "Evaluation \t Proposed point \t  Current eval. \t Best eval.\n",
            "init   \t [-4.12125592  2.6751971 ]. \t  -41.43485596167127 \t -25.867003842388073\n",
            "init   \t [-2.59135515 -3.70553152]. \t  -51.60126035043229 \t -25.867003842388073\n",
            "init   \t [-1.72598719 -4.27008445]. \t  -43.97430127029199 \t -25.867003842388073\n",
            "init   \t [1.76104531 3.13952049]. \t  -25.867003842388073 \t -25.867003842388073\n",
            "init   \t [4.9432772  1.38916592]. \t  -44.66580306903559 \t -25.867003842388073\n",
            "1      \t [ 4.47033654 -4.08733377]. \t  -57.98516487119721 \t -25.867003842388073\n",
            "2      \t [-0.74867083 -0.15420509]. \t  \u001b[92m-15.005727969806905\u001b[0m \t -15.005727969806905\n",
            "3      \t [-5.12       -1.11402249]. \t  -32.62417373168493 \t -15.005727969806905\n",
            "4      \t [4.49732115 4.6445587 ]. \t  -77.94736268172689 \t -15.005727969806905\n",
            "5      \t [ 2.29666235 -1.57992352]. \t  -39.426255402282706 \t -15.005727969806905\n",
            "6      \t [-1.13833907  4.30420344]. \t  -36.70792788765697 \t -15.005727969806905\n",
            "7      \t [1.62909517 0.82580892]. \t  -25.637582523234094 \t -15.005727969806905\n",
            "8      \t [ 1.2828432 -5.12     ]. \t  -42.61938454804856 \t -15.005727969806905\n",
            "9      \t [-5.12 -5.12]. \t  -57.849427451571785 \t -15.005727969806905\n",
            "10     \t [-1.65752361 -1.48582476]. \t  -40.404410811659055 \t -15.005727969806905\n",
            "11     \t [-2.55280794  1.45780063]. \t  -47.74712097848253 \t -15.005727969806905\n",
            "12     \t [ 4.25008246 -0.66428223]. \t  -43.638833750194664 \t -15.005727969806905\n",
            "13     \t [-2.99785382  4.50435467]. \t  -49.273504769281516 \t -15.005727969806905\n",
            "14     \t [-0.11192929  0.84384583]. \t  \u001b[92m-7.536597292275053\u001b[0m \t -7.536597292275053\n",
            "15     \t [ 0.6589904  -3.05958547]. \t  -25.899729785336277 \t -7.536597292275053\n",
            "16     \t [1.7095732  5.03359699]. \t  -40.99458463513272 \t -7.536597292275053\n",
            "17     \t [ 0.1694449  -0.24868839]. \t  -15.160076706395117 \t -7.536597292275053\n",
            "18     \t [-0.47171235  2.47506918]. \t  -46.06850638573959 \t -7.536597292275053\n",
            "19     \t [ 5.03550169 -2.47954588]. \t  -51.669712812237286 \t -7.536597292275053\n",
            "20     \t [2.48869387 0.94186978]. \t  -27.715124004800348 \t -7.536597292275053\n"
          ]
        }
      ]
    },
    {
      "cell_type": "code",
      "metadata": {
        "id": "aw3xvSryIwDi",
        "colab": {
          "base_uri": "https://localhost:8080/"
        },
        "outputId": "14060ca4-bdde-4d33-f624-0eb36188db9a"
      },
      "source": [
        "### EXACT GP EI GRADIENTS\n",
        "\n",
        "np.random.seed(run_num_20)\n",
        "surrogate_exact_20 = dGaussianProcess(cov_func, optimize=opt)\n",
        "\n",
        "exact_20 = dGPGO(surrogate_exact_20, Acquisition_new(util_grad_exact), objfunc, param)\n",
        "exact_20.run(init_evals=n_init, max_iter=iters)\n"
      ],
      "execution_count": null,
      "outputs": [
        {
          "output_type": "stream",
          "name": "stdout",
          "text": [
            "Evaluation \t Proposed point \t  Current eval. \t Best eval.\n",
            "init   \t [0.9024594  4.07258857]. \t  -20.24255447774017 \t -17.388691338534382\n",
            "init   \t [4.00927467 3.23417577]. \t  -35.55852254546393 \t -17.388691338534382\n",
            "init   \t [-4.75249064  1.96359764]. \t  -36.54582989269194 \t -17.388691338534382\n",
            "init   \t [-1.24230715  0.18955208]. \t  -17.388691338534382 \t -17.388691338534382\n",
            "init   \t [ 1.61742301 -3.13497377]. \t  -33.22932870179905 \t -17.388691338534382\n",
            "1      \t [-5.12 -5.12]. \t  -57.849427451571785 \t -17.388691338534382\n",
            "2      \t [ 3.4996638 -0.3497142]. \t  -48.233239872484 \t -17.388691338534382\n",
            "3      \t [-1.41262073 -5.12      ]. \t  -49.45057377524965 \t -17.388691338534382\n",
            "4      \t [-1.92039394  3.47799067]. \t  -36.913901044517594 \t -17.388691338534382\n",
            "5      \t [-3.31747373 -2.12458563]. \t  -32.54368150134591 \t -17.388691338534382\n",
            "6      \t [ 4.14636433 -4.97978639]. \t  -46.01004219435855 \t -17.388691338534382\n",
            "7      \t [-4.65782729  5.11401687]. \t  -65.77973468480931 \t -17.388691338534382\n",
            "8      \t [0.97937567 1.30469703]. \t  \u001b[92m-16.114718943084615\u001b[0m \t -16.114718943084615\n",
            "9      \t [-5.12       -2.48259939]. \t  -55.028306364586435 \t -16.114718943084615\n",
            "10     \t [-0.86489079 -2.51429739]. \t  -30.421434606515025 \t -16.114718943084615\n",
            "11     \t [-5.12       -0.19150919]. \t  -35.368474136009134 \t -16.114718943084615\n",
            "12     \t [3.5164173  4.95190568]. \t  -57.28652160042879 \t -16.114718943084615\n",
            "13     \t [ 4.32114029 -2.31098907]. \t  -52.074390171189116 \t -16.114718943084615\n",
            "14     \t [-2.69423031  0.09658756]. \t  -22.48671946874996 \t -16.114718943084615\n",
            "15     \t [ 0.61055906 -0.54071288]. \t  -38.02244215498978 \t -16.114718943084615\n",
            "16     \t [ 0.56118072 -5.12      ]. \t  -48.50983687124133 \t -16.114718943084615\n",
            "17     \t [-0.54107084  1.50751066]. \t  -42.22309307954574 \t -16.114718943084615\n",
            "18     \t [-0.13794602  4.66786737]. \t  -40.26939295604543 \t -16.114718943084615\n",
            "19     \t [4.40193734 0.81016611]. \t  -44.503591936948794 \t -16.114718943084615\n",
            "20     \t [2.85483515 2.626752  ]. \t  -35.92182839982959 \t -16.114718943084615\n"
          ]
        }
      ]
    },
    {
      "cell_type": "code",
      "metadata": {
        "id": "qNqAB3vBTPqb",
        "colab": {
          "base_uri": "https://localhost:8080/"
        },
        "outputId": "f86f2a22-496f-438e-96e1-5ff15e5da0f7"
      },
      "source": [
        "end_exact = time.time()\n",
        "end_exact\n",
        "\n",
        "time_exact = end_exact - start_exact\n",
        "time_exact"
      ],
      "execution_count": null,
      "outputs": [
        {
          "output_type": "execute_result",
          "data": {
            "text/plain": [
              "242.74840140342712"
            ]
          },
          "metadata": {},
          "execution_count": 54
        }
      ]
    },
    {
      "cell_type": "code",
      "metadata": {
        "id": "JPQzjdBZQxfg",
        "colab": {
          "base_uri": "https://localhost:8080/"
        },
        "outputId": "d4fb18a8-3154-4770-e247-32c9a062d02d"
      },
      "source": [
        "### Simple regret minimization: run number = 1\n",
        "\n",
        "approx_output_1 = np.append(np.min(approx_1.GP.y[0:n_init]),approx_1.GP.y[n_init:(n_init+iters)]) \n",
        "exact_output_1 = np.append(np.min(exact_1.GP.y[0:n_init]),exact_1.GP.y[n_init:(n_init+iters)]) \n",
        "\n",
        "regret_approx_1 = np.log(-approx_output_1 + y_global_orig)\n",
        "regret_exact_1 = np.log(-exact_output_1 + y_global_orig)\n",
        "\n",
        "simple_regret_approx_1 = min_max_array(regret_approx_1)\n",
        "simple_regret_exact_1 = min_max_array(regret_exact_1)\n",
        "\n",
        "min_simple_regret_approx_1 = min(simple_regret_approx_1)\n",
        "min_simple_regret_exact_1 = min(simple_regret_exact_1)\n",
        "\n",
        "min_simple_regret_approx_1, min_simple_regret_exact_1"
      ],
      "execution_count": null,
      "outputs": [
        {
          "output_type": "execute_result",
          "data": {
            "text/plain": [
              "(2.992209741077767, 2.5598352626118044)"
            ]
          },
          "metadata": {},
          "execution_count": 55
        }
      ]
    },
    {
      "cell_type": "code",
      "metadata": {
        "id": "94yBw5tqQxfk",
        "colab": {
          "base_uri": "https://localhost:8080/"
        },
        "outputId": "9282d998-e449-4776-a187-e987e4aa9c88"
      },
      "source": [
        "### Simple regret minimization: run number = 2\n",
        "\n",
        "approx_output_2 = np.append(np.min(approx_2.GP.y[0:n_init]),approx_2.GP.y[n_init:(n_init+iters)]) \n",
        "exact_output_2 = np.append(np.min(exact_2.GP.y[0:n_init]),exact_2.GP.y[n_init:(n_init+iters)]) \n",
        "\n",
        "regret_approx_2 = np.log(-approx_output_2 + y_global_orig)\n",
        "regret_exact_2 = np.log(-exact_output_2 + y_global_orig)\n",
        "\n",
        "simple_regret_approx_2 = min_max_array(regret_approx_2)\n",
        "simple_regret_exact_2 = min_max_array(regret_exact_2)\n",
        "\n",
        "min_simple_regret_approx_2 = min(simple_regret_approx_2)\n",
        "min_simple_regret_exact_2 = min(simple_regret_exact_2)\n",
        "\n",
        "min_simple_regret_approx_2, min_simple_regret_exact_2"
      ],
      "execution_count": null,
      "outputs": [
        {
          "output_type": "execute_result",
          "data": {
            "text/plain": [
              "(2.70208273351565, 2.3400611136147167)"
            ]
          },
          "metadata": {},
          "execution_count": 56
        }
      ]
    },
    {
      "cell_type": "code",
      "metadata": {
        "id": "Bu6SBWALQxfl",
        "colab": {
          "base_uri": "https://localhost:8080/"
        },
        "outputId": "5a867729-060a-4ff1-eaca-3247a85f8392"
      },
      "source": [
        "### Simple regret minimization: run number = 3\n",
        "\n",
        "approx_output_3 = np.append(np.min(approx_3.GP.y[0:n_init]),approx_3.GP.y[n_init:(n_init+iters)]) \n",
        "exact_output_3 = np.append(np.min(exact_3.GP.y[0:n_init]),exact_3.GP.y[n_init:(n_init+iters)]) \n",
        "\n",
        "regret_approx_3 = np.log(-approx_output_3 + y_global_orig)\n",
        "regret_exact_3 = np.log(-exact_output_3 + y_global_orig)\n",
        "\n",
        "simple_regret_approx_3 = min_max_array(regret_approx_3)\n",
        "simple_regret_exact_3 = min_max_array(regret_exact_3)\n",
        "\n",
        "min_simple_regret_approx_3 = min(simple_regret_approx_3)\n",
        "min_simple_regret_exact_3 = min(simple_regret_exact_3)\n",
        "\n",
        "min_simple_regret_approx_3, min_simple_regret_exact_3"
      ],
      "execution_count": null,
      "outputs": [
        {
          "output_type": "execute_result",
          "data": {
            "text/plain": [
              "(3.23902858709975, 1.8320770532872819)"
            ]
          },
          "metadata": {},
          "execution_count": 57
        }
      ]
    },
    {
      "cell_type": "code",
      "metadata": {
        "id": "AZm0jgxkQxfm",
        "colab": {
          "base_uri": "https://localhost:8080/"
        },
        "outputId": "68d91201-6d7b-423c-d76c-85f8bee50e80"
      },
      "source": [
        "### Simple regret minimization: run number = 4\n",
        "\n",
        "approx_output_4 = np.append(np.min(approx_4.GP.y[0:n_init]),approx_4.GP.y[n_init:(n_init+iters)]) \n",
        "exact_output_4 = np.append(np.min(exact_4.GP.y[0:n_init]),exact_4.GP.y[n_init:(n_init+iters)]) \n",
        "\n",
        "regret_approx_4 = np.log(-approx_output_4 + y_global_orig)\n",
        "regret_exact_4 = np.log(-exact_output_4 + y_global_orig)\n",
        "\n",
        "simple_regret_approx_4 = min_max_array(regret_approx_4)\n",
        "simple_regret_exact_4 = min_max_array(regret_exact_4)\n",
        "\n",
        "min_simple_regret_approx_4 = min(simple_regret_approx_4)\n",
        "min_simple_regret_exact_4 = min(simple_regret_exact_4)\n",
        "\n",
        "min_simple_regret_approx_4, min_simple_regret_exact_4"
      ],
      "execution_count": null,
      "outputs": [
        {
          "output_type": "execute_result",
          "data": {
            "text/plain": [
              "(1.8624886057211374, 2.3971942365818433)"
            ]
          },
          "metadata": {},
          "execution_count": 58
        }
      ]
    },
    {
      "cell_type": "code",
      "metadata": {
        "id": "NONPm8JIQxfn",
        "colab": {
          "base_uri": "https://localhost:8080/"
        },
        "outputId": "33d36977-559d-4e82-9631-4d27f15e0491"
      },
      "source": [
        "### Simple regret minimization: run number = 5\n",
        "\n",
        "approx_output_5 = np.append(np.min(approx_5.GP.y[0:n_init]),approx_5.GP.y[n_init:(n_init+iters)]) \n",
        "exact_output_5 = np.append(np.min(exact_5.GP.y[0:n_init]),exact_5.GP.y[n_init:(n_init+iters)]) \n",
        "\n",
        "regret_approx_5 = np.log(-approx_output_5 + y_global_orig)\n",
        "regret_exact_5 = np.log(-exact_output_5 + y_global_orig)\n",
        "\n",
        "simple_regret_approx_5 = min_max_array(regret_approx_5)\n",
        "simple_regret_exact_5 = min_max_array(regret_exact_5)\n",
        "\n",
        "min_simple_regret_approx_5 = min(simple_regret_approx_5)\n",
        "min_simple_regret_exact_5 = min(simple_regret_exact_5)\n",
        "\n",
        "min_simple_regret_approx_5, min_simple_regret_exact_5"
      ],
      "execution_count": null,
      "outputs": [
        {
          "output_type": "execute_result",
          "data": {
            "text/plain": [
              "(1.824105677470207, 1.9125646919493697)"
            ]
          },
          "metadata": {},
          "execution_count": 59
        }
      ]
    },
    {
      "cell_type": "code",
      "metadata": {
        "id": "CJv3lPuSQxfp",
        "colab": {
          "base_uri": "https://localhost:8080/"
        },
        "outputId": "348abc93-2de0-4ebf-cc15-dd18f601269f"
      },
      "source": [
        "### Simple regret minimization: run number = 6\n",
        "\n",
        "approx_output_6 = np.append(np.min(approx_6.GP.y[0:n_init]),approx_6.GP.y[n_init:(n_init+iters)]) \n",
        "exact_output_6 = np.append(np.min(exact_6.GP.y[0:n_init]),exact_6.GP.y[n_init:(n_init+iters)]) \n",
        "\n",
        "regret_approx_6 = np.log(-approx_output_6 + y_global_orig)\n",
        "regret_exact_6 = np.log(-exact_output_6 + y_global_orig)\n",
        "\n",
        "simple_regret_approx_6 = min_max_array(regret_approx_6)\n",
        "simple_regret_exact_6 = min_max_array(regret_exact_6)\n",
        "\n",
        "min_simple_regret_approx_6 = min(simple_regret_approx_6)\n",
        "min_simple_regret_exact_6 = min(simple_regret_exact_6)\n",
        "\n",
        "min_simple_regret_approx_6, min_simple_regret_exact_6"
      ],
      "execution_count": null,
      "outputs": [
        {
          "output_type": "execute_result",
          "data": {
            "text/plain": [
              "(2.81898041979131, 2.7824792656030573)"
            ]
          },
          "metadata": {},
          "execution_count": 60
        }
      ]
    },
    {
      "cell_type": "code",
      "metadata": {
        "id": "quR2ZyApQxfq",
        "colab": {
          "base_uri": "https://localhost:8080/"
        },
        "outputId": "bae999f6-99fd-404b-fb0f-2c8bb1568ea2"
      },
      "source": [
        "### Simple regret minimization: run number = 7\n",
        "\n",
        "approx_output_7 = np.append(np.min(approx_7.GP.y[0:n_init]),approx_7.GP.y[n_init:(n_init+iters)]) \n",
        "exact_output_7 = np.append(np.min(exact_7.GP.y[0:n_init]),exact_7.GP.y[n_init:(n_init+iters)]) \n",
        "\n",
        "regret_approx_7 = np.log(-approx_output_7 + y_global_orig)\n",
        "regret_exact_7 = np.log(-exact_output_7 + y_global_orig)\n",
        "\n",
        "simple_regret_approx_7 = min_max_array(regret_approx_7)\n",
        "simple_regret_exact_7 = min_max_array(regret_exact_7)\n",
        "\n",
        "min_simple_regret_approx_7 = min(simple_regret_approx_7)\n",
        "min_simple_regret_exact_7 = min(simple_regret_exact_7)\n",
        "\n",
        "min_simple_regret_approx_7, min_simple_regret_exact_7"
      ],
      "execution_count": null,
      "outputs": [
        {
          "output_type": "execute_result",
          "data": {
            "text/plain": [
              "(2.5470487663770065, 2.5494084516290827)"
            ]
          },
          "metadata": {},
          "execution_count": 61
        }
      ]
    },
    {
      "cell_type": "code",
      "metadata": {
        "id": "99wY5nK6Qxfr",
        "colab": {
          "base_uri": "https://localhost:8080/"
        },
        "outputId": "85ff7900-cdd1-4f0d-908d-612cfa3deec1"
      },
      "source": [
        "### Simple regret minimization: run number = 8\n",
        "\n",
        "approx_output_8 = np.append(np.min(approx_8.GP.y[0:n_init]),approx_8.GP.y[n_init:(n_init+iters)]) \n",
        "exact_output_8 = np.append(np.min(exact_8.GP.y[0:n_init]),exact_8.GP.y[n_init:(n_init+iters)]) \n",
        "\n",
        "regret_approx_8 = np.log(-approx_output_8 + y_global_orig)\n",
        "regret_exact_8 = np.log(-exact_output_8 + y_global_orig)\n",
        "\n",
        "simple_regret_approx_8 = min_max_array(regret_approx_8)\n",
        "simple_regret_exact_8 = min_max_array(regret_exact_8)\n",
        "\n",
        "min_simple_regret_approx_8 = min(simple_regret_approx_8)\n",
        "min_simple_regret_exact_8 = min(simple_regret_exact_8)\n",
        "\n",
        "min_simple_regret_approx_8, min_simple_regret_exact_8"
      ],
      "execution_count": null,
      "outputs": [
        {
          "output_type": "execute_result",
          "data": {
            "text/plain": [
              "(2.6964288623694412, 2.6239607412089128)"
            ]
          },
          "metadata": {},
          "execution_count": 62
        }
      ]
    },
    {
      "cell_type": "code",
      "metadata": {
        "id": "qt0P5t9qQxfs",
        "colab": {
          "base_uri": "https://localhost:8080/"
        },
        "outputId": "e9ace7c8-9990-4cbe-a6ed-0adfe0f14790"
      },
      "source": [
        "### Simple regret minimization: run number = 9\n",
        "\n",
        "approx_output_9 = np.append(np.min(approx_9.GP.y[0:n_init]),approx_9.GP.y[n_init:(n_init+iters)]) \n",
        "exact_output_9 = np.append(np.min(exact_9.GP.y[0:n_init]),exact_9.GP.y[n_init:(n_init+iters)]) \n",
        "\n",
        "regret_approx_9 = np.log(-approx_output_9 + y_global_orig)\n",
        "regret_exact_9 = np.log(-exact_output_9 + y_global_orig)\n",
        "\n",
        "simple_regret_approx_9 = min_max_array(regret_approx_9)\n",
        "simple_regret_exact_9 = min_max_array(regret_exact_9)\n",
        "\n",
        "min_simple_regret_approx_9 = min(simple_regret_approx_9)\n",
        "min_simple_regret_exact_9 = min(simple_regret_exact_9)\n",
        "\n",
        "min_simple_regret_approx_9, min_simple_regret_exact_9"
      ],
      "execution_count": null,
      "outputs": [
        {
          "output_type": "execute_result",
          "data": {
            "text/plain": [
              "(2.7482040141063537, 3.050769030669264)"
            ]
          },
          "metadata": {},
          "execution_count": 63
        }
      ]
    },
    {
      "cell_type": "code",
      "metadata": {
        "id": "vx8to9stQxft",
        "colab": {
          "base_uri": "https://localhost:8080/"
        },
        "outputId": "a009df9e-c9cb-4b48-9929-e28504b1e3b7"
      },
      "source": [
        "### Simple regret minimization: run number = 10\n",
        "\n",
        "approx_output_10 = np.append(np.min(approx_10.GP.y[0:n_init]),approx_10.GP.y[n_init:(n_init+iters)]) \n",
        "exact_output_10 = np.append(np.min(exact_10.GP.y[0:n_init]),exact_10.GP.y[n_init:(n_init+iters)]) \n",
        "\n",
        "regret_approx_10 = np.log(-approx_output_10 + y_global_orig)\n",
        "regret_exact_10 = np.log(-exact_output_10 + y_global_orig)\n",
        "\n",
        "simple_regret_approx_10 = min_max_array(regret_approx_10)\n",
        "simple_regret_exact_10 = min_max_array(regret_exact_10)\n",
        "\n",
        "min_simple_regret_approx_10 = min(simple_regret_approx_10)\n",
        "min_simple_regret_exact_10 = min(simple_regret_exact_10)\n",
        "\n",
        "min_simple_regret_approx_10, min_simple_regret_exact_10"
      ],
      "execution_count": null,
      "outputs": [
        {
          "output_type": "execute_result",
          "data": {
            "text/plain": [
              "(2.523870238599336, 2.609901345102018)"
            ]
          },
          "metadata": {},
          "execution_count": 64
        }
      ]
    },
    {
      "cell_type": "code",
      "metadata": {
        "id": "d-FGzWyHQxfu",
        "colab": {
          "base_uri": "https://localhost:8080/"
        },
        "outputId": "3b0a9790-d7af-4c7d-822f-b32469285528"
      },
      "source": [
        "### Simple regret minimization: run number = 11\n",
        "\n",
        "approx_output_11 = np.append(np.min(approx_11.GP.y[0:n_init]),approx_11.GP.y[n_init:(n_init+iters)]) \n",
        "exact_output_11 = np.append(np.min(exact_11.GP.y[0:n_init]),exact_11.GP.y[n_init:(n_init+iters)]) \n",
        "\n",
        "regret_approx_11 = np.log(-approx_output_11 + y_global_orig)\n",
        "regret_exact_11 = np.log(-exact_output_11 + y_global_orig)\n",
        "\n",
        "simple_regret_approx_11 = min_max_array(regret_approx_11)\n",
        "simple_regret_exact_11 = min_max_array(regret_exact_11)\n",
        "\n",
        "min_simple_regret_approx_11 = min(simple_regret_approx_11)\n",
        "min_simple_regret_exact_11 = min(simple_regret_exact_11)\n",
        "\n",
        "min_simple_regret_approx_11, min_simple_regret_exact_11"
      ],
      "execution_count": null,
      "outputs": [
        {
          "output_type": "execute_result",
          "data": {
            "text/plain": [
              "(2.437087712028319, 2.061180445271629)"
            ]
          },
          "metadata": {},
          "execution_count": 65
        }
      ]
    },
    {
      "cell_type": "code",
      "metadata": {
        "id": "SvtsssyjQxfv",
        "colab": {
          "base_uri": "https://localhost:8080/"
        },
        "outputId": "ffbd96cf-db25-43a9-89a9-cba774d4cc36"
      },
      "source": [
        "### Simple regret minimization: run number = 12\n",
        "\n",
        "approx_output_12 = np.append(np.min(approx_12.GP.y[0:n_init]),approx_12.GP.y[n_init:(n_init+iters)]) \n",
        "exact_output_12 = np.append(np.min(exact_12.GP.y[0:n_init]),exact_12.GP.y[n_init:(n_init+iters)]) \n",
        "\n",
        "regret_approx_12 = np.log(-approx_output_12 + y_global_orig)\n",
        "regret_exact_12 = np.log(-exact_output_12 + y_global_orig)\n",
        "\n",
        "simple_regret_approx_12 = min_max_array(regret_approx_12)\n",
        "simple_regret_exact_12 = min_max_array(regret_exact_12)\n",
        "\n",
        "min_simple_regret_approx_12 = min(simple_regret_approx_12)\n",
        "min_simple_regret_exact_12 = min(simple_regret_exact_12)\n",
        "\n",
        "min_simple_regret_approx_12, min_simple_regret_exact_12"
      ],
      "execution_count": null,
      "outputs": [
        {
          "output_type": "execute_result",
          "data": {
            "text/plain": [
              "(1.0147230089008081, 2.7036543171011163)"
            ]
          },
          "metadata": {},
          "execution_count": 66
        }
      ]
    },
    {
      "cell_type": "code",
      "metadata": {
        "id": "K6OiGcHkQxfw",
        "colab": {
          "base_uri": "https://localhost:8080/"
        },
        "outputId": "38966f16-bc84-41d2-eca2-624b33af6eb5"
      },
      "source": [
        "### Simple regret minimization: run number = 13\n",
        "\n",
        "approx_output_13 = np.append(np.min(approx_13.GP.y[0:n_init]),approx_13.GP.y[n_init:(n_init+iters)]) \n",
        "exact_output_13 = np.append(np.min(exact_13.GP.y[0:n_init]),exact_13.GP.y[n_init:(n_init+iters)]) \n",
        "\n",
        "regret_approx_13 = np.log(-approx_output_13 + y_global_orig)\n",
        "regret_exact_13 = np.log(-exact_output_13 + y_global_orig)\n",
        "\n",
        "simple_regret_approx_13 = min_max_array(regret_approx_13)\n",
        "simple_regret_exact_13 = min_max_array(regret_exact_13)\n",
        "\n",
        "min_simple_regret_approx_13 = min(simple_regret_approx_13)\n",
        "min_simple_regret_exact_13 = min(simple_regret_exact_13)\n",
        "\n",
        "min_simple_regret_approx_13, min_simple_regret_exact_13"
      ],
      "execution_count": null,
      "outputs": [
        {
          "output_type": "execute_result",
          "data": {
            "text/plain": [
              "(2.8985987755781992, 2.3020338008679064)"
            ]
          },
          "metadata": {},
          "execution_count": 67
        }
      ]
    },
    {
      "cell_type": "code",
      "metadata": {
        "id": "ogML73shQxfx",
        "colab": {
          "base_uri": "https://localhost:8080/"
        },
        "outputId": "d7d764ad-5f18-43e4-d01b-fb2bc9dd60cc"
      },
      "source": [
        "### Simple regret minimization: run number = 14\n",
        "\n",
        "approx_output_14 = np.append(np.min(approx_14.GP.y[0:n_init]),approx_14.GP.y[n_init:(n_init+iters)]) \n",
        "exact_output_14 = np.append(np.min(exact_14.GP.y[0:n_init]),exact_14.GP.y[n_init:(n_init+iters)]) \n",
        "\n",
        "regret_approx_14 = np.log(-approx_output_14 + y_global_orig)\n",
        "regret_exact_14 = np.log(-exact_output_14 + y_global_orig)\n",
        "\n",
        "simple_regret_approx_14 = min_max_array(regret_approx_14)\n",
        "simple_regret_exact_14 = min_max_array(regret_exact_14)\n",
        "\n",
        "min_simple_regret_approx_14 = min(simple_regret_approx_14)\n",
        "min_simple_regret_exact_14 = min(simple_regret_exact_14)\n",
        "\n",
        "min_simple_regret_approx_14, min_simple_regret_exact_14"
      ],
      "execution_count": null,
      "outputs": [
        {
          "output_type": "execute_result",
          "data": {
            "text/plain": [
              "(-0.7300172485627265, 3.0453307458883896)"
            ]
          },
          "metadata": {},
          "execution_count": 68
        }
      ]
    },
    {
      "cell_type": "code",
      "metadata": {
        "id": "9Eg7gFT9Qxfx",
        "colab": {
          "base_uri": "https://localhost:8080/"
        },
        "outputId": "5e04ee4c-40b9-48e6-8360-f8f2410623b2"
      },
      "source": [
        "### Simple regret minimization: run number = 15\n",
        "\n",
        "approx_output_15 = np.append(np.min(approx_15.GP.y[0:n_init]),approx_15.GP.y[n_init:(n_init+iters)]) \n",
        "exact_output_15 = np.append(np.min(exact_15.GP.y[0:n_init]),exact_15.GP.y[n_init:(n_init+iters)]) \n",
        "\n",
        "regret_approx_15 = np.log(-approx_output_15 + y_global_orig)\n",
        "regret_exact_15 = np.log(-exact_output_15 + y_global_orig)\n",
        "\n",
        "simple_regret_approx_15 = min_max_array(regret_approx_15)\n",
        "simple_regret_exact_15 = min_max_array(regret_exact_15)\n",
        "\n",
        "min_simple_regret_approx_15 = min(simple_regret_approx_15)\n",
        "min_simple_regret_exact_15 = min(simple_regret_exact_15)\n",
        "\n",
        "min_simple_regret_approx_15, min_simple_regret_exact_15"
      ],
      "execution_count": null,
      "outputs": [
        {
          "output_type": "execute_result",
          "data": {
            "text/plain": [
              "(2.8937534479573976, 2.793392198860436)"
            ]
          },
          "metadata": {},
          "execution_count": 69
        }
      ]
    },
    {
      "cell_type": "code",
      "metadata": {
        "id": "lIAC1U7ZQxfy",
        "colab": {
          "base_uri": "https://localhost:8080/"
        },
        "outputId": "5805e8fa-357b-4ce4-9ff1-63af2a6b7036"
      },
      "source": [
        "### Simple regret minimization: run number = 16\n",
        "\n",
        "approx_output_16 = np.append(np.min(approx_16.GP.y[0:n_init]),approx_16.GP.y[n_init:(n_init+iters)]) \n",
        "exact_output_16 = np.append(np.min(exact_16.GP.y[0:n_init]),exact_16.GP.y[n_init:(n_init+iters)]) \n",
        "\n",
        "regret_approx_16 = np.log(-approx_output_16 + y_global_orig)\n",
        "regret_exact_16 = np.log(-exact_output_16 + y_global_orig)\n",
        "\n",
        "simple_regret_approx_16 = min_max_array(regret_approx_16)\n",
        "simple_regret_exact_16 = min_max_array(regret_exact_16)\n",
        "\n",
        "min_simple_regret_approx_16 = min(simple_regret_approx_16)\n",
        "min_simple_regret_exact_16 = min(simple_regret_exact_16)\n",
        "\n",
        "min_simple_regret_approx_16, min_simple_regret_exact_16"
      ],
      "execution_count": null,
      "outputs": [
        {
          "output_type": "execute_result",
          "data": {
            "text/plain": [
              "(1.8876451886191041, 2.696065338445837)"
            ]
          },
          "metadata": {},
          "execution_count": 70
        }
      ]
    },
    {
      "cell_type": "code",
      "metadata": {
        "id": "bGott36OQxfz",
        "colab": {
          "base_uri": "https://localhost:8080/"
        },
        "outputId": "d6377ab3-301c-4afa-bd49-0d300e71c75a"
      },
      "source": [
        "### Simple regret minimization: run number = 17\n",
        "\n",
        "approx_output_17 = np.append(np.min(approx_17.GP.y[0:n_init]),approx_17.GP.y[n_init:(n_init+iters)]) \n",
        "exact_output_17 = np.append(np.min(exact_17.GP.y[0:n_init]),exact_17.GP.y[n_init:(n_init+iters)]) \n",
        "\n",
        "regret_approx_17 = np.log(-approx_output_17 + y_global_orig)\n",
        "regret_exact_17 = np.log(-exact_output_17 + y_global_orig)\n",
        "\n",
        "simple_regret_approx_17 = min_max_array(regret_approx_17)\n",
        "simple_regret_exact_17 = min_max_array(regret_exact_17)\n",
        "\n",
        "min_simple_regret_approx_17 = min(simple_regret_approx_17)\n",
        "min_simple_regret_exact_17 = min(simple_regret_exact_17)\n",
        "\n",
        "min_simple_regret_approx_17, min_simple_regret_exact_17"
      ],
      "execution_count": null,
      "outputs": [
        {
          "output_type": "execute_result",
          "data": {
            "text/plain": [
              "(2.4422657786685558, 2.947639642217807)"
            ]
          },
          "metadata": {},
          "execution_count": 71
        }
      ]
    },
    {
      "cell_type": "code",
      "metadata": {
        "id": "Cz9ZYMBMQxfz",
        "colab": {
          "base_uri": "https://localhost:8080/"
        },
        "outputId": "ca333f23-3fe8-4b53-ff69-5d6d01d13c8b"
      },
      "source": [
        "### Simple regret minimization: run number = 18\n",
        "\n",
        "approx_output_18 = np.append(np.min(approx_18.GP.y[0:n_init]),approx_18.GP.y[n_init:(n_init+iters)]) \n",
        "exact_output_18 = np.append(np.min(exact_18.GP.y[0:n_init]),exact_18.GP.y[n_init:(n_init+iters)]) \n",
        "\n",
        "regret_approx_18 = np.log(-approx_output_18 + y_global_orig)\n",
        "regret_exact_18 = np.log(-exact_output_18 + y_global_orig)\n",
        "\n",
        "simple_regret_approx_18 = min_max_array(regret_approx_18)\n",
        "simple_regret_exact_18 = min_max_array(regret_exact_18)\n",
        "\n",
        "min_simple_regret_approx_18 = min(simple_regret_approx_18)\n",
        "min_simple_regret_exact_18 = min(simple_regret_exact_18)\n",
        "\n",
        "min_simple_regret_approx_18, min_simple_regret_exact_18"
      ],
      "execution_count": null,
      "outputs": [
        {
          "output_type": "execute_result",
          "data": {
            "text/plain": [
              "(2.425807561590367, 2.1459776221266367)"
            ]
          },
          "metadata": {},
          "execution_count": 72
        }
      ]
    },
    {
      "cell_type": "code",
      "metadata": {
        "id": "OBfpWOHNQxf0",
        "colab": {
          "base_uri": "https://localhost:8080/"
        },
        "outputId": "e75fb27f-1e5a-46e7-baf4-7de766c54073"
      },
      "source": [
        "### Simple regret minimization: run number = 19\n",
        "\n",
        "approx_output_19 = np.append(np.min(approx_19.GP.y[0:n_init]),approx_19.GP.y[n_init:(n_init+iters)]) \n",
        "exact_output_19 = np.append(np.min(exact_19.GP.y[0:n_init]),exact_19.GP.y[n_init:(n_init+iters)]) \n",
        "\n",
        "regret_approx_19 = np.log(-approx_output_19 + y_global_orig)\n",
        "regret_exact_19 = np.log(-exact_output_19 + y_global_orig)\n",
        "\n",
        "simple_regret_approx_19 = min_max_array(regret_approx_19)\n",
        "simple_regret_exact_19 = min_max_array(regret_exact_19)\n",
        "\n",
        "min_simple_regret_approx_19 = min(simple_regret_approx_19)\n",
        "min_simple_regret_exact_19 = min(simple_regret_exact_19)\n",
        "\n",
        "min_simple_regret_approx_19, min_simple_regret_exact_19"
      ],
      "execution_count": null,
      "outputs": [
        {
          "output_type": "execute_result",
          "data": {
            "text/plain": [
              "(2.9653828685611314, 2.0197707926623383)"
            ]
          },
          "metadata": {},
          "execution_count": 73
        }
      ]
    },
    {
      "cell_type": "code",
      "metadata": {
        "id": "BE1AJ7NsQxf0",
        "colab": {
          "base_uri": "https://localhost:8080/"
        },
        "outputId": "1d4f6f5a-db9e-412d-df43-9c967260887e"
      },
      "source": [
        "### Simple regret minimization: run number = 20\n",
        "\n",
        "approx_output_20 = np.append(np.min(approx_20.GP.y[0:n_init]),approx_20.GP.y[n_init:(n_init+iters)]) \n",
        "exact_output_20 = np.append(np.min(exact_20.GP.y[0:n_init]),exact_20.GP.y[n_init:(n_init+iters)]) \n",
        "\n",
        "regret_approx_20 = np.log(-approx_output_20 + y_global_orig)\n",
        "regret_exact_20 = np.log(-exact_output_20 + y_global_orig)\n",
        "\n",
        "simple_regret_approx_20 = min_max_array(regret_approx_20)\n",
        "simple_regret_exact_20 = min_max_array(regret_exact_20)\n",
        "\n",
        "min_simple_regret_approx_20 = min(simple_regret_approx_20)\n",
        "min_simple_regret_exact_20 = min(simple_regret_exact_20)\n",
        "\n",
        "min_simple_regret_approx_20, min_simple_regret_exact_20"
      ],
      "execution_count": null,
      "outputs": [
        {
          "output_type": "execute_result",
          "data": {
            "text/plain": [
              "(3.00704358830277, 2.7797330744131457)"
            ]
          },
          "metadata": {},
          "execution_count": 74
        }
      ]
    },
    {
      "cell_type": "code",
      "metadata": {
        "id": "bpX-bKAHQxf1"
      },
      "source": [
        "# Iteration1 :\n",
        "\n",
        "slice1 = 0\n",
        "\n",
        "approx1 = [simple_regret_approx_1[slice1],\n",
        "       simple_regret_approx_2[slice1],\n",
        "       simple_regret_approx_3[slice1],\n",
        "       simple_regret_approx_4[slice1],\n",
        "       simple_regret_approx_5[slice1],\n",
        "       simple_regret_approx_6[slice1],\n",
        "       simple_regret_approx_7[slice1],\n",
        "       simple_regret_approx_8[slice1],\n",
        "       simple_regret_approx_9[slice1],\n",
        "       simple_regret_approx_10[slice1],\n",
        "       simple_regret_approx_11[slice1],\n",
        "       simple_regret_approx_12[slice1],\n",
        "       simple_regret_approx_13[slice1],\n",
        "       simple_regret_approx_14[slice1],\n",
        "       simple_regret_approx_15[slice1],\n",
        "       simple_regret_approx_16[slice1],\n",
        "       simple_regret_approx_17[slice1],\n",
        "       simple_regret_approx_18[slice1],\n",
        "       simple_regret_approx_19[slice1],\n",
        "       simple_regret_approx_20[slice1]]\n",
        "\n",
        "exact1 = [simple_regret_exact_1[slice1],\n",
        "       simple_regret_exact_2[slice1],\n",
        "       simple_regret_exact_3[slice1],\n",
        "       simple_regret_exact_4[slice1],\n",
        "       simple_regret_exact_5[slice1],\n",
        "       simple_regret_exact_6[slice1],\n",
        "       simple_regret_exact_7[slice1],\n",
        "       simple_regret_exact_8[slice1],\n",
        "       simple_regret_exact_9[slice1],\n",
        "       simple_regret_exact_10[slice1],\n",
        "       simple_regret_exact_11[slice1],\n",
        "       simple_regret_exact_12[slice1],\n",
        "       simple_regret_exact_13[slice1],\n",
        "       simple_regret_exact_14[slice1],\n",
        "       simple_regret_exact_15[slice1],\n",
        "       simple_regret_exact_16[slice1],\n",
        "       simple_regret_exact_17[slice1],\n",
        "       simple_regret_exact_18[slice1],\n",
        "       simple_regret_exact_19[slice1],\n",
        "       simple_regret_exact_20[slice1]]\n",
        "\n",
        "approx1_results = pd.DataFrame(approx1).sort_values(by=[0], ascending=False)\n",
        "exact1_results = pd.DataFrame(exact1).sort_values(by=[0], ascending=False)\n",
        "\n",
        "### Best simple regret minimization IQR - approx:\n",
        "lower_approx1 = np.asarray(approx1_results[4:5][0])[0]\n",
        "median_approx1 = np.asarray(approx1_results[9:10][0])[0]\n",
        "upper_approx1 = np.asarray(approx1_results[14:15][0])[0]\n",
        "\n",
        "lower_exact1 = np.asarray(exact1_results[4:5][0])[0]\n",
        "median_exact1 = np.asarray(exact1_results[9:10][0])[0]\n",
        "upper_exact1 = np.asarray(exact1_results[14:15][0])[0]"
      ],
      "execution_count": null,
      "outputs": []
    },
    {
      "cell_type": "code",
      "metadata": {
        "id": "CgIkJA1xQxf2"
      },
      "source": [
        "# Iteration11 :\n",
        "\n",
        "slice11 = 10\n",
        "\n",
        "approx11 = [simple_regret_approx_1[slice11],\n",
        "       simple_regret_approx_2[slice11],\n",
        "       simple_regret_approx_3[slice11],\n",
        "       simple_regret_approx_4[slice11],\n",
        "       simple_regret_approx_5[slice11],\n",
        "       simple_regret_approx_6[slice11],\n",
        "       simple_regret_approx_7[slice11],\n",
        "       simple_regret_approx_8[slice11],\n",
        "       simple_regret_approx_9[slice11],\n",
        "       simple_regret_approx_10[slice11],\n",
        "       simple_regret_approx_11[slice11],\n",
        "       simple_regret_approx_12[slice11],\n",
        "       simple_regret_approx_13[slice11],\n",
        "       simple_regret_approx_14[slice11],\n",
        "       simple_regret_approx_15[slice11],\n",
        "       simple_regret_approx_16[slice11],\n",
        "       simple_regret_approx_17[slice11],\n",
        "       simple_regret_approx_18[slice11],\n",
        "       simple_regret_approx_19[slice11],\n",
        "       simple_regret_approx_20[slice11]]\n",
        "\n",
        "exact11 = [simple_regret_exact_1[slice11],\n",
        "       simple_regret_exact_2[slice11],\n",
        "       simple_regret_exact_3[slice11],\n",
        "       simple_regret_exact_4[slice11],\n",
        "       simple_regret_exact_5[slice11],\n",
        "       simple_regret_exact_6[slice11],\n",
        "       simple_regret_exact_7[slice11],\n",
        "       simple_regret_exact_8[slice11],\n",
        "       simple_regret_exact_9[slice11],\n",
        "       simple_regret_exact_10[slice11],\n",
        "       simple_regret_exact_11[slice11],\n",
        "       simple_regret_exact_12[slice11],\n",
        "       simple_regret_exact_13[slice11],\n",
        "       simple_regret_exact_14[slice11],\n",
        "       simple_regret_exact_15[slice11],\n",
        "       simple_regret_exact_16[slice11],\n",
        "       simple_regret_exact_17[slice11],\n",
        "       simple_regret_exact_18[slice11],\n",
        "       simple_regret_exact_19[slice11],\n",
        "       simple_regret_exact_20[slice11]]\n",
        "\n",
        "approx11_results = pd.DataFrame(approx11).sort_values(by=[0], ascending=False)\n",
        "exact11_results = pd.DataFrame(exact11).sort_values(by=[0], ascending=False)\n",
        "\n",
        "### Best simple regret minimization IQR - approx:\n",
        "lower_approx11 = np.asarray(approx11_results[4:5][0])[0]\n",
        "median_approx11 = np.asarray(approx11_results[9:10][0])[0]\n",
        "upper_approx11 = np.asarray(approx11_results[14:15][0])[0]\n",
        "\n",
        "lower_exact11 = np.asarray(exact11_results[4:5][0])[0]\n",
        "median_exact11 = np.asarray(exact11_results[9:10][0])[0]\n",
        "upper_exact11 = np.asarray(exact11_results[14:15][0])[0]"
      ],
      "execution_count": null,
      "outputs": []
    },
    {
      "cell_type": "code",
      "metadata": {
        "id": "MFePDfGuQxf2"
      },
      "source": [
        "# Iteration21 :\n",
        "\n",
        "slice21 = 20\n",
        "\n",
        "approx21 = [simple_regret_approx_1[slice21],\n",
        "       simple_regret_approx_2[slice21],\n",
        "       simple_regret_approx_3[slice21],\n",
        "       simple_regret_approx_4[slice21],\n",
        "       simple_regret_approx_5[slice21],\n",
        "       simple_regret_approx_6[slice21],\n",
        "       simple_regret_approx_7[slice21],\n",
        "       simple_regret_approx_8[slice21],\n",
        "       simple_regret_approx_9[slice21],\n",
        "       simple_regret_approx_10[slice21],\n",
        "       simple_regret_approx_11[slice21],\n",
        "       simple_regret_approx_12[slice21],\n",
        "       simple_regret_approx_13[slice21],\n",
        "       simple_regret_approx_14[slice21],\n",
        "       simple_regret_approx_15[slice21],\n",
        "       simple_regret_approx_16[slice21],\n",
        "       simple_regret_approx_17[slice21],\n",
        "       simple_regret_approx_18[slice21],\n",
        "       simple_regret_approx_19[slice21],\n",
        "       simple_regret_approx_20[slice21]]\n",
        "\n",
        "exact21 = [simple_regret_exact_1[slice21],\n",
        "       simple_regret_exact_2[slice21],\n",
        "       simple_regret_exact_3[slice21],\n",
        "       simple_regret_exact_4[slice21],\n",
        "       simple_regret_exact_5[slice21],\n",
        "       simple_regret_exact_6[slice21],\n",
        "       simple_regret_exact_7[slice21],\n",
        "       simple_regret_exact_8[slice21],\n",
        "       simple_regret_exact_9[slice21],\n",
        "       simple_regret_exact_10[slice21],\n",
        "       simple_regret_exact_11[slice21],\n",
        "       simple_regret_exact_12[slice21],\n",
        "       simple_regret_exact_13[slice21],\n",
        "       simple_regret_exact_14[slice21],\n",
        "       simple_regret_exact_15[slice21],\n",
        "       simple_regret_exact_16[slice21],\n",
        "       simple_regret_exact_17[slice21],\n",
        "       simple_regret_exact_18[slice21],\n",
        "       simple_regret_exact_19[slice21],\n",
        "       simple_regret_exact_20[slice21]]\n",
        "\n",
        "approx21_results = pd.DataFrame(approx21).sort_values(by=[0], ascending=False)\n",
        "exact21_results = pd.DataFrame(exact21).sort_values(by=[0], ascending=False)\n",
        "\n",
        "### Best simple regret minimization IQR - approx:\n",
        "lower_approx21 = np.asarray(approx21_results[4:5][0])[0]\n",
        "median_approx21 = np.asarray(approx21_results[9:10][0])[0]\n",
        "upper_approx21 = np.asarray(approx21_results[14:15][0])[0]\n",
        "\n",
        "lower_exact21 = np.asarray(exact21_results[4:5][0])[0]\n",
        "median_exact21 = np.asarray(exact21_results[9:10][0])[0]\n",
        "upper_exact21 = np.asarray(exact21_results[14:15][0])[0]"
      ],
      "execution_count": null,
      "outputs": []
    },
    {
      "cell_type": "code",
      "metadata": {
        "id": "PrRDB1kfQxf3"
      },
      "source": [
        "# Iteration2 :\n",
        "\n",
        "slice2 = 1\n",
        "\n",
        "approx2 = [simple_regret_approx_1[slice2],\n",
        "       simple_regret_approx_2[slice2],\n",
        "       simple_regret_approx_3[slice2],\n",
        "       simple_regret_approx_4[slice2],\n",
        "       simple_regret_approx_5[slice2],\n",
        "       simple_regret_approx_6[slice2],\n",
        "       simple_regret_approx_7[slice2],\n",
        "       simple_regret_approx_8[slice2],\n",
        "       simple_regret_approx_9[slice2],\n",
        "       simple_regret_approx_10[slice2],\n",
        "       simple_regret_approx_11[slice2],\n",
        "       simple_regret_approx_12[slice2],\n",
        "       simple_regret_approx_13[slice2],\n",
        "       simple_regret_approx_14[slice2],\n",
        "       simple_regret_approx_15[slice2],\n",
        "       simple_regret_approx_16[slice2],\n",
        "       simple_regret_approx_17[slice2],\n",
        "       simple_regret_approx_18[slice2],\n",
        "       simple_regret_approx_19[slice2],\n",
        "       simple_regret_approx_20[slice2]]\n",
        "\n",
        "exact2 = [simple_regret_exact_1[slice2],\n",
        "       simple_regret_exact_2[slice2],\n",
        "       simple_regret_exact_3[slice2],\n",
        "       simple_regret_exact_4[slice2],\n",
        "       simple_regret_exact_5[slice2],\n",
        "       simple_regret_exact_6[slice2],\n",
        "       simple_regret_exact_7[slice2],\n",
        "       simple_regret_exact_8[slice2],\n",
        "       simple_regret_exact_9[slice2],\n",
        "       simple_regret_exact_10[slice2],\n",
        "       simple_regret_exact_11[slice2],\n",
        "       simple_regret_exact_12[slice2],\n",
        "       simple_regret_exact_13[slice2],\n",
        "       simple_regret_exact_14[slice2],\n",
        "       simple_regret_exact_15[slice2],\n",
        "       simple_regret_exact_16[slice2],\n",
        "       simple_regret_exact_17[slice2],\n",
        "       simple_regret_exact_18[slice2],\n",
        "       simple_regret_exact_19[slice2],\n",
        "       simple_regret_exact_20[slice2]]\n",
        "\n",
        "approx2_results = pd.DataFrame(approx2).sort_values(by=[0], ascending=False)\n",
        "exact2_results = pd.DataFrame(exact2).sort_values(by=[0], ascending=False)\n",
        "\n",
        "### Best simple regret minimization IQR - approx:\n",
        "lower_approx2 = np.asarray(approx2_results[4:5][0])[0]\n",
        "median_approx2 = np.asarray(approx2_results[9:10][0])[0]\n",
        "upper_approx2 = np.asarray(approx2_results[14:15][0])[0]\n",
        "\n",
        "lower_exact2 = np.asarray(exact2_results[4:5][0])[0]\n",
        "median_exact2 = np.asarray(exact2_results[9:10][0])[0]\n",
        "upper_exact2 = np.asarray(exact2_results[14:15][0])[0]"
      ],
      "execution_count": null,
      "outputs": []
    },
    {
      "cell_type": "code",
      "metadata": {
        "id": "B8ncJDYeQxf3"
      },
      "source": [
        "# Iteration12 :\n",
        "\n",
        "slice12 = 11\n",
        "\n",
        "approx12 = [simple_regret_approx_1[slice12],\n",
        "       simple_regret_approx_2[slice12],\n",
        "       simple_regret_approx_3[slice12],\n",
        "       simple_regret_approx_4[slice12],\n",
        "       simple_regret_approx_5[slice12],\n",
        "       simple_regret_approx_6[slice12],\n",
        "       simple_regret_approx_7[slice12],\n",
        "       simple_regret_approx_8[slice12],\n",
        "       simple_regret_approx_9[slice12],\n",
        "       simple_regret_approx_10[slice12],\n",
        "       simple_regret_approx_11[slice12],\n",
        "       simple_regret_approx_12[slice12],\n",
        "       simple_regret_approx_13[slice12],\n",
        "       simple_regret_approx_14[slice12],\n",
        "       simple_regret_approx_15[slice12],\n",
        "       simple_regret_approx_16[slice12],\n",
        "       simple_regret_approx_17[slice12],\n",
        "       simple_regret_approx_18[slice12],\n",
        "       simple_regret_approx_19[slice12],\n",
        "       simple_regret_approx_20[slice12]]\n",
        "\n",
        "exact12 = [simple_regret_exact_1[slice12],\n",
        "       simple_regret_exact_2[slice12],\n",
        "       simple_regret_exact_3[slice12],\n",
        "       simple_regret_exact_4[slice12],\n",
        "       simple_regret_exact_5[slice12],\n",
        "       simple_regret_exact_6[slice12],\n",
        "       simple_regret_exact_7[slice12],\n",
        "       simple_regret_exact_8[slice12],\n",
        "       simple_regret_exact_9[slice12],\n",
        "       simple_regret_exact_10[slice12],\n",
        "       simple_regret_exact_11[slice12],\n",
        "       simple_regret_exact_12[slice12],\n",
        "       simple_regret_exact_13[slice12],\n",
        "       simple_regret_exact_14[slice12],\n",
        "       simple_regret_exact_15[slice12],\n",
        "       simple_regret_exact_16[slice12],\n",
        "       simple_regret_exact_17[slice12],\n",
        "       simple_regret_exact_18[slice12],\n",
        "       simple_regret_exact_19[slice12],\n",
        "       simple_regret_exact_20[slice12]]\n",
        "\n",
        "approx12_results = pd.DataFrame(approx12).sort_values(by=[0], ascending=False)\n",
        "exact12_results = pd.DataFrame(exact12).sort_values(by=[0], ascending=False)\n",
        "\n",
        "### Best simple regret minimization IQR - approx:\n",
        "lower_approx12 = np.asarray(approx12_results[4:5][0])[0]\n",
        "median_approx12 = np.asarray(approx12_results[9:10][0])[0]\n",
        "upper_approx12 = np.asarray(approx12_results[14:15][0])[0]\n",
        "\n",
        "lower_exact12 = np.asarray(exact12_results[4:5][0])[0]\n",
        "median_exact12 = np.asarray(exact12_results[9:10][0])[0]\n",
        "upper_exact12 = np.asarray(exact12_results[14:15][0])[0]"
      ],
      "execution_count": null,
      "outputs": []
    },
    {
      "cell_type": "code",
      "metadata": {
        "id": "Jn4KpGvcQxf4"
      },
      "source": [
        "# Iteration3 :\n",
        "\n",
        "slice3 = 2\n",
        "\n",
        "approx3 = [simple_regret_approx_1[slice3],\n",
        "       simple_regret_approx_2[slice3],\n",
        "       simple_regret_approx_3[slice3],\n",
        "       simple_regret_approx_4[slice3],\n",
        "       simple_regret_approx_5[slice3],\n",
        "       simple_regret_approx_6[slice3],\n",
        "       simple_regret_approx_7[slice3],\n",
        "       simple_regret_approx_8[slice3],\n",
        "       simple_regret_approx_9[slice3],\n",
        "       simple_regret_approx_10[slice3],\n",
        "       simple_regret_approx_11[slice3],\n",
        "       simple_regret_approx_12[slice3],\n",
        "       simple_regret_approx_13[slice3],\n",
        "       simple_regret_approx_14[slice3],\n",
        "       simple_regret_approx_15[slice3],\n",
        "       simple_regret_approx_16[slice3],\n",
        "       simple_regret_approx_17[slice3],\n",
        "       simple_regret_approx_18[slice3],\n",
        "       simple_regret_approx_19[slice3],\n",
        "       simple_regret_approx_20[slice3]]\n",
        "\n",
        "exact3 = [simple_regret_exact_1[slice3],\n",
        "       simple_regret_exact_2[slice3],\n",
        "       simple_regret_exact_3[slice3],\n",
        "       simple_regret_exact_4[slice3],\n",
        "       simple_regret_exact_5[slice3],\n",
        "       simple_regret_exact_6[slice3],\n",
        "       simple_regret_exact_7[slice3],\n",
        "       simple_regret_exact_8[slice3],\n",
        "       simple_regret_exact_9[slice3],\n",
        "       simple_regret_exact_10[slice3],\n",
        "       simple_regret_exact_11[slice3],\n",
        "       simple_regret_exact_12[slice3],\n",
        "       simple_regret_exact_13[slice3],\n",
        "       simple_regret_exact_14[slice3],\n",
        "       simple_regret_exact_15[slice3],\n",
        "       simple_regret_exact_16[slice3],\n",
        "       simple_regret_exact_17[slice3],\n",
        "       simple_regret_exact_18[slice3],\n",
        "       simple_regret_exact_19[slice3],\n",
        "       simple_regret_exact_20[slice3]]\n",
        "\n",
        "approx3_results = pd.DataFrame(approx3).sort_values(by=[0], ascending=False)\n",
        "exact3_results = pd.DataFrame(exact3).sort_values(by=[0], ascending=False)\n",
        "\n",
        "### Best simple regret minimization IQR - approx:\n",
        "lower_approx3 = np.asarray(approx3_results[4:5][0])[0]\n",
        "median_approx3 = np.asarray(approx3_results[9:10][0])[0]\n",
        "upper_approx3 = np.asarray(approx3_results[14:15][0])[0]\n",
        "\n",
        "lower_exact3 = np.asarray(exact3_results[4:5][0])[0]\n",
        "median_exact3 = np.asarray(exact3_results[9:10][0])[0]\n",
        "upper_exact3 = np.asarray(exact3_results[14:15][0])[0]"
      ],
      "execution_count": null,
      "outputs": []
    },
    {
      "cell_type": "code",
      "metadata": {
        "id": "plf83wxrQxf4"
      },
      "source": [
        "# Iteration13 :\n",
        "\n",
        "slice13 = 12\n",
        "\n",
        "approx13 = [simple_regret_approx_1[slice13],\n",
        "       simple_regret_approx_2[slice13],\n",
        "       simple_regret_approx_3[slice13],\n",
        "       simple_regret_approx_4[slice13],\n",
        "       simple_regret_approx_5[slice13],\n",
        "       simple_regret_approx_6[slice13],\n",
        "       simple_regret_approx_7[slice13],\n",
        "       simple_regret_approx_8[slice13],\n",
        "       simple_regret_approx_9[slice13],\n",
        "       simple_regret_approx_10[slice13],\n",
        "       simple_regret_approx_11[slice13],\n",
        "       simple_regret_approx_12[slice13],\n",
        "       simple_regret_approx_13[slice13],\n",
        "       simple_regret_approx_14[slice13],\n",
        "       simple_regret_approx_15[slice13],\n",
        "       simple_regret_approx_16[slice13],\n",
        "       simple_regret_approx_17[slice13],\n",
        "       simple_regret_approx_18[slice13],\n",
        "       simple_regret_approx_19[slice13],\n",
        "       simple_regret_approx_20[slice13]]\n",
        "\n",
        "exact13 = [simple_regret_exact_1[slice13],\n",
        "       simple_regret_exact_2[slice13],\n",
        "       simple_regret_exact_3[slice13],\n",
        "       simple_regret_exact_4[slice13],\n",
        "       simple_regret_exact_5[slice13],\n",
        "       simple_regret_exact_6[slice13],\n",
        "       simple_regret_exact_7[slice13],\n",
        "       simple_regret_exact_8[slice13],\n",
        "       simple_regret_exact_9[slice13],\n",
        "       simple_regret_exact_10[slice13],\n",
        "       simple_regret_exact_11[slice13],\n",
        "       simple_regret_exact_12[slice13],\n",
        "       simple_regret_exact_13[slice13],\n",
        "       simple_regret_exact_14[slice13],\n",
        "       simple_regret_exact_15[slice13],\n",
        "       simple_regret_exact_16[slice13],\n",
        "       simple_regret_exact_17[slice13],\n",
        "       simple_regret_exact_18[slice13],\n",
        "       simple_regret_exact_19[slice13],\n",
        "       simple_regret_exact_20[slice13]]\n",
        "\n",
        "approx13_results = pd.DataFrame(approx13).sort_values(by=[0], ascending=False)\n",
        "exact13_results = pd.DataFrame(exact13).sort_values(by=[0], ascending=False)\n",
        "\n",
        "### Best simple regret minimization IQR - approx:\n",
        "lower_approx13 = np.asarray(approx13_results[4:5][0])[0]\n",
        "median_approx13 = np.asarray(approx13_results[9:10][0])[0]\n",
        "upper_approx13 = np.asarray(approx13_results[14:15][0])[0]\n",
        "\n",
        "lower_exact13 = np.asarray(exact13_results[4:5][0])[0]\n",
        "median_exact13 = np.asarray(exact13_results[9:10][0])[0]\n",
        "upper_exact13 = np.asarray(exact13_results[14:15][0])[0]"
      ],
      "execution_count": null,
      "outputs": []
    },
    {
      "cell_type": "code",
      "metadata": {
        "id": "9A7mlVvJQxf5"
      },
      "source": [
        "# Iteration4 :\n",
        "\n",
        "slice4 = 3\n",
        "\n",
        "approx4 = [simple_regret_approx_1[slice4],\n",
        "       simple_regret_approx_2[slice4],\n",
        "       simple_regret_approx_3[slice4],\n",
        "       simple_regret_approx_4[slice4],\n",
        "       simple_regret_approx_5[slice4],\n",
        "       simple_regret_approx_6[slice4],\n",
        "       simple_regret_approx_7[slice4],\n",
        "       simple_regret_approx_8[slice4],\n",
        "       simple_regret_approx_9[slice4],\n",
        "       simple_regret_approx_10[slice4],\n",
        "       simple_regret_approx_11[slice4],\n",
        "       simple_regret_approx_12[slice4],\n",
        "       simple_regret_approx_13[slice4],\n",
        "       simple_regret_approx_14[slice4],\n",
        "       simple_regret_approx_15[slice4],\n",
        "       simple_regret_approx_16[slice4],\n",
        "       simple_regret_approx_17[slice4],\n",
        "       simple_regret_approx_18[slice4],\n",
        "       simple_regret_approx_19[slice4],\n",
        "       simple_regret_approx_20[slice4]]\n",
        "\n",
        "exact4 = [simple_regret_exact_1[slice4],\n",
        "       simple_regret_exact_2[slice4],\n",
        "       simple_regret_exact_3[slice4],\n",
        "       simple_regret_exact_4[slice4],\n",
        "       simple_regret_exact_5[slice4],\n",
        "       simple_regret_exact_6[slice4],\n",
        "       simple_regret_exact_7[slice4],\n",
        "       simple_regret_exact_8[slice4],\n",
        "       simple_regret_exact_9[slice4],\n",
        "       simple_regret_exact_10[slice4],\n",
        "       simple_regret_exact_11[slice4],\n",
        "       simple_regret_exact_12[slice4],\n",
        "       simple_regret_exact_13[slice4],\n",
        "       simple_regret_exact_14[slice4],\n",
        "       simple_regret_exact_15[slice4],\n",
        "       simple_regret_exact_16[slice4],\n",
        "       simple_regret_exact_17[slice4],\n",
        "       simple_regret_exact_18[slice4],\n",
        "       simple_regret_exact_19[slice4],\n",
        "       simple_regret_exact_20[slice4]]\n",
        "\n",
        "approx4_results = pd.DataFrame(approx4).sort_values(by=[0], ascending=False)\n",
        "exact4_results = pd.DataFrame(exact4).sort_values(by=[0], ascending=False)\n",
        "\n",
        "### Best simple regret minimization IQR - approx:\n",
        "lower_approx4 = np.asarray(approx4_results[4:5][0])[0]\n",
        "median_approx4 = np.asarray(approx4_results[9:10][0])[0]\n",
        "upper_approx4 = np.asarray(approx4_results[14:15][0])[0]\n",
        "\n",
        "lower_exact4 = np.asarray(exact4_results[4:5][0])[0]\n",
        "median_exact4 = np.asarray(exact4_results[9:10][0])[0]\n",
        "upper_exact4 = np.asarray(exact4_results[14:15][0])[0]"
      ],
      "execution_count": null,
      "outputs": []
    },
    {
      "cell_type": "code",
      "metadata": {
        "id": "ijq-rioYQxf5"
      },
      "source": [
        "# Iteration14 :\n",
        "\n",
        "slice14 = 13\n",
        "\n",
        "approx14 = [simple_regret_approx_1[slice14],\n",
        "       simple_regret_approx_2[slice14],\n",
        "       simple_regret_approx_3[slice14],\n",
        "       simple_regret_approx_4[slice14],\n",
        "       simple_regret_approx_5[slice14],\n",
        "       simple_regret_approx_6[slice14],\n",
        "       simple_regret_approx_7[slice14],\n",
        "       simple_regret_approx_8[slice14],\n",
        "       simple_regret_approx_9[slice14],\n",
        "       simple_regret_approx_10[slice14],\n",
        "       simple_regret_approx_11[slice14],\n",
        "       simple_regret_approx_12[slice14],\n",
        "       simple_regret_approx_13[slice14],\n",
        "       simple_regret_approx_14[slice14],\n",
        "       simple_regret_approx_15[slice14],\n",
        "       simple_regret_approx_16[slice14],\n",
        "       simple_regret_approx_17[slice14],\n",
        "       simple_regret_approx_18[slice14],\n",
        "       simple_regret_approx_19[slice14],\n",
        "       simple_regret_approx_20[slice14]]\n",
        "\n",
        "exact14 = [simple_regret_exact_1[slice14],\n",
        "       simple_regret_exact_2[slice14],\n",
        "       simple_regret_exact_3[slice14],\n",
        "       simple_regret_exact_4[slice14],\n",
        "       simple_regret_exact_5[slice14],\n",
        "       simple_regret_exact_6[slice14],\n",
        "       simple_regret_exact_7[slice14],\n",
        "       simple_regret_exact_8[slice14],\n",
        "       simple_regret_exact_9[slice14],\n",
        "       simple_regret_exact_10[slice14],\n",
        "       simple_regret_exact_11[slice14],\n",
        "       simple_regret_exact_12[slice14],\n",
        "       simple_regret_exact_13[slice14],\n",
        "       simple_regret_exact_14[slice14],\n",
        "       simple_regret_exact_15[slice14],\n",
        "       simple_regret_exact_16[slice14],\n",
        "       simple_regret_exact_17[slice14],\n",
        "       simple_regret_exact_18[slice14],\n",
        "       simple_regret_exact_19[slice14],\n",
        "       simple_regret_exact_20[slice14]]\n",
        "\n",
        "approx14_results = pd.DataFrame(approx14).sort_values(by=[0], ascending=False)\n",
        "exact14_results = pd.DataFrame(exact14).sort_values(by=[0], ascending=False)\n",
        "\n",
        "### Best simple regret minimization IQR - approx:\n",
        "lower_approx14 = np.asarray(approx14_results[4:5][0])[0]\n",
        "median_approx14 = np.asarray(approx14_results[9:10][0])[0]\n",
        "upper_approx14 = np.asarray(approx14_results[14:15][0])[0]\n",
        "\n",
        "lower_exact14 = np.asarray(exact14_results[4:5][0])[0]\n",
        "median_exact14 = np.asarray(exact14_results[9:10][0])[0]\n",
        "upper_exact14 = np.asarray(exact14_results[14:15][0])[0]"
      ],
      "execution_count": null,
      "outputs": []
    },
    {
      "cell_type": "code",
      "metadata": {
        "id": "XINlZjoTd-ZK"
      },
      "source": [
        "# Iteration5 :\n",
        "\n",
        "slice5 = 4\n",
        "\n",
        "approx5 = [simple_regret_approx_1[slice5],\n",
        "       simple_regret_approx_2[slice5],\n",
        "       simple_regret_approx_3[slice5],\n",
        "       simple_regret_approx_4[slice5],\n",
        "       simple_regret_approx_5[slice5],\n",
        "       simple_regret_approx_6[slice5],\n",
        "       simple_regret_approx_7[slice5],\n",
        "       simple_regret_approx_8[slice5],\n",
        "       simple_regret_approx_9[slice5],\n",
        "       simple_regret_approx_10[slice5],\n",
        "       simple_regret_approx_11[slice5],\n",
        "       simple_regret_approx_12[slice5],\n",
        "       simple_regret_approx_13[slice5],\n",
        "       simple_regret_approx_14[slice5],\n",
        "       simple_regret_approx_15[slice5],\n",
        "       simple_regret_approx_16[slice5],\n",
        "       simple_regret_approx_17[slice5],\n",
        "       simple_regret_approx_18[slice5],\n",
        "       simple_regret_approx_19[slice5],\n",
        "       simple_regret_approx_20[slice5]]\n",
        "\n",
        "exact5 = [simple_regret_exact_1[slice5],\n",
        "       simple_regret_exact_2[slice5],\n",
        "       simple_regret_exact_3[slice5],\n",
        "       simple_regret_exact_4[slice5],\n",
        "       simple_regret_exact_5[slice5],\n",
        "       simple_regret_exact_6[slice5],\n",
        "       simple_regret_exact_7[slice5],\n",
        "       simple_regret_exact_8[slice5],\n",
        "       simple_regret_exact_9[slice5],\n",
        "       simple_regret_exact_10[slice5],\n",
        "       simple_regret_exact_11[slice5],\n",
        "       simple_regret_exact_12[slice5],\n",
        "       simple_regret_exact_13[slice5],\n",
        "       simple_regret_exact_14[slice5],\n",
        "       simple_regret_exact_15[slice5],\n",
        "       simple_regret_exact_16[slice5],\n",
        "       simple_regret_exact_17[slice5],\n",
        "       simple_regret_exact_18[slice5],\n",
        "       simple_regret_exact_19[slice5],\n",
        "       simple_regret_exact_20[slice5]]\n",
        "\n",
        "approx5_results = pd.DataFrame(approx5).sort_values(by=[0], ascending=False)\n",
        "exact5_results = pd.DataFrame(exact5).sort_values(by=[0], ascending=False)\n",
        "\n",
        "### Best simple regret minimization IQR - approx:\n",
        "lower_approx5 = np.asarray(approx5_results[4:5][0])[0]\n",
        "median_approx5 = np.asarray(approx5_results[9:10][0])[0]\n",
        "upper_approx5 = np.asarray(approx5_results[14:15][0])[0]\n",
        "\n",
        "lower_exact5 = np.asarray(exact5_results[4:5][0])[0]\n",
        "median_exact5 = np.asarray(exact5_results[9:10][0])[0]\n",
        "upper_exact5 = np.asarray(exact5_results[14:15][0])[0]"
      ],
      "execution_count": null,
      "outputs": []
    },
    {
      "cell_type": "code",
      "metadata": {
        "id": "4aZ7C8sOQxf6"
      },
      "source": [
        "# Iteration15 :\n",
        "\n",
        "slice15 = 14\n",
        "\n",
        "approx15 = [simple_regret_approx_1[slice15],\n",
        "       simple_regret_approx_2[slice15],\n",
        "       simple_regret_approx_3[slice15],\n",
        "       simple_regret_approx_4[slice15],\n",
        "       simple_regret_approx_5[slice15],\n",
        "       simple_regret_approx_6[slice15],\n",
        "       simple_regret_approx_7[slice15],\n",
        "       simple_regret_approx_8[slice15],\n",
        "       simple_regret_approx_9[slice15],\n",
        "       simple_regret_approx_10[slice15],\n",
        "       simple_regret_approx_11[slice15],\n",
        "       simple_regret_approx_12[slice15],\n",
        "       simple_regret_approx_13[slice15],\n",
        "       simple_regret_approx_14[slice15],\n",
        "       simple_regret_approx_15[slice15],\n",
        "       simple_regret_approx_16[slice15],\n",
        "       simple_regret_approx_17[slice15],\n",
        "       simple_regret_approx_18[slice15],\n",
        "       simple_regret_approx_19[slice15],\n",
        "       simple_regret_approx_20[slice15]]\n",
        "\n",
        "exact15 = [simple_regret_exact_1[slice15],\n",
        "       simple_regret_exact_2[slice15],\n",
        "       simple_regret_exact_3[slice15],\n",
        "       simple_regret_exact_4[slice15],\n",
        "       simple_regret_exact_5[slice15],\n",
        "       simple_regret_exact_6[slice15],\n",
        "       simple_regret_exact_7[slice15],\n",
        "       simple_regret_exact_8[slice15],\n",
        "       simple_regret_exact_9[slice15],\n",
        "       simple_regret_exact_10[slice15],\n",
        "       simple_regret_exact_11[slice15],\n",
        "       simple_regret_exact_12[slice15],\n",
        "       simple_regret_exact_13[slice15],\n",
        "       simple_regret_exact_14[slice15],\n",
        "       simple_regret_exact_15[slice15],\n",
        "       simple_regret_exact_16[slice15],\n",
        "       simple_regret_exact_17[slice15],\n",
        "       simple_regret_exact_18[slice15],\n",
        "       simple_regret_exact_19[slice15],\n",
        "       simple_regret_exact_20[slice15]]\n",
        "\n",
        "approx15_results = pd.DataFrame(approx15).sort_values(by=[0], ascending=False)\n",
        "exact15_results = pd.DataFrame(exact15).sort_values(by=[0], ascending=False)\n",
        "\n",
        "### Best simple regret minimization IQR - approx:\n",
        "lower_approx15 = np.asarray(approx15_results[4:5][0])[0]\n",
        "median_approx15 = np.asarray(approx15_results[9:10][0])[0]\n",
        "upper_approx15 = np.asarray(approx15_results[14:15][0])[0]\n",
        "\n",
        "lower_exact15 = np.asarray(exact15_results[4:5][0])[0]\n",
        "median_exact15 = np.asarray(exact15_results[9:10][0])[0]\n",
        "upper_exact15 = np.asarray(exact15_results[14:15][0])[0]"
      ],
      "execution_count": null,
      "outputs": []
    },
    {
      "cell_type": "code",
      "metadata": {
        "id": "KJINKhv1Qxf6"
      },
      "source": [
        "# Iteration6 :\n",
        "\n",
        "slice6 = 5\n",
        "\n",
        "approx6 = [simple_regret_approx_1[slice6],\n",
        "       simple_regret_approx_2[slice6],\n",
        "       simple_regret_approx_3[slice6],\n",
        "       simple_regret_approx_4[slice6],\n",
        "       simple_regret_approx_5[slice6],\n",
        "       simple_regret_approx_6[slice6],\n",
        "       simple_regret_approx_7[slice6],\n",
        "       simple_regret_approx_8[slice6],\n",
        "       simple_regret_approx_9[slice6],\n",
        "       simple_regret_approx_10[slice6],\n",
        "       simple_regret_approx_11[slice6],\n",
        "       simple_regret_approx_12[slice6],\n",
        "       simple_regret_approx_13[slice6],\n",
        "       simple_regret_approx_14[slice6],\n",
        "       simple_regret_approx_15[slice6],\n",
        "       simple_regret_approx_16[slice6],\n",
        "       simple_regret_approx_17[slice6],\n",
        "       simple_regret_approx_18[slice6],\n",
        "       simple_regret_approx_19[slice6],\n",
        "       simple_regret_approx_20[slice6]]\n",
        "\n",
        "exact6 = [simple_regret_exact_1[slice6],\n",
        "       simple_regret_exact_2[slice6],\n",
        "       simple_regret_exact_3[slice6],\n",
        "       simple_regret_exact_4[slice6],\n",
        "       simple_regret_exact_5[slice6],\n",
        "       simple_regret_exact_6[slice6],\n",
        "       simple_regret_exact_7[slice6],\n",
        "       simple_regret_exact_8[slice6],\n",
        "       simple_regret_exact_9[slice6],\n",
        "       simple_regret_exact_10[slice6],\n",
        "       simple_regret_exact_11[slice6],\n",
        "       simple_regret_exact_12[slice6],\n",
        "       simple_regret_exact_13[slice6],\n",
        "       simple_regret_exact_14[slice6],\n",
        "       simple_regret_exact_15[slice6],\n",
        "       simple_regret_exact_16[slice6],\n",
        "       simple_regret_exact_17[slice6],\n",
        "       simple_regret_exact_18[slice6],\n",
        "       simple_regret_exact_19[slice6],\n",
        "       simple_regret_exact_20[slice6]]\n",
        "\n",
        "approx6_results = pd.DataFrame(approx6).sort_values(by=[0], ascending=False)\n",
        "exact6_results = pd.DataFrame(exact6).sort_values(by=[0], ascending=False)\n",
        "\n",
        "### Best simple regret minimization IQR - approx:\n",
        "lower_approx6 = np.asarray(approx6_results[4:5][0])[0]\n",
        "median_approx6 = np.asarray(approx6_results[9:10][0])[0]\n",
        "upper_approx6 = np.asarray(approx6_results[14:15][0])[0]\n",
        "\n",
        "lower_exact6 = np.asarray(exact6_results[4:5][0])[0]\n",
        "median_exact6 = np.asarray(exact6_results[9:10][0])[0]\n",
        "upper_exact6 = np.asarray(exact6_results[14:15][0])[0]"
      ],
      "execution_count": null,
      "outputs": []
    },
    {
      "cell_type": "code",
      "metadata": {
        "id": "nwC5N1FsQxf7"
      },
      "source": [
        "# Iteration16 :\n",
        "\n",
        "slice16 = 15\n",
        "\n",
        "approx16 = [simple_regret_approx_1[slice16],\n",
        "       simple_regret_approx_2[slice16],\n",
        "       simple_regret_approx_3[slice16],\n",
        "       simple_regret_approx_4[slice16],\n",
        "       simple_regret_approx_5[slice16],\n",
        "       simple_regret_approx_6[slice16],\n",
        "       simple_regret_approx_7[slice16],\n",
        "       simple_regret_approx_8[slice16],\n",
        "       simple_regret_approx_9[slice16],\n",
        "       simple_regret_approx_10[slice16],\n",
        "       simple_regret_approx_11[slice16],\n",
        "       simple_regret_approx_12[slice16],\n",
        "       simple_regret_approx_13[slice16],\n",
        "       simple_regret_approx_14[slice16],\n",
        "       simple_regret_approx_15[slice16],\n",
        "       simple_regret_approx_16[slice16],\n",
        "       simple_regret_approx_17[slice16],\n",
        "       simple_regret_approx_18[slice16],\n",
        "       simple_regret_approx_19[slice16],\n",
        "       simple_regret_approx_20[slice16]]\n",
        "\n",
        "exact16 = [simple_regret_exact_1[slice16],\n",
        "       simple_regret_exact_2[slice16],\n",
        "       simple_regret_exact_3[slice16],\n",
        "       simple_regret_exact_4[slice16],\n",
        "       simple_regret_exact_5[slice16],\n",
        "       simple_regret_exact_6[slice16],\n",
        "       simple_regret_exact_7[slice16],\n",
        "       simple_regret_exact_8[slice16],\n",
        "       simple_regret_exact_9[slice16],\n",
        "       simple_regret_exact_10[slice16],\n",
        "       simple_regret_exact_11[slice16],\n",
        "       simple_regret_exact_12[slice16],\n",
        "       simple_regret_exact_13[slice16],\n",
        "       simple_regret_exact_14[slice16],\n",
        "       simple_regret_exact_15[slice16],\n",
        "       simple_regret_exact_16[slice16],\n",
        "       simple_regret_exact_17[slice16],\n",
        "       simple_regret_exact_18[slice16],\n",
        "       simple_regret_exact_19[slice16],\n",
        "       simple_regret_exact_20[slice16]]\n",
        "\n",
        "approx16_results = pd.DataFrame(approx16).sort_values(by=[0], ascending=False)\n",
        "exact16_results = pd.DataFrame(exact16).sort_values(by=[0], ascending=False)\n",
        "\n",
        "### Best simple regret minimization IQR - approx:\n",
        "lower_approx16 = np.asarray(approx16_results[4:5][0])[0]\n",
        "median_approx16 = np.asarray(approx16_results[9:10][0])[0]\n",
        "upper_approx16 = np.asarray(approx16_results[14:15][0])[0]\n",
        "\n",
        "lower_exact16 = np.asarray(exact16_results[4:5][0])[0]\n",
        "median_exact16 = np.asarray(exact16_results[9:10][0])[0]\n",
        "upper_exact16 = np.asarray(exact16_results[14:15][0])[0]"
      ],
      "execution_count": null,
      "outputs": []
    },
    {
      "cell_type": "code",
      "metadata": {
        "id": "TrPV0AfnQxf7"
      },
      "source": [
        "# Iteration7 :\n",
        "\n",
        "slice7 = 6\n",
        "\n",
        "approx7 = [simple_regret_approx_1[slice7],\n",
        "       simple_regret_approx_2[slice7],\n",
        "       simple_regret_approx_3[slice7],\n",
        "       simple_regret_approx_4[slice7],\n",
        "       simple_regret_approx_5[slice7],\n",
        "       simple_regret_approx_6[slice7],\n",
        "       simple_regret_approx_7[slice7],\n",
        "       simple_regret_approx_8[slice7],\n",
        "       simple_regret_approx_9[slice7],\n",
        "       simple_regret_approx_10[slice7],\n",
        "       simple_regret_approx_11[slice7],\n",
        "       simple_regret_approx_12[slice7],\n",
        "       simple_regret_approx_13[slice7],\n",
        "       simple_regret_approx_14[slice7],\n",
        "       simple_regret_approx_15[slice7],\n",
        "       simple_regret_approx_16[slice7],\n",
        "       simple_regret_approx_17[slice7],\n",
        "       simple_regret_approx_18[slice7],\n",
        "       simple_regret_approx_19[slice7],\n",
        "       simple_regret_approx_20[slice7]]\n",
        "\n",
        "exact7 = [simple_regret_exact_1[slice7],\n",
        "       simple_regret_exact_2[slice7],\n",
        "       simple_regret_exact_3[slice7],\n",
        "       simple_regret_exact_4[slice7],\n",
        "       simple_regret_exact_5[slice7],\n",
        "       simple_regret_exact_6[slice7],\n",
        "       simple_regret_exact_7[slice7],\n",
        "       simple_regret_exact_8[slice7],\n",
        "       simple_regret_exact_9[slice7],\n",
        "       simple_regret_exact_10[slice7],\n",
        "       simple_regret_exact_11[slice7],\n",
        "       simple_regret_exact_12[slice7],\n",
        "       simple_regret_exact_13[slice7],\n",
        "       simple_regret_exact_14[slice7],\n",
        "       simple_regret_exact_15[slice7],\n",
        "       simple_regret_exact_16[slice7],\n",
        "       simple_regret_exact_17[slice7],\n",
        "       simple_regret_exact_18[slice7],\n",
        "       simple_regret_exact_19[slice7],\n",
        "       simple_regret_exact_20[slice7]]\n",
        "\n",
        "approx7_results = pd.DataFrame(approx7).sort_values(by=[0], ascending=False)\n",
        "exact7_results = pd.DataFrame(exact7).sort_values(by=[0], ascending=False)\n",
        "\n",
        "### Best simple regret minimization IQR - approx:\n",
        "lower_approx7 = np.asarray(approx7_results[4:5][0])[0]\n",
        "median_approx7 = np.asarray(approx7_results[9:10][0])[0]\n",
        "upper_approx7 = np.asarray(approx7_results[14:15][0])[0]\n",
        "\n",
        "lower_exact7 = np.asarray(exact7_results[4:5][0])[0]\n",
        "median_exact7 = np.asarray(exact7_results[9:10][0])[0]\n",
        "upper_exact7 = np.asarray(exact7_results[14:15][0])[0]"
      ],
      "execution_count": null,
      "outputs": []
    },
    {
      "cell_type": "code",
      "metadata": {
        "id": "Ub_-wpK4Qxf8"
      },
      "source": [
        "# Iteration17 :\n",
        "\n",
        "slice17 = 16\n",
        "\n",
        "approx17 = [simple_regret_approx_1[slice17],\n",
        "       simple_regret_approx_2[slice17],\n",
        "       simple_regret_approx_3[slice17],\n",
        "       simple_regret_approx_4[slice17],\n",
        "       simple_regret_approx_5[slice17],\n",
        "       simple_regret_approx_6[slice17],\n",
        "       simple_regret_approx_7[slice17],\n",
        "       simple_regret_approx_8[slice17],\n",
        "       simple_regret_approx_9[slice17],\n",
        "       simple_regret_approx_10[slice17],\n",
        "       simple_regret_approx_11[slice17],\n",
        "       simple_regret_approx_12[slice17],\n",
        "       simple_regret_approx_13[slice17],\n",
        "       simple_regret_approx_14[slice17],\n",
        "       simple_regret_approx_15[slice17],\n",
        "       simple_regret_approx_16[slice17],\n",
        "       simple_regret_approx_17[slice17],\n",
        "       simple_regret_approx_18[slice17],\n",
        "       simple_regret_approx_19[slice17],\n",
        "       simple_regret_approx_20[slice17]]\n",
        "\n",
        "exact17 = [simple_regret_exact_1[slice17],\n",
        "       simple_regret_exact_2[slice17],\n",
        "       simple_regret_exact_3[slice17],\n",
        "       simple_regret_exact_4[slice17],\n",
        "       simple_regret_exact_5[slice17],\n",
        "       simple_regret_exact_6[slice17],\n",
        "       simple_regret_exact_7[slice17],\n",
        "       simple_regret_exact_8[slice17],\n",
        "       simple_regret_exact_9[slice17],\n",
        "       simple_regret_exact_10[slice17],\n",
        "       simple_regret_exact_11[slice17],\n",
        "       simple_regret_exact_12[slice17],\n",
        "       simple_regret_exact_13[slice17],\n",
        "       simple_regret_exact_14[slice17],\n",
        "       simple_regret_exact_15[slice17],\n",
        "       simple_regret_exact_16[slice17],\n",
        "       simple_regret_exact_17[slice17],\n",
        "       simple_regret_exact_18[slice17],\n",
        "       simple_regret_exact_19[slice17],\n",
        "       simple_regret_exact_20[slice17]]\n",
        "\n",
        "approx17_results = pd.DataFrame(approx17).sort_values(by=[0], ascending=False)\n",
        "exact17_results = pd.DataFrame(exact17).sort_values(by=[0], ascending=False)\n",
        "\n",
        "### Best simple regret minimization IQR - approx:\n",
        "lower_approx17 = np.asarray(approx17_results[4:5][0])[0]\n",
        "median_approx17 = np.asarray(approx17_results[9:10][0])[0]\n",
        "upper_approx17 = np.asarray(approx17_results[14:15][0])[0]\n",
        "\n",
        "lower_exact17 = np.asarray(exact17_results[4:5][0])[0]\n",
        "median_exact17 = np.asarray(exact17_results[9:10][0])[0]\n",
        "upper_exact17 = np.asarray(exact17_results[14:15][0])[0]"
      ],
      "execution_count": null,
      "outputs": []
    },
    {
      "cell_type": "code",
      "metadata": {
        "id": "-6VLo37PQxf8"
      },
      "source": [
        "# Iteration8 :\n",
        "\n",
        "slice8 = 7\n",
        "\n",
        "approx8 = [simple_regret_approx_1[slice8],\n",
        "       simple_regret_approx_2[slice8],\n",
        "       simple_regret_approx_3[slice8],\n",
        "       simple_regret_approx_4[slice8],\n",
        "       simple_regret_approx_5[slice8],\n",
        "       simple_regret_approx_6[slice8],\n",
        "       simple_regret_approx_7[slice8],\n",
        "       simple_regret_approx_8[slice8],\n",
        "       simple_regret_approx_9[slice8],\n",
        "       simple_regret_approx_10[slice8],\n",
        "       simple_regret_approx_11[slice8],\n",
        "       simple_regret_approx_12[slice8],\n",
        "       simple_regret_approx_13[slice8],\n",
        "       simple_regret_approx_14[slice8],\n",
        "       simple_regret_approx_15[slice8],\n",
        "       simple_regret_approx_16[slice8],\n",
        "       simple_regret_approx_17[slice8],\n",
        "       simple_regret_approx_18[slice8],\n",
        "       simple_regret_approx_19[slice8],\n",
        "       simple_regret_approx_20[slice8]]\n",
        "\n",
        "exact8 = [simple_regret_exact_1[slice8],\n",
        "       simple_regret_exact_2[slice8],\n",
        "       simple_regret_exact_3[slice8],\n",
        "       simple_regret_exact_4[slice8],\n",
        "       simple_regret_exact_5[slice8],\n",
        "       simple_regret_exact_6[slice8],\n",
        "       simple_regret_exact_7[slice8],\n",
        "       simple_regret_exact_8[slice8],\n",
        "       simple_regret_exact_9[slice8],\n",
        "       simple_regret_exact_10[slice8],\n",
        "       simple_regret_exact_11[slice8],\n",
        "       simple_regret_exact_12[slice8],\n",
        "       simple_regret_exact_13[slice8],\n",
        "       simple_regret_exact_14[slice8],\n",
        "       simple_regret_exact_15[slice8],\n",
        "       simple_regret_exact_16[slice8],\n",
        "       simple_regret_exact_17[slice8],\n",
        "       simple_regret_exact_18[slice8],\n",
        "       simple_regret_exact_19[slice8],\n",
        "       simple_regret_exact_20[slice8]]\n",
        "\n",
        "approx8_results = pd.DataFrame(approx8).sort_values(by=[0], ascending=False)\n",
        "exact8_results = pd.DataFrame(exact8).sort_values(by=[0], ascending=False)\n",
        "\n",
        "### Best simple regret minimization IQR - approx:\n",
        "lower_approx8 = np.asarray(approx8_results[4:5][0])[0]\n",
        "median_approx8 = np.asarray(approx8_results[9:10][0])[0]\n",
        "upper_approx8 = np.asarray(approx8_results[14:15][0])[0]\n",
        "\n",
        "lower_exact8 = np.asarray(exact8_results[4:5][0])[0]\n",
        "median_exact8 = np.asarray(exact8_results[9:10][0])[0]\n",
        "upper_exact8 = np.asarray(exact8_results[14:15][0])[0]"
      ],
      "execution_count": null,
      "outputs": []
    },
    {
      "cell_type": "code",
      "metadata": {
        "id": "2Dp-9CC2Qxf9"
      },
      "source": [
        "# Iteration18 :\n",
        "\n",
        "slice18 = 17\n",
        "\n",
        "approx18 = [simple_regret_approx_1[slice18],\n",
        "       simple_regret_approx_2[slice18],\n",
        "       simple_regret_approx_3[slice18],\n",
        "       simple_regret_approx_4[slice18],\n",
        "       simple_regret_approx_5[slice18],\n",
        "       simple_regret_approx_6[slice18],\n",
        "       simple_regret_approx_7[slice18],\n",
        "       simple_regret_approx_8[slice18],\n",
        "       simple_regret_approx_9[slice18],\n",
        "       simple_regret_approx_10[slice18],\n",
        "       simple_regret_approx_11[slice18],\n",
        "       simple_regret_approx_12[slice18],\n",
        "       simple_regret_approx_13[slice18],\n",
        "       simple_regret_approx_14[slice18],\n",
        "       simple_regret_approx_15[slice18],\n",
        "       simple_regret_approx_16[slice18],\n",
        "       simple_regret_approx_17[slice18],\n",
        "       simple_regret_approx_18[slice18],\n",
        "       simple_regret_approx_19[slice18],\n",
        "       simple_regret_approx_20[slice18]]\n",
        "\n",
        "exact18 = [simple_regret_exact_1[slice18],\n",
        "       simple_regret_exact_2[slice18],\n",
        "       simple_regret_exact_3[slice18],\n",
        "       simple_regret_exact_4[slice18],\n",
        "       simple_regret_exact_5[slice18],\n",
        "       simple_regret_exact_6[slice18],\n",
        "       simple_regret_exact_7[slice18],\n",
        "       simple_regret_exact_8[slice18],\n",
        "       simple_regret_exact_9[slice18],\n",
        "       simple_regret_exact_10[slice18],\n",
        "       simple_regret_exact_11[slice18],\n",
        "       simple_regret_exact_12[slice18],\n",
        "       simple_regret_exact_13[slice18],\n",
        "       simple_regret_exact_14[slice18],\n",
        "       simple_regret_exact_15[slice18],\n",
        "       simple_regret_exact_16[slice18],\n",
        "       simple_regret_exact_17[slice18],\n",
        "       simple_regret_exact_18[slice18],\n",
        "       simple_regret_exact_19[slice18],\n",
        "       simple_regret_exact_20[slice18]]\n",
        "\n",
        "approx18_results = pd.DataFrame(approx18).sort_values(by=[0], ascending=False)\n",
        "exact18_results = pd.DataFrame(exact18).sort_values(by=[0], ascending=False)\n",
        "\n",
        "### Best simple regret minimization IQR - approx:\n",
        "lower_approx18 = np.asarray(approx18_results[4:5][0])[0]\n",
        "median_approx18 = np.asarray(approx18_results[9:10][0])[0]\n",
        "upper_approx18 = np.asarray(approx18_results[14:15][0])[0]\n",
        "\n",
        "lower_exact18 = np.asarray(exact18_results[4:5][0])[0]\n",
        "median_exact18 = np.asarray(exact18_results[9:10][0])[0]\n",
        "upper_exact18 = np.asarray(exact18_results[14:15][0])[0]"
      ],
      "execution_count": null,
      "outputs": []
    },
    {
      "cell_type": "code",
      "metadata": {
        "id": "SqiaOpB7Qxf9"
      },
      "source": [
        "# Iteration9 :\n",
        "\n",
        "slice9 = 8\n",
        "\n",
        "approx9 = [simple_regret_approx_1[slice9],\n",
        "       simple_regret_approx_2[slice9],\n",
        "       simple_regret_approx_3[slice9],\n",
        "       simple_regret_approx_4[slice9],\n",
        "       simple_regret_approx_5[slice9],\n",
        "       simple_regret_approx_6[slice9],\n",
        "       simple_regret_approx_7[slice9],\n",
        "       simple_regret_approx_8[slice9],\n",
        "       simple_regret_approx_9[slice9],\n",
        "       simple_regret_approx_10[slice9],\n",
        "       simple_regret_approx_11[slice9],\n",
        "       simple_regret_approx_12[slice9],\n",
        "       simple_regret_approx_13[slice9],\n",
        "       simple_regret_approx_14[slice9],\n",
        "       simple_regret_approx_15[slice9],\n",
        "       simple_regret_approx_16[slice9],\n",
        "       simple_regret_approx_17[slice9],\n",
        "       simple_regret_approx_18[slice9],\n",
        "       simple_regret_approx_19[slice9],\n",
        "       simple_regret_approx_20[slice9]]\n",
        "\n",
        "exact9 = [simple_regret_exact_1[slice9],\n",
        "       simple_regret_exact_2[slice9],\n",
        "       simple_regret_exact_3[slice9],\n",
        "       simple_regret_exact_4[slice9],\n",
        "       simple_regret_exact_5[slice9],\n",
        "       simple_regret_exact_6[slice9],\n",
        "       simple_regret_exact_7[slice9],\n",
        "       simple_regret_exact_8[slice9],\n",
        "       simple_regret_exact_9[slice9],\n",
        "       simple_regret_exact_10[slice9],\n",
        "       simple_regret_exact_11[slice9],\n",
        "       simple_regret_exact_12[slice9],\n",
        "       simple_regret_exact_13[slice9],\n",
        "       simple_regret_exact_14[slice9],\n",
        "       simple_regret_exact_15[slice9],\n",
        "       simple_regret_exact_16[slice9],\n",
        "       simple_regret_exact_17[slice9],\n",
        "       simple_regret_exact_18[slice9],\n",
        "       simple_regret_exact_19[slice9],\n",
        "       simple_regret_exact_20[slice9]]\n",
        "\n",
        "approx9_results = pd.DataFrame(approx9).sort_values(by=[0], ascending=False)\n",
        "exact9_results = pd.DataFrame(exact9).sort_values(by=[0], ascending=False)\n",
        "\n",
        "### Best simple regret minimization IQR - approx:\n",
        "lower_approx9 = np.asarray(approx9_results[4:5][0])[0]\n",
        "median_approx9 = np.asarray(approx9_results[9:10][0])[0]\n",
        "upper_approx9 = np.asarray(approx9_results[14:15][0])[0]\n",
        "\n",
        "lower_exact9 = np.asarray(exact9_results[4:5][0])[0]\n",
        "median_exact9 = np.asarray(exact9_results[9:10][0])[0]\n",
        "upper_exact9 = np.asarray(exact9_results[14:15][0])[0]"
      ],
      "execution_count": null,
      "outputs": []
    },
    {
      "cell_type": "code",
      "metadata": {
        "id": "OQkCCOsPQxf9"
      },
      "source": [
        "# Iteration19 :\n",
        "\n",
        "slice19 = 18\n",
        "\n",
        "approx19 = [simple_regret_approx_1[slice19],\n",
        "       simple_regret_approx_2[slice19],\n",
        "       simple_regret_approx_3[slice19],\n",
        "       simple_regret_approx_4[slice19],\n",
        "       simple_regret_approx_5[slice19],\n",
        "       simple_regret_approx_6[slice19],\n",
        "       simple_regret_approx_7[slice19],\n",
        "       simple_regret_approx_8[slice19],\n",
        "       simple_regret_approx_9[slice19],\n",
        "       simple_regret_approx_10[slice19],\n",
        "       simple_regret_approx_11[slice19],\n",
        "       simple_regret_approx_12[slice19],\n",
        "       simple_regret_approx_13[slice19],\n",
        "       simple_regret_approx_14[slice19],\n",
        "       simple_regret_approx_15[slice19],\n",
        "       simple_regret_approx_16[slice19],\n",
        "       simple_regret_approx_17[slice19],\n",
        "       simple_regret_approx_18[slice19],\n",
        "       simple_regret_approx_19[slice19],\n",
        "       simple_regret_approx_20[slice19]]\n",
        "\n",
        "exact19 = [simple_regret_exact_1[slice19],\n",
        "       simple_regret_exact_2[slice19],\n",
        "       simple_regret_exact_3[slice19],\n",
        "       simple_regret_exact_4[slice19],\n",
        "       simple_regret_exact_5[slice19],\n",
        "       simple_regret_exact_6[slice19],\n",
        "       simple_regret_exact_7[slice19],\n",
        "       simple_regret_exact_8[slice19],\n",
        "       simple_regret_exact_9[slice19],\n",
        "       simple_regret_exact_10[slice19],\n",
        "       simple_regret_exact_11[slice19],\n",
        "       simple_regret_exact_12[slice19],\n",
        "       simple_regret_exact_13[slice19],\n",
        "       simple_regret_exact_14[slice19],\n",
        "       simple_regret_exact_15[slice19],\n",
        "       simple_regret_exact_16[slice19],\n",
        "       simple_regret_exact_17[slice19],\n",
        "       simple_regret_exact_18[slice19],\n",
        "       simple_regret_exact_19[slice19],\n",
        "       simple_regret_exact_20[slice19]]\n",
        "\n",
        "approx19_results = pd.DataFrame(approx19).sort_values(by=[0], ascending=False)\n",
        "exact19_results = pd.DataFrame(exact19).sort_values(by=[0], ascending=False)\n",
        "\n",
        "### Best simple regret minimization IQR - approx:\n",
        "lower_approx19 = np.asarray(approx19_results[4:5][0])[0]\n",
        "median_approx19 = np.asarray(approx19_results[9:10][0])[0]\n",
        "upper_approx19 = np.asarray(approx19_results[14:15][0])[0]\n",
        "\n",
        "lower_exact19 = np.asarray(exact19_results[4:5][0])[0]\n",
        "median_exact19 = np.asarray(exact19_results[9:10][0])[0]\n",
        "upper_exact19 = np.asarray(exact19_results[14:15][0])[0]"
      ],
      "execution_count": null,
      "outputs": []
    },
    {
      "cell_type": "code",
      "metadata": {
        "id": "h4vtWahcQxf-"
      },
      "source": [
        "# Iteration10 :\n",
        "\n",
        "slice10 = 9\n",
        "\n",
        "approx10 = [simple_regret_approx_1[slice10],\n",
        "       simple_regret_approx_2[slice10],\n",
        "       simple_regret_approx_3[slice10],\n",
        "       simple_regret_approx_4[slice10],\n",
        "       simple_regret_approx_5[slice10],\n",
        "       simple_regret_approx_6[slice10],\n",
        "       simple_regret_approx_7[slice10],\n",
        "       simple_regret_approx_8[slice10],\n",
        "       simple_regret_approx_9[slice10],\n",
        "       simple_regret_approx_10[slice10],\n",
        "       simple_regret_approx_11[slice10],\n",
        "       simple_regret_approx_12[slice10],\n",
        "       simple_regret_approx_13[slice10],\n",
        "       simple_regret_approx_14[slice10],\n",
        "       simple_regret_approx_15[slice10],\n",
        "       simple_regret_approx_16[slice10],\n",
        "       simple_regret_approx_17[slice10],\n",
        "       simple_regret_approx_18[slice10],\n",
        "       simple_regret_approx_19[slice10],\n",
        "       simple_regret_approx_20[slice10]]\n",
        "\n",
        "exact10 = [simple_regret_exact_1[slice10],\n",
        "       simple_regret_exact_2[slice10],\n",
        "       simple_regret_exact_3[slice10],\n",
        "       simple_regret_exact_4[slice10],\n",
        "       simple_regret_exact_5[slice10],\n",
        "       simple_regret_exact_6[slice10],\n",
        "       simple_regret_exact_7[slice10],\n",
        "       simple_regret_exact_8[slice10],\n",
        "       simple_regret_exact_9[slice10],\n",
        "       simple_regret_exact_10[slice10],\n",
        "       simple_regret_exact_11[slice10],\n",
        "       simple_regret_exact_12[slice10],\n",
        "       simple_regret_exact_13[slice10],\n",
        "       simple_regret_exact_14[slice10],\n",
        "       simple_regret_exact_15[slice10],\n",
        "       simple_regret_exact_16[slice10],\n",
        "       simple_regret_exact_17[slice10],\n",
        "       simple_regret_exact_18[slice10],\n",
        "       simple_regret_exact_19[slice10],\n",
        "       simple_regret_exact_20[slice10]]\n",
        "\n",
        "approx10_results = pd.DataFrame(approx10).sort_values(by=[0], ascending=False)\n",
        "exact10_results = pd.DataFrame(exact10).sort_values(by=[0], ascending=False)\n",
        "\n",
        "### Best simple regret minimization IQR - approx:\n",
        "lower_approx10 = np.asarray(approx10_results[4:5][0])[0]\n",
        "median_approx10 = np.asarray(approx10_results[9:10][0])[0]\n",
        "upper_approx10 = np.asarray(approx10_results[14:15][0])[0]\n",
        "\n",
        "lower_exact10 = np.asarray(exact10_results[4:5][0])[0]\n",
        "median_exact10 = np.asarray(exact10_results[9:10][0])[0]\n",
        "upper_exact10 = np.asarray(exact10_results[14:15][0])[0]"
      ],
      "execution_count": null,
      "outputs": []
    },
    {
      "cell_type": "code",
      "metadata": {
        "id": "Rsf240pWQxf-"
      },
      "source": [
        "# Iteration20 :\n",
        "\n",
        "slice20 = 19\n",
        "\n",
        "approx20 = [simple_regret_approx_1[slice20],\n",
        "       simple_regret_approx_2[slice20],\n",
        "       simple_regret_approx_3[slice20],\n",
        "       simple_regret_approx_4[slice20],\n",
        "       simple_regret_approx_5[slice20],\n",
        "       simple_regret_approx_6[slice20],\n",
        "       simple_regret_approx_7[slice20],\n",
        "       simple_regret_approx_8[slice20],\n",
        "       simple_regret_approx_9[slice20],\n",
        "       simple_regret_approx_10[slice20],\n",
        "       simple_regret_approx_11[slice20],\n",
        "       simple_regret_approx_12[slice20],\n",
        "       simple_regret_approx_13[slice20],\n",
        "       simple_regret_approx_14[slice20],\n",
        "       simple_regret_approx_15[slice20],\n",
        "       simple_regret_approx_16[slice20],\n",
        "       simple_regret_approx_17[slice20],\n",
        "       simple_regret_approx_18[slice20],\n",
        "       simple_regret_approx_19[slice20],\n",
        "       simple_regret_approx_20[slice20]]\n",
        "\n",
        "exact20 = [simple_regret_exact_1[slice20],\n",
        "       simple_regret_exact_2[slice20],\n",
        "       simple_regret_exact_3[slice20],\n",
        "       simple_regret_exact_4[slice20],\n",
        "       simple_regret_exact_5[slice20],\n",
        "       simple_regret_exact_6[slice20],\n",
        "       simple_regret_exact_7[slice20],\n",
        "       simple_regret_exact_8[slice20],\n",
        "       simple_regret_exact_9[slice20],\n",
        "       simple_regret_exact_10[slice20],\n",
        "       simple_regret_exact_11[slice20],\n",
        "       simple_regret_exact_12[slice20],\n",
        "       simple_regret_exact_13[slice20],\n",
        "       simple_regret_exact_14[slice20],\n",
        "       simple_regret_exact_15[slice20],\n",
        "       simple_regret_exact_16[slice20],\n",
        "       simple_regret_exact_17[slice20],\n",
        "       simple_regret_exact_18[slice20],\n",
        "       simple_regret_exact_19[slice20],\n",
        "       simple_regret_exact_20[slice20]]\n",
        "\n",
        "approx20_results = pd.DataFrame(approx20).sort_values(by=[0], ascending=False)\n",
        "exact20_results = pd.DataFrame(exact20).sort_values(by=[0], ascending=False)\n",
        "\n",
        "### Best simple regret minimization IQR - approx:\n",
        "lower_approx20 = np.asarray(approx20_results[4:5][0])[0]\n",
        "median_approx20 = np.asarray(approx20_results[9:10][0])[0]\n",
        "upper_approx20 = np.asarray(approx20_results[14:15][0])[0]\n",
        "\n",
        "lower_exact20 = np.asarray(exact20_results[4:5][0])[0]\n",
        "median_exact20 = np.asarray(exact20_results[9:10][0])[0]\n",
        "upper_exact20 = np.asarray(exact20_results[14:15][0])[0]"
      ],
      "execution_count": null,
      "outputs": []
    },
    {
      "cell_type": "code",
      "metadata": {
        "id": "gn36RejbQxf_"
      },
      "source": [
        "### Summarize arrays: 'Loser'\n",
        "\n",
        "lower_approx = [lower_approx1,\n",
        "            lower_approx2,\n",
        "            lower_approx3,\n",
        "            lower_approx4,\n",
        "            lower_approx5,\n",
        "            lower_approx6,\n",
        "            lower_approx7,\n",
        "            lower_approx8,\n",
        "            lower_approx9,\n",
        "            lower_approx10,\n",
        "            lower_approx11,\n",
        "            lower_approx12,\n",
        "            lower_approx13,\n",
        "            lower_approx14,\n",
        "            lower_approx15,\n",
        "            lower_approx16,\n",
        "            lower_approx17,\n",
        "            lower_approx18,\n",
        "            lower_approx19,\n",
        "            lower_approx20,\n",
        "            lower_approx21]\n",
        "\n",
        "median_approx = [median_approx1,\n",
        "            median_approx2,\n",
        "            median_approx3,\n",
        "            median_approx4,\n",
        "            median_approx5,\n",
        "            median_approx6,\n",
        "            median_approx7,\n",
        "            median_approx8,\n",
        "            median_approx9,\n",
        "            median_approx10,\n",
        "            median_approx11,\n",
        "            median_approx12,\n",
        "            median_approx13,\n",
        "            median_approx14,\n",
        "            median_approx15,\n",
        "            median_approx16,\n",
        "            median_approx17,\n",
        "            median_approx18,\n",
        "            median_approx19,\n",
        "            median_approx20,\n",
        "            median_approx21]\n",
        "\n",
        "upper_approx = [upper_approx1,\n",
        "            upper_approx2,\n",
        "            upper_approx3,\n",
        "            upper_approx4,\n",
        "            upper_approx5,\n",
        "            upper_approx6,\n",
        "            upper_approx7,\n",
        "            upper_approx8,\n",
        "            upper_approx9,\n",
        "            upper_approx10,\n",
        "            upper_approx11,\n",
        "            upper_approx12,\n",
        "            upper_approx13,\n",
        "            upper_approx14,\n",
        "            upper_approx15,\n",
        "            upper_approx16,\n",
        "            upper_approx17,\n",
        "            upper_approx18,\n",
        "            upper_approx19,\n",
        "            upper_approx20,\n",
        "            upper_approx21]"
      ],
      "execution_count": null,
      "outputs": []
    },
    {
      "cell_type": "code",
      "metadata": {
        "id": "wxtGTOYfQxf_"
      },
      "source": [
        "### Summarize arrays: 'exact'\n",
        "\n",
        "lower_exact = [lower_exact1,\n",
        "            lower_exact2,\n",
        "            lower_exact3,\n",
        "            lower_exact4,\n",
        "            lower_exact5,\n",
        "            lower_exact6,\n",
        "            lower_exact7,\n",
        "            lower_exact8,\n",
        "            lower_exact9,\n",
        "            lower_exact10,\n",
        "            lower_exact11,\n",
        "            lower_exact12,\n",
        "            lower_exact13,\n",
        "            lower_exact14,\n",
        "            lower_exact15,\n",
        "            lower_exact16,\n",
        "            lower_exact17,\n",
        "            lower_exact18,\n",
        "            lower_exact19,\n",
        "            lower_exact20,\n",
        "            lower_exact21]\n",
        "\n",
        "median_exact = [median_exact1,\n",
        "            median_exact2,\n",
        "            median_exact3,\n",
        "            median_exact4,\n",
        "            median_exact5,\n",
        "            median_exact6,\n",
        "            median_exact7,\n",
        "            median_exact8,\n",
        "            median_exact9,\n",
        "            median_exact10,\n",
        "            median_exact11,\n",
        "            median_exact12,\n",
        "            median_exact13,\n",
        "            median_exact14,\n",
        "            median_exact15,\n",
        "            median_exact16,\n",
        "            median_exact17,\n",
        "            median_exact18,\n",
        "            median_exact19,\n",
        "            median_exact20,\n",
        "            median_exact21]\n",
        "\n",
        "upper_exact = [upper_exact1,\n",
        "            upper_exact2,\n",
        "            upper_exact3,\n",
        "            upper_exact4,\n",
        "            upper_exact5,\n",
        "            upper_exact6,\n",
        "            upper_exact7,\n",
        "            upper_exact8,\n",
        "            upper_exact9,\n",
        "            upper_exact10,\n",
        "            upper_exact11,\n",
        "            upper_exact12,\n",
        "            upper_exact13,\n",
        "            upper_exact14,\n",
        "            upper_exact15,\n",
        "            upper_exact16,\n",
        "            upper_exact17,\n",
        "            upper_exact18,\n",
        "            upper_exact19,\n",
        "            upper_exact20,\n",
        "            upper_exact21]"
      ],
      "execution_count": null,
      "outputs": []
    },
    {
      "cell_type": "code",
      "metadata": {
        "id": "2MONq-BXQxgA",
        "colab": {
          "base_uri": "https://localhost:8080/",
          "height": 299
        },
        "outputId": "7de52a1a-903e-4d0a-837e-14edadf2462e"
      },
      "source": [
        "### Visualise!\n",
        "\n",
        "title = func\n",
        "plt.figure()\n",
        "\n",
        "plt.plot(median_approx, color = 'Green')\n",
        "plt.plot(median_exact, color = 'Blue')\n",
        "\n",
        "xstar = np.arange(0, iters+1, step=1)\n",
        "plt.fill_between(xstar, lower_approx, upper_approx, facecolor = 'Green', alpha=0.4, label='GP ERM Optimization: Approx GP ERM gradients')\n",
        "plt.fill_between(xstar, lower_exact, upper_exact, facecolor = 'Blue', alpha=0.4, label='GP ERM Optimization: Exact GP dERM gradients')\n",
        "\n",
        "plt.title(title, weight = 'bold')\n",
        "plt.xlabel('(Post-initialization) iteration $\\it{k}$', weight = 'bold')\n",
        "plt.ylabel('log(Regret)', weight = 'bold') \n",
        "plt.legend(loc=1) # add plot legend\n",
        "\n",
        "### Make the x-ticks integers, not floats:\n",
        "count = len(xstar)\n",
        "plt.xticks(np.arange(count), np.arange(0, count))\n",
        "plt.show() #visualize!"
      ],
      "execution_count": 100,
      "outputs": [
        {
          "output_type": "display_data",
          "data": {
            "image/png": "[encoded data removed]",
            "text/plain": [
              "<Figure size 432x288 with 1 Axes>"
            ]
          },
          "metadata": {
            "needs_background": "light"
          }
        }
      ]
    },
    {
      "cell_type": "code",
      "metadata": {
        "id": "l5dkR2Id2oiu",
        "colab": {
          "base_uri": "https://localhost:8080/"
        },
        "outputId": "5d5508da-2033-4077-dd28-735bdce64412"
      },
      "source": [
        "time_approx, time_exact\n"
      ],
      "execution_count": null,
      "outputs": [
        {
          "output_type": "execute_result",
          "data": {
            "text/plain": [
              "(87.42788887023926, 242.74840140342712)"
            ]
          },
          "metadata": {},
          "execution_count": 99
        }
      ]
    },
    {
      "cell_type": "code",
      "metadata": {
        "id": "77BffxK2Fe61"
      },
      "source": [
        ""
      ],
      "execution_count": null,
      "outputs": []
    }
  ]
}