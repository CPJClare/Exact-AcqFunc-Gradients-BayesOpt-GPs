{
  "cells": [
    {
      "cell_type": "markdown",
      "metadata": {
        "id": "Dqn4dFx7Z2Ir"
      },
      "source": [
        "\n",
        "Sphere: 2D\n"
      ]
    },
    {
      "cell_type": "code",
      "execution_count": 1,
      "metadata": {
        "colab": {
          "base_uri": "https://localhost:8080/"
        },
        "id": "MJTM_GZZZb5x",
        "outputId": "f35b6113-5f0d-4f9d-f1c1-4bae905b04f1"
      },
      "outputs": [
        {
          "output_type": "stream",
          "name": "stdout",
          "text": [
            "Looking in indexes: https://pypi.org/simple, https://us-python.pkg.dev/colab-wheels/public/simple/\n",
            "Collecting pyGPGO\n",
            "  Downloading pyGPGO-0.5.1.tar.gz (14 kB)\n",
            "Requirement already satisfied: numpy in /usr/local/lib/python3.7/dist-packages (from pyGPGO) (1.21.6)\n",
            "Requirement already satisfied: mkl in /usr/local/lib/python3.7/dist-packages (from pyGPGO) (2019.0)\n",
            "Requirement already satisfied: scipy in /usr/local/lib/python3.7/dist-packages (from pyGPGO) (1.7.3)\n",
            "Requirement already satisfied: joblib in /usr/local/lib/python3.7/dist-packages (from pyGPGO) (1.1.0)\n",
            "Requirement already satisfied: scikit-learn in /usr/local/lib/python3.7/dist-packages (from pyGPGO) (1.0.2)\n",
            "Requirement already satisfied: Theano-PyMC in /usr/local/lib/python3.7/dist-packages (from pyGPGO) (1.1.2)\n",
            "Requirement already satisfied: pyMC3 in /usr/local/lib/python3.7/dist-packages (from pyGPGO) (3.11.5)\n",
            "Requirement already satisfied: intel-openmp in /usr/local/lib/python3.7/dist-packages (from mkl->pyGPGO) (2022.1.0)\n",
            "Requirement already satisfied: fastprogress>=0.2.0 in /usr/local/lib/python3.7/dist-packages (from pyMC3->pyGPGO) (1.0.3)\n",
            "Requirement already satisfied: dill in /usr/local/lib/python3.7/dist-packages (from pyMC3->pyGPGO) (0.3.5.1)\n",
            "Requirement already satisfied: deprecat in /usr/local/lib/python3.7/dist-packages (from pyMC3->pyGPGO) (2.1.1)\n",
            "Requirement already satisfied: patsy>=0.5.1 in /usr/local/lib/python3.7/dist-packages (from pyMC3->pyGPGO) (0.5.2)\n",
            "Requirement already satisfied: typing-extensions>=3.7.4 in /usr/local/lib/python3.7/dist-packages (from pyMC3->pyGPGO) (4.1.1)\n",
            "Requirement already satisfied: pandas>=0.24.0 in /usr/local/lib/python3.7/dist-packages (from pyMC3->pyGPGO) (1.3.5)\n",
            "Requirement already satisfied: semver>=2.13.0 in /usr/local/lib/python3.7/dist-packages (from pyMC3->pyGPGO) (2.13.0)\n",
            "Requirement already satisfied: arviz>=0.11.0 in /usr/local/lib/python3.7/dist-packages (from pyMC3->pyGPGO) (0.12.1)\n",
            "Requirement already satisfied: cachetools>=4.2.1 in /usr/local/lib/python3.7/dist-packages (from pyMC3->pyGPGO) (4.2.4)\n",
            "Requirement already satisfied: filelock in /usr/local/lib/python3.7/dist-packages (from Theano-PyMC->pyGPGO) (3.7.1)\n",
            "Requirement already satisfied: setuptools>=38.4 in /usr/local/lib/python3.7/dist-packages (from arviz>=0.11.0->pyMC3->pyGPGO) (57.4.0)\n",
            "Requirement already satisfied: packaging in /usr/local/lib/python3.7/dist-packages (from arviz>=0.11.0->pyMC3->pyGPGO) (21.3)\n",
            "Requirement already satisfied: xarray>=0.16.1 in /usr/local/lib/python3.7/dist-packages (from arviz>=0.11.0->pyMC3->pyGPGO) (0.20.2)\n",
            "Requirement already satisfied: matplotlib>=3.0 in /usr/local/lib/python3.7/dist-packages (from arviz>=0.11.0->pyMC3->pyGPGO) (3.2.2)\n",
            "Requirement already satisfied: xarray-einstats>=0.2 in /usr/local/lib/python3.7/dist-packages (from arviz>=0.11.0->pyMC3->pyGPGO) (0.2.2)\n",
            "Requirement already satisfied: netcdf4 in /usr/local/lib/python3.7/dist-packages (from arviz>=0.11.0->pyMC3->pyGPGO) (1.6.0)\n",
            "Requirement already satisfied: python-dateutil>=2.1 in /usr/local/lib/python3.7/dist-packages (from matplotlib>=3.0->arviz>=0.11.0->pyMC3->pyGPGO) (2.8.2)\n",
            "Requirement already satisfied: cycler>=0.10 in /usr/local/lib/python3.7/dist-packages (from matplotlib>=3.0->arviz>=0.11.0->pyMC3->pyGPGO) (0.11.0)\n",
            "Requirement already satisfied: kiwisolver>=1.0.1 in /usr/local/lib/python3.7/dist-packages (from matplotlib>=3.0->arviz>=0.11.0->pyMC3->pyGPGO) (1.4.4)\n",
            "Requirement already satisfied: pyparsing!=2.0.4,!=2.1.2,!=2.1.6,>=2.0.1 in /usr/local/lib/python3.7/dist-packages (from matplotlib>=3.0->arviz>=0.11.0->pyMC3->pyGPGO) (3.0.9)\n",
            "Requirement already satisfied: pytz>=2017.3 in /usr/local/lib/python3.7/dist-packages (from pandas>=0.24.0->pyMC3->pyGPGO) (2022.1)\n",
            "Requirement already satisfied: six in /usr/local/lib/python3.7/dist-packages (from patsy>=0.5.1->pyMC3->pyGPGO) (1.15.0)\n",
            "Requirement already satisfied: importlib-metadata in /usr/local/lib/python3.7/dist-packages (from xarray>=0.16.1->arviz>=0.11.0->pyMC3->pyGPGO) (4.12.0)\n",
            "Requirement already satisfied: wrapt<2,>=1.10 in /usr/local/lib/python3.7/dist-packages (from deprecat->pyMC3->pyGPGO) (1.14.1)\n",
            "Requirement already satisfied: zipp>=0.5 in /usr/local/lib/python3.7/dist-packages (from importlib-metadata->xarray>=0.16.1->arviz>=0.11.0->pyMC3->pyGPGO) (3.8.1)\n",
            "Requirement already satisfied: cftime in /usr/local/lib/python3.7/dist-packages (from netcdf4->arviz>=0.11.0->pyMC3->pyGPGO) (1.6.1)\n",
            "Requirement already satisfied: threadpoolctl>=2.0.0 in /usr/local/lib/python3.7/dist-packages (from scikit-learn->pyGPGO) (3.1.0)\n",
            "Building wheels for collected packages: pyGPGO\n",
            "  Building wheel for pyGPGO (setup.py) ... \u001b[?25l\u001b[?25hdone\n",
            "  Created wheel for pyGPGO: filename=pyGPGO-0.5.1-py3-none-any.whl size=19879 sha256=f990a2f359507115267a323b8dc39fac1d40f9b5f45b6d46f715c2ff5d772b68\n",
            "  Stored in directory: /root/.cache/pip/wheels/c8/5d/0b/2160114e2f1b87791c51b66cf07f89831dbb6f49167950316f\n",
            "Successfully built pyGPGO\n",
            "Installing collected packages: pyGPGO\n",
            "Successfully installed pyGPGO-0.5.1\n"
          ]
        }
      ],
      "source": [
        "pip install pyGPGO\n"
      ]
    },
    {
      "cell_type": "code",
      "execution_count": 2,
      "metadata": {
        "id": "ZJSSPbwPaEUB"
      },
      "outputs": [],
      "source": [
        "### Import:\n",
        "\n",
        "import numpy as np\n",
        "import scipy as sp\n",
        "import pandas as pd\n",
        "import matplotlib.pyplot as plt\n",
        "import warnings\n",
        "import itertools\n",
        "\n",
        "from pyGPGO.GPGO import GPGO\n",
        "from pyGPGO.surrogates.GaussianProcess import GaussianProcess\n",
        "from pyGPGO.acquisition import Acquisition\n",
        "from pyGPGO.covfunc import squaredExponential\n",
        "\n",
        "from joblib import Parallel, delayed\n",
        "from numpy.linalg import solve, cholesky\n",
        "from scipy.spatial.distance import cdist\n",
        "from scipy.optimize import minimize\n",
        "from scipy.stats import norm\n",
        "import time\n",
        "\n",
        "warnings.filterwarnings(\"ignore\", category=RuntimeWarning)\n"
      ]
    },
    {
      "cell_type": "code",
      "execution_count": 3,
      "metadata": {
        "id": "OeYcTUNoaJWa"
      },
      "outputs": [],
      "source": [
        "### Inputs:\n",
        "\n",
        "func = 'Sphere'\n",
        "n_test = 500\n",
        "eps = 1e-08\n",
        "\n",
        "util = 'EI'\n",
        "\n",
        "n_init = 5 # random initialisations\n",
        "iters = 20\n",
        "opt = True"
      ]
    },
    {
      "cell_type": "code",
      "execution_count": 4,
      "metadata": {
        "id": "xpaEOjdzaPMS"
      },
      "outputs": [],
      "source": [
        "### Objective Function - Sphere(x) 2-D:\n",
        "\n",
        "def objfunc(x1_training, x2_training):\n",
        "            return  operator * ( x1_training ** 2\n",
        "                            + x2_training ** 2\n",
        "                            )\n",
        "        \n",
        "# Constraints:\n",
        "lb = -5.12\n",
        "ub = +5.12\n",
        "    \n",
        "# Input array dimension(s):\n",
        "dim = 2\n",
        "\n",
        "# 2-D inputs' parameter bounds:\n",
        "param = {'x1_training': ('cont', [lb, ub]),\n",
        "                 'x2_training': ('cont', [lb, ub])\n",
        "                 }\n",
        "    \n",
        "# True y bounds:\n",
        "y_lb = 0\n",
        "operator = -1 # targets global minimum \n",
        "y_global_orig = y_lb * operator # targets global minimum\n",
        "    \n",
        "# Test data:\n",
        "x1_test = np.linspace(lb, ub, n_test)\n",
        "x2_test = np.linspace(lb, ub, n_test)\n",
        "x_test = np.column_stack((x1_test, x2_test))\n"
      ]
    },
    {
      "cell_type": "code",
      "execution_count": 5,
      "metadata": {
        "id": "eYpI3Zm4aGxi"
      },
      "outputs": [],
      "source": [
        "n_start_AcqFunc = iters\n",
        "inverse = -1\n"
      ]
    },
    {
      "cell_type": "code",
      "execution_count": 6,
      "metadata": {
        "id": "oO_GUmOoaV0T"
      },
      "outputs": [],
      "source": [
        "### Cumulative Regret Calculators:\n",
        "\n",
        "def min_max_array(x):\n",
        "    new_list = []\n",
        "    for i, num in enumerate(x):\n",
        "            new_list.append(np.min(x[0:i+1]))\n",
        "    return new_list\n",
        "  \n",
        "def acqFuncExact(x):\n",
        "    new_array = []\n",
        "    x = np.array(x) \n",
        "    for i, num in enumerate(x):\n",
        "            new_array = x[:-2][::-3]\n",
        "    return new_array[::-1]\n",
        "\n",
        "def acqFuncApprox(x):\n",
        "    new_array = []\n",
        "    x = np.array(x) \n",
        "    for i, num in enumerate(x):\n",
        "            new_array = x[:-1][::-3]\n",
        "    return new_array[::-1]\n"
      ]
    },
    {
      "cell_type": "code",
      "execution_count": 7,
      "metadata": {
        "id": "kuuJx0IMam9S"
      },
      "outputs": [],
      "source": [
        "### Surrogate derivatives: \n",
        "\n",
        "cov_func = squaredExponential()\n",
        "\n",
        "def kronDelta(X, Xstar):                     # Kronecker's Delta method\n",
        "    return cdist(X, Xstar) < np.finfo(np.float32).eps\n",
        "\n",
        "def se(X, Xstar, sigmaf, l, sigman):         # S.E. kernel method\n",
        "    return sigmaf * np.exp(-0.5 * cdist(X, Xstar) ** 2 / l ** 2) + sigman * kronDelta(X, Xstar)\n",
        "\n",
        "def delta(X, Xstar):                         # Distance between training X and test Xstar vectors\n",
        "    return (X - Xstar)\n",
        "   \n",
        "def der_covmat(X, Xstar, sigmaf, l, sigman): # Covariance matrix derivative terms (i.e. exact, first-order)\n",
        "    nx = len(X)\n",
        "    ny = len(Xstar)\n",
        "    return np.round(np.array([(delta(np.atleast_2d(i), np.atleast_2d(j))[0] * se(np.atleast_2d(i), np.atleast_2d(j), sigmaf, l, sigman)[0]).sum() for (i, j) in itertools.product(X, Xstar)]).reshape(nx, ny), 8)\n",
        "\n",
        "class dGaussianProcess(GaussianProcess):    # Via inheritance, also optimises hyperparameters when opt = TRUE\n",
        "    \n",
        "    def AcqGrad(self, Xstar):               # Method returning exact, first-order derivatives of the GP's posterior mean and standard deviation\n",
        "        Xstar = np.atleast_2d(Xstar)\n",
        "        Kstar = self.covfunc.K(self.X, Xstar).T\n",
        "        \n",
        "        dKstar = der_covmat(self.X, Xstar, self.covfunc.sigmaf, self.covfunc.l, self.covfunc.sigman).T\n",
        "        alpha_Kstar = np.dot(np.linalg.inv(self.K + (self.covfunc.sigman**2) * np.eye(len(self.X))), Kstar.T)\n",
        "        \n",
        "        dm = np.dot(dKstar, self.alpha)\n",
        "        ds = -2 * np.dot(dKstar, alpha_Kstar)\n",
        "        \n",
        "        return dm, ds           \n"
      ]
    },
    {
      "cell_type": "code",
      "execution_count": 8,
      "metadata": {
        "id": "_Dc3YVHVaXz7"
      },
      "outputs": [],
      "source": [
        "### Add exact acquisition function gradient as attribute:\n",
        "\n",
        "class Acquisition_grad(Acquisition):    \n",
        "    def __init__(self, mode, eps=eps, **params):\n",
        "        \n",
        "        self.params = params\n",
        "        self.eps = eps\n",
        "\n",
        "        mode_dict = {\n",
        "            'EI': self.EI\n",
        "        }\n",
        "\n",
        "        self.f = mode_dict[mode]\n",
        "    \n",
        "    def EI(self, tau, mean, std, ds, dm):\n",
        "        gamma = (mean - tau - self.eps) / (std + self.eps)\n",
        "        gamma_h = (mean - tau) / (std + self.eps)\n",
        "        dsdx = ds / (2 * (std + self.eps))\n",
        "        dmdx = (dm - gamma * dsdx) / (std + self.eps)\n",
        "        \n",
        "        f = (std + self.eps) * (gamma * norm.cdf(gamma) + norm.pdf(gamma))\n",
        "        df1 = f / (std + self.eps) * dsdx \n",
        "        df2 = (std + self.eps) * norm.cdf(gamma) * dmdx\n",
        "        df = (df1 + df2)[0]\n",
        "        df_arr = []\n",
        "\n",
        "        for j in range(0, dim):\n",
        "          df_arr.append(df)\n",
        "        return f, np.asarray(df_arr).transpose()\n",
        "        \n",
        "    def d_eval(self, tau, mean, std, ds, dm):\n",
        "    \n",
        "        return self.f(tau, mean, std, ds, dm, **self.params)\n",
        "        "
      ]
    },
    {
      "cell_type": "code",
      "execution_count": 9,
      "metadata": {
        "id": "PITEQC8YSl7i"
      },
      "outputs": [],
      "source": [
        "## GPGO_multi: \n",
        "\n",
        "class GPGO_multi(GPGO):\n",
        "    n_start = n_start_AcqFunc\n",
        "\n",
        "    def __init__(self, surrogate, acquisition, f, parameter_dict, n_jobs=1):\n",
        "        self.GP = surrogate\n",
        "        self.A = acquisition\n",
        "        self.f = f\n",
        "        self.parameters = parameter_dict\n",
        "        self.n_jobs = n_jobs\n",
        "\n",
        "        self.parameter_key = list(parameter_dict.keys())\n",
        "        self.parameter_value = list(parameter_dict.values())\n",
        "        self.parameter_type = [p[0] for p in self.parameter_value]\n",
        "        self.parameter_range = [p[1] for p in self.parameter_value]\n",
        "\n",
        "        self.history = []\n",
        "        self.header =   'Evaluation \\t Proposed point \\t  Current eval. \\t  Best eval. \\t        Exact EI: StdDev. x \\t Approx EI: StdDev. x '\n",
        "        self.template = '{:3}\\t {}\\t {:3}\\t {:3}\\t {:3}\\t {:3}'\n",
        " \n",
        "    def acqfuncExact(self, xnew, n_start=n_start_AcqFunc):\n",
        "        new_mean, new_var = self.GP.predict(xnew, return_std=True)\n",
        "        new_std = np.sqrt(new_var + eps)\n",
        "        dm, ds = self.GP.AcqGrad(xnew)\n",
        "        f, df = self.A.d_eval(self.tau, new_mean, new_std, ds=ds, dm=dm)\n",
        "\n",
        "        return -f, -df\n",
        "   \n",
        "    def acqfuncApprox(self, xnew, n_start=n_start_AcqFunc):\n",
        "        new_mean, new_var = self.GP.predict(xnew, return_std=True)\n",
        "        new_std = np.sqrt(new_var + eps)\n",
        "        dm, ds = self.GP.AcqGrad(xnew)\n",
        "        f, df = self.A.d_eval(self.tau, new_mean, new_std, ds=ds, dm=dm)\n",
        "\n",
        "        return -f\n",
        "   \n",
        "    def _optimizeAcq(self, method='L-BFGS-B', n_start=n_start_AcqFunc):\n",
        "        \n",
        "        start_points_dict = [self._sampleParam() for i in range(n_start)]\n",
        "        start_points_arr = np.array([list(s.values())\n",
        "                                     for s in start_points_dict])\n",
        "        x_best = np.empty((n_start, len(self.parameter_key)))\n",
        "        f_best = np.empty((n_start,))\n",
        "        opt = Parallel(n_jobs=self.n_jobs)(delayed(minimize)(self.acqfuncApprox,\n",
        "                                                                 x0=start_point,\n",
        "                                                                 method=method,\n",
        "                                                                 jac = False,\n",
        "                                                                 bounds=self.parameter_range) for start_point in\n",
        "                                               start_points_arr)\n",
        "        x_best = np.array([res.x for res in opt])\n",
        "        f_best = np.array([np.atleast_1d(res.fun)[0] for res in opt])\n",
        "        f_best_min = min(f_best)\n",
        "\n",
        "        self.x_best = x_best\n",
        "        self.f_best = f_best\n",
        "        self.f_best_min = f_best_min\n",
        "        self.x_best_std = np.std(x_best)\n",
        "        self.best = x_best[np.argmin(f_best)]\n",
        "        self.start_points_arr = start_points_arr        \n",
        "        self.history.append(self.x_best_std)\n",
        "\n",
        "        x_best_exact = np.empty((n_start, len(self.parameter_key)))\n",
        "        f_best_exact = np.empty((n_start,))\n",
        "        opt_exact = Parallel(n_jobs=self.n_jobs)(delayed(minimize)(self.acqfuncExact,\n",
        "                                                                 x0=start_point,\n",
        "                                                                 method=method,\n",
        "                                                                 jac = True,\n",
        "                                                                 bounds=self.parameter_range) for start_point in\n",
        "                                               start_points_arr)\n",
        "        x_best_exact = np.array([res.x for res in opt_exact])\n",
        "        f_best_exact = np.array([np.atleast_1d(res.fun)[0] for res in opt_exact])\n",
        "        f_best_min_exact = min(f_best_exact)\n",
        "\n",
        "        self.x_best_exact = x_best_exact\n",
        "        self.f_best_exact = f_best_exact\n",
        "        self.f_best_min_exact = f_best_min_exact\n",
        "        self.x_best_std_exact = np.std(x_best_exact)\n",
        "        self.best_exact = x_best_exact[np.argmin(f_best_exact)]\n",
        "        self.start_points_arr = start_points_arr\n",
        "        self.history.append(self.x_best_std_exact)\n",
        "\n",
        "    def _printInit(self):\n",
        "        print(self.header)\n",
        "        for init_eval in range(self.init_evals):\n",
        "            print(self.template.format('init', self.GP.X[init_eval], inverse * self.GP.y[init_eval], inverse * self.tau, '', ''))\n",
        "      \n",
        "    def _printCurrent(self):\n",
        "        OKGREEN = '\\033[92m'\n",
        "        ENDC = '\\033[0m'\n",
        "        BOLD = '\\033[1m'\n",
        "        eval = str(len(self.GP.y) - self.init_evals)\n",
        "        proposed = str(self.best)\n",
        "        curr_eval = str(inverse * self.GP.y[-1])\n",
        "        curr_best = str(inverse * self.tau)\n",
        "        min_acqfunc = str(self.f_best_min)\n",
        "        min_acqfunc_exact = str(self.f_best_min_exact)\n",
        "        x_best_std = str(self.x_best_std)\n",
        "        x_best_std_exact = str(self.x_best_std_exact)\n",
        "        if float(curr_eval) <= float(curr_best):\n",
        "            eval = BOLD + OKGREEN + eval + ENDC\n",
        "            proposed = BOLD + OKGREEN + proposed + ENDC\n",
        "            curr_eval = BOLD + OKGREEN + curr_eval + ENDC\n",
        "            curr_best = BOLD + OKGREEN + curr_best + ENDC\n",
        "            x_best_std = BOLD + OKGREEN + x_best_std + ENDC\n",
        "            x_best_std_exact = BOLD + OKGREEN + x_best_std_exact + ENDC\n",
        "        print(self.template.format(eval, proposed, curr_eval, curr_best, x_best_std_exact, x_best_std))\n",
        "        \n",
        "    def run(self, max_iter=10, init_evals=3, resume=False):\n",
        "        \n",
        "        if not resume:\n",
        "            self.init_evals = init_evals\n",
        "            self._firstRun(self.init_evals)\n",
        "            self._printInit()\n",
        "        for iteration in range(max_iter):\n",
        "            self._optimizeAcq()\n",
        "            self.updateGP()\n",
        "            self._printCurrent()\n"
      ]
    },
    {
      "cell_type": "code",
      "execution_count": 10,
      "metadata": {
        "id": "b_B-w81BJxKN"
      },
      "outputs": [],
      "source": [
        "## dGPGO:\n",
        "\n",
        "class dGPGO(GPGO):\n",
        "    n_start = n_start_AcqFunc\n",
        "\n",
        "    def __init__(self, surrogate, acquisition, f, parameter_dict, n_jobs=1):\n",
        "        self.GP = surrogate\n",
        "        self.A = acquisition\n",
        "        self.f = f\n",
        "        self.parameters = parameter_dict\n",
        "        self.n_jobs = n_jobs\n",
        "\n",
        "        self.parameter_key = list(parameter_dict.keys())\n",
        "        self.parameter_value = list(parameter_dict.values())\n",
        "        self.parameter_type = [p[0] for p in self.parameter_value]\n",
        "        self.parameter_range = [p[1] for p in self.parameter_value]\n",
        "\n",
        "        self.history = []\n",
        "        self.header =   'Evaluation \\t Proposed point \\t  Current eval. \\t  Best eval. \\t        Exact EI: StdDev. x \\t Approx EI: StdDev. x '\n",
        "        self.template = '{:3}\\t {}\\t {:3}\\t {:3}\\t {:3}\\t {:3}'\n",
        "\n",
        "    def acqfuncExact(self, xnew, n_start=n_start_AcqFunc):\n",
        "        new_mean, new_var = self.GP.predict(xnew, return_std=True)\n",
        "        new_std = np.sqrt(new_var + eps)\n",
        "        dm, ds = self.GP.AcqGrad(xnew)\n",
        "        f, df = self.A.d_eval(self.tau, new_mean, new_std, ds=ds, dm=dm)\n",
        "\n",
        "        return -f, -df\n",
        "   \n",
        "    def acqfuncApprox(self, xnew, n_start=n_start_AcqFunc):\n",
        "        new_mean, new_var = self.GP.predict(xnew, return_std=True)\n",
        "        new_std = np.sqrt(new_var + eps)\n",
        "        dm, ds = self.GP.AcqGrad(xnew)\n",
        "        f, df = self.A.d_eval(self.tau, new_mean, new_std, ds=ds, dm=dm)\n",
        "\n",
        "        return -f\n",
        "\n",
        "    def d_optimizeAcq(self, method='L-BFGS-B', n_start=n_start_AcqFunc):\n",
        "        start_points_dict = [self._sampleParam() for i in range(n_start)]\n",
        "        start_points_arr = np.array([list(s.values())\n",
        "                                     for s in start_points_dict])\n",
        "        x_best = np.empty((n_start, len(self.parameter_key)))\n",
        "        f_best = np.empty((n_start,))\n",
        "        opt = Parallel(n_jobs=self.n_jobs)(delayed(minimize)(self.acqfuncExact,\n",
        "                                                                 x0=start_point,\n",
        "                                                                 method=method,\n",
        "                                                                 jac = True,\n",
        "                                                                 bounds=self.parameter_range) for start_point in\n",
        "                                               start_points_arr)\n",
        "        x_best = np.array([res.x for res in opt])\n",
        "        f_best = np.array([np.atleast_1d(res.fun)[0] for res in opt])\n",
        "        f_best_min = min(f_best)\n",
        "\n",
        "        self.x_best = x_best\n",
        "        self.f_best = f_best\n",
        "        self.f_best_min = f_best_min\n",
        "        self.x_best_std = np.std(x_best)\n",
        "        self.best = x_best[np.argmin(f_best)]\n",
        "        self.start_points_arr = start_points_arr\n",
        "        self.history.append(self.x_best_std)\n",
        "\n",
        "        x_best_approx = np.empty((n_start, len(self.parameter_key)))\n",
        "        f_best_approx = np.empty((n_start,))\n",
        "        opt_approx = Parallel(n_jobs=self.n_jobs)(delayed(minimize)(self.acqfuncApprox,\n",
        "                                                                 x0=start_point,\n",
        "                                                                 method=method,\n",
        "                                                                 jac = False,\n",
        "                                                                 bounds=self.parameter_range) for start_point in\n",
        "                                               start_points_arr)\n",
        "        x_best_approx = np.array([res.x for res in opt_approx])\n",
        "        f_best_approx = np.array([np.atleast_1d(res.fun)[0] for res in opt_approx])\n",
        "        f_best_min_approx = min(f_best_approx)\n",
        "\n",
        "        self.x_best_approx = x_best_approx\n",
        "        self.f_best_approx = f_best_approx\n",
        "        self.f_best_min_approx = f_best_min_approx\n",
        "        self.x_best_std_approx = np.std(x_best_approx)\n",
        "        self.best_approx = x_best_approx[np.argmin(f_best_approx)]\n",
        "        self.start_points_arr = start_points_arr\n",
        "        self.history.append(self.x_best_std_approx)\n",
        "    \n",
        "    def _printInit(self):\n",
        "        print(self.header)\n",
        "        for init_eval in range(self.init_evals):\n",
        "            print(self.template.format('init', self.GP.X[init_eval], inverse * self.GP.y[init_eval], inverse * self.tau, '', ''))\n",
        "      \n",
        "    def _printCurrent(self):\n",
        "        OKGREEN = '\\033[92m'\n",
        "        ENDC = '\\033[0m'\n",
        "        BOLD = '\\033[1m'\n",
        "        eval = str(len(self.GP.y) - self.init_evals)\n",
        "        proposed = str(self.best)\n",
        "        curr_eval = str(inverse * self.GP.y[-1])\n",
        "        curr_best = str(inverse * self.tau)\n",
        "        min_acqfunc = str(self.f_best_min)\n",
        "        min_acqfunc_approx = str(self.f_best_min_approx)\n",
        "        x_best_std = str(self.x_best_std)\n",
        "        x_best_std_approx = str(self.x_best_std_approx)\n",
        "        if float(curr_eval) <= float(curr_best):\n",
        "            eval = BOLD + OKGREEN + eval + ENDC\n",
        "            proposed = BOLD + OKGREEN + proposed + ENDC\n",
        "            curr_eval = BOLD + OKGREEN + curr_eval + ENDC\n",
        "            curr_best = BOLD + OKGREEN + curr_best + ENDC\n",
        "            x_best_std = BOLD + OKGREEN + x_best_std + ENDC\n",
        "            x_best_std_approx = BOLD + OKGREEN + x_best_std_approx + ENDC\n",
        "        print(self.template.format(eval, proposed, curr_eval, curr_best, x_best_std, x_best_std_approx))\n",
        "\n",
        "    def run(self, max_iter=10, init_evals=3, resume=False):\n",
        "        \n",
        "        if not resume:\n",
        "            self.init_evals = init_evals\n",
        "            self._firstRun(self.init_evals)\n",
        "            self._printInit()\n",
        "        for iteration in range(max_iter):\n",
        "            self.d_optimizeAcq()\n",
        "            self.updateGP()\n",
        "            self._printCurrent()\n"
      ]
    },
    {
      "cell_type": "code",
      "execution_count": 11,
      "metadata": {
        "id": "qXIKGuXVGEg2"
      },
      "outputs": [],
      "source": [
        "###Reproducible set-seeds:\n",
        "\n",
        "run_num_1 = 1\n",
        "run_num_2 = 2\n",
        "run_num_3 = 3\n",
        "run_num_4 = 4\n",
        "run_num_5 = 5\n",
        "run_num_6 = 6\n",
        "run_num_7 = 7\n",
        "run_num_8 = 8\n",
        "run_num_9 = 9\n",
        "run_num_10 = 10\n",
        "run_num_11 = 11\n",
        "run_num_12 = 12\n",
        "run_num_13 = 13\n",
        "run_num_14 = 14\n",
        "run_num_15 = 15\n",
        "run_num_16 = 16\n",
        "run_num_17 = 17\n",
        "run_num_18 = 18\n",
        "run_num_19 = 19\n",
        "run_num_20 = 20\n"
      ]
    },
    {
      "cell_type": "code",
      "execution_count": 12,
      "metadata": {
        "colab": {
          "base_uri": "https://localhost:8080/"
        },
        "id": "JEhagQmnTVIK",
        "outputId": "cedccbcc-bf33-4ba3-f824-70f62e6f859b"
      },
      "outputs": [
        {
          "output_type": "execute_result",
          "data": {
            "text/plain": [
              "1659528939.5855865"
            ]
          },
          "metadata": {},
          "execution_count": 12
        }
      ],
      "source": [
        "start_approx = time.time()\n",
        "start_approx\n"
      ]
    },
    {
      "cell_type": "code",
      "execution_count": 13,
      "metadata": {
        "colab": {
          "base_uri": "https://localhost:8080/"
        },
        "id": "aH0YSTXufD1v",
        "outputId": "01cff98d-0965-4047-815e-d86d313a5bd1"
      },
      "outputs": [
        {
          "output_type": "stream",
          "name": "stdout",
          "text": [
            "Evaluation \t Proposed point \t  Current eval. \t  Best eval. \t        Exact EI: StdDev. x \t Approx EI: StdDev. x \n",
            "init\t [-0.84969467  2.25612281]\t 5.812071182014687\t 1.275455677703416\t    \t    \n",
            "init\t [-5.1188288  -2.02411446]\t 30.299447634857913\t 1.275455677703416\t    \t    \n",
            "init\t [-3.61721968 -4.17445279]\t 30.510334291475417\t 1.275455677703416\t    \t    \n",
            "init\t [-3.21269544 -1.58145816]\t 12.822421857501787\t 1.275455677703416\t    \t    \n",
            "init\t [-1.05710106  0.39748336]\t 1.275455677703416\t 1.275455677703416\t    \t    \n",
            "1  \t [ 4.04077223 -4.24914728]\t 34.383092818836786\t 1.275455677703416\t 3.4615340482994683\t 4.12053925323066\n",
            "2  \t [5.12 5.12]\t 52.4288\t 1.275455677703416\t 3.3761519423096646\t 3.7126007147366855\n",
            "3  \t [-5.12  5.12]\t 52.4288\t 1.275455677703416\t 3.2968937464448915\t 3.469873423482005\n",
            "4  \t [3.42250321 0.51119867]\t 11.974852281651728\t 1.275455677703416\t 3.0918886129101675\t 3.3687720389052953\n",
            "5  \t [ 0.4376922  -2.49216761]\t 6.40247388006668\t 1.275455677703416\t 2.791990900416019\t 3.1548512044130836\n",
            "6  \t [0.9351802 5.12     ]\t 27.08896201094414\t 1.275455677703416\t 2.6027616462809684\t 3.2441738770277033\n",
            "7  \t [-5.12        1.48759709]\t 28.427345114817157\t 1.275455677703416\t 3.0277877643373525\t 3.3599478821861313\n",
            "8  \t [-0.02567989 -5.12      ]\t 26.215059456838453\t 1.275455677703416\t 3.215317502723982\t 3.1205488332406883\n",
            "9  \t [ 5.12       -1.37983189]\t 28.118336037257674\t 1.275455677703416\t 2.75779104843784\t 2.978700067253833\n",
            "\u001b[1m\u001b[92m10\u001b[0m\t \u001b[1m\u001b[92m[0.65150514 0.09807373]\u001b[0m\t \u001b[1m\u001b[92m0.43407740879975265\u001b[0m\t \u001b[1m\u001b[92m0.43407740879975265\u001b[0m\t \u001b[1m\u001b[92m3.1078746603004626\u001b[0m\t \u001b[1m\u001b[92m2.6776738564987155\u001b[0m\n",
            "11 \t [-1.97892575  5.12      ]\t 30.130547122194\t 0.43407740879975265\t 2.5843705646397277\t 2.810865420478385\n",
            "12 \t [1.54754746 2.16164713]\t 7.067621436081277\t 0.43407740879975265\t 3.097369190869951\t 2.5632126852861683\n",
            "\u001b[1m\u001b[92m13\u001b[0m\t \u001b[1m\u001b[92m[ 0.12957904 -0.26122915]\u001b[0m\t \u001b[1m\u001b[92m0.08503139569775392\u001b[0m\t \u001b[1m\u001b[92m0.08503139569775392\u001b[0m\t \u001b[1m\u001b[92m2.3863573786831687\u001b[0m\t \u001b[1m\u001b[92m2.3052786927443614\u001b[0m\n",
            "14 \t [ 0.13478168 -0.26011181]\t 0.08582425699990759\t 0.08503139569775392\t 2.8577994701034783\t 2.3564872526497567\n",
            "15 \t [ 0.27910902 -0.24445457]\t 0.13765987737684784\t 0.08503139569775392\t 2.5232163578502527\t 2.3684950485091685\n",
            "16 \t [-0.19164409 -0.32515655]\t 0.1424542406446499\t 0.08503139569775392\t 2.8839271010134153\t 2.5280893558124418\n",
            "17 \t [ 0.38759435 -0.24250682]\t 0.20903894130622214\t 0.08503139569775392\t 2.714402862600665\t 2.199257238016835\n",
            "\u001b[1m\u001b[92m18\u001b[0m\t \u001b[1m\u001b[92m[ 0.1133285  -0.23435471]\u001b[0m\t \u001b[1m\u001b[92m0.06776548200992197\u001b[0m\t \u001b[1m\u001b[92m0.06776548200992197\u001b[0m\t \u001b[1m\u001b[92m2.8790716540398718\u001b[0m\t \u001b[1m\u001b[92m2.5739018659888235\u001b[0m\n",
            "19 \t [ 0.13410579 -0.23175294]\t 0.07169378981305112\t 0.06776548200992197\t 3.3306658932589226\t 2.9889331205542224\n",
            "20 \t [ 0.1526478  -0.22974048]\t 0.07608203900706513\t 0.06776548200992197\t 3.0042846788643787\t 2.655366092217467\n"
          ]
        }
      ],
      "source": [
        "### ESTIMATED GP EI GRADIENTS\n",
        "\n",
        "np.random.seed(run_num_1)\n",
        "surrogate_approx_1 = dGaussianProcess(cov_func, optimize=opt)\n",
        "\n",
        "approx_1 = GPGO_multi(surrogate_approx_1, Acquisition_grad(util), objfunc, param)\n",
        "approx_1.run(init_evals=n_init, max_iter=iters)\n"
      ]
    },
    {
      "cell_type": "code",
      "execution_count": 14,
      "metadata": {
        "id": "wTxsSZxFGBB5",
        "colab": {
          "base_uri": "https://localhost:8080/"
        },
        "outputId": "925a91de-da7a-4500-955d-aa65e0e89820"
      },
      "outputs": [
        {
          "output_type": "stream",
          "name": "stdout",
          "text": [
            "Evaluation \t Proposed point \t  Current eval. \t  Best eval. \t        Exact EI: StdDev. x \t Approx EI: StdDev. x \n",
            "init\t [-0.6554122  -4.85451539]\t 23.995884788327533\t 0.6972563370202991\t    \t    \n",
            "init\t [ 0.50854377 -0.6622987 ]\t 0.6972563370202991\t 0.6972563370202991\t    \t    \n",
            "init\t [-0.81543371 -1.73737143]\t 3.683391625826377\t 0.6972563370202991\t    \t    \n",
            "init\t [-3.02439799  1.2213347 ]\t 10.638641624769724\t 0.6972563370202991\t    \t    \n",
            "init\t [-2.05153614 -2.3876887 ]\t 9.90985788235879\t 0.6972563370202991\t    \t    \n",
            "1  \t [4.81874241 3.07464552]\t 32.673723450709105\t 0.6972563370202991\t 3.7957328359736677\t 3.7958679592709386\n",
            "2  \t [ 4.81417587 -3.13615063]\t 33.01173008164121\t 0.6972563370202991\t 2.7981975918562516\t 3.969539463501665\n",
            "3  \t [-0.00653243  5.12      ]\t 26.214442672594636\t 0.6972563370202991\t 3.658167291936934\t 4.066666197299913\n",
            "4  \t [-5.12  5.12]\t 52.4288\t 0.6972563370202991\t 3.128806251786837\t 3.0859622608985093\n",
            "5  \t [-5.12 -5.12]\t 52.4288\t 0.6972563370202991\t 3.461552444285725\t 3.422524533778983\n",
            "6  \t [2.56833586 0.07051569]\t 6.6013215541945405\t 0.6972563370202991\t 3.1151859379267934\t 3.0901348438313727\n",
            "7  \t [-5.12      -1.2127095]\t 27.685064321157377\t 0.6972563370202991\t 2.8087866445529746\t 2.965302435061592\n",
            "8  \t [0.11069458 1.64661548]\t 2.7235958394505824\t 0.6972563370202991\t 2.3826054268252035\t 2.740611554956362\n",
            "9  \t [ 1.55532416 -2.55415271]\t 8.942729335547991\t 0.6972563370202991\t 2.775384175412004\t 2.8841160963395476\n",
            "10 \t [ 2.4870413 -5.12     ]\t 32.399774440118236\t 0.6972563370202991\t 3.0980222637620276\t 3.264682220308157\n",
            "11 \t [ 5.12       -0.03580717]\t 26.215682153744034\t 0.6972563370202991\t 2.9415886266395317\t 2.8737652750834757\n",
            "12 \t [1.81247596 2.69717284]\t 10.559810416192658\t 0.6972563370202991\t 2.579029563250844\t 2.5103076745308437\n",
            "\u001b[1m\u001b[92m13\u001b[0m\t \u001b[1m\u001b[92m[-0.3047767   0.00928049]\u001b[0m\t \u001b[1m\u001b[92m0.09297496681071368\u001b[0m\t \u001b[1m\u001b[92m0.09297496681071368\u001b[0m\t \u001b[1m\u001b[92m3.015173606914217\u001b[0m\t \u001b[1m\u001b[92m3.075193411291212\u001b[0m\n",
            "14 \t [-0.31628942  0.01404885]\t 0.1002363686750927\t 0.09297496681071368\t 3.0224793872717863\t 2.865920445863159\n",
            "\u001b[1m\u001b[92m15\u001b[0m\t \u001b[1m\u001b[92m[-0.28477983  0.00166092]\u001b[0m\t \u001b[1m\u001b[92m0.08110230969825745\u001b[0m\t \u001b[1m\u001b[92m0.08110230969825745\u001b[0m\t \u001b[1m\u001b[92m2.684025927252913\u001b[0m\t \u001b[1m\u001b[92m2.65933615598832\u001b[0m\n",
            "\u001b[1m\u001b[92m16\u001b[0m\t \u001b[1m\u001b[92m[-0.27217157 -0.00371627]\u001b[0m\t \u001b[1m\u001b[92m0.07409117508991031\u001b[0m\t \u001b[1m\u001b[92m0.07409117508991031\u001b[0m\t \u001b[1m\u001b[92m2.8310345959041223\u001b[0m\t \u001b[1m\u001b[92m2.462730381933566\u001b[0m\n",
            "\u001b[1m\u001b[92m17\u001b[0m\t \u001b[1m\u001b[92m[-0.26549732 -0.00675674]\u001b[0m\t \u001b[1m\u001b[92m0.07053447988674753\u001b[0m\t \u001b[1m\u001b[92m0.07053447988674753\u001b[0m\t \u001b[1m\u001b[92m2.9770483547688817\u001b[0m\t \u001b[1m\u001b[92m2.672504298500876\u001b[0m\n",
            "\u001b[1m\u001b[92m18\u001b[0m\t \u001b[1m\u001b[92m[-0.26157093 -0.00865897]\u001b[0m\t \u001b[1m\u001b[92m0.06849433024771452\u001b[0m\t \u001b[1m\u001b[92m0.06849433024771452\u001b[0m\t \u001b[1m\u001b[92m2.724588686282897\u001b[0m\t \u001b[1m\u001b[92m2.7284242163735457\u001b[0m\n",
            "\u001b[1m\u001b[92m19\u001b[0m\t \u001b[1m\u001b[92m[-0.25910795 -0.00992663]\u001b[0m\t \u001b[1m\u001b[92m0.0672354663373152\u001b[0m\t \u001b[1m\u001b[92m0.0672354663373152\u001b[0m\t \u001b[1m\u001b[92m2.938270205605381\u001b[0m\t \u001b[1m\u001b[92m3.096538805034627\u001b[0m\n",
            "\u001b[1m\u001b[92m20\u001b[0m\t \u001b[1m\u001b[92m[-0.25748311 -0.01081503]\u001b[0m\t \u001b[1m\u001b[92m0.06641451505852036\u001b[0m\t \u001b[1m\u001b[92m0.06641451505852036\u001b[0m\t \u001b[1m\u001b[92m2.8536779139099337\u001b[0m\t \u001b[1m\u001b[92m2.6093105643654297\u001b[0m\n"
          ]
        }
      ],
      "source": [
        "### ESTIMATED GP EI GRADIENTS\n",
        "\n",
        "np.random.seed(run_num_2)\n",
        "surrogate_approx_2 = dGaussianProcess(cov_func, optimize=opt)\n",
        "\n",
        "approx_2 = GPGO_multi(surrogate_approx_2, Acquisition_grad(util), objfunc, param)\n",
        "approx_2.run(init_evals=n_init, max_iter=iters)\n"
      ]
    },
    {
      "cell_type": "code",
      "execution_count": 15,
      "metadata": {
        "id": "-dgzIrUIGCGT",
        "colab": {
          "base_uri": "https://localhost:8080/"
        },
        "outputId": "9ebbd012-f568-47e5-bb07-38070133e26f"
      },
      "outputs": [
        {
          "output_type": "stream",
          "name": "stdout",
          "text": [
            "Evaluation \t Proposed point \t  Current eval. \t  Best eval. \t        Exact EI: StdDev. x \t Approx EI: StdDev. x \n",
            "init\t [0.52017052 2.1314337 ]\t 4.813587005218131\t 4.59675431006429\t    \t    \n",
            "init\t [-2.14113547  0.11087468]\t 4.59675431006429\t 4.59675431006429\t    \t    \n",
            "init\t [4.02377681 4.05804123]\t 32.65847846685941\t 4.59675431006429\t    \t    \n",
            "init\t [-3.83400642 -2.99783293]\t 23.686607498512902\t 4.59675431006429\t    \t    \n",
            "init\t [-4.59297584 -0.6061072 ]\t 21.462792989409664\t 4.59675431006429\t    \t    \n",
            "1  \t [ 4.62594968 -1.72716685]\t 24.382515760418432\t 4.59675431006429\t 2.104074823324807\t 3.5140540704745677\n",
            "2  \t [-4.57811421  5.09191652]\t 46.88674355303911\t 4.59675431006429\t 2.5702722957833157\t 3.9632318277290657\n",
            "3  \t [ 0.82883316 -5.12      ]\t 26.90136441051294\t 4.59675431006429\t 3.0523056629222034\t 3.665487592938104\n",
            "4  \t [-0.44145971  5.12      ]\t 26.409286677630373\t 4.59675431006429\t 3.161770646411902\t 2.764039953267306\n",
            "\u001b[1m\u001b[92m5\u001b[0m\t \u001b[1m\u001b[92m[ 0.82827233 -1.27984998]\u001b[0m\t \u001b[1m\u001b[92m2.3240510288035345\u001b[0m\t \u001b[1m\u001b[92m2.3240510288035345\u001b[0m\t \u001b[1m\u001b[92m2.876289549711548\u001b[0m\t \u001b[1m\u001b[92m3.227954821009548\u001b[0m\n",
            "6  \t [ 5.12 -5.12]\t 52.4288\t 2.3240510288035345\t 3.1020920341315117\t 2.950609331717379\n",
            "7  \t [2.8116592  0.86098859]\t 8.646728777892784\t 2.3240510288035345\t 2.932824169423534\t 2.7335689092785915\n",
            "8  \t [-2.52584289  2.44485592]\t 12.357202731691004\t 2.3240510288035345\t 3.032306700429663\t 3.2402646157074457\n",
            "9  \t [-0.84651169 -2.3542552 ]\t 6.259099579769277\t 2.3240510288035345\t 2.914144117878283\t 2.591033792040149\n",
            "10 \t [-2.15648917 -5.12      ]\t 30.86484552527089\t 2.3240510288035345\t 2.818974221038474\t 2.741351595278245\n",
            "11 \t [5.12       1.24953402]\t 27.77573525912942\t 2.3240510288035345\t 2.9504726217844164\t 3.0580526507532575\n",
            "12 \t [-5.12        2.06214417]\t 30.466838569878014\t 2.3240510288035345\t 2.7124746924480863\t 2.7387966757632367\n",
            "13 \t [-5.12 -5.12]\t 52.4288\t 2.3240510288035345\t 3.0508943347145987\t 2.9882004314115425\n",
            "14 \t [ 1.92357925 -2.4226181 ]\t 9.569235606968128\t 2.3240510288035345\t 2.493171241951564\t 2.3312169561913083\n",
            "\u001b[1m\u001b[92m15\u001b[0m\t \u001b[1m\u001b[92m[ 0.14386615 -0.02246052]\u001b[0m\t \u001b[1m\u001b[92m0.021201943960553124\u001b[0m\t \u001b[1m\u001b[92m0.021201943960553124\u001b[0m\t \u001b[1m\u001b[92m2.8183726741364374\u001b[0m\t \u001b[1m\u001b[92m2.2932748333483866\u001b[0m\n",
            "\u001b[1m\u001b[92m16\u001b[0m\t \u001b[1m\u001b[92m[0.11276716 0.00716996]\u001b[0m\t \u001b[1m\u001b[92m0.012767840869278664\u001b[0m\t \u001b[1m\u001b[92m0.012767840869278664\u001b[0m\t \u001b[1m\u001b[92m2.8328893002678845\u001b[0m\t \u001b[1m\u001b[92m2.804610528976371\u001b[0m\n",
            "17 \t [0.11770085 0.00344964]\t 0.013865389190972034\t 0.012767840869278664\t 2.5192629014698182\t 2.493911644112852\n",
            "18 \t [0.12028199 0.00142258]\t 0.014469779660669316\t 0.012767840869278664\t 3.151822200474759\t 2.9472008670801575\n",
            "19 \t [0.12178042 0.00019587]\t 0.014830508383401348\t 0.012767840869278664\t 2.9050613881507257\t 2.7562385280332373\n",
            "20 \t [ 0.12273601 -0.00061739]\t 0.015064509226017942\t 0.012767840869278664\t 2.276839097375172\t 2.100621682953381\n"
          ]
        }
      ],
      "source": [
        "### ESTIMATED GP EI GRADIENTS\n",
        "\n",
        "np.random.seed(run_num_3)\n",
        "surrogate_approx_3 = dGaussianProcess(cov_func, optimize=opt)\n",
        "\n",
        "approx_3 = GPGO_multi(surrogate_approx_3, Acquisition_grad(util), objfunc, param)\n",
        "approx_3.run(init_evals=n_init, max_iter=iters)\n"
      ]
    },
    {
      "cell_type": "code",
      "execution_count": 16,
      "metadata": {
        "id": "hOtG-2sCGCKS",
        "colab": {
          "base_uri": "https://localhost:8080/"
        },
        "outputId": "e282e521-4987-43e2-c5d6-a0b56885132a"
      },
      "outputs": [
        {
          "output_type": "stream",
          "name": "stdout",
          "text": [
            "Evaluation \t Proposed point \t  Current eval. \t  Best eval. \t        Exact EI: StdDev. x \t Approx EI: StdDev. x \n",
            "init\t [4.78238555 0.48365823]\t 23.1051368481516\t 6.844040613967918\t    \t    \n",
            "init\t [4.84028785 2.19971578]\t 28.267135924302462\t 6.844040613967918\t    \t    \n",
            "init\t [ 2.02474316 -2.90724357]\t 12.551650027390728\t 6.844040613967918\t    \t    \n",
            "init\t [ 4.87705042 -5.05620219]\t 49.3508013219099\t 6.844040613967918\t    \t    \n",
            "init\t [-2.52946061 -0.66773471]\t 6.844040613967918\t 6.844040613967918\t    \t    \n",
            "1  \t [-5.12        4.14099457]\t 43.36223602290998\t 6.844040613967918\t 2.6967167630241695\t 3.8119206631973417\n",
            "2  \t [-5.12 -5.12]\t 52.4288\t 6.844040613967918\t 3.6940710190548254\t 4.186887368513236\n",
            "3  \t [0.31011482 5.12      ]\t 26.310571200528994\t 6.844040613967918\t 3.3153128965030283\t 3.6701795963869883\n",
            "4  \t [-0.95718136 -5.12      ]\t 27.1305961538866\t 6.844040613967918\t 3.2273068886966483\t 3.323284611400735\n",
            "\u001b[1m\u001b[92m5\u001b[0m\t \u001b[1m\u001b[92m[0.70230377 1.02858908]\u001b[0m\t \u001b[1m\u001b[92m1.5512260872011265\u001b[0m\t \u001b[1m\u001b[92m1.5512260872011265\u001b[0m\t \u001b[1m\u001b[92m3.058470314791327\u001b[0m\t \u001b[1m\u001b[92m2.924035528931168\u001b[0m\n",
            "6  \t [-5.12        0.39264056]\t 26.36856660547305\t 1.5512260872011265\t 2.9982147782064015\t 2.8628970927418016\n",
            "7  \t [-1.7880775   2.34208306]\t 8.682574226507041\t 1.5512260872011265\t 2.8106838153638\t 2.5181392805409475\n",
            "8  \t [3.78102925 5.12      ]\t 40.51058217711431\t 1.5512260872011265\t 2.7110538648926825\t 2.7586421176855302\n",
            "\u001b[1m\u001b[92m9\u001b[0m\t \u001b[1m\u001b[92m[ 0.08311    -0.84548788]\u001b[0m\t \u001b[1m\u001b[92m0.7217570353447303\u001b[0m\t \u001b[1m\u001b[92m0.7217570353447303\u001b[0m\t \u001b[1m\u001b[92m2.5153883377300383\u001b[0m\t \u001b[1m\u001b[92m2.584402496995988\u001b[0m\n",
            "10 \t [1.66677362 2.23769033]\t 7.7853923259756135\t 0.7217570353447303\t 3.3643822223334827\t 3.209114693282743\n",
            "11 \t [ 1.42157941 -0.28975065]\t 2.1048434488242833\t 0.7217570353447303\t 3.1126694500145162\t 3.0774942207917007\n",
            "12 \t [-0.62931281 -2.02607781]\t 4.501025897907798\t 0.7217570353447303\t 2.6621762304963537\t 2.881793871326234\n",
            "\u001b[1m\u001b[92m13\u001b[0m\t \u001b[1m\u001b[92m[-0.19441365  0.21833082]\u001b[0m\t \u001b[1m\u001b[92m0.08546501430099357\u001b[0m\t \u001b[1m\u001b[92m0.08546501430099357\u001b[0m\t \u001b[1m\u001b[92m2.683137081727964\u001b[0m\t \u001b[1m\u001b[92m2.7498051676983564\u001b[0m\n",
            "14 \t [-0.2057788   0.22544637]\t 0.09317097894740867\t 0.08546501430099357\t 2.447136245361146\t 2.16359574104415\n",
            "15 \t [-0.19615888  0.21931474]\t 0.08657726254245882\t 0.08546501430099357\t 2.9945083298120263\t 2.966781303860363\n",
            "\u001b[1m\u001b[92m16\u001b[0m\t \u001b[1m\u001b[92m[-0.1911552  0.2161046]\u001b[0m\t \u001b[1m\u001b[92m0.0832415081372419\u001b[0m\t \u001b[1m\u001b[92m0.0832415081372419\u001b[0m\t \u001b[1m\u001b[92m2.9525681653439326\u001b[0m\t \u001b[1m\u001b[92m2.6963140988819125\u001b[0m\n",
            "\u001b[1m\u001b[92m17\u001b[0m\t \u001b[1m\u001b[92m[-0.18819777  0.21420718]\u001b[0m\t \u001b[1m\u001b[92m0.08130311467250591\u001b[0m\t \u001b[1m\u001b[92m0.08130311467250591\u001b[0m\t \u001b[1m\u001b[92m2.710459437411812\u001b[0m\t \u001b[1m\u001b[92m3.1138223438847046\u001b[0m\n",
            "\u001b[1m\u001b[92m18\u001b[0m\t \u001b[1m\u001b[92m[-0.18625408  0.21296472]\u001b[0m\t \u001b[1m\u001b[92m0.08004455263860069\u001b[0m\t \u001b[1m\u001b[92m0.08004455263860069\u001b[0m\t \u001b[1m\u001b[92m2.9890117249627957\u001b[0m\t \u001b[1m\u001b[92m3.0571816859774903\u001b[0m\n",
            "\u001b[1m\u001b[92m19\u001b[0m\t \u001b[1m\u001b[92m[-0.18488985  0.21209393]\u001b[0m\t \u001b[1m\u001b[92m0.0791680910468918\u001b[0m\t \u001b[1m\u001b[92m0.0791680910468918\u001b[0m\t \u001b[1m\u001b[92m2.8739608252133304\u001b[0m\t \u001b[1m\u001b[92m3.0636083707272532\u001b[0m\n",
            "\u001b[1m\u001b[92m20\u001b[0m\t \u001b[1m\u001b[92m[-0.1838876   0.21145787]\u001b[0m\t \u001b[1m\u001b[92m0.07852908012233921\u001b[0m\t \u001b[1m\u001b[92m0.07852908012233921\u001b[0m\t \u001b[1m\u001b[92m2.6046295527716308\u001b[0m\t \u001b[1m\u001b[92m2.8483127723064827\u001b[0m\n"
          ]
        }
      ],
      "source": [
        "### ESTIMATED GP EI GRADIENTS\n",
        "\n",
        "np.random.seed(run_num_4)\n",
        "surrogate_approx_4 = dGaussianProcess(cov_func, optimize=opt)\n",
        "\n",
        "approx_4= GPGO_multi(surrogate_approx_4, Acquisition_grad(util), objfunc, param)\n",
        "approx_4.run(init_evals=n_init, max_iter=iters)\n"
      ]
    },
    {
      "cell_type": "code",
      "execution_count": 17,
      "metadata": {
        "id": "JF_SxcEvGCOl",
        "colab": {
          "base_uri": "https://localhost:8080/"
        },
        "outputId": "2177e24c-864c-4c91-f8e0-c71b6f9fcdd7"
      },
      "outputs": [
        {
          "output_type": "stream",
          "name": "stdout",
          "text": [
            "Evaluation \t Proposed point \t  Current eval. \t  Best eval. \t        Exact EI: StdDev. x \t Approx EI: StdDev. x \n",
            "init\t [-2.84678993  3.79629882]\t 22.516097589112718\t 1.3234068721819314\t    \t    \n",
            "init\t [-3.00319585  4.2865757 ]\t 27.393916517947076\t 1.3234068721819314\t    \t    \n",
            "init\t [-0.11866943  1.14425716]\t 1.3234068721819314\t 1.3234068721819314\t    \t    \n",
            "init\t [2.72289645 0.1886002 ]\t 7.449735113237491\t 1.3234068721819314\t    \t    \n",
            "init\t [-2.08076286 -3.19773462]\t 14.555080786026249\t 1.3234068721819314\t    \t    \n",
            "1  \t [ 4.32895605 -5.09732646]\t 44.722597532365825\t 1.3234068721819314\t 4.399561048911011\t 4.319811055806327\n",
            "2  \t [5.12       5.01238555]\t 51.33840892332317\t 1.3234068721819314\t 4.137823564374656\t 3.700984398728381\n",
            "3  \t [-5.12       -0.04786458]\t 26.216691018425248\t 1.3234068721819314\t 3.380703883043116\t 3.6945452493160773\n",
            "4  \t [0.96524419 5.12      ]\t 27.14609634009872\t 1.3234068721819314\t 3.4140498679821154\t 3.3336168602075698\n",
            "5  \t [-5.12 -5.12]\t 52.4288\t 1.3234068721819314\t 3.3307651729327126\t 3.3698328583504242\n",
            "6  \t [ 0.60985122 -5.12      ]\t 26.586318508253523\t 1.3234068721819314\t 3.246722687946769\t 3.3862952431753035\n",
            "7  \t [ 5.12       -1.48551526]\t 28.42115559220819\t 1.3234068721819314\t 2.416204280576937\t 2.569292911275295\n",
            "8  \t [ 0.4741503  -1.46775457]\t 2.3791219987870607\t 1.3234068721819314\t 2.895215207600372\t 2.8568944610055347\n",
            "9  \t [-1.84627905  0.21267819]\t 3.4539783424998207\t 1.3234068721819314\t 2.976385864051732\t 2.8465238538935327\n",
            "10 \t [5.12       1.71467076]\t 29.154495801127926\t 1.3234068721819314\t 3.0454342800307006\t 2.7991279474643864\n",
            "11 \t [1.08029691 2.12428189]\t 5.679614960847606\t 1.3234068721819314\t 2.785955510796972\t 2.7612941847021992\n",
            "12 \t [ 2.12792714 -2.4703837 ]\t 10.6308695605878\t 1.3234068721819314\t 2.5537045978812585\t 2.4063059123549806\n",
            "\u001b[1m\u001b[92m13\u001b[0m\t \u001b[1m\u001b[92m[ 0.00771745 -0.15327034]\u001b[0m\t \u001b[1m\u001b[92m0.023551354793451607\u001b[0m\t \u001b[1m\u001b[92m0.023551354793451607\u001b[0m\t \u001b[1m\u001b[92m2.8515830122369854\u001b[0m\t \u001b[1m\u001b[92m2.8502301292792356\u001b[0m\n",
            "14 \t [ 0.00398867 -0.16502575]\t 0.02724940674287455\t 0.023551354793451607\t 2.3189288425344685\t 2.3029012956611523\n",
            "15 \t [ 0.0045132  -0.16391506]\t 0.026888515159601604\t 0.023551354793451607\t 2.5176804407305657\t 2.265218564246463\n",
            "16 \t [ 0.00477041 -0.16334183]\t 0.02670331051569213\t 0.023551354793451607\t 2.9009362375789625\t 2.648616585145213\n",
            "17 \t [ 0.00491772 -0.16299943]\t 0.026592999480278476\t 0.023551354793451607\t 2.7070374703495936\t 2.636614157482242\n",
            "18 \t [ 0.00501207 -0.16277333]\t 0.02652027883887643\t 0.023551354793451607\t 2.6889025310679107\t 2.7893620652426097\n",
            "19 \t [ 0.00507678 -0.16261413]\t 0.02646912888557295\t 0.023551354793451607\t 2.7521574060528584\t 2.7429241784438108\n",
            "20 \t [ 0.00512359 -0.16249731]\t 0.02643162628193972\t 0.023551354793451607\t 2.88425758910273\t 2.8395685518120497\n"
          ]
        }
      ],
      "source": [
        "### ESTIMATED GP EI GRADIENTS\n",
        "\n",
        "np.random.seed(run_num_5)\n",
        "surrogate_approx_5 = dGaussianProcess(cov_func, optimize=opt)\n",
        "\n",
        "approx_5 = GPGO_multi(surrogate_approx_5, Acquisition_grad(util), objfunc, param)\n",
        "approx_5.run(init_evals=n_init, max_iter=iters)\n"
      ]
    },
    {
      "cell_type": "code",
      "execution_count": 18,
      "metadata": {
        "id": "-kDxZtJsGCR3",
        "colab": {
          "base_uri": "https://localhost:8080/"
        },
        "outputId": "d621e927-526a-465c-c3ea-f918eb6cb1fe"
      },
      "outputs": [
        {
          "output_type": "stream",
          "name": "stdout",
          "text": [
            "Evaluation \t Proposed point \t  Current eval. \t  Best eval. \t        Exact EI: StdDev. x \t Approx EI: StdDev. x \n",
            "init\t [ 4.02288795 -1.72052679]\t 19.143839911819178\t 0.7844720799352826\t    \t    \n",
            "init\t [ 3.28938622 -4.69302655]\t 32.84455992822337\t 0.7844720799352826\t    \t    \n",
            "init\t [-4.0175956   0.97333314]\t 17.088451781196223\t 0.7844720799352826\t    \t    \n",
            "init\t [ 0.30532979 -0.83141193]\t 0.7844720799352826\t 0.7844720799352826\t    \t    \n",
            "init\t [-1.68542362  1.25459899]\t 4.414671405342624\t 0.7844720799352826\t    \t    \n",
            "1  \t [4.11965622 5.12      ]\t 43.18596737725548\t 0.7844720799352826\t 4.082144197899327\t 3.859837555501155\n",
            "2  \t [-5.12 -5.12]\t 52.4288\t 0.7844720799352826\t 3.6276059556402247\t 3.713473083794514\n",
            "3  \t [-5.12  5.12]\t 52.4288\t 0.7844720799352826\t 3.3987387190605127\t 3.5988460912719877\n",
            "4  \t [-0.44948625  5.12      ]\t 26.416437893103673\t 0.7844720799352826\t 3.3120960412275022\t 3.2653645676386085\n",
            "5  \t [-0.92587221 -4.00794354]\t 16.92085080283722\t 0.7844720799352826\t 2.8045609076957327\t 2.812853102239848\n",
            "6  \t [1.96993755 1.6541008 ]\t 6.616703427642042\t 0.7844720799352826\t 3.149969028727987\t 3.167787245610031\n",
            "7  \t [5.12       1.54731213]\t 28.60857482980299\t 0.7844720799352826\t 3.3535876620565697\t 3.2881390829650026\n",
            "8  \t [-3.41688527 -2.00907138]\t 15.711472751065475\t 0.7844720799352826\t 2.7789135052562486\t 2.84557709751749\n",
            "9  \t [ 1.04416265 -1.74617492]\t 4.139402464294074\t 0.7844720799352826\t 2.560539676720931\t 2.504339307754489\n",
            "10 \t [-0.68269879 -0.57282422]\t 0.7942052201198392\t 0.7844720799352826\t 2.7974271142642446\t 3.05602634945192\n",
            "\u001b[1m\u001b[92m11\u001b[0m\t \u001b[1m\u001b[92m[0.11253217 0.17463007]\u001b[0m\t \u001b[1m\u001b[92m0.04315915099571747\u001b[0m\t \u001b[1m\u001b[92m0.04315915099571747\u001b[0m\t \u001b[1m\u001b[92m3.329057685238424\u001b[0m\t \u001b[1m\u001b[92m2.999947595253298\u001b[0m\n",
            "12 \t [0.12643524 0.21432069]\t 0.0619192285719254\t 0.04315915099571747\t 2.748329190979852\t 2.729349156780287\n",
            "13 \t [0.12015316 0.19562376]\t 0.052705436886319436\t 0.04315915099571747\t 2.5957819615388917\t 2.565568310348282\n",
            "14 \t [0.11675026 0.18625824]\t 0.048322755772457156\t 0.04315915099571747\t 2.7987937153049205\t 2.6936337404025004\n",
            "15 \t [0.1146845  0.18076417]\t 0.04582821918731034\t 0.04315915099571747\t 2.906644537631358\t 3.049595934293832\n",
            "16 \t [0.1133233  0.17721215]\t 0.04424631550110275\t 0.04315915099571747\t 2.9155061282431185\t 2.8368849098009443\n",
            "17 \t [0.11237481 0.17475507]\t 0.04316743468138817\t 0.04315915099571747\t 3.2319742048629614\t 3.1138393655503704\n",
            "\u001b[1m\u001b[92m18\u001b[0m\t \u001b[1m\u001b[92m[0.11168545 0.17296833]\u001b[0m\t \u001b[1m\u001b[92m0.0423916834952318\u001b[0m\t \u001b[1m\u001b[92m0.0423916834952318\u001b[0m\t \u001b[1m\u001b[92m3.1900031801407187\u001b[0m\t \u001b[1m\u001b[92m2.815581999701654\u001b[0m\n",
            "\u001b[1m\u001b[92m19\u001b[0m\t \u001b[1m\u001b[92m[0.1111673  0.17163506]\u001b[0m\t \u001b[1m\u001b[92m0.04181676320172083\u001b[0m\t \u001b[1m\u001b[92m0.04181676320172083\u001b[0m\t \u001b[1m\u001b[92m3.066408890093026\u001b[0m\t \u001b[1m\u001b[92m3.020657501836194\u001b[0m\n",
            "\u001b[1m\u001b[92m20\u001b[0m\t \u001b[1m\u001b[92m[0.11076322 0.17059629]\u001b[0m\t \u001b[1m\u001b[92m0.041371585358443395\u001b[0m\t \u001b[1m\u001b[92m0.041371585358443395\u001b[0m\t \u001b[1m\u001b[92m2.9516235188161093\u001b[0m\t \u001b[1m\u001b[92m2.8781418668381256\u001b[0m\n"
          ]
        }
      ],
      "source": [
        "### ESTIMATED GP EI GRADIENTS\n",
        "\n",
        "np.random.seed(run_num_6)\n",
        "surrogate_approx_6 = dGaussianProcess(cov_func, optimize=opt)\n",
        "\n",
        "approx_6 = GPGO_multi(surrogate_approx_6, Acquisition_grad(util), objfunc, param)\n",
        "approx_6.run(init_evals=n_init, max_iter=iters)\n"
      ]
    },
    {
      "cell_type": "code",
      "execution_count": 19,
      "metadata": {
        "id": "fKB8MCD_GCVI",
        "colab": {
          "base_uri": "https://localhost:8080/"
        },
        "outputId": "7e59dfa4-86e9-48df-ab34-79226dbf1a31"
      },
      "outputs": [
        {
          "output_type": "stream",
          "name": "stdout",
          "text": [
            "Evaluation \t Proposed point \t  Current eval. \t  Best eval. \t        Exact EI: StdDev. x \t Approx EI: StdDev. x \n",
            "init\t [-4.33860312  2.86636843]\t 27.039544996254122\t 5.622519010932044\t    \t    \n",
            "init\t [-0.63068947  2.28828342]\t 5.634010222398341\t 5.622519010932044\t    \t    \n",
            "init\t [4.8946126  0.39419771]\t 24.112624368867845\t 5.622519010932044\t    \t    \n",
            "init\t [ 0.01147355 -4.38219639]\t 19.20377688135857\t 5.622519010932044\t    \t    \n",
            "init\t [-2.37118484e+00 -1.20319155e-03]\t 5.622519010932044\t 5.622519010932044\t    \t    \n",
            "1  \t [-5.12 -5.12]\t 52.4288\t 5.622519010932044\t 2.86852963193626\t 3.1979968282644236\n",
            "2  \t [ 5.12 -5.12]\t 52.4288\t 5.622519010932044\t 3.792819009538688\t 3.7005928624393656\n",
            "3  \t [3.32677936 5.12      ]\t 37.28186092483975\t 5.622519010932044\t 3.695571480537048\t 3.3599882049574155\n",
            "4  \t [-4.02558214 -1.33646422]\t 17.991448177385568\t 5.622519010932044\t 2.8894146894053065\t 3.046307140328312\n",
            "\u001b[1m\u001b[92m5\u001b[0m\t \u001b[1m\u001b[92m[ 1.22341687 -0.77267839]\u001b[0m\t \u001b[1m\u001b[92m2.0937807397208346\u001b[0m\t \u001b[1m\u001b[92m2.0937807397208346\u001b[0m\t \u001b[1m\u001b[92m2.914870632813939\u001b[0m\t \u001b[1m\u001b[92m2.768947481747353\u001b[0m\n",
            "6  \t [-1.25614646  5.12      ]\t 27.792303930767755\t 2.0937807397208346\t 3.056437912388385\t 3.2581770804916794\n",
            "7  \t [ 2.86592422 -2.42725294]\t 14.105078480837687\t 2.0937807397208346\t 2.339039811718092\t 2.3118813944327066\n",
            "8  \t [1.97992168 1.82085891]\t 7.235617031356339\t 2.0937807397208346\t 2.910825531882905\t 3.1342784509617725\n",
            "9  \t [-0.51845266 -1.42112168]\t 2.2883800072976794\t 2.0937807397208346\t 3.195433083280995\t 3.2615803143778446\n",
            "10 \t [-2.40608634 -3.46483602]\t 17.794340147315395\t 2.0937807397208346\t 3.058206928902146\t 3.3045366006543913\n",
            "11 \t [5.12       3.05690777]\t 35.55908508936116\t 2.0937807397208346\t 2.7684906709912465\t 2.714243020968562\n",
            "12 \t [-5.12  5.12]\t 52.4288\t 2.0937807397208346\t 3.1450445304043386\t 3.243628264962625\n",
            "\u001b[1m\u001b[92m13\u001b[0m\t \u001b[1m\u001b[92m[0.05870624 0.09523748]\u001b[0m\t \u001b[1m\u001b[92m0.012516600098502095\u001b[0m\t \u001b[1m\u001b[92m0.012516600098502095\u001b[0m\t \u001b[1m\u001b[92m3.171996903949125\u001b[0m\t \u001b[1m\u001b[92m3.003948015416557\u001b[0m\n",
            "14 \t [0.02734163 0.13849055]\t 0.019927197063264436\t 0.012516600098502095\t 2.462508948896142\t 2.568335078223359\n",
            "15 \t [0.02961025 0.13574611]\t 0.019303772897080712\t 0.012516600098502095\t 3.3300241405259086\t 3.063519420134203\n",
            "16 \t [0.03073664 0.13436415]\t 0.01899846684779108\t 0.012516600098502095\t 2.314253245097273\t 2.1969348160168645\n",
            "17 \t [0.03139622 0.13354448]\t 0.01881985037939572\t 0.012516600098502095\t 2.2819247517175643\t 2.5278845699342196\n",
            "18 \t [0.03182437 0.13300652]\t 0.01870352434123754\t 0.012516600098502095\t 3.2718596386013687\t 3.3426640115095667\n",
            "19 \t [0.03212394 0.13262839]\t 0.018622237242722824\t 0.012516600098502095\t 3.076848118716222\t 2.9874002345922213\n",
            "20 \t [0.03234072 0.13234993]\t 0.018562426262078168\t 0.012516600098502095\t 2.8000802463551024\t 2.9772010664115047\n"
          ]
        }
      ],
      "source": [
        "### ESTIMATED GP EI GRADIENTS\n",
        "\n",
        "np.random.seed(run_num_7)\n",
        "surrogate_approx_7 = dGaussianProcess(cov_func, optimize=opt)\n",
        "\n",
        "approx_7 = GPGO_multi(surrogate_approx_7, Acquisition_grad(util), objfunc, param)\n",
        "approx_7.run(init_evals=n_init, max_iter=iters)\n"
      ]
    },
    {
      "cell_type": "code",
      "execution_count": 20,
      "metadata": {
        "id": "4unvifF-GCXp",
        "colab": {
          "base_uri": "https://localhost:8080/"
        },
        "outputId": "dcf82381-3102-4898-d4ac-bb1038830823"
      },
      "outputs": [
        {
          "output_type": "stream",
          "name": "stdout",
          "text": [
            "Evaluation \t Proposed point \t  Current eval. \t  Best eval. \t        Exact EI: StdDev. x \t Approx EI: StdDev. x \n",
            "init\t [3.82391708 4.79785639]\t 37.641767782829874\t 0.10287109474532606\t    \t    \n",
            "init\t [3.78055209 0.31596228]\t 14.392406282091054\t 0.10287109474532606\t    \t    \n",
            "init\t [-2.73686192 -5.00327624]\t 32.52318635319257\t 0.10287109474532606\t    \t    \n",
            "init\t [-0.7119993  -0.99992207]\t 1.5067871566831337\t 0.10287109474532606\t    \t    \n",
            "init\t [ 0.23218863 -0.22126801]\t 0.10287109474532606\t 0.10287109474532606\t    \t    \n",
            "1  \t [-4.36608793e-04  2.06674367e+00]\t 4.271429598672614\t 0.10287109474532606\t 2.975790249940113\t 3.7347955902068035\n",
            "2  \t [-5.12  5.12]\t 52.4288\t 0.10287109474532606\t 3.3261469407136706\t 4.196661350969087\n",
            "3  \t [ 4.04653495 -5.12      ]\t 42.5888451205719\t 0.10287109474532606\t 2.6911508838849842\t 3.704572176241837\n",
            "4  \t [-5.12       -0.23607549]\t 26.270131638470147\t 0.10287109474532606\t 3.3496941929527924\t 3.474451156825904\n",
            "5  \t [-0.8721827  5.12     ]\t 26.975102668941314\t 0.10287109474532606\t 2.9422021461628756\t 2.9978703015750336\n",
            "6  \t [ 0.78586964 -3.21535839]\t 10.956120685663624\t 0.10287109474532606\t 2.9759277471031256\t 3.0574071941154477\n",
            "7  \t [-2.7830268  2.1207066]\t 12.242634653016335\t 0.10287109474532606\t 2.988963472322269\t 3.0561427931461735\n",
            "8  \t [ 5.12       -2.10283907]\t 30.63633215997281\t 0.10287109474532606\t 3.2943556303620567\t 3.0194808569066636\n",
            "9  \t [-2.3685444  -1.75007465]\t 8.672763841329362\t 0.10287109474532606\t 2.7221684949052283\t 2.654103189401235\n",
            "10 \t [ 0.96577177 -0.28716112]\t 1.0151766271024232\t 0.10287109474532606\t 3.048939237752001\t 2.9392247066852053\n",
            "11 \t [1.94406113 2.37608733]\t 9.425164683996897\t 0.10287109474532606\t 2.866629022536365\t 2.7974775318470844\n",
            "12 \t [-5.12       -3.32279831]\t 37.25538857852801\t 0.10287109474532606\t 2.678383352216699\t 2.782041581318174\n",
            "13 \t [-0.40218672  0.08881392]\t 0.1696420705700844\t 0.10287109474532606\t 2.6281870766174347\t 2.3682417913338245\n",
            "\u001b[1m\u001b[92m14\u001b[0m\t \u001b[1m\u001b[92m[-0.2581075   0.00746927]\u001b[0m\t \u001b[1m\u001b[92m0.06667527179430566\u001b[0m\t \u001b[1m\u001b[92m0.06667527179430566\u001b[0m\t \u001b[1m\u001b[92m2.8495314845694857\u001b[0m\t \u001b[1m\u001b[92m3.026810622210358\u001b[0m\n",
            "\u001b[1m\u001b[92m15\u001b[0m\t \u001b[1m\u001b[92m[-0.23461151 -0.00711364]\u001b[0m\t \u001b[1m\u001b[92m0.05509316285087431\u001b[0m\t \u001b[1m\u001b[92m0.05509316285087431\u001b[0m\t \u001b[1m\u001b[92m2.5919877359143038\u001b[0m\t \u001b[1m\u001b[92m2.6834916271771596\u001b[0m\n",
            "\u001b[1m\u001b[92m16\u001b[0m\t \u001b[1m\u001b[92m[-0.22134303 -0.01554023]\u001b[0m\t \u001b[1m\u001b[92m0.049234235872515714\u001b[0m\t \u001b[1m\u001b[92m0.049234235872515714\u001b[0m\t \u001b[1m\u001b[92m2.6586596698716374\u001b[0m\t \u001b[1m\u001b[92m2.683575032834463\u001b[0m\n",
            "\u001b[1m\u001b[92m17\u001b[0m\t \u001b[1m\u001b[92m[-0.21386516 -0.02040645]\u001b[0m\t \u001b[1m\u001b[92m0.04615472888377517\u001b[0m\t \u001b[1m\u001b[92m0.04615472888377517\u001b[0m\t \u001b[1m\u001b[92m3.300841522935802\u001b[0m\t \u001b[1m\u001b[92m3.279121422463555\u001b[0m\n",
            "\u001b[1m\u001b[92m18\u001b[0m\t \u001b[1m\u001b[92m[-0.20926006 -0.02346977]\u001b[0m\t \u001b[1m\u001b[92m0.044340601123883695\u001b[0m\t \u001b[1m\u001b[92m0.044340601123883695\u001b[0m\t \u001b[1m\u001b[92m2.8265122028078262\u001b[0m\t \u001b[1m\u001b[92m2.749617839350841\u001b[0m\n",
            "\u001b[1m\u001b[92m19\u001b[0m\t \u001b[1m\u001b[92m[-0.20624634 -0.02551912]\u001b[0m\t \u001b[1m\u001b[92m0.04318878002515657\u001b[0m\t \u001b[1m\u001b[92m0.04318878002515657\u001b[0m\t \u001b[1m\u001b[92m2.608445406504997\u001b[0m\t \u001b[1m\u001b[92m2.388091425086527\u001b[0m\n",
            "\u001b[1m\u001b[92m20\u001b[0m\t \u001b[1m\u001b[92m[-0.20417572 -0.02695565]\u001b[0m\t \u001b[1m\u001b[92m0.042414332162254806\u001b[0m\t \u001b[1m\u001b[92m0.042414332162254806\u001b[0m\t \u001b[1m\u001b[92m2.8152280835028325\u001b[0m\t \u001b[1m\u001b[92m2.6115102484798975\u001b[0m\n"
          ]
        }
      ],
      "source": [
        "### ESTIMATED GP EI GRADIENTS\n",
        "\n",
        "np.random.seed(run_num_8)\n",
        "surrogate_approx_8 = dGaussianProcess(cov_func, optimize=opt)\n",
        "\n",
        "approx_8 = GPGO_multi(surrogate_approx_8, Acquisition_grad(util), objfunc, param)\n",
        "approx_8.run(init_evals=n_init, max_iter=iters)\n"
      ]
    },
    {
      "cell_type": "code",
      "execution_count": 21,
      "metadata": {
        "id": "85OIXcg7GCaJ",
        "colab": {
          "base_uri": "https://localhost:8080/"
        },
        "outputId": "dd79b41b-ac10-4a28-e7d9-1154511d4479"
      },
      "outputs": [
        {
          "output_type": "stream",
          "name": "stdout",
          "text": [
            "Evaluation \t Proposed point \t  Current eval. \t  Best eval. \t        Exact EI: StdDev. x \t Approx EI: StdDev. x \n",
            "init\t [-5.01376866  0.01919582]\t 25.138244697862262\t 7.349882113053805\t    \t    \n",
            "init\t [-0.04328148 -3.74958562]\t 14.061265633999861\t 7.349882113053805\t    \t    \n",
            "init\t [-3.66478248 -2.88195916]\t 21.736319271030034\t 7.349882113053805\t    \t    \n",
            "init\t [-0.83447623 -2.57944404]\t 7.349882113053805\t 7.349882113053805\t    \t    \n",
            "init\t [-4.25922917 -1.58209393]\t 20.64405433050371\t 7.349882113053805\t    \t    \n",
            "1  \t [3.69491889 4.82146316]\t 36.89893267190826\t 7.349882113053805\t 3.03256471764163\t 2.9827620375590764\n",
            "2  \t [-2.28325892  5.12      ]\t 31.42767130669173\t 7.349882113053805\t 3.222631134917699\t 4.1430927832633415\n",
            "3  \t [ 4.85377973 -0.96421613]\t 24.488890382834978\t 7.349882113053805\t 2.5869109721175962\t 3.070133694897754\n",
            "\u001b[1m\u001b[92m4\u001b[0m\t \u001b[1m\u001b[92m[0.53602364 1.34185879]\u001b[0m\t \u001b[1m\u001b[92m2.0879063532673254\u001b[0m\t \u001b[1m\u001b[92m2.0879063532673254\u001b[0m\t \u001b[1m\u001b[92m2.828059024255136\u001b[0m\t \u001b[1m\u001b[92m3.404730094934613\u001b[0m\n",
            "5  \t [ 4.2514357 -5.12     ]\t 44.28910548315764\t 2.0879063532673254\t 3.1522692903281504\t 3.4467226588651085\n",
            "6  \t [-5.12        3.44023444]\t 38.049613014731825\t 2.0879063532673254\t 2.635475589272954\t 2.4081151014737596\n",
            "7  \t [-1.83580019  1.33391191]\t 5.14948331558221\t 2.0879063532673254\t 2.591000366003412\t 2.360713783787717\n",
            "8  \t [ 1.54671778 -0.79553106]\t 3.02520557652716\t 2.0879063532673254\t 2.778258621013294\t 2.1671984204754215\n",
            "9  \t [2.86042537 1.6215135 ]\t 10.811339314602167\t 2.0879063532673254\t 3.2688586472293677\t 3.019980645514449\n",
            "10 \t [0.54562486 3.68959101]\t 13.910788279887978\t 2.0879063532673254\t 2.9674914338617016\t 2.595397160574967\n",
            "11 \t [-5.12 -5.12]\t 52.4288\t 2.0879063532673254\t 3.205022088710558\t 2.9585245620053557\n",
            "12 \t [5.12       2.13489776]\t 30.772188437250335\t 2.0879063532673254\t 2.791947993599833\t 2.8761916830894787\n",
            "13 \t [ 2.36746693 -2.59358166]\t 12.331565500343135\t 2.0879063532673254\t 2.0863983344599424\t 2.2302467921474323\n",
            "\u001b[1m\u001b[92m14\u001b[0m\t \u001b[1m\u001b[92m[-0.37372325 -0.32884431]\u001b[0m\t \u001b[1m\u001b[92m0.24780765295521007\u001b[0m\t \u001b[1m\u001b[92m0.24780765295521007\u001b[0m\t \u001b[1m\u001b[92m2.5545399745079127\u001b[0m\t \u001b[1m\u001b[92m2.310420802420421\u001b[0m\n",
            "15 \t [-0.40878274 -0.34373204]\t 0.2852550453632073\t 0.24780765295521007\t 2.8358515271206137\t 2.616051472243989\n",
            "\u001b[1m\u001b[92m16\u001b[0m\t \u001b[1m\u001b[92m[-0.35652573 -0.32341791]\u001b[0m\t \u001b[1m\u001b[92m0.2317097422851915\u001b[0m\t \u001b[1m\u001b[92m0.2317097422851915\u001b[0m\t \u001b[1m\u001b[92m2.7879758532904595\u001b[0m\t \u001b[1m\u001b[92m2.8710587503310987\u001b[0m\n",
            "17 \t [-0.87632058 -0.47972977]\t 0.9980784118532416\t 0.2317097422851915\t 2.560495316389305\t 2.6103254442588653\n",
            "\u001b[1m\u001b[92m18\u001b[0m\t \u001b[1m\u001b[92m[ 0.04612334 -0.12713081]\u001b[0m\t \u001b[1m\u001b[92m0.018289605981179746\u001b[0m\t \u001b[1m\u001b[92m0.018289605981179746\u001b[0m\t \u001b[1m\u001b[92m2.7419142520082094\u001b[0m\t \u001b[1m\u001b[92m2.7767112672015544\u001b[0m\n",
            "\u001b[1m\u001b[92m19\u001b[0m\t \u001b[1m\u001b[92m[ 0.07021365 -0.11037811]\u001b[0m\t \u001b[1m\u001b[92m0.017113282778484326\u001b[0m\t \u001b[1m\u001b[92m0.017113282778484326\u001b[0m\t \u001b[1m\u001b[92m2.739512013969287\u001b[0m\t \u001b[1m\u001b[92m3.173808068281403\u001b[0m\n",
            "20 \t [ 0.06975852 -0.11070673]\t 0.017122232450249228\t 0.017113282778484326\t 3.0320884505594874\t 3.121073353542735\n"
          ]
        }
      ],
      "source": [
        "### ESTIMATED GP EI GRADIENTS\n",
        "\n",
        "np.random.seed(run_num_9)\n",
        "surrogate_approx_9 = dGaussianProcess(cov_func, optimize=opt)\n",
        "\n",
        "approx_9 = GPGO_multi(surrogate_approx_9, Acquisition_grad(util), objfunc, param)\n",
        "approx_9.run(init_evals=n_init, max_iter=iters)\n"
      ]
    },
    {
      "cell_type": "code",
      "execution_count": 22,
      "metadata": {
        "id": "QQBR-qJPGCcp",
        "colab": {
          "base_uri": "https://localhost:8080/"
        },
        "outputId": "965aa18a-e279-46a1-9cd0-82183c50a4c4"
      },
      "outputs": [
        {
          "output_type": "stream",
          "name": "stdout",
          "text": [
            "Evaluation \t Proposed point \t  Current eval. \t  Best eval. \t        Exact EI: StdDev. x \t Approx EI: StdDev. x \n",
            "init\t [ 2.77832339 -4.90750004]\t 31.80263747150094\t 7.941821858928501\t    \t    \n",
            "init\t [1.36855793 2.54775176]\t 8.363989812138083\t 7.941821858928501\t    \t    \n",
            "init\t [-0.01528819 -2.81808235]\t 7.941821858928501\t 7.941821858928501\t    \t    \n",
            "init\t [-3.09183626  2.66783449]\t 16.67679237031191\t 7.941821858928501\t    \t    \n",
            "init\t [-3.38830503 -4.2154003 ]\t 29.25021071405309\t 7.941821858928501\t    \t    \n",
            "1  \t [ 5.12       -0.36517683]\t 26.347754113641418\t 7.941821858928501\t 3.4504826861478555\t 3.4752527477872595\n",
            "2  \t [5.12 5.12]\t 52.4288\t 7.941821858928501\t 2.7636319982068014\t 2.7675811887056105\n",
            "3  \t [-5.12       -0.59618645]\t 26.569838285867093\t 7.941821858928501\t 2.6856902926173323\t 3.204269086470844\n",
            "4  \t [-0.58314795  5.12      ]\t 26.554461526600576\t 7.941821858928501\t 3.522861808672114\t 3.4752213711110924\n",
            "5  \t [-5.12  5.12]\t 52.4288\t 7.941821858928501\t 3.074984731894881\t 3.145102212349142\n",
            "\u001b[1m\u001b[92m6\u001b[0m\t \u001b[1m\u001b[92m[-0.91598268  0.09808346]\u001b[0m\t \u001b[1m\u001b[92m0.8486446347143605\u001b[0m\t \u001b[1m\u001b[92m0.8486446347143605\u001b[0m\t \u001b[1m\u001b[92m3.5593886272913804\u001b[0m\t \u001b[1m\u001b[92m3.0086714380686796\u001b[0m\n",
            "7  \t [ 1.72078319 -0.47271319]\t 3.184552541926712\t 0.8486446347143605\t 2.9565552420963574\t 3.169543775360245\n",
            "8  \t [-2.00010273 -0.84643832]\t 4.71686874696191\t 0.8486446347143605\t 2.943828327008144\t 3.144420806043188\n",
            "9  \t [ 5.12       -3.33957659]\t 37.36717177114444\t 0.8486446347143605\t 3.318515556359224\t 3.266795295269142\n",
            "10 \t [-0.44992437 -5.12      ]\t 26.416831938322407\t 0.8486446347143605\t 3.189428256690856\t 3.1290617473028592\n",
            "11 \t [-0.55438853  0.98059317]\t 1.2689096009822145\t 0.8486446347143605\t 2.6108075441292202\t 2.644689804337911\n",
            "12 \t [3.82641771 2.20906754]\t 19.521451839904813\t 0.8486446347143605\t 3.158330119023181\t 3.0999184112133955\n",
            "13 \t [2.13829091 5.12      ]\t 30.7866880312732\t 0.8486446347143605\t 2.853267172473422\t 2.8395607291040355\n",
            "\u001b[1m\u001b[92m14\u001b[0m\t \u001b[1m\u001b[92m[0.00044191 0.08080347]\u001b[0m\t \u001b[1m\u001b[92m0.006529395462207419\u001b[0m\t \u001b[1m\u001b[92m0.006529395462207419\u001b[0m\t \u001b[1m\u001b[92m2.7882718133122677\u001b[0m\t \u001b[1m\u001b[92m2.875608177758785\u001b[0m\n",
            "\u001b[1m\u001b[92m15\u001b[0m\t \u001b[1m\u001b[92m[0.04399767 0.0266631 ]\u001b[0m\t \u001b[1m\u001b[92m0.0026467157950775116\u001b[0m\t \u001b[1m\u001b[92m0.0026467157950775116\u001b[0m\t \u001b[1m\u001b[92m3.070050136027174\u001b[0m\t \u001b[1m\u001b[92m2.724329911526726\u001b[0m\n",
            "16 \t [0.04180305 0.03017897]\t 0.0026582657169468126\t 0.0026467157950775116\t 2.821756592877122\t 3.1422286744801355\n",
            "17 \t [0.04062886 0.03200662]\t 0.002675128104040481\t 0.0026467157950775116\t 2.7023740127536264\t 2.8311439371972336\n",
            "18 \t [0.03994147 0.03305217]\t 0.0026877673594827268\t 0.0026467157950775116\t 2.8250965310078096\t 2.5569809510946926\n",
            "19 \t [0.03949649 0.03371801]\t 0.002696876826193381\t 0.0026467157950775116\t 2.269442291886444\t 1.8913666570926044\n",
            "20 \t [0.03918804 0.03417488]\t 0.002703624803986061\t 0.0026467157950775116\t 3.1775249726157453\t 3.0796521247077395\n"
          ]
        }
      ],
      "source": [
        "### ESTIMATED GP EI GRADIENTS\n",
        "\n",
        "np.random.seed(run_num_10)\n",
        "surrogate_approx_10 = dGaussianProcess(cov_func, optimize=opt)\n",
        "\n",
        "approx_10 = GPGO_multi(surrogate_approx_10, Acquisition_grad(util), objfunc, param)\n",
        "approx_10.run(init_evals=n_init, max_iter=iters)\n"
      ]
    },
    {
      "cell_type": "code",
      "execution_count": 23,
      "metadata": {
        "id": "JS8ejeQ2GCfi",
        "colab": {
          "base_uri": "https://localhost:8080/"
        },
        "outputId": "8d3e3c50-e3be-4e28-b684-6e0f2b1a60b5"
      },
      "outputs": [
        {
          "output_type": "stream",
          "name": "stdout",
          "text": [
            "Evaluation \t Proposed point \t  Current eval. \t  Best eval. \t        Exact EI: StdDev. x \t Approx EI: StdDev. x \n",
            "init\t [-3.27403839 -4.92057353]\t 34.93137118861299\t 0.6899456214148796\t    \t    \n",
            "init\t [-0.37664229  2.30332343]\t 5.447158259491397\t 0.6899456214148796\t    \t    \n",
            "init\t [-0.81711509 -0.14922651]\t 0.6899456214148796\t 0.6899456214148796\t    \t    \n",
            "init\t [-4.98912446 -0.12931474]\t 24.908085165573997\t 0.6899456214148796\t    \t    \n",
            "init\t [4.52410012 3.59214172]\t 33.37096399795931\t 0.6899456214148796\t    \t    \n",
            "1  \t [ 3.03550212 -4.46785095]\t 29.17596522689979\t 0.6899456214148796\t 2.7729845617185123\t 3.810016795891542\n",
            "2  \t [-5.12  5.12]\t 52.4288\t 0.6899456214148796\t 2.1983717287658138\t 3.0708832173445963\n",
            "3  \t [ 5.12       -0.71940695]\t 26.731946353325895\t 0.6899456214148796\t 3.0824493055800946\t 3.2100196080933387\n",
            "4  \t [0.92473097 5.12      ]\t 27.06952737499057\t 0.6899456214148796\t 2.4297314147840954\t 2.341348972589362\n",
            "5  \t [-0.19961111 -2.46512035]\t 6.1166629526971885\t 0.6899456214148796\t 2.515330986825443\t 2.200595374855395\n",
            "6  \t [1.75668299 0.19079158]\t 3.1223365719044116\t 0.6899456214148796\t 2.705501191742525\t 2.6768163316222187\n",
            "7  \t [-2.93752431  2.40749063]\t 14.42506021324585\t 0.6899456214148796\t 3.123037630441385\t 3.133977322882482\n",
            "8  \t [-0.04576661 -5.12      ]\t 26.216494582627426\t 0.6899456214148796\t 2.8498328781539324\t 2.778283019712951\n",
            "9  \t [-2.12719155 -1.0257756 ]\t 5.577159479856163\t 0.6899456214148796\t 2.9978577747353183\t 2.830855539346531\n",
            "10 \t [-1.94710573  5.12      ]\t 30.005620706533517\t 0.6899456214148796\t 2.7962042816749038\t 3.240240884192274\n",
            "11 \t [-5.12       -2.87162572]\t 34.46063425284538\t 0.6899456214148796\t 3.250287617002896\t 3.0666313801832965\n",
            "12 \t [ 2.09237999 -1.63212485]\t 7.041885521620515\t 0.6899456214148796\t 2.82018885745278\t 2.8173789092106043\n",
            "13 \t [1.9898445  1.95822962]\t 7.794144369190272\t 0.6899456214148796\t 2.8554514973064817\t 2.863386713035881\n",
            "\u001b[1m\u001b[92m14\u001b[0m\t \u001b[1m\u001b[92m[-0.16858435  0.09773916]\u001b[0m\t \u001b[1m\u001b[92m0.037973624422503474\u001b[0m\t \u001b[1m\u001b[92m0.037973624422503474\u001b[0m\t \u001b[1m\u001b[92m3.0523230284062497\u001b[0m\t \u001b[1m\u001b[92m2.8085690402197123\u001b[0m\n",
            "\u001b[1m\u001b[92m15\u001b[0m\t \u001b[1m\u001b[92m[-0.14572406  0.09857721]\u001b[0m\t \u001b[1m\u001b[92m0.030952967277075437\u001b[0m\t \u001b[1m\u001b[92m0.030952967277075437\u001b[0m\t \u001b[1m\u001b[92m2.9295604320734965\u001b[0m\t \u001b[1m\u001b[92m2.980076716742388\u001b[0m\n",
            "16 \t [-0.15179539  0.09860246]\t 0.032764285155212625\t 0.030952967277075437\t 3.179412249699989\t 3.384626720663024\n",
            "17 \t [-0.15541107  0.09858453]\t 0.03387150861005154\t 0.030952967277075437\t 2.1253688599362093\t 2.608938567530394\n",
            "18 \t [-0.15772071  0.09855045]\t 0.034588011944772\t 0.030952967277075437\t 2.915934472128614\t 2.815439527812252\n",
            "19 \t [-0.1593151   0.09851067]\t 0.03508565133469396\t 0.030952967277075437\t 2.6806652722889934\t 2.6812031193499437\n",
            "20 \t [-0.16047756  0.09847085]\t 0.035449555526665476\t 0.030952967277075437\t 2.9770983687442216\t 2.910769334674929\n"
          ]
        }
      ],
      "source": [
        "### ESTIMATED GP EI GRADIENTS\n",
        "\n",
        "np.random.seed(run_num_11)\n",
        "surrogate_approx_11 = dGaussianProcess(cov_func, optimize=opt)\n",
        "\n",
        "approx_11 = GPGO_multi(surrogate_approx_11, Acquisition_grad(util), objfunc, param)\n",
        "approx_11.run(init_evals=n_init, max_iter=iters)\n"
      ]
    },
    {
      "cell_type": "code",
      "execution_count": 24,
      "metadata": {
        "id": "DXwjUVZ4GCii",
        "colab": {
          "base_uri": "https://localhost:8080/"
        },
        "outputId": "de8cd9b0-515d-49db-f51a-c9bb8fc2442b"
      },
      "outputs": [
        {
          "output_type": "stream",
          "name": "stdout",
          "text": [
            "Evaluation \t Proposed point \t  Current eval. \t  Best eval. \t        Exact EI: StdDev. x \t Approx EI: StdDev. x \n",
            "init\t [-3.54137249  2.45810889]\t 18.583618467979093\t 5.993464196233534\t    \t    \n",
            "init\t [-2.42365424  0.34549139]\t 5.993464196233534\t 5.993464196233534\t    \t    \n",
            "init\t [-4.97075238  4.28796936]\t 43.09506052206225\t 5.993464196233534\t    \t    \n",
            "init\t [ 4.10332011 -4.77776458]\t 39.66427028607538\t 5.993464196233534\t    \t    \n",
            "init\t [ 4.6791612  -3.71497655]\t 35.6956003298903\t 5.993464196233534\t    \t    \n",
            "1  \t [5.12 5.12]\t 52.4288\t 5.993464196233534\t 3.706152958826067\t 3.6472542000496966\n",
            "2  \t [-4.15109266 -5.12      ]\t 43.44597023451905\t 5.993464196233534\t 3.438400424218876\t 2.9444390796327147\n",
            "\u001b[1m\u001b[92m3\u001b[0m\t \u001b[1m\u001b[92m[2.28117334 0.77905251]\u001b[0m\t \u001b[1m\u001b[92m5.810674613708926\u001b[0m\t \u001b[1m\u001b[92m5.810674613708926\u001b[0m\t \u001b[1m\u001b[92m3.0059134421146076\u001b[0m\t \u001b[1m\u001b[92m2.8304467648272498\u001b[0m\n",
            "4  \t [0.22734929 5.12      ]\t 26.266087701518654\t 5.810674613708926\t 3.0119284678553027\t 2.94406937378656\n",
            "5  \t [-0.05693962 -3.03366024]\t 9.206336598212415\t 5.810674613708926\t 2.732113782833579\t 2.826716142118898\n",
            "6  \t [-5.12       -1.31886451]\t 27.953803608116285\t 5.810674613708926\t 3.111300812971076\t 3.1702876703308123\n",
            "7  \t [5.12       0.16037262]\t 26.240119376450956\t 5.810674613708926\t 2.6769857380671893\t 2.9206259785438364\n",
            "\u001b[1m\u001b[92m8\u001b[0m\t \u001b[1m\u001b[92m[-0.14506878  1.82280843]\u001b[0m\t \u001b[1m\u001b[92m3.343675535982186\u001b[0m\t \u001b[1m\u001b[92m3.343675535982186\u001b[0m\t \u001b[1m\u001b[92m2.768759076782221\u001b[0m\t \u001b[1m\u001b[92m2.6872789976291993\u001b[0m\n",
            "9  \t [ 2.17332763 -1.65199131]\t 7.45242829650125\t 3.343675535982186\t 2.7349375085987297\t 2.453096922850014\n",
            "10 \t [ 0.89767393 -5.12      ]\t 27.02021847567151\t 3.343675535982186\t 2.919689547089341\t 3.237586488543373\n",
            "11 \t [2.57755    3.07348938]\t 16.090101001596913\t 3.343675535982186\t 2.868811137922817\t 2.867258066858898\n",
            "12 \t [-2.27476555 -2.25743257]\t 10.270560097248396\t 3.343675535982186\t 2.428414733651022\t 2.6755674500351807\n",
            "\u001b[1m\u001b[92m13\u001b[0m\t \u001b[1m\u001b[92m[-0.0668172  -0.29167025]\u001b[0m\t \u001b[1m\u001b[92m0.08953607500709479\u001b[0m\t \u001b[1m\u001b[92m0.08953607500709479\u001b[0m\t \u001b[1m\u001b[92m2.70824123645348\u001b[0m\t \u001b[1m\u001b[92m2.756607720060776\u001b[0m\n",
            "14 \t [-0.06676247 -0.2979064 ]\t 0.09320544890484195\t 0.08953607500709479\t 2.946901738952015\t 2.8008822937758486\n",
            "15 \t [-0.06673358 -0.29673515]\t 0.09250511745123774\t 0.08953607500709479\t 3.0790090006431936\t 3.2787734120407497\n",
            "16 \t [-0.06672395 -0.29615617]\t 0.09216056401882533\t 0.08953607500709479\t 2.96276595001587\t 2.8650301791651995\n",
            "17 \t [-0.06672113 -0.29582293]\t 0.09196291326813176\t 0.08953607500709479\t 2.6987485710377763\t 2.686838375475522\n",
            "18 \t [-0.06672035 -0.29561119]\t 0.09183758276548613\t 0.08953607500709479\t 3.1182886481695697\t 3.171977656775554\n",
            "19 \t [-0.06672201 -0.29546721]\t 0.09175269955093052\t 0.08953607500709479\t 2.926301831993396\t 3.0546329433676362\n",
            "20 \t [-0.06672302 -0.29536516]\t 0.0916925424634907\t 0.08953607500709479\t 2.8713754111998724\t 2.75595962341889\n"
          ]
        }
      ],
      "source": [
        "### ESTIMATED GP EI GRADIENTS\n",
        "\n",
        "np.random.seed(run_num_12)\n",
        "surrogate_approx_12 = dGaussianProcess(cov_func, optimize=opt)\n",
        "\n",
        "approx_12 = GPGO_multi(surrogate_approx_12, Acquisition_grad(util), objfunc, param)\n",
        "approx_12.run(init_evals=n_init, max_iter=iters)\n"
      ]
    },
    {
      "cell_type": "code",
      "execution_count": 25,
      "metadata": {
        "id": "CphOPndPGClX",
        "colab": {
          "base_uri": "https://localhost:8080/"
        },
        "outputId": "9f8ee67d-1b7c-4a58-84c3-3a989d5fbca1"
      },
      "outputs": [
        {
          "output_type": "stream",
          "name": "stdout",
          "text": [
            "Evaluation \t Proposed point \t  Current eval. \t  Best eval. \t        Exact EI: StdDev. x \t Approx EI: StdDev. x \n",
            "init\t [ 2.84367268 -2.68757791]\t 15.30954934064491\t 7.271500601275535\t    \t    \n",
            "init\t [3.32061217 4.76927179]\t 33.772418600555795\t 7.271500601275535\t    \t    \n",
            "init\t [ 4.83943541 -0.47667971]\t 23.647358595121606\t 7.271500601275535\t    \t    \n",
            "init\t [1.11659482 2.82139151]\t 9.20703403927425\t 7.271500601275535\t    \t    \n",
            "init\t [1.45012065 2.27346667]\t 7.271500601275535\t 7.271500601275535\t    \t    \n",
            "1  \t [-4.10876704 -2.60547476]\t 23.670465283396044\t 7.271500601275535\t 2.7101692684657377\t 3.110616125154259\n",
            "2  \t [-5.12       2.9827349]\t 35.111107491263496\t 7.271500601275535\t 2.931100935016147\t 3.6200598439217853\n",
            "3  \t [-0.59462664 -5.12      ]\t 26.567980840484395\t 7.271500601275535\t 2.7476326650632656\t 3.0643012715806774\n",
            "4  \t [-1.67014801  5.12      ]\t 29.003794380347195\t 7.271500601275535\t 2.6142745463711936\t 2.84836943579914\n",
            "\u001b[1m\u001b[92m5\u001b[0m\t \u001b[1m\u001b[92m[-0.68837786 -0.62671511]\u001b[0m\t \u001b[1m\u001b[92m0.8666359153539505\u001b[0m\t \u001b[1m\u001b[92m0.8666359153539505\u001b[0m\t \u001b[1m\u001b[92m3.363064302554335\u001b[0m\t \u001b[1m\u001b[92m3.690491957227035\u001b[0m\n",
            "6  \t [ 5.12 -5.12]\t 52.4288\t 0.8666359153539505\t 2.5462629721959247\t 2.8595688588451766\n",
            "7  \t [-2.04987097  1.08287186]\t 5.374582434018441\t 0.8666359153539505\t 3.0804929150450855\t 2.9635652655756197\n",
            "8  \t [ 0.8809112  -0.40754496]\t 0.9420974317630431\t 0.8666359153539505\t 2.9775379313492407\t 3.2900847005279856\n",
            "9  \t [-0.64451526 -1.94442319]\t 4.196181443035703\t 0.8666359153539505\t 2.6722537167097316\t 2.9638613557001032\n",
            "10 \t [-5.12 -5.12]\t 52.4288\t 0.8666359153539505\t 3.139922671105851\t 3.117196703296626\n",
            "11 \t [5.12      2.4188501]\t 32.06523581590598\t 0.8666359153539505\t 2.9613149462142485\t 3.3292588086137496\n",
            "12 \t [-5.12       -0.00780716]\t 26.214460951740623\t 0.8666359153539505\t 2.9321671332360197\t 2.769943967410151\n",
            "13 \t [1.76349858 0.00689676]\t 3.1099748242234613\t 0.8666359153539505\t 2.9126121293600193\t 3.0384792384551442\n",
            "\u001b[1m\u001b[92m14\u001b[0m\t \u001b[1m\u001b[92m[-0.1023643   0.15135503]\u001b[0m\t \u001b[1m\u001b[92m0.03338679343037275\u001b[0m\t \u001b[1m\u001b[92m0.03338679343037275\u001b[0m\t \u001b[1m\u001b[92m2.4331905943913332\u001b[0m\t \u001b[1m\u001b[92m2.283054996824134\u001b[0m\n",
            "15 \t [-0.1063041   0.19896532]\t 0.050887758547833936\t 0.03338679343037275\t 2.8083816850838366\t 2.696775371812873\n",
            "16 \t [-0.10537069  0.18802802]\t 0.046457518514890925\t 0.03338679343037275\t 2.5236471516931966\t 2.2942811672349177\n",
            "17 \t [-0.10489335  0.18244014]\t 0.044287019525976315\t 0.03338679343037275\t 3.4479258534940436\t 3.3372404668265108\n",
            "18 \t [-0.10460992  0.17911192]\t 0.043024316909313194\t 0.03338679343037275\t 2.221676450851099\t 2.2206851252329742\n",
            "19 \t [-0.10442565  0.17693115]\t 0.042209347443263844\t 0.03338679343037275\t 3.0226445698022757\t 2.7315058498921787\n",
            "20 \t [-0.10429804  0.17540514]\t 0.04164504393157259\t 0.03338679343037275\t 3.1573212717501207\t 2.998532875961657\n"
          ]
        }
      ],
      "source": [
        "### ESTIMATED GP EI GRADIENTS\n",
        "\n",
        "np.random.seed(run_num_13)\n",
        "surrogate_approx_13 = dGaussianProcess(cov_func, optimize=opt)\n",
        "\n",
        "approx_13 = GPGO_multi(surrogate_approx_13, Acquisition_grad(util), objfunc, param)\n",
        "approx_13.run(init_evals=n_init, max_iter=iters)\n"
      ]
    },
    {
      "cell_type": "code",
      "execution_count": 26,
      "metadata": {
        "id": "ojHTeARNGCoi",
        "colab": {
          "base_uri": "https://localhost:8080/"
        },
        "outputId": "c7154686-fe24-470e-d4b3-6846bc8acc6f"
      },
      "outputs": [
        {
          "output_type": "stream",
          "name": "stdout",
          "text": [
            "Evaluation \t Proposed point \t  Current eval. \t  Best eval. \t        Exact EI: StdDev. x \t Approx EI: StdDev. x \n",
            "init\t [0.14277984 2.79721013]\t 7.844770612568215\t 3.480496204392171\t    \t    \n",
            "init\t [ 3.7931795  -5.03759925]\t 39.765616906968944\t 3.480496204392171\t    \t    \n",
            "init\t [-1.94830412  4.68586229]\t 25.753194366239512\t 3.480496204392171\t    \t    \n",
            "init\t [ 0.13431513 -1.86076749]\t 3.480496204392171\t 3.480496204392171\t    \t    \n",
            "init\t [ 0.40140736 -2.85434939]\t 8.308438305616814\t 3.480496204392171\t    \t    \n",
            "1  \t [-5.12 -5.12]\t 52.4288\t 3.480496204392171\t 3.8433556444900305\t 3.852404541346902\n",
            "2  \t [5.10055263 5.12      ]\t 52.23003717223822\t 3.480496204392171\t 3.8678464369459515\t 3.915316104665697\n",
            "3  \t [-5.12        0.39374029]\t 26.369431412772123\t 3.480496204392171\t 2.7989493528006206\t 3.7190073525325227\n",
            "4  \t [ 5.12       -0.07494469]\t 26.220016706989426\t 3.480496204392171\t 2.9346426632870486\t 3.392718624930514\n",
            "\u001b[1m\u001b[92m5\u001b[0m\t \u001b[1m\u001b[92m[-1.58751435  0.05051817]\u001b[0m\t \u001b[1m\u001b[92m2.522753899086134\u001b[0m\t \u001b[1m\u001b[92m2.522753899086134\u001b[0m\t \u001b[1m\u001b[92m2.743520105378163\u001b[0m\t \u001b[1m\u001b[92m2.3615850712258863\u001b[0m\n",
            "6  \t [-5.12  5.12]\t 52.4288\t 2.522753899086134\t 2.569082348700661\t 2.6415897831478206\n",
            "7  \t [-1.42886808 -5.12      ]\t 28.256063986638797\t 2.522753899086134\t 2.702341797087105\t 2.3437044857597473\n",
            "8  \t [1.70992485 0.19988861]\t 2.963798439515395\t 2.522753899086134\t 3.0268897178111485\t 2.9733386746665404\n",
            "9  \t [1.60530325 5.12      ]\t 28.791398523055747\t 2.522753899086134\t 3.0242983359837226\t 2.933313498159421\n",
            "10 \t [-2.97260362 -2.1210435 ]\t 13.335197817082866\t 2.522753899086134\t 2.588703022931473\t 2.5165434740796715\n",
            "11 \t [3.07380962 2.24169669]\t 14.473509641135783\t 2.522753899086134\t 2.966576842834153\t 2.854462188037885\n",
            "12 \t [ 2.8023655  -1.94412845]\t 11.632887851048038\t 2.522753899086134\t 2.6918043221418326\t 2.5443444748897672\n",
            "13 \t [-2.46676294  1.75590798]\t 9.168132253894985\t 2.522753899086134\t 2.6398441375318695\t 2.819091989940318\n",
            "\u001b[1m\u001b[92m14\u001b[0m\t \u001b[1m\u001b[92m[-0.03970188  0.0327016 ]\u001b[0m\t \u001b[1m\u001b[92m0.002645633757908217\u001b[0m\t \u001b[1m\u001b[92m0.002645633757908217\u001b[0m\t \u001b[1m\u001b[92m2.8228997499689443\u001b[0m\t \u001b[1m\u001b[92m2.6554078153019\u001b[0m\n",
            "15 \t [-0.02173997  0.0548802 ]\t 0.0034844625931429976\t 0.002645633757908217\t 2.7837946299610854\t 3.035729035371383\n",
            "16 \t [-0.02367093  0.05169274]\t 0.0032324516200673073\t 0.002645633757908217\t 2.872185013617175\t 3.013778291070642\n",
            "17 \t [-0.02465802  0.05013696]\t 0.003121732482527384\t 0.002645633757908217\t 3.026146112241977\t 2.9577275824037805\n",
            "18 \t [-0.02524479  0.04924961]\t 0.0030628233166508437\t 0.002645633757908217\t 2.268889866648791\t 2.3198847407120864\n",
            "19 \t [-0.02562554  0.04869052]\t 0.003027435279880125\t 0.002645633757908217\t 2.8881089443853463\t 2.691631331432944\n",
            "20 \t [-0.02589093  0.04831285]\t 0.0030044722243782133\t 0.002645633757908217\t 2.65304965301476\t 2.609501229219359\n"
          ]
        }
      ],
      "source": [
        "### ESTIMATED GP EI GRADIENTS\n",
        "\n",
        "np.random.seed(run_num_14)\n",
        "surrogate_approx_14 = dGaussianProcess(cov_func, optimize=opt)\n",
        "\n",
        "approx_14 = GPGO_multi(surrogate_approx_14, Acquisition_grad(util), objfunc, param)\n",
        "approx_14.run(init_evals=n_init, max_iter=iters)\n"
      ]
    },
    {
      "cell_type": "code",
      "execution_count": 27,
      "metadata": {
        "id": "vCJzn4vWGCs3",
        "colab": {
          "base_uri": "https://localhost:8080/"
        },
        "outputId": "6196146c-cf52-420b-835e-ec8cc580776b"
      },
      "outputs": [
        {
          "output_type": "stream",
          "name": "stdout",
          "text": [
            "Evaluation \t Proposed point \t  Current eval. \t  Best eval. \t        Exact EI: StdDev. x \t Approx EI: StdDev. x \n",
            "init\t [ 3.57189322 -3.28810573]\t 23.57006045912445\t 5.383887924980681\t    \t    \n",
            "init\t [-4.56332069 -1.41784631]\t 22.834183843344235\t 5.383887924980681\t    \t    \n",
            "init\t [-2.29989449  0.3072023 ]\t 5.383887924980681\t 5.383887924980681\t    \t    \n",
            "init\t [-1.9873903  -2.00218256]\t 7.958455228543059\t 5.383887924980681\t    \t    \n",
            "init\t [-3.97576933 -2.5610341 ]\t 22.365637431409507\t 5.383887924980681\t    \t    \n",
            "1  \t [2.7754098  2.98802689]\t 16.631204280641075\t 5.383887924980681\t 3.7202584499501694\t 3.743810332372512\n",
            "2  \t [-5.12        4.81945146]\t 49.44151236323329\t 5.383887924980681\t 2.8709949477906447\t 3.8047782957328504\n",
            "3  \t [-0.72303187  5.12      ]\t 26.737175089392025\t 5.383887924980681\t 3.478684658204854\t 3.754920916255959\n",
            "4  \t [-0.11962742 -5.12      ]\t 26.22871072080369\t 5.383887924980681\t 2.6147596865516864\t 2.9939259244781904\n",
            "5  \t [5.12       0.18688128]\t 26.249324613482322\t 5.383887924980681\t 3.538065402136687\t 3.572297418875903\n",
            "\u001b[1m\u001b[92m6\u001b[0m\t \u001b[1m\u001b[92m[ 1.08677268 -0.33543745]\u001b[0m\t \u001b[1m\u001b[92m1.2935931367517852\u001b[0m\t \u001b[1m\u001b[92m1.2935931367517852\u001b[0m\t \u001b[1m\u001b[92m3.4650796130949693\u001b[0m\t \u001b[1m\u001b[92m3.5358582489248964\u001b[0m\n",
            "7  \t [5.12 5.12]\t 52.4288\t 1.2935931367517852\t 3.348024333813786\t 3.1807120654581067\n",
            "8  \t [-5.12 -5.12]\t 52.4288\t 1.2935931367517852\t 3.3879569570042674\t 3.4313549956737526\n",
            "9  \t [-0.12809632  1.7439734 ]\t 3.0578518934716086\t 1.2935931367517852\t 2.4861102814147777\t 2.4316569981053284\n",
            "10 \t [-5.12       1.5179019]\t 28.518426192436543\t 1.2935931367517852\t 2.9077055083489327\t 3.0615260380614933\n",
            "11 \t [ 0.70627672 -1.91790391]\t 4.177182216898014\t 1.2935931367517852\t 2.4723707605976557\t 2.6827832692619844\n",
            "12 \t [2.0795642 0.1098855]\t 4.3366620689525845\t 1.2935931367517852\t 2.397868223728248\t 2.751845354392458\n",
            "13 \t [-2.29225479  2.67892027]\t 12.43104583315893\t 1.2935931367517852\t 3.1992263336716347\t 3.051312797161076\n",
            "14 \t [ 5.12 -5.12]\t 52.4288\t 1.2935931367517852\t 2.7794957362237707\t 3.420265098110412\n",
            "\u001b[1m\u001b[92m15\u001b[0m\t \u001b[1m\u001b[92m[-0.0776459  -0.03599892]\u001b[0m\t \u001b[1m\u001b[92m0.007324808430464815\u001b[0m\t \u001b[1m\u001b[92m0.007324808430464815\u001b[0m\t \u001b[1m\u001b[92m2.0274490856630667\u001b[0m\t \u001b[1m\u001b[92m2.3656437928724947\u001b[0m\n",
            "16 \t [-0.11209044 -0.04217623]\t 0.014343101094115953\t 0.007324808430464815\t 3.121513784040036\t 3.0481965517171967\n",
            "17 \t [-0.1089816  -0.04137163]\t 0.01358860039665269\t 0.007324808430464815\t 2.468576837308748\t 2.476472949736341\n",
            "18 \t [-0.10740106 -0.04097948]\t 0.013214304159044309\t 0.007324808430464815\t 2.950347086603126\t 2.9373114486326317\n",
            "19 \t [-0.10645865 -0.04075337]\t 0.01299428162452221\t 0.007324808430464815\t 2.985963405343054\t 3.071823142840805\n",
            "20 \t [-0.10583822 -0.04060878]\t 0.012850801327606798\t 0.007324808430464815\t 2.588644437340744\t 2.7345283966259477\n"
          ]
        }
      ],
      "source": [
        "### ESTIMATED GP EI GRADIENTS\n",
        "\n",
        "np.random.seed(run_num_15)\n",
        "surrogate_approx_15 = dGaussianProcess(cov_func, optimize=opt)\n",
        "\n",
        "approx_15 = GPGO_multi(surrogate_approx_15, Acquisition_grad(util), objfunc, param)\n",
        "approx_15.run(init_evals=n_init, max_iter=iters)\n"
      ]
    },
    {
      "cell_type": "code",
      "execution_count": 28,
      "metadata": {
        "id": "bGGkhp-kGCw6",
        "colab": {
          "base_uri": "https://localhost:8080/"
        },
        "outputId": "1fd53211-3661-4672-9174-8a09bc1e0945"
      },
      "outputs": [
        {
          "output_type": "stream",
          "name": "stdout",
          "text": [
            "Evaluation \t Proposed point \t  Current eval. \t  Best eval. \t        Exact EI: StdDev. x \t Approx EI: StdDev. x \n",
            "init\t [-2.83349935  0.23719262]\t 8.084978900492077\t 8.084978900492077\t    \t    \n",
            "init\t [ 0.51918292 -4.65303603]\t 21.92029520206884\t 8.084978900492077\t    \t    \n",
            "init\t [-1.42613673 -2.83565116]\t 10.074783446012654\t 8.084978900492077\t    \t    \n",
            "init\t [ 1.9325559  -3.44339021]\t 15.591708419712269\t 8.084978900492077\t    \t    \n",
            "init\t [-4.39987336  4.51595121]\t 39.75270093978162\t 8.084978900492077\t    \t    \n",
            "1  \t [2.23926683 5.12      ]\t 31.228715941011302\t 8.084978900492077\t 3.825356591194429\t 3.915577822285509\n",
            "2  \t [5.12       0.62055316]\t 26.599486219627295\t 8.084978900492077\t 3.485648947589726\t 3.32981418622173\n",
            "3  \t [-5.12 -5.12]\t 52.4288\t 8.084978900492077\t 3.5899819781716205\t 3.591838501483629\n",
            "\u001b[1m\u001b[92m4\u001b[0m\t \u001b[1m\u001b[92m[0.93966402 0.94350446]\u001b[0m\t \u001b[1m\u001b[92m1.7731691309347872\u001b[0m\t \u001b[1m\u001b[92m1.7731691309347872\u001b[0m\t \u001b[1m\u001b[92m2.6366034681036536\u001b[0m\t \u001b[1m\u001b[92m2.984853105289506\u001b[0m\n",
            "5  \t [ 5.12 -5.12]\t 52.4288\t 1.7731691309347872\t 3.095685031717021\t 3.2572075381239984\n",
            "6  \t [-0.90068289  3.16225133]\t 10.811063123823379\t 1.7731691309347872\t 3.4566071937382987\t 3.5175181054527656\n",
            "7  \t [-5.12       -1.45531059]\t 28.33232890624392\t 1.7731691309347872\t 2.8120695513008496\t 2.7129980857440037\n",
            "8  \t [5.12       4.00310296]\t 42.2392332922397\t 1.7731691309347872\t 2.6720777254881596\t 2.7954878562371532\n",
            "9  \t [ 2.05928141 -0.5476287 ]\t 4.540537138472169\t 1.7731691309347872\t 2.848114099464558\t 2.965479020662747\n",
            "10 \t [-5.12        1.57247467]\t 28.687076592293582\t 1.7731691309347872\t 2.97724320566382\t 3.4333592329302722\n",
            "11 \t [2.17714297 2.01684981]\t 8.807634668585433\t 1.7731691309347872\t 3.0128011282833103\t 2.99382550171789\n",
            "\u001b[1m\u001b[92m12\u001b[0m\t \u001b[1m\u001b[92m[-0.26641277 -0.0648969 ]\u001b[0m\t \u001b[1m\u001b[92m0.07518737046147893\u001b[0m\t \u001b[1m\u001b[92m0.07518737046147893\u001b[0m\t \u001b[1m\u001b[92m3.05599971637109\u001b[0m\t \u001b[1m\u001b[92m3.368045982646699\u001b[0m\n",
            "13 \t [-0.27279134 -0.11391445]\t 0.08739161723990793\t 0.07518737046147893\t 2.452984836110532\t 2.695662350733889\n",
            "14 \t [-0.28141353  0.02383483]\t 0.07976167243537291\t 0.07518737046147893\t 2.4763797451396976\t 2.490579717004248\n",
            "15 \t [-0.23977749 -0.2864452 ]\t 0.13954409642076693\t 0.07518737046147893\t 2.651205869749649\t 2.906914386331621\n",
            "16 \t [-0.29926973  0.23851888]\t 0.1464536262133534\t 0.07518737046147893\t 2.5978484444477905\t 2.944531950953139\n",
            "17 \t [-0.24528478 -0.24170373]\t 0.11858531851177273\t 0.07518737046147893\t 3.041564259514028\t 3.216623030957565\n",
            "18 \t [-0.28083701  0.10585157]\t 0.09007397820564882\t 0.07518737046147893\t 2.5838116322970315\t 2.82284546408568\n",
            "19 \t [-0.25884544 -0.12852832]\t 0.08352049044857769\t 0.07518737046147893\t 2.6431847830303874\t 2.8443706044668664\n",
            "20 \t [-0.2734378   0.03813028]\t 0.07622214586346567\t 0.07518737046147893\t 2.8994787596000178\t 2.999498907194499\n"
          ]
        }
      ],
      "source": [
        "### ESTIMATED GP EI GRADIENTS\n",
        "\n",
        "np.random.seed(run_num_16)\n",
        "surrogate_approx_16 = dGaussianProcess(cov_func, optimize=opt)\n",
        "\n",
        "approx_16 = GPGO_multi(surrogate_approx_16, Acquisition_grad(util), objfunc, param)\n",
        "approx_16.run(init_evals=n_init, max_iter=iters)\n"
      ]
    },
    {
      "cell_type": "code",
      "execution_count": 29,
      "metadata": {
        "id": "Yrs2mp7hGC1Z",
        "colab": {
          "base_uri": "https://localhost:8080/"
        },
        "outputId": "94e2df12-bbf7-4cb7-d244-4505005ab1c3"
      },
      "outputs": [
        {
          "output_type": "stream",
          "name": "stdout",
          "text": [
            "Evaluation \t Proposed point \t  Current eval. \t  Best eval. \t        Exact EI: StdDev. x \t Approx EI: StdDev. x \n",
            "init\t [-2.10263037  0.31320838]\t 4.519153970964611\t 2.5824114132885994\t    \t    \n",
            "init\t [-3.15882714 -4.42470033]\t 29.556161939946307\t 2.5824114132885994\t    \t    \n",
            "init\t [2.93873111 1.60085526]\t 11.198878112253603\t 2.5824114132885994\t    \t    \n",
            "init\t [1.40821398 0.77417363]\t 2.5824114132885994\t 2.5824114132885994\t    \t    \n",
            "init\t [-4.71999574 -1.45598869]\t 24.39826283453718\t 2.5824114132885994\t    \t    \n",
            "1  \t [ 4.96008736 -4.44720822]\t 44.38012757656366\t 2.5824114132885994\t 3.2236213682158397\t 4.367448507407332\n",
            "2  \t [-4.96030997  4.71854675]\t 46.869358421617264\t 2.5824114132885994\t 3.242166428714759\t 3.3817932354927467\n",
            "3  \t [0.0054658 5.12     ]\t 26.214429874925216\t 2.5824114132885994\t 3.393920559710505\t 3.334986616970336\n",
            "4  \t [5.12 5.12]\t 52.4288\t 2.5824114132885994\t 3.542928785560498\t 3.6222301594536215\n",
            "5  \t [ 0.85280561 -2.81524164]\t 8.652862906314947\t 2.5824114132885994\t 2.700243213306545\t 2.77911371790904\n",
            "6  \t [ 5.12       -0.72468489]\t 26.739568194706226\t 2.5824114132885994\t 2.4668535416632396\t 2.805599928073353\n",
            "7  \t [-2.13106049  2.71978885]\t 11.938670209081865\t 2.5824114132885994\t 2.7131758432165616\t 2.6497193764205145\n",
            "8  \t [ 0.13170334 -5.12      ]\t 26.231745770034383\t 2.5824114132885994\t 3.111856708056132\t 3.167412409152789\n",
            "9  \t [-5.12        1.48933378]\t 28.43251510563614\t 2.5824114132885994\t 3.336921272933262\t 3.1918673952905876\n",
            "\u001b[1m\u001b[92m10\u001b[0m\t \u001b[1m\u001b[92m[ 0.06853426 -0.30703911]\u001b[0m\t \u001b[1m\u001b[92m0.09896995952707498\u001b[0m\t \u001b[1m\u001b[92m0.09896995952707498\u001b[0m\t \u001b[1m\u001b[92m2.4288684939911747\u001b[0m\t \u001b[1m\u001b[92m2.1513706826023196\u001b[0m\n",
            "11 \t [-1.32683888 -1.65550928]\t 4.501212377442581\t 0.09896995952707498\t 3.2990173746328657\t 3.1768027597256436\n",
            "12 \t [0.07076071 0.46192211]\t 0.21837911012678785\t 0.09896995952707498\t 2.9425929512797775\t 2.8864827867170555\n",
            "13 \t [ 0.42804087 -0.16754769]\t 0.21129121325019548\t 0.09896995952707498\t 2.4964552593140437\t 2.579471696548651\n",
            "\u001b[1m\u001b[92m14\u001b[0m\t \u001b[1m\u001b[92m[0.16288859 0.18161776]\u001b[0m\t \u001b[1m\u001b[92m0.05951770541919171\u001b[0m\t \u001b[1m\u001b[92m0.05951770541919171\u001b[0m\t \u001b[1m\u001b[92m2.773117517133821\u001b[0m\t \u001b[1m\u001b[92m2.577205895211575\u001b[0m\n",
            "\u001b[1m\u001b[92m15\u001b[0m\t \u001b[1m\u001b[92m[0.21820122 0.08032936]\u001b[0m\t \u001b[1m\u001b[92m0.054064577959017285\u001b[0m\t \u001b[1m\u001b[92m0.054064577959017285\u001b[0m\t \u001b[1m\u001b[92m2.630001373511345\u001b[0m\t \u001b[1m\u001b[92m2.4888240943664517\u001b[0m\n",
            "16 \t [0.22486305 0.0689677 ]\t 0.05531993450592301\t 0.054064577959017285\t 2.6383328110999207\t 2.3280215359516285\n",
            "17 \t [0.02977684 0.70615223]\t 0.4995376380479795\t 0.054064577959017285\t 2.315704249300432\t 2.5216949260251895\n",
            "18 \t [ 0.49040883 -0.2439437 ]\t 0.3000093480416988\t 0.054064577959017285\t 2.592202185017226\t 2.7264825292811\n",
            "19 \t [ 0.29627889 -0.07203444]\t 0.09297014269214172\t 0.054064577959017285\t 2.5737491549107805\t 2.2664222335233726\n",
            "20 \t [ 0.28906759 -0.06309298]\t 0.08754079554172353\t 0.054064577959017285\t 2.9238467742773055\t 2.960727380716349\n"
          ]
        }
      ],
      "source": [
        "### ESTIMATED GP EI GRADIENTS\n",
        "\n",
        "np.random.seed(run_num_17)\n",
        "surrogate_approx_17 = dGaussianProcess(cov_func, optimize=opt)\n",
        "\n",
        "approx_17 = GPGO_multi(surrogate_approx_17, Acquisition_grad(util), objfunc, param)\n",
        "approx_17.run(init_evals=n_init, max_iter=iters)\n"
      ]
    },
    {
      "cell_type": "code",
      "execution_count": 30,
      "metadata": {
        "id": "f0HIEP3PIUEa",
        "colab": {
          "base_uri": "https://localhost:8080/"
        },
        "outputId": "e929476f-ae51-4010-a4e7-100a65c51b71"
      },
      "outputs": [
        {
          "output_type": "stream",
          "name": "stdout",
          "text": [
            "Evaluation \t Proposed point \t  Current eval. \t  Best eval. \t        Exact EI: StdDev. x \t Approx EI: StdDev. x \n",
            "init\t [1.53983224 0.05584255]\t 2.3742017032787373\t 2.3742017032787373\t    \t    \n",
            "init\t [ 3.87687906 -3.25795609]\t 25.644469161882945\t 2.3742017032787373\t    \t    \n",
            "init\t [3.60686662 2.56139557]\t 19.570234102364928\t 2.3742017032787373\t    \t    \n",
            "init\t [1.70088108 4.99604939]\t 27.853505942237412\t 2.3742017032787373\t    \t    \n",
            "init\t [-2.48864335 -4.83014733]\t 29.523668919355142\t 2.3742017032787373\t    \t    \n",
            "1  \t [-5.00718904  2.9174042 ]\t 33.58318939621877\t 2.3742017032787373\t 3.0403234456623927\t 3.7741947226024672\n",
            "2  \t [-5.12       -1.45227108]\t 28.3234912830853\t 2.3742017032787373\t 2.65089140912695\t 2.7543262690476276\n",
            "3  \t [-1.15623557  1.83903844]\t 4.7189430902825364\t 2.3742017032787373\t 3.1048502884426488\t 3.0375794703893777\n",
            "4  \t [-2.03883017  5.12      ]\t 30.371228446245972\t 2.3742017032787373\t 3.077424652726186\t 3.288782991194337\n",
            "5  \t [-0.98972163 -1.46068201]\t 3.1131408269185528\t 2.3742017032787373\t 2.97258420280842\t 2.6176862726626506\n",
            "6  \t [ 1.01444809 -5.12      ]\t 27.24350492040793\t 2.3742017032787373\t 3.2402811674868457\t 2.9233627353317377\n",
            "7  \t [ 5.12       -0.22272945]\t 26.264008406311913\t 2.3742017032787373\t 2.9567047017149966\t 3.0216069234351606\n",
            "8  \t [5.12 5.12]\t 52.4288\t 2.3742017032787373\t 2.701372699669768\t 2.9834868598097977\n",
            "9  \t [-5.12 -5.12]\t 52.4288\t 2.3742017032787373\t 2.8745438821917486\t 3.0102105365744114\n",
            "10 \t [-2.66666161  0.25971196]\t 7.178534432365206\t 2.3742017032787373\t 2.962987979487362\t 2.8982614829046702\n",
            "11 \t [ 1.0519324  -1.89789038]\t 4.708549691468258\t 2.3742017032787373\t 2.9056749612808406\t 3.0826708878652354\n",
            "12 \t [0.84300607 1.80546436]\t 3.970360799220309\t 2.3742017032787373\t 2.574950083915396\t 2.4401891152250226\n",
            "13 \t [ 5.12 -5.12]\t 52.4288\t 2.3742017032787373\t 2.6197306047401114\t 2.703606562430181\n",
            "14 \t [-2.23541228 -2.09124789]\t 9.370385817341987\t 2.3742017032787373\t 2.3859773239770674\t 2.344905182186095\n",
            "\u001b[1m\u001b[92m15\u001b[0m\t \u001b[1m\u001b[92m[-0.14547575 -0.12404587]\u001b[0m\t \u001b[1m\u001b[92m0.03655057152535015\u001b[0m\t \u001b[1m\u001b[92m0.03655057152535015\u001b[0m\t \u001b[1m\u001b[92m2.541235465130267\u001b[0m\t \u001b[1m\u001b[92m2.574330478367316\u001b[0m\n",
            "\u001b[1m\u001b[92m16\u001b[0m\t \u001b[1m\u001b[92m[-0.1516092  -0.10499808]\u001b[0m\t \u001b[1m\u001b[92m0.03400994757721426\u001b[0m\t \u001b[1m\u001b[92m0.03400994757721426\u001b[0m\t \u001b[1m\u001b[92m2.5003579336589645\u001b[0m\t \u001b[1m\u001b[92m2.5596155771848648\u001b[0m\n",
            "17 \t [-0.15153659 -0.10520155]\t 0.03403070420636447\t 0.03400994757721426\t 3.3384662727592995\t 3.07127199121785\n",
            "18 \t [-0.15150854 -0.10527846]\t 0.03403839096025093\t 0.03400994757721426\t 2.953534297987873\t 3.0640917838232706\n",
            "19 \t [-0.15149825 -0.10530761]\t 0.03404141434262491\t 0.03400994757721426\t 2.6978396435191536\t 2.635866398289774\n",
            "20 \t [-0.15149373 -0.10531897]\t 0.03404243740473694\t 0.03400994757721426\t 2.8398723598988287\t 2.7003309205110018\n"
          ]
        }
      ],
      "source": [
        "### ESTIMATED GP EI GRADIENTS\n",
        "\n",
        "np.random.seed(run_num_18)\n",
        "surrogate_approx_18 = dGaussianProcess(cov_func, optimize=opt)\n",
        "\n",
        "approx_18 = GPGO_multi(surrogate_approx_18, Acquisition_grad(util), objfunc, param)\n",
        "approx_18.run(init_evals=n_init, max_iter=iters)\n"
      ]
    },
    {
      "cell_type": "code",
      "execution_count": 31,
      "metadata": {
        "id": "S3mxRQDLIUPC",
        "colab": {
          "base_uri": "https://localhost:8080/"
        },
        "outputId": "9e27365c-d0db-46f3-9eec-07189b87184d"
      },
      "outputs": [
        {
          "output_type": "stream",
          "name": "stdout",
          "text": [
            "Evaluation \t Proposed point \t  Current eval. \t  Best eval. \t        Exact EI: StdDev. x \t Approx EI: StdDev. x \n",
            "init\t [-4.12125592  2.6751971 ]\t 24.141429859518958\t 12.957869519084127\t    \t    \n",
            "init\t [-2.59135515 -3.70553152]\t 20.446085385698954\t 12.957869519084127\t    \t    \n",
            "init\t [-1.72598719 -4.27008445]\t 21.212653034418548\t 12.957869519084127\t    \t    \n",
            "init\t [1.76104531 3.13952049]\t 12.957869519084127\t 12.957869519084127\t    \t    \n",
            "init\t [4.9432772  1.38916592]\t 26.36577149009895\t 12.957869519084127\t    \t    \n",
            "1  \t [ 4.75309484 -5.12      ]\t 48.80631052939498\t 12.957869519084127\t 3.430892484521406\t 4.65611768047596\n",
            "\u001b[1m\u001b[92m2\u001b[0m\t \u001b[1m\u001b[92m[ 1.50914555 -1.41207467]\u001b[0m\t \u001b[1m\u001b[92m4.271475151684537\u001b[0m\t \u001b[1m\u001b[92m4.271475151684537\u001b[0m\t \u001b[1m\u001b[92m3.3543393770096\u001b[0m\t \u001b[1m\u001b[92m3.3670160871620274\u001b[0m\n",
            "3  \t [5.12 5.12]\t 52.4288\t 4.271475151684537\t 3.5154792472783303\t 3.3506870521227103\n",
            "4  \t [-5.12       -1.05768757]\t 27.33310300391219\t 4.271475151684537\t 3.006891630270376\t 3.01184604468827\n",
            "5  \t [-1.25757868  5.12      ]\t 27.79590413758324\t 4.271475151684537\t 2.733658550497148\t 3.026279543420412\n",
            "\u001b[1m\u001b[92m6\u001b[0m\t \u001b[1m\u001b[92m[-1.16801707  0.34111127]\u001b[0m\t \u001b[1m\u001b[92m1.4806207833491367\u001b[0m\t \u001b[1m\u001b[92m1.4806207833491367\u001b[0m\t \u001b[1m\u001b[92m3.012724434683543\u001b[0m\t \u001b[1m\u001b[92m2.816687798028881\u001b[0m\n",
            "7  \t [ 1.27352936 -5.12      ]\t 27.83627702373676\t 1.4806207833491367\t 3.1360714600745014\t 3.365672007323009\n",
            "8  \t [-5.12 -5.12]\t 52.4288\t 1.4806207833491367\t 2.7539670559472063\t 2.7083321578104504\n",
            "9  \t [ 5.12       -1.77021333]\t 29.34805524437758\t 1.4806207833491367\t 2.619424793974432\t 2.957197120648504\n",
            "10 \t [-5.12  5.12]\t 52.4288\t 1.4806207833491367\t 2.9456811097635733\t 3.0860767380492313\n",
            "11 \t [-0.87777563  1.8748279 ]\t 4.285469709521989\t 1.4806207833491367\t 2.359347180928794\t 2.1557883673781735\n",
            "12 \t [-1.15647387 -1.0468088 ]\t 2.4332404808449475\t 1.4806207833491367\t 2.807339633922634\t 2.2903473592850676\n",
            "13 \t [1.59872226 0.5364997 ]\t 2.843744806238295\t 1.4806207833491367\t 2.939743580376352\t 2.511979013185098\n",
            "14 \t [-2.44830048  0.12127316]\t 6.008882437676568\t 1.4806207833491367\t 2.4864192203362934\t 2.273533493018059\n",
            "\u001b[1m\u001b[92m15\u001b[0m\t \u001b[1m\u001b[92m[-0.05254301  0.01393698]\u001b[0m\t \u001b[1m\u001b[92m0.002955007247190489\u001b[0m\t \u001b[1m\u001b[92m0.002955007247190489\u001b[0m\t \u001b[1m\u001b[92m2.978349687079849\u001b[0m\t \u001b[1m\u001b[92m2.758644135797407\u001b[0m\n",
            "\u001b[1m\u001b[92m16\u001b[0m\t \u001b[1m\u001b[92m[-0.0176354   0.01575329]\u001b[0m\t \u001b[1m\u001b[92m0.0005591735812125455\u001b[0m\t \u001b[1m\u001b[92m0.0005591735812125455\u001b[0m\t \u001b[1m\u001b[92m2.558922985819095\u001b[0m\t \u001b[1m\u001b[92m2.6298149868947873\u001b[0m\n",
            "17 \t [-0.01781349  0.01573741]\t 0.0005649866071883104\t 0.0005591735812125455\t 2.7392907346143076\t 2.119060069029935\n",
            "18 \t [-0.01783684  0.01573587]\t 0.0005657705670627964\t 0.0005591735812125455\t 2.9985334904040517\t 2.5459229373834233\n",
            "19 \t [-0.01780996  0.01573766]\t 0.0005648684902933721\t 0.0005591735812125455\t 2.261504463396268\t 2.2202146446243307\n",
            "20 \t [-0.01777084  0.01574097]\t 0.000563581196659207\t 0.0005591735812125455\t 2.563891421727485\t 2.304444690485964\n"
          ]
        }
      ],
      "source": [
        "### ESTIMATED GP EI GRADIENTS\n",
        "\n",
        "np.random.seed(run_num_19)\n",
        "surrogate_approx_19 = dGaussianProcess(cov_func, optimize=opt)\n",
        "\n",
        "approx_19 = GPGO_multi(surrogate_approx_19, Acquisition_grad(util), objfunc, param)\n",
        "approx_19.run(init_evals=n_init, max_iter=iters)\n"
      ]
    },
    {
      "cell_type": "code",
      "execution_count": 32,
      "metadata": {
        "id": "Aawd59dRIUYn",
        "colab": {
          "base_uri": "https://localhost:8080/"
        },
        "outputId": "07823ae5-e63f-4b10-f468-ec334d8aeb98"
      },
      "outputs": [
        {
          "output_type": "stream",
          "name": "stdout",
          "text": [
            "Evaluation \t Proposed point \t  Current eval. \t  Best eval. \t        Exact EI: StdDev. x \t Approx EI: StdDev. x \n",
            "init\t [0.9024594  4.07258857]\t 17.400410665504328\t 1.579257056101869\t    \t    \n",
            "init\t [4.00927467 3.23417577]\t 26.53417627399789\t 1.579257056101869\t    \t    \n",
            "init\t [-4.75249064  1.96359764]\t 26.44188299535699\t 1.579257056101869\t    \t    \n",
            "init\t [-1.24230715  0.18955208]\t 1.579257056101869\t 1.579257056101869\t    \t    \n",
            "init\t [ 1.61742301 -3.13497377]\t 12.44411771617229\t 1.579257056101869\t    \t    \n",
            "1  \t [-3.56773338 -5.12      ]\t 38.94312144661133\t 1.579257056101869\t 2.8275139839734447\t 3.1385560534787307\n",
            "2  \t [ 5.12 -5.12]\t 52.4288\t 1.579257056101869\t 2.579730606533824\t 3.5406120754992174\n",
            "3  \t [ 5.12       -0.75178149]\t 26.77957540342997\t 1.579257056101869\t 2.837320528065132\t 3.08599355628587\n",
            "4  \t [-2.73894187  5.12      ]\t 33.71620254132422\t 1.579257056101869\t 3.1585286006185127\t 2.952304025745363\n",
            "5  \t [-5.12       -1.69354954]\t 29.08251005768972\t 1.579257056101869\t 2.840439338751827\t 2.9538494809085813\n",
            "6  \t [1.46989696 0.39167176]\t 2.3140038482079777\t 1.579257056101869\t 3.2666357364483036\t 3.1892541397210836\n",
            "7  \t [-1.46043624 -2.1875888 ]\t 6.918418745573145\t 1.579257056101869\t 3.7476455153359933\t 3.2929273664118663\n",
            "8  \t [-0.2441648 -5.12     ]\t 26.274016447275454\t 1.579257056101869\t 3.013049999133091\t 3.0713931764375766\n",
            "9  \t [-1.34886617  1.94286181]\t 5.594151956890883\t 1.579257056101869\t 3.0147510618742683\t 3.2014281875955573\n",
            "\u001b[1m\u001b[92m10\u001b[0m\t \u001b[1m\u001b[92m[ 0.2351001 -0.5003271]\u001b[0m\t \u001b[1m\u001b[92m0.30559926916849106\u001b[0m\t \u001b[1m\u001b[92m0.30559926916849106\u001b[0m\t \u001b[1m\u001b[92m2.793167096166168\u001b[0m\t \u001b[1m\u001b[92m2.7143613838419713\u001b[0m\n",
            "11 \t [ 0.25414649 -0.53389729]\t 0.3496367593618434\t 0.30559926916849106\t 2.8652400178568516\t 2.97902130951385\n",
            "\u001b[1m\u001b[92m12\u001b[0m\t \u001b[1m\u001b[92m[ 0.21872748 -0.48748447]\u001b[0m\t \u001b[1m\u001b[92m0.28548281943622567\u001b[0m\t \u001b[1m\u001b[92m0.28548281943622567\u001b[0m\t \u001b[1m\u001b[92m3.4724710982506095\u001b[0m\t \u001b[1m\u001b[92m3.0740264197702727\u001b[0m\n",
            "13 \t [ 0.22740292 -0.49507234]\t 0.29680870710466395\t 0.28548281943622567\t 3.2214335318772602\t 3.4922858287741585\n",
            "14 \t [ 0.22360857 -0.48911662]\t 0.2892358598348353\t 0.28548281943622567\t 2.7386128487035784\t 2.7187708307282374\n",
            "15 \t [ 0.25939378 -0.52708126]\t 0.34509978675399783\t 0.28548281943622567\t 2.618070379366921\t 2.5132175878209018\n",
            "\u001b[1m\u001b[92m16\u001b[0m\t \u001b[1m\u001b[92m[ 0.11310443 -0.34569657]\u001b[0m\t \u001b[1m\u001b[92m0.13229873166205897\u001b[0m\t \u001b[1m\u001b[92m0.13229873166205897\u001b[0m\t \u001b[1m\u001b[92m2.902125195742049\u001b[0m\t \u001b[1m\u001b[92m2.829404066198033\u001b[0m\n",
            "\u001b[1m\u001b[92m17\u001b[0m\t \u001b[1m\u001b[92m[ 0.05870967 -0.25304006]\u001b[0m\t \u001b[1m\u001b[92m0.06747609571468145\u001b[0m\t \u001b[1m\u001b[92m0.06747609571468145\u001b[0m\t \u001b[1m\u001b[92m3.1446354297772423\u001b[0m\t \u001b[1m\u001b[92m2.9171413823318186\u001b[0m\n",
            "\u001b[1m\u001b[92m18\u001b[0m\t \u001b[1m\u001b[92m[ 0.03482116 -0.19806121]\u001b[0m\t \u001b[1m\u001b[92m0.0404407540173473\u001b[0m\t \u001b[1m\u001b[92m0.0404407540173473\u001b[0m\t \u001b[1m\u001b[92m3.1249252634709266\u001b[0m\t \u001b[1m\u001b[92m3.2095683314815053\u001b[0m\n",
            "\u001b[1m\u001b[92m19\u001b[0m\t \u001b[1m\u001b[92m[ 0.02304299 -0.16246341]\u001b[0m\t \u001b[1m\u001b[92m0.026925337889936476\u001b[0m\t \u001b[1m\u001b[92m0.026925337889936476\u001b[0m\t \u001b[1m\u001b[92m3.3007757522777226\u001b[0m\t \u001b[1m\u001b[92m2.51311564312954\u001b[0m\n",
            "\u001b[1m\u001b[92m20\u001b[0m\t \u001b[1m\u001b[92m[ 0.01639992 -0.13679043]\u001b[0m\t \u001b[1m\u001b[92m0.01898057936711276\u001b[0m\t \u001b[1m\u001b[92m0.01898057936711276\u001b[0m\t \u001b[1m\u001b[92m2.5486646011414273\u001b[0m\t \u001b[1m\u001b[92m2.4257034187546593\u001b[0m\n"
          ]
        }
      ],
      "source": [
        "### ESTIMATED GP EI GRADIENTS\n",
        "\n",
        "np.random.seed(run_num_20)\n",
        "surrogate_approx_20 = dGaussianProcess(cov_func, optimize=opt)\n",
        "\n",
        "approx_20 = GPGO_multi(surrogate_approx_20, Acquisition_grad(util), objfunc, param)\n",
        "approx_20.run(init_evals=n_init, max_iter=iters)\n"
      ]
    },
    {
      "cell_type": "code",
      "execution_count": 33,
      "metadata": {
        "id": "xkgzPRbBTHaq",
        "colab": {
          "base_uri": "https://localhost:8080/"
        },
        "outputId": "1ca3ab6b-a718-49c9-dc98-7f76addfa514"
      },
      "outputs": [
        {
          "output_type": "execute_result",
          "data": {
            "text/plain": [
              "1659529851.1314046"
            ]
          },
          "metadata": {},
          "execution_count": 33
        }
      ],
      "source": [
        "end_approx = time.time()\n",
        "end_approx\n",
        "\n",
        "time_approx = end_approx - start_approx\n",
        "time_approx\n",
        "\n",
        "start_exact = time.time()\n",
        "start_exact"
      ]
    },
    {
      "cell_type": "code",
      "execution_count": 34,
      "metadata": {
        "id": "7CG3Ndvb16Rb",
        "colab": {
          "base_uri": "https://localhost:8080/"
        },
        "outputId": "e9c420da-3a3d-4543-95cf-18d246163b72"
      },
      "outputs": [
        {
          "output_type": "stream",
          "name": "stdout",
          "text": [
            "Evaluation \t Proposed point \t  Current eval. \t  Best eval. \t        Exact EI: StdDev. x \t Approx EI: StdDev. x \n",
            "init\t [-0.84969467  2.25612281]\t 5.812071182014687\t 1.275455677703416\t    \t    \n",
            "init\t [-5.1188288  -2.02411446]\t 30.299447634857913\t 1.275455677703416\t    \t    \n",
            "init\t [-3.61721968 -4.17445279]\t 30.510334291475417\t 1.275455677703416\t    \t    \n",
            "init\t [-3.21269544 -1.58145816]\t 12.822421857501787\t 1.275455677703416\t    \t    \n",
            "init\t [-1.05710106  0.39748336]\t 1.275455677703416\t 1.275455677703416\t    \t    \n",
            "1  \t [ 4.04077223 -4.24914728]\t 34.383092818836786\t 1.275455677703416\t 3.4615340482994683\t 4.12053925323066\n",
            "2  \t [5.12       3.36783542]\t 37.55671539878192\t 1.275455677703416\t 3.3761519423096646\t 3.7126007147366855\n",
            "3  \t [ 2.40146578 -0.17378187]\t 5.797238022053689\t 1.275455677703416\t 3.3804108271894355\t 3.3324141998333245\n",
            "4  \t [-5.12        4.36680096]\t 45.28335059684448\t 1.275455677703416\t 3.1771683939893958\t 3.9885291915932743\n",
            "5  \t [1.30762101 5.12      ]\t 27.924272700727766\t 1.275455677703416\t 2.568044680639208\t 3.274515751184371\n",
            "6  \t [ 0.11350659 -5.12      ]\t 26.227283746285483\t 1.275455677703416\t 2.586925101402892\t 2.907078991922235\n",
            "7  \t [ 5.12       -0.35492881]\t 26.340374458239882\t 1.275455677703416\t 3.1175682313593205\t 3.1549792283013027\n",
            "8  \t [-4.09914958  1.27447471]\t 18.427313036230387\t 1.275455677703416\t 3.329072436339557\t 2.882090154847563\n",
            "9  \t [ 0.18253625 -1.82513285]\t 3.3644293895113337\t 1.275455677703416\t 2.747118095918861\t 2.9714208598565564\n",
            "10 \t [2.1257283  2.01080041]\t 8.56203906759818\t 1.275455677703416\t 3.0517466968632827\t 2.8537260084553697\n",
            "11 \t [-1.5612427   4.21046832]\t 20.165522266846033\t 1.275455677703416\t 2.4979285042615684\t 3.0330086481097576\n",
            "12 \t [ 1.62273909 -2.08368138]\t 6.975010247617391\t 1.275455677703416\t 2.980596770290676\t 2.6084816317630857\n",
            "\u001b[1m\u001b[92m13\u001b[0m\t \u001b[1m\u001b[92m[-0.9517344  -0.11397191]\u001b[0m\t \u001b[1m\u001b[92m0.9187879666699369\u001b[0m\t \u001b[1m\u001b[92m0.9187879666699369\u001b[0m\t \u001b[1m\u001b[92m2.26485694548374\u001b[0m\t \u001b[1m\u001b[92m1.9863785758630996\u001b[0m\n",
            "14 \t [-1.08114446  0.02222965]\t 1.1693675113417332\t 0.9187879666699369\t 2.8866082504755446\t 2.9128099188131276\n",
            "\u001b[1m\u001b[92m15\u001b[0m\t \u001b[1m\u001b[92m[0.12233157 0.01163404]\u001b[0m\t \u001b[1m\u001b[92m0.015100364933341753\u001b[0m\t \u001b[1m\u001b[92m0.015100364933341753\u001b[0m\t \u001b[1m\u001b[92m2.38501340756467\u001b[0m\t \u001b[1m\u001b[92m2.1586579523604206\u001b[0m\n",
            "16 \t [ 0.29481538 -0.06423142]\t 0.09104178187249454\t 0.015100364933341753\t 2.6795825739317656\t 2.570439144231567\n",
            "17 \t [-0.76202048 -2.77807155]\t 8.298356742727083\t 0.015100364933341753\t 2.8109153634835695\t 2.4162631351255524\n",
            "18 \t [ 0.68339336 -0.59495674]\t 0.8210000079225835\t 0.015100364933341753\t 3.044040226473476\t 2.566831546384552\n",
            "19 \t [ 0.51858573 -0.43430518]\t 0.4575521487249966\t 0.015100364933341753\t 3.2261735025008456\t 3.166729727129771\n",
            "20 \t [0.04286128 0.21406383]\t 0.04766041125584817\t 0.015100364933341753\t 2.965056032363059\t 2.8225624199731794\n"
          ]
        }
      ],
      "source": [
        "### EXACT GP EI GRADIENTS\n",
        "\n",
        "np.random.seed(run_num_1)\n",
        "surrogate_exact_1 = dGaussianProcess(cov_func, optimize=opt)\n",
        "\n",
        "exact_1 = dGPGO(surrogate_exact_1, Acquisition_grad(util), objfunc, param)\n",
        "exact_1.run(init_evals=n_init, max_iter=iters)\n"
      ]
    },
    {
      "cell_type": "code",
      "execution_count": 35,
      "metadata": {
        "id": "-ilCPSAu9SAg",
        "colab": {
          "base_uri": "https://localhost:8080/"
        },
        "outputId": "fedc810c-ab6f-4615-9ea1-133f13ead011"
      },
      "outputs": [
        {
          "output_type": "stream",
          "name": "stdout",
          "text": [
            "Evaluation \t Proposed point \t  Current eval. \t  Best eval. \t        Exact EI: StdDev. x \t Approx EI: StdDev. x \n",
            "init\t [-0.6554122  -4.85451539]\t 23.995884788327533\t 0.6972563370202991\t    \t    \n",
            "init\t [ 0.50854377 -0.6622987 ]\t 0.6972563370202991\t 0.6972563370202991\t    \t    \n",
            "init\t [-0.81543371 -1.73737143]\t 3.683391625826377\t 0.6972563370202991\t    \t    \n",
            "init\t [-3.02439799  1.2213347 ]\t 10.638641624769724\t 0.6972563370202991\t    \t    \n",
            "init\t [-2.05153614 -2.3876887 ]\t 9.90985788235879\t 0.6972563370202991\t    \t    \n",
            "1  \t [5.12 5.12]\t 52.4288\t 0.6972563370202991\t 3.7957328359736677\t 3.7958679592709386\n",
            "2  \t [ 4.84260546 -3.96517156]\t 39.173413151255836\t 0.6972563370202991\t 2.906684316901241\t 3.9492267168509643\n",
            "3  \t [-0.14724304  5.12      ]\t 26.236080513371153\t 0.6972563370202991\t 3.7640494405968385\t 3.9362689315257664\n",
            "4  \t [4.19814932 0.55652488]\t 17.934177627777412\t 0.6972563370202991\t 3.4628159406660157\t 3.3708187194042867\n",
            "5  \t [-5.12 -5.12]\t 52.4288\t 0.6972563370202991\t 3.5014110040885877\t 3.323595676555726\n",
            "6  \t [-4.17926789  4.68338015]\t 39.400329749918235\t 0.6972563370202991\t 3.163542295562318\t 3.7019671026575502\n",
            "7  \t [0.7471435  1.53043763]\t 2.900462765671091\t 0.6972563370202991\t 2.9402648440391035\t 3.0303144170687113\n",
            "8  \t [ 1.77638391 -1.94396303]\t 6.934532042257924\t 0.6972563370202991\t 2.6380484606256025\t 2.527896305306825\n",
            "9  \t [-5.12       -1.21245672]\t 27.684451309337202\t 0.6972563370202991\t 2.7456733080959754\t 2.875110362475384\n",
            "10 \t [2.66480547 2.85874093]\t 15.273587862635122\t 0.6972563370202991\t 2.997048242813179\t 2.79708620745311\n",
            "\u001b[1m\u001b[92m11\u001b[0m\t \u001b[1m\u001b[92m[-0.56834771  0.36035123]\u001b[0m\t \u001b[1m\u001b[92m0.4528721286272595\u001b[0m\t \u001b[1m\u001b[92m0.4528721286272595\u001b[0m\t \u001b[1m\u001b[92m2.895514786551052\u001b[0m\t \u001b[1m\u001b[92m2.86034444825939\u001b[0m\n",
            "12 \t [ 2.00835523 -5.08476475]\t 29.888323307047738\t 0.4528721286272595\t 2.393759077938238\t 2.714994651856445\n",
            "13 \t [-0.7555504   2.15073472]\t 5.196516256768336\t 0.4528721286272595\t 2.9929124395451843\t 2.926851057480021\n",
            "\u001b[1m\u001b[92m14\u001b[0m\t \u001b[1m\u001b[92m[-0.2544822  -0.04694352]\u001b[0m\t \u001b[1m\u001b[92m0.06696488350738417\u001b[0m\t \u001b[1m\u001b[92m0.06696488350738417\u001b[0m\t \u001b[1m\u001b[92m3.001761361463484\u001b[0m\t \u001b[1m\u001b[92m2.9634873456123065\u001b[0m\n",
            "\u001b[1m\u001b[92m15\u001b[0m\t \u001b[1m\u001b[92m[-0.0124081  -0.11429157]\u001b[0m\t \u001b[1m\u001b[92m0.013216524303239096\u001b[0m\t \u001b[1m\u001b[92m0.013216524303239096\u001b[0m\t \u001b[1m\u001b[92m2.808740395982199\u001b[0m\t \u001b[1m\u001b[92m2.8129398820860936\u001b[0m\n",
            "16 \t [ 0.59903663 -0.1504516 ]\t 0.3814805640890503\t 0.013216524303239096\t 2.7450836943964028\t 2.7449776453713937\n",
            "17 \t [-0.58950883  0.03626317]\t 0.3488356734172636\t 0.013216524303239096\t 2.957313026246822\t 2.9112250426162065\n",
            "18 \t [ 0.15067966 -0.16326294]\t 0.049359147509132686\t 0.013216524303239096\t 2.8461897012122575\t 2.55231500672486\n",
            "19 \t [ 0.10157212 -0.15327393]\t 0.033809793002458205\t 0.013216524303239096\t 2.743685004344649\t 2.727269644513286\n",
            "20 \t [-0.31202725 -0.03270929]\t 0.09843089988300749\t 0.013216524303239096\t 2.776016222119206\t 2.5957974138923703\n"
          ]
        }
      ],
      "source": [
        "### EXACT GP EI GRADIENTS\n",
        "\n",
        "np.random.seed(run_num_2)\n",
        "surrogate_exact_2 = dGaussianProcess(cov_func, optimize=opt)\n",
        "\n",
        "exact_2 = dGPGO(surrogate_exact_2, Acquisition_grad(util), objfunc, param)\n",
        "exact_2.run(init_evals=n_init, max_iter=iters)\n"
      ]
    },
    {
      "cell_type": "code",
      "execution_count": 36,
      "metadata": {
        "id": "XieJ158mIvlP",
        "colab": {
          "base_uri": "https://localhost:8080/"
        },
        "outputId": "cf70ee39-797c-4ee4-fd5b-7cd6ba8dc4dd"
      },
      "outputs": [
        {
          "output_type": "stream",
          "name": "stdout",
          "text": [
            "Evaluation \t Proposed point \t  Current eval. \t  Best eval. \t        Exact EI: StdDev. x \t Approx EI: StdDev. x \n",
            "init\t [0.52017052 2.1314337 ]\t 4.813587005218131\t 4.59675431006429\t    \t    \n",
            "init\t [-2.14113547  0.11087468]\t 4.59675431006429\t 4.59675431006429\t    \t    \n",
            "init\t [4.02377681 4.05804123]\t 32.65847846685941\t 4.59675431006429\t    \t    \n",
            "init\t [-3.83400642 -2.99783293]\t 23.686607498512902\t 4.59675431006429\t    \t    \n",
            "init\t [-4.59297584 -0.6061072 ]\t 21.462792989409664\t 4.59675431006429\t    \t    \n",
            "1  \t [ 2.87036899 -1.98289163]\t 12.170877343622498\t 4.59675431006429\t 2.104074823324807\t 3.5140540704745677\n",
            "2  \t [-3.33114862  5.05305125]\t 36.62987805318713\t 4.59675431006429\t 2.750637217698905\t 4.025612040110902\n",
            "3  \t [-0.40701955 -2.40839967]\t 5.966053860772153\t 4.59675431006429\t 3.019694334800697\t 3.6828679063523317\n",
            "4  \t [ 1.47776527 -5.12      ]\t 28.398190192382167\t 4.59675431006429\t 2.961311799291686\t 3.584185929402712\n",
            "5  \t [5.12       0.52669006]\t 26.491802422845403\t 4.59675431006429\t 2.741650186397513\t 3.3011646242958648\n",
            "6  \t [ 5.12       -4.54672744]\t 46.88713045033706\t 4.59675431006429\t 2.9091832927294194\t 3.2635268623520406\n",
            "7  \t [0.43977767 5.12      ]\t 26.407804395387412\t 4.59675431006429\t 3.1942586885765114\t 3.060723694745456\n",
            "8  \t [-5.0836316   2.25842666]\t 30.943801263825215\t 4.59675431006429\t 3.0134531199652943\t 2.9743324356636047\n",
            "9  \t [-5.12 -5.12]\t 52.4288\t 4.59675431006429\t 2.447688256923259\t 2.70478513477936\n",
            "10 \t [-1.63312333 -5.12      ]\t 28.881491806113996\t 4.59675431006429\t 2.9442977914146593\t 3.12850761910829\n",
            "\u001b[1m\u001b[92m11\u001b[0m\t \u001b[1m\u001b[92m[ 0.6863445  -0.06583454]\u001b[0m\t \u001b[1m\u001b[92m0.47540295569446683\u001b[0m\t \u001b[1m\u001b[92m0.47540295569446683\u001b[0m\t \u001b[1m\u001b[92m2.7601003626203706\u001b[0m\t \u001b[1m\u001b[92m1.97427629497738\u001b[0m\n",
            "12 \t [2.03336922 0.59358097]\t 4.48692873954933\t 0.47540295569446683\t 2.6755912528194137\t 2.4671416415184977\n",
            "\u001b[1m\u001b[92m13\u001b[0m\t \u001b[1m\u001b[92m[ 0.08814861 -0.27328514]\u001b[0m\t \u001b[1m\u001b[92m0.08245494556172624\u001b[0m\t \u001b[1m\u001b[92m0.08245494556172624\u001b[0m\t \u001b[1m\u001b[92m2.919118829362675\u001b[0m\t \u001b[1m\u001b[92m2.834072527638274\u001b[0m\n",
            "14 \t [-1.7668841   2.37159498]\t 8.746342204271771\t 0.08245494556172624\t 2.525104101184945\t 2.304135374287531\n",
            "15 \t [ 0.56754293 -0.6800598 ]\t 0.7845863196832996\t 0.08245494556172624\t 2.659345187498248\t 2.5362172972749693\n",
            "16 \t [-0.48502498  0.3613312 ]\t 0.36580946733607134\t 0.08245494556172624\t 2.8688421656075196\t 2.4772440943851852\n",
            "\u001b[1m\u001b[92m17\u001b[0m\t \u001b[1m\u001b[92m[-0.18517122  0.00671421]\u001b[0m\t \u001b[1m\u001b[92m0.034333460803412416\u001b[0m\t \u001b[1m\u001b[92m0.034333460803412416\u001b[0m\t \u001b[1m\u001b[92m2.601849535199268\u001b[0m\t \u001b[1m\u001b[92m2.3226906017009865\u001b[0m\n",
            "18 \t [ 0.6025424  -0.72696181]\t 0.8915308105022134\t 0.034333460803412416\t 2.959335866787876\t 2.7877649913947646\n",
            "19 \t [ 0.08714777 -0.25314589]\t 0.07167757708655759\t 0.034333460803412416\t 2.7760652087466973\t 2.6372069194423107\n",
            "20 \t [ 0.10585361 -0.26290993]\t 0.08032661637993435\t 0.034333460803412416\t 2.2724270502553012\t 1.8616706366837292\n"
          ]
        }
      ],
      "source": [
        "### EXACT GP EI GRADIENTS\n",
        "\n",
        "np.random.seed(run_num_3)\n",
        "surrogate_exact_3 = dGaussianProcess(cov_func, optimize=opt)\n",
        "\n",
        "exact_3 = dGPGO(surrogate_exact_3, Acquisition_grad(util), objfunc, param)\n",
        "exact_3.run(init_evals=n_init, max_iter=iters)\n"
      ]
    },
    {
      "cell_type": "code",
      "execution_count": 37,
      "metadata": {
        "id": "PhLBVOIfIvol",
        "colab": {
          "base_uri": "https://localhost:8080/"
        },
        "outputId": "67547d1a-9d5d-4143-a074-a47f759e157f"
      },
      "outputs": [
        {
          "output_type": "stream",
          "name": "stdout",
          "text": [
            "Evaluation \t Proposed point \t  Current eval. \t  Best eval. \t        Exact EI: StdDev. x \t Approx EI: StdDev. x \n",
            "init\t [4.78238555 0.48365823]\t 23.1051368481516\t 6.844040613967918\t    \t    \n",
            "init\t [4.84028785 2.19971578]\t 28.267135924302462\t 6.844040613967918\t    \t    \n",
            "init\t [ 2.02474316 -2.90724357]\t 12.551650027390728\t 6.844040613967918\t    \t    \n",
            "init\t [ 4.87705042 -5.05620219]\t 49.3508013219099\t 6.844040613967918\t    \t    \n",
            "init\t [-2.52946061 -0.66773471]\t 6.844040613967918\t 6.844040613967918\t    \t    \n",
            "1  \t [-1.14334581  4.64643194]\t 22.896569443900606\t 6.844040613967918\t 2.6967167630241695\t 3.8119206631973417\n",
            "2  \t [-5.12 -5.12]\t 52.4288\t 6.844040613967918\t 3.8450949628733193\t 3.3603866955750537\n",
            "3  \t [-0.95819369 -5.12      ]\t 27.132535153656406\t 6.844040613967918\t 3.373058072763016\t 3.5864170451057897\n",
            "\u001b[1m\u001b[92m4\u001b[0m\t \u001b[1m\u001b[92m[0.65712638 1.17928828]\u001b[0m\t \u001b[1m\u001b[92m1.8225359163068036\u001b[0m\t \u001b[1m\u001b[92m1.8225359163068036\u001b[0m\t \u001b[1m\u001b[92m3.0789255672248483\u001b[0m\t \u001b[1m\u001b[92m3.637108111796467\u001b[0m\n",
            "5  \t [-5.12        2.45166061]\t 32.22503973412286\t 1.8225359163068036\t 2.878338061771088\t 3.2141520041794145\n",
            "6  \t [2.62683686 5.12      ]\t 33.11467188409872\t 1.8225359163068036\t 3.2089146110935887\t 2.936923335306099\n",
            "7  \t [-5.12       -1.41933157]\t 28.22890209174905\t 1.8225359163068036\t 2.438297967935166\t 2.1249590817265047\n",
            "8  \t [-1.93436101  1.81231098]\t 7.026223610960477\t 1.8225359163068036\t 2.641650577106239\t 2.499005970324833\n",
            "\u001b[1m\u001b[92m9\u001b[0m\t \u001b[1m\u001b[92m[-0.06593452 -0.50974255]\u001b[0m\t \u001b[1m\u001b[92m0.26418482982836955\u001b[0m\t \u001b[1m\u001b[92m0.26418482982836955\u001b[0m\t \u001b[1m\u001b[92m2.559188948854714\u001b[0m\t \u001b[1m\u001b[92m2.8590892403451464\u001b[0m\n",
            "10 \t [-0.13644175 -1.39285452]\t 1.9586600521716993\t 0.26418482982836955\t 3.3248027213129534\t 3.448818536289971\n",
            "11 \t [ 1.6017237  -0.02157423]\t 2.5659842449506587\t 0.26418482982836955\t 3.199699012068786\t 3.569037077065611\n",
            "12 \t [1.22032927 2.44587097]\t 7.471488333966715\t 0.26418482982836955\t 2.870534625558852\t 3.1611668466068825\n",
            "13 \t [-2.29405036 -2.81827446]\t 13.205337980004686\t 0.26418482982836955\t 2.663062259177642\t 3.4160205405741086\n",
            "14 \t [-3.70790779  5.02704623]\t 39.019773922718414\t 0.26418482982836955\t 2.389912316872003\t 2.5378502207366624\n",
            "15 \t [ 5.12       -2.02663261]\t 30.321639744330753\t 0.26418482982836955\t 3.3039126597027852\t 3.1487306645393383\n",
            "\u001b[1m\u001b[92m16\u001b[0m\t \u001b[1m\u001b[92m[-0.15997454  0.07225953]\u001b[0m\t \u001b[1m\u001b[92m0.0308132914832765\u001b[0m\t \u001b[1m\u001b[92m0.0308132914832765\u001b[0m\t \u001b[1m\u001b[92m2.86564682487941\u001b[0m\t \u001b[1m\u001b[92m2.7437525066983053\u001b[0m\n",
            "17 \t [-0.45726366  0.49062522]\t 0.44980316768853523\t 0.0308132914832765\t 2.819471994436835\t 2.5320981855044447\n",
            "18 \t [ 0.16192713 -0.2769868 ]\t 0.10294208209237551\t 0.0308132914832765\t 2.844377445485924\t 2.952054143836403\n",
            "19 \t [ 0.2399271 -0.3593033]\t 0.18666387272034657\t 0.0308132914832765\t 2.913055919313197\t 2.8303171837276224\n",
            "20 \t [ 0.2017408  -0.33876602]\t 0.15546176544211526\t 0.0308132914832765\t 2.645640363724149\t 2.4919472027511427\n"
          ]
        }
      ],
      "source": [
        "### EXACT GP EI GRADIENTS\n",
        "\n",
        "np.random.seed(run_num_4)\n",
        "surrogate_exact_4 = dGaussianProcess(cov_func, optimize=opt)\n",
        "\n",
        "exact_4 = dGPGO(surrogate_exact_4, Acquisition_grad(util), objfunc, param)\n",
        "exact_4.run(init_evals=n_init, max_iter=iters)\n"
      ]
    },
    {
      "cell_type": "code",
      "execution_count": 38,
      "metadata": {
        "id": "arbiPyj2IvsJ",
        "colab": {
          "base_uri": "https://localhost:8080/"
        },
        "outputId": "28c2849f-fb9b-415e-c836-b2d7ecdd3db9"
      },
      "outputs": [
        {
          "output_type": "stream",
          "name": "stdout",
          "text": [
            "Evaluation \t Proposed point \t  Current eval. \t  Best eval. \t        Exact EI: StdDev. x \t Approx EI: StdDev. x \n",
            "init\t [-2.84678993  3.79629882]\t 22.516097589112718\t 1.3234068721819314\t    \t    \n",
            "init\t [-3.00319585  4.2865757 ]\t 27.393916517947076\t 1.3234068721819314\t    \t    \n",
            "init\t [-0.11866943  1.14425716]\t 1.3234068721819314\t 1.3234068721819314\t    \t    \n",
            "init\t [2.72289645 0.1886002 ]\t 7.449735113237491\t 1.3234068721819314\t    \t    \n",
            "init\t [-2.08076286 -3.19773462]\t 14.555080786026249\t 1.3234068721819314\t    \t    \n",
            "1  \t [ 4.32895605 -5.09732646]\t 44.722597532365825\t 1.3234068721819314\t 4.399561048911011\t 4.319811055806327\n",
            "2  \t [5.12 5.12]\t 52.4288\t 1.3234068721819314\t 4.137823564374656\t 3.700984398728381\n",
            "3  \t [-5.12       -0.27719042]\t 26.29123452807068\t 1.3234068721819314\t 3.3859550189550243\t 3.695864584894835\n",
            "4  \t [0.99551455 5.11914473]\t 27.1966919681028\t 1.3234068721819314\t 3.420990049291924\t 3.335724510055253\n",
            "5  \t [-5.12 -5.12]\t 52.4288\t 1.3234068721819314\t 3.3380350488761388\t 3.327591763242536\n",
            "6  \t [ 1.26046851 -2.70481137]\t 8.904785400598776\t 1.3234068721819314\t 3.223165193582609\t 3.3784344027452495\n",
            "7  \t [ 5.12       -1.48084119]\t 28.407290616590203\t 1.3234068721819314\t 2.30896134685587\t 2.6210770178174507\n",
            "8  \t [-1.49525357 -0.17185572]\t 2.2653176386572094\t 1.3234068721819314\t 2.9025972853253514\t 3.1638582673962117\n",
            "9  \t [5.12       1.77366603]\t 29.360291197677117\t 1.3234068721819314\t 3.024581283039589\t 3.0174781850391312\n",
            "10 \t [0.68003856 2.17406031]\t 5.188990683067016\t 1.3234068721819314\t 2.7908762907741185\t 2.5430473658280968\n",
            "11 \t [ 0.24957708 -5.12      ]\t 26.2766887172362\t 1.3234068721819314\t 2.82829061153946\t 2.96193970650097\n",
            "12 \t [-1.64465921  1.20461662]\t 4.1560051444735695\t 1.3234068721819314\t 2.437341773045114\t 2.8832859893998823\n",
            "\u001b[1m\u001b[92m13\u001b[0m\t \u001b[1m\u001b[92m[ 0.33345191 -0.54677123]\u001b[0m\t \u001b[1m\u001b[92m0.41014895618799607\u001b[0m\t \u001b[1m\u001b[92m0.41014895618799607\u001b[0m\t \u001b[1m\u001b[92m2.784074673809388\u001b[0m\t \u001b[1m\u001b[92m2.6467726605595616\u001b[0m\n",
            "\u001b[1m\u001b[92m14\u001b[0m\t \u001b[1m\u001b[92m[ 0.13576466 -0.31332156]\u001b[0m\t \u001b[1m\u001b[92m0.11660244236701545\u001b[0m\t \u001b[1m\u001b[92m0.11660244236701545\u001b[0m\t \u001b[1m\u001b[92m2.3471467234978256\u001b[0m\t \u001b[1m\u001b[92m2.4783174682615465\u001b[0m\n",
            "15 \t [ 0.13825126 -0.3159248 ]\t 0.11892188905121455\t 0.11660244236701545\t 2.4440791644736883\t 2.7857391077111022\n",
            "16 \t [ 0.1748166  -0.37281168]\t 0.16954939700659863\t 0.11660244236701545\t 2.8705718586000426\t 2.656946275402195\n",
            "\u001b[1m\u001b[92m17\u001b[0m\t \u001b[1m\u001b[92m[ 0.0792806 -0.2052998]\u001b[0m\t \u001b[1m\u001b[92m0.048433421561488325\u001b[0m\t \u001b[1m\u001b[92m0.048433421561488325\u001b[0m\t \u001b[1m\u001b[92m2.591707293708565\u001b[0m\t \u001b[1m\u001b[92m2.642366655031851\u001b[0m\n",
            "18 \t [ 0.16585189 -0.34991606]\t 0.14994810081979648\t 0.048433421561488325\t 2.760972816286022\t 2.8603258706284436\n",
            "19 \t [ 0.09613835 -0.22475546]\t 0.05975760036214768\t 0.048433421561488325\t 2.609895353819463\t 2.7192583672528667\n",
            "20 \t [ 0.19020259 -0.38584104]\t 0.185050332352658\t 0.048433421561488325\t 2.8252597839069367\t 3.015629336387305\n"
          ]
        }
      ],
      "source": [
        "### EXACT GP EI GRADIENTS\n",
        "\n",
        "np.random.seed(run_num_5)\n",
        "surrogate_exact_5 = dGaussianProcess(cov_func, optimize=opt)\n",
        "\n",
        "exact_5 = dGPGO(surrogate_exact_5, Acquisition_grad(util), objfunc, param)\n",
        "exact_5.run(init_evals=n_init, max_iter=iters)\n"
      ]
    },
    {
      "cell_type": "code",
      "execution_count": 39,
      "metadata": {
        "id": "04KJCEm_Ivvf",
        "colab": {
          "base_uri": "https://localhost:8080/"
        },
        "outputId": "28e8c797-f368-4648-ded4-1afcb1e88aaf"
      },
      "outputs": [
        {
          "output_type": "stream",
          "name": "stdout",
          "text": [
            "Evaluation \t Proposed point \t  Current eval. \t  Best eval. \t        Exact EI: StdDev. x \t Approx EI: StdDev. x \n",
            "init\t [ 4.02288795 -1.72052679]\t 19.143839911819178\t 0.7844720799352826\t    \t    \n",
            "init\t [ 3.28938622 -4.69302655]\t 32.84455992822337\t 0.7844720799352826\t    \t    \n",
            "init\t [-4.0175956   0.97333314]\t 17.088451781196223\t 0.7844720799352826\t    \t    \n",
            "init\t [ 0.30532979 -0.83141193]\t 0.7844720799352826\t 0.7844720799352826\t    \t    \n",
            "init\t [-1.68542362  1.25459899]\t 4.414671405342624\t 0.7844720799352826\t    \t    \n",
            "1  \t [5.12 5.12]\t 52.4288\t 0.7844720799352826\t 4.082144197899327\t 3.859837555501155\n",
            "2  \t [-3.74535283 -5.12      ]\t 40.24206779776266\t 0.7844720799352826\t 3.6745659950302687\t 3.681619077117107\n",
            "3  \t [0.08402923 5.12      ]\t 26.221460911676587\t 0.7844720799352826\t 3.285978802763195\t 3.467448040363503\n",
            "4  \t [2.56669879 1.74876145]\t 9.646109280504115\t 0.7844720799352826\t 3.199224950022363\t 3.931327494335471\n",
            "5  \t [-0.25046164 -3.54643381]\t 12.639923790732329\t 0.7844720799352826\t 2.933774936582473\t 3.2794109611314908\n",
            "6  \t [-3.60506296  4.55551311]\t 33.749178580091325\t 0.7844720799352826\t 3.0497529044779044\t 3.3918238203287046\n",
            "7  \t [-2.88953851 -1.80199872]\t 11.596632177015174\t 0.7844720799352826\t 3.1859610579047115\t 3.1417713204935542\n",
            "8  \t [5.12       1.45875086]\t 28.342354070382214\t 0.7844720799352826\t 3.153698761935293\t 3.046524202827272\n",
            "\u001b[1m\u001b[92m9\u001b[0m\t \u001b[1m\u001b[92m[0.28551527 0.33616171]\u001b[0m\t \u001b[1m\u001b[92m0.19452366007912245\u001b[0m\t \u001b[1m\u001b[92m0.19452366007912245\u001b[0m\t \u001b[1m\u001b[92m2.544403505087157\u001b[0m\t \u001b[1m\u001b[92m2.6256971049238973\u001b[0m\n",
            "10 \t [ 0.85150011 -0.31221631]\t 0.822531454655845\t 0.19452366007912245\t 2.6926636419564733\t 2.9373279029933967\n",
            "11 \t [-5.12       -2.35737415]\t 31.771612877857287\t 0.19452366007912245\t 3.3670583808614216\t 3.177763882723054\n",
            "12 \t [0.13271092 1.8672264 ]\t 3.504146625504916\t 0.19452366007912245\t 2.7570117118861948\t 2.702518786007109\n",
            "13 \t [-0.36499576 -0.44963711]\t 0.3353954374319864\t 0.19452366007912245\t 2.4429894579664624\t 2.2266841468090552\n",
            "14 \t [ 1.17849596 -0.98822776]\t 2.3654468345450406\t 0.19452366007912245\t 2.8406222502260494\t 2.9318147225553854\n",
            "15 \t [ 0.19922537 -1.04129494]\t 1.1239859057174766\t 0.19452366007912245\t 2.9802318263873926\t 2.9741480094417683\n",
            "16 \t [ 0.05010014 -0.45867761]\t 0.21289517654625723\t 0.19452366007912245\t 2.780469985414846\t 2.8498355156613857\n",
            "17 \t [ 0.23283839 -0.53675817]\t 0.3423230505699388\t 0.19452366007912245\t 3.3478335264030603\t 3.2933481479574027\n",
            "18 \t [2.47460161 3.8702899 ]\t 21.102797040457943\t 0.19452366007912245\t 3.050201886212364\t 2.820218908536377\n",
            "19 \t [-1.25224845  0.1750324 ]\t 1.5987625081212025\t 0.19452366007912245\t 3.0447060054209496\t 3.0369947742124657\n",
            "\u001b[1m\u001b[92m20\u001b[0m\t \u001b[1m\u001b[92m[ 0.01186551 -0.29030707]\u001b[0m\t \u001b[1m\u001b[92m0.08441898675866993\u001b[0m\t \u001b[1m\u001b[92m0.08441898675866993\u001b[0m\t \u001b[1m\u001b[92m2.8706552799896614\u001b[0m\t \u001b[1m\u001b[92m2.9358959322780414\u001b[0m\n"
          ]
        }
      ],
      "source": [
        "### EXACT GP EI GRADIENTS\n",
        "\n",
        "np.random.seed(run_num_6)\n",
        "surrogate_exact_6 = dGaussianProcess(cov_func, optimize=opt)\n",
        "\n",
        "exact_6 = dGPGO(surrogate_exact_6, Acquisition_grad(util), objfunc, param)\n",
        "exact_6.run(init_evals=n_init, max_iter=iters)\n"
      ]
    },
    {
      "cell_type": "code",
      "execution_count": 40,
      "metadata": {
        "id": "tAOkme3CIvyO",
        "colab": {
          "base_uri": "https://localhost:8080/"
        },
        "outputId": "44b6ec49-1a70-43e9-905c-7e4d3df67e16"
      },
      "outputs": [
        {
          "output_type": "stream",
          "name": "stdout",
          "text": [
            "Evaluation \t Proposed point \t  Current eval. \t  Best eval. \t        Exact EI: StdDev. x \t Approx EI: StdDev. x \n",
            "init\t [-4.33860312  2.86636843]\t 27.039544996254122\t 5.622519010932044\t    \t    \n",
            "init\t [-0.63068947  2.28828342]\t 5.634010222398341\t 5.622519010932044\t    \t    \n",
            "init\t [4.8946126  0.39419771]\t 24.112624368867845\t 5.622519010932044\t    \t    \n",
            "init\t [ 0.01147355 -4.38219639]\t 19.20377688135857\t 5.622519010932044\t    \t    \n",
            "init\t [-2.37118484e+00 -1.20319155e-03]\t 5.622519010932044\t 5.622519010932044\t    \t    \n",
            "1  \t [-5.12 -5.12]\t 52.4288\t 5.622519010932044\t 2.86852963193626\t 3.1979968282644236\n",
            "2  \t [3.33590081 5.12      ]\t 37.342634208733344\t 5.622519010932044\t 3.792819009538688\t 3.7005928624393656\n",
            "3  \t [ 4.5235682  -4.16736717]\t 37.82961837123037\t 5.622519010932044\t 3.2182198221112777\t 3.1730187775361305\n",
            "4  \t [-4.02558214 -1.33646422]\t 17.991448177385568\t 5.622519010932044\t 2.8894146894053065\t 3.046307140328312\n",
            "\u001b[1m\u001b[92m5\u001b[0m\t \u001b[1m\u001b[92m[ 1.20807972 -0.75572559]\u001b[0m\t \u001b[1m\u001b[92m2.0305777820257194\u001b[0m\t \u001b[1m\u001b[92m2.0305777820257194\u001b[0m\t \u001b[1m\u001b[92m2.9725757756772833\u001b[0m\t \u001b[1m\u001b[92m3.008549838255539\u001b[0m\n",
            "6  \t [1.93980093 1.96894931]\t 7.639589039087927\t 2.0305777820257194\t 3.1227630628081195\t 3.112004235128716\n",
            "7  \t [-1.24967759  5.12      ]\t 27.776094089447255\t 2.0305777820257194\t 2.4447295427254043\t 2.9032262258746155\n",
            "8  \t [-2.38451718 -3.29452686]\t 16.5398294150732\t 2.0305777820257194\t 2.9069839540014635\t 3.0287956963358655\n",
            "\u001b[1m\u001b[92m9\u001b[0m\t \u001b[1m\u001b[92m[-0.36192296 -0.43065098]\u001b[0m\t \u001b[1m\u001b[92m0.3164484967491136\u001b[0m\t \u001b[1m\u001b[92m0.3164484967491136\u001b[0m\t \u001b[1m\u001b[92m3.1936959361233894\u001b[0m\t \u001b[1m\u001b[92m3.3313148100415497\u001b[0m\n",
            "10 \t [ 2.56826025 -2.13220727]\t 11.142268540843556\t 0.3164484967491136\t 3.081205298214053\t 3.2247850786813914\n",
            "11 \t [ 0.03506215 -1.51536719]\t 2.2975670738674676\t 0.3164484967491136\t 2.808796203199467\t 2.7884037035169293\n",
            "12 \t [-5.11292055  5.04211319]\t 51.56486198679663\t 0.3164484967491136\t 3.2047598488318996\t 3.605194620749345\n",
            "13 \t [5.12       3.05929968]\t 35.5737145099482\t 0.3164484967491136\t 3.1627711259976112\t 3.0907719679064987\n",
            "\u001b[1m\u001b[92m14\u001b[0m\t \u001b[1m\u001b[92m[0.08495168 0.051806  ]\u001b[0m\t \u001b[1m\u001b[92m0.009900650280819493\u001b[0m\t \u001b[1m\u001b[92m0.009900650280819493\u001b[0m\t \u001b[1m\u001b[92m2.4363339620877937\u001b[0m\t \u001b[1m\u001b[92m2.616367377056562\u001b[0m\n",
            "15 \t [ 0.24493106 -0.00482261]\t 0.06001448113997865\t 0.009900650280819493\t 3.2537463692664907\t 3.039763275364499\n",
            "16 \t [-0.16728704  0.20834104]\t 0.07139094479620364\t 0.009900650280819493\t 2.318839159726324\t 2.212421665243818\n",
            "17 \t [ 0.2885054  -0.02416889]\t 0.08381950078625039\t 0.009900650280819493\t 2.248170640376508\t 2.7591397703523675\n",
            "18 \t [-0.32558979  0.31462219]\t 0.2049958345313448\t 0.009900650280819493\t 3.2861196056909487\t 3.316409897877218\n",
            "19 \t [0.2201875  0.00570263]\t 0.048515056389770106\t 0.009900650280819493\t 3.0785916624246763\t 3.004514448683992\n",
            "20 \t [ 0.2919772  -0.02750355]\t 0.08600713298273316\t 0.009900650280819493\t 2.7917509449465943\t 2.928788864774628\n"
          ]
        }
      ],
      "source": [
        "### EXACT GP EI GRADIENTS\n",
        "\n",
        "np.random.seed(run_num_7)\n",
        "surrogate_exact_7 = dGaussianProcess(cov_func, optimize=opt)\n",
        "\n",
        "exact_7 = dGPGO(surrogate_exact_7, Acquisition_grad(util), objfunc, param)\n",
        "exact_7.run(init_evals=n_init, max_iter=iters)\n"
      ]
    },
    {
      "cell_type": "code",
      "execution_count": 41,
      "metadata": {
        "id": "69-J3EF4Iv1S",
        "colab": {
          "base_uri": "https://localhost:8080/"
        },
        "outputId": "c68151a0-89c9-44bb-f0bb-7ec5083def5c"
      },
      "outputs": [
        {
          "output_type": "stream",
          "name": "stdout",
          "text": [
            "Evaluation \t Proposed point \t  Current eval. \t  Best eval. \t        Exact EI: StdDev. x \t Approx EI: StdDev. x \n",
            "init\t [3.82391708 4.79785639]\t 37.641767782829874\t 0.10287109474532606\t    \t    \n",
            "init\t [3.78055209 0.31596228]\t 14.392406282091054\t 0.10287109474532606\t    \t    \n",
            "init\t [-2.73686192 -5.00327624]\t 32.52318635319257\t 0.10287109474532606\t    \t    \n",
            "init\t [-0.7119993  -0.99992207]\t 1.5067871566831337\t 0.10287109474532606\t    \t    \n",
            "init\t [ 0.23218863 -0.22126801]\t 0.10287109474532606\t 0.10287109474532606\t    \t    \n",
            "1  \t [0.02041459 1.98577863]\t 3.943733542072024\t 0.10287109474532606\t 2.975790249940113\t 3.7347955902068035\n",
            "2  \t [-5.03492225  2.95509263]\t 34.08301446412634\t 0.10287109474532606\t 3.2200948189604968\t 4.188961652486787\n",
            "3  \t [-5.12       -1.47896116]\t 28.40172612269111\t 0.10287109474532606\t 2.70643693872253\t 3.763104582422638\n",
            "4  \t [ 2.57855628 -4.69210849]\t 28.66483461803054\t 0.10287109474532606\t 3.2444663785151198\t 3.733381682679409\n",
            "5  \t [0.12155999 4.9809562 ]\t 24.824701467598562\t 0.10287109474532606\t 3.03381286830629\t 3.081125207247716\n",
            "6  \t [ 5.12       -2.56412597]\t 32.78914196607468\t 0.10287109474532606\t 2.9802396600607435\t 2.91096867132016\n",
            "7  \t [ 1.43239657 -1.75726267]\t 5.139732035260789\t 0.10287109474532606\t 2.8211837418634347\t 2.8604602867902336\n",
            "8  \t [-2.26085933  0.52496983]\t 5.3870782359057\t 0.10287109474532606\t 3.070117435369712\t 3.115802511395018\n",
            "9  \t [-0.62502501 -2.85315332]\t 8.53114012483842\t 0.10287109474532606\t 2.6409198267540686\t 2.672721921394585\n",
            "10 \t [0.84674702 0.23306071]\t 0.7712978061692458\t 0.10287109474532606\t 3.175799568855353\t 2.9097815601564845\n",
            "11 \t [-2.60507102  4.65235553]\t 28.43080699268983\t 0.10287109474532606\t 2.785722712545309\t 3.1796988053525452\n",
            "12 \t [1.98803108 2.25824095]\t 9.051919776580707\t 0.10287109474532606\t 2.5053409993596065\t 2.5014118284938673\n",
            "13 \t [ 0.56324489 -0.19115944]\t 0.35378673904462027\t 0.10287109474532606\t 2.869834836890775\t 2.8870085060841637\n",
            "14 \t [5.11860196 2.27117782]\t 31.35833470135911\t 0.10287109474532606\t 3.0045764544476623\t 3.126435017210628\n",
            "\u001b[1m\u001b[92m15\u001b[0m\t \u001b[1m\u001b[92m[-0.0286015   0.04193915]\u001b[0m\t \u001b[1m\u001b[92m0.002576938007014573\u001b[0m\t \u001b[1m\u001b[92m0.002576938007014573\u001b[0m\t \u001b[1m\u001b[92m2.60906968693337\u001b[0m\t \u001b[1m\u001b[92m2.5683108492119224\u001b[0m\n",
            "16 \t [ 0.48582026 -0.18954356]\t 0.2719480828940556\t 0.002576938007014573\t 2.645095482360647\t 2.8995197578307086\n",
            "17 \t [-5.12 -5.12]\t 52.4288\t 0.002576938007014573\t 2.914534525590575\t 3.168740818256859\n",
            "18 \t [ 0.34008517 -0.1527632 ]\t 0.1389945140355156\t 0.002576938007014573\t 2.9256582338259665\t 2.8292384616422477\n",
            "19 \t [-0.09046963  0.07350908]\t 0.013588337319188105\t 0.002576938007014573\t 2.359570314341371\t 2.393929715737203\n",
            "20 \t [-0.21224325  0.1736005 ]\t 0.07518433244366887\t 0.002576938007014573\t 2.60681197745584\t 2.5059672932256234\n"
          ]
        }
      ],
      "source": [
        "### EXACT GP EI GRADIENTS\n",
        "\n",
        "np.random.seed(run_num_8)\n",
        "surrogate_exact_8 = dGaussianProcess(cov_func, optimize=opt)\n",
        "\n",
        "exact_8 = dGPGO(surrogate_exact_8, Acquisition_grad(util), objfunc, param)\n",
        "exact_8.run(init_evals=n_init, max_iter=iters)\n"
      ]
    },
    {
      "cell_type": "code",
      "execution_count": 42,
      "metadata": {
        "id": "vonm9jyuIv4t",
        "colab": {
          "base_uri": "https://localhost:8080/"
        },
        "outputId": "4ba5c18c-b075-4c60-9044-2682c8f2704d"
      },
      "outputs": [
        {
          "output_type": "stream",
          "name": "stdout",
          "text": [
            "Evaluation \t Proposed point \t  Current eval. \t  Best eval. \t        Exact EI: StdDev. x \t Approx EI: StdDev. x \n",
            "init\t [-5.01376866  0.01919582]\t 25.138244697862262\t 7.349882113053805\t    \t    \n",
            "init\t [-0.04328148 -3.74958562]\t 14.061265633999861\t 7.349882113053805\t    \t    \n",
            "init\t [-3.66478248 -2.88195916]\t 21.736319271030034\t 7.349882113053805\t    \t    \n",
            "init\t [-0.83447623 -2.57944404]\t 7.349882113053805\t 7.349882113053805\t    \t    \n",
            "init\t [-4.25922917 -1.58209393]\t 20.64405433050371\t 7.349882113053805\t    \t    \n",
            "1  \t [4.68664599 5.12      ]\t 48.179050673140004\t 7.349882113053805\t 3.03256471764163\t 2.9827620375590764\n",
            "2  \t [ 4.93512605 -1.14868802]\t 25.674953297624498\t 7.349882113053805\t 3.3117470050281925\t 3.6822132794411115\n",
            "3  \t [-1.47922339  4.44879978]\t 21.979921333163915\t 7.349882113053805\t 2.6305789423110855\t 3.0890031801155717\n",
            "\u001b[1m\u001b[92m4\u001b[0m\t \u001b[1m\u001b[92m[1.09349406 1.13408365]\u001b[0m\t \u001b[1m\u001b[92m2.4818749979390615\u001b[0m\t \u001b[1m\u001b[92m2.4818749979390615\u001b[0m\t \u001b[1m\u001b[92m3.0485900304177926\u001b[0m\t \u001b[1m\u001b[92m3.4867000536194737\u001b[0m\n",
            "5  \t [3.50678683 1.84048058]\t 15.68492261118841\t 2.4818749979390615\t 3.289690741726505\t 3.339016894032377\n",
            "6  \t [-4.58915903  3.28836136]\t 31.873701055425826\t 2.4818749979390615\t 2.8805118895700845\t 3.305664721166281\n",
            "\u001b[1m\u001b[92m7\u001b[0m\t \u001b[1m\u001b[92m[-1.22039756  0.36328903]\u001b[0m\t \u001b[1m\u001b[92m1.6213491168220477\u001b[0m\t \u001b[1m\u001b[92m1.6213491168220477\u001b[0m\t \u001b[1m\u001b[92m2.5793729086613344\u001b[0m\t \u001b[1m\u001b[92m2.925075498298941\u001b[0m\n",
            "8  \t [ 2.7919054  -3.50726473]\t 20.095641667423155\t 1.6213491168220477\t 2.8356579561213895\t 3.2890436257595264\n",
            "9  \t [-5.12 -5.12]\t 52.4288\t 1.6213491168220477\t 3.222251464434069\t 3.1167394724145545\n",
            "\u001b[1m\u001b[92m10\u001b[0m\t \u001b[1m\u001b[92m[ 1.01970088 -0.67944974]\u001b[0m\t \u001b[1m\u001b[92m1.501441826976445\u001b[0m\t \u001b[1m\u001b[92m1.501441826976445\u001b[0m\t \u001b[1m\u001b[92m2.378761332506024\u001b[0m\t \u001b[1m\u001b[92m3.0868756806675917\u001b[0m\n",
            "11 \t [1.47890176 4.51531604]\t 22.57522933350542\t 1.501441826976445\t 2.8442949314803245\t 3.272000344206848\n",
            "12 \t [-2.01404415  1.47202806]\t 6.223240466336925\t 1.501441826976445\t 2.6017826776258146\t 2.900377857511591\n",
            "\u001b[1m\u001b[92m13\u001b[0m\t \u001b[1m\u001b[92m[-0.27036407 -0.40916939]\u001b[0m\t \u001b[1m\u001b[92m0.2405163212189046\u001b[0m\t \u001b[1m\u001b[92m0.2405163212189046\u001b[0m\t \u001b[1m\u001b[92m2.087445319680099\u001b[0m\t \u001b[1m\u001b[92m2.0443671468563234\u001b[0m\n",
            "14 \t [-0.29062083 -0.42762625]\t 0.2673246739546854\t 0.2405163212189046\t 2.540468287828582\t 2.943307176400629\n",
            "15 \t [-1.99447749 -5.12      ]\t 30.192340458278153\t 0.2405163212189046\t 2.892591899815985\t 3.0677899185043187\n",
            "16 \t [-0.32838084 -0.439715  ]\t 0.30118325854204697\t 0.2405163212189046\t 2.9482269172985758\t 3.0380254467676115\n",
            "17 \t [-0.12350316 -0.50839542]\t 0.2737189317768914\t 0.2405163212189046\t 2.6275001780897416\t 2.5009265564800627\n",
            "18 \t [-0.66707187 -0.46010245]\t 0.6566791406724888\t 0.2405163212189046\t 2.531017980094128\t 2.4279073102534996\n",
            "\u001b[1m\u001b[92m19\u001b[0m\t \u001b[1m\u001b[92m[-0.17261709 -0.35360174]\u001b[0m\t \u001b[1m\u001b[92m0.15483084932559446\u001b[0m\t \u001b[1m\u001b[92m0.15483084932559446\u001b[0m\t \u001b[1m\u001b[92m2.784279188906642\u001b[0m\t \u001b[1m\u001b[92m2.9421720908129005\u001b[0m\n",
            "20 \t [-0.01698524 -0.41219554]\t 0.1701936631054812\t 0.15483084932559446\t 2.9896955750010012\t 3.036583354494956\n"
          ]
        }
      ],
      "source": [
        "### EXACT GP EI GRADIENTS\n",
        "\n",
        "np.random.seed(run_num_9)\n",
        "surrogate_exact_9 = dGaussianProcess(cov_func, optimize=opt)\n",
        "\n",
        "exact_9 = dGPGO(surrogate_exact_9, Acquisition_grad(util), objfunc, param)\n",
        "exact_9.run(init_evals=n_init, max_iter=iters)\n"
      ]
    },
    {
      "cell_type": "code",
      "execution_count": 43,
      "metadata": {
        "id": "6amuYlUdIv7r",
        "colab": {
          "base_uri": "https://localhost:8080/"
        },
        "outputId": "a3b8bef5-0989-44a7-a749-57cc710b2348"
      },
      "outputs": [
        {
          "output_type": "stream",
          "name": "stdout",
          "text": [
            "Evaluation \t Proposed point \t  Current eval. \t  Best eval. \t        Exact EI: StdDev. x \t Approx EI: StdDev. x \n",
            "init\t [ 2.77832339 -4.90750004]\t 31.80263747150094\t 7.941821858928501\t    \t    \n",
            "init\t [1.36855793 2.54775176]\t 8.363989812138083\t 7.941821858928501\t    \t    \n",
            "init\t [-0.01528819 -2.81808235]\t 7.941821858928501\t 7.941821858928501\t    \t    \n",
            "init\t [-3.09183626  2.66783449]\t 16.67679237031191\t 7.941821858928501\t    \t    \n",
            "init\t [-3.38830503 -4.2154003 ]\t 29.25021071405309\t 7.941821858928501\t    \t    \n",
            "1  \t [ 5.12       -0.34675903]\t 26.33464182441566\t 7.941821858928501\t 3.4504826861478555\t 3.4752527477872595\n",
            "2  \t [5.12 5.12]\t 52.4288\t 7.941821858928501\t 2.720140825951412\t 2.767647439835728\n",
            "3  \t [-4.21705607 -0.7275049 ]\t 18.31282532366967\t 7.941821858928501\t 2.6896095985137487\t 3.204300078621497\n",
            "4  \t [0.65867346 5.11113959]\t 26.5575986246983\t 7.941821858928501\t 3.687201778840325\t 3.391721540091504\n",
            "\u001b[1m\u001b[92m5\u001b[0m\t \u001b[1m\u001b[92m[ 0.09877078 -0.03903922]\u001b[0m\t \u001b[1m\u001b[92m0.011279726611796229\u001b[0m\t \u001b[1m\u001b[92m0.011279726611796229\u001b[0m\t \u001b[1m\u001b[92m2.966939306171222\u001b[0m\t \u001b[1m\u001b[92m2.8226055136696737\u001b[0m\n",
            "6  \t [ 2.01219052 -0.93942585]\t 4.931431638563069\t 0.011279726611796229\t 3.1149878152408905\t 3.046457762504924\n",
            "7  \t [-0.87518699  0.21447009]\t 0.8119496905345653\t 0.011279726611796229\t 3.051167783519978\t 3.5236210865174122\n",
            "8  \t [3.75275535 2.24584562]\t 19.12699530863282\t 0.011279726611796229\t 2.8860345014615922\t 3.492506696335494\n",
            "9  \t [-0.72794222 -5.12      ]\t 26.744299875273892\t 0.011279726611796229\t 3.0533385487895424\t 3.5042060846470293\n",
            "10 \t [-0.6011932   0.96001604]\t 1.283064070445408\t 0.011279726611796229\t 3.1915638965410515\t 3.5821922257761116\n",
            "11 \t [-2.48567489  5.12      ]\t 32.392979683117936\t 0.011279726611796229\t 2.5227848355125504\t 3.549290690020956\n",
            "12 \t [-0.59608772 -0.59310456]\t 0.7070935933282569\t 0.011279726611796229\t 3.0634314075455578\t 3.187293030813166\n",
            "13 \t [ 5.10978795 -3.28233369]\t 36.88364731784726\t 0.011279726611796229\t 2.826667428897294\t 3.303992287216529\n",
            "14 \t [ 0.23824185 -0.02059983]\t 0.05718352989248215\t 0.011279726611796229\t 2.911362063428083\t 3.2035529940508387\n",
            "15 \t [-0.1018917   0.32948673]\t 0.11894342194584952\t 0.011279726611796229\t 3.124121769284853\t 2.890227362721658\n",
            "16 \t [0.23847408 0.01514371]\t 0.0570992173137873\t 0.011279726611796229\t 2.8491601037352026\t 3.406744341015224\n",
            "17 \t [0.07915416 0.19044044]\t 0.04253294334488636\t 0.011279726611796229\t 2.987520713462404\t 3.0132276046354884\n",
            "18 \t [-1.25516433 -0.91900313]\t 2.4200042304406373\t 0.011279726611796229\t 2.85300798184818\t 2.7544023896246386\n",
            "19 \t [0.17972209 0.27452552]\t 0.10766429327978548\t 0.011279726611796229\t 2.3799910630308854\t 2.078148868437946\n",
            "20 \t [-0.81626982  2.53857869]\t 7.110678167406681\t 0.011279726611796229\t 3.4745014465202266\t 3.253176380282685\n"
          ]
        }
      ],
      "source": [
        "### EXACT GP EI GRADIENTS\n",
        "\n",
        "np.random.seed(run_num_10)\n",
        "surrogate_exact_10 = dGaussianProcess(cov_func, optimize=opt)\n",
        "\n",
        "exact_10 = dGPGO(surrogate_exact_10, Acquisition_grad(util), objfunc, param)\n",
        "exact_10.run(init_evals=n_init, max_iter=iters)\n"
      ]
    },
    {
      "cell_type": "code",
      "execution_count": 44,
      "metadata": {
        "id": "VwbLIP9cIv-F",
        "colab": {
          "base_uri": "https://localhost:8080/"
        },
        "outputId": "4e63b291-35dc-40f7-aad3-eea6d82964e5"
      },
      "outputs": [
        {
          "output_type": "stream",
          "name": "stdout",
          "text": [
            "Evaluation \t Proposed point \t  Current eval. \t  Best eval. \t        Exact EI: StdDev. x \t Approx EI: StdDev. x \n",
            "init\t [-3.27403839 -4.92057353]\t 34.93137118861299\t 0.6899456214148796\t    \t    \n",
            "init\t [-0.37664229  2.30332343]\t 5.447158259491397\t 0.6899456214148796\t    \t    \n",
            "init\t [-0.81711509 -0.14922651]\t 0.6899456214148796\t 0.6899456214148796\t    \t    \n",
            "init\t [-4.98912446 -0.12931474]\t 24.908085165573997\t 0.6899456214148796\t    \t    \n",
            "init\t [4.52410012 3.59214172]\t 33.37096399795931\t 0.6899456214148796\t    \t    \n",
            "1  \t [ 3.03550212 -4.46785095]\t 29.17596522689979\t 0.6899456214148796\t 2.7729845617185123\t 3.810016795891542\n",
            "2  \t [ 4.94072018 -0.61728397]\t 24.791755402212313\t 0.6899456214148796\t 2.1983717287658138\t 3.0708832173445963\n",
            "3  \t [-1.19896852  5.12      ]\t 27.651925507645664\t 0.6899456214148796\t 3.1472834956018274\t 3.6879522048049544\n",
            "4  \t [ 1.19392454 -1.30462948]\t 3.1275138631117585\t 0.6899456214148796\t 2.4386609786555193\t 2.7397588473341665\n",
            "5  \t [-3.74685469  2.91006244]\t 22.507383479647885\t 0.6899456214148796\t 2.768604803899244\t 2.7922107654101063\n",
            "6  \t [-0.94072899 -2.50653316]\t 7.167679521792622\t 0.6899456214148796\t 2.933999434865043\t 2.839570720339046\n",
            "7  \t [1.91032258 1.46522271]\t 5.796209958841573\t 0.6899456214148796\t 3.126456440202559\t 3.3911596233524284\n",
            "8  \t [-0.18568613 -5.11439177]\t 26.19148250463699\t 0.6899456214148796\t 2.990845628771488\t 3.224637203645997\n",
            "9  \t [-1.87365161  0.0939219 ]\t 3.5193916661505575\t 0.6899456214148796\t 2.9334170769430137\t 3.1638996769922847\n",
            "\u001b[1m\u001b[92m10\u001b[0m\t \u001b[1m\u001b[92m[-0.0313092  -0.03721985]\u001b[0m\t \u001b[1m\u001b[92m0.002365582999738933\u001b[0m\t \u001b[1m\u001b[92m0.002365582999738933\u001b[0m\t \u001b[1m\u001b[92m2.6562900965000265\u001b[0m\t \u001b[1m\u001b[92m3.3578577544029344\u001b[0m\n",
            "11 \t [2.06930297 5.11133593]\t 30.407769764186295\t 0.002365582999738933\t 3.0439330175350934\t 3.320406084480782\n",
            "12 \t [ 0.18772054 -0.15307971]\t 0.05867239916543553\t 0.002365582999738933\t 2.8069227420593794\t 2.938202855110717\n",
            "13 \t [ 0.2768952  -0.21637062]\t 0.12348719848185699\t 0.002365582999738933\t 2.841686159666104\t 3.2178456285445662\n",
            "14 \t [-5.12       -2.87014166]\t 34.452113166016275\t 0.002365582999738933\t 3.0639418003210275\t 2.9657121476248856\n",
            "15 \t [ 0.62034407 -0.36822239]\t 0.5204144903106316\t 0.002365582999738933\t 2.8396894332726843\t 2.9221966549162812\n",
            "16 \t [-0.49755403  0.5422625 ]\t 0.5416086299261947\t 0.002365582999738933\t 3.1167293940809673\t 3.437314563277335\n",
            "17 \t [ 0.24095397 -0.1837571 ]\t 0.0918254904078234\t 0.002365582999738933\t 2.175773722608336\t 1.9254532680876517\n",
            "\u001b[1m\u001b[92m18\u001b[0m\t \u001b[1m\u001b[92m[0.0017779  0.02713521]\u001b[0m\t \u001b[1m\u001b[92m0.0007394804061057111\u001b[0m\t \u001b[1m\u001b[92m0.0007394804061057111\u001b[0m\t \u001b[1m\u001b[92m2.822062790281361\u001b[0m\t \u001b[1m\u001b[92m2.962632544000894\u001b[0m\n",
            "19 \t [ 0.11774169 -0.07973266]\t 0.020220403848623857\t 0.0007394804061057111\t 2.599286154340518\t 2.825761672461819\n",
            "20 \t [ 5.12       -3.25323415]\t 36.79793245114431\t 0.0007394804061057111\t 2.84714418867211\t 2.7281385224917454\n"
          ]
        }
      ],
      "source": [
        "### EXACT GP EI GRADIENTS\n",
        "\n",
        "np.random.seed(run_num_11)\n",
        "surrogate_exact_11 = dGaussianProcess(cov_func, optimize=opt)\n",
        "\n",
        "exact_11 = dGPGO(surrogate_exact_11, Acquisition_grad(util), objfunc, param)\n",
        "exact_11.run(init_evals=n_init, max_iter=iters)\n"
      ]
    },
    {
      "cell_type": "code",
      "execution_count": 45,
      "metadata": {
        "id": "MlUNFjc-JTBY",
        "colab": {
          "base_uri": "https://localhost:8080/"
        },
        "outputId": "bae994c7-2271-4e67-d254-cfb24c9a5fae"
      },
      "outputs": [
        {
          "output_type": "stream",
          "name": "stdout",
          "text": [
            "Evaluation \t Proposed point \t  Current eval. \t  Best eval. \t        Exact EI: StdDev. x \t Approx EI: StdDev. x \n",
            "init\t [-3.54137249  2.45810889]\t 18.583618467979093\t 5.993464196233534\t    \t    \n",
            "init\t [-2.42365424  0.34549139]\t 5.993464196233534\t 5.993464196233534\t    \t    \n",
            "init\t [-4.97075238  4.28796936]\t 43.09506052206225\t 5.993464196233534\t    \t    \n",
            "init\t [ 4.10332011 -4.77776458]\t 39.66427028607538\t 5.993464196233534\t    \t    \n",
            "init\t [ 4.6791612  -3.71497655]\t 35.6956003298903\t 5.993464196233534\t    \t    \n",
            "1  \t [5.12       4.28576605]\t 44.58219063385849\t 5.993464196233534\t 3.706152958826067\t 3.6472542000496966\n",
            "2  \t [-5.12       -4.85983818]\t 49.83242712805688\t 5.993464196233534\t 3.517858179236281\t 3.2920779587731905\n",
            "3  \t [0.29710703 5.12      ]\t 26.30267258716383\t 5.993464196233534\t 2.925311694942049\t 2.922731566012587\n",
            "\u001b[1m\u001b[92m4\u001b[0m\t \u001b[1m\u001b[92m[1.89092034 0.56120834]\u001b[0m\t \u001b[1m\u001b[92m3.8905345163315044\u001b[0m\t \u001b[1m\u001b[92m3.8905345163315044\u001b[0m\t \u001b[1m\u001b[92m2.502239541713704\u001b[0m\t \u001b[1m\u001b[92m2.5659035732558535\u001b[0m\n",
            "5  \t [-0.44602232 -4.06809875]\t 16.748363342391862\t 3.8905345163315044\t 3.0881481455669952\t 2.8599448715604994\n",
            "6  \t [-5.12       -1.02490031]\t 27.26482065105182\t 3.8905345163315044\t 3.0655752307675197\t 3.1787781467531966\n",
            "7  \t [5.12       0.25060165]\t 26.27720118747975\t 3.8905345163315044\t 2.680923537961216\t 2.8050231493103466\n",
            "\u001b[1m\u001b[92m8\u001b[0m\t \u001b[1m\u001b[92m[ 0.29799828 -1.18909279]\u001b[0m\t \u001b[1m\u001b[92m1.502744632266398\u001b[0m\t \u001b[1m\u001b[92m1.502744632266398\u001b[0m\t \u001b[1m\u001b[92m2.7609579068067767\u001b[0m\t \u001b[1m\u001b[92m2.5865356817912164\u001b[0m\n",
            "9  \t [0.0355585  1.67219201]\t 2.79749053099472\t 1.502744632266398\t 2.768356948221685\t 2.55364946691919\n",
            "10 \t [ 1.89514274 -1.80263869]\t 6.841072247413685\t 1.502744632266398\t 2.8854100501958087\t 3.054225245694061\n",
            "11 \t [-2.51765612 -1.62388318]\t 8.975588926445141\t 1.502744632266398\t 2.8110633721786367\t 2.9700016509370686\n",
            "12 \t [2.46070001 2.56280858]\t 12.623032361400142\t 1.502744632266398\t 2.494027103400479\t 2.6625329047400093\n",
            "\u001b[1m\u001b[92m13\u001b[0m\t \u001b[1m\u001b[92m[-0.18435938 -0.32678041]\u001b[0m\t \u001b[1m\u001b[92m0.1407738178613781\u001b[0m\t \u001b[1m\u001b[92m0.1407738178613781\u001b[0m\t \u001b[1m\u001b[92m2.6362005573901843\u001b[0m\t \u001b[1m\u001b[92m2.7000523047685676\u001b[0m\n",
            "\u001b[1m\u001b[92m14\u001b[0m\t \u001b[1m\u001b[92m[-0.32302787 -0.00324391]\u001b[0m\t \u001b[1m\u001b[92m0.10435753084545982\u001b[0m\t \u001b[1m\u001b[92m0.10435753084545982\u001b[0m\t \u001b[1m\u001b[92m2.8960765588766426\u001b[0m\t \u001b[1m\u001b[92m2.7776648055030497\u001b[0m\n",
            "15 \t [-0.17378885 -0.29462135]\t 0.11700430270193221\t 0.10435753084545982\t 3.1590568233285587\t 3.1531520645950906\n",
            "16 \t [-2.17141446  5.05240132]\t 30.24179984849862\t 0.10435753084545982\t 2.9882646022664185\t 3.217957283067463\n",
            "17 \t [-0.40181577  0.13223068]\t 0.17894086759268474\t 0.10435753084545982\t 2.6756192015487708\t 2.8510569782359827\n",
            "\u001b[1m\u001b[92m18\u001b[0m\t \u001b[1m\u001b[92m[-0.28983173 -0.06797926]\u001b[0m\t \u001b[1m\u001b[92m0.08862361302057085\u001b[0m\t \u001b[1m\u001b[92m0.08862361302057085\u001b[0m\t \u001b[1m\u001b[92m3.134791534072587\u001b[0m\t \u001b[1m\u001b[92m3.0262100037180346\u001b[0m\n",
            "19 \t [-0.03902584 -0.63747279]\t 0.40789457038947136\t 0.08862361302057085\t 2.788695996655904\t 2.964921670173821\n",
            "20 \t [-0.04211177 -0.57758166]\t 0.33537397912376354\t 0.08862361302057085\t 2.552599192210484\t 2.244512399381217\n"
          ]
        }
      ],
      "source": [
        "### EXACT GP EI GRADIENTS\n",
        "\n",
        "np.random.seed(run_num_12)\n",
        "surrogate_exact_12 = dGaussianProcess(cov_func, optimize=opt)\n",
        "\n",
        "exact_12 = dGPGO(surrogate_exact_12, Acquisition_grad(util), objfunc, param)\n",
        "exact_12.run(init_evals=n_init, max_iter=iters)\n"
      ]
    },
    {
      "cell_type": "code",
      "execution_count": 46,
      "metadata": {
        "id": "9BsKdU9eJTFL",
        "colab": {
          "base_uri": "https://localhost:8080/"
        },
        "outputId": "dfa93f32-0fde-41f6-f9ae-a7dab223c117"
      },
      "outputs": [
        {
          "output_type": "stream",
          "name": "stdout",
          "text": [
            "Evaluation \t Proposed point \t  Current eval. \t  Best eval. \t        Exact EI: StdDev. x \t Approx EI: StdDev. x \n",
            "init\t [ 2.84367268 -2.68757791]\t 15.30954934064491\t 7.271500601275535\t    \t    \n",
            "init\t [3.32061217 4.76927179]\t 33.772418600555795\t 7.271500601275535\t    \t    \n",
            "init\t [ 4.83943541 -0.47667971]\t 23.647358595121606\t 7.271500601275535\t    \t    \n",
            "init\t [1.11659482 2.82139151]\t 9.20703403927425\t 7.271500601275535\t    \t    \n",
            "init\t [1.45012065 2.27346667]\t 7.271500601275535\t 7.271500601275535\t    \t    \n",
            "1  \t [-4.18648609 -2.4678052 ]\t 23.616728302103265\t 7.271500601275535\t 2.7101692684657377\t 3.110616125154259\n",
            "2  \t [-3.79946932  2.66821301]\t 21.55532775288146\t 7.271500601275535\t 3.028921333383371\t 3.651696133674454\n",
            "3  \t [-0.69739246 -5.12      ]\t 26.700756242868632\t 7.271500601275535\t 2.693982721862383\t 3.330982002640907\n",
            "\u001b[1m\u001b[92m4\u001b[0m\t \u001b[1m\u001b[92m[-0.58669696 -0.75006876]\u001b[0m\t \u001b[1m\u001b[92m0.9068164551257099\u001b[0m\t \u001b[1m\u001b[92m0.9068164551257099\u001b[0m\t \u001b[1m\u001b[92m2.8308880879152523\u001b[0m\t \u001b[1m\u001b[92m3.264459692574259\u001b[0m\n",
            "5  \t [-0.94715615  5.12      ]\t 27.111504777750348\t 0.9068164551257099\t 3.5357747272999447\t 3.9141750812754914\n",
            "6  \t [-5.12 -5.12]\t 52.4288\t 0.9068164551257099\t 2.5919522824489425\t 2.9771044693187627\n",
            "7  \t [ 1.14875181 -0.38629088]\t 1.468851367931218\t 0.9068164551257099\t 2.8438956439644762\t 3.367841912317012\n",
            "8  \t [-1.62986217 -0.27148932]\t 2.7301571473542037\t 0.9068164551257099\t 2.683393348018386\t 3.202169911538697\n",
            "9  \t [-0.73754725 -1.95261332]\t 4.3566747160213\t 0.9068164551257099\t 2.7519699269859736\t 3.5286906924320567\n",
            "10 \t [-1.03210041  1.39305785]\t 3.0058414258925037\t 0.9068164551257099\t 2.6370046809385217\t 3.6053747839782906\n",
            "11 \t [5.10029824 2.68413919]\t 33.21764531035628\t 0.9068164551257099\t 2.9635892584810524\t 3.8990790894055967\n",
            "12 \t [-5.12        0.21018205]\t 26.258576492783664\t 0.9068164551257099\t 2.650217137011498\t 3.2510528031561687\n",
            "13 \t [-3.58976335  5.12      ]\t 39.10080089176151\t 0.9068164551257099\t 2.925392937897431\t 3.5437875031123163\n",
            "14 \t [ 2.19054181 -5.12      ]\t 31.012873436892022\t 0.9068164551257099\t 2.458860110401954\t 2.7532622453697253\n",
            "15 \t [1.776081   0.15242653]\t 3.1776975586574285\t 0.9068164551257099\t 2.5745415467376085\t 2.6841957133894705\n",
            "\u001b[1m\u001b[92m16\u001b[0m\t \u001b[1m\u001b[92m[-0.05377644 -0.00922197]\u001b[0m\t \u001b[1m\u001b[92m0.002976950507583711\u001b[0m\t \u001b[1m\u001b[92m0.002976950507583711\u001b[0m\t \u001b[1m\u001b[92m2.5694568944874545\u001b[0m\t \u001b[1m\u001b[92m2.097197541279145\u001b[0m\n",
            "17 \t [ 5.04930907 -3.11609368]\t 35.20556187022642\t 0.002976950507583711\t 3.3707488828666974\t 3.676867019853846\n",
            "18 \t [ 0.36901157 -0.56225198]\t 0.45229682812107264\t 0.002976950507583711\t 2.1917750632259185\t 2.0711149547248344\n",
            "19 \t [ 0.74581684 -2.22840803]\t 5.522045098317\t 0.002976950507583711\t 2.9516298239635357\t 2.7381999554943928\n",
            "20 \t [-0.91598937  0.79672829]\t 1.473812491066273\t 0.002976950507583711\t 3.2286711950025833\t 3.133279922614427\n"
          ]
        }
      ],
      "source": [
        "### EXACT GP EI GRADIENTS\n",
        "\n",
        "np.random.seed(run_num_13)\n",
        "surrogate_exact_13 = dGaussianProcess(cov_func, optimize=opt)\n",
        "\n",
        "exact_13 = dGPGO(surrogate_exact_13, Acquisition_grad(util), objfunc, param)\n",
        "exact_13.run(init_evals=n_init, max_iter=iters)\n"
      ]
    },
    {
      "cell_type": "code",
      "execution_count": 47,
      "metadata": {
        "id": "k6GjFBr1JTJf",
        "colab": {
          "base_uri": "https://localhost:8080/"
        },
        "outputId": "6e406008-c95e-44ae-ea35-aa80b4b268b2"
      },
      "outputs": [
        {
          "output_type": "stream",
          "name": "stdout",
          "text": [
            "Evaluation \t Proposed point \t  Current eval. \t  Best eval. \t        Exact EI: StdDev. x \t Approx EI: StdDev. x \n",
            "init\t [0.14277984 2.79721013]\t 7.844770612568215\t 3.480496204392171\t    \t    \n",
            "init\t [ 3.7931795  -5.03759925]\t 39.765616906968944\t 3.480496204392171\t    \t    \n",
            "init\t [-1.94830412  4.68586229]\t 25.753194366239512\t 3.480496204392171\t    \t    \n",
            "init\t [ 0.13431513 -1.86076749]\t 3.480496204392171\t 3.480496204392171\t    \t    \n",
            "init\t [ 0.40140736 -2.85434939]\t 8.308438305616814\t 3.480496204392171\t    \t    \n",
            "1  \t [-5.12       -0.19377072]\t 26.25194709281843\t 3.480496204392171\t 3.8433556444900305\t 3.852404541346902\n",
            "2  \t [5.12 5.12]\t 52.4288\t 3.480496204392171\t 4.18329250033217\t 3.728915622685821\n",
            "3  \t [-4.34551125 -5.12      ]\t 45.09786803255743\t 3.480496204392171\t 2.853915855586737\t 3.193505372075696\n",
            "4  \t [ 5.12       -0.05216576]\t 26.21712126687544\t 3.480496204392171\t 2.893799062320016\t 3.348050300772215\n",
            "\u001b[1m\u001b[92m5\u001b[0m\t \u001b[1m\u001b[92m[-1.73473933  0.36160505]\u001b[0m\t \u001b[1m\u001b[92m3.140078760998255\u001b[0m\t \u001b[1m\u001b[92m3.140078760998255\u001b[0m\t \u001b[1m\u001b[92m2.6838252416527255\u001b[0m\t \u001b[1m\u001b[92m2.2514534138508564\u001b[0m\n",
            "\u001b[1m\u001b[92m6\u001b[0m\t \u001b[1m\u001b[92m[1.71751028 0.16853404]\u001b[0m\t \u001b[1m\u001b[92m2.978245272120911\u001b[0m\t \u001b[1m\u001b[92m2.978245272120911\u001b[0m\t \u001b[1m\u001b[92m2.5709118667741047\u001b[0m\t \u001b[1m\u001b[92m2.549695298998288\u001b[0m\n",
            "7  \t [1.777634  5.0862412]\t 29.029832152542937\t 2.978245272120911\t 2.5450515049421374\t 2.6551019393497843\n",
            "8  \t [-5.12        3.49996002]\t 38.46412012157959\t 2.978245272120911\t 2.8693959482545783\t 3.198960578831279\n",
            "9  \t [-0.91830171 -5.12      ]\t 27.057678035656014\t 2.978245272120911\t 3.081832598256094\t 2.8262157120448097\n",
            "10 \t [-2.63603928 -1.98604256]\t 10.893068101271455\t 2.978245272120911\t 2.605619421463406\t 2.3881909473952905\n",
            "11 \t [ 2.87453338 -2.00907246]\t 12.29931428143556\t 2.978245272120911\t 3.1471117291426594\t 2.973119548644076\n",
            "12 \t [2.89987677 2.23804542]\t 13.418132571688997\t 2.978245272120911\t 2.6969445543750723\t 2.9964885241347847\n",
            "13 \t [-2.74398513  1.8749601 ]\t 11.044929765692375\t 2.978245272120911\t 2.7098669017831547\t 3.0004266362569867\n",
            "\u001b[1m\u001b[92m14\u001b[0m\t \u001b[1m\u001b[92m[-0.08457467  0.04622276]\u001b[0m\t \u001b[1m\u001b[92m0.009289418633436308\u001b[0m\t \u001b[1m\u001b[92m0.009289418633436308\u001b[0m\t \u001b[1m\u001b[92m2.7738733851556683\u001b[0m\t \u001b[1m\u001b[92m2.680143631184448\u001b[0m\n",
            "\u001b[1m\u001b[92m15\u001b[0m\t \u001b[1m\u001b[92m[-0.03657922 -0.00349482]\u001b[0m\t \u001b[1m\u001b[92m0.0013502532454803136\u001b[0m\t \u001b[1m\u001b[92m0.0013502532454803136\u001b[0m\t \u001b[1m\u001b[92m2.8041625709340585\u001b[0m\t \u001b[1m\u001b[92m2.86645988660029\u001b[0m\n",
            "16 \t [-0.00999398 -0.04235919]\t 0.0018941809515062619\t 0.0013502532454803136\t 2.9518671464678476\t 2.6465498180543876\n",
            "17 \t [ 0.2396319  -0.31187029]\t 0.1546865289668301\t 0.0013502532454803136\t 2.925074478964754\t 2.986152527045189\n",
            "18 \t [-0.20237229  0.27184098]\t 0.11485206518960478\t 0.0013502532454803136\t 2.2054687260432577\t 2.4814966149420603\n",
            "19 \t [ 0.51241474 -0.4971584 ]\t 0.5097353381386753\t 0.0013502532454803136\t 2.8520691860064855\t 3.0049865955581607\n",
            "20 \t [ 0.04796445 -0.12284853]\t 0.017392348926751813\t 0.0013502532454803136\t 2.593297398106645\t 2.5450190900665364\n"
          ]
        }
      ],
      "source": [
        "### EXACT GP EI GRADIENTS\n",
        "\n",
        "np.random.seed(run_num_14)\n",
        "surrogate_exact_14 = dGaussianProcess(cov_func, optimize=opt)\n",
        "\n",
        "exact_14 = dGPGO(surrogate_exact_14, Acquisition_grad(util), objfunc, param)\n",
        "exact_14.run(init_evals=n_init, max_iter=iters)\n"
      ]
    },
    {
      "cell_type": "code",
      "execution_count": 48,
      "metadata": {
        "id": "dPS8WB3aJTN6",
        "colab": {
          "base_uri": "https://localhost:8080/"
        },
        "outputId": "70a226cd-7e5e-4043-9a36-6f970e83bbad"
      },
      "outputs": [
        {
          "output_type": "stream",
          "name": "stdout",
          "text": [
            "Evaluation \t Proposed point \t  Current eval. \t  Best eval. \t        Exact EI: StdDev. x \t Approx EI: StdDev. x \n",
            "init\t [ 3.57189322 -3.28810573]\t 23.57006045912445\t 5.383887924980681\t    \t    \n",
            "init\t [-4.56332069 -1.41784631]\t 22.834183843344235\t 5.383887924980681\t    \t    \n",
            "init\t [-2.29989449  0.3072023 ]\t 5.383887924980681\t 5.383887924980681\t    \t    \n",
            "init\t [-1.9873903  -2.00218256]\t 7.958455228543059\t 5.383887924980681\t    \t    \n",
            "init\t [-3.97576933 -2.5610341 ]\t 22.365637431409507\t 5.383887924980681\t    \t    \n",
            "1  \t [5.12       4.67669476]\t 48.08587386986069\t 5.383887924980681\t 3.7202584499501694\t 3.743810332372512\n",
            "2  \t [-0.5836373  5.12     ]\t 26.555032493543965\t 5.383887924980681\t 2.857958845972583\t 3.482261484459948\n",
            "3  \t [-5.12        3.54942235]\t 38.81279901094424\t 5.383887924980681\t 2.9199525034656\t 3.5194251123619176\n",
            "4  \t [2.58493343 0.8618431 ]\t 7.42465433620531\t 5.383887924980681\t 2.683526074122542\t 2.533751368032287\n",
            "5  \t [-0.98214977 -5.12      ]\t 27.17901817882703\t 5.383887924980681\t 3.2520817242383533\t 3.180985722301554\n",
            "6  \t [5.12       0.05371803]\t 26.21728562686703\t 5.383887924980681\t 3.2157208072515453\t 3.3564475592304936\n",
            "\u001b[1m\u001b[92m7\u001b[0m\t \u001b[1m\u001b[92m[ 0.79602367 -1.54285557]\u001b[0m\t \u001b[1m\u001b[92m3.0140569942879485\u001b[0m\t \u001b[1m\u001b[92m3.0140569942879485\u001b[0m\t \u001b[1m\u001b[92m2.7688615319912926\u001b[0m\t \u001b[1m\u001b[92m2.486186519624413\u001b[0m\n",
            "8  \t [-0.10956268  1.86509132]\t 3.490569612591535\t 3.0140569942879485\t 3.270393611156641\t 3.4617654263193924\n",
            "9  \t [-5.12 -5.12]\t 52.4288\t 3.0140569942879485\t 2.549249899283367\t 2.5451711188254866\n",
            "10 \t [2.06222148 4.51070733]\t 24.599238093913012\t 3.0140569942879485\t 2.904093580566784\t 3.053870804405337\n",
            "11 \t [ 1.77988129 -5.12      ]\t 29.382377411351715\t 3.0140569942879485\t 2.2645304682571807\t 2.7756336034332096\n",
            "12 \t [-2.22312253  2.60271906]\t 11.716420268764978\t 3.0140569942879485\t 2.383239941119797\t 2.2470558203503344\n",
            "13 \t [-5.12        0.85608198]\t 26.947276355212086\t 3.0140569942879485\t 3.0087142963117026\t 3.1263021132893427\n",
            "\u001b[1m\u001b[92m14\u001b[0m\t \u001b[1m\u001b[92m[0.00407569 0.02953719]\u001b[0m\t \u001b[1m\u001b[92m0.0008890567821542255\u001b[0m\t \u001b[1m\u001b[92m0.0008890567821542255\u001b[0m\t \u001b[1m\u001b[92m2.6800903502626006\u001b[0m\t \u001b[1m\u001b[92m2.8425953948414246\u001b[0m\n",
            "15 \t [ 0.20209549 -0.09399887]\t 0.049678375401887395\t 0.0008890567821542255\t 2.030626568304228\t 2.2386856556926937\n",
            "16 \t [ 0.46987659 -0.26595757]\t 0.29151743590426554\t 0.0008890567821542255\t 3.037915670773954\t 3.024435899640897\n",
            "17 \t [-0.06821799  0.08690465]\t 0.012206112119657709\t 0.0008890567821542255\t 2.4488861407619313\t 3.004812688593561\n",
            "\u001b[1m\u001b[92m18\u001b[0m\t \u001b[1m\u001b[92m[0.00440757 0.01792933]\u001b[0m\t \u001b[1m\u001b[92m0.00034088754891575975\u001b[0m\t \u001b[1m\u001b[92m0.00034088754891575975\u001b[0m\t \u001b[1m\u001b[92m2.9035088891253236\u001b[0m\t \u001b[1m\u001b[92m2.8276287517074357\u001b[0m\n",
            "19 \t [ 0.24770464 -0.14547316]\t 0.08252003165425353\t 0.00034088754891575975\t 3.071871842138192\t 3.1215641348456358\n",
            "20 \t [ 0.06976401 -0.02810224]\t 0.00565675343143459\t 0.00034088754891575975\t 2.493260483276148\t 2.4867147488597805\n"
          ]
        }
      ],
      "source": [
        "### EXACT GP EI GRADIENTS\n",
        "\n",
        "np.random.seed(run_num_15)\n",
        "surrogate_exact_15 = dGaussianProcess(cov_func, optimize=opt)\n",
        "\n",
        "exact_15 = dGPGO(surrogate_exact_15, Acquisition_grad(util), objfunc, param)\n",
        "exact_15.run(init_evals=n_init, max_iter=iters)\n"
      ]
    },
    {
      "cell_type": "code",
      "execution_count": 49,
      "metadata": {
        "id": "lu8ki9XIQPPN",
        "colab": {
          "base_uri": "https://localhost:8080/"
        },
        "outputId": "e8c1a7ce-171c-497d-c5c5-2b7350979a1f"
      },
      "outputs": [
        {
          "output_type": "stream",
          "name": "stdout",
          "text": [
            "Evaluation \t Proposed point \t  Current eval. \t  Best eval. \t        Exact EI: StdDev. x \t Approx EI: StdDev. x \n",
            "init\t [-2.83349935  0.23719262]\t 8.084978900492077\t 8.084978900492077\t    \t    \n",
            "init\t [ 0.51918292 -4.65303603]\t 21.92029520206884\t 8.084978900492077\t    \t    \n",
            "init\t [-1.42613673 -2.83565116]\t 10.074783446012654\t 8.084978900492077\t    \t    \n",
            "init\t [ 1.9325559  -3.44339021]\t 15.591708419712269\t 8.084978900492077\t    \t    \n",
            "init\t [-4.39987336  4.51595121]\t 39.75270093978162\t 8.084978900492077\t    \t    \n",
            "1  \t [3.27469422 5.12      ]\t 36.93802224021954\t 8.084978900492077\t 3.825356591194429\t 3.915577822285509\n",
            "2  \t [5.12       0.30279176]\t 26.30608285158056\t 8.084978900492077\t 3.3623768210417824\t 3.2654498313471634\n",
            "3  \t [-5.12 -5.12]\t 52.4288\t 8.084978900492077\t 3.4784760981568756\t 3.622571357865123\n",
            "\u001b[1m\u001b[92m4\u001b[0m\t \u001b[1m\u001b[92m[0.90509598 1.39472461]\u001b[0m\t \u001b[1m\u001b[92m2.7644554690851795\u001b[0m\t \u001b[1m\u001b[92m2.7644554690851795\u001b[0m\t \u001b[1m\u001b[92m2.5424251048832587\u001b[0m\t \u001b[1m\u001b[92m3.2461306973511617\u001b[0m\n",
            "5  \t [-0.22984736  3.68951112]\t 13.665322149736932\t 2.7644554690851795\t 2.8174873745950633\t 3.3796421866624025\n",
            "6  \t [ 5.12       -3.30856148]\t 37.16097906009051\t 2.7644554690851795\t 3.1660946135412877\t 3.5658293105686147\n",
            "7  \t [ 1.7662653  -0.53438298]\t 3.405258277603221\t 2.7644554690851795\t 2.989765323134959\t 2.8302848864740247\n",
            "8  \t [-5.12       -1.51268572]\t 28.502618085438144\t 2.7644554690851795\t 2.553281984296044\t 2.944094063815705\n",
            "9  \t [5.12      3.3086868]\t 37.16180831487841\t 2.7644554690851795\t 2.9666223168903048\t 2.985487833679717\n",
            "\u001b[1m\u001b[92m10\u001b[0m\t \u001b[1m\u001b[92m[-0.48087732  0.05527956]\u001b[0m\t \u001b[1m\u001b[92m0.23429882986242453\u001b[0m\t \u001b[1m\u001b[92m0.23429882986242453\u001b[0m\t \u001b[1m\u001b[92m2.9938347463324937\u001b[0m\t \u001b[1m\u001b[92m3.243955863453338\u001b[0m\n",
            "11 \t [-0.50124305  0.10819238]\t 0.2629501819446529\t 0.23429882986242453\t 3.0969823369028493\t 3.1649677314580678\n",
            "12 \t [-5.02293657  1.37920789]\t 27.132106203787\t 0.23429882986242453\t 3.131615702115954\t 3.2521694511924575\n",
            "13 \t [-0.49642079 -0.0187559 ]\t 0.24678538489412463\t 0.23429882986242453\t 2.557965545651911\t 2.356970427473007\n",
            "14 \t [-0.18894068 -0.59428007]\t 0.388867377503376\t 0.23429882986242453\t 2.655495433847078\t 2.4472363385807188\n",
            "15 \t [-0.36667908 -0.3198913 ]\t 0.23678399065098557\t 0.23429882986242453\t 2.5859517229957354\t 2.6451134707784276\n",
            "\u001b[1m\u001b[92m16\u001b[0m\t \u001b[1m\u001b[92m[-0.46743382 -0.01963764]\u001b[0m\t \u001b[1m\u001b[92m0.21888000877021466\u001b[0m\t \u001b[1m\u001b[92m0.21888000877021466\u001b[0m\t \u001b[1m\u001b[92m2.785563843771526\u001b[0m\t \u001b[1m\u001b[92m2.799168903068222\u001b[0m\n",
            "\u001b[1m\u001b[92m17\u001b[0m\t \u001b[1m\u001b[92m[-0.4315415  -0.17539525]\u001b[0m\t \u001b[1m\u001b[92m0.21699155487813748\u001b[0m\t \u001b[1m\u001b[92m0.21699155487813748\u001b[0m\t \u001b[1m\u001b[92m3.1230108333326347\u001b[0m\t \u001b[1m\u001b[92m2.9538558810302695\u001b[0m\n",
            "18 \t [-0.49644731  0.18803696]\t 0.28181782683538725\t 0.21699155487813748\t 2.652507820454351\t 2.806535330724681\n",
            "19 \t [-0.49853445  0.11977554]\t 0.2628827753088589\t 0.21699155487813748\t 2.799110509842272\t 2.6214400829890376\n",
            "20 \t [-0.55174454  0.41381094]\t 0.4756615376715064\t 0.21699155487813748\t 3.031279717104509\t 3.1469818539432457\n"
          ]
        }
      ],
      "source": [
        "### EXACT GP EI GRADIENTS\n",
        "\n",
        "np.random.seed(run_num_16)\n",
        "surrogate_exact_16 = dGaussianProcess(cov_func, optimize=opt)\n",
        "\n",
        "exact_16 = dGPGO(surrogate_exact_16, Acquisition_grad(util), objfunc, param)\n",
        "exact_16.run(init_evals=n_init, max_iter=iters)\n"
      ]
    },
    {
      "cell_type": "code",
      "execution_count": 50,
      "metadata": {
        "id": "yU2SflSsJTUs",
        "colab": {
          "base_uri": "https://localhost:8080/"
        },
        "outputId": "5d87b551-cf73-42dd-f82f-b524d8dffc5c"
      },
      "outputs": [
        {
          "output_type": "stream",
          "name": "stdout",
          "text": [
            "Evaluation \t Proposed point \t  Current eval. \t  Best eval. \t        Exact EI: StdDev. x \t Approx EI: StdDev. x \n",
            "init\t [-2.10263037  0.31320838]\t 4.519153970964611\t 2.5824114132885994\t    \t    \n",
            "init\t [-3.15882714 -4.42470033]\t 29.556161939946307\t 2.5824114132885994\t    \t    \n",
            "init\t [2.93873111 1.60085526]\t 11.198878112253603\t 2.5824114132885994\t    \t    \n",
            "init\t [1.40821398 0.77417363]\t 2.5824114132885994\t 2.5824114132885994\t    \t    \n",
            "init\t [-4.71999574 -1.45598869]\t 24.39826283453718\t 2.5824114132885994\t    \t    \n",
            "1  \t [ 4.96008736 -4.44720822]\t 44.38012757656366\t 2.5824114132885994\t 3.2236213682158397\t 4.367448507407332\n",
            "2  \t [-1.21990793  5.12      ]\t 27.70257535209655\t 2.5824114132885994\t 3.242166428714759\t 3.3817932354927467\n",
            "3  \t [5.12 5.12]\t 52.4288\t 2.5824114132885994\t 3.3045958950289966\t 3.4231739188117\n",
            "4  \t [ 0.90891898 -3.03876689]\t 10.060237903108394\t 2.5824114132885994\t 3.2017762225381436\t 3.6492752226150484\n",
            "5  \t [-4.82762476  2.72283122]\t 30.719770625377336\t 2.5824114132885994\t 2.630237871816265\t 3.5988250964486013\n",
            "6  \t [5.02845008 0.21349356]\t 25.330889731953516\t 2.5824114132885994\t 2.4327287872837395\t 2.9317814545532417\n",
            "7  \t [-0.24487835  2.10661128]\t 4.497776491685344\t 2.5824114132885994\t 2.630813807073249\t 2.71135056999477\n",
            "8  \t [1.84859581 5.12      ]\t 29.631706478505965\t 2.5824114132885994\t 3.2039324309613164\t 3.344151880399693\n",
            "9  \t [-0.12747702 -5.12      ]\t 26.23065039007197\t 2.5824114132885994\t 3.198999981278713\t 3.58977088023755\n",
            "\u001b[1m\u001b[92m10\u001b[0m\t \u001b[1m\u001b[92m[-0.15543241 -0.50416569]\u001b[0m\t \u001b[1m\u001b[92m0.27834227115707555\u001b[0m\t \u001b[1m\u001b[92m0.27834227115707555\u001b[0m\t \u001b[1m\u001b[92m2.3377486203744953\u001b[0m\t \u001b[1m\u001b[92m2.674226020819976\u001b[0m\n",
            "11 \t [ 2.82141853 -1.62210961]\t 10.591642119534711\t 0.27834227115707555\t 3.2854587931047377\t 3.1224856516970996\n",
            "12 \t [-1.44726022 -1.56621344]\t 4.547586682146996\t 0.27834227115707555\t 2.6860379494908786\t 2.6547515258282894\n",
            "13 \t [ 0.55496638 -0.53860436]\t 0.5980823390169467\t 0.27834227115707555\t 2.339582413985145\t 2.5468822254479915\n",
            "\u001b[1m\u001b[92m14\u001b[0m\t \u001b[1m\u001b[92m[-0.03051952  0.12968737]\u001b[0m\t \u001b[1m\u001b[92m0.017750256068549304\u001b[0m\t \u001b[1m\u001b[92m0.017750256068549304\u001b[0m\t \u001b[1m\u001b[92m2.660406285625591\u001b[0m\t \u001b[1m\u001b[92m2.9052135154749643\u001b[0m\n",
            "15 \t [ 0.1456551  -0.05886513]\t 0.024680510579008184\t 0.017750256068549304\t 2.650425641959734\t 2.539452566372855\n",
            "16 \t [ 0.26260449 -0.19139533]\t 0.10559328890610786\t 0.017750256068549304\t 2.571357878848402\t 2.5904265307192094\n",
            "17 \t [ 0.20711435 -0.12237569]\t 0.0578721637461728\t 0.017750256068549304\t 2.462998022436167\t 3.0658576011787675\n",
            "18 \t [ 0.19588774 -0.11789925]\t 0.05227223871563147\t 0.017750256068549304\t 2.777084603598656\t 2.9415556722330223\n",
            "19 \t [ 0.64523447 -0.59131723]\t 0.7659835853135923\t 0.017750256068549304\t 2.491862069749771\t 2.5551722207573473\n",
            "20 \t [ 0.5097993  -0.45871716]\t 0.47031676274563017\t 0.017750256068549304\t 2.6913249300815827\t 2.9575672862835107\n"
          ]
        }
      ],
      "source": [
        "### EXACT GP EI GRADIENTS\n",
        "\n",
        "np.random.seed(run_num_17)\n",
        "surrogate_exact_17 = dGaussianProcess(cov_func, optimize=opt)\n",
        "\n",
        "exact_17 = dGPGO(surrogate_exact_17, Acquisition_grad(util), objfunc, param)\n",
        "exact_17.run(init_evals=n_init, max_iter=iters)\n"
      ]
    },
    {
      "cell_type": "code",
      "execution_count": 51,
      "metadata": {
        "id": "eVEhyZ9BQS-1",
        "colab": {
          "base_uri": "https://localhost:8080/"
        },
        "outputId": "b78ff85b-dc14-440b-8fe8-2939f1e60dde"
      },
      "outputs": [
        {
          "output_type": "stream",
          "name": "stdout",
          "text": [
            "Evaluation \t Proposed point \t  Current eval. \t  Best eval. \t        Exact EI: StdDev. x \t Approx EI: StdDev. x \n",
            "init\t [1.53983224 0.05584255]\t 2.3742017032787373\t 2.3742017032787373\t    \t    \n",
            "init\t [ 3.87687906 -3.25795609]\t 25.644469161882945\t 2.3742017032787373\t    \t    \n",
            "init\t [3.60686662 2.56139557]\t 19.570234102364928\t 2.3742017032787373\t    \t    \n",
            "init\t [1.70088108 4.99604939]\t 27.853505942237412\t 2.3742017032787373\t    \t    \n",
            "init\t [-2.48864335 -4.83014733]\t 29.523668919355142\t 2.3742017032787373\t    \t    \n",
            "1  \t [-5.00718904  2.9174042 ]\t 33.58318939621877\t 2.3742017032787373\t 3.0403234456623927\t 3.7741947226024672\n",
            "2  \t [-2.20660477 -0.45183714]\t 5.073261429346723\t 2.3742017032787373\t 2.65089140912695\t 2.7543262690476276\n",
            "3  \t [-1.33223764  2.98566968]\t 10.689080551059877\t 2.3742017032787373\t 2.890087432597956\t 3.408683455277765\n",
            "4  \t [-5.12      -1.9319886]\t 29.946979952812764\t 2.3742017032787373\t 3.191890495223618\t 3.806445491521425\n",
            "5  \t [ 0.17835775 -2.37604674]\t 5.677409592475777\t 2.3742017032787373\t 2.982458589646849\t 3.110489891604189\n",
            "6  \t [ 0.76019233 -5.09422476]\t 26.529018326324856\t 2.3742017032787373\t 2.9204015733956914\t 2.91489347152028\n",
            "7  \t [5.12 5.12]\t 52.4288\t 2.3742017032787373\t 3.0348237261826707\t 3.362453509341059\n",
            "8  \t [-5.12 -5.12]\t 52.4288\t 2.3742017032787373\t 2.6769144152231643\t 3.054317435791354\n",
            "9  \t [5.12000000e+00 4.87881459e-03]\t 26.21442380283184\t 2.3742017032787373\t 2.993499096241947\t 3.130689279045887\n",
            "10 \t [-2.78212984  5.12      ]\t 33.95464647438897\t 2.3742017032787373\t 2.917935133808299\t 3.0034329268208806\n",
            "\u001b[1m\u001b[92m11\u001b[0m\t \u001b[1m\u001b[92m[0.10037991 0.52126672]\u001b[0m\t \u001b[1m\u001b[92m0.2817951190899045\u001b[0m\t \u001b[1m\u001b[92m0.2817951190899045\u001b[0m\t \u001b[1m\u001b[92m2.8620620561921415\u001b[0m\t \u001b[1m\u001b[92m3.01051962932973\u001b[0m\n",
            "12 \t [0.35005638 1.25449049]\t 1.6962858553300455\t 0.2817951190899045\t 2.5575315083954364\t 2.6656907768426783\n",
            "\u001b[1m\u001b[92m13\u001b[0m\t \u001b[1m\u001b[92m[-0.31608194  0.27381541]\u001b[0m\t \u001b[1m\u001b[92m0.17488267403911245\u001b[0m\t \u001b[1m\u001b[92m0.17488267403911245\u001b[0m\t \u001b[1m\u001b[92m2.9365016494317597\u001b[0m\t \u001b[1m\u001b[92m2.635038755791461\u001b[0m\n",
            "\u001b[1m\u001b[92m14\u001b[0m\t \u001b[1m\u001b[92m[-0.17300564  0.03485954]\u001b[0m\t \u001b[1m\u001b[92m0.03114613932096379\u001b[0m\t \u001b[1m\u001b[92m0.03114613932096379\u001b[0m\t \u001b[1m\u001b[92m2.4712231293602813\u001b[0m\t \u001b[1m\u001b[92m2.3907265687494563\u001b[0m\n",
            "\u001b[1m\u001b[92m15\u001b[0m\t \u001b[1m\u001b[92m[-0.12559071 -0.06675054]\u001b[0m\t \u001b[1m\u001b[92m0.020228660627750476\u001b[0m\t \u001b[1m\u001b[92m0.020228660627750476\u001b[0m\t \u001b[1m\u001b[92m2.6812220567966776\u001b[0m\t \u001b[1m\u001b[92m2.85412662005167\u001b[0m\n",
            "16 \t [-0.23898179  0.07230564]\t 0.062340400671049304\t 0.020228660627750476\t 2.4517629375268397\t 2.571714580819844\n",
            "17 \t [ 0.35771579 -0.48775535]\t 0.36586587000041926\t 0.020228660627750476\t 3.4792151135197105\t 3.355086371654086\n",
            "18 \t [-2.95574112  0.95779428]\t 9.65377542727976\t 0.020228660627750476\t 3.0338043436701696\t 3.343063599995126\n",
            "19 \t [-0.53730494  0.63365804]\t 0.6902191055773643\t 0.020228660627750476\t 2.8004246741133167\t 2.9018804377934737\n",
            "20 \t [-0.107596   -0.17590103]\t 0.04251807042281648\t 0.020228660627750476\t 2.8882344843843204\t 2.7657408290147365\n"
          ]
        }
      ],
      "source": [
        "### EXACT GP EI GRADIENTS\n",
        "\n",
        "np.random.seed(run_num_18)\n",
        "surrogate_exact_18 = dGaussianProcess(cov_func, optimize=opt)\n",
        "\n",
        "exact_18 = dGPGO(surrogate_exact_18, Acquisition_grad(util), objfunc, param)\n",
        "exact_18.run(init_evals=n_init, max_iter=iters)\n"
      ]
    },
    {
      "cell_type": "code",
      "execution_count": 52,
      "metadata": {
        "id": "B6gTz1ojQUxn",
        "colab": {
          "base_uri": "https://localhost:8080/"
        },
        "outputId": "937f2a4a-d7e3-4d49-eacc-944c81759c3c"
      },
      "outputs": [
        {
          "output_type": "stream",
          "name": "stdout",
          "text": [
            "Evaluation \t Proposed point \t  Current eval. \t  Best eval. \t        Exact EI: StdDev. x \t Approx EI: StdDev. x \n",
            "init\t [-4.12125592  2.6751971 ]\t 24.141429859518958\t 12.957869519084127\t    \t    \n",
            "init\t [-2.59135515 -3.70553152]\t 20.446085385698954\t 12.957869519084127\t    \t    \n",
            "init\t [-1.72598719 -4.27008445]\t 21.212653034418548\t 12.957869519084127\t    \t    \n",
            "init\t [1.76104531 3.13952049]\t 12.957869519084127\t 12.957869519084127\t    \t    \n",
            "init\t [4.9432772  1.38916592]\t 26.36577149009895\t 12.957869519084127\t    \t    \n",
            "1  \t [ 4.82668731 -3.73098301]\t 37.21714456946748\t 12.957869519084127\t 3.430892484521406\t 4.65611768047596\n",
            "\u001b[1m\u001b[92m2\u001b[0m\t \u001b[1m\u001b[92m[-0.64696019 -0.05249445]\u001b[0m\t \u001b[1m\u001b[92m0.4213131500748724\u001b[0m\t \u001b[1m\u001b[92m0.4213131500748724\u001b[0m\t \u001b[1m\u001b[92m3.7132672679679297\u001b[0m\t \u001b[1m\u001b[92m3.6668266831694876\u001b[0m\n",
            "3  \t [5.12 5.12]\t 52.4288\t 0.4213131500748724\t 2.98340321753514\t 3.355797019634047\n",
            "4  \t [-5.12       -1.17676652]\t 27.599179438918725\t 0.4213131500748724\t 3.0016943526154103\t 3.3123413510288455\n",
            "5  \t [ 1.49625134 -0.9344517 ]\t 3.111968058662604\t 0.4213131500748724\t 2.812641791236457\t 2.657312167097409\n",
            "6  \t [-1.13623457  5.12      ]\t 27.50542900409558\t 0.4213131500748724\t 3.314743653343337\t 3.5541004021796425\n",
            "7  \t [-5.12 -5.12]\t 52.4288\t 0.4213131500748724\t 3.135926373615813\t 3.3100527477291313\n",
            "8  \t [ 1.40903202 -5.118352  ]\t 28.182898481697215\t 0.4213131500748724\t 2.5233502665607856\t 2.8005488572589394\n",
            "9  \t [-1.129485    1.49044072]\t 3.497149921203787\t 0.4213131500748724\t 2.5917567032922424\t 2.88716164035536\n",
            "10 \t [-1.124361   -0.95266215]\t 2.1717528409190026\t 0.4213131500748724\t 3.0084922502502778\t 3.163136986676883\n",
            "11 \t [0.6341959  0.56043726]\t 0.7162943566728293\t 0.4213131500748724\t 2.4094973590956545\t 2.4199927364897755\n",
            "12 \t [ 3.7159318 -1.1984329]\t 15.244390559818866\t 0.4213131500748724\t 2.6595198124891977\t 2.5824619452896007\n",
            "13 \t [-2.48735293  0.07616529]\t 6.192725764152591\t 0.4213131500748724\t 2.9371119183670937\t 2.635393799967112\n",
            "14 \t [ 0.54979027 -2.29741603]\t 5.580389775714139\t 0.4213131500748724\t 2.4779654384401857\t 2.479027688028837\n",
            "\u001b[1m\u001b[92m15\u001b[0m\t \u001b[1m\u001b[92m[0.28678078 0.39640131]\u001b[0m\t \u001b[1m\u001b[92m0.2393772147734737\u001b[0m\t \u001b[1m\u001b[92m0.2393772147734737\u001b[0m\t \u001b[1m\u001b[92m2.860980513443013\u001b[0m\t \u001b[1m\u001b[92m2.677256886877219\u001b[0m\n",
            "\u001b[1m\u001b[92m16\u001b[0m\t \u001b[1m\u001b[92m[0.24467325 0.42114964]\u001b[0m\t \u001b[1m\u001b[92m0.2372320181346337\u001b[0m\t \u001b[1m\u001b[92m0.2372320181346337\u001b[0m\t \u001b[1m\u001b[92m2.5895179694769865\u001b[0m\t \u001b[1m\u001b[92m2.4558143460960524\u001b[0m\n",
            "17 \t [0.20782688 0.45788375]\t 0.25284953860641646\t 0.2372320181346337\t 2.6962226256345163\t 2.6368877022924417\n",
            "18 \t [0.02915492 1.28593359]\t 1.6544752134905603\t 0.2372320181346337\t 2.980528276844045\t 2.874457008894203\n",
            "\u001b[1m\u001b[92m19\u001b[0m\t \u001b[1m\u001b[92m[0.209095   0.08426727]\u001b[0m\t \u001b[1m\u001b[92m0.05082168986814589\u001b[0m\t \u001b[1m\u001b[92m0.05082168986814589\u001b[0m\t \u001b[1m\u001b[92m2.1986069690183636\u001b[0m\t \u001b[1m\u001b[92m2.179368568238142\u001b[0m\n",
            "20 \t [1.03361194 0.39052613]\t 1.220864301709343\t 0.05082168986814589\t 2.7037803419193174\t 2.570627448665689\n"
          ]
        }
      ],
      "source": [
        "### EXACT GP EI GRADIENTS\n",
        "\n",
        "np.random.seed(run_num_19)\n",
        "surrogate_exact_19 = dGaussianProcess(cov_func, optimize=opt)\n",
        "\n",
        "exact_19 = dGPGO(surrogate_exact_19, Acquisition_grad(util), objfunc, param)\n",
        "exact_19.run(init_evals=n_init, max_iter=iters)\n"
      ]
    },
    {
      "cell_type": "code",
      "execution_count": 53,
      "metadata": {
        "id": "aw3xvSryIwDi",
        "colab": {
          "base_uri": "https://localhost:8080/"
        },
        "outputId": "2ee493b4-ee64-4cca-cce3-8ea5f3a57dc7"
      },
      "outputs": [
        {
          "output_type": "stream",
          "name": "stdout",
          "text": [
            "Evaluation \t Proposed point \t  Current eval. \t  Best eval. \t        Exact EI: StdDev. x \t Approx EI: StdDev. x \n",
            "init\t [0.9024594  4.07258857]\t 17.400410665504328\t 1.579257056101869\t    \t    \n",
            "init\t [4.00927467 3.23417577]\t 26.53417627399789\t 1.579257056101869\t    \t    \n",
            "init\t [-4.75249064  1.96359764]\t 26.44188299535699\t 1.579257056101869\t    \t    \n",
            "init\t [-1.24230715  0.18955208]\t 1.579257056101869\t 1.579257056101869\t    \t    \n",
            "init\t [ 1.61742301 -3.13497377]\t 12.44411771617229\t 1.579257056101869\t    \t    \n",
            "1  \t [-3.59633469 -5.12      ]\t 39.1480231675953\t 1.579257056101869\t 2.8275139839734447\t 3.1385560534787307\n",
            "2  \t [ 5.12       -1.04833609]\t 27.313408558419926\t 1.579257056101869\t 2.7805113343983834\t 3.5409746314206094\n",
            "3  \t [-2.35021732  4.6689615 ]\t 27.322722964184308\t 1.579257056101869\t 2.7616707791870474\t 3.0192005361141714\n",
            "4  \t [-3.87977034 -1.48779248]\t 17.266144365339457\t 1.579257056101869\t 3.247114038151588\t 3.4264877554121074\n",
            "5  \t [1.79013693 0.16049596]\t 3.2303491925659467\t 1.579257056101869\t 3.049015562736012\t 3.2395067803109026\n",
            "6  \t [ 4.33836544 -4.78778528]\t 41.74430258137417\t 1.579257056101869\t 3.247943768838633\t 3.8409766604092943\n",
            "7  \t [-0.3090481 -5.12     ]\t 26.309910727138\t 1.579257056101869\t 3.4653882858200356\t 3.3941169401963784\n",
            "8  \t [-1.4096144   1.78628651]\t 5.177832253808251\t 1.579257056101869\t 3.00834423374284\t 3.1473018191321627\n",
            "9  \t [-0.85547838 -1.25901017]\t 2.3169498794915446\t 1.579257056101869\t 2.759826615355425\t 2.8964814347829795\n",
            "10 \t [-1.30997408 -2.53831725]\t 8.159086529106625\t 1.579257056101869\t 3.0205912143651306\t 3.0542363533683523\n",
            "\u001b[1m\u001b[92m11\u001b[0m\t \u001b[1m\u001b[92m[ 6.23377805e-05 -7.69397210e-02]\u001b[0m\t \u001b[1m\u001b[92m0.005919724552738908\u001b[0m\t \u001b[1m\u001b[92m0.005919724552738908\u001b[0m\t \u001b[1m\u001b[92m3.4081741948912967\u001b[0m\t \u001b[1m\u001b[92m3.1301679812856293\u001b[0m\n",
            "12 \t [0.39510686 1.13152359]\t 1.4364550662649131\t 0.005919724552738908\t 3.583804277739511\t 3.205438256735241\n",
            "13 \t [-0.38670043  0.09549648]\t 0.15865680101345797\t 0.005919724552738908\t 3.2989598803833844\t 3.747244805862317\n",
            "14 \t [-1.07123757  0.06714469]\t 1.1520583463245002\t 0.005919724552738908\t 2.6370834394043277\t 2.213273504778462\n",
            "15 \t [ 0.00517704 -0.2241199 ]\t 0.05025653053265468\t 0.005919724552738908\t 2.7862802786982765\t 2.600164451296874\n",
            "16 \t [5.12 5.12]\t 52.4288\t 0.005919724552738908\t 3.1015735175723687\t 2.9427436694083644\n",
            "17 \t [-0.16257244 -0.01889027]\t 0.02678664111763869\t 0.005919724552738908\t 2.919195425535604\t 3.1581960370839393\n",
            "18 \t [ 0.13299332 -0.37640499]\t 0.15936794268751525\t 0.005919724552738908\t 3.191586148897354\t 3.2901550980426806\n",
            "19 \t [ 0.30635614 -0.57448327]\t 0.4238851128676901\t 0.005919724552738908\t 3.079284146180144\t 2.5253495801365204\n",
            "20 \t [ 0.29036069 -0.55764543]\t 0.39527775512327473\t 0.005919724552738908\t 2.5706628841619974\t 2.2824940508987486\n"
          ]
        }
      ],
      "source": [
        "### EXACT GP EI GRADIENTS\n",
        "\n",
        "np.random.seed(run_num_20)\n",
        "surrogate_exact_20 = dGaussianProcess(cov_func, optimize=opt)\n",
        "\n",
        "exact_20 = dGPGO(surrogate_exact_20, Acquisition_grad(util), objfunc, param)\n",
        "exact_20.run(init_evals=n_init, max_iter=iters)\n"
      ]
    },
    {
      "cell_type": "code",
      "execution_count": 54,
      "metadata": {
        "id": "5c8szjivRPme",
        "colab": {
          "base_uri": "https://localhost:8080/"
        },
        "outputId": "60467aea-f78e-442e-ae1f-7392409d6d20"
      },
      "outputs": [
        {
          "output_type": "execute_result",
          "data": {
            "text/plain": [
              "880.9501490592957"
            ]
          },
          "metadata": {},
          "execution_count": 54
        }
      ],
      "source": [
        "end_exact = time.time()\n",
        "end_exact\n",
        "\n",
        "time_exact = end_exact - start_exact\n",
        "time_exact\n"
      ]
    },
    {
      "cell_type": "code",
      "execution_count": 55,
      "metadata": {
        "id": "f6gCKnp6RR8c",
        "colab": {
          "base_uri": "https://localhost:8080/"
        },
        "outputId": "6a91e9c5-63b5-4b82-c1d2-6024ed728a76"
      },
      "outputs": [
        {
          "output_type": "execute_result",
          "data": {
            "text/plain": [
              "(-2.691702328576687, -4.193036367682318)"
            ]
          },
          "metadata": {},
          "execution_count": 55
        }
      ],
      "source": [
        "### Simple regret minimization: run number = 1\n",
        "\n",
        "approx_output_1 = np.append(np.min(-approx_1.GP.y[0:n_init]),-approx_1.GP.y[n_init:(n_init+iters)]) \n",
        "exact_output_1 = np.append(np.min(-exact_1.GP.y[0:n_init]),-exact_1.GP.y[n_init:(n_init+iters)]) \n",
        "\n",
        "regret_approx_1 = np.log(approx_output_1 - y_global_orig)\n",
        "regret_exact_1 = np.log(exact_output_1 - y_global_orig)\n",
        "\n",
        "simple_regret_approx_1 = min_max_array(regret_approx_1)\n",
        "simple_regret_exact_1 = min_max_array(regret_exact_1)\n",
        "\n",
        "min_simple_regret_approx_1 = min(simple_regret_approx_1)\n",
        "min_simple_regret_exact_1 = min(simple_regret_exact_1)\n",
        "\n",
        "min_simple_regret_approx_1, min_simple_regret_exact_1\n"
      ]
    },
    {
      "cell_type": "code",
      "execution_count": 56,
      "metadata": {
        "id": "94yBw5tqQxfk",
        "colab": {
          "base_uri": "https://localhost:8080/"
        },
        "outputId": "e57169f7-dab3-4817-89ec-55461f4530a9"
      },
      "outputs": [
        {
          "output_type": "execute_result",
          "data": {
            "text/plain": [
              "(-2.7118396461103873, -4.326287391135164)"
            ]
          },
          "metadata": {},
          "execution_count": 56
        }
      ],
      "source": [
        "### Simple regret minimization: run number = 2\n",
        "\n",
        "approx_output_2 = np.append(np.min(-approx_2.GP.y[0:n_init]),-approx_2.GP.y[n_init:(n_init+iters)]) \n",
        "exact_output_2 = np.append(np.min(-exact_2.GP.y[0:n_init]),-exact_2.GP.y[n_init:(n_init+iters)]) \n",
        "\n",
        "regret_approx_2 = np.log(approx_output_2 - y_global_orig)\n",
        "regret_exact_2 = np.log(exact_output_2 - y_global_orig)\n",
        "\n",
        "simple_regret_approx_2 = min_max_array(regret_approx_2)\n",
        "simple_regret_exact_2 = min_max_array(regret_exact_2)\n",
        "\n",
        "min_simple_regret_approx_2 = min(simple_regret_approx_2)\n",
        "min_simple_regret_exact_2 = min(simple_regret_exact_2)\n",
        "\n",
        "min_simple_regret_approx_2, min_simple_regret_exact_2\n"
      ]
    },
    {
      "cell_type": "code",
      "execution_count": 57,
      "metadata": {
        "id": "Bu6SBWALQxfl",
        "colab": {
          "base_uri": "https://localhost:8080/"
        },
        "outputId": "df1f12f7-a572-42d0-825a-fb8d9bac612c"
      },
      "outputs": [
        {
          "output_type": "execute_result",
          "data": {
            "text/plain": [
              "(-4.36082570159807, -3.3716348667067533)"
            ]
          },
          "metadata": {},
          "execution_count": 57
        }
      ],
      "source": [
        "### Simple regret minimization: run number = 3\n",
        "\n",
        "approx_output_3 = np.append(np.min(-approx_3.GP.y[0:n_init]),-approx_3.GP.y[n_init:(n_init+iters)]) \n",
        "exact_output_3 = np.append(np.min(-exact_3.GP.y[0:n_init]),-exact_3.GP.y[n_init:(n_init+iters)]) \n",
        "\n",
        "regret_approx_3 = np.log(approx_output_3 - y_global_orig)\n",
        "regret_exact_3 = np.log(exact_output_3 - y_global_orig)\n",
        "\n",
        "simple_regret_approx_3 = min_max_array(regret_approx_3)\n",
        "simple_regret_exact_3 = min_max_array(regret_exact_3)\n",
        "\n",
        "min_simple_regret_approx_3 = min(simple_regret_approx_3)\n",
        "min_simple_regret_exact_3 = min(simple_regret_exact_3)\n",
        "\n",
        "min_simple_regret_approx_3, min_simple_regret_exact_3"
      ]
    },
    {
      "cell_type": "code",
      "execution_count": 58,
      "metadata": {
        "id": "AZm0jgxkQxfm",
        "colab": {
          "base_uri": "https://localhost:8080/"
        },
        "outputId": "10d2df90-d281-4340-e21d-728b71738a75"
      },
      "outputs": [
        {
          "output_type": "execute_result",
          "data": {
            "text/plain": [
              "(-2.5442862753741444, -3.4798091404251115)"
            ]
          },
          "metadata": {},
          "execution_count": 58
        }
      ],
      "source": [
        "### Simple regret minimization: run number = 4\n",
        "\n",
        "approx_output_4 = np.append(np.min(-approx_4.GP.y[0:n_init]),-approx_4.GP.y[n_init:(n_init+iters)]) \n",
        "exact_output_4 = np.append(np.min(-exact_4.GP.y[0:n_init]),-exact_4.GP.y[n_init:(n_init+iters)]) \n",
        "\n",
        "regret_approx_4 = np.log(approx_output_4 - y_global_orig)\n",
        "regret_exact_4 = np.log(exact_output_4 - y_global_orig)\n",
        "\n",
        "simple_regret_approx_4 = min_max_array(regret_approx_4)\n",
        "simple_regret_exact_4 = min_max_array(regret_exact_4)\n",
        "\n",
        "min_simple_regret_approx_4 = min(simple_regret_approx_4)\n",
        "min_simple_regret_exact_4 = min(simple_regret_exact_4)\n",
        "\n",
        "min_simple_regret_approx_4, min_simple_regret_exact_4"
      ]
    },
    {
      "cell_type": "code",
      "execution_count": 59,
      "metadata": {
        "id": "NONPm8JIQxfn",
        "colab": {
          "base_uri": "https://localhost:8080/"
        },
        "outputId": "44ec5a84-a7c9-4938-fdaf-b141465d98a4"
      },
      "outputs": [
        {
          "output_type": "execute_result",
          "data": {
            "text/plain": [
              "(-3.7485719317900474, -3.027565175434478)"
            ]
          },
          "metadata": {},
          "execution_count": 59
        }
      ],
      "source": [
        "### Simple regret minimization: run number = 5\n",
        "\n",
        "approx_output_5 = np.append(np.min(-approx_5.GP.y[0:n_init]),-approx_5.GP.y[n_init:(n_init+iters)]) \n",
        "exact_output_5 = np.append(np.min(-exact_5.GP.y[0:n_init]),-exact_5.GP.y[n_init:(n_init+iters)]) \n",
        "\n",
        "regret_approx_5 = np.log(approx_output_5 - y_global_orig)\n",
        "regret_exact_5 = np.log(exact_output_5 - y_global_orig)\n",
        "\n",
        "simple_regret_approx_5 = min_max_array(regret_approx_5)\n",
        "simple_regret_exact_5 = min_max_array(regret_exact_5)\n",
        "\n",
        "min_simple_regret_approx_5 = min(simple_regret_approx_5)\n",
        "min_simple_regret_exact_5 = min(simple_regret_exact_5)\n",
        "\n",
        "min_simple_regret_approx_5, min_simple_regret_exact_5"
      ]
    },
    {
      "cell_type": "code",
      "execution_count": 60,
      "metadata": {
        "id": "CJv3lPuSQxfp",
        "colab": {
          "base_uri": "https://localhost:8080/"
        },
        "outputId": "e75930c1-4ac8-40d0-f827-c85ff67a9303"
      },
      "outputs": [
        {
          "output_type": "execute_result",
          "data": {
            "text/plain": [
              "(-3.1851609777916896, -2.471962941084676)"
            ]
          },
          "metadata": {},
          "execution_count": 60
        }
      ],
      "source": [
        "### Simple regret minimization: run number = 6\n",
        "\n",
        "approx_output_6 = np.append(np.min(-approx_6.GP.y[0:n_init]),-approx_6.GP.y[n_init:(n_init+iters)]) \n",
        "exact_output_6 = np.append(np.min(-exact_6.GP.y[0:n_init]),-exact_6.GP.y[n_init:(n_init+iters)]) \n",
        "\n",
        "regret_approx_6 = np.log(approx_output_6 - y_global_orig)\n",
        "regret_exact_6 = np.log(exact_output_6 - y_global_orig)\n",
        "\n",
        "simple_regret_approx_6 = min_max_array(regret_approx_6)\n",
        "simple_regret_exact_6 = min_max_array(regret_exact_6)\n",
        "\n",
        "min_simple_regret_approx_6 = min(simple_regret_approx_6)\n",
        "min_simple_regret_exact_6 = min(simple_regret_exact_6)\n",
        "\n",
        "min_simple_regret_approx_6, min_simple_regret_exact_6"
      ]
    },
    {
      "cell_type": "code",
      "execution_count": 61,
      "metadata": {
        "id": "quR2ZyApQxfq",
        "colab": {
          "base_uri": "https://localhost:8080/"
        },
        "outputId": "2d789e53-d13e-462d-b761-f57e26cfcbd4"
      },
      "outputs": [
        {
          "output_type": "execute_result",
          "data": {
            "text/plain": [
              "(-4.380699507816262, -4.6151548390674915)"
            ]
          },
          "metadata": {},
          "execution_count": 61
        }
      ],
      "source": [
        "### Simple regret minimization: run number = 7\n",
        "\n",
        "approx_output_7 = np.append(np.min(-approx_7.GP.y[0:n_init]),-approx_7.GP.y[n_init:(n_init+iters)]) \n",
        "exact_output_7 = np.append(np.min(-exact_7.GP.y[0:n_init]),-exact_7.GP.y[n_init:(n_init+iters)]) \n",
        "\n",
        "regret_approx_7 = np.log(approx_output_7 - y_global_orig)\n",
        "regret_exact_7 = np.log(exact_output_7 - y_global_orig)\n",
        "\n",
        "simple_regret_approx_7 = min_max_array(regret_approx_7)\n",
        "simple_regret_exact_7 = min_max_array(regret_exact_7)\n",
        "\n",
        "min_simple_regret_approx_7 = min(simple_regret_approx_7)\n",
        "min_simple_regret_exact_7 = min(simple_regret_exact_7)\n",
        "\n",
        "min_simple_regret_approx_7, min_simple_regret_exact_7"
      ]
    },
    {
      "cell_type": "code",
      "execution_count": 62,
      "metadata": {
        "id": "99wY5nK6Qxfr",
        "colab": {
          "base_uri": "https://localhost:8080/"
        },
        "outputId": "fa99e231-f3ec-4c87-e592-b9afd54c407e"
      },
      "outputs": [
        {
          "output_type": "execute_result",
          "data": {
            "text/plain": [
              "(-3.160268951166336, -5.961153403862587)"
            ]
          },
          "metadata": {},
          "execution_count": 62
        }
      ],
      "source": [
        "### Simple regret minimization: run number = 8\n",
        "\n",
        "approx_output_8 = np.append(np.min(-approx_8.GP.y[0:n_init]),-approx_8.GP.y[n_init:(n_init+iters)]) \n",
        "exact_output_8 = np.append(np.min(-exact_8.GP.y[0:n_init]),-exact_8.GP.y[n_init:(n_init+iters)]) \n",
        "\n",
        "regret_approx_8 = np.log(approx_output_8 - y_global_orig)\n",
        "regret_exact_8 = np.log(exact_output_8 - y_global_orig)\n",
        "\n",
        "simple_regret_approx_8 = min_max_array(regret_approx_8)\n",
        "simple_regret_exact_8 = min_max_array(regret_exact_8)\n",
        "\n",
        "min_simple_regret_approx_8 = min(simple_regret_approx_8)\n",
        "min_simple_regret_exact_8 = min(simple_regret_exact_8)\n",
        "\n",
        "min_simple_regret_approx_8, min_simple_regret_exact_8"
      ]
    },
    {
      "cell_type": "code",
      "execution_count": 63,
      "metadata": {
        "id": "qt0P5t9qQxfs",
        "colab": {
          "base_uri": "https://localhost:8080/"
        },
        "outputId": "86059248-a508-4506-e2fd-1b66f677f504"
      },
      "outputs": [
        {
          "output_type": "execute_result",
          "data": {
            "text/plain": [
              "(-4.067900346332126, -1.8654220526320782)"
            ]
          },
          "metadata": {},
          "execution_count": 63
        }
      ],
      "source": [
        "### Simple regret minimization: run number = 9\n",
        "\n",
        "approx_output_9 = np.append(np.min(-approx_9.GP.y[0:n_init]),-approx_9.GP.y[n_init:(n_init+iters)]) \n",
        "exact_output_9 = np.append(np.min(-exact_9.GP.y[0:n_init]),-exact_9.GP.y[n_init:(n_init+iters)]) \n",
        "\n",
        "regret_approx_9 = np.log(approx_output_9 - y_global_orig)\n",
        "regret_exact_9 = np.log(exact_output_9 - y_global_orig)\n",
        "\n",
        "simple_regret_approx_9 = min_max_array(regret_approx_9)\n",
        "simple_regret_exact_9 = min_max_array(regret_exact_9)\n",
        "\n",
        "min_simple_regret_approx_9 = min(simple_regret_approx_9)\n",
        "min_simple_regret_exact_9 = min(simple_regret_exact_9)\n",
        "\n",
        "min_simple_regret_approx_9, min_simple_regret_exact_9"
      ]
    },
    {
      "cell_type": "code",
      "execution_count": 64,
      "metadata": {
        "id": "vx8to9stQxft",
        "colab": {
          "base_uri": "https://localhost:8080/"
        },
        "outputId": "90ad12c9-15a9-4ce5-9b65-0003e27b2966"
      },
      "outputs": [
        {
          "output_type": "execute_result",
          "data": {
            "text/plain": [
              "(-5.934435730191625, -4.484748269748821)"
            ]
          },
          "metadata": {},
          "execution_count": 64
        }
      ],
      "source": [
        "### Simple regret minimization: run number = 10\n",
        "\n",
        "approx_output_10 = np.append(np.min(-approx_10.GP.y[0:n_init]),-approx_10.GP.y[n_init:(n_init+iters)]) \n",
        "exact_output_10 = np.append(np.min(-exact_10.GP.y[0:n_init]),-exact_10.GP.y[n_init:(n_init+iters)]) \n",
        "\n",
        "regret_approx_10 = np.log(approx_output_10 - y_global_orig)\n",
        "regret_exact_10 = np.log(exact_output_10 - y_global_orig)\n",
        "\n",
        "simple_regret_approx_10 = min_max_array(regret_approx_10)\n",
        "simple_regret_exact_10 = min_max_array(regret_exact_10)\n",
        "\n",
        "min_simple_regret_approx_10 = min(simple_regret_approx_10)\n",
        "min_simple_regret_exact_10 = min(simple_regret_exact_10)\n",
        "\n",
        "min_simple_regret_approx_10, min_simple_regret_exact_10"
      ]
    },
    {
      "cell_type": "code",
      "execution_count": 65,
      "metadata": {
        "id": "d-FGzWyHQxfu",
        "colab": {
          "base_uri": "https://localhost:8080/"
        },
        "outputId": "a1cb4092-631f-4c54-ce8c-013b356c52da"
      },
      "outputs": [
        {
          "output_type": "execute_result",
          "data": {
            "text/plain": [
              "(-3.475286411197468, -7.20956277230277)"
            ]
          },
          "metadata": {},
          "execution_count": 65
        }
      ],
      "source": [
        "### Simple regret minimization: run number = 11\n",
        "\n",
        "approx_output_11 = np.append(np.min(-approx_11.GP.y[0:n_init]),-approx_11.GP.y[n_init:(n_init+iters)]) \n",
        "exact_output_11 = np.append(np.min(-exact_11.GP.y[0:n_init]),-exact_11.GP.y[n_init:(n_init+iters)]) \n",
        "\n",
        "regret_approx_11 = np.log(approx_output_11 - y_global_orig)\n",
        "regret_exact_11 = np.log(exact_output_11 - y_global_orig)\n",
        "\n",
        "simple_regret_approx_11 = min_max_array(regret_approx_11)\n",
        "simple_regret_exact_11 = min_max_array(regret_exact_11)\n",
        "\n",
        "min_simple_regret_approx_11 = min(simple_regret_approx_11)\n",
        "min_simple_regret_exact_11 = min(simple_regret_exact_11)\n",
        "\n",
        "min_simple_regret_approx_11, min_simple_regret_exact_11"
      ]
    },
    {
      "cell_type": "code",
      "execution_count": 66,
      "metadata": {
        "id": "SvtsssyjQxfv",
        "colab": {
          "base_uri": "https://localhost:8080/"
        },
        "outputId": "e6b60542-648a-4135-a16a-23498c393cf0"
      },
      "outputs": [
        {
          "output_type": "execute_result",
          "data": {
            "text/plain": [
              "(-2.4131136622083385, -2.423356944231762)"
            ]
          },
          "metadata": {},
          "execution_count": 66
        }
      ],
      "source": [
        "### Simple regret minimization: run number = 12\n",
        "\n",
        "approx_output_12 = np.append(np.min(-approx_12.GP.y[0:n_init]),-approx_12.GP.y[n_init:(n_init+iters)]) \n",
        "exact_output_12 = np.append(np.min(-exact_12.GP.y[0:n_init]),-exact_12.GP.y[n_init:(n_init+iters)]) \n",
        "\n",
        "regret_approx_12 = np.log(approx_output_12 - y_global_orig)\n",
        "regret_exact_12 = np.log(exact_output_12 - y_global_orig)\n",
        "\n",
        "simple_regret_approx_12 = min_max_array(regret_approx_12)\n",
        "simple_regret_exact_12 = min_max_array(regret_exact_12)\n",
        "\n",
        "min_simple_regret_approx_12 = min(simple_regret_approx_12)\n",
        "min_simple_regret_exact_12 = min(simple_regret_exact_12)\n",
        "\n",
        "min_simple_regret_approx_12, min_simple_regret_exact_12"
      ]
    },
    {
      "cell_type": "code",
      "execution_count": 67,
      "metadata": {
        "id": "K6OiGcHkQxfw",
        "colab": {
          "base_uri": "https://localhost:8080/"
        },
        "outputId": "c0c460fa-8bd2-4525-f55a-f644e642045c"
      },
      "outputs": [
        {
          "output_type": "execute_result",
          "data": {
            "text/plain": [
              "(-3.3995948634694217, -5.816855822016586)"
            ]
          },
          "metadata": {},
          "execution_count": 67
        }
      ],
      "source": [
        "### Simple regret minimization: run number = 13\n",
        "\n",
        "approx_output_13 = np.append(np.min(-approx_13.GP.y[0:n_init]),-approx_13.GP.y[n_init:(n_init+iters)]) \n",
        "exact_output_13 = np.append(np.min(-exact_13.GP.y[0:n_init]),-exact_13.GP.y[n_init:(n_init+iters)]) \n",
        "\n",
        "regret_approx_13 = np.log(approx_output_13 - y_global_orig)\n",
        "regret_exact_13 = np.log(exact_output_13 - y_global_orig)\n",
        "\n",
        "simple_regret_approx_13 = min_max_array(regret_approx_13)\n",
        "simple_regret_exact_13 = min_max_array(regret_exact_13)\n",
        "\n",
        "min_simple_regret_approx_13 = min(simple_regret_approx_13)\n",
        "min_simple_regret_exact_13 = min(simple_regret_exact_13)\n",
        "\n",
        "min_simple_regret_approx_13, min_simple_regret_exact_13"
      ]
    },
    {
      "cell_type": "code",
      "execution_count": 68,
      "metadata": {
        "id": "ogML73shQxfx",
        "colab": {
          "base_uri": "https://localhost:8080/"
        },
        "outputId": "78ed8015-8ce2-413e-b93c-ad20e5914db8"
      },
      "outputs": [
        {
          "output_type": "execute_result",
          "data": {
            "text/plain": [
              "(-5.9348446363583625, -6.607463114879785)"
            ]
          },
          "metadata": {},
          "execution_count": 68
        }
      ],
      "source": [
        "### Simple regret minimization: run number = 14\n",
        "\n",
        "approx_output_14 = np.append(np.min(-approx_14.GP.y[0:n_init]),-approx_14.GP.y[n_init:(n_init+iters)]) \n",
        "exact_output_14 = np.append(np.min(-exact_14.GP.y[0:n_init]),-exact_14.GP.y[n_init:(n_init+iters)]) \n",
        "\n",
        "regret_approx_14 = np.log(approx_output_14 - y_global_orig)\n",
        "regret_exact_14 = np.log(exact_output_14 - y_global_orig)\n",
        "\n",
        "simple_regret_approx_14 = min_max_array(regret_approx_14)\n",
        "simple_regret_exact_14 = min_max_array(regret_exact_14)\n",
        "\n",
        "min_simple_regret_approx_14 = min(simple_regret_approx_14)\n",
        "min_simple_regret_exact_14 = min(simple_regret_exact_14)\n",
        "\n",
        "min_simple_regret_approx_14, min_simple_regret_exact_14"
      ]
    },
    {
      "cell_type": "code",
      "execution_count": 69,
      "metadata": {
        "id": "9Eg7gFT9Qxfx",
        "colab": {
          "base_uri": "https://localhost:8080/"
        },
        "outputId": "1da22ee4-1b26-4b2a-c05a-2b8269261b87"
      },
      "outputs": [
        {
          "output_type": "execute_result",
          "data": {
            "text/plain": [
              "(-4.916488277258566, -7.983957903641856)"
            ]
          },
          "metadata": {},
          "execution_count": 69
        }
      ],
      "source": [
        "### Simple regret minimization: run number = 15\n",
        "\n",
        "approx_output_15 = np.append(np.min(-approx_15.GP.y[0:n_init]),-approx_15.GP.y[n_init:(n_init+iters)]) \n",
        "exact_output_15 = np.append(np.min(-exact_15.GP.y[0:n_init]),-exact_15.GP.y[n_init:(n_init+iters)]) \n",
        "\n",
        "regret_approx_15 = np.log(approx_output_15 - y_global_orig)\n",
        "regret_exact_15 = np.log(exact_output_15 - y_global_orig)\n",
        "\n",
        "simple_regret_approx_15 = min_max_array(regret_approx_15)\n",
        "simple_regret_exact_15 = min_max_array(regret_exact_15)\n",
        "\n",
        "min_simple_regret_approx_15 = min(simple_regret_approx_15)\n",
        "min_simple_regret_exact_15 = min(simple_regret_exact_15)\n",
        "\n",
        "min_simple_regret_approx_15, min_simple_regret_exact_15"
      ]
    },
    {
      "cell_type": "code",
      "execution_count": 70,
      "metadata": {
        "id": "lIAC1U7ZQxfy",
        "colab": {
          "base_uri": "https://localhost:8080/"
        },
        "outputId": "21bdb558-ce4f-4f47-af7a-69ee262ceca4"
      },
      "outputs": [
        {
          "output_type": "execute_result",
          "data": {
            "text/plain": [
              "(-2.5877720081218216, -1.527896843811257)"
            ]
          },
          "metadata": {},
          "execution_count": 70
        }
      ],
      "source": [
        "### Simple regret minimization: run number = 16\n",
        "\n",
        "approx_output_16 = np.append(np.min(-approx_16.GP.y[0:n_init]),-approx_16.GP.y[n_init:(n_init+iters)]) \n",
        "exact_output_16 = np.append(np.min(-exact_16.GP.y[0:n_init]),-exact_16.GP.y[n_init:(n_init+iters)]) \n",
        "\n",
        "regret_approx_16 = np.log(approx_output_16 - y_global_orig)\n",
        "regret_exact_16 = np.log(exact_output_16 - y_global_orig)\n",
        "\n",
        "simple_regret_approx_16 = min_max_array(regret_approx_16)\n",
        "simple_regret_exact_16 = min_max_array(regret_exact_16)\n",
        "\n",
        "min_simple_regret_approx_16 = min(simple_regret_approx_16)\n",
        "min_simple_regret_exact_16 = min(simple_regret_exact_16)\n",
        "\n",
        "min_simple_regret_approx_16, min_simple_regret_exact_16"
      ]
    },
    {
      "cell_type": "code",
      "execution_count": 71,
      "metadata": {
        "id": "bGott36OQxfz",
        "colab": {
          "base_uri": "https://localhost:8080/"
        },
        "outputId": "fe752d07-9c95-4a0a-839f-0756b7f97e27"
      },
      "outputs": [
        {
          "output_type": "execute_result",
          "data": {
            "text/plain": [
              "(-2.9175760587925343, -4.031355336767628)"
            ]
          },
          "metadata": {},
          "execution_count": 71
        }
      ],
      "source": [
        "### Simple regret minimization: run number = 17\n",
        "\n",
        "approx_output_17 = np.append(np.min(-approx_17.GP.y[0:n_init]),-approx_17.GP.y[n_init:(n_init+iters)]) \n",
        "exact_output_17 = np.append(np.min(-exact_17.GP.y[0:n_init]),-exact_17.GP.y[n_init:(n_init+iters)]) \n",
        "\n",
        "regret_approx_17 = np.log(approx_output_17 - y_global_orig)\n",
        "regret_exact_17 = np.log(exact_output_17 - y_global_orig)\n",
        "\n",
        "simple_regret_approx_17 = min_max_array(regret_approx_17)\n",
        "simple_regret_exact_17 = min_max_array(regret_exact_17)\n",
        "\n",
        "min_simple_regret_approx_17 = min(simple_regret_approx_17)\n",
        "min_simple_regret_exact_17 = min(simple_regret_exact_17)\n",
        "\n",
        "min_simple_regret_approx_17, min_simple_regret_exact_17"
      ]
    },
    {
      "cell_type": "code",
      "execution_count": 72,
      "metadata": {
        "id": "Cz9ZYMBMQxfz",
        "colab": {
          "base_uri": "https://localhost:8080/"
        },
        "outputId": "e288e6da-3596-4a71-c01f-0c02ef266376"
      },
      "outputs": [
        {
          "output_type": "execute_result",
          "data": {
            "text/plain": [
              "(-3.3811022213575095, -3.900654837223617)"
            ]
          },
          "metadata": {},
          "execution_count": 72
        }
      ],
      "source": [
        "### Simple regret minimization: run number = 18\n",
        "\n",
        "approx_output_18 = np.append(np.min(-approx_18.GP.y[0:n_init]),-approx_18.GP.y[n_init:(n_init+iters)]) \n",
        "exact_output_18 = np.append(np.min(-exact_18.GP.y[0:n_init]),-exact_18.GP.y[n_init:(n_init+iters)]) \n",
        "\n",
        "regret_approx_18 = np.log(approx_output_18 - y_global_orig)\n",
        "regret_exact_18 = np.log(exact_output_18 - y_global_orig)\n",
        "\n",
        "simple_regret_approx_18 = min_max_array(regret_approx_18)\n",
        "simple_regret_exact_18 = min_max_array(regret_exact_18)\n",
        "\n",
        "min_simple_regret_approx_18 = min(simple_regret_approx_18)\n",
        "min_simple_regret_exact_18 = min(simple_regret_exact_18)\n",
        "\n",
        "min_simple_regret_approx_18, min_simple_regret_exact_18"
      ]
    },
    {
      "cell_type": "code",
      "execution_count": 73,
      "metadata": {
        "id": "OBfpWOHNQxf0",
        "colab": {
          "base_uri": "https://localhost:8080/"
        },
        "outputId": "dc3b7341-f69a-4032-e0a0-942b73db94b8"
      },
      "outputs": [
        {
          "output_type": "execute_result",
          "data": {
            "text/plain": [
              "(-7.489050612058152, -2.9794320496133238)"
            ]
          },
          "metadata": {},
          "execution_count": 73
        }
      ],
      "source": [
        "### Simple regret minimization: run number = 19\n",
        "\n",
        "approx_output_19 = np.append(np.min(-approx_19.GP.y[0:n_init]),-approx_19.GP.y[n_init:(n_init+iters)]) \n",
        "exact_output_19 = np.append(np.min(-exact_19.GP.y[0:n_init]),-exact_19.GP.y[n_init:(n_init+iters)]) \n",
        "\n",
        "regret_approx_19 = np.log(approx_output_19 - y_global_orig)\n",
        "regret_exact_19 = np.log(exact_output_19 - y_global_orig)\n",
        "\n",
        "simple_regret_approx_19 = min_max_array(regret_approx_19)\n",
        "simple_regret_exact_19 = min_max_array(regret_exact_19)\n",
        "\n",
        "min_simple_regret_approx_19 = min(simple_regret_approx_19)\n",
        "min_simple_regret_exact_19 = min(simple_regret_exact_19)\n",
        "\n",
        "min_simple_regret_approx_19, min_simple_regret_exact_19"
      ]
    },
    {
      "cell_type": "code",
      "execution_count": 74,
      "metadata": {
        "id": "BE1AJ7NsQxf0",
        "colab": {
          "base_uri": "https://localhost:8080/"
        },
        "outputId": "b318379b-c1c7-4988-9fd4-c76fe6d1325b"
      },
      "outputs": [
        {
          "output_type": "execute_result",
          "data": {
            "text/plain": [
              "(-3.964338961128579, -5.129465359422259)"
            ]
          },
          "metadata": {},
          "execution_count": 74
        }
      ],
      "source": [
        "### Simple regret minimization: run number = 20\n",
        "\n",
        "approx_output_20 = np.append(np.min(-approx_20.GP.y[0:n_init]),-approx_20.GP.y[n_init:(n_init+iters)]) \n",
        "exact_output_20 = np.append(np.min(-exact_20.GP.y[0:n_init]),-exact_20.GP.y[n_init:(n_init+iters)]) \n",
        "\n",
        "regret_approx_20 = np.log(approx_output_20 - y_global_orig)\n",
        "regret_exact_20 = np.log(exact_output_20 - y_global_orig)\n",
        "\n",
        "simple_regret_approx_20 = min_max_array(regret_approx_20)\n",
        "simple_regret_exact_20 = min_max_array(regret_exact_20)\n",
        "\n",
        "min_simple_regret_approx_20 = min(simple_regret_approx_20)\n",
        "min_simple_regret_exact_20 = min(simple_regret_exact_20)\n",
        "\n",
        "min_simple_regret_approx_20, min_simple_regret_exact_20"
      ]
    },
    {
      "cell_type": "code",
      "execution_count": 75,
      "metadata": {
        "id": "bpX-bKAHQxf1"
      },
      "outputs": [],
      "source": [
        "# Iteration1 :\n",
        "\n",
        "slice1 = 0\n",
        "\n",
        "approx1 = [simple_regret_approx_1[slice1],\n",
        "       simple_regret_approx_2[slice1],\n",
        "       simple_regret_approx_3[slice1],\n",
        "       simple_regret_approx_4[slice1],\n",
        "       simple_regret_approx_5[slice1],\n",
        "       simple_regret_approx_6[slice1],\n",
        "       simple_regret_approx_7[slice1],\n",
        "       simple_regret_approx_8[slice1],\n",
        "       simple_regret_approx_9[slice1],\n",
        "       simple_regret_approx_10[slice1],\n",
        "       simple_regret_approx_11[slice1],\n",
        "       simple_regret_approx_12[slice1],\n",
        "       simple_regret_approx_13[slice1],\n",
        "       simple_regret_approx_14[slice1],\n",
        "       simple_regret_approx_15[slice1],\n",
        "       simple_regret_approx_16[slice1],\n",
        "       simple_regret_approx_17[slice1],\n",
        "       simple_regret_approx_18[slice1],\n",
        "       simple_regret_approx_19[slice1],\n",
        "       simple_regret_approx_20[slice1]]\n",
        "\n",
        "exact1 = [simple_regret_exact_1[slice1],\n",
        "       simple_regret_exact_2[slice1],\n",
        "       simple_regret_exact_3[slice1],\n",
        "       simple_regret_exact_4[slice1],\n",
        "       simple_regret_exact_5[slice1],\n",
        "       simple_regret_exact_6[slice1],\n",
        "       simple_regret_exact_7[slice1],\n",
        "       simple_regret_exact_8[slice1],\n",
        "       simple_regret_exact_9[slice1],\n",
        "       simple_regret_exact_10[slice1],\n",
        "       simple_regret_exact_11[slice1],\n",
        "       simple_regret_exact_12[slice1],\n",
        "       simple_regret_exact_13[slice1],\n",
        "       simple_regret_exact_14[slice1],\n",
        "       simple_regret_exact_15[slice1],\n",
        "       simple_regret_exact_16[slice1],\n",
        "       simple_regret_exact_17[slice1],\n",
        "       simple_regret_exact_18[slice1],\n",
        "       simple_regret_exact_19[slice1],\n",
        "       simple_regret_exact_20[slice1]]\n",
        "\n",
        "approx1_results = pd.DataFrame(approx1).sort_values(by=[0], ascending=False)\n",
        "exact1_results = pd.DataFrame(exact1).sort_values(by=[0], ascending=False)\n",
        "\n",
        "### Best simple regret minimization IQR - approx:\n",
        "lower_approx1 = np.asarray(approx1_results[4:5][0])[0]\n",
        "median_approx1 = np.asarray(approx1_results[9:10][0])[0]\n",
        "upper_approx1 = np.asarray(approx1_results[14:15][0])[0]\n",
        "\n",
        "lower_exact1 = np.asarray(exact1_results[4:5][0])[0]\n",
        "median_exact1 = np.asarray(exact1_results[9:10][0])[0]\n",
        "upper_exact1 = np.asarray(exact1_results[14:15][0])[0]"
      ]
    },
    {
      "cell_type": "code",
      "execution_count": 76,
      "metadata": {
        "id": "CgIkJA1xQxf2"
      },
      "outputs": [],
      "source": [
        "# Iteration11 :\n",
        "\n",
        "slice11 = 10\n",
        "\n",
        "approx11 = [simple_regret_approx_1[slice11],\n",
        "       simple_regret_approx_2[slice11],\n",
        "       simple_regret_approx_3[slice11],\n",
        "       simple_regret_approx_4[slice11],\n",
        "       simple_regret_approx_5[slice11],\n",
        "       simple_regret_approx_6[slice11],\n",
        "       simple_regret_approx_7[slice11],\n",
        "       simple_regret_approx_8[slice11],\n",
        "       simple_regret_approx_9[slice11],\n",
        "       simple_regret_approx_10[slice11],\n",
        "       simple_regret_approx_11[slice11],\n",
        "       simple_regret_approx_12[slice11],\n",
        "       simple_regret_approx_13[slice11],\n",
        "       simple_regret_approx_14[slice11],\n",
        "       simple_regret_approx_15[slice11],\n",
        "       simple_regret_approx_16[slice11],\n",
        "       simple_regret_approx_17[slice11],\n",
        "       simple_regret_approx_18[slice11],\n",
        "       simple_regret_approx_19[slice11],\n",
        "       simple_regret_approx_20[slice11]]\n",
        "\n",
        "exact11 = [simple_regret_exact_1[slice11],\n",
        "       simple_regret_exact_2[slice11],\n",
        "       simple_regret_exact_3[slice11],\n",
        "       simple_regret_exact_4[slice11],\n",
        "       simple_regret_exact_5[slice11],\n",
        "       simple_regret_exact_6[slice11],\n",
        "       simple_regret_exact_7[slice11],\n",
        "       simple_regret_exact_8[slice11],\n",
        "       simple_regret_exact_9[slice11],\n",
        "       simple_regret_exact_10[slice11],\n",
        "       simple_regret_exact_11[slice11],\n",
        "       simple_regret_exact_12[slice11],\n",
        "       simple_regret_exact_13[slice11],\n",
        "       simple_regret_exact_14[slice11],\n",
        "       simple_regret_exact_15[slice11],\n",
        "       simple_regret_exact_16[slice11],\n",
        "       simple_regret_exact_17[slice11],\n",
        "       simple_regret_exact_18[slice11],\n",
        "       simple_regret_exact_19[slice11],\n",
        "       simple_regret_exact_20[slice11]]\n",
        "\n",
        "approx11_results = pd.DataFrame(approx11).sort_values(by=[0], ascending=False)\n",
        "exact11_results = pd.DataFrame(exact11).sort_values(by=[0], ascending=False)\n",
        "\n",
        "### Best simple regret minimization IQR - approx:\n",
        "lower_approx11 = np.asarray(approx11_results[4:5][0])[0]\n",
        "median_approx11 = np.asarray(approx11_results[9:10][0])[0]\n",
        "upper_approx11 = np.asarray(approx11_results[14:15][0])[0]\n",
        "\n",
        "lower_exact11 = np.asarray(exact11_results[4:5][0])[0]\n",
        "median_exact11 = np.asarray(exact11_results[9:10][0])[0]\n",
        "upper_exact11 = np.asarray(exact11_results[14:15][0])[0]"
      ]
    },
    {
      "cell_type": "code",
      "execution_count": 77,
      "metadata": {
        "id": "MFePDfGuQxf2"
      },
      "outputs": [],
      "source": [
        "# Iteration21 :\n",
        "\n",
        "slice21 = 20\n",
        "\n",
        "approx21 = [simple_regret_approx_1[slice21],\n",
        "       simple_regret_approx_2[slice21],\n",
        "       simple_regret_approx_3[slice21],\n",
        "       simple_regret_approx_4[slice21],\n",
        "       simple_regret_approx_5[slice21],\n",
        "       simple_regret_approx_6[slice21],\n",
        "       simple_regret_approx_7[slice21],\n",
        "       simple_regret_approx_8[slice21],\n",
        "       simple_regret_approx_9[slice21],\n",
        "       simple_regret_approx_10[slice21],\n",
        "       simple_regret_approx_11[slice21],\n",
        "       simple_regret_approx_12[slice21],\n",
        "       simple_regret_approx_13[slice21],\n",
        "       simple_regret_approx_14[slice21],\n",
        "       simple_regret_approx_15[slice21],\n",
        "       simple_regret_approx_16[slice21],\n",
        "       simple_regret_approx_17[slice21],\n",
        "       simple_regret_approx_18[slice21],\n",
        "       simple_regret_approx_19[slice21],\n",
        "       simple_regret_approx_20[slice21]]\n",
        "\n",
        "exact21 = [simple_regret_exact_1[slice21],\n",
        "       simple_regret_exact_2[slice21],\n",
        "       simple_regret_exact_3[slice21],\n",
        "       simple_regret_exact_4[slice21],\n",
        "       simple_regret_exact_5[slice21],\n",
        "       simple_regret_exact_6[slice21],\n",
        "       simple_regret_exact_7[slice21],\n",
        "       simple_regret_exact_8[slice21],\n",
        "       simple_regret_exact_9[slice21],\n",
        "       simple_regret_exact_10[slice21],\n",
        "       simple_regret_exact_11[slice21],\n",
        "       simple_regret_exact_12[slice21],\n",
        "       simple_regret_exact_13[slice21],\n",
        "       simple_regret_exact_14[slice21],\n",
        "       simple_regret_exact_15[slice21],\n",
        "       simple_regret_exact_16[slice21],\n",
        "       simple_regret_exact_17[slice21],\n",
        "       simple_regret_exact_18[slice21],\n",
        "       simple_regret_exact_19[slice21],\n",
        "       simple_regret_exact_20[slice21]]\n",
        "\n",
        "approx21_results = pd.DataFrame(approx21).sort_values(by=[0], ascending=False)\n",
        "exact21_results = pd.DataFrame(exact21).sort_values(by=[0], ascending=False)\n",
        "\n",
        "### Best simple regret minimization IQR - approx:\n",
        "lower_approx21 = np.asarray(approx21_results[4:5][0])[0]\n",
        "median_approx21 = np.asarray(approx21_results[9:10][0])[0]\n",
        "upper_approx21 = np.asarray(approx21_results[14:15][0])[0]\n",
        "\n",
        "lower_exact21 = np.asarray(exact21_results[4:5][0])[0]\n",
        "median_exact21 = np.asarray(exact21_results[9:10][0])[0]\n",
        "upper_exact21 = np.asarray(exact21_results[14:15][0])[0]"
      ]
    },
    {
      "cell_type": "code",
      "execution_count": 78,
      "metadata": {
        "id": "PrRDB1kfQxf3"
      },
      "outputs": [],
      "source": [
        "# Iteration2 :\n",
        "\n",
        "slice2 = 1\n",
        "\n",
        "approx2 = [simple_regret_approx_1[slice2],\n",
        "       simple_regret_approx_2[slice2],\n",
        "       simple_regret_approx_3[slice2],\n",
        "       simple_regret_approx_4[slice2],\n",
        "       simple_regret_approx_5[slice2],\n",
        "       simple_regret_approx_6[slice2],\n",
        "       simple_regret_approx_7[slice2],\n",
        "       simple_regret_approx_8[slice2],\n",
        "       simple_regret_approx_9[slice2],\n",
        "       simple_regret_approx_10[slice2],\n",
        "       simple_regret_approx_11[slice2],\n",
        "       simple_regret_approx_12[slice2],\n",
        "       simple_regret_approx_13[slice2],\n",
        "       simple_regret_approx_14[slice2],\n",
        "       simple_regret_approx_15[slice2],\n",
        "       simple_regret_approx_16[slice2],\n",
        "       simple_regret_approx_17[slice2],\n",
        "       simple_regret_approx_18[slice2],\n",
        "       simple_regret_approx_19[slice2],\n",
        "       simple_regret_approx_20[slice2]]\n",
        "\n",
        "exact2 = [simple_regret_exact_1[slice2],\n",
        "       simple_regret_exact_2[slice2],\n",
        "       simple_regret_exact_3[slice2],\n",
        "       simple_regret_exact_4[slice2],\n",
        "       simple_regret_exact_5[slice2],\n",
        "       simple_regret_exact_6[slice2],\n",
        "       simple_regret_exact_7[slice2],\n",
        "       simple_regret_exact_8[slice2],\n",
        "       simple_regret_exact_9[slice2],\n",
        "       simple_regret_exact_10[slice2],\n",
        "       simple_regret_exact_11[slice2],\n",
        "       simple_regret_exact_12[slice2],\n",
        "       simple_regret_exact_13[slice2],\n",
        "       simple_regret_exact_14[slice2],\n",
        "       simple_regret_exact_15[slice2],\n",
        "       simple_regret_exact_16[slice2],\n",
        "       simple_regret_exact_17[slice2],\n",
        "       simple_regret_exact_18[slice2],\n",
        "       simple_regret_exact_19[slice2],\n",
        "       simple_regret_exact_20[slice2]]\n",
        "\n",
        "approx2_results = pd.DataFrame(approx2).sort_values(by=[0], ascending=False)\n",
        "exact2_results = pd.DataFrame(exact2).sort_values(by=[0], ascending=False)\n",
        "\n",
        "### Best simple regret minimization IQR - approx:\n",
        "lower_approx2 = np.asarray(approx2_results[4:5][0])[0]\n",
        "median_approx2 = np.asarray(approx2_results[9:10][0])[0]\n",
        "upper_approx2 = np.asarray(approx2_results[14:15][0])[0]\n",
        "\n",
        "lower_exact2 = np.asarray(exact2_results[4:5][0])[0]\n",
        "median_exact2 = np.asarray(exact2_results[9:10][0])[0]\n",
        "upper_exact2 = np.asarray(exact2_results[14:15][0])[0]"
      ]
    },
    {
      "cell_type": "code",
      "execution_count": 79,
      "metadata": {
        "id": "B8ncJDYeQxf3"
      },
      "outputs": [],
      "source": [
        "# Iteration12 :\n",
        "\n",
        "slice12 = 11\n",
        "\n",
        "approx12 = [simple_regret_approx_1[slice12],\n",
        "       simple_regret_approx_2[slice12],\n",
        "       simple_regret_approx_3[slice12],\n",
        "       simple_regret_approx_4[slice12],\n",
        "       simple_regret_approx_5[slice12],\n",
        "       simple_regret_approx_6[slice12],\n",
        "       simple_regret_approx_7[slice12],\n",
        "       simple_regret_approx_8[slice12],\n",
        "       simple_regret_approx_9[slice12],\n",
        "       simple_regret_approx_10[slice12],\n",
        "       simple_regret_approx_11[slice12],\n",
        "       simple_regret_approx_12[slice12],\n",
        "       simple_regret_approx_13[slice12],\n",
        "       simple_regret_approx_14[slice12],\n",
        "       simple_regret_approx_15[slice12],\n",
        "       simple_regret_approx_16[slice12],\n",
        "       simple_regret_approx_17[slice12],\n",
        "       simple_regret_approx_18[slice12],\n",
        "       simple_regret_approx_19[slice12],\n",
        "       simple_regret_approx_20[slice12]]\n",
        "\n",
        "exact12 = [simple_regret_exact_1[slice12],\n",
        "       simple_regret_exact_2[slice12],\n",
        "       simple_regret_exact_3[slice12],\n",
        "       simple_regret_exact_4[slice12],\n",
        "       simple_regret_exact_5[slice12],\n",
        "       simple_regret_exact_6[slice12],\n",
        "       simple_regret_exact_7[slice12],\n",
        "       simple_regret_exact_8[slice12],\n",
        "       simple_regret_exact_9[slice12],\n",
        "       simple_regret_exact_10[slice12],\n",
        "       simple_regret_exact_11[slice12],\n",
        "       simple_regret_exact_12[slice12],\n",
        "       simple_regret_exact_13[slice12],\n",
        "       simple_regret_exact_14[slice12],\n",
        "       simple_regret_exact_15[slice12],\n",
        "       simple_regret_exact_16[slice12],\n",
        "       simple_regret_exact_17[slice12],\n",
        "       simple_regret_exact_18[slice12],\n",
        "       simple_regret_exact_19[slice12],\n",
        "       simple_regret_exact_20[slice12]]\n",
        "\n",
        "approx12_results = pd.DataFrame(approx12).sort_values(by=[0], ascending=False)\n",
        "exact12_results = pd.DataFrame(exact12).sort_values(by=[0], ascending=False)\n",
        "\n",
        "### Best simple regret minimization IQR - approx:\n",
        "lower_approx12 = np.asarray(approx12_results[4:5][0])[0]\n",
        "median_approx12 = np.asarray(approx12_results[9:10][0])[0]\n",
        "upper_approx12 = np.asarray(approx12_results[14:15][0])[0]\n",
        "\n",
        "lower_exact12 = np.asarray(exact12_results[4:5][0])[0]\n",
        "median_exact12 = np.asarray(exact12_results[9:10][0])[0]\n",
        "upper_exact12 = np.asarray(exact12_results[14:15][0])[0]"
      ]
    },
    {
      "cell_type": "code",
      "execution_count": 80,
      "metadata": {
        "id": "Jn4KpGvcQxf4"
      },
      "outputs": [],
      "source": [
        "# Iteration3 :\n",
        "\n",
        "slice3 = 2\n",
        "\n",
        "approx3 = [simple_regret_approx_1[slice3],\n",
        "       simple_regret_approx_2[slice3],\n",
        "       simple_regret_approx_3[slice3],\n",
        "       simple_regret_approx_4[slice3],\n",
        "       simple_regret_approx_5[slice3],\n",
        "       simple_regret_approx_6[slice3],\n",
        "       simple_regret_approx_7[slice3],\n",
        "       simple_regret_approx_8[slice3],\n",
        "       simple_regret_approx_9[slice3],\n",
        "       simple_regret_approx_10[slice3],\n",
        "       simple_regret_approx_11[slice3],\n",
        "       simple_regret_approx_12[slice3],\n",
        "       simple_regret_approx_13[slice3],\n",
        "       simple_regret_approx_14[slice3],\n",
        "       simple_regret_approx_15[slice3],\n",
        "       simple_regret_approx_16[slice3],\n",
        "       simple_regret_approx_17[slice3],\n",
        "       simple_regret_approx_18[slice3],\n",
        "       simple_regret_approx_19[slice3],\n",
        "       simple_regret_approx_20[slice3]]\n",
        "\n",
        "exact3 = [simple_regret_exact_1[slice3],\n",
        "       simple_regret_exact_2[slice3],\n",
        "       simple_regret_exact_3[slice3],\n",
        "       simple_regret_exact_4[slice3],\n",
        "       simple_regret_exact_5[slice3],\n",
        "       simple_regret_exact_6[slice3],\n",
        "       simple_regret_exact_7[slice3],\n",
        "       simple_regret_exact_8[slice3],\n",
        "       simple_regret_exact_9[slice3],\n",
        "       simple_regret_exact_10[slice3],\n",
        "       simple_regret_exact_11[slice3],\n",
        "       simple_regret_exact_12[slice3],\n",
        "       simple_regret_exact_13[slice3],\n",
        "       simple_regret_exact_14[slice3],\n",
        "       simple_regret_exact_15[slice3],\n",
        "       simple_regret_exact_16[slice3],\n",
        "       simple_regret_exact_17[slice3],\n",
        "       simple_regret_exact_18[slice3],\n",
        "       simple_regret_exact_19[slice3],\n",
        "       simple_regret_exact_20[slice3]]\n",
        "\n",
        "approx3_results = pd.DataFrame(approx3).sort_values(by=[0], ascending=False)\n",
        "exact3_results = pd.DataFrame(exact3).sort_values(by=[0], ascending=False)\n",
        "\n",
        "### Best simple regret minimization IQR - approx:\n",
        "lower_approx3 = np.asarray(approx3_results[4:5][0])[0]\n",
        "median_approx3 = np.asarray(approx3_results[9:10][0])[0]\n",
        "upper_approx3 = np.asarray(approx3_results[14:15][0])[0]\n",
        "\n",
        "lower_exact3 = np.asarray(exact3_results[4:5][0])[0]\n",
        "median_exact3 = np.asarray(exact3_results[9:10][0])[0]\n",
        "upper_exact3 = np.asarray(exact3_results[14:15][0])[0]"
      ]
    },
    {
      "cell_type": "code",
      "execution_count": 81,
      "metadata": {
        "id": "plf83wxrQxf4"
      },
      "outputs": [],
      "source": [
        "# Iteration13 :\n",
        "\n",
        "slice13 = 12\n",
        "\n",
        "approx13 = [simple_regret_approx_1[slice13],\n",
        "       simple_regret_approx_2[slice13],\n",
        "       simple_regret_approx_3[slice13],\n",
        "       simple_regret_approx_4[slice13],\n",
        "       simple_regret_approx_5[slice13],\n",
        "       simple_regret_approx_6[slice13],\n",
        "       simple_regret_approx_7[slice13],\n",
        "       simple_regret_approx_8[slice13],\n",
        "       simple_regret_approx_9[slice13],\n",
        "       simple_regret_approx_10[slice13],\n",
        "       simple_regret_approx_11[slice13],\n",
        "       simple_regret_approx_12[slice13],\n",
        "       simple_regret_approx_13[slice13],\n",
        "       simple_regret_approx_14[slice13],\n",
        "       simple_regret_approx_15[slice13],\n",
        "       simple_regret_approx_16[slice13],\n",
        "       simple_regret_approx_17[slice13],\n",
        "       simple_regret_approx_18[slice13],\n",
        "       simple_regret_approx_19[slice13],\n",
        "       simple_regret_approx_20[slice13]]\n",
        "\n",
        "exact13 = [simple_regret_exact_1[slice13],\n",
        "       simple_regret_exact_2[slice13],\n",
        "       simple_regret_exact_3[slice13],\n",
        "       simple_regret_exact_4[slice13],\n",
        "       simple_regret_exact_5[slice13],\n",
        "       simple_regret_exact_6[slice13],\n",
        "       simple_regret_exact_7[slice13],\n",
        "       simple_regret_exact_8[slice13],\n",
        "       simple_regret_exact_9[slice13],\n",
        "       simple_regret_exact_10[slice13],\n",
        "       simple_regret_exact_11[slice13],\n",
        "       simple_regret_exact_12[slice13],\n",
        "       simple_regret_exact_13[slice13],\n",
        "       simple_regret_exact_14[slice13],\n",
        "       simple_regret_exact_15[slice13],\n",
        "       simple_regret_exact_16[slice13],\n",
        "       simple_regret_exact_17[slice13],\n",
        "       simple_regret_exact_18[slice13],\n",
        "       simple_regret_exact_19[slice13],\n",
        "       simple_regret_exact_20[slice13]]\n",
        "\n",
        "approx13_results = pd.DataFrame(approx13).sort_values(by=[0], ascending=False)\n",
        "exact13_results = pd.DataFrame(exact13).sort_values(by=[0], ascending=False)\n",
        "\n",
        "### Best simple regret minimization IQR - approx:\n",
        "lower_approx13 = np.asarray(approx13_results[4:5][0])[0]\n",
        "median_approx13 = np.asarray(approx13_results[9:10][0])[0]\n",
        "upper_approx13 = np.asarray(approx13_results[14:15][0])[0]\n",
        "\n",
        "lower_exact13 = np.asarray(exact13_results[4:5][0])[0]\n",
        "median_exact13 = np.asarray(exact13_results[9:10][0])[0]\n",
        "upper_exact13 = np.asarray(exact13_results[14:15][0])[0]"
      ]
    },
    {
      "cell_type": "code",
      "execution_count": 82,
      "metadata": {
        "id": "9A7mlVvJQxf5"
      },
      "outputs": [],
      "source": [
        "# Iteration4 :\n",
        "\n",
        "slice4 = 3\n",
        "\n",
        "approx4 = [simple_regret_approx_1[slice4],\n",
        "       simple_regret_approx_2[slice4],\n",
        "       simple_regret_approx_3[slice4],\n",
        "       simple_regret_approx_4[slice4],\n",
        "       simple_regret_approx_5[slice4],\n",
        "       simple_regret_approx_6[slice4],\n",
        "       simple_regret_approx_7[slice4],\n",
        "       simple_regret_approx_8[slice4],\n",
        "       simple_regret_approx_9[slice4],\n",
        "       simple_regret_approx_10[slice4],\n",
        "       simple_regret_approx_11[slice4],\n",
        "       simple_regret_approx_12[slice4],\n",
        "       simple_regret_approx_13[slice4],\n",
        "       simple_regret_approx_14[slice4],\n",
        "       simple_regret_approx_15[slice4],\n",
        "       simple_regret_approx_16[slice4],\n",
        "       simple_regret_approx_17[slice4],\n",
        "       simple_regret_approx_18[slice4],\n",
        "       simple_regret_approx_19[slice4],\n",
        "       simple_regret_approx_20[slice4]]\n",
        "\n",
        "exact4 = [simple_regret_exact_1[slice4],\n",
        "       simple_regret_exact_2[slice4],\n",
        "       simple_regret_exact_3[slice4],\n",
        "       simple_regret_exact_4[slice4],\n",
        "       simple_regret_exact_5[slice4],\n",
        "       simple_regret_exact_6[slice4],\n",
        "       simple_regret_exact_7[slice4],\n",
        "       simple_regret_exact_8[slice4],\n",
        "       simple_regret_exact_9[slice4],\n",
        "       simple_regret_exact_10[slice4],\n",
        "       simple_regret_exact_11[slice4],\n",
        "       simple_regret_exact_12[slice4],\n",
        "       simple_regret_exact_13[slice4],\n",
        "       simple_regret_exact_14[slice4],\n",
        "       simple_regret_exact_15[slice4],\n",
        "       simple_regret_exact_16[slice4],\n",
        "       simple_regret_exact_17[slice4],\n",
        "       simple_regret_exact_18[slice4],\n",
        "       simple_regret_exact_19[slice4],\n",
        "       simple_regret_exact_20[slice4]]\n",
        "\n",
        "approx4_results = pd.DataFrame(approx4).sort_values(by=[0], ascending=False)\n",
        "exact4_results = pd.DataFrame(exact4).sort_values(by=[0], ascending=False)\n",
        "\n",
        "### Best simple regret minimization IQR - approx:\n",
        "lower_approx4 = np.asarray(approx4_results[4:5][0])[0]\n",
        "median_approx4 = np.asarray(approx4_results[9:10][0])[0]\n",
        "upper_approx4 = np.asarray(approx4_results[14:15][0])[0]\n",
        "\n",
        "lower_exact4 = np.asarray(exact4_results[4:5][0])[0]\n",
        "median_exact4 = np.asarray(exact4_results[9:10][0])[0]\n",
        "upper_exact4 = np.asarray(exact4_results[14:15][0])[0]"
      ]
    },
    {
      "cell_type": "code",
      "execution_count": 83,
      "metadata": {
        "id": "ijq-rioYQxf5"
      },
      "outputs": [],
      "source": [
        "# Iteration14 :\n",
        "\n",
        "slice14 = 13\n",
        "\n",
        "approx14 = [simple_regret_approx_1[slice14],\n",
        "       simple_regret_approx_2[slice14],\n",
        "       simple_regret_approx_3[slice14],\n",
        "       simple_regret_approx_4[slice14],\n",
        "       simple_regret_approx_5[slice14],\n",
        "       simple_regret_approx_6[slice14],\n",
        "       simple_regret_approx_7[slice14],\n",
        "       simple_regret_approx_8[slice14],\n",
        "       simple_regret_approx_9[slice14],\n",
        "       simple_regret_approx_10[slice14],\n",
        "       simple_regret_approx_11[slice14],\n",
        "       simple_regret_approx_12[slice14],\n",
        "       simple_regret_approx_13[slice14],\n",
        "       simple_regret_approx_14[slice14],\n",
        "       simple_regret_approx_15[slice14],\n",
        "       simple_regret_approx_16[slice14],\n",
        "       simple_regret_approx_17[slice14],\n",
        "       simple_regret_approx_18[slice14],\n",
        "       simple_regret_approx_19[slice14],\n",
        "       simple_regret_approx_20[slice14]]\n",
        "\n",
        "exact14 = [simple_regret_exact_1[slice14],\n",
        "       simple_regret_exact_2[slice14],\n",
        "       simple_regret_exact_3[slice14],\n",
        "       simple_regret_exact_4[slice14],\n",
        "       simple_regret_exact_5[slice14],\n",
        "       simple_regret_exact_6[slice14],\n",
        "       simple_regret_exact_7[slice14],\n",
        "       simple_regret_exact_8[slice14],\n",
        "       simple_regret_exact_9[slice14],\n",
        "       simple_regret_exact_10[slice14],\n",
        "       simple_regret_exact_11[slice14],\n",
        "       simple_regret_exact_12[slice14],\n",
        "       simple_regret_exact_13[slice14],\n",
        "       simple_regret_exact_14[slice14],\n",
        "       simple_regret_exact_15[slice14],\n",
        "       simple_regret_exact_16[slice14],\n",
        "       simple_regret_exact_17[slice14],\n",
        "       simple_regret_exact_18[slice14],\n",
        "       simple_regret_exact_19[slice14],\n",
        "       simple_regret_exact_20[slice14]]\n",
        "\n",
        "approx14_results = pd.DataFrame(approx14).sort_values(by=[0], ascending=False)\n",
        "exact14_results = pd.DataFrame(exact14).sort_values(by=[0], ascending=False)\n",
        "\n",
        "### Best simple regret minimization IQR - approx:\n",
        "lower_approx14 = np.asarray(approx14_results[4:5][0])[0]\n",
        "median_approx14 = np.asarray(approx14_results[9:10][0])[0]\n",
        "upper_approx14 = np.asarray(approx14_results[14:15][0])[0]\n",
        "\n",
        "lower_exact14 = np.asarray(exact14_results[4:5][0])[0]\n",
        "median_exact14 = np.asarray(exact14_results[9:10][0])[0]\n",
        "upper_exact14 = np.asarray(exact14_results[14:15][0])[0]"
      ]
    },
    {
      "cell_type": "code",
      "execution_count": 84,
      "metadata": {
        "id": "XINlZjoTd-ZK"
      },
      "outputs": [],
      "source": [
        "# Iteration5 :\n",
        "\n",
        "slice5 = 4\n",
        "\n",
        "approx5 = [simple_regret_approx_1[slice5],\n",
        "       simple_regret_approx_2[slice5],\n",
        "       simple_regret_approx_3[slice5],\n",
        "       simple_regret_approx_4[slice5],\n",
        "       simple_regret_approx_5[slice5],\n",
        "       simple_regret_approx_6[slice5],\n",
        "       simple_regret_approx_7[slice5],\n",
        "       simple_regret_approx_8[slice5],\n",
        "       simple_regret_approx_9[slice5],\n",
        "       simple_regret_approx_10[slice5],\n",
        "       simple_regret_approx_11[slice5],\n",
        "       simple_regret_approx_12[slice5],\n",
        "       simple_regret_approx_13[slice5],\n",
        "       simple_regret_approx_14[slice5],\n",
        "       simple_regret_approx_15[slice5],\n",
        "       simple_regret_approx_16[slice5],\n",
        "       simple_regret_approx_17[slice5],\n",
        "       simple_regret_approx_18[slice5],\n",
        "       simple_regret_approx_19[slice5],\n",
        "       simple_regret_approx_20[slice5]]\n",
        "\n",
        "exact5 = [simple_regret_exact_1[slice5],\n",
        "       simple_regret_exact_2[slice5],\n",
        "       simple_regret_exact_3[slice5],\n",
        "       simple_regret_exact_4[slice5],\n",
        "       simple_regret_exact_5[slice5],\n",
        "       simple_regret_exact_6[slice5],\n",
        "       simple_regret_exact_7[slice5],\n",
        "       simple_regret_exact_8[slice5],\n",
        "       simple_regret_exact_9[slice5],\n",
        "       simple_regret_exact_10[slice5],\n",
        "       simple_regret_exact_11[slice5],\n",
        "       simple_regret_exact_12[slice5],\n",
        "       simple_regret_exact_13[slice5],\n",
        "       simple_regret_exact_14[slice5],\n",
        "       simple_regret_exact_15[slice5],\n",
        "       simple_regret_exact_16[slice5],\n",
        "       simple_regret_exact_17[slice5],\n",
        "       simple_regret_exact_18[slice5],\n",
        "       simple_regret_exact_19[slice5],\n",
        "       simple_regret_exact_20[slice5]]\n",
        "\n",
        "approx5_results = pd.DataFrame(approx5).sort_values(by=[0], ascending=False)\n",
        "exact5_results = pd.DataFrame(exact5).sort_values(by=[0], ascending=False)\n",
        "\n",
        "### Best simple regret minimization IQR - approx:\n",
        "lower_approx5 = np.asarray(approx5_results[4:5][0])[0]\n",
        "median_approx5 = np.asarray(approx5_results[9:10][0])[0]\n",
        "upper_approx5 = np.asarray(approx5_results[14:15][0])[0]\n",
        "\n",
        "lower_exact5 = np.asarray(exact5_results[4:5][0])[0]\n",
        "median_exact5 = np.asarray(exact5_results[9:10][0])[0]\n",
        "upper_exact5 = np.asarray(exact5_results[14:15][0])[0]"
      ]
    },
    {
      "cell_type": "code",
      "execution_count": 85,
      "metadata": {
        "id": "4aZ7C8sOQxf6"
      },
      "outputs": [],
      "source": [
        "# Iteration15 :\n",
        "\n",
        "slice15 = 14\n",
        "\n",
        "approx15 = [simple_regret_approx_1[slice15],\n",
        "       simple_regret_approx_2[slice15],\n",
        "       simple_regret_approx_3[slice15],\n",
        "       simple_regret_approx_4[slice15],\n",
        "       simple_regret_approx_5[slice15],\n",
        "       simple_regret_approx_6[slice15],\n",
        "       simple_regret_approx_7[slice15],\n",
        "       simple_regret_approx_8[slice15],\n",
        "       simple_regret_approx_9[slice15],\n",
        "       simple_regret_approx_10[slice15],\n",
        "       simple_regret_approx_11[slice15],\n",
        "       simple_regret_approx_12[slice15],\n",
        "       simple_regret_approx_13[slice15],\n",
        "       simple_regret_approx_14[slice15],\n",
        "       simple_regret_approx_15[slice15],\n",
        "       simple_regret_approx_16[slice15],\n",
        "       simple_regret_approx_17[slice15],\n",
        "       simple_regret_approx_18[slice15],\n",
        "       simple_regret_approx_19[slice15],\n",
        "       simple_regret_approx_20[slice15]]\n",
        "\n",
        "exact15 = [simple_regret_exact_1[slice15],\n",
        "       simple_regret_exact_2[slice15],\n",
        "       simple_regret_exact_3[slice15],\n",
        "       simple_regret_exact_4[slice15],\n",
        "       simple_regret_exact_5[slice15],\n",
        "       simple_regret_exact_6[slice15],\n",
        "       simple_regret_exact_7[slice15],\n",
        "       simple_regret_exact_8[slice15],\n",
        "       simple_regret_exact_9[slice15],\n",
        "       simple_regret_exact_10[slice15],\n",
        "       simple_regret_exact_11[slice15],\n",
        "       simple_regret_exact_12[slice15],\n",
        "       simple_regret_exact_13[slice15],\n",
        "       simple_regret_exact_14[slice15],\n",
        "       simple_regret_exact_15[slice15],\n",
        "       simple_regret_exact_16[slice15],\n",
        "       simple_regret_exact_17[slice15],\n",
        "       simple_regret_exact_18[slice15],\n",
        "       simple_regret_exact_19[slice15],\n",
        "       simple_regret_exact_20[slice15]]\n",
        "\n",
        "approx15_results = pd.DataFrame(approx15).sort_values(by=[0], ascending=False)\n",
        "exact15_results = pd.DataFrame(exact15).sort_values(by=[0], ascending=False)\n",
        "\n",
        "### Best simple regret minimization IQR - approx:\n",
        "lower_approx15 = np.asarray(approx15_results[4:5][0])[0]\n",
        "median_approx15 = np.asarray(approx15_results[9:10][0])[0]\n",
        "upper_approx15 = np.asarray(approx15_results[14:15][0])[0]\n",
        "\n",
        "lower_exact15 = np.asarray(exact15_results[4:5][0])[0]\n",
        "median_exact15 = np.asarray(exact15_results[9:10][0])[0]\n",
        "upper_exact15 = np.asarray(exact15_results[14:15][0])[0]"
      ]
    },
    {
      "cell_type": "code",
      "execution_count": 86,
      "metadata": {
        "id": "KJINKhv1Qxf6"
      },
      "outputs": [],
      "source": [
        "# Iteration6 :\n",
        "\n",
        "slice6 = 5\n",
        "\n",
        "approx6 = [simple_regret_approx_1[slice6],\n",
        "       simple_regret_approx_2[slice6],\n",
        "       simple_regret_approx_3[slice6],\n",
        "       simple_regret_approx_4[slice6],\n",
        "       simple_regret_approx_5[slice6],\n",
        "       simple_regret_approx_6[slice6],\n",
        "       simple_regret_approx_7[slice6],\n",
        "       simple_regret_approx_8[slice6],\n",
        "       simple_regret_approx_9[slice6],\n",
        "       simple_regret_approx_10[slice6],\n",
        "       simple_regret_approx_11[slice6],\n",
        "       simple_regret_approx_12[slice6],\n",
        "       simple_regret_approx_13[slice6],\n",
        "       simple_regret_approx_14[slice6],\n",
        "       simple_regret_approx_15[slice6],\n",
        "       simple_regret_approx_16[slice6],\n",
        "       simple_regret_approx_17[slice6],\n",
        "       simple_regret_approx_18[slice6],\n",
        "       simple_regret_approx_19[slice6],\n",
        "       simple_regret_approx_20[slice6]]\n",
        "\n",
        "exact6 = [simple_regret_exact_1[slice6],\n",
        "       simple_regret_exact_2[slice6],\n",
        "       simple_regret_exact_3[slice6],\n",
        "       simple_regret_exact_4[slice6],\n",
        "       simple_regret_exact_5[slice6],\n",
        "       simple_regret_exact_6[slice6],\n",
        "       simple_regret_exact_7[slice6],\n",
        "       simple_regret_exact_8[slice6],\n",
        "       simple_regret_exact_9[slice6],\n",
        "       simple_regret_exact_10[slice6],\n",
        "       simple_regret_exact_11[slice6],\n",
        "       simple_regret_exact_12[slice6],\n",
        "       simple_regret_exact_13[slice6],\n",
        "       simple_regret_exact_14[slice6],\n",
        "       simple_regret_exact_15[slice6],\n",
        "       simple_regret_exact_16[slice6],\n",
        "       simple_regret_exact_17[slice6],\n",
        "       simple_regret_exact_18[slice6],\n",
        "       simple_regret_exact_19[slice6],\n",
        "       simple_regret_exact_20[slice6]]\n",
        "\n",
        "approx6_results = pd.DataFrame(approx6).sort_values(by=[0], ascending=False)\n",
        "exact6_results = pd.DataFrame(exact6).sort_values(by=[0], ascending=False)\n",
        "\n",
        "### Best simple regret minimization IQR - approx:\n",
        "lower_approx6 = np.asarray(approx6_results[4:5][0])[0]\n",
        "median_approx6 = np.asarray(approx6_results[9:10][0])[0]\n",
        "upper_approx6 = np.asarray(approx6_results[14:15][0])[0]\n",
        "\n",
        "lower_exact6 = np.asarray(exact6_results[4:5][0])[0]\n",
        "median_exact6 = np.asarray(exact6_results[9:10][0])[0]\n",
        "upper_exact6 = np.asarray(exact6_results[14:15][0])[0]"
      ]
    },
    {
      "cell_type": "code",
      "execution_count": 87,
      "metadata": {
        "id": "nwC5N1FsQxf7"
      },
      "outputs": [],
      "source": [
        "# Iteration16 :\n",
        "\n",
        "slice16 = 15\n",
        "\n",
        "approx16 = [simple_regret_approx_1[slice16],\n",
        "       simple_regret_approx_2[slice16],\n",
        "       simple_regret_approx_3[slice16],\n",
        "       simple_regret_approx_4[slice16],\n",
        "       simple_regret_approx_5[slice16],\n",
        "       simple_regret_approx_6[slice16],\n",
        "       simple_regret_approx_7[slice16],\n",
        "       simple_regret_approx_8[slice16],\n",
        "       simple_regret_approx_9[slice16],\n",
        "       simple_regret_approx_10[slice16],\n",
        "       simple_regret_approx_11[slice16],\n",
        "       simple_regret_approx_12[slice16],\n",
        "       simple_regret_approx_13[slice16],\n",
        "       simple_regret_approx_14[slice16],\n",
        "       simple_regret_approx_15[slice16],\n",
        "       simple_regret_approx_16[slice16],\n",
        "       simple_regret_approx_17[slice16],\n",
        "       simple_regret_approx_18[slice16],\n",
        "       simple_regret_approx_19[slice16],\n",
        "       simple_regret_approx_20[slice16]]\n",
        "\n",
        "exact16 = [simple_regret_exact_1[slice16],\n",
        "       simple_regret_exact_2[slice16],\n",
        "       simple_regret_exact_3[slice16],\n",
        "       simple_regret_exact_4[slice16],\n",
        "       simple_regret_exact_5[slice16],\n",
        "       simple_regret_exact_6[slice16],\n",
        "       simple_regret_exact_7[slice16],\n",
        "       simple_regret_exact_8[slice16],\n",
        "       simple_regret_exact_9[slice16],\n",
        "       simple_regret_exact_10[slice16],\n",
        "       simple_regret_exact_11[slice16],\n",
        "       simple_regret_exact_12[slice16],\n",
        "       simple_regret_exact_13[slice16],\n",
        "       simple_regret_exact_14[slice16],\n",
        "       simple_regret_exact_15[slice16],\n",
        "       simple_regret_exact_16[slice16],\n",
        "       simple_regret_exact_17[slice16],\n",
        "       simple_regret_exact_18[slice16],\n",
        "       simple_regret_exact_19[slice16],\n",
        "       simple_regret_exact_20[slice16]]\n",
        "\n",
        "approx16_results = pd.DataFrame(approx16).sort_values(by=[0], ascending=False)\n",
        "exact16_results = pd.DataFrame(exact16).sort_values(by=[0], ascending=False)\n",
        "\n",
        "### Best simple regret minimization IQR - approx:\n",
        "lower_approx16 = np.asarray(approx16_results[4:5][0])[0]\n",
        "median_approx16 = np.asarray(approx16_results[9:10][0])[0]\n",
        "upper_approx16 = np.asarray(approx16_results[14:15][0])[0]\n",
        "\n",
        "lower_exact16 = np.asarray(exact16_results[4:5][0])[0]\n",
        "median_exact16 = np.asarray(exact16_results[9:10][0])[0]\n",
        "upper_exact16 = np.asarray(exact16_results[14:15][0])[0]"
      ]
    },
    {
      "cell_type": "code",
      "execution_count": 88,
      "metadata": {
        "id": "TrPV0AfnQxf7"
      },
      "outputs": [],
      "source": [
        "# Iteration7 :\n",
        "\n",
        "slice7 = 6\n",
        "\n",
        "approx7 = [simple_regret_approx_1[slice7],\n",
        "       simple_regret_approx_2[slice7],\n",
        "       simple_regret_approx_3[slice7],\n",
        "       simple_regret_approx_4[slice7],\n",
        "       simple_regret_approx_5[slice7],\n",
        "       simple_regret_approx_6[slice7],\n",
        "       simple_regret_approx_7[slice7],\n",
        "       simple_regret_approx_8[slice7],\n",
        "       simple_regret_approx_9[slice7],\n",
        "       simple_regret_approx_10[slice7],\n",
        "       simple_regret_approx_11[slice7],\n",
        "       simple_regret_approx_12[slice7],\n",
        "       simple_regret_approx_13[slice7],\n",
        "       simple_regret_approx_14[slice7],\n",
        "       simple_regret_approx_15[slice7],\n",
        "       simple_regret_approx_16[slice7],\n",
        "       simple_regret_approx_17[slice7],\n",
        "       simple_regret_approx_18[slice7],\n",
        "       simple_regret_approx_19[slice7],\n",
        "       simple_regret_approx_20[slice7]]\n",
        "\n",
        "exact7 = [simple_regret_exact_1[slice7],\n",
        "       simple_regret_exact_2[slice7],\n",
        "       simple_regret_exact_3[slice7],\n",
        "       simple_regret_exact_4[slice7],\n",
        "       simple_regret_exact_5[slice7],\n",
        "       simple_regret_exact_6[slice7],\n",
        "       simple_regret_exact_7[slice7],\n",
        "       simple_regret_exact_8[slice7],\n",
        "       simple_regret_exact_9[slice7],\n",
        "       simple_regret_exact_10[slice7],\n",
        "       simple_regret_exact_11[slice7],\n",
        "       simple_regret_exact_12[slice7],\n",
        "       simple_regret_exact_13[slice7],\n",
        "       simple_regret_exact_14[slice7],\n",
        "       simple_regret_exact_15[slice7],\n",
        "       simple_regret_exact_16[slice7],\n",
        "       simple_regret_exact_17[slice7],\n",
        "       simple_regret_exact_18[slice7],\n",
        "       simple_regret_exact_19[slice7],\n",
        "       simple_regret_exact_20[slice7]]\n",
        "\n",
        "approx7_results = pd.DataFrame(approx7).sort_values(by=[0], ascending=False)\n",
        "exact7_results = pd.DataFrame(exact7).sort_values(by=[0], ascending=False)\n",
        "\n",
        "### Best simple regret minimization IQR - approx:\n",
        "lower_approx7 = np.asarray(approx7_results[4:5][0])[0]\n",
        "median_approx7 = np.asarray(approx7_results[9:10][0])[0]\n",
        "upper_approx7 = np.asarray(approx7_results[14:15][0])[0]\n",
        "\n",
        "lower_exact7 = np.asarray(exact7_results[4:5][0])[0]\n",
        "median_exact7 = np.asarray(exact7_results[9:10][0])[0]\n",
        "upper_exact7 = np.asarray(exact7_results[14:15][0])[0]"
      ]
    },
    {
      "cell_type": "code",
      "execution_count": 89,
      "metadata": {
        "id": "Ub_-wpK4Qxf8"
      },
      "outputs": [],
      "source": [
        "# Iteration17 :\n",
        "\n",
        "slice17 = 16\n",
        "\n",
        "approx17 = [simple_regret_approx_1[slice17],\n",
        "       simple_regret_approx_2[slice17],\n",
        "       simple_regret_approx_3[slice17],\n",
        "       simple_regret_approx_4[slice17],\n",
        "       simple_regret_approx_5[slice17],\n",
        "       simple_regret_approx_6[slice17],\n",
        "       simple_regret_approx_7[slice17],\n",
        "       simple_regret_approx_8[slice17],\n",
        "       simple_regret_approx_9[slice17],\n",
        "       simple_regret_approx_10[slice17],\n",
        "       simple_regret_approx_11[slice17],\n",
        "       simple_regret_approx_12[slice17],\n",
        "       simple_regret_approx_13[slice17],\n",
        "       simple_regret_approx_14[slice17],\n",
        "       simple_regret_approx_15[slice17],\n",
        "       simple_regret_approx_16[slice17],\n",
        "       simple_regret_approx_17[slice17],\n",
        "       simple_regret_approx_18[slice17],\n",
        "       simple_regret_approx_19[slice17],\n",
        "       simple_regret_approx_20[slice17]]\n",
        "\n",
        "exact17 = [simple_regret_exact_1[slice17],\n",
        "       simple_regret_exact_2[slice17],\n",
        "       simple_regret_exact_3[slice17],\n",
        "       simple_regret_exact_4[slice17],\n",
        "       simple_regret_exact_5[slice17],\n",
        "       simple_regret_exact_6[slice17],\n",
        "       simple_regret_exact_7[slice17],\n",
        "       simple_regret_exact_8[slice17],\n",
        "       simple_regret_exact_9[slice17],\n",
        "       simple_regret_exact_10[slice17],\n",
        "       simple_regret_exact_11[slice17],\n",
        "       simple_regret_exact_12[slice17],\n",
        "       simple_regret_exact_13[slice17],\n",
        "       simple_regret_exact_14[slice17],\n",
        "       simple_regret_exact_15[slice17],\n",
        "       simple_regret_exact_16[slice17],\n",
        "       simple_regret_exact_17[slice17],\n",
        "       simple_regret_exact_18[slice17],\n",
        "       simple_regret_exact_19[slice17],\n",
        "       simple_regret_exact_20[slice17]]\n",
        "\n",
        "approx17_results = pd.DataFrame(approx17).sort_values(by=[0], ascending=False)\n",
        "exact17_results = pd.DataFrame(exact17).sort_values(by=[0], ascending=False)\n",
        "\n",
        "### Best simple regret minimization IQR - approx:\n",
        "lower_approx17 = np.asarray(approx17_results[4:5][0])[0]\n",
        "median_approx17 = np.asarray(approx17_results[9:10][0])[0]\n",
        "upper_approx17 = np.asarray(approx17_results[14:15][0])[0]\n",
        "\n",
        "lower_exact17 = np.asarray(exact17_results[4:5][0])[0]\n",
        "median_exact17 = np.asarray(exact17_results[9:10][0])[0]\n",
        "upper_exact17 = np.asarray(exact17_results[14:15][0])[0]"
      ]
    },
    {
      "cell_type": "code",
      "execution_count": 90,
      "metadata": {
        "id": "-6VLo37PQxf8"
      },
      "outputs": [],
      "source": [
        "# Iteration8 :\n",
        "\n",
        "slice8 = 7\n",
        "\n",
        "approx8 = [simple_regret_approx_1[slice8],\n",
        "       simple_regret_approx_2[slice8],\n",
        "       simple_regret_approx_3[slice8],\n",
        "       simple_regret_approx_4[slice8],\n",
        "       simple_regret_approx_5[slice8],\n",
        "       simple_regret_approx_6[slice8],\n",
        "       simple_regret_approx_7[slice8],\n",
        "       simple_regret_approx_8[slice8],\n",
        "       simple_regret_approx_9[slice8],\n",
        "       simple_regret_approx_10[slice8],\n",
        "       simple_regret_approx_11[slice8],\n",
        "       simple_regret_approx_12[slice8],\n",
        "       simple_regret_approx_13[slice8],\n",
        "       simple_regret_approx_14[slice8],\n",
        "       simple_regret_approx_15[slice8],\n",
        "       simple_regret_approx_16[slice8],\n",
        "       simple_regret_approx_17[slice8],\n",
        "       simple_regret_approx_18[slice8],\n",
        "       simple_regret_approx_19[slice8],\n",
        "       simple_regret_approx_20[slice8]]\n",
        "\n",
        "exact8 = [simple_regret_exact_1[slice8],\n",
        "       simple_regret_exact_2[slice8],\n",
        "       simple_regret_exact_3[slice8],\n",
        "       simple_regret_exact_4[slice8],\n",
        "       simple_regret_exact_5[slice8],\n",
        "       simple_regret_exact_6[slice8],\n",
        "       simple_regret_exact_7[slice8],\n",
        "       simple_regret_exact_8[slice8],\n",
        "       simple_regret_exact_9[slice8],\n",
        "       simple_regret_exact_10[slice8],\n",
        "       simple_regret_exact_11[slice8],\n",
        "       simple_regret_exact_12[slice8],\n",
        "       simple_regret_exact_13[slice8],\n",
        "       simple_regret_exact_14[slice8],\n",
        "       simple_regret_exact_15[slice8],\n",
        "       simple_regret_exact_16[slice8],\n",
        "       simple_regret_exact_17[slice8],\n",
        "       simple_regret_exact_18[slice8],\n",
        "       simple_regret_exact_19[slice8],\n",
        "       simple_regret_exact_20[slice8]]\n",
        "\n",
        "approx8_results = pd.DataFrame(approx8).sort_values(by=[0], ascending=False)\n",
        "exact8_results = pd.DataFrame(exact8).sort_values(by=[0], ascending=False)\n",
        "\n",
        "### Best simple regret minimization IQR - approx:\n",
        "lower_approx8 = np.asarray(approx8_results[4:5][0])[0]\n",
        "median_approx8 = np.asarray(approx8_results[9:10][0])[0]\n",
        "upper_approx8 = np.asarray(approx8_results[14:15][0])[0]\n",
        "\n",
        "lower_exact8 = np.asarray(exact8_results[4:5][0])[0]\n",
        "median_exact8 = np.asarray(exact8_results[9:10][0])[0]\n",
        "upper_exact8 = np.asarray(exact8_results[14:15][0])[0]"
      ]
    },
    {
      "cell_type": "code",
      "execution_count": 91,
      "metadata": {
        "id": "2Dp-9CC2Qxf9"
      },
      "outputs": [],
      "source": [
        "# Iteration18 :\n",
        "\n",
        "slice18 = 17\n",
        "\n",
        "approx18 = [simple_regret_approx_1[slice18],\n",
        "       simple_regret_approx_2[slice18],\n",
        "       simple_regret_approx_3[slice18],\n",
        "       simple_regret_approx_4[slice18],\n",
        "       simple_regret_approx_5[slice18],\n",
        "       simple_regret_approx_6[slice18],\n",
        "       simple_regret_approx_7[slice18],\n",
        "       simple_regret_approx_8[slice18],\n",
        "       simple_regret_approx_9[slice18],\n",
        "       simple_regret_approx_10[slice18],\n",
        "       simple_regret_approx_11[slice18],\n",
        "       simple_regret_approx_12[slice18],\n",
        "       simple_regret_approx_13[slice18],\n",
        "       simple_regret_approx_14[slice18],\n",
        "       simple_regret_approx_15[slice18],\n",
        "       simple_regret_approx_16[slice18],\n",
        "       simple_regret_approx_17[slice18],\n",
        "       simple_regret_approx_18[slice18],\n",
        "       simple_regret_approx_19[slice18],\n",
        "       simple_regret_approx_20[slice18]]\n",
        "\n",
        "exact18 = [simple_regret_exact_1[slice18],\n",
        "       simple_regret_exact_2[slice18],\n",
        "       simple_regret_exact_3[slice18],\n",
        "       simple_regret_exact_4[slice18],\n",
        "       simple_regret_exact_5[slice18],\n",
        "       simple_regret_exact_6[slice18],\n",
        "       simple_regret_exact_7[slice18],\n",
        "       simple_regret_exact_8[slice18],\n",
        "       simple_regret_exact_9[slice18],\n",
        "       simple_regret_exact_10[slice18],\n",
        "       simple_regret_exact_11[slice18],\n",
        "       simple_regret_exact_12[slice18],\n",
        "       simple_regret_exact_13[slice18],\n",
        "       simple_regret_exact_14[slice18],\n",
        "       simple_regret_exact_15[slice18],\n",
        "       simple_regret_exact_16[slice18],\n",
        "       simple_regret_exact_17[slice18],\n",
        "       simple_regret_exact_18[slice18],\n",
        "       simple_regret_exact_19[slice18],\n",
        "       simple_regret_exact_20[slice18]]\n",
        "\n",
        "approx18_results = pd.DataFrame(approx18).sort_values(by=[0], ascending=False)\n",
        "exact18_results = pd.DataFrame(exact18).sort_values(by=[0], ascending=False)\n",
        "\n",
        "### Best simple regret minimization IQR - approx:\n",
        "lower_approx18 = np.asarray(approx18_results[4:5][0])[0]\n",
        "median_approx18 = np.asarray(approx18_results[9:10][0])[0]\n",
        "upper_approx18 = np.asarray(approx18_results[14:15][0])[0]\n",
        "\n",
        "lower_exact18 = np.asarray(exact18_results[4:5][0])[0]\n",
        "median_exact18 = np.asarray(exact18_results[9:10][0])[0]\n",
        "upper_exact18 = np.asarray(exact18_results[14:15][0])[0]"
      ]
    },
    {
      "cell_type": "code",
      "execution_count": 92,
      "metadata": {
        "id": "SqiaOpB7Qxf9"
      },
      "outputs": [],
      "source": [
        "# Iteration9 :\n",
        "\n",
        "slice9 = 8\n",
        "\n",
        "approx9 = [simple_regret_approx_1[slice9],\n",
        "       simple_regret_approx_2[slice9],\n",
        "       simple_regret_approx_3[slice9],\n",
        "       simple_regret_approx_4[slice9],\n",
        "       simple_regret_approx_5[slice9],\n",
        "       simple_regret_approx_6[slice9],\n",
        "       simple_regret_approx_7[slice9],\n",
        "       simple_regret_approx_8[slice9],\n",
        "       simple_regret_approx_9[slice9],\n",
        "       simple_regret_approx_10[slice9],\n",
        "       simple_regret_approx_11[slice9],\n",
        "       simple_regret_approx_12[slice9],\n",
        "       simple_regret_approx_13[slice9],\n",
        "       simple_regret_approx_14[slice9],\n",
        "       simple_regret_approx_15[slice9],\n",
        "       simple_regret_approx_16[slice9],\n",
        "       simple_regret_approx_17[slice9],\n",
        "       simple_regret_approx_18[slice9],\n",
        "       simple_regret_approx_19[slice9],\n",
        "       simple_regret_approx_20[slice9]]\n",
        "\n",
        "exact9 = [simple_regret_exact_1[slice9],\n",
        "       simple_regret_exact_2[slice9],\n",
        "       simple_regret_exact_3[slice9],\n",
        "       simple_regret_exact_4[slice9],\n",
        "       simple_regret_exact_5[slice9],\n",
        "       simple_regret_exact_6[slice9],\n",
        "       simple_regret_exact_7[slice9],\n",
        "       simple_regret_exact_8[slice9],\n",
        "       simple_regret_exact_9[slice9],\n",
        "       simple_regret_exact_10[slice9],\n",
        "       simple_regret_exact_11[slice9],\n",
        "       simple_regret_exact_12[slice9],\n",
        "       simple_regret_exact_13[slice9],\n",
        "       simple_regret_exact_14[slice9],\n",
        "       simple_regret_exact_15[slice9],\n",
        "       simple_regret_exact_16[slice9],\n",
        "       simple_regret_exact_17[slice9],\n",
        "       simple_regret_exact_18[slice9],\n",
        "       simple_regret_exact_19[slice9],\n",
        "       simple_regret_exact_20[slice9]]\n",
        "\n",
        "approx9_results = pd.DataFrame(approx9).sort_values(by=[0], ascending=False)\n",
        "exact9_results = pd.DataFrame(exact9).sort_values(by=[0], ascending=False)\n",
        "\n",
        "### Best simple regret minimization IQR - approx:\n",
        "lower_approx9 = np.asarray(approx9_results[4:5][0])[0]\n",
        "median_approx9 = np.asarray(approx9_results[9:10][0])[0]\n",
        "upper_approx9 = np.asarray(approx9_results[14:15][0])[0]\n",
        "\n",
        "lower_exact9 = np.asarray(exact9_results[4:5][0])[0]\n",
        "median_exact9 = np.asarray(exact9_results[9:10][0])[0]\n",
        "upper_exact9 = np.asarray(exact9_results[14:15][0])[0]"
      ]
    },
    {
      "cell_type": "code",
      "execution_count": 93,
      "metadata": {
        "id": "OQkCCOsPQxf9"
      },
      "outputs": [],
      "source": [
        "# Iteration19 :\n",
        "\n",
        "slice19 = 18\n",
        "\n",
        "approx19 = [simple_regret_approx_1[slice19],\n",
        "       simple_regret_approx_2[slice19],\n",
        "       simple_regret_approx_3[slice19],\n",
        "       simple_regret_approx_4[slice19],\n",
        "       simple_regret_approx_5[slice19],\n",
        "       simple_regret_approx_6[slice19],\n",
        "       simple_regret_approx_7[slice19],\n",
        "       simple_regret_approx_8[slice19],\n",
        "       simple_regret_approx_9[slice19],\n",
        "       simple_regret_approx_10[slice19],\n",
        "       simple_regret_approx_11[slice19],\n",
        "       simple_regret_approx_12[slice19],\n",
        "       simple_regret_approx_13[slice19],\n",
        "       simple_regret_approx_14[slice19],\n",
        "       simple_regret_approx_15[slice19],\n",
        "       simple_regret_approx_16[slice19],\n",
        "       simple_regret_approx_17[slice19],\n",
        "       simple_regret_approx_18[slice19],\n",
        "       simple_regret_approx_19[slice19],\n",
        "       simple_regret_approx_20[slice19]]\n",
        "\n",
        "exact19 = [simple_regret_exact_1[slice19],\n",
        "       simple_regret_exact_2[slice19],\n",
        "       simple_regret_exact_3[slice19],\n",
        "       simple_regret_exact_4[slice19],\n",
        "       simple_regret_exact_5[slice19],\n",
        "       simple_regret_exact_6[slice19],\n",
        "       simple_regret_exact_7[slice19],\n",
        "       simple_regret_exact_8[slice19],\n",
        "       simple_regret_exact_9[slice19],\n",
        "       simple_regret_exact_10[slice19],\n",
        "       simple_regret_exact_11[slice19],\n",
        "       simple_regret_exact_12[slice19],\n",
        "       simple_regret_exact_13[slice19],\n",
        "       simple_regret_exact_14[slice19],\n",
        "       simple_regret_exact_15[slice19],\n",
        "       simple_regret_exact_16[slice19],\n",
        "       simple_regret_exact_17[slice19],\n",
        "       simple_regret_exact_18[slice19],\n",
        "       simple_regret_exact_19[slice19],\n",
        "       simple_regret_exact_20[slice19]]\n",
        "\n",
        "approx19_results = pd.DataFrame(approx19).sort_values(by=[0], ascending=False)\n",
        "exact19_results = pd.DataFrame(exact19).sort_values(by=[0], ascending=False)\n",
        "\n",
        "### Best simple regret minimization IQR - approx:\n",
        "lower_approx19 = np.asarray(approx19_results[4:5][0])[0]\n",
        "median_approx19 = np.asarray(approx19_results[9:10][0])[0]\n",
        "upper_approx19 = np.asarray(approx19_results[14:15][0])[0]\n",
        "\n",
        "lower_exact19 = np.asarray(exact19_results[4:5][0])[0]\n",
        "median_exact19 = np.asarray(exact19_results[9:10][0])[0]\n",
        "upper_exact19 = np.asarray(exact19_results[14:15][0])[0]"
      ]
    },
    {
      "cell_type": "code",
      "execution_count": 94,
      "metadata": {
        "id": "h4vtWahcQxf-"
      },
      "outputs": [],
      "source": [
        "# Iteration10 :\n",
        "\n",
        "slice10 = 9\n",
        "\n",
        "approx10 = [simple_regret_approx_1[slice10],\n",
        "       simple_regret_approx_2[slice10],\n",
        "       simple_regret_approx_3[slice10],\n",
        "       simple_regret_approx_4[slice10],\n",
        "       simple_regret_approx_5[slice10],\n",
        "       simple_regret_approx_6[slice10],\n",
        "       simple_regret_approx_7[slice10],\n",
        "       simple_regret_approx_8[slice10],\n",
        "       simple_regret_approx_9[slice10],\n",
        "       simple_regret_approx_10[slice10],\n",
        "       simple_regret_approx_11[slice10],\n",
        "       simple_regret_approx_12[slice10],\n",
        "       simple_regret_approx_13[slice10],\n",
        "       simple_regret_approx_14[slice10],\n",
        "       simple_regret_approx_15[slice10],\n",
        "       simple_regret_approx_16[slice10],\n",
        "       simple_regret_approx_17[slice10],\n",
        "       simple_regret_approx_18[slice10],\n",
        "       simple_regret_approx_19[slice10],\n",
        "       simple_regret_approx_20[slice10]]\n",
        "\n",
        "exact10 = [simple_regret_exact_1[slice10],\n",
        "       simple_regret_exact_2[slice10],\n",
        "       simple_regret_exact_3[slice10],\n",
        "       simple_regret_exact_4[slice10],\n",
        "       simple_regret_exact_5[slice10],\n",
        "       simple_regret_exact_6[slice10],\n",
        "       simple_regret_exact_7[slice10],\n",
        "       simple_regret_exact_8[slice10],\n",
        "       simple_regret_exact_9[slice10],\n",
        "       simple_regret_exact_10[slice10],\n",
        "       simple_regret_exact_11[slice10],\n",
        "       simple_regret_exact_12[slice10],\n",
        "       simple_regret_exact_13[slice10],\n",
        "       simple_regret_exact_14[slice10],\n",
        "       simple_regret_exact_15[slice10],\n",
        "       simple_regret_exact_16[slice10],\n",
        "       simple_regret_exact_17[slice10],\n",
        "       simple_regret_exact_18[slice10],\n",
        "       simple_regret_exact_19[slice10],\n",
        "       simple_regret_exact_20[slice10]]\n",
        "\n",
        "approx10_results = pd.DataFrame(approx10).sort_values(by=[0], ascending=False)\n",
        "exact10_results = pd.DataFrame(exact10).sort_values(by=[0], ascending=False)\n",
        "\n",
        "### Best simple regret minimization IQR - approx:\n",
        "lower_approx10 = np.asarray(approx10_results[4:5][0])[0]\n",
        "median_approx10 = np.asarray(approx10_results[9:10][0])[0]\n",
        "upper_approx10 = np.asarray(approx10_results[14:15][0])[0]\n",
        "\n",
        "lower_exact10 = np.asarray(exact10_results[4:5][0])[0]\n",
        "median_exact10 = np.asarray(exact10_results[9:10][0])[0]\n",
        "upper_exact10 = np.asarray(exact10_results[14:15][0])[0]"
      ]
    },
    {
      "cell_type": "code",
      "execution_count": 95,
      "metadata": {
        "id": "Rsf240pWQxf-"
      },
      "outputs": [],
      "source": [
        "# Iteration20 :\n",
        "\n",
        "slice20 = 19\n",
        "\n",
        "approx20 = [simple_regret_approx_1[slice20],\n",
        "       simple_regret_approx_2[slice20],\n",
        "       simple_regret_approx_3[slice20],\n",
        "       simple_regret_approx_4[slice20],\n",
        "       simple_regret_approx_5[slice20],\n",
        "       simple_regret_approx_6[slice20],\n",
        "       simple_regret_approx_7[slice20],\n",
        "       simple_regret_approx_8[slice20],\n",
        "       simple_regret_approx_9[slice20],\n",
        "       simple_regret_approx_10[slice20],\n",
        "       simple_regret_approx_11[slice20],\n",
        "       simple_regret_approx_12[slice20],\n",
        "       simple_regret_approx_13[slice20],\n",
        "       simple_regret_approx_14[slice20],\n",
        "       simple_regret_approx_15[slice20],\n",
        "       simple_regret_approx_16[slice20],\n",
        "       simple_regret_approx_17[slice20],\n",
        "       simple_regret_approx_18[slice20],\n",
        "       simple_regret_approx_19[slice20],\n",
        "       simple_regret_approx_20[slice20]]\n",
        "\n",
        "exact20 = [simple_regret_exact_1[slice20],\n",
        "       simple_regret_exact_2[slice20],\n",
        "       simple_regret_exact_3[slice20],\n",
        "       simple_regret_exact_4[slice20],\n",
        "       simple_regret_exact_5[slice20],\n",
        "       simple_regret_exact_6[slice20],\n",
        "       simple_regret_exact_7[slice20],\n",
        "       simple_regret_exact_8[slice20],\n",
        "       simple_regret_exact_9[slice20],\n",
        "       simple_regret_exact_10[slice20],\n",
        "       simple_regret_exact_11[slice20],\n",
        "       simple_regret_exact_12[slice20],\n",
        "       simple_regret_exact_13[slice20],\n",
        "       simple_regret_exact_14[slice20],\n",
        "       simple_regret_exact_15[slice20],\n",
        "       simple_regret_exact_16[slice20],\n",
        "       simple_regret_exact_17[slice20],\n",
        "       simple_regret_exact_18[slice20],\n",
        "       simple_regret_exact_19[slice20],\n",
        "       simple_regret_exact_20[slice20]]\n",
        "\n",
        "approx20_results = pd.DataFrame(approx20).sort_values(by=[0], ascending=False)\n",
        "exact20_results = pd.DataFrame(exact20).sort_values(by=[0], ascending=False)\n",
        "\n",
        "### Best simple regret minimization IQR - approx:\n",
        "lower_approx20 = np.asarray(approx20_results[4:5][0])[0]\n",
        "median_approx20 = np.asarray(approx20_results[9:10][0])[0]\n",
        "upper_approx20 = np.asarray(approx20_results[14:15][0])[0]\n",
        "\n",
        "lower_exact20 = np.asarray(exact20_results[4:5][0])[0]\n",
        "median_exact20 = np.asarray(exact20_results[9:10][0])[0]\n",
        "upper_exact20 = np.asarray(exact20_results[14:15][0])[0]"
      ]
    },
    {
      "cell_type": "code",
      "execution_count": 96,
      "metadata": {
        "id": "gn36RejbQxf_"
      },
      "outputs": [],
      "source": [
        "### Summarize arrays: 'Loser'\n",
        "\n",
        "lower_approx = [lower_approx1,\n",
        "            lower_approx2,\n",
        "            lower_approx3,\n",
        "            lower_approx4,\n",
        "            lower_approx5,\n",
        "            lower_approx6,\n",
        "            lower_approx7,\n",
        "            lower_approx8,\n",
        "            lower_approx9,\n",
        "            lower_approx10,\n",
        "            lower_approx11,\n",
        "            lower_approx12,\n",
        "            lower_approx13,\n",
        "            lower_approx14,\n",
        "            lower_approx15,\n",
        "            lower_approx16,\n",
        "            lower_approx17,\n",
        "            lower_approx18,\n",
        "            lower_approx19,\n",
        "            lower_approx20,\n",
        "            lower_approx21]\n",
        "\n",
        "median_approx = [median_approx1,\n",
        "            median_approx2,\n",
        "            median_approx3,\n",
        "            median_approx4,\n",
        "            median_approx5,\n",
        "            median_approx6,\n",
        "            median_approx7,\n",
        "            median_approx8,\n",
        "            median_approx9,\n",
        "            median_approx10,\n",
        "            median_approx11,\n",
        "            median_approx12,\n",
        "            median_approx13,\n",
        "            median_approx14,\n",
        "            median_approx15,\n",
        "            median_approx16,\n",
        "            median_approx17,\n",
        "            median_approx18,\n",
        "            median_approx19,\n",
        "            median_approx20,\n",
        "            median_approx21]\n",
        "\n",
        "upper_approx = [upper_approx1,\n",
        "            upper_approx2,\n",
        "            upper_approx3,\n",
        "            upper_approx4,\n",
        "            upper_approx5,\n",
        "            upper_approx6,\n",
        "            upper_approx7,\n",
        "            upper_approx8,\n",
        "            upper_approx9,\n",
        "            upper_approx10,\n",
        "            upper_approx11,\n",
        "            upper_approx12,\n",
        "            upper_approx13,\n",
        "            upper_approx14,\n",
        "            upper_approx15,\n",
        "            upper_approx16,\n",
        "            upper_approx17,\n",
        "            upper_approx18,\n",
        "            upper_approx19,\n",
        "            upper_approx20,\n",
        "            upper_approx21]"
      ]
    },
    {
      "cell_type": "code",
      "execution_count": 97,
      "metadata": {
        "id": "wxtGTOYfQxf_"
      },
      "outputs": [],
      "source": [
        "### Summarize arrays: 'exact'\n",
        "\n",
        "lower_exact = [lower_exact1,\n",
        "            lower_exact2,\n",
        "            lower_exact3,\n",
        "            lower_exact4,\n",
        "            lower_exact5,\n",
        "            lower_exact6,\n",
        "            lower_exact7,\n",
        "            lower_exact8,\n",
        "            lower_exact9,\n",
        "            lower_exact10,\n",
        "            lower_exact11,\n",
        "            lower_exact12,\n",
        "            lower_exact13,\n",
        "            lower_exact14,\n",
        "            lower_exact15,\n",
        "            lower_exact16,\n",
        "            lower_exact17,\n",
        "            lower_exact18,\n",
        "            lower_exact19,\n",
        "            lower_exact20,\n",
        "            lower_exact21]\n",
        "\n",
        "median_exact = [median_exact1,\n",
        "            median_exact2,\n",
        "            median_exact3,\n",
        "            median_exact4,\n",
        "            median_exact5,\n",
        "            median_exact6,\n",
        "            median_exact7,\n",
        "            median_exact8,\n",
        "            median_exact9,\n",
        "            median_exact10,\n",
        "            median_exact11,\n",
        "            median_exact12,\n",
        "            median_exact13,\n",
        "            median_exact14,\n",
        "            median_exact15,\n",
        "            median_exact16,\n",
        "            median_exact17,\n",
        "            median_exact18,\n",
        "            median_exact19,\n",
        "            median_exact20,\n",
        "            median_exact21]\n",
        "\n",
        "upper_exact = [upper_exact1,\n",
        "            upper_exact2,\n",
        "            upper_exact3,\n",
        "            upper_exact4,\n",
        "            upper_exact5,\n",
        "            upper_exact6,\n",
        "            upper_exact7,\n",
        "            upper_exact8,\n",
        "            upper_exact9,\n",
        "            upper_exact10,\n",
        "            upper_exact11,\n",
        "            upper_exact12,\n",
        "            upper_exact13,\n",
        "            upper_exact14,\n",
        "            upper_exact15,\n",
        "            upper_exact16,\n",
        "            upper_exact17,\n",
        "            upper_exact18,\n",
        "            upper_exact19,\n",
        "            upper_exact20,\n",
        "            upper_exact21]"
      ]
    },
    {
      "cell_type": "code",
      "execution_count": 98,
      "metadata": {
        "id": "2MONq-BXQxgA",
        "colab": {
          "base_uri": "https://localhost:8080/",
          "height": 299
        },
        "outputId": "8f794f2b-17b7-4b88-8e5a-0f98f328309c"
      },
      "outputs": [
        {
          "output_type": "display_data",
          "data": {
            "text/plain": [
              "<Figure size 432x288 with 1 Axes>"
            ],
            "image/png": "[encoded data removed]"
          },
          "metadata": {
            "needs_background": "light"
          }
        }
      ],
      "source": [
        "### Visualise!\n",
        "\n",
        "title = func\n",
        "plt.figure()\n",
        "\n",
        "plt.plot(median_approx, color = 'Yellow')\n",
        "plt.plot(median_exact, color = 'Red')\n",
        "\n",
        "xstar = np.arange(0, iters+1, step=1)\n",
        "plt.fill_between(xstar, lower_approx, upper_approx, facecolor = 'Yellow', alpha=0.4, label='GP EI Optimization: Approx GP EI gradients')\n",
        "plt.fill_between(xstar, lower_exact, upper_exact, facecolor = 'Red', alpha=0.4, label='GP EI Optimization: Exact GP dEI gradients')\n",
        "\n",
        "plt.title(title, weight = 'bold')\n",
        "plt.xlabel('(Post-initialization) iteration $\\it{k}$', weight = 'bold')\n",
        "plt.ylabel('log(Regret)', weight = 'bold') \n",
        "plt.legend(loc=0) # add plot legend\n",
        "\n",
        "### Make the x-ticks integers, not floats:\n",
        "count = len(xstar)\n",
        "plt.xticks(np.arange(count), np.arange(0, count))\n",
        "plt.show() #visualize!"
      ]
    },
    {
      "cell_type": "code",
      "execution_count": 99,
      "metadata": {
        "id": "l5dkR2Id2oiu",
        "colab": {
          "base_uri": "https://localhost:8080/"
        },
        "outputId": "85b5b53c-d4a8-442c-8b43-569bbd7628e2"
      },
      "outputs": [
        {
          "output_type": "execute_result",
          "data": {
            "text/plain": [
              "(911.5457062721252, 880.9501490592957)"
            ]
          },
          "metadata": {},
          "execution_count": 99
        }
      ],
      "source": [
        "time_approx, time_exact\n"
      ]
    },
    {
      "cell_type": "code",
      "source": [
        "### acqFunc attribute x, stddev: run number = 1\n",
        "\n",
        "acqFuncApprox_exact_1 = acqFuncApprox(exact_1.history)\n",
        "acqFuncExact_exact_1 = acqFuncExact(exact_1.history)\n",
        "\n",
        "e1 = np.mean(acqFuncExact_exact_1)\n",
        "a1 = np.mean(acqFuncApprox_exact_1)\n",
        "\n",
        "e1, a1\n"
      ],
      "metadata": {
        "colab": {
          "base_uri": "https://localhost:8080/"
        },
        "id": "uwxv4dmfGsLr",
        "outputId": "323ef7df-f52e-4e3b-91b5-9a60f35ad703"
      },
      "execution_count": 100,
      "outputs": [
        {
          "output_type": "execute_result",
          "data": {
            "text/plain": [
              "(2.926825601557, 2.9720028526857725)"
            ]
          },
          "metadata": {},
          "execution_count": 100
        }
      ]
    },
    {
      "cell_type": "code",
      "source": [
        "### acqFunc attribute x, stddev: run number = 2\n",
        "\n",
        "acqFuncApprox_exact_2 = acqFuncApprox(exact_2.history)\n",
        "acqFuncExact_exact_2 = acqFuncExact(exact_2.history)\n",
        "\n",
        "e2 = np.mean(acqFuncExact_exact_2)\n",
        "a2 = np.mean(acqFuncApprox_exact_2)\n",
        "\n",
        "e2, a2\n"
      ],
      "metadata": {
        "colab": {
          "base_uri": "https://localhost:8080/"
        },
        "id": "0YSV00_pGsXe",
        "outputId": "e2553bb0-464d-4984-b6aa-8940d700e1c6"
      },
      "execution_count": 101,
      "outputs": [
        {
          "output_type": "execute_result",
          "data": {
            "text/plain": [
              "(3.0038123199581013, 3.0559177268490822)"
            ]
          },
          "metadata": {},
          "execution_count": 101
        }
      ]
    },
    {
      "cell_type": "code",
      "source": [
        "### acqFunc attribute x, stddev: run number = 3\n",
        "\n",
        "acqFuncApprox_exact_3 = acqFuncApprox(exact_3.history)\n",
        "acqFuncExact_exact_3 = acqFuncExact(exact_3.history)\n",
        "\n",
        "e3 = np.mean(acqFuncExact_exact_3)\n",
        "a3 = np.mean(acqFuncApprox_exact_3)\n",
        "\n",
        "e3, a3\n"
      ],
      "metadata": {
        "colab": {
          "base_uri": "https://localhost:8080/"
        },
        "id": "HHVmsd2UGsjT",
        "outputId": "ec78a6be-c850-4a74-9f2a-18757a3aad9d"
      },
      "execution_count": 102,
      "outputs": [
        {
          "output_type": "execute_result",
          "data": {
            "text/plain": [
              "(2.755201453560254, 2.872109034829438)"
            ]
          },
          "metadata": {},
          "execution_count": 102
        }
      ]
    },
    {
      "cell_type": "code",
      "source": [
        "### acqFunc attribute x, stddev: run number = 4\n",
        "\n",
        "acqFuncApprox_exact_4 = acqFuncApprox(exact_4.history)\n",
        "acqFuncExact_exact_4 = acqFuncExact(exact_4.history)\n",
        "\n",
        "e4 = np.mean(acqFuncExact_exact_4)\n",
        "a4 = np.mean(acqFuncApprox_exact_4)\n",
        "\n",
        "e4, a4\n"
      ],
      "metadata": {
        "colab": {
          "base_uri": "https://localhost:8080/"
        },
        "id": "r7O19S2eGsu7",
        "outputId": "0fadd2ab-5a5d-4371-ce3b-5461082efb59"
      },
      "execution_count": 103,
      "outputs": [
        {
          "output_type": "execute_result",
          "data": {
            "text/plain": [
              "(2.9280150837589347, 3.043087762794357)"
            ]
          },
          "metadata": {},
          "execution_count": 103
        }
      ]
    },
    {
      "cell_type": "code",
      "source": [
        "### acqFunc attribute x, stddev: run number = 5\n",
        "\n",
        "acqFuncApprox_exact_5 = acqFuncApprox(exact_5.history)\n",
        "acqFuncExact_exact_5 = acqFuncExact(exact_5.history)\n",
        "\n",
        "e5 = np.mean(acqFuncExact_exact_5)\n",
        "a5 = np.mean(acqFuncApprox_exact_5)\n",
        "\n",
        "e5, a5\n"
      ],
      "metadata": {
        "colab": {
          "base_uri": "https://localhost:8080/"
        },
        "id": "sdb9o6NuGs5m",
        "outputId": "573075db-28e7-4f87-b414-1a24ea4cf48c"
      },
      "execution_count": 104,
      "outputs": [
        {
          "output_type": "execute_result",
          "data": {
            "text/plain": [
              "(2.9715943091336396, 3.03772264943446)"
            ]
          },
          "metadata": {},
          "execution_count": 104
        }
      ]
    },
    {
      "cell_type": "code",
      "source": [
        "### acqFunc attribute x, stddev: run number = 6\n",
        "\n",
        "acqFuncApprox_exact_6 = acqFuncApprox(exact_6.history)\n",
        "acqFuncExact_exact_6 = acqFuncExact(exact_6.history)\n",
        "\n",
        "e6 = np.mean(acqFuncExact_exact_6)\n",
        "a6 = np.mean(acqFuncApprox_exact_6)\n",
        "\n",
        "e6, a6\n"
      ],
      "metadata": {
        "colab": {
          "base_uri": "https://localhost:8080/"
        },
        "id": "COQl7LZ8GtE0",
        "outputId": "6a0de24d-c21c-4a39-8971-93a29829d757"
      },
      "execution_count": 105,
      "outputs": [
        {
          "output_type": "execute_result",
          "data": {
            "text/plain": [
              "(3.0641974532213783, 3.11560051530988)"
            ]
          },
          "metadata": {},
          "execution_count": 105
        }
      ]
    },
    {
      "cell_type": "code",
      "source": [
        "### acqFunc attribute x, stddev: run number = 7\n",
        "\n",
        "acqFuncApprox_exact_7 = acqFuncApprox(exact_7.history)\n",
        "acqFuncExact_exact_7 = acqFuncExact(exact_7.history)\n",
        "\n",
        "e7 = np.mean(acqFuncExact_exact_7)\n",
        "a7 = np.mean(acqFuncApprox_exact_7)\n",
        "\n",
        "e7, a7\n"
      ],
      "metadata": {
        "colab": {
          "base_uri": "https://localhost:8080/"
        },
        "id": "2gy9EtTzGtP7",
        "outputId": "ee7da4aa-4a50-41d8-bfc3-1b36ba6d5cee"
      },
      "execution_count": 106,
      "outputs": [
        {
          "output_type": "execute_result",
          "data": {
            "text/plain": [
              "(2.9540408122544783, 3.0544183542205885)"
            ]
          },
          "metadata": {},
          "execution_count": 106
        }
      ]
    },
    {
      "cell_type": "code",
      "source": [
        "### acqFunc attribute x, stddev: run number = 8\n",
        "\n",
        "acqFuncApprox_exact_8 = acqFuncApprox(exact_8.history)\n",
        "acqFuncExact_exact_8 = acqFuncExact(exact_8.history)\n",
        "\n",
        "e8 = np.mean(acqFuncExact_exact_8)\n",
        "a8 = np.mean(acqFuncApprox_exact_8)\n",
        "\n",
        "e8, a8\n"
      ],
      "metadata": {
        "colab": {
          "base_uri": "https://localhost:8080/"
        },
        "id": "S7mn0qoMGtbM",
        "outputId": "8c7f0d00-f959-424d-dfed-ed172a278f00"
      },
      "execution_count": 107,
      "outputs": [
        {
          "output_type": "execute_result",
          "data": {
            "text/plain": [
              "(2.854753835554949, 3.05156823595728)"
            ]
          },
          "metadata": {},
          "execution_count": 107
        }
      ]
    },
    {
      "cell_type": "code",
      "source": [
        "### acqFunc attribute x, stddev: run number = 9\n",
        "\n",
        "acqFuncApprox_exact_9 = acqFuncApprox(exact_9.history)\n",
        "acqFuncExact_exact_9 = acqFuncExact(exact_9.history)\n",
        "\n",
        "e9 = np.mean(acqFuncExact_exact_9)\n",
        "a9 = np.mean(acqFuncApprox_exact_9)\n",
        "\n",
        "e9, a9\n"
      ],
      "metadata": {
        "colab": {
          "base_uri": "https://localhost:8080/"
        },
        "id": "BhljmkNxGtms",
        "outputId": "1c9d9d9a-37b2-4019-fc08-8802ba6511ea"
      },
      "execution_count": 108,
      "outputs": [
        {
          "output_type": "execute_result",
          "data": {
            "text/plain": [
              "(2.8028514972119503, 3.0238275822681624)"
            ]
          },
          "metadata": {},
          "execution_count": 108
        }
      ]
    },
    {
      "cell_type": "code",
      "source": [
        "### acqFunc attribute x, stddev: run number = 10\n",
        "\n",
        "acqFuncApprox_exact_10 = acqFuncApprox(exact_10.history)\n",
        "acqFuncExact_exact_10 = acqFuncExact(exact_10.history)\n",
        "\n",
        "e10 = np.mean(acqFuncExact_exact_10)\n",
        "a10 = np.mean(acqFuncApprox_exact_10)\n",
        "\n",
        "e10, a10\n"
      ],
      "metadata": {
        "colab": {
          "base_uri": "https://localhost:8080/"
        },
        "id": "W5GZo6k3Gtx8",
        "outputId": "d910bb96-43aa-4f67-d3d9-8cb1be9d99be"
      },
      "execution_count": 109,
      "outputs": [
        {
          "output_type": "execute_result",
          "data": {
            "text/plain": [
              "(2.990200777722143, 3.1725283562302877)"
            ]
          },
          "metadata": {},
          "execution_count": 109
        }
      ]
    },
    {
      "cell_type": "code",
      "source": [
        "### acqFunc attribute x, stddev: run number = 11\n",
        "\n",
        "acqFuncApprox_exact_11 = acqFuncApprox(exact_11.history)\n",
        "acqFuncExact_exact_11 = acqFuncExact(exact_11.history)\n",
        "\n",
        "e11 = np.mean(acqFuncExact_exact_11)\n",
        "a11 = np.mean(acqFuncApprox_exact_11)\n",
        "\n",
        "e11, a11\n"
      ],
      "metadata": {
        "colab": {
          "base_uri": "https://localhost:8080/"
        },
        "id": "isKNhDk5Gt9D",
        "outputId": "ac103bfd-7ee1-4ed4-ee9d-bf8553c46911"
      },
      "execution_count": 110,
      "outputs": [
        {
          "output_type": "execute_result",
          "data": {
            "text/plain": [
              "(2.806204182438031, 3.0660805375257367)"
            ]
          },
          "metadata": {},
          "execution_count": 110
        }
      ]
    },
    {
      "cell_type": "code",
      "source": [
        "### acqFunc attribute x, stddev: run number = 12\n",
        "\n",
        "acqFuncApprox_exact_12 = acqFuncApprox(exact_12.history)\n",
        "acqFuncExact_exact_12 = acqFuncExact(exact_12.history)\n",
        "\n",
        "e12 = np.mean(acqFuncExact_exact_12)\n",
        "a12 = np.mean(acqFuncApprox_exact_12)\n",
        "\n",
        "e12, a12\n"
      ],
      "metadata": {
        "colab": {
          "base_uri": "https://localhost:8080/"
        },
        "id": "8ts-wrSuGuIm",
        "outputId": "1e23c2d7-7ccc-4d34-c3f4-d45440a6642a"
      },
      "execution_count": 111,
      "outputs": [
        {
          "output_type": "execute_result",
          "data": {
            "text/plain": [
              "(2.9018664568083383, 2.901709296262007)"
            ]
          },
          "metadata": {},
          "execution_count": 111
        }
      ]
    },
    {
      "cell_type": "code",
      "source": [
        "### acqFunc attribute x, stddev: run number = 13\n",
        "\n",
        "acqFuncApprox_exact_13 = acqFuncApprox(exact_13.history)\n",
        "acqFuncExact_exact_13 = acqFuncExact(exact_13.history)\n",
        "\n",
        "e13 = np.mean(acqFuncExact_exact_13)\n",
        "a13 = np.mean(acqFuncApprox_exact_13)\n",
        "\n",
        "e13, a13\n"
      ],
      "metadata": {
        "colab": {
          "base_uri": "https://localhost:8080/"
        },
        "id": "n0drhEe3GuUL",
        "outputId": "f9630a05-4a37-439b-8a3c-5cc19bb963cc"
      },
      "execution_count": 112,
      "outputs": [
        {
          "output_type": "execute_result",
          "data": {
            "text/plain": [
              "(2.809641743567936, 3.1900573776652057)"
            ]
          },
          "metadata": {},
          "execution_count": 112
        }
      ]
    },
    {
      "cell_type": "code",
      "source": [
        "### acqFunc attribute x, stddev: run number = 14\n",
        "\n",
        "acqFuncApprox_exact_14 = acqFuncApprox(exact_14.history)\n",
        "acqFuncExact_exact_14 = acqFuncExact(exact_14.history)\n",
        "\n",
        "e14 = np.mean(acqFuncExact_exact_14)\n",
        "a14 = np.mean(acqFuncApprox_exact_14)\n",
        "\n",
        "e14, a14\n"
      ],
      "metadata": {
        "colab": {
          "base_uri": "https://localhost:8080/"
        },
        "id": "R0W3MZaVGues",
        "outputId": "60e13306-68c5-4cb8-aa56-55de8b9eb806"
      },
      "execution_count": 113,
      "outputs": [
        {
          "output_type": "execute_result",
          "data": {
            "text/plain": [
              "(2.88953678605258, 2.908666829991893)"
            ]
          },
          "metadata": {},
          "execution_count": 113
        }
      ]
    },
    {
      "cell_type": "code",
      "source": [
        "### acqFunc attribute x, stddev: run number = 15\n",
        "\n",
        "acqFuncApprox_exact_15 = acqFuncApprox(exact_15.history)\n",
        "acqFuncExact_exact_15 = acqFuncExact(exact_15.history)\n",
        "\n",
        "e15 = np.mean(acqFuncExact_exact_15)\n",
        "a15 = np.mean(acqFuncApprox_exact_15)\n",
        "\n",
        "e15, a15\n"
      ],
      "metadata": {
        "colab": {
          "base_uri": "https://localhost:8080/"
        },
        "id": "DoXdDFHoGup-",
        "outputId": "e6626217-967e-4b58-f074-bf09f21f55ac"
      },
      "execution_count": 114,
      "outputs": [
        {
          "output_type": "execute_result",
          "data": {
            "text/plain": [
              "(2.8232370839164966, 2.952955212959383)"
            ]
          },
          "metadata": {},
          "execution_count": 114
        }
      ]
    },
    {
      "cell_type": "code",
      "source": [
        "### acqFunc attribute x, stddev: run number = 16\n",
        "\n",
        "acqFuncApprox_exact_16 = acqFuncApprox(exact_16.history)\n",
        "acqFuncExact_exact_16 = acqFuncExact(exact_16.history)\n",
        "\n",
        "e16 = np.mean(acqFuncExact_exact_16)\n",
        "a16 = np.mean(acqFuncApprox_exact_16)\n",
        "\n",
        "e16, a16\n"
      ],
      "metadata": {
        "colab": {
          "base_uri": "https://localhost:8080/"
        },
        "id": "K_wAeqSoGu2j",
        "outputId": "6510e6f8-6aeb-4ebd-9197-8bc94fbe2b8d"
      },
      "execution_count": 115,
      "outputs": [
        {
          "output_type": "execute_result",
          "data": {
            "text/plain": [
              "(2.9557602220042662, 3.0596731662370447)"
            ]
          },
          "metadata": {},
          "execution_count": 115
        }
      ]
    },
    {
      "cell_type": "code",
      "source": [
        "### acqFunc attribute x, stddev: run number = 17\n",
        "\n",
        "acqFuncApprox_exact_17 = acqFuncApprox(exact_17.history)\n",
        "acqFuncExact_exact_17 = acqFuncExact(exact_17.history)\n",
        "\n",
        "e17 = np.mean(acqFuncExact_exact_17)\n",
        "a17 = np.mean(acqFuncApprox_exact_17)\n",
        "\n",
        "e17, a17\n"
      ],
      "metadata": {
        "colab": {
          "base_uri": "https://localhost:8080/"
        },
        "id": "n6zy78fjGvBT",
        "outputId": "4b05dd86-e6dc-4133-a9ed-19c58ef519d0"
      },
      "execution_count": 116,
      "outputs": [
        {
          "output_type": "execute_result",
          "data": {
            "text/plain": [
              "(2.8011580001083094, 3.077558079138686)"
            ]
          },
          "metadata": {},
          "execution_count": 116
        }
      ]
    },
    {
      "cell_type": "code",
      "source": [
        "### acqFunc attribute x, stddev: run number = 18\n",
        "\n",
        "acqFuncApprox_exact_18 = acqFuncApprox(exact_18.history)\n",
        "acqFuncExact_exact_18 = acqFuncExact(exact_18.history)\n",
        "\n",
        "e18 = np.mean(acqFuncExact_exact_18)\n",
        "a18 = np.mean(acqFuncApprox_exact_18)\n",
        "\n",
        "e18, a18\n"
      ],
      "metadata": {
        "colab": {
          "base_uri": "https://localhost:8080/"
        },
        "id": "s_6_2K4iGvM-",
        "outputId": "44ec8f4f-03a7-43a6-867a-cfe132c65572"
      },
      "execution_count": 117,
      "outputs": [
        {
          "output_type": "execute_result",
          "data": {
            "text/plain": [
              "(2.873060363525009, 3.04067573113076)"
            ]
          },
          "metadata": {},
          "execution_count": 117
        }
      ]
    },
    {
      "cell_type": "code",
      "source": [
        "### acqFunc attribute x, stddev: run number = 19\n",
        "\n",
        "acqFuncApprox_exact_19 = acqFuncApprox(exact_19.history)\n",
        "acqFuncExact_exact_19 = acqFuncExact(exact_19.history)\n",
        "\n",
        "e19 = np.mean(acqFuncExact_exact_19)\n",
        "a19 = np.mean(acqFuncApprox_exact_19)\n",
        "\n",
        "e19, a19\n"
      ],
      "metadata": {
        "colab": {
          "base_uri": "https://localhost:8080/"
        },
        "id": "o8oO8pdBGvYk",
        "outputId": "2f662b30-2685-4b81-8c8a-63386d72cf9e"
      },
      "execution_count": 118,
      "outputs": [
        {
          "output_type": "execute_result",
          "data": {
            "text/plain": [
              "(2.851494979283359, 2.943734183322239)"
            ]
          },
          "metadata": {},
          "execution_count": 118
        }
      ]
    },
    {
      "cell_type": "code",
      "source": [
        "### acqFunc attribute x, stddev: run number = 20\n",
        "\n",
        "acqFuncApprox_exact_20 = acqFuncApprox(exact_20.history)\n",
        "acqFuncExact_exact_20 = acqFuncExact(exact_20.history)\n",
        "\n",
        "e20 = np.mean(acqFuncExact_exact_20)\n",
        "a20 = np.mean(acqFuncApprox_exact_20)\n",
        "\n",
        "e20, a20\n"
      ],
      "metadata": {
        "colab": {
          "base_uri": "https://localhost:8080/"
        },
        "id": "b2w8oLc0IMzU",
        "outputId": "f9d73a10-ac92-4af5-88a9-b25beb7e0656"
      },
      "execution_count": 119,
      "outputs": [
        {
          "output_type": "execute_result",
          "data": {
            "text/plain": [
              "(3.0372262005016397, 3.089653320007723)"
            ]
          },
          "metadata": {},
          "execution_count": 119
        }
      ]
    },
    {
      "cell_type": "code",
      "source": [
        "### Summarize arrays: \n",
        "\n",
        "exact_stddev = np.sort([e1,e2,e3,e4,e5,e6,e7,e8,e9,e10,e11,e12,e13,e14,e15,e16,e17,e18,e19,e20])\n",
        "approx_stddev = np.sort([a1,a2,a3,a4,a5,a6,a7,a8,a9,a10,a11,a12,a13,a14,a15,a16,a17,a18,a19,a20])\n",
        "\n",
        "np.mean(exact_stddev), np.mean(approx_stddev)\n"
      ],
      "metadata": {
        "colab": {
          "base_uri": "https://localhost:8080/"
        },
        "id": "qAZs3yxMIZul",
        "outputId": "8eee2995-f699-4651-cabf-c083634b1310"
      },
      "execution_count": 120,
      "outputs": [
        {
          "output_type": "execute_result",
          "data": {
            "text/plain": [
              "(2.90003395810694, 3.031477340240999)"
            ]
          },
          "metadata": {},
          "execution_count": 120
        }
      ]
    },
    {
      "cell_type": "code",
      "source": [
        "### Visualise!\n",
        "\n",
        "title = func\n",
        "plt.figure()\n",
        "\n",
        "plt.plot(approx_stddev, color = 'Yellow', ls='-', label='Average $\\sigma$, attribute $\\mathbf{x}$: Approx GP EI gradients')\n",
        "plt.plot(exact_stddev, color = 'Red', ls='-.', label='Average $\\sigma$, attribute $\\mathbf{x}$: Exact GP dEI gradients')\n",
        "\n",
        "plt.title(title, weight = 'bold')\n",
        "plt.xlabel('Function evaluations: iteration $\\it{k}$', weight = 'bold')\n",
        "plt.ylabel('GP EI: $\\sigma$($\\mathbf{x^{*}}$)', weight = 'bold') \n",
        "plt.legend(loc=0) # add plot legend\n",
        "\n",
        "### Make the x-ticks integers, not floats:\n",
        "count = len(xstar)\n",
        "plt.xticks(np.arange(count), np.arange(1, count))\n",
        "plt.show() #visualize!\n"
      ],
      "metadata": {
        "colab": {
          "base_uri": "https://localhost:8080/",
          "height": 297
        },
        "id": "e_kpqYcMIZxu",
        "outputId": "87a46544-98e4-4ce8-c700-a65d137eefb3"
      },
      "execution_count": 121,
      "outputs": [
        {
          "output_type": "display_data",
          "data": {
            "text/plain": [
              "<Figure size 432x288 with 1 Axes>"
            ],
            "image/png": "[encoded data removed]"
          },
          "metadata": {
            "needs_background": "light"
          }
        }
      ]
    },
    {
      "cell_type": "code",
      "source": [
        ""
      ],
      "metadata": {
        "id": "LToGd4vZIZ3I"
      },
      "execution_count": 121,
      "outputs": []
    }
  ],
  "metadata": {
    "colab": {
      "collapsed_sections": [],
      "name": "stddev_6_Sphere_GP_dEI.ipynb",
      "provenance": []
    },
    "kernelspec": {
      "display_name": "Python 3",
      "name": "python3"
    },
    "language_info": {
      "name": "python"
    }
  },
  "nbformat": 4,
  "nbformat_minor": 0
}