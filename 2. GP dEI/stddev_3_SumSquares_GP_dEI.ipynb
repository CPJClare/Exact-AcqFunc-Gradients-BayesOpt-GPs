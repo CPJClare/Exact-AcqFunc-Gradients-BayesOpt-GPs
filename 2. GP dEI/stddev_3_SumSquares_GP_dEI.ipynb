{
  "cells": [
    {
      "cell_type": "markdown",
      "metadata": {
        "id": "Dqn4dFx7Z2Ir"
      },
      "source": [
        "\n",
        "SumSquares: 2D\n"
      ]
    },
    {
      "cell_type": "code",
      "execution_count": 1,
      "metadata": {
        "colab": {
          "base_uri": "https://localhost:8080/"
        },
        "id": "MJTM_GZZZb5x",
        "outputId": "6f430a96-fd75-4e51-8a4b-d07d7ac05f09"
      },
      "outputs": [
        {
          "output_type": "stream",
          "name": "stdout",
          "text": [
            "Looking in indexes: https://pypi.org/simple, https://us-python.pkg.dev/colab-wheels/public/simple/\n",
            "Collecting pyGPGO\n",
            "  Downloading pyGPGO-0.5.1.tar.gz (14 kB)\n",
            "Requirement already satisfied: numpy in /usr/local/lib/python3.7/dist-packages (from pyGPGO) (1.21.6)\n",
            "Requirement already satisfied: mkl in /usr/local/lib/python3.7/dist-packages (from pyGPGO) (2019.0)\n",
            "Requirement already satisfied: scipy in /usr/local/lib/python3.7/dist-packages (from pyGPGO) (1.7.3)\n",
            "Requirement already satisfied: joblib in /usr/local/lib/python3.7/dist-packages (from pyGPGO) (1.1.0)\n",
            "Requirement already satisfied: scikit-learn in /usr/local/lib/python3.7/dist-packages (from pyGPGO) (1.0.2)\n",
            "Requirement already satisfied: Theano-PyMC in /usr/local/lib/python3.7/dist-packages (from pyGPGO) (1.1.2)\n",
            "Requirement already satisfied: pyMC3 in /usr/local/lib/python3.7/dist-packages (from pyGPGO) (3.11.5)\n",
            "Requirement already satisfied: intel-openmp in /usr/local/lib/python3.7/dist-packages (from mkl->pyGPGO) (2022.1.0)\n",
            "Requirement already satisfied: cachetools>=4.2.1 in /usr/local/lib/python3.7/dist-packages (from pyMC3->pyGPGO) (4.2.4)\n",
            "Requirement already satisfied: patsy>=0.5.1 in /usr/local/lib/python3.7/dist-packages (from pyMC3->pyGPGO) (0.5.2)\n",
            "Requirement already satisfied: dill in /usr/local/lib/python3.7/dist-packages (from pyMC3->pyGPGO) (0.3.5.1)\n",
            "Requirement already satisfied: pandas>=0.24.0 in /usr/local/lib/python3.7/dist-packages (from pyMC3->pyGPGO) (1.3.5)\n",
            "Requirement already satisfied: deprecat in /usr/local/lib/python3.7/dist-packages (from pyMC3->pyGPGO) (2.1.1)\n",
            "Requirement already satisfied: typing-extensions>=3.7.4 in /usr/local/lib/python3.7/dist-packages (from pyMC3->pyGPGO) (4.1.1)\n",
            "Requirement already satisfied: fastprogress>=0.2.0 in /usr/local/lib/python3.7/dist-packages (from pyMC3->pyGPGO) (1.0.3)\n",
            "Requirement already satisfied: semver>=2.13.0 in /usr/local/lib/python3.7/dist-packages (from pyMC3->pyGPGO) (2.13.0)\n",
            "Requirement already satisfied: arviz>=0.11.0 in /usr/local/lib/python3.7/dist-packages (from pyMC3->pyGPGO) (0.12.1)\n",
            "Requirement already satisfied: filelock in /usr/local/lib/python3.7/dist-packages (from Theano-PyMC->pyGPGO) (3.7.1)\n",
            "Requirement already satisfied: xarray-einstats>=0.2 in /usr/local/lib/python3.7/dist-packages (from arviz>=0.11.0->pyMC3->pyGPGO) (0.2.2)\n",
            "Requirement already satisfied: xarray>=0.16.1 in /usr/local/lib/python3.7/dist-packages (from arviz>=0.11.0->pyMC3->pyGPGO) (0.20.2)\n",
            "Requirement already satisfied: matplotlib>=3.0 in /usr/local/lib/python3.7/dist-packages (from arviz>=0.11.0->pyMC3->pyGPGO) (3.2.2)\n",
            "Requirement already satisfied: setuptools>=38.4 in /usr/local/lib/python3.7/dist-packages (from arviz>=0.11.0->pyMC3->pyGPGO) (57.4.0)\n",
            "Requirement already satisfied: packaging in /usr/local/lib/python3.7/dist-packages (from arviz>=0.11.0->pyMC3->pyGPGO) (21.3)\n",
            "Requirement already satisfied: netcdf4 in /usr/local/lib/python3.7/dist-packages (from arviz>=0.11.0->pyMC3->pyGPGO) (1.6.0)\n",
            "Requirement already satisfied: cycler>=0.10 in /usr/local/lib/python3.7/dist-packages (from matplotlib>=3.0->arviz>=0.11.0->pyMC3->pyGPGO) (0.11.0)\n",
            "Requirement already satisfied: pyparsing!=2.0.4,!=2.1.2,!=2.1.6,>=2.0.1 in /usr/local/lib/python3.7/dist-packages (from matplotlib>=3.0->arviz>=0.11.0->pyMC3->pyGPGO) (3.0.9)\n",
            "Requirement already satisfied: python-dateutil>=2.1 in /usr/local/lib/python3.7/dist-packages (from matplotlib>=3.0->arviz>=0.11.0->pyMC3->pyGPGO) (2.8.2)\n",
            "Requirement already satisfied: kiwisolver>=1.0.1 in /usr/local/lib/python3.7/dist-packages (from matplotlib>=3.0->arviz>=0.11.0->pyMC3->pyGPGO) (1.4.4)\n",
            "Requirement already satisfied: pytz>=2017.3 in /usr/local/lib/python3.7/dist-packages (from pandas>=0.24.0->pyMC3->pyGPGO) (2022.1)\n",
            "Requirement already satisfied: six in /usr/local/lib/python3.7/dist-packages (from patsy>=0.5.1->pyMC3->pyGPGO) (1.15.0)\n",
            "Requirement already satisfied: importlib-metadata in /usr/local/lib/python3.7/dist-packages (from xarray>=0.16.1->arviz>=0.11.0->pyMC3->pyGPGO) (4.12.0)\n",
            "Requirement already satisfied: wrapt<2,>=1.10 in /usr/local/lib/python3.7/dist-packages (from deprecat->pyMC3->pyGPGO) (1.14.1)\n",
            "Requirement already satisfied: zipp>=0.5 in /usr/local/lib/python3.7/dist-packages (from importlib-metadata->xarray>=0.16.1->arviz>=0.11.0->pyMC3->pyGPGO) (3.8.1)\n",
            "Requirement already satisfied: cftime in /usr/local/lib/python3.7/dist-packages (from netcdf4->arviz>=0.11.0->pyMC3->pyGPGO) (1.6.1)\n",
            "Requirement already satisfied: threadpoolctl>=2.0.0 in /usr/local/lib/python3.7/dist-packages (from scikit-learn->pyGPGO) (3.1.0)\n",
            "Building wheels for collected packages: pyGPGO\n",
            "  Building wheel for pyGPGO (setup.py) ... \u001b[?25l\u001b[?25hdone\n",
            "  Created wheel for pyGPGO: filename=pyGPGO-0.5.1-py3-none-any.whl size=19879 sha256=41ea4ff3836bfd59b4a40478b383e1321925be82d4895d5808e36eb49b85306d\n",
            "  Stored in directory: /root/.cache/pip/wheels/c8/5d/0b/2160114e2f1b87791c51b66cf07f89831dbb6f49167950316f\n",
            "Successfully built pyGPGO\n",
            "Installing collected packages: pyGPGO\n",
            "Successfully installed pyGPGO-0.5.1\n"
          ]
        }
      ],
      "source": [
        "pip install pyGPGO\n"
      ]
    },
    {
      "cell_type": "code",
      "execution_count": 2,
      "metadata": {
        "id": "ZJSSPbwPaEUB"
      },
      "outputs": [],
      "source": [
        "### Import:\n",
        "\n",
        "import numpy as np\n",
        "import scipy as sp\n",
        "import pandas as pd\n",
        "import matplotlib.pyplot as plt\n",
        "import warnings\n",
        "import itertools\n",
        "\n",
        "from pyGPGO.GPGO import GPGO\n",
        "from pyGPGO.surrogates.GaussianProcess import GaussianProcess\n",
        "from pyGPGO.acquisition import Acquisition\n",
        "from pyGPGO.covfunc import squaredExponential\n",
        "\n",
        "from joblib import Parallel, delayed\n",
        "from numpy.linalg import solve, cholesky\n",
        "from scipy.spatial.distance import cdist\n",
        "from scipy.optimize import minimize\n",
        "from scipy.stats import norm\n",
        "import time\n",
        "\n",
        "warnings.filterwarnings(\"ignore\", category=RuntimeWarning)\n"
      ]
    },
    {
      "cell_type": "code",
      "execution_count": 3,
      "metadata": {
        "id": "OeYcTUNoaJWa"
      },
      "outputs": [],
      "source": [
        "### Inputs:\n",
        "\n",
        "func = 'SumSquares'\n",
        "n_test = 500\n",
        "eps = 1e-08\n",
        "\n",
        "util = 'EI'\n",
        "\n",
        "n_init = 5 # random initialisations\n",
        "iters = 20\n",
        "opt = True"
      ]
    },
    {
      "cell_type": "code",
      "execution_count": 4,
      "metadata": {
        "id": "xpaEOjdzaPMS"
      },
      "outputs": [],
      "source": [
        "### Objective Function - Sum Squares(x) 2-D:\n",
        "\n",
        "def objfunc(x1_training, x2_training):\n",
        "            return  operator * (  1 * x1_training ** 2\n",
        "                            + 2 * x2_training ** 2\n",
        "                            )\n",
        "        \n",
        "# Constraints:\n",
        "lb = -5.12\n",
        "ub = +5.12\n",
        "    \n",
        "# Input array dimension(s):\n",
        "dim = 2\n",
        "\n",
        "# 2-D inputs' parameter bounds:\n",
        "param = {'x1_training': ('cont', [lb, ub]),\n",
        "                 'x2_training': ('cont', [lb, ub])\n",
        "                 }\n",
        "    \n",
        "# True y bounds:\n",
        "y_lb = 0\n",
        "operator = -1 # targets global minimum \n",
        "y_global_orig = y_lb * operator # targets global minimum\n",
        "    \n",
        "# Test data:\n",
        "x1_test = np.linspace(lb, ub, n_test)\n",
        "x2_test = np.linspace(lb, ub, n_test)\n",
        "x_test = np.column_stack((x1_test, x2_test))\n"
      ]
    },
    {
      "cell_type": "code",
      "execution_count": 5,
      "metadata": {
        "id": "eYpI3Zm4aGxi"
      },
      "outputs": [],
      "source": [
        "n_start_AcqFunc = iters\n",
        "inverse = -1\n"
      ]
    },
    {
      "cell_type": "code",
      "execution_count": 6,
      "metadata": {
        "id": "oO_GUmOoaV0T"
      },
      "outputs": [],
      "source": [
        "### Cumulative Regret Calculators:\n",
        "\n",
        "def min_max_array(x):\n",
        "    new_list = []\n",
        "    for i, num in enumerate(x):\n",
        "            new_list.append(np.min(x[0:i+1]))\n",
        "    return new_list\n",
        "  \n",
        "def acqFuncExact(x):\n",
        "    new_array = []\n",
        "    x = np.array(x) \n",
        "    for i, num in enumerate(x):\n",
        "            new_array = x[:-2][::-3]\n",
        "    return new_array[::-1]\n",
        "\n",
        "def acqFuncApprox(x):\n",
        "    new_array = []\n",
        "    x = np.array(x) \n",
        "    for i, num in enumerate(x):\n",
        "            new_array = x[:-1][::-3]\n",
        "    return new_array[::-1]\n"
      ]
    },
    {
      "cell_type": "code",
      "execution_count": 7,
      "metadata": {
        "id": "kuuJx0IMam9S"
      },
      "outputs": [],
      "source": [
        "### Surrogate derivatives: \n",
        "\n",
        "cov_func = squaredExponential()\n",
        "\n",
        "def kronDelta(X, Xstar):                     # Kronecker's Delta method\n",
        "    return cdist(X, Xstar) < np.finfo(np.float32).eps\n",
        "\n",
        "def se(X, Xstar, sigmaf, l, sigman):         # S.E. kernel method\n",
        "    return sigmaf * np.exp(-0.5 * cdist(X, Xstar) ** 2 / l ** 2) + sigman * kronDelta(X, Xstar)\n",
        "\n",
        "def delta(X, Xstar):                         # Distance between training X and test Xstar vectors\n",
        "    return (X - Xstar)\n",
        "   \n",
        "def der_covmat(X, Xstar, sigmaf, l, sigman): # Covariance matrix derivative terms (i.e. exact, first-order)\n",
        "    nx = len(X)\n",
        "    ny = len(Xstar)\n",
        "    return np.round(np.array([(delta(np.atleast_2d(i), np.atleast_2d(j))[0] * se(np.atleast_2d(i), np.atleast_2d(j), sigmaf, l, sigman)[0]).sum() for (i, j) in itertools.product(X, Xstar)]).reshape(nx, ny), 8)\n",
        "\n",
        "class dGaussianProcess(GaussianProcess):    # Via inheritance, also optimises hyperparameters when opt = TRUE\n",
        "    \n",
        "    def AcqGrad(self, Xstar):               # Method returning exact, first-order derivatives of the GP's posterior mean and standard deviation\n",
        "        Xstar = np.atleast_2d(Xstar)\n",
        "        Kstar = self.covfunc.K(self.X, Xstar).T\n",
        "        \n",
        "        dKstar = der_covmat(self.X, Xstar, self.covfunc.sigmaf, self.covfunc.l, self.covfunc.sigman).T\n",
        "        alpha_Kstar = np.dot(np.linalg.inv(self.K + (self.covfunc.sigman**2) * np.eye(len(self.X))), Kstar.T)\n",
        "        \n",
        "        dm = np.dot(dKstar, self.alpha)\n",
        "        ds = -2 * np.dot(dKstar, alpha_Kstar)\n",
        "        \n",
        "        return dm, ds           \n"
      ]
    },
    {
      "cell_type": "code",
      "execution_count": 8,
      "metadata": {
        "id": "_Dc3YVHVaXz7"
      },
      "outputs": [],
      "source": [
        "### Add exact acquisition function gradient as attribute:\n",
        "\n",
        "class Acquisition_grad(Acquisition):    \n",
        "    def __init__(self, mode, eps=eps, **params):\n",
        "        \n",
        "        self.params = params\n",
        "        self.eps = eps\n",
        "\n",
        "        mode_dict = {\n",
        "            'EI': self.EI\n",
        "        }\n",
        "\n",
        "        self.f = mode_dict[mode]\n",
        "    \n",
        "    def EI(self, tau, mean, std, ds, dm):\n",
        "        gamma = (mean - tau - self.eps) / (std + self.eps)\n",
        "        gamma_h = (mean - tau) / (std + self.eps)\n",
        "        dsdx = ds / (2 * (std + self.eps))\n",
        "        dmdx = (dm - gamma * dsdx) / (std + self.eps)\n",
        "        \n",
        "        f = (std + self.eps) * (gamma * norm.cdf(gamma) + norm.pdf(gamma))\n",
        "        df1 = f / (std + self.eps) * dsdx \n",
        "        df2 = (std + self.eps) * norm.cdf(gamma) * dmdx\n",
        "        df = (df1 + df2)[0]\n",
        "        df_arr = []\n",
        "\n",
        "        for j in range(0, dim):\n",
        "          df_arr.append(df)\n",
        "        return f, np.asarray(df_arr).transpose()\n",
        "        \n",
        "    def d_eval(self, tau, mean, std, ds, dm):\n",
        "    \n",
        "        return self.f(tau, mean, std, ds, dm, **self.params)\n",
        "        "
      ]
    },
    {
      "cell_type": "code",
      "execution_count": 9,
      "metadata": {
        "id": "PITEQC8YSl7i"
      },
      "outputs": [],
      "source": [
        "## GPGO_multi: \n",
        "\n",
        "class GPGO_multi(GPGO):\n",
        "    n_start = n_start_AcqFunc\n",
        "\n",
        "    def __init__(self, surrogate, acquisition, f, parameter_dict, n_jobs=1):\n",
        "        self.GP = surrogate\n",
        "        self.A = acquisition\n",
        "        self.f = f\n",
        "        self.parameters = parameter_dict\n",
        "        self.n_jobs = n_jobs\n",
        "\n",
        "        self.parameter_key = list(parameter_dict.keys())\n",
        "        self.parameter_value = list(parameter_dict.values())\n",
        "        self.parameter_type = [p[0] for p in self.parameter_value]\n",
        "        self.parameter_range = [p[1] for p in self.parameter_value]\n",
        "\n",
        "        self.history = []\n",
        "        self.header =   'Evaluation \\t Proposed point \\t  Current eval. \\t  Best eval. \\t        Exact EI: StdDev. x \\t Approx EI: StdDev. x '\n",
        "        self.template = '{:3}\\t {}\\t {:3}\\t {:3}\\t {:3}\\t {:3}'\n",
        " \n",
        "    def acqfuncExact(self, xnew, n_start=n_start_AcqFunc):\n",
        "        new_mean, new_var = self.GP.predict(xnew, return_std=True)\n",
        "        new_std = np.sqrt(new_var + eps)\n",
        "        dm, ds = self.GP.AcqGrad(xnew)\n",
        "        f, df = self.A.d_eval(self.tau, new_mean, new_std, ds=ds, dm=dm)\n",
        "\n",
        "        return -f, -df\n",
        "   \n",
        "    def acqfuncApprox(self, xnew, n_start=n_start_AcqFunc):\n",
        "        new_mean, new_var = self.GP.predict(xnew, return_std=True)\n",
        "        new_std = np.sqrt(new_var + eps)\n",
        "        dm, ds = self.GP.AcqGrad(xnew)\n",
        "        f, df = self.A.d_eval(self.tau, new_mean, new_std, ds=ds, dm=dm)\n",
        "\n",
        "        return -f\n",
        "   \n",
        "    def _optimizeAcq(self, method='L-BFGS-B', n_start=n_start_AcqFunc):\n",
        "        \n",
        "        start_points_dict = [self._sampleParam() for i in range(n_start)]\n",
        "        start_points_arr = np.array([list(s.values())\n",
        "                                     for s in start_points_dict])\n",
        "        x_best = np.empty((n_start, len(self.parameter_key)))\n",
        "        f_best = np.empty((n_start,))\n",
        "        opt = Parallel(n_jobs=self.n_jobs)(delayed(minimize)(self.acqfuncApprox,\n",
        "                                                                 x0=start_point,\n",
        "                                                                 method=method,\n",
        "                                                                 jac = False,\n",
        "                                                                 bounds=self.parameter_range) for start_point in\n",
        "                                               start_points_arr)\n",
        "        x_best = np.array([res.x for res in opt])\n",
        "        f_best = np.array([np.atleast_1d(res.fun)[0] for res in opt])\n",
        "        f_best_min = min(f_best)\n",
        "\n",
        "        self.x_best = x_best\n",
        "        self.f_best = f_best\n",
        "        self.f_best_min = f_best_min\n",
        "        self.x_best_std = np.std(x_best)\n",
        "        self.best = x_best[np.argmin(f_best)]\n",
        "        self.start_points_arr = start_points_arr        \n",
        "        self.history.append(self.x_best_std)\n",
        "\n",
        "        x_best_exact = np.empty((n_start, len(self.parameter_key)))\n",
        "        f_best_exact = np.empty((n_start,))\n",
        "        opt_exact = Parallel(n_jobs=self.n_jobs)(delayed(minimize)(self.acqfuncExact,\n",
        "                                                                 x0=start_point,\n",
        "                                                                 method=method,\n",
        "                                                                 jac = True,\n",
        "                                                                 bounds=self.parameter_range) for start_point in\n",
        "                                               start_points_arr)\n",
        "        x_best_exact = np.array([res.x for res in opt_exact])\n",
        "        f_best_exact = np.array([np.atleast_1d(res.fun)[0] for res in opt_exact])\n",
        "        f_best_min_exact = min(f_best_exact)\n",
        "\n",
        "        self.x_best_exact = x_best_exact\n",
        "        self.f_best_exact = f_best_exact\n",
        "        self.f_best_min_exact = f_best_min_exact\n",
        "        self.x_best_std_exact = np.std(x_best_exact)\n",
        "        self.best_exact = x_best_exact[np.argmin(f_best_exact)]\n",
        "        self.start_points_arr = start_points_arr\n",
        "        self.history.append(self.x_best_std_exact)\n",
        "\n",
        "    def _printInit(self):\n",
        "        print(self.header)\n",
        "        for init_eval in range(self.init_evals):\n",
        "            print(self.template.format('init', self.GP.X[init_eval], inverse * self.GP.y[init_eval], inverse * self.tau, '', ''))\n",
        "      \n",
        "    def _printCurrent(self):\n",
        "        OKGREEN = '\\033[92m'\n",
        "        ENDC = '\\033[0m'\n",
        "        BOLD = '\\033[1m'\n",
        "        eval = str(len(self.GP.y) - self.init_evals)\n",
        "        proposed = str(self.best)\n",
        "        curr_eval = str(inverse * self.GP.y[-1])\n",
        "        curr_best = str(inverse * self.tau)\n",
        "        min_acqfunc = str(self.f_best_min)\n",
        "        min_acqfunc_exact = str(self.f_best_min_exact)\n",
        "        x_best_std = str(self.x_best_std)\n",
        "        x_best_std_exact = str(self.x_best_std_exact)\n",
        "        if float(curr_eval) <= float(curr_best):\n",
        "            eval = BOLD + OKGREEN + eval + ENDC\n",
        "            proposed = BOLD + OKGREEN + proposed + ENDC\n",
        "            curr_eval = BOLD + OKGREEN + curr_eval + ENDC\n",
        "            curr_best = BOLD + OKGREEN + curr_best + ENDC\n",
        "            x_best_std = BOLD + OKGREEN + x_best_std + ENDC\n",
        "            x_best_std_exact = BOLD + OKGREEN + x_best_std_exact + ENDC\n",
        "        print(self.template.format(eval, proposed, curr_eval, curr_best, x_best_std_exact, x_best_std))\n",
        "        \n",
        "    def run(self, max_iter=10, init_evals=3, resume=False):\n",
        "        \n",
        "        if not resume:\n",
        "            self.init_evals = init_evals\n",
        "            self._firstRun(self.init_evals)\n",
        "            self._printInit()\n",
        "        for iteration in range(max_iter):\n",
        "            self._optimizeAcq()\n",
        "            self.updateGP()\n",
        "            self._printCurrent()\n"
      ]
    },
    {
      "cell_type": "code",
      "execution_count": 10,
      "metadata": {
        "id": "b_B-w81BJxKN"
      },
      "outputs": [],
      "source": [
        "## dGPGO:\n",
        "\n",
        "class dGPGO(GPGO):\n",
        "    n_start = n_start_AcqFunc\n",
        "\n",
        "    def __init__(self, surrogate, acquisition, f, parameter_dict, n_jobs=1):\n",
        "        self.GP = surrogate\n",
        "        self.A = acquisition\n",
        "        self.f = f\n",
        "        self.parameters = parameter_dict\n",
        "        self.n_jobs = n_jobs\n",
        "\n",
        "        self.parameter_key = list(parameter_dict.keys())\n",
        "        self.parameter_value = list(parameter_dict.values())\n",
        "        self.parameter_type = [p[0] for p in self.parameter_value]\n",
        "        self.parameter_range = [p[1] for p in self.parameter_value]\n",
        "\n",
        "        self.history = []\n",
        "        self.header =   'Evaluation \\t Proposed point \\t  Current eval. \\t  Best eval. \\t        Exact EI: StdDev. x \\t Approx EI: StdDev. x '\n",
        "        self.template = '{:3}\\t {}\\t {:3}\\t {:3}\\t {:3}\\t {:3}'\n",
        "\n",
        "    def acqfuncExact(self, xnew, n_start=n_start_AcqFunc):\n",
        "        new_mean, new_var = self.GP.predict(xnew, return_std=True)\n",
        "        new_std = np.sqrt(new_var + eps)\n",
        "        dm, ds = self.GP.AcqGrad(xnew)\n",
        "        f, df = self.A.d_eval(self.tau, new_mean, new_std, ds=ds, dm=dm)\n",
        "\n",
        "        return -f, -df\n",
        "   \n",
        "    def acqfuncApprox(self, xnew, n_start=n_start_AcqFunc):\n",
        "        new_mean, new_var = self.GP.predict(xnew, return_std=True)\n",
        "        new_std = np.sqrt(new_var + eps)\n",
        "        dm, ds = self.GP.AcqGrad(xnew)\n",
        "        f, df = self.A.d_eval(self.tau, new_mean, new_std, ds=ds, dm=dm)\n",
        "\n",
        "        return -f\n",
        "\n",
        "    def d_optimizeAcq(self, method='L-BFGS-B', n_start=n_start_AcqFunc):\n",
        "        start_points_dict = [self._sampleParam() for i in range(n_start)]\n",
        "        start_points_arr = np.array([list(s.values())\n",
        "                                     for s in start_points_dict])\n",
        "        x_best = np.empty((n_start, len(self.parameter_key)))\n",
        "        f_best = np.empty((n_start,))\n",
        "        opt = Parallel(n_jobs=self.n_jobs)(delayed(minimize)(self.acqfuncExact,\n",
        "                                                                 x0=start_point,\n",
        "                                                                 method=method,\n",
        "                                                                 jac = True,\n",
        "                                                                 bounds=self.parameter_range) for start_point in\n",
        "                                               start_points_arr)\n",
        "        x_best = np.array([res.x for res in opt])\n",
        "        f_best = np.array([np.atleast_1d(res.fun)[0] for res in opt])\n",
        "        f_best_min = min(f_best)\n",
        "\n",
        "        self.x_best = x_best\n",
        "        self.f_best = f_best\n",
        "        self.f_best_min = f_best_min\n",
        "        self.x_best_std = np.std(x_best)\n",
        "        self.best = x_best[np.argmin(f_best)]\n",
        "        self.start_points_arr = start_points_arr\n",
        "        self.history.append(self.x_best_std)\n",
        "\n",
        "        x_best_approx = np.empty((n_start, len(self.parameter_key)))\n",
        "        f_best_approx = np.empty((n_start,))\n",
        "        opt_approx = Parallel(n_jobs=self.n_jobs)(delayed(minimize)(self.acqfuncApprox,\n",
        "                                                                 x0=start_point,\n",
        "                                                                 method=method,\n",
        "                                                                 jac = False,\n",
        "                                                                 bounds=self.parameter_range) for start_point in\n",
        "                                               start_points_arr)\n",
        "        x_best_approx = np.array([res.x for res in opt_approx])\n",
        "        f_best_approx = np.array([np.atleast_1d(res.fun)[0] for res in opt_approx])\n",
        "        f_best_min_approx = min(f_best_approx)\n",
        "\n",
        "        self.x_best_approx = x_best_approx\n",
        "        self.f_best_approx = f_best_approx\n",
        "        self.f_best_min_approx = f_best_min_approx\n",
        "        self.x_best_std_approx = np.std(x_best_approx)\n",
        "        self.best_approx = x_best_approx[np.argmin(f_best_approx)]\n",
        "        self.start_points_arr = start_points_arr\n",
        "        self.history.append(self.x_best_std_approx)\n",
        "    \n",
        "    def _printInit(self):\n",
        "        print(self.header)\n",
        "        for init_eval in range(self.init_evals):\n",
        "            print(self.template.format('init', self.GP.X[init_eval], inverse * self.GP.y[init_eval], inverse * self.tau, '', ''))\n",
        "      \n",
        "    def _printCurrent(self):\n",
        "        OKGREEN = '\\033[92m'\n",
        "        ENDC = '\\033[0m'\n",
        "        BOLD = '\\033[1m'\n",
        "        eval = str(len(self.GP.y) - self.init_evals)\n",
        "        proposed = str(self.best)\n",
        "        curr_eval = str(inverse * self.GP.y[-1])\n",
        "        curr_best = str(inverse * self.tau)\n",
        "        min_acqfunc = str(self.f_best_min)\n",
        "        min_acqfunc_approx = str(self.f_best_min_approx)\n",
        "        x_best_std = str(self.x_best_std)\n",
        "        x_best_std_approx = str(self.x_best_std_approx)\n",
        "        if float(curr_eval) <= float(curr_best):\n",
        "            eval = BOLD + OKGREEN + eval + ENDC\n",
        "            proposed = BOLD + OKGREEN + proposed + ENDC\n",
        "            curr_eval = BOLD + OKGREEN + curr_eval + ENDC\n",
        "            curr_best = BOLD + OKGREEN + curr_best + ENDC\n",
        "            x_best_std = BOLD + OKGREEN + x_best_std + ENDC\n",
        "            x_best_std_approx = BOLD + OKGREEN + x_best_std_approx + ENDC\n",
        "        print(self.template.format(eval, proposed, curr_eval, curr_best, x_best_std, x_best_std_approx))\n",
        "\n",
        "    def run(self, max_iter=10, init_evals=3, resume=False):\n",
        "        \n",
        "        if not resume:\n",
        "            self.init_evals = init_evals\n",
        "            self._firstRun(self.init_evals)\n",
        "            self._printInit()\n",
        "        for iteration in range(max_iter):\n",
        "            self.d_optimizeAcq()\n",
        "            self.updateGP()\n",
        "            self._printCurrent()\n"
      ]
    },
    {
      "cell_type": "code",
      "execution_count": 11,
      "metadata": {
        "id": "qXIKGuXVGEg2"
      },
      "outputs": [],
      "source": [
        "###Reproducible set-seeds:\n",
        "\n",
        "run_num_1 = 1\n",
        "run_num_2 = 2\n",
        "run_num_3 = 3\n",
        "run_num_4 = 4\n",
        "run_num_5 = 5\n",
        "run_num_6 = 6\n",
        "run_num_7 = 7\n",
        "run_num_8 = 8\n",
        "run_num_9 = 9\n",
        "run_num_10 = 10\n",
        "run_num_11 = 11\n",
        "run_num_12 = 12\n",
        "run_num_13 = 13\n",
        "run_num_14 = 14\n",
        "run_num_15 = 15\n",
        "run_num_16 = 16\n",
        "run_num_17 = 17\n",
        "run_num_18 = 18\n",
        "run_num_19 = 19\n",
        "run_num_20 = 20\n"
      ]
    },
    {
      "cell_type": "code",
      "execution_count": 12,
      "metadata": {
        "colab": {
          "base_uri": "https://localhost:8080/"
        },
        "id": "JEhagQmnTVIK",
        "outputId": "867635c3-678d-4cf1-e058-94db2c89cadf"
      },
      "outputs": [
        {
          "output_type": "execute_result",
          "data": {
            "text/plain": [
              "1659523720.059315"
            ]
          },
          "metadata": {},
          "execution_count": 12
        }
      ],
      "source": [
        "start_approx = time.time()\n",
        "start_approx\n"
      ]
    },
    {
      "cell_type": "code",
      "execution_count": 13,
      "metadata": {
        "colab": {
          "base_uri": "https://localhost:8080/"
        },
        "id": "aH0YSTXufD1v",
        "outputId": "8bb84a96-0621-450a-9e8e-811a08afefab"
      },
      "outputs": [
        {
          "output_type": "stream",
          "name": "stdout",
          "text": [
            "Evaluation \t Proposed point \t  Current eval. \t  Best eval. \t        Exact EI: StdDev. x \t Approx EI: StdDev. x \n",
            "init\t [-0.84969467  2.25612281]\t 10.902161328666502\t 1.4334486961549602\t    \t    \n",
            "init\t [-5.1188288  -2.02411446]\t 34.396486966857985\t 1.4334486961549602\t    \t    \n",
            "init\t [-3.61721968 -4.17445279]\t 47.936390383803385\t 1.4334486961549602\t    \t    \n",
            "init\t [-3.21269544 -1.58145816]\t 15.323431753768267\t 1.4334486961549602\t    \t    \n",
            "init\t [-1.05710106  0.39748336]\t 1.4334486961549602\t 1.4334486961549602\t    \t    \n",
            "1  \t [ 4.04077223 -4.24914728]\t 52.43834538835027\t 1.4334486961549602\t 3.4489756845924497\t 4.163974683192937\n",
            "2  \t [5.12 5.12]\t 78.64320000000001\t 1.4334486961549602\t 3.3878383996330093\t 3.5005012055534523\n",
            "3  \t [-5.12  5.12]\t 78.64320000000001\t 1.4334486961549602\t 3.209960941094101\t 3.5770477042564788\n",
            "4  \t [3.43982545 0.50784551]\t 12.348213243173316\t 1.4334486961549602\t 3.3079517196384303\t 3.468622448856172\n",
            "5  \t [ 0.4730041  -2.24614191]\t 10.314039867408399\t 1.4334486961549602\t 2.7286855789849707\t 3.1386964410644698\n",
            "6  \t [0.9798558 5.12     ]\t 53.38891738292098\t 1.4334486961549602\t 2.7569580263172777\t 3.2169776618144366\n",
            "7  \t [-5.12        1.44492543]\t 30.390018984809263\t 1.4334486961549602\t 3.0104443843516515\t 3.441399828303221\n",
            "8  \t [ 0.08901538 -5.12      ]\t 52.43672373738145\t 1.4334486961549602\t 3.178656381617161\t 3.138419747936232\n",
            "9  \t [ 5.12       -1.28752979]\t 29.52986592246067\t 1.4334486961549602\t 2.7839704061459845\t 2.890877502942216\n",
            "\u001b[1m\u001b[92m10\u001b[0m\t \u001b[1m\u001b[92m[0.81561355 0.3259044 ]\u001b[0m\t \u001b[1m\u001b[92m0.8776528144091199\u001b[0m\t \u001b[1m\u001b[92m0.8776528144091199\u001b[0m\t \u001b[1m\u001b[92m3.1071727688846096\u001b[0m\t \u001b[1m\u001b[92m2.904986767545212\u001b[0m\n",
            "11 \t [-2.00912866  5.12      ]\t 56.46539795318232\t 0.8776528144091199\t 2.7234309404983827\t 3.0529612916675184\n",
            "12 \t [1.73795685 2.1013738 ]\t 11.852037753582337\t 0.8776528144091199\t 2.994900851639817\t 2.7485812001146077\n",
            "13 \t [5.12       1.98593063]\t 34.10224095324252\t 0.8776528144091199\t 2.4367043912130906\t 2.385906718066148\n",
            "\u001b[1m\u001b[92m14\u001b[0m\t \u001b[1m\u001b[92m[-0.01547156 -0.07198587]\u001b[0m\t \u001b[1m\u001b[92m0.010603300440003812\u001b[0m\t \u001b[1m\u001b[92m0.010603300440003812\u001b[0m\t \u001b[1m\u001b[92m2.850043056363939\u001b[0m\t \u001b[1m\u001b[92m2.498179754692849\u001b[0m\n",
            "15 \t [-0.08728358 -0.09998121]\t 0.027610907643665243\t 0.010603300440003812\t 2.4231162756406985\t 2.2193443623996605\n",
            "16 \t [-0.07962104 -0.09725973]\t 0.02525841994243614\t 0.010603300440003812\t 2.8357890890732134\t 2.615152439616072\n",
            "17 \t [-0.07608027 -0.09598891]\t 0.024215949529198755\t 0.010603300440003812\t 2.838208034592052\t 2.58893491218124\n",
            "18 \t [-0.07412986 -0.09528007]\t 0.023651821549948996\t 0.010603300440003812\t 2.883960369854396\t 2.7167015893429816\n",
            "19 \t [-0.0729252 -0.0948365]\t 0.02330600651511875\t 0.010603300440003812\t 3.2136518885735583\t 2.996130305221331\n",
            "20 \t [-0.07212098 -0.09453717]\t 0.02307598716884565\t 0.010603300440003812\t 2.942254280822441\t 2.5908768803035853\n"
          ]
        }
      ],
      "source": [
        "### ESTIMATED GP EI GRADIENTS\n",
        "\n",
        "np.random.seed(run_num_1)\n",
        "surrogate_approx_1 = dGaussianProcess(cov_func, optimize=opt)\n",
        "\n",
        "approx_1 = GPGO_multi(surrogate_approx_1, Acquisition_grad(util), objfunc, param)\n",
        "approx_1.run(init_evals=n_init, max_iter=iters)\n"
      ]
    },
    {
      "cell_type": "code",
      "execution_count": 14,
      "metadata": {
        "id": "wTxsSZxFGBB5",
        "colab": {
          "base_uri": "https://localhost:8080/"
        },
        "outputId": "a686f413-1525-4734-fa39-691a38b468db"
      },
      "outputs": [
        {
          "output_type": "stream",
          "name": "stdout",
          "text": [
            "Evaluation \t Proposed point \t  Current eval. \t  Best eval. \t        Exact EI: StdDev. x \t Approx EI: StdDev. x \n",
            "init\t [-0.6554122  -4.85451539]\t 47.562204422038214\t 1.1358959044973735\t    \t    \n",
            "init\t [ 0.50854377 -0.6622987 ]\t 1.1358959044973735\t 1.1358959044973735\t    \t    \n",
            "init\t [-0.81543371 -1.73737143]\t 6.7018511217540135\t 1.1358959044973735\t    \t    \n",
            "init\t [-3.02439799  1.2213347 ]\t 12.13030006303276\t 1.1358959044973735\t    \t    \n",
            "init\t [-2.05153614 -2.3876887 ]\t 15.610915224537823\t 1.1358959044973735\t    \t    \n",
            "1  \t [4.81874241 3.07464552]\t 42.12716849729408\t 1.1358959044973735\t 3.793495730061243\t 3.7991229147714978\n",
            "2  \t [ 5.07720385 -4.87796107]\t 73.36700729508385\t 1.1358959044973735\t 2.6882279295601728\t 3.742612952770649\n",
            "3  \t [-0.0238179  5.12     ]\t 52.42936729236154\t 1.1358959044973735\t 3.6946720941083226\t 3.9911435067141054\n",
            "4  \t [-5.12  5.12]\t 78.64320000000001\t 1.1358959044973735\t 3.3735785218215617\t 3.3135326214268117\n",
            "5  \t [-5.12 -5.12]\t 78.64320000000001\t 1.1358959044973735\t 3.816276522559324\t 3.5460937639682637\n",
            "6  \t [ 3.52302293 -0.88246827]\t 13.969191082265295\t 1.1358959044973735\t 3.0636329142761025\t 3.222639666142889\n",
            "7  \t [0.92975799 1.51756655]\t 5.470466406022885\t 1.1358959044973735\t 2.9681014782455564\t 3.0062920797544\n",
            "8  \t [ 2.00311444 -3.15431283]\t 23.9118463445968\t 1.1358959044973735\t 2.6524194865754684\t 2.7589837529188097\n",
            "9  \t [-5.12       -1.14865702]\t 28.85322590006044\t 1.1358959044973735\t 2.8227136777363944\t 2.990252976687881\n",
            "\u001b[1m\u001b[92m10\u001b[0m\t \u001b[1m\u001b[92m[-0.64554415  0.34164339]\u001b[0m\t \u001b[1m\u001b[92m0.6501676611648934\u001b[0m\t \u001b[1m\u001b[92m0.6501676611648934\u001b[0m\t \u001b[1m\u001b[92m2.840541839958842\u001b[0m\t \u001b[1m\u001b[92m2.7785550813175943\u001b[0m\n",
            "11 \t [2.97527276 5.12      ]\t 61.28104797989741\t 0.6501676611648934\t 3.1987726678319603\t 3.1880743658775703\n",
            "12 \t [-5.12        1.92494276]\t 33.62520923545225\t 0.6501676611648934\t 2.4076476647235845\t 2.475799832197122\n",
            "13 \t [-0.98888467  2.17316849]\t 10.423215504274664\t 0.6501676611648934\t 2.9681379622269772\t 3.0303341146392913\n",
            "\u001b[1m\u001b[92m14\u001b[0m\t \u001b[1m\u001b[92m[-0.05125999 -0.15205853]\u001b[0m\t \u001b[1m\u001b[92m0.04887117875055405\u001b[0m\t \u001b[1m\u001b[92m0.04887117875055405\u001b[0m\t \u001b[1m\u001b[92m3.1189726727427995\u001b[0m\t \u001b[1m\u001b[92m3.099682373978332\u001b[0m\n",
            "\u001b[1m\u001b[92m15\u001b[0m\t \u001b[1m\u001b[92m[-0.0474064  -0.15111875]\u001b[0m\t \u001b[1m\u001b[92m0.04792112111773194\u001b[0m\t \u001b[1m\u001b[92m0.04792112111773194\u001b[0m\t \u001b[1m\u001b[92m2.65087595784366\u001b[0m\t \u001b[1m\u001b[92m2.7874262625025845\u001b[0m\n",
            "\u001b[1m\u001b[92m16\u001b[0m\t \u001b[1m\u001b[92m[-0.04685582 -0.15100783]\u001b[0m\t \u001b[1m\u001b[92m0.0478021966625783\u001b[0m\t \u001b[1m\u001b[92m0.0478021966625783\u001b[0m\t \u001b[1m\u001b[92m2.7992048614640916\u001b[0m\t \u001b[1m\u001b[92m2.6153851022882217\u001b[0m\n",
            "\u001b[1m\u001b[92m17\u001b[0m\t \u001b[1m\u001b[92m[-0.04648464 -0.1509324 ]\u001b[0m\t \u001b[1m\u001b[92m0.04772200034684659\u001b[0m\t \u001b[1m\u001b[92m0.04772200034684659\u001b[0m\t \u001b[1m\u001b[92m2.8747145402647867\u001b[0m\t \u001b[1m\u001b[92m2.8646618881005375\u001b[0m\n",
            "\u001b[1m\u001b[92m18\u001b[0m\t \u001b[1m\u001b[92m[-0.04621329 -0.15087775]\u001b[0m\t \u001b[1m\u001b[92m0.047663860057007665\u001b[0m\t \u001b[1m\u001b[92m0.047663860057007665\u001b[0m\t \u001b[1m\u001b[92m2.823171853229475\u001b[0m\t \u001b[1m\u001b[92m2.6086919847037544\u001b[0m\n",
            "\u001b[1m\u001b[92m19\u001b[0m\t \u001b[1m\u001b[92m[-0.04600248 -0.15083651]\u001b[0m\t \u001b[1m\u001b[92m0.04761953333898865\u001b[0m\t \u001b[1m\u001b[92m0.04761953333898865\u001b[0m\t \u001b[1m\u001b[92m2.83267650337255\u001b[0m\t \u001b[1m\u001b[92m2.84358781187329\u001b[0m\n",
            "\u001b[1m\u001b[92m20\u001b[0m\t \u001b[1m\u001b[92m[-0.04583487 -0.15080465]\u001b[0m\t \u001b[1m\u001b[92m0.047584919601470044\u001b[0m\t \u001b[1m\u001b[92m0.047584919601470044\u001b[0m\t \u001b[1m\u001b[92m2.844617125781258\u001b[0m\t \u001b[1m\u001b[92m2.728310070968559\u001b[0m\n"
          ]
        }
      ],
      "source": [
        "### ESTIMATED GP EI GRADIENTS\n",
        "\n",
        "np.random.seed(run_num_2)\n",
        "surrogate_approx_2 = dGaussianProcess(cov_func, optimize=opt)\n",
        "\n",
        "approx_2 = GPGO_multi(surrogate_approx_2, Acquisition_grad(util), objfunc, param)\n",
        "approx_2.run(init_evals=n_init, max_iter=iters)\n"
      ]
    },
    {
      "cell_type": "code",
      "execution_count": 15,
      "metadata": {
        "id": "-dgzIrUIGCGT",
        "colab": {
          "base_uri": "https://localhost:8080/"
        },
        "outputId": "3cc65e1d-8882-4072-9062-532be4d0d6a6"
      },
      "outputs": [
        {
          "output_type": "stream",
          "name": "stdout",
          "text": [
            "Evaluation \t Proposed point \t  Current eval. \t  Best eval. \t        Exact EI: StdDev. x \t Approx EI: StdDev. x \n",
            "init\t [0.52017052 2.1314337 ]\t 9.356596638100186\t 4.609047504113831\t    \t    \n",
            "init\t [-2.14113547  0.11087468]\t 4.609047504113831\t 4.609047504113831\t    \t    \n",
            "init\t [4.02377681 4.05804123]\t 49.12617709674532\t 4.609047504113831\t    \t    \n",
            "init\t [-3.83400642 -2.99783293]\t 32.673609761904345\t 4.609047504113831\t    \t    \n",
            "init\t [-4.59297584 -0.6061072 ]\t 21.83015892853491\t 4.609047504113831\t    \t    \n",
            "1  \t [ 3.03544813 -2.82525024]\t 25.178023194447785\t 4.609047504113831\t 2.080558878714637\t 3.531962042320513\n",
            "2  \t [-4.59112361  5.09846485]\t 73.06710362052452\t 4.609047504113831\t 2.92779850777363\t 4.044923697077041\n",
            "3  \t [-0.2994266 -5.12     ]\t 52.518456287993494\t 4.609047504113831\t 2.6743928068599176\t 3.308602391405749\n",
            "4  \t [5.12       0.26060259]\t 26.350227424057298\t 4.609047504113831\t 2.9508907252229997\t 3.0892062984230817\n",
            "5  \t [-0.50105156  5.12      ]\t 52.679852664770024\t 4.609047504113831\t 2.85541888544249\t 3.2399233674082435\n",
            "6  \t [ 5.12 -5.12]\t 78.64320000000001\t 4.609047504113831\t 3.202625514549143\t 2.8088570636805104\n",
            "\u001b[1m\u001b[92m7\u001b[0m\t \u001b[1m\u001b[92m[ 0.12673479 -1.24207851]\u001b[0m\t \u001b[1m\u001b[92m3.1015797432308925\u001b[0m\t \u001b[1m\u001b[92m3.1015797432308925\u001b[0m\t \u001b[1m\u001b[92m2.8029428351206493\u001b[0m\t \u001b[1m\u001b[92m2.5219293437072166\u001b[0m\n",
            "8  \t [-2.69433742  2.283571  ]\t 17.688847140618194\t 3.1015797432308925\t 2.7477035061488833\t 2.809285952558421\n",
            "9  \t [2.06121144 0.14144547]\t 4.288606250914673\t 3.1015797432308925\t 2.6817929621204293\t 2.6421621148192833\n",
            "10 \t [-5.12 -5.12]\t 78.64320000000001\t 3.1015797432308925\t 2.8557435573340975\t 3.312024494629828\n",
            "11 \t [-1.12156104 -1.96456822]\t 8.976955757659294\t 3.1015797432308925\t 2.832289287353667\t 2.8015334495178004\n",
            "12 \t [-5.12        1.96491914]\t 33.93621449168245\t 3.1015797432308925\t 2.7654465638071657\t 2.625750930633394\n",
            "\u001b[1m\u001b[92m13\u001b[0m\t \u001b[1m\u001b[92m[-0.08228491  0.08516016]\u001b[0m\t \u001b[1m\u001b[92m0.02127531337979381\u001b[0m\t \u001b[1m\u001b[92m0.02127531337979381\u001b[0m\t \u001b[1m\u001b[92m3.011253424975858\u001b[0m\t \u001b[1m\u001b[92m2.830061873418773\u001b[0m\n",
            "14 \t [-0.14421579  0.14166272]\t 0.06093484558816445\t 0.02127531337979381\t 2.6974356910383843\t 2.439994086760356\n",
            "15 \t [-0.14699881  0.14359484]\t 0.06284760987325785\t 0.02127531337979381\t 2.7839436874247605\t 2.6746214738978127\n",
            "16 \t [-0.14871388  0.14477946]\t 0.0640380010430242\t 0.02127531337979381\t 3.005397917868028\t 2.9052056044420604\n",
            "17 \t [-0.14988228  0.1455813 ]\t 0.06485253019775297\t 0.02127531337979381\t 2.622285497513762\t 2.7034177207776136\n",
            "18 \t [-0.15073302  0.14616102]\t 0.06544653114312388\t 0.02127531337979381\t 3.2554059796306687\t 3.1736056948920512\n",
            "19 \t [-0.15138164  0.14660094]\t 0.06590007341701634\t 0.02127531337979381\t 2.868689396495229\t 2.7742326687976564\n",
            "20 \t [-0.15189391  0.14694561]\t 0.0662577860443625\t 0.02127531337979381\t 2.4849195821007606\t 2.2936884328612672\n"
          ]
        }
      ],
      "source": [
        "### ESTIMATED GP EI GRADIENTS\n",
        "\n",
        "np.random.seed(run_num_3)\n",
        "surrogate_approx_3 = dGaussianProcess(cov_func, optimize=opt)\n",
        "\n",
        "approx_3 = GPGO_multi(surrogate_approx_3, Acquisition_grad(util), objfunc, param)\n",
        "approx_3.run(init_evals=n_init, max_iter=iters)\n"
      ]
    },
    {
      "cell_type": "code",
      "execution_count": 16,
      "metadata": {
        "id": "hOtG-2sCGCKS",
        "colab": {
          "base_uri": "https://localhost:8080/"
        },
        "outputId": "99433861-884d-4717-8b45-f6d560109139"
      },
      "outputs": [
        {
          "output_type": "stream",
          "name": "stdout",
          "text": [
            "Evaluation \t Proposed point \t  Current eval. \t  Best eval. \t        Exact EI: StdDev. x \t Approx EI: StdDev. x \n",
            "init\t [4.78238555 0.48365823]\t 23.33906213310676\t 7.289910254474112\t    \t    \n",
            "init\t [4.84028785 2.19971578]\t 33.10588541607836\t 7.289910254474112\t    \t    \n",
            "init\t [ 2.02474316 -2.90724357]\t 21.003715175118646\t 7.289910254474112\t    \t    \n",
            "init\t [ 4.87705042 -5.05620219]\t 74.91598187475032\t 7.289910254474112\t    \t    \n",
            "init\t [-2.52946061 -0.66773471]\t 7.289910254474112\t 7.289910254474112\t    \t    \n",
            "1  \t [-0.24696799  4.86907797]\t 47.47683383431389\t 7.289910254474112\t 2.9160309599087104\t 3.8217678725355855\n",
            "2  \t [-5.12 -5.12]\t 78.64320000000001\t 7.289910254474112\t 3.6388101276541405\t 3.6395471242287685\n",
            "3  \t [-5.12        3.49510359]\t 50.64589816271447\t 7.289910254474112\t 3.545459482383655\t 3.783140259733223\n",
            "4  \t [-0.97407967 -5.12      ]\t 53.37763119923641\t 7.289910254474112\t 3.127609382040157\t 3.32585507086931\n",
            "\u001b[1m\u001b[92m5\u001b[0m\t \u001b[1m\u001b[92m[0.75142595 0.88212858]\u001b[0m\t \u001b[1m\u001b[92m2.1209426085168097\u001b[0m\t \u001b[1m\u001b[92m2.1209426085168097\u001b[0m\t \u001b[1m\u001b[92m3.3996552103145405\u001b[0m\t \u001b[1m\u001b[92m2.809859634475464\u001b[0m\n",
            "6  \t [3.39493919 5.12      ]\t 63.95441212770692\t 2.1209426085168097\t 2.987694491342665\t 2.87959001126195\n",
            "7  \t [-5.12       -1.13587386]\t 28.794818843803846\t 2.1209426085168097\t 2.4796645579841132\t 2.3994262000606286\n",
            "8  \t [-1.850069    1.89260229]\t 10.586642138937734\t 2.1209426085168097\t 2.5772884537844147\t 2.4792655697589794\n",
            "\u001b[1m\u001b[92m9\u001b[0m\t \u001b[1m\u001b[92m[-0.12958525 -0.99865913]\u001b[0m\t \u001b[1m\u001b[92m2.0114324489709388\u001b[0m\t \u001b[1m\u001b[92m2.0114324489709388\u001b[0m\t \u001b[1m\u001b[92m2.649965015246884\u001b[0m\t \u001b[1m\u001b[92m2.6116942460961856\u001b[0m\n",
            "10 \t [1.65734354 2.07379283]\t 11.348020989188297\t 2.0114324489709388\t 3.4884244921008505\t 3.5442428474089605\n",
            "11 \t [ 5.12       -1.99617094]\t 34.1837968580309\t 2.0114324489709388\t 3.030822864901445\t 3.336169725397106\n",
            "12 \t [ 1.4793995  -0.28381878]\t 2.349729088265439\t 2.0114324489709388\t 2.863438680780506\t 2.8968676817774037\n",
            "13 \t [-0.93344227 -2.08096138]\t 9.532115000231023\t 2.0114324489709388\t 2.6995785680118\t 2.9598459782159967\n",
            "\u001b[1m\u001b[92m14\u001b[0m\t \u001b[1m\u001b[92m[0.02098877 0.10694038]\u001b[0m\t \u001b[1m\u001b[92m0.023313016343910573\u001b[0m\t \u001b[1m\u001b[92m0.023313016343910573\u001b[0m\t \u001b[1m\u001b[92m2.3736946850183447\u001b[0m\t \u001b[1m\u001b[92m2.1638457888261113\u001b[0m\n",
            "15 \t [-0.04030581  0.14018739]\t 0.04092956687738693\t 0.023313016343910573\t 3.033279401859696\t 3.1083266080336145\n",
            "16 \t [-0.03990401  0.13996352]\t 0.040771902555225496\t 0.023313016343910573\t 2.8400137152472205\t 2.861460411759495\n",
            "17 \t [-0.039826    0.13991971]\t 0.04074116334672725\t 0.023313016343910573\t 2.5141718940989644\t 2.802497918906286\n",
            "18 \t [-0.03983766  0.13992626]\t 0.040745755760390676\t 0.023313016343910573\t 2.9025996717163403\t 3.1834795222982337\n",
            "19 \t [-0.03987679  0.13994824]\t 0.040761177916468425\t 0.023313016343910573\t 3.0303517976764813\t 2.996296461004018\n",
            "20 \t [-0.03992267  0.13997358]\t 0.040779023362909485\t 0.023313016343910573\t 2.4011187352455594\t 2.590508109913916\n"
          ]
        }
      ],
      "source": [
        "### ESTIMATED GP EI GRADIENTS\n",
        "\n",
        "np.random.seed(run_num_4)\n",
        "surrogate_approx_4 = dGaussianProcess(cov_func, optimize=opt)\n",
        "\n",
        "approx_4= GPGO_multi(surrogate_approx_4, Acquisition_grad(util), objfunc, param)\n",
        "approx_4.run(init_evals=n_init, max_iter=iters)\n"
      ]
    },
    {
      "cell_type": "code",
      "execution_count": 17,
      "metadata": {
        "id": "JF_SxcEvGCOl",
        "colab": {
          "base_uri": "https://localhost:8080/"
        },
        "outputId": "e16c81a8-bc28-425e-cb30-60264d67c0b8"
      },
      "outputs": [
        {
          "output_type": "stream",
          "name": "stdout",
          "text": [
            "Evaluation \t Proposed point \t  Current eval. \t  Best eval. \t        Exact EI: StdDev. x \t Approx EI: StdDev. x \n",
            "init\t [-2.84678993  3.79629882]\t 36.927982283829365\t 2.6327313115208373\t    \t    \n",
            "init\t [-3.00319585  4.2865757 ]\t 45.76864772649561\t 2.6327313115208373\t    \t    \n",
            "init\t [-0.11866943  1.14425716]\t 2.6327313115208373\t 2.6327313115208373\t    \t    \n",
            "init\t [2.72289645 0.1886002 ]\t 7.485305147100433\t 2.6327313115208373\t    \t    \n",
            "init\t [-2.08076286 -3.19773462]\t 24.780587476435763\t 2.6327313115208373\t    \t    \n",
            "1  \t [ 4.32895605 -5.09732646]\t 70.70533460957368\t 2.6327313115208373\t 4.41822901128693\t 4.499439960007176\n",
            "2  \t [5.12 5.12]\t 78.64320000000001\t 2.6327313115208373\t 4.325609223196669\t 3.928369913497632\n",
            "3  \t [-5.12       -0.04096076]\t 26.217755566955788\t 2.6327313115208373\t 3.3559403839575737\t 3.6433785072186846\n",
            "4  \t [0.97506526 5.12      ]\t 53.37955225850283\t 2.6327313115208373\t 3.3497361560790138\t 3.324379470975368\n",
            "5  \t [-5.12 -5.12]\t 78.64320000000001\t 2.6327313115208373\t 3.199629824325116\t 3.221783178429831\n",
            "6  \t [ 1.35744561 -2.67703853]\t 16.175729161572196\t 2.6327313115208373\t 3.247908736476206\t 3.3706096039769577\n",
            "7  \t [ 5.12       -1.37137511]\t 29.975739362110957\t 2.6327313115208373\t 2.4932987993555655\t 2.774855515283566\n",
            "8  \t [-1.92610052  0.10107756]\t 3.7302965561626604\t 2.6327313115208373\t 2.9921929877586044\t 2.835092886551844\n",
            "9  \t [5.12      1.7491503]\t 32.333453548146515\t 2.6327313115208373\t 3.005423368864933\t 2.9485688651484576\n",
            "10 \t [1.64653142 2.13348044]\t 11.814543244906794\t 2.6327313115208373\t 2.8300205830937046\t 2.6305120423098773\n",
            "11 \t [ 0.27759319 -5.12      ]\t 52.505857979517614\t 2.6327313115208373\t 2.853948229589034\t 3.0156773111997004\n",
            "\u001b[1m\u001b[92m12\u001b[0m\t \u001b[1m\u001b[92m[-0.06228555 -0.49007338]\u001b[0m\t \u001b[1m\u001b[92m0.4842233352826627\u001b[0m\t \u001b[1m\u001b[92m0.4842233352826627\u001b[0m\t \u001b[1m\u001b[92m2.415392583110265\u001b[0m\t \u001b[1m\u001b[92m2.2787381431830673\u001b[0m\n",
            "13 \t [-0.06532876 -0.50640324]\t 0.517156319682393\t 0.4842233352826627\t 2.9088835088852916\t 3.0866962395517845\n",
            "14 \t [-0.06219252 -0.49971678]\t 0.5033016259061622\t 0.4842233352826627\t 2.4008154505215993\t 2.4550511114235296\n",
            "15 \t [-0.06135319 -0.4968813 ]\t 0.4975462693972363\t 0.4842233352826627\t 2.4708873308041257\t 3.0674454182723854\n",
            "16 \t [-0.06115939 -0.49542422]\t 0.4946307791741203\t 0.4842233352826627\t 2.677966678170903\t 3.0284394726314554\n",
            "17 \t [-0.06116435 -0.49456931]\t 0.4929386827459534\t 0.4842233352826627\t 2.6991233827042844\t 2.5772139617852194\n",
            "18 \t [-0.06123294 -0.494022  ]\t 0.49186493749841204\t 0.4842233352826627\t 2.7379699961916244\t 2.8130460400568866\n",
            "19 \t [-0.06131726 -0.4936478 ]\t 0.4911361139513537\t 0.4842233352826627\t 2.5521057581032145\t 2.5882927316142643\n",
            "20 \t [-0.06139743 -0.49337616]\t 0.4906097242341266\t 0.4842233352826627\t 2.8899203108606617\t 3.1182703038203665\n"
          ]
        }
      ],
      "source": [
        "### ESTIMATED GP EI GRADIENTS\n",
        "\n",
        "np.random.seed(run_num_5)\n",
        "surrogate_approx_5 = dGaussianProcess(cov_func, optimize=opt)\n",
        "\n",
        "approx_5 = GPGO_multi(surrogate_approx_5, Acquisition_grad(util), objfunc, param)\n",
        "approx_5.run(init_evals=n_init, max_iter=iters)\n"
      ]
    },
    {
      "cell_type": "code",
      "execution_count": 18,
      "metadata": {
        "id": "-kDxZtJsGCR3",
        "colab": {
          "base_uri": "https://localhost:8080/"
        },
        "outputId": "4f915823-8229-45c7-8ddb-36bcf3600821"
      },
      "outputs": [
        {
          "output_type": "stream",
          "name": "stdout",
          "text": [
            "Evaluation \t Proposed point \t  Current eval. \t  Best eval. \t        Exact EI: StdDev. x \t Approx EI: StdDev. x \n",
            "init\t [ 4.02288795 -1.72052679]\t 22.104052359713652\t 1.4757178799086357\t    \t    \n",
            "init\t [ 3.28938622 -4.69302655]\t 54.869058151382724\t 1.4757178799086357\t    \t    \n",
            "init\t [-4.0175956   0.97333314]\t 18.035829177697114\t 1.4757178799086357\t    \t    \n",
            "init\t [ 0.30532979 -0.83141193]\t 1.4757178799086357\t 1.4757178799086357\t    \t    \n",
            "init\t [-1.68542362  1.25459899]\t 5.988690020231891\t 1.4757178799086357\t    \t    \n",
            "1  \t [4.7554759  4.58959754]\t 64.74336213009691\t 1.4757178799086357\t 3.8938233923482723\t 3.857012510005505\n",
            "2  \t [-5.12 -5.12]\t 78.64320000000001\t 1.4757178799086357\t 3.6510739056828796\t 3.7219936928251447\n",
            "3  \t [-0.16995551  5.12      ]\t 52.457684876042855\t 1.4757178799086357\t 3.4511063456830398\t 3.5586106573546163\n",
            "4  \t [-5.12  5.12]\t 78.64320000000001\t 1.4757178799086357\t 3.1888675372814106\t 3.9415542716059853\n",
            "5  \t [-0.93403351 -4.0743786 ]\t 34.07354053557574\t 1.4757178799086357\t 2.8404694285662044\t 2.797990350881047\n",
            "6  \t [2.01401913 1.58915543]\t 9.107103012937525\t 1.4757178799086357\t 3.1922174447257756\t 3.2525325380463603\n",
            "7  \t [5.12       1.13941553]\t 28.810935495076283\t 1.4757178799086357\t 3.301961269748965\t 3.224367833502681\n",
            "8  \t [-3.51219698 -1.93186451]\t 19.799728592027904\t 1.4757178799086357\t 3.0384889245208075\t 2.9817748881315937\n",
            "9  \t [ 1.14134039 -1.70980298]\t 7.149510356193639\t 1.4757178799086357\t 2.63251895470864\t 2.620683658541176\n",
            "\u001b[1m\u001b[92m10\u001b[0m\t \u001b[1m\u001b[92m[-0.78316364 -0.63634926]\u001b[0m\t \u001b[1m\u001b[92m1.4232260546871753\u001b[0m\t \u001b[1m\u001b[92m1.4232260546871753\u001b[0m\t \u001b[1m\u001b[92m2.9675876388940003\u001b[0m\t \u001b[1m\u001b[92m3.091909287466732\u001b[0m\n",
            "11 \t [-2.51023705  3.26197427]\t 27.58224235413077\t 1.4232260546871753\t 3.2620130138296584\t 3.3424068029718526\n",
            "\u001b[1m\u001b[92m12\u001b[0m\t \u001b[1m\u001b[92m[0.00401203 0.29054841]\u001b[0m\t \u001b[1m\u001b[92m0.168852848782016\u001b[0m\t \u001b[1m\u001b[92m0.168852848782016\u001b[0m\t \u001b[1m\u001b[92m2.705768893435039\u001b[0m\t \u001b[1m\u001b[92m2.514723631856995\u001b[0m\n",
            "13 \t [0.02206959 0.35676313]\t 0.25504693013833274\t 0.168852848782016\t 2.590196276271497\t 2.4639724539657966\n",
            "14 \t [0.01837014 0.34174774]\t 0.23392049089213315\t 0.168852848782016\t 2.8721255391160874\t 2.9313541331859874\n",
            "15 \t [0.01660967 0.33497601]\t 0.22469373963078898\t 0.168852848782016\t 2.9376008930786717\t 2.805690241185163\n",
            "16 \t [0.0156202  0.33125421]\t 0.21970269137091197\t 0.168852848782016\t 2.967422967349309\t 2.9447024115012517\n",
            "17 \t [0.01499829 0.32895257]\t 0.2166445303922033\t 0.168852848782016\t 3.2692055974026153\t 3.2734633320477853\n",
            "18 \t [0.01458126 0.32741593]\t 0.2146149942906511\t 0.168852848782016\t 3.100744163814166\t 2.8379374369389505\n",
            "19 \t [0.01428366 0.32632634]\t 0.21318178067991164\t 0.168852848782016\t 3.061245794802405\t 2.9949599113619114\n",
            "20 \t [0.01406319 0.32552135]\t 0.2121260747829489\t 0.168852848782016\t 2.989591726808733\t 3.021406336367527\n"
          ]
        }
      ],
      "source": [
        "### ESTIMATED GP EI GRADIENTS\n",
        "\n",
        "np.random.seed(run_num_6)\n",
        "surrogate_approx_6 = dGaussianProcess(cov_func, optimize=opt)\n",
        "\n",
        "approx_6 = GPGO_multi(surrogate_approx_6, Acquisition_grad(util), objfunc, param)\n",
        "approx_6.run(init_evals=n_init, max_iter=iters)\n"
      ]
    },
    {
      "cell_type": "code",
      "execution_count": 19,
      "metadata": {
        "id": "fKB8MCD_GCVI",
        "colab": {
          "base_uri": "https://localhost:8080/"
        },
        "outputId": "35abde61-7c69-4f45-8f0b-6db1e12b08af"
      },
      "outputs": [
        {
          "output_type": "stream",
          "name": "stdout",
          "text": [
            "Evaluation \t Proposed point \t  Current eval. \t  Best eval. \t        Exact EI: StdDev. x \t Approx EI: StdDev. x \n",
            "init\t [-4.33860312  2.86636843]\t 35.25561298730891\t 5.622520458601941\t    \t    \n",
            "init\t [-0.63068947  2.28828342]\t 10.870251237170722\t 5.622520458601941\t    \t    \n",
            "init\t [4.8946126  0.39419771]\t 24.268016205804518\t 5.622520458601941\t    \t    \n",
            "init\t [ 0.01147355 -4.38219639]\t 38.407422120416236\t 5.622520458601941\t    \t    \n",
            "init\t [-2.37118484e+00 -1.20319155e-03]\t 5.622520458601941\t 5.622520458601941\t    \t    \n",
            "1  \t [-5.12 -5.12]\t 78.64320000000001\t 5.622520458601941\t 3.301788783268242\t 3.377456193469764\n",
            "2  \t [ 5.12 -5.12]\t 78.64320000000001\t 5.622520458601941\t 3.687463003663664\t 3.7176658546865755\n",
            "3  \t [3.47359546 5.12      ]\t 64.4946654192434\t 5.622520458601941\t 3.901668408451068\t 3.6289307109083593\n",
            "4  \t [-4.02558214 -1.33646422]\t 19.777584798449002\t 5.622520458601941\t 2.889414688252331\t 3.046307140328312\n",
            "\u001b[1m\u001b[92m5\u001b[0m\t \u001b[1m\u001b[92m[ 1.31197507 -0.73516168]\u001b[0m\t \u001b[1m\u001b[92m2.8022039725100725\u001b[0m\t \u001b[1m\u001b[92m2.8022039725100725\u001b[0m\t \u001b[1m\u001b[92m3.0631738214788125\u001b[0m\t \u001b[1m\u001b[92m2.8586940017873466\u001b[0m\n",
            "6  \t [-1.42291456  5.12      ]\t 54.453485836367065\t 2.8022039725100725\t 3.1724454086098333\t 3.2229509651423442\n",
            "7  \t [ 2.95541869 -2.3362414 ]\t 19.650547412738074\t 2.8022039725100725\t 2.3832113720402734\t 2.374739540505246\n",
            "8  \t [2.10057195 1.78164959]\t 10.760953013936584\t 2.8022039725100725\t 2.88960731645296\t 2.972718622657561\n",
            "9  \t [-0.48433858 -1.19059602]\t 3.069621627563702\t 2.8022039725100725\t 3.1867975037620253\t 3.1465476601581632\n",
            "10 \t [-5.12  5.12]\t 78.64320000000001\t 2.8022039725100725\t 3.0195779874353756\t 3.45081642218365\n",
            "11 \t [-2.46416557 -3.27784895]\t 27.560699395273577\t 2.8022039725100725\t 2.905689987762703\t 2.84635060090551\n",
            "\u001b[1m\u001b[92m12\u001b[0m\t \u001b[1m\u001b[92m[ 0.16832619 -0.00900567]\u001b[0m\t \u001b[1m\u001b[92m0.028495912027678576\u001b[0m\t \u001b[1m\u001b[92m0.028495912027678576\u001b[0m\t \u001b[1m\u001b[92m3.138357635472724\u001b[0m\t \u001b[1m\u001b[92m3.135893940726463\u001b[0m\n",
            "\u001b[1m\u001b[92m13\u001b[0m\t \u001b[1m\u001b[92m[0.13311457 0.05999192]\u001b[0m\t \u001b[1m\u001b[92m0.024917549000969937\u001b[0m\t \u001b[1m\u001b[92m0.024917549000969937\u001b[0m\t \u001b[1m\u001b[92m3.090832249924527\u001b[0m\t \u001b[1m\u001b[92m3.2303120577576427\u001b[0m\n",
            "14 \t [0.13138282 0.06277909]\t 0.02514387401351098\t 0.024917549000969937\t 2.760023149258149\t 2.563156158846571\n",
            "15 \t [0.13033762 0.06445033]\t 0.025295584273105375\t 0.024917549000969937\t 3.308751356528773\t 3.173515562780244\n",
            "16 \t [0.12962121 0.06558643]\t 0.0254048179361163\t 0.024917549000969937\t 2.44148410280686\t 2.343284044641072\n",
            "17 \t [0.12909633 0.06641026]\t 0.025486507198913114\t 0.024917549000969937\t 2.5274091332113198\t 2.704067173733518\n",
            "18 \t [0.12869349 0.0670367 ]\t 0.025549851815308645\t 0.024917549000969937\t 3.3066847487779207\t 3.2721079347908875\n",
            "19 \t [0.12837347 0.06752905]\t 0.025600093025877853\t 0.024917549000969937\t 3.038922047957688\t 3.0680288047889457\n",
            "20 \t [0.12811243 0.06792726]\t 0.02564101958486207\t 0.024917549000969937\t 2.917040119854813\t 2.8074188089781558\n"
          ]
        }
      ],
      "source": [
        "### ESTIMATED GP EI GRADIENTS\n",
        "\n",
        "np.random.seed(run_num_7)\n",
        "surrogate_approx_7 = dGaussianProcess(cov_func, optimize=opt)\n",
        "\n",
        "approx_7 = GPGO_multi(surrogate_approx_7, Acquisition_grad(util), objfunc, param)\n",
        "approx_7.run(init_evals=n_init, max_iter=iters)\n"
      ]
    },
    {
      "cell_type": "code",
      "execution_count": 20,
      "metadata": {
        "id": "4unvifF-GCXp",
        "colab": {
          "base_uri": "https://localhost:8080/"
        },
        "outputId": "419d4003-28c3-474d-f70e-4ef9b16e46b4"
      },
      "outputs": [
        {
          "output_type": "stream",
          "name": "stdout",
          "text": [
            "Evaluation \t Proposed point \t  Current eval. \t  Best eval. \t        Exact EI: StdDev. x \t Approx EI: StdDev. x \n",
            "init\t [3.82391708 4.79785639]\t 60.661193695854244\t 0.1518306274298758\t    \t    \n",
            "init\t [3.78055209 0.31596228]\t 14.492238445440277\t 0.1518306274298758\t    \t    \n",
            "init\t [-2.73686192 -5.00327624]\t 57.555959528959804\t 0.1518306274298758\t    \t    \n",
            "init\t [-0.7119993  -0.99992207]\t 2.506631309190485\t 0.1518306274298758\t    \t    \n",
            "init\t [ 0.23218863 -0.22126801]\t 0.1518306274298758\t 0.1518306274298758\t    \t    \n",
            "1  \t [0.19003029 1.84101258]\t 6.8147661676116575\t 0.1518306274298758\t 3.0082400260186315\t 3.749786221681577\n",
            "2  \t [-5.03492225  2.95509263]\t 42.81558690689544\t 0.1518306274298758\t 3.0841789807951367\t 3.322832937366649\n",
            "3  \t [-5.12       -1.28764863]\t 29.530477979834995\t 0.1518306274298758\t 2.625034850786048\t 3.1884987133008043\n",
            "4  \t [ 5.12 -5.12]\t 78.64320000000001\t 0.1518306274298758\t 3.1939925314229165\t 3.7181531368607623\n",
            "5  \t [-1.33749099  5.12      ]\t 54.217682160982704\t 0.1518306274298758\t 2.971693658697413\t 2.965758328418716\n",
            "6  \t [ 1.26140268 -3.56429662]\t 26.999557566575813\t 0.1518306274298758\t 3.014722907911593\t 3.219957557550771\n",
            "7  \t [-2.38690122  0.7516673 ]\t 6.827304898616211\t 0.1518306274298758\t 2.936260267999568\t 2.811035544058445\n",
            "8  \t [ 1.11227031 -0.46827129]\t 1.6757012327382745\t 0.1518306274298758\t 3.098042259732313\t 3.291703263721992\n",
            "9  \t [ 5.12       -1.84930586]\t 33.05426432772623\t 0.1518306274298758\t 2.68727233615991\t 2.872288385254065\n",
            "10 \t [-2.06283671 -1.91285776]\t 11.573344884676686\t 0.1518306274298758\t 3.1208101331782947\t 2.8970698368291417\n",
            "11 \t [5.12       2.13601717]\t 35.33953870097906\t 0.1518306274298758\t 2.8179860799933483\t 2.759878023801716\n",
            "12 \t [ 0.32467554 -0.47195807]\t 0.5509030465320178\t 0.1518306274298758\t 2.7671989780330057\t 2.6019699364069813\n",
            "13 \t [ 0.32713521 -0.46037501]\t 0.5309077368635914\t 0.1518306274298758\t 2.67924529980532\t 3.005337308174493\n",
            "14 \t [ 0.32912748 -0.45491884]\t 0.5222272068486001\t 0.1518306274298758\t 2.888420012691685\t 3.099631159329625\n",
            "15 \t [ 0.33064557 -0.45190188]\t 0.5177571100790044\t 0.1518306274298758\t 2.7816324557374177\t 2.6942874123022373\n",
            "16 \t [ 0.33179677 -0.45005703]\t 0.5151917505358478\t 0.1518306274298758\t 2.7920945202362266\t 2.6034917648835947\n",
            "17 \t [ 0.33268397 -0.44884452]\t 0.5136014316181488\t 0.1518306274298758\t 3.0285340469970374\t 2.9524291966711838\n",
            "18 \t [ 0.33337816 -0.4479916 ]\t 0.5125339454628872\t 0.1518306274298758\t 3.066022489377385\t 3.166227177390743\n",
            "19 \t [ 0.33392825 -0.4473749 ]\t 0.5117966815202197\t 0.1518306274298758\t 2.762782459316269\t 2.5886007979762375\n",
            "20 \t [ 0.3343708  -0.44691091]\t 0.5112625595104455\t 0.1518306274298758\t 2.65638025975437\t 2.6023903913410362\n"
          ]
        }
      ],
      "source": [
        "### ESTIMATED GP EI GRADIENTS\n",
        "\n",
        "np.random.seed(run_num_8)\n",
        "surrogate_approx_8 = dGaussianProcess(cov_func, optimize=opt)\n",
        "\n",
        "approx_8 = GPGO_multi(surrogate_approx_8, Acquisition_grad(util), objfunc, param)\n",
        "approx_8.run(init_evals=n_init, max_iter=iters)\n"
      ]
    },
    {
      "cell_type": "code",
      "execution_count": 21,
      "metadata": {
        "id": "85OIXcg7GCaJ",
        "colab": {
          "base_uri": "https://localhost:8080/"
        },
        "outputId": "02642d9e-d40d-4000-cac0-2247fa6c1af2"
      },
      "outputs": [
        {
          "output_type": "stream",
          "name": "stdout",
          "text": [
            "Evaluation \t Proposed point \t  Current eval. \t  Best eval. \t        Exact EI: StdDev. x \t Approx EI: StdDev. x \n",
            "init\t [-5.01376866  0.01919582]\t 25.138613177506063\t 14.00341364504739\t    \t    \n",
            "init\t [-0.04328148 -3.74958562]\t 28.12065798163534\t 14.00341364504739\t    \t    \n",
            "init\t [-3.66478248 -2.88195916]\t 30.04200788009657\t 14.00341364504739\t    \t    \n",
            "init\t [-0.83447623 -2.57944404]\t 14.00341364504739\t 14.00341364504739\t    \t    \n",
            "init\t [-4.25922917 -1.58209393]\t 23.14707552082245\t 14.00341364504739\t    \t    \n",
            "1  \t [3.69491889 4.82146316]\t 60.145439711826235\t 14.00341364504739\t 2.97471277204924\t 2.9015048208642384\n",
            "2  \t [-2.39305262  5.12      ]\t 58.155500822185196\t 14.00341364504739\t 3.154228663578276\t 4.161166738154498\n",
            "3  \t [ 5.12       -0.84695576]\t 27.6490681207304\t 14.00341364504739\t 2.885411998660618\t 3.2532844650727823\n",
            "4  \t [ 4.50295388 -5.12      ]\t 72.70539361850801\t 14.00341364504739\t 3.266683751919904\t 3.730731690507958\n",
            "\u001b[1m\u001b[92m5\u001b[0m\t \u001b[1m\u001b[92m[0.5712893  1.35322839]\u001b[0m\t \u001b[1m\u001b[92m3.988825639974671\u001b[0m\t \u001b[1m\u001b[92m3.988825639974671\u001b[0m\t \u001b[1m\u001b[92m3.528265090880352\u001b[0m\t \u001b[1m\u001b[92m2.7363190083869537\u001b[0m\n",
            "6  \t [-2.02154809  1.40407745]\t 8.02952362737764\t 3.988825639974671\t 2.5307577778082417\t 2.4719315452151625\n",
            "7  \t [-5.12       3.2335068]\t 47.12553249119341\t 3.988825639974671\t 3.0575152635941327\t 2.874198144261967\n",
            "8  \t [ 1.87267933 -0.90016434]\t 5.127519538836176\t 3.988825639974671\t 3.0145144751485606\t 2.3651580037118807\n",
            "9  \t [0.58693897 3.67691916]\t 27.3839664155294\t 3.988825639974671\t 3.15168196427225\t 2.8200240404542973\n",
            "10 \t [3.18402365 1.50870789]\t 14.690405579634684\t 3.988825639974671\t 2.7859375316871784\t 2.573349959726006\n",
            "11 \t [-5.12 -5.12]\t 78.64320000000001\t 3.988825639974671\t 2.9343708701742246\t 2.8120183687340043\n",
            "\u001b[1m\u001b[92m12\u001b[0m\t \u001b[1m\u001b[92m[-0.41503054 -0.2548695 ]\u001b[0m\t \u001b[1m\u001b[92m0.30216727930239595\u001b[0m\t \u001b[1m\u001b[92m0.30216727930239595\u001b[0m\t \u001b[1m\u001b[92m2.518530521113544\u001b[0m\t \u001b[1m\u001b[92m2.8351105128564207\u001b[0m\n",
            "13 \t [-0.43263583 -0.2638668 ]\t 0.3264251398898663\t 0.30216727930239595\t 2.058796562642382\t 2.131839966518007\n",
            "14 \t [-0.42857452 -0.26246128]\t 0.3214479665595428\t 0.30216727930239595\t 2.723019094088373\t 2.7854015685779885\n",
            "15 \t [-0.42680781 -0.26179316]\t 0.3192362263364832\t 0.30216727930239595\t 2.7057307529915744\t 2.7703217779571476\n",
            "16 \t [-0.42589464 -0.26141727]\t 0.3180642217164438\t 0.30216727930239595\t 2.9919776267375635\t 3.063832183439353\n",
            "17 \t [-0.42536818 -0.26118144]\t 0.3173695796550179\t 0.30216727930239595\t 2.7181224287976313\t 2.671061089609722\n",
            "18 \t [-0.42503903 -0.26102233]\t 0.3169234850083883\t 0.30216727930239595\t 2.589959190802892\t 2.9404678674741658\n",
            "19 \t [-0.42482042 -0.26090901]\t 0.3166194122972392\t 0.30216727930239595\t 2.6559776851080557\t 2.812753577086154\n",
            "20 \t [-0.42467605 -0.26082158]\t 0.3164055400780311\t 0.30216727930239595\t 3.131962755867484\t 3.064113262114291\n"
          ]
        }
      ],
      "source": [
        "### ESTIMATED GP EI GRADIENTS\n",
        "\n",
        "np.random.seed(run_num_9)\n",
        "surrogate_approx_9 = dGaussianProcess(cov_func, optimize=opt)\n",
        "\n",
        "approx_9 = GPGO_multi(surrogate_approx_9, Acquisition_grad(util), objfunc, param)\n",
        "approx_9.run(init_evals=n_init, max_iter=iters)\n"
      ]
    },
    {
      "cell_type": "code",
      "execution_count": 22,
      "metadata": {
        "id": "QQBR-qJPGCcp",
        "colab": {
          "base_uri": "https://localhost:8080/"
        },
        "outputId": "0f1f0894-0e03-4505-f5d0-acacf9aaaec4"
      },
      "outputs": [
        {
          "output_type": "stream",
          "name": "stdout",
          "text": [
            "Evaluation \t Proposed point \t  Current eval. \t  Best eval. \t        Exact EI: StdDev. x \t Approx EI: StdDev. x \n",
            "init\t [ 2.77832339 -4.90750004]\t 55.886194099964676\t 14.855028828430257\t    \t    \n",
            "init\t [1.36855793 2.54775176]\t 14.855028828430257\t 14.855028828430257\t    \t    \n",
            "init\t [-0.01528819 -2.81808235]\t 15.883409988980564\t 14.855028828430257\t    \t    \n",
            "init\t [-3.09183626  2.66783449]\t 23.79413325191142\t 14.855028828430257\t    \t    \n",
            "init\t [-3.38830503 -4.2154003 ]\t 47.019810427389544\t 14.855028828430257\t    \t    \n",
            "1  \t [ 5.12       -0.36609884]\t 26.48245672820724\t 14.855028828430257\t 3.5904008134800907\t 3.7809645500304745\n",
            "2  \t [5.12 5.12]\t 78.64320000000001\t 14.855028828430257\t 3.281093667496094\t 3.4441630995156647\n",
            "3  \t [-5.12       -0.57726035]\t 26.880859033488996\t 14.855028828430257\t 2.7119273614492387\t 3.3160969123254116\n",
            "4  \t [-0.64473944  5.12      ]\t 52.84448894997664\t 14.855028828430257\t 3.469891877089244\t 3.628775294271932\n",
            "5  \t [-5.12  5.12]\t 78.64320000000001\t 14.855028828430257\t 3.5169222784672174\t 3.2869850266437908\n",
            "\u001b[1m\u001b[92m6\u001b[0m\t \u001b[1m\u001b[92m[-1.00580897  0.12339228]\u001b[0m\t \u001b[1m\u001b[92m1.0421029984758579\u001b[0m\t \u001b[1m\u001b[92m1.0421029984758579\u001b[0m\t \u001b[1m\u001b[92m3.4008486759600594\u001b[0m\t \u001b[1m\u001b[92m3.0349152612542176\u001b[0m\n",
            "7  \t [ 1.86670099 -0.48424195]\t 3.953553116025687\t 1.0421029984758579\t 2.9518639306837855\t 3.04466170723994\n",
            "8  \t [-2.08008977 -0.70113809]\t 5.309962696220245\t 1.0421029984758579\t 2.932305187523357\t 3.0512794720650174\n",
            "9  \t [ 5.12      -3.1847446]\t 46.499596370263795\t 1.0421029984758579\t 3.0927727050295495\t 3.343262375012726\n",
            "\u001b[1m\u001b[92m10\u001b[0m\t \u001b[1m\u001b[92m[-0.40836588  0.64127661]\u001b[0m\t \u001b[1m\u001b[92m0.989234072476301\u001b[0m\t \u001b[1m\u001b[92m0.989234072476301\u001b[0m\t \u001b[1m\u001b[92m3.2845660232858003\u001b[0m\t \u001b[1m\u001b[92m3.1997222632591376\u001b[0m\n",
            "11 \t [3.96773079 2.12117207]\t 24.74162958531746\t 0.989234072476301\t 2.7577088945345527\t 2.7182414890331894\n",
            "12 \t [-0.48355593 -5.12      ]\t 52.66262633571369\t 0.989234072476301\t 2.9878850046403156\t 3.1735257279541074\n",
            "\u001b[1m\u001b[92m13\u001b[0m\t \u001b[1m\u001b[92m[-0.12429333  0.21705162]\u001b[0m\t \u001b[1m\u001b[92m0.10967164207825046\u001b[0m\t \u001b[1m\u001b[92m0.10967164207825046\u001b[0m\t \u001b[1m\u001b[92m2.904410986837027\u001b[0m\t \u001b[1m\u001b[92m2.995738381230344\u001b[0m\n",
            "\u001b[1m\u001b[92m14\u001b[0m\t \u001b[1m\u001b[92m[-0.02818314  0.11268839]\u001b[0m\t \u001b[1m\u001b[92m0.026191635113129653\u001b[0m\t \u001b[1m\u001b[92m0.026191635113129653\u001b[0m\t \u001b[1m\u001b[92m2.8885669972471657\u001b[0m\t \u001b[1m\u001b[92m2.885267039919999\u001b[0m\n",
            "\u001b[1m\u001b[92m15\u001b[0m\t \u001b[1m\u001b[92m[-0.01734565  0.10010049]\u001b[0m\t \u001b[1m\u001b[92m0.0203410890750801\u001b[0m\t \u001b[1m\u001b[92m0.0203410890750801\u001b[0m\t \u001b[1m\u001b[92m3.0631943792055054\u001b[0m\t \u001b[1m\u001b[92m2.8301355577443017\u001b[0m\n",
            "\u001b[1m\u001b[92m16\u001b[0m\t \u001b[1m\u001b[92m[-0.01389153  0.09604428]\u001b[0m\t \u001b[1m\u001b[92m0.018641981819595057\u001b[0m\t \u001b[1m\u001b[92m0.018641981819595057\u001b[0m\t \u001b[1m\u001b[92m3.0834176853189854\u001b[0m\t \u001b[1m\u001b[92m2.9933947012518103\u001b[0m\n",
            "\u001b[1m\u001b[92m17\u001b[0m\t \u001b[1m\u001b[92m[-0.01157032  0.09330542]\u001b[0m\t \u001b[1m\u001b[92m0.01754567450591445\u001b[0m\t \u001b[1m\u001b[92m0.01754567450591445\u001b[0m\t \u001b[1m\u001b[92m2.7488998519101138\u001b[0m\t \u001b[1m\u001b[92m2.787688474960899\u001b[0m\n",
            "\u001b[1m\u001b[92m18\u001b[0m\t \u001b[1m\u001b[92m[-0.0098363   0.09125119]\u001b[0m\t \u001b[1m\u001b[92m0.016750313926794328\u001b[0m\t \u001b[1m\u001b[92m0.016750313926794328\u001b[0m\t \u001b[1m\u001b[92m2.707809115416217\u001b[0m\t \u001b[1m\u001b[92m2.583092485295704\u001b[0m\n",
            "\u001b[1m\u001b[92m19\u001b[0m\t \u001b[1m\u001b[92m[-0.0084843   0.08964356]\u001b[0m\t \u001b[1m\u001b[92m0.016143917655100024\u001b[0m\t \u001b[1m\u001b[92m0.016143917655100024\u001b[0m\t \u001b[1m\u001b[92m2.587685587643476\u001b[0m\t \u001b[1m\u001b[92m2.465742559421168\u001b[0m\n",
            "\u001b[1m\u001b[92m20\u001b[0m\t \u001b[1m\u001b[92m[-0.00739753  0.08834577]\u001b[0m\t \u001b[1m\u001b[92m0.01566467466564731\u001b[0m\t \u001b[1m\u001b[92m0.01566467466564731\u001b[0m\t \u001b[1m\u001b[92m3.2926121860204196\u001b[0m\t \u001b[1m\u001b[92m3.1376412268549143\u001b[0m\n"
          ]
        }
      ],
      "source": [
        "### ESTIMATED GP EI GRADIENTS\n",
        "\n",
        "np.random.seed(run_num_10)\n",
        "surrogate_approx_10 = dGaussianProcess(cov_func, optimize=opt)\n",
        "\n",
        "approx_10 = GPGO_multi(surrogate_approx_10, Acquisition_grad(util), objfunc, param)\n",
        "approx_10.run(init_evals=n_init, max_iter=iters)\n"
      ]
    },
    {
      "cell_type": "code",
      "execution_count": 23,
      "metadata": {
        "id": "JS8ejeQ2GCfi",
        "colab": {
          "base_uri": "https://localhost:8080/"
        },
        "outputId": "42080e01-d654-42c9-a7f7-d3706a54a615"
      },
      "outputs": [
        {
          "output_type": "stream",
          "name": "stdout",
          "text": [
            "Evaluation \t Proposed point \t  Current eval. \t  Best eval. \t        Exact EI: StdDev. x \t Approx EI: StdDev. x \n",
            "init\t [-3.27403839 -4.92057353]\t 59.14341502486697\t 0.7122141741228657\t    \t    \n",
            "init\t [-0.37664229  2.30332343]\t 10.752457105378047\t 0.7122141741228657\t    \t    \n",
            "init\t [-0.81711509 -0.14922651]\t 0.7122141741228657\t 0.7122141741228657\t    \t    \n",
            "init\t [-4.98912446 -0.12931474]\t 24.924807467825406\t 0.7122141741228657\t    \t    \n",
            "init\t [4.52410012 3.59214172]\t 46.27444610017016\t 0.7122141741228657\t    \t    \n",
            "1  \t [ 5.12       -3.40245336]\t 49.36777770184314\t 0.7122141741228657\t 2.686370835414964\t 3.9529838321385635\n",
            "2  \t [-5.00024359  5.12      ]\t 77.43123593621823\t 0.7122141741228657\t 2.4813776186247196\t 3.2076412785916886\n",
            "3  \t [ 1.12959092 -5.12      ]\t 53.70477563656242\t 0.7122141741228657\t 3.1579215557547955\t 3.021380910142129\n",
            "4  \t [ 2.3855368  -0.29971529]\t 5.870444332814661\t 0.7122141741228657\t 2.4785678253773917\t 2.270990694806265\n",
            "5  \t [1.01599196 5.12      ]\t 53.46103965471632\t 0.7122141741228657\t 2.782819569553498\t 2.5803125156767375\n",
            "6  \t [-0.98176234 -1.89740209]\t 8.16412666383004\t 0.7122141741228657\t 2.9880677358185954\t 2.90497797222023\n",
            "7  \t [5.12       0.15923689]\t 26.265112771885228\t 0.7122141741228657\t 3.0444208476985786\t 3.1132965884235806\n",
            "8  \t [-2.11751599  0.4639232 ]\t 4.914323451453941\t 0.7122141741228657\t 2.6403496665262596\t 2.713796111893897\n",
            "9  \t [-3.08964174  2.51817713]\t 22.228318175112875\t 0.7122141741228657\t 2.9181438939648903\t 2.8227840541184652\n",
            "\u001b[1m\u001b[92m10\u001b[0m\t \u001b[1m\u001b[92m[ 0.27593039 -0.04172703]\u001b[0m\t \u001b[1m\u001b[92m0.07961986877161947\u001b[0m\t \u001b[1m\u001b[92m0.07961986877161947\u001b[0m\t \u001b[1m\u001b[92m2.6407253015347987\u001b[0m\t \u001b[1m\u001b[92m2.8186684085726212\u001b[0m\n",
            "11 \t [ 0.28496825 -0.04117716]\t 0.08459802237817546\t 0.07961986877161947\t 3.1599676564550383\t 3.1999220557760375\n",
            "12 \t [ 0.27879693 -0.04153163]\t 0.08117747916514184\t 0.07961986877161947\t 2.903227480735783\t 2.9531687903604014\n",
            "\u001b[1m\u001b[92m13\u001b[0m\t \u001b[1m\u001b[92m[ 0.27553133 -0.041716  ]\u001b[0m\t \u001b[1m\u001b[92m0.07939796368510064\u001b[0m\t \u001b[1m\u001b[92m0.07939796368510064\u001b[0m\t \u001b[1m\u001b[92m2.8203953692634403\u001b[0m\t \u001b[1m\u001b[92m2.767552763730543\u001b[0m\n",
            "\u001b[1m\u001b[92m14\u001b[0m\t \u001b[1m\u001b[92m[ 0.27354432 -0.04182736]\u001b[0m\t \u001b[1m\u001b[92m0.07832555161981593\u001b[0m\t \u001b[1m\u001b[92m0.07832555161981593\u001b[0m\t \u001b[1m\u001b[92m2.944194899210445\u001b[0m\t \u001b[1m\u001b[92m2.9959031788418953\u001b[0m\n",
            "\u001b[1m\u001b[92m15\u001b[0m\t \u001b[1m\u001b[92m[ 0.27222872 -0.04190235]\u001b[0m\t \u001b[1m\u001b[92m0.07762009236055606\u001b[0m\t \u001b[1m\u001b[92m0.07762009236055606\u001b[0m\t \u001b[1m\u001b[92m2.9947004875087577\u001b[0m\t \u001b[1m\u001b[92m2.872048660276299\u001b[0m\n",
            "\u001b[1m\u001b[92m16\u001b[0m\t \u001b[1m\u001b[92m[ 0.27129235 -0.04195626]\u001b[0m\t \u001b[1m\u001b[92m0.07712019434630431\u001b[0m\t \u001b[1m\u001b[92m0.07712019434630431\u001b[0m\t \u001b[1m\u001b[92m3.1303026291649356\u001b[0m\t \u001b[1m\u001b[92m3.1729950693662197\u001b[0m\n",
            "\u001b[1m\u001b[92m17\u001b[0m\t \u001b[1m\u001b[92m[ 0.27059593 -0.04199714]\u001b[0m\t \u001b[1m\u001b[92m0.07674967700100503\u001b[0m\t \u001b[1m\u001b[92m0.07674967700100503\u001b[0m\t \u001b[1m\u001b[92m2.5293401327775173\u001b[0m\t \u001b[1m\u001b[92m2.3836710207879537\u001b[0m\n",
            "\u001b[1m\u001b[92m18\u001b[0m\t \u001b[1m\u001b[92m[ 0.27005932 -0.04202885]\u001b[0m\t \u001b[1m\u001b[92m0.07646488496299504\u001b[0m\t \u001b[1m\u001b[92m0.07646488496299504\u001b[0m\t \u001b[1m\u001b[92m2.901346017720325\u001b[0m\t \u001b[1m\u001b[92m2.808531001616676\u001b[0m\n",
            "\u001b[1m\u001b[92m19\u001b[0m\t \u001b[1m\u001b[92m[ 0.26963764 -0.04205023]\u001b[0m\t \u001b[1m\u001b[92m0.07624089903191958\u001b[0m\t \u001b[1m\u001b[92m0.07624089903191958\u001b[0m\t \u001b[1m\u001b[92m2.9472777744947902\u001b[0m\t \u001b[1m\u001b[92m2.8259161355333453\u001b[0m\n",
            "\u001b[1m\u001b[92m20\u001b[0m\t \u001b[1m\u001b[92m[ 0.26929114 -0.04207471]\u001b[0m\t \u001b[1m\u001b[92m0.07605828170769931\u001b[0m\t \u001b[1m\u001b[92m0.07605828170769931\u001b[0m\t \u001b[1m\u001b[92m3.027246174944227\u001b[0m\t \u001b[1m\u001b[92m3.0756059610652016\u001b[0m\n"
          ]
        }
      ],
      "source": [
        "### ESTIMATED GP EI GRADIENTS\n",
        "\n",
        "np.random.seed(run_num_11)\n",
        "surrogate_approx_11 = dGaussianProcess(cov_func, optimize=opt)\n",
        "\n",
        "approx_11 = GPGO_multi(surrogate_approx_11, Acquisition_grad(util), objfunc, param)\n",
        "approx_11.run(init_evals=n_init, max_iter=iters)\n"
      ]
    },
    {
      "cell_type": "code",
      "execution_count": 24,
      "metadata": {
        "id": "DXwjUVZ4GCii",
        "colab": {
          "base_uri": "https://localhost:8080/"
        },
        "outputId": "6c29e395-48ee-43f2-8f5d-9d7ec220bdc2"
      },
      "outputs": [
        {
          "output_type": "stream",
          "name": "stdout",
          "text": [
            "Evaluation \t Proposed point \t  Current eval. \t  Best eval. \t        Exact EI: StdDev. x \t Approx EI: StdDev. x \n",
            "init\t [-3.54137249  2.45810889]\t 24.62591779447066\t 6.112828495563743\t    \t    \n",
            "init\t [-2.42365424  0.34549139]\t 6.112828495563743\t 6.112828495563743\t    \t    \n",
            "init\t [-4.97075238  4.28796936]\t 61.48174177959852\t 6.112828495563743\t    \t    \n",
            "init\t [ 4.10332011 -4.77776458]\t 62.49130467854858\t 6.112828495563743\t    \t    \n",
            "init\t [ 4.6791612  -3.71497655]\t 49.4966510918416\t 6.112828495563743\t    \t    \n",
            "1  \t [5.12       3.51881304]\t 50.97849040372313\t 6.112828495563743\t 3.7035472890922616\t 3.664352039607077\n",
            "2  \t [-3.57825582 -5.12      ]\t 65.23271473551827\t 6.112828495563743\t 3.5329516224579964\t 3.4275102615479076\n",
            "3  \t [0.42657547 5.12      ]\t 52.61076663052092\t 6.112828495563743\t 2.8937315150105145\t 2.8935073026299447\n",
            "\u001b[1m\u001b[92m4\u001b[0m\t \u001b[1m\u001b[92m[1.79369026 0.03097631]\u001b[0m\t \u001b[1m\u001b[92m3.219243802172427\u001b[0m\t \u001b[1m\u001b[92m3.219243802172427\u001b[0m\t \u001b[1m\u001b[92m2.695362159281515\u001b[0m\t \u001b[1m\u001b[92m2.245518681506991\u001b[0m\n",
            "5  \t [ 0.10931664 -3.02844643]\t 18.354925735843377\t 3.219243802172427\t 2.8721243656188995\t 2.973163987267629\n",
            "6  \t [-5.12       -1.39011313]\t 30.079229007538522\t 3.219243802172427\t 3.236235919236163\t 3.367647541871959\n",
            "7  \t [ 5.12      -0.1615872]\t 26.266620847695073\t 3.219243802172427\t 2.683210103828685\t 2.9218365889069235\n",
            "8  \t [0.04094135 1.65519092]\t 5.480990131057686\t 3.219243802172427\t 2.7430757606518914\t 2.763195620887519\n",
            "9  \t [2.30323482 2.15395481]\t 14.58393327167147\t 3.219243802172427\t 2.9181582615928763\t 2.7418929503117497\n",
            "10 \t [-2.23141532 -1.8924271 ]\t 12.14177497223871\t 3.219243802172427\t 2.7568526861789837\t 3.0876139219088006\n",
            "11 \t [ 2.39364455 -1.51203253]\t 10.30201895390592\t 3.219243802172427\t 2.7578920045733284\t 2.93217766490192\n",
            "12 \t [ 0.96508389 -5.12      ]\t 53.360186917458094\t 3.219243802172427\t 2.4394696779404756\t 2.66016491287237\n",
            "\u001b[1m\u001b[92m13\u001b[0m\t \u001b[1m\u001b[92m[-0.03841194 -0.28729948]\u001b[0m\t \u001b[1m\u001b[92m0.16655745920870688\u001b[0m\t \u001b[1m\u001b[92m0.16655745920870688\u001b[0m\t \u001b[1m\u001b[92m2.7789053304986315\u001b[0m\t \u001b[1m\u001b[92m2.1294354008129437\u001b[0m\n",
            "14 \t [-0.05103075 -0.2945095 ]\t 0.17607583422006803\t 0.16655745920870688\t 2.932765115011254\t 2.7527186116392452\n",
            "15 \t [-0.05014487 -0.29408182]\t 0.1754827385529534\t 0.16655745920870688\t 3.2068195749530193\t 3.128569585434063\n",
            "16 \t [-0.049697   -0.29386122]\t 0.17517862948950916\t 0.16655745920870688\t 3.0458181906786668\t 3.1452440383954485\n",
            "17 \t [-0.04943085 -0.29372857]\t 0.17499635145740727\t 0.16655745920870688\t 2.7039283110612526\t 2.9495928324395235\n",
            "18 \t [-0.04925586 -0.29364027]\t 0.17487535597036796\t 0.16655745920870688\t 3.114720449370122\t 2.979953973945469\n",
            "19 \t [-0.04913298 -0.29357751]\t 0.17478955382201736\t 0.16655745920870688\t 2.812976017495883\t 2.8636777833730545\n",
            "20 \t [-0.04904193 -0.29353077]\t 0.17472574236868518\t 0.16655745920870688\t 2.6676782515152735\t 2.6275567105798627\n"
          ]
        }
      ],
      "source": [
        "### ESTIMATED GP EI GRADIENTS\n",
        "\n",
        "np.random.seed(run_num_12)\n",
        "surrogate_approx_12 = dGaussianProcess(cov_func, optimize=opt)\n",
        "\n",
        "approx_12 = GPGO_multi(surrogate_approx_12, Acquisition_grad(util), objfunc, param)\n",
        "approx_12.run(init_evals=n_init, max_iter=iters)\n"
      ]
    },
    {
      "cell_type": "code",
      "execution_count": 25,
      "metadata": {
        "id": "CphOPndPGClX",
        "colab": {
          "base_uri": "https://localhost:8080/"
        },
        "outputId": "5461b651-6c36-421f-90e6-e830f0719ec8"
      },
      "outputs": [
        {
          "output_type": "stream",
          "name": "stdout",
          "text": [
            "Evaluation \t Proposed point \t  Current eval. \t  Best eval. \t        Exact EI: StdDev. x \t Approx EI: StdDev. x \n",
            "init\t [ 2.84367268 -2.68757791]\t 22.532624345992815\t 12.440151302029248\t    \t    \n",
            "init\t [3.32061217 4.76927179]\t 56.51837198799\t 12.440151302029248\t    \t    \n",
            "init\t [ 4.83943541 -0.47667971]\t 23.87458213765974\t 12.440151302029248\t    \t    \n",
            "init\t [1.11659482 2.82139151]\t 17.16728408945556\t 12.440151302029248\t    \t    \n",
            "init\t [1.45012065 2.27346667]\t 12.440151302029248\t 12.440151302029248\t    \t    \n",
            "1  \t [-4.97164824 -2.70396399]\t 39.3401287530233\t 12.440151302029248\t 2.797645369960195\t 3.166668561947521\n",
            "2  \t [-4.13632766  5.12      ]\t 69.53800649497063\t 12.440151302029248\t 3.3093116876128246\t 3.6566207763926113\n",
            "3  \t [-0.98139122 -5.12      ]\t 53.39192871845502\t 12.440151302029248\t 3.257729525728618\t 3.123624843521427\n",
            "\u001b[1m\u001b[92m4\u001b[0m\t \u001b[1m\u001b[92m[-2.51906657  0.81493157]\u001b[0m\t \u001b[1m\u001b[92m7.673923295968253\u001b[0m\t \u001b[1m\u001b[92m7.673923295968253\u001b[0m\t \u001b[1m\u001b[92m2.977652426311072\u001b[0m\t \u001b[1m\u001b[92m2.9344064428105123\u001b[0m\n",
            "5  \t [ 5.12 -5.12]\t 78.64320000000001\t 7.673923295968253\t 3.3817114472499585\t 3.836334705135283\n",
            "\u001b[1m\u001b[92m6\u001b[0m\t \u001b[1m\u001b[92m[-0.29246235 -1.24732661]\u001b[0m\t \u001b[1m\u001b[92m3.197181582987366\u001b[0m\t \u001b[1m\u001b[92m3.197181582987366\u001b[0m\t \u001b[1m\u001b[92m2.5894402096050833\u001b[0m\t \u001b[1m\u001b[92m2.780087109163568\u001b[0m\n",
            "7  \t [-5.12        1.41055178]\t 30.193712664992567\t 3.197181582987366\t 2.9859921149040547\t 3.2512862784053764\n",
            "8  \t [-0.61950675  5.12      ]\t 52.81258861670398\t 3.197181582987366\t 3.1877335048759448\t 3.4912750270282467\n",
            "9  \t [5.12       2.30541176]\t 36.84424675574565\t 3.197181582987366\t 2.948221086995367\t 2.8633535674335797\n",
            "10 \t [-2.02689166 -1.87782325]\t 11.160730152680822\t 3.197181582987366\t 2.6929658397540233\t 2.6372724280273867\n",
            "\u001b[1m\u001b[92m11\u001b[0m\t \u001b[1m\u001b[92m[ 1.26437851 -0.20927091]\u001b[0m\t \u001b[1m\u001b[92m1.686241637659464\u001b[0m\t \u001b[1m\u001b[92m1.686241637659464\u001b[0m\t \u001b[1m\u001b[92m3.0836993252063754\u001b[0m\t \u001b[1m\u001b[92m3.3247565108016373\u001b[0m\n",
            "12 \t [-4.11068442 -5.12      ]\t 69.32652637072869\t 1.686241637659464\t 3.001588075668243\t 3.0478476907214938\n",
            "\u001b[1m\u001b[92m13\u001b[0m\t \u001b[1m\u001b[92m[-0.23369539  0.42321097]\u001b[0m\t \u001b[1m\u001b[92m0.41282858455034716\u001b[0m\t \u001b[1m\u001b[92m0.41282858455034716\u001b[0m\t \u001b[1m\u001b[92m2.9231861765186684\u001b[0m\t \u001b[1m\u001b[92m2.908299266176693\u001b[0m\n",
            "14 \t [-0.25547671  0.44690956]\t 0.4647246622307738\t 0.41282858455034716\t 2.402590019097408\t 2.3788754809916344\n",
            "15 \t [-0.24517189  0.4359246 ]\t 0.4401697670393165\t 0.41282858455034716\t 2.760740281730763\t 2.841378773282009\n",
            "16 \t [-0.24096033  0.43143954]\t 0.43034202948374917\t 0.41282858455034716\t 2.661526640183449\t 2.715954717957387\n",
            "17 \t [ 1.92906472 -5.12      ]\t 56.15009068791524\t 0.41282858455034716\t 3.4269608030521677\t 3.388564316172328\n",
            "18 \t [-0.24081217  0.43073298]\t 0.4290523059574736\t 0.41282858455034716\t 2.4030159169648004\t 2.292937138711038\n",
            "19 \t [-0.23935497  0.42918884]\t 0.42569692647225305\t 0.41282858455034716\t 3.0424756111133884\t 2.840253762843869\n",
            "20 \t [-0.23845643  0.42822638]\t 0.42361712616880703\t 0.41282858455034716\t 3.2636129096549524\t 3.212595666133592\n"
          ]
        }
      ],
      "source": [
        "### ESTIMATED GP EI GRADIENTS\n",
        "\n",
        "np.random.seed(run_num_13)\n",
        "surrogate_approx_13 = dGaussianProcess(cov_func, optimize=opt)\n",
        "\n",
        "approx_13 = GPGO_multi(surrogate_approx_13, Acquisition_grad(util), objfunc, param)\n",
        "approx_13.run(init_evals=n_init, max_iter=iters)\n"
      ]
    },
    {
      "cell_type": "code",
      "execution_count": 26,
      "metadata": {
        "id": "ojHTeARNGCoi",
        "colab": {
          "base_uri": "https://localhost:8080/"
        },
        "outputId": "b3f7ffba-1b01-4729-fede-eb7c4c22243d"
      },
      "outputs": [
        {
          "output_type": "stream",
          "name": "stdout",
          "text": [
            "Evaluation \t Proposed point \t  Current eval. \t  Best eval. \t        Exact EI: StdDev. x \t Approx EI: StdDev. x \n",
            "init\t [0.14277984 2.79721013]\t 15.669155142359655\t 6.942951853664133\t    \t    \n",
            "init\t [ 3.7931795  -5.03759925]\t 65.14302308089468\t 6.942951853664133\t    \t    \n",
            "init\t [-1.94830412  4.68586229]\t 47.71049977745547\t 6.942951853664133\t    \t    \n",
            "init\t [ 0.13431513 -1.86076749]\t 6.942951853664133\t 6.942951853664133\t    \t    \n",
            "init\t [ 0.40140736 -2.85434939]\t 16.455748743182696\t 6.942951853664133\t    \t    \n",
            "1  \t [-4.75963599 -5.12      ]\t 75.08293471950485\t 6.942951853664133\t 4.121274436170594\t 3.9768855759570823\n",
            "2  \t [5.12 5.12]\t 78.64320000000001\t 6.942951853664133\t 3.93964071230774\t 3.9413792287029286\n",
            "3  \t [-5.12        0.35694112]\t 26.469213923676246\t 6.942951853664133\t 2.789551274617644\t 3.7171958007034074\n",
            "4  \t [ 5.12       -0.06635438]\t 26.223205807130444\t 6.942951853664133\t 2.9872317366162346\t 3.2938045992733094\n",
            "\u001b[1m\u001b[92m5\u001b[0m\t \u001b[1m\u001b[92m[-1.74027299  0.04528134]\u001b[0m\t \u001b[1m\u001b[92m3.032650865664161\u001b[0m\t \u001b[1m\u001b[92m3.032650865664161\u001b[0m\t \u001b[1m\u001b[92m2.744099784065701\u001b[0m\t \u001b[1m\u001b[92m2.408846052325992\u001b[0m\n",
            "6  \t [-5.12  5.12]\t 78.64320000000001\t 3.032650865664161\t 2.5878261850806172\t 3.051392310493833\n",
            "7  \t [1.85746046 0.20459638]\t 3.5338787075218336\t 3.032650865664161\t 2.591306512581582\t 2.2769214264712128\n",
            "8  \t [-2.80755616 -2.18916598]\t 17.467266933558452\t 3.032650865664161\t 3.082485704267129\t 3.0526018691296852\n",
            "9  \t [-1.18513208 -5.12      ]\t 53.83333805751125\t 3.032650865664161\t 3.1462420042903076\t 2.873275608714602\n",
            "10 \t [3.0502855  2.39432264]\t 20.76980342947274\t 3.032650865664161\t 2.788474477636943\t 2.8945193965448732\n",
            "11 \t [1.59319886 5.12      ]\t 54.967082606345734\t 3.032650865664161\t 2.9258518970174587\t 3.091529718583498\n",
            "12 \t [ 2.92742768 -1.85325732]\t 15.43895818178952\t 3.032650865664161\t 2.803316698544158\t 2.996918082032896\n",
            "13 \t [-2.57693356  1.65275871]\t 12.103809307459587\t 3.032650865664161\t 2.7793688499210956\t 2.877759952110327\n",
            "\u001b[1m\u001b[92m14\u001b[0m\t \u001b[1m\u001b[92m[-0.07288019  0.09130113]\u001b[0m\t \u001b[1m\u001b[92m0.021983314083523917\u001b[0m\t \u001b[1m\u001b[92m0.021983314083523917\u001b[0m\t \u001b[1m\u001b[92m2.7783366412125865\u001b[0m\t \u001b[1m\u001b[92m2.787246666557386\u001b[0m\n",
            "15 \t [-0.05388722  0.1009848 ]\t 0.023299693264568738\t 0.021983314083523917\t 2.9304321145243084\t 2.92527079732502\n",
            "16 \t [-0.05514809  0.10036106]\t 0.02318599540928634\t 0.021983314083523917\t 2.9341344234494415\t 3.186766802218329\n",
            "17 \t [-0.0557874  0.1000439]\t 0.023129797865940795\t 0.021983314083523917\t 3.1413569790932105\t 3.0552651691282486\n",
            "18 \t [-0.0561673   0.09985519]\t 0.02309688435817462\t 0.021983314083523917\t 2.5960990379808098\t 2.5516921240289796\n",
            "19 \t [-0.05641648  0.0997306 ]\t 0.023075206185963912\t 0.021983314083523917\t 2.8435092153019985\t 3.012031847145034\n",
            "20 \t [-0.05659118  0.09964303]\t 0.02306003007678286\t 0.021983314083523917\t 2.6743335297079485\t 2.6435210307018475\n"
          ]
        }
      ],
      "source": [
        "### ESTIMATED GP EI GRADIENTS\n",
        "\n",
        "np.random.seed(run_num_14)\n",
        "surrogate_approx_14 = dGaussianProcess(cov_func, optimize=opt)\n",
        "\n",
        "approx_14 = GPGO_multi(surrogate_approx_14, Acquisition_grad(util), objfunc, param)\n",
        "approx_14.run(init_evals=n_init, max_iter=iters)\n"
      ]
    },
    {
      "cell_type": "code",
      "execution_count": 27,
      "metadata": {
        "id": "vCJzn4vWGCs3",
        "colab": {
          "base_uri": "https://localhost:8080/"
        },
        "outputId": "74bffe23-37e9-4ce6-8f2d-9911c4c8fc42"
      },
      "outputs": [
        {
          "output_type": "stream",
          "name": "stdout",
          "text": [
            "Evaluation \t Proposed point \t  Current eval. \t  Best eval. \t        Exact EI: StdDev. x \t Approx EI: StdDev. x \n",
            "init\t [ 3.57189322 -3.28810573]\t 34.38169974295086\t 5.478261179905657\t    \t    \n",
            "init\t [-4.56332069 -1.41784631]\t 24.84447200795673\t 5.478261179905657\t    \t    \n",
            "init\t [-2.29989449  0.3072023 ]\t 5.478261179905657\t 5.478261179905657\t    \t    \n",
            "init\t [-1.9873903  -2.00218256]\t 11.967190241167383\t 5.478261179905657\t    \t    \n",
            "init\t [-3.97576933 -2.5610341 ]\t 28.924533081850157\t 5.478261179905657\t    \t    \n",
            "1  \t [1.24561049 5.12      ]\t 53.980345481357894\t 5.478261179905657\t 3.729730094167296\t 3.766997094729225\n",
            "2  \t [-4.7120903  5.12     ]\t 74.63259495359057\t 5.478261179905657\t 3.2070125734278325\t 3.7139385461828733\n",
            "3  \t [5.12       1.65425128]\t 31.687494601800807\t 5.478261179905657\t 3.2754718439885266\t 3.5817722941604595\n",
            "4  \t [-0.10800224 -5.12      ]\t 52.44046448486333\t 5.478261179905657\t 3.279627271828867\t 3.09518182678473\n",
            "\u001b[1m\u001b[92m5\u001b[0m\t \u001b[1m\u001b[92m[1.25659106 0.45859119]\u001b[0m\t \u001b[1m\u001b[92m1.9996328530568677\u001b[0m\t \u001b[1m\u001b[92m1.9996328530568677\u001b[0m\t \u001b[1m\u001b[92m3.2735811013393517\u001b[0m\t \u001b[1m\u001b[92m3.0697058943512454\u001b[0m\n",
            "6  \t [5.12 5.12]\t 78.64320000000001\t 1.9996328530568677\t 3.4016090582567546\t 3.2549663088089176\n",
            "7  \t [-1.60230735  2.95030098]\t 19.975940632619015\t 1.9996328530568677\t 2.849110953279027\t 3.1127888759452444\n",
            "8  \t [-5.12       1.6229288]\t 31.482195766009813\t 1.9996328530568677\t 3.259859492656958\t 3.3938338573153084\n",
            "9  \t [-5.12 -5.12]\t 78.64320000000001\t 1.9996328530568677\t 2.35237724666251\t 2.5025328328112053\n",
            "10 \t [ 0.82085046 -1.49874086]\t 5.1662437868000595\t 1.9996328530568677\t 2.8205488795971285\t 2.9773617296033814\n",
            "11 \t [1.9139256  1.89503696]\t 10.845441377436021\t 1.9996328530568677\t 2.7429305246198705\t 2.8172201261205396\n",
            "12 \t [ 2.98271749 -0.43656562]\t 9.277782701771846\t 1.9996328530568677\t 2.8141066627208233\t 2.936666362814587\n",
            "\u001b[1m\u001b[92m13\u001b[0m\t \u001b[1m\u001b[92m[-0.08216878  0.39718636]\u001b[0m\t \u001b[1m\u001b[92m0.3222657133675009\u001b[0m\t \u001b[1m\u001b[92m0.3222657133675009\u001b[0m\t \u001b[1m\u001b[92m3.279169848522648\u001b[0m\t \u001b[1m\u001b[92m2.9134663661926106\u001b[0m\n",
            "14 \t [-0.10088401  0.39746406]\t 0.3261329451710265\t 0.3222657133675009\t 2.9419910063301\t 3.1570937357742386\n",
            "15 \t [-0.09545898  0.39742689]\t 0.3250086849059757\t 0.3222657133675009\t 2.029792170214689\t 2.2601777285148295\n",
            "16 \t [-0.09257571  0.39739579]\t 0.32441709598281776\t 0.3222657133675009\t 3.1457543768396534\t 3.156019474910566\n",
            "17 \t [-0.09081605  0.39737223]\t 0.32405693635783894\t 0.3222657133675009\t 2.6705226922201444\t 2.660705690734136\n",
            "18 \t [-0.08964341  0.39735314]\t 0.3238149742950017\t 0.3222657133675009\t 2.854931507812179\t 2.920332299358041\n",
            "19 \t [-0.08881374  0.39733973]\t 0.32364560390088637\t 0.3222657133675009\t 3.116567037069344\t 2.977159516554214\n",
            "20 \t [-0.08819914  0.39732828]\t 0.3235186174181933\t 0.3222657133675009\t 2.562717693585081\t 2.6838553933394063\n"
          ]
        }
      ],
      "source": [
        "### ESTIMATED GP EI GRADIENTS\n",
        "\n",
        "np.random.seed(run_num_15)\n",
        "surrogate_approx_15 = dGaussianProcess(cov_func, optimize=opt)\n",
        "\n",
        "approx_15 = GPGO_multi(surrogate_approx_15, Acquisition_grad(util), objfunc, param)\n",
        "approx_15.run(init_evals=n_init, max_iter=iters)\n"
      ]
    },
    {
      "cell_type": "code",
      "execution_count": 28,
      "metadata": {
        "id": "bGGkhp-kGCw6",
        "colab": {
          "base_uri": "https://localhost:8080/"
        },
        "outputId": "444d747b-b63f-4800-cf49-8c1d5af0d0d5"
      },
      "outputs": [
        {
          "output_type": "stream",
          "name": "stdout",
          "text": [
            "Evaluation \t Proposed point \t  Current eval. \t  Best eval. \t        Exact EI: StdDev. x \t Approx EI: StdDev. x \n",
            "init\t [-2.83349935  0.23719262]\t 8.141239237549925\t 8.141239237549925\t    \t    \n",
            "init\t [ 0.51918292 -4.65303603]\t 43.571039504503474\t 8.141239237549925\t    \t    \n",
            "init\t [-1.42613673 -2.83565116]\t 18.11570093066862\t 8.141239237549925\t    \t    \n",
            "init\t [ 1.9325559  -3.44339021]\t 27.448644544199137\t 8.141239237549925\t    \t    \n",
            "init\t [-4.39987336  4.51595121]\t 60.146516261103784\t 8.141239237549925\t    \t    \n",
            "1  \t [4.54178973 5.12      ]\t 73.05665393876733\t 8.141239237549925\t 3.916851608419127\t 3.8994468146665966\n",
            "2  \t [5.12       0.09211851]\t 26.231371638555377\t 8.141239237549925\t 3.2009924258196936\t 3.1014015677881552\n",
            "3  \t [-5.12 -5.12]\t 78.64320000000001\t 8.141239237549925\t 3.484739058977709\t 3.8045695755105435\n",
            "4  \t [0.28396628 3.12159228]\t 19.569313580524522\t 8.141239237549925\t 2.478270769273815\t 3.210766294037804\n",
            "5  \t [ 5.12 -5.12]\t 78.64320000000001\t 8.141239237549925\t 2.766263868552379\t 2.7898308039201756\n",
            "\u001b[1m\u001b[92m6\u001b[0m\t \u001b[1m\u001b[92m[ 1.30175418 -0.05623885]\u001b[0m\t \u001b[1m\u001b[92m1.7008895568637443\u001b[0m\t \u001b[1m\u001b[92m1.7008895568637443\u001b[0m\t \u001b[1m\u001b[92m3.218727995121717\u001b[0m\t \u001b[1m\u001b[92m3.2773736311557973\u001b[0m\n",
            "7  \t [-5.12      -1.3635229]\t 29.93278942209937\t 1.7008895568637443\t 2.8807310480092743\t 2.8940873143120993\n",
            "8  \t [2.86651603 1.96229924]\t 15.918150804103997\t 1.7008895568637443\t 2.5423606051689576\t 2.8156257886611744\n",
            "\u001b[1m\u001b[92m9\u001b[0m\t \u001b[1m\u001b[92m[-0.2166039 -0.0171872]\u001b[0m\t \u001b[1m\u001b[92m0.04750805017296836\u001b[0m\t \u001b[1m\u001b[92m0.04750805017296836\u001b[0m\t \u001b[1m\u001b[92m3.0312800968056326\u001b[0m\t \u001b[1m\u001b[92m2.9929687040430015\u001b[0m\n",
            "10 \t [-0.24325751 -0.00156782]\t 0.05917913050358363\t 0.04750805017296836\t 3.080110043147601\t 3.2291731685335114\n",
            "11 \t [-0.22969314 -0.01445037]\t 0.053176564352280534\t 0.04750805017296836\t 3.1085462606161944\t 3.173847748777768\n",
            "12 \t [-0.22426848 -0.01790887]\t 0.05093780814176347\t 0.04750805017296836\t 3.1507530658528053\t 3.2814167980493285\n",
            "13 \t [-0.2217126  -0.01868714]\t 0.04985489661165918\t 0.04750805017296836\t 2.639686889965097\t 2.6267553431554913\n",
            "14 \t [-0.22032385 -0.01871693]\t 0.04924324720807939\t 0.04750805017296836\t 2.7060488243058796\t 2.5820931523316935\n",
            "15 \t [-0.21947199 -0.01856185]\t 0.04885703898782713\t 0.04750805017296836\t 2.693352372106612\t 2.713718631185538\n",
            "16 \t [-0.21888903 -0.01840803]\t 0.04859011882260551\t 0.04750805017296836\t 2.6073096582296835\t 2.820034002646218\n",
            "17 \t [-0.21847602 -0.01826188]\t 0.048398762213806484\t 0.04750805017296836\t 3.1516482402599806\t 3.226460686179206\n",
            "18 \t [-0.21816573 -0.01814318]\t 0.048254635193122196\t 0.04750805017296836\t 2.685199917927543\t 2.9185678955257908\n",
            "19 \t [-0.21792315 -0.01805258]\t 0.04814229074115084\t 0.04750805017296836\t 2.7336025379468145\t 2.621358380141971\n",
            "20 \t [-0.21773742 -0.01796776]\t 0.04805526668300482\t 0.04750805017296836\t 3.0793756254328417\t 3.0917907053323357\n"
          ]
        }
      ],
      "source": [
        "### ESTIMATED GP EI GRADIENTS\n",
        "\n",
        "np.random.seed(run_num_16)\n",
        "surrogate_approx_16 = dGaussianProcess(cov_func, optimize=opt)\n",
        "\n",
        "approx_16 = GPGO_multi(surrogate_approx_16, Acquisition_grad(util), objfunc, param)\n",
        "approx_16.run(init_evals=n_init, max_iter=iters)\n"
      ]
    },
    {
      "cell_type": "code",
      "execution_count": 29,
      "metadata": {
        "id": "Yrs2mp7hGC1Z",
        "colab": {
          "base_uri": "https://localhost:8080/"
        },
        "outputId": "c3c54a45-3fd8-4c0d-b59d-fc1060227d2d"
      },
      "outputs": [
        {
          "output_type": "stream",
          "name": "stdout",
          "text": [
            "Evaluation \t Proposed point \t  Current eval. \t  Best eval. \t        Exact EI: StdDev. x \t Approx EI: StdDev. x \n",
            "init\t [-2.10263037  0.31320838]\t 4.617253458637031\t 3.1817562258207746\t    \t    \n",
            "init\t [-3.15882714 -4.42470033]\t 49.134134969019556\t 3.1817562258207746\t    \t    \n",
            "init\t [2.93873111 1.60085526]\t 13.761615685279608\t 3.1817562258207746\t    \t    \n",
            "init\t [1.40821398 0.77417363]\t 3.1817562258207746\t 3.1817562258207746\t    \t    \n",
            "init\t [-4.71999574 -1.45598869]\t 26.518165900202685\t 3.1817562258207746\t    \t    \n",
            "1  \t [ 4.96008736 -4.44720822]\t 64.15778856025273\t 3.1817562258207746\t 3.330997861947753\t 4.404836650990023\n",
            "2  \t [-4.56436842  4.96956065]\t 70.2265252464828\t 3.1817562258207746\t 3.1512014650356934\t 3.3674817751446904\n",
            "3  \t [0.3082903 5.12     ]\t 52.52384290640879\t 3.1817562258207746\t 3.5144838650736876\t 3.306722477201687\n",
            "4  \t [5.12 5.12]\t 78.64320000000001\t 3.1817562258207746\t 3.6037299800563107\t 3.5913924260874377\n",
            "5  \t [ 0.86766218 -2.75615004]\t 15.945563735598801\t 3.1817562258207746\t 2.779775529160979\t 2.9386666648848103\n",
            "6  \t [ 5.12       -0.69407969]\t 27.17789323116652\t 3.1817562258207746\t 2.6167176086336847\t 2.894163773413048\n",
            "7  \t [-5.12        1.60769643]\t 31.383775605549133\t 3.1817562258207746\t 2.5627734866852108\t 2.747522562011385\n",
            "8  \t [-1.71573255  2.55795672]\t 16.030023280966017\t 3.1817562258207746\t 3.073866472785667\t 2.8753156850240806\n",
            "9  \t [ 0.14314287 -5.12      ]\t 52.449289881626925\t 3.1817562258207746\t 3.3024188256238696\t 3.256083453914999\n",
            "\u001b[1m\u001b[92m10\u001b[0m\t \u001b[1m\u001b[92m[-0.0134729  -0.15220376]\u001b[0m\t \u001b[1m\u001b[92m0.046513490518365196\u001b[0m\t \u001b[1m\u001b[92m0.046513490518365196\u001b[0m\t \u001b[1m\u001b[92m2.4399501609376757\u001b[0m\t \u001b[1m\u001b[92m2.1162429634397655\u001b[0m\n",
            "11 \t [-0.04808204 -0.18602388]\t 0.07152165129568841\t 0.046513490518365196\t 3.2207375134636136\t 2.9666824255716806\n",
            "12 \t [-0.03800121 -0.17589933]\t 0.06332523726459885\t 0.046513490518365196\t 2.826661918717049\t 2.755981964541003\n",
            "13 \t [-0.03398665 -0.17189883]\t 0.060253505539005936\t 0.046513490518365196\t 2.50581808650005\t 2.4609060829516833\n",
            "14 \t [-0.03203738 -0.16996135]\t 0.05880011726530376\t 0.046513490518365196\t 2.738682546194723\t 2.5507960066802955\n",
            "15 \t [-0.03096693 -0.16890775]\t 0.058018604231176836\t 0.046513490518365196\t 2.685826634234342\t 2.6904193811031725\n",
            "16 \t [-0.03032983 -0.16828485]\t 0.05755948324095737\t 0.046513490518365196\t 2.6196167647482036\t 2.408256219615827\n",
            "17 \t [-0.02992778 -0.16789421]\t 0.05727260038399582\t 0.046513490518365196\t 2.4851789900528196\t 2.4085059209842865\n",
            "18 \t [-0.02965934 -0.16763605]\t 0.05708336729048689\t 0.046513490518365196\t 2.733073782993976\t 2.5660384706291492\n",
            "19 \t [-0.02947496 -0.16745978]\t 0.05695433155979387\t 0.046513490518365196\t 2.609430194967901\t 2.6890451818078933\n",
            "20 \t [-0.02934382 -0.16733584]\t 0.056863624059991964\t 0.046513490518365196\t 2.9777185478005017\t 2.8160853807993464\n"
          ]
        }
      ],
      "source": [
        "### ESTIMATED GP EI GRADIENTS\n",
        "\n",
        "np.random.seed(run_num_17)\n",
        "surrogate_approx_17 = dGaussianProcess(cov_func, optimize=opt)\n",
        "\n",
        "approx_17 = GPGO_multi(surrogate_approx_17, Acquisition_grad(util), objfunc, param)\n",
        "approx_17.run(init_evals=n_init, max_iter=iters)\n"
      ]
    },
    {
      "cell_type": "code",
      "execution_count": 30,
      "metadata": {
        "id": "f0HIEP3PIUEa",
        "colab": {
          "base_uri": "https://localhost:8080/"
        },
        "outputId": "80dff854-8493-4974-a499-28c97ff3f977"
      },
      "outputs": [
        {
          "output_type": "stream",
          "name": "stdout",
          "text": [
            "Evaluation \t Proposed point \t  Current eval. \t  Best eval. \t        Exact EI: StdDev. x \t Approx EI: StdDev. x \n",
            "init\t [1.53983224 0.05584255]\t 2.3773200933391867\t 2.3773200933391867\t    \t    \n",
            "init\t [ 3.87687906 -3.25795609]\t 36.25874706055664\t 2.3773200933391867\t    \t    \n",
            "init\t [3.60686662 2.56139557]\t 26.130981366974602\t 2.3773200933391867\t    \t    \n",
            "init\t [1.70088108 4.99604939]\t 52.81401545301259\t 2.3773200933391867\t    \t    \n",
            "init\t [-2.48864335 -4.83014733]\t 52.85399210258478\t 2.3773200933391867\t    \t    \n",
            "1  \t [-5.00718904  2.9174042 ]\t 42.09443666312248\t 2.3773200933391867\t 3.077046067626628\t 3.6505861325773443\n",
            "2  \t [-2.1250226  -0.37419624]\t 4.795766682678849\t 2.3773200933391867\t 2.611673796822958\t 2.5847399606849\n",
            "3  \t [-5.12      -1.6691441]\t 31.786484028383352\t 2.3773200933391867\t 2.9544626846119333\t 3.075217995002379\n",
            "4  \t [-2.08580937  5.12      ]\t 56.77940070999997\t 2.3773200933391867\t 2.9982867124521877\t 3.4877716202770674\n",
            "5  \t [ 0.32980953 -2.44596173]\t 12.074231886915486\t 2.3773200933391867\t 2.7082463752352863\t 2.898952152531162\n",
            "6  \t [-0.36630164  1.83119948]\t 6.840760001289241\t 2.3773200933391867\t 2.7028149860958415\t 3.014287162172409\n",
            "7  \t [ 5.12       -0.21061862]\t 26.303120406216333\t 2.3773200933391867\t 3.0777438306384712\t 3.4196159737485323\n",
            "8  \t [5.12 5.12]\t 78.64320000000001\t 2.3773200933391867\t 2.777937620605841\t 3.016809495222555\n",
            "9  \t [ 1.16104235 -5.12      ]\t 53.77681934200436\t 2.3773200933391867\t 2.889812585992179\t 2.8154637459490446\n",
            "10 \t [-2.50700145  1.4972609 ]\t 10.76863666720011\t 2.3773200933391867\t 3.134778294115446\t 3.300731359855998\n",
            "11 \t [-5.12 -5.12]\t 78.64320000000001\t 2.3773200933391867\t 3.1284421175690125\t 3.0556452374527487\n",
            "12 \t [ 2.2582667  -0.60000726]\t 5.819785922533616\t 2.3773200933391867\t 2.5993795096633168\t 2.5321536284362507\n",
            "\u001b[1m\u001b[92m13\u001b[0m\t \u001b[1m\u001b[92m[ 0.06584146 -0.09440647]\u001b[0m\t \u001b[1m\u001b[92m0.022160259098271646\u001b[0m\t \u001b[1m\u001b[92m0.022160259098271646\u001b[0m\t \u001b[1m\u001b[92m3.0116830912010606\u001b[0m\t \u001b[1m\u001b[92m2.758023720127302\u001b[0m\n",
            "14 \t [ 0.01213    -0.11931586]\t 0.028619685214426017\t 0.022160259098271646\t 2.565366450843512\t 2.410503203739244\n",
            "15 \t [ 0.01096506 -0.11988809]\t 0.02886654004327747\t 0.022160259098271646\t 2.747248094133719\t 2.768726454889474\n",
            "16 \t [ 0.01016492 -0.12028124]\t 0.029038480715588053\t 0.022160259098271646\t 2.588967056996382\t 2.5662201188788263\n",
            "17 \t [ 0.00959291 -0.12056256]\t 0.029162684908031512\t 0.022160259098271646\t 3.4554882703296643\t 3.439084695193009\n",
            "18 \t [ 0.00916104 -0.12077309]\t 0.029256204500973354\t 0.022160259098271646\t 3.0414896387989785\t 3.0527466888452324\n",
            "19 \t [ 0.00883376 -0.12093635]\t 0.02932923504672867\t 0.022160259098271646\t 2.7664178009907308\t 2.559393288906267\n",
            "20 \t [ 0.00856941 -0.12106669]\t 0.029387723461570384\t 0.022160259098271646\t 2.915089298656435\t 2.6853705846670675\n"
          ]
        }
      ],
      "source": [
        "### ESTIMATED GP EI GRADIENTS\n",
        "\n",
        "np.random.seed(run_num_18)\n",
        "surrogate_approx_18 = dGaussianProcess(cov_func, optimize=opt)\n",
        "\n",
        "approx_18 = GPGO_multi(surrogate_approx_18, Acquisition_grad(util), objfunc, param)\n",
        "approx_18.run(init_evals=n_init, max_iter=iters)\n"
      ]
    },
    {
      "cell_type": "code",
      "execution_count": 31,
      "metadata": {
        "id": "S3mxRQDLIUPC",
        "colab": {
          "base_uri": "https://localhost:8080/"
        },
        "outputId": "63a45953-8781-4d7c-8c71-cf10c4169f83"
      },
      "outputs": [
        {
          "output_type": "stream",
          "name": "stdout",
          "text": [
            "Evaluation \t Proposed point \t  Current eval. \t  Best eval. \t        Exact EI: StdDev. x \t Approx EI: StdDev. x \n",
            "init\t [-4.12125592  2.6751971 ]\t 31.298109376682206\t 22.814458446152262\t    \t    \n",
            "init\t [-2.59135515 -3.70553152]\t 34.17704923320956\t 22.814458446152262\t    \t    \n",
            "init\t [-1.72598719 -4.27008445]\t 39.4462742815243\t 22.814458446152262\t    \t    \n",
            "init\t [1.76104531 3.13952049]\t 22.814458446152262\t 22.814458446152262\t    \t    \n",
            "init\t [4.9432772  1.38916592]\t 28.295553455390152\t 22.814458446152262\t    \t    \n",
            "1  \t [ 5.12 -5.12]\t 78.64320000000001\t 22.814458446152262\t 3.4513529092014785\t 4.589131028028589\n",
            "\u001b[1m\u001b[92m2\u001b[0m\t \u001b[1m\u001b[92m[ 1.73286366 -1.56657062]\u001b[0m\t \u001b[1m\u001b[92m7.911103482095925\u001b[0m\t \u001b[1m\u001b[92m7.911103482095925\u001b[0m\t \u001b[1m\u001b[92m3.7881337668790387\u001b[0m\t \u001b[1m\u001b[92m3.4817285242060643\u001b[0m\n",
            "3  \t [5.12 5.12]\t 78.64320000000001\t 7.911103482095925\t 3.8351114328686866\t 3.352244379025064\n",
            "4  \t [-5.12       -1.02155759]\t 28.3015598021027\t 7.911103482095925\t 3.041050557059759\t 3.2309998426034006\n",
            "\u001b[1m\u001b[92m5\u001b[0m\t \u001b[1m\u001b[92m[-1.13829866  0.2753772 ]\u001b[0m\t \u001b[1m\u001b[92m1.4473890433487022\u001b[0m\t \u001b[1m\u001b[92m1.4473890433487022\u001b[0m\t \u001b[1m\u001b[92m2.684446602276855\u001b[0m\t \u001b[1m\u001b[92m2.919546819047966\u001b[0m\n",
            "6  \t [-1.31656714  5.12      ]\t 54.16214904124334\t 1.4473890433487022\t 3.1988189377334284\t 3.4665091473274208\n",
            "7  \t [ 1.49883966 -5.12      ]\t 54.67532031723528\t 1.4473890433487022\t 3.0180778984205214\t 3.330121952606772\n",
            "8  \t [-5.12 -5.12]\t 78.64320000000001\t 1.4473890433487022\t 2.803872612316325\t 2.623738660475102\n",
            "9  \t [ 5.12       -1.68965907]\t 31.924295534290874\t 1.4473890433487022\t 2.600377907387395\t 2.984941855507468\n",
            "10 \t [-5.12  5.12]\t 78.64320000000001\t 1.4473890433487022\t 2.997314518245872\t 3.4189208682344394\n",
            "11 \t [-0.94465848  1.65988128]\t 6.40279138237085\t 1.4473890433487022\t 2.4255915556066996\t 2.3720136522407476\n",
            "12 \t [-1.11719736 -0.91710298]\t 2.930285700280794\t 1.4473890433487022\t 2.7640786438414553\t 2.3784873271291054\n",
            "13 \t [1.09555753 0.45620487]\t 1.6164920688197557\t 1.4473890433487022\t 2.9279321055537304\t 2.6692787537911897\n",
            "14 \t [-2.45783477 -0.02731734]\t 6.042444246278857\t 1.4473890433487022\t 2.6796098513008366\t 2.573041744236173\n",
            "\u001b[1m\u001b[92m15\u001b[0m\t \u001b[1m\u001b[92m[ 0.08985508 -0.06522521]\u001b[0m\t \u001b[1m\u001b[92m0.016582591724394368\u001b[0m\t \u001b[1m\u001b[92m0.016582591724394368\u001b[0m\t \u001b[1m\u001b[92m2.7364285289914942\u001b[0m\t \u001b[1m\u001b[92m2.5276909510202197\u001b[0m\n",
            "16 \t [ 0.08259846 -0.09804234]\t 0.026047104816258833\t 0.016582591724394368\t 2.6591360507246518\t 2.5163054594076333\n",
            "17 \t [ 0.08222593 -0.0999378 ]\t 0.02673623256544401\t 0.016582591724394368\t 2.7207359681980448\t 2.566356860751596\n",
            "18 \t [ 0.08199252 -0.10115395]\t 0.02718701760580117\t 0.016582591724394368\t 2.9080198567184636\t 2.7004852595401663\n",
            "19 \t [ 0.08183077 -0.10200291]\t 0.027505462074253837\t 0.016582591724394368\t 2.4296967355262056\t 2.3615848133848316\n",
            "20 \t [ 0.08171109 -0.10263124]\t 0.02774304365120176\t 0.016582591724394368\t 2.715829563336258\t 2.674431754911321\n"
          ]
        }
      ],
      "source": [
        "### ESTIMATED GP EI GRADIENTS\n",
        "\n",
        "np.random.seed(run_num_19)\n",
        "surrogate_approx_19 = dGaussianProcess(cov_func, optimize=opt)\n",
        "\n",
        "approx_19 = GPGO_multi(surrogate_approx_19, Acquisition_grad(util), objfunc, param)\n",
        "approx_19.run(init_evals=n_init, max_iter=iters)\n"
      ]
    },
    {
      "cell_type": "code",
      "execution_count": 32,
      "metadata": {
        "id": "Aawd59dRIUYn",
        "colab": {
          "base_uri": "https://localhost:8080/"
        },
        "outputId": "937e17b8-6ee1-4289-eb9b-f4e625364f3a"
      },
      "outputs": [
        {
          "output_type": "stream",
          "name": "stdout",
          "text": [
            "Evaluation \t Proposed point \t  Current eval. \t  Best eval. \t        Exact EI: StdDev. x \t Approx EI: StdDev. x \n",
            "init\t [0.9024594  4.07258857]\t 33.98638835688907\t 1.615187047660523\t    \t    \n",
            "init\t [4.00927467 3.23417577]\t 36.994069169927414\t 1.615187047660523\t    \t    \n",
            "init\t [-4.75249064  1.96359764]\t 30.297598676217497\t 1.615187047660523\t    \t    \n",
            "init\t [-1.24230715  0.18955208]\t 1.615187047660523\t 1.615187047660523\t    \t    \n",
            "init\t [ 1.61742301 -3.13497377]\t 22.27217824772924\t 1.615187047660523\t    \t    \n",
            "1  \t [-3.98610781 -4.34424502]\t 53.63398512363303\t 1.615187047660523\t 2.9592848905706246\t 2.8636010936681755\n",
            "2  \t [ 5.12 -5.12]\t 78.64320000000001\t 1.615187047660523\t 2.860912228244338\t 3.4658357299925266\n",
            "3  \t [ 5.12       -0.73703721]\t 27.300847683362306\t 1.615187047660523\t 2.6928708078224965\t 2.947732255270258\n",
            "4  \t [-2.84862102  5.12      ]\t 60.543441732019396\t 1.615187047660523\t 2.997844457587345\t 3.232377086307595\n",
            "5  \t [1.44845597 0.38197038]\t 2.389827426484772\t 1.615187047660523\t 2.7012672339813792\t 2.8014730504042444\n",
            "6  \t [-3.06860619 -1.00410229]\t 11.432786749610825\t 1.615187047660523\t 3.333815707870818\t 3.2711383572171937\n",
            "7  \t [-0.6621507 -5.12     ]\t 52.86724354781827\t 1.615187047660523\t 3.494431558756971\t 3.3888234341800847\n",
            "8  \t [-1.35294659  1.77713687]\t 8.146895362193968\t 1.615187047660523\t 2.9753705748237147\t 3.0232724504607\n",
            "9  \t [-0.33387899 -0.90169782]\t 1.7375930903461492\t 1.615187047660523\t 2.680054398665423\t 2.9028535772015887\n",
            "10 \t [-5.12       -1.30361324]\t 29.613214975709425\t 1.615187047660523\t 2.9997017766701424\t 2.9048197085976586\n",
            "11 \t [2.53906916 0.44453982]\t 6.8421035304184015\t 1.615187047660523\t 2.8889377840180113\t 2.7213627125345057\n",
            "\u001b[1m\u001b[92m12\u001b[0m\t \u001b[1m\u001b[92m[ 0.19056657 -0.05822735]\u001b[0m\t \u001b[1m\u001b[92m0.04309646579761283\u001b[0m\t \u001b[1m\u001b[92m0.04309646579761283\u001b[0m\t \u001b[1m\u001b[92m3.4171544159355762\u001b[0m\t \u001b[1m\u001b[92m2.9283611579708966\u001b[0m\n",
            "13 \t [0.21453359 0.03470342]\t 0.048433313964078635\t 0.04309646579761283\t 3.231347706447261\t 3.6004587602853593\n",
            "14 \t [0.21459922 0.03509165]\t 0.048515672604036525\t 0.04309646579761283\t 2.59862584857438\t 2.2608135243703678\n",
            "15 \t [0.21467753 0.03563464]\t 0.048626098218810095\t 0.04309646579761283\t 2.5332788339029912\t 2.429322249842377\n",
            "16 \t [0.21474943 0.03611611]\t 0.04872606512879058\t 0.04309646579761283\t 2.742919773035263\t 2.6056161017325876\n",
            "17 \t [0.21480654 0.03652027]\t 0.04880931216315505\t 0.04309646579761283\t 2.8530015229020753\t 2.68151337468895\n",
            "18 \t [0.21485502 0.03685144]\t 0.04887873767219131\t 0.04309646579761283\t 3.3631054792109416\t 3.237884424470889\n",
            "19 \t [0.2148948 0.0371286]\t 0.04893683972743351\t 0.04309646579761283\t 2.8736741636834395\t 2.7367393021286874\n",
            "20 \t [0.21492829 0.03736102]\t 0.04898586262853468\t 0.04309646579761283\t 2.4883761878803043\t 2.3710086288899372\n"
          ]
        }
      ],
      "source": [
        "### ESTIMATED GP EI GRADIENTS\n",
        "\n",
        "np.random.seed(run_num_20)\n",
        "surrogate_approx_20 = dGaussianProcess(cov_func, optimize=opt)\n",
        "\n",
        "approx_20 = GPGO_multi(surrogate_approx_20, Acquisition_grad(util), objfunc, param)\n",
        "approx_20.run(init_evals=n_init, max_iter=iters)\n"
      ]
    },
    {
      "cell_type": "code",
      "execution_count": 33,
      "metadata": {
        "id": "xkgzPRbBTHaq",
        "colab": {
          "base_uri": "https://localhost:8080/"
        },
        "outputId": "b61f92f8-a0f4-429e-9663-ee774ba8b2a1"
      },
      "outputs": [
        {
          "output_type": "execute_result",
          "data": {
            "text/plain": [
              "1659524593.2546537"
            ]
          },
          "metadata": {},
          "execution_count": 33
        }
      ],
      "source": [
        "end_approx = time.time()\n",
        "end_approx\n",
        "\n",
        "time_approx = end_approx - start_approx\n",
        "time_approx\n",
        "\n",
        "start_exact = time.time()\n",
        "start_exact"
      ]
    },
    {
      "cell_type": "code",
      "execution_count": 34,
      "metadata": {
        "id": "7CG3Ndvb16Rb",
        "colab": {
          "base_uri": "https://localhost:8080/"
        },
        "outputId": "686296c8-7c7e-457b-92d0-3e5f9c371d74"
      },
      "outputs": [
        {
          "output_type": "stream",
          "name": "stdout",
          "text": [
            "Evaluation \t Proposed point \t  Current eval. \t  Best eval. \t        Exact EI: StdDev. x \t Approx EI: StdDev. x \n",
            "init\t [-0.84969467  2.25612281]\t 10.902161328666502\t 1.4334486961549602\t    \t    \n",
            "init\t [-5.1188288  -2.02411446]\t 34.396486966857985\t 1.4334486961549602\t    \t    \n",
            "init\t [-3.61721968 -4.17445279]\t 47.936390383803385\t 1.4334486961549602\t    \t    \n",
            "init\t [-3.21269544 -1.58145816]\t 15.323431753768267\t 1.4334486961549602\t    \t    \n",
            "init\t [-1.05710106  0.39748336]\t 1.4334486961549602\t 1.4334486961549602\t    \t    \n",
            "1  \t [ 4.04077223 -4.24914728]\t 52.43834538835027\t 1.4334486961549602\t 3.4489756845924497\t 4.163974683192937\n",
            "2  \t [3.95540519 5.12      ]\t 68.07403023591242\t 1.4334486961549602\t 3.3878383996330093\t 3.5005012055534523\n",
            "3  \t [5.12       0.42690956]\t 26.57890353728757\t 1.4334486961549602\t 3.15227018152962\t 3.564639216485689\n",
            "4  \t [-5.12        4.36680096]\t 64.35230119366302\t 1.4334486961549602\t 3.370663359363788\t 4.0553052367487945\n",
            "5  \t [ 0.77902525 -1.82331002]\t 7.255799175882487\t 1.4334486961549602\t 2.6121881029160487\t 2.6988002626844008\n",
            "6  \t [ 0.14460689 -5.12      ]\t 52.449711153986044\t 1.4334486961549602\t 2.941846899860684\t 2.997382009550626\n",
            "7  \t [0.1654036 5.12     ]\t 52.45615834989323\t 1.4334486961549602\t 3.1411395424129678\t 3.3210243986084813\n",
            "8  \t [1.97640992 0.88930345]\t 5.487917398252676\t 1.4334486961549602\t 3.1772157364108433\t 3.048323834016115\n",
            "9  \t [-5.11979273  1.06243374]\t 28.46980844652034\t 1.4334486961549602\t 2.8095758793598993\t 2.987988373861534\n",
            "10 \t [ 3.05577758 -1.43267475]\t 13.442890470452681\t 1.4334486961549602\t 3.0741106083494354\t 3.0693517556475864\n",
            "11 \t [2.38842949 2.50340509]\t 18.238669509911347\t 1.4334486961549602\t 2.8118879481747063\t 2.5742129442658483\n",
            "12 \t [-1.56479364  0.07916935]\t 2.4611147024836493\t 1.4334486961549602\t 2.9581152559635893\t 2.93595379084362\n",
            "\u001b[1m\u001b[92m13\u001b[0m\t \u001b[1m\u001b[92m[-0.87353405 -0.03577156]\u001b[0m\t \u001b[1m\u001b[92m0.765620942134662\u001b[0m\t \u001b[1m\u001b[92m0.765620942134662\u001b[0m\t \u001b[1m\u001b[92m2.257173471643327\u001b[0m\t \u001b[1m\u001b[92m2.183946251567475\u001b[0m\n",
            "14 \t [-0.88705955 -2.41502467]\t 12.451562911429045\t 0.765620942134662\t 2.9452832032456535\t 2.773480259853474\n",
            "\u001b[1m\u001b[92m15\u001b[0m\t \u001b[1m\u001b[92m[0.21364086 0.10294333]\u001b[0m\t \u001b[1m\u001b[92m0.06683707856635299\u001b[0m\t \u001b[1m\u001b[92m0.06683707856635299\u001b[0m\t \u001b[1m\u001b[92m2.4910790460747365\u001b[0m\t \u001b[1m\u001b[92m2.4841623545066405\u001b[0m\n",
            "16 \t [0.39543881 0.03639201]\t 0.15902060613118404\t 0.06683707856635299\t 3.019899636668791\t 2.9980779993998716\n",
            "17 \t [ 0.96785058 -0.24587553]\t 1.0576442947440718\t 0.06683707856635299\t 2.892440545844892\t 2.8342508082943434\n",
            "18 \t [0.00857995 0.21571421]\t 0.09313885346003073\t 0.06683707856635299\t 2.8476086032407233\t 2.8905332569883373\n",
            "19 \t [ 0.78837852 -0.16451239]\t 0.6756693403741052\t 0.06683707856635299\t 3.248111025611899\t 3.0963427561635415\n",
            "20 \t [0.03500544 0.20620798]\t 0.08626884572874087\t 0.06683707856635299\t 2.8933629014072855\t 2.718292556731729\n"
          ]
        }
      ],
      "source": [
        "### EXACT GP EI GRADIENTS\n",
        "\n",
        "np.random.seed(run_num_1)\n",
        "surrogate_exact_1 = dGaussianProcess(cov_func, optimize=opt)\n",
        "\n",
        "exact_1 = dGPGO(surrogate_exact_1, Acquisition_grad(util), objfunc, param)\n",
        "exact_1.run(init_evals=n_init, max_iter=iters)\n"
      ]
    },
    {
      "cell_type": "code",
      "execution_count": 35,
      "metadata": {
        "id": "-ilCPSAu9SAg",
        "colab": {
          "base_uri": "https://localhost:8080/"
        },
        "outputId": "e8917b56-c53a-416b-dcdc-60f69bbe1545"
      },
      "outputs": [
        {
          "output_type": "stream",
          "name": "stdout",
          "text": [
            "Evaluation \t Proposed point \t  Current eval. \t  Best eval. \t        Exact EI: StdDev. x \t Approx EI: StdDev. x \n",
            "init\t [-0.6554122  -4.85451539]\t 47.562204422038214\t 1.1358959044973735\t    \t    \n",
            "init\t [ 0.50854377 -0.6622987 ]\t 1.1358959044973735\t 1.1358959044973735\t    \t    \n",
            "init\t [-0.81543371 -1.73737143]\t 6.7018511217540135\t 1.1358959044973735\t    \t    \n",
            "init\t [-3.02439799  1.2213347 ]\t 12.13030006303276\t 1.1358959044973735\t    \t    \n",
            "init\t [-2.05153614 -2.3876887 ]\t 15.610915224537823\t 1.1358959044973735\t    \t    \n",
            "1  \t [4.65822565 5.12      ]\t 74.12786624034281\t 1.1358959044973735\t 3.793495730061243\t 3.7991229147714978\n",
            "2  \t [ 4.84262551 -3.96515151]\t 54.89587485526295\t 1.1358959044973735\t 2.7483713464466506\t 3.7930249222606087\n",
            "3  \t [-0.49783222  5.12      ]\t 52.67663691998099\t 1.1358959044973735\t 3.698685800326653\t 4.058112345323993\n",
            "4  \t [4.16937798 0.52775354]\t 17.940760340983772\t 1.1358959044973735\t 3.3633254722324413\t 3.4196991947885618\n",
            "5  \t [-5.12 -5.12]\t 78.64319999999998\t 1.1358959044973735\t 3.6143311431067975\t 3.447558791349844\n",
            "6  \t [-4.55161521  4.31103283]\t 57.887209156267105\t 1.1358959044973735\t 3.243854733715896\t 3.4470103253052917\n",
            "7  \t [0.80027071 1.58356484]\t 5.655788434007557\t 1.1358959044973735\t 2.9474669407621623\t 3.0399312610259392\n",
            "8  \t [ 1.8643364  -1.85601054]\t 10.365300438404619\t 1.1358959044973735\t 2.793875729938725\t 2.797400433694802\n",
            "9  \t [-5.12       -1.19452282]\t 29.068169552831993\t 1.1358959044973735\t 2.9046846839882026\t 2.9621475718901604\n",
            "10 \t [2.5454172  2.73935266]\t 21.48725475092696\t 1.1358959044973735\t 2.855530543167245\t 2.925915475851146\n",
            "\u001b[1m\u001b[92m11\u001b[0m\t \u001b[1m\u001b[92m[-0.59072987  0.33796907]\u001b[0m\t \u001b[1m\u001b[92m0.5774079638389199\u001b[0m\t \u001b[1m\u001b[92m0.5774079638389199\u001b[0m\t \u001b[1m\u001b[92m3.1302547359696273\u001b[0m\t \u001b[1m\u001b[92m2.923776290837337\u001b[0m\n",
            "12 \t [ 2.19129599 -5.12      ]\t 57.23057810678403\t 0.5774079638389199\t 2.355781026267004\t 2.3185824760529097\n",
            "13 \t [-0.79503668  0.81798754]\t 1.9702905604207102\t 0.5774079638389199\t 3.0362574823296797\t 2.7370923614641853\n",
            "\u001b[1m\u001b[92m14\u001b[0m\t \u001b[1m\u001b[92m[-0.19002217  0.01751651]\u001b[0m\t \u001b[1m\u001b[92m0.0367220822481718\u001b[0m\t \u001b[1m\u001b[92m0.0367220822481718\u001b[0m\t \u001b[1m\u001b[92m3.0810529588086966\u001b[0m\t \u001b[1m\u001b[92m3.0737647147477936\u001b[0m\n",
            "\u001b[1m\u001b[92m15\u001b[0m\t \u001b[1m\u001b[92m[ 0.0305564  -0.07132707]\u001b[0m\t \u001b[1m\u001b[92m0.011108796521832134\u001b[0m\t \u001b[1m\u001b[92m0.011108796521832134\u001b[0m\t \u001b[1m\u001b[92m2.8194799599207356\u001b[0m\t \u001b[1m\u001b[92m2.7576128596224088\u001b[0m\n",
            "16 \t [ 0.5066282  -0.24286003]\t 0.37463411466229385\t 0.011108796521832134\t 2.672933764980469\t 2.979582936348741\n",
            "17 \t [-0.45996118  0.16581082]\t 0.26655073890744235\t 0.011108796521832134\t 2.89447220336475\t 2.800068213656052\n",
            "18 \t [-0.34308335  0.11219796]\t 0.1428829489483746\t 0.011108796521832134\t 2.824851455530157\t 2.6324095413358326\n",
            "19 \t [ 0.1326651  -0.12218095]\t 0.04745639798430533\t 0.011108796521832134\t 2.833382818315538\t 2.5683841168114956\n",
            "20 \t [-0.22564273  0.05367523]\t 0.056676701271164504\t 0.011108796521832134\t 2.8501876842602614\t 2.7600816031481563\n"
          ]
        }
      ],
      "source": [
        "### EXACT GP EI GRADIENTS\n",
        "\n",
        "np.random.seed(run_num_2)\n",
        "surrogate_exact_2 = dGaussianProcess(cov_func, optimize=opt)\n",
        "\n",
        "exact_2 = dGPGO(surrogate_exact_2, Acquisition_grad(util), objfunc, param)\n",
        "exact_2.run(init_evals=n_init, max_iter=iters)\n"
      ]
    },
    {
      "cell_type": "code",
      "execution_count": 36,
      "metadata": {
        "id": "XieJ158mIvlP",
        "colab": {
          "base_uri": "https://localhost:8080/"
        },
        "outputId": "f33ab52b-d053-49b9-897d-65cdef62443a"
      },
      "outputs": [
        {
          "output_type": "stream",
          "name": "stdout",
          "text": [
            "Evaluation \t Proposed point \t  Current eval. \t  Best eval. \t        Exact EI: StdDev. x \t Approx EI: StdDev. x \n",
            "init\t [0.52017052 2.1314337 ]\t 9.356596638100186\t 4.609047504113831\t    \t    \n",
            "init\t [-2.14113547  0.11087468]\t 4.609047504113831\t 4.609047504113831\t    \t    \n",
            "init\t [4.02377681 4.05804123]\t 49.12617709674532\t 4.609047504113831\t    \t    \n",
            "init\t [-3.83400642 -2.99783293]\t 32.673609761904345\t 4.609047504113831\t    \t    \n",
            "init\t [-4.59297584 -0.6061072 ]\t 21.83015892853491\t 4.609047504113831\t    \t    \n",
            "1  \t [ 1.78282979 -3.07043083]\t 22.033572998458702\t 4.609047504113831\t 2.080558878714637\t 3.531962042320513\n",
            "2  \t [-3.52881074  4.85538913]\t 59.60211244097039\t 4.609047504113831\t 2.742731871411798\t 3.937381998432584\n",
            "3  \t [ 5.12      -0.3773989]\t 26.499259852483945\t 4.609047504113831\t 2.6902293515476057\t 3.1984000212581876\n",
            "4  \t [-0.99705128 -5.12      ]\t 53.42291126073889\t 4.609047504113831\t 3.0980546557030793\t 2.8601588315267703\n",
            "5  \t [0.90918729 4.87135527]\t 48.28682587351447\t 4.609047504113831\t 2.8391945218776256\t 3.1574414519287566\n",
            "6  \t [ 5.12       -4.57451492]\t 68.06677358046802\t 4.609047504113831\t 2.6498786719177008\t 2.9149503978923477\n",
            "\u001b[1m\u001b[92m7\u001b[0m\t \u001b[1m\u001b[92m[ 0.11981153 -0.60096523]\u001b[0m\t \u001b[1m\u001b[92m0.7366732091774585\u001b[0m\t \u001b[1m\u001b[92m0.7366732091774585\u001b[0m\t \u001b[1m\u001b[92m2.7949454688060515\u001b[0m\t \u001b[1m\u001b[92m2.355382129728611\u001b[0m\n",
            "8  \t [2.03899141 0.01216407]\t 4.157781902155698\t 0.7366732091774585\t 2.858966853178148\t 2.793062610149155\n",
            "9  \t [-1.87432422  2.40950566]\t 15.124526367578365\t 0.7366732091774585\t 2.610187023437065\t 2.7797517050920217\n",
            "10 \t [-0.34565181 -2.15507155]\t 9.408141965251438\t 0.7366732091774585\t 2.8753117192923767\t 2.677391827039695\n",
            "\u001b[1m\u001b[92m11\u001b[0m\t \u001b[1m\u001b[92m[-0.25950416  0.04709741]\u001b[0m\t \u001b[1m\u001b[92m0.07177874444810566\u001b[0m\t \u001b[1m\u001b[92m0.07177874444810566\u001b[0m\t \u001b[1m\u001b[92m2.8837284440508615\u001b[0m\t \u001b[1m\u001b[92m3.154199424840842\u001b[0m\n",
            "12 \t [-4.76490423  1.89371773]\t 29.876645966293896\t 0.07177874444810566\t 2.960924977633452\t 2.758360232889907\n",
            "13 \t [-5.12 -5.12]\t 78.64320000000001\t 0.07177874444810566\t 3.273951462470743\t 3.1399347564934095\n",
            "\u001b[1m\u001b[92m14\u001b[0m\t \u001b[1m\u001b[92m[-0.14303767 -0.00946237]\u001b[0m\t \u001b[1m\u001b[92m0.020638849411387696\u001b[0m\t \u001b[1m\u001b[92m0.020638849411387696\u001b[0m\t \u001b[1m\u001b[92m2.6740462690157694\u001b[0m\t \u001b[1m\u001b[92m2.481627815718432\u001b[0m\n",
            "15 \t [-0.88655771  0.38370642]\t 1.0804458089358155\t 0.020638849411387696\t 2.8244625172746325\t 2.666837273691414\n",
            "16 \t [-0.60904287  0.23731331]\t 0.4835684337610422\t 0.020638849411387696\t 2.99128022208792\t 2.941602525171102\n",
            "17 \t [-0.17295038  0.01893504]\t 0.03062890612396298\t 0.020638849411387696\t 2.7235622693117687\t 2.5258362635196323\n",
            "18 \t [ 0.94420261 -0.54009464]\t 1.474923024525585\t 0.020638849411387696\t 3.2666461670327536\t 2.991758015636017\n",
            "19 \t [ 0.17409086 -0.16620281]\t 0.08555437215350424\t 0.020638849411387696\t 2.914453905335184\t 2.841222644570919\n",
            "20 \t [ 0.19698963 -0.17177391]\t 0.09781746618240472\t 0.020638849411387696\t 2.4253296140868104\t 2.351879414284688\n"
          ]
        }
      ],
      "source": [
        "### EXACT GP EI GRADIENTS\n",
        "\n",
        "np.random.seed(run_num_3)\n",
        "surrogate_exact_3 = dGaussianProcess(cov_func, optimize=opt)\n",
        "\n",
        "exact_3 = dGPGO(surrogate_exact_3, Acquisition_grad(util), objfunc, param)\n",
        "exact_3.run(init_evals=n_init, max_iter=iters)\n"
      ]
    },
    {
      "cell_type": "code",
      "execution_count": 37,
      "metadata": {
        "id": "PhLBVOIfIvol",
        "colab": {
          "base_uri": "https://localhost:8080/"
        },
        "outputId": "d0f95fcb-d8c9-4888-965f-f2720cbf283a"
      },
      "outputs": [
        {
          "output_type": "stream",
          "name": "stdout",
          "text": [
            "Evaluation \t Proposed point \t  Current eval. \t  Best eval. \t        Exact EI: StdDev. x \t Approx EI: StdDev. x \n",
            "init\t [4.78238555 0.48365823]\t 23.33906213310676\t 7.289910254474112\t    \t    \n",
            "init\t [4.84028785 2.19971578]\t 33.10588541607836\t 7.289910254474112\t    \t    \n",
            "init\t [ 2.02474316 -2.90724357]\t 21.003715175118646\t 7.289910254474112\t    \t    \n",
            "init\t [ 4.87705042 -5.05620219]\t 74.91598187475032\t 7.289910254474112\t    \t    \n",
            "init\t [-2.52946061 -0.66773471]\t 7.289910254474112\t 7.289910254474112\t    \t    \n",
            "1  \t [-1.14362514  4.64615262]\t 44.481346743661575\t 7.289910254474112\t 2.9160309599087104\t 3.8217678725355855\n",
            "2  \t [-5.12 -5.12]\t 78.64320000000001\t 7.289910254474112\t 3.6941402497674853\t 3.610537251250352\n",
            "3  \t [-0.9772831 -5.12     ]\t 53.38388225290658\t 7.289910254474112\t 3.5172193743490783\t 3.711135803421386\n",
            "\u001b[1m\u001b[92m4\u001b[0m\t \u001b[1m\u001b[92m[0.61262941 1.13479131]\u001b[0m\t \u001b[1m\u001b[92m2.950817435087264\u001b[0m\t \u001b[1m\u001b[92m2.950817435087264\u001b[0m\t \u001b[1m\u001b[92m3.213597652615168\u001b[0m\t \u001b[1m\u001b[92m3.4189480861208605\u001b[0m\n",
            "5  \t [-5.12        2.58975774]\t 39.62809034363863\t 2.950817435087264\t 2.885579183484972\t 3.2535728827284034\n",
            "6  \t [-5.09648932 -1.57948958]\t 30.96377804105198\t 2.950817435087264\t 3.1119779425562952\t 3.0850076347882323\n",
            "7  \t [3.00661713 5.12      ]\t 61.46854655472272\t 2.950817435087264\t 2.457954749333772\t 2.276378600362925\n",
            "8  \t [-2.05255935  1.69411264]\t 9.953035177662326\t 2.950817435087264\t 2.5943694702555518\t 2.430272408839391\n",
            "\u001b[1m\u001b[92m9\u001b[0m\t \u001b[1m\u001b[92m[-0.22716402 -0.67097205]\u001b[0m\t \u001b[1m\u001b[92m0.9520104856369708\u001b[0m\t \u001b[1m\u001b[92m0.9520104856369708\u001b[0m\t \u001b[1m\u001b[92m2.6503130120021403\u001b[0m\t \u001b[1m\u001b[92m2.8399746508759267\u001b[0m\n",
            "10 \t [1.79334439 0.53693162]\t 3.7926752520155036\t 0.9520104856369708\t 3.5859605598777957\t 3.57570533980508\n",
            "11 \t [-0.64266435 -1.59210494]\t 5.482613752474002\t 0.9520104856369708\t 3.1197756234437475\t 3.560689786159411\n",
            "12 \t [ 5.07434269 -1.97036271]\t 33.513612161321504\t 0.9520104856369708\t 2.946603035260622\t 3.418944008713308\n",
            "\u001b[1m\u001b[92m13\u001b[0m\t \u001b[1m\u001b[92m[ 0.21207905 -0.19304105]\u001b[0m\t \u001b[1m\u001b[92m0.11950721915031083\u001b[0m\t \u001b[1m\u001b[92m0.11950721915031083\u001b[0m\t \u001b[1m\u001b[92m2.8312585504629015\u001b[0m\t \u001b[1m\u001b[92m3.2885961402497794\u001b[0m\n",
            "14 \t [1.25098941 2.56545249]\t 14.72806749542708\t 0.11950721915031083\t 2.691878516643452\t 2.676756856268261\n",
            "15 \t [ 0.35195344 -0.16111793]\t 0.17578919843518678\t 0.11950721915031083\t 3.00921307809586\t 3.0952735233230473\n",
            "\u001b[1m\u001b[92m16\u001b[0m\t \u001b[1m\u001b[92m[ 0.17221108 -0.02117099]\u001b[0m\t \u001b[1m\u001b[92m0.030553077051286587\u001b[0m\t \u001b[1m\u001b[92m0.030553077051286587\u001b[0m\t \u001b[1m\u001b[92m2.938375301846538\u001b[0m\t \u001b[1m\u001b[92m3.0425423506375946\u001b[0m\n",
            "17 \t [ 0.70092284 -0.41202995]\t 0.8308301779869051\t 0.030553077051286587\t 2.7546682445828083\t 2.886399551885836\n",
            "18 \t [-2.44622276 -2.88513669]\t 22.632033236095147\t 0.030553077051286587\t 2.8495763160276897\t 3.1028837552480213\n",
            "19 \t [ 0.36682313 -0.23240727]\t 0.24258548349556103\t 0.030553077051286587\t 2.92697203134582\t 3.136533498981245\n",
            "20 \t [-0.50634361  0.58102725]\t 0.9315691936309234\t 0.030553077051286587\t 2.6857162472442884\t 3.1538696302210525\n"
          ]
        }
      ],
      "source": [
        "### EXACT GP EI GRADIENTS\n",
        "\n",
        "np.random.seed(run_num_4)\n",
        "surrogate_exact_4 = dGaussianProcess(cov_func, optimize=opt)\n",
        "\n",
        "exact_4 = dGPGO(surrogate_exact_4, Acquisition_grad(util), objfunc, param)\n",
        "exact_4.run(init_evals=n_init, max_iter=iters)\n"
      ]
    },
    {
      "cell_type": "code",
      "execution_count": 38,
      "metadata": {
        "id": "arbiPyj2IvsJ",
        "colab": {
          "base_uri": "https://localhost:8080/"
        },
        "outputId": "1bedc827-290d-4e97-dbd0-2198120be7ea"
      },
      "outputs": [
        {
          "output_type": "stream",
          "name": "stdout",
          "text": [
            "Evaluation \t Proposed point \t  Current eval. \t  Best eval. \t        Exact EI: StdDev. x \t Approx EI: StdDev. x \n",
            "init\t [-2.84678993  3.79629882]\t 36.927982283829365\t 2.6327313115208373\t    \t    \n",
            "init\t [-3.00319585  4.2865757 ]\t 45.76864772649561\t 2.6327313115208373\t    \t    \n",
            "init\t [-0.11866943  1.14425716]\t 2.6327313115208373\t 2.6327313115208373\t    \t    \n",
            "init\t [2.72289645 0.1886002 ]\t 7.485305147100433\t 2.6327313115208373\t    \t    \n",
            "init\t [-2.08076286 -3.19773462]\t 24.780587476435763\t 2.6327313115208373\t    \t    \n",
            "1  \t [ 4.32895605 -5.09732646]\t 70.70533460957368\t 2.6327313115208373\t 4.41822901128693\t 4.499439960007176\n",
            "2  \t [5.12 5.12]\t 78.64320000000001\t 2.6327313115208373\t 4.325609223196669\t 3.928369913497632\n",
            "3  \t [-5.12       -0.29642107]\t 26.390130906870272\t 2.6327313115208373\t 3.3559403839575737\t 3.6433785072186846\n",
            "4  \t [1.00930079 5.12      ]\t 53.4474880829955\t 2.6327313115208373\t 3.369004338030763\t 3.325394358259418\n",
            "5  \t [-5.12 -5.12]\t 78.64320000000001\t 2.6327313115208373\t 3.243336221868366\t 3.4234605725371368\n",
            "6  \t [ 1.33367086 -2.63160902]\t 15.629410054968467\t 2.6327313115208373\t 3.2384165139668966\t 3.3816715192076323\n",
            "7  \t [5.12       1.35503819]\t 29.8866569770837\t 2.6327313115208373\t 2.5266532300558007\t 2.767485721241969\n",
            "8  \t [ 5.12       -1.79977093]\t 32.6927507994572\t 2.6327313115208373\t 3.0419476867447006\t 3.1824402637758773\n",
            "9  \t [-1.94002873  0.12603859]\t 3.79548293395145\t 2.6327313115208373\t 2.736541591918308\t 2.429075581633888\n",
            "10 \t [0.65918955 2.1532113 ]\t 9.707168693395099\t 2.6327313115208373\t 2.843248237168155\t 2.7846805940959407\n",
            "11 \t [-0.19195154 -5.12      ]\t 52.46564539371727\t 2.6327313115208373\t 2.8936158971186354\t 2.7632531596751746\n",
            "12 \t [-5.12        2.18326161]\t 35.747662501113936\t 2.6327313115208373\t 2.348051137372657\t 2.3630904188519164\n",
            "\u001b[1m\u001b[92m13\u001b[0m\t \u001b[1m\u001b[92m[ 0.32316263 -0.55706051]\u001b[0m\t \u001b[1m\u001b[92m0.7250669025976992\u001b[0m\t \u001b[1m\u001b[92m0.7250669025976992\u001b[0m\t \u001b[1m\u001b[92m2.8434880308255934\u001b[0m\t \u001b[1m\u001b[92m2.5441949542507993\u001b[0m\n",
            "\u001b[1m\u001b[92m14\u001b[0m\t \u001b[1m\u001b[92m[-0.04677867 -0.49586489]\u001b[0m\t \u001b[1m\u001b[92m0.4939522305963353\u001b[0m\t \u001b[1m\u001b[92m0.4939522305963353\u001b[0m\t \u001b[1m\u001b[92m2.4451075474792314\u001b[0m\t \u001b[1m\u001b[92m2.072903571271972\u001b[0m\n",
            "\u001b[1m\u001b[92m15\u001b[0m\t \u001b[1m\u001b[92m[-0.01565707 -0.46983313]\u001b[0m\t \u001b[1m\u001b[92m0.44173148239695315\u001b[0m\t \u001b[1m\u001b[92m0.44173148239695315\u001b[0m\t \u001b[1m\u001b[92m2.4967913262169525\u001b[0m\t \u001b[1m\u001b[92m2.4684129989516044\u001b[0m\n",
            "16 \t [ 0.05137111 -0.49625718]\t 0.49518136840334126\t 0.44173148239695315\t 2.696185278757188\t 2.737152672805659\n",
            "\u001b[1m\u001b[92m17\u001b[0m\t \u001b[1m\u001b[92m[-0.14954566 -0.43412606]\u001b[0m\t \u001b[1m\u001b[92m0.39929478295236764\u001b[0m\t \u001b[1m\u001b[92m0.39929478295236764\u001b[0m\t \u001b[1m\u001b[92m2.6235550418137645\u001b[0m\t \u001b[1m\u001b[92m2.5335346431642822\u001b[0m\n",
            "18 \t [ 0.02961306 -0.48615489]\t 0.47357008945148377\t 0.39929478295236764\t 2.6019398286689133\t 2.820490905862038\n",
            "19 \t [-0.12271311 -0.44360692]\t 0.40863271343097696\t 0.39929478295236764\t 2.626579281476516\t 2.5808993772621323\n",
            "20 \t [ 0.08672132 -0.4893223 ]\t 0.48639322337053675\t 0.39929478295236764\t 2.8796142020646194\t 2.7126350127860634\n"
          ]
        }
      ],
      "source": [
        "### EXACT GP EI GRADIENTS\n",
        "\n",
        "np.random.seed(run_num_5)\n",
        "surrogate_exact_5 = dGaussianProcess(cov_func, optimize=opt)\n",
        "\n",
        "exact_5 = dGPGO(surrogate_exact_5, Acquisition_grad(util), objfunc, param)\n",
        "exact_5.run(init_evals=n_init, max_iter=iters)\n"
      ]
    },
    {
      "cell_type": "code",
      "execution_count": 39,
      "metadata": {
        "id": "04KJCEm_Ivvf",
        "colab": {
          "base_uri": "https://localhost:8080/"
        },
        "outputId": "850ed5d2-4857-4136-8145-14908af3cbb2"
      },
      "outputs": [
        {
          "output_type": "stream",
          "name": "stdout",
          "text": [
            "Evaluation \t Proposed point \t  Current eval. \t  Best eval. \t        Exact EI: StdDev. x \t Approx EI: StdDev. x \n",
            "init\t [ 4.02288795 -1.72052679]\t 22.104052359713652\t 1.4757178799086357\t    \t    \n",
            "init\t [ 3.28938622 -4.69302655]\t 54.869058151382724\t 1.4757178799086357\t    \t    \n",
            "init\t [-4.0175956   0.97333314]\t 18.035829177697114\t 1.4757178799086357\t    \t    \n",
            "init\t [ 0.30532979 -0.83141193]\t 1.4757178799086357\t 1.4757178799086357\t    \t    \n",
            "init\t [-1.68542362  1.25459899]\t 5.988690020231891\t 1.4757178799086357\t    \t    \n",
            "1  \t [2.19009888 5.12      ]\t 57.22533310680345\t 1.4757178799086357\t 3.8938233923482723\t 3.857012510005505\n",
            "2  \t [-5.12 -5.12]\t 78.64320000000001\t 1.4757178799086357\t 3.8359252616388826\t 3.8529075592463884\n",
            "3  \t [-3.01245635  5.12      ]\t 61.5036932630161\t 1.4757178799086357\t 3.5810487068786037\t 3.5820889271597576\n",
            "4  \t [5.12       2.13583625]\t 35.33799293336946\t 1.4757178799086357\t 3.262782922873095\t 3.2687448732841995\n",
            "5  \t [-0.90911896 -4.20509113]\t 36.19208013970827\t 1.4757178799086357\t 2.774296441864668\t 2.7723729266290564\n",
            "6  \t [1.63486318 1.19537152]\t 5.530603757958224\t 1.4757178799086357\t 3.145767191870962\t 3.2292943293034253\n",
            "7  \t [-3.72999349 -1.8976564 ]\t 21.115051015832393\t 1.4757178799086357\t 3.2671976515714403\t 3.2021002042850646\n",
            "8  \t [-0.09667167  2.83732535]\t 16.11017567180349\t 1.4757178799086357\t 3.0798358813027944\t 2.943965788689576\n",
            "9  \t [ 1.22073267 -1.98751023]\t 9.390582057083211\t 1.4757178799086357\t 2.587080604770479\t 2.7195448647147615\n",
            "10 \t [5.12 5.12]\t 78.64320000000001\t 1.4757178799086357\t 3.043554255160499\t 3.1496031942830496\n",
            "11 \t [3.03902707 0.31355663]\t 9.432321078391402\t 1.4757178799086357\t 3.1823358815368885\t 3.361049590233804\n",
            "12 \t [-0.55365815 -1.24856417]\t 3.4243623452107497\t 1.4757178799086357\t 2.7234471062283885\t 2.8401707236859584\n",
            "\u001b[1m\u001b[92m13\u001b[0m\t \u001b[1m\u001b[92m[ 0.06469966 -0.01994169]\u001b[0m\t \u001b[1m\u001b[92m0.004981388009910454\u001b[0m\t \u001b[1m\u001b[92m0.004981388009910454\u001b[0m\t \u001b[1m\u001b[92m2.593276878618822\u001b[0m\t \u001b[1m\u001b[92m2.4549549910689725\u001b[0m\n",
            "14 \t [ 0.45403122 -0.17034845]\t 0.26418154467006144\t 0.004981388009910454\t 2.8818130171585805\t 3.052053390351934\n",
            "15 \t [-5.12        2.92730527]\t 43.35263229552437\t 0.004981388009910454\t 2.8265092270888217\t 2.8277235104686635\n",
            "16 \t [-0.58995374  0.23482222]\t 0.45832835644719827\t 0.004981388009910454\t 2.7875903548726386\t 2.9851055246665803\n",
            "17 \t [ 0.55635799 -0.21323858]\t 0.4004755904978287\t 0.004981388009910454\t 3.3099728302524687\t 3.4129209692892757\n",
            "18 \t [-0.21355561  4.5802006 ]\t 42.002081128837546\t 0.004981388009910454\t 3.0933951992356663\t 3.145574180066196\n",
            "19 \t [-1.47319826 -0.04591742]\t 2.174529936885632\t 0.004981388009910454\t 3.0557967205455094\t 3.006475750456877\n",
            "20 \t [ 0.2733106  -0.02886199]\t 0.07636471130294312\t 0.004981388009910454\t 2.9769144160643553\t 2.8797858372831433\n"
          ]
        }
      ],
      "source": [
        "### EXACT GP EI GRADIENTS\n",
        "\n",
        "np.random.seed(run_num_6)\n",
        "surrogate_exact_6 = dGaussianProcess(cov_func, optimize=opt)\n",
        "\n",
        "exact_6 = dGPGO(surrogate_exact_6, Acquisition_grad(util), objfunc, param)\n",
        "exact_6.run(init_evals=n_init, max_iter=iters)\n"
      ]
    },
    {
      "cell_type": "code",
      "execution_count": 40,
      "metadata": {
        "id": "tAOkme3CIvyO",
        "colab": {
          "base_uri": "https://localhost:8080/"
        },
        "outputId": "ee465bae-baa7-410f-8a60-fb4fb4a65df6"
      },
      "outputs": [
        {
          "output_type": "stream",
          "name": "stdout",
          "text": [
            "Evaluation \t Proposed point \t  Current eval. \t  Best eval. \t        Exact EI: StdDev. x \t Approx EI: StdDev. x \n",
            "init\t [-4.33860312  2.86636843]\t 35.25561298730891\t 5.622520458601941\t    \t    \n",
            "init\t [-0.63068947  2.28828342]\t 10.870251237170722\t 5.622520458601941\t    \t    \n",
            "init\t [4.8946126  0.39419771]\t 24.268016205804518\t 5.622520458601941\t    \t    \n",
            "init\t [ 0.01147355 -4.38219639]\t 38.407422120416236\t 5.622520458601941\t    \t    \n",
            "init\t [-2.37118484e+00 -1.20319155e-03]\t 5.622520458601941\t 5.622520458601941\t    \t    \n",
            "1  \t [-5.12 -5.12]\t 78.64320000000001\t 5.622520458601941\t 3.301788783268242\t 3.377456193469764\n",
            "2  \t [3.47906186 5.12      ]\t 64.53267142431227\t 5.622520458601941\t 3.687463003663664\t 3.7176658546865755\n",
            "3  \t [ 4.60106308 -4.08987229]\t 54.62389212361763\t 5.622520458601941\t 3.3012614952810666\t 3.3304438224345527\n",
            "4  \t [-4.02558214 -1.33646422]\t 19.777584798449002\t 5.622520458601941\t 2.889414688252331\t 3.046307140328312\n",
            "\u001b[1m\u001b[92m5\u001b[0m\t \u001b[1m\u001b[92m[ 1.26778926 -0.69601606]\u001b[0m\t \u001b[1m\u001b[92m2.5761663018498875\u001b[0m\t \u001b[1m\u001b[92m2.5761663018498875\u001b[0m\t \u001b[1m\u001b[92m3.0751949422758127\u001b[0m\t \u001b[1m\u001b[92m3.053587821576109\u001b[0m\n",
            "6  \t [0.34404585 4.6048711 ]\t 42.5280432433541\t 2.5761663018498875\t 3.1547522189260713\t 3.2560436820718492\n",
            "7  \t [2.19367246 1.12486712]\t 7.342850946751342\t 2.5761663018498875\t 2.458190913500452\t 2.7082214946621037\n",
            "8  \t [-2.6654517  5.12     ]\t 59.53343279143426\t 2.5761663018498875\t 2.8781547585127467\t 2.8954755796040303\n",
            "\u001b[1m\u001b[92m9\u001b[0m\t \u001b[1m\u001b[92m[-0.63231707 -0.7010451 ]\u001b[0m\t \u001b[1m\u001b[92m1.3827533497906126\u001b[0m\t \u001b[1m\u001b[92m1.3827533497906126\u001b[0m\t \u001b[1m\u001b[92m3.1672781655614797\u001b[0m\t \u001b[1m\u001b[92m3.193797764066085\u001b[0m\n",
            "10 \t [ 1.89198238 -1.75692406]\t 9.75316164813467\t 1.3827533497906126\t 3.0778224586918106\t 3.4604951584665593\n",
            "11 \t [-0.14026854 -1.69069788]\t 5.736593906789096\t 1.3827533497906126\t 2.967876725086987\t 2.8311738190031637\n",
            "12 \t [-2.46835921 -3.39678216]\t 29.169055305468568\t 1.3827533497906126\t 3.2938250824942235\t 3.387495943261549\n",
            "13 \t [5.12       2.88474555]\t 42.857913725706496\t 1.3827533497906126\t 3.2091469108111497\t 3.020366142566974\n",
            "\u001b[1m\u001b[92m14\u001b[0m\t \u001b[1m\u001b[92m[0.09126454 0.05811885]\u001b[0m\t \u001b[1m\u001b[92m0.015084817170421344\u001b[0m\t \u001b[1m\u001b[92m0.015084817170421344\u001b[0m\t \u001b[1m\u001b[92m2.517303603572276\u001b[0m\t \u001b[1m\u001b[92m2.6689965816219727\u001b[0m\n",
            "15 \t [0.27367214 0.02391846]\t 0.07604062506820662\t 0.015084817170421344\t 3.21354406834117\t 3.2957865323291315\n",
            "16 \t [0.21220108 0.06611211]\t 0.05377092059278732\t 0.015084817170421344\t 2.4247394799901696\t 2.435614273598745\n",
            "17 \t [ 0.61587767 -0.1438755 ]\t 0.4207056240603707\t 0.015084817170421344\t 2.277745649550875\t 2.2513039511232606\n",
            "18 \t [-0.34953912  0.29067286]\t 0.291159018657531\t 0.015084817170421344\t 3.204134326350869\t 3.2337673099151285\n",
            "19 \t [0.26325878 0.04877391]\t 0.07406297470094311\t 0.015084817170421344\t 3.0583543043002956\t 3.0914368624149247\n",
            "20 \t [0.33216602 0.01268527]\t 0.11065610025139994\t 0.015084817170421344\t 2.936925326352958\t 3.0887306242615375\n"
          ]
        }
      ],
      "source": [
        "### EXACT GP EI GRADIENTS\n",
        "\n",
        "np.random.seed(run_num_7)\n",
        "surrogate_exact_7 = dGaussianProcess(cov_func, optimize=opt)\n",
        "\n",
        "exact_7 = dGPGO(surrogate_exact_7, Acquisition_grad(util), objfunc, param)\n",
        "exact_7.run(init_evals=n_init, max_iter=iters)\n"
      ]
    },
    {
      "cell_type": "code",
      "execution_count": 41,
      "metadata": {
        "id": "69-J3EF4Iv1S",
        "colab": {
          "base_uri": "https://localhost:8080/"
        },
        "outputId": "952b02ff-380a-4104-8a47-ee46fbffd6f9"
      },
      "outputs": [
        {
          "output_type": "stream",
          "name": "stdout",
          "text": [
            "Evaluation \t Proposed point \t  Current eval. \t  Best eval. \t        Exact EI: StdDev. x \t Approx EI: StdDev. x \n",
            "init\t [3.82391708 4.79785639]\t 60.661193695854244\t 0.1518306274298758\t    \t    \n",
            "init\t [3.78055209 0.31596228]\t 14.492238445440277\t 0.1518306274298758\t    \t    \n",
            "init\t [-2.73686192 -5.00327624]\t 57.555959528959804\t 0.1518306274298758\t    \t    \n",
            "init\t [-0.7119993  -0.99992207]\t 2.506631309190485\t 0.1518306274298758\t    \t    \n",
            "init\t [ 0.23218863 -0.22126801]\t 0.1518306274298758\t 0.1518306274298758\t    \t    \n",
            "1  \t [0.03252479 1.99788883]\t 7.984177400212775\t 0.1518306274298758\t 3.0082400260186315\t 3.749786221681577\n",
            "2  \t [-5.03492225  2.95509263]\t 42.81558690689544\t 0.1518306274298758\t 3.0734788919679232\t 3.4551867222608723\n",
            "3  \t [-1.7372006  5.12     ]\t 55.44666591362916\t 0.1518306274298758\t 2.80062561605492\t 3.2063813725670296\n",
            "4  \t [ 2.61852195 -4.65214283]\t 50.14152293437924\t 0.1518306274298758\t 3.066081627137047\t 3.830791582752968\n",
            "5  \t [-5.12       -1.44108206]\t 30.3678349887081\t 0.1518306274298758\t 3.0472514233628045\t 3.333872473894134\n",
            "6  \t [ 5.12       -2.39414844]\t 37.67829347872958\t 0.1518306274298758\t 2.950007503820194\t 3.2608767160677266\n",
            "7  \t [ 1.09752977 -0.76057182]\t 2.3615105663958067\t 0.1518306274298758\t 2.904309807364441\t 2.8977032469075796\n",
            "8  \t [-0.35935394 -2.71598206]\t 14.882252307967375\t 0.1518306274298758\t 3.2516762061121907\t 3.0086002637839293\n",
            "9  \t [-1.09345147 -0.11137848]\t 1.2204464504972452\t 0.1518306274298758\t 2.79217097367444\t 2.8408756236289263\n",
            "10 \t [-2.56823139  0.71417796]\t 7.61591276648631\t 0.1518306274298758\t 3.1103865140291145\t 2.811616682510623\n",
            "11 \t [2.05073465 2.31473636]\t 14.921521407177389\t 0.1518306274298758\t 2.8733461819914043\t 3.0838394671707405\n",
            "\u001b[1m\u001b[92m12\u001b[0m\t \u001b[1m\u001b[92m[-0.04490861 -0.0566881 ]\u001b[0m\t \u001b[1m\u001b[92m0.008443864600419721\u001b[0m\t \u001b[1m\u001b[92m0.008443864600419721\u001b[0m\t \u001b[1m\u001b[92m2.502992031936917\u001b[0m\t \u001b[1m\u001b[92m2.7113680531729423\u001b[0m\n",
            "13 \t [ 0.5438975  -0.21050684]\t 0.3844507443796906\t 0.008443864600419721\t 2.774436687635822\t 3.2349899642188564\n",
            "14 \t [5.12       2.22226522]\t 36.09132538237591\t 0.008443864600419721\t 3.0422011851817587\t 3.349088426402884\n",
            "15 \t [-0.08964748 -0.01910683]\t 0.008766813095790858\t 0.008443864600419721\t 2.8375056734054245\t 2.617857036454978\n",
            "16 \t [-0.42187245  0.12624346]\t 0.2098511906329513\t 0.008443864600419721\t 2.671833619724225\t 2.815685309746132\n",
            "17 \t [ 2.0919825  -1.57072072]\t 9.310717948760004\t 0.008443864600419721\t 3.069559004979558\t 3.1952498150883013\n",
            "18 \t [ 0.34307172 -0.14977665]\t 0.16256429002770917\t 0.008443864600419721\t 3.116456725376145\t 3.3270930753745027\n",
            "19 \t [ 0.13122495 -0.07430891]\t 0.028263615766367836\t 0.008443864600419721\t 2.348357330241703\t 2.976217349639873\n",
            "20 \t [-0.29503101  0.09081275]\t 0.10353720576719057\t 0.008443864600419721\t 2.653277962376879\t 2.9557254125830212\n"
          ]
        }
      ],
      "source": [
        "### EXACT GP EI GRADIENTS\n",
        "\n",
        "np.random.seed(run_num_8)\n",
        "surrogate_exact_8 = dGaussianProcess(cov_func, optimize=opt)\n",
        "\n",
        "exact_8 = dGPGO(surrogate_exact_8, Acquisition_grad(util), objfunc, param)\n",
        "exact_8.run(init_evals=n_init, max_iter=iters)\n"
      ]
    },
    {
      "cell_type": "code",
      "execution_count": 42,
      "metadata": {
        "id": "vonm9jyuIv4t",
        "colab": {
          "base_uri": "https://localhost:8080/"
        },
        "outputId": "b6026c43-b2fc-4a68-a48b-d5daacd9fb46"
      },
      "outputs": [
        {
          "output_type": "stream",
          "name": "stdout",
          "text": [
            "Evaluation \t Proposed point \t  Current eval. \t  Best eval. \t        Exact EI: StdDev. x \t Approx EI: StdDev. x \n",
            "init\t [-5.01376866  0.01919582]\t 25.138613177506063\t 14.00341364504739\t    \t    \n",
            "init\t [-0.04328148 -3.74958562]\t 28.12065798163534\t 14.00341364504739\t    \t    \n",
            "init\t [-3.66478248 -2.88195916]\t 30.04200788009657\t 14.00341364504739\t    \t    \n",
            "init\t [-0.83447623 -2.57944404]\t 14.00341364504739\t 14.00341364504739\t    \t    \n",
            "init\t [-4.25922917 -1.58209393]\t 23.14707552082245\t 14.00341364504739\t    \t    \n",
            "1  \t [5.12 5.12]\t 78.64320000000001\t 14.00341364504739\t 2.97471277204924\t 2.9015048208642384\n",
            "2  \t [-0.71921853  4.11475232]\t 34.37964852502853\t 14.00341364504739\t 3.2873440621875427\t 3.6925402559920446\n",
            "3  \t [ 5.12       -1.23922894]\t 29.28577674150329\t 14.00341364504739\t 3.2332348955757384\t 4.0445464755427265\n",
            "\u001b[1m\u001b[92m4\u001b[0m\t \u001b[1m\u001b[92m[1.22324519 0.71921471]\u001b[0m\t \u001b[1m\u001b[92m2.530868410983344\u001b[0m\t \u001b[1m\u001b[92m2.530868410983344\u001b[0m\t \u001b[1m\u001b[92m3.2510640150500616\u001b[0m\t \u001b[1m\u001b[92m3.665010110653459\u001b[0m\n",
            "5  \t [3.49274801 1.82644176]\t 18.87106772816955\t 2.530868410983344\t 3.349317942500236\t 3.8002239689771926\n",
            "6  \t [-4.35069339  3.526827  ]\t 43.80555037399521\t 2.530868410983344\t 2.754198057287038\t 3.508898995260379\n",
            "\u001b[1m\u001b[92m7\u001b[0m\t \u001b[1m\u001b[92m[-1.17456136  0.40912522]\u001b[0m\t \u001b[1m\u001b[92m1.7143612947983011\u001b[0m\t \u001b[1m\u001b[92m1.7143612947983011\u001b[0m\t \u001b[1m\u001b[92m2.6887141734888025\u001b[0m\t \u001b[1m\u001b[92m2.910866231251054\u001b[0m\n",
            "8  \t [ 2.90520972 -3.39396042]\t 31.47817810470231\t 1.7143612947983011\t 2.660879600034344\t 3.130413769762295\n",
            "9  \t [-5.12 -5.12]\t 78.64320000000001\t 1.7143612947983011\t 3.1167060275631386\t 2.880534185853155\n",
            "10 \t [ 1.05838044 -0.64077017]\t 1.9413419901576958\t 1.7143612947983011\t 2.710482613459823\t 2.606902321188428\n",
            "11 \t [2.01657361 5.02414916]\t 54.55071861113195\t 1.7143612947983011\t 2.748999103625919\t 3.1342846799246398\n",
            "12 \t [-2.21081841  1.2752538 ]\t 8.140262575531114\t 1.7143612947983011\t 2.6967179325972728\t 2.874045475885869\n",
            "\u001b[1m\u001b[92m13\u001b[0m\t \u001b[1m\u001b[92m[-0.32894352  0.20978107]\u001b[0m\t \u001b[1m\u001b[92m0.1962200322627102\u001b[0m\t \u001b[1m\u001b[92m0.1962200322627102\u001b[0m\t \u001b[1m\u001b[92m2.0782164232985227\u001b[0m\t \u001b[1m\u001b[92m1.6679745490649902\u001b[0m\n",
            "\u001b[1m\u001b[92m14\u001b[0m\t \u001b[1m\u001b[92m[-0.07171916 -0.24626247]\u001b[0m\t \u001b[1m\u001b[92m0.12643404189248625\u001b[0m\t \u001b[1m\u001b[92m0.12643404189248625\u001b[0m\t \u001b[1m\u001b[92m2.5350260501023074\u001b[0m\t \u001b[1m\u001b[92m2.8896287691732314\u001b[0m\n",
            "15 \t [-0.33983646  0.22755384]\t 0.219050323727435\t 0.12643404189248625\t 2.7148280756003413\t 2.769392504690496\n",
            "16 \t [-0.12743092 -0.23876509]\t 0.1302561717814623\t 0.12643404189248625\t 2.9293421728049216\t 3.3993351594494556\n",
            "17 \t [ 0.03093222 -0.35396003]\t 0.25153220791003367\t 0.12643404189248625\t 2.720545232755947\t 2.668453871206392\n",
            "\u001b[1m\u001b[92m18\u001b[0m\t \u001b[1m\u001b[92m[-0.29853667 -0.070888  ]\u001b[0m\t \u001b[1m\u001b[92m0.09917436315177403\u001b[0m\t \u001b[1m\u001b[92m0.09917436315177403\u001b[0m\t \u001b[1m\u001b[92m2.6071964870811595\u001b[0m\t \u001b[1m\u001b[92m2.6840376471051925\u001b[0m\n",
            "19 \t [-0.09009198 -0.27107664]\t 0.15508165154511314\t 0.09917436315177403\t 2.829700712552493\t 2.880252930354457\n",
            "20 \t [ 0.03658418 -0.35862612]\t 0.2585637908330661\t 0.09917436315177403\t 3.055712864128313\t 3.288920431837102\n"
          ]
        }
      ],
      "source": [
        "### EXACT GP EI GRADIENTS\n",
        "\n",
        "np.random.seed(run_num_9)\n",
        "surrogate_exact_9 = dGaussianProcess(cov_func, optimize=opt)\n",
        "\n",
        "exact_9 = dGPGO(surrogate_exact_9, Acquisition_grad(util), objfunc, param)\n",
        "exact_9.run(init_evals=n_init, max_iter=iters)\n"
      ]
    },
    {
      "cell_type": "code",
      "execution_count": 43,
      "metadata": {
        "id": "6amuYlUdIv7r",
        "colab": {
          "base_uri": "https://localhost:8080/"
        },
        "outputId": "ce43ebaf-b2d4-4ca6-a48f-962fbee18662"
      },
      "outputs": [
        {
          "output_type": "stream",
          "name": "stdout",
          "text": [
            "Evaluation \t Proposed point \t  Current eval. \t  Best eval. \t        Exact EI: StdDev. x \t Approx EI: StdDev. x \n",
            "init\t [ 2.77832339 -4.90750004]\t 55.886194099964676\t 14.855028828430257\t    \t    \n",
            "init\t [1.36855793 2.54775176]\t 14.855028828430257\t 14.855028828430257\t    \t    \n",
            "init\t [-0.01528819 -2.81808235]\t 15.883409988980564\t 14.855028828430257\t    \t    \n",
            "init\t [-3.09183626  2.66783449]\t 23.79413325191142\t 14.855028828430257\t    \t    \n",
            "init\t [-3.38830503 -4.2154003 ]\t 47.019810427389544\t 14.855028828430257\t    \t    \n",
            "1  \t [ 5.12       -0.36575711]\t 26.48195652786448\t 14.855028828430257\t 3.5904008134800907\t 3.7809645500304745\n",
            "2  \t [5.12 5.12]\t 78.64320000000001\t 14.855028828430257\t 3.281124488444716\t 3.444164457373556\n",
            "3  \t [-4.19726726 -0.70771609]\t 18.618776591669107\t 14.855028828430257\t 2.7119989973772727\t 3.3160893184259193\n",
            "4  \t [0.20972177 5.12      ]\t 52.47278322104103\t 14.855028828430257\t 3.4685923886852894\t 3.622389677147536\n",
            "\u001b[1m\u001b[92m5\u001b[0m\t \u001b[1m\u001b[92m[ 2.00133395 -0.65417626]\u001b[0m\t \u001b[1m\u001b[92m4.861230722576716\u001b[0m\t \u001b[1m\u001b[92m4.861230722576716\u001b[0m\t \u001b[1m\u001b[92m3.5285633672727847\u001b[0m\t \u001b[1m\u001b[92m3.13042594566837\u001b[0m\n",
            "\u001b[1m\u001b[92m6\u001b[0m\t \u001b[1m\u001b[92m[-1.18244688  0.5322861 ]\u001b[0m\t \u001b[1m\u001b[92m1.9648376049785918\u001b[0m\t \u001b[1m\u001b[92m1.9648376049785918\u001b[0m\t \u001b[1m\u001b[92m3.3040595139382454\u001b[0m\t \u001b[1m\u001b[92m3.1188886869281673\u001b[0m\n",
            "7  \t [4.14049116 2.07595769]\t 25.76286769519988\t 1.9648376049785918\t 3.062568193423912\t 3.0824689670693397\n",
            "\u001b[1m\u001b[92m8\u001b[0m\t \u001b[1m\u001b[92m[ 0.03651737 -0.1054671 ]\u001b[0m\t \u001b[1m\u001b[92m0.02358013639969881\u001b[0m\t \u001b[1m\u001b[92m0.02358013639969881\u001b[0m\t \u001b[1m\u001b[92m2.7989404026442464\u001b[0m\t \u001b[1m\u001b[92m3.3062766513843247\u001b[0m\n",
            "9  \t [-0.88206025 -5.12      ]\t 53.2068302794414\t 0.02358013639969881\t 3.1677900102963945\t 3.166505450160778\n",
            "10 \t [ 0.45630733 -0.43005239]\t 0.5781064882339653\t 0.02358013639969881\t 3.016027614504061\t 3.3380585999580235\n",
            "11 \t [ 0.13738058 -0.20326081]\t 0.10150333944766224\t 0.02358013639969881\t 2.563982380662322\t 2.852305424579194\n",
            "\u001b[1m\u001b[92m12\u001b[0m\t \u001b[1m\u001b[92m[-0.06197703 -0.05899388]\u001b[0m\t \u001b[1m\u001b[92m0.010801708369521715\u001b[0m\t \u001b[1m\u001b[92m0.010801708369521715\u001b[0m\t \u001b[1m\u001b[92m3.0488407860286943\u001b[0m\t \u001b[1m\u001b[92m3.1475724004200005\u001b[0m\n",
            "13 \t [-3.32372707  5.12      ]\t 63.47596162582866\t 0.010801708369521715\t 2.8393739282053634\t 3.0964448410983176\n",
            "14 \t [ 0.08877802 -0.17006366]\t 0.06572483039293525\t 0.010801708369521715\t 2.7994445082795623\t 2.9452829535113425\n",
            "15 \t [-0.27401435  0.15736408]\t 0.12461076790642786\t 0.010801708369521715\t 3.0596341442875223\t 3.069769153511129\n",
            "16 \t [-0.20173751  0.09340814]\t 0.05814818420586729\t 0.010801708369521715\t 3.1770698800277724\t 3.1630216899058974\n",
            "17 \t [-0.11784553 -0.00655924]\t 0.013973616161579846\t 0.010801708369521715\t 2.8943994941844817\t 3.2231996867036563\n",
            "18 \t [-0.23065521  0.10550599]\t 0.07546485355845516\t 0.010801708369521715\t 2.7687461329139174\t 2.6558180544539747\n",
            "19 \t [-0.10555363 -0.02117923]\t 0.012038688601918488\t 0.010801708369521715\t 2.574244604524564\t 2.517017038600471\n",
            "20 \t [ 0.01359054 -0.11487256]\t 0.02657611253793517\t 0.010801708369521715\t 3.1797669829312816\t 3.191966970114408\n"
          ]
        }
      ],
      "source": [
        "### EXACT GP EI GRADIENTS\n",
        "\n",
        "np.random.seed(run_num_10)\n",
        "surrogate_exact_10 = dGaussianProcess(cov_func, optimize=opt)\n",
        "\n",
        "exact_10 = dGPGO(surrogate_exact_10, Acquisition_grad(util), objfunc, param)\n",
        "exact_10.run(init_evals=n_init, max_iter=iters)\n"
      ]
    },
    {
      "cell_type": "code",
      "execution_count": 44,
      "metadata": {
        "id": "VwbLIP9cIv-F",
        "colab": {
          "base_uri": "https://localhost:8080/"
        },
        "outputId": "61d3ce9e-5fbe-4a3d-94ed-24d7a3152097"
      },
      "outputs": [
        {
          "output_type": "stream",
          "name": "stdout",
          "text": [
            "Evaluation \t Proposed point \t  Current eval. \t  Best eval. \t        Exact EI: StdDev. x \t Approx EI: StdDev. x \n",
            "init\t [-3.27403839 -4.92057353]\t 59.14341502486697\t 0.7122141741228657\t    \t    \n",
            "init\t [-0.37664229  2.30332343]\t 10.752457105378047\t 0.7122141741228657\t    \t    \n",
            "init\t [-0.81711509 -0.14922651]\t 0.7122141741228657\t 0.7122141741228657\t    \t    \n",
            "init\t [-4.98912446 -0.12931474]\t 24.924807467825406\t 0.7122141741228657\t    \t    \n",
            "init\t [4.52410012 3.59214172]\t 46.27444610017016\t 0.7122141741228657\t    \t    \n",
            "1  \t [ 3.03550212 -4.46785095]\t 49.13765732819627\t 0.7122141741228657\t 2.686370835414964\t 3.9529838321385635\n",
            "2  \t [ 4.96308933 -0.59491482]\t 25.34010298072491\t 0.7122141741228657\t 2.5495153641901935\t 3.1204325681850396\n",
            "3  \t [-1.19896852  5.12      ]\t 53.86632550764567\t 0.7122141741228657\t 3.203201429859622\t 3.7659259924361743\n",
            "4  \t [ 1.28140813 -1.21714588]\t 4.604894973126546\t 0.7122141741228657\t 2.463900599458722\t 2.6024585826788433\n",
            "5  \t [-1.69216183 -1.61119498]\t 8.05531017348553\t 0.7122141741228657\t 2.789101437496809\t 3.0059910575375954\n",
            "6  \t [-3.56030457  2.61220117]\t 26.322958583188054\t 0.7122141741228657\t 2.809024921585713\t 3.9287319686270545\n",
            "7  \t [-0.05289944 -5.12      ]\t 52.43159835080264\t 0.7122141741228657\t 3.1751253638418198\t 3.4007934129643806\n",
            "8  \t [2.35136716 0.95538154]\t 7.354435291576335\t 0.7122141741228657\t 2.8381679476260695\t 2.905247055325458\n",
            "9  \t [1.69637518 3.88348309]\t 33.04057064875691\t 0.7122141741228657\t 3.0792744489168062\t 3.1262818743697554\n",
            "10 \t [-1.5003829   0.38188818]\t 2.542826008097038\t 0.7122141741228657\t 2.624624314011364\t 3.6926084902385536\n",
            "11 \t [-4.11151594  5.01523014]\t 67.20963012269696\t 0.7122141741228657\t 3.082145105573058\t 3.3355345176902067\n",
            "12 \t [ 5.12       -3.01810581]\t 44.43232534104057\t 0.7122141741228657\t 3.0330782991606395\t 2.8225449082638536\n",
            "\u001b[1m\u001b[92m13\u001b[0m\t \u001b[1m\u001b[92m[-0.16854809  0.0585988 ]\u001b[0m\t \u001b[1m\u001b[92m0.03527609886706972\u001b[0m\t \u001b[1m\u001b[92m0.03527609886706972\u001b[0m\t \u001b[1m\u001b[92m2.856455526285809\u001b[0m\t \u001b[1m\u001b[92m2.9911101038387695\u001b[0m\n",
            "14 \t [-5.12       -2.74649344]\t 41.300852424701446\t 0.03527609886706972\t 3.045742716231113\t 3.1908655990870503\n",
            "15 \t [ 0.30676307 -0.68180338]\t 1.0238152907608464\t 0.03527609886706972\t 2.9120845990846975\t 2.729832966390623\n",
            "16 \t [-0.69509127  0.34472526]\t 0.7208228812719599\t 0.03527609886706972\t 3.167615070544701\t 3.092923134040059\n",
            "17 \t [ 0.19944848 -0.22526259]\t 0.1412661700666658\t 0.03527609886706972\t 2.3799528183234653\t 1.983727903870405\n",
            "\u001b[1m\u001b[92m18\u001b[0m\t \u001b[1m\u001b[92m[-0.02297216  0.00238515]\u001b[0m\t \u001b[1m\u001b[92m0.0005390978180346446\u001b[0m\t \u001b[1m\u001b[92m0.0005390978180346446\u001b[0m\t \u001b[1m\u001b[92m2.8076918435688505\u001b[0m\t \u001b[1m\u001b[92m2.8386432783430515\u001b[0m\n",
            "19 \t [ 0.09679478 -0.10067957]\t 0.029641982961420732\t 0.0005390978180346446\t 2.696340067999619\t 2.521907049200321\n",
            "20 \t [ 0.12457852 -1.59705963]\t 5.116718737322617\t 0.0005390978180346446\t 2.9873095076278706\t 2.8440765844763582\n"
          ]
        }
      ],
      "source": [
        "### EXACT GP EI GRADIENTS\n",
        "\n",
        "np.random.seed(run_num_11)\n",
        "surrogate_exact_11 = dGaussianProcess(cov_func, optimize=opt)\n",
        "\n",
        "exact_11 = dGPGO(surrogate_exact_11, Acquisition_grad(util), objfunc, param)\n",
        "exact_11.run(init_evals=n_init, max_iter=iters)\n"
      ]
    },
    {
      "cell_type": "code",
      "execution_count": 45,
      "metadata": {
        "id": "MlUNFjc-JTBY",
        "colab": {
          "base_uri": "https://localhost:8080/"
        },
        "outputId": "2084b8e9-7d11-4812-9205-29e2a629541f"
      },
      "outputs": [
        {
          "output_type": "stream",
          "name": "stdout",
          "text": [
            "Evaluation \t Proposed point \t  Current eval. \t  Best eval. \t        Exact EI: StdDev. x \t Approx EI: StdDev. x \n",
            "init\t [-3.54137249  2.45810889]\t 24.62591779447066\t 6.112828495563743\t    \t    \n",
            "init\t [-2.42365424  0.34549139]\t 6.112828495563743\t 6.112828495563743\t    \t    \n",
            "init\t [-4.97075238  4.28796936]\t 61.48174177959852\t 6.112828495563743\t    \t    \n",
            "init\t [ 4.10332011 -4.77776458]\t 62.49130467854858\t 6.112828495563743\t    \t    \n",
            "init\t [ 4.6791612  -3.71497655]\t 49.4966510918416\t 6.112828495563743\t    \t    \n",
            "1  \t [5.12 5.12]\t 78.64320000000001\t 6.112828495563743\t 3.7035472890922616\t 3.664352039607077\n",
            "2  \t [-5.12 -5.12]\t 78.64320000000001\t 6.112828495563743\t 3.603562655993318\t 3.1430042803363434\n",
            "3  \t [2.21060156 0.79247397]\t 6.142789264583078\t 6.112828495563743\t 2.998313901225209\t 2.821666498570226\n",
            "4  \t [0.42823336 4.67757823]\t 43.94285991467947\t 6.112828495563743\t 2.986077824527493\t 3.077144611028562\n",
            "5  \t [-0.4673844  -4.08946082]\t 33.66582782388065\t 6.112828495563743\t 2.622597152841547\t 2.6430972658943697\n",
            "6  \t [-5.12      -1.2826401]\t 29.50473123467627\t 6.112828495563743\t 2.992020575513795\t 3.393544750658489\n",
            "7  \t [5.12       0.31018901]\t 26.406834444413615\t 6.112828495563743\t 2.6683435206278623\t 2.674945114366405\n",
            "\u001b[1m\u001b[92m8\u001b[0m\t \u001b[1m\u001b[92m[ 1.29362762 -1.46505872]\u001b[0m\t \u001b[1m\u001b[92m5.966266537562421\u001b[0m\t \u001b[1m\u001b[92m5.966266537562421\u001b[0m\t \u001b[1m\u001b[92m2.8630230990936294\u001b[0m\t \u001b[1m\u001b[92m2.698863503775921\u001b[0m\n",
            "\u001b[1m\u001b[92m9\u001b[0m\t \u001b[1m\u001b[92m[-0.24014471  1.3964888 ]\u001b[0m\t \u001b[1m\u001b[92m3.9580314320543892\u001b[0m\t \u001b[1m\u001b[92m3.9580314320543892\u001b[0m\t \u001b[1m\u001b[92m2.7594606276681626\u001b[0m\t \u001b[1m\u001b[92m2.69513700954936\u001b[0m\n",
            "10 \t [-2.03030035 -1.7076071 ]\t 9.953963537576193\t 3.9580314320543892\t 2.9109426441731943\t 3.011279640128455\n",
            "11 \t [-2.18025949  5.12      ]\t 57.18233142254921\t 3.9580314320543892\t 2.8173954608337057\t 2.7610691538126093\n",
            "12 \t [2.77328974 2.87539832]\t 24.226966939697988\t 3.9580314320543892\t 2.522395562540817\t 2.4544933038409336\n",
            "\u001b[1m\u001b[92m13\u001b[0m\t \u001b[1m\u001b[92m[-0.09964391 -0.24206493]\u001b[0m\t \u001b[1m\u001b[92m0.12711977239694486\u001b[0m\t \u001b[1m\u001b[92m0.12711977239694486\u001b[0m\t \u001b[1m\u001b[92m2.6398368025910366\u001b[0m\t \u001b[1m\u001b[92m2.7558581620313913\u001b[0m\n",
            "14 \t [-0.0014531 -0.3910717]\t 0.3058762673990645\t 0.12711977239694486\t 2.8478575033886733\t 2.776568454063636\n",
            "15 \t [ 0.12388016 -0.58847836]\t 0.7079598592323372\t 0.12711977239694486\t 3.208702327949627\t 3.133878269608983\n",
            "16 \t [ 2.68059111 -0.83862608]\t 8.59215609636287\t 0.12711977239694486\t 2.943425998668936\t 3.077215325943974\n",
            "17 \t [-0.00437849 -0.47843117]\t 0.45781194105912654\t 0.12711977239694486\t 2.6458813773752143\t 2.661657914566604\n",
            "\u001b[1m\u001b[92m18\u001b[0m\t \u001b[1m\u001b[92m[-0.29298498 -0.07113252]\u001b[0m\t \u001b[1m\u001b[92m0.09595987053002414\u001b[0m\t \u001b[1m\u001b[92m0.09595987053002414\u001b[0m\t \u001b[1m\u001b[92m3.161632406921221\u001b[0m\t \u001b[1m\u001b[92m3.14542063195073\u001b[0m\n",
            "19 \t [ 0.03480576 -0.56364118]\t 0.6365942031999581\t 0.09595987053002414\t 2.8967406940533014\t 2.9899426105426277\n",
            "20 \t [ 0.01741058 -0.51805932]\t 0.5370740463834152\t 0.09595987053002414\t 2.7476607424304946\t 2.4661774449450142\n"
          ]
        }
      ],
      "source": [
        "### EXACT GP EI GRADIENTS\n",
        "\n",
        "np.random.seed(run_num_12)\n",
        "surrogate_exact_12 = dGaussianProcess(cov_func, optimize=opt)\n",
        "\n",
        "exact_12 = dGPGO(surrogate_exact_12, Acquisition_grad(util), objfunc, param)\n",
        "exact_12.run(init_evals=n_init, max_iter=iters)\n"
      ]
    },
    {
      "cell_type": "code",
      "execution_count": 46,
      "metadata": {
        "id": "9BsKdU9eJTFL",
        "colab": {
          "base_uri": "https://localhost:8080/"
        },
        "outputId": "37f622df-0f1d-4e0a-e63b-df843b47d9a9"
      },
      "outputs": [
        {
          "output_type": "stream",
          "name": "stdout",
          "text": [
            "Evaluation \t Proposed point \t  Current eval. \t  Best eval. \t        Exact EI: StdDev. x \t Approx EI: StdDev. x \n",
            "init\t [ 2.84367268 -2.68757791]\t 22.532624345992815\t 12.440151302029248\t    \t    \n",
            "init\t [3.32061217 4.76927179]\t 56.51837198799\t 12.440151302029248\t    \t    \n",
            "init\t [ 4.83943541 -0.47667971]\t 23.87458213765974\t 12.440151302029248\t    \t    \n",
            "init\t [1.11659482 2.82139151]\t 17.16728408945556\t 12.440151302029248\t    \t    \n",
            "init\t [1.45012065 2.27346667]\t 12.440151302029248\t 12.440151302029248\t    \t    \n",
            "1  \t [-4.98875265 -5.12      ]\t 77.31645300895626\t 12.440151302029248\t 2.797645369960195\t 3.166668561947521\n",
            "2  \t [-4.39199693  2.0756854 ]\t 27.906576763179505\t 12.440151302029248\t 2.676785498513581\t 3.621381099734055\n",
            "\u001b[1m\u001b[92m3\u001b[0m\t \u001b[1m\u001b[92m[-2.15996326 -1.35939384]\u001b[0m\t \u001b[1m\u001b[92m8.36134453142119\u001b[0m\t \u001b[1m\u001b[92m8.36134453142119\u001b[0m\t \u001b[1m\u001b[92m3.090541073257211\u001b[0m\t \u001b[1m\u001b[92m3.4998618978017264\u001b[0m\n",
            "4  \t [-1.90088387  5.12      ]\t 56.04215949678534\t 8.36134453142119\t 3.1455723818445627\t 3.6122813687649233\n",
            "5  \t [-0.47880672 -5.12      ]\t 52.65805587212888\t 8.36134453142119\t 3.508435830784136\t 3.9312635173937114\n",
            "6  \t [-5.06973052 -1.57201056]\t 30.644601903275156\t 8.36134453142119\t 2.6614730618816154\t 3.4056604843256837\n",
            "\u001b[1m\u001b[92m7\u001b[0m\t \u001b[1m\u001b[92m[ 0.46159248 -0.43945326]\u001b[0m\t \u001b[1m\u001b[92m0.5993059510887679\u001b[0m\t \u001b[1m\u001b[92m0.5993059510887679\u001b[0m\t \u001b[1m\u001b[92m2.861785975363449\u001b[0m\t \u001b[1m\u001b[92m3.390241307616367\u001b[0m\n",
            "8  \t [-1.49909669  1.49718543]\t 6.730419290389669\t 0.5993059510887679\t 2.8005317403739842\t 2.940607792573163\n",
            "9  \t [5.12       2.49986267]\t 38.71302671069651\t 0.5993059510887679\t 2.953889161866749\t 3.2399844360809045\n",
            "10 \t [ 0.35216681 -1.2022852 ]\t 3.015000868185074\t 0.5993059510887679\t 2.7482714383117575\t 3.353934641380687\n",
            "11 \t [ 5.12       -3.51846581]\t 50.97360327298751\t 0.5993059510887679\t 2.9886247338601213\t 3.5558924299550787\n",
            "12 \t [ 1.47775381 -0.01053741]\t 2.183978399813599\t 0.5993059510887679\t 2.759427515819592\t 2.902492781128511\n",
            "13 \t [-2.64052898 -3.15628253]\t 26.89663205054162\t 0.5993059510887679\t 3.095980970752148\t 3.1864702117029884\n",
            "14 \t [ 2.47585468 -5.12      ]\t 58.558656389493336\t 0.5993059510887679\t 2.4355061118857333\t 2.6069788826491544\n",
            "15 \t [-4.58620851  4.3900112 ]\t 59.577705092346775\t 0.5993059510887679\t 2.885622885454436\t 2.9990807688730343\n",
            "\u001b[1m\u001b[92m16\u001b[0m\t \u001b[1m\u001b[92m[-0.02967692  0.01487756]\u001b[0m\t \u001b[1m\u001b[92m0.0013234028349070038\u001b[0m\t \u001b[1m\u001b[92m0.0013234028349070038\u001b[0m\t \u001b[1m\u001b[92m2.6415806084322084\u001b[0m\t \u001b[1m\u001b[92m2.6022392555431866\u001b[0m\n",
            "17 \t [ 2.44265159 -0.28719683]\t 6.131510812535368\t 0.0013234028349070038\t 3.4609104242834863\t 3.383934557446816\n",
            "18 \t [-0.27772807  0.2240471 ]\t 0.17752708620370528\t 0.0013234028349070038\t 2.338448283720432\t 2.2161161527598288\n",
            "19 \t [-2.62087883  0.16584435]\t 6.924014550435769\t 0.0013234028349070038\t 3.0795546347124088\t 3.0098423189289503\n",
            "20 \t [-0.25469847  0.37770546]\t 0.35019413654104753\t 0.0013234028349070038\t 3.2929657284352034\t 3.306685580125118\n"
          ]
        }
      ],
      "source": [
        "### EXACT GP EI GRADIENTS\n",
        "\n",
        "np.random.seed(run_num_13)\n",
        "surrogate_exact_13 = dGaussianProcess(cov_func, optimize=opt)\n",
        "\n",
        "exact_13 = dGPGO(surrogate_exact_13, Acquisition_grad(util), objfunc, param)\n",
        "exact_13.run(init_evals=n_init, max_iter=iters)\n"
      ]
    },
    {
      "cell_type": "code",
      "execution_count": 47,
      "metadata": {
        "id": "k6GjFBr1JTJf",
        "colab": {
          "base_uri": "https://localhost:8080/"
        },
        "outputId": "1e01e505-e5cc-4fad-9744-f45ba7c0988b"
      },
      "outputs": [
        {
          "output_type": "stream",
          "name": "stdout",
          "text": [
            "Evaluation \t Proposed point \t  Current eval. \t  Best eval. \t        Exact EI: StdDev. x \t Approx EI: StdDev. x \n",
            "init\t [0.14277984 2.79721013]\t 15.669155142359655\t 6.942951853664133\t    \t    \n",
            "init\t [ 3.7931795  -5.03759925]\t 65.14302308089468\t 6.942951853664133\t    \t    \n",
            "init\t [-1.94830412  4.68586229]\t 47.71049977745547\t 6.942951853664133\t    \t    \n",
            "init\t [ 0.13431513 -1.86076749]\t 6.942951853664133\t 6.942951853664133\t    \t    \n",
            "init\t [ 0.40140736 -2.85434939]\t 16.455748743182696\t 6.942951853664133\t    \t    \n",
            "1  \t [-5.12 -5.12]\t 78.64320000000001\t 6.942951853664133\t 4.121274436170594\t 3.9768855759570823\n",
            "2  \t [5.12 5.12]\t 78.64320000000001\t 6.942951853664133\t 3.9666011310036655\t 3.9488983817451895\n",
            "3  \t [-5.12        0.36978819]\t 26.487886607475154\t 6.942951853664133\t 2.8111046167207094\t 3.7193130546290223\n",
            "4  \t [4.78909935 0.0121152 ]\t 22.9357661657475\t 6.942951853664133\t 3.039484181486929\t 3.1541528424549536\n",
            "\u001b[1m\u001b[92m5\u001b[0m\t \u001b[1m\u001b[92m[-1.7489573   0.06030275]\u001b[0m\t \u001b[1m\u001b[92m3.066124484489773\u001b[0m\t \u001b[1m\u001b[92m3.066124484489773\u001b[0m\t \u001b[1m\u001b[92m2.984701878973859\u001b[0m\t \u001b[1m\u001b[92m2.698366579051017\u001b[0m\n",
            "\u001b[1m\u001b[92m6\u001b[0m\t \u001b[1m\u001b[92m[1.68388011 0.13490387]\u001b[0m\t \u001b[1m\u001b[92m2.8718503143009966\u001b[0m\t \u001b[1m\u001b[92m2.8718503143009966\u001b[0m\t \u001b[1m\u001b[92m2.6243514175186267\u001b[0m\t \u001b[1m\u001b[92m2.924280784573994\u001b[0m\n",
            "7  \t [-1.75110365 -4.82311049]\t 49.59115361404314\t 2.8718503143009966\t 2.528222368690376\t 3.2305093148669792\n",
            "8  \t [-5.00740026  3.4082952 ]\t 48.30700965443003\t 2.8718503143009966\t 2.99330345144369\t 3.093114963683634\n",
            "9  \t [2.66424963 2.98661499]\t 24.937964255197183\t 2.8718503143009966\t 3.054470319938935\t 2.9842848614067625\n",
            "10 \t [-2.57746371 -1.92746699]\t 14.07357719323589\t 2.8718503143009966\t 2.6387998165869737\t 2.671204093936075\n",
            "11 \t [ 2.93370866 -1.94989718]\t 16.210844499000405\t 2.8718503143009966\t 3.065119687320382\t 3.158374090273671\n",
            "\u001b[1m\u001b[92m12\u001b[0m\t \u001b[1m\u001b[92m[0.04829984 0.10523403]\u001b[0m\t \u001b[1m\u001b[92m0.024481278262089366\u001b[0m\t \u001b[1m\u001b[92m0.024481278262089366\u001b[0m\t \u001b[1m\u001b[92m3.0512374307666286\u001b[0m\t \u001b[1m\u001b[92m3.024889413661674\u001b[0m\n",
            "13 \t [-0.35170215  0.34614328]\t 0.36332473745539423\t 0.024481278262089366\t 2.8815566878394385\t 2.9062733078622807\n",
            "14 \t [0.00525304 0.13605047]\t 0.037047053625625374\t 0.024481278262089366\t 2.870374009856332\t 2.93650292502383\n",
            "\u001b[1m\u001b[92m15\u001b[0m\t \u001b[1m\u001b[92m[0.0665647 0.0996491]\u001b[0m\t \u001b[1m\u001b[92m0.02429074514725482\u001b[0m\t \u001b[1m\u001b[92m0.02429074514725482\u001b[0m\t \u001b[1m\u001b[92m2.948422577589022\u001b[0m\t \u001b[1m\u001b[92m3.00573255068897\u001b[0m\n",
            "16 \t [-0.07921472  0.18487559]\t 0.07463294228584176\t 0.02429074514725482\t 2.945010375357598\t 3.1034228752724986\n",
            "17 \t [-2.0266715   1.29852198]\t 7.479716019902786\t 0.02429074514725482\t 3.220501496248601\t 3.2079000546444094\n",
            "18 \t [-0.24516327  0.22905   ]\t 0.1650328388654427\t 0.02429074514725482\t 2.5641635762666852\t 2.839209394866809\n",
            "19 \t [-5.12       -2.21628323]\t 36.0382226796559\t 0.02429074514725482\t 3.0093024169393874\t 3.218529671052834\n",
            "20 \t [ 0.16233161 -0.00848136]\t 0.02649541937194353\t 0.02429074514725482\t 2.712431366365253\t 2.6362064530453964\n"
          ]
        }
      ],
      "source": [
        "### EXACT GP EI GRADIENTS\n",
        "\n",
        "np.random.seed(run_num_14)\n",
        "surrogate_exact_14 = dGaussianProcess(cov_func, optimize=opt)\n",
        "\n",
        "exact_14 = dGPGO(surrogate_exact_14, Acquisition_grad(util), objfunc, param)\n",
        "exact_14.run(init_evals=n_init, max_iter=iters)\n"
      ]
    },
    {
      "cell_type": "code",
      "execution_count": 48,
      "metadata": {
        "id": "dPS8WB3aJTN6",
        "colab": {
          "base_uri": "https://localhost:8080/"
        },
        "outputId": "480034b9-9e96-4447-a9a0-5e3d5d9059e6"
      },
      "outputs": [
        {
          "output_type": "stream",
          "name": "stdout",
          "text": [
            "Evaluation \t Proposed point \t  Current eval. \t  Best eval. \t        Exact EI: StdDev. x \t Approx EI: StdDev. x \n",
            "init\t [ 3.57189322 -3.28810573]\t 34.38169974295086\t 5.478261179905657\t    \t    \n",
            "init\t [-4.56332069 -1.41784631]\t 24.84447200795673\t 5.478261179905657\t    \t    \n",
            "init\t [-2.29989449  0.3072023 ]\t 5.478261179905657\t 5.478261179905657\t    \t    \n",
            "init\t [-1.9873903  -2.00218256]\t 11.967190241167383\t 5.478261179905657\t    \t    \n",
            "init\t [-3.97576933 -2.5610341 ]\t 28.924533081850157\t 5.478261179905657\t    \t    \n",
            "1  \t [4.12498913 5.12      ]\t 69.44433534653355\t 5.478261179905657\t 3.729730094167296\t 3.766997094729225\n",
            "2  \t [-1.61427045  5.12      ]\t 55.03466908322628\t 5.478261179905657\t 2.8254618495368256\t 3.6153089732436547\n",
            "\u001b[1m\u001b[92m3\u001b[0m\t \u001b[1m\u001b[92m[1.80215427 1.00841853]\u001b[0m\t \u001b[1m\u001b[92m5.281575878408494\u001b[0m\t \u001b[1m\u001b[92m5.281575878408494\u001b[0m\t \u001b[1m\u001b[92m2.9680328069369257\u001b[0m\t \u001b[1m\u001b[92m3.212933681137238\u001b[0m\n",
            "4  \t [-5.12       2.7993309]\t 41.88690693468751\t 5.281575878408494\t 2.9194718568305884\t 3.547384679383585\n",
            "5  \t [5.12       0.84586656]\t 27.645380472801122\t 5.281575878408494\t 3.124541492791064\t 3.2629608177486786\n",
            "6  \t [-0.5315062  -5.08588277]\t 52.01490583883032\t 5.281575878408494\t 3.218620818752067\t 3.231175637811479\n",
            "7  \t [-5.12 -5.12]\t 78.64320000000001\t 5.281575878408494\t 2.7198133392064197\t 2.6096637018672895\n",
            "\u001b[1m\u001b[92m8\u001b[0m\t \u001b[1m\u001b[92m[ 0.74309069 -1.30912259]\u001b[0m\t \u001b[1m\u001b[92m3.97978770435528\u001b[0m\t \u001b[1m\u001b[92m3.97978770435528\u001b[0m\t \u001b[1m\u001b[92m3.052104515209789\u001b[0m\t \u001b[1m\u001b[92m3.104941352463163\u001b[0m\n",
            "9  \t [-0.41840646  2.00642063]\t 8.226511480702836\t 3.97978770435528\t 1.9564925118596947\t 2.0340713310197387\n",
            "10 \t [1.29732859 3.74581444]\t 29.745313102291124\t 3.97978770435528\t 2.9730180017809014\t 3.273644778833007\n",
            "11 \t [ 2.19962016 -0.41060403]\t 5.175520214588265\t 3.97978770435528\t 2.579462823392196\t 2.6646940158987915\n",
            "\u001b[1m\u001b[92m12\u001b[0m\t \u001b[1m\u001b[92m[-0.17572656 -0.29045961]\u001b[0m\t \u001b[1m\u001b[92m0.1996133925063203\u001b[0m\t \u001b[1m\u001b[92m0.1996133925063203\u001b[0m\t \u001b[1m\u001b[92m2.506344406128813\u001b[0m\t \u001b[1m\u001b[92m2.846389362468879\u001b[0m\n",
            "13 \t [ 0.14243634 -2.11516112]\t 8.968101213322328\t 0.1996133925063203\t 3.163472538753893\t 3.092182949798977\n",
            "\u001b[1m\u001b[92m14\u001b[0m\t \u001b[1m\u001b[92m[ 0.0699782  -0.10527622]\u001b[0m\t \u001b[1m\u001b[92m0.027063114007103657\u001b[0m\t \u001b[1m\u001b[92m0.027063114007103657\u001b[0m\t \u001b[1m\u001b[92m2.938316722735634\u001b[0m\t \u001b[1m\u001b[92m3.2227014523469193\u001b[0m\n",
            "15 \t [-0.50859082  0.20169431]\t 0.34002580959934364\t 0.027063114007103657\t 2.1268810683018815\t 2.665275399934331\n",
            "16 \t [-0.47336934  0.18093929]\t 0.28955658643390886\t 0.027063114007103657\t 3.170862177169014\t 3.2129159361490407\n",
            "17 \t [-0.65958066  0.28674105]\t 0.5994875077525303\t 0.027063114007103657\t 2.5960305275607514\t 2.7125452239035877\n",
            "\u001b[1m\u001b[92m18\u001b[0m\t \u001b[1m\u001b[92m[-0.05487937 -0.04135761]\u001b[0m\t \u001b[1m\u001b[92m0.006432648727782142\u001b[0m\t \u001b[1m\u001b[92m0.006432648727782142\u001b[0m\t \u001b[1m\u001b[92m2.8720419746945054\u001b[0m\t \u001b[1m\u001b[92m3.1516740447216445\u001b[0m\n",
            "19 \t [-0.30047362  0.09600512]\t 0.10871836352074637\t 0.006432648727782142\t 3.1057332742595753\t 2.978014081501656\n",
            "20 \t [-0.14983857  0.01639724]\t 0.022989337052918765\t 0.006432648727782142\t 2.6569396270453867\t 2.819905133383584\n"
          ]
        }
      ],
      "source": [
        "### EXACT GP EI GRADIENTS\n",
        "\n",
        "np.random.seed(run_num_15)\n",
        "surrogate_exact_15 = dGaussianProcess(cov_func, optimize=opt)\n",
        "\n",
        "exact_15 = dGPGO(surrogate_exact_15, Acquisition_grad(util), objfunc, param)\n",
        "exact_15.run(init_evals=n_init, max_iter=iters)\n"
      ]
    },
    {
      "cell_type": "code",
      "execution_count": 49,
      "metadata": {
        "id": "lu8ki9XIQPPN",
        "colab": {
          "base_uri": "https://localhost:8080/"
        },
        "outputId": "c21c68f5-c429-4d0d-f7a4-87c0119a4cf0"
      },
      "outputs": [
        {
          "output_type": "stream",
          "name": "stdout",
          "text": [
            "Evaluation \t Proposed point \t  Current eval. \t  Best eval. \t        Exact EI: StdDev. x \t Approx EI: StdDev. x \n",
            "init\t [-2.83349935  0.23719262]\t 8.141239237549925\t 8.141239237549925\t    \t    \n",
            "init\t [ 0.51918292 -4.65303603]\t 43.571039504503474\t 8.141239237549925\t    \t    \n",
            "init\t [-1.42613673 -2.83565116]\t 18.11570093066862\t 8.141239237549925\t    \t    \n",
            "init\t [ 1.9325559  -3.44339021]\t 27.448644544199137\t 8.141239237549925\t    \t    \n",
            "init\t [-4.39987336  4.51595121]\t 60.146516261103784\t 8.141239237549925\t    \t    \n",
            "1  \t [5.12 5.12]\t 78.64320000000001\t 8.141239237549925\t 3.916851608419127\t 3.8994468146665966\n",
            "2  \t [5.12       0.06492156]\t 26.22282961736193\t 8.141239237549925\t 3.4043356895336654\t 3.2869652556692786\n",
            "3  \t [0.38934266 3.73115153]\t 27.99457111540883\t 8.141239237549925\t 3.5157944415217006\t 3.890540294218093\n",
            "4  \t [-5.12 -5.12]\t 78.64320000000001\t 8.141239237549925\t 3.3818447953682025\t 3.5898895109093982\n",
            "\u001b[1m\u001b[92m5\u001b[0m\t \u001b[1m\u001b[92m[0.61640032 0.23811921]\u001b[0m\t \u001b[1m\u001b[92m0.4933508728333715\u001b[0m\t \u001b[1m\u001b[92m0.4933508728333715\u001b[0m\t \u001b[1m\u001b[92m2.636389786019075\u001b[0m\t \u001b[1m\u001b[92m2.596809725508147\u001b[0m\n",
            "6  \t [ 5.12      -3.3408377]\t 48.536793050252186\t 0.4933508728333715\t 3.1816254122630827\t 3.361767959903089\n",
            "7  \t [1.8745191  0.34376099]\t 3.7501650739905465\t 0.4933508728333715\t 2.8392095750634234\t 2.889252276222184\n",
            "8  \t [-5.12       -1.37592588]\t 30.00074403755221\t 0.4933508728333715\t 2.781412103317054\t 2.959812234418302\n",
            "9  \t [-0.7250386   1.07205424]\t 2.8242815478503407\t 0.4933508728333715\t 3.0198893452335103\t 2.8182898079677807\n",
            "\u001b[1m\u001b[92m10\u001b[0m\t \u001b[1m\u001b[92m[-0.48385045  0.05230643]\u001b[0m\t \u001b[1m\u001b[92m0.23958318184330013\u001b[0m\t \u001b[1m\u001b[92m0.23958318184330013\u001b[0m\t \u001b[1m\u001b[92m3.118181739351627\u001b[0m\t \u001b[1m\u001b[92m3.2224558692394676\u001b[0m\n",
            "11 \t [3.11255025 2.38144552]\t 21.030534561839488\t 0.23958318184330013\t 3.1980445633040286\t 3.22687982408856\n",
            "12 \t [ 0.13959261 -0.49482944]\t 0.5091984540712474\t 0.23958318184330013\t 3.132499881794238\t 3.1956658735308827\n",
            "13 \t [ 0.0004529  -0.35802266]\t 0.25636066200937957\t 0.23958318184330013\t 2.5925253774663752\t 2.5991209792318126\n",
            "14 \t [ 0.02860786 -0.37673153]\t 0.2846716944363513\t 0.23958318184330013\t 2.5852516829281402\t 2.620102576261047\n",
            "\u001b[1m\u001b[92m15\u001b[0m\t \u001b[1m\u001b[92m[-0.2149288  -0.16814103]\u001b[0m\t \u001b[1m\u001b[92m0.10273720269897411\u001b[0m\t \u001b[1m\u001b[92m0.10273720269897411\u001b[0m\t \u001b[1m\u001b[92m2.718499078735863\u001b[0m\t \u001b[1m\u001b[92m2.7195881576833094\u001b[0m\n",
            "16 \t [ 0.07734291 -0.42261654]\t 0.36319141086370116\t 0.10273720269897411\t 2.6354334979817504\t 2.4737222171739335\n",
            "17 \t [-0.33328082 -0.07713457]\t 0.12297558954985663\t 0.10273720269897411\t 3.136022276574084\t 3.156274955139672\n",
            "18 \t [-4.956284    1.39592028]\t 28.46193789655621\t 0.10273720269897411\t 2.7375594837583823\t 2.8864968282135135\n",
            "19 \t [ 0.53606268 -0.77056512]\t 1.4749044124825805\t 0.10273720269897411\t 2.7467715472924734\t 2.5044952520349892\n",
            "20 \t [-0.6999042   0.26565129]\t 0.6310071001218873\t 0.10273720269897411\t 2.9886365296084754\t 3.0752335365463663\n"
          ]
        }
      ],
      "source": [
        "### EXACT GP EI GRADIENTS\n",
        "\n",
        "np.random.seed(run_num_16)\n",
        "surrogate_exact_16 = dGaussianProcess(cov_func, optimize=opt)\n",
        "\n",
        "exact_16 = dGPGO(surrogate_exact_16, Acquisition_grad(util), objfunc, param)\n",
        "exact_16.run(init_evals=n_init, max_iter=iters)\n"
      ]
    },
    {
      "cell_type": "code",
      "execution_count": 50,
      "metadata": {
        "id": "yU2SflSsJTUs",
        "colab": {
          "base_uri": "https://localhost:8080/"
        },
        "outputId": "3ed608a8-43d5-41d1-dc3a-e014149adfe7"
      },
      "outputs": [
        {
          "output_type": "stream",
          "name": "stdout",
          "text": [
            "Evaluation \t Proposed point \t  Current eval. \t  Best eval. \t        Exact EI: StdDev. x \t Approx EI: StdDev. x \n",
            "init\t [-2.10263037  0.31320838]\t 4.617253458637031\t 3.1817562258207746\t    \t    \n",
            "init\t [-3.15882714 -4.42470033]\t 49.134134969019556\t 3.1817562258207746\t    \t    \n",
            "init\t [2.93873111 1.60085526]\t 13.761615685279608\t 3.1817562258207746\t    \t    \n",
            "init\t [1.40821398 0.77417363]\t 3.1817562258207746\t 3.1817562258207746\t    \t    \n",
            "init\t [-4.71999574 -1.45598869]\t 26.518165900202685\t 3.1817562258207746\t    \t    \n",
            "1  \t [ 4.96008736 -4.44720822]\t 64.15778856025273\t 3.1817562258207746\t 3.330997861947753\t 4.404836650990023\n",
            "2  \t [-1.25765516  5.12      ]\t 54.01049649555178\t 3.1817562258207746\t 3.1512014650356934\t 3.3674817751446904\n",
            "3  \t [5.12 5.12]\t 78.64320000000001\t 3.1817562258207746\t 3.407266155412709\t 3.386126911556011\n",
            "4  \t [ 0.93267141 -3.01501446]\t 19.05050033633732\t 3.1817562258207746\t 3.2802510471851196\t 3.669815815496104\n",
            "5  \t [ 5.12       -0.66225644]\t 27.091567173816713\t 3.1817562258207746\t 2.614922555974353\t 3.2942645142624514\n",
            "6  \t [-5.03769575  2.71164555]\t 40.08442163187438\t 3.1817562258207746\t 2.6214446610223607\t 2.8885964770306485\n",
            "7  \t [-0.36744187  1.98404776]\t 8.007904562215607\t 3.1817562258207746\t 2.665182166633943\t 2.5669335044451915\n",
            "8  \t [2.08525667 3.86179596]\t 34.17523146268955\t 3.1817562258207746\t 3.3496952614448174\t 3.02228208872319\n",
            "9  \t [-1.62701342 -1.37620773]\t 6.4350680879931215\t 3.1817562258207746\t 3.2536171774916154\t 3.3344695667203257\n",
            "\u001b[1m\u001b[92m10\u001b[0m\t \u001b[1m\u001b[92m[ 1.52821306 -0.5544101 ]\u001b[0m\t \u001b[1m\u001b[92m2.950176277846247\u001b[0m\t \u001b[1m\u001b[92m2.950176277846247\u001b[0m\t \u001b[1m\u001b[92m2.41452076050198\u001b[0m\t \u001b[1m\u001b[92m2.5237656362479384\u001b[0m\n",
            "11 \t [-0.30291891 -5.12      ]\t 52.520559868674866\t 2.950176277846247\t 3.2050660831923277\t 3.0131254533207072\n",
            "12 \t [5.12       2.26243326]\t 36.4516085023628\t 2.950176277846247\t 2.6854246704875084\t 3.0782774168226075\n",
            "13 \t [-2.36161381  2.00017697]\t 13.578635610755425\t 2.950176277846247\t 2.7129851582611453\t 2.4212328758491024\n",
            "\u001b[1m\u001b[92m14\u001b[0m\t \u001b[1m\u001b[92m[-0.13743682  0.02277007]\u001b[0m\t \u001b[1m\u001b[92m0.019925832763943063\u001b[0m\t \u001b[1m\u001b[92m0.019925832763943063\u001b[0m\t \u001b[1m\u001b[92m2.6515149463937404\u001b[0m\t \u001b[1m\u001b[92m2.6025297141532255\u001b[0m\n",
            "15 \t [ 0.04425738 -0.16026284]\t 0.05332707453615614\t 0.019925832763943063\t 2.6718839997649675\t 2.8455734883295594\n",
            "16 \t [ 0.16709726 -0.28690256]\t 0.1925476530638992\t 0.019925832763943063\t 2.48434243637148\t 2.454141313369773\n",
            "17 \t [ 0.10358405 -0.22590599]\t 0.1127966917040377\t 0.019925832763943063\t 2.4877334866906424\t 2.9113286577641433\n",
            "18 \t [ 0.34723101 -0.45684148]\t 0.5379776495693981\t 0.019925832763943063\t 2.8484744024043587\t 3.0226040279255795\n",
            "19 \t [ 0.61792174 -0.61862996]\t 1.147233325599606\t 0.019925832763943063\t 2.6542328479338932\t 2.8309171896378382\n",
            "20 \t [ 0.53468623 -0.57687149]\t 0.951450796811558\t 0.019925832763943063\t 2.8952733336915175\t 3.2032727313053284\n"
          ]
        }
      ],
      "source": [
        "### EXACT GP EI GRADIENTS\n",
        "\n",
        "np.random.seed(run_num_17)\n",
        "surrogate_exact_17 = dGaussianProcess(cov_func, optimize=opt)\n",
        "\n",
        "exact_17 = dGPGO(surrogate_exact_17, Acquisition_grad(util), objfunc, param)\n",
        "exact_17.run(init_evals=n_init, max_iter=iters)\n"
      ]
    },
    {
      "cell_type": "code",
      "execution_count": 51,
      "metadata": {
        "id": "eVEhyZ9BQS-1",
        "colab": {
          "base_uri": "https://localhost:8080/"
        },
        "outputId": "3d6c226d-1654-4e94-eff5-54e249e06290"
      },
      "outputs": [
        {
          "output_type": "stream",
          "name": "stdout",
          "text": [
            "Evaluation \t Proposed point \t  Current eval. \t  Best eval. \t        Exact EI: StdDev. x \t Approx EI: StdDev. x \n",
            "init\t [1.53983224 0.05584255]\t 2.3773200933391867\t 2.3773200933391867\t    \t    \n",
            "init\t [ 3.87687906 -3.25795609]\t 36.25874706055664\t 2.3773200933391867\t    \t    \n",
            "init\t [3.60686662 2.56139557]\t 26.130981366974602\t 2.3773200933391867\t    \t    \n",
            "init\t [1.70088108 4.99604939]\t 52.81401545301259\t 2.3773200933391867\t    \t    \n",
            "init\t [-2.48864335 -4.83014733]\t 52.85399210258478\t 2.3773200933391867\t    \t    \n",
            "1  \t [-5.00718904  2.9174042 ]\t 42.09443666312248\t 2.3773200933391867\t 3.077046067626628\t 3.6505861325773443\n",
            "2  \t [-2.12750099 -0.37273337]\t 4.80412080606555\t 2.3773200933391867\t 2.611673796822958\t 2.5847399606849\n",
            "3  \t [-1.38388786  2.93401946]\t 19.132085955660546\t 2.3773200933391867\t 2.9546443621558236\t 3.0752340434726504\n",
            "4  \t [-5.12       -1.70034653]\t 31.99675663722693\t 2.3773200933391867\t 3.10647722839905\t 3.5576315421726643\n",
            "5  \t [ 0.2392604  -2.31514409]\t 10.777029851248393\t 2.3773200933391867\t 2.7727618662825266\t 2.960049701377955\n",
            "6  \t [ 1.12143533 -5.12      ]\t 53.68641718867477\t 2.3773200933391867\t 2.8949866424063884\t 3.145965395889192\n",
            "7  \t [5.12 5.12]\t 78.64320000000001\t 2.3773200933391867\t 3.092852804551579\t 3.2367463995171692\n",
            "\u001b[1m\u001b[92m8\u001b[0m\t \u001b[1m\u001b[92m[0.43194908 0.53164495]\u001b[0m\t \u001b[1m\u001b[92m0.7518727141981607\u001b[0m\t \u001b[1m\u001b[92m0.7518727141981607\u001b[0m\t \u001b[1m\u001b[92m2.873261840133095\u001b[0m\t \u001b[1m\u001b[92m3.057131436885241\u001b[0m\n",
            "9  \t [ 5.12       -0.19797371]\t 26.29278717633463\t 0.7518727141981607\t 3.085607877172016\t 3.1326657035703747\n",
            "10 \t [-2.65327644  5.12      ]\t 59.46867584757596\t 0.7518727141981607\t 3.1165728747479333\t 3.2271347578411396\n",
            "11 \t [-5.12 -5.12]\t 78.64320000000001\t 0.7518727141981607\t 3.087102756215863\t 2.9337440618783788\n",
            "12 \t [-0.02616698  0.67222403]\t 0.9044549929527481\t 0.7518727141981607\t 2.7227438821711716\t 2.83715273716121\n",
            "13 \t [0.80942089 1.39931824]\t 4.571345268347654\t 0.7518727141981607\t 2.936473859053718\t 2.8116712656956824\n",
            "\u001b[1m\u001b[92m14\u001b[0m\t \u001b[1m\u001b[92m[-0.17035956  0.03750562]\u001b[0m\t \u001b[1m\u001b[92m0.031835722060102205\u001b[0m\t \u001b[1m\u001b[92m0.031835722060102205\u001b[0m\t \u001b[1m\u001b[92m2.481094078293845\u001b[0m\t \u001b[1m\u001b[92m2.571152558683765\u001b[0m\n",
            "\u001b[1m\u001b[92m15\u001b[0m\t \u001b[1m\u001b[92m[-0.12143334 -0.06259317]\u001b[0m\t \u001b[1m\u001b[92m0.022581867591206554\u001b[0m\t \u001b[1m\u001b[92m0.022581867591206554\u001b[0m\t \u001b[1m\u001b[92m2.7332024656744864\u001b[0m\t \u001b[1m\u001b[92m2.6108141377220355\u001b[0m\n",
            "16 \t [-0.28170978  0.02957765]\t 0.08111007449753574\t 0.022581867591206554\t 2.5794992129748167\t 2.6462056139007895\n",
            "17 \t [ 0.51258726 -0.33288388]\t 0.4843690580868645\t 0.022581867591206554\t 3.429127511406201\t 3.369620762346148\n",
            "18 \t [-3.2537634  0.659772 ]\t 11.457574421759322\t 0.022581867591206554\t 3.0110269365899\t 3.0964707966019556\n",
            "19 \t [-0.21381695 -0.07354871]\t 0.056536513806654295\t 0.022581867591206554\t 2.6904755674501484\t 2.6042743562714064\n",
            "20 \t [-0.08354527 -0.1518503 ]\t 0.0530968418251979\t 0.022581867591206554\t 2.917734156400689\t 2.8589159626827527\n"
          ]
        }
      ],
      "source": [
        "### EXACT GP EI GRADIENTS\n",
        "\n",
        "np.random.seed(run_num_18)\n",
        "surrogate_exact_18 = dGaussianProcess(cov_func, optimize=opt)\n",
        "\n",
        "exact_18 = dGPGO(surrogate_exact_18, Acquisition_grad(util), objfunc, param)\n",
        "exact_18.run(init_evals=n_init, max_iter=iters)\n"
      ]
    },
    {
      "cell_type": "code",
      "execution_count": 52,
      "metadata": {
        "id": "B6gTz1ojQUxn",
        "colab": {
          "base_uri": "https://localhost:8080/"
        },
        "outputId": "fe8ba921-f4e0-4f62-8b25-f65dec377d4b"
      },
      "outputs": [
        {
          "output_type": "stream",
          "name": "stdout",
          "text": [
            "Evaluation \t Proposed point \t  Current eval. \t  Best eval. \t        Exact EI: StdDev. x \t Approx EI: StdDev. x \n",
            "init\t [-4.12125592  2.6751971 ]\t 31.298109376682206\t 22.814458446152262\t    \t    \n",
            "init\t [-2.59135515 -3.70553152]\t 34.17704923320956\t 22.814458446152262\t    \t    \n",
            "init\t [-1.72598719 -4.27008445]\t 39.4462742815243\t 22.814458446152262\t    \t    \n",
            "init\t [1.76104531 3.13952049]\t 22.814458446152262\t 22.814458446152262\t    \t    \n",
            "init\t [4.9432772  1.38916592]\t 28.295553455390152\t 22.814458446152262\t    \t    \n",
            "1  \t [ 4.82667719 -3.73099312]\t 51.13743209688758\t 22.814458446152262\t 3.4513529092014785\t 4.589131028028589\n",
            "\u001b[1m\u001b[92m2\u001b[0m\t \u001b[1m\u001b[92m[-0.88068028  0.08134902]\u001b[0m\t \u001b[1m\u001b[92m0.7888330757079672\u001b[0m\t \u001b[1m\u001b[92m0.7888330757079672\u001b[0m\t \u001b[1m\u001b[92m4.076574730412819\u001b[0m\t \u001b[1m\u001b[92m3.837125947206755\u001b[0m\n",
            "3  \t [5.12 5.12]\t 78.64320000000001\t 0.7888330757079672\t 3.4390683119261056\t 3.191820875666437\n",
            "4  \t [-5.12       -1.18501843]\t 29.022937359837208\t 0.7888330757079672\t 3.024198829032659\t 3.228615543326342\n",
            "5  \t [ 1.45315185 -0.97755119]\t 4.022862961377536\t 0.7888330757079672\t 2.552473630829064\t 2.5831605436474963\n",
            "6  \t [-1.31656727  5.12      ]\t 54.16214936584562\t 0.7888330757079672\t 3.340819149692984\t 3.463998130139457\n",
            "7  \t [-5.12 -5.12]\t 78.64320000000001\t 0.7888330757079672\t 2.9239690983251587\t 3.042792617403688\n",
            "8  \t [ 1.48625581 -4.98566492]\t 51.922665764083234\t 0.7888330757079672\t 2.5777670034100217\t 2.867436267805655\n",
            "9  \t [-1.12630392  1.49362181]\t 5.73037273223318\t 0.7888330757079672\t 2.583904254027373\t 2.6829452744013356\n",
            "10 \t [-1.08000165 -0.9083028 ]\t 2.8164315269966584\t 0.7888330757079672\t 3.0153894889136352\t 2.940687340886755\n",
            "11 \t [ 2.89321201 -0.42754629]\t 8.736267419924125\t 0.7888330757079672\t 2.458392439053938\t 2.421596801770011\n",
            "12 \t [-2.22132384 -0.49372568]\t 5.421809707805304\t 0.7888330757079672\t 2.7231474105847253\t 2.7968187381297134\n",
            "\u001b[1m\u001b[92m13\u001b[0m\t \u001b[1m\u001b[92m[ 0.19096442 -0.44108395]\u001b[0m\t \u001b[1m\u001b[92m0.42557750230031527\u001b[0m\t \u001b[1m\u001b[92m0.42557750230031527\u001b[0m\t \u001b[1m\u001b[92m2.8894048795367446\u001b[0m\t \u001b[1m\u001b[92m3.0088934282882143\u001b[0m\n",
            "\u001b[1m\u001b[92m14\u001b[0m\t \u001b[1m\u001b[92m[0.32550323 0.07772213]\u001b[0m\t \u001b[1m\u001b[92m0.11803381407908117\u001b[0m\t \u001b[1m\u001b[92m0.11803381407908117\u001b[0m\t \u001b[1m\u001b[92m2.669505484259949\u001b[0m\t \u001b[1m\u001b[92m2.4317645680960003\u001b[0m\n",
            "15 \t [0.21995205 0.32957258]\t 0.26561507865617423\t 0.11803381407908117\t 2.7087617325143625\t 2.9352976100290444\n",
            "16 \t [0.2078803  0.38435669]\t 0.3386743462695476\t 0.11803381407908117\t 2.6455580906415217\t 2.3950490886257847\n",
            "\u001b[1m\u001b[92m17\u001b[0m\t \u001b[1m\u001b[92m[0.28050132 0.00831077]\u001b[0m\t \u001b[1m\u001b[92m0.07881912884075376\u001b[0m\t \u001b[1m\u001b[92m0.07881912884075376\u001b[0m\t \u001b[1m\u001b[92m2.709717970818535\u001b[0m\t \u001b[1m\u001b[92m2.7936468887515464\u001b[0m\n",
            "18 \t [-0.04400536  0.96671663]\t 1.871018556000851\t 0.07881912884075376\t 2.912869561967665\t 2.7335434789746182\n",
            "\u001b[1m\u001b[92m19\u001b[0m\t \u001b[1m\u001b[92m[0.13095629 0.00612856]\u001b[0m\t \u001b[1m\u001b[92m0.017224667023412778\u001b[0m\t \u001b[1m\u001b[92m0.017224667023412778\u001b[0m\t \u001b[1m\u001b[92m2.4299970890871956\u001b[0m\t \u001b[1m\u001b[92m2.484715433675349\u001b[0m\n",
            "20 \t [ 0.14901438 -0.73754978]\t 1.110164656577102\t 0.017224667023412778\t 2.684157443788901\t 2.754760747490991\n"
          ]
        }
      ],
      "source": [
        "### EXACT GP EI GRADIENTS\n",
        "\n",
        "np.random.seed(run_num_19)\n",
        "surrogate_exact_19 = dGaussianProcess(cov_func, optimize=opt)\n",
        "\n",
        "exact_19 = dGPGO(surrogate_exact_19, Acquisition_grad(util), objfunc, param)\n",
        "exact_19.run(init_evals=n_init, max_iter=iters)\n"
      ]
    },
    {
      "cell_type": "code",
      "execution_count": 53,
      "metadata": {
        "id": "aw3xvSryIwDi",
        "colab": {
          "base_uri": "https://localhost:8080/"
        },
        "outputId": "6b645b50-7bb6-4269-b15a-17a01ab2cf50"
      },
      "outputs": [
        {
          "output_type": "stream",
          "name": "stdout",
          "text": [
            "Evaluation \t Proposed point \t  Current eval. \t  Best eval. \t        Exact EI: StdDev. x \t Approx EI: StdDev. x \n",
            "init\t [0.9024594  4.07258857]\t 33.98638835688907\t 1.615187047660523\t    \t    \n",
            "init\t [4.00927467 3.23417577]\t 36.994069169927414\t 1.615187047660523\t    \t    \n",
            "init\t [-4.75249064  1.96359764]\t 30.297598676217497\t 1.615187047660523\t    \t    \n",
            "init\t [-1.24230715  0.18955208]\t 1.615187047660523\t 1.615187047660523\t    \t    \n",
            "init\t [ 1.61742301 -3.13497377]\t 22.27217824772924\t 1.615187047660523\t    \t    \n",
            "1  \t [-3.73124233 -5.12      ]\t 66.35096932954521\t 1.615187047660523\t 2.9592848905706246\t 2.8636010936681755\n",
            "2  \t [ 5.12       -1.00299666]\t 28.22640459558733\t 1.615187047660523\t 2.7529317336889503\t 3.5789598992602683\n",
            "3  \t [1.4218861  0.40795045]\t 2.3546072162223264\t 1.615187047660523\t 2.652461525515539\t 2.8272726241317296\n",
            "4  \t [-2.7112628  5.12     ]\t 59.77974595129713\t 1.615187047660523\t 3.137576723778746\t 3.408811381960788\n",
            "5  \t [-4.20379857 -1.46219823]\t 21.947969747309262\t 1.615187047660523\t 2.7789238609573803\t 3.0094963842902485\n",
            "6  \t [ 4.53656619 -4.58958453]\t 62.709005094456565\t 1.615187047660523\t 3.162295342295965\t 3.7183572603952495\n",
            "7  \t [-0.45328198 -5.12      ]\t 52.63426454994734\t 1.615187047660523\t 3.2874747566592335\t 3.2186741560684955\n",
            "8  \t [-1.41213908  1.78376183]\t 8.357749337503389\t 1.615187047660523\t 2.9922858447411995\t 2.991098784885164\n",
            "9  \t [-0.99122595 -1.39475774]\t 4.873227207605211\t 1.615187047660523\t 2.8240325392996364\t 2.789357921110493\n",
            "10 \t [2.63113039 0.35947974]\t 7.181298471237765\t 1.615187047660523\t 2.9124534807012927\t 2.7745124890658177\n",
            "\u001b[1m\u001b[92m11\u001b[0m\t \u001b[1m\u001b[92m[0.2999834  0.22298134]\u001b[0m\t \u001b[1m\u001b[92m0.18943139875175988\u001b[0m\t \u001b[1m\u001b[92m0.18943139875175988\u001b[0m\t \u001b[1m\u001b[92m3.0407919145629907\u001b[0m\t \u001b[1m\u001b[92m2.881347721862417\u001b[0m\n",
            "12 \t [ 0.67051027 -0.48410205]\t 0.9182936045321617\t 0.18943139875175988\t 3.5676564378997213\t 3.0929469717823443\n",
            "13 \t [5.12 5.12]\t 78.64320000000001\t 0.18943139875175988\t 3.4509391744639486\t 3.5001532152934\n",
            "14 \t [0.17791018 1.31629245]\t 3.4969036574758716\t 0.18943139875175988\t 2.595393992054214\t 2.73797573287639\n",
            "15 \t [ 0.64905062 -0.50222133]\t 0.9257192307678893\t 0.18943139875175988\t 2.599001230642505\t 2.36419216723521\n",
            "\u001b[1m\u001b[92m16\u001b[0m\t \u001b[1m\u001b[92m[-0.15207019  0.13100715]\u001b[0m\t \u001b[1m\u001b[92m0.05745108959925947\u001b[0m\t \u001b[1m\u001b[92m0.05745108959925947\u001b[0m\t \u001b[1m\u001b[92m2.6959686966587566\u001b[0m\t \u001b[1m\u001b[92m2.5910156067876975\u001b[0m\n",
            "\u001b[1m\u001b[92m17\u001b[0m\t \u001b[1m\u001b[92m[-0.06837494  0.07530723]\u001b[0m\t \u001b[1m\u001b[92m0.01601748932043489\u001b[0m\t \u001b[1m\u001b[92m0.01601748932043489\u001b[0m\t \u001b[1m\u001b[92m2.858720164426622\u001b[0m\t \u001b[1m\u001b[92m2.677022367507474\u001b[0m\n",
            "18 \t [ 0.29996821 -0.20943011]\t 0.17770286543865432\t 0.01601748932043489\t 2.9947712850915242\t 3.1610556015291356\n",
            "19 \t [ 0.48476599 -0.39607343]\t 0.5487463806181774\t 0.01601748932043489\t 2.8941854223321553\t 2.6839223271972767\n",
            "20 \t [ 0.14843033 -0.07965281]\t 0.03472070407297882\t 0.01601748932043489\t 2.413183951862844\t 2.713276777062435\n"
          ]
        }
      ],
      "source": [
        "### EXACT GP EI GRADIENTS\n",
        "\n",
        "np.random.seed(run_num_20)\n",
        "surrogate_exact_20 = dGaussianProcess(cov_func, optimize=opt)\n",
        "\n",
        "exact_20 = dGPGO(surrogate_exact_20, Acquisition_grad(util), objfunc, param)\n",
        "exact_20.run(init_evals=n_init, max_iter=iters)\n"
      ]
    },
    {
      "cell_type": "code",
      "execution_count": 54,
      "metadata": {
        "id": "5c8szjivRPme",
        "colab": {
          "base_uri": "https://localhost:8080/"
        },
        "outputId": "bf716423-6dc9-4ce5-eb36-3404c8cca594"
      },
      "outputs": [
        {
          "output_type": "execute_result",
          "data": {
            "text/plain": [
              "825.4098610877991"
            ]
          },
          "metadata": {},
          "execution_count": 54
        }
      ],
      "source": [
        "end_exact = time.time()\n",
        "end_exact\n",
        "\n",
        "time_exact = end_exact - start_exact\n",
        "time_exact\n"
      ]
    },
    {
      "cell_type": "code",
      "execution_count": 55,
      "metadata": {
        "id": "f6gCKnp6RR8c",
        "colab": {
          "base_uri": "https://localhost:8080/"
        },
        "outputId": "79721631-b298-4e1b-f4af-83df305d9226"
      },
      "outputs": [
        {
          "output_type": "execute_result",
          "data": {
            "text/plain": [
              "(-4.546589964062775, -2.705497284074419)"
            ]
          },
          "metadata": {},
          "execution_count": 55
        }
      ],
      "source": [
        "### Simple regret minimization: run number = 1\n",
        "\n",
        "approx_output_1 = np.append(np.min(-approx_1.GP.y[0:n_init]),-approx_1.GP.y[n_init:(n_init+iters)]) \n",
        "exact_output_1 = np.append(np.min(-exact_1.GP.y[0:n_init]),-exact_1.GP.y[n_init:(n_init+iters)]) \n",
        "\n",
        "regret_approx_1 = np.log(approx_output_1 - y_global_orig)\n",
        "regret_exact_1 = np.log(exact_output_1 - y_global_orig)\n",
        "\n",
        "simple_regret_approx_1 = min_max_array(regret_approx_1)\n",
        "simple_regret_exact_1 = min_max_array(regret_exact_1)\n",
        "\n",
        "min_simple_regret_approx_1 = min(simple_regret_approx_1)\n",
        "min_simple_regret_exact_1 = min(simple_regret_exact_1)\n",
        "\n",
        "min_simple_regret_approx_1, min_simple_regret_exact_1\n"
      ]
    },
    {
      "cell_type": "code",
      "execution_count": 56,
      "metadata": {
        "id": "94yBw5tqQxfk",
        "colab": {
          "base_uri": "https://localhost:8080/"
        },
        "outputId": "6fc466b0-2a21-4d7c-9eb4-881bde558348"
      },
      "outputs": [
        {
          "output_type": "execute_result",
          "data": {
            "text/plain": [
              "(-3.0452393830364346, -4.500018005065547)"
            ]
          },
          "metadata": {},
          "execution_count": 56
        }
      ],
      "source": [
        "### Simple regret minimization: run number = 2\n",
        "\n",
        "approx_output_2 = np.append(np.min(-approx_2.GP.y[0:n_init]),-approx_2.GP.y[n_init:(n_init+iters)]) \n",
        "exact_output_2 = np.append(np.min(-exact_2.GP.y[0:n_init]),-exact_2.GP.y[n_init:(n_init+iters)]) \n",
        "\n",
        "regret_approx_2 = np.log(approx_output_2 - y_global_orig)\n",
        "regret_exact_2 = np.log(exact_output_2 - y_global_orig)\n",
        "\n",
        "simple_regret_approx_2 = min_max_array(regret_approx_2)\n",
        "simple_regret_exact_2 = min_max_array(regret_exact_2)\n",
        "\n",
        "min_simple_regret_approx_2 = min(simple_regret_approx_2)\n",
        "min_simple_regret_exact_2 = min(simple_regret_exact_2)\n",
        "\n",
        "min_simple_regret_approx_2, min_simple_regret_exact_2\n"
      ]
    },
    {
      "cell_type": "code",
      "execution_count": 57,
      "metadata": {
        "id": "Bu6SBWALQxfl",
        "colab": {
          "base_uri": "https://localhost:8080/"
        },
        "outputId": "b4653cbf-a031-4455-cc81-429812574229"
      },
      "outputs": [
        {
          "output_type": "execute_result",
          "data": {
            "text/plain": [
              "(-3.850207874676128, -3.880580085494919)"
            ]
          },
          "metadata": {},
          "execution_count": 57
        }
      ],
      "source": [
        "### Simple regret minimization: run number = 3\n",
        "\n",
        "approx_output_3 = np.append(np.min(-approx_3.GP.y[0:n_init]),-approx_3.GP.y[n_init:(n_init+iters)]) \n",
        "exact_output_3 = np.append(np.min(-exact_3.GP.y[0:n_init]),-exact_3.GP.y[n_init:(n_init+iters)]) \n",
        "\n",
        "regret_approx_3 = np.log(approx_output_3 - y_global_orig)\n",
        "regret_exact_3 = np.log(exact_output_3 - y_global_orig)\n",
        "\n",
        "simple_regret_approx_3 = min_max_array(regret_approx_3)\n",
        "simple_regret_exact_3 = min_max_array(regret_exact_3)\n",
        "\n",
        "min_simple_regret_approx_3 = min(simple_regret_approx_3)\n",
        "min_simple_regret_exact_3 = min(simple_regret_exact_3)\n",
        "\n",
        "min_simple_regret_approx_3, min_simple_regret_exact_3"
      ]
    },
    {
      "cell_type": "code",
      "execution_count": 58,
      "metadata": {
        "id": "AZm0jgxkQxfm",
        "colab": {
          "base_uri": "https://localhost:8080/"
        },
        "outputId": "2c81ce15-45dc-41db-dba3-17b9ccf55985"
      },
      "outputs": [
        {
          "output_type": "execute_result",
          "data": {
            "text/plain": [
              "(-3.7587434330229303, -3.4882898766269252)"
            ]
          },
          "metadata": {},
          "execution_count": 58
        }
      ],
      "source": [
        "### Simple regret minimization: run number = 4\n",
        "\n",
        "approx_output_4 = np.append(np.min(-approx_4.GP.y[0:n_init]),-approx_4.GP.y[n_init:(n_init+iters)]) \n",
        "exact_output_4 = np.append(np.min(-exact_4.GP.y[0:n_init]),-exact_4.GP.y[n_init:(n_init+iters)]) \n",
        "\n",
        "regret_approx_4 = np.log(approx_output_4 - y_global_orig)\n",
        "regret_exact_4 = np.log(exact_output_4 - y_global_orig)\n",
        "\n",
        "simple_regret_approx_4 = min_max_array(regret_approx_4)\n",
        "simple_regret_exact_4 = min_max_array(regret_exact_4)\n",
        "\n",
        "min_simple_regret_approx_4 = min(simple_regret_approx_4)\n",
        "min_simple_regret_exact_4 = min(simple_regret_exact_4)\n",
        "\n",
        "min_simple_regret_approx_4, min_simple_regret_exact_4"
      ]
    },
    {
      "cell_type": "code",
      "execution_count": 59,
      "metadata": {
        "id": "NONPm8JIQxfn",
        "colab": {
          "base_uri": "https://localhost:8080/"
        },
        "outputId": "247c377c-9422-4fd7-bb51-79912204bade"
      },
      "outputs": [
        {
          "output_type": "execute_result",
          "data": {
            "text/plain": [
              "(-0.725209042160177, -0.918055330481993)"
            ]
          },
          "metadata": {},
          "execution_count": 59
        }
      ],
      "source": [
        "### Simple regret minimization: run number = 5\n",
        "\n",
        "approx_output_5 = np.append(np.min(-approx_5.GP.y[0:n_init]),-approx_5.GP.y[n_init:(n_init+iters)]) \n",
        "exact_output_5 = np.append(np.min(-exact_5.GP.y[0:n_init]),-exact_5.GP.y[n_init:(n_init+iters)]) \n",
        "\n",
        "regret_approx_5 = np.log(approx_output_5 - y_global_orig)\n",
        "regret_exact_5 = np.log(exact_output_5 - y_global_orig)\n",
        "\n",
        "simple_regret_approx_5 = min_max_array(regret_approx_5)\n",
        "simple_regret_exact_5 = min_max_array(regret_exact_5)\n",
        "\n",
        "min_simple_regret_approx_5 = min(simple_regret_approx_5)\n",
        "min_simple_regret_exact_5 = min(simple_regret_exact_5)\n",
        "\n",
        "min_simple_regret_approx_5, min_simple_regret_exact_5"
      ]
    },
    {
      "cell_type": "code",
      "execution_count": 60,
      "metadata": {
        "id": "CJv3lPuSQxfp",
        "colab": {
          "base_uri": "https://localhost:8080/"
        },
        "outputId": "39389830-c0bb-4220-fc9e-d50020b6d9a7"
      },
      "outputs": [
        {
          "output_type": "execute_result",
          "data": {
            "text/plain": [
              "(-1.778727660619708, -5.302046709930412)"
            ]
          },
          "metadata": {},
          "execution_count": 60
        }
      ],
      "source": [
        "### Simple regret minimization: run number = 6\n",
        "\n",
        "approx_output_6 = np.append(np.min(-approx_6.GP.y[0:n_init]),-approx_6.GP.y[n_init:(n_init+iters)]) \n",
        "exact_output_6 = np.append(np.min(-exact_6.GP.y[0:n_init]),-exact_6.GP.y[n_init:(n_init+iters)]) \n",
        "\n",
        "regret_approx_6 = np.log(approx_output_6 - y_global_orig)\n",
        "regret_exact_6 = np.log(exact_output_6 - y_global_orig)\n",
        "\n",
        "simple_regret_approx_6 = min_max_array(regret_approx_6)\n",
        "simple_regret_exact_6 = min_max_array(regret_exact_6)\n",
        "\n",
        "min_simple_regret_approx_6 = min(simple_regret_approx_6)\n",
        "min_simple_regret_exact_6 = min(simple_regret_exact_6)\n",
        "\n",
        "min_simple_regret_approx_6, min_simple_regret_exact_6"
      ]
    },
    {
      "cell_type": "code",
      "execution_count": 61,
      "metadata": {
        "id": "quR2ZyApQxfq",
        "colab": {
          "base_uri": "https://localhost:8080/"
        },
        "outputId": "65f7b8ec-e0f9-4b72-ed6d-c6d3d26f85d7"
      },
      "outputs": [
        {
          "output_type": "execute_result",
          "data": {
            "text/plain": [
              "(-3.6921829445962553, -4.19406652640337)"
            ]
          },
          "metadata": {},
          "execution_count": 61
        }
      ],
      "source": [
        "### Simple regret minimization: run number = 7\n",
        "\n",
        "approx_output_7 = np.append(np.min(-approx_7.GP.y[0:n_init]),-approx_7.GP.y[n_init:(n_init+iters)]) \n",
        "exact_output_7 = np.append(np.min(-exact_7.GP.y[0:n_init]),-exact_7.GP.y[n_init:(n_init+iters)]) \n",
        "\n",
        "regret_approx_7 = np.log(approx_output_7 - y_global_orig)\n",
        "regret_exact_7 = np.log(exact_output_7 - y_global_orig)\n",
        "\n",
        "simple_regret_approx_7 = min_max_array(regret_approx_7)\n",
        "simple_regret_exact_7 = min_max_array(regret_exact_7)\n",
        "\n",
        "min_simple_regret_approx_7 = min(simple_regret_approx_7)\n",
        "min_simple_regret_exact_7 = min(simple_regret_exact_7)\n",
        "\n",
        "min_simple_regret_approx_7, min_simple_regret_exact_7"
      ]
    },
    {
      "cell_type": "code",
      "execution_count": 62,
      "metadata": {
        "id": "99wY5nK6Qxfr",
        "colab": {
          "base_uri": "https://localhost:8080/"
        },
        "outputId": "396b6b9b-e880-477a-cab0-49c6d7ef5c43"
      },
      "outputs": [
        {
          "output_type": "execute_result",
          "data": {
            "text/plain": [
              "(-1.88498967264663, -4.774315184129395)"
            ]
          },
          "metadata": {},
          "execution_count": 62
        }
      ],
      "source": [
        "### Simple regret minimization: run number = 8\n",
        "\n",
        "approx_output_8 = np.append(np.min(-approx_8.GP.y[0:n_init]),-approx_8.GP.y[n_init:(n_init+iters)]) \n",
        "exact_output_8 = np.append(np.min(-exact_8.GP.y[0:n_init]),-exact_8.GP.y[n_init:(n_init+iters)]) \n",
        "\n",
        "regret_approx_8 = np.log(approx_output_8 - y_global_orig)\n",
        "regret_exact_8 = np.log(exact_output_8 - y_global_orig)\n",
        "\n",
        "simple_regret_approx_8 = min_max_array(regret_approx_8)\n",
        "simple_regret_exact_8 = min_max_array(regret_exact_8)\n",
        "\n",
        "min_simple_regret_approx_8 = min(simple_regret_approx_8)\n",
        "min_simple_regret_exact_8 = min(simple_regret_exact_8)\n",
        "\n",
        "min_simple_regret_approx_8, min_simple_regret_exact_8"
      ]
    },
    {
      "cell_type": "code",
      "execution_count": 63,
      "metadata": {
        "id": "qt0P5t9qQxfs",
        "colab": {
          "base_uri": "https://localhost:8080/"
        },
        "outputId": "73d25937-b201-44da-bd18-cf5f6dba3d51"
      },
      "outputs": [
        {
          "output_type": "execute_result",
          "data": {
            "text/plain": [
              "(-1.1967745099811824, -2.3108757340616597)"
            ]
          },
          "metadata": {},
          "execution_count": 63
        }
      ],
      "source": [
        "### Simple regret minimization: run number = 9\n",
        "\n",
        "approx_output_9 = np.append(np.min(-approx_9.GP.y[0:n_init]),-approx_9.GP.y[n_init:(n_init+iters)]) \n",
        "exact_output_9 = np.append(np.min(-exact_9.GP.y[0:n_init]),-exact_9.GP.y[n_init:(n_init+iters)]) \n",
        "\n",
        "regret_approx_9 = np.log(approx_output_9 - y_global_orig)\n",
        "regret_exact_9 = np.log(exact_output_9 - y_global_orig)\n",
        "\n",
        "simple_regret_approx_9 = min_max_array(regret_approx_9)\n",
        "simple_regret_exact_9 = min_max_array(regret_exact_9)\n",
        "\n",
        "min_simple_regret_approx_9 = min(simple_regret_approx_9)\n",
        "min_simple_regret_exact_9 = min(simple_regret_exact_9)\n",
        "\n",
        "min_simple_regret_approx_9, min_simple_regret_exact_9"
      ]
    },
    {
      "cell_type": "code",
      "execution_count": 64,
      "metadata": {
        "id": "vx8to9stQxft",
        "colab": {
          "base_uri": "https://localhost:8080/"
        },
        "outputId": "35f41763-a58d-43b9-d83c-a83a02850c91"
      },
      "outputs": [
        {
          "output_type": "execute_result",
          "data": {
            "text/plain": [
              "(-4.156347123025543, -4.528050974998352)"
            ]
          },
          "metadata": {},
          "execution_count": 64
        }
      ],
      "source": [
        "### Simple regret minimization: run number = 10\n",
        "\n",
        "approx_output_10 = np.append(np.min(-approx_10.GP.y[0:n_init]),-approx_10.GP.y[n_init:(n_init+iters)]) \n",
        "exact_output_10 = np.append(np.min(-exact_10.GP.y[0:n_init]),-exact_10.GP.y[n_init:(n_init+iters)]) \n",
        "\n",
        "regret_approx_10 = np.log(approx_output_10 - y_global_orig)\n",
        "regret_exact_10 = np.log(exact_output_10 - y_global_orig)\n",
        "\n",
        "simple_regret_approx_10 = min_max_array(regret_approx_10)\n",
        "simple_regret_exact_10 = min_max_array(regret_exact_10)\n",
        "\n",
        "min_simple_regret_approx_10 = min(simple_regret_approx_10)\n",
        "min_simple_regret_exact_10 = min(simple_regret_exact_10)\n",
        "\n",
        "min_simple_regret_approx_10, min_simple_regret_exact_10"
      ]
    },
    {
      "cell_type": "code",
      "execution_count": 65,
      "metadata": {
        "id": "d-FGzWyHQxfu",
        "colab": {
          "base_uri": "https://localhost:8080/"
        },
        "outputId": "dfa9c8ca-9426-4e2b-ef5b-c28dfca9bb12"
      },
      "outputs": [
        {
          "output_type": "execute_result",
          "data": {
            "text/plain": [
              "(-2.5762553680112132, -7.52561352293713)"
            ]
          },
          "metadata": {},
          "execution_count": 65
        }
      ],
      "source": [
        "### Simple regret minimization: run number = 11\n",
        "\n",
        "approx_output_11 = np.append(np.min(-approx_11.GP.y[0:n_init]),-approx_11.GP.y[n_init:(n_init+iters)]) \n",
        "exact_output_11 = np.append(np.min(-exact_11.GP.y[0:n_init]),-exact_11.GP.y[n_init:(n_init+iters)]) \n",
        "\n",
        "regret_approx_11 = np.log(approx_output_11 - y_global_orig)\n",
        "regret_exact_11 = np.log(exact_output_11 - y_global_orig)\n",
        "\n",
        "simple_regret_approx_11 = min_max_array(regret_approx_11)\n",
        "simple_regret_exact_11 = min_max_array(regret_exact_11)\n",
        "\n",
        "min_simple_regret_approx_11 = min(simple_regret_approx_11)\n",
        "min_simple_regret_exact_11 = min(simple_regret_exact_11)\n",
        "\n",
        "min_simple_regret_approx_11, min_simple_regret_exact_11"
      ]
    },
    {
      "cell_type": "code",
      "execution_count": 66,
      "metadata": {
        "id": "SvtsssyjQxfv",
        "colab": {
          "base_uri": "https://localhost:8080/"
        },
        "outputId": "eac29116-e349-42b3-c6ae-ae21c50d91e7"
      },
      "outputs": [
        {
          "output_type": "execute_result",
          "data": {
            "text/plain": [
              "(-1.792414928742475, -2.343825190219305)"
            ]
          },
          "metadata": {},
          "execution_count": 66
        }
      ],
      "source": [
        "### Simple regret minimization: run number = 12\n",
        "\n",
        "approx_output_12 = np.append(np.min(-approx_12.GP.y[0:n_init]),-approx_12.GP.y[n_init:(n_init+iters)]) \n",
        "exact_output_12 = np.append(np.min(-exact_12.GP.y[0:n_init]),-exact_12.GP.y[n_init:(n_init+iters)]) \n",
        "\n",
        "regret_approx_12 = np.log(approx_output_12 - y_global_orig)\n",
        "regret_exact_12 = np.log(exact_output_12 - y_global_orig)\n",
        "\n",
        "simple_regret_approx_12 = min_max_array(regret_approx_12)\n",
        "simple_regret_exact_12 = min_max_array(regret_exact_12)\n",
        "\n",
        "min_simple_regret_approx_12 = min(simple_regret_approx_12)\n",
        "min_simple_regret_exact_12 = min(simple_regret_exact_12)\n",
        "\n",
        "min_simple_regret_approx_12, min_simple_regret_exact_12"
      ]
    },
    {
      "cell_type": "code",
      "execution_count": 67,
      "metadata": {
        "id": "K6OiGcHkQxfw",
        "colab": {
          "base_uri": "https://localhost:8080/"
        },
        "outputId": "b9cdf8cc-2890-4e0a-d3ba-5836bfba5974"
      },
      "outputs": [
        {
          "output_type": "execute_result",
          "data": {
            "text/plain": [
              "(-0.8847228216928925, -6.62754895424942)"
            ]
          },
          "metadata": {},
          "execution_count": 67
        }
      ],
      "source": [
        "### Simple regret minimization: run number = 13\n",
        "\n",
        "approx_output_13 = np.append(np.min(-approx_13.GP.y[0:n_init]),-approx_13.GP.y[n_init:(n_init+iters)]) \n",
        "exact_output_13 = np.append(np.min(-exact_13.GP.y[0:n_init]),-exact_13.GP.y[n_init:(n_init+iters)]) \n",
        "\n",
        "regret_approx_13 = np.log(approx_output_13 - y_global_orig)\n",
        "regret_exact_13 = np.log(exact_output_13 - y_global_orig)\n",
        "\n",
        "simple_regret_approx_13 = min_max_array(regret_approx_13)\n",
        "simple_regret_exact_13 = min_max_array(regret_exact_13)\n",
        "\n",
        "min_simple_regret_approx_13 = min(simple_regret_approx_13)\n",
        "min_simple_regret_exact_13 = min(simple_regret_exact_13)\n",
        "\n",
        "min_simple_regret_approx_13, min_simple_regret_exact_13"
      ]
    },
    {
      "cell_type": "code",
      "execution_count": 68,
      "metadata": {
        "id": "ogML73shQxfx",
        "colab": {
          "base_uri": "https://localhost:8080/"
        },
        "outputId": "da3a2361-6b10-49bc-a6d7-f24089f1aa9d"
      },
      "outputs": [
        {
          "output_type": "execute_result",
          "data": {
            "text/plain": [
              "(-3.8174715641420183, -3.717659859318177)"
            ]
          },
          "metadata": {},
          "execution_count": 68
        }
      ],
      "source": [
        "### Simple regret minimization: run number = 14\n",
        "\n",
        "approx_output_14 = np.append(np.min(-approx_14.GP.y[0:n_init]),-approx_14.GP.y[n_init:(n_init+iters)]) \n",
        "exact_output_14 = np.append(np.min(-exact_14.GP.y[0:n_init]),-exact_14.GP.y[n_init:(n_init+iters)]) \n",
        "\n",
        "regret_approx_14 = np.log(approx_output_14 - y_global_orig)\n",
        "regret_exact_14 = np.log(exact_output_14 - y_global_orig)\n",
        "\n",
        "simple_regret_approx_14 = min_max_array(regret_approx_14)\n",
        "simple_regret_exact_14 = min_max_array(regret_exact_14)\n",
        "\n",
        "min_simple_regret_approx_14 = min(simple_regret_approx_14)\n",
        "min_simple_regret_exact_14 = min(simple_regret_exact_14)\n",
        "\n",
        "min_simple_regret_approx_14, min_simple_regret_exact_14"
      ]
    },
    {
      "cell_type": "code",
      "execution_count": 69,
      "metadata": {
        "id": "9Eg7gFT9Qxfx",
        "colab": {
          "base_uri": "https://localhost:8080/"
        },
        "outputId": "aab03fbe-0aee-47b4-cb5b-23d855bad980"
      },
      "outputs": [
        {
          "output_type": "execute_result",
          "data": {
            "text/plain": [
              "(-1.1323788769319318, -5.046368892772576)"
            ]
          },
          "metadata": {},
          "execution_count": 69
        }
      ],
      "source": [
        "### Simple regret minimization: run number = 15\n",
        "\n",
        "approx_output_15 = np.append(np.min(-approx_15.GP.y[0:n_init]),-approx_15.GP.y[n_init:(n_init+iters)]) \n",
        "exact_output_15 = np.append(np.min(-exact_15.GP.y[0:n_init]),-exact_15.GP.y[n_init:(n_init+iters)]) \n",
        "\n",
        "regret_approx_15 = np.log(approx_output_15 - y_global_orig)\n",
        "regret_exact_15 = np.log(exact_output_15 - y_global_orig)\n",
        "\n",
        "simple_regret_approx_15 = min_max_array(regret_approx_15)\n",
        "simple_regret_exact_15 = min_max_array(regret_exact_15)\n",
        "\n",
        "min_simple_regret_approx_15 = min(simple_regret_approx_15)\n",
        "min_simple_regret_exact_15 = min(simple_regret_exact_15)\n",
        "\n",
        "min_simple_regret_approx_15, min_simple_regret_exact_15"
      ]
    },
    {
      "cell_type": "code",
      "execution_count": 70,
      "metadata": {
        "id": "lIAC1U7ZQxfy",
        "colab": {
          "base_uri": "https://localhost:8080/"
        },
        "outputId": "7eda81e7-f510-4b0c-b4f4-7b725516c602"
      },
      "outputs": [
        {
          "output_type": "execute_result",
          "data": {
            "text/plain": [
              "(-3.0468561049755514, -2.27558098130439)"
            ]
          },
          "metadata": {},
          "execution_count": 70
        }
      ],
      "source": [
        "### Simple regret minimization: run number = 16\n",
        "\n",
        "approx_output_16 = np.append(np.min(-approx_16.GP.y[0:n_init]),-approx_16.GP.y[n_init:(n_init+iters)]) \n",
        "exact_output_16 = np.append(np.min(-exact_16.GP.y[0:n_init]),-exact_16.GP.y[n_init:(n_init+iters)]) \n",
        "\n",
        "regret_approx_16 = np.log(approx_output_16 - y_global_orig)\n",
        "regret_exact_16 = np.log(exact_output_16 - y_global_orig)\n",
        "\n",
        "simple_regret_approx_16 = min_max_array(regret_approx_16)\n",
        "simple_regret_exact_16 = min_max_array(regret_exact_16)\n",
        "\n",
        "min_simple_regret_approx_16 = min(simple_regret_approx_16)\n",
        "min_simple_regret_exact_16 = min(simple_regret_exact_16)\n",
        "\n",
        "min_simple_regret_approx_16, min_simple_regret_exact_16"
      ]
    },
    {
      "cell_type": "code",
      "execution_count": 71,
      "metadata": {
        "id": "bGott36OQxfz",
        "colab": {
          "base_uri": "https://localhost:8080/"
        },
        "outputId": "a155a180-0a58-4382-8699-ef65c0e40b5e"
      },
      "outputs": [
        {
          "output_type": "execute_result",
          "data": {
            "text/plain": [
              "(-3.068012889790591, -3.9157382602511084)"
            ]
          },
          "metadata": {},
          "execution_count": 71
        }
      ],
      "source": [
        "### Simple regret minimization: run number = 17\n",
        "\n",
        "approx_output_17 = np.append(np.min(-approx_17.GP.y[0:n_init]),-approx_17.GP.y[n_init:(n_init+iters)]) \n",
        "exact_output_17 = np.append(np.min(-exact_17.GP.y[0:n_init]),-exact_17.GP.y[n_init:(n_init+iters)]) \n",
        "\n",
        "regret_approx_17 = np.log(approx_output_17 - y_global_orig)\n",
        "regret_exact_17 = np.log(exact_output_17 - y_global_orig)\n",
        "\n",
        "simple_regret_approx_17 = min_max_array(regret_approx_17)\n",
        "simple_regret_exact_17 = min_max_array(regret_exact_17)\n",
        "\n",
        "min_simple_regret_approx_17 = min(simple_regret_approx_17)\n",
        "min_simple_regret_exact_17 = min(simple_regret_exact_17)\n",
        "\n",
        "min_simple_regret_approx_17, min_simple_regret_exact_17"
      ]
    },
    {
      "cell_type": "code",
      "execution_count": 72,
      "metadata": {
        "id": "Cz9ZYMBMQxfz",
        "colab": {
          "base_uri": "https://localhost:8080/"
        },
        "outputId": "6cbf7ae3-47ef-4ec0-ed6a-236d7d1665fc"
      },
      "outputs": [
        {
          "output_type": "execute_result",
          "data": {
            "text/plain": [
              "(-3.809454725011134, -3.7906080137071845)"
            ]
          },
          "metadata": {},
          "execution_count": 72
        }
      ],
      "source": [
        "### Simple regret minimization: run number = 18\n",
        "\n",
        "approx_output_18 = np.append(np.min(-approx_18.GP.y[0:n_init]),-approx_18.GP.y[n_init:(n_init+iters)]) \n",
        "exact_output_18 = np.append(np.min(-exact_18.GP.y[0:n_init]),-exact_18.GP.y[n_init:(n_init+iters)]) \n",
        "\n",
        "regret_approx_18 = np.log(approx_output_18 - y_global_orig)\n",
        "regret_exact_18 = np.log(exact_output_18 - y_global_orig)\n",
        "\n",
        "simple_regret_approx_18 = min_max_array(regret_approx_18)\n",
        "simple_regret_exact_18 = min_max_array(regret_exact_18)\n",
        "\n",
        "min_simple_regret_approx_18 = min(simple_regret_approx_18)\n",
        "min_simple_regret_exact_18 = min(simple_regret_exact_18)\n",
        "\n",
        "min_simple_regret_approx_18, min_simple_regret_exact_18"
      ]
    },
    {
      "cell_type": "code",
      "execution_count": 73,
      "metadata": {
        "id": "OBfpWOHNQxf0",
        "colab": {
          "base_uri": "https://localhost:8080/"
        },
        "outputId": "86006f0f-079c-46dd-fb61-74c34578cb09"
      },
      "outputs": [
        {
          "output_type": "execute_result",
          "data": {
            "text/plain": [
              "(-4.099401825182643, -4.061412793275776)"
            ]
          },
          "metadata": {},
          "execution_count": 73
        }
      ],
      "source": [
        "### Simple regret minimization: run number = 19\n",
        "\n",
        "approx_output_19 = np.append(np.min(-approx_19.GP.y[0:n_init]),-approx_19.GP.y[n_init:(n_init+iters)]) \n",
        "exact_output_19 = np.append(np.min(-exact_19.GP.y[0:n_init]),-exact_19.GP.y[n_init:(n_init+iters)]) \n",
        "\n",
        "regret_approx_19 = np.log(approx_output_19 - y_global_orig)\n",
        "regret_exact_19 = np.log(exact_output_19 - y_global_orig)\n",
        "\n",
        "simple_regret_approx_19 = min_max_array(regret_approx_19)\n",
        "simple_regret_exact_19 = min_max_array(regret_exact_19)\n",
        "\n",
        "min_simple_regret_approx_19 = min(simple_regret_approx_19)\n",
        "min_simple_regret_exact_19 = min(simple_regret_exact_19)\n",
        "\n",
        "min_simple_regret_approx_19, min_simple_regret_exact_19"
      ]
    },
    {
      "cell_type": "code",
      "execution_count": 74,
      "metadata": {
        "id": "BE1AJ7NsQxf0",
        "colab": {
          "base_uri": "https://localhost:8080/"
        },
        "outputId": "faf6c630-9eb1-4035-f30a-8331f5d798bb"
      },
      "outputs": [
        {
          "output_type": "execute_result",
          "data": {
            "text/plain": [
              "(-3.14431428529001, -4.134074071194888)"
            ]
          },
          "metadata": {},
          "execution_count": 74
        }
      ],
      "source": [
        "### Simple regret minimization: run number = 20\n",
        "\n",
        "approx_output_20 = np.append(np.min(-approx_20.GP.y[0:n_init]),-approx_20.GP.y[n_init:(n_init+iters)]) \n",
        "exact_output_20 = np.append(np.min(-exact_20.GP.y[0:n_init]),-exact_20.GP.y[n_init:(n_init+iters)]) \n",
        "\n",
        "regret_approx_20 = np.log(approx_output_20 - y_global_orig)\n",
        "regret_exact_20 = np.log(exact_output_20 - y_global_orig)\n",
        "\n",
        "simple_regret_approx_20 = min_max_array(regret_approx_20)\n",
        "simple_regret_exact_20 = min_max_array(regret_exact_20)\n",
        "\n",
        "min_simple_regret_approx_20 = min(simple_regret_approx_20)\n",
        "min_simple_regret_exact_20 = min(simple_regret_exact_20)\n",
        "\n",
        "min_simple_regret_approx_20, min_simple_regret_exact_20"
      ]
    },
    {
      "cell_type": "code",
      "execution_count": 75,
      "metadata": {
        "id": "bpX-bKAHQxf1"
      },
      "outputs": [],
      "source": [
        "# Iteration1 :\n",
        "\n",
        "slice1 = 0\n",
        "\n",
        "approx1 = [simple_regret_approx_1[slice1],\n",
        "       simple_regret_approx_2[slice1],\n",
        "       simple_regret_approx_3[slice1],\n",
        "       simple_regret_approx_4[slice1],\n",
        "       simple_regret_approx_5[slice1],\n",
        "       simple_regret_approx_6[slice1],\n",
        "       simple_regret_approx_7[slice1],\n",
        "       simple_regret_approx_8[slice1],\n",
        "       simple_regret_approx_9[slice1],\n",
        "       simple_regret_approx_10[slice1],\n",
        "       simple_regret_approx_11[slice1],\n",
        "       simple_regret_approx_12[slice1],\n",
        "       simple_regret_approx_13[slice1],\n",
        "       simple_regret_approx_14[slice1],\n",
        "       simple_regret_approx_15[slice1],\n",
        "       simple_regret_approx_16[slice1],\n",
        "       simple_regret_approx_17[slice1],\n",
        "       simple_regret_approx_18[slice1],\n",
        "       simple_regret_approx_19[slice1],\n",
        "       simple_regret_approx_20[slice1]]\n",
        "\n",
        "exact1 = [simple_regret_exact_1[slice1],\n",
        "       simple_regret_exact_2[slice1],\n",
        "       simple_regret_exact_3[slice1],\n",
        "       simple_regret_exact_4[slice1],\n",
        "       simple_regret_exact_5[slice1],\n",
        "       simple_regret_exact_6[slice1],\n",
        "       simple_regret_exact_7[slice1],\n",
        "       simple_regret_exact_8[slice1],\n",
        "       simple_regret_exact_9[slice1],\n",
        "       simple_regret_exact_10[slice1],\n",
        "       simple_regret_exact_11[slice1],\n",
        "       simple_regret_exact_12[slice1],\n",
        "       simple_regret_exact_13[slice1],\n",
        "       simple_regret_exact_14[slice1],\n",
        "       simple_regret_exact_15[slice1],\n",
        "       simple_regret_exact_16[slice1],\n",
        "       simple_regret_exact_17[slice1],\n",
        "       simple_regret_exact_18[slice1],\n",
        "       simple_regret_exact_19[slice1],\n",
        "       simple_regret_exact_20[slice1]]\n",
        "\n",
        "approx1_results = pd.DataFrame(approx1).sort_values(by=[0], ascending=False)\n",
        "exact1_results = pd.DataFrame(exact1).sort_values(by=[0], ascending=False)\n",
        "\n",
        "### Best simple regret minimization IQR - approx:\n",
        "lower_approx1 = np.asarray(approx1_results[4:5][0])[0]\n",
        "median_approx1 = np.asarray(approx1_results[9:10][0])[0]\n",
        "upper_approx1 = np.asarray(approx1_results[14:15][0])[0]\n",
        "\n",
        "lower_exact1 = np.asarray(exact1_results[4:5][0])[0]\n",
        "median_exact1 = np.asarray(exact1_results[9:10][0])[0]\n",
        "upper_exact1 = np.asarray(exact1_results[14:15][0])[0]"
      ]
    },
    {
      "cell_type": "code",
      "execution_count": 76,
      "metadata": {
        "id": "CgIkJA1xQxf2"
      },
      "outputs": [],
      "source": [
        "# Iteration11 :\n",
        "\n",
        "slice11 = 10\n",
        "\n",
        "approx11 = [simple_regret_approx_1[slice11],\n",
        "       simple_regret_approx_2[slice11],\n",
        "       simple_regret_approx_3[slice11],\n",
        "       simple_regret_approx_4[slice11],\n",
        "       simple_regret_approx_5[slice11],\n",
        "       simple_regret_approx_6[slice11],\n",
        "       simple_regret_approx_7[slice11],\n",
        "       simple_regret_approx_8[slice11],\n",
        "       simple_regret_approx_9[slice11],\n",
        "       simple_regret_approx_10[slice11],\n",
        "       simple_regret_approx_11[slice11],\n",
        "       simple_regret_approx_12[slice11],\n",
        "       simple_regret_approx_13[slice11],\n",
        "       simple_regret_approx_14[slice11],\n",
        "       simple_regret_approx_15[slice11],\n",
        "       simple_regret_approx_16[slice11],\n",
        "       simple_regret_approx_17[slice11],\n",
        "       simple_regret_approx_18[slice11],\n",
        "       simple_regret_approx_19[slice11],\n",
        "       simple_regret_approx_20[slice11]]\n",
        "\n",
        "exact11 = [simple_regret_exact_1[slice11],\n",
        "       simple_regret_exact_2[slice11],\n",
        "       simple_regret_exact_3[slice11],\n",
        "       simple_regret_exact_4[slice11],\n",
        "       simple_regret_exact_5[slice11],\n",
        "       simple_regret_exact_6[slice11],\n",
        "       simple_regret_exact_7[slice11],\n",
        "       simple_regret_exact_8[slice11],\n",
        "       simple_regret_exact_9[slice11],\n",
        "       simple_regret_exact_10[slice11],\n",
        "       simple_regret_exact_11[slice11],\n",
        "       simple_regret_exact_12[slice11],\n",
        "       simple_regret_exact_13[slice11],\n",
        "       simple_regret_exact_14[slice11],\n",
        "       simple_regret_exact_15[slice11],\n",
        "       simple_regret_exact_16[slice11],\n",
        "       simple_regret_exact_17[slice11],\n",
        "       simple_regret_exact_18[slice11],\n",
        "       simple_regret_exact_19[slice11],\n",
        "       simple_regret_exact_20[slice11]]\n",
        "\n",
        "approx11_results = pd.DataFrame(approx11).sort_values(by=[0], ascending=False)\n",
        "exact11_results = pd.DataFrame(exact11).sort_values(by=[0], ascending=False)\n",
        "\n",
        "### Best simple regret minimization IQR - approx:\n",
        "lower_approx11 = np.asarray(approx11_results[4:5][0])[0]\n",
        "median_approx11 = np.asarray(approx11_results[9:10][0])[0]\n",
        "upper_approx11 = np.asarray(approx11_results[14:15][0])[0]\n",
        "\n",
        "lower_exact11 = np.asarray(exact11_results[4:5][0])[0]\n",
        "median_exact11 = np.asarray(exact11_results[9:10][0])[0]\n",
        "upper_exact11 = np.asarray(exact11_results[14:15][0])[0]"
      ]
    },
    {
      "cell_type": "code",
      "execution_count": 77,
      "metadata": {
        "id": "MFePDfGuQxf2"
      },
      "outputs": [],
      "source": [
        "# Iteration21 :\n",
        "\n",
        "slice21 = 20\n",
        "\n",
        "approx21 = [simple_regret_approx_1[slice21],\n",
        "       simple_regret_approx_2[slice21],\n",
        "       simple_regret_approx_3[slice21],\n",
        "       simple_regret_approx_4[slice21],\n",
        "       simple_regret_approx_5[slice21],\n",
        "       simple_regret_approx_6[slice21],\n",
        "       simple_regret_approx_7[slice21],\n",
        "       simple_regret_approx_8[slice21],\n",
        "       simple_regret_approx_9[slice21],\n",
        "       simple_regret_approx_10[slice21],\n",
        "       simple_regret_approx_11[slice21],\n",
        "       simple_regret_approx_12[slice21],\n",
        "       simple_regret_approx_13[slice21],\n",
        "       simple_regret_approx_14[slice21],\n",
        "       simple_regret_approx_15[slice21],\n",
        "       simple_regret_approx_16[slice21],\n",
        "       simple_regret_approx_17[slice21],\n",
        "       simple_regret_approx_18[slice21],\n",
        "       simple_regret_approx_19[slice21],\n",
        "       simple_regret_approx_20[slice21]]\n",
        "\n",
        "exact21 = [simple_regret_exact_1[slice21],\n",
        "       simple_regret_exact_2[slice21],\n",
        "       simple_regret_exact_3[slice21],\n",
        "       simple_regret_exact_4[slice21],\n",
        "       simple_regret_exact_5[slice21],\n",
        "       simple_regret_exact_6[slice21],\n",
        "       simple_regret_exact_7[slice21],\n",
        "       simple_regret_exact_8[slice21],\n",
        "       simple_regret_exact_9[slice21],\n",
        "       simple_regret_exact_10[slice21],\n",
        "       simple_regret_exact_11[slice21],\n",
        "       simple_regret_exact_12[slice21],\n",
        "       simple_regret_exact_13[slice21],\n",
        "       simple_regret_exact_14[slice21],\n",
        "       simple_regret_exact_15[slice21],\n",
        "       simple_regret_exact_16[slice21],\n",
        "       simple_regret_exact_17[slice21],\n",
        "       simple_regret_exact_18[slice21],\n",
        "       simple_regret_exact_19[slice21],\n",
        "       simple_regret_exact_20[slice21]]\n",
        "\n",
        "approx21_results = pd.DataFrame(approx21).sort_values(by=[0], ascending=False)\n",
        "exact21_results = pd.DataFrame(exact21).sort_values(by=[0], ascending=False)\n",
        "\n",
        "### Best simple regret minimization IQR - approx:\n",
        "lower_approx21 = np.asarray(approx21_results[4:5][0])[0]\n",
        "median_approx21 = np.asarray(approx21_results[9:10][0])[0]\n",
        "upper_approx21 = np.asarray(approx21_results[14:15][0])[0]\n",
        "\n",
        "lower_exact21 = np.asarray(exact21_results[4:5][0])[0]\n",
        "median_exact21 = np.asarray(exact21_results[9:10][0])[0]\n",
        "upper_exact21 = np.asarray(exact21_results[14:15][0])[0]"
      ]
    },
    {
      "cell_type": "code",
      "execution_count": 78,
      "metadata": {
        "id": "PrRDB1kfQxf3"
      },
      "outputs": [],
      "source": [
        "# Iteration2 :\n",
        "\n",
        "slice2 = 1\n",
        "\n",
        "approx2 = [simple_regret_approx_1[slice2],\n",
        "       simple_regret_approx_2[slice2],\n",
        "       simple_regret_approx_3[slice2],\n",
        "       simple_regret_approx_4[slice2],\n",
        "       simple_regret_approx_5[slice2],\n",
        "       simple_regret_approx_6[slice2],\n",
        "       simple_regret_approx_7[slice2],\n",
        "       simple_regret_approx_8[slice2],\n",
        "       simple_regret_approx_9[slice2],\n",
        "       simple_regret_approx_10[slice2],\n",
        "       simple_regret_approx_11[slice2],\n",
        "       simple_regret_approx_12[slice2],\n",
        "       simple_regret_approx_13[slice2],\n",
        "       simple_regret_approx_14[slice2],\n",
        "       simple_regret_approx_15[slice2],\n",
        "       simple_regret_approx_16[slice2],\n",
        "       simple_regret_approx_17[slice2],\n",
        "       simple_regret_approx_18[slice2],\n",
        "       simple_regret_approx_19[slice2],\n",
        "       simple_regret_approx_20[slice2]]\n",
        "\n",
        "exact2 = [simple_regret_exact_1[slice2],\n",
        "       simple_regret_exact_2[slice2],\n",
        "       simple_regret_exact_3[slice2],\n",
        "       simple_regret_exact_4[slice2],\n",
        "       simple_regret_exact_5[slice2],\n",
        "       simple_regret_exact_6[slice2],\n",
        "       simple_regret_exact_7[slice2],\n",
        "       simple_regret_exact_8[slice2],\n",
        "       simple_regret_exact_9[slice2],\n",
        "       simple_regret_exact_10[slice2],\n",
        "       simple_regret_exact_11[slice2],\n",
        "       simple_regret_exact_12[slice2],\n",
        "       simple_regret_exact_13[slice2],\n",
        "       simple_regret_exact_14[slice2],\n",
        "       simple_regret_exact_15[slice2],\n",
        "       simple_regret_exact_16[slice2],\n",
        "       simple_regret_exact_17[slice2],\n",
        "       simple_regret_exact_18[slice2],\n",
        "       simple_regret_exact_19[slice2],\n",
        "       simple_regret_exact_20[slice2]]\n",
        "\n",
        "approx2_results = pd.DataFrame(approx2).sort_values(by=[0], ascending=False)\n",
        "exact2_results = pd.DataFrame(exact2).sort_values(by=[0], ascending=False)\n",
        "\n",
        "### Best simple regret minimization IQR - approx:\n",
        "lower_approx2 = np.asarray(approx2_results[4:5][0])[0]\n",
        "median_approx2 = np.asarray(approx2_results[9:10][0])[0]\n",
        "upper_approx2 = np.asarray(approx2_results[14:15][0])[0]\n",
        "\n",
        "lower_exact2 = np.asarray(exact2_results[4:5][0])[0]\n",
        "median_exact2 = np.asarray(exact2_results[9:10][0])[0]\n",
        "upper_exact2 = np.asarray(exact2_results[14:15][0])[0]"
      ]
    },
    {
      "cell_type": "code",
      "execution_count": 79,
      "metadata": {
        "id": "B8ncJDYeQxf3"
      },
      "outputs": [],
      "source": [
        "# Iteration12 :\n",
        "\n",
        "slice12 = 11\n",
        "\n",
        "approx12 = [simple_regret_approx_1[slice12],\n",
        "       simple_regret_approx_2[slice12],\n",
        "       simple_regret_approx_3[slice12],\n",
        "       simple_regret_approx_4[slice12],\n",
        "       simple_regret_approx_5[slice12],\n",
        "       simple_regret_approx_6[slice12],\n",
        "       simple_regret_approx_7[slice12],\n",
        "       simple_regret_approx_8[slice12],\n",
        "       simple_regret_approx_9[slice12],\n",
        "       simple_regret_approx_10[slice12],\n",
        "       simple_regret_approx_11[slice12],\n",
        "       simple_regret_approx_12[slice12],\n",
        "       simple_regret_approx_13[slice12],\n",
        "       simple_regret_approx_14[slice12],\n",
        "       simple_regret_approx_15[slice12],\n",
        "       simple_regret_approx_16[slice12],\n",
        "       simple_regret_approx_17[slice12],\n",
        "       simple_regret_approx_18[slice12],\n",
        "       simple_regret_approx_19[slice12],\n",
        "       simple_regret_approx_20[slice12]]\n",
        "\n",
        "exact12 = [simple_regret_exact_1[slice12],\n",
        "       simple_regret_exact_2[slice12],\n",
        "       simple_regret_exact_3[slice12],\n",
        "       simple_regret_exact_4[slice12],\n",
        "       simple_regret_exact_5[slice12],\n",
        "       simple_regret_exact_6[slice12],\n",
        "       simple_regret_exact_7[slice12],\n",
        "       simple_regret_exact_8[slice12],\n",
        "       simple_regret_exact_9[slice12],\n",
        "       simple_regret_exact_10[slice12],\n",
        "       simple_regret_exact_11[slice12],\n",
        "       simple_regret_exact_12[slice12],\n",
        "       simple_regret_exact_13[slice12],\n",
        "       simple_regret_exact_14[slice12],\n",
        "       simple_regret_exact_15[slice12],\n",
        "       simple_regret_exact_16[slice12],\n",
        "       simple_regret_exact_17[slice12],\n",
        "       simple_regret_exact_18[slice12],\n",
        "       simple_regret_exact_19[slice12],\n",
        "       simple_regret_exact_20[slice12]]\n",
        "\n",
        "approx12_results = pd.DataFrame(approx12).sort_values(by=[0], ascending=False)\n",
        "exact12_results = pd.DataFrame(exact12).sort_values(by=[0], ascending=False)\n",
        "\n",
        "### Best simple regret minimization IQR - approx:\n",
        "lower_approx12 = np.asarray(approx12_results[4:5][0])[0]\n",
        "median_approx12 = np.asarray(approx12_results[9:10][0])[0]\n",
        "upper_approx12 = np.asarray(approx12_results[14:15][0])[0]\n",
        "\n",
        "lower_exact12 = np.asarray(exact12_results[4:5][0])[0]\n",
        "median_exact12 = np.asarray(exact12_results[9:10][0])[0]\n",
        "upper_exact12 = np.asarray(exact12_results[14:15][0])[0]"
      ]
    },
    {
      "cell_type": "code",
      "execution_count": 80,
      "metadata": {
        "id": "Jn4KpGvcQxf4"
      },
      "outputs": [],
      "source": [
        "# Iteration3 :\n",
        "\n",
        "slice3 = 2\n",
        "\n",
        "approx3 = [simple_regret_approx_1[slice3],\n",
        "       simple_regret_approx_2[slice3],\n",
        "       simple_regret_approx_3[slice3],\n",
        "       simple_regret_approx_4[slice3],\n",
        "       simple_regret_approx_5[slice3],\n",
        "       simple_regret_approx_6[slice3],\n",
        "       simple_regret_approx_7[slice3],\n",
        "       simple_regret_approx_8[slice3],\n",
        "       simple_regret_approx_9[slice3],\n",
        "       simple_regret_approx_10[slice3],\n",
        "       simple_regret_approx_11[slice3],\n",
        "       simple_regret_approx_12[slice3],\n",
        "       simple_regret_approx_13[slice3],\n",
        "       simple_regret_approx_14[slice3],\n",
        "       simple_regret_approx_15[slice3],\n",
        "       simple_regret_approx_16[slice3],\n",
        "       simple_regret_approx_17[slice3],\n",
        "       simple_regret_approx_18[slice3],\n",
        "       simple_regret_approx_19[slice3],\n",
        "       simple_regret_approx_20[slice3]]\n",
        "\n",
        "exact3 = [simple_regret_exact_1[slice3],\n",
        "       simple_regret_exact_2[slice3],\n",
        "       simple_regret_exact_3[slice3],\n",
        "       simple_regret_exact_4[slice3],\n",
        "       simple_regret_exact_5[slice3],\n",
        "       simple_regret_exact_6[slice3],\n",
        "       simple_regret_exact_7[slice3],\n",
        "       simple_regret_exact_8[slice3],\n",
        "       simple_regret_exact_9[slice3],\n",
        "       simple_regret_exact_10[slice3],\n",
        "       simple_regret_exact_11[slice3],\n",
        "       simple_regret_exact_12[slice3],\n",
        "       simple_regret_exact_13[slice3],\n",
        "       simple_regret_exact_14[slice3],\n",
        "       simple_regret_exact_15[slice3],\n",
        "       simple_regret_exact_16[slice3],\n",
        "       simple_regret_exact_17[slice3],\n",
        "       simple_regret_exact_18[slice3],\n",
        "       simple_regret_exact_19[slice3],\n",
        "       simple_regret_exact_20[slice3]]\n",
        "\n",
        "approx3_results = pd.DataFrame(approx3).sort_values(by=[0], ascending=False)\n",
        "exact3_results = pd.DataFrame(exact3).sort_values(by=[0], ascending=False)\n",
        "\n",
        "### Best simple regret minimization IQR - approx:\n",
        "lower_approx3 = np.asarray(approx3_results[4:5][0])[0]\n",
        "median_approx3 = np.asarray(approx3_results[9:10][0])[0]\n",
        "upper_approx3 = np.asarray(approx3_results[14:15][0])[0]\n",
        "\n",
        "lower_exact3 = np.asarray(exact3_results[4:5][0])[0]\n",
        "median_exact3 = np.asarray(exact3_results[9:10][0])[0]\n",
        "upper_exact3 = np.asarray(exact3_results[14:15][0])[0]"
      ]
    },
    {
      "cell_type": "code",
      "execution_count": 81,
      "metadata": {
        "id": "plf83wxrQxf4"
      },
      "outputs": [],
      "source": [
        "# Iteration13 :\n",
        "\n",
        "slice13 = 12\n",
        "\n",
        "approx13 = [simple_regret_approx_1[slice13],\n",
        "       simple_regret_approx_2[slice13],\n",
        "       simple_regret_approx_3[slice13],\n",
        "       simple_regret_approx_4[slice13],\n",
        "       simple_regret_approx_5[slice13],\n",
        "       simple_regret_approx_6[slice13],\n",
        "       simple_regret_approx_7[slice13],\n",
        "       simple_regret_approx_8[slice13],\n",
        "       simple_regret_approx_9[slice13],\n",
        "       simple_regret_approx_10[slice13],\n",
        "       simple_regret_approx_11[slice13],\n",
        "       simple_regret_approx_12[slice13],\n",
        "       simple_regret_approx_13[slice13],\n",
        "       simple_regret_approx_14[slice13],\n",
        "       simple_regret_approx_15[slice13],\n",
        "       simple_regret_approx_16[slice13],\n",
        "       simple_regret_approx_17[slice13],\n",
        "       simple_regret_approx_18[slice13],\n",
        "       simple_regret_approx_19[slice13],\n",
        "       simple_regret_approx_20[slice13]]\n",
        "\n",
        "exact13 = [simple_regret_exact_1[slice13],\n",
        "       simple_regret_exact_2[slice13],\n",
        "       simple_regret_exact_3[slice13],\n",
        "       simple_regret_exact_4[slice13],\n",
        "       simple_regret_exact_5[slice13],\n",
        "       simple_regret_exact_6[slice13],\n",
        "       simple_regret_exact_7[slice13],\n",
        "       simple_regret_exact_8[slice13],\n",
        "       simple_regret_exact_9[slice13],\n",
        "       simple_regret_exact_10[slice13],\n",
        "       simple_regret_exact_11[slice13],\n",
        "       simple_regret_exact_12[slice13],\n",
        "       simple_regret_exact_13[slice13],\n",
        "       simple_regret_exact_14[slice13],\n",
        "       simple_regret_exact_15[slice13],\n",
        "       simple_regret_exact_16[slice13],\n",
        "       simple_regret_exact_17[slice13],\n",
        "       simple_regret_exact_18[slice13],\n",
        "       simple_regret_exact_19[slice13],\n",
        "       simple_regret_exact_20[slice13]]\n",
        "\n",
        "approx13_results = pd.DataFrame(approx13).sort_values(by=[0], ascending=False)\n",
        "exact13_results = pd.DataFrame(exact13).sort_values(by=[0], ascending=False)\n",
        "\n",
        "### Best simple regret minimization IQR - approx:\n",
        "lower_approx13 = np.asarray(approx13_results[4:5][0])[0]\n",
        "median_approx13 = np.asarray(approx13_results[9:10][0])[0]\n",
        "upper_approx13 = np.asarray(approx13_results[14:15][0])[0]\n",
        "\n",
        "lower_exact13 = np.asarray(exact13_results[4:5][0])[0]\n",
        "median_exact13 = np.asarray(exact13_results[9:10][0])[0]\n",
        "upper_exact13 = np.asarray(exact13_results[14:15][0])[0]"
      ]
    },
    {
      "cell_type": "code",
      "execution_count": 82,
      "metadata": {
        "id": "9A7mlVvJQxf5"
      },
      "outputs": [],
      "source": [
        "# Iteration4 :\n",
        "\n",
        "slice4 = 3\n",
        "\n",
        "approx4 = [simple_regret_approx_1[slice4],\n",
        "       simple_regret_approx_2[slice4],\n",
        "       simple_regret_approx_3[slice4],\n",
        "       simple_regret_approx_4[slice4],\n",
        "       simple_regret_approx_5[slice4],\n",
        "       simple_regret_approx_6[slice4],\n",
        "       simple_regret_approx_7[slice4],\n",
        "       simple_regret_approx_8[slice4],\n",
        "       simple_regret_approx_9[slice4],\n",
        "       simple_regret_approx_10[slice4],\n",
        "       simple_regret_approx_11[slice4],\n",
        "       simple_regret_approx_12[slice4],\n",
        "       simple_regret_approx_13[slice4],\n",
        "       simple_regret_approx_14[slice4],\n",
        "       simple_regret_approx_15[slice4],\n",
        "       simple_regret_approx_16[slice4],\n",
        "       simple_regret_approx_17[slice4],\n",
        "       simple_regret_approx_18[slice4],\n",
        "       simple_regret_approx_19[slice4],\n",
        "       simple_regret_approx_20[slice4]]\n",
        "\n",
        "exact4 = [simple_regret_exact_1[slice4],\n",
        "       simple_regret_exact_2[slice4],\n",
        "       simple_regret_exact_3[slice4],\n",
        "       simple_regret_exact_4[slice4],\n",
        "       simple_regret_exact_5[slice4],\n",
        "       simple_regret_exact_6[slice4],\n",
        "       simple_regret_exact_7[slice4],\n",
        "       simple_regret_exact_8[slice4],\n",
        "       simple_regret_exact_9[slice4],\n",
        "       simple_regret_exact_10[slice4],\n",
        "       simple_regret_exact_11[slice4],\n",
        "       simple_regret_exact_12[slice4],\n",
        "       simple_regret_exact_13[slice4],\n",
        "       simple_regret_exact_14[slice4],\n",
        "       simple_regret_exact_15[slice4],\n",
        "       simple_regret_exact_16[slice4],\n",
        "       simple_regret_exact_17[slice4],\n",
        "       simple_regret_exact_18[slice4],\n",
        "       simple_regret_exact_19[slice4],\n",
        "       simple_regret_exact_20[slice4]]\n",
        "\n",
        "approx4_results = pd.DataFrame(approx4).sort_values(by=[0], ascending=False)\n",
        "exact4_results = pd.DataFrame(exact4).sort_values(by=[0], ascending=False)\n",
        "\n",
        "### Best simple regret minimization IQR - approx:\n",
        "lower_approx4 = np.asarray(approx4_results[4:5][0])[0]\n",
        "median_approx4 = np.asarray(approx4_results[9:10][0])[0]\n",
        "upper_approx4 = np.asarray(approx4_results[14:15][0])[0]\n",
        "\n",
        "lower_exact4 = np.asarray(exact4_results[4:5][0])[0]\n",
        "median_exact4 = np.asarray(exact4_results[9:10][0])[0]\n",
        "upper_exact4 = np.asarray(exact4_results[14:15][0])[0]"
      ]
    },
    {
      "cell_type": "code",
      "execution_count": 83,
      "metadata": {
        "id": "ijq-rioYQxf5"
      },
      "outputs": [],
      "source": [
        "# Iteration14 :\n",
        "\n",
        "slice14 = 13\n",
        "\n",
        "approx14 = [simple_regret_approx_1[slice14],\n",
        "       simple_regret_approx_2[slice14],\n",
        "       simple_regret_approx_3[slice14],\n",
        "       simple_regret_approx_4[slice14],\n",
        "       simple_regret_approx_5[slice14],\n",
        "       simple_regret_approx_6[slice14],\n",
        "       simple_regret_approx_7[slice14],\n",
        "       simple_regret_approx_8[slice14],\n",
        "       simple_regret_approx_9[slice14],\n",
        "       simple_regret_approx_10[slice14],\n",
        "       simple_regret_approx_11[slice14],\n",
        "       simple_regret_approx_12[slice14],\n",
        "       simple_regret_approx_13[slice14],\n",
        "       simple_regret_approx_14[slice14],\n",
        "       simple_regret_approx_15[slice14],\n",
        "       simple_regret_approx_16[slice14],\n",
        "       simple_regret_approx_17[slice14],\n",
        "       simple_regret_approx_18[slice14],\n",
        "       simple_regret_approx_19[slice14],\n",
        "       simple_regret_approx_20[slice14]]\n",
        "\n",
        "exact14 = [simple_regret_exact_1[slice14],\n",
        "       simple_regret_exact_2[slice14],\n",
        "       simple_regret_exact_3[slice14],\n",
        "       simple_regret_exact_4[slice14],\n",
        "       simple_regret_exact_5[slice14],\n",
        "       simple_regret_exact_6[slice14],\n",
        "       simple_regret_exact_7[slice14],\n",
        "       simple_regret_exact_8[slice14],\n",
        "       simple_regret_exact_9[slice14],\n",
        "       simple_regret_exact_10[slice14],\n",
        "       simple_regret_exact_11[slice14],\n",
        "       simple_regret_exact_12[slice14],\n",
        "       simple_regret_exact_13[slice14],\n",
        "       simple_regret_exact_14[slice14],\n",
        "       simple_regret_exact_15[slice14],\n",
        "       simple_regret_exact_16[slice14],\n",
        "       simple_regret_exact_17[slice14],\n",
        "       simple_regret_exact_18[slice14],\n",
        "       simple_regret_exact_19[slice14],\n",
        "       simple_regret_exact_20[slice14]]\n",
        "\n",
        "approx14_results = pd.DataFrame(approx14).sort_values(by=[0], ascending=False)\n",
        "exact14_results = pd.DataFrame(exact14).sort_values(by=[0], ascending=False)\n",
        "\n",
        "### Best simple regret minimization IQR - approx:\n",
        "lower_approx14 = np.asarray(approx14_results[4:5][0])[0]\n",
        "median_approx14 = np.asarray(approx14_results[9:10][0])[0]\n",
        "upper_approx14 = np.asarray(approx14_results[14:15][0])[0]\n",
        "\n",
        "lower_exact14 = np.asarray(exact14_results[4:5][0])[0]\n",
        "median_exact14 = np.asarray(exact14_results[9:10][0])[0]\n",
        "upper_exact14 = np.asarray(exact14_results[14:15][0])[0]"
      ]
    },
    {
      "cell_type": "code",
      "execution_count": 84,
      "metadata": {
        "id": "XINlZjoTd-ZK"
      },
      "outputs": [],
      "source": [
        "# Iteration5 :\n",
        "\n",
        "slice5 = 4\n",
        "\n",
        "approx5 = [simple_regret_approx_1[slice5],\n",
        "       simple_regret_approx_2[slice5],\n",
        "       simple_regret_approx_3[slice5],\n",
        "       simple_regret_approx_4[slice5],\n",
        "       simple_regret_approx_5[slice5],\n",
        "       simple_regret_approx_6[slice5],\n",
        "       simple_regret_approx_7[slice5],\n",
        "       simple_regret_approx_8[slice5],\n",
        "       simple_regret_approx_9[slice5],\n",
        "       simple_regret_approx_10[slice5],\n",
        "       simple_regret_approx_11[slice5],\n",
        "       simple_regret_approx_12[slice5],\n",
        "       simple_regret_approx_13[slice5],\n",
        "       simple_regret_approx_14[slice5],\n",
        "       simple_regret_approx_15[slice5],\n",
        "       simple_regret_approx_16[slice5],\n",
        "       simple_regret_approx_17[slice5],\n",
        "       simple_regret_approx_18[slice5],\n",
        "       simple_regret_approx_19[slice5],\n",
        "       simple_regret_approx_20[slice5]]\n",
        "\n",
        "exact5 = [simple_regret_exact_1[slice5],\n",
        "       simple_regret_exact_2[slice5],\n",
        "       simple_regret_exact_3[slice5],\n",
        "       simple_regret_exact_4[slice5],\n",
        "       simple_regret_exact_5[slice5],\n",
        "       simple_regret_exact_6[slice5],\n",
        "       simple_regret_exact_7[slice5],\n",
        "       simple_regret_exact_8[slice5],\n",
        "       simple_regret_exact_9[slice5],\n",
        "       simple_regret_exact_10[slice5],\n",
        "       simple_regret_exact_11[slice5],\n",
        "       simple_regret_exact_12[slice5],\n",
        "       simple_regret_exact_13[slice5],\n",
        "       simple_regret_exact_14[slice5],\n",
        "       simple_regret_exact_15[slice5],\n",
        "       simple_regret_exact_16[slice5],\n",
        "       simple_regret_exact_17[slice5],\n",
        "       simple_regret_exact_18[slice5],\n",
        "       simple_regret_exact_19[slice5],\n",
        "       simple_regret_exact_20[slice5]]\n",
        "\n",
        "approx5_results = pd.DataFrame(approx5).sort_values(by=[0], ascending=False)\n",
        "exact5_results = pd.DataFrame(exact5).sort_values(by=[0], ascending=False)\n",
        "\n",
        "### Best simple regret minimization IQR - approx:\n",
        "lower_approx5 = np.asarray(approx5_results[4:5][0])[0]\n",
        "median_approx5 = np.asarray(approx5_results[9:10][0])[0]\n",
        "upper_approx5 = np.asarray(approx5_results[14:15][0])[0]\n",
        "\n",
        "lower_exact5 = np.asarray(exact5_results[4:5][0])[0]\n",
        "median_exact5 = np.asarray(exact5_results[9:10][0])[0]\n",
        "upper_exact5 = np.asarray(exact5_results[14:15][0])[0]"
      ]
    },
    {
      "cell_type": "code",
      "execution_count": 85,
      "metadata": {
        "id": "4aZ7C8sOQxf6"
      },
      "outputs": [],
      "source": [
        "# Iteration15 :\n",
        "\n",
        "slice15 = 14\n",
        "\n",
        "approx15 = [simple_regret_approx_1[slice15],\n",
        "       simple_regret_approx_2[slice15],\n",
        "       simple_regret_approx_3[slice15],\n",
        "       simple_regret_approx_4[slice15],\n",
        "       simple_regret_approx_5[slice15],\n",
        "       simple_regret_approx_6[slice15],\n",
        "       simple_regret_approx_7[slice15],\n",
        "       simple_regret_approx_8[slice15],\n",
        "       simple_regret_approx_9[slice15],\n",
        "       simple_regret_approx_10[slice15],\n",
        "       simple_regret_approx_11[slice15],\n",
        "       simple_regret_approx_12[slice15],\n",
        "       simple_regret_approx_13[slice15],\n",
        "       simple_regret_approx_14[slice15],\n",
        "       simple_regret_approx_15[slice15],\n",
        "       simple_regret_approx_16[slice15],\n",
        "       simple_regret_approx_17[slice15],\n",
        "       simple_regret_approx_18[slice15],\n",
        "       simple_regret_approx_19[slice15],\n",
        "       simple_regret_approx_20[slice15]]\n",
        "\n",
        "exact15 = [simple_regret_exact_1[slice15],\n",
        "       simple_regret_exact_2[slice15],\n",
        "       simple_regret_exact_3[slice15],\n",
        "       simple_regret_exact_4[slice15],\n",
        "       simple_regret_exact_5[slice15],\n",
        "       simple_regret_exact_6[slice15],\n",
        "       simple_regret_exact_7[slice15],\n",
        "       simple_regret_exact_8[slice15],\n",
        "       simple_regret_exact_9[slice15],\n",
        "       simple_regret_exact_10[slice15],\n",
        "       simple_regret_exact_11[slice15],\n",
        "       simple_regret_exact_12[slice15],\n",
        "       simple_regret_exact_13[slice15],\n",
        "       simple_regret_exact_14[slice15],\n",
        "       simple_regret_exact_15[slice15],\n",
        "       simple_regret_exact_16[slice15],\n",
        "       simple_regret_exact_17[slice15],\n",
        "       simple_regret_exact_18[slice15],\n",
        "       simple_regret_exact_19[slice15],\n",
        "       simple_regret_exact_20[slice15]]\n",
        "\n",
        "approx15_results = pd.DataFrame(approx15).sort_values(by=[0], ascending=False)\n",
        "exact15_results = pd.DataFrame(exact15).sort_values(by=[0], ascending=False)\n",
        "\n",
        "### Best simple regret minimization IQR - approx:\n",
        "lower_approx15 = np.asarray(approx15_results[4:5][0])[0]\n",
        "median_approx15 = np.asarray(approx15_results[9:10][0])[0]\n",
        "upper_approx15 = np.asarray(approx15_results[14:15][0])[0]\n",
        "\n",
        "lower_exact15 = np.asarray(exact15_results[4:5][0])[0]\n",
        "median_exact15 = np.asarray(exact15_results[9:10][0])[0]\n",
        "upper_exact15 = np.asarray(exact15_results[14:15][0])[0]"
      ]
    },
    {
      "cell_type": "code",
      "execution_count": 86,
      "metadata": {
        "id": "KJINKhv1Qxf6"
      },
      "outputs": [],
      "source": [
        "# Iteration6 :\n",
        "\n",
        "slice6 = 5\n",
        "\n",
        "approx6 = [simple_regret_approx_1[slice6],\n",
        "       simple_regret_approx_2[slice6],\n",
        "       simple_regret_approx_3[slice6],\n",
        "       simple_regret_approx_4[slice6],\n",
        "       simple_regret_approx_5[slice6],\n",
        "       simple_regret_approx_6[slice6],\n",
        "       simple_regret_approx_7[slice6],\n",
        "       simple_regret_approx_8[slice6],\n",
        "       simple_regret_approx_9[slice6],\n",
        "       simple_regret_approx_10[slice6],\n",
        "       simple_regret_approx_11[slice6],\n",
        "       simple_regret_approx_12[slice6],\n",
        "       simple_regret_approx_13[slice6],\n",
        "       simple_regret_approx_14[slice6],\n",
        "       simple_regret_approx_15[slice6],\n",
        "       simple_regret_approx_16[slice6],\n",
        "       simple_regret_approx_17[slice6],\n",
        "       simple_regret_approx_18[slice6],\n",
        "       simple_regret_approx_19[slice6],\n",
        "       simple_regret_approx_20[slice6]]\n",
        "\n",
        "exact6 = [simple_regret_exact_1[slice6],\n",
        "       simple_regret_exact_2[slice6],\n",
        "       simple_regret_exact_3[slice6],\n",
        "       simple_regret_exact_4[slice6],\n",
        "       simple_regret_exact_5[slice6],\n",
        "       simple_regret_exact_6[slice6],\n",
        "       simple_regret_exact_7[slice6],\n",
        "       simple_regret_exact_8[slice6],\n",
        "       simple_regret_exact_9[slice6],\n",
        "       simple_regret_exact_10[slice6],\n",
        "       simple_regret_exact_11[slice6],\n",
        "       simple_regret_exact_12[slice6],\n",
        "       simple_regret_exact_13[slice6],\n",
        "       simple_regret_exact_14[slice6],\n",
        "       simple_regret_exact_15[slice6],\n",
        "       simple_regret_exact_16[slice6],\n",
        "       simple_regret_exact_17[slice6],\n",
        "       simple_regret_exact_18[slice6],\n",
        "       simple_regret_exact_19[slice6],\n",
        "       simple_regret_exact_20[slice6]]\n",
        "\n",
        "approx6_results = pd.DataFrame(approx6).sort_values(by=[0], ascending=False)\n",
        "exact6_results = pd.DataFrame(exact6).sort_values(by=[0], ascending=False)\n",
        "\n",
        "### Best simple regret minimization IQR - approx:\n",
        "lower_approx6 = np.asarray(approx6_results[4:5][0])[0]\n",
        "median_approx6 = np.asarray(approx6_results[9:10][0])[0]\n",
        "upper_approx6 = np.asarray(approx6_results[14:15][0])[0]\n",
        "\n",
        "lower_exact6 = np.asarray(exact6_results[4:5][0])[0]\n",
        "median_exact6 = np.asarray(exact6_results[9:10][0])[0]\n",
        "upper_exact6 = np.asarray(exact6_results[14:15][0])[0]"
      ]
    },
    {
      "cell_type": "code",
      "execution_count": 87,
      "metadata": {
        "id": "nwC5N1FsQxf7"
      },
      "outputs": [],
      "source": [
        "# Iteration16 :\n",
        "\n",
        "slice16 = 15\n",
        "\n",
        "approx16 = [simple_regret_approx_1[slice16],\n",
        "       simple_regret_approx_2[slice16],\n",
        "       simple_regret_approx_3[slice16],\n",
        "       simple_regret_approx_4[slice16],\n",
        "       simple_regret_approx_5[slice16],\n",
        "       simple_regret_approx_6[slice16],\n",
        "       simple_regret_approx_7[slice16],\n",
        "       simple_regret_approx_8[slice16],\n",
        "       simple_regret_approx_9[slice16],\n",
        "       simple_regret_approx_10[slice16],\n",
        "       simple_regret_approx_11[slice16],\n",
        "       simple_regret_approx_12[slice16],\n",
        "       simple_regret_approx_13[slice16],\n",
        "       simple_regret_approx_14[slice16],\n",
        "       simple_regret_approx_15[slice16],\n",
        "       simple_regret_approx_16[slice16],\n",
        "       simple_regret_approx_17[slice16],\n",
        "       simple_regret_approx_18[slice16],\n",
        "       simple_regret_approx_19[slice16],\n",
        "       simple_regret_approx_20[slice16]]\n",
        "\n",
        "exact16 = [simple_regret_exact_1[slice16],\n",
        "       simple_regret_exact_2[slice16],\n",
        "       simple_regret_exact_3[slice16],\n",
        "       simple_regret_exact_4[slice16],\n",
        "       simple_regret_exact_5[slice16],\n",
        "       simple_regret_exact_6[slice16],\n",
        "       simple_regret_exact_7[slice16],\n",
        "       simple_regret_exact_8[slice16],\n",
        "       simple_regret_exact_9[slice16],\n",
        "       simple_regret_exact_10[slice16],\n",
        "       simple_regret_exact_11[slice16],\n",
        "       simple_regret_exact_12[slice16],\n",
        "       simple_regret_exact_13[slice16],\n",
        "       simple_regret_exact_14[slice16],\n",
        "       simple_regret_exact_15[slice16],\n",
        "       simple_regret_exact_16[slice16],\n",
        "       simple_regret_exact_17[slice16],\n",
        "       simple_regret_exact_18[slice16],\n",
        "       simple_regret_exact_19[slice16],\n",
        "       simple_regret_exact_20[slice16]]\n",
        "\n",
        "approx16_results = pd.DataFrame(approx16).sort_values(by=[0], ascending=False)\n",
        "exact16_results = pd.DataFrame(exact16).sort_values(by=[0], ascending=False)\n",
        "\n",
        "### Best simple regret minimization IQR - approx:\n",
        "lower_approx16 = np.asarray(approx16_results[4:5][0])[0]\n",
        "median_approx16 = np.asarray(approx16_results[9:10][0])[0]\n",
        "upper_approx16 = np.asarray(approx16_results[14:15][0])[0]\n",
        "\n",
        "lower_exact16 = np.asarray(exact16_results[4:5][0])[0]\n",
        "median_exact16 = np.asarray(exact16_results[9:10][0])[0]\n",
        "upper_exact16 = np.asarray(exact16_results[14:15][0])[0]"
      ]
    },
    {
      "cell_type": "code",
      "execution_count": 88,
      "metadata": {
        "id": "TrPV0AfnQxf7"
      },
      "outputs": [],
      "source": [
        "# Iteration7 :\n",
        "\n",
        "slice7 = 6\n",
        "\n",
        "approx7 = [simple_regret_approx_1[slice7],\n",
        "       simple_regret_approx_2[slice7],\n",
        "       simple_regret_approx_3[slice7],\n",
        "       simple_regret_approx_4[slice7],\n",
        "       simple_regret_approx_5[slice7],\n",
        "       simple_regret_approx_6[slice7],\n",
        "       simple_regret_approx_7[slice7],\n",
        "       simple_regret_approx_8[slice7],\n",
        "       simple_regret_approx_9[slice7],\n",
        "       simple_regret_approx_10[slice7],\n",
        "       simple_regret_approx_11[slice7],\n",
        "       simple_regret_approx_12[slice7],\n",
        "       simple_regret_approx_13[slice7],\n",
        "       simple_regret_approx_14[slice7],\n",
        "       simple_regret_approx_15[slice7],\n",
        "       simple_regret_approx_16[slice7],\n",
        "       simple_regret_approx_17[slice7],\n",
        "       simple_regret_approx_18[slice7],\n",
        "       simple_regret_approx_19[slice7],\n",
        "       simple_regret_approx_20[slice7]]\n",
        "\n",
        "exact7 = [simple_regret_exact_1[slice7],\n",
        "       simple_regret_exact_2[slice7],\n",
        "       simple_regret_exact_3[slice7],\n",
        "       simple_regret_exact_4[slice7],\n",
        "       simple_regret_exact_5[slice7],\n",
        "       simple_regret_exact_6[slice7],\n",
        "       simple_regret_exact_7[slice7],\n",
        "       simple_regret_exact_8[slice7],\n",
        "       simple_regret_exact_9[slice7],\n",
        "       simple_regret_exact_10[slice7],\n",
        "       simple_regret_exact_11[slice7],\n",
        "       simple_regret_exact_12[slice7],\n",
        "       simple_regret_exact_13[slice7],\n",
        "       simple_regret_exact_14[slice7],\n",
        "       simple_regret_exact_15[slice7],\n",
        "       simple_regret_exact_16[slice7],\n",
        "       simple_regret_exact_17[slice7],\n",
        "       simple_regret_exact_18[slice7],\n",
        "       simple_regret_exact_19[slice7],\n",
        "       simple_regret_exact_20[slice7]]\n",
        "\n",
        "approx7_results = pd.DataFrame(approx7).sort_values(by=[0], ascending=False)\n",
        "exact7_results = pd.DataFrame(exact7).sort_values(by=[0], ascending=False)\n",
        "\n",
        "### Best simple regret minimization IQR - approx:\n",
        "lower_approx7 = np.asarray(approx7_results[4:5][0])[0]\n",
        "median_approx7 = np.asarray(approx7_results[9:10][0])[0]\n",
        "upper_approx7 = np.asarray(approx7_results[14:15][0])[0]\n",
        "\n",
        "lower_exact7 = np.asarray(exact7_results[4:5][0])[0]\n",
        "median_exact7 = np.asarray(exact7_results[9:10][0])[0]\n",
        "upper_exact7 = np.asarray(exact7_results[14:15][0])[0]"
      ]
    },
    {
      "cell_type": "code",
      "execution_count": 89,
      "metadata": {
        "id": "Ub_-wpK4Qxf8"
      },
      "outputs": [],
      "source": [
        "# Iteration17 :\n",
        "\n",
        "slice17 = 16\n",
        "\n",
        "approx17 = [simple_regret_approx_1[slice17],\n",
        "       simple_regret_approx_2[slice17],\n",
        "       simple_regret_approx_3[slice17],\n",
        "       simple_regret_approx_4[slice17],\n",
        "       simple_regret_approx_5[slice17],\n",
        "       simple_regret_approx_6[slice17],\n",
        "       simple_regret_approx_7[slice17],\n",
        "       simple_regret_approx_8[slice17],\n",
        "       simple_regret_approx_9[slice17],\n",
        "       simple_regret_approx_10[slice17],\n",
        "       simple_regret_approx_11[slice17],\n",
        "       simple_regret_approx_12[slice17],\n",
        "       simple_regret_approx_13[slice17],\n",
        "       simple_regret_approx_14[slice17],\n",
        "       simple_regret_approx_15[slice17],\n",
        "       simple_regret_approx_16[slice17],\n",
        "       simple_regret_approx_17[slice17],\n",
        "       simple_regret_approx_18[slice17],\n",
        "       simple_regret_approx_19[slice17],\n",
        "       simple_regret_approx_20[slice17]]\n",
        "\n",
        "exact17 = [simple_regret_exact_1[slice17],\n",
        "       simple_regret_exact_2[slice17],\n",
        "       simple_regret_exact_3[slice17],\n",
        "       simple_regret_exact_4[slice17],\n",
        "       simple_regret_exact_5[slice17],\n",
        "       simple_regret_exact_6[slice17],\n",
        "       simple_regret_exact_7[slice17],\n",
        "       simple_regret_exact_8[slice17],\n",
        "       simple_regret_exact_9[slice17],\n",
        "       simple_regret_exact_10[slice17],\n",
        "       simple_regret_exact_11[slice17],\n",
        "       simple_regret_exact_12[slice17],\n",
        "       simple_regret_exact_13[slice17],\n",
        "       simple_regret_exact_14[slice17],\n",
        "       simple_regret_exact_15[slice17],\n",
        "       simple_regret_exact_16[slice17],\n",
        "       simple_regret_exact_17[slice17],\n",
        "       simple_regret_exact_18[slice17],\n",
        "       simple_regret_exact_19[slice17],\n",
        "       simple_regret_exact_20[slice17]]\n",
        "\n",
        "approx17_results = pd.DataFrame(approx17).sort_values(by=[0], ascending=False)\n",
        "exact17_results = pd.DataFrame(exact17).sort_values(by=[0], ascending=False)\n",
        "\n",
        "### Best simple regret minimization IQR - approx:\n",
        "lower_approx17 = np.asarray(approx17_results[4:5][0])[0]\n",
        "median_approx17 = np.asarray(approx17_results[9:10][0])[0]\n",
        "upper_approx17 = np.asarray(approx17_results[14:15][0])[0]\n",
        "\n",
        "lower_exact17 = np.asarray(exact17_results[4:5][0])[0]\n",
        "median_exact17 = np.asarray(exact17_results[9:10][0])[0]\n",
        "upper_exact17 = np.asarray(exact17_results[14:15][0])[0]"
      ]
    },
    {
      "cell_type": "code",
      "execution_count": 90,
      "metadata": {
        "id": "-6VLo37PQxf8"
      },
      "outputs": [],
      "source": [
        "# Iteration8 :\n",
        "\n",
        "slice8 = 7\n",
        "\n",
        "approx8 = [simple_regret_approx_1[slice8],\n",
        "       simple_regret_approx_2[slice8],\n",
        "       simple_regret_approx_3[slice8],\n",
        "       simple_regret_approx_4[slice8],\n",
        "       simple_regret_approx_5[slice8],\n",
        "       simple_regret_approx_6[slice8],\n",
        "       simple_regret_approx_7[slice8],\n",
        "       simple_regret_approx_8[slice8],\n",
        "       simple_regret_approx_9[slice8],\n",
        "       simple_regret_approx_10[slice8],\n",
        "       simple_regret_approx_11[slice8],\n",
        "       simple_regret_approx_12[slice8],\n",
        "       simple_regret_approx_13[slice8],\n",
        "       simple_regret_approx_14[slice8],\n",
        "       simple_regret_approx_15[slice8],\n",
        "       simple_regret_approx_16[slice8],\n",
        "       simple_regret_approx_17[slice8],\n",
        "       simple_regret_approx_18[slice8],\n",
        "       simple_regret_approx_19[slice8],\n",
        "       simple_regret_approx_20[slice8]]\n",
        "\n",
        "exact8 = [simple_regret_exact_1[slice8],\n",
        "       simple_regret_exact_2[slice8],\n",
        "       simple_regret_exact_3[slice8],\n",
        "       simple_regret_exact_4[slice8],\n",
        "       simple_regret_exact_5[slice8],\n",
        "       simple_regret_exact_6[slice8],\n",
        "       simple_regret_exact_7[slice8],\n",
        "       simple_regret_exact_8[slice8],\n",
        "       simple_regret_exact_9[slice8],\n",
        "       simple_regret_exact_10[slice8],\n",
        "       simple_regret_exact_11[slice8],\n",
        "       simple_regret_exact_12[slice8],\n",
        "       simple_regret_exact_13[slice8],\n",
        "       simple_regret_exact_14[slice8],\n",
        "       simple_regret_exact_15[slice8],\n",
        "       simple_regret_exact_16[slice8],\n",
        "       simple_regret_exact_17[slice8],\n",
        "       simple_regret_exact_18[slice8],\n",
        "       simple_regret_exact_19[slice8],\n",
        "       simple_regret_exact_20[slice8]]\n",
        "\n",
        "approx8_results = pd.DataFrame(approx8).sort_values(by=[0], ascending=False)\n",
        "exact8_results = pd.DataFrame(exact8).sort_values(by=[0], ascending=False)\n",
        "\n",
        "### Best simple regret minimization IQR - approx:\n",
        "lower_approx8 = np.asarray(approx8_results[4:5][0])[0]\n",
        "median_approx8 = np.asarray(approx8_results[9:10][0])[0]\n",
        "upper_approx8 = np.asarray(approx8_results[14:15][0])[0]\n",
        "\n",
        "lower_exact8 = np.asarray(exact8_results[4:5][0])[0]\n",
        "median_exact8 = np.asarray(exact8_results[9:10][0])[0]\n",
        "upper_exact8 = np.asarray(exact8_results[14:15][0])[0]"
      ]
    },
    {
      "cell_type": "code",
      "execution_count": 91,
      "metadata": {
        "id": "2Dp-9CC2Qxf9"
      },
      "outputs": [],
      "source": [
        "# Iteration18 :\n",
        "\n",
        "slice18 = 17\n",
        "\n",
        "approx18 = [simple_regret_approx_1[slice18],\n",
        "       simple_regret_approx_2[slice18],\n",
        "       simple_regret_approx_3[slice18],\n",
        "       simple_regret_approx_4[slice18],\n",
        "       simple_regret_approx_5[slice18],\n",
        "       simple_regret_approx_6[slice18],\n",
        "       simple_regret_approx_7[slice18],\n",
        "       simple_regret_approx_8[slice18],\n",
        "       simple_regret_approx_9[slice18],\n",
        "       simple_regret_approx_10[slice18],\n",
        "       simple_regret_approx_11[slice18],\n",
        "       simple_regret_approx_12[slice18],\n",
        "       simple_regret_approx_13[slice18],\n",
        "       simple_regret_approx_14[slice18],\n",
        "       simple_regret_approx_15[slice18],\n",
        "       simple_regret_approx_16[slice18],\n",
        "       simple_regret_approx_17[slice18],\n",
        "       simple_regret_approx_18[slice18],\n",
        "       simple_regret_approx_19[slice18],\n",
        "       simple_regret_approx_20[slice18]]\n",
        "\n",
        "exact18 = [simple_regret_exact_1[slice18],\n",
        "       simple_regret_exact_2[slice18],\n",
        "       simple_regret_exact_3[slice18],\n",
        "       simple_regret_exact_4[slice18],\n",
        "       simple_regret_exact_5[slice18],\n",
        "       simple_regret_exact_6[slice18],\n",
        "       simple_regret_exact_7[slice18],\n",
        "       simple_regret_exact_8[slice18],\n",
        "       simple_regret_exact_9[slice18],\n",
        "       simple_regret_exact_10[slice18],\n",
        "       simple_regret_exact_11[slice18],\n",
        "       simple_regret_exact_12[slice18],\n",
        "       simple_regret_exact_13[slice18],\n",
        "       simple_regret_exact_14[slice18],\n",
        "       simple_regret_exact_15[slice18],\n",
        "       simple_regret_exact_16[slice18],\n",
        "       simple_regret_exact_17[slice18],\n",
        "       simple_regret_exact_18[slice18],\n",
        "       simple_regret_exact_19[slice18],\n",
        "       simple_regret_exact_20[slice18]]\n",
        "\n",
        "approx18_results = pd.DataFrame(approx18).sort_values(by=[0], ascending=False)\n",
        "exact18_results = pd.DataFrame(exact18).sort_values(by=[0], ascending=False)\n",
        "\n",
        "### Best simple regret minimization IQR - approx:\n",
        "lower_approx18 = np.asarray(approx18_results[4:5][0])[0]\n",
        "median_approx18 = np.asarray(approx18_results[9:10][0])[0]\n",
        "upper_approx18 = np.asarray(approx18_results[14:15][0])[0]\n",
        "\n",
        "lower_exact18 = np.asarray(exact18_results[4:5][0])[0]\n",
        "median_exact18 = np.asarray(exact18_results[9:10][0])[0]\n",
        "upper_exact18 = np.asarray(exact18_results[14:15][0])[0]"
      ]
    },
    {
      "cell_type": "code",
      "execution_count": 92,
      "metadata": {
        "id": "SqiaOpB7Qxf9"
      },
      "outputs": [],
      "source": [
        "# Iteration9 :\n",
        "\n",
        "slice9 = 8\n",
        "\n",
        "approx9 = [simple_regret_approx_1[slice9],\n",
        "       simple_regret_approx_2[slice9],\n",
        "       simple_regret_approx_3[slice9],\n",
        "       simple_regret_approx_4[slice9],\n",
        "       simple_regret_approx_5[slice9],\n",
        "       simple_regret_approx_6[slice9],\n",
        "       simple_regret_approx_7[slice9],\n",
        "       simple_regret_approx_8[slice9],\n",
        "       simple_regret_approx_9[slice9],\n",
        "       simple_regret_approx_10[slice9],\n",
        "       simple_regret_approx_11[slice9],\n",
        "       simple_regret_approx_12[slice9],\n",
        "       simple_regret_approx_13[slice9],\n",
        "       simple_regret_approx_14[slice9],\n",
        "       simple_regret_approx_15[slice9],\n",
        "       simple_regret_approx_16[slice9],\n",
        "       simple_regret_approx_17[slice9],\n",
        "       simple_regret_approx_18[slice9],\n",
        "       simple_regret_approx_19[slice9],\n",
        "       simple_regret_approx_20[slice9]]\n",
        "\n",
        "exact9 = [simple_regret_exact_1[slice9],\n",
        "       simple_regret_exact_2[slice9],\n",
        "       simple_regret_exact_3[slice9],\n",
        "       simple_regret_exact_4[slice9],\n",
        "       simple_regret_exact_5[slice9],\n",
        "       simple_regret_exact_6[slice9],\n",
        "       simple_regret_exact_7[slice9],\n",
        "       simple_regret_exact_8[slice9],\n",
        "       simple_regret_exact_9[slice9],\n",
        "       simple_regret_exact_10[slice9],\n",
        "       simple_regret_exact_11[slice9],\n",
        "       simple_regret_exact_12[slice9],\n",
        "       simple_regret_exact_13[slice9],\n",
        "       simple_regret_exact_14[slice9],\n",
        "       simple_regret_exact_15[slice9],\n",
        "       simple_regret_exact_16[slice9],\n",
        "       simple_regret_exact_17[slice9],\n",
        "       simple_regret_exact_18[slice9],\n",
        "       simple_regret_exact_19[slice9],\n",
        "       simple_regret_exact_20[slice9]]\n",
        "\n",
        "approx9_results = pd.DataFrame(approx9).sort_values(by=[0], ascending=False)\n",
        "exact9_results = pd.DataFrame(exact9).sort_values(by=[0], ascending=False)\n",
        "\n",
        "### Best simple regret minimization IQR - approx:\n",
        "lower_approx9 = np.asarray(approx9_results[4:5][0])[0]\n",
        "median_approx9 = np.asarray(approx9_results[9:10][0])[0]\n",
        "upper_approx9 = np.asarray(approx9_results[14:15][0])[0]\n",
        "\n",
        "lower_exact9 = np.asarray(exact9_results[4:5][0])[0]\n",
        "median_exact9 = np.asarray(exact9_results[9:10][0])[0]\n",
        "upper_exact9 = np.asarray(exact9_results[14:15][0])[0]"
      ]
    },
    {
      "cell_type": "code",
      "execution_count": 93,
      "metadata": {
        "id": "OQkCCOsPQxf9"
      },
      "outputs": [],
      "source": [
        "# Iteration19 :\n",
        "\n",
        "slice19 = 18\n",
        "\n",
        "approx19 = [simple_regret_approx_1[slice19],\n",
        "       simple_regret_approx_2[slice19],\n",
        "       simple_regret_approx_3[slice19],\n",
        "       simple_regret_approx_4[slice19],\n",
        "       simple_regret_approx_5[slice19],\n",
        "       simple_regret_approx_6[slice19],\n",
        "       simple_regret_approx_7[slice19],\n",
        "       simple_regret_approx_8[slice19],\n",
        "       simple_regret_approx_9[slice19],\n",
        "       simple_regret_approx_10[slice19],\n",
        "       simple_regret_approx_11[slice19],\n",
        "       simple_regret_approx_12[slice19],\n",
        "       simple_regret_approx_13[slice19],\n",
        "       simple_regret_approx_14[slice19],\n",
        "       simple_regret_approx_15[slice19],\n",
        "       simple_regret_approx_16[slice19],\n",
        "       simple_regret_approx_17[slice19],\n",
        "       simple_regret_approx_18[slice19],\n",
        "       simple_regret_approx_19[slice19],\n",
        "       simple_regret_approx_20[slice19]]\n",
        "\n",
        "exact19 = [simple_regret_exact_1[slice19],\n",
        "       simple_regret_exact_2[slice19],\n",
        "       simple_regret_exact_3[slice19],\n",
        "       simple_regret_exact_4[slice19],\n",
        "       simple_regret_exact_5[slice19],\n",
        "       simple_regret_exact_6[slice19],\n",
        "       simple_regret_exact_7[slice19],\n",
        "       simple_regret_exact_8[slice19],\n",
        "       simple_regret_exact_9[slice19],\n",
        "       simple_regret_exact_10[slice19],\n",
        "       simple_regret_exact_11[slice19],\n",
        "       simple_regret_exact_12[slice19],\n",
        "       simple_regret_exact_13[slice19],\n",
        "       simple_regret_exact_14[slice19],\n",
        "       simple_regret_exact_15[slice19],\n",
        "       simple_regret_exact_16[slice19],\n",
        "       simple_regret_exact_17[slice19],\n",
        "       simple_regret_exact_18[slice19],\n",
        "       simple_regret_exact_19[slice19],\n",
        "       simple_regret_exact_20[slice19]]\n",
        "\n",
        "approx19_results = pd.DataFrame(approx19).sort_values(by=[0], ascending=False)\n",
        "exact19_results = pd.DataFrame(exact19).sort_values(by=[0], ascending=False)\n",
        "\n",
        "### Best simple regret minimization IQR - approx:\n",
        "lower_approx19 = np.asarray(approx19_results[4:5][0])[0]\n",
        "median_approx19 = np.asarray(approx19_results[9:10][0])[0]\n",
        "upper_approx19 = np.asarray(approx19_results[14:15][0])[0]\n",
        "\n",
        "lower_exact19 = np.asarray(exact19_results[4:5][0])[0]\n",
        "median_exact19 = np.asarray(exact19_results[9:10][0])[0]\n",
        "upper_exact19 = np.asarray(exact19_results[14:15][0])[0]"
      ]
    },
    {
      "cell_type": "code",
      "execution_count": 94,
      "metadata": {
        "id": "h4vtWahcQxf-"
      },
      "outputs": [],
      "source": [
        "# Iteration10 :\n",
        "\n",
        "slice10 = 9\n",
        "\n",
        "approx10 = [simple_regret_approx_1[slice10],\n",
        "       simple_regret_approx_2[slice10],\n",
        "       simple_regret_approx_3[slice10],\n",
        "       simple_regret_approx_4[slice10],\n",
        "       simple_regret_approx_5[slice10],\n",
        "       simple_regret_approx_6[slice10],\n",
        "       simple_regret_approx_7[slice10],\n",
        "       simple_regret_approx_8[slice10],\n",
        "       simple_regret_approx_9[slice10],\n",
        "       simple_regret_approx_10[slice10],\n",
        "       simple_regret_approx_11[slice10],\n",
        "       simple_regret_approx_12[slice10],\n",
        "       simple_regret_approx_13[slice10],\n",
        "       simple_regret_approx_14[slice10],\n",
        "       simple_regret_approx_15[slice10],\n",
        "       simple_regret_approx_16[slice10],\n",
        "       simple_regret_approx_17[slice10],\n",
        "       simple_regret_approx_18[slice10],\n",
        "       simple_regret_approx_19[slice10],\n",
        "       simple_regret_approx_20[slice10]]\n",
        "\n",
        "exact10 = [simple_regret_exact_1[slice10],\n",
        "       simple_regret_exact_2[slice10],\n",
        "       simple_regret_exact_3[slice10],\n",
        "       simple_regret_exact_4[slice10],\n",
        "       simple_regret_exact_5[slice10],\n",
        "       simple_regret_exact_6[slice10],\n",
        "       simple_regret_exact_7[slice10],\n",
        "       simple_regret_exact_8[slice10],\n",
        "       simple_regret_exact_9[slice10],\n",
        "       simple_regret_exact_10[slice10],\n",
        "       simple_regret_exact_11[slice10],\n",
        "       simple_regret_exact_12[slice10],\n",
        "       simple_regret_exact_13[slice10],\n",
        "       simple_regret_exact_14[slice10],\n",
        "       simple_regret_exact_15[slice10],\n",
        "       simple_regret_exact_16[slice10],\n",
        "       simple_regret_exact_17[slice10],\n",
        "       simple_regret_exact_18[slice10],\n",
        "       simple_regret_exact_19[slice10],\n",
        "       simple_regret_exact_20[slice10]]\n",
        "\n",
        "approx10_results = pd.DataFrame(approx10).sort_values(by=[0], ascending=False)\n",
        "exact10_results = pd.DataFrame(exact10).sort_values(by=[0], ascending=False)\n",
        "\n",
        "### Best simple regret minimization IQR - approx:\n",
        "lower_approx10 = np.asarray(approx10_results[4:5][0])[0]\n",
        "median_approx10 = np.asarray(approx10_results[9:10][0])[0]\n",
        "upper_approx10 = np.asarray(approx10_results[14:15][0])[0]\n",
        "\n",
        "lower_exact10 = np.asarray(exact10_results[4:5][0])[0]\n",
        "median_exact10 = np.asarray(exact10_results[9:10][0])[0]\n",
        "upper_exact10 = np.asarray(exact10_results[14:15][0])[0]"
      ]
    },
    {
      "cell_type": "code",
      "execution_count": 95,
      "metadata": {
        "id": "Rsf240pWQxf-"
      },
      "outputs": [],
      "source": [
        "# Iteration20 :\n",
        "\n",
        "slice20 = 19\n",
        "\n",
        "approx20 = [simple_regret_approx_1[slice20],\n",
        "       simple_regret_approx_2[slice20],\n",
        "       simple_regret_approx_3[slice20],\n",
        "       simple_regret_approx_4[slice20],\n",
        "       simple_regret_approx_5[slice20],\n",
        "       simple_regret_approx_6[slice20],\n",
        "       simple_regret_approx_7[slice20],\n",
        "       simple_regret_approx_8[slice20],\n",
        "       simple_regret_approx_9[slice20],\n",
        "       simple_regret_approx_10[slice20],\n",
        "       simple_regret_approx_11[slice20],\n",
        "       simple_regret_approx_12[slice20],\n",
        "       simple_regret_approx_13[slice20],\n",
        "       simple_regret_approx_14[slice20],\n",
        "       simple_regret_approx_15[slice20],\n",
        "       simple_regret_approx_16[slice20],\n",
        "       simple_regret_approx_17[slice20],\n",
        "       simple_regret_approx_18[slice20],\n",
        "       simple_regret_approx_19[slice20],\n",
        "       simple_regret_approx_20[slice20]]\n",
        "\n",
        "exact20 = [simple_regret_exact_1[slice20],\n",
        "       simple_regret_exact_2[slice20],\n",
        "       simple_regret_exact_3[slice20],\n",
        "       simple_regret_exact_4[slice20],\n",
        "       simple_regret_exact_5[slice20],\n",
        "       simple_regret_exact_6[slice20],\n",
        "       simple_regret_exact_7[slice20],\n",
        "       simple_regret_exact_8[slice20],\n",
        "       simple_regret_exact_9[slice20],\n",
        "       simple_regret_exact_10[slice20],\n",
        "       simple_regret_exact_11[slice20],\n",
        "       simple_regret_exact_12[slice20],\n",
        "       simple_regret_exact_13[slice20],\n",
        "       simple_regret_exact_14[slice20],\n",
        "       simple_regret_exact_15[slice20],\n",
        "       simple_regret_exact_16[slice20],\n",
        "       simple_regret_exact_17[slice20],\n",
        "       simple_regret_exact_18[slice20],\n",
        "       simple_regret_exact_19[slice20],\n",
        "       simple_regret_exact_20[slice20]]\n",
        "\n",
        "approx20_results = pd.DataFrame(approx20).sort_values(by=[0], ascending=False)\n",
        "exact20_results = pd.DataFrame(exact20).sort_values(by=[0], ascending=False)\n",
        "\n",
        "### Best simple regret minimization IQR - approx:\n",
        "lower_approx20 = np.asarray(approx20_results[4:5][0])[0]\n",
        "median_approx20 = np.asarray(approx20_results[9:10][0])[0]\n",
        "upper_approx20 = np.asarray(approx20_results[14:15][0])[0]\n",
        "\n",
        "lower_exact20 = np.asarray(exact20_results[4:5][0])[0]\n",
        "median_exact20 = np.asarray(exact20_results[9:10][0])[0]\n",
        "upper_exact20 = np.asarray(exact20_results[14:15][0])[0]"
      ]
    },
    {
      "cell_type": "code",
      "execution_count": 96,
      "metadata": {
        "id": "gn36RejbQxf_"
      },
      "outputs": [],
      "source": [
        "### Summarize arrays: 'Loser'\n",
        "\n",
        "lower_approx = [lower_approx1,\n",
        "            lower_approx2,\n",
        "            lower_approx3,\n",
        "            lower_approx4,\n",
        "            lower_approx5,\n",
        "            lower_approx6,\n",
        "            lower_approx7,\n",
        "            lower_approx8,\n",
        "            lower_approx9,\n",
        "            lower_approx10,\n",
        "            lower_approx11,\n",
        "            lower_approx12,\n",
        "            lower_approx13,\n",
        "            lower_approx14,\n",
        "            lower_approx15,\n",
        "            lower_approx16,\n",
        "            lower_approx17,\n",
        "            lower_approx18,\n",
        "            lower_approx19,\n",
        "            lower_approx20,\n",
        "            lower_approx21]\n",
        "\n",
        "median_approx = [median_approx1,\n",
        "            median_approx2,\n",
        "            median_approx3,\n",
        "            median_approx4,\n",
        "            median_approx5,\n",
        "            median_approx6,\n",
        "            median_approx7,\n",
        "            median_approx8,\n",
        "            median_approx9,\n",
        "            median_approx10,\n",
        "            median_approx11,\n",
        "            median_approx12,\n",
        "            median_approx13,\n",
        "            median_approx14,\n",
        "            median_approx15,\n",
        "            median_approx16,\n",
        "            median_approx17,\n",
        "            median_approx18,\n",
        "            median_approx19,\n",
        "            median_approx20,\n",
        "            median_approx21]\n",
        "\n",
        "upper_approx = [upper_approx1,\n",
        "            upper_approx2,\n",
        "            upper_approx3,\n",
        "            upper_approx4,\n",
        "            upper_approx5,\n",
        "            upper_approx6,\n",
        "            upper_approx7,\n",
        "            upper_approx8,\n",
        "            upper_approx9,\n",
        "            upper_approx10,\n",
        "            upper_approx11,\n",
        "            upper_approx12,\n",
        "            upper_approx13,\n",
        "            upper_approx14,\n",
        "            upper_approx15,\n",
        "            upper_approx16,\n",
        "            upper_approx17,\n",
        "            upper_approx18,\n",
        "            upper_approx19,\n",
        "            upper_approx20,\n",
        "            upper_approx21]"
      ]
    },
    {
      "cell_type": "code",
      "execution_count": 97,
      "metadata": {
        "id": "wxtGTOYfQxf_"
      },
      "outputs": [],
      "source": [
        "### Summarize arrays: 'exact'\n",
        "\n",
        "lower_exact = [lower_exact1,\n",
        "            lower_exact2,\n",
        "            lower_exact3,\n",
        "            lower_exact4,\n",
        "            lower_exact5,\n",
        "            lower_exact6,\n",
        "            lower_exact7,\n",
        "            lower_exact8,\n",
        "            lower_exact9,\n",
        "            lower_exact10,\n",
        "            lower_exact11,\n",
        "            lower_exact12,\n",
        "            lower_exact13,\n",
        "            lower_exact14,\n",
        "            lower_exact15,\n",
        "            lower_exact16,\n",
        "            lower_exact17,\n",
        "            lower_exact18,\n",
        "            lower_exact19,\n",
        "            lower_exact20,\n",
        "            lower_exact21]\n",
        "\n",
        "median_exact = [median_exact1,\n",
        "            median_exact2,\n",
        "            median_exact3,\n",
        "            median_exact4,\n",
        "            median_exact5,\n",
        "            median_exact6,\n",
        "            median_exact7,\n",
        "            median_exact8,\n",
        "            median_exact9,\n",
        "            median_exact10,\n",
        "            median_exact11,\n",
        "            median_exact12,\n",
        "            median_exact13,\n",
        "            median_exact14,\n",
        "            median_exact15,\n",
        "            median_exact16,\n",
        "            median_exact17,\n",
        "            median_exact18,\n",
        "            median_exact19,\n",
        "            median_exact20,\n",
        "            median_exact21]\n",
        "\n",
        "upper_exact = [upper_exact1,\n",
        "            upper_exact2,\n",
        "            upper_exact3,\n",
        "            upper_exact4,\n",
        "            upper_exact5,\n",
        "            upper_exact6,\n",
        "            upper_exact7,\n",
        "            upper_exact8,\n",
        "            upper_exact9,\n",
        "            upper_exact10,\n",
        "            upper_exact11,\n",
        "            upper_exact12,\n",
        "            upper_exact13,\n",
        "            upper_exact14,\n",
        "            upper_exact15,\n",
        "            upper_exact16,\n",
        "            upper_exact17,\n",
        "            upper_exact18,\n",
        "            upper_exact19,\n",
        "            upper_exact20,\n",
        "            upper_exact21]"
      ]
    },
    {
      "cell_type": "code",
      "execution_count": 98,
      "metadata": {
        "id": "2MONq-BXQxgA",
        "colab": {
          "base_uri": "https://localhost:8080/",
          "height": 299
        },
        "outputId": "84255fad-058c-4a99-b35f-69096061742e"
      },
      "outputs": [
        {
          "output_type": "display_data",
          "data": {
            "text/plain": [
              "<Figure size 432x288 with 1 Axes>"
            ],
            "image/png": "[encoded data removed]"
          },
          "metadata": {
            "needs_background": "light"
          }
        }
      ],
      "source": [
        "### Visualise!\n",
        "\n",
        "title = func\n",
        "plt.figure()\n",
        "\n",
        "plt.plot(median_approx, color = 'Yellow')\n",
        "plt.plot(median_exact, color = 'Red')\n",
        "\n",
        "xstar = np.arange(0, iters+1, step=1)\n",
        "plt.fill_between(xstar, lower_approx, upper_approx, facecolor = 'Yellow', alpha=0.4, label='GP EI Optimization: Approx GP EI gradients')\n",
        "plt.fill_between(xstar, lower_exact, upper_exact, facecolor = 'Red', alpha=0.4, label='GP EI Optimization: Exact GP dEI gradients')\n",
        "\n",
        "plt.title(title, weight = 'bold')\n",
        "plt.xlabel('(Post-initialization) iteration $\\it{k}$', weight = 'bold')\n",
        "plt.ylabel('log(Regret)', weight = 'bold') \n",
        "plt.legend(loc=3) # add plot legend\n",
        "\n",
        "### Make the x-ticks integers, not floats:\n",
        "count = len(xstar)\n",
        "plt.xticks(np.arange(count), np.arange(0, count))\n",
        "plt.show() #visualize!"
      ]
    },
    {
      "cell_type": "code",
      "execution_count": 99,
      "metadata": {
        "id": "l5dkR2Id2oiu",
        "colab": {
          "base_uri": "https://localhost:8080/"
        },
        "outputId": "33519034-672f-454c-bcc3-e7dc66bc240b"
      },
      "outputs": [
        {
          "output_type": "execute_result",
          "data": {
            "text/plain": [
              "(873.1952228546143, 825.4098610877991)"
            ]
          },
          "metadata": {},
          "execution_count": 99
        }
      ],
      "source": [
        "time_approx, time_exact\n"
      ]
    },
    {
      "cell_type": "code",
      "source": [
        "### acqFunc attribute x, stddev: run number = 1\n",
        "\n",
        "acqFuncApprox_exact_1 = acqFuncApprox(exact_1.history)\n",
        "acqFuncExact_exact_1 = acqFuncExact(exact_1.history)\n",
        "\n",
        "e1 = np.mean(acqFuncExact_exact_1)\n",
        "a1 = np.mean(acqFuncApprox_exact_1)\n",
        "\n",
        "e1, a1\n"
      ],
      "metadata": {
        "colab": {
          "base_uri": "https://localhost:8080/"
        },
        "id": "uwxv4dmfGsLr",
        "outputId": "2561af7c-32b1-4e79-d817-fd0102aedc30"
      },
      "execution_count": 100,
      "outputs": [
        {
          "output_type": "execute_result",
          "data": {
            "text/plain": [
              "(2.9740393016152176, 3.044827197748225)"
            ]
          },
          "metadata": {},
          "execution_count": 100
        }
      ]
    },
    {
      "cell_type": "code",
      "source": [
        "### acqFunc attribute x, stddev: run number = 2\n",
        "\n",
        "acqFuncApprox_exact_2 = acqFuncApprox(exact_2.history)\n",
        "acqFuncExact_exact_2 = acqFuncExact(exact_2.history)\n",
        "\n",
        "e2 = np.mean(acqFuncExact_exact_2)\n",
        "a2 = np.mean(acqFuncApprox_exact_2)\n",
        "\n",
        "e2, a2\n"
      ],
      "metadata": {
        "colab": {
          "base_uri": "https://localhost:8080/"
        },
        "id": "0YSV00_pGsXe",
        "outputId": "9cc14a11-1168-488e-80b7-21fe606f5681"
      },
      "execution_count": 101,
      "outputs": [
        {
          "output_type": "execute_result",
          "data": {
            "text/plain": [
              "(3.023113810674647, 3.062063917514338)"
            ]
          },
          "metadata": {},
          "execution_count": 101
        }
      ]
    },
    {
      "cell_type": "code",
      "source": [
        "### acqFunc attribute x, stddev: run number = 3\n",
        "\n",
        "acqFuncApprox_exact_3 = acqFuncApprox(exact_3.history)\n",
        "acqFuncExact_exact_3 = acqFuncExact(exact_3.history)\n",
        "\n",
        "e3 = np.mean(acqFuncExact_exact_3)\n",
        "a3 = np.mean(acqFuncApprox_exact_3)\n",
        "\n",
        "e3, a3\n"
      ],
      "metadata": {
        "colab": {
          "base_uri": "https://localhost:8080/"
        },
        "id": "HHVmsd2UGsjT",
        "outputId": "ca2ed33a-476c-4c0f-c14b-a69ad28dde21"
      },
      "execution_count": 102,
      "outputs": [
        {
          "output_type": "execute_result",
          "data": {
            "text/plain": [
              "(2.8089222432092993, 2.9029570691092497)"
            ]
          },
          "metadata": {},
          "execution_count": 102
        }
      ]
    },
    {
      "cell_type": "code",
      "source": [
        "### acqFunc attribute x, stddev: run number = 4\n",
        "\n",
        "acqFuncApprox_exact_4 = acqFuncApprox(exact_4.history)\n",
        "acqFuncExact_exact_4 = acqFuncExact(exact_4.history)\n",
        "\n",
        "e4 = np.mean(acqFuncExact_exact_4)\n",
        "a4 = np.mean(acqFuncApprox_exact_4)\n",
        "\n",
        "e4, a4\n"
      ],
      "metadata": {
        "colab": {
          "base_uri": "https://localhost:8080/"
        },
        "id": "r7O19S2eGsu7",
        "outputId": "efa8816e-632f-4f07-c1ad-8408f4698dc4"
      },
      "execution_count": 103,
      "outputs": [
        {
          "output_type": "execute_result",
          "data": {
            "text/plain": [
              "(2.9690590049552346, 3.169289481620785)"
            ]
          },
          "metadata": {},
          "execution_count": 103
        }
      ]
    },
    {
      "cell_type": "code",
      "source": [
        "### acqFunc attribute x, stddev: run number = 5\n",
        "\n",
        "acqFuncApprox_exact_5 = acqFuncApprox(exact_5.history)\n",
        "acqFuncExact_exact_5 = acqFuncExact(exact_5.history)\n",
        "\n",
        "e5 = np.mean(acqFuncExact_exact_5)\n",
        "a5 = np.mean(acqFuncApprox_exact_5)\n",
        "\n",
        "e5, a5\n"
      ],
      "metadata": {
        "colab": {
          "base_uri": "https://localhost:8080/"
        },
        "id": "sdb9o6NuGs5m",
        "outputId": "1139102e-9a60-4997-ea42-c6600b3aac05"
      },
      "execution_count": 104,
      "outputs": [
        {
          "output_type": "execute_result",
          "data": {
            "text/plain": [
              "(2.977692700499412, 2.94809823531785)"
            ]
          },
          "metadata": {},
          "execution_count": 104
        }
      ]
    },
    {
      "cell_type": "code",
      "source": [
        "### acqFunc attribute x, stddev: run number = 6\n",
        "\n",
        "acqFuncApprox_exact_6 = acqFuncApprox(exact_6.history)\n",
        "acqFuncExact_exact_6 = acqFuncExact(exact_6.history)\n",
        "\n",
        "e6 = np.mean(acqFuncExact_exact_6)\n",
        "a6 = np.mean(acqFuncApprox_exact_6)\n",
        "\n",
        "e6, a6\n"
      ],
      "metadata": {
        "colab": {
          "base_uri": "https://localhost:8080/"
        },
        "id": "COQl7LZ8GtE0",
        "outputId": "98bd4d51-f0f0-46ab-99ed-408884d6dc69"
      },
      "execution_count": 105,
      "outputs": [
        {
          "output_type": "execute_result",
          "data": {
            "text/plain": [
              "(3.0951181970940915, 3.1271724822586098)"
            ]
          },
          "metadata": {},
          "execution_count": 105
        }
      ]
    },
    {
      "cell_type": "code",
      "source": [
        "### acqFunc attribute x, stddev: run number = 7\n",
        "\n",
        "acqFuncApprox_exact_7 = acqFuncApprox(exact_7.history)\n",
        "acqFuncExact_exact_7 = acqFuncExact(exact_7.history)\n",
        "\n",
        "e7 = np.mean(acqFuncExact_exact_7)\n",
        "a7 = np.mean(acqFuncApprox_exact_7)\n",
        "\n",
        "e7, a7\n"
      ],
      "metadata": {
        "colab": {
          "base_uri": "https://localhost:8080/"
        },
        "id": "2gy9EtTzGtP7",
        "outputId": "19e9e2c3-0acc-4db2-a0c7-bd29ce71d26d"
      },
      "execution_count": 106,
      "outputs": [
        {
          "output_type": "execute_result",
          "data": {
            "text/plain": [
              "(3.004745845239232, 3.0672083275731166)"
            ]
          },
          "metadata": {},
          "execution_count": 106
        }
      ]
    },
    {
      "cell_type": "code",
      "source": [
        "### acqFunc attribute x, stddev: run number = 8\n",
        "\n",
        "acqFuncApprox_exact_8 = acqFuncApprox(exact_8.history)\n",
        "acqFuncExact_exact_8 = acqFuncExact(exact_8.history)\n",
        "\n",
        "e8 = np.mean(acqFuncExact_exact_8)\n",
        "a8 = np.mean(acqFuncApprox_exact_8)\n",
        "\n",
        "e8, a8\n"
      ],
      "metadata": {
        "colab": {
          "base_uri": "https://localhost:8080/"
        },
        "id": "S7mn0qoMGtbM",
        "outputId": "cc1aabf5-b212-4038-bbf5-f2389bddbc90"
      },
      "execution_count": 107,
      "outputs": [
        {
          "output_type": "execute_result",
          "data": {
            "text/plain": [
              "(2.8947097496195773, 3.13314024079538)"
            ]
          },
          "metadata": {},
          "execution_count": 107
        }
      ]
    },
    {
      "cell_type": "code",
      "source": [
        "### acqFunc attribute x, stddev: run number = 9\n",
        "\n",
        "acqFuncApprox_exact_9 = acqFuncApprox(exact_9.history)\n",
        "acqFuncExact_exact_9 = acqFuncExact(exact_9.history)\n",
        "\n",
        "e9 = np.mean(acqFuncExact_exact_9)\n",
        "a9 = np.mean(acqFuncApprox_exact_9)\n",
        "\n",
        "e9, a9\n"
      ],
      "metadata": {
        "colab": {
          "base_uri": "https://localhost:8080/"
        },
        "id": "BhljmkNxGtms",
        "outputId": "024e1a2d-3e2d-4b69-ff8e-0f50f7159435"
      },
      "execution_count": 108,
      "outputs": [
        {
          "output_type": "execute_result",
          "data": {
            "text/plain": [
              "(2.847146960687158, 3.06988835770184)"
            ]
          },
          "metadata": {},
          "execution_count": 108
        }
      ]
    },
    {
      "cell_type": "code",
      "source": [
        "### acqFunc attribute x, stddev: run number = 10\n",
        "\n",
        "acqFuncApprox_exact_10 = acqFuncApprox(exact_10.history)\n",
        "acqFuncExact_exact_10 = acqFuncExact(exact_10.history)\n",
        "\n",
        "e10 = np.mean(acqFuncExact_exact_10)\n",
        "a10 = np.mean(acqFuncApprox_exact_10)\n",
        "\n",
        "e10, a10\n"
      ],
      "metadata": {
        "colab": {
          "base_uri": "https://localhost:8080/"
        },
        "id": "W5GZo6k3Gtx8",
        "outputId": "88d550e5-1a9c-45ca-83ef-733cae1de003"
      },
      "execution_count": 109,
      "outputs": [
        {
          "output_type": "execute_result",
          "data": {
            "text/plain": [
              "(3.041778431605625, 3.158431525852244)"
            ]
          },
          "metadata": {},
          "execution_count": 109
        }
      ]
    },
    {
      "cell_type": "code",
      "source": [
        "### acqFunc attribute x, stddev: run number = 11\n",
        "\n",
        "acqFuncApprox_exact_11 = acqFuncApprox(exact_11.history)\n",
        "acqFuncExact_exact_11 = acqFuncExact(exact_11.history)\n",
        "\n",
        "e11 = np.mean(acqFuncExact_exact_11)\n",
        "a11 = np.mean(acqFuncApprox_exact_11)\n",
        "\n",
        "e11, a11\n"
      ],
      "metadata": {
        "colab": {
          "base_uri": "https://localhost:8080/"
        },
        "id": "isKNhDk5Gt9D",
        "outputId": "57ca6a33-bc34-46c4-e590-10b692affb42"
      },
      "execution_count": 110,
      "outputs": [
        {
          "output_type": "execute_result",
          "data": {
            "text/plain": [
              "(2.859336110840096, 3.0926310439851057)"
            ]
          },
          "metadata": {},
          "execution_count": 110
        }
      ]
    },
    {
      "cell_type": "code",
      "source": [
        "### acqFunc attribute x, stddev: run number = 12\n",
        "\n",
        "acqFuncApprox_exact_12 = acqFuncApprox(exact_12.history)\n",
        "acqFuncExact_exact_12 = acqFuncExact(exact_12.history)\n",
        "\n",
        "e12 = np.mean(acqFuncExact_exact_12)\n",
        "a12 = np.mean(acqFuncApprox_exact_12)\n",
        "\n",
        "e12, a12\n"
      ],
      "metadata": {
        "colab": {
          "base_uri": "https://localhost:8080/"
        },
        "id": "8ts-wrSuGuIm",
        "outputId": "2353c5b3-a656-4812-d313-94910719c867"
      },
      "execution_count": 111,
      "outputs": [
        {
          "output_type": "execute_result",
          "data": {
            "text/plain": [
              "(2.9269709083754747, 2.902265799261085)"
            ]
          },
          "metadata": {},
          "execution_count": 111
        }
      ]
    },
    {
      "cell_type": "code",
      "source": [
        "### acqFunc attribute x, stddev: run number = 13\n",
        "\n",
        "acqFuncApprox_exact_13 = acqFuncApprox(exact_13.history)\n",
        "acqFuncExact_exact_13 = acqFuncExact(exact_13.history)\n",
        "\n",
        "e13 = np.mean(acqFuncExact_exact_13)\n",
        "a13 = np.mean(acqFuncApprox_exact_13)\n",
        "\n",
        "e13, a13\n"
      ],
      "metadata": {
        "colab": {
          "base_uri": "https://localhost:8080/"
        },
        "id": "n0drhEe3GuUL",
        "outputId": "60cc3d9a-0441-4a7f-c69e-890300870348"
      },
      "execution_count": 112,
      "outputs": [
        {
          "output_type": "execute_result",
          "data": {
            "text/plain": [
              "(2.9111776714756505, 3.1965809023365703)"
            ]
          },
          "metadata": {},
          "execution_count": 112
        }
      ]
    },
    {
      "cell_type": "code",
      "source": [
        "### acqFunc attribute x, stddev: run number = 14\n",
        "\n",
        "acqFuncApprox_exact_14 = acqFuncApprox(exact_14.history)\n",
        "acqFuncExact_exact_14 = acqFuncExact(exact_14.history)\n",
        "\n",
        "e14 = np.mean(acqFuncExact_exact_14)\n",
        "a14 = np.mean(acqFuncApprox_exact_14)\n",
        "\n",
        "e14, a14\n"
      ],
      "metadata": {
        "colab": {
          "base_uri": "https://localhost:8080/"
        },
        "id": "R0W3MZaVGues",
        "outputId": "152a9f41-2fd8-4591-e0af-0d17ca87cc1a"
      },
      "execution_count": 113,
      "outputs": [
        {
          "output_type": "execute_result",
          "data": {
            "text/plain": [
              "(3.0015216621541843, 3.121902559434854)"
            ]
          },
          "metadata": {},
          "execution_count": 113
        }
      ]
    },
    {
      "cell_type": "code",
      "source": [
        "### acqFunc attribute x, stddev: run number = 15\n",
        "\n",
        "acqFuncApprox_exact_15 = acqFuncApprox(exact_15.history)\n",
        "acqFuncExact_exact_15 = acqFuncExact(exact_15.history)\n",
        "\n",
        "e15 = np.mean(acqFuncExact_exact_15)\n",
        "a15 = np.mean(acqFuncApprox_exact_15)\n",
        "\n",
        "e15, a15\n"
      ],
      "metadata": {
        "colab": {
          "base_uri": "https://localhost:8080/"
        },
        "id": "DoXdDFHoGup-",
        "outputId": "be016a13-6ebb-49d5-c58f-1d3bf7e9b90b"
      },
      "execution_count": 114,
      "outputs": [
        {
          "output_type": "execute_result",
          "data": {
            "text/plain": [
              "(2.860168621355661, 3.0512689824172234)"
            ]
          },
          "metadata": {},
          "execution_count": 114
        }
      ]
    },
    {
      "cell_type": "code",
      "source": [
        "### acqFunc attribute x, stddev: run number = 16\n",
        "\n",
        "acqFuncApprox_exact_16 = acqFuncApprox(exact_16.history)\n",
        "acqFuncExact_exact_16 = acqFuncExact(exact_16.history)\n",
        "\n",
        "e16 = np.mean(acqFuncExact_exact_16)\n",
        "a16 = np.mean(acqFuncApprox_exact_16)\n",
        "\n",
        "e16, a16\n"
      ],
      "metadata": {
        "colab": {
          "base_uri": "https://localhost:8080/"
        },
        "id": "K_wAeqSoGu2j",
        "outputId": "962b8ea6-a956-4e4c-f4ba-2b59d91514d5"
      },
      "execution_count": 115,
      "outputs": [
        {
          "output_type": "execute_result",
          "data": {
            "text/plain": [
              "(3.013338920776714, 3.0486404974313213)"
            ]
          },
          "metadata": {},
          "execution_count": 115
        }
      ]
    },
    {
      "cell_type": "code",
      "source": [
        "### acqFunc attribute x, stddev: run number = 17\n",
        "\n",
        "acqFuncApprox_exact_17 = acqFuncApprox(exact_17.history)\n",
        "acqFuncExact_exact_17 = acqFuncExact(exact_17.history)\n",
        "\n",
        "e17 = np.mean(acqFuncExact_exact_17)\n",
        "a17 = np.mean(acqFuncApprox_exact_17)\n",
        "\n",
        "e17, a17\n"
      ],
      "metadata": {
        "colab": {
          "base_uri": "https://localhost:8080/"
        },
        "id": "n6zy78fjGvBT",
        "outputId": "b6350c6c-d15d-41ed-edbe-98ecc8b220aa"
      },
      "execution_count": 116,
      "outputs": [
        {
          "output_type": "execute_result",
          "data": {
            "text/plain": [
              "(2.8693015238920965, 3.0420787904547217)"
            ]
          },
          "metadata": {},
          "execution_count": 116
        }
      ]
    },
    {
      "cell_type": "code",
      "source": [
        "### acqFunc attribute x, stddev: run number = 18\n",
        "\n",
        "acqFuncApprox_exact_18 = acqFuncApprox(exact_18.history)\n",
        "acqFuncExact_exact_18 = acqFuncExact(exact_18.history)\n",
        "\n",
        "e18 = np.mean(acqFuncExact_exact_18)\n",
        "a18 = np.mean(acqFuncApprox_exact_18)\n",
        "\n",
        "e18, a18\n"
      ],
      "metadata": {
        "colab": {
          "base_uri": "https://localhost:8080/"
        },
        "id": "s_6_2K4iGvM-",
        "outputId": "0dbe16cc-99fc-4538-defb-1e8337cbaf01"
      },
      "execution_count": 117,
      "outputs": [
        {
          "output_type": "execute_result",
          "data": {
            "text/plain": [
              "(2.908718289326442, 2.9983953663466374)"
            ]
          },
          "metadata": {},
          "execution_count": 117
        }
      ]
    },
    {
      "cell_type": "code",
      "source": [
        "### acqFunc attribute x, stddev: run number = 19\n",
        "\n",
        "acqFuncApprox_exact_19 = acqFuncApprox(exact_19.history)\n",
        "acqFuncExact_exact_19 = acqFuncExact(exact_19.history)\n",
        "\n",
        "e19 = np.mean(acqFuncExact_exact_19)\n",
        "a19 = np.mean(acqFuncApprox_exact_19)\n",
        "\n",
        "e19, a19\n"
      ],
      "metadata": {
        "colab": {
          "base_uri": "https://localhost:8080/"
        },
        "id": "o8oO8pdBGvYk",
        "outputId": "0ba900d4-6017-47d1-cb8d-787f1fb04684"
      },
      "execution_count": 118,
      "outputs": [
        {
          "output_type": "execute_result",
          "data": {
            "text/plain": [
              "(2.890851475401242, 2.959190017617189)"
            ]
          },
          "metadata": {},
          "execution_count": 118
        }
      ]
    },
    {
      "cell_type": "code",
      "source": [
        "### acqFunc attribute x, stddev: run number = 20\n",
        "\n",
        "acqFuncApprox_exact_20 = acqFuncApprox(exact_20.history)\n",
        "acqFuncExact_exact_20 = acqFuncExact(exact_20.history)\n",
        "\n",
        "e20 = np.mean(acqFuncExact_exact_20)\n",
        "a20 = np.mean(acqFuncApprox_exact_20)\n",
        "\n",
        "e20, a20\n"
      ],
      "metadata": {
        "colab": {
          "base_uri": "https://localhost:8080/"
        },
        "id": "b2w8oLc0IMzU",
        "outputId": "cf09ed29-5520-4d4a-9c8d-b7199cdb2dfa"
      },
      "execution_count": 119,
      "outputs": [
        {
          "output_type": "execute_result",
          "data": {
            "text/plain": [
              "(2.9285166484101923, 2.9791525241985104)"
            ]
          },
          "metadata": {},
          "execution_count": 119
        }
      ]
    },
    {
      "cell_type": "code",
      "source": [
        "### Summarize arrays: \n",
        "\n",
        "exact_stddev = np.sort([e1,e2,e3,e4,e5,e6,e7,e8,e9,e10,e11,e12,e13,e14,e15,e16,e17,e18,e19,e20])\n",
        "approx_stddev = np.sort([a1,a2,a3,a4,a5,a6,a7,a8,a9,a10,a11,a12,a13,a14,a15,a16,a17,a18,a19,a20])\n",
        "\n",
        "np.mean(exact_stddev), np.mean(approx_stddev)\n"
      ],
      "metadata": {
        "colab": {
          "base_uri": "https://localhost:8080/"
        },
        "id": "qAZs3yxMIZul",
        "outputId": "04c8fec9-e28f-4efe-e9ea-3d842aaa4b4d"
      },
      "execution_count": 120,
      "outputs": [
        {
          "output_type": "execute_result",
          "data": {
            "text/plain": [
              "(2.9403114038603624, 3.0537591659487426)"
            ]
          },
          "metadata": {},
          "execution_count": 120
        }
      ]
    },
    {
      "cell_type": "code",
      "source": [
        "### Visualise!\n",
        "\n",
        "title = func\n",
        "plt.figure()\n",
        "\n",
        "plt.plot(approx_stddev, color = 'Yellow', ls='-', label='Average $\\sigma$, attribute $\\mathbf{x}$: Approx GP EI gradients')\n",
        "plt.plot(exact_stddev, color = 'Red', ls='-.', label='Average $\\sigma$, attribute $\\mathbf{x}$: Exact GP dEI gradients')\n",
        "\n",
        "plt.title(title, weight = 'bold')\n",
        "plt.xlabel('Function evaluations: iteration $\\it{k}$', weight = 'bold')\n",
        "plt.ylabel('GP EI: $\\sigma$($\\mathbf{x^{*}}$)', weight = 'bold') \n",
        "plt.legend(loc=0) # add plot legend\n",
        "\n",
        "### Make the x-ticks integers, not floats:\n",
        "count = len(xstar)\n",
        "plt.xticks(np.arange(count), np.arange(1, count))\n",
        "plt.show() #visualize!\n"
      ],
      "metadata": {
        "colab": {
          "base_uri": "https://localhost:8080/",
          "height": 297
        },
        "id": "e_kpqYcMIZxu",
        "outputId": "d364dffc-5d9a-4711-e57d-56630cf88fc9"
      },
      "execution_count": 121,
      "outputs": [
        {
          "output_type": "display_data",
          "data": {
            "text/plain": [
              "<Figure size 432x288 with 1 Axes>"
            ],
            "image/png": "[encoded data removed]"
          },
          "metadata": {
            "needs_background": "light"
          }
        }
      ]
    },
    {
      "cell_type": "code",
      "source": [
        ""
      ],
      "metadata": {
        "id": "LToGd4vZIZ3I"
      },
      "execution_count": 121,
      "outputs": []
    }
  ],
  "metadata": {
    "colab": {
      "collapsed_sections": [],
      "name": "stddev_3_SumSquares_GP_dEI.ipynb",
      "provenance": []
    },
    "kernelspec": {
      "display_name": "Python 3",
      "name": "python3"
    },
    "language_info": {
      "name": "python"
    }
  },
  "nbformat": 4,
  "nbformat_minor": 0
}