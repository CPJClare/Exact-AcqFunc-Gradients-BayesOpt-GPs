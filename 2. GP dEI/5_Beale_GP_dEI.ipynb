{
  "cells": [
    {
      "cell_type": "markdown",
      "metadata": {
        "id": "Dqn4dFx7Z2Ir"
      },
      "source": [
        "\n",
        "Beale: 2D\n"
      ]
    },
    {
      "cell_type": "code",
      "execution_count": 1,
      "metadata": {
        "colab": {
          "base_uri": "https://localhost:8080/"
        },
        "id": "MJTM_GZZZb5x",
        "outputId": "196e530a-8e27-41fa-f955-5b4c0329837e"
      },
      "outputs": [
        {
          "output_type": "stream",
          "name": "stdout",
          "text": [
            "Looking in indexes: https://pypi.org/simple, https://us-python.pkg.dev/colab-wheels/public/simple/\n",
            "Collecting pyGPGO\n",
            "  Downloading pyGPGO-0.5.1.tar.gz (14 kB)\n",
            "Requirement already satisfied: numpy in /usr/local/lib/python3.7/dist-packages (from pyGPGO) (1.21.6)\n",
            "Requirement already satisfied: mkl in /usr/local/lib/python3.7/dist-packages (from pyGPGO) (2019.0)\n",
            "Requirement already satisfied: scipy in /usr/local/lib/python3.7/dist-packages (from pyGPGO) (1.7.3)\n",
            "Requirement already satisfied: joblib in /usr/local/lib/python3.7/dist-packages (from pyGPGO) (1.1.0)\n",
            "Requirement already satisfied: scikit-learn in /usr/local/lib/python3.7/dist-packages (from pyGPGO) (1.0.2)\n",
            "Requirement already satisfied: Theano-PyMC in /usr/local/lib/python3.7/dist-packages (from pyGPGO) (1.1.2)\n",
            "Requirement already satisfied: pyMC3 in /usr/local/lib/python3.7/dist-packages (from pyGPGO) (3.11.5)\n",
            "Requirement already satisfied: intel-openmp in /usr/local/lib/python3.7/dist-packages (from mkl->pyGPGO) (2022.1.0)\n",
            "Requirement already satisfied: typing-extensions>=3.7.4 in /usr/local/lib/python3.7/dist-packages (from pyMC3->pyGPGO) (4.1.1)\n",
            "Requirement already satisfied: fastprogress>=0.2.0 in /usr/local/lib/python3.7/dist-packages (from pyMC3->pyGPGO) (1.0.3)\n",
            "Requirement already satisfied: cachetools>=4.2.1 in /usr/local/lib/python3.7/dist-packages (from pyMC3->pyGPGO) (4.2.4)\n",
            "Requirement already satisfied: deprecat in /usr/local/lib/python3.7/dist-packages (from pyMC3->pyGPGO) (2.1.1)\n",
            "Requirement already satisfied: patsy>=0.5.1 in /usr/local/lib/python3.7/dist-packages (from pyMC3->pyGPGO) (0.5.2)\n",
            "Requirement already satisfied: semver>=2.13.0 in /usr/local/lib/python3.7/dist-packages (from pyMC3->pyGPGO) (2.13.0)\n",
            "Requirement already satisfied: dill in /usr/local/lib/python3.7/dist-packages (from pyMC3->pyGPGO) (0.3.5.1)\n",
            "Requirement already satisfied: pandas>=0.24.0 in /usr/local/lib/python3.7/dist-packages (from pyMC3->pyGPGO) (1.3.5)\n",
            "Requirement already satisfied: arviz>=0.11.0 in /usr/local/lib/python3.7/dist-packages (from pyMC3->pyGPGO) (0.12.1)\n",
            "Requirement already satisfied: filelock in /usr/local/lib/python3.7/dist-packages (from Theano-PyMC->pyGPGO) (3.7.1)\n",
            "Requirement already satisfied: netcdf4 in /usr/local/lib/python3.7/dist-packages (from arviz>=0.11.0->pyMC3->pyGPGO) (1.6.0)\n",
            "Requirement already satisfied: packaging in /usr/local/lib/python3.7/dist-packages (from arviz>=0.11.0->pyMC3->pyGPGO) (21.3)\n",
            "Requirement already satisfied: matplotlib>=3.0 in /usr/local/lib/python3.7/dist-packages (from arviz>=0.11.0->pyMC3->pyGPGO) (3.2.2)\n",
            "Requirement already satisfied: xarray>=0.16.1 in /usr/local/lib/python3.7/dist-packages (from arviz>=0.11.0->pyMC3->pyGPGO) (0.20.2)\n",
            "Requirement already satisfied: xarray-einstats>=0.2 in /usr/local/lib/python3.7/dist-packages (from arviz>=0.11.0->pyMC3->pyGPGO) (0.2.2)\n",
            "Requirement already satisfied: setuptools>=38.4 in /usr/local/lib/python3.7/dist-packages (from arviz>=0.11.0->pyMC3->pyGPGO) (57.4.0)\n",
            "Requirement already satisfied: cycler>=0.10 in /usr/local/lib/python3.7/dist-packages (from matplotlib>=3.0->arviz>=0.11.0->pyMC3->pyGPGO) (0.11.0)\n",
            "Requirement already satisfied: python-dateutil>=2.1 in /usr/local/lib/python3.7/dist-packages (from matplotlib>=3.0->arviz>=0.11.0->pyMC3->pyGPGO) (2.8.2)\n",
            "Requirement already satisfied: kiwisolver>=1.0.1 in /usr/local/lib/python3.7/dist-packages (from matplotlib>=3.0->arviz>=0.11.0->pyMC3->pyGPGO) (1.4.4)\n",
            "Requirement already satisfied: pyparsing!=2.0.4,!=2.1.2,!=2.1.6,>=2.0.1 in /usr/local/lib/python3.7/dist-packages (from matplotlib>=3.0->arviz>=0.11.0->pyMC3->pyGPGO) (3.0.9)\n",
            "Requirement already satisfied: pytz>=2017.3 in /usr/local/lib/python3.7/dist-packages (from pandas>=0.24.0->pyMC3->pyGPGO) (2022.1)\n",
            "Requirement already satisfied: six in /usr/local/lib/python3.7/dist-packages (from patsy>=0.5.1->pyMC3->pyGPGO) (1.15.0)\n",
            "Requirement already satisfied: importlib-metadata in /usr/local/lib/python3.7/dist-packages (from xarray>=0.16.1->arviz>=0.11.0->pyMC3->pyGPGO) (4.12.0)\n",
            "Requirement already satisfied: wrapt<2,>=1.10 in /usr/local/lib/python3.7/dist-packages (from deprecat->pyMC3->pyGPGO) (1.14.1)\n",
            "Requirement already satisfied: zipp>=0.5 in /usr/local/lib/python3.7/dist-packages (from importlib-metadata->xarray>=0.16.1->arviz>=0.11.0->pyMC3->pyGPGO) (3.8.1)\n",
            "Requirement already satisfied: cftime in /usr/local/lib/python3.7/dist-packages (from netcdf4->arviz>=0.11.0->pyMC3->pyGPGO) (1.6.1)\n",
            "Requirement already satisfied: threadpoolctl>=2.0.0 in /usr/local/lib/python3.7/dist-packages (from scikit-learn->pyGPGO) (3.1.0)\n",
            "Building wheels for collected packages: pyGPGO\n",
            "  Building wheel for pyGPGO (setup.py) ... \u001b[?25l\u001b[?25hdone\n",
            "  Created wheel for pyGPGO: filename=pyGPGO-0.5.1-py3-none-any.whl size=19879 sha256=e5eeb894580b5d27cb01eee1d9189e2539ec729faddabd6abbbc846f43821661\n",
            "  Stored in directory: /root/.cache/pip/wheels/c8/5d/0b/2160114e2f1b87791c51b66cf07f89831dbb6f49167950316f\n",
            "Successfully built pyGPGO\n",
            "Installing collected packages: pyGPGO\n",
            "Successfully installed pyGPGO-0.5.1\n"
          ]
        }
      ],
      "source": [
        "pip install pyGPGO\n"
      ]
    },
    {
      "cell_type": "code",
      "execution_count": 2,
      "metadata": {
        "id": "ZJSSPbwPaEUB"
      },
      "outputs": [],
      "source": [
        "### Import:\n",
        "\n",
        "import numpy as np\n",
        "import scipy as sp\n",
        "import pandas as pd\n",
        "import matplotlib.pyplot as plt\n",
        "import warnings\n",
        "import itertools\n",
        "\n",
        "from pyGPGO.GPGO import GPGO\n",
        "from pyGPGO.surrogates.GaussianProcess import GaussianProcess\n",
        "from pyGPGO.acquisition import Acquisition\n",
        "from pyGPGO.covfunc import squaredExponential\n",
        "\n",
        "from joblib import Parallel, delayed\n",
        "from numpy.linalg import solve, cholesky\n",
        "from scipy.spatial.distance import cdist\n",
        "from scipy.optimize import minimize\n",
        "from scipy.stats import norm\n",
        "import time\n",
        "\n",
        "warnings.filterwarnings(\"ignore\", category=RuntimeWarning)\n"
      ]
    },
    {
      "cell_type": "code",
      "execution_count": 3,
      "metadata": {
        "id": "OeYcTUNoaJWa"
      },
      "outputs": [],
      "source": [
        "### Inputs:\n",
        "\n",
        "func = 'Beale'\n",
        "n_test = 500\n",
        "eps = 1e-08\n",
        "\n",
        "util = 'EI'\n",
        "\n",
        "n_init = 5 # random initialisations\n",
        "iters = 20\n",
        "opt = True"
      ]
    },
    {
      "cell_type": "code",
      "execution_count": 4,
      "metadata": {
        "id": "xpaEOjdzaPMS"
      },
      "outputs": [],
      "source": [
        "### Objective Function - Beale(x) 2-D:\n",
        "\n",
        "def objfunc(x1_training, x2_training):\n",
        "            return  operator * (\n",
        "                (1.500 - x1_training + x1_training * x2_training)**2 +\n",
        "                (2.250 - x1_training + x1_training * x2_training**2)**2 +\n",
        "                (2.625 - x1_training + x1_training * x2_training**3)**2 \n",
        "                )\n",
        "       \n",
        "# Constraints:\n",
        "lb = -4.5\n",
        "ub = +4.5\n",
        "\n",
        "# Input array dimension(s):\n",
        "dim = 2\n",
        "\n",
        "# 2-D inputs' parameter bounds:\n",
        "param = {'x1_training': ('cont', [lb, ub]),\n",
        "             'x2_training': ('cont', [lb, ub])}\n",
        "\n",
        "# True y bounds:\n",
        "operator = -1\n",
        "y_lb = 0 # targets global minimum\n",
        "y_global_orig = y_lb * operator # targets global minimum\n",
        "\n",
        "# Test data:\n",
        "x1_test = np.linspace(lb, ub, n_test)\n",
        "x2_test = np.linspace(lb, ub, n_test)\n",
        "  \n",
        "x_test = np.column_stack((x1_test,x2_test))\n"
      ]
    },
    {
      "cell_type": "code",
      "execution_count": 5,
      "metadata": {
        "id": "eYpI3Zm4aGxi"
      },
      "outputs": [],
      "source": [
        "n_start_AcqFunc = iters\n",
        "inverse = -1\n"
      ]
    },
    {
      "cell_type": "code",
      "execution_count": 6,
      "metadata": {
        "id": "oO_GUmOoaV0T"
      },
      "outputs": [],
      "source": [
        "### Cumulative Regret Calculators:\n",
        "\n",
        "def min_max_array(x):\n",
        "    new_list = []\n",
        "    for i, num in enumerate(x):\n",
        "            new_list.append(np.min(x[0:i+1]))\n",
        "    return new_list\n",
        "  \n",
        "def acqFuncExact(x):\n",
        "    new_array = []\n",
        "    x = np.array(x) \n",
        "    for i, num in enumerate(x):\n",
        "            new_array = x[:-2][::-3]\n",
        "    return new_array[::-1]\n",
        "\n",
        "def acqFuncApprox(x):\n",
        "    new_array = []\n",
        "    x = np.array(x) \n",
        "    for i, num in enumerate(x):\n",
        "            new_array = x[:-1][::-3]\n",
        "    return new_array[::-1]\n"
      ]
    },
    {
      "cell_type": "code",
      "execution_count": 7,
      "metadata": {
        "id": "kuuJx0IMam9S"
      },
      "outputs": [],
      "source": [
        "### Surrogate derivatives: \n",
        "\n",
        "cov_func = squaredExponential()\n",
        "\n",
        "def kronDelta(X, Xstar):                     # Kronecker's Delta method\n",
        "    return cdist(X, Xstar) < np.finfo(np.float32).eps\n",
        "\n",
        "def se(X, Xstar, sigmaf, l, sigman):         # S.E. kernel method\n",
        "    return sigmaf * np.exp(-0.5 * cdist(X, Xstar) ** 2 / l ** 2) + sigman * kronDelta(X, Xstar)\n",
        "\n",
        "def delta(X, Xstar):                         # Distance between training X and test Xstar vectors\n",
        "    return (X - Xstar)\n",
        "   \n",
        "def der_covmat(X, Xstar, sigmaf, l, sigman): # Covariance matrix derivative terms (i.e. exact, first-order)\n",
        "    nx = len(X)\n",
        "    ny = len(Xstar)\n",
        "    return np.round(np.array([(delta(np.atleast_2d(i), np.atleast_2d(j))[0] * se(np.atleast_2d(i), np.atleast_2d(j), sigmaf, l, sigman)[0]).sum() for (i, j) in itertools.product(X, Xstar)]).reshape(nx, ny), 8)\n",
        "\n",
        "class dGaussianProcess(GaussianProcess):    # Via inheritance, also optimises hyperparameters when opt = TRUE\n",
        "    \n",
        "    def AcqGrad(self, Xstar):               # Method returning exact, first-order derivatives of the GP's posterior mean and standard deviation\n",
        "        Xstar = np.atleast_2d(Xstar)\n",
        "        Kstar = self.covfunc.K(self.X, Xstar).T\n",
        "        \n",
        "        dKstar = der_covmat(self.X, Xstar, self.covfunc.sigmaf, self.covfunc.l, self.covfunc.sigman).T\n",
        "        alpha_Kstar = np.dot(np.linalg.inv(self.K + (self.covfunc.sigman**2) * np.eye(len(self.X))), Kstar.T)\n",
        "        \n",
        "        dm = np.dot(dKstar, self.alpha)\n",
        "        ds = -2 * np.dot(dKstar, alpha_Kstar)\n",
        "        \n",
        "        return dm, ds           \n"
      ]
    },
    {
      "cell_type": "code",
      "execution_count": 8,
      "metadata": {
        "id": "_Dc3YVHVaXz7"
      },
      "outputs": [],
      "source": [
        "### Add exact acquisition function gradient as attribute:\n",
        "\n",
        "class Acquisition_grad(Acquisition):    \n",
        "    def __init__(self, mode, eps=eps, **params):\n",
        "        \n",
        "        self.params = params\n",
        "        self.eps = eps\n",
        "\n",
        "        mode_dict = {\n",
        "            'EI': self.EI\n",
        "        }\n",
        "\n",
        "        self.f = mode_dict[mode]\n",
        "    \n",
        "    def EI(self, tau, mean, std, ds, dm):\n",
        "        gamma = (mean - tau - self.eps) / (std + self.eps)\n",
        "        gamma_h = (mean - tau) / (std + self.eps)\n",
        "        dsdx = ds / (2 * (std + self.eps))\n",
        "        dmdx = (dm - gamma * dsdx) / (std + self.eps)\n",
        "        \n",
        "        f = (std + self.eps) * (gamma * norm.cdf(gamma) + norm.pdf(gamma))\n",
        "        df1 = f / (std + self.eps) * dsdx \n",
        "        df2 = (std + self.eps) * norm.cdf(gamma) * dmdx\n",
        "        df = (df1 + df2)[0]\n",
        "        df_arr = []\n",
        "\n",
        "        for j in range(0, dim):\n",
        "          df_arr.append(df)\n",
        "        return f, np.asarray(df_arr).transpose()\n",
        "        \n",
        "    def d_eval(self, tau, mean, std, ds, dm):\n",
        "    \n",
        "        return self.f(tau, mean, std, ds, dm, **self.params)\n",
        "        "
      ]
    },
    {
      "cell_type": "code",
      "execution_count": 9,
      "metadata": {
        "id": "PITEQC8YSl7i"
      },
      "outputs": [],
      "source": [
        "## GPGO_multi: \n",
        "\n",
        "class GPGO_multi(GPGO):\n",
        "    n_start = n_start_AcqFunc\n",
        "\n",
        "    def __init__(self, surrogate, acquisition, f, parameter_dict, n_jobs=1):\n",
        "        self.GP = surrogate\n",
        "        self.A = acquisition\n",
        "        self.f = f\n",
        "        self.parameters = parameter_dict\n",
        "        self.n_jobs = n_jobs\n",
        "\n",
        "        self.parameter_key = list(parameter_dict.keys())\n",
        "        self.parameter_value = list(parameter_dict.values())\n",
        "        self.parameter_type = [p[0] for p in self.parameter_value]\n",
        "        self.parameter_range = [p[1] for p in self.parameter_value]\n",
        "\n",
        "        self.history = []\n",
        "        self.header =   'Evaluation \\t Proposed point \\t  Current eval. \\t  Best eval. \\t        Exact EI: StdDev. x \\t Approx EI: StdDev. x '\n",
        "        self.template = '{:3}\\t {}\\t {:3}\\t {:3}\\t {:3}\\t {:3}'\n",
        " \n",
        "    def acqfuncExact(self, xnew, n_start=n_start_AcqFunc):\n",
        "        new_mean, new_var = self.GP.predict(xnew, return_std=True)\n",
        "        new_std = np.sqrt(new_var + eps)\n",
        "        dm, ds = self.GP.AcqGrad(xnew)\n",
        "        f, df = self.A.d_eval(self.tau, new_mean, new_std, ds=ds, dm=dm)\n",
        "\n",
        "        return -f, -df\n",
        "   \n",
        "    def acqfuncApprox(self, xnew, n_start=n_start_AcqFunc):\n",
        "        new_mean, new_var = self.GP.predict(xnew, return_std=True)\n",
        "        new_std = np.sqrt(new_var + eps)\n",
        "        dm, ds = self.GP.AcqGrad(xnew)\n",
        "        f, df = self.A.d_eval(self.tau, new_mean, new_std, ds=ds, dm=dm)\n",
        "\n",
        "        return -f\n",
        "   \n",
        "    def _optimizeAcq(self, method='L-BFGS-B', n_start=n_start_AcqFunc):\n",
        "        \n",
        "        start_points_dict = [self._sampleParam() for i in range(n_start)]\n",
        "        start_points_arr = np.array([list(s.values())\n",
        "                                     for s in start_points_dict])\n",
        "        x_best = np.empty((n_start, len(self.parameter_key)))\n",
        "        f_best = np.empty((n_start,))\n",
        "        opt = Parallel(n_jobs=self.n_jobs)(delayed(minimize)(self.acqfuncApprox,\n",
        "                                                                 x0=start_point,\n",
        "                                                                 method=method,\n",
        "                                                                 jac = False,\n",
        "                                                                 bounds=self.parameter_range) for start_point in\n",
        "                                               start_points_arr)\n",
        "        x_best = np.array([res.x for res in opt])\n",
        "        f_best = np.array([np.atleast_1d(res.fun)[0] for res in opt])\n",
        "        f_best_min = min(f_best)\n",
        "\n",
        "        self.x_best = x_best\n",
        "        self.f_best = f_best\n",
        "        self.f_best_min = f_best_min\n",
        "        self.x_best_std = np.std(x_best)\n",
        "        self.best = x_best[np.argmin(f_best)]\n",
        "        self.start_points_arr = start_points_arr        \n",
        "        self.history.append(self.x_best_std)\n",
        "\n",
        "        x_best_exact = np.empty((n_start, len(self.parameter_key)))\n",
        "        f_best_exact = np.empty((n_start,))\n",
        "        opt_exact = Parallel(n_jobs=self.n_jobs)(delayed(minimize)(self.acqfuncExact,\n",
        "                                                                 x0=start_point,\n",
        "                                                                 method=method,\n",
        "                                                                 jac = True,\n",
        "                                                                 bounds=self.parameter_range) for start_point in\n",
        "                                               start_points_arr)\n",
        "        x_best_exact = np.array([res.x for res in opt_exact])\n",
        "        f_best_exact = np.array([np.atleast_1d(res.fun)[0] for res in opt_exact])\n",
        "        f_best_min_exact = min(f_best_exact)\n",
        "\n",
        "        self.x_best_exact = x_best_exact\n",
        "        self.f_best_exact = f_best_exact\n",
        "        self.f_best_min_exact = f_best_min_exact\n",
        "        self.x_best_std_exact = np.std(x_best_exact)\n",
        "        self.best_exact = x_best_exact[np.argmin(f_best_exact)]\n",
        "        self.start_points_arr = start_points_arr\n",
        "        self.history.append(self.x_best_std_exact)\n",
        "\n",
        "    def _printInit(self):\n",
        "        print(self.header)\n",
        "        for init_eval in range(self.init_evals):\n",
        "            print(self.template.format('init', self.GP.X[init_eval], inverse * self.GP.y[init_eval], inverse * self.tau, '', ''))\n",
        "      \n",
        "    def _printCurrent(self):\n",
        "        OKGREEN = '\\033[92m'\n",
        "        ENDC = '\\033[0m'\n",
        "        BOLD = '\\033[1m'\n",
        "        eval = str(len(self.GP.y) - self.init_evals)\n",
        "        proposed = str(self.best)\n",
        "        curr_eval = str(inverse * self.GP.y[-1])\n",
        "        curr_best = str(inverse * self.tau)\n",
        "        min_acqfunc = str(self.f_best_min)\n",
        "        min_acqfunc_exact = str(self.f_best_min_exact)\n",
        "        x_best_std = str(self.x_best_std)\n",
        "        x_best_std_exact = str(self.x_best_std_exact)\n",
        "        if float(curr_eval) <= float(curr_best):\n",
        "            eval = BOLD + OKGREEN + eval + ENDC\n",
        "            proposed = BOLD + OKGREEN + proposed + ENDC\n",
        "            curr_eval = BOLD + OKGREEN + curr_eval + ENDC\n",
        "            curr_best = BOLD + OKGREEN + curr_best + ENDC\n",
        "            x_best_std = BOLD + OKGREEN + x_best_std + ENDC\n",
        "            x_best_std_exact = BOLD + OKGREEN + x_best_std_exact + ENDC\n",
        "        print(self.template.format(eval, proposed, curr_eval, curr_best, x_best_std_exact, x_best_std))\n",
        "        \n",
        "    def run(self, max_iter=10, init_evals=3, resume=False):\n",
        "        \n",
        "        if not resume:\n",
        "            self.init_evals = init_evals\n",
        "            self._firstRun(self.init_evals)\n",
        "            self._printInit()\n",
        "        for iteration in range(max_iter):\n",
        "            self._optimizeAcq()\n",
        "            self.updateGP()\n",
        "            self._printCurrent()\n"
      ]
    },
    {
      "cell_type": "code",
      "execution_count": 10,
      "metadata": {
        "id": "b_B-w81BJxKN"
      },
      "outputs": [],
      "source": [
        "## dGPGO:\n",
        "\n",
        "class dGPGO(GPGO):\n",
        "    n_start = n_start_AcqFunc\n",
        "\n",
        "    def __init__(self, surrogate, acquisition, f, parameter_dict, n_jobs=1):\n",
        "        self.GP = surrogate\n",
        "        self.A = acquisition\n",
        "        self.f = f\n",
        "        self.parameters = parameter_dict\n",
        "        self.n_jobs = n_jobs\n",
        "\n",
        "        self.parameter_key = list(parameter_dict.keys())\n",
        "        self.parameter_value = list(parameter_dict.values())\n",
        "        self.parameter_type = [p[0] for p in self.parameter_value]\n",
        "        self.parameter_range = [p[1] for p in self.parameter_value]\n",
        "\n",
        "        self.history = []\n",
        "        self.header =   'Evaluation \\t Proposed point \\t  Current eval. \\t  Best eval. \\t        Exact EI: StdDev. x \\t Approx EI: StdDev. x '\n",
        "        self.template = '{:3}\\t {}\\t {:3}\\t {:3}\\t {:3}\\t {:3}'\n",
        "\n",
        "    def acqfuncExact(self, xnew, n_start=n_start_AcqFunc):\n",
        "        new_mean, new_var = self.GP.predict(xnew, return_std=True)\n",
        "        new_std = np.sqrt(new_var + eps)\n",
        "        dm, ds = self.GP.AcqGrad(xnew)\n",
        "        f, df = self.A.d_eval(self.tau, new_mean, new_std, ds=ds, dm=dm)\n",
        "\n",
        "        return -f, -df\n",
        "   \n",
        "    def acqfuncApprox(self, xnew, n_start=n_start_AcqFunc):\n",
        "        new_mean, new_var = self.GP.predict(xnew, return_std=True)\n",
        "        new_std = np.sqrt(new_var + eps)\n",
        "        dm, ds = self.GP.AcqGrad(xnew)\n",
        "        f, df = self.A.d_eval(self.tau, new_mean, new_std, ds=ds, dm=dm)\n",
        "\n",
        "        return -f\n",
        "\n",
        "    def d_optimizeAcq(self, method='L-BFGS-B', n_start=n_start_AcqFunc):\n",
        "        start_points_dict = [self._sampleParam() for i in range(n_start)]\n",
        "        start_points_arr = np.array([list(s.values())\n",
        "                                     for s in start_points_dict])\n",
        "        x_best = np.empty((n_start, len(self.parameter_key)))\n",
        "        f_best = np.empty((n_start,))\n",
        "        opt = Parallel(n_jobs=self.n_jobs)(delayed(minimize)(self.acqfuncExact,\n",
        "                                                                 x0=start_point,\n",
        "                                                                 method=method,\n",
        "                                                                 jac = True,\n",
        "                                                                 bounds=self.parameter_range) for start_point in\n",
        "                                               start_points_arr)\n",
        "        x_best = np.array([res.x for res in opt])\n",
        "        f_best = np.array([np.atleast_1d(res.fun)[0] for res in opt])\n",
        "        f_best_min = min(f_best)\n",
        "\n",
        "        self.x_best = x_best\n",
        "        self.f_best = f_best\n",
        "        self.f_best_min = f_best_min\n",
        "        self.x_best_std = np.std(x_best)\n",
        "        self.best = x_best[np.argmin(f_best)]\n",
        "        self.start_points_arr = start_points_arr\n",
        "        self.history.append(self.x_best_std)\n",
        "\n",
        "        x_best_approx = np.empty((n_start, len(self.parameter_key)))\n",
        "        f_best_approx = np.empty((n_start,))\n",
        "        opt_approx = Parallel(n_jobs=self.n_jobs)(delayed(minimize)(self.acqfuncApprox,\n",
        "                                                                 x0=start_point,\n",
        "                                                                 method=method,\n",
        "                                                                 jac = False,\n",
        "                                                                 bounds=self.parameter_range) for start_point in\n",
        "                                               start_points_arr)\n",
        "        x_best_approx = np.array([res.x for res in opt_approx])\n",
        "        f_best_approx = np.array([np.atleast_1d(res.fun)[0] for res in opt_approx])\n",
        "        f_best_min_approx = min(f_best_approx)\n",
        "\n",
        "        self.x_best_approx = x_best_approx\n",
        "        self.f_best_approx = f_best_approx\n",
        "        self.f_best_min_approx = f_best_min_approx\n",
        "        self.x_best_std_approx = np.std(x_best_approx)\n",
        "        self.best_approx = x_best_approx[np.argmin(f_best_approx)]\n",
        "        self.start_points_arr = start_points_arr\n",
        "        self.history.append(self.x_best_std_approx)\n",
        "    \n",
        "    def _printInit(self):\n",
        "        print(self.header)\n",
        "        for init_eval in range(self.init_evals):\n",
        "            print(self.template.format('init', self.GP.X[init_eval], inverse * self.GP.y[init_eval], inverse * self.tau, '', ''))\n",
        "      \n",
        "    def _printCurrent(self):\n",
        "        OKGREEN = '\\033[92m'\n",
        "        ENDC = '\\033[0m'\n",
        "        BOLD = '\\033[1m'\n",
        "        eval = str(len(self.GP.y) - self.init_evals)\n",
        "        proposed = str(self.best)\n",
        "        curr_eval = str(inverse * self.GP.y[-1])\n",
        "        curr_best = str(inverse * self.tau)\n",
        "        min_acqfunc = str(self.f_best_min)\n",
        "        min_acqfunc_approx = str(self.f_best_min_approx)\n",
        "        x_best_std = str(self.x_best_std)\n",
        "        x_best_std_approx = str(self.x_best_std_approx)\n",
        "        if float(curr_eval) <= float(curr_best):\n",
        "            eval = BOLD + OKGREEN + eval + ENDC\n",
        "            proposed = BOLD + OKGREEN + proposed + ENDC\n",
        "            curr_eval = BOLD + OKGREEN + curr_eval + ENDC\n",
        "            curr_best = BOLD + OKGREEN + curr_best + ENDC\n",
        "            x_best_std = BOLD + OKGREEN + x_best_std + ENDC\n",
        "            x_best_std_approx = BOLD + OKGREEN + x_best_std_approx + ENDC\n",
        "        print(self.template.format(eval, proposed, curr_eval, curr_best, x_best_std, x_best_std_approx))\n",
        "\n",
        "    def run(self, max_iter=10, init_evals=3, resume=False):\n",
        "        \n",
        "        if not resume:\n",
        "            self.init_evals = init_evals\n",
        "            self._firstRun(self.init_evals)\n",
        "            self._printInit()\n",
        "        for iteration in range(max_iter):\n",
        "            self.d_optimizeAcq()\n",
        "            self.updateGP()\n",
        "            self._printCurrent()\n"
      ]
    },
    {
      "cell_type": "code",
      "execution_count": 11,
      "metadata": {
        "id": "qXIKGuXVGEg2"
      },
      "outputs": [],
      "source": [
        "###Reproducible set-seeds:\n",
        "\n",
        "run_num_1 = 1\n",
        "run_num_2 = 2\n",
        "run_num_3 = 3\n",
        "run_num_4 = 4\n",
        "run_num_5 = 5\n",
        "run_num_6 = 6\n",
        "run_num_7 = 7\n",
        "run_num_8 = 8\n",
        "run_num_9 = 9\n",
        "run_num_10 = 10\n",
        "run_num_11 = 11\n",
        "run_num_12 = 12\n",
        "run_num_13 = 13\n",
        "run_num_14 = 14\n",
        "run_num_15 = 15\n",
        "run_num_16 = 16\n",
        "run_num_17 = 17\n",
        "run_num_18 = 18\n",
        "run_num_19 = 19\n",
        "run_num_20 = 20\n"
      ]
    },
    {
      "cell_type": "code",
      "execution_count": 12,
      "metadata": {
        "colab": {
          "base_uri": "https://localhost:8080/"
        },
        "id": "JEhagQmnTVIK",
        "outputId": "cfa24f69-95ed-44c7-ca2a-3d7b8514adf3"
      },
      "outputs": [
        {
          "output_type": "execute_result",
          "data": {
            "text/plain": [
              "1659612876.9809387"
            ]
          },
          "metadata": {},
          "execution_count": 12
        }
      ],
      "source": [
        "start_approx = time.time()\n",
        "start_approx\n"
      ]
    },
    {
      "cell_type": "code",
      "execution_count": 13,
      "metadata": {
        "colab": {
          "base_uri": "https://localhost:8080/"
        },
        "id": "aH0YSTXufD1v",
        "outputId": "f19b2e9d-a7cb-4f5a-8170-fda79aeb5aec"
      },
      "outputs": [
        {
          "output_type": "stream",
          "name": "stdout",
          "text": [
            "Evaluation \t Proposed point \t  Current eval. \t  Best eval. \t        Exact EI: StdDev. x \t Approx EI: StdDev. x \n",
            "init\t [-0.74680196  1.98292044]\t 6.597029498756062\t 6.597029498756062\t    \t    \n",
            "init\t [-4.49897063 -1.77900685]\t 1305.4710589552556\t 6.597029498756062\t    \t    \n",
            "init\t [-3.17919698 -3.66895265]\t 28173.776013477825\t 6.597029498756062\t    \t    \n",
            "init\t [-2.8236581  -1.38995346]\t 237.9931764117774\t 6.597029498756062\t    \t    \n",
            "init\t [-0.92909273  0.34935061]\t 26.1790631757263\t 6.597029498756062\t    \t    \n",
            "1  \t [-2.52382186 -0.50243815]\t 75.0256043378522\t 6.597029498756062\t 3.3335306044428745\t 3.4939839563365958\n",
            "2  \t [4.23778613 4.5       ]\t 155176.6855796679\t 6.597029498756062\t 2.7697155085056138\t 3.364163797510293\n",
            "3  \t [ 4.5 -4.5]\t 178131.83203125\t 6.597029498756062\t 2.76208089319155\t 3.3937169857969196\n",
            "4  \t [-2.50837814 -0.55074818]\t 75.8601633921426\t 6.597029498756062\t 2.935304808472569\t 3.231395451973996\n",
            "5  \t [-4.5  4.5]\t 169680.83203125\t 6.597029498756062\t 2.1821977761555846\t 2.896107340312921\n",
            "\u001b[1m\u001b[92m6\u001b[0m\t \u001b[1m\u001b[92m[ 1.90827548 -0.08079512]\u001b[0m\t \u001b[1m\u001b[92m0.9540522729437355\u001b[0m\t \u001b[1m\u001b[92m0.9540522729437355\u001b[0m\t \u001b[1m\u001b[92m2.383065132942223\u001b[0m\t \u001b[1m\u001b[92m2.368859109236721\u001b[0m\n",
            "7  \t [ 1.90689675 -0.08124063]\t 0.9563546448776966\t 0.9540522729437355\t 2.682841667883303\t 2.680957610099375\n",
            "8  \t [ 0.79381399 -1.33226679]\t 8.334690107297318\t 0.9540522729437355\t 2.8756962581205467\t 2.8875191716636426\n",
            "9  \t [2.61288761e+00 2.32876024e-03]\t 1.3568363164972372\t 0.9540522729437355\t 2.5844108095440768\t 2.5614059260247135\n",
            "10 \t [1.43944329 0.63318657]\t 5.275908446738045\t 0.9540522729437355\t 2.6846953462201766\t 2.6678191349122815\n",
            "11 \t [ 2.78130524 -0.06562781]\t 2.4371937788553386\t 0.9540522729437355\t 2.446319019803474\t 2.432749211520922\n",
            "12 \t [-0.0716056   2.82593887]\t 6.104298934475927\t 0.9540522729437355\t 2.648972809641084\t 2.6665733437723627\n",
            "13 \t [ 2.5825691 -0.0915402]\t 1.8380154944917113\t 0.9540522729437355\t 2.2094067338377186\t 2.185361528009646\n",
            "14 \t [ 2.54329136 -0.09551597]\t 1.7336189866392173\t 0.9540522729437355\t 2.6909609446590044\t 2.620756858621415\n",
            "15 \t [ 2.52423412 -0.09688532]\t 1.682308143174838\t 0.9540522729437355\t 2.3401962349461134\t 2.3330921981464523\n",
            "16 \t [ 2.51358146 -0.09733533]\t 1.6525635735324\t 0.9540522729437355\t 2.599922338955574\t 2.5954882889789768\n",
            "17 \t [ 2.50677284 -0.0974114 ]\t 1.6326213332569768\t 0.9540522729437355\t 2.5944965024198363\t 2.579036618511047\n",
            "18 \t [ 2.50242101 -0.09732682]\t 1.6192271522429407\t 0.9540522729437355\t 2.594099783101065\t 2.542574041402702\n",
            "19 \t [ 2.49949336 -0.09717909]\t 1.609744612829806\t 0.9540522729437355\t 2.921121552241064\t 2.9240334615672228\n",
            "20 \t [ 2.49743415 -0.09701151]\t 1.602732028244097\t 0.9540522729437355\t 2.599916723271872\t 2.6209123256829296\n"
          ]
        }
      ],
      "source": [
        "### ESTIMATED GP EI GRADIENTS\n",
        "\n",
        "np.random.seed(run_num_1)\n",
        "surrogate_approx_1 = dGaussianProcess(cov_func, optimize=opt)\n",
        "\n",
        "approx_1 = GPGO_multi(surrogate_approx_1, Acquisition_grad(util), objfunc, param)\n",
        "approx_1.run(init_evals=n_init, max_iter=iters)\n"
      ]
    },
    {
      "cell_type": "code",
      "execution_count": 14,
      "metadata": {
        "id": "wTxsSZxFGBB5",
        "colab": {
          "base_uri": "https://localhost:8080/"
        },
        "outputId": "b45b7c36-3c01-4868-c220-4dd397873be0"
      },
      "outputs": [
        {
          "output_type": "stream",
          "name": "stdout",
          "text": [
            "Evaluation \t Proposed point \t  Current eval. \t  Best eval. \t        Exact EI: StdDev. x \t Approx EI: StdDev. x \n",
            "init\t [-0.57604588 -4.26666391]\t 2377.8441741808733\t 8.81624267140378\t    \t    \n",
            "init\t [ 0.4469623  -0.58209847]\t 8.81624267140378\t 8.81624267140378\t    \t    \n",
            "init\t [-0.71668978 -1.52698661]\t 47.3742628518178\t 8.81624267140378\t    \t    \n",
            "init\t [-2.65816229  1.0734387 ]\t 9.08861590265506\t 8.81624267140378\t    \t    \n",
            "init\t [-1.80310794 -2.09855452]\t 510.2220943696988\t 8.81624267140378\t    \t    \n",
            "1  \t [ 0.2537764  -0.62231539]\t 10.907721181233086\t 8.81624267140378\t 3.217020350849662\t 3.3148173065942546\n",
            "2  \t [4.5 4.5]\t 174813.36328125\t 8.81624267140378\t 2.723077362863548\t 2.971150992560005\n",
            "3  \t [ 4.5       -2.3375613]\t 4204.566016189519\t 8.81624267140378\t 2.947404831184239\t 3.535525633423552\n",
            "4  \t [-4.5  4.5]\t 169680.83203125\t 8.81624267140378\t 2.911944193423653\t 3.1344442335551506\n",
            "5  \t [-2.00866815  0.75287658]\t 27.98239657453496\t 8.81624267140378\t 2.7513482402482636\t 2.751674176127131\n",
            "6  \t [-4.5        -0.29212907]\t 146.40555563058683\t 8.81624267140378\t 2.8311991143864446\t 2.8150497779724852\n",
            "7  \t [-4.5 -4.5]\t 181853.61328125\t 8.81624267140378\t 2.718709874319798\t 2.6825181954838553\n",
            "8  \t [0.06582863 2.22716009]\t 19.602878189822256\t 8.81624267140378\t 2.4309561795211354\t 2.3747760025123523\n",
            "\u001b[1m\u001b[92m9\u001b[0m\t \u001b[1m\u001b[92m[1.65003359 0.55747975]\u001b[0m\t \u001b[1m\u001b[92m3.42061760925419\u001b[0m\t \u001b[1m\u001b[92m3.42061760925419\u001b[0m\t \u001b[1m\u001b[92m2.4851137991699717\u001b[0m\t \u001b[1m\u001b[92m2.474195646980452\u001b[0m\n",
            "10 \t [ 0.51923239 -0.71750669]\t 8.025522959146402\t 3.42061760925419\t 2.5069462576527477\t 2.553388401504257\n",
            "11 \t [1.66544123 0.57654702]\t 3.562231690038902\t 3.42061760925419\t 2.6680251830298087\t 2.6923540918362665\n",
            "12 \t [1.66485608 0.57627519]\t 3.5616639477072844\t 3.42061760925419\t 2.068470879008399\t 2.162444078323263\n",
            "13 \t [1.6645345  0.57612718]\t 3.5613691222301016\t 3.42061760925419\t 2.7014436337916563\t 2.7975504851133235\n",
            "14 \t [1.6643378  0.57602937]\t 3.5611075569284925\t 3.42061760925419\t 2.752995704950085\t 2.7498650442073456\n",
            "15 \t [1.66420138 0.57596312]\t 3.5609442272503125\t 3.42061760925419\t 2.480680536476612\t 2.4896445459418097\n",
            "16 \t [1.6641032  0.57591368]\t 3.5608070899893773\t 3.42061760925419\t 2.3798722585429886\t 2.3920087866111053\n",
            "17 \t [ 0.42984164 -0.65027741]\t 8.946575246768443\t 3.42061760925419\t 2.5812728848537145\t 2.576510527155567\n",
            "18 \t [1.67888682 0.58427321]\t 3.593468434119699\t 3.42061760925419\t 2.5376728576033\t 2.545547683490548\n",
            "19 \t [1.67870823 0.58423777]\t 3.5938123740446626\t 3.42061760925419\t 2.4821783226840948\t 2.5040702448909973\n",
            "20 \t [1.67856449 0.58420842]\t 3.594079709462262\t 3.42061760925419\t 2.6116335542489466\t 2.628205437165849\n"
          ]
        }
      ],
      "source": [
        "### ESTIMATED GP EI GRADIENTS\n",
        "\n",
        "np.random.seed(run_num_2)\n",
        "surrogate_approx_2 = dGaussianProcess(cov_func, optimize=opt)\n",
        "\n",
        "approx_2 = GPGO_multi(surrogate_approx_2, Acquisition_grad(util), objfunc, param)\n",
        "approx_2.run(init_evals=n_init, max_iter=iters)\n"
      ]
    },
    {
      "cell_type": "code",
      "execution_count": 15,
      "metadata": {
        "id": "-dgzIrUIGCGT",
        "colab": {
          "base_uri": "https://localhost:8080/"
        },
        "outputId": "3774662a-1f5c-453b-954b-98d1077e6eaf"
      },
      "outputs": [
        {
          "output_type": "stream",
          "name": "stdout",
          "text": [
            "Evaluation \t Proposed point \t  Current eval. \t  Best eval. \t        Exact EI: StdDev. x \t Approx EI: StdDev. x \n",
            "init\t [0.45718112 1.8733304 ]\t 41.912714742005974\t 41.912714742005974\t    \t    \n",
            "init\t [-1.88185735  0.09744845]\t 47.451188393399434\t 41.912714742005974\t    \t    \n",
            "init\t [3.53652259 3.5666378 ]\t 27475.816689924115\t 41.912714742005974\t    \t    \n",
            "init\t [-3.36973221 -2.6348141 ]\t 5079.048973002421\t 41.912714742005974\t    \t    \n",
            "init\t [-4.03679517 -0.53271141]\t 138.4086524103332\t 41.912714742005974\t    \t    \n",
            "\u001b[1m\u001b[92m1\u001b[0m\t \u001b[1m\u001b[92m[-4.5         1.08650849]\u001b[0m\t \u001b[1m\u001b[92m5.1319250495973465\u001b[0m\t \u001b[1m\u001b[92m5.1319250495973465\u001b[0m\t \u001b[1m\u001b[92m2.0314956419089514\u001b[0m\t \u001b[1m\u001b[92m3.0397654458353562\u001b[0m\n",
            "2  \t [ 2.45032103 -4.5       ]\t 52364.0888749905\t 5.1319250495973465\t 2.465986310594112\t 3.1942751742097735\n",
            "3  \t [-2.95953733  4.5       ]\t 72823.4228943874\t 5.1319250495973465\t 2.5666332522574455\t 3.209614925430854\n",
            "4  \t [ 4.5        -0.60867228]\t 41.626812801145306\t 5.1319250495973465\t 2.3710643652804477\t 2.4633675014421637\n",
            "\u001b[1m\u001b[92m5\u001b[0m\t \u001b[1m\u001b[92m[ 1.01667121 -0.38759672]\u001b[0m\t \u001b[1m\u001b[92m4.328944488988598\u001b[0m\t \u001b[1m\u001b[92m4.328944488988598\u001b[0m\t \u001b[1m\u001b[92m2.522550840413289\u001b[0m\t \u001b[1m\u001b[92m2.5250469222220255\u001b[0m\n",
            "6  \t [ 0.41554382 -0.66126227]\t 9.085655324801564\t 4.328944488988598\t 2.512193499470045\t 2.508364099333298\n",
            "\u001b[1m\u001b[92m7\u001b[0m\t \u001b[1m\u001b[92m[ 1.85490497 -0.24278986]\u001b[0m\t \u001b[1m\u001b[92m1.4557584730637543\u001b[0m\t \u001b[1m\u001b[92m1.4557584730637543\u001b[0m\t \u001b[1m\u001b[92m2.492633957865312\u001b[0m\t \u001b[1m\u001b[92m2.5078563556523505\u001b[0m\n",
            "\u001b[1m\u001b[92m8\u001b[0m\t \u001b[1m\u001b[92m[ 1.89386785 -0.24476738]\u001b[0m\t \u001b[1m\u001b[92m1.4504129143537723\u001b[0m\t \u001b[1m\u001b[92m1.4504129143537723\u001b[0m\t \u001b[1m\u001b[92m2.5973526593201073\u001b[0m\t \u001b[1m\u001b[92m2.616973961255445\u001b[0m\n",
            "\u001b[1m\u001b[92m9\u001b[0m\t \u001b[1m\u001b[92m[ 1.89429651 -0.24463762]\u001b[0m\t \u001b[1m\u001b[92m1.4498657428843276\u001b[0m\t \u001b[1m\u001b[92m1.4498657428843276\u001b[0m\t \u001b[1m\u001b[92m2.3633041363155365\u001b[0m\t \u001b[1m\u001b[92m2.3742385552266065\u001b[0m\n",
            "10 \t [-0.24941589 -1.83972621]\t 27.218703433882453\t 1.4498657428843276\t 2.623268433089555\t 2.623268433089555\n",
            "11 \t [-4.5         0.63170737]\t 70.40077457487124\t 1.4498657428843276\t 2.5581164031631958\t 2.562969281484431\n",
            "12 \t [ 1.9253317  -0.24943032]\t 1.4662110674643123\t 1.4498657428843276\t 2.4743705255670623\t 2.455168564849393\n",
            "13 \t [1.66307367 0.61938967]\t 4.093988695899597\t 1.4498657428843276\t 2.6176617196104517\t 2.6176617196104517\n",
            "\u001b[1m\u001b[92m14\u001b[0m\t \u001b[1m\u001b[92m[ 1.75092562 -0.04957887]\u001b[0m\t \u001b[1m\u001b[92m1.131087339875625\u001b[0m\t \u001b[1m\u001b[92m1.131087339875625\u001b[0m\t \u001b[1m\u001b[92m2.3735772704966434\u001b[0m\t \u001b[1m\u001b[92m2.3835443300337875\u001b[0m\n",
            "15 \t [ 0.66998814 -1.17941873]\t 7.044089243447181\t 1.131087339875625\t 2.526514376886212\t 2.526514376886212\n",
            "16 \t [ 1.74417912 -0.07516778]\t 1.1813015206690822\t 1.131087339875625\t 2.67818111023768\t 2.6819080714370727\n",
            "17 \t [0.78279883 1.14906861]\t 18.047562471994674\t 1.131087339875625\t 2.3828563608183195\t 2.3828563608183195\n",
            "18 \t [ 1.80948667 -0.11143724]\t 1.136592998886535\t 1.131087339875625\t 2.851501812090626\t 2.856562916903404\n",
            "19 \t [ 1.8085594  -0.11157495]\t 1.1381906058142226\t 1.131087339875625\t 2.544496307642017\t 2.539730995863012\n",
            "20 \t [ 1.15899661 -1.1259901 ]\t 7.520744782883107\t 1.131087339875625\t 2.260353625818895\t 2.260353625818895\n"
          ]
        }
      ],
      "source": [
        "### ESTIMATED GP EI GRADIENTS\n",
        "\n",
        "np.random.seed(run_num_3)\n",
        "surrogate_approx_3 = dGaussianProcess(cov_func, optimize=opt)\n",
        "\n",
        "approx_3 = GPGO_multi(surrogate_approx_3, Acquisition_grad(util), objfunc, param)\n",
        "approx_3.run(init_evals=n_init, max_iter=iters)\n"
      ]
    },
    {
      "cell_type": "code",
      "execution_count": 16,
      "metadata": {
        "id": "hOtG-2sCGCKS",
        "colab": {
          "base_uri": "https://localhost:8080/"
        },
        "outputId": "b29570d3-c3b7-40d6-d684-d143ea0ae286"
      },
      "outputs": [
        {
          "output_type": "stream",
          "name": "stdout",
          "text": [
            "Evaluation \t Proposed point \t  Current eval. \t  Best eval. \t        Exact EI: StdDev. x \t Approx EI: StdDev. x \n",
            "init\t [4.20326855 0.42509024]\t 3.8409856613776237\t 3.8409856613776237\t    \t    \n",
            "init\t [4.25415924 1.93334394]\t 1070.6518137934977\t 3.8409856613776237\t    \t    \n",
            "init\t [ 1.77955942 -2.55519454]\t 1001.3529311398922\t 3.8409856613776237\t    \t    \n",
            "init\t [ 4.28647009 -4.4439277 ]\t 150069.47442764963\t 3.8409856613776237\t    \t    \n",
            "init\t [-2.22315874 -0.58687621]\t 67.08861688517413\t 3.8409856613776237\t    \t    \n",
            "1  \t [-4.5  4.5]\t 169680.83203125\t 3.8409856613776237\t 2.527545342079015\t 3.2301702354917645\n",
            "2  \t [-4.5 -4.5]\t 181853.61328125\t 3.8409856613776237\t 2.78987608370965\t 3.0017267963333665\n",
            "3  \t [0.88266444 4.5       ]\t 7144.041569891613\t 3.8409856613776237\t 2.772471093019489\t 2.7605632309809027\n",
            "4  \t [0.3220442  0.44211822]\t 11.139562482337073\t 3.8409856613776237\t 2.661022530814256\t 2.660464735912351\n",
            "5  \t [0.14122455 0.45965681]\t 12.838024823663922\t 3.8409856613776237\t 2.421210574403549\t 2.4143154040508943\n",
            "\u001b[1m\u001b[92m6\u001b[0m\t \u001b[1m\u001b[92m[1.39871223 0.41843562]\u001b[0m\t \u001b[1m\u001b[92m3.4385949566222487\u001b[0m\t \u001b[1m\u001b[92m3.4385949566222487\u001b[0m\t \u001b[1m\u001b[92m2.6111151648731514\u001b[0m\t \u001b[1m\u001b[92m2.6094608569333384\u001b[0m\n",
            "7  \t [ 4.09457677 -0.28231909]\t 18.810601060462197\t 3.4385949566222487\t 2.1002650674580323\t 2.1922626578843074\n",
            "8  \t [1.36698488 0.43082687]\t 3.682982702577227\t 3.4385949566222487\t 2.3587509677505363\t 2.3383023927203537\n",
            "9  \t [-0.62508139 -1.01514705]\t 27.833781277805606\t 3.4385949566222487\t 2.374077306528876\t 2.374077306528876\n",
            "\u001b[1m\u001b[92m10\u001b[0m\t \u001b[1m\u001b[92m[-0.76754028  1.57392647]\u001b[0m\t \u001b[1m\u001b[92m2.5282383177275682\u001b[0m\t \u001b[1m\u001b[92m2.5282383177275682\u001b[0m\t \u001b[1m\u001b[92m3.1888002798908994\u001b[0m\t \u001b[1m\u001b[92m3.1888002798908994\u001b[0m\n",
            "11 \t [-3.72326935  0.00644478]\t 103.0110571124927\t 2.5282383177275682\t 2.85711078142276\t 2.85711078142276\n",
            "12 \t [-0.52701345 -4.5       ]\t 2700.673308468714\t 2.5282383177275682\t 2.7596701243965307\t 2.780541481297608\n",
            "13 \t [1.14657481 0.44794233]\t 5.031001454065276\t 2.5282383177275682\t 2.530168856433094\t 2.5314025074176576\n",
            "14 \t [-0.98421309  1.18199922]\t 9.136941041386596\t 2.5282383177275682\t 2.351417787448705\t 2.354493510212111\n",
            "\u001b[1m\u001b[92m15\u001b[0m\t \u001b[1m\u001b[92m[2.40257192 0.32987742]\u001b[0m\t \u001b[1m\u001b[92m0.11923650225605985\u001b[0m\t \u001b[1m\u001b[92m0.11923650225605985\u001b[0m\t \u001b[1m\u001b[92m2.5893740779023227\u001b[0m\t \u001b[1m\u001b[92m2.5893740779023227\u001b[0m\n",
            "16 \t [1.92076814 0.22827694]\t 0.7132782798925539\t 0.11923650225605985\t 2.5027792735597187\t 2.517002242557735\n",
            "17 \t [ 3.25359515 -0.22259678]\t 7.290807628905106\t 0.11923650225605985\t 2.483871453784535\t 2.516986675700988\n",
            "18 \t [ 3.34070247 -0.23178381]\t 8.242188085913154\t 0.11923650225605985\t 2.564314955489877\t 2.575018436163142\n",
            "19 \t [ 0.38233586 -0.14433148]\t 9.671236974025433\t 0.11923650225605985\t 2.663826507669348\t 2.663826507669348\n",
            "20 \t [-1.21095663 -0.25525958]\t 35.4285665154855\t 0.11923650225605985\t 2.4235096009377775\t 2.4235096009377775\n"
          ]
        }
      ],
      "source": [
        "### ESTIMATED GP EI GRADIENTS\n",
        "\n",
        "np.random.seed(run_num_4)\n",
        "surrogate_approx_4 = dGaussianProcess(cov_func, optimize=opt)\n",
        "\n",
        "approx_4= GPGO_multi(surrogate_approx_4, Acquisition_grad(util), objfunc, param)\n",
        "approx_4.run(init_evals=n_init, max_iter=iters)\n"
      ]
    },
    {
      "cell_type": "code",
      "execution_count": 17,
      "metadata": {
        "id": "JF_SxcEvGCOl",
        "colab": {
          "base_uri": "https://localhost:8080/"
        },
        "outputId": "5fded4e8-949a-4a47-b1ed-5919fe58ef4b"
      },
      "outputs": [
        {
          "output_type": "stream",
          "name": "stdout",
          "text": [
            "Evaluation \t Proposed point \t  Current eval. \t  Best eval. \t        Exact EI: StdDev. x \t Approx EI: StdDev. x \n",
            "init\t [-2.50206146  3.33659076]\t 8263.905568073349\t 0.311397019260738\t    \t    \n",
            "init\t [-2.6395276   3.76749817]\t 19560.15202528338\t 0.311397019260738\t    \t    \n",
            "init\t [-0.1042993   1.00569477]\t 14.186578993925806\t 0.311397019260738\t    \t    \n",
            "init\t [2.39317071 0.16576189]\t 0.311397019260738\t 0.311397019260738\t    \t    \n",
            "init\t [-1.82879549 -2.81050894]\t 2208.9823086257425\t 0.311397019260738\t    \t    \n",
            "1  \t [ 3.80474653 -4.48007209]\t 123826.98871542915\t 0.311397019260738\t 3.254831965079065\t 3.373847826573162\n",
            "2  \t [4.5 4.5]\t 174813.36328125\t 0.311397019260738\t 2.940652915113163\t 3.081941981108914\n",
            "3  \t [-4.5        -0.03092955]\t 133.9614927483795\t 0.311397019260738\t 2.629539017407557\t 2.8641913757007647\n",
            "4  \t [ 1.44037459 -0.98482868]\t 6.752352494691736\t 0.311397019260738\t 2.5906407288399738\t 2.6015309559240154\n",
            "5  \t [3.98694823 0.03082941]\t 10.447076095272472\t 0.311397019260738\t 2.450043259277187\t 2.4913754806593236\n",
            "6  \t [2.12026231 1.06497887]\t 18.504827558574412\t 0.311397019260738\t 2.8292962586735917\t 2.8139177001180053\n",
            "7  \t [-4.5 -4.5]\t 181853.61328125\t 0.311397019260738\t 2.2891720233083506\t 2.4691001353905393\n",
            "8  \t [ 1.45269279 -0.19707087]\t 2.134316096225563\t 0.311397019260738\t 2.7158503775775302\t 2.7119549072240288\n",
            "9  \t [ 1.50715104 -0.18876973]\t 1.946585983436702\t 0.311397019260738\t 2.45375705106907\t 2.4382627083009734\n",
            "10 \t [ 1.53717232 -0.18131974]\t 1.846030557238791\t 0.311397019260738\t 2.5116844444355455\t 2.4478637640844982\n",
            "11 \t [ 1.5537569  -0.17682368]\t 1.7919045354065837\t 0.311397019260738\t 2.5835739662398924\t 2.564764006403243\n",
            "12 \t [ 1.56189126 -0.17493625]\t 1.7663575393815796\t 0.311397019260738\t 2.359801868876573\t 2.297671476961076\n",
            "13 \t [ 1.56462861 -0.17494165]\t 1.7588356612567981\t 0.311397019260738\t 2.587785777073949\t 2.5851410938258033\n",
            "14 \t [ 1.56448221 -0.17597751]\t 1.7608553695338705\t 0.311397019260738\t 2.122170792922367\t 2.1349411233424993\n",
            "15 \t [ 1.56465419 -0.17664133]\t 1.7614257229046628\t 0.311397019260738\t 2.3919684007503728\t 2.401455831693096\n",
            "16 \t [1.21278725 1.70708829]\t 81.89142690740542\t 0.311397019260738\t 2.448290592429518\t 2.448290592429518\n",
            "17 \t [ 2.40444754 -0.01463784]\t 0.9552650537742585\t 0.311397019260738\t 2.3939113949503255\t 2.4179248616887743\n",
            "18 \t [ 2.3924861 -0.017678 ]\t 0.9479608812912492\t 0.311397019260738\t 2.491368649873175\t 2.5474560421298578\n",
            "19 \t [ 2.38465999 -0.01974762]\t 0.9437988066486533\t 0.311397019260738\t 2.3140362390324496\t 2.3457706939897465\n",
            "20 \t [ 2.37913567 -0.02124328]\t 0.9411359709495614\t 0.311397019260738\t 2.545541873504777\t 2.549329510832704\n"
          ]
        }
      ],
      "source": [
        "### ESTIMATED GP EI GRADIENTS\n",
        "\n",
        "np.random.seed(run_num_5)\n",
        "surrogate_approx_5 = dGaussianProcess(cov_func, optimize=opt)\n",
        "\n",
        "approx_5 = GPGO_multi(surrogate_approx_5, Acquisition_grad(util), objfunc, param)\n",
        "approx_5.run(init_evals=n_init, max_iter=iters)\n"
      ]
    },
    {
      "cell_type": "code",
      "execution_count": 18,
      "metadata": {
        "id": "-kDxZtJsGCR3",
        "colab": {
          "base_uri": "https://localhost:8080/"
        },
        "outputId": "1680cc2a-2d89-47b2-99d8-284eac7a06a3"
      },
      "outputs": [
        {
          "output_type": "stream",
          "name": "stdout",
          "text": [
            "Evaluation \t Proposed point \t  Current eval. \t  Best eval. \t        Exact EI: StdDev. x \t Approx EI: StdDev. x \n",
            "init\t [ 3.53574136 -1.51218175]\t 273.3122030790333\t 10.038000709758428\t    \t    \n",
            "init\t [ 2.89106211 -4.12473037]\t 43803.250406689425\t 10.038000709758428\t    \t    \n",
            "init\t [-3.53108988  0.85546858]\t 29.828433746298536\t 10.038000709758428\t    \t    \n",
            "init\t [ 0.26835626 -0.73073314]\t 10.658925295067505\t 10.038000709758428\t    \t    \n",
            "init\t [-1.48132936  1.10267489]\t 10.038000709758428\t 10.038000709758428\t    \t    \n",
            "1  \t [4.28897718 3.03217734]\t 15404.22494396136\t 10.038000709758428\t 3.4108246737384555\t 3.346124791013239\n",
            "2  \t [-4.5        -4.28897303]\t 137581.11892583582\t 10.038000709758428\t 3.2575252817100586\t 3.754387355225816\n",
            "3  \t [-4.5  4.5]\t 169680.83203125\t 10.038000709758428\t 2.7240518549266053\t 3.155494405566652\n",
            "4  \t [0.25888316 4.5       ]\t 731.8705888747334\t 10.038000709758428\t 2.5821037791431016\t 2.7547303013790283\n",
            "5  \t [0.69756799 1.00554755]\t 14.311158611349455\t 10.038000709758428\t 2.467872891063455\t 2.423143003462258\n",
            "6  \t [-1.57575473 -0.86659171]\t 54.02095484878018\t 10.038000709758428\t 2.739935885795015\t 2.7299257112762807\n",
            "\u001b[1m\u001b[92m7\u001b[0m\t \u001b[1m\u001b[92m[ 1.96547409 -0.13276632]\u001b[0m\t \u001b[1m\u001b[92m1.0584886808620901\u001b[0m\t \u001b[1m\u001b[92m1.0584886808620901\u001b[0m\t \u001b[1m\u001b[92m2.922878316385755\u001b[0m\t \u001b[1m\u001b[92m2.8806641352369966\u001b[0m\n",
            "8  \t [ 1.97287089 -0.13349973]\t 1.0587593358767977\t 1.0584886808620901\t 2.7302070848935056\t 2.7270759663369897\n",
            "9  \t [ 1.97518714 -0.13411514]\t 1.0601308042845274\t 1.0584886808620901\t 2.381330410218554\t 2.4138155626759223\n",
            "10 \t [-0.65217101 -4.04979978]\t 2254.774465689836\t 1.0584886808620901\t 2.5827675737905413\t 2.857731215121838\n",
            "11 \t [3.59227572 0.04673578]\t 6.418883599706605\t 1.0584886808620901\t 2.8802227040205435\t 2.8802227040205435\n",
            "12 \t [-0.70862739  1.22742314]\t 9.461986626903453\t 1.0584886808620901\t 2.4153567420866318\t 2.419859172743102\n",
            "13 \t [-4.04263037 -1.41595743]\t 459.4411686345346\t 1.0584886808620901\t 2.4952850132161983\t 2.618283261179288\n",
            "14 \t [ 3.76043768 -0.56361073]\t 22.554327595567603\t 1.0584886808620901\t 2.654835038324858\t 2.683902193052942\n",
            "15 \t [-3.95596901 -0.37204089]\t 126.04324314195472\t 1.0584886808620901\t 2.5469823580425857\t 2.58765236118331\n",
            "16 \t [-0.76148633 -0.03658559]\t 25.772558206899838\t 1.0584886808620901\t 2.5405893126149497\t 2.5405893126149497\n",
            "17 \t [ 3.27853098 -0.43124527]\t 11.206622385480777\t 1.0584886808620901\t 2.909476763109416\t 2.944183326820771\n",
            "18 \t [ 4.20772121 -0.63769177]\t 36.272700719817415\t 1.0584886808620901\t 2.6402825268541266\t 2.698031568078611\n",
            "19 \t [ 2.64438811 -0.28387037]\t 3.630469470844405\t 1.0584886808620901\t 2.7860216337610693\t 2.7906432822553913\n",
            "20 \t [ 2.62273876 -0.27839938]\t 3.4649353105691727\t 1.0584886808620901\t 2.6543291877840365\t 2.6979809817515172\n"
          ]
        }
      ],
      "source": [
        "### ESTIMATED GP EI GRADIENTS\n",
        "\n",
        "np.random.seed(run_num_6)\n",
        "surrogate_approx_6 = dGaussianProcess(cov_func, optimize=opt)\n",
        "\n",
        "approx_6 = GPGO_multi(surrogate_approx_6, Acquisition_grad(util), objfunc, param)\n",
        "approx_6.run(init_evals=n_init, max_iter=iters)\n"
      ]
    },
    {
      "cell_type": "code",
      "execution_count": 19,
      "metadata": {
        "id": "fKB8MCD_GCVI",
        "colab": {
          "base_uri": "https://localhost:8080/"
        },
        "outputId": "75528a6e-8f61-45f9-802c-2bd7e3821735"
      },
      "outputs": [
        {
          "output_type": "stream",
          "name": "stdout",
          "text": [
            "Evaluation \t Proposed point \t  Current eval. \t  Best eval. \t        Exact EI: StdDev. x \t Approx EI: StdDev. x \n",
            "init\t [-3.8132254   2.51926913]\t 3321.1422834954587\t 2.9676923934097053\t    \t    \n",
            "init\t [-0.55431692  2.0111866 ]\t 2.9676923934097053\t 2.9676923934097053\t    \t    \n",
            "init\t [4.30190561 0.34646283]\t 6.32173172477085\t 2.9676923934097053\t    \t    \n",
            "init\t [ 0.01008417 -3.8515398 ]\t 11.971894461559128\t 2.9676923934097053\t    \t    \n",
            "init\t [-2.08404918e+00 -1.05749257e-03]\t 53.820317186435204\t 2.9676923934097053\t    \t    \n",
            "1  \t [0.32340836 2.08464508]\t 41.89604104520188\t 2.9676923934097053\t 2.10557998638403\t 2.595758271865654\n",
            "2  \t [-4.5 -4.5]\t 181853.61328125\t 2.9676923934097053\t 3.374054655867802\t 3.8639448343234677\n",
            "3  \t [ 4.5 -4.5]\t 178131.83203125\t 2.9676923934097053\t 3.097067127563007\t 3.4458440060521354\n",
            "4  \t [4.26128011 4.09845107]\t 90157.83576075948\t 2.9676923934097053\t 2.6242576756915614\t 2.648616400627508\n",
            "5  \t [ 4.09304963 -0.10138851]\t 14.45951415894698\t 2.9676923934097053\t 2.747396665714834\t 2.9140236875378744\n",
            "6  \t [ 0.87913332 -0.96447466]\t 5.757833056826223\t 2.9676923934097053\t 2.785266982574436\t 2.6735678489688603\n",
            "7  \t [-0.49292347  4.5       ]\t 1799.6678229301497\t 2.9676923934097053\t 2.35200368319703\t 2.3679293778114703\n",
            "8  \t [-0.27781129  1.14155694]\t 13.021949451977854\t 2.9676923934097053\t 2.726711801820235\t 2.6947622339535147\n",
            "\u001b[1m\u001b[92m9\u001b[0m\t \u001b[1m\u001b[92m[ 2.22933686 -0.12370553]\u001b[0m\t \u001b[1m\u001b[92m1.1664907248032907\u001b[0m\t \u001b[1m\u001b[92m1.1664907248032907\u001b[0m\t \u001b[1m\u001b[92m2.7411477270334554\u001b[0m\t \u001b[1m\u001b[92m2.7566515374450904\u001b[0m\n",
            "10 \t [ 2.23249925 -0.12304988]\t 1.1679090251950044\t 1.1664907248032907\t 2.8838200774867313\t 2.8189538299755723\n",
            "11 \t [-0.04479929 -2.00901011]\t 16.34095224428698\t 1.1664907248032907\t 2.5151943404795056\t 2.502944870946512\n",
            "12 \t [-0.04152219  0.94404182]\t 14.265076808151326\t 1.1664907248032907\t 2.7001194743191803\t 2.6971348172167566\n",
            "13 \t [ 2.24900217 -0.14282007]\t 1.2840257316115251\t 1.1664907248032907\t 2.6446589773972353\t 2.6688099446746865\n",
            "14 \t [ 2.24804224 -0.14287346]\t 1.2827346548700516\t 1.1664907248032907\t 2.296190878093469\t 2.2548412547825794\n",
            "15 \t [ 2.24745068 -0.14290573]\t 1.2819387272293516\t 1.1664907248032907\t 2.8498010744633677\t 2.833059477080513\n",
            "16 \t [ 4.04895204 -0.0858239 ]\t 13.55416729226875\t 1.1664907248032907\t 2.3041676331748766\t 2.292310115175088\n",
            "\u001b[1m\u001b[92m17\u001b[0m\t \u001b[1m\u001b[92m[ 2.03917229 -0.16174359]\u001b[0m\t \u001b[1m\u001b[92m1.1580999658730635\u001b[0m\t \u001b[1m\u001b[92m1.1580999658730635\u001b[0m\t \u001b[1m\u001b[92m2.1250198734312327\u001b[0m\t \u001b[1m\u001b[92m2.1404220374538228\u001b[0m\n",
            "\u001b[1m\u001b[92m18\u001b[0m\t \u001b[1m\u001b[92m[ 2.03973409 -0.16166429]\u001b[0m\t \u001b[1m\u001b[92m1.1580007524330858\u001b[0m\t \u001b[1m\u001b[92m1.1580007524330858\u001b[0m\t \u001b[1m\u001b[92m2.870031701919749\u001b[0m\t \u001b[1m\u001b[92m2.8459967267928703\u001b[0m\n",
            "\u001b[1m\u001b[92m19\u001b[0m\t \u001b[1m\u001b[92m[ 2.04020585 -0.16159748]\u001b[0m\t \u001b[1m\u001b[92m1.157917880157242\u001b[0m\t \u001b[1m\u001b[92m1.157917880157242\u001b[0m\t \u001b[1m\u001b[92m2.726502897763818\u001b[0m\t \u001b[1m\u001b[92m2.7234106523898127\u001b[0m\n",
            "\u001b[1m\u001b[92m20\u001b[0m\t \u001b[1m\u001b[92m[ 2.04056139 -0.16154731]\u001b[0m\t \u001b[1m\u001b[92m1.1578568929454924\u001b[0m\t \u001b[1m\u001b[92m1.1578568929454924\u001b[0m\t \u001b[1m\u001b[92m2.598186240742594\u001b[0m\t \u001b[1m\u001b[92m2.6158491152345897\u001b[0m\n"
          ]
        }
      ],
      "source": [
        "### ESTIMATED GP EI GRADIENTS\n",
        "\n",
        "np.random.seed(run_num_7)\n",
        "surrogate_approx_7 = dGaussianProcess(cov_func, optimize=opt)\n",
        "\n",
        "approx_7 = GPGO_multi(surrogate_approx_7, Acquisition_grad(util), objfunc, param)\n",
        "approx_7.run(init_evals=n_init, max_iter=iters)\n"
      ]
    },
    {
      "cell_type": "code",
      "execution_count": 20,
      "metadata": {
        "id": "4unvifF-GCXp",
        "colab": {
          "base_uri": "https://localhost:8080/"
        },
        "outputId": "4f048aa8-21cd-40bb-d760-ed5384fdbeef"
      },
      "outputs": [
        {
          "output_type": "stream",
          "name": "stdout",
          "text": [
            "Evaluation \t Proposed point \t  Current eval. \t  Best eval. \t        Exact EI: StdDev. x \t Approx EI: StdDev. x \n",
            "init\t [3.36086463 4.21686597]\t 66731.07602386779\t 1.8693348557707412\t    \t    \n",
            "init\t [3.32275086 0.27770122]\t 1.8693348557707412\t 1.8693348557707412\t    \t    \n",
            "init\t [-2.40544505 -4.39741076]\t 45883.361726150484\t 1.8693348557707412\t    \t    \n",
            "init\t [-0.62578064 -0.87883776]\t 26.39306084619828\t 1.8693348557707412\t    \t    \n",
            "init\t [ 0.20407204 -0.19447384]\t 11.649230998110728\t 1.8693348557707412\t    \t    \n",
            "1  \t [ 3.3388961  -0.41487138]\t 11.566195500794855\t 1.8693348557707412\t 2.541646113636367\t 2.951686368875979\n",
            "2  \t [-3.53253839  4.5       ]\t 104136.18514834034\t 1.8693348557707412\t 2.5488629245819183\t 3.4841487378155533\n",
            "3  \t [-4.5        -0.24288057]\t 144.0479345846238\t 1.8693348557707412\t 2.3592942305350513\t 2.4212321617287875\n",
            "4  \t [ 4.5 -4.5]\t 178131.83203125\t 1.8693348557707412\t 2.7255167938543807\t 3.159014100145498\n",
            "\u001b[1m\u001b[92m5\u001b[0m\t \u001b[1m\u001b[92m[ 2.43204405 -0.16656239]\u001b[0m\t \u001b[1m\u001b[92m1.834067582997432\u001b[0m\t \u001b[1m\u001b[92m1.834067582997432\u001b[0m\t \u001b[1m\u001b[92m2.496258737200702\u001b[0m\t \u001b[1m\u001b[92m2.4883619860204162\u001b[0m\n",
            "6  \t [ 2.50862659 -0.15873504]\t 2.0286766240778005\t 1.834067582997432\t 2.7327661368494804\t 2.7561418048140913\n",
            "7  \t [ 3.32227901 -0.07199814]\t 5.85076148302738\t 1.834067582997432\t 2.6792731664851575\t 2.6876277875878016\n",
            "\u001b[1m\u001b[92m8\u001b[0m\t \u001b[1m\u001b[92m[ 2.2896543  -0.18181225]\u001b[0m\t \u001b[1m\u001b[92m1.5590101024941765\u001b[0m\t \u001b[1m\u001b[92m1.5590101024941765\u001b[0m\t \u001b[1m\u001b[92m2.726626026057437\u001b[0m\t \u001b[1m\u001b[92m2.7347211974971857\u001b[0m\n",
            "9  \t [ 2.2999183  -0.18075251]\t 1.5754349946339972\t 1.5590101024941765\t 2.42285191473383\t 2.448590840488603\n",
            "10 \t [ 2.31111503 -0.17959719]\t 1.5940079016228668\t 1.5590101024941765\t 2.5856363051070854\t 2.5767833737910424\n",
            "11 \t [ 2.31915319 -0.17876766]\t 1.6077590981077694\t 1.5590101024941765\t 2.465626070645748\t 2.4794797310333503\n",
            "12 \t [ 2.32520841 -0.17814315]\t 1.6183508099705397\t 1.5590101024941765\t 2.253496793137663\t 2.3045687274125117\n",
            "13 \t [ 2.32992954 -0.17765632]\t 1.6267467326685594\t 1.5590101024941765\t 2.312493726782189\t 2.293711876834406\n",
            "14 \t [-0.17458951  1.12957814]\t 13.522749767367428\t 1.5590101024941765\t 2.5410764578377316\t 2.5356180949357148\n",
            "15 \t [ 2.33568575 -0.18063172]\t 1.6575361205927561\t 1.5590101024941765\t 2.3927025983234533\t 2.3862681738160645\n",
            "16 \t [ 2.33900417 -0.18022399]\t 1.6633025608487322\t 1.5590101024941765\t 2.4041057075534598\t 2.4407983132933024\n",
            "17 \t [ 2.34174717 -0.1798885 ]\t 1.6681209288150534\t 1.5590101024941765\t 2.7152724966425787\t 2.7292061819090665\n",
            "18 \t [ 2.34404927 -0.17960607]\t 1.6721899042232533\t 1.5590101024941765\t 2.6638280269492447\t 2.71265281406549\n",
            "19 \t [ 2.34599873 -0.17936799]\t 1.6756633311900488\t 1.5590101024941765\t 2.258851893551921\t 2.2679327282133555\n",
            "20 \t [-0.10940658  0.22971391]\t 15.519243644170931\t 1.5590101024941765\t 2.3292748178574127\t 2.3292748178574127\n"
          ]
        }
      ],
      "source": [
        "### ESTIMATED GP EI GRADIENTS\n",
        "\n",
        "np.random.seed(run_num_8)\n",
        "surrogate_approx_8 = dGaussianProcess(cov_func, optimize=opt)\n",
        "\n",
        "approx_8 = GPGO_multi(surrogate_approx_8, Acquisition_grad(util), objfunc, param)\n",
        "approx_8.run(init_evals=n_init, max_iter=iters)\n"
      ]
    },
    {
      "cell_type": "code",
      "execution_count": 21,
      "metadata": {
        "id": "85OIXcg7GCaJ",
        "colab": {
          "base_uri": "https://localhost:8080/"
        },
        "outputId": "386c85f4-b47a-4164-8e17-c909cbc500e4"
      },
      "outputs": [
        {
          "output_type": "stream",
          "name": "stdout",
          "text": [
            "Evaluation \t Proposed point \t  Current eval. \t  Best eval. \t        Exact EI: StdDev. x \t Approx EI: StdDev. x \n",
            "init\t [-4.40663262  0.01687133]\t 127.7531900635415\t 22.479204656276803\t    \t    \n",
            "init\t [-0.03804036 -3.29553424]\t 22.479204656276803\t 22.479204656276803\t    \t    \n",
            "init\t [-3.22100023 -2.53297192]\t 3783.0538402600087\t 22.479204656276803\t    \t    \n",
            "init\t [-0.73342638 -2.26708948]\t 157.51337782244087\t 22.479204656276803\t    \t    \n",
            "init\t [-3.74346314 -1.39051224]\t 380.7730677650304\t 22.479204656276803\t    \t    \n",
            "1  \t [2.73365793 4.35023323]\t 53339.37070055468\t 22.479204656276803\t 2.64688375429922\t 2.6863173383564107\n",
            "2  \t [ 4.5 -4.5]\t 178131.83203125\t 22.479204656276803\t 2.652718621486046\t 2.9430526450439918\n",
            "3  \t [-2.22713742  4.5       ]\t 40931.73600273312\t 22.479204656276803\t 2.436648471576683\t 2.5968904089997973\n",
            "\u001b[1m\u001b[92m4\u001b[0m\t \u001b[1m\u001b[92m[ 2.63820474 -0.1938719 ]\u001b[0m\t \u001b[1m\u001b[92m2.8060374336261393\u001b[0m\t \u001b[1m\u001b[92m2.8060374336261393\u001b[0m\t \u001b[1m\u001b[92m2.777716315415734\u001b[0m\t \u001b[1m\u001b[92m2.6466550058110863\u001b[0m\n",
            "5  \t [0.06288071 1.02999938]\t 14.25667919898741\t 2.8060374336261393\t 2.5954387478478465\t 2.597580681325813\n",
            "6  \t [ 1.89467028 -1.69257649]\t 117.93364247188802\t 2.8060374336261393\t 2.379199633122847\t 2.2929950864088133\n",
            "\u001b[1m\u001b[92m7\u001b[0m\t \u001b[1m\u001b[92m[3.32439827 0.53835845]\u001b[0m\t \u001b[1m\u001b[92m0.046145941506268745\u001b[0m\t \u001b[1m\u001b[92m0.046145941506268745\u001b[0m\t \u001b[1m\u001b[92m2.433798892179242\u001b[0m\t \u001b[1m\u001b[92m2.5447753985819483\u001b[0m\n",
            "8  \t [ 4.5        -0.18999857]\t 22.851171368865113\t 0.046145941506268745\t 2.301906498468981\t 2.367428523068374\n",
            "9  \t [2.67684066 0.74103234]\t 2.815190137029194\t 0.046145941506268745\t 2.565738925961174\t 2.572849634906591\n",
            "10 \t [-1.9642651   0.78147353]\t 26.146153532434624\t 0.046145941506268745\t 2.2953403266934407\t 2.337305374472944\n",
            "11 \t [1.76743213 0.81291657]\t 7.357045763465798\t 0.046145941506268745\t 2.627329135848397\t 2.6316050006714287\n",
            "12 \t [0.16778016 2.28429255]\t 31.5562340546393\t 0.046145941506268745\t 2.5605953360649267\t 2.5210059954315627\n",
            "13 \t [3.4304278  1.03701817]\t 18.062407513193076\t 0.046145941506268745\t 1.9760405940426258\t 2.067949090959414\n",
            "14 \t [ 0.8179475 -4.5      ]\t 5622.252030861944\t 0.046145941506268745\t 2.3566554658818175\t 2.3902211622969882\n",
            "15 \t [-1.42744206  0.43007831]\t 32.51864449165163\t 0.046145941506268745\t 2.4173311814175333\t 2.4173311814175333\n",
            "16 \t [3.20097489 0.32793426]\t 1.0067300068374383\t 0.046145941506268745\t 2.624895628273665\t 2.642821217953442\n",
            "17 \t [0.15821188 1.41113695]\t 16.718278305465873\t 0.046145941506268745\t 2.3489655543704457\t 2.388582430673573\n",
            "18 \t [3.12433486 0.32768472]\t 0.8026419684424916\t 0.046145941506268745\t 2.4908900337365405\t 2.5190414872429283\n",
            "19 \t [ 2.23483048 -0.63938604]\t 5.5821177716125945\t 0.046145941506268745\t 2.5438732319571473\t 2.5438732319571473\n",
            "20 \t [2.86672943 0.29088181]\t 0.45323179410131437\t 0.046145941506268745\t 2.7217063070855696\t 2.6852883397107954\n"
          ]
        }
      ],
      "source": [
        "### ESTIMATED GP EI GRADIENTS\n",
        "\n",
        "np.random.seed(run_num_9)\n",
        "surrogate_approx_9 = dGaussianProcess(cov_func, optimize=opt)\n",
        "\n",
        "approx_9 = GPGO_multi(surrogate_approx_9, Acquisition_grad(util), objfunc, param)\n",
        "approx_9.run(init_evals=n_init, max_iter=iters)\n"
      ]
    },
    {
      "cell_type": "code",
      "execution_count": 22,
      "metadata": {
        "id": "QQBR-qJPGCcp",
        "colab": {
          "base_uri": "https://localhost:8080/"
        },
        "outputId": "12f432d9-2527-4979-c7fc-9df00fae30bf"
      },
      "outputs": [
        {
          "output_type": "stream",
          "name": "stdout",
          "text": [
            "Evaluation \t Proposed point \t  Current eval. \t  Best eval. \t        Exact EI: StdDev. x \t Approx EI: StdDev. x \n",
            "init\t [ 2.44188579 -4.31323246]\t 40500.708995062356\t 15.229523981513257\t    \t    \n",
            "init\t [1.20283411 2.23923494]\t 281.8768699287936\t 15.229523981513257\t    \t    \n",
            "init\t [-0.01343689 -2.47683019]\t 15.229523981513257\t 15.229523981513257\t    \t    \n",
            "init\t [-2.71743422  2.34477641]\t 985.5637470908332\t 15.229523981513257\t    \t    \n",
            "init\t [-2.97800247 -3.70494167]\t 26177.1461164703\t 15.229523981513257\t    \t    \n",
            "1  \t [4.5 4.5]\t 174813.36328125\t 15.229523981513257\t 2.852629608744508\t 2.9841811721914824\n",
            "\u001b[1m\u001b[92m2\u001b[0m\t \u001b[1m\u001b[92m[-0.01745372 -1.49609027]\u001b[0m\t \u001b[1m\u001b[92m14.643170170726151\u001b[0m\t \u001b[1m\u001b[92m14.643170170726151\u001b[0m\t \u001b[1m\u001b[92m2.2232875401763565\u001b[0m\t \u001b[1m\u001b[92m2.503076914007926\u001b[0m\n",
            "3  \t [ 4.5        -0.27570326]\t 25.501655042688295\t 14.643170170726151\t 2.1881651292648954\t 2.9514378219841673\n",
            "4  \t [-0.5936431   4.43999201]\t 2454.5316505405212\t 14.643170170726151\t 2.754156649642827\t 3.0040260659512468\n",
            "\u001b[1m\u001b[92m5\u001b[0m\t \u001b[1m\u001b[92m[ 2.48139531 -0.18352458]\u001b[0m\t \u001b[1m\u001b[92m2.1026749026660423\u001b[0m\t \u001b[1m\u001b[92m2.1026749026660423\u001b[0m\t \u001b[1m\u001b[92m2.7365048475810245\u001b[0m\t \u001b[1m\u001b[92m2.775300723096258\u001b[0m\n",
            "\u001b[1m\u001b[92m6\u001b[0m\t \u001b[1m\u001b[92m[ 2.48068847 -0.18275411]\u001b[0m\t \u001b[1m\u001b[92m2.0950238776726477\u001b[0m\t \u001b[1m\u001b[92m2.0950238776726477\u001b[0m\t \u001b[1m\u001b[92m2.6591546267530797\u001b[0m\t \u001b[1m\u001b[92m2.660862655133007\u001b[0m\n",
            "7  \t [-0.03371298 -1.58501817]\t 15.15533146101023\t 2.0950238776726477\t 2.557619009681435\t 2.5927307687103625\n",
            "8  \t [ 2.49512028 -0.18182055]\t 2.1386242879000057\t 2.0950238776726477\t 2.496225877036819\t 2.517204207638109\n",
            "9  \t [-4.5        -0.09116641]\t 136.96450172365132\t 2.0950238776726477\t 2.8017277597662162\t 2.8035024961959167\n",
            "10 \t [ 2.51007653 -0.17132397]\t 2.1191357495547236\t 2.0950238776726477\t 2.6971203221967186\t 2.7063129068681713\n",
            "11 \t [ 2.51020749 -0.17135153]\t 2.1197872727720184\t 2.0950238776726477\t 2.3304609442329314\t 2.3324162359706877\n",
            "12 \t [ 3.57028693 -1.14052158]\t 87.73955942511631\t 2.0950238776726477\t 2.7658258722094997\t 2.7658258722094997\n",
            "\u001b[1m\u001b[92m13\u001b[0m\t \u001b[1m\u001b[92m[ 2.02784154 -0.1473683 ]\u001b[0m\t \u001b[1m\u001b[92m1.1031521868400427\u001b[0m\t \u001b[1m\u001b[92m1.1031521868400427\u001b[0m\t \u001b[1m\u001b[92m2.6467517343836575\u001b[0m\t \u001b[1m\u001b[92m2.6617530180139433\u001b[0m\n",
            "14 \t [ 2.00925714 -0.15376493]\t 1.122752702123701\t 1.1031521868400427\t 2.510451619005986\t 2.511460951758442\n",
            "15 \t [-0.04179217 -0.57909101]\t 14.79573868683447\t 1.1031521868400427\t 2.6527829180776865\t 2.6527829306319544\n",
            "16 \t [3.06041778 0.84831095]\t 5.063497764203312\t 1.1031521868400427\t 2.7239476581118343\t 2.7239476581118343\n",
            "17 \t [-0.94136766 -0.70728818]\t 32.26110197548248\t 1.1031521868400427\t 2.5619290036584816\t 2.5619290036584816\n",
            "\u001b[1m\u001b[92m18\u001b[0m\t \u001b[1m\u001b[92m[2.6459694  0.26067609]\u001b[0m\t \u001b[1m\u001b[92m0.2555448609353727\u001b[0m\t \u001b[1m\u001b[92m0.2555448609353727\u001b[0m\t \u001b[1m\u001b[92m2.4030794236296797\u001b[0m\t \u001b[1m\u001b[92m2.4300045252493305\u001b[0m\n",
            "19 \t [-0.01173841 -1.61945912]\t 14.53813079387696\t 0.2555448609353727\t 2.2255799847145252\t 2.2283963679618393\n",
            "20 \t [-0.13556438 -2.20445338]\t 24.471690148926058\t 0.2555448609353727\t 2.8461829251676027\t 2.8461829251676027\n"
          ]
        }
      ],
      "source": [
        "### ESTIMATED GP EI GRADIENTS\n",
        "\n",
        "np.random.seed(run_num_10)\n",
        "surrogate_approx_10 = dGaussianProcess(cov_func, optimize=opt)\n",
        "\n",
        "approx_10 = GPGO_multi(surrogate_approx_10, Acquisition_grad(util), objfunc, param)\n",
        "approx_10.run(init_evals=n_init, max_iter=iters)\n"
      ]
    },
    {
      "cell_type": "code",
      "execution_count": 23,
      "metadata": {
        "id": "JS8ejeQ2GCfi",
        "colab": {
          "base_uri": "https://localhost:8080/"
        },
        "outputId": "8b58be56-40e1-481c-f6c5-cdab611c889e"
      },
      "outputs": [
        {
          "output_type": "stream",
          "name": "stdout",
          "text": [
            "Evaluation \t Proposed point \t  Current eval. \t  Best eval. \t        Exact EI: StdDev. x \t Approx EI: StdDev. x \n",
            "init\t [-2.8775728  -4.32472283]\t 59421.14819100274\t 2.8907294990196846\t    \t    \n",
            "init\t [-0.33103326  2.02440536]\t 2.8907294990196846\t 2.8907294990196846\t    \t    \n",
            "init\t [-0.71816756 -0.13115612]\t 25.271447350027046\t 2.8907294990196846\t    \t    \n",
            "init\t [-4.38497267 -0.11365553]\t 133.2515796886641\t 2.8907294990196846\t    \t    \n",
            "init\t [3.97625987 3.1571558 ]\t 16859.81677190551\t 2.8907294990196846\t    \t    \n",
            "1  \t [ 4.07281469 -4.5       ]\t 145759.65594208654\t 2.8907294990196846\t 2.584225467242587\t 3.581427687772543\n",
            "2  \t [-3.99106031  4.5       ]\t 133215.82634684842\t 2.8907294990196846\t 2.137681021142319\t 3.047457266469274\n",
            "\u001b[1m\u001b[92m3\u001b[0m\t \u001b[1m\u001b[92m[ 1.40155668 -0.4288747 ]\u001b[0m\t \u001b[1m\u001b[92m2.7149222938004716\u001b[0m\t \u001b[1m\u001b[92m2.7149222938004716\u001b[0m\t \u001b[1m\u001b[92m2.8025336541785295\u001b[0m\t \u001b[1m\u001b[92m2.809270399541055\u001b[0m\n",
            "4  \t [-0.06577483  1.78284763]\t 11.909688521081534\t 2.7149222938004716\t 2.334748917201952\t 2.3434582188155604\n",
            "5  \t [ 1.41096329 -0.4516701 ]\t 2.7455555353083803\t 2.7149222938004716\t 2.3314394153496054\t 2.34692568003168\n",
            "6  \t [-1.02873802  2.65976442]\t 262.62152911843526\t 2.7149222938004716\t 2.567756763507101\t 2.6709539239392726\n",
            "7  \t [-1.82196253  0.46334526]\t 37.884052846014754\t 2.7149222938004716\t 2.747127552870729\t 2.747127552870729\n",
            "8  \t [ 1.31098331 -0.37936965]\t 2.9104158027623823\t 2.7149222938004716\t 2.4497631420307964\t 2.438121079082539\n",
            "9  \t [-1.3286      0.45803471]\t 30.45549481223425\t 2.7149222938004716\t 2.68800962695376\t 2.68800962695376\n",
            "10 \t [-0.37393202 -0.37912693]\t 19.785120201119778\t 2.7149222938004716\t 2.4658521665896105\t 2.4658521665896105\n",
            "\u001b[1m\u001b[92m11\u001b[0m\t \u001b[1m\u001b[92m[ 2.40796284 -0.12034305]\u001b[0m\t \u001b[1m\u001b[92m1.4950438151602854\u001b[0m\t \u001b[1m\u001b[92m1.4950438151602854\u001b[0m\t \u001b[1m\u001b[92m2.7607794704523347\u001b[0m\t \u001b[1m\u001b[92m2.7607794704523347\u001b[0m\n",
            "12 \t [ 1.79063243 -0.35379866]\t 1.8913726760127862\t 1.4950438151602854\t 2.6531235279124377\t 2.6615919701960165\n",
            "13 \t [ 1.78322574 -0.35299129]\t 1.8903696990426873\t 1.4950438151602854\t 2.5484058536813667\t 2.561712585101149\n",
            "14 \t [ 1.77825077 -0.35247345]\t 1.890064850736425\t 1.4950438151602854\t 2.683400026881551\t 2.6965738036568956\n",
            "15 \t [ 0.02420108 -0.84465616]\t 13.83791364305034\t 1.4950438151602854\t 2.559376315280148\t 2.559376315280148\n",
            "16 \t [0.4422804  1.13086653]\t 16.02538455864768\t 1.4950438151602854\t 2.7553301640983863\t 2.754256629029107\n",
            "17 \t [-0.13340453 -0.50668575]\t 16.116760763888237\t 1.4950438151602854\t 2.103179743923149\t 2.103179743923149\n",
            "18 \t [ 1.85297759 -0.38931515]\t 2.052929752841009\t 1.4950438151602854\t 2.520186019444261\t 2.544083627459075\n",
            "\u001b[1m\u001b[92m19\u001b[0m\t \u001b[1m\u001b[92m[1.93483431 0.19142612]\u001b[0m\t \u001b[1m\u001b[92m0.6484482326241139\u001b[0m\t \u001b[1m\u001b[92m0.6484482326241139\u001b[0m\t \u001b[1m\u001b[92m2.377199597080727\u001b[0m\t \u001b[1m\u001b[92m2.377199597080727\u001b[0m\n",
            "20 \t [ 1.86742988 -0.3111896 ]\t 1.7090009637168189\t 0.6484482326241139\t 2.590637696529801\t 2.5830386338970515\n"
          ]
        }
      ],
      "source": [
        "### ESTIMATED GP EI GRADIENTS\n",
        "\n",
        "np.random.seed(run_num_11)\n",
        "surrogate_approx_11 = dGaussianProcess(cov_func, optimize=opt)\n",
        "\n",
        "approx_11 = GPGO_multi(surrogate_approx_11, Acquisition_grad(util), objfunc, param)\n",
        "approx_11.run(init_evals=n_init, max_iter=iters)\n"
      ]
    },
    {
      "cell_type": "code",
      "execution_count": 24,
      "metadata": {
        "id": "DXwjUVZ4GCii",
        "colab": {
          "base_uri": "https://localhost:8080/"
        },
        "outputId": "7ac6ae0f-9ef1-44af-f49e-e2da41cf26b0"
      },
      "outputs": [
        {
          "output_type": "stream",
          "name": "stdout",
          "text": [
            "Evaluation \t Proposed point \t  Current eval. \t  Best eval. \t        Exact EI: StdDev. x \t Approx EI: StdDev. x \n",
            "init\t [-3.11253442  2.16044727]\t 746.3412720881302\t 48.45196617039589\t    \t    \n",
            "init\t [-2.13016486  0.30365454]\t 48.45196617039589\t 48.45196617039589\t    \t    \n",
            "init\t [-4.36882534  3.76872307]\t 54651.235607336355\t 48.45196617039589\t    \t    \n",
            "init\t [ 3.60643369 -4.19920715]\t 76007.68460600567\t 48.45196617039589\t    \t    \n",
            "init\t [ 4.11254403 -3.26511611]\t 22941.17826205435\t 48.45196617039589\t    \t    \n",
            "\u001b[1m\u001b[92m1\u001b[0m\t \u001b[1m\u001b[92m[-2.48353411  1.41308219]\u001b[0m\t \u001b[1m\u001b[92m3.882298799291636\u001b[0m\t \u001b[1m\u001b[92m3.882298799291636\u001b[0m\t \u001b[1m\u001b[92m3.589361992630576\u001b[0m\t \u001b[1m\u001b[92m3.2920389933369476\u001b[0m\n",
            "\u001b[1m\u001b[92m2\u001b[0m\t \u001b[1m\u001b[92m[-2.53250869  1.38558937]\u001b[0m\t \u001b[1m\u001b[92m2.7745774433555095\u001b[0m\t \u001b[1m\u001b[92m2.7745774433555095\u001b[0m\t \u001b[1m\u001b[92m3.179298929925496\u001b[0m\t \u001b[1m\u001b[92m3.1575563479143813\u001b[0m\n",
            "3  \t [-2.53492264  1.38771383]\t 2.883037978664623\t 2.7745774433555095\t 3.4413592830730666\t 2.9835924384982886\n",
            "4  \t [-2.53573708  1.38928222]\t 2.960297467838556\t 2.7745774433555095\t 2.6391623185799764\t 2.449706201413877\n",
            "5  \t [-2.53627108  1.3902451 ]\t 3.0087669957322087\t 2.7745774433555095\t 2.7166926701721312\t 2.4624642569786594\n",
            "6  \t [-2.53664826  1.39088722]\t 3.041571720654855\t 2.7745774433555095\t 2.9158135649620034\t 2.6923542611458733\n",
            "7  \t [-2.53692507  1.39134465]\t 3.065165827075721\t 2.7745774433555095\t 2.8981134578411125\t 2.5357310849063084\n",
            "8  \t [-2.5371371   1.39168386]\t 3.082797635612802\t 2.7745774433555095\t 2.904080825190503\t 2.7073973478200073\n",
            "9  \t [-2.5373022   1.39194635]\t 3.096504701892606\t 2.7745774433555095\t 2.57740803653388\t 2.2072831764677807\n",
            "10 \t [-2.53743565  1.39215304]\t 3.107352627972206\t 2.7745774433555095\t 2.9516527605023613\t 2.7431172489710685\n",
            "11 \t [-2.53754374  1.39232108]\t 3.1161927778355194\t 2.7745774433555095\t 2.834041946073761\t 2.5933819982539115\n",
            "12 \t [-2.53763357  1.3924598 ]\t 3.123509353670256\t 2.7745774433555095\t 2.785678888472843\t 2.4939230998250195\n",
            "13 \t [-2.53771017  1.39257502]\t 3.1296083138172723\t 2.7745774433555095\t 2.927469113731746\t 2.6108344422667358\n",
            "14 \t [-2.53777437  1.3926739 ]\t 3.1348418479072393\t 2.7745774433555095\t 2.5850391653823834\t 2.4448604234717206\n",
            "15 \t [-2.53783043  1.39275807]\t 3.1393097438262405\t 2.7745774433555095\t 2.9931781593650126\t 2.7804461962689344\n",
            "16 \t [-1.56931651 -1.35605173]\t 93.61725053767748\t 2.7745774433555095\t 2.7344721770470635\t 2.6863788755613003\n",
            "17 \t [-2.5465236   1.38516645]\t 2.825935156341872\t 2.7745774433555095\t 2.7842764071274186\t 2.6939664007433253\n",
            "18 \t [3.36601749 4.2353777 ]\t 68688.58753520368\t 2.7745774433555095\t 3.061996161363327\t 3.0404313882948677\n",
            "19 \t [-2.53670476  1.39303465]\t 3.146639806657067\t 2.7745774433555095\t 2.8294207874212405\t 2.819203675446864\n",
            "20 \t [-4.5 -4.5]\t 181853.61328125\t 2.7745774433555095\t 2.5415433120433084\t 2.5309234247616934\n"
          ]
        }
      ],
      "source": [
        "### ESTIMATED GP EI GRADIENTS\n",
        "\n",
        "np.random.seed(run_num_12)\n",
        "surrogate_approx_12 = dGaussianProcess(cov_func, optimize=opt)\n",
        "\n",
        "approx_12 = GPGO_multi(surrogate_approx_12, Acquisition_grad(util), objfunc, param)\n",
        "approx_12.run(init_evals=n_init, max_iter=iters)\n"
      ]
    },
    {
      "cell_type": "code",
      "execution_count": 25,
      "metadata": {
        "id": "CphOPndPGClX",
        "colab": {
          "base_uri": "https://localhost:8080/"
        },
        "outputId": "ef6fd138-6c93-45f0-c1cb-5d25cb38cfce"
      },
      "outputs": [
        {
          "output_type": "stream",
          "name": "stdout",
          "text": [
            "Evaluation \t Proposed point \t  Current eval. \t  Best eval. \t        Exact EI: StdDev. x \t Approx EI: StdDev. x \n",
            "init\t [ 2.4993217  -2.36212902]\t 1312.0597023727128\t 25.917758071459016\t    \t    \n",
            "init\t [2.91850679 4.19174278]\t 48757.43948599124\t 25.917758071459016\t    \t    \n",
            "init\t [ 4.25341003 -0.41895677]\t 25.917758071459016\t 25.917758071459016\t    \t    \n",
            "init\t [0.98138216 2.47973863]\t 337.8750512678324\t 25.917758071459016\t    \t    \n",
            "init\t [1.2745201  1.99816407]\t 177.1374160884886\t 25.917758071459016\t    \t    \n",
            "\u001b[1m\u001b[92m1\u001b[0m\t \u001b[1m\u001b[92m[0.68948542 0.87887532]\u001b[0m\t \u001b[1m\u001b[92m12.16465005839811\u001b[0m\t \u001b[1m\u001b[92m12.16465005839811\u001b[0m\t \u001b[1m\u001b[92m2.8080795265765164\u001b[0m\t \u001b[1m\u001b[92m2.9508472266437065\u001b[0m\n",
            "2  \t [-3.51625583 -3.70571814]\t 36387.21686967412\t 12.16465005839811\t 2.873570841197154\t 2.912544629395101\n",
            "3  \t [-3.93630846  3.36333617]\t 22037.21457253795\t 12.16465005839811\t 2.7091740375480184\t 2.9898719199264137\n",
            "4  \t [-1.35877409 -0.02940415]\t 37.2881261477026\t 12.16465005839811\t 2.7014165016505367\t 2.698714818785969\n",
            "5  \t [ 4.5 -4.5]\t 178131.83203125\t 12.16465005839811\t 2.9167822282294824\t 3.1407980910227495\n",
            "\u001b[1m\u001b[92m6\u001b[0m\t \u001b[1m\u001b[92m[3.29750186 0.13346926]\u001b[0m\t \u001b[1m\u001b[92m3.26192017916369\u001b[0m\t \u001b[1m\u001b[92m3.26192017916369\u001b[0m\t \u001b[1m\u001b[92m2.4390087929600504\u001b[0m\t \u001b[1m\u001b[92m2.4081006671697134\u001b[0m\n",
            "7  \t [0.36574995 1.84117303]\t 33.65793863471043\t 3.26192017916369\t 2.6586388263313387\t 2.662857741226843\n",
            "8  \t [0.59878689 1.65060535]\t 36.61496064223123\t 3.26192017916369\t 2.546967549922231\t 2.5643739424040533\n",
            "9  \t [0.63660315 1.62599816]\t 36.79785807443871\t 3.26192017916369\t 2.5423957026109454\t 2.5671165472617052\n",
            "10 \t [0.55638006 1.71017853]\t 38.15683669604864\t 3.26192017916369\t 2.4543772005275986\t 2.437186010273015\n",
            "11 \t [1.34394238 0.96958169]\t 13.115978010490535\t 3.26192017916369\t 2.711071587376353\t 2.699717851195307\n",
            "12 \t [4.5        0.24270124]\t 10.858345280468948\t 3.26192017916369\t 2.5624618636520937\t 2.5624598564278003\n",
            "13 \t [0.14963242 2.12212443]\t 25.730182993077438\t 3.26192017916369\t 2.6764702925179678\t 2.6643564003930065\n",
            "14 \t [1.04053046 1.25036495]\t 24.23750987448013\t 3.26192017916369\t 2.2066718012227438\t 2.205822209646456\n",
            "15 \t [0.57793234 1.69559419]\t 38.393506943924876\t 3.26192017916369\t 2.631877794513777\t 2.6223903909909714\n",
            "16 \t [1.10151129 0.07280373]\t 3.8839215803950906\t 3.26192017916369\t 2.408120583589529\t 2.408120583589529\n",
            "\u001b[1m\u001b[92m17\u001b[0m\t \u001b[1m\u001b[92m[ 2.14686175 -0.25241909]\u001b[0m\t \u001b[1m\u001b[92m1.6675303907469745\u001b[0m\t \u001b[1m\u001b[92m1.6675303907469745\u001b[0m\t \u001b[1m\u001b[92m3.0206645693569825\u001b[0m\t \u001b[1m\u001b[92m3.0206645693569825\u001b[0m\n",
            "\u001b[1m\u001b[92m18\u001b[0m\t \u001b[1m\u001b[92m[1.91908662 0.423824  ]\u001b[0m\t \u001b[1m\u001b[92m1.3378545049726047\u001b[0m\t \u001b[1m\u001b[92m1.3378545049726047\u001b[0m\t \u001b[1m\u001b[92m2.1997715495188577\u001b[0m\t \u001b[1m\u001b[92m2.179658711058156\u001b[0m\n",
            "19 \t [-0.2002548   2.70923797]\t 3.6400242542040706\t 1.3378545049726047\t 2.680941248730716\t 2.680941248730716\n",
            "20 \t [-0.00780688  2.30016928]\t 13.572962323677155\t 1.3378545049726047\t 2.932175685966655\t 2.9388550281782595\n"
          ]
        }
      ],
      "source": [
        "### ESTIMATED GP EI GRADIENTS\n",
        "\n",
        "np.random.seed(run_num_13)\n",
        "surrogate_approx_13 = dGaussianProcess(cov_func, optimize=opt)\n",
        "\n",
        "approx_13 = GPGO_multi(surrogate_approx_13, Acquisition_grad(util), objfunc, param)\n",
        "approx_13.run(init_evals=n_init, max_iter=iters)\n"
      ]
    },
    {
      "cell_type": "code",
      "execution_count": 26,
      "metadata": {
        "id": "ojHTeARNGCoi",
        "colab": {
          "base_uri": "https://localhost:8080/"
        },
        "outputId": "d76bc22d-5803-4347-ae28-06386054d086"
      },
      "outputs": [
        {
          "output_type": "stream",
          "name": "stdout",
          "text": [
            "Evaluation \t Proposed point \t  Current eval. \t  Best eval. \t        Exact EI: StdDev. x \t Approx EI: StdDev. x \n",
            "init\t [0.12549009 2.45848547]\t 30.19066754742359\t 11.367015527968295\t    \t    \n",
            "init\t [ 3.33384917 -4.42757746]\t 88548.3950659154\t 11.367015527968295\t    \t    \n",
            "init\t [-1.71237667  4.11843365]\t 13933.414320383567\t 11.367015527968295\t    \t    \n",
            "init\t [ 0.11805041 -1.63544018]\t 11.367015527968295\t 11.367015527968295\t    \t    \n",
            "init\t [ 0.35279944 -2.50870552]\t 27.90050047415725\t 11.367015527968295\t    \t    \n",
            "1  \t [0.90889852 1.75180905]\t 65.4178066529497\t 11.367015527968295\t 3.1354143656237343\t 2.9139784909838857\n",
            "2  \t [4.5 4.5]\t 174813.36328125\t 11.367015527968295\t 3.562820557722914\t 3.4549976071047306\n",
            "3  \t [-4.5 -4.5]\t 181853.61328125\t 11.367015527968295\t 3.001448751379266\t 2.9771101229993198\n",
            "4  \t [-4.5         0.43551742]\t 96.69787231034636\t 11.367015527968295\t 2.458992215368312\t 3.1068338600729604\n",
            "5  \t [ 4.5        -0.08489622]\t 19.881707794359848\t 11.367015527968295\t 2.264846634308737\t 2.656157919591905\n",
            "6  \t [-1.56609799  0.07804892]\t 40.715290066372084\t 11.367015527968295\t 2.3974509960671138\t 2.3365363665803316\n",
            "\u001b[1m\u001b[92m7\u001b[0m\t \u001b[1m\u001b[92m[ 2.16703943 -0.61538774]\u001b[0m\t \u001b[1m\u001b[92m4.821185442911088\u001b[0m\t \u001b[1m\u001b[92m4.821185442911088\u001b[0m\t \u001b[1m\u001b[92m2.2397304242465093\u001b[0m\t \u001b[1m\u001b[92m2.4067742390188904\u001b[0m\n",
            "8  \t [-0.59448052 -4.5       ]\t 3401.0609053092676\t 4.821185442911088\t 2.746849489616724\t 2.712744035625234\n",
            "9  \t [0.57220066 1.80785436]\t 45.96397735455038\t 4.821185442911088\t 2.7081241773943474\t 2.698553634066096\n",
            "10 \t [ 0.32577779 -1.56612019]\t 8.95503223117508\t 4.821185442911088\t 2.4018610667614895\t 2.364637126171073\n",
            "11 \t [ 0.30447498 -1.5874918 ]\t 9.08202219790821\t 4.821185442911088\t 2.6240166803851293\t 2.631354763759193\n",
            "\u001b[1m\u001b[92m12\u001b[0m\t \u001b[1m\u001b[92m[ 2.529652   -0.07180029]\u001b[0m\t \u001b[1m\u001b[92m1.5471984124510543\u001b[0m\t \u001b[1m\u001b[92m1.5471984124510543\u001b[0m\t \u001b[1m\u001b[92m2.6253844827524815\u001b[0m\t \u001b[1m\u001b[92m2.613212919240212\u001b[0m\n",
            "\u001b[1m\u001b[92m13\u001b[0m\t \u001b[1m\u001b[92m[ 2.54078071 -0.06613514]\u001b[0m\t \u001b[1m\u001b[92m1.546418791585517\u001b[0m\t \u001b[1m\u001b[92m1.546418791585517\u001b[0m\t \u001b[1m\u001b[92m2.557255289541153\u001b[0m\t \u001b[1m\u001b[92m2.5583342783420977\u001b[0m\n",
            "14 \t [0.6646812  1.92290543]\t 65.51854482398296\t 1.546418791585517\t 2.5231769669769566\t 2.521481588274168\n",
            "15 \t [-0.83606747 -0.80698939]\t 30.737930843686293\t 1.546418791585517\t 2.5395653131866354\t 2.5395653131866354\n",
            "16 \t [4.46293253 0.04395162]\t 15.890659809219166\t 1.546418791585517\t 2.5564213357753975\t 2.5564213357753975\n",
            "17 \t [ 2.22824392 -0.70449302]\t 6.698720440304952\t 1.546418791585517\t 2.725188190985658\t 2.725188190985658\n",
            "18 \t [ 0.33424385 -1.60000912]\t 8.92841482783488\t 1.546418791585517\t 2.3145686803642587\t 2.322011226542564\n",
            "19 \t [ 2.40519102 -0.15573594]\t 1.691586066111988\t 1.546418791585517\t 2.540663632673445\t 2.548088258494612\n",
            "20 \t [ 0.35560285 -0.57649008]\t 9.778511763264916\t 1.546418791585517\t 2.401901633756444\t 2.401901633756444\n"
          ]
        }
      ],
      "source": [
        "### ESTIMATED GP EI GRADIENTS\n",
        "\n",
        "np.random.seed(run_num_14)\n",
        "surrogate_approx_14 = dGaussianProcess(cov_func, optimize=opt)\n",
        "\n",
        "approx_14 = GPGO_multi(surrogate_approx_14, Acquisition_grad(util), objfunc, param)\n",
        "approx_14.run(init_evals=n_init, max_iter=iters)\n"
      ]
    },
    {
      "cell_type": "code",
      "execution_count": 27,
      "metadata": {
        "id": "vCJzn4vWGCs3",
        "colab": {
          "base_uri": "https://localhost:8080/"
        },
        "outputId": "410ccd40-ba44-4fec-daf7-2bcdf0dee199"
      },
      "outputs": [
        {
          "output_type": "stream",
          "name": "stdout",
          "text": [
            "Evaluation \t Proposed point \t  Current eval. \t  Best eval. \t        Exact EI: StdDev. x \t Approx EI: StdDev. x \n",
            "init\t [ 3.13935928 -2.88993668]\t 6575.875821208801\t 47.082686538130915\t    \t    \n",
            "init\t [-4.01073107 -1.24615399]\t 317.710908287677\t 47.082686538130915\t    \t    \n",
            "init\t [-2.02139164  0.27000202]\t 47.082686538130915\t 47.082686538130915\t    \t    \n",
            "init\t [-1.74672976 -1.75973077]\t 234.8792968363759\t 47.082686538130915\t    \t    \n",
            "init\t [-3.49432851 -2.25090888]\t 2421.671033348018\t 47.082686538130915\t    \t    \n",
            "1  \t [-4.5         0.13127822]\t 124.40216420141603\t 47.082686538130915\t 3.464168165021561\t 3.3472642220822464\n",
            "2  \t [4.5 4.5]\t 174813.36328125\t 47.082686538130915\t 3.2339103588497853\t 3.2952199066152494\n",
            "3  \t [-3.10160645  4.48331966]\t 78287.83325437915\t 47.082686538130915\t 2.9134329392531915\t 3.239092186211108\n",
            "\u001b[1m\u001b[92m4\u001b[0m\t \u001b[1m\u001b[92m[1.39449798 1.04201086]\u001b[0m\t \u001b[1m\u001b[92m15.930534118222303\u001b[0m\t \u001b[1m\u001b[92m15.930534118222303\u001b[0m\t \u001b[1m\u001b[92m2.606995170925072\u001b[0m\t \u001b[1m\u001b[92m2.4691407384532456\u001b[0m\n",
            "5  \t [-0.29639267 -4.5       ]\t 917.5541275178315\t 15.930534118222303\t 2.941814237902784\t 2.9438572033736192\n",
            "\u001b[1m\u001b[92m6\u001b[0m\t \u001b[1m\u001b[92m[4.5        0.41842265]\u001b[0m\t \u001b[1m\u001b[92m5.773889021583853\u001b[0m\t \u001b[1m\u001b[92m5.773889021583853\u001b[0m\t \u001b[1m\u001b[92m2.9127862235796673\u001b[0m\t \u001b[1m\u001b[92m2.9918093999082576\u001b[0m\n",
            "7  \t [0.62577274 3.34852333]\t 733.4405865343678\t 5.773889021583853\t 2.448090062032249\t 2.5509177979160444\n",
            "8  \t [ 0.30505879 -0.04434121]\t 10.56287391099245\t 5.773889021583853\t 2.9360471507585766\t 2.9371567569518637\n",
            "9  \t [-0.99667244  0.47267482]\t 25.612674356127442\t 5.773889021583853\t 2.3173175995767332\t 2.317317312527903\n",
            "\u001b[1m\u001b[92m10\u001b[0m\t \u001b[1m\u001b[92m[1.50269897 0.47158222]\u001b[0m\t \u001b[1m\u001b[92m3.306108741181725\u001b[0m\t \u001b[1m\u001b[92m3.306108741181725\u001b[0m\t \u001b[1m\u001b[92m2.5346648305019426\u001b[0m\t \u001b[1m\u001b[92m2.5534224468095723\u001b[0m\n",
            "\u001b[1m\u001b[92m11\u001b[0m\t \u001b[1m\u001b[92m[1.53679523 0.4780628 ]\u001b[0m\t \u001b[1m\u001b[92m3.1978799241774514\u001b[0m\t \u001b[1m\u001b[92m3.1978799241774514\u001b[0m\t \u001b[1m\u001b[92m2.340415790970393\u001b[0m\t \u001b[1m\u001b[92m2.3143231269474174\u001b[0m\n",
            "\u001b[1m\u001b[92m12\u001b[0m\t \u001b[1m\u001b[92m[1.54660026 0.48008345]\u001b[0m\t \u001b[1m\u001b[92m3.1689031540946235\u001b[0m\t \u001b[1m\u001b[92m3.1689031540946235\u001b[0m\t \u001b[1m\u001b[92m2.4284838917220575\u001b[0m\t \u001b[1m\u001b[92m2.4487489772501827\u001b[0m\n",
            "13 \t [-2.68531136 -1.59484909]\t 337.84938983843085\t 3.1689031540946235\t 2.890653847434994\t 2.890653847434994\n",
            "14 \t [1.47232315 0.45351444]\t 3.315177895824193\t 3.1689031540946235\t 2.6660156939598267\t 2.676652657334479\n",
            "15 \t [-0.71952747 -0.09525343]\t 25.204628386860776\t 3.1689031540946235\t 2.160839891991861\t 2.160839891991861\n",
            "16 \t [ 0.32102966 -0.78536349]\t 9.998970095534034\t 3.1689031540946235\t 2.7497905488955388\t 2.7497905488955388\n",
            "17 \t [ 0.91416271 -0.98944625]\t 5.759194129218956\t 3.1689031540946235\t 2.344701023000334\t 2.344701023000334\n",
            "18 \t [1.13651635 0.11499066]\t 3.7384758657987165\t 3.1689031540946235\t 2.632265752894504\t 2.6338509032717483\n",
            "19 \t [ 0.80156116 -0.1572301 ]\t 5.797000299006003\t 3.1689031540946235\t 2.704284968670852\t 2.694694732731156\n",
            "20 \t [4.25128681 0.26480756]\t 7.9373699425283935\t 3.1689031540946235\t 2.410399118356535\t 2.410399118356535\n"
          ]
        }
      ],
      "source": [
        "### ESTIMATED GP EI GRADIENTS\n",
        "\n",
        "np.random.seed(run_num_15)\n",
        "surrogate_approx_15 = dGaussianProcess(cov_func, optimize=opt)\n",
        "\n",
        "approx_15 = GPGO_multi(surrogate_approx_15, Acquisition_grad(util), objfunc, param)\n",
        "approx_15.run(init_evals=n_init, max_iter=iters)\n"
      ]
    },
    {
      "cell_type": "code",
      "execution_count": 28,
      "metadata": {
        "id": "bGGkhp-kGCw6",
        "colab": {
          "base_uri": "https://localhost:8080/"
        },
        "outputId": "1aa428ef-e49d-4154-9d84-ee9d4615e647"
      },
      "outputs": [
        {
          "output_type": "stream",
          "name": "stdout",
          "text": [
            "Evaluation \t Proposed point \t  Current eval. \t  Best eval. \t        Exact EI: StdDev. x \t Approx EI: StdDev. x \n",
            "init\t [-2.49038029  0.20847007]\t 59.442894178636664\t 59.442894178636664\t    \t    \n",
            "init\t [ 0.45631311 -4.08958245]\t 932.9374489641153\t 59.442894178636664\t    \t    \n",
            "init\t [-1.25344048 -2.49227152]\t 594.9494957841517\t 59.442894178636664\t    \t    \n",
            "init\t [ 1.69853546 -3.02641717]\t 2418.389440420566\t 59.442894178636664\t    \t    \n",
            "init\t [-3.8670762   3.96909774]\t 58473.38862292419\t 59.442894178636664\t    \t    \n",
            "1  \t [4.5 4.5]\t 174813.36328125\t 59.442894178636664\t 3.4014287407934454\t 3.2429704140657143\n",
            "\u001b[1m\u001b[92m2\u001b[0m\t \u001b[1m\u001b[92m[ 4.5        -0.44425396]\u001b[0m\t \u001b[1m\u001b[92m31.997001975005272\u001b[0m\t \u001b[1m\u001b[92m31.997001975005272\u001b[0m\t \u001b[1m\u001b[92m3.0687685261663407\u001b[0m\t \u001b[1m\u001b[92m3.123794128365909\u001b[0m\n",
            "3  \t [-4.5 -4.5]\t 181853.61328125\t 31.997001975005272\t 2.946750604193742\t 2.705046660732092\n",
            "\u001b[1m\u001b[92m4\u001b[0m\t \u001b[1m\u001b[92m[0.53239191 1.22742014]\u001b[0m\t \u001b[1m\u001b[92m18.445250727268522\u001b[0m\t \u001b[1m\u001b[92m18.445250727268522\u001b[0m\t \u001b[1m\u001b[92m2.5558487240842287\u001b[0m\t \u001b[1m\u001b[92m2.5667175677920975\u001b[0m\n",
            "5  \t [0.28046865 2.40238232]\t 55.314010540032555\t 18.445250727268522\t 2.6029726701428126\t 2.635688552162076\n",
            "6  \t [-4.5        -0.10222414]\t 137.4957467399295\t 18.445250727268522\t 2.9286369653116573\t 2.940498427517977\n",
            "\u001b[1m\u001b[92m7\u001b[0m\t \u001b[1m\u001b[92m[1.86786206 0.54474469]\u001b[0m\t \u001b[1m\u001b[92m2.420572920716356\u001b[0m\t \u001b[1m\u001b[92m2.420572920716356\u001b[0m\t \u001b[1m\u001b[92m2.4312981933604645\u001b[0m\t \u001b[1m\u001b[92m2.4114863442888272\u001b[0m\n",
            "\u001b[1m\u001b[92m8\u001b[0m\t \u001b[1m\u001b[92m[1.88892364 0.53905269]\u001b[0m\t \u001b[1m\u001b[92m2.2889682681141394\u001b[0m\t \u001b[1m\u001b[92m2.2889682681141394\u001b[0m\t \u001b[1m\u001b[92m2.3482849530828527\u001b[0m\t \u001b[1m\u001b[92m2.347874998768349\u001b[0m\n",
            "9  \t [ 2.83248723 -0.38933245]\t 6.094334111486105\t 2.2889682681141394\t 2.711470537485038\t 2.711470537485038\n",
            "10 \t [ 4.25599603 -0.33977075]\t 23.18408548259329\t 2.2889682681141394\t 2.6579035300747105\t 2.6579035300747105\n",
            "\u001b[1m\u001b[92m11\u001b[0m\t \u001b[1m\u001b[92m[2.34439174 0.34603126]\u001b[0m\t \u001b[1m\u001b[92m0.17850476635543588\u001b[0m\t \u001b[1m\u001b[92m0.17850476635543588\u001b[0m\t \u001b[1m\u001b[92m2.7978019016645947\u001b[0m\t \u001b[1m\u001b[92m2.8186498207512525\u001b[0m\n",
            "12 \t [ 4.47678521 -3.19040158]\t 23853.291807642563\t 0.17850476635543588\t 2.7759457581168894\t 2.7759457581168894\n",
            "13 \t [4.32426936 0.23168467]\t 9.422316930586105\t 0.17850476635543588\t 2.2235365098434974\t 2.291525410297795\n",
            "14 \t [-0.44366601  0.57966658]\t 18.21298922989621\t 0.17850476635543588\t 2.26948535319875\t 2.26948535319875\n",
            "15 \t [4.30479375 0.20536432]\t 9.896122207310057\t 0.17850476635543588\t 2.4449888294999624\t 2.510887081886506\n",
            "16 \t [4.30829073 0.19316789]\t 10.235357131962504\t 0.17850476635543588\t 2.413905059292576\t 2.489765844343949\n",
            "17 \t [4.30539803 0.18601355]\t 10.384001765687135\t 0.17850476635543588\t 2.7788844870825544\t 2.82182739962348\n",
            "18 \t [0.92431641 0.53316652]\t 7.053266594946104\t 0.17850476635543588\t 2.491726435735119\t 2.491726435735119\n",
            "19 \t [4.32239833 0.18170444]\t 10.66686409971312\t 0.17850476635543588\t 2.2998449541675523\t 2.3914076687858774\n",
            "20 \t [3.41921305 0.15621082]\t 3.707643496021455\t 0.17850476635543588\t 2.7627598656453483\t 2.762341318345553\n"
          ]
        }
      ],
      "source": [
        "### ESTIMATED GP EI GRADIENTS\n",
        "\n",
        "np.random.seed(run_num_16)\n",
        "surrogate_approx_16 = dGaussianProcess(cov_func, optimize=opt)\n",
        "\n",
        "approx_16 = GPGO_multi(surrogate_approx_16, Acquisition_grad(util), objfunc, param)\n",
        "approx_16.run(init_evals=n_init, max_iter=iters)\n"
      ]
    },
    {
      "cell_type": "code",
      "execution_count": 29,
      "metadata": {
        "id": "Yrs2mp7hGC1Z",
        "colab": {
          "base_uri": "https://localhost:8080/"
        },
        "outputId": "2bc89bae-0717-492c-c4dc-e6df1a0ecd62"
      },
      "outputs": [
        {
          "output_type": "stream",
          "name": "stdout",
          "text": [
            "Evaluation \t Proposed point \t  Current eval. \t  Best eval. \t        Exact EI: StdDev. x \t Approx EI: StdDev. x \n",
            "init\t [-1.84801498  0.2752808 ]\t 43.39160388622011\t 6.891623366037299\t    \t    \n",
            "init\t [-2.77631292 -3.88889678]\t 30048.58268621874\t 6.891623366037299\t    \t    \n",
            "init\t [2.58286914 1.4070017 ]\t 81.72560623465196\t 6.891623366037299\t    \t    \n",
            "init\t [1.23768806 0.68042604]\t 6.891623366037299\t 6.891623366037299\t    \t    \n",
            "init\t [-4.14843375 -1.27967756]\t 359.4343933746243\t 6.891623366037299\t    \t    \n",
            "1  \t [ 4.06562806 -4.5       ]\t 145242.7963934145\t 6.891623366037299\t 3.0947508298399953\t 3.715311624596405\n",
            "2  \t [-1.01230281  4.5       ]\t 8152.800149854423\t 6.891623366037299\t 2.9337420380055357\t 2.7997975698656994\n",
            "3  \t [4.5 4.5]\t 174813.36328125\t 6.891623366037299\t 2.807266090489562\t 2.763317283314738\n",
            "\u001b[1m\u001b[92m4\u001b[0m\t \u001b[1m\u001b[92m[2.38979526 0.45297176]\u001b[0m\t \u001b[1m\u001b[92m0.3691645325490724\u001b[0m\t \u001b[1m\u001b[92m0.3691645325490724\u001b[0m\t \u001b[1m\u001b[92m2.7841347118043633\u001b[0m\t \u001b[1m\u001b[92m2.766825514298784\u001b[0m\n",
            "5  \t [2.31708739 0.50729762]\t 0.7811047958452988\t 0.3691645325490724\t 2.409308472896651\t 2.414657523637366\n",
            "6  \t [2.28647984 0.53040855]\t 1.0119162325366131\t 0.3691645325490724\t 2.503832906180027\t 2.4806936680329086\n",
            "7  \t [2.27172177 0.54190363]\t 1.1384393034374778\t 0.3691645325490724\t 2.2727231269098453\t 2.340599378426352\n",
            "8  \t [-0.73076585  0.47759246]\t 22.193287505337647\t 0.3691645325490724\t 2.718938322108052\t 2.718938322108052\n",
            "9  \t [2.24600746 0.55925701]\t 1.3550604893067106\t 0.3691645325490724\t 2.9197777689750573\t 2.9525204855774803\n",
            "10 \t [2.24798028 0.55908288]\t 1.3481691033491376\t 0.3691645325490724\t 2.3401949232911665\t 2.3354034030342943\n",
            "11 \t [2.24911137 0.55914952]\t 1.3457348489474392\t 0.3691645325490724\t 2.6773276990400134\t 2.671206852064649\n",
            "12 \t [-4.5         2.06344553]\t 1215.271852791461\t 0.3691645325490724\t 2.4572828993220384\t 2.510384788442269\n",
            "13 \t [2.24876013 0.55997572]\t 1.3541933337527259\t 0.3691645325490724\t 2.2456515149972884\t 2.246773934780717\n",
            "14 \t [2.24959228 0.55991865]\t 1.3514354822830998\t 0.3691645325490724\t 2.468522316307238\t 2.396096166465658\n",
            "15 \t [2.25009008 0.5599814 ]\t 1.3506693404057812\t 0.3691645325490724\t 2.4687256490573395\t 2.457482024350087\n",
            "16 \t [ 0.73870669 -0.98625595]\t 6.3600396900759515\t 0.3691645325490724\t 2.2328959975711746\t 2.223358158987692\n",
            "17 \t [2.2493383  0.56644087]\t 1.4126080865481339\t 0.3691645325490724\t 2.345549290498119\t 2.3545246093459276\n",
            "18 \t [ 0.74144835 -0.97665578]\t 6.333730435444709\t 0.3691645325490724\t 2.5898212840761863\t 2.593536606196458\n",
            "19 \t [2.25081943 0.567571  ]\t 1.4192745794360617\t 0.3691645325490724\t 2.406977127129785\t 2.4034268029041677\n",
            "20 \t [2.25246103 0.56665446]\t 1.4061411656708795\t 0.3691645325490724\t 2.6460419741222987\t 2.652444197776835\n"
          ]
        }
      ],
      "source": [
        "### ESTIMATED GP EI GRADIENTS\n",
        "\n",
        "np.random.seed(run_num_17)\n",
        "surrogate_approx_17 = dGaussianProcess(cov_func, optimize=opt)\n",
        "\n",
        "approx_17 = GPGO_multi(surrogate_approx_17, Acquisition_grad(util), objfunc, param)\n",
        "approx_17.run(init_evals=n_init, max_iter=iters)\n"
      ]
    },
    {
      "cell_type": "code",
      "execution_count": 30,
      "metadata": {
        "id": "f0HIEP3PIUEa",
        "colab": {
          "base_uri": "https://localhost:8080/"
        },
        "outputId": "025d52e9-a14d-44e8-e983-e055b56eaa17"
      },
      "outputs": [
        {
          "output_type": "stream",
          "name": "stdout",
          "text": [
            "Evaluation \t Proposed point \t  Current eval. \t  Best eval. \t        Exact EI: StdDev. x \t Approx EI: StdDev. x \n",
            "init\t [1.35336818 0.04908036]\t 2.472652645883837\t 2.472652645883837\t    \t    \n",
            "init\t [ 3.40741324 -2.86343797]\t 7379.017314590048\t 2.472652645883837\t    \t    \n",
            "init\t [3.17009762 2.25122657]\t 1528.3101419799655\t 2.472652645883837\t    \t    \n",
            "init\t [1.49491501 4.39105903]\t 17224.913295283764\t 2.472652645883837\t    \t    \n",
            "init\t [-2.1872842  -4.24524667]\t 31030.348242396165\t 2.472652645883837\t    \t    \n",
            "1  \t [-4.5         2.00329677]\t 981.0868920768635\t 2.472652645883837\t 2.712691567770591\t 2.840882296652881\n",
            "2  \t [ 0.37381356 -0.06875589]\t 9.805069299214413\t 2.472652645883837\t 2.341809412922801\t 2.3400093972747347\n",
            "3  \t [-1.18480482  0.4908165 ]\t 27.809234947935764\t 2.472652645883837\t 2.388474991505208\t 2.3885066591217363\n",
            "4  \t [-2.63148167  4.5       ]\t 57410.32834474067\t 2.472652645883837\t 2.732625517915815\t 2.7468588308746615\n",
            "5  \t [ 0.67343317 -0.10103631]\t 6.888550537680592\t 2.472652645883837\t 2.423955233000885\t 2.425019849907961\n",
            "6  \t [-4.1381565  -0.45127798]\t 138.11500640149742\t 2.472652645883837\t 2.586644948466975\t 2.586644948466975\n",
            "7  \t [ 0.67507371 -0.09552842]\t 6.8780185556831395\t 2.472652645883837\t 2.6759395082570325\t 2.6743719846297713\n",
            "8  \t [ 0.6773613  -0.09270733]\t 6.860092042387054\t 2.472652645883837\t 2.513317507699989\t 2.516959943097971\n",
            "9  \t [ 0.67884416 -0.09093278]\t 6.848465583223449\t 2.472652645883837\t 2.5821235400020126\t 2.5855806170938522\n",
            "\u001b[1m\u001b[92m10\u001b[0m\t \u001b[1m\u001b[92m[ 1.68704758 -0.1705213 ]\u001b[0m\t \u001b[1m\u001b[92m1.4640500663699316\u001b[0m\t \u001b[1m\u001b[92m1.4640500663699316\u001b[0m\t \u001b[1m\u001b[92m2.8034519024733697\u001b[0m\t \u001b[1m\u001b[92m2.8034519024733697\u001b[0m\n",
            "11 \t [1.0525273  0.35300975]\t 5.056500630981661\t 1.4640500663699316\t 2.6685293819801608\t 2.6685295659499157\n",
            "12 \t [-0.54364369  0.07017653]\t 21.850606399934932\t 1.4640500663699316\t 2.3904600590412497\t 2.3904600590412497\n",
            "13 \t [ 1.00010042 -0.06928035]\t 4.398916577428241\t 1.4640500663699316\t 2.5595604679195287\t 2.5583126970080645\n",
            "14 \t [-0.57437167 -0.50826398]\t 23.484564656428027\t 1.4640500663699316\t 2.3116859199537676\t 2.3116859199537676\n",
            "15 \t [0.3327509 0.0225011]\t 10.310918931451553\t 1.4640500663699316\t 2.490383782311085\t 2.490383782311085\n",
            "16 \t [ 1.01436066 -0.05994042]\t 4.309767228212936\t 1.4640500663699316\t 2.2983327923318466\t 2.297894043336851\n",
            "17 \t [ 0.28131272 -0.46177715]\t 10.664762287939428\t 1.4640500663699316\t 3.02713941048763\t 3.02713941048763\n",
            "18 \t [ 1.01364678 -0.05786962]\t 4.315722850897948\t 1.4640500663699316\t 2.67482964614399\t 2.670816457423403\n",
            "19 \t [ 1.01191503 -0.05753464]\t 4.3273651293798\t 1.4640500663699316\t 2.411532216860121\t 2.4091250373514708\n",
            "20 \t [ 1.01046552 -0.05725814]\t 4.337123594797289\t 1.4640500663699316\t 2.6160353135873913\t 2.616423549467529\n"
          ]
        }
      ],
      "source": [
        "### ESTIMATED GP EI GRADIENTS\n",
        "\n",
        "np.random.seed(run_num_18)\n",
        "surrogate_approx_18 = dGaussianProcess(cov_func, optimize=opt)\n",
        "\n",
        "approx_18 = GPGO_multi(surrogate_approx_18, Acquisition_grad(util), objfunc, param)\n",
        "approx_18.run(init_evals=n_init, max_iter=iters)\n"
      ]
    },
    {
      "cell_type": "code",
      "execution_count": 31,
      "metadata": {
        "id": "S3mxRQDLIUPC",
        "colab": {
          "base_uri": "https://localhost:8080/"
        },
        "outputId": "a277315e-2946-4e93-c645-4fad013ee5c1"
      },
      "outputs": [
        {
          "output_type": "stream",
          "name": "stdout",
          "text": [
            "Evaluation \t Proposed point \t  Current eval. \t  Best eval. \t        Exact EI: StdDev. x \t Approx EI: StdDev. x \n",
            "init\t [-3.62219758  2.35124745]\t 1879.409018573639\t 63.544086067314716\t    \t    \n",
            "init\t [-2.27755824 -3.25681481]\t 7496.243410303341\t 63.544086067314716\t    \t    \n",
            "init\t [-1.51698093 -3.75300391]\t 7497.407542620609\t 63.544086067314716\t    \t    \n",
            "init\t [1.54779373 2.75934418]\t 1302.4341957421634\t 63.544086067314716\t    \t    \n",
            "init\t [4.34467723 1.22094661]\t 63.544086067314716\t 63.544086067314716\t    \t    \n",
            "1  \t [ 4.5 -4.5]\t 178131.83203125\t 63.544086067314716\t 3.1542285190750907\t 3.8834192733458757\n",
            "2  \t [4.5 4.5]\t 174813.36328125\t 63.544086067314716\t 3.0942416820167735\t 2.85357923357072\n",
            "\u001b[1m\u001b[92m3\u001b[0m\t \u001b[1m\u001b[92m[4.32863431 0.45401562]\u001b[0m\t \u001b[1m\u001b[92m3.8390697386554793\u001b[0m\t \u001b[1m\u001b[92m3.8390697386554793\u001b[0m\t \u001b[1m\u001b[92m2.2191213520784796\u001b[0m\t \u001b[1m\u001b[92m2.480782150197004\u001b[0m\n",
            "4  \t [ 1.35122098 -0.73508078]\t 3.909752278513056\t 3.8390697386554793\t 2.633858093720173\t 2.6486446336224376\n",
            "\u001b[1m\u001b[92m5\u001b[0m\t \u001b[1m\u001b[92m[4.32782814 0.48606641]\u001b[0m\t \u001b[1m\u001b[92m3.092237424273284\u001b[0m\t \u001b[1m\u001b[92m3.092237424273284\u001b[0m\t \u001b[1m\u001b[92m2.33485044023035\u001b[0m\t \u001b[1m\u001b[92m2.392813936800959\u001b[0m\n",
            "\u001b[1m\u001b[92m6\u001b[0m\t \u001b[1m\u001b[92m[4.32785764 0.49769104]\u001b[0m\t \u001b[1m\u001b[92m2.833276316568431\u001b[0m\t \u001b[1m\u001b[92m2.833276316568431\u001b[0m\t \u001b[1m\u001b[92m2.7450056611466933\u001b[0m\t \u001b[1m\u001b[92m2.7691481262333366\u001b[0m\n",
            "7  \t [ 1.29480214 -0.74130606]\t 3.991877810447054\t 2.833276316568431\t 2.4744706244806207\t 2.4768755816589874\n",
            "8  \t [ 1.29710054 -0.74144422]\t 3.989986214607594\t 2.833276316568431\t 2.4908025885161775\t 2.487590052472743\n",
            "9  \t [-0.47963216  0.19310613]\t 20.53169264841059\t 2.833276316568431\t 2.587792008282515\t 2.5891864280435555\n",
            "10 \t [ 3.62092155 -0.40557069]\t 15.01671241608022\t 2.833276316568431\t 2.7609781185509257\t 2.7609781185509257\n",
            "11 \t [ 1.55461106 -0.73090011]\t 3.9612331984121107\t 2.833276316568431\t 2.181012396110694\t 2.12747297253145\n",
            "\u001b[1m\u001b[92m12\u001b[0m\t \u001b[1m\u001b[92m[4.27703244 0.4993675 ]\u001b[0m\t \u001b[1m\u001b[92m2.586805497190471\u001b[0m\t \u001b[1m\u001b[92m2.586805497190471\u001b[0m\t \u001b[1m\u001b[92m2.4853376107427914\u001b[0m\t \u001b[1m\u001b[92m2.504592129668579\u001b[0m\n",
            "13 \t [4.28495277 0.5005102 ]\t 2.5949443886594006\t 2.586805497190471\t 2.5869716921236714\t 2.633130811892605\n",
            "14 \t [ 1.59257776 -0.72173325]\t 3.9417903593929404\t 2.586805497190471\t 2.3452952513587544\t 2.347447956970577\n",
            "\u001b[1m\u001b[92m15\u001b[0m\t \u001b[1m\u001b[92m[4.28660207 0.50142642]\u001b[0m\t \u001b[1m\u001b[92m2.5823981452899227\u001b[0m\t \u001b[1m\u001b[92m2.5823981452899227\u001b[0m\t \u001b[1m\u001b[92m2.5720236325715566\u001b[0m\t \u001b[1m\u001b[92m2.5697226370524326\u001b[0m\n",
            "16 \t [ 1.59559407 -0.72208838]\t 3.9499238641782464\t 2.5823981452899227\t 2.3491692840245952\t 2.3387967440949313\n",
            "17 \t [ 0.14892618 -0.21857378]\t 12.306203792857321\t 2.5823981452899227\t 2.4601989739077137\t 2.4601989739077137\n",
            "\u001b[1m\u001b[92m18\u001b[0m\t \u001b[1m\u001b[92m[4.28699442 0.50211735]\u001b[0m\t \u001b[1m\u001b[92m2.5695061628485782\u001b[0m\t \u001b[1m\u001b[92m2.5695061628485782\u001b[0m\t \u001b[1m\u001b[92m2.613024747187784\u001b[0m\t \u001b[1m\u001b[92m2.630620464465329\u001b[0m\n",
            "19 \t [-0.92773697  0.38389658]\t 25.790931559195393\t 2.5695061628485782\t 2.1726356846811377\t 2.1726356846811377\n",
            "20 \t [ 1.58858495 -0.72403453]\t 3.9550593113371253\t 2.5695061628485782\t 2.4506092618233533\t 2.446345868194974\n"
          ]
        }
      ],
      "source": [
        "### ESTIMATED GP EI GRADIENTS\n",
        "\n",
        "np.random.seed(run_num_19)\n",
        "surrogate_approx_19 = dGaussianProcess(cov_func, optimize=opt)\n",
        "\n",
        "approx_19 = GPGO_multi(surrogate_approx_19, Acquisition_grad(util), objfunc, param)\n",
        "approx_19.run(init_evals=n_init, max_iter=iters)\n"
      ]
    },
    {
      "cell_type": "code",
      "execution_count": 32,
      "metadata": {
        "id": "Aawd59dRIUYn",
        "colab": {
          "base_uri": "https://localhost:8080/"
        },
        "outputId": "451128ea-d99c-46ea-868e-7ec154bbd154"
      },
      "outputs": [
        {
          "output_type": "stream",
          "name": "stdout",
          "text": [
            "Evaluation \t Proposed point \t  Current eval. \t  Best eval. \t        Exact EI: StdDev. x \t Approx EI: StdDev. x \n",
            "init\t [0.79317721 3.57942355]\t 1607.3829986954497\t 30.55204392634667\t    \t    \n",
            "init\t [3.52377657 2.8425373 ]\t 7209.150060592592\t 30.55204392634667\t    \t    \n",
            "init\t [-4.17699373  1.72581824]\t 253.68900136908488\t 30.55204392634667\t    \t    \n",
            "init\t [-1.09187152  0.16659851]\t 30.55204392634667\t 30.55204392634667\t    \t    \n",
            "init\t [ 1.42156319 -2.75534804]\t 963.9362838324588\t 30.55204392634667\t    \t    \n",
            "1  \t [-4.5 -4.5]\t 181853.61328125\t 30.55204392634667\t 2.4632297008421022\t 2.514003168639772\n",
            "2  \t [ 4.5 -4.5]\t 178131.83203125\t 30.55204392634667\t 2.530637991728987\t 2.8022471762169947\n",
            "3  \t [-4.5  4.5]\t 169680.83203125\t 30.55204392634667\t 2.377664071990203\t 2.8728685046062585\n",
            "\u001b[1m\u001b[92m4\u001b[0m\t \u001b[1m\u001b[92m[-4.08149393  0.88697352]\u001b[0m\t \u001b[1m\u001b[92m28.471650832871426\u001b[0m\t \u001b[1m\u001b[92m28.471650832871426\u001b[0m\t \u001b[1m\u001b[92m2.7317453390762068\u001b[0m\t \u001b[1m\u001b[92m2.94955696077861\u001b[0m\n",
            "\u001b[1m\u001b[92m5\u001b[0m\t \u001b[1m\u001b[92m[-4.07304487  0.90763983]\u001b[0m\t \u001b[1m\u001b[92m25.667923700564423\u001b[0m\t \u001b[1m\u001b[92m25.667923700564423\u001b[0m\t \u001b[1m\u001b[92m2.580190019206016\u001b[0m\t \u001b[1m\u001b[92m2.6966267938567245\u001b[0m\n",
            "\u001b[1m\u001b[92m6\u001b[0m\t \u001b[1m\u001b[92m[1.05029445 0.25908193]\u001b[0m\t \u001b[1m\u001b[92m4.671997122998433\u001b[0m\t \u001b[1m\u001b[92m4.671997122998433\u001b[0m\t \u001b[1m\u001b[92m2.831448881013457\u001b[0m\t \u001b[1m\u001b[92m2.8180838260925123\u001b[0m\n",
            "7  \t [-2.42993632 -0.98945882]\t 100.30809891214606\t 4.671997122998433\t 2.949850370062467\t 2.9428368061359254\n",
            "8  \t [-1.8116838   1.57844028]\t 7.634179463003713\t 4.671997122998433\t 2.7079396350512517\t 2.71706382797806\n",
            "9  \t [-0.91789987 -3.41386181]\t 1692.5674287343804\t 4.671997122998433\t 2.5827169796716567\t 2.581424203917153\n",
            "10 \t [-4.5         0.92072699]\t 25.11352146289141\t 4.671997122998433\t 2.601502772150411\t 2.6696974321674385\n",
            "11 \t [ 4.5        -0.41953002]\t 30.889189763260127\t 4.671997122998433\t 2.710346035994955\t 2.7397956364034766\n",
            "12 \t [-3.27368604  1.08659933]\t 7.115999072473061\t 4.671997122998433\t 2.7326088375482542\t 2.7145412797867725\n",
            "13 \t [ 3.4583875  -1.05646053]\t 62.64613778909042\t 4.671997122998433\t 3.007032369470511\t 3.007032369470511\n",
            "14 \t [0.8921848  0.27529189]\t 5.827690841584976\t 4.671997122998433\t 2.372178512313554\t 2.4235524849062093\n",
            "15 \t [0.91906905 0.2716847 ]\t 5.619923150296989\t 4.671997122998433\t 2.284385848399565\t 2.2792988368241827\n",
            "16 \t [-0.33209931  1.30015394]\t 11.00469657555831\t 4.671997122998433\t 2.5147071170847024\t 2.514707218689529\n",
            "17 \t [0.82017561 0.30543768]\t 6.476885912199329\t 4.671997122998433\t 2.4695862149287255\t 2.4644619650136743\n",
            "18 \t [0.87126883 0.29516103]\t 6.055434433661983\t 4.671997122998433\t 2.7139171367338553\t 2.714803325347325\n",
            "19 \t [0.88710841 0.29185038]\t 5.926574443073067\t 4.671997122998433\t 2.5497650527279183\t 2.5478488554236347\n",
            "20 \t [-3.41297999  1.06578361]\t 8.450808536475176\t 4.671997122998433\t 2.2148069339917265\t 2.2160719598779313\n"
          ]
        }
      ],
      "source": [
        "### ESTIMATED GP EI GRADIENTS\n",
        "\n",
        "np.random.seed(run_num_20)\n",
        "surrogate_approx_20 = dGaussianProcess(cov_func, optimize=opt)\n",
        "\n",
        "approx_20 = GPGO_multi(surrogate_approx_20, Acquisition_grad(util), objfunc, param)\n",
        "approx_20.run(init_evals=n_init, max_iter=iters)\n"
      ]
    },
    {
      "cell_type": "code",
      "execution_count": 33,
      "metadata": {
        "id": "xkgzPRbBTHaq",
        "colab": {
          "base_uri": "https://localhost:8080/"
        },
        "outputId": "ee5d2cc5-4c01-45ab-df10-668d9b0f2d0f"
      },
      "outputs": [
        {
          "output_type": "execute_result",
          "data": {
            "text/plain": [
              "1659613211.956742"
            ]
          },
          "metadata": {},
          "execution_count": 33
        }
      ],
      "source": [
        "end_approx = time.time()\n",
        "end_approx\n",
        "\n",
        "time_approx = end_approx - start_approx\n",
        "time_approx\n",
        "\n",
        "start_exact = time.time()\n",
        "start_exact"
      ]
    },
    {
      "cell_type": "code",
      "execution_count": 34,
      "metadata": {
        "id": "7CG3Ndvb16Rb",
        "colab": {
          "base_uri": "https://localhost:8080/"
        },
        "outputId": "12f41759-61ef-4ff1-e98a-45178830261d"
      },
      "outputs": [
        {
          "output_type": "stream",
          "name": "stdout",
          "text": [
            "Evaluation \t Proposed point \t  Current eval. \t  Best eval. \t        Exact EI: StdDev. x \t Approx EI: StdDev. x \n",
            "init\t [-0.74680196  1.98292044]\t 6.597029498756062\t 6.597029498756062\t    \t    \n",
            "init\t [-4.49897063 -1.77900685]\t 1305.4710589552556\t 6.597029498756062\t    \t    \n",
            "init\t [-3.17919698 -3.66895265]\t 28173.776013477825\t 6.597029498756062\t    \t    \n",
            "init\t [-2.8236581  -1.38995346]\t 237.9931764117774\t 6.597029498756062\t    \t    \n",
            "init\t [-0.92909273  0.34935061]\t 26.1790631757263\t 6.597029498756062\t    \t    \n",
            "1  \t [-2.36970626 -0.55645492]\t 71.2119828998195\t 6.597029498756062\t 3.3335306044428745\t 3.4939839563365958\n",
            "2  \t [4.5 4.5]\t 174813.36328125\t 6.597029498756062\t 2.8232166829110503\t 3.3634765349993736\n",
            "3  \t [ 2.96089888 -3.08880666]\t 8543.209378110845\t 6.597029498756062\t 2.781323791656617\t 3.3066496854284164\n",
            "4  \t [-3.30520666 -0.03108115]\t 90.08122266981678\t 6.597029498756062\t 2.947112200372126\t 3.255890673464414\n",
            "5  \t [-0.5744994   4.31749386]\t 1914.5134389353236\t 6.597029498756062\t 2.220999285379001\t 2.766671492548056\n",
            "6  \t [-0.37073424  1.30386703]\t 10.612680669467203\t 6.597029498756062\t 2.383474074101509\t 2.436586408709667\n",
            "7  \t [-2.71247853 -0.46688005]\t 80.63736646467099\t 6.597029498756062\t 2.678178703923841\t 2.7088708494475338\n",
            "8  \t [-3.93852348  2.60517971]\t 4423.62309395794\t 6.597029498756062\t 2.8326736058929365\t 2.914821546182786\n",
            "\u001b[1m\u001b[92m9\u001b[0m\t \u001b[1m\u001b[92m[3.1328811  0.42412617]\u001b[0m\t \u001b[1m\u001b[92m0.2667625480325752\u001b[0m\t \u001b[1m\u001b[92m0.2667625480325752\u001b[0m\t \u001b[1m\u001b[92m2.5981478991867655\u001b[0m\t \u001b[1m\u001b[92m2.555904104010574\u001b[0m\n",
            "10 \t [-0.23744734  1.28652121]\t 11.99187286562902\t 0.2667625480325752\t 2.6513209220080283\t 2.677829389479813\n",
            "11 \t [0.2551179  1.25591605]\t 16.464272653233387\t 0.2667625480325752\t 2.4036421577614546\t 2.4210809783774425\n",
            "12 \t [-1.1686124   0.27627695]\t 30.792670793838237\t 0.2667625480325752\t 2.649348925724384\t 2.649348925724384\n",
            "13 \t [3.43159071 0.37283201]\t 1.3171110497407548\t 0.2667625480325752\t 2.1849256190553987\t 2.1480403557368533\n",
            "14 \t [2.05786411 0.69483769]\t 3.7474919936274826\t 0.2667625480325752\t 2.6611305604662303\t 2.665399299483963\n",
            "15 \t [1.72028355 0.87673237]\t 9.349035695368446\t 0.2667625480325752\t 2.3250860982019965\t 2.3394119053980096\n",
            "16 \t [-0.21228692 -1.08525339]\t 18.331644514989843\t 0.2667625480325752\t 2.5774984793241646\t 2.5773464091446305\n",
            "17 \t [ 1.55736949e+00 -6.08660107e-04]\t 1.6229736537164599\t 0.2667625480325752\t 2.547038768151501\t 2.547038768151501\n",
            "18 \t [-0.23394339 -1.35749328]\t 20.285171989683334\t 0.2667625480325752\t 2.589360568831159\t 2.589360568831159\n",
            "19 \t [1.51376239 0.67626061]\t 5.555167132974294\t 0.2667625480325752\t 2.905827300142293\t 2.9211553727384407\n",
            "20 \t [3.99706118 0.27528722]\t 5.697085488549989\t 0.2667625480325752\t 2.6067761953530533\t 2.6402549271078275\n"
          ]
        }
      ],
      "source": [
        "### EXACT GP EI GRADIENTS\n",
        "\n",
        "np.random.seed(run_num_1)\n",
        "surrogate_exact_1 = dGaussianProcess(cov_func, optimize=opt)\n",
        "\n",
        "exact_1 = dGPGO(surrogate_exact_1, Acquisition_grad(util), objfunc, param)\n",
        "exact_1.run(init_evals=n_init, max_iter=iters)\n"
      ]
    },
    {
      "cell_type": "code",
      "execution_count": 35,
      "metadata": {
        "id": "-ilCPSAu9SAg",
        "colab": {
          "base_uri": "https://localhost:8080/"
        },
        "outputId": "9fe816f1-98c3-4e6e-d280-b036afb9aafb"
      },
      "outputs": [
        {
          "output_type": "stream",
          "name": "stdout",
          "text": [
            "Evaluation \t Proposed point \t  Current eval. \t  Best eval. \t        Exact EI: StdDev. x \t Approx EI: StdDev. x \n",
            "init\t [-0.57604588 -4.26666391]\t 2377.8441741808733\t 8.81624267140378\t    \t    \n",
            "init\t [ 0.4469623  -0.58209847]\t 8.81624267140378\t 8.81624267140378\t    \t    \n",
            "init\t [-0.71668978 -1.52698661]\t 47.3742628518178\t 8.81624267140378\t    \t    \n",
            "init\t [-2.65816229  1.0734387 ]\t 9.08861590265506\t 8.81624267140378\t    \t    \n",
            "init\t [-1.80310794 -2.09855452]\t 510.2220943696988\t 8.81624267140378\t    \t    \n",
            "1  \t [4.5 4.5]\t 174813.36328125\t 8.81624267140378\t 3.217020350849662\t 3.3148173065942546\n",
            "2  \t [ 0.27370324 -0.64421743]\t 10.659901362718623\t 8.81624267140378\t 2.6602732032496443\t 3.0046738619064355\n",
            "3  \t [ 4.5        -2.33226482]\t 4152.839922133158\t 8.81624267140378\t 2.946937516951804\t 3.535937725511026\n",
            "4  \t [-1.38505643  4.5       ]\t 15540.794074572656\t 8.81624267140378\t 2.9119009354937817\t 3.1344383708328816\n",
            "5  \t [-4.5 -4.5]\t 181853.61328125\t 8.81624267140378\t 2.9433477600936224\t 2.9915343759786697\n",
            "\u001b[1m\u001b[92m6\u001b[0m\t \u001b[1m\u001b[92m[1.61475856 0.58940569]\u001b[0m\t \u001b[1m\u001b[92m3.9294156055451275\u001b[0m\t \u001b[1m\u001b[92m3.9294156055451275\u001b[0m\t \u001b[1m\u001b[92m2.678969451707177\u001b[0m\t \u001b[1m\u001b[92m2.700319717164061\u001b[0m\n",
            "7  \t [1.13639461 0.91855626]\t 11.88967445345517\t 3.9294156055451275\t 2.6027319876251265\t 2.603813932250563\n",
            "8  \t [ 0.1633099  -0.47411674]\t 12.069099373069289\t 3.9294156055451275\t 2.4293529368513243\t 2.41331366928948\n",
            "9  \t [-2.93505489  0.53799081]\t 52.99476163608124\t 3.9294156055451275\t 2.490259182879001\t 2.548573301502174\n",
            "10 \t [-0.24418429  1.12421158]\t 13.298337427900336\t 3.9294156055451275\t 2.527205513447223\t 2.527205513447223\n",
            "11 \t [ 0.43320191 -0.71009008]\t 8.866638127484721\t 3.9294156055451275\t 2.679099163216062\t 2.673879467637582\n",
            "12 \t [-0.54469641  0.42642093]\t 20.332443815145268\t 3.9294156055451275\t 2.0772598645646236\t 2.078469695619038\n",
            "13 \t [1.6743751  0.61713444]\t 4.016706824884656\t 3.9294156055451275\t 2.705634099037557\t 2.7075380196026693\n",
            "14 \t [-0.45232074 -0.2699137 ]\t 20.953417854841803\t 3.9294156055451275\t 2.7606059437569965\t 2.7606059437569965\n",
            "\u001b[1m\u001b[92m15\u001b[0m\t \u001b[1m\u001b[92m[-4.36745803  1.24439095]\u001b[0m\t \u001b[1m\u001b[92m2.23448317531831\u001b[0m\t \u001b[1m\u001b[92m2.23448317531831\u001b[0m\t \u001b[1m\u001b[92m2.4764372520150926\u001b[0m\t \u001b[1m\u001b[92m2.5008260747355298\u001b[0m\n",
            "16 \t [0.36503067 1.20046172]\t 16.648489585042586\t 2.23448317531831\t 2.3769114227716504\t 2.3769114227716504\n",
            "17 \t [-0.35770512  0.1922898 ]\t 18.812927262574632\t 2.23448317531831\t 2.5743162266503363\t 2.5743162266503363\n",
            "18 \t [ 0.32595849 -1.19233551]\t 9.367024377859765\t 2.23448317531831\t 2.5131201183481964\t 2.5131202194360225\n",
            "19 \t [-4.5         0.58765387]\t 76.8441697219879\t 2.23448317531831\t 2.4980818908063633\t 2.5144818230038557\n",
            "20 \t [0.61135815 0.85685245]\t 12.104349412384298\t 2.23448317531831\t 2.6053125115320728\t 2.6053125115320728\n"
          ]
        }
      ],
      "source": [
        "### EXACT GP EI GRADIENTS\n",
        "\n",
        "np.random.seed(run_num_2)\n",
        "surrogate_exact_2 = dGaussianProcess(cov_func, optimize=opt)\n",
        "\n",
        "exact_2 = dGPGO(surrogate_exact_2, Acquisition_grad(util), objfunc, param)\n",
        "exact_2.run(init_evals=n_init, max_iter=iters)\n"
      ]
    },
    {
      "cell_type": "code",
      "execution_count": 36,
      "metadata": {
        "id": "XieJ158mIvlP",
        "colab": {
          "base_uri": "https://localhost:8080/"
        },
        "outputId": "8af80e4a-2190-4bf4-81f1-48efed258c67"
      },
      "outputs": [
        {
          "output_type": "stream",
          "name": "stdout",
          "text": [
            "Evaluation \t Proposed point \t  Current eval. \t  Best eval. \t        Exact EI: StdDev. x \t Approx EI: StdDev. x \n",
            "init\t [0.45718112 1.8733304 ]\t 41.912714742005974\t 41.912714742005974\t    \t    \n",
            "init\t [-1.88185735  0.09744845]\t 47.451188393399434\t 41.912714742005974\t    \t    \n",
            "init\t [3.53652259 3.5666378 ]\t 27475.816689924115\t 41.912714742005974\t    \t    \n",
            "init\t [-3.36973221 -2.6348141 ]\t 5079.048973002421\t 41.912714742005974\t    \t    \n",
            "init\t [-4.03679517 -0.53271141]\t 138.4086524103332\t 41.912714742005974\t    \t    \n",
            "1  \t [ 2.05653972 -2.20902137]\t 597.1982613652538\t 41.912714742005974\t 2.0314956419089514\t 3.0397654458353562\n",
            "2  \t [-2.94491994  4.42400572]\t 65033.505710735764\t 41.912714742005974\t 2.444674316301569\t 3.208568774174224\n",
            "\u001b[1m\u001b[92m3\u001b[0m\t \u001b[1m\u001b[92m[-0.33703412  0.58613212]\u001b[0m\t \u001b[1m\u001b[92m17.171176850394563\u001b[0m\t \u001b[1m\u001b[92m17.171176850394563\u001b[0m\t \u001b[1m\u001b[92m2.5939089000250726\u001b[0m\t \u001b[1m\u001b[92m2.6449140128816007\u001b[0m\n",
            "4  \t [-0.30200503 -4.44817681]\t 892.296678791928\t 17.171176850394563\t 2.3114448298505823\t 2.939054263749953\n",
            "\u001b[1m\u001b[92m5\u001b[0m\t \u001b[1m\u001b[92m[0.23652124 0.44778653]\u001b[0m\t \u001b[1m\u001b[92m11.929282558852247\u001b[0m\t \u001b[1m\u001b[92m11.929282558852247\u001b[0m\t \u001b[1m\u001b[92m2.520406699334662\u001b[0m\t \u001b[1m\u001b[92m2.52008143769495\u001b[0m\n",
            "6  \t [ 4.46207675 -4.05849301]\t 95598.74424276894\t 11.929282558852247\t 2.528956828390466\t 2.5800624556939447\n",
            "\u001b[1m\u001b[92m7\u001b[0m\t \u001b[1m\u001b[92m[0.69921686 0.06572166]\u001b[0m\t \u001b[1m\u001b[92m6.840673184434644\u001b[0m\t \u001b[1m\u001b[92m6.840673184434644\u001b[0m\t \u001b[1m\u001b[92m2.493795874452547\u001b[0m\t \u001b[1m\u001b[92m2.478014427878641\u001b[0m\n",
            "\u001b[1m\u001b[92m8\u001b[0m\t \u001b[1m\u001b[92m[ 1.31278096 -0.10327376]\u001b[0m\t \u001b[1m\u001b[92m2.625613432619532\u001b[0m\t \u001b[1m\u001b[92m2.625613432619532\u001b[0m\t \u001b[1m\u001b[92m2.596702921587616\u001b[0m\t \u001b[1m\u001b[92m2.5940483113618407\u001b[0m\n",
            "9  \t [0.25649653 0.43804811]\t 11.72347430269404\t 2.625613432619532\t 2.372251636932027\t 2.37698839043975\n",
            "10 \t [-0.24941589 -1.83972621]\t 27.218703433882453\t 2.625613432619532\t 2.623268433089555\t 2.623268433089555\n",
            "\u001b[1m\u001b[92m11\u001b[0m\t \u001b[1m\u001b[92m[ 1.58369716 -0.15549801]\u001b[0m\t \u001b[1m\u001b[92m1.677274624985316\u001b[0m\t \u001b[1m\u001b[92m1.677274624985316\u001b[0m\t \u001b[1m\u001b[92m2.5564564204699227\u001b[0m\t \u001b[1m\u001b[92m2.5481396248122956\u001b[0m\n",
            "12 \t [ 1.21904173 -0.04639716]\t 3.0950236340013744\t 1.677274624985316\t 2.4780930745623624\t 2.4776791023730875\n",
            "13 \t [-4.09536641  0.36456546]\t 93.0170459352445\t 1.677274624985316\t 2.609998239982417\t 2.625059683383987\n",
            "14 \t [0.14759226 0.06759569]\t 12.416820499065905\t 1.677274624985316\t 2.374695450303528\t 2.3775872756395438\n",
            "15 \t [ 0.66998814 -1.17941873]\t 7.044089243447181\t 1.677274624985316\t 2.526514376886212\t 2.526514376886212\n",
            "16 \t [ 1.06461832 -0.04633784]\t 3.9940490651091336\t 1.677274624985316\t 2.674339352211795\t 2.675453429390275\n",
            "17 \t [0.16992995 1.48113172]\t 17.56177941278189\t 1.677274624985316\t 2.3828563608183195\t 2.3828563608183195\n",
            "18 \t [ 1.20886961 -0.09568853]\t 3.1403342812211723\t 1.677274624985316\t 2.8503706173273087\t 2.8501938248751433\n",
            "\u001b[1m\u001b[92m19\u001b[0m\t \u001b[1m\u001b[92m[ 2.21640951 -0.10338718]\u001b[0m\t \u001b[1m\u001b[92m1.062311432950786\u001b[0m\t \u001b[1m\u001b[92m1.062311432950786\u001b[0m\t \u001b[1m\u001b[92m2.5460434336006\u001b[0m\t \u001b[1m\u001b[92m2.5460434336006\u001b[0m\n",
            "20 \t [ 1.15899661 -1.1259901 ]\t 7.520744782883107\t 1.062311432950786\t 2.260353625818895\t 2.260353625818895\n"
          ]
        }
      ],
      "source": [
        "### EXACT GP EI GRADIENTS\n",
        "\n",
        "np.random.seed(run_num_3)\n",
        "surrogate_exact_3 = dGaussianProcess(cov_func, optimize=opt)\n",
        "\n",
        "exact_3 = dGPGO(surrogate_exact_3, Acquisition_grad(util), objfunc, param)\n",
        "exact_3.run(init_evals=n_init, max_iter=iters)\n"
      ]
    },
    {
      "cell_type": "code",
      "execution_count": 37,
      "metadata": {
        "id": "PhLBVOIfIvol",
        "colab": {
          "base_uri": "https://localhost:8080/"
        },
        "outputId": "aa8149e6-9c22-46d1-aea7-b2755a216bae"
      },
      "outputs": [
        {
          "output_type": "stream",
          "name": "stdout",
          "text": [
            "Evaluation \t Proposed point \t  Current eval. \t  Best eval. \t        Exact EI: StdDev. x \t Approx EI: StdDev. x \n",
            "init\t [4.20326855 0.42509024]\t 3.8409856613776237\t 3.8409856613776237\t    \t    \n",
            "init\t [4.25415924 1.93334394]\t 1070.6518137934977\t 3.8409856613776237\t    \t    \n",
            "init\t [ 1.77955942 -2.55519454]\t 1001.3529311398922\t 3.8409856613776237\t    \t    \n",
            "init\t [ 4.28647009 -4.4439277 ]\t 150069.47442764963\t 3.8409856613776237\t    \t    \n",
            "init\t [-2.22315874 -0.58687621]\t 67.08861688517413\t 3.8409856613776237\t    \t    \n",
            "1  \t [-1.15548213  4.5       ]\t 10711.048216233725\t 3.8409856613776237\t 2.527545342079015\t 3.2301702354917645\n",
            "2  \t [-4.5 -4.5]\t 181853.61328125\t 3.8409856613776237\t 2.8384856078495373\t 2.8297069055200472\n",
            "3  \t [-4.04702316  0.52623137]\t 75.46670629817017\t 3.8409856613776237\t 2.786176092547806\t 2.8380156770753473\n",
            "4  \t [0.18485017 0.64378153]\t 12.841405492691969\t 3.8409856613776237\t 2.660918458125654\t 2.660955491429588\n",
            "5  \t [-0.16111583  0.53775297]\t 15.693408644408636\t 3.8409856613776237\t 2.419510680927564\t 2.431599963920107\n",
            "\u001b[1m\u001b[92m6\u001b[0m\t \u001b[1m\u001b[92m[1.92418858 0.19356408]\u001b[0m\t \u001b[1m\u001b[92m0.6718956334076787\u001b[0m\t \u001b[1m\u001b[92m0.6718956334076787\u001b[0m\t \u001b[1m\u001b[92m2.6122659976211655\u001b[0m\t \u001b[1m\u001b[92m2.604194747173686\u001b[0m\n",
            "7  \t [ 3.03172196 -0.16454275]\t 4.789301741350758\t 0.6718956334076787\t 2.0892901762682032\t 2.1219239424131766\n",
            "8  \t [1.61289764 0.34356121]\t 2.040432470116755\t 0.6718956334076787\t 2.359327743033501\t 2.339912338165452\n",
            "9  \t [-0.62508139 -1.01514705]\t 27.833781277805606\t 0.6718956334076787\t 2.374077306528876\t 2.374077306528876\n",
            "10 \t [2.00077025 0.89650121]\t 9.388851881869538\t 0.6718956334076787\t 3.1888002798908994\t 3.1888002798908994\n",
            "11 \t [1.68267174 1.60274265]\t 92.1687068186896\t 0.6718956334076787\t 2.85711078142276\t 2.85711078142276\n",
            "12 \t [ 3.26416592 -0.20937267]\t 7.197211946003769\t 0.6718956334076787\t 2.640330906939982\t 2.7428699186623877\n",
            "13 \t [1.01783185 0.66176926]\t 7.769308187977419\t 0.6718956334076787\t 2.531493023694388\t 2.531493023694388\n",
            "14 \t [-0.75485471  1.04199996]\t 13.311114503878152\t 0.6718956334076787\t 2.3514660664150173\t 2.3514660664150173\n",
            "\u001b[1m\u001b[92m15\u001b[0m\t \u001b[1m\u001b[92m[2.40257192 0.32987742]\u001b[0m\t \u001b[1m\u001b[92m0.11923650225605985\u001b[0m\t \u001b[1m\u001b[92m0.11923650225605985\u001b[0m\t \u001b[1m\u001b[92m2.5893740779023227\u001b[0m\t \u001b[1m\u001b[92m2.5893740779023227\u001b[0m\n",
            "16 \t [-0.35547889 -0.15136692]\t 19.28212515619054\t 0.11923650225605985\t 2.506309135672555\t 2.506309135672555\n",
            "17 \t [1.24668955 0.2685084 ]\t 3.5077322660503047\t 0.11923650225605985\t 2.4832984346725007\t 2.4921501136752613\n",
            "18 \t [ 3.00877626 -0.17012954]\t 4.693101913974758\t 0.11923650225605985\t 2.5645147228526426\t 2.61241571137277\n",
            "19 \t [ 0.38233586 -0.14433148]\t 9.671236974025433\t 0.11923650225605985\t 2.663826507669348\t 2.663826507669348\n",
            "20 \t [-1.21095663 -0.25525958]\t 35.4285665154855\t 0.11923650225605985\t 2.4235096009377775\t 2.4235096009377775\n"
          ]
        }
      ],
      "source": [
        "### EXACT GP EI GRADIENTS\n",
        "\n",
        "np.random.seed(run_num_4)\n",
        "surrogate_exact_4 = dGaussianProcess(cov_func, optimize=opt)\n",
        "\n",
        "exact_4 = dGPGO(surrogate_exact_4, Acquisition_grad(util), objfunc, param)\n",
        "exact_4.run(init_evals=n_init, max_iter=iters)\n"
      ]
    },
    {
      "cell_type": "code",
      "execution_count": 38,
      "metadata": {
        "id": "arbiPyj2IvsJ",
        "colab": {
          "base_uri": "https://localhost:8080/"
        },
        "outputId": "89fc72b9-af26-46be-9984-b537ce808e2e"
      },
      "outputs": [
        {
          "output_type": "stream",
          "name": "stdout",
          "text": [
            "Evaluation \t Proposed point \t  Current eval. \t  Best eval. \t        Exact EI: StdDev. x \t Approx EI: StdDev. x \n",
            "init\t [-2.50206146  3.33659076]\t 8263.905568073349\t 0.311397019260738\t    \t    \n",
            "init\t [-2.6395276   3.76749817]\t 19560.15202528338\t 0.311397019260738\t    \t    \n",
            "init\t [-0.1042993   1.00569477]\t 14.186578993925806\t 0.311397019260738\t    \t    \n",
            "init\t [2.39317071 0.16576189]\t 0.311397019260738\t 0.311397019260738\t    \t    \n",
            "init\t [-1.82879549 -2.81050894]\t 2208.9823086257425\t 0.311397019260738\t    \t    \n",
            "1  \t [ 3.80474653 -4.48007209]\t 123826.98871542915\t 0.311397019260738\t 3.254831965079065\t 3.373847826573162\n",
            "2  \t [3.29285857 4.5       ]\t 94114.63035209569\t 0.311397019260738\t 2.940652915113163\t 3.081941981108914\n",
            "3  \t [4.12554738 0.22865825]\t 7.690959455936971\t 0.311397019260738\t 2.5922208718089674\t 2.847863780448468\n",
            "4  \t [ 1.80691706 -0.85143582]\t 6.566799899134696\t 0.311397019260738\t 2.5528137233249786\t 2.532103381501071\n",
            "5  \t [ 3.4982641  -0.71382815]\t 25.09828511024789\t 0.311397019260738\t 2.4540348555268987\t 2.5116371700329982\n",
            "6  \t [-4.5        -0.39030235]\t 151.58904426666703\t 0.311397019260738\t 2.870388275239493\t 2.8453093082745813\n",
            "7  \t [2.191962  0.6748951]\t 2.9611647212178767\t 0.311397019260738\t 2.2666171595025695\t 2.2177247435329197\n",
            "8  \t [ 0.91580727 -1.42136678]\t 11.502625475094378\t 0.311397019260738\t 2.73498679967864\t 2.6917879359396384\n",
            "9  \t [1.76926434 0.80431859]\t 7.128315360500123\t 0.311397019260738\t 2.528015238608971\t 2.3750420144957487\n",
            "10 \t [-4.5 -4.5]\t 181853.61328125\t 0.311397019260738\t 2.5518847400679463\t 2.5534021653683574\n",
            "11 \t [ 2.48680236 -0.0619473 ]\t 1.3721280531744025\t 0.311397019260738\t 2.6066998796982697\t 2.593693167559717\n",
            "12 \t [ 2.33608848 -0.0517617 ]\t 1.0055205971204009\t 0.311397019260738\t 2.349642701243347\t 2.3137642097144884\n",
            "13 \t [0.16962188 0.8610693 ]\t 13.61932779356935\t 0.311397019260738\t 2.575830085146745\t 2.5888353209721244\n",
            "14 \t [1.45531178 0.25100945]\t 2.3763024944421085\t 0.311397019260738\t 2.136802643599105\t 2.1527095746847102\n",
            "15 \t [1.94306221 0.07933714]\t 0.6516980332216753\t 0.311397019260738\t 2.4067435279080405\t 2.438058131168903\n",
            "\u001b[1m\u001b[92m16\u001b[0m\t \u001b[1m\u001b[92m[3.33553443 0.49000973]\u001b[0m\t \u001b[1m\u001b[92m0.22263807471302513\u001b[0m\t \u001b[1m\u001b[92m0.22263807471302513\u001b[0m\t \u001b[1m\u001b[92m2.448290592429518\u001b[0m\t \u001b[1m\u001b[92m2.448290592429518\u001b[0m\n",
            "17 \t [2.62921364 0.0548957 ]\t 1.107861672841812\t 0.22263807471302513\t 2.404389368601384\t 2.5428071393252663\n",
            "18 \t [0.96308814 0.50977646]\t 6.621782760566147\t 0.22263807471302513\t 2.5013320924981266\t 2.59117103831989\n",
            "19 \t [-0.30150936  0.04884947]\t 18.263365834743936\t 0.22263807471302513\t 2.3139746043635587\t 2.3139752129238924\n",
            "20 \t [2.26971489 0.10103411]\t 0.4199363808907239\t 0.22263807471302513\t 2.5458346494822437\t 2.636648621183713\n"
          ]
        }
      ],
      "source": [
        "### EXACT GP EI GRADIENTS\n",
        "\n",
        "np.random.seed(run_num_5)\n",
        "surrogate_exact_5 = dGaussianProcess(cov_func, optimize=opt)\n",
        "\n",
        "exact_5 = dGPGO(surrogate_exact_5, Acquisition_grad(util), objfunc, param)\n",
        "exact_5.run(init_evals=n_init, max_iter=iters)\n"
      ]
    },
    {
      "cell_type": "code",
      "execution_count": 39,
      "metadata": {
        "id": "04KJCEm_Ivvf",
        "colab": {
          "base_uri": "https://localhost:8080/"
        },
        "outputId": "432af0a4-62a0-4856-adc9-bedb5e139353"
      },
      "outputs": [
        {
          "output_type": "stream",
          "name": "stdout",
          "text": [
            "Evaluation \t Proposed point \t  Current eval. \t  Best eval. \t        Exact EI: StdDev. x \t Approx EI: StdDev. x \n",
            "init\t [ 3.53574136 -1.51218175]\t 273.3122030790333\t 10.038000709758428\t    \t    \n",
            "init\t [ 2.89106211 -4.12473037]\t 43803.250406689425\t 10.038000709758428\t    \t    \n",
            "init\t [-3.53108988  0.85546858]\t 29.828433746298536\t 10.038000709758428\t    \t    \n",
            "init\t [ 0.26835626 -0.73073314]\t 10.658925295067505\t 10.038000709758428\t    \t    \n",
            "init\t [-1.48132936  1.10267489]\t 10.038000709758428\t 10.038000709758428\t    \t    \n",
            "1  \t [4.5        1.29315521]\t 97.49404147046806\t 10.038000709758428\t 3.4108246737384555\t 3.346124791013239\n",
            "2  \t [-4.5 -4.5]\t 181853.61328125\t 10.038000709758428\t 3.5084284902423275\t 3.797149841751602\n",
            "3  \t [1.34038039 4.48968338]\t 15846.111140367186\t 10.038000709758428\t 3.1078014131162246\t 3.0659575810875257\n",
            "4  \t [-2.83945502  3.50029479]\t 14440.965394325414\t 10.038000709758428\t 2.5092434199254474\t 3.377440487670838\n",
            "5  \t [-1.08929429  0.42426011]\t 27.589590237357974\t 10.038000709758428\t 2.4585528456248604\t 2.4473915747367987\n",
            "6  \t [-3.12884128 -0.06056421]\t 85.13966362941997\t 10.038000709758428\t 2.69893539451636\t 2.7760053153583315\n",
            "7  \t [-0.03905264  0.91679288]\t 14.288070033974712\t 10.038000709758428\t 2.8938066648892553\t 2.895072153814905\n",
            "\u001b[1m\u001b[92m8\u001b[0m\t \u001b[1m\u001b[92m[2.0748872  0.10865784]\u001b[0m\t \u001b[1m\u001b[92m0.4675083597108589\u001b[0m\t \u001b[1m\u001b[92m0.4675083597108589\u001b[0m\t \u001b[1m\u001b[92m2.7292193382964083\u001b[0m\t \u001b[1m\u001b[92m2.7193919530902355\u001b[0m\n",
            "9  \t [1.93239715 0.28022517]\t 0.772600134555352\t 0.4675083597108589\t 2.4034743914942007\t 2.4145718906575855\n",
            "10 \t [-1.12874295 -1.68355619]\t 104.0819818636333\t 0.4675083597108589\t 2.498545735742462\t 2.5122677893618923\n",
            "11 \t [3.59227572 0.04673578]\t 6.418883599706605\t 0.4675083597108589\t 2.8802227040205435\t 2.8802227040205435\n",
            "12 \t [-4.29515562  0.77324209]\t 46.285871808620556\t 0.4675083597108589\t 2.4191803351129484\t 2.4191803351129484\n",
            "13 \t [1.42552329 0.56917346]\t 4.57765853167245\t 0.4675083597108589\t 2.3819746996580666\t 2.386931051698347\n",
            "\u001b[1m\u001b[92m14\u001b[0m\t \u001b[1m\u001b[92m[2.10887906 0.19974104]\u001b[0m\t \u001b[1m\u001b[92m0.36996404404565864\u001b[0m\t \u001b[1m\u001b[92m0.36996404404565864\u001b[0m\t \u001b[1m\u001b[92m2.6241612793604987\u001b[0m\t \u001b[1m\u001b[92m2.5975870536064196\u001b[0m\n",
            "15 \t [-1.17470735  0.71417297]\t 22.72289373806676\t 0.36996404404565864\t 2.5378439308114076\t 2.536886551460198\n",
            "16 \t [-1.26337766  0.10087594]\t 34.31119252118213\t 0.36996404404565864\t 2.5405893126149497\t 2.5405893126149497\n",
            "17 \t [1.63181638 0.46744863]\t 2.6935378019569156\t 0.36996404404565864\t 2.906889239859989\t 2.901630066198136\n",
            "18 \t [ 3.64691005 -0.26269013]\t 12.135895398259319\t 0.36996404404565864\t 2.638474185838609\t 2.638474185838609\n",
            "19 \t [ 2.66978282 -0.06121113]\t 1.9474109518755593\t 0.36996404404565864\t 2.7904997670707874\t 2.779285996351692\n",
            "20 \t [1.94599455 0.30504495]\t 0.796212011955509\t 0.36996404404565864\t 2.6592263875019673\t 2.67634712299835\n"
          ]
        }
      ],
      "source": [
        "### EXACT GP EI GRADIENTS\n",
        "\n",
        "np.random.seed(run_num_6)\n",
        "surrogate_exact_6 = dGaussianProcess(cov_func, optimize=opt)\n",
        "\n",
        "exact_6 = dGPGO(surrogate_exact_6, Acquisition_grad(util), objfunc, param)\n",
        "exact_6.run(init_evals=n_init, max_iter=iters)\n"
      ]
    },
    {
      "cell_type": "code",
      "execution_count": 40,
      "metadata": {
        "id": "tAOkme3CIvyO",
        "colab": {
          "base_uri": "https://localhost:8080/"
        },
        "outputId": "153734d1-952a-46cd-c265-c78359637b37"
      },
      "outputs": [
        {
          "output_type": "stream",
          "name": "stdout",
          "text": [
            "Evaluation \t Proposed point \t  Current eval. \t  Best eval. \t        Exact EI: StdDev. x \t Approx EI: StdDev. x \n",
            "init\t [-3.8132254   2.51926913]\t 3321.1422834954587\t 2.9676923934097053\t    \t    \n",
            "init\t [-0.55431692  2.0111866 ]\t 2.9676923934097053\t 2.9676923934097053\t    \t    \n",
            "init\t [4.30190561 0.34646283]\t 6.32173172477085\t 2.9676923934097053\t    \t    \n",
            "init\t [ 0.01008417 -3.8515398 ]\t 11.971894461559128\t 2.9676923934097053\t    \t    \n",
            "init\t [-2.08404918e+00 -1.05749257e-03]\t 53.820317186435204\t 2.9676923934097053\t    \t    \n",
            "1  \t [0.33335076 2.03706478]\t 40.40304240269206\t 2.9676923934097053\t 2.10557998638403\t 2.595758271865654\n",
            "2  \t [-4.5 -4.5]\t 181853.61328125\t 2.9676923934097053\t 3.3741043252719294\t 3.868460184922477\n",
            "3  \t [4.5 4.5]\t 174813.36328125\t 2.9676923934097053\t 3.096754670342442\t 3.4458440060521354\n",
            "4  \t [ 2.3497627  -2.80773064]\t 3071.4431889655943\t 2.9676923934097053\t 2.625054831961045\t 2.6485794149289896\n",
            "5  \t [-1.46669149  4.3669769 ]\t 14537.036444724683\t 2.9676923934097053\t 2.710988860738283\t 2.7339791976049828\n",
            "6  \t [3.55688736 0.23882211]\t 3.4571872769964855\t 2.9676923934097053\t 2.7904998281879037\t 2.8237515186563527\n",
            "7  \t [0.55899711 0.61400326]\t 10.085654533929794\t 2.9676923934097053\t 2.3617791595736226\t 2.362365175555314\n",
            "8  \t [-0.80611812  1.28249142]\t 7.6076170973841855\t 2.9676923934097053\t 2.709519295642029\t 2.7094051847586256\n",
            "9  \t [-0.03636364  1.17739541]\t 14.000645767640366\t 2.9676923934097053\t 2.7155090758384413\t 2.714395108203092\n",
            "10 \t [0.72965263 1.15975046]\t 18.07427493726496\t 2.9676923934097053\t 2.852028346595881\t 2.8672952885688634\n",
            "11 \t [-1.75933534 -0.40966037]\t 49.93294899528902\t 2.9676923934097053\t 2.5092915636476474\t 2.5092915636476474\n",
            "12 \t [-0.09908992  1.17253666]\t 13.67163785715014\t 2.9676923934097053\t 2.6999111406838843\t 2.7011794926925248\n",
            "13 \t [0.15183169 1.2582132 ]\t 15.5418360903966\t 2.9676923934097053\t 2.6188838023880385\t 2.6333669810231015\n",
            "14 \t [0.60413421 1.31543496]\t 21.633528531510134\t 2.9676923934097053\t 2.3063849082055285\t 2.305395910681268\n",
            "15 \t [-1.17091733 -1.3904274 ]\t 68.03203609966735\t 2.9676923934097053\t 2.8459161012140153\t 2.8459161012140153\n",
            "16 \t [4.39035801 0.01203308]\t 15.746441304094546\t 2.9676923934097053\t 2.3081364674235485\t 2.303795529451587\n",
            "17 \t [ 3.9338529  -0.45831965]\t 21.533859628663823\t 2.9676923934097053\t 2.112523303008269\t 2.112523303008269\n",
            "18 \t [ 0.5053372 -4.4590609]\t 1962.55074481906\t 2.9676923934097053\t 2.8510949111895774\t 2.8510949111895774\n",
            "19 \t [0.86137076 0.67285866]\t 8.752261262934077\t 2.9676923934097053\t 2.7154632295142997\t 2.7154632295142997\n",
            "20 \t [0.13210253 1.20361264]\t 15.08018293454593\t 2.9676923934097053\t 2.606222613128566\t 2.608895158245088\n"
          ]
        }
      ],
      "source": [
        "### EXACT GP EI GRADIENTS\n",
        "\n",
        "np.random.seed(run_num_7)\n",
        "surrogate_exact_7 = dGaussianProcess(cov_func, optimize=opt)\n",
        "\n",
        "exact_7 = dGPGO(surrogate_exact_7, Acquisition_grad(util), objfunc, param)\n",
        "exact_7.run(init_evals=n_init, max_iter=iters)\n"
      ]
    },
    {
      "cell_type": "code",
      "execution_count": 41,
      "metadata": {
        "id": "69-J3EF4Iv1S",
        "colab": {
          "base_uri": "https://localhost:8080/"
        },
        "outputId": "32c71fdc-f6c7-4ec0-80c8-3193cfdd6288"
      },
      "outputs": [
        {
          "output_type": "stream",
          "name": "stdout",
          "text": [
            "Evaluation \t Proposed point \t  Current eval. \t  Best eval. \t        Exact EI: StdDev. x \t Approx EI: StdDev. x \n",
            "init\t [3.36086463 4.21686597]\t 66731.07602386779\t 1.8693348557707412\t    \t    \n",
            "init\t [3.32275086 0.27770122]\t 1.8693348557707412\t 1.8693348557707412\t    \t    \n",
            "init\t [-2.40544505 -4.39741076]\t 45883.361726150484\t 1.8693348557707412\t    \t    \n",
            "init\t [-0.62578064 -0.87883776]\t 26.39306084619828\t 1.8693348557707412\t    \t    \n",
            "init\t [ 0.20407204 -0.19447384]\t 11.649230998110728\t 1.8693348557707412\t    \t    \n",
            "1  \t [ 3.29328857 -0.40328063]\t 10.782895625484445\t 1.8693348557707412\t 2.541646113636367\t 2.951686368875979\n",
            "2  \t [-4.42522463  2.59724938]\t 5535.695265667181\t 1.8693348557707412\t 2.542055178951243\t 3.48578738568144\n",
            "3  \t [-0.33624711  1.41514101]\t 9.543155837477817\t 1.8693348557707412\t 2.338436187530064\t 2.341089715090435\n",
            "4  \t [ 2.74487273 -3.64535999]\t 19133.283437908176\t 1.8693348557707412\t 2.75018350425386\t 3.192804199774514\n",
            "5  \t [-0.21134311  1.09596389]\t 13.606616019667854\t 1.8693348557707412\t 2.4794967724959593\t 2.490466311465005\n",
            "\u001b[1m\u001b[92m6\u001b[0m\t \u001b[1m\u001b[92m[2.51247877 0.14729774]\u001b[0m\t \u001b[1m\u001b[92m0.47045559247114155\u001b[0m\t \u001b[1m\u001b[92m0.47045559247114155\u001b[0m\t \u001b[1m\u001b[92m2.7232884020853643\u001b[0m\t \u001b[1m\u001b[92m2.769788390071857\u001b[0m\n",
            "7  \t [3.15459674 0.09462545]\t 2.8846236166352655\t 0.47045559247114155\t 2.6874158613911066\t 2.717345419108106\n",
            "8  \t [0.05636795 0.95365394]\t 14.133141143125764\t 0.47045559247114155\t 2.721145720872613\t 2.721145720872613\n",
            "9  \t [ 0.4201085  -0.01463258]\t 9.36329952609649\t 0.47045559247114155\t 2.4125844727549333\t 2.4125844727549333\n",
            "10 \t [ 4.32398786 -0.03065583]\t 15.912717827929667\t 0.47045559247114155\t 2.5896606340140558\t 2.620158455186527\n",
            "11 \t [-4.40407236 -0.64306126]\t 166.92069928043009\t 0.47045559247114155\t 2.464886829376934\t 2.464886829376934\n",
            "12 \t [3.02101602 0.08701521]\t 2.2978930820832306\t 0.47045559247114155\t 2.225782041909512\t 2.2220067844932228\n",
            "13 \t [3.43776527 0.04155322]\t 5.278627262773176\t 0.47045559247114155\t 2.3153076066382696\t 2.299879601341776\n",
            "14 \t [0.09465198 0.58514818]\t 13.41901284314261\t 0.47045559247114155\t 2.5419588941453886\t 2.5419588941453886\n",
            "15 \t [-0.68267787  2.44914876]\t 46.7889512106129\t 0.47045559247114155\t 2.3657714131426393\t 2.3700805564498646\n",
            "16 \t [1.46027289 0.27365905]\t 2.4285770750802165\t 0.47045559247114155\t 2.4047255062085497\t 2.4277518021124433\n",
            "17 \t [-1.11343152 -0.03531676]\t 32.316673896109634\t 0.47045559247114155\t 2.7022557222287786\t 2.702255867965611\n",
            "18 \t [1.4014254  0.27531812]\t 2.715864446215241\t 0.47045559247114155\t 2.673868298731129\t 2.725959583611118\n",
            "19 \t [-0.50047637 -0.35635446]\t 21.877506170063675\t 0.47045559247114155\t 2.2582369258795465\t 2.2582369258795465\n",
            "20 \t [1.8196276  0.56164509]\t 2.7738812306516496\t 0.47045559247114155\t 2.3292748178574127\t 2.3292748178574127\n"
          ]
        }
      ],
      "source": [
        "### EXACT GP EI GRADIENTS\n",
        "\n",
        "np.random.seed(run_num_8)\n",
        "surrogate_exact_8 = dGaussianProcess(cov_func, optimize=opt)\n",
        "\n",
        "exact_8 = dGPGO(surrogate_exact_8, Acquisition_grad(util), objfunc, param)\n",
        "exact_8.run(init_evals=n_init, max_iter=iters)\n"
      ]
    },
    {
      "cell_type": "code",
      "execution_count": 42,
      "metadata": {
        "id": "vonm9jyuIv4t",
        "colab": {
          "base_uri": "https://localhost:8080/"
        },
        "outputId": "2b42c6be-98f2-4b22-992d-70d9d02ce2c2"
      },
      "outputs": [
        {
          "output_type": "stream",
          "name": "stdout",
          "text": [
            "Evaluation \t Proposed point \t  Current eval. \t  Best eval. \t        Exact EI: StdDev. x \t Approx EI: StdDev. x \n",
            "init\t [-4.40663262  0.01687133]\t 127.7531900635415\t 22.479204656276803\t    \t    \n",
            "init\t [-0.03804036 -3.29553424]\t 22.479204656276803\t 22.479204656276803\t    \t    \n",
            "init\t [-3.22100023 -2.53297192]\t 3783.0538402600087\t 22.479204656276803\t    \t    \n",
            "init\t [-0.73342638 -2.26708948]\t 157.51337782244087\t 22.479204656276803\t    \t    \n",
            "init\t [-3.74346314 -1.39051224]\t 380.7730677650304\t 22.479204656276803\t    \t    \n",
            "1  \t [2.73365793 4.35023323]\t 53339.37070055468\t 22.479204656276803\t 2.64688375429922\t 2.6863173383564107\n",
            "2  \t [ 3.51004975 -1.83705246]\t 696.4360705785421\t 22.479204656276803\t 2.652718621486046\t 2.9430526450439918\n",
            "3  \t [-1.95598389  3.25419272]\t 4227.873593975707\t 22.479204656276803\t 2.490359194831831\t 2.7818056827914255\n",
            "\u001b[1m\u001b[92m4\u001b[0m\t \u001b[1m\u001b[92m[0.86980917 0.66073387]\u001b[0m\t \u001b[1m\u001b[92m8.573527323702875\u001b[0m\t \u001b[1m\u001b[92m8.573527323702875\u001b[0m\t \u001b[1m\u001b[92m2.7394515165022186\u001b[0m\t \u001b[1m\u001b[92m2.8479549374672226\u001b[0m\n",
            "5  \t [3.42507379 0.95219299]\t 10.163949442881325\t 8.573527323702875\t 2.5332026912402967\t 2.9674775372519564\n",
            "6  \t [-0.43545299  0.0036874 ]\t 20.317763752073244\t 8.573527323702875\t 2.5092012391192253\t 2.4181784917700813\n",
            "7  \t [ 1.46118287 -4.05610584]\t 9932.968834533214\t 8.573527323702875\t 2.4104694445955817\t 2.8258511094817345\n",
            "8  \t [-2.13834735  0.34104028]\t 47.4880125442716\t 8.573527323702875\t 2.5797638944179297\t 2.8164451547232146\n",
            "\u001b[1m\u001b[92m9\u001b[0m\t \u001b[1m\u001b[92m[2.07514948 0.59230213]\u001b[0m\t \u001b[1m\u001b[92m2.2052856045412215\u001b[0m\t \u001b[1m\u001b[92m2.2052856045412215\u001b[0m\t \u001b[1m\u001b[92m2.7892567332286897\u001b[0m\t \u001b[1m\u001b[92m2.9837594459627725\u001b[0m\n",
            "10 \t [4.5       1.9590413]\t 1280.7589872312992\t 2.2052856045412215\t 2.3660222112938767\t 2.2843575087306602\n",
            "11 \t [-0.84293585 -3.38945265]\t 1387.541355143323\t 2.2052856045412215\t 2.67272149793497\t 2.899714489065967\n",
            "12 \t [-4.5 -4.5]\t 181853.61328125\t 2.2052856045412215\t 2.6213658955210257\t 2.7093614334631058\n",
            "13 \t [-0.34939302 -0.51587672]\t 19.5361802300718\t 2.2052856045412215\t 1.9880817381091151\t 1.9924279710488446\n",
            "14 \t [ 0.1798362  -1.54956627]\t 10.498921812910929\t 2.2052856045412215\t 2.3007884096641544\t 2.3254751291807567\n",
            "15 \t [ 0.02659705 -1.36948366]\t 13.634088692964038\t 2.2052856045412215\t 2.4190379788137806\t 2.4202568894456995\n",
            "\u001b[1m\u001b[92m16\u001b[0m\t \u001b[1m\u001b[92m[2.55750935 0.50938316]\u001b[0m\t \u001b[1m\u001b[92m0.35138890527889544\u001b[0m\t \u001b[1m\u001b[92m0.35138890527889544\u001b[0m\t \u001b[1m\u001b[92m2.627320411039476\u001b[0m\t \u001b[1m\u001b[92m2.6289410384780143\u001b[0m\n",
            "17 \t [0.9599789  0.14890642]\t 4.968831209620454\t 0.35138890527889544\t 2.3465040995535205\t 2.3465040170688347\n",
            "18 \t [2.39601458 0.56059572]\t 0.9923314334323221\t 0.35138890527889544\t 2.499313207478464\t 2.504972972498725\n",
            "19 \t [ 0.22313044 -0.29276427]\t 11.39604620408699\t 0.35138890527889544\t 2.5438732319571473\t 2.5438732319571473\n",
            "20 \t [ 0.80341134 -0.61857391]\t 5.777935673537694\t 0.35138890527889544\t 2.725656975824694\t 2.725656975824694\n"
          ]
        }
      ],
      "source": [
        "### EXACT GP EI GRADIENTS\n",
        "\n",
        "np.random.seed(run_num_9)\n",
        "surrogate_exact_9 = dGaussianProcess(cov_func, optimize=opt)\n",
        "\n",
        "exact_9 = dGPGO(surrogate_exact_9, Acquisition_grad(util), objfunc, param)\n",
        "exact_9.run(init_evals=n_init, max_iter=iters)\n"
      ]
    },
    {
      "cell_type": "code",
      "execution_count": 43,
      "metadata": {
        "id": "6amuYlUdIv7r",
        "colab": {
          "base_uri": "https://localhost:8080/"
        },
        "outputId": "016749bf-cf70-4b28-98b6-89728cbb34aa"
      },
      "outputs": [
        {
          "output_type": "stream",
          "name": "stdout",
          "text": [
            "Evaluation \t Proposed point \t  Current eval. \t  Best eval. \t        Exact EI: StdDev. x \t Approx EI: StdDev. x \n",
            "init\t [ 2.44188579 -4.31323246]\t 40500.708995062356\t 15.229523981513257\t    \t    \n",
            "init\t [1.20283411 2.23923494]\t 281.8768699287936\t 15.229523981513257\t    \t    \n",
            "init\t [-0.01343689 -2.47683019]\t 15.229523981513257\t 15.229523981513257\t    \t    \n",
            "init\t [-2.71743422  2.34477641]\t 985.5637470908332\t 15.229523981513257\t    \t    \n",
            "init\t [-2.97800247 -3.70494167]\t 26177.1461164703\t 15.229523981513257\t    \t    \n",
            "1  \t [4.5 4.5]\t 174813.36328125\t 15.229523981513257\t 2.852629608744508\t 2.9841811721914824\n",
            "\u001b[1m\u001b[92m2\u001b[0m\t \u001b[1m\u001b[92m[ 0.01131507 -1.54520536]\u001b[0m\t \u001b[1m\u001b[92m13.912704377077258\u001b[0m\t \u001b[1m\u001b[92m13.912704377077258\u001b[0m\t \u001b[1m\u001b[92m2.2232875401763565\u001b[0m\t \u001b[1m\u001b[92m2.503076914007926\u001b[0m\n",
            "\u001b[1m\u001b[92m3\u001b[0m\t \u001b[1m\u001b[92m[ 3.49845019 -0.02375826]\u001b[0m\t \u001b[1m\u001b[92m6.6496206326291585\u001b[0m\t \u001b[1m\u001b[92m6.6496206326291585\u001b[0m\t \u001b[1m\u001b[92m2.1858971128060998\u001b[0m\t \u001b[1m\u001b[92m3.0080877673980573\u001b[0m\n",
            "4  \t [-0.85490887  4.5       ]\t 5742.946736473693\t 6.6496206326291585\t 2.7867979032625105\t 3.187455801829355\n",
            "5  \t [-4.5        -0.01811788]\t 133.29357958281327\t 6.6496206326291585\t 2.763601879526052\t 2.763523807555675\n",
            "\u001b[1m\u001b[92m6\u001b[0m\t \u001b[1m\u001b[92m[2.60026757 0.00607349]\u001b[0m\t \u001b[1m\u001b[92m1.2993176675175877\u001b[0m\t \u001b[1m\u001b[92m1.2993176675175877\u001b[0m\t \u001b[1m\u001b[92m2.664117279461925\u001b[0m\t \u001b[1m\u001b[92m2.729627748274252\u001b[0m\n",
            "7  \t [-0.16905251 -1.21200523]\t 17.802918082026686\t 1.2993176675175877\t 2.561032479978094\t 2.67156575031892\n",
            "8  \t [1.34014636 0.01571398]\t 2.5120275573231794\t 1.2993176675175877\t 2.497782550223044\t 2.497782550223044\n",
            "9  \t [1.71975555 0.56562342]\t 3.2140925370513385\t 1.2993176675175877\t 2.799361468501308\t 2.799361468501308\n",
            "\u001b[1m\u001b[92m10\u001b[0m\t \u001b[1m\u001b[92m[ 2.43140439 -0.04525256]\u001b[0m\t \u001b[1m\u001b[92m1.1530979045658902\u001b[0m\t \u001b[1m\u001b[92m1.1530979045658902\u001b[0m\t \u001b[1m\u001b[92m2.7040134539148317\u001b[0m\t \u001b[1m\u001b[92m2.687734259311598\u001b[0m\n",
            "11 \t [ 2.58291634 -0.04792039]\t 1.5647688235765649\t 1.1530979045658902\t 2.336218795982769\t 2.3230807381989567\n",
            "12 \t [ 3.57028693 -1.14052158]\t 87.73955942511631\t 1.1530979045658902\t 2.7658258722094997\t 2.7658258722094997\n",
            "13 \t [ 0.39725589 -0.51168314]\t 9.366495230128253\t 1.1530979045658902\t 2.6469940738353155\t 2.6572775880500497\n",
            "\u001b[1m\u001b[92m14\u001b[0m\t \u001b[1m\u001b[92m[ 2.01584149 -0.01312307]\u001b[0m\t \u001b[1m\u001b[92m0.7201458713428086\u001b[0m\t \u001b[1m\u001b[92m0.7201458713428086\u001b[0m\t \u001b[1m\u001b[92m2.5106521797297394\u001b[0m\t \u001b[1m\u001b[92m2.5114441595278243\u001b[0m\n",
            "15 \t [-0.04180618 -0.57910515]\t 14.795941728429622\t 0.7201458713428086\t 2.6527832074759012\t 2.6527832074759012\n",
            "16 \t [ 4.5        -0.15170357]\t 21.74400921325822\t 0.7201458713428086\t 2.722446812834771\t 2.72244871317375\n",
            "17 \t [1.81055612 0.47777775]\t 2.058585005766181\t 0.7201458713428086\t 2.5619290036584816\t 2.5619290036584816\n",
            "18 \t [1.78700162 0.02519833]\t 0.9762592201435878\t 0.7201458713428086\t 2.4258429291360173\t 2.4349387534030686\n",
            "19 \t [-0.0946695  -1.39061395]\t 16.498855392193924\t 0.7201458713428086\t 2.225165985263401\t 2.2271194413577855\n",
            "20 \t [-0.13556438 -2.20445338]\t 24.471690148926058\t 0.7201458713428086\t 2.8461829251676027\t 2.8461829251676027\n"
          ]
        }
      ],
      "source": [
        "### EXACT GP EI GRADIENTS\n",
        "\n",
        "np.random.seed(run_num_10)\n",
        "surrogate_exact_10 = dGaussianProcess(cov_func, optimize=opt)\n",
        "\n",
        "exact_10 = dGPGO(surrogate_exact_10, Acquisition_grad(util), objfunc, param)\n",
        "exact_10.run(init_evals=n_init, max_iter=iters)\n"
      ]
    },
    {
      "cell_type": "code",
      "execution_count": 44,
      "metadata": {
        "id": "VwbLIP9cIv-F",
        "colab": {
          "base_uri": "https://localhost:8080/"
        },
        "outputId": "98fd28a0-5ebd-4fc9-d109-09e0c754750b"
      },
      "outputs": [
        {
          "output_type": "stream",
          "name": "stdout",
          "text": [
            "Evaluation \t Proposed point \t  Current eval. \t  Best eval. \t        Exact EI: StdDev. x \t Approx EI: StdDev. x \n",
            "init\t [-2.8775728  -4.32472283]\t 59421.14819100274\t 2.8907294990196846\t    \t    \n",
            "init\t [-0.33103326  2.02440536]\t 2.8907294990196846\t 2.8907294990196846\t    \t    \n",
            "init\t [-0.71816756 -0.13115612]\t 25.271447350027046\t 2.8907294990196846\t    \t    \n",
            "init\t [-4.38497267 -0.11365553]\t 133.2515796886641\t 2.8907294990196846\t    \t    \n",
            "init\t [3.97625987 3.1571558 ]\t 16859.81677190551\t 2.8907294990196846\t    \t    \n",
            "1  \t [ 3.52189019 -3.07285372]\t 11814.475045489096\t 2.8907294990196846\t 2.584225467242587\t 3.581427687772543\n",
            "2  \t [-0.96655529  3.89581054]\t 3001.425371745558\t 2.8907294990196846\t 2.1315853347546727\t 2.870736480116854\n",
            "3  \t [1.3356093 1.1907064]\t 23.5245829965602\t 2.8907294990196846\t 2.7525759000087127\t 2.9879327042108965\n",
            "4  \t [-2.96288867 -1.80818793]\t 650.2698831293418\t 2.8907294990196846\t 2.3342962501296167\t 2.3342962501296167\n",
            "5  \t [0.02531388 1.26759289]\t 14.431321083337945\t 2.8907294990196846\t 2.3314936489320615\t 2.51192234241461\n",
            "6  \t [-0.20062862  1.29985205]\t 12.220395888116908\t 2.8907294990196846\t 2.494363775940978\t 2.5071690669072773\n",
            "7  \t [-1.19229642  1.09301137]\t 11.110922581325042\t 2.8907294990196846\t 2.7501420612093193\t 2.9111288864378717\n",
            "8  \t [-0.41520975  1.32438272]\t 9.924318844040018\t 2.8907294990196846\t 2.4531357513927947\t 2.4531819962783747\n",
            "9  \t [-1.3286      0.45803471]\t 30.45549481223425\t 2.8907294990196846\t 2.68800962695376\t 2.6880099980257413\n",
            "10 \t [-3.99257041  2.30814827]\t 2044.095623751964\t 2.8907294990196846\t 2.4546458267875773\t 2.5026472431065194\n",
            "11 \t [ 0.27894611 -1.77641624]\t 9.268441745388209\t 2.8907294990196846\t 2.7587857909897378\t 2.752237446302706\n",
            "12 \t [ 0.20962774 -1.42207847]\t 10.342569836201406\t 2.8907294990196846\t 2.647556186917696\t 2.6480846224675707\n",
            "\u001b[1m\u001b[92m13\u001b[0m\t \u001b[1m\u001b[92m[ 1.69836526 -0.0501154 ]\u001b[0m\t \u001b[1m\u001b[92m1.2476415577490638\u001b[0m\t \u001b[1m\u001b[92m1.2476415577490638\u001b[0m\t \u001b[1m\u001b[92m2.5502168897985347\u001b[0m\t \u001b[1m\u001b[92m2.5499326007932073\u001b[0m\n",
            "14 \t [ 1.54433957 -0.0410064 ]\t 1.6808174410082573\t 1.2476415577490638\t 2.6839035087181693\t 2.686554713715839\n",
            "15 \t [ 0.02420108 -0.84465616]\t 13.83791364305034\t 1.2476415577490638\t 2.559376315280148\t 2.559376503616139\n",
            "16 \t [0.47181833 1.38571958]\t 21.652688450531087\t 1.2476415577490638\t 2.7565142000778704\t 2.756829446402053\n",
            "17 \t [-0.13340453 -0.50668575]\t 16.116760763888237\t 1.2476415577490638\t 2.103179743923149\t 2.103179743923149\n",
            "\u001b[1m\u001b[92m18\u001b[0m\t \u001b[1m\u001b[92m[ 1.71849511 -0.0162175 ]\u001b[0m\t \u001b[1m\u001b[92m1.1654115504001399\u001b[0m\t \u001b[1m\u001b[92m1.1654115504001399\u001b[0m\t \u001b[1m\u001b[92m2.502254869686998\u001b[0m\t \u001b[1m\u001b[92m2.5005630246222075\u001b[0m\n",
            "\u001b[1m\u001b[92m19\u001b[0m\t \u001b[1m\u001b[92m[ 1.72938111 -0.01402709]\u001b[0m\t \u001b[1m\u001b[92m1.1378559820415566\u001b[0m\t \u001b[1m\u001b[92m1.1378559820415566\u001b[0m\t \u001b[1m\u001b[92m2.373501205116857\u001b[0m\t \u001b[1m\u001b[92m2.369661299851217\u001b[0m\n",
            "20 \t [ 0.54154167 -0.97161686]\t 7.631637103702845\t 1.1378559820415566\t 2.5855088090369254\t 2.5855089470225328\n"
          ]
        }
      ],
      "source": [
        "### EXACT GP EI GRADIENTS\n",
        "\n",
        "np.random.seed(run_num_11)\n",
        "surrogate_exact_11 = dGaussianProcess(cov_func, optimize=opt)\n",
        "\n",
        "exact_11 = dGPGO(surrogate_exact_11, Acquisition_grad(util), objfunc, param)\n",
        "exact_11.run(init_evals=n_init, max_iter=iters)\n"
      ]
    },
    {
      "cell_type": "code",
      "execution_count": 45,
      "metadata": {
        "id": "MlUNFjc-JTBY",
        "colab": {
          "base_uri": "https://localhost:8080/"
        },
        "outputId": "d0ddf2cd-d2d6-4df6-c156-4c1b93198077"
      },
      "outputs": [
        {
          "output_type": "stream",
          "name": "stdout",
          "text": [
            "Evaluation \t Proposed point \t  Current eval. \t  Best eval. \t        Exact EI: StdDev. x \t Approx EI: StdDev. x \n",
            "init\t [-3.11253442  2.16044727]\t 746.3412720881302\t 48.45196617039589\t    \t    \n",
            "init\t [-2.13016486  0.30365454]\t 48.45196617039589\t 48.45196617039589\t    \t    \n",
            "init\t [-4.36882534  3.76872307]\t 54651.235607336355\t 48.45196617039589\t    \t    \n",
            "init\t [ 3.60643369 -4.19920715]\t 76007.68460600567\t 48.45196617039589\t    \t    \n",
            "init\t [ 4.11254403 -3.26511611]\t 22941.17826205435\t 48.45196617039589\t    \t    \n",
            "\u001b[1m\u001b[92m1\u001b[0m\t \u001b[1m\u001b[92m[-2.42439456  1.3891593 ]\u001b[0m\t \u001b[1m\u001b[92m2.4116527244190453\u001b[0m\t \u001b[1m\u001b[92m2.4116527244190453\u001b[0m\t \u001b[1m\u001b[92m3.589361992630576\u001b[0m\t \u001b[1m\u001b[92m3.2920389933369476\u001b[0m\n",
            "2  \t [0.50571793 2.79507553]\t 211.47950375436187\t 2.4116527244190453\t 3.2424704202634085\t 3.0479098737669648\n",
            "3  \t [-4.5 -4.5]\t 181853.61328125\t 2.4116527244190453\t 3.321270051792682\t 3.04694794080571\n",
            "4  \t [-2.41267629  0.83109538]\t 25.957779070031876\t 2.4116527244190453\t 2.476782925743765\t 2.5711784172721392\n",
            "5  \t [-3.14594382  0.05332993]\t 82.37203094643553\t 2.4116527244190453\t 2.43480350115353\t 2.669047077353941\n",
            "6  \t [-2.47721564  1.45952123]\t 7.191132408432939\t 2.4116527244190453\t 2.8997669625856486\t 2.856904031389884\n",
            "7  \t [4.5 4.5]\t 174813.36328125\t 2.4116527244190453\t 2.9008106751052143\t 2.717096905941442\n",
            "\u001b[1m\u001b[92m8\u001b[0m\t \u001b[1m\u001b[92m[-2.23870886  1.27018409]\u001b[0m\t \u001b[1m\u001b[92m1.6462982193166698\u001b[0m\t \u001b[1m\u001b[92m1.6462982193166698\u001b[0m\t \u001b[1m\u001b[92m2.6727651915118313\u001b[0m\t \u001b[1m\u001b[92m2.6951611813116854\u001b[0m\n",
            "9  \t [-1.8263596   1.27862001]\t 2.5729738666651363\t 1.6462982193166698\t 2.454968931459439\t 2.395786609289696\n",
            "10 \t [-0.8692832  -0.58566609]\t 29.704737519864647\t 1.6462982193166698\t 2.4759693217990217\t 2.4799781288543135\n",
            "\u001b[1m\u001b[92m11\u001b[0m\t \u001b[1m\u001b[92m[2.04020579 0.14523701]\u001b[0m\t \u001b[1m\u001b[92m0.47274015376742745\u001b[0m\t \u001b[1m\u001b[92m0.47274015376742745\u001b[0m\t \u001b[1m\u001b[92m2.564100779843135\u001b[0m\t \u001b[1m\u001b[92m2.558263634800946\u001b[0m\n",
            "12 \t [-2.80179738  1.33864408]\t 1.9796613955889952\t 0.47274015376742745\t 2.3369006427461785\t 2.2800233211986205\n",
            "\u001b[1m\u001b[92m13\u001b[0m\t \u001b[1m\u001b[92m[2.54086857 0.15735554]\u001b[0m\t \u001b[1m\u001b[92m0.47174884804805656\u001b[0m\t \u001b[1m\u001b[92m0.47174884804805656\u001b[0m\t \u001b[1m\u001b[92m2.4882699558585943\u001b[0m\t \u001b[1m\u001b[92m2.4926933759578813\u001b[0m\n",
            "14 \t [-2.13105013  1.54237379]\t 9.975459647780683\t 0.47174884804805656\t 2.517546472736119\t 2.5278164329010715\n",
            "\u001b[1m\u001b[92m15\u001b[0m\t \u001b[1m\u001b[92m[2.06624238 0.17156105]\u001b[0m\t \u001b[1m\u001b[92m0.4286355112373025\u001b[0m\t \u001b[1m\u001b[92m0.4286355112373025\u001b[0m\t \u001b[1m\u001b[92m2.7519461745298517\u001b[0m\t \u001b[1m\u001b[92m2.751354268977497\u001b[0m\n",
            "16 \t [ 0.68964066 -1.61410312]\t 12.292576187564155\t 0.4286355112373025\t 2.647419982695006\t 2.647419982695006\n",
            "17 \t [1.86351094 0.08574254]\t 0.783312792012569\t 0.4286355112373025\t 2.2980065529840763\t 2.2997342571179864\n",
            "18 \t [0.74006027 0.00850425]\t 6.4201927354467525\t 0.4286355112373025\t 2.7379912833398996\t 2.7480479517351455\n",
            "19 \t [-2.69354638  1.17572805]\t 3.4280448792682954\t 0.4286355112373025\t 2.507394944630789\t 2.5656222388395684\n",
            "20 \t [1.93126824 0.16356255]\t 0.6435689606835335\t 0.4286355112373025\t 2.354021637778025\t 2.373857773892363\n"
          ]
        }
      ],
      "source": [
        "### EXACT GP EI GRADIENTS\n",
        "\n",
        "np.random.seed(run_num_12)\n",
        "surrogate_exact_12 = dGaussianProcess(cov_func, optimize=opt)\n",
        "\n",
        "exact_12 = dGPGO(surrogate_exact_12, Acquisition_grad(util), objfunc, param)\n",
        "exact_12.run(init_evals=n_init, max_iter=iters)\n"
      ]
    },
    {
      "cell_type": "code",
      "execution_count": 46,
      "metadata": {
        "id": "9BsKdU9eJTFL",
        "colab": {
          "base_uri": "https://localhost:8080/"
        },
        "outputId": "a6c85813-fa8b-49a0-c8cf-09655c40e9d5"
      },
      "outputs": [
        {
          "output_type": "stream",
          "name": "stdout",
          "text": [
            "Evaluation \t Proposed point \t  Current eval. \t  Best eval. \t        Exact EI: StdDev. x \t Approx EI: StdDev. x \n",
            "init\t [ 2.4993217  -2.36212902]\t 1312.0597023727128\t 25.917758071459016\t    \t    \n",
            "init\t [2.91850679 4.19174278]\t 48757.43948599124\t 25.917758071459016\t    \t    \n",
            "init\t [ 4.25341003 -0.41895677]\t 25.917758071459016\t 25.917758071459016\t    \t    \n",
            "init\t [0.98138216 2.47973863]\t 337.8750512678324\t 25.917758071459016\t    \t    \n",
            "init\t [1.2745201  1.99816407]\t 177.1374160884886\t 25.917758071459016\t    \t    \n",
            "\u001b[1m\u001b[92m1\u001b[0m\t \u001b[1m\u001b[92m[0.8770991  0.76682029]\u001b[0m\t \u001b[1m\u001b[92m9.839351928900173\u001b[0m\t \u001b[1m\u001b[92m9.839351928900173\u001b[0m\t \u001b[1m\u001b[92m2.8080795265765164\u001b[0m\t \u001b[1m\u001b[92m2.9508472266437065\u001b[0m\n",
            "2  \t [-3.51625583 -3.70571814]\t 36387.21686967412\t 9.839351928900173\t 2.843415969536305\t 2.97539584651637\n",
            "3  \t [-3.95052684  2.47322367]\t 3170.4696436569743\t 9.839351928900173\t 2.7058637586087118\t 2.9734117496867594\n",
            "4  \t [-0.32447944 -1.3526273 ]\t 23.12768659231346\t 9.839351928900173\t 2.70134354571031\t 2.694624410993935\n",
            "\u001b[1m\u001b[92m5\u001b[0m\t \u001b[1m\u001b[92m[3.47375088 0.46543694]\u001b[0m\t \u001b[1m\u001b[92m0.5979607607141969\u001b[0m\t \u001b[1m\u001b[92m0.5979607607141969\u001b[0m\t \u001b[1m\u001b[92m2.916559427355009\u001b[0m\t \u001b[1m\u001b[92m3.273845998483393\u001b[0m\n",
            "6  \t [-0.4445298   1.44591019]\t 7.788706098568834\t 0.5979607607141969\t 2.410822249178027\t 2.403168930654727\n",
            "7  \t [-0.82696995  3.26254923]\t 671.3137324865152\t 0.5979607607141969\t 2.664052445980065\t 2.7916756818033974\n",
            "\u001b[1m\u001b[92m8\u001b[0m\t \u001b[1m\u001b[92m[4.5        0.66098356]\u001b[0m\t \u001b[1m\u001b[92m0.412455531676897\u001b[0m\t \u001b[1m\u001b[92m0.412455531676897\u001b[0m\t \u001b[1m\u001b[92m2.560854413102889\u001b[0m\t \u001b[1m\u001b[92m2.564903341061826\u001b[0m\n",
            "9  \t [0.23826269 0.41619545]\t 11.845701463980337\t 0.412455531676897\t 2.5603097302654483\t 2.5518776215999948\n",
            "\u001b[1m\u001b[92m10\u001b[0m\t \u001b[1m\u001b[92m[2.84622724 0.47826027]\u001b[0m\t \u001b[1m\u001b[92m0.011352056848495828\u001b[0m\t \u001b[1m\u001b[92m0.011352056848495828\u001b[0m\t \u001b[1m\u001b[92m2.4612421679443766\u001b[0m\t \u001b[1m\u001b[92m2.518931043466462\u001b[0m\n",
            "11 \t [0.57137814 0.92876835]\t 13.152043865506\t 0.011352056848495828\t 2.7034079730393303\t 2.7031191324865262\n",
            "12 \t [ 4.49205925 -0.06848636]\t 19.31214300485541\t 0.011352056848495828\t 2.561421741530154\t 2.5614212185751293\n",
            "13 \t [-1.67910893  0.83943435]\t 21.63369475339629\t 0.011352056848495828\t 2.681770225109882\t 2.681770225109882\n",
            "14 \t [-0.45135421  0.54164929]\t 18.54065210645489\t 0.011352056848495828\t 2.2011387372647744\t 2.226950228415124\n",
            "15 \t [2.37801891 0.50559884]\t 0.6427362537193204\t 0.011352056848495828\t 2.641295837743365\t 2.6501500686653725\n",
            "16 \t [ 0.11356065 -4.04355791]\t 41.77010454855477\t 0.011352056848495828\t 2.407495405626578\t 2.427464891545709\n",
            "17 \t [-0.11266367 -3.80735533]\t 84.90514272100607\t 0.011352056848495828\t 3.0206645693569825\t 3.0206645693569825\n",
            "18 \t [1.59821118 0.66177779]\t 4.967777719695597\t 0.011352056848495828\t 2.1941916645966164\t 2.254175686888517\n",
            "19 \t [-0.51098582  1.23781006]\t 10.508333975356788\t 0.011352056848495828\t 2.680941248730716\t 2.680941248730716\n",
            "20 \t [4.5        0.79516925]\t 0.838963664138847\t 0.011352056848495828\t 2.940952684779948\t 2.9406177682372046\n"
          ]
        }
      ],
      "source": [
        "### EXACT GP EI GRADIENTS\n",
        "\n",
        "np.random.seed(run_num_13)\n",
        "surrogate_exact_13 = dGaussianProcess(cov_func, optimize=opt)\n",
        "\n",
        "exact_13 = dGPGO(surrogate_exact_13, Acquisition_grad(util), objfunc, param)\n",
        "exact_13.run(init_evals=n_init, max_iter=iters)\n"
      ]
    },
    {
      "cell_type": "code",
      "execution_count": 47,
      "metadata": {
        "id": "k6GjFBr1JTJf",
        "colab": {
          "base_uri": "https://localhost:8080/"
        },
        "outputId": "3b781712-f35d-4562-ed85-d2242d31dc21"
      },
      "outputs": [
        {
          "output_type": "stream",
          "name": "stdout",
          "text": [
            "Evaluation \t Proposed point \t  Current eval. \t  Best eval. \t        Exact EI: StdDev. x \t Approx EI: StdDev. x \n",
            "init\t [0.12549009 2.45848547]\t 30.19066754742359\t 11.367015527968295\t    \t    \n",
            "init\t [ 3.33384917 -4.42757746]\t 88548.3950659154\t 11.367015527968295\t    \t    \n",
            "init\t [-1.71237667  4.11843365]\t 13933.414320383567\t 11.367015527968295\t    \t    \n",
            "init\t [ 0.11805041 -1.63544018]\t 11.367015527968295\t 11.367015527968295\t    \t    \n",
            "init\t [ 0.35279944 -2.50870552]\t 27.90050047415725\t 11.367015527968295\t    \t    \n",
            "1  \t [1.53232195 1.11653614]\t 20.128017475337565\t 11.367015527968295\t 3.1354143656237343\t 2.9139784909838857\n",
            "2  \t [-4.5        -0.35286124]\t 149.51029819246335\t 11.367015527968295\t 3.5352211046623223\t 3.532873867661183\n",
            "3  \t [4.5 4.5]\t 174813.36328125\t 11.367015527968295\t 3.3169378911160687\t 3.0548779884838835\n",
            "4  \t [-3.44638717 -4.5       ]\t 107005.32186520095\t 11.367015527968295\t 2.999224408006605\t 2.9329923661258004\n",
            "5  \t [ 4.19389567 -0.6362805 ]\t 35.83422151565863\t 11.367015527968295\t 2.527699763960648\t 2.597695029332404\n",
            "6  \t [-1.43885572  0.27645901]\t 35.53420190649709\t 11.367015527968295\t 2.394605171249494\t 2.3417726893999466\n",
            "\u001b[1m\u001b[92m7\u001b[0m\t \u001b[1m\u001b[92m[ 1.650312   -0.73725679]\u001b[0m\t \u001b[1m\u001b[92m4.2070653579307375\u001b[0m\t \u001b[1m\u001b[92m4.2070653579307375\u001b[0m\t \u001b[1m\u001b[92m2.2847684923565366\u001b[0m\t \u001b[1m\u001b[92m2.555831276641127\u001b[0m\n",
            "8  \t [-4.35474381  2.05059749]\t 1081.0123007206903\t 4.2070653579307375\t 2.6157886189221102\t 2.6124326659179795\n",
            "9  \t [0.81430705 1.77801577]\t 61.436585483527146\t 4.2070653579307375\t 2.7026812668444\t 2.6497005503205555\n",
            "10 \t [ 0.55117474 -0.43181141]\t 7.869677048846631\t 4.2070653579307375\t 2.454425458714151\t 2.383443747603077\n",
            "\u001b[1m\u001b[92m11\u001b[0m\t \u001b[1m\u001b[92m[ 2.16333337 -0.42090076]\u001b[0m\t \u001b[1m\u001b[92m2.7881406649653147\u001b[0m\t \u001b[1m\u001b[92m2.7881406649653147\u001b[0m\t \u001b[1m\u001b[92m2.6430228729273666\u001b[0m\t \u001b[1m\u001b[92m2.603383307787566\u001b[0m\n",
            "12 \t [ 2.39411072 -0.68424185]\t 7.653821093716801\t 2.7881406649653147\t 2.6117819976893397\t 2.622713567733719\n",
            "\u001b[1m\u001b[92m13\u001b[0m\t \u001b[1m\u001b[92m[3.18481753 0.63994561]\u001b[0m\t \u001b[1m\u001b[92m0.33686051355081487\u001b[0m\t \u001b[1m\u001b[92m0.33686051355081487\u001b[0m\t \u001b[1m\u001b[92m2.5765470382641857\u001b[0m\t \u001b[1m\u001b[92m2.546520629986375\u001b[0m\n",
            "14 \t [-1.3896674  -1.27470872]\t 71.14832506373662\t 0.33686051355081487\t 2.5338554699984557\t 2.5918156618125283\n",
            "15 \t [0.98232597 2.71122009]\t 532.4546003165312\t 0.33686051355081487\t 2.5395653131866354\t 2.5395653131866354\n",
            "16 \t [4.5        1.54199673]\t 300.7835047958456\t 0.33686051355081487\t 2.7026988130544525\t 2.8098670049541563\n",
            "17 \t [ 2.88962046 -0.04311648]\t 2.765251962745013\t 0.33686051355081487\t 2.7370635278144646\t 2.7227117080319454\n",
            "\u001b[1m\u001b[92m18\u001b[0m\t \u001b[1m\u001b[92m[2.63855106 0.27409546]\u001b[0m\t \u001b[1m\u001b[92m0.21038954405827473\u001b[0m\t \u001b[1m\u001b[92m0.21038954405827473\u001b[0m\t \u001b[1m\u001b[92m2.3345225574853274\u001b[0m\t \u001b[1m\u001b[92m2.29494469763241\u001b[0m\n",
            "19 \t [-0.19193948  1.28603578]\t 12.403577669339136\t 0.21038954405827473\t 2.5475524957223334\t 2.544737117341192\n",
            "20 \t [1.22949699 0.29740406]\t 3.718649544558805\t 0.21038954405827473\t 2.3949297645957506\t 2.402268283426489\n"
          ]
        }
      ],
      "source": [
        "### EXACT GP EI GRADIENTS\n",
        "\n",
        "np.random.seed(run_num_14)\n",
        "surrogate_exact_14 = dGaussianProcess(cov_func, optimize=opt)\n",
        "\n",
        "exact_14 = dGPGO(surrogate_exact_14, Acquisition_grad(util), objfunc, param)\n",
        "exact_14.run(init_evals=n_init, max_iter=iters)\n"
      ]
    },
    {
      "cell_type": "code",
      "execution_count": 48,
      "metadata": {
        "id": "dPS8WB3aJTN6",
        "colab": {
          "base_uri": "https://localhost:8080/"
        },
        "outputId": "1ad068a8-cab4-45cf-a606-f5e199d5d045"
      },
      "outputs": [
        {
          "output_type": "stream",
          "name": "stdout",
          "text": [
            "Evaluation \t Proposed point \t  Current eval. \t  Best eval. \t        Exact EI: StdDev. x \t Approx EI: StdDev. x \n",
            "init\t [ 3.13935928 -2.88993668]\t 6575.875821208801\t 47.082686538130915\t    \t    \n",
            "init\t [-4.01073107 -1.24615399]\t 317.710908287677\t 47.082686538130915\t    \t    \n",
            "init\t [-2.02139164  0.27000202]\t 47.082686538130915\t 47.082686538130915\t    \t    \n",
            "init\t [-1.74672976 -1.75973077]\t 234.8792968363759\t 47.082686538130915\t    \t    \n",
            "init\t [-3.49432851 -2.25090888]\t 2421.671033348018\t 47.082686538130915\t    \t    \n",
            "1  \t [-4.5         0.10054922]\t 126.42590989521966\t 47.082686538130915\t 3.464168165021561\t 3.3472642220822464\n",
            "2  \t [4.5 4.5]\t 174813.36328125\t 47.082686538130915\t 3.232417006219691\t 3.295470778783559\n",
            "3  \t [-0.84090611  4.43221619]\t 5047.417996823176\t 47.082686538130915\t 2.9146583286887657\t 3.241664294083984\n",
            "\u001b[1m\u001b[92m4\u001b[0m\t \u001b[1m\u001b[92m[1.08910464 1.14711382]\u001b[0m\t \u001b[1m\u001b[92m19.596684922345403\u001b[0m\t \u001b[1m\u001b[92m19.596684922345403\u001b[0m\t \u001b[1m\u001b[92m2.6541153283831918\u001b[0m\t \u001b[1m\u001b[92m3.023848248108136\u001b[0m\n",
            "5  \t [-4.49028497  3.28499764]\t 24939.53941196081\t 19.596684922345403\t 2.931712696882915\t 3.1107364319827626\n",
            "6  \t [-0.77603639 -4.48699848]\t 5595.023941442723\t 19.596684922345403\t 2.7968347489801775\t 2.830924412609748\n",
            "\u001b[1m\u001b[92m7\u001b[0m\t \u001b[1m\u001b[92m[-0.45415868  0.37986448]\u001b[0m\t \u001b[1m\u001b[92m19.465115432934144\u001b[0m\t \u001b[1m\u001b[92m19.465115432934144\u001b[0m\t \u001b[1m\u001b[92m2.490148545166567\u001b[0m\t \u001b[1m\u001b[92m2.4582463976452966\u001b[0m\n",
            "8  \t [-0.46586424 -0.32752741]\t 21.249678103406936\t 19.465115432934144\t 2.933895103619645\t 2.923477128068941\n",
            "\u001b[1m\u001b[92m9\u001b[0m\t \u001b[1m\u001b[92m[0.85754684 0.93296441]\u001b[0m\t \u001b[1m\u001b[92m12.726186892668448\u001b[0m\t \u001b[1m\u001b[92m12.726186892668448\u001b[0m\t \u001b[1m\u001b[92m2.28884435036062\u001b[0m\t \u001b[1m\u001b[92m2.250093321668787\u001b[0m\n",
            "\u001b[1m\u001b[92m10\u001b[0m\t \u001b[1m\u001b[92m[1.27365475 0.8318496 ]\u001b[0m\t \u001b[1m\u001b[92m9.449421932574898\u001b[0m\t \u001b[1m\u001b[92m9.449421932574898\u001b[0m\t \u001b[1m\u001b[92m2.5505204542704347\u001b[0m\t \u001b[1m\u001b[92m2.5469974621859075\u001b[0m\n",
            "\u001b[1m\u001b[92m11\u001b[0m\t \u001b[1m\u001b[92m[1.73034174 0.66182583]\u001b[0m\t \u001b[1m\u001b[92m4.418680962089445\u001b[0m\t \u001b[1m\u001b[92m4.418680962089445\u001b[0m\t \u001b[1m\u001b[92m2.347892234032257\u001b[0m\t \u001b[1m\u001b[92m2.361777514537225\u001b[0m\n",
            "12 \t [0.67474932 0.57390973]\t 9.018379421086443\t 4.418680962089445\t 2.421056687927835\t 2.4392844197571213\n",
            "13 \t [-2.68531136 -1.59484909]\t 337.84938983843085\t 4.418680962089445\t 2.890653847434994\t 2.890653847434994\n",
            "14 \t [0.28442511 0.13039291]\t 10.932923407235943\t 4.418680962089445\t 2.664569121826917\t 2.6817853251606873\n",
            "15 \t [-0.71952747 -0.09525343]\t 25.204628386860776\t 4.418680962089445\t 2.160839891991861\t 2.160839891991861\n",
            "16 \t [1.77674692 1.13001768]\t 22.157231600959268\t 4.418680962089445\t 2.7497905488955388\t 2.7497905488955388\n",
            "17 \t [ 0.91416271 -0.98944625]\t 5.759194129218956\t 4.418680962089445\t 2.344701023000334\t 2.344701023000334\n",
            "18 \t [0.39003595 0.14826846]\t 9.855927446909199\t 4.418680962089445\t 2.6322706364674504\t 2.6358877037159423\n",
            "19 \t [ 0.4998036  -0.25978359]\t 8.419205975468264\t 4.418680962089445\t 2.6902818624088343\t 2.6909441746865057\n",
            "20 \t [-0.26451347 -0.11840778]\t 17.88098669898988\t 4.418680962089445\t 2.410399118356535\t 2.410399118356535\n"
          ]
        }
      ],
      "source": [
        "### EXACT GP EI GRADIENTS\n",
        "\n",
        "np.random.seed(run_num_15)\n",
        "surrogate_exact_15 = dGaussianProcess(cov_func, optimize=opt)\n",
        "\n",
        "exact_15 = dGPGO(surrogate_exact_15, Acquisition_grad(util), objfunc, param)\n",
        "exact_15.run(init_evals=n_init, max_iter=iters)\n"
      ]
    },
    {
      "cell_type": "code",
      "execution_count": 49,
      "metadata": {
        "id": "lu8ki9XIQPPN",
        "colab": {
          "base_uri": "https://localhost:8080/"
        },
        "outputId": "242d1af5-e365-453d-e434-fd3d8696cd04"
      },
      "outputs": [
        {
          "output_type": "stream",
          "name": "stdout",
          "text": [
            "Evaluation \t Proposed point \t  Current eval. \t  Best eval. \t        Exact EI: StdDev. x \t Approx EI: StdDev. x \n",
            "init\t [-2.49038029  0.20847007]\t 59.442894178636664\t 59.442894178636664\t    \t    \n",
            "init\t [ 0.45631311 -4.08958245]\t 932.9374489641153\t 59.442894178636664\t    \t    \n",
            "init\t [-1.25344048 -2.49227152]\t 594.9494957841517\t 59.442894178636664\t    \t    \n",
            "init\t [ 1.69853546 -3.02641717]\t 2418.389440420566\t 59.442894178636664\t    \t    \n",
            "init\t [-3.8670762   3.96909774]\t 58473.38862292419\t 59.442894178636664\t    \t    \n",
            "1  \t [4.5 4.5]\t 174813.36328125\t 59.442894178636664\t 3.4014287407934454\t 3.2429704140657143\n",
            "2  \t [-4.5 -4.5]\t 181853.61328125\t 59.442894178636664\t 3.0687685261663407\t 3.123794128365909\n",
            "\u001b[1m\u001b[92m3\u001b[0m\t \u001b[1m\u001b[92m[0.30512323 1.6014472 ]\u001b[0m\t \u001b[1m\u001b[92m23.039695773705887\u001b[0m\t \u001b[1m\u001b[92m23.039695773705887\u001b[0m\t \u001b[1m\u001b[92m2.47805360648156\u001b[0m\t \u001b[1m\u001b[92m2.6125487664831697\u001b[0m\n",
            "\u001b[1m\u001b[92m4\u001b[0m\t \u001b[1m\u001b[92m[ 3.85542302 -0.12260549]\u001b[0m\t \u001b[1m\u001b[92m11.924391349515925\u001b[0m\t \u001b[1m\u001b[92m11.924391349515925\u001b[0m\t \u001b[1m\u001b[92m2.5248086578514455\u001b[0m\t \u001b[1m\u001b[92m2.800980336935951\u001b[0m\n",
            "5  \t [-0.00709002  0.55924446]\t 14.265206432059344\t 11.924391349515925\t 2.619399217493748\t 2.636510723228913\n",
            "6  \t [-4.26406683 -0.16525302]\t 130.4985991154209\t 11.924391349515925\t 2.9326204635068076\t 2.940498389931198\n",
            "\u001b[1m\u001b[92m7\u001b[0m\t \u001b[1m\u001b[92m[1.89290548 0.56437251]\u001b[0m\t \u001b[1m\u001b[92m2.527763697948722\u001b[0m\t \u001b[1m\u001b[92m2.527763697948722\u001b[0m\t \u001b[1m\u001b[92m2.4322851005783406\u001b[0m\t \u001b[1m\u001b[92m2.4118225332303136\u001b[0m\n",
            "\u001b[1m\u001b[92m8\u001b[0m\t \u001b[1m\u001b[92m[1.93005783 0.54845805]\u001b[0m\t \u001b[1m\u001b[92m2.2328412165038105\u001b[0m\t \u001b[1m\u001b[92m2.2328412165038105\u001b[0m\t \u001b[1m\u001b[92m2.348733249999465\u001b[0m\t \u001b[1m\u001b[92m2.347811523203759\u001b[0m\n",
            "9  \t [ 2.83248723 -0.38933245]\t 6.094334111486105\t 2.2328412165038105\t 2.711470537485038\t 2.711470537485038\n",
            "10 \t [ 4.2415522  -0.35421458]\t 23.399300596257756\t 2.2328412165038105\t 2.657162875422468\t 2.668932437115737\n",
            "11 \t [0.01012787 0.54576447]\t 14.112939263470498\t 2.2328412165038105\t 2.7979851371147024\t 2.7979851371147024\n",
            "12 \t [ 4.47678521 -3.19040158]\t 23853.291807642563\t 2.2328412165038105\t 2.7759457581168894\t 2.7759457581168894\n",
            "\u001b[1m\u001b[92m13\u001b[0m\t \u001b[1m\u001b[92m[2.08981131 0.56973838]\u001b[0m\t \u001b[1m\u001b[92m1.9136438821777295\u001b[0m\t \u001b[1m\u001b[92m1.9136438821777295\u001b[0m\t \u001b[1m\u001b[92m2.2235210160225227\u001b[0m\t \u001b[1m\u001b[92m2.3270807166842724\u001b[0m\n",
            "14 \t [ 1.16933064 -0.01011255]\t 3.388736261406387\t 1.9136438821777295\t 2.26948535319875\t 2.26948535319875\n",
            "\u001b[1m\u001b[92m15\u001b[0m\t \u001b[1m\u001b[92m[2.42674159 0.37796122]\u001b[0m\t \u001b[1m\u001b[92m0.13739667539810144\u001b[0m\t \u001b[1m\u001b[92m0.13739667539810144\u001b[0m\t \u001b[1m\u001b[92m2.438415057044425\u001b[0m\t \u001b[1m\u001b[92m2.4891541912925628\u001b[0m\n",
            "16 \t [1.70701788 0.53179089]\t 2.9231100976674242\t 0.13739667539810144\t 2.4132874598468383\t 2.472578806083578\n",
            "17 \t [2.94614573 0.28517185]\t 0.6395838132747578\t 0.13739667539810144\t 2.7809157599945427\t 2.8072606345620206\n",
            "18 \t [0.92435301 0.53320312]\t 7.053325672160741\t 0.13739667539810144\t 2.4917271321559573\t 2.571492617712856\n",
            "19 \t [2.00416283 0.85575949]\t 7.92502528900585\t 0.13739667539810144\t 2.3110577551343856\t 2.311058205135455\n",
            "20 \t [3.46555932 0.2894091 ]\t 2.355127848091604\t 0.13739667539810144\t 2.763976599655129\t 2.782442534107355\n"
          ]
        }
      ],
      "source": [
        "### EXACT GP EI GRADIENTS\n",
        "\n",
        "np.random.seed(run_num_16)\n",
        "surrogate_exact_16 = dGaussianProcess(cov_func, optimize=opt)\n",
        "\n",
        "exact_16 = dGPGO(surrogate_exact_16, Acquisition_grad(util), objfunc, param)\n",
        "exact_16.run(init_evals=n_init, max_iter=iters)\n"
      ]
    },
    {
      "cell_type": "code",
      "execution_count": 50,
      "metadata": {
        "id": "yU2SflSsJTUs",
        "colab": {
          "base_uri": "https://localhost:8080/"
        },
        "outputId": "60a4a621-b695-46c5-c5ee-1fb653ade9b1"
      },
      "outputs": [
        {
          "output_type": "stream",
          "name": "stdout",
          "text": [
            "Evaluation \t Proposed point \t  Current eval. \t  Best eval. \t        Exact EI: StdDev. x \t Approx EI: StdDev. x \n",
            "init\t [-1.84801498  0.2752808 ]\t 43.39160388622011\t 6.891623366037299\t    \t    \n",
            "init\t [-2.77631292 -3.88889678]\t 30048.58268621874\t 6.891623366037299\t    \t    \n",
            "init\t [2.58286914 1.4070017 ]\t 81.72560623465196\t 6.891623366037299\t    \t    \n",
            "init\t [1.23768806 0.68042604]\t 6.891623366037299\t 6.891623366037299\t    \t    \n",
            "init\t [-4.14843375 -1.27967756]\t 359.4343933746243\t 6.891623366037299\t    \t    \n",
            "1  \t [ 4.35943059 -3.9087003 ]\t 73234.01298703798\t 6.891623366037299\t 3.0947508298399953\t 3.715311624596405\n",
            "2  \t [-1.00950125  4.5       ]\t 8106.221956210172\t 6.891623366037299\t 2.93661223423652\t 2.7491671533789157\n",
            "3  \t [4.5 4.5]\t 174813.36328125\t 6.891623366037299\t 2.71500781577224\t 2.611614814634855\n",
            "\u001b[1m\u001b[92m4\u001b[0m\t \u001b[1m\u001b[92m[2.66614346 0.31249071]\u001b[0m\t \u001b[1m\u001b[92m0.13677664415860527\u001b[0m\t \u001b[1m\u001b[92m0.13677664415860527\u001b[0m\t \u001b[1m\u001b[92m2.799224993781342\u001b[0m\t \u001b[1m\u001b[92m2.812271505951318\u001b[0m\n",
            "5  \t [2.95002527 0.22333079]\t 1.017033055726581\t 0.13677664415860527\t 2.4118334265978487\t 2.417751381391852\n",
            "\u001b[1m\u001b[92m6\u001b[0m\t \u001b[1m\u001b[92m[2.56222662 0.36423921]\u001b[0m\t \u001b[1m\u001b[92m0.05221473978510092\u001b[0m\t \u001b[1m\u001b[92m0.05221473978510092\u001b[0m\t \u001b[1m\u001b[92m2.508081132642512\u001b[0m\t \u001b[1m\u001b[92m2.542909335617914\u001b[0m\n",
            "7  \t [ 0.45148766 -0.56068583]\t 8.782495142704317\t 0.05221473978510092\t 2.2736021387580636\t 2.355567696433843\n",
            "8  \t [2.45293253 4.01434402]\t 26860.44714850753\t 0.05221473978510092\t 2.718938322108052\t 2.718938322108052\n",
            "9  \t [0.26490662 0.48534131]\t 11.765720056245847\t 0.05221473978510092\t 2.8936336701117114\t 2.8936334515786646\n",
            "10 \t [2.35161825 0.65591663]\t 2.183524179100816\t 0.05221473978510092\t 2.3115978925584\t 2.314191876344586\n",
            "11 \t [-4.5         2.06936117]\t 1240.4113684512479\t 0.05221473978510092\t 2.676487281604205\t 2.714990074426211\n",
            "12 \t [ 0.0386648  -1.82908244]\t 12.93389020483113\t 0.05221473978510092\t 2.455597065720619\t 2.455597065720619\n",
            "13 \t [2.67845322 0.58129324]\t 0.5938178011489947\t 0.05221473978510092\t 2.24503077086889\t 2.241722623806272\n",
            "14 \t [ 0.3060043  -1.14313934]\t 9.672995263785596\t 0.05221473978510092\t 2.4073433650582303\t 2.4327143419614057\n",
            "15 \t [2.58303374 0.59998156]\t 0.933837055487092\t 0.05221473978510092\t 2.4586689441833953\t 2.456276294442917\n",
            "16 \t [ 3.04391712e-04 -3.98718885e-01]\t 14.198996721441471\t 0.05221473978510092\t 2.2156765770323346\t 2.2156765770323346\n",
            "17 \t [2.34107482 0.65079276]\t 2.139986132267607\t 0.05221473978510092\t 2.326747859003199\t 2.330655383747525\n",
            "18 \t [ 0.25796276 -0.44874158]\t 10.939426295709087\t 0.05221473978510092\t 2.587812846752715\t 2.587812846752715\n",
            "19 \t [2.64231993 0.58934948]\t 0.7223780594933129\t 0.05221473978510092\t 2.412325010461231\t 2.4094747474622635\n",
            "20 \t [1.69369925 0.71674422]\t 5.493321475202191\t 0.05221473978510092\t 2.642770905936105\t 2.6586488321444355\n"
          ]
        }
      ],
      "source": [
        "### EXACT GP EI GRADIENTS\n",
        "\n",
        "np.random.seed(run_num_17)\n",
        "surrogate_exact_17 = dGaussianProcess(cov_func, optimize=opt)\n",
        "\n",
        "exact_17 = dGPGO(surrogate_exact_17, Acquisition_grad(util), objfunc, param)\n",
        "exact_17.run(init_evals=n_init, max_iter=iters)\n"
      ]
    },
    {
      "cell_type": "code",
      "execution_count": 51,
      "metadata": {
        "id": "eVEhyZ9BQS-1",
        "colab": {
          "base_uri": "https://localhost:8080/"
        },
        "outputId": "0e06950f-8d1c-407a-d142-2ccec49ea24f"
      },
      "outputs": [
        {
          "output_type": "stream",
          "name": "stdout",
          "text": [
            "Evaluation \t Proposed point \t  Current eval. \t  Best eval. \t        Exact EI: StdDev. x \t Approx EI: StdDev. x \n",
            "init\t [1.35336818 0.04908036]\t 2.472652645883837\t 2.472652645883837\t    \t    \n",
            "init\t [ 3.40741324 -2.86343797]\t 7379.017314590048\t 2.472652645883837\t    \t    \n",
            "init\t [3.17009762 2.25122657]\t 1528.3101419799655\t 2.472652645883837\t    \t    \n",
            "init\t [1.49491501 4.39105903]\t 17224.913295283764\t 2.472652645883837\t    \t    \n",
            "init\t [-2.1872842  -4.24524667]\t 31030.348242396165\t 2.472652645883837\t    \t    \n",
            "1  \t [-4.5         1.90816143]\t 682.2592767691515\t 2.472652645883837\t 2.712691567770591\t 2.840882296652881\n",
            "2  \t [-0.21418539  0.24550652]\t 16.812658613780467\t 2.472652645883837\t 2.3418108976519236\t 2.340009109019954\n",
            "3  \t [ 0.56201494 -0.03993594]\t 7.946294400570069\t 2.472652645883837\t 2.383217340119772\t 2.38403206543492\n",
            "4  \t [-1.68876831  0.36036805]\t 38.42471800614733\t 2.472652645883837\t 2.7282572393299116\t 2.749265882994611\n",
            "5  \t [-0.05787514  0.37788318]\t 14.828593431975197\t 2.472652645883837\t 2.4240321911661384\t 2.4240321911661384\n",
            "6  \t [-1.54797203  1.79524183]\t 24.371667031491736\t 2.472652645883837\t 2.586644948466975\t 2.586644948466975\n",
            "7  \t [ 0.84835982 -0.25705211]\t 5.4183166160476866\t 2.472652645883837\t 2.6758959981818475\t 2.6747819789201177\n",
            "8  \t [ 0.61044489 -0.01776586]\t 7.519322624743921\t 2.472652645883837\t 2.5121750872499624\t 2.514600939528747\n",
            "9  \t [ 0.67506352 -0.08020697]\t 6.889136791166997\t 2.472652645883837\t 2.582169263269754\t 2.582604138995334\n",
            "\u001b[1m\u001b[92m10\u001b[0m\t \u001b[1m\u001b[92m[-0.97734338  1.54078079]\u001b[0m\t \u001b[1m\u001b[92m1.7673828816160209\u001b[0m\t \u001b[1m\u001b[92m1.7673828816160209\u001b[0m\t \u001b[1m\u001b[92m2.8034519024733697\u001b[0m\t \u001b[1m\u001b[92m2.8034519024733697\u001b[0m\n",
            "11 \t [-0.81905668  1.11888128]\t 11.41923652349771\t 1.7673828816160209\t 2.6685295659499157\t 2.6685295659499157\n",
            "12 \t [-0.54364369  0.07017653]\t 21.850606399934932\t 1.7673828816160209\t 2.3904600590412497\t 2.3904600590412497\n",
            "13 \t [-2.52435379  4.36444522]\t 43832.67318019135\t 1.7673828816160209\t 2.5597274873875393\t 2.5697124665445337\n",
            "14 \t [-0.93697614  0.88969843]\t 16.972456482442418\t 1.7673828816160209\t 2.314178829327499\t 2.3276833749178056\n",
            "15 \t [0.3327509 0.0225011]\t 10.310918931451553\t 1.7673828816160209\t 2.490383782311085\t 2.490383782311085\n",
            "16 \t [-0.82363042  1.02685051]\t 13.584470031544898\t 1.7673828816160209\t 2.297432965861198\t 2.301709124480046\n",
            "17 \t [ 0.64978178 -0.09330809]\t 7.101687768991765\t 1.7673828816160209\t 3.025321388124247\t 3.026411540075177\n",
            "18 \t [-1.69473704  1.04137054]\t 12.271575939607185\t 1.7673828816160209\t 2.671657622524954\t 2.6696518326432765\n",
            "19 \t [-1.21282174  1.11418258]\t 10.351375044238642\t 1.7673828816160209\t 2.408592454947238\t 2.4067545769901098\n",
            "20 \t [ 0.7402317 -0.26196  ]\t 6.25792657440041\t 1.7673828816160209\t 2.612845478166892\t 2.612807141545162\n"
          ]
        }
      ],
      "source": [
        "### EXACT GP EI GRADIENTS\n",
        "\n",
        "np.random.seed(run_num_18)\n",
        "surrogate_exact_18 = dGaussianProcess(cov_func, optimize=opt)\n",
        "\n",
        "exact_18 = dGPGO(surrogate_exact_18, Acquisition_grad(util), objfunc, param)\n",
        "exact_18.run(init_evals=n_init, max_iter=iters)\n"
      ]
    },
    {
      "cell_type": "code",
      "execution_count": 52,
      "metadata": {
        "id": "B6gTz1ojQUxn",
        "colab": {
          "base_uri": "https://localhost:8080/"
        },
        "outputId": "2af5d3d5-a7cb-4132-8b66-43029b4b2613"
      },
      "outputs": [
        {
          "output_type": "stream",
          "name": "stdout",
          "text": [
            "Evaluation \t Proposed point \t  Current eval. \t  Best eval. \t        Exact EI: StdDev. x \t Approx EI: StdDev. x \n",
            "init\t [-3.62219758  2.35124745]\t 1879.409018573639\t 63.544086067314716\t    \t    \n",
            "init\t [-2.27755824 -3.25681481]\t 7496.243410303341\t 63.544086067314716\t    \t    \n",
            "init\t [-1.51698093 -3.75300391]\t 7497.407542620609\t 63.544086067314716\t    \t    \n",
            "init\t [1.54779373 2.75934418]\t 1302.4341957421634\t 63.544086067314716\t    \t    \n",
            "init\t [4.34467723 1.22094661]\t 63.544086067314716\t 63.544086067314716\t    \t    \n",
            "1  \t [ 4.07377978 -3.44761015]\t 30801.171664568574\t 63.544086067314716\t 3.1542285190750907\t 3.8834192733458757\n",
            "2  \t [4.5 4.5]\t 174813.36328125\t 63.544086067314716\t 3.0154669814072945\t 2.8631819875257642\n",
            "\u001b[1m\u001b[92m3\u001b[0m\t \u001b[1m\u001b[92m[ 1.04923617 -0.60142941]\u001b[0m\t \u001b[1m\u001b[92m4.345589095070272\u001b[0m\t \u001b[1m\u001b[92m4.345589095070272\u001b[0m\t \u001b[1m\u001b[92m2.218748121144455\u001b[0m\t \u001b[1m\u001b[92m2.2041605218353904\u001b[0m\n",
            "4  \t [-0.01122721 -0.06586462]\t 14.34868227602195\t 4.345589095070272\t 2.6338734618444426\t 2.6451052222942852\n",
            "\u001b[1m\u001b[92m5\u001b[0m\t \u001b[1m\u001b[92m[2.89370911 0.76065801]\u001b[0m\t \u001b[1m\u001b[92m2.723786225768037\u001b[0m\t \u001b[1m\u001b[92m2.723786225768037\u001b[0m\t \u001b[1m\u001b[92m2.3416010740592816\u001b[0m\t \u001b[1m\u001b[92m2.393360631051937\u001b[0m\n",
            "\u001b[1m\u001b[92m6\u001b[0m\t \u001b[1m\u001b[92m[3.10053721 0.68271601]\u001b[0m\t \u001b[1m\u001b[92m0.8813167234347634\u001b[0m\t \u001b[1m\u001b[92m0.8813167234347634\u001b[0m\t \u001b[1m\u001b[92m2.7446310184934415\u001b[0m\t \u001b[1m\u001b[92m2.785283357458854\u001b[0m\n",
            "7  \t [ 1.62124624 -0.20774117]\t 1.6765705280646688\t 0.8813167234347634\t 2.481612305395861\t 2.481612305395861\n",
            "\u001b[1m\u001b[92m8\u001b[0m\t \u001b[1m\u001b[92m[3.30932747 0.66935138]\u001b[0m\t \u001b[1m\u001b[92m0.438813421038209\u001b[0m\t \u001b[1m\u001b[92m0.438813421038209\u001b[0m\t \u001b[1m\u001b[92m2.4665478833529697\u001b[0m\t \u001b[1m\u001b[92m2.5118696537757046\u001b[0m\n",
            "9  \t [-0.21199875 -0.04263898]\t 17.070167594743076\t 0.438813421038209\t 2.589680308866174\t 2.589680308866174\n",
            "10 \t [-0.82582644 -0.67491925]\t 29.325823744357812\t 0.438813421038209\t 2.7609781185509257\t 2.7609781185509257\n",
            "11 \t [ 0.69704712 -0.46408839]\t 6.583574180492102\t 0.438813421038209\t 2.13421738037942\t 2.1383613861031106\n",
            "\u001b[1m\u001b[92m12\u001b[0m\t \u001b[1m\u001b[92m[3.79335197 0.61771223]\u001b[0m\t \u001b[1m\u001b[92m0.08690620335665056\u001b[0m\t \u001b[1m\u001b[92m0.08690620335665056\u001b[0m\t \u001b[1m\u001b[92m2.4881486298582125\u001b[0m\t \u001b[1m\u001b[92m2.511602473293458\u001b[0m\n",
            "13 \t [3.02838833 0.63004247]\t 0.4489905744653099\t 0.08690620335665056\t 2.5895582660984577\t 2.6421245111392166\n",
            "14 \t [2.1305891  0.02833699]\t 0.5843052675330623\t 0.08690620335665056\t 2.3469172973665278\t 2.3469172973665278\n",
            "15 \t [4.28193306 0.52959259]\t 1.9972738078276364\t 0.08690620335665056\t 2.578162480524012\t 2.588174481045394\n",
            "16 \t [-0.39763954 -0.24253334]\t 20.033717740805443\t 0.08690620335665056\t 2.344059314873277\t 2.344059314873277\n",
            "17 \t [ 0.14892618 -0.21857378]\t 12.306203792857321\t 0.08690620335665056\t 2.4601989739077137\t 2.4601989739077137\n",
            "18 \t [4.08237454 0.013588  ]\t 11.863985450050981\t 0.08690620335665056\t 2.5876901219760775\t 2.5876901219760775\n",
            "19 \t [-0.82822222  0.15066018]\t 26.12041561026293\t 0.08690620335665056\t 2.1726356846811377\t 2.1726356846811377\n",
            "20 \t [ 1.63258259 -0.31628422]\t 1.9157071045280532\t 0.08690620335665056\t 2.4461666193510987\t 2.4423548398818946\n"
          ]
        }
      ],
      "source": [
        "### EXACT GP EI GRADIENTS\n",
        "\n",
        "np.random.seed(run_num_19)\n",
        "surrogate_exact_19 = dGaussianProcess(cov_func, optimize=opt)\n",
        "\n",
        "exact_19 = dGPGO(surrogate_exact_19, Acquisition_grad(util), objfunc, param)\n",
        "exact_19.run(init_evals=n_init, max_iter=iters)\n"
      ]
    },
    {
      "cell_type": "code",
      "execution_count": 53,
      "metadata": {
        "id": "aw3xvSryIwDi",
        "colab": {
          "base_uri": "https://localhost:8080/"
        },
        "outputId": "9adfce17-e844-40c9-b6a0-1affcbdba407"
      },
      "outputs": [
        {
          "output_type": "stream",
          "name": "stdout",
          "text": [
            "Evaluation \t Proposed point \t  Current eval. \t  Best eval. \t        Exact EI: StdDev. x \t Approx EI: StdDev. x \n",
            "init\t [0.79317721 3.57942355]\t 1607.3829986954497\t 30.55204392634667\t    \t    \n",
            "init\t [3.52377657 2.8425373 ]\t 7209.150060592592\t 30.55204392634667\t    \t    \n",
            "init\t [-4.17699373  1.72581824]\t 253.68900136908488\t 30.55204392634667\t    \t    \n",
            "init\t [-1.09187152  0.16659851]\t 30.55204392634667\t 30.55204392634667\t    \t    \n",
            "init\t [ 1.42156319 -2.75534804]\t 963.9362838324588\t 30.55204392634667\t    \t    \n",
            "1  \t [-4.5 -4.5]\t 181853.61328125\t 30.55204392634667\t 2.4632297008421022\t 2.514003168639772\n",
            "2  \t [ 4.27466108 -1.09266217]\t 117.13091933195585\t 30.55204392634667\t 2.530637991728987\t 2.8022471762169947\n",
            "3  \t [-1.70805604 -0.80051458]\t 56.270182248559934\t 30.55204392634667\t 2.3799453496050353\t 3.0407100935115223\n",
            "4  \t [-2.55732664  3.6797256 ]\t 15859.560574602465\t 30.55204392634667\t 2.5393141907496695\t 2.727267215675866\n",
            "\u001b[1m\u001b[92m5\u001b[0m\t \u001b[1m\u001b[92m[0.41602025 0.21721859]\u001b[0m\t \u001b[1m\u001b[92m9.713405533272155\u001b[0m\t \u001b[1m\u001b[92m9.713405533272155\u001b[0m\t \u001b[1m\u001b[92m2.5370001382909204\u001b[0m\t \u001b[1m\u001b[92m2.5368509079620107\u001b[0m\n",
            "6  \t [ 3.64426552 -4.37676538]\t 98987.42794535059\t 9.713405533272155\t 2.923324060576606\t 2.9583753023731063\n",
            "\u001b[1m\u001b[92m7\u001b[0m\t \u001b[1m\u001b[92m[ 0.31355741 -1.85729999]\u001b[0m\t \u001b[1m\u001b[92m9.565220790401861\u001b[0m\t \u001b[1m\u001b[92m9.565220790401861\u001b[0m\t \u001b[1m\u001b[92m2.9499893277740044\u001b[0m\t \u001b[1m\u001b[92m2.950851599608368\u001b[0m\n",
            "8  \t [-0.04430479 -2.71350019]\t 19.278491965392213\t 9.565220790401861\t 2.729110539187194\t 2.713548905587746\n",
            "9  \t [ 1.03166457 -1.79390178]\t 41.5377037929815\t 9.565220790401861\t 2.5805900114378324\t 2.5805900114378324\n",
            "\u001b[1m\u001b[92m10\u001b[0m\t \u001b[1m\u001b[92m[ 1.18708544 -0.6734729 ]\u001b[0m\t \u001b[1m\u001b[92m3.9572878589472626\u001b[0m\t \u001b[1m\u001b[92m3.9572878589472626\u001b[0m\t \u001b[1m\u001b[92m2.5622945489388558\u001b[0m\t \u001b[1m\u001b[92m2.6132101263321155\u001b[0m\n",
            "11 \t [-4.04721545  0.17172824]\t 105.95511546933812\t 3.9572878589472626\t 2.7079285927588277\t 2.7261282777586575\n",
            "12 \t [ 0.57428886 -1.61598366]\t 10.222204073965791\t 3.9572878589472626\t 2.7339590567835117\t 2.716787299041128\n",
            "13 \t [-1.08014303  2.48027462]\t 174.21624767034155\t 3.9572878589472626\t 3.007032369470511\t 3.007032369470511\n",
            "14 \t [-0.52461224  1.54471636]\t 5.271806150339764\t 3.9572878589472626\t 2.3332730169932985\t 2.3605753225985273\n",
            "15 \t [ 0.0961     -1.07053986]\t 12.631411981391253\t 3.9572878589472626\t 2.2748507330307013\t 2.2111062264226873\n",
            "16 \t [-0.33335792  1.29890618]\t 11.008332945628801\t 3.9572878589472626\t 2.5125295559742806\t 2.5134262438376354\n",
            "17 \t [-0.47555055  1.32496054]\t 9.362786885222093\t 3.9572878589472626\t 2.4693576708182143\t 2.486852331216531\n",
            "18 \t [-0.6645994  -3.10403971]\t 566.7162997590179\t 3.9572878589472626\t 2.7012495483424517\t 2.691604282136574\n",
            "19 \t [ 0.06656791 -0.70760735]\t 13.261392813199347\t 3.9572878589472626\t 2.5311600728528956\t 2.5346638891628848\n",
            "20 \t [ 0.15013493 -0.84324325]\t 12.053032728060252\t 3.9572878589472626\t 2.219180776224558\t 2.1587361044064073\n"
          ]
        }
      ],
      "source": [
        "### EXACT GP EI GRADIENTS\n",
        "\n",
        "np.random.seed(run_num_20)\n",
        "surrogate_exact_20 = dGaussianProcess(cov_func, optimize=opt)\n",
        "\n",
        "exact_20 = dGPGO(surrogate_exact_20, Acquisition_grad(util), objfunc, param)\n",
        "exact_20.run(init_evals=n_init, max_iter=iters)\n"
      ]
    },
    {
      "cell_type": "code",
      "execution_count": 54,
      "metadata": {
        "id": "5c8szjivRPme",
        "colab": {
          "base_uri": "https://localhost:8080/"
        },
        "outputId": "a9c0a5e5-6073-4e5f-b02c-dc100b022d7c"
      },
      "outputs": [
        {
          "output_type": "execute_result",
          "data": {
            "text/plain": [
              "249.47461771965027"
            ]
          },
          "metadata": {},
          "execution_count": 54
        }
      ],
      "source": [
        "end_exact = time.time()\n",
        "end_exact\n",
        "\n",
        "time_exact = end_exact - start_exact\n",
        "time_exact\n"
      ]
    },
    {
      "cell_type": "code",
      "execution_count": 55,
      "metadata": {
        "id": "f6gCKnp6RR8c",
        "colab": {
          "base_uri": "https://localhost:8080/"
        },
        "outputId": "7c1f5ca2-e7c9-4958-bd72-775ddfecaf30"
      },
      "outputs": [
        {
          "output_type": "execute_result",
          "data": {
            "text/plain": [
              "(-0.04703681559288557, -1.321396349484615)"
            ]
          },
          "metadata": {},
          "execution_count": 55
        }
      ],
      "source": [
        "### Simple regret minimization: run number = 1\n",
        "\n",
        "approx_output_1 = np.append(np.min(-approx_1.GP.y[0:n_init]),-approx_1.GP.y[n_init:(n_init+iters)]) \n",
        "exact_output_1 = np.append(np.min(-exact_1.GP.y[0:n_init]),-exact_1.GP.y[n_init:(n_init+iters)]) \n",
        "\n",
        "regret_approx_1 = np.log(approx_output_1 - y_global_orig)\n",
        "regret_exact_1 = np.log(exact_output_1 - y_global_orig)\n",
        "\n",
        "simple_regret_approx_1 = min_max_array(regret_approx_1)\n",
        "simple_regret_exact_1 = min_max_array(regret_exact_1)\n",
        "\n",
        "min_simple_regret_approx_1 = min(simple_regret_approx_1)\n",
        "min_simple_regret_exact_1 = min(simple_regret_exact_1)\n",
        "\n",
        "min_simple_regret_approx_1, min_simple_regret_exact_1\n"
      ]
    },
    {
      "cell_type": "code",
      "execution_count": 56,
      "metadata": {
        "id": "94yBw5tqQxfk",
        "colab": {
          "base_uri": "https://localhost:8080/"
        },
        "outputId": "8a1fa9d0-677b-49c0-8e58-8348a0476a7b"
      },
      "outputs": [
        {
          "output_type": "execute_result",
          "data": {
            "text/plain": [
              "(1.229821122271779, 0.8040099598567838)"
            ]
          },
          "metadata": {},
          "execution_count": 56
        }
      ],
      "source": [
        "### Simple regret minimization: run number = 2\n",
        "\n",
        "approx_output_2 = np.append(np.min(-approx_2.GP.y[0:n_init]),-approx_2.GP.y[n_init:(n_init+iters)]) \n",
        "exact_output_2 = np.append(np.min(-exact_2.GP.y[0:n_init]),-exact_2.GP.y[n_init:(n_init+iters)]) \n",
        "\n",
        "regret_approx_2 = np.log(approx_output_2 - y_global_orig)\n",
        "regret_exact_2 = np.log(exact_output_2 - y_global_orig)\n",
        "\n",
        "simple_regret_approx_2 = min_max_array(regret_approx_2)\n",
        "simple_regret_exact_2 = min_max_array(regret_exact_2)\n",
        "\n",
        "min_simple_regret_approx_2 = min(simple_regret_approx_2)\n",
        "min_simple_regret_exact_2 = min(simple_regret_exact_2)\n",
        "\n",
        "min_simple_regret_approx_2, min_simple_regret_exact_2\n"
      ]
    },
    {
      "cell_type": "code",
      "execution_count": 57,
      "metadata": {
        "id": "Bu6SBWALQxfl",
        "colab": {
          "base_uri": "https://localhost:8080/"
        },
        "outputId": "0bca34ca-f53f-418b-8450-bdef0f7b93b3"
      },
      "outputs": [
        {
          "output_type": "execute_result",
          "data": {
            "text/plain": [
              "(0.12317941773827107, 0.060447131196057984)"
            ]
          },
          "metadata": {},
          "execution_count": 57
        }
      ],
      "source": [
        "### Simple regret minimization: run number = 3\n",
        "\n",
        "approx_output_3 = np.append(np.min(-approx_3.GP.y[0:n_init]),-approx_3.GP.y[n_init:(n_init+iters)]) \n",
        "exact_output_3 = np.append(np.min(-exact_3.GP.y[0:n_init]),-exact_3.GP.y[n_init:(n_init+iters)]) \n",
        "\n",
        "regret_approx_3 = np.log(approx_output_3 - y_global_orig)\n",
        "regret_exact_3 = np.log(exact_output_3 - y_global_orig)\n",
        "\n",
        "simple_regret_approx_3 = min_max_array(regret_approx_3)\n",
        "simple_regret_exact_3 = min_max_array(regret_exact_3)\n",
        "\n",
        "min_simple_regret_approx_3 = min(simple_regret_approx_3)\n",
        "min_simple_regret_exact_3 = min(simple_regret_exact_3)\n",
        "\n",
        "min_simple_regret_approx_3, min_simple_regret_exact_3"
      ]
    },
    {
      "cell_type": "code",
      "execution_count": 58,
      "metadata": {
        "id": "AZm0jgxkQxfm",
        "colab": {
          "base_uri": "https://localhost:8080/"
        },
        "outputId": "10f0022b-31d2-409c-d6cf-bab58782f451"
      },
      "outputs": [
        {
          "output_type": "execute_result",
          "data": {
            "text/plain": [
              "(-2.1266463442484316, -2.1266463442484316)"
            ]
          },
          "metadata": {},
          "execution_count": 58
        }
      ],
      "source": [
        "### Simple regret minimization: run number = 4\n",
        "\n",
        "approx_output_4 = np.append(np.min(-approx_4.GP.y[0:n_init]),-approx_4.GP.y[n_init:(n_init+iters)]) \n",
        "exact_output_4 = np.append(np.min(-exact_4.GP.y[0:n_init]),-exact_4.GP.y[n_init:(n_init+iters)]) \n",
        "\n",
        "regret_approx_4 = np.log(approx_output_4 - y_global_orig)\n",
        "regret_exact_4 = np.log(exact_output_4 - y_global_orig)\n",
        "\n",
        "simple_regret_approx_4 = min_max_array(regret_approx_4)\n",
        "simple_regret_exact_4 = min_max_array(regret_exact_4)\n",
        "\n",
        "min_simple_regret_approx_4 = min(simple_regret_approx_4)\n",
        "min_simple_regret_exact_4 = min(simple_regret_exact_4)\n",
        "\n",
        "min_simple_regret_approx_4, min_simple_regret_exact_4"
      ]
    },
    {
      "cell_type": "code",
      "execution_count": 59,
      "metadata": {
        "id": "NONPm8JIQxfn",
        "colab": {
          "base_uri": "https://localhost:8080/"
        },
        "outputId": "9e31f691-bc8c-4b84-c44b-3edb2aef6bcf"
      },
      "outputs": [
        {
          "output_type": "execute_result",
          "data": {
            "text/plain": [
              "(-1.1666865916873388, -1.5022078093359148)"
            ]
          },
          "metadata": {},
          "execution_count": 59
        }
      ],
      "source": [
        "### Simple regret minimization: run number = 5\n",
        "\n",
        "approx_output_5 = np.append(np.min(-approx_5.GP.y[0:n_init]),-approx_5.GP.y[n_init:(n_init+iters)]) \n",
        "exact_output_5 = np.append(np.min(-exact_5.GP.y[0:n_init]),-exact_5.GP.y[n_init:(n_init+iters)]) \n",
        "\n",
        "regret_approx_5 = np.log(approx_output_5 - y_global_orig)\n",
        "regret_exact_5 = np.log(exact_output_5 - y_global_orig)\n",
        "\n",
        "simple_regret_approx_5 = min_max_array(regret_approx_5)\n",
        "simple_regret_exact_5 = min_max_array(regret_exact_5)\n",
        "\n",
        "min_simple_regret_approx_5 = min(simple_regret_approx_5)\n",
        "min_simple_regret_exact_5 = min(simple_regret_exact_5)\n",
        "\n",
        "min_simple_regret_approx_5, min_simple_regret_exact_5"
      ]
    },
    {
      "cell_type": "code",
      "execution_count": 60,
      "metadata": {
        "id": "CJv3lPuSQxfp",
        "colab": {
          "base_uri": "https://localhost:8080/"
        },
        "outputId": "03d8a583-19ff-4d6d-d4bf-6c1b9355c3f9"
      },
      "outputs": [
        {
          "output_type": "execute_result",
          "data": {
            "text/plain": [
              "(0.05684211797121335, -0.9943494563209562)"
            ]
          },
          "metadata": {},
          "execution_count": 60
        }
      ],
      "source": [
        "### Simple regret minimization: run number = 6\n",
        "\n",
        "approx_output_6 = np.append(np.min(-approx_6.GP.y[0:n_init]),-approx_6.GP.y[n_init:(n_init+iters)]) \n",
        "exact_output_6 = np.append(np.min(-exact_6.GP.y[0:n_init]),-exact_6.GP.y[n_init:(n_init+iters)]) \n",
        "\n",
        "regret_approx_6 = np.log(approx_output_6 - y_global_orig)\n",
        "regret_exact_6 = np.log(exact_output_6 - y_global_orig)\n",
        "\n",
        "simple_regret_approx_6 = min_max_array(regret_approx_6)\n",
        "simple_regret_exact_6 = min_max_array(regret_exact_6)\n",
        "\n",
        "min_simple_regret_approx_6 = min(simple_regret_approx_6)\n",
        "min_simple_regret_exact_6 = min(simple_regret_exact_6)\n",
        "\n",
        "min_simple_regret_approx_6, min_simple_regret_exact_6"
      ]
    },
    {
      "cell_type": "code",
      "execution_count": 61,
      "metadata": {
        "id": "quR2ZyApQxfq",
        "colab": {
          "base_uri": "https://localhost:8080/"
        },
        "outputId": "56dd3ef3-9715-42d0-f54c-1c49342705d1"
      },
      "outputs": [
        {
          "output_type": "execute_result",
          "data": {
            "text/plain": [
              "(0.14657079029250603, 1.087784678899565)"
            ]
          },
          "metadata": {},
          "execution_count": 61
        }
      ],
      "source": [
        "### Simple regret minimization: run number = 7\n",
        "\n",
        "approx_output_7 = np.append(np.min(-approx_7.GP.y[0:n_init]),-approx_7.GP.y[n_init:(n_init+iters)]) \n",
        "exact_output_7 = np.append(np.min(-exact_7.GP.y[0:n_init]),-exact_7.GP.y[n_init:(n_init+iters)]) \n",
        "\n",
        "regret_approx_7 = np.log(approx_output_7 - y_global_orig)\n",
        "regret_exact_7 = np.log(exact_output_7 - y_global_orig)\n",
        "\n",
        "simple_regret_approx_7 = min_max_array(regret_approx_7)\n",
        "simple_regret_exact_7 = min_max_array(regret_exact_7)\n",
        "\n",
        "min_simple_regret_approx_7 = min(simple_regret_approx_7)\n",
        "min_simple_regret_exact_7 = min(simple_regret_exact_7)\n",
        "\n",
        "min_simple_regret_approx_7, min_simple_regret_exact_7"
      ]
    },
    {
      "cell_type": "code",
      "execution_count": 62,
      "metadata": {
        "id": "99wY5nK6Qxfr",
        "colab": {
          "base_uri": "https://localhost:8080/"
        },
        "outputId": "b2e53e95-5e74-4294-964d-4ab16fbad72b"
      },
      "outputs": [
        {
          "output_type": "execute_result",
          "data": {
            "text/plain": [
              "(0.44405107016636686, -0.7540537081068912)"
            ]
          },
          "metadata": {},
          "execution_count": 62
        }
      ],
      "source": [
        "### Simple regret minimization: run number = 8\n",
        "\n",
        "approx_output_8 = np.append(np.min(-approx_8.GP.y[0:n_init]),-approx_8.GP.y[n_init:(n_init+iters)]) \n",
        "exact_output_8 = np.append(np.min(-exact_8.GP.y[0:n_init]),-exact_8.GP.y[n_init:(n_init+iters)]) \n",
        "\n",
        "regret_approx_8 = np.log(approx_output_8 - y_global_orig)\n",
        "regret_exact_8 = np.log(exact_output_8 - y_global_orig)\n",
        "\n",
        "simple_regret_approx_8 = min_max_array(regret_approx_8)\n",
        "simple_regret_exact_8 = min_max_array(regret_exact_8)\n",
        "\n",
        "min_simple_regret_approx_8 = min(simple_regret_approx_8)\n",
        "min_simple_regret_exact_8 = min(simple_regret_exact_8)\n",
        "\n",
        "min_simple_regret_approx_8, min_simple_regret_exact_8"
      ]
    },
    {
      "cell_type": "code",
      "execution_count": 63,
      "metadata": {
        "id": "qt0P5t9qQxfs",
        "colab": {
          "base_uri": "https://localhost:8080/"
        },
        "outputId": "3ff0c176-4648-4e16-ab41-7e93995e09cd"
      },
      "outputs": [
        {
          "output_type": "execute_result",
          "data": {
            "text/plain": [
              "(-3.0759462632596346, -1.045861676639085)"
            ]
          },
          "metadata": {},
          "execution_count": 63
        }
      ],
      "source": [
        "### Simple regret minimization: run number = 9\n",
        "\n",
        "approx_output_9 = np.append(np.min(-approx_9.GP.y[0:n_init]),-approx_9.GP.y[n_init:(n_init+iters)]) \n",
        "exact_output_9 = np.append(np.min(-exact_9.GP.y[0:n_init]),-exact_9.GP.y[n_init:(n_init+iters)]) \n",
        "\n",
        "regret_approx_9 = np.log(approx_output_9 - y_global_orig)\n",
        "regret_exact_9 = np.log(exact_output_9 - y_global_orig)\n",
        "\n",
        "simple_regret_approx_9 = min_max_array(regret_approx_9)\n",
        "simple_regret_exact_9 = min_max_array(regret_exact_9)\n",
        "\n",
        "min_simple_regret_approx_9 = min(simple_regret_approx_9)\n",
        "min_simple_regret_exact_9 = min(simple_regret_exact_9)\n",
        "\n",
        "min_simple_regret_approx_9, min_simple_regret_exact_9"
      ]
    },
    {
      "cell_type": "code",
      "execution_count": 64,
      "metadata": {
        "id": "vx8to9stQxft",
        "colab": {
          "base_uri": "https://localhost:8080/"
        },
        "outputId": "184948d8-3f00-4077-ffde-22ff726400e6"
      },
      "outputs": [
        {
          "output_type": "execute_result",
          "data": {
            "text/plain": [
              "(-1.3643573037905479, -0.3283014884052254)"
            ]
          },
          "metadata": {},
          "execution_count": 64
        }
      ],
      "source": [
        "### Simple regret minimization: run number = 10\n",
        "\n",
        "approx_output_10 = np.append(np.min(-approx_10.GP.y[0:n_init]),-approx_10.GP.y[n_init:(n_init+iters)]) \n",
        "exact_output_10 = np.append(np.min(-exact_10.GP.y[0:n_init]),-exact_10.GP.y[n_init:(n_init+iters)]) \n",
        "\n",
        "regret_approx_10 = np.log(approx_output_10 - y_global_orig)\n",
        "regret_exact_10 = np.log(exact_output_10 - y_global_orig)\n",
        "\n",
        "simple_regret_approx_10 = min_max_array(regret_approx_10)\n",
        "simple_regret_exact_10 = min_max_array(regret_exact_10)\n",
        "\n",
        "min_simple_regret_approx_10 = min(simple_regret_approx_10)\n",
        "min_simple_regret_exact_10 = min(simple_regret_exact_10)\n",
        "\n",
        "min_simple_regret_approx_10, min_simple_regret_exact_10"
      ]
    },
    {
      "cell_type": "code",
      "execution_count": 65,
      "metadata": {
        "id": "d-FGzWyHQxfu",
        "colab": {
          "base_uri": "https://localhost:8080/"
        },
        "outputId": "94c6cfa2-ac08-46ac-9624-b6075fc835a6"
      },
      "outputs": [
        {
          "output_type": "execute_result",
          "data": {
            "text/plain": [
              "(-0.43317310474328835, 0.12914577412926617)"
            ]
          },
          "metadata": {},
          "execution_count": 65
        }
      ],
      "source": [
        "### Simple regret minimization: run number = 11\n",
        "\n",
        "approx_output_11 = np.append(np.min(-approx_11.GP.y[0:n_init]),-approx_11.GP.y[n_init:(n_init+iters)]) \n",
        "exact_output_11 = np.append(np.min(-exact_11.GP.y[0:n_init]),-exact_11.GP.y[n_init:(n_init+iters)]) \n",
        "\n",
        "regret_approx_11 = np.log(approx_output_11 - y_global_orig)\n",
        "regret_exact_11 = np.log(exact_output_11 - y_global_orig)\n",
        "\n",
        "simple_regret_approx_11 = min_max_array(regret_approx_11)\n",
        "simple_regret_exact_11 = min_max_array(regret_exact_11)\n",
        "\n",
        "min_simple_regret_approx_11 = min(simple_regret_approx_11)\n",
        "min_simple_regret_exact_11 = min(simple_regret_exact_11)\n",
        "\n",
        "min_simple_regret_approx_11, min_simple_regret_exact_11"
      ]
    },
    {
      "cell_type": "code",
      "execution_count": 66,
      "metadata": {
        "id": "SvtsssyjQxfv",
        "colab": {
          "base_uri": "https://localhost:8080/"
        },
        "outputId": "e99dd292-3e27-4757-b25f-08979502e8b8"
      },
      "outputs": [
        {
          "output_type": "execute_result",
          "data": {
            "text/plain": [
              "(1.0204984629390572, -0.8471483453447622)"
            ]
          },
          "metadata": {},
          "execution_count": 66
        }
      ],
      "source": [
        "### Simple regret minimization: run number = 12\n",
        "\n",
        "approx_output_12 = np.append(np.min(-approx_12.GP.y[0:n_init]),-approx_12.GP.y[n_init:(n_init+iters)]) \n",
        "exact_output_12 = np.append(np.min(-exact_12.GP.y[0:n_init]),-exact_12.GP.y[n_init:(n_init+iters)]) \n",
        "\n",
        "regret_approx_12 = np.log(approx_output_12 - y_global_orig)\n",
        "regret_exact_12 = np.log(exact_output_12 - y_global_orig)\n",
        "\n",
        "simple_regret_approx_12 = min_max_array(regret_approx_12)\n",
        "simple_regret_exact_12 = min_max_array(regret_exact_12)\n",
        "\n",
        "min_simple_regret_approx_12 = min(simple_regret_approx_12)\n",
        "min_simple_regret_exact_12 = min(simple_regret_exact_12)\n",
        "\n",
        "min_simple_regret_approx_12, min_simple_regret_exact_12"
      ]
    },
    {
      "cell_type": "code",
      "execution_count": 67,
      "metadata": {
        "id": "K6OiGcHkQxfw",
        "colab": {
          "base_uri": "https://localhost:8080/"
        },
        "outputId": "23907266-f7b6-4683-cadd-fd94cf4bceef"
      },
      "outputs": [
        {
          "output_type": "execute_result",
          "data": {
            "text/plain": [
              "(0.29106721511516764, -4.478356331341319)"
            ]
          },
          "metadata": {},
          "execution_count": 67
        }
      ],
      "source": [
        "### Simple regret minimization: run number = 13\n",
        "\n",
        "approx_output_13 = np.append(np.min(-approx_13.GP.y[0:n_init]),-approx_13.GP.y[n_init:(n_init+iters)]) \n",
        "exact_output_13 = np.append(np.min(-exact_13.GP.y[0:n_init]),-exact_13.GP.y[n_init:(n_init+iters)]) \n",
        "\n",
        "regret_approx_13 = np.log(approx_output_13 - y_global_orig)\n",
        "regret_exact_13 = np.log(exact_output_13 - y_global_orig)\n",
        "\n",
        "simple_regret_approx_13 = min_max_array(regret_approx_13)\n",
        "simple_regret_exact_13 = min_max_array(regret_exact_13)\n",
        "\n",
        "min_simple_regret_approx_13 = min(simple_regret_approx_13)\n",
        "min_simple_regret_exact_13 = min(simple_regret_exact_13)\n",
        "\n",
        "min_simple_regret_approx_13, min_simple_regret_exact_13"
      ]
    },
    {
      "cell_type": "code",
      "execution_count": 68,
      "metadata": {
        "id": "ogML73shQxfx",
        "colab": {
          "base_uri": "https://localhost:8080/"
        },
        "outputId": "46ada075-641e-4820-ae26-d8ec6a24ac4c"
      },
      "outputs": [
        {
          "output_type": "execute_result",
          "data": {
            "text/plain": [
              "(0.43594180066530913, -1.5587944948939658)"
            ]
          },
          "metadata": {},
          "execution_count": 68
        }
      ],
      "source": [
        "### Simple regret minimization: run number = 14\n",
        "\n",
        "approx_output_14 = np.append(np.min(-approx_14.GP.y[0:n_init]),-approx_14.GP.y[n_init:(n_init+iters)]) \n",
        "exact_output_14 = np.append(np.min(-exact_14.GP.y[0:n_init]),-exact_14.GP.y[n_init:(n_init+iters)]) \n",
        "\n",
        "regret_approx_14 = np.log(approx_output_14 - y_global_orig)\n",
        "regret_exact_14 = np.log(exact_output_14 - y_global_orig)\n",
        "\n",
        "simple_regret_approx_14 = min_max_array(regret_approx_14)\n",
        "simple_regret_exact_14 = min_max_array(regret_exact_14)\n",
        "\n",
        "min_simple_regret_approx_14 = min(simple_regret_approx_14)\n",
        "min_simple_regret_exact_14 = min(simple_regret_exact_14)\n",
        "\n",
        "min_simple_regret_approx_14, min_simple_regret_exact_14"
      ]
    },
    {
      "cell_type": "code",
      "execution_count": 69,
      "metadata": {
        "id": "9Eg7gFT9Qxfx",
        "colab": {
          "base_uri": "https://localhost:8080/"
        },
        "outputId": "df78cb5f-2e61-4620-bf5f-ae7c41b952b6"
      },
      "outputs": [
        {
          "output_type": "execute_result",
          "data": {
            "text/plain": [
              "(1.153385519842507, 1.4858412266854037)"
            ]
          },
          "metadata": {},
          "execution_count": 69
        }
      ],
      "source": [
        "### Simple regret minimization: run number = 15\n",
        "\n",
        "approx_output_15 = np.append(np.min(-approx_15.GP.y[0:n_init]),-approx_15.GP.y[n_init:(n_init+iters)]) \n",
        "exact_output_15 = np.append(np.min(-exact_15.GP.y[0:n_init]),-exact_15.GP.y[n_init:(n_init+iters)]) \n",
        "\n",
        "regret_approx_15 = np.log(approx_output_15 - y_global_orig)\n",
        "regret_exact_15 = np.log(exact_output_15 - y_global_orig)\n",
        "\n",
        "simple_regret_approx_15 = min_max_array(regret_approx_15)\n",
        "simple_regret_exact_15 = min_max_array(regret_exact_15)\n",
        "\n",
        "min_simple_regret_approx_15 = min(simple_regret_approx_15)\n",
        "min_simple_regret_exact_15 = min(simple_regret_exact_15)\n",
        "\n",
        "min_simple_regret_approx_15, min_simple_regret_exact_15"
      ]
    },
    {
      "cell_type": "code",
      "execution_count": 70,
      "metadata": {
        "id": "lIAC1U7ZQxfy",
        "colab": {
          "base_uri": "https://localhost:8080/"
        },
        "outputId": "e24732b3-dc16-4571-f62a-ef164bf8a9bc"
      },
      "outputs": [
        {
          "output_type": "execute_result",
          "data": {
            "text/plain": [
              "(-1.7231399758475932, -1.9848830960069965)"
            ]
          },
          "metadata": {},
          "execution_count": 70
        }
      ],
      "source": [
        "### Simple regret minimization: run number = 16\n",
        "\n",
        "approx_output_16 = np.append(np.min(-approx_16.GP.y[0:n_init]),-approx_16.GP.y[n_init:(n_init+iters)]) \n",
        "exact_output_16 = np.append(np.min(-exact_16.GP.y[0:n_init]),-exact_16.GP.y[n_init:(n_init+iters)]) \n",
        "\n",
        "regret_approx_16 = np.log(approx_output_16 - y_global_orig)\n",
        "regret_exact_16 = np.log(exact_output_16 - y_global_orig)\n",
        "\n",
        "simple_regret_approx_16 = min_max_array(regret_approx_16)\n",
        "simple_regret_exact_16 = min_max_array(regret_exact_16)\n",
        "\n",
        "min_simple_regret_approx_16 = min(simple_regret_approx_16)\n",
        "min_simple_regret_exact_16 = min(simple_regret_exact_16)\n",
        "\n",
        "min_simple_regret_approx_16, min_simple_regret_exact_16"
      ]
    },
    {
      "cell_type": "code",
      "execution_count": 71,
      "metadata": {
        "id": "bGott36OQxfz",
        "colab": {
          "base_uri": "https://localhost:8080/"
        },
        "outputId": "5411132a-5fa2-4c9b-c94c-f97602092537"
      },
      "outputs": [
        {
          "output_type": "execute_result",
          "data": {
            "text/plain": [
              "(-0.9965128466531128, -2.9523904525907474)"
            ]
          },
          "metadata": {},
          "execution_count": 71
        }
      ],
      "source": [
        "### Simple regret minimization: run number = 17\n",
        "\n",
        "approx_output_17 = np.append(np.min(-approx_17.GP.y[0:n_init]),-approx_17.GP.y[n_init:(n_init+iters)]) \n",
        "exact_output_17 = np.append(np.min(-exact_17.GP.y[0:n_init]),-exact_17.GP.y[n_init:(n_init+iters)]) \n",
        "\n",
        "regret_approx_17 = np.log(approx_output_17 - y_global_orig)\n",
        "regret_exact_17 = np.log(exact_output_17 - y_global_orig)\n",
        "\n",
        "simple_regret_approx_17 = min_max_array(regret_approx_17)\n",
        "simple_regret_exact_17 = min_max_array(regret_exact_17)\n",
        "\n",
        "min_simple_regret_approx_17 = min(simple_regret_approx_17)\n",
        "min_simple_regret_exact_17 = min(simple_regret_exact_17)\n",
        "\n",
        "min_simple_regret_approx_17, min_simple_regret_exact_17"
      ]
    },
    {
      "cell_type": "code",
      "execution_count": 72,
      "metadata": {
        "id": "Cz9ZYMBMQxfz",
        "colab": {
          "base_uri": "https://localhost:8080/"
        },
        "outputId": "6e986067-7381-4c36-e9db-636e1e3d83be"
      },
      "outputs": [
        {
          "output_type": "execute_result",
          "data": {
            "text/plain": [
              "(0.38120661329448713, 0.5694998544240025)"
            ]
          },
          "metadata": {},
          "execution_count": 72
        }
      ],
      "source": [
        "### Simple regret minimization: run number = 18\n",
        "\n",
        "approx_output_18 = np.append(np.min(-approx_18.GP.y[0:n_init]),-approx_18.GP.y[n_init:(n_init+iters)]) \n",
        "exact_output_18 = np.append(np.min(-exact_18.GP.y[0:n_init]),-exact_18.GP.y[n_init:(n_init+iters)]) \n",
        "\n",
        "regret_approx_18 = np.log(approx_output_18 - y_global_orig)\n",
        "regret_exact_18 = np.log(exact_output_18 - y_global_orig)\n",
        "\n",
        "simple_regret_approx_18 = min_max_array(regret_approx_18)\n",
        "simple_regret_exact_18 = min_max_array(regret_exact_18)\n",
        "\n",
        "min_simple_regret_approx_18 = min(simple_regret_approx_18)\n",
        "min_simple_regret_exact_18 = min(simple_regret_exact_18)\n",
        "\n",
        "min_simple_regret_approx_18, min_simple_regret_exact_18"
      ]
    },
    {
      "cell_type": "code",
      "execution_count": 73,
      "metadata": {
        "id": "OBfpWOHNQxf0",
        "colab": {
          "base_uri": "https://localhost:8080/"
        },
        "outputId": "a79f84cd-ddb7-4061-d36c-c1219621222e"
      },
      "outputs": [
        {
          "output_type": "execute_result",
          "data": {
            "text/plain": [
              "(0.9437137259094536, -2.4429258642568463)"
            ]
          },
          "metadata": {},
          "execution_count": 73
        }
      ],
      "source": [
        "### Simple regret minimization: run number = 19\n",
        "\n",
        "approx_output_19 = np.append(np.min(-approx_19.GP.y[0:n_init]),-approx_19.GP.y[n_init:(n_init+iters)]) \n",
        "exact_output_19 = np.append(np.min(-exact_19.GP.y[0:n_init]),-exact_19.GP.y[n_init:(n_init+iters)]) \n",
        "\n",
        "regret_approx_19 = np.log(approx_output_19 - y_global_orig)\n",
        "regret_exact_19 = np.log(exact_output_19 - y_global_orig)\n",
        "\n",
        "simple_regret_approx_19 = min_max_array(regret_approx_19)\n",
        "simple_regret_exact_19 = min_max_array(regret_exact_19)\n",
        "\n",
        "min_simple_regret_approx_19 = min(simple_regret_approx_19)\n",
        "min_simple_regret_exact_19 = min(simple_regret_exact_19)\n",
        "\n",
        "min_simple_regret_approx_19, min_simple_regret_exact_19"
      ]
    },
    {
      "cell_type": "code",
      "execution_count": 74,
      "metadata": {
        "id": "BE1AJ7NsQxf0",
        "colab": {
          "base_uri": "https://localhost:8080/"
        },
        "outputId": "8c1c22d8-dee2-492e-fa9f-dcb921d1adaa"
      },
      "outputs": [
        {
          "output_type": "execute_result",
          "data": {
            "text/plain": [
              "(1.541586629729168, 1.375558906521904)"
            ]
          },
          "metadata": {},
          "execution_count": 74
        }
      ],
      "source": [
        "### Simple regret minimization: run number = 20\n",
        "\n",
        "approx_output_20 = np.append(np.min(-approx_20.GP.y[0:n_init]),-approx_20.GP.y[n_init:(n_init+iters)]) \n",
        "exact_output_20 = np.append(np.min(-exact_20.GP.y[0:n_init]),-exact_20.GP.y[n_init:(n_init+iters)]) \n",
        "\n",
        "regret_approx_20 = np.log(approx_output_20 - y_global_orig)\n",
        "regret_exact_20 = np.log(exact_output_20 - y_global_orig)\n",
        "\n",
        "simple_regret_approx_20 = min_max_array(regret_approx_20)\n",
        "simple_regret_exact_20 = min_max_array(regret_exact_20)\n",
        "\n",
        "min_simple_regret_approx_20 = min(simple_regret_approx_20)\n",
        "min_simple_regret_exact_20 = min(simple_regret_exact_20)\n",
        "\n",
        "min_simple_regret_approx_20, min_simple_regret_exact_20"
      ]
    },
    {
      "cell_type": "code",
      "execution_count": 75,
      "metadata": {
        "id": "bpX-bKAHQxf1"
      },
      "outputs": [],
      "source": [
        "# Iteration1 :\n",
        "\n",
        "slice1 = 0\n",
        "\n",
        "approx1 = [simple_regret_approx_1[slice1],\n",
        "       simple_regret_approx_2[slice1],\n",
        "       simple_regret_approx_3[slice1],\n",
        "       simple_regret_approx_4[slice1],\n",
        "       simple_regret_approx_5[slice1],\n",
        "       simple_regret_approx_6[slice1],\n",
        "       simple_regret_approx_7[slice1],\n",
        "       simple_regret_approx_8[slice1],\n",
        "       simple_regret_approx_9[slice1],\n",
        "       simple_regret_approx_10[slice1],\n",
        "       simple_regret_approx_11[slice1],\n",
        "       simple_regret_approx_12[slice1],\n",
        "       simple_regret_approx_13[slice1],\n",
        "       simple_regret_approx_14[slice1],\n",
        "       simple_regret_approx_15[slice1],\n",
        "       simple_regret_approx_16[slice1],\n",
        "       simple_regret_approx_17[slice1],\n",
        "       simple_regret_approx_18[slice1],\n",
        "       simple_regret_approx_19[slice1],\n",
        "       simple_regret_approx_20[slice1]]\n",
        "\n",
        "exact1 = [simple_regret_exact_1[slice1],\n",
        "       simple_regret_exact_2[slice1],\n",
        "       simple_regret_exact_3[slice1],\n",
        "       simple_regret_exact_4[slice1],\n",
        "       simple_regret_exact_5[slice1],\n",
        "       simple_regret_exact_6[slice1],\n",
        "       simple_regret_exact_7[slice1],\n",
        "       simple_regret_exact_8[slice1],\n",
        "       simple_regret_exact_9[slice1],\n",
        "       simple_regret_exact_10[slice1],\n",
        "       simple_regret_exact_11[slice1],\n",
        "       simple_regret_exact_12[slice1],\n",
        "       simple_regret_exact_13[slice1],\n",
        "       simple_regret_exact_14[slice1],\n",
        "       simple_regret_exact_15[slice1],\n",
        "       simple_regret_exact_16[slice1],\n",
        "       simple_regret_exact_17[slice1],\n",
        "       simple_regret_exact_18[slice1],\n",
        "       simple_regret_exact_19[slice1],\n",
        "       simple_regret_exact_20[slice1]]\n",
        "\n",
        "approx1_results = pd.DataFrame(approx1).sort_values(by=[0], ascending=False)\n",
        "exact1_results = pd.DataFrame(exact1).sort_values(by=[0], ascending=False)\n",
        "\n",
        "### Best simple regret minimization IQR - approx:\n",
        "lower_approx1 = np.asarray(approx1_results[4:5][0])[0]\n",
        "median_approx1 = np.asarray(approx1_results[9:10][0])[0]\n",
        "upper_approx1 = np.asarray(approx1_results[14:15][0])[0]\n",
        "\n",
        "lower_exact1 = np.asarray(exact1_results[4:5][0])[0]\n",
        "median_exact1 = np.asarray(exact1_results[9:10][0])[0]\n",
        "upper_exact1 = np.asarray(exact1_results[14:15][0])[0]"
      ]
    },
    {
      "cell_type": "code",
      "execution_count": 76,
      "metadata": {
        "id": "CgIkJA1xQxf2"
      },
      "outputs": [],
      "source": [
        "# Iteration11 :\n",
        "\n",
        "slice11 = 10\n",
        "\n",
        "approx11 = [simple_regret_approx_1[slice11],\n",
        "       simple_regret_approx_2[slice11],\n",
        "       simple_regret_approx_3[slice11],\n",
        "       simple_regret_approx_4[slice11],\n",
        "       simple_regret_approx_5[slice11],\n",
        "       simple_regret_approx_6[slice11],\n",
        "       simple_regret_approx_7[slice11],\n",
        "       simple_regret_approx_8[slice11],\n",
        "       simple_regret_approx_9[slice11],\n",
        "       simple_regret_approx_10[slice11],\n",
        "       simple_regret_approx_11[slice11],\n",
        "       simple_regret_approx_12[slice11],\n",
        "       simple_regret_approx_13[slice11],\n",
        "       simple_regret_approx_14[slice11],\n",
        "       simple_regret_approx_15[slice11],\n",
        "       simple_regret_approx_16[slice11],\n",
        "       simple_regret_approx_17[slice11],\n",
        "       simple_regret_approx_18[slice11],\n",
        "       simple_regret_approx_19[slice11],\n",
        "       simple_regret_approx_20[slice11]]\n",
        "\n",
        "exact11 = [simple_regret_exact_1[slice11],\n",
        "       simple_regret_exact_2[slice11],\n",
        "       simple_regret_exact_3[slice11],\n",
        "       simple_regret_exact_4[slice11],\n",
        "       simple_regret_exact_5[slice11],\n",
        "       simple_regret_exact_6[slice11],\n",
        "       simple_regret_exact_7[slice11],\n",
        "       simple_regret_exact_8[slice11],\n",
        "       simple_regret_exact_9[slice11],\n",
        "       simple_regret_exact_10[slice11],\n",
        "       simple_regret_exact_11[slice11],\n",
        "       simple_regret_exact_12[slice11],\n",
        "       simple_regret_exact_13[slice11],\n",
        "       simple_regret_exact_14[slice11],\n",
        "       simple_regret_exact_15[slice11],\n",
        "       simple_regret_exact_16[slice11],\n",
        "       simple_regret_exact_17[slice11],\n",
        "       simple_regret_exact_18[slice11],\n",
        "       simple_regret_exact_19[slice11],\n",
        "       simple_regret_exact_20[slice11]]\n",
        "\n",
        "approx11_results = pd.DataFrame(approx11).sort_values(by=[0], ascending=False)\n",
        "exact11_results = pd.DataFrame(exact11).sort_values(by=[0], ascending=False)\n",
        "\n",
        "### Best simple regret minimization IQR - approx:\n",
        "lower_approx11 = np.asarray(approx11_results[4:5][0])[0]\n",
        "median_approx11 = np.asarray(approx11_results[9:10][0])[0]\n",
        "upper_approx11 = np.asarray(approx11_results[14:15][0])[0]\n",
        "\n",
        "lower_exact11 = np.asarray(exact11_results[4:5][0])[0]\n",
        "median_exact11 = np.asarray(exact11_results[9:10][0])[0]\n",
        "upper_exact11 = np.asarray(exact11_results[14:15][0])[0]"
      ]
    },
    {
      "cell_type": "code",
      "execution_count": 77,
      "metadata": {
        "id": "MFePDfGuQxf2"
      },
      "outputs": [],
      "source": [
        "# Iteration21 :\n",
        "\n",
        "slice21 = 20\n",
        "\n",
        "approx21 = [simple_regret_approx_1[slice21],\n",
        "       simple_regret_approx_2[slice21],\n",
        "       simple_regret_approx_3[slice21],\n",
        "       simple_regret_approx_4[slice21],\n",
        "       simple_regret_approx_5[slice21],\n",
        "       simple_regret_approx_6[slice21],\n",
        "       simple_regret_approx_7[slice21],\n",
        "       simple_regret_approx_8[slice21],\n",
        "       simple_regret_approx_9[slice21],\n",
        "       simple_regret_approx_10[slice21],\n",
        "       simple_regret_approx_11[slice21],\n",
        "       simple_regret_approx_12[slice21],\n",
        "       simple_regret_approx_13[slice21],\n",
        "       simple_regret_approx_14[slice21],\n",
        "       simple_regret_approx_15[slice21],\n",
        "       simple_regret_approx_16[slice21],\n",
        "       simple_regret_approx_17[slice21],\n",
        "       simple_regret_approx_18[slice21],\n",
        "       simple_regret_approx_19[slice21],\n",
        "       simple_regret_approx_20[slice21]]\n",
        "\n",
        "exact21 = [simple_regret_exact_1[slice21],\n",
        "       simple_regret_exact_2[slice21],\n",
        "       simple_regret_exact_3[slice21],\n",
        "       simple_regret_exact_4[slice21],\n",
        "       simple_regret_exact_5[slice21],\n",
        "       simple_regret_exact_6[slice21],\n",
        "       simple_regret_exact_7[slice21],\n",
        "       simple_regret_exact_8[slice21],\n",
        "       simple_regret_exact_9[slice21],\n",
        "       simple_regret_exact_10[slice21],\n",
        "       simple_regret_exact_11[slice21],\n",
        "       simple_regret_exact_12[slice21],\n",
        "       simple_regret_exact_13[slice21],\n",
        "       simple_regret_exact_14[slice21],\n",
        "       simple_regret_exact_15[slice21],\n",
        "       simple_regret_exact_16[slice21],\n",
        "       simple_regret_exact_17[slice21],\n",
        "       simple_regret_exact_18[slice21],\n",
        "       simple_regret_exact_19[slice21],\n",
        "       simple_regret_exact_20[slice21]]\n",
        "\n",
        "approx21_results = pd.DataFrame(approx21).sort_values(by=[0], ascending=False)\n",
        "exact21_results = pd.DataFrame(exact21).sort_values(by=[0], ascending=False)\n",
        "\n",
        "### Best simple regret minimization IQR - approx:\n",
        "lower_approx21 = np.asarray(approx21_results[4:5][0])[0]\n",
        "median_approx21 = np.asarray(approx21_results[9:10][0])[0]\n",
        "upper_approx21 = np.asarray(approx21_results[14:15][0])[0]\n",
        "\n",
        "lower_exact21 = np.asarray(exact21_results[4:5][0])[0]\n",
        "median_exact21 = np.asarray(exact21_results[9:10][0])[0]\n",
        "upper_exact21 = np.asarray(exact21_results[14:15][0])[0]"
      ]
    },
    {
      "cell_type": "code",
      "execution_count": 78,
      "metadata": {
        "id": "PrRDB1kfQxf3"
      },
      "outputs": [],
      "source": [
        "# Iteration2 :\n",
        "\n",
        "slice2 = 1\n",
        "\n",
        "approx2 = [simple_regret_approx_1[slice2],\n",
        "       simple_regret_approx_2[slice2],\n",
        "       simple_regret_approx_3[slice2],\n",
        "       simple_regret_approx_4[slice2],\n",
        "       simple_regret_approx_5[slice2],\n",
        "       simple_regret_approx_6[slice2],\n",
        "       simple_regret_approx_7[slice2],\n",
        "       simple_regret_approx_8[slice2],\n",
        "       simple_regret_approx_9[slice2],\n",
        "       simple_regret_approx_10[slice2],\n",
        "       simple_regret_approx_11[slice2],\n",
        "       simple_regret_approx_12[slice2],\n",
        "       simple_regret_approx_13[slice2],\n",
        "       simple_regret_approx_14[slice2],\n",
        "       simple_regret_approx_15[slice2],\n",
        "       simple_regret_approx_16[slice2],\n",
        "       simple_regret_approx_17[slice2],\n",
        "       simple_regret_approx_18[slice2],\n",
        "       simple_regret_approx_19[slice2],\n",
        "       simple_regret_approx_20[slice2]]\n",
        "\n",
        "exact2 = [simple_regret_exact_1[slice2],\n",
        "       simple_regret_exact_2[slice2],\n",
        "       simple_regret_exact_3[slice2],\n",
        "       simple_regret_exact_4[slice2],\n",
        "       simple_regret_exact_5[slice2],\n",
        "       simple_regret_exact_6[slice2],\n",
        "       simple_regret_exact_7[slice2],\n",
        "       simple_regret_exact_8[slice2],\n",
        "       simple_regret_exact_9[slice2],\n",
        "       simple_regret_exact_10[slice2],\n",
        "       simple_regret_exact_11[slice2],\n",
        "       simple_regret_exact_12[slice2],\n",
        "       simple_regret_exact_13[slice2],\n",
        "       simple_regret_exact_14[slice2],\n",
        "       simple_regret_exact_15[slice2],\n",
        "       simple_regret_exact_16[slice2],\n",
        "       simple_regret_exact_17[slice2],\n",
        "       simple_regret_exact_18[slice2],\n",
        "       simple_regret_exact_19[slice2],\n",
        "       simple_regret_exact_20[slice2]]\n",
        "\n",
        "approx2_results = pd.DataFrame(approx2).sort_values(by=[0], ascending=False)\n",
        "exact2_results = pd.DataFrame(exact2).sort_values(by=[0], ascending=False)\n",
        "\n",
        "### Best simple regret minimization IQR - approx:\n",
        "lower_approx2 = np.asarray(approx2_results[4:5][0])[0]\n",
        "median_approx2 = np.asarray(approx2_results[9:10][0])[0]\n",
        "upper_approx2 = np.asarray(approx2_results[14:15][0])[0]\n",
        "\n",
        "lower_exact2 = np.asarray(exact2_results[4:5][0])[0]\n",
        "median_exact2 = np.asarray(exact2_results[9:10][0])[0]\n",
        "upper_exact2 = np.asarray(exact2_results[14:15][0])[0]"
      ]
    },
    {
      "cell_type": "code",
      "execution_count": 79,
      "metadata": {
        "id": "B8ncJDYeQxf3"
      },
      "outputs": [],
      "source": [
        "# Iteration12 :\n",
        "\n",
        "slice12 = 11\n",
        "\n",
        "approx12 = [simple_regret_approx_1[slice12],\n",
        "       simple_regret_approx_2[slice12],\n",
        "       simple_regret_approx_3[slice12],\n",
        "       simple_regret_approx_4[slice12],\n",
        "       simple_regret_approx_5[slice12],\n",
        "       simple_regret_approx_6[slice12],\n",
        "       simple_regret_approx_7[slice12],\n",
        "       simple_regret_approx_8[slice12],\n",
        "       simple_regret_approx_9[slice12],\n",
        "       simple_regret_approx_10[slice12],\n",
        "       simple_regret_approx_11[slice12],\n",
        "       simple_regret_approx_12[slice12],\n",
        "       simple_regret_approx_13[slice12],\n",
        "       simple_regret_approx_14[slice12],\n",
        "       simple_regret_approx_15[slice12],\n",
        "       simple_regret_approx_16[slice12],\n",
        "       simple_regret_approx_17[slice12],\n",
        "       simple_regret_approx_18[slice12],\n",
        "       simple_regret_approx_19[slice12],\n",
        "       simple_regret_approx_20[slice12]]\n",
        "\n",
        "exact12 = [simple_regret_exact_1[slice12],\n",
        "       simple_regret_exact_2[slice12],\n",
        "       simple_regret_exact_3[slice12],\n",
        "       simple_regret_exact_4[slice12],\n",
        "       simple_regret_exact_5[slice12],\n",
        "       simple_regret_exact_6[slice12],\n",
        "       simple_regret_exact_7[slice12],\n",
        "       simple_regret_exact_8[slice12],\n",
        "       simple_regret_exact_9[slice12],\n",
        "       simple_regret_exact_10[slice12],\n",
        "       simple_regret_exact_11[slice12],\n",
        "       simple_regret_exact_12[slice12],\n",
        "       simple_regret_exact_13[slice12],\n",
        "       simple_regret_exact_14[slice12],\n",
        "       simple_regret_exact_15[slice12],\n",
        "       simple_regret_exact_16[slice12],\n",
        "       simple_regret_exact_17[slice12],\n",
        "       simple_regret_exact_18[slice12],\n",
        "       simple_regret_exact_19[slice12],\n",
        "       simple_regret_exact_20[slice12]]\n",
        "\n",
        "approx12_results = pd.DataFrame(approx12).sort_values(by=[0], ascending=False)\n",
        "exact12_results = pd.DataFrame(exact12).sort_values(by=[0], ascending=False)\n",
        "\n",
        "### Best simple regret minimization IQR - approx:\n",
        "lower_approx12 = np.asarray(approx12_results[4:5][0])[0]\n",
        "median_approx12 = np.asarray(approx12_results[9:10][0])[0]\n",
        "upper_approx12 = np.asarray(approx12_results[14:15][0])[0]\n",
        "\n",
        "lower_exact12 = np.asarray(exact12_results[4:5][0])[0]\n",
        "median_exact12 = np.asarray(exact12_results[9:10][0])[0]\n",
        "upper_exact12 = np.asarray(exact12_results[14:15][0])[0]"
      ]
    },
    {
      "cell_type": "code",
      "execution_count": 80,
      "metadata": {
        "id": "Jn4KpGvcQxf4"
      },
      "outputs": [],
      "source": [
        "# Iteration3 :\n",
        "\n",
        "slice3 = 2\n",
        "\n",
        "approx3 = [simple_regret_approx_1[slice3],\n",
        "       simple_regret_approx_2[slice3],\n",
        "       simple_regret_approx_3[slice3],\n",
        "       simple_regret_approx_4[slice3],\n",
        "       simple_regret_approx_5[slice3],\n",
        "       simple_regret_approx_6[slice3],\n",
        "       simple_regret_approx_7[slice3],\n",
        "       simple_regret_approx_8[slice3],\n",
        "       simple_regret_approx_9[slice3],\n",
        "       simple_regret_approx_10[slice3],\n",
        "       simple_regret_approx_11[slice3],\n",
        "       simple_regret_approx_12[slice3],\n",
        "       simple_regret_approx_13[slice3],\n",
        "       simple_regret_approx_14[slice3],\n",
        "       simple_regret_approx_15[slice3],\n",
        "       simple_regret_approx_16[slice3],\n",
        "       simple_regret_approx_17[slice3],\n",
        "       simple_regret_approx_18[slice3],\n",
        "       simple_regret_approx_19[slice3],\n",
        "       simple_regret_approx_20[slice3]]\n",
        "\n",
        "exact3 = [simple_regret_exact_1[slice3],\n",
        "       simple_regret_exact_2[slice3],\n",
        "       simple_regret_exact_3[slice3],\n",
        "       simple_regret_exact_4[slice3],\n",
        "       simple_regret_exact_5[slice3],\n",
        "       simple_regret_exact_6[slice3],\n",
        "       simple_regret_exact_7[slice3],\n",
        "       simple_regret_exact_8[slice3],\n",
        "       simple_regret_exact_9[slice3],\n",
        "       simple_regret_exact_10[slice3],\n",
        "       simple_regret_exact_11[slice3],\n",
        "       simple_regret_exact_12[slice3],\n",
        "       simple_regret_exact_13[slice3],\n",
        "       simple_regret_exact_14[slice3],\n",
        "       simple_regret_exact_15[slice3],\n",
        "       simple_regret_exact_16[slice3],\n",
        "       simple_regret_exact_17[slice3],\n",
        "       simple_regret_exact_18[slice3],\n",
        "       simple_regret_exact_19[slice3],\n",
        "       simple_regret_exact_20[slice3]]\n",
        "\n",
        "approx3_results = pd.DataFrame(approx3).sort_values(by=[0], ascending=False)\n",
        "exact3_results = pd.DataFrame(exact3).sort_values(by=[0], ascending=False)\n",
        "\n",
        "### Best simple regret minimization IQR - approx:\n",
        "lower_approx3 = np.asarray(approx3_results[4:5][0])[0]\n",
        "median_approx3 = np.asarray(approx3_results[9:10][0])[0]\n",
        "upper_approx3 = np.asarray(approx3_results[14:15][0])[0]\n",
        "\n",
        "lower_exact3 = np.asarray(exact3_results[4:5][0])[0]\n",
        "median_exact3 = np.asarray(exact3_results[9:10][0])[0]\n",
        "upper_exact3 = np.asarray(exact3_results[14:15][0])[0]"
      ]
    },
    {
      "cell_type": "code",
      "execution_count": 81,
      "metadata": {
        "id": "plf83wxrQxf4"
      },
      "outputs": [],
      "source": [
        "# Iteration13 :\n",
        "\n",
        "slice13 = 12\n",
        "\n",
        "approx13 = [simple_regret_approx_1[slice13],\n",
        "       simple_regret_approx_2[slice13],\n",
        "       simple_regret_approx_3[slice13],\n",
        "       simple_regret_approx_4[slice13],\n",
        "       simple_regret_approx_5[slice13],\n",
        "       simple_regret_approx_6[slice13],\n",
        "       simple_regret_approx_7[slice13],\n",
        "       simple_regret_approx_8[slice13],\n",
        "       simple_regret_approx_9[slice13],\n",
        "       simple_regret_approx_10[slice13],\n",
        "       simple_regret_approx_11[slice13],\n",
        "       simple_regret_approx_12[slice13],\n",
        "       simple_regret_approx_13[slice13],\n",
        "       simple_regret_approx_14[slice13],\n",
        "       simple_regret_approx_15[slice13],\n",
        "       simple_regret_approx_16[slice13],\n",
        "       simple_regret_approx_17[slice13],\n",
        "       simple_regret_approx_18[slice13],\n",
        "       simple_regret_approx_19[slice13],\n",
        "       simple_regret_approx_20[slice13]]\n",
        "\n",
        "exact13 = [simple_regret_exact_1[slice13],\n",
        "       simple_regret_exact_2[slice13],\n",
        "       simple_regret_exact_3[slice13],\n",
        "       simple_regret_exact_4[slice13],\n",
        "       simple_regret_exact_5[slice13],\n",
        "       simple_regret_exact_6[slice13],\n",
        "       simple_regret_exact_7[slice13],\n",
        "       simple_regret_exact_8[slice13],\n",
        "       simple_regret_exact_9[slice13],\n",
        "       simple_regret_exact_10[slice13],\n",
        "       simple_regret_exact_11[slice13],\n",
        "       simple_regret_exact_12[slice13],\n",
        "       simple_regret_exact_13[slice13],\n",
        "       simple_regret_exact_14[slice13],\n",
        "       simple_regret_exact_15[slice13],\n",
        "       simple_regret_exact_16[slice13],\n",
        "       simple_regret_exact_17[slice13],\n",
        "       simple_regret_exact_18[slice13],\n",
        "       simple_regret_exact_19[slice13],\n",
        "       simple_regret_exact_20[slice13]]\n",
        "\n",
        "approx13_results = pd.DataFrame(approx13).sort_values(by=[0], ascending=False)\n",
        "exact13_results = pd.DataFrame(exact13).sort_values(by=[0], ascending=False)\n",
        "\n",
        "### Best simple regret minimization IQR - approx:\n",
        "lower_approx13 = np.asarray(approx13_results[4:5][0])[0]\n",
        "median_approx13 = np.asarray(approx13_results[9:10][0])[0]\n",
        "upper_approx13 = np.asarray(approx13_results[14:15][0])[0]\n",
        "\n",
        "lower_exact13 = np.asarray(exact13_results[4:5][0])[0]\n",
        "median_exact13 = np.asarray(exact13_results[9:10][0])[0]\n",
        "upper_exact13 = np.asarray(exact13_results[14:15][0])[0]"
      ]
    },
    {
      "cell_type": "code",
      "execution_count": 82,
      "metadata": {
        "id": "9A7mlVvJQxf5"
      },
      "outputs": [],
      "source": [
        "# Iteration4 :\n",
        "\n",
        "slice4 = 3\n",
        "\n",
        "approx4 = [simple_regret_approx_1[slice4],\n",
        "       simple_regret_approx_2[slice4],\n",
        "       simple_regret_approx_3[slice4],\n",
        "       simple_regret_approx_4[slice4],\n",
        "       simple_regret_approx_5[slice4],\n",
        "       simple_regret_approx_6[slice4],\n",
        "       simple_regret_approx_7[slice4],\n",
        "       simple_regret_approx_8[slice4],\n",
        "       simple_regret_approx_9[slice4],\n",
        "       simple_regret_approx_10[slice4],\n",
        "       simple_regret_approx_11[slice4],\n",
        "       simple_regret_approx_12[slice4],\n",
        "       simple_regret_approx_13[slice4],\n",
        "       simple_regret_approx_14[slice4],\n",
        "       simple_regret_approx_15[slice4],\n",
        "       simple_regret_approx_16[slice4],\n",
        "       simple_regret_approx_17[slice4],\n",
        "       simple_regret_approx_18[slice4],\n",
        "       simple_regret_approx_19[slice4],\n",
        "       simple_regret_approx_20[slice4]]\n",
        "\n",
        "exact4 = [simple_regret_exact_1[slice4],\n",
        "       simple_regret_exact_2[slice4],\n",
        "       simple_regret_exact_3[slice4],\n",
        "       simple_regret_exact_4[slice4],\n",
        "       simple_regret_exact_5[slice4],\n",
        "       simple_regret_exact_6[slice4],\n",
        "       simple_regret_exact_7[slice4],\n",
        "       simple_regret_exact_8[slice4],\n",
        "       simple_regret_exact_9[slice4],\n",
        "       simple_regret_exact_10[slice4],\n",
        "       simple_regret_exact_11[slice4],\n",
        "       simple_regret_exact_12[slice4],\n",
        "       simple_regret_exact_13[slice4],\n",
        "       simple_regret_exact_14[slice4],\n",
        "       simple_regret_exact_15[slice4],\n",
        "       simple_regret_exact_16[slice4],\n",
        "       simple_regret_exact_17[slice4],\n",
        "       simple_regret_exact_18[slice4],\n",
        "       simple_regret_exact_19[slice4],\n",
        "       simple_regret_exact_20[slice4]]\n",
        "\n",
        "approx4_results = pd.DataFrame(approx4).sort_values(by=[0], ascending=False)\n",
        "exact4_results = pd.DataFrame(exact4).sort_values(by=[0], ascending=False)\n",
        "\n",
        "### Best simple regret minimization IQR - approx:\n",
        "lower_approx4 = np.asarray(approx4_results[4:5][0])[0]\n",
        "median_approx4 = np.asarray(approx4_results[9:10][0])[0]\n",
        "upper_approx4 = np.asarray(approx4_results[14:15][0])[0]\n",
        "\n",
        "lower_exact4 = np.asarray(exact4_results[4:5][0])[0]\n",
        "median_exact4 = np.asarray(exact4_results[9:10][0])[0]\n",
        "upper_exact4 = np.asarray(exact4_results[14:15][0])[0]"
      ]
    },
    {
      "cell_type": "code",
      "execution_count": 83,
      "metadata": {
        "id": "ijq-rioYQxf5"
      },
      "outputs": [],
      "source": [
        "# Iteration14 :\n",
        "\n",
        "slice14 = 13\n",
        "\n",
        "approx14 = [simple_regret_approx_1[slice14],\n",
        "       simple_regret_approx_2[slice14],\n",
        "       simple_regret_approx_3[slice14],\n",
        "       simple_regret_approx_4[slice14],\n",
        "       simple_regret_approx_5[slice14],\n",
        "       simple_regret_approx_6[slice14],\n",
        "       simple_regret_approx_7[slice14],\n",
        "       simple_regret_approx_8[slice14],\n",
        "       simple_regret_approx_9[slice14],\n",
        "       simple_regret_approx_10[slice14],\n",
        "       simple_regret_approx_11[slice14],\n",
        "       simple_regret_approx_12[slice14],\n",
        "       simple_regret_approx_13[slice14],\n",
        "       simple_regret_approx_14[slice14],\n",
        "       simple_regret_approx_15[slice14],\n",
        "       simple_regret_approx_16[slice14],\n",
        "       simple_regret_approx_17[slice14],\n",
        "       simple_regret_approx_18[slice14],\n",
        "       simple_regret_approx_19[slice14],\n",
        "       simple_regret_approx_20[slice14]]\n",
        "\n",
        "exact14 = [simple_regret_exact_1[slice14],\n",
        "       simple_regret_exact_2[slice14],\n",
        "       simple_regret_exact_3[slice14],\n",
        "       simple_regret_exact_4[slice14],\n",
        "       simple_regret_exact_5[slice14],\n",
        "       simple_regret_exact_6[slice14],\n",
        "       simple_regret_exact_7[slice14],\n",
        "       simple_regret_exact_8[slice14],\n",
        "       simple_regret_exact_9[slice14],\n",
        "       simple_regret_exact_10[slice14],\n",
        "       simple_regret_exact_11[slice14],\n",
        "       simple_regret_exact_12[slice14],\n",
        "       simple_regret_exact_13[slice14],\n",
        "       simple_regret_exact_14[slice14],\n",
        "       simple_regret_exact_15[slice14],\n",
        "       simple_regret_exact_16[slice14],\n",
        "       simple_regret_exact_17[slice14],\n",
        "       simple_regret_exact_18[slice14],\n",
        "       simple_regret_exact_19[slice14],\n",
        "       simple_regret_exact_20[slice14]]\n",
        "\n",
        "approx14_results = pd.DataFrame(approx14).sort_values(by=[0], ascending=False)\n",
        "exact14_results = pd.DataFrame(exact14).sort_values(by=[0], ascending=False)\n",
        "\n",
        "### Best simple regret minimization IQR - approx:\n",
        "lower_approx14 = np.asarray(approx14_results[4:5][0])[0]\n",
        "median_approx14 = np.asarray(approx14_results[9:10][0])[0]\n",
        "upper_approx14 = np.asarray(approx14_results[14:15][0])[0]\n",
        "\n",
        "lower_exact14 = np.asarray(exact14_results[4:5][0])[0]\n",
        "median_exact14 = np.asarray(exact14_results[9:10][0])[0]\n",
        "upper_exact14 = np.asarray(exact14_results[14:15][0])[0]"
      ]
    },
    {
      "cell_type": "code",
      "execution_count": 84,
      "metadata": {
        "id": "XINlZjoTd-ZK"
      },
      "outputs": [],
      "source": [
        "# Iteration5 :\n",
        "\n",
        "slice5 = 4\n",
        "\n",
        "approx5 = [simple_regret_approx_1[slice5],\n",
        "       simple_regret_approx_2[slice5],\n",
        "       simple_regret_approx_3[slice5],\n",
        "       simple_regret_approx_4[slice5],\n",
        "       simple_regret_approx_5[slice5],\n",
        "       simple_regret_approx_6[slice5],\n",
        "       simple_regret_approx_7[slice5],\n",
        "       simple_regret_approx_8[slice5],\n",
        "       simple_regret_approx_9[slice5],\n",
        "       simple_regret_approx_10[slice5],\n",
        "       simple_regret_approx_11[slice5],\n",
        "       simple_regret_approx_12[slice5],\n",
        "       simple_regret_approx_13[slice5],\n",
        "       simple_regret_approx_14[slice5],\n",
        "       simple_regret_approx_15[slice5],\n",
        "       simple_regret_approx_16[slice5],\n",
        "       simple_regret_approx_17[slice5],\n",
        "       simple_regret_approx_18[slice5],\n",
        "       simple_regret_approx_19[slice5],\n",
        "       simple_regret_approx_20[slice5]]\n",
        "\n",
        "exact5 = [simple_regret_exact_1[slice5],\n",
        "       simple_regret_exact_2[slice5],\n",
        "       simple_regret_exact_3[slice5],\n",
        "       simple_regret_exact_4[slice5],\n",
        "       simple_regret_exact_5[slice5],\n",
        "       simple_regret_exact_6[slice5],\n",
        "       simple_regret_exact_7[slice5],\n",
        "       simple_regret_exact_8[slice5],\n",
        "       simple_regret_exact_9[slice5],\n",
        "       simple_regret_exact_10[slice5],\n",
        "       simple_regret_exact_11[slice5],\n",
        "       simple_regret_exact_12[slice5],\n",
        "       simple_regret_exact_13[slice5],\n",
        "       simple_regret_exact_14[slice5],\n",
        "       simple_regret_exact_15[slice5],\n",
        "       simple_regret_exact_16[slice5],\n",
        "       simple_regret_exact_17[slice5],\n",
        "       simple_regret_exact_18[slice5],\n",
        "       simple_regret_exact_19[slice5],\n",
        "       simple_regret_exact_20[slice5]]\n",
        "\n",
        "approx5_results = pd.DataFrame(approx5).sort_values(by=[0], ascending=False)\n",
        "exact5_results = pd.DataFrame(exact5).sort_values(by=[0], ascending=False)\n",
        "\n",
        "### Best simple regret minimization IQR - approx:\n",
        "lower_approx5 = np.asarray(approx5_results[4:5][0])[0]\n",
        "median_approx5 = np.asarray(approx5_results[9:10][0])[0]\n",
        "upper_approx5 = np.asarray(approx5_results[14:15][0])[0]\n",
        "\n",
        "lower_exact5 = np.asarray(exact5_results[4:5][0])[0]\n",
        "median_exact5 = np.asarray(exact5_results[9:10][0])[0]\n",
        "upper_exact5 = np.asarray(exact5_results[14:15][0])[0]"
      ]
    },
    {
      "cell_type": "code",
      "execution_count": 85,
      "metadata": {
        "id": "4aZ7C8sOQxf6"
      },
      "outputs": [],
      "source": [
        "# Iteration15 :\n",
        "\n",
        "slice15 = 14\n",
        "\n",
        "approx15 = [simple_regret_approx_1[slice15],\n",
        "       simple_regret_approx_2[slice15],\n",
        "       simple_regret_approx_3[slice15],\n",
        "       simple_regret_approx_4[slice15],\n",
        "       simple_regret_approx_5[slice15],\n",
        "       simple_regret_approx_6[slice15],\n",
        "       simple_regret_approx_7[slice15],\n",
        "       simple_regret_approx_8[slice15],\n",
        "       simple_regret_approx_9[slice15],\n",
        "       simple_regret_approx_10[slice15],\n",
        "       simple_regret_approx_11[slice15],\n",
        "       simple_regret_approx_12[slice15],\n",
        "       simple_regret_approx_13[slice15],\n",
        "       simple_regret_approx_14[slice15],\n",
        "       simple_regret_approx_15[slice15],\n",
        "       simple_regret_approx_16[slice15],\n",
        "       simple_regret_approx_17[slice15],\n",
        "       simple_regret_approx_18[slice15],\n",
        "       simple_regret_approx_19[slice15],\n",
        "       simple_regret_approx_20[slice15]]\n",
        "\n",
        "exact15 = [simple_regret_exact_1[slice15],\n",
        "       simple_regret_exact_2[slice15],\n",
        "       simple_regret_exact_3[slice15],\n",
        "       simple_regret_exact_4[slice15],\n",
        "       simple_regret_exact_5[slice15],\n",
        "       simple_regret_exact_6[slice15],\n",
        "       simple_regret_exact_7[slice15],\n",
        "       simple_regret_exact_8[slice15],\n",
        "       simple_regret_exact_9[slice15],\n",
        "       simple_regret_exact_10[slice15],\n",
        "       simple_regret_exact_11[slice15],\n",
        "       simple_regret_exact_12[slice15],\n",
        "       simple_regret_exact_13[slice15],\n",
        "       simple_regret_exact_14[slice15],\n",
        "       simple_regret_exact_15[slice15],\n",
        "       simple_regret_exact_16[slice15],\n",
        "       simple_regret_exact_17[slice15],\n",
        "       simple_regret_exact_18[slice15],\n",
        "       simple_regret_exact_19[slice15],\n",
        "       simple_regret_exact_20[slice15]]\n",
        "\n",
        "approx15_results = pd.DataFrame(approx15).sort_values(by=[0], ascending=False)\n",
        "exact15_results = pd.DataFrame(exact15).sort_values(by=[0], ascending=False)\n",
        "\n",
        "### Best simple regret minimization IQR - approx:\n",
        "lower_approx15 = np.asarray(approx15_results[4:5][0])[0]\n",
        "median_approx15 = np.asarray(approx15_results[9:10][0])[0]\n",
        "upper_approx15 = np.asarray(approx15_results[14:15][0])[0]\n",
        "\n",
        "lower_exact15 = np.asarray(exact15_results[4:5][0])[0]\n",
        "median_exact15 = np.asarray(exact15_results[9:10][0])[0]\n",
        "upper_exact15 = np.asarray(exact15_results[14:15][0])[0]"
      ]
    },
    {
      "cell_type": "code",
      "execution_count": 86,
      "metadata": {
        "id": "KJINKhv1Qxf6"
      },
      "outputs": [],
      "source": [
        "# Iteration6 :\n",
        "\n",
        "slice6 = 5\n",
        "\n",
        "approx6 = [simple_regret_approx_1[slice6],\n",
        "       simple_regret_approx_2[slice6],\n",
        "       simple_regret_approx_3[slice6],\n",
        "       simple_regret_approx_4[slice6],\n",
        "       simple_regret_approx_5[slice6],\n",
        "       simple_regret_approx_6[slice6],\n",
        "       simple_regret_approx_7[slice6],\n",
        "       simple_regret_approx_8[slice6],\n",
        "       simple_regret_approx_9[slice6],\n",
        "       simple_regret_approx_10[slice6],\n",
        "       simple_regret_approx_11[slice6],\n",
        "       simple_regret_approx_12[slice6],\n",
        "       simple_regret_approx_13[slice6],\n",
        "       simple_regret_approx_14[slice6],\n",
        "       simple_regret_approx_15[slice6],\n",
        "       simple_regret_approx_16[slice6],\n",
        "       simple_regret_approx_17[slice6],\n",
        "       simple_regret_approx_18[slice6],\n",
        "       simple_regret_approx_19[slice6],\n",
        "       simple_regret_approx_20[slice6]]\n",
        "\n",
        "exact6 = [simple_regret_exact_1[slice6],\n",
        "       simple_regret_exact_2[slice6],\n",
        "       simple_regret_exact_3[slice6],\n",
        "       simple_regret_exact_4[slice6],\n",
        "       simple_regret_exact_5[slice6],\n",
        "       simple_regret_exact_6[slice6],\n",
        "       simple_regret_exact_7[slice6],\n",
        "       simple_regret_exact_8[slice6],\n",
        "       simple_regret_exact_9[slice6],\n",
        "       simple_regret_exact_10[slice6],\n",
        "       simple_regret_exact_11[slice6],\n",
        "       simple_regret_exact_12[slice6],\n",
        "       simple_regret_exact_13[slice6],\n",
        "       simple_regret_exact_14[slice6],\n",
        "       simple_regret_exact_15[slice6],\n",
        "       simple_regret_exact_16[slice6],\n",
        "       simple_regret_exact_17[slice6],\n",
        "       simple_regret_exact_18[slice6],\n",
        "       simple_regret_exact_19[slice6],\n",
        "       simple_regret_exact_20[slice6]]\n",
        "\n",
        "approx6_results = pd.DataFrame(approx6).sort_values(by=[0], ascending=False)\n",
        "exact6_results = pd.DataFrame(exact6).sort_values(by=[0], ascending=False)\n",
        "\n",
        "### Best simple regret minimization IQR - approx:\n",
        "lower_approx6 = np.asarray(approx6_results[4:5][0])[0]\n",
        "median_approx6 = np.asarray(approx6_results[9:10][0])[0]\n",
        "upper_approx6 = np.asarray(approx6_results[14:15][0])[0]\n",
        "\n",
        "lower_exact6 = np.asarray(exact6_results[4:5][0])[0]\n",
        "median_exact6 = np.asarray(exact6_results[9:10][0])[0]\n",
        "upper_exact6 = np.asarray(exact6_results[14:15][0])[0]"
      ]
    },
    {
      "cell_type": "code",
      "execution_count": 87,
      "metadata": {
        "id": "nwC5N1FsQxf7"
      },
      "outputs": [],
      "source": [
        "# Iteration16 :\n",
        "\n",
        "slice16 = 15\n",
        "\n",
        "approx16 = [simple_regret_approx_1[slice16],\n",
        "       simple_regret_approx_2[slice16],\n",
        "       simple_regret_approx_3[slice16],\n",
        "       simple_regret_approx_4[slice16],\n",
        "       simple_regret_approx_5[slice16],\n",
        "       simple_regret_approx_6[slice16],\n",
        "       simple_regret_approx_7[slice16],\n",
        "       simple_regret_approx_8[slice16],\n",
        "       simple_regret_approx_9[slice16],\n",
        "       simple_regret_approx_10[slice16],\n",
        "       simple_regret_approx_11[slice16],\n",
        "       simple_regret_approx_12[slice16],\n",
        "       simple_regret_approx_13[slice16],\n",
        "       simple_regret_approx_14[slice16],\n",
        "       simple_regret_approx_15[slice16],\n",
        "       simple_regret_approx_16[slice16],\n",
        "       simple_regret_approx_17[slice16],\n",
        "       simple_regret_approx_18[slice16],\n",
        "       simple_regret_approx_19[slice16],\n",
        "       simple_regret_approx_20[slice16]]\n",
        "\n",
        "exact16 = [simple_regret_exact_1[slice16],\n",
        "       simple_regret_exact_2[slice16],\n",
        "       simple_regret_exact_3[slice16],\n",
        "       simple_regret_exact_4[slice16],\n",
        "       simple_regret_exact_5[slice16],\n",
        "       simple_regret_exact_6[slice16],\n",
        "       simple_regret_exact_7[slice16],\n",
        "       simple_regret_exact_8[slice16],\n",
        "       simple_regret_exact_9[slice16],\n",
        "       simple_regret_exact_10[slice16],\n",
        "       simple_regret_exact_11[slice16],\n",
        "       simple_regret_exact_12[slice16],\n",
        "       simple_regret_exact_13[slice16],\n",
        "       simple_regret_exact_14[slice16],\n",
        "       simple_regret_exact_15[slice16],\n",
        "       simple_regret_exact_16[slice16],\n",
        "       simple_regret_exact_17[slice16],\n",
        "       simple_regret_exact_18[slice16],\n",
        "       simple_regret_exact_19[slice16],\n",
        "       simple_regret_exact_20[slice16]]\n",
        "\n",
        "approx16_results = pd.DataFrame(approx16).sort_values(by=[0], ascending=False)\n",
        "exact16_results = pd.DataFrame(exact16).sort_values(by=[0], ascending=False)\n",
        "\n",
        "### Best simple regret minimization IQR - approx:\n",
        "lower_approx16 = np.asarray(approx16_results[4:5][0])[0]\n",
        "median_approx16 = np.asarray(approx16_results[9:10][0])[0]\n",
        "upper_approx16 = np.asarray(approx16_results[14:15][0])[0]\n",
        "\n",
        "lower_exact16 = np.asarray(exact16_results[4:5][0])[0]\n",
        "median_exact16 = np.asarray(exact16_results[9:10][0])[0]\n",
        "upper_exact16 = np.asarray(exact16_results[14:15][0])[0]"
      ]
    },
    {
      "cell_type": "code",
      "execution_count": 88,
      "metadata": {
        "id": "TrPV0AfnQxf7"
      },
      "outputs": [],
      "source": [
        "# Iteration7 :\n",
        "\n",
        "slice7 = 6\n",
        "\n",
        "approx7 = [simple_regret_approx_1[slice7],\n",
        "       simple_regret_approx_2[slice7],\n",
        "       simple_regret_approx_3[slice7],\n",
        "       simple_regret_approx_4[slice7],\n",
        "       simple_regret_approx_5[slice7],\n",
        "       simple_regret_approx_6[slice7],\n",
        "       simple_regret_approx_7[slice7],\n",
        "       simple_regret_approx_8[slice7],\n",
        "       simple_regret_approx_9[slice7],\n",
        "       simple_regret_approx_10[slice7],\n",
        "       simple_regret_approx_11[slice7],\n",
        "       simple_regret_approx_12[slice7],\n",
        "       simple_regret_approx_13[slice7],\n",
        "       simple_regret_approx_14[slice7],\n",
        "       simple_regret_approx_15[slice7],\n",
        "       simple_regret_approx_16[slice7],\n",
        "       simple_regret_approx_17[slice7],\n",
        "       simple_regret_approx_18[slice7],\n",
        "       simple_regret_approx_19[slice7],\n",
        "       simple_regret_approx_20[slice7]]\n",
        "\n",
        "exact7 = [simple_regret_exact_1[slice7],\n",
        "       simple_regret_exact_2[slice7],\n",
        "       simple_regret_exact_3[slice7],\n",
        "       simple_regret_exact_4[slice7],\n",
        "       simple_regret_exact_5[slice7],\n",
        "       simple_regret_exact_6[slice7],\n",
        "       simple_regret_exact_7[slice7],\n",
        "       simple_regret_exact_8[slice7],\n",
        "       simple_regret_exact_9[slice7],\n",
        "       simple_regret_exact_10[slice7],\n",
        "       simple_regret_exact_11[slice7],\n",
        "       simple_regret_exact_12[slice7],\n",
        "       simple_regret_exact_13[slice7],\n",
        "       simple_regret_exact_14[slice7],\n",
        "       simple_regret_exact_15[slice7],\n",
        "       simple_regret_exact_16[slice7],\n",
        "       simple_regret_exact_17[slice7],\n",
        "       simple_regret_exact_18[slice7],\n",
        "       simple_regret_exact_19[slice7],\n",
        "       simple_regret_exact_20[slice7]]\n",
        "\n",
        "approx7_results = pd.DataFrame(approx7).sort_values(by=[0], ascending=False)\n",
        "exact7_results = pd.DataFrame(exact7).sort_values(by=[0], ascending=False)\n",
        "\n",
        "### Best simple regret minimization IQR - approx:\n",
        "lower_approx7 = np.asarray(approx7_results[4:5][0])[0]\n",
        "median_approx7 = np.asarray(approx7_results[9:10][0])[0]\n",
        "upper_approx7 = np.asarray(approx7_results[14:15][0])[0]\n",
        "\n",
        "lower_exact7 = np.asarray(exact7_results[4:5][0])[0]\n",
        "median_exact7 = np.asarray(exact7_results[9:10][0])[0]\n",
        "upper_exact7 = np.asarray(exact7_results[14:15][0])[0]"
      ]
    },
    {
      "cell_type": "code",
      "execution_count": 89,
      "metadata": {
        "id": "Ub_-wpK4Qxf8"
      },
      "outputs": [],
      "source": [
        "# Iteration17 :\n",
        "\n",
        "slice17 = 16\n",
        "\n",
        "approx17 = [simple_regret_approx_1[slice17],\n",
        "       simple_regret_approx_2[slice17],\n",
        "       simple_regret_approx_3[slice17],\n",
        "       simple_regret_approx_4[slice17],\n",
        "       simple_regret_approx_5[slice17],\n",
        "       simple_regret_approx_6[slice17],\n",
        "       simple_regret_approx_7[slice17],\n",
        "       simple_regret_approx_8[slice17],\n",
        "       simple_regret_approx_9[slice17],\n",
        "       simple_regret_approx_10[slice17],\n",
        "       simple_regret_approx_11[slice17],\n",
        "       simple_regret_approx_12[slice17],\n",
        "       simple_regret_approx_13[slice17],\n",
        "       simple_regret_approx_14[slice17],\n",
        "       simple_regret_approx_15[slice17],\n",
        "       simple_regret_approx_16[slice17],\n",
        "       simple_regret_approx_17[slice17],\n",
        "       simple_regret_approx_18[slice17],\n",
        "       simple_regret_approx_19[slice17],\n",
        "       simple_regret_approx_20[slice17]]\n",
        "\n",
        "exact17 = [simple_regret_exact_1[slice17],\n",
        "       simple_regret_exact_2[slice17],\n",
        "       simple_regret_exact_3[slice17],\n",
        "       simple_regret_exact_4[slice17],\n",
        "       simple_regret_exact_5[slice17],\n",
        "       simple_regret_exact_6[slice17],\n",
        "       simple_regret_exact_7[slice17],\n",
        "       simple_regret_exact_8[slice17],\n",
        "       simple_regret_exact_9[slice17],\n",
        "       simple_regret_exact_10[slice17],\n",
        "       simple_regret_exact_11[slice17],\n",
        "       simple_regret_exact_12[slice17],\n",
        "       simple_regret_exact_13[slice17],\n",
        "       simple_regret_exact_14[slice17],\n",
        "       simple_regret_exact_15[slice17],\n",
        "       simple_regret_exact_16[slice17],\n",
        "       simple_regret_exact_17[slice17],\n",
        "       simple_regret_exact_18[slice17],\n",
        "       simple_regret_exact_19[slice17],\n",
        "       simple_regret_exact_20[slice17]]\n",
        "\n",
        "approx17_results = pd.DataFrame(approx17).sort_values(by=[0], ascending=False)\n",
        "exact17_results = pd.DataFrame(exact17).sort_values(by=[0], ascending=False)\n",
        "\n",
        "### Best simple regret minimization IQR - approx:\n",
        "lower_approx17 = np.asarray(approx17_results[4:5][0])[0]\n",
        "median_approx17 = np.asarray(approx17_results[9:10][0])[0]\n",
        "upper_approx17 = np.asarray(approx17_results[14:15][0])[0]\n",
        "\n",
        "lower_exact17 = np.asarray(exact17_results[4:5][0])[0]\n",
        "median_exact17 = np.asarray(exact17_results[9:10][0])[0]\n",
        "upper_exact17 = np.asarray(exact17_results[14:15][0])[0]"
      ]
    },
    {
      "cell_type": "code",
      "execution_count": 90,
      "metadata": {
        "id": "-6VLo37PQxf8"
      },
      "outputs": [],
      "source": [
        "# Iteration8 :\n",
        "\n",
        "slice8 = 7\n",
        "\n",
        "approx8 = [simple_regret_approx_1[slice8],\n",
        "       simple_regret_approx_2[slice8],\n",
        "       simple_regret_approx_3[slice8],\n",
        "       simple_regret_approx_4[slice8],\n",
        "       simple_regret_approx_5[slice8],\n",
        "       simple_regret_approx_6[slice8],\n",
        "       simple_regret_approx_7[slice8],\n",
        "       simple_regret_approx_8[slice8],\n",
        "       simple_regret_approx_9[slice8],\n",
        "       simple_regret_approx_10[slice8],\n",
        "       simple_regret_approx_11[slice8],\n",
        "       simple_regret_approx_12[slice8],\n",
        "       simple_regret_approx_13[slice8],\n",
        "       simple_regret_approx_14[slice8],\n",
        "       simple_regret_approx_15[slice8],\n",
        "       simple_regret_approx_16[slice8],\n",
        "       simple_regret_approx_17[slice8],\n",
        "       simple_regret_approx_18[slice8],\n",
        "       simple_regret_approx_19[slice8],\n",
        "       simple_regret_approx_20[slice8]]\n",
        "\n",
        "exact8 = [simple_regret_exact_1[slice8],\n",
        "       simple_regret_exact_2[slice8],\n",
        "       simple_regret_exact_3[slice8],\n",
        "       simple_regret_exact_4[slice8],\n",
        "       simple_regret_exact_5[slice8],\n",
        "       simple_regret_exact_6[slice8],\n",
        "       simple_regret_exact_7[slice8],\n",
        "       simple_regret_exact_8[slice8],\n",
        "       simple_regret_exact_9[slice8],\n",
        "       simple_regret_exact_10[slice8],\n",
        "       simple_regret_exact_11[slice8],\n",
        "       simple_regret_exact_12[slice8],\n",
        "       simple_regret_exact_13[slice8],\n",
        "       simple_regret_exact_14[slice8],\n",
        "       simple_regret_exact_15[slice8],\n",
        "       simple_regret_exact_16[slice8],\n",
        "       simple_regret_exact_17[slice8],\n",
        "       simple_regret_exact_18[slice8],\n",
        "       simple_regret_exact_19[slice8],\n",
        "       simple_regret_exact_20[slice8]]\n",
        "\n",
        "approx8_results = pd.DataFrame(approx8).sort_values(by=[0], ascending=False)\n",
        "exact8_results = pd.DataFrame(exact8).sort_values(by=[0], ascending=False)\n",
        "\n",
        "### Best simple regret minimization IQR - approx:\n",
        "lower_approx8 = np.asarray(approx8_results[4:5][0])[0]\n",
        "median_approx8 = np.asarray(approx8_results[9:10][0])[0]\n",
        "upper_approx8 = np.asarray(approx8_results[14:15][0])[0]\n",
        "\n",
        "lower_exact8 = np.asarray(exact8_results[4:5][0])[0]\n",
        "median_exact8 = np.asarray(exact8_results[9:10][0])[0]\n",
        "upper_exact8 = np.asarray(exact8_results[14:15][0])[0]"
      ]
    },
    {
      "cell_type": "code",
      "execution_count": 91,
      "metadata": {
        "id": "2Dp-9CC2Qxf9"
      },
      "outputs": [],
      "source": [
        "# Iteration18 :\n",
        "\n",
        "slice18 = 17\n",
        "\n",
        "approx18 = [simple_regret_approx_1[slice18],\n",
        "       simple_regret_approx_2[slice18],\n",
        "       simple_regret_approx_3[slice18],\n",
        "       simple_regret_approx_4[slice18],\n",
        "       simple_regret_approx_5[slice18],\n",
        "       simple_regret_approx_6[slice18],\n",
        "       simple_regret_approx_7[slice18],\n",
        "       simple_regret_approx_8[slice18],\n",
        "       simple_regret_approx_9[slice18],\n",
        "       simple_regret_approx_10[slice18],\n",
        "       simple_regret_approx_11[slice18],\n",
        "       simple_regret_approx_12[slice18],\n",
        "       simple_regret_approx_13[slice18],\n",
        "       simple_regret_approx_14[slice18],\n",
        "       simple_regret_approx_15[slice18],\n",
        "       simple_regret_approx_16[slice18],\n",
        "       simple_regret_approx_17[slice18],\n",
        "       simple_regret_approx_18[slice18],\n",
        "       simple_regret_approx_19[slice18],\n",
        "       simple_regret_approx_20[slice18]]\n",
        "\n",
        "exact18 = [simple_regret_exact_1[slice18],\n",
        "       simple_regret_exact_2[slice18],\n",
        "       simple_regret_exact_3[slice18],\n",
        "       simple_regret_exact_4[slice18],\n",
        "       simple_regret_exact_5[slice18],\n",
        "       simple_regret_exact_6[slice18],\n",
        "       simple_regret_exact_7[slice18],\n",
        "       simple_regret_exact_8[slice18],\n",
        "       simple_regret_exact_9[slice18],\n",
        "       simple_regret_exact_10[slice18],\n",
        "       simple_regret_exact_11[slice18],\n",
        "       simple_regret_exact_12[slice18],\n",
        "       simple_regret_exact_13[slice18],\n",
        "       simple_regret_exact_14[slice18],\n",
        "       simple_regret_exact_15[slice18],\n",
        "       simple_regret_exact_16[slice18],\n",
        "       simple_regret_exact_17[slice18],\n",
        "       simple_regret_exact_18[slice18],\n",
        "       simple_regret_exact_19[slice18],\n",
        "       simple_regret_exact_20[slice18]]\n",
        "\n",
        "approx18_results = pd.DataFrame(approx18).sort_values(by=[0], ascending=False)\n",
        "exact18_results = pd.DataFrame(exact18).sort_values(by=[0], ascending=False)\n",
        "\n",
        "### Best simple regret minimization IQR - approx:\n",
        "lower_approx18 = np.asarray(approx18_results[4:5][0])[0]\n",
        "median_approx18 = np.asarray(approx18_results[9:10][0])[0]\n",
        "upper_approx18 = np.asarray(approx18_results[14:15][0])[0]\n",
        "\n",
        "lower_exact18 = np.asarray(exact18_results[4:5][0])[0]\n",
        "median_exact18 = np.asarray(exact18_results[9:10][0])[0]\n",
        "upper_exact18 = np.asarray(exact18_results[14:15][0])[0]"
      ]
    },
    {
      "cell_type": "code",
      "execution_count": 92,
      "metadata": {
        "id": "SqiaOpB7Qxf9"
      },
      "outputs": [],
      "source": [
        "# Iteration9 :\n",
        "\n",
        "slice9 = 8\n",
        "\n",
        "approx9 = [simple_regret_approx_1[slice9],\n",
        "       simple_regret_approx_2[slice9],\n",
        "       simple_regret_approx_3[slice9],\n",
        "       simple_regret_approx_4[slice9],\n",
        "       simple_regret_approx_5[slice9],\n",
        "       simple_regret_approx_6[slice9],\n",
        "       simple_regret_approx_7[slice9],\n",
        "       simple_regret_approx_8[slice9],\n",
        "       simple_regret_approx_9[slice9],\n",
        "       simple_regret_approx_10[slice9],\n",
        "       simple_regret_approx_11[slice9],\n",
        "       simple_regret_approx_12[slice9],\n",
        "       simple_regret_approx_13[slice9],\n",
        "       simple_regret_approx_14[slice9],\n",
        "       simple_regret_approx_15[slice9],\n",
        "       simple_regret_approx_16[slice9],\n",
        "       simple_regret_approx_17[slice9],\n",
        "       simple_regret_approx_18[slice9],\n",
        "       simple_regret_approx_19[slice9],\n",
        "       simple_regret_approx_20[slice9]]\n",
        "\n",
        "exact9 = [simple_regret_exact_1[slice9],\n",
        "       simple_regret_exact_2[slice9],\n",
        "       simple_regret_exact_3[slice9],\n",
        "       simple_regret_exact_4[slice9],\n",
        "       simple_regret_exact_5[slice9],\n",
        "       simple_regret_exact_6[slice9],\n",
        "       simple_regret_exact_7[slice9],\n",
        "       simple_regret_exact_8[slice9],\n",
        "       simple_regret_exact_9[slice9],\n",
        "       simple_regret_exact_10[slice9],\n",
        "       simple_regret_exact_11[slice9],\n",
        "       simple_regret_exact_12[slice9],\n",
        "       simple_regret_exact_13[slice9],\n",
        "       simple_regret_exact_14[slice9],\n",
        "       simple_regret_exact_15[slice9],\n",
        "       simple_regret_exact_16[slice9],\n",
        "       simple_regret_exact_17[slice9],\n",
        "       simple_regret_exact_18[slice9],\n",
        "       simple_regret_exact_19[slice9],\n",
        "       simple_regret_exact_20[slice9]]\n",
        "\n",
        "approx9_results = pd.DataFrame(approx9).sort_values(by=[0], ascending=False)\n",
        "exact9_results = pd.DataFrame(exact9).sort_values(by=[0], ascending=False)\n",
        "\n",
        "### Best simple regret minimization IQR - approx:\n",
        "lower_approx9 = np.asarray(approx9_results[4:5][0])[0]\n",
        "median_approx9 = np.asarray(approx9_results[9:10][0])[0]\n",
        "upper_approx9 = np.asarray(approx9_results[14:15][0])[0]\n",
        "\n",
        "lower_exact9 = np.asarray(exact9_results[4:5][0])[0]\n",
        "median_exact9 = np.asarray(exact9_results[9:10][0])[0]\n",
        "upper_exact9 = np.asarray(exact9_results[14:15][0])[0]"
      ]
    },
    {
      "cell_type": "code",
      "execution_count": 93,
      "metadata": {
        "id": "OQkCCOsPQxf9"
      },
      "outputs": [],
      "source": [
        "# Iteration19 :\n",
        "\n",
        "slice19 = 18\n",
        "\n",
        "approx19 = [simple_regret_approx_1[slice19],\n",
        "       simple_regret_approx_2[slice19],\n",
        "       simple_regret_approx_3[slice19],\n",
        "       simple_regret_approx_4[slice19],\n",
        "       simple_regret_approx_5[slice19],\n",
        "       simple_regret_approx_6[slice19],\n",
        "       simple_regret_approx_7[slice19],\n",
        "       simple_regret_approx_8[slice19],\n",
        "       simple_regret_approx_9[slice19],\n",
        "       simple_regret_approx_10[slice19],\n",
        "       simple_regret_approx_11[slice19],\n",
        "       simple_regret_approx_12[slice19],\n",
        "       simple_regret_approx_13[slice19],\n",
        "       simple_regret_approx_14[slice19],\n",
        "       simple_regret_approx_15[slice19],\n",
        "       simple_regret_approx_16[slice19],\n",
        "       simple_regret_approx_17[slice19],\n",
        "       simple_regret_approx_18[slice19],\n",
        "       simple_regret_approx_19[slice19],\n",
        "       simple_regret_approx_20[slice19]]\n",
        "\n",
        "exact19 = [simple_regret_exact_1[slice19],\n",
        "       simple_regret_exact_2[slice19],\n",
        "       simple_regret_exact_3[slice19],\n",
        "       simple_regret_exact_4[slice19],\n",
        "       simple_regret_exact_5[slice19],\n",
        "       simple_regret_exact_6[slice19],\n",
        "       simple_regret_exact_7[slice19],\n",
        "       simple_regret_exact_8[slice19],\n",
        "       simple_regret_exact_9[slice19],\n",
        "       simple_regret_exact_10[slice19],\n",
        "       simple_regret_exact_11[slice19],\n",
        "       simple_regret_exact_12[slice19],\n",
        "       simple_regret_exact_13[slice19],\n",
        "       simple_regret_exact_14[slice19],\n",
        "       simple_regret_exact_15[slice19],\n",
        "       simple_regret_exact_16[slice19],\n",
        "       simple_regret_exact_17[slice19],\n",
        "       simple_regret_exact_18[slice19],\n",
        "       simple_regret_exact_19[slice19],\n",
        "       simple_regret_exact_20[slice19]]\n",
        "\n",
        "approx19_results = pd.DataFrame(approx19).sort_values(by=[0], ascending=False)\n",
        "exact19_results = pd.DataFrame(exact19).sort_values(by=[0], ascending=False)\n",
        "\n",
        "### Best simple regret minimization IQR - approx:\n",
        "lower_approx19 = np.asarray(approx19_results[4:5][0])[0]\n",
        "median_approx19 = np.asarray(approx19_results[9:10][0])[0]\n",
        "upper_approx19 = np.asarray(approx19_results[14:15][0])[0]\n",
        "\n",
        "lower_exact19 = np.asarray(exact19_results[4:5][0])[0]\n",
        "median_exact19 = np.asarray(exact19_results[9:10][0])[0]\n",
        "upper_exact19 = np.asarray(exact19_results[14:15][0])[0]"
      ]
    },
    {
      "cell_type": "code",
      "execution_count": 94,
      "metadata": {
        "id": "h4vtWahcQxf-"
      },
      "outputs": [],
      "source": [
        "# Iteration10 :\n",
        "\n",
        "slice10 = 9\n",
        "\n",
        "approx10 = [simple_regret_approx_1[slice10],\n",
        "       simple_regret_approx_2[slice10],\n",
        "       simple_regret_approx_3[slice10],\n",
        "       simple_regret_approx_4[slice10],\n",
        "       simple_regret_approx_5[slice10],\n",
        "       simple_regret_approx_6[slice10],\n",
        "       simple_regret_approx_7[slice10],\n",
        "       simple_regret_approx_8[slice10],\n",
        "       simple_regret_approx_9[slice10],\n",
        "       simple_regret_approx_10[slice10],\n",
        "       simple_regret_approx_11[slice10],\n",
        "       simple_regret_approx_12[slice10],\n",
        "       simple_regret_approx_13[slice10],\n",
        "       simple_regret_approx_14[slice10],\n",
        "       simple_regret_approx_15[slice10],\n",
        "       simple_regret_approx_16[slice10],\n",
        "       simple_regret_approx_17[slice10],\n",
        "       simple_regret_approx_18[slice10],\n",
        "       simple_regret_approx_19[slice10],\n",
        "       simple_regret_approx_20[slice10]]\n",
        "\n",
        "exact10 = [simple_regret_exact_1[slice10],\n",
        "       simple_regret_exact_2[slice10],\n",
        "       simple_regret_exact_3[slice10],\n",
        "       simple_regret_exact_4[slice10],\n",
        "       simple_regret_exact_5[slice10],\n",
        "       simple_regret_exact_6[slice10],\n",
        "       simple_regret_exact_7[slice10],\n",
        "       simple_regret_exact_8[slice10],\n",
        "       simple_regret_exact_9[slice10],\n",
        "       simple_regret_exact_10[slice10],\n",
        "       simple_regret_exact_11[slice10],\n",
        "       simple_regret_exact_12[slice10],\n",
        "       simple_regret_exact_13[slice10],\n",
        "       simple_regret_exact_14[slice10],\n",
        "       simple_regret_exact_15[slice10],\n",
        "       simple_regret_exact_16[slice10],\n",
        "       simple_regret_exact_17[slice10],\n",
        "       simple_regret_exact_18[slice10],\n",
        "       simple_regret_exact_19[slice10],\n",
        "       simple_regret_exact_20[slice10]]\n",
        "\n",
        "approx10_results = pd.DataFrame(approx10).sort_values(by=[0], ascending=False)\n",
        "exact10_results = pd.DataFrame(exact10).sort_values(by=[0], ascending=False)\n",
        "\n",
        "### Best simple regret minimization IQR - approx:\n",
        "lower_approx10 = np.asarray(approx10_results[4:5][0])[0]\n",
        "median_approx10 = np.asarray(approx10_results[9:10][0])[0]\n",
        "upper_approx10 = np.asarray(approx10_results[14:15][0])[0]\n",
        "\n",
        "lower_exact10 = np.asarray(exact10_results[4:5][0])[0]\n",
        "median_exact10 = np.asarray(exact10_results[9:10][0])[0]\n",
        "upper_exact10 = np.asarray(exact10_results[14:15][0])[0]"
      ]
    },
    {
      "cell_type": "code",
      "execution_count": 95,
      "metadata": {
        "id": "Rsf240pWQxf-"
      },
      "outputs": [],
      "source": [
        "# Iteration20 :\n",
        "\n",
        "slice20 = 19\n",
        "\n",
        "approx20 = [simple_regret_approx_1[slice20],\n",
        "       simple_regret_approx_2[slice20],\n",
        "       simple_regret_approx_3[slice20],\n",
        "       simple_regret_approx_4[slice20],\n",
        "       simple_regret_approx_5[slice20],\n",
        "       simple_regret_approx_6[slice20],\n",
        "       simple_regret_approx_7[slice20],\n",
        "       simple_regret_approx_8[slice20],\n",
        "       simple_regret_approx_9[slice20],\n",
        "       simple_regret_approx_10[slice20],\n",
        "       simple_regret_approx_11[slice20],\n",
        "       simple_regret_approx_12[slice20],\n",
        "       simple_regret_approx_13[slice20],\n",
        "       simple_regret_approx_14[slice20],\n",
        "       simple_regret_approx_15[slice20],\n",
        "       simple_regret_approx_16[slice20],\n",
        "       simple_regret_approx_17[slice20],\n",
        "       simple_regret_approx_18[slice20],\n",
        "       simple_regret_approx_19[slice20],\n",
        "       simple_regret_approx_20[slice20]]\n",
        "\n",
        "exact20 = [simple_regret_exact_1[slice20],\n",
        "       simple_regret_exact_2[slice20],\n",
        "       simple_regret_exact_3[slice20],\n",
        "       simple_regret_exact_4[slice20],\n",
        "       simple_regret_exact_5[slice20],\n",
        "       simple_regret_exact_6[slice20],\n",
        "       simple_regret_exact_7[slice20],\n",
        "       simple_regret_exact_8[slice20],\n",
        "       simple_regret_exact_9[slice20],\n",
        "       simple_regret_exact_10[slice20],\n",
        "       simple_regret_exact_11[slice20],\n",
        "       simple_regret_exact_12[slice20],\n",
        "       simple_regret_exact_13[slice20],\n",
        "       simple_regret_exact_14[slice20],\n",
        "       simple_regret_exact_15[slice20],\n",
        "       simple_regret_exact_16[slice20],\n",
        "       simple_regret_exact_17[slice20],\n",
        "       simple_regret_exact_18[slice20],\n",
        "       simple_regret_exact_19[slice20],\n",
        "       simple_regret_exact_20[slice20]]\n",
        "\n",
        "approx20_results = pd.DataFrame(approx20).sort_values(by=[0], ascending=False)\n",
        "exact20_results = pd.DataFrame(exact20).sort_values(by=[0], ascending=False)\n",
        "\n",
        "### Best simple regret minimization IQR - approx:\n",
        "lower_approx20 = np.asarray(approx20_results[4:5][0])[0]\n",
        "median_approx20 = np.asarray(approx20_results[9:10][0])[0]\n",
        "upper_approx20 = np.asarray(approx20_results[14:15][0])[0]\n",
        "\n",
        "lower_exact20 = np.asarray(exact20_results[4:5][0])[0]\n",
        "median_exact20 = np.asarray(exact20_results[9:10][0])[0]\n",
        "upper_exact20 = np.asarray(exact20_results[14:15][0])[0]"
      ]
    },
    {
      "cell_type": "code",
      "execution_count": 96,
      "metadata": {
        "id": "gn36RejbQxf_"
      },
      "outputs": [],
      "source": [
        "### Summarize arrays: 'Loser'\n",
        "\n",
        "lower_approx = [lower_approx1,\n",
        "            lower_approx2,\n",
        "            lower_approx3,\n",
        "            lower_approx4,\n",
        "            lower_approx5,\n",
        "            lower_approx6,\n",
        "            lower_approx7,\n",
        "            lower_approx8,\n",
        "            lower_approx9,\n",
        "            lower_approx10,\n",
        "            lower_approx11,\n",
        "            lower_approx12,\n",
        "            lower_approx13,\n",
        "            lower_approx14,\n",
        "            lower_approx15,\n",
        "            lower_approx16,\n",
        "            lower_approx17,\n",
        "            lower_approx18,\n",
        "            lower_approx19,\n",
        "            lower_approx20,\n",
        "            lower_approx21]\n",
        "\n",
        "median_approx = [median_approx1,\n",
        "            median_approx2,\n",
        "            median_approx3,\n",
        "            median_approx4,\n",
        "            median_approx5,\n",
        "            median_approx6,\n",
        "            median_approx7,\n",
        "            median_approx8,\n",
        "            median_approx9,\n",
        "            median_approx10,\n",
        "            median_approx11,\n",
        "            median_approx12,\n",
        "            median_approx13,\n",
        "            median_approx14,\n",
        "            median_approx15,\n",
        "            median_approx16,\n",
        "            median_approx17,\n",
        "            median_approx18,\n",
        "            median_approx19,\n",
        "            median_approx20,\n",
        "            median_approx21]\n",
        "\n",
        "upper_approx = [upper_approx1,\n",
        "            upper_approx2,\n",
        "            upper_approx3,\n",
        "            upper_approx4,\n",
        "            upper_approx5,\n",
        "            upper_approx6,\n",
        "            upper_approx7,\n",
        "            upper_approx8,\n",
        "            upper_approx9,\n",
        "            upper_approx10,\n",
        "            upper_approx11,\n",
        "            upper_approx12,\n",
        "            upper_approx13,\n",
        "            upper_approx14,\n",
        "            upper_approx15,\n",
        "            upper_approx16,\n",
        "            upper_approx17,\n",
        "            upper_approx18,\n",
        "            upper_approx19,\n",
        "            upper_approx20,\n",
        "            upper_approx21]"
      ]
    },
    {
      "cell_type": "code",
      "execution_count": 97,
      "metadata": {
        "id": "wxtGTOYfQxf_"
      },
      "outputs": [],
      "source": [
        "### Summarize arrays: 'exact'\n",
        "\n",
        "lower_exact = [lower_exact1,\n",
        "            lower_exact2,\n",
        "            lower_exact3,\n",
        "            lower_exact4,\n",
        "            lower_exact5,\n",
        "            lower_exact6,\n",
        "            lower_exact7,\n",
        "            lower_exact8,\n",
        "            lower_exact9,\n",
        "            lower_exact10,\n",
        "            lower_exact11,\n",
        "            lower_exact12,\n",
        "            lower_exact13,\n",
        "            lower_exact14,\n",
        "            lower_exact15,\n",
        "            lower_exact16,\n",
        "            lower_exact17,\n",
        "            lower_exact18,\n",
        "            lower_exact19,\n",
        "            lower_exact20,\n",
        "            lower_exact21]\n",
        "\n",
        "median_exact = [median_exact1,\n",
        "            median_exact2,\n",
        "            median_exact3,\n",
        "            median_exact4,\n",
        "            median_exact5,\n",
        "            median_exact6,\n",
        "            median_exact7,\n",
        "            median_exact8,\n",
        "            median_exact9,\n",
        "            median_exact10,\n",
        "            median_exact11,\n",
        "            median_exact12,\n",
        "            median_exact13,\n",
        "            median_exact14,\n",
        "            median_exact15,\n",
        "            median_exact16,\n",
        "            median_exact17,\n",
        "            median_exact18,\n",
        "            median_exact19,\n",
        "            median_exact20,\n",
        "            median_exact21]\n",
        "\n",
        "upper_exact = [upper_exact1,\n",
        "            upper_exact2,\n",
        "            upper_exact3,\n",
        "            upper_exact4,\n",
        "            upper_exact5,\n",
        "            upper_exact6,\n",
        "            upper_exact7,\n",
        "            upper_exact8,\n",
        "            upper_exact9,\n",
        "            upper_exact10,\n",
        "            upper_exact11,\n",
        "            upper_exact12,\n",
        "            upper_exact13,\n",
        "            upper_exact14,\n",
        "            upper_exact15,\n",
        "            upper_exact16,\n",
        "            upper_exact17,\n",
        "            upper_exact18,\n",
        "            upper_exact19,\n",
        "            upper_exact20,\n",
        "            upper_exact21]"
      ]
    },
    {
      "cell_type": "code",
      "execution_count": 98,
      "metadata": {
        "id": "2MONq-BXQxgA",
        "colab": {
          "base_uri": "https://localhost:8080/",
          "height": 299
        },
        "outputId": "e46ed559-37e5-4133-e676-dd3a077ba359"
      },
      "outputs": [
        {
          "output_type": "display_data",
          "data": {
            "text/plain": [
              "<Figure size 432x288 with 1 Axes>"
            ],
            "image/png": "[encoded data removed]"
          },
          "metadata": {
            "needs_background": "light"
          }
        }
      ],
      "source": [
        "### Visualise!\n",
        "\n",
        "title = func\n",
        "plt.figure()\n",
        "\n",
        "plt.plot(median_approx, color = 'Yellow')\n",
        "plt.plot(median_exact, color = 'Red')\n",
        "\n",
        "xstar = np.arange(0, iters+1, step=1)\n",
        "plt.fill_between(xstar, lower_approx, upper_approx, facecolor = 'Yellow', alpha=0.4, label='GP EI Optimization: Approx GP EI gradients')\n",
        "plt.fill_between(xstar, lower_exact, upper_exact, facecolor = 'Red', alpha=0.4, label='GP EI Optimization: Exact GP dEI gradients')\n",
        "\n",
        "plt.title(title, weight = 'bold')\n",
        "plt.xlabel('(Post-initialization) iteration $\\it{k}$', weight = 'bold')\n",
        "plt.ylabel('log(Regret)', weight = 'bold') \n",
        "plt.legend(loc=0) # add plot legend\n",
        "\n",
        "### Make the x-ticks integers, not floats:\n",
        "count = len(xstar)\n",
        "plt.xticks(np.arange(count), np.arange(0, count))\n",
        "plt.show() #visualize!"
      ]
    },
    {
      "cell_type": "code",
      "execution_count": 99,
      "metadata": {
        "id": "l5dkR2Id2oiu",
        "colab": {
          "base_uri": "https://localhost:8080/"
        },
        "outputId": "60ca2371-7471-4f2c-bfe4-88861fe8bf0d"
      },
      "outputs": [
        {
          "output_type": "execute_result",
          "data": {
            "text/plain": [
              "(334.97569394111633, 249.47461771965027)"
            ]
          },
          "metadata": {},
          "execution_count": 99
        }
      ],
      "source": [
        "time_approx, time_exact\n"
      ]
    },
    {
      "cell_type": "code",
      "source": [
        "### acqFunc attribute x, stddev: run number = 1\n",
        "\n",
        "acqFuncApprox_exact_1 = acqFuncApprox(exact_1.history)\n",
        "acqFuncExact_exact_1 = acqFuncExact(exact_1.history)\n",
        "\n",
        "e1 = np.mean(acqFuncExact_exact_1)\n",
        "a1 = np.mean(acqFuncApprox_exact_1)\n",
        "\n",
        "e1, a1\n"
      ],
      "metadata": {
        "colab": {
          "base_uri": "https://localhost:8080/"
        },
        "id": "uwxv4dmfGsLr",
        "outputId": "6da0f7c8-9df3-499c-f4c3-3089b6513a02"
      },
      "execution_count": 100,
      "outputs": [
        {
          "output_type": "execute_result",
          "data": {
            "text/plain": [
              "(2.6350306221443196, 2.748956107565072)"
            ]
          },
          "metadata": {},
          "execution_count": 100
        }
      ]
    },
    {
      "cell_type": "code",
      "source": [
        "### acqFunc attribute x, stddev: run number = 2\n",
        "\n",
        "acqFuncApprox_exact_2 = acqFuncApprox(exact_2.history)\n",
        "acqFuncExact_exact_2 = acqFuncExact(exact_2.history)\n",
        "\n",
        "e2 = np.mean(acqFuncExact_exact_2)\n",
        "a2 = np.mean(acqFuncApprox_exact_2)\n",
        "\n",
        "e2, a2\n"
      ],
      "metadata": {
        "colab": {
          "base_uri": "https://localhost:8080/"
        },
        "id": "0YSV00_pGsXe",
        "outputId": "f2f50dde-aa73-4eab-fa3a-697354fc7763"
      },
      "execution_count": 101,
      "outputs": [
        {
          "output_type": "execute_result",
          "data": {
            "text/plain": [
              "(2.633738866592366, 2.7040044589611263)"
            ]
          },
          "metadata": {},
          "execution_count": 101
        }
      ]
    },
    {
      "cell_type": "code",
      "source": [
        "### acqFunc attribute x, stddev: run number = 3\n",
        "\n",
        "acqFuncApprox_exact_3 = acqFuncApprox(exact_3.history)\n",
        "acqFuncExact_exact_3 = acqFuncExact(exact_3.history)\n",
        "\n",
        "e3 = np.mean(acqFuncExact_exact_3)\n",
        "a3 = np.mean(acqFuncApprox_exact_3)\n",
        "\n",
        "e3, a3\n"
      ],
      "metadata": {
        "colab": {
          "base_uri": "https://localhost:8080/"
        },
        "id": "HHVmsd2UGsjT",
        "outputId": "2e130086-3f51-460a-b335-29ed4822a2fb"
      },
      "execution_count": 102,
      "outputs": [
        {
          "output_type": "execute_result",
          "data": {
            "text/plain": [
              "(2.48883135169272, 2.613732334519909)"
            ]
          },
          "metadata": {},
          "execution_count": 102
        }
      ]
    },
    {
      "cell_type": "code",
      "source": [
        "### acqFunc attribute x, stddev: run number = 4\n",
        "\n",
        "acqFuncApprox_exact_4 = acqFuncApprox(exact_4.history)\n",
        "acqFuncExact_exact_4 = acqFuncExact(exact_4.history)\n",
        "\n",
        "e4 = np.mean(acqFuncExact_exact_4)\n",
        "a4 = np.mean(acqFuncApprox_exact_4)\n",
        "\n",
        "e4, a4\n"
      ],
      "metadata": {
        "colab": {
          "base_uri": "https://localhost:8080/"
        },
        "id": "r7O19S2eGsu7",
        "outputId": "f82f2fb1-8ef0-4d52-b015-5a715eca5d0e"
      },
      "execution_count": 103,
      "outputs": [
        {
          "output_type": "execute_result",
          "data": {
            "text/plain": [
              "(2.5733815471525756, 2.6194940912516764)"
            ]
          },
          "metadata": {},
          "execution_count": 103
        }
      ]
    },
    {
      "cell_type": "code",
      "source": [
        "### acqFunc attribute x, stddev: run number = 5\n",
        "\n",
        "acqFuncApprox_exact_5 = acqFuncApprox(exact_5.history)\n",
        "acqFuncExact_exact_5 = acqFuncExact(exact_5.history)\n",
        "\n",
        "e5 = np.mean(acqFuncExact_exact_5)\n",
        "a5 = np.mean(acqFuncApprox_exact_5)\n",
        "\n",
        "e5, a5\n"
      ],
      "metadata": {
        "colab": {
          "base_uri": "https://localhost:8080/"
        },
        "id": "sdb9o6NuGs5m",
        "outputId": "4fb6d4ee-a373-4124-d19d-275486d42a41"
      },
      "execution_count": 104,
      "outputs": [
        {
          "output_type": "execute_result",
          "data": {
            "text/plain": [
              "(2.5517993344460512, 2.582530665777904)"
            ]
          },
          "metadata": {},
          "execution_count": 104
        }
      ]
    },
    {
      "cell_type": "code",
      "source": [
        "### acqFunc attribute x, stddev: run number = 6\n",
        "\n",
        "acqFuncApprox_exact_6 = acqFuncApprox(exact_6.history)\n",
        "acqFuncExact_exact_6 = acqFuncExact(exact_6.history)\n",
        "\n",
        "e6 = np.mean(acqFuncExact_exact_6)\n",
        "a6 = np.mean(acqFuncApprox_exact_6)\n",
        "\n",
        "e6, a6\n"
      ],
      "metadata": {
        "colab": {
          "base_uri": "https://localhost:8080/"
        },
        "id": "COQl7LZ8GtE0",
        "outputId": "671d5b4b-d145-42e5-a41e-7832de1bab2c"
      },
      "execution_count": 105,
      "outputs": [
        {
          "output_type": "execute_result",
          "data": {
            "text/plain": [
              "(2.7298947104717883, 2.7854253879221575)"
            ]
          },
          "metadata": {},
          "execution_count": 105
        }
      ]
    },
    {
      "cell_type": "code",
      "source": [
        "### acqFunc attribute x, stddev: run number = 7\n",
        "\n",
        "acqFuncApprox_exact_7 = acqFuncApprox(exact_7.history)\n",
        "acqFuncExact_exact_7 = acqFuncExact(exact_7.history)\n",
        "\n",
        "e7 = np.mean(acqFuncExact_exact_7)\n",
        "a7 = np.mean(acqFuncApprox_exact_7)\n",
        "\n",
        "e7, a7\n"
      ],
      "metadata": {
        "colab": {
          "base_uri": "https://localhost:8080/"
        },
        "id": "2gy9EtTzGtP7",
        "outputId": "300ed2dc-bd24-48aa-adb4-76a262fa684c"
      },
      "execution_count": 106,
      "outputs": [
        {
          "output_type": "execute_result",
          "data": {
            "text/plain": [
              "(2.6457823210469487, 2.7178377765891932)"
            ]
          },
          "metadata": {},
          "execution_count": 106
        }
      ]
    },
    {
      "cell_type": "code",
      "source": [
        "### acqFunc attribute x, stddev: run number = 8\n",
        "\n",
        "acqFuncApprox_exact_8 = acqFuncApprox(exact_8.history)\n",
        "acqFuncExact_exact_8 = acqFuncExact(exact_8.history)\n",
        "\n",
        "e8 = np.mean(acqFuncExact_exact_8)\n",
        "a8 = np.mean(acqFuncApprox_exact_8)\n",
        "\n",
        "e8, a8\n"
      ],
      "metadata": {
        "colab": {
          "base_uri": "https://localhost:8080/"
        },
        "id": "S7mn0qoMGtbM",
        "outputId": "7647d3fd-ea8a-4aaf-b630-853148e08cd4"
      },
      "execution_count": 107,
      "outputs": [
        {
          "output_type": "execute_result",
          "data": {
            "text/plain": [
              "(2.503399045205186, 2.6022574051057363)"
            ]
          },
          "metadata": {},
          "execution_count": 107
        }
      ]
    },
    {
      "cell_type": "code",
      "source": [
        "### acqFunc attribute x, stddev: run number = 9\n",
        "\n",
        "acqFuncApprox_exact_9 = acqFuncApprox(exact_9.history)\n",
        "acqFuncExact_exact_9 = acqFuncExact(exact_9.history)\n",
        "\n",
        "e9 = np.mean(acqFuncExact_exact_9)\n",
        "a9 = np.mean(acqFuncApprox_exact_9)\n",
        "\n",
        "e9, a9\n"
      ],
      "metadata": {
        "colab": {
          "base_uri": "https://localhost:8080/"
        },
        "id": "BhljmkNxGtms",
        "outputId": "d2f199c8-30de-4f08-efe8-f0b9b01b4241"
      },
      "execution_count": 108,
      "outputs": [
        {
          "output_type": "execute_result",
          "data": {
            "text/plain": [
              "(2.523099637345563, 2.6326191999805633)"
            ]
          },
          "metadata": {},
          "execution_count": 108
        }
      ]
    },
    {
      "cell_type": "code",
      "source": [
        "### acqFunc attribute x, stddev: run number = 10\n",
        "\n",
        "acqFuncApprox_exact_10 = acqFuncApprox(exact_10.history)\n",
        "acqFuncExact_exact_10 = acqFuncExact(exact_10.history)\n",
        "\n",
        "e10 = np.mean(acqFuncExact_exact_10)\n",
        "a10 = np.mean(acqFuncApprox_exact_10)\n",
        "\n",
        "e10, a10\n"
      ],
      "metadata": {
        "colab": {
          "base_uri": "https://localhost:8080/"
        },
        "id": "W5GZo6k3Gtx8",
        "outputId": "8018ea0b-ca7d-49f2-ddd6-cf2105372560"
      },
      "execution_count": 109,
      "outputs": [
        {
          "output_type": "execute_result",
          "data": {
            "text/plain": [
              "(2.586628153094412, 2.6767713820917267)"
            ]
          },
          "metadata": {},
          "execution_count": 109
        }
      ]
    },
    {
      "cell_type": "code",
      "source": [
        "### acqFunc attribute x, stddev: run number = 11\n",
        "\n",
        "acqFuncApprox_exact_11 = acqFuncApprox(exact_11.history)\n",
        "acqFuncExact_exact_11 = acqFuncExact(exact_11.history)\n",
        "\n",
        "e11 = np.mean(acqFuncExact_exact_11)\n",
        "a11 = np.mean(acqFuncApprox_exact_11)\n",
        "\n",
        "e11, a11\n"
      ],
      "metadata": {
        "colab": {
          "base_uri": "https://localhost:8080/"
        },
        "id": "isKNhDk5Gt9D",
        "outputId": "6103cad7-c04b-44d0-844c-b9c5f8048c5e"
      },
      "execution_count": 110,
      "outputs": [
        {
          "output_type": "execute_result",
          "data": {
            "text/plain": [
              "(2.524763558144908, 2.6430190502058464)"
            ]
          },
          "metadata": {},
          "execution_count": 110
        }
      ]
    },
    {
      "cell_type": "code",
      "source": [
        "### acqFunc attribute x, stddev: run number = 12\n",
        "\n",
        "acqFuncApprox_exact_12 = acqFuncApprox(exact_12.history)\n",
        "acqFuncExact_exact_12 = acqFuncExact(exact_12.history)\n",
        "\n",
        "e12 = np.mean(acqFuncExact_exact_12)\n",
        "a12 = np.mean(acqFuncApprox_exact_12)\n",
        "\n",
        "e12, a12\n"
      ],
      "metadata": {
        "colab": {
          "base_uri": "https://localhost:8080/"
        },
        "id": "8ts-wrSuGuIm",
        "outputId": "05531146-1384-4fdf-d53c-cc217128b9b2"
      },
      "execution_count": 111,
      "outputs": [
        {
          "output_type": "execute_result",
          "data": {
            "text/plain": [
              "(2.68362842005934, 2.65084411987194)"
            ]
          },
          "metadata": {},
          "execution_count": 111
        }
      ]
    },
    {
      "cell_type": "code",
      "source": [
        "### acqFunc attribute x, stddev: run number = 13\n",
        "\n",
        "acqFuncApprox_exact_13 = acqFuncApprox(exact_13.history)\n",
        "acqFuncExact_exact_13 = acqFuncExact(exact_13.history)\n",
        "\n",
        "e13 = np.mean(acqFuncExact_exact_13)\n",
        "a13 = np.mean(acqFuncApprox_exact_13)\n",
        "\n",
        "e13, a13\n"
      ],
      "metadata": {
        "colab": {
          "base_uri": "https://localhost:8080/"
        },
        "id": "n0drhEe3GuUL",
        "outputId": "61a15a85-53b0-4e88-afba-49618ffe8b9b"
      },
      "execution_count": 112,
      "outputs": [
        {
          "output_type": "execute_result",
          "data": {
            "text/plain": [
              "(2.6332911661018006, 2.6922978444460868)"
            ]
          },
          "metadata": {},
          "execution_count": 112
        }
      ]
    },
    {
      "cell_type": "code",
      "source": [
        "### acqFunc attribute x, stddev: run number = 14\n",
        "\n",
        "acqFuncApprox_exact_14 = acqFuncApprox(exact_14.history)\n",
        "acqFuncExact_exact_14 = acqFuncExact(exact_14.history)\n",
        "\n",
        "e14 = np.mean(acqFuncExact_exact_14)\n",
        "a14 = np.mean(acqFuncApprox_exact_14)\n",
        "\n",
        "e14, a14\n"
      ],
      "metadata": {
        "colab": {
          "base_uri": "https://localhost:8080/"
        },
        "id": "R0W3MZaVGues",
        "outputId": "a67f7f4a-1922-4319-abff-b7a845754b7f"
      },
      "execution_count": 113,
      "outputs": [
        {
          "output_type": "execute_result",
          "data": {
            "text/plain": [
              "(2.6794153196097192, 2.6627062982181426)"
            ]
          },
          "metadata": {},
          "execution_count": 113
        }
      ]
    },
    {
      "cell_type": "code",
      "source": [
        "### acqFunc attribute x, stddev: run number = 15\n",
        "\n",
        "acqFuncApprox_exact_15 = acqFuncApprox(exact_15.history)\n",
        "acqFuncExact_exact_15 = acqFuncExact(exact_15.history)\n",
        "\n",
        "e15 = np.mean(acqFuncExact_exact_15)\n",
        "a15 = np.mean(acqFuncApprox_exact_15)\n",
        "\n",
        "e15, a15\n"
      ],
      "metadata": {
        "colab": {
          "base_uri": "https://localhost:8080/"
        },
        "id": "DoXdDFHoGup-",
        "outputId": "be7d844d-9732-4efd-a295-79ac91a8557a"
      },
      "execution_count": 114,
      "outputs": [
        {
          "output_type": "execute_result",
          "data": {
            "text/plain": [
              "(2.6784884849968065, 2.719739313237806)"
            ]
          },
          "metadata": {},
          "execution_count": 114
        }
      ]
    },
    {
      "cell_type": "code",
      "source": [
        "### acqFunc attribute x, stddev: run number = 16\n",
        "\n",
        "acqFuncApprox_exact_16 = acqFuncApprox(exact_16.history)\n",
        "acqFuncExact_exact_16 = acqFuncExact(exact_16.history)\n",
        "\n",
        "e16 = np.mean(acqFuncExact_exact_16)\n",
        "a16 = np.mean(acqFuncApprox_exact_16)\n",
        "\n",
        "e16, a16\n"
      ],
      "metadata": {
        "colab": {
          "base_uri": "https://localhost:8080/"
        },
        "id": "K_wAeqSoGu2j",
        "outputId": "06974f33-e402-4a53-856f-b1fe6ba4ac07"
      },
      "execution_count": 115,
      "outputs": [
        {
          "output_type": "execute_result",
          "data": {
            "text/plain": [
              "(2.62205240020314, 2.6550911872027068)"
            ]
          },
          "metadata": {},
          "execution_count": 115
        }
      ]
    },
    {
      "cell_type": "code",
      "source": [
        "### acqFunc attribute x, stddev: run number = 17\n",
        "\n",
        "acqFuncApprox_exact_17 = acqFuncApprox(exact_17.history)\n",
        "acqFuncExact_exact_17 = acqFuncExact(exact_17.history)\n",
        "\n",
        "e17 = np.mean(acqFuncExact_exact_17)\n",
        "a17 = np.mean(acqFuncApprox_exact_17)\n",
        "\n",
        "e17, a17\n"
      ],
      "metadata": {
        "colab": {
          "base_uri": "https://localhost:8080/"
        },
        "id": "n6zy78fjGvBT",
        "outputId": "e0c7ad22-bf7f-45b0-9b52-54932739594b"
      },
      "execution_count": 116,
      "outputs": [
        {
          "output_type": "execute_result",
          "data": {
            "text/plain": [
              "(2.5545871541513803, 2.581746297476655)"
            ]
          },
          "metadata": {},
          "execution_count": 116
        }
      ]
    },
    {
      "cell_type": "code",
      "source": [
        "### acqFunc attribute x, stddev: run number = 18\n",
        "\n",
        "acqFuncApprox_exact_18 = acqFuncApprox(exact_18.history)\n",
        "acqFuncExact_exact_18 = acqFuncExact(exact_18.history)\n",
        "\n",
        "e18 = np.mean(acqFuncExact_exact_18)\n",
        "a18 = np.mean(acqFuncApprox_exact_18)\n",
        "\n",
        "e18, a18\n"
      ],
      "metadata": {
        "colab": {
          "base_uri": "https://localhost:8080/"
        },
        "id": "s_6_2K4iGvM-",
        "outputId": "4f5d6cea-ed4f-447d-9c9b-d26af1d807fd"
      },
      "execution_count": 117,
      "outputs": [
        {
          "output_type": "execute_result",
          "data": {
            "text/plain": [
              "(2.559473803466103, 2.56822044590757)"
            ]
          },
          "metadata": {},
          "execution_count": 117
        }
      ]
    },
    {
      "cell_type": "code",
      "source": [
        "### acqFunc attribute x, stddev: run number = 19\n",
        "\n",
        "acqFuncApprox_exact_19 = acqFuncApprox(exact_19.history)\n",
        "acqFuncExact_exact_19 = acqFuncExact(exact_19.history)\n",
        "\n",
        "e19 = np.mean(acqFuncExact_exact_19)\n",
        "a19 = np.mean(acqFuncApprox_exact_19)\n",
        "\n",
        "e19, a19\n"
      ],
      "metadata": {
        "colab": {
          "base_uri": "https://localhost:8080/"
        },
        "id": "o8oO8pdBGvYk",
        "outputId": "2e0b1560-38b3-4434-ba89-a8f1ff5a9d81"
      },
      "execution_count": 118,
      "outputs": [
        {
          "output_type": "execute_result",
          "data": {
            "text/plain": [
              "(2.5277561280602936, 2.567638523218429)"
            ]
          },
          "metadata": {},
          "execution_count": 118
        }
      ]
    },
    {
      "cell_type": "code",
      "source": [
        "### acqFunc attribute x, stddev: run number = 20\n",
        "\n",
        "acqFuncApprox_exact_20 = acqFuncApprox(exact_20.history)\n",
        "acqFuncExact_exact_20 = acqFuncExact(exact_20.history)\n",
        "\n",
        "e20 = np.mean(acqFuncExact_exact_20)\n",
        "a20 = np.mean(acqFuncApprox_exact_20)\n",
        "\n",
        "e20, a20\n"
      ],
      "metadata": {
        "colab": {
          "base_uri": "https://localhost:8080/"
        },
        "id": "b2w8oLc0IMzU",
        "outputId": "90d488b6-8831-4df2-b0f3-38c6c27d9626"
      },
      "execution_count": 119,
      "outputs": [
        {
          "output_type": "execute_result",
          "data": {
            "text/plain": [
              "(2.584297862619023, 2.642228342669844)"
            ]
          },
          "metadata": {},
          "execution_count": 119
        }
      ]
    },
    {
      "cell_type": "code",
      "source": [
        "### Summarize arrays: \n",
        "\n",
        "exact_stddev = np.sort([e1,e2,e3,e4,e5,e6,e7,e8,e9,e10,e11,e12,e13,e14,e15,e16,e17,e18,e19,e20])\n",
        "approx_stddev = np.sort([a1,a2,a3,a4,a5,a6,a7,a8,a9,a10,a11,a12,a13,a14,a15,a16,a17,a18,a19,a20])\n",
        "\n",
        "np.mean(exact_stddev), np.mean(approx_stddev)\n"
      ],
      "metadata": {
        "colab": {
          "base_uri": "https://localhost:8080/"
        },
        "id": "qAZs3yxMIZul",
        "outputId": "55f1152d-6b1d-4c32-aa60-628d3c37a364"
      },
      "execution_count": 120,
      "outputs": [
        {
          "output_type": "execute_result",
          "data": {
            "text/plain": [
              "(2.5959669943302224, 2.653358011611005)"
            ]
          },
          "metadata": {},
          "execution_count": 120
        }
      ]
    },
    {
      "cell_type": "code",
      "source": [
        "### Visualise!\n",
        "\n",
        "title = func\n",
        "plt.figure()\n",
        "\n",
        "plt.plot(approx_stddev, color = 'Yellow', ls='-', label='Average $\\sigma$, attribute $\\mathbf{x}$: Approx GP EI gradients')\n",
        "plt.plot(exact_stddev, color = 'Red', ls='-.', label='Average $\\sigma$, attribute $\\mathbf{x}$: Exact GP dEI gradients')\n",
        "\n",
        "plt.title(title, weight = 'bold')\n",
        "plt.xlabel('Function evaluations: iteration $\\it{k}$', weight = 'bold')\n",
        "plt.ylabel('GP EI: Average $\\sigma$, attribute $\\mathbf{x}$', weight = 'bold') \n",
        "plt.legend(loc=0) # add plot legend\n",
        "\n",
        "### Make the x-ticks integers, not floats:\n",
        "count = len(xstar)\n",
        "plt.xticks(np.arange(count), np.arange(1, count))\n",
        "plt.show() #visualize!\n"
      ],
      "metadata": {
        "colab": {
          "base_uri": "https://localhost:8080/",
          "height": 297
        },
        "id": "e_kpqYcMIZxu",
        "outputId": "47dd7746-cb68-4495-ab72-108d1a3cc20e"
      },
      "execution_count": 121,
      "outputs": [
        {
          "output_type": "display_data",
          "data": {
            "text/plain": [
              "<Figure size 432x288 with 1 Axes>"
            ],
            "image/png": "[encoded data removed]"
          },
          "metadata": {
            "needs_background": "light"
          }
        }
      ]
    },
    {
      "cell_type": "code",
      "source": [
        ""
      ],
      "metadata": {
        "id": "LToGd4vZIZ3I"
      },
      "execution_count": 121,
      "outputs": []
    }
  ],
  "metadata": {
    "colab": {
      "collapsed_sections": [],
      "name": "5_Beale_GP_dEI.ipynb",
      "provenance": []
    },
    "kernelspec": {
      "display_name": "Python 3",
      "name": "python3"
    },
    "language_info": {
      "name": "python"
    }
  },
  "nbformat": 4,
  "nbformat_minor": 0
}