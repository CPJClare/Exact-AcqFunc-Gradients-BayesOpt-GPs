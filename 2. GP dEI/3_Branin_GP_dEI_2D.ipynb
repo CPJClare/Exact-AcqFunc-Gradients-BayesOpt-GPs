{
  "nbformat": 4,
  "nbformat_minor": 0,
  "metadata": {
    "colab": {
      "name": "3. Branin_GP_dEI_2D.ipynb",
      "provenance": [],
      "collapsed_sections": []
    },
    "kernelspec": {
      "name": "python3",
      "display_name": "Python 3"
    },
    "language_info": {
      "name": "python"
    }
  },
  "cells": [
    {
      "cell_type": "markdown",
      "metadata": {
        "id": "Dqn4dFx7Z2Ir"
      },
      "source": [
        "\n",
        "Branin: 2D\n"
      ]
    },
    {
      "cell_type": "code",
      "metadata": {
        "id": "MJTM_GZZZb5x",
        "colab": {
          "base_uri": "https://localhost:8080/"
        },
        "outputId": "a3bde3af-a9a7-4793-c51c-bff183979a4c"
      },
      "source": [
        "pip install pyGPGO\n"
      ],
      "execution_count": null,
      "outputs": [
        {
          "output_type": "stream",
          "name": "stdout",
          "text": [
            "Collecting pyGPGO\n",
            "  Downloading pyGPGO-0.5.1.tar.gz (14 kB)\n",
            "Requirement already satisfied: numpy in /usr/local/lib/python3.7/dist-packages (from pyGPGO) (1.21.5)\n",
            "Requirement already satisfied: mkl in /usr/local/lib/python3.7/dist-packages (from pyGPGO) (2019.0)\n",
            "Requirement already satisfied: scipy in /usr/local/lib/python3.7/dist-packages (from pyGPGO) (1.4.1)\n",
            "Requirement already satisfied: joblib in /usr/local/lib/python3.7/dist-packages (from pyGPGO) (1.1.0)\n",
            "Requirement already satisfied: scikit-learn in /usr/local/lib/python3.7/dist-packages (from pyGPGO) (1.0.2)\n",
            "Requirement already satisfied: Theano-PyMC in /usr/local/lib/python3.7/dist-packages (from pyGPGO) (1.1.2)\n",
            "Requirement already satisfied: pyMC3 in /usr/local/lib/python3.7/dist-packages (from pyGPGO) (3.11.4)\n",
            "Requirement already satisfied: intel-openmp in /usr/local/lib/python3.7/dist-packages (from mkl->pyGPGO) (2022.0.2)\n",
            "Requirement already satisfied: arviz>=0.11.0 in /usr/local/lib/python3.7/dist-packages (from pyMC3->pyGPGO) (0.11.4)\n",
            "Requirement already satisfied: fastprogress>=0.2.0 in /usr/local/lib/python3.7/dist-packages (from pyMC3->pyGPGO) (1.0.2)\n",
            "Requirement already satisfied: pandas>=0.24.0 in /usr/local/lib/python3.7/dist-packages (from pyMC3->pyGPGO) (1.3.5)\n",
            "Requirement already satisfied: cachetools>=4.2.1 in /usr/local/lib/python3.7/dist-packages (from pyMC3->pyGPGO) (4.2.4)\n",
            "Requirement already satisfied: dill in /usr/local/lib/python3.7/dist-packages (from pyMC3->pyGPGO) (0.3.4)\n",
            "Requirement already satisfied: patsy>=0.5.1 in /usr/local/lib/python3.7/dist-packages (from pyMC3->pyGPGO) (0.5.2)\n",
            "Requirement already satisfied: semver>=2.13.0 in /usr/local/lib/python3.7/dist-packages (from pyMC3->pyGPGO) (2.13.0)\n",
            "Requirement already satisfied: typing-extensions>=3.7.4 in /usr/local/lib/python3.7/dist-packages (from pyMC3->pyGPGO) (3.10.0.2)\n",
            "Requirement already satisfied: filelock in /usr/local/lib/python3.7/dist-packages (from Theano-PyMC->pyGPGO) (3.6.0)\n",
            "Requirement already satisfied: netcdf4 in /usr/local/lib/python3.7/dist-packages (from arviz>=0.11.0->pyMC3->pyGPGO) (1.5.8)\n",
            "Requirement already satisfied: setuptools>=38.4 in /usr/local/lib/python3.7/dist-packages (from arviz>=0.11.0->pyMC3->pyGPGO) (57.4.0)\n",
            "Requirement already satisfied: xarray>=0.16.1 in /usr/local/lib/python3.7/dist-packages (from arviz>=0.11.0->pyMC3->pyGPGO) (0.18.2)\n",
            "Requirement already satisfied: matplotlib>=3.0 in /usr/local/lib/python3.7/dist-packages (from arviz>=0.11.0->pyMC3->pyGPGO) (3.2.2)\n",
            "Requirement already satisfied: packaging in /usr/local/lib/python3.7/dist-packages (from arviz>=0.11.0->pyMC3->pyGPGO) (21.3)\n",
            "Requirement already satisfied: python-dateutil>=2.1 in /usr/local/lib/python3.7/dist-packages (from matplotlib>=3.0->arviz>=0.11.0->pyMC3->pyGPGO) (2.8.2)\n",
            "Requirement already satisfied: kiwisolver>=1.0.1 in /usr/local/lib/python3.7/dist-packages (from matplotlib>=3.0->arviz>=0.11.0->pyMC3->pyGPGO) (1.4.0)\n",
            "Requirement already satisfied: cycler>=0.10 in /usr/local/lib/python3.7/dist-packages (from matplotlib>=3.0->arviz>=0.11.0->pyMC3->pyGPGO) (0.11.0)\n",
            "Requirement already satisfied: pyparsing!=2.0.4,!=2.1.2,!=2.1.6,>=2.0.1 in /usr/local/lib/python3.7/dist-packages (from matplotlib>=3.0->arviz>=0.11.0->pyMC3->pyGPGO) (3.0.7)\n",
            "Requirement already satisfied: pytz>=2017.3 in /usr/local/lib/python3.7/dist-packages (from pandas>=0.24.0->pyMC3->pyGPGO) (2018.9)\n",
            "Requirement already satisfied: six in /usr/local/lib/python3.7/dist-packages (from patsy>=0.5.1->pyMC3->pyGPGO) (1.15.0)\n",
            "Requirement already satisfied: cftime in /usr/local/lib/python3.7/dist-packages (from netcdf4->arviz>=0.11.0->pyMC3->pyGPGO) (1.6.0)\n",
            "Requirement already satisfied: threadpoolctl>=2.0.0 in /usr/local/lib/python3.7/dist-packages (from scikit-learn->pyGPGO) (3.1.0)\n",
            "Building wheels for collected packages: pyGPGO\n",
            "  Building wheel for pyGPGO (setup.py) ... \u001b[?25l\u001b[?25hdone\n",
            "  Created wheel for pyGPGO: filename=pyGPGO-0.5.1-py3-none-any.whl size=19879 sha256=8cdbe9a1eb5dfc8231c55d06938da607df8eacae897d5ae52ceb6fac2dcd1cc2\n",
            "  Stored in directory: /root/.cache/pip/wheels/c8/5d/0b/2160114e2f1b87791c51b66cf07f89831dbb6f49167950316f\n",
            "Successfully built pyGPGO\n",
            "Installing collected packages: pyGPGO\n",
            "Successfully installed pyGPGO-0.5.1\n"
          ]
        }
      ]
    },
    {
      "cell_type": "code",
      "metadata": {
        "id": "ZJSSPbwPaEUB"
      },
      "source": [
        "### Import:\n",
        "\n",
        "import numpy as np\n",
        "import scipy as sp\n",
        "import pandas as pd\n",
        "import matplotlib.pyplot as plt\n",
        "import warnings\n",
        "import itertools\n",
        "\n",
        "from pyGPGO.GPGO import GPGO\n",
        "from pyGPGO.surrogates.GaussianProcess import GaussianProcess\n",
        "from pyGPGO.acquisition import Acquisition\n",
        "from pyGPGO.covfunc import squaredExponential\n",
        "\n",
        "from joblib import Parallel, delayed\n",
        "from numpy.linalg import solve, cholesky\n",
        "from scipy.spatial.distance import cdist\n",
        "from scipy.optimize import minimize\n",
        "from scipy.stats import norm\n",
        "import time\n",
        "\n",
        "warnings.filterwarnings(\"ignore\", category=RuntimeWarning)\n"
      ],
      "execution_count": null,
      "outputs": []
    },
    {
      "cell_type": "code",
      "metadata": {
        "id": "OeYcTUNoaJWa"
      },
      "source": [
        "### Inputs:\n",
        "\n",
        "func = 'Branin'\n",
        "n_test = 500\n",
        "eps = 1e-08\n",
        "\n",
        "util_grad_exact = 'dEI_GP'\n",
        "util_grad_approx = 'ExpectedImprovement'\n",
        "\n",
        "n_init = 5 # random initialisations\n",
        "iters = 20\n",
        "opt = True"
      ],
      "execution_count": null,
      "outputs": []
    },
    {
      "cell_type": "code",
      "metadata": {
        "id": "xpaEOjdzaPMS"
      },
      "source": [
        "### Objective Function - Branin(x) 2-D:\n",
        "\n",
        "def objfunc(x1_training, x2_training, a = 1, b = (5.1 / (4 * (np.pi) ** 2)), c = (5 / (np.pi)), r = 6, s = 10, t = (1 / (8 * np.pi))):\n",
        "        return operator * ((a * (x2_training - b * x1_training ** 2 + c * x1_training - r) ** 2) + \n",
        "                 s * (1 - t) * np.cos(x1_training) + s)\n",
        "        \n",
        "# Constraints:\n",
        "lb_x1 = -5 \n",
        "ub_x1 = +10\n",
        "lb_x2 = +0 \n",
        "ub_x2 = +15\n",
        "\n",
        "# Input array dimension(s):\n",
        "dim = 2\n",
        "\n",
        "# 2-D inputs' parameter bounds:\n",
        "param = {'x1_training': ('cont', [lb_x1, ub_x1]),\n",
        "             'x2_training': ('cont', [lb_x2, ub_x2])}\n",
        "\n",
        "# True y bounds:\n",
        "operator = -1\n",
        "y_lb = 0.397887 # targets global minimum\n",
        "y_global_orig = y_lb * operator # targets global minimum\n",
        "\n",
        "\n",
        "# Test data:\n",
        "x1_test = np.linspace(lb_x1, ub_x1, n_test)\n",
        "x2_test = np.linspace(lb_x2, ub_x2, n_test)\n",
        "  \n",
        "x_test = np.column_stack((x1_test,x2_test))\n"
      ],
      "execution_count": null,
      "outputs": []
    },
    {
      "cell_type": "code",
      "metadata": {
        "id": "eYpI3Zm4aGxi"
      },
      "source": [
        "n_start_AcqFunc = iters\n"
      ],
      "execution_count": null,
      "outputs": []
    },
    {
      "cell_type": "code",
      "metadata": {
        "id": "oO_GUmOoaV0T"
      },
      "source": [
        "### Cumulative Regret Calculator:\n",
        "\n",
        "def min_max_array(x):\n",
        "    new_list = []\n",
        "    for i, num in enumerate(x):\n",
        "            new_list.append(np.min(x[0:i+1]))\n",
        "    return new_list\n",
        "  "
      ],
      "execution_count": null,
      "outputs": []
    },
    {
      "cell_type": "code",
      "metadata": {
        "id": "kuuJx0IMam9S"
      },
      "source": [
        "### Surrogate derivatives: \n",
        "\n",
        "cov_func = squaredExponential()\n",
        "\n",
        "def kronDelta(X, Xstar):                     # Kronecker's Delta method\n",
        "    return cdist(X, Xstar) < np.finfo(np.float32).eps\n",
        "\n",
        "def se(X, Xstar, sigmaf, l, sigman):         # S.E. kernel method\n",
        "    return sigmaf * np.exp(-0.5 * cdist(X, Xstar) ** 2 / l ** 2) + sigman * kronDelta(X, Xstar)\n",
        "\n",
        "def delta(X, Xstar):                         # Distance between training X and test Xstar vectors\n",
        "    return (X - Xstar)\n",
        "   \n",
        "def der_covmat(X, Xstar, sigmaf, l, sigman): # Covariance matrix derivative terms (i.e. exact, first-order)\n",
        "    nx = len(X)\n",
        "    ny = len(Xstar)\n",
        "    return np.round(np.array([(delta(np.atleast_2d(i), np.atleast_2d(j))[0] * se(np.atleast_2d(i), np.atleast_2d(j), sigmaf, l, sigman)[0]).sum() for (i, j) in itertools.product(X, Xstar)]).reshape(nx, ny), 8)\n",
        "\n",
        "class dGaussianProcess(GaussianProcess):    # Via inheritance, also optimises hyperparameters when opt = TRUE\n",
        "    \n",
        "    def AcqGrad(self, Xstar):               # Method returning exact, first-order derivatives of the GP's posterior mean and standard deviation\n",
        "        Xstar = np.atleast_2d(Xstar)\n",
        "        Kstar = self.covfunc.K(self.X, Xstar).T\n",
        "        \n",
        "        dKstar = der_covmat(self.X, Xstar, self.covfunc.sigmaf, self.covfunc.l, self.covfunc.sigman).T\n",
        "        alpha_Kstar = np.dot(np.linalg.inv(self.K + (self.covfunc.sigman**2) * np.eye(len(self.X))), Kstar.T)\n",
        "        \n",
        "        dm = np.dot(dKstar, self.alpha)\n",
        "        ds = -2 * np.dot(dKstar, alpha_Kstar)\n",
        "        \n",
        "        return dm, ds           \n",
        "        "
      ],
      "execution_count": null,
      "outputs": []
    },
    {
      "cell_type": "code",
      "metadata": {
        "id": "_Dc3YVHVaXz7"
      },
      "source": [
        "class Acquisition_new(Acquisition):    \n",
        "    def __init__(self, mode, eps=eps, **params):\n",
        "        \n",
        "        self.params = params\n",
        "        self.eps = eps\n",
        "\n",
        "        mode_dict = {\n",
        "            'dEI_GP': self.dEI_GP\n",
        "        }\n",
        "\n",
        "        self.f = mode_dict[mode]\n",
        "    \n",
        "    def dEI_GP(self, tau, mean, std, ds, dm):\n",
        "        gamma = (mean - tau - self.eps) / (std + self.eps)\n",
        "        gamma_h = (mean - tau) / (std + self.eps)\n",
        "        dsdx = ds / (2 * (std + self.eps))\n",
        "        dmdx = (dm - gamma * dsdx) / (std + self.eps)\n",
        "        \n",
        "        f = (std + self.eps) * (gamma * norm.cdf(gamma) + norm.pdf(gamma))\n",
        "        df1 = f / (std + self.eps) * dsdx \n",
        "        df2 = (std + self.eps) * norm.cdf(gamma) * dmdx\n",
        "        df = (df1 + df2)[0]\n",
        "        df_arr = []\n",
        "\n",
        "        for j in range(0, dim):\n",
        "          df_arr.append(df)\n",
        "        return f, np.asarray(df_arr).transpose()\n",
        "        \n",
        "    def d_eval(self, tau, mean, std, ds, dm):\n",
        "    \n",
        "        return self.f(tau, mean, std, ds, dm, **self.params)\n",
        "        "
      ],
      "execution_count": null,
      "outputs": []
    },
    {
      "cell_type": "code",
      "metadata": {
        "id": "PITEQC8YSl7i"
      },
      "source": [
        "## GPGO_multi: \n",
        "\n",
        "class GPGO_multi(GPGO):\n",
        "    n_start = n_start_AcqFunc\n",
        "\n",
        "    def __init__(self, surrogate, acquisition, f, parameter_dict, n_jobs=1):\n",
        "        self.GP = surrogate\n",
        "        self.A = acquisition\n",
        "        self.f = f\n",
        "        self.parameters = parameter_dict\n",
        "        self.n_jobs = n_jobs\n",
        "\n",
        "        self.parameter_key = list(parameter_dict.keys())\n",
        "        self.parameter_value = list(parameter_dict.values())\n",
        "        self.parameter_type = [p[0] for p in self.parameter_value]\n",
        "        self.parameter_range = [p[1] for p in self.parameter_value]\n",
        "\n",
        "        self.history = []\n",
        "        self.header =   'Evaluation \\t Proposed point \\t  Current eval. \\t  Best eval. \\t         Max AcqFunc.'\n",
        "        self.template = '{:3}\\t {}\\t {:3}\\t {:3}\\t {:3}'\n",
        "\n",
        "    def _optimizeAcq(self, method='L-BFGS-B', n_start=n_start_AcqFunc):\n",
        "        \n",
        "        start_points_dict = [self._sampleParam() for i in range(n_start)]\n",
        "        start_points_arr = np.array([list(s.values())\n",
        "                                     for s in start_points_dict])\n",
        "        x_best = np.empty((n_start, len(self.parameter_key)))\n",
        "        f_best = np.empty((n_start,))\n",
        "        opt = Parallel(n_jobs=self.n_jobs)(delayed(minimize)(self._acqWrapper,\n",
        "                                                                 x0=start_point,\n",
        "                                                                 method=method,\n",
        "                                                                 bounds=self.parameter_range) for start_point in\n",
        "                                               start_points_arr)\n",
        "        x_best = np.array([res.x for res in opt])\n",
        "        f_best = np.array([np.atleast_1d(res.fun)[0] for res in opt])\n",
        "        f_best_min = min(f_best)\n",
        "\n",
        "        self.x_best = x_best\n",
        "        self.f_best = f_best\n",
        "        self.f_best_min = f_best_min\n",
        "        self.best = x_best[np.argmin(f_best)]\n",
        "        self.start_points_arr = start_points_arr\n",
        "        \n",
        "        self.history.append(self.f_best_min)\n",
        "          \n",
        "    def _printInit(self):\n",
        "        print(self.header)\n",
        "        for init_eval in range(self.init_evals):\n",
        "            print(self.template.format('init', self.GP.X[init_eval], self.GP.y[init_eval], self.tau, ''))\n",
        "      \n",
        "    def _printCurrent(self):\n",
        "        OKGREEN = '\\033[92m'\n",
        "        ENDC = '\\033[0m'\n",
        "        BOLD = '\\033[1m'\n",
        "        eval = str(len(self.GP.y) - self.init_evals)\n",
        "        proposed = str(self.best)\n",
        "        curr_eval = str(self.GP.y[-1])\n",
        "        curr_best = str(self.tau)\n",
        "        max_acqfunc = str(self.f_best_min)\n",
        "        if float(curr_eval) >= float(curr_best):\n",
        "            eval = BOLD + OKGREEN + eval + ENDC\n",
        "            proposed = BOLD + OKGREEN + proposed + ENDC\n",
        "            curr_eval = BOLD + OKGREEN + curr_eval + ENDC\n",
        "            curr_best = BOLD + OKGREEN + curr_best + ENDC\n",
        "            max_acqfunc = BOLD + OKGREEN + str(self.f_best_min) + ENDC\n",
        "        print(self.template.format(eval, proposed, curr_eval, curr_best, max_acqfunc))\n",
        "\n",
        "    def run(self, max_iter=10, init_evals=3, resume=False):\n",
        "        \n",
        "        if not resume:\n",
        "            self.init_evals = init_evals\n",
        "            self._firstRun(self.init_evals)\n",
        "            self._printInit()\n",
        "        for iteration in range(max_iter):\n",
        "            self._optimizeAcq()\n",
        "            self.updateGP()\n",
        "            self._printCurrent()\n"
      ],
      "execution_count": null,
      "outputs": []
    },
    {
      "cell_type": "code",
      "metadata": {
        "id": "b_B-w81BJxKN"
      },
      "source": [
        "## dGPGO:\n",
        "\n",
        "grad = 1\n",
        "\n",
        "class dGPGO(GPGO):\n",
        "    n_start = n_start_AcqFunc\n",
        "\n",
        "    def __init__(self, surrogate, acquisition, f, parameter_dict, n_jobs=1):\n",
        "        self.GP = surrogate\n",
        "        self.A = acquisition\n",
        "        self.f = f\n",
        "        self.parameters = parameter_dict\n",
        "        self.n_jobs = n_jobs\n",
        "\n",
        "        self.parameter_key = list(parameter_dict.keys())\n",
        "        self.parameter_value = list(parameter_dict.values())\n",
        "        self.parameter_type = [p[0] for p in self.parameter_value]\n",
        "        self.parameter_range = [p[1] for p in self.parameter_value]\n",
        "\n",
        "        self.history = []\n",
        "        self.header =   'Evaluation \\t Proposed point \\t  Current eval. \\t  Best eval. \\t         Max AcqFunc.'\n",
        "        self.template = '{:3}\\t {}\\t {:3}\\t {:3}\\t {:3}'\n",
        "\n",
        "    def d_optimizeAcq(self, method='L-BFGS-B', n_start=n_start_AcqFunc):\n",
        "        start_points_dict = [self._sampleParam() for i in range(n_start)]\n",
        "        start_points_arr = np.array([list(s.values())\n",
        "                                     for s in start_points_dict])\n",
        "        x_best = np.empty((n_start, len(self.parameter_key)))\n",
        "        f_best = np.empty((n_start,))\n",
        "        opt = Parallel(n_jobs=self.n_jobs)(delayed(minimize)(self.acqfunc,\n",
        "                                                                 x0=start_point,\n",
        "                                                                 method=method,\n",
        "                                                                 jac = True,\n",
        "                                                                 bounds=self.parameter_range) for start_point in\n",
        "                                               start_points_arr)\n",
        "        x_best = np.array([res.x for res in opt])\n",
        "        f_best = np.array([np.atleast_1d(res.fun)[0] for res in opt])\n",
        "        f_best_min = min(f_best)\n",
        "\n",
        "        self.x_best = x_best\n",
        "        self.f_best = f_best\n",
        "        self.f_best_min = f_best_min\n",
        "        self.best = x_best[np.argmin(f_best)]\n",
        "        self.start_points_arr = start_points_arr\n",
        "\n",
        "        self.history.append(self.f_best_min)\n",
        "\n",
        "    def _printInit(self):\n",
        "        print(self.header)\n",
        "        for init_eval in range(self.init_evals):\n",
        "            print(self.template.format('init', self.GP.X[init_eval], self.GP.y[init_eval], self.tau, ''))\n",
        "      \n",
        "    def _printCurrent(self):\n",
        "        OKGREEN = '\\033[92m'\n",
        "        ENDC = '\\033[0m'\n",
        "        BOLD = '\\033[1m'\n",
        "        eval = str(len(self.GP.y) - self.init_evals)\n",
        "        proposed = str(self.best)\n",
        "        curr_eval = str(self.GP.y[-1])\n",
        "        curr_best = str(self.tau)\n",
        "        max_acqfunc = str(self.f_best_min)\n",
        "        if float(curr_eval) >= float(curr_best):\n",
        "            eval = BOLD + OKGREEN + eval + ENDC\n",
        "            proposed = BOLD + OKGREEN + proposed + ENDC\n",
        "            curr_eval = BOLD + OKGREEN + curr_eval + ENDC\n",
        "            curr_best = BOLD + OKGREEN + curr_best + ENDC\n",
        "            max_acqfunc = BOLD + OKGREEN + str(self.f_best_min) + ENDC\n",
        "        print(self.template.format(eval, proposed, curr_eval, curr_best, max_acqfunc))\n",
        "\n",
        "    def run(self, max_iter=10, init_evals=3, resume=False):\n",
        "        \n",
        "        if not resume:\n",
        "            self.init_evals = init_evals\n",
        "            self._firstRun(self.init_evals)\n",
        "            self._printInit()\n",
        "        for iteration in range(max_iter):\n",
        "            self.d_optimizeAcq()\n",
        "            self.updateGP()\n",
        "            self._printCurrent()\n",
        "\n",
        "    def acqfunc(self, xnew, n_start=n_start_AcqFunc):\n",
        "        new_mean, new_var = self.GP.predict(xnew, return_std=True)\n",
        "        new_std = np.sqrt(new_var + eps)\n",
        "        dm, ds = self.GP.AcqGrad(xnew)\n",
        "        f, df = self.A.d_eval(self.tau, new_mean, new_std, ds=ds, dm=dm)\n",
        "\n",
        "        return -f, -df * grad\n"
      ],
      "execution_count": null,
      "outputs": []
    },
    {
      "cell_type": "code",
      "metadata": {
        "id": "qXIKGuXVGEg2"
      },
      "source": [
        "###Reproducible set-seeds:\n",
        "\n",
        "run_num_1 = 1\n",
        "run_num_2 = 2\n",
        "run_num_3 = 3\n",
        "run_num_4 = 4\n",
        "run_num_5 = 5\n",
        "run_num_6 = 6\n",
        "run_num_7 = 7\n",
        "run_num_8 = 8\n",
        "run_num_9 = 9\n",
        "run_num_10 = 10\n",
        "run_num_11 = 11\n",
        "run_num_12 = 12\n",
        "run_num_13 = 13\n",
        "run_num_14 = 14\n",
        "run_num_15 = 15\n",
        "run_num_16 = 16\n",
        "run_num_17 = 17\n",
        "run_num_18 = 18\n",
        "run_num_19 = 19\n",
        "run_num_20 = 20\n"
      ],
      "execution_count": null,
      "outputs": []
    },
    {
      "cell_type": "code",
      "metadata": {
        "colab": {
          "base_uri": "https://localhost:8080/"
        },
        "id": "JEhagQmnTVIK",
        "outputId": "48fc5c6d-6ca2-48e1-fe48-1719f71835ad"
      },
      "source": [
        "start_approx = time.time()\n",
        "start_approx\n"
      ],
      "execution_count": null,
      "outputs": [
        {
          "output_type": "execute_result",
          "data": {
            "text/plain": [
              "1649162343.7337263"
            ]
          },
          "metadata": {},
          "execution_count": 12
        }
      ]
    },
    {
      "cell_type": "code",
      "metadata": {
        "colab": {
          "base_uri": "https://localhost:8080/"
        },
        "id": "aH0YSTXufD1v",
        "outputId": "c161cf07-f266-4a6b-ff6b-0fdd0dafb08d"
      },
      "source": [
        "### ESTIMATED GP EI GRADIENTS\n",
        "\n",
        "np.random.seed(run_num_1)\n",
        "surrogate_approx_1 = GaussianProcess(cov_func, optimize=opt)\n",
        "\n",
        "approx_1 = GPGO_multi(surrogate_approx_1, Acquisition(util_grad_approx), objfunc, param)\n",
        "approx_1.run(init_evals=n_init, max_iter=iters)\n"
      ],
      "execution_count": null,
      "outputs": [
        {
          "output_type": "stream",
          "name": "stdout",
          "text": [
            "Evaluation \t Proposed point \t  Current eval. \t  Best eval. \t         Max AcqFunc.\n",
            "init\t [ 1.25533007 10.8048674 ]\t -56.52874004692151\t -27.68166689936483\t    \n",
            "init\t [-4.99828438  4.53498859]\t -172.66531086516164\t -27.68166689936483\t    \n",
            "init\t [-2.79866164  1.38507892]\t -102.58290348816024\t -27.68166689936483\t    \n",
            "init\t [-2.20609683  5.18341091]\t -28.868064601155666\t -27.68166689936483\t    \n",
            "init\t [0.95151211 8.08225101]\t -27.68166689936483\t -27.68166689936483\t    \n",
            "\u001b[1m\u001b[92m1\u001b[0m\t \u001b[1m\u001b[92m[8.41909995 1.27566317]\u001b[0m\t \u001b[1m\u001b[92m-5.089934878453152\u001b[0m\t \u001b[1m\u001b[92m-5.089934878453152\u001b[0m\t \u001b[1m\u001b[92m-27.68166689936483\u001b[0m\n",
            "2  \t [ 8.98893195 10.45227242]\t -70.52424256621515\t -5.089934878453152\t -5.093418837438119\n",
            "\u001b[1m\u001b[92m3\u001b[0m\t \u001b[1m\u001b[92m[-3.98449353 13.27557148]\u001b[0m\t \u001b[1m\u001b[92m-4.859191184895716\u001b[0m\t \u001b[1m\u001b[92m-4.859191184895716\u001b[0m\t \u001b[1m\u001b[92m-5.09341739546843\u001b[0m\n",
            "4  \t [2.98309456 0.06142284]\t -5.995851987798232\t -4.859191184895716\t -4.864164384109738\n",
            "5  \t [ 5.33580237 15.        ]\t -206.4381669221689\t -4.859191184895716\t -4.864163565448148\n",
            "6  \t [5.84928396 5.67126399]\t -39.512784637934104\t -4.859191184895716\t -4.864152794568638\n",
            "7  \t [-5.          9.40479933]\t -73.2920050898376\t -4.859191184895716\t -4.862719477444965\n",
            "8  \t [-0.27588456 15.        ]\t -92.36003518725835\t -4.859191184895716\t -4.8622878543114085\n",
            "9  \t [10. 15.]\t -145.87219087939556\t -4.859191184895716\t -4.861554239171266\n",
            "10 \t [10.          5.11072922]\t -6.385846073243668\t -4.859191184895716\t -4.860647905091755\n",
            "11 \t [1.84966316 3.73572114]\t -7.4133042555499\t -4.859191184895716\t -4.859270428456115\n",
            "12 \t [5.0419145  9.65652385]\t -83.61668311422585\t -4.859191184895716\t -4.836503006626853\n",
            "13 \t [5.3970972  1.94319788]\t -16.66568665365493\t -4.859191184895716\t -4.797354298332583\n",
            "14 \t [0.46357595 0.        ]\t -46.57235449227419\t -4.859191184895716\t -4.645235654635301\n",
            "15 \t [-2.07705351 11.43691813]\t -7.820911049463916\t -4.859191184895716\t -4.623433022993557\n",
            "16 \t [10.  0.]\t -10.960889035651505\t -4.859191184895716\t -4.548144308540462\n",
            "17 \t [8.79358545 7.16260822]\t -28.962043051797238\t -4.859191184895716\t -4.439438301027165\n",
            "18 \t [-5. 15.]\t -17.508299515778166\t -4.859191184895716\t -4.547492756701536\n",
            "19 \t [8.30211237 3.45377919]\t -8.94757430511372\t -4.859191184895716\t -4.363661198870158\n",
            "20 \t [-1.92928688  8.36712802]\t -8.033490154260265\t -4.859191184895716\t -4.34722298426893\n"
          ]
        }
      ]
    },
    {
      "cell_type": "code",
      "metadata": {
        "colab": {
          "base_uri": "https://localhost:8080/"
        },
        "id": "wTxsSZxFGBB5",
        "outputId": "b632ee1d-90a1-4f86-abcb-7289317e5327"
      },
      "source": [
        "### ESTIMATED GP EI GRADIENTS\n",
        "\n",
        "np.random.seed(run_num_2)\n",
        "surrogate_approx_2 = GaussianProcess(cov_func, optimize=opt)\n",
        "\n",
        "approx_2 = GPGO_multi(surrogate_approx_2, Acquisition(util_grad_approx), objfunc, param)\n",
        "approx_2.run(init_evals=n_init, max_iter=iters)\n"
      ],
      "execution_count": null,
      "outputs": [
        {
          "output_type": "stream",
          "name": "stdout",
          "text": [
            "Evaluation \t Proposed point \t  Current eval. \t  Best eval. \t         Max AcqFunc.\n",
            "init\t [1.53992353 0.38889348]\t -22.31361308916297\t -6.692051508754487\t    \n",
            "init\t [3.24493717 6.52983589]\t -19.233109967858276\t -6.692051508754487\t    \n",
            "init\t [1.30551703 4.95502232]\t -13.177851563387286\t -6.692051508754487\t    \n",
            "init\t [-1.93027049  9.2890645 ]\t -6.692051508754487\t -6.692051508754487\t    \n",
            "init\t [-0.50517989  4.00240913]\t -26.437522758780958\t -6.692051508754487\t    \n",
            "1  \t [ 9.5587047  12.00387527]\t -89.09951357262268\t -6.692051508754487\t -6.692265018253458\n",
            "\u001b[1m\u001b[92m2\u001b[0m\t \u001b[1m\u001b[92m[9.59366035 1.69164323]\u001b[0m\t \u001b[1m\u001b[92m-1.3984593420568778\u001b[0m\t \u001b[1m\u001b[92m-1.3984593420568778\u001b[0m\t \u001b[1m\u001b[92m-6.692265018253287\u001b[0m\n",
            "3  \t [ 3.24245232 12.67669673]\t -110.25694222671481\t -1.3984593420568778\t -1.6845910263063124\n",
            "4  \t [-2.58600765 14.70719421]\t -15.7365426981614\t -1.3984593420568778\t -1.6845900558103417\n",
            "5  \t [-4.49504143  0.        ]\t -256.4427086609612\t -1.3984593420568778\t -1.6845899133907438\n",
            "6  \t [8.72620884 6.41279807]\t -22.574476808274685\t -1.3984593420568778\t -1.6845798588599756\n",
            "7  \t [-5.          5.78525844]\t -142.7316736205353\t -1.3984593420568778\t -1.6844556741644339\n",
            "8  \t [5.71566945 2.44844928]\t -19.852253109760213\t -1.3984593420568778\t -1.684080909432133\n",
            "9  \t [-5.        11.4314487]\t -45.854269790492026\t -1.3984593420568778\t -1.6807765967396797\n",
            "10 \t [6.05650625 9.35689748]\t -87.54236525649316\t -1.3984593420568778\t -1.6734604396454347\n",
            "11 \t [ 6.75314358 15.        ]\t -210.5639614396919\t -1.3984593420568778\t -1.6712786327024811\n",
            "12 \t [1.14328078 9.28747748]\t -38.36705639393699\t -1.3984593420568778\t -1.6296021546408777\n",
            "13 \t [8.03151679 0.        ]\t -10.708355018258597\t -1.3984593420568778\t -1.6217452906159053\n",
            "14 \t [-0.70354648 12.27084341]\t -43.20142528966331\t -1.3984593420568778\t -1.5726848700026754\n",
            "15 \t [ 0.7081645 15.       ]\t -118.5430961449081\t -1.3984593420568778\t -1.4125395506834193\n",
            "16 \t [4.54975606 0.        ]\t -10.498726734656668\t -1.3984593420568778\t -1.4119329580103699\n",
            "17 \t [10.          3.46866994]\t -2.1600295724950156\t -1.3984593420568778\t -1.5587681759090897\n",
            "18 \t [-1.38904352  6.8989095 ]\t -14.17257624568414\t -1.3984593420568778\t -1.3849242871851684\n",
            "19 \t [-5. 15.]\t -17.508299515778166\t -1.3984593420568778\t -1.368775692447477\n",
            "20 \t [5.93656489 5.40428625]\t -37.519306088706756\t -1.3984593420568778\t -1.3860254577372864\n"
          ]
        }
      ]
    },
    {
      "cell_type": "code",
      "metadata": {
        "colab": {
          "base_uri": "https://localhost:8080/"
        },
        "id": "-dgzIrUIGCGT",
        "outputId": "d43e24c4-f82f-4846-9ec1-95639f6171ff"
      },
      "source": [
        "### ESTIMATED GP EI GRADIENTS\n",
        "\n",
        "np.random.seed(run_num_3)\n",
        "surrogate_approx_3 = GaussianProcess(cov_func, optimize=opt)\n",
        "\n",
        "approx_3 = GPGO_multi(surrogate_approx_3, Acquisition(util_grad_approx), objfunc, param)\n",
        "approx_3.run(init_evals=n_init, max_iter=iters)\n"
      ],
      "execution_count": null,
      "outputs": [
        {
          "output_type": "stream",
          "name": "stdout",
          "text": [
            "Evaluation \t Proposed point \t  Current eval. \t  Best eval. \t         Max AcqFunc.\n",
            "init\t [ 3.26196854 10.62221734]\t -71.68783452098575\t -18.07886746449891\t    \n",
            "init\t [-0.63642892  7.66241408]\t -18.07886746449891\t -18.07886746449891\t    \n",
            "init\t [ 8.39420432 13.44439633]\t -141.98653529865882\t -18.07886746449891\t    \n",
            "init\t [-3.11622034  3.10864317]\t -83.31045707266176\t -18.07886746449891\t    \n",
            "init\t [-4.22799195  6.61214765]\t -76.5294170688398\t -18.07886746449891\t    \n",
            "1  \t [6.70472147 4.59545299]\t -30.726791812855225\t -18.07886746449891\t -18.07886746449891\n",
            "\u001b[1m\u001b[92m2\u001b[0m\t \u001b[1m\u001b[92m[-5. 15.]\u001b[0m\t \u001b[1m\u001b[92m-17.508299515778166\u001b[0m\t \u001b[1m\u001b[92m-17.508299515778166\u001b[0m\t \u001b[1m\u001b[92m-18.07886746449889\u001b[0m\n",
            "\u001b[1m\u001b[92m3\u001b[0m\t \u001b[1m\u001b[92m[2.64338273 0.68243899]\u001b[0m\t \u001b[1m\u001b[92m-5.61793909734835\u001b[0m\t \u001b[1m\u001b[92m-5.61793909734835\u001b[0m\t \u001b[1m\u001b[92m-17.508297473556393\u001b[0m\n",
            "4  \t [10.  0.]\t -10.960889035651505\t -5.61793909734835\t -5.619414322844939\n",
            "5  \t [ 0.17998475 15.        ]\t -105.6075359190613\t -5.61793909734835\t -5.619381712176309\n",
            "6  \t [10.          8.34452441]\t -30.47548723129985\t -5.61793909734835\t -5.619312555250814\n",
            "7  \t [-0.6195202  11.33294215]\t -36.28496106529289\t -5.61793909734835\t -5.619416024550889\n",
            "8  \t [2.26938134 4.6404652 ]\t -6.343070865972079\t -5.61793909734835\t -5.61618331391938\n",
            "9  \t [7.57758365 1.58614563]\t -12.672552824993334\t -5.61793909734835\t -5.619416066638421\n",
            "10 \t [ 4.41176105 15.        ]\t -189.5993337572472\t -5.61793909734835\t -5.603739975490857\n",
            "11 \t [-5.         10.94928083]\t -51.63738647866309\t -5.61793909734835\t -5.6135521496959555\n",
            "12 \t [6.32107058 8.30848876]\t -71.53747564569488\t -5.61793909734835\t -5.56465992716958\n",
            "13 \t [-0.6123765  0.       ]\t -67.18080245438213\t -5.61793909734835\t -5.593930583594668\n",
            "14 \t [5.15931459 0.        ]\t -15.656490333358033\t -5.61793909734835\t -5.432818096303938\n",
            "15 \t [-5.  0.]\t -308.12909601160663\t -5.61793909734835\t -5.561070182640164\n",
            "16 \t [2.73972846 7.1474401 ]\t -21.75793211969139\t -5.61793909734835\t -5.366440282735077\n",
            "17 \t [0.33295294 3.40287235]\t -23.407576601406916\t -5.61793909734835\t -5.234342458219445\n",
            "\u001b[1m\u001b[92m18\u001b[0m\t \u001b[1m\u001b[92m[10.          4.13412306]\u001b[0m\t \u001b[1m\u001b[92m-3.2226782045042226\u001b[0m\t \u001b[1m\u001b[92m-3.2226782045042226\u001b[0m\t \u001b[1m\u001b[92m-5.5431908764052995\u001b[0m\n",
            "19 \t [4.04093682 2.88625747]\t -5.485883084733999\t -3.2226782045042226\t -2.9096143185155854\n",
            "20 \t [10.          5.55785229]\t -8.470632640560195\t -3.2226782045042226\t -2.4130418904225803\n"
          ]
        }
      ]
    },
    {
      "cell_type": "code",
      "metadata": {
        "colab": {
          "base_uri": "https://localhost:8080/"
        },
        "id": "hOtG-2sCGCKS",
        "outputId": "d8b6f96c-064e-4506-f78a-e9165d8a44af"
      },
      "source": [
        "### ESTIMATED GP EI GRADIENTS\n",
        "\n",
        "np.random.seed(run_num_4)\n",
        "surrogate_approx_4 = GaussianProcess(cov_func, optimize=opt)\n",
        "\n",
        "approx_4 = GPGO_multi(surrogate_approx_4, Acquisition(util_grad_approx), objfunc, param)\n",
        "approx_4.run(init_evals=n_init, max_iter=iters)\n"
      ],
      "execution_count": null,
      "outputs": [
        {
          "output_type": "stream",
          "name": "stdout",
          "text": [
            "Evaluation \t Proposed point \t  Current eval. \t  Best eval. \t         Max AcqFunc.\n",
            "init\t [9.50544759 8.20848374]\t -32.51676744781521\t -7.247126865776948\t    \n",
            "init\t [ 9.5902654  10.72223991]\t -66.20566674364716\t -7.247126865776948\t    \n",
            "init\t [5.46593237 3.24134243]\t -20.90089401680587\t -7.247126865776948\t    \n",
            "init\t [9.64411682 0.09345383]\t -7.247126865776948\t -7.247126865776948\t    \n",
            "init\t [-1.20526456  6.52187299]\t -15.941376982363263\t -7.247126865776948\t    \n",
            "1  \t [ 1.25164457 13.57001383]\t -100.61648848019335\t -7.247126865776948\t -7.247197919961176\n",
            "2  \t [-4.27198795  1.64727177]\t -188.41076037632916\t -7.247126865776948\t -7.247197419457956\n",
            "3  \t [-4.64616955 10.91158353]\t -37.15561787434749\t -7.247126865776948\t -7.247196478927118\n",
            "4  \t [3.91058192 8.49899792]\t -48.62596349349736\t -7.247126865776948\t -7.247186004005792\n",
            "5  \t [1.24885867 0.        ]\t -30.7947923644144\t -7.247126865776948\t -7.24718456696917\n",
            "6  \t [ 6.50701313 15.        ]\t -212.19478521338414\t -7.247126865776948\t -7.2471496864849625\n",
            "\u001b[1m\u001b[92m7\u001b[0m\t \u001b[1m\u001b[92m[10.          3.97108673]\u001b[0m\t \u001b[1m\u001b[92m-2.880416591768265\u001b[0m\t \u001b[1m\u001b[92m-2.880416591768265\u001b[0m\t \u001b[1m\u001b[92m-7.243337841607212\u001b[0m\n",
            "8  \t [-3.31990507 15.        ]\t -5.805072083550521\t -2.880416591768265\t -2.9453383191085916\n",
            "9  \t [-5.          6.42145533]\t -128.62845715169294\t -2.880416591768265\t -2.9405935567247696\n",
            "10 \t [1.6771426  4.11195815]\t -9.155367054949293\t -2.880416591768265\t -2.933233613469529\n",
            "11 \t [6.17580219 0.        ]\t -20.75256528460809\t -2.880416591768265\t -2.900057526471507\n",
            "12 \t [-0.69485929 10.0207443 ]\t -25.512373007366193\t -2.880416591768265\t -2.915609038302825\n",
            "13 \t [ 5.92863452 11.19385605]\t -120.79083827251807\t -2.880416591768265\t -2.778048853432166\n",
            "14 \t [6.81377025 6.18201165]\t -43.57030196498702\t -2.880416591768265\t -2.8237794424935356\n",
            "15 \t [-0.81626202  3.03666396]\t -35.48668290693905\t -2.880416591768265\t -2.7265221210998494\n",
            "16 \t [10.         14.43200278]\t -132.56623708640421\t -2.880416591768265\t -2.7336354285330318\n",
            "17 \t [-2.17444297 12.90753941]\t -12.592246196660756\t -2.880416591768265\t -2.5227577956871508\n",
            "18 \t [1.46296063 6.6870728 ]\t -18.53534300557077\t -2.880416591768265\t -2.3918833321707615\n",
            "19 \t [8.46555222 2.51473077]\t -5.019798438142376\t -2.880416591768265\t -2.604496988025406\n",
            "\u001b[1m\u001b[92m20\u001b[0m\t \u001b[1m\u001b[92m[3.28261408 1.84553207]\u001b[0m\t \u001b[1m\u001b[92m-0.5969307952604961\u001b[0m\t \u001b[1m\u001b[92m-0.5969307952604961\u001b[0m\t \u001b[1m\u001b[92m-2.2054846290058845\u001b[0m\n"
          ]
        }
      ]
    },
    {
      "cell_type": "code",
      "metadata": {
        "colab": {
          "base_uri": "https://localhost:8080/"
        },
        "id": "JF_SxcEvGCOl",
        "outputId": "4d9faa2d-321d-49e8-abcb-c10875fdd6a5"
      },
      "source": [
        "### ESTIMATED GP EI GRADIENTS\n",
        "\n",
        "np.random.seed(run_num_5)\n",
        "surrogate_approx_5 = GaussianProcess(cov_func, optimize=opt)\n",
        "\n",
        "approx_5 = GPGO_multi(surrogate_approx_5, Acquisition(util_grad_approx), objfunc, param)\n",
        "approx_5.run(init_evals=n_init, max_iter=iters)\n"
      ],
      "execution_count": null,
      "outputs": [
        {
          "output_type": "stream",
          "name": "stdout",
          "text": [
            "Evaluation \t Proposed point \t  Current eval. \t  Best eval. \t         Max AcqFunc.\n",
            "init\t [-1.67010243 13.06098459]\t -25.390690545664548\t -25.311309190989615\t    \n",
            "init\t [-1.89921267 13.77916362]\t -25.311309190989615\t -25.311309190989615\t    \n",
            "init\t [2.32616783 9.17615794]\t -41.60147975414021\t -25.311309190989615\t    \n",
            "init\t [6.48861785 7.77626982]\t -63.81281921768236\t -25.311309190989615\t    \n",
            "init\t [-0.54799248  2.81581843]\t -34.966203644931994\t -25.311309190989615\t    \n",
            "\u001b[1m\u001b[92m1\u001b[0m\t \u001b[1m\u001b[92m[8.84124421 0.03321319]\u001b[0m\t \u001b[1m\u001b[92m-5.96108856337545\u001b[0m\t \u001b[1m\u001b[92m-5.96108856337545\u001b[0m\t \u001b[1m\u001b[92m-25.311309190989423\u001b[0m\n",
            "2  \t [ 8.39476442 14.47736321]\t -167.21523769473345\t -5.96108856337545\t -5.961907109366957\n",
            "3  \t [-4.1375067   7.24495487]\t -61.80559119709111\t -5.96108856337545\t -5.961905558672704\n",
            "4  \t [-5.  0.]\t -308.12909601160663\t -5.96108856337545\t -5.961890653984154\n",
            "5  \t [3.90218642 0.        ]\t -6.129536698755416\t -5.96108856337545\t -5.961875513211085\n",
            "6  \t [ 3.02991629 15.        ]\t -160.13370433331355\t -5.96108856337545\t -5.961819911480742\n",
            "\u001b[1m\u001b[92m7\u001b[0m\t \u001b[1m\u001b[92m[10.          4.33727189]\u001b[0m\t \u001b[1m\u001b[92m-3.7235379387315213\u001b[0m\t \u001b[1m\u001b[92m-3.7235379387315213\u001b[0m\t \u001b[1m\u001b[92m-5.961581724982809\u001b[0m\n",
            "8  \t [3.79901168 4.09238222]\t -7.571417350626666\t -3.7235379387315213\t -3.745713168817344\n",
            "9  \t [10.         10.16742432]\t -53.27273830690392\t -3.7235379387315213\t -3.742149841107925\n",
            "10 \t [-5.         11.30921636]\t -47.27632748230095\t -3.7235379387315213\t -3.731617605519756\n",
            "11 \t [6.99654901 2.92350038]\t -20.271190207203475\t -3.7235379387315213\t -3.7208676468789315\n",
            "12 \t [ 5.43141243 11.54548469]\t -124.04541507492719\t -3.7235379387315213\t -3.6985978379145603\n",
            "13 \t [-0.26129675  6.51666726]\t -19.284636974616127\t -3.7235379387315213\t -3.6975262048364335\n",
            "14 \t [-5. 15.]\t -17.508299515778166\t -3.7235379387315213\t -3.683003043976841\n",
            "15 \t [-4.11496268  3.81345454]\t -123.91457314695006\t -3.7235379387315213\t -3.577472535311025\n",
            "16 \t [-1.31455742  9.78774965]\t -14.601347505958943\t -3.7235379387315213\t -3.628547863069249\n",
            "17 \t [1.04593508 0.        ]\t -34.85210629954422\t -3.7235379387315213\t -3.608032061830193\n",
            "18 \t [10.        6.700702]\t -15.616461696880918\t -3.7235379387315213\t -3.539644637323188\n",
            "\u001b[1m\u001b[92m19\u001b[0m\t \u001b[1m\u001b[92m[10.          2.10875813]\u001b[0m\t \u001b[1m\u001b[92m-2.7427315707408138\u001b[0m\t \u001b[1m\u001b[92m-2.7427315707408138\u001b[0m\t \u001b[1m\u001b[92m-3.3729852694192193\u001b[0m\n",
            "20 \t [6.31678856 0.        ]\t -20.809367473466104\t -2.7427315707408138\t -2.46916411169857\n"
          ]
        }
      ]
    },
    {
      "cell_type": "code",
      "metadata": {
        "colab": {
          "base_uri": "https://localhost:8080/"
        },
        "id": "-kDxZtJsGCR3",
        "outputId": "8ec9ca94-5d3e-445e-d015-d247eec14b50"
      },
      "source": [
        "### ESTIMATED GP EI GRADIENTS\n",
        "\n",
        "np.random.seed(run_num_6)\n",
        "surrogate_approx_6 = GaussianProcess(cov_func, optimize=opt)\n",
        "\n",
        "approx_6 = GPGO_multi(surrogate_approx_6, Acquisition(util_grad_approx), objfunc, param)\n",
        "approx_6.run(init_evals=n_init, max_iter=iters)\n"
      ],
      "execution_count": null,
      "outputs": [
        {
          "output_type": "stream",
          "name": "stdout",
          "text": [
            "Evaluation \t Proposed point \t  Current eval. \t  Best eval. \t         Max AcqFunc.\n",
            "init\t [8.39290227 4.97969708]\t -15.553860636684597\t -15.31731051317483\t    \n",
            "init\t [7.31843685 0.62544939]\t -15.31731051317483\t -15.31731051317483\t    \n",
            "init\t [-3.3851498   8.92578096]\t -16.222288919361837\t -15.31731051317483\t    \n",
            "init\t [2.94726043 6.28211143]\t -15.406373581304088\t -15.31731051317483\t    \n",
            "init\t [0.03111774 9.33779148]\t -31.07053245856209\t -15.31731051317483\t    \n",
            "1  \t [ 9.64829531 12.55362889]\t -98.32295673962142\t -15.31731051317483\t -15.317310513173595\n",
            "2  \t [-1.22578785  0.62063252]\t -69.8637190838968\t -15.31731051317483\t -15.317310513035173\n",
            "3  \t [ 4.11366045 15.        ]\t -183.10484285176852\t -15.31731051317483\t -15.317309962767201\n",
            "\u001b[1m\u001b[92m4\u001b[0m\t \u001b[1m\u001b[92m[-2.67102288 14.57040418]\u001b[0m\t \u001b[1m\u001b[92m-12.985837564809705\u001b[0m\t \u001b[1m\u001b[92m-12.985837564809705\u001b[0m\t \u001b[1m\u001b[92m-15.317309291701916\u001b[0m\n",
            "5  \t [-5.          4.21652744]\t -180.96625047114895\t -12.985837564809705\t -12.985760115193642\n",
            "6  \t [5.44161514 9.98674416]\t -94.22618159524357\t -12.985837564809705\t -12.985078310876192\n",
            "\u001b[1m\u001b[92m7\u001b[0m\t \u001b[1m\u001b[92m[3.23829123 1.87841978]\u001b[0m\t \u001b[1m\u001b[92m-0.5466720813438801\u001b[0m\t \u001b[1m\u001b[92m-0.5466720813438801\u001b[0m\t \u001b[1m\u001b[92m-12.983790269314548\u001b[0m\n",
            "8  \t [-0.62172683  5.00167712]\t -21.957802621502644\t -0.5466720813438801\t -1.0926656197952194\n",
            "9  \t [ 0.18638758 12.6865283 ]\t -68.1378550124482\t -0.5466720813438801\t -1.100842504664974\n",
            "10 \t [-4.20706945  1.10361979]\t -197.96816215926566\t -0.5466720813438801\t -1.1008417891785025\n",
            "11 \t [10.          8.32702435]\t -30.288837963361466\t -0.5466720813438801\t -1.0921378330617006\n",
            "12 \t [-5.         12.07958097]\t -38.81316164459623\t -0.5466720813438801\t -1.0800033712282993\n",
            "13 \t [6.26632849 6.91792795]\t -53.454850655596886\t -0.5466720813438801\t -1.1008425124484054\n",
            "14 \t [3.02686411 0.        ]\t -6.059785023352496\t -0.5466720813438801\t -1.0682149687278693\n",
            "15 \t [4.71316894 3.12038684]\t -13.076742620634098\t -0.5466720813438801\t -1.0753779222265434\n",
            "16 \t [1.87432836 2.59213251]\t -7.901972801675008\t -0.5466720813438801\t -1.0457461398663939\n",
            "17 \t [10.          2.12957978]\t -2.705927742479105\t -0.5466720813438801\t -1.038931231208157\n",
            "18 \t [10.  0.]\t -10.960889035651505\t -0.5466720813438801\t -0.9221100492716823\n",
            "19 \t [-5. 15.]\t -17.508299515778166\t -0.5466720813438801\t -0.7416190735981875\n",
            "20 \t [ 7.63500408 15.        ]\t -197.61471003599442\t -0.5466720813438801\t -0.815934081938499\n"
          ]
        }
      ]
    },
    {
      "cell_type": "code",
      "metadata": {
        "colab": {
          "base_uri": "https://localhost:8080/"
        },
        "id": "fKB8MCD_GCVI",
        "outputId": "5ad8eab2-1a5c-4b6a-aa49-38e9808e7923"
      },
      "source": [
        "### ESTIMATED GP EI GRADIENTS\n",
        "\n",
        "np.random.seed(run_num_7)\n",
        "surrogate_approx_7 = GaussianProcess(cov_func, optimize=opt)\n",
        "\n",
        "approx_7 = GPGO_multi(surrogate_approx_7, Acquisition(util_grad_approx), objfunc, param)\n",
        "approx_7.run(init_evals=n_init, max_iter=iters)\n"
      ],
      "execution_count": null,
      "outputs": [
        {
          "output_type": "stream",
          "name": "stdout",
          "text": [
            "Evaluation \t Proposed point \t  Current eval. \t  Best eval. \t         Max AcqFunc.\n",
            "init\t [-3.85537566 11.69878188]\t -8.299317850233932\t -5.211335324193094\t    \n",
            "init\t [ 1.57613847 10.85197767]\t -59.50408380701259\t -5.211335324193094\t    \n",
            "init\t [9.66984268 8.07743806]\t -29.714921414987273\t -5.211335324193094\t    \n",
            "init\t [2.51680695 1.080767  ]\t -5.211335324193094\t -5.211335324193094\t    \n",
            "init\t [-0.9734153   7.49823751]\t -15.431057204948033\t -5.211335324193094\t    \n",
            "1  \t [-4.97859679  1.38393519]\t -260.3293952774437\t -5.211335324193094\t -5.214210686386747\n",
            "2  \t [ 7.42679792 14.12713902]\t -178.37635728719692\t -5.211335324193094\t -5.214210667774886\n",
            "3  \t [8.08940775 0.35854539]\t -9.249625108410735\t -5.211335324193094\t -5.214210325480218\n",
            "4  \t [-3.39684884  5.54228873]\t -54.79871094423047\t -5.211335324193094\t -5.214210686386747\n",
            "5  \t [4.51732395 5.9162821 ]\t -28.11667541280732\t -5.211335324193094\t -5.214202666178672\n",
            "6  \t [-0.88572207 15.        ]\t -72.16042862566053\t -5.211335324193094\t -5.213732108345437\n",
            "\u001b[1m\u001b[92m7\u001b[0m\t \u001b[1m\u001b[92m[10.          3.80987463]\u001b[0m\t \u001b[1m\u001b[92m-2.5942573673950236\u001b[0m\t \u001b[1m\u001b[92m-2.5942573673950236\u001b[0m\t \u001b[1m\u001b[92m-5.210733434817799\u001b[0m\n",
            "8  \t [-0.72252981  0.        ]\t -69.29349425122417\t -2.5942573673950236\t -2.673715169992065\n",
            "9  \t [5.84045419 9.85064389]\t -95.05369772211168\t -2.5942573673950236\t -2.6774761778091842\n",
            "10 \t [-5. 15.]\t -17.508299515778166\t -2.5942573673950236\t -2.670645167742564\n",
            "11 \t [0.78912338 4.13023892]\t -17.246399917453434\t -2.5942573673950236\t -2.6700566672193142\n",
            "12 \t [ 3.21225979 15.        ]\t -163.73658617920353\t -2.5942573673950236\t -2.669597141828149\n",
            "13 \t [5.50145388 2.38029097]\t -18.31820709652833\t -2.5942573673950236\t -2.6403868753216857\n",
            "14 \t [-5.          8.85128977]\t -82.21382120782134\t -2.5942573673950236\t -2.622937552781247\n",
            "15 \t [10.         11.37766485]\t -72.07887890189804\t -2.5942573673950236\t -2.562522129034164\n",
            "16 \t [2.06474205 7.6947456 ]\t -25.073836215937806\t -2.5942573673950236\t -2.685869839722369\n",
            "17 \t [7.82549883 5.04482723]\t -23.150350152588466\t -2.5942573673950236\t -2.5585370615587126\n",
            "18 \t [10.          1.89640065]\t -3.1676067448329395\t -2.5942573673950236\t -2.3285091546297014\n",
            "19 \t [-1.66593206 10.49654567]\t -11.297861460450989\t -2.5942573673950236\t -2.307410131403561\n",
            "20 \t [4.56570144 0.        ]\t -10.63113217009842\t -2.5942573673950236\t -2.2226318724709033\n"
          ]
        }
      ]
    },
    {
      "cell_type": "code",
      "metadata": {
        "colab": {
          "base_uri": "https://localhost:8080/"
        },
        "id": "4unvifF-GCXp",
        "outputId": "9388b0c2-5e88-4f8b-918a-791b7a81f992"
      },
      "source": [
        "### ESTIMATED GP EI GRADIENTS\n",
        "\n",
        "np.random.seed(run_num_8)\n",
        "surrogate_approx_8 = GaussianProcess(cov_func, optimize=opt)\n",
        "\n",
        "approx_8 = GPGO_multi(surrogate_approx_8, Acquisition(util_grad_approx), objfunc, param)\n",
        "approx_8.run(init_evals=n_init, max_iter=iters)\n"
      ],
      "execution_count": null,
      "outputs": [
        {
          "output_type": "stream",
          "name": "stdout",
          "text": [
            "Evaluation \t Proposed point \t  Current eval. \t  Best eval. \t         Max AcqFunc.\n",
            "init\t [ 8.10144104 14.52810994]\t -175.17297136347514\t -15.416245468470875\t    \n",
            "init\t [8.0379181  7.96283537]\t -49.32173799887473\t -15.416245468470875\t    \n",
            "init\t [-1.50907508  0.17098206]\t -83.26753461673219\t -15.416245468470875\t    \n",
            "init\t [1.45703227 6.0352704 ]\t -15.416245468470875\t -15.416245468470875\t    \n",
            "init\t [2.84012007 7.17587694]\t -22.49093277852639\t -15.416245468470875\t    \n",
            "\u001b[1m\u001b[92m1\u001b[0m\t \u001b[1m\u001b[92m[9.77124156 0.43098073]\u001b[0m\t \u001b[1m\u001b[92m-6.499298445992174\u001b[0m\t \u001b[1m\u001b[92m-6.499298445992174\u001b[0m\t \u001b[1m\u001b[92m-15.416245468468238\u001b[0m\n",
            "2  \t [-4.87537438 11.82874897]\t -36.57081146531108\t -6.499298445992174\t -6.499606284903054\n",
            "3  \t [ 1.38217397 12.68390036]\t -86.39656029252868\t -6.499298445992174\t -6.499605297388829\n",
            "4  \t [-5.          4.93391962]\t -162.87055456893222\t -6.499298445992174\t -6.499605167037432\n",
            "5  \t [4.40861409 1.05852811]\t -7.31765987324756\t -6.499298445992174\t -6.499603688598693\n",
            "6  \t [-1.71652812  8.75489851]\t -8.733549018250445\t -6.499298445992174\t -6.496928763576848\n",
            "7  \t [7.44443989 3.63168661]\t -19.208249510441597\t -6.499298445992174\t -6.495237659384853\n",
            "8  \t [-2.31794502 15.        ]\t -24.78958580784696\t -6.499298445992174\t -6.491914912706963\n",
            "9  \t [ 5.24257988 10.95530353]\t -109.88976922971293\t -6.499298445992174\t -6.485396961190265\n",
            "10 \t [1.57901932 2.64184397]\t -11.28331624410728\t -6.499298445992174\t -6.442866546794955\n",
            "11 \t [10.         11.01206569]\t -66.08896898846461\t -6.499298445992174\t -6.434679669928116\n",
            "12 \t [-5.          0.69200689]\t -284.82042660907314\t -6.499298445992174\t -6.40750852003569\n",
            "13 \t [ 4.19622124 15.        ]\t -184.92211986909842\t -6.499298445992174\t -6.396170244357379\n",
            "14 \t [-1.21462183  4.2047337 ]\t -28.706607118223992\t -6.499298445992174\t -6.370919349273834\n",
            "15 \t [7.00733384 0.        ]\t -18.61058422695992\t -6.499298445992174\t -6.3517801234078535\n",
            "\u001b[1m\u001b[92m16\u001b[0m\t \u001b[1m\u001b[92m[10.          5.12129089]\u001b[0m\t \u001b[1m\u001b[92m-6.430480819418818\u001b[0m\t \u001b[1m\u001b[92m-6.430480819418818\u001b[0m\t \u001b[1m\u001b[92m-6.315453879662619\u001b[0m\n",
            "17 \t [4.36260084 4.23898339]\t -14.127374070882226\t -6.430480819418818\t -6.243238391057329\n",
            "18 \t [-5.          8.61786583]\t -86.15998458923983\t -6.430480819418818\t -6.214593682148982\n",
            "19 \t [2.07728776 0.        ]\t -15.91311716170723\t -6.430480819418818\t -6.082421668439666\n",
            "20 \t [-1.77438952 11.47621292]\t -13.100608555198807\t -6.430480819418818\t -6.018633107580503\n"
          ]
        }
      ]
    },
    {
      "cell_type": "code",
      "metadata": {
        "colab": {
          "base_uri": "https://localhost:8080/"
        },
        "id": "85OIXcg7GCaJ",
        "outputId": "ba9ba8e4-0201-48d9-8225-f294b55653db"
      },
      "source": [
        "### ESTIMATED GP EI GRADIENTS\n",
        "\n",
        "np.random.seed(run_num_9)\n",
        "surrogate_approx_9 = GaussianProcess(cov_func, optimize=opt)\n",
        "\n",
        "approx_9 = GPGO_multi(surrogate_approx_9, Acquisition(util_grad_approx), objfunc, param)\n",
        "approx_9.run(init_evals=n_init, max_iter=iters)\n"
      ],
      "execution_count": null,
      "outputs": [
        {
          "output_type": "stream",
          "name": "stdout",
          "text": [
            "Evaluation \t Proposed point \t  Current eval. \t  Best eval. \t         Max AcqFunc.\n",
            "init\t [-4.84438769  7.52811888]\t -96.15564306553264\t -3.4640248583909496\t    \n",
            "init\t [2.4365994  2.00744293]\t -3.4640248583909496\t -3.4640248583909496\t    \n",
            "init\t [-2.86833372  3.27838013]\t -70.46930174488207\t -3.4640248583909496\t    \n",
            "init\t [1.27762271 3.72151753]\t -12.982825924833865\t -3.4640248583909496\t    \n",
            "init\t [-3.73910523  5.1824796 ]\t -75.58547400560856\t -3.4640248583909496\t    \n",
            "1  \t [ 7.05609655 14.75038872]\t -200.4388688685465\t -3.4640248583909496\t -3.497841812837074\n",
            "2  \t [-0.46054038 14.56197292]\t -79.4666617606301\t -3.4640248583909496\t -3.497841812786204\n",
            "3  \t [8.28747407 1.2035024 ]\t -6.196385269800155\t -3.4640248583909496\t -3.497841778185636\n",
            "4  \t [7.59766367 8.71517487]\t -66.45862359135464\t -3.4640248583909496\t -3.4978407908017397\n",
            "5  \t [1.7566144  9.14390932]\t -38.92895201137776\t -3.4640248583909496\t -3.4978370358354542\n",
            "6  \t [-5.         12.67604545]\t -33.075714196778804\t -3.4640248583909496\t -3.4975471328214773\n",
            "7  \t [5.6715956  4.46939079]\t -29.020791324624987\t -3.4640248583909496\t -3.4961334919429983\n",
            "8  \t [10.          4.83921666]\t -5.314991639338838\t -3.4640248583909496\t -3.494837186877036\n",
            "9  \t [-0.29844056  0.        ]\t -61.25220138073153\t -3.4640248583909496\t -3.4865531284038433\n",
            "10 \t [4.94290599 0.        ]\t -13.856446411957034\t -3.4640248583909496\t -3.48474795694657\n",
            "11 \t [-5.  0.]\t -308.12909601160663\t -3.4640248583909496\t -3.4821192072800984\n",
            "12 \t [ 3.28041318 12.7405342 ]\t -112.2427528096596\t -3.4640248583909496\t -3.471933674463358\n",
            "13 \t [-1.83312104 10.47599408]\t -8.774167662983132\t -3.4640248583909496\t -3.4664239463641495\n",
            "14 \t [10.         11.79676827]\t -79.27426430618615\t -3.4640248583909496\t -3.4663810968331363\n",
            "15 \t [-0.38238812  6.54075384]\t -18.916132718066905\t -3.4640248583909496\t -3.3485438707621755\n",
            "16 \t [3.14021017 6.24893705]\t -16.181502476075273\t -3.4640248583909496\t -3.213944199086363\n",
            "17 \t [-3.69765715 15.        ]\t -3.663539723051577\t -3.4640248583909496\t -2.8703984157234372\n",
            "18 \t [4.66715822 9.53562414]\t -75.98333160149208\t -3.4640248583909496\t -2.8206986601247825\n",
            "\u001b[1m\u001b[92m19\u001b[0m\t \u001b[1m\u001b[92m[10.          2.49597923]\u001b[0m\t \u001b[1m\u001b[92m-2.2001667247670733\u001b[0m\t \u001b[1m\u001b[92m-2.2001667247670733\u001b[0m\t \u001b[1m\u001b[92m-3.0431681863332525\u001b[0m\n",
            "20 \t [10.  0.]\t -10.960889035651505\t -2.2001667247670733\t -2.017091676571625\n"
          ]
        }
      ]
    },
    {
      "cell_type": "code",
      "metadata": {
        "colab": {
          "base_uri": "https://localhost:8080/"
        },
        "id": "QQBR-qJPGCcp",
        "outputId": "27325cfb-2046-4320-ab20-9ec04475595b"
      },
      "source": [
        "### ESTIMATED GP EI GRADIENTS\n",
        "\n",
        "np.random.seed(run_num_10)\n",
        "surrogate_approx_10 = GaussianProcess(cov_func, optimize=opt)\n",
        "\n",
        "approx_10 = GPGO_multi(surrogate_approx_10, Acquisition(util_grad_approx), objfunc, param)\n",
        "approx_10.run(init_evals=n_init, max_iter=iters)\n"
      ],
      "execution_count": null,
      "outputs": [
        {
          "output_type": "stream",
          "name": "stdout",
          "text": [
            "Evaluation \t Proposed point \t  Current eval. \t  Best eval. \t         Max AcqFunc.\n",
            "init\t [6.56980965 0.31127924]\t -19.863985024602144\t -2.710610964564512\t    \n",
            "init\t [ 4.50472352 11.23205824]\t -103.66999147252169\t -2.710610964564512\t    \n",
            "init\t [2.47760518 3.37194968]\t -2.710610964564512\t -2.710610964564512\t    \n",
            "init\t [-2.02905703 11.40796068]\t -8.463930835255017\t -2.710610964564512\t    \n",
            "init\t [-2.46333745  1.32509721]\t -90.49481266026973\t -2.710610964564512\t    \n",
            "1  \t [ 9.16391068 14.81438212]\t -158.2412724465548\t -2.710610964564512\t -2.791471430738491\n",
            "2  \t [9.65621089 6.61160737]\t -16.1339423373336\t -2.710610964564512\t -2.7914714307386808\n",
            "3  \t [-3.43070383  6.59407857]\t -41.58407101130534\t -2.710610964564512\t -2.7914714299486034\n",
            "4  \t [ 1.02035341 14.99535798]\t -124.9536450431274\t -2.710610964564512\t -2.7914700597668034\n",
            "5  \t [-5. 15.]\t -17.508299515778166\t -2.710610964564512\t -2.7913968385276107\n",
            "6  \t [1.30780413 7.43219275]\t -23.337991150801543\t -2.710610964564512\t -2.7909151225523625\n",
            "7  \t [5.49093122 5.84042701]\t -38.68811650814126\t -2.710610964564512\t -2.7894200858337417\n",
            "\u001b[1m\u001b[92m8\u001b[0m\t \u001b[1m\u001b[92m[10.          2.46597601]\u001b[0m\t \u001b[1m\u001b[92m-2.231488818914995\u001b[0m\t \u001b[1m\u001b[92m-2.231488818914995\u001b[0m\t \u001b[1m\u001b[92m-2.787706325843337\u001b[0m\n",
            "9  \t [2.04111876 0.        ]\t -16.470455397565193\t -2.231488818914995\t -2.359964578131765\n",
            "10 \t [10.         10.45460054]\t -57.47013801881628\t -2.231488818914995\t -2.356799014253151\n",
            "11 \t [-5.        10.2216782]\t -61.24447755397524\t -2.231488818914995\t -2.3351643144164314\n",
            "12 \t [ 5.10264432 15.        ]\t -202.92268481211326\t -2.231488818914995\t -2.3029810038022607\n",
            "13 \t [10.  0.]\t -10.960889035651505\t -2.231488818914995\t -2.295647469077761\n",
            "14 \t [7.93015863 3.43719645]\t -13.010980053200225\t -2.231488818914995\t -2.218024726365339\n",
            "15 \t [-0.21628305  4.37593836]\t -23.276379561636418\t -2.231488818914995\t -2.277955037870875\n",
            "16 \t [ 0.7797076  10.84479158]\t -52.914671893827474\t -2.231488818914995\t -2.2304392872363064\n",
            "17 \t [-5.          3.69149372]\t -194.86215988066468\t -2.231488818914995\t -2.193040001649522\n",
            "18 \t [7.08418742 8.68903157]\t -72.64306781287263\t -2.231488818914995\t -2.1196885353044266\n",
            "19 \t [4.46433419 2.50729164]\t -8.719564915286353\t -2.231488818914995\t -2.1178620163699966\n",
            "20 \t [-2.37315703 14.07597967]\t -15.851219314186924\t -2.231488818914995\t -2.0123524880020405\n"
          ]
        }
      ]
    },
    {
      "cell_type": "code",
      "metadata": {
        "colab": {
          "base_uri": "https://localhost:8080/"
        },
        "id": "JS8ejeQ2GCfi",
        "outputId": "48b42908-0923-4205-ace9-6ea49884a2d3"
      },
      "source": [
        "### ESTIMATED GP EI GRADIENTS\n",
        "\n",
        "np.random.seed(run_num_11)\n",
        "surrogate_approx_11 = GaussianProcess(cov_func, optimize=opt)\n",
        "\n",
        "approx_11 = GPGO_multi(surrogate_approx_11, Acquisition(util_grad_approx), objfunc, param)\n",
        "approx_11.run(init_evals=n_init, max_iter=iters)\n"
      ],
      "execution_count": null,
      "outputs": [
        {
          "output_type": "stream",
          "name": "stdout",
          "text": [
            "Evaluation \t Proposed point \t  Current eval. \t  Best eval. \t         Max AcqFunc.\n",
            "init\t [-2.29595467  0.29212862]\t -104.49282729548965\t -22.37435843952312\t    \n",
            "init\t [ 1.9482779  10.87400894]\t -62.47758067812407\t -22.37435843952312\t    \n",
            "init\t [1.30305407 7.28140647]\t -22.37435843952312\t -22.37435843952312\t    \n",
            "init\t [-4.80828778  7.31057411]\t -97.94503054415523\t -22.37435843952312\t    \n",
            "init\t [ 9.12709979 12.76192634]\t -111.62900800771942\t -22.37435843952312\t    \n",
            "\u001b[1m\u001b[92m1\u001b[0m\t \u001b[1m\u001b[92m[6.94653631 0.95529646]\u001b[0m\t \u001b[1m\u001b[92m-17.615403152614682\u001b[0m\t \u001b[1m\u001b[92m-17.615403152614682\u001b[0m\t \u001b[1m\u001b[92m-22.374358439523117\u001b[0m\n",
            "\u001b[1m\u001b[92m2\u001b[0m\t \u001b[1m\u001b[92m[9.97678471 6.82121545]\u001b[0m\t \u001b[1m\u001b[92m-16.579038540907792\u001b[0m\t \u001b[1m\u001b[92m-16.579038540907792\u001b[0m\t \u001b[1m\u001b[92m-17.61540230548113\u001b[0m\n",
            "3  \t [-5. 15.]\t -17.508299515778166\t -16.579038540907792\t -16.579038540900623\n",
            "\u001b[1m\u001b[92m4\u001b[0m\t \u001b[1m\u001b[92m[2.40801211 2.48954713]\u001b[0m\t \u001b[1m\u001b[92m-3.0501065715386115\u001b[0m\t \u001b[1m\u001b[92m-3.0501065715386115\u001b[0m\t \u001b[1m\u001b[92m-16.57881131494394\u001b[0m\n",
            "5  \t [ 4.54063383 15.        ]\t -192.31928470506705\t -3.0501065715386115\t -3.1051332600016575\n",
            "6  \t [5.60829233 5.53294288]\t -36.818240138919066\t -3.0501065715386115\t -3.104817889574634\n",
            "7  \t [-0.54301243 15.        ]\t -83.79328251020428\t -3.0501065715386115\t -3.1045707130907125\n",
            "\u001b[1m\u001b[92m8\u001b[0m\t \u001b[1m\u001b[92m[-2.80957044 11.2273694 ]\u001b[0m\t \u001b[1m\u001b[92m-0.9919713297704416\u001b[0m\t \u001b[1m\u001b[92m-0.9919713297704416\u001b[0m\t \u001b[1m\u001b[92m-3.099173728830698\u001b[0m\n",
            "9  \t [6.09870151 9.61836414]\t -92.02684423832945\t -0.9919713297704416\t -1.3827172755572645\n",
            "10 \t [-1.43281976  4.48387966]\t -27.818366597287486\t -0.9919713297704416\t -1.3804394758031127\n",
            "11 \t [10.         2.9958019]\t -1.9431918527124044\t -0.9919713297704416\t -1.379076942797448\n",
            "12 \t [-5.          3.20441038]\t -208.24663303007068\t -0.9919713297704416\t -1.3622430083180093\n",
            "13 \t [-5.         11.41906722]\t -45.99695648762939\t -0.9919713297704416\t -1.3423543374030666\n",
            "14 \t [-1.76668482 10.91122842]\t -11.008342871804992\t -0.9919713297704416\t -1.468466730782029\n",
            "15 \t [1.90746793 0.        ]\t -18.621695435354905\t -0.9919713297704416\t -1.3434350481634865\n",
            "16 \t [8.39619605 3.93970529]\t -9.865911094243035\t -0.9919713297704416\t -1.1566568066921967\n",
            "17 \t [2.32166868 4.45364636]\t -5.558090269747934\t -0.9919713297704416\t -1.1422576976891157\n",
            "18 \t [10.  0.]\t -10.960889035651505\t -0.9919713297704416\t -1.3494218330837855\n",
            "19 \t [4.43285557 2.32459254]\t -8.058323368751235\t -0.9919713297704416\t -1.1263895894949125\n",
            "20 \t [-1.46950383  8.12551521]\t -11.21325903921389\t -0.9919713297704416\t -1.10818593265778\n"
          ]
        }
      ]
    },
    {
      "cell_type": "code",
      "metadata": {
        "colab": {
          "base_uri": "https://localhost:8080/"
        },
        "id": "DXwjUVZ4GCii",
        "outputId": "66e16d42-a127-4277-98dc-23b81531cd0f"
      },
      "source": [
        "### ESTIMATED GP EI GRADIENTS\n",
        "\n",
        "np.random.seed(run_num_12)\n",
        "surrogate_approx_12 = GaussianProcess(cov_func, optimize=opt)\n",
        "\n",
        "approx_12 = GPGO_multi(surrogate_approx_12, Acquisition(util_grad_approx), objfunc, param)\n",
        "approx_12.run(init_evals=n_init, max_iter=iters)\n"
      ],
      "execution_count": null,
      "outputs": [
        {
          "output_type": "stream",
          "name": "stdout",
          "text": [
            "Evaluation \t Proposed point \t  Current eval. \t  Best eval. \t         Max AcqFunc.\n",
            "init\t [-2.68755736 11.10074545]\t -1.3827702760021356\t -0.5499315281120278\t    \n",
            "init\t [-1.05027477  8.0060909 ]\t -14.81231853080056\t -0.5499315281120278\t    \n",
            "init\t [-4.78137556 13.78120512]\t -18.401131000214548\t -0.5499315281120278\t    \n",
            "init\t [8.51072281 0.50132141]\t -5.855172364344769\t -0.5499315281120278\t    \n",
            "init\t [9.35424004 2.05813982]\t -0.5499315281120278\t -0.5499315281120278\t    \n",
            "1  \t [10.          4.42358818]\t -3.961334736212157\t -0.5499315281120278\t -1.1032404828178666\n",
            "2  \t [ 8.50155249 13.79797306]\t -148.00655208378976\t -0.5499315281120278\t -1.1028243072455346\n",
            "3  \t [-4.8799499   0.15657603]\t -290.0404981832191\t -0.5499315281120278\t -1.1028243072455344\n",
            "4  \t [5.8072579  8.50643036]\t -73.18138418395506\t -0.5499315281120278\t -1.102823270130409\n",
            "5  \t [3.15872501 0.57007156]\t -3.260825771053282\t -0.5499315281120278\t -1.102823233580366\n",
            "6  \t [ 2.09353067 13.04151801]\t -101.38880726759464\t -0.5499315281120278\t -1.1028227224425953\n",
            "7  \t [-0.39739099  3.26076787]\t -30.360201441190632\t -0.5499315281120278\t -1.1026988159159876\n",
            "8  \t [-5.          5.57846335]\t -147.49023489716123\t -0.5499315281120278\t -1.1026753599426307\n",
            "9  \t [5.63198767 3.7574501 ]\t -24.519330968769474\t -0.5499315281120278\t -1.1020574720939798\n",
            "10 \t [10.          9.22666529]\t -40.67769045368744\t -0.5499315281120278\t -1.0997743208598347\n",
            "11 \t [2.33249269 6.17942604]\t -13.542007958408659\t -0.5499315281120278\t -1.0916683122893258\n",
            "12 \t [-5.          9.81773565]\t -67.03511757277587\t -0.5499315281120278\t -1.0824188032714042\n",
            "13 \t [0.04257559 0.        ]\t -54.78764729813571\t -0.5499315281120278\t -1.0552266387337228\n",
            "14 \t [-1.42833987 15.        ]\t -53.13582875984533\t -0.5499315281120278\t -1.0840827432459257\n",
            "15 \t [5.68854383 0.        ]\t -19.223473005997743\t -0.5499315281120278\t -1.0357286667547592\n",
            "16 \t [1.99809569 9.33384776]\t -41.99868476630496\t -0.5499315281120278\t -1.017122061899349\n",
            "17 \t [ 5.02533726 15.        ]\t -201.62410335127532\t -0.5499315281120278\t -0.9926422050290312\n",
            "18 \t [-1.26036629 11.29154006]\t -22.421955741954744\t -0.5499315281120278\t -0.9829813297435066\n",
            "19 \t [2.71294659 2.89309373]\t -1.3342354517687625\t -0.5499315281120278\t -0.898001483490493\n",
            "20 \t [8.27249777 6.0024287 ]\t -24.828169912502993\t -0.5499315281120278\t -0.9508986229209018\n"
          ]
        }
      ]
    },
    {
      "cell_type": "code",
      "metadata": {
        "colab": {
          "base_uri": "https://localhost:8080/"
        },
        "id": "CphOPndPGClX",
        "outputId": "861e52cf-0de7-465d-fd7e-212d2fea8d03"
      },
      "source": [
        "### ESTIMATED GP EI GRADIENTS\n",
        "\n",
        "np.random.seed(run_num_13)\n",
        "surrogate_approx_13 = GaussianProcess(cov_func, optimize=opt)\n",
        "\n",
        "approx_13 = GPGO_multi(surrogate_approx_13, Acquisition(util_grad_approx), objfunc, param)\n",
        "approx_13.run(init_evals=n_init, max_iter=iters)\n"
      ],
      "execution_count": null,
      "outputs": [
        {
          "output_type": "stream",
          "name": "stdout",
          "text": [
            "Evaluation \t Proposed point \t  Current eval. \t  Best eval. \t         Max AcqFunc.\n",
            "init\t [6.66553616 3.5631183 ]\t -24.823670200298267\t -18.038943061558626\t    \n",
            "init\t [ 7.36417799 14.48623797]\t -188.7803334745195\t -18.038943061558626\t    \n",
            "init\t [9.58901671 6.80173871]\t -18.038943061558626\t -18.038943061558626\t    \n",
            "init\t [ 4.13563694 11.63289772]\t -104.87319703906111\t -18.038943061558626\t    \n",
            "init\t [ 4.62420017 10.83027344]\t -98.03271225790056\t -18.038943061558626\t    \n",
            "1  \t [-5.         10.55852118]\t -56.66525878591628\t -18.038943061558626\t -18.038943061558626\n",
            "2  \t [-3.36042638  1.3238031 ]\t -132.49290788011677\t -18.038943061558626\t -18.038943061558626\n",
            "3  \t [-0.52648707  6.71273475]\t -18.32769423211562\t -18.038943061558626\t -18.03894166860542\n",
            "4  \t [-0.84246856 15.        ]\t -73.65814436326491\t -18.038943061558626\t -18.038942212473884\n",
            "\u001b[1m\u001b[92m5\u001b[0m\t \u001b[1m\u001b[92m[2.39257468 0.        ]\u001b[0m\t \u001b[1m\u001b[92m-11.562123041292933\u001b[0m\t \u001b[1m\u001b[92m-11.562123041292933\u001b[0m\t \u001b[1m\u001b[92m-18.03893891167894\u001b[0m\n",
            "\u001b[1m\u001b[92m6\u001b[0m\t \u001b[1m\u001b[92m[10.  0.]\u001b[0m\t \u001b[1m\u001b[92m-10.960889035651505\u001b[0m\t \u001b[1m\u001b[92m-10.960889035651505\u001b[0m\t \u001b[1m\u001b[92m-11.56203936982175\u001b[0m\n",
            "7  \t [-5.          5.87336129]\t -140.7303204723859\t -10.960889035651505\t -10.959560213840899\n",
            "8  \t [3.59355119 6.39251068]\t -21.107464336618747\t -10.960889035651505\t -10.955917041139845\n",
            "9  \t [10.         10.78931779]\t -62.570561165917745\t -10.960889035651505\t -10.954795950135091\n",
            "10 \t [-5. 15.]\t -17.508299515778166\t -10.960889035651505\t -10.952916356963312\n",
            "11 \t [-0.38527146 10.68211215]\t -35.29878516090358\t -10.960889035651505\t -10.952741344532454\n",
            "12 \t [0.81172369 3.21741892]\t -19.091795296749194\t -10.960889035651505\t -10.93995051311521\n",
            "\u001b[1m\u001b[92m13\u001b[0m\t \u001b[1m\u001b[92m[10.          3.30729191]\u001b[0m\t \u001b[1m\u001b[92m-2.035760641591324\u001b[0m\t \u001b[1m\u001b[92m-2.035760641591324\u001b[0m\t \u001b[1m\u001b[92m-10.87305317297761\u001b[0m\n",
            "14 \t [6.11038304 0.        ]\t -20.665494735173674\t -2.035760641591324\t -2.173824504569229\n",
            "15 \t [ 2.94669868 15.        ]\t -158.53689146919365\t -2.035760641591324\t -2.1095082883992515\n",
            "16 \t [6.62347424 7.74026444]\t -62.80277176510181\t -2.035760641591324\t -2.063330007018685\n",
            "17 \t [3.75834642 2.70026371]\t -2.9016062225427506\t -2.035760641591324\t -1.9317776827216184\n",
            "18 \t [1.85103813 8.61815052]\t -33.574331078732236\t -2.035760641591324\t -1.7498390896483857\n",
            "19 \t [-2.59856714  8.50595294]\t -8.039763757497639\t -2.035760641591324\t -1.6589065135814947\n",
            "20 \t [-0.18612036  0.        ]\t -59.13503488752524\t -2.035760641591324\t -1.8536053863520139\n"
          ]
        }
      ]
    },
    {
      "cell_type": "code",
      "metadata": {
        "colab": {
          "base_uri": "https://localhost:8080/"
        },
        "id": "ojHTeARNGCoi",
        "outputId": "ebce1dfe-debb-4bcf-b6c1-bef5db3c46fe"
      },
      "source": [
        "### ESTIMATED GP EI GRADIENTS\n",
        "\n",
        "np.random.seed(run_num_14)\n",
        "surrogate_approx_14 = GaussianProcess(cov_func, optimize=opt)\n",
        "\n",
        "approx_14 = GPGO_multi(surrogate_approx_14, Acquisition(util_grad_approx), objfunc, param)\n",
        "approx_14.run(init_evals=n_init, max_iter=iters)\n"
      ],
      "execution_count": null,
      "outputs": [
        {
          "output_type": "stream",
          "name": "stdout",
          "text": [
            "Evaluation \t Proposed point \t  Current eval. \t  Best eval. \t         Max AcqFunc.\n",
            "init\t [ 2.70915016 11.59747578]\t -81.58264375064097\t -1.4149920024014744\t    \n",
            "init\t [8.05641529 0.12070423]\t -10.148649076616518\t -1.4149920024014744\t    \n",
            "init\t [-0.35396112 14.36405609]\t -79.6056658956529\t -1.4149920024014744\t    \n",
            "init\t [2.69675068 4.77426637]\t -5.855607664288365\t -1.4149920024014744\t    \n",
            "init\t [3.08799906 3.31882414]\t -1.4149920024014744\t -1.4149920024014744\t    \n",
            "1  \t [10.          6.86255647]\t -16.839651757136487\t -1.4149920024014744\t -1.6971408287697085\n",
            "2  \t [-3.61083748  7.85924032]\t -32.481990179851884\t -1.4149920024014744\t -1.697140828647509\n",
            "3  \t [-2.06062727  2.20289552]\t -63.62665246304455\t -1.4149920024014744\t -1.6971392552716655\n",
            "4  \t [10.         14.30978652]\t -129.78754336484576\t -1.4149920024014744\t -1.697140828841079\n",
            "5  \t [5.68710915 7.81775739]\t -62.71339741866437\t -1.4149920024014744\t -1.6962345085247146\n",
            "6  \t [-5. 15.]\t -17.508299515778166\t -1.4149920024014744\t -1.6966329321078697\n",
            "7  \t [2.4230891 0.       ]\t -11.193346353138086\t -1.4149920024014744\t -1.6964206885091815\n",
            "8  \t [ 5.46109208 15.        ]\t -208.05011032883536\t -1.4149920024014744\t -1.6936813083512514\n",
            "9  \t [6.73891458 3.65971378]\t -24.964347843194034\t -1.4149920024014744\t -1.690907608070852\n",
            "10 \t [0.53278307 7.76044596]\t -24.885006369243584\t -1.4149920024014744\t -1.6905173036069612\n",
            "11 \t [-5.        11.3768045]\t -46.48631009515561\t -1.4149920024014744\t -1.6781165338824238\n",
            "12 \t [ 8.84039199 10.36390742]\t -71.50912263958782\t -1.4149920024014744\t -1.6731574181071958\n",
            "13 \t [-5.0000000e+00  4.4408921e-16]\t -308.12909601160663\t -1.4149920024014744\t -1.6688221288417022\n",
            "14 \t [10.         2.8783088]\t -1.9586777389854308\t -1.4149920024014744\t -1.6478759340846083\n",
            "15 \t [-1.30630859 10.7172788 ]\t -18.355786449853028\t -1.4149920024014744\t -1.6144474124493637\n",
            "16 \t [5.25603135 0.        ]\t -16.41541017131925\t -1.4149920024014744\t -1.5437242804353013\n",
            "17 \t [-5.          4.54945738]\t -172.44033598890945\t -1.4149920024014744\t -1.6535524952618585\n",
            "18 \t [0.06053795 4.73122107]\t -20.960224894923943\t -1.4149920024014744\t -1.4477307659370506\n",
            "19 \t [3.77680036 2.50473306]\t -2.723697704995467\t -1.4149920024014744\t -1.2794831481750344\n",
            "20 \t [-0.00736634  0.        ]\t -55.74276049790596\t -1.4149920024014744\t -1.2519690217922355\n"
          ]
        }
      ]
    },
    {
      "cell_type": "code",
      "metadata": {
        "colab": {
          "base_uri": "https://localhost:8080/"
        },
        "id": "vCJzn4vWGCs3",
        "outputId": "a17125fc-d7bf-44d8-f5bc-23abb8f99424"
      },
      "source": [
        "### ESTIMATED GP EI GRADIENTS\n",
        "\n",
        "np.random.seed(run_num_15)\n",
        "surrogate_approx_15 = GaussianProcess(cov_func, optimize=opt)\n",
        "\n",
        "approx_15 = GPGO_multi(surrogate_approx_15, Acquisition(util_grad_approx), objfunc, param)\n",
        "approx_15.run(init_evals=n_init, max_iter=iters)\n"
      ],
      "execution_count": null,
      "outputs": [
        {
          "output_type": "stream",
          "name": "stdout",
          "text": [
            "Evaluation \t Proposed point \t  Current eval. \t  Best eval. \t         Max AcqFunc.\n",
            "init\t [7.73226546 2.68343887]\t -12.768724532005583\t -12.768724532005583\t    \n",
            "init\t [-4.18455179  5.42307669]\t -95.39334176626551\t -12.768724532005583\t    \n",
            "init\t [-0.86898607  7.95000337]\t -16.419487782111716\t -12.768724532005583\t    \n",
            "init\t [-0.41121626  4.56711539]\t -23.250362743740954\t -12.768724532005583\t    \n",
            "init\t [-3.32388086  3.74848521]\t -80.99796277938532\t -12.768724532005583\t    \n",
            "1  \t [ 6.5655417  11.87699252]\t -134.95011349993544\t -12.768724532005583\t -12.768724532031355\n",
            "2  \t [-4.77493765 13.49591113]\t -19.896906503438096\t -12.768724532005583\t -12.768724531196419\n",
            "3  \t [ 0.69524818 15.        ]\t -118.25691317432663\t -12.768724532005583\t -12.76872349454917\n",
            "\u001b[1m\u001b[92m4\u001b[0m\t \u001b[1m\u001b[92m[2.88475658 0.        ]\u001b[0m\t \u001b[1m\u001b[92m-6.88220071543949\u001b[0m\t \u001b[1m\u001b[92m-6.88220071543949\u001b[0m\t \u001b[1m\u001b[92m-12.76872167929368\u001b[0m\n",
            "5  \t [10.         7.3920589]\t -21.207359576336543\t -6.88220071543949\t -6.882332906962527\n",
            "6  \t [4.43909426 6.68421057]\t -34.48574674031204\t -6.88220071543949\t -6.88231524881845\n",
            "7  \t [-1.06519088  0.        ]\t -76.14575448240691\t -6.88220071543949\t -6.878126874102323\n",
            "8  \t [ 2.15317877 10.62407564]\t -60.251645922090695\t -6.88220071543949\t -6.8761863437646635\n",
            "9  \t [10. 15.]\t -145.87219087939556\t -6.88220071543949\t -6.880936510025394\n",
            "10 \t [-5.         9.6212438]\t -69.96986886889928\t -6.88220071543949\t -6.871862440229306\n",
            "11 \t [-5.  0.]\t -308.12909601160663\t -6.88220071543949\t -6.8578053048773535\n",
            "12 \t [10.  0.]\t -10.960889035651505\t -6.88220071543949\t -6.869024171606515\n",
            "\u001b[1m\u001b[92m13\u001b[0m\t \u001b[1m\u001b[92m[3.82101407 3.03698351]\u001b[0m\t \u001b[1m\u001b[92m-4.048491913006\u001b[0m\t \u001b[1m\u001b[92m-4.048491913006\u001b[0m\t \u001b[1m\u001b[92m-6.8386284065422505\u001b[0m\n",
            "14 \t [-1.62709384 11.63994557]\t -16.794804112008915\t -4.048491913006\t -4.002789007766184\n",
            "15 \t [6.03791777 0.        ]\t -20.52466553406012\t -4.048491913006\t -3.996878275789846\n",
            "16 \t [ 4.54915183 15.        ]\t -192.4963634386651\t -4.048491913006\t -3.964042575793841\n",
            "\u001b[1m\u001b[92m17\u001b[0m\t \u001b[1m\u001b[92m[10.          4.23439671]\u001b[0m\t \u001b[1m\u001b[92m-3.459585399897726\u001b[0m\t \u001b[1m\u001b[92m-3.459585399897726\u001b[0m\t \u001b[1m\u001b[92m-3.850885008535153\u001b[0m\n",
            "18 \t [10.         10.71368936]\t -61.39854026507521\t -3.459585399897726\t -3.3559290803305313\n",
            "19 \t [7.46276156 5.63408633]\t -32.29613720956991\t -3.459585399897726\t -3.2124828438834983\n",
            "20 \t [1.61903585 2.35706408]\t -11.510409641209824\t -3.459585399897726\t -3.0898249385112924\n"
          ]
        }
      ]
    },
    {
      "cell_type": "code",
      "metadata": {
        "colab": {
          "base_uri": "https://localhost:8080/"
        },
        "id": "bGGkhp-kGCw6",
        "outputId": "752370e5-16e8-4f4f-dab7-1d4e82330f4a"
      },
      "source": [
        "### ESTIMATED GP EI GRADIENTS\n",
        "\n",
        "np.random.seed(run_num_16)\n",
        "surrogate_approx_16 = GaussianProcess(cov_func, optimize=opt)\n",
        "\n",
        "approx_16 = GPGO_multi(surrogate_approx_16, Acquisition(util_grad_approx), objfunc, param)\n",
        "approx_16.run(init_evals=n_init, max_iter=iters)\n"
      ],
      "execution_count": null,
      "outputs": [
        {
          "output_type": "stream",
          "name": "stdout",
          "text": [
            "Evaluation \t Proposed point \t  Current eval. \t  Best eval. \t         Max AcqFunc.\n",
            "init\t [-1.65063381  7.84745012]\t -10.514702126319445\t -2.715864006988424\t    \n",
            "init\t [3.26052185 0.68402925]\t -2.715864006988424\t -2.715864006988424\t    \n",
            "init\t [0.41093253 3.34621413]\t -22.889515127492515\t -2.715864006988424\t    \n",
            "init\t [5.33089243 2.45597138]\t -17.178157611778595\t -2.715864006988424\t    \n",
            "init\t [-3.945127  14.1151629]\t -3.3649224341694195\t -2.715864006988424\t    \n",
            "1  \t [ 5.63879248 14.58068289]\t -198.51319639462758\t -2.715864006988424\t -2.7962650878758573\n",
            "2  \t [9.4202829  9.76772141]\t -53.637049482645274\t -2.715864006988424\t -2.796264424358512\n",
            "3  \t [-4.02254936  0.        ]\t -213.91898169928774\t -2.715864006988424\t -2.7962630018238754\n",
            "4  \t [3.77207958 8.41836664]\t -45.58915671225536\t -2.715864006988424\t -2.796262015624666\n",
            "5  \t [10.  0.]\t -10.960889035651505\t -2.715864006988424\t -2.7962580114201963\n",
            "6  \t [ 0.46219838 12.61300877]\t -72.19198261942468\t -2.715864006988424\t -2.7961960004355357\n",
            "7  \t [10.          4.74011175]\t -4.9608486466292145\t -2.715864006988424\t -2.796121216214576\n",
            "8  \t [-5.          5.03605121]\t -160.37805883621414\t -2.715864006988424\t -2.795737801646848\n",
            "9  \t [-5.         10.31234023]\t -59.9896514944693\t -2.715864006988424\t -2.7947187412276016\n",
            "10 \t [6.954644   6.05810883]\t -41.317321519285706\t -2.715864006988424\t -2.7745849147135275\n",
            "11 \t [10. 15.]\t -145.87219087939556\t -2.715864006988424\t -2.7900949598853337\n",
            "12 \t [0.29637883 0.        ]\t -49.87114236031423\t -2.715864006988424\t -2.738134539345863\n",
            "13 \t [3.24239699 4.97256458]\t -8.146508161169955\t -2.715864006988424\t -2.6512508479104766\n",
            "14 \t [6.99162048 0.        ]\t -18.701545443533654\t -2.715864006988424\t -2.6459901074120786\n",
            "15 \t [ 6.12783679 10.80688987]\t -113.74566928046599\t -2.715864006988424\t -2.595204935821499\n",
            "16 \t [8.64025434 2.71720052]\t -3.8840679575702834\t -2.715864006988424\t -2.533819048929576\n",
            "17 \t [-1.91499301 15.        ]\t -36.773258325616645\t -2.715864006988424\t -2.5541294877884537\n",
            "18 \t [0.82601352 6.62718734]\t -19.944581448419566\t -2.715864006988424\t -2.545314646359451\n",
            "19 \t [-5. 15.]\t -17.508299515778166\t -2.715864006988424\t -2.3413390106972614\n",
            "20 \t [-1.79552229 10.38702504]\t -9.098784818862592\t -2.715864006988424\t -2.2511941215167566\n"
          ]
        }
      ]
    },
    {
      "cell_type": "code",
      "metadata": {
        "id": "Yrs2mp7hGC1Z",
        "colab": {
          "base_uri": "https://localhost:8080/"
        },
        "outputId": "b898177e-722b-4f77-ebf7-9fa4a9b914a6"
      },
      "source": [
        "### ESTIMATED GP EI GRADIENTS\n",
        "\n",
        "np.random.seed(run_num_17)\n",
        "surrogate_approx_17 = GaussianProcess(cov_func, optimize=opt)\n",
        "\n",
        "approx_17 = GPGO_multi(surrogate_approx_17, Acquisition(util_grad_approx), objfunc, param)\n",
        "approx_17.run(init_evals=n_init, max_iter=iters)\n"
      ],
      "execution_count": null,
      "outputs": [
        {
          "output_type": "stream",
          "name": "stdout",
          "text": [
            "Evaluation \t Proposed point \t  Current eval. \t  Best eval. \t         Max AcqFunc.\n",
            "init\t [-0.58002496  7.95880133]\t -19.016141117164256\t -19.016141117164256\t    \n",
            "init\t [-2.1271882   1.01850537]\t -85.05949339404415\t -19.016141117164256\t    \n",
            "init\t [6.8047819  9.84500283]\t -93.89792695202516\t -19.016141117164256\t    \n",
            "init\t [4.56281344 8.63404341]\t -60.50217141122736\t -19.016141117164256\t    \n",
            "init\t [-4.41405626  5.36720407]\t -110.70834086593878\t -19.016141117164256\t    \n",
            "\u001b[1m\u001b[92m1\u001b[0m\t \u001b[1m\u001b[92m[10.  0.]\u001b[0m\t \u001b[1m\u001b[92m-10.960889035651505\u001b[0m\t \u001b[1m\u001b[92m-10.960889035651505\u001b[0m\t \u001b[1m\u001b[92m-19.016141117164256\u001b[0m\n",
            "2  \t [-0.36591853 14.49945231]\t -81.3728947682288\t -10.960889035651505\t -10.9608890381716\n",
            "\u001b[1m\u001b[92m3\u001b[0m\t \u001b[1m\u001b[92m[3.74599703 2.35814314]\u001b[0m\t \u001b[1m\u001b[92m-2.3563457989420957\u001b[0m\t \u001b[1m\u001b[92m-2.3563457989420957\u001b[0m\t \u001b[1m\u001b[92m-10.960888422255678\u001b[0m\n",
            "4  \t [10.         14.81387187]\t -141.4408601588553\t -2.3563457989420957\t -2.473666269982686\n",
            "5  \t [-5.         11.26990773]\t -47.739996251407824\t -2.3563457989420957\t -2.4736600088265512\n",
            "6  \t [10.          5.24001572]\t -6.947574144884817\t -2.3563457989420957\t -2.4736558977170087\n",
            "7  \t [ 4.74574591 15.        ]\t -196.4675734651129\t -2.3563457989420957\t -2.4735300636288207\n",
            "8  \t [7.11000786 2.78590867]\t -18.97161975666843\t -2.3563457989420957\t -2.4665242268329286\n",
            "9  \t [0.97032225 4.29389468]\t -15.50584390397924\t -2.3563457989420957\t -2.465816574738912\n",
            "10 \t [1.95188518 0.        ]\t -17.891315973257704\t -2.3563457989420957\t -2.4552633251212477\n",
            "11 \t [-5. 15.]\t -17.508299515778166\t -2.3563457989420957\t -2.4529936120990707\n",
            "12 \t [ 1.56721192 11.08024891]\t -62.70205472374086\t -2.3563457989420957\t -2.4364849136699513\n",
            "13 \t [4.44733932 4.98298078]\t -19.77685539911674\t -2.3563457989420957\t -2.3830521856923577\n",
            "14 \t [5.4815876 0.       ]\t -18.01863260438409\t -2.3563457989420957\t -2.400819179971854\n",
            "15 \t [10.         10.96989078]\t -65.41518084284075\t -2.3563457989420957\t -2.3054321935971593\n",
            "16 \t [7.50152447 6.21292618]\t -37.15243082451991\t -2.3563457989420957\t -2.270377517894835\n",
            "17 \t [-5.  0.]\t -308.12909601160663\t -2.3563457989420957\t -2.122806654181465\n",
            "18 \t [-1.81177771 10.94983878]\t -10.405391667913339\t -2.3563457989420957\t -2.196652854493273\n",
            "\u001b[1m\u001b[92m19\u001b[0m\t \u001b[1m\u001b[92m[10.          2.72938481]\u001b[0m\t \u001b[1m\u001b[92m-2.0179821894263945\u001b[0m\t \u001b[1m\u001b[92m-2.0179821894263945\u001b[0m\t \u001b[1m\u001b[92m-2.1163960290270216\u001b[0m\n",
            "20 \t [-3.45320762  8.5838853 ]\t -20.68548052054824\t -2.0179821894263945\t -1.7003424597927914\n"
          ]
        }
      ]
    },
    {
      "cell_type": "code",
      "metadata": {
        "id": "f0HIEP3PIUEa",
        "colab": {
          "base_uri": "https://localhost:8080/"
        },
        "outputId": "73f678ba-8cd0-4223-9cfb-75d161ccfcc4"
      },
      "source": [
        "### ESTIMATED GP EI GRADIENTS\n",
        "\n",
        "np.random.seed(run_num_18)\n",
        "surrogate_approx_18 = GaussianProcess(cov_func, optimize=opt)\n",
        "\n",
        "approx_18 = GPGO_multi(surrogate_approx_18, Acquisition(util_grad_approx), objfunc, param)\n",
        "approx_18.run(init_evals=n_init, max_iter=iters)\n"
      ],
      "execution_count": null,
      "outputs": [
        {
          "output_type": "stream",
          "name": "stdout",
          "text": [
            "Evaluation \t Proposed point \t  Current eval. \t  Best eval. \t         Max AcqFunc.\n",
            "init\t [4.75561363 7.58180061]\t -49.215059064668324\t -8.150075223157177\t    \n",
            "init\t [8.17902206 2.72760338]\t -8.150075223157177\t -8.150075223157177\t    \n",
            "init\t [ 7.78349603 11.25204429]\t -106.98107856533271\t -8.150075223157177\t    \n",
            "init\t [ 4.99152501 14.81843172]\t -196.08601750690153\t -8.150075223157177\t    \n",
            "init\t [-1.14547366  0.42458888]\t -71.23649635555944\t -8.150075223157177\t    \n",
            "1  \t [-4.83474958 11.77354131]\t -35.58412906267954\t -8.150075223157177\t -8.150085443825791\n",
            "2  \t [-5.          4.86518366]\t -164.55978314469397\t -8.150075223157177\t -8.150084337653862\n",
            "3  \t [ 0.52849364 11.15245   ]\t -53.78378201084945\t -8.150075223157177\t -8.150065998383269\n",
            "\u001b[1m\u001b[92m4\u001b[0m\t \u001b[1m\u001b[92m[4.17705729 0.        ]\u001b[0m\t \u001b[1m\u001b[92m-7.680923760130492\u001b[0m\t \u001b[1m\u001b[92m-7.680923760130492\u001b[0m\t \u001b[1m\u001b[92m-8.150029617542835\u001b[0m\n",
            "5  \t [10. 15.]\t -145.87219087939556\t -7.680923760130492\t -7.6809524085263705\n",
            "6  \t [0.22663645 5.50561514]\t -19.37625344274432\t -7.680923760130492\t -7.680736323124277\n",
            "7  \t [10.          6.76719208]\t -16.112609376867347\t -7.680923760130492\t -7.680514812245782\n",
            "8  \t [-1.7664523 15.       ]\t -41.60529187301594\t -7.680923760130492\t -7.678892023467829\n",
            "\u001b[1m\u001b[92m9\u001b[0m\t \u001b[1m\u001b[92m[3.83722289 3.55289861]\u001b[0m\t \u001b[1m\u001b[92m-5.719079686897693\u001b[0m\t \u001b[1m\u001b[92m-5.719079686897693\u001b[0m\t \u001b[1m\u001b[92m-7.6671916852022\u001b[0m\n",
            "10 \t [-2.52807721  8.43274441]\t -7.988293909479742\t -5.719079686897693\t -5.699760622077465\n",
            "11 \t [10.  0.]\t -10.960889035651505\t -5.719079686897693\t -5.701549223326211\n",
            "12 \t [-5.  0.]\t -308.12909601160663\t -5.719079686897693\t -5.700438346578848\n",
            "13 \t [7.12122514 5.20737907]\t -32.34296299828949\t -5.719079686897693\t -5.483036345016438\n",
            "14 \t [6.9644958 0.       ]\t -18.85472387214991\t -5.719079686897693\t -5.542591565657062\n",
            "15 \t [ 3.63677174 10.56352469]\t -76.25302411779292\t -5.719079686897693\t -5.720323846459715\n",
            "16 \t [-5. 15.]\t -17.508299515778166\t -5.719079686897693\t -5.512920882173558\n",
            "17 \t [1.76208931 2.21799672]\t -10.075078557982014\t -5.719079686897693\t -5.450856388099488\n",
            "18 \t [ 1.36665576 15.        ]\t -131.49492893743684\t -5.719079686897693\t -5.420813358788366\n",
            "19 \t [1.26700852 7.99362507]\t -27.33325570400411\t -5.719079686897693\t -5.19005183859737\n",
            "20 \t [-5.        8.576726]\t -86.86677210245684\t -5.719079686897693\t -5.346097691021847\n"
          ]
        }
      ]
    },
    {
      "cell_type": "code",
      "metadata": {
        "id": "S3mxRQDLIUPC",
        "colab": {
          "base_uri": "https://localhost:8080/"
        },
        "outputId": "5325b54d-8f11-4459-b0ab-478779f51894"
      },
      "source": [
        "### ESTIMATED GP EI GRADIENTS\n",
        "\n",
        "np.random.seed(run_num_19)\n",
        "surrogate_approx_19 = GaussianProcess(cov_func, optimize=opt)\n",
        "\n",
        "approx_19 = GPGO_multi(surrogate_approx_19, Acquisition(util_grad_approx), objfunc, param)\n",
        "approx_19.run(init_evals=n_init, max_iter=iters)\n"
      ],
      "execution_count": null,
      "outputs": [
        {
          "output_type": "stream",
          "name": "stdout",
          "text": [
            "Evaluation \t Proposed point \t  Current eval. \t  Best eval. \t         Max AcqFunc.\n",
            "init\t [-3.53699597 11.41874575]\t -4.475608269502271\t -4.475608269502271\t    \n",
            "init\t [-1.2959304   2.07197531]\t -51.13947793770689\t -4.475608269502271\t    \n",
            "init\t [-0.02830155  1.24499348]\t -42.63973921760034\t -4.475608269502271\t    \n",
            "init\t [ 5.07965622 12.09890697]\t -131.17235664506808\t -4.475608269502271\t    \n",
            "init\t [9.74112872 9.53491102]\t -46.84458913925112\t -4.475608269502271\t    \n",
            "\u001b[1m\u001b[92m1\u001b[0m\t \u001b[1m\u001b[92m[9.57054653 2.03489665]\u001b[0m\t \u001b[1m\u001b[92m-0.8198597583535783\u001b[0m\t \u001b[1m\u001b[92m-0.8198597583535783\u001b[0m\t \u001b[1m\u001b[92m-4.484380394757864\u001b[0m\n",
            "2  \t [4.35401896 5.06360915]\t -19.19366062523231\t -0.8198597583535783\t -1.2739299853407435\n",
            "3  \t [-5.          6.34840318]\t -130.20673857664974\t -0.8198597583535783\t -1.273927543225019\n",
            "4  \t [ 0.06622148 15.        ]\t -102.47896367552877\t -0.8198597583535783\t -1.2739246384178298\n",
            "5  \t [10. 15.]\t -145.87219087939556\t -0.8198597583535783\t -1.2739221100304903\n",
            "6  \t [5.39346729 0.        ]\t -17.423927888691484\t -0.8198597583535783\t -1.2739128087158909\n",
            "7  \t [0.45886647 8.54635106]\t -29.167806313463085\t -0.8198597583535783\t -1.2739118209829727\n",
            "8  \t [-5. 15.]\t -17.508299515778166\t -0.8198597583535783\t -1.273010753711711\n",
            "9  \t [-5.  0.]\t -308.12909601160663\t -0.8198597583535783\t -1.2720695726443214\n",
            "10 \t [8.73536025 5.22957424]\t -13.314587947441472\t -0.8198597583535783\t -1.271469538823036\n",
            "11 \t [6.09820107 8.11131356]\t -68.61739266249577\t -0.8198597583535783\t -1.2422958182531003\n",
            "12 \t [10.  0.]\t -10.960889035651505\t -0.8198597583535783\t -1.242764816123371\n",
            "13 \t [0.8610329  5.06028544]\t -16.369407974711756\t -0.8198597583535783\t -1.2178603556539205\n",
            "14 \t [7.43116473 2.43469304]\t -15.212213486412999\t -0.8198597583535783\t -1.186314250771379\n",
            "15 \t [ 1.29907863 11.61348041]\t -68.2736823229819\t -0.8198597583535783\t -1.1357686386099501\n",
            "\u001b[1m\u001b[92m16\u001b[0m\t \u001b[1m\u001b[92m[3.1737621  2.14768759]\u001b[0m\t \u001b[1m\u001b[92m-0.4133326694001145\u001b[0m\t \u001b[1m\u001b[92m-0.4133326694001145\u001b[0m\t \u001b[1m\u001b[92m-1.1325829035721275\u001b[0m\n",
            "17 \t [-2.6584888  9.1720491]\t -5.385905080706733\t -0.4133326694001145\t -0.8593478069880234\n",
            "18 \t [ 3.53310346 15.        ]\t -170.39812256709212\t -0.4133326694001145\t -0.7897001861210647\n",
            "19 \t [10.          2.81784118]\t -1.9774083840288537\t -0.4133326694001145\t -0.7881128046396401\n",
            "20 \t [2.66825473 0.        ]\t -8.598983818670462\t -0.4133326694001145\t -0.7855745738218768\n"
          ]
        }
      ]
    },
    {
      "cell_type": "code",
      "metadata": {
        "id": "Aawd59dRIUYn",
        "colab": {
          "base_uri": "https://localhost:8080/"
        },
        "outputId": "5dc8b769-ab9a-4915-9f4d-e3eeaf3f91f1"
      },
      "source": [
        "### ESTIMATED GP EI GRADIENTS\n",
        "\n",
        "np.random.seed(run_num_20)\n",
        "surrogate_approx_20 = GaussianProcess(cov_func, optimize=opt)\n",
        "\n",
        "approx_20 = GPGO_multi(surrogate_approx_20, Acquisition(util_grad_approx), objfunc, param)\n",
        "approx_20.run(init_evals=n_init, max_iter=iters)\n"
      ],
      "execution_count": null,
      "outputs": [
        {
          "output_type": "stream",
          "name": "stdout",
          "text": [
            "Evaluation \t Proposed point \t  Current eval. \t  Best eval. \t         Max AcqFunc.\n",
            "init\t [ 3.82196202 13.46570592]\t -138.5264349938869\t -14.042667401507376\t    \n",
            "init\t [ 8.37296094 12.23756216]\t -115.63178540512689\t -14.042667401507376\t    \n",
            "init\t [-4.46165622 10.37636373]\t -35.66708529307584\t -14.042667401507376\t    \n",
            "init\t [0.68021413 7.77766418]\t -25.307769914281764\t -14.042667401507376\t    \n",
            "init\t [4.86927198 2.90775327]\t -14.042667401507376\t -14.042667401507376\t    \n",
            "1  \t [-0.46336714  1.1335069 ]\t -50.30566093512107\t -14.042667401507376\t -14.042666427442471\n",
            "\u001b[1m\u001b[92m2\u001b[0m\t \u001b[1m\u001b[92m[10.        6.031178]\u001b[0m\t \u001b[1m\u001b[92m-11.113265474397442\u001b[0m\t \u001b[1m\u001b[92m-11.113265474397442\u001b[0m\t \u001b[1m\u001b[92m-14.042667232267837\u001b[0m\n",
            "\u001b[1m\u001b[92m3\u001b[0m\t \u001b[1m\u001b[92m[9.66447631 0.        ]\u001b[0m\t \u001b[1m\u001b[92m-7.879562083249813\u001b[0m\t \u001b[1m\u001b[92m-7.879562083249813\u001b[0m\t \u001b[1m\u001b[92m-11.11326437198804\u001b[0m\n",
            "4  \t [-1.70983375 15.        ]\t -43.491518308141394\t -7.879562083249813\t -7.879566660250825\n",
            "5  \t [-5.          4.71772268]\t -168.21560828128608\t -7.879562083249813\t -7.8795775983288\n",
            "6  \t [5.56194688 7.80586336]\t -61.58827450860958\t -7.879562083249813\t -7.879339143298095\n",
            "7  \t [-5.  0.]\t -308.12909601160663\t -7.879562083249813\t -7.877896142354743\n",
            "8  \t [-0.18491755 11.40953429]\t -45.55880410354546\t -7.879562083249813\t -7.853047875511335\n",
            "\u001b[1m\u001b[92m9\u001b[0m\t \u001b[1m\u001b[92m[3.27420104 0.        ]\u001b[0m\t \u001b[1m\u001b[92m-5.207839407943306\u001b[0m\t \u001b[1m\u001b[92m-5.207839407943306\u001b[0m\t \u001b[1m\u001b[92m-7.838627632341085\u001b[0m\n",
            "10 \t [1.69278555 4.33683333]\t -9.268210791175582\t -5.207839407943306\t -5.159707633499312\n",
            "11 \t [8.38850316 3.0488516 ]\t -6.822523247414807\t -5.207839407943306\t -5.16227251373207\n",
            "12 \t [6.49155185 0.        ]\t -20.631500728835505\t -5.207839407943306\t -5.138074324013406\n",
            "13 \t [-5.         14.08835869]\t -22.327564641287964\t -5.207839407943306\t -5.131409367166584\n",
            "14 \t [-1.21602724  4.92101351]\t -23.609996254038755\t -5.207839407943306\t -5.041111874127921\n",
            "15 \t [-2.56929895  7.83378347]\t -11.58858747107204\t -5.207839407943306\t -4.92693368601665\n",
            "16 \t [2.97326768 9.94434237]\t -57.30096580898053\t -5.207839407943306\t -4.864920855653967\n",
            "17 \t [10.          8.95178405]\t -37.33168865735603\t -5.207839407943306\t -5.063014375287108\n",
            "18 \t [7.11044129 5.0042183 ]\t -30.85979690778447\t -5.207839407943306\t -4.698080157663271\n",
            "19 \t [3.51121079 5.56212949]\t -13.703810527533921\t -5.207839407943306\t -4.3829546974372295\n",
            "20 \t [10. 15.]\t -145.87219087939556\t -5.207839407943306\t -4.873856866535683\n"
          ]
        }
      ]
    },
    {
      "cell_type": "code",
      "metadata": {
        "id": "xkgzPRbBTHaq",
        "colab": {
          "base_uri": "https://localhost:8080/"
        },
        "outputId": "3e65b2e6-e7b6-4628-c872-c0396a560844"
      },
      "source": [
        "end_approx = time.time()\n",
        "end_approx\n",
        "\n",
        "time_approx = end_approx - start_approx\n",
        "time_approx\n",
        "\n",
        "start_exact = time.time()\n",
        "start_exact"
      ],
      "execution_count": null,
      "outputs": [
        {
          "output_type": "execute_result",
          "data": {
            "text/plain": [
              "1649162522.8542278"
            ]
          },
          "metadata": {},
          "execution_count": 33
        }
      ]
    },
    {
      "cell_type": "code",
      "metadata": {
        "id": "7CG3Ndvb16Rb",
        "colab": {
          "base_uri": "https://localhost:8080/"
        },
        "outputId": "758afdab-40f2-4aba-89b2-f1e199b71d3d"
      },
      "source": [
        "### EXACT GP EI GRADIENTS\n",
        "\n",
        "np.random.seed(run_num_1)\n",
        "surrogate_exact_1 = dGaussianProcess(cov_func, optimize=opt)\n",
        "\n",
        "exact_1 = dGPGO(surrogate_exact_1, Acquisition_new(util_grad_exact), objfunc, param)\n",
        "exact_1.run(init_evals=n_init, max_iter=iters)\n"
      ],
      "execution_count": null,
      "outputs": [
        {
          "output_type": "stream",
          "name": "stdout",
          "text": [
            "Evaluation \t Proposed point \t  Current eval. \t  Best eval. \t         Max AcqFunc.\n",
            "init\t [ 1.25533007 10.8048674 ]\t -56.52874004692151\t -27.68166689936483\t    \n",
            "init\t [-4.99828438  4.53498859]\t -172.66531086516164\t -27.68166689936483\t    \n",
            "init\t [-2.79866164  1.38507892]\t -102.58290348816024\t -27.68166689936483\t    \n",
            "init\t [-2.20609683  5.18341091]\t -28.868064601155666\t -27.68166689936483\t    \n",
            "init\t [0.95151211 8.08225101]\t -27.68166689936483\t -27.68166689936483\t    \n",
            "\u001b[1m\u001b[92m1\u001b[0m\t \u001b[1m\u001b[92m[8.41909995 1.27566317]\u001b[0m\t \u001b[1m\u001b[92m-5.089934878453152\u001b[0m\t \u001b[1m\u001b[92m-5.089934878453152\u001b[0m\t \u001b[1m\u001b[92m-27.68166688936483\u001b[0m\n",
            "2  \t [ 8.98893195 10.45227242]\t -70.52424256621515\t -5.089934878453152\t -5.093418823776248\n",
            "3  \t [3.1784986 0.       ]\t -5.450714203742865\t -5.089934878453152\t -5.0934172630199805\n",
            "4  \t [-4.67712792 14.21955317]\t -13.865244792739254\t -5.089934878453152\t -5.0934188219075285\n",
            "5  \t [ 5.30676004 15.        ]\t -206.03558952485747\t -5.089934878453152\t -5.093416386657059\n",
            "6  \t [5.6509709  6.05693568]\t -42.00603936853098\t -5.089934878453152\t -5.093382021405725\n",
            "7  \t [-3.81418147  9.6732151 ]\t -20.778570204409263\t -5.089934878453152\t -5.092945812345689\n",
            "8  \t [10. 15.]\t -145.87219087939556\t -5.089934878453152\t -5.091051079965663\n",
            "9  \t [-0.28894486 15.        ]\t -91.95377472918058\t -5.089934878453152\t -5.091788448454323\n",
            "10 \t [10.          5.29237281]\t -7.18456719951715\t -5.089934878453152\t -5.091937930562366\n",
            "\u001b[1m\u001b[92m11\u001b[0m\t \u001b[1m\u001b[92m[2.19337067 3.45287133]\u001b[0m\t \u001b[1m\u001b[92m-4.504572815126114\u001b[0m\t \u001b[1m\u001b[92m-4.504572815126114\u001b[0m\t \u001b[1m\u001b[92m-5.086983171135194\u001b[0m\n",
            "12 \t [5.42675726 2.23126487]\t -17.42234372828822\t -4.504572815126114\t -4.457998876654248\n",
            "13 \t [5.13257302 9.83709993]\t -87.923363463295\t -4.504572815126114\t -4.471612155991252\n",
            "14 \t [0.64301419 0.49016326]\t -38.29483628261505\t -4.504572815126114\t -4.319295556398823\n",
            "15 \t [8.24298487 3.59982364]\t -10.126761992549532\t -4.504572815126114\t -4.070716570364492\n",
            "16 \t [1.88683678 5.43189266]\t -10.916116630836918\t -4.504572815126114\t -3.9484739140089635\n",
            "17 \t [-1.50798545 10.24937492]\t -13.022529101464315\t -4.504572815126114\t -3.3379988236996034\n",
            "18 \t [8.88202855 7.16672204]\t -27.90509748368775\t -4.504572815126114\t -3.9740564792203714\n",
            "19 \t [-2.31211909 12.39801829]\t -7.627035872636235\t -4.504572815126114\t -3.7280473344330978\n",
            "20 \t [-0.10633456  3.82570689]\t -25.04685852577163\t -4.504572815126114\t -3.491770143645005\n"
          ]
        }
      ]
    },
    {
      "cell_type": "code",
      "metadata": {
        "id": "-ilCPSAu9SAg",
        "colab": {
          "base_uri": "https://localhost:8080/"
        },
        "outputId": "c90e2dd7-b3c6-436f-cbae-76e843b2d7fc"
      },
      "source": [
        "### EXACT GP EI GRADIENTS\n",
        "\n",
        "np.random.seed(run_num_2)\n",
        "surrogate_exact_2 = dGaussianProcess(cov_func, optimize=opt)\n",
        "\n",
        "exact_2 = dGPGO(surrogate_exact_2, Acquisition_new(util_grad_exact), objfunc, param)\n",
        "exact_2.run(init_evals=n_init, max_iter=iters)\n"
      ],
      "execution_count": null,
      "outputs": [
        {
          "output_type": "stream",
          "name": "stdout",
          "text": [
            "Evaluation \t Proposed point \t  Current eval. \t  Best eval. \t         Max AcqFunc.\n",
            "init\t [1.53992353 0.38889348]\t -22.31361308916297\t -6.692051508754487\t    \n",
            "init\t [3.24493717 6.52983589]\t -19.233109967858276\t -6.692051508754487\t    \n",
            "init\t [1.30551703 4.95502232]\t -13.177851563387286\t -6.692051508754487\t    \n",
            "init\t [-1.93027049  9.2890645 ]\t -6.692051508754487\t -6.692051508754487\t    \n",
            "init\t [-0.50517989  4.00240913]\t -26.437522758780958\t -6.692051508754487\t    \n",
            "1  \t [ 9.5587047  12.00387527]\t -89.09951357262268\t -6.692051508754487\t -6.6922650079064745\n",
            "\u001b[1m\u001b[92m2\u001b[0m\t \u001b[1m\u001b[92m[9.59366035 1.69164323]\u001b[0m\t \u001b[1m\u001b[92m-1.3984593420568778\u001b[0m\t \u001b[1m\u001b[92m-1.3984593420568778\u001b[0m\t \u001b[1m\u001b[92m-6.692265007906303\u001b[0m\n",
            "3  \t [ 3.24245232 12.67669673]\t -110.25694222671481\t -1.3984593420568778\t -1.684590944528292\n",
            "4  \t [-5.          0.47652372]\t -291.9758016736889\t -1.3984593420568778\t -1.6845902571525213\n",
            "5  \t [9.02917984 6.38725122]\t -18.99628463361546\t -1.3984593420568778\t -1.684579166431471\n",
            "6  \t [-3.95507934 14.02731525]\t -3.4866936150466845\t -1.3984593420568778\t -1.684586709027148\n",
            "7  \t [6.11121402 0.        ]\t -20.66684023677474\t -1.3984593420568778\t -1.684069162720535\n",
            "8  \t [-0.53518615 15.        ]\t -84.05142673602415\t -1.3984593420568778\t -1.6799790561793706\n",
            "9  \t [-5.         5.9468696]\t -139.07237800431037\t -1.3984593420568778\t -1.6844099514411082\n",
            "10 \t [ 6.76609444 15.        ]\t -210.45133046784113\t -1.3984593420568778\t -1.6712715449600561\n",
            "11 \t [6.15066039 9.24517374]\t -85.89353371388567\t -1.3984593420568778\t -1.6760816144853723\n",
            "12 \t [6.26654663 3.75224143]\t -26.637788043362853\t -1.3984593420568778\t -1.6710678596221427\n",
            "13 \t [10.          3.46971226]\t -2.1610015012252557\t -1.3984593420568778\t -1.5134048817130976\n",
            "14 \t [-5.         10.68349678]\t -55.02399145829575\t -1.3984593420568778\t -1.6724876761134664\n",
            "15 \t [-1.05743169 11.63035107]\t -29.17810911637783\t -1.3984593420568778\t -1.4765717394870626\n",
            "16 \t [1.14276169 9.20729766]\t -37.57959383598781\t -1.3984593420568778\t -1.5806750347829552\n",
            "\u001b[1m\u001b[92m17\u001b[0m\t \u001b[1m\u001b[92m[3.29061963 2.88248012]\u001b[0m\t \u001b[1m\u001b[92m-1.0239145109053958\u001b[0m\t \u001b[1m\u001b[92m-1.0239145109053958\u001b[0m\t \u001b[1m\u001b[92m-1.4449323641047718\u001b[0m\n",
            "18 \t [-1.52707094  6.9978374 ]\t -13.42586363502191\t -1.0239145109053958\t -1.1262894888960917\n",
            "19 \t [-1.42856749  1.19510368]\t -65.26859455646289\t -1.0239145109053958\t -1.1154823197960781\n",
            "20 \t [10.          8.81339013]\t -35.70427836394819\t -1.0239145109053958\t -1.0365983801816456\n"
          ]
        }
      ]
    },
    {
      "cell_type": "code",
      "metadata": {
        "id": "XieJ158mIvlP",
        "colab": {
          "base_uri": "https://localhost:8080/"
        },
        "outputId": "9ede4312-9971-41ea-c5ae-740ab811f71a"
      },
      "source": [
        "### EXACT GP EI GRADIENTS\n",
        "\n",
        "np.random.seed(run_num_3)\n",
        "surrogate_exact_3 = dGaussianProcess(cov_func, optimize=opt)\n",
        "\n",
        "exact_3 = dGPGO(surrogate_exact_3, Acquisition_new(util_grad_exact), objfunc, param)\n",
        "exact_3.run(init_evals=n_init, max_iter=iters)\n"
      ],
      "execution_count": null,
      "outputs": [
        {
          "output_type": "stream",
          "name": "stdout",
          "text": [
            "Evaluation \t Proposed point \t  Current eval. \t  Best eval. \t         Max AcqFunc.\n",
            "init\t [ 3.26196854 10.62221734]\t -71.68783452098575\t -18.07886746449891\t    \n",
            "init\t [-0.63642892  7.66241408]\t -18.07886746449891\t -18.07886746449891\t    \n",
            "init\t [ 8.39420432 13.44439633]\t -141.98653529865882\t -18.07886746449891\t    \n",
            "init\t [-3.11622034  3.10864317]\t -83.31045707266176\t -18.07886746449891\t    \n",
            "init\t [-4.22799195  6.61214765]\t -76.5294170688398\t -18.07886746449891\t    \n",
            "1  \t [6.70472147 4.59545299]\t -30.726791812855225\t -18.07886746449891\t -18.07886745449891\n",
            "\u001b[1m\u001b[92m2\u001b[0m\t \u001b[1m\u001b[92m[-3.89564496 13.38589781]\u001b[0m\t \u001b[1m\u001b[92m-3.6010193697779265\u001b[0m\t \u001b[1m\u001b[92m-3.6010193697779265\u001b[0m\t \u001b[1m\u001b[92m-18.078867447127802\u001b[0m\n",
            "3  \t [ 0.53511805 15.        ]\t -114.58765716763713\t -3.6010193697779265\t -3.62945032452176\n",
            "4  \t [3.11133413 0.        ]\t -5.686376470456184\t -3.6010193697779265\t -3.629533318036846\n",
            "5  \t [9.70346787 8.50929412]\t -34.28297118578492\t -3.6010193697779265\t -3.6293065722933138\n",
            "6  \t [9.9367654  0.73581581]\t -6.490812722618764\t -3.6010193697779265\t -3.6294874211857984\n",
            "7  \t [-0.6195202  11.33294215]\t -36.28496106529289\t -3.6010193697779265\t -3.629533898563171\n",
            "8  \t [1.56074043 4.20064923]\t -10.233428734977783\t -3.6010193697779265\t -3.627052115245637\n",
            "9  \t [-2.53287617  0.2265116 ]\t -115.19315667597515\t -3.6010193697779265\t -3.6295339206173396\n",
            "10 \t [6.54561084 0.        ]\t -20.52161785545228\t -3.6010193697779265\t -3.6140315853373823\n",
            "11 \t [6.0458577  8.12119653]\t -68.63406939804878\t -3.6010193697779265\t -3.555324378123724\n",
            "12 \t [ 4.68107407 14.96625596]\t -194.26970941980653\t -3.6010193697779265\t -3.5965266202756845\n",
            "13 \t [-5.         10.50373468]\t -57.39460205302869\t -3.6010193697779265\t -3.599841291223589\n",
            "14 \t [2.43309701 7.10720069]\t -20.47348795811149\t -3.6010193697779265\t -3.4341843712697733\n",
            "15 \t [10.          4.55181794]\t -4.342112083281274\t -3.6010193697779265\t -3.5564279393024343\n",
            "16 \t [0.9476583  1.34257093]\t -26.265185563975166\t -3.6010193697779265\t -3.3845759498569494\n",
            "17 \t [3.89175399 3.17224744]\t -4.9621850236122365\t -3.6010193697779265\t -3.2964840048811177\n",
            "18 \t [8.48415476 2.47485514]\t -4.802652555865299\t -3.6010193697779265\t -2.9369542433718197\n",
            "19 \t [4.7187222  1.72006089]\t -10.185897482463801\t -3.6010193697779265\t -2.4932379178095934\n",
            "20 \t [-0.75272331  5.17702483]\t -21.393441640847428\t -3.6010193697779265\t -2.7289000963578847\n"
          ]
        }
      ]
    },
    {
      "cell_type": "code",
      "metadata": {
        "id": "PhLBVOIfIvol",
        "colab": {
          "base_uri": "https://localhost:8080/"
        },
        "outputId": "75136e07-4e98-4f0e-b4e8-c1daeb70d7b9"
      },
      "source": [
        "### EXACT GP EI GRADIENTS\n",
        "\n",
        "np.random.seed(run_num_4)\n",
        "surrogate_exact_4 = dGaussianProcess(cov_func, optimize=opt)\n",
        "\n",
        "exact_4 = dGPGO(surrogate_exact_4, Acquisition_new(util_grad_exact), objfunc, param)\n",
        "exact_4.run(init_evals=n_init, max_iter=iters)\n"
      ],
      "execution_count": null,
      "outputs": [
        {
          "output_type": "stream",
          "name": "stdout",
          "text": [
            "Evaluation \t Proposed point \t  Current eval. \t  Best eval. \t         Max AcqFunc.\n",
            "init\t [9.50544759 8.20848374]\t -32.51676744781521\t -7.247126865776948\t    \n",
            "init\t [ 9.5902654  10.72223991]\t -66.20566674364716\t -7.247126865776948\t    \n",
            "init\t [5.46593237 3.24134243]\t -20.90089401680587\t -7.247126865776948\t    \n",
            "init\t [9.64411682 0.09345383]\t -7.247126865776948\t -7.247126865776948\t    \n",
            "init\t [-1.20526456  6.52187299]\t -15.941376982363263\t -7.247126865776948\t    \n",
            "1  \t [-5.  0.]\t -308.12909601160663\t -7.247126865776948\t -7.24719790983207\n",
            "2  \t [ 1.1294018  14.15696259]\t -109.93986979623045\t -7.247126865776948\t -7.247197909835409\n",
            "3  \t [1.01107069 0.        ]\t -35.554826707809156\t -7.247126865776948\t -7.24719303389414\n",
            "4  \t [3.23218268 8.99706827]\t -46.56384602934775\t -7.247126865776948\t -7.247168110546214\n",
            "5  \t [-4.71931664 12.72607102]\t -23.47782987479111\t -7.247126865776948\t -7.247197172880776\n",
            "6  \t [ 6.54237273 15.        ]\t -212.0210607174384\t -7.247126865776948\t -7.247147720643839\n",
            "7  \t [-5.          4.97123958]\t -161.95735144062687\t -7.247126865776948\t -7.2447472713287375\n",
            "\u001b[1m\u001b[92m8\u001b[0m\t \u001b[1m\u001b[92m[9.02535081 4.41775622]\u001b[0m\t \u001b[1m\u001b[92m-6.257130409697806\u001b[0m\t \u001b[1m\u001b[92m-6.257130409697806\u001b[0m\t \u001b[1m\u001b[92m-7.22714768884938\u001b[0m\n",
            "9  \t [-1.66747037 10.74580077]\t -12.075583092561683\t -6.257130409697806\t -6.2376813451978075\n",
            "10 \t [-1.14870967  2.88992831]\t -40.03311016175269\t -6.257130409697806\t -6.213274618232779\n",
            "11 \t [2.30621771 4.92833989]\t -7.212593938941006\t -6.257130409697806\t -6.225541545975544\n",
            "12 \t [-4.78210044  9.01143995]\t -67.72817440816127\t -6.257130409697806\t -6.212193544860332\n",
            "13 \t [4.98289101 0.        ]\t -14.1966391438109\t -6.257130409697806\t -6.202299933306357\n",
            "14 \t [6.14503446 6.75154276]\t -51.47240275629184\t -6.257130409697806\t -6.190590098278462\n",
            "15 \t [10. 15.]\t -145.87219087939556\t -6.257130409697806\t -5.985984583841141\n",
            "16 \t [-2.31940994 14.86579944]\t -23.52937322780063\t -6.257130409697806\t -6.078379981451645\n",
            "17 \t [ 5.97759725 11.05583517]\t -118.2293824651525\t -6.257130409697806\t -6.107062664164485\n",
            "\u001b[1m\u001b[92m18\u001b[0m\t \u001b[1m\u001b[92m[2.81891202 2.33673074]\u001b[0m\t \u001b[1m\u001b[92m-0.9348218204625756\u001b[0m\t \u001b[1m\u001b[92m-0.9348218204625756\u001b[0m\t \u001b[1m\u001b[92m-5.664047515011343\u001b[0m\n",
            "19 \t [8.122305   1.74929378]\t -7.477989934904331\t -0.9348218204625756\t -1.0575158903887298\n",
            "20 \t [ 0.81186795 10.58999841]\t -50.212582057427106\t -0.9348218204625756\t -0.9133930620309507\n"
          ]
        }
      ]
    },
    {
      "cell_type": "code",
      "metadata": {
        "id": "arbiPyj2IvsJ",
        "colab": {
          "base_uri": "https://localhost:8080/"
        },
        "outputId": "548bbe2a-6e60-414e-a045-44f425ba1c9f"
      },
      "source": [
        "### EXACT GP EI GRADIENTS\n",
        "\n",
        "np.random.seed(run_num_5)\n",
        "surrogate_exact_5 = dGaussianProcess(cov_func, optimize=opt)\n",
        "\n",
        "exact_5 = dGPGO(surrogate_exact_5, Acquisition_new(util_grad_exact), objfunc, param)\n",
        "exact_5.run(init_evals=n_init, max_iter=iters)\n"
      ],
      "execution_count": null,
      "outputs": [
        {
          "output_type": "stream",
          "name": "stdout",
          "text": [
            "Evaluation \t Proposed point \t  Current eval. \t  Best eval. \t         Max AcqFunc.\n",
            "init\t [-1.67010243 13.06098459]\t -25.390690545664548\t -25.311309190989615\t    \n",
            "init\t [-1.89921267 13.77916362]\t -25.311309190989615\t -25.311309190989615\t    \n",
            "init\t [2.32616783 9.17615794]\t -41.60147975414021\t -25.311309190989615\t    \n",
            "init\t [6.48861785 7.77626982]\t -63.81281921768236\t -25.311309190989615\t    \n",
            "init\t [-0.54799248  2.81581843]\t -34.966203644931994\t -25.311309190989615\t    \n",
            "\u001b[1m\u001b[92m1\u001b[0m\t \u001b[1m\u001b[92m[8.84124421 0.03321319]\u001b[0m\t \u001b[1m\u001b[92m-5.96108856337545\u001b[0m\t \u001b[1m\u001b[92m-5.96108856337545\u001b[0m\t \u001b[1m\u001b[92m-25.311309180989422\u001b[0m\n",
            "2  \t [ 8.39476442 14.47736321]\t -167.21523769473345\t -5.96108856337545\t -5.961907098265746\n",
            "3  \t [-5.          8.10986515]\t -95.12466680670255\t -5.96108856337545\t -5.96190691908924\n",
            "4  \t [-5.  0.]\t -308.12909601160663\t -5.96108856337545\t -5.961890642966492\n",
            "5  \t [4.68041959 2.64376529]\t -11.288061329654056\t -5.96108856337545\t -5.961858176609415\n",
            "6  \t [ 3.07485242 14.94793353]\t -159.6914920096218\t -5.96108856337545\t -5.961813011235977\n",
            "\u001b[1m\u001b[92m7\u001b[0m\t \u001b[1m\u001b[92m[10.          4.34286402]\u001b[0m\t \u001b[1m\u001b[92m-3.738492541321359\u001b[0m\t \u001b[1m\u001b[92m-3.738492541321359\u001b[0m\t \u001b[1m\u001b[92m-5.961580684366263\u001b[0m\n",
            "8  \t [10.         10.27581248]\t -54.83757329070061\t -3.738492541321359\t -3.7562928147610672\n",
            "9  \t [-1.03519792  6.99126788]\t -15.53210397903008\t -3.738492541321359\t -3.7439343411838637\n",
            "10 \t [-4.87522279  4.21394897]\t -170.71102908806404\t -3.738492541321359\t -3.7180356663878285\n",
            "11 \t [2.06982231 0.        ]\t -16.027247417193454\t -3.738492541321359\t -3.746484639019117\n",
            "12 \t [-5.         12.15297558]\t -38.06878161278433\t -3.738492541321359\t -3.706932968479487\n",
            "13 \t [2.33452895 5.41477519]\t -9.24558006183136\t -3.738492541321359\t -3.7210438758412545\n",
            "14 \t [6.54425406 4.56515632]\t -31.16573156949684\t -3.738492541321359\t -3.429854241017659\n",
            "15 \t [ 6.6657743  11.06795891]\t -117.64930528535555\t -3.738492541321359\t -3.4993891210979227\n",
            "16 \t [-0.74857815  9.80931008]\t -23.51472972870166\t -3.738492541321359\t -3.449657163767583\n",
            "17 \t [10.          6.77140164]\t -16.144318607650213\t -3.738492541321359\t -3.5697214976173677\n",
            "18 \t [-1.19292359  0.        ]\t -78.86839901179698\t -3.738492541321359\t -3.3605255014524826\n",
            "\u001b[1m\u001b[92m19\u001b[0m\t \u001b[1m\u001b[92m[9.35759935 2.37003592]\u001b[0m\t \u001b[1m\u001b[92m-0.421935515032267\u001b[0m\t \u001b[1m\u001b[92m-0.421935515032267\u001b[0m\t \u001b[1m\u001b[92m-3.3891902996317853\u001b[0m\n",
            "20 \t [10.          2.09532251]\t -2.7669403081998123\t -0.421935515032267\t -0.7815862085010598\n"
          ]
        }
      ]
    },
    {
      "cell_type": "code",
      "metadata": {
        "id": "04KJCEm_Ivvf",
        "colab": {
          "base_uri": "https://localhost:8080/"
        },
        "outputId": "039912a8-bb3e-4197-fe17-dae97df599b4"
      },
      "source": [
        "### EXACT GP EI GRADIENTS\n",
        "\n",
        "np.random.seed(run_num_6)\n",
        "surrogate_exact_6 = dGaussianProcess(cov_func, optimize=opt)\n",
        "\n",
        "exact_6 = dGPGO(surrogate_exact_6, Acquisition_new(util_grad_exact), objfunc, param)\n",
        "exact_6.run(init_evals=n_init, max_iter=iters)\n"
      ],
      "execution_count": null,
      "outputs": [
        {
          "output_type": "stream",
          "name": "stdout",
          "text": [
            "Evaluation \t Proposed point \t  Current eval. \t  Best eval. \t         Max AcqFunc.\n",
            "init\t [8.39290227 4.97969708]\t -15.553860636684597\t -15.31731051317483\t    \n",
            "init\t [7.31843685 0.62544939]\t -15.31731051317483\t -15.31731051317483\t    \n",
            "init\t [-3.3851498   8.92578096]\t -16.222288919361837\t -15.31731051317483\t    \n",
            "init\t [2.94726043 6.28211143]\t -15.406373581304088\t -15.31731051317483\t    \n",
            "init\t [0.03111774 9.33779148]\t -31.07053245856209\t -15.31731051317483\t    \n",
            "1  \t [10. 15.]\t -145.87219087939556\t -15.31731051317483\t -15.31731050317483\n",
            "2  \t [-2.67838097  0.        ]\t -126.61486786700603\t -15.31731051317483\t -15.317310503174827\n",
            "3  \t [ 4.34724927 14.59608757]\t -177.48889452505895\t -15.31731051317483\t -15.31731050317483\n",
            "4  \t [-1.30746846 14.41632538]\t -49.88755953556025\t -15.31731051317483\t -15.317284392562508\n",
            "5  \t [8.13676748 9.89528697]\t -76.08522805324013\t -15.31731051317483\t -15.317238566090067\n",
            "6  \t [-5.          4.50612463]\t -173.5374838335397\t -15.31731051317483\t -15.317017921989262\n",
            "\u001b[1m\u001b[92m7\u001b[0m\t \u001b[1m\u001b[92m[2.56065162 0.        ]\u001b[0m\t \u001b[1m\u001b[92m-9.65519629652384\u001b[0m\t \u001b[1m\u001b[92m-9.65519629652384\u001b[0m\t \u001b[1m\u001b[92m-15.317164577482284\u001b[0m\n",
            "8  \t [-0.66310856  5.01981229]\t -21.945235150727513\t -9.65519629652384\t -9.642587131498892\n",
            "9  \t [5.57672442 8.22374038]\t -67.45521325732554\t -9.65519629652384\t -9.655195593317918\n",
            "\u001b[1m\u001b[92m10\u001b[0m\t \u001b[1m\u001b[92m[2.89081943 3.07178535]\u001b[0m\t \u001b[1m\u001b[92m-1.0499933199010147\u001b[0m\t \u001b[1m\u001b[92m-1.0499933199010147\u001b[0m\t \u001b[1m\u001b[92m-9.567384965465294\u001b[0m\n",
            "11 \t [-4.83671344 12.1991182 ]\t -31.628938411402274\t -1.0499933199010147\t -1.4181448554091074\n",
            "12 \t [5.24064045 3.49860895]\t -20.09013318586471\t -1.0499933199010147\t -1.3799565942849135\n",
            "13 \t [-2.35948288  2.63627018]\t -64.62465195408333\t -1.0499933199010147\t -1.4303806200772948\n",
            "14 \t [10.          2.42434163]\t -2.2779359530325296\t -1.0499933199010147\t -1.3454184185969436\n",
            "15 \t [ 2.89344444 11.04157831]\t -74.0529961126017\t -1.0499933199010147\t -1.3384265961418602\n",
            "16 \t [1.56965686 2.57203855]\t -11.56860179736689\t -1.0499933199010147\t -1.2494265050758622\n",
            "17 \t [4.79185083 0.01439838]\t -12.519009865422309\t -1.0499933199010147\t -0.9974304633803596\n",
            "18 \t [-2.00739214 11.48281845]\t -9.063345388716673\t -1.0499933199010147\t -0.928718001024263\n",
            "19 \t [-4.0083223  14.75508283]\t -3.8743809675987535\t -1.0499933199010147\t -0.801331329350989\n",
            "20 \t [10.          3.27429568]\t -2.0167655552872485\t -1.0499933199010147\t -0.6492799539873138\n"
          ]
        }
      ]
    },
    {
      "cell_type": "code",
      "metadata": {
        "id": "tAOkme3CIvyO",
        "colab": {
          "base_uri": "https://localhost:8080/"
        },
        "outputId": "535da75b-d32b-4fa7-8f96-d517bde8c33c"
      },
      "source": [
        "### EXACT GP EI GRADIENTS\n",
        "\n",
        "np.random.seed(run_num_7)\n",
        "surrogate_exact_7 = dGaussianProcess(cov_func, optimize=opt)\n",
        "\n",
        "exact_7 = dGPGO(surrogate_exact_7, Acquisition_new(util_grad_exact), objfunc, param)\n",
        "exact_7.run(init_evals=n_init, max_iter=iters)\n"
      ],
      "execution_count": null,
      "outputs": [
        {
          "output_type": "stream",
          "name": "stdout",
          "text": [
            "Evaluation \t Proposed point \t  Current eval. \t  Best eval. \t         Max AcqFunc.\n",
            "init\t [-3.85537566 11.69878188]\t -8.299317850233932\t -5.211335324193094\t    \n",
            "init\t [ 1.57613847 10.85197767]\t -59.50408380701259\t -5.211335324193094\t    \n",
            "init\t [9.66984268 8.07743806]\t -29.714921414987273\t -5.211335324193094\t    \n",
            "init\t [2.51680695 1.080767  ]\t -5.211335324193094\t -5.211335324193094\t    \n",
            "init\t [-0.9734153   7.49823751]\t -15.431057204948033\t -5.211335324193094\t    \n",
            "1  \t [-4.97859679  1.38393519]\t -260.3293952774437\t -5.211335324193094\t -5.214210673253922\n",
            "2  \t [ 7.80155495 14.72615764]\t -186.86153570538508\t -5.211335324193094\t -5.21421067254134\n",
            "3  \t [8.08940775 0.35854539]\t -9.249625108410735\t -5.211335324193094\t -5.214210312347393\n",
            "4  \t [-3.39684884  5.54228873]\t -54.79871094423047\t -5.211335324193094\t -5.214210673253922\n",
            "5  \t [4.93717413 5.49891249]\t -29.845086555570777\t -5.211335324193094\t -5.214195239068471\n",
            "6  \t [-0.76126859 15.        ]\t -76.4502145210903\t -5.211335324193094\t -5.213708632446971\n",
            "\u001b[1m\u001b[92m7\u001b[0m\t \u001b[1m\u001b[92m[10.          3.83258422]\u001b[0m\t \u001b[1m\u001b[92m-2.6314226354824584\u001b[0m\t \u001b[1m\u001b[92m-2.6314226354824584\u001b[0m\t \u001b[1m\u001b[92m-5.210711438793798\u001b[0m\n",
            "8  \t [5.98744485 9.67721516]\t -92.72153836394546\t -2.6314226354824584\t -2.713115868894073\n",
            "9  \t [-0.74275876  0.        ]\t -69.68488488234455\t -2.6314226354824584\t -2.707248543974965\n",
            "10 \t [-4.7803007  14.79125203]\t -13.780473177305767\t -2.6314226354824584\t -2.6884579153924513\n",
            "11 \t [1.29699254 4.02585581]\t -12.612555104465851\t -2.6314226354824584\t -2.69646517590816\n",
            "12 \t [ 3.4997838  14.59788967]\t -159.40599219063606\t -2.6314226354824584\t -2.703987143585994\n",
            "13 \t [5.42061979 1.82772627]\t -16.680457566017523\t -2.6314226354824584\t -2.6393524275216245\n",
            "14 \t [2.28546468 7.23691143]\t -21.343444616260573\t -2.6314226354824584\t -2.546637475952946\n",
            "15 \t [-5.          8.84822644]\t -82.26490279299715\t -2.6314226354824584\t -2.656389837906916\n",
            "16 \t [7.93295813 5.63574992]\t -26.312797061803746\t -2.6314226354824584\t -2.719476122708908\n",
            "17 \t [-1.3066426   3.23533842]\t -38.15930393978224\t -2.6314226354824584\t -2.2295194665041556\n",
            "18 \t [10.         11.71027185]\t -77.76047943156216\t -2.6314226354824584\t -2.6210551492915517\n",
            "19 \t [-1.59861314 11.39835452]\t -16.10322468119923\t -2.6314226354824584\t -2.2687622611156466\n",
            "20 \t [10.          1.97213027]\t -3.0057435884752888\t -2.6314226354824584\t -2.3546790414621\n"
          ]
        }
      ]
    },
    {
      "cell_type": "code",
      "metadata": {
        "id": "69-J3EF4Iv1S",
        "colab": {
          "base_uri": "https://localhost:8080/"
        },
        "outputId": "c7cbf399-b494-446d-f389-4f2a29d3b40e"
      },
      "source": [
        "### EXACT GP EI GRADIENTS\n",
        "\n",
        "np.random.seed(run_num_8)\n",
        "surrogate_exact_8 = dGaussianProcess(cov_func, optimize=opt)\n",
        "\n",
        "exact_8 = dGPGO(surrogate_exact_8, Acquisition_new(util_grad_exact), objfunc, param)\n",
        "exact_8.run(init_evals=n_init, max_iter=iters)\n"
      ],
      "execution_count": null,
      "outputs": [
        {
          "output_type": "stream",
          "name": "stdout",
          "text": [
            "Evaluation \t Proposed point \t  Current eval. \t  Best eval. \t         Max AcqFunc.\n",
            "init\t [ 8.10144104 14.52810994]\t -175.17297136347514\t -15.416245468470875\t    \n",
            "init\t [8.0379181  7.96283537]\t -49.32173799887473\t -15.416245468470875\t    \n",
            "init\t [-1.50907508  0.17098206]\t -83.26753461673219\t -15.416245468470875\t    \n",
            "init\t [1.45703227 6.0352704 ]\t -15.416245468470875\t -15.416245468470875\t    \n",
            "init\t [2.84012007 7.17587694]\t -22.49093277852639\t -15.416245468470875\t    \n",
            "\u001b[1m\u001b[92m1\u001b[0m\t \u001b[1m\u001b[92m[9.77124156 0.43098073]\u001b[0m\t \u001b[1m\u001b[92m-6.499298445992174\u001b[0m\t \u001b[1m\u001b[92m-6.499298445992174\u001b[0m\t \u001b[1m\u001b[92m-15.416245458468238\u001b[0m\n",
            "2  \t [-4.87537438 11.82874897]\t -36.57081146531108\t -6.499298445992174\t -6.499606274426392\n",
            "3  \t [-0.06146391 15.        ]\t -98.82405002647226\t -6.499298445992174\t -6.499605162879605\n",
            "4  \t [4.4595038 0.8533709]\t -7.979766606771776\t -6.499298445992174\t -6.499603335514521\n",
            "5  \t [-5.         6.0933586]\t -135.8006206439636\t -6.499298445992174\t -6.499604961661449\n",
            "6  \t [-0.59967171 10.08537949]\t -27.440988775280903\t -6.499298445992174\t -6.498299639618586\n",
            "7  \t [ 3.81402265 11.86667675]\t -103.64479606779845\t -6.499298445992174\t -6.498871613506784\n",
            "8  \t [7.40395628 3.60928367]\t -19.51908227657733\t -6.499298445992174\t -6.495627153696467\n",
            "9  \t [1.15423972 2.8903799 ]\t -15.972303814139973\t -6.499298445992174\t -6.422331772901898\n",
            "10 \t [-5.          1.23092166]\t -267.3316770126038\t -6.499298445992174\t -6.4455385108865\n",
            "11 \t [ 9.90288513 11.22122281]\t -70.58720754528233\t -6.499298445992174\t -6.405254305489654\n",
            "12 \t [-1.45457497  5.37896212]\t -21.413662906957107\t -6.499298445992174\t -6.312266215619943\n",
            "13 \t [4.34653766 3.81561406]\t -11.821552398433539\t -6.499298445992174\t -6.308999858371636\n",
            "\u001b[1m\u001b[92m14\u001b[0m\t \u001b[1m\u001b[92m[-3.66780073 14.9794794 ]\u001b[0m\t \u001b[1m\u001b[92m-3.6683923541112007\u001b[0m\t \u001b[1m\u001b[92m-3.6683923541112007\u001b[0m\t \u001b[1m\u001b[92m-6.36399991150578\u001b[0m\n",
            "15 \t [6.91978505 0.04950909]\t -18.982638453333138\t -3.6683923541112007\t -3.496272108727359\n",
            "16 \t [1.72816761 0.30640526]\t -19.577029373709163\t -3.6683923541112007\t -3.1831511668875194\n",
            "17 \t [10.          5.72155397]\t -9.33391232056654\t -3.6683923541112007\t -3.3800238961143094\n",
            "18 \t [ 4.67524484 15.        ]\t -195.0709927952468\t -3.6683923541112007\t -3.2299169174402262\n",
            "19 \t [5.38118116 6.48194153]\t -44.102513813882524\t -3.6683923541112007\t -3.037273666404757\n",
            "20 \t [-3.50403068  9.20597036]\t -16.67973291324366\t -3.6683923541112007\t -3.177226151791159\n"
          ]
        }
      ]
    },
    {
      "cell_type": "code",
      "metadata": {
        "id": "vonm9jyuIv4t",
        "colab": {
          "base_uri": "https://localhost:8080/"
        },
        "outputId": "fd61a71d-6c06-424c-eab0-6f7ab5960e5e"
      },
      "source": [
        "### EXACT GP EI GRADIENTS\n",
        "\n",
        "np.random.seed(run_num_9)\n",
        "surrogate_exact_9 = dGaussianProcess(cov_func, optimize=opt)\n",
        "\n",
        "exact_9 = dGPGO(surrogate_exact_9, Acquisition_new(util_grad_exact), objfunc, param)\n",
        "exact_9.run(init_evals=n_init, max_iter=iters)\n"
      ],
      "execution_count": null,
      "outputs": [
        {
          "output_type": "stream",
          "name": "stdout",
          "text": [
            "Evaluation \t Proposed point \t  Current eval. \t  Best eval. \t         Max AcqFunc.\n",
            "init\t [-4.84438769  7.52811888]\t -96.15564306553264\t -3.4640248583909496\t    \n",
            "init\t [2.4365994  2.00744293]\t -3.4640248583909496\t -3.4640248583909496\t    \n",
            "init\t [-2.86833372  3.27838013]\t -70.46930174488207\t -3.4640248583909496\t    \n",
            "init\t [1.27762271 3.72151753]\t -12.982825924833865\t -3.4640248583909496\t    \n",
            "init\t [-3.73910523  5.1824796 ]\t -75.58547400560856\t -3.4640248583909496\t    \n",
            "1  \t [ 7.05609655 14.75038872]\t -200.4388688685465\t -3.4640248583909496\t -3.497841782110876\n",
            "2  \t [-0.46054038 14.56197292]\t -79.4666617606301\t -3.4640248583909496\t -3.4978417820600054\n",
            "3  \t [8.28747407 1.2035024 ]\t -6.196385269800155\t -3.4640248583909496\t -3.497841747459437\n",
            "4  \t [4.57208176 9.16642126]\t -68.60581850295517\t -3.4640248583909496\t -3.497841027786867\n",
            "5  \t [10.          6.41094566]\t -13.557530071759565\t -3.4640248583909496\t -3.497840600895959\n",
            "6  \t [5.8912128  4.49095395]\t -30.322494073443522\t -3.4640248583909496\t -3.4963549913827077\n",
            "7  \t [-0.25390999  9.35697333]\t -27.964529725443967\t -3.4640248583909496\t -3.497270240463581\n",
            "8  \t [-0.32407797  0.        ]\t -61.73473466093925\t -3.4640248583909496\t -3.486530689886054\n",
            "9  \t [10.         10.78990116]\t -62.579646216330644\t -3.4640248583909496\t -3.496897930225781\n",
            "10 \t [4.90384189 0.        ]\t -13.522031488272372\t -3.4640248583909496\t -3.4847623693603853\n",
            "11 \t [-5.         12.65482981]\t -33.267585144709244\t -3.4640248583909496\t -3.4975457514074506\n",
            "12 \t [-5.  0.]\t -308.12909601160663\t -3.4640248583909496\t -3.4820557725560377\n",
            "13 \t [ 3.16990412 14.74787517]\t -156.52302650660098\t -3.4640248583909496\t -3.3962085775099853\n",
            "\u001b[1m\u001b[92m14\u001b[0m\t \u001b[1m\u001b[92m[9.14851126 3.71728919]\u001b[0m\t \u001b[1m\u001b[92m-2.909586327372441\u001b[0m\t \u001b[1m\u001b[92m-2.909586327372441\u001b[0m\t \u001b[1m\u001b[92m-3.239189641910771\u001b[0m\n",
            "15 \t [0.59112688 6.42226502]\t -19.709704572558348\t -2.909586327372441\t -2.7302953624774164\n",
            "16 \t [ 2.10212761 11.29185157]\t -70.205353478914\t -2.909586327372441\t -2.5890652245364265\n",
            "17 \t [-2.31649307 11.64126192]\t -5.075814329907596\t -2.909586327372441\t -2.5256077084111626\n",
            "18 \t [7.43570493 9.37338964]\t -78.94621114259327\t -2.909586327372441\t -2.1022249360640357\n",
            "19 \t [-3.69570719 15.        ]\t -3.667091562175994\t -2.909586327372441\t -2.3895380609097745\n",
            "20 \t [3.36686089 5.99688546]\t -15.78043073149885\t -2.909586327372441\t -2.4747463538988916\n"
          ]
        }
      ]
    },
    {
      "cell_type": "code",
      "metadata": {
        "id": "6amuYlUdIv7r",
        "colab": {
          "base_uri": "https://localhost:8080/"
        },
        "outputId": "428b82e5-4cb1-4b63-a83a-dc16ef2e25e9"
      },
      "source": [
        "### EXACT GP EI GRADIENTS\n",
        "\n",
        "np.random.seed(run_num_10)\n",
        "surrogate_exact_10 = dGaussianProcess(cov_func, optimize=opt)\n",
        "\n",
        "exact_10 = dGPGO(surrogate_exact_10, Acquisition_new(util_grad_exact), objfunc, param)\n",
        "exact_10.run(init_evals=n_init, max_iter=iters)\n"
      ],
      "execution_count": null,
      "outputs": [
        {
          "output_type": "stream",
          "name": "stdout",
          "text": [
            "Evaluation \t Proposed point \t  Current eval. \t  Best eval. \t         Max AcqFunc.\n",
            "init\t [6.56980965 0.31127924]\t -19.863985024602144\t -2.710610964564512\t    \n",
            "init\t [ 4.50472352 11.23205824]\t -103.66999147252169\t -2.710610964564512\t    \n",
            "init\t [2.47760518 3.37194968]\t -2.710610964564512\t -2.710610964564512\t    \n",
            "init\t [-2.02905703 11.40796068]\t -8.463930835255017\t -2.710610964564512\t    \n",
            "init\t [-2.46333745  1.32509721]\t -90.49481266026973\t -2.710610964564512\t    \n",
            "1  \t [ 9.16391068 14.81438212]\t -158.2412724465548\t -2.710610964564512\t -2.791471383796652\n",
            "2  \t [9.65621089 6.61160737]\t -16.1339423373336\t -2.710610964564512\t -2.7914713837968415\n",
            "3  \t [-3.43070383  6.59407857]\t -41.58407101130534\t -2.710610964564512\t -2.7914713830067637\n",
            "4  \t [ 0.96819077 15.        ]\t -124.01518097118615\t -2.710610964564512\t -2.791469974671166\n",
            "5  \t [5.26562048 6.20098174]\t -40.041421370769086\t -2.710610964564512\t -2.7904537681971644\n",
            "6  \t [2.03162754 0.        ]\t -16.618523496513745\t -2.710610964564512\t -2.7866863028494735\n",
            "7  \t [1.01047236 7.61600466]\t -24.665569200327273\t -2.710610964564512\t -2.78986702821703\n",
            "8  \t [-5.         10.18073998]\t -61.816478716264314\t -2.710610964564512\t -2.7605798737696925\n",
            "9  \t [10.         10.49394986]\t -58.058120656467736\t -2.710610964564512\t -2.783263180427601\n",
            "10 \t [7.94022218 3.57703498]\t -13.456090850501376\t -2.710610964564512\t -2.741256539237819\n",
            "11 \t [-0.11817124  4.32816224]\t -23.001137198670662\t -2.710610964564512\t -2.703331288507184\n",
            "12 \t [-2.76256131 14.08230556]\t -8.367518954473718\t -2.710610964564512\t -2.6748855080644156\n",
            "13 \t [-5.          3.66717233]\t -195.5192276684903\t -2.710610964564512\t -2.6102390392331296\n",
            "14 \t [ 5.39036254 14.85363893]\t -203.13986116761663\t -2.710610964564512\t -2.6851835454090707\n",
            "15 \t [ 0.65134126 11.25312579]\t -56.51103222415218\t -2.710610964564512\t -2.600915266916363\n",
            "16 \t [7.30050102 8.6136563 ]\t -69.03425206267073\t -2.710610964564512\t -2.4611197451017666\n",
            "\u001b[1m\u001b[92m17\u001b[0m\t \u001b[1m\u001b[92m[10.          3.28138088]\u001b[0m\t \u001b[1m\u001b[92m-2.020660742058113\u001b[0m\t \u001b[1m\u001b[92m-2.020660742058113\u001b[0m\t \u001b[1m\u001b[92m-2.09248031586683\u001b[0m\n",
            "18 \t [4.0903751  3.23826585]\t -6.923334801492265\t -2.020660742058113\t -1.7980142195900992\n",
            "19 \t [-1.60300068  8.90823786]\t -9.691450059451622\t -2.020660742058113\t -1.5698783841688495\n",
            "20 \t [8.74928056 1.75526397]\t -2.550182827993951\t -2.020660742058113\t -1.1886074229624375\n"
          ]
        }
      ]
    },
    {
      "cell_type": "code",
      "metadata": {
        "id": "VwbLIP9cIv-F",
        "colab": {
          "base_uri": "https://localhost:8080/"
        },
        "outputId": "a4ec6ba1-8eaa-4b83-e18b-1d8eb97c9e0b"
      },
      "source": [
        "### EXACT GP EI GRADIENTS\n",
        "\n",
        "np.random.seed(run_num_11)\n",
        "surrogate_exact_11 = dGaussianProcess(cov_func, optimize=opt)\n",
        "\n",
        "exact_11 = dGPGO(surrogate_exact_11, Acquisition_new(util_grad_exact), objfunc, param)\n",
        "exact_11.run(init_evals=n_init, max_iter=iters)\n"
      ],
      "execution_count": null,
      "outputs": [
        {
          "output_type": "stream",
          "name": "stdout",
          "text": [
            "Evaluation \t Proposed point \t  Current eval. \t  Best eval. \t         Max AcqFunc.\n",
            "init\t [-2.29595467  0.29212862]\t -104.49282729548965\t -22.37435843952312\t    \n",
            "init\t [ 1.9482779  10.87400894]\t -62.47758067812407\t -22.37435843952312\t    \n",
            "init\t [1.30305407 7.28140647]\t -22.37435843952312\t -22.37435843952312\t    \n",
            "init\t [-4.80828778  7.31057411]\t -97.94503054415523\t -22.37435843952312\t    \n",
            "init\t [ 9.12709979 12.76192634]\t -111.62900800771942\t -22.37435843952312\t    \n",
            "\u001b[1m\u001b[92m1\u001b[0m\t \u001b[1m\u001b[92m[6.94653631 0.95529646]\u001b[0m\t \u001b[1m\u001b[92m-17.615403152614682\u001b[0m\t \u001b[1m\u001b[92m-17.615403152614682\u001b[0m\t \u001b[1m\u001b[92m-22.374358429523117\u001b[0m\n",
            "\u001b[1m\u001b[92m2\u001b[0m\t \u001b[1m\u001b[92m[9.28738882 6.14578118]\u001b[0m\t \u001b[1m\u001b[92m-14.808790749874726\u001b[0m\t \u001b[1m\u001b[92m-14.808790749874726\u001b[0m\t \u001b[1m\u001b[92m-17.615402322258053\u001b[0m\n",
            "\u001b[1m\u001b[92m3\u001b[0m\t \u001b[1m\u001b[92m[2.54385739 0.04476512]\u001b[0m\t \u001b[1m\u001b[92m-9.58430283129103\u001b[0m\t \u001b[1m\u001b[92m-9.58430283129103\u001b[0m\t \u001b[1m\u001b[92m-14.808015906178486\u001b[0m\n",
            "4  \t [ 4.54043559 15.        ]\t -192.31515921238574\t -9.58430283129103\t -9.583961681286047\n",
            "\u001b[1m\u001b[92m5\u001b[0m\t \u001b[1m\u001b[92m[-2.78845701 11.96288645]\u001b[0m\t \u001b[1m\u001b[92m-1.2612701228696341\u001b[0m\t \u001b[1m\u001b[92m-1.2612701228696341\u001b[0m\t \u001b[1m\u001b[92m-9.58394422743554\u001b[0m\n",
            "6  \t [4.99074378 5.05294312]\t -26.913905406466366\t -1.2612701228696341\t -1.580847830056668\n",
            "7  \t [-0.18506082 14.68732815]\t -89.80291618540741\t -1.2612701228696341\t -1.579144877136375\n",
            "8  \t [6.22553301 9.18063219]\t -84.90549660847131\t -1.2612701228696341\t -1.5791077547782078\n",
            "9  \t [0.35554859 3.60696505]\t -22.400019960224988\t -1.2612701228696341\t -1.5706649571733462\n",
            "10 \t [-4.61329932  3.14393371]\t -176.69388802956092\t -1.2612701228696341\t -1.531529014095178\n",
            "11 \t [-5.         13.36925696]\t -27.301666173994466\t -1.2612701228696341\t -1.567421565490557\n",
            "12 \t [9.87581541 2.90868594]\t -1.3588692040375303\t -1.2612701228696341\t -1.5448557646256307\n",
            "13 \t [-1.40839824  9.05862644]\t -11.867063821352444\t -1.2612701228696341\t -1.4987122167064277\n",
            "14 \t [9.80212913 9.37818875]\t -44.192245052676036\t -1.2612701228696341\t -1.4038067922158668\n",
            "\u001b[1m\u001b[92m15\u001b[0m\t \u001b[1m\u001b[92m[3.51214421 2.450997  ]\u001b[0m\t \u001b[1m\u001b[92m-1.2496251948904433\u001b[0m\t \u001b[1m\u001b[92m-1.2496251948904433\u001b[0m\t \u001b[1m\u001b[92m-1.3241532090028703\u001b[0m\n",
            "16 \t [8.08493465 3.57688428]\t -11.802669332554597\t -1.2496251948904433\t -1.2760713463774673\n",
            "17 \t [-1.69663552  6.07120048]\t -17.800539760092622\t -1.2496251948904433\t -1.302433247012185\n",
            "18 \t [9.94473912 1.77829676]\t -3.036350240464917\t -1.2496251948904433\t -1.2857480111974346\n",
            "19 \t [-3.72854386 10.59665556]\t -11.82337510284313\t -1.2496251948904433\t -1.2417704322724061\n",
            "20 \t [-1.64550271 11.83627901]\t -17.506399829213656\t -1.2496251948904433\t -1.16857272894796\n"
          ]
        }
      ]
    },
    {
      "cell_type": "code",
      "metadata": {
        "id": "MlUNFjc-JTBY",
        "colab": {
          "base_uri": "https://localhost:8080/"
        },
        "outputId": "38621cd0-4d25-4b99-a006-fa723ca1dab3"
      },
      "source": [
        "### EXACT GP EI GRADIENTS\n",
        "\n",
        "np.random.seed(run_num_12)\n",
        "surrogate_exact_12 = dGaussianProcess(cov_func, optimize=opt)\n",
        "\n",
        "exact_12 = dGPGO(surrogate_exact_12, Acquisition_new(util_grad_exact), objfunc, param)\n",
        "exact_12.run(init_evals=n_init, max_iter=iters)\n"
      ],
      "execution_count": null,
      "outputs": [
        {
          "output_type": "stream",
          "name": "stdout",
          "text": [
            "Evaluation \t Proposed point \t  Current eval. \t  Best eval. \t         Max AcqFunc.\n",
            "init\t [-2.68755736 11.10074545]\t -1.3827702760021356\t -0.5499315281120278\t    \n",
            "init\t [-1.05027477  8.0060909 ]\t -14.81231853080056\t -0.5499315281120278\t    \n",
            "init\t [-4.78137556 13.78120512]\t -18.401131000214548\t -0.5499315281120278\t    \n",
            "init\t [8.51072281 0.50132141]\t -5.855172364344769\t -0.5499315281120278\t    \n",
            "init\t [9.35424004 2.05813982]\t -0.5499315281120278\t -0.5499315281120278\t    \n",
            "1  \t [10.         4.2917554]\t -3.604142984594371\t -0.5499315281120278\t -1.1031910701027643\n",
            "2  \t [ 9.19833734 12.85785838]\t -112.3096138370831\t -0.5499315281120278\t -1.1028242099285575\n",
            "3  \t [-4.8799499   0.15657603]\t -290.0404981832191\t -0.5499315281120278\t -1.1028242099285575\n",
            "4  \t [2.31082274 1.96051811]\t -4.630930870259078\t -0.5499315281120278\t -1.1028242068712346\n",
            "5  \t [4.84411484 8.7761414 ]\t -66.82952699849903\t -0.5499315281120278\t -1.1028234850224659\n",
            "6  \t [ 2.01644576 13.63114238]\t -112.26327042119459\t -0.5499315281120278\t -1.102821103305723\n",
            "7  \t [-5.          5.48610464]\t -149.64313048168344\t -0.5499315281120278\t -1.1026875780570733\n",
            "8  \t [9.91777015 8.21247811]\t -29.527850223409104\t -0.5499315281120278\t -1.1017339644738382\n",
            "9  \t [5.83605685 4.11212784]\t -27.661352282770494\t -0.5499315281120278\t -1.1020653510056762\n",
            "10 \t [-0.41259758  0.        ]\t -63.40084360945968\t -0.5499315281120278\t -1.0937524361377278\n",
            "11 \t [-5.          9.73650373]\t -68.23901363739964\t -0.5499315281120278\t -1.084386817884059\n",
            "12 \t [ 5.81229962 15.        ]\t -211.38764072010517\t -0.5499315281120278\t -1.0818386409848857\n",
            "13 \t [1.70927602 5.55502955]\t -12.27694534891511\t -0.5499315281120278\t -1.09465962953207\n",
            "14 \t [-1.25433527  3.80359406]\t -32.31300814999328\t -0.5499315281120278\t -1.0721742732223876\n",
            "15 \t [5.02410618 0.        ]\t -14.544412167304742\t -0.5499315281120278\t -1.0928929156632123\n",
            "16 \t [-1.64209086 15.        ]\t -45.775740647302655\t -0.5499315281120278\t -1.0672505511928856\n",
            "17 \t [1.54730283 9.54676263]\t -42.71653531010302\t -0.5499315281120278\t -0.9851324858254821\n",
            "18 \t [-1.28563115 11.40135005]\t -22.57139472963668\t -0.5499315281120278\t -0.9575109861519772\n",
            "19 \t [9.71853522 2.52537767]\t -0.8527132899758332\t -0.5499315281120278\t -0.7614632156693876\n",
            "20 \t [7.47692657 6.55484485]\t -40.917086051105855\t -0.5499315281120278\t -0.8403263409564498\n"
          ]
        }
      ]
    },
    {
      "cell_type": "code",
      "metadata": {
        "id": "9BsKdU9eJTFL",
        "colab": {
          "base_uri": "https://localhost:8080/"
        },
        "outputId": "9a520385-aa1a-42c6-b370-98eab91df548"
      },
      "source": [
        "### EXACT GP EI GRADIENTS\n",
        "\n",
        "np.random.seed(run_num_13)\n",
        "surrogate_exact_13 = dGaussianProcess(cov_func, optimize=opt)\n",
        "\n",
        "exact_13 = dGPGO(surrogate_exact_13, Acquisition_new(util_grad_exact), objfunc, param)\n",
        "exact_13.run(init_evals=n_init, max_iter=iters)\n"
      ],
      "execution_count": null,
      "outputs": [
        {
          "output_type": "stream",
          "name": "stdout",
          "text": [
            "Evaluation \t Proposed point \t  Current eval. \t  Best eval. \t         Max AcqFunc.\n",
            "init\t [6.66553616 3.5631183 ]\t -24.823670200298267\t -18.038943061558626\t    \n",
            "init\t [ 7.36417799 14.48623797]\t -188.7803334745195\t -18.038943061558626\t    \n",
            "init\t [9.58901671 6.80173871]\t -18.038943061558626\t -18.038943061558626\t    \n",
            "init\t [ 4.13563694 11.63289772]\t -104.87319703906111\t -18.038943061558626\t    \n",
            "init\t [ 4.62420017 10.83027344]\t -98.03271225790056\t -18.038943061558626\t    \n",
            "1  \t [-5.  0.]\t -308.12909601160663\t -18.038943061558626\t -18.038943051558626\n",
            "\u001b[1m\u001b[92m2\u001b[0m\t \u001b[1m\u001b[92m[-3.06562888 11.40851515]\u001b[0m\t \u001b[1m\u001b[92m-0.8943531028899869\u001b[0m\t \u001b[1m\u001b[92m-0.8943531028899869\u001b[0m\t \u001b[1m\u001b[92m-18.038943051335508\u001b[0m\n",
            "3  \t [-0.77721745  5.55115316]\t -19.956248293009427\t -0.8943531028899869\t -1.3235330933561291\n",
            "4  \t [-0.24948802 15.        ]\t -93.17689500314201\t -0.8943531028899869\t -1.3235177097998942\n",
            "5  \t [2.24297905 0.        ]\t -13.507883026233038\t -0.8943531028899869\t -1.3235322551908622\n",
            "6  \t [-5.          5.28665565]\t -154.35051756072184\t -0.8943531028899869\t -1.3225749397382602\n",
            "7  \t [3.49764332 6.24904563]\t -18.93821276490805\t -0.8943531028899869\t -1.3211035465224805\n",
            "8  \t [0.1330055  9.52209063]\t -33.441323493506054\t -0.8943531028899869\t -1.3200366139689346\n",
            "9  \t [10.         10.78922699]\t -62.56914709872043\t -0.8943531028899869\t -1.3194380651322113\n",
            "10 \t [-0.92831084  1.79465985]\t -49.32527682039021\t -0.8943531028899869\t -1.3066966697447586\n",
            "11 \t [10.          2.34599735]\t -2.374736122313256\t -0.8943531028899869\t -1.307980519050548\n",
            "12 \t [6.27024657 0.        ]\t -20.810450559762344\t -0.8943531028899869\t -1.3086538830571737\n",
            "13 \t [-4.80002934  9.45928692]\t -62.05801658060028\t -0.8943531028899869\t -1.305215000102772\n",
            "\u001b[1m\u001b[92m14\u001b[0m\t \u001b[1m\u001b[92m[-3.31431208 12.77757262]\u001b[0m\t \u001b[1m\u001b[92m-0.5477511752924471\u001b[0m\t \u001b[1m\u001b[92m-0.5477511752924471\u001b[0m\t \u001b[1m\u001b[92m-1.2778629655476512\u001b[0m\n",
            "15 \t [-4.90448245 13.24427689]\t -25.293617388650464\t -0.5477511752924471\t -1.0440403145313477\n",
            "16 \t [2.99675887 3.0237469 ]\t -0.899221563975825\t -0.5477511752924471\t -1.0314975051778994\n",
            "17 \t [6.54094574 7.54214436]\t -60.57009683036506\t -0.5477511752924471\t -1.0200857815158388\n",
            "18 \t [1.84963948 3.68095808]\t -7.390491087598858\t -0.5477511752924471\t -0.8550037114019037\n",
            "19 \t [3.72213456 2.83138554]\t -2.9034036119451967\t -0.5477511752924471\t -0.8358817078308841\n",
            "20 \t [-2.61803296 12.67726494]\t -4.325066076777643\t -0.5477511752924471\t -1.086439596505274\n"
          ]
        }
      ]
    },
    {
      "cell_type": "code",
      "metadata": {
        "id": "k6GjFBr1JTJf",
        "colab": {
          "base_uri": "https://localhost:8080/"
        },
        "outputId": "1e1919c7-688b-4151-d879-f9820bce2266"
      },
      "source": [
        "### EXACT GP EI GRADIENTS\n",
        "\n",
        "np.random.seed(run_num_14)\n",
        "surrogate_exact_14 = dGaussianProcess(cov_func, optimize=opt)\n",
        "\n",
        "exact_14 = dGPGO(surrogate_exact_14, Acquisition_new(util_grad_exact), objfunc, param)\n",
        "exact_14.run(init_evals=n_init, max_iter=iters)\n"
      ],
      "execution_count": null,
      "outputs": [
        {
          "output_type": "stream",
          "name": "stdout",
          "text": [
            "Evaluation \t Proposed point \t  Current eval. \t  Best eval. \t         Max AcqFunc.\n",
            "init\t [ 2.70915016 11.59747578]\t -81.58264375064097\t -1.4149920024014744\t    \n",
            "init\t [8.05641529 0.12070423]\t -10.148649076616518\t -1.4149920024014744\t    \n",
            "init\t [-0.35396112 14.36405609]\t -79.6056658956529\t -1.4149920024014744\t    \n",
            "init\t [2.69675068 4.77426637]\t -5.855607664288365\t -1.4149920024014744\t    \n",
            "init\t [3.08799906 3.31882414]\t -1.4149920024014744\t -1.4149920024014744\t    \n",
            "1  \t [-4.22572169  4.73878507]\t -111.46482334173054\t -1.4149920024014744\t -1.6971407473891316\n",
            "2  \t [ 9.02510452 14.92575454]\t -164.15736583327134\t -1.4149920024014744\t -1.6971407472101587\n",
            "3  \t [8.4415984  6.61360555]\t -28.132050221972662\t -1.4149920024014744\t -1.6971407168951451\n",
            "4  \t [-0.6348753  0.       ]\t -67.61008168553072\t -1.4149920024014744\t -1.6971390234773085\n",
            "5  \t [-2.40015779  9.60941637]\t -3.8299944025381123\t -1.4149920024014744\t -1.6970290297096808\n",
            "6  \t [ 7.23036704 10.62018868]\t -103.48188921884048\t -1.4149920024014744\t -1.6935880450179355\n",
            "7  \t [10.          3.08569949]\t -1.9499870470857505\t -1.4149920024014744\t -1.6836721409057758\n",
            "8  \t [-5.         13.12598231]\t -29.21854407846937\t -1.4149920024014744\t -1.6967494853321812\n",
            "9  \t [-5.  0.]\t -308.12909601160663\t -1.4149920024014744\t -1.6948514617478054\n",
            "10 \t [3.81718987 0.35764269]\t -4.608055435820795\t -1.4149920024014744\t -1.6936301911550011\n",
            "11 \t [ 4.73297197 15.        ]\t -196.2170449024405\t -1.4149920024014744\t -1.6785393085082991\n",
            "12 \t [5.86460467 3.7334441 ]\t -25.659208254997083\t -1.4149920024014744\t -1.6778116579243774\n",
            "13 \t [0.22924746 7.99065372]\t -24.86739965679198\t -1.4149920024014744\t -1.682039252107267\n",
            "14 \t [4.16184    7.76735316]\t -42.84258223436467\t -1.4149920024014744\t -1.6703385823973875\n",
            "15 \t [-0.38900439  4.28274191]\t -24.435101215447954\t -1.4149920024014744\t -1.6460254044665308\n",
            "16 \t [-4.97973113  8.44579078]\t -87.93417808017053\t -1.4149920024014744\t -1.6384773681437101\n",
            "17 \t [5.5911543  0.04197834]\t -18.59846086462394\t -1.4149920024014744\t -1.1959623742866035\n",
            "18 \t [8.79961473 2.52422178]\t -2.4907088283548564\t -1.4149920024014744\t -1.1926576251923247\n",
            "19 \t [2.66167425 1.27068607]\t -3.4660253665962424\t -1.4149920024014744\t -1.2429952194167957\n",
            "20 \t [-1.50421271 11.24621613]\t -17.191893340339796\t -1.4149920024014744\t -1.374202956694882\n"
          ]
        }
      ]
    },
    {
      "cell_type": "code",
      "metadata": {
        "id": "dPS8WB3aJTN6",
        "colab": {
          "base_uri": "https://localhost:8080/"
        },
        "outputId": "7f8d5132-422e-4c04-c7d0-3cef27e0379d"
      },
      "source": [
        "### EXACT GP EI GRADIENTS\n",
        "\n",
        "np.random.seed(run_num_15)\n",
        "surrogate_exact_15 = dGaussianProcess(cov_func, optimize=opt)\n",
        "\n",
        "exact_15 = dGPGO(surrogate_exact_15, Acquisition_new(util_grad_exact), objfunc, param)\n",
        "exact_15.run(init_evals=n_init, max_iter=iters)\n"
      ],
      "execution_count": null,
      "outputs": [
        {
          "output_type": "stream",
          "name": "stdout",
          "text": [
            "Evaluation \t Proposed point \t  Current eval. \t  Best eval. \t         Max AcqFunc.\n",
            "init\t [7.73226546 2.68343887]\t -12.768724532005583\t -12.768724532005583\t    \n",
            "init\t [-4.18455179  5.42307669]\t -95.39334176626551\t -12.768724532005583\t    \n",
            "init\t [-0.86898607  7.95000337]\t -16.419487782111716\t -12.768724532005583\t    \n",
            "init\t [-0.41121626  4.56711539]\t -23.250362743740954\t -12.768724532005583\t    \n",
            "init\t [-3.32388086  3.74848521]\t -80.99796277938532\t -12.768724532005583\t    \n",
            "1  \t [10. 15.]\t -145.87219087939556\t -12.768724532005583\t -12.768724522031357\n",
            "2  \t [-4.77493765 13.49591113]\t -19.896906503438096\t -12.768724532005583\t -12.768724521196418\n",
            "3  \t [ 3.80261319 11.96078244]\t -105.3381651976412\t -12.768724532005583\t -12.76872447075339\n",
            "4  \t [8.63272613 8.32488519]\t -44.68998814179533\t -12.768724532005583\t -12.768723384052656\n",
            "\u001b[1m\u001b[92m5\u001b[0m\t \u001b[1m\u001b[92m[2.63098807 0.01106722]\u001b[0m\t \u001b[1m\u001b[92m-8.890052611403327\u001b[0m\t \u001b[1m\u001b[92m-8.890052611403327\u001b[0m\t \u001b[1m\u001b[92m-12.76872065092249\u001b[0m\n",
            "6  \t [4.00168618 6.51255375]\t -26.898368577701646\t -8.890052611403327\t -8.889814524898156\n",
            "7  \t [-1.40724858  0.        ]\t -83.73754499640867\t -8.890052611403327\t -8.883378942217725\n",
            "8  \t [-0.25920208 15.        ]\t -92.87695097448946\t -8.890052611403327\t -8.889798709941617\n",
            "\u001b[1m\u001b[92m9\u001b[0m\t \u001b[1m\u001b[92m[3.61319085 3.0311653 ]\u001b[0m\t \u001b[1m\u001b[92m-2.6455160649188842\u001b[0m\t \u001b[1m\u001b[92m-2.6455160649188842\u001b[0m\t \u001b[1m\u001b[92m-8.829975440377986\u001b[0m\n",
            "10 \t [-4.06847001  9.59158085]\t -29.45510497817347\t -2.6455160649188842\t -2.7105080467909923\n",
            "11 \t [-5.  0.]\t -308.12909601160663\t -2.6455160649188842\t -2.6654374478958696\n",
            "12 \t [-0.77793435 11.29116954]\t -32.63978577537418\t -2.6455160649188842\t -2.6514730164528655\n",
            "13 \t [ 7.29495093 12.4883381 ]\t -141.06833598000512\t -2.6455160649188842\t -2.5661688432328913\n",
            "14 \t [10.          4.91708611]\t -5.607032443023641\t -2.6455160649188842\t -2.6719733769314176\n",
            "15 \t [1.67894419 9.19851899]\t -39.28500108182337\t -2.6455160649188842\t -2.3934315093059175\n",
            "16 \t [7.66749604 5.14812308]\t -25.89159254231835\t -2.6455160649188842\t -2.222109434178295\n",
            "17 \t [5.08330669 9.19463846]\t -76.63281136023525\t -2.6455160649188842\t -2.0182639761363483\n",
            "18 \t [5.4554963  0.60383109]\t -16.808315376835758\t -2.6455160649188842\t -2.6117222485450178\n",
            "19 \t [5.21169875 3.43601347]\t -19.53409967079577\t -2.6455160649188842\t -1.9863460198300473\n",
            "20 \t [ 5.68303817 15.        ]\t -210.37247823470142\t -2.6455160649188842\t -1.9447891355885336\n"
          ]
        }
      ]
    },
    {
      "cell_type": "code",
      "metadata": {
        "id": "SHWdp2giJTRm",
        "colab": {
          "base_uri": "https://localhost:8080/"
        },
        "outputId": "63156e98-3887-4736-9d08-a038de5ec37e"
      },
      "source": [
        "### EXACT GP EI GRADIENTS\n",
        "\n",
        "np.random.seed(run_num_16)\n",
        "surrogate_exact_16 = dGaussianProcess(cov_func, optimize=opt)\n",
        "\n",
        "exact_16 = dGPGO(surrogate_exact_16, Acquisition_new(util_grad_exact), objfunc, param)\n",
        "exact_16.run(init_evals=n_init, max_iter=iters)\n"
      ],
      "execution_count": null,
      "outputs": [
        {
          "output_type": "stream",
          "name": "stdout",
          "text": [
            "Evaluation \t Proposed point \t  Current eval. \t  Best eval. \t         Max AcqFunc.\n",
            "init\t [-1.65063381  7.84745012]\t -10.514702126319445\t -2.715864006988424\t    \n",
            "init\t [3.26052185 0.68402925]\t -2.715864006988424\t -2.715864006988424\t    \n",
            "init\t [0.41093253 3.34621413]\t -22.889515127492515\t -2.715864006988424\t    \n",
            "init\t [5.33089243 2.45597138]\t -17.178157611778595\t -2.715864006988424\t    \n",
            "init\t [-3.945127  14.1151629]\t -3.3649224341694195\t -2.715864006988424\t    \n",
            "1  \t [ 5.63879248 14.58068289]\t -198.51319639462758\t -2.715864006988424\t -2.7962650410643577\n",
            "2  \t [-5.          0.76360453]\t -282.4634960240413\t -2.715864006988424\t -2.796264877786649\n",
            "3  \t [6.4086727  8.01053377]\t -67.19879991173286\t -2.715864006988424\t -2.796264138365111\n",
            "4  \t [ 1.37630907 11.42929673]\t -66.24718744041212\t -2.715864006988424\t -2.7961126043039553\n",
            "5  \t [-5.         10.21600199]\t -61.323587189474544\t -2.715864006988424\t -2.7947614482403345\n",
            "6  \t [10.         4.0174364]\t -2.9723099203221883\t -2.715864006988424\t -2.796205633171273\n",
            "7  \t [10.         11.64579395]\t -76.64177808743001\t -2.715864006988424\t -2.79610904623872\n",
            "8  \t [2.37025999 6.80135031]\t -17.922255544951717\t -2.715864006988424\t -2.786831572144048\n",
            "9  \t [8.62900177 0.84186346]\t -4.370397698747435\t -2.715864006988424\t -2.78360629882312\n",
            "10 \t [-5.          5.57680421]\t -147.528759283989\t -2.715864006988424\t -2.7931362167966163\n",
            "11 \t [-0.60075742  0.        ]\t -66.95949101400782\t -2.715864006988424\t -2.7665583192450316\n",
            "12 \t [-1.98556555 12.49323228]\t -14.104401720295524\t -2.715864006988424\t -2.6542551061688484\n",
            "13 \t [ 0.49808598 15.        ]\t -113.7062993358486\t -2.715864006988424\t -2.7485658755474165\n",
            "14 \t [10. 15.]\t -145.87219087939556\t -2.715864006988424\t -2.6648715570417933\n",
            "15 \t [6.02532716 4.94305188]\t -34.05076542395406\t -2.715864006988424\t -2.272851142159834\n",
            "16 \t [10.         7.4930357]\t -22.103950953638623\t -2.715864006988424\t -2.7443245928856537\n",
            "17 \t [ 4.4639101  11.23526934]\t -103.00566630125667\t -2.715864006988424\t -2.3604279688763277\n",
            "18 \t [-2.33079398  3.50645045]\t -51.062990238156985\t -2.715864006988424\t -2.2499121625801815\n",
            "19 \t [8.79457482 2.76382139]\t -2.8339002481106537\t -2.715864006988424\t -2.1622713462840397\n",
            "20 \t [6.38103885 0.        ]\t -20.775770489177802\t -2.715864006988424\t -2.473073831518156\n"
          ]
        }
      ]
    },
    {
      "cell_type": "code",
      "metadata": {
        "id": "yU2SflSsJTUs",
        "colab": {
          "base_uri": "https://localhost:8080/"
        },
        "outputId": "967989bb-b61e-4394-ab43-ce6a8fcc3238"
      },
      "source": [
        "### EXACT GP EI GRADIENTS\n",
        "\n",
        "np.random.seed(run_num_17)\n",
        "surrogate_exact_17 = dGaussianProcess(cov_func, optimize=opt)\n",
        "\n",
        "exact_17 = dGPGO(surrogate_exact_17, Acquisition_new(util_grad_exact), objfunc, param)\n",
        "exact_17.run(init_evals=n_init, max_iter=iters)\n"
      ],
      "execution_count": null,
      "outputs": [
        {
          "output_type": "stream",
          "name": "stdout",
          "text": [
            "Evaluation \t Proposed point \t  Current eval. \t  Best eval. \t         Max AcqFunc.\n",
            "init\t [-0.58002496  7.95880133]\t -19.016141117164256\t -19.016141117164256\t    \n",
            "init\t [-2.1271882   1.01850537]\t -85.05949339404415\t -19.016141117164256\t    \n",
            "init\t [6.8047819  9.84500283]\t -93.89792695202516\t -19.016141117164256\t    \n",
            "init\t [4.56281344 8.63404341]\t -60.50217141122736\t -19.016141117164256\t    \n",
            "init\t [-4.41405626  5.36720407]\t -110.70834086593878\t -19.016141117164256\t    \n",
            "\u001b[1m\u001b[92m1\u001b[0m\t \u001b[1m\u001b[92m[9.76575296 0.98553483]\u001b[0m\t \u001b[1m\u001b[92m-4.1623278326263815\u001b[0m\t \u001b[1m\u001b[92m-4.1623278326263815\u001b[0m\t \u001b[1m\u001b[92m-19.016141107164255\u001b[0m\n",
            "2  \t [-0.36591853 14.49945231]\t -81.3728947682288\t -4.1623278326263815\t -4.175953248370189\n",
            "\u001b[1m\u001b[92m3\u001b[0m\t \u001b[1m\u001b[92m[3.74599703 2.35814314]\u001b[0m\t \u001b[1m\u001b[92m-2.3563457989420957\u001b[0m\t \u001b[1m\u001b[92m-2.3563457989420957\u001b[0m\t \u001b[1m\u001b[92m-4.175952634281328\u001b[0m\n",
            "4  \t [10.         14.92965946]\t -144.18938157396997\t -2.3563457989420957\t -2.4736666897768274\n",
            "5  \t [9.39679852 5.53959908]\t -9.938002284241987\t -2.3563457989420957\t -2.473477792499469\n",
            "6  \t [-5.         11.20259998]\t -48.541107314045135\t -2.3563457989420957\t -2.4736597536760607\n",
            "7  \t [ 4.76695041 15.        ]\t -196.88087701650383\t -2.3563457989420957\t -2.4735268469429528\n",
            "8  \t [6.73796408 3.08155542]\t -22.391137470039823\t -2.3563457989420957\t -2.456289774834616\n",
            "9  \t [1.88309531 0.        ]\t -19.02868052761021\t -2.3563457989420957\t -2.4556283871020095\n",
            "10 \t [1.4730599  4.12354892]\t -10.972205983874675\t -2.3563457989420957\t -2.4559010956507916\n",
            "11 \t [5.44913328 0.01944045]\t -17.759923373023906\t -2.3563457989420957\t -2.405992348805031\n",
            "12 \t [ 1.72118454 11.04222898]\t -63.30471743941411\t -2.3563457989420957\t -2.4328843004436957\n",
            "13 \t [-1.87389928 11.38287603]\t -10.924123007194773\t -2.3563457989420957\t -2.180335438718237\n",
            "14 \t [10.          8.89995637]\t -36.71774692163328\t -2.3563457989420957\t -2.304182320905437\n",
            "15 \t [4.71877166 4.95775684]\t -22.959360162540797\t -2.3563457989420957\t -2.1934391611943593\n",
            "\u001b[1m\u001b[92m16\u001b[0m\t \u001b[1m\u001b[92m[-3.7047003  14.16477824]\u001b[0m\t \u001b[1m\u001b[92m-2.126003258125605\u001b[0m\t \u001b[1m\u001b[92m-2.126003258125605\u001b[0m\t \u001b[1m\u001b[92m-2.2167680503856104\u001b[0m\n",
            "17 \t [-5.  0.]\t -308.12909601160663\t -2.126003258125605\t -1.933901832021342\n",
            "18 \t [2.05472744 6.59507853]\t -16.554061429130698\t -2.126003258125605\t -1.7990969802393304\n",
            "19 \t [-2.9661298   8.28122846]\t -13.333592639338177\t -2.126003258125605\t -1.5816267984887356\n",
            "\u001b[1m\u001b[92m20\u001b[0m\t \u001b[1m\u001b[92m[9.9683401  3.23455468]\u001b[0m\t \u001b[1m\u001b[92m-1.8509281105180406\u001b[0m\t \u001b[1m\u001b[92m-1.8509281105180406\u001b[0m\t \u001b[1m\u001b[92m-1.8481321365786012\u001b[0m\n"
          ]
        }
      ]
    },
    {
      "cell_type": "code",
      "metadata": {
        "id": "es0KCh_0JTgY",
        "colab": {
          "base_uri": "https://localhost:8080/"
        },
        "outputId": "72914f3f-a8c4-4ddf-ff4c-46d22f2445d3"
      },
      "source": [
        "### EXACT GP EI GRADIENTS\n",
        "\n",
        "np.random.seed(run_num_18)\n",
        "surrogate_exact_18 = dGaussianProcess(cov_func, optimize=opt)\n",
        "\n",
        "exact_18 = dGPGO(surrogate_exact_18, Acquisition_new(util_grad_exact), objfunc, param)\n",
        "exact_18.run(init_evals=n_init, max_iter=iters)\n"
      ],
      "execution_count": null,
      "outputs": [
        {
          "output_type": "stream",
          "name": "stdout",
          "text": [
            "Evaluation \t Proposed point \t  Current eval. \t  Best eval. \t         Max AcqFunc.\n",
            "init\t [4.75561363 7.58180061]\t -49.215059064668324\t -8.150075223157177\t    \n",
            "init\t [8.17902206 2.72760338]\t -8.150075223157177\t -8.150075223157177\t    \n",
            "init\t [ 7.78349603 11.25204429]\t -106.98107856533271\t -8.150075223157177\t    \n",
            "init\t [ 4.99152501 14.81843172]\t -196.08601750690153\t -8.150075223157177\t    \n",
            "init\t [-1.14547366  0.42458888]\t -71.23649635555944\t -8.150075223157177\t    \n",
            "1  \t [-4.83474958 11.77354131]\t -35.58412906267954\t -8.150075223157177\t -8.150085433802543\n",
            "2  \t [-1.31027796  6.26018244]\t -16.663442406570503\t -8.150075223157177\t -8.150083903898924\n",
            "3  \t [ 0.35908684 11.68414639]\t -57.91470988730182\t -8.150075223157177\t -8.150043865074647\n",
            "\u001b[1m\u001b[92m4\u001b[0m\t \u001b[1m\u001b[92m[4.16866889 0.        ]\u001b[0m\t \u001b[1m\u001b[92m-7.625670656251107\u001b[0m\t \u001b[1m\u001b[92m-7.625670656251107\u001b[0m\t \u001b[1m\u001b[92m-8.15002964654158\u001b[0m\n",
            "5  \t [10. 15.]\t -145.87219087939556\t -7.625670656251107\t -7.625702885044119\n",
            "6  \t [-5.          3.31100639]\t -205.27694256191015\t -7.625670656251107\t -7.6252555260909585\n",
            "7  \t [10.          6.83388238]\t -16.61913292412361\t -7.625670656251107\t -7.625249144402804\n",
            "\u001b[1m\u001b[92m8\u001b[0m\t \u001b[1m\u001b[92m[1.91893934 4.15428297]\u001b[0m\t \u001b[1m\u001b[92m-7.26101761917622\u001b[0m\t \u001b[1m\u001b[92m-7.26101761917622\u001b[0m\t \u001b[1m\u001b[92m-7.619165413540172\u001b[0m\n",
            "9  \t [-1.9875475 15.       ]\t -34.483643171373785\t -7.26101761917622\t -7.251832712884931\n",
            "10 \t [5.08711682 3.3237184 ]\t -17.82841116968373\t -7.26101761917622\t -7.20278642033778\n",
            "11 \t [-5.          7.78764073]\t -101.0784764992863\t -7.26101761917622\t -7.247424232956102\n",
            "12 \t [1.40949089 7.73434554]\t -25.38780997399318\t -7.26101761917622\t -7.089464319859321\n",
            "\u001b[1m\u001b[92m13\u001b[0m\t \u001b[1m\u001b[92m[9.03261402 0.        ]\u001b[0m\t \u001b[1m\u001b[92m-5.810034234100345\u001b[0m\t \u001b[1m\u001b[92m-5.810034234100345\u001b[0m\t \u001b[1m\u001b[92m-7.19297496117677\u001b[0m\n",
            "14 \t [ 3.71765027 11.1657217 ]\t -88.38351459141313\t -5.810034234100345\t -5.626920306800791\n",
            "15 \t [-1.81885685  9.65554599]\t -7.753584778277769\t -5.810034234100345\t -5.811097671547239\n",
            "16 \t [6.58523601 0.09222466]\t -20.22661345150606\t -5.810034234100345\t -5.4142080396127685\n",
            "\u001b[1m\u001b[92m17\u001b[0m\t \u001b[1m\u001b[92m[10.          4.06865332]\u001b[0m\t \u001b[1m\u001b[92m-3.078850151318427\u001b[0m\t \u001b[1m\u001b[92m-3.078850151318427\u001b[0m\t \u001b[1m\u001b[92m-5.321942253429737\u001b[0m\n",
            "18 \t [2.15483299 1.41554252]\t -7.784677230602309\t -3.078850151318427\t -2.7926145516261522\n",
            "19 \t [-5.  0.]\t -308.12909601160663\t -3.078850151318427\t -2.7201672593977824\n",
            "20 \t [ 1.27329956 15.        ]\t -129.8237238043874\t -3.078850151318427\t -2.89078435784608\n"
          ]
        }
      ]
    },
    {
      "cell_type": "code",
      "metadata": {
        "id": "Pput2LHPIwBM",
        "colab": {
          "base_uri": "https://localhost:8080/"
        },
        "outputId": "ce4a8f8b-7995-4486-fe88-1e62e96c9d18"
      },
      "source": [
        "### EXACT GP EI GRADIENTS\n",
        "\n",
        "np.random.seed(run_num_19)\n",
        "surrogate_exact_19 = dGaussianProcess(cov_func, optimize=opt)\n",
        "\n",
        "exact_19 = dGPGO(surrogate_exact_19, Acquisition_new(util_grad_exact), objfunc, param)\n",
        "exact_19.run(init_evals=n_init, max_iter=iters)\n"
      ],
      "execution_count": null,
      "outputs": [
        {
          "output_type": "stream",
          "name": "stdout",
          "text": [
            "Evaluation \t Proposed point \t  Current eval. \t  Best eval. \t         Max AcqFunc.\n",
            "init\t [-3.53699597 11.41874575]\t -4.475608269502271\t -4.475608269502271\t    \n",
            "init\t [-1.2959304   2.07197531]\t -51.13947793770689\t -4.475608269502271\t    \n",
            "init\t [-0.02830155  1.24499348]\t -42.63973921760034\t -4.475608269502271\t    \n",
            "init\t [ 5.07965622 12.09890697]\t -131.17235664506808\t -4.475608269502271\t    \n",
            "init\t [9.74112872 9.53491102]\t -46.84458913925112\t -4.475608269502271\t    \n",
            "\u001b[1m\u001b[92m1\u001b[0m\t \u001b[1m\u001b[92m[9.57054653 2.03489665]\u001b[0m\t \u001b[1m\u001b[92m-0.8198597583535783\u001b[0m\t \u001b[1m\u001b[92m-0.8198597583535783\u001b[0m\t \u001b[1m\u001b[92m-4.484380377136809\u001b[0m\n",
            "2  \t [5.03077312 4.64729248]\t -24.460797393473307\t -0.8198597583535783\t -1.2739300535480347\n",
            "3  \t [0.20107266 7.62370777]\t -23.16644757636532\t -0.8198597583535783\t -1.273927588153038\n",
            "4  \t [ 0.09562252 15.        ]\t -103.29917138491766\t -0.8198597583535783\t -1.2739245602064833\n",
            "5  \t [10. 15.]\t -145.87219087939556\t -0.8198597583535783\t -1.2739220163266223\n",
            "6  \t [5.76502136 0.        ]\t -19.591995850394127\t -0.8198597583535783\t -1.273780011793166\n",
            "7  \t [-5.  0.]\t -308.12909601160663\t -0.8198597583535783\t -1.2720695546116583\n",
            "8  \t [-5.          6.28808919]\t -131.51785785414725\t -0.8198597583535783\t -1.2739228653361367\n",
            "9  \t [4.65863248 8.10578883]\t -54.59624846537711\t -0.8198597583535783\t -1.2411677502865672\n",
            "10 \t [10.          5.20984852]\t -6.813512606487913\t -0.8198597583535783\t -1.2710118617044504\n",
            "11 \t [ 0.23236245 11.10727736]\t -49.2662554469767\t -0.8198597583535783\t -1.2378826444026945\n",
            "12 \t [9.10410543 0.03660365]\t -5.6449422844163415\t -0.8198597583535783\t -1.2166880568307843\n",
            "13 \t [7.78332077 3.21082841]\t -13.819188923453073\t -0.8198597583535783\t -1.1596918243660514\n",
            "14 \t [-3.20852295  9.37713538]\t -9.778659280304918\t -0.8198597583535783\t -1.0258308850980475\n",
            "15 \t [-3.66648234 14.10096019]\t -1.9703012804676767\t -0.8198597583535783\t -1.2202313868148278\n",
            "16 \t [1.82994204 4.23826446]\t -8.05509237199721\t -0.8198597583535783\t -1.1903869211433191\n",
            "17 \t [3.26348285 1.49272908]\t -0.9440337939764696\t -0.8198597583535783\t -1.1041308720390834\n",
            "18 \t [7.6004046  7.06204549]\t -44.85297730090831\t -0.8198597583535783\t -1.0354895821029968\n",
            "19 \t [ 8.69925413 11.95601084]\t -103.31688204880545\t -0.8198597583535783\t -0.6558773730221334\n",
            "20 \t [-1.71598966  5.4522955 ]\t -22.000374329630393\t -0.8198597583535783\t -0.9914138448261437\n"
          ]
        }
      ]
    },
    {
      "cell_type": "code",
      "metadata": {
        "id": "aw3xvSryIwDi",
        "colab": {
          "base_uri": "https://localhost:8080/"
        },
        "outputId": "c2878d86-178b-45aa-885a-87221b70e7e0"
      },
      "source": [
        "### EXACT GP EI GRADIENTS\n",
        "\n",
        "np.random.seed(run_num_20)\n",
        "surrogate_exact_20 = dGaussianProcess(cov_func, optimize=opt)\n",
        "\n",
        "exact_20 = dGPGO(surrogate_exact_20, Acquisition_new(util_grad_exact), objfunc, param)\n",
        "exact_20.run(init_evals=n_init, max_iter=iters)\n"
      ],
      "execution_count": null,
      "outputs": [
        {
          "output_type": "stream",
          "name": "stdout",
          "text": [
            "Evaluation \t Proposed point \t  Current eval. \t  Best eval. \t         Max AcqFunc.\n",
            "init\t [ 3.82196202 13.46570592]\t -138.5264349938869\t -14.042667401507376\t    \n",
            "init\t [ 8.37296094 12.23756216]\t -115.63178540512689\t -14.042667401507376\t    \n",
            "init\t [-4.46165622 10.37636373]\t -35.66708529307584\t -14.042667401507376\t    \n",
            "init\t [0.68021413 7.77766418]\t -25.307769914281764\t -14.042667401507376\t    \n",
            "init\t [4.86927198 2.90775327]\t -14.042667401507376\t -14.042667401507376\t    \n",
            "1  \t [-5.  0.]\t -308.12909601160663\t -14.042667401507376\t -14.042667391507678\n",
            "\u001b[1m\u001b[92m2\u001b[0m\t \u001b[1m\u001b[92m[10.          5.49820193]\u001b[0m\t \u001b[1m\u001b[92m-8.169389869926185\u001b[0m\t \u001b[1m\u001b[92m-8.169389869926185\u001b[0m\t \u001b[1m\u001b[92m-14.042666918413207\u001b[0m\n",
            "3  \t [0.61138061 0.18064926]\t -41.819817406212465\t -8.169389869926185\t -8.169357898860278\n",
            "4  \t [-1.2637238 15.       ]\t -58.903560875286885\t -8.169389869926185\t -8.169399645127884\n",
            "5  \t [-4.79483707  5.40415968]\t -136.16520405222172\t -8.169389869926185\t -8.169258523243595\n",
            "\u001b[1m\u001b[92m6\u001b[0m\t \u001b[1m\u001b[92m[9.09543778 0.72705293]\u001b[0m\t \u001b[1m\u001b[92m-3.1166558164350517\u001b[0m\t \u001b[1m\u001b[92m-3.1166558164350517\u001b[0m\t \u001b[1m\u001b[92m-8.169282533664703\u001b[0m\n",
            "7  \t [6.2877259  7.03753344]\t -54.854569106195044\t -3.1166558164350517\t -3.166221188810351\n",
            "8  \t [-0.32754319 11.25902138]\t -41.40648193276813\t -3.1166558164350517\t -3.1316424004778907\n",
            "9  \t [-0.43666184  4.01206985]\t -26.031856556415313\t -3.1166558164350517\t -3.1534021004465584\n",
            "10 \t [5.55724611 0.        ]\t -18.492151482084402\t -3.1166558164350517\t -3.089845607663869\n",
            "11 \t [10.          8.68787681]\t -34.26145842986103\t -3.1166558164350517\t -3.1110182061370626\n",
            "12 \t [3.5530158  9.63175124]\t -59.8094589777487\t -3.1166558164350517\t -3.0694852484029145\n",
            "13 \t [8.01437616 3.29934291]\t -11.553758918487631\t -3.1166558164350517\t -3.0413082488695418\n",
            "14 \t [2.81703956 5.43654928]\t -9.279256796734442\t -3.1166558164350517\t -3.015403654597703\n",
            "15 \t [10. 15.]\t -145.87219087939556\t -3.1166558164350517\t -2.8528829075364714\n",
            "16 \t [-1.95810036  7.24732044]\t -11.963763724008302\t -3.1166558164350517\t -2.626147398278909\n",
            "17 \t [6.67280468 4.20427796]\t -28.321284339165146\t -3.1166558164350517\t -1.0754232626927225\n",
            "18 \t [-3.96224483 13.2823961 ]\t -4.560160748039253\t -3.1166558164350517\t -2.7868941294609724\n",
            "\u001b[1m\u001b[92m19\u001b[0m\t \u001b[1m\u001b[92m[2.60106723 2.30398717]\u001b[0m\t \u001b[1m\u001b[92m-1.9519292536607047\u001b[0m\t \u001b[1m\u001b[92m-1.9519292536607047\u001b[0m\t \u001b[1m\u001b[92m-2.4551254756418204\u001b[0m\n",
            "20 \t [2.22842663 2.93857546]\t -4.1552012279367165\t -1.9519292536607047\t -1.2084511528682076\n"
          ]
        }
      ]
    },
    {
      "cell_type": "code",
      "metadata": {
        "id": "qNqAB3vBTPqb",
        "colab": {
          "base_uri": "https://localhost:8080/"
        },
        "outputId": "3c4d1fe4-bbea-496e-e100-b8d9a921a361"
      },
      "source": [
        "end_exact = time.time()\n",
        "end_exact\n",
        "\n",
        "time_exact = end_exact - start_exact\n",
        "time_exact"
      ],
      "execution_count": null,
      "outputs": [
        {
          "output_type": "execute_result",
          "data": {
            "text/plain": [
              "379.12905049324036"
            ]
          },
          "metadata": {},
          "execution_count": 54
        }
      ]
    },
    {
      "cell_type": "code",
      "metadata": {
        "id": "JPQzjdBZQxfg",
        "colab": {
          "base_uri": "https://localhost:8080/"
        },
        "outputId": "03ed8702-5f56-4a59-d331-34ac97f00b0e"
      },
      "source": [
        "### Simple regret minimization: run number = 1\n",
        "\n",
        "approx_output_1 = np.append(np.min(approx_1.GP.y[0:n_init]),approx_1.GP.y[n_init:(n_init+iters)]) \n",
        "exact_output_1 = np.append(np.min(exact_1.GP.y[0:n_init]),exact_1.GP.y[n_init:(n_init+iters)]) \n",
        "\n",
        "regret_approx_1 = np.log(-approx_output_1 + y_global_orig)\n",
        "regret_exact_1 = np.log(-exact_output_1 + y_global_orig)\n",
        "\n",
        "simple_regret_approx_1 = min_max_array(regret_approx_1)\n",
        "simple_regret_exact_1 = min_max_array(regret_exact_1)\n",
        "\n",
        "min_simple_regret_approx_1 = min(simple_regret_approx_1)\n",
        "min_simple_regret_exact_1 = min(simple_regret_exact_1)\n",
        "\n",
        "min_simple_regret_approx_1, min_simple_regret_exact_1"
      ],
      "execution_count": null,
      "outputs": [
        {
          "output_type": "execute_result",
          "data": {
            "text/plain": [
              "(1.4954411414241748, 1.4126163322006093)"
            ]
          },
          "metadata": {},
          "execution_count": 55
        }
      ]
    },
    {
      "cell_type": "code",
      "metadata": {
        "id": "94yBw5tqQxfk",
        "colab": {
          "base_uri": "https://localhost:8080/"
        },
        "outputId": "cbd2d7f6-8d43-402a-8754-c866adac1336"
      },
      "source": [
        "### Simple regret minimization: run number = 2\n",
        "\n",
        "approx_output_2 = np.append(np.min(approx_2.GP.y[0:n_init]),approx_2.GP.y[n_init:(n_init+iters)]) \n",
        "exact_output_2 = np.append(np.min(exact_2.GP.y[0:n_init]),exact_2.GP.y[n_init:(n_init+iters)]) \n",
        "\n",
        "regret_approx_2 = np.log(-approx_output_2 + y_global_orig)\n",
        "regret_exact_2 = np.log(-exact_output_2 + y_global_orig)\n",
        "\n",
        "simple_regret_approx_2 = min_max_array(regret_approx_2)\n",
        "simple_regret_exact_2 = min_max_array(regret_exact_2)\n",
        "\n",
        "min_simple_regret_approx_2 = min(simple_regret_approx_2)\n",
        "min_simple_regret_exact_2 = min(simple_regret_exact_2)\n",
        "\n",
        "min_simple_regret_approx_2, min_simple_regret_exact_2"
      ],
      "execution_count": null,
      "outputs": [
        {
          "output_type": "execute_result",
          "data": {
            "text/plain": [
              "(0.0005721783316311656, -0.4683609617144654)"
            ]
          },
          "metadata": {},
          "execution_count": 56
        }
      ]
    },
    {
      "cell_type": "code",
      "metadata": {
        "id": "Bu6SBWALQxfl",
        "colab": {
          "base_uri": "https://localhost:8080/"
        },
        "outputId": "438bf638-5e45-412a-b130-4ec9568db4eb"
      },
      "source": [
        "### Simple regret minimization: run number = 3\n",
        "\n",
        "approx_output_3 = np.append(np.min(approx_3.GP.y[0:n_init]),approx_3.GP.y[n_init:(n_init+iters)]) \n",
        "exact_output_3 = np.append(np.min(exact_3.GP.y[0:n_init]),exact_3.GP.y[n_init:(n_init+iters)]) \n",
        "\n",
        "regret_approx_3 = np.log(-approx_output_3 + y_global_orig)\n",
        "regret_exact_3 = np.log(-exact_output_3 + y_global_orig)\n",
        "\n",
        "simple_regret_approx_3 = min_max_array(regret_approx_3)\n",
        "simple_regret_exact_3 = min_max_array(regret_exact_3)\n",
        "\n",
        "min_simple_regret_approx_3 = min(simple_regret_approx_3)\n",
        "min_simple_regret_exact_3 = min(simple_regret_exact_3)\n",
        "\n",
        "min_simple_regret_approx_3, min_simple_regret_exact_3"
      ],
      "execution_count": null,
      "outputs": [
        {
          "output_type": "execute_result",
          "data": {
            "text/plain": [
              "(1.0384344519569226, 1.164129196584808)"
            ]
          },
          "metadata": {},
          "execution_count": 57
        }
      ]
    },
    {
      "cell_type": "code",
      "metadata": {
        "id": "AZm0jgxkQxfm",
        "colab": {
          "base_uri": "https://localhost:8080/"
        },
        "outputId": "aa245a4a-f507-454b-dcc0-231a107e0ea0"
      },
      "source": [
        "### Simple regret minimization: run number = 4\n",
        "\n",
        "approx_output_4 = np.append(np.min(approx_4.GP.y[0:n_init]),approx_4.GP.y[n_init:(n_init+iters)]) \n",
        "exact_output_4 = np.append(np.min(exact_4.GP.y[0:n_init]),exact_4.GP.y[n_init:(n_init+iters)]) \n",
        "\n",
        "regret_approx_4 = np.log(-approx_output_4 + y_global_orig)\n",
        "regret_exact_4 = np.log(-exact_output_4 + y_global_orig)\n",
        "\n",
        "simple_regret_approx_4 = min_max_array(regret_approx_4)\n",
        "simple_regret_exact_4 = min_max_array(regret_exact_4)\n",
        "\n",
        "min_simple_regret_approx_4 = min(simple_regret_approx_4)\n",
        "min_simple_regret_exact_4 = min(simple_regret_exact_4)\n",
        "\n",
        "min_simple_regret_approx_4, min_simple_regret_exact_4"
      ],
      "execution_count": null,
      "outputs": [
        {
          "output_type": "execute_result",
          "data": {
            "text/plain": [
              "(-1.614230401785056, -0.6218785690047403)"
            ]
          },
          "metadata": {},
          "execution_count": 58
        }
      ]
    },
    {
      "cell_type": "code",
      "metadata": {
        "id": "NONPm8JIQxfn",
        "colab": {
          "base_uri": "https://localhost:8080/"
        },
        "outputId": "c2c4fe45-8829-46fe-c44f-6dc3fa396f69"
      },
      "source": [
        "### Simple regret minimization: run number = 5\n",
        "\n",
        "approx_output_5 = np.append(np.min(approx_5.GP.y[0:n_init]),approx_5.GP.y[n_init:(n_init+iters)]) \n",
        "exact_output_5 = np.append(np.min(exact_5.GP.y[0:n_init]),exact_5.GP.y[n_init:(n_init+iters)]) \n",
        "\n",
        "regret_approx_5 = np.log(-approx_output_5 + y_global_orig)\n",
        "regret_exact_5 = np.log(-exact_output_5 + y_global_orig)\n",
        "\n",
        "simple_regret_approx_5 = min_max_array(regret_approx_5)\n",
        "simple_regret_exact_5 = min_max_array(regret_exact_5)\n",
        "\n",
        "min_simple_regret_approx_5 = min(simple_regret_approx_5)\n",
        "min_simple_regret_exact_5 = min(simple_regret_exact_5)\n",
        "\n",
        "min_simple_regret_approx_5, min_simple_regret_exact_5"
      ],
      "execution_count": null,
      "outputs": [
        {
          "output_type": "execute_result",
          "data": {
            "text/plain": [
              "(0.8522191185675699, -3.7276820293567514)"
            ]
          },
          "metadata": {},
          "execution_count": 59
        }
      ]
    },
    {
      "cell_type": "code",
      "metadata": {
        "id": "CJv3lPuSQxfp",
        "colab": {
          "base_uri": "https://localhost:8080/"
        },
        "outputId": "5c6fb1bd-10a9-4646-f930-bc3685b3002a"
      },
      "source": [
        "### Simple regret minimization: run number = 6\n",
        "\n",
        "approx_output_6 = np.append(np.min(approx_6.GP.y[0:n_init]),approx_6.GP.y[n_init:(n_init+iters)]) \n",
        "exact_output_6 = np.append(np.min(exact_6.GP.y[0:n_init]),exact_6.GP.y[n_init:(n_init+iters)]) \n",
        "\n",
        "regret_approx_6 = np.log(-approx_output_6 + y_global_orig)\n",
        "regret_exact_6 = np.log(-exact_output_6 + y_global_orig)\n",
        "\n",
        "simple_regret_approx_6 = min_max_array(regret_approx_6)\n",
        "simple_regret_exact_6 = min_max_array(regret_exact_6)\n",
        "\n",
        "min_simple_regret_approx_6 = min(simple_regret_approx_6)\n",
        "min_simple_regret_exact_6 = min(simple_regret_exact_6)\n",
        "\n",
        "min_simple_regret_approx_6, min_simple_regret_exact_6"
      ],
      "execution_count": null,
      "outputs": [
        {
          "output_type": "execute_result",
          "data": {
            "text/plain": [
              "(-1.9052524213952455, -0.4275476630166717)"
            ]
          },
          "metadata": {},
          "execution_count": 60
        }
      ]
    },
    {
      "cell_type": "code",
      "metadata": {
        "id": "quR2ZyApQxfq",
        "colab": {
          "base_uri": "https://localhost:8080/"
        },
        "outputId": "1f2c56a4-8a99-47c5-c409-f02f0cae08e5"
      },
      "source": [
        "### Simple regret minimization: run number = 7\n",
        "\n",
        "approx_output_7 = np.append(np.min(approx_7.GP.y[0:n_init]),approx_7.GP.y[n_init:(n_init+iters)]) \n",
        "exact_output_7 = np.append(np.min(exact_7.GP.y[0:n_init]),exact_7.GP.y[n_init:(n_init+iters)]) \n",
        "\n",
        "regret_approx_7 = np.log(-approx_output_7 + y_global_orig)\n",
        "regret_exact_7 = np.log(-exact_output_7 + y_global_orig)\n",
        "\n",
        "simple_regret_approx_7 = min_max_array(regret_approx_7)\n",
        "simple_regret_exact_7 = min_max_array(regret_exact_7)\n",
        "\n",
        "min_simple_regret_approx_7 = min(simple_regret_approx_7)\n",
        "min_simple_regret_exact_7 = min(simple_regret_exact_7)\n",
        "\n",
        "min_simple_regret_approx_7, min_simple_regret_exact_7"
      ],
      "execution_count": null,
      "outputs": [
        {
          "output_type": "execute_result",
          "data": {
            "text/plain": [
              "(0.7868061648887654, 0.8035858166782609)"
            ]
          },
          "metadata": {},
          "execution_count": 61
        }
      ]
    },
    {
      "cell_type": "code",
      "metadata": {
        "id": "99wY5nK6Qxfr",
        "colab": {
          "base_uri": "https://localhost:8080/"
        },
        "outputId": "fdf4b4e3-08ef-4cef-ddd0-393cfc3ef7e5"
      },
      "source": [
        "### Simple regret minimization: run number = 8\n",
        "\n",
        "approx_output_8 = np.append(np.min(approx_8.GP.y[0:n_init]),approx_8.GP.y[n_init:(n_init+iters)]) \n",
        "exact_output_8 = np.append(np.min(exact_8.GP.y[0:n_init]),exact_8.GP.y[n_init:(n_init+iters)]) \n",
        "\n",
        "regret_approx_8 = np.log(-approx_output_8 + y_global_orig)\n",
        "regret_exact_8 = np.log(-exact_output_8 + y_global_orig)\n",
        "\n",
        "simple_regret_approx_8 = min_max_array(regret_approx_8)\n",
        "simple_regret_exact_8 = min_max_array(regret_exact_8)\n",
        "\n",
        "min_simple_regret_approx_8 = min(simple_regret_approx_8)\n",
        "min_simple_regret_exact_8 = min(simple_regret_exact_8)\n",
        "\n",
        "min_simple_regret_approx_8, min_simple_regret_exact_8"
      ],
      "execution_count": null,
      "outputs": [
        {
          "output_type": "execute_result",
          "data": {
            "text/plain": [
              "(1.79717707072414, 1.1849445155103453)"
            ]
          },
          "metadata": {},
          "execution_count": 62
        }
      ]
    },
    {
      "cell_type": "code",
      "metadata": {
        "id": "qt0P5t9qQxfs",
        "colab": {
          "base_uri": "https://localhost:8080/"
        },
        "outputId": "479a6ba1-b83b-4ee0-87b6-21cfa67f9606"
      },
      "source": [
        "### Simple regret minimization: run number = 9\n",
        "\n",
        "approx_output_9 = np.append(np.min(approx_9.GP.y[0:n_init]),approx_9.GP.y[n_init:(n_init+iters)]) \n",
        "exact_output_9 = np.append(np.min(exact_9.GP.y[0:n_init]),exact_9.GP.y[n_init:(n_init+iters)]) \n",
        "\n",
        "regret_approx_9 = np.log(-approx_output_9 + y_global_orig)\n",
        "regret_exact_9 = np.log(-exact_output_9 + y_global_orig)\n",
        "\n",
        "simple_regret_approx_9 = min_max_array(regret_approx_9)\n",
        "simple_regret_exact_9 = min_max_array(regret_exact_9)\n",
        "\n",
        "min_simple_regret_approx_9 = min(simple_regret_approx_9)\n",
        "min_simple_regret_exact_9 = min(simple_regret_exact_9)\n",
        "\n",
        "min_simple_regret_approx_9, min_simple_regret_exact_9"
      ],
      "execution_count": null,
      "outputs": [
        {
          "output_type": "execute_result",
          "data": {
            "text/plain": [
              "(0.5890523773095969, 0.9209595469246515)"
            ]
          },
          "metadata": {},
          "execution_count": 63
        }
      ]
    },
    {
      "cell_type": "code",
      "metadata": {
        "id": "vx8to9stQxft",
        "colab": {
          "base_uri": "https://localhost:8080/"
        },
        "outputId": "5206106c-0e56-40b6-ca32-14269cbb90bb"
      },
      "source": [
        "### Simple regret minimization: run number = 10\n",
        "\n",
        "approx_output_10 = np.append(np.min(approx_10.GP.y[0:n_init]),approx_10.GP.y[n_init:(n_init+iters)]) \n",
        "exact_output_10 = np.append(np.min(exact_10.GP.y[0:n_init]),exact_10.GP.y[n_init:(n_init+iters)]) \n",
        "\n",
        "regret_approx_10 = np.log(-approx_output_10 + y_global_orig)\n",
        "regret_exact_10 = np.log(-exact_output_10 + y_global_orig)\n",
        "\n",
        "simple_regret_approx_10 = min_max_array(regret_approx_10)\n",
        "simple_regret_exact_10 = min_max_array(regret_exact_10)\n",
        "\n",
        "min_simple_regret_approx_10 = min(simple_regret_approx_10)\n",
        "min_simple_regret_exact_10 = min(simple_regret_exact_10)\n",
        "\n",
        "min_simple_regret_approx_10, min_simple_regret_exact_10"
      ],
      "execution_count": null,
      "outputs": [
        {
          "output_type": "execute_result",
          "data": {
            "text/plain": [
              "(0.6062822395289537, 0.4841368715796817)"
            ]
          },
          "metadata": {},
          "execution_count": 64
        }
      ]
    },
    {
      "cell_type": "code",
      "metadata": {
        "id": "d-FGzWyHQxfu",
        "colab": {
          "base_uri": "https://localhost:8080/"
        },
        "outputId": "58f750c0-1f7b-48d4-de3a-d2a58308b43c"
      },
      "source": [
        "### Simple regret minimization: run number = 11\n",
        "\n",
        "approx_output_11 = np.append(np.min(approx_11.GP.y[0:n_init]),approx_11.GP.y[n_init:(n_init+iters)]) \n",
        "exact_output_11 = np.append(np.min(exact_11.GP.y[0:n_init]),exact_11.GP.y[n_init:(n_init+iters)]) \n",
        "\n",
        "regret_approx_11 = np.log(-approx_output_11 + y_global_orig)\n",
        "regret_exact_11 = np.log(-exact_output_11 + y_global_orig)\n",
        "\n",
        "simple_regret_approx_11 = min_max_array(regret_approx_11)\n",
        "simple_regret_exact_11 = min_max_array(regret_exact_11)\n",
        "\n",
        "min_simple_regret_approx_11 = min(simple_regret_approx_11)\n",
        "min_simple_regret_exact_11 = min(simple_regret_exact_11)\n",
        "\n",
        "min_simple_regret_approx_11, min_simple_regret_exact_11"
      ],
      "execution_count": null,
      "outputs": [
        {
          "output_type": "execute_result",
          "data": {
            "text/plain": [
              "(-0.5207340003856733, -0.1604760823663512)"
            ]
          },
          "metadata": {},
          "execution_count": 65
        }
      ]
    },
    {
      "cell_type": "code",
      "metadata": {
        "id": "SvtsssyjQxfv",
        "colab": {
          "base_uri": "https://localhost:8080/"
        },
        "outputId": "dffd73b7-a6b6-48ed-9f87-616366d27ac1"
      },
      "source": [
        "### Simple regret minimization: run number = 12\n",
        "\n",
        "approx_output_12 = np.append(np.min(approx_12.GP.y[0:n_init]),approx_12.GP.y[n_init:(n_init+iters)]) \n",
        "exact_output_12 = np.append(np.min(exact_12.GP.y[0:n_init]),exact_12.GP.y[n_init:(n_init+iters)]) \n",
        "\n",
        "regret_approx_12 = np.log(-approx_output_12 + y_global_orig)\n",
        "regret_exact_12 = np.log(-exact_output_12 + y_global_orig)\n",
        "\n",
        "simple_regret_approx_12 = min_max_array(regret_approx_12)\n",
        "simple_regret_exact_12 = min_max_array(regret_exact_12)\n",
        "\n",
        "min_simple_regret_approx_12 = min(simple_regret_approx_12)\n",
        "min_simple_regret_exact_12 = min(simple_regret_exact_12)\n",
        "\n",
        "min_simple_regret_approx_12, min_simple_regret_exact_12"
      ],
      "execution_count": null,
      "outputs": [
        {
          "output_type": "execute_result",
          "data": {
            "text/plain": [
              "(-0.06576759425190257, -0.7878397132007233)"
            ]
          },
          "metadata": {},
          "execution_count": 66
        }
      ]
    },
    {
      "cell_type": "code",
      "metadata": {
        "id": "K6OiGcHkQxfw",
        "colab": {
          "base_uri": "https://localhost:8080/"
        },
        "outputId": "277ed078-5638-47cf-f8a7-33e092424ec0"
      },
      "source": [
        "### Simple regret minimization: run number = 13\n",
        "\n",
        "approx_output_13 = np.append(np.min(approx_13.GP.y[0:n_init]),approx_13.GP.y[n_init:(n_init+iters)]) \n",
        "exact_output_13 = np.append(np.min(exact_13.GP.y[0:n_init]),exact_13.GP.y[n_init:(n_init+iters)]) \n",
        "\n",
        "regret_approx_13 = np.log(-approx_output_13 + y_global_orig)\n",
        "regret_exact_13 = np.log(-exact_output_13 + y_global_orig)\n",
        "\n",
        "simple_regret_approx_13 = min_max_array(regret_approx_13)\n",
        "simple_regret_exact_13 = min_max_array(regret_exact_13)\n",
        "\n",
        "min_simple_regret_approx_13 = min(simple_regret_approx_13)\n",
        "min_simple_regret_exact_13 = min(simple_regret_exact_13)\n",
        "\n",
        "min_simple_regret_approx_13, min_simple_regret_exact_13"
      ],
      "execution_count": null,
      "outputs": [
        {
          "output_type": "execute_result",
          "data": {
            "text/plain": [
              "(0.4933988405696508, -1.8980258931472425)"
            ]
          },
          "metadata": {},
          "execution_count": 67
        }
      ]
    },
    {
      "cell_type": "code",
      "metadata": {
        "id": "ogML73shQxfx",
        "colab": {
          "base_uri": "https://localhost:8080/"
        },
        "outputId": "c837b856-e1d8-420b-8515-89945f14e02f"
      },
      "source": [
        "### Simple regret minimization: run number = 14\n",
        "\n",
        "approx_output_14 = np.append(np.min(approx_14.GP.y[0:n_init]),approx_14.GP.y[n_init:(n_init+iters)]) \n",
        "exact_output_14 = np.append(np.min(exact_14.GP.y[0:n_init]),exact_14.GP.y[n_init:(n_init+iters)]) \n",
        "\n",
        "regret_approx_14 = np.log(-approx_output_14 + y_global_orig)\n",
        "regret_exact_14 = np.log(-exact_output_14 + y_global_orig)\n",
        "\n",
        "simple_regret_approx_14 = min_max_array(regret_approx_14)\n",
        "simple_regret_exact_14 = min_max_array(regret_exact_14)\n",
        "\n",
        "min_simple_regret_approx_14 = min(simple_regret_approx_14)\n",
        "min_simple_regret_exact_14 = min(simple_regret_exact_14)\n",
        "\n",
        "min_simple_regret_approx_14, min_simple_regret_exact_14"
      ],
      "execution_count": null,
      "outputs": [
        {
          "output_type": "execute_result",
          "data": {
            "text/plain": [
              "(0.4451925768041835, 0.4396088830118035)"
            ]
          },
          "metadata": {},
          "execution_count": 68
        }
      ]
    },
    {
      "cell_type": "code",
      "metadata": {
        "id": "9Eg7gFT9Qxfx",
        "colab": {
          "base_uri": "https://localhost:8080/"
        },
        "outputId": "ca3c3dd9-5a11-48b8-d42c-36a6fd82c14f"
      },
      "source": [
        "### Simple regret minimization: run number = 15\n",
        "\n",
        "approx_output_15 = np.append(np.min(approx_15.GP.y[0:n_init]),approx_15.GP.y[n_init:(n_init+iters)]) \n",
        "exact_output_15 = np.append(np.min(exact_15.GP.y[0:n_init]),exact_15.GP.y[n_init:(n_init+iters)]) \n",
        "\n",
        "regret_approx_15 = np.log(-approx_output_15 + y_global_orig)\n",
        "regret_exact_15 = np.log(-exact_output_15 + y_global_orig)\n",
        "\n",
        "simple_regret_approx_15 = min_max_array(regret_approx_15)\n",
        "simple_regret_exact_15 = min_max_array(regret_exact_15)\n",
        "\n",
        "min_simple_regret_approx_15 = min(simple_regret_approx_15)\n",
        "min_simple_regret_exact_15 = min(simple_regret_exact_15)\n",
        "\n",
        "min_simple_regret_approx_15, min_simple_regret_exact_15"
      ],
      "execution_count": null,
      "outputs": [
        {
          "output_type": "execute_result",
          "data": {
            "text/plain": [
              "(1.118969794636957, 0.8098759117076586)"
            ]
          },
          "metadata": {},
          "execution_count": 69
        }
      ]
    },
    {
      "cell_type": "code",
      "metadata": {
        "id": "lIAC1U7ZQxfy",
        "colab": {
          "base_uri": "https://localhost:8080/"
        },
        "outputId": "76479dc2-5e29-4cab-a90d-760e8e3f49a4"
      },
      "source": [
        "### Simple regret minimization: run number = 16\n",
        "\n",
        "approx_output_16 = np.append(np.min(approx_16.GP.y[0:n_init]),approx_16.GP.y[n_init:(n_init+iters)]) \n",
        "exact_output_16 = np.append(np.min(exact_16.GP.y[0:n_init]),exact_16.GP.y[n_init:(n_init+iters)]) \n",
        "\n",
        "regret_approx_16 = np.log(-approx_output_16 + y_global_orig)\n",
        "regret_exact_16 = np.log(-exact_output_16 + y_global_orig)\n",
        "\n",
        "simple_regret_approx_16 = min_max_array(regret_approx_16)\n",
        "simple_regret_exact_16 = min_max_array(regret_exact_16)\n",
        "\n",
        "min_simple_regret_approx_16 = min(simple_regret_approx_16)\n",
        "min_simple_regret_exact_16 = min(simple_regret_exact_16)\n",
        "\n",
        "min_simple_regret_approx_16, min_simple_regret_exact_16"
      ],
      "execution_count": null,
      "outputs": [
        {
          "output_type": "execute_result",
          "data": {
            "text/plain": [
              "(1.2488068555527088, 0.8903627883019318)"
            ]
          },
          "metadata": {},
          "execution_count": 70
        }
      ]
    },
    {
      "cell_type": "code",
      "metadata": {
        "id": "bGott36OQxfz",
        "colab": {
          "base_uri": "https://localhost:8080/"
        },
        "outputId": "bd29a0cc-9b62-468f-d67e-bd9e570b32b0"
      },
      "source": [
        "### Simple regret minimization: run number = 17\n",
        "\n",
        "approx_output_17 = np.append(np.min(approx_17.GP.y[0:n_init]),approx_17.GP.y[n_init:(n_init+iters)]) \n",
        "exact_output_17 = np.append(np.min(exact_17.GP.y[0:n_init]),exact_17.GP.y[n_init:(n_init+iters)]) \n",
        "\n",
        "regret_approx_17 = np.log(-approx_output_17 + y_global_orig)\n",
        "regret_exact_17 = np.log(-exact_output_17 + y_global_orig)\n",
        "\n",
        "simple_regret_approx_17 = min_max_array(regret_approx_17)\n",
        "simple_regret_exact_17 = min_max_array(regret_exact_17)\n",
        "\n",
        "min_simple_regret_approx_17 = min(simple_regret_approx_17)\n",
        "min_simple_regret_exact_17 = min(simple_regret_exact_17)\n",
        "\n",
        "min_simple_regret_approx_17, min_simple_regret_exact_17"
      ],
      "execution_count": null,
      "outputs": [
        {
          "output_type": "execute_result",
          "data": {
            "text/plain": [
              "(0.4824849064232377, 0.3736586777309336)"
            ]
          },
          "metadata": {},
          "execution_count": 71
        }
      ]
    },
    {
      "cell_type": "code",
      "metadata": {
        "id": "Cz9ZYMBMQxfz",
        "colab": {
          "base_uri": "https://localhost:8080/"
        },
        "outputId": "5be914b5-768b-4eb7-eb51-757a7d7037e7"
      },
      "source": [
        "### Simple regret minimization: run number = 18\n",
        "\n",
        "approx_output_18 = np.append(np.min(approx_18.GP.y[0:n_init]),approx_18.GP.y[n_init:(n_init+iters)]) \n",
        "exact_output_18 = np.append(np.min(exact_18.GP.y[0:n_init]),exact_18.GP.y[n_init:(n_init+iters)]) \n",
        "\n",
        "regret_approx_18 = np.log(-approx_output_18 + y_global_orig)\n",
        "regret_exact_18 = np.log(-exact_output_18 + y_global_orig)\n",
        "\n",
        "simple_regret_approx_18 = min_max_array(regret_approx_18)\n",
        "simple_regret_exact_18 = min_max_array(regret_exact_18)\n",
        "\n",
        "min_simple_regret_approx_18 = min(simple_regret_approx_18)\n",
        "min_simple_regret_exact_18 = min(simple_regret_exact_18)\n",
        "\n",
        "min_simple_regret_approx_18, min_simple_regret_exact_18"
      ],
      "execution_count": null,
      "outputs": [
        {
          "output_type": "execute_result",
          "data": {
            "text/plain": [
              "(1.6716974674933784, 0.9861761147798177)"
            ]
          },
          "metadata": {},
          "execution_count": 72
        }
      ]
    },
    {
      "cell_type": "code",
      "metadata": {
        "id": "OBfpWOHNQxf0",
        "colab": {
          "base_uri": "https://localhost:8080/"
        },
        "outputId": "31e7300d-1d8b-4fa0-933b-630777d8591b"
      },
      "source": [
        "### Simple regret minimization: run number = 19\n",
        "\n",
        "approx_output_19 = np.append(np.min(approx_19.GP.y[0:n_init]),approx_19.GP.y[n_init:(n_init+iters)]) \n",
        "exact_output_19 = np.append(np.min(exact_19.GP.y[0:n_init]),exact_19.GP.y[n_init:(n_init+iters)]) \n",
        "\n",
        "regret_approx_19 = np.log(-approx_output_19 + y_global_orig)\n",
        "regret_exact_19 = np.log(-exact_output_19 + y_global_orig)\n",
        "\n",
        "simple_regret_approx_19 = min_max_array(regret_approx_19)\n",
        "simple_regret_exact_19 = min_max_array(regret_exact_19)\n",
        "\n",
        "min_simple_regret_approx_19 = min(simple_regret_approx_19)\n",
        "min_simple_regret_exact_19 = min(simple_regret_exact_19)\n",
        "\n",
        "min_simple_regret_approx_19, min_simple_regret_exact_19"
      ],
      "execution_count": null,
      "outputs": [
        {
          "output_type": "execute_result",
          "data": {
            "text/plain": [
              "(-4.1704266126563505, -0.8628145206943092)"
            ]
          },
          "metadata": {},
          "execution_count": 73
        }
      ]
    },
    {
      "cell_type": "code",
      "metadata": {
        "id": "BE1AJ7NsQxf0",
        "colab": {
          "base_uri": "https://localhost:8080/"
        },
        "outputId": "d2ec73a4-9e8f-4164-b4f9-4d5352ec7071"
      },
      "source": [
        "### Simple regret minimization: run number = 20\n",
        "\n",
        "approx_output_20 = np.append(np.min(approx_20.GP.y[0:n_init]),approx_20.GP.y[n_init:(n_init+iters)]) \n",
        "exact_output_20 = np.append(np.min(exact_20.GP.y[0:n_init]),exact_20.GP.y[n_init:(n_init+iters)]) \n",
        "\n",
        "regret_approx_20 = np.log(-approx_output_20 + y_global_orig)\n",
        "regret_exact_20 = np.log(-exact_output_20 + y_global_orig)\n",
        "\n",
        "simple_regret_approx_20 = min_max_array(regret_approx_20)\n",
        "simple_regret_exact_20 = min_max_array(regret_exact_20)\n",
        "\n",
        "min_simple_regret_approx_20 = min(simple_regret_approx_20)\n",
        "min_simple_regret_exact_20 = min(simple_regret_exact_20)\n",
        "\n",
        "min_simple_regret_approx_20, min_simple_regret_exact_20"
      ],
      "execution_count": null,
      "outputs": [
        {
          "output_type": "execute_result",
          "data": {
            "text/plain": [
              "(1.5706871896702388, 0.44085944183366116)"
            ]
          },
          "metadata": {},
          "execution_count": 74
        }
      ]
    },
    {
      "cell_type": "code",
      "metadata": {
        "id": "bpX-bKAHQxf1"
      },
      "source": [
        "# Iteration1 :\n",
        "\n",
        "slice1 = 0\n",
        "\n",
        "approx1 = [simple_regret_approx_1[slice1],\n",
        "       simple_regret_approx_2[slice1],\n",
        "       simple_regret_approx_3[slice1],\n",
        "       simple_regret_approx_4[slice1],\n",
        "       simple_regret_approx_5[slice1],\n",
        "       simple_regret_approx_6[slice1],\n",
        "       simple_regret_approx_7[slice1],\n",
        "       simple_regret_approx_8[slice1],\n",
        "       simple_regret_approx_9[slice1],\n",
        "       simple_regret_approx_10[slice1],\n",
        "       simple_regret_approx_11[slice1],\n",
        "       simple_regret_approx_12[slice1],\n",
        "       simple_regret_approx_13[slice1],\n",
        "       simple_regret_approx_14[slice1],\n",
        "       simple_regret_approx_15[slice1],\n",
        "       simple_regret_approx_16[slice1],\n",
        "       simple_regret_approx_17[slice1],\n",
        "       simple_regret_approx_18[slice1],\n",
        "       simple_regret_approx_19[slice1],\n",
        "       simple_regret_approx_20[slice1]]\n",
        "\n",
        "exact1 = [simple_regret_exact_1[slice1],\n",
        "       simple_regret_exact_2[slice1],\n",
        "       simple_regret_exact_3[slice1],\n",
        "       simple_regret_exact_4[slice1],\n",
        "       simple_regret_exact_5[slice1],\n",
        "       simple_regret_exact_6[slice1],\n",
        "       simple_regret_exact_7[slice1],\n",
        "       simple_regret_exact_8[slice1],\n",
        "       simple_regret_exact_9[slice1],\n",
        "       simple_regret_exact_10[slice1],\n",
        "       simple_regret_exact_11[slice1],\n",
        "       simple_regret_exact_12[slice1],\n",
        "       simple_regret_exact_13[slice1],\n",
        "       simple_regret_exact_14[slice1],\n",
        "       simple_regret_exact_15[slice1],\n",
        "       simple_regret_exact_16[slice1],\n",
        "       simple_regret_exact_17[slice1],\n",
        "       simple_regret_exact_18[slice1],\n",
        "       simple_regret_exact_19[slice1],\n",
        "       simple_regret_exact_20[slice1]]\n",
        "\n",
        "approx1_results = pd.DataFrame(approx1).sort_values(by=[0], ascending=False)\n",
        "exact1_results = pd.DataFrame(exact1).sort_values(by=[0], ascending=False)\n",
        "\n",
        "### Best simple regret minimization IQR - approx:\n",
        "lower_approx1 = np.asarray(approx1_results[4:5][0])[0]\n",
        "median_approx1 = np.asarray(approx1_results[9:10][0])[0]\n",
        "upper_approx1 = np.asarray(approx1_results[14:15][0])[0]\n",
        "\n",
        "lower_exact1 = np.asarray(exact1_results[4:5][0])[0]\n",
        "median_exact1 = np.asarray(exact1_results[9:10][0])[0]\n",
        "upper_exact1 = np.asarray(exact1_results[14:15][0])[0]"
      ],
      "execution_count": null,
      "outputs": []
    },
    {
      "cell_type": "code",
      "metadata": {
        "id": "CgIkJA1xQxf2"
      },
      "source": [
        "# Iteration11 :\n",
        "\n",
        "slice11 = 10\n",
        "\n",
        "approx11 = [simple_regret_approx_1[slice11],\n",
        "       simple_regret_approx_2[slice11],\n",
        "       simple_regret_approx_3[slice11],\n",
        "       simple_regret_approx_4[slice11],\n",
        "       simple_regret_approx_5[slice11],\n",
        "       simple_regret_approx_6[slice11],\n",
        "       simple_regret_approx_7[slice11],\n",
        "       simple_regret_approx_8[slice11],\n",
        "       simple_regret_approx_9[slice11],\n",
        "       simple_regret_approx_10[slice11],\n",
        "       simple_regret_approx_11[slice11],\n",
        "       simple_regret_approx_12[slice11],\n",
        "       simple_regret_approx_13[slice11],\n",
        "       simple_regret_approx_14[slice11],\n",
        "       simple_regret_approx_15[slice11],\n",
        "       simple_regret_approx_16[slice11],\n",
        "       simple_regret_approx_17[slice11],\n",
        "       simple_regret_approx_18[slice11],\n",
        "       simple_regret_approx_19[slice11],\n",
        "       simple_regret_approx_20[slice11]]\n",
        "\n",
        "exact11 = [simple_regret_exact_1[slice11],\n",
        "       simple_regret_exact_2[slice11],\n",
        "       simple_regret_exact_3[slice11],\n",
        "       simple_regret_exact_4[slice11],\n",
        "       simple_regret_exact_5[slice11],\n",
        "       simple_regret_exact_6[slice11],\n",
        "       simple_regret_exact_7[slice11],\n",
        "       simple_regret_exact_8[slice11],\n",
        "       simple_regret_exact_9[slice11],\n",
        "       simple_regret_exact_10[slice11],\n",
        "       simple_regret_exact_11[slice11],\n",
        "       simple_regret_exact_12[slice11],\n",
        "       simple_regret_exact_13[slice11],\n",
        "       simple_regret_exact_14[slice11],\n",
        "       simple_regret_exact_15[slice11],\n",
        "       simple_regret_exact_16[slice11],\n",
        "       simple_regret_exact_17[slice11],\n",
        "       simple_regret_exact_18[slice11],\n",
        "       simple_regret_exact_19[slice11],\n",
        "       simple_regret_exact_20[slice11]]\n",
        "\n",
        "approx11_results = pd.DataFrame(approx11).sort_values(by=[0], ascending=False)\n",
        "exact11_results = pd.DataFrame(exact11).sort_values(by=[0], ascending=False)\n",
        "\n",
        "### Best simple regret minimization IQR - approx:\n",
        "lower_approx11 = np.asarray(approx11_results[4:5][0])[0]\n",
        "median_approx11 = np.asarray(approx11_results[9:10][0])[0]\n",
        "upper_approx11 = np.asarray(approx11_results[14:15][0])[0]\n",
        "\n",
        "lower_exact11 = np.asarray(exact11_results[4:5][0])[0]\n",
        "median_exact11 = np.asarray(exact11_results[9:10][0])[0]\n",
        "upper_exact11 = np.asarray(exact11_results[14:15][0])[0]"
      ],
      "execution_count": null,
      "outputs": []
    },
    {
      "cell_type": "code",
      "metadata": {
        "id": "MFePDfGuQxf2"
      },
      "source": [
        "# Iteration21 :\n",
        "\n",
        "slice21 = 20\n",
        "\n",
        "approx21 = [simple_regret_approx_1[slice21],\n",
        "       simple_regret_approx_2[slice21],\n",
        "       simple_regret_approx_3[slice21],\n",
        "       simple_regret_approx_4[slice21],\n",
        "       simple_regret_approx_5[slice21],\n",
        "       simple_regret_approx_6[slice21],\n",
        "       simple_regret_approx_7[slice21],\n",
        "       simple_regret_approx_8[slice21],\n",
        "       simple_regret_approx_9[slice21],\n",
        "       simple_regret_approx_10[slice21],\n",
        "       simple_regret_approx_11[slice21],\n",
        "       simple_regret_approx_12[slice21],\n",
        "       simple_regret_approx_13[slice21],\n",
        "       simple_regret_approx_14[slice21],\n",
        "       simple_regret_approx_15[slice21],\n",
        "       simple_regret_approx_16[slice21],\n",
        "       simple_regret_approx_17[slice21],\n",
        "       simple_regret_approx_18[slice21],\n",
        "       simple_regret_approx_19[slice21],\n",
        "       simple_regret_approx_20[slice21]]\n",
        "\n",
        "exact21 = [simple_regret_exact_1[slice21],\n",
        "       simple_regret_exact_2[slice21],\n",
        "       simple_regret_exact_3[slice21],\n",
        "       simple_regret_exact_4[slice21],\n",
        "       simple_regret_exact_5[slice21],\n",
        "       simple_regret_exact_6[slice21],\n",
        "       simple_regret_exact_7[slice21],\n",
        "       simple_regret_exact_8[slice21],\n",
        "       simple_regret_exact_9[slice21],\n",
        "       simple_regret_exact_10[slice21],\n",
        "       simple_regret_exact_11[slice21],\n",
        "       simple_regret_exact_12[slice21],\n",
        "       simple_regret_exact_13[slice21],\n",
        "       simple_regret_exact_14[slice21],\n",
        "       simple_regret_exact_15[slice21],\n",
        "       simple_regret_exact_16[slice21],\n",
        "       simple_regret_exact_17[slice21],\n",
        "       simple_regret_exact_18[slice21],\n",
        "       simple_regret_exact_19[slice21],\n",
        "       simple_regret_exact_20[slice21]]\n",
        "\n",
        "approx21_results = pd.DataFrame(approx21).sort_values(by=[0], ascending=False)\n",
        "exact21_results = pd.DataFrame(exact21).sort_values(by=[0], ascending=False)\n",
        "\n",
        "### Best simple regret minimization IQR - approx:\n",
        "lower_approx21 = np.asarray(approx21_results[4:5][0])[0]\n",
        "median_approx21 = np.asarray(approx21_results[9:10][0])[0]\n",
        "upper_approx21 = np.asarray(approx21_results[14:15][0])[0]\n",
        "\n",
        "lower_exact21 = np.asarray(exact21_results[4:5][0])[0]\n",
        "median_exact21 = np.asarray(exact21_results[9:10][0])[0]\n",
        "upper_exact21 = np.asarray(exact21_results[14:15][0])[0]"
      ],
      "execution_count": null,
      "outputs": []
    },
    {
      "cell_type": "code",
      "metadata": {
        "id": "PrRDB1kfQxf3"
      },
      "source": [
        "# Iteration2 :\n",
        "\n",
        "slice2 = 1\n",
        "\n",
        "approx2 = [simple_regret_approx_1[slice2],\n",
        "       simple_regret_approx_2[slice2],\n",
        "       simple_regret_approx_3[slice2],\n",
        "       simple_regret_approx_4[slice2],\n",
        "       simple_regret_approx_5[slice2],\n",
        "       simple_regret_approx_6[slice2],\n",
        "       simple_regret_approx_7[slice2],\n",
        "       simple_regret_approx_8[slice2],\n",
        "       simple_regret_approx_9[slice2],\n",
        "       simple_regret_approx_10[slice2],\n",
        "       simple_regret_approx_11[slice2],\n",
        "       simple_regret_approx_12[slice2],\n",
        "       simple_regret_approx_13[slice2],\n",
        "       simple_regret_approx_14[slice2],\n",
        "       simple_regret_approx_15[slice2],\n",
        "       simple_regret_approx_16[slice2],\n",
        "       simple_regret_approx_17[slice2],\n",
        "       simple_regret_approx_18[slice2],\n",
        "       simple_regret_approx_19[slice2],\n",
        "       simple_regret_approx_20[slice2]]\n",
        "\n",
        "exact2 = [simple_regret_exact_1[slice2],\n",
        "       simple_regret_exact_2[slice2],\n",
        "       simple_regret_exact_3[slice2],\n",
        "       simple_regret_exact_4[slice2],\n",
        "       simple_regret_exact_5[slice2],\n",
        "       simple_regret_exact_6[slice2],\n",
        "       simple_regret_exact_7[slice2],\n",
        "       simple_regret_exact_8[slice2],\n",
        "       simple_regret_exact_9[slice2],\n",
        "       simple_regret_exact_10[slice2],\n",
        "       simple_regret_exact_11[slice2],\n",
        "       simple_regret_exact_12[slice2],\n",
        "       simple_regret_exact_13[slice2],\n",
        "       simple_regret_exact_14[slice2],\n",
        "       simple_regret_exact_15[slice2],\n",
        "       simple_regret_exact_16[slice2],\n",
        "       simple_regret_exact_17[slice2],\n",
        "       simple_regret_exact_18[slice2],\n",
        "       simple_regret_exact_19[slice2],\n",
        "       simple_regret_exact_20[slice2]]\n",
        "\n",
        "approx2_results = pd.DataFrame(approx2).sort_values(by=[0], ascending=False)\n",
        "exact2_results = pd.DataFrame(exact2).sort_values(by=[0], ascending=False)\n",
        "\n",
        "### Best simple regret minimization IQR - approx:\n",
        "lower_approx2 = np.asarray(approx2_results[4:5][0])[0]\n",
        "median_approx2 = np.asarray(approx2_results[9:10][0])[0]\n",
        "upper_approx2 = np.asarray(approx2_results[14:15][0])[0]\n",
        "\n",
        "lower_exact2 = np.asarray(exact2_results[4:5][0])[0]\n",
        "median_exact2 = np.asarray(exact2_results[9:10][0])[0]\n",
        "upper_exact2 = np.asarray(exact2_results[14:15][0])[0]"
      ],
      "execution_count": null,
      "outputs": []
    },
    {
      "cell_type": "code",
      "metadata": {
        "id": "B8ncJDYeQxf3"
      },
      "source": [
        "# Iteration12 :\n",
        "\n",
        "slice12 = 11\n",
        "\n",
        "approx12 = [simple_regret_approx_1[slice12],\n",
        "       simple_regret_approx_2[slice12],\n",
        "       simple_regret_approx_3[slice12],\n",
        "       simple_regret_approx_4[slice12],\n",
        "       simple_regret_approx_5[slice12],\n",
        "       simple_regret_approx_6[slice12],\n",
        "       simple_regret_approx_7[slice12],\n",
        "       simple_regret_approx_8[slice12],\n",
        "       simple_regret_approx_9[slice12],\n",
        "       simple_regret_approx_10[slice12],\n",
        "       simple_regret_approx_11[slice12],\n",
        "       simple_regret_approx_12[slice12],\n",
        "       simple_regret_approx_13[slice12],\n",
        "       simple_regret_approx_14[slice12],\n",
        "       simple_regret_approx_15[slice12],\n",
        "       simple_regret_approx_16[slice12],\n",
        "       simple_regret_approx_17[slice12],\n",
        "       simple_regret_approx_18[slice12],\n",
        "       simple_regret_approx_19[slice12],\n",
        "       simple_regret_approx_20[slice12]]\n",
        "\n",
        "exact12 = [simple_regret_exact_1[slice12],\n",
        "       simple_regret_exact_2[slice12],\n",
        "       simple_regret_exact_3[slice12],\n",
        "       simple_regret_exact_4[slice12],\n",
        "       simple_regret_exact_5[slice12],\n",
        "       simple_regret_exact_6[slice12],\n",
        "       simple_regret_exact_7[slice12],\n",
        "       simple_regret_exact_8[slice12],\n",
        "       simple_regret_exact_9[slice12],\n",
        "       simple_regret_exact_10[slice12],\n",
        "       simple_regret_exact_11[slice12],\n",
        "       simple_regret_exact_12[slice12],\n",
        "       simple_regret_exact_13[slice12],\n",
        "       simple_regret_exact_14[slice12],\n",
        "       simple_regret_exact_15[slice12],\n",
        "       simple_regret_exact_16[slice12],\n",
        "       simple_regret_exact_17[slice12],\n",
        "       simple_regret_exact_18[slice12],\n",
        "       simple_regret_exact_19[slice12],\n",
        "       simple_regret_exact_20[slice12]]\n",
        "\n",
        "approx12_results = pd.DataFrame(approx12).sort_values(by=[0], ascending=False)\n",
        "exact12_results = pd.DataFrame(exact12).sort_values(by=[0], ascending=False)\n",
        "\n",
        "### Best simple regret minimization IQR - approx:\n",
        "lower_approx12 = np.asarray(approx12_results[4:5][0])[0]\n",
        "median_approx12 = np.asarray(approx12_results[9:10][0])[0]\n",
        "upper_approx12 = np.asarray(approx12_results[14:15][0])[0]\n",
        "\n",
        "lower_exact12 = np.asarray(exact12_results[4:5][0])[0]\n",
        "median_exact12 = np.asarray(exact12_results[9:10][0])[0]\n",
        "upper_exact12 = np.asarray(exact12_results[14:15][0])[0]"
      ],
      "execution_count": null,
      "outputs": []
    },
    {
      "cell_type": "code",
      "metadata": {
        "id": "Jn4KpGvcQxf4"
      },
      "source": [
        "# Iteration3 :\n",
        "\n",
        "slice3 = 2\n",
        "\n",
        "approx3 = [simple_regret_approx_1[slice3],\n",
        "       simple_regret_approx_2[slice3],\n",
        "       simple_regret_approx_3[slice3],\n",
        "       simple_regret_approx_4[slice3],\n",
        "       simple_regret_approx_5[slice3],\n",
        "       simple_regret_approx_6[slice3],\n",
        "       simple_regret_approx_7[slice3],\n",
        "       simple_regret_approx_8[slice3],\n",
        "       simple_regret_approx_9[slice3],\n",
        "       simple_regret_approx_10[slice3],\n",
        "       simple_regret_approx_11[slice3],\n",
        "       simple_regret_approx_12[slice3],\n",
        "       simple_regret_approx_13[slice3],\n",
        "       simple_regret_approx_14[slice3],\n",
        "       simple_regret_approx_15[slice3],\n",
        "       simple_regret_approx_16[slice3],\n",
        "       simple_regret_approx_17[slice3],\n",
        "       simple_regret_approx_18[slice3],\n",
        "       simple_regret_approx_19[slice3],\n",
        "       simple_regret_approx_20[slice3]]\n",
        "\n",
        "exact3 = [simple_regret_exact_1[slice3],\n",
        "       simple_regret_exact_2[slice3],\n",
        "       simple_regret_exact_3[slice3],\n",
        "       simple_regret_exact_4[slice3],\n",
        "       simple_regret_exact_5[slice3],\n",
        "       simple_regret_exact_6[slice3],\n",
        "       simple_regret_exact_7[slice3],\n",
        "       simple_regret_exact_8[slice3],\n",
        "       simple_regret_exact_9[slice3],\n",
        "       simple_regret_exact_10[slice3],\n",
        "       simple_regret_exact_11[slice3],\n",
        "       simple_regret_exact_12[slice3],\n",
        "       simple_regret_exact_13[slice3],\n",
        "       simple_regret_exact_14[slice3],\n",
        "       simple_regret_exact_15[slice3],\n",
        "       simple_regret_exact_16[slice3],\n",
        "       simple_regret_exact_17[slice3],\n",
        "       simple_regret_exact_18[slice3],\n",
        "       simple_regret_exact_19[slice3],\n",
        "       simple_regret_exact_20[slice3]]\n",
        "\n",
        "approx3_results = pd.DataFrame(approx3).sort_values(by=[0], ascending=False)\n",
        "exact3_results = pd.DataFrame(exact3).sort_values(by=[0], ascending=False)\n",
        "\n",
        "### Best simple regret minimization IQR - approx:\n",
        "lower_approx3 = np.asarray(approx3_results[4:5][0])[0]\n",
        "median_approx3 = np.asarray(approx3_results[9:10][0])[0]\n",
        "upper_approx3 = np.asarray(approx3_results[14:15][0])[0]\n",
        "\n",
        "lower_exact3 = np.asarray(exact3_results[4:5][0])[0]\n",
        "median_exact3 = np.asarray(exact3_results[9:10][0])[0]\n",
        "upper_exact3 = np.asarray(exact3_results[14:15][0])[0]"
      ],
      "execution_count": null,
      "outputs": []
    },
    {
      "cell_type": "code",
      "metadata": {
        "id": "plf83wxrQxf4"
      },
      "source": [
        "# Iteration13 :\n",
        "\n",
        "slice13 = 12\n",
        "\n",
        "approx13 = [simple_regret_approx_1[slice13],\n",
        "       simple_regret_approx_2[slice13],\n",
        "       simple_regret_approx_3[slice13],\n",
        "       simple_regret_approx_4[slice13],\n",
        "       simple_regret_approx_5[slice13],\n",
        "       simple_regret_approx_6[slice13],\n",
        "       simple_regret_approx_7[slice13],\n",
        "       simple_regret_approx_8[slice13],\n",
        "       simple_regret_approx_9[slice13],\n",
        "       simple_regret_approx_10[slice13],\n",
        "       simple_regret_approx_11[slice13],\n",
        "       simple_regret_approx_12[slice13],\n",
        "       simple_regret_approx_13[slice13],\n",
        "       simple_regret_approx_14[slice13],\n",
        "       simple_regret_approx_15[slice13],\n",
        "       simple_regret_approx_16[slice13],\n",
        "       simple_regret_approx_17[slice13],\n",
        "       simple_regret_approx_18[slice13],\n",
        "       simple_regret_approx_19[slice13],\n",
        "       simple_regret_approx_20[slice13]]\n",
        "\n",
        "exact13 = [simple_regret_exact_1[slice13],\n",
        "       simple_regret_exact_2[slice13],\n",
        "       simple_regret_exact_3[slice13],\n",
        "       simple_regret_exact_4[slice13],\n",
        "       simple_regret_exact_5[slice13],\n",
        "       simple_regret_exact_6[slice13],\n",
        "       simple_regret_exact_7[slice13],\n",
        "       simple_regret_exact_8[slice13],\n",
        "       simple_regret_exact_9[slice13],\n",
        "       simple_regret_exact_10[slice13],\n",
        "       simple_regret_exact_11[slice13],\n",
        "       simple_regret_exact_12[slice13],\n",
        "       simple_regret_exact_13[slice13],\n",
        "       simple_regret_exact_14[slice13],\n",
        "       simple_regret_exact_15[slice13],\n",
        "       simple_regret_exact_16[slice13],\n",
        "       simple_regret_exact_17[slice13],\n",
        "       simple_regret_exact_18[slice13],\n",
        "       simple_regret_exact_19[slice13],\n",
        "       simple_regret_exact_20[slice13]]\n",
        "\n",
        "approx13_results = pd.DataFrame(approx13).sort_values(by=[0], ascending=False)\n",
        "exact13_results = pd.DataFrame(exact13).sort_values(by=[0], ascending=False)\n",
        "\n",
        "### Best simple regret minimization IQR - approx:\n",
        "lower_approx13 = np.asarray(approx13_results[4:5][0])[0]\n",
        "median_approx13 = np.asarray(approx13_results[9:10][0])[0]\n",
        "upper_approx13 = np.asarray(approx13_results[14:15][0])[0]\n",
        "\n",
        "lower_exact13 = np.asarray(exact13_results[4:5][0])[0]\n",
        "median_exact13 = np.asarray(exact13_results[9:10][0])[0]\n",
        "upper_exact13 = np.asarray(exact13_results[14:15][0])[0]"
      ],
      "execution_count": null,
      "outputs": []
    },
    {
      "cell_type": "code",
      "metadata": {
        "id": "9A7mlVvJQxf5"
      },
      "source": [
        "# Iteration4 :\n",
        "\n",
        "slice4 = 3\n",
        "\n",
        "approx4 = [simple_regret_approx_1[slice4],\n",
        "       simple_regret_approx_2[slice4],\n",
        "       simple_regret_approx_3[slice4],\n",
        "       simple_regret_approx_4[slice4],\n",
        "       simple_regret_approx_5[slice4],\n",
        "       simple_regret_approx_6[slice4],\n",
        "       simple_regret_approx_7[slice4],\n",
        "       simple_regret_approx_8[slice4],\n",
        "       simple_regret_approx_9[slice4],\n",
        "       simple_regret_approx_10[slice4],\n",
        "       simple_regret_approx_11[slice4],\n",
        "       simple_regret_approx_12[slice4],\n",
        "       simple_regret_approx_13[slice4],\n",
        "       simple_regret_approx_14[slice4],\n",
        "       simple_regret_approx_15[slice4],\n",
        "       simple_regret_approx_16[slice4],\n",
        "       simple_regret_approx_17[slice4],\n",
        "       simple_regret_approx_18[slice4],\n",
        "       simple_regret_approx_19[slice4],\n",
        "       simple_regret_approx_20[slice4]]\n",
        "\n",
        "exact4 = [simple_regret_exact_1[slice4],\n",
        "       simple_regret_exact_2[slice4],\n",
        "       simple_regret_exact_3[slice4],\n",
        "       simple_regret_exact_4[slice4],\n",
        "       simple_regret_exact_5[slice4],\n",
        "       simple_regret_exact_6[slice4],\n",
        "       simple_regret_exact_7[slice4],\n",
        "       simple_regret_exact_8[slice4],\n",
        "       simple_regret_exact_9[slice4],\n",
        "       simple_regret_exact_10[slice4],\n",
        "       simple_regret_exact_11[slice4],\n",
        "       simple_regret_exact_12[slice4],\n",
        "       simple_regret_exact_13[slice4],\n",
        "       simple_regret_exact_14[slice4],\n",
        "       simple_regret_exact_15[slice4],\n",
        "       simple_regret_exact_16[slice4],\n",
        "       simple_regret_exact_17[slice4],\n",
        "       simple_regret_exact_18[slice4],\n",
        "       simple_regret_exact_19[slice4],\n",
        "       simple_regret_exact_20[slice4]]\n",
        "\n",
        "approx4_results = pd.DataFrame(approx4).sort_values(by=[0], ascending=False)\n",
        "exact4_results = pd.DataFrame(exact4).sort_values(by=[0], ascending=False)\n",
        "\n",
        "### Best simple regret minimization IQR - approx:\n",
        "lower_approx4 = np.asarray(approx4_results[4:5][0])[0]\n",
        "median_approx4 = np.asarray(approx4_results[9:10][0])[0]\n",
        "upper_approx4 = np.asarray(approx4_results[14:15][0])[0]\n",
        "\n",
        "lower_exact4 = np.asarray(exact4_results[4:5][0])[0]\n",
        "median_exact4 = np.asarray(exact4_results[9:10][0])[0]\n",
        "upper_exact4 = np.asarray(exact4_results[14:15][0])[0]"
      ],
      "execution_count": null,
      "outputs": []
    },
    {
      "cell_type": "code",
      "metadata": {
        "id": "ijq-rioYQxf5"
      },
      "source": [
        "# Iteration14 :\n",
        "\n",
        "slice14 = 13\n",
        "\n",
        "approx14 = [simple_regret_approx_1[slice14],\n",
        "       simple_regret_approx_2[slice14],\n",
        "       simple_regret_approx_3[slice14],\n",
        "       simple_regret_approx_4[slice14],\n",
        "       simple_regret_approx_5[slice14],\n",
        "       simple_regret_approx_6[slice14],\n",
        "       simple_regret_approx_7[slice14],\n",
        "       simple_regret_approx_8[slice14],\n",
        "       simple_regret_approx_9[slice14],\n",
        "       simple_regret_approx_10[slice14],\n",
        "       simple_regret_approx_11[slice14],\n",
        "       simple_regret_approx_12[slice14],\n",
        "       simple_regret_approx_13[slice14],\n",
        "       simple_regret_approx_14[slice14],\n",
        "       simple_regret_approx_15[slice14],\n",
        "       simple_regret_approx_16[slice14],\n",
        "       simple_regret_approx_17[slice14],\n",
        "       simple_regret_approx_18[slice14],\n",
        "       simple_regret_approx_19[slice14],\n",
        "       simple_regret_approx_20[slice14]]\n",
        "\n",
        "exact14 = [simple_regret_exact_1[slice14],\n",
        "       simple_regret_exact_2[slice14],\n",
        "       simple_regret_exact_3[slice14],\n",
        "       simple_regret_exact_4[slice14],\n",
        "       simple_regret_exact_5[slice14],\n",
        "       simple_regret_exact_6[slice14],\n",
        "       simple_regret_exact_7[slice14],\n",
        "       simple_regret_exact_8[slice14],\n",
        "       simple_regret_exact_9[slice14],\n",
        "       simple_regret_exact_10[slice14],\n",
        "       simple_regret_exact_11[slice14],\n",
        "       simple_regret_exact_12[slice14],\n",
        "       simple_regret_exact_13[slice14],\n",
        "       simple_regret_exact_14[slice14],\n",
        "       simple_regret_exact_15[slice14],\n",
        "       simple_regret_exact_16[slice14],\n",
        "       simple_regret_exact_17[slice14],\n",
        "       simple_regret_exact_18[slice14],\n",
        "       simple_regret_exact_19[slice14],\n",
        "       simple_regret_exact_20[slice14]]\n",
        "\n",
        "approx14_results = pd.DataFrame(approx14).sort_values(by=[0], ascending=False)\n",
        "exact14_results = pd.DataFrame(exact14).sort_values(by=[0], ascending=False)\n",
        "\n",
        "### Best simple regret minimization IQR - approx:\n",
        "lower_approx14 = np.asarray(approx14_results[4:5][0])[0]\n",
        "median_approx14 = np.asarray(approx14_results[9:10][0])[0]\n",
        "upper_approx14 = np.asarray(approx14_results[14:15][0])[0]\n",
        "\n",
        "lower_exact14 = np.asarray(exact14_results[4:5][0])[0]\n",
        "median_exact14 = np.asarray(exact14_results[9:10][0])[0]\n",
        "upper_exact14 = np.asarray(exact14_results[14:15][0])[0]"
      ],
      "execution_count": null,
      "outputs": []
    },
    {
      "cell_type": "code",
      "metadata": {
        "id": "XINlZjoTd-ZK"
      },
      "source": [
        "# Iteration5 :\n",
        "\n",
        "slice5 = 4\n",
        "\n",
        "approx5 = [simple_regret_approx_1[slice5],\n",
        "       simple_regret_approx_2[slice5],\n",
        "       simple_regret_approx_3[slice5],\n",
        "       simple_regret_approx_4[slice5],\n",
        "       simple_regret_approx_5[slice5],\n",
        "       simple_regret_approx_6[slice5],\n",
        "       simple_regret_approx_7[slice5],\n",
        "       simple_regret_approx_8[slice5],\n",
        "       simple_regret_approx_9[slice5],\n",
        "       simple_regret_approx_10[slice5],\n",
        "       simple_regret_approx_11[slice5],\n",
        "       simple_regret_approx_12[slice5],\n",
        "       simple_regret_approx_13[slice5],\n",
        "       simple_regret_approx_14[slice5],\n",
        "       simple_regret_approx_15[slice5],\n",
        "       simple_regret_approx_16[slice5],\n",
        "       simple_regret_approx_17[slice5],\n",
        "       simple_regret_approx_18[slice5],\n",
        "       simple_regret_approx_19[slice5],\n",
        "       simple_regret_approx_20[slice5]]\n",
        "\n",
        "exact5 = [simple_regret_exact_1[slice5],\n",
        "       simple_regret_exact_2[slice5],\n",
        "       simple_regret_exact_3[slice5],\n",
        "       simple_regret_exact_4[slice5],\n",
        "       simple_regret_exact_5[slice5],\n",
        "       simple_regret_exact_6[slice5],\n",
        "       simple_regret_exact_7[slice5],\n",
        "       simple_regret_exact_8[slice5],\n",
        "       simple_regret_exact_9[slice5],\n",
        "       simple_regret_exact_10[slice5],\n",
        "       simple_regret_exact_11[slice5],\n",
        "       simple_regret_exact_12[slice5],\n",
        "       simple_regret_exact_13[slice5],\n",
        "       simple_regret_exact_14[slice5],\n",
        "       simple_regret_exact_15[slice5],\n",
        "       simple_regret_exact_16[slice5],\n",
        "       simple_regret_exact_17[slice5],\n",
        "       simple_regret_exact_18[slice5],\n",
        "       simple_regret_exact_19[slice5],\n",
        "       simple_regret_exact_20[slice5]]\n",
        "\n",
        "approx5_results = pd.DataFrame(approx5).sort_values(by=[0], ascending=False)\n",
        "exact5_results = pd.DataFrame(exact5).sort_values(by=[0], ascending=False)\n",
        "\n",
        "### Best simple regret minimization IQR - approx:\n",
        "lower_approx5 = np.asarray(approx5_results[4:5][0])[0]\n",
        "median_approx5 = np.asarray(approx5_results[9:10][0])[0]\n",
        "upper_approx5 = np.asarray(approx5_results[14:15][0])[0]\n",
        "\n",
        "lower_exact5 = np.asarray(exact5_results[4:5][0])[0]\n",
        "median_exact5 = np.asarray(exact5_results[9:10][0])[0]\n",
        "upper_exact5 = np.asarray(exact5_results[14:15][0])[0]"
      ],
      "execution_count": null,
      "outputs": []
    },
    {
      "cell_type": "code",
      "metadata": {
        "id": "4aZ7C8sOQxf6"
      },
      "source": [
        "# Iteration15 :\n",
        "\n",
        "slice15 = 14\n",
        "\n",
        "approx15 = [simple_regret_approx_1[slice15],\n",
        "       simple_regret_approx_2[slice15],\n",
        "       simple_regret_approx_3[slice15],\n",
        "       simple_regret_approx_4[slice15],\n",
        "       simple_regret_approx_5[slice15],\n",
        "       simple_regret_approx_6[slice15],\n",
        "       simple_regret_approx_7[slice15],\n",
        "       simple_regret_approx_8[slice15],\n",
        "       simple_regret_approx_9[slice15],\n",
        "       simple_regret_approx_10[slice15],\n",
        "       simple_regret_approx_11[slice15],\n",
        "       simple_regret_approx_12[slice15],\n",
        "       simple_regret_approx_13[slice15],\n",
        "       simple_regret_approx_14[slice15],\n",
        "       simple_regret_approx_15[slice15],\n",
        "       simple_regret_approx_16[slice15],\n",
        "       simple_regret_approx_17[slice15],\n",
        "       simple_regret_approx_18[slice15],\n",
        "       simple_regret_approx_19[slice15],\n",
        "       simple_regret_approx_20[slice15]]\n",
        "\n",
        "exact15 = [simple_regret_exact_1[slice15],\n",
        "       simple_regret_exact_2[slice15],\n",
        "       simple_regret_exact_3[slice15],\n",
        "       simple_regret_exact_4[slice15],\n",
        "       simple_regret_exact_5[slice15],\n",
        "       simple_regret_exact_6[slice15],\n",
        "       simple_regret_exact_7[slice15],\n",
        "       simple_regret_exact_8[slice15],\n",
        "       simple_regret_exact_9[slice15],\n",
        "       simple_regret_exact_10[slice15],\n",
        "       simple_regret_exact_11[slice15],\n",
        "       simple_regret_exact_12[slice15],\n",
        "       simple_regret_exact_13[slice15],\n",
        "       simple_regret_exact_14[slice15],\n",
        "       simple_regret_exact_15[slice15],\n",
        "       simple_regret_exact_16[slice15],\n",
        "       simple_regret_exact_17[slice15],\n",
        "       simple_regret_exact_18[slice15],\n",
        "       simple_regret_exact_19[slice15],\n",
        "       simple_regret_exact_20[slice15]]\n",
        "\n",
        "approx15_results = pd.DataFrame(approx15).sort_values(by=[0], ascending=False)\n",
        "exact15_results = pd.DataFrame(exact15).sort_values(by=[0], ascending=False)\n",
        "\n",
        "### Best simple regret minimization IQR - approx:\n",
        "lower_approx15 = np.asarray(approx15_results[4:5][0])[0]\n",
        "median_approx15 = np.asarray(approx15_results[9:10][0])[0]\n",
        "upper_approx15 = np.asarray(approx15_results[14:15][0])[0]\n",
        "\n",
        "lower_exact15 = np.asarray(exact15_results[4:5][0])[0]\n",
        "median_exact15 = np.asarray(exact15_results[9:10][0])[0]\n",
        "upper_exact15 = np.asarray(exact15_results[14:15][0])[0]"
      ],
      "execution_count": null,
      "outputs": []
    },
    {
      "cell_type": "code",
      "metadata": {
        "id": "KJINKhv1Qxf6"
      },
      "source": [
        "# Iteration6 :\n",
        "\n",
        "slice6 = 5\n",
        "\n",
        "approx6 = [simple_regret_approx_1[slice6],\n",
        "       simple_regret_approx_2[slice6],\n",
        "       simple_regret_approx_3[slice6],\n",
        "       simple_regret_approx_4[slice6],\n",
        "       simple_regret_approx_5[slice6],\n",
        "       simple_regret_approx_6[slice6],\n",
        "       simple_regret_approx_7[slice6],\n",
        "       simple_regret_approx_8[slice6],\n",
        "       simple_regret_approx_9[slice6],\n",
        "       simple_regret_approx_10[slice6],\n",
        "       simple_regret_approx_11[slice6],\n",
        "       simple_regret_approx_12[slice6],\n",
        "       simple_regret_approx_13[slice6],\n",
        "       simple_regret_approx_14[slice6],\n",
        "       simple_regret_approx_15[slice6],\n",
        "       simple_regret_approx_16[slice6],\n",
        "       simple_regret_approx_17[slice6],\n",
        "       simple_regret_approx_18[slice6],\n",
        "       simple_regret_approx_19[slice6],\n",
        "       simple_regret_approx_20[slice6]]\n",
        "\n",
        "exact6 = [simple_regret_exact_1[slice6],\n",
        "       simple_regret_exact_2[slice6],\n",
        "       simple_regret_exact_3[slice6],\n",
        "       simple_regret_exact_4[slice6],\n",
        "       simple_regret_exact_5[slice6],\n",
        "       simple_regret_exact_6[slice6],\n",
        "       simple_regret_exact_7[slice6],\n",
        "       simple_regret_exact_8[slice6],\n",
        "       simple_regret_exact_9[slice6],\n",
        "       simple_regret_exact_10[slice6],\n",
        "       simple_regret_exact_11[slice6],\n",
        "       simple_regret_exact_12[slice6],\n",
        "       simple_regret_exact_13[slice6],\n",
        "       simple_regret_exact_14[slice6],\n",
        "       simple_regret_exact_15[slice6],\n",
        "       simple_regret_exact_16[slice6],\n",
        "       simple_regret_exact_17[slice6],\n",
        "       simple_regret_exact_18[slice6],\n",
        "       simple_regret_exact_19[slice6],\n",
        "       simple_regret_exact_20[slice6]]\n",
        "\n",
        "approx6_results = pd.DataFrame(approx6).sort_values(by=[0], ascending=False)\n",
        "exact6_results = pd.DataFrame(exact6).sort_values(by=[0], ascending=False)\n",
        "\n",
        "### Best simple regret minimization IQR - approx:\n",
        "lower_approx6 = np.asarray(approx6_results[4:5][0])[0]\n",
        "median_approx6 = np.asarray(approx6_results[9:10][0])[0]\n",
        "upper_approx6 = np.asarray(approx6_results[14:15][0])[0]\n",
        "\n",
        "lower_exact6 = np.asarray(exact6_results[4:5][0])[0]\n",
        "median_exact6 = np.asarray(exact6_results[9:10][0])[0]\n",
        "upper_exact6 = np.asarray(exact6_results[14:15][0])[0]"
      ],
      "execution_count": null,
      "outputs": []
    },
    {
      "cell_type": "code",
      "metadata": {
        "id": "nwC5N1FsQxf7"
      },
      "source": [
        "# Iteration16 :\n",
        "\n",
        "slice16 = 15\n",
        "\n",
        "approx16 = [simple_regret_approx_1[slice16],\n",
        "       simple_regret_approx_2[slice16],\n",
        "       simple_regret_approx_3[slice16],\n",
        "       simple_regret_approx_4[slice16],\n",
        "       simple_regret_approx_5[slice16],\n",
        "       simple_regret_approx_6[slice16],\n",
        "       simple_regret_approx_7[slice16],\n",
        "       simple_regret_approx_8[slice16],\n",
        "       simple_regret_approx_9[slice16],\n",
        "       simple_regret_approx_10[slice16],\n",
        "       simple_regret_approx_11[slice16],\n",
        "       simple_regret_approx_12[slice16],\n",
        "       simple_regret_approx_13[slice16],\n",
        "       simple_regret_approx_14[slice16],\n",
        "       simple_regret_approx_15[slice16],\n",
        "       simple_regret_approx_16[slice16],\n",
        "       simple_regret_approx_17[slice16],\n",
        "       simple_regret_approx_18[slice16],\n",
        "       simple_regret_approx_19[slice16],\n",
        "       simple_regret_approx_20[slice16]]\n",
        "\n",
        "exact16 = [simple_regret_exact_1[slice16],\n",
        "       simple_regret_exact_2[slice16],\n",
        "       simple_regret_exact_3[slice16],\n",
        "       simple_regret_exact_4[slice16],\n",
        "       simple_regret_exact_5[slice16],\n",
        "       simple_regret_exact_6[slice16],\n",
        "       simple_regret_exact_7[slice16],\n",
        "       simple_regret_exact_8[slice16],\n",
        "       simple_regret_exact_9[slice16],\n",
        "       simple_regret_exact_10[slice16],\n",
        "       simple_regret_exact_11[slice16],\n",
        "       simple_regret_exact_12[slice16],\n",
        "       simple_regret_exact_13[slice16],\n",
        "       simple_regret_exact_14[slice16],\n",
        "       simple_regret_exact_15[slice16],\n",
        "       simple_regret_exact_16[slice16],\n",
        "       simple_regret_exact_17[slice16],\n",
        "       simple_regret_exact_18[slice16],\n",
        "       simple_regret_exact_19[slice16],\n",
        "       simple_regret_exact_20[slice16]]\n",
        "\n",
        "approx16_results = pd.DataFrame(approx16).sort_values(by=[0], ascending=False)\n",
        "exact16_results = pd.DataFrame(exact16).sort_values(by=[0], ascending=False)\n",
        "\n",
        "### Best simple regret minimization IQR - approx:\n",
        "lower_approx16 = np.asarray(approx16_results[4:5][0])[0]\n",
        "median_approx16 = np.asarray(approx16_results[9:10][0])[0]\n",
        "upper_approx16 = np.asarray(approx16_results[14:15][0])[0]\n",
        "\n",
        "lower_exact16 = np.asarray(exact16_results[4:5][0])[0]\n",
        "median_exact16 = np.asarray(exact16_results[9:10][0])[0]\n",
        "upper_exact16 = np.asarray(exact16_results[14:15][0])[0]"
      ],
      "execution_count": null,
      "outputs": []
    },
    {
      "cell_type": "code",
      "metadata": {
        "id": "TrPV0AfnQxf7"
      },
      "source": [
        "# Iteration7 :\n",
        "\n",
        "slice7 = 6\n",
        "\n",
        "approx7 = [simple_regret_approx_1[slice7],\n",
        "       simple_regret_approx_2[slice7],\n",
        "       simple_regret_approx_3[slice7],\n",
        "       simple_regret_approx_4[slice7],\n",
        "       simple_regret_approx_5[slice7],\n",
        "       simple_regret_approx_6[slice7],\n",
        "       simple_regret_approx_7[slice7],\n",
        "       simple_regret_approx_8[slice7],\n",
        "       simple_regret_approx_9[slice7],\n",
        "       simple_regret_approx_10[slice7],\n",
        "       simple_regret_approx_11[slice7],\n",
        "       simple_regret_approx_12[slice7],\n",
        "       simple_regret_approx_13[slice7],\n",
        "       simple_regret_approx_14[slice7],\n",
        "       simple_regret_approx_15[slice7],\n",
        "       simple_regret_approx_16[slice7],\n",
        "       simple_regret_approx_17[slice7],\n",
        "       simple_regret_approx_18[slice7],\n",
        "       simple_regret_approx_19[slice7],\n",
        "       simple_regret_approx_20[slice7]]\n",
        "\n",
        "exact7 = [simple_regret_exact_1[slice7],\n",
        "       simple_regret_exact_2[slice7],\n",
        "       simple_regret_exact_3[slice7],\n",
        "       simple_regret_exact_4[slice7],\n",
        "       simple_regret_exact_5[slice7],\n",
        "       simple_regret_exact_6[slice7],\n",
        "       simple_regret_exact_7[slice7],\n",
        "       simple_regret_exact_8[slice7],\n",
        "       simple_regret_exact_9[slice7],\n",
        "       simple_regret_exact_10[slice7],\n",
        "       simple_regret_exact_11[slice7],\n",
        "       simple_regret_exact_12[slice7],\n",
        "       simple_regret_exact_13[slice7],\n",
        "       simple_regret_exact_14[slice7],\n",
        "       simple_regret_exact_15[slice7],\n",
        "       simple_regret_exact_16[slice7],\n",
        "       simple_regret_exact_17[slice7],\n",
        "       simple_regret_exact_18[slice7],\n",
        "       simple_regret_exact_19[slice7],\n",
        "       simple_regret_exact_20[slice7]]\n",
        "\n",
        "approx7_results = pd.DataFrame(approx7).sort_values(by=[0], ascending=False)\n",
        "exact7_results = pd.DataFrame(exact7).sort_values(by=[0], ascending=False)\n",
        "\n",
        "### Best simple regret minimization IQR - approx:\n",
        "lower_approx7 = np.asarray(approx7_results[4:5][0])[0]\n",
        "median_approx7 = np.asarray(approx7_results[9:10][0])[0]\n",
        "upper_approx7 = np.asarray(approx7_results[14:15][0])[0]\n",
        "\n",
        "lower_exact7 = np.asarray(exact7_results[4:5][0])[0]\n",
        "median_exact7 = np.asarray(exact7_results[9:10][0])[0]\n",
        "upper_exact7 = np.asarray(exact7_results[14:15][0])[0]"
      ],
      "execution_count": null,
      "outputs": []
    },
    {
      "cell_type": "code",
      "metadata": {
        "id": "Ub_-wpK4Qxf8"
      },
      "source": [
        "# Iteration17 :\n",
        "\n",
        "slice17 = 16\n",
        "\n",
        "approx17 = [simple_regret_approx_1[slice17],\n",
        "       simple_regret_approx_2[slice17],\n",
        "       simple_regret_approx_3[slice17],\n",
        "       simple_regret_approx_4[slice17],\n",
        "       simple_regret_approx_5[slice17],\n",
        "       simple_regret_approx_6[slice17],\n",
        "       simple_regret_approx_7[slice17],\n",
        "       simple_regret_approx_8[slice17],\n",
        "       simple_regret_approx_9[slice17],\n",
        "       simple_regret_approx_10[slice17],\n",
        "       simple_regret_approx_11[slice17],\n",
        "       simple_regret_approx_12[slice17],\n",
        "       simple_regret_approx_13[slice17],\n",
        "       simple_regret_approx_14[slice17],\n",
        "       simple_regret_approx_15[slice17],\n",
        "       simple_regret_approx_16[slice17],\n",
        "       simple_regret_approx_17[slice17],\n",
        "       simple_regret_approx_18[slice17],\n",
        "       simple_regret_approx_19[slice17],\n",
        "       simple_regret_approx_20[slice17]]\n",
        "\n",
        "exact17 = [simple_regret_exact_1[slice17],\n",
        "       simple_regret_exact_2[slice17],\n",
        "       simple_regret_exact_3[slice17],\n",
        "       simple_regret_exact_4[slice17],\n",
        "       simple_regret_exact_5[slice17],\n",
        "       simple_regret_exact_6[slice17],\n",
        "       simple_regret_exact_7[slice17],\n",
        "       simple_regret_exact_8[slice17],\n",
        "       simple_regret_exact_9[slice17],\n",
        "       simple_regret_exact_10[slice17],\n",
        "       simple_regret_exact_11[slice17],\n",
        "       simple_regret_exact_12[slice17],\n",
        "       simple_regret_exact_13[slice17],\n",
        "       simple_regret_exact_14[slice17],\n",
        "       simple_regret_exact_15[slice17],\n",
        "       simple_regret_exact_16[slice17],\n",
        "       simple_regret_exact_17[slice17],\n",
        "       simple_regret_exact_18[slice17],\n",
        "       simple_regret_exact_19[slice17],\n",
        "       simple_regret_exact_20[slice17]]\n",
        "\n",
        "approx17_results = pd.DataFrame(approx17).sort_values(by=[0], ascending=False)\n",
        "exact17_results = pd.DataFrame(exact17).sort_values(by=[0], ascending=False)\n",
        "\n",
        "### Best simple regret minimization IQR - approx:\n",
        "lower_approx17 = np.asarray(approx17_results[4:5][0])[0]\n",
        "median_approx17 = np.asarray(approx17_results[9:10][0])[0]\n",
        "upper_approx17 = np.asarray(approx17_results[14:15][0])[0]\n",
        "\n",
        "lower_exact17 = np.asarray(exact17_results[4:5][0])[0]\n",
        "median_exact17 = np.asarray(exact17_results[9:10][0])[0]\n",
        "upper_exact17 = np.asarray(exact17_results[14:15][0])[0]"
      ],
      "execution_count": null,
      "outputs": []
    },
    {
      "cell_type": "code",
      "metadata": {
        "id": "-6VLo37PQxf8"
      },
      "source": [
        "# Iteration8 :\n",
        "\n",
        "slice8 = 7\n",
        "\n",
        "approx8 = [simple_regret_approx_1[slice8],\n",
        "       simple_regret_approx_2[slice8],\n",
        "       simple_regret_approx_3[slice8],\n",
        "       simple_regret_approx_4[slice8],\n",
        "       simple_regret_approx_5[slice8],\n",
        "       simple_regret_approx_6[slice8],\n",
        "       simple_regret_approx_7[slice8],\n",
        "       simple_regret_approx_8[slice8],\n",
        "       simple_regret_approx_9[slice8],\n",
        "       simple_regret_approx_10[slice8],\n",
        "       simple_regret_approx_11[slice8],\n",
        "       simple_regret_approx_12[slice8],\n",
        "       simple_regret_approx_13[slice8],\n",
        "       simple_regret_approx_14[slice8],\n",
        "       simple_regret_approx_15[slice8],\n",
        "       simple_regret_approx_16[slice8],\n",
        "       simple_regret_approx_17[slice8],\n",
        "       simple_regret_approx_18[slice8],\n",
        "       simple_regret_approx_19[slice8],\n",
        "       simple_regret_approx_20[slice8]]\n",
        "\n",
        "exact8 = [simple_regret_exact_1[slice8],\n",
        "       simple_regret_exact_2[slice8],\n",
        "       simple_regret_exact_3[slice8],\n",
        "       simple_regret_exact_4[slice8],\n",
        "       simple_regret_exact_5[slice8],\n",
        "       simple_regret_exact_6[slice8],\n",
        "       simple_regret_exact_7[slice8],\n",
        "       simple_regret_exact_8[slice8],\n",
        "       simple_regret_exact_9[slice8],\n",
        "       simple_regret_exact_10[slice8],\n",
        "       simple_regret_exact_11[slice8],\n",
        "       simple_regret_exact_12[slice8],\n",
        "       simple_regret_exact_13[slice8],\n",
        "       simple_regret_exact_14[slice8],\n",
        "       simple_regret_exact_15[slice8],\n",
        "       simple_regret_exact_16[slice8],\n",
        "       simple_regret_exact_17[slice8],\n",
        "       simple_regret_exact_18[slice8],\n",
        "       simple_regret_exact_19[slice8],\n",
        "       simple_regret_exact_20[slice8]]\n",
        "\n",
        "approx8_results = pd.DataFrame(approx8).sort_values(by=[0], ascending=False)\n",
        "exact8_results = pd.DataFrame(exact8).sort_values(by=[0], ascending=False)\n",
        "\n",
        "### Best simple regret minimization IQR - approx:\n",
        "lower_approx8 = np.asarray(approx8_results[4:5][0])[0]\n",
        "median_approx8 = np.asarray(approx8_results[9:10][0])[0]\n",
        "upper_approx8 = np.asarray(approx8_results[14:15][0])[0]\n",
        "\n",
        "lower_exact8 = np.asarray(exact8_results[4:5][0])[0]\n",
        "median_exact8 = np.asarray(exact8_results[9:10][0])[0]\n",
        "upper_exact8 = np.asarray(exact8_results[14:15][0])[0]"
      ],
      "execution_count": null,
      "outputs": []
    },
    {
      "cell_type": "code",
      "metadata": {
        "id": "2Dp-9CC2Qxf9"
      },
      "source": [
        "# Iteration18 :\n",
        "\n",
        "slice18 = 17\n",
        "\n",
        "approx18 = [simple_regret_approx_1[slice18],\n",
        "       simple_regret_approx_2[slice18],\n",
        "       simple_regret_approx_3[slice18],\n",
        "       simple_regret_approx_4[slice18],\n",
        "       simple_regret_approx_5[slice18],\n",
        "       simple_regret_approx_6[slice18],\n",
        "       simple_regret_approx_7[slice18],\n",
        "       simple_regret_approx_8[slice18],\n",
        "       simple_regret_approx_9[slice18],\n",
        "       simple_regret_approx_10[slice18],\n",
        "       simple_regret_approx_11[slice18],\n",
        "       simple_regret_approx_12[slice18],\n",
        "       simple_regret_approx_13[slice18],\n",
        "       simple_regret_approx_14[slice18],\n",
        "       simple_regret_approx_15[slice18],\n",
        "       simple_regret_approx_16[slice18],\n",
        "       simple_regret_approx_17[slice18],\n",
        "       simple_regret_approx_18[slice18],\n",
        "       simple_regret_approx_19[slice18],\n",
        "       simple_regret_approx_20[slice18]]\n",
        "\n",
        "exact18 = [simple_regret_exact_1[slice18],\n",
        "       simple_regret_exact_2[slice18],\n",
        "       simple_regret_exact_3[slice18],\n",
        "       simple_regret_exact_4[slice18],\n",
        "       simple_regret_exact_5[slice18],\n",
        "       simple_regret_exact_6[slice18],\n",
        "       simple_regret_exact_7[slice18],\n",
        "       simple_regret_exact_8[slice18],\n",
        "       simple_regret_exact_9[slice18],\n",
        "       simple_regret_exact_10[slice18],\n",
        "       simple_regret_exact_11[slice18],\n",
        "       simple_regret_exact_12[slice18],\n",
        "       simple_regret_exact_13[slice18],\n",
        "       simple_regret_exact_14[slice18],\n",
        "       simple_regret_exact_15[slice18],\n",
        "       simple_regret_exact_16[slice18],\n",
        "       simple_regret_exact_17[slice18],\n",
        "       simple_regret_exact_18[slice18],\n",
        "       simple_regret_exact_19[slice18],\n",
        "       simple_regret_exact_20[slice18]]\n",
        "\n",
        "approx18_results = pd.DataFrame(approx18).sort_values(by=[0], ascending=False)\n",
        "exact18_results = pd.DataFrame(exact18).sort_values(by=[0], ascending=False)\n",
        "\n",
        "### Best simple regret minimization IQR - approx:\n",
        "lower_approx18 = np.asarray(approx18_results[4:5][0])[0]\n",
        "median_approx18 = np.asarray(approx18_results[9:10][0])[0]\n",
        "upper_approx18 = np.asarray(approx18_results[14:15][0])[0]\n",
        "\n",
        "lower_exact18 = np.asarray(exact18_results[4:5][0])[0]\n",
        "median_exact18 = np.asarray(exact18_results[9:10][0])[0]\n",
        "upper_exact18 = np.asarray(exact18_results[14:15][0])[0]"
      ],
      "execution_count": null,
      "outputs": []
    },
    {
      "cell_type": "code",
      "metadata": {
        "id": "SqiaOpB7Qxf9"
      },
      "source": [
        "# Iteration9 :\n",
        "\n",
        "slice9 = 8\n",
        "\n",
        "approx9 = [simple_regret_approx_1[slice9],\n",
        "       simple_regret_approx_2[slice9],\n",
        "       simple_regret_approx_3[slice9],\n",
        "       simple_regret_approx_4[slice9],\n",
        "       simple_regret_approx_5[slice9],\n",
        "       simple_regret_approx_6[slice9],\n",
        "       simple_regret_approx_7[slice9],\n",
        "       simple_regret_approx_8[slice9],\n",
        "       simple_regret_approx_9[slice9],\n",
        "       simple_regret_approx_10[slice9],\n",
        "       simple_regret_approx_11[slice9],\n",
        "       simple_regret_approx_12[slice9],\n",
        "       simple_regret_approx_13[slice9],\n",
        "       simple_regret_approx_14[slice9],\n",
        "       simple_regret_approx_15[slice9],\n",
        "       simple_regret_approx_16[slice9],\n",
        "       simple_regret_approx_17[slice9],\n",
        "       simple_regret_approx_18[slice9],\n",
        "       simple_regret_approx_19[slice9],\n",
        "       simple_regret_approx_20[slice9]]\n",
        "\n",
        "exact9 = [simple_regret_exact_1[slice9],\n",
        "       simple_regret_exact_2[slice9],\n",
        "       simple_regret_exact_3[slice9],\n",
        "       simple_regret_exact_4[slice9],\n",
        "       simple_regret_exact_5[slice9],\n",
        "       simple_regret_exact_6[slice9],\n",
        "       simple_regret_exact_7[slice9],\n",
        "       simple_regret_exact_8[slice9],\n",
        "       simple_regret_exact_9[slice9],\n",
        "       simple_regret_exact_10[slice9],\n",
        "       simple_regret_exact_11[slice9],\n",
        "       simple_regret_exact_12[slice9],\n",
        "       simple_regret_exact_13[slice9],\n",
        "       simple_regret_exact_14[slice9],\n",
        "       simple_regret_exact_15[slice9],\n",
        "       simple_regret_exact_16[slice9],\n",
        "       simple_regret_exact_17[slice9],\n",
        "       simple_regret_exact_18[slice9],\n",
        "       simple_regret_exact_19[slice9],\n",
        "       simple_regret_exact_20[slice9]]\n",
        "\n",
        "approx9_results = pd.DataFrame(approx9).sort_values(by=[0], ascending=False)\n",
        "exact9_results = pd.DataFrame(exact9).sort_values(by=[0], ascending=False)\n",
        "\n",
        "### Best simple regret minimization IQR - approx:\n",
        "lower_approx9 = np.asarray(approx9_results[4:5][0])[0]\n",
        "median_approx9 = np.asarray(approx9_results[9:10][0])[0]\n",
        "upper_approx9 = np.asarray(approx9_results[14:15][0])[0]\n",
        "\n",
        "lower_exact9 = np.asarray(exact9_results[4:5][0])[0]\n",
        "median_exact9 = np.asarray(exact9_results[9:10][0])[0]\n",
        "upper_exact9 = np.asarray(exact9_results[14:15][0])[0]"
      ],
      "execution_count": null,
      "outputs": []
    },
    {
      "cell_type": "code",
      "metadata": {
        "id": "OQkCCOsPQxf9"
      },
      "source": [
        "# Iteration19 :\n",
        "\n",
        "slice19 = 18\n",
        "\n",
        "approx19 = [simple_regret_approx_1[slice19],\n",
        "       simple_regret_approx_2[slice19],\n",
        "       simple_regret_approx_3[slice19],\n",
        "       simple_regret_approx_4[slice19],\n",
        "       simple_regret_approx_5[slice19],\n",
        "       simple_regret_approx_6[slice19],\n",
        "       simple_regret_approx_7[slice19],\n",
        "       simple_regret_approx_8[slice19],\n",
        "       simple_regret_approx_9[slice19],\n",
        "       simple_regret_approx_10[slice19],\n",
        "       simple_regret_approx_11[slice19],\n",
        "       simple_regret_approx_12[slice19],\n",
        "       simple_regret_approx_13[slice19],\n",
        "       simple_regret_approx_14[slice19],\n",
        "       simple_regret_approx_15[slice19],\n",
        "       simple_regret_approx_16[slice19],\n",
        "       simple_regret_approx_17[slice19],\n",
        "       simple_regret_approx_18[slice19],\n",
        "       simple_regret_approx_19[slice19],\n",
        "       simple_regret_approx_20[slice19]]\n",
        "\n",
        "exact19 = [simple_regret_exact_1[slice19],\n",
        "       simple_regret_exact_2[slice19],\n",
        "       simple_regret_exact_3[slice19],\n",
        "       simple_regret_exact_4[slice19],\n",
        "       simple_regret_exact_5[slice19],\n",
        "       simple_regret_exact_6[slice19],\n",
        "       simple_regret_exact_7[slice19],\n",
        "       simple_regret_exact_8[slice19],\n",
        "       simple_regret_exact_9[slice19],\n",
        "       simple_regret_exact_10[slice19],\n",
        "       simple_regret_exact_11[slice19],\n",
        "       simple_regret_exact_12[slice19],\n",
        "       simple_regret_exact_13[slice19],\n",
        "       simple_regret_exact_14[slice19],\n",
        "       simple_regret_exact_15[slice19],\n",
        "       simple_regret_exact_16[slice19],\n",
        "       simple_regret_exact_17[slice19],\n",
        "       simple_regret_exact_18[slice19],\n",
        "       simple_regret_exact_19[slice19],\n",
        "       simple_regret_exact_20[slice19]]\n",
        "\n",
        "approx19_results = pd.DataFrame(approx19).sort_values(by=[0], ascending=False)\n",
        "exact19_results = pd.DataFrame(exact19).sort_values(by=[0], ascending=False)\n",
        "\n",
        "### Best simple regret minimization IQR - approx:\n",
        "lower_approx19 = np.asarray(approx19_results[4:5][0])[0]\n",
        "median_approx19 = np.asarray(approx19_results[9:10][0])[0]\n",
        "upper_approx19 = np.asarray(approx19_results[14:15][0])[0]\n",
        "\n",
        "lower_exact19 = np.asarray(exact19_results[4:5][0])[0]\n",
        "median_exact19 = np.asarray(exact19_results[9:10][0])[0]\n",
        "upper_exact19 = np.asarray(exact19_results[14:15][0])[0]"
      ],
      "execution_count": null,
      "outputs": []
    },
    {
      "cell_type": "code",
      "metadata": {
        "id": "h4vtWahcQxf-"
      },
      "source": [
        "# Iteration10 :\n",
        "\n",
        "slice10 = 9\n",
        "\n",
        "approx10 = [simple_regret_approx_1[slice10],\n",
        "       simple_regret_approx_2[slice10],\n",
        "       simple_regret_approx_3[slice10],\n",
        "       simple_regret_approx_4[slice10],\n",
        "       simple_regret_approx_5[slice10],\n",
        "       simple_regret_approx_6[slice10],\n",
        "       simple_regret_approx_7[slice10],\n",
        "       simple_regret_approx_8[slice10],\n",
        "       simple_regret_approx_9[slice10],\n",
        "       simple_regret_approx_10[slice10],\n",
        "       simple_regret_approx_11[slice10],\n",
        "       simple_regret_approx_12[slice10],\n",
        "       simple_regret_approx_13[slice10],\n",
        "       simple_regret_approx_14[slice10],\n",
        "       simple_regret_approx_15[slice10],\n",
        "       simple_regret_approx_16[slice10],\n",
        "       simple_regret_approx_17[slice10],\n",
        "       simple_regret_approx_18[slice10],\n",
        "       simple_regret_approx_19[slice10],\n",
        "       simple_regret_approx_20[slice10]]\n",
        "\n",
        "exact10 = [simple_regret_exact_1[slice10],\n",
        "       simple_regret_exact_2[slice10],\n",
        "       simple_regret_exact_3[slice10],\n",
        "       simple_regret_exact_4[slice10],\n",
        "       simple_regret_exact_5[slice10],\n",
        "       simple_regret_exact_6[slice10],\n",
        "       simple_regret_exact_7[slice10],\n",
        "       simple_regret_exact_8[slice10],\n",
        "       simple_regret_exact_9[slice10],\n",
        "       simple_regret_exact_10[slice10],\n",
        "       simple_regret_exact_11[slice10],\n",
        "       simple_regret_exact_12[slice10],\n",
        "       simple_regret_exact_13[slice10],\n",
        "       simple_regret_exact_14[slice10],\n",
        "       simple_regret_exact_15[slice10],\n",
        "       simple_regret_exact_16[slice10],\n",
        "       simple_regret_exact_17[slice10],\n",
        "       simple_regret_exact_18[slice10],\n",
        "       simple_regret_exact_19[slice10],\n",
        "       simple_regret_exact_20[slice10]]\n",
        "\n",
        "approx10_results = pd.DataFrame(approx10).sort_values(by=[0], ascending=False)\n",
        "exact10_results = pd.DataFrame(exact10).sort_values(by=[0], ascending=False)\n",
        "\n",
        "### Best simple regret minimization IQR - approx:\n",
        "lower_approx10 = np.asarray(approx10_results[4:5][0])[0]\n",
        "median_approx10 = np.asarray(approx10_results[9:10][0])[0]\n",
        "upper_approx10 = np.asarray(approx10_results[14:15][0])[0]\n",
        "\n",
        "lower_exact10 = np.asarray(exact10_results[4:5][0])[0]\n",
        "median_exact10 = np.asarray(exact10_results[9:10][0])[0]\n",
        "upper_exact10 = np.asarray(exact10_results[14:15][0])[0]"
      ],
      "execution_count": null,
      "outputs": []
    },
    {
      "cell_type": "code",
      "metadata": {
        "id": "Rsf240pWQxf-"
      },
      "source": [
        "# Iteration20 :\n",
        "\n",
        "slice20 = 19\n",
        "\n",
        "approx20 = [simple_regret_approx_1[slice20],\n",
        "       simple_regret_approx_2[slice20],\n",
        "       simple_regret_approx_3[slice20],\n",
        "       simple_regret_approx_4[slice20],\n",
        "       simple_regret_approx_5[slice20],\n",
        "       simple_regret_approx_6[slice20],\n",
        "       simple_regret_approx_7[slice20],\n",
        "       simple_regret_approx_8[slice20],\n",
        "       simple_regret_approx_9[slice20],\n",
        "       simple_regret_approx_10[slice20],\n",
        "       simple_regret_approx_11[slice20],\n",
        "       simple_regret_approx_12[slice20],\n",
        "       simple_regret_approx_13[slice20],\n",
        "       simple_regret_approx_14[slice20],\n",
        "       simple_regret_approx_15[slice20],\n",
        "       simple_regret_approx_16[slice20],\n",
        "       simple_regret_approx_17[slice20],\n",
        "       simple_regret_approx_18[slice20],\n",
        "       simple_regret_approx_19[slice20],\n",
        "       simple_regret_approx_20[slice20]]\n",
        "\n",
        "exact20 = [simple_regret_exact_1[slice20],\n",
        "       simple_regret_exact_2[slice20],\n",
        "       simple_regret_exact_3[slice20],\n",
        "       simple_regret_exact_4[slice20],\n",
        "       simple_regret_exact_5[slice20],\n",
        "       simple_regret_exact_6[slice20],\n",
        "       simple_regret_exact_7[slice20],\n",
        "       simple_regret_exact_8[slice20],\n",
        "       simple_regret_exact_9[slice20],\n",
        "       simple_regret_exact_10[slice20],\n",
        "       simple_regret_exact_11[slice20],\n",
        "       simple_regret_exact_12[slice20],\n",
        "       simple_regret_exact_13[slice20],\n",
        "       simple_regret_exact_14[slice20],\n",
        "       simple_regret_exact_15[slice20],\n",
        "       simple_regret_exact_16[slice20],\n",
        "       simple_regret_exact_17[slice20],\n",
        "       simple_regret_exact_18[slice20],\n",
        "       simple_regret_exact_19[slice20],\n",
        "       simple_regret_exact_20[slice20]]\n",
        "\n",
        "approx20_results = pd.DataFrame(approx20).sort_values(by=[0], ascending=False)\n",
        "exact20_results = pd.DataFrame(exact20).sort_values(by=[0], ascending=False)\n",
        "\n",
        "### Best simple regret minimization IQR - approx:\n",
        "lower_approx20 = np.asarray(approx20_results[4:5][0])[0]\n",
        "median_approx20 = np.asarray(approx20_results[9:10][0])[0]\n",
        "upper_approx20 = np.asarray(approx20_results[14:15][0])[0]\n",
        "\n",
        "lower_exact20 = np.asarray(exact20_results[4:5][0])[0]\n",
        "median_exact20 = np.asarray(exact20_results[9:10][0])[0]\n",
        "upper_exact20 = np.asarray(exact20_results[14:15][0])[0]"
      ],
      "execution_count": null,
      "outputs": []
    },
    {
      "cell_type": "code",
      "metadata": {
        "id": "gn36RejbQxf_"
      },
      "source": [
        "### Summarize arrays: 'Loser'\n",
        "\n",
        "lower_approx = [lower_approx1,\n",
        "            lower_approx2,\n",
        "            lower_approx3,\n",
        "            lower_approx4,\n",
        "            lower_approx5,\n",
        "            lower_approx6,\n",
        "            lower_approx7,\n",
        "            lower_approx8,\n",
        "            lower_approx9,\n",
        "            lower_approx10,\n",
        "            lower_approx11,\n",
        "            lower_approx12,\n",
        "            lower_approx13,\n",
        "            lower_approx14,\n",
        "            lower_approx15,\n",
        "            lower_approx16,\n",
        "            lower_approx17,\n",
        "            lower_approx18,\n",
        "            lower_approx19,\n",
        "            lower_approx20,\n",
        "            lower_approx21]\n",
        "\n",
        "median_approx = [median_approx1,\n",
        "            median_approx2,\n",
        "            median_approx3,\n",
        "            median_approx4,\n",
        "            median_approx5,\n",
        "            median_approx6,\n",
        "            median_approx7,\n",
        "            median_approx8,\n",
        "            median_approx9,\n",
        "            median_approx10,\n",
        "            median_approx11,\n",
        "            median_approx12,\n",
        "            median_approx13,\n",
        "            median_approx14,\n",
        "            median_approx15,\n",
        "            median_approx16,\n",
        "            median_approx17,\n",
        "            median_approx18,\n",
        "            median_approx19,\n",
        "            median_approx20,\n",
        "            median_approx21]\n",
        "\n",
        "upper_approx = [upper_approx1,\n",
        "            upper_approx2,\n",
        "            upper_approx3,\n",
        "            upper_approx4,\n",
        "            upper_approx5,\n",
        "            upper_approx6,\n",
        "            upper_approx7,\n",
        "            upper_approx8,\n",
        "            upper_approx9,\n",
        "            upper_approx10,\n",
        "            upper_approx11,\n",
        "            upper_approx12,\n",
        "            upper_approx13,\n",
        "            upper_approx14,\n",
        "            upper_approx15,\n",
        "            upper_approx16,\n",
        "            upper_approx17,\n",
        "            upper_approx18,\n",
        "            upper_approx19,\n",
        "            upper_approx20,\n",
        "            upper_approx21]"
      ],
      "execution_count": null,
      "outputs": []
    },
    {
      "cell_type": "code",
      "metadata": {
        "id": "wxtGTOYfQxf_"
      },
      "source": [
        "### Summarize arrays: 'exact'\n",
        "\n",
        "lower_exact = [lower_exact1,\n",
        "            lower_exact2,\n",
        "            lower_exact3,\n",
        "            lower_exact4,\n",
        "            lower_exact5,\n",
        "            lower_exact6,\n",
        "            lower_exact7,\n",
        "            lower_exact8,\n",
        "            lower_exact9,\n",
        "            lower_exact10,\n",
        "            lower_exact11,\n",
        "            lower_exact12,\n",
        "            lower_exact13,\n",
        "            lower_exact14,\n",
        "            lower_exact15,\n",
        "            lower_exact16,\n",
        "            lower_exact17,\n",
        "            lower_exact18,\n",
        "            lower_exact19,\n",
        "            lower_exact20,\n",
        "            lower_exact21]\n",
        "\n",
        "median_exact = [median_exact1,\n",
        "            median_exact2,\n",
        "            median_exact3,\n",
        "            median_exact4,\n",
        "            median_exact5,\n",
        "            median_exact6,\n",
        "            median_exact7,\n",
        "            median_exact8,\n",
        "            median_exact9,\n",
        "            median_exact10,\n",
        "            median_exact11,\n",
        "            median_exact12,\n",
        "            median_exact13,\n",
        "            median_exact14,\n",
        "            median_exact15,\n",
        "            median_exact16,\n",
        "            median_exact17,\n",
        "            median_exact18,\n",
        "            median_exact19,\n",
        "            median_exact20,\n",
        "            median_exact21]\n",
        "\n",
        "upper_exact = [upper_exact1,\n",
        "            upper_exact2,\n",
        "            upper_exact3,\n",
        "            upper_exact4,\n",
        "            upper_exact5,\n",
        "            upper_exact6,\n",
        "            upper_exact7,\n",
        "            upper_exact8,\n",
        "            upper_exact9,\n",
        "            upper_exact10,\n",
        "            upper_exact11,\n",
        "            upper_exact12,\n",
        "            upper_exact13,\n",
        "            upper_exact14,\n",
        "            upper_exact15,\n",
        "            upper_exact16,\n",
        "            upper_exact17,\n",
        "            upper_exact18,\n",
        "            upper_exact19,\n",
        "            upper_exact20,\n",
        "            upper_exact21]"
      ],
      "execution_count": null,
      "outputs": []
    },
    {
      "cell_type": "code",
      "metadata": {
        "id": "2MONq-BXQxgA",
        "colab": {
          "base_uri": "https://localhost:8080/",
          "height": 54
        },
        "outputId": "154f4f03-f66d-489d-bfbf-df5b4b631b8d"
      },
      "source": [
        "### Visualise!\n",
        "\n",
        "title = func\n",
        "plt.figure()\n",
        "\n",
        "plt.plot(median_approx, color = 'Yellow')\n",
        "plt.plot(median_exact, color = 'Red')\n",
        "\n",
        "xstar = np.arange(0, iters+1, step=1)\n",
        "plt.fill_between(xstar, lower_approx, upper_approx, facecolor = 'Yellow', alpha=0.4, label='GP EI Optimization: Approx GP EI gradients')\n",
        "plt.fill_between(xstar, lower_exact, upper_exact, facecolor = 'Red', alpha=0.4, label='GP EI Optimization: Exact GP dEI gradients')\n",
        "\n",
        "plt.title(title, weight = 'bold')\n",
        "plt.xlabel('(Post-initialization) iteration $\\it{k}$', weight = 'bold')\n",
        "plt.ylabel('log(Regret)', weight = 'bold') \n",
        "plt.legend(loc=1) # add plot legend\n",
        "\n",
        "### Make the x-ticks integers, not floats:\n",
        "count = len(xstar)\n",
        "plt.xticks(np.arange(count), np.arange(0, count))\n",
        "plt.show() #visualize!"
      ],
      "execution_count": null,
      "outputs": [
        {
          "output_type": "display_data",
          "data": {
            "text/plain": [
              "<Figure size 432x288 with 1 Axes>"
            ],
            "image/png": "[encoded data removed]"
          },
          "metadata": {
            "needs_background": "light"
          }
        }
      ]
    },
    {
      "cell_type": "code",
      "metadata": {
        "id": "l5dkR2Id2oiu",
        "colab": {
          "base_uri": "https://localhost:8080/"
        },
        "outputId": "04e8824d-f9b9-436a-d795-1a383af92057"
      },
      "source": [
        "time_approx, time_exact\n"
      ],
      "execution_count": null,
      "outputs": [
        {
          "output_type": "execute_result",
          "data": {
            "text/plain": [
              "(179.12042999267578, 379.12905049324036)"
            ]
          },
          "metadata": {},
          "execution_count": 99
        }
      ]
    },
    {
      "cell_type": "code",
      "source": [
        "exact21_results, exact21_results[19:20].index[0]\n"
      ],
      "metadata": {
        "colab": {
          "base_uri": "https://localhost:8080/"
        },
        "id": "0i4IbAcyB7-l",
        "outputId": "3a63fea0-a2be-471f-cf9c-8eb07620f85a"
      },
      "execution_count": null,
      "outputs": [
        {
          "output_type": "execute_result",
          "data": {
            "text/plain": [
              "(           0\n",
              " 0   1.412616\n",
              " 7   1.184945\n",
              " 2   1.164129\n",
              " 17  0.986176\n",
              " 8   0.920960\n",
              " 15  0.890363\n",
              " 14  0.809876\n",
              " 6   0.803586\n",
              " 9   0.484137\n",
              " 19  0.440859\n",
              " 13  0.439609\n",
              " 16  0.373659\n",
              " 10 -0.160476\n",
              " 5  -0.427548\n",
              " 1  -0.468361\n",
              " 3  -0.621879\n",
              " 11 -0.787840\n",
              " 18 -0.862815\n",
              " 12 -1.898026\n",
              " 4  -3.727682, 4)"
            ]
          },
          "metadata": {},
          "execution_count": 100
        }
      ]
    },
    {
      "cell_type": "code",
      "source": [
        "str_exact = str(exact21_results[19:20].index[0]+1)\n",
        "str_exact\n"
      ],
      "metadata": {
        "colab": {
          "base_uri": "https://localhost:8080/",
          "height": 73
        },
        "id": "12lIvjCoBr7y",
        "outputId": "b4287b1b-955b-4560-decf-00899fa0473c"
      },
      "execution_count": null,
      "outputs": [
        {
          "output_type": "execute_result",
          "data": {
            "text/plain": [
              "'5'"
            ],
            "application/vnd.google.colaboratory.intrinsic+json": {
              "type": "string"
            }
          },
          "metadata": {},
          "execution_count": 101
        }
      ]
    },
    {
      "cell_type": "code",
      "source": [
        "eval_exactMinIQR_vsCorrApproxExperiment = eval('approx_' + str_exact)\n",
        "eval_exactMinIQR_vsCorrApproxExperiment_minAcqFunc = eval_exactMinIQR_vsCorrApproxExperiment.history[eval_exactMinIQR_vsCorrApproxExperiment.history.index(eval_exactMinIQR_vsCorrApproxExperiment.tau)-1]\n",
        "eval_exactMinIQR_vsCorrApproxExperiment_simpleRegret = np.log(-eval_exactMinIQR_vsCorrApproxExperiment.tau + y_global_orig)\n",
        "\n",
        "eval_exactMinIQR_vsCorrApproxExperiment.tau, eval_exactMinIQR_vsCorrApproxExperiment_minAcqFunc, eval_exactMinIQR_vsCorrApproxExperiment_simpleRegret\n"
      ],
      "metadata": {
        "colab": {
          "base_uri": "https://localhost:8080/"
        },
        "id": "O3sQFv0hpuNI",
        "outputId": "0e551bdd-2f64-4d12-8868-025f93878c61"
      },
      "execution_count": null,
      "outputs": [
        {
          "output_type": "execute_result",
          "data": {
            "text/plain": [
              "(-2.7427315707408138, -3.3729852694192193, 0.8522191185675699)"
            ]
          },
          "metadata": {},
          "execution_count": 102
        }
      ]
    },
    {
      "cell_type": "code",
      "source": [
        "### Final iteration: best \"approx\" experiment results (as above)\n",
        "\n",
        "np.random.seed(int(str_exact))\n",
        "eval_exactMinIQR_vsCorrApproxExperiment.run(init_evals=n_init, max_iter=iters)\n"
      ],
      "metadata": {
        "id": "DKvmmlRoTnvC",
        "colab": {
          "base_uri": "https://localhost:8080/"
        },
        "outputId": "fec35563-50d2-421e-d5a0-6ffb90905b3a"
      },
      "execution_count": null,
      "outputs": [
        {
          "output_type": "stream",
          "name": "stdout",
          "text": [
            "Evaluation \t Proposed point \t  Current eval. \t  Best eval. \t         Max AcqFunc.\n",
            "init\t [-1.67010243 13.06098459]\t -25.390690545664548\t -25.311309190989615\t    \n",
            "init\t [-1.89921267 13.77916362]\t -25.311309190989615\t -25.311309190989615\t    \n",
            "init\t [2.32616783 9.17615794]\t -41.60147975414021\t -25.311309190989615\t    \n",
            "init\t [6.48861785 7.77626982]\t -63.81281921768236\t -25.311309190989615\t    \n",
            "init\t [-0.54799248  2.81581843]\t -34.966203644931994\t -25.311309190989615\t    \n",
            "\u001b[1m\u001b[92m1\u001b[0m\t \u001b[1m\u001b[92m[8.84124421 0.03321319]\u001b[0m\t \u001b[1m\u001b[92m-5.96108856337545\u001b[0m\t \u001b[1m\u001b[92m-5.96108856337545\u001b[0m\t \u001b[1m\u001b[92m-25.311309190989423\u001b[0m\n",
            "2  \t [ 8.39476442 14.47736321]\t -167.21523769473345\t -5.96108856337545\t -5.961907109366957\n",
            "3  \t [-4.1375067   7.24495487]\t -61.80559119709111\t -5.96108856337545\t -5.961905558672704\n",
            "4  \t [-5.  0.]\t -308.12909601160663\t -5.96108856337545\t -5.961890653984154\n",
            "5  \t [3.90218642 0.        ]\t -6.129536698755416\t -5.96108856337545\t -5.961875513211085\n",
            "6  \t [ 3.02991629 15.        ]\t -160.13370433331355\t -5.96108856337545\t -5.961819911480742\n",
            "\u001b[1m\u001b[92m7\u001b[0m\t \u001b[1m\u001b[92m[10.          4.33727189]\u001b[0m\t \u001b[1m\u001b[92m-3.7235379387315213\u001b[0m\t \u001b[1m\u001b[92m-3.7235379387315213\u001b[0m\t \u001b[1m\u001b[92m-5.961581724982809\u001b[0m\n",
            "8  \t [3.79901168 4.09238222]\t -7.571417350626666\t -3.7235379387315213\t -3.745713168817344\n",
            "9  \t [10.         10.16742432]\t -53.27273830690392\t -3.7235379387315213\t -3.742149841107925\n",
            "10 \t [-5.         11.30921636]\t -47.27632748230095\t -3.7235379387315213\t -3.731617605519756\n",
            "11 \t [6.99654901 2.92350038]\t -20.271190207203475\t -3.7235379387315213\t -3.7208676468789315\n",
            "12 \t [ 5.43141243 11.54548469]\t -124.04541507492719\t -3.7235379387315213\t -3.6985978379145603\n",
            "13 \t [-0.26129675  6.51666726]\t -19.284636974616127\t -3.7235379387315213\t -3.6975262048364335\n",
            "14 \t [-5. 15.]\t -17.508299515778166\t -3.7235379387315213\t -3.683003043976841\n",
            "15 \t [-4.11496268  3.81345454]\t -123.91457314695006\t -3.7235379387315213\t -3.577472535311025\n",
            "16 \t [-1.31455742  9.78774965]\t -14.601347505958943\t -3.7235379387315213\t -3.628547863069249\n",
            "17 \t [1.04593508 0.        ]\t -34.85210629954422\t -3.7235379387315213\t -3.608032061830193\n",
            "18 \t [10.        6.700702]\t -15.616461696880918\t -3.7235379387315213\t -3.539644637323188\n",
            "\u001b[1m\u001b[92m19\u001b[0m\t \u001b[1m\u001b[92m[10.          2.10875813]\u001b[0m\t \u001b[1m\u001b[92m-2.7427315707408138\u001b[0m\t \u001b[1m\u001b[92m-2.7427315707408138\u001b[0m\t \u001b[1m\u001b[92m-3.3729852694192193\u001b[0m\n",
            "20 \t [6.31678856 0.        ]\t -20.809367473466104\t -2.7427315707408138\t -2.46916411169857\n"
          ]
        }
      ]
    },
    {
      "cell_type": "code",
      "source": [
        "eval_exactMinIQR_vsCorrApproxExperiment.x_best, np.round(eval_exactMinIQR_vsCorrApproxExperiment.f_best, 2), eval_exactMinIQR_vsCorrApproxExperiment.best, eval_exactMinIQR_vsCorrApproxExperiment.x_best[np.argmin(eval_exactMinIQR_vsCorrApproxExperiment.f_best)] #### i.e. minAcqFunc returned\n"
      ],
      "metadata": {
        "colab": {
          "base_uri": "https://localhost:8080/"
        },
        "id": "tDHS__-Q_WLT",
        "outputId": "c2e2e43a-a860-4237-c310-8cb3ec4a0a40"
      },
      "execution_count": null,
      "outputs": [
        {
          "output_type": "execute_result",
          "data": {
            "text/plain": [
              "(array([[ 6.31678856,  0.        ],\n",
              "        [ 1.06971445, 12.00605283],\n",
              "        [ 7.34383333, 12.50382019],\n",
              "        [-3.82954191,  7.18026343],\n",
              "        [ 2.8464973 ,  6.14467566],\n",
              "        [-4.82815024, 11.54458915],\n",
              "        [ 6.13447095,  7.41269715],\n",
              "        [-2.76347052,  2.57305414],\n",
              "        [-4.84717018,  8.2528617 ],\n",
              "        [ 5.5393689 , 10.06599412],\n",
              "        [ 2.8464956 ,  6.14467619],\n",
              "        [ 5.56579315,  8.26223595],\n",
              "        [ 3.04869934,  2.17647827],\n",
              "        [10.        ,  1.25176498],\n",
              "        [ 4.88338796, 10.69188884],\n",
              "        [ 1.06971917, 12.00605379],\n",
              "        [ 9.4061208 , 11.03023185],\n",
              "        [ 5.48499392,  5.04843535],\n",
              "        [ 3.04866175,  2.17649383],\n",
              "        [ 4.6024224 , 12.73171112]]),\n",
              " array([-2.47, -2.38, -0.  , -0.  , -2.32, -0.  , -0.  , -0.  , -0.  ,\n",
              "        -0.  , -2.32, -0.  , -2.04, -1.47, -0.  , -2.38, -0.  , -1.66,\n",
              "        -2.04, -0.  ]),\n",
              " array([6.31678856, 0.        ]),\n",
              " array([6.31678856, 0.        ]))"
            ]
          },
          "metadata": {},
          "execution_count": 104
        }
      ]
    },
    {
      "cell_type": "code",
      "source": [
        "eval_exactMinIQR = eval('exact_' + str_exact)\n",
        "eval_exactMinIQR_minAcqFunc = eval_exactMinIQR.history[eval_exactMinIQR.history.index(eval_exactMinIQR.tau)-1]\n",
        "eval_exactMinIQR_simpleRegret  = np.log(-eval_exactMinIQR.tau + y_global_orig)\n",
        "\n",
        "eval_exactMinIQR.tau, eval_exactMinIQR_minAcqFunc, eval_exactMinIQR_simpleRegret\n"
      ],
      "metadata": {
        "colab": {
          "base_uri": "https://localhost:8080/"
        },
        "id": "M4bxQTTWCXFZ",
        "outputId": "81a35637-7700-47ea-bae1-ae54bc440076"
      },
      "execution_count": null,
      "outputs": [
        {
          "output_type": "execute_result",
          "data": {
            "text/plain": [
              "(-0.421935515032267, -3.3891902996317853, -3.7276820293567514)"
            ]
          },
          "metadata": {},
          "execution_count": 105
        }
      ]
    },
    {
      "cell_type": "code",
      "source": [
        "### Final iteration: best \"exact\" experiment results (as above)\n",
        "\n",
        "np.random.seed(int(str_exact))\n",
        "eval_exactMinIQR.run(init_evals=n_init, max_iter=iters)\n"
      ],
      "metadata": {
        "colab": {
          "base_uri": "https://localhost:8080/"
        },
        "id": "WeKb1o143nLW",
        "outputId": "7036464c-f987-4631-f346-47fdaa3ab28e"
      },
      "execution_count": null,
      "outputs": [
        {
          "output_type": "stream",
          "name": "stdout",
          "text": [
            "Evaluation \t Proposed point \t  Current eval. \t  Best eval. \t         Max AcqFunc.\n",
            "init\t [-1.67010243 13.06098459]\t -25.390690545664548\t -25.311309190989615\t    \n",
            "init\t [-1.89921267 13.77916362]\t -25.311309190989615\t -25.311309190989615\t    \n",
            "init\t [2.32616783 9.17615794]\t -41.60147975414021\t -25.311309190989615\t    \n",
            "init\t [6.48861785 7.77626982]\t -63.81281921768236\t -25.311309190989615\t    \n",
            "init\t [-0.54799248  2.81581843]\t -34.966203644931994\t -25.311309190989615\t    \n",
            "\u001b[1m\u001b[92m1\u001b[0m\t \u001b[1m\u001b[92m[8.84124421 0.03321319]\u001b[0m\t \u001b[1m\u001b[92m-5.96108856337545\u001b[0m\t \u001b[1m\u001b[92m-5.96108856337545\u001b[0m\t \u001b[1m\u001b[92m-25.311309180989422\u001b[0m\n",
            "2  \t [ 8.39476442 14.47736321]\t -167.21523769473345\t -5.96108856337545\t -5.961907098265746\n",
            "3  \t [-5.          8.10986515]\t -95.12466680670255\t -5.96108856337545\t -5.96190691908924\n",
            "4  \t [-5.  0.]\t -308.12909601160663\t -5.96108856337545\t -5.961890642966492\n",
            "5  \t [4.68041959 2.64376529]\t -11.288061329654056\t -5.96108856337545\t -5.961858176609415\n",
            "6  \t [ 3.07485242 14.94793353]\t -159.6914920096218\t -5.96108856337545\t -5.961813011235977\n",
            "\u001b[1m\u001b[92m7\u001b[0m\t \u001b[1m\u001b[92m[10.          4.34286402]\u001b[0m\t \u001b[1m\u001b[92m-3.738492541321359\u001b[0m\t \u001b[1m\u001b[92m-3.738492541321359\u001b[0m\t \u001b[1m\u001b[92m-5.961580684366263\u001b[0m\n",
            "8  \t [10.         10.27581248]\t -54.83757329070061\t -3.738492541321359\t -3.7562928147610672\n",
            "9  \t [-1.03519792  6.99126788]\t -15.53210397903008\t -3.738492541321359\t -3.7439343411838637\n",
            "10 \t [-4.87522279  4.21394897]\t -170.71102908806404\t -3.738492541321359\t -3.7180356663878285\n",
            "11 \t [2.06982231 0.        ]\t -16.027247417193454\t -3.738492541321359\t -3.746484639019117\n",
            "12 \t [-5.         12.15297558]\t -38.06878161278433\t -3.738492541321359\t -3.706932968479487\n",
            "13 \t [2.33452895 5.41477519]\t -9.24558006183136\t -3.738492541321359\t -3.7210438758412545\n",
            "14 \t [6.54425406 4.56515632]\t -31.16573156949684\t -3.738492541321359\t -3.429854241017659\n",
            "15 \t [ 6.6657743  11.06795891]\t -117.64930528535555\t -3.738492541321359\t -3.4993891210979227\n",
            "16 \t [-0.74857815  9.80931008]\t -23.51472972870166\t -3.738492541321359\t -3.449657163767583\n",
            "17 \t [10.          6.77140164]\t -16.144318607650213\t -3.738492541321359\t -3.5697214976173677\n",
            "18 \t [-1.19292359  0.        ]\t -78.86839901179698\t -3.738492541321359\t -3.3605255014524826\n",
            "\u001b[1m\u001b[92m19\u001b[0m\t \u001b[1m\u001b[92m[9.35759935 2.37003592]\u001b[0m\t \u001b[1m\u001b[92m-0.421935515032267\u001b[0m\t \u001b[1m\u001b[92m-0.421935515032267\u001b[0m\t \u001b[1m\u001b[92m-3.3891902996317853\u001b[0m\n",
            "20 \t [10.          2.09532251]\t -2.7669403081998123\t -0.421935515032267\t -0.7815862085010598\n"
          ]
        }
      ]
    },
    {
      "cell_type": "code",
      "source": [
        "eval_exactMinIQR.x_best, np.round(eval_exactMinIQR.f_best, 2), eval_exactMinIQR.best, eval_exactMinIQR.x_best[np.argmin(eval_exactMinIQR.f_best)] #### i.e. minAcqFunc returned\n"
      ],
      "metadata": {
        "colab": {
          "base_uri": "https://localhost:8080/"
        },
        "id": "c0IIOZ-bID_G",
        "outputId": "d178b3cc-d4cc-40ae-832b-d7b5a37d5e73"
      },
      "execution_count": null,
      "outputs": [
        {
          "output_type": "execute_result",
          "data": {
            "text/plain": [
              "(array([[ 9.24379926,  2.36760576],\n",
              "        [ 1.01376922, 12.21447849],\n",
              "        [ 7.34383333, 12.50382019],\n",
              "        [-3.82954191,  7.18026343],\n",
              "        [ 2.75984482,  6.91603091],\n",
              "        [-4.82815024, 11.54458915],\n",
              "        [ 6.13447095,  7.41269715],\n",
              "        [-2.74252399,  2.59400067],\n",
              "        [-4.84717018,  8.2528617 ],\n",
              "        [ 5.5393689 , 10.06599412],\n",
              "        [ 3.54280488,  6.93385131],\n",
              "        [ 5.56579315,  8.26223595],\n",
              "        [ 3.64898845,  1.2475165 ],\n",
              "        [10.        ,  2.09532251],\n",
              "        [ 4.88338796, 10.69188884],\n",
              "        [ 2.20289927, 11.82402336],\n",
              "        [ 9.4061208 , 11.03023185],\n",
              "        [ 4.29287895,  0.61803757],\n",
              "        [ 2.88138393,  2.0166646 ],\n",
              "        [ 3.51535191, 11.64464062]]),\n",
              " array([-0.7 , -0.68, -0.  , -0.  , -0.1 , -0.  , -0.  , -0.01, -0.  ,\n",
              "        -0.  , -0.29, -0.  , -0.19, -0.78, -0.  , -0.52, -0.  , -0.47,\n",
              "        -0.32, -0.49]),\n",
              " array([10.        ,  2.09532251]),\n",
              " array([10.        ,  2.09532251]))"
            ]
          },
          "metadata": {},
          "execution_count": 107
        }
      ]
    },
    {
      "cell_type": "code",
      "source": [
        "eval_exactMinIQR.tau > eval_exactMinIQR_vsCorrApproxExperiment.tau # Exact gradients' model: y-value is greater"
      ],
      "metadata": {
        "colab": {
          "base_uri": "https://localhost:8080/"
        },
        "id": "RRSEL9F33mw_",
        "outputId": "df74e69f-1420-469f-c701-01682b6250e3"
      },
      "execution_count": null,
      "outputs": [
        {
          "output_type": "execute_result",
          "data": {
            "text/plain": [
              "True"
            ]
          },
          "metadata": {},
          "execution_count": 108
        }
      ]
    },
    {
      "cell_type": "code",
      "source": [
        "eval_exactMinIQR_minAcqFunc > eval_exactMinIQR_vsCorrApproxExperiment_minAcqFunc # Exact gradients' model: best AcqFunc is greater\n"
      ],
      "metadata": {
        "colab": {
          "base_uri": "https://localhost:8080/"
        },
        "id": "srZDKNlWGaUp",
        "outputId": "940e8678-ff2a-418c-e0ab-8ff1a36fec11"
      },
      "execution_count": null,
      "outputs": [
        {
          "output_type": "execute_result",
          "data": {
            "text/plain": [
              "False"
            ]
          },
          "metadata": {},
          "execution_count": 109
        }
      ]
    },
    {
      "cell_type": "code",
      "source": [
        "eval_exactMinIQR_simpleRegret < eval_exactMinIQR_vsCorrApproxExperiment_simpleRegret # Exact gradients' model: simple regret's natural log is lower\n"
      ],
      "metadata": {
        "colab": {
          "base_uri": "https://localhost:8080/"
        },
        "id": "TYkP-rneGab3",
        "outputId": "2c0a6c55-fae1-41d4-f678-344720d4f1fe"
      },
      "execution_count": null,
      "outputs": [
        {
          "output_type": "execute_result",
          "data": {
            "text/plain": [
              "True"
            ]
          },
          "metadata": {},
          "execution_count": 110
        }
      ]
    },
    {
      "cell_type": "code",
      "source": [
        "eval_exactMinIQR_minAcqFunc, eval_exactMinIQR_vsCorrApproxExperiment_minAcqFunc, eval_exactMinIQR_minAcqFunc/eval_exactMinIQR_vsCorrApproxExperiment_minAcqFunc\n"
      ],
      "metadata": {
        "id": "10rcQ55YGajh",
        "colab": {
          "base_uri": "https://localhost:8080/"
        },
        "outputId": "5ec85ad0-f3b9-41ca-f819-214a40b7d464"
      },
      "execution_count": null,
      "outputs": [
        {
          "output_type": "execute_result",
          "data": {
            "text/plain": [
              "(-3.3891902996317853, -3.3729852694192193, 1.0048043584297528)"
            ]
          },
          "metadata": {},
          "execution_count": 111
        }
      ]
    },
    {
      "cell_type": "code",
      "source": [
        "### MinAcqFunc Comparison: Approximate Gradients\n",
        "\n",
        "approx_1minAcqFunc = approx_1.history[:-1][1::2]\n",
        "approx_2minAcqFunc = approx_2.history[:-1][1::2]\n",
        "approx_3minAcqFunc = approx_3.history[:-1][1::2]\n",
        "approx_4minAcqFunc = approx_4.history[:-1][1::2]\n",
        "approx_5minAcqFunc = approx_5.history[:-1][1::2]\n",
        "approx_6minAcqFunc = approx_6.history[:-1][1::2]\n",
        "approx_7minAcqFunc = approx_7.history[:-1][1::2]\n",
        "approx_8minAcqFunc = approx_8.history[:-1][1::2]\n",
        "approx_9minAcqFunc = approx_9.history[:-1][1::2]\n",
        "approx_10minAcqFunc = approx_10.history[:-1][1::2]\n",
        "approx_11minAcqFunc = approx_11.history[:-1][1::2]\n",
        "approx_12minAcqFunc = approx_12.history[:-1][1::2]\n",
        "approx_13minAcqFunc = approx_13.history[:-1][1::2]\n",
        "approx_14minAcqFunc = approx_14.history[:-1][1::2]\n",
        "approx_15minAcqFunc = approx_15.history[:-1][1::2]\n",
        "approx_16minAcqFunc = approx_16.history[:-1][1::2]\n",
        "approx_17minAcqFunc = approx_17.history[:-1][1::2]\n",
        "approx_18minAcqFunc = approx_18.history[:-1][1::2]\n",
        "approx_19minAcqFunc = approx_19.history[:-1][1::2]\n",
        "approx_20minAcqFunc = approx_20.history[:-1][1::2]\n"
      ],
      "metadata": {
        "id": "rN6LmSIqhYDb"
      },
      "execution_count": null,
      "outputs": []
    },
    {
      "cell_type": "code",
      "source": [
        "### MinAcqFunc Comparison: Exact Gradients\n",
        "\n",
        "exact_1minAcqFunc = exact_1.history[:-1][1::2]\n",
        "exact_2minAcqFunc = exact_2.history[:-1][1::2]\n",
        "exact_3minAcqFunc = exact_3.history[:-1][1::2]\n",
        "exact_4minAcqFunc = exact_4.history[:-1][1::2]\n",
        "exact_5minAcqFunc = exact_5.history[:-1][1::2]\n",
        "exact_6minAcqFunc = exact_6.history[:-1][1::2]\n",
        "exact_7minAcqFunc = exact_7.history[:-1][1::2]\n",
        "exact_8minAcqFunc = exact_8.history[:-1][1::2]\n",
        "exact_9minAcqFunc = exact_9.history[:-1][1::2]\n",
        "exact_10minAcqFunc = exact_10.history[:-1][1::2]\n",
        "exact_11minAcqFunc = exact_11.history[:-1][1::2]\n",
        "exact_12minAcqFunc = exact_12.history[:-1][1::2]\n",
        "exact_13minAcqFunc = exact_13.history[:-1][1::2]\n",
        "exact_14minAcqFunc = exact_14.history[:-1][1::2]\n",
        "exact_15minAcqFunc = exact_15.history[:-1][1::2]\n",
        "exact_16minAcqFunc = exact_16.history[:-1][1::2]\n",
        "exact_17minAcqFunc = exact_17.history[:-1][1::2]\n",
        "exact_18minAcqFunc = exact_18.history[:-1][1::2]\n",
        "exact_19minAcqFunc = exact_19.history[:-1][1::2]\n",
        "exact_20minAcqFunc = exact_20.history[:-1][1::2]\n"
      ],
      "metadata": {
        "id": "8v_Qb1ZPiK1L"
      },
      "execution_count": null,
      "outputs": []
    },
    {
      "cell_type": "code",
      "source": [
        "### MinAcqFunc Comparison: Experiment 1\n",
        "\n",
        "minAcqFuncApprox1 = np.mean(approx_1minAcqFunc)\n",
        "minAcqFuncExact1 = np.mean(exact_1minAcqFunc)\n",
        "ratio1 = minAcqFuncApprox1/minAcqFuncExact1\n",
        "approx_1.tau, exact_1.tau, minAcqFuncApprox1, minAcqFuncExact1, ratio1\n"
      ],
      "metadata": {
        "colab": {
          "base_uri": "https://localhost:8080/"
        },
        "id": "lH13qO-JJfok",
        "outputId": "ed2ff468-8c0b-4ab1-d6fd-4b9610f6d5f2"
      },
      "execution_count": null,
      "outputs": [
        {
          "output_type": "execute_result",
          "data": {
            "text/plain": [
              "(-4.859191184895716,\n",
              " -4.504572815126114,\n",
              " -5.895797465643497,\n",
              " -5.720169825150522,\n",
              " 1.0307032213835283)"
            ]
          },
          "metadata": {},
          "execution_count": 114
        }
      ]
    },
    {
      "cell_type": "code",
      "source": [
        "### MinAcqFunc Comparison: Experiment 2\n",
        "\n",
        "minAcqFuncApprox2 = np.mean(approx_2minAcqFunc)\n",
        "minAcqFuncExact2 = np.mean(exact_2minAcqFunc)\n",
        "ratio2 = minAcqFuncApprox2/minAcqFuncExact2\n",
        "approx_2.tau, exact_2.tau, minAcqFuncApprox2, minAcqFuncExact2, ratio2\n"
      ],
      "metadata": {
        "colab": {
          "base_uri": "https://localhost:8080/"
        },
        "id": "QWeVwVP_HPQb",
        "outputId": "ef56dc9e-4be7-4177-e107-23ede187bff4"
      },
      "execution_count": null,
      "outputs": [
        {
          "output_type": "execute_result",
          "data": {
            "text/plain": [
              "(-1.3984593420568778,\n",
              " -1.0239145109053958,\n",
              " -2.0931965790395273,\n",
              " -2.057809908371798,\n",
              " 1.017196277714363)"
            ]
          },
          "metadata": {},
          "execution_count": 115
        }
      ]
    },
    {
      "cell_type": "code",
      "source": [
        "### MinAcqFunc Comparison: Experiment 3\n",
        "\n",
        "minAcqFuncApprox3 = np.mean(approx_3minAcqFunc)\n",
        "minAcqFuncExact3 = np.mean(exact_3minAcqFunc)\n",
        "ratio3 = minAcqFuncApprox3/minAcqFuncExact3\n",
        "approx_3.tau, exact_3.tau, minAcqFuncApprox3, minAcqFuncExact3, ratio3\n"
      ],
      "metadata": {
        "colab": {
          "base_uri": "https://localhost:8080/"
        },
        "id": "jgGLMx0RHPUA",
        "outputId": "3e8437fe-e18d-4253-a203-1daa5365ed3d"
      },
      "execution_count": null,
      "outputs": [
        {
          "output_type": "execute_result",
          "data": {
            "text/plain": [
              "(-3.2226782045042226,\n",
              " -3.6010193697779265,\n",
              " -7.110777856956406,\n",
              " -4.887906043495027,\n",
              " 1.4547697508260502)"
            ]
          },
          "metadata": {},
          "execution_count": 116
        }
      ]
    },
    {
      "cell_type": "code",
      "source": [
        "### MinAcqFunc Comparison: Experiment 4\n",
        "\n",
        "minAcqFuncApprox4 = np.mean(approx_4minAcqFunc)\n",
        "minAcqFuncExact4 = np.mean(exact_4minAcqFunc)\n",
        "ratio4 = minAcqFuncApprox4/minAcqFuncExact4\n",
        "approx_4.tau, exact_4.tau, minAcqFuncApprox4, minAcqFuncExact4, ratio4\n"
      ],
      "metadata": {
        "colab": {
          "base_uri": "https://localhost:8080/"
        },
        "id": "ml1c1t4SHPXV",
        "outputId": "6aff7457-300c-4763-b4ee-31ceaf396897"
      },
      "execution_count": null,
      "outputs": [
        {
          "output_type": "execute_result",
          "data": {
            "text/plain": [
              "(-0.5969307952604961,\n",
              " -0.9348218204625756,\n",
              " -4.3073945280969195,\n",
              " -6.052148080027507,\n",
              " 0.7117133406420787)"
            ]
          },
          "metadata": {},
          "execution_count": 117
        }
      ]
    },
    {
      "cell_type": "code",
      "source": [
        "### MinAcqFunc Comparison: Experiment 5\n",
        "\n",
        "minAcqFuncApprox5 = np.mean(approx_5minAcqFunc)\n",
        "minAcqFuncExact5 = np.mean(exact_5minAcqFunc)\n",
        "ratio5 = minAcqFuncApprox5/minAcqFuncExact5\n",
        "approx_5.tau, exact_5.tau, minAcqFuncApprox5, minAcqFuncExact5, ratio5\n"
      ],
      "metadata": {
        "colab": {
          "base_uri": "https://localhost:8080/"
        },
        "id": "MLbsgyMiHPaf",
        "outputId": "e7485b37-ed2b-4cf5-dca2-92ac8f01b4b8"
      },
      "execution_count": null,
      "outputs": [
        {
          "output_type": "execute_result",
          "data": {
            "text/plain": [
              "(-2.7427315707408138,\n",
              " -0.421935515032267,\n",
              " -5.395015972428813,\n",
              " -5.282915015860297,\n",
              " 1.0212195267635327)"
            ]
          },
          "metadata": {},
          "execution_count": 118
        }
      ]
    },
    {
      "cell_type": "code",
      "source": [
        "### MinAcqFunc Comparison: Experiment 6\n",
        "\n",
        "minAcqFuncApprox6 = np.mean(approx_6minAcqFunc)\n",
        "minAcqFuncExact6 = np.mean(exact_6minAcqFunc)\n",
        "ratio6 = minAcqFuncApprox6/minAcqFuncExact6\n",
        "approx_6.tau, exact_6.tau, minAcqFuncApprox6, minAcqFuncExact6, ratio6\n"
      ],
      "metadata": {
        "colab": {
          "base_uri": "https://localhost:8080/"
        },
        "id": "0H912oKjHPfu",
        "outputId": "9ff2875c-56df-4c2e-f337-c5d78f6931a4"
      },
      "execution_count": null,
      "outputs": [
        {
          "output_type": "execute_result",
          "data": {
            "text/plain": [
              "(-0.5466720813438801,\n",
              " -1.0499933199010147,\n",
              " -5.674956803663834,\n",
              " -7.381215899762982,\n",
              " 0.7688376658710202)"
            ]
          },
          "metadata": {},
          "execution_count": 119
        }
      ]
    },
    {
      "cell_type": "code",
      "source": [
        "### MinAcqFunc Comparison: Experiment 7\n",
        "\n",
        "minAcqFuncApprox7 = np.mean(approx_7minAcqFunc)\n",
        "minAcqFuncExact7 = np.mean(exact_7minAcqFunc)\n",
        "ratio7 = minAcqFuncApprox7/minAcqFuncExact7\n",
        "approx_7.tau, exact_7.tau, minAcqFuncApprox7, minAcqFuncExact7, ratio7\n"
      ],
      "metadata": {
        "colab": {
          "base_uri": "https://localhost:8080/"
        },
        "id": "qrh-IEZ3HPip",
        "outputId": "418758f2-fc81-4d34-ab29-b28462f177f0"
      },
      "execution_count": null,
      "outputs": [
        {
          "output_type": "execute_result",
          "data": {
            "text/plain": [
              "(-2.5942573673950236,\n",
              " -2.6314226354824584,\n",
              " -3.4892902758442057,\n",
              " -3.5020302035962656,\n",
              " 0.9963621308180103)"
            ]
          },
          "metadata": {},
          "execution_count": 120
        }
      ]
    },
    {
      "cell_type": "code",
      "source": [
        "### MinAcqFunc Comparison: Experiment 8\n",
        "\n",
        "minAcqFuncApprox8 = np.mean(approx_8minAcqFunc)\n",
        "minAcqFuncExact8 = np.mean(exact_8minAcqFunc)\n",
        "ratio8 = minAcqFuncApprox8/minAcqFuncExact8\n",
        "approx_8.tau, exact_8.tau, minAcqFuncApprox8, minAcqFuncExact8, ratio8\n"
      ],
      "metadata": {
        "colab": {
          "base_uri": "https://localhost:8080/"
        },
        "id": "UOp-jaflHPlz",
        "outputId": "0a6e7c82-68e9-4e13-e079-c088dd668245"
      },
      "execution_count": null,
      "outputs": [
        {
          "output_type": "execute_result",
          "data": {
            "text/plain": [
              "(-6.430480819418818,\n",
              " -3.6683923541112007,\n",
              " -6.833120469297105,\n",
              " -5.933485904095639,\n",
              " 1.151619904343328)"
            ]
          },
          "metadata": {},
          "execution_count": 121
        }
      ]
    },
    {
      "cell_type": "code",
      "source": [
        "### MinAcqFunc Comparison: Experiment 9\n",
        "\n",
        "minAcqFuncApprox9 = np.mean(approx_9minAcqFunc)\n",
        "minAcqFuncExact9 = np.mean(exact_9minAcqFunc)\n",
        "ratio9 = minAcqFuncApprox9/minAcqFuncExact9\n",
        "approx_9.tau, exact_9.tau, minAcqFuncApprox9, minAcqFuncExact9, ratio9\n"
      ],
      "metadata": {
        "colab": {
          "base_uri": "https://localhost:8080/"
        },
        "id": "myU75lI6HPo4",
        "outputId": "fdf3a3b5-a642-4fe4-f1a2-8c051c2a16f4"
      },
      "execution_count": null,
      "outputs": [
        {
          "output_type": "execute_result",
          "data": {
            "text/plain": [
              "(-2.2001667247670733,\n",
              " -2.909586327372441,\n",
              " -3.30748625304902,\n",
              " -3.1688750275656803,\n",
              " 1.0437414616472964)"
            ]
          },
          "metadata": {},
          "execution_count": 122
        }
      ]
    },
    {
      "cell_type": "code",
      "source": [
        "### MinAcqFunc Comparison: Experiment 10\n",
        "\n",
        "minAcqFuncApprox10 = np.mean(approx_10minAcqFunc)\n",
        "minAcqFuncExact10 = np.mean(exact_10minAcqFunc)\n",
        "ratio10 = minAcqFuncApprox10/minAcqFuncExact10\n",
        "approx_10.tau, exact_10.tau, minAcqFuncApprox10, minAcqFuncExact10, ratio10\n"
      ],
      "metadata": {
        "colab": {
          "base_uri": "https://localhost:8080/"
        },
        "id": "A3mo5UftHPsk",
        "outputId": "ac0c26e3-dab6-4db9-8918-d37dd66230d8"
      },
      "execution_count": null,
      "outputs": [
        {
          "output_type": "execute_result",
          "data": {
            "text/plain": [
              "(-2.231488818914995,\n",
              " -2.020660742058113,\n",
              " -2.4572620598214754,\n",
              " -2.510132277689517,\n",
              " 0.9789372781912884)"
            ]
          },
          "metadata": {},
          "execution_count": 123
        }
      ]
    },
    {
      "cell_type": "code",
      "source": [
        "### MinAcqFunc Comparison: Experiment 11\n",
        "\n",
        "minAcqFuncApprox11 = np.mean(approx_11minAcqFunc)\n",
        "minAcqFuncExact11 = np.mean(exact_11minAcqFunc)\n",
        "ratio11 = minAcqFuncApprox11/minAcqFuncExact11\n",
        "approx_11.tau, exact_11.tau, minAcqFuncApprox11, minAcqFuncExact11, ratio11\n"
      ],
      "metadata": {
        "colab": {
          "base_uri": "https://localhost:8080/"
        },
        "id": "TaEOW6nLLEcx",
        "outputId": "686e3861-6eb3-45da-94fd-b42abc826432"
      },
      "execution_count": null,
      "outputs": [
        {
          "output_type": "execute_result",
          "data": {
            "text/plain": [
              "(-0.9919713297704416,\n",
              " -1.2496251948904433,\n",
              " -5.0551475435394355,\n",
              " -4.771026115688492,\n",
              " 1.0595514300197753)"
            ]
          },
          "metadata": {},
          "execution_count": 124
        }
      ]
    },
    {
      "cell_type": "code",
      "source": [
        "### MinAcqFunc Comparison: Experiment 12\n",
        "\n",
        "minAcqFuncApprox12 = np.mean(approx_12minAcqFunc)\n",
        "minAcqFuncExact12 = np.mean(exact_12minAcqFunc)\n",
        "ratio12 = minAcqFuncApprox12/minAcqFuncExact12\n",
        "approx_12.tau, exact_12.tau, minAcqFuncApprox12, minAcqFuncExact12, ratio12\n"
      ],
      "metadata": {
        "colab": {
          "base_uri": "https://localhost:8080/"
        },
        "id": "1KjJRPSwLE76",
        "outputId": "a169596a-94c2-4b23-9cf3-7de41703f6cc"
      },
      "execution_count": null,
      "outputs": [
        {
          "output_type": "execute_result",
          "data": {
            "text/plain": [
              "(-0.5499315281120278,\n",
              " -0.5499315281120278,\n",
              " -1.0607667579826578,\n",
              " -1.0527591735958206,\n",
              " 1.0076062831725194)"
            ]
          },
          "metadata": {},
          "execution_count": 125
        }
      ]
    },
    {
      "cell_type": "code",
      "source": [
        "### MinAcqFunc Comparison: Experiment 13\n",
        "\n",
        "minAcqFuncApprox13 = np.mean(approx_13minAcqFunc)\n",
        "minAcqFuncExact13 = np.mean(exact_13minAcqFunc)\n",
        "ratio13 = minAcqFuncApprox13/minAcqFuncExact13\n",
        "approx_13.tau, exact_13.tau, minAcqFuncApprox13, minAcqFuncExact13, ratio13\n"
      ],
      "metadata": {
        "colab": {
          "base_uri": "https://localhost:8080/"
        },
        "id": "jCoTSHuBLFOJ",
        "outputId": "1b28ca20-410f-4e75-e843-3847ac642aca"
      },
      "execution_count": null,
      "outputs": [
        {
          "output_type": "execute_result",
          "data": {
            "text/plain": [
              "(-2.035760641591324,\n",
              " -0.5477511752924471,\n",
              " -9.594323717534618,\n",
              " -2.885548999053448,\n",
              " 3.324956090047981)"
            ]
          },
          "metadata": {},
          "execution_count": 126
        }
      ]
    },
    {
      "cell_type": "code",
      "source": [
        "### MinAcqFunc Comparison: Experiment 14\n",
        "\n",
        "minAcqFuncApprox14 = np.mean(approx_14minAcqFunc)\n",
        "minAcqFuncExact14 = np.mean(exact_14minAcqFunc)\n",
        "ratio14 = minAcqFuncApprox14/minAcqFuncExact14\n",
        "approx_14.tau, exact_14.tau, minAcqFuncApprox14, minAcqFuncExact14, ratio14\n"
      ],
      "metadata": {
        "colab": {
          "base_uri": "https://localhost:8080/"
        },
        "id": "9_xSxWT8LFsp",
        "outputId": "8e34d7f3-915d-4eb1-e591-41b50d8f71ba"
      },
      "execution_count": null,
      "outputs": [
        {
          "output_type": "execute_result",
          "data": {
            "text/plain": [
              "(-1.4149920024014744,\n",
              " -1.4149920024014744,\n",
              " -1.6205917614833787,\n",
              " -1.5973565668989154,\n",
              " 1.0145460287740087)"
            ]
          },
          "metadata": {},
          "execution_count": 127
        }
      ]
    },
    {
      "cell_type": "code",
      "source": [
        "### MinAcqFunc Comparison: Experiment 15\n",
        "\n",
        "minAcqFuncApprox15 = np.mean(approx_15minAcqFunc)\n",
        "minAcqFuncExact15 = np.mean(exact_15minAcqFunc)\n",
        "ratio15 = minAcqFuncApprox15/minAcqFuncExact15\n",
        "approx_15.tau, exact_15.tau, minAcqFuncApprox15, minAcqFuncExact15, ratio15\n"
      ],
      "metadata": {
        "colab": {
          "base_uri": "https://localhost:8080/"
        },
        "id": "vj_iCIvOLFeP",
        "outputId": "71519a05-3c87-446c-814c-8ed3be3f5f88"
      },
      "execution_count": null,
      "outputs": [
        {
          "output_type": "execute_result",
          "data": {
            "text/plain": [
              "(-3.459585399897726,\n",
              " -2.6455160649188842,\n",
              " -6.9192472087304875,\n",
              " -6.288940411064,\n",
              " 1.1002246414288808)"
            ]
          },
          "metadata": {},
          "execution_count": 128
        }
      ]
    },
    {
      "cell_type": "code",
      "source": [
        "### MinAcqFunc Comparison: Experiment 16\n",
        "\n",
        "minAcqFuncApprox16 = np.mean(approx_16minAcqFunc)\n",
        "minAcqFuncExact16 = np.mean(exact_16minAcqFunc)\n",
        "ratio16 = minAcqFuncApprox16/minAcqFuncExact16\n",
        "approx_16.tau, exact_16.tau, minAcqFuncApprox16, minAcqFuncExact16, ratio16\n"
      ],
      "metadata": {
        "colab": {
          "base_uri": "https://localhost:8080/"
        },
        "id": "vjFFlps7LF7A",
        "outputId": "a3b840bc-d829-4625-cedf-31966444767f"
      },
      "execution_count": null,
      "outputs": [
        {
          "output_type": "execute_result",
          "data": {
            "text/plain": [
              "(-2.715864006988424,\n",
              " -2.715864006988424,\n",
              " -2.6792571460503973,\n",
              " -2.6516334389620733,\n",
              " 1.0104176190729957)"
            ]
          },
          "metadata": {},
          "execution_count": 129
        }
      ]
    },
    {
      "cell_type": "code",
      "source": [
        "### MinAcqFunc Comparison: Experiment 17\n",
        "\n",
        "minAcqFuncApprox17 = np.mean(approx_17minAcqFunc)\n",
        "minAcqFuncExact17 = np.mean(exact_17minAcqFunc)\n",
        "ratio17 = minAcqFuncApprox17/minAcqFuncExact17\n",
        "approx_17.tau, exact_17.tau, minAcqFuncApprox17, minAcqFuncExact17, ratio17\n"
      ],
      "metadata": {
        "colab": {
          "base_uri": "https://localhost:8080/"
        },
        "id": "jO0-nRLRLGJv",
        "outputId": "07060466-0b86-42ba-c66a-be2a7f6a6f6c"
      },
      "execution_count": null,
      "outputs": [
        {
          "output_type": "execute_result",
          "data": {
            "text/plain": [
              "(-2.0179821894263945,\n",
              " -1.8509281105180406,\n",
              " -4.030269627242974,\n",
              " -3.2763278349039444,\n",
              " 1.2301179339585635)"
            ]
          },
          "metadata": {},
          "execution_count": 130
        }
      ]
    },
    {
      "cell_type": "code",
      "source": [
        "### MinAcqFunc Comparison: Experiment 18\n",
        "\n",
        "minAcqFuncApprox18 = np.mean(approx_18minAcqFunc)\n",
        "minAcqFuncExact18 = np.mean(exact_18minAcqFunc)\n",
        "ratio18 = minAcqFuncApprox18/minAcqFuncExact18\n",
        "approx_18.tau, exact_18.tau, minAcqFuncApprox18, minAcqFuncExact18, ratio18\n"
      ],
      "metadata": {
        "colab": {
          "base_uri": "https://localhost:8080/"
        },
        "id": "5Zo9ub4ULGXh",
        "outputId": "c0b990c5-05a8-4630-f5f5-e1430b8f61a5"
      },
      "execution_count": null,
      "outputs": [
        {
          "output_type": "execute_result",
          "data": {
            "text/plain": [
              "(-5.719079686897693,\n",
              " -3.078850151318427,\n",
              " -6.5878496378884295,\n",
              " -6.48289164529356,\n",
              " 1.0161899964302297)"
            ]
          },
          "metadata": {},
          "execution_count": 131
        }
      ]
    },
    {
      "cell_type": "code",
      "source": [
        "### MinAcqFunc Comparison: Experiment 19\n",
        "\n",
        "minAcqFuncApprox19 = np.mean(approx_19minAcqFunc)\n",
        "minAcqFuncExact19 = np.mean(exact_19minAcqFunc)\n",
        "ratio19 = minAcqFuncApprox19/minAcqFuncExact19\n",
        "approx_19.tau, exact_19.tau, minAcqFuncApprox19, minAcqFuncExact19, ratio19\n"
      ],
      "metadata": {
        "colab": {
          "base_uri": "https://localhost:8080/"
        },
        "id": "1yJ_PLUFLGmh",
        "outputId": "70412487-9436-4e89-ee05-d0574ee8ecfd"
      },
      "execution_count": null,
      "outputs": [
        {
          "output_type": "execute_result",
          "data": {
            "text/plain": [
              "(-0.4133326694001145,\n",
              " -0.8198597583535783,\n",
              " -1.3162390660602163,\n",
              " -1.3374830014874521,\n",
              " 0.9841164819264171)"
            ]
          },
          "metadata": {},
          "execution_count": 132
        }
      ]
    },
    {
      "cell_type": "code",
      "source": [
        "### MinAcqFunc Comparison: Experiment 20\n",
        "\n",
        "minAcqFuncApprox20 = np.mean(approx_20minAcqFunc)\n",
        "minAcqFuncExact20 = np.mean(exact_20minAcqFunc)\n",
        "ratio20 = minAcqFuncApprox20/minAcqFuncExact20\n",
        "approx_20.tau, exact_20.tau, minAcqFuncApprox20, minAcqFuncExact20, ratio20\n"
      ],
      "metadata": {
        "colab": {
          "base_uri": "https://localhost:8080/"
        },
        "id": "Sd9NxsRsLG1P",
        "outputId": "cf9100ae-7f26-44b7-8344-88c6f9124bdd"
      },
      "execution_count": null,
      "outputs": [
        {
          "output_type": "execute_result",
          "data": {
            "text/plain": [
              "(-5.207839407943306,\n",
              " -1.9519292536607047,\n",
              " -7.0424494717458215,\n",
              " -4.927294194635118,\n",
              " 1.4292731859635466)"
            ]
          },
          "metadata": {},
          "execution_count": 133
        }
      ]
    },
    {
      "cell_type": "code",
      "source": [
        "num = [1,2,3,4,5,6,7,8,9,10,11,12,13,14,15,16,17,18,19,20]\n",
        "ApproxTau = [approx_1.tau,approx_2.tau,approx_3.tau,approx_4.tau,approx_5.tau,approx_6.tau,approx_7.tau,approx_8.tau,approx_9.tau,approx_10.tau,approx_11.tau,approx_12.tau,approx_13.tau,approx_14.tau,approx_15.tau,approx_16.tau,approx_17.tau,approx_18.tau,approx_19.tau,approx_20.tau]\n",
        "ExactTau = [exact_1.tau,exact_2.tau,exact_3.tau,exact_4.tau,exact_5.tau,exact_6.tau,exact_7.tau,exact_8.tau,exact_9.tau,exact_10.tau,exact_11.tau,exact_12.tau,exact_13.tau,exact_14.tau,exact_15.tau,exact_16.tau,exact_17.tau,exact_18.tau,exact_19.tau,exact_20.tau]\n",
        "AvgMinAcqFuncExact = [minAcqFuncExact1,minAcqFuncExact2,minAcqFuncExact3,minAcqFuncExact4,minAcqFuncExact5,minAcqFuncExact6,minAcqFuncExact7,minAcqFuncExact8,minAcqFuncExact9,minAcqFuncExact10,minAcqFuncExact11,minAcqFuncExact12,minAcqFuncExact13,minAcqFuncExact14,minAcqFuncExact15,minAcqFuncExact16,minAcqFuncExact17,minAcqFuncExact18,minAcqFuncExact19,minAcqFuncExact20]\n",
        "AvgMinAcqFuncApprox = [minAcqFuncApprox1,minAcqFuncApprox2,minAcqFuncApprox3,minAcqFuncApprox4,minAcqFuncApprox5,minAcqFuncApprox6,minAcqFuncApprox7,minAcqFuncApprox8,minAcqFuncApprox9,minAcqFuncApprox10,minAcqFuncApprox11,minAcqFuncApprox12,minAcqFuncApprox13,minAcqFuncApprox14,minAcqFuncApprox15,minAcqFuncApprox16,minAcqFuncApprox17,minAcqFuncApprox18,minAcqFuncApprox19,minAcqFuncApprox20]\n",
        "ratio = [ratio1,ratio2,ratio3,ratio4,ratio5,ratio6,ratio7,ratio8,ratio9,ratio10,ratio11,ratio12,ratio13,ratio14,ratio15,ratio16,ratio17,ratio18,ratio19,ratio20]\n"
      ],
      "metadata": {
        "id": "_Fbc4r50vHHF"
      },
      "execution_count": null,
      "outputs": []
    },
    {
      "cell_type": "code",
      "source": [
        "def greaterThan(a, b):\n",
        "  lis =[]\n",
        "  #convert to list\n",
        "  a = list(a)\n",
        "  b = list(b)\n",
        "  c = \"Yes\"\n",
        "  d = \"No\"\n",
        "  e = \"equal\"\n",
        "  for first, first_te in zip(a, b):\n",
        "      if first < first_te:\n",
        "          lis.append(d)\n",
        "      elif first > first_te:\n",
        "          lis.append(c)\n",
        "      else:\n",
        "          lis.append(e)\n",
        "  return lis\n",
        "\n",
        "greaterAcqFunc = greaterThan(AvgMinAcqFuncExact, AvgMinAcqFuncApprox)\n"
      ],
      "metadata": {
        "id": "gyTQQeQfknKX"
      },
      "execution_count": null,
      "outputs": []
    },
    {
      "cell_type": "code",
      "source": [
        "def greaterRatio(a):\n",
        "  lis =[]\n",
        "  #convert to list\n",
        "  a = list(a)\n",
        "  b = \"Yes\"\n",
        "  c = \"No\"\n",
        "  d = \"equal\"\n",
        "  for first, in zip(a):\n",
        "      if first < 1:\n",
        "          lis.append(c)\n",
        "      elif first > 1:\n",
        "          lis.append(b)\n",
        "      else:\n",
        "          lis.append(d)\n",
        "  return lis\n",
        "\n",
        "greaterRatio = greaterRatio(ratio)\n"
      ],
      "metadata": {
        "id": "wO-_fUfpoYyP"
      },
      "execution_count": null,
      "outputs": []
    },
    {
      "cell_type": "code",
      "source": [
        "df = pd.DataFrame(dict(Experiment=num,\n",
        "                  ExactTau=ExactTau,\n",
        "                  ApproxTau=ApproxTau,\n",
        "                  AvgMinAcqFuncExact=AvgMinAcqFuncExact,\n",
        "                  GreaterAcqFunc = greaterAcqFunc,\n",
        "                  AvgMinAcqFuncApprox=AvgMinAcqFuncApprox,\n",
        "                  Ratio = ratio,\n",
        "                  GreaterRatio = greaterRatio))\n",
        "df.sort_values(by=['ExactTau'], inplace=True, ascending=False)\n",
        "print(df.to_latex(index=False))\n"
      ],
      "metadata": {
        "id": "4EzMdtEQV0yI",
        "colab": {
          "base_uri": "https://localhost:8080/"
        },
        "outputId": "09bcf745-9d9a-4513-b032-7e217a4d7afc"
      },
      "execution_count": null,
      "outputs": [
        {
          "output_type": "stream",
          "name": "stdout",
          "text": [
            "\\begin{tabular}{rrrrlrrl}\n",
            "\\toprule\n",
            " Experiment &  ExactTau &  ApproxTau &  AvgMinAcqFuncExact & GreaterAcqFunc &  AvgMinAcqFuncApprox &    Ratio & GreaterRatio \\\\\n",
            "\\midrule\n",
            "          5 & -0.421936 &  -2.742732 &           -5.282915 &            Yes &            -5.395016 & 1.021220 &          Yes \\\\\n",
            "         13 & -0.547751 &  -2.035761 &           -2.885549 &            Yes &            -9.594324 & 3.324956 &          Yes \\\\\n",
            "         12 & -0.549932 &  -0.549932 &           -1.052759 &            Yes &            -1.060767 & 1.007606 &          Yes \\\\\n",
            "         19 & -0.819860 &  -0.413333 &           -1.337483 &             No &            -1.316239 & 0.984116 &           No \\\\\n",
            "          4 & -0.934822 &  -0.596931 &           -6.052148 &             No &            -4.307395 & 0.711713 &           No \\\\\n",
            "          2 & -1.023915 &  -1.398459 &           -2.057810 &            Yes &            -2.093197 & 1.017196 &          Yes \\\\\n",
            "          6 & -1.049993 &  -0.546672 &           -7.381216 &             No &            -5.674957 & 0.768838 &           No \\\\\n",
            "         11 & -1.249625 &  -0.991971 &           -4.771026 &            Yes &            -5.055148 & 1.059551 &          Yes \\\\\n",
            "         14 & -1.414992 &  -1.414992 &           -1.597357 &            Yes &            -1.620592 & 1.014546 &          Yes \\\\\n",
            "         17 & -1.850928 &  -2.017982 &           -3.276328 &            Yes &            -4.030270 & 1.230118 &          Yes \\\\\n",
            "         20 & -1.951929 &  -5.207839 &           -4.927294 &            Yes &            -7.042449 & 1.429273 &          Yes \\\\\n",
            "         10 & -2.020661 &  -2.231489 &           -2.510132 &             No &            -2.457262 & 0.978937 &           No \\\\\n",
            "          7 & -2.631423 &  -2.594257 &           -3.502030 &             No &            -3.489290 & 0.996362 &           No \\\\\n",
            "         15 & -2.645516 &  -3.459585 &           -6.288940 &            Yes &            -6.919247 & 1.100225 &          Yes \\\\\n",
            "         16 & -2.715864 &  -2.715864 &           -2.651633 &            Yes &            -2.679257 & 1.010418 &          Yes \\\\\n",
            "          9 & -2.909586 &  -2.200167 &           -3.168875 &            Yes &            -3.307486 & 1.043741 &          Yes \\\\\n",
            "         18 & -3.078850 &  -5.719080 &           -6.482892 &            Yes &            -6.587850 & 1.016190 &          Yes \\\\\n",
            "          3 & -3.601019 &  -3.222678 &           -4.887906 &            Yes &            -7.110778 & 1.454770 &          Yes \\\\\n",
            "          8 & -3.668392 &  -6.430481 &           -5.933486 &            Yes &            -6.833120 & 1.151620 &          Yes \\\\\n",
            "          1 & -4.504573 &  -4.859191 &           -5.720170 &            Yes &            -5.895797 & 1.030703 &          Yes \\\\\n",
            "\\bottomrule\n",
            "\\end{tabular}\n",
            "\n"
          ]
        }
      ]
    },
    {
      "cell_type": "code",
      "source": [
        "avg_list = ['ExactTau', 'ApproxTau', 'AvgMinAcqFuncExact','AvgMinAcqFuncApprox']\n",
        "avg = df[avg_list].mean()\n",
        "avg.name = 'Average'\n",
        "df = df.append(avg.transpose())\n",
        "df.fillna(value='', inplace=True)\n",
        "df\n"
      ],
      "metadata": {
        "id": "HQ6-zjAHD43j",
        "colab": {
          "base_uri": "https://localhost:8080/"
        },
        "outputId": "220da7e0-d71c-4ae7-b6c1-4cb6c3688f19"
      },
      "execution_count": null,
      "outputs": [
        {
          "output_type": "execute_result",
          "data": {
            "text/plain": [
              "        Experiment  ExactTau  ApproxTau  AvgMinAcqFuncExact GreaterAcqFunc  \\\n",
              "4              5.0 -0.421936  -2.742732           -5.282915            Yes   \n",
              "12            13.0 -0.547751  -2.035761           -2.885549            Yes   \n",
              "11            12.0 -0.549932  -0.549932           -1.052759            Yes   \n",
              "18            19.0 -0.819860  -0.413333           -1.337483             No   \n",
              "3              4.0 -0.934822  -0.596931           -6.052148             No   \n",
              "1              2.0 -1.023915  -1.398459           -2.057810            Yes   \n",
              "5              6.0 -1.049993  -0.546672           -7.381216             No   \n",
              "10            11.0 -1.249625  -0.991971           -4.771026            Yes   \n",
              "13            14.0 -1.414992  -1.414992           -1.597357            Yes   \n",
              "16            17.0 -1.850928  -2.017982           -3.276328            Yes   \n",
              "19            20.0 -1.951929  -5.207839           -4.927294            Yes   \n",
              "9             10.0 -2.020661  -2.231489           -2.510132             No   \n",
              "6              7.0 -2.631423  -2.594257           -3.502030             No   \n",
              "14            15.0 -2.645516  -3.459585           -6.288940            Yes   \n",
              "15            16.0 -2.715864  -2.715864           -2.651633            Yes   \n",
              "8              9.0 -2.909586  -2.200167           -3.168875            Yes   \n",
              "17            18.0 -3.078850  -5.719080           -6.482892            Yes   \n",
              "2              3.0 -3.601019  -3.222678           -4.887906            Yes   \n",
              "7              8.0 -3.668392  -6.430481           -5.933486            Yes   \n",
              "0              1.0 -4.504573  -4.859191           -5.720170            Yes   \n",
              "Average            -1.979578  -2.567470           -4.088397                  \n",
              "\n",
              "         AvgMinAcqFuncApprox     Ratio GreaterRatio  \n",
              "4                  -5.395016   1.02122          Yes  \n",
              "12                 -9.594324  3.324956          Yes  \n",
              "11                 -1.060767  1.007606          Yes  \n",
              "18                 -1.316239  0.984116           No  \n",
              "3                  -4.307395  0.711713           No  \n",
              "1                  -2.093197  1.017196          Yes  \n",
              "5                  -5.674957  0.768838           No  \n",
              "10                 -5.055148  1.059551          Yes  \n",
              "13                 -1.620592  1.014546          Yes  \n",
              "16                 -4.030270  1.230118          Yes  \n",
              "19                 -7.042449  1.429273          Yes  \n",
              "9                  -2.457262  0.978937           No  \n",
              "6                  -3.489290  0.996362           No  \n",
              "14                 -6.919247  1.100225          Yes  \n",
              "15                 -2.679257  1.010418          Yes  \n",
              "8                  -3.307486  1.043741          Yes  \n",
              "17                 -6.587850   1.01619          Yes  \n",
              "2                  -7.110778   1.45477          Yes  \n",
              "7                  -6.833120   1.15162          Yes  \n",
              "0                  -5.895797  1.030703          Yes  \n",
              "Average            -4.623522                         "
            ],
            "text/html": [
              "\n",
              "  <div id=\"df-0ee7d887-05dc-458c-b5f0-049d6d1b0ca7\">\n",
              "    <div class=\"colab-df-container\">\n",
              "      <div>\n",
              "<style scoped>\n",
              "    .dataframe tbody tr th:only-of-type {\n",
              "        vertical-align: middle;\n",
              "    }\n",
              "\n",
              "    .dataframe tbody tr th {\n",
              "        vertical-align: top;\n",
              "    }\n",
              "\n",
              "    .dataframe thead th {\n",
              "        text-align: right;\n",
              "    }\n",
              "</style>\n",
              "<table border=\"1\" class=\"dataframe\">\n",
              "  <thead>\n",
              "    <tr style=\"text-align: right;\">\n",
              "      <th></th>\n",
              "      <th>Experiment</th>\n",
              "      <th>ExactTau</th>\n",
              "      <th>ApproxTau</th>\n",
              "      <th>AvgMinAcqFuncExact</th>\n",
              "      <th>GreaterAcqFunc</th>\n",
              "      <th>AvgMinAcqFuncApprox</th>\n",
              "      <th>Ratio</th>\n",
              "      <th>GreaterRatio</th>\n",
              "    </tr>\n",
              "  </thead>\n",
              "  <tbody>\n",
              "    <tr>\n",
              "      <th>4</th>\n",
              "      <td>5.0</td>\n",
              "      <td>-0.421936</td>\n",
              "      <td>-2.742732</td>\n",
              "      <td>-5.282915</td>\n",
              "      <td>Yes</td>\n",
              "      <td>-5.395016</td>\n",
              "      <td>1.02122</td>\n",
              "      <td>Yes</td>\n",
              "    </tr>\n",
              "    <tr>\n",
              "      <th>12</th>\n",
              "      <td>13.0</td>\n",
              "      <td>-0.547751</td>\n",
              "      <td>-2.035761</td>\n",
              "      <td>-2.885549</td>\n",
              "      <td>Yes</td>\n",
              "      <td>-9.594324</td>\n",
              "      <td>3.324956</td>\n",
              "      <td>Yes</td>\n",
              "    </tr>\n",
              "    <tr>\n",
              "      <th>11</th>\n",
              "      <td>12.0</td>\n",
              "      <td>-0.549932</td>\n",
              "      <td>-0.549932</td>\n",
              "      <td>-1.052759</td>\n",
              "      <td>Yes</td>\n",
              "      <td>-1.060767</td>\n",
              "      <td>1.007606</td>\n",
              "      <td>Yes</td>\n",
              "    </tr>\n",
              "    <tr>\n",
              "      <th>18</th>\n",
              "      <td>19.0</td>\n",
              "      <td>-0.819860</td>\n",
              "      <td>-0.413333</td>\n",
              "      <td>-1.337483</td>\n",
              "      <td>No</td>\n",
              "      <td>-1.316239</td>\n",
              "      <td>0.984116</td>\n",
              "      <td>No</td>\n",
              "    </tr>\n",
              "    <tr>\n",
              "      <th>3</th>\n",
              "      <td>4.0</td>\n",
              "      <td>-0.934822</td>\n",
              "      <td>-0.596931</td>\n",
              "      <td>-6.052148</td>\n",
              "      <td>No</td>\n",
              "      <td>-4.307395</td>\n",
              "      <td>0.711713</td>\n",
              "      <td>No</td>\n",
              "    </tr>\n",
              "    <tr>\n",
              "      <th>1</th>\n",
              "      <td>2.0</td>\n",
              "      <td>-1.023915</td>\n",
              "      <td>-1.398459</td>\n",
              "      <td>-2.057810</td>\n",
              "      <td>Yes</td>\n",
              "      <td>-2.093197</td>\n",
              "      <td>1.017196</td>\n",
              "      <td>Yes</td>\n",
              "    </tr>\n",
              "    <tr>\n",
              "      <th>5</th>\n",
              "      <td>6.0</td>\n",
              "      <td>-1.049993</td>\n",
              "      <td>-0.546672</td>\n",
              "      <td>-7.381216</td>\n",
              "      <td>No</td>\n",
              "      <td>-5.674957</td>\n",
              "      <td>0.768838</td>\n",
              "      <td>No</td>\n",
              "    </tr>\n",
              "    <tr>\n",
              "      <th>10</th>\n",
              "      <td>11.0</td>\n",
              "      <td>-1.249625</td>\n",
              "      <td>-0.991971</td>\n",
              "      <td>-4.771026</td>\n",
              "      <td>Yes</td>\n",
              "      <td>-5.055148</td>\n",
              "      <td>1.059551</td>\n",
              "      <td>Yes</td>\n",
              "    </tr>\n",
              "    <tr>\n",
              "      <th>13</th>\n",
              "      <td>14.0</td>\n",
              "      <td>-1.414992</td>\n",
              "      <td>-1.414992</td>\n",
              "      <td>-1.597357</td>\n",
              "      <td>Yes</td>\n",
              "      <td>-1.620592</td>\n",
              "      <td>1.014546</td>\n",
              "      <td>Yes</td>\n",
              "    </tr>\n",
              "    <tr>\n",
              "      <th>16</th>\n",
              "      <td>17.0</td>\n",
              "      <td>-1.850928</td>\n",
              "      <td>-2.017982</td>\n",
              "      <td>-3.276328</td>\n",
              "      <td>Yes</td>\n",
              "      <td>-4.030270</td>\n",
              "      <td>1.230118</td>\n",
              "      <td>Yes</td>\n",
              "    </tr>\n",
              "    <tr>\n",
              "      <th>19</th>\n",
              "      <td>20.0</td>\n",
              "      <td>-1.951929</td>\n",
              "      <td>-5.207839</td>\n",
              "      <td>-4.927294</td>\n",
              "      <td>Yes</td>\n",
              "      <td>-7.042449</td>\n",
              "      <td>1.429273</td>\n",
              "      <td>Yes</td>\n",
              "    </tr>\n",
              "    <tr>\n",
              "      <th>9</th>\n",
              "      <td>10.0</td>\n",
              "      <td>-2.020661</td>\n",
              "      <td>-2.231489</td>\n",
              "      <td>-2.510132</td>\n",
              "      <td>No</td>\n",
              "      <td>-2.457262</td>\n",
              "      <td>0.978937</td>\n",
              "      <td>No</td>\n",
              "    </tr>\n",
              "    <tr>\n",
              "      <th>6</th>\n",
              "      <td>7.0</td>\n",
              "      <td>-2.631423</td>\n",
              "      <td>-2.594257</td>\n",
              "      <td>-3.502030</td>\n",
              "      <td>No</td>\n",
              "      <td>-3.489290</td>\n",
              "      <td>0.996362</td>\n",
              "      <td>No</td>\n",
              "    </tr>\n",
              "    <tr>\n",
              "      <th>14</th>\n",
              "      <td>15.0</td>\n",
              "      <td>-2.645516</td>\n",
              "      <td>-3.459585</td>\n",
              "      <td>-6.288940</td>\n",
              "      <td>Yes</td>\n",
              "      <td>-6.919247</td>\n",
              "      <td>1.100225</td>\n",
              "      <td>Yes</td>\n",
              "    </tr>\n",
              "    <tr>\n",
              "      <th>15</th>\n",
              "      <td>16.0</td>\n",
              "      <td>-2.715864</td>\n",
              "      <td>-2.715864</td>\n",
              "      <td>-2.651633</td>\n",
              "      <td>Yes</td>\n",
              "      <td>-2.679257</td>\n",
              "      <td>1.010418</td>\n",
              "      <td>Yes</td>\n",
              "    </tr>\n",
              "    <tr>\n",
              "      <th>8</th>\n",
              "      <td>9.0</td>\n",
              "      <td>-2.909586</td>\n",
              "      <td>-2.200167</td>\n",
              "      <td>-3.168875</td>\n",
              "      <td>Yes</td>\n",
              "      <td>-3.307486</td>\n",
              "      <td>1.043741</td>\n",
              "      <td>Yes</td>\n",
              "    </tr>\n",
              "    <tr>\n",
              "      <th>17</th>\n",
              "      <td>18.0</td>\n",
              "      <td>-3.078850</td>\n",
              "      <td>-5.719080</td>\n",
              "      <td>-6.482892</td>\n",
              "      <td>Yes</td>\n",
              "      <td>-6.587850</td>\n",
              "      <td>1.01619</td>\n",
              "      <td>Yes</td>\n",
              "    </tr>\n",
              "    <tr>\n",
              "      <th>2</th>\n",
              "      <td>3.0</td>\n",
              "      <td>-3.601019</td>\n",
              "      <td>-3.222678</td>\n",
              "      <td>-4.887906</td>\n",
              "      <td>Yes</td>\n",
              "      <td>-7.110778</td>\n",
              "      <td>1.45477</td>\n",
              "      <td>Yes</td>\n",
              "    </tr>\n",
              "    <tr>\n",
              "      <th>7</th>\n",
              "      <td>8.0</td>\n",
              "      <td>-3.668392</td>\n",
              "      <td>-6.430481</td>\n",
              "      <td>-5.933486</td>\n",
              "      <td>Yes</td>\n",
              "      <td>-6.833120</td>\n",
              "      <td>1.15162</td>\n",
              "      <td>Yes</td>\n",
              "    </tr>\n",
              "    <tr>\n",
              "      <th>0</th>\n",
              "      <td>1.0</td>\n",
              "      <td>-4.504573</td>\n",
              "      <td>-4.859191</td>\n",
              "      <td>-5.720170</td>\n",
              "      <td>Yes</td>\n",
              "      <td>-5.895797</td>\n",
              "      <td>1.030703</td>\n",
              "      <td>Yes</td>\n",
              "    </tr>\n",
              "    <tr>\n",
              "      <th>Average</th>\n",
              "      <td></td>\n",
              "      <td>-1.979578</td>\n",
              "      <td>-2.567470</td>\n",
              "      <td>-4.088397</td>\n",
              "      <td></td>\n",
              "      <td>-4.623522</td>\n",
              "      <td></td>\n",
              "      <td></td>\n",
              "    </tr>\n",
              "  </tbody>\n",
              "</table>\n",
              "</div>\n",
              "      <button class=\"colab-df-convert\" onclick=\"convertToInteractive('df-0ee7d887-05dc-458c-b5f0-049d6d1b0ca7')\"\n",
              "              title=\"Convert this dataframe to an interactive table.\"\n",
              "              style=\"display:none;\">\n",
              "        \n",
              "  <svg xmlns=\"http://www.w3.org/2000/svg\" height=\"24px\"viewBox=\"0 0 24 24\"\n",
              "       width=\"24px\">\n",
              "    <path d=\"M0 0h24v24H0V0z\" fill=\"none\"/>\n",
              "    <path d=\"M18.56 5.44l.94 2.06.94-2.06 2.06-.94-2.06-.94-.94-2.06-.94 2.06-2.06.94zm-11 1L8.5 8.5l.94-2.06 2.06-.94-2.06-.94L8.5 2.5l-.94 2.06-2.06.94zm10 10l.94 2.06.94-2.06 2.06-.94-2.06-.94-.94-2.06-.94 2.06-2.06.94z\"/><path d=\"M17.41 7.96l-1.37-1.37c-.4-.4-.92-.59-1.43-.59-.52 0-1.04.2-1.43.59L10.3 9.45l-7.72 7.72c-.78.78-.78 2.05 0 2.83L4 21.41c.39.39.9.59 1.41.59.51 0 1.02-.2 1.41-.59l7.78-7.78 2.81-2.81c.8-.78.8-2.07 0-2.86zM5.41 20L4 18.59l7.72-7.72 1.47 1.35L5.41 20z\"/>\n",
              "  </svg>\n",
              "      </button>\n",
              "      \n",
              "  <style>\n",
              "    .colab-df-container {\n",
              "      display:flex;\n",
              "      flex-wrap:wrap;\n",
              "      gap: 12px;\n",
              "    }\n",
              "\n",
              "    .colab-df-convert {\n",
              "      background-color: #E8F0FE;\n",
              "      border: none;\n",
              "      border-radius: 50%;\n",
              "      cursor: pointer;\n",
              "      display: none;\n",
              "      fill: #1967D2;\n",
              "      height: 32px;\n",
              "      padding: 0 0 0 0;\n",
              "      width: 32px;\n",
              "    }\n",
              "\n",
              "    .colab-df-convert:hover {\n",
              "      background-color: #E2EBFA;\n",
              "      box-shadow: 0px 1px 2px rgba(60, 64, 67, 0.3), 0px 1px 3px 1px rgba(60, 64, 67, 0.15);\n",
              "      fill: #174EA6;\n",
              "    }\n",
              "\n",
              "    [theme=dark] .colab-df-convert {\n",
              "      background-color: #3B4455;\n",
              "      fill: #D2E3FC;\n",
              "    }\n",
              "\n",
              "    [theme=dark] .colab-df-convert:hover {\n",
              "      background-color: #434B5C;\n",
              "      box-shadow: 0px 1px 3px 1px rgba(0, 0, 0, 0.15);\n",
              "      filter: drop-shadow(0px 1px 2px rgba(0, 0, 0, 0.3));\n",
              "      fill: #FFFFFF;\n",
              "    }\n",
              "  </style>\n",
              "\n",
              "      <script>\n",
              "        const buttonEl =\n",
              "          document.querySelector('#df-0ee7d887-05dc-458c-b5f0-049d6d1b0ca7 button.colab-df-convert');\n",
              "        buttonEl.style.display =\n",
              "          google.colab.kernel.accessAllowed ? 'block' : 'none';\n",
              "\n",
              "        async function convertToInteractive(key) {\n",
              "          const element = document.querySelector('#df-0ee7d887-05dc-458c-b5f0-049d6d1b0ca7');\n",
              "          const dataTable =\n",
              "            await google.colab.kernel.invokeFunction('convertToInteractive',\n",
              "                                                     [key], {});\n",
              "          if (!dataTable) return;\n",
              "\n",
              "          const docLinkHtml = 'Like what you see? Visit the ' +\n",
              "            '<a target=\"_blank\" href=https://colab.research.google.com/notebooks/data_table.ipynb>data table notebook</a>'\n",
              "            + ' to learn more about interactive tables.';\n",
              "          element.innerHTML = '';\n",
              "          dataTable['output_type'] = 'display_data';\n",
              "          await google.colab.output.renderOutput(dataTable, element);\n",
              "          const docLink = document.createElement('div');\n",
              "          docLink.innerHTML = docLinkHtml;\n",
              "          element.appendChild(docLink);\n",
              "        }\n",
              "      </script>\n",
              "    </div>\n",
              "  </div>\n",
              "  "
            ]
          },
          "metadata": {},
          "execution_count": 138
        }
      ]
    },
    {
      "cell_type": "code",
      "source": [
        "print('Ratio of Average ExactTau to Average ApproxTau:', np.round(avg[1]/avg[0], 5))\n",
        "print('Ratio of Average AvgMinAcqFuncExact to Average AvgMinAcqFuncApprox:', np.round(avg[3]/avg[2], 5))\n",
        "print('Number of experiments where AvgMinAcqFuncExact exceeds AvgMinAcqFuncApprox:', df['GreaterAcqFunc'].value_counts()['Yes'])\n",
        "print('Number of experiments where Ratio exceeds 1.0:', df['GreaterRatio'].value_counts()['Yes'])\n"
      ],
      "metadata": {
        "colab": {
          "base_uri": "https://localhost:8080/"
        },
        "id": "GWW6HY5Kuxjv",
        "outputId": "aa896f1b-7cf0-4984-b109-a236373cda65"
      },
      "execution_count": 140,
      "outputs": [
        {
          "output_type": "stream",
          "name": "stdout",
          "text": [
            "Ratio of Average ExactTau to Average ApproxTau: 1.29698\n",
            "Ratio of Average AvgMinAcqFuncExact to Average AvgMinAcqFuncApprox: 1.13089\n",
            "Number of experiments where AvgMinAcqFuncExact exceeds AvgMinAcqFuncApprox: 15\n",
            "Number of experiments where Ratio exceeds 1.0: 15\n"
          ]
        }
      ]
    },
    {
      "cell_type": "code",
      "source": [
        ""
      ],
      "metadata": {
        "id": "2GmXuB8wsCOS"
      },
      "execution_count": null,
      "outputs": []
    }
  ]
}