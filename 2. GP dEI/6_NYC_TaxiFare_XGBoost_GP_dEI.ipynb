{
  "nbformat": 4,
  "nbformat_minor": 0,
  "metadata": {
    "colab": {
      "name": "6. NYC_TaxiFare_XGBoost_GP_dEI.ipynb",
      "provenance": [],
      "collapsed_sections": []
    },
    "kernelspec": {
      "name": "python3",
      "display_name": "Python 3"
    }
  },
  "cells": [
    {
      "cell_type": "markdown",
      "metadata": {
        "id": "W9wHutsqZUcn"
      },
      "source": [
        "XGBoost Regression - 'real-world' example: NYC Taxi-Fare Predictor\n",
        "\n",
        "https://www.kaggle.com/c/new-york-city-taxi-fare-prediction"
      ]
    },
    {
      "cell_type": "code",
      "metadata": {
        "id": "-7PwmXsgZO8D",
        "colab": {
          "resources": {
            "http://localhost:8080/nbextensions/google.colab/files.js": {
              "data": "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",
              "ok": true,
              "headers": [
                [
                  "content-type",
                  "application/javascript"
                ]
              ],
              "status": 200,
              "status_text": ""
            }
          },
          "base_uri": "https://localhost:8080/",
          "height": 90
        },
        "outputId": "517f36f7-715a-4226-eb29-5082e287c51c"
      },
      "source": [
        "from google.colab import files\n",
        "files.upload()"
      ],
      "execution_count": 1,
      "outputs": [
        {
          "output_type": "display_data",
          "data": {
            "text/html": [
              "\n",
              "     <input type=\"file\" id=\"files-653b8596-0b4e-48b7-9864-8de1d50402ce\" name=\"files[]\" multiple disabled\n",
              "        style=\"border:none\" />\n",
              "     <output id=\"result-653b8596-0b4e-48b7-9864-8de1d50402ce\">\n",
              "      Upload widget is only available when the cell has been executed in the\n",
              "      current browser session. Please rerun this cell to enable.\n",
              "      </output>\n",
              "      <script src=\"/nbextensions/google.colab/files.js\"></script> "
            ],
            "text/plain": [
              "<IPython.core.display.HTML object>"
            ]
          },
          "metadata": {}
        },
        {
          "output_type": "stream",
          "name": "stdout",
          "text": [
            "Saving kaggle.json to kaggle.json\n"
          ]
        },
        {
          "output_type": "execute_result",
          "data": {
            "text/plain": [
              "{'kaggle.json': b'{\"username\":\"conorc2006\",\"key\":\"c5c5a6382a7d50c022aab991694fc17f\"}'}"
            ]
          },
          "metadata": {},
          "execution_count": 1
        }
      ]
    },
    {
      "cell_type": "code",
      "metadata": {
        "id": "RMwbJ6hjZltI",
        "colab": {
          "base_uri": "https://localhost:8080/"
        },
        "outputId": "f7243a3d-32c7-4c56-9877-87e935eb687f"
      },
      "source": [
        "## Ensure the kaggle.json file is present:\n",
        "!ls -lha kaggle.json"
      ],
      "execution_count": 2,
      "outputs": [
        {
          "output_type": "stream",
          "name": "stdout",
          "text": [
            "-rw-r--r-- 1 root root 66 Mar  1 11:35 kaggle.json\n"
          ]
        }
      ]
    },
    {
      "cell_type": "code",
      "metadata": {
        "id": "v8Pu-UlWZovH"
      },
      "source": [
        "## Next, install the Kaggle API client:\n",
        "!pip install -q kaggle"
      ],
      "execution_count": 3,
      "outputs": []
    },
    {
      "cell_type": "code",
      "metadata": {
        "id": "lUOQ4SE7Zuj3"
      },
      "source": [
        "## The Kaggle API Client expects this file to be ~/.kaggle\n",
        "!mkdir -p ~/.kaggle\n",
        "!cp kaggle.json ~/.kaggle/"
      ],
      "execution_count": 4,
      "outputs": []
    },
    {
      "cell_type": "code",
      "metadata": {
        "id": "UJcEztjCZxOn"
      },
      "source": [
        "## Permissions' change\n",
        "!chmod 600 ~/.kaggle/kaggle.json"
      ],
      "execution_count": 5,
      "outputs": []
    },
    {
      "cell_type": "code",
      "metadata": {
        "id": "E-u4Tmj7ZUD3",
        "colab": {
          "base_uri": "https://localhost:8080/"
        },
        "outputId": "647f604b-c5e6-4bb6-e6bd-7c23371616fa"
      },
      "source": [
        "!kaggle competitions download -c new-york-city-taxi-fare-prediction"
      ],
      "execution_count": 6,
      "outputs": [
        {
          "output_type": "stream",
          "name": "stdout",
          "text": [
            "Warning: Looks like you're using an outdated API Version, please consider updating (server 1.5.12 / client 1.5.4)\n",
            "Downloading test.csv to /content\n",
            "  0% 0.00/960k [00:00<?, ?B/s]\n",
            "100% 960k/960k [00:00<00:00, 65.6MB/s]\n",
            "Downloading GCP-Coupons-Instructions.rtf to /content\n",
            "  0% 0.00/486 [00:00<?, ?B/s]\n",
            "100% 486/486 [00:00<00:00, 486kB/s]\n",
            "Downloading sample_submission.csv to /content\n",
            "  0% 0.00/335k [00:00<?, ?B/s]\n",
            "100% 335k/335k [00:00<00:00, 98.8MB/s]\n",
            "Downloading train.csv.zip to /content\n",
            "100% 1.56G/1.56G [00:18<00:00, 71.2MB/s]\n",
            "\n"
          ]
        }
      ]
    },
    {
      "cell_type": "code",
      "metadata": {
        "id": "X-0Pe1i4Z2R_",
        "colab": {
          "base_uri": "https://localhost:8080/"
        },
        "outputId": "bb04d0a4-aa71-492e-dc16-b2558554fbf8"
      },
      "source": [
        "!pip install pyGPGO"
      ],
      "execution_count": 7,
      "outputs": [
        {
          "output_type": "stream",
          "name": "stdout",
          "text": [
            "Collecting pyGPGO\n",
            "  Downloading pyGPGO-0.5.1.tar.gz (14 kB)\n",
            "Requirement already satisfied: numpy in /usr/local/lib/python3.7/dist-packages (from pyGPGO) (1.21.5)\n",
            "Requirement already satisfied: mkl in /usr/local/lib/python3.7/dist-packages (from pyGPGO) (2019.0)\n",
            "Requirement already satisfied: scipy in /usr/local/lib/python3.7/dist-packages (from pyGPGO) (1.4.1)\n",
            "Requirement already satisfied: joblib in /usr/local/lib/python3.7/dist-packages (from pyGPGO) (1.1.0)\n",
            "Requirement already satisfied: scikit-learn in /usr/local/lib/python3.7/dist-packages (from pyGPGO) (1.0.2)\n",
            "Requirement already satisfied: Theano-PyMC in /usr/local/lib/python3.7/dist-packages (from pyGPGO) (1.1.2)\n",
            "Requirement already satisfied: pyMC3 in /usr/local/lib/python3.7/dist-packages (from pyGPGO) (3.11.4)\n",
            "Requirement already satisfied: intel-openmp in /usr/local/lib/python3.7/dist-packages (from mkl->pyGPGO) (2022.0.2)\n",
            "Requirement already satisfied: pandas>=0.24.0 in /usr/local/lib/python3.7/dist-packages (from pyMC3->pyGPGO) (1.3.5)\n",
            "Requirement already satisfied: arviz>=0.11.0 in /usr/local/lib/python3.7/dist-packages (from pyMC3->pyGPGO) (0.11.4)\n",
            "Requirement already satisfied: fastprogress>=0.2.0 in /usr/local/lib/python3.7/dist-packages (from pyMC3->pyGPGO) (1.0.2)\n",
            "Requirement already satisfied: dill in /usr/local/lib/python3.7/dist-packages (from pyMC3->pyGPGO) (0.3.4)\n",
            "Requirement already satisfied: typing-extensions>=3.7.4 in /usr/local/lib/python3.7/dist-packages (from pyMC3->pyGPGO) (3.10.0.2)\n",
            "Requirement already satisfied: semver>=2.13.0 in /usr/local/lib/python3.7/dist-packages (from pyMC3->pyGPGO) (2.13.0)\n",
            "Requirement already satisfied: cachetools>=4.2.1 in /usr/local/lib/python3.7/dist-packages (from pyMC3->pyGPGO) (4.2.4)\n",
            "Requirement already satisfied: patsy>=0.5.1 in /usr/local/lib/python3.7/dist-packages (from pyMC3->pyGPGO) (0.5.2)\n",
            "Requirement already satisfied: filelock in /usr/local/lib/python3.7/dist-packages (from Theano-PyMC->pyGPGO) (3.6.0)\n",
            "Requirement already satisfied: netcdf4 in /usr/local/lib/python3.7/dist-packages (from arviz>=0.11.0->pyMC3->pyGPGO) (1.5.8)\n",
            "Requirement already satisfied: xarray>=0.16.1 in /usr/local/lib/python3.7/dist-packages (from arviz>=0.11.0->pyMC3->pyGPGO) (0.18.2)\n",
            "Requirement already satisfied: packaging in /usr/local/lib/python3.7/dist-packages (from arviz>=0.11.0->pyMC3->pyGPGO) (21.3)\n",
            "Requirement already satisfied: matplotlib>=3.0 in /usr/local/lib/python3.7/dist-packages (from arviz>=0.11.0->pyMC3->pyGPGO) (3.2.2)\n",
            "Requirement already satisfied: setuptools>=38.4 in /usr/local/lib/python3.7/dist-packages (from arviz>=0.11.0->pyMC3->pyGPGO) (57.4.0)\n",
            "Requirement already satisfied: pyparsing!=2.0.4,!=2.1.2,!=2.1.6,>=2.0.1 in /usr/local/lib/python3.7/dist-packages (from matplotlib>=3.0->arviz>=0.11.0->pyMC3->pyGPGO) (3.0.7)\n",
            "Requirement already satisfied: cycler>=0.10 in /usr/local/lib/python3.7/dist-packages (from matplotlib>=3.0->arviz>=0.11.0->pyMC3->pyGPGO) (0.11.0)\n",
            "Requirement already satisfied: python-dateutil>=2.1 in /usr/local/lib/python3.7/dist-packages (from matplotlib>=3.0->arviz>=0.11.0->pyMC3->pyGPGO) (2.8.2)\n",
            "Requirement already satisfied: kiwisolver>=1.0.1 in /usr/local/lib/python3.7/dist-packages (from matplotlib>=3.0->arviz>=0.11.0->pyMC3->pyGPGO) (1.3.2)\n",
            "Requirement already satisfied: pytz>=2017.3 in /usr/local/lib/python3.7/dist-packages (from pandas>=0.24.0->pyMC3->pyGPGO) (2018.9)\n",
            "Requirement already satisfied: six in /usr/local/lib/python3.7/dist-packages (from patsy>=0.5.1->pyMC3->pyGPGO) (1.15.0)\n",
            "Requirement already satisfied: cftime in /usr/local/lib/python3.7/dist-packages (from netcdf4->arviz>=0.11.0->pyMC3->pyGPGO) (1.5.2)\n",
            "Requirement already satisfied: threadpoolctl>=2.0.0 in /usr/local/lib/python3.7/dist-packages (from scikit-learn->pyGPGO) (3.1.0)\n",
            "Building wheels for collected packages: pyGPGO\n",
            "  Building wheel for pyGPGO (setup.py) ... \u001b[?25l\u001b[?25hdone\n",
            "  Created wheel for pyGPGO: filename=pyGPGO-0.5.1-py3-none-any.whl size=19879 sha256=cac297f53d8601801c7614f710ebe9b0d9e51350e7221a77c6a3da2bb29a61f4\n",
            "  Stored in directory: /root/.cache/pip/wheels/c8/5d/0b/2160114e2f1b87791c51b66cf07f89831dbb6f49167950316f\n",
            "Successfully built pyGPGO\n",
            "Installing collected packages: pyGPGO\n",
            "Successfully installed pyGPGO-0.5.1\n"
          ]
        }
      ]
    },
    {
      "cell_type": "code",
      "metadata": {
        "id": "W7zDTf1naBsH"
      },
      "source": [
        "# Load some default Python modules:\n",
        "\n",
        "import numpy as np\n",
        "import scipy as sp\n",
        "import pandas as pd\n",
        "import matplotlib.pyplot as plt\n",
        "import xgboost as xgb\n",
        "import time\n",
        "\n",
        "from matplotlib.pyplot import rc\n",
        "rc('font',**{'family':'sans-serif','sans-serif':['Helvetica']})\n",
        "rc('text', usetex=False)\n",
        "import seaborn as sns\n",
        "plt.style.use('seaborn-whitegrid')\n",
        "\n",
        "from collections import OrderedDict\n",
        "from joblib import Parallel, delayed\n",
        "from numpy.linalg import slogdet, inv, cholesky, solve\n",
        "from scipy.optimize import minimize\n",
        "from scipy.spatial.distance import cdist\n",
        "from scipy.special import gamma\n",
        "from scipy.stats import norm, t\n",
        "from joblib import Parallel, delayed\n",
        "import itertools\n",
        "\n",
        "from pyGPGO.logger import EventLogger\n",
        "from pyGPGO.GPGO import GPGO\n",
        "from pyGPGO.surrogates.GaussianProcess import GaussianProcess\n",
        "from pyGPGO.surrogates.tStudentProcess import tStudentProcess\n",
        "from pyGPGO.surrogates.tStudentProcess import logpdf\n",
        "from pyGPGO.acquisition import Acquisition\n",
        "from pyGPGO.covfunc import squaredExponential\n",
        "from sklearn.model_selection import cross_val_score, train_test_split\n",
        "from sklearn.metrics import mean_squared_error\n",
        "from xgboost import XGBRegressor\n",
        "from pandas_datareader import data\n",
        "\n",
        "import warnings\n",
        "import random\n",
        "warnings.filterwarnings(\"ignore\", category=FutureWarning)\n",
        "warnings.filterwarnings(\"ignore\", category=RuntimeWarning)\n",
        "warnings.filterwarnings(\"ignore\", category=UserWarning)"
      ],
      "execution_count": 8,
      "outputs": []
    },
    {
      "cell_type": "code",
      "metadata": {
        "id": "VXicekJhaE0P"
      },
      "source": [
        "# Read data in pandas dataframe:\n",
        "\n",
        "df_train =  pd.read_csv('/content/train.csv.zip', nrows = 1_000_000, parse_dates=[\"pickup_datetime\"])\n"
      ],
      "execution_count": 9,
      "outputs": []
    },
    {
      "cell_type": "code",
      "metadata": {
        "id": "YQ0mDzt_cBmw",
        "colab": {
          "base_uri": "https://localhost:8080/",
          "height": 206
        },
        "outputId": "d73384e8-b35d-4700-b6bb-f6282f037e49"
      },
      "source": [
        "# List first rows:\n",
        "\n",
        "df_train.head()"
      ],
      "execution_count": 10,
      "outputs": [
        {
          "output_type": "execute_result",
          "data": {
            "text/html": [
              "\n",
              "  <div id=\"df-1a45c9dd-4f53-4dfd-8e7e-58cd84a7e28a\">\n",
              "    <div class=\"colab-df-container\">\n",
              "      <div>\n",
              "<style scoped>\n",
              "    .dataframe tbody tr th:only-of-type {\n",
              "        vertical-align: middle;\n",
              "    }\n",
              "\n",
              "    .dataframe tbody tr th {\n",
              "        vertical-align: top;\n",
              "    }\n",
              "\n",
              "    .dataframe thead th {\n",
              "        text-align: right;\n",
              "    }\n",
              "</style>\n",
              "<table border=\"1\" class=\"dataframe\">\n",
              "  <thead>\n",
              "    <tr style=\"text-align: right;\">\n",
              "      <th></th>\n",
              "      <th>key</th>\n",
              "      <th>fare_amount</th>\n",
              "      <th>pickup_datetime</th>\n",
              "      <th>pickup_longitude</th>\n",
              "      <th>pickup_latitude</th>\n",
              "      <th>dropoff_longitude</th>\n",
              "      <th>dropoff_latitude</th>\n",
              "      <th>passenger_count</th>\n",
              "    </tr>\n",
              "  </thead>\n",
              "  <tbody>\n",
              "    <tr>\n",
              "      <th>0</th>\n",
              "      <td>2009-06-15 17:26:21.0000001</td>\n",
              "      <td>4.5</td>\n",
              "      <td>2009-06-15 17:26:21+00:00</td>\n",
              "      <td>-73.844311</td>\n",
              "      <td>40.721319</td>\n",
              "      <td>-73.841610</td>\n",
              "      <td>40.712278</td>\n",
              "      <td>1</td>\n",
              "    </tr>\n",
              "    <tr>\n",
              "      <th>1</th>\n",
              "      <td>2010-01-05 16:52:16.0000002</td>\n",
              "      <td>16.9</td>\n",
              "      <td>2010-01-05 16:52:16+00:00</td>\n",
              "      <td>-74.016048</td>\n",
              "      <td>40.711303</td>\n",
              "      <td>-73.979268</td>\n",
              "      <td>40.782004</td>\n",
              "      <td>1</td>\n",
              "    </tr>\n",
              "    <tr>\n",
              "      <th>2</th>\n",
              "      <td>2011-08-18 00:35:00.00000049</td>\n",
              "      <td>5.7</td>\n",
              "      <td>2011-08-18 00:35:00+00:00</td>\n",
              "      <td>-73.982738</td>\n",
              "      <td>40.761270</td>\n",
              "      <td>-73.991242</td>\n",
              "      <td>40.750562</td>\n",
              "      <td>2</td>\n",
              "    </tr>\n",
              "    <tr>\n",
              "      <th>3</th>\n",
              "      <td>2012-04-21 04:30:42.0000001</td>\n",
              "      <td>7.7</td>\n",
              "      <td>2012-04-21 04:30:42+00:00</td>\n",
              "      <td>-73.987130</td>\n",
              "      <td>40.733143</td>\n",
              "      <td>-73.991567</td>\n",
              "      <td>40.758092</td>\n",
              "      <td>1</td>\n",
              "    </tr>\n",
              "    <tr>\n",
              "      <th>4</th>\n",
              "      <td>2010-03-09 07:51:00.000000135</td>\n",
              "      <td>5.3</td>\n",
              "      <td>2010-03-09 07:51:00+00:00</td>\n",
              "      <td>-73.968095</td>\n",
              "      <td>40.768008</td>\n",
              "      <td>-73.956655</td>\n",
              "      <td>40.783762</td>\n",
              "      <td>1</td>\n",
              "    </tr>\n",
              "  </tbody>\n",
              "</table>\n",
              "</div>\n",
              "      <button class=\"colab-df-convert\" onclick=\"convertToInteractive('df-1a45c9dd-4f53-4dfd-8e7e-58cd84a7e28a')\"\n",
              "              title=\"Convert this dataframe to an interactive table.\"\n",
              "              style=\"display:none;\">\n",
              "        \n",
              "  <svg xmlns=\"http://www.w3.org/2000/svg\" height=\"24px\"viewBox=\"0 0 24 24\"\n",
              "       width=\"24px\">\n",
              "    <path d=\"M0 0h24v24H0V0z\" fill=\"none\"/>\n",
              "    <path d=\"M18.56 5.44l.94 2.06.94-2.06 2.06-.94-2.06-.94-.94-2.06-.94 2.06-2.06.94zm-11 1L8.5 8.5l.94-2.06 2.06-.94-2.06-.94L8.5 2.5l-.94 2.06-2.06.94zm10 10l.94 2.06.94-2.06 2.06-.94-2.06-.94-.94-2.06-.94 2.06-2.06.94z\"/><path d=\"M17.41 7.96l-1.37-1.37c-.4-.4-.92-.59-1.43-.59-.52 0-1.04.2-1.43.59L10.3 9.45l-7.72 7.72c-.78.78-.78 2.05 0 2.83L4 21.41c.39.39.9.59 1.41.59.51 0 1.02-.2 1.41-.59l7.78-7.78 2.81-2.81c.8-.78.8-2.07 0-2.86zM5.41 20L4 18.59l7.72-7.72 1.47 1.35L5.41 20z\"/>\n",
              "  </svg>\n",
              "      </button>\n",
              "      \n",
              "  <style>\n",
              "    .colab-df-container {\n",
              "      display:flex;\n",
              "      flex-wrap:wrap;\n",
              "      gap: 12px;\n",
              "    }\n",
              "\n",
              "    .colab-df-convert {\n",
              "      background-color: #E8F0FE;\n",
              "      border: none;\n",
              "      border-radius: 50%;\n",
              "      cursor: pointer;\n",
              "      display: none;\n",
              "      fill: #1967D2;\n",
              "      height: 32px;\n",
              "      padding: 0 0 0 0;\n",
              "      width: 32px;\n",
              "    }\n",
              "\n",
              "    .colab-df-convert:hover {\n",
              "      background-color: #E2EBFA;\n",
              "      box-shadow: 0px 1px 2px rgba(60, 64, 67, 0.3), 0px 1px 3px 1px rgba(60, 64, 67, 0.15);\n",
              "      fill: #174EA6;\n",
              "    }\n",
              "\n",
              "    [theme=dark] .colab-df-convert {\n",
              "      background-color: #3B4455;\n",
              "      fill: #D2E3FC;\n",
              "    }\n",
              "\n",
              "    [theme=dark] .colab-df-convert:hover {\n",
              "      background-color: #434B5C;\n",
              "      box-shadow: 0px 1px 3px 1px rgba(0, 0, 0, 0.15);\n",
              "      filter: drop-shadow(0px 1px 2px rgba(0, 0, 0, 0.3));\n",
              "      fill: #FFFFFF;\n",
              "    }\n",
              "  </style>\n",
              "\n",
              "      <script>\n",
              "        const buttonEl =\n",
              "          document.querySelector('#df-1a45c9dd-4f53-4dfd-8e7e-58cd84a7e28a button.colab-df-convert');\n",
              "        buttonEl.style.display =\n",
              "          google.colab.kernel.accessAllowed ? 'block' : 'none';\n",
              "\n",
              "        async function convertToInteractive(key) {\n",
              "          const element = document.querySelector('#df-1a45c9dd-4f53-4dfd-8e7e-58cd84a7e28a');\n",
              "          const dataTable =\n",
              "            await google.colab.kernel.invokeFunction('convertToInteractive',\n",
              "                                                     [key], {});\n",
              "          if (!dataTable) return;\n",
              "\n",
              "          const docLinkHtml = 'Like what you see? Visit the ' +\n",
              "            '<a target=\"_blank\" href=https://colab.research.google.com/notebooks/data_table.ipynb>data table notebook</a>'\n",
              "            + ' to learn more about interactive tables.';\n",
              "          element.innerHTML = '';\n",
              "          dataTable['output_type'] = 'display_data';\n",
              "          await google.colab.output.renderOutput(dataTable, element);\n",
              "          const docLink = document.createElement('div');\n",
              "          docLink.innerHTML = docLinkHtml;\n",
              "          element.appendChild(docLink);\n",
              "        }\n",
              "      </script>\n",
              "    </div>\n",
              "  </div>\n",
              "  "
            ],
            "text/plain": [
              "                             key  ...  passenger_count\n",
              "0    2009-06-15 17:26:21.0000001  ...                1\n",
              "1    2010-01-05 16:52:16.0000002  ...                1\n",
              "2   2011-08-18 00:35:00.00000049  ...                2\n",
              "3    2012-04-21 04:30:42.0000001  ...                1\n",
              "4  2010-03-09 07:51:00.000000135  ...                1\n",
              "\n",
              "[5 rows x 8 columns]"
            ]
          },
          "metadata": {},
          "execution_count": 10
        }
      ]
    },
    {
      "cell_type": "code",
      "metadata": {
        "id": "N9fZujMycFMo",
        "colab": {
          "base_uri": "https://localhost:8080/"
        },
        "outputId": "60ef994b-945d-455b-a762-cde007f32b1b"
      },
      "source": [
        "# Format 'pickup_datetime' variable:\n",
        "\n",
        "df_train['pickup_datetime'] =  pd.to_datetime(df_train['pickup_datetime'], utc=True, format='%Y-%m-%d %H:%M')\n",
        "df_train['pickup_datetime'].head()"
      ],
      "execution_count": 11,
      "outputs": [
        {
          "output_type": "execute_result",
          "data": {
            "text/plain": [
              "0   2009-06-15 17:26:21+00:00\n",
              "1   2010-01-05 16:52:16+00:00\n",
              "2   2011-08-18 00:35:00+00:00\n",
              "3   2012-04-21 04:30:42+00:00\n",
              "4   2010-03-09 07:51:00+00:00\n",
              "Name: pickup_datetime, dtype: datetime64[ns, UTC]"
            ]
          },
          "metadata": {},
          "execution_count": 11
        }
      ]
    },
    {
      "cell_type": "code",
      "metadata": {
        "id": "nReKu62HcVFI",
        "colab": {
          "base_uri": "https://localhost:8080/",
          "height": 206
        },
        "outputId": "025d220f-c63e-46fd-918a-934de211fbc1"
      },
      "source": [
        "df_train.sort_values(by = 'pickup_datetime').tail() ### June 2015 the final month\n"
      ],
      "execution_count": 12,
      "outputs": [
        {
          "output_type": "execute_result",
          "data": {
            "text/html": [
              "\n",
              "  <div id=\"df-8ae5a7dc-a151-4486-aaa1-ad2a8a1d0387\">\n",
              "    <div class=\"colab-df-container\">\n",
              "      <div>\n",
              "<style scoped>\n",
              "    .dataframe tbody tr th:only-of-type {\n",
              "        vertical-align: middle;\n",
              "    }\n",
              "\n",
              "    .dataframe tbody tr th {\n",
              "        vertical-align: top;\n",
              "    }\n",
              "\n",
              "    .dataframe thead th {\n",
              "        text-align: right;\n",
              "    }\n",
              "</style>\n",
              "<table border=\"1\" class=\"dataframe\">\n",
              "  <thead>\n",
              "    <tr style=\"text-align: right;\">\n",
              "      <th></th>\n",
              "      <th>key</th>\n",
              "      <th>fare_amount</th>\n",
              "      <th>pickup_datetime</th>\n",
              "      <th>pickup_longitude</th>\n",
              "      <th>pickup_latitude</th>\n",
              "      <th>dropoff_longitude</th>\n",
              "      <th>dropoff_latitude</th>\n",
              "      <th>passenger_count</th>\n",
              "    </tr>\n",
              "  </thead>\n",
              "  <tbody>\n",
              "    <tr>\n",
              "      <th>286276</th>\n",
              "      <td>2015-06-30 23:38:21.0000003</td>\n",
              "      <td>26.5</td>\n",
              "      <td>2015-06-30 23:38:21+00:00</td>\n",
              "      <td>-74.008385</td>\n",
              "      <td>40.711571</td>\n",
              "      <td>-73.884071</td>\n",
              "      <td>40.737385</td>\n",
              "      <td>5</td>\n",
              "    </tr>\n",
              "    <tr>\n",
              "      <th>955575</th>\n",
              "      <td>2015-06-30 23:45:57.0000003</td>\n",
              "      <td>4.0</td>\n",
              "      <td>2015-06-30 23:45:57+00:00</td>\n",
              "      <td>-74.002342</td>\n",
              "      <td>40.739819</td>\n",
              "      <td>-74.005829</td>\n",
              "      <td>40.745239</td>\n",
              "      <td>1</td>\n",
              "    </tr>\n",
              "    <tr>\n",
              "      <th>915826</th>\n",
              "      <td>2015-06-30 23:48:35.0000005</td>\n",
              "      <td>30.5</td>\n",
              "      <td>2015-06-30 23:48:35+00:00</td>\n",
              "      <td>-73.983826</td>\n",
              "      <td>40.729546</td>\n",
              "      <td>-73.927917</td>\n",
              "      <td>40.661186</td>\n",
              "      <td>2</td>\n",
              "    </tr>\n",
              "    <tr>\n",
              "      <th>751350</th>\n",
              "      <td>2015-06-30 23:53:23.0000002</td>\n",
              "      <td>3.5</td>\n",
              "      <td>2015-06-30 23:53:23+00:00</td>\n",
              "      <td>-73.978020</td>\n",
              "      <td>40.757439</td>\n",
              "      <td>-73.980705</td>\n",
              "      <td>40.753544</td>\n",
              "      <td>1</td>\n",
              "    </tr>\n",
              "    <tr>\n",
              "      <th>785182</th>\n",
              "      <td>2015-06-30 23:53:49.0000003</td>\n",
              "      <td>7.5</td>\n",
              "      <td>2015-06-30 23:53:49+00:00</td>\n",
              "      <td>-73.959969</td>\n",
              "      <td>40.762405</td>\n",
              "      <td>-73.953064</td>\n",
              "      <td>40.782688</td>\n",
              "      <td>1</td>\n",
              "    </tr>\n",
              "  </tbody>\n",
              "</table>\n",
              "</div>\n",
              "      <button class=\"colab-df-convert\" onclick=\"convertToInteractive('df-8ae5a7dc-a151-4486-aaa1-ad2a8a1d0387')\"\n",
              "              title=\"Convert this dataframe to an interactive table.\"\n",
              "              style=\"display:none;\">\n",
              "        \n",
              "  <svg xmlns=\"http://www.w3.org/2000/svg\" height=\"24px\"viewBox=\"0 0 24 24\"\n",
              "       width=\"24px\">\n",
              "    <path d=\"M0 0h24v24H0V0z\" fill=\"none\"/>\n",
              "    <path d=\"M18.56 5.44l.94 2.06.94-2.06 2.06-.94-2.06-.94-.94-2.06-.94 2.06-2.06.94zm-11 1L8.5 8.5l.94-2.06 2.06-.94-2.06-.94L8.5 2.5l-.94 2.06-2.06.94zm10 10l.94 2.06.94-2.06 2.06-.94-2.06-.94-.94-2.06-.94 2.06-2.06.94z\"/><path d=\"M17.41 7.96l-1.37-1.37c-.4-.4-.92-.59-1.43-.59-.52 0-1.04.2-1.43.59L10.3 9.45l-7.72 7.72c-.78.78-.78 2.05 0 2.83L4 21.41c.39.39.9.59 1.41.59.51 0 1.02-.2 1.41-.59l7.78-7.78 2.81-2.81c.8-.78.8-2.07 0-2.86zM5.41 20L4 18.59l7.72-7.72 1.47 1.35L5.41 20z\"/>\n",
              "  </svg>\n",
              "      </button>\n",
              "      \n",
              "  <style>\n",
              "    .colab-df-container {\n",
              "      display:flex;\n",
              "      flex-wrap:wrap;\n",
              "      gap: 12px;\n",
              "    }\n",
              "\n",
              "    .colab-df-convert {\n",
              "      background-color: #E8F0FE;\n",
              "      border: none;\n",
              "      border-radius: 50%;\n",
              "      cursor: pointer;\n",
              "      display: none;\n",
              "      fill: #1967D2;\n",
              "      height: 32px;\n",
              "      padding: 0 0 0 0;\n",
              "      width: 32px;\n",
              "    }\n",
              "\n",
              "    .colab-df-convert:hover {\n",
              "      background-color: #E2EBFA;\n",
              "      box-shadow: 0px 1px 2px rgba(60, 64, 67, 0.3), 0px 1px 3px 1px rgba(60, 64, 67, 0.15);\n",
              "      fill: #174EA6;\n",
              "    }\n",
              "\n",
              "    [theme=dark] .colab-df-convert {\n",
              "      background-color: #3B4455;\n",
              "      fill: #D2E3FC;\n",
              "    }\n",
              "\n",
              "    [theme=dark] .colab-df-convert:hover {\n",
              "      background-color: #434B5C;\n",
              "      box-shadow: 0px 1px 3px 1px rgba(0, 0, 0, 0.15);\n",
              "      filter: drop-shadow(0px 1px 2px rgba(0, 0, 0, 0.3));\n",
              "      fill: #FFFFFF;\n",
              "    }\n",
              "  </style>\n",
              "\n",
              "      <script>\n",
              "        const buttonEl =\n",
              "          document.querySelector('#df-8ae5a7dc-a151-4486-aaa1-ad2a8a1d0387 button.colab-df-convert');\n",
              "        buttonEl.style.display =\n",
              "          google.colab.kernel.accessAllowed ? 'block' : 'none';\n",
              "\n",
              "        async function convertToInteractive(key) {\n",
              "          const element = document.querySelector('#df-8ae5a7dc-a151-4486-aaa1-ad2a8a1d0387');\n",
              "          const dataTable =\n",
              "            await google.colab.kernel.invokeFunction('convertToInteractive',\n",
              "                                                     [key], {});\n",
              "          if (!dataTable) return;\n",
              "\n",
              "          const docLinkHtml = 'Like what you see? Visit the ' +\n",
              "            '<a target=\"_blank\" href=https://colab.research.google.com/notebooks/data_table.ipynb>data table notebook</a>'\n",
              "            + ' to learn more about interactive tables.';\n",
              "          element.innerHTML = '';\n",
              "          dataTable['output_type'] = 'display_data';\n",
              "          await google.colab.output.renderOutput(dataTable, element);\n",
              "          const docLink = document.createElement('div');\n",
              "          docLink.innerHTML = docLinkHtml;\n",
              "          element.appendChild(docLink);\n",
              "        }\n",
              "      </script>\n",
              "    </div>\n",
              "  </div>\n",
              "  "
            ],
            "text/plain": [
              "                                key  ...  passenger_count\n",
              "286276  2015-06-30 23:38:21.0000003  ...                5\n",
              "955575  2015-06-30 23:45:57.0000003  ...                1\n",
              "915826  2015-06-30 23:48:35.0000005  ...                2\n",
              "751350  2015-06-30 23:53:23.0000002  ...                1\n",
              "785182  2015-06-30 23:53:49.0000003  ...                1\n",
              "\n",
              "[5 rows x 8 columns]"
            ]
          },
          "metadata": {},
          "execution_count": 12
        }
      ]
    },
    {
      "cell_type": "code",
      "metadata": {
        "id": "W9j9LnIfcXcX"
      },
      "source": [
        "# Add time variables:\n",
        "\n",
        "df_train['hour'] = df_train['pickup_datetime'].dt.hour\n",
        "df_train['weekday'] = df_train['pickup_datetime'].dt.weekday\n",
        "df_train['month'] = df_train['pickup_datetime'].dt.month\n",
        "df_train['year'] = df_train['pickup_datetime'].dt.year\n"
      ],
      "execution_count": 13,
      "outputs": []
    },
    {
      "cell_type": "code",
      "metadata": {
        "id": "rVyFZIVIcaj3",
        "colab": {
          "base_uri": "https://localhost:8080/",
          "height": 206
        },
        "outputId": "a0dfc1e0-9de6-4bf5-c6c9-dfe4d37ed5dd"
      },
      "source": [
        "df_train = df_train.drop(['pickup_datetime','key'], axis = 1)\n",
        "df_train.head()\n"
      ],
      "execution_count": 14,
      "outputs": [
        {
          "output_type": "execute_result",
          "data": {
            "text/html": [
              "\n",
              "  <div id=\"df-bb65f5a8-263d-4bcf-8f8e-9a8c9e976547\">\n",
              "    <div class=\"colab-df-container\">\n",
              "      <div>\n",
              "<style scoped>\n",
              "    .dataframe tbody tr th:only-of-type {\n",
              "        vertical-align: middle;\n",
              "    }\n",
              "\n",
              "    .dataframe tbody tr th {\n",
              "        vertical-align: top;\n",
              "    }\n",
              "\n",
              "    .dataframe thead th {\n",
              "        text-align: right;\n",
              "    }\n",
              "</style>\n",
              "<table border=\"1\" class=\"dataframe\">\n",
              "  <thead>\n",
              "    <tr style=\"text-align: right;\">\n",
              "      <th></th>\n",
              "      <th>fare_amount</th>\n",
              "      <th>pickup_longitude</th>\n",
              "      <th>pickup_latitude</th>\n",
              "      <th>dropoff_longitude</th>\n",
              "      <th>dropoff_latitude</th>\n",
              "      <th>passenger_count</th>\n",
              "      <th>hour</th>\n",
              "      <th>weekday</th>\n",
              "      <th>month</th>\n",
              "      <th>year</th>\n",
              "    </tr>\n",
              "  </thead>\n",
              "  <tbody>\n",
              "    <tr>\n",
              "      <th>0</th>\n",
              "      <td>4.5</td>\n",
              "      <td>-73.844311</td>\n",
              "      <td>40.721319</td>\n",
              "      <td>-73.841610</td>\n",
              "      <td>40.712278</td>\n",
              "      <td>1</td>\n",
              "      <td>17</td>\n",
              "      <td>0</td>\n",
              "      <td>6</td>\n",
              "      <td>2009</td>\n",
              "    </tr>\n",
              "    <tr>\n",
              "      <th>1</th>\n",
              "      <td>16.9</td>\n",
              "      <td>-74.016048</td>\n",
              "      <td>40.711303</td>\n",
              "      <td>-73.979268</td>\n",
              "      <td>40.782004</td>\n",
              "      <td>1</td>\n",
              "      <td>16</td>\n",
              "      <td>1</td>\n",
              "      <td>1</td>\n",
              "      <td>2010</td>\n",
              "    </tr>\n",
              "    <tr>\n",
              "      <th>2</th>\n",
              "      <td>5.7</td>\n",
              "      <td>-73.982738</td>\n",
              "      <td>40.761270</td>\n",
              "      <td>-73.991242</td>\n",
              "      <td>40.750562</td>\n",
              "      <td>2</td>\n",
              "      <td>0</td>\n",
              "      <td>3</td>\n",
              "      <td>8</td>\n",
              "      <td>2011</td>\n",
              "    </tr>\n",
              "    <tr>\n",
              "      <th>3</th>\n",
              "      <td>7.7</td>\n",
              "      <td>-73.987130</td>\n",
              "      <td>40.733143</td>\n",
              "      <td>-73.991567</td>\n",
              "      <td>40.758092</td>\n",
              "      <td>1</td>\n",
              "      <td>4</td>\n",
              "      <td>5</td>\n",
              "      <td>4</td>\n",
              "      <td>2012</td>\n",
              "    </tr>\n",
              "    <tr>\n",
              "      <th>4</th>\n",
              "      <td>5.3</td>\n",
              "      <td>-73.968095</td>\n",
              "      <td>40.768008</td>\n",
              "      <td>-73.956655</td>\n",
              "      <td>40.783762</td>\n",
              "      <td>1</td>\n",
              "      <td>7</td>\n",
              "      <td>1</td>\n",
              "      <td>3</td>\n",
              "      <td>2010</td>\n",
              "    </tr>\n",
              "  </tbody>\n",
              "</table>\n",
              "</div>\n",
              "      <button class=\"colab-df-convert\" onclick=\"convertToInteractive('df-bb65f5a8-263d-4bcf-8f8e-9a8c9e976547')\"\n",
              "              title=\"Convert this dataframe to an interactive table.\"\n",
              "              style=\"display:none;\">\n",
              "        \n",
              "  <svg xmlns=\"http://www.w3.org/2000/svg\" height=\"24px\"viewBox=\"0 0 24 24\"\n",
              "       width=\"24px\">\n",
              "    <path d=\"M0 0h24v24H0V0z\" fill=\"none\"/>\n",
              "    <path d=\"M18.56 5.44l.94 2.06.94-2.06 2.06-.94-2.06-.94-.94-2.06-.94 2.06-2.06.94zm-11 1L8.5 8.5l.94-2.06 2.06-.94-2.06-.94L8.5 2.5l-.94 2.06-2.06.94zm10 10l.94 2.06.94-2.06 2.06-.94-2.06-.94-.94-2.06-.94 2.06-2.06.94z\"/><path d=\"M17.41 7.96l-1.37-1.37c-.4-.4-.92-.59-1.43-.59-.52 0-1.04.2-1.43.59L10.3 9.45l-7.72 7.72c-.78.78-.78 2.05 0 2.83L4 21.41c.39.39.9.59 1.41.59.51 0 1.02-.2 1.41-.59l7.78-7.78 2.81-2.81c.8-.78.8-2.07 0-2.86zM5.41 20L4 18.59l7.72-7.72 1.47 1.35L5.41 20z\"/>\n",
              "  </svg>\n",
              "      </button>\n",
              "      \n",
              "  <style>\n",
              "    .colab-df-container {\n",
              "      display:flex;\n",
              "      flex-wrap:wrap;\n",
              "      gap: 12px;\n",
              "    }\n",
              "\n",
              "    .colab-df-convert {\n",
              "      background-color: #E8F0FE;\n",
              "      border: none;\n",
              "      border-radius: 50%;\n",
              "      cursor: pointer;\n",
              "      display: none;\n",
              "      fill: #1967D2;\n",
              "      height: 32px;\n",
              "      padding: 0 0 0 0;\n",
              "      width: 32px;\n",
              "    }\n",
              "\n",
              "    .colab-df-convert:hover {\n",
              "      background-color: #E2EBFA;\n",
              "      box-shadow: 0px 1px 2px rgba(60, 64, 67, 0.3), 0px 1px 3px 1px rgba(60, 64, 67, 0.15);\n",
              "      fill: #174EA6;\n",
              "    }\n",
              "\n",
              "    [theme=dark] .colab-df-convert {\n",
              "      background-color: #3B4455;\n",
              "      fill: #D2E3FC;\n",
              "    }\n",
              "\n",
              "    [theme=dark] .colab-df-convert:hover {\n",
              "      background-color: #434B5C;\n",
              "      box-shadow: 0px 1px 3px 1px rgba(0, 0, 0, 0.15);\n",
              "      filter: drop-shadow(0px 1px 2px rgba(0, 0, 0, 0.3));\n",
              "      fill: #FFFFFF;\n",
              "    }\n",
              "  </style>\n",
              "\n",
              "      <script>\n",
              "        const buttonEl =\n",
              "          document.querySelector('#df-bb65f5a8-263d-4bcf-8f8e-9a8c9e976547 button.colab-df-convert');\n",
              "        buttonEl.style.display =\n",
              "          google.colab.kernel.accessAllowed ? 'block' : 'none';\n",
              "\n",
              "        async function convertToInteractive(key) {\n",
              "          const element = document.querySelector('#df-bb65f5a8-263d-4bcf-8f8e-9a8c9e976547');\n",
              "          const dataTable =\n",
              "            await google.colab.kernel.invokeFunction('convertToInteractive',\n",
              "                                                     [key], {});\n",
              "          if (!dataTable) return;\n",
              "\n",
              "          const docLinkHtml = 'Like what you see? Visit the ' +\n",
              "            '<a target=\"_blank\" href=https://colab.research.google.com/notebooks/data_table.ipynb>data table notebook</a>'\n",
              "            + ' to learn more about interactive tables.';\n",
              "          element.innerHTML = '';\n",
              "          dataTable['output_type'] = 'display_data';\n",
              "          await google.colab.output.renderOutput(dataTable, element);\n",
              "          const docLink = document.createElement('div');\n",
              "          docLink.innerHTML = docLinkHtml;\n",
              "          element.appendChild(docLink);\n",
              "        }\n",
              "      </script>\n",
              "    </div>\n",
              "  </div>\n",
              "  "
            ],
            "text/plain": [
              "   fare_amount  pickup_longitude  pickup_latitude  ...  weekday  month  year\n",
              "0          4.5        -73.844311        40.721319  ...        0      6  2009\n",
              "1         16.9        -74.016048        40.711303  ...        1      1  2010\n",
              "2          5.7        -73.982738        40.761270  ...        3      8  2011\n",
              "3          7.7        -73.987130        40.733143  ...        5      4  2012\n",
              "4          5.3        -73.968095        40.768008  ...        1      3  2010\n",
              "\n",
              "[5 rows x 10 columns]"
            ]
          },
          "metadata": {},
          "execution_count": 14
        }
      ]
    },
    {
      "cell_type": "code",
      "metadata": {
        "id": "PVfm-KSqcdVY",
        "colab": {
          "base_uri": "https://localhost:8080/"
        },
        "outputId": "8840e32e-e9e0-467b-8de9-11bc6a8cd49c"
      },
      "source": [
        "# Remove negative fares and postive outliers:\n",
        "\n",
        "df_train = df_train[df_train.fare_amount>=0]\n",
        "df_train = df_train[df_train.fare_amount<=60]\n",
        "print('New size: %d' % len(df_train))"
      ],
      "execution_count": 15,
      "outputs": [
        {
          "output_type": "stream",
          "name": "stdout",
          "text": [
            "New size: 997297\n"
          ]
        }
      ]
    },
    {
      "cell_type": "code",
      "metadata": {
        "id": "KTVDAD2KchTv",
        "colab": {
          "base_uri": "https://localhost:8080/"
        },
        "outputId": "1802abeb-7e36-41ea-c624-fbdac9e37291"
      },
      "source": [
        "# Remove missing data:\n",
        "\n",
        "df_train = df_train.dropna(how = 'any', axis = 'rows')\n",
        "print('New size: %d' % len(df_train))"
      ],
      "execution_count": 16,
      "outputs": [
        {
          "output_type": "stream",
          "name": "stdout",
          "text": [
            "New size: 997288\n"
          ]
        }
      ]
    },
    {
      "cell_type": "code",
      "metadata": {
        "id": "sUYksJ2cclVQ",
        "colab": {
          "base_uri": "https://localhost:8080/"
        },
        "outputId": "8c4a7066-2fc4-4b67-88d5-97c4227ed677"
      },
      "source": [
        "# June 2015 NYC taxi data (Wu et al, 2017):\n",
        "\n",
        "df_train = df_train[df_train.month==6]\n",
        "df_train = df_train[df_train.year==2015]\n",
        "print('New size: %d' % len(df_train))"
      ],
      "execution_count": 17,
      "outputs": [
        {
          "output_type": "stream",
          "name": "stdout",
          "text": [
            "New size: 11269\n"
          ]
        }
      ]
    },
    {
      "cell_type": "code",
      "metadata": {
        "id": "OXgSHPyYcnuv",
        "colab": {
          "base_uri": "https://localhost:8080/",
          "height": 381
        },
        "outputId": "faafe678-966f-49c4-aaeb-2d9fdb434e4c"
      },
      "source": [
        "# Histogram fare plot:\n",
        "\n",
        "df_train[df_train.fare_amount<15].fare_amount.hist(bins=100, figsize=(16,5), color = \"red\")\n",
        "plt.xlabel('$ US Dollars', weight = 'bold', family = 'Arial')\n",
        "plt.title('June 2015 Fares', weight = 'bold', family = 'Arial')\n",
        "plt.grid(b=None)"
      ],
      "execution_count": 18,
      "outputs": [
        {
          "output_type": "stream",
          "name": "stderr",
          "text": [
            "findfont: Font family ['Arial'] not found. Falling back to DejaVu Sans.\n",
            "findfont: Font family ['Arial'] not found. Falling back to DejaVu Sans.\n"
          ]
        },
        {
          "output_type": "display_data",
          "data": {
            "image/png": "[encoded data removed]",
            "text/plain": [
              "<Figure size 1152x360 with 1 Axes>"
            ]
          },
          "metadata": {}
        }
      ]
    },
    {
      "cell_type": "code",
      "metadata": {
        "id": "9TMSdAAjcr4o",
        "colab": {
          "base_uri": "https://localhost:8080/"
        },
        "outputId": "5c56c6c6-8a2c-4729-d4a0-bf7a10da9ec4"
      },
      "source": [
        "y = df_train.fare_amount.values + 1e-10\n",
        "y ### for supervised learning: output vector y"
      ],
      "execution_count": 19,
      "outputs": [
        {
          "output_type": "execute_result",
          "data": {
            "text/plain": [
              "array([22.54,  8.  , 34.  , ...,  4.5 ,  6.5 ,  7.  ])"
            ]
          },
          "metadata": {},
          "execution_count": 19
        }
      ]
    },
    {
      "cell_type": "code",
      "metadata": {
        "id": "6FOeHvi3cu1n",
        "colab": {
          "base_uri": "https://localhost:8080/",
          "height": 206
        },
        "outputId": "3c93f725-20ba-4981-d0b6-623d9338a97d"
      },
      "source": [
        "# List first rows (post-cleaning):\n",
        "\n",
        "df_train.head()"
      ],
      "execution_count": 20,
      "outputs": [
        {
          "output_type": "execute_result",
          "data": {
            "text/html": [
              "\n",
              "  <div id=\"df-2ec2a493-7f63-4b19-8ec4-0116899db07b\">\n",
              "    <div class=\"colab-df-container\">\n",
              "      <div>\n",
              "<style scoped>\n",
              "    .dataframe tbody tr th:only-of-type {\n",
              "        vertical-align: middle;\n",
              "    }\n",
              "\n",
              "    .dataframe tbody tr th {\n",
              "        vertical-align: top;\n",
              "    }\n",
              "\n",
              "    .dataframe thead th {\n",
              "        text-align: right;\n",
              "    }\n",
              "</style>\n",
              "<table border=\"1\" class=\"dataframe\">\n",
              "  <thead>\n",
              "    <tr style=\"text-align: right;\">\n",
              "      <th></th>\n",
              "      <th>fare_amount</th>\n",
              "      <th>pickup_longitude</th>\n",
              "      <th>pickup_latitude</th>\n",
              "      <th>dropoff_longitude</th>\n",
              "      <th>dropoff_latitude</th>\n",
              "      <th>passenger_count</th>\n",
              "      <th>hour</th>\n",
              "      <th>weekday</th>\n",
              "      <th>month</th>\n",
              "      <th>year</th>\n",
              "    </tr>\n",
              "  </thead>\n",
              "  <tbody>\n",
              "    <tr>\n",
              "      <th>31</th>\n",
              "      <td>22.54</td>\n",
              "      <td>-74.010483</td>\n",
              "      <td>40.717667</td>\n",
              "      <td>-73.985771</td>\n",
              "      <td>40.660366</td>\n",
              "      <td>1</td>\n",
              "      <td>21</td>\n",
              "      <td>6</td>\n",
              "      <td>6</td>\n",
              "      <td>2015</td>\n",
              "    </tr>\n",
              "    <tr>\n",
              "      <th>310</th>\n",
              "      <td>8.00</td>\n",
              "      <td>-74.010727</td>\n",
              "      <td>40.710091</td>\n",
              "      <td>-73.998100</td>\n",
              "      <td>40.722900</td>\n",
              "      <td>1</td>\n",
              "      <td>9</td>\n",
              "      <td>5</td>\n",
              "      <td>6</td>\n",
              "      <td>2015</td>\n",
              "    </tr>\n",
              "    <tr>\n",
              "      <th>314</th>\n",
              "      <td>34.00</td>\n",
              "      <td>-73.974899</td>\n",
              "      <td>40.751095</td>\n",
              "      <td>-73.908546</td>\n",
              "      <td>40.881878</td>\n",
              "      <td>0</td>\n",
              "      <td>23</td>\n",
              "      <td>1</td>\n",
              "      <td>6</td>\n",
              "      <td>2015</td>\n",
              "    </tr>\n",
              "    <tr>\n",
              "      <th>321</th>\n",
              "      <td>8.00</td>\n",
              "      <td>-73.961784</td>\n",
              "      <td>40.759579</td>\n",
              "      <td>-73.978943</td>\n",
              "      <td>40.772606</td>\n",
              "      <td>4</td>\n",
              "      <td>21</td>\n",
              "      <td>0</td>\n",
              "      <td>6</td>\n",
              "      <td>2015</td>\n",
              "    </tr>\n",
              "    <tr>\n",
              "      <th>486</th>\n",
              "      <td>11.50</td>\n",
              "      <td>-73.957443</td>\n",
              "      <td>40.761703</td>\n",
              "      <td>-73.973236</td>\n",
              "      <td>40.787079</td>\n",
              "      <td>1</td>\n",
              "      <td>19</td>\n",
              "      <td>0</td>\n",
              "      <td>6</td>\n",
              "      <td>2015</td>\n",
              "    </tr>\n",
              "  </tbody>\n",
              "</table>\n",
              "</div>\n",
              "      <button class=\"colab-df-convert\" onclick=\"convertToInteractive('df-2ec2a493-7f63-4b19-8ec4-0116899db07b')\"\n",
              "              title=\"Convert this dataframe to an interactive table.\"\n",
              "              style=\"display:none;\">\n",
              "        \n",
              "  <svg xmlns=\"http://www.w3.org/2000/svg\" height=\"24px\"viewBox=\"0 0 24 24\"\n",
              "       width=\"24px\">\n",
              "    <path d=\"M0 0h24v24H0V0z\" fill=\"none\"/>\n",
              "    <path d=\"M18.56 5.44l.94 2.06.94-2.06 2.06-.94-2.06-.94-.94-2.06-.94 2.06-2.06.94zm-11 1L8.5 8.5l.94-2.06 2.06-.94-2.06-.94L8.5 2.5l-.94 2.06-2.06.94zm10 10l.94 2.06.94-2.06 2.06-.94-2.06-.94-.94-2.06-.94 2.06-2.06.94z\"/><path d=\"M17.41 7.96l-1.37-1.37c-.4-.4-.92-.59-1.43-.59-.52 0-1.04.2-1.43.59L10.3 9.45l-7.72 7.72c-.78.78-.78 2.05 0 2.83L4 21.41c.39.39.9.59 1.41.59.51 0 1.02-.2 1.41-.59l7.78-7.78 2.81-2.81c.8-.78.8-2.07 0-2.86zM5.41 20L4 18.59l7.72-7.72 1.47 1.35L5.41 20z\"/>\n",
              "  </svg>\n",
              "      </button>\n",
              "      \n",
              "  <style>\n",
              "    .colab-df-container {\n",
              "      display:flex;\n",
              "      flex-wrap:wrap;\n",
              "      gap: 12px;\n",
              "    }\n",
              "\n",
              "    .colab-df-convert {\n",
              "      background-color: #E8F0FE;\n",
              "      border: none;\n",
              "      border-radius: 50%;\n",
              "      cursor: pointer;\n",
              "      display: none;\n",
              "      fill: #1967D2;\n",
              "      height: 32px;\n",
              "      padding: 0 0 0 0;\n",
              "      width: 32px;\n",
              "    }\n",
              "\n",
              "    .colab-df-convert:hover {\n",
              "      background-color: #E2EBFA;\n",
              "      box-shadow: 0px 1px 2px rgba(60, 64, 67, 0.3), 0px 1px 3px 1px rgba(60, 64, 67, 0.15);\n",
              "      fill: #174EA6;\n",
              "    }\n",
              "\n",
              "    [theme=dark] .colab-df-convert {\n",
              "      background-color: #3B4455;\n",
              "      fill: #D2E3FC;\n",
              "    }\n",
              "\n",
              "    [theme=dark] .colab-df-convert:hover {\n",
              "      background-color: #434B5C;\n",
              "      box-shadow: 0px 1px 3px 1px rgba(0, 0, 0, 0.15);\n",
              "      filter: drop-shadow(0px 1px 2px rgba(0, 0, 0, 0.3));\n",
              "      fill: #FFFFFF;\n",
              "    }\n",
              "  </style>\n",
              "\n",
              "      <script>\n",
              "        const buttonEl =\n",
              "          document.querySelector('#df-2ec2a493-7f63-4b19-8ec4-0116899db07b button.colab-df-convert');\n",
              "        buttonEl.style.display =\n",
              "          google.colab.kernel.accessAllowed ? 'block' : 'none';\n",
              "\n",
              "        async function convertToInteractive(key) {\n",
              "          const element = document.querySelector('#df-2ec2a493-7f63-4b19-8ec4-0116899db07b');\n",
              "          const dataTable =\n",
              "            await google.colab.kernel.invokeFunction('convertToInteractive',\n",
              "                                                     [key], {});\n",
              "          if (!dataTable) return;\n",
              "\n",
              "          const docLinkHtml = 'Like what you see? Visit the ' +\n",
              "            '<a target=\"_blank\" href=https://colab.research.google.com/notebooks/data_table.ipynb>data table notebook</a>'\n",
              "            + ' to learn more about interactive tables.';\n",
              "          element.innerHTML = '';\n",
              "          dataTable['output_type'] = 'display_data';\n",
              "          await google.colab.output.renderOutput(dataTable, element);\n",
              "          const docLink = document.createElement('div');\n",
              "          docLink.innerHTML = docLinkHtml;\n",
              "          element.appendChild(docLink);\n",
              "        }\n",
              "      </script>\n",
              "    </div>\n",
              "  </div>\n",
              "  "
            ],
            "text/plain": [
              "     fare_amount  pickup_longitude  pickup_latitude  ...  weekday  month  year\n",
              "31         22.54        -74.010483        40.717667  ...        6      6  2015\n",
              "310         8.00        -74.010727        40.710091  ...        5      6  2015\n",
              "314        34.00        -73.974899        40.751095  ...        1      6  2015\n",
              "321         8.00        -73.961784        40.759579  ...        0      6  2015\n",
              "486        11.50        -73.957443        40.761703  ...        0      6  2015\n",
              "\n",
              "[5 rows x 10 columns]"
            ]
          },
          "metadata": {},
          "execution_count": 20
        }
      ]
    },
    {
      "cell_type": "code",
      "metadata": {
        "id": "n-lT9BBicw4P",
        "colab": {
          "base_uri": "https://localhost:8080/",
          "height": 206
        },
        "outputId": "9aae288a-2333-4953-9b46-a7b2930469dd"
      },
      "source": [
        "X = df_train.drop(['fare_amount', 'month', 'year'], axis = 1)\n",
        "X.head() ### for supervised learning: input matrix X"
      ],
      "execution_count": 21,
      "outputs": [
        {
          "output_type": "execute_result",
          "data": {
            "text/html": [
              "\n",
              "  <div id=\"df-f04c8bde-414c-4d31-bc04-632c6e3e328b\">\n",
              "    <div class=\"colab-df-container\">\n",
              "      <div>\n",
              "<style scoped>\n",
              "    .dataframe tbody tr th:only-of-type {\n",
              "        vertical-align: middle;\n",
              "    }\n",
              "\n",
              "    .dataframe tbody tr th {\n",
              "        vertical-align: top;\n",
              "    }\n",
              "\n",
              "    .dataframe thead th {\n",
              "        text-align: right;\n",
              "    }\n",
              "</style>\n",
              "<table border=\"1\" class=\"dataframe\">\n",
              "  <thead>\n",
              "    <tr style=\"text-align: right;\">\n",
              "      <th></th>\n",
              "      <th>pickup_longitude</th>\n",
              "      <th>pickup_latitude</th>\n",
              "      <th>dropoff_longitude</th>\n",
              "      <th>dropoff_latitude</th>\n",
              "      <th>passenger_count</th>\n",
              "      <th>hour</th>\n",
              "      <th>weekday</th>\n",
              "    </tr>\n",
              "  </thead>\n",
              "  <tbody>\n",
              "    <tr>\n",
              "      <th>31</th>\n",
              "      <td>-74.010483</td>\n",
              "      <td>40.717667</td>\n",
              "      <td>-73.985771</td>\n",
              "      <td>40.660366</td>\n",
              "      <td>1</td>\n",
              "      <td>21</td>\n",
              "      <td>6</td>\n",
              "    </tr>\n",
              "    <tr>\n",
              "      <th>310</th>\n",
              "      <td>-74.010727</td>\n",
              "      <td>40.710091</td>\n",
              "      <td>-73.998100</td>\n",
              "      <td>40.722900</td>\n",
              "      <td>1</td>\n",
              "      <td>9</td>\n",
              "      <td>5</td>\n",
              "    </tr>\n",
              "    <tr>\n",
              "      <th>314</th>\n",
              "      <td>-73.974899</td>\n",
              "      <td>40.751095</td>\n",
              "      <td>-73.908546</td>\n",
              "      <td>40.881878</td>\n",
              "      <td>0</td>\n",
              "      <td>23</td>\n",
              "      <td>1</td>\n",
              "    </tr>\n",
              "    <tr>\n",
              "      <th>321</th>\n",
              "      <td>-73.961784</td>\n",
              "      <td>40.759579</td>\n",
              "      <td>-73.978943</td>\n",
              "      <td>40.772606</td>\n",
              "      <td>4</td>\n",
              "      <td>21</td>\n",
              "      <td>0</td>\n",
              "    </tr>\n",
              "    <tr>\n",
              "      <th>486</th>\n",
              "      <td>-73.957443</td>\n",
              "      <td>40.761703</td>\n",
              "      <td>-73.973236</td>\n",
              "      <td>40.787079</td>\n",
              "      <td>1</td>\n",
              "      <td>19</td>\n",
              "      <td>0</td>\n",
              "    </tr>\n",
              "  </tbody>\n",
              "</table>\n",
              "</div>\n",
              "      <button class=\"colab-df-convert\" onclick=\"convertToInteractive('df-f04c8bde-414c-4d31-bc04-632c6e3e328b')\"\n",
              "              title=\"Convert this dataframe to an interactive table.\"\n",
              "              style=\"display:none;\">\n",
              "        \n",
              "  <svg xmlns=\"http://www.w3.org/2000/svg\" height=\"24px\"viewBox=\"0 0 24 24\"\n",
              "       width=\"24px\">\n",
              "    <path d=\"M0 0h24v24H0V0z\" fill=\"none\"/>\n",
              "    <path d=\"M18.56 5.44l.94 2.06.94-2.06 2.06-.94-2.06-.94-.94-2.06-.94 2.06-2.06.94zm-11 1L8.5 8.5l.94-2.06 2.06-.94-2.06-.94L8.5 2.5l-.94 2.06-2.06.94zm10 10l.94 2.06.94-2.06 2.06-.94-2.06-.94-.94-2.06-.94 2.06-2.06.94z\"/><path d=\"M17.41 7.96l-1.37-1.37c-.4-.4-.92-.59-1.43-.59-.52 0-1.04.2-1.43.59L10.3 9.45l-7.72 7.72c-.78.78-.78 2.05 0 2.83L4 21.41c.39.39.9.59 1.41.59.51 0 1.02-.2 1.41-.59l7.78-7.78 2.81-2.81c.8-.78.8-2.07 0-2.86zM5.41 20L4 18.59l7.72-7.72 1.47 1.35L5.41 20z\"/>\n",
              "  </svg>\n",
              "      </button>\n",
              "      \n",
              "  <style>\n",
              "    .colab-df-container {\n",
              "      display:flex;\n",
              "      flex-wrap:wrap;\n",
              "      gap: 12px;\n",
              "    }\n",
              "\n",
              "    .colab-df-convert {\n",
              "      background-color: #E8F0FE;\n",
              "      border: none;\n",
              "      border-radius: 50%;\n",
              "      cursor: pointer;\n",
              "      display: none;\n",
              "      fill: #1967D2;\n",
              "      height: 32px;\n",
              "      padding: 0 0 0 0;\n",
              "      width: 32px;\n",
              "    }\n",
              "\n",
              "    .colab-df-convert:hover {\n",
              "      background-color: #E2EBFA;\n",
              "      box-shadow: 0px 1px 2px rgba(60, 64, 67, 0.3), 0px 1px 3px 1px rgba(60, 64, 67, 0.15);\n",
              "      fill: #174EA6;\n",
              "    }\n",
              "\n",
              "    [theme=dark] .colab-df-convert {\n",
              "      background-color: #3B4455;\n",
              "      fill: #D2E3FC;\n",
              "    }\n",
              "\n",
              "    [theme=dark] .colab-df-convert:hover {\n",
              "      background-color: #434B5C;\n",
              "      box-shadow: 0px 1px 3px 1px rgba(0, 0, 0, 0.15);\n",
              "      filter: drop-shadow(0px 1px 2px rgba(0, 0, 0, 0.3));\n",
              "      fill: #FFFFFF;\n",
              "    }\n",
              "  </style>\n",
              "\n",
              "      <script>\n",
              "        const buttonEl =\n",
              "          document.querySelector('#df-f04c8bde-414c-4d31-bc04-632c6e3e328b button.colab-df-convert');\n",
              "        buttonEl.style.display =\n",
              "          google.colab.kernel.accessAllowed ? 'block' : 'none';\n",
              "\n",
              "        async function convertToInteractive(key) {\n",
              "          const element = document.querySelector('#df-f04c8bde-414c-4d31-bc04-632c6e3e328b');\n",
              "          const dataTable =\n",
              "            await google.colab.kernel.invokeFunction('convertToInteractive',\n",
              "                                                     [key], {});\n",
              "          if (!dataTable) return;\n",
              "\n",
              "          const docLinkHtml = 'Like what you see? Visit the ' +\n",
              "            '<a target=\"_blank\" href=https://colab.research.google.com/notebooks/data_table.ipynb>data table notebook</a>'\n",
              "            + ' to learn more about interactive tables.';\n",
              "          element.innerHTML = '';\n",
              "          dataTable['output_type'] = 'display_data';\n",
              "          await google.colab.output.renderOutput(dataTable, element);\n",
              "          const docLink = document.createElement('div');\n",
              "          docLink.innerHTML = docLinkHtml;\n",
              "          element.appendChild(docLink);\n",
              "        }\n",
              "      </script>\n",
              "    </div>\n",
              "  </div>\n",
              "  "
            ],
            "text/plain": [
              "     pickup_longitude  pickup_latitude  ...  hour  weekday\n",
              "31         -74.010483        40.717667  ...    21        6\n",
              "310        -74.010727        40.710091  ...     9        5\n",
              "314        -73.974899        40.751095  ...    23        1\n",
              "321        -73.961784        40.759579  ...    21        0\n",
              "486        -73.957443        40.761703  ...    19        0\n",
              "\n",
              "[5 rows x 7 columns]"
            ]
          },
          "metadata": {},
          "execution_count": 21
        }
      ]
    },
    {
      "cell_type": "code",
      "metadata": {
        "id": "2eC8SDPzczNY"
      },
      "source": [
        "### Optimum rmse: regression model objective function is Root Mean Square Error (RMSE); \n",
        "### Should be minimized (as close to zero as possible):\n",
        "\n",
        "y_global_orig = 0"
      ],
      "execution_count": 22,
      "outputs": []
    },
    {
      "cell_type": "code",
      "metadata": {
        "id": "GoTmWEhSc1qQ"
      },
      "source": [
        "### Bayesian Optimization - inputs:\n",
        "\n",
        "obj_func = 'XGBoost'\n",
        "n_test = 500 # test points\n",
        "\n",
        "util_approx = 'ExpectedImprovement'\n",
        "util_exact = 'dEI_GP'\n",
        "n_init = 5 # random initialisations\n",
        "opt = True\n",
        "\n",
        "test_perc = 0.667\n",
        "train_perc = 1 - test_perc\n",
        "\n",
        "n_test = int(len(df_train) * test_perc)\n",
        "n_train = int(len(df_train) - n_test)\n",
        "\n",
        "eps = 1e-08"
      ],
      "execution_count": 23,
      "outputs": []
    },
    {
      "cell_type": "code",
      "metadata": {
        "id": "W2ngnRxbc7cg"
      },
      "source": [
        "### Objective function:\n",
        "\n",
        "if obj_func == 'XGBoost': # 6-D\n",
        "            \n",
        "    # Constraints:\n",
        "    param_lb_alpha = 0\n",
        "    param_ub_alpha = 10\n",
        "    \n",
        "    param_lb_gamma = 0\n",
        "    param_ub_gamma = 10\n",
        "    \n",
        "    param_lb_max_depth = 5\n",
        "    param_ub_max_depth = 15\n",
        "    \n",
        "    param_lb_min_child_weight = 1\n",
        "    param_ub_min_child_weight = 20\n",
        "    \n",
        "    param_lb_subsample = .5\n",
        "    param_ub_subsample = 1\n",
        "    \n",
        "    param_lb_colsample = .1\n",
        "    param_ub_colsample = 1\n",
        "    \n",
        "    # 6-D inputs' parameter bounds:\n",
        "    param = { 'alpha':  ('cont', (param_lb_alpha, param_ub_alpha)),\n",
        "         'gamma':  ('cont', (param_lb_gamma, param_ub_gamma)),     \n",
        "         'max_depth':  ('int', (param_lb_max_depth, param_ub_max_depth)),\n",
        "         'subsample':  ('cont', (param_lb_subsample, param_ub_subsample)),\n",
        "          'min_child_weight':  ('int', (param_lb_min_child_weight, param_ub_min_child_weight)),\n",
        "            'colsample': ('cont', (param_lb_colsample, param_ub_colsample))\n",
        "        }\n",
        "       \n",
        "    # True y bounds:\n",
        "    dim = 6\n",
        "    \n",
        "    max_iter = 30  # iterations of Bayesian optimization\n",
        "    \n",
        "    operator = 1 \n",
        "    \n",
        "    n_est = 3"
      ],
      "execution_count": 24,
      "outputs": []
    },
    {
      "cell_type": "code",
      "metadata": {
        "id": "_3pmZYhVl9Hb"
      },
      "source": [
        "n_start_AcqFunc = max_iter\n"
      ],
      "execution_count": 25,
      "outputs": []
    },
    {
      "cell_type": "code",
      "metadata": {
        "id": "PmJsNX29c_xA"
      },
      "source": [
        "### Surrogate derivatives: \n",
        "\n",
        "cov_func = squaredExponential()\n",
        "\n",
        "def kronDelta(X, Xstar):                     # Kronecker's Delta method\n",
        "    return cdist(X, Xstar) < np.finfo(np.float32).eps\n",
        "\n",
        "def se(X, Xstar, sigmaf, l, sigman):         # S.E. kernel method\n",
        "    return sigmaf * np.exp(-0.5 * cdist(X, Xstar) ** 2 / l ** 2) + sigman * kronDelta(X, Xstar)\n",
        "\n",
        "def delta(X, Xstar):                         # Distance between training X and test Xstar vectors\n",
        "    return (X - Xstar)\n",
        "   \n",
        "def der_covmat(X, Xstar, sigmaf, l, sigman): # Covariance matrix derivative terms (i.e. exact, first-order)\n",
        "    nx = len(X)\n",
        "    ny = len(Xstar)\n",
        "    return np.round(np.array([(delta(np.atleast_2d(i), np.atleast_2d(j))[0] * se(np.atleast_2d(i), np.atleast_2d(j), sigmaf, l, sigman)[0]).sum() for (i, j) in itertools.product(X, Xstar)]).reshape(nx, ny), 8)\n",
        "\n",
        "class dGaussianProcess(GaussianProcess):    # Via inheritance, also optimises hyperparameters when opt = TRUE\n",
        "    \n",
        "    def AcqGrad(self, Xstar):               # Method returning exact, first-order derivatives of the GP's posterior mean and standard deviation\n",
        "        Xstar = np.atleast_2d(Xstar)\n",
        "        Kstar = self.covfunc.K(self.X, Xstar).T\n",
        "        \n",
        "        dKstar = der_covmat(self.X, Xstar, self.covfunc.sigmaf, self.covfunc.l, self.covfunc.sigman).T\n",
        "        alpha_Kstar = np.dot(np.linalg.inv(self.K + (self.covfunc.sigman**2) * np.eye(len(self.X))), Kstar.T)\n",
        "        \n",
        "        dm = np.dot(dKstar, self.alpha)\n",
        "        ds = -2 * np.dot(dKstar, alpha_Kstar)\n",
        "        \n",
        "        return dm, ds           \n",
        "        "
      ],
      "execution_count": 26,
      "outputs": []
    },
    {
      "cell_type": "code",
      "metadata": {
        "id": "n9ZuEB2VdE0W"
      },
      "source": [
        "### Set-seeds:\n",
        "\n",
        "run_num_1 = 0\n",
        "run_num_2 = 2\n",
        "run_num_3 = 3\n",
        "run_num_4 = 4\n",
        "run_num_5 = 5\n",
        "run_num_6 = 6\n",
        "run_num_7 = 7\n",
        "run_num_8 = 8\n",
        "run_num_9 = 9\n",
        "run_num_10 = 10\n",
        "run_num_11 = 11\n",
        "run_num_12 = 12\n",
        "run_num_13 = 13\n",
        "run_num_14 = 14\n",
        "run_num_15 = 15\n",
        "run_num_16 = 16\n",
        "run_num_17 = 17\n",
        "run_num_18 = 18\n",
        "run_num_19 = 19\n",
        "run_num_20 = 20\n"
      ],
      "execution_count": 27,
      "outputs": []
    },
    {
      "cell_type": "code",
      "metadata": {
        "id": "XgHMFEyPdCk4"
      },
      "source": [
        "### Cumulative Regret Calculator:\n",
        "\n",
        "def min_max_array(x):\n",
        "    new_list = []\n",
        "    for i, num in enumerate(x):\n",
        "            new_list.append(np.min(x[0:i+1]))\n",
        "    return new_list\n",
        "    "
      ],
      "execution_count": 28,
      "outputs": []
    },
    {
      "cell_type": "code",
      "metadata": {
        "id": "PJMhL70fdHz_"
      },
      "source": [
        "class Acquisition_new(Acquisition):    \n",
        "    def __init__(self, mode, eps=eps, **params):\n",
        "        \n",
        "        self.params = params\n",
        "        self.eps = eps\n",
        "\n",
        "        mode_dict = {\n",
        "            'dEI_GP': self.dEI_GP\n",
        "        }\n",
        "\n",
        "        self.f = mode_dict[mode]\n",
        "    \n",
        "    def dEI_GP(self, tau, mean, std, ds, dm):\n",
        "        gamma = (mean - tau - self.eps) / (std + self.eps)\n",
        "        gamma_h = (mean - tau) / (std + self.eps)\n",
        "        dsdx = ds / (2 * (std + self.eps))\n",
        "        dmdx = (dm - gamma * dsdx) / (std + self.eps)\n",
        "        \n",
        "        f = (std + self.eps) * (gamma * norm.cdf(gamma) + norm.pdf(gamma))\n",
        "        df1 = f / (std + self.eps) * dsdx \n",
        "        df2 = (std + self.eps) * norm.cdf(gamma) * dmdx\n",
        "        df = (df1 + df2)[0]\n",
        "        df_arr = []\n",
        "\n",
        "        for j in range(0, dim):\n",
        "          df_arr.append(df)\n",
        "        return f, np.asarray(df_arr).transpose()\n",
        "        \n",
        "    def d_eval(self, tau, mean, std, ds, dm):\n",
        "    \n",
        "        return self.f(tau, mean, std, ds, dm, **self.params)\n",
        "        "
      ],
      "execution_count": 29,
      "outputs": []
    },
    {
      "cell_type": "code",
      "metadata": {
        "id": "yAK8N5bwfuJ7"
      },
      "source": [
        "## GPGO_multi: \n",
        "\n",
        "class GPGO_multi(GPGO):\n",
        "    n_start = n_start_AcqFunc\n",
        "\n",
        "    def __init__(self, surrogate, acquisition, f, parameter_dict, n_jobs=1):\n",
        "        self.GP = surrogate\n",
        "        self.A = acquisition\n",
        "        self.f = f\n",
        "        self.parameters = parameter_dict\n",
        "        self.n_jobs = n_jobs\n",
        "\n",
        "        self.parameter_key = list(parameter_dict.keys())\n",
        "        self.parameter_value = list(parameter_dict.values())\n",
        "        self.parameter_type = [p[0] for p in self.parameter_value]\n",
        "        self.parameter_range = [p[1] for p in self.parameter_value]\n",
        "\n",
        "        self.history = []\n",
        "        self.header =   'Evaluation \\t Proposed point \\t  Current eval. \\t  Best eval. \\t         Max AcqFunc.'\n",
        "        self.template = '{:3}\\t {}\\t {:3}\\t {:3}\\t {:3}'\n",
        "\n",
        "    def _optimizeAcq(self, method='L-BFGS-B', n_start=n_start_AcqFunc):\n",
        "        \n",
        "        start_points_dict = [self._sampleParam() for i in range(n_start)]\n",
        "        start_points_arr = np.array([list(s.values())\n",
        "                                     for s in start_points_dict])\n",
        "        x_best = np.empty((n_start, len(self.parameter_key)))\n",
        "        f_best = np.empty((n_start,))\n",
        "        opt = Parallel(n_jobs=self.n_jobs)(delayed(minimize)(self._acqWrapper,\n",
        "                                                                 x0=start_point,\n",
        "                                                                 method=method,\n",
        "                                                                 bounds=self.parameter_range) for start_point in\n",
        "                                               start_points_arr)\n",
        "        x_best = np.array([res.x for res in opt])\n",
        "        f_best = np.array([np.atleast_1d(res.fun)[0] for res in opt])\n",
        "        f_best_min = min(f_best)\n",
        "\n",
        "        self.x_best = x_best\n",
        "        self.f_best = f_best\n",
        "        self.f_best_min = f_best_min\n",
        "        self.best = x_best[np.argmin(f_best)]\n",
        "        self.start_points_arr = start_points_arr\n",
        "        \n",
        "        self.history.append(self.f_best_min)\n",
        "          \n",
        "    def _printInit(self):\n",
        "        print(self.header)\n",
        "        for init_eval in range(self.init_evals):\n",
        "            print(self.template.format('init', self.GP.X[init_eval], self.GP.y[init_eval], self.tau, ''))\n",
        "      \n",
        "    def _printCurrent(self):\n",
        "        OKGREEN = '\\033[92m'\n",
        "        ENDC = '\\033[0m'\n",
        "        BOLD = '\\033[1m'\n",
        "        eval = str(len(self.GP.y) - self.init_evals)\n",
        "        proposed = str(self.best)\n",
        "        curr_eval = str(self.GP.y[-1])\n",
        "        curr_best = str(self.tau)\n",
        "        max_acqfunc = ''\n",
        "        if float(curr_eval) >= float(curr_best):\n",
        "            eval = BOLD + OKGREEN + eval + ENDC\n",
        "            proposed = BOLD + OKGREEN + proposed + ENDC\n",
        "            curr_eval = BOLD + OKGREEN + curr_eval + ENDC\n",
        "            curr_best = BOLD + OKGREEN + curr_best + ENDC\n",
        "            max_acqfunc = BOLD + OKGREEN + str(self.f_best_min) + ENDC\n",
        "        print(self.template.format(eval, proposed, curr_eval, curr_best, max_acqfunc))\n",
        "\n",
        "    def run(self, max_iter=10, init_evals=3, resume=False):\n",
        "        \n",
        "        if not resume:\n",
        "            self.init_evals = init_evals\n",
        "            self._firstRun(self.init_evals)\n",
        "            self._printInit()\n",
        "        for iteration in range(max_iter):\n",
        "            self._optimizeAcq()\n",
        "            self.updateGP()\n",
        "            self._printCurrent()\n"
      ],
      "execution_count": 30,
      "outputs": []
    },
    {
      "cell_type": "code",
      "metadata": {
        "id": "S422jNLsdIMm"
      },
      "source": [
        "## dGPGO:\n",
        "\n",
        "grad = 1\n",
        "\n",
        "class dGPGO(GPGO):\n",
        "    n_start = n_start_AcqFunc\n",
        "\n",
        "    def __init__(self, surrogate, acquisition, f, parameter_dict, n_jobs=1):\n",
        "        self.GP = surrogate\n",
        "        self.A = acquisition\n",
        "        self.f = f\n",
        "        self.parameters = parameter_dict\n",
        "        self.n_jobs = n_jobs\n",
        "\n",
        "        self.parameter_key = list(parameter_dict.keys())\n",
        "        self.parameter_value = list(parameter_dict.values())\n",
        "        self.parameter_type = [p[0] for p in self.parameter_value]\n",
        "        self.parameter_range = [p[1] for p in self.parameter_value]\n",
        "\n",
        "        self.history = []\n",
        "        self.header =   'Evaluation \\t Proposed point \\t  Current eval. \\t  Best eval. \\t         Max AcqFunc.'\n",
        "        self.template = '{:3}\\t {}\\t {:3}\\t {:3}\\t {:3}'\n",
        "\n",
        "    def d_optimizeAcq(self, method='L-BFGS-B', n_start=n_start_AcqFunc):\n",
        "        start_points_dict = [self._sampleParam() for i in range(n_start)]\n",
        "        start_points_arr = np.array([list(s.values())\n",
        "                                     for s in start_points_dict])\n",
        "        x_best = np.empty((n_start, len(self.parameter_key)))\n",
        "        f_best = np.empty((n_start,))\n",
        "        opt = Parallel(n_jobs=self.n_jobs)(delayed(minimize)(self.acqfunc,\n",
        "                                                                 x0=start_point,\n",
        "                                                                 method=method,\n",
        "                                                                 jac = True,\n",
        "                                                                 bounds=self.parameter_range) for start_point in\n",
        "                                               start_points_arr)\n",
        "        x_best = np.array([res.x for res in opt])\n",
        "        f_best = np.array([np.atleast_1d(res.fun)[0] for res in opt])\n",
        "        f_best_min = min(f_best)\n",
        "\n",
        "        self.x_best = x_best\n",
        "        self.f_best = f_best\n",
        "        self.f_best_min = f_best_min\n",
        "        self.best = x_best[np.argmin(f_best)]\n",
        "        self.start_points_arr = start_points_arr\n",
        "\n",
        "        self.history.append(self.f_best_min)\n",
        "\n",
        "    def _printInit(self):\n",
        "        print(self.header)\n",
        "        for init_eval in range(self.init_evals):\n",
        "            print(self.template.format('init', self.GP.X[init_eval], self.GP.y[init_eval], self.tau, ''))\n",
        "      \n",
        "    def _printCurrent(self):\n",
        "        OKGREEN = '\\033[92m'\n",
        "        ENDC = '\\033[0m'\n",
        "        BOLD = '\\033[1m'\n",
        "        eval = str(len(self.GP.y) - self.init_evals)\n",
        "        proposed = str(self.best)\n",
        "        curr_eval = str(self.GP.y[-1])\n",
        "        curr_best = str(self.tau)\n",
        "        max_acqfunc = ''\n",
        "        if float(curr_eval) >= float(curr_best):\n",
        "            eval = BOLD + OKGREEN + eval + ENDC\n",
        "            proposed = BOLD + OKGREEN + proposed + ENDC\n",
        "            curr_eval = BOLD + OKGREEN + curr_eval + ENDC\n",
        "            curr_best = BOLD + OKGREEN + curr_best + ENDC\n",
        "            max_acqfunc = BOLD + OKGREEN + str(self.f_best_min) + ENDC\n",
        "        print(self.template.format(eval, proposed, curr_eval, curr_best, max_acqfunc))\n",
        "\n",
        "    def run(self, max_iter=10, init_evals=3, resume=False):\n",
        "        \n",
        "        if not resume:\n",
        "            self.init_evals = init_evals\n",
        "            self._firstRun(self.init_evals)\n",
        "            self._printInit()\n",
        "        for iteration in range(max_iter):\n",
        "            self.d_optimizeAcq()\n",
        "            self.updateGP()\n",
        "            self._printCurrent()\n",
        "\n",
        "    def acqfunc(self, xnew, n_start=n_start_AcqFunc):\n",
        "        new_mean, new_var = self.GP.predict(xnew, return_std=True)\n",
        "        new_std = np.sqrt(new_var + eps)\n",
        "        dm, ds = self.GP.AcqGrad(xnew)\n",
        "        f, df = self.A.d_eval(self.tau, new_mean, new_std, ds=ds, dm=dm)\n",
        "\n",
        "        return -f, -df * grad\n"
      ],
      "execution_count": 31,
      "outputs": []
    },
    {
      "cell_type": "code",
      "metadata": {
        "id": "HlilveEgdIR_",
        "colab": {
          "base_uri": "https://localhost:8080/"
        },
        "outputId": "5dcf6875-f5d2-45d2-d44c-d8840a6a5fc6"
      },
      "source": [
        "start_approx = time.time()\n",
        "start_approx"
      ],
      "execution_count": 32,
      "outputs": [
        {
          "output_type": "execute_result",
          "data": {
            "text/plain": [
              "1646134723.890968"
            ]
          },
          "metadata": {},
          "execution_count": 32
        }
      ]
    },
    {
      "cell_type": "code",
      "metadata": {
        "id": "1wlzDSHbUG-c",
        "colab": {
          "base_uri": "https://localhost:8080/"
        },
        "outputId": "ead69f3c-f4ba-4efe-83bd-f308d78279d3"
      },
      "source": [
        "### Bayesian optimization runs (x20): 'approx' Acquisition Function run number = 1\n",
        "\n",
        "np.random.seed(run_num_1)\n",
        "surrogate_approx_1 = dGaussianProcess(cov_func, optimize=opt)\n",
        "\n",
        "X_train1, X_test1, y_train1, y_test1 = train_test_split(X, y, test_size=test_perc, random_state=run_num_1)\n",
        "\n",
        "def f_syn_polarity1(alpha, gamma, max_depth, subsample, min_child_weight, colsample):\n",
        "    reg = XGBRegressor(reg_alpha=alpha, gamma=gamma, max_depth=int(max_depth), subsample=subsample, min_child_weight=min_child_weight,\n",
        "          colsample_bytree=colsample, n_estimators = n_est, random_state=run_num_1, objective = 'reg:squarederror')\n",
        "    score = np.array(cross_val_score(reg, X=X_train1, y=y_train1).mean())\n",
        "    return operator * score\n",
        "\n",
        "approx_1 = GPGO_multi(surrogate_approx_1, Acquisition(util_approx), f_syn_polarity1, param, n_jobs = -1) # define BayesOpt\n",
        "approx_1.run(max_iter = max_iter, init_evals = n_init) # run\n",
        "\n",
        "### Return optimal parameters' set:\n",
        "params_approx_1 = approx_1.getResult()[0]\n",
        "params_approx_1['max_depth'] = int(params_approx_1['max_depth'])\n",
        "params_approx_1['min_child_weight'] = int(params_approx_1['min_child_weight'])\n",
        "\n",
        "### Re-train with optimal parameters, run predictons:\n",
        "dX_approx_train1 = xgb.DMatrix(X_train1, y_train1)\n",
        "dX_approx_test1 = xgb.DMatrix(X_test1, y_test1)\n",
        "model_approx_1 = xgb.train(params_approx_1, dX_approx_train1)\n",
        "pred_approx_1 = model_approx_1.predict(dX_approx_test1)\n",
        "\n",
        "rmse_approx_1 = np.sqrt(mean_squared_error(pred_approx_1, y_test1))\n",
        "rmse_approx_1"
      ],
      "execution_count": 33,
      "outputs": [
        {
          "output_type": "stream",
          "name": "stdout",
          "text": [
            "Evaluation \t Proposed point \t  Current eval. \t  Best eval. \t         Max AcqFunc.\n",
            "init\t [5.48813504 7.15189366 8.         0.92897281 8.         0.48128932]\t -0.5626915313589341\t -0.46143572360276275\t    \n",
            "init\t [ 6.45894113  4.37587211 11.          0.52835649 13.          0.44509737]\t -0.5772881365468763\t -0.46143572360276275\t    \n",
            "init\t [ 7.91725038  5.2889492  13.          0.6963924  14.          0.40365654]\t -0.5870544636272766\t -0.46143572360276275\t    \n",
            "init\t [ 6.48171872  3.6824154  10.          0.88907838 16.          0.88307853]\t -0.46143572360276275\t -0.46143572360276275\t    \n",
            "init\t [4.73608045 8.00910752 8.         0.83943977 8.         0.67592892]\t -0.5051288806760134\t -0.46143572360276275\t    \n",
            "1  \t [ 0.96098408  9.76459465  7.          0.75481219 17.          0.64436097]\t -0.5149059967458438\t -0.46143572360276275\t    \n",
            "2  \t [ 0.25662718  2.07470075 13.          0.86522109  6.          0.51721788]\t -0.5609779944418447\t -0.46143572360276275\t    \n",
            "3  \t [ 9.79573252  1.48478088 12.          0.94838058  2.          0.62192116]\t -0.5054179573676033\t -0.46143572360276275\t    \n",
            "4  \t [ 0.62636003  2.41901704  5.          0.63031433 15.          0.7957752 ]\t -0.5075878491448556\t -0.46143572360276275\t    \n",
            "5  \t [1.50934897 3.30267036 6.         0.75645266 2.         0.16196677]\t -0.6730063390911496\t -0.46143572360276275\t    \n",
            "6  \t [8.51808583 9.62395074 8.         0.60054801 1.         0.9981946 ]\t -0.4825618268670315\t -0.46143572360276275\t    \n",
            "7  \t [ 9.82999135  9.82247777  7.          0.69029769 18.          0.32011265]\t -0.5962489471366647\t -0.46143572360276275\t    \n",
            "8  \t [ 0.44571111  9.13283596 10.          0.7789937   1.          0.17342299]\t -0.6758674152983395\t -0.46143572360276275\t    \n",
            "9  \t [9.15647011 0.95123437 9.         0.70846698 8.         0.21386088]\t -0.6731394995355806\t -0.46143572360276275\t    \n",
            "10 \t [ 1.96496846  0.2988114  14.          0.81090497 13.          0.73057001]\t -0.46331696604270556\t -0.46143572360276275\t    \n",
            "\u001b[1m\u001b[92m11\u001b[0m\t \u001b[1m\u001b[92m[ 0.27653157  6.60338596 14.          0.97720044 12.          0.7490783 ]\u001b[0m\t \u001b[1m\u001b[92m-0.45756183431510866\u001b[0m\t \u001b[1m\u001b[92m-0.45756183431510866\u001b[0m\t \u001b[1m\u001b[92m-0.5227607185951703\u001b[0m\n",
            "12 \t [ 9.2626588   6.61763595 13.          0.5647657   8.          0.88069027]\t -0.47709042961004594\t -0.45756183431510866\t    \n",
            "13 \t [ 5.72317016  8.9486974  14.          0.8917696  19.          0.5025906 ]\t -0.5627757357340591\t -0.45756183431510866\t    \n",
            "\u001b[1m\u001b[92m14\u001b[0m\t \u001b[1m\u001b[92m[ 6.07241549  9.39130505 13.          0.92732273  4.          0.89714856]\u001b[0m\t \u001b[1m\u001b[92m-0.44909528461553966\u001b[0m\t \u001b[1m\u001b[92m-0.44909528461553966\u001b[0m\t \u001b[1m\u001b[92m-0.5175293312981444\u001b[0m\n",
            "15 \t [ 9.61554311  1.21538233  6.          0.81124244 13.          0.27856607]\t -0.6710935853736035\t -0.44909528461553966\t    \n",
            "16 \t [10.         10.          5.          1.         11.61230448  0.1       ]\t -0.6498387394496572\t -0.44909528461553966\t    \n",
            "17 \t [8.92113335 3.82853306 5.         0.69106787 3.         0.87547395]\t -0.4902059108431949\t -0.44909528461553966\t    \n",
            "18 \t [3.2356921  0.01782017 8.         0.7922415  9.         0.17131332]\t -0.6719586373645567\t -0.44909528461553966\t    \n",
            "19 \t [ 3.21322097  6.24695824  5.          0.60354561 19.42620686  0.58539799]\t -0.5311467004488334\t -0.44909528461553966\t    \n",
            "20 \t [ 1.44727249  4.8949721  14.          0.69589636  1.          0.97822332]\t -0.46374563204707747\t -0.44909528461553966\t    \n",
            "21 \t [0.57290039 5.56719442 5.         0.67279386 7.         0.53348581]\t -0.5895638008235796\t -0.44909528461553966\t    \n",
            "22 \t [ 2.52323051  4.56808572 14.          0.7798823  19.          0.84503176]\t -0.46504139595881\t -0.44909528461553966\t    \n",
            "23 \t [ 4.53198259  4.62268408 14.          0.74382616  8.          0.17600605]\t -0.6742787574785356\t -0.44909528461553966\t    \n",
            "24 \t [ 0.49745643  7.19653642 11.          0.74387293  7.          0.13430429]\t -0.6757953351254289\t -0.44909528461553966\t    \n",
            "25 \t [ 7.98882287  0.61877768 14.          0.58504851 17.          0.80559227]\t -0.48612017275514036\t -0.44909528461553966\t    \n",
            "26 \t [ 4.50359014  1.19073851  6.88237474  0.5        20.          0.1       ]\t -0.6790055957443795\t -0.44909528461553966\t    \n",
            "27 \t [ 4.68706801  8.49045006  8.          0.61545179 14.          0.16923   ]\t -0.669518971903934\t -0.44909528461553966\t    \n",
            "28 \t [7.68860981 0.         7.27114928 0.5        1.         0.24543222]\t -0.6783996474900619\t -0.44909528461553966\t    \n",
            "\u001b[1m\u001b[92m29\u001b[0m\t \u001b[1m\u001b[92m[ 0.22233758 10.          5.          1.         12.38599188  1.        ]\u001b[0m\t \u001b[1m\u001b[92m-0.44869659552758473\u001b[0m\t \u001b[1m\u001b[92m-0.44869659552758473\u001b[0m\t \u001b[1m\u001b[92m-0.5182492926111708\u001b[0m\n",
            "\u001b[1m\u001b[92m30\u001b[0m\t \u001b[1m\u001b[92m[0.         9.56309396 5.18181756 1.         3.37689664 1.        ]\u001b[0m\t \u001b[1m\u001b[92m-0.4418154939225866\u001b[0m\t \u001b[1m\u001b[92m-0.4418154939225866\u001b[0m\t \u001b[1m\u001b[92m-0.517025605577103\u001b[0m\n"
          ]
        },
        {
          "output_type": "execute_result",
          "data": {
            "text/plain": [
              "5.196570486148013"
            ]
          },
          "metadata": {},
          "execution_count": 33
        }
      ]
    },
    {
      "cell_type": "code",
      "metadata": {
        "id": "ClJ9rN2KUJzy",
        "colab": {
          "base_uri": "https://localhost:8080/"
        },
        "outputId": "c0a673a3-ec47-4008-bb46-a208ee4d0b68"
      },
      "source": [
        "### Bayesian optimization runs (x20): 'approx' Acquisition Function run number = 2\n",
        "\n",
        "np.random.seed(run_num_2)\n",
        "surrogate_approx_2 = dGaussianProcess(cov_func, optimize=opt)\n",
        "\n",
        "X_train2, X_test2, y_train2, y_test2 = train_test_split(X, y, test_size=test_perc, random_state=run_num_2)\n",
        "\n",
        "def f_syn_polarity2(alpha, gamma, max_depth, subsample, min_child_weight, colsample):\n",
        "    reg = XGBRegressor(reg_alpha=alpha, gamma=gamma, max_depth=int(max_depth), subsample=subsample, min_child_weight=min_child_weight,\n",
        "          colsample_bytree=colsample, n_estimators = n_est, random_state=run_num_2, objective = 'reg:squarederror')\n",
        "    score = np.array(cross_val_score(reg, X=X_train2, y=y_train2).mean())\n",
        "    return operator * score\n",
        "\n",
        "approx_2 = GPGO_multi(surrogate_approx_2, Acquisition(util_approx), f_syn_polarity2, param, n_jobs = -1) # define BayesOpt\n",
        "approx_2.run(max_iter = max_iter, init_evals = n_init) # run\n",
        "\n",
        "### Return optimal parameters' set:\n",
        "params_approx_2 = approx_2.getResult()[0]\n",
        "params_approx_2['max_depth'] = int(params_approx_2['max_depth'])\n",
        "params_approx_2['min_child_weight'] = int(params_approx_2['min_child_weight'])\n",
        "\n",
        "### Re-train with optimal parameters, run predictons:\n",
        "dX_approx_train2 = xgb.DMatrix(X_train2, y_train2)\n",
        "dX_approx_test2 = xgb.DMatrix(X_test2, y_test2)\n",
        "model_approx_2 = xgb.train(params_approx_2, dX_approx_train2)\n",
        "pred_approx_2 = model_approx_2.predict(dX_approx_test2)\n",
        "\n",
        "rmse_approx_2 = np.sqrt(mean_squared_error(pred_approx_2, y_test2))\n",
        "rmse_approx_2"
      ],
      "execution_count": 34,
      "outputs": [
        {
          "output_type": "stream",
          "name": "stdout",
          "text": [
            "Evaluation \t Proposed point \t  Current eval. \t  Best eval. \t         Max AcqFunc.\n",
            "init\t [ 4.35994902  0.25926232 11.          0.97386531 12.          0.47833102]\t -0.5147867600449749\t -0.4765694615523879\t    \n",
            "init\t [ 3.30334821  2.04648634 10.          0.55997527  6.          0.71472339]\t -0.4765694615523879\t -0.4765694615523879\t    \n",
            "init\t [ 4.9856117   5.86796978  8.          0.89266757 11.          0.59158659]\t -0.4946399399702889\t -0.4765694615523879\t    \n",
            "init\t [ 4.07307832  1.76984624 13.          0.75262305  7.          0.35908193]\t -0.5884370816585467\t -0.4765694615523879\t    \n",
            "init\t [ 1.16193318  1.81727038  9.          0.79837265 19.          0.29965165]\t -0.584982798458911\t -0.4765694615523879\t    \n",
            "1  \t [9.68290573 5.74953535 8.         0.93445831 2.         0.81872709]\t -0.47692913742153503\t -0.4765694615523879\t    \n",
            "\u001b[1m\u001b[92m2\u001b[0m\t \u001b[1m\u001b[92m[ 2.17907321  8.34965852  5.          0.91660625 18.          0.97349298]\u001b[0m\t \u001b[1m\u001b[92m-0.42932966844762255\u001b[0m\t \u001b[1m\u001b[92m-0.42932966844762255\u001b[0m\t \u001b[1m\u001b[92m-0.5284038284542842\u001b[0m\n",
            "3  \t [ 3.86971225  8.36249195 14.          0.65193715  2.          0.53564822]\t -0.5235565502085555\t -0.42932966844762255\t    \n",
            "4  \t [ 8.78180153  6.61060882 12.          0.91523653 18.          0.29687212]\t -0.5840366351865409\t -0.42932966844762255\t    \n",
            "5  \t [ 1.04358891  9.72033478 14.          0.5859025  14.          0.459264  ]\t -0.5185020925938802\t -0.42932966844762255\t    \n",
            "6  \t [ 9.90020282  3.3367177  10.          0.62203407  7.          0.71235234]\t -0.49484140351085004\t -0.42932966844762255\t    \n",
            "7  \t [ 9.14946201  2.43697872  6.          0.997805   19.          0.45949208]\t -0.5305156688763031\t -0.42932966844762255\t    \n",
            "8  \t [3.03571116 4.83939078 5.         0.66625528 1.         0.23130028]\t -0.6754055457447411\t -0.42932966844762255\t    \n",
            "9  \t [ 4.57706999  8.33565192 11.          0.6188546   7.          0.54017925]\t -0.5200991055645933\t -0.42932966844762255\t    \n",
            "10 \t [2.51973603 9.74135258 5.         0.69633293 8.         0.1952065 ]\t -0.6747225214274138\t -0.42932966844762255\t    \n",
            "11 \t [ 8.6330652   9.62113163 11.          0.50355876 13.          0.80231095]\t -0.4776294844111158\t -0.42932966844762255\t    \n",
            "\u001b[1m\u001b[92m12\u001b[0m\t \u001b[1m\u001b[92m[ 9.73810496  3.32466832  6.          0.67226447 13.          0.93959986]\u001b[0m\t \u001b[1m\u001b[92m-0.42816051226467755\u001b[0m\t \u001b[1m\u001b[92m-0.42816051226467755\u001b[0m\t \u001b[1m\u001b[92m-0.49463078861716525\u001b[0m\n",
            "13 \t [ 7.86086296  9.53235807  5.          0.78700181 16.          0.22516618]\t -0.6752838593350439\t -0.42816051226467755\t    \n",
            "14 \t [ 1.44915477  0.14257847  6.          0.52441016 14.          0.6286643 ]\t -0.5119371184217966\t -0.42816051226467755\t    \n",
            "\u001b[1m\u001b[92m15\u001b[0m\t \u001b[1m\u001b[92m[ 8.6950785   0.99410218 13.          0.66782851 17.          0.9323419 ]\u001b[0m\t \u001b[1m\u001b[92m-0.4078190519864161\u001b[0m\t \u001b[1m\u001b[92m-0.4078190519864161\u001b[0m\t \u001b[1m\u001b[92m-0.49411707423017154\u001b[0m\n",
            "16 \t [9.70003354 0.07825472 7.         0.79315177 1.         0.1995403 ]\t -0.6760869491796593\t -0.4078190519864161\t    \n",
            "17 \t [ 9.61885664  9.78589131 14.          0.8903706   1.          0.14094172]\t -0.6776999663731892\t -0.4078190519864161\t    \n",
            "18 \t [ 5.64670451  8.85432647 14.          0.95807607 10.          0.35707694]\t -0.5833806584348222\t -0.4078190519864161\t    \n",
            "19 \t [ 0.34964202  6.10551304 14.          0.81887518  8.          0.79373024]\t -0.46222390225012616\t -0.4078190519864161\t    \n",
            "20 \t [0.62273619 1.29124124 6.         0.81123451 8.         0.42451055]\t -0.5869340733116714\t -0.4078190519864161\t    \n",
            "21 \t [8.31655833 8.60825609 5.         0.85952394 8.         0.28298607]\t -0.6763184433475262\t -0.4078190519864161\t    \n",
            "\u001b[1m\u001b[92m22\u001b[0m\t \u001b[1m\u001b[92m[ 0.51057799  7.98632671  8.          0.8773209  13.          0.97148281]\u001b[0m\t \u001b[1m\u001b[92m-0.40355178385918367\u001b[0m\t \u001b[1m\u001b[92m-0.40355178385918367\u001b[0m\t \u001b[1m\u001b[92m-0.48242872321252206\u001b[0m\n",
            "23 \t [ 1.14769908  9.46854425 10.          0.58022432 19.          0.87672068]\t -0.4067785949580019\t -0.40355178385918367\t    \n",
            "24 \t [ 5.48814708  1.96120195 13.          0.89659682  1.          0.34125713]\t -0.5934955971475885\t -0.40355178385918367\t    \n",
            "25 \t [ 2.55390985  1.0433692  14.          0.50090092 18.          0.75542228]\t -0.47232898855681815\t -0.40355178385918367\t    \n",
            "\u001b[1m\u001b[92m26\u001b[0m\t \u001b[1m\u001b[92m[ 8.30471915  3.26072064 14.          0.69508376  6.          0.94564556]\u001b[0m\t \u001b[1m\u001b[92m-0.40183965244004105\u001b[0m\t \u001b[1m\u001b[92m-0.40183965244004105\u001b[0m\t \u001b[1m\u001b[92m-0.476133514061092\u001b[0m\n",
            "27 \t [ 8.92720117  4.31465286 13.          0.70553933  1.          0.75946259]\t -0.47327191349354314\t -0.40183965244004105\t    \n",
            "28 \t [ 4.11831219  1.06523616 12.          0.63008078 16.          0.53873389]\t -0.5223430672538264\t -0.40183965244004105\t    \n",
            "29 \t [7.32282988 0.25704634 7.58670605 1.         9.41687394 0.1       ]\t -0.6372998456214506\t -0.40183965244004105\t    \n",
            "30 \t [ 0.09987678  0.         14.80556908  0.88225206  8.80524293  0.28632555]\t -0.5871766806535959\t -0.40183965244004105\t    \n"
          ]
        },
        {
          "output_type": "execute_result",
          "data": {
            "text/plain": [
              "4.67160405397526"
            ]
          },
          "metadata": {},
          "execution_count": 34
        }
      ]
    },
    {
      "cell_type": "code",
      "metadata": {
        "id": "-45l3NU4UNiI",
        "colab": {
          "base_uri": "https://localhost:8080/"
        },
        "outputId": "3fb7c00a-e79e-4a9b-9c57-6777ccb9a916"
      },
      "source": [
        "### Bayesian optimization runs (x20): 'approx' Acquisition Function run number = 3\n",
        "\n",
        "np.random.seed(run_num_3)\n",
        "surrogate_approx_3 = dGaussianProcess(cov_func, optimize=opt)\n",
        "\n",
        "X_train3, X_test3, y_train3, y_test3 = train_test_split(X, y, test_size=test_perc, random_state=run_num_3)\n",
        "\n",
        "def f_syn_polarity3(alpha, gamma, max_depth, subsample, min_child_weight, colsample):\n",
        "    reg = XGBRegressor(reg_alpha=alpha, gamma=gamma, max_depth=int(max_depth), subsample=subsample, min_child_weight=min_child_weight,\n",
        "          colsample_bytree=colsample, n_estimators = n_est, random_state=run_num_3, objective = 'reg:squarederror')\n",
        "    score = np.array(cross_val_score(reg, X=X_train3, y=y_train3).mean())\n",
        "    return operator * score\n",
        "\n",
        "approx_3 = GPGO_multi(surrogate_approx_3, Acquisition(util_approx), f_syn_polarity3, param, n_jobs = -1) # define BayesOpt\n",
        "approx_3.run(max_iter = max_iter, init_evals = n_init) # run\n",
        "\n",
        "### Return optimal parameters' set:\n",
        "params_approx_3 = approx_3.getResult()[0]\n",
        "params_approx_3['max_depth'] = int(params_approx_3['max_depth'])\n",
        "params_approx_3['min_child_weight'] = int(params_approx_3['min_child_weight'])\n",
        "\n",
        "### Re-train with optimal parameters, run predictons:\n",
        "dX_approx_train3 = xgb.DMatrix(X_train3, y_train3)\n",
        "dX_approx_test3 = xgb.DMatrix(X_test3, y_test3)\n",
        "model_approx_3 = xgb.train(params_approx_3, dX_approx_train3)\n",
        "pred_approx_3 = model_approx_3.predict(dX_approx_test3)\n",
        "\n",
        "rmse_approx_3 = np.sqrt(mean_squared_error(pred_approx_3, y_test3))\n",
        "rmse_approx_3"
      ],
      "execution_count": 35,
      "outputs": [
        {
          "output_type": "stream",
          "name": "stdout",
          "text": [
            "Evaluation \t Proposed point \t  Current eval. \t  Best eval. \t         Max AcqFunc.\n",
            "init\t [ 5.50797903  7.08147823 13.          0.56066429 11.          0.11687321]\t -0.7165783188757435\t -0.6409647951145182\t    \n",
            "init\t [ 0.40630737  2.47888297 11.          0.72040492 13.          0.23083313]\t -0.7204431346766296\t -0.6409647951145182\t    \n",
            "init\t [ 4.53172301  2.15577008 11.          0.74631796  2.          0.60296868]\t -0.6409647951145182\t -0.6409647951145182\t    \n",
            "init\t [ 2.59252447  4.15101197 13.          0.79330998  8.          0.24118096]\t -0.7214290072967551\t -0.6409647951145182\t    \n",
            "init\t [ 5.44649018  7.80314765 10.          0.62879264 18.          0.44917413]\t -0.6558401549443296\t -0.6409647951145182\t    \n",
            "1  \t [1.56262424 9.7795241  5.         0.91450054 5.         0.53102391]\t -0.652766690473656\t -0.6409647951145182\t    \n",
            "2  \t [ 7.69133691  0.25025283 10.          0.52101543 12.          0.10383979]\t -0.7148542073105238\t -0.6409647951145182\t    \n",
            "3  \t [ 7.38032831  9.94067232 11.          0.77461843  2.          0.2199184 ]\t -0.7211360280437672\t -0.6409647951145182\t    \n",
            "\u001b[1m\u001b[92m4\u001b[0m\t \u001b[1m\u001b[92m[ 4.06522402  9.52384028  5.          0.68629723 13.          0.87617671]\u001b[0m\t \u001b[1m\u001b[92m-0.49349103668500904\u001b[0m\t \u001b[1m\u001b[92m-0.49349103668500904\u001b[0m\t \u001b[1m\u001b[92m-0.7076565016889942\u001b[0m\n",
            "\u001b[1m\u001b[92m5\u001b[0m\t \u001b[1m\u001b[92m[3.68953475 2.95525094 5.         0.6894371  8.         0.99869195]\u001b[0m\t \u001b[1m\u001b[92m-0.4907212254462726\u001b[0m\t \u001b[1m\u001b[92m-0.4907212254462726\u001b[0m\t \u001b[1m\u001b[92m-0.5848063957035807\u001b[0m\n",
            "6  \t [9.87422438 6.71772444 5.         0.63287091 5.         0.98483042]\t -0.4976483799089211\t -0.4907212254462726\t    \n",
            "7  \t [ 9.93262812  9.85709216 10.          0.50642105 13.          0.46421679]\t -0.6562876473129815\t -0.4907212254462726\t    \n",
            "8  \t [2.6278521  1.48922274 6.         0.63082487 1.         0.15934029]\t -0.7204252076734962\t -0.4907212254462726\t    \n",
            "9  \t [ 2.90369752  3.11254054  6.          0.81932406 16.          0.23613277]\t -0.7197796376906721\t -0.4907212254462726\t    \n",
            "10 \t [ 4.43398983  0.1775468  13.          0.67757521 18.          0.85307217]\t -0.5210602575470441\t -0.4907212254462726\t    \n",
            "\u001b[1m\u001b[92m11\u001b[0m\t \u001b[1m\u001b[92m[ 1.02918863  9.32189805 13.          0.88333707  1.          0.86998588]\u001b[0m\t \u001b[1m\u001b[92m-0.45190108244647254\u001b[0m\t \u001b[1m\u001b[92m-0.45190108244647254\u001b[0m\t \u001b[1m\u001b[92m-0.5750201068051655\u001b[0m\n",
            "12 \t [ 7.36281279  7.66763777  8.          0.59948159 13.          0.98370581]\t -0.4804793139396266\t -0.45190108244647254\t    \n",
            "13 \t [ 9.38226635  4.01107902 14.          0.88645966 17.          0.87374815]\t -0.47315524396225167\t -0.45190108244647254\t    \n",
            "14 \t [0.86375274 7.69964496 8.         0.67182269 1.         0.12474838]\t -0.7214117317911921\t -0.45190108244647254\t    \n",
            "15 \t [ 9.51708919  0.58391709 12.          0.88753946  6.          0.24646931]\t -0.7209982167226172\t -0.45190108244647254\t    \n",
            "16 \t [ 1.04436425  9.32284009 12.          0.59300158  7.          0.9522161 ]\t -0.46635534339044915\t -0.45190108244647254\t    \n",
            "17 \t [ 9.40129426  8.85637698 13.          0.72340176  7.          0.76030308]\t -0.5237424802632007\t -0.45190108244647254\t    \n",
            "18 \t [ 8.50267404  2.17033522  6.          0.50604942 19.          0.82390736]\t -0.537393179824783\t -0.45190108244647254\t    \n",
            "19 \t [ 0.59117942  7.04764364 14.          0.92579676 15.          0.40983297]\t -0.7096913524170247\t -0.45190108244647254\t    \n",
            "20 \t [8.97398363 2.41897649 7.         0.81773512 8.         0.28324604]\t -0.7196336258157527\t -0.45190108244647254\t    \n",
            "21 \t [7.66786548 9.63378327 6.         0.67341055 1.         0.88994805]\t -0.4780947471860609\t -0.45190108244647254\t    \n",
            "22 \t [ 8.78137031  9.07562973 14.          0.81240153 17.          0.56901188]\t -0.65831579458922\t -0.45190108244647254\t    \n",
            "23 \t [ 6.64966697  8.448574    5.          0.65443865 19.          0.53636799]\t -0.6532290988903501\t -0.45190108244647254\t    \n",
            "24 \t [ 0.04997226  0.57243486  5.          0.9748128  12.          0.24835402]\t -0.7195165728779045\t -0.45190108244647254\t    \n",
            "25 \t [8.10694301 4.17712073 5.         0.80634144 1.         0.66433498]\t -0.6304028686629369\t -0.45190108244647254\t    \n",
            "26 \t [0.33454906 4.8293531  6.         0.75998498 5.         0.78354586]\t -0.5258469010005469\t -0.45190108244647254\t    \n",
            "27 \t [ 0.50161196  6.73842363  5.          0.62422734 11.          0.68966684]\t -0.6257414714048529\t -0.45190108244647254\t    \n",
            "28 \t [ 2.43144493  9.2539078  10.28949464  0.69749641 12.84156026  1.        ]\t -0.47025639362471755\t -0.45190108244647254\t    \n",
            "29 \t [0.33715852 0.41541443 9.         0.53276138 6.         0.26454539]\t -0.7162762004378923\t -0.45190108244647254\t    \n",
            "30 \t [6.43463323 0.36947653 5.         0.5        4.68823774 0.1       ]\t -0.7112300952426803\t -0.45190108244647254\t    \n"
          ]
        },
        {
          "output_type": "execute_result",
          "data": {
            "text/plain": [
              "4.649527586702978"
            ]
          },
          "metadata": {},
          "execution_count": 35
        }
      ]
    },
    {
      "cell_type": "code",
      "metadata": {
        "id": "voPfk1UDUQU0",
        "colab": {
          "base_uri": "https://localhost:8080/"
        },
        "outputId": "65b11e3d-effc-4555-cc17-4f8637cf90aa"
      },
      "source": [
        "### Bayesian optimization runs (x20): 'approx' Acquisition Function run number = 4\n",
        "\n",
        "np.random.seed(run_num_4)\n",
        "surrogate_approx_4 = dGaussianProcess(cov_func, optimize=opt)\n",
        "\n",
        "X_train4, X_test4, y_train4, y_test4 = train_test_split(X, y, test_size=test_perc, random_state=run_num_4)\n",
        "\n",
        "def f_syn_polarity4(alpha, gamma, max_depth, subsample, min_child_weight, colsample):\n",
        "    reg = XGBRegressor(reg_alpha=alpha, gamma=gamma, max_depth=int(max_depth), subsample=subsample, min_child_weight=min_child_weight,\n",
        "          colsample_bytree=colsample, n_estimators = n_est, random_state=run_num_4, objective = 'reg:squarederror')\n",
        "    score = np.array(cross_val_score(reg, X=X_train4, y=y_train4).mean())\n",
        "    return operator * score\n",
        "\n",
        "approx_4 = GPGO_multi(surrogate_approx_4, Acquisition(util_approx), f_syn_polarity4, param, n_jobs = -1) # define BayesOpt\n",
        "approx_4.run(max_iter = max_iter, init_evals = n_init) # run\n",
        "\n",
        "### Return optimal parameters' set:\n",
        "params_approx_4 = approx_4.getResult()[0]\n",
        "params_approx_4['max_depth'] = int(params_approx_4['max_depth'])\n",
        "params_approx_4['min_child_weight'] = int(params_approx_4['min_child_weight'])\n",
        "\n",
        "### Re-train with optimal parameters, run predictons:\n",
        "dX_approx_train4 = xgb.DMatrix(X_train4, y_train4)\n",
        "dX_approx_test4 = xgb.DMatrix(X_test4, y_test4)\n",
        "model_approx_4 = xgb.train(params_approx_4, dX_approx_train4)\n",
        "pred_approx_4 = model_approx_4.predict(dX_approx_test4)\n",
        "\n",
        "rmse_approx_4 = np.sqrt(mean_squared_error(pred_approx_4, y_test4))\n",
        "rmse_approx_4"
      ],
      "execution_count": 36,
      "outputs": [
        {
          "output_type": "stream",
          "name": "stdout",
          "text": [
            "Evaluation \t Proposed point \t  Current eval. \t  Best eval. \t         Max AcqFunc.\n",
            "init\t [9.67029839 5.47232249 6.         0.92781047 9.         0.72795594]\t -0.5993772224326677\t -0.4983304913999733\t    \n",
            "init\t [ 2.16089496  9.76274455 12.          0.62649118  9.          0.66966679]\t -0.6069567430422909\t -0.4983304913999733\t    \n",
            "init\t [ 0.05159149  5.72356491  9.          0.99170034 10.          0.10808749]\t -0.7139334307278753\t -0.4983304913999733\t    \n",
            "init\t [ 3.86571283  0.44160058 10.          0.90553105 18.          0.95407958]\t -0.4983304913999733\t -0.4983304913999733\t    \n",
            "init\t [ 7.86305986  8.66289299  6.          0.53285477 14.          0.25117497]\t -0.7091576633146701\t -0.4983304913999733\t    \n",
            "1  \t [ 8.45443649  8.61014312 11.          0.83475494  1.          0.14018305]\t -0.7189305559932541\t -0.4983304913999733\t    \n",
            "2  \t [ 0.90674561  6.32290535 11.          0.94435129  1.          0.40346185]\t -0.659235838187788\t -0.4983304913999733\t    \n",
            "3  \t [ 7.37481669  1.69273565 11.          0.93066167  4.          0.26673965]\t -0.71175266619209\t -0.4983304913999733\t    \n",
            "4  \t [ 5.92074392  7.05411368 14.          0.56897417 18.          0.54051446]\t -0.6311960055652813\t -0.4983304913999733\t    \n",
            "5  \t [ 5.20011211  1.13096048 14.          0.976894    9.          0.7504566 ]\t -0.5890525510373767\t -0.4983304913999733\t    \n",
            "6  \t [ 9.52993971  0.33702013  5.          0.64331783 18.          0.12071935]\t -0.7111637954440517\t -0.4983304913999733\t    \n",
            "7  \t [0.85218043 8.76361565 5.         0.95141234 5.         0.18096954]\t -0.7117027216773544\t -0.4983304913999733\t    \n",
            "8  \t [3.86538132 1.78391589 5.         0.96297978 2.         0.70393647]\t -0.6123381001992111\t -0.4983304913999733\t    \n",
            "9  \t [ 3.4576838   6.55355466  6.          0.72569372 18.          0.65149337]\t -0.6118718217318108\t -0.4983304913999733\t    \n",
            "10 \t [ 9.3450382   8.82768787 11.          0.76868692  7.          0.8502727 ]\t -0.5942242759669181\t -0.4983304913999733\t    \n",
            "11 \t [ 9.65147322  0.33792642 12.          0.92327424 17.          0.84355403]\t -0.5882916778627522\t -0.4983304913999733\t    \n",
            "12 \t [ 5.62120366  6.01550411 10.          0.77467151 12.          0.88994317]\t -0.502188309278306\t -0.4983304913999733\t    \n",
            "13 \t [0.69118951 0.05924245 6.         0.53870729 9.         0.9249957 ]\t -0.517996124617491\t -0.4983304913999733\t    \n",
            "14 \t [ 0.51187296  7.77314276 11.          0.63389119 15.          0.16589245]\t -0.7108031779087576\t -0.4983304913999733\t    \n",
            "15 \t [9.41541409 7.69245319 5.         0.52626745 1.         0.60186246]\t -0.6194547986660568\t -0.4983304913999733\t    \n",
            "16 \t [ 1.59376327  9.3637724   5.          0.56698742 13.          0.29635446]\t -0.6589347550965012\t -0.4983304913999733\t    \n",
            "17 \t [ 5.61148944  3.45544791  5.          0.91442364 14.          0.13327309]\t -0.713301488457895\t -0.4983304913999733\t    \n",
            "18 \t [6.18461978 1.56321293 5.         0.63345598 8.         0.11755092]\t -0.7106668018948927\t -0.4983304913999733\t    \n",
            "19 \t [ 4.48345626  0.23255296 14.          0.72333385 14.          0.12095971]\t -0.7121558919593358\t -0.4983304913999733\t    \n",
            "20 \t [ 7.97119076  8.60858359  5.          0.89580835 19.          0.23533594]\t -0.7136095797815774\t -0.4983304913999733\t    \n",
            "21 \t [ 2.5544629   5.29923202 14.          0.70981162  6.          0.74924795]\t -0.596475574503418\t -0.4983304913999733\t    \n",
            "22 \t [ 2.56416717  0.15610938 12.          0.9617952   2.          0.74332064]\t -0.5934264209641744\t -0.4983304913999733\t    \n",
            "23 \t [4.54498845 4.73987501 6.         0.7658368  6.         0.15012886]\t -0.7139636713851948\t -0.4983304913999733\t    \n",
            "24 \t [9.26767626 0.09691703 5.         0.59554562 3.         0.95249041]\t -0.524958204283032\t -0.4983304913999733\t    \n",
            "25 \t [ 2.07051041  1.52366516 10.          0.69512439 11.          0.21098416]\t -0.7130630485402061\t -0.4983304913999733\t    \n",
            "26 \t [4.98189219 9.19296718 7.         0.90407002 2.         0.86829268]\t -0.5080233187811342\t -0.4983304913999733\t    \n",
            "27 \t [ 9.91261585  5.61754498 12.          0.63287563 16.          0.73825779]\t -0.5947175646134379\t -0.4983304913999733\t    \n",
            "28 \t [ 9.328728    0.19822705 12.          0.75281018 11.          0.88551078]\t -0.5025340927558902\t -0.4983304913999733\t    \n",
            "29 \t [ 8.18178764  9.98869521 14.          0.83418368 10.          0.41151726]\t -0.6593317661073523\t -0.4983304913999733\t    \n",
            "30 \t [ 1.72078221  1.85338202  5.          0.88677213 19.          0.37340399]\t -0.6587324919539517\t -0.4983304913999733\t    \n"
          ]
        },
        {
          "output_type": "execute_result",
          "data": {
            "text/plain": [
              "5.04081354533672"
            ]
          },
          "metadata": {},
          "execution_count": 36
        }
      ]
    },
    {
      "cell_type": "code",
      "metadata": {
        "id": "8kEnTd7MUdlv",
        "colab": {
          "base_uri": "https://localhost:8080/"
        },
        "outputId": "4dd5048f-baca-4b3d-f922-736cf1730416"
      },
      "source": [
        "### Bayesian optimization runs (x20): 'approx' Acquisition Function run number = 5\n",
        "\n",
        "np.random.seed(run_num_5)\n",
        "surrogate_approx_5 = dGaussianProcess(cov_func, optimize=opt)\n",
        "\n",
        "X_train5, X_test5, y_train5, y_test5 = train_test_split(X, y, test_size=test_perc, random_state=run_num_5)\n",
        "\n",
        "def f_syn_polarity5(alpha, gamma, max_depth, subsample, min_child_weight, colsample):\n",
        "    reg = XGBRegressor(reg_alpha=alpha, gamma=gamma, max_depth=int(max_depth), subsample=subsample, min_child_weight=min_child_weight,\n",
        "          colsample_bytree=colsample, n_estimators = n_est, random_state=run_num_5, objective = 'reg:squarederror')\n",
        "    score = np.array(cross_val_score(reg, X=X_train5, y=y_train5).mean())\n",
        "    return operator * score\n",
        "\n",
        "approx_5 = GPGO_multi(surrogate_approx_5, Acquisition(util_approx), f_syn_polarity5, param, n_jobs = -1) # define BayesOpt\n",
        "approx_5.run(max_iter = max_iter, init_evals = n_init) # run\n",
        "\n",
        "### Return optimal parameters' set:\n",
        "params_approx_5 = approx_5.getResult()[0]\n",
        "params_approx_5['max_depth'] = int(params_approx_5['max_depth'])\n",
        "params_approx_5['min_child_weight'] = int(params_approx_5['min_child_weight'])\n",
        "\n",
        "### Re-train with optimal parameters, run predictons:\n",
        "dX_approx_train5 = xgb.DMatrix(X_train5, y_train5)\n",
        "dX_approx_test5 = xgb.DMatrix(X_test5, y_test5)\n",
        "model_approx_5 = xgb.train(params_approx_5, dX_approx_train5)\n",
        "pred_approx_5 = model_approx_5.predict(dX_approx_test5)\n",
        "\n",
        "rmse_approx_5 = np.sqrt(mean_squared_error(pred_approx_5, y_test5))\n",
        "rmse_approx_5"
      ],
      "execution_count": 37,
      "outputs": [
        {
          "output_type": "stream",
          "name": "stdout",
          "text": [
            "Evaluation \t Proposed point \t  Current eval. \t  Best eval. \t         Max AcqFunc.\n",
            "init\t [ 2.21993171  8.70732306 11.          0.68186845 10.          0.53957007]\t -0.5323233521622429\t -0.4868347596133297\t    \n",
            "init\t [ 6.11743863  7.65907856  5.          0.64840025 16.          0.82745351]\t -0.4868347596133297\t -0.4868347596133297\t    \n",
            "init\t [ 6.49458883  8.19472793  6.          0.93996852 19.          0.36647194]\t -0.586475577548452\t -0.4868347596133297\t    \n",
            "init\t [ 6.28787909  5.7983781   6.          0.63290956 17.          0.18402673]\t -0.633609225551848\t -0.4868347596133297\t    \n",
            "init\t [8.26554249 8.33492742 9.         0.97900675 3.         0.26957319]\t -0.6326249738244012\t -0.4868347596133297\t    \n",
            "1  \t [1.95474956 1.21548467 5.         0.65548996 6.         0.3261206 ]\t -0.5882279171378358\t -0.4868347596133297\t    \n",
            "2  \t [ 3.90043826  0.30059527 11.          0.95660877 13.          0.16396145]\t -0.6326090413479479\t -0.4868347596133297\t    \n",
            "3  \t [ 1.89102498  3.81201457 14.          0.79693323  4.          0.52365093]\t -0.5345515814760515\t -0.4868347596133297\t    \n",
            "4  \t [ 8.98063632  2.97885127  9.          0.64249728 18.          0.16342995]\t -0.63240536298746\t -0.4868347596133297\t    \n",
            "\u001b[1m\u001b[92m5\u001b[0m\t \u001b[1m\u001b[92m[ 7.2080363   0.14020863 14.          0.70262402  1.          0.81354205]\u001b[0m\t \u001b[1m\u001b[92m-0.465844229386987\u001b[0m\t \u001b[1m\u001b[92m-0.465844229386987\u001b[0m\t \u001b[1m\u001b[92m-0.5527128180160183\u001b[0m\n",
            "6  \t [0.43749481 8.4213957  8.         0.8974006  1.         0.32861568]\t -0.5654109525719464\t -0.465844229386987\t    \n",
            "7  \t [4.37003348 9.87890289 5.         0.65374913 7.         0.62009063]\t -0.5157271802459567\t -0.465844229386987\t    \n",
            "\u001b[1m\u001b[92m8\u001b[0m\t \u001b[1m\u001b[92m[ 2.68679241  7.25440098 14.          0.65390023 17.          0.99358304]\u001b[0m\t \u001b[1m\u001b[92m-0.43338395515567535\u001b[0m\t \u001b[1m\u001b[92m-0.43338395515567535\u001b[0m\t \u001b[1m\u001b[92m-0.5315439801857114\u001b[0m\n",
            "9  \t [ 9.58792626  8.48977785 13.          0.60628176  9.          0.18518956]\t -0.6323995483897046\t -0.43338395515567535\t    \n",
            "10 \t [ 6.97752806  2.98678749 10.          0.57146948  7.          0.9882264 ]\t -0.44834224855405436\t -0.43338395515567535\t    \n",
            "11 \t [ 9.88162042  4.98501997  7.          0.71514689 11.          0.88825005]\t -0.4486026878328516\t -0.43338395515567535\t    \n",
            "12 \t [8.44893619 0.35900307 6.         0.94734172 4.         0.72898681]\t -0.47422527111773516\t -0.43338395515567535\t    \n",
            "13 \t [4.29434972 2.01082809 8.         0.64047641 1.         0.68777935]\t -0.5043962477805882\t -0.43338395515567535\t    \n",
            "14 \t [ 9.58736014  2.45468429 12.          0.89338522 12.          0.76778503]\t -0.463354057486635\t -0.43338395515567535\t    \n",
            "15 \t [ 0.69381482  7.09764326  5.          0.79260103 13.          0.36148114]\t -0.5865660625355444\t -0.43338395515567535\t    \n",
            "16 \t [ 5.90866369  1.23912394  5.          0.73203526 13.          0.44895514]\t -0.5641284322471574\t -0.43338395515567535\t    \n",
            "17 \t [ 6.56637184  9.40150707  8.          0.97457564 11.          0.85712178]\t -0.4660785797917318\t -0.43338395515567535\t    \n",
            "18 \t [ 9.73541293  8.42044427 14.          0.53390677 16.          0.10576782]\t -0.6335354580978965\t -0.43338395515567535\t    \n",
            "19 \t [ 0.72167755  7.46022523  5.          0.5        18.04187782  0.53624244]\t -0.5699591776915091\t -0.43338395515567535\t    \n",
            "20 \t [ 1.1246472   2.50523123 12.          0.73015278  7.          0.68499751]\t -0.49641414079446805\t -0.43338395515567535\t    \n",
            "21 \t [ 2.198289    3.67796949 10.          0.90046315 19.          0.21147767]\t -0.6328870147791277\t -0.43338395515567535\t    \n",
            "22 \t [ 2.9202384   2.05198636 14.79739054  0.5587141  15.52367954  0.81229466]\t -0.47496194109211665\t -0.43338395515567535\t    \n",
            "\u001b[1m\u001b[92m23\u001b[0m\t \u001b[1m\u001b[92m[ 0.          7.48606824 13.90850734  1.          1.          1.        ]\u001b[0m\t \u001b[1m\u001b[92m-0.4232400023488784\u001b[0m\t \u001b[1m\u001b[92m-0.4232400023488784\u001b[0m\t \u001b[1m\u001b[92m-0.49950123228574583\u001b[0m\n",
            "24 \t [5.80891976 6.22815082 5.         0.60791835 2.         0.19304152]\t -0.633210503254255\t -0.4232400023488784\t    \n",
            "25 \t [3.85567734 3.96124804 7.0003392  0.5        9.6699012  0.1       ]\t -0.6347475796395858\t -0.4232400023488784\t    \n",
            "26 \t [ 7.40282426  0.         15.          0.5         9.03868575  0.48695628]\t -0.5455659652589235\t -0.4232400023488784\t    \n",
            "27 \t [ 7.72276399 10.         13.2529293   0.85972479  1.          1.        ]\t -0.43793331251954315\t -0.4232400023488784\t    \n",
            "28 \t [ 6.60924517  5.47852198 12.          0.79248846 15.          0.38107311]\t -0.5649283414532984\t -0.4232400023488784\t    \n",
            "29 \t [ 8.54953508  0.34138929 15.          0.5        15.67504283  1.        ]\t -0.45307565009380435\t -0.4232400023488784\t    \n",
            "30 \t [10.          5.17449644 13.71082175  0.5         1.          1.        ]\t -0.4507986342196043\t -0.4232400023488784\t    \n"
          ]
        },
        {
          "output_type": "execute_result",
          "data": {
            "text/plain": [
              "4.722426092489183"
            ]
          },
          "metadata": {},
          "execution_count": 37
        }
      ]
    },
    {
      "cell_type": "code",
      "metadata": {
        "id": "OjVSH6caUgyy",
        "colab": {
          "base_uri": "https://localhost:8080/"
        },
        "outputId": "ff94c7bd-5e63-4de5-cac4-9338297a92da"
      },
      "source": [
        "### Bayesian optimization runs (x20): 'approx' Acquisition Function run number = 6\n",
        "\n",
        "np.random.seed(run_num_6)\n",
        "surrogate_approx_6 = dGaussianProcess(cov_func, optimize=opt)\n",
        "\n",
        "X_train6, X_test6, y_train6, y_test6 = train_test_split(X, y, test_size=test_perc, random_state=run_num_6)\n",
        "\n",
        "def f_syn_polarity6(alpha, gamma, max_depth, subsample, min_child_weight, colsample):\n",
        "    reg = XGBRegressor(reg_alpha=alpha, gamma=gamma, max_depth=int(max_depth), subsample=subsample, min_child_weight=min_child_weight,\n",
        "          colsample_bytree=colsample, n_estimators = n_est, random_state=run_num_6, objective = 'reg:squarederror')\n",
        "    score = np.array(cross_val_score(reg, X=X_train6, y=y_train6).mean())\n",
        "    return operator * score\n",
        "\n",
        "approx_6 = GPGO_multi(surrogate_approx_6, Acquisition(util_approx), f_syn_polarity6, param, n_jobs = -1) # define BayesOpt\n",
        "approx_6.run(max_iter = max_iter, init_evals = n_init) # run\n",
        "\n",
        "### Return optimal parameters' set:\n",
        "params_approx_6 = approx_6.getResult()[0]\n",
        "params_approx_6['max_depth'] = int(params_approx_6['max_depth'])\n",
        "params_approx_6['min_child_weight'] = int(params_approx_6['min_child_weight'])\n",
        "\n",
        "### Re-train with optimal parameters, run predictons:\n",
        "dX_approx_train6 = xgb.DMatrix(X_train6, y_train6)\n",
        "dX_approx_test6 = xgb.DMatrix(X_test6, y_test6)\n",
        "model_approx_6 = xgb.train(params_approx_6, dX_approx_train6)\n",
        "pred_approx_6 = model_approx_6.predict(dX_approx_test6)\n",
        "\n",
        "rmse_approx_6 = np.sqrt(mean_squared_error(pred_approx_6, y_test6))\n",
        "rmse_approx_6"
      ],
      "execution_count": 38,
      "outputs": [
        {
          "output_type": "stream",
          "name": "stdout",
          "text": [
            "Evaluation \t Proposed point \t  Current eval. \t  Best eval. \t         Max AcqFunc.\n",
            "init\t [8.92860151 3.31979805 5.         0.99251441 2.         0.57683563]\t -0.5719256944003751\t -0.5405445954433028\t    \n",
            "init\t [4.18807429 3.35407849 9.         0.87750649 3.         0.56623277]\t -0.6047098118480896\t -0.5405445954433028\t    \n",
            "init\t [ 5.788586    6.45355096 14.          0.70660047 12.          0.82154882]\t -0.5405445954433028\t -0.5405445954433028\t    \n",
            "init\t [4.58184578 6.73834679 5.         0.90108528 3.         0.65482895]\t -0.5678490550489279\t -0.5405445954433028\t    \n",
            "init\t [ 4.42510505  5.75952352 14.          0.97882365 15.          0.29525604]\t -0.6145131146454834\t -0.5405445954433028\t    \n",
            "1  \t [ 2.83859384  1.8954219   7.          0.66740302 13.          0.2701964 ]\t -0.691031094679315\t -0.5405445954433028\t    \n",
            "2  \t [ 8.38264396  7.97650716 14.          0.82584689  4.          0.25017455]\t -0.6923819935110469\t -0.5405445954433028\t    \n",
            "3  \t [8.90357673 8.23982464 5.         0.66456142 9.         0.34395649]\t -0.6304772827355849\t -0.5405445954433028\t    \n",
            "4  \t [ 8.97809086  0.52071511 12.          0.96314156 10.          0.21133381]\t -0.6918663560679601\t -0.5405445954433028\t    \n",
            "\u001b[1m\u001b[92m5\u001b[0m\t \u001b[1m\u001b[92m[ 0.84801146  1.44124026 14.          0.54887437  7.          0.93547384]\u001b[0m\t \u001b[1m\u001b[92m-0.476867228842187\u001b[0m\t \u001b[1m\u001b[92m-0.476867228842187\u001b[0m\t \u001b[1m\u001b[92m-0.6074736328002392\u001b[0m\n",
            "6  \t [ 8.37754293  7.69636444  8.          0.98881796 16.          0.46623185]\t -0.6072185980939964\t -0.476867228842187\t    \n",
            "7  \t [ 0.5654966   9.52584762 14.          0.82016688  4.          0.10717254]\t -0.6950359736000904\t -0.476867228842187\t    \n",
            "8  \t [ 6.75909949  0.94220097  9.          0.71741448 19.          0.94972086]\t -0.483135560233687\t -0.476867228842187\t    \n",
            "9  \t [ 1.43292764  9.31823681  5.          0.51738676 10.          0.30600768]\t -0.6357205486843573\t -0.476867228842187\t    \n",
            "\u001b[1m\u001b[92m10\u001b[0m\t \u001b[1m\u001b[92m[ 0.09135886  8.11961466 10.          0.74013552 12.          0.97362941]\u001b[0m\t \u001b[1m\u001b[92m-0.46984611815932203\u001b[0m\t \u001b[1m\u001b[92m-0.46984611815932203\u001b[0m\t \u001b[1m\u001b[92m-0.5530203914846586\u001b[0m\n",
            "11 \t [ 9.49126464  2.25575335  7.          0.89398566 13.          0.76947203]\t -0.5406134678021616\t -0.46984611815932203\t    \n",
            "12 \t [ 1.03080361  6.70895845  7.          0.73336025 19.          0.31104879]\t -0.6191870905906407\t -0.46984611815932203\t    \n",
            "13 \t [0.2400873  1.61429062 5.         0.72296529 1.         0.1077861 ]\t -0.6912677535150268\t -0.46984611815932203\t    \n",
            "14 \t [9.89801174 9.77563967 9.         0.68555662 3.         0.83921118]\t -0.5428995234335529\t -0.46984611815932203\t    \n",
            "\u001b[1m\u001b[92m15\u001b[0m\t \u001b[1m\u001b[92m[ 0.50127522  1.94924928 11.          0.89270197 19.          0.91286914]\u001b[0m\t \u001b[1m\u001b[92m-0.4669311845911867\u001b[0m\t \u001b[1m\u001b[92m-0.4669311845911867\u001b[0m\t \u001b[1m\u001b[92m-0.5449442227234709\u001b[0m\n",
            "16 \t [6.55109905 2.29203942 6.         0.7269974  8.         0.87997636]\t -0.4859637689299886\t -0.4669311845911867\t    \n",
            "17 \t [ 3.50815226  9.13058689  5.          0.80778314 15.          0.92212261]\t -0.49222778043308246\t -0.4669311845911867\t    \n",
            "18 \t [0.75190021 2.99821111 7.         0.73112778 8.         0.11979456]\t -0.691424380511367\t -0.4669311845911867\t    \n",
            "19 \t [ 5.98453698  2.00451687 13.          0.80337068 13.          0.24875337]\t -0.692321289717216\t -0.4669311845911867\t    \n",
            "20 \t [10.          7.61566922  9.90736243  0.5         9.00006122  1.        ]\t -0.49382754589810973\t -0.4669311845911867\t    \n",
            "21 \t [4.70222718 7.76335614 9.         0.92367012 9.         0.28724782]\t -0.6151742953973676\t -0.4669311845911867\t    \n",
            "\u001b[1m\u001b[92m22\u001b[0m\t \u001b[1m\u001b[92m[ 9.56780844  0.64608047 12.          0.83676299  2.          0.96098008]\u001b[0m\t \u001b[1m\u001b[92m-0.4643061698441667\u001b[0m\t \u001b[1m\u001b[92m-0.4643061698441667\u001b[0m\t \u001b[1m\u001b[92m-0.5401628857134005\u001b[0m\n",
            "23 \t [0.09752792 7.56070281 9.         0.95937939 3.         0.71279346]\t -0.562367946644558\t -0.4643061698441667\t    \n",
            "24 \t [ 9.55684885  4.02134483 11.          0.82079508  6.          0.83404351]\t -0.5328006235258489\t -0.4643061698441667\t    \n",
            "25 \t [ 3.81847995  9.43141013 12.          0.56182914 19.          0.95661081]\t -0.48611573402244906\t -0.4643061698441667\t    \n",
            "26 \t [ 9.34350027  4.08940226 14.42488017  0.69785442 15.89281821  0.65737055]\t -0.569851548200796\t -0.4643061698441667\t    \n",
            "27 \t [ 0.          2.06729128  5.          1.         17.45338622  0.1       ]\t -0.7376157966967835\t -0.4643061698441667\t    \n",
            "28 \t [ 4.50576024  5.61861568 14.0715009   0.70545475  1.84831129  0.79542207]\t -0.5408573966822613\t -0.4643061698441667\t    \n",
            "29 \t [ 0.         10.         14.01532005  1.          9.04366992  0.1       ]\t -0.7376612777503497\t -0.4643061698441667\t    \n",
            "30 \t [ 6.80447195  6.69417926  5.          0.74586765 13.          0.74060763]\t -0.5548815051793727\t -0.4643061698441667\t    \n"
          ]
        },
        {
          "output_type": "execute_result",
          "data": {
            "text/plain": [
              "4.666730740909481"
            ]
          },
          "metadata": {},
          "execution_count": 38
        }
      ]
    },
    {
      "cell_type": "code",
      "metadata": {
        "id": "J1WsphKSUj19",
        "colab": {
          "base_uri": "https://localhost:8080/"
        },
        "outputId": "153bd9a3-1592-4972-83ad-a63582924634"
      },
      "source": [
        "### Bayesian optimization runs (x20): 'approx' Acquisition Function run number = 7\n",
        "\n",
        "np.random.seed(run_num_7)\n",
        "surrogate_approx_7 = dGaussianProcess(cov_func, optimize=opt)\n",
        "\n",
        "X_train7, X_test7, y_train7, y_test7 = train_test_split(X, y, test_size=test_perc, random_state=run_num_7)\n",
        "\n",
        "def f_syn_polarity7(alpha, gamma, max_depth, subsample, min_child_weight, colsample):\n",
        "    reg = XGBRegressor(reg_alpha=alpha, gamma=gamma, max_depth=int(max_depth), subsample=subsample, min_child_weight=min_child_weight,\n",
        "          colsample_bytree=colsample, n_estimators = n_est, random_state=run_num_7, objective = 'reg:squarederror')\n",
        "    score = np.array(cross_val_score(reg, X=X_train7, y=y_train7).mean())\n",
        "    return operator * score\n",
        "\n",
        "approx_7 = GPGO_multi(surrogate_approx_7, Acquisition(util_approx), f_syn_polarity7, param, n_jobs = -1) # define BayesOpt\n",
        "approx_7.run(max_iter = max_iter, init_evals = n_init) # run\n",
        "\n",
        "### Return optimal parameters' set:\n",
        "params_approx_7 = approx_7.getResult()[0]\n",
        "params_approx_7['max_depth'] = int(params_approx_7['max_depth'])\n",
        "params_approx_7['min_child_weight'] = int(params_approx_7['min_child_weight'])\n",
        "\n",
        "### Re-train with optimal parameters, run predictons:\n",
        "dX_approx_train7 = xgb.DMatrix(X_train7, y_train7)\n",
        "dX_approx_test7 = xgb.DMatrix(X_test7, y_test7)\n",
        "model_approx_7 = xgb.train(params_approx_7, dX_approx_train7)\n",
        "pred_approx_7 = model_approx_7.predict(dX_approx_test7)\n",
        "\n",
        "rmse_approx_7 = np.sqrt(mean_squared_error(pred_approx_7, y_test7))\n",
        "rmse_approx_7"
      ],
      "execution_count": 39,
      "outputs": [
        {
          "output_type": "stream",
          "name": "stdout",
          "text": [
            "Evaluation \t Proposed point \t  Current eval. \t  Best eval. \t         Max AcqFunc.\n",
            "init\t [0.76308289 7.79918792 8.         0.98911145 8.         0.98019056]\t -0.44500885348659536\t -0.44173641078261416\t    \n",
            "init\t [ 5.3849587   5.01120464 13.          0.74994125  5.          0.88192131]\t -0.4488374676936292\t -0.44173641078261416\t    \n",
            "init\t [ 3.30839249  3.9294231  12.          0.6440728  13.          0.41137564]\t -0.5669653799025498\t -0.44173641078261416\t    \n",
            "init\t [9.29528191 2.6258377  5.         0.80027446 1.         0.86616513]\t -0.4661284696195417\t -0.44173641078261416\t    \n",
            "init\t [ 1.74052764  7.90763512 14.          0.7244129   4.          0.77536887]\t -0.44173641078261416\t -0.44173641078261416\t    \n",
            "1  \t [3.43305102 3.00339076 8.         0.71322679 4.         0.33322219]\t -0.5720117286339644\t -0.44173641078261416\t    \n",
            "2  \t [ 8.27276329  5.80705371  6.          0.6575149  16.          0.66596626]\t -0.5040023079321674\t -0.44173641078261416\t    \n",
            "3  \t [ 8.97988092  8.79483413 14.          0.55379557 13.          0.92924117]\t -0.4697830241358748\t -0.44173641078261416\t    \n",
            "4  \t [ 6.31879092  0.69939064  5.          0.5769645  12.          0.84874959]\t -0.4882732220224809\t -0.44173641078261416\t    \n",
            "5  \t [ 9.90436619  1.68371673 11.          0.68947817 16.          0.400226  ]\t -0.568100519925974\t -0.44173641078261416\t    \n",
            "6  \t [ 2.27614069  9.14855814 13.          0.84138599 18.          0.79014716]\t -0.44744611331217216\t -0.44173641078261416\t    \n",
            "7  \t [ 0.63761793  0.73483023 14.          0.60715475  1.          0.28353184]\t -0.6941989633599238\t -0.44173641078261416\t    \n",
            "8  \t [ 1.95327375  0.09413692  7.          0.63967551 19.          0.52105045]\t -0.5139990320068838\t -0.44173641078261416\t    \n",
            "9  \t [5.70513125 8.30861013 6.         0.98680016 3.         0.16134411]\t -0.68192707596936\t -0.44173641078261416\t    \n",
            "10 \t [ 0.25030147  5.86047618  7.          0.62148035 15.          0.70956246]\t -0.49234467840129764\t -0.44173641078261416\t    \n",
            "11 \t [ 6.35215     9.71205645 11.          0.67733044  6.          0.80174708]\t -0.45650768247894014\t -0.44173641078261416\t    \n",
            "12 \t [9.93412004 7.01728008 6.         0.60790736 8.         0.46475011]\t -0.5281857371452437\t -0.44173641078261416\t    \n",
            "13 \t [ 9.74185418  1.9812272  14.          0.94068286 10.          0.45784207]\t -0.49177211555059996\t -0.44173641078261416\t    \n",
            "14 \t [ 5.05369665  2.67147005  5.          0.51290284 10.          0.64085   ]\t -0.5141066990730631\t -0.44173641078261416\t    \n",
            "15 \t [ 0.30180848  0.36339665 10.          0.99951435 11.          0.54137142]\t -0.48320505631505073\t -0.44173641078261416\t    \n",
            "\u001b[1m\u001b[92m16\u001b[0m\t \u001b[1m\u001b[92m[ 7.27678093  0.         15.          1.         16.00038722  1.        ]\u001b[0m\t \u001b[1m\u001b[92m-0.437811068034004\u001b[0m\t \u001b[1m\u001b[92m-0.437811068034004\u001b[0m\t \u001b[1m\u001b[92m-0.49850403192442094\u001b[0m\n",
            "17 \t [ 0.08258912  2.04682383 12.          0.59206459 18.          0.58057909]\t -0.47949559740392883\t -0.437811068034004\t    \n",
            "18 \t [ 7.87862448  0.37268652 11.          0.83129981  1.          0.83621209]\t -0.44594195084588784\t -0.437811068034004\t    \n",
            "19 \t [ 8.02008913  6.8951761  13.          0.63880909 19.          0.69330995]\t -0.4851967971772767\t -0.437811068034004\t    \n",
            "20 \t [ 9.02606866  9.9399456   5.          0.69325176 13.          0.80731892]\t -0.48390390130528715\t -0.437811068034004\t    \n",
            "21 \t [ 9.27376043  7.79309168 10.          0.72898828  1.          0.60101244]\t -0.4807641306108092\t -0.437811068034004\t    \n",
            "22 \t [ 2.21548548  9.34072297 10.          0.96109934 13.          0.7636836 ]\t -0.4515743659972008\t -0.437811068034004\t    \n",
            "23 \t [ 7.72588109  5.37103201  9.97731794  1.         11.53979805  0.1       ]\t -0.6322847937651461\t -0.437811068034004\t    \n",
            "24 \t [0.70527907 5.59255728 5.         0.86863619 1.         0.35457337]\t -0.5667766789352335\t -0.437811068034004\t    \n",
            "25 \t [ 3.10690541  8.2550526  14.          0.5876892  10.          0.54629175]\t -0.5023701082007483\t -0.437811068034004\t    \n",
            "26 \t [ 7.50583035  7.42634963 14.          0.81352069  9.          0.10482848]\t -0.6821511114913456\t -0.437811068034004\t    \n",
            "27 \t [9.91546913 0.35662679 7.         0.87706909 8.         0.31009443]\t -0.5699297548076715\t -0.437811068034004\t    \n",
            "28 \t [ 5.2904658   8.22056718  5.          0.61065019 19.          0.97301687]\t -0.48431230364593975\t -0.437811068034004\t    \n",
            "29 \t [ 9.92745389  2.10791379  6.          0.91867901 19.          0.37494465]\t -0.5713292909071361\t -0.437811068034004\t    \n",
            "30 \t [0.37391981 2.40019589 5.         0.63958121 7.         0.86382806]\t -0.4789632866798484\t -0.437811068034004\t    \n"
          ]
        },
        {
          "output_type": "execute_result",
          "data": {
            "text/plain": [
              "4.659553553276685"
            ]
          },
          "metadata": {},
          "execution_count": 39
        }
      ]
    },
    {
      "cell_type": "code",
      "metadata": {
        "id": "hI8sFP4ZUmOs",
        "colab": {
          "base_uri": "https://localhost:8080/"
        },
        "outputId": "bda7a2e7-a32b-4334-ee2d-eba6c9a04053"
      },
      "source": [
        "### Bayesian optimization runs (x20): 'approx' Acquisition Function run number = 8\n",
        "\n",
        "np.random.seed(run_num_8)\n",
        "surrogate_approx_8 = dGaussianProcess(cov_func, optimize=opt)\n",
        "\n",
        "X_train8, X_test8, y_train8, y_test8 = train_test_split(X, y, test_size=test_perc, random_state=run_num_8)\n",
        "\n",
        "def f_syn_polarity8(alpha, gamma, max_depth, subsample, min_child_weight, colsample):\n",
        "    reg = XGBRegressor(reg_alpha=alpha, gamma=gamma, max_depth=int(max_depth), subsample=subsample, min_child_weight=min_child_weight,\n",
        "          colsample_bytree=colsample, n_estimators = n_est, random_state=run_num_8, objective = 'reg:squarederror')\n",
        "    score = np.array(cross_val_score(reg, X=X_train8, y=y_train8).mean())\n",
        "    return operator * score\n",
        "\n",
        "approx_8 = GPGO_multi(surrogate_approx_8, Acquisition(util_approx), f_syn_polarity8, param, n_jobs = -1) # define BayesOpt\n",
        "approx_8.run(max_iter = max_iter, init_evals = n_init) # run\n",
        "\n",
        "### Return optimal parameters' set:\n",
        "params_approx_8 = approx_8.getResult()[0]\n",
        "params_approx_8['max_depth'] = int(params_approx_8['max_depth'])\n",
        "params_approx_8['min_child_weight'] = int(params_approx_8['min_child_weight'])\n",
        "\n",
        "### Re-train with optimal parameters, run predictons:\n",
        "dX_approx_train8 = xgb.DMatrix(X_train8, y_train8)\n",
        "dX_approx_test8 = xgb.DMatrix(X_test8, y_test8)\n",
        "model_approx_8 = xgb.train(params_approx_8, dX_approx_train8)\n",
        "pred_approx_8 = model_approx_8.predict(dX_approx_test8)\n",
        "\n",
        "rmse_approx_8 = np.sqrt(mean_squared_error(pred_approx_8, y_test8))\n",
        "rmse_approx_8"
      ],
      "execution_count": 40,
      "outputs": [
        {
          "output_type": "stream",
          "name": "stdout",
          "text": [
            "Evaluation \t Proposed point \t  Current eval. \t  Best eval. \t         Max AcqFunc.\n",
            "init\t [ 8.73429403  9.68540663 10.          0.68875849  9.          0.48011572]\t -0.5450023023990902\t -0.47785117417083445\t    \n",
            "init\t [ 6.12033333  7.66062926  8.          0.76133734 13.          0.93379456]\t -0.48415390639601685\t -0.47785117417083445\t    \n",
            "init\t [ 1.46524679  7.01527914  7.          0.90913299 10.          0.36016753]\t -0.5514374023096014\t -0.47785117417083445\t    \n",
            "init\t [ 9.73855241  3.33774046 14.          0.53290419  7.          0.7088681 ]\t -0.509390123714371\t -0.47785117417083445\t    \n",
            "init\t [ 3.00618018  1.82702795 11.          0.75681389 14.          0.98627449]\t -0.47785117417083445\t -0.47785117417083445\t    \n",
            "1  \t [4.42022545 5.48487111 9.         0.97165909 3.         0.63617522]\t -0.4933129789895931\t -0.47785117417083445\t    \n",
            "2  \t [ 4.42530022  8.86662399 12.          0.55390756 19.          0.26906902]\t -0.6339615084112526\t -0.47785117417083445\t    \n",
            "3  \t [ 9.08237751  2.49680746  6.          0.65941352 17.          0.68321352]\t -0.5297996778038847\t -0.47785117417083445\t    \n",
            "4  \t [9.24101391 3.71625162 7.         0.92041359 7.         0.33094108]\t -0.5527447722333402\t -0.47785117417083445\t    \n",
            "5  \t [ 2.71549468  6.59835463  5.          0.95307649 18.          0.8022723 ]\t -0.5047189705784817\t -0.47785117417083445\t    \n",
            "6  \t [ 8.42695368  3.16936553 13.          0.82366295 16.          0.76402556]\t -0.4848490795565376\t -0.47785117417083445\t    \n",
            "7  \t [ 8.83774177  5.41674027 14.          0.73954397  1.          0.31035075]\t -0.5564925838622898\t -0.47785117417083445\t    \n",
            "8  \t [ 0.45904618  0.31422469 12.          0.85221495  5.          0.31125587]\t -0.5530199153286809\t -0.47785117417083445\t    \n",
            "9  \t [ 0.45485069  5.92046568 13.          0.54575641 15.          0.3753516 ]\t -0.5549518005921394\t -0.47785117417083445\t    \n",
            "10 \t [ 3.96405062  8.0979425  14.          0.59297393  7.          0.94464131]\t -0.4791797818281145\t -0.47785117417083445\t    \n",
            "11 \t [9.23421894 1.96715525 6.         0.84213684 1.         0.28111445]\t -0.635838370822804\t -0.47785117417083445\t    \n",
            "12 \t [3.47378168 0.90493309 7.         0.70332668 6.         0.717685  ]\t -0.501005699748404\t -0.47785117417083445\t    \n",
            "13 \t [ 9.08307561  9.73616604  5.          0.74596783 18.          0.23735578]\t -0.6330775313057753\t -0.47785117417083445\t    \n",
            "14 \t [1.36072521 8.96337054 5.         0.74382165 2.         0.12580076]\t -0.6310296426785355\t -0.47785117417083445\t    \n",
            "15 \t [ 3.32794564  9.35873285 13.          0.95404271 12.          0.46503428]\t -0.5317909356674381\t -0.47785117417083445\t    \n",
            "16 \t [ 6.35979139  1.00897047 10.          0.55338934  9.          0.8992107 ]\t -0.48522152812259406\t -0.47785117417083445\t    \n",
            "17 \t [0.26711089 1.47965823 5.         0.94483199 1.         0.67844469]\t -0.5241359942934816\t -0.47785117417083445\t    \n",
            "\u001b[1m\u001b[92m18\u001b[0m\t \u001b[1m\u001b[92m[ 8.81884199  0.29557486 11.          0.94612367  2.          0.80082225]\u001b[0m\t \u001b[1m\u001b[92m-0.4752232906149384\u001b[0m\t \u001b[1m\u001b[92m-0.4752232906149384\u001b[0m\t \u001b[1m\u001b[92m-0.5339384546495715\u001b[0m\n",
            "19 \t [ 4.10272358  0.68972827 14.          0.96902802  1.          0.19814279]\t -0.6329380619232359\t -0.4752232906149384\t    \n",
            "20 \t [ 1.37842187  7.92618907 14.          0.53493538  2.          0.9994541 ]\t -0.4812223540836058\t -0.4752232906149384\t    \n",
            "21 \t [8.49304258 9.45420615 6.         0.52298498 5.         0.36186114]\t -0.5693257561055802\t -0.4752232906149384\t    \n",
            "22 \t [ 0.76637948  1.6718521   5.          0.89180884 15.          0.76035097]\t -0.5096944757591124\t -0.4752232906149384\t    \n",
            "\u001b[1m\u001b[92m23\u001b[0m\t \u001b[1m\u001b[92m[ 5.760474   10.         14.          0.92179817  1.          0.75159399]\u001b[0m\t \u001b[1m\u001b[92m-0.4746995954224992\u001b[0m\t \u001b[1m\u001b[92m-0.4746995954224992\u001b[0m\t \u001b[1m\u001b[92m-0.5315949549012391\u001b[0m\n",
            "24 \t [ 6.17761321  3.53679992  5.49366935  0.5        12.91218288  0.70392069]\t -0.5399179777996392\t -0.4746995954224992\t    \n",
            "25 \t [ 2.00363843  0.25557305 13.          0.79852696 19.          0.41982126]\t -0.5500644701753457\t -0.4746995954224992\t    \n",
            "26 \t [3.28754462 0.         8.86139486 1.         1.26802936 0.1       ]\t -0.661049191618415\t -0.4746995954224992\t    \n",
            "27 \t [ 7.15040543  9.72926644 14.          0.63776297 15.          0.43073814]\t -0.5440457259258048\t -0.4746995954224992\t    \n",
            "28 \t [ 1.06330602  9.84698732  5.          0.70744161 15.          0.6986094 ]\t -0.5340764790757249\t -0.4746995954224992\t    \n",
            "29 \t [ 9.6464663   0.98885701  8.          0.8054878  19.          0.70201828]\t -0.5059919280994952\t -0.4746995954224992\t    \n",
            "30 \t [8.66270612 8.68970778 9.         0.80306345 1.         0.23433357]\t -0.6376715740042693\t -0.4746995954224992\t    \n"
          ]
        },
        {
          "output_type": "execute_result",
          "data": {
            "text/plain": [
              "4.48055789121361"
            ]
          },
          "metadata": {},
          "execution_count": 40
        }
      ]
    },
    {
      "cell_type": "code",
      "metadata": {
        "id": "Vw5IYus6UpAn",
        "colab": {
          "base_uri": "https://localhost:8080/"
        },
        "outputId": "83438a78-7b5a-424e-96e8-a3c3fa0cbd97"
      },
      "source": [
        "### Bayesian optimization runs (x20): 'approx' Acquisition Function run number = 9\n",
        "\n",
        "np.random.seed(run_num_9)\n",
        "surrogate_approx_9 = dGaussianProcess(cov_func, optimize=opt)\n",
        "\n",
        "X_train9, X_test9, y_train9, y_test9 = train_test_split(X, y, test_size=test_perc, random_state=run_num_9)\n",
        "\n",
        "def f_syn_polarity9(alpha, gamma, max_depth, subsample, min_child_weight, colsample):\n",
        "    reg = XGBRegressor(reg_alpha=alpha, gamma=gamma, max_depth=int(max_depth), subsample=subsample, min_child_weight=min_child_weight,\n",
        "          colsample_bytree=colsample, n_estimators = n_est, random_state=run_num_9, objective = 'reg:squarederror')\n",
        "    score = np.array(cross_val_score(reg, X=X_train9, y=y_train9).mean())\n",
        "    return operator * score\n",
        "\n",
        "approx_9 = GPGO_multi(surrogate_approx_9, Acquisition(util_approx), f_syn_polarity9, param, n_jobs = -1) # define BayesOpt\n",
        "approx_9.run(max_iter = max_iter, init_evals = n_init) # run\n",
        "\n",
        "### Return optimal parameters' set:\n",
        "params_approx_9 = approx_9.getResult()[0]\n",
        "params_approx_9['max_depth'] = int(params_approx_9['max_depth'])\n",
        "params_approx_9['min_child_weight'] = int(params_approx_9['min_child_weight'])\n",
        "\n",
        "### Re-train with optimal parameters, run predictons:\n",
        "dX_approx_train9 = xgb.DMatrix(X_train9, y_train9)\n",
        "dX_approx_test9 = xgb.DMatrix(X_test9, y_test9)\n",
        "model_approx_9 = xgb.train(params_approx_9, dX_approx_train9)\n",
        "pred_approx_9 = model_approx_9.predict(dX_approx_test9)\n",
        "\n",
        "rmse_approx_9 = np.sqrt(mean_squared_error(pred_approx_9, y_test9))\n",
        "rmse_approx_9"
      ],
      "execution_count": 41,
      "outputs": [
        {
          "output_type": "stream",
          "name": "stdout",
          "text": [
            "Evaluation \t Proposed point \t  Current eval. \t  Best eval. \t         Max AcqFunc.\n",
            "init\t [ 0.10374154  5.01874592 11.          0.50377155  2.          0.29670281]\t -0.6545930802207814\t -0.4584168030068045\t    \n",
            "init\t [ 4.18508181  2.48101168 13.          0.69794293  2.          0.25009871]\t -0.7166132091943936\t -0.4584168030068045\t    \n",
            "init\t [ 8.78559086  9.50964032 13.          0.98395204 11.          0.90820641]\t -0.4584168030068045\t -0.4584168030068045\t    \n",
            "init\t [ 6.66898973  5.47837783  6.          0.97165345 12.          0.72499481]\t -0.48839211091816903\t -0.4584168030068045\t    \n",
            "init\t [ 8.24870465  4.65668475 13.          0.68760467  9.          0.98502332]\t -0.46354466019784824\t -0.4584168030068045\t    \n",
            "1  \t [6.73714319 2.39608167 5.         0.58130302 3.         0.163077  ]\t -0.7145926373770018\t -0.4584168030068045\t    \n",
            "2  \t [ 8.16285902  8.43489929  9.          0.96605421 10.          0.79940153]\t -0.48073960577713015\t -0.4584168030068045\t    \n",
            "3  \t [ 3.67545472  4.78145311 14.          0.63123486 17.          0.4863889 ]\t -0.4908200532861475\t -0.4584168030068045\t    \n",
            "4  \t [ 0.19525707  9.62416422  9.          0.85280832 10.          0.52998476]\t -0.489212631501365\t -0.4584168030068045\t    \n",
            "5  \t [ 1.86381009  9.16177979  5.          0.9344438  17.          0.81379931]\t -0.4912030349766601\t -0.4584168030068045\t    \n",
            "6  \t [ 2.35563756  1.41309797  5.          0.61127581 14.          0.85229383]\t -0.4988542621089159\t -0.4584168030068045\t    \n",
            "\u001b[1m\u001b[92m7\u001b[0m\t \u001b[1m\u001b[92m[ 0.65024006  0.20015298 14.          0.90298726 13.          0.95798937]\u001b[0m\t \u001b[1m\u001b[92m-0.4476685066942845\u001b[0m\t \u001b[1m\u001b[92m-0.4476685066942845\u001b[0m\t \u001b[1m\u001b[92m-0.5204893307396998\u001b[0m\n",
            "8  \t [ 9.89935012  1.80411649  9.          0.642097   16.          0.9768379 ]\t -0.4801384356428805\t -0.4476685066942845\t    \n",
            "9  \t [ 0.30581668  9.33751049 12.          0.80943195 19.          0.44519139]\t -0.47774087957331524\t -0.4476685066942845\t    \n",
            "10 \t [ 8.9317907   9.240006   13.          0.55531212  4.          0.42887515]\t -0.48879793709138014\t -0.4476685066942845\t    \n",
            "11 \t [2.63920029 2.84662126 8.         0.81372528 9.         0.70958016]\t -0.481015707138382\t -0.4476685066942845\t    \n",
            "12 \t [1.13081555 8.89608809 5.         0.68242063 1.         0.25767085]\t -0.7144450806724659\t -0.4476685066942845\t    \n",
            "13 \t [ 8.01493798  7.33950965 10.          0.50609192 18.          0.9957267 ]\t -0.48185656494615825\t -0.4476685066942845\t    \n",
            "14 \t [ 8.08392893  1.91862949 14.          0.6384648  17.          0.1890016 ]\t -0.715142540640623\t -0.4476685066942845\t    \n",
            "15 \t [ 4.11263305  1.10911111  7.          0.99254999 19.          0.81125017]\t -0.49028030505090714\t -0.4476685066942845\t    \n",
            "16 \t [9.39353565 9.93046622 5.         0.57188784 4.         0.83501032]\t -0.4919610294417671\t -0.4476685066942845\t    \n",
            "17 \t [ 3.27325644  1.7873584  14.          0.93313351  7.          0.76979578]\t -0.4628858988004011\t -0.4476685066942845\t    \n",
            "18 \t [ 9.00084206  1.85673124 10.          0.98011614  2.          0.25530052]\t -0.7164537739094682\t -0.4476685066942845\t    \n",
            "19 \t [ 1.5375546   6.06327242 13.          0.75086004 12.          0.81590341]\t -0.4754995179849649\t -0.4476685066942845\t    \n",
            "20 \t [ 4.49089064  7.04035213 10.          0.71518167  6.          0.54341653]\t -0.48344393889093185\t -0.4476685066942845\t    \n",
            "21 \t [0.93748744 2.66462057 5.         0.77408223 4.         0.19936714]\t -0.7160819872924715\t -0.4476685066942845\t    \n",
            "22 \t [ 4.99585633  9.84423212 13.          0.58601629 15.          0.62308889]\t -0.4890091779718368\t -0.4476685066942845\t    \n",
            "23 \t [ 7.07313313  8.94084339  5.          0.99439529 19.          0.33798274]\t -0.6320298567588886\t -0.4476685066942845\t    \n",
            "24 \t [ 3.74834789  9.93946975 10.          0.52571565  1.          0.6614516 ]\t -0.4870655352258547\t -0.4476685066942845\t    \n",
            "25 \t [8.16570029 0.40949439 8.         0.67704692 8.         0.10446623]\t -0.7143816307896056\t -0.4476685066942845\t    \n",
            "\u001b[1m\u001b[92m26\u001b[0m\t \u001b[1m\u001b[92m[ 2.6116157   9.96913447 13.          0.85452594  8.          0.87833359]\u001b[0m\t \u001b[1m\u001b[92m-0.4475083824683078\u001b[0m\t \u001b[1m\u001b[92m-0.4475083824683078\u001b[0m\t \u001b[1m\u001b[92m-0.5138626810722082\u001b[0m\n",
            "27 \t [ 1.23546959  5.33074507  7.56834285  0.5162988  14.00172432  0.1       ]\t -0.7194042470073921\t -0.4475083824683078\t    \n",
            "28 \t [0.06433695 6.57876132 6.         0.81327092 7.         0.85975218]\t -0.46583285163728017\t -0.4475083824683078\t    \n",
            "29 \t [5.63583903 8.76359675 5.         0.6782879  2.         0.67940326]\t -0.4937074420630406\t -0.4475083824683078\t    \n",
            "30 \t [ 6.14078962  2.31372054 11.          0.9240952  13.          0.361681  ]\t -0.6258949059114924\t -0.4475083824683078\t    \n"
          ]
        },
        {
          "output_type": "execute_result",
          "data": {
            "text/plain": [
              "4.635844534922092"
            ]
          },
          "metadata": {},
          "execution_count": 41
        }
      ]
    },
    {
      "cell_type": "code",
      "metadata": {
        "id": "YD494io_Ur7V",
        "colab": {
          "base_uri": "https://localhost:8080/"
        },
        "outputId": "8a9befae-4881-450c-e812-3aa7044f40ad"
      },
      "source": [
        "### Bayesian optimization runs (x20): 'approx' Acquisition Function run number = 10\n",
        "\n",
        "np.random.seed(run_num_10)\n",
        "surrogate_approx_10 = dGaussianProcess(cov_func, optimize=opt)\n",
        "\n",
        "X_train10, X_test10, y_train10, y_test10 = train_test_split(X, y, test_size=test_perc, random_state=run_num_10)\n",
        "\n",
        "def f_syn_polarity10(alpha, gamma, max_depth, subsample, min_child_weight, colsample):\n",
        "    reg = XGBRegressor(reg_alpha=alpha, gamma=gamma, max_depth=int(max_depth), subsample=subsample, min_child_weight=min_child_weight,\n",
        "          colsample_bytree=colsample, n_estimators = n_est, random_state=run_num_10, objective = 'reg:squarederror')\n",
        "    score = np.array(cross_val_score(reg, X=X_train10, y=y_train10).mean())\n",
        "    return operator * score\n",
        "\n",
        "approx_10 = GPGO_multi(surrogate_approx_10, Acquisition(util_approx), f_syn_polarity10, param, n_jobs = -1) # define BayesOpt\n",
        "approx_10.run(max_iter = max_iter, init_evals = n_init) # run\n",
        "\n",
        "### Return optimal parameters' set:\n",
        "params_approx_10 = approx_10.getResult()[0]\n",
        "params_approx_10['max_depth'] = int(params_approx_10['max_depth'])\n",
        "params_approx_10['min_child_weight'] = int(params_approx_10['min_child_weight'])\n",
        "\n",
        "### Re-train with optimal parameters, run predictons:\n",
        "dX_approx_train10 = xgb.DMatrix(X_train10, y_train10)\n",
        "dX_approx_test10 = xgb.DMatrix(X_test10, y_test10)\n",
        "model_approx_10 = xgb.train(params_approx_10, dX_approx_train10)\n",
        "pred_approx_10 = model_approx_10.predict(dX_approx_test10)\n",
        "\n",
        "rmse_approx_10 = np.sqrt(mean_squared_error(pred_approx_10, y_test10))\n",
        "rmse_approx_10"
      ],
      "execution_count": 42,
      "outputs": [
        {
          "output_type": "stream",
          "name": "stdout",
          "text": [
            "Evaluation \t Proposed point \t  Current eval. \t  Best eval. \t         Max AcqFunc.\n",
            "init\t [ 7.71320643  0.20751949  5.          0.72150747 17.          0.12265456]\t -0.7090674967614334\t -0.4737745634473992\t    \n",
            "init\t [ 7.0920801   2.65566127 13.          0.57518893 17.          0.83494165]\t -0.4737745634473992\t -0.4737745634473992\t    \n",
            "init\t [ 3.36071584  8.90816531  6.          0.86087766 15.          0.75469196]\t -0.4755277191484213\t -0.4737745634473992\t    \n",
            "init\t [ 5.40880931  1.31458152  8.          0.57108502 14.          0.62551123]\t -0.48811859212530173\t -0.4737745634473992\t    \n",
            "init\t [1.82631436 8.26082248 6.         0.80888349 5.         0.15900694]\t -0.7057210222477256\t -0.4737745634473992\t    \n",
            "\u001b[1m\u001b[92m1\u001b[0m\t \u001b[1m\u001b[92m[8.31989768 3.09778055 7.         0.64798085 3.         0.98471878]\u001b[0m\t \u001b[1m\u001b[92m-0.46336171949490257\u001b[0m\t \u001b[1m\u001b[92m-0.46336171949490257\u001b[0m\t \u001b[1m\u001b[92m-0.5418256293393204\u001b[0m\n",
            "2  \t [ 3.05837423  0.98670899 11.          0.63714741 18.          0.46809298]\t -0.5661654396843121\t -0.46336171949490257\t    \n",
            "3  \t [ 2.20772511  4.37663949 11.          0.65455258  3.          0.57545511]\t -0.47392585264437637\t -0.46336171949490257\t    \n",
            "4  \t [ 2.98946783  8.70916918 12.          0.89809007  8.          0.53350402]\t -0.5586941817481679\t -0.46336171949490257\t    \n",
            "\u001b[1m\u001b[92m5\u001b[0m\t \u001b[1m\u001b[92m[ 3.75041373  9.81989522 14.          0.71370546 14.          0.97207881]\u001b[0m\t \u001b[1m\u001b[92m-0.4452927087494185\u001b[0m\t \u001b[1m\u001b[92m-0.4452927087494185\u001b[0m\t \u001b[1m\u001b[92m-0.5257741766752022\u001b[0m\n",
            "6  \t [ 9.87023759  9.91612936 10.          0.86988555  3.          0.30540809]\t -0.6095766003956484\t -0.4452927087494185\t    \n",
            "7  \t [ 9.67314628  9.09427799  9.          0.82851167 16.          0.96267251]\t -0.4596116580649731\t -0.4452927087494185\t    \n",
            "8  \t [ 9.67396075  2.8020106  13.          0.65074314 10.          0.54373377]\t -0.5719468802009684\t -0.4452927087494185\t    \n",
            "9  \t [ 7.94637587  1.09220418 14.          0.87360164  2.          0.44305882]\t -0.5655799355515964\t -0.4452927087494185\t    \n",
            "10 \t [ 9.68988111  3.14723756  5.          0.57337272 11.          0.12853019]\t -0.7126195342584936\t -0.4452927087494185\t    \n",
            "11 \t [5.00762913 1.53619492 9.         0.56892944 8.         0.96567366]\t -0.46105702925642705\t -0.4452927087494185\t    \n",
            "12 \t [ 7.49862043  8.61515621  7.          0.99656624 10.          0.79035109]\t -0.4635277279819766\t -0.4452927087494185\t    \n",
            "13 \t [ 1.32528066  5.17118506  5.          0.79204954 19.          0.27904411]\t -0.7078125731141747\t -0.4452927087494185\t    \n",
            "14 \t [ 0.2734411   0.20947276 13.          0.89386904  7.          0.27558279]\t -0.7058594746055183\t -0.4452927087494185\t    \n",
            "15 \t [ 0.15128266  5.75290365 10.          0.52450544 13.          0.50574484]\t -0.569019916387053\t -0.4452927087494185\t    \n",
            "16 \t [ 3.32064678  9.82322091 10.          0.61729748  2.          0.52189899]\t -0.5753759862036196\t -0.4452927087494185\t    \n",
            "17 \t [ 4.31483484  7.72113914  9.69773864  0.5        12.34971185  0.1       ]\t -0.7117786772468777\t -0.4452927087494185\t    \n",
            "18 \t [ 3.35903512  5.65946459  5.          0.99895528 10.          0.94028903]\t -0.46372677958736086\t -0.4452927087494185\t    \n",
            "19 \t [2.97354518 0.78166656 5.         0.90410395 3.         0.91397589]\t -0.4602686512493445\t -0.4452927087494185\t    \n",
            "20 \t [0.02696897 2.95683802 6.         0.66811128 8.         0.42238237]\t -0.6072098639977502\t -0.4452927087494185\t    \n",
            "21 \t [ 0.4183408   0.2808761   9.16180481  0.5        11.539726    0.1       ]\t -0.7120454520236874\t -0.4452927087494185\t    \n",
            "22 \t [ 7.44941345  7.70836838 13.          0.90908439 19.          0.52212662]\t -0.5569393390699574\t -0.4452927087494185\t    \n",
            "23 \t [ 5.4844272   0.96205364  5.          0.60532082 10.          0.14270543]\t -0.711356028080844\t -0.4452927087494185\t    \n",
            "24 \t [ 8.33810851  9.8990204  14.          0.61893039  5.          0.69227045]\t -0.4851208634097359\t -0.4452927087494185\t    \n",
            "25 \t [4.66195218 5.96776172 7.         0.68043003 1.         0.11094684]\t -0.7112331451390336\t -0.4452927087494185\t    \n",
            "26 \t [ 9.00254464  5.61692594  5.          0.51689901 18.          0.34218711]\t -0.6157175665763427\t -0.4452927087494185\t    \n",
            "27 \t [ 9.80190803  7.94317114 14.          0.54244107 12.          0.27327436]\t -0.712565971937178\t -0.4452927087494185\t    \n",
            "28 \t [ 1.55481231  8.89847306 13.          0.92315868 19.          0.23858876]\t -0.7046801666998048\t -0.4452927087494185\t    \n",
            "29 \t [10.          5.32574502 11.34069319  0.5         3.00104786  0.1       ]\t -0.7127789371271203\t -0.4452927087494185\t    \n",
            "30 \t [9.9297819  8.53538054 5.         0.63283868 5.         0.25710096]\t -0.7114731973762893\t -0.4452927087494185\t    \n"
          ]
        },
        {
          "output_type": "execute_result",
          "data": {
            "text/plain": [
              "4.70472629125407"
            ]
          },
          "metadata": {},
          "execution_count": 42
        }
      ]
    },
    {
      "cell_type": "code",
      "metadata": {
        "id": "N03Sq0TvUuhp",
        "colab": {
          "base_uri": "https://localhost:8080/"
        },
        "outputId": "15cb39d6-5f9e-4338-f2f2-2c0b3038000c"
      },
      "source": [
        "### Bayesian optimization runs (x20): 'approx' Acquisition Function run number = 11\n",
        "\n",
        "np.random.seed(run_num_11)\n",
        "surrogate_approx_11 = dGaussianProcess(cov_func, optimize=opt)\n",
        "\n",
        "X_train11, X_test11, y_train11, y_test11 = train_test_split(X, y, test_size=test_perc, random_state=run_num_11)\n",
        "\n",
        "def f_syn_polarity11(alpha, gamma, max_depth, subsample, min_child_weight, colsample):\n",
        "    reg = XGBRegressor(reg_alpha=alpha, gamma=gamma, max_depth=int(max_depth), subsample=subsample, min_child_weight=min_child_weight,\n",
        "          colsample_bytree=colsample, n_estimators = n_est, random_state=run_num_11, objective = 'reg:squarederror')\n",
        "    score = np.array(cross_val_score(reg, X=X_train11, y=y_train11).mean())\n",
        "    return operator * score\n",
        "\n",
        "approx_11 = GPGO_multi(surrogate_approx_11, Acquisition(util_approx), f_syn_polarity11, param, n_jobs = -1) # define BayesOpt\n",
        "approx_11.run(max_iter = max_iter, init_evals = n_init) # run\n",
        "\n",
        "### Return optimal parameters' set:\n",
        "params_approx_11 = approx_11.getResult()[0]\n",
        "params_approx_11['max_depth'] = int(params_approx_11['max_depth'])\n",
        "params_approx_11['min_child_weight'] = int(params_approx_11['min_child_weight'])\n",
        "\n",
        "### Re-train with optimal parameters, run predictons:\n",
        "dX_approx_train11 = xgb.DMatrix(X_train11, y_train11)\n",
        "dX_approx_test11 = xgb.DMatrix(X_test11, y_test11)\n",
        "model_approx_11 = xgb.train(params_approx_11, dX_approx_train11)\n",
        "pred_approx_11 = model_approx_11.predict(dX_approx_test11)\n",
        "\n",
        "rmse_approx_11 = np.sqrt(mean_squared_error(pred_approx_11, y_test11))\n",
        "rmse_approx_11"
      ],
      "execution_count": 43,
      "outputs": [
        {
          "output_type": "stream",
          "name": "stdout",
          "text": [
            "Evaluation \t Proposed point \t  Current eval. \t  Best eval. \t         Max AcqFunc.\n",
            "init\t [ 1.80269689  0.19475241  6.          0.59705781 13.          0.47818324]\t -0.5922349044250168\t -0.49898623219170346\t    \n",
            "init\t [ 4.85427098  0.12780815  5.          0.91309068 14.          0.86571558]\t -0.49898623219170346\t -0.49898623219170346\t    \n",
            "init\t [ 7.2996447   1.08736072 10.          0.92857712 18.          0.66910061]\t -0.5404544349803458\t -0.49898623219170346\t    \n",
            "init\t [ 0.20483613  1.16737269  7.          0.57895615 16.          0.83644782]\t -0.5108833748715963\t -0.49898623219170346\t    \n",
            "init\t [ 3.44624491  3.18798797 14.          0.54197657 15.          0.63958906]\t -0.5545314939891337\t -0.49898623219170346\t    \n",
            "1  \t [9.77136617 6.6548802  7.         0.51036649 9.         0.81011527]\t -0.5252491147925742\t -0.49898623219170346\t    \n",
            "\u001b[1m\u001b[92m2\u001b[0m\t \u001b[1m\u001b[92m[ 0.59719728  4.15307516 11.          0.66501717  3.          0.95537014]\u001b[0m\t \u001b[1m\u001b[92m-0.47168134756234376\u001b[0m\t \u001b[1m\u001b[92m-0.47168134756234376\u001b[0m\t \u001b[1m\u001b[92m-0.5502328773277063\u001b[0m\n",
            "3  \t [ 8.79191945  9.92354379  5.          0.67714371 18.          0.57050675]\t -0.6079929413869166\t -0.47168134756234376\t    \n",
            "4  \t [ 8.43962982  4.2216354  12.          0.61829836  3.          0.16854155]\t -0.6940792524812075\t -0.47168134756234376\t    \n",
            "5  \t [2.20135958 9.62559813 6.         0.71280025 1.         0.39977427]\t -0.5917636590409376\t -0.47168134756234376\t    \n",
            "6  \t [ 3.67323902  7.86608025  9.          0.6017103  12.          0.8976084 ]\t -0.48417119344714443\t -0.47168134756234376\t    \n",
            "7  \t [ 8.8168337   8.37959662 14.          0.86429866 15.          0.72516241]\t -0.4849992543698768\t -0.47168134756234376\t    \n",
            "8  \t [6.77981326 1.558009   7.         0.85055204 5.         0.30145072]\t -0.5804776283328665\t -0.47168134756234376\t    \n",
            "9  \t [ 4.65266155  1.51144578 13.          0.9981878   8.          0.76538736]\t -0.4762746893996949\t -0.47168134756234376\t    \n",
            "10 \t [ 9.96434657  9.7457538   7.          0.51716335 13.          0.80468719]\t -0.5247207840192685\t -0.47168134756234376\t    \n",
            "11 \t [ 0.11403055  8.4704762   5.          0.64787128 18.          0.27113862]\t -0.6899450978623416\t -0.47168134756234376\t    \n",
            "12 \t [ 8.75969772  9.81259093 13.          0.73915202  9.          0.12048735]\t -0.6894993636607551\t -0.47168134756234376\t    \n",
            "13 \t [ 3.5878055   9.95198178 13.          0.88500021 19.          0.14789414]\t -0.6866833714007038\t -0.47168134756234376\t    \n",
            "14 \t [ 8.71522337  2.64896453  8.          0.8880663  13.          0.19932467]\t -0.6865009211934154\t -0.47168134756234376\t    \n",
            "15 \t [0.61700864 1.88368662 5.         0.7080512  1.         0.20173876]\t -0.6917985842631214\t -0.47168134756234376\t    \n",
            "16 \t [ 4.54549823  8.84141407 12.          0.50940273  3.          0.75742975]\t -0.4964959167917179\t -0.47168134756234376\t    \n",
            "17 \t [4.68258101 8.96288202 5.         0.97630328 6.         0.39227084]\t -0.5913707400607938\t -0.47168134756234376\t    \n",
            "18 \t [ 2.10994823  7.1805032  12.          0.63048792  8.          0.67645363]\t -0.5472760809270729\t -0.47168134756234376\t    \n",
            "19 \t [ 8.3669288   4.27659443  5.          0.69650065 18.10559451  1.        ]\t -0.49903611416318744\t -0.47168134756234376\t    \n",
            "20 \t [9.22875209 9.1986098  9.         0.90439491 3.         0.27523226]\t -0.6865002905691453\t -0.47168134756234376\t    \n",
            "21 \t [ 1.72825498  8.22275098 12.          0.72682357 16.          0.82564486]\t -0.48907212546484297\t -0.47168134756234376\t    \n",
            "22 \t [5.15068265 4.76861601 5.         0.70076898 1.         0.87159533]\t -0.5035711766098606\t -0.47168134756234376\t    \n",
            "23 \t [ 9.97716226  3.28825714 13.          0.55185778 13.          0.23012169]\t -0.6936577667491837\t -0.47168134756234376\t    \n",
            "\u001b[1m\u001b[92m24\u001b[0m\t \u001b[1m\u001b[92m[0.35274751 4.60721825 8.         0.98940661 8.         0.99370153]\u001b[0m\t \u001b[1m\u001b[92m-0.47039294880610416\u001b[0m\t \u001b[1m\u001b[92m-0.47039294880610416\u001b[0m\t \u001b[1m\u001b[92m-0.5399010466571827\u001b[0m\n",
            "25 \t [ 4.52812342  0.19443533 13.          0.65004115  2.          0.16077491]\t -0.6952750251234912\t -0.47039294880610416\t    \n",
            "26 \t [1.66717067 0.         5.         0.5        5.60617253 1.        ]\t -0.5049209517949306\t -0.47039294880610416\t    \n",
            "27 \t [ 4.18370068  8.00716286 15.          0.5        12.69651144  0.1       ]\t -0.6987506421350005\t -0.47039294880610416\t    \n",
            "28 \t [ 6.68138453  0.2955558   6.          0.96090271 10.          0.14408308]\t -0.6872476612059207\t -0.47039294880610416\t    \n",
            "29 \t [9.27654384 0.11345815 9.         0.76045104 1.         0.92226676]\t -0.4848121108917608\t -0.47039294880610416\t    \n",
            "30 \t [10.          1.89073266 10.75000994  1.          7.70173858  0.1       ]\t -0.7768254345681986\t -0.47039294880610416\t    \n"
          ]
        },
        {
          "output_type": "execute_result",
          "data": {
            "text/plain": [
              "5.001524750828825"
            ]
          },
          "metadata": {},
          "execution_count": 43
        }
      ]
    },
    {
      "cell_type": "code",
      "metadata": {
        "id": "g_nP9lQjUztV",
        "colab": {
          "base_uri": "https://localhost:8080/"
        },
        "outputId": "621f5db8-6cc8-4852-b203-5c7c2d265a6f"
      },
      "source": [
        "### Bayesian optimization runs (x20): 'approx' Acquisition Function run number = 12\n",
        "\n",
        "np.random.seed(run_num_12)\n",
        "surrogate_approx_12 = dGaussianProcess(cov_func, optimize=opt)\n",
        "\n",
        "X_train12, X_test12, y_train12, y_test12 = train_test_split(X, y, test_size=test_perc, random_state=run_num_12)\n",
        "\n",
        "def f_syn_polarity12(alpha, gamma, max_depth, subsample, min_child_weight, colsample):\n",
        "    reg = XGBRegressor(reg_alpha=alpha, gamma=gamma, max_depth=int(max_depth), subsample=subsample, min_child_weight=min_child_weight,\n",
        "          colsample_bytree=colsample, n_estimators = n_est, random_state=run_num_12, objective = 'reg:squarederror')\n",
        "    score = np.array(cross_val_score(reg, X=X_train12, y=y_train12).mean())\n",
        "    return operator * score\n",
        "\n",
        "approx_12 = GPGO_multi(surrogate_approx_12, Acquisition(util_approx), f_syn_polarity12, param, n_jobs = -1) # define BayesOpt\n",
        "approx_12.run(max_iter = max_iter, init_evals = n_init) # run\n",
        "\n",
        "### Return optimal parameters' set:\n",
        "params_approx_12 = approx_12.getResult()[0]\n",
        "params_approx_12['max_depth'] = int(params_approx_12['max_depth'])\n",
        "params_approx_12['min_child_weight'] = int(params_approx_12['min_child_weight'])\n",
        "\n",
        "### Re-train with optimal parameters, run predictons:\n",
        "dX_approx_train12 = xgb.DMatrix(X_train12, y_train12)\n",
        "dX_approx_test12 = xgb.DMatrix(X_test12, y_test12)\n",
        "model_approx_12 = xgb.train(params_approx_12, dX_approx_train12)\n",
        "pred_approx_12 = model_approx_12.predict(dX_approx_test12)\n",
        "\n",
        "rmse_approx_12 = np.sqrt(mean_squared_error(pred_approx_12, y_test12))\n",
        "rmse_approx_12"
      ],
      "execution_count": 44,
      "outputs": [
        {
          "output_type": "stream",
          "name": "stdout",
          "text": [
            "Evaluation \t Proposed point \t  Current eval. \t  Best eval. \t         Max AcqFunc.\n",
            "init\t [1.54162842 7.40049697 6.         0.54321714 4.         0.11311747]\t -0.6840535846029854\t -0.5032799564384677\t    \n",
            "init\t [ 9.18747008  9.00714854 14.          0.97847467 11.          0.35544552]\t -0.6305456734924068\t -0.5032799564384677\t    \n",
            "init\t [ 6.06083184  9.44225136 14.          0.95626942  5.          0.56910342]\t -0.6144010633484512\t -0.5032799564384677\t    \n",
            "init\t [ 5.52037633  4.85377414  7.          0.97886436 17.          0.78810441]\t -0.5032799564384677\t -0.5032799564384677\t    \n",
            "init\t [ 0.20809798  1.35210178  5.          0.65494879 16.          0.36062811]\t -0.6516977337723864\t -0.5032799564384677\t    \n",
            "1  \t [9.46555822 8.57190559 5.         0.50164398 5.         0.71992807]\t -0.5227768283895782\t -0.5032799564384677\t    \n",
            "2  \t [ 7.57473716  9.63637997 12.          0.83444517 10.          0.18761713]\t -0.6734912089891107\t -0.5032799564384677\t    \n",
            "\u001b[1m\u001b[92m3\u001b[0m\t \u001b[1m\u001b[92m[ 9.04517621  0.80881017 13.          0.96890904  5.          0.75400021]\u001b[0m\t \u001b[1m\u001b[92m-0.4806753007187634\u001b[0m\t \u001b[1m\u001b[92m-0.4806753007187634\u001b[0m\t \u001b[1m\u001b[92m-0.5743628975257424\u001b[0m\n",
            "\u001b[1m\u001b[92m4\u001b[0m\t \u001b[1m\u001b[92m[ 2.73241117  0.55778587 14.          0.70282167 15.          0.8966204 ]\u001b[0m\t \u001b[1m\u001b[92m-0.4777748953827142\u001b[0m\t \u001b[1m\u001b[92m-0.4777748953827142\u001b[0m\t \u001b[1m\u001b[92m-0.5521744491227525\u001b[0m\n",
            "5  \t [ 6.66970674  0.03985694  6.          0.76922453 11.          0.18327615]\t -0.6744989447281609\t -0.4777748953827142\t    \n",
            "6  \t [ 1.23389285  0.85357459 13.          0.93854198  3.          0.52598214]\t -0.6188016111425869\t -0.4777748953827142\t    \n",
            "7  \t [ 0.57203639  5.0857779   9.          0.68290949 10.          0.94408458]\t -0.4796925982784261\t -0.4777748953827142\t    \n",
            "8  \t [ 9.11635581  9.60013795  5.          0.57034236 14.          0.41758327]\t -0.658514740722844\t -0.4777748953827142\t    \n",
            "9  \t [9.77568711 0.70796585 6.         0.73327465 3.         0.82051057]\t -0.5048487748496318\t -0.4777748953827142\t    \n",
            "10 \t [ 0.14475494  9.8292754  12.          0.60331385  2.          0.9622215 ]\t -0.4793528614807392\t -0.4777748953827142\t    \n",
            "11 \t [ 3.24107348  8.27034509 14.          0.92485614 16.          0.53812048]\t -0.6108249049014036\t -0.4777748953827142\t    \n",
            "12 \t [ 7.55307662  2.76896497 12.          0.93049335 17.          0.33736097]\t -0.6325286612401115\t -0.4777748953827142\t    \n",
            "13 \t [ 0.04787228  7.48596331  8.          0.52068382 16.          0.7086396 ]\t -0.5480409890266915\t -0.4777748953827142\t    \n",
            "14 \t [4.27099049 1.84437193 8.         0.60505752 3.         0.28835442]\t -0.6449257366707647\t -0.4777748953827142\t    \n",
            "15 \t [ 5.00288594  8.63257736  7.          0.63451109 10.          0.4931163 ]\t -0.6200967125674864\t -0.4777748953827142\t    \n",
            "16 \t [ 0.75762994  8.12646429 14.11870925  0.71449911  7.83414448  0.75390794]\t -0.4817342605199274\t -0.4777748953827142\t    \n",
            "17 \t [ 8.92040797  9.99421763 13.          0.88657464 18.          0.32294618]\t -0.632890825873186\t -0.4777748953827142\t    \n",
            "\u001b[1m\u001b[92m18\u001b[0m\t \u001b[1m\u001b[92m[0.25263226 0.         5.         1.         1.         1.        ]\u001b[0m\t \u001b[1m\u001b[92m-0.4718851991876415\u001b[0m\t \u001b[1m\u001b[92m-0.4718851991876415\u001b[0m\t \u001b[1m\u001b[92m-0.5466726866986803\u001b[0m\n",
            "19 \t [1.34916814 0.         5.         0.5743551  6.70327605 0.1       ]\t -0.6836677918435246\t -0.4718851991876415\t    \n",
            "20 \t [ 9.98175567  0.8705802   6.          0.55210219 18.          0.50471737]\t -0.6350082940586608\t -0.4718851991876415\t    \n",
            "21 \t [ 6.26649824  4.98006493 14.          0.7181208   9.          0.25218732]\t -0.6772913973454617\t -0.4718851991876415\t    \n",
            "22 \t [ 9.78903646  2.79792749  8.50649894  1.         13.28037718  0.58334765]\t -0.5337920549712569\t -0.4718851991876415\t    \n",
            "23 \t [8.56036095 5.89309299 9.15117058 0.83657857 7.6416582  0.59411876]\t -0.5331264553429979\t -0.4718851991876415\t    \n",
            "24 \t [6.75318597 7.32005423 7.56366208 1.         1.13317436 0.1       ]\t -0.6552222106873933\t -0.4718851991876415\t    \n",
            "25 \t [ 3.96205991  9.89622107  8.          0.50097572 19.          0.66768637]\t -0.5545814169322449\t -0.4718851991876415\t    \n",
            "26 \t [ 5.24462228  0.17690887 10.          0.5616325   9.          0.71732742]\t -0.5029609828267528\t -0.4718851991876415\t    \n",
            "27 \t [ 0.35496199  2.82245133 11.          0.77608605 18.          0.90361157]\t -0.47856068602483565\t -0.4718851991876415\t    \n",
            "28 \t [ 1.06901278  1.2993628   6.          0.92505591 11.          0.79917335]\t -0.5061631254797113\t -0.4718851991876415\t    \n",
            "29 \t [ 3.8544074   5.22723842 10.          0.76354194  1.          0.13710805]\t -0.6788335648158361\t -0.4718851991876415\t    \n",
            "30 \t [ 0.         10.          5.          1.          7.82724795  1.        ]\t -0.47301918895132855\t -0.4718851991876415\t    \n"
          ]
        },
        {
          "output_type": "execute_result",
          "data": {
            "text/plain": [
              "5.348010535076966"
            ]
          },
          "metadata": {},
          "execution_count": 44
        }
      ]
    },
    {
      "cell_type": "code",
      "metadata": {
        "id": "yDI2Bi9vU05U",
        "colab": {
          "base_uri": "https://localhost:8080/"
        },
        "outputId": "94a7f0ea-2a72-4745-bc01-2776f1a86886"
      },
      "source": [
        "### Bayesian optimization runs (x20): 'approx' Acquisition Function run number = 13\n",
        "\n",
        "np.random.seed(run_num_13)\n",
        "surrogate_approx_13 = dGaussianProcess(cov_func, optimize=opt)\n",
        "\n",
        "X_train13, X_test13, y_train13, y_test13 = train_test_split(X, y, test_size=test_perc, random_state=run_num_13)\n",
        "\n",
        "def f_syn_polarity13(alpha, gamma, max_depth, subsample, min_child_weight, colsample):\n",
        "    reg = XGBRegressor(reg_alpha=alpha, gamma=gamma, max_depth=int(max_depth), subsample=subsample, min_child_weight=min_child_weight,\n",
        "          colsample_bytree=colsample, n_estimators = n_est, random_state=run_num_13, objective = 'reg:squarederror')\n",
        "    score = np.array(cross_val_score(reg, X=X_train13, y=y_train13).mean())\n",
        "    return operator * score\n",
        "\n",
        "approx_13 = GPGO_multi(surrogate_approx_13, Acquisition(util_approx), f_syn_polarity13, param, n_jobs = -1) # define BayesOpt\n",
        "approx_13.run(max_iter = max_iter, init_evals = n_init) # run\n",
        "\n",
        "### Return optimal parameters' set:\n",
        "params_approx_13 = approx_13.getResult()[0]\n",
        "params_approx_13['max_depth'] = int(params_approx_13['max_depth'])\n",
        "params_approx_13['min_child_weight'] = int(params_approx_13['min_child_weight'])\n",
        "\n",
        "### Re-train with optimal parameters, run predictons:\n",
        "dX_approx_train13 = xgb.DMatrix(X_train13, y_train13)\n",
        "dX_approx_test13 = xgb.DMatrix(X_test13, y_test13)\n",
        "model_approx_13 = xgb.train(params_approx_13, dX_approx_train13)\n",
        "pred_approx_13 = model_approx_13.predict(dX_approx_test13)\n",
        "\n",
        "rmse_approx_13 = np.sqrt(mean_squared_error(pred_approx_13, y_test13))\n",
        "rmse_approx_13"
      ],
      "execution_count": 45,
      "outputs": [
        {
          "output_type": "stream",
          "name": "stdout",
          "text": [
            "Evaluation \t Proposed point \t  Current eval. \t  Best eval. \t         Max AcqFunc.\n",
            "init\t [ 7.77702411  2.3754122  11.          0.94649135 13.          0.7827256 ]\t -0.5099204187421568\t -0.5099204187421568\t    \n",
            "init\t [ 7.51661514  6.07343344 11.          0.69402149 11.          0.13153287]\t -0.7086153631136594\t -0.5099204187421568\t    \n",
            "init\t [ 2.98449471  0.58512492 10.          0.73579614 12.          0.33065195]\t -0.6372461781857162\t -0.5099204187421568\t    \n",
            "init\t [ 3.47581215  0.0941277  11.          0.86143432  8.          0.58454932]\t -0.5702017504451442\t -0.5099204187421568\t    \n",
            "init\t [ 4.70137857  6.24432527 10.          0.8149145  18.          0.10784416]\t -0.7101125715665313\t -0.5099204187421568\t    \n",
            "1  \t [1.1119361  5.43221306 6.         0.56899303 8.         0.32100319]\t -0.6493427493033831\t -0.5099204187421568\t    \n",
            "2  \t [ 6.78607938  6.56608561 12.          0.84765686  1.          0.65153116]\t -0.587676594976195\t -0.5099204187421568\t    \n",
            "3  \t [ 9.24780874  8.51103418  5.          0.85105015 14.          0.11807471]\t -0.7114804394826701\t -0.5099204187421568\t    \n",
            "4  \t [ 9.69332517  0.05133704 14.          0.6050422   3.          0.79031428]\t -0.5162956828123637\t -0.5099204187421568\t    \n",
            "5  \t [0.54332874 9.16801531 5.         0.98374535 2.         0.17662624]\t -0.7151583517662211\t -0.5099204187421568\t    \n",
            "6  \t [ 1.86840748  0.75206083 14.          0.81141351 17.          0.47108772]\t -0.6160846256715893\t -0.5099204187421568\t    \n",
            "7  \t [2.42114726 2.21731466 7.         0.52977639 2.         0.33969965]\t -0.6396660621664843\t -0.5099204187421568\t    \n",
            "8  \t [ 1.89221513  8.5037767  14.          0.86717015  6.          0.11990372]\t -0.7161815730157779\t -0.5099204187421568\t    \n",
            "9  \t [9.52796793 0.5269077  7.         0.61130342 2.         0.41024487]\t -0.646488116516862\t -0.5099204187421568\t    \n",
            "10 \t [ 8.13982065  8.36144474 10.          0.55339983  6.          0.72558941]\t -0.5272458084896392\t -0.5099204187421568\t    \n",
            "11 \t [ 4.33230901  0.85672678  6.          0.63795453 19.          0.64597264]\t -0.5916305851001364\t -0.5099204187421568\t    \n",
            "12 \t [ 7.42000681  1.27539351  5.          0.54650948 11.          0.38725518]\t -0.6590542581211495\t -0.5099204187421568\t    \n",
            "13 \t [ 1.24784615  8.5302667   7.          0.99055025 14.          0.52610034]\t -0.6214626581302563\t -0.5099204187421568\t    \n",
            "14 \t [5.58295275 4.44059522 8.         0.59586926 6.         0.4310912 ]\t -0.6208233678912233\t -0.5099204187421568\t    \n",
            "\u001b[1m\u001b[92m15\u001b[0m\t \u001b[1m\u001b[92m[ 3.78319896  9.10205064 14.          0.62806706 13.          0.90182995]\u001b[0m\t \u001b[1m\u001b[92m-0.4816663211789673\u001b[0m\t \u001b[1m\u001b[92m-0.4816663211789673\u001b[0m\t \u001b[1m\u001b[92m-0.5851412911444605\u001b[0m\n",
            "16 \t [ 7.07993587  3.46281488 14.          0.82366487  7.          0.56206532]\t -0.616023338612747\t -0.4816663211789673\t    \n",
            "17 \t [7.55403251 6.23917493 5.         0.63649547 1.         0.75229567]\t -0.5374292281718862\t -0.4816663211789673\t    \n",
            "18 \t [ 0.94229296  2.02450761 13.          0.65000924  1.          0.22250131]\t -0.7194219871093057\t -0.4816663211789673\t    \n",
            "19 \t [ 8.70212257  9.22072414 13.          0.93050035 17.          0.7479803 ]\t -0.5116607500666849\t -0.4816663211789673\t    \n",
            "20 \t [ 9.35280568  2.44132886  8.          0.87489385 18.          0.92170626]\t -0.49123124118162603\t -0.4816663211789673\t    \n",
            "21 \t [ 1.23850137  5.96524691 14.          0.65167204 16.          0.56763255]\t -0.6196449278548123\t -0.4816663211789673\t    \n",
            "22 \t [ 7.07595863  4.38601269 14.          0.69575224 18.          0.84020485]\t -0.5094677114975921\t -0.4816663211789673\t    \n",
            "23 \t [ 2.05622909  9.08047387  8.          0.8397078  17.          0.73365999]\t -0.5126218176815447\t -0.4816663211789673\t    \n",
            "24 \t [ 0.537802    3.33621713  8.          0.77943172 18.          0.5870313 ]\t -0.5738505862362491\t -0.4816663211789673\t    \n",
            "25 \t [ 5.52481546  5.87728353  6.          0.91974564 12.          0.91476175]\t -0.503940866762763\t -0.4816663211789673\t    \n",
            "26 \t [9.09105874 6.58287092 6.         0.6008869  5.         0.92518653]\t -0.505393062426751\t -0.4816663211789673\t    \n",
            "\u001b[1m\u001b[92m27\u001b[0m\t \u001b[1m\u001b[92m[ 7.45171813 10.         14.20155692  1.          8.0938382   0.98909473]\u001b[0m\t \u001b[1m\u001b[92m-0.4713831403917096\u001b[0m\t \u001b[1m\u001b[92m-0.4713831403917096\u001b[0m\t \u001b[1m\u001b[92m-0.5542570038563122\u001b[0m\n",
            "\u001b[1m\u001b[92m28\u001b[0m\t \u001b[1m\u001b[92m[ 8.80142806 10.          5.          0.94101918  9.12385459  1.        ]\u001b[0m\t \u001b[1m\u001b[92m-0.4704914120931255\u001b[0m\t \u001b[1m\u001b[92m-0.4704914120931255\u001b[0m\t \u001b[1m\u001b[92m-0.5451044457046722\u001b[0m\n",
            "29 \t [ 0.42060893  0.71670801  5.          0.74681906 13.          0.66880385]\t -0.5904291451896722\t -0.4704914120931255\t    \n",
            "30 \t [0.43091775 0.3532639  5.         0.76123896 7.         0.49074528]\t -0.6279630584555015\t -0.4704914120931255\t    \n"
          ]
        },
        {
          "output_type": "execute_result",
          "data": {
            "text/plain": [
              "5.289773227234643"
            ]
          },
          "metadata": {},
          "execution_count": 45
        }
      ]
    },
    {
      "cell_type": "code",
      "metadata": {
        "id": "Z2F_Q194U3uu",
        "colab": {
          "base_uri": "https://localhost:8080/"
        },
        "outputId": "3c4effcd-d388-457c-d237-510f6c556569"
      },
      "source": [
        "### Bayesian optimization runs (x20): 'approx' Acquisition Function run number = 14\n",
        "\n",
        "np.random.seed(run_num_14)\n",
        "surrogate_approx_14 = dGaussianProcess(cov_func, optimize=opt)\n",
        "\n",
        "X_train14, X_test14, y_train14, y_test14 = train_test_split(X, y, test_size=test_perc, random_state=run_num_14)\n",
        "\n",
        "def f_syn_polarity14(alpha, gamma, max_depth, subsample, min_child_weight, colsample):\n",
        "    reg = XGBRegressor(reg_alpha=alpha, gamma=gamma, max_depth=int(max_depth), subsample=subsample, min_child_weight=min_child_weight,\n",
        "          colsample_bytree=colsample, n_estimators = n_est, random_state=run_num_14, objective = 'reg:squarederror')\n",
        "    score = np.array(cross_val_score(reg, X=X_train14, y=y_train14).mean())\n",
        "    return operator * score\n",
        "\n",
        "approx_14 = GPGO_multi(surrogate_approx_14, Acquisition(util_approx), f_syn_polarity14, param, n_jobs = -1) # define BayesOpt\n",
        "approx_14.run(max_iter = max_iter, init_evals = n_init) # run\n",
        "\n",
        "### Return optimal parameters' set:\n",
        "params_approx_14 = approx_14.getResult()[0]\n",
        "params_approx_14['max_depth'] = int(params_approx_14['max_depth'])\n",
        "params_approx_14['min_child_weight'] = int(params_approx_14['min_child_weight'])\n",
        "\n",
        "### Re-train with optimal parameters, run predictons:\n",
        "dX_approx_train14 = xgb.DMatrix(X_train14, y_train14)\n",
        "dX_approx_test14 = xgb.DMatrix(X_test14, y_test14)\n",
        "model_approx_14 = xgb.train(params_approx_14, dX_approx_train14)\n",
        "pred_approx_14 = model_approx_14.predict(dX_approx_test14)\n",
        "\n",
        "rmse_approx_14 = np.sqrt(mean_squared_error(pred_approx_14, y_test14))\n",
        "rmse_approx_14"
      ],
      "execution_count": 46,
      "outputs": [
        {
          "output_type": "stream",
          "name": "stdout",
          "text": [
            "Evaluation \t Proposed point \t  Current eval. \t  Best eval. \t         Max AcqFunc.\n",
            "init\t [ 5.13943344  7.73165052 12.          0.6831412  11.          0.37876233]\t -0.558794499921046\t -0.4448140077853999\t    \n",
            "init\t [ 9.57603739  5.13116712 14.          0.76959997 12.          0.71328228]\t -0.49979629433789113\t -0.4448140077853999\t    \n",
            "init\t [5.34950319 2.47493539 5.         0.50293689 6.         0.29706373]\t -0.5741697988899073\t -0.4448140077853999\t    \n",
            "init\t [ 2.94506579  3.45329697  8.          0.87620946 14.          0.9783044 ]\t -0.4448140077853999\t -0.4448140077853999\t    \n",
            "init\t [ 1.11811929  1.73004086  5.          0.73745288 12.          0.20586008]\t -0.6214151152359092\t -0.4448140077853999\t    \n",
            "1  \t [ 6.50637223  2.67617722 14.          0.53562507  1.          0.16862152]\t -0.6294794339238933\t -0.4448140077853999\t    \n",
            "2  \t [ 9.16780803  5.31613214 10.          0.57182868  6.          0.98158575]\t -0.45924355274685935\t -0.4448140077853999\t    \n",
            "3  \t [0.07739536 3.94062842 5.         0.7395899  3.         0.9764837 ]\t -0.45935750652191915\t -0.4448140077853999\t    \n",
            "4  \t [6.9195004  0.54496332 8.         0.81208598 3.         0.15286338]\t -0.6240299412135976\t -0.4448140077853999\t    \n",
            "5  \t [ 9.22243919  0.59642165  6.          0.72537748 19.          0.46639325]\t -0.5107114792685572\t -0.4448140077853999\t    \n",
            "6  \t [ 0.49138495  8.52939618 10.          0.75897738  1.          0.21612775]\t -0.6233774536812148\t -0.4448140077853999\t    \n",
            "7  \t [ 5.79577795  1.8570688  14.          0.83128935 19.          0.71549729]\t -0.47152904635610116\t -0.4448140077853999\t    \n",
            "8  \t [ 0.63353879  9.61017877  8.          0.96421247 18.          0.39200727]\t -0.5519186326582054\t -0.4448140077853999\t    \n",
            "9  \t [ 6.82711248  9.86843937 13.          0.52138031 17.          0.20003272]\t -0.6291207366201794\t -0.4448140077853999\t    \n",
            "10 \t [ 1.6361515   9.65601963  6.          0.78645605 10.          0.24059194]\t -0.6204080143724908\t -0.4448140077853999\t    \n",
            "11 \t [ 9.30217735  6.23147787  8.          0.97503033 15.          0.52511943]\t -0.5012787962633106\t -0.4448140077853999\t    \n",
            "12 \t [ 1.50285169  4.17593259 14.          0.69234646  6.          0.74044842]\t -0.4686692466684221\t -0.4448140077853999\t    \n",
            "\u001b[1m\u001b[92m13\u001b[0m\t \u001b[1m\u001b[92m[ 0.25039867  4.81148287 14.          0.83239345 15.          0.88911818]\u001b[0m\t \u001b[1m\u001b[92m-0.43183090108974975\u001b[0m\t \u001b[1m\u001b[92m-0.43183090108974975\u001b[0m\t \u001b[1m\u001b[92m-0.5094344921864511\u001b[0m\n",
            "14 \t [ 8.34315048  0.          5.          0.5        11.99950177  0.1       ]\t -0.6313189871339027\t -0.43183090108974975\t    \n",
            "15 \t [ 1.13909448  9.99750981 12.          0.83097832  8.          0.96211319]\t -0.43448557497453333\t -0.43183090108974975\t    \n",
            "16 \t [ 8.51859206  9.64345214  6.          0.75395928 10.          0.93730402]\t -0.4614118880524362\t -0.43183090108974975\t    \n",
            "17 \t [ 7.83429508  8.78694401 14.          0.74976219  2.          0.13371773]\t -0.6220211339278581\t -0.43183090108974975\t    \n",
            "18 \t [4.97472671 9.79349594 6.         0.82979146 1.         0.66762122]\t -0.5028719054968056\t -0.43183090108974975\t    \n",
            "19 \t [8.73295943 6.81682693 5.         0.89035289 4.         0.58477188]\t -0.499751986446641\t -0.43183090108974975\t    \n",
            "20 \t [2.03544962 0.82234782 9.         0.75192666 8.         0.57674562]\t -0.4958158998018211\t -0.43183090108974975\t    \n",
            "21 \t [ 1.52900897  2.49551652 10.          0.74070159  3.          0.79386687]\t -0.47442912742215454\t -0.43183090108974975\t    \n",
            "22 \t [9.92293334 7.62999832 9.         0.69951574 1.         0.13133752]\t -0.6255194334103733\t -0.43183090108974975\t    \n",
            "23 \t [ 7.88587564  1.27392905 13.          0.76943247  6.          0.34066608]\t -0.5571026130531568\t -0.43183090108974975\t    \n",
            "24 \t [ 6.55062625  9.63146322  5.          0.68406751 18.          0.23627226]\t -0.6249350214618472\t -0.43183090108974975\t    \n",
            "25 \t [ 2.42050267  1.13561909 14.          0.8620572  13.          0.77307451]\t -0.46141856809497295\t -0.43183090108974975\t    \n",
            "26 \t [ 7.99859192  1.27814403 11.          0.87670998 12.          0.48785901]\t -0.4963636509295227\t -0.43183090108974975\t    \n",
            "27 \t [3.10739845 7.62036575 8.         0.71386998 6.         0.29874514]\t -0.5566695441277274\t -0.43183090108974975\t    \n",
            "28 \t [ 9.70174036  9.71799099 14.          0.84593857  8.          0.66512595]\t -0.492151770581115\t -0.43183090108974975\t    \n",
            "29 \t [ 6.80918331  2.60600854 10.          0.6146055  16.          0.83665564]\t -0.48652864908903465\t -0.43183090108974975\t    \n",
            "30 \t [ 1.26617981  4.03386415  8.          0.85223134 19.          0.86958504]\t -0.4481330730823694\t -0.43183090108974975\t    \n"
          ]
        },
        {
          "output_type": "execute_result",
          "data": {
            "text/plain": [
              "4.728867098394265"
            ]
          },
          "metadata": {},
          "execution_count": 46
        }
      ]
    },
    {
      "cell_type": "code",
      "metadata": {
        "id": "Po5wImJaU6VC",
        "colab": {
          "base_uri": "https://localhost:8080/"
        },
        "outputId": "07fc2160-96ff-499e-f2aa-0bd94e6867ca"
      },
      "source": [
        "### Bayesian optimization runs (x20): 'approx' Acquisition Function run number = 15\n",
        "\n",
        "np.random.seed(run_num_15)\n",
        "surrogate_approx_15 = dGaussianProcess(cov_func, optimize=opt)\n",
        "\n",
        "X_train15, X_test15, y_train15, y_test15 = train_test_split(X, y, test_size=test_perc, random_state=run_num_15)\n",
        "\n",
        "def f_syn_polarity15(alpha, gamma, max_depth, subsample, min_child_weight, colsample):\n",
        "    reg = XGBRegressor(reg_alpha=alpha, gamma=gamma, max_depth=int(max_depth), subsample=subsample, min_child_weight=min_child_weight,\n",
        "          colsample_bytree=colsample, n_estimators = n_est, random_state=run_num_15, objective = 'reg:squarederror')\n",
        "    score = np.array(cross_val_score(reg, X=X_train15, y=y_train15).mean())\n",
        "    return operator * score\n",
        "\n",
        "approx_15 = GPGO_multi(surrogate_approx_15, Acquisition(util_approx), f_syn_polarity15, param, n_jobs = -1) # define BayesOpt\n",
        "approx_15.run(max_iter = max_iter, init_evals = n_init) # run\n",
        "\n",
        "### Return optimal parameters' set:\n",
        "params_approx_15 = approx_15.getResult()[0]\n",
        "params_approx_15['max_depth'] = int(params_approx_15['max_depth'])\n",
        "params_approx_15['min_child_weight'] = int(params_approx_15['min_child_weight'])\n",
        "\n",
        "### Re-train with optimal parameters, run predictons:\n",
        "dX_approx_train15 = xgb.DMatrix(X_train15, y_train15)\n",
        "dX_approx_test15 = xgb.DMatrix(X_test15, y_test15)\n",
        "model_approx_15 = xgb.train(params_approx_15, dX_approx_train15)\n",
        "pred_approx_15 = model_approx_15.predict(dX_approx_test15)\n",
        "\n",
        "rmse_approx_15 = np.sqrt(mean_squared_error(pred_approx_15, y_test15))\n",
        "rmse_approx_15"
      ],
      "execution_count": 47,
      "outputs": [
        {
          "output_type": "stream",
          "name": "stdout",
          "text": [
            "Evaluation \t Proposed point \t  Current eval. \t  Best eval. \t         Max AcqFunc.\n",
            "init\t [ 8.48817697  1.78895925 12.          0.55549316  8.          0.93397854]\t -0.489437914006383\t -0.489437914006383\t    \n",
            "init\t [ 0.24953032  8.22298097 12.          0.62494951 11.          0.12924598]\t -0.6992441679399787\t -0.489437914006383\t    \n",
            "init\t [ 5.02017228  5.50882771 11.          0.85295832 19.          0.13548008]\t -0.69945028775584\t -0.489437914006383\t    \n",
            "init\t [2.0023081  9.98543403 7.         0.6295772  2.         0.526127  ]\t -0.6264981748624211\t -0.489437914006383\t    \n",
            "init\t [ 5.09715306  9.45038417 11.          0.7388277  16.          0.22739973]\t -0.6964615643692806\t -0.489437914006383\t    \n",
            "1  \t [ 0.29158961  4.9949242  12.          0.89124583  3.          0.67554049]\t -0.56524595824364\t -0.489437914006383\t    \n",
            "2  \t [2.60517447 0.82584036 7.         0.6107555  4.         0.25427784]\t -0.6976766501007658\t -0.489437914006383\t    \n",
            "3  \t [ 1.91126037  0.99517267  5.          0.54111286 13.          0.82351196]\t -0.5203297112050622\t -0.489437914006383\t    \n",
            "4  \t [ 9.65016643  9.36315476  6.          0.59817648 12.          0.93115055]\t -0.5035725842878749\t -0.489437914006383\t    \n",
            "\u001b[1m\u001b[92m5\u001b[0m\t \u001b[1m\u001b[92m[ 7.92634325  7.5869497  10.          0.81214373  5.          0.71583728]\u001b[0m\t \u001b[1m\u001b[92m-0.48077564047020915\u001b[0m\t \u001b[1m\u001b[92m-0.48077564047020915\u001b[0m\t \u001b[1m\u001b[92m-0.5644830672336411\u001b[0m\n",
            "6  \t [ 7.93959095  1.14458347 12.          0.83279927 13.          0.31926382]\t -0.6854377590797448\t -0.48077564047020915\t    \n",
            "7  \t [ 1.16848639  8.05538533  5.          0.78038294 17.          0.39890654]\t -0.6820374964576017\t -0.48077564047020915\t    \n",
            "8  \t [ 2.92030295  6.55213539  7.          0.85743112 11.          0.10721562]\t -0.6994232506027507\t -0.48077564047020915\t    \n",
            "9  \t [8.88449541 3.44367948 6.         0.58829924 7.         0.7864797 ]\t -0.512561519837635\t -0.48077564047020915\t    \n",
            "10 \t [ 7.63220266  0.71776488 13.          0.94235703 19.          0.50312607]\t -0.6214609326165444\t -0.48077564047020915\t    \n",
            "11 \t [7.86329715 0.45193827 6.         0.68312899 1.         0.69810196]\t -0.5708964123226768\t -0.48077564047020915\t    \n",
            "12 \t [ 9.84885491  3.44589736 14.          0.68420761  1.          0.79220009]\t -0.48343162855817534\t -0.48077564047020915\t    \n",
            "13 \t [ 0.90706815  0.79490515  7.          0.51831376 19.          0.91250419]\t -0.4948532295288583\t -0.48077564047020915\t    \n",
            "14 \t [ 7.74771021  6.65318771  6.          0.83647538 17.          0.81072392]\t -0.5116796961222467\t -0.48077564047020915\t    \n",
            "\u001b[1m\u001b[92m15\u001b[0m\t \u001b[1m\u001b[92m[ 6.65116837  8.16324548 14.          0.95750787  1.          0.74925927]\u001b[0m\t \u001b[1m\u001b[92m-0.4743330993644729\u001b[0m\t \u001b[1m\u001b[92m-0.4743330993644729\u001b[0m\t \u001b[1m\u001b[92m-0.5521831044945138\u001b[0m\n",
            "16 \t [ 1.01000548  1.96777104 12.          0.51504561  8.          0.68970296]\t -0.5746890275202554\t -0.4743330993644729\t    \n",
            "\u001b[1m\u001b[92m17\u001b[0m\t \u001b[1m\u001b[92m[ 4.37932047  6.20385796 12.          0.97766072  9.          0.88967325]\u001b[0m\t \u001b[1m\u001b[92m-0.4658895846734884\u001b[0m\t \u001b[1m\u001b[92m-0.4658895846734884\u001b[0m\t \u001b[1m\u001b[92m-0.5452474472706818\u001b[0m\n",
            "18 \t [ 1.86027286  4.35430307 13.          0.53536444 15.          0.92334731]\t -0.4824087135892917\t -0.4658895846734884\t    \n",
            "19 \t [ 9.64875283  9.32176949  8.          0.85263567 19.          0.33410227]\t -0.6857273355666543\t -0.4658895846734884\t    \n",
            "20 \t [6.71458767 6.21192942 5.         0.70021974 1.         0.14733325]\t -0.6943939846787571\t -0.4658895846734884\t    \n",
            "21 \t [ 6.73498132  2.48341216  8.          0.97238597 17.          0.57678061]\t -0.567198459668888\t -0.4658895846734884\t    \n",
            "22 \t [ 9.31305405  2.68340802  7.          0.59348541 12.          0.97471219]\t -0.4968862489406364\t -0.4658895846734884\t    \n",
            "23 \t [ 5.3880688   2.65297896 14.          0.90613057  4.          0.23404421]\t -0.6977205294928697\t -0.4658895846734884\t    \n",
            "24 \t [ 2.81158295  0.14163964 12.          0.70854558 13.          0.79112734]\t -0.4842462210120286\t -0.4658895846734884\t    \n",
            "25 \t [3.03172944 5.76276781 8.         0.84811645 4.         0.37564447]\t -0.6861169122094539\t -0.4658895846734884\t    \n",
            "26 \t [ 7.4679151   6.11968454 14.          0.59617872 16.          0.1338107 ]\t -0.6993379322173302\t -0.4658895846734884\t    \n",
            "27 \t [ 5.05579023  0.09405836  8.          0.93704589 10.          0.9570134 ]\t -0.4745561015346341\t -0.4658895846734884\t    \n",
            "\u001b[1m\u001b[92m28\u001b[0m\t \u001b[1m\u001b[92m[ 0.17423277  9.28464895 11.          0.86455659  1.          0.87456687]\u001b[0m\t \u001b[1m\u001b[92m-0.46266030027567673\u001b[0m\t \u001b[1m\u001b[92m-0.46266030027567673\u001b[0m\t \u001b[1m\u001b[92m-0.5388074804964175\u001b[0m\n",
            "29 \t [ 9.86958766  9.71945286 10.          0.93465271  9.          0.31222907]\t -0.6892292934561406\t -0.46266030027567673\t    \n",
            "30 \t [ 9.40435768  7.598465   10.          0.97457018 15.          0.31309738]\t -0.6891569408822912\t -0.46266030027567673\t    \n"
          ]
        },
        {
          "output_type": "execute_result",
          "data": {
            "text/plain": [
              "4.570230628583621"
            ]
          },
          "metadata": {},
          "execution_count": 47
        }
      ]
    },
    {
      "cell_type": "code",
      "metadata": {
        "id": "9HrAQN-pU9Qo",
        "colab": {
          "base_uri": "https://localhost:8080/"
        },
        "outputId": "628ec630-5bd2-4990-c4b0-1aef78697892"
      },
      "source": [
        "### Bayesian optimization runs (x20): 'approx' Acquisition Function run number = 16\n",
        "\n",
        "np.random.seed(run_num_16)\n",
        "surrogate_approx_16 = dGaussianProcess(cov_func, optimize=opt)\n",
        "\n",
        "X_train16, X_test16, y_train16, y_test16 = train_test_split(X, y, test_size=test_perc, random_state=run_num_16)\n",
        "\n",
        "def f_syn_polarity16(alpha, gamma, max_depth, subsample, min_child_weight, colsample):\n",
        "    reg = XGBRegressor(reg_alpha=alpha, gamma=gamma, max_depth=int(max_depth), subsample=subsample, min_child_weight=min_child_weight,\n",
        "          colsample_bytree=colsample, n_estimators = n_est, random_state=run_num_16, objective = 'reg:squarederror')\n",
        "    score = np.array(cross_val_score(reg, X=X_train16, y=y_train16).mean())\n",
        "    return operator * score\n",
        "\n",
        "approx_16 = GPGO_multi(surrogate_approx_16, Acquisition(util_approx), f_syn_polarity16, param, n_jobs = -1) # define BayesOpt\n",
        "approx_16.run(max_iter = max_iter, init_evals = n_init) # run\n",
        "\n",
        "### Return optimal parameters' set:\n",
        "params_approx_16 = approx_16.getResult()[0]\n",
        "params_approx_16['max_depth'] = int(params_approx_16['max_depth'])\n",
        "params_approx_16['min_child_weight'] = int(params_approx_16['min_child_weight'])\n",
        "\n",
        "### Re-train with optimal parameters, run predictons:\n",
        "dX_approx_train16 = xgb.DMatrix(X_train16, y_train16)\n",
        "dX_approx_test16 = xgb.DMatrix(X_test16, y_test16)\n",
        "model_approx_16 = xgb.train(params_approx_16, dX_approx_train16)\n",
        "pred_approx_16 = model_approx_16.predict(dX_approx_test16)\n",
        "\n",
        "rmse_approx_16 = np.sqrt(mean_squared_error(pred_approx_16, y_test16))\n",
        "rmse_approx_16"
      ],
      "execution_count": 48,
      "outputs": [
        {
          "output_type": "stream",
          "name": "stdout",
          "text": [
            "Evaluation \t Proposed point \t  Current eval. \t  Best eval. \t         Max AcqFunc.\n",
            "init\t [2.23291079 5.23163341 6.         0.65430839 5.         0.30077285]\t -0.6357813258069683\t -0.6345701590947206\t    \n",
            "init\t [6.88726162 1.63731425 7.         0.97050543 2.         0.25392012]\t -0.7029752724132097\t -0.6345701590947206\t    \n",
            "init\t [ 5.94328983  5.6393473   5.          0.67602695 19.          0.42538144]\t -0.6345701590947206\t -0.6345701590947206\t    \n",
            "init\t [ 0.88741148  3.08148142 14.          0.56043938  9.          0.27515386]\t -0.7076230970293895\t -0.6345701590947206\t    \n",
            "init\t [ 2.74631586  1.30996118 11.          0.52160786  8.          0.27956463]\t -0.7061563820165734\t -0.6345701590947206\t    \n",
            "\u001b[1m\u001b[92m1\u001b[0m\t \u001b[1m\u001b[92m[ 7.8937256   1.5972923  14.          0.61610774 17.          0.78739284]\u001b[0m\t \u001b[1m\u001b[92m-0.5498317738591506\u001b[0m\t \u001b[1m\u001b[92m-0.5498317738591506\u001b[0m\t \u001b[1m\u001b[92m-0.6983628924856949\u001b[0m\n",
            "2  \t [ 9.65014948  7.07834667 14.          0.88748515  2.          0.43513691]\t -0.5694622631948656\t -0.5498317738591506\t    \n",
            "3  \t [ 9.80741348  8.90144788 14.          0.82131992 14.          0.46769684]\t -0.5668863692096254\t -0.5498317738591506\t    \n",
            "4  \t [ 0.78730688  7.98438553 14.          0.91743896 18.          0.25645593]\t -0.7034666397019427\t -0.5498317738591506\t    \n",
            "5  \t [ 1.64983341  0.37890577  9.          0.65437216 16.          0.49641159]\t -0.5723152354991565\t -0.5498317738591506\t    \n",
            "\u001b[1m\u001b[92m6\u001b[0m\t \u001b[1m\u001b[92m[ 5.58043809  8.91463745  8.          0.85851576 10.          0.64398202]\u001b[0m\t \u001b[1m\u001b[92m-0.5394691206821607\u001b[0m\t \u001b[1m\u001b[92m-0.5394691206821607\u001b[0m\t \u001b[1m\u001b[92m-0.6185258257826048\u001b[0m\n",
            "7  \t [ 2.65571666  4.32529089 14.          0.66921971  2.          0.36607383]\t -0.6464801434165215\t -0.5394691206821607\t    \n",
            "8  \t [ 5.53392197  2.00879238  6.          0.89871466 12.          0.67694144]\t -0.5469067821272691\t -0.5394691206821607\t    \n",
            "\u001b[1m\u001b[92m9\u001b[0m\t \u001b[1m\u001b[92m[6.95801625 9.13555009 8.         0.87520198 2.         0.98461662]\u001b[0m\t \u001b[1m\u001b[92m-0.459858810359861\u001b[0m\t \u001b[1m\u001b[92m-0.459858810359861\u001b[0m\t \u001b[1m\u001b[92m-0.6066051530933467\u001b[0m\n",
            "10 \t [ 8.77492053  6.74985642  5.          0.72525183 13.          0.93231357]\t -0.5000126867450256\t -0.459858810359861\t    \n",
            "11 \t [ 1.18539745  9.79684488 10.          0.69107903  4.          0.12860486]\t -0.7073064797779202\t -0.459858810359861\t    \n",
            "12 \t [ 8.8197294   2.64777319 14.          0.98646567 10.          0.63786085]\t -0.5373324936054761\t -0.459858810359861\t    \n",
            "\u001b[1m\u001b[92m13\u001b[0m\t \u001b[1m\u001b[92m[ 0.26172129  9.94921995 14.          0.88029118  9.          0.93655616]\u001b[0m\t \u001b[1m\u001b[92m-0.45152053563727684\u001b[0m\t \u001b[1m\u001b[92m-0.45152053563727684\u001b[0m\t \u001b[1m\u001b[92m-0.5393865682450407\u001b[0m\n",
            "14 \t [0.50474552 1.15372476 8.         0.52058641 1.         0.43046119]\t -0.5790419770781896\t -0.45152053563727684\t    \n",
            "15 \t [ 0.02157337  9.97534925  5.          0.75404051 13.          0.40760752]\t -0.6336754873953304\t -0.45152053563727684\t    \n",
            "16 \t [ 5.73702737  7.50903876 13.          0.61487351 15.          0.57742278]\t -0.5493386366741839\t -0.45152053563727684\t    \n",
            "17 \t [ 7.10469951  6.34150339 11.          0.9481748   6.          0.12277199]\t -0.7009377489720375\t -0.45152053563727684\t    \n",
            "18 \t [ 9.56839048  0.13416862 13.          0.80729993  3.          0.41100156]\t -0.6372685525181103\t -0.45152053563727684\t    \n",
            "19 \t [ 9.86485549  9.03746465 10.          0.52506306 19.          0.37580875]\t -0.6403104298000886\t -0.45152053563727684\t    \n",
            "20 \t [8.75370971 6.63075821 5.         0.51315816 7.         0.52603065]\t -0.5829323144677231\t -0.45152053563727684\t    \n",
            "21 \t [ 3.28864291  8.88700951  7.          0.70665299 16.          0.26783249]\t -0.7036971150142254\t -0.45152053563727684\t    \n",
            "22 \t [ 6.72271828  8.33075498 14.          0.78841734 10.          0.48431777]\t -0.5673919883068275\t -0.45152053563727684\t    \n",
            "23 \t [0.58596137 5.71336149 9.         0.70354751 9.         0.28160967]\t -0.7049522924957982\t -0.45152053563727684\t    \n",
            "24 \t [9.80508544 0.83042511 7.         0.54124599 9.         0.7836072 ]\t -0.5511376842555078\t -0.45152053563727684\t    \n",
            "25 \t [ 9.01141716  1.23452325  9.          0.70620993 16.          0.46074297]\t -0.5736906301272524\t -0.45152053563727684\t    \n",
            "26 \t [ 5.38505352  0.27838384  8.          0.64624975 19.          0.94943729]\t -0.48384723995087875\t -0.45152053563727684\t    \n",
            "27 \t [ 0.2375092   5.20448002  7.          0.887766   16.          0.16167958]\t -0.7030972719979267\t -0.45152053563727684\t    \n",
            "28 \t [ 3.60668261  3.61026877 14.          0.9898327  13.          0.9620422 ]\t -0.4580160478583563\t -0.45152053563727684\t    \n",
            "29 \t [10.          9.57861532 10.44352394  0.89214122  8.95904305  0.63188328]\t -0.5379985478293561\t -0.45152053563727684\t    \n",
            "\u001b[1m\u001b[92m30\u001b[0m\t \u001b[1m\u001b[92m[ 4.7005972   9.61374154 12.3758377   1.          1.          1.        ]\u001b[0m\t \u001b[1m\u001b[92m-0.4429370932297271\u001b[0m\t \u001b[1m\u001b[92m-0.4429370932297271\u001b[0m\t \u001b[1m\u001b[92m-0.5310055744309039\u001b[0m\n"
          ]
        },
        {
          "output_type": "execute_result",
          "data": {
            "text/plain": [
              "4.76668258543676"
            ]
          },
          "metadata": {},
          "execution_count": 48
        }
      ]
    },
    {
      "cell_type": "code",
      "metadata": {
        "id": "SXelbcAVVCqO",
        "colab": {
          "base_uri": "https://localhost:8080/"
        },
        "outputId": "2c5f1db6-77ee-4cd3-c912-d56ea66d99a5"
      },
      "source": [
        "### Bayesian optimization runs (x20): 'approx' Acquisition Function run number = 17\n",
        "\n",
        "np.random.seed(run_num_17)\n",
        "surrogate_approx_17 = dGaussianProcess(cov_func, optimize=opt)\n",
        "\n",
        "X_train17, X_test17, y_train17, y_test17 = train_test_split(X, y, test_size=test_perc, random_state=run_num_17)\n",
        "\n",
        "def f_syn_polarity17(alpha, gamma, max_depth, subsample, min_child_weight, colsample):\n",
        "    reg = XGBRegressor(reg_alpha=alpha, gamma=gamma, max_depth=int(max_depth), subsample=subsample, min_child_weight=min_child_weight,\n",
        "          colsample_bytree=colsample, n_estimators = n_est, random_state=run_num_17, objective = 'reg:squarederror')\n",
        "    score = np.array(cross_val_score(reg, X=X_train17, y=y_train17).mean())\n",
        "    return operator * score\n",
        "\n",
        "approx_17 = GPGO_multi(surrogate_approx_17, Acquisition(util_approx), f_syn_polarity17, param, n_jobs = -1) # define BayesOpt\n",
        "approx_17.run(max_iter = max_iter, init_evals = n_init) # run\n",
        "\n",
        "### Return optimal parameters' set:\n",
        "params_approx_17 = approx_17.getResult()[0]\n",
        "params_approx_17['max_depth'] = int(params_approx_17['max_depth'])\n",
        "params_approx_17['min_child_weight'] = int(params_approx_17['min_child_weight'])\n",
        "\n",
        "### Re-train with optimal parameters, run predictons:\n",
        "dX_approx_train17 = xgb.DMatrix(X_train17, y_train17)\n",
        "dX_approx_test17 = xgb.DMatrix(X_test17, y_test17)\n",
        "model_approx_17 = xgb.train(params_approx_17, dX_approx_train17)\n",
        "pred_approx_17 = model_approx_17.predict(dX_approx_test17)\n",
        "\n",
        "rmse_approx_17 = np.sqrt(mean_squared_error(pred_approx_17, y_test17))\n",
        "rmse_approx_17"
      ],
      "execution_count": 49,
      "outputs": [
        {
          "output_type": "stream",
          "name": "stdout",
          "text": [
            "Evaluation \t Proposed point \t  Current eval. \t  Best eval. \t         Max AcqFunc.\n",
            "init\t [ 2.94665003  5.30586756 11.          0.94443241 14.          0.80828691]\t -0.48092361225642916\t -0.48092361225642916\t    \n",
            "init\t [ 6.56333522  6.37520896 12.          0.81487881 18.          0.42203224]\t -0.634455605137701\t -0.48092361225642916\t    \n",
            "init\t [ 9.45683187  0.6004468  11.          0.5171566  10.          0.53881211]\t -0.6046684392629649\t -0.48092361225642916\t    \n",
            "init\t [2.72705857 1.19063434 6.         0.74176431 6.         0.10101151]\t -0.6562801618178493\t -0.48092361225642916\t    \n",
            "init\t [ 4.77631812  5.24671297 13.          0.66254476 19.          0.36708086]\t -0.6415104035419145\t -0.48092361225642916\t    \n",
            "1  \t [ 0.65702322  5.79284078 13.          0.75136902  1.          0.30306068]\t -0.6424064809093688\t -0.48092361225642916\t    \n",
            "2  \t [8.79462978 7.51560605 6.         0.76312232 8.         0.57156636]\t -0.5250563773138615\t -0.48092361225642916\t    \n",
            "3  \t [0.65992542 7.03112384 5.         0.85138174 1.         0.9514344 ]\t -0.4855447166854706\t -0.48092361225642916\t    \n",
            "4  \t [ 9.51671323  9.6124566  13.          0.71797221  5.          0.16581182]\t -0.6592777931092744\t -0.48092361225642916\t    \n",
            "5  \t [ 9.17797544  5.99568118  6.          0.52445603 15.          0.40946449]\t -0.6482001920177487\t -0.48092361225642916\t    \n",
            "6  \t [9.9788934  2.15636979 6.         0.99768008 1.         0.76766471]\t -0.4941759850943699\t -0.48092361225642916\t    \n",
            "7  \t [ 2.46339402  0.14039019 14.          0.95096219  7.          0.5441132 ]\t -0.5824208509959975\t -0.48092361225642916\t    \n",
            "8  \t [ 0.80030762  5.97573055 10.          0.83426171  8.          0.65594116]\t -0.4925025307799194\t -0.48092361225642916\t    \n",
            "9  \t [ 1.2716555   3.78378689  5.          0.57556817 17.          0.18163876]\t -0.6597773245382103\t -0.48092361225642916\t    \n",
            "\u001b[1m\u001b[92m10\u001b[0m\t \u001b[1m\u001b[92m[ 9.80102397  1.97747829 14.          0.90631838  4.          0.75804043]\u001b[0m\t \u001b[1m\u001b[92m-0.47872283861791676\u001b[0m\t \u001b[1m\u001b[92m-0.47872283861791676\u001b[0m\t \u001b[1m\u001b[92m-0.5495942451696909\u001b[0m\n",
            "11 \t [ 0.53370892  8.37682141  5.          0.86989913 13.          0.18237465]\t -0.6538884437793409\t -0.47872283861791676\t    \n",
            "12 \t [6.11014277 4.82394447 9.         0.70644548 3.         0.44997585]\t -0.5918645900207917\t -0.47872283861791676\t    \n",
            "13 \t [ 7.51514915  5.57821555 12.          0.8704045   9.          0.10769764]\t -0.6545410284856534\t -0.47872283861791676\t    \n",
            "14 \t [ 6.50720114  1.21776605  6.          0.73440759 16.          0.41004769]\t -0.6375743637451337\t -0.47872283861791676\t    \n",
            "15 \t [ 2.09834172  9.70848226 14.          0.77970461 12.          0.72363271]\t -0.4818384603005539\t -0.47872283861791676\t    \n",
            "16 \t [6.14842106 3.92031042 5.         0.80436272 5.         0.42842685]\t -0.6361132092867747\t -0.47872283861791676\t    \n",
            "17 \t [ 1.97042612  1.13899132 10.25600771  1.         18.31595753  0.60386477]\t -0.5369834669896936\t -0.47872283861791676\t    \n",
            "18 \t [ 3.60869816  0.2543248  10.          0.98282518 11.          0.13961783]\t -0.6539369706790911\t -0.47872283861791676\t    \n",
            "19 \t [ 0.45348627  9.34732483 12.          0.95759453 19.          0.71400033]\t -0.4964469628665989\t -0.47872283861791676\t    \n",
            "20 \t [ 5.50814203  1.69582441  5.          0.53859682 11.          0.75167352]\t -0.5258903483853337\t -0.47872283861791676\t    \n",
            "21 \t [ 7.32262595  0.987487   14.          0.78324612 14.          0.76403633]\t -0.48673587225688164\t -0.47872283861791676\t    \n",
            "22 \t [ 6.72796419  6.10053296 14.          0.56325639  2.          0.91580991]\t -0.484930134033398\t -0.47872283861791676\t    \n",
            "23 \t [ 7.07271536  8.13007518  5.          0.98530219 19.          0.92839144]\t -0.5016527633767568\t -0.47872283861791676\t    \n",
            "24 \t [ 2.77593451  9.15139628 12.          0.75467287  5.          0.21563156]\t -0.6586697172204237\t -0.47872283861791676\t    \n",
            "25 \t [9.66959108 0.03423869 5.         0.63791788 7.         0.65549808]\t -0.5394301638245438\t -0.47872283861791676\t    \n",
            "26 \t [ 9.68199458  9.34620738 11.          0.57663541 14.          0.24521092]\t -0.6616124039375455\t -0.47872283861791676\t    \n",
            "27 \t [ 5.62137526  0.50742571 12.          0.60891749  1.          0.89299215]\t -0.4808990846134473\t -0.47872283861791676\t    \n",
            "28 \t [ 0.55705257  0.71864961  5.          1.         10.49454356  1.        ]\t -0.494637277473422\t -0.47872283861791676\t    \n",
            "29 \t [ 0.          2.62622721 14.58671378  0.59976134 17.82915359  0.68238135]\t -0.5122089714268376\t -0.47872283861791676\t    \n",
            "30 \t [ 7.7133135   0.9998029  10.69150116  0.5        18.82789821  1.        ]\t -0.5046525430315555\t -0.47872283861791676\t    \n"
          ]
        },
        {
          "output_type": "execute_result",
          "data": {
            "text/plain": [
              "4.654967820847159"
            ]
          },
          "metadata": {},
          "execution_count": 49
        }
      ]
    },
    {
      "cell_type": "code",
      "metadata": {
        "id": "qJG2fAtAVFDZ",
        "colab": {
          "base_uri": "https://localhost:8080/"
        },
        "outputId": "8e72a4d6-f42b-4149-e272-be497ac74170"
      },
      "source": [
        "### Bayesian optimization runs (x20): 'approx' Acquisition Function run number = 18\n",
        "\n",
        "np.random.seed(run_num_18)\n",
        "surrogate_approx_18 = dGaussianProcess(cov_func, optimize=opt)\n",
        "\n",
        "X_train18, X_test18, y_train18, y_test18 = train_test_split(X, y, test_size=test_perc, random_state=run_num_18)\n",
        "\n",
        "def f_syn_polarity18(alpha, gamma, max_depth, subsample, min_child_weight, colsample):\n",
        "    reg = XGBRegressor(reg_alpha=alpha, gamma=gamma, max_depth=int(max_depth), subsample=subsample, min_child_weight=min_child_weight,\n",
        "          colsample_bytree=colsample, n_estimators = n_est, random_state=run_num_11, objective = 'reg:squarederror')\n",
        "    score = np.array(cross_val_score(reg, X=X_train18, y=y_train18).mean())\n",
        "    return operator * score\n",
        "\n",
        "approx_18 = GPGO_multi(surrogate_approx_18, Acquisition(util_approx), f_syn_polarity18, param, n_jobs = -1) # define BayesOpt\n",
        "approx_18.run(max_iter = max_iter, init_evals = n_init) # run\n",
        "\n",
        "### Return optimal parameters' set:\n",
        "params_approx_18 = approx_18.getResult()[0]\n",
        "params_approx_18['max_depth'] = int(params_approx_18['max_depth'])\n",
        "params_approx_18['min_child_weight'] = int(params_approx_18['min_child_weight'])\n",
        "\n",
        "### Re-train with optimal parameters, run predictons:\n",
        "dX_approx_train18 = xgb.DMatrix(X_train18, y_train18)\n",
        "dX_approx_test18 = xgb.DMatrix(X_test18, y_test18)\n",
        "model_approx_18 = xgb.train(params_approx_18, dX_approx_train18)\n",
        "pred_approx_18 = model_approx_18.predict(dX_approx_test18)\n",
        "\n",
        "rmse_approx_18 = np.sqrt(mean_squared_error(pred_approx_18, y_test18))\n",
        "rmse_approx_18"
      ],
      "execution_count": 50,
      "outputs": [
        {
          "output_type": "stream",
          "name": "stdout",
          "text": [
            "Evaluation \t Proposed point \t  Current eval. \t  Best eval. \t         Max AcqFunc.\n",
            "init\t [6.50374242 5.05453374 6.         0.59092011 3.         0.28357516]\t -0.6513740959050699\t -0.4474949996843899\t    \n",
            "init\t [0.11506734 4.26891483 9.         0.81785956 5.         0.63489043]\t -0.5068571689279089\t -0.4474949996843899\t    \n",
            "init\t [ 2.8861259   6.35547834 11.          0.64267955 14.          0.27877092]\t -0.6466851980958979\t -0.4474949996843899\t    \n",
            "init\t [6.57189031 6.99655629 8.         0.63235896 4.         0.52894035]\t -0.5514036168275981\t -0.4474949996843899\t    \n",
            "init\t [ 6.66600348  2.11312037 14.          0.74363461  4.          0.73174558]\t -0.4474949996843899\t -0.4474949996843899\t    \n",
            "1  \t [ 8.67093232  0.11649132  5.          0.92962202 15.          0.53672863]\t -0.5562589356787108\t -0.4474949996843899\t    \n",
            "\u001b[1m\u001b[92m2\u001b[0m\t \u001b[1m\u001b[92m[ 7.2764983   0.11744451 14.          0.65239666 17.          0.99049521]\u001b[0m\t \u001b[1m\u001b[92m-0.4433734006799697\u001b[0m\t \u001b[1m\u001b[92m-0.4433734006799697\u001b[0m\t \u001b[1m\u001b[92m-0.5159080662212825\u001b[0m\n",
            "3  \t [ 6.9243088   2.24175244  9.          0.535904   10.          0.52104842]\t -0.5602631506416998\t -0.4433734006799697\t    \n",
            "4  \t [ 7.14073136  5.55994996  9.          0.83675129 19.          0.37545046]\t -0.541209700832818\t -0.4433734006799697\t    \n",
            "5  \t [ 9.98394208  8.5932438  14.          0.75596751 19.          0.64506065]\t -0.5112449621798897\t -0.4433734006799697\t    \n",
            "6  \t [ 8.22273842  9.68669454  5.          0.7147283  11.          0.16411281]\t -0.6484751089973615\t -0.4433734006799697\t    \n",
            "7  \t [ 0.08591204  9.74195655 12.          0.74151757  5.          0.3185873 ]\t -0.5422988717775798\t -0.4433734006799697\t    \n",
            "8  \t [ 3.1729404   6.2152728   5.          0.89368162 19.          0.6083566 ]\t -0.5181522764310995\t -0.4433734006799697\t    \n",
            "9  \t [ 1.80118477  1.19747778 13.          0.79590104  8.          0.56741067]\t -0.5413368089201347\t -0.4433734006799697\t    \n",
            "\u001b[1m\u001b[92m10\u001b[0m\t \u001b[1m\u001b[92m[ 2.63732683  4.87962717 14.          0.99986359 19.          0.86504659]\u001b[0m\t \u001b[1m\u001b[92m-0.432593733655084\u001b[0m\t \u001b[1m\u001b[92m-0.432593733655084\u001b[0m\t \u001b[1m\u001b[92m-0.5089716432507513\u001b[0m\n",
            "11 \t [ 0.2637722   4.11659493  5.          0.61604637 11.          0.22374653]\t -0.6492744168634729\t -0.432593733655084\t    \n",
            "12 \t [ 3.09522647  6.97119948 14.          0.63850148  1.          0.54769428]\t -0.5585495399871547\t -0.432593733655084\t    \n",
            "13 \t [ 8.34050252  7.45495891 14.          0.58875591  8.          0.92669456]\t -0.45443542892982364\t -0.432593733655084\t    \n",
            "14 \t [8.45918053 0.39509087 9.         0.81105792 3.         0.47358724]\t -0.5454755819305526\t -0.432593733655084\t    \n",
            "15 \t [ 2.3725221   1.25906939 10.          0.50882646  1.          0.22780426]\t -0.6580514956819312\t -0.432593733655084\t    \n",
            "16 \t [ 0.71491502  0.67997826 10.          0.84656193 16.          0.26877596]\t -0.6453762638624181\t -0.432593733655084\t    \n",
            "17 \t [ 9.40597423  9.67323489  5.          0.96215948 17.          0.16332135]\t -0.6489897693395557\t -0.432593733655084\t    \n",
            "18 \t [ 9.10814327  0.         12.67104356  0.7033799   8.18555204  0.32919379]\t -0.5455552289143057\t -0.432593733655084\t    \n",
            "19 \t [9.2798599  7.10759547 6.         0.7926243  1.         0.10786223]\t -0.6503201385354563\t -0.432593733655084\t    \n",
            "20 \t [ 3.31601341 10.          5.          0.5         7.47820167  1.        ]\t -0.4496059223614425\t -0.432593733655084\t    \n",
            "21 \t [ 9.23733929  4.4641986  14.          0.5618978  13.          0.67359608]\t -0.5224388077461729\t -0.432593733655084\t    \n",
            "22 \t [ 3.44634229  0.73068286  6.          0.98116529 13.          0.55221155]\t -0.5523561794778635\t -0.432593733655084\t    \n",
            "23 \t [ 9.73631216  7.46194167 14.          0.919988    1.          0.18982878]\t -0.6496689010058144\t -0.432593733655084\t    \n",
            "24 \t [ 3.07095238  9.11590966 13.          0.52104481 10.          0.35982183]\t -0.5520412870824976\t -0.432593733655084\t    \n",
            "25 \t [ 0.   0.   5.   0.5 20.   0.1]\t -0.657436411574132\t -0.432593733655084\t    \n",
            "26 \t [ 0.          0.77166705 13.94914967  0.5        12.8236623   0.1       ]\t -0.6566434890344739\t -0.432593733655084\t    \n",
            "27 \t [ 5.21135307 10.         14.00000352  1.         19.          0.1       ]\t -0.7428144935916337\t -0.432593733655084\t    \n",
            "28 \t [4.87245891 0.03350161 6.         0.83466638 1.         0.44183056]\t -0.5542072696463398\t -0.432593733655084\t    \n",
            "29 \t [2.84236551 5.45203214 9.         0.91625235 9.         0.90138601]\t -0.43818404138765177\t -0.432593733655084\t    \n",
            "30 \t [ 9.94094117  9.96810229 11.          0.85509094 13.          0.23577872]\t -0.6452100691123155\t -0.432593733655084\t    \n"
          ]
        },
        {
          "output_type": "execute_result",
          "data": {
            "text/plain": [
              "4.749647113906867"
            ]
          },
          "metadata": {},
          "execution_count": 50
        }
      ]
    },
    {
      "cell_type": "code",
      "metadata": {
        "id": "XHidSEGcVHvG",
        "colab": {
          "base_uri": "https://localhost:8080/"
        },
        "outputId": "5fd5376a-a447-41c1-9240-717669fc88ee"
      },
      "source": [
        "### Bayesian optimization runs (x20): 'approx' Acquisition Function run number = 19\n",
        "\n",
        "np.random.seed(run_num_19)\n",
        "surrogate_approx_19 = dGaussianProcess(cov_func, optimize=opt)\n",
        "\n",
        "X_train19, X_test19, y_train19, y_test19 = train_test_split(X, y, test_size=test_perc, random_state=run_num_19)\n",
        "\n",
        "def f_syn_polarity19(alpha, gamma, max_depth, subsample, min_child_weight, colsample):\n",
        "    reg = XGBRegressor(reg_alpha=alpha, gamma=gamma, max_depth=int(max_depth), subsample=subsample, min_child_weight=min_child_weight,\n",
        "          colsample_bytree=colsample, n_estimators = n_est, random_state=run_num_19, objective = 'reg:squarederror')\n",
        "    score = np.array(cross_val_score(reg, X=X_train19, y=y_train19).mean())\n",
        "    return operator * score\n",
        "\n",
        "approx_19 = GPGO_multi(surrogate_approx_19, Acquisition(util_approx), f_syn_polarity19, param, n_jobs = -1) # define BayesOpt\n",
        "approx_19.run(max_iter = max_iter, init_evals = n_init) # run\n",
        "\n",
        "### Return optimal parameters' set:\n",
        "params_approx_19 = approx_19.getResult()[0]\n",
        "params_approx_19['max_depth'] = int(params_approx_19['max_depth'])\n",
        "params_approx_19['min_child_weight'] = int(params_approx_19['min_child_weight'])\n",
        "\n",
        "### Re-train with optimal parameters, run predictons:\n",
        "dX_approx_train19 = xgb.DMatrix(X_train19, y_train19)\n",
        "dX_approx_test19 = xgb.DMatrix(X_test19, y_test19)\n",
        "model_approx_19 = xgb.train(params_approx_19, dX_approx_train19)\n",
        "pred_approx_19 = model_approx_19.predict(dX_approx_test19)\n",
        "\n",
        "rmse_approx_19 = np.sqrt(mean_squared_error(pred_approx_19, y_test19))\n",
        "rmse_approx_19"
      ],
      "execution_count": 51,
      "outputs": [
        {
          "output_type": "stream",
          "name": "stdout",
          "text": [
            "Evaluation \t Proposed point \t  Current eval. \t  Best eval. \t         Max AcqFunc.\n",
            "init\t [ 0.97533602  7.61249717 13.          0.85765469 11.          0.39830191]\t -0.5851081958447377\t -0.4870287725699859\t    \n",
            "init\t [ 0.82999565  6.71977081  6.          0.50407413 19.          0.67209466]\t -0.5245729886945251\t -0.4870287725699859\t    \n",
            "init\t [ 2.15923256  5.49027432 12.          0.52588686 10.          0.20235326]\t -0.677999989539271\t -0.4870287725699859\t    \n",
            "init\t [4.99659267 1.52108422 6.         0.73481085 4.         0.71949465]\t -0.4940235599803803\t -0.4870287725699859\t    \n",
            "init\t [ 3.72927156  9.46160045  5.          0.80554614 18.          0.97708466]\t -0.4870287725699859\t -0.4870287725699859\t    \n",
            "\u001b[1m\u001b[92m1\u001b[0m\t \u001b[1m\u001b[92m[ 8.33060043  1.42030563  8.          0.92863724 14.          0.78606141]\u001b[0m\t \u001b[1m\u001b[92m-0.48699206254226385\u001b[0m\t \u001b[1m\u001b[92m-0.48699206254226385\u001b[0m\t \u001b[1m\u001b[92m-0.5453159314445802\u001b[0m\n",
            "2  \t [ 9.87536409  7.17591217 14.          0.99713522 17.          0.55460731]\t -0.5586571006723301\t -0.48699206254226385\t    \n",
            "3  \t [ 9.05225624  3.60011377 14.          0.89518364  1.          0.11342054]\t -0.6812597142899619\t -0.48699206254226385\t    \n",
            "4  \t [ 0.63994078  3.71351436 14.          0.60091862  1.          0.58598556]\t -0.5176144815279642\t -0.48699206254226385\t    \n",
            "5  \t [4.99125702 9.50308409 8.         0.55828329 3.         0.34673953]\t -0.5891547583463381\t -0.48699206254226385\t    \n",
            "6  \t [ 8.42570155  4.07975309 12.          0.91619537  8.          0.61684591]\t -0.5015490515597342\t -0.48699206254226385\t    \n",
            "7  \t [ 3.74566023  2.13062241 14.          0.71219729 18.          0.68959412]\t -0.50278430420039\t -0.48699206254226385\t    \n",
            "8  \t [ 3.63408057  9.2502169   7.          0.59622027 10.          0.62731569]\t -0.5141082374188205\t -0.48699206254226385\t    \n",
            "9  \t [ 1.79783097  1.91934618  5.          0.77893204 13.          0.47835366]\t -0.5768849774796976\t -0.48699206254226385\t    \n",
            "\u001b[1m\u001b[92m10\u001b[0m\t \u001b[1m\u001b[92m[ 4.45643696  6.43761151 10.          0.59521711 15.          0.91320177]\u001b[0m\t \u001b[1m\u001b[92m-0.46737499097766744\u001b[0m\t \u001b[1m\u001b[92m-0.46737499097766744\u001b[0m\t \u001b[1m\u001b[92m-0.5444076192367049\u001b[0m\n",
            "11 \t [9.94019054 7.43271319 5.         0.78342194 4.         0.90198883]\t -0.48543607778126086\t -0.46737499097766744\t    \n",
            "12 \t [ 9.41792853  9.11293681  6.          0.87420995 11.          0.8007601 ]\t -0.49558651242536805\t -0.46737499097766744\t    \n",
            "13 \t [0.04130113 6.56643894 8.         0.8316257  6.         0.23623124]\t -0.6819669312627161\t -0.46737499097766744\t    \n",
            "14 \t [ 9.18890824  5.50760906  5.          0.92553651 18.          0.76040056]\t -0.5047568707535037\t -0.46737499097766744\t    \n",
            "15 \t [ 3.29312611  0.9704927   6.          0.68391426 19.          0.43020049]\t -0.5759745047951098\t -0.46737499097766744\t    \n",
            "16 \t [ 0.9019348   8.21531788 14.          0.85098746 17.          0.41254672]\t -0.5829439311579024\t -0.46737499097766744\t    \n",
            "17 \t [9.42305669 0.3423134  7.         0.77066127 8.         0.63693457]\t -0.5147410971984965\t -0.46737499097766744\t    \n",
            "18 \t [ 8.22438004  9.86720872 12.          0.98809303  7.          0.25782248]\t -0.6795747265865547\t -0.46737499097766744\t    \n",
            "19 \t [ 1.10650842  9.77537077 14.          0.83431584  1.          0.5884296 ]\t -0.5035756891739214\t -0.46737499097766744\t    \n",
            "20 \t [ 9.47745808  9.50911305 13.          0.70555451  1.          0.87222907]\t -0.4691498772137427\t -0.46737499097766744\t    \n",
            "21 \t [0.63927877 0.36518569 5.         0.86590497 1.         0.99444527]\t -0.47804555573878577\t -0.46737499097766744\t    \n",
            "22 \t [10.          5.84696099 10.39075898  0.5        12.61861962  0.1       ]\t -0.6793437058031739\t -0.46737499097766744\t    \n",
            "\u001b[1m\u001b[92m23\u001b[0m\t \u001b[1m\u001b[92m[ 4.81184079  0.03027405 11.          0.96437956 10.          0.97759806]\u001b[0m\t \u001b[1m\u001b[92m-0.45753944845516925\u001b[0m\t \u001b[1m\u001b[92m-0.45753944845516925\u001b[0m\t \u001b[1m\u001b[92m-0.528712172162633\u001b[0m\n",
            "24 \t [9.77782534 0.         5.         1.         1.         0.1       ]\t -0.6817162788337526\t -0.45753944845516925\t    \n",
            "25 \t [ 3.58007301  3.24360874 11.          0.7006564   4.          0.72466158]\t -0.47488259516427683\t -0.45753944845516925\t    \n",
            "26 \t [ 9.2876216   9.23467155  9.          0.78119986 18.          0.66822771]\t -0.5059667117308673\t -0.45753944845516925\t    \n",
            "27 \t [0.19414362 0.         9.25557329 0.5        6.24685506 0.1       ]\t -0.681558070683098\t -0.45753944845516925\t    \n",
            "\u001b[1m\u001b[92m28\u001b[0m\t \u001b[1m\u001b[92m[ 0.51451173 10.         14.76280169  1.          5.96374371  1.        ]\u001b[0m\t \u001b[1m\u001b[92m-0.43631617195543526\u001b[0m\t \u001b[1m\u001b[92m-0.43631617195543526\u001b[0m\t \u001b[1m\u001b[92m-0.5215871792370639\u001b[0m\n",
            "29 \t [ 8.73793669  2.43663345 11.          0.74070373 19.          0.18745114]\t -0.6789732848722562\t -0.43631617195543526\t    \n",
            "30 \t [ 9.80949062  0.42526047 11.          0.61085682  4.          0.94165398]\t -0.47324659251516543\t -0.43631617195543526\t    \n"
          ]
        },
        {
          "output_type": "execute_result",
          "data": {
            "text/plain": [
              "4.563721169996737"
            ]
          },
          "metadata": {},
          "execution_count": 51
        }
      ]
    },
    {
      "cell_type": "code",
      "metadata": {
        "id": "CWGPYRJhVKsO",
        "colab": {
          "base_uri": "https://localhost:8080/"
        },
        "outputId": "52e5c1f9-74b6-4e56-92c8-4e72ac425792"
      },
      "source": [
        "### Bayesian optimization runs (x20): 'approx' Acquisition Function run number = 20\n",
        "\n",
        "np.random.seed(run_num_20)\n",
        "surrogate_approx_20 = dGaussianProcess(cov_func, optimize=opt)\n",
        "\n",
        "X_train20, X_test20, y_train20, y_test20 = train_test_split(X, y, test_size=test_perc, random_state=run_num_20)\n",
        "\n",
        "def f_syn_polarity20(alpha, gamma, max_depth, subsample, min_child_weight, colsample):\n",
        "    reg = XGBRegressor(reg_alpha=alpha, gamma=gamma, max_depth=int(max_depth), subsample=subsample, min_child_weight=min_child_weight,\n",
        "          colsample_bytree=colsample, n_estimators = n_est, random_state=run_num_20, objective = 'reg:squarederror')\n",
        "    score = np.array(cross_val_score(reg, X=X_train20, y=y_train20).mean())\n",
        "    return operator * score\n",
        "\n",
        "approx_20 = GPGO_multi(surrogate_approx_20, Acquisition(util_approx), f_syn_polarity20, param, n_jobs = -1) # define BayesOpt\n",
        "approx_20.run(max_iter = max_iter, init_evals = n_init) # run\n",
        "\n",
        "### Return optimal parameters' set:\n",
        "params_approx_20 = approx_20.getResult()[0]\n",
        "params_approx_20['max_depth'] = int(params_approx_20['max_depth'])\n",
        "params_approx_20['min_child_weight'] = int(params_approx_20['min_child_weight'])\n",
        "\n",
        "### Re-train with optimal parameters, run predictons:\n",
        "dX_approx_train20 = xgb.DMatrix(X_train20, y_train20)\n",
        "dX_approx_test20 = xgb.DMatrix(X_test20, y_test20)\n",
        "model_approx_20 = xgb.train(params_approx_20, dX_approx_train20)\n",
        "pred_approx_20 = model_approx_20.predict(dX_approx_test20)\n",
        "\n",
        "rmse_approx_20 = np.sqrt(mean_squared_error(pred_approx_20, y_test20))\n",
        "rmse_approx_20"
      ],
      "execution_count": 52,
      "outputs": [
        {
          "output_type": "stream",
          "name": "stdout",
          "text": [
            "Evaluation \t Proposed point \t  Current eval. \t  Best eval. \t         Max AcqFunc.\n",
            "init\t [ 5.88130801  8.97713728 14.          0.81074445  8.          0.95540649]\t -0.4485352768858121\t -0.4485352768858121\t    \n",
            "init\t [6.72865655 0.41173329 8.         0.6361582  7.         0.76174061]\t -0.47208091450542966\t -0.4485352768858121\t    \n",
            "init\t [ 4.77387703  8.66202323 10.          0.51833215  7.          0.10123387]\t -0.7316473600840852\t -0.4485352768858121\t    \n",
            "init\t [ 5.75489985  4.74524381  8.          0.78084343 15.          0.26643049]\t -0.7314226542252507\t -0.4485352768858121\t    \n",
            "init\t [ 4.53444     4.47342833  8.          0.91974896 18.          0.35997552]\t -0.6494230116583573\t -0.4485352768858121\t    \n",
            "1  \t [ 7.96566073  7.15509535  7.          0.79906691 11.          0.34132075]\t -0.6502222800629637\t -0.4485352768858121\t    \n",
            "2  \t [ 1.72798052  9.03285612 13.          0.50351094 19.          0.11416888]\t -0.7324821709443572\t -0.4485352768858121\t    \n",
            "3  \t [ 1.96661701  1.73294312 11.          0.93201699  1.          0.60463107]\t -0.48832123516521386\t -0.4485352768858121\t    \n",
            "4  \t [1.41824857 5.09758018 5.         0.56802833 5.         0.75704697]\t -0.495544167185156\t -0.4485352768858121\t    \n",
            "5  \t [ 0.41794531  1.88324969 13.          0.88408406 13.          0.43578884]\t -0.5656245491262217\t -0.4485352768858121\t    \n",
            "6  \t [ 9.80686472  1.37296982 14.          0.9100959  10.          0.1681724 ]\t -0.7322813451403996\t -0.4485352768858121\t    \n",
            "7  \t [ 9.82409087  4.45469949 11.          0.53160513  4.          0.66763423]\t -0.5131423970299518\t -0.4485352768858121\t    \n",
            "8  \t [ 2.63649501  9.62311075  7.          0.5192485  13.          0.19746315]\t -0.7309630421287494\t -0.4485352768858121\t    \n",
            "9  \t [ 9.18502444  7.06345806 13.          0.62385346 16.          0.94993271]\t -0.4697056546639762\t -0.4485352768858121\t    \n",
            "10 \t [8.51004072 7.2917763  5.         0.96135496 1.         0.57493956]\t -0.5164100755179035\t -0.4485352768858121\t    \n",
            "11 \t [ 1.427592    3.43787632  6.          0.91643951 11.          0.75231375]\t -0.4837818185403998\t -0.4485352768858121\t    \n",
            "12 \t [ 6.87684298  0.81341201 12.          0.63438989 19.          0.35708107]\t -0.6528095609241975\t -0.4485352768858121\t    \n",
            "13 \t [ 3.51322154  8.79998304 14.          0.91142182  1.          0.35103611]\t -0.6603269613793542\t -0.4485352768858121\t    \n",
            "14 \t [10.         10.          6.54092656  1.         16.31752671  1.        ]\t -0.46051843144548704\t -0.4485352768858121\t    \n",
            "15 \t [ 1.66070915  0.6971968  14.          0.69953824  6.          0.77654933]\t -0.45639156392393776\t -0.4485352768858121\t    \n",
            "16 \t [ 1.47808653  5.79832114 12.          0.95992435  9.          0.71524706]\t -0.4536409968490355\t -0.4485352768858121\t    \n",
            "17 \t [ 8.3723055   9.68266939 11.          0.50145124  1.          0.82596229]\t -0.479780992905768\t -0.4485352768858121\t    \n",
            "18 \t [ 0.7766431   8.0732046   5.          0.88801393 19.          0.19994543]\t -0.7311450688291956\t -0.4485352768858121\t    \n",
            "19 \t [8.67223652 9.66010575 6.         0.63457768 6.         0.86415257]\t -0.4780550911576794\t -0.4485352768858121\t    \n",
            "20 \t [ 0.02776244  1.53012881  8.          0.96273615 15.          0.27616872]\t -0.7304915378852037\t -0.4485352768858121\t    \n",
            "21 \t [ 2.16891361  0.40236972  6.          0.57865056 19.          0.33900997]\t -0.6538296947589674\t -0.4485352768858121\t    \n",
            "22 \t [7.09521948 1.98932663 6.         0.65989265 2.         0.73023722]\t -0.47757090861511503\t -0.4485352768858121\t    \n",
            "23 \t [ 9.71937523  0.84081751  8.          0.83815718 13.          0.15657647]\t -0.7323525847117764\t -0.4485352768858121\t    \n",
            "24 \t [ 1.96869013  7.00264368 10.          0.79233192  3.          0.8133863 ]\t -0.4532172863470342\t -0.4485352768858121\t    \n",
            "25 \t [ 9.4251418   2.62898513  5.          0.90450266 19.          0.92733176]\t -0.4855968658102518\t -0.4485352768858121\t    \n",
            "\u001b[1m\u001b[92m26\u001b[0m\t \u001b[1m\u001b[92m[10.        10.        10.4841642  1.        11.4193673  1.       ]\u001b[0m\t \u001b[1m\u001b[92m-0.4461068963082682\u001b[0m\t \u001b[1m\u001b[92m-0.4461068963082682\u001b[0m\t \u001b[1m\u001b[92m-0.524015910424809\u001b[0m\n",
            "27 \t [ 4.95626563 10.         15.          0.5        14.70050866  0.1       ]\t -0.732378474102713\t -0.4461068963082682\t    \n",
            "\u001b[1m\u001b[92m28\u001b[0m\t \u001b[1m\u001b[92m[ 5.30798781  9.42321316  9.38804123  1.         17.05990458  1.        ]\u001b[0m\t \u001b[1m\u001b[92m-0.44503466404980757\u001b[0m\t \u001b[1m\u001b[92m-0.44503466404980757\u001b[0m\t \u001b[1m\u001b[92m-0.5224767683978856\u001b[0m\n",
            "29 \t [ 0.16665042 10.         12.33760283  1.         12.76024674  0.65608934]\t -0.49963684469544833\t -0.44503466404980757\t    \n",
            "30 \t [ 4.30839161  0.04877394 10.39363216  0.97215983 12.96141001  0.57583823]\t -0.49508441030752215\t -0.44503466404980757\t    \n"
          ]
        },
        {
          "output_type": "execute_result",
          "data": {
            "text/plain": [
              "4.787332615788612"
            ]
          },
          "metadata": {},
          "execution_count": 52
        }
      ]
    },
    {
      "cell_type": "code",
      "metadata": {
        "id": "-1d_1LyydIfe",
        "colab": {
          "base_uri": "https://localhost:8080/"
        },
        "outputId": "d0528103-0a31-45cd-cfbe-b5b3679c2f18"
      },
      "source": [
        "end_approx = time.time()\n",
        "end_approx\n",
        "\n",
        "time_approx = end_approx - start_approx\n",
        "time_approx\n",
        "\n",
        "start_exact = time.time()\n",
        "start_exact"
      ],
      "execution_count": 53,
      "outputs": [
        {
          "output_type": "execute_result",
          "data": {
            "text/plain": [
              "1646135338.9827523"
            ]
          },
          "metadata": {},
          "execution_count": 53
        }
      ]
    },
    {
      "cell_type": "code",
      "metadata": {
        "id": "ZAyOw7XYVwAf",
        "colab": {
          "base_uri": "https://localhost:8080/"
        },
        "outputId": "0de4b5fa-7159-4c53-9327-c991623a15c1"
      },
      "source": [
        "### Bayesian optimization runs (x20): 'exact' Acquisition Function run number = 1 \n",
        "\n",
        "np.random.seed(run_num_1)\n",
        "surrogate_exact_1 = dGaussianProcess(cov_func, optimize=opt)\n",
        "\n",
        "X_train1, X_test1, y_train1, y_test1 = train_test_split(X, y, test_size=test_perc, random_state=run_num_1)\n",
        "\n",
        "def f_syn_polarity1(alpha, gamma, max_depth, subsample, min_child_weight, colsample):\n",
        "    reg = XGBRegressor(reg_alpha=alpha, gamma=gamma, max_depth=int(max_depth), subsample=subsample, min_child_weight=min_child_weight,\n",
        "          colsample_bytree=colsample, n_estimators = n_est, random_state=run_num_1, objective = 'reg:squarederror')\n",
        "    score = np.array(cross_val_score(reg, X=X_train1, y=y_train1).mean())\n",
        "    return operator * score\n",
        "\n",
        "exact_1 = dGPGO(surrogate_exact_1, Acquisition_new(util_exact), f_syn_polarity1, param, n_jobs = -1) # Define BayesOpt\n",
        "exact_1.run(max_iter = max_iter, init_evals = n_init) # run\n",
        "\n",
        "### Return optimal parameters' set:\n",
        "params_exact_1 = exact_1.getResult()[0]\n",
        "params_exact_1['max_depth'] = int(params_exact_1['max_depth'])\n",
        "params_exact_1['min_child_weight'] = int(params_exact_1['min_child_weight'])\n",
        "\n",
        "### Re-train with optimal parameters, run predictons:\n",
        "dX_exact_train1 = xgb.DMatrix(X_train1, y_train1)\n",
        "dX_exact_test1 = xgb.DMatrix(X_test1, y_test1)\n",
        "model_exact_1 = xgb.train(params_exact_1, dX_exact_train1)\n",
        "pred_exact_1 = model_exact_1.predict(dX_exact_test1)\n",
        "\n",
        "rmse_exact_1 = np.sqrt(mean_squared_error(pred_exact_1, y_test1))\n",
        "rmse_exact_1"
      ],
      "execution_count": 54,
      "outputs": [
        {
          "output_type": "stream",
          "name": "stdout",
          "text": [
            "Evaluation \t Proposed point \t  Current eval. \t  Best eval. \t         Max AcqFunc.\n",
            "init\t [5.48813504 7.15189366 8.         0.92897281 8.         0.48128932]\t -0.5626915313589341\t -0.46143572360276275\t    \n",
            "init\t [ 6.45894113  4.37587211 11.          0.52835649 13.          0.44509737]\t -0.5772881365468763\t -0.46143572360276275\t    \n",
            "init\t [ 7.91725038  5.2889492  13.          0.6963924  14.          0.40365654]\t -0.5870544636272766\t -0.46143572360276275\t    \n",
            "init\t [ 6.48171872  3.6824154  10.          0.88907838 16.          0.88307853]\t -0.46143572360276275\t -0.46143572360276275\t    \n",
            "init\t [4.73608045 8.00910752 8.         0.83943977 8.         0.67592892]\t -0.5051288806760134\t -0.46143572360276275\t    \n",
            "1  \t [ 0.96098408  9.76459465  7.          0.75481219 17.          0.64436097]\t -0.5149059967458438\t -0.46143572360276275\t    \n",
            "2  \t [ 0.25662718  2.07470075 13.          0.86522109  6.          0.51721788]\t -0.5609779944418447\t -0.46143572360276275\t    \n",
            "3  \t [ 9.79573252  1.48478088 12.          0.94838058  2.          0.62192116]\t -0.5054179573676033\t -0.46143572360276275\t    \n",
            "4  \t [ 0.62636003  2.41901704  5.          0.63031433 15.          0.7957752 ]\t -0.5075878491448556\t -0.46143572360276275\t    \n",
            "5  \t [1.50934897 3.30267036 6.         0.75645266 2.         0.16196677]\t -0.6730063390911496\t -0.46143572360276275\t    \n",
            "6  \t [8.51808583 9.62395074 8.         0.60054801 1.         0.9981946 ]\t -0.4825618268670315\t -0.46143572360276275\t    \n",
            "7  \t [ 9.82999135  9.82247777  7.          0.69029769 18.          0.32011265]\t -0.5962489471366647\t -0.46143572360276275\t    \n",
            "8  \t [ 0.44571111  9.13283596 10.          0.7789937   1.          0.17342299]\t -0.6758674152983395\t -0.46143572360276275\t    \n",
            "9  \t [9.15647011 0.95123437 9.         0.70846698 8.         0.21386088]\t -0.6731394995355806\t -0.46143572360276275\t    \n",
            "10 \t [ 1.96496846  0.2988114  14.          0.81090497 13.          0.73057001]\t -0.46331696604270556\t -0.46143572360276275\t    \n",
            "\u001b[1m\u001b[92m11\u001b[0m\t \u001b[1m\u001b[92m[ 0.27653157  6.60338596 14.          0.97720044 12.          0.7490783 ]\u001b[0m\t \u001b[1m\u001b[92m-0.45756183431510866\u001b[0m\t \u001b[1m\u001b[92m-0.45756183431510866\u001b[0m\t \u001b[1m\u001b[92m-0.5227604606946032\u001b[0m\n",
            "12 \t [ 9.2626588   6.61763595 13.          0.5647657   8.          0.88069027]\t -0.47709042961004594\t -0.45756183431510866\t    \n",
            "13 \t [ 5.72317016  8.9486974  14.          0.8917696  19.          0.5025906 ]\t -0.5627757357340591\t -0.45756183431510866\t    \n",
            "14 \t [2.21911724 0.         6.97580745 0.5        6.97580745 0.1       ]\t -0.6770801648811366\t -0.45756183431510866\t    \n",
            "15 \t [ 9.61554311  1.21538233  6.          0.81124244 13.          0.27856607]\t -0.6710935853736035\t -0.45756183431510866\t    \n",
            "\u001b[1m\u001b[92m16\u001b[0m\t \u001b[1m\u001b[92m[ 2.88789937  0.86885671 13.          0.91265131 19.          0.89339396]\u001b[0m\t \u001b[1m\u001b[92m-0.4536607483476357\u001b[0m\t \u001b[1m\u001b[92m-0.4536607483476357\u001b[0m\t \u001b[1m\u001b[92m-0.5216801007201197\u001b[0m\n",
            "17 \t [8.92113335 3.82853306 5.         0.69106787 3.         0.87547395]\t -0.4902059108431949\t -0.4536607483476357\t    \n",
            "18 \t [ 5.86365946  6.89365311 12.          0.99215086  2.          0.55214175]\t -0.5604155048529862\t -0.4536607483476357\t    \n",
            "\u001b[1m\u001b[92m19\u001b[0m\t \u001b[1m\u001b[92m[ 3.5453962   8.84419045 15.          1.          5.          1.        ]\u001b[0m\t \u001b[1m\u001b[92m-0.4169491384796963\u001b[0m\t \u001b[1m\u001b[92m-0.4169491384796963\u001b[0m\t \u001b[1m\u001b[92m-0.5167163328503124\u001b[0m\n",
            "20 \t [ 4.49234285  8.67423062  5.          0.98662776 13.          0.49445311]\t -0.5818099564071246\t -0.4169491384796963\t    \n",
            "21 \t [10.          3.87803628 11.80988936  1.         20.          1.        ]\t -0.4318754067209577\t -0.4169491384796963\t    \n",
            "22 \t [0.90515339 7.68395671 5.         0.5        7.16147049 0.1       ]\t -0.6780212943141251\t -0.4169491384796963\t    \n",
            "23 \t [10.         10.         15.          1.         13.70266129  1.        ]\t -0.42681186814775174\t -0.4169491384796963\t    \n",
            "24 \t [ 0.49745643  7.19653642 11.          0.74387293  7.          0.13430429]\t -0.6757953351254289\t -0.4169491384796963\t    \n",
            "25 \t [ 2.48543324  2.77487947 14.          0.6702701   1.          0.4963196 ]\t -0.5782297244179342\t -0.4169491384796963\t    \n",
            "26 \t [ 4.19544566 10.         13.55360183  1.         12.55360183  1.        ]\t -0.42428888033288015\t -0.4169491384796963\t    \n",
            "27 \t [ 8.66558604  9.85472546 14.60937257  1.          3.60937257  1.        ]\t -0.42240015691949245\t -0.4169491384796963\t    \n",
            "28 \t [6.29138032 0.         5.         0.5        1.         0.1       ]\t -0.6795328571509754\t -0.4169491384796963\t    \n",
            "29 \t [ 5.52934351  3.21452183 13.36131044  1.          7.36131044  1.        ]\t -0.4227068502704962\t -0.4169491384796963\t    \n",
            "30 \t [ 0.          0.         10.42863066  0.5         1.42863066  0.1       ]\t -0.6813154873302437\t -0.4169491384796963\t    \n"
          ]
        },
        {
          "output_type": "execute_result",
          "data": {
            "text/plain": [
              "4.4851992634710545"
            ]
          },
          "metadata": {},
          "execution_count": 54
        }
      ]
    },
    {
      "cell_type": "code",
      "metadata": {
        "id": "hrDQbChpZ48F",
        "colab": {
          "base_uri": "https://localhost:8080/"
        },
        "outputId": "74084b22-f3e7-40af-85ab-5738b98071ea"
      },
      "source": [
        "### Bayesian optimization runs (x20): 'exact' Acquisition Function run number = 2 \n",
        "\n",
        "np.random.seed(run_num_2)\n",
        "surrogate_exact_2 = dGaussianProcess(cov_func, optimize=opt)\n",
        "\n",
        "X_train2, X_test2, y_train2, y_test2 = train_test_split(X, y, test_size=test_perc, random_state=run_num_2)\n",
        "\n",
        "def f_syn_polarity2(alpha, gamma, max_depth, subsample, min_child_weight, colsample):\n",
        "    reg = XGBRegressor(reg_alpha=alpha, gamma=gamma, max_depth=int(max_depth), subsample=subsample, min_child_weight=min_child_weight,\n",
        "          colsample_bytree=colsample, n_estimators = n_est, random_state=run_num_2, objective = 'reg:squarederror')\n",
        "    score = np.array(cross_val_score(reg, X=X_train2, y=y_train2).mean())\n",
        "    return operator * score\n",
        "\n",
        "exact_2 = dGPGO(surrogate_exact_2, Acquisition_new(util_exact), f_syn_polarity2, param, n_jobs = -1) # Define BayesOpt\n",
        "exact_2.run(max_iter = max_iter, init_evals = n_init) # run\n",
        "\n",
        "### Return optimal parameters' set:\n",
        "params_exact_2 = exact_2.getResult()[0]\n",
        "params_exact_2['max_depth'] = int(params_exact_2['max_depth'])\n",
        "params_exact_2['min_child_weight'] = int(params_exact_2['min_child_weight'])\n",
        "\n",
        "### Re-train with optimal parameters, run predictons:\n",
        "dX_exact_train2 = xgb.DMatrix(X_train2, y_train2)\n",
        "dX_exact_test2 = xgb.DMatrix(X_test2, y_test2)\n",
        "model_exact_2 = xgb.train(params_exact_2, dX_exact_train2)\n",
        "pred_exact_2 = model_exact_2.predict(dX_exact_test2)\n",
        "\n",
        "rmse_exact_2 = np.sqrt(mean_squared_error(pred_exact_2, y_test2))\n",
        "rmse_exact_2"
      ],
      "execution_count": 55,
      "outputs": [
        {
          "output_type": "stream",
          "name": "stdout",
          "text": [
            "Evaluation \t Proposed point \t  Current eval. \t  Best eval. \t         Max AcqFunc.\n",
            "init\t [ 4.35994902  0.25926232 11.          0.97386531 12.          0.47833102]\t -0.5147867600449749\t -0.4765694615523879\t    \n",
            "init\t [ 3.30334821  2.04648634 10.          0.55997527  6.          0.71472339]\t -0.4765694615523879\t -0.4765694615523879\t    \n",
            "init\t [ 4.9856117   5.86796978  8.          0.89266757 11.          0.59158659]\t -0.4946399399702889\t -0.4765694615523879\t    \n",
            "init\t [ 4.07307832  1.76984624 13.          0.75262305  7.          0.35908193]\t -0.5884370816585467\t -0.4765694615523879\t    \n",
            "init\t [ 1.16193318  1.81727038  9.          0.79837265 19.          0.29965165]\t -0.584982798458911\t -0.4765694615523879\t    \n",
            "1  \t [9.68290573 5.74953535 8.         0.93445831 2.         0.81872709]\t -0.47692913742153503\t -0.4765694615523879\t    \n",
            "\u001b[1m\u001b[92m2\u001b[0m\t \u001b[1m\u001b[92m[ 2.17907321  8.34965852  5.          0.91660625 18.          0.97349298]\u001b[0m\t \u001b[1m\u001b[92m-0.42932966844762255\u001b[0m\t \u001b[1m\u001b[92m-0.42932966844762255\u001b[0m\t \u001b[1m\u001b[92m-0.5284035737375059\u001b[0m\n",
            "3  \t [ 3.86971225  8.36249195 14.          0.65193715  2.          0.53564822]\t -0.5235565502085555\t -0.42932966844762255\t    \n",
            "4  \t [ 8.78180153  6.61060882 12.          0.91523653 18.          0.29687212]\t -0.5840366351865409\t -0.42932966844762255\t    \n",
            "5  \t [ 1.04358891  9.72033478 14.          0.5859025  14.          0.459264  ]\t -0.5185020925938802\t -0.42932966844762255\t    \n",
            "6  \t [ 9.90020282  3.3367177  10.          0.62203407  7.          0.71235234]\t -0.49484140351085004\t -0.42932966844762255\t    \n",
            "7  \t [ 9.14946201  2.43697872  6.          0.997805   19.          0.45949208]\t -0.5305156688763031\t -0.42932966844762255\t    \n",
            "8  \t [3.03571116 4.83939078 5.         0.66625528 1.         0.23130028]\t -0.6754055457447411\t -0.42932966844762255\t    \n",
            "9  \t [ 4.57706999  8.33565192 11.          0.6188546   7.          0.54017925]\t -0.5200991055645933\t -0.42932966844762255\t    \n",
            "10 \t [0.58960252 0.         6.81695844 0.5        1.         0.1       ]\t -0.6770566235653644\t -0.42932966844762255\t    \n",
            "\u001b[1m\u001b[92m11\u001b[0m\t \u001b[1m\u001b[92m[4.59560507 9.66694693 5.         0.8652774  6.         0.90565092]\u001b[0m\t \u001b[1m\u001b[92m-0.428196714239337\u001b[0m\t \u001b[1m\u001b[92m-0.428196714239337\u001b[0m\t \u001b[1m\u001b[92m-0.4958135764447383\u001b[0m\n",
            "\u001b[1m\u001b[92m12\u001b[0m\t \u001b[1m\u001b[92m[ 3.1736328   4.53369436 14.279306    1.         19.279306    1.        ]\u001b[0m\t \u001b[1m\u001b[92m-0.37381105142961335\u001b[0m\t \u001b[1m\u001b[92m-0.37381105142961335\u001b[0m\t \u001b[1m\u001b[92m-0.4930366840867997\u001b[0m\n",
            "13 \t [ 6.62295179  6.77584978 14.          0.65936287 12.          0.50955919]\t -0.5199635069944675\t -0.37381105142961335\t    \n",
            "14 \t [ 1.44915477  0.14257847  6.          0.52441016 14.          0.6286643 ]\t -0.5119371184217966\t -0.37381105142961335\t    \n",
            "15 \t [ 9.80429676  9.59801315  7.          0.61168386 14.          0.66107461]\t -0.5048932382710399\t -0.37381105142961335\t    \n",
            "16 \t [ 0.57492216  8.73281603  8.          0.69247391 11.          0.62472664]\t -0.4970509796507859\t -0.37381105142961335\t    \n",
            "17 \t [ 9.61885664  9.78589131 14.          0.8903706   1.          0.14094172]\t -0.6776999663731892\t -0.37381105142961335\t    \n",
            "18 \t [ 3.01450225  9.70375381  6.          0.82619754 13.          0.3960041 ]\t -0.5877457378623447\t -0.37381105142961335\t    \n",
            "19 \t [ 4.42269649 10.         10.22890136  1.         17.22890136  1.        ]\t -0.379228597055029\t -0.37381105142961335\t    \n",
            "20 \t [0.62273619 1.29124124 6.         0.81123451 8.         0.42451055]\t -0.5869340733116714\t -0.37381105142961335\t    \n",
            "21 \t [ 9.43489051  1.92776052  5.          0.94651025 13.          0.65362327]\t -0.5250415492325773\t -0.37381105142961335\t    \n",
            "22 \t [10. 10. 15.  1. 20.  1.]\t -0.380079913763185\t -0.37381105142961335\t    \n",
            "23 \t [ 9.52098346  0.33052792 12.          0.76433264 19.          0.79735818]\t -0.4717031985185466\t -0.37381105142961335\t    \n",
            "24 \t [ 5.48814708  1.96120195 13.          0.89659682  1.          0.34125713]\t -0.5934955971475885\t -0.37381105142961335\t    \n",
            "25 \t [ 0.16062273  8.48138353 13.          0.56952276 19.          0.688064  ]\t -0.48832296665657715\t -0.37381105142961335\t    \n",
            "26 \t [ 9.33066006  2.69311478 11.          0.84131379 14.          0.25006316]\t -0.6777143400650546\t -0.37381105142961335\t    \n",
            "27 \t [ 8.92720117  4.31465286 13.          0.70553933  1.          0.75946259]\t -0.47327191349354314\t -0.37381105142961335\t    \n",
            "28 \t [ 7.32261517  3.77223908 13.          0.66532455  8.          0.34613674]\t -0.5914165793078185\t -0.37381105142961335\t    \n",
            "29 \t [0.57338014 7.89401822 9.31334484 0.5        4.31334484 0.1       ]\t -0.6750976994097604\t -0.37381105142961335\t    \n",
            "30 \t [5.38666327e+00 9.79771819e-15 6.31414579e+00 5.00000000e-01\n",
            " 9.31414579e+00 1.00000000e-01]\t -0.6754851126665623\t -0.37381105142961335\t    \n"
          ]
        },
        {
          "output_type": "execute_result",
          "data": {
            "text/plain": [
              "4.632505951962806"
            ]
          },
          "metadata": {},
          "execution_count": 55
        }
      ]
    },
    {
      "cell_type": "code",
      "metadata": {
        "id": "HpUPyXRfZ95Y",
        "colab": {
          "base_uri": "https://localhost:8080/"
        },
        "outputId": "b039e1d9-1e6a-4b96-c029-b1c447f035bb"
      },
      "source": [
        "### Bayesian optimization runs (x20): 'exact' Acquisition Function run number = 3 \n",
        "\n",
        "np.random.seed(run_num_3)\n",
        "surrogate_exact_3 = dGaussianProcess(cov_func, optimize=opt)\n",
        "\n",
        "X_train3, X_test3, y_train3, y_test3 = train_test_split(X, y, test_size=test_perc, random_state=run_num_3)\n",
        "\n",
        "def f_syn_polarity3(alpha, gamma, max_depth, subsample, min_child_weight, colsample):\n",
        "    reg = XGBRegressor(reg_alpha=alpha, gamma=gamma, max_depth=int(max_depth), subsample=subsample, min_child_weight=min_child_weight,\n",
        "          colsample_bytree=colsample, n_estimators = n_est, random_state=run_num_3, objective = 'reg:squarederror')\n",
        "    score = np.array(cross_val_score(reg, X=X_train3, y=y_train3).mean())\n",
        "    return operator * score\n",
        "\n",
        "exact_3 = dGPGO(surrogate_exact_3, Acquisition_new(util_exact), f_syn_polarity3, param, n_jobs = -1) # Define BayesOpt\n",
        "exact_3.run(max_iter = max_iter, init_evals = n_init) # run\n",
        "\n",
        "### Return optimal parameters' set:\n",
        "params_exact_3 = exact_3.getResult()[0]\n",
        "params_exact_3['max_depth'] = int(params_exact_3['max_depth'])\n",
        "params_exact_3['min_child_weight'] = int(params_exact_3['min_child_weight'])\n",
        "\n",
        "### Re-train with optimal parameters, run predictons:\n",
        "dX_exact_train3 = xgb.DMatrix(X_train3, y_train3)\n",
        "dX_exact_test3 = xgb.DMatrix(X_test3, y_test3)\n",
        "model_exact_3 = xgb.train(params_exact_3, dX_exact_train3)\n",
        "pred_exact_3 = model_exact_3.predict(dX_exact_test3)\n",
        "\n",
        "rmse_exact_3 = np.sqrt(mean_squared_error(pred_exact_3, y_test3))\n",
        "rmse_exact_3"
      ],
      "execution_count": 56,
      "outputs": [
        {
          "output_type": "stream",
          "name": "stdout",
          "text": [
            "Evaluation \t Proposed point \t  Current eval. \t  Best eval. \t         Max AcqFunc.\n",
            "init\t [ 5.50797903  7.08147823 13.          0.56066429 11.          0.11687321]\t -0.7165783188757435\t -0.6409647951145182\t    \n",
            "init\t [ 0.40630737  2.47888297 11.          0.72040492 13.          0.23083313]\t -0.7204431346766296\t -0.6409647951145182\t    \n",
            "init\t [ 4.53172301  2.15577008 11.          0.74631796  2.          0.60296868]\t -0.6409647951145182\t -0.6409647951145182\t    \n",
            "init\t [ 2.59252447  4.15101197 13.          0.79330998  8.          0.24118096]\t -0.7214290072967551\t -0.6409647951145182\t    \n",
            "init\t [ 5.44649018  7.80314765 10.          0.62879264 18.          0.44917413]\t -0.6558401549443296\t -0.6409647951145182\t    \n",
            "1  \t [1.56262424 9.7795241  5.         0.91450054 5.         0.53102391]\t -0.652766690473656\t -0.6409647951145182\t    \n",
            "2  \t [ 7.69133691  0.25025283 10.          0.52101543 12.          0.10383979]\t -0.7148542073105238\t -0.6409647951145182\t    \n",
            "3  \t [ 7.38032831  9.94067232 11.          0.77461843  2.          0.2199184 ]\t -0.7211360280437672\t -0.6409647951145182\t    \n",
            "\u001b[1m\u001b[92m4\u001b[0m\t \u001b[1m\u001b[92m[ 4.06522402  9.52384028  5.          0.68629723 13.          0.87617671]\u001b[0m\t \u001b[1m\u001b[92m-0.49349103668500904\u001b[0m\t \u001b[1m\u001b[92m-0.49349103668500904\u001b[0m\t \u001b[1m\u001b[92m-0.7076563103141722\u001b[0m\n",
            "\u001b[1m\u001b[92m5\u001b[0m\t \u001b[1m\u001b[92m[3.68953475 2.95525094 5.         0.6894371  8.         0.99869195]\u001b[0m\t \u001b[1m\u001b[92m-0.4907212254462726\u001b[0m\t \u001b[1m\u001b[92m-0.4907212254462726\u001b[0m\t \u001b[1m\u001b[92m-0.5848061670556989\u001b[0m\n",
            "\u001b[1m\u001b[92m6\u001b[0m\t \u001b[1m\u001b[92m[ 9.45836152  3.54856183 15.          1.          5.03055292  1.        ]\u001b[0m\t \u001b[1m\u001b[92m-0.45969770559660034\u001b[0m\t \u001b[1m\u001b[92m-0.45969770559660034\u001b[0m\t \u001b[1m\u001b[92m-0.5777937711821101\u001b[0m\n",
            "7  \t [9.34527135 5.20373839 7.         0.72717205 2.         0.5760477 ]\t -0.63446880770149\t -0.45969770559660034\t    \n",
            "8  \t [10.         10.         15.          1.         19.91289064  1.        ]\t -0.4715894798301793\t -0.45969770559660034\t    \n",
            "9  \t [ 2.90369752  3.11254054  6.          0.81932406 16.          0.23613277]\t -0.7197796376906721\t -0.45969770559660034\t    \n",
            "10 \t [ 4.43398983  0.1775468  13.          0.67757521 18.          0.85307217]\t -0.5210602575470441\t -0.45969770559660034\t    \n",
            "\u001b[1m\u001b[92m11\u001b[0m\t \u001b[1m\u001b[92m[ 1.02918863  9.32189805 13.          0.88333707  1.          0.86998588]\u001b[0m\t \u001b[1m\u001b[92m-0.45190108244647254\u001b[0m\t \u001b[1m\u001b[92m-0.45190108244647254\u001b[0m\t \u001b[1m\u001b[92m-0.545399716754741\u001b[0m\n",
            "12 \t [ 7.36281279  7.66763777  8.          0.59948159 13.          0.98370581]\t -0.4804793139396266\t -0.45190108244647254\t    \n",
            "13 \t [ 9.38226635  4.01107902 14.          0.88645966 17.          0.87374815]\t -0.47315524396225167\t -0.45190108244647254\t    \n",
            "14 \t [0.86375274 7.69964496 8.         0.67182269 1.         0.12474838]\t -0.7214117317911921\t -0.45190108244647254\t    \n",
            "15 \t [0.  0.  5.  0.5 1.  0.1]\t -0.7128635442438903\t -0.45190108244647254\t    \n",
            "16 \t [ 1.04436425  9.32284009 12.          0.59300158  7.          0.9522161 ]\t -0.46635534339044915\t -0.45190108244647254\t    \n",
            "17 \t [ 9.40129426  8.85637698 13.          0.72340176  7.          0.76030308]\t -0.5237424802632007\t -0.45190108244647254\t    \n",
            "18 \t [ 8.50267404  2.17033522  6.          0.50604942 19.          0.82390736]\t -0.537393179824783\t -0.45190108244647254\t    \n",
            "19 \t [ 0.59117942  7.04764364 14.          0.92579676 15.          0.40983297]\t -0.7096913524170247\t -0.45190108244647254\t    \n",
            "20 \t [8.97398363 2.41897649 7.         0.81773512 8.         0.28324604]\t -0.7196336258157527\t -0.45190108244647254\t    \n",
            "21 \t [7.41515841 0.52199956 6.         0.81915682 2.         0.1036162 ]\t -0.720156545617055\t -0.45190108244647254\t    \n",
            "22 \t [ 1.72284944  3.60586849 11.          0.66060764 19.          0.20496895]\t -0.7208700313413882\t -0.45190108244647254\t    \n",
            "23 \t [ 6.64966697  8.448574    5.          0.65443865 19.          0.53636799]\t -0.6532290988903501\t -0.45190108244647254\t    \n",
            "24 \t [ 0.04997226  0.57243486  5.          0.9748128  12.          0.24835402]\t -0.7195165728779045\t -0.45190108244647254\t    \n",
            "25 \t [ 5.97844374  3.36129959  7.          0.91463604 12.          0.38394576]\t -0.7058534429134321\t -0.45190108244647254\t    \n",
            "26 \t [0.33454906 4.8293531  6.         0.75998498 5.         0.78354586]\t -0.5258469010005469\t -0.45190108244647254\t    \n",
            "27 \t [ 0.50161196  6.73842363  5.          0.62422734 11.          0.68966684]\t -0.6257414714048529\t -0.45190108244647254\t    \n",
            "28 \t [ 7.35886709 10.         14.27044387  1.         14.27044387  1.        ]\t -0.46399481338520737\t -0.45190108244647254\t    \n",
            "29 \t [0.33715852 0.41541443 9.         0.53276138 6.         0.26454539]\t -0.7162762004378923\t -0.45190108244647254\t    \n",
            "30 \t [7.9763087  7.42353113 6.         0.94751492 8.         0.96523208]\t -0.4802476398105714\t -0.45190108244647254\t    \n"
          ]
        },
        {
          "output_type": "execute_result",
          "data": {
            "text/plain": [
              "4.649527586702978"
            ]
          },
          "metadata": {},
          "execution_count": 56
        }
      ]
    },
    {
      "cell_type": "code",
      "metadata": {
        "id": "SKX_nfEaaAwm",
        "colab": {
          "base_uri": "https://localhost:8080/"
        },
        "outputId": "7a312410-51bf-4930-8662-85c17625a881"
      },
      "source": [
        "### Bayesian optimization runs (x20): 'exact' Acquisition Function run number = 4 \n",
        "\n",
        "np.random.seed(run_num_4)\n",
        "surrogate_exact_4 = dGaussianProcess(cov_func, optimize=opt)\n",
        "\n",
        "X_train4, X_test4, y_train4, y_test4 = train_test_split(X, y, test_size=test_perc, random_state=run_num_4)\n",
        "\n",
        "def f_syn_polarity4(alpha, gamma, max_depth, subsample, min_child_weight, colsample):\n",
        "    reg = XGBRegressor(reg_alpha=alpha, gamma=gamma, max_depth=int(max_depth), subsample=subsample, min_child_weight=min_child_weight,\n",
        "          colsample_bytree=colsample, n_estimators = n_est, random_state=run_num_4, objective = 'reg:squarederror')\n",
        "    score = np.array(cross_val_score(reg, X=X_train4, y=y_train4).mean())\n",
        "    return operator * score\n",
        "\n",
        "exact_4 = dGPGO(surrogate_exact_4, Acquisition_new(util_exact), f_syn_polarity4, param, n_jobs = -1) # Define BayesOpt\n",
        "exact_4.run(max_iter = max_iter, init_evals = n_init) # run\n",
        "\n",
        "### Return optimal parameters' set:\n",
        "params_exact_4 = exact_4.getResult()[0]\n",
        "params_exact_4['max_depth'] = int(params_exact_4['max_depth'])\n",
        "params_exact_4['min_child_weight'] = int(params_exact_4['min_child_weight'])\n",
        "\n",
        "### Re-train with optimal parameters, run predictons:\n",
        "dX_exact_train4 = xgb.DMatrix(X_train4, y_train4)\n",
        "dX_exact_test4 = xgb.DMatrix(X_test4, y_test4)\n",
        "model_exact_4 = xgb.train(params_exact_4, dX_exact_train4)\n",
        "pred_exact_4 = model_exact_4.predict(dX_exact_test4)\n",
        "\n",
        "rmse_exact_4 = np.sqrt(mean_squared_error(pred_exact_4, y_test4))\n",
        "rmse_exact_4"
      ],
      "execution_count": 57,
      "outputs": [
        {
          "output_type": "stream",
          "name": "stdout",
          "text": [
            "Evaluation \t Proposed point \t  Current eval. \t  Best eval. \t         Max AcqFunc.\n",
            "init\t [9.67029839 5.47232249 6.         0.92781047 9.         0.72795594]\t -0.5993772224326677\t -0.4983304913999733\t    \n",
            "init\t [ 2.16089496  9.76274455 12.          0.62649118  9.          0.66966679]\t -0.6069567430422909\t -0.4983304913999733\t    \n",
            "init\t [ 0.05159149  5.72356491  9.          0.99170034 10.          0.10808749]\t -0.7139334307278753\t -0.4983304913999733\t    \n",
            "init\t [ 3.86571283  0.44160058 10.          0.90553105 18.          0.95407958]\t -0.4983304913999733\t -0.4983304913999733\t    \n",
            "init\t [ 7.86305986  8.66289299  6.          0.53285477 14.          0.25117497]\t -0.7091576633146701\t -0.4983304913999733\t    \n",
            "1  \t [ 8.45443649  8.61014312 11.          0.83475494  1.          0.14018305]\t -0.7189305559932541\t -0.4983304913999733\t    \n",
            "2  \t [ 0.90674561  6.32290535 11.          0.94435129  1.          0.40346185]\t -0.659235838187788\t -0.4983304913999733\t    \n",
            "3  \t [ 7.37481669  1.69273565 11.          0.93066167  4.          0.26673965]\t -0.71175266619209\t -0.4983304913999733\t    \n",
            "4  \t [ 5.92074392  7.05411368 14.          0.56897417 18.          0.54051446]\t -0.6311960055652813\t -0.4983304913999733\t    \n",
            "5  \t [0.         0.         5.         0.5        6.83802612 0.1       ]\t -0.7074783249970407\t -0.4983304913999733\t    \n",
            "6  \t [ 9.52993971  0.33702013  5.          0.64331783 18.          0.12071935]\t -0.7111637954440517\t -0.4983304913999733\t    \n",
            "7  \t [ 4.78239078  2.50215387 14.          0.69422942 12.          0.74303412]\t -0.5926245904955176\t -0.4983304913999733\t    \n",
            "8  \t [3.86538132 1.78391589 5.         0.96297978 2.         0.70393647]\t -0.6123381001992111\t -0.4983304913999733\t    \n",
            "9  \t [2.90623288 8.58681802 5.         0.88137808 4.         0.34595373]\t -0.659126699328721\t -0.4983304913999733\t    \n",
            "10 \t [ 3.07807355  8.11709345  7.          0.6375573  19.          0.82418508]\t -0.5937699087017264\t -0.4983304913999733\t    \n",
            "11 \t [ 9.65147322  0.33792642 12.          0.92327424 17.          0.84355403]\t -0.5882916778627522\t -0.4983304913999733\t    \n",
            "12 \t [ 8.48843563  0.37785156 11.          0.83297408  1.          0.855572  ]\t -0.5999567405093403\t -0.4983304913999733\t    \n",
            "\u001b[1m\u001b[92m13\u001b[0m\t \u001b[1m\u001b[92m[ 9.09189983  4.93474286  9.89313994  1.         20.          1.        ]\u001b[0m\t \u001b[1m\u001b[92m-0.4860208539670256\u001b[0m\t \u001b[1m\u001b[92m-0.4860208539670256\u001b[0m\t \u001b[1m\u001b[92m-0.5796283068201749\u001b[0m\n",
            "14 \t [ 3.22282465  1.05364145  6.          0.75774626 12.          0.92739587]\t -0.5208797051732466\t -0.4860208539670256\t    \n",
            "15 \t [9.41541409 7.69245319 5.         0.52626745 1.         0.60186246]\t -0.6194547986660568\t -0.4860208539670256\t    \n",
            "16 \t [ 1.59376327  9.3637724   5.          0.56698742 13.          0.29635446]\t -0.6589347550965012\t -0.4860208539670256\t    \n",
            "\u001b[1m\u001b[92m17\u001b[0m\t \u001b[1m\u001b[92m[10.         10.         11.96134796  1.         14.96134796  1.        ]\u001b[0m\t \u001b[1m\u001b[92m-0.481999807391116\u001b[0m\t \u001b[1m\u001b[92m-0.481999807391116\u001b[0m\t \u001b[1m\u001b[92m-0.5662985738736475\u001b[0m\n",
            "\u001b[1m\u001b[92m18\u001b[0m\t \u001b[1m\u001b[92m[10.          7.66327232 13.02937426  1.          6.02937426  1.        ]\u001b[0m\t \u001b[1m\u001b[92m-0.4788254162521701\u001b[0m\t \u001b[1m\u001b[92m-0.4788254162521701\u001b[0m\t \u001b[1m\u001b[92m-0.561371242129765\u001b[0m\n",
            "19 \t [6.04758549 0.99675153 5.         0.67521977 7.         0.8442095 ]\t -0.6044447660961294\t -0.4788254162521701\t    \n",
            "20 \t [10. 10. 15.  1. 20.  1.]\t -0.4821618915328605\t -0.4788254162521701\t    \n",
            "21 \t [ 2.53595099  3.58249861 14.          0.85804634  5.          0.53784435]\t -0.6296598249453945\t -0.4788254162521701\t    \n",
            "22 \t [ 0.47074559  8.10477098 13.          0.56791553 14.          0.20602216]\t -0.7101961932502056\t -0.4788254162521701\t    \n",
            "23 \t [4.54498845 4.73987501 6.         0.7658368  6.         0.15012886]\t -0.7139636713851948\t -0.4788254162521701\t    \n",
            "24 \t [ 9.80678487  3.95044929 10.          0.72584344 13.          0.44065799]\t -0.628768413506547\t -0.4788254162521701\t    \n",
            "25 \t [6.52014379 9.91083882 7.         0.59933275 8.         0.17860108]\t -0.7096031601142208\t -0.4788254162521701\t    \n",
            "\u001b[1m\u001b[92m26\u001b[0m\t \u001b[1m\u001b[92m[ 3.72160172 10.          9.91052675  1.          3.91052675  1.        ]\u001b[0m\t \u001b[1m\u001b[92m-0.47183351276525387\u001b[0m\t \u001b[1m\u001b[92m-0.47183351276525387\u001b[0m\t \u001b[1m\u001b[92m-0.5588959214781616\u001b[0m\n",
            "\u001b[1m\u001b[92m27\u001b[0m\t \u001b[1m\u001b[92m[ 6.21214637  8.68545411 15.          1.         10.04994873  1.        ]\u001b[0m\t \u001b[1m\u001b[92m-0.46976704700522076\u001b[0m\t \u001b[1m\u001b[92m-0.46976704700522076\u001b[0m\t \u001b[1m\u001b[92m-0.5521568225126623\u001b[0m\n",
            "28 \t [ 3.47874821  4.86744807  8.          0.53112697 15.          0.6459008 ]\t -0.6115858230466044\t -0.46976704700522076\t    \n",
            "29 \t [ 9.22503067  5.18631975 15.          1.         14.3857069   1.        ]\t -0.47514045588960696\t -0.46976704700522076\t    \n",
            "30 \t [ 1.72078221  1.85338202  5.          0.88677213 19.          0.37340399]\t -0.6587324919539517\t -0.46976704700522076\t    \n"
          ]
        },
        {
          "output_type": "execute_result",
          "data": {
            "text/plain": [
              "4.698236844400514"
            ]
          },
          "metadata": {},
          "execution_count": 57
        }
      ]
    },
    {
      "cell_type": "code",
      "metadata": {
        "id": "PJmI9saAaEG1",
        "colab": {
          "base_uri": "https://localhost:8080/"
        },
        "outputId": "d781c06e-a844-4562-de1e-c1247492cf5e"
      },
      "source": [
        "### Bayesian optimization runs (x20): 'exact' Acquisition Function run number = 5 \n",
        "\n",
        "np.random.seed(run_num_5)\n",
        "surrogate_exact_5 = dGaussianProcess(cov_func, optimize=opt)\n",
        "\n",
        "X_train5, X_test5, y_train5, y_test5 = train_test_split(X, y, test_size=test_perc, random_state=run_num_5)\n",
        "\n",
        "def f_syn_polarity5(alpha, gamma, max_depth, subsample, min_child_weight, colsample):\n",
        "    reg = XGBRegressor(reg_alpha=alpha, gamma=gamma, max_depth=int(max_depth), subsample=subsample, min_child_weight=min_child_weight,\n",
        "          colsample_bytree=colsample, n_estimators = n_est, random_state=run_num_5, objective = 'reg:squarederror')\n",
        "    score = np.array(cross_val_score(reg, X=X_train5, y=y_train5).mean())\n",
        "    return operator * score\n",
        "\n",
        "exact_5 = dGPGO(surrogate_exact_5, Acquisition_new(util_exact), f_syn_polarity5, param, n_jobs = -1) # Define BayesOpt\n",
        "exact_5.run(max_iter = max_iter, init_evals = n_init) # run\n",
        "\n",
        "### Return optimal parameters' set:\n",
        "params_exact_5 = exact_5.getResult()[0]\n",
        "params_exact_5['max_depth'] = int(params_exact_5['max_depth'])\n",
        "params_exact_5['min_child_weight'] = int(params_exact_5['min_child_weight'])\n",
        "\n",
        "### Re-train with optimal parameters, run predictons:\n",
        "dX_exact_train5 = xgb.DMatrix(X_train5, y_train5)\n",
        "dX_exact_test5 = xgb.DMatrix(X_test5, y_test5)\n",
        "model_exact_5 = xgb.train(params_exact_5, dX_exact_train5)\n",
        "pred_exact_5 = model_exact_5.predict(dX_exact_test5)\n",
        "\n",
        "rmse_exact_5 = np.sqrt(mean_squared_error(pred_exact_5, y_test5))\n",
        "rmse_exact_5"
      ],
      "execution_count": 58,
      "outputs": [
        {
          "output_type": "stream",
          "name": "stdout",
          "text": [
            "Evaluation \t Proposed point \t  Current eval. \t  Best eval. \t         Max AcqFunc.\n",
            "init\t [ 2.21993171  8.70732306 11.          0.68186845 10.          0.53957007]\t -0.5323233521622429\t -0.4868347596133297\t    \n",
            "init\t [ 6.11743863  7.65907856  5.          0.64840025 16.          0.82745351]\t -0.4868347596133297\t -0.4868347596133297\t    \n",
            "init\t [ 6.49458883  8.19472793  6.          0.93996852 19.          0.36647194]\t -0.586475577548452\t -0.4868347596133297\t    \n",
            "init\t [ 6.28787909  5.7983781   6.          0.63290956 17.          0.18402673]\t -0.633609225551848\t -0.4868347596133297\t    \n",
            "init\t [8.26554249 8.33492742 9.         0.97900675 3.         0.26957319]\t -0.6326249738244012\t -0.4868347596133297\t    \n",
            "1  \t [1.95474956 1.21548467 5.         0.65548996 6.         0.3261206 ]\t -0.5882279171378358\t -0.4868347596133297\t    \n",
            "2  \t [ 3.90043826  0.30059527 11.          0.95660877 13.          0.16396145]\t -0.6326090413479479\t -0.4868347596133297\t    \n",
            "3  \t [ 1.89102498  3.81201457 14.          0.79693323  4.          0.52365093]\t -0.5345515814760515\t -0.4868347596133297\t    \n",
            "4  \t [ 8.98063632  2.97885127  9.          0.64249728 18.          0.16342995]\t -0.63240536298746\t -0.4868347596133297\t    \n",
            "\u001b[1m\u001b[92m5\u001b[0m\t \u001b[1m\u001b[92m[ 7.2080363   0.14020863 14.          0.70262402  1.          0.81354205]\u001b[0m\t \u001b[1m\u001b[92m-0.465844229386987\u001b[0m\t \u001b[1m\u001b[92m-0.465844229386987\u001b[0m\t \u001b[1m\u001b[92m-0.5527125738449561\u001b[0m\n",
            "\u001b[1m\u001b[92m6\u001b[0m\t \u001b[1m\u001b[92m[10.          9.44520482 15.          1.         20.          1.        ]\u001b[0m\t \u001b[1m\u001b[92m-0.4315647503692202\u001b[0m\t \u001b[1m\u001b[92m-0.4315647503692202\u001b[0m\t \u001b[1m\u001b[92m-0.5329995984006473\u001b[0m\n",
            "7  \t [4.37003348 9.87890289 5.         0.65374913 7.         0.62009063]\t -0.5157271802459567\t -0.4315647503692202\t    \n",
            "8  \t [ 2.68679241  7.25440098 14.          0.65390023 17.          0.99358304]\t -0.43338395515567535\t -0.4315647503692202\t    \n",
            "9  \t [ 9.58792626  8.48977785 13.          0.60628176  9.          0.18518956]\t -0.6323995483897046\t -0.4315647503692202\t    \n",
            "10 \t [ 6.97752806  2.98678749 10.          0.57146948  7.          0.9882264 ]\t -0.44834224855405436\t -0.4315647503692202\t    \n",
            "11 \t [ 9.88162042  4.98501997  7.          0.71514689 11.          0.88825005]\t -0.4486026878328516\t -0.4315647503692202\t    \n",
            "12 \t [ 1.24947698  9.04398434 11.          0.51619206  1.          0.25149054]\t -0.6404288093739566\t -0.4315647503692202\t    \n",
            "13 \t [4.29434972 2.01082809 8.         0.64047641 1.         0.68777935]\t -0.5043962477805882\t -0.4315647503692202\t    \n",
            "14 \t [8.65416386 1.0753157  5.         0.51446617 5.         0.26433033]\t -0.6373556721405176\t -0.4315647503692202\t    \n",
            "15 \t [ 0.69381482  7.09764326  5.          0.79260103 13.          0.36148114]\t -0.5865660625355444\t -0.4315647503692202\t    \n",
            "16 \t [ 5.90866369  1.23912394  5.          0.73203526 13.          0.44895514]\t -0.5641284322471574\t -0.4315647503692202\t    \n",
            "17 \t [ 9.82957504  3.67845167 14.          0.66259018 12.          0.65947706]\t -0.5037240574442794\t -0.4315647503692202\t    \n",
            "18 \t [ 0.33154545  2.45627958  8.          0.87454095 14.          0.94998466]\t -0.4405807029170717\t -0.4315647503692202\t    \n",
            "19 \t [10.         10.          9.10640746  1.         16.10640746  1.        ]\t -0.43476678662087365\t -0.4315647503692202\t    \n",
            "20 \t [ 2.93448298  5.80717368  5.          0.89608154 19.          0.6387738 ]\t -0.5167803781864203\t -0.4315647503692202\t    \n",
            "21 \t [ 1.45932766  1.48724096 14.          0.8053907  17.          0.73407168]\t -0.45638120082493644\t -0.4315647503692202\t    \n",
            "22 \t [1.15268257 6.5518169  8.89704822 0.5        5.89704822 0.1       ]\t -0.6363999007933232\t -0.4315647503692202\t    \n",
            "23 \t [0.  0.  5.  0.5 1.  0.1]\t -0.6365240351934163\t -0.4315647503692202\t    \n",
            "24 \t [5.80891976 6.22815082 5.         0.60791835 2.         0.19304152]\t -0.633210503254255\t -0.4315647503692202\t    \n",
            "\u001b[1m\u001b[92m25\u001b[0m\t \u001b[1m\u001b[92m[10.         10.         14.56027394  1.         13.95274245  1.        ]\u001b[0m\t \u001b[1m\u001b[92m-0.4286731638859573\u001b[0m\t \u001b[1m\u001b[92m-0.4286731638859573\u001b[0m\t \u001b[1m\u001b[92m-0.4995105152522596\u001b[0m\n",
            "26 \t [ 9.44500599  5.01796507 14.0786054   1.         17.2420202   0.80631452]\t -0.43911964664067715\t -0.4286731638859573\t    \n",
            "27 \t [ 6.72997514  0.60780575 14.          0.89835235 18.          0.97859978]\t -0.437571922818659\t -0.4286731638859573\t    \n",
            "28 \t [9.64880583 0.85455793 9.         0.80366346 1.         0.54097439]\t -0.5442200644862888\t -0.4286731638859573\t    \n",
            "29 \t [10.         10.         13.99901096  1.          2.99901096  1.        ]\t -0.4311217554027415\t -0.4286731638859573\t    \n",
            "30 \t [ 5.53382723  5.10584942 10.90290312  0.5        11.90290312  0.1       ]\t -0.6337589990110398\t -0.4286731638859573\t    \n"
          ]
        },
        {
          "output_type": "execute_result",
          "data": {
            "text/plain": [
              "4.7138642160135635"
            ]
          },
          "metadata": {},
          "execution_count": 58
        }
      ]
    },
    {
      "cell_type": "code",
      "metadata": {
        "id": "ulhEolsxaG4k",
        "colab": {
          "base_uri": "https://localhost:8080/"
        },
        "outputId": "0241d8b8-51c3-4cc7-845f-952ca072a970"
      },
      "source": [
        "### Bayesian optimization runs (x20): 'exact' Acquisition Function run number = 6 \n",
        "\n",
        "np.random.seed(run_num_6)\n",
        "surrogate_exact_6 = dGaussianProcess(cov_func, optimize=opt)\n",
        "\n",
        "X_train6, X_test6, y_train6, y_test6 = train_test_split(X, y, test_size=test_perc, random_state=run_num_6)\n",
        "\n",
        "def f_syn_polarity6(alpha, gamma, max_depth, subsample, min_child_weight, colsample):\n",
        "    reg = XGBRegressor(reg_alpha=alpha, gamma=gamma, max_depth=int(max_depth), subsample=subsample, min_child_weight=int(min_child_weight),\n",
        "          colsample_bytree=colsample, n_estimators = n_est, random_state=run_num_6, objective = 'reg:squarederror', eval_metric = 'rmse')\n",
        "    score = np.array(cross_val_score(reg, X=X_train6, y=y_train6).mean())\n",
        "    return operator * score\n",
        "\n",
        "exact_6 = dGPGO(surrogate_exact_6, Acquisition_new(util_exact), f_syn_polarity6, param, n_jobs = -1) # Define BayesOpt\n",
        "exact_6.run(max_iter = max_iter, init_evals = n_init) # run\n",
        "\n",
        "### Return optimal parameters' set:\n",
        "params_exact_6 = exact_6.getResult()[0]\n",
        "params_exact_6['max_depth'] = int(params_exact_6['max_depth'])\n",
        "params_exact_6['min_child_weight'] = int(params_exact_6['min_child_weight'])\n",
        "\n",
        "### Re-train with optimal parameters, run predictons:\n",
        "dX_exact_train6 = xgb.DMatrix(X_train6, y_train6)\n",
        "dX_exact_test6 = xgb.DMatrix(X_test6, y_test6)\n",
        "model_exact_6 = xgb.train(params_exact_6, dX_exact_train6)\n",
        "pred_exact_6 = model_exact_6.predict(dX_exact_test6)\n",
        "\n",
        "rmse_exact_6 = np.sqrt(mean_squared_error(pred_exact_6, y_test6))\n",
        "rmse_exact_6"
      ],
      "execution_count": 59,
      "outputs": [
        {
          "output_type": "stream",
          "name": "stdout",
          "text": [
            "Evaluation \t Proposed point \t  Current eval. \t  Best eval. \t         Max AcqFunc.\n",
            "init\t [8.92860151 3.31979805 5.         0.99251441 2.         0.57683563]\t -0.5719256944003751\t -0.5405445954433028\t    \n",
            "init\t [4.18807429 3.35407849 9.         0.87750649 3.         0.56623277]\t -0.6047098118480896\t -0.5405445954433028\t    \n",
            "init\t [ 5.788586    6.45355096 14.          0.70660047 12.          0.82154882]\t -0.5405445954433028\t -0.5405445954433028\t    \n",
            "init\t [4.58184578 6.73834679 5.         0.90108528 3.         0.65482895]\t -0.5678490550489279\t -0.5405445954433028\t    \n",
            "init\t [ 4.42510505  5.75952352 14.          0.97882365 15.          0.29525604]\t -0.6145131146454834\t -0.5405445954433028\t    \n",
            "1  \t [ 2.83859384  1.8954219   7.          0.66740302 13.          0.2701964 ]\t -0.691031094679315\t -0.5405445954433028\t    \n",
            "2  \t [ 8.38264396  7.97650716 14.          0.82584689  4.          0.25017455]\t -0.6923819935110469\t -0.5405445954433028\t    \n",
            "3  \t [8.90357673 8.23982464 5.         0.66456142 9.         0.34395649]\t -0.6304772827355849\t -0.5405445954433028\t    \n",
            "\u001b[1m\u001b[92m4\u001b[0m\t \u001b[1m\u001b[92m[10. 10. 15.  1. 20.  1.]\u001b[0m\t \u001b[1m\u001b[92m-0.45961383649052767\u001b[0m\t \u001b[1m\u001b[92m-0.45961383649052767\u001b[0m\t \u001b[1m\u001b[92m-0.6050543177425093\u001b[0m\n",
            "5  \t [ 0.84801146  1.44124026 14.          0.54887437  7.          0.93547384]\t -0.476867228842187\t -0.45961383649052767\t    \n",
            "6  \t [ 8.37754293  7.69636444  8.          0.98881796 16.          0.46623185]\t -0.6072185980939964\t -0.45961383649052767\t    \n",
            "7  \t [ 0.5654966   9.52584762 14.          0.82016688  4.          0.10717254]\t -0.6950359736000904\t -0.45961383649052767\t    \n",
            "8  \t [ 6.75909949  0.94220097  9.          0.71741448 19.          0.94972086]\t -0.483135560233687\t -0.45961383649052767\t    \n",
            "9  \t [ 1.43292764  9.31823681  5.          0.51738676 10.          0.30600768]\t -0.6357205486843573\t -0.45961383649052767\t    \n",
            "10 \t [ 0.09135886  8.11961466 10.          0.74013552 12.          0.97362941]\t -0.46984611815932203\t -0.45961383649052767\t    \n",
            "11 \t [ 8.51551086  2.70859558 10.          0.84297574  9.          0.42302662]\t -0.6174755660271657\t -0.45961383649052767\t    \n",
            "12 \t [ 1.03080361  6.70895845  7.          0.73336025 19.          0.31104879]\t -0.6191870905906407\t -0.45961383649052767\t    \n",
            "13 \t [0.2400873  1.61429062 5.         0.72296529 1.         0.1077861 ]\t -0.6912677535150268\t -0.45961383649052767\t    \n",
            "14 \t [9.89801174 9.77563967 9.         0.68555662 3.         0.83921118]\t -0.5428995234335529\t -0.45961383649052767\t    \n",
            "15 \t [ 0.50127522  1.94924928 11.          0.89270197 19.          0.91286914]\t -0.4669311845911867\t -0.45961383649052767\t    \n",
            "16 \t [ 8.27965778  0.50999055  5.          0.77678861 11.          0.85564655]\t -0.5578599886839161\t -0.45961383649052767\t    \n",
            "17 \t [5.45577791 0.01600384 5.         0.68033296 5.         0.47973584]\t -0.6188363555345691\t -0.45961383649052767\t    \n",
            "18 \t [0.75190021 2.99821111 7.         0.73112778 8.         0.11979456]\t -0.691424380511367\t -0.45961383649052767\t    \n",
            "19 \t [ 5.98453698  2.00451687 13.          0.80337068 13.          0.24875337]\t -0.692321289717216\t -0.45961383649052767\t    \n",
            "\u001b[1m\u001b[92m20\u001b[0m\t \u001b[1m\u001b[92m[10.         10.         15.          1.         11.17647621  1.        ]\u001b[0m\t \u001b[1m\u001b[92m-0.4590992817416272\u001b[0m\t \u001b[1m\u001b[92m-0.4590992817416272\u001b[0m\t \u001b[1m\u001b[92m-0.5356734612081061\u001b[0m\n",
            "21 \t [4.70222718 7.76335614 9.         0.92367012 9.         0.28724782]\t -0.6151742953973676\t -0.4590992817416272\t    \n",
            "22 \t [ 9.56780844  0.64608047 12.          0.83676299  2.          0.96098008]\t -0.4643061698441667\t -0.4590992817416272\t    \n",
            "23 \t [0.09752792 7.56070281 9.         0.95937939 3.         0.71279346]\t -0.562367946644558\t -0.4590992817416272\t    \n",
            "24 \t [ 8.26255513  8.85182409 14.          0.50272259 15.          0.8232042 ]\t -0.5532653429368719\t -0.4590992817416272\t    \n",
            "25 \t [ 3.81847995  9.43141013 12.          0.56182914 19.          0.95661081]\t -0.48611573402244906\t -0.4590992817416272\t    \n",
            "\u001b[1m\u001b[92m26\u001b[0m\t \u001b[1m\u001b[92m[ 3.70097052  2.42304016 14.83834469  1.         19.83834469  1.        ]\u001b[0m\t \u001b[1m\u001b[92m-0.45521036522375\u001b[0m\t \u001b[1m\u001b[92m-0.45521036522375\u001b[0m\t \u001b[1m\u001b[92m-0.5312394929872725\u001b[0m\n",
            "27 \t [ 0.          0.         10.91358567  0.5        13.91358567  0.1       ]\t -0.6937049145946255\t -0.45521036522375\t    \n",
            "28 \t [10.          7.93798796  9.96316995  1.          9.96316995  1.        ]\t -0.460945542307134\t -0.45521036522375\t    \n",
            "29 \t [ 1.0021313   4.9490761  14.          0.62016719  1.          0.18537333]\t -0.7015073974139394\t -0.45521036522375\t    \n",
            "30 \t [ 4.46432054  1.37976416 14.          0.91350827  1.          0.70455501]\t -0.5634086343110793\t -0.45521036522375\t    \n"
          ]
        },
        {
          "output_type": "execute_result",
          "data": {
            "text/plain": [
              "4.718890835411254"
            ]
          },
          "metadata": {},
          "execution_count": 59
        }
      ]
    },
    {
      "cell_type": "code",
      "metadata": {
        "id": "bYebx3RVaJ1w",
        "colab": {
          "base_uri": "https://localhost:8080/"
        },
        "outputId": "dea1dd9a-1859-45d3-f0a0-630c5f9668c0"
      },
      "source": [
        "### Bayesian optimization runs (x20): 'exact' Acquisition Function run number = 7 \n",
        "\n",
        "np.random.seed(run_num_7)\n",
        "surrogate_exact_7 = dGaussianProcess(cov_func, optimize=opt)\n",
        "\n",
        "X_train7, X_test7, y_train7, y_test7 = train_test_split(X, y, test_size=test_perc, random_state=run_num_7)\n",
        "\n",
        "def f_syn_polarity7(alpha, gamma, max_depth, subsample, min_child_weight, colsample):\n",
        "    reg = XGBRegressor(reg_alpha=alpha, gamma=gamma, max_depth=int(max_depth), subsample=subsample, min_child_weight=min_child_weight,\n",
        "          colsample_bytree=colsample, n_estimators = n_est, random_state=run_num_7, objective = 'reg:squarederror')\n",
        "    score = np.array(cross_val_score(reg, X=X_train7, y=y_train7).mean())\n",
        "    return operator * score\n",
        "\n",
        "exact_7 = dGPGO(surrogate_exact_7, Acquisition_new(util_exact), f_syn_polarity7, param, n_jobs = -1) # Define BayesOpt\n",
        "exact_7.run(max_iter = max_iter, init_evals = n_init) # run\n",
        "\n",
        "### Return optimal parameters' set:\n",
        "params_exact_7 = exact_7.getResult()[0]\n",
        "params_exact_7['max_depth'] = int(params_exact_7['max_depth'])\n",
        "params_exact_7['min_child_weight'] = int(params_exact_7['min_child_weight'])\n",
        "\n",
        "### Re-train with optimal parameters, run predictons:\n",
        "dX_exact_train7 = xgb.DMatrix(X_train7, y_train7)\n",
        "dX_exact_test7 = xgb.DMatrix(X_test7, y_test7)\n",
        "model_exact_7 = xgb.train(params_exact_7, dX_exact_train7)\n",
        "pred_exact_7 = model_exact_7.predict(dX_exact_test7)\n",
        "\n",
        "rmse_exact_7 = np.sqrt(mean_squared_error(pred_exact_7, y_test7))\n",
        "rmse_exact_7"
      ],
      "execution_count": 60,
      "outputs": [
        {
          "output_type": "stream",
          "name": "stdout",
          "text": [
            "Evaluation \t Proposed point \t  Current eval. \t  Best eval. \t         Max AcqFunc.\n",
            "init\t [0.76308289 7.79918792 8.         0.98911145 8.         0.98019056]\t -0.44500885348659536\t -0.44173641078261416\t    \n",
            "init\t [ 5.3849587   5.01120464 13.          0.74994125  5.          0.88192131]\t -0.4488374676936292\t -0.44173641078261416\t    \n",
            "init\t [ 3.30839249  3.9294231  12.          0.6440728  13.          0.41137564]\t -0.5669653799025498\t -0.44173641078261416\t    \n",
            "init\t [9.29528191 2.6258377  5.         0.80027446 1.         0.86616513]\t -0.4661284696195417\t -0.44173641078261416\t    \n",
            "init\t [ 1.74052764  7.90763512 14.          0.7244129   4.          0.77536887]\t -0.44173641078261416\t -0.44173641078261416\t    \n",
            "1  \t [3.43305102 3.00339076 8.         0.71322679 4.         0.33322219]\t -0.5720117286339644\t -0.44173641078261416\t    \n",
            "2  \t [ 8.27276329  5.80705371  6.          0.6575149  16.          0.66596626]\t -0.5040023079321674\t -0.44173641078261416\t    \n",
            "3  \t [ 8.97988092  8.79483413 14.          0.55379557 13.          0.92924117]\t -0.4697830241358748\t -0.44173641078261416\t    \n",
            "4  \t [ 6.31879092  0.69939064  5.          0.5769645  12.          0.84874959]\t -0.4882732220224809\t -0.44173641078261416\t    \n",
            "5  \t [ 9.90436619  1.68371673 11.          0.68947817 16.          0.400226  ]\t -0.568100519925974\t -0.44173641078261416\t    \n",
            "6  \t [ 2.27614069  9.14855814 13.          0.84138599 18.          0.79014716]\t -0.44744611331217216\t -0.44173641078261416\t    \n",
            "7  \t [ 0.63761793  0.73483023 14.          0.60715475  1.          0.28353184]\t -0.6941989633599238\t -0.44173641078261416\t    \n",
            "8  \t [ 1.95327375  0.09413692  7.          0.63967551 19.          0.52105045]\t -0.5139990320068838\t -0.44173641078261416\t    \n",
            "9  \t [5.70513125 8.30861013 6.         0.98680016 3.         0.16134411]\t -0.68192707596936\t -0.44173641078261416\t    \n",
            "10 \t [ 0.25030147  5.86047618  7.          0.62148035 15.          0.70956246]\t -0.49234467840129764\t -0.44173641078261416\t    \n",
            "11 \t [0.         0.         5.         0.5        9.56756477 0.1       ]\t -0.6894229799199877\t -0.44173641078261416\t    \n",
            "12 \t [9.93412004 7.01728008 6.         0.60790736 8.         0.46475011]\t -0.5281857371452437\t -0.44173641078261416\t    \n",
            "\u001b[1m\u001b[92m13\u001b[0m\t \u001b[1m\u001b[92m[10. 10. 15.  1. 20.  1.]\u001b[0m\t \u001b[1m\u001b[92m-0.44162641630164357\u001b[0m\t \u001b[1m\u001b[92m-0.44162641630164357\u001b[0m\t \u001b[1m\u001b[92m-0.5037896427676957\u001b[0m\n",
            "14 \t [ 1.45077723  9.99574495  5.          0.58320457 19.          0.8020368 ]\t -0.4881887765068553\t -0.44162641630164357\t    \n",
            "15 \t [ 7.27698082  9.82692974 11.          0.6446349   1.          0.67673022]\t -0.47597027569727857\t -0.44162641630164357\t    \n",
            "16 \t [ 9.7240858   1.02502031 13.          0.74856182  8.          0.72377846]\t -0.45786249791314476\t -0.44162641630164357\t    \n",
            "17 \t [ 0.08258912  2.04682383 12.          0.59206459 18.          0.58057909]\t -0.47949559740392883\t -0.44162641630164357\t    \n",
            "18 \t [ 7.87862448  0.37268652 11.          0.83129981  1.          0.83621209]\t -0.44594195084588784\t -0.44162641630164357\t    \n",
            "19 \t [ 5.28371353  3.6868484  11.          0.82200641 19.          0.12021404]\t -0.6826289260755697\t -0.44162641630164357\t    \n",
            "20 \t [ 9.02606866  9.9399456   5.          0.69325176 13.          0.80731892]\t -0.48390390130528715\t -0.44162641630164357\t    \n",
            "21 \t [ 3.09348613  3.96247234  8.          0.81774087 13.          0.58941598]\t -0.4783933683461967\t -0.44162641630164357\t    \n",
            "22 \t [0.  0.  5.  0.5 1.  0.1]\t -0.6900797807513596\t -0.44162641630164357\t    \n",
            "\u001b[1m\u001b[92m23\u001b[0m\t \u001b[1m\u001b[92m[10.          6.23147959 14.48501979  1.          8.48501979  1.        ]\u001b[0m\t \u001b[1m\u001b[92m-0.4312859924576163\u001b[0m\t \u001b[1m\u001b[92m-0.4312859924576163\u001b[0m\t \u001b[1m\u001b[92m-0.5019176901935086\u001b[0m\n",
            "24 \t [ 4.2776564   9.48283936 11.          0.71877499 12.          0.19591223]\t -0.6824030520219181\t -0.4312859924576163\t    \n",
            "25 \t [ 0.          1.80709419 12.00765401  0.5         9.00765401  0.1       ]\t -0.6924400666847716\t -0.4312859924576163\t    \n",
            "26 \t [ 7.08665977  4.75139381  9.          0.63711231 14.          0.92169424]\t -0.4655269447709102\t -0.4312859924576163\t    \n",
            "27 \t [9.91546913 0.35662679 7.         0.87706909 8.         0.31009443]\t -0.5699297548076715\t -0.4312859924576163\t    \n",
            "28 \t [ 9.910572    5.76876265 10.          0.62357248  4.          0.60901783]\t -0.4872649442600164\t -0.4312859924576163\t    \n",
            "29 \t [10.          9.17541521  9.69533003  1.         17.69533003  1.        ]\t -0.4473026480228427\t -0.4312859924576163\t    \n",
            "30 \t [1.52216216 8.41306408 5.         0.57743997 1.         0.26594603]\t -0.6899088094983514\t -0.4312859924576163\t    \n"
          ]
        },
        {
          "output_type": "execute_result",
          "data": {
            "text/plain": [
              "4.571047561768219"
            ]
          },
          "metadata": {},
          "execution_count": 60
        }
      ]
    },
    {
      "cell_type": "code",
      "metadata": {
        "id": "xk0IPTSTbIl3",
        "colab": {
          "base_uri": "https://localhost:8080/"
        },
        "outputId": "ea0a3d1c-ff81-47f6-9d92-14498679c0b5"
      },
      "source": [
        "### Bayesian optimization runs (x20): 'exact' Acquisition Function run number = 8 \n",
        "\n",
        "np.random.seed(run_num_8)\n",
        "surrogate_exact_8 = dGaussianProcess(cov_func, optimize=opt)\n",
        "\n",
        "X_train8, X_test8, y_train8, y_test8 = train_test_split(X, y, test_size=test_perc, random_state=run_num_8)\n",
        "\n",
        "def f_syn_polarity8(alpha, gamma, max_depth, subsample, min_child_weight, colsample):\n",
        "    reg = XGBRegressor(reg_alpha=alpha, gamma=gamma, max_depth=int(max_depth), subsample=subsample, min_child_weight=min_child_weight,\n",
        "          colsample_bytree=colsample, n_estimators = n_est, random_state=run_num_8, objective = 'reg:squarederror')\n",
        "    score = np.array(cross_val_score(reg, X=X_train8, y=y_train8).mean())\n",
        "    return operator * score\n",
        "\n",
        "exact_8 = dGPGO(surrogate_exact_8, Acquisition_new(util_exact), f_syn_polarity8, param, n_jobs = -1) # Define BayesOpt\n",
        "exact_8.run(max_iter = max_iter, init_evals = n_init) # run\n",
        "\n",
        "### Return optimal parameters' set:\n",
        "params_exact_8 = exact_8.getResult()[0]\n",
        "params_exact_8['max_depth'] = int(params_exact_8['max_depth'])\n",
        "params_exact_8['min_child_weight'] = int(params_exact_8['min_child_weight'])\n",
        "\n",
        "### Re-train with optimal parameters, run predictons:\n",
        "dX_exact_train8 = xgb.DMatrix(X_train8, y_train8)\n",
        "dX_exact_test8 = xgb.DMatrix(X_test8, y_test8)\n",
        "model_exact_8 = xgb.train(params_exact_8, dX_exact_train8)\n",
        "pred_exact_8 = model_exact_8.predict(dX_exact_test8)\n",
        "\n",
        "rmse_exact_8 = np.sqrt(mean_squared_error(pred_exact_8, y_test8))\n",
        "rmse_exact_8"
      ],
      "execution_count": 61,
      "outputs": [
        {
          "output_type": "stream",
          "name": "stdout",
          "text": [
            "Evaluation \t Proposed point \t  Current eval. \t  Best eval. \t         Max AcqFunc.\n",
            "init\t [ 8.73429403  9.68540663 10.          0.68875849  9.          0.48011572]\t -0.5450023023990902\t -0.47785117417083445\t    \n",
            "init\t [ 6.12033333  7.66062926  8.          0.76133734 13.          0.93379456]\t -0.48415390639601685\t -0.47785117417083445\t    \n",
            "init\t [ 1.46524679  7.01527914  7.          0.90913299 10.          0.36016753]\t -0.5514374023096014\t -0.47785117417083445\t    \n",
            "init\t [ 9.73855241  3.33774046 14.          0.53290419  7.          0.7088681 ]\t -0.509390123714371\t -0.47785117417083445\t    \n",
            "init\t [ 3.00618018  1.82702795 11.          0.75681389 14.          0.98627449]\t -0.47785117417083445\t -0.47785117417083445\t    \n",
            "1  \t [4.42022545 5.48487111 9.         0.97165909 3.         0.63617522]\t -0.4933129789895931\t -0.47785117417083445\t    \n",
            "2  \t [ 4.42530022  8.86662399 12.          0.55390756 19.          0.26906902]\t -0.6339615084112526\t -0.47785117417083445\t    \n",
            "3  \t [ 9.08237751  2.49680746  6.          0.65941352 17.          0.68321352]\t -0.5297996778038847\t -0.47785117417083445\t    \n",
            "\u001b[1m\u001b[92m4\u001b[0m\t \u001b[1m\u001b[92m[ 2.65017214  0.71847009 13.          0.73718634  4.          0.80301028]\u001b[0m\t \u001b[1m\u001b[92m-0.4755364601899096\u001b[0m\t \u001b[1m\u001b[92m-0.4755364601899096\u001b[0m\t \u001b[1m\u001b[92m-0.5309886198449327\u001b[0m\n",
            "5  \t [ 2.71549468  6.59835463  5.          0.95307649 18.          0.8022723 ]\t -0.5047189705784817\t -0.4755364601899096\t    \n",
            "6  \t [8.02691358 0.52300563 6.         0.98815878 7.         0.44490514]\t -0.5456011145057573\t -0.4755364601899096\t    \n",
            "7  \t [ 8.83774177  5.41674027 14.          0.73954397  1.          0.31035075]\t -0.5564925838622898\t -0.4755364601899096\t    \n",
            "\u001b[1m\u001b[92m8\u001b[0m\t \u001b[1m\u001b[92m[ 0.08467666  5.16459379 14.          0.91403875 18.          0.86276347]\u001b[0m\t \u001b[1m\u001b[92m-0.46833611203401515\u001b[0m\t \u001b[1m\u001b[92m-0.46833611203401515\u001b[0m\t \u001b[1m\u001b[92m-0.5283368329247268\u001b[0m\n",
            "9  \t [0.  0.  5.  0.5 1.  0.1]\t -0.6382770211623013\t -0.46833611203401515\t    \n",
            "10 \t [ 9.10556495  0.26506496 13.          0.920006   16.          0.11711319]\t -0.6313534648140683\t -0.46833611203401515\t    \n",
            "11 \t [10.          7.1366967  14.84312572  1.         20.          1.        ]\t -0.46885417485014214\t -0.46833611203401515\t    \n",
            "12 \t [ 8.78489361  6.07405176 13.          0.94922041 14.          0.63892045]\t -0.49396298650293263\t -0.46833611203401515\t    \n",
            "13 \t [ 9.08307561  9.73616604  5.          0.74596783 18.          0.23735578]\t -0.6330775313057753\t -0.46833611203401515\t    \n",
            "14 \t [ 1.35924905  5.41793837 14.          0.87246457  8.          0.19493237]\t -0.6345019055930117\t -0.46833611203401515\t    \n",
            "15 \t [3.63587924 9.92644255 5.         0.74785877 1.         0.42737692]\t -0.5604265931264368\t -0.46833611203401515\t    \n",
            "16 \t [0.05861183 0.85510206 7.         0.55669041 9.         0.24118856]\t -0.6331690218855945\t -0.46833611203401515\t    \n",
            "17 \t [7.57595113 9.13206965 6.         0.71378494 5.         0.12569757]\t -0.6381703425341703\t -0.46833611203401515\t    \n",
            "18 \t [ 8.81884199  0.29557486 11.          0.94612367  2.          0.80082225]\t -0.4752232906149384\t -0.46833611203401515\t    \n",
            "19 \t [ 1.3544572   9.55649539 12.          0.53328948 12.          0.91626416]\t -0.47805019356168055\t -0.46833611203401515\t    \n",
            "20 \t [ 1.37842187  7.92618907 14.          0.53493538  2.          0.9994541 ]\t -0.4812223540836058\t -0.46833611203401515\t    \n",
            "21 \t [10.         10.         15.          1.         11.78833019  1.        ]\t -0.47017279362374637\t -0.46833611203401515\t    \n",
            "22 \t [ 0.76637948  1.6718521   5.          0.89180884 15.          0.76035097]\t -0.5096944757591124\t -0.46833611203401515\t    \n",
            "\u001b[1m\u001b[92m23\u001b[0m\t \u001b[1m\u001b[92m[ 9.52341357  9.96804479 14.86069141  1.          3.86069141  1.        ]\u001b[0m\t \u001b[1m\u001b[92m-0.46237679327901954\u001b[0m\t \u001b[1m\u001b[92m-0.46237679327901954\u001b[0m\t \u001b[1m\u001b[92m-0.5263287835941031\u001b[0m\n",
            "24 \t [6.55598536 5.27904521 5.         0.91189991 8.         0.14404302]\t -0.6305657672735647\t -0.46237679327901954\t    \n",
            "25 \t [ 2.00363843  0.25557305 13.          0.79852696 19.          0.41982126]\t -0.5500644701753457\t -0.46237679327901954\t    \n",
            "26 \t [ 9.46319529  2.75975605  8.51906673  1.         10.51906673  1.        ]\t -0.4749799782940193\t -0.46237679327901954\t    \n",
            "27 \t [ 7.15040543  9.72926644 14.          0.63776297 15.          0.43073814]\t -0.5440457259258048\t -0.46237679327901954\t    \n",
            "28 \t [9.63044264 3.99132622 7.         0.5504488  2.         0.55545418]\t -0.5519005156544904\t -0.46237679327901954\t    \n",
            "29 \t [ 9.6464663   0.98885701  8.          0.8054878  19.          0.70201828]\t -0.5059919280994952\t -0.46237679327901954\t    \n",
            "30 \t [8.66270612 8.68970778 9.         0.80306345 1.         0.23433357]\t -0.6376715740042693\t -0.46237679327901954\t    \n"
          ]
        },
        {
          "output_type": "execute_result",
          "data": {
            "text/plain": [
              "4.447475995930877"
            ]
          },
          "metadata": {},
          "execution_count": 61
        }
      ]
    },
    {
      "cell_type": "code",
      "metadata": {
        "id": "9UroEj_RbLSb",
        "colab": {
          "base_uri": "https://localhost:8080/"
        },
        "outputId": "1a397b31-3040-44fe-fdea-54dfb26d16ae"
      },
      "source": [
        "### Bayesian optimization runs (x20): 'exact' Acquisition Function run number = 9 \n",
        "\n",
        "np.random.seed(run_num_9)\n",
        "surrogate_exact_9 = dGaussianProcess(cov_func, optimize=opt)\n",
        "\n",
        "X_train9, X_test9, y_train9, y_test9 = train_test_split(X, y, test_size=test_perc, random_state=run_num_9)\n",
        "\n",
        "def f_syn_polarity9(alpha, gamma, max_depth, subsample, min_child_weight, colsample):\n",
        "    reg = XGBRegressor(reg_alpha=alpha, gamma=gamma, max_depth=int(max_depth), subsample=subsample, min_child_weight=min_child_weight,\n",
        "          colsample_bytree=colsample, n_estimators = n_est, random_state=run_num_9, objective = 'reg:squarederror')\n",
        "    score = np.array(cross_val_score(reg, X=X_train9, y=y_train9).mean())\n",
        "    return operator * score\n",
        "\n",
        "exact_9 = dGPGO(surrogate_exact_9, Acquisition_new(util_exact), f_syn_polarity9, param, n_jobs = -1) # Define BayesOpt\n",
        "exact_9.run(max_iter = max_iter, init_evals = n_init) # run\n",
        "\n",
        "### Return optimal parameters' set:\n",
        "params_exact_9 = exact_9.getResult()[0]\n",
        "params_exact_9['max_depth'] = int(params_exact_9['max_depth'])\n",
        "params_exact_9['min_child_weight'] = int(params_exact_9['min_child_weight'])\n",
        "\n",
        "### Re-train with optimal parameters, run predictons:\n",
        "dX_exact_train9 = xgb.DMatrix(X_train9, y_train9)\n",
        "dX_exact_test9 = xgb.DMatrix(X_test9, y_test9)\n",
        "model_exact_9 = xgb.train(params_exact_9, dX_exact_train9)\n",
        "pred_exact_9 = model_exact_9.predict(dX_exact_test9)\n",
        "\n",
        "rmse_exact_9 = np.sqrt(mean_squared_error(pred_exact_9, y_test9))\n",
        "rmse_exact_9"
      ],
      "execution_count": 62,
      "outputs": [
        {
          "output_type": "stream",
          "name": "stdout",
          "text": [
            "Evaluation \t Proposed point \t  Current eval. \t  Best eval. \t         Max AcqFunc.\n",
            "init\t [ 0.10374154  5.01874592 11.          0.50377155  2.          0.29670281]\t -0.6545930802207814\t -0.4584168030068045\t    \n",
            "init\t [ 4.18508181  2.48101168 13.          0.69794293  2.          0.25009871]\t -0.7166132091943936\t -0.4584168030068045\t    \n",
            "init\t [ 8.78559086  9.50964032 13.          0.98395204 11.          0.90820641]\t -0.4584168030068045\t -0.4584168030068045\t    \n",
            "init\t [ 6.66898973  5.47837783  6.          0.97165345 12.          0.72499481]\t -0.48839211091816903\t -0.4584168030068045\t    \n",
            "init\t [ 8.24870465  4.65668475 13.          0.68760467  9.          0.98502332]\t -0.46354466019784824\t -0.4584168030068045\t    \n",
            "1  \t [6.73714319 2.39608167 5.         0.58130302 3.         0.163077  ]\t -0.7145926373770018\t -0.4584168030068045\t    \n",
            "2  \t [ 8.16285902  8.43489929  9.          0.96605421 10.          0.79940153]\t -0.48073960577713015\t -0.4584168030068045\t    \n",
            "3  \t [ 3.67545472  4.78145311 14.          0.63123486 17.          0.4863889 ]\t -0.4908200532861475\t -0.4584168030068045\t    \n",
            "4  \t [ 0.19525707  9.62416422  9.          0.85280832 10.          0.52998476]\t -0.489212631501365\t -0.4584168030068045\t    \n",
            "5  \t [ 1.86381009  9.16177979  5.          0.9344438  17.          0.81379931]\t -0.4912030349766601\t -0.4584168030068045\t    \n",
            "6  \t [ 2.35563756  1.41309797  5.          0.61127581 14.          0.85229383]\t -0.4988542621089159\t -0.4584168030068045\t    \n",
            "\u001b[1m\u001b[92m7\u001b[0m\t \u001b[1m\u001b[92m[ 0.65024006  0.20015298 14.          0.90298726 13.          0.95798937]\u001b[0m\t \u001b[1m\u001b[92m-0.4476685066942845\u001b[0m\t \u001b[1m\u001b[92m-0.4476685066942845\u001b[0m\t \u001b[1m\u001b[92m-0.5204890717733294\u001b[0m\n",
            "8  \t [ 9.89935012  1.80411649  9.          0.642097   16.          0.9768379 ]\t -0.4801384356428805\t -0.4476685066942845\t    \n",
            "9  \t [ 0.30581668  9.33751049 12.          0.80943195 19.          0.44519139]\t -0.47774087957331524\t -0.4476685066942845\t    \n",
            "10 \t [0.  0.  5.  0.5 1.  0.1]\t -0.7197334224449741\t -0.4476685066942845\t    \n",
            "11 \t [ 7.69830016  7.83404591 13.          0.63442501  2.          0.36725242]\t -0.6327449735696756\t -0.4476685066942845\t    \n",
            "12 \t [1.13081555 8.89608809 5.         0.68242063 1.         0.25767085]\t -0.7144450806724659\t -0.4476685066942845\t    \n",
            "13 \t [ 8.01493798  7.33950965 10.          0.50609192 18.          0.9957267 ]\t -0.48185656494615825\t -0.4476685066942845\t    \n",
            "14 \t [1.09889824 3.45783919 9.         0.93550027 8.         0.74353061]\t -0.4750631420606835\t -0.4476685066942845\t    \n",
            "15 \t [ 4.11263305  1.10911111  7.          0.99254999 19.          0.81125017]\t -0.49028030505090714\t -0.4476685066942845\t    \n",
            "16 \t [9.39353565 9.93046622 5.         0.57188784 4.         0.83501032]\t -0.4919610294417671\t -0.4476685066942845\t    \n",
            "17 \t [ 9.02776142  2.32861068 14.          0.70363074 17.          0.39080307]\t -0.6287829084548578\t -0.4476685066942845\t    \n",
            "18 \t [ 9.00084206  1.85673124 10.          0.98011614  2.          0.25530052]\t -0.7164537739094682\t -0.4476685066942845\t    \n",
            "19 \t [ 1.5375546   6.06327242 13.          0.75086004 12.          0.81590341]\t -0.4754995179849649\t -0.4476685066942845\t    \n",
            "20 \t [ 4.49089064  7.04035213 10.          0.71518167  6.          0.54341653]\t -0.48344393889093185\t -0.4476685066942845\t    \n",
            "21 \t [10. 10. 15.  1. 20.  1.]\t -0.4552859414238041\t -0.4476685066942845\t    \n",
            "22 \t [ 4.99585633  9.84423212 13.          0.58601629 15.          0.62308889]\t -0.4890091779718368\t -0.4476685066942845\t    \n",
            "23 \t [ 7.07313313  8.94084339  5.          0.99439529 19.          0.33798274]\t -0.6320298567588886\t -0.4476685066942845\t    \n",
            "24 \t [ 3.74834789  9.93946975 10.          0.52571565  1.          0.6614516 ]\t -0.4870655352258547\t -0.4476685066942845\t    \n",
            "25 \t [8.16570029 0.40949439 8.         0.67704692 8.         0.10446623]\t -0.7143816307896056\t -0.4476685066942845\t    \n",
            "\u001b[1m\u001b[92m26\u001b[0m\t \u001b[1m\u001b[92m[ 2.6116157   9.96913447 13.          0.85452594  8.          0.87833359]\u001b[0m\t \u001b[1m\u001b[92m-0.4475083824683078\u001b[0m\t \u001b[1m\u001b[92m-0.4475083824683078\u001b[0m\t \u001b[1m\u001b[92m-0.5141905585161612\u001b[0m\n",
            "\u001b[1m\u001b[92m27\u001b[0m\t \u001b[1m\u001b[92m[10.          3.12579147 14.52175641  1.          3.52175641  1.        ]\u001b[0m\t \u001b[1m\u001b[92m-0.4433593431964754\u001b[0m\t \u001b[1m\u001b[92m-0.4433593431964754\u001b[0m\t \u001b[1m\u001b[92m-0.5131404450584571\u001b[0m\n",
            "28 \t [ 7.48807874  5.11462429 12.          0.72630446 14.          0.28208232]\t -0.7174611883245842\t -0.4433593431964754\t    \n",
            "29 \t [3.08321869 0.87587118 5.         0.75683721 6.         0.32966687]\t -0.6358311120615129\t -0.4433593431964754\t    \n",
            "30 \t [ 3.61303665  3.40616878 14.          0.56185901  9.          0.73688352]\t -0.47930698060089344\t -0.4433593431964754\t    \n"
          ]
        },
        {
          "output_type": "execute_result",
          "data": {
            "text/plain": [
              "4.596433439654059"
            ]
          },
          "metadata": {},
          "execution_count": 62
        }
      ]
    },
    {
      "cell_type": "code",
      "metadata": {
        "id": "7VgaJOoJbOIE",
        "colab": {
          "base_uri": "https://localhost:8080/"
        },
        "outputId": "56765944-aae5-44de-8b05-3ff2dfed9399"
      },
      "source": [
        "### Bayesian optimization runs (x20): 'exact' Acquisition Function run number = 10 \n",
        "\n",
        "np.random.seed(run_num_10)\n",
        "surrogate_exact_10 = dGaussianProcess(cov_func, optimize=opt)\n",
        "\n",
        "X_train10, X_test10, y_train10, y_test10 = train_test_split(X, y, test_size=test_perc, random_state=run_num_10)\n",
        "\n",
        "def f_syn_polarity10(alpha, gamma, max_depth, subsample, min_child_weight, colsample):\n",
        "    reg = XGBRegressor(reg_alpha=alpha, gamma=gamma, max_depth=int(max_depth), subsample=subsample, min_child_weight=min_child_weight,\n",
        "          colsample_bytree=colsample, n_estimators = n_est, random_state=run_num_10, objective = 'reg:squarederror')\n",
        "    score = np.array(cross_val_score(reg, X=X_train10, y=y_train10).mean())\n",
        "    return operator * score\n",
        "\n",
        "exact_10 = dGPGO(surrogate_exact_10, Acquisition_new(util_exact), f_syn_polarity10, param, n_jobs = -1) # Define BayesOpt\n",
        "exact_10.run(max_iter = max_iter, init_evals = n_init) # run\n",
        "\n",
        "### Return optimal parameters' set:\n",
        "params_exact_10 = exact_10.getResult()[0]\n",
        "params_exact_10['max_depth'] = int(params_exact_10['max_depth'])\n",
        "params_exact_10['min_child_weight'] = int(params_exact_10['min_child_weight'])\n",
        "\n",
        "### Re-train with optimal parameters, run predictons:\n",
        "dX_exact_train10 = xgb.DMatrix(X_train10, y_train10)\n",
        "dX_exact_test10 = xgb.DMatrix(X_test10, y_test10)\n",
        "model_exact_10 = xgb.train(params_exact_10, dX_exact_train10)\n",
        "pred_exact_10 = model_exact_10.predict(dX_exact_test10)\n",
        "\n",
        "rmse_exact_10 = np.sqrt(mean_squared_error(pred_exact_10, y_test10))\n",
        "rmse_exact_10"
      ],
      "execution_count": 63,
      "outputs": [
        {
          "output_type": "stream",
          "name": "stdout",
          "text": [
            "Evaluation \t Proposed point \t  Current eval. \t  Best eval. \t         Max AcqFunc.\n",
            "init\t [ 7.71320643  0.20751949  5.          0.72150747 17.          0.12265456]\t -0.7090674967614334\t -0.4737745634473992\t    \n",
            "init\t [ 7.0920801   2.65566127 13.          0.57518893 17.          0.83494165]\t -0.4737745634473992\t -0.4737745634473992\t    \n",
            "init\t [ 3.36071584  8.90816531  6.          0.86087766 15.          0.75469196]\t -0.4755277191484213\t -0.4737745634473992\t    \n",
            "init\t [ 5.40880931  1.31458152  8.          0.57108502 14.          0.62551123]\t -0.48811859212530173\t -0.4737745634473992\t    \n",
            "init\t [1.82631436 8.26082248 6.         0.80888349 5.         0.15900694]\t -0.7057210222477256\t -0.4737745634473992\t    \n",
            "\u001b[1m\u001b[92m1\u001b[0m\t \u001b[1m\u001b[92m[8.31989768 3.09778055 7.         0.64798085 3.         0.98471878]\u001b[0m\t \u001b[1m\u001b[92m-0.46336171949490257\u001b[0m\t \u001b[1m\u001b[92m-0.46336171949490257\u001b[0m\t \u001b[1m\u001b[92m-0.5418253805717403\u001b[0m\n",
            "2  \t [ 3.05837423  0.98670899 11.          0.63714741 18.          0.46809298]\t -0.5661654396843121\t -0.46336171949490257\t    \n",
            "3  \t [ 2.20772511  4.37663949 11.          0.65455258  3.          0.57545511]\t -0.47392585264437637\t -0.46336171949490257\t    \n",
            "4  \t [ 2.98946783  8.70916918 12.          0.89809007  8.          0.53350402]\t -0.5586941817481679\t -0.46336171949490257\t    \n",
            "\u001b[1m\u001b[92m5\u001b[0m\t \u001b[1m\u001b[92m[ 3.75041373  9.81989522 14.          0.71370546 14.          0.97207881]\u001b[0m\t \u001b[1m\u001b[92m-0.4452927087494185\u001b[0m\t \u001b[1m\u001b[92m-0.4452927087494185\u001b[0m\t \u001b[1m\u001b[92m-0.5257739202481091\u001b[0m\n",
            "6  \t [ 9.87023759  9.91612936 10.          0.86988555  3.          0.30540809]\t -0.6095766003956484\t -0.4452927087494185\t    \n",
            "\u001b[1m\u001b[92m7\u001b[0m\t \u001b[1m\u001b[92m[10. 10. 15.  1. 20.  1.]\u001b[0m\t \u001b[1m\u001b[92m-0.4402446003458868\u001b[0m\t \u001b[1m\u001b[92m-0.4402446003458868\u001b[0m\t \u001b[1m\u001b[92m-0.5103884444189996\u001b[0m\n",
            "\u001b[1m\u001b[92m8\u001b[0m\t \u001b[1m\u001b[92m[10.          5.75700471 11.70898438  1.          9.70898438  1.        ]\u001b[0m\t \u001b[1m\u001b[92m-0.435797091309039\u001b[0m\t \u001b[1m\u001b[92m-0.435797091309039\u001b[0m\t \u001b[1m\u001b[92m-0.5040048678382042\u001b[0m\n",
            "9  \t [7.7714375  7.70616843 8.         0.82339468 6.         0.96195202]\t -0.4470091089919756\t -0.435797091309039\t    \n",
            "10 \t [0.        0.        5.        0.5       4.1582261 0.1      ]\t -0.7118060693177979\t -0.435797091309039\t    \n",
            "11 \t [5.00762913 1.53619492 9.         0.56892944 8.         0.96567366]\t -0.46105702925642705\t -0.435797091309039\t    \n",
            "12 \t [ 1.08182255  4.35634714  7.          0.55653816 11.          0.72358233]\t -0.4868272358334879\t -0.435797091309039\t    \n",
            "13 \t [ 1.32528066  5.17118506  5.          0.79204954 19.          0.27904411]\t -0.7078125731141747\t -0.435797091309039\t    \n",
            "14 \t [ 9.63766998  0.33667719 14.          0.56957963  7.          0.90222914]\t -0.463452425520129\t -0.435797091309039\t    \n",
            "15 \t [ 9.72703693  6.521415    7.          0.50173837 17.          0.28475777]\t -0.712139282553683\t -0.435797091309039\t    \n",
            "16 \t [10.         10.         15.          1.         13.18547806  1.        ]\t -0.4366598332008085\t -0.435797091309039\t    \n",
            "17 \t [10.         10.         10.21979386  1.         18.21979386  1.        ]\t -0.44427950047541104\t -0.435797091309039\t    \n",
            "18 \t [ 0.19295602  0.79378594 12.          0.59003081  7.          0.10978379]\t -0.7142279480823446\t -0.435797091309039\t    \n",
            "19 \t [ 8.51921433  3.96285329 14.          0.64699888  1.          0.4521691 ]\t -0.579858069198216\t -0.435797091309039\t    \n",
            "20 \t [ 7.12926775  9.03696584  8.          0.73918055 12.          0.81903935]\t -0.4667076610951062\t -0.435797091309039\t    \n",
            "21 \t [ 4.35997797  4.35671121 13.          0.65598015 10.          0.81547509]\t -0.4541971351291451\t -0.435797091309039\t    \n",
            "22 \t [ 9.43678992  0.9880373   6.          0.64942758 10.          0.75777997]\t -0.48440674681729484\t -0.435797091309039\t    \n",
            "23 \t [7.47486689 5.51494177 6.         0.86378968 9.         0.12275602]\t -0.7049786550291903\t -0.435797091309039\t    \n",
            "24 \t [ 8.33810851  9.8990204  14.          0.61893039  5.          0.69227045]\t -0.4851208634097359\t -0.435797091309039\t    \n",
            "25 \t [ 1.05893826  4.77434048 12.          0.53555486 15.          0.16429541]\t -0.7123017513837901\t -0.435797091309039\t    \n",
            "26 \t [ 0.41334249  8.31887156 14.          0.56806567  3.          0.60385777]\t -0.47257013632190087\t -0.435797091309039\t    \n",
            "27 \t [ 8.88817583  2.71680054 14.          0.72284909 11.          0.55942536]\t -0.5665654393406995\t -0.435797091309039\t    \n",
            "28 \t [ 1.55481231  8.89847306 13.          0.92315868 19.          0.23858876]\t -0.7046801666998048\t -0.435797091309039\t    \n",
            "29 \t [ 5.2763622   0.1601918  12.76349555  0.5         1.76349555  0.1       ]\t -0.712652872886576\t -0.435797091309039\t    \n",
            "30 \t [3.54357697 3.86346702 5.         0.71857207 5.         0.34059938]\t -0.6117522192119104\t -0.435797091309039\t    \n"
          ]
        },
        {
          "output_type": "execute_result",
          "data": {
            "text/plain": [
              "4.82053217235209"
            ]
          },
          "metadata": {},
          "execution_count": 63
        }
      ]
    },
    {
      "cell_type": "code",
      "metadata": {
        "id": "51z87uHWbRGr",
        "colab": {
          "base_uri": "https://localhost:8080/"
        },
        "outputId": "f602aab6-e022-4d53-8ff0-186dc398c2b1"
      },
      "source": [
        "### Bayesian optimization runs (x20): 'exact' Acquisition Function run number = 11 \n",
        "\n",
        "np.random.seed(run_num_11)\n",
        "surrogate_exact_11 = dGaussianProcess(cov_func, optimize=opt)\n",
        "\n",
        "X_train11, X_test11, y_train11, y_test11 = train_test_split(X, y, test_size=test_perc, random_state=run_num_11)\n",
        "\n",
        "def f_syn_polarity11(alpha, gamma, max_depth, subsample, min_child_weight, colsample):\n",
        "    reg = XGBRegressor(reg_alpha=alpha, gamma=gamma, max_depth=int(max_depth), subsample=subsample, min_child_weight=min_child_weight,\n",
        "          colsample_bytree=colsample, n_estimators = n_est, random_state=run_num_11, objective = 'reg:squarederror')\n",
        "    score = np.array(cross_val_score(reg, X=X_train11, y=y_train11).mean())\n",
        "    return operator * score\n",
        "\n",
        "exact_11 = dGPGO(surrogate_exact_11, Acquisition_new(util_exact), f_syn_polarity11, param, n_jobs = -1) # Define BayesOpt\n",
        "exact_11.run(max_iter = max_iter, init_evals = n_init) # run\n",
        "\n",
        "### Return optimal parameters' set:\n",
        "params_exact_11 = exact_11.getResult()[0]\n",
        "params_exact_11['max_depth'] = int(params_exact_11['max_depth'])\n",
        "params_exact_11['min_child_weight'] = int(params_exact_11['min_child_weight'])\n",
        "\n",
        "### Re-train with optimal parameters, run predictons:\n",
        "dX_exact_train11 = xgb.DMatrix(X_train11, y_train11)\n",
        "dX_exact_test11 = xgb.DMatrix(X_test11, y_test11)\n",
        "model_exact_11 = xgb.train(params_exact_11, dX_exact_train11)\n",
        "pred_exact_11 = model_exact_11.predict(dX_exact_test11)\n",
        "\n",
        "rmse_exact_11 = np.sqrt(mean_squared_error(pred_exact_11, y_test11))\n",
        "rmse_exact_11"
      ],
      "execution_count": 64,
      "outputs": [
        {
          "output_type": "stream",
          "name": "stdout",
          "text": [
            "Evaluation \t Proposed point \t  Current eval. \t  Best eval. \t         Max AcqFunc.\n",
            "init\t [ 1.80269689  0.19475241  6.          0.59705781 13.          0.47818324]\t -0.5922349044250168\t -0.49898623219170346\t    \n",
            "init\t [ 4.85427098  0.12780815  5.          0.91309068 14.          0.86571558]\t -0.49898623219170346\t -0.49898623219170346\t    \n",
            "init\t [ 7.2996447   1.08736072 10.          0.92857712 18.          0.66910061]\t -0.5404544349803458\t -0.49898623219170346\t    \n",
            "init\t [ 0.20483613  1.16737269  7.          0.57895615 16.          0.83644782]\t -0.5108833748715963\t -0.49898623219170346\t    \n",
            "init\t [ 3.44624491  3.18798797 14.          0.54197657 15.          0.63958906]\t -0.5545314939891337\t -0.49898623219170346\t    \n",
            "1  \t [9.77136617 6.6548802  7.         0.51036649 9.         0.81011527]\t -0.5252491147925742\t -0.49898623219170346\t    \n",
            "2  \t [ 3.00661074  5.9321586  13.          0.93375268  7.          0.32533139]\t -0.5712265807436425\t -0.49898623219170346\t    \n",
            "3  \t [2.53182769 2.77763325 5.         0.81775019 4.         0.78517269]\t -0.5135988946671203\t -0.49898623219170346\t    \n",
            "\u001b[1m\u001b[92m4\u001b[0m\t \u001b[1m\u001b[92m[ 6.20920302  9.29947799 10.4530793   1.         18.4530793   1.        ]\u001b[0m\t \u001b[1m\u001b[92m-0.4676473150798034\u001b[0m\t \u001b[1m\u001b[92m-0.4676473150798034\u001b[0m\t \u001b[1m\u001b[92m-0.5505995036561936\u001b[0m\n",
            "5  \t [9.9143176  0.50278601 9.         0.86402445 4.         0.38507827]\t -0.5795843941300605\t -0.4676473150798034\t    \n",
            "6  \t [ 5.26982121  7.96151868 10.          0.88931593  1.          0.52213994]\t -0.5768112710240745\t -0.4676473150798034\t    \n",
            "7  \t [ 9.85340926  5.68897132 13.          0.75863524 14.          0.70471375]\t -0.551240737383566\t -0.4676473150798034\t    \n",
            "8  \t [0.50746251 9.37264814 7.         0.59739834 4.         0.27068294]\t -0.6909446343575733\t -0.4676473150798034\t    \n",
            "\u001b[1m\u001b[92m9\u001b[0m\t \u001b[1m\u001b[92m[ 9.00411852 10.         12.66151961  1.          4.66151961  1.        ]\u001b[0m\t \u001b[1m\u001b[92m-0.4523874157968294\u001b[0m\t \u001b[1m\u001b[92m-0.4523874157968294\u001b[0m\t \u001b[1m\u001b[92m-0.5292658737523944\u001b[0m\n",
            "10 \t [ 4.02257351  7.16779271  6.          0.51893024 10.          0.90742061]\t -0.508254213834453\t -0.4523874157968294\t    \n",
            "11 \t [ 0.11403055  8.4704762   5.          0.64787128 18.          0.27113862]\t -0.6899450978623416\t -0.4523874157968294\t    \n",
            "12 \t [10. 10. 15.  1. 20.  1.]\t -0.46484507781741263\t -0.4523874157968294\t    \n",
            "13 \t [ 8.11052577  5.31880725  7.          0.92085056 16.          0.45123706]\t -0.5847269945886554\t -0.4523874157968294\t    \n",
            "14 \t [ 0.07122179  2.9458437  13.          0.89742149  2.          0.63052749]\t -0.5410620207474441\t -0.4523874157968294\t    \n",
            "15 \t [ 1.05908737  9.63547549 12.          0.93400001 14.          0.43734278]\t -0.5699546542376611\t -0.4523874157968294\t    \n",
            "16 \t [ 6.78220785  1.51812257 14.          0.94648172  1.          0.62664863]\t -0.5470453824936824\t -0.4523874157968294\t    \n",
            "17 \t [6.62751471 1.69081563 8.         0.66694589 9.         0.69092232]\t -0.5525505184713597\t -0.4523874157968294\t    \n",
            "18 \t [4.8061792  8.89898429 9.         0.78746867 6.         0.23513634]\t -0.6884507344902147\t -0.4523874157968294\t    \n",
            "19 \t [ 8.80621297  1.41648139 14.          0.58742169  8.          0.82618778]\t -0.5033855071125977\t -0.4523874157968294\t    \n",
            "20 \t [ 2.99985575  0.07922473 12.          0.55138581 11.          0.27688714]\t -0.6941529702220262\t -0.4523874157968294\t    \n",
            "21 \t [ 3.32966927  6.72206515 14.          0.83912863 18.          0.84659432]\t -0.4811676901722933\t -0.4523874157968294\t    \n",
            "22 \t [ 4.96960355  7.59718811  6.          0.88035711 19.          0.51309083]\t -0.5930328847516246\t -0.4523874157968294\t    \n",
            "23 \t [0.  0.  5.  0.5 1.  0.1]\t -0.6979829745079476\t -0.4523874157968294\t    \n",
            "24 \t [9.06829377 8.93961606 6.         0.58229519 2.         0.64167434]\t -0.5639693784977007\t -0.4523874157968294\t    \n",
            "25 \t [ 0.32129953  4.44735084 10.23412327  0.5        12.23412327  0.1       ]\t -0.6985319943892039\t -0.4523874157968294\t    \n",
            "26 \t [0.         0.         9.88480843 0.5        4.88480843 0.1       ]\t -0.7023306340565163\t -0.4523874157968294\t    \n",
            "27 \t [7.27407959 0.         5.43662899 0.5        1.43662899 0.1       ]\t -0.7002886179096958\t -0.4523874157968294\t    \n",
            "28 \t [ 8.86044059  4.53247814 10.          0.82888809  2.          0.37582553]\t -0.5742759748190222\t -0.4523874157968294\t    \n",
            "29 \t [ 0.96490659  5.74078363 10.          0.62012821 19.          0.43618034]\t -0.5836338454932315\t -0.4523874157968294\t    \n",
            "30 \t [ 9.92075935 10.         12.85171957  1.          9.85171957  1.        ]\t -0.45853182390995384\t -0.4523874157968294\t    \n"
          ]
        },
        {
          "output_type": "execute_result",
          "data": {
            "text/plain": [
              "4.657240947661646"
            ]
          },
          "metadata": {},
          "execution_count": 64
        }
      ]
    },
    {
      "cell_type": "code",
      "metadata": {
        "id": "j8jZUeoWbTvn",
        "colab": {
          "base_uri": "https://localhost:8080/"
        },
        "outputId": "d81bf025-711d-4321-c382-fe6327bfc89f"
      },
      "source": [
        "### Bayesian optimization runs (x20): 'exact' Acquisition Function run number = 12\n",
        "\n",
        "np.random.seed(run_num_12)\n",
        "surrogate_exact_12 = dGaussianProcess(cov_func, optimize=opt)\n",
        "\n",
        "X_train12, X_test12, y_train12, y_test12 = train_test_split(X, y, test_size=test_perc, random_state=run_num_12)\n",
        "\n",
        "def f_syn_polarity12(alpha, gamma, max_depth, subsample, min_child_weight, colsample):\n",
        "    reg = XGBRegressor(reg_alpha=alpha, gamma=gamma, max_depth=int(max_depth), subsample=subsample, min_child_weight=min_child_weight,\n",
        "          colsample_bytree=colsample, n_estimators = n_est, random_state=run_num_12, objective = 'reg:squarederror')\n",
        "    score = np.array(cross_val_score(reg, X=X_train12, y=y_train12).mean())\n",
        "    return operator * score\n",
        "\n",
        "exact_12 = dGPGO(surrogate_exact_12, Acquisition_new(util_exact), f_syn_polarity12, param, n_jobs = -1) # Define BayesOpt\n",
        "exact_12.run(max_iter = max_iter, init_evals = n_init) # run\n",
        "\n",
        "### Return optimal parameters' set:\n",
        "params_exact_12 = exact_12.getResult()[0]\n",
        "params_exact_12['max_depth'] = int(params_exact_12['max_depth'])\n",
        "params_exact_12['min_child_weight'] = int(params_exact_12['min_child_weight'])\n",
        "\n",
        "### Re-train with optimal parameters, run predictons:\n",
        "dX_exact_train12 = xgb.DMatrix(X_train12, y_train12)\n",
        "dX_exact_test12 = xgb.DMatrix(X_test12, y_test12)\n",
        "model_exact_12 = xgb.train(params_exact_12, dX_exact_train12)\n",
        "pred_exact_12 = model_exact_12.predict(dX_exact_test12)\n",
        "\n",
        "rmse_exact_12 = np.sqrt(mean_squared_error(pred_exact_12, y_test12))\n",
        "rmse_exact_12"
      ],
      "execution_count": 65,
      "outputs": [
        {
          "output_type": "stream",
          "name": "stdout",
          "text": [
            "Evaluation \t Proposed point \t  Current eval. \t  Best eval. \t         Max AcqFunc.\n",
            "init\t [1.54162842 7.40049697 6.         0.54321714 4.         0.11311747]\t -0.6840535846029854\t -0.5032799564384677\t    \n",
            "init\t [ 9.18747008  9.00714854 14.          0.97847467 11.          0.35544552]\t -0.6305456734924068\t -0.5032799564384677\t    \n",
            "init\t [ 6.06083184  9.44225136 14.          0.95626942  5.          0.56910342]\t -0.6144010633484512\t -0.5032799564384677\t    \n",
            "init\t [ 5.52037633  4.85377414  7.          0.97886436 17.          0.78810441]\t -0.5032799564384677\t -0.5032799564384677\t    \n",
            "init\t [ 0.20809798  1.35210178  5.          0.65494879 16.          0.36062811]\t -0.6516977337723864\t -0.5032799564384677\t    \n",
            "1  \t [9.46555822 8.57190559 5.         0.50164398 5.         0.71992807]\t -0.5227768283895782\t -0.5032799564384677\t    \n",
            "2  \t [ 7.57473716  9.63637997 12.          0.83444517 10.          0.18761713]\t -0.6734912089891107\t -0.5032799564384677\t    \n",
            "\u001b[1m\u001b[92m3\u001b[0m\t \u001b[1m\u001b[92m[ 9.04517621  0.80881017 13.          0.96890904  5.          0.75400021]\u001b[0m\t \u001b[1m\u001b[92m-0.4806753007187634\u001b[0m\t \u001b[1m\u001b[92m-0.4806753007187634\u001b[0m\t \u001b[1m\u001b[92m-0.5743626624944181\u001b[0m\n",
            "\u001b[1m\u001b[92m4\u001b[0m\t \u001b[1m\u001b[92m[ 2.73241117  0.55778587 14.          0.70282167 15.          0.8966204 ]\u001b[0m\t \u001b[1m\u001b[92m-0.4777748953827142\u001b[0m\t \u001b[1m\u001b[92m-0.4777748953827142\u001b[0m\t \u001b[1m\u001b[92m-0.5521742051041698\u001b[0m\n",
            "5  \t [ 6.66970674  0.03985694  6.          0.76922453 11.          0.18327615]\t -0.6744989447281609\t -0.4777748953827142\t    \n",
            "6  \t [ 1.23389285  0.85357459 13.          0.93854198  3.          0.52598214]\t -0.6188016111425869\t -0.4777748953827142\t    \n",
            "7  \t [ 0.57203639  5.0857779   9.          0.68290949 10.          0.94408458]\t -0.4796925982784261\t -0.4777748953827142\t    \n",
            "8  \t [0.         0.72245239 5.         0.5        1.         0.1       ]\t -0.6836372225983716\t -0.4777748953827142\t    \n",
            "9  \t [9.77568711 0.70796585 6.         0.73327465 3.         0.82051057]\t -0.5048487748496318\t -0.4777748953827142\t    \n",
            "10 \t [ 9.20470536  7.96480391  5.          0.84400217 12.          0.74025549]\t -0.5139346401947209\t -0.4777748953827142\t    \n",
            "\u001b[1m\u001b[92m11\u001b[0m\t \u001b[1m\u001b[92m[10. 10. 15.  1. 20.  1.]\u001b[0m\t \u001b[1m\u001b[92m-0.46456194090516634\u001b[0m\t \u001b[1m\u001b[92m-0.46456194090516634\u001b[0m\t \u001b[1m\u001b[92m-0.5462642002847674\u001b[0m\n",
            "12 \t [ 1.1215575   6.61045389 13.          0.73682382 17.          0.82385484]\t -0.49353840013950256\t -0.46456194090516634\t    \n",
            "13 \t [ 7.99029094  5.05618261 13.50091268  0.98072316 18.50091268  0.90072841]\t -0.47601113059102074\t -0.46456194090516634\t    \n",
            "14 \t [ 0.609825    8.87388875 14.          0.9069446   2.          0.82580346]\t -0.47762228125207995\t -0.46456194090516634\t    \n",
            "15 \t [ 1.10490837  9.58829464  6.          0.57860445 19.          0.21544386]\t -0.6803041052338227\t -0.46456194090516634\t    \n",
            "16 \t [ 9.91089284  0.69508059 10.          0.66205579 17.          0.21826652]\t -0.6764293037998119\t -0.46456194090516634\t    \n",
            "17 \t [ 0.          0.         11.23257191  0.5        10.23257191  0.1       ]\t -0.6833429405361363\t -0.46456194090516634\t    \n",
            "18 \t [ 1.40667435  9.60801033 13.          0.60326903 11.          0.82424216]\t -0.49226466238259936\t -0.46456194090516634\t    \n",
            "19 \t [4.91421669 4.36804321 9.         0.94450832 6.         0.31554207]\t -0.6315765617885719\t -0.46456194090516634\t    \n",
            "20 \t [ 9.92540237  8.39911553  5.          0.57889981 18.          0.71150738]\t -0.5641934100536196\t -0.46456194090516634\t    \n",
            "\u001b[1m\u001b[92m21\u001b[0m\t \u001b[1m\u001b[92m[ 6.18708947  4.57732639 14.59884293  1.          8.59884293  1.        ]\u001b[0m\t \u001b[1m\u001b[92m-0.4524408307276895\u001b[0m\t \u001b[1m\u001b[92m-0.4524408307276895\u001b[0m\t \u001b[1m\u001b[92m-0.5341388507985538\u001b[0m\n",
            "22 \t [5.98952967 5.46441632 5.         0.5        1.         0.1       ]\t -0.6841759594243593\t -0.4524408307276895\t    \n",
            "23 \t [ 9.56428311  5.60745615 11.40250115  1.          5.40250115  1.        ]\t -0.4614254717537539\t -0.4524408307276895\t    \n",
            "24 \t [0.         0.05535227 5.         0.5        7.78229761 0.1       ]\t -0.6823024989755353\t -0.4524408307276895\t    \n",
            "25 \t [ 5.55056719  9.25771276 14.53993782  1.         15.53993782  1.        ]\t -0.45798658642879\t -0.4524408307276895\t    \n",
            "26 \t [ 5.24462228  0.17690887 10.          0.5616325   9.          0.71732742]\t -0.5029609828267528\t -0.4524408307276895\t    \n",
            "27 \t [2.51907055 9.99746168 7.23111538 1.         8.23111538 1.        ]\t -0.4624514635920475\t -0.4524408307276895\t    \n",
            "28 \t [ 5.40490127 10.          8.75320119  1.         19.75320119  1.        ]\t -0.47426931342904394\t -0.4524408307276895\t    \n",
            "29 \t [ 1.89754186  9.17101444  5.          0.60232858 15.          0.66852878]\t -0.5619374272406494\t -0.4524408307276895\t    \n",
            "30 \t [ 4.3323518   6.22442259 11.70732135  0.5         1.70732135  0.1       ]\t -0.6855001639182978\t -0.4524408307276895\t    \n"
          ]
        },
        {
          "output_type": "execute_result",
          "data": {
            "text/plain": [
              "4.575826845104457"
            ]
          },
          "metadata": {},
          "execution_count": 65
        }
      ]
    },
    {
      "cell_type": "code",
      "metadata": {
        "id": "snTrqE2RbWbe",
        "colab": {
          "base_uri": "https://localhost:8080/"
        },
        "outputId": "aa806dc2-cb4b-4c49-8b1e-e99005f2fbd7"
      },
      "source": [
        "### Bayesian optimization runs (x20): 'exact' Acquisition Function run number = 13 \n",
        "\n",
        "np.random.seed(run_num_13)\n",
        "surrogate_exact_13 = dGaussianProcess(cov_func, optimize=opt)\n",
        "\n",
        "X_train13, X_test13, y_train13, y_test13 = train_test_split(X, y, test_size=test_perc, random_state=run_num_13)\n",
        "\n",
        "def f_syn_polarity13(alpha, gamma, max_depth, subsample, min_child_weight, colsample):\n",
        "    reg = XGBRegressor(reg_alpha=alpha, gamma=gamma, max_depth=int(max_depth), subsample=subsample, min_child_weight=min_child_weight,\n",
        "          colsample_bytree=colsample, n_estimators = n_est, random_state=run_num_13, objective = 'reg:squarederror')\n",
        "    score = np.array(cross_val_score(reg, X=X_train13, y=y_train13).mean())\n",
        "    return operator * score\n",
        "\n",
        "exact_13 = dGPGO(surrogate_exact_13, Acquisition_new(util_exact), f_syn_polarity13, param, n_jobs = -1) # Define BayesOpt\n",
        "exact_13.run(max_iter = max_iter, init_evals = n_init) # run\n",
        "\n",
        "### Return optimal parameters' set:\n",
        "params_exact_13 = exact_13.getResult()[0]\n",
        "params_exact_13['max_depth'] = int(params_exact_13['max_depth'])\n",
        "params_exact_13['min_child_weight'] = int(params_exact_13['min_child_weight'])\n",
        "\n",
        "### Re-train with optimal parameters, run predictons:\n",
        "dX_exact_train13 = xgb.DMatrix(X_train13, y_train13)\n",
        "dX_exact_test13 = xgb.DMatrix(X_test13, y_test13)\n",
        "model_exact_13 = xgb.train(params_exact_13, dX_exact_train13)\n",
        "pred_exact_13 = model_exact_13.predict(dX_exact_test13)\n",
        "\n",
        "rmse_exact_13 = np.sqrt(mean_squared_error(pred_exact_13, y_test13))\n",
        "rmse_exact_13"
      ],
      "execution_count": 66,
      "outputs": [
        {
          "output_type": "stream",
          "name": "stdout",
          "text": [
            "Evaluation \t Proposed point \t  Current eval. \t  Best eval. \t         Max AcqFunc.\n",
            "init\t [ 7.77702411  2.3754122  11.          0.94649135 13.          0.7827256 ]\t -0.5099204187421568\t -0.5099204187421568\t    \n",
            "init\t [ 7.51661514  6.07343344 11.          0.69402149 11.          0.13153287]\t -0.7086153631136594\t -0.5099204187421568\t    \n",
            "init\t [ 2.98449471  0.58512492 10.          0.73579614 12.          0.33065195]\t -0.6372461781857162\t -0.5099204187421568\t    \n",
            "init\t [ 3.47581215  0.0941277  11.          0.86143432  8.          0.58454932]\t -0.5702017504451442\t -0.5099204187421568\t    \n",
            "init\t [ 4.70137857  6.24432527 10.          0.8149145  18.          0.10784416]\t -0.7101125715665313\t -0.5099204187421568\t    \n",
            "1  \t [1.1119361  5.43221306 6.         0.56899303 8.         0.32100319]\t -0.6493427493033831\t -0.5099204187421568\t    \n",
            "2  \t [ 6.78607938  6.56608561 12.          0.84765686  1.          0.65153116]\t -0.587676594976195\t -0.5099204187421568\t    \n",
            "3  \t [ 9.24780874  8.51103418  5.          0.85105015 14.          0.11807471]\t -0.7114804394826701\t -0.5099204187421568\t    \n",
            "4  \t [ 9.69332517  0.05133704 14.          0.6050422   3.          0.79031428]\t -0.5162956828123637\t -0.5099204187421568\t    \n",
            "5  \t [0.54332874 9.16801531 5.         0.98374535 2.         0.17662624]\t -0.7151583517662211\t -0.5099204187421568\t    \n",
            "\u001b[1m\u001b[92m6\u001b[0m\t \u001b[1m\u001b[92m[10.         10.         15.          1.          6.05919887  1.        ]\u001b[0m\t \u001b[1m\u001b[92m-0.4410362828317778\u001b[0m\t \u001b[1m\u001b[92m-0.4410362828317778\u001b[0m\t \u001b[1m\u001b[92m-0.5862228790498862\u001b[0m\n",
            "7  \t [2.42114726 2.21731466 7.         0.52977639 2.         0.33969965]\t -0.6396660621664843\t -0.4410362828317778\t    \n",
            "8  \t [ 1.89221513  8.5037767  14.          0.86717015  6.          0.11990372]\t -0.7161815730157779\t -0.4410362828317778\t    \n",
            "9  \t [9.52796793 0.5269077  7.         0.61130342 2.         0.41024487]\t -0.646488116516862\t -0.4410362828317778\t    \n",
            "10 \t [ 2.11660923  9.67901626 11.          0.60440257 12.          0.38859286]\t -0.6400524704876306\t -0.4410362828317778\t    \n",
            "11 \t [ 4.33230901  0.85672678  6.          0.63795453 19.          0.64597264]\t -0.5916305851001364\t -0.4410362828317778\t    \n",
            "12 \t [ 7.42000681  1.27539351  5.          0.54650948 11.          0.38725518]\t -0.6590542581211495\t -0.4410362828317778\t    \n",
            "13 \t [ 0.          0.          5.          0.5        10.57247077  0.1       ]\t -0.7093574027734567\t -0.4410362828317778\t    \n",
            "14 \t [ 0.56153062  1.99964994 12.          0.65527832 19.          0.67862516]\t -0.5700144382222918\t -0.4410362828317778\t    \n",
            "15 \t [10. 10. 15.  1. 20.  1.]\t -0.45558806421888853\t -0.4410362828317778\t    \n",
            "16 \t [6.71071456 9.12714369 6.         0.73542247 8.         0.83203993]\t -0.5310008171943694\t -0.4410362828317778\t    \n",
            "17 \t [7.55403251 6.23917493 5.         0.63649547 1.         0.75229567]\t -0.5374292281718862\t -0.4410362828317778\t    \n",
            "18 \t [ 0.94229296  2.02450761 13.          0.65000924  1.          0.22250131]\t -0.7194219871093057\t -0.4410362828317778\t    \n",
            "19 \t [ 0.786033    9.84105109  9.          0.91945518 19.          0.21791409]\t -0.7115214115592219\t -0.4410362828317778\t    \n",
            "20 \t [ 9.58084219  5.11523797 14.          0.72421628 17.          0.10103214]\t -0.7094278261163398\t -0.4410362828317778\t    \n",
            "21 \t [ 0.2399727   4.76338254  6.89092259  0.5        15.89092259  0.1       ]\t -0.7112537265736274\t -0.4410362828317778\t    \n",
            "22 \t [ 8.10880601  6.77274768 11.          0.72429593  6.          0.26807124]\t -0.7089803616245585\t -0.4410362828317778\t    \n",
            "23 \t [3.55859061 5.61875163 8.         0.5882063  1.         0.57036163]\t -0.6205467802472389\t -0.4410362828317778\t    \n",
            "24 \t [ 5.54617933  1.56123407 12.          0.78374404  3.          0.15837523]\t -0.7116408134257192\t -0.4410362828317778\t    \n",
            "25 \t [4.64285687 0.         5.         0.5        5.66985417 0.1       ]\t -0.710694259237032\t -0.4410362828317778\t    \n",
            "26 \t [ 0.16863022  2.67389719  9.          0.62610438 15.          0.96408501]\t -0.4857795506507053\t -0.4410362828317778\t    \n",
            "27 \t [ 8.09528142  1.39150052 12.          0.83538636  7.          0.34189645]\t -0.6421072042908605\t -0.4410362828317778\t    \n",
            "28 \t [ 0.62304831  6.71693434 14.          0.99931941 16.          0.73071332]\t -0.503882708407135\t -0.4410362828317778\t    \n",
            "29 \t [ 8.39231109  0.32510731 14.          0.5902879  19.          0.62232309]\t -0.5792470898100704\t -0.4410362828317778\t    \n",
            "30 \t [ 6.95671122  9.27795909 14.81597888  1.         11.81597888  1.        ]\t -0.4465539786535532\t -0.4410362828317778\t    \n"
          ]
        },
        {
          "output_type": "execute_result",
          "data": {
            "text/plain": [
              "4.531646397942748"
            ]
          },
          "metadata": {},
          "execution_count": 66
        }
      ]
    },
    {
      "cell_type": "code",
      "metadata": {
        "colab": {
          "base_uri": "https://localhost:8080/"
        },
        "id": "nAuEsXYbtOnC",
        "outputId": "697cd880-e186-429b-fec5-23dde66791b7"
      },
      "source": [
        "### Bayesian optimization runs (x20): 'exact' Acquisition Function run number = 14 \n",
        "\n",
        "np.random.seed(run_num_14)\n",
        "surrogate_exact_14 = dGaussianProcess(cov_func, optimize=opt)\n",
        "\n",
        "X_train14, X_test14, y_train14, y_test14 = train_test_split(X, y, test_size=test_perc, random_state=run_num_14)\n",
        "\n",
        "def f_syn_polarity14(alpha, gamma, max_depth, subsample, min_child_weight, colsample):\n",
        "    reg = XGBRegressor(reg_alpha=alpha, gamma=gamma, max_depth=int(max_depth), subsample=subsample, min_child_weight=min_child_weight,\n",
        "          colsample_bytree=colsample, n_estimators = n_est, random_state=run_num_14, objective = 'reg:squarederror')\n",
        "    score = np.array(cross_val_score(reg, X=X_train14, y=y_train14).mean())\n",
        "    return operator * score\n",
        "\n",
        "exact_14 = dGPGO(surrogate_exact_14, Acquisition_new(util_exact), f_syn_polarity14, param, n_jobs = -1) # Define BayesOpt\n",
        "exact_14.run(max_iter = max_iter, init_evals = n_init) # run\n",
        "\n",
        "### Return optimal parameters' set:\n",
        "params_exact_14 = exact_14.getResult()[0]\n",
        "params_exact_14['max_depth'] = int(params_exact_14['max_depth'])\n",
        "params_exact_14['min_child_weight'] = int(params_exact_14['min_child_weight'])\n",
        "\n",
        "### Re-train with optimal parameters, run predictons:\n",
        "dX_exact_train14 = xgb.DMatrix(X_train14, y_train14)\n",
        "dX_exact_test14 = xgb.DMatrix(X_test14, y_test14)\n",
        "model_exact_14 = xgb.train(params_exact_14, dX_exact_train14)\n",
        "pred_exact_14 = model_exact_14.predict(dX_exact_test14)\n",
        "\n",
        "rmse_exact_14 = np.sqrt(mean_squared_error(pred_exact_14, y_test14))\n",
        "rmse_exact_14"
      ],
      "execution_count": 67,
      "outputs": [
        {
          "output_type": "stream",
          "name": "stdout",
          "text": [
            "Evaluation \t Proposed point \t  Current eval. \t  Best eval. \t         Max AcqFunc.\n",
            "init\t [ 5.13943344  7.73165052 12.          0.6831412  11.          0.37876233]\t -0.558794499921046\t -0.4448140077853999\t    \n",
            "init\t [ 9.57603739  5.13116712 14.          0.76959997 12.          0.71328228]\t -0.49979629433789113\t -0.4448140077853999\t    \n",
            "init\t [5.34950319 2.47493539 5.         0.50293689 6.         0.29706373]\t -0.5741697988899073\t -0.4448140077853999\t    \n",
            "init\t [ 2.94506579  3.45329697  8.          0.87620946 14.          0.9783044 ]\t -0.4448140077853999\t -0.4448140077853999\t    \n",
            "init\t [ 1.11811929  1.73004086  5.          0.73745288 12.          0.20586008]\t -0.6214151152359092\t -0.4448140077853999\t    \n",
            "1  \t [ 6.50637223  2.67617722 14.          0.53562507  1.          0.16862152]\t -0.6294794339238933\t -0.4448140077853999\t    \n",
            "2  \t [ 9.16780803  5.31613214 10.          0.57182868  6.          0.98158575]\t -0.45924355274685935\t -0.4448140077853999\t    \n",
            "3  \t [0.07739536 3.94062842 5.         0.7395899  3.         0.9764837 ]\t -0.45935750652191915\t -0.4448140077853999\t    \n",
            "4  \t [6.9195004  0.54496332 8.         0.81208598 3.         0.15286338]\t -0.6240299412135976\t -0.4448140077853999\t    \n",
            "5  \t [ 9.22243919  0.59642165  6.          0.72537748 19.          0.46639325]\t -0.5107114792685572\t -0.4448140077853999\t    \n",
            "\u001b[1m\u001b[92m6\u001b[0m\t \u001b[1m\u001b[92m[10. 10. 15.  1. 20.  1.]\u001b[0m\t \u001b[1m\u001b[92m-0.4356616035409925\u001b[0m\t \u001b[1m\u001b[92m-0.4356616035409925\u001b[0m\t \u001b[1m\u001b[92m-0.5077945895754943\u001b[0m\n",
            "7  \t [ 0.57003128  6.21663363 13.          0.81050271  5.          0.20904924]\t -0.6283174817175587\t -0.4356616035409925\t    \n",
            "8  \t [ 0.63353879  9.61017877  8.          0.96421247 18.          0.39200727]\t -0.5519186326582054\t -0.4356616035409925\t    \n",
            "9  \t [4.65287871 8.04280007 7.         0.50276428 4.         0.47202819]\t -0.5134572764800754\t -0.4356616035409925\t    \n",
            "10 \t [ 1.6361515   9.65601963  6.          0.78645605 10.          0.24059194]\t -0.6204080143724908\t -0.4356616035409925\t    \n",
            "11 \t [ 9.30217735  6.23147787  8.          0.97503033 15.          0.52511943]\t -0.5012787962633106\t -0.4356616035409925\t    \n",
            "12 \t [ 2.3962028   7.36014903 14.          0.56524147 18.          0.26929367]\t -0.6283822606155349\t -0.4356616035409925\t    \n",
            "13 \t [ 0.91289908  0.49155493 12.          0.69437528 19.          0.25722688]\t -0.6238749652601226\t -0.4356616035409925\t    \n",
            "14 \t [ 9.50881705  0.8310658  14.          0.86317554 18.          0.16718532]\t -0.6221829794934256\t -0.4356616035409925\t    \n",
            "15 \t [ 3.12232086  1.45138414 11.          0.68922386  8.          0.99526189]\t -0.44735216135254097\t -0.4356616035409925\t    \n",
            "16 \t [ 8.51859206  9.64345214  6.          0.75395928 10.          0.93730402]\t -0.4614118880524362\t -0.4356616035409925\t    \n",
            "17 \t [ 7.83429508  8.78694401 14.          0.74976219  2.          0.13371773]\t -0.6220211339278581\t -0.4356616035409925\t    \n",
            "18 \t [9.90399506 0.23602439 8.         0.65862571 9.         0.19729016]\t -0.6265862986848186\t -0.4356616035409925\t    \n",
            "19 \t [ 3.64013283  1.0493391  14.          0.89734746 15.          0.52150501]\t -0.49087434553716297\t -0.4356616035409925\t    \n",
            "\u001b[1m\u001b[92m20\u001b[0m\t \u001b[1m\u001b[92m[ 7.3947135   5.66113919 14.66353981  1.         17.09774454  1.        ]\u001b[0m\t \u001b[1m\u001b[92m-0.4293147136514821\u001b[0m\t \u001b[1m\u001b[92m-0.4293147136514821\u001b[0m\t \u001b[1m\u001b[92m-0.5035584562702865\u001b[0m\n",
            "21 \t [ 1.52900897  2.49551652 10.          0.74070159  3.          0.79386687]\t -0.47442912742215454\t -0.4293147136514821\t    \n",
            "22 \t [9.92293334 7.62999832 9.         0.69951574 1.         0.13133752]\t -0.6255194334103733\t -0.4293147136514821\t    \n",
            "23 \t [ 7.88587564  1.27392905 13.          0.76943247  6.          0.34066608]\t -0.5571026130531568\t -0.4293147136514821\t    \n",
            "24 \t [ 6.55062625  9.63146322  5.          0.68406751 18.          0.23627226]\t -0.6249350214618472\t -0.4293147136514821\t    \n",
            "25 \t [ 9.24378761  9.92605166 11.          0.94994175 17.          0.33855315]\t -0.5588333757936634\t -0.4293147136514821\t    \n",
            "26 \t [ 0.63414853  9.33193835 10.          0.75538217  1.          0.39020199]\t -0.5554591859937525\t -0.4293147136514821\t    \n",
            "27 \t [ 6.78232155  0.          5.          0.5        14.76520319  0.1       ]\t -0.6315711668220787\t -0.4293147136514821\t    \n",
            "28 \t [ 9.70174036  9.71799099 14.          0.84593857  8.          0.66512595]\t -0.492151770581115\t -0.4293147136514821\t    \n",
            "29 \t [ 6.80918331  2.60600854 10.          0.6146055  16.          0.83665564]\t -0.48652864908903465\t -0.4293147136514821\t    \n",
            "30 \t [ 1.26617981  4.03386415  8.          0.85223134 19.          0.86958504]\t -0.4481330730823694\t -0.4293147136514821\t    \n"
          ]
        },
        {
          "output_type": "execute_result",
          "data": {
            "text/plain": [
              "4.766962588468574"
            ]
          },
          "metadata": {},
          "execution_count": 67
        }
      ]
    },
    {
      "cell_type": "code",
      "metadata": {
        "id": "KgxvE7Irbbj_",
        "colab": {
          "base_uri": "https://localhost:8080/"
        },
        "outputId": "f77c763e-a3f2-434a-f518-31ddea69049a"
      },
      "source": [
        "### Bayesian optimization runs (x20): 'exact' Acquisition Function run number = 15 \n",
        "\n",
        "np.random.seed(run_num_15)\n",
        "surrogate_exact_15 = dGaussianProcess(cov_func, optimize=opt)\n",
        "\n",
        "X_train15, X_test15, y_train15, y_test15 = train_test_split(X, y, test_size=test_perc, random_state=run_num_15)\n",
        "\n",
        "def f_syn_polarity15(alpha, gamma, max_depth, subsample, min_child_weight, colsample):\n",
        "    reg = XGBRegressor(reg_alpha=alpha, gamma=gamma, max_depth=int(max_depth), subsample=subsample, min_child_weight=min_child_weight,\n",
        "          colsample_bytree=colsample, n_estimators = n_est, random_state=run_num_15, objective = 'reg:squarederror')\n",
        "    score = np.array(cross_val_score(reg, X=X_train15, y=y_train15).mean())\n",
        "    return operator * score\n",
        "\n",
        "exact_15 = dGPGO(surrogate_exact_15, Acquisition_new(util_exact), f_syn_polarity15, param, n_jobs = -1) # Define BayesOpt\n",
        "exact_15.run(max_iter = max_iter, init_evals = n_init) # run\n",
        "\n",
        "### Return optimal parameters' set:\n",
        "params_exact_15 = exact_15.getResult()[0]\n",
        "params_exact_15['max_depth'] = int(params_exact_15['max_depth'])\n",
        "params_exact_15['min_child_weight'] = int(params_exact_15['min_child_weight'])\n",
        "\n",
        "### Re-train with optimal parameters, run predictons:\n",
        "dX_exact_train15 = xgb.DMatrix(X_train15, y_train15)\n",
        "dX_exact_test15 = xgb.DMatrix(X_test15, y_test15)\n",
        "model_exact_15 = xgb.train(params_exact_15, dX_exact_train15)\n",
        "pred_exact_15 = model_exact_15.predict(dX_exact_test15)\n",
        "\n",
        "rmse_exact_15 = np.sqrt(mean_squared_error(pred_exact_15, y_test15))\n",
        "rmse_exact_15"
      ],
      "execution_count": 68,
      "outputs": [
        {
          "output_type": "stream",
          "name": "stdout",
          "text": [
            "Evaluation \t Proposed point \t  Current eval. \t  Best eval. \t         Max AcqFunc.\n",
            "init\t [ 8.48817697  1.78895925 12.          0.55549316  8.          0.93397854]\t -0.489437914006383\t -0.489437914006383\t    \n",
            "init\t [ 0.24953032  8.22298097 12.          0.62494951 11.          0.12924598]\t -0.6992441679399787\t -0.489437914006383\t    \n",
            "init\t [ 5.02017228  5.50882771 11.          0.85295832 19.          0.13548008]\t -0.69945028775584\t -0.489437914006383\t    \n",
            "init\t [2.0023081  9.98543403 7.         0.6295772  2.         0.526127  ]\t -0.6264981748624211\t -0.489437914006383\t    \n",
            "init\t [ 5.09715306  9.45038417 11.          0.7388277  16.          0.22739973]\t -0.6964615643692806\t -0.489437914006383\t    \n",
            "1  \t [ 0.29158961  4.9949242  12.          0.89124583  3.          0.67554049]\t -0.56524595824364\t -0.489437914006383\t    \n",
            "2  \t [2.60517447 0.82584036 7.         0.6107555  4.         0.25427784]\t -0.6976766501007658\t -0.489437914006383\t    \n",
            "\u001b[1m\u001b[92m3\u001b[0m\t \u001b[1m\u001b[92m[ 7.5915683   5.13937898 12.          0.70919884  1.          0.76222697]\u001b[0m\t \u001b[1m\u001b[92m-0.47956689122430934\u001b[0m\t \u001b[1m\u001b[92m-0.47956689122430934\u001b[0m\t \u001b[1m\u001b[92m-0.5724065201313422\u001b[0m\n",
            "4  \t [ 3.00890132  3.25033589  6.          0.76721153 13.          0.286699  ]\t -0.6809404995335191\t -0.47956689122430934\t    \n",
            "5  \t [ 7.00755347  9.83963845  5.          0.51866345 10.          0.95031515]\t -0.5094411105745403\t -0.47956689122430934\t    \n",
            "6  \t [ 7.93959095  1.14458347 12.          0.83279927 13.          0.31926382]\t -0.6854377590797448\t -0.47956689122430934\t    \n",
            "7  \t [ 9.09795503  1.07150197  7.          0.98191679 19.          0.62951892]\t -0.5663631160547536\t -0.47956689122430934\t    \n",
            "8  \t [ 9.21941721  9.79827821 11.          0.81783228 11.          0.53477407]\t -0.623034571802439\t -0.47956689122430934\t    \n",
            "9  \t [8.88449541 3.44367948 6.         0.58829924 7.         0.7864797 ]\t -0.512561519837635\t -0.47956689122430934\t    \n",
            "10 \t [ 8.47779105  8.43696768  5.          0.73890705 16.          0.66738091]\t -0.58422220762908\t -0.47956689122430934\t    \n",
            "11 \t [9.8850401  9.05036452 8.         0.98423572 3.         0.82693955]\t -0.4820107859808223\t -0.47956689122430934\t    \n",
            "\u001b[1m\u001b[92m12\u001b[0m\t \u001b[1m\u001b[92m[10. 10. 15.  1. 20.  1.]\u001b[0m\t \u001b[1m\u001b[92m-0.4662835424155933\u001b[0m\t \u001b[1m\u001b[92m-0.4662835424155933\u001b[0m\t \u001b[1m\u001b[92m-0.5534387754044591\u001b[0m\n",
            "13 \t [ 0.90706815  0.79490515  7.          0.51831376 19.          0.91250419]\t -0.4948532295288583\t -0.4662835424155933\t    \n",
            "14 \t [ 0.67244942  9.08791765  7.          0.79067069 13.          0.11985169]\t -0.6982123273898948\t -0.4662835424155933\t    \n",
            "15 \t [8.22758548 0.07463989 9.         0.77602214 2.         0.75923734]\t -0.48725487303717935\t -0.4662835424155933\t    \n",
            "16 \t [1.58135563 6.14676537 7.         0.58599454 7.         0.37032959]\t -0.6867157938868453\t -0.4662835424155933\t    \n",
            "17 \t [ 1.99733414  0.13877735 14.          0.5792705  10.          0.44528521]\t -0.6239856397436225\t -0.4662835424155933\t    \n",
            "18 \t [ 4.29171811  0.04074186 13.          0.58769183 18.          0.36351335]\t -0.6902593687071398\t -0.4662835424155933\t    \n",
            "19 \t [ 4.15043625  5.08819347 11.          0.50457103  9.          0.36451755]\t -0.6879972342404697\t -0.4662835424155933\t    \n",
            "20 \t [ 6.26289557  9.29064244 14.          0.75267974  4.          0.19589403]\t -0.696704037764839\t -0.4662835424155933\t    \n",
            "21 \t [ 9.93214841  0.81045655 13.          0.86132344 18.          0.14497388]\t -0.6989757966379845\t -0.4662835424155933\t    \n",
            "22 \t [ 9.31305405  2.68340802  7.          0.59348541 12.          0.97471219]\t -0.4968862489406364\t -0.4662835424155933\t    \n",
            "23 \t [ 5.3880688   2.65297896 14.          0.90613057  4.          0.23404421]\t -0.6977205294928697\t -0.4662835424155933\t    \n",
            "24 \t [ 9.74410476  5.73066843 10.86212703  1.         19.86212703  1.        ]\t -0.4726150927615576\t -0.4662835424155933\t    \n",
            "25 \t [ 1.15245659  3.17899328 12.          0.61976717 15.          0.48690359]\t -0.6249696825518191\t -0.4662835424155933\t    \n",
            "26 \t [5.40926155 6.11332903 5.         0.73993604 2.         0.74799534]\t -0.508211773460762\t -0.4662835424155933\t    \n",
            "27 \t [ 5.05579023  0.09405836  8.          0.93704589 10.          0.9570134 ]\t -0.4745561015346341\t -0.4662835424155933\t    \n",
            "28 \t [0.        6.4249263 5.        0.5       1.        0.1      ]\t -0.6979538001242795\t -0.4662835424155933\t    \n",
            "29 \t [0.3364975  0.38853278 9.         0.71890632 9.         0.71653496]\t -0.48690247352699334\t -0.4662835424155933\t    \n",
            "30 \t [ 6.87362975  3.89056416  6.          0.95021775 16.          0.11592389]\t -0.6973230803126352\t -0.4662835424155933\t    \n"
          ]
        },
        {
          "output_type": "execute_result",
          "data": {
            "text/plain": [
              "4.686426878534749"
            ]
          },
          "metadata": {},
          "execution_count": 68
        }
      ]
    },
    {
      "cell_type": "code",
      "metadata": {
        "colab": {
          "base_uri": "https://localhost:8080/"
        },
        "id": "5TaP6RoGuiNT",
        "outputId": "7fd20d9f-a510-4fe3-d158-74411031d5ba"
      },
      "source": [
        "### Bayesian optimization runs (x20): 'exact' Acquisition Function run number = 16 \n",
        "\n",
        "np.random.seed(run_num_16)\n",
        "surrogate_exact_16 = dGaussianProcess(cov_func, optimize=opt)\n",
        "\n",
        "X_train16, X_test16, y_train16, y_test16 = train_test_split(X, y, test_size=test_perc, random_state=run_num_16)\n",
        "\n",
        "def f_syn_polarity16(alpha, gamma, max_depth, subsample, min_child_weight, colsample):\n",
        "    reg = XGBRegressor(reg_alpha=alpha, gamma=gamma, max_depth=int(max_depth), subsample=subsample, min_child_weight=min_child_weight,\n",
        "          colsample_bytree=colsample, n_estimators = n_est, random_state=run_num_16, objective = 'reg:squarederror')\n",
        "    score = np.array(cross_val_score(reg, X=X_train16, y=y_train16).mean())\n",
        "    return operator * score\n",
        "\n",
        "exact_16 = dGPGO(surrogate_exact_16, Acquisition_new(util_exact), f_syn_polarity16, param, n_jobs = -1) # Define BayesOpt\n",
        "exact_16.run(max_iter = max_iter, init_evals = n_init) # run\n",
        "\n",
        "### Return optimal parameters' set:\n",
        "params_exact_16 = exact_16.getResult()[0]\n",
        "params_exact_16['max_depth'] = int(params_exact_16['max_depth'])\n",
        "params_exact_16['min_child_weight'] = int(params_exact_16['min_child_weight'])\n",
        "\n",
        "### Re-train with optimal parameters, run predictons:\n",
        "dX_exact_train16 = xgb.DMatrix(X_train16, y_train16)\n",
        "dX_exact_test16 = xgb.DMatrix(X_test16, y_test16)\n",
        "model_exact_16 = xgb.train(params_exact_16, dX_exact_train16)\n",
        "pred_exact_16 = model_exact_16.predict(dX_exact_test16)\n",
        "\n",
        "rmse_exact_16 = np.sqrt(mean_squared_error(pred_exact_16, y_test16))\n",
        "rmse_exact_16"
      ],
      "execution_count": 69,
      "outputs": [
        {
          "output_type": "stream",
          "name": "stdout",
          "text": [
            "Evaluation \t Proposed point \t  Current eval. \t  Best eval. \t         Max AcqFunc.\n",
            "init\t [2.23291079 5.23163341 6.         0.65430839 5.         0.30077285]\t -0.6357813258069683\t -0.6345701590947206\t    \n",
            "init\t [6.88726162 1.63731425 7.         0.97050543 2.         0.25392012]\t -0.7029752724132097\t -0.6345701590947206\t    \n",
            "init\t [ 5.94328983  5.6393473   5.          0.67602695 19.          0.42538144]\t -0.6345701590947206\t -0.6345701590947206\t    \n",
            "init\t [ 0.88741148  3.08148142 14.          0.56043938  9.          0.27515386]\t -0.7076230970293895\t -0.6345701590947206\t    \n",
            "init\t [ 2.74631586  1.30996118 11.          0.52160786  8.          0.27956463]\t -0.7061563820165734\t -0.6345701590947206\t    \n",
            "\u001b[1m\u001b[92m1\u001b[0m\t \u001b[1m\u001b[92m[ 7.8937256   1.5972923  14.          0.61610774 17.          0.78739284]\u001b[0m\t \u001b[1m\u001b[92m-0.5498317738591506\u001b[0m\t \u001b[1m\u001b[92m-0.5498317738591506\u001b[0m\t \u001b[1m\u001b[92m-0.698362698858312\u001b[0m\n",
            "2  \t [ 9.65014948  7.07834667 14.          0.88748515  2.          0.43513691]\t -0.5694622631948656\t -0.5498317738591506\t    \n",
            "3  \t [ 9.80741348  8.90144788 14.          0.82131992 14.          0.46769684]\t -0.5668863692096254\t -0.5498317738591506\t    \n",
            "4  \t [ 0.78730688  7.98438553 14.          0.91743896 18.          0.25645593]\t -0.7034666397019427\t -0.5498317738591506\t    \n",
            "5  \t [ 1.64983341  0.37890577  9.          0.65437216 16.          0.49641159]\t -0.5723152354991565\t -0.5498317738591506\t    \n",
            "\u001b[1m\u001b[92m6\u001b[0m\t \u001b[1m\u001b[92m[ 5.58043809  8.91463745  8.          0.85851576 10.          0.64398202]\u001b[0m\t \u001b[1m\u001b[92m-0.5394691206821607\u001b[0m\t \u001b[1m\u001b[92m-0.5394691206821607\u001b[0m\t \u001b[1m\u001b[92m-0.6185256069724175\u001b[0m\n",
            "7  \t [ 2.65571666  4.32529089 14.          0.66921971  2.          0.36607383]\t -0.6464801434165215\t -0.5394691206821607\t    \n",
            "8  \t [ 5.53392197  2.00879238  6.          0.89871466 12.          0.67694144]\t -0.5469067821272691\t -0.5394691206821607\t    \n",
            "\u001b[1m\u001b[92m9\u001b[0m\t \u001b[1m\u001b[92m[6.95801625 9.13555009 8.         0.87520198 2.         0.98461662]\u001b[0m\t \u001b[1m\u001b[92m-0.459858810359861\u001b[0m\t \u001b[1m\u001b[92m-0.459858810359861\u001b[0m\t \u001b[1m\u001b[92m-0.6066049300897973\u001b[0m\n",
            "10 \t [ 8.77492053  6.74985642  5.          0.72525183 13.          0.93231357]\t -0.5000126867450256\t -0.459858810359861\t    \n",
            "11 \t [ 1.18539745  9.79684488 10.          0.69107903  4.          0.12860486]\t -0.7073064797779202\t -0.459858810359861\t    \n",
            "12 \t [ 8.8197294   2.64777319 14.          0.98646567 10.          0.63786085]\t -0.5373324936054761\t -0.459858810359861\t    \n",
            "\u001b[1m\u001b[92m13\u001b[0m\t \u001b[1m\u001b[92m[ 0.26172129  9.94921995 14.          0.88029118  9.          0.93655616]\u001b[0m\t \u001b[1m\u001b[92m-0.45152053563727684\u001b[0m\t \u001b[1m\u001b[92m-0.45152053563727684\u001b[0m\t \u001b[1m\u001b[92m-0.539386319876161\u001b[0m\n",
            "14 \t [0.  0.  5.  0.5 1.  0.1]\t -0.7101090677178151\t -0.45152053563727684\t    \n",
            "15 \t [ 0.02157337  9.97534925  5.          0.75404051 13.          0.40760752]\t -0.6336754873953304\t -0.45152053563727684\t    \n",
            "16 \t [ 5.73702737  7.50903876 13.          0.61487351 15.          0.57742278]\t -0.5493386366741839\t -0.45152053563727684\t    \n",
            "17 \t [ 7.10469951  6.34150339 11.          0.9481748   6.          0.12277199]\t -0.7009377489720375\t -0.45152053563727684\t    \n",
            "18 \t [ 9.56839048  0.13416862 13.          0.80729993  3.          0.41100156]\t -0.6372685525181103\t -0.45152053563727684\t    \n",
            "19 \t [ 9.86485549  9.03746465 10.          0.52506306 19.          0.37580875]\t -0.6403104298000886\t -0.45152053563727684\t    \n",
            "20 \t [8.75370971 6.63075821 5.         0.51315816 7.         0.52603065]\t -0.5829323144677231\t -0.45152053563727684\t    \n",
            "21 \t [ 3.28864291  8.88700951  7.          0.70665299 16.          0.26783249]\t -0.7036971150142254\t -0.45152053563727684\t    \n",
            "22 \t [ 0.          0.          5.          0.5        11.15458192  0.1       ]\t -0.7098338017724289\t -0.45152053563727684\t    \n",
            "\u001b[1m\u001b[92m23\u001b[0m\t \u001b[1m\u001b[92m[10.         10.         12.68302249  1.          7.68302249  1.        ]\u001b[0m\t \u001b[1m\u001b[92m-0.44613317747352693\u001b[0m\t \u001b[1m\u001b[92m-0.44613317747352693\u001b[0m\t \u001b[1m\u001b[92m-0.5360191052207958\u001b[0m\n",
            "24 \t [ 0.6221621   5.97682344 10.          0.77872519 13.          0.10493686]\t -0.7037775544724159\t -0.44613317747352693\t    \n",
            "25 \t [ 9.31851763  0.06323567 10.          0.84876026 13.          0.97965305]\t -0.474560532025136\t -0.44613317747352693\t    \n",
            "26 \t [ 5.38505352  0.27838384  8.          0.64624975 19.          0.94943729]\t -0.48384723995087875\t -0.44613317747352693\t    \n",
            "27 \t [ 3.87907908  1.7609891  11.          0.72159537 13.          0.66065913]\t -0.5439197966024029\t -0.44613317747352693\t    \n",
            "28 \t [ 1.9619463   0.16028995 10.          0.50330845  2.          0.6207421 ]\t -0.5509647997606063\t -0.44613317747352693\t    \n",
            "29 \t [ 8.94689959  5.13534265  8.82781291  1.         15.82781291  1.        ]\t -0.46258187088162417\t -0.44613317747352693\t    \n",
            "\u001b[1m\u001b[92m30\u001b[0m\t \u001b[1m\u001b[92m[ 4.0964622   8.75846219 14.86403817  1.          3.86403817  1.        ]\u001b[0m\t \u001b[1m\u001b[92m-0.4412029263878733\u001b[0m\t \u001b[1m\u001b[92m-0.4412029263878733\u001b[0m\t \u001b[1m\u001b[92m-0.5265572667165759\u001b[0m\n"
          ]
        },
        {
          "output_type": "execute_result",
          "data": {
            "text/plain": [
              "4.591054569060841"
            ]
          },
          "metadata": {},
          "execution_count": 69
        }
      ]
    },
    {
      "cell_type": "code",
      "metadata": {
        "colab": {
          "base_uri": "https://localhost:8080/"
        },
        "id": "NiOaMUmgulbx",
        "outputId": "aac4a4ce-575f-46a4-d849-f6fc59b90ebd"
      },
      "source": [
        "### Bayesian optimization runs (x20): 'exact' Acquisition Function run number = 17 \n",
        "\n",
        "np.random.seed(run_num_17)\n",
        "surrogate_exact_17 = dGaussianProcess(cov_func, optimize=opt)\n",
        "\n",
        "X_train17, X_test17, y_train17, y_test17 = train_test_split(X, y, test_size=test_perc, random_state=run_num_17)\n",
        "\n",
        "def f_syn_polarity17(alpha, gamma, max_depth, subsample, min_child_weight, colsample):\n",
        "    reg = XGBRegressor(reg_alpha=alpha, gamma=gamma, max_depth=int(max_depth), subsample=subsample, min_child_weight=min_child_weight,\n",
        "          colsample_bytree=colsample, n_estimators = n_est, random_state=run_num_17, objective = 'reg:squarederror')\n",
        "    score = np.array(cross_val_score(reg, X=X_train17, y=y_train17).mean())\n",
        "    return operator * score\n",
        "\n",
        "exact_17 = dGPGO(surrogate_exact_17, Acquisition_new(util_exact), f_syn_polarity17, param, n_jobs = -1) # Define BayesOpt\n",
        "exact_17.run(max_iter = max_iter, init_evals = n_init) # run\n",
        "\n",
        "### Return optimal parameters' set:\n",
        "params_exact_17 = exact_17.getResult()[0]\n",
        "params_exact_17['max_depth'] = int(params_exact_17['max_depth'])\n",
        "params_exact_17['min_child_weight'] = int(params_exact_17['min_child_weight'])\n",
        "\n",
        "### Re-train with optimal parameters, run predictons:\n",
        "dX_exact_train17 = xgb.DMatrix(X_train17, y_train17)\n",
        "dX_exact_test17 = xgb.DMatrix(X_test17, y_test17)\n",
        "model_exact_17 = xgb.train(params_exact_17, dX_exact_train17)\n",
        "pred_exact_17 = model_exact_17.predict(dX_exact_test17)\n",
        "\n",
        "rmse_exact_17 = np.sqrt(mean_squared_error(pred_exact_17, y_test17))\n",
        "rmse_exact_17"
      ],
      "execution_count": 70,
      "outputs": [
        {
          "output_type": "stream",
          "name": "stdout",
          "text": [
            "Evaluation \t Proposed point \t  Current eval. \t  Best eval. \t         Max AcqFunc.\n",
            "init\t [ 2.94665003  5.30586756 11.          0.94443241 14.          0.80828691]\t -0.48092361225642916\t -0.48092361225642916\t    \n",
            "init\t [ 6.56333522  6.37520896 12.          0.81487881 18.          0.42203224]\t -0.634455605137701\t -0.48092361225642916\t    \n",
            "init\t [ 9.45683187  0.6004468  11.          0.5171566  10.          0.53881211]\t -0.6046684392629649\t -0.48092361225642916\t    \n",
            "init\t [2.72705857 1.19063434 6.         0.74176431 6.         0.10101151]\t -0.6562801618178493\t -0.48092361225642916\t    \n",
            "init\t [ 4.77631812  5.24671297 13.          0.66254476 19.          0.36708086]\t -0.6415104035419145\t -0.48092361225642916\t    \n",
            "1  \t [ 0.65702322  5.79284078 13.          0.75136902  1.          0.30306068]\t -0.6424064809093688\t -0.48092361225642916\t    \n",
            "2  \t [8.79462978 7.51560605 6.         0.76312232 8.         0.57156636]\t -0.5250563773138615\t -0.48092361225642916\t    \n",
            "3  \t [0.65992542 7.03112384 5.         0.85138174 1.         0.9514344 ]\t -0.4855447166854706\t -0.48092361225642916\t    \n",
            "4  \t [ 9.51671323  9.6124566  13.          0.71797221  5.          0.16581182]\t -0.6592777931092744\t -0.48092361225642916\t    \n",
            "5  \t [ 9.17797544  5.99568118  6.          0.52445603 15.          0.40946449]\t -0.6482001920177487\t -0.48092361225642916\t    \n",
            "6  \t [9.9788934  2.15636979 6.         0.99768008 1.         0.76766471]\t -0.4941759850943699\t -0.48092361225642916\t    \n",
            "7  \t [ 2.46339402  0.14039019 14.          0.95096219  7.          0.5441132 ]\t -0.5824208509959975\t -0.48092361225642916\t    \n",
            "8  \t [ 0.80030762  5.97573055 10.          0.83426171  8.          0.65594116]\t -0.4925025307799194\t -0.48092361225642916\t    \n",
            "9  \t [ 1.2716555   3.78378689  5.          0.57556817 17.          0.18163876]\t -0.6597773245382103\t -0.48092361225642916\t    \n",
            "\u001b[1m\u001b[92m10\u001b[0m\t \u001b[1m\u001b[92m[ 9.80102397  1.97747829 14.          0.90631838  4.          0.75804043]\u001b[0m\t \u001b[1m\u001b[92m-0.47872283861791676\u001b[0m\t \u001b[1m\u001b[92m-0.47872283861791676\u001b[0m\t \u001b[1m\u001b[92m-0.5495939998206589\u001b[0m\n",
            "11 \t [ 0.53370892  8.37682141  5.          0.86989913 13.          0.18237465]\t -0.6538884437793409\t -0.47872283861791676\t    \n",
            "12 \t [ 0.          0.05792963  9.60265257  0.5        13.60265257  0.1       ]\t -0.6647960936337325\t -0.47872283861791676\t    \n",
            "\u001b[1m\u001b[92m13\u001b[0m\t \u001b[1m\u001b[92m[10. 10. 15.  1. 20.  1.]\u001b[0m\t \u001b[1m\u001b[92m-0.478716870694923\u001b[0m\t \u001b[1m\u001b[92m-0.478716870694923\u001b[0m\t \u001b[1m\u001b[92m-0.5486956212525843\u001b[0m\n",
            "14 \t [5.79855217 7.64610678 9.         0.54644758 3.         0.68341681]\t -0.5098981312740613\t -0.478716870694923\t    \n",
            "15 \t [ 9.19532326  8.42928342 11.          0.5289521  11.          0.74996998]\t -0.5099725794606587\t -0.478716870694923\t    \n",
            "16 \t [6.14842106 3.92031042 5.         0.80436272 5.         0.42842685]\t -0.6361132092867747\t -0.478716870694923\t    \n",
            "17 \t [ 4.66378302  9.79284691 14.          0.80936251  9.          0.246845  ]\t -0.6566376910285914\t -0.478716870694923\t    \n",
            "18 \t [0.  0.  5.  0.5 1.  0.1]\t -0.6607630407051175\t -0.478716870694923\t    \n",
            "19 \t [ 0.45348627  9.34732483 12.          0.95759453 19.          0.71400033]\t -0.4964469628665989\t -0.478716870694923\t    \n",
            "20 \t [ 6.88175573  0.68997438  9.          0.55006192 19.          0.74555899]\t -0.5119349325314342\t -0.478716870694923\t    \n",
            "21 \t [ 6.41429179  0.          6.53387879  0.5        13.53387879  0.1       ]\t -0.6656830312507658\t -0.478716870694923\t    \n",
            "22 \t [ 0.91150882  0.8207935  11.12481662  0.5         1.12481662  0.1       ]\t -0.6699316606098641\t -0.478716870694923\t    \n",
            "23 \t [ 5.18644121  9.97216159 13.          0.51656015 15.          0.59837352]\t -0.5246750036633607\t -0.478716870694923\t    \n",
            "24 \t [ 7.25044016  0.97024146 10.96354688  0.5         1.          0.1       ]\t -0.6660349863704871\t -0.478716870694923\t    \n",
            "25 \t [9.66959108 0.03423869 5.         0.63791788 7.         0.65549808]\t -0.5394301638245438\t -0.478716870694923\t    \n",
            "\u001b[1m\u001b[92m26\u001b[0m\t \u001b[1m\u001b[92m[ 4.14773745  6.8177473  14.41366951  1.          4.41366951  1.        ]\u001b[0m\t \u001b[1m\u001b[92m-0.4588816136679901\u001b[0m\t \u001b[1m\u001b[92m-0.4588816136679901\u001b[0m\t \u001b[1m\u001b[92m-0.5477324960789018\u001b[0m\n",
            "27 \t [ 5.48379726  6.58855631  5.          0.91493075 18.          0.89669113]\t -0.4996699593334831\t -0.4588816136679901\t    \n",
            "28 \t [ 4.50859922  0.61448921 13.          0.77698957 13.          0.2200321 ]\t -0.6567029121442185\t -0.4588816136679901\t    \n",
            "29 \t [ 0.30609514  2.49894713 14.          0.69397027 18.          0.71750058]\t -0.48863847757861834\t -0.4588816136679901\t    \n",
            "30 \t [5.50775934 0.         5.         0.5        1.         0.1       ]\t -0.663084189421878\t -0.4588816136679901\t    \n"
          ]
        },
        {
          "output_type": "execute_result",
          "data": {
            "text/plain": [
              "4.621467760192109"
            ]
          },
          "metadata": {},
          "execution_count": 70
        }
      ]
    },
    {
      "cell_type": "code",
      "metadata": {
        "id": "5H4MWSXFcZjO",
        "colab": {
          "base_uri": "https://localhost:8080/"
        },
        "outputId": "bfde07ea-07da-434a-ed73-ff3272692101"
      },
      "source": [
        "### Bayesian optimization runs (x20): 'exact' Acquisition Function run number = 18 \n",
        "\n",
        "np.random.seed(run_num_18)\n",
        "surrogate_exact_18 = dGaussianProcess(cov_func, optimize=opt)\n",
        "\n",
        "X_train18, X_test18, y_train18, y_test18 = train_test_split(X, y, test_size=test_perc, random_state=run_num_18)\n",
        "\n",
        "def f_syn_polarity18(alpha, gamma, max_depth, subsample, min_child_weight, colsample):\n",
        "    reg = XGBRegressor(reg_alpha=alpha, gamma=gamma, max_depth=int(max_depth), subsample=subsample, min_child_weight=min_child_weight,\n",
        "          colsample_bytree=colsample, n_estimators = n_est, random_state=run_num_18, objective = 'reg:squarederror')\n",
        "    score = np.array(cross_val_score(reg, X=X_train18, y=y_train18).mean())\n",
        "    return operator * score\n",
        "\n",
        "exact_18 = dGPGO(surrogate_exact_18, Acquisition_new(util_exact), f_syn_polarity18, param, n_jobs = -1) # Define BayesOpt\n",
        "exact_18.run(max_iter = max_iter, init_evals = n_init) # run\n",
        "\n",
        "### Return optimal parameters' set:\n",
        "params_exact_18 = exact_18.getResult()[0]\n",
        "params_exact_18['max_depth'] = int(params_exact_18['max_depth'])\n",
        "params_exact_18['min_child_weight'] = int(params_exact_18['min_child_weight'])\n",
        "\n",
        "### Re-train with optimal parameters, run predictons:\n",
        "dX_exact_train18 = xgb.DMatrix(X_train18, y_train18)\n",
        "dX_exact_test18 = xgb.DMatrix(X_test18, y_test18)\n",
        "model_exact_18 = xgb.train(params_exact_18, dX_exact_train18)\n",
        "pred_exact_18 = model_exact_18.predict(dX_exact_test18)\n",
        "\n",
        "rmse_exact_18 = np.sqrt(mean_squared_error(pred_exact_18, y_test18))\n",
        "rmse_exact_18"
      ],
      "execution_count": 71,
      "outputs": [
        {
          "output_type": "stream",
          "name": "stdout",
          "text": [
            "Evaluation \t Proposed point \t  Current eval. \t  Best eval. \t         Max AcqFunc.\n",
            "init\t [6.50374242 5.05453374 6.         0.59092011 3.         0.28357516]\t -0.6408812889056655\t -0.45563901799042095\t    \n",
            "init\t [0.11506734 4.26891483 9.         0.81785956 5.         0.63489043]\t -0.5015618704267137\t -0.45563901799042095\t    \n",
            "init\t [ 2.8861259   6.35547834 11.          0.64267955 14.          0.27877092]\t -0.6438813467576416\t -0.45563901799042095\t    \n",
            "init\t [6.57189031 6.99655629 8.         0.63235896 4.         0.52894035]\t -0.5434165841486521\t -0.45563901799042095\t    \n",
            "init\t [ 6.66600348  2.11312037 14.          0.74363461  4.          0.73174558]\t -0.45563901799042095\t -0.45563901799042095\t    \n",
            "1  \t [ 8.67093232  0.11649132  5.          0.92962202 15.          0.53672863]\t -0.5446894741691042\t -0.45563901799042095\t    \n",
            "\u001b[1m\u001b[92m2\u001b[0m\t \u001b[1m\u001b[92m[ 7.2764983   0.11744451 14.          0.65239666 17.          0.99049521]\u001b[0m\t \u001b[1m\u001b[92m-0.44303108951637993\u001b[0m\t \u001b[1m\u001b[92m-0.44303108951637993\u001b[0m\t \u001b[1m\u001b[92m-0.5207792978165078\u001b[0m\n",
            "3  \t [0.  0.  5.  0.5 1.  0.1]\t -0.6425312957388465\t -0.44303108951637993\t    \n",
            "4  \t [ 9.05522886  7.72410538  5.          0.69563915 18.          0.34113663]\t -0.6122960379993414\t -0.44303108951637993\t    \n",
            "5  \t [ 9.98394208  8.5932438  14.          0.75596751 19.          0.64506065]\t -0.49923184035684337\t -0.44303108951637993\t    \n",
            "6  \t [ 8.22273842  9.68669454  5.          0.7147283  11.          0.16411281]\t -0.6436150859688133\t -0.44303108951637993\t    \n",
            "7  \t [3.44338621 0.02606641 7.         0.55815806 9.         0.24029821]\t -0.6409667902467774\t -0.44303108951637993\t    \n",
            "8  \t [ 1.24316399  9.43141312 14.          0.66900118  7.          0.55235225]\t -0.540500539465401\t -0.44303108951637993\t    \n",
            "9  \t [ 1.80118477  1.19747778 13.          0.79590104  8.          0.56741067]\t -0.5387988919240001\t -0.44303108951637993\t    \n",
            "\u001b[1m\u001b[92m10\u001b[0m\t \u001b[1m\u001b[92m[ 2.63732683  4.87962717 14.          0.99986359 19.          0.86504659]\u001b[0m\t \u001b[1m\u001b[92m-0.4269330271140799\u001b[0m\t \u001b[1m\u001b[92m-0.4269330271140799\u001b[0m\t \u001b[1m\u001b[92m-0.5136067204518837\u001b[0m\n",
            "11 \t [ 8.47511857  0.73864041 14.          0.94302087 10.          0.89112309]\t -0.43395812272336676\t -0.4269330271140799\t    \n",
            "12 \t [ 0.62191196  4.69754177  5.          0.72971917 15.          0.95903084]\t -0.4535756712182466\t -0.4269330271140799\t    \n",
            "13 \t [ 8.34050252  7.45495891 14.          0.58875591  8.          0.92669456]\t -0.44261634162821706\t -0.4269330271140799\t    \n",
            "14 \t [8.45918053 0.39509087 9.         0.81105792 3.         0.47358724]\t -0.5381512346287322\t -0.4269330271140799\t    \n",
            "15 \t [ 8.70623364  5.12068114  9.          0.56483465 12.          0.70223422]\t -0.501415146701387\t -0.4269330271140799\t    \n",
            "16 \t [ 0.71491502  0.67997826 10.          0.84656193 16.          0.26877596]\t -0.643457100693489\t -0.4269330271140799\t    \n",
            "17 \t [ 5.01391374  9.05765577 13.          0.9768187   1.          0.92456281]\t -0.4305811739400264\t -0.4269330271140799\t    \n",
            "18 \t [ 1.79965301  0.         10.26517837  0.5         2.26517837  0.1       ]\t -0.6491995007680211\t -0.4269330271140799\t    \n",
            "19 \t [9.2798599  7.10759547 6.         0.7926243  1.         0.10786223]\t -0.6420979999371168\t -0.4269330271140799\t    \n",
            "\u001b[1m\u001b[92m20\u001b[0m\t \u001b[1m\u001b[92m[10.         10.         15.          1.         13.23383956  1.        ]\u001b[0m\t \u001b[1m\u001b[92m-0.42681246983533044\u001b[0m\t \u001b[1m\u001b[92m-0.42681246983533044\u001b[0m\t \u001b[1m\u001b[92m-0.49580590398468016\u001b[0m\n",
            "21 \t [ 1.2588084   9.80413977  5.          0.75618546 12.          0.53020258]\t -0.5451493033299312\t -0.42681246983533044\t    \n",
            "22 \t [ 3.27673272 10.         14.40323409  1.         15.40323409  0.9552181 ]\t -0.42723423789314374\t -0.42681246983533044\t    \n",
            "23 \t [ 5.84006958  2.28845581  8.          0.66010373 19.          0.76603621]\t -0.4597886389545997\t -0.42681246983533044\t    \n",
            "24 \t [3.30805236 5.9652029  7.         0.78356556 9.         0.44348022]\t -0.5401537407055166\t -0.42681246983533044\t    \n",
            "25 \t [1.07172211 9.91320527 6.         0.98176043 4.         0.24706724]\t -0.6412881271086113\t -0.42681246983533044\t    \n",
            "26 \t [10.         10.          8.25131586  1.          6.25131586  1.        ]\t -0.4340735144712421\t -0.42681246983533044\t    \n",
            "\u001b[1m\u001b[92m27\u001b[0m\t \u001b[1m\u001b[92m[ 0.72087267  2.55485227 14.58482003  1.         12.58482003  1.        ]\u001b[0m\t \u001b[1m\u001b[92m-0.4174028713762434\u001b[0m\t \u001b[1m\u001b[92m-0.4174028713762434\u001b[0m\t \u001b[1m\u001b[92m-0.4926576054185338\u001b[0m\n",
            "28 \t [ 2.77756299  7.50222207 10.          0.6873697   6.          0.56315775]\t -0.5406835544266547\t -0.4174028713762434\t    \n",
            "29 \t [ 4.08478369  6.86273312  6.          0.8091424  19.          0.30637166]\t -0.6103135989710906\t -0.4174028713762434\t    \n",
            "30 \t [ 0.          0.          5.          0.5        12.87456927  0.1       ]\t -0.6436444466823545\t -0.4174028713762434\t    \n"
          ]
        },
        {
          "output_type": "execute_result",
          "data": {
            "text/plain": [
              "4.813859409927186"
            ]
          },
          "metadata": {},
          "execution_count": 71
        }
      ]
    },
    {
      "cell_type": "code",
      "metadata": {
        "colab": {
          "base_uri": "https://localhost:8080/"
        },
        "id": "B-zaPbk2uuzH",
        "outputId": "31f87ec3-e604-4d06-8068-d095c4da2ad5"
      },
      "source": [
        "### Bayesian optimization runs (x20): 'exact' Acquisition Function run number = 19 \n",
        "\n",
        "np.random.seed(run_num_19)\n",
        "surrogate_exact_19 = dGaussianProcess(cov_func, optimize=opt)\n",
        "\n",
        "X_train19, X_test19, y_train19, y_test19 = train_test_split(X, y, test_size=test_perc, random_state=run_num_19)\n",
        "\n",
        "def f_syn_polarity19(alpha, gamma, max_depth, subsample, min_child_weight, colsample):\n",
        "    reg = XGBRegressor(reg_alpha=alpha, gamma=gamma, max_depth=int(max_depth), subsample=subsample, min_child_weight=min_child_weight,\n",
        "          colsample_bytree=colsample, n_estimators = n_est, random_state=run_num_19, objective = 'reg:squarederror')\n",
        "    score = np.array(cross_val_score(reg, X=X_train19, y=y_train19).mean())\n",
        "    return operator * score\n",
        "\n",
        "exact_19 = dGPGO(surrogate_exact_19, Acquisition_new(util_exact), f_syn_polarity19, param, n_jobs = -1) # Define BayesOpt\n",
        "exact_19.run(max_iter = max_iter, init_evals = n_init) # run\n",
        "\n",
        "### Return optimal parameters' set:\n",
        "params_exact_19 = exact_19.getResult()[0]\n",
        "params_exact_19['max_depth'] = int(params_exact_19['max_depth'])\n",
        "params_exact_19['min_child_weight'] = int(params_exact_19['min_child_weight'])\n",
        "\n",
        "### Re-train with optimal parameters, run predictons:\n",
        "dX_exact_train19 = xgb.DMatrix(X_train19, y_train19)\n",
        "dX_exact_test19 = xgb.DMatrix(X_test19, y_test19)\n",
        "model_exact_19 = xgb.train(params_exact_19, dX_exact_train19)\n",
        "pred_exact_19 = model_exact_19.predict(dX_exact_test19)\n",
        "\n",
        "rmse_exact_19 = np.sqrt(mean_squared_error(pred_exact_19, y_test19))\n",
        "rmse_exact_19"
      ],
      "execution_count": 72,
      "outputs": [
        {
          "output_type": "stream",
          "name": "stdout",
          "text": [
            "Evaluation \t Proposed point \t  Current eval. \t  Best eval. \t         Max AcqFunc.\n",
            "init\t [ 0.97533602  7.61249717 13.          0.85765469 11.          0.39830191]\t -0.5851081958447377\t -0.4870287725699859\t    \n",
            "init\t [ 0.82999565  6.71977081  6.          0.50407413 19.          0.67209466]\t -0.5245729886945251\t -0.4870287725699859\t    \n",
            "init\t [ 2.15923256  5.49027432 12.          0.52588686 10.          0.20235326]\t -0.677999989539271\t -0.4870287725699859\t    \n",
            "init\t [4.99659267 1.52108422 6.         0.73481085 4.         0.71949465]\t -0.4940235599803803\t -0.4870287725699859\t    \n",
            "init\t [ 3.72927156  9.46160045  5.          0.80554614 18.          0.97708466]\t -0.4870287725699859\t -0.4870287725699859\t    \n",
            "\u001b[1m\u001b[92m1\u001b[0m\t \u001b[1m\u001b[92m[ 8.33060043  1.42030563  8.          0.92863724 14.          0.78606141]\u001b[0m\t \u001b[1m\u001b[92m-0.48699206254226385\u001b[0m\t \u001b[1m\u001b[92m-0.48699206254226385\u001b[0m\t \u001b[1m\u001b[92m-0.5453156840404914\u001b[0m\n",
            "2  \t [ 9.87536409  7.17591217 14.          0.99713522 17.          0.55460731]\t -0.5586571006723301\t -0.48699206254226385\t    \n",
            "3  \t [ 9.05225624  3.60011377 14.          0.89518364  1.          0.11342054]\t -0.6812597142899619\t -0.48699206254226385\t    \n",
            "4  \t [ 0.63994078  3.71351436 14.          0.60091862  1.          0.58598556]\t -0.5176144815279642\t -0.48699206254226385\t    \n",
            "5  \t [4.99125702 9.50308409 8.         0.55828329 3.         0.34673953]\t -0.5891547583463381\t -0.48699206254226385\t    \n",
            "6  \t [ 1.33699663  6.15365474  5.          0.5        11.32746394  0.1       ]\t -0.6783678874838001\t -0.48699206254226385\t    \n",
            "\u001b[1m\u001b[92m7\u001b[0m\t \u001b[1m\u001b[92m[ 9.22452432 10.         13.08729335  1.          9.08729335  1.        ]\u001b[0m\t \u001b[1m\u001b[92m-0.4492469279209268\u001b[0m\t \u001b[1m\u001b[92m-0.4492469279209268\u001b[0m\t \u001b[1m\u001b[92m-0.550490830301925\u001b[0m\n",
            "8  \t [ 8.91661877  0.81129414 14.          0.76941451 18.          0.38451622]\t -0.583388654767426\t -0.4492469279209268\t    \n",
            "9  \t [ 7.79697396  2.4759708  14.          0.85704175 10.          0.8747867 ]\t -0.46453938907834214\t -0.4492469279209268\t    \n",
            "10 \t [0.  0.  5.  0.5 1.  0.1]\t -0.6807548522242486\t -0.4492469279209268\t    \n",
            "11 \t [ 8.347612    9.05501181  5.          0.50033019 10.          0.41046448]\t -0.59152247561381\t -0.4492469279209268\t    \n",
            "12 \t [ 6.11039048  8.9398787   9.          0.84431675 14.          0.73928782]\t -0.4841033083622654\t -0.4492469279209268\t    \n",
            "13 \t [0.04130113 6.56643894 8.         0.8316257  6.         0.23623124]\t -0.6819669312627161\t -0.4492469279209268\t    \n",
            "14 \t [ 0.76961365  0.71322479  7.          0.76261327 16.          0.65707922]\t -0.5117249404925317\t -0.4492469279209268\t    \n",
            "15 \t [0.         0.         5.         0.5        9.60193266 0.1       ]\t -0.6784439284416857\t -0.4492469279209268\t    \n",
            "16 \t [ 0.9019348   8.21531788 14.          0.85098746 17.          0.41254672]\t -0.5829439311579024\t -0.4492469279209268\t    \n",
            "17 \t [9.42305669 0.3423134  7.         0.77066127 8.         0.63693457]\t -0.5147410971984965\t -0.4492469279209268\t    \n",
            "18 \t [ 9.95511956  7.60041193  6.          0.68015183 19.          0.83239317]\t -0.5006215511596344\t -0.4492469279209268\t    \n",
            "19 \t [ 1.5998037   2.07899705 13.          0.69607466 16.          0.66181568]\t -0.5016807213704003\t -0.4492469279209268\t    \n",
            "20 \t [ 9.47745808  9.50911305 13.          0.70555451  1.          0.87222907]\t -0.4691498772137427\t -0.4492469279209268\t    \n",
            "21 \t [ 3.16526468  9.88957695 14.          0.66718624  2.          0.49421519]\t -0.5687706781654549\t -0.4492469279209268\t    \n",
            "22 \t [9.45817904 5.07482593 5.         0.8727678  6.         0.48725282]\t -0.5797212522024371\t -0.4492469279209268\t    \n",
            "23 \t [1.60895472e-01 8.27074864e-03 1.30000000e+01 6.91893018e-01\n",
            " 5.00000000e+00 4.60327119e-01]\t -0.5676975299111877\t -0.4492469279209268\t    \n",
            "24 \t [ 4.92472835  3.24000035  6.          0.55858701 19.          0.3502415 ]\t -0.5861610942768856\t -0.4492469279209268\t    \n",
            "25 \t [ 6.18542907  1.2308236  13.          0.71053876  5.          0.20658863]\t -0.6807923257643524\t -0.4492469279209268\t    \n",
            "26 \t [ 9.78283451 10.         10.83442379  1.         20.          1.        ]\t -0.4533731752067123\t -0.4492469279209268\t    \n",
            "\u001b[1m\u001b[92m27\u001b[0m\t \u001b[1m\u001b[92m[ 5.4390772   4.55203073 14.68327343  1.         19.68327343  1.        ]\u001b[0m\t \u001b[1m\u001b[92m-0.4460848740385092\u001b[0m\t \u001b[1m\u001b[92m-0.4460848740385092\u001b[0m\t \u001b[1m\u001b[92m-0.5181776365844412\u001b[0m\n",
            "28 \t [7.38784007 5.22692103 9.94616423 1.         4.94616423 1.        ]\t -0.45121437192653086\t -0.4460848740385092\t    \n",
            "29 \t [ 3.70288408  9.79068253  9.65355747  1.         20.          1.        ]\t -0.45361255315989035\t -0.4460848740385092\t    \n",
            "30 \t [9.07674588 5.77794359 6.         0.91996478 1.         0.74451178]\t -0.49694356548806506\t -0.4460848740385092\t    \n"
          ]
        },
        {
          "output_type": "execute_result",
          "data": {
            "text/plain": [
              "4.742361002147471"
            ]
          },
          "metadata": {},
          "execution_count": 72
        }
      ]
    },
    {
      "cell_type": "code",
      "metadata": {
        "colab": {
          "base_uri": "https://localhost:8080/"
        },
        "id": "NvkuHKlQuxRy",
        "outputId": "ac3e5526-352e-4b69-fc60-805ae041f395"
      },
      "source": [
        "### Bayesian optimization runs (x20): 'exact' Acquisition Function run number = 20 \n",
        "\n",
        "np.random.seed(run_num_20)\n",
        "surrogate_exact_20 = dGaussianProcess(cov_func, optimize=opt)\n",
        "\n",
        "X_train20, X_test20, y_train20, y_test20 = train_test_split(X, y, test_size=test_perc, random_state=run_num_20)\n",
        "\n",
        "def f_syn_polarity20(alpha, gamma, max_depth, subsample, min_child_weight, colsample):\n",
        "    reg = XGBRegressor(reg_alpha=alpha, gamma=gamma, max_depth=int(max_depth), subsample=subsample, min_child_weight=min_child_weight,\n",
        "          colsample_bytree=colsample, n_estimators = n_est, random_state=run_num_20, objective = 'reg:squarederror')\n",
        "    score = np.array(cross_val_score(reg, X=X_train20, y=y_train20).mean())\n",
        "    return operator * score\n",
        "\n",
        "exact_20 = dGPGO(surrogate_exact_20, Acquisition_new(util_exact), f_syn_polarity20, param, n_jobs = -1) # Define BayesOpt\n",
        "exact_20.run(max_iter = max_iter, init_evals = n_init) # run\n",
        "\n",
        "### Return optimal parameters' set:\n",
        "params_exact_20 = exact_20.getResult()[0]\n",
        "params_exact_20['max_depth'] = int(params_exact_20['max_depth'])\n",
        "params_exact_20['min_child_weight'] = int(params_exact_20['min_child_weight'])\n",
        "\n",
        "### Re-train with optimal parameters, run predictons:\n",
        "dX_exact_train20 = xgb.DMatrix(X_train20, y_train20)\n",
        "dX_exact_test20 = xgb.DMatrix(X_test20, y_test20)\n",
        "model_exact_20 = xgb.train(params_exact_20, dX_exact_train20)\n",
        "pred_exact_20 = model_exact_20.predict(dX_exact_test20)\n",
        "\n",
        "rmse_exact_20 = np.sqrt(mean_squared_error(pred_exact_20, y_test20))\n",
        "rmse_exact_20"
      ],
      "execution_count": 73,
      "outputs": [
        {
          "output_type": "stream",
          "name": "stdout",
          "text": [
            "Evaluation \t Proposed point \t  Current eval. \t  Best eval. \t         Max AcqFunc.\n",
            "init\t [ 5.88130801  8.97713728 14.          0.81074445  8.          0.95540649]\t -0.4485352768858121\t -0.4485352768858121\t    \n",
            "init\t [6.72865655 0.41173329 8.         0.6361582  7.         0.76174061]\t -0.47208091450542966\t -0.4485352768858121\t    \n",
            "init\t [ 4.77387703  8.66202323 10.          0.51833215  7.          0.10123387]\t -0.7316473600840852\t -0.4485352768858121\t    \n",
            "init\t [ 5.75489985  4.74524381  8.          0.78084343 15.          0.26643049]\t -0.7314226542252507\t -0.4485352768858121\t    \n",
            "init\t [ 4.53444     4.47342833  8.          0.91974896 18.          0.35997552]\t -0.6494230116583573\t -0.4485352768858121\t    \n",
            "1  \t [ 7.96566073  7.15509535  7.          0.79906691 11.          0.34132075]\t -0.6502222800629637\t -0.4485352768858121\t    \n",
            "2  \t [ 1.72798052  9.03285612 13.          0.50351094 19.          0.11416888]\t -0.7324821709443572\t -0.4485352768858121\t    \n",
            "\u001b[1m\u001b[92m3\u001b[0m\t \u001b[1m\u001b[92m[10. 10. 15.  1. 20.  1.]\u001b[0m\t \u001b[1m\u001b[92m-0.440036215364392\u001b[0m\t \u001b[1m\u001b[92m-0.440036215364392\u001b[0m\t \u001b[1m\u001b[92m-0.5399675704872758\u001b[0m\n",
            "4  \t [1.41824857 5.09758018 5.         0.56802833 5.         0.75704697]\t -0.495544167185156\t -0.440036215364392\t    \n",
            "5  \t [ 7.50758902  2.31989813 13.          0.92794435  1.          0.52943075]\t -0.5674078616440736\t -0.440036215364392\t    \n",
            "6  \t [ 0.55198982  4.75264073 14.          0.93528567 13.          0.58376745]\t -0.49127876318565455\t -0.440036215364392\t    \n",
            "7  \t [ 1.01837104  4.41995744  6.          0.52021829 12.          0.99601116]\t -0.4841049369464135\t -0.440036215364392\t    \n",
            "8  \t [ 0.54239845  2.74182658 10.          0.793938    8.          0.40512022]\t -0.6545634444151911\t -0.440036215364392\t    \n",
            "9  \t [ 8.00974414  4.59126341 14.          0.56460775 14.          0.49726491]\t -0.5735269164814015\t -0.440036215364392\t    \n",
            "10 \t [8.51004072 7.2917763  5.         0.96135496 1.         0.57493956]\t -0.5164100755179035\t -0.440036215364392\t    \n",
            "11 \t [ 0.97109006  6.64906646 10.          0.68736304  1.          0.83364975]\t -0.4554192777482779\t -0.440036215364392\t    \n",
            "12 \t [ 6.87684298  0.81341201 12.          0.63438989 19.          0.35708107]\t -0.6528095609241975\t -0.440036215364392\t    \n",
            "13 \t [ 5.96615687  3.82181138 12.          0.64448426  8.          0.96178268]\t -0.4607492070371279\t -0.440036215364392\t    \n",
            "14 \t [0.  0.  5.  0.5 1.  0.1]\t -0.7340609389889516\t -0.440036215364392\t    \n",
            "15 \t [ 9.90619221  7.05528672  5.          0.91932487 18.          0.63366006]\t -0.5240891052988247\t -0.440036215364392\t    \n",
            "16 \t [ 0.3999032   2.66263318 14.          0.55784408  3.          0.95411688]\t -0.45507954464694295\t -0.440036215364392\t    \n",
            "17 \t [ 8.3723055   9.68266939 11.          0.50145124  1.          0.82596229]\t -0.479780992905768\t -0.440036215364392\t    \n",
            "18 \t [ 0.7766431   8.0732046   5.          0.88801393 19.          0.19994543]\t -0.7311450688291956\t -0.440036215364392\t    \n",
            "19 \t [ 3.13471454  0.         10.00631083  0.5         1.          0.1       ]\t -0.7336609927180785\t -0.440036215364392\t    \n",
            "20 \t [9.77613663 2.80327235 8.         0.65089037 2.         0.68605672]\t -0.5009688631868908\t -0.440036215364392\t    \n",
            "21 \t [ 2.16891361  0.40236972  6.          0.57865056 19.          0.33900997]\t -0.6538296947589674\t -0.440036215364392\t    \n",
            "22 \t [ 2.39999736  8.25935251 10.          0.76621897 14.          0.97994917]\t -0.45897702011719793\t -0.440036215364392\t    \n",
            "23 \t [ 9.71937523  0.84081751  8.          0.83815718 13.          0.15657647]\t -0.7323525847117764\t -0.440036215364392\t    \n",
            "24 \t [8.80668839 9.74974177 8.         0.78186711 8.         0.24236328]\t -0.7323744012163753\t -0.440036215364392\t    \n",
            "25 \t [ 9.68211955  9.54980552 11.          0.53087664 15.          0.39988062]\t -0.6549141468052293\t -0.440036215364392\t    \n",
            "\u001b[1m\u001b[92m26\u001b[0m\t \u001b[1m\u001b[92m[ 9.91823464  3.60448129 15.          1.         20.          1.        ]\u001b[0m\t \u001b[1m\u001b[92m-0.4399648824830221\u001b[0m\t \u001b[1m\u001b[92m-0.4399648824830221\u001b[0m\t \u001b[1m\u001b[92m-0.5200999500501908\u001b[0m\n",
            "27 \t [6.25368506 0.81351363 5.         0.5        1.30738978 0.1       ]\t -0.7324105807647275\t -0.4399648824830221\t    \n",
            "28 \t [ 1.02324767  1.38886899  9.47711561  0.5        14.47711561  0.1       ]\t -0.7324913782942094\t -0.4399648824830221\t    \n",
            "29 \t [ 2.05797056  3.5679443  14.          0.67286552 19.          0.3168445 ]\t -0.6525256594469919\t -0.4399648824830221\t    \n",
            "30 \t [10.         10.          8.86650575  1.         19.86650575  1.        ]\t -0.45283201065114964\t -0.4399648824830221\t    \n"
          ]
        },
        {
          "output_type": "execute_result",
          "data": {
            "text/plain": [
              "4.620300059671854"
            ]
          },
          "metadata": {},
          "execution_count": 73
        }
      ]
    },
    {
      "cell_type": "code",
      "metadata": {
        "colab": {
          "base_uri": "https://localhost:8080/"
        },
        "id": "KFKuwvS3uzrs",
        "outputId": "0e870977-4917-45d8-9e28-e60a3d4fcfce"
      },
      "source": [
        "end_exact = time.time()\n",
        "end_exact\n",
        "\n",
        "time_exact = end_exact - start_exact\n",
        "time_exact"
      ],
      "execution_count": 74,
      "outputs": [
        {
          "output_type": "execute_result",
          "data": {
            "text/plain": [
              "682.621931552887"
            ]
          },
          "metadata": {},
          "execution_count": 74
        }
      ]
    },
    {
      "cell_type": "code",
      "metadata": {
        "id": "CU2FlhY4vHUk",
        "colab": {
          "base_uri": "https://localhost:8080/"
        },
        "outputId": "1509e13a-e1f6-47a4-ae77-086dac487aba"
      },
      "source": [
        "rmse_approx = [rmse_approx_1,\n",
        "rmse_approx_2,\n",
        "rmse_approx_3,\n",
        "rmse_approx_4,\n",
        "rmse_approx_5,\n",
        "rmse_approx_6,\n",
        "rmse_approx_7,\n",
        "rmse_approx_8,\n",
        "rmse_approx_9,\n",
        "rmse_approx_10,\n",
        "rmse_approx_11,\n",
        "rmse_approx_12,\n",
        "rmse_approx_13,\n",
        "rmse_approx_14,\n",
        "rmse_approx_15,\n",
        "rmse_approx_16,\n",
        "rmse_approx_17,\n",
        "rmse_approx_18,\n",
        "rmse_approx_19,\n",
        "rmse_approx_20]\n",
        "\n",
        "np.mean(rmse_approx)"
      ],
      "execution_count": 75,
      "outputs": [
        {
          "output_type": "execute_result",
          "data": {
            "text/plain": [
              "4.794455616116127"
            ]
          },
          "metadata": {},
          "execution_count": 75
        }
      ]
    },
    {
      "cell_type": "code",
      "metadata": {
        "colab": {
          "base_uri": "https://localhost:8080/"
        },
        "id": "iZ53FsWXu3J1",
        "outputId": "37fcad87-50c2-499d-d1f1-9d483c55510d"
      },
      "source": [
        "rmse_exact = [rmse_exact_1,\n",
        "rmse_exact_2,\n",
        "rmse_exact_3,\n",
        "rmse_exact_4,\n",
        "rmse_exact_5,\n",
        "rmse_exact_6,\n",
        "rmse_exact_7,\n",
        "rmse_exact_8,\n",
        "rmse_exact_9,\n",
        "rmse_exact_10,\n",
        "rmse_exact_11,\n",
        "rmse_exact_12,\n",
        "rmse_exact_13,\n",
        "rmse_exact_14,\n",
        "rmse_exact_15,\n",
        "rmse_exact_16,\n",
        "rmse_exact_17,\n",
        "rmse_exact_18,\n",
        "rmse_exact_19,\n",
        "rmse_exact_20]\n",
        "\n",
        "np.mean(rmse_exact)"
      ],
      "execution_count": 76,
      "outputs": [
        {
          "output_type": "execute_result",
          "data": {
            "text/plain": [
              "4.6470430163189524"
            ]
          },
          "metadata": {},
          "execution_count": 76
        }
      ]
    },
    {
      "cell_type": "code",
      "metadata": {
        "colab": {
          "base_uri": "https://localhost:8080/"
        },
        "id": "a9FOyoH8u5Wx",
        "outputId": "d7f4d9db-0dc0-4915-945d-5ee2a0c9532e"
      },
      "source": [
        "min_rmse_approx = min_max_array(rmse_approx)\n",
        "min_rmse_approx, len(min_rmse_approx)"
      ],
      "execution_count": 77,
      "outputs": [
        {
          "output_type": "execute_result",
          "data": {
            "text/plain": [
              "([5.196570486148013,\n",
              "  4.67160405397526,\n",
              "  4.649527586702978,\n",
              "  4.649527586702978,\n",
              "  4.649527586702978,\n",
              "  4.649527586702978,\n",
              "  4.649527586702978,\n",
              "  4.48055789121361,\n",
              "  4.48055789121361,\n",
              "  4.48055789121361,\n",
              "  4.48055789121361,\n",
              "  4.48055789121361,\n",
              "  4.48055789121361,\n",
              "  4.48055789121361,\n",
              "  4.48055789121361,\n",
              "  4.48055789121361,\n",
              "  4.48055789121361,\n",
              "  4.48055789121361,\n",
              "  4.48055789121361,\n",
              "  4.48055789121361],\n",
              " 20)"
            ]
          },
          "metadata": {},
          "execution_count": 77
        }
      ]
    },
    {
      "cell_type": "code",
      "metadata": {
        "id": "unXOpKHcvO15",
        "colab": {
          "base_uri": "https://localhost:8080/"
        },
        "outputId": "5d2fb3ef-d69e-49d2-f388-563630b1b2eb"
      },
      "source": [
        "min_rmse_exact = min_max_array(rmse_exact)\n",
        "min_rmse_exact, len(min_rmse_exact)"
      ],
      "execution_count": 78,
      "outputs": [
        {
          "output_type": "execute_result",
          "data": {
            "text/plain": [
              "([4.4851992634710545,\n",
              "  4.4851992634710545,\n",
              "  4.4851992634710545,\n",
              "  4.4851992634710545,\n",
              "  4.4851992634710545,\n",
              "  4.4851992634710545,\n",
              "  4.4851992634710545,\n",
              "  4.447475995930877,\n",
              "  4.447475995930877,\n",
              "  4.447475995930877,\n",
              "  4.447475995930877,\n",
              "  4.447475995930877,\n",
              "  4.447475995930877,\n",
              "  4.447475995930877,\n",
              "  4.447475995930877,\n",
              "  4.447475995930877,\n",
              "  4.447475995930877,\n",
              "  4.447475995930877,\n",
              "  4.447475995930877,\n",
              "  4.447475995930877],\n",
              " 20)"
            ]
          },
          "metadata": {},
          "execution_count": 78
        }
      ]
    },
    {
      "cell_type": "code",
      "metadata": {
        "id": "Yxo85-HEvRPi",
        "colab": {
          "base_uri": "https://localhost:8080/",
          "height": 292
        },
        "outputId": "e3f3779c-07fc-40d1-de15-e93e49c214c4"
      },
      "source": [
        "### Visualise!\n",
        "\n",
        "title = obj_func\n",
        "plt.figure()\n",
        "\n",
        "plt.plot(min_rmse_approx, color = 'Yellow', label='RMSE: GP EI optimized with Approx GP EI gradients')\n",
        "plt.plot(min_rmse_exact, color = 'Red', label='RMSE:  GP EI optimized with Exact GP dEI gradients', ls='--')# r'($\\nu$' ' = {})'.format(df))\n",
        "\n",
        "plt.title(title, weight = 'bold', family = 'Arial')\n",
        "plt.xlabel('Experiment(s)', weight = 'bold', family = 'Arial') # x-axis label\n",
        "plt.ylabel('RMSE (US Dollars $)', weight = 'bold', family = 'Arial') # y-axis label\n",
        "plt.legend(loc=0) # add plot legend\n",
        "\n",
        "### Make the x-ticks integers, not floats:\n",
        "count = len(min_rmse_approx)\n",
        "plt.xticks(np.arange(count), np.arange(1, count + 1))\n",
        "plt.grid(b=None)\n",
        "plt.show() #visualize!\n"
      ],
      "execution_count": 79,
      "outputs": [
        {
          "output_type": "display_data",
          "data": {
            "image/png": "[encoded data removed]",
            "text/plain": [
              "<Figure size 432x288 with 1 Axes>"
            ]
          },
          "metadata": {}
        }
      ]
    },
    {
      "cell_type": "code",
      "metadata": {
        "id": "AwyO7_iZvT7a",
        "colab": {
          "base_uri": "https://localhost:8080/"
        },
        "outputId": "a2200eae-84d1-4248-e6af-76e72da2b5c3"
      },
      "source": [
        "time_approx, time_exact\n"
      ],
      "execution_count": 80,
      "outputs": [
        {
          "output_type": "execute_result",
          "data": {
            "text/plain": [
              "(615.091717004776, 682.621931552887)"
            ]
          },
          "metadata": {},
          "execution_count": 80
        }
      ]
    },
    {
      "cell_type": "code",
      "metadata": {
        "id": "aHLA-0DnVXxD",
        "colab": {
          "base_uri": "https://localhost:8080/"
        },
        "outputId": "81e47059-9def-4230-884b-e907c1fe9cab"
      },
      "source": [
        "min(min_rmse_exact), min(min_rmse_approx)\n"
      ],
      "execution_count": 81,
      "outputs": [
        {
          "output_type": "execute_result",
          "data": {
            "text/plain": [
              "(4.447475995930877, 4.48055789121361)"
            ]
          },
          "metadata": {},
          "execution_count": 81
        }
      ]
    },
    {
      "cell_type": "code",
      "metadata": {
        "id": "-iUNBRy3W0GY"
      },
      "source": [
        ""
      ],
      "execution_count": 81,
      "outputs": []
    }
  ]
}