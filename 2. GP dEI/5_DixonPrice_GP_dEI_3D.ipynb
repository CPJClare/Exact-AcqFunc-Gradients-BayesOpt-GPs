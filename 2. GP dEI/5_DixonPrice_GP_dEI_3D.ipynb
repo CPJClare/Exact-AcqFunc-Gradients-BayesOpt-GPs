{
  "nbformat": 4,
  "nbformat_minor": 0,
  "metadata": {
    "colab": {
      "name": "5. DixonPrice_GP_dEI_3D.ipynb",
      "provenance": [],
      "collapsed_sections": []
    },
    "kernelspec": {
      "name": "python3",
      "display_name": "Python 3"
    },
    "language_info": {
      "name": "python"
    }
  },
  "cells": [
    {
      "cell_type": "markdown",
      "metadata": {
        "id": "Dqn4dFx7Z2Ir"
      },
      "source": [
        "\n",
        "DixonPrice: 3D\n"
      ]
    },
    {
      "cell_type": "code",
      "metadata": {
        "id": "MJTM_GZZZb5x",
        "colab": {
          "base_uri": "https://localhost:8080/"
        },
        "outputId": "2d0b8364-5b6a-4ee9-86a8-53f6cd5cbf29"
      },
      "source": [
        "pip install pyGPGO\n"
      ],
      "execution_count": null,
      "outputs": [
        {
          "output_type": "stream",
          "name": "stdout",
          "text": [
            "Collecting pyGPGO\n",
            "  Downloading pyGPGO-0.5.1.tar.gz (14 kB)\n",
            "Requirement already satisfied: numpy in /usr/local/lib/python3.7/dist-packages (from pyGPGO) (1.21.5)\n",
            "Requirement already satisfied: mkl in /usr/local/lib/python3.7/dist-packages (from pyGPGO) (2019.0)\n",
            "Requirement already satisfied: scipy in /usr/local/lib/python3.7/dist-packages (from pyGPGO) (1.4.1)\n",
            "Requirement already satisfied: joblib in /usr/local/lib/python3.7/dist-packages (from pyGPGO) (1.1.0)\n",
            "Requirement already satisfied: scikit-learn in /usr/local/lib/python3.7/dist-packages (from pyGPGO) (1.0.2)\n",
            "Requirement already satisfied: Theano-PyMC in /usr/local/lib/python3.7/dist-packages (from pyGPGO) (1.1.2)\n",
            "Requirement already satisfied: pyMC3 in /usr/local/lib/python3.7/dist-packages (from pyGPGO) (3.11.4)\n",
            "Requirement already satisfied: intel-openmp in /usr/local/lib/python3.7/dist-packages (from mkl->pyGPGO) (2022.0.2)\n",
            "Requirement already satisfied: dill in /usr/local/lib/python3.7/dist-packages (from pyMC3->pyGPGO) (0.3.4)\n",
            "Requirement already satisfied: pandas>=0.24.0 in /usr/local/lib/python3.7/dist-packages (from pyMC3->pyGPGO) (1.3.5)\n",
            "Requirement already satisfied: arviz>=0.11.0 in /usr/local/lib/python3.7/dist-packages (from pyMC3->pyGPGO) (0.11.4)\n",
            "Requirement already satisfied: patsy>=0.5.1 in /usr/local/lib/python3.7/dist-packages (from pyMC3->pyGPGO) (0.5.2)\n",
            "Requirement already satisfied: cachetools>=4.2.1 in /usr/local/lib/python3.7/dist-packages (from pyMC3->pyGPGO) (4.2.4)\n",
            "Requirement already satisfied: fastprogress>=0.2.0 in /usr/local/lib/python3.7/dist-packages (from pyMC3->pyGPGO) (1.0.2)\n",
            "Requirement already satisfied: semver>=2.13.0 in /usr/local/lib/python3.7/dist-packages (from pyMC3->pyGPGO) (2.13.0)\n",
            "Requirement already satisfied: typing-extensions>=3.7.4 in /usr/local/lib/python3.7/dist-packages (from pyMC3->pyGPGO) (3.10.0.2)\n",
            "Requirement already satisfied: filelock in /usr/local/lib/python3.7/dist-packages (from Theano-PyMC->pyGPGO) (3.6.0)\n",
            "Requirement already satisfied: matplotlib>=3.0 in /usr/local/lib/python3.7/dist-packages (from arviz>=0.11.0->pyMC3->pyGPGO) (3.2.2)\n",
            "Requirement already satisfied: netcdf4 in /usr/local/lib/python3.7/dist-packages (from arviz>=0.11.0->pyMC3->pyGPGO) (1.5.8)\n",
            "Requirement already satisfied: setuptools>=38.4 in /usr/local/lib/python3.7/dist-packages (from arviz>=0.11.0->pyMC3->pyGPGO) (57.4.0)\n",
            "Requirement already satisfied: packaging in /usr/local/lib/python3.7/dist-packages (from arviz>=0.11.0->pyMC3->pyGPGO) (21.3)\n",
            "Requirement already satisfied: xarray>=0.16.1 in /usr/local/lib/python3.7/dist-packages (from arviz>=0.11.0->pyMC3->pyGPGO) (0.18.2)\n",
            "Requirement already satisfied: kiwisolver>=1.0.1 in /usr/local/lib/python3.7/dist-packages (from matplotlib>=3.0->arviz>=0.11.0->pyMC3->pyGPGO) (1.4.0)\n",
            "Requirement already satisfied: cycler>=0.10 in /usr/local/lib/python3.7/dist-packages (from matplotlib>=3.0->arviz>=0.11.0->pyMC3->pyGPGO) (0.11.0)\n",
            "Requirement already satisfied: pyparsing!=2.0.4,!=2.1.2,!=2.1.6,>=2.0.1 in /usr/local/lib/python3.7/dist-packages (from matplotlib>=3.0->arviz>=0.11.0->pyMC3->pyGPGO) (3.0.7)\n",
            "Requirement already satisfied: python-dateutil>=2.1 in /usr/local/lib/python3.7/dist-packages (from matplotlib>=3.0->arviz>=0.11.0->pyMC3->pyGPGO) (2.8.2)\n",
            "Requirement already satisfied: pytz>=2017.3 in /usr/local/lib/python3.7/dist-packages (from pandas>=0.24.0->pyMC3->pyGPGO) (2018.9)\n",
            "Requirement already satisfied: six in /usr/local/lib/python3.7/dist-packages (from patsy>=0.5.1->pyMC3->pyGPGO) (1.15.0)\n",
            "Requirement already satisfied: cftime in /usr/local/lib/python3.7/dist-packages (from netcdf4->arviz>=0.11.0->pyMC3->pyGPGO) (1.6.0)\n",
            "Requirement already satisfied: threadpoolctl>=2.0.0 in /usr/local/lib/python3.7/dist-packages (from scikit-learn->pyGPGO) (3.1.0)\n",
            "Building wheels for collected packages: pyGPGO\n",
            "  Building wheel for pyGPGO (setup.py) ... \u001b[?25l\u001b[?25hdone\n",
            "  Created wheel for pyGPGO: filename=pyGPGO-0.5.1-py3-none-any.whl size=19879 sha256=f67013fcd0ec7a67c36e52d4689c8a340c89fcd394f42d794e19c5ce6fdc5d7a\n",
            "  Stored in directory: /root/.cache/pip/wheels/c8/5d/0b/2160114e2f1b87791c51b66cf07f89831dbb6f49167950316f\n",
            "Successfully built pyGPGO\n",
            "Installing collected packages: pyGPGO\n",
            "Successfully installed pyGPGO-0.5.1\n"
          ]
        }
      ]
    },
    {
      "cell_type": "code",
      "metadata": {
        "id": "ZJSSPbwPaEUB"
      },
      "source": [
        "### Import:\n",
        "\n",
        "import numpy as np\n",
        "import scipy as sp\n",
        "import pandas as pd\n",
        "import matplotlib.pyplot as plt\n",
        "import warnings\n",
        "import itertools\n",
        "\n",
        "from pyGPGO.GPGO import GPGO\n",
        "from pyGPGO.surrogates.GaussianProcess import GaussianProcess\n",
        "from pyGPGO.acquisition import Acquisition\n",
        "from pyGPGO.covfunc import squaredExponential\n",
        "\n",
        "from joblib import Parallel, delayed\n",
        "from numpy.linalg import solve, cholesky\n",
        "from scipy.spatial.distance import cdist\n",
        "from scipy.optimize import minimize\n",
        "from scipy.stats import norm\n",
        "import time\n",
        "\n",
        "warnings.filterwarnings(\"ignore\", category=RuntimeWarning)\n"
      ],
      "execution_count": null,
      "outputs": []
    },
    {
      "cell_type": "code",
      "metadata": {
        "id": "OeYcTUNoaJWa"
      },
      "source": [
        "### Inputs:\n",
        "\n",
        "func = 'DixonPrice'\n",
        "n_test = 500\n",
        "eps = 1e-08\n",
        "\n",
        "util_grad_exact = 'dEI_GP'\n",
        "util_grad_approx = 'ExpectedImprovement'\n",
        "\n",
        "n_init = 5 # random initialisations\n",
        "iters = 30\n",
        "opt = True"
      ],
      "execution_count": null,
      "outputs": []
    },
    {
      "cell_type": "code",
      "metadata": {
        "id": "xpaEOjdzaPMS"
      },
      "source": [
        "### Objective Function - DixonPrice(x) 3-D:\n",
        "\n",
        "def objfunc(x1_training, x2_training, x3_training):\n",
        "            return  operator * ((x1_training - 1)**2\n",
        "                            + 2 * (2 * x2_training ** 2 - x1_training)**2\n",
        "                            + 3 * (2 * x3_training ** 2 - x2_training)**2      \n",
        "                           )\n",
        "        \n",
        "# Constraints:\n",
        "lb = -10\n",
        "ub = +10\n",
        "    \n",
        "# Input array dimension(s):\n",
        "dim = 3\n",
        "\n",
        "# 3-D inputs' parameter bounds:\n",
        "param = {'x1_training': ('cont', [lb, ub]),\n",
        "                 'x2_training': ('cont', [lb, ub]),\n",
        "                'x3_training': ('cont', [lb, ub])\n",
        "                 }\n",
        "    \n",
        "# True y bounds:\n",
        "y_lb = 0\n",
        "operator = -1 # targets global minimum \n",
        "y_global_orig = y_lb * operator # targets global minimum\n",
        "    \n",
        "# Test data:\n",
        "x1_test = np.linspace(lb, ub, n_test)\n",
        "x2_test = np.linspace(lb, ub, n_test)\n",
        "x3_test = np.linspace(lb, ub, n_test)\n",
        "Xstar = np.column_stack((x1_test, x2_test, x3_test))\n"
      ],
      "execution_count": null,
      "outputs": []
    },
    {
      "cell_type": "code",
      "metadata": {
        "id": "eYpI3Zm4aGxi"
      },
      "source": [
        "n_start_AcqFunc = iters #multi-start iterations to avoid local optima in AcqFunc optimization\n"
      ],
      "execution_count": null,
      "outputs": []
    },
    {
      "cell_type": "code",
      "metadata": {
        "id": "oO_GUmOoaV0T"
      },
      "source": [
        "### Cumulative Regret Calculator:\n",
        "\n",
        "def min_max_array(x):\n",
        "    new_list = []\n",
        "    for i, num in enumerate(x):\n",
        "            new_list.append(np.min(x[0:i+1]))\n",
        "    return new_list\n",
        "  "
      ],
      "execution_count": null,
      "outputs": []
    },
    {
      "cell_type": "code",
      "metadata": {
        "id": "kuuJx0IMam9S"
      },
      "source": [
        "### Surrogate derivatives: \n",
        "\n",
        "cov_func = squaredExponential()\n",
        "\n",
        "def kronDelta(X, Xstar):                     # Kronecker's Delta method\n",
        "    return cdist(X, Xstar) < np.finfo(np.float32).eps\n",
        "\n",
        "def se(X, Xstar, sigmaf, l, sigman):         # S.E. kernel method\n",
        "    return sigmaf * np.exp(-0.5 * cdist(X, Xstar) ** 2 / l ** 2) + sigman * kronDelta(X, Xstar)\n",
        "\n",
        "def delta(X, Xstar):                         # Distance between training X and test Xstar vectors\n",
        "    return (X - Xstar)\n",
        "   \n",
        "def der_covmat(X, Xstar, sigmaf, l, sigman): # Covariance matrix derivative terms (i.e. exact, first-order)\n",
        "    nx = len(X)\n",
        "    ny = len(Xstar)\n",
        "    return np.round(np.array([(delta(np.atleast_2d(i), np.atleast_2d(j))[0] * se(np.atleast_2d(i), np.atleast_2d(j), sigmaf, l, sigman)[0]).sum() for (i, j) in itertools.product(X, Xstar)]).reshape(nx, ny), 8)\n",
        "\n",
        "class dGaussianProcess(GaussianProcess):    # Via inheritance, also optimises hyperparameters when opt = TRUE\n",
        "    \n",
        "    def AcqGrad(self, Xstar):               # Method returning exact, first-order derivatives of the GP's posterior mean and standard deviation\n",
        "        Xstar = np.atleast_2d(Xstar)\n",
        "        Kstar = self.covfunc.K(self.X, Xstar).T\n",
        "        \n",
        "        dKstar = der_covmat(self.X, Xstar, self.covfunc.sigmaf, self.covfunc.l, self.covfunc.sigman).T\n",
        "        alpha_Kstar = np.dot(np.linalg.inv(self.K + (self.covfunc.sigman**2) * np.eye(len(self.X))), Kstar.T)\n",
        "        \n",
        "        dm = np.dot(dKstar, self.alpha)\n",
        "        ds = -2 * np.dot(dKstar, alpha_Kstar)\n",
        "        \n",
        "        return dm, ds           \n",
        "        "
      ],
      "execution_count": null,
      "outputs": []
    },
    {
      "cell_type": "code",
      "metadata": {
        "id": "_Dc3YVHVaXz7"
      },
      "source": [
        "class Acquisition_new(Acquisition):    \n",
        "    def __init__(self, mode, eps=eps, **params):\n",
        "        \n",
        "        self.params = params\n",
        "        self.eps = eps\n",
        "\n",
        "        mode_dict = {\n",
        "            'dEI_GP': self.dEI_GP\n",
        "        }\n",
        "\n",
        "        self.f = mode_dict[mode]\n",
        "    \n",
        "    def dEI_GP(self, tau, mean, std, ds, dm):\n",
        "        gamma = (mean - tau - self.eps) / (std + self.eps)\n",
        "        gamma_h = (mean - tau) / (std + self.eps)\n",
        "        dsdx = ds / (2 * (std + self.eps))\n",
        "        dmdx = (dm - gamma * dsdx) / (std + self.eps)\n",
        "        \n",
        "        f = (std + self.eps) * (gamma * norm.cdf(gamma) + norm.pdf(gamma))\n",
        "        df1 = f / (std + self.eps) * dsdx \n",
        "        df2 = (std + self.eps) * norm.cdf(gamma) * dmdx\n",
        "        df = (df1 + df2)[0]\n",
        "        df_arr = []\n",
        "\n",
        "        for j in range(0, dim):\n",
        "          df_arr.append(df)\n",
        "        return f, np.asarray(df_arr).transpose()\n",
        "        \n",
        "    def d_eval(self, tau, mean, std, ds, dm):\n",
        "    \n",
        "        return self.f(tau, mean, std, ds, dm, **self.params)\n",
        "        "
      ],
      "execution_count": null,
      "outputs": []
    },
    {
      "cell_type": "code",
      "metadata": {
        "id": "PITEQC8YSl7i"
      },
      "source": [
        "## GPGO_multi: \n",
        "\n",
        "class GPGO_multi(GPGO):\n",
        "    n_start = n_start_AcqFunc\n",
        "\n",
        "    def __init__(self, surrogate, acquisition, f, parameter_dict, n_jobs=1):\n",
        "        self.GP = surrogate\n",
        "        self.A = acquisition\n",
        "        self.f = f\n",
        "        self.parameters = parameter_dict\n",
        "        self.n_jobs = n_jobs\n",
        "\n",
        "        self.parameter_key = list(parameter_dict.keys())\n",
        "        self.parameter_value = list(parameter_dict.values())\n",
        "        self.parameter_type = [p[0] for p in self.parameter_value]\n",
        "        self.parameter_range = [p[1] for p in self.parameter_value]\n",
        "\n",
        "        self.history = []\n",
        "        self.header =   'Evaluation \\t Proposed point \\t  Current eval. \\t  Best eval. \\t         Max AcqFunc.'\n",
        "        self.template = '{:3}\\t {}\\t {:3}\\t {:3}\\t {:3}'\n",
        "\n",
        "    def _optimizeAcq(self, method='L-BFGS-B', n_start=n_start_AcqFunc):\n",
        "        \n",
        "        start_points_dict = [self._sampleParam() for i in range(n_start)]\n",
        "        start_points_arr = np.array([list(s.values())\n",
        "                                     for s in start_points_dict])\n",
        "        x_best = np.empty((n_start, len(self.parameter_key)))\n",
        "        f_best = np.empty((n_start,))\n",
        "        opt = Parallel(n_jobs=self.n_jobs)(delayed(minimize)(self._acqWrapper,\n",
        "                                                                 x0=start_point,\n",
        "                                                                 method=method,\n",
        "                                                                 bounds=self.parameter_range) for start_point in\n",
        "                                               start_points_arr)\n",
        "        x_best = np.array([res.x for res in opt])\n",
        "        f_best = np.array([np.atleast_1d(res.fun)[0] for res in opt])\n",
        "        f_best_min = min(f_best)\n",
        "\n",
        "        self.x_best = x_best\n",
        "        self.f_best = f_best\n",
        "        self.f_best_min = f_best_min\n",
        "        self.best = x_best[np.argmin(f_best)]\n",
        "        self.start_points_arr = start_points_arr\n",
        "        \n",
        "        self.history.append(self.f_best_min)\n",
        "          \n",
        "    def _printInit(self):\n",
        "        print(self.header)\n",
        "        for init_eval in range(self.init_evals):\n",
        "            print(self.template.format('init', self.GP.X[init_eval], self.GP.y[init_eval], self.tau, ''))\n",
        "      \n",
        "    def _printCurrent(self):\n",
        "        OKGREEN = '\\033[92m'\n",
        "        ENDC = '\\033[0m'\n",
        "        BOLD = '\\033[1m'\n",
        "        eval = str(len(self.GP.y) - self.init_evals)\n",
        "        proposed = str(self.best)\n",
        "        curr_eval = str(self.GP.y[-1])\n",
        "        curr_best = str(self.tau)\n",
        "        max_acqfunc = str(self.f_best_min)\n",
        "        if float(curr_eval) >= float(curr_best):\n",
        "            eval = BOLD + OKGREEN + eval + ENDC\n",
        "            proposed = BOLD + OKGREEN + proposed + ENDC\n",
        "            curr_eval = BOLD + OKGREEN + curr_eval + ENDC\n",
        "            curr_best = BOLD + OKGREEN + curr_best + ENDC\n",
        "            max_acqfunc = BOLD + OKGREEN + str(self.f_best_min) + ENDC\n",
        "        print(self.template.format(eval, proposed, curr_eval, curr_best, max_acqfunc))\n",
        "\n",
        "    def run(self, max_iter=10, init_evals=3, resume=False):\n",
        "        \n",
        "        if not resume:\n",
        "            self.init_evals = init_evals\n",
        "            self._firstRun(self.init_evals)\n",
        "            self._printInit()\n",
        "        for iteration in range(max_iter):\n",
        "            self._optimizeAcq()\n",
        "            self.updateGP()\n",
        "            self._printCurrent()\n"
      ],
      "execution_count": null,
      "outputs": []
    },
    {
      "cell_type": "code",
      "metadata": {
        "id": "b_B-w81BJxKN"
      },
      "source": [
        "## dGPGO:\n",
        "\n",
        "grad = 1\n",
        "\n",
        "class dGPGO(GPGO):\n",
        "    n_start = n_start_AcqFunc\n",
        "\n",
        "    def __init__(self, surrogate, acquisition, f, parameter_dict, n_jobs=1):\n",
        "        self.GP = surrogate\n",
        "        self.A = acquisition\n",
        "        self.f = f\n",
        "        self.parameters = parameter_dict\n",
        "        self.n_jobs = n_jobs\n",
        "\n",
        "        self.parameter_key = list(parameter_dict.keys())\n",
        "        self.parameter_value = list(parameter_dict.values())\n",
        "        self.parameter_type = [p[0] for p in self.parameter_value]\n",
        "        self.parameter_range = [p[1] for p in self.parameter_value]\n",
        "\n",
        "        self.history = []\n",
        "        self.header =   'Evaluation \\t Proposed point \\t  Current eval. \\t  Best eval. \\t         Max AcqFunc.'\n",
        "        self.template = '{:3}\\t {}\\t {:3}\\t {:3}\\t {:3}'\n",
        "\n",
        "    def d_optimizeAcq(self, method='L-BFGS-B', n_start=n_start_AcqFunc):\n",
        "        start_points_dict = [self._sampleParam() for i in range(n_start)]\n",
        "        start_points_arr = np.array([list(s.values())\n",
        "                                     for s in start_points_dict])\n",
        "        x_best = np.empty((n_start, len(self.parameter_key)))\n",
        "        f_best = np.empty((n_start,))\n",
        "        opt = Parallel(n_jobs=self.n_jobs)(delayed(minimize)(self.acqfunc,\n",
        "                                                                 x0=start_point,\n",
        "                                                                 method=method,\n",
        "                                                                 jac = True,\n",
        "                                                                 bounds=self.parameter_range) for start_point in\n",
        "                                               start_points_arr)\n",
        "        x_best = np.array([res.x for res in opt])\n",
        "        f_best = np.array([np.atleast_1d(res.fun)[0] for res in opt])\n",
        "        f_best_min = min(f_best)\n",
        "\n",
        "        self.x_best = x_best\n",
        "        self.f_best = f_best\n",
        "        self.f_best_min = f_best_min\n",
        "        self.best = x_best[np.argmin(f_best)]\n",
        "        self.start_points_arr = start_points_arr\n",
        "\n",
        "        self.history.append(self.f_best_min)\n",
        "\n",
        "    def _printInit(self):\n",
        "        print(self.header)\n",
        "        for init_eval in range(self.init_evals):\n",
        "            print(self.template.format('init', self.GP.X[init_eval], self.GP.y[init_eval], self.tau, ''))\n",
        "      \n",
        "    def _printCurrent(self):\n",
        "        OKGREEN = '\\033[92m'\n",
        "        ENDC = '\\033[0m'\n",
        "        BOLD = '\\033[1m'\n",
        "        eval = str(len(self.GP.y) - self.init_evals)\n",
        "        proposed = str(self.best)\n",
        "        curr_eval = str(self.GP.y[-1])\n",
        "        curr_best = str(self.tau)\n",
        "        max_acqfunc = str(self.f_best_min)\n",
        "        if float(curr_eval) >= float(curr_best):\n",
        "            eval = BOLD + OKGREEN + eval + ENDC\n",
        "            proposed = BOLD + OKGREEN + proposed + ENDC\n",
        "            curr_eval = BOLD + OKGREEN + curr_eval + ENDC\n",
        "            curr_best = BOLD + OKGREEN + curr_best + ENDC\n",
        "            max_acqfunc = BOLD + OKGREEN + str(self.f_best_min) + ENDC\n",
        "        print(self.template.format(eval, proposed, curr_eval, curr_best, max_acqfunc))\n",
        "\n",
        "    def run(self, max_iter=10, init_evals=3, resume=False):\n",
        "        \n",
        "        if not resume:\n",
        "            self.init_evals = init_evals\n",
        "            self._firstRun(self.init_evals)\n",
        "            self._printInit()\n",
        "        for iteration in range(max_iter):\n",
        "            self.d_optimizeAcq()\n",
        "            self.updateGP()\n",
        "            self._printCurrent()\n",
        "\n",
        "    def acqfunc(self, xnew, n_start=n_start_AcqFunc):\n",
        "        new_mean, new_var = self.GP.predict(xnew, return_std=True)\n",
        "        new_std = np.sqrt(new_var + eps)\n",
        "        dm, ds = self.GP.AcqGrad(xnew)\n",
        "        f, df = self.A.d_eval(self.tau, new_mean, new_std, ds=ds, dm=dm)\n",
        "\n",
        "        return -f, -df * grad\n"
      ],
      "execution_count": null,
      "outputs": []
    },
    {
      "cell_type": "code",
      "metadata": {
        "id": "qXIKGuXVGEg2"
      },
      "source": [
        "###Reproducible set-seeds:\n",
        "\n",
        "run_num_1 = 1\n",
        "run_num_2 = 2\n",
        "run_num_3 = 3\n",
        "run_num_4 = 4\n",
        "run_num_5 = 5\n",
        "run_num_6 = 6\n",
        "run_num_7 = 7\n",
        "run_num_8 = 8\n",
        "run_num_9 = 9\n",
        "run_num_10 = 10\n",
        "run_num_11 = 11\n",
        "run_num_12 = 12\n",
        "run_num_13 = 13\n",
        "run_num_14 = 14\n",
        "run_num_15 = 15\n",
        "run_num_16 = 16\n",
        "run_num_17 = 17\n",
        "run_num_18 = 18\n",
        "run_num_19 = 19\n",
        "run_num_20 = 20\n"
      ],
      "execution_count": null,
      "outputs": []
    },
    {
      "cell_type": "code",
      "metadata": {
        "colab": {
          "base_uri": "https://localhost:8080/"
        },
        "id": "JEhagQmnTVIK",
        "outputId": "48c65238-5a31-40fd-fef6-d2706fed46f6"
      },
      "source": [
        "start_approx = time.time()\n",
        "start_approx\n"
      ],
      "execution_count": null,
      "outputs": [
        {
          "output_type": "execute_result",
          "data": {
            "text/plain": [
              "1649162352.5368264"
            ]
          },
          "metadata": {},
          "execution_count": 12
        }
      ]
    },
    {
      "cell_type": "code",
      "metadata": {
        "colab": {
          "base_uri": "https://localhost:8080/"
        },
        "id": "aH0YSTXufD1v",
        "outputId": "448c59ab-638b-4102-a934-e6aff266ffa2"
      },
      "source": [
        "### ESTIMATED GP EI GRADIENTS\n",
        "\n",
        "np.random.seed(run_num_1)\n",
        "surrogate_approx_1 = GaussianProcess(cov_func, optimize=opt)\n",
        "\n",
        "approx_1 = GPGO_multi(surrogate_approx_1, Acquisition(util_grad_approx), objfunc, param)\n",
        "approx_1.run(init_evals=n_init, max_iter=iters)\n"
      ],
      "execution_count": null,
      "outputs": [
        {
          "output_type": "stream",
          "name": "stdout",
          "text": [
            "Evaluation \t Proposed point \t  Current eval. \t  Best eval. \t         Max AcqFunc.\n",
            "init\t [-1.65955991  4.40648987 -9.9977125 ]\t -117949.69994259246\t -1743.4541121077734\t    \n",
            "init\t [-3.95334855 -7.06488218 -8.1532281 ]\t -80377.19459880023\t -1743.4541121077734\t    \n",
            "init\t [-6.27479577 -3.08878546 -2.06465052]\t -1743.4541121077734\t -1743.4541121077734\t    \n",
            "init\t [ 0.77633468 -1.61610971  3.70439001]\t -2573.2528931184784\t -1743.4541121077734\t    \n",
            "init\t [-5.91095501  7.56234873 -9.45224814]\t -116840.74897847573\t -1743.4541121077734\t    \n",
            "1  \t [-8.03306332 -1.5778475   9.1577906 ]\t -86415.93772353831\t -1743.4541121077734\t -1743.4541121077734\n",
            "2  \t [-5.34051452  6.14210391 -2.24278712]\t -13140.755438034004\t -1743.4541121077734\t -1743.4541121077734\n",
            "3  \t [ 8.37203556 -9.9919595   9.53518298]\t -183648.52554820437\t -1743.4541121077734\t -1743.4541121077734\n",
            "4  \t [ 4.63457201 -4.80603213 -4.85861402]\t -11585.604670094763\t -1743.4541121077734\t -1743.4541121077734\n",
            "5  \t [-3.51458507  8.6139047   6.52216403]\t -63715.6072154213\t -1743.4541121077734\t -1743.4541121077734\n",
            "6  \t [10. 10. 10.]\t -180581.0\t -1743.4541121077734\t -1743.4541121077734\n",
            "7  \t [ 10. -10. -10.]\t -204581.0\t -1743.4541121077734\t -1743.4541121077734\n",
            "8  \t [ 3.91528429  5.55696954 -1.87034262]\t -6706.695269773627\t -1743.4541121077734\t -1743.4541121077734\n",
            "9  \t [-4.30752238 -8.77926638  4.07038662]\t -55517.0918391579\t -1743.4541121077734\t -1743.4541121077734\n",
            "10 \t [7.46136297 3.12403095 6.46006081]\t -19696.43286089338\t -1743.4541121077734\t -1743.454112107403\n",
            "11 \t [ 10.           1.61224438 -10.        ]\t -118200.21040076712\t -1743.4541121077734\t -1743.4541121077734\n",
            "12 \t [-10. -10.  10.]\t -220621.0\t -1743.4541121077734\t -1743.4541121077436\n",
            "13 \t [ 9.65179579  8.2747925  -3.05261159]\t -32803.7767092942\t -1743.4541121077734\t -1743.4541121077734\n",
            "14 \t [-9.79655087 -0.19609376 -9.09035709]\t -82447.81014507987\t -1743.4541121077734\t -1743.4541121077705\n",
            "15 \t [-10.         -10.          -1.93827718]\t -89241.20344790419\t -1743.4541121077734\t -1743.4541121077202\n",
            "16 \t [-10.  10.  10.]\t -196621.0\t -1743.4541121077734\t -1743.45411208658\n",
            "17 \t [ 9.27831777 -4.38088926  2.04293254]\t -2248.86512904509\t -1743.4541121077734\t -1743.4541121077684\n",
            "18 \t [  3.96563209 -10.           1.00027125]\t -77299.8199126438\t -1743.4541121077734\t -1743.45411210748\n",
            "19 \t [8.83772492 7.39821547 4.07998997]\t -22325.56913947192\t -1743.4541121077734\t -1743.4541121077734\n",
            "20 \t [-10. -10. -10.]\t -220621.0\t -1743.4541121077734\t -1743.4541121077734\n",
            "21 \t [ 6.34764541  8.15289292 -9.94984881]\t -140204.11774035683\t -1743.4541121077734\t -1743.45411206609\n",
            "22 \t [-4.70174104  2.11522276  3.88314194]\t -2764.2808204419052\t -1743.4541121077734\t -1743.454111237259\n",
            "23 \t [ 3.79076228 10.         10.        ]\t -185303.9182879077\t -1743.4541121077734\t -1743.4541121072648\n",
            "\u001b[1m\u001b[92m24\u001b[0m\t \u001b[1m\u001b[92m[-0.52117849  0.24819199 -3.12161428]\u001b[0m\t \u001b[1m\u001b[92m-1113.764891919881\u001b[0m\t \u001b[1m\u001b[92m-1113.764891919881\u001b[0m\t \u001b[1m\u001b[92m-1743.4541119074497\u001b[0m\n",
            "25 \t [0.472301   3.43147858 9.41319575]\t -91669.15718649968\t -1113.764891919881\t -1113.7648915270402\n",
            "26 \t [-0.29325092  9.85962715 -3.51677394]\t -76495.53945343259\t -1113.764891919881\t -1113.7648919143799\n",
            "27 \t [-0.49243314 -4.58007791 10.        ]\t -129164.69014631707\t -1113.764891919881\t -1113.7648919017788\n",
            "28 \t [-10.          10.           2.35293267]\t -88324.45131146625\t -1113.764891919881\t -1113.764891896752\n",
            "29 \t [  1.38477699 -10.         -10.        ]\t -211196.16167671437\t -1113.764891919881\t -1113.764891904377\n",
            "30 \t [10.         -2.35530964 10.        ]\t -122926.41192570268\t -1113.764891919881\t -1113.764891689519\n"
          ]
        }
      ]
    },
    {
      "cell_type": "code",
      "metadata": {
        "colab": {
          "base_uri": "https://localhost:8080/"
        },
        "id": "wTxsSZxFGBB5",
        "outputId": "09df06b2-9bcd-4407-a6fa-1de04caf4563"
      },
      "source": [
        "### ESTIMATED GP EI GRADIENTS\n",
        "\n",
        "np.random.seed(run_num_2)\n",
        "surrogate_approx_2 = GaussianProcess(cov_func, optimize=opt)\n",
        "\n",
        "approx_2 = GPGO_multi(surrogate_approx_2, Acquisition(util_grad_approx), objfunc, param)\n",
        "approx_2.run(init_evals=n_init, max_iter=iters)\n"
      ],
      "execution_count": null,
      "outputs": [
        {
          "output_type": "stream",
          "name": "stdout",
          "text": [
            "Evaluation \t Proposed point \t  Current eval. \t  Best eval. \t         Max AcqFunc.\n",
            "init\t [-1.28010196 -9.48147536  0.99324956]\t -65976.47275174354\t -579.2546019074869\t    \n",
            "init\t [-1.29355215 -1.59264396 -3.39330358]\t -1905.0058741906205\t -579.2546019074869\t    \n",
            "init\t [-5.90702732  2.38541933 -4.00690653]\t -3296.179887891325\t -579.2546019074869\t    \n",
            "init\t [-4.6634545   2.42267666  0.58284189]\t -579.2546019074869\t -579.2546019074869\t    \n",
            "init\t [-7.30840109  0.27156243 -6.31120269]\t -19089.001096649215\t -579.2546019074869\t    \n",
            "1  \t [ 6.17490222 10.         10.        ]\t -183463.116669407\t -579.2546019074869\t -579.2546019074869\n",
            "2  \t [0.98993642 6.90226231 9.77019402]\t -119362.43308455861\t -579.2546019074869\t -579.2546019074869\n",
            "3  \t [ 9.60970158 -5.07492822  5.80487605]\t -19340.238894145325\t -579.2546019074869\t -579.2546019074869\n",
            "4  \t [ 2.89052379 -3.76941193  7.60597912]\t -44126.90703116023\t -579.2546019074869\t -579.2546019074869\n",
            "5  \t [9.47735243 3.96398709 2.5157724 ]\t -1262.1549087902345\t -579.2546019074869\t -579.2546019074869\n",
            "6  \t [ 8.77937768 -3.87353549 -6.37757103]\t -22749.403915268038\t -579.2546019074869\t -579.2546019074869\n",
            "7  \t [-10.  10.  10.]\t -196621.0\t -579.2546019074869\t -579.2546019074869\n",
            "8  \t [-10.  10. -10.]\t -196621.0\t -579.2546019074869\t -579.2546019074869\n",
            "9  \t [ -6.29187284 -10.         -10.        ]\t -217465.84501058265\t -579.2546019074869\t -579.2546019074869\n",
            "10 \t [ 2.90787822  8.64101201 -5.34154591]\t -49919.38480768621\t -579.2546019074869\t -579.2546019074869\n",
            "11 \t [-8.3482833  -3.17166163  8.97835999]\t -82783.87408520737\t -579.2546019074869\t -579.2546019074869\n",
            "12 \t [  9.75312066 -10.          -0.12341001]\t -72766.19770740833\t -579.2546019074869\t -579.2546019062783\n",
            "13 \t [ -0.60235068 -10.          10.        ]\t -212785.17372423533\t -579.2546019074869\t -579.254601897011\n",
            "14 \t [ 10.  10. -10.]\t -180581.0\t -579.2546019074869\t -579.2546019074846\n",
            "15 \t [-10.         10.         -0.4409206]\t -88598.12423097227\t -579.2546019074869\t -579.2546019074869\n",
            "16 \t [-9.06110355 -9.56744783 -1.99396877]\t -74852.34852606223\t -579.2546019074869\t -579.254601907434\n",
            "\u001b[1m\u001b[92m17\u001b[0m\t \u001b[1m\u001b[92m[ 5.10849596  2.45002436 -2.56261647]\u001b[0m\t \u001b[1m\u001b[92m-454.4522761495854\u001b[0m\t \u001b[1m\u001b[92m-454.4522761495854\u001b[0m\t \u001b[1m\u001b[92m-579.2546016493849\u001b[0m\n",
            "18 \t [-0.47497186 -5.75625501 -3.13046353]\t -10840.434725745177\t -454.4522761495854\t -454.4522761495854\n",
            "19 \t [ 10. -10. -10.]\t -204581.0\t -454.4522761495854\t -454.4522760955481\n",
            "20 \t [ 9.12575422  2.82162308 10.        ]\t -116796.37304281456\t -454.4522761495854\t -454.452276141747\n",
            "21 \t [ 9.86128636  2.73741105 -8.77847696]\t -68884.14112678247\t -454.4522761495854\t -454.4522758855618\n",
            "22 \t [-1.12924534  3.38926372 -9.13872648]\t -81503.95475392017\t -454.4522761495854\t -454.45227611606094\n",
            "23 \t [2.95053447 7.30370417 2.28340394]\t -21556.087773107374\t -454.4522761495854\t -454.4522761390818\n",
            "24 \t [-10.           4.41831993   4.58815342]\t -9191.69955635943\t -454.4522761495854\t -454.45227610921705\n",
            "25 \t [-5.89953807 -3.72686159  2.22709521]\t -2874.7935675624185\t -454.4522761495854\t -454.4522756862293\n",
            "26 \t [-4.23646677  8.210507    3.64254092]\t -39711.01440605241\t -454.4522761495854\t -454.45227573530167\n",
            "27 \t [ 2.00842262 -9.87438548 -1.49428301]\t -75114.820765863\t -454.4522761495854\t -454.4522761495854\n",
            "28 \t [10.         10.         -1.39877664]\t -72392.14914953343\t -454.4522761495854\t -454.45227614634666\n",
            "29 \t [-2.82455107  0.25511699  3.87014867]\t -2678.5333665518265\t -454.4522761495854\t -454.4522761495854\n",
            "30 \t [ 2.35106346 -8.62539219 -7.08518753]\t -78552.80462599786\t -454.4522761495854\t -454.4522761495854\n"
          ]
        }
      ]
    },
    {
      "cell_type": "code",
      "metadata": {
        "colab": {
          "base_uri": "https://localhost:8080/"
        },
        "id": "-dgzIrUIGCGT",
        "outputId": "1d126a28-b33e-49b2-d4a7-499ff5ab5cc7"
      },
      "source": [
        "### ESTIMATED GP EI GRADIENTS\n",
        "\n",
        "np.random.seed(run_num_3)\n",
        "surrogate_approx_3 = GaussianProcess(cov_func, optimize=opt)\n",
        "\n",
        "approx_3 = GPGO_multi(surrogate_approx_3, Acquisition(util_grad_approx), objfunc, param)\n",
        "approx_3.run(init_evals=n_init, max_iter=iters)\n"
      ],
      "execution_count": null,
      "outputs": [
        {
          "output_type": "stream",
          "name": "stdout",
          "text": [
            "Evaluation \t Proposed point \t  Current eval. \t  Best eval. \t         Max AcqFunc.\n",
            "init\t [ 1.01595805  4.16295645 -4.18190522]\t -5112.352385443115\t -5112.352385443115\t    \n",
            "init\t [0.2165521  7.85893909 7.92586178]\t -72027.10255913956\t -5112.352385443115\t    \n",
            "init\t [-7.48829379 -5.85514244 -8.97065593]\t -95107.57411907075\t -5112.352385443115\t    \n",
            "init\t [-1.18380313 -9.40247578 -0.86333551]\t -63726.548838065995\t -5112.352385443115\t    \n",
            "init\t [ 2.98288095 -4.43025435  3.52509804]\t -5207.626899787465\t -5112.352385443115\t    \n",
            "1  \t [9.51990845 3.44767352 8.05668217]\t -48388.97288671367\t -5112.352385443115\t -5112.352385443115\n",
            "2  \t [-4.79309855  3.83955024  7.91140656]\t -46554.468417027776\t -5112.352385443115\t -5112.352385443115\n",
            "3  \t [ 4.12112367 -8.76918568 -4.10613003]\t -50231.76564197207\t -5112.352385443115\t -5112.352385443115\n",
            "4  \t [ 1.06865668 -1.61214113  9.66323576]\t -106482.0605763776\t -5112.352385443115\t -5112.352385443115\n",
            "5  \t [-7.84297806  5.69391695 -0.02389563]\t -10741.453238983686\t -5112.352385443115\t -5112.352385443115\n",
            "6  \t [-9.97354931  3.06806496 -8.28975197]\t -55946.68317506418\t -5112.352385443115\t -5112.352385443115\n",
            "7  \t [-10. -10.  10.]\t -220621.0\t -5112.352385443115\t -5112.352385443115\n",
            "8  \t [ 7.17786075 -7.83402432  1.19325839]\t -27091.47249706207\t -5112.352385443115\t -5112.352385443115\n",
            "9  \t [ 10.  10. -10.]\t -180581.0\t -5112.352385443115\t -5112.352385443115\n",
            "10 \t [ 1.60163764 -2.58603661 -9.29669219]\t -92618.34107490626\t -5112.352385443115\t -5112.352385443115\n",
            "11 \t [ 0.66879002 -4.72670094  4.78896619]\t -11554.273121193648\t -5112.352385443115\t -5112.352385443115\n",
            "12 \t [5.82645032 9.68093393 0.62667776]\t -66228.34642302197\t -5112.352385443115\t -5112.352385443115\n",
            "13 \t [ 9.64547412 -9.09801477  9.60726792]\t -161241.6064100929\t -5112.352385443115\t -5112.352385443115\n",
            "\u001b[1m\u001b[92m14\u001b[0m\t \u001b[1m\u001b[92m[-9.06019843 -2.34847653  2.26940384]\u001b[0m\t \u001b[1m\u001b[92m-1388.4759916398918\u001b[0m\t \u001b[1m\u001b[92m-1388.4759916398918\u001b[0m\t \u001b[1m\u001b[92m-5112.352385443113\u001b[0m\n",
            "15 \t [ 9.69640151 -2.35649489 -5.86950199]\t -15312.967216807909\t -1388.4759916398918\t -1388.47599163989\n",
            "16 \t [-10.          10.           7.93837447]\t -128713.76636962804\t -1388.4759916398918\t -1388.4759916397186\n",
            "17 \t [ 10. -10. -10.]\t -204581.0\t -1388.4759916398918\t -1388.475991639881\n",
            "18 \t [-0.3910662  10.         -9.63028014]\t -172699.6190200095\t -1388.4759916398918\t -1388.4759916398782\n",
            "\u001b[1m\u001b[92m19\u001b[0m\t \u001b[1m\u001b[92m[6.41736487 1.31371812 0.23667094]\u001b[0m\t \u001b[1m\u001b[92m-51.2702427383921\u001b[0m\t \u001b[1m\u001b[92m-51.2702427383921\u001b[0m\t \u001b[1m\u001b[92m-1388.4759916362384\u001b[0m\n",
            "20 \t [ 5.82659388  3.52786674 -8.65689566]\t -65010.32804297375\t -51.2702427383921\t -51.27024180894344\n",
            "21 \t [  0.16128149 -10.          10.        ]\t -212171.73028131007\t -51.2702427383921\t -51.27024273251306\n",
            "22 \t [-7.64011493  9.21040263 -5.90042203]\t -73899.03305463209\t -51.2702427383921\t -51.270241714362534\n",
            "23 \t [-10.          -2.46752836  10.        ]\t -124083.97359263792\t -51.2702427383921\t -51.27024268560379\n",
            "24 \t [  0.36427365 -10.         -10.        ]\t -212009.25061850477\t -51.2702427383921\t -51.27024242849911\n",
            "25 \t [-3.89208186 -1.47936978 -2.40374089]\t -670.4481539185322\t -51.2702427383921\t -51.2702427243441\n",
            "26 \t [-10.          -9.69692619  -0.16675443]\t -78862.46141677206\t -51.2702427383921\t -51.27024273834862\n",
            "27 \t [ -2.43739485   3.14334979 -10.        ]\t -117255.00161293674\t -51.2702427383921\t -51.270241174388595\n",
            "28 \t [0.91430117 1.83426869 2.24148793]\t -270.05330192063775\t -51.2702427383921\t -51.27024126709738\n",
            "29 \t [-1.28958121 10.          0.18227578]\t -81336.25949954774\t -51.2702427383921\t -51.270242449689256\n",
            "30 \t [10.          5.32342126 -3.03201833]\t -4950.515970020275\t -51.2702427383921\t -51.270242019202335\n"
          ]
        }
      ]
    },
    {
      "cell_type": "code",
      "metadata": {
        "colab": {
          "base_uri": "https://localhost:8080/"
        },
        "id": "hOtG-2sCGCKS",
        "outputId": "24a04f99-bea5-4696-c8b5-30e9f6e5a843"
      },
      "source": [
        "### ESTIMATED GP EI GRADIENTS\n",
        "\n",
        "np.random.seed(run_num_4)\n",
        "surrogate_approx_4 = GaussianProcess(cov_func, optimize=opt)\n",
        "\n",
        "approx_4 = GPGO_multi(surrogate_approx_4, Acquisition(util_grad_approx), objfunc, param)\n",
        "approx_4.run(init_evals=n_init, max_iter=iters)\n"
      ],
      "execution_count": null,
      "outputs": [
        {
          "output_type": "stream",
          "name": "stdout",
          "text": [
            "Evaluation \t Proposed point \t  Current eval. \t  Best eval. \t         Max AcqFunc.\n",
            "init\t [9.34059678 0.94464498 9.4536872 ]\t -95022.01065457039\t -12458.30178377884\t    \n",
            "init\t [ 4.29631987  3.95457649 -5.67821009]\t -12458.30178377884\t -12458.30178377884\t    \n",
            "init\t [ 9.5254891  -9.8753949  -4.94035275]\t -79242.42901009263\t -12458.30178377884\t    \n",
            "init\t [-1.30416935  5.58765844 -6.04629851]\t -21812.938480423\t -12458.30178377884\t    \n",
            "init\t [ 7.25986471  9.66801354 -6.72315517]\t -84163.5372919417\t -12458.30178377884\t    \n",
            "1  \t [-7.83613234 -6.83553186  0.90405303]\t -20810.660474524404\t -12458.30178377884\t -12458.30178377884\n",
            "\u001b[1m\u001b[92m2\u001b[0m\t \u001b[1m\u001b[92m[ 2.6338449  -4.23926346 -1.84756645]\u001b[0m\t \u001b[1m\u001b[92m-2589.0171533153275\u001b[0m\t \u001b[1m\u001b[92m-2589.0171533153275\u001b[0m\t \u001b[1m\u001b[92m-12458.30178377884\u001b[0m\n",
            "\u001b[1m\u001b[92m3\u001b[0m\t \u001b[1m\u001b[92m[-1.92379477  1.34737929  2.7226803 ]\u001b[0m\t \u001b[1m\u001b[92m-615.2747034779208\u001b[0m\t \u001b[1m\u001b[92m-615.2747034779208\u001b[0m\t \u001b[1m\u001b[92m-2589.0171533153275\u001b[0m\n",
            "4  \t [ 10. -10.  10.]\t -204581.0\t -615.2747034779208\t -615.2747034779208\n",
            "5  \t [-5.27132412 -9.28238298 10.        ]\t -194517.77575203\t -615.2747034779208\t -615.2747034779208\n",
            "6  \t [9.81335626 8.39300429 2.56386853]\t -34505.04579158221\t -615.2747034779208\t -615.2747034779208\n",
            "7  \t [-0.44581558  2.04164357  3.82391297]\t -2376.3585358713694\t -615.2747034779208\t -615.2747034779208\n",
            "8  \t [-9.22803648 -8.97768217 -9.08975107]\t -149257.25219727104\t -615.2747034779208\t -615.2747034779208\n",
            "9  \t [-10.           6.44167543  10.        ]\t -129809.89092223407\t -615.2747034779208\t -615.2747034779208\n",
            "10 \t [-10.  10. -10.]\t -196621.0\t -615.2747034779208\t -615.2747034779208\n",
            "11 \t [ 1.81634421 -5.47204596  6.20040485]\t -27095.509466684565\t -615.2747034779208\t -615.2747034779134\n",
            "12 \t [-10.          10.           1.89046248]\t -88345.40690102971\t -615.2747034779208\t -615.2747034779202\n",
            "13 \t [-7.16987604  0.38194869 -4.72735288]\t -6069.232981994662\t -615.2747034779208\t -615.2747034777193\n",
            "14 \t [-0.46238065 -2.80553262 -9.7346076 ]\t -111500.60216628324\t -615.2747034779208\t -615.2747034779206\n",
            "15 \t [-10.           0.52453209   2.36597043]\t -685.2334338467194\t -615.2747034779208\t -615.2747034766767\n",
            "\u001b[1m\u001b[92m16\u001b[0m\t \u001b[1m\u001b[92m[ 9.12528489 -0.46428653  1.5397248 ]\u001b[0m\t \u001b[1m\u001b[92m-298.4979179361641\u001b[0m\t \u001b[1m\u001b[92m-298.4979179361641\u001b[0m\t \u001b[1m\u001b[92m-615.2747034774862\u001b[0m\n",
            "17 \t [-2.11118435 10.         10.        ]\t -190007.54114330013\t -298.4979179361641\t -298.49791793616055\n",
            "18 \t [-3.8291459   2.11420205 10.        ]\t -117825.77462048961\t -298.4979179361641\t -298.4979178854917\n",
            "19 \t [10.         -7.93895487  2.80337537]\t -28696.995861473468\t -298.4979179361641\t -298.49791786626224\n",
            "20 \t [1.51307891 9.75366215 2.26498286]\t -71257.76104162043\t -298.4979179361641\t -298.4979179361375\n",
            "21 \t [ 10.          -1.67239682 -10.        ]\t -122135.09572325896\t -298.4979179361641\t -298.4979179361641\n",
            "22 \t [-0.87608053 -9.49899753  1.10644111]\t -66198.67453722206\t -298.4979179361641\t -298.4979176408092\n",
            "23 \t [ -1.72181265 -10.          -6.52426515]\t -108541.12075066211\t -298.4979179361641\t -298.49791792973014\n",
            "24 \t [ 5.76170389 10.         10.        ]\t -183779.70517820324\t -298.4979179361641\t -298.49791793286295\n",
            "25 \t [  5.0737128   -7.60665794 -10.        ]\t -153804.47227422192\t -298.4979179361641\t -298.49791739576386\n",
            "26 \t [-4.82005938 -3.47370153  5.99918187]\t -18790.40504402308\t -298.4979179361641\t -298.49791302471596\n",
            "27 \t [2.92922266 3.53473696 9.41635255]\t -91596.9672164441\t -298.4979179361641\t -298.4979123976881\n",
            "28 \t [-4.35814913  9.96229949 -2.1322897 ]\t -82329.63130154271\t -298.4979179361641\t -298.49791281869693\n",
            "29 \t [-10.          -1.25881831   9.50492442]\t -99780.89301614955\t -298.4979179361641\t -298.4979143935171\n",
            "30 \t [-10.           2.39508441 -10.        ]\t -118186.275313418\t -298.4979179361641\t -298.4979112111398\n"
          ]
        }
      ]
    },
    {
      "cell_type": "code",
      "metadata": {
        "colab": {
          "base_uri": "https://localhost:8080/"
        },
        "id": "JF_SxcEvGCOl",
        "outputId": "56d5c82a-397c-4fa1-e75f-5103a2f54a18"
      },
      "source": [
        "### ESTIMATED GP EI GRADIENTS\n",
        "\n",
        "np.random.seed(run_num_5)\n",
        "surrogate_approx_5 = GaussianProcess(cov_func, optimize=opt)\n",
        "\n",
        "approx_5 = GPGO_multi(surrogate_approx_5, Acquisition(util_grad_approx), objfunc, param)\n",
        "approx_5.run(init_evals=n_init, max_iter=iters)\n"
      ],
      "execution_count": null,
      "outputs": [
        {
          "output_type": "stream",
          "name": "stdout",
          "text": [
            "Evaluation \t Proposed point \t  Current eval. \t  Best eval. \t         Max AcqFunc.\n",
            "init\t [-5.56013658  7.41464612 -5.86561689]\t -38038.55423396639\t -504.37713268919686\t    \n",
            "init\t [ 8.37221816 -0.23177622  2.23487726]\t -504.37713268919686\t -504.37713268919686\t    \n",
            "init\t [ 5.31815713  0.36835976 -4.06398997]\t -3270.33229475548\t -504.37713268919686\t    \n",
            "init\t [-6.24557543 -8.38517462  4.76880592]\t -51898.195262717614\t -504.37713268919686\t    \n",
            "init\t [-1.17381554 -6.83380265  7.59874062]\t -62777.04813872957\t -504.37713268919686\t    \n",
            "1  \t [ 5.59029171 -9.54133815  1.55325716]\t -62933.45175267557\t -504.37713268919686\t -504.37713268919686\n",
            "2  \t [-3.94963775  6.51411653  3.18834561]\t -16374.16808563396\t -504.37713268919686\t -504.37713268919686\n",
            "3  \t [ 10. -10.  10.]\t -204581.0\t -504.37713268919686\t -504.37713268919686\n",
            "4  \t [ 3.14692525  9.50918422 -2.23413701]\t -63161.457005708806\t -504.37713268919686\t -504.37713268919686\n",
            "5  \t [ 4.56139684 -4.673529    0.23379905]\t -3142.4271112122515\t -504.37713268919686\t -504.37713268919686\n",
            "6  \t [-8.35759819 -3.57642182 -5.67300392]\t -16239.797542075969\t -504.37713268919686\t -504.37713268919686\n",
            "7  \t [10. 10. 10.]\t -180581.0\t -504.37713268919686\t -504.37713268919686\n",
            "8  \t [-2.25567448 -8.98357177 -4.3364777 ]\t -60095.83602661969\t -504.37713268919686\t -504.37713268919686\n",
            "9  \t [-10. -10. -10.]\t -220621.0\t -504.37713268919686\t -504.37713268919686\n",
            "10 \t [ 10.  10. -10.]\t -180581.0\t -504.37713268919686\t -504.37713268919686\n",
            "11 \t [-9.79622691  1.0038156   4.05249186]\t -3437.2382335476973\t -504.37713268919686\t -504.37713268919686\n",
            "12 \t [ 9.33721648 -1.25993305  9.75780579]\t -110380.02940456654\t -504.37713268919686\t -504.37713268919686\n",
            "13 \t [ 10.           1.03411387 -10.        ]\t -118966.86900224547\t -504.37713268919686\t -504.37713268919686\n",
            "14 \t [-10.  10.  10.]\t -196621.0\t -504.37713268919686\t -504.37713268919686\n",
            "15 \t [ 10. -10. -10.]\t -204581.0\t -504.37713268919686\t -504.37713268919686\n",
            "16 \t [10.         -5.93399184 -4.23079551]\t -12608.238085052077\t -504.37713268919686\t -504.37713268919686\n",
            "17 \t [-9.35801008  7.98220289  3.79498813]\t -38830.44934073891\t -504.37713268919686\t -504.37713268919686\n",
            "18 \t [-1.28090768 10.         10.        ]\t -189333.21013417846\t -504.37713268919686\t -504.37713268919686\n",
            "19 \t [-3.48410009 -3.68542923 -6.33751434]\t -23073.672070863027\t -504.37713268919686\t -504.37713268919686\n",
            "20 \t [ 8.55515795 -8.83885458  4.54935016]\t -51254.797088975276\t -504.37713268919686\t -504.37713268919686\n",
            "21 \t [-10.           1.49490838 -10.        ]\t -118752.54717765248\t -504.37713268919686\t -504.3771322176773\n",
            "\u001b[1m\u001b[92m22\u001b[0m\t \u001b[1m\u001b[92m[-3.75205248 -0.42485276  0.40217858]\u001b[0m\t \u001b[1m\u001b[92m-58.09647410522626\u001b[0m\t \u001b[1m\u001b[92m-58.09647410522626\u001b[0m\t \u001b[1m\u001b[92m-504.3771326666542\u001b[0m\n",
            "23 \t [6.31259396 6.26969208 4.14162479]\t -12842.51206349063\t -58.09647410522626\t -58.096474096942835\n",
            "24 \t [  2.02364715  -5.82495497 -10.        ]\t -135761.68775074906\t -58.09647410522626\t -58.096473732981046\n",
            "25 \t [ 1.97625638  5.37142271 -9.72633091]\t -107594.37185634038\t -58.09647410522626\t -58.09647410522112\n",
            "26 \t [-10.         -4.8530994  10.       ]\t -132537.3727684198\t -58.09647410522626\t -58.096474054883366\n",
            "27 \t [-0.24816028  0.805515    5.75199418]\t -12824.227834868421\t -58.09647410522626\t -58.09647405931557\n",
            "28 \t [-6.45258816  1.75840397 10.        ]\t -118274.0974118777\t -58.09647410522626\t -58.09647396293111\n",
            "29 \t [10.         10.         -0.48180582]\t -72553.79022820809\t -58.09647410522626\t -58.0964735677305\n",
            "30 \t [1.84080003 3.62827092 1.47678286]\t -1201.635498241096\t -58.09647410522626\t -58.09647410522542\n"
          ]
        }
      ]
    },
    {
      "cell_type": "code",
      "metadata": {
        "colab": {
          "base_uri": "https://localhost:8080/"
        },
        "id": "-kDxZtJsGCR3",
        "outputId": "4e21c5f3-66c7-4653-d561-deeccee963f4"
      },
      "source": [
        "### ESTIMATED GP EI GRADIENTS\n",
        "\n",
        "np.random.seed(run_num_6)\n",
        "surrogate_approx_6 = GaussianProcess(cov_func, optimize=opt)\n",
        "\n",
        "approx_6 = GPGO_multi(surrogate_approx_6, Acquisition(util_grad_approx), objfunc, param)\n",
        "approx_6.run(init_evals=n_init, max_iter=iters)\n"
      ],
      "execution_count": null,
      "outputs": [
        {
          "output_type": "stream",
          "name": "stdout",
          "text": [
            "Evaluation \t Proposed point \t  Current eval. \t  Best eval. \t         Max AcqFunc.\n",
            "init\t [ 7.85720303 -3.36040389  6.42458246]\t -22622.875691874993\t -747.5861078277044\t    \n",
            "init\t [-9.16606749 -7.8468664   1.90104128]\t -35798.39310944817\t -747.5861078277044\t    \n",
            "init\t [ 0.59634724 -1.62385143 -3.29184301]\t -1672.0743189422471\t -747.5861078277044\t    \n",
            "init\t [ 2.45038864 -1.23717148  4.71764213]\t -6281.890680624871\t -747.5861078277044\t    \n",
            "init\t [0.36072824 1.577172   2.90710192]\t -747.5861078277044\t -747.5861078277044\t    \n",
            "1  \t [ 4.34551693  9.88414877 -4.88771889]\t -77317.5102677862\t -747.5861078277044\t -747.5861078277044\n",
            "2  \t [-1.98503052 -5.08370297  0.47544376]\t -5862.449371750896\t -747.5861078277044\t -747.5861078277044\n",
            "3  \t [10. 10. 10.]\t -180581.0\t -747.5861078277044\t -747.5861078277044\n",
            "4  \t [-8.30089272  8.76464152 -3.7028615 ]\t -53579.172270173985\t -747.5861078277044\t -747.5861078277044\n",
            "5  \t [-5.80222891  1.48640303  9.16774106]\t -83530.43488377196\t -747.5861078277044\t -747.5861078277044\n",
            "6  \t [ 6.83055529 -7.02538607 -5.07603057]\t -27205.394503821604\t -747.5861078277044\t -747.5861078277044\n",
            "7  \t [-9.66056066 -7.16632862  9.74146832]\t -141747.30545515707\t -747.5861078277044\t -747.5861078277044\n",
            "8  \t [ -9.33107076 -10.         -10.        ]\t -220045.72539593998\t -747.5861078277044\t -747.5861078277044\n",
            "9  \t [5.95618828 3.62221445 9.57953935]\t -97953.49211296115\t -747.5861078277044\t -747.5861078277044\n",
            "10 \t [-10.           6.99319446   4.66386943]\t -27365.768461645\t -747.5861078277044\t -747.5861078277044\n",
            "11 \t [ 6.91801255  2.83109097 -4.08743192]\t -3007.0646045160775\t -747.5861078277044\t -747.5861078277044\n",
            "12 \t [-8.12416811  9.77114499 -9.4537219 ]\t -165001.95305563457\t -747.5861078277044\t -747.5861078277044\n",
            "13 \t [-1.38126532 10.          7.47896911]\t -112246.96339371911\t -747.5861078277044\t -747.5861078277044\n",
            "14 \t [-8.61049022  1.31605175 -6.31273975]\t -18816.719959042377\t -747.5861078277044\t -747.586107826945\n",
            "15 \t [ 0.19531588 -7.74530203  9.60360643]\t -139524.0237475551\t -747.5861078277044\t -747.5861078277034\n",
            "16 \t [ 0.54095758 -9.88780744 -9.98848158]\t -207626.91911429714\t -747.5861078277044\t -747.5861078277011\n",
            "17 \t [ 6.23922932 -0.39380066 -9.48173033]\t -97514.11587463532\t -747.5861078277044\t -747.5861078277044\n",
            "18 \t [8.25944641 8.39097879 2.61493092]\t -35279.52191555824\t -747.5861078277044\t -747.5861078198913\n",
            "19 \t [-8.38325311  2.61553425  0.34255209]\t -1078.804996883491\t -747.5861078277044\t -747.5861078277044\n",
            "20 \t [ 10. -10.  10.]\t -204581.0\t -747.5861078277044\t -747.5861078271942\n",
            "21 \t [-2.0301401  -4.92207598 -4.38926331]\t -10770.98915286436\t -747.5861078277044\t -747.5861078277044\n",
            "22 \t [ 10.  10. -10.]\t -180581.0\t -747.5861078277044\t -747.5861078277044\n",
            "23 \t [ 10.         -10.           1.60598304]\t -72970.32791108672\t -747.5861078277044\t -747.5861078274339\n",
            "24 \t [ 10. -10. -10.]\t -204581.0\t -747.5861078277044\t -747.5861077959752\n",
            "25 \t [ -5.17185423 -10.          -4.45945658]\t -91661.27701263246\t -747.5861078277044\t -747.5861078097563\n",
            "26 \t [-2.31045978  4.47463987 -8.32526461]\t -57583.87845182723\t -747.5861078277044\t -747.5861078057173\n",
            "27 \t [  2.7875937  -10.           3.13307967]\t -80422.89507774785\t -747.5861078277044\t -747.5861076101409\n",
            "28 \t [-1.04972809  9.13199416 -0.55115635]\t -56560.28939721692\t -747.5861078277044\t -747.5861066787575\n",
            "\u001b[1m\u001b[92m29\u001b[0m\t \u001b[1m\u001b[92m[10.         -1.80069494 -0.15580207]\u001b[0m\t \u001b[1m\u001b[92m-115.96949062664436\u001b[0m\t \u001b[1m\u001b[92m-115.96949062664436\u001b[0m\t \u001b[1m\u001b[92m-747.5861075679114\u001b[0m\n",
            "30 \t [-10.  10.  10.]\t -196621.0\t -115.96949062664436\t -115.96949062645146\n"
          ]
        }
      ]
    },
    {
      "cell_type": "code",
      "metadata": {
        "colab": {
          "base_uri": "https://localhost:8080/"
        },
        "id": "fKB8MCD_GCVI",
        "outputId": "85cdc9af-45c8-4c0e-cc60-34046202032f"
      },
      "source": [
        "### ESTIMATED GP EI GRADIENTS\n",
        "\n",
        "np.random.seed(run_num_7)\n",
        "surrogate_approx_7 = GaussianProcess(cov_func, optimize=opt)\n",
        "\n",
        "approx_7 = GPGO_multi(surrogate_approx_7, Acquisition(util_grad_approx), objfunc, param)\n",
        "approx_7.run(init_evals=n_init, max_iter=iters)\n"
      ],
      "execution_count": null,
      "outputs": [
        {
          "output_type": "stream",
          "name": "stdout",
          "text": [
            "Evaluation \t Proposed point \t  Current eval. \t  Best eval. \t         Max AcqFunc.\n",
            "init\t [-8.47383421  5.59837584 -1.23181537]\t -10236.238023609843\t -10236.238023609843\t    \n",
            "init\t [4.46930356 9.55979024 0.76991741]\t -63811.243249036976\t -10236.238023609843\t    \n",
            "init\t [ 0.02240927 -8.55897733 -4.6312204 ]\t -50862.43407074502\t -10236.238023609843\t    \n",
            "init\t [-2.34998349e-03  3.58459992e+00  6.07478072e+00]\t -16115.196076305741\t -10236.238023609843\t    \n",
            "init\t [-2.38117734 -8.68127306 -4.23708801]\t -52860.9167787799\t -10236.238023609843\t    \n",
            "\u001b[1m\u001b[92m1\u001b[0m\t \u001b[1m\u001b[92m[ 5.37295013 -3.72010646  1.45250665]\u001b[0m\t \u001b[1m\u001b[92m-1203.3019494238497\u001b[0m\t \u001b[1m\u001b[92m-1203.3019494238497\u001b[0m\t \u001b[1m\u001b[92m-10236.238023609843\u001b[0m\n",
            "2  \t [-10. -10.  10.]\t -220621.0\t -1203.3019494238497\t -1203.3019494238497\n",
            "3  \t [-0.84802251  7.90733569 -8.8549288 ]\t -98229.52721976113\t -1203.3019494238497\t -1203.3019494238497\n",
            "4  \t [-9.43459214  0.25094007  5.85629711]\t -14303.366732986253\t -1203.3019494238497\t -1203.3019494238497\n",
            "5  \t [-8.22186059 -2.09445948 -8.51624651]\t -65619.77292042035\t -1203.3019494238497\t -1203.3019494238497\n",
            "6  \t [ 10. -10. -10.]\t -204581.0\t -1203.3019494238497\t -1203.3019494238497\n",
            "7  \t [ 2.60005424 -8.85713712  9.79392453]\t -168458.45063088578\t -1203.3019494238497\t -1203.3019494238497\n",
            "8  \t [8.66522451 5.38017998 9.74494226]\t -107078.9104872437\t -1203.3019494238497\t -1203.3019494238497\n",
            "9  \t [ 6.45540871  0.94153368 -6.26549823]\t -18125.579305572563\t -1203.3019494238497\t -1203.3019494238497\n",
            "10 \t [ 10.  10. -10.]\t -180581.0\t -1203.3019494238497\t -1203.3019494238497\n",
            "11 \t [-10.  10.  10.]\t -196621.0\t -1203.3019494238497\t -1203.3019494238497\n",
            "12 \t [ -9.2306312  10.        -10.       ]\t -195959.5798829354\t -1203.3019494238497\t -1203.301949423848\n",
            "13 \t [-2.79246293 -4.17320978  3.89008299]\t -6403.559240798843\t -1203.3019494238497\t -1203.301949423833\n",
            "14 \t [-10. -10. -10.]\t -220621.0\t -1203.3019494238497\t -1203.3019494237894\n",
            "15 \t [-10.         -10.          -2.17770525]\t -89459.97232618551\t -1203.3019494238497\t -1203.301949417829\n",
            "16 \t [ 9.96015288 -3.56111617  7.61168212]\t -43350.03665235661\t -1203.3019494238497\t -1203.301949423757\n",
            "17 \t [  9.50421543 -10.           1.54420355]\t -73303.99109075662\t -1203.3019494238497\t -1203.3019494235275\n",
            "18 \t [ 0.30012346  9.27226707 10.        ]\t -168058.96724561334\t -1203.3019494238497\t -1203.30194909571\n",
            "\u001b[1m\u001b[92m19\u001b[0m\t \u001b[1m\u001b[92m[-2.21439585  0.3361575  -2.49486054]\u001b[0m\t \u001b[1m\u001b[92m-462.38146302943824\u001b[0m\t \u001b[1m\u001b[92m-462.38146302943824\u001b[0m\t \u001b[1m\u001b[92m-1203.3019494236962\u001b[0m\n",
            "20 \t [  1.04106262  -2.07468678 -10.        ]\t -122617.07556840703\t -462.38146302943824\t -462.38146299074214\n",
            "21 \t [ 1.64381862 -9.11821172  2.53378258]\t -55659.41330029254\t -462.38146302943824\t -462.3814623192077\n",
            "22 \t [ 3.76828998 -1.60346866 10.        ]\t -121943.31453845794\t -462.38146302943824\t -462.3814619979064\n",
            "23 \t [-5.58606459 -3.76392092 10.        ]\t -126903.75154671544\t -462.38146302943824\t -462.3814622837902\n",
            "24 \t [-2.27177379 10.         -1.21798662]\t -81986.83543811766\t -462.38146302943824\t -462.38146248304156\n",
            "\u001b[1m\u001b[92m25\u001b[0m\t \u001b[1m\u001b[92m[-8.09540089 -1.34220828 -0.79301914]\u001b[0m\t \u001b[1m\u001b[92m-376.7131273451969\u001b[0m\t \u001b[1m\u001b[92m-376.7131273451969\u001b[0m\t \u001b[1m\u001b[92m-462.38146226013873\u001b[0m\n",
            "\u001b[1m\u001b[92m26\u001b[0m\t \u001b[1m\u001b[92m[3.47836189 2.37144003 0.11454468]\u001b[0m\t \u001b[1m\u001b[92m-143.35978934931765\u001b[0m\t \u001b[1m\u001b[92m-143.35978934931765\u001b[0m\t \u001b[1m\u001b[92m-376.713126573138\u001b[0m\n",
            "27 \t [9.7426228  1.79384044 2.82506482]\t -700.5133184553615\t -143.35978934931765\t -143.35978920562056\n",
            "28 \t [  9.99408193 -10.          10.        ]\t -204585.39131169545\t -143.35978934931765\t -143.35978804905386\n",
            "29 \t [-5.80415594  4.28580711  9.90593222]\t -114222.17192338286\t -143.35978934931765\t -143.35978716273263\n",
            "30 \t [10.         -4.99900958 -3.69442154]\t -6407.025568610399\t -143.35978934931765\t -143.35978919236504\n"
          ]
        }
      ]
    },
    {
      "cell_type": "code",
      "metadata": {
        "colab": {
          "base_uri": "https://localhost:8080/"
        },
        "id": "4unvifF-GCXp",
        "outputId": "dcb0409c-d435-4d64-f289-a8b85c4b586f"
      },
      "source": [
        "### ESTIMATED GP EI GRADIENTS\n",
        "\n",
        "np.random.seed(run_num_8)\n",
        "surrogate_approx_8 = GaussianProcess(cov_func, optimize=opt)\n",
        "\n",
        "approx_8 = GPGO_multi(surrogate_approx_8, Acquisition(util_grad_approx), objfunc, param)\n",
        "approx_8.run(init_evals=n_init, max_iter=iters)\n"
      ],
      "execution_count": null,
      "outputs": [
        {
          "output_type": "stream",
          "name": "stdout",
          "text": [
            "Evaluation \t Proposed point \t  Current eval. \t  Best eval. \t         Max AcqFunc.\n",
            "init\t [7.46858806 9.37081326 7.3838908 ]\t -86398.56273239222\t -19.158799931573643\t    \n",
            "init\t [ 0.61711383 -5.34543344 -9.77202391]\t -122028.27716628066\t -19.158799931573643\t    \n",
            "init\t [-1.39062363 -1.9529728   0.45349343]\t -185.16317561320295\t -19.158799931573643\t    \n",
            "init\t [-0.43216408  1.10712948  0.86772035]\t -19.158799931573643\t -19.158799931573643\t    \n",
            "init\t [5.21791151 4.24749148 2.39364192]\t -2079.039537100791\t -19.158799931573643\t    \n",
            "1  \t [ 5.91149117 -9.35983687 -0.89104356]\t -57709.74714740788\t -19.158799931573643\t -19.158799931573643\n",
            "2  \t [-4.01894503  7.30848062  6.93893087]\t -48356.33098205576\t -19.158799931573643\t -19.158799931573643\n",
            "3  \t [-6.23415159 -2.85576708  4.59444715]\t -7163.787122326564\t -19.158799931573643\t -19.158799931573643\n",
            "4  \t [-0.33954819  6.5470211  -9.44447867]\t -103413.2661047698\t -19.158799931573643\t -19.158799931573643\n",
            "5  \t [ 8.88043753 -3.47867257 -6.48954407]\t -23609.194785088257\t -19.158799931573643\t -19.158799931573643\n",
            "6  \t [10.          8.09337765 -7.63563772]\t -64690.59346133939\t -19.158799931573643\t -19.158799931573643\n",
            "7  \t [ 6.2181374  -2.96281477  4.12308008]\t -4383.003404911578\t -19.158799931573643\t -19.158799931573643\n",
            "8  \t [-9.29486377 -6.88958424  5.69557689]\t -37285.04360880313\t -19.158799931573643\t -19.158799931573643\n",
            "9  \t [-10. -10. -10.]\t -220621.0\t -19.158799931573643\t -19.158799931573643\n",
            "10 \t [-8.08406232  3.70595628 -4.75704492]\t -7790.40486015024\t -19.158799931573643\t -19.158799931573643\n",
            "11 \t [-10.           1.28667574  10.        ]\t -118936.32483126211\t -19.158799931573643\t -19.158799931573643\n",
            "12 \t [-10.  10. -10.]\t -196621.0\t -19.158799931573643\t -19.158799931571977\n",
            "13 \t [ 9.86387458 -9.03618993  5.02335735]\t -57789.537463669825\t -19.158799931573643\t -19.158799931573643\n",
            "14 \t [-4.32076466  8.61353379 -5.12218907]\t -52438.106190680584\t -19.158799931573643\t -19.158799931573643\n",
            "15 \t [-0.98139106 -6.46711542  7.20986352]\t -50913.179252436064\t -19.158799931573643\t -19.158799931573643\n",
            "16 \t [-3.70740588  1.81466834  9.77653024]\t -107790.26865977739\t -19.158799931573643\t -19.158799931573643\n",
            "17 \t [ 7.42704428 -6.30046155  8.41770504]\t -76125.29945778343\t -19.158799931573643\t -19.158799931573643\n",
            "18 \t [-9.1578455   9.85877625  1.80849446]\t -83000.41337596234\t -19.158799931573643\t -19.158799928251028\n",
            "19 \t [-7.97530597 -6.04259045 -1.22141449]\t -13447.336132565808\t -19.158799931573643\t -19.15879948746748\n",
            "20 \t [-1.28119764 -9.77100579  0.09479601]\t -74194.58146226169\t -19.158799931573643\t -19.158799931573633\n",
            "21 \t [-6.11335441 -3.4388144  -7.17273123]\t -35743.79190948796\t -19.158799931573643\t -19.158799931573643\n",
            "22 \t [6.9851133  1.39654247 9.9035109 ]\t -113852.15965227337\t -19.158799931573643\t -19.158799923211156\n",
            "23 \t [ 7.20123255 10.          0.05851531]\t -74680.77399945441\t -19.158799931573643\t -19.158799931573615\n",
            "24 \t [10.          2.87696217 -2.57108793]\t -487.9016903970121\t -19.158799931573643\t -19.15879979940401\n",
            "25 \t [ 10. -10. -10.]\t -204581.0\t -19.158799931573643\t -19.158799923826734\n",
            "26 \t [-4.53820231  4.0899713  -0.18189883]\t -2966.322372818074\t -19.158799931573643\t -19.158799931558107\n",
            "27 \t [ 4.11645933  3.59752555 -4.57097542]\t -5332.849880276877\t -19.158799931573643\t -19.158798916138725\n",
            "28 \t [ 0.02481152  7.40211872 -1.27162241]\t -24058.941429808932\t -19.158799931573643\t -19.15879990313318\n",
            "29 \t [-9.49376246 10.         10.        ]\t -196185.39207211084\t -19.158799931573643\t -19.158798082379764\n",
            "30 \t [-2.77329598 -6.73334114 -4.26945136]\t -23075.76096467383\t -19.158799931573643\t -19.158799931572172\n"
          ]
        }
      ]
    },
    {
      "cell_type": "code",
      "metadata": {
        "colab": {
          "base_uri": "https://localhost:8080/"
        },
        "id": "85OIXcg7GCaJ",
        "outputId": "421706db-9f04-48ec-e689-014fb2167a42"
      },
      "source": [
        "### ESTIMATED GP EI GRADIENTS\n",
        "\n",
        "np.random.seed(run_num_9)\n",
        "surrogate_approx_9 = GaussianProcess(cov_func, optimize=opt)\n",
        "\n",
        "approx_9 = GPGO_multi(surrogate_approx_9, Acquisition(util_grad_approx), objfunc, param)\n",
        "approx_9.run(init_evals=n_init, max_iter=iters)\n"
      ],
      "execution_count": null,
      "outputs": [
        {
          "output_type": "stream",
          "name": "stdout",
          "text": [
            "Evaluation \t Proposed point \t  Current eval. \t  Best eval. \t         Max AcqFunc.\n",
            "init\t [-9.79251692  0.03749184 -0.08453414]\t -308.3769452572715\t -308.3769452572715\t    \n",
            "init\t [-7.32340942 -7.15777829 -5.62882649]\t -39098.793761550274\t -308.3769452572715\t    \n",
            "init\t [-1.62983639 -5.03797663 -8.31880698]\t -67224.5603542052\t -308.3769452572715\t    \n",
            "init\t [-3.0900272  -6.66447307  7.57118171]\t -61063.84970572342\t -308.3769452572715\t    \n",
            "init\t [ 9.01928063 -9.22503248  3.98214783]\t -57052.59558792292\t -308.3769452572715\t    \n",
            "1  \t [2.99080926 7.21663846 9.41692024]\t -107317.26583764593\t -308.3769452572715\t -308.3769452572715\n",
            "2  \t [ 6.86233684  2.90237997 -3.94602224]\t -2626.2381369461364\t -308.3769452572715\t -308.3769452572715\n",
            "3  \t [-9.77584307 -9.02200933  2.98685213]\t -61841.45747865176\t -308.3769452572715\t -308.3769452572715\n",
            "4  \t [-4.28572164  1.59287123  8.76522826]\t -69574.98897203195\t -308.3769452572715\t -308.3769452572715\n",
            "5  \t [-4.78366322  9.8945477  -5.84814702]\t -90773.63315507559\t -308.3769452572715\t -308.3769452572715\n",
            "6  \t [ 7.08809023 -0.77927986  8.97599599]\t -78756.71445675654\t -308.3769452572715\t -308.3769452572715\n",
            "7  \t [ 10.  10. -10.]\t -180581.0\t -308.3769452572715\t -308.3769452572715\n",
            "8  \t [ 10. -10. -10.]\t -204581.0\t -308.3769452572715\t -308.3769452572715\n",
            "9  \t [-2.24239563  8.2392939   2.9668709 ]\t -38369.54961101381\t -308.3769452572715\t -308.3769452572715\n",
            "10 \t [ 6.11629874 -8.74204803 -0.96542318]\t -43423.330956225946\t -308.3769452572715\t -308.3769452572715\n",
            "11 \t [ 2.75851565  5.76104613 -9.75712272]\t -110376.13087943557\t -308.3769452572715\t -308.3769452570005\n",
            "12 \t [3.01277451 9.9078286  1.97878079]\t -74760.19292573501\t -308.3769452572715\t -308.3769452572715\n",
            "13 \t [-8.22545226  0.94352057 -9.98576062]\t -118476.9822257634\t -308.3769452572715\t -308.3769452572715\n",
            "14 \t [ 7.6121371   9.9884854  -2.71304732]\t -73783.28181489912\t -308.3769452572715\t -308.3769452572715\n",
            "15 \t [-10.  10.  10.]\t -196621.0\t -308.3769452572715\t -308.3769452572715\n",
            "16 \t [-4.03608807  4.70420508  1.44305851]\t -4691.083547721373\t -308.3769452572715\t -308.3769452572715\n",
            "17 \t [9.18884834 5.371142   5.62581791]\t -14840.535031823034\t -308.3769452572715\t -308.3769451268581\n",
            "\u001b[1m\u001b[92m18\u001b[0m\t \u001b[1m\u001b[92m[ 0.72216539 -2.33562889  0.93451804]\u001b[0m\t \u001b[1m\u001b[92m-257.66932059898363\u001b[0m\t \u001b[1m\u001b[92m-257.66932059898363\u001b[0m\t \u001b[1m\u001b[92m-308.37694525726846\u001b[0m\n",
            "19 \t [-10.          10.           0.63840971]\t -88574.08529449784\t -257.66932059898363\t -257.66932059889376\n",
            "20 \t [-1.96756481 -8.96487014 -0.61270653]\t -53238.05731110409\t -257.66932059898363\t -257.6693205907963\n",
            "21 \t [-10. -10.  10.]\t -220621.0\t -257.66932059898363\t -257.66932020839954\n",
            "22 \t [10.          2.58936976 -9.53388126]\t -96442.6168580441\t -257.66932059898363\t -257.66931899127644\n",
            "\u001b[1m\u001b[92m23\u001b[0m\t \u001b[1m\u001b[92m[ 9.94815308 -2.96552917  0.06457511]\u001b[0m\t \u001b[1m\u001b[92m-223.35786043404318\u001b[0m\t \u001b[1m\u001b[92m-223.35786043404318\u001b[0m\t \u001b[1m\u001b[92m-257.6693201021017\u001b[0m\n",
            "24 \t [ 5.58201623 -2.92320806 -7.44743077]\t -39172.47593191307\t -223.35786043404318\t -223.3578602881888\n",
            "25 \t [-9.48710614 -3.05963019  6.70204567]\t -27589.706326373554\t -223.35786043404318\t -223.35785969887118\n",
            "26 \t [  2.49954541 -10.          10.        ]\t -210315.10776318837\t -223.35786043404318\t -223.35785942608288\n",
            "27 \t [-9.41712567  7.22034806 -9.73115245]\t -125514.6736561216\t -223.35786043404318\t -223.35786043404318\n",
            "28 \t [  3.17797777 -10.          -7.17260799]\t -115716.78514588333\t -223.35786043404318\t -223.35785895776354\n",
            "29 \t [-4.60841297  2.25857989 -4.3775217 ]\t -4372.6175506639165\t -223.35786043404318\t -223.3578604340335\n",
            "30 \t [0.72719533 1.96532268 4.52408385]\t -4653.842512332133\t -223.35786043404318\t -223.35786043404315\n"
          ]
        }
      ]
    },
    {
      "cell_type": "code",
      "metadata": {
        "colab": {
          "base_uri": "https://localhost:8080/"
        },
        "id": "QQBR-qJPGCcp",
        "outputId": "74f4719b-a73e-4a1d-9a8f-7a41f0eb4e1a"
      },
      "source": [
        "### ESTIMATED GP EI GRADIENTS\n",
        "\n",
        "np.random.seed(run_num_10)\n",
        "surrogate_approx_10 = GaussianProcess(cov_func, optimize=opt)\n",
        "\n",
        "approx_10 = GPGO_multi(surrogate_approx_10, Acquisition(util_grad_approx), objfunc, param)\n",
        "approx_10.run(init_evals=n_init, max_iter=iters)\n"
      ],
      "execution_count": null,
      "outputs": [
        {
          "output_type": "stream",
          "name": "stdout",
          "text": [
            "Evaluation \t Proposed point \t  Current eval. \t  Best eval. \t         Max AcqFunc.\n",
            "init\t [ 5.42641287 -9.58496101  2.6729647 ]\t -65323.138576781035\t -11089.42002600802\t    \n",
            "init\t [ 4.97607765 -0.02985975 -5.50406709]\t -11089.42002600802\t -11089.42002600802\t    \n",
            "init\t [-6.0387427   5.21061424 -6.61778327]\t -27690.457734888914\t -11089.42002600802\t    \n",
            "init\t [-8.23320372  3.70719637  9.06786692]\t -80154.14403008527\t -11089.42002600802\t    \n",
            "init\t [-9.92103467  0.24384527  6.25241923]\t -18545.57155390516\t -11089.42002600802\t    \n",
            "1  \t [6.10446394 0.43294305 8.17297762]\t -53288.212919444646\t -11089.42002600802\t -11089.42002600802\n",
            "2  \t [-9.70279951  9.55798527  1.46057808]\t -74244.04457503722\t -11089.42002600802\t -11089.42002600802\n",
            "3  \t [-1.75447845 -6.302649    6.80494632]\t -42548.732127148585\t -11089.42002600802\t -11089.42002600802\n",
            "4  \t [3.25643503 8.71340004 2.25458364]\t -44169.54631375984\t -11089.42002600802\t -11089.42002600802\n",
            "5  \t [-4.51864821 -4.41820786 -7.58640717]\t -46684.2942823814\t -11089.42002600802\t -11089.42002600802\n",
            "6  \t [ 8.09627953 -9.91552173 -8.52992239]\t -143623.97605290846\t -11089.42002600802\t -11089.42002600802\n",
            "7  \t [10. 10. 10.]\t -180581.0\t -11089.42002600802\t -11089.42002600802\n",
            "8  \t [ 9.80335485  7.06202787 -3.11757933]\t -16715.848126851764\t -11089.42002600802\t -11089.42002600802\n",
            "9  \t [-10. -10. -10.]\t -220621.0\t -11089.42002600802\t -11089.420026007954\n",
            "10 \t [ 10. -10.  10.]\t -204581.0\t -11089.42002600802\t -11089.420026008018\n",
            "11 \t [-10.        -10.          5.1572378]\t -100301.52208244361\t -11089.42002600802\t -11089.42002600802\n",
            "\u001b[1m\u001b[92m12\u001b[0m\t \u001b[1m\u001b[92m[4.46588649 0.41056736 4.72710494]\u001b[0m\t \u001b[1m\u001b[92m-5928.386985062376\u001b[0m\t \u001b[1m\u001b[92m-5928.386985062376\u001b[0m\t \u001b[1m\u001b[92m-11089.42002600802\u001b[0m\n",
            "13 \t [ 1.9928971   8.13344531 -7.47667015]\t -66204.93098913587\t -5928.386985062376\t -5928.386985062374\n",
            "\u001b[1m\u001b[92m14\u001b[0m\t \u001b[1m\u001b[92m[-4.28724281  3.94774388  1.49012921]\u001b[0m\t \u001b[1m\u001b[92m-2543.026603093098\u001b[0m\t \u001b[1m\u001b[92m-2543.026603093098\u001b[0m\t \u001b[1m\u001b[92m-5928.386985060024\u001b[0m\n",
            "\u001b[1m\u001b[92m15\u001b[0m\t \u001b[1m\u001b[92m[-0.80826176 -3.6531504  -0.92653765]\u001b[0m\t \u001b[1m\u001b[92m-1602.2040767949943\u001b[0m\t \u001b[1m\u001b[92m-1602.2040767949943\u001b[0m\t \u001b[1m\u001b[92m-2543.026603088872\u001b[0m\n",
            "16 \t [ 10.  10. -10.]\t -180581.0\t -1602.2040767949943\t -1602.2040767893213\n",
            "17 \t [-3.19797761  9.67491195  5.52948064]\t -80475.52625560047\t -1602.2040767949943\t -1602.2040767150993\n",
            "18 \t [ -0.72011138 -10.         -10.        ]\t -212880.08501118858\t -1602.2040767949943\t -1602.204076634874\n",
            "19 \t [-10.  10. -10.]\t -196621.0\t -1602.2040767949943\t -1602.2040766092484\n",
            "20 \t [ 1.44770842  6.12689508 10.        ]\t -123603.29025362058\t -1602.2040767949943\t -1602.2040767160904\n",
            "21 \t [ 10.           2.46603212 -10.        ]\t -117149.35932655512\t -1602.2040767949943\t -1602.2040767191047\n",
            "\u001b[1m\u001b[92m22\u001b[0m\t \u001b[1m\u001b[92m[ 9.73631264 -3.9607127  -1.77242431]\u001b[0m\t \u001b[1m\u001b[92m-1327.5440829750041\u001b[0m\t \u001b[1m\u001b[92m-1327.5440829750041\u001b[0m\t \u001b[1m\u001b[92m-1602.2040767671585\u001b[0m\n",
            "23 \t [-8.44801003 -3.27442982 -1.41692909]\t -2035.7270829486893\t -1327.5440829750041\t -1327.5440829456095\n",
            "24 \t [ -1.59825663 -10.           0.65602237]\t -81644.33150135478\t -1327.5440829750041\t -1327.5440824602504\n",
            "25 \t [-10.         -10.          -2.20481027]\t -89487.91642460943\t -1327.5440829750041\t -1327.5440828489664\n",
            "26 \t [ 9.94464185 -4.52447318  4.58418114]\t -8503.442360513536\t -1327.5440829750041\t -1327.5440813684424\n",
            "27 \t [-2.19079304  0.61741725  6.68017   ]\t -23594.47841831719\t -1327.5440829750041\t -1327.544081008154\n",
            "28 \t [-2.66883436  9.49000026 -2.08876467]\t -66838.8814245802\t -1327.5440829750041\t -1327.5440825118812\n",
            "\u001b[1m\u001b[92m29\u001b[0m\t \u001b[1m\u001b[92m[ 2.36666314  3.22008629 -2.17169643]\u001b[0m\t \u001b[1m\u001b[92m-792.6566953448357\u001b[0m\t \u001b[1m\u001b[92m-792.6566953448357\u001b[0m\t \u001b[1m\u001b[92m-1327.5440829750041\u001b[0m\n",
            "30 \t [ -0.31589661   1.15627583 -10.        ]\t -118636.0898498161\t -792.6566953448357\t -792.6566952153543\n"
          ]
        }
      ]
    },
    {
      "cell_type": "code",
      "metadata": {
        "colab": {
          "base_uri": "https://localhost:8080/"
        },
        "id": "JS8ejeQ2GCfi",
        "outputId": "482fd287-46f4-41a0-906c-737763cd4453"
      },
      "source": [
        "### ESTIMATED GP EI GRADIENTS\n",
        "\n",
        "np.random.seed(run_num_11)\n",
        "surrogate_approx_11 = GaussianProcess(cov_func, optimize=opt)\n",
        "\n",
        "approx_11 = GPGO_multi(surrogate_approx_11, Acquisition(util_grad_approx), objfunc, param)\n",
        "approx_11.run(init_evals=n_init, max_iter=iters)\n"
      ],
      "execution_count": null,
      "outputs": [
        {
          "output_type": "stream",
          "name": "stdout",
          "text": [
            "Evaluation \t Proposed point \t  Current eval. \t  Best eval. \t         Max AcqFunc.\n",
            "init\t [-6.39460622 -9.61049517 -0.73562947]\t -73449.7462395723\t -22.303897517794855\t    \n",
            "init\t [ 4.49867858 -1.59592791 -0.29145804]\t -22.303897517794855\t -22.303897517794855\t    \n",
            "init\t [-9.74438371 -0.25256785  8.83613305]\t -73699.8605668882\t -22.303897517794855\t    \n",
            "init\t [ 7.01590179  4.5992894  -7.82527856]\t -44207.59530328671\t -22.303897517794855\t    \n",
            "init\t [ 7.87808341  7.14308494 -6.69826765]\t -38246.569253964415\t -22.303897517794855\t    \n",
            "1  \t [-1.96647039  6.95957995  4.35698359]\t -22430.99927361658\t -22.303897517794855\t -22.303897517794855\n",
            "2  \t [-3.72641694  8.61531845 -5.23307798]\t -52726.91681995238\t -22.303897517794855\t -22.303897517794855\n",
            "3  \t [  4.61331012 -10.         -10.        ]\t -208664.973178271\t -22.303897517794855\t -22.303897517794855\n",
            "4  \t [8.79978443 9.21187338 4.01322808]\t -53436.69770955808\t -22.303897517794855\t -22.303897517794855\n",
            "5  \t [ 5.40088552 -8.93292028  7.72280751]\t -96888.8410801737\t -22.303897517794855\t -22.303897517794855\n",
            "6  \t [-7.2910825   0.82203557 -2.41589753]\t -571.368208047873\t -22.303897517794855\t -22.3038975177948\n",
            "7  \t [-0.70334662 -2.8253075   9.90253331]\t -119296.65309205485\t -22.303897517794855\t -22.303897517794564\n",
            "8  \t [9.19882162 0.03064205 8.95268462]\t -77296.27028686141\t -22.303897517794855\t -22.303897517794855\n",
            "9  \t [ 2.02354005 -2.52572107 -7.1573564 ]\t -33294.6990087167\t -22.303897517794855\t -22.30389751772711\n",
            "10 \t [-9.59976122  8.38827695  9.33640652]\t -127925.16238139631\t -22.303897517794855\t -22.303897517792883\n",
            "11 \t [-8.75015747 -5.39823628 -8.50829628]\t -76744.16220125134\t -22.303897517794855\t -22.303897517794827\n",
            "12 \t [-2.24716012 -1.7689941   1.97067453]\t -428.05489087824776\t -22.303897517794855\t -22.303897515483555\n",
            "13 \t [-7.47141814 -5.9901291   5.51922131]\t -26060.38846696813\t -22.303897517794855\t -22.30389661658315\n",
            "14 \t [ 1.3925504  -7.5833256  -1.12331643]\t -26126.11925624919\t -22.303897517794855\t -22.3038975158766\n",
            "15 \t [ 10.         -10.          -1.28196473]\t -72810.62251674931\t -22.303897517794855\t -22.3038975177948\n",
            "16 \t [-10.  10. -10.]\t -196621.0\t -22.303897517794855\t -22.303897517460772\n",
            "17 \t [10.         -0.48200952 -2.04899575]\t -499.3432025824834\t -22.303897517794855\t -22.303897174757328\n",
            "18 \t [ -3.4751874 -10.        -10.       ]\t -215124.3310775411\t -22.303897517794855\t -22.303897228560807\n",
            "19 \t [-4.0475086   0.24893501 -9.20559832]\t -85983.91382092434\t -22.303897517794855\t -22.30389702969059\n",
            "20 \t [ 1.66790834  4.18920504 10.        ]\t -117261.30780070393\t -22.303897517794855\t -22.30389740414224\n",
            "21 \t [ 3.35326279  4.28319909 -0.30478234]\t -2278.7922448148847\t -22.303897517794855\t -22.30389733281284\n",
            "22 \t [-9.39432062  4.46352094  2.60271956]\t -5204.867356230181\t -22.303897517794855\t -22.30389737160026\n",
            "23 \t [ 9.69002304 -4.30225846 -8.10838065]\t -56889.2226664409\t -22.303897517794855\t -22.303897511762248\n",
            "24 \t [ 1.4042262  10.         -9.64000351]\t -171660.24376988792\t -22.303897517794855\t -22.30389633555518\n",
            "25 \t [7.13899865 2.67644009 0.19399776]\t -161.3105979009996\t -22.303897517794855\t -22.303897517794855\n",
            "26 \t [ -1.2964821  -10.           9.51883566]\t -190737.0301259547\t -22.303897517794855\t -22.303896215097932\n",
            "27 \t [10.         -3.8438899   3.04768828]\t -2353.5446123592424\t -22.303897517794855\t -22.30389507871329\n",
            "28 \t [ 3.54532515 -0.15418977  4.87606836]\t -6858.613590794855\t -22.303897517794855\t -22.303890026275525\n",
            "29 \t [-10.           3.31357858  -7.5333603 ]\t -38588.981726141436\t -22.303897517794855\t -22.303893964657707\n",
            "30 \t [-10.          10.          -0.64904293]\t -88572.57867918939\t -22.303897517794855\t -22.303895098843537\n"
          ]
        }
      ]
    },
    {
      "cell_type": "code",
      "metadata": {
        "colab": {
          "base_uri": "https://localhost:8080/"
        },
        "id": "DXwjUVZ4GCii",
        "outputId": "0c67e56d-284f-4514-8f2d-5abf590c3b56"
      },
      "source": [
        "### ESTIMATED GP EI GRADIENTS\n",
        "\n",
        "np.random.seed(run_num_12)\n",
        "surrogate_approx_12 = GaussianProcess(cov_func, optimize=opt)\n",
        "\n",
        "approx_12 = GPGO_multi(surrogate_approx_12, Acquisition(util_grad_approx), objfunc, param)\n",
        "approx_12.run(init_evals=n_init, max_iter=iters)\n"
      ],
      "execution_count": null,
      "outputs": [
        {
          "output_type": "stream",
          "name": "stdout",
          "text": [
            "Evaluation \t Proposed point \t  Current eval. \t  Best eval. \t         Max AcqFunc.\n",
            "init\t [-6.91674315  4.80099393 -4.7336997 ]\t -10487.591252066548\t -4586.38475927115\t    \n",
            "init\t [ 0.67478787 -9.70850075  8.37494016]\t -138053.19180525147\t -4586.38475927115\t    \n",
            "init\t [ 8.01429708 -9.33157145  9.13898673]\t -148578.70720060062\t -4586.38475927115\t    \n",
            "init\t [-7.25581357 -4.32343294  2.12166369]\t -4586.38475927115\t -4586.38475927115\t    \n",
            "init\t [ 8.88450272  7.05471082 -9.95481533]\t -126104.01453704505\t -4586.38475927115\t    \n",
            "\u001b[1m\u001b[92m1\u001b[0m\t \u001b[1m\u001b[92m[ 4.05244711 -3.44861047 -3.30704942]\u001b[0m\t \u001b[1m\u001b[92m-2711.705028601448\u001b[0m\t \u001b[1m\u001b[92m-2711.705028601448\u001b[0m\t \u001b[1m\u001b[92m-4586.38475927115\u001b[0m\n",
            "2  \t [-9.8399332  -9.79123196  1.94917609]\t -82290.79401902205\t -2711.705028601448\t -2711.705028601448\n",
            "3  \t [-2.72524362 -3.32877676 -7.87150673]\t -49830.2759128258\t -2711.705028601448\t -2711.705028601448\n",
            "4  \t [-9.90274624 -5.05558204  6.5981439 ]\t -33027.813423262836\t -2711.705028601448\t -2711.705028601448\n",
            "\u001b[1m\u001b[92m5\u001b[0m\t \u001b[1m\u001b[92m[8.11179655 4.25164412 2.83994041]\u001b[0m\t \u001b[1m\u001b[92m-2046.5141241551942\u001b[0m\t \u001b[1m\u001b[92m-2046.5141241551942\u001b[0m\t \u001b[1m\u001b[92m-2711.705028601448\u001b[0m\n",
            "6  \t [-1.0203127   6.70305372  2.93327516]\t -16854.29441646725\t -2046.5141241551942\t -2046.5141241551942\n",
            "7  \t [2.24146714 3.87396922 9.57204863]\t -98069.68646479683\t -2046.5141241551942\t -2046.5141241551942\n",
            "8  \t [-3.39588922 -3.70052717  9.95424593]\t -124174.59831589606\t -2046.5141241551942\t -2046.5141241551942\n",
            "9  \t [-10. -10. -10.]\t -220621.0\t -2046.5141241551942\t -2046.5141241551942\n",
            "\u001b[1m\u001b[92m10\u001b[0m\t \u001b[1m\u001b[92m[ 0.20091307 -2.4472805   3.29917527]\u001b[0m\t \u001b[1m\u001b[92m-2037.3566435691675\u001b[0m\t \u001b[1m\u001b[92m-2037.3566435691675\u001b[0m\t \u001b[1m\u001b[92m-2046.5141241551942\u001b[0m\n",
            "11 \t [-3.87321278  9.96526606  8.00203174]\t -123867.78422181687\t -2037.3566435691675\t -2037.3566435691675\n",
            "12 \t [-10.  10. -10.]\t -196621.0\t -2037.3566435691675\t -2037.3566435691675\n",
            "13 \t [ 10. -10. -10.]\t -204581.0\t -2037.3566435691675\t -2037.3566435691675\n",
            "14 \t [10. 10. 10.]\t -180581.0\t -2037.3566435691675\t -2037.3566435691675\n",
            "15 \t [-0.47370456 -9.97762256  0.31387618]\t -79976.78296998542\t -2037.3566435691675\t -2037.3566435691523\n",
            "16 \t [ 2.19838473  9.55137422 -8.58406831]\t -121972.08556256085\t -2037.3566435691675\t -2037.356643569167\n",
            "17 \t [-10.          10.           3.68296417]\t -89201.1514209904\t -2037.3566435691675\t -2037.3566435691207\n",
            "\u001b[1m\u001b[92m18\u001b[0m\t \u001b[1m\u001b[92m[ 9.98959263 -3.47289247  0.74989442]\u001b[0m\t \u001b[1m\u001b[92m-543.673734881878\u001b[0m\t \u001b[1m\u001b[92m-543.673734881878\u001b[0m\t \u001b[1m\u001b[92m-2037.3566435611535\u001b[0m\n",
            "19 \t [ 2.38954699 -8.44155157 -8.96984484]\t -125320.96366552828\t -543.673734881878\t -543.6737348171107\n",
            "\u001b[1m\u001b[92m20\u001b[0m\t \u001b[1m\u001b[92m[-0.78447866  2.55580366 -1.82049769]\u001b[0m\t \u001b[1m\u001b[92m-436.5184491002427\u001b[0m\t \u001b[1m\u001b[92m-436.5184491002427\u001b[0m\t \u001b[1m\u001b[92m-543.6737347977623\u001b[0m\n",
            "21 \t [ 8.97914165  0.59644518 -6.51034682]\t -21455.548563328866\t -436.5184491002427\t -436.51844910024266\n",
            "22 \t [ 6.72999519 -9.85288555  3.98217806]\t -75475.66507226418\t -436.5184491002427\t -436.5184491002427\n",
            "23 \t [-8.10098369  0.61845424  8.65164439]\t -66917.66088073654\t -436.5184491002427\t -436.5184491002427\n",
            "24 \t [4.62462204 9.29551761 0.08907094]\t -56846.333336428834\t -436.5184491002427\t -436.5184491002427\n",
            "25 \t [ 2.97874059 -1.00532535 -9.7619692 ]\t -110134.45177295854\t -436.5184491002427\t -436.518449089399\n",
            "26 \t [ 7.48835728 -1.30641673  7.00049774]\t -29668.906719940172\t -436.5184491002427\t -436.51844906487565\n",
            "27 \t [-7.40645161  2.96576905  1.9576089 ]\t -1386.7040462159289\t -436.5184491002427\t -436.51844860597123\n",
            "28 \t [-9.75098997 -2.69487958 -7.56580675]\t -42486.0775164873\t -436.5184491002427\t -436.5184490989894\n",
            "29 \t [ 0.82655294  0.84917855 -3.31070482]\t -1332.9204930727701\t -436.5184491002427\t -436.5184491002427\n",
            "30 \t [ -2.51516124   3.90920378 -10.        ]\t -117555.58596540017\t -436.5184491002427\t -436.51844875574585\n"
          ]
        }
      ]
    },
    {
      "cell_type": "code",
      "metadata": {
        "colab": {
          "base_uri": "https://localhost:8080/"
        },
        "id": "CphOPndPGClX",
        "outputId": "9366e9da-6677-4550-bbf5-e34600380f83"
      },
      "source": [
        "### ESTIMATED GP EI GRADIENTS\n",
        "\n",
        "np.random.seed(run_num_13)\n",
        "surrogate_approx_13 = GaussianProcess(cov_func, optimize=opt)\n",
        "\n",
        "approx_13 = GPGO_multi(surrogate_approx_13, Acquisition(util_grad_approx), objfunc, param)\n",
        "approx_13.run(init_evals=n_init, max_iter=iters)\n"
      ],
      "execution_count": null,
      "outputs": [
        {
          "output_type": "stream",
          "name": "stdout",
          "text": [
            "Evaluation \t Proposed point \t  Current eval. \t  Best eval. \t         Max AcqFunc.\n",
            "init\t [ 5.55404821 -5.2491756   6.48557065]\t -28895.231649642476\t -7190.67128147545\t    \n",
            "init\t [ 9.31498396  9.45202228 -0.93101505]\t -57617.86193657745\t -7190.67128147545\t    \n",
            "init\t [2.18084926 5.51053029 2.8322669 ]\t -7190.67128147545\t -7190.67128147545\t    \n",
            "init\t [ 4.44036459 -9.29926952 -4.03101058]\t -62045.794621798595\t -7190.67128147545\t    \n",
            "init\t [-8.82975016  7.14121885 -2.54291944]\t -24761.06708561053\t -7190.67128147545\t    \n",
            "1  \t [ 0.185244   -0.40233217  9.1114829 ]\t -83108.09560590271\t -7190.67128147545\t -7190.67128147545\n",
            "2  \t [-2.55507975  5.16954611 -8.57852975]\t -66788.32667697628\t -7190.67128147545\t -7190.67128147545\n",
            "3  \t [-4.04492519 -9.41811807  2.86360578]\t -67871.1485238979\t -7190.67128147545\t -7190.67128147545\n",
            "4  \t [ 5.82685351 -2.07230908 -7.09410447]\t -31695.800000421277\t -7190.67128147545\t -7190.67128147545\n",
            "5  \t [-9.72135464 -7.69244795 -6.22844507]\t -54735.99736938843\t -7190.67128147545\t -7190.67128147545\n",
            "6  \t [ 1.70981611 -7.96842051  6.63640935]\t -59069.60046239685\t -7190.67128147545\t -7190.67128147545\n",
            "7  \t [ 10.  10. -10.]\t -180581.0\t -7190.67128147545\t -7190.67128147545\n",
            "8  \t [10. 10. 10.]\t -180581.0\t -7190.67128147545\t -7190.67128147545\n",
            "9  \t [ 1.6639904   1.75101086 -5.56192983]\t -10883.292818417536\t -7190.67128147545\t -7190.67128147545\n",
            "10 \t [-9.07950825  4.05883741  9.39334859]\t -92811.09564931945\t -7190.67128147545\t -7190.67128147545\n",
            "11 \t [-10. -10.  10.]\t -220621.0\t -7190.67128147545\t -7190.67128147545\n",
            "12 \t [  7.24523373   3.47198178 -10.        ]\t -116477.58325254612\t -7190.67128147545\t -7190.67128147545\n",
            "\u001b[1m\u001b[92m13\u001b[0m\t \u001b[1m\u001b[92m[-4.97534813 -0.47854967 -2.75809964]\u001b[0m\t \u001b[1m\u001b[92m-833.5375014555372\u001b[0m\t \u001b[1m\u001b[92m-833.5375014555372\u001b[0m\t \u001b[1m\u001b[92m-7190.67128147545\u001b[0m\n",
            "14 \t [-0.33580928 -8.46313836 -9.58914318]\t -152249.80067087663\t -833.5375014555372\t -833.5375014078886\n",
            "15 \t [ 10. -10. -10.]\t -204581.0\t -833.5375014555372\t -833.5375014554508\n",
            "16 \t [-10.          -4.13136057   3.5214627 ]\t -6528.336246123523\t -833.5375014555372\t -833.53750145507\n",
            "17 \t [0.02329078 8.00324396 9.39696778]\t -118090.8768156785\t -833.5375014555372\t -833.5375014486389\n",
            "18 \t [ 10. -10.  10.]\t -204581.0\t -833.5375014555372\t -833.537501436287\n",
            "19 \t [6.28948877 1.1576258  7.72507096]\t -41964.78613282861\t -833.5375014555372\t -833.5375014555372\n",
            "20 \t [4.84759227 0.35590622 3.48973611]\t -1785.1061528226342\t -833.5375014555372\t -833.5375014555372\n",
            "21 \t [ -5.28862669  -1.42005463 -10.        ]\t -121923.45161450021\t -833.5375014555372\t -833.5375013465484\n",
            "22 \t [-6.75143788  9.62876583  4.02682209]\t -75484.39207055078\t -833.5375014555372\t -833.5375014277598\n",
            "23 \t [ 8.60376243 -4.36795382 -0.67898093]\t -1888.6797782646217\t -833.5375014555372\t -833.5375013234963\n",
            "\u001b[1m\u001b[92m24\u001b[0m\t \u001b[1m\u001b[92m[-2.22023475 -0.7292246   2.36800359]\u001b[0m\t \u001b[1m\u001b[92m-459.92127304262794\u001b[0m\t \u001b[1m\u001b[92m-459.92127304262794\u001b[0m\t \u001b[1m\u001b[92m-833.5375014555372\u001b[0m\n",
            "25 \t [-1.51248772 10.         -1.42939678]\t -81325.79176922655\t -459.92127304262794\t -459.9212730103464\n",
            "26 \t [-10.  10. -10.]\t -196621.0\t -459.92127304262794\t -459.9212730425396\n",
            "\u001b[1m\u001b[92m27\u001b[0m\t \u001b[1m\u001b[92m[ 8.6382104   2.30780816 -1.83756911]\u001b[0m\t \u001b[1m\u001b[92m-125.74034866546369\u001b[0m\t \u001b[1m\u001b[92m-125.74034866546369\u001b[0m\t \u001b[1m\u001b[92m-459.9212727256022\u001b[0m\n",
            "28 \t [-7.93671917  2.31368505  2.157585  ]\t -921.8473603939557\t -125.74034866546369\t -125.7403465654229\n",
            "29 \t [-6.69043433 -3.6746553  10.        ]\t -126780.16246064442\t -125.74034866546369\t -125.74034770214104\n",
            "30 \t [ 3.67760426  9.20942284 -6.81001439]\t -76023.9155156497\t -125.74034866546369\t -125.74034774031335\n"
          ]
        }
      ]
    },
    {
      "cell_type": "code",
      "metadata": {
        "colab": {
          "base_uri": "https://localhost:8080/"
        },
        "id": "ojHTeARNGCoi",
        "outputId": "9e7551b5-47d8-45b8-ee86-2770c8ada01b"
      },
      "source": [
        "### ESTIMATED GP EI GRADIENTS\n",
        "\n",
        "np.random.seed(run_num_14)\n",
        "surrogate_approx_14 = GaussianProcess(cov_func, optimize=opt)\n",
        "\n",
        "approx_14 = GPGO_multi(surrogate_approx_14, Acquisition(util_grad_approx), objfunc, param)\n",
        "approx_14.run(init_evals=n_init, max_iter=iters)\n"
      ],
      "execution_count": null,
      "outputs": [
        {
          "output_type": "stream",
          "name": "stdout",
          "text": [
            "Evaluation \t Proposed point \t  Current eval. \t  Best eval. \t         Max AcqFunc.\n",
            "init\t [0.27886688 5.46330104 7.40855371]\t -39702.89936997373\t -1439.5830530376063\t    \n",
            "init\t [-9.83906103 -3.80528149  9.15207479]\t -91186.29991894927\t -1439.5830530376063\t    \n",
            "init\t [ 0.26233425 -3.6343115   0.78399875]\t -1439.5830530376063\t -1439.5830530376063\t    \n",
            "init\t [-5.57490115  6.12962716 -3.15490749]\t -13643.962145478023\t -1439.5830530376063\t    \n",
            "init\t [ 0.77777698 -9.88252429  3.46304956]\t -79141.18744713577\t -1439.5830530376063\t    \n",
            "1  \t [ 7.75074914 -8.33301678  4.9312824 ]\t -44170.557703432896\t -1439.5830530376063\t -1439.5830530376063\n",
            "2  \t [ 2.4133841   6.9805318  -1.42862351]\t -18093.267359135454\t -1439.5830530376063\t -1439.5830530376063\n",
            "3  \t [ 0.20170278 -6.14709147 -9.49686071]\t -115740.3239857176\t -1439.5830530376063\t -1439.5830530376063\n",
            "4  \t [ 8.31288284 -8.41520495 -6.46756025]\t -61033.900912213845\t -1439.5830530376063\t -1439.5830530376063\n",
            "\u001b[1m\u001b[92m5\u001b[0m\t \u001b[1m\u001b[92m[-9.55982645 -2.40648449 -1.49955998]\u001b[0m\t \u001b[1m\u001b[92m-1148.4811474641567\u001b[0m\t \u001b[1m\u001b[92m-1148.4811474641567\u001b[0m\t \u001b[1m\u001b[92m-1439.5830530376063\u001b[0m\n",
            "6  \t [10. 10. 10.]\t -180581.0\t -1148.4811474641567\t -1148.4811474641567\n",
            "7  \t [ 5.07660615  7.61948752 -9.37017484]\t -109327.57369250164\t -1148.4811474641567\t -1148.4811474641567\n",
            "8  \t [-10.  10. -10.]\t -196621.0\t -1148.4811474641567\t -1148.4811474641567\n",
            "9  \t [ 7.40935318  0.84263204 10.        ]\t -119103.79477526518\t -1148.4811474641567\t -1148.4811474641567\n",
            "10 \t [-4.76065837 -6.01957255  5.24376667]\t -23130.52422954533\t -1148.4811474641567\t -1148.4811474641567\n",
            "11 \t [ 7.60230019 -1.14698318 -7.8298339 ]\t -46042.31695887177\t -1148.4811474641567\t -1148.4811474641517\n",
            "12 \t [-6.98452656  0.74550078 -9.19401505]\t -85183.98118751567\t -1148.4811474641567\t -1148.4811474641567\n",
            "13 \t [-3.36390978  3.12902366  6.11942711]\t -16523.004276481952\t -1148.4811474641567\t -1148.4811474641567\n",
            "14 \t [-10.  10.  10.]\t -196621.0\t -1148.4811474641567\t -1148.4811474641567\n",
            "15 \t [0.89026243 7.74449105 2.59197279]\t -28449.696044348027\t -1148.4811474641567\t -1148.4811474641567\n",
            "16 \t [ 1.93857007  1.60388317 -5.37497554]\t -9488.95417050194\t -1148.4811474641567\t -1148.4811474641567\n",
            "\u001b[1m\u001b[92m17\u001b[0m\t \u001b[1m\u001b[92m[ 9.90614776 -2.19870759  0.40228013]\u001b[0m\t \u001b[1m\u001b[92m-98.51929076584533\u001b[0m\t \u001b[1m\u001b[92m-98.51929076584533\u001b[0m\t \u001b[1m\u001b[92m-1148.4811474636422\u001b[0m\n",
            "18 \t [ 2.24496432 -3.39912563 -6.205258  ]\t -20269.19299563198\t -98.51929076584533\t -98.51929076584533\n",
            "19 \t [-10. -10. -10.]\t -220621.0\t -98.51929076584533\t -98.51929076584533\n",
            "20 \t [-10.          -9.49672037  -2.85854935]\t -74609.59517111116\t -98.51929076584533\t -98.51928994480018\n",
            "21 \t [ 9.41023837  4.75161459 -2.01737439]\t -2660.6409685414037\t -98.51929076584533\t -98.51929075091348\n",
            "22 \t [-2.20234009 -9.05102811 -2.85995789]\t -57088.812277295394\t -98.51929076584533\t -98.51929004416132\n",
            "23 \t [ -2.82917851   9.67689575 -10.        ]\t -180969.8295177376\t -98.51929076584533\t -98.51929012878072\n",
            "24 \t [ 5.02143217 -5.56762739  9.89706467]\t -128280.77306696307\t -98.51929076584533\t -98.5192907658453\n",
            "25 \t [10.         10.          2.85357457]\t -72399.53292754947\t -98.51929076584533\t -98.5192900237373\n",
            "26 \t [-5.04123148  8.893526    3.60084379]\t -54196.05559176021\t -98.51929076584533\t -98.51929076577335\n",
            "27 \t [9.18139766 2.43803123 5.25868822]\t -8467.161633133253\t -98.51929076584533\t -98.51929076584533\n",
            "28 \t [-9.59415947  2.45569475  2.58235819]\t -1405.3351660665812\t -98.51929076584533\t -98.5192897013649\n",
            "29 \t [4.01718124 1.15957033 3.26470269]\t -1231.543995533076\t -98.51929076584533\t -98.51929076584295\n",
            "30 \t [-1.31778746 -2.43767886 10.        ]\t -123297.01737825546\t -98.51929076584533\t -98.51928915180208\n"
          ]
        }
      ]
    },
    {
      "cell_type": "code",
      "metadata": {
        "colab": {
          "base_uri": "https://localhost:8080/"
        },
        "id": "vCJzn4vWGCs3",
        "outputId": "18d21aa3-c4b4-47da-80fe-5ab4e8b775c3"
      },
      "source": [
        "### ESTIMATED GP EI GRADIENTS\n",
        "\n",
        "np.random.seed(run_num_15)\n",
        "surrogate_approx_15 = GaussianProcess(cov_func, optimize=opt)\n",
        "\n",
        "approx_15 = GPGO_multi(surrogate_approx_15, Acquisition(util_grad_approx), objfunc, param)\n",
        "approx_15.run(init_evals=n_init, max_iter=iters)\n"
      ],
      "execution_count": null,
      "outputs": [
        {
          "output_type": "stream",
          "name": "stdout",
          "text": [
            "Evaluation \t Proposed point \t  Current eval. \t  Best eval. \t         Max AcqFunc.\n",
            "init\t [ 6.97635395 -6.4220815  -8.91273571]\t -93407.31094956005\t -3815.237318891498\t    \n",
            "init\t [-2.76923108 -4.49198143  0.6000045 ]\t -3815.237318891498\t -3815.237318891498\t    \n",
            "init\t [-3.88162169 -3.91051282 -7.76517448]\t -48905.136415868226\t -3815.237318891498\t    \n",
            "init\t [-5.00201972  8.35259796 -4.71706293]\t -45736.265979350435\t -3815.237318891498\t    \n",
            "init\t [4.35547375 7.31430068 6.14158964]\t -35004.84714820178\t -3815.237318891498\t    \n",
            "\u001b[1m\u001b[92m1\u001b[0m\t \u001b[1m\u001b[92m[-4.02002687  0.75490439  3.31255076]\u001b[0m\t \u001b[1m\u001b[92m-1425.6331932181074\u001b[0m\t \u001b[1m\u001b[92m-1425.6331932181074\u001b[0m\t \u001b[1m\u001b[92m-3815.237318891498\u001b[0m\n",
            "2  \t [ 2.60405856  6.24027381 -8.67997755]\t -73928.10815893668\t -1425.6331932181074\t -1425.6331932181074\n",
            "3  \t [-10. -10.  10.]\t -220621.0\t -1425.6331932181074\t -1425.6331932181074\n",
            "4  \t [  9.98117592  10.         -10.        ]\t -180594.96853034134\t -1425.6331932181074\t -1425.6331932181074\n",
            "5  \t [ 9.6912661   3.58725193 -5.40327777]\t -9600.747023774824\t -1425.6331932181074\t -1425.6331932181074\n",
            "\u001b[1m\u001b[92m6\u001b[0m\t \u001b[1m\u001b[92m[5.03726127 0.04872615 0.67891557]\u001b[0m\t \u001b[1m\u001b[92m-69.23889854019542\u001b[0m\t \u001b[1m\u001b[92m-69.23889854019542\u001b[0m\t \u001b[1m\u001b[92m-1425.6331932181074\u001b[0m\n",
            "7  \t [ 6.26789159 -7.73785259  5.12220104]\t -36659.91077858748\t -69.23889854019542\t -69.23889854019542\n",
            "8  \t [-5.79117971  5.04067968  9.03266882]\t -81477.5076954023\t -69.23889854019542\t -69.23889854015916\n",
            "9  \t [ 4.223123    8.63767022 -1.17549929]\t -42161.33369318762\t -69.23889854019542\t -69.23889853949316\n",
            "10 \t [ 3.88893442 -8.06801926 -1.99385928]\t -32679.999648494555\t -69.23889854019542\t -69.23889853955114\n",
            "11 \t [-3.9588039  -4.14994892  9.90335147]\t -123337.66597005507\t -69.23889854019542\t -69.23889854019514\n",
            "12 \t [-8.1564873  10.          2.98823458]\t -86927.38363707262\t -69.23889854019542\t -69.23889854018478\n",
            "13 \t [-8.99232293  2.92692402 -4.64560734]\t -6321.898150956401\t -69.23889854019542\t -69.23889854019542\n",
            "14 \t [9.32495946 3.2087539  9.94005148]\t -113697.86166331421\t -69.23889854019542\t -69.23889854019293\n",
            "15 \t [-3.29288774 -9.63977773 -3.80219281]\t -76027.99784180186\t -69.23889854019542\t -69.2388985100697\n",
            "16 \t [ 8.17721362 -0.96448402  5.36612699]\t -10417.42204547476\t -69.23889854019542\t -69.23889854019542\n",
            "17 \t [10.         10.          2.88434722]\t -72413.22568640875\t -69.23889854019542\t -69.23889838238553\n",
            "18 \t [-3.174519    0.81752231  7.37357542]\t -34999.41291503981\t -69.23889854019542\t -69.23889854019542\n",
            "19 \t [-9.22238711 -8.71971404 -7.47276858]\t -95624.47125900952\t -69.23889854019542\t -69.23889771258328\n",
            "20 \t [-10.  10. -10.]\t -196621.0\t -69.23889854019542\t -69.23889854019542\n",
            "21 \t [10.         -4.1552212  -0.46782729]\t -1347.8966630541163\t -69.23889854019542\t -69.23889825740109\n",
            "22 \t [ 1.29616053  0.83902775 -5.2184552 ]\t -8627.202372857579\t -69.23889854019542\t -69.23889854019542\n",
            "23 \t [-8.961987   -6.76536086  3.50746769]\t -23252.860876328974\t -69.23889854019542\t -69.23889828861229\n",
            "24 \t [-10.  10.  10.]\t -196621.0\t -69.23889854019542\t -69.23889854019542\n",
            "25 \t [ 10. -10.  10.]\t -204581.0\t -69.23889854019542\t -69.23889854019542\n",
            "26 \t [-10.          -1.04269542 -10.        ]\t -121671.9295179599\t -69.23889854019542\t -69.23889786642668\n",
            "27 \t [-9.89779937 -0.20399491  5.79169684]\t -13902.4415394413\t -69.23889854019542\t -69.23889713447792\n",
            "28 \t [-3.85708673  2.95268853 -9.27129205]\t -86573.92815166709\t -69.23889854019542\t -69.23889733150395\n",
            "29 \t [ 0.62547625 -9.88380163 -9.59329089]\t -188703.52187338722\t -69.23889854019542\t -69.23889748299146\n",
            "30 \t [ 10.         -10.          -3.90074316]\t -77185.14149043315\t -69.23889854019542\t -69.23889854019038\n"
          ]
        }
      ]
    },
    {
      "cell_type": "code",
      "metadata": {
        "colab": {
          "base_uri": "https://localhost:8080/"
        },
        "id": "bGGkhp-kGCw6",
        "outputId": "1f624569-485a-439d-f7df-50518628171e"
      },
      "source": [
        "### ESTIMATED GP EI GRADIENTS\n",
        "\n",
        "np.random.seed(run_num_16)\n",
        "surrogate_approx_16 = GaussianProcess(cov_func, optimize=opt)\n",
        "\n",
        "approx_16 = GPGO_multi(surrogate_approx_16, Acquisition(util_grad_approx), objfunc, param)\n",
        "approx_16.run(init_evals=n_init, max_iter=iters)\n"
      ],
      "execution_count": null,
      "outputs": [
        {
          "output_type": "stream",
          "name": "stdout",
          "text": [
            "Evaluation \t Proposed point \t  Current eval. \t  Best eval. \t         Max AcqFunc.\n",
            "init\t [-5.53417842  0.46326683  1.01402913]\t -121.43529547027163\t -121.43529547027163\t    \n",
            "init\t [-9.087961   -2.78542329 -5.53838117]\t -13651.622350397936\t -121.43529547027163\t    \n",
            "init\t [ 3.77452324 -6.7253715  -8.59350266]\t -86575.28663542298\t -121.43529547027163\t    \n",
            "init\t [ 8.8202172   1.2736276  -8.44015321]\t -59934.59518842736\t -121.43529547027163\t    \n",
            "init\t [ 4.45281022 -6.83095653 -4.99437387]\t -25459.039011491368\t -121.43529547027163\t    \n",
            "1  \t [4.18505664 9.44091052 6.20078235]\t -74267.36337655598\t -121.43529547027163\t -121.43529547027163\n",
            "2  \t [ 5.46645324 -3.10791558  7.00820468]\t -31211.732976445848\t -121.43529547027163\t -121.43529547027163\n",
            "3  \t [-10.  10.  10.]\t -196621.0\t -121.43529547027163\t -121.43529547027163\n",
            "4  \t [-2.61755868 -8.2924165   4.84857415]\t -48472.3424987587\t -121.43529547027163\t -121.43529547027163\n",
            "5  \t [-3.40441603  9.0441433  -4.42822156]\t -58527.14818017682\t -121.43529547027163\t -121.43529547027163\n",
            "6  \t [ 4.43542074  9.94841157 -7.0897813 ]\t -99516.29975823758\t -121.43529547027163\t -121.43529547024627\n",
            "7  \t [-7.92323047 -1.59321032  9.84617866]\t -115063.9149436472\t -121.43529547027163\t -121.43529547027163\n",
            "8  \t [-10. -10. -10.]\t -220621.0\t -121.43529547027163\t -121.43529547027056\n",
            "9  \t [ 10. -10.  10.]\t -204581.0\t -121.43529547027163\t -121.43529547027133\n",
            "10 \t [ 9.98852149 -7.93099291 -5.611128  ]\t -41986.637450421564\t -121.43529547027163\t -121.43529547027163\n",
            "11 \t [-9.64442768 -5.12694362  2.33258491]\t -8623.697730678545\t -121.43529547027163\t -121.43529546922096\n",
            "12 \t [ 5.0988432   3.81308483 -0.80157698]\t -1186.091453780856\t -121.43529547027163\t -121.4352954702706\n",
            "13 \t [ 0.92740386  0.10886049 -7.53447757]\t -38599.265978728814\t -121.43529547027163\t -121.43529543901286\n",
            "14 \t [-9.22737901  7.91567599 -9.27617181]\t -117172.64391571193\t -121.43529547027163\t -121.43529546498127\n",
            "15 \t [ -2.28959615 -10.          -2.48398837]\t -83350.26280340414\t -121.43529547027163\t -121.43529545849935\n",
            "16 \t [-2.49896383  2.98642226  6.06853985]\t -15821.24984511755\t -121.43529547027163\t -121.43529539851045\n",
            "17 \t [10.          3.39245847  3.28737887]\t -1415.9562334747054\t -121.43529547027163\t -121.4352946977763\n",
            "18 \t [ 6.16453531 -9.68598445  2.92485284]\t -68044.8839016422\t -121.43529547027163\t -121.4352954682541\n",
            "19 \t [-10.          10.          -0.28148217]\t -88611.56746751485\t -121.43529547027163\t -121.43529546904783\n",
            "20 \t [-10. -10.  10.]\t -220621.0\t -121.43529547027163\t -121.43529547026864\n",
            "21 \t [-2.76135005  8.43007393 10.        ]\t -152099.59299705163\t -121.43529547027163\t -121.43529411331106\n",
            "22 \t [-0.97563554 -2.96726339 -1.36103092]\t -828.2527960006332\t -121.43529547027163\t -121.43529483919377\n",
            "23 \t [ -2.21998696 -10.         -10.        ]\t -214096.2145690014\t -121.43529547027163\t -121.43529425078927\n",
            "24 \t [ 8.56220423 -2.00369152 -1.24269541]\t -135.5481560705487\t -121.43529547027163\t -121.4352953714795\n",
            "25 \t [ 8.12952668  4.27761903 10.        ]\t -116593.26718769294\t -121.43529547027163\t -121.43529543806935\n",
            "26 \t [-10.           4.8284253    5.10362204]\t -13236.40053926592\t -121.43529547027163\t -121.43529448206594\n",
            "27 \t [-0.71410957 -3.39574543 10.        ]\t -125243.04926665375\t -121.43529547027163\t -121.43529450419418\n",
            "28 \t [ -9.30195079 -10.          -2.35056067]\t -89050.08510891517\t -121.43529547027163\t -121.43529409565143\n",
            "29 \t [ 8.25365593 10.          0.02632685]\t -73885.85328557188\t -121.43529547027163\t -121.43529541297433\n",
            "30 \t [ -5.57764694   1.91371089 -10.        ]\t -118090.73409250879\t -121.43529547027163\t -121.43529447280896\n"
          ]
        }
      ]
    },
    {
      "cell_type": "code",
      "metadata": {
        "id": "Yrs2mp7hGC1Z",
        "colab": {
          "base_uri": "https://localhost:8080/"
        },
        "outputId": "d536564d-e9b2-4f2a-e8ae-0b0c0bf53c8b"
      },
      "source": [
        "### ESTIMATED GP EI GRADIENTS\n",
        "\n",
        "np.random.seed(run_num_17)\n",
        "surrogate_approx_17 = GaussianProcess(cov_func, optimize=opt)\n",
        "\n",
        "approx_17 = GPGO_multi(surrogate_approx_17, Acquisition(util_grad_approx), objfunc, param)\n",
        "approx_17.run(init_evals=n_init, max_iter=iters)\n"
      ],
      "execution_count": null,
      "outputs": [
        {
          "output_type": "stream",
          "name": "stdout",
          "text": [
            "Evaluation \t Proposed point \t  Current eval. \t  Best eval. \t         Max AcqFunc.\n",
            "init\t [-4.10669995  0.61173511 -6.16958426]\t -17181.1334683022\t -11774.913131399897\t    \n",
            "init\t [-8.64199284  5.7397092   3.12667044]\t -11774.913131399897\t -11774.913131399897\t    \n",
            "init\t [ 2.75041792  1.51205788 -9.21874168]\t -85144.34017448343\t -11774.913131399897\t    \n",
            "init\t [-2.84372791  8.91366374 -8.79910639]\t -116232.21251957516\t -11774.913131399897\t    \n",
            "init\t [ 7.28084207  7.54581052 -8.97612669]\t -93540.66819534874\t -11774.913131399897\t    \n",
            "1  \t [ 3.53524771 -7.6305547  -1.10007868]\t -25809.301647344466\t -11774.913131399897\t -11774.913131399897\n",
            "\u001b[1m\u001b[92m2\u001b[0m\t \u001b[1m\u001b[92m[9.06605384 1.70871417 1.66132937]\u001b[0m\t \u001b[1m\u001b[92m-129.46210636737467\u001b[0m\t \u001b[1m\u001b[92m-129.46210636737467\u001b[0m\t \u001b[1m\u001b[92m-11774.913131399897\u001b[0m\n",
            "3  \t [5.27601463 9.99566767 6.35850193]\t -90783.98305117982\t -129.46210636737467\t -129.46210636737467\n",
            "4  \t [-8.52512993 -8.03930931 -1.75006035]\t -38662.67579605237\t -129.46210636737467\t -129.46210636737467\n",
            "5  \t [-5.23795116  0.45408403  8.62047905]\t -65966.90843633469\t -129.46210636737467\t -129.46210636737467\n",
            "6  \t [0.77793961 2.17142302 2.23437955]\t -332.9224565238143\t -129.46210636737467\t -129.46210636737467\n",
            "7  \t [ 4.90212584  6.3243788  -3.46884476]\t -12237.537261458452\t -129.46210636737467\t -129.46210636737467\n",
            "8  \t [ -0.54967901  -6.52929159 -10.        ]\t -142693.18019531853\t -129.46210636737467\t -129.46210636737467\n",
            "9  \t [ 10. -10.  10.]\t -204581.0\t -129.46210636737467\t -129.46210636737467\n",
            "10 \t [-7.71239267 -7.38320543  5.5411325 ]\t -41527.23042901857\t -129.46210636737467\t -129.46210636737467\n",
            "11 \t [9.00876915 0.79791433 2.81059692]\t -858.903901979533\t -129.46210636737467\t -129.46210636737467\n",
            "12 \t [ 4.60823713 -3.69282708  7.93523625]\t -51451.34641288262\t -129.46210636737467\t -129.46210636735887\n",
            "13 \t [ 9.15484118  3.11620099 -0.11470719]\t -305.94877674269026\t -129.46210636737467\t -129.7222870956358\n",
            "14 \t [ 10.         -5.0464192 -10.       ]\t -129564.07288268112\t -129.46210636737467\t -129.46210636737467\n",
            "15 \t [-10. -10. -10.]\t -220621.0\t -129.46210636737467\t -129.46210636737467\n",
            "16 \t [-6.87999705  8.36558155 -2.65389137]\t -43287.7138510791\t -129.46210636737467\t -129.46210554752182\n",
            "17 \t [-1.55256616 -9.93104392 -7.69587118]\t -128499.72883516757\t -129.46210636737467\t -129.46210636737467\n",
            "18 \t [0.78542854 4.62312073 9.4603132 ]\t -94738.21858187231\t -129.46210636737467\t -129.46210630740518\n",
            "19 \t [-10.  10.  10.]\t -196621.0\t -129.46210636737467\t -129.4621063673599\n",
            "20 \t [-10.  10. -10.]\t -196621.0\t -129.46210636737467\t -129.46210624863676\n",
            "21 \t [-5.55389035 -0.89234484  0.4979679 ]\t -150.8789828097113\t -129.46210636737467\t -129.46210615005637\n",
            "22 \t [10.          4.07863654 10.        ]\t -116319.57916500898\t -129.46210636737467\t -129.46210636734608\n",
            "23 \t [10.         10.         -0.61140492]\t -72537.81894322956\t -129.46210636737467\t -129.4621060891711\n",
            "24 \t [  1.72186749 -10.          10.        ]\t -210928.95675443107\t -129.46210636737467\t -129.46210625826637\n",
            "25 \t [-0.43762296  9.57560772  0.60435721]\t -67817.9399231372\t -129.46210636737467\t -129.46210631207808\n",
            "26 \t [  8.66268066 -10.           2.83804756]\t -75323.70022954087\t -129.46210636737467\t -129.46210541000013\n",
            "27 \t [-0.83178833 -3.77335167  3.08611796]\t -3283.767468336592\t -129.46210636737467\t -129.46210493393923\n",
            "28 \t [ 9.50337052 -9.63587748 -4.07196959]\t -67657.94402256426\t -129.46210636737467\t -129.46210488707183\n",
            "29 \t [ -9.43579155   2.55742135 -10.        ]\t -118073.61584031471\t -129.46210636737467\t -129.4621057144837\n",
            "30 \t [-3.16590516 10.          7.24315463]\t -109603.29035608629\t -129.46210636737467\t -129.46210513654506\n"
          ]
        }
      ]
    },
    {
      "cell_type": "code",
      "metadata": {
        "id": "f0HIEP3PIUEa",
        "colab": {
          "base_uri": "https://localhost:8080/"
        },
        "outputId": "86c044a7-99b5-4cbb-d531-09685bd3d51c"
      },
      "source": [
        "### ESTIMATED GP EI GRADIENTS\n",
        "\n",
        "np.random.seed(run_num_18)\n",
        "surrogate_approx_18 = GaussianProcess(cov_func, optimize=opt)\n",
        "\n",
        "approx_18 = GPGO_multi(surrogate_approx_18, Acquisition(util_grad_approx), objfunc, param)\n",
        "approx_18.run(init_evals=n_init, max_iter=iters)\n"
      ],
      "execution_count": null,
      "outputs": [
        {
          "output_type": "stream",
          "name": "stdout",
          "text": [
            "Evaluation \t Proposed point \t  Current eval. \t  Best eval. \t         Max AcqFunc.\n",
            "init\t [3.00748483 0.10906747 7.57202942]\t -39395.322047969305\t -27664.83628190573\t    \n",
            "init\t [-6.36319549  7.04466137  5.00272572]\t -27913.961335277138\t -27664.83628190573\t    \n",
            "init\t [ 3.32203335  9.75790897 -4.86063155]\t -74244.15287271979\t -27664.83628190573\t    \n",
            "init\t [-9.43388149  2.71438231  6.94624775]\t -27664.83628190573\t -27664.83628190573\t    \n",
            "init\t [ 4.7234925  -9.58385776 -7.76793739]\t -114986.86534587143\t -27664.83628190573\t    \n",
            "\u001b[1m\u001b[92m1\u001b[0m\t \u001b[1m\u001b[92m[-3.60627759 -4.12128051 -3.96163645]\u001b[0m\t \u001b[1m\u001b[92m-6628.123996844119\u001b[0m\t \u001b[1m\u001b[92m-6628.123996844119\u001b[0m\t \u001b[1m\u001b[92m-27664.83628190573\u001b[0m\n",
            "2  \t [ 6.31975365  3.18761398 -5.14286127]\t -7833.7930593098545\t -6628.123996844119\t -6628.123996844119\n",
            "\u001b[1m\u001b[92m3\u001b[0m\t \u001b[1m\u001b[92m[ 8.98418483 -5.51984113  1.59973658]\u001b[0m\t \u001b[1m\u001b[92m-5801.508998849156\u001b[0m\t \u001b[1m\u001b[92m-5801.508998849156\u001b[0m\t \u001b[1m\u001b[92m-6628.123996844119\u001b[0m\n",
            "4  \t [-9.82664426 -9.19265651  7.01964259]\t -98908.14619333696\t -5801.508998849156\t -5801.508998849156\n",
            "\u001b[1m\u001b[92m5\u001b[0m\t \u001b[1m\u001b[92m[-2.53775904  1.42536014 -1.62522138]\u001b[0m\t \u001b[1m\u001b[92m-144.3007399321474\u001b[0m\t \u001b[1m\u001b[92m-144.3007399321474\u001b[0m\t \u001b[1m\u001b[92m-5801.508998849156\u001b[0m\n",
            "6  \t [-8.41638891  3.62928904 -8.37899504]\t -58636.25217955298\t -144.3007399321474\t -144.3007399321474\n",
            "7  \t [4.76859313 6.53506599 3.93926051]\t -14822.442752768635\t -144.3007399321474\t -144.3007399321474\n",
            "8  \t [ 1.54007968 -2.49510305  7.62800693]\t -42627.25456372583\t -144.3007399321474\t -144.3007399321474\n",
            "9  \t [ 10. -10.  10.]\t -204581.0\t -144.3007399321474\t -144.3007399321474\n",
            "10 \t [-4.45384194 10.         -1.78676489]\t -83671.69478438319\t -144.3007399321474\t -144.30073992932657\n",
            "11 \t [-9.86973108 -9.49362916 -9.87083803]\t -197704.91270806122\t -144.3007399321474\t -144.3007399321474\n",
            "12 \t [10. 10. 10.]\t -180581.0\t -144.3007399321474\t -144.30073993214717\n",
            "13 \t [ 0.71612401  0.72479636 -9.68187435]\t -104629.88885686785\t -144.3007399321474\t -144.30073993118455\n",
            "14 \t [-2.01375594  8.50007968 -9.93872979]\t -150170.4486035108\t -144.3007399321474\t -144.30073990416977\n",
            "15 \t [-9.93581462 -8.88515324 -1.9323835 ]\t -57254.17065227144\t -144.3007399321474\t -144.300739930442\n",
            "16 \t [ -0.91787492 -10.           8.90143302]\t -165887.11661147885\t -144.3007399321474\t -144.30073993187705\n",
            "17 \t [10.         -5.30476431 -5.15945175]\t -14647.298724465305\t -144.3007399321474\t -144.3007395469744\n",
            "18 \t [ 2.52121669 -9.87643305  2.25513484]\t -75371.86877406345\t -144.3007399321474\t -144.30073987510048\n",
            "19 \t [ 10.  10. -10.]\t -180581.0\t -144.3007399321474\t -144.30073993213367\n",
            "20 \t [-9.40976734  1.33388274 -0.32154215]\t -448.525551696626\t -144.3007399321474\t -144.30073991234653\n",
            "21 \t [ 10.           0.29833527 -10.        ]\t -119916.20774382634\t -144.3007399321474\t -144.30073940276677\n",
            "22 \t [-10.  10.  10.]\t -196621.0\t -144.3007399321474\t -144.30073903357462\n",
            "23 \t [-4.39019724 -6.43984046  2.74806157]\t -16675.630931267704\t -144.3007399321474\t -144.30073984647228\n",
            "24 \t [ 2.64883235 -3.22350276 -1.19261688]\t -770.8060054366682\t -144.3007399321474\t -144.30073974530316\n",
            "25 \t [-4.90325182 -4.71767037  6.43998099]\t -27973.877046357913\t -144.3007399321474\t -144.3007399321474\n",
            "26 \t [-2.42530689 10.         10.        ]\t -190263.74247002427\t -144.3007399321474\t -144.30073961079793\n",
            "27 \t [ -2.66352879 -10.         -10.        ]\t -214458.43324985355\t -144.3007399321474\t -144.30073946954244\n",
            "28 \t [9.66277171 2.68704209 7.20076361]\t -30732.755942508076\t -144.3007399321474\t -144.30073963021326\n",
            "29 \t [-3.04774282  2.85711707  9.45218163]\t -93516.0309508356\t -144.3007399321474\t -144.30073719464167\n",
            "30 \t [ 1.00000000e+01  1.20521196e+00 -3.00240462e-03]\t -186.03349105091766\t -144.3007399321474\t -144.30073868056553\n"
          ]
        }
      ]
    },
    {
      "cell_type": "code",
      "metadata": {
        "id": "S3mxRQDLIUPC",
        "colab": {
          "base_uri": "https://localhost:8080/"
        },
        "outputId": "1b700ab2-9d17-47fc-a52c-0be80816b48a"
      },
      "source": [
        "### ESTIMATED GP EI GRADIENTS\n",
        "\n",
        "np.random.seed(run_num_19)\n",
        "surrogate_approx_19 = GaussianProcess(cov_func, optimize=opt)\n",
        "\n",
        "approx_19 = GPGO_multi(surrogate_approx_19, Acquisition(util_grad_approx), objfunc, param)\n",
        "approx_19.run(init_evals=n_init, max_iter=iters)\n"
      ],
      "execution_count": null,
      "outputs": [
        {
          "output_type": "stream",
          "name": "stdout",
          "text": [
            "Evaluation \t Proposed point \t  Current eval. \t  Best eval. \t         Max AcqFunc.\n",
            "init\t [-8.04932797  5.22499433 -5.06124054]\t -14282.07020620917\t -7826.389573301183\t    \n",
            "init\t [-7.23736625 -3.37106873 -8.3400087 ]\t -62767.56440733103\t -7826.389573301183\t    \n",
            "init\t [3.43954163 6.13187596 9.65483829]\t -107829.21541670273\t -7826.389573301183\t    \n",
            "init\t [ 2.7132147  -5.68153488  0.98054864]\t -7826.389573301183\t -7826.389573301183\t    \n",
            "init\t [ 0.91119916 -5.31847854 -7.72548314]\t -52835.14449570301\t -7826.389573301183\t    \n",
            "\u001b[1m\u001b[92m1\u001b[0m\t \u001b[1m\u001b[92m[-8.70426449  3.79716958  1.04335667]\u001b[0m\t \u001b[1m\u001b[92m-2920.737921781948\u001b[0m\t \u001b[1m\u001b[92m-2920.737921781948\u001b[0m\t \u001b[1m\u001b[92m-7826.389573301183\u001b[0m\n",
            "2  \t [-10.         -10.           4.74028698]\t -97376.42218876982\t -2920.737921781948\t -2920.737921781948\n",
            "3  \t [-5.92264612  1.94070459  8.81541711]\t -71080.60419246902\t -2920.737921781948\t -2920.737921781948\n",
            "4  \t [ 9.93826046 -7.57727549 -3.12538868]\t -24289.940560273273\t -2920.737921781948\t -2920.737921781948\n",
            "5  \t [-10. -10. -10.]\t -220621.0\t -2920.737921781948\t -2920.737921781948\n",
            "6  \t [6.53768271 8.27261557 0.88726414]\t -34139.50528106757\t -2920.737921781948\t -2920.737921781948\n",
            "7  \t [8.88477717 1.65383617 9.09628062]\t -80607.08552314134\t -2920.737921781948\t -2920.737921781948\n",
            "8  \t [-10.  10.  10.]\t -196621.0\t -2920.737921781948\t -2920.737921781948\n",
            "9  \t [-0.88364342 -0.53896298  9.12024958]\t -83571.53151095378\t -2920.737921781948\t -2920.737921781948\n",
            "10 \t [ 3.35389857 -9.96203876  9.07194342]\t -167573.4372796627\t -2920.737921781948\t -2920.737921781948\n",
            "\u001b[1m\u001b[92m11\u001b[0m\t \u001b[1m\u001b[92m[-0.82658611  0.86505746 -3.68328665]\u001b[0m\t \u001b[1m\u001b[92m-2084.1773688952567\u001b[0m\t \u001b[1m\u001b[92m-2084.1773688952567\u001b[0m\t \u001b[1m\u001b[92m-2920.737921781948\u001b[0m\n",
            "12 \t [ 0.19609949  8.62619954 -7.40348118]\t -74781.44337676886\t -2084.1773688952567\t -2084.1773688952567\n",
            "13 \t [-3.31304007  8.60633167  5.38176934]\t -53190.920647531\t -2084.1773688952567\t -2084.1773688952567\n",
            "14 \t [ 6.9915601   5.47359895 -8.30558749]\t -58301.22396648849\t -2084.1773688952567\t -2084.1773688952567\n",
            "15 \t [10. 10. 10.]\t -180581.0\t -2084.1773688952567\t -2084.1773688952535\n",
            "16 \t [ 9.02147784  2.6853713  -8.65516215]\t -65071.71602536134\t -2084.1773688952567\t -2084.1773688952567\n",
            "17 \t [ 4.87354767 -0.83030448 -8.23000576]\t -55769.47006687408\t -2084.1773688952567\t -2084.1773688952567\n",
            "18 \t [1.9799272  3.81156677 6.02897636]\t -15702.85164015473\t -2084.1773688952567\t -2084.1773688952567\n",
            "19 \t [-4.71465787 -3.33692723  2.76841261]\t -2534.1816283550056\t -2084.1773688952567\t -2084.1773688940852\n",
            "20 \t [ 10. -10. -10.]\t -204581.0\t -2084.1773688952567\t -2084.177368860055\n",
            "\u001b[1m\u001b[92m21\u001b[0m\t \u001b[1m\u001b[92m[7.32201267 0.09928487 1.94229475]\u001b[0m\t \u001b[1m\u001b[92m-312.931762349178\u001b[0m\t \u001b[1m\u001b[92m-312.931762349178\u001b[0m\t \u001b[1m\u001b[92m-2084.1773688633657\u001b[0m\n",
            "22 \t [-10.  10. -10.]\t -196621.0\t -312.931762349178\t -312.9317622889398\n",
            "23 \t [-4.27023191 -7.23038    -2.84748561]\t -25363.663882074386\t -312.931762349178\t -312.93176216016747\n",
            "24 \t [ -3.7991519    3.29507564 -10.        ]\t -117403.46234657167\t -312.931762349178\t -312.93176137729006\n",
            "25 \t [ 9.0301729  -4.66721684  5.55752105]\t -15692.447012422284\t -312.931762349178\t -312.931761573089\n",
            "26 \t [ -2.47316409 -10.           3.2132398 ]\t -84821.06162252412\t -312.931762349178\t -312.9317617032627\n",
            "27 \t [-10.          -3.5504479   -1.07696599]\t -2704.056139298875\t -312.931762349178\t -312.93176146666985\n",
            "28 \t [-9.96480012 10.          2.58115923]\t -88323.82362916555\t -312.931762349178\t -312.9317612965403\n",
            "29 \t [ -3.83629629 -10.          10.        ]\t -215421.8611336085\t -312.931762349178\t -312.93176035778214\n",
            "30 \t [-3.47280896 10.         -1.59474524]\t -82894.80365797176\t -312.931762349178\t -312.9317612516386\n"
          ]
        }
      ]
    },
    {
      "cell_type": "code",
      "metadata": {
        "id": "Aawd59dRIUYn",
        "colab": {
          "base_uri": "https://localhost:8080/"
        },
        "outputId": "8896855c-5def-4a7b-c16b-7c3be3df70f1"
      },
      "source": [
        "### ESTIMATED GP EI GRADIENTS\n",
        "\n",
        "np.random.seed(run_num_20)\n",
        "surrogate_approx_20 = GaussianProcess(cov_func, optimize=opt)\n",
        "\n",
        "approx_20 = GPGO_multi(surrogate_approx_20, Acquisition(util_grad_approx), objfunc, param)\n",
        "approx_20.run(init_evals=n_init, max_iter=iters)\n"
      ],
      "execution_count": null,
      "outputs": [
        {
          "output_type": "stream",
          "name": "stdout",
          "text": [
            "Evaluation \t Proposed point \t  Current eval. \t  Best eval. \t         Max AcqFunc.\n",
            "init\t [1.76261602 7.95427456 7.83061459]\t -70596.27231718504\t -1177.4786310520467\t    \n",
            "init\t [ 6.31674955 -9.28220829  3.83515164]\t -59634.45116383437\t -1177.4786310520467\t    \n",
            "init\t [-2.42638116  0.37021891  3.15902931]\t -1177.4786310520467\t -1177.4786310520467\t    \n",
            "init\t [-6.12299564 -4.55367196  4.37211867]\t -10072.821243906226\t -1177.4786310520467\t    \n",
            "init\t [5.66007219 7.0065528  5.50489788]\t -25762.190938183892\t -1177.4786310520467\t    \n",
            "1  \t [ 3.58822235  3.01571828 -4.62409523]\t -5172.971057172382\t -1177.4786310520467\t -1177.4786310520467\n",
            "2  \t [ 6.90281047 -9.84449703 -8.45927451]\t -140110.25172511325\t -1177.4786310520467\t -1177.4786310520467\n",
            "3  \t [-2.02505955 -3.84087805 -8.90073734]\t -81008.7373034749\t -1177.4786310520467\t -1177.4786310520467\n",
            "4  \t [-9.03422809  7.69291444  7.37966897]\t -63300.39318700283\t -1177.4786310520467\t -1177.4786310520467\n",
            "5  \t [-10.           3.69600757 -10.        ]\t -118512.47804243994\t -1177.4786310520467\t -1177.4786310520467\n",
            "6  \t [-6.47544342 10.         -3.45673353]\t -85899.56405072765\t -1177.4786310520467\t -1177.4786310520467\n",
            "7  \t [  2.90997326   9.80451551 -10.        ]\t -180231.24484137478\t -1177.4786310520467\t -1177.4786310520467\n",
            "8  \t [-10. -10.  10.]\t -220621.0\t -1177.4786310520467\t -1177.4786310520465\n",
            "9  \t [-4.90218543  2.34345939 -3.77355686]\t -2588.824419231089\t -1177.4786310520467\t -1177.4786310494828\n",
            "10 \t [-5.68959747 -8.46665594 -7.29795281]\t -84147.35090511001\t -1177.4786310520467\t -1177.4786310520467\n",
            "11 \t [10.         10.         -4.62122474]\t -75491.11416204917\t -1177.4786310520467\t -1177.4786310520462\n",
            "12 \t [ 0.2329041  -7.1824994  -2.30718206]\t -22148.980776170505\t -1177.4786310520467\t -1177.4786310520467\n",
            "13 \t [ 7.78514069 -0.8794497   5.8559824 ]\t -14599.824581522218\t -1177.4786310520467\t -1177.4786310520064\n",
            "\u001b[1m\u001b[92m14\u001b[0m\t \u001b[1m\u001b[92m[ 9.24622151 -3.35477385 -2.10855021]\u001b[0m\t \u001b[1m\u001b[92m-869.7516226289016\u001b[0m\t \u001b[1m\u001b[92m-869.7516226289016\u001b[0m\t \u001b[1m\u001b[92m-1177.4786310520444\u001b[0m\n",
            "15 \t [-1.54047293 -8.88795142  7.50630175]\t -95250.22764261646\t -869.7516226289016\t -869.7516225438345\n",
            "16 \t [ 8.71567352 -9.23552071 -1.77855208]\t -53192.45226100789\t -869.7516226289016\t -869.7516226289016\n",
            "17 \t [-1.39171491  0.07387416 10.        ]\t -119921.02242089265\t -869.7516226289016\t -869.7516226061946\n",
            "\u001b[1m\u001b[92m18\u001b[0m\t \u001b[1m\u001b[92m[-10.          -0.29414172   0.08891554]\u001b[0m\t \u001b[1m\u001b[92m-328.26964673835363\u001b[0m\t \u001b[1m\u001b[92m-328.26964673835363\u001b[0m\t \u001b[1m\u001b[92m-869.7516225438773\u001b[0m\n",
            "19 \t [0.30553803 5.4261645  3.41450322]\t -7824.263053625887\t -328.26964673835363\t -328.26964673835363\n",
            "20 \t [10.         -6.07077934 10.        ]\t -135594.10118806863\t -328.26964673835363\t -328.26964657247345\n",
            "21 \t [ 10.           1.18185922 -10.        ]\t -118770.82421925604\t -328.26964673835363\t -328.26964673835334\n",
            "22 \t [ 9.93511995  3.8387273  -0.55866692]\t -874.1879644887431\t -328.26964673835363\t -328.2696466807079\n",
            "23 \t [-10.          -2.05223394  10.        ]\t -123275.15377577709\t -328.26964673835363\t -328.26964672032335\n",
            "24 \t [10. 10. 10.]\t -180581.0\t -328.26964673835363\t -328.2696462524877\n",
            "25 \t [-8.03926695 -7.53443312 -0.61714208]\t -29848.96944248592\t -328.26964673835363\t -328.26964673835363\n",
            "26 \t [ 0.45906685  8.87142612 -2.86815732]\t -49436.3945069822\t -328.26964673835363\t -328.2696458461011\n",
            "27 \t [-4.32384266  6.26033035  1.14573172]\t -13748.981244274537\t -328.26964673835363\t -328.26964673835363\n",
            "28 \t [-10.          -3.06261019  -5.5490312 ]\t -14312.535434132595\t -328.26964673835363\t -328.2696453902332\n",
            "\u001b[1m\u001b[92m29\u001b[0m\t \u001b[1m\u001b[92m[ 3.38440682 -1.43101165  0.48512623]\u001b[0m\t \u001b[1m\u001b[92m-17.54641877223321\u001b[0m\t \u001b[1m\u001b[92m-17.54641877223321\u001b[0m\t \u001b[1m\u001b[92m-328.2696459130486\u001b[0m\n",
            "30 \t [-0.19773324 -9.57144904 -7.35303477]\t -108853.32138193467\t -17.54641877223321\t -17.546418667704724\n"
          ]
        }
      ]
    },
    {
      "cell_type": "code",
      "metadata": {
        "id": "xkgzPRbBTHaq",
        "colab": {
          "base_uri": "https://localhost:8080/"
        },
        "outputId": "43ad5c35-cf97-4b99-bb78-251fdc7963df"
      },
      "source": [
        "end_approx = time.time()\n",
        "end_approx\n",
        "\n",
        "time_approx = end_approx - start_approx\n",
        "time_approx\n",
        "\n",
        "start_exact = time.time()\n",
        "start_exact"
      ],
      "execution_count": null,
      "outputs": [
        {
          "output_type": "execute_result",
          "data": {
            "text/plain": [
              "1649162926.1809013"
            ]
          },
          "metadata": {},
          "execution_count": 33
        }
      ]
    },
    {
      "cell_type": "code",
      "metadata": {
        "id": "7CG3Ndvb16Rb",
        "colab": {
          "base_uri": "https://localhost:8080/"
        },
        "outputId": "a02ea221-94e0-465d-84b4-93d0a7c0b5e5"
      },
      "source": [
        "### EXACT GP EI GRADIENTS\n",
        "\n",
        "np.random.seed(run_num_1)\n",
        "surrogate_exact_1 = dGaussianProcess(cov_func, optimize=opt)\n",
        "\n",
        "exact_1 = dGPGO(surrogate_exact_1, Acquisition_new(util_grad_exact), objfunc, param)\n",
        "exact_1.run(init_evals=n_init, max_iter=iters)\n"
      ],
      "execution_count": null,
      "outputs": [
        {
          "output_type": "stream",
          "name": "stdout",
          "text": [
            "Evaluation \t Proposed point \t  Current eval. \t  Best eval. \t         Max AcqFunc.\n",
            "init\t [-1.65955991  4.40648987 -9.9977125 ]\t -117949.69994259246\t -1743.4541121077734\t    \n",
            "init\t [-3.95334855 -7.06488218 -8.1532281 ]\t -80377.19459880023\t -1743.4541121077734\t    \n",
            "init\t [-6.27479577 -3.08878546 -2.06465052]\t -1743.4541121077734\t -1743.4541121077734\t    \n",
            "init\t [ 0.77633468 -1.61610971  3.70439001]\t -2573.2528931184784\t -1743.4541121077734\t    \n",
            "init\t [-5.91095501  7.56234873 -9.45224814]\t -116840.74897847573\t -1743.4541121077734\t    \n",
            "1  \t [-8.03306332 -1.5778475   9.1577906 ]\t -86415.93772353831\t -1743.4541121077734\t -1743.4541120977735\n",
            "2  \t [-5.34051452  6.14210391 -2.24278712]\t -13140.755438034004\t -1743.4541121077734\t -1743.4541120977735\n",
            "3  \t [ 8.37203556 -9.9919595   9.53518298]\t -183648.52554820437\t -1743.4541121077734\t -1743.4541120977735\n",
            "4  \t [  1.06455617 -10.           0.47702563]\t -79478.55356983267\t -1743.4541121077734\t -1743.4541120977735\n",
            "5  \t [ 1.05542832  9.7527129  10.        ]\t -180156.74989730303\t -1743.4541121077734\t -1743.4541120977735\n",
            "6  \t [ 5.40299913 -7.39328438 -9.54169737]\t -129326.8620412511\t -1743.4541121077734\t -1743.4541120977735\n",
            "7  \t [8.67805217 7.15794209 4.57701755]\t -21274.315310900733\t -1743.4541121077734\t -1743.4541120977735\n",
            "8  \t [ 7.14968998  2.39173479 -4.9593384 ]\t -6644.899625650721\t -1743.4541121077734\t -1743.4541120977735\n",
            "9  \t [ 9.90104645 -8.83274708  0.3341272 ]\t -43035.435934238885\t -1743.4541121077734\t -1743.4541120977733\n",
            "10 \t [-8.47952241  7.48251871  9.02271237]\t -101496.97642440577\t -1743.4541121077734\t -1743.4541120977735\n",
            "11 \t [6.89745036 2.04367308 9.27134174]\t -86608.38760229628\t -1743.4541121077734\t -1743.4541120230429\n",
            "12 \t [ 1.35398098  9.75438591 -0.78011447]\t -71617.01856763114\t -1743.4541121077734\t -1743.45411209716\n",
            "13 \t [ 9.65179579  8.2747925  -3.05261159]\t -32803.7767092942\t -1743.4541121077734\t -1743.4541120977735\n",
            "14 \t [-9.79655087 -0.19609376 -9.09035709]\t -82447.81014507987\t -1743.4541121077734\t -1743.4541120977706\n",
            "15 \t [-7.59198246 -9.78601994  1.1453646 ]\t -79836.84452348946\t -1743.4541121077734\t -1743.454112097386\n",
            "16 \t [ 2.27100053 -5.71064438  8.78837742]\t -84902.13024278135\t -1743.4541121077734\t -1743.4541118025923\n",
            "17 \t [-10. -10. -10.]\t -220621.0\t -1743.4541121077734\t -1743.454110966764\n",
            "18 \t [ 6.14730528  9.39076024 -9.70862536]\t -154236.181564431\t -1743.4541121077734\t -1743.4541120932292\n",
            "19 \t [ 0.64363097 -4.30507583 -7.5547754 ]\t -44747.79329616363\t -1743.4541121077734\t -1743.4541120977735\n",
            "20 \t [-3.9198902  -9.4094251   8.06662354]\t -123965.0099491851\t -1743.4541121077734\t -1743.4541120977735\n",
            "\u001b[1m\u001b[92m21\u001b[0m\t \u001b[1m\u001b[92m[ 8.39907154 -1.17296509  0.55930968]\u001b[0m\t \u001b[1m\u001b[92m-128.23709968267707\u001b[0m\t \u001b[1m\u001b[92m-128.23709968267707\u001b[0m\t \u001b[1m\u001b[92m-1743.454111451076\u001b[0m\n",
            "22 \t [-0.24557872  2.41937355 -3.67386513]\t -2099.087995073208\t -128.23709968267707\t -128.23709962181061\n",
            "23 \t [-4.42991656  2.29563782  3.30336709]\t -1621.8008277392858\t -128.23709968267707\t -128.23709967267678\n",
            "24 \t [-0.72283682  1.57930747 10.        ]\t -118180.51883910768\t -128.23709968267707\t -128.2370996577167\n",
            "25 \t [10. 10. 10.]\t -180581.0\t -128.23709968267707\t -128.23706750923822\n",
            "26 \t [ 8.58546364 -1.95843652 -8.4633543 ]\t -63321.547593232375\t -128.23709968267707\t -128.23709945108348\n",
            "27 \t [10.         -3.81961905  7.42564442]\t -39873.10271656035\t -128.23709968267707\t -128.23708340737085\n",
            "28 \t [ 4.72475144 -3.4645572  -2.46525597]\t -1489.3402795660254\t -128.23709968267707\t -128.2370342391494\n",
            "29 \t [-2.964203    7.17763298  5.24598941]\t -29360.804119415774\t -128.23709968267707\t -128.23709904942643\n",
            "30 \t [ 3.98628533  2.38753999 -9.61184765]\t -99914.67369423638\t -128.23709968267707\t -128.23576757516767\n"
          ]
        }
      ]
    },
    {
      "cell_type": "code",
      "metadata": {
        "id": "-ilCPSAu9SAg",
        "colab": {
          "base_uri": "https://localhost:8080/"
        },
        "outputId": "4a4b40ff-6474-4316-841d-ae688371c44f"
      },
      "source": [
        "### EXACT GP EI GRADIENTS\n",
        "\n",
        "np.random.seed(run_num_2)\n",
        "surrogate_exact_2 = dGaussianProcess(cov_func, optimize=opt)\n",
        "\n",
        "exact_2 = dGPGO(surrogate_exact_2, Acquisition_new(util_grad_exact), objfunc, param)\n",
        "exact_2.run(init_evals=n_init, max_iter=iters)\n"
      ],
      "execution_count": null,
      "outputs": [
        {
          "output_type": "stream",
          "name": "stdout",
          "text": [
            "Evaluation \t Proposed point \t  Current eval. \t  Best eval. \t         Max AcqFunc.\n",
            "init\t [-1.28010196 -9.48147536  0.99324956]\t -65976.47275174354\t -579.2546019074869\t    \n",
            "init\t [-1.29355215 -1.59264396 -3.39330358]\t -1905.0058741906205\t -579.2546019074869\t    \n",
            "init\t [-5.90702732  2.38541933 -4.00690653]\t -3296.179887891325\t -579.2546019074869\t    \n",
            "init\t [-4.6634545   2.42267666  0.58284189]\t -579.2546019074869\t -579.2546019074869\t    \n",
            "init\t [-7.30840109  0.27156243 -6.31120269]\t -19089.001096649215\t -579.2546019074869\t    \n",
            "1  \t [10. 10. 10.]\t -180581.0\t -579.2546019074869\t -579.2546018974869\n",
            "2  \t [0.98993642 6.90226231 9.77019402]\t -119362.43308455861\t -579.2546019074869\t -579.2546018974869\n",
            "3  \t [ 9.60970158 -5.07492822  5.80487605]\t -19340.238894145325\t -579.2546019074869\t -579.2546018974869\n",
            "4  \t [ 2.89052379 -3.76941193  7.60597912]\t -44126.90703116023\t -579.2546019074869\t -579.2546018974869\n",
            "5  \t [9.47735243 3.96398709 2.5157724 ]\t -1262.1549087902345\t -579.2546019074869\t -579.2546018974869\n",
            "6  \t [ 8.77937768 -3.87353549 -6.37757103]\t -22749.403915268038\t -579.2546019074869\t -579.2546018974869\n",
            "7  \t [-8.08964789 -9.75897604 -5.85826697]\t -97377.17267962931\t -579.2546019074869\t -579.2546018974869\n",
            "8  \t [-8.27467123  0.9107896   8.40893121]\t -59512.10208629255\t -579.2546019074869\t -579.2546018974869\n",
            "9  \t [ 0.42731066  7.96687929 -7.46103087]\t -64066.69112943136\t -579.2546019074869\t -579.2546018974869\n",
            "10 \t [-9.84632636  9.29795823 -5.29784912]\t -73494.00610427922\t -579.2546019074869\t -579.2546018974741\n",
            "11 \t [ 2.73544521 -9.4995836  -5.61438337]\t -78979.34093579238\t -579.2546019074869\t -579.2546018940376\n",
            "12 \t [-7.95126067 -7.68342168  9.50213863]\t -138173.6002193863\t -579.2546019074869\t -579.2546018974854\n",
            "13 \t [ 5.45950235 -6.22948293  0.15305609]\t -10550.294304582687\t -579.2546019074869\t -579.2546014998203\n",
            "14 \t [-8.48698587  9.29673065  2.37270282]\t -65873.85874755248\t -579.2546019074869\t -579.2546018950435\n",
            "15 \t [ 9.2899141   9.40152854 -2.86449957]\t -56320.27675873182\t -579.2546019074869\t -579.2546018973649\n",
            "16 \t [-0.58434437  9.01339152  1.00882164]\t -53330.14656701173\t -579.2546019074869\t -579.2546018971173\n",
            "\u001b[1m\u001b[92m17\u001b[0m\t \u001b[1m\u001b[92m[ 5.10848459  2.45002436 -2.56262784]\u001b[0m\t \u001b[1m\u001b[92m-454.45996672098863\u001b[0m\t \u001b[1m\u001b[92m-454.45996672098863\u001b[0m\t \u001b[1m\u001b[92m-579.2546018609966\u001b[0m\n",
            "18 \t [-0.47497186 -5.75625501 -3.13046353]\t -10840.434725745177\t -454.45996672098863\t -454.4599667109886\n",
            "19 \t [-9.01188771 -4.21354587  1.9607465 ]\t -4489.28321020847\t -454.45996672098863\t -454.4599667109013\n",
            "20 \t [6.73054397 1.40624371 9.49455338]\t -96049.75472624524\t -454.45996672098863\t -454.45996315866915\n",
            "21 \t [ 9.86128636  2.73741105 -8.77847696]\t -68884.14112678247\t -454.45996672098863\t -454.4599665962375\n",
            "22 \t [ -1.00215063   1.25288502 -10.        ]\t -118539.56132239656\t -454.45996672098863\t -454.45996661572866\n",
            "23 \t [-2.59840751 -3.34710259  3.77983127]\t -4320.3265166209085\t -454.45996672098863\t -454.4599605964073\n",
            "24 \t [2.60634461 2.58326286 4.45156649]\t -4351.306216215021\t -454.45996672098863\t -454.45995080673765\n",
            "25 \t [5.927427   9.62214169 3.25994439]\t -64686.88879127491\t -454.45996672098863\t -454.4599648299801\n",
            "26 \t [ -9.24637835 -10.           3.26091562]\t -90605.9843545485\t -454.45996672098863\t -454.45990933146396\n",
            "27 \t [ 2.00842262 -9.87438548 -1.49428301]\t -75114.820765863\t -454.45996672098863\t -454.4599667109886\n",
            "28 \t [-5.17137266 10.          8.34352347]\t -134328.89342229915\t -454.45996672098863\t -454.4599637823225\n",
            "29 \t [  6.07373921  -7.85531642 -10.        ]\t -157173.7716556294\t -454.45996672098863\t -454.4599667109886\n",
            "30 \t [-5.47226958  4.96172861  5.50740695]\t -15336.124234111208\t -454.45996672098863\t -454.4599667109886\n"
          ]
        }
      ]
    },
    {
      "cell_type": "code",
      "metadata": {
        "id": "XieJ158mIvlP",
        "colab": {
          "base_uri": "https://localhost:8080/"
        },
        "outputId": "6703f096-3768-4b1e-9c6d-d4560fbb4615"
      },
      "source": [
        "### EXACT GP EI GRADIENTS\n",
        "\n",
        "np.random.seed(run_num_3)\n",
        "surrogate_exact_3 = dGaussianProcess(cov_func, optimize=opt)\n",
        "\n",
        "exact_3 = dGPGO(surrogate_exact_3, Acquisition_new(util_grad_exact), objfunc, param)\n",
        "exact_3.run(init_evals=n_init, max_iter=iters)\n"
      ],
      "execution_count": null,
      "outputs": [
        {
          "output_type": "stream",
          "name": "stdout",
          "text": [
            "Evaluation \t Proposed point \t  Current eval. \t  Best eval. \t         Max AcqFunc.\n",
            "init\t [ 1.01595805  4.16295645 -4.18190522]\t -5112.352385443115\t -5112.352385443115\t    \n",
            "init\t [0.2165521  7.85893909 7.92586178]\t -72027.10255913956\t -5112.352385443115\t    \n",
            "init\t [-7.48829379 -5.85514244 -8.97065593]\t -95107.57411907075\t -5112.352385443115\t    \n",
            "init\t [-1.18380313 -9.40247578 -0.86333551]\t -63726.548838065995\t -5112.352385443115\t    \n",
            "init\t [ 2.98288095 -4.43025435  3.52509804]\t -5207.626899787465\t -5112.352385443115\t    \n",
            "1  \t [9.51990845 3.44767352 8.05668217]\t -48388.97288671367\t -5112.352385443115\t -5112.352385433115\n",
            "2  \t [-4.79309855  3.83955024  7.91140656]\t -46554.468417027776\t -5112.352385443115\t -5112.352385433115\n",
            "3  \t [ 4.12112367 -8.76918568 -4.10613003]\t -50231.76564197207\t -5112.352385443115\t -5112.352385433115\n",
            "4  \t [ 1.06865668 -1.61214113  9.66323576]\t -106482.0605763776\t -5112.352385443115\t -5112.352385433115\n",
            "5  \t [-7.84297806  5.69391695 -0.02389563]\t -10741.453238983686\t -5112.352385443115\t -5112.352385433115\n",
            "6  \t [-9.97354931  3.06806496 -8.28975197]\t -55946.68317506418\t -5112.352385443115\t -5112.352385433115\n",
            "7  \t [-8.30096514 -8.43721422  5.42003894]\t -59035.73094699017\t -5112.352385443115\t -5112.352385433115\n",
            "8  \t [ 7.17786075 -7.83402432  1.19325839]\t -27091.47249706207\t -5112.352385443115\t -5112.352385433115\n",
            "9  \t [ 9.84729294  3.24583748 -5.05711192]\t -7214.284786527243\t -5112.352385443115\t -5112.352385433115\n",
            "10 \t [ 1.60163764 -2.58603661 -9.29669219]\t -92618.34107490626\t -5112.352385443115\t -5112.352385433115\n",
            "11 \t [ 0.66879002 -4.72670094  4.78896619]\t -11554.273121193648\t -5112.352385443115\t -5112.352385433115\n",
            "12 \t [5.82645032 9.68093393 0.62667776]\t -66228.34642302197\t -5112.352385443115\t -5112.352385433115\n",
            "13 \t [ 9.64547412 -9.09801477  9.60726792]\t -161241.6064100929\t -5112.352385443115\t -5112.352385433115\n",
            "\u001b[1m\u001b[92m14\u001b[0m\t \u001b[1m\u001b[92m[-5.26642082 -2.14149931  1.29973424]\u001b[0m\t \u001b[1m\u001b[92m-547.6213417933878\u001b[0m\t \u001b[1m\u001b[92m-547.6213417933878\u001b[0m\t \u001b[1m\u001b[92m-5112.352385422618\u001b[0m\n",
            "15 \t [ 9.78697548 -6.97337287 -8.7782584 ]\t -93227.83299544013\t -547.6213417933878\t -547.6213417736432\n",
            "16 \t [-2.60493691  7.06559895 -9.32544142]\t -104534.02686041094\t -547.6213417933878\t -547.6213416865016\n",
            "17 \t [-10.          -4.72127991  -1.91160043]\t -6513.306083526145\t -547.6213417933878\t -547.6213409957359\n",
            "\u001b[1m\u001b[92m18\u001b[0m\t \u001b[1m\u001b[92m[10.         -1.53241744  2.16753597]\u001b[0m\t \u001b[1m\u001b[92m-495.57071611359646\u001b[0m\t \u001b[1m\u001b[92m-495.57071611359646\u001b[0m\t \u001b[1m\u001b[92m-547.6213414061446\u001b[0m\n",
            "\u001b[1m\u001b[92m19\u001b[0m\t \u001b[1m\u001b[92m[4.878465   2.58776547 1.5077178 ]\u001b[0m\t \u001b[1m\u001b[92m-171.54820920937559\u001b[0m\t \u001b[1m\u001b[92m-171.54820920937559\u001b[0m\t \u001b[1m\u001b[92m-495.5707158096327\u001b[0m\n",
            "20 \t [10. 10. 10.]\t -180581.0\t -171.54820920937559\t -171.5482076475789\n",
            "21 \t [-2.16600827 10.         -1.31409497]\t -81880.7758844804\t -171.54820920937559\t -171.5482091666431\n",
            "22 \t [ 5.52270309 -1.84822729 -2.56068426]\t -695.5061628382778\t -171.54820920937559\t -171.54820787689644\n",
            "23 \t [-4.71590703  1.13857994 -4.53443017]\t -4935.552865429436\t -171.54820920937559\t -171.548203540247\n",
            "24 \t [  0.66729349 -10.         -10.        ]\t -211767.16646282072\t -171.54820920937559\t -171.54820830640676\n",
            "25 \t [-5.51335123 -3.22676429  8.60008769]\t -69968.50623305257\t -171.54820920937559\t -171.54820085912743\n",
            "26 \t [-10.           0.74030662   4.96003037]\t -7413.378540058355\t -171.54820920937559\t -171.54820518190292\n",
            "27 \t [ -8.47760918 -10.          -0.54230819]\t -87351.98184309814\t -171.54820920937559\t -171.54768954599842\n",
            "28 \t [ 5.97176893  9.56458809 -9.26669096]\t -141581.92249336126\t -171.54820920937559\t -171.54820919937472\n",
            "29 \t [-1.44406453 -8.68741999  9.21542078]\t -142073.96914190258\t -171.54820920937559\t -171.54819327115123\n",
            "30 \t [-8.00279284 10.          5.21540752]\t -92525.70734660764\t -171.54820920937559\t -171.54820863278348\n"
          ]
        }
      ]
    },
    {
      "cell_type": "code",
      "metadata": {
        "id": "PhLBVOIfIvol",
        "colab": {
          "base_uri": "https://localhost:8080/"
        },
        "outputId": "07b71551-bf54-4e6b-ec8c-eaabd4972a6b"
      },
      "source": [
        "### EXACT GP EI GRADIENTS\n",
        "\n",
        "np.random.seed(run_num_4)\n",
        "surrogate_exact_4 = dGaussianProcess(cov_func, optimize=opt)\n",
        "\n",
        "exact_4 = dGPGO(surrogate_exact_4, Acquisition_new(util_grad_exact), objfunc, param)\n",
        "exact_4.run(init_evals=n_init, max_iter=iters)\n"
      ],
      "execution_count": null,
      "outputs": [
        {
          "output_type": "stream",
          "name": "stdout",
          "text": [
            "Evaluation \t Proposed point \t  Current eval. \t  Best eval. \t         Max AcqFunc.\n",
            "init\t [9.34059678 0.94464498 9.4536872 ]\t -95022.01065457039\t -12458.30178377884\t    \n",
            "init\t [ 4.29631987  3.95457649 -5.67821009]\t -12458.30178377884\t -12458.30178377884\t    \n",
            "init\t [ 9.5254891  -9.8753949  -4.94035275]\t -79242.42901009263\t -12458.30178377884\t    \n",
            "init\t [-1.30416935  5.58765844 -6.04629851]\t -21812.938480423\t -12458.30178377884\t    \n",
            "init\t [ 7.25986471  9.66801354 -6.72315517]\t -84163.5372919417\t -12458.30178377884\t    \n",
            "1  \t [-7.83613234 -6.83553186  0.90405303]\t -20810.660474524404\t -12458.30178377884\t -12458.301783768839\n",
            "\u001b[1m\u001b[92m2\u001b[0m\t \u001b[1m\u001b[92m[ 2.6338449  -4.23926346 -1.84756645]\u001b[0m\t \u001b[1m\u001b[92m-2589.0171533153275\u001b[0m\t \u001b[1m\u001b[92m-2589.0171533153275\u001b[0m\t \u001b[1m\u001b[92m-12458.301783768839\u001b[0m\n",
            "\u001b[1m\u001b[92m3\u001b[0m\t \u001b[1m\u001b[92m[-1.92379477  1.34737929  2.7226803 ]\u001b[0m\t \u001b[1m\u001b[92m-615.2747034779208\u001b[0m\t \u001b[1m\u001b[92m-615.2747034779208\u001b[0m\t \u001b[1m\u001b[92m-2589.0171533053276\u001b[0m\n",
            "4  \t [10. 10. 10.]\t -180581.0\t -615.2747034779208\t -615.2747034679207\n",
            "5  \t [-9.38086185  3.2934193   8.98802995]\t -77192.784370788\t -615.2747034779208\t -615.2747034679207\n",
            "6  \t [-10.         -10.          -7.28565394]\t -128801.48684288384\t -615.2747034779208\t -615.2747034679207\n",
            "7  \t [-0.44581558  2.04164357  3.82391297]\t -2376.3585358713694\t -615.2747034779208\t -615.2747034679207\n",
            "8  \t [-8.54879928  9.94530143 -3.99823582]\t -86721.22229051313\t -615.2747034779208\t -615.2747034679203\n",
            "9  \t [-9.78890738  1.07284078 -8.10797379]\t -51425.66998692605\t -615.2747034779208\t -615.2747034679207\n",
            "10 \t [-7.28602097 -6.35764751  9.10201445]\t -104405.44573764168\t -615.2747034779208\t -615.2747034679004\n",
            "11 \t [ 2.72432494 10.          3.01807117]\t -78040.93951524244\t -615.2747034779208\t -615.2747034679206\n",
            "12 \t [0.90938156 6.4745085  9.7017486 ]\t -112879.13720134394\t -615.2747034779208\t -615.2747034641271\n",
            "13 \t [ 8.98571292 -8.52840331  5.38441235]\t -50589.849678455954\t -615.2747034779208\t -615.2747034679207\n",
            "14 \t [-9.16473518  3.47372684  0.78421142]\t -2335.977540302606\t -615.2747034779208\t -615.2747034675043\n",
            "15 \t [-0.20076623 -7.44880476 -9.98252106]\t -152956.05435656602\t -615.2747034779208\t -615.2747034679207\n",
            "\u001b[1m\u001b[92m16\u001b[0m\t \u001b[1m\u001b[92m[9.34483237 2.47341722 0.16955031]\u001b[0m\t \u001b[1m\u001b[92m-103.85918112412527\u001b[0m\t \u001b[1m\u001b[92m-103.85918112412527\u001b[0m\t \u001b[1m\u001b[92m-615.2747034676928\u001b[0m\n",
            "17 \t [-2.27539001 -0.44611561 -8.71334861]\t -69602.67186332794\t -103.85918112412527\t -103.8591786073401\n",
            "18 \t [ 1.37917873 -4.31828138  8.73992546]\t -76612.68134394784\t -103.85918112412527\t -103.8591811141229\n",
            "19 \t [-0.6993855  -9.95727062 -1.12117079]\t -79666.60351665324\t -103.85918112412527\t -103.8591808084255\n",
            "20 \t [10.         10.          0.44600349]\t -72557.60453236353\t -103.85918112412527\t -103.859181103092\n",
            "21 \t [-5.85295254  9.23808289  8.31214193]\t -112258.49183041889\t -103.85918112412527\t -103.85917976766422\n",
            "22 \t [ 9.64344197 -1.46754663 -8.52386728]\t -64764.91402250952\t -103.85918112412527\t -103.8591811140975\n",
            "23 \t [-3.74980626  7.0811061   1.33666682]\t -21705.592226615736\t -103.85918112412527\t -103.85917847879747\n",
            "24 \t [ 6.01021051 -2.69839953  3.55772514]\t -2525.6138390729684\t -103.85918112412527\t -103.859177800287\n",
            "25 \t [ -0.72490842 -10.           5.80248538]\t -98527.30014607467\t -103.85918112412527\t -103.85917408982274\n",
            "26 \t [-6.26974705 -1.13583188  5.80376167]\t -14287.530223000858\t -103.85918112412527\t -103.85890636471916\n",
            "27 \t [-4.46556036 -1.90117686 -1.48684714]\t -423.3213807460322\t -103.85918112412527\t -103.85916417886149\n",
            "28 \t [4.86560154 3.54006027 5.5820665 ]\t -11195.765356076086\t -103.85918112412527\t -103.85901629062845\n",
            "29 \t [3.00971044 3.74687268 0.05465274]\t -1302.8711993168788\t -103.85918112412527\t -103.85818109928536\n",
            "30 \t [-6.47101658 -5.22842584 -5.1178031 ]\t -17490.478291217318\t -103.85918112412527\t -103.85887461176065\n"
          ]
        }
      ]
    },
    {
      "cell_type": "code",
      "metadata": {
        "id": "arbiPyj2IvsJ",
        "colab": {
          "base_uri": "https://localhost:8080/"
        },
        "outputId": "e9adb912-5aee-46d6-f5d7-951f246fa2cc"
      },
      "source": [
        "### EXACT GP EI GRADIENTS\n",
        "\n",
        "np.random.seed(run_num_5)\n",
        "surrogate_exact_5 = dGaussianProcess(cov_func, optimize=opt)\n",
        "\n",
        "exact_5 = dGPGO(surrogate_exact_5, Acquisition_new(util_grad_exact), objfunc, param)\n",
        "exact_5.run(init_evals=n_init, max_iter=iters)\n"
      ],
      "execution_count": null,
      "outputs": [
        {
          "output_type": "stream",
          "name": "stdout",
          "text": [
            "Evaluation \t Proposed point \t  Current eval. \t  Best eval. \t         Max AcqFunc.\n",
            "init\t [-5.56013658  7.41464612 -5.86561689]\t -38038.55423396639\t -504.37713268919686\t    \n",
            "init\t [ 8.37221816 -0.23177622  2.23487726]\t -504.37713268919686\t -504.37713268919686\t    \n",
            "init\t [ 5.31815713  0.36835976 -4.06398997]\t -3270.33229475548\t -504.37713268919686\t    \n",
            "init\t [-6.24557543 -8.38517462  4.76880592]\t -51898.195262717614\t -504.37713268919686\t    \n",
            "init\t [-1.17381554 -6.83380265  7.59874062]\t -62777.04813872957\t -504.37713268919686\t    \n",
            "1  \t [ 5.59029171 -9.54133815  1.55325716]\t -62933.45175267557\t -504.37713268919686\t -504.37713267919685\n",
            "2  \t [-3.94963775  6.51411653  3.18834561]\t -16374.16808563396\t -504.37713268919686\t -504.37713267919685\n",
            "3  \t [10.         10.          9.57760402]\t -162547.15283158846\t -504.37713268919686\t -504.37713267919685\n",
            "4  \t [ 3.14692525  9.50918422 -2.23413701]\t -63161.457005708806\t -504.37713268919686\t -504.37713267919685\n",
            "5  \t [ 4.56139684 -4.673529    0.23379905]\t -3142.4271112122515\t -504.37713268919686\t -504.37713267919685\n",
            "6  \t [-8.35759819 -3.57642182 -5.67300392]\t -16239.797542075969\t -504.37713268919686\t -504.37713267919685\n",
            "7  \t [ 3.23695563 -6.36853065 -6.86795844]\t -42560.6472249982\t -504.37713268919686\t -504.37713267919685\n",
            "8  \t [-10. -10. -10.]\t -220621.0\t -504.37713268919686\t -504.37713267919685\n",
            "9  \t [5.84922265 0.12851612 9.88488506]\t -114509.69471060952\t -504.37713268919686\t -504.37713267919685\n",
            "10 \t [-8.67013957  2.43435448 -0.97735059]\t -936.6649370058884\t -504.37713268919686\t -504.37713266845844\n",
            "11 \t [ 8.93630394  6.87034717 -7.52532124]\t -48629.075116084015\t -504.37713268919686\t -504.37713267919685\n",
            "12 \t [4.25561809 6.07230772 4.72472962]\t -14132.203113059455\t -504.37713268919686\t -504.3771326791967\n",
            "13 \t [-9.54259734 -1.43539662  9.21612098]\t -88525.01266929683\t -504.37713268919686\t -504.37713267919685\n",
            "14 \t [ -1.9860785   -2.77842544 -10.        ]\t -123973.47347331683\t -504.37713268919686\t -504.37713267919435\n",
            "15 \t [ 0.68097948  8.02277146 -8.62402903]\t -92203.6254474541\t -504.37713268919686\t -504.37713077269217\n",
            "16 \t [-1.20551999  1.75977115 -4.1036715 ]\t -3171.106868333995\t -504.37713268919686\t -504.37713267919685\n",
            "17 \t [-7.01655864  5.87646773  9.2800559 ]\t -94670.65117091323\t -504.37713268919686\t -504.37713267919685\n",
            "18 \t [ 9.68325583 -7.33158706 -4.72528326]\t -27321.64299464839\t -504.37713268919686\t -504.37713267919355\n",
            "19 \t [-3.48410009 -3.68542923 -6.33751434]\t -23073.672070863027\t -504.37713268919686\t -504.37713267919685\n",
            "20 \t [-7.53316999 -6.69594578 -0.49546226]\t -19125.219038001884\t -504.37713268919686\t -504.37713267919685\n",
            "21 \t [-0.85890216  1.45682011  5.79424529]\t -13000.97260063968\t -504.37713268919686\t -504.37712601856236\n",
            "22 \t [10.         -5.03301651  7.28297223]\t -40428.43297177245\t -504.37713268919686\t -504.37713209994865\n",
            "23 \t [-0.68890851 10.          8.08411808]\t -124264.69318821545\t -504.37713268919686\t -504.37713203800973\n",
            "24 \t [-10.           2.40815278  -7.43586274]\t -36160.09448096936\t -504.37713268919686\t -504.3771240173655\n",
            "25 \t [-0.47554288 -9.54635873 -1.75558369]\t -67531.52913230487\t -504.37713268919686\t -504.3771310293645\n",
            "26 \t [ 9.81164135  6.05174621 -0.13013967]\t -8234.445947782293\t -504.37713268919686\t -504.3771326361808\n",
            "27 \t [ -3.45139728 -10.          -7.87200891]\t -136622.15594251076\t -504.37713268919686\t -504.377116549037\n",
            "28 \t [  5.55159832   0.82757059 -10.        ]\t -119064.66273297141\t -504.37713268919686\t -504.3771006840564\n",
            "\u001b[1m\u001b[92m29\u001b[0m\t \u001b[1m\u001b[92m[-3.22059315 -0.79844064  0.45088632]\u001b[0m\t \u001b[1m\u001b[92m-62.59073685718052\u001b[0m\t \u001b[1m\u001b[92m-62.59073685718052\u001b[0m\t \u001b[1m\u001b[92m-504.3768654055654\u001b[0m\n",
            "30 \t [1.84080003 3.62827092 1.47678286]\t -1201.635498241096\t -62.59073685718052\t -62.59073682964833\n"
          ]
        }
      ]
    },
    {
      "cell_type": "code",
      "metadata": {
        "id": "04KJCEm_Ivvf",
        "colab": {
          "base_uri": "https://localhost:8080/"
        },
        "outputId": "20e50a23-7d29-4959-a850-252761acbd79"
      },
      "source": [
        "### EXACT GP EI GRADIENTS\n",
        "\n",
        "np.random.seed(run_num_6)\n",
        "surrogate_exact_6 = dGaussianProcess(cov_func, optimize=opt)\n",
        "\n",
        "exact_6 = dGPGO(surrogate_exact_6, Acquisition_new(util_grad_exact), objfunc, param)\n",
        "exact_6.run(init_evals=n_init, max_iter=iters)\n"
      ],
      "execution_count": null,
      "outputs": [
        {
          "output_type": "stream",
          "name": "stdout",
          "text": [
            "Evaluation \t Proposed point \t  Current eval. \t  Best eval. \t         Max AcqFunc.\n",
            "init\t [ 7.85720303 -3.36040389  6.42458246]\t -22622.875691874993\t -747.5861078277044\t    \n",
            "init\t [-9.16606749 -7.8468664   1.90104128]\t -35798.39310944817\t -747.5861078277044\t    \n",
            "init\t [ 0.59634724 -1.62385143 -3.29184301]\t -1672.0743189422471\t -747.5861078277044\t    \n",
            "init\t [ 2.45038864 -1.23717148  4.71764213]\t -6281.890680624871\t -747.5861078277044\t    \n",
            "init\t [0.36072824 1.577172   2.90710192]\t -747.5861078277044\t -747.5861078277044\t    \n",
            "1  \t [ 4.34551693  9.88414877 -4.88771889]\t -77317.5102677862\t -747.5861078277044\t -747.5861078177044\n",
            "2  \t [-1.98503052 -5.08370297  0.47544376]\t -5862.449371750896\t -747.5861078277044\t -747.5861078177044\n",
            "3  \t [10. 10. 10.]\t -180581.0\t -747.5861078277044\t -747.5861078177044\n",
            "4  \t [-8.30089272  8.76464152 -3.7028615 ]\t -53579.172270173985\t -747.5861078277044\t -747.5861078177044\n",
            "5  \t [-10. -10. -10.]\t -220621.0\t -747.5861078277044\t -747.5861078177044\n",
            "6  \t [ 6.83055529 -7.02538607 -5.07603057]\t -27205.394503821604\t -747.5861078277044\t -747.5861078177044\n",
            "7  \t [-9.66056066 -7.16632862  9.74146832]\t -141747.30545515707\t -747.5861078277044\t -747.5861078177044\n",
            "8  \t [-8.13321345  0.65016693  4.20107065]\t -3846.062592840263\t -747.5861078277044\t -747.5861078177041\n",
            "9  \t [5.95618828 3.62221445 9.57953935]\t -97953.49211296115\t -747.5861078277044\t -747.5861078177044\n",
            "10 \t [-7.41175926 -1.8295649  -8.07396848]\t -52905.20559446976\t -747.5861078277044\t -747.5861078177044\n",
            "11 \t [ 5.84223091  1.20858429 -9.77151834]\t -108063.16292509792\t -747.5861078277044\t -747.5861078177044\n",
            "12 \t [-8.12416811  9.77114499 -9.4537219 ]\t -165001.95305563457\t -747.5861078277044\t -747.5861078177044\n",
            "13 \t [-3.43814158  8.86058719  2.89457629]\t -51700.40119621108\t -747.5861078277044\t -747.5861078176345\n",
            "\u001b[1m\u001b[92m14\u001b[0m\t \u001b[1m\u001b[92m[ 8.7561222   0.65983003 -2.4868267 ]\u001b[0m\t \u001b[1m\u001b[92m-595.8024506030948\u001b[0m\t \u001b[1m\u001b[92m-595.8024506030948\u001b[0m\t \u001b[1m\u001b[92m-747.5861078156968\u001b[0m\n",
            "15 \t [ 0.19531588 -7.74530203  9.60360643]\t -139524.0237475551\t -595.8024506030948\t -595.8024505930938\n",
            "16 \t [ 0.54095758 -9.88780744 -9.98848158]\t -207626.91911429714\t -595.8024506030948\t -595.8024505930915\n",
            "17 \t [6.25812575 7.28061226 3.96249594]\t -21676.00036147332\t -595.8024506030948\t -595.8024505930948\n",
            "18 \t [-4.76757246  1.18063303 10.        ]\t -118734.85390563065\t -595.8024506030948\t -595.8024503040256\n",
            "\u001b[1m\u001b[92m19\u001b[0m\t \u001b[1m\u001b[92m[-4.20631006  2.2631797  -1.19904466]\u001b[0m\t \u001b[1m\u001b[92m-445.8510449084471\u001b[0m\t \u001b[1m\u001b[92m-445.8510449084471\u001b[0m\t \u001b[1m\u001b[92m-595.8024505930948\u001b[0m\n",
            "20 \t [ 6.69505608 -9.64088922  2.91292492]\t -66381.05134164606\t -445.8510449084471\t -445.8510448655425\n",
            "21 \t [-2.0301401  -4.92207598 -4.38926331]\t -10770.98915286436\t -445.8510449084471\t -445.85104489844707\n",
            "22 \t [-10.          -0.36835261  -2.20330556]\t -636.6677745111624\t -445.8510449084471\t -445.851033955535\n",
            "23 \t [ -0.81595043   0.1470636  -10.        ]\t -119828.3627104668\t -445.8510449084471\t -445.8510375943535\n",
            "24 \t [1.31886135 9.349743   6.99125188]\t -83662.64945277086\t -445.8510449084471\t -445.85104369857277\n",
            "25 \t [-3.30927091 -3.8747033   5.89546715]\t -18398.431218918133\t -445.8510449084471\t -445.85104479888764\n",
            "26 \t [-9.70359088  6.78093148  7.45653743]\t -53496.34089682742\t -445.8510449084471\t -445.8510448770334\n",
            "27 \t [ 2.34259137  3.73729319 -4.78082606]\t -6597.494775744367\t -445.8510449084471\t -445.850958480336\n",
            "28 \t [ 9.94176317  6.88627439 -4.80620725]\t -19132.434308132237\t -445.8510449084471\t -445.85097668333594\n",
            "29 \t [  0.87954813 -10.           0.50748614]\t -79629.62421360325\t -445.8510449084471\t -445.85069358436016\n",
            "30 \t [-8.04854458 -7.78026912 -4.14764007]\t -38761.583933185335\t -445.8510449084471\t -445.85088375142243\n"
          ]
        }
      ]
    },
    {
      "cell_type": "code",
      "metadata": {
        "id": "tAOkme3CIvyO",
        "colab": {
          "base_uri": "https://localhost:8080/"
        },
        "outputId": "5656c459-ef63-4e3a-fa59-dd2c98e41c5d"
      },
      "source": [
        "### EXACT GP EI GRADIENTS\n",
        "\n",
        "np.random.seed(run_num_7)\n",
        "surrogate_exact_7 = dGaussianProcess(cov_func, optimize=opt)\n",
        "\n",
        "exact_7 = dGPGO(surrogate_exact_7, Acquisition_new(util_grad_exact), objfunc, param)\n",
        "exact_7.run(init_evals=n_init, max_iter=iters)\n"
      ],
      "execution_count": null,
      "outputs": [
        {
          "output_type": "stream",
          "name": "stdout",
          "text": [
            "Evaluation \t Proposed point \t  Current eval. \t  Best eval. \t         Max AcqFunc.\n",
            "init\t [-8.47383421  5.59837584 -1.23181537]\t -10236.238023609843\t -10236.238023609843\t    \n",
            "init\t [4.46930356 9.55979024 0.76991741]\t -63811.243249036976\t -10236.238023609843\t    \n",
            "init\t [ 0.02240927 -8.55897733 -4.6312204 ]\t -50862.43407074502\t -10236.238023609843\t    \n",
            "init\t [-2.34998349e-03  3.58459992e+00  6.07478072e+00]\t -16115.196076305741\t -10236.238023609843\t    \n",
            "init\t [-2.38117734 -8.68127306 -4.23708801]\t -52860.9167787799\t -10236.238023609843\t    \n",
            "\u001b[1m\u001b[92m1\u001b[0m\t \u001b[1m\u001b[92m[ 5.37295013 -3.72010646  1.45250665]\u001b[0m\t \u001b[1m\u001b[92m-1203.3019494238497\u001b[0m\t \u001b[1m\u001b[92m-1203.3019494238497\u001b[0m\t \u001b[1m\u001b[92m-10236.238023599843\u001b[0m\n",
            "2  \t [-10. -10. -10.]\t -220621.0\t -1203.3019494238497\t -1203.3019494138498\n",
            "3  \t [-0.84802251  7.90733569 -8.8549288 ]\t -98229.52721976113\t -1203.3019494238497\t -1203.3019494138498\n",
            "4  \t [-9.43459214  0.25094007  5.85629711]\t -14303.366732986253\t -1203.3019494238497\t -1203.3019494138498\n",
            "5  \t [10. 10. 10.]\t -180581.0\t -1203.3019494238497\t -1203.3019494138498\n",
            "6  \t [-4.15741444 -7.51659134  5.61460982]\t -42415.46958480921\t -1203.3019494238497\t -1203.3019494138498\n",
            "7  \t [ 6.27870158 -2.24021067 -7.14670656]\t -32748.583262837823\t -1203.3019494238497\t -1203.3019494138498\n",
            "8  \t [ 9.67792143 -2.13225294  8.76893665]\t -73009.83405722372\t -1203.3019494238497\t -1203.3019494138498\n",
            "9  \t [-3.82546145  0.22516541 -3.98163283]\t -3027.405481055064\t -1203.3019494238497\t -1203.3019494125738\n",
            "10 \t [-8.90956519  3.61951594 -9.74008684]\t -106484.73572265934\t -1203.3019494238497\t -1203.301949413849\n",
            "11 \t [-9.67318068 -9.02149493 -0.26786193]\t -59842.47996633247\t -1203.3019494238497\t -1203.3019494137718\n",
            "12 \t [ 9.85003149 -9.86344767  5.98246743]\t -88224.12252589373\t -1203.3019494238497\t -1203.301949413772\n",
            "13 \t [-6.4964851   6.46582912  8.17847218]\t -64918.690877763715\t -1203.3019494238497\t -1203.3019493777945\n",
            "14 \t [ 7.27056302  5.60803559 -7.35489134]\t -37797.08900077476\t -1203.3019494238497\t -1203.3019494134312\n",
            "15 \t [10.          4.87141574 -0.94370758]\t -2916.359281882969\t -1203.3019494238497\t -1203.3019489731018\n",
            "16 \t [ 2.1563539 10.        10.       ]\t -186585.55376062752\t -1203.3019494238497\t -1203.3019494094951\n",
            "17 \t [ 1.63155076  3.33655419 -2.74559938]\t -1265.3810794387803\t -1203.3019494238497\t -1203.301947500174\n",
            "\u001b[1m\u001b[92m18\u001b[0m\t \u001b[1m\u001b[92m[-9.37091662 -1.64961227 -0.7064853 ]\u001b[0m\t \u001b[1m\u001b[92m-567.4604666267755\u001b[0m\t \u001b[1m\u001b[92m-567.4604666267755\u001b[0m\t \u001b[1m\u001b[92m-1203.3019485834338\u001b[0m\n",
            "19 \t [-2.27178091 -3.67336831 -9.67721373]\t -111131.85462293404\t -567.4604666267755\t -567.4604665273001\n",
            "20 \t [-2.47009415  8.78493627  1.64161267]\t -49231.83869463245\t -567.4604666267755\t -567.4604660164106\n",
            "21 \t [ 8.69666466 -9.68718871 -7.69764274]\t -113433.19794197839\t -567.4604666267755\t -567.4604666160897\n",
            "22 \t [ 2.59834505 -7.7678169   6.28043113]\t -50415.644654030075\t -567.4604666267755\t -567.46046454572\n",
            "23 \t [-8.8529678  -4.89100273  9.26143807]\t -99918.79432724672\t -567.4604666267755\t -567.4604191090322\n",
            "24 \t [-2.65839995 -2.55327346  9.95673455]\t -121499.89145156427\t -567.4604666267755\t -567.4604522629764\n",
            "25 \t [9.22355111 4.35596144 5.94929083]\t -14957.602801585832\t -567.4604666267755\t -567.4604639143796\n",
            "26 \t [-0.56762966 -3.33040288 -0.1008724 ]\t -1071.3375783998517\t -567.4604666267755\t -567.4604543260563\n",
            "27 \t [-8.5542998  -3.80527934 -6.50018412]\t -26301.978876763467\t -567.4604666267755\t -567.4604639841635\n",
            "28 \t [ 7.80665504 -9.59147594 -0.46325575]\t -62430.70365419129\t -567.4604666267755\t -567.4604612792713\n",
            "29 \t [ 2.84190525 -1.33136385  5.48146861]\t -11323.237524545853\t -567.4604666267755\t -567.4593583151208\n",
            "30 \t [10.         -0.90001192 -2.26249986]\t -593.6006755019081\t -567.4604666267755\t -567.4603872828731\n"
          ]
        }
      ]
    },
    {
      "cell_type": "code",
      "metadata": {
        "id": "69-J3EF4Iv1S",
        "colab": {
          "base_uri": "https://localhost:8080/"
        },
        "outputId": "7f2b8028-ac2f-4560-be74-31acba1bd207"
      },
      "source": [
        "### EXACT GP EI GRADIENTS\n",
        "\n",
        "np.random.seed(run_num_8)\n",
        "surrogate_exact_8 = dGaussianProcess(cov_func, optimize=opt)\n",
        "\n",
        "exact_8 = dGPGO(surrogate_exact_8, Acquisition_new(util_grad_exact), objfunc, param)\n",
        "exact_8.run(init_evals=n_init, max_iter=iters)\n"
      ],
      "execution_count": null,
      "outputs": [
        {
          "output_type": "stream",
          "name": "stdout",
          "text": [
            "Evaluation \t Proposed point \t  Current eval. \t  Best eval. \t         Max AcqFunc.\n",
            "init\t [7.46858806 9.37081326 7.3838908 ]\t -86398.56273239222\t -19.158799931573643\t    \n",
            "init\t [ 0.61711383 -5.34543344 -9.77202391]\t -122028.27716628066\t -19.158799931573643\t    \n",
            "init\t [-1.39062363 -1.9529728   0.45349343]\t -185.16317561320295\t -19.158799931573643\t    \n",
            "init\t [-0.43216408  1.10712948  0.86772035]\t -19.158799931573643\t -19.158799931573643\t    \n",
            "init\t [5.21791151 4.24749148 2.39364192]\t -2079.039537100791\t -19.158799931573643\t    \n",
            "1  \t [ 5.91149117 -9.35983687 -0.89104356]\t -57709.74714740788\t -19.158799931573643\t -19.158799921573642\n",
            "2  \t [-4.01894503  7.30848062  6.93893087]\t -48356.33098205576\t -19.158799931573643\t -19.158799921573642\n",
            "3  \t [-6.23415159 -2.85576708  4.59444715]\t -7163.787122326564\t -19.158799931573643\t -19.158799921573642\n",
            "4  \t [-0.33954819  6.5470211  -9.44447867]\t -103413.2661047698\t -19.158799931573643\t -19.158799921573642\n",
            "5  \t [ 8.88043753 -3.47867257 -6.48954407]\t -23609.194785088257\t -19.158799931573643\t -19.158799921573642\n",
            "6  \t [-10. -10. -10.]\t -220621.0\t -19.158799931573643\t -19.158799921573642\n",
            "7  \t [ 6.2181374  -2.96281477  4.12308008]\t -4383.003404911578\t -19.158799931573643\t -19.158799921573642\n",
            "8  \t [-9.29486377 -6.88958424  5.69557689]\t -37285.04360880313\t -19.158799931573643\t -19.158799921573642\n",
            "9  \t [ 2.93304256 -9.66156955  6.74566747]\t -97941.45934386633\t -19.158799931573643\t -19.15879992144531\n",
            "10 \t [-8.08406232  3.70595628 -4.75704492]\t -7790.40486015024\t -19.158799931573643\t -19.158799921573642\n",
            "11 \t [-7.99295042 -5.4489659  -1.70957923]\t -9542.447515032778\t -19.158799931573643\t -19.158799921573642\n",
            "12 \t [-1.96412132  7.50227812 -1.24702297]\t -26302.034633752977\t -19.158799931573643\t -19.158799921502336\n",
            "13 \t [ 9.86387458 -9.03618993  5.02335735]\t -57789.537463669825\t -19.158799931573643\t -19.158799921573642\n",
            "14 \t [-1.78785155 -0.65705994  8.59087149]\t -65967.76556472405\t -19.158799931573643\t -19.158799921573642\n",
            "15 \t [ 5.08477257  5.3051729  -5.41669327]\t -13807.55747704434\t -19.158799931573643\t -19.158799921573642\n",
            "16 \t [-9.89094464 -1.47092176 -6.98869949]\t -30017.926160883075\t -19.158799931573643\t -19.158799921573642\n",
            "17 \t [ 7.42704428 -6.30046155  8.41770504]\t -76125.29945778343\t -19.158799931573643\t -19.158799921573642\n",
            "18 \t [-9.1578455   9.85877625  1.80849446]\t -83000.41337596234\t -19.158799931573643\t -19.158799918210235\n",
            "19 \t [ 8.85857213 10.         -1.85434854]\t -73161.10337274017\t -19.158799931573643\t -19.158799761357255\n",
            "20 \t [-1.79859498 -8.8857121  -1.85868522]\t -51771.08514237424\t -19.158799931573643\t -19.158799921573628\n",
            "21 \t [-6.11335441 -3.4388144  -7.17273123]\t -35743.79190948796\t -19.158799931573643\t -19.158799921573642\n",
            "22 \t [-8.84616209  2.633075    6.96530712]\t -27861.55525350931\t -19.158799931573643\t -19.15879410734679\n",
            "23 \t [5.60482972 0.91777694 9.96927504]\t -117491.87738090902\t -19.158799931573643\t -19.158799869096715\n",
            "24 \t [-1.96394324  1.78085489 -4.80324099]\t -6050.591439288583\t -19.158799931573643\t -19.158789655018822\n",
            "25 \t [10.          1.2786509  -1.96046576]\t -294.7837179216494\t -19.158799931573643\t -19.158797182474068\n",
            "26 \t [ 9.98678604 -9.82677806 -5.3771186 ]\t -80895.49022560439\t -19.158799931573643\t -19.158799921572538\n",
            "27 \t [-10.           4.57853028 -10.        ]\t -120082.24630512779\t -19.158799931573643\t -19.158342051813555\n",
            "28 \t [ 3.73727722 -1.68563658 -1.2683498 ]\t -87.18231129452654\t -19.158799931573643\t -19.15873532798608\n",
            "29 \t [ 4.19676522  0.04931526 -8.72403892]\t -69511.02474092861\t -19.158799931573643\t -19.158719158830262\n",
            "30 \t [2.79388998 8.07443209 9.36978099]\t -116746.20224388545\t -19.158799931573643\t -19.158799921523983\n"
          ]
        }
      ]
    },
    {
      "cell_type": "code",
      "metadata": {
        "id": "vonm9jyuIv4t",
        "colab": {
          "base_uri": "https://localhost:8080/"
        },
        "outputId": "08fd0298-fa57-4bd5-dbb0-28a77ebb46f3"
      },
      "source": [
        "### EXACT GP EI GRADIENTS\n",
        "\n",
        "np.random.seed(run_num_9)\n",
        "surrogate_exact_9 = dGaussianProcess(cov_func, optimize=opt)\n",
        "\n",
        "exact_9 = dGPGO(surrogate_exact_9, Acquisition_new(util_grad_exact), objfunc, param)\n",
        "exact_9.run(init_evals=n_init, max_iter=iters)\n"
      ],
      "execution_count": null,
      "outputs": [
        {
          "output_type": "stream",
          "name": "stdout",
          "text": [
            "Evaluation \t Proposed point \t  Current eval. \t  Best eval. \t         Max AcqFunc.\n",
            "init\t [-9.79251692  0.03749184 -0.08453414]\t -308.3769452572715\t -308.3769452572715\t    \n",
            "init\t [-7.32340942 -7.15777829 -5.62882649]\t -39098.793761550274\t -308.3769452572715\t    \n",
            "init\t [-1.62983639 -5.03797663 -8.31880698]\t -67224.5603542052\t -308.3769452572715\t    \n",
            "init\t [-3.0900272  -6.66447307  7.57118171]\t -61063.84970572342\t -308.3769452572715\t    \n",
            "init\t [ 9.01928063 -9.22503248  3.98214783]\t -57052.59558792292\t -308.3769452572715\t    \n",
            "1  \t [2.99080926 7.21663846 9.41692024]\t -107317.26583764593\t -308.3769452572715\t -308.37694524727146\n",
            "2  \t [ 6.86233684  2.90237997 -3.94602224]\t -2626.2381369461364\t -308.3769452572715\t -308.37694524727146\n",
            "3  \t [-9.77584307 -9.02200933  2.98685213]\t -61841.45747865176\t -308.3769452572715\t -308.37694524727146\n",
            "4  \t [-4.28572164  1.59287123  8.76522826]\t -69574.98897203195\t -308.3769452572715\t -308.37694524727146\n",
            "5  \t [ 0.47363479  9.30843577 -8.60467824]\t -117507.45495400687\t -308.3769452572715\t -308.37694524727146\n",
            "6  \t [ 7.08809023 -0.77927986  8.97599599]\t -78756.71445675654\t -308.3769452572715\t -308.37694524727146\n",
            "7  \t [-8.38555052  3.98138274 -6.84585142]\t -27467.420044115126\t -308.3769452572715\t -308.37694524727146\n",
            "8  \t [-0.07086325 10.          0.66256088]\t -80307.48147533067\t -308.3769452572715\t -308.37694524727146\n",
            "9  \t [10. 10. 10.]\t -180581.0\t -308.3769452572715\t -308.3769452472365\n",
            "10 \t [ 6.11629874 -8.74204803 -0.96542318]\t -43423.330956225946\t -308.3769452572715\t -308.37694524727146\n",
            "11 \t [10.          9.96520777 -1.49842988]\t -71318.93090275321\t -308.3769452572715\t -308.3769452472644\n",
            "12 \t [3.01277451 9.9078286  1.97878079]\t -74760.19292573501\t -308.3769452572715\t -308.37694524727146\n",
            "\u001b[1m\u001b[92m13\u001b[0m\t \u001b[1m\u001b[92m[-3.42207866  1.55649199 -2.04503763]\u001b[0m\t \u001b[1m\u001b[92m-295.2961347663845\u001b[0m\t \u001b[1m\u001b[92m-295.2961347663845\u001b[0m\t \u001b[1m\u001b[92m-308.37694520420496\u001b[0m\n",
            "14 \t [-1.51838121  2.54792645 -8.66777325]\t -65884.06168393647\t -295.2961347663845\t -295.29613372898757\n",
            "15 \t [ 9.79254025 -1.85774879 -8.85408835]\t -75601.1109799682\t -295.2961347663845\t -295.2961347551178\n",
            "16 \t [-9.13059689  8.96698663 -0.28161135]\t -58097.51863439659\t -295.2961347663845\t -295.29613475636614\n",
            "17 \t [4.15180512 1.3744584  2.73140571]\t -560.7518417587213\t -295.2961347663845\t -295.29613457714476\n",
            "18 \t [ 9.39804768  7.24650959 -9.67349605]\t -115458.18884345451\t -295.2961347663845\t -295.29613475606527\n",
            "19 \t [-4.64737145 -2.06486808  2.63788565]\t -1145.2888720930853\t -295.2961347663845\t -295.2961308169167\n",
            "20 \t [ 0.18666325 -5.42707158 -1.83849078]\t -7342.213497519722\t -295.2961347663845\t -295.2961287922645\n",
            "21 \t [-9.54447628  6.31613042  7.59333099]\t -51715.21202303193\t -295.2961347663845\t -295.2961345087687\n",
            "22 \t [-10.          -1.88403676 -10.        ]\t -122977.25743315376\t -295.2961347663845\t -295.2961338483066\n",
            "23 \t [ 9.92925957 -3.38413915  0.57867484]\t -465.7622929341304\t -295.2961347663845\t -295.29612982726866\n",
            "24 \t [ 3.17289166 -7.61550494 10.        ]\t -154773.54121524654\t -295.2961347663845\t -295.29613166566037\n",
            "25 \t [-9.48710614 -3.05963019  6.70204567]\t -27589.706326373554\t -295.2961347663845\t -295.2961332943998\n",
            "26 \t [-3.39081323  9.27019222  6.86575529]\t -83132.60675723743\t -295.2961347663845\t -295.2961323343661\n",
            "27 \t [ 6.40007146 -7.87483414 -7.50208655]\t -71216.42130811255\t -295.2961347663845\t -295.29612655168876\n",
            "28 \t [8.2031455  5.70342115 4.9846811 ]\t -12322.37726697938\t -295.2961347663845\t -295.2961269052571\n",
            "29 \t [ 3.90745914 -0.15988348 -8.38433744]\t -59473.35625245646\t -295.2961347663845\t -295.2955575023268\n",
            "30 \t [ 4.22958042 -4.7349873   3.60427866]\t -6139.411875247154\t -295.2961347663845\t -295.2960853218746\n"
          ]
        }
      ]
    },
    {
      "cell_type": "code",
      "metadata": {
        "id": "6amuYlUdIv7r",
        "colab": {
          "base_uri": "https://localhost:8080/"
        },
        "outputId": "8a245414-fcb0-4702-f072-69043fb5a63b"
      },
      "source": [
        "### EXACT GP EI GRADIENTS\n",
        "\n",
        "np.random.seed(run_num_10)\n",
        "surrogate_exact_10 = dGaussianProcess(cov_func, optimize=opt)\n",
        "\n",
        "exact_10 = dGPGO(surrogate_exact_10, Acquisition_new(util_grad_exact), objfunc, param)\n",
        "exact_10.run(init_evals=n_init, max_iter=iters)\n"
      ],
      "execution_count": null,
      "outputs": [
        {
          "output_type": "stream",
          "name": "stdout",
          "text": [
            "Evaluation \t Proposed point \t  Current eval. \t  Best eval. \t         Max AcqFunc.\n",
            "init\t [ 5.42641287 -9.58496101  2.6729647 ]\t -65323.138576781035\t -11089.42002600802\t    \n",
            "init\t [ 4.97607765 -0.02985975 -5.50406709]\t -11089.42002600802\t -11089.42002600802\t    \n",
            "init\t [-6.0387427   5.21061424 -6.61778327]\t -27690.457734888914\t -11089.42002600802\t    \n",
            "init\t [-8.23320372  3.70719637  9.06786692]\t -80154.14403008527\t -11089.42002600802\t    \n",
            "init\t [-9.92103467  0.24384527  6.25241923]\t -18545.57155390516\t -11089.42002600802\t    \n",
            "1  \t [6.10446394 0.43294305 8.17297762]\t -53288.212919444646\t -11089.42002600802\t -11089.420025998019\n",
            "2  \t [-9.70279951  9.55798527  1.46057808]\t -74244.04457503722\t -11089.42002600802\t -11089.420025998019\n",
            "3  \t [-1.75447845 -6.302649    6.80494632]\t -42548.732127148585\t -11089.42002600802\t -11089.420025998019\n",
            "4  \t [3.25643503 8.71340004 2.25458364]\t -44169.54631375984\t -11089.42002600802\t -11089.420025998019\n",
            "5  \t [-4.51864821 -4.41820786 -7.58640717]\t -46684.2942823814\t -11089.42002600802\t -11089.420025998019\n",
            "6  \t [ 8.09627953 -9.91552173 -8.52992239]\t -143623.97605290846\t -11089.42002600802\t -11089.420025998019\n",
            "7  \t [10. 10. 10.]\t -180581.0\t -11089.42002600802\t -11089.420025998019\n",
            "8  \t [ 9.80335485  7.06202787 -3.11757933]\t -16715.848126851764\t -11089.42002600802\t -11089.420025998019\n",
            "9  \t [-10. -10. -10.]\t -220621.0\t -11089.42002600802\t -11089.420025997953\n",
            "10 \t [-9.07649321 -6.62057479 -0.21625705]\t -18954.227742298204\t -11089.42002600802\t -11089.420025998019\n",
            "11 \t [ 1.2525854  -9.29399613 -5.2433587 ]\t -71223.0133080383\t -11089.42002600802\t -11089.420025979365\n",
            "\u001b[1m\u001b[92m12\u001b[0m\t \u001b[1m\u001b[92m[4.46588649 0.41056736 4.72710494]\u001b[0m\t \u001b[1m\u001b[92m-5928.386985062376\u001b[0m\t \u001b[1m\u001b[92m-5928.386985062376\u001b[0m\t \u001b[1m\u001b[92m-11089.420025998019\u001b[0m\n",
            "13 \t [ 1.9928971   8.13344531 -7.47667015]\t -66204.93098913587\t -5928.386985062376\t -5928.386985052374\n",
            "\u001b[1m\u001b[92m14\u001b[0m\t \u001b[1m\u001b[92m[-4.28724281  3.94774388  1.49012921]\u001b[0m\t \u001b[1m\u001b[92m-2543.026603093098\u001b[0m\t \u001b[1m\u001b[92m-2543.026603093098\u001b[0m\t \u001b[1m\u001b[92m-5928.386985050024\u001b[0m\n",
            "15 \t [-2.37647063  9.84381786  7.05444353]\t -101114.01355982904\t -2543.026603093098\t -2543.0266030681737\n",
            "\u001b[1m\u001b[92m16\u001b[0m\t \u001b[1m\u001b[92m[ 9.24808121 -3.68645667 -0.94968403]\u001b[0m\t \u001b[1m\u001b[92m-801.5616686161399\u001b[0m\t \u001b[1m\u001b[92m-801.5616686161399\u001b[0m\t \u001b[1m\u001b[92m-2543.026603058606\u001b[0m\n",
            "\u001b[1m\u001b[92m17\u001b[0m\t \u001b[1m\u001b[92m[-1.45617802 -1.32632471 -0.8044646 ]\u001b[0m\t \u001b[1m\u001b[92m-76.12660574689887\u001b[0m\t \u001b[1m\u001b[92m-76.12660574689887\u001b[0m\t \u001b[1m\u001b[92m-801.5616670907382\u001b[0m\n",
            "18 \t [-8.2696332  -9.61033299  9.99979612]\t -206372.82650296067\t -76.12660574689887\t -76.126605736569\n",
            "19 \t [-9.22329916  1.33047916 -2.16068644]\t -622.6567627150712\t -76.12660574689887\t -76.12660319620925\n",
            "20 \t [3.25032906 7.42121062 9.42266246]\t -109714.6348992892\t -76.12660574689887\t -76.12658361587313\n",
            "21 \t [  0.01147041   0.22396243 -10.        ]\t -119732.38854477879\t -76.12660574689887\t -76.12660383531768\n",
            "22 \t [10.         10.          2.90373153]\t -72422.31522133778\t -76.12660574689887\t -76.12660217812305\n",
            "23 \t [-0.2919015  -0.24034792  8.4535002 ]\t -61489.51812314245\t -76.12660574689887\t -76.12653141911956\n",
            "24 \t [-9.79146229  0.16675486 -8.7841514 ]\t -71602.48850049202\t -76.12660574689887\t -76.1266019463248\n",
            "25 \t [ 0.84927514  3.83851234 -2.23502527]\t -1751.6734087196207\t -76.12660574689887\t -76.12659672191506\n",
            "26 \t [ 9.38453828 -7.40368167  8.0475423 ]\t -76417.3161708137\t -76.12660574689887\t -76.12660509667452\n",
            "27 \t [ -5.23403687 -10.          -4.72234484]\t -93224.71734371925\t -76.12660574689887\t -76.12653481877003\n",
            "28 \t [9.62584737 3.37533113 2.88131061]\t -945.7549964587698\t -76.12660574689887\t -76.12658406000871\n",
            "29 \t [ 6.73899614  8.64525063 -6.91350965]\t -63463.18794393359\t -76.12660574689887\t -76.12660573689887\n",
            "30 \t [ -2.96887422  -9.50410494 -10.        ]\t -199127.86653131916\t -76.12660574689887\t -76.12278911396764\n"
          ]
        }
      ]
    },
    {
      "cell_type": "code",
      "metadata": {
        "id": "VwbLIP9cIv-F",
        "colab": {
          "base_uri": "https://localhost:8080/"
        },
        "outputId": "383165c6-7dbc-4b62-afd2-694e66a69470"
      },
      "source": [
        "### EXACT GP EI GRADIENTS\n",
        "\n",
        "np.random.seed(run_num_11)\n",
        "surrogate_exact_11 = dGaussianProcess(cov_func, optimize=opt)\n",
        "\n",
        "exact_11 = dGPGO(surrogate_exact_11, Acquisition_new(util_grad_exact), objfunc, param)\n",
        "exact_11.run(init_evals=n_init, max_iter=iters)\n"
      ],
      "execution_count": null,
      "outputs": [
        {
          "output_type": "stream",
          "name": "stdout",
          "text": [
            "Evaluation \t Proposed point \t  Current eval. \t  Best eval. \t         Max AcqFunc.\n",
            "init\t [-6.39460622 -9.61049517 -0.73562947]\t -73449.7462395723\t -22.303897517794855\t    \n",
            "init\t [ 4.49867858 -1.59592791 -0.29145804]\t -22.303897517794855\t -22.303897517794855\t    \n",
            "init\t [-9.74438371 -0.25256785  8.83613305]\t -73699.8605668882\t -22.303897517794855\t    \n",
            "init\t [ 7.01590179  4.5992894  -7.82527856]\t -44207.59530328671\t -22.303897517794855\t    \n",
            "init\t [ 7.87808341  7.14308494 -6.69826765]\t -38246.569253964415\t -22.303897517794855\t    \n",
            "1  \t [-1.96647039  6.95957995  4.35698359]\t -22430.99927361658\t -22.303897517794855\t -22.303897507794854\n",
            "2  \t [-3.72641694  8.61531845 -5.23307798]\t -52726.91681995238\t -22.303897517794855\t -22.303897507794854\n",
            "3  \t [-10. -10. -10.]\t -220621.0\t -22.303897517794855\t -22.303897507794854\n",
            "4  \t [ 4.43147963 -5.55301844 -8.46208901]\t -72959.52458628741\t -22.303897517794855\t -22.303897507794854\n",
            "5  \t [ 5.40088552 -8.93292028  7.72280751]\t -96888.8410801737\t -22.303897517794855\t -22.303897507794854\n",
            "6  \t [5.83565357 7.48319456 8.81597125]\t -88239.63646454494\t -22.303897517794855\t -22.303897507794826\n",
            "7  \t [-9.91700398  2.82413986 -1.82953825]\t -1502.4804901611444\t -22.303897517794855\t -22.303897507794833\n",
            "8  \t [9.19882162 0.03064205 8.95268462]\t -77296.27028686141\t -22.303897517794855\t -22.30389750766182\n",
            "9  \t [-0.1949367  -2.43324167  7.75375352]\t -45438.36504414475\t -22.303897517794855\t -22.303897507789703\n",
            "10 \t [-9.59976122  8.38827695  9.33640652]\t -127925.16238139631\t -22.303897517794855\t -22.303897507792882\n",
            "11 \t [-4.22448519 -2.60381475 -8.59171843]\t -68375.18072103971\t -22.303897517794855\t -22.303897507794826\n",
            "12 \t [-4.41714463 -8.33150362  7.94479248]\t -95395.66273479555\t -22.303897517794855\t -22.303897424054828\n",
            "13 \t [5.13721823 3.18262353 2.72659718]\t -884.0945014773084\t -22.303897517794855\t -22.30389642493216\n",
            "14 \t [ 1.3925504  -7.5833256  -1.12331643]\t -26126.11925624919\t -22.303897517794855\t -22.303897506364414\n",
            "15 \t [ 9.09743006 -7.82393094  1.54900137]\t -26231.110519638634\t -22.303897517794855\t -22.303897358390522\n",
            "16 \t [-1.94147296  1.41312268  0.10250513]\t -84.92183427474852\t -22.303897517794855\t -22.303897232824365\n",
            "17 \t [ 2.48598665 10.         -1.04189201]\t -78209.65516211554\t -22.303897517794855\t -22.303897498764503\n",
            "18 \t [8.95940742 8.20348643 2.38765109]\t -31662.33120309774\t -22.303897517794855\t -22.303896273051404\n",
            "19 \t [ -7.95401599   5.84901617 -10.        ]\t -124830.57358924267\t -22.303897517794855\t -22.303896628855252\n",
            "20 \t [ 9.87792358  0.65181507 -1.08037035]\t -250.32751571373058\t -22.303897517794855\t -22.303896998847346\n",
            "21 \t [-5.57136114 -3.1856544   1.104557  ]\t -1476.4521415594793\t -22.303897517794855\t -22.30389136799612\n",
            "22 \t [-7.39297296  8.28502387  0.51377299]\t -42113.37350514945\t -22.303897517794855\t -22.303893649046664\n",
            "23 \t [10.         -2.39673087 -6.20285306]\t -18973.5108421035\t -22.303897517794855\t -22.303891510759367\n",
            "24 \t [-3.08867458 -9.33713157 -7.79278504]\t -114315.40037974225\t -22.303897517794855\t -22.30389531367202\n",
            "25 \t [ 2.69741318  0.07454158 -4.85036223]\t -6637.966211909346\t -22.303897517794855\t -22.303897507794854\n",
            "26 \t [-0.53690286 10.         10.        ]\t -188732.4608859084\t -22.303897517794855\t -22.303891276654017\n",
            "27 \t [-10.          -1.03510078 -10.        ]\t -121661.23368772859\t -22.303897517794855\t -22.303685495848768\n",
            "28 \t [-0.14895709  2.47787608 -9.90602549]\t -112963.2672800376\t -22.303897517794855\t -22.303879644148115\n",
            "29 \t [-4.55677271  0.50897929  5.00286779]\t -7447.5165019321785\t -22.303897517794855\t -22.303122372230558\n",
            "30 \t [0.11504981 3.64144231 9.38486487]\t -90674.28036874678\t -22.303897517794855\t -22.30371824568826\n"
          ]
        }
      ]
    },
    {
      "cell_type": "code",
      "metadata": {
        "id": "MlUNFjc-JTBY",
        "colab": {
          "base_uri": "https://localhost:8080/"
        },
        "outputId": "075c62b1-75a9-417d-99b1-90fee9fcb884"
      },
      "source": [
        "### EXACT GP EI GRADIENTS\n",
        "\n",
        "np.random.seed(run_num_12)\n",
        "surrogate_exact_12 = dGaussianProcess(cov_func, optimize=opt)\n",
        "\n",
        "exact_12 = dGPGO(surrogate_exact_12, Acquisition_new(util_grad_exact), objfunc, param)\n",
        "exact_12.run(init_evals=n_init, max_iter=iters)\n"
      ],
      "execution_count": null,
      "outputs": [
        {
          "output_type": "stream",
          "name": "stdout",
          "text": [
            "Evaluation \t Proposed point \t  Current eval. \t  Best eval. \t         Max AcqFunc.\n",
            "init\t [-6.91674315  4.80099393 -4.7336997 ]\t -10487.591252066548\t -4586.38475927115\t    \n",
            "init\t [ 0.67478787 -9.70850075  8.37494016]\t -138053.19180525147\t -4586.38475927115\t    \n",
            "init\t [ 8.01429708 -9.33157145  9.13898673]\t -148578.70720060062\t -4586.38475927115\t    \n",
            "init\t [-7.25581357 -4.32343294  2.12166369]\t -4586.38475927115\t -4586.38475927115\t    \n",
            "init\t [ 8.88450272  7.05471082 -9.95481533]\t -126104.01453704505\t -4586.38475927115\t    \n",
            "\u001b[1m\u001b[92m1\u001b[0m\t \u001b[1m\u001b[92m[ 4.05244711 -3.44861047 -3.30704942]\u001b[0m\t \u001b[1m\u001b[92m-2711.705028601448\u001b[0m\t \u001b[1m\u001b[92m-2711.705028601448\u001b[0m\t \u001b[1m\u001b[92m-4586.38475926115\u001b[0m\n",
            "2  \t [-9.8399332  -9.79123196  1.94917609]\t -82290.79401902205\t -2711.705028601448\t -2711.705028591448\n",
            "3  \t [-2.72524362 -3.32877676 -7.87150673]\t -49830.2759128258\t -2711.705028601448\t -2711.705028591448\n",
            "4  \t [-9.90274624 -5.05558204  6.5981439 ]\t -33027.813423262836\t -2711.705028601448\t -2711.705028591448\n",
            "\u001b[1m\u001b[92m5\u001b[0m\t \u001b[1m\u001b[92m[8.11179655 4.25164412 2.83994041]\u001b[0m\t \u001b[1m\u001b[92m-2046.5141241551942\u001b[0m\t \u001b[1m\u001b[92m-2046.5141241551942\u001b[0m\t \u001b[1m\u001b[92m-2711.705028591448\u001b[0m\n",
            "6  \t [-1.0203127   6.70305372  2.93327516]\t -16854.29441646725\t -2046.5141241551942\t -2046.5141241451943\n",
            "7  \t [2.24146714 3.87396922 9.57204863]\t -98069.68646479683\t -2046.5141241551942\t -2046.5141241451943\n",
            "8  \t [-3.39588922 -3.70052717  9.95424593]\t -124174.59831589606\t -2046.5141241551942\t -2046.5141241451943\n",
            "9  \t [-10. -10. -10.]\t -220621.0\t -2046.5141241551942\t -2046.5141241451943\n",
            "\u001b[1m\u001b[92m10\u001b[0m\t \u001b[1m\u001b[92m[ 0.20091307 -2.4472805   3.29917527]\u001b[0m\t \u001b[1m\u001b[92m-2037.3566435691675\u001b[0m\t \u001b[1m\u001b[92m-2037.3566435691675\u001b[0m\t \u001b[1m\u001b[92m-2046.5141241451943\u001b[0m\n",
            "11 \t [-3.87321278  9.96526606  8.00203174]\t -123867.78422181687\t -2037.3566435691675\t -2037.3566435591677\n",
            "12 \t [10. 10. 10.]\t -180581.0\t -2037.3566435691675\t -2037.3566435591677\n",
            "13 \t [-9.11982852  6.94482554  2.3646267 ]\t -22451.003952017283\t -2037.3566435691675\t -2037.3566435591651\n",
            "14 \t [-1.52361308  8.92528175 -8.84260182]\t -116980.07166015083\t -2037.3566435691675\t -2037.3566435591674\n",
            "15 \t [-0.47370456 -9.97762256  0.31387618]\t -79976.78296998542\t -2037.3566435691675\t -2037.3566435591524\n",
            "16 \t [10.         -1.52321816 10.        ]\t -121973.27327253664\t -2037.3566435691675\t -2037.3566435591677\n",
            "17 \t [-10.          -3.00596944  -7.28012779]\t -37344.28630680125\t -2037.3566435691675\t -2037.3566434300074\n",
            "18 \t [ 9.61487616 -6.21933532 -9.44941862]\t -111708.82778032127\t -2037.3566435691675\t -2037.3566435591677\n",
            "19 \t [10.          9.72132938 -1.98930287]\t -64178.87114943195\t -2037.3566435691675\t -2037.3566435586783\n",
            "20 \t [ 1.46090837 -9.63677516 -7.86446946]\t -121249.89363693901\t -2037.3566435691675\t -2037.3566435591638\n",
            "21 \t [ 8.97914165  0.59644518 -6.51034682]\t -21455.548563328866\t -2037.3566435691675\t -2037.3566435591677\n",
            "22 \t [ 6.72999519 -9.85288555  3.98217806]\t -75475.66507226418\t -2037.3566435691675\t -2037.3566435591677\n",
            "23 \t [-8.10098369  0.61845424  8.65164439]\t -66917.66088073654\t -2037.3566435691675\t -2037.3566435591677\n",
            "24 \t [ 3.37400613  4.39424406 -3.76829724]\t -4218.868909764441\t -2037.3566435691675\t -2037.3566435591677\n",
            "25 \t [ 2.97874059 -1.00532535 -9.7619692 ]\t -110134.45177295854\t -2037.3566435691675\t -2037.356643548325\n",
            "\u001b[1m\u001b[92m26\u001b[0m\t \u001b[1m\u001b[92m[-2.68305275  1.11788552 -1.26408232]\u001b[0m\t \u001b[1m\u001b[92m-80.23247359805195\u001b[0m\t \u001b[1m\u001b[92m-80.23247359805195\u001b[0m\t \u001b[1m\u001b[92m-2037.3566408162812\u001b[0m\n",
            "27 \t [-10.           3.10868407 -10.        ]\t -118139.81447740732\t -80.23247359805195\t -80.23245981431839\n",
            "28 \t [-6.42634075 -7.4206844  -3.67722554]\t -30790.801772471867\t -80.23247359805195\t -80.23246819288303\n",
            "29 \t [ 0.82655294  0.84917855 -3.31070482]\t -1332.9204930727701\t -80.23247359805195\t -80.23247358805196\n",
            "\u001b[1m\u001b[92m30\u001b[0m\t \u001b[1m\u001b[92m[3.96785368 0.82280071 1.07905723]\u001b[0m\t \u001b[1m\u001b[92m-29.276056721126224\u001b[0m\t \u001b[1m\u001b[92m-29.276056721126224\u001b[0m\t \u001b[1m\u001b[92m-80.23247218048596\u001b[0m\n"
          ]
        }
      ]
    },
    {
      "cell_type": "code",
      "metadata": {
        "id": "9BsKdU9eJTFL",
        "colab": {
          "base_uri": "https://localhost:8080/"
        },
        "outputId": "a346b2d4-70ac-44e4-8d4d-1c8394a5f7cd"
      },
      "source": [
        "### EXACT GP EI GRADIENTS\n",
        "\n",
        "np.random.seed(run_num_13)\n",
        "surrogate_exact_13 = dGaussianProcess(cov_func, optimize=opt)\n",
        "\n",
        "exact_13 = dGPGO(surrogate_exact_13, Acquisition_new(util_grad_exact), objfunc, param)\n",
        "exact_13.run(init_evals=n_init, max_iter=iters)\n"
      ],
      "execution_count": null,
      "outputs": [
        {
          "output_type": "stream",
          "name": "stdout",
          "text": [
            "Evaluation \t Proposed point \t  Current eval. \t  Best eval. \t         Max AcqFunc.\n",
            "init\t [ 5.55404821 -5.2491756   6.48557065]\t -28895.231649642476\t -7190.67128147545\t    \n",
            "init\t [ 9.31498396  9.45202228 -0.93101505]\t -57617.86193657745\t -7190.67128147545\t    \n",
            "init\t [2.18084926 5.51053029 2.8322669 ]\t -7190.67128147545\t -7190.67128147545\t    \n",
            "init\t [ 4.44036459 -9.29926952 -4.03101058]\t -62045.794621798595\t -7190.67128147545\t    \n",
            "init\t [-8.82975016  7.14121885 -2.54291944]\t -24761.06708561053\t -7190.67128147545\t    \n",
            "1  \t [ 0.185244   -0.40233217  9.1114829 ]\t -83108.09560590271\t -7190.67128147545\t -7190.67128146545\n",
            "2  \t [-2.55507975  5.16954611 -8.57852975]\t -66788.32667697628\t -7190.67128147545\t -7190.67128146545\n",
            "3  \t [-4.04492519 -9.41811807  2.86360578]\t -67871.1485238979\t -7190.67128147545\t -7190.67128146545\n",
            "4  \t [ 5.82685351 -2.07230908 -7.09410447]\t -31695.800000421277\t -7190.67128147545\t -7190.67128146545\n",
            "5  \t [-9.72135464 -7.69244795 -6.22844507]\t -54735.99736938843\t -7190.67128147545\t -7190.67128146545\n",
            "6  \t [ 1.70981611 -7.96842051  6.63640935]\t -59069.60046239685\t -7190.67128147545\t -7190.67128146545\n",
            "7  \t [10. 10. 10.]\t -180581.0\t -7190.67128147545\t -7190.67128146545\n",
            "8  \t [-4.97792497  8.5929529   4.71687157]\t -50510.666794218574\t -7190.67128147545\t -7190.671281465402\n",
            "9  \t [ 1.6639904   1.75101086 -5.56192983]\t -10883.292818417536\t -7190.67128147545\t -7190.67128146545\n",
            "\u001b[1m\u001b[92m10\u001b[0m\t \u001b[1m\u001b[92m[10.          1.09440217  4.03256774]\u001b[0m\t \u001b[1m\u001b[92m-3159.967858133461\u001b[0m\t \u001b[1m\u001b[92m-3159.967858133461\u001b[0m\t \u001b[1m\u001b[92m-7190.671281465384\u001b[0m\n",
            "11 \t [-7.33037661 -5.43830137  9.80324356]\t -126099.93632971952\t -3159.967858133461\t -3159.9678581234593\n",
            "\u001b[1m\u001b[92m12\u001b[0m\t \u001b[1m\u001b[92m[-1.64339016  0.96729591  0.37985948]\u001b[0m\t \u001b[1m\u001b[92m-33.075865092968336\u001b[0m\t \u001b[1m\u001b[92m-33.075865092968336\u001b[0m\t \u001b[1m\u001b[92m-3159.967858123461\u001b[0m\n",
            "13 \t [-8.34716102  1.65684644 -5.42960023]\t -10321.657348027442\t -33.075865092968336\t -33.075865082968335\n",
            "14 \t [-8.38082518 -2.64602889  2.11985023]\t -1496.0846497224004\t -33.075865092968336\t -33.075865082621576\n",
            "15 \t [1.16791617 8.90731968 9.7376148 ]\t -147615.9565299587\t -33.075865092968336\t -33.07586508216344\n",
            "16 \t [ 9.73069842 -8.27142204  0.42951556]\t -32610.105504499315\t -33.075865092968336\t -33.07586435087233\n",
            "17 \t [-6.09989722  4.04237649  9.6565751 ]\t -102929.55278557005\t -33.075865092968336\t -33.07586292118447\n",
            "18 \t [ 7.6080448   8.49246997 -8.49971853]\t -92868.82082788214\t -33.075865092968336\t -33.075865081428184\n",
            "19 \t [6.28948877 1.1576258  7.72507096]\t -41964.78613282861\t -33.075865092968336\t -33.075865082968335\n",
            "20 \t [4.84759227 0.35590622 3.48973611]\t -1785.1061528226342\t -33.075865092968336\t -33.075865082968335\n",
            "21 \t [-4.41297813 -4.02671613 -3.46266013]\t -5097.079726759116\t -33.075865092968336\t -33.07586448326429\n",
            "22 \t [-8.82859559  7.62795782 -9.89307628]\t -137611.81884131514\t -33.075865092968336\t -33.07586310978269\n",
            "23 \t [ 9.66442176  2.40318198 -3.15291943]\t -998.6937471629483\t -33.075865092968336\t -33.07586485133462\n",
            "24 \t [ 9.00137308 -2.74138829  2.33039229]\t -691.8329255341308\t -33.075865092968336\t -33.075865082968335\n",
            "25 \t [ -3.9218131   -2.59174794 -10.        ]\t -123756.94359383281\t -33.075865092968336\t -33.07586465831093\n",
            "26 \t [ -4.86487685  -9.10182694 -10.        ]\t -189380.66803660756\t -33.075865092968336\t -33.07577776861441\n",
            "27 \t [ 1.93524606 10.         -4.3869853 ]\t -80895.42729247885\t -33.075865092968336\t -33.0758647556106\n",
            "28 \t [10.          6.99293103  4.47290008]\t -18770.54935964743\t -33.075865092968336\t -33.07509181261269\n",
            "29 \t [-0.65390108 -3.77945799  2.1050863 ]\t -2190.1234548424504\t -33.075865092968336\t -33.07581553345491\n",
            "30 \t [-3.10419522  7.82067922 -2.15381257]\t -31488.705487632826\t -33.075865092968336\t -33.07421983865908\n"
          ]
        }
      ]
    },
    {
      "cell_type": "code",
      "metadata": {
        "id": "k6GjFBr1JTJf",
        "colab": {
          "base_uri": "https://localhost:8080/"
        },
        "outputId": "01555778-5c4c-4abf-f11f-66bd9c4a188f"
      },
      "source": [
        "### EXACT GP EI GRADIENTS\n",
        "\n",
        "np.random.seed(run_num_14)\n",
        "surrogate_exact_14 = dGaussianProcess(cov_func, optimize=opt)\n",
        "\n",
        "exact_14 = dGPGO(surrogate_exact_14, Acquisition_new(util_grad_exact), objfunc, param)\n",
        "exact_14.run(init_evals=n_init, max_iter=iters)\n"
      ],
      "execution_count": null,
      "outputs": [
        {
          "output_type": "stream",
          "name": "stdout",
          "text": [
            "Evaluation \t Proposed point \t  Current eval. \t  Best eval. \t         Max AcqFunc.\n",
            "init\t [0.27886688 5.46330104 7.40855371]\t -39702.89936997373\t -1439.5830530376063\t    \n",
            "init\t [-9.83906103 -3.80528149  9.15207479]\t -91186.29991894927\t -1439.5830530376063\t    \n",
            "init\t [ 0.26233425 -3.6343115   0.78399875]\t -1439.5830530376063\t -1439.5830530376063\t    \n",
            "init\t [-5.57490115  6.12962716 -3.15490749]\t -13643.962145478023\t -1439.5830530376063\t    \n",
            "init\t [ 0.77777698 -9.88252429  3.46304956]\t -79141.18744713577\t -1439.5830530376063\t    \n",
            "1  \t [ 7.75074914 -8.33301678  4.9312824 ]\t -44170.557703432896\t -1439.5830530376063\t -1439.5830530276064\n",
            "2  \t [ 2.4133841   6.9805318  -1.42862351]\t -18093.267359135454\t -1439.5830530376063\t -1439.5830530276064\n",
            "3  \t [ 0.20170278 -6.14709147 -9.49686071]\t -115740.3239857176\t -1439.5830530376063\t -1439.5830530276064\n",
            "4  \t [ 8.31288284 -8.41520495 -6.46756025]\t -61033.900912213845\t -1439.5830530376063\t -1439.5830530276064\n",
            "\u001b[1m\u001b[92m5\u001b[0m\t \u001b[1m\u001b[92m[-9.55982645 -2.40648449 -1.49955998]\u001b[0m\t \u001b[1m\u001b[92m-1148.4811474641567\u001b[0m\t \u001b[1m\u001b[92m-1148.4811474641567\u001b[0m\t \u001b[1m\u001b[92m-1439.5830530276064\u001b[0m\n",
            "6  \t [10. 10. 10.]\t -180581.0\t -1148.4811474641567\t -1148.4811474541568\n",
            "7  \t [ 5.07660615  7.61948752 -9.37017484]\t -109327.57369250164\t -1148.4811474641567\t -1148.4811474541568\n",
            "8  \t [6.42276717 1.0061645  3.32709634]\t -1407.8997699919412\t -1148.4811474641567\t -1148.4811474541564\n",
            "9  \t [-10. -10. -10.]\t -220621.0\t -1148.4811474641567\t -1148.4811474541568\n",
            "10 \t [-4.76065837 -6.01957255  5.24376667]\t -23130.52422954533\t -1148.4811474641567\t -1148.4811474541568\n",
            "11 \t [ 7.60230019 -1.14698318 -7.8298339 ]\t -46042.31695887177\t -1148.4811474641567\t -1148.4811474541518\n",
            "12 \t [-6.98452656  0.74550078 -9.19401505]\t -85183.98118751567\t -1148.4811474641567\t -1148.4811474541568\n",
            "13 \t [-3.36390978  3.12902366  6.11942711]\t -16523.004276481952\t -1148.4811474641567\t -1148.4811474541568\n",
            "14 \t [ 9.76543249 10.          1.27635903]\t -72591.57037835935\t -1148.4811474641567\t -1148.4811474541498\n",
            "15 \t [0.89026243 7.74449105 2.59197279]\t -28449.696044348027\t -1148.4811474641567\t -1148.4811474541568\n",
            "16 \t [-2.55795502 -9.23714179 -2.54681825]\t -61494.170731072685\t -1148.4811474641567\t -1148.4811474541568\n",
            "17 \t [ 8.10368355 -3.03952413  9.62267732]\t -106558.82772503249\t -1148.4811474641567\t -1148.4811471701657\n",
            "18 \t [ 2.24496432 -3.39912563 -6.205258  ]\t -20269.19299563198\t -1148.4811474641567\t -1148.4811474541568\n",
            "19 \t [-9.00036184  8.51419028  8.16896995]\t -94359.14985585152\t -1148.4811474641567\t -1148.4811474540925\n",
            "20 \t [-9.98433531 -8.59906567 -1.93388372]\t -50743.5071542287\t -1148.4811474641567\t -1148.48114518373\n",
            "\u001b[1m\u001b[92m21\u001b[0m\t \u001b[1m\u001b[92m[ 7.81728996  3.49371769 -2.89413928]\u001b[0m\t \u001b[1m\u001b[92m-1124.605509820473\u001b[0m\t \u001b[1m\u001b[92m-1124.605509820473\u001b[0m\t \u001b[1m\u001b[92m-1148.4811474541568\u001b[0m\n",
            "22 \t [-1.98007947  5.73523316 -9.17836979]\t -88655.7145465895\t -1124.605509820473\t -1124.6055089313543\n",
            "23 \t [-0.03374653 -3.81283522  9.40583316]\t -99709.86254326264\t -1124.605509820473\t -1124.6055073428622\n",
            "24 \t [ 9.90044252 -5.17172519  0.15233987]\t -3961.611170244452\t -1124.605509820473\t -1124.6055098104728\n",
            "25 \t [-5.1898419   9.78022655  2.13987898]\t -77260.44167510349\t -1124.605509820473\t -1124.6054878290963\n",
            "\u001b[1m\u001b[92m26\u001b[0m\t \u001b[1m\u001b[92m[ 0.9588337   0.50599744 -3.07506698]\u001b[0m\t \u001b[1m\u001b[92m-1016.7518385211786\u001b[0m\t \u001b[1m\u001b[92m-1016.7518385211786\u001b[0m\t \u001b[1m\u001b[92m-1124.6055091349817\u001b[0m\n",
            "27 \t [-10.           4.36225885   0.93972064]\t -4760.478278517519\t -1016.7518385211786\t -1016.7518385111786\n",
            "28 \t [-6.08336369 -5.3565314  -7.20409323]\t -43850.68603427586\t -1016.7518385211786\t -1016.7517760558129\n",
            "29 \t [-8.31331304 -9.54326849  6.39189817]\t -97620.68962799961\t -1016.7518385211786\t -1016.7518385070952\n",
            "30 \t [-9.29171552  8.22082761 -8.21503955]\t -90039.74415859504\t -1016.7518385211786\t -1016.7518363959723\n"
          ]
        }
      ]
    },
    {
      "cell_type": "code",
      "metadata": {
        "id": "dPS8WB3aJTN6",
        "colab": {
          "base_uri": "https://localhost:8080/"
        },
        "outputId": "ee967f4a-af21-4391-f88b-23e5ead7da57"
      },
      "source": [
        "### EXACT GP EI GRADIENTS\n",
        "\n",
        "np.random.seed(run_num_15)\n",
        "surrogate_exact_15 = dGaussianProcess(cov_func, optimize=opt)\n",
        "\n",
        "exact_15 = dGPGO(surrogate_exact_15, Acquisition_new(util_grad_exact), objfunc, param)\n",
        "exact_15.run(init_evals=n_init, max_iter=iters)\n"
      ],
      "execution_count": null,
      "outputs": [
        {
          "output_type": "stream",
          "name": "stdout",
          "text": [
            "Evaluation \t Proposed point \t  Current eval. \t  Best eval. \t         Max AcqFunc.\n",
            "init\t [ 6.97635395 -6.4220815  -8.91273571]\t -93407.31094956005\t -3815.237318891498\t    \n",
            "init\t [-2.76923108 -4.49198143  0.6000045 ]\t -3815.237318891498\t -3815.237318891498\t    \n",
            "init\t [-3.88162169 -3.91051282 -7.76517448]\t -48905.136415868226\t -3815.237318891498\t    \n",
            "init\t [-5.00201972  8.35259796 -4.71706293]\t -45736.265979350435\t -3815.237318891498\t    \n",
            "init\t [4.35547375 7.31430068 6.14158964]\t -35004.84714820178\t -3815.237318891498\t    \n",
            "\u001b[1m\u001b[92m1\u001b[0m\t \u001b[1m\u001b[92m[-4.02002687  0.75490439  3.31255076]\u001b[0m\t \u001b[1m\u001b[92m-1425.6331932181074\u001b[0m\t \u001b[1m\u001b[92m-1425.6331932181074\u001b[0m\t \u001b[1m\u001b[92m-3815.237318881498\u001b[0m\n",
            "2  \t [ 2.60405856  6.24027381 -8.67997755]\t -73928.10815893668\t -1425.6331932181074\t -1425.6331932081075\n",
            "3  \t [ 8.90778657  0.06639168 -3.55320815]\t -2123.645927039213\t -1425.6331932181074\t -1425.6331932081075\n",
            "4  \t [ 5.05406978 -4.8669869   5.11668062]\t -13423.651465814419\t -1425.6331932181074\t -1425.6331932081075\n",
            "5  \t [-10. -10. -10.]\t -220621.0\t -1425.6331932181074\t -1425.6331932081075\n",
            "\u001b[1m\u001b[92m6\u001b[0m\t \u001b[1m\u001b[92m[-9.79351252 -2.51545841 -0.23562792]\u001b[0m\t \u001b[1m\u001b[92m-1145.0724111700745\u001b[0m\t \u001b[1m\u001b[92m-1145.0724111700745\u001b[0m\t \u001b[1m\u001b[92m-1425.6331932081061\u001b[0m\n",
            "7  \t [10.         -1.08727907 10.        ]\t -121505.88766537308\t -1145.0724111700745\t -1145.0724111600746\n",
            "8  \t [-6.79260397 -5.2544118   9.53943762]\t -112945.87634904005\t -1145.0724111700745\t -1145.0724111600746\n",
            "9  \t [ 9.48312637  9.88620053 -3.19449007]\t -69589.33701998279\t -1145.0724111700745\t -1145.0724111600746\n",
            "10 \t [-8.84365152  2.51307961  8.46234511]\t -60416.71220234644\t -1145.0724111700745\t -1145.0724111599327\n",
            "11 \t [ -9.79163177 -10.           0.8858436 ]\t -88543.07250748272\t -1145.0724111700745\t -1145.0724111600714\n",
            "12 \t [-3.1640906   7.88786526  2.87351484]\t -32804.57261390649\t -1145.0724111700745\t -1145.0724111594047\n",
            "13 \t [ 3.25184278  6.87409627 -0.95956113]\t -16735.839523012157\t -1145.0724111700745\t -1145.0724111600746\n",
            "14 \t [10. 10. 10.]\t -180581.0\t -1145.0724111700745\t -1145.0724111600653\n",
            "15 \t [-9.72970835  1.63019389 -8.98385101]\t -77165.35620565368\t -1145.0724111700745\t -1145.0724111600734\n",
            "16 \t [-4.55249149 -2.94389805  5.77109571]\t -15502.4756067063\t -1145.0724111700745\t -1145.0724111600746\n",
            "17 \t [ 3.18306572 -9.35162255 -2.19739649]\t -60066.07915978792\t -1145.0724111700745\t -1145.0724111599914\n",
            "18 \t [-3.174519    0.81752231  7.37357542]\t -34999.41291503981\t -1145.0724111700745\t -1145.0724111600746\n",
            "\u001b[1m\u001b[92m19\u001b[0m\t \u001b[1m\u001b[92m[ 2.53754434 -0.34689812 -0.46793844]\u001b[0m\t \u001b[1m\u001b[92m-14.76312378397942\u001b[0m\t \u001b[1m\u001b[92m-14.76312378397942\u001b[0m\t \u001b[1m\u001b[92m-1145.0724109642922\u001b[0m\n",
            "20 \t [-2.72858318 10.          9.48126572]\t -168696.36838052643\t -14.76312378397942\t -14.763123244492176\n",
            "21 \t [-3.86873102  1.36177102 -3.01850777]\t -991.4244327198737\t -14.76312378397942\t -14.763122205264414\n",
            "22 \t [ 9.52628416 -0.73905403  1.97294788]\t -432.9391461027912\t -14.76312378397942\t -14.763123773975012\n",
            "23 \t [  0.62494773 -10.           4.78247934]\t -88823.21687695794\t -14.76312378397942\t -14.763123086533351\n",
            "24 \t [ -2.95052755 -10.          -2.18372174]\t -83538.55601138558\t -14.76312378397942\t -14.763123773979439\n",
            "25 \t [9.78031818 5.49542041 3.30637543]\t -6005.469270998181\t -14.76312378397942\t -14.763123773979439\n",
            "26 \t [-9.98603708  8.51627689  1.57796403]\t -48233.00151803348\t -14.76312378397942\t -14.763123317846459\n",
            "27 \t [ -3.2050528  -10.          -9.77261427]\t -203814.89275202953\t -14.76312378397942\t -14.763090640443897\n",
            "28 \t [ 7.58662645  1.5212295  -9.7121278 ]\t -105113.37503853312\t -14.76312378397942\t -14.76312159336501\n",
            "29 \t [ 9.98880023 -6.69041984 -0.03015265]\t -12866.673025719238\t -14.76312378397942\t -14.763123222134194\n",
            "30 \t [ 8.12863329 -9.29028702  9.00961512]\t -142542.27457319596\t -14.76312378397942\t -14.763122057259\n"
          ]
        }
      ]
    },
    {
      "cell_type": "code",
      "metadata": {
        "id": "SHWdp2giJTRm",
        "colab": {
          "base_uri": "https://localhost:8080/"
        },
        "outputId": "f95eeedb-b4ff-4fe8-8cff-76454463fc24"
      },
      "source": [
        "### EXACT GP EI GRADIENTS\n",
        "\n",
        "np.random.seed(run_num_16)\n",
        "surrogate_exact_16 = dGaussianProcess(cov_func, optimize=opt)\n",
        "\n",
        "exact_16 = dGPGO(surrogate_exact_16, Acquisition_new(util_grad_exact), objfunc, param)\n",
        "exact_16.run(init_evals=n_init, max_iter=iters)\n"
      ],
      "execution_count": null,
      "outputs": [
        {
          "output_type": "stream",
          "name": "stdout",
          "text": [
            "Evaluation \t Proposed point \t  Current eval. \t  Best eval. \t         Max AcqFunc.\n",
            "init\t [-5.53417842  0.46326683  1.01402913]\t -121.43529547027163\t -121.43529547027163\t    \n",
            "init\t [-9.087961   -2.78542329 -5.53838117]\t -13651.622350397936\t -121.43529547027163\t    \n",
            "init\t [ 3.77452324 -6.7253715  -8.59350266]\t -86575.28663542298\t -121.43529547027163\t    \n",
            "init\t [ 8.8202172   1.2736276  -8.44015321]\t -59934.59518842736\t -121.43529547027163\t    \n",
            "init\t [ 4.45281022 -6.83095653 -4.99437387]\t -25459.039011491368\t -121.43529547027163\t    \n",
            "1  \t [4.18505664 9.44091052 6.20078235]\t -74267.36337655598\t -121.43529547027163\t -121.43529546027163\n",
            "2  \t [ 5.46645324 -3.10791558  7.00820468]\t -31211.732976445848\t -121.43529547027163\t -121.43529546027163\n",
            "3  \t [-7.02365822  9.22395096  6.80716026]\t -83746.44219511922\t -121.43529547027163\t -121.43529546027163\n",
            "4  \t [-2.61755868 -8.2924165   4.84857415]\t -48472.3424987587\t -121.43529547027163\t -121.43529546027163\n",
            "5  \t [-3.40441603  9.0441433  -4.42822156]\t -58527.14818017682\t -121.43529547027163\t -121.43529546027163\n",
            "6  \t [-10. -10. -10.]\t -220621.0\t -121.43529547027163\t -121.43529546027057\n",
            "7  \t [-7.92323047 -1.59321032  9.84617866]\t -115063.9149436472\t -121.43529547027163\t -121.43529546027163\n",
            "8  \t [10.          3.73456645  1.17809052]\t -724.1462783614904\t -121.43529547027163\t -121.43529546027163\n",
            "9  \t [ 4.59095304  8.93102522 -9.48029099]\t -135562.14140581357\t -121.43529547027163\t -121.4352954602712\n",
            "10 \t [ 9.98852149 -7.93099291 -5.611128  ]\t -41986.637450421564\t -121.43529547027163\t -121.43529546027163\n",
            "11 \t [-9.64442768 -5.12694362  2.33258491]\t -8623.697730678545\t -121.43529547027163\t -121.43529545922097\n",
            "12 \t [1.2886578  2.86982673 2.08529491]\t -563.0042893522548\t -121.43529547027163\t -121.43529546007471\n",
            "13 \t [ 0.92740386  0.10886049 -7.53447757]\t -38599.265978728814\t -121.43529547027163\t -121.43529542901288\n",
            "14 \t [-9.22737901  7.91567599 -9.27617181]\t -117172.64391571193\t -121.43529547027163\t -121.43529545498127\n",
            "15 \t [10.          2.71555163 10.        ]\t -116889.55609113548\t -121.43529547027163\t -121.43529546000707\n",
            "16 \t [-9.88490632  5.27720661 -1.24368566]\t -8734.97456028971\t -121.43529547027163\t -121.43529545672241\n",
            "17 \t [ 3.52511737  8.2335536  -0.71355199]\t -35041.02352902659\t -121.43529547027163\t -121.43529460060228\n",
            "18 \t [ 6.16453531 -9.68598445  2.92485284]\t -68044.8839016422\t -121.43529547027163\t -121.4352954590938\n",
            "19 \t [-10.         -10.          -2.56756553]\t -89933.60283254096\t -121.43529547027163\t -121.43529517607905\n",
            "20 \t [-0.36968557 -2.88038903  0.15526187]\t -603.0906913218837\t -121.43529547027163\t -121.43529446268342\n",
            "\u001b[1m\u001b[92m21\u001b[0m\t \u001b[1m\u001b[92m[ 6.24011147 -1.74608082 -0.21863652]\u001b[0m\t \u001b[1m\u001b[92m-37.67479662822148\u001b[0m\t \u001b[1m\u001b[92m-37.67479662822148\u001b[0m\t \u001b[1m\u001b[92m-121.43529528444888\u001b[0m\n",
            "22 \t [ -1.7589456  -10.          -5.03687972]\t -92489.11351563135\t -37.67479662822148\t -37.67479618666413\n",
            "23 \t [-8.20260538 -9.47655742  9.8984399 ]\t -197242.39770505737\t -37.67479662822148\t -37.67479661057853\n",
            "24 \t [10. 10. 10.]\t -180581.0\t -37.67479662822148\t -37.67479538335848\n",
            "25 \t [-2.37358565  0.59541547  7.12451047]\t -30586.06582060264\t -37.67479662822148\t -37.674770025000605\n",
            "26 \t [-0.09513209 -5.0270513  10.        ]\t -131237.81204870957\t -37.67479662822148\t -37.67478029772732\n",
            "27 \t [ 4.7530772  -9.95685327  9.9506985 ]\t -204696.85342466284\t -37.67479662822148\t -37.67479365308313\n",
            "28 \t [10.         10.          3.33564736]\t -72731.41439662411\t -37.67479662822148\t -37.67475221810412\n",
            "29 \t [ -2.604823    -5.00088113 -10.        ]\t -131627.32245487784\t -37.67479662822148\t -37.67478691964042\n",
            "30 \t [-5.51807929  2.88209624 -6.18246187]\t -17256.84888090777\t -37.67479662822148\t -37.67478995565409\n"
          ]
        }
      ]
    },
    {
      "cell_type": "code",
      "metadata": {
        "id": "yU2SflSsJTUs",
        "colab": {
          "base_uri": "https://localhost:8080/"
        },
        "outputId": "f8fa8df8-35cf-4e9e-f9ef-6b71fa9dde69"
      },
      "source": [
        "### EXACT GP EI GRADIENTS\n",
        "\n",
        "np.random.seed(run_num_17)\n",
        "surrogate_exact_17 = dGaussianProcess(cov_func, optimize=opt)\n",
        "\n",
        "exact_17 = dGPGO(surrogate_exact_17, Acquisition_new(util_grad_exact), objfunc, param)\n",
        "exact_17.run(init_evals=n_init, max_iter=iters)\n"
      ],
      "execution_count": null,
      "outputs": [
        {
          "output_type": "stream",
          "name": "stdout",
          "text": [
            "Evaluation \t Proposed point \t  Current eval. \t  Best eval. \t         Max AcqFunc.\n",
            "init\t [-4.10669995  0.61173511 -6.16958426]\t -17181.1334683022\t -11774.913131399897\t    \n",
            "init\t [-8.64199284  5.7397092   3.12667044]\t -11774.913131399897\t -11774.913131399897\t    \n",
            "init\t [ 2.75041792  1.51205788 -9.21874168]\t -85144.34017448343\t -11774.913131399897\t    \n",
            "init\t [-2.84372791  8.91366374 -8.79910639]\t -116232.21251957516\t -11774.913131399897\t    \n",
            "init\t [ 7.28084207  7.54581052 -8.97612669]\t -93540.66819534874\t -11774.913131399897\t    \n",
            "1  \t [ 3.53524771 -7.6305547  -1.10007868]\t -25809.301647344466\t -11774.913131399897\t -11774.913131389896\n",
            "\u001b[1m\u001b[92m2\u001b[0m\t \u001b[1m\u001b[92m[9.06605384 1.70871417 1.66132937]\u001b[0m\t \u001b[1m\u001b[92m-129.46210636737467\u001b[0m\t \u001b[1m\u001b[92m-129.46210636737467\u001b[0m\t \u001b[1m\u001b[92m-11774.913131389896\u001b[0m\n",
            "3  \t [5.27601463 9.99566767 6.35850193]\t -90783.98305117982\t -129.46210636737467\t -129.46210635737467\n",
            "4  \t [-8.52512993 -8.03930931 -1.75006035]\t -38662.67579605237\t -129.46210636737467\t -129.46210635737467\n",
            "5  \t [-5.23795116  0.45408403  8.62047905]\t -65966.90843633469\t -129.46210636737467\t -129.46210635737467\n",
            "6  \t [0.77793961 2.17142302 2.23437955]\t -332.9224565238143\t -129.46210636737467\t -129.46210635737467\n",
            "7  \t [ 4.90212584  6.3243788  -3.46884476]\t -12237.537261458452\t -129.46210636737467\t -129.46210635737467\n",
            "8  \t [-10. -10. -10.]\t -220621.0\t -129.46210636737467\t -129.46210635737467\n",
            "9  \t [10.         10.          4.00389629]\t -73741.24465098602\t -129.46210636737467\t -129.46210635737467\n",
            "10 \t [-7.71239267 -7.38320543  5.5411325 ]\t -41527.23042901857\t -129.46210636737467\t -129.46210635737467\n",
            "11 \t [9.00876915 0.79791433 2.81059692]\t -858.903901979533\t -129.46210636737467\t -129.46210635737467\n",
            "12 \t [ 4.60823713 -3.69282708  7.93523625]\t -51451.34641288262\t -129.46210636737467\t -129.46210635737245\n",
            "13 \t [-1.67367007  7.98432202  0.89403745]\t -33500.53275081722\t -129.46210636737467\t -129.46210620178783\n",
            "14 \t [-9.68339094  4.15935608 -9.90703575]\t -114788.85760041163\t -129.46210636737467\t -129.46210635474935\n",
            "15 \t [7.45957559 3.57999522 0.48248828]\t -731.3518754081695\t -129.46210636737467\t -129.4866026044328\n",
            "16 \t [ 8.74316509 -7.99779727  3.8091057 ]\t -32581.366948613366\t -129.46210636737467\t -129.4621061717479\n",
            "17 \t [-1.55256616 -9.93104392 -7.69587118]\t -128499.72883516757\t -129.46210636737467\t -129.46210635737467\n",
            "18 \t [10.          5.36603707 10.        ]\t -118257.50877765367\t -129.46210636737467\t -129.46210632594244\n",
            "19 \t [-8.7210085   8.97733143  9.12135373]\t -132174.55165063293\t -129.46210636737467\t -129.46210586879099\n",
            "20 \t [-1.90765457 -2.62516216 -0.57111245]\t -533.070808360184\t -129.46210636737467\t -129.46210481596174\n",
            "21 \t [-9.08107827  9.62586846 -3.33139286]\t -76155.10685998733\t -129.46210636737467\t -129.46210635484874\n",
            "22 \t [ 9.34694853 -6.9947612  -8.12566132]\t -73739.07010854087\t -129.46210636737467\t -129.46210635737467\n",
            "23 \t [-9.11763542 -0.59345577  1.20514768]\t -332.0230808509563\t -129.46210636737467\t -129.46210473718676\n",
            "24 \t [ 0.57099201 -9.32821183  7.54875752]\t -105782.46582324436\t -129.46210636737467\t -129.46210548136813\n",
            "25 \t [ 8.69966523 -3.36892537 -1.80042151]\t -742.4486879406916\t -129.46210636737467\t -129.46210275040227\n",
            "26 \t [0.28225357 4.44377734 9.93321743]\t -114699.78688874176\t -129.46210636737467\t -129.46210518089552\n",
            "27 \t [-10.          -2.62251949  -7.31291082]\t -37272.85046959568\t -129.46210636737467\t -129.4621054710186\n",
            "28 \t [-1.42950864 -3.08135037  5.27712875]\t -11204.162162443281\t -129.46210636737467\t -129.46192003644845\n",
            "29 \t [ 7.16380869 -9.75940203  9.96358187]\t -197429.66923534952\t -129.46210636737467\t -129.46209821862035\n",
            "30 \t [ -2.41052027 -10.          -0.47666933]\t -82279.55423469857\t -129.46210636737467\t -129.46208307218805\n"
          ]
        }
      ]
    },
    {
      "cell_type": "code",
      "metadata": {
        "id": "es0KCh_0JTgY",
        "colab": {
          "base_uri": "https://localhost:8080/"
        },
        "outputId": "72480a5f-f805-4457-d1a1-bc0b0ce6b500"
      },
      "source": [
        "### EXACT GP EI GRADIENTS\n",
        "\n",
        "np.random.seed(run_num_18)\n",
        "surrogate_exact_18 = dGaussianProcess(cov_func, optimize=opt)\n",
        "\n",
        "exact_18 = dGPGO(surrogate_exact_18, Acquisition_new(util_grad_exact), objfunc, param)\n",
        "exact_18.run(init_evals=n_init, max_iter=iters)\n"
      ],
      "execution_count": null,
      "outputs": [
        {
          "output_type": "stream",
          "name": "stdout",
          "text": [
            "Evaluation \t Proposed point \t  Current eval. \t  Best eval. \t         Max AcqFunc.\n",
            "init\t [3.00748483 0.10906747 7.57202942]\t -39395.322047969305\t -27664.83628190573\t    \n",
            "init\t [-6.36319549  7.04466137  5.00272572]\t -27913.961335277138\t -27664.83628190573\t    \n",
            "init\t [ 3.32203335  9.75790897 -4.86063155]\t -74244.15287271979\t -27664.83628190573\t    \n",
            "init\t [-9.43388149  2.71438231  6.94624775]\t -27664.83628190573\t -27664.83628190573\t    \n",
            "init\t [ 4.7234925  -9.58385776 -7.76793739]\t -114986.86534587143\t -27664.83628190573\t    \n",
            "\u001b[1m\u001b[92m1\u001b[0m\t \u001b[1m\u001b[92m[-3.60627759 -4.12128051 -3.96163645]\u001b[0m\t \u001b[1m\u001b[92m-6628.123996844119\u001b[0m\t \u001b[1m\u001b[92m-6628.123996844119\u001b[0m\t \u001b[1m\u001b[92m-27664.83628189573\u001b[0m\n",
            "2  \t [ 6.31975365  3.18761398 -5.14286127]\t -7833.7930593098545\t -6628.123996844119\t -6628.123996834119\n",
            "\u001b[1m\u001b[92m3\u001b[0m\t \u001b[1m\u001b[92m[ 8.98418483 -5.51984113  1.59973658]\u001b[0m\t \u001b[1m\u001b[92m-5801.508998849156\u001b[0m\t \u001b[1m\u001b[92m-5801.508998849156\u001b[0m\t \u001b[1m\u001b[92m-6628.123996834119\u001b[0m\n",
            "4  \t [-9.82664426 -9.19265651  7.01964259]\t -98908.14619333696\t -5801.508998849156\t -5801.508998839156\n",
            "\u001b[1m\u001b[92m5\u001b[0m\t \u001b[1m\u001b[92m[-2.53775904  1.42536014 -1.62522138]\u001b[0m\t \u001b[1m\u001b[92m-144.3007399321474\u001b[0m\t \u001b[1m\u001b[92m-144.3007399321474\u001b[0m\t \u001b[1m\u001b[92m-5801.508998839156\u001b[0m\n",
            "6  \t [-8.41638891  3.62928904 -8.37899504]\t -58636.25217955298\t -144.3007399321474\t -144.3007399221474\n",
            "7  \t [4.76859313 6.53506599 3.93926051]\t -14822.442752768635\t -144.3007399321474\t -144.3007399221474\n",
            "8  \t [ 1.54007968 -2.49510305  7.62800693]\t -42627.25456372583\t -144.3007399321474\t -144.3007399221474\n",
            "9  \t [10. 10. 10.]\t -180581.0\t -144.3007399321474\t -144.30073992214716\n",
            "10 \t [-4.42938446 -8.65355488 -8.78731373]\t -127375.58182820777\t -144.3007399321474\t -144.30073920440753\n",
            "11 \t [ 1.25118837 -9.83776577  5.34103365]\t -87391.17353637467\t -144.3007399321474\t -144.30073991922941\n",
            "12 \t [-4.74409325  9.6660462  -2.60459944]\t -73506.67877916363\t -144.3007399321474\t -144.30073992209287\n",
            "13 \t [ 0.71612401  0.72479636 -9.68187435]\t -104629.88885686785\t -144.3007399321474\t -144.30073992118454\n",
            "14 \t [ 9.33780762  0.23703752 10.        ]\t -119955.45983688252\t -144.3007399321474\t -144.30073789753322\n",
            "15 \t [-9.93581462 -8.88515324 -1.9323835 ]\t -57254.17065227144\t -144.3007399321474\t -144.30073992213622\n",
            "16 \t [ 1.83165761 -4.11530784  0.49448287]\t -2117.396542490266\t -144.3007399321474\t -144.30073978475318\n",
            "17 \t [-2.7506871 10.        10.       ]\t -190529.74989484512\t -144.3007399321474\t -144.30073894121443\n",
            "18 \t [-9.59122428 -3.54723192 -7.67205202]\t -46646.04361564576\t -144.3007399321474\t -144.300739675944\n",
            "19 \t [10.          6.92465073 -0.6736196 ]\t -14947.77868706012\t -144.3007399321474\t -144.3007395429862\n",
            "20 \t [-9.40976734  1.33388274 -0.32154215]\t -448.525551696626\t -144.3007399321474\t -144.30073990234624\n",
            "21 \t [-4.40289705 -2.15333466  4.06636932]\t -4125.491780584879\t -144.3007399321474\t -144.30073916075244\n",
            "22 \t [-1.26487829  7.92673716 -9.73950388]\t -131370.05799776217\t -144.3007399321474\t -144.3007386115393\n",
            "23 \t [ 8.01953068 -8.77430718  9.51901144]\t -150953.51024425408\t -144.3007399321474\t -144.30073992169335\n",
            "24 \t [ 9.7862928  -5.10539751 -6.58967746]\t -29029.321709477328\t -144.3007399321474\t -144.30073647856153\n",
            "25 \t [ 0.36003587 -3.18694237 -7.02536117]\t -31946.483269497032\t -144.3007399321474\t -144.3007399221474\n",
            "26 \t [ 1.395525   -9.90925237 -1.96800656]\t -76978.30225563253\t -144.3007399321474\t -144.3007267897995\n",
            "27 \t [-4.40810341 -8.35710602  1.83253371]\t -42235.04627653499\t -144.3007399321474\t -144.3007304661813\n",
            "28 \t [-4.57197013 -5.97114446  9.71063395]\t -125112.34320347151\t -144.3007399321474\t -144.30073225567904\n",
            "29 \t [-2.61950066  3.07028642  8.49211789]\t -60715.26502982034\t -144.3007399321474\t -144.30070601094977\n",
            "30 \t [  9.05658045 -10.          -2.55490303]\t -74578.29466326586\t -144.3007399321474\t -144.300691377625\n"
          ]
        }
      ]
    },
    {
      "cell_type": "code",
      "metadata": {
        "id": "Pput2LHPIwBM",
        "colab": {
          "base_uri": "https://localhost:8080/"
        },
        "outputId": "095a1faf-4923-4d7f-deef-a73b4d10e975"
      },
      "source": [
        "### EXACT GP EI GRADIENTS\n",
        "\n",
        "np.random.seed(run_num_19)\n",
        "surrogate_exact_19 = dGaussianProcess(cov_func, optimize=opt)\n",
        "\n",
        "exact_19 = dGPGO(surrogate_exact_19, Acquisition_new(util_grad_exact), objfunc, param)\n",
        "exact_19.run(init_evals=n_init, max_iter=iters)\n"
      ],
      "execution_count": null,
      "outputs": [
        {
          "output_type": "stream",
          "name": "stdout",
          "text": [
            "Evaluation \t Proposed point \t  Current eval. \t  Best eval. \t         Max AcqFunc.\n",
            "init\t [-8.04932797  5.22499433 -5.06124054]\t -14282.07020620917\t -7826.389573301183\t    \n",
            "init\t [-7.23736625 -3.37106873 -8.3400087 ]\t -62767.56440733103\t -7826.389573301183\t    \n",
            "init\t [3.43954163 6.13187596 9.65483829]\t -107829.21541670273\t -7826.389573301183\t    \n",
            "init\t [ 2.7132147  -5.68153488  0.98054864]\t -7826.389573301183\t -7826.389573301183\t    \n",
            "init\t [ 0.91119916 -5.31847854 -7.72548314]\t -52835.14449570301\t -7826.389573301183\t    \n",
            "\u001b[1m\u001b[92m1\u001b[0m\t \u001b[1m\u001b[92m[-8.70426449  3.79716958  1.04335667]\u001b[0m\t \u001b[1m\u001b[92m-2920.737921781948\u001b[0m\t \u001b[1m\u001b[92m-2920.737921781948\u001b[0m\t \u001b[1m\u001b[92m-7826.389573291183\u001b[0m\n",
            "2  \t [-1.18844208 10.         -1.49737071]\t -81049.63862452263\t -2920.737921781948\t -2920.737921771948\n",
            "3  \t [-5.92264612  1.94070459  8.81541711]\t -71080.60419246902\t -2920.737921781948\t -2920.737921771948\n",
            "4  \t [ 9.93826046 -7.57727549 -3.12538868]\t -24289.940560273273\t -2920.737921781948\t -2920.737921771948\n",
            "5  \t [-10. -10. -10.]\t -220621.0\t -2920.737921781948\t -2920.737921771948\n",
            "6  \t [ 5.5876491   5.45071419 -7.23538285]\t -35369.18659529574\t -2920.737921781948\t -2920.737921771948\n",
            "7  \t [8.88477717 1.65383617 9.09628062]\t -80607.08552314134\t -2920.737921781948\t -2920.737921771948\n",
            "8  \t [-4.33569363 -9.82182427  7.20143244]\t -116537.17295098345\t -2920.737921781948\t -2920.737921771948\n",
            "9  \t [-0.88364342 -0.53896298  9.12024958]\t -83571.53151095378\t -2920.737921781948\t -2920.737921771948\n",
            "10 \t [10.         10.          2.58194884]\t -72314.32506013589\t -2920.737921781948\t -2920.737921771948\n",
            "\u001b[1m\u001b[92m11\u001b[0m\t \u001b[1m\u001b[92m[-0.82658611  0.86505746 -3.68328665]\u001b[0m\t \u001b[1m\u001b[92m-2084.1773688952567\u001b[0m\t \u001b[1m\u001b[92m-2084.1773688952567\u001b[0m\t \u001b[1m\u001b[92m-2920.737921771948\u001b[0m\n",
            "12 \t [ 0.19609949  8.62619954 -7.40348118]\t -74781.44337676886\t -2084.1773688952567\t -2084.177368885257\n",
            "13 \t [ 5.37962789 -8.31122805  7.26429876]\t -74163.08642459512\t -2084.1773688952567\t -2084.177368885255\n",
            "14 \t [-5.17468477 -2.83011413  6.02324483]\t -17987.015019169336\t -2084.1773688952567\t -2084.177368885257\n",
            "15 \t [-9.23916429  8.80776456  8.82894539]\t -119063.55805980199\t -2084.1773688952567\t -2084.177368885255\n",
            "16 \t [ 9.02147784  2.6853713  -8.65516215]\t -65071.71602536134\t -2084.1773688952567\t -2084.177368885257\n",
            "17 \t [-5.08300326 -1.1010475  -5.07909516]\t -8480.166872631129\t -2084.1773688952567\t -2084.177368885257\n",
            "18 \t [1.9799272  3.81156677 6.02897636]\t -15702.85164015473\t -2084.1773688952567\t -2084.177368885257\n",
            "19 \t [10. 10. 10.]\t -180581.0\t -2084.1773688952567\t -2084.177368885257\n",
            "20 \t [-9.52659058 -6.46192639  9.88038108]\t -139479.20815061373\t -2084.1773688952567\t -2084.177368885257\n",
            "21 \t [-10.          -3.86658947   0.45097007]\t -3359.968340325222\t -2084.1773688952567\t -2084.177368876685\n",
            "22 \t [-4.2567413  -6.88179783 -0.66023865]\t -19800.100294044732\t -2084.1773688952567\t -2084.177368200033\n",
            "\u001b[1m\u001b[92m23\u001b[0m\t \u001b[1m\u001b[92m[ 8.80932965 -1.45719606  0.16005229]\u001b[0m\t \u001b[1m\u001b[92m-109.44431912515836\u001b[0m\t \u001b[1m\u001b[92m-109.44431912515836\u001b[0m\t \u001b[1m\u001b[92m-2084.1773686680895\u001b[0m\n",
            "24 \t [ 4.11153107  3.95099527 -0.62195512]\t -1509.7851086963126\t -109.44431912515836\t -109.44431788448992\n",
            "25 \t [ 9.46074003 -6.4828191  -9.6851263 ]\t -124208.17394840925\t -109.44431912515836\t -109.44431641807216\n",
            "26 \t [-10.         -10.          -3.00941608]\t -90692.0510320911\t -109.44431912515836\t -109.4443160551042\n",
            "27 \t [-3.74867429  6.84252222  4.09479089]\t -21129.148677451216\t -109.44431912515836\t -109.44431555403646\n",
            "28 \t [-2.00960906 10.          9.47359254]\t -167813.4479702419\t -109.44431912515836\t -109.44430003505026\n",
            "29 \t [10.          3.87428778  0.0737638 ]\t -927.3954548073083\t -109.44431912515836\t -109.44427254578565\n",
            "30 \t [ 6.30552101 -2.61863315 -4.80518939]\t -7281.762919076578\t -109.44431912515836\t -109.44428855751882\n"
          ]
        }
      ]
    },
    {
      "cell_type": "code",
      "metadata": {
        "id": "aw3xvSryIwDi",
        "colab": {
          "base_uri": "https://localhost:8080/"
        },
        "outputId": "d9681796-3da9-4b82-d11c-2e6f13235548"
      },
      "source": [
        "### EXACT GP EI GRADIENTS\n",
        "\n",
        "np.random.seed(run_num_20)\n",
        "surrogate_exact_20 = dGaussianProcess(cov_func, optimize=opt)\n",
        "\n",
        "exact_20 = dGPGO(surrogate_exact_20, Acquisition_new(util_grad_exact), objfunc, param)\n",
        "exact_20.run(init_evals=n_init, max_iter=iters)\n"
      ],
      "execution_count": null,
      "outputs": [
        {
          "output_type": "stream",
          "name": "stdout",
          "text": [
            "Evaluation \t Proposed point \t  Current eval. \t  Best eval. \t         Max AcqFunc.\n",
            "init\t [1.76261602 7.95427456 7.83061459]\t -70596.27231718504\t -1177.4786310520467\t    \n",
            "init\t [ 6.31674955 -9.28220829  3.83515164]\t -59634.45116383437\t -1177.4786310520467\t    \n",
            "init\t [-2.42638116  0.37021891  3.15902931]\t -1177.4786310520467\t -1177.4786310520467\t    \n",
            "init\t [-6.12299564 -4.55367196  4.37211867]\t -10072.821243906226\t -1177.4786310520467\t    \n",
            "init\t [5.66007219 7.0065528  5.50489788]\t -25762.190938183892\t -1177.4786310520467\t    \n",
            "1  \t [ 3.58822235  3.01571828 -4.62409523]\t -5172.971057172382\t -1177.4786310520467\t -1177.4786310420468\n",
            "2  \t [ 6.90281047 -9.84449703 -8.45927451]\t -140110.25172511325\t -1177.4786310520467\t -1177.4786310420468\n",
            "3  \t [-2.02505955 -3.84087805 -8.90073734]\t -81008.7373034749\t -1177.4786310520467\t -1177.4786310420468\n",
            "4  \t [-9.03422809  7.69291444  7.37966897]\t -63300.39318700283\t -1177.4786310520467\t -1177.4786310420468\n",
            "5  \t [-10. -10. -10.]\t -220621.0\t -1177.4786310520467\t -1177.4786310420468\n",
            "6  \t [-8.96692498  0.65903364 -5.06394035]\t -7982.384674451145\t -1177.4786310520467\t -1177.4786310420468\n",
            "7  \t [ 3.4937907  -2.5103687   9.37110948]\t -95379.93666021542\t -1177.4786310520467\t -1177.4786310420468\n",
            "8  \t [-2.46871542  9.76065736 -3.02050331]\t -74733.47554640117\t -1177.4786310520467\t -1177.4786310420468\n",
            "9  \t [ 9.64468651  7.21321542 -9.95696397]\t -127425.73651668694\t -1177.4786310520467\t -1177.4786310420468\n",
            "10 \t [-10.         -10.          -3.56134325]\t -92073.3322078005\t -1177.4786310520467\t -1177.4786310420468\n",
            "11 \t [-0.79453519 -8.2563778  -0.17104248]\t -37819.952258434205\t -1177.4786310520467\t -1177.478631041867\n",
            "12 \t [10. 10. 10.]\t -180581.0\t -1177.4786310520467\t -1177.4786310420468\n",
            "13 \t [ 9.4419694   7.15524984 -1.88058726]\t -17351.893427855535\t -1177.4786310520467\t -1177.4786310411919\n",
            "\u001b[1m\u001b[92m14\u001b[0m\t \u001b[1m\u001b[92m[ 9.24622151 -3.35477385 -2.10855021]\u001b[0m\t \u001b[1m\u001b[92m-869.7516226289016\u001b[0m\t \u001b[1m\u001b[92m-869.7516226289016\u001b[0m\t \u001b[1m\u001b[92m-1177.4786310420466\u001b[0m\n",
            "15 \t [-1.54047293 -8.88795142  7.50630175]\t -95250.22764261646\t -869.7516226289016\t -869.7516225319334\n",
            "16 \t [ 8.71567352 -9.23552071 -1.77855208]\t -53192.45226100789\t -869.7516226289016\t -869.7516226189016\n",
            "17 \t [-10.           4.89473396   1.2143509 ]\t -6841.0751493874\t -869.7516226289016\t -869.7516204121005\n",
            "18 \t [-7.79686959  9.40311462 -9.27805181]\t -147730.60879192402\t -869.7516226289016\t -869.7516226188262\n",
            "\u001b[1m\u001b[92m19\u001b[0m\t \u001b[1m\u001b[92m[-5.98874362  1.87146413 -1.32911401]\u001b[0m\t \u001b[1m\u001b[92m-394.78758403146605\u001b[0m\t \u001b[1m\u001b[92m-394.78758403146605\u001b[0m\t \u001b[1m\u001b[92m-869.7516226189016\u001b[0m\n",
            "20 \t [ 5.0384978  -3.33278645 -7.98815018]\t -52053.1197500042\t -394.78758403146605\t -394.7875768317797\n",
            "21 \t [-1.16375899 -2.00287813 -2.54329865]\t -843.052679842587\t -394.78758403146605\t -394.7875701195339\n",
            "22 \t [-2.80192225  4.03790172 -7.18787792]\t -32099.828090458763\t -394.78758403146605\t -394.78758345053876\n",
            "23 \t [-5.04804204  2.40957639  9.89761502]\t -112937.01528269825\t -394.78758403146605\t -394.78758361199453\n",
            "24 \t [-3.48610175  6.69624156  3.46347427]\t -18277.06798005576\t -394.78758403146605\t -394.7875801137038\n",
            "25 \t [ 4.6988903   8.4836705  -4.89698974]\t -43468.20654200078\t -394.78758403146605\t -394.787584021466\n",
            "26 \t [10.         -0.78538337 10.        ]\t -121179.00816564799\t -394.78758403146605\t -394.7875783408008\n",
            "27 \t [-2.40818295  8.39287191 -9.70420994]\t -138221.52245434682\t -394.78758403146605\t -394.78758402146605\n",
            "28 \t [ 3.7519994  -3.31013912  1.39053251]\t -821.8340055746916\t -394.78758403146605\t -394.7875814203421\n",
            "29 \t [5.99672914 0.86164285 4.82101991]\t -6310.007271783876\t -394.78758403146605\t -394.7872745134308\n",
            "30 \t [-0.19773324 -9.57144904 -7.35303477]\t -108853.32138193467\t -394.78758403146605\t -394.78758402130177\n"
          ]
        }
      ]
    },
    {
      "cell_type": "code",
      "metadata": {
        "id": "qNqAB3vBTPqb",
        "colab": {
          "base_uri": "https://localhost:8080/"
        },
        "outputId": "df19d541-9044-492c-88ff-b401861cb5f9"
      },
      "source": [
        "end_exact = time.time()\n",
        "end_exact\n",
        "\n",
        "time_exact = end_exact - start_exact\n",
        "time_exact"
      ],
      "execution_count": null,
      "outputs": [
        {
          "output_type": "execute_result",
          "data": {
            "text/plain": [
              "1090.6317901611328"
            ]
          },
          "metadata": {},
          "execution_count": 54
        }
      ]
    },
    {
      "cell_type": "code",
      "metadata": {
        "id": "JPQzjdBZQxfg",
        "colab": {
          "base_uri": "https://localhost:8080/"
        },
        "outputId": "c63460c2-c2c8-4b69-89bb-ea4c97dd79e2"
      },
      "source": [
        "### Simple regret minimization: run number = 1\n",
        "\n",
        "approx_output_1 = np.append(np.min(approx_1.GP.y[0:n_init]),approx_1.GP.y[n_init:(n_init+iters)]) \n",
        "exact_output_1 = np.append(np.min(exact_1.GP.y[0:n_init]),exact_1.GP.y[n_init:(n_init+iters)]) \n",
        "\n",
        "regret_approx_1 = np.log(-approx_output_1 + y_global_orig)\n",
        "regret_exact_1 = np.log(-exact_output_1 + y_global_orig)\n",
        "\n",
        "simple_regret_approx_1 = min_max_array(regret_approx_1)\n",
        "simple_regret_exact_1 = min_max_array(regret_exact_1)\n",
        "\n",
        "min_simple_regret_approx_1 = min(simple_regret_approx_1)\n",
        "min_simple_regret_exact_1 = min(simple_regret_exact_1)\n",
        "\n",
        "min_simple_regret_approx_1, min_simple_regret_exact_1"
      ],
      "execution_count": null,
      "outputs": [
        {
          "output_type": "execute_result",
          "data": {
            "text/plain": [
              "(7.015501349667463, 4.853880891722066)"
            ]
          },
          "metadata": {},
          "execution_count": 55
        }
      ]
    },
    {
      "cell_type": "code",
      "metadata": {
        "id": "94yBw5tqQxfk",
        "colab": {
          "base_uri": "https://localhost:8080/"
        },
        "outputId": "a2c27cd0-6587-415d-c4a8-bb61652b1136"
      },
      "source": [
        "### Simple regret minimization: run number = 2\n",
        "\n",
        "approx_output_2 = np.append(np.min(approx_2.GP.y[0:n_init]),approx_2.GP.y[n_init:(n_init+iters)]) \n",
        "exact_output_2 = np.append(np.min(exact_2.GP.y[0:n_init]),exact_2.GP.y[n_init:(n_init+iters)]) \n",
        "\n",
        "regret_approx_2 = np.log(-approx_output_2 + y_global_orig)\n",
        "regret_exact_2 = np.log(-exact_output_2 + y_global_orig)\n",
        "\n",
        "simple_regret_approx_2 = min_max_array(regret_approx_2)\n",
        "simple_regret_exact_2 = min_max_array(regret_exact_2)\n",
        "\n",
        "min_simple_regret_approx_2 = min(simple_regret_approx_2)\n",
        "min_simple_regret_exact_2 = min(simple_regret_exact_2)\n",
        "\n",
        "min_simple_regret_approx_2, min_simple_regret_exact_2"
      ],
      "execution_count": null,
      "outputs": [
        {
          "output_type": "execute_result",
          "data": {
            "text/plain": [
              "(6.119092905133126, 6.119109827716057)"
            ]
          },
          "metadata": {},
          "execution_count": 56
        }
      ]
    },
    {
      "cell_type": "code",
      "metadata": {
        "id": "Bu6SBWALQxfl",
        "colab": {
          "base_uri": "https://localhost:8080/"
        },
        "outputId": "9b7f4721-dab1-49f1-ca3f-f09cf0f67d44"
      },
      "source": [
        "### Simple regret minimization: run number = 3\n",
        "\n",
        "approx_output_3 = np.append(np.min(approx_3.GP.y[0:n_init]),approx_3.GP.y[n_init:(n_init+iters)]) \n",
        "exact_output_3 = np.append(np.min(exact_3.GP.y[0:n_init]),exact_3.GP.y[n_init:(n_init+iters)]) \n",
        "\n",
        "regret_approx_3 = np.log(-approx_output_3 + y_global_orig)\n",
        "regret_exact_3 = np.log(-exact_output_3 + y_global_orig)\n",
        "\n",
        "simple_regret_approx_3 = min_max_array(regret_approx_3)\n",
        "simple_regret_exact_3 = min_max_array(regret_exact_3)\n",
        "\n",
        "min_simple_regret_approx_3 = min(simple_regret_approx_3)\n",
        "min_simple_regret_exact_3 = min(simple_regret_exact_3)\n",
        "\n",
        "min_simple_regret_approx_3, min_simple_regret_exact_3"
      ],
      "execution_count": null,
      "outputs": [
        {
          "output_type": "execute_result",
          "data": {
            "text/plain": [
              "(3.9371105202956573, 5.14486433036554)"
            ]
          },
          "metadata": {},
          "execution_count": 57
        }
      ]
    },
    {
      "cell_type": "code",
      "metadata": {
        "id": "AZm0jgxkQxfm",
        "colab": {
          "base_uri": "https://localhost:8080/"
        },
        "outputId": "2ad2f456-7687-433d-c0f1-62347ad894a4"
      },
      "source": [
        "### Simple regret minimization: run number = 4\n",
        "\n",
        "approx_output_4 = np.append(np.min(approx_4.GP.y[0:n_init]),approx_4.GP.y[n_init:(n_init+iters)]) \n",
        "exact_output_4 = np.append(np.min(exact_4.GP.y[0:n_init]),exact_4.GP.y[n_init:(n_init+iters)]) \n",
        "\n",
        "regret_approx_4 = np.log(-approx_output_4 + y_global_orig)\n",
        "regret_exact_4 = np.log(-exact_output_4 + y_global_orig)\n",
        "\n",
        "simple_regret_approx_4 = min_max_array(regret_approx_4)\n",
        "simple_regret_exact_4 = min_max_array(regret_exact_4)\n",
        "\n",
        "min_simple_regret_approx_4 = min(simple_regret_approx_4)\n",
        "min_simple_regret_exact_4 = min(simple_regret_exact_4)\n",
        "\n",
        "min_simple_regret_approx_4, min_simple_regret_exact_4"
      ],
      "execution_count": null,
      "outputs": [
        {
          "output_type": "execute_result",
          "data": {
            "text/plain": [
              "(5.6987629577201036, 4.643035953964961)"
            ]
          },
          "metadata": {},
          "execution_count": 58
        }
      ]
    },
    {
      "cell_type": "code",
      "metadata": {
        "id": "NONPm8JIQxfn",
        "colab": {
          "base_uri": "https://localhost:8080/"
        },
        "outputId": "2a1639f6-11c3-497b-da8c-a0ba3f568a89"
      },
      "source": [
        "### Simple regret minimization: run number = 5\n",
        "\n",
        "approx_output_5 = np.append(np.min(approx_5.GP.y[0:n_init]),approx_5.GP.y[n_init:(n_init+iters)]) \n",
        "exact_output_5 = np.append(np.min(exact_5.GP.y[0:n_init]),exact_5.GP.y[n_init:(n_init+iters)]) \n",
        "\n",
        "regret_approx_5 = np.log(-approx_output_5 + y_global_orig)\n",
        "regret_exact_5 = np.log(-exact_output_5 + y_global_orig)\n",
        "\n",
        "simple_regret_approx_5 = min_max_array(regret_approx_5)\n",
        "simple_regret_exact_5 = min_max_array(regret_exact_5)\n",
        "\n",
        "min_simple_regret_approx_5 = min(simple_regret_approx_5)\n",
        "min_simple_regret_exact_5 = min(simple_regret_exact_5)\n",
        "\n",
        "min_simple_regret_approx_5, min_simple_regret_exact_5"
      ],
      "execution_count": null,
      "outputs": [
        {
          "output_type": "execute_result",
          "data": {
            "text/plain": [
              "(4.062104975359321, 4.136617293629422)"
            ]
          },
          "metadata": {},
          "execution_count": 59
        }
      ]
    },
    {
      "cell_type": "code",
      "metadata": {
        "id": "CJv3lPuSQxfp",
        "colab": {
          "base_uri": "https://localhost:8080/"
        },
        "outputId": "fc27c5b4-4f4b-47f7-b25e-07e8637e4a40"
      },
      "source": [
        "### Simple regret minimization: run number = 6\n",
        "\n",
        "approx_output_6 = np.append(np.min(approx_6.GP.y[0:n_init]),approx_6.GP.y[n_init:(n_init+iters)]) \n",
        "exact_output_6 = np.append(np.min(exact_6.GP.y[0:n_init]),exact_6.GP.y[n_init:(n_init+iters)]) \n",
        "\n",
        "regret_approx_6 = np.log(-approx_output_6 + y_global_orig)\n",
        "regret_exact_6 = np.log(-exact_output_6 + y_global_orig)\n",
        "\n",
        "simple_regret_approx_6 = min_max_array(regret_approx_6)\n",
        "simple_regret_exact_6 = min_max_array(regret_exact_6)\n",
        "\n",
        "min_simple_regret_approx_6 = min(simple_regret_approx_6)\n",
        "min_simple_regret_exact_6 = min(simple_regret_exact_6)\n",
        "\n",
        "min_simple_regret_approx_6, min_simple_regret_exact_6"
      ],
      "execution_count": null,
      "outputs": [
        {
          "output_type": "execute_result",
          "data": {
            "text/plain": [
              "(4.753327144673412, 6.099984916210411)"
            ]
          },
          "metadata": {},
          "execution_count": 60
        }
      ]
    },
    {
      "cell_type": "code",
      "metadata": {
        "id": "quR2ZyApQxfq",
        "colab": {
          "base_uri": "https://localhost:8080/"
        },
        "outputId": "3894f9fa-6630-4487-faff-e87e7fd1f4e9"
      },
      "source": [
        "### Simple regret minimization: run number = 7\n",
        "\n",
        "approx_output_7 = np.append(np.min(approx_7.GP.y[0:n_init]),approx_7.GP.y[n_init:(n_init+iters)]) \n",
        "exact_output_7 = np.append(np.min(exact_7.GP.y[0:n_init]),exact_7.GP.y[n_init:(n_init+iters)]) \n",
        "\n",
        "regret_approx_7 = np.log(-approx_output_7 + y_global_orig)\n",
        "regret_exact_7 = np.log(-exact_output_7 + y_global_orig)\n",
        "\n",
        "simple_regret_approx_7 = min_max_array(regret_approx_7)\n",
        "simple_regret_exact_7 = min_max_array(regret_exact_7)\n",
        "\n",
        "min_simple_regret_approx_7 = min(simple_regret_approx_7)\n",
        "min_simple_regret_exact_7 = min(simple_regret_exact_7)\n",
        "\n",
        "min_simple_regret_approx_7, min_simple_regret_exact_7"
      ],
      "execution_count": null,
      "outputs": [
        {
          "output_type": "execute_result",
          "data": {
            "text/plain": [
              "(4.965357479842991, 6.3411710845973515)"
            ]
          },
          "metadata": {},
          "execution_count": 61
        }
      ]
    },
    {
      "cell_type": "code",
      "metadata": {
        "id": "99wY5nK6Qxfr",
        "colab": {
          "base_uri": "https://localhost:8080/"
        },
        "outputId": "abd48f3f-d3c6-47a1-a5a2-40be18d38a97"
      },
      "source": [
        "### Simple regret minimization: run number = 8\n",
        "\n",
        "approx_output_8 = np.append(np.min(approx_8.GP.y[0:n_init]),approx_8.GP.y[n_init:(n_init+iters)]) \n",
        "exact_output_8 = np.append(np.min(exact_8.GP.y[0:n_init]),exact_8.GP.y[n_init:(n_init+iters)]) \n",
        "\n",
        "regret_approx_8 = np.log(-approx_output_8 + y_global_orig)\n",
        "regret_exact_8 = np.log(-exact_output_8 + y_global_orig)\n",
        "\n",
        "simple_regret_approx_8 = min_max_array(regret_approx_8)\n",
        "simple_regret_exact_8 = min_max_array(regret_exact_8)\n",
        "\n",
        "min_simple_regret_approx_8 = min(simple_regret_approx_8)\n",
        "min_simple_regret_exact_8 = min(simple_regret_exact_8)\n",
        "\n",
        "min_simple_regret_approx_8, min_simple_regret_exact_8"
      ],
      "execution_count": null,
      "outputs": [
        {
          "output_type": "execute_result",
          "data": {
            "text/plain": [
              "(6.19011393145406, 4.4680014582106695)"
            ]
          },
          "metadata": {},
          "execution_count": 62
        }
      ]
    },
    {
      "cell_type": "code",
      "metadata": {
        "id": "qt0P5t9qQxfs",
        "colab": {
          "base_uri": "https://localhost:8080/"
        },
        "outputId": "7d88e73d-5e9b-48bc-c2cf-7469472cf81a"
      },
      "source": [
        "### Simple regret minimization: run number = 9\n",
        "\n",
        "approx_output_9 = np.append(np.min(approx_9.GP.y[0:n_init]),approx_9.GP.y[n_init:(n_init+iters)]) \n",
        "exact_output_9 = np.append(np.min(exact_9.GP.y[0:n_init]),exact_9.GP.y[n_init:(n_init+iters)]) \n",
        "\n",
        "regret_approx_9 = np.log(-approx_output_9 + y_global_orig)\n",
        "regret_exact_9 = np.log(-exact_output_9 + y_global_orig)\n",
        "\n",
        "simple_regret_approx_9 = min_max_array(regret_approx_9)\n",
        "simple_regret_exact_9 = min_max_array(regret_exact_9)\n",
        "\n",
        "min_simple_regret_approx_9 = min(simple_regret_approx_9)\n",
        "min_simple_regret_exact_9 = min(simple_regret_exact_9)\n",
        "\n",
        "min_simple_regret_approx_9, min_simple_regret_exact_9"
      ],
      "execution_count": null,
      "outputs": [
        {
          "output_type": "execute_result",
          "data": {
            "text/plain": [
              "(5.408775240525815, 5.687978699488407)"
            ]
          },
          "metadata": {},
          "execution_count": 63
        }
      ]
    },
    {
      "cell_type": "code",
      "metadata": {
        "id": "vx8to9stQxft",
        "colab": {
          "base_uri": "https://localhost:8080/"
        },
        "outputId": "710fd95a-ceb6-4de7-8a26-9591ec36981c"
      },
      "source": [
        "### Simple regret minimization: run number = 10\n",
        "\n",
        "approx_output_10 = np.append(np.min(approx_10.GP.y[0:n_init]),approx_10.GP.y[n_init:(n_init+iters)]) \n",
        "exact_output_10 = np.append(np.min(exact_10.GP.y[0:n_init]),exact_10.GP.y[n_init:(n_init+iters)]) \n",
        "\n",
        "regret_approx_10 = np.log(-approx_output_10 + y_global_orig)\n",
        "regret_exact_10 = np.log(-exact_output_10 + y_global_orig)\n",
        "\n",
        "simple_regret_approx_10 = min_max_array(regret_approx_10)\n",
        "simple_regret_exact_10 = min_max_array(regret_exact_10)\n",
        "\n",
        "min_simple_regret_approx_10 = min(simple_regret_approx_10)\n",
        "min_simple_regret_exact_10 = min(simple_regret_exact_10)\n",
        "\n",
        "min_simple_regret_approx_10, min_simple_regret_exact_10"
      ],
      "execution_count": null,
      "outputs": [
        {
          "output_type": "execute_result",
          "data": {
            "text/plain": [
              "(6.675390209039453, 4.332397819362917)"
            ]
          },
          "metadata": {},
          "execution_count": 64
        }
      ]
    },
    {
      "cell_type": "code",
      "metadata": {
        "id": "d-FGzWyHQxfu",
        "colab": {
          "base_uri": "https://localhost:8080/"
        },
        "outputId": "7d180860-e092-4216-909d-0de9ccef9b39"
      },
      "source": [
        "### Simple regret minimization: run number = 11\n",
        "\n",
        "approx_output_11 = np.append(np.min(approx_11.GP.y[0:n_init]),approx_11.GP.y[n_init:(n_init+iters)]) \n",
        "exact_output_11 = np.append(np.min(exact_11.GP.y[0:n_init]),exact_11.GP.y[n_init:(n_init+iters)]) \n",
        "\n",
        "regret_approx_11 = np.log(-approx_output_11 + y_global_orig)\n",
        "regret_exact_11 = np.log(-exact_output_11 + y_global_orig)\n",
        "\n",
        "simple_regret_approx_11 = min_max_array(regret_approx_11)\n",
        "simple_regret_exact_11 = min_max_array(regret_exact_11)\n",
        "\n",
        "min_simple_regret_approx_11 = min(simple_regret_approx_11)\n",
        "min_simple_regret_exact_11 = min(simple_regret_exact_11)\n",
        "\n",
        "min_simple_regret_approx_11, min_simple_regret_exact_11"
      ],
      "execution_count": null,
      "outputs": [
        {
          "output_type": "execute_result",
          "data": {
            "text/plain": [
              "(5.083331686016828, 4.441731236634144)"
            ]
          },
          "metadata": {},
          "execution_count": 65
        }
      ]
    },
    {
      "cell_type": "code",
      "metadata": {
        "id": "SvtsssyjQxfv",
        "colab": {
          "base_uri": "https://localhost:8080/"
        },
        "outputId": "d5904e93-bd81-467f-f394-a7a3a8d26418"
      },
      "source": [
        "### Simple regret minimization: run number = 12\n",
        "\n",
        "approx_output_12 = np.append(np.min(approx_12.GP.y[0:n_init]),approx_12.GP.y[n_init:(n_init+iters)]) \n",
        "exact_output_12 = np.append(np.min(exact_12.GP.y[0:n_init]),exact_12.GP.y[n_init:(n_init+iters)]) \n",
        "\n",
        "regret_approx_12 = np.log(-approx_output_12 + y_global_orig)\n",
        "regret_exact_12 = np.log(-exact_output_12 + y_global_orig)\n",
        "\n",
        "simple_regret_approx_12 = min_max_array(regret_approx_12)\n",
        "simple_regret_exact_12 = min_max_array(regret_exact_12)\n",
        "\n",
        "min_simple_regret_approx_12 = min(simple_regret_approx_12)\n",
        "min_simple_regret_exact_12 = min(simple_regret_exact_12)\n",
        "\n",
        "min_simple_regret_approx_12, min_simple_regret_exact_12"
      ],
      "execution_count": null,
      "outputs": [
        {
          "output_type": "execute_result",
          "data": {
            "text/plain": [
              "(6.078830640366413, 3.3767700051987184)"
            ]
          },
          "metadata": {},
          "execution_count": 66
        }
      ]
    },
    {
      "cell_type": "code",
      "metadata": {
        "id": "K6OiGcHkQxfw",
        "colab": {
          "base_uri": "https://localhost:8080/"
        },
        "outputId": "841de41c-7416-4650-d44d-fccbfc5a5add"
      },
      "source": [
        "### Simple regret minimization: run number = 13\n",
        "\n",
        "approx_output_13 = np.append(np.min(approx_13.GP.y[0:n_init]),approx_13.GP.y[n_init:(n_init+iters)]) \n",
        "exact_output_13 = np.append(np.min(exact_13.GP.y[0:n_init]),exact_13.GP.y[n_init:(n_init+iters)]) \n",
        "\n",
        "regret_approx_13 = np.log(-approx_output_13 + y_global_orig)\n",
        "regret_exact_13 = np.log(-exact_output_13 + y_global_orig)\n",
        "\n",
        "simple_regret_approx_13 = min_max_array(regret_approx_13)\n",
        "simple_regret_exact_13 = min_max_array(regret_exact_13)\n",
        "\n",
        "min_simple_regret_approx_13 = min(simple_regret_approx_13)\n",
        "min_simple_regret_exact_13 = min(simple_regret_exact_13)\n",
        "\n",
        "min_simple_regret_approx_13, min_simple_regret_exact_13"
      ],
      "execution_count": null,
      "outputs": [
        {
          "output_type": "execute_result",
          "data": {
            "text/plain": [
              "(4.8342190558591644, 3.4988038651531)"
            ]
          },
          "metadata": {},
          "execution_count": 67
        }
      ]
    },
    {
      "cell_type": "code",
      "metadata": {
        "id": "ogML73shQxfx",
        "colab": {
          "base_uri": "https://localhost:8080/"
        },
        "outputId": "d8e798aa-82c2-4588-e683-d33c2eba18d9"
      },
      "source": [
        "### Simple regret minimization: run number = 14\n",
        "\n",
        "approx_output_14 = np.append(np.min(approx_14.GP.y[0:n_init]),approx_14.GP.y[n_init:(n_init+iters)]) \n",
        "exact_output_14 = np.append(np.min(exact_14.GP.y[0:n_init]),exact_14.GP.y[n_init:(n_init+iters)]) \n",
        "\n",
        "regret_approx_14 = np.log(-approx_output_14 + y_global_orig)\n",
        "regret_exact_14 = np.log(-exact_output_14 + y_global_orig)\n",
        "\n",
        "simple_regret_approx_14 = min_max_array(regret_approx_14)\n",
        "simple_regret_exact_14 = min_max_array(regret_exact_14)\n",
        "\n",
        "min_simple_regret_approx_14 = min(simple_regret_approx_14)\n",
        "min_simple_regret_exact_14 = min(simple_regret_exact_14)\n",
        "\n",
        "min_simple_regret_approx_14, min_simple_regret_exact_14"
      ],
      "execution_count": null,
      "outputs": [
        {
          "output_type": "execute_result",
          "data": {
            "text/plain": [
              "(4.59025237434138, 6.92436835301897)"
            ]
          },
          "metadata": {},
          "execution_count": 68
        }
      ]
    },
    {
      "cell_type": "code",
      "metadata": {
        "id": "9Eg7gFT9Qxfx",
        "colab": {
          "base_uri": "https://localhost:8080/"
        },
        "outputId": "2a47618d-fa9d-4e4d-ee9c-f4d444a08b48"
      },
      "source": [
        "### Simple regret minimization: run number = 15\n",
        "\n",
        "approx_output_15 = np.append(np.min(approx_15.GP.y[0:n_init]),approx_15.GP.y[n_init:(n_init+iters)]) \n",
        "exact_output_15 = np.append(np.min(exact_15.GP.y[0:n_init]),exact_15.GP.y[n_init:(n_init+iters)]) \n",
        "\n",
        "regret_approx_15 = np.log(-approx_output_15 + y_global_orig)\n",
        "regret_exact_15 = np.log(-exact_output_15 + y_global_orig)\n",
        "\n",
        "simple_regret_approx_15 = min_max_array(regret_approx_15)\n",
        "simple_regret_exact_15 = min_max_array(regret_exact_15)\n",
        "\n",
        "min_simple_regret_approx_15 = min(simple_regret_approx_15)\n",
        "min_simple_regret_exact_15 = min(simple_regret_exact_15)\n",
        "\n",
        "min_simple_regret_approx_15, min_simple_regret_exact_15"
      ],
      "execution_count": null,
      "outputs": [
        {
          "output_type": "execute_result",
          "data": {
            "text/plain": [
              "(4.237562822327569, 2.692132435261053)"
            ]
          },
          "metadata": {},
          "execution_count": 69
        }
      ]
    },
    {
      "cell_type": "code",
      "metadata": {
        "id": "lIAC1U7ZQxfy",
        "colab": {
          "base_uri": "https://localhost:8080/"
        },
        "outputId": "92d24968-3fab-4a13-a64f-210c4d0c639b"
      },
      "source": [
        "### Simple regret minimization: run number = 16\n",
        "\n",
        "approx_output_16 = np.append(np.min(approx_16.GP.y[0:n_init]),approx_16.GP.y[n_init:(n_init+iters)]) \n",
        "exact_output_16 = np.append(np.min(exact_16.GP.y[0:n_init]),exact_16.GP.y[n_init:(n_init+iters)]) \n",
        "\n",
        "regret_approx_16 = np.log(-approx_output_16 + y_global_orig)\n",
        "regret_exact_16 = np.log(-exact_output_16 + y_global_orig)\n",
        "\n",
        "simple_regret_approx_16 = min_max_array(regret_approx_16)\n",
        "simple_regret_exact_16 = min_max_array(regret_exact_16)\n",
        "\n",
        "min_simple_regret_approx_16 = min(simple_regret_approx_16)\n",
        "min_simple_regret_exact_16 = min(simple_regret_exact_16)\n",
        "\n",
        "min_simple_regret_approx_16, min_simple_regret_exact_16"
      ],
      "execution_count": null,
      "outputs": [
        {
          "output_type": "execute_result",
          "data": {
            "text/plain": [
              "(4.909326972536388, 3.628991346441493)"
            ]
          },
          "metadata": {},
          "execution_count": 70
        }
      ]
    },
    {
      "cell_type": "code",
      "metadata": {
        "id": "bGott36OQxfz",
        "colab": {
          "base_uri": "https://localhost:8080/"
        },
        "outputId": "d8daa0e7-2b1c-41a7-d94f-e200187c0c1f"
      },
      "source": [
        "### Simple regret minimization: run number = 17\n",
        "\n",
        "approx_output_17 = np.append(np.min(approx_17.GP.y[0:n_init]),approx_17.GP.y[n_init:(n_init+iters)]) \n",
        "exact_output_17 = np.append(np.min(exact_17.GP.y[0:n_init]),exact_17.GP.y[n_init:(n_init+iters)]) \n",
        "\n",
        "regret_approx_17 = np.log(-approx_output_17 + y_global_orig)\n",
        "regret_exact_17 = np.log(-exact_output_17 + y_global_orig)\n",
        "\n",
        "simple_regret_approx_17 = min_max_array(regret_approx_17)\n",
        "simple_regret_exact_17 = min_max_array(regret_exact_17)\n",
        "\n",
        "min_simple_regret_approx_17 = min(simple_regret_approx_17)\n",
        "min_simple_regret_exact_17 = min(simple_regret_exact_17)\n",
        "\n",
        "min_simple_regret_approx_17, min_simple_regret_exact_17"
      ],
      "execution_count": null,
      "outputs": [
        {
          "output_type": "execute_result",
          "data": {
            "text/plain": [
              "(4.863388223395744, 4.863388223395744)"
            ]
          },
          "metadata": {},
          "execution_count": 71
        }
      ]
    },
    {
      "cell_type": "code",
      "metadata": {
        "id": "Cz9ZYMBMQxfz",
        "colab": {
          "base_uri": "https://localhost:8080/"
        },
        "outputId": "9142f30f-5975-4db8-c228-ce66a776ceec"
      },
      "source": [
        "### Simple regret minimization: run number = 18\n",
        "\n",
        "approx_output_18 = np.append(np.min(approx_18.GP.y[0:n_init]),approx_18.GP.y[n_init:(n_init+iters)]) \n",
        "exact_output_18 = np.append(np.min(exact_18.GP.y[0:n_init]),exact_18.GP.y[n_init:(n_init+iters)]) \n",
        "\n",
        "regret_approx_18 = np.log(-approx_output_18 + y_global_orig)\n",
        "regret_exact_18 = np.log(-exact_output_18 + y_global_orig)\n",
        "\n",
        "simple_regret_approx_18 = min_max_array(regret_approx_18)\n",
        "simple_regret_exact_18 = min_max_array(regret_exact_18)\n",
        "\n",
        "min_simple_regret_approx_18 = min(simple_regret_approx_18)\n",
        "min_simple_regret_exact_18 = min(simple_regret_exact_18)\n",
        "\n",
        "min_simple_regret_approx_18, min_simple_regret_exact_18"
      ],
      "execution_count": null,
      "outputs": [
        {
          "output_type": "execute_result",
          "data": {
            "text/plain": [
              "(4.971899593501588, 4.971899593501588)"
            ]
          },
          "metadata": {},
          "execution_count": 72
        }
      ]
    },
    {
      "cell_type": "code",
      "metadata": {
        "id": "OBfpWOHNQxf0",
        "colab": {
          "base_uri": "https://localhost:8080/"
        },
        "outputId": "85dabf34-0d80-40c5-e79d-c1780e902697"
      },
      "source": [
        "### Simple regret minimization: run number = 19\n",
        "\n",
        "approx_output_19 = np.append(np.min(approx_19.GP.y[0:n_init]),approx_19.GP.y[n_init:(n_init+iters)]) \n",
        "exact_output_19 = np.append(np.min(exact_19.GP.y[0:n_init]),exact_19.GP.y[n_init:(n_init+iters)]) \n",
        "\n",
        "regret_approx_19 = np.log(-approx_output_19 + y_global_orig)\n",
        "regret_exact_19 = np.log(-exact_output_19 + y_global_orig)\n",
        "\n",
        "simple_regret_approx_19 = min_max_array(regret_approx_19)\n",
        "simple_regret_exact_19 = min_max_array(regret_exact_19)\n",
        "\n",
        "min_simple_regret_approx_19 = min(simple_regret_approx_19)\n",
        "min_simple_regret_exact_19 = min(simple_regret_exact_19)\n",
        "\n",
        "min_simple_regret_approx_19, min_simple_regret_exact_19"
      ],
      "execution_count": null,
      "outputs": [
        {
          "output_type": "execute_result",
          "data": {
            "text/plain": [
              "(5.745985155108188, 4.6954159187858995)"
            ]
          },
          "metadata": {},
          "execution_count": 73
        }
      ]
    },
    {
      "cell_type": "code",
      "metadata": {
        "id": "BE1AJ7NsQxf0",
        "colab": {
          "base_uri": "https://localhost:8080/"
        },
        "outputId": "6ee8816a-47bf-4bd5-a0d0-ef2cc61f8c4b"
      },
      "source": [
        "### Simple regret minimization: run number = 20\n",
        "\n",
        "approx_output_20 = np.append(np.min(approx_20.GP.y[0:n_init]),approx_20.GP.y[n_init:(n_init+iters)]) \n",
        "exact_output_20 = np.append(np.min(exact_20.GP.y[0:n_init]),exact_20.GP.y[n_init:(n_init+iters)]) \n",
        "\n",
        "regret_approx_20 = np.log(-approx_output_20 + y_global_orig)\n",
        "regret_exact_20 = np.log(-exact_output_20 + y_global_orig)\n",
        "\n",
        "simple_regret_approx_20 = min_max_array(regret_approx_20)\n",
        "simple_regret_exact_20 = min_max_array(regret_exact_20)\n",
        "\n",
        "min_simple_regret_approx_20 = min(simple_regret_approx_20)\n",
        "min_simple_regret_exact_20 = min(simple_regret_exact_20)\n",
        "\n",
        "min_simple_regret_approx_20, min_simple_regret_exact_20"
      ],
      "execution_count": null,
      "outputs": [
        {
          "output_type": "execute_result",
          "data": {
            "text/plain": [
              "(2.8648498705268834, 5.978347858309652)"
            ]
          },
          "metadata": {},
          "execution_count": 74
        }
      ]
    },
    {
      "cell_type": "code",
      "metadata": {
        "id": "XHo_0G2fJhBb"
      },
      "source": [
        "# Iteration1 :\n",
        "\n",
        "slice1 = 0\n",
        "\n",
        "approx1 = [simple_regret_approx_1[slice1],\n",
        "       simple_regret_approx_2[slice1],\n",
        "       simple_regret_approx_3[slice1],\n",
        "       simple_regret_approx_4[slice1],\n",
        "       simple_regret_approx_5[slice1],\n",
        "       simple_regret_approx_6[slice1],\n",
        "       simple_regret_approx_7[slice1],\n",
        "       simple_regret_approx_8[slice1],\n",
        "       simple_regret_approx_9[slice1],\n",
        "       simple_regret_approx_10[slice1],\n",
        "       simple_regret_approx_11[slice1],\n",
        "       simple_regret_approx_12[slice1],\n",
        "       simple_regret_approx_13[slice1],\n",
        "       simple_regret_approx_14[slice1],\n",
        "       simple_regret_approx_15[slice1],\n",
        "       simple_regret_approx_16[slice1],\n",
        "       simple_regret_approx_17[slice1],\n",
        "       simple_regret_approx_18[slice1],\n",
        "       simple_regret_approx_19[slice1],\n",
        "       simple_regret_approx_20[slice1]]\n",
        "\n",
        "exact1 = [simple_regret_exact_1[slice1],\n",
        "       simple_regret_exact_2[slice1],\n",
        "       simple_regret_exact_3[slice1],\n",
        "       simple_regret_exact_4[slice1],\n",
        "       simple_regret_exact_5[slice1],\n",
        "       simple_regret_exact_6[slice1],\n",
        "       simple_regret_exact_7[slice1],\n",
        "       simple_regret_exact_8[slice1],\n",
        "       simple_regret_exact_9[slice1],\n",
        "       simple_regret_exact_10[slice1],\n",
        "       simple_regret_exact_11[slice1],\n",
        "       simple_regret_exact_12[slice1],\n",
        "       simple_regret_exact_13[slice1],\n",
        "       simple_regret_exact_14[slice1],\n",
        "       simple_regret_exact_15[slice1],\n",
        "       simple_regret_exact_16[slice1],\n",
        "       simple_regret_exact_17[slice1],\n",
        "       simple_regret_exact_18[slice1],\n",
        "       simple_regret_exact_19[slice1],\n",
        "       simple_regret_exact_20[slice1]]\n",
        "\n",
        "approx1_results = pd.DataFrame(approx1).sort_values(by=[0], ascending=False)\n",
        "exact1_results = pd.DataFrame(exact1).sort_values(by=[0], ascending=False)\n",
        "\n",
        "### Best simple regret minimization IQR - approx:\n",
        "lower_approx1 = np.asarray(approx1_results[4:5][0])[0]\n",
        "median_approx1 = np.asarray(approx1_results[9:10][0])[0]\n",
        "upper_approx1 = np.asarray(approx1_results[14:15][0])[0]\n",
        "\n",
        "lower_exact1 = np.asarray(exact1_results[4:5][0])[0]\n",
        "median_exact1 = np.asarray(exact1_results[9:10][0])[0]\n",
        "upper_exact1 = np.asarray(exact1_results[14:15][0])[0]"
      ],
      "execution_count": null,
      "outputs": []
    },
    {
      "cell_type": "code",
      "metadata": {
        "id": "IZYT5m85JhBb"
      },
      "source": [
        "# Iteration11 :\n",
        "\n",
        "slice11 = 10\n",
        "\n",
        "approx11 = [simple_regret_approx_1[slice11],\n",
        "       simple_regret_approx_2[slice11],\n",
        "       simple_regret_approx_3[slice11],\n",
        "       simple_regret_approx_4[slice11],\n",
        "       simple_regret_approx_5[slice11],\n",
        "       simple_regret_approx_6[slice11],\n",
        "       simple_regret_approx_7[slice11],\n",
        "       simple_regret_approx_8[slice11],\n",
        "       simple_regret_approx_9[slice11],\n",
        "       simple_regret_approx_10[slice11],\n",
        "       simple_regret_approx_11[slice11],\n",
        "       simple_regret_approx_12[slice11],\n",
        "       simple_regret_approx_13[slice11],\n",
        "       simple_regret_approx_14[slice11],\n",
        "       simple_regret_approx_15[slice11],\n",
        "       simple_regret_approx_16[slice11],\n",
        "       simple_regret_approx_17[slice11],\n",
        "       simple_regret_approx_18[slice11],\n",
        "       simple_regret_approx_19[slice11],\n",
        "       simple_regret_approx_20[slice11]]\n",
        "\n",
        "exact11 = [simple_regret_exact_1[slice11],\n",
        "       simple_regret_exact_2[slice11],\n",
        "       simple_regret_exact_3[slice11],\n",
        "       simple_regret_exact_4[slice11],\n",
        "       simple_regret_exact_5[slice11],\n",
        "       simple_regret_exact_6[slice11],\n",
        "       simple_regret_exact_7[slice11],\n",
        "       simple_regret_exact_8[slice11],\n",
        "       simple_regret_exact_9[slice11],\n",
        "       simple_regret_exact_10[slice11],\n",
        "       simple_regret_exact_11[slice11],\n",
        "       simple_regret_exact_12[slice11],\n",
        "       simple_regret_exact_13[slice11],\n",
        "       simple_regret_exact_14[slice11],\n",
        "       simple_regret_exact_15[slice11],\n",
        "       simple_regret_exact_16[slice11],\n",
        "       simple_regret_exact_17[slice11],\n",
        "       simple_regret_exact_18[slice11],\n",
        "       simple_regret_exact_19[slice11],\n",
        "       simple_regret_exact_20[slice11]]\n",
        "\n",
        "approx11_results = pd.DataFrame(approx11).sort_values(by=[0], ascending=False)\n",
        "exact11_results = pd.DataFrame(exact11).sort_values(by=[0], ascending=False)\n",
        "\n",
        "### Best simple regret minimization IQR - approx:\n",
        "lower_approx11 = np.asarray(approx11_results[4:5][0])[0]\n",
        "median_approx11 = np.asarray(approx11_results[9:10][0])[0]\n",
        "upper_approx11 = np.asarray(approx11_results[14:15][0])[0]\n",
        "\n",
        "lower_exact11 = np.asarray(exact11_results[4:5][0])[0]\n",
        "median_exact11 = np.asarray(exact11_results[9:10][0])[0]\n",
        "upper_exact11 = np.asarray(exact11_results[14:15][0])[0]"
      ],
      "execution_count": null,
      "outputs": []
    },
    {
      "cell_type": "code",
      "metadata": {
        "id": "R_vbmbaeJhBc"
      },
      "source": [
        "# Iteration21 :\n",
        "\n",
        "slice21 = 20\n",
        "\n",
        "approx21 = [simple_regret_approx_1[slice21],\n",
        "       simple_regret_approx_2[slice21],\n",
        "       simple_regret_approx_3[slice21],\n",
        "       simple_regret_approx_4[slice21],\n",
        "       simple_regret_approx_5[slice21],\n",
        "       simple_regret_approx_6[slice21],\n",
        "       simple_regret_approx_7[slice21],\n",
        "       simple_regret_approx_8[slice21],\n",
        "       simple_regret_approx_9[slice21],\n",
        "       simple_regret_approx_10[slice21],\n",
        "       simple_regret_approx_11[slice21],\n",
        "       simple_regret_approx_12[slice21],\n",
        "       simple_regret_approx_13[slice21],\n",
        "       simple_regret_approx_14[slice21],\n",
        "       simple_regret_approx_15[slice21],\n",
        "       simple_regret_approx_16[slice21],\n",
        "       simple_regret_approx_17[slice21],\n",
        "       simple_regret_approx_18[slice21],\n",
        "       simple_regret_approx_19[slice21],\n",
        "       simple_regret_approx_20[slice21]]\n",
        "\n",
        "exact21 = [simple_regret_exact_1[slice21],\n",
        "       simple_regret_exact_2[slice21],\n",
        "       simple_regret_exact_3[slice21],\n",
        "       simple_regret_exact_4[slice21],\n",
        "       simple_regret_exact_5[slice21],\n",
        "       simple_regret_exact_6[slice21],\n",
        "       simple_regret_exact_7[slice21],\n",
        "       simple_regret_exact_8[slice21],\n",
        "       simple_regret_exact_9[slice21],\n",
        "       simple_regret_exact_10[slice21],\n",
        "       simple_regret_exact_11[slice21],\n",
        "       simple_regret_exact_12[slice21],\n",
        "       simple_regret_exact_13[slice21],\n",
        "       simple_regret_exact_14[slice21],\n",
        "       simple_regret_exact_15[slice21],\n",
        "       simple_regret_exact_16[slice21],\n",
        "       simple_regret_exact_17[slice21],\n",
        "       simple_regret_exact_18[slice21],\n",
        "       simple_regret_exact_19[slice21],\n",
        "       simple_regret_exact_20[slice21]]\n",
        "\n",
        "approx21_results = pd.DataFrame(approx21).sort_values(by=[0], ascending=False)\n",
        "exact21_results = pd.DataFrame(exact21).sort_values(by=[0], ascending=False)\n",
        "\n",
        "### Best simple regret minimization IQR - approx:\n",
        "lower_approx21 = np.asarray(approx21_results[4:5][0])[0]\n",
        "median_approx21 = np.asarray(approx21_results[9:10][0])[0]\n",
        "upper_approx21 = np.asarray(approx21_results[14:15][0])[0]\n",
        "\n",
        "lower_exact21 = np.asarray(exact21_results[4:5][0])[0]\n",
        "median_exact21 = np.asarray(exact21_results[9:10][0])[0]\n",
        "upper_exact21 = np.asarray(exact21_results[14:15][0])[0]"
      ],
      "execution_count": null,
      "outputs": []
    },
    {
      "cell_type": "code",
      "metadata": {
        "id": "F9FU4ttiaQOJ"
      },
      "source": [
        "# Iteration31 :\n",
        "\n",
        "slice31 = 30\n",
        "\n",
        "approx31 = [simple_regret_approx_1[slice31],\n",
        "       simple_regret_approx_2[slice31],\n",
        "       simple_regret_approx_3[slice31],\n",
        "       simple_regret_approx_4[slice31],\n",
        "       simple_regret_approx_5[slice31],\n",
        "       simple_regret_approx_6[slice31],\n",
        "       simple_regret_approx_7[slice31],\n",
        "       simple_regret_approx_8[slice31],\n",
        "       simple_regret_approx_9[slice31],\n",
        "       simple_regret_approx_10[slice31],\n",
        "       simple_regret_approx_11[slice31],\n",
        "       simple_regret_approx_12[slice31],\n",
        "       simple_regret_approx_13[slice31],\n",
        "       simple_regret_approx_14[slice31],\n",
        "       simple_regret_approx_15[slice31],\n",
        "       simple_regret_approx_16[slice31],\n",
        "       simple_regret_approx_17[slice31],\n",
        "       simple_regret_approx_18[slice31],\n",
        "       simple_regret_approx_19[slice31],\n",
        "       simple_regret_approx_20[slice31]]\n",
        "\n",
        "exact31 = [simple_regret_exact_1[slice31],\n",
        "       simple_regret_exact_2[slice31],\n",
        "       simple_regret_exact_3[slice31],\n",
        "       simple_regret_exact_4[slice31],\n",
        "       simple_regret_exact_5[slice31],\n",
        "       simple_regret_exact_6[slice31],\n",
        "       simple_regret_exact_7[slice31],\n",
        "       simple_regret_exact_8[slice31],\n",
        "       simple_regret_exact_9[slice31],\n",
        "       simple_regret_exact_10[slice31],\n",
        "       simple_regret_exact_11[slice31],\n",
        "       simple_regret_exact_12[slice31],\n",
        "       simple_regret_exact_13[slice31],\n",
        "       simple_regret_exact_14[slice31],\n",
        "       simple_regret_exact_15[slice31],\n",
        "       simple_regret_exact_16[slice31],\n",
        "       simple_regret_exact_17[slice31],\n",
        "       simple_regret_exact_18[slice31],\n",
        "       simple_regret_exact_19[slice31],\n",
        "       simple_regret_exact_20[slice31]]\n",
        "\n",
        "approx31_results = pd.DataFrame(approx31).sort_values(by=[0], ascending=False)\n",
        "exact31_results = pd.DataFrame(exact31).sort_values(by=[0], ascending=False)\n",
        "\n",
        "### Best simple regret minimization IQR - approx:\n",
        "lower_approx31 = np.asarray(approx31_results[4:5][0])[0]\n",
        "median_approx31 = np.asarray(approx31_results[9:10][0])[0]\n",
        "upper_approx31 = np.asarray(approx31_results[14:15][0])[0]\n",
        "\n",
        "lower_exact31 = np.asarray(exact31_results[4:5][0])[0]\n",
        "median_exact31 = np.asarray(exact31_results[9:10][0])[0]\n",
        "upper_exact31 = np.asarray(exact31_results[14:15][0])[0]\n"
      ],
      "execution_count": null,
      "outputs": []
    },
    {
      "cell_type": "code",
      "metadata": {
        "id": "nAnT4CmSJhBd"
      },
      "source": [
        "# Iteration2 :\n",
        "\n",
        "slice2 = 1\n",
        "\n",
        "approx2 = [simple_regret_approx_1[slice2],\n",
        "       simple_regret_approx_2[slice2],\n",
        "       simple_regret_approx_3[slice2],\n",
        "       simple_regret_approx_4[slice2],\n",
        "       simple_regret_approx_5[slice2],\n",
        "       simple_regret_approx_6[slice2],\n",
        "       simple_regret_approx_7[slice2],\n",
        "       simple_regret_approx_8[slice2],\n",
        "       simple_regret_approx_9[slice2],\n",
        "       simple_regret_approx_10[slice2],\n",
        "       simple_regret_approx_11[slice2],\n",
        "       simple_regret_approx_12[slice2],\n",
        "       simple_regret_approx_13[slice2],\n",
        "       simple_regret_approx_14[slice2],\n",
        "       simple_regret_approx_15[slice2],\n",
        "       simple_regret_approx_16[slice2],\n",
        "       simple_regret_approx_17[slice2],\n",
        "       simple_regret_approx_18[slice2],\n",
        "       simple_regret_approx_19[slice2],\n",
        "       simple_regret_approx_20[slice2]]\n",
        "\n",
        "exact2 = [simple_regret_exact_1[slice2],\n",
        "       simple_regret_exact_2[slice2],\n",
        "       simple_regret_exact_3[slice2],\n",
        "       simple_regret_exact_4[slice2],\n",
        "       simple_regret_exact_5[slice2],\n",
        "       simple_regret_exact_6[slice2],\n",
        "       simple_regret_exact_7[slice2],\n",
        "       simple_regret_exact_8[slice2],\n",
        "       simple_regret_exact_9[slice2],\n",
        "       simple_regret_exact_10[slice2],\n",
        "       simple_regret_exact_11[slice2],\n",
        "       simple_regret_exact_12[slice2],\n",
        "       simple_regret_exact_13[slice2],\n",
        "       simple_regret_exact_14[slice2],\n",
        "       simple_regret_exact_15[slice2],\n",
        "       simple_regret_exact_16[slice2],\n",
        "       simple_regret_exact_17[slice2],\n",
        "       simple_regret_exact_18[slice2],\n",
        "       simple_regret_exact_19[slice2],\n",
        "       simple_regret_exact_20[slice2]]\n",
        "\n",
        "approx2_results = pd.DataFrame(approx2).sort_values(by=[0], ascending=False)\n",
        "exact2_results = pd.DataFrame(exact2).sort_values(by=[0], ascending=False)\n",
        "\n",
        "### Best simple regret minimization IQR - approx:\n",
        "lower_approx2 = np.asarray(approx2_results[4:5][0])[0]\n",
        "median_approx2 = np.asarray(approx2_results[9:10][0])[0]\n",
        "upper_approx2 = np.asarray(approx2_results[14:15][0])[0]\n",
        "\n",
        "lower_exact2 = np.asarray(exact2_results[4:5][0])[0]\n",
        "median_exact2 = np.asarray(exact2_results[9:10][0])[0]\n",
        "upper_exact2 = np.asarray(exact2_results[14:15][0])[0]"
      ],
      "execution_count": null,
      "outputs": []
    },
    {
      "cell_type": "code",
      "metadata": {
        "id": "ilHQoAhBJhBd"
      },
      "source": [
        "# Iteration12 :\n",
        "\n",
        "slice12 = 11\n",
        "\n",
        "approx12 = [simple_regret_approx_1[slice12],\n",
        "       simple_regret_approx_2[slice12],\n",
        "       simple_regret_approx_3[slice12],\n",
        "       simple_regret_approx_4[slice12],\n",
        "       simple_regret_approx_5[slice12],\n",
        "       simple_regret_approx_6[slice12],\n",
        "       simple_regret_approx_7[slice12],\n",
        "       simple_regret_approx_8[slice12],\n",
        "       simple_regret_approx_9[slice12],\n",
        "       simple_regret_approx_10[slice12],\n",
        "       simple_regret_approx_11[slice12],\n",
        "       simple_regret_approx_12[slice12],\n",
        "       simple_regret_approx_13[slice12],\n",
        "       simple_regret_approx_14[slice12],\n",
        "       simple_regret_approx_15[slice12],\n",
        "       simple_regret_approx_16[slice12],\n",
        "       simple_regret_approx_17[slice12],\n",
        "       simple_regret_approx_18[slice12],\n",
        "       simple_regret_approx_19[slice12],\n",
        "       simple_regret_approx_20[slice12]]\n",
        "\n",
        "exact12 = [simple_regret_exact_1[slice12],\n",
        "       simple_regret_exact_2[slice12],\n",
        "       simple_regret_exact_3[slice12],\n",
        "       simple_regret_exact_4[slice12],\n",
        "       simple_regret_exact_5[slice12],\n",
        "       simple_regret_exact_6[slice12],\n",
        "       simple_regret_exact_7[slice12],\n",
        "       simple_regret_exact_8[slice12],\n",
        "       simple_regret_exact_9[slice12],\n",
        "       simple_regret_exact_10[slice12],\n",
        "       simple_regret_exact_11[slice12],\n",
        "       simple_regret_exact_12[slice12],\n",
        "       simple_regret_exact_13[slice12],\n",
        "       simple_regret_exact_14[slice12],\n",
        "       simple_regret_exact_15[slice12],\n",
        "       simple_regret_exact_16[slice12],\n",
        "       simple_regret_exact_17[slice12],\n",
        "       simple_regret_exact_18[slice12],\n",
        "       simple_regret_exact_19[slice12],\n",
        "       simple_regret_exact_20[slice12]]\n",
        "\n",
        "approx12_results = pd.DataFrame(approx12).sort_values(by=[0], ascending=False)\n",
        "exact12_results = pd.DataFrame(exact12).sort_values(by=[0], ascending=False)\n",
        "\n",
        "### Best simple regret minimization IQR - approx:\n",
        "lower_approx12 = np.asarray(approx12_results[4:5][0])[0]\n",
        "median_approx12 = np.asarray(approx12_results[9:10][0])[0]\n",
        "upper_approx12 = np.asarray(approx12_results[14:15][0])[0]\n",
        "\n",
        "lower_exact12 = np.asarray(exact12_results[4:5][0])[0]\n",
        "median_exact12 = np.asarray(exact12_results[9:10][0])[0]\n",
        "upper_exact12 = np.asarray(exact12_results[14:15][0])[0]"
      ],
      "execution_count": null,
      "outputs": []
    },
    {
      "cell_type": "code",
      "metadata": {
        "id": "H13IwWE5axxK"
      },
      "source": [
        "# Iteration22 :\n",
        "\n",
        "slice22 = 21\n",
        "\n",
        "approx22 = [simple_regret_approx_1[slice22],\n",
        "       simple_regret_approx_2[slice22],\n",
        "       simple_regret_approx_3[slice22],\n",
        "       simple_regret_approx_4[slice22],\n",
        "       simple_regret_approx_5[slice22],\n",
        "       simple_regret_approx_6[slice22],\n",
        "       simple_regret_approx_7[slice22],\n",
        "       simple_regret_approx_8[slice22],\n",
        "       simple_regret_approx_9[slice22],\n",
        "       simple_regret_approx_10[slice22],\n",
        "       simple_regret_approx_11[slice22],\n",
        "       simple_regret_approx_12[slice22],\n",
        "       simple_regret_approx_13[slice22],\n",
        "       simple_regret_approx_14[slice22],\n",
        "       simple_regret_approx_15[slice22],\n",
        "       simple_regret_approx_16[slice22],\n",
        "       simple_regret_approx_17[slice22],\n",
        "       simple_regret_approx_18[slice22],\n",
        "       simple_regret_approx_19[slice22],\n",
        "       simple_regret_approx_20[slice22]]\n",
        "\n",
        "exact22 = [simple_regret_exact_1[slice22],\n",
        "       simple_regret_exact_2[slice22],\n",
        "       simple_regret_exact_3[slice22],\n",
        "       simple_regret_exact_4[slice22],\n",
        "       simple_regret_exact_5[slice22],\n",
        "       simple_regret_exact_6[slice22],\n",
        "       simple_regret_exact_7[slice22],\n",
        "       simple_regret_exact_8[slice22],\n",
        "       simple_regret_exact_9[slice22],\n",
        "       simple_regret_exact_10[slice22],\n",
        "       simple_regret_exact_11[slice22],\n",
        "       simple_regret_exact_12[slice22],\n",
        "       simple_regret_exact_13[slice22],\n",
        "       simple_regret_exact_14[slice22],\n",
        "       simple_regret_exact_15[slice22],\n",
        "       simple_regret_exact_16[slice22],\n",
        "       simple_regret_exact_17[slice22],\n",
        "       simple_regret_exact_18[slice22],\n",
        "       simple_regret_exact_19[slice22],\n",
        "       simple_regret_exact_20[slice22]]\n",
        "\n",
        "approx22_results = pd.DataFrame(approx22).sort_values(by=[0], ascending=False)\n",
        "exact22_results = pd.DataFrame(exact22).sort_values(by=[0], ascending=False)\n",
        "\n",
        "### Best simple regret minimization IQR - approx:\n",
        "lower_approx22 = np.asarray(approx22_results[4:5][0])[0]\n",
        "median_approx22 = np.asarray(approx22_results[9:10][0])[0]\n",
        "upper_approx22 = np.asarray(approx22_results[14:15][0])[0]\n",
        "\n",
        "lower_exact22 = np.asarray(exact22_results[4:5][0])[0]\n",
        "median_exact22 = np.asarray(exact22_results[9:10][0])[0]\n",
        "upper_exact22 = np.asarray(exact22_results[14:15][0])[0]"
      ],
      "execution_count": null,
      "outputs": []
    },
    {
      "cell_type": "code",
      "metadata": {
        "id": "bGJ_fhZ7JhBe"
      },
      "source": [
        "# Iteration3 :\n",
        "\n",
        "slice3 = 2\n",
        "\n",
        "approx3 = [simple_regret_approx_1[slice3],\n",
        "       simple_regret_approx_2[slice3],\n",
        "       simple_regret_approx_3[slice3],\n",
        "       simple_regret_approx_4[slice3],\n",
        "       simple_regret_approx_5[slice3],\n",
        "       simple_regret_approx_6[slice3],\n",
        "       simple_regret_approx_7[slice3],\n",
        "       simple_regret_approx_8[slice3],\n",
        "       simple_regret_approx_9[slice3],\n",
        "       simple_regret_approx_10[slice3],\n",
        "       simple_regret_approx_11[slice3],\n",
        "       simple_regret_approx_12[slice3],\n",
        "       simple_regret_approx_13[slice3],\n",
        "       simple_regret_approx_14[slice3],\n",
        "       simple_regret_approx_15[slice3],\n",
        "       simple_regret_approx_16[slice3],\n",
        "       simple_regret_approx_17[slice3],\n",
        "       simple_regret_approx_18[slice3],\n",
        "       simple_regret_approx_19[slice3],\n",
        "       simple_regret_approx_20[slice3]]\n",
        "\n",
        "exact3 = [simple_regret_exact_1[slice3],\n",
        "       simple_regret_exact_2[slice3],\n",
        "       simple_regret_exact_3[slice3],\n",
        "       simple_regret_exact_4[slice3],\n",
        "       simple_regret_exact_5[slice3],\n",
        "       simple_regret_exact_6[slice3],\n",
        "       simple_regret_exact_7[slice3],\n",
        "       simple_regret_exact_8[slice3],\n",
        "       simple_regret_exact_9[slice3],\n",
        "       simple_regret_exact_10[slice3],\n",
        "       simple_regret_exact_11[slice3],\n",
        "       simple_regret_exact_12[slice3],\n",
        "       simple_regret_exact_13[slice3],\n",
        "       simple_regret_exact_14[slice3],\n",
        "       simple_regret_exact_15[slice3],\n",
        "       simple_regret_exact_16[slice3],\n",
        "       simple_regret_exact_17[slice3],\n",
        "       simple_regret_exact_18[slice3],\n",
        "       simple_regret_exact_19[slice3],\n",
        "       simple_regret_exact_20[slice3]]\n",
        "\n",
        "approx3_results = pd.DataFrame(approx3).sort_values(by=[0], ascending=False)\n",
        "exact3_results = pd.DataFrame(exact3).sort_values(by=[0], ascending=False)\n",
        "\n",
        "### Best simple regret minimization IQR - approx:\n",
        "lower_approx3 = np.asarray(approx3_results[4:5][0])[0]\n",
        "median_approx3 = np.asarray(approx3_results[9:10][0])[0]\n",
        "upper_approx3 = np.asarray(approx3_results[14:15][0])[0]\n",
        "\n",
        "lower_exact3 = np.asarray(exact3_results[4:5][0])[0]\n",
        "median_exact3 = np.asarray(exact3_results[9:10][0])[0]\n",
        "upper_exact3 = np.asarray(exact3_results[14:15][0])[0]"
      ],
      "execution_count": null,
      "outputs": []
    },
    {
      "cell_type": "code",
      "metadata": {
        "id": "jUpV9Q1LJhBe"
      },
      "source": [
        "# Iteration13 :\n",
        "\n",
        "slice13 = 12\n",
        "\n",
        "approx13 = [simple_regret_approx_1[slice13],\n",
        "       simple_regret_approx_2[slice13],\n",
        "       simple_regret_approx_3[slice13],\n",
        "       simple_regret_approx_4[slice13],\n",
        "       simple_regret_approx_5[slice13],\n",
        "       simple_regret_approx_6[slice13],\n",
        "       simple_regret_approx_7[slice13],\n",
        "       simple_regret_approx_8[slice13],\n",
        "       simple_regret_approx_9[slice13],\n",
        "       simple_regret_approx_10[slice13],\n",
        "       simple_regret_approx_11[slice13],\n",
        "       simple_regret_approx_12[slice13],\n",
        "       simple_regret_approx_13[slice13],\n",
        "       simple_regret_approx_14[slice13],\n",
        "       simple_regret_approx_15[slice13],\n",
        "       simple_regret_approx_16[slice13],\n",
        "       simple_regret_approx_17[slice13],\n",
        "       simple_regret_approx_18[slice13],\n",
        "       simple_regret_approx_19[slice13],\n",
        "       simple_regret_approx_20[slice13]]\n",
        "\n",
        "exact13 = [simple_regret_exact_1[slice13],\n",
        "       simple_regret_exact_2[slice13],\n",
        "       simple_regret_exact_3[slice13],\n",
        "       simple_regret_exact_4[slice13],\n",
        "       simple_regret_exact_5[slice13],\n",
        "       simple_regret_exact_6[slice13],\n",
        "       simple_regret_exact_7[slice13],\n",
        "       simple_regret_exact_8[slice13],\n",
        "       simple_regret_exact_9[slice13],\n",
        "       simple_regret_exact_10[slice13],\n",
        "       simple_regret_exact_11[slice13],\n",
        "       simple_regret_exact_12[slice13],\n",
        "       simple_regret_exact_13[slice13],\n",
        "       simple_regret_exact_14[slice13],\n",
        "       simple_regret_exact_15[slice13],\n",
        "       simple_regret_exact_16[slice13],\n",
        "       simple_regret_exact_17[slice13],\n",
        "       simple_regret_exact_18[slice13],\n",
        "       simple_regret_exact_19[slice13],\n",
        "       simple_regret_exact_20[slice13]]\n",
        "\n",
        "approx13_results = pd.DataFrame(approx13).sort_values(by=[0], ascending=False)\n",
        "exact13_results = pd.DataFrame(exact13).sort_values(by=[0], ascending=False)\n",
        "\n",
        "### Best simple regret minimization IQR - approx:\n",
        "lower_approx13 = np.asarray(approx13_results[4:5][0])[0]\n",
        "median_approx13 = np.asarray(approx13_results[9:10][0])[0]\n",
        "upper_approx13 = np.asarray(approx13_results[14:15][0])[0]\n",
        "\n",
        "lower_exact13 = np.asarray(exact13_results[4:5][0])[0]\n",
        "median_exact13 = np.asarray(exact13_results[9:10][0])[0]\n",
        "upper_exact13 = np.asarray(exact13_results[14:15][0])[0]"
      ],
      "execution_count": null,
      "outputs": []
    },
    {
      "cell_type": "code",
      "metadata": {
        "id": "ql0sW6uwbZ2w"
      },
      "source": [
        "# Iteration23 :\n",
        "\n",
        "slice23 = 22\n",
        "\n",
        "approx23 = [simple_regret_approx_1[slice23],\n",
        "       simple_regret_approx_2[slice23],\n",
        "       simple_regret_approx_3[slice23],\n",
        "       simple_regret_approx_4[slice23],\n",
        "       simple_regret_approx_5[slice23],\n",
        "       simple_regret_approx_6[slice23],\n",
        "       simple_regret_approx_7[slice23],\n",
        "       simple_regret_approx_8[slice23],\n",
        "       simple_regret_approx_9[slice23],\n",
        "       simple_regret_approx_10[slice23],\n",
        "       simple_regret_approx_11[slice23],\n",
        "       simple_regret_approx_12[slice23],\n",
        "       simple_regret_approx_13[slice23],\n",
        "       simple_regret_approx_14[slice23],\n",
        "       simple_regret_approx_15[slice23],\n",
        "       simple_regret_approx_16[slice23],\n",
        "       simple_regret_approx_17[slice23],\n",
        "       simple_regret_approx_18[slice23],\n",
        "       simple_regret_approx_19[slice23],\n",
        "       simple_regret_approx_20[slice23]]\n",
        "\n",
        "exact23 = [simple_regret_exact_1[slice23],\n",
        "       simple_regret_exact_2[slice23],\n",
        "       simple_regret_exact_3[slice23],\n",
        "       simple_regret_exact_4[slice23],\n",
        "       simple_regret_exact_5[slice23],\n",
        "       simple_regret_exact_6[slice23],\n",
        "       simple_regret_exact_7[slice23],\n",
        "       simple_regret_exact_8[slice23],\n",
        "       simple_regret_exact_9[slice23],\n",
        "       simple_regret_exact_10[slice23],\n",
        "       simple_regret_exact_11[slice23],\n",
        "       simple_regret_exact_12[slice23],\n",
        "       simple_regret_exact_13[slice23],\n",
        "       simple_regret_exact_14[slice23],\n",
        "       simple_regret_exact_15[slice23],\n",
        "       simple_regret_exact_16[slice23],\n",
        "       simple_regret_exact_17[slice23],\n",
        "       simple_regret_exact_18[slice23],\n",
        "       simple_regret_exact_19[slice23],\n",
        "       simple_regret_exact_20[slice23]]\n",
        "\n",
        "approx23_results = pd.DataFrame(approx23).sort_values(by=[0], ascending=False)\n",
        "exact23_results = pd.DataFrame(exact23).sort_values(by=[0], ascending=False)\n",
        "\n",
        "### Best simple regret minimization IQR - approx:\n",
        "lower_approx23 = np.asarray(approx23_results[4:5][0])[0]\n",
        "median_approx23 = np.asarray(approx23_results[9:10][0])[0]\n",
        "upper_approx23 = np.asarray(approx23_results[14:15][0])[0]\n",
        "\n",
        "lower_exact23 = np.asarray(exact23_results[4:5][0])[0]\n",
        "median_exact23 = np.asarray(exact23_results[9:10][0])[0]\n",
        "upper_exact23 = np.asarray(exact23_results[14:15][0])[0]"
      ],
      "execution_count": null,
      "outputs": []
    },
    {
      "cell_type": "code",
      "metadata": {
        "id": "ZD6EnITCJhBf"
      },
      "source": [
        "# Iteration4 :\n",
        "\n",
        "slice4 = 3\n",
        "\n",
        "approx4 = [simple_regret_approx_1[slice4],\n",
        "       simple_regret_approx_2[slice4],\n",
        "       simple_regret_approx_3[slice4],\n",
        "       simple_regret_approx_4[slice4],\n",
        "       simple_regret_approx_5[slice4],\n",
        "       simple_regret_approx_6[slice4],\n",
        "       simple_regret_approx_7[slice4],\n",
        "       simple_regret_approx_8[slice4],\n",
        "       simple_regret_approx_9[slice4],\n",
        "       simple_regret_approx_10[slice4],\n",
        "       simple_regret_approx_11[slice4],\n",
        "       simple_regret_approx_12[slice4],\n",
        "       simple_regret_approx_13[slice4],\n",
        "       simple_regret_approx_14[slice4],\n",
        "       simple_regret_approx_15[slice4],\n",
        "       simple_regret_approx_16[slice4],\n",
        "       simple_regret_approx_17[slice4],\n",
        "       simple_regret_approx_18[slice4],\n",
        "       simple_regret_approx_19[slice4],\n",
        "       simple_regret_approx_20[slice4]]\n",
        "\n",
        "exact4 = [simple_regret_exact_1[slice4],\n",
        "       simple_regret_exact_2[slice4],\n",
        "       simple_regret_exact_3[slice4],\n",
        "       simple_regret_exact_4[slice4],\n",
        "       simple_regret_exact_5[slice4],\n",
        "       simple_regret_exact_6[slice4],\n",
        "       simple_regret_exact_7[slice4],\n",
        "       simple_regret_exact_8[slice4],\n",
        "       simple_regret_exact_9[slice4],\n",
        "       simple_regret_exact_10[slice4],\n",
        "       simple_regret_exact_11[slice4],\n",
        "       simple_regret_exact_12[slice4],\n",
        "       simple_regret_exact_13[slice4],\n",
        "       simple_regret_exact_14[slice4],\n",
        "       simple_regret_exact_15[slice4],\n",
        "       simple_regret_exact_16[slice4],\n",
        "       simple_regret_exact_17[slice4],\n",
        "       simple_regret_exact_18[slice4],\n",
        "       simple_regret_exact_19[slice4],\n",
        "       simple_regret_exact_20[slice4]]\n",
        "\n",
        "approx4_results = pd.DataFrame(approx4).sort_values(by=[0], ascending=False)\n",
        "exact4_results = pd.DataFrame(exact4).sort_values(by=[0], ascending=False)\n",
        "\n",
        "### Best simple regret minimization IQR - approx:\n",
        "lower_approx4 = np.asarray(approx4_results[4:5][0])[0]\n",
        "median_approx4 = np.asarray(approx4_results[9:10][0])[0]\n",
        "upper_approx4 = np.asarray(approx4_results[14:15][0])[0]\n",
        "\n",
        "lower_exact4 = np.asarray(exact4_results[4:5][0])[0]\n",
        "median_exact4 = np.asarray(exact4_results[9:10][0])[0]\n",
        "upper_exact4 = np.asarray(exact4_results[14:15][0])[0]"
      ],
      "execution_count": null,
      "outputs": []
    },
    {
      "cell_type": "code",
      "metadata": {
        "id": "EpaLyNtBJhBg"
      },
      "source": [
        "# Iteration14 :\n",
        "\n",
        "slice14 = 13\n",
        "\n",
        "approx14 = [simple_regret_approx_1[slice14],\n",
        "       simple_regret_approx_2[slice14],\n",
        "       simple_regret_approx_3[slice14],\n",
        "       simple_regret_approx_4[slice14],\n",
        "       simple_regret_approx_5[slice14],\n",
        "       simple_regret_approx_6[slice14],\n",
        "       simple_regret_approx_7[slice14],\n",
        "       simple_regret_approx_8[slice14],\n",
        "       simple_regret_approx_9[slice14],\n",
        "       simple_regret_approx_10[slice14],\n",
        "       simple_regret_approx_11[slice14],\n",
        "       simple_regret_approx_12[slice14],\n",
        "       simple_regret_approx_13[slice14],\n",
        "       simple_regret_approx_14[slice14],\n",
        "       simple_regret_approx_15[slice14],\n",
        "       simple_regret_approx_16[slice14],\n",
        "       simple_regret_approx_17[slice14],\n",
        "       simple_regret_approx_18[slice14],\n",
        "       simple_regret_approx_19[slice14],\n",
        "       simple_regret_approx_20[slice14]]\n",
        "\n",
        "exact14 = [simple_regret_exact_1[slice14],\n",
        "       simple_regret_exact_2[slice14],\n",
        "       simple_regret_exact_3[slice14],\n",
        "       simple_regret_exact_4[slice14],\n",
        "       simple_regret_exact_5[slice14],\n",
        "       simple_regret_exact_6[slice14],\n",
        "       simple_regret_exact_7[slice14],\n",
        "       simple_regret_exact_8[slice14],\n",
        "       simple_regret_exact_9[slice14],\n",
        "       simple_regret_exact_10[slice14],\n",
        "       simple_regret_exact_11[slice14],\n",
        "       simple_regret_exact_12[slice14],\n",
        "       simple_regret_exact_13[slice14],\n",
        "       simple_regret_exact_14[slice14],\n",
        "       simple_regret_exact_15[slice14],\n",
        "       simple_regret_exact_16[slice14],\n",
        "       simple_regret_exact_17[slice14],\n",
        "       simple_regret_exact_18[slice14],\n",
        "       simple_regret_exact_19[slice14],\n",
        "       simple_regret_exact_20[slice14]]\n",
        "\n",
        "approx14_results = pd.DataFrame(approx14).sort_values(by=[0], ascending=False)\n",
        "exact14_results = pd.DataFrame(exact14).sort_values(by=[0], ascending=False)\n",
        "\n",
        "### Best simple regret minimization IQR - approx:\n",
        "lower_approx14 = np.asarray(approx14_results[4:5][0])[0]\n",
        "median_approx14 = np.asarray(approx14_results[9:10][0])[0]\n",
        "upper_approx14 = np.asarray(approx14_results[14:15][0])[0]\n",
        "\n",
        "lower_exact14 = np.asarray(exact14_results[4:5][0])[0]\n",
        "median_exact14 = np.asarray(exact14_results[9:10][0])[0]\n",
        "upper_exact14 = np.asarray(exact14_results[14:15][0])[0]"
      ],
      "execution_count": null,
      "outputs": []
    },
    {
      "cell_type": "code",
      "metadata": {
        "id": "R9whJAg4b6L6"
      },
      "source": [
        "# Iteration24 :\n",
        "\n",
        "slice24 = 23\n",
        "\n",
        "approx24 = [simple_regret_approx_1[slice24],\n",
        "       simple_regret_approx_2[slice24],\n",
        "       simple_regret_approx_3[slice24],\n",
        "       simple_regret_approx_4[slice24],\n",
        "       simple_regret_approx_5[slice24],\n",
        "       simple_regret_approx_6[slice24],\n",
        "       simple_regret_approx_7[slice24],\n",
        "       simple_regret_approx_8[slice24],\n",
        "       simple_regret_approx_9[slice24],\n",
        "       simple_regret_approx_10[slice24],\n",
        "       simple_regret_approx_11[slice24],\n",
        "       simple_regret_approx_12[slice24],\n",
        "       simple_regret_approx_13[slice24],\n",
        "       simple_regret_approx_14[slice24],\n",
        "       simple_regret_approx_15[slice24],\n",
        "       simple_regret_approx_16[slice24],\n",
        "       simple_regret_approx_17[slice24],\n",
        "       simple_regret_approx_18[slice24],\n",
        "       simple_regret_approx_19[slice24],\n",
        "       simple_regret_approx_20[slice24]]\n",
        "\n",
        "exact24 = [simple_regret_exact_1[slice24],\n",
        "       simple_regret_exact_2[slice24],\n",
        "       simple_regret_exact_3[slice24],\n",
        "       simple_regret_exact_4[slice24],\n",
        "       simple_regret_exact_5[slice24],\n",
        "       simple_regret_exact_6[slice24],\n",
        "       simple_regret_exact_7[slice24],\n",
        "       simple_regret_exact_8[slice24],\n",
        "       simple_regret_exact_9[slice24],\n",
        "       simple_regret_exact_10[slice24],\n",
        "       simple_regret_exact_11[slice24],\n",
        "       simple_regret_exact_12[slice24],\n",
        "       simple_regret_exact_13[slice24],\n",
        "       simple_regret_exact_14[slice24],\n",
        "       simple_regret_exact_15[slice24],\n",
        "       simple_regret_exact_16[slice24],\n",
        "       simple_regret_exact_17[slice24],\n",
        "       simple_regret_exact_18[slice24],\n",
        "       simple_regret_exact_19[slice24],\n",
        "       simple_regret_exact_20[slice24]]\n",
        "\n",
        "approx24_results = pd.DataFrame(approx24).sort_values(by=[0], ascending=False)\n",
        "exact24_results = pd.DataFrame(exact24).sort_values(by=[0], ascending=False)\n",
        "\n",
        "### Best simple regret minimization IQR - approx:\n",
        "lower_approx24 = np.asarray(approx24_results[4:5][0])[0]\n",
        "median_approx24 = np.asarray(approx24_results[9:10][0])[0]\n",
        "upper_approx24 = np.asarray(approx24_results[14:15][0])[0]\n",
        "\n",
        "lower_exact24 = np.asarray(exact24_results[4:5][0])[0]\n",
        "median_exact24 = np.asarray(exact24_results[9:10][0])[0]\n",
        "upper_exact24 = np.asarray(exact24_results[14:15][0])[0]"
      ],
      "execution_count": null,
      "outputs": []
    },
    {
      "cell_type": "code",
      "metadata": {
        "id": "WkaNBGB9JhBg"
      },
      "source": [
        "# Iteration5 :\n",
        "\n",
        "slice5 = 4\n",
        "\n",
        "approx5 = [simple_regret_approx_1[slice5],\n",
        "       simple_regret_approx_2[slice5],\n",
        "       simple_regret_approx_3[slice5],\n",
        "       simple_regret_approx_4[slice5],\n",
        "       simple_regret_approx_5[slice5],\n",
        "       simple_regret_approx_6[slice5],\n",
        "       simple_regret_approx_7[slice5],\n",
        "       simple_regret_approx_8[slice5],\n",
        "       simple_regret_approx_9[slice5],\n",
        "       simple_regret_approx_10[slice5],\n",
        "       simple_regret_approx_11[slice5],\n",
        "       simple_regret_approx_12[slice5],\n",
        "       simple_regret_approx_13[slice5],\n",
        "       simple_regret_approx_14[slice5],\n",
        "       simple_regret_approx_15[slice5],\n",
        "       simple_regret_approx_16[slice5],\n",
        "       simple_regret_approx_17[slice5],\n",
        "       simple_regret_approx_18[slice5],\n",
        "       simple_regret_approx_19[slice5],\n",
        "       simple_regret_approx_20[slice5]]\n",
        "\n",
        "exact5 = [simple_regret_exact_1[slice5],\n",
        "       simple_regret_exact_2[slice5],\n",
        "       simple_regret_exact_3[slice5],\n",
        "       simple_regret_exact_4[slice5],\n",
        "       simple_regret_exact_5[slice5],\n",
        "       simple_regret_exact_6[slice5],\n",
        "       simple_regret_exact_7[slice5],\n",
        "       simple_regret_exact_8[slice5],\n",
        "       simple_regret_exact_9[slice5],\n",
        "       simple_regret_exact_10[slice5],\n",
        "       simple_regret_exact_11[slice5],\n",
        "       simple_regret_exact_12[slice5],\n",
        "       simple_regret_exact_13[slice5],\n",
        "       simple_regret_exact_14[slice5],\n",
        "       simple_regret_exact_15[slice5],\n",
        "       simple_regret_exact_16[slice5],\n",
        "       simple_regret_exact_17[slice5],\n",
        "       simple_regret_exact_18[slice5],\n",
        "       simple_regret_exact_19[slice5],\n",
        "       simple_regret_exact_20[slice5]]\n",
        "\n",
        "approx5_results = pd.DataFrame(approx5).sort_values(by=[0], ascending=False)\n",
        "exact5_results = pd.DataFrame(exact5).sort_values(by=[0], ascending=False)\n",
        "\n",
        "### Best simple regret minimization IQR - approx:\n",
        "lower_approx5 = np.asarray(approx5_results[4:5][0])[0]\n",
        "median_approx5 = np.asarray(approx5_results[9:10][0])[0]\n",
        "upper_approx5 = np.asarray(approx5_results[14:15][0])[0]\n",
        "\n",
        "lower_exact5 = np.asarray(exact5_results[4:5][0])[0]\n",
        "median_exact5 = np.asarray(exact5_results[9:10][0])[0]\n",
        "upper_exact5 = np.asarray(exact5_results[14:15][0])[0]"
      ],
      "execution_count": null,
      "outputs": []
    },
    {
      "cell_type": "code",
      "metadata": {
        "id": "tb9ICEuOJhBh"
      },
      "source": [
        "# Iteration15 :\n",
        "\n",
        "slice15 = 14\n",
        "\n",
        "approx15 = [simple_regret_approx_1[slice15],\n",
        "       simple_regret_approx_2[slice15],\n",
        "       simple_regret_approx_3[slice15],\n",
        "       simple_regret_approx_4[slice15],\n",
        "       simple_regret_approx_5[slice15],\n",
        "       simple_regret_approx_6[slice15],\n",
        "       simple_regret_approx_7[slice15],\n",
        "       simple_regret_approx_8[slice15],\n",
        "       simple_regret_approx_9[slice15],\n",
        "       simple_regret_approx_10[slice15],\n",
        "       simple_regret_approx_11[slice15],\n",
        "       simple_regret_approx_12[slice15],\n",
        "       simple_regret_approx_13[slice15],\n",
        "       simple_regret_approx_14[slice15],\n",
        "       simple_regret_approx_15[slice15],\n",
        "       simple_regret_approx_16[slice15],\n",
        "       simple_regret_approx_17[slice15],\n",
        "       simple_regret_approx_18[slice15],\n",
        "       simple_regret_approx_19[slice15],\n",
        "       simple_regret_approx_20[slice15]]\n",
        "\n",
        "exact15 = [simple_regret_exact_1[slice15],\n",
        "       simple_regret_exact_2[slice15],\n",
        "       simple_regret_exact_3[slice15],\n",
        "       simple_regret_exact_4[slice15],\n",
        "       simple_regret_exact_5[slice15],\n",
        "       simple_regret_exact_6[slice15],\n",
        "       simple_regret_exact_7[slice15],\n",
        "       simple_regret_exact_8[slice15],\n",
        "       simple_regret_exact_9[slice15],\n",
        "       simple_regret_exact_10[slice15],\n",
        "       simple_regret_exact_11[slice15],\n",
        "       simple_regret_exact_12[slice15],\n",
        "       simple_regret_exact_13[slice15],\n",
        "       simple_regret_exact_14[slice15],\n",
        "       simple_regret_exact_15[slice15],\n",
        "       simple_regret_exact_16[slice15],\n",
        "       simple_regret_exact_17[slice15],\n",
        "       simple_regret_exact_18[slice15],\n",
        "       simple_regret_exact_19[slice15],\n",
        "       simple_regret_exact_20[slice15]]\n",
        "\n",
        "approx15_results = pd.DataFrame(approx15).sort_values(by=[0], ascending=False)\n",
        "exact15_results = pd.DataFrame(exact15).sort_values(by=[0], ascending=False)\n",
        "\n",
        "### Best simple regret minimization IQR - approx:\n",
        "lower_approx15 = np.asarray(approx15_results[4:5][0])[0]\n",
        "median_approx15 = np.asarray(approx15_results[9:10][0])[0]\n",
        "upper_approx15 = np.asarray(approx15_results[14:15][0])[0]\n",
        "\n",
        "lower_exact15 = np.asarray(exact15_results[4:5][0])[0]\n",
        "median_exact15 = np.asarray(exact15_results[9:10][0])[0]\n",
        "upper_exact15 = np.asarray(exact15_results[14:15][0])[0]"
      ],
      "execution_count": null,
      "outputs": []
    },
    {
      "cell_type": "code",
      "metadata": {
        "id": "OiDV2XD6cYAt"
      },
      "source": [
        "# Iteration25 :\n",
        "\n",
        "slice25 = 24\n",
        "\n",
        "approx25 = [simple_regret_approx_1[slice25],\n",
        "       simple_regret_approx_2[slice25],\n",
        "       simple_regret_approx_3[slice25],\n",
        "       simple_regret_approx_4[slice25],\n",
        "       simple_regret_approx_5[slice25],\n",
        "       simple_regret_approx_6[slice25],\n",
        "       simple_regret_approx_7[slice25],\n",
        "       simple_regret_approx_8[slice25],\n",
        "       simple_regret_approx_9[slice25],\n",
        "       simple_regret_approx_10[slice25],\n",
        "       simple_regret_approx_11[slice25],\n",
        "       simple_regret_approx_12[slice25],\n",
        "       simple_regret_approx_13[slice25],\n",
        "       simple_regret_approx_14[slice25],\n",
        "       simple_regret_approx_15[slice25],\n",
        "       simple_regret_approx_16[slice25],\n",
        "       simple_regret_approx_17[slice25],\n",
        "       simple_regret_approx_18[slice25],\n",
        "       simple_regret_approx_19[slice25],\n",
        "       simple_regret_approx_20[slice25]]\n",
        "\n",
        "exact25 = [simple_regret_exact_1[slice25],\n",
        "       simple_regret_exact_2[slice25],\n",
        "       simple_regret_exact_3[slice25],\n",
        "       simple_regret_exact_4[slice25],\n",
        "       simple_regret_exact_5[slice25],\n",
        "       simple_regret_exact_6[slice25],\n",
        "       simple_regret_exact_7[slice25],\n",
        "       simple_regret_exact_8[slice25],\n",
        "       simple_regret_exact_9[slice25],\n",
        "       simple_regret_exact_10[slice25],\n",
        "       simple_regret_exact_11[slice25],\n",
        "       simple_regret_exact_12[slice25],\n",
        "       simple_regret_exact_13[slice25],\n",
        "       simple_regret_exact_14[slice25],\n",
        "       simple_regret_exact_15[slice25],\n",
        "       simple_regret_exact_16[slice25],\n",
        "       simple_regret_exact_17[slice25],\n",
        "       simple_regret_exact_18[slice25],\n",
        "       simple_regret_exact_19[slice25],\n",
        "       simple_regret_exact_20[slice25]]\n",
        "\n",
        "approx25_results = pd.DataFrame(approx25).sort_values(by=[0], ascending=False)\n",
        "exact25_results = pd.DataFrame(exact25).sort_values(by=[0], ascending=False)\n",
        "\n",
        "### Best simple regret minimization IQR - approx:\n",
        "lower_approx25 = np.asarray(approx25_results[4:5][0])[0]\n",
        "median_approx25 = np.asarray(approx25_results[9:10][0])[0]\n",
        "upper_approx25 = np.asarray(approx25_results[14:15][0])[0]\n",
        "\n",
        "lower_exact25 = np.asarray(exact25_results[4:5][0])[0]\n",
        "median_exact25 = np.asarray(exact25_results[9:10][0])[0]\n",
        "upper_exact25 = np.asarray(exact25_results[14:15][0])[0]"
      ],
      "execution_count": null,
      "outputs": []
    },
    {
      "cell_type": "code",
      "metadata": {
        "id": "tcoCxQrvJhBi"
      },
      "source": [
        "# Iteration6 :\n",
        "\n",
        "slice6 = 5\n",
        "\n",
        "approx6 = [simple_regret_approx_1[slice6],\n",
        "       simple_regret_approx_2[slice6],\n",
        "       simple_regret_approx_3[slice6],\n",
        "       simple_regret_approx_4[slice6],\n",
        "       simple_regret_approx_5[slice6],\n",
        "       simple_regret_approx_6[slice6],\n",
        "       simple_regret_approx_7[slice6],\n",
        "       simple_regret_approx_8[slice6],\n",
        "       simple_regret_approx_9[slice6],\n",
        "       simple_regret_approx_10[slice6],\n",
        "       simple_regret_approx_11[slice6],\n",
        "       simple_regret_approx_12[slice6],\n",
        "       simple_regret_approx_13[slice6],\n",
        "       simple_regret_approx_14[slice6],\n",
        "       simple_regret_approx_15[slice6],\n",
        "       simple_regret_approx_16[slice6],\n",
        "       simple_regret_approx_17[slice6],\n",
        "       simple_regret_approx_18[slice6],\n",
        "       simple_regret_approx_19[slice6],\n",
        "       simple_regret_approx_20[slice6]]\n",
        "\n",
        "exact6 = [simple_regret_exact_1[slice6],\n",
        "       simple_regret_exact_2[slice6],\n",
        "       simple_regret_exact_3[slice6],\n",
        "       simple_regret_exact_4[slice6],\n",
        "       simple_regret_exact_5[slice6],\n",
        "       simple_regret_exact_6[slice6],\n",
        "       simple_regret_exact_7[slice6],\n",
        "       simple_regret_exact_8[slice6],\n",
        "       simple_regret_exact_9[slice6],\n",
        "       simple_regret_exact_10[slice6],\n",
        "       simple_regret_exact_11[slice6],\n",
        "       simple_regret_exact_12[slice6],\n",
        "       simple_regret_exact_13[slice6],\n",
        "       simple_regret_exact_14[slice6],\n",
        "       simple_regret_exact_15[slice6],\n",
        "       simple_regret_exact_16[slice6],\n",
        "       simple_regret_exact_17[slice6],\n",
        "       simple_regret_exact_18[slice6],\n",
        "       simple_regret_exact_19[slice6],\n",
        "       simple_regret_exact_20[slice6]]\n",
        "\n",
        "approx6_results = pd.DataFrame(approx6).sort_values(by=[0], ascending=False)\n",
        "exact6_results = pd.DataFrame(exact6).sort_values(by=[0], ascending=False)\n",
        "\n",
        "### Best simple regret minimization IQR - approx:\n",
        "lower_approx6 = np.asarray(approx6_results[4:5][0])[0]\n",
        "median_approx6 = np.asarray(approx6_results[9:10][0])[0]\n",
        "upper_approx6 = np.asarray(approx6_results[14:15][0])[0]\n",
        "\n",
        "lower_exact6 = np.asarray(exact6_results[4:5][0])[0]\n",
        "median_exact6 = np.asarray(exact6_results[9:10][0])[0]\n",
        "upper_exact6 = np.asarray(exact6_results[14:15][0])[0]"
      ],
      "execution_count": null,
      "outputs": []
    },
    {
      "cell_type": "code",
      "metadata": {
        "id": "bM_uWU2HJhBi"
      },
      "source": [
        "# Iteration16 :\n",
        "\n",
        "slice16 = 15\n",
        "\n",
        "approx16 = [simple_regret_approx_1[slice16],\n",
        "       simple_regret_approx_2[slice16],\n",
        "       simple_regret_approx_3[slice16],\n",
        "       simple_regret_approx_4[slice16],\n",
        "       simple_regret_approx_5[slice16],\n",
        "       simple_regret_approx_6[slice16],\n",
        "       simple_regret_approx_7[slice16],\n",
        "       simple_regret_approx_8[slice16],\n",
        "       simple_regret_approx_9[slice16],\n",
        "       simple_regret_approx_10[slice16],\n",
        "       simple_regret_approx_11[slice16],\n",
        "       simple_regret_approx_12[slice16],\n",
        "       simple_regret_approx_13[slice16],\n",
        "       simple_regret_approx_14[slice16],\n",
        "       simple_regret_approx_15[slice16],\n",
        "       simple_regret_approx_16[slice16],\n",
        "       simple_regret_approx_17[slice16],\n",
        "       simple_regret_approx_18[slice16],\n",
        "       simple_regret_approx_19[slice16],\n",
        "       simple_regret_approx_20[slice16]]\n",
        "\n",
        "exact16 = [simple_regret_exact_1[slice16],\n",
        "       simple_regret_exact_2[slice16],\n",
        "       simple_regret_exact_3[slice16],\n",
        "       simple_regret_exact_4[slice16],\n",
        "       simple_regret_exact_5[slice16],\n",
        "       simple_regret_exact_6[slice16],\n",
        "       simple_regret_exact_7[slice16],\n",
        "       simple_regret_exact_8[slice16],\n",
        "       simple_regret_exact_9[slice16],\n",
        "       simple_regret_exact_10[slice16],\n",
        "       simple_regret_exact_11[slice16],\n",
        "       simple_regret_exact_12[slice16],\n",
        "       simple_regret_exact_13[slice16],\n",
        "       simple_regret_exact_14[slice16],\n",
        "       simple_regret_exact_15[slice16],\n",
        "       simple_regret_exact_16[slice16],\n",
        "       simple_regret_exact_17[slice16],\n",
        "       simple_regret_exact_18[slice16],\n",
        "       simple_regret_exact_19[slice16],\n",
        "       simple_regret_exact_20[slice16]]\n",
        "\n",
        "approx16_results = pd.DataFrame(approx16).sort_values(by=[0], ascending=False)\n",
        "exact16_results = pd.DataFrame(exact16).sort_values(by=[0], ascending=False)\n",
        "\n",
        "### Best simple regret minimization IQR - approx:\n",
        "lower_approx16 = np.asarray(approx16_results[4:5][0])[0]\n",
        "median_approx16 = np.asarray(approx16_results[9:10][0])[0]\n",
        "upper_approx16 = np.asarray(approx16_results[14:15][0])[0]\n",
        "\n",
        "lower_exact16 = np.asarray(exact16_results[4:5][0])[0]\n",
        "median_exact16 = np.asarray(exact16_results[9:10][0])[0]\n",
        "upper_exact16 = np.asarray(exact16_results[14:15][0])[0]"
      ],
      "execution_count": null,
      "outputs": []
    },
    {
      "cell_type": "code",
      "metadata": {
        "id": "LJTTDX12cs-4"
      },
      "source": [
        "# Iteration26 :\n",
        "\n",
        "slice26 = 25\n",
        "\n",
        "approx26 = [simple_regret_approx_1[slice26],\n",
        "       simple_regret_approx_2[slice26],\n",
        "       simple_regret_approx_3[slice26],\n",
        "       simple_regret_approx_4[slice26],\n",
        "       simple_regret_approx_5[slice26],\n",
        "       simple_regret_approx_6[slice26],\n",
        "       simple_regret_approx_7[slice26],\n",
        "       simple_regret_approx_8[slice26],\n",
        "       simple_regret_approx_9[slice26],\n",
        "       simple_regret_approx_10[slice26],\n",
        "       simple_regret_approx_11[slice26],\n",
        "       simple_regret_approx_12[slice26],\n",
        "       simple_regret_approx_13[slice26],\n",
        "       simple_regret_approx_14[slice26],\n",
        "       simple_regret_approx_15[slice26],\n",
        "       simple_regret_approx_16[slice26],\n",
        "       simple_regret_approx_17[slice26],\n",
        "       simple_regret_approx_18[slice26],\n",
        "       simple_regret_approx_19[slice26],\n",
        "       simple_regret_approx_20[slice26]]\n",
        "\n",
        "exact26 = [simple_regret_exact_1[slice26],\n",
        "       simple_regret_exact_2[slice26],\n",
        "       simple_regret_exact_3[slice26],\n",
        "       simple_regret_exact_4[slice26],\n",
        "       simple_regret_exact_5[slice26],\n",
        "       simple_regret_exact_6[slice26],\n",
        "       simple_regret_exact_7[slice26],\n",
        "       simple_regret_exact_8[slice26],\n",
        "       simple_regret_exact_9[slice26],\n",
        "       simple_regret_exact_10[slice26],\n",
        "       simple_regret_exact_11[slice26],\n",
        "       simple_regret_exact_12[slice26],\n",
        "       simple_regret_exact_13[slice26],\n",
        "       simple_regret_exact_14[slice26],\n",
        "       simple_regret_exact_15[slice26],\n",
        "       simple_regret_exact_16[slice26],\n",
        "       simple_regret_exact_17[slice26],\n",
        "       simple_regret_exact_18[slice26],\n",
        "       simple_regret_exact_19[slice26],\n",
        "       simple_regret_exact_20[slice26]]\n",
        "\n",
        "approx26_results = pd.DataFrame(approx26).sort_values(by=[0], ascending=False)\n",
        "exact26_results = pd.DataFrame(exact26).sort_values(by=[0], ascending=False)\n",
        "\n",
        "### Best simple regret minimization IQR - approx:\n",
        "lower_approx26 = np.asarray(approx26_results[4:5][0])[0]\n",
        "median_approx26 = np.asarray(approx26_results[9:10][0])[0]\n",
        "upper_approx26 = np.asarray(approx26_results[14:15][0])[0]\n",
        "\n",
        "lower_exact26 = np.asarray(exact26_results[4:5][0])[0]\n",
        "median_exact26 = np.asarray(exact26_results[9:10][0])[0]\n",
        "upper_exact26 = np.asarray(exact26_results[14:15][0])[0]"
      ],
      "execution_count": null,
      "outputs": []
    },
    {
      "cell_type": "code",
      "metadata": {
        "id": "e7_CnIe5JhBj"
      },
      "source": [
        "# Iteration7 :\n",
        "\n",
        "slice7 = 6\n",
        "\n",
        "approx7 = [simple_regret_approx_1[slice7],\n",
        "       simple_regret_approx_2[slice7],\n",
        "       simple_regret_approx_3[slice7],\n",
        "       simple_regret_approx_4[slice7],\n",
        "       simple_regret_approx_5[slice7],\n",
        "       simple_regret_approx_6[slice7],\n",
        "       simple_regret_approx_7[slice7],\n",
        "       simple_regret_approx_8[slice7],\n",
        "       simple_regret_approx_9[slice7],\n",
        "       simple_regret_approx_10[slice7],\n",
        "       simple_regret_approx_11[slice7],\n",
        "       simple_regret_approx_12[slice7],\n",
        "       simple_regret_approx_13[slice7],\n",
        "       simple_regret_approx_14[slice7],\n",
        "       simple_regret_approx_15[slice7],\n",
        "       simple_regret_approx_16[slice7],\n",
        "       simple_regret_approx_17[slice7],\n",
        "       simple_regret_approx_18[slice7],\n",
        "       simple_regret_approx_19[slice7],\n",
        "       simple_regret_approx_20[slice7]]\n",
        "\n",
        "exact7 = [simple_regret_exact_1[slice7],\n",
        "       simple_regret_exact_2[slice7],\n",
        "       simple_regret_exact_3[slice7],\n",
        "       simple_regret_exact_4[slice7],\n",
        "       simple_regret_exact_5[slice7],\n",
        "       simple_regret_exact_6[slice7],\n",
        "       simple_regret_exact_7[slice7],\n",
        "       simple_regret_exact_8[slice7],\n",
        "       simple_regret_exact_9[slice7],\n",
        "       simple_regret_exact_10[slice7],\n",
        "       simple_regret_exact_11[slice7],\n",
        "       simple_regret_exact_12[slice7],\n",
        "       simple_regret_exact_13[slice7],\n",
        "       simple_regret_exact_14[slice7],\n",
        "       simple_regret_exact_15[slice7],\n",
        "       simple_regret_exact_16[slice7],\n",
        "       simple_regret_exact_17[slice7],\n",
        "       simple_regret_exact_18[slice7],\n",
        "       simple_regret_exact_19[slice7],\n",
        "       simple_regret_exact_20[slice7]]\n",
        "\n",
        "approx7_results = pd.DataFrame(approx7).sort_values(by=[0], ascending=False)\n",
        "exact7_results = pd.DataFrame(exact7).sort_values(by=[0], ascending=False)\n",
        "\n",
        "### Best simple regret minimization IQR - approx:\n",
        "lower_approx7 = np.asarray(approx7_results[4:5][0])[0]\n",
        "median_approx7 = np.asarray(approx7_results[9:10][0])[0]\n",
        "upper_approx7 = np.asarray(approx7_results[14:15][0])[0]\n",
        "\n",
        "lower_exact7 = np.asarray(exact7_results[4:5][0])[0]\n",
        "median_exact7 = np.asarray(exact7_results[9:10][0])[0]\n",
        "upper_exact7 = np.asarray(exact7_results[14:15][0])[0]"
      ],
      "execution_count": null,
      "outputs": []
    },
    {
      "cell_type": "code",
      "metadata": {
        "id": "GfheCfteJhBk"
      },
      "source": [
        "# Iteration17 :\n",
        "\n",
        "slice17 = 16\n",
        "\n",
        "approx17 = [simple_regret_approx_1[slice17],\n",
        "       simple_regret_approx_2[slice17],\n",
        "       simple_regret_approx_3[slice17],\n",
        "       simple_regret_approx_4[slice17],\n",
        "       simple_regret_approx_5[slice17],\n",
        "       simple_regret_approx_6[slice17],\n",
        "       simple_regret_approx_7[slice17],\n",
        "       simple_regret_approx_8[slice17],\n",
        "       simple_regret_approx_9[slice17],\n",
        "       simple_regret_approx_10[slice17],\n",
        "       simple_regret_approx_11[slice17],\n",
        "       simple_regret_approx_12[slice17],\n",
        "       simple_regret_approx_13[slice17],\n",
        "       simple_regret_approx_14[slice17],\n",
        "       simple_regret_approx_15[slice17],\n",
        "       simple_regret_approx_16[slice17],\n",
        "       simple_regret_approx_17[slice17],\n",
        "       simple_regret_approx_18[slice17],\n",
        "       simple_regret_approx_19[slice17],\n",
        "       simple_regret_approx_20[slice17]]\n",
        "\n",
        "exact17 = [simple_regret_exact_1[slice17],\n",
        "       simple_regret_exact_2[slice17],\n",
        "       simple_regret_exact_3[slice17],\n",
        "       simple_regret_exact_4[slice17],\n",
        "       simple_regret_exact_5[slice17],\n",
        "       simple_regret_exact_6[slice17],\n",
        "       simple_regret_exact_7[slice17],\n",
        "       simple_regret_exact_8[slice17],\n",
        "       simple_regret_exact_9[slice17],\n",
        "       simple_regret_exact_10[slice17],\n",
        "       simple_regret_exact_11[slice17],\n",
        "       simple_regret_exact_12[slice17],\n",
        "       simple_regret_exact_13[slice17],\n",
        "       simple_regret_exact_14[slice17],\n",
        "       simple_regret_exact_15[slice17],\n",
        "       simple_regret_exact_16[slice17],\n",
        "       simple_regret_exact_17[slice17],\n",
        "       simple_regret_exact_18[slice17],\n",
        "       simple_regret_exact_19[slice17],\n",
        "       simple_regret_exact_20[slice17]]\n",
        "\n",
        "approx17_results = pd.DataFrame(approx17).sort_values(by=[0], ascending=False)\n",
        "exact17_results = pd.DataFrame(exact17).sort_values(by=[0], ascending=False)\n",
        "\n",
        "### Best simple regret minimization IQR - approx:\n",
        "lower_approx17 = np.asarray(approx17_results[4:5][0])[0]\n",
        "median_approx17 = np.asarray(approx17_results[9:10][0])[0]\n",
        "upper_approx17 = np.asarray(approx17_results[14:15][0])[0]\n",
        "\n",
        "lower_exact17 = np.asarray(exact17_results[4:5][0])[0]\n",
        "median_exact17 = np.asarray(exact17_results[9:10][0])[0]\n",
        "upper_exact17 = np.asarray(exact17_results[14:15][0])[0]"
      ],
      "execution_count": null,
      "outputs": []
    },
    {
      "cell_type": "code",
      "metadata": {
        "id": "qLNJO_U1dE_Q"
      },
      "source": [
        "# Iteration27 :\n",
        "\n",
        "slice27 = 26\n",
        "\n",
        "approx27 = [simple_regret_approx_1[slice27],\n",
        "       simple_regret_approx_2[slice27],\n",
        "       simple_regret_approx_3[slice27],\n",
        "       simple_regret_approx_4[slice27],\n",
        "       simple_regret_approx_5[slice27],\n",
        "       simple_regret_approx_6[slice27],\n",
        "       simple_regret_approx_7[slice27],\n",
        "       simple_regret_approx_8[slice27],\n",
        "       simple_regret_approx_9[slice27],\n",
        "       simple_regret_approx_10[slice27],\n",
        "       simple_regret_approx_11[slice27],\n",
        "       simple_regret_approx_12[slice27],\n",
        "       simple_regret_approx_13[slice27],\n",
        "       simple_regret_approx_14[slice27],\n",
        "       simple_regret_approx_15[slice27],\n",
        "       simple_regret_approx_16[slice27],\n",
        "       simple_regret_approx_17[slice27],\n",
        "       simple_regret_approx_18[slice27],\n",
        "       simple_regret_approx_19[slice27],\n",
        "       simple_regret_approx_20[slice27]]\n",
        "\n",
        "exact27 = [simple_regret_exact_1[slice27],\n",
        "       simple_regret_exact_2[slice27],\n",
        "       simple_regret_exact_3[slice27],\n",
        "       simple_regret_exact_4[slice27],\n",
        "       simple_regret_exact_5[slice27],\n",
        "       simple_regret_exact_6[slice27],\n",
        "       simple_regret_exact_7[slice27],\n",
        "       simple_regret_exact_8[slice27],\n",
        "       simple_regret_exact_9[slice27],\n",
        "       simple_regret_exact_10[slice27],\n",
        "       simple_regret_exact_11[slice27],\n",
        "       simple_regret_exact_12[slice27],\n",
        "       simple_regret_exact_13[slice27],\n",
        "       simple_regret_exact_14[slice27],\n",
        "       simple_regret_exact_15[slice27],\n",
        "       simple_regret_exact_16[slice27],\n",
        "       simple_regret_exact_17[slice27],\n",
        "       simple_regret_exact_18[slice27],\n",
        "       simple_regret_exact_19[slice27],\n",
        "       simple_regret_exact_20[slice27]]\n",
        "\n",
        "approx27_results = pd.DataFrame(approx27).sort_values(by=[0], ascending=False)\n",
        "exact27_results = pd.DataFrame(exact27).sort_values(by=[0], ascending=False)\n",
        "\n",
        "### Best simple regret minimization IQR - approx:\n",
        "lower_approx27 = np.asarray(approx27_results[4:5][0])[0]\n",
        "median_approx27 = np.asarray(approx27_results[9:10][0])[0]\n",
        "upper_approx27 = np.asarray(approx27_results[14:15][0])[0]\n",
        "\n",
        "lower_exact27 = np.asarray(exact27_results[4:5][0])[0]\n",
        "median_exact27 = np.asarray(exact27_results[9:10][0])[0]\n",
        "upper_exact27 = np.asarray(exact27_results[14:15][0])[0]"
      ],
      "execution_count": null,
      "outputs": []
    },
    {
      "cell_type": "code",
      "metadata": {
        "id": "zOm21ADKJhBl"
      },
      "source": [
        "# Iteration8 :\n",
        "\n",
        "slice8 = 7\n",
        "\n",
        "approx8 = [simple_regret_approx_1[slice8],\n",
        "       simple_regret_approx_2[slice8],\n",
        "       simple_regret_approx_3[slice8],\n",
        "       simple_regret_approx_4[slice8],\n",
        "       simple_regret_approx_5[slice8],\n",
        "       simple_regret_approx_6[slice8],\n",
        "       simple_regret_approx_7[slice8],\n",
        "       simple_regret_approx_8[slice8],\n",
        "       simple_regret_approx_9[slice8],\n",
        "       simple_regret_approx_10[slice8],\n",
        "       simple_regret_approx_11[slice8],\n",
        "       simple_regret_approx_12[slice8],\n",
        "       simple_regret_approx_13[slice8],\n",
        "       simple_regret_approx_14[slice8],\n",
        "       simple_regret_approx_15[slice8],\n",
        "       simple_regret_approx_16[slice8],\n",
        "       simple_regret_approx_17[slice8],\n",
        "       simple_regret_approx_18[slice8],\n",
        "       simple_regret_approx_19[slice8],\n",
        "       simple_regret_approx_20[slice8]]\n",
        "\n",
        "exact8 = [simple_regret_exact_1[slice8],\n",
        "       simple_regret_exact_2[slice8],\n",
        "       simple_regret_exact_3[slice8],\n",
        "       simple_regret_exact_4[slice8],\n",
        "       simple_regret_exact_5[slice8],\n",
        "       simple_regret_exact_6[slice8],\n",
        "       simple_regret_exact_7[slice8],\n",
        "       simple_regret_exact_8[slice8],\n",
        "       simple_regret_exact_9[slice8],\n",
        "       simple_regret_exact_10[slice8],\n",
        "       simple_regret_exact_11[slice8],\n",
        "       simple_regret_exact_12[slice8],\n",
        "       simple_regret_exact_13[slice8],\n",
        "       simple_regret_exact_14[slice8],\n",
        "       simple_regret_exact_15[slice8],\n",
        "       simple_regret_exact_16[slice8],\n",
        "       simple_regret_exact_17[slice8],\n",
        "       simple_regret_exact_18[slice8],\n",
        "       simple_regret_exact_19[slice8],\n",
        "       simple_regret_exact_20[slice8]]\n",
        "\n",
        "approx8_results = pd.DataFrame(approx8).sort_values(by=[0], ascending=False)\n",
        "exact8_results = pd.DataFrame(exact8).sort_values(by=[0], ascending=False)\n",
        "\n",
        "### Best simple regret minimization IQR - approx:\n",
        "lower_approx8 = np.asarray(approx8_results[4:5][0])[0]\n",
        "median_approx8 = np.asarray(approx8_results[9:10][0])[0]\n",
        "upper_approx8 = np.asarray(approx8_results[14:15][0])[0]\n",
        "\n",
        "lower_exact8 = np.asarray(exact8_results[4:5][0])[0]\n",
        "median_exact8 = np.asarray(exact8_results[9:10][0])[0]\n",
        "upper_exact8 = np.asarray(exact8_results[14:15][0])[0]"
      ],
      "execution_count": null,
      "outputs": []
    },
    {
      "cell_type": "code",
      "metadata": {
        "id": "230iMI5jJhBl"
      },
      "source": [
        "# Iteration18 :\n",
        "\n",
        "slice18 = 17\n",
        "\n",
        "approx18 = [simple_regret_approx_1[slice18],\n",
        "       simple_regret_approx_2[slice18],\n",
        "       simple_regret_approx_3[slice18],\n",
        "       simple_regret_approx_4[slice18],\n",
        "       simple_regret_approx_5[slice18],\n",
        "       simple_regret_approx_6[slice18],\n",
        "       simple_regret_approx_7[slice18],\n",
        "       simple_regret_approx_8[slice18],\n",
        "       simple_regret_approx_9[slice18],\n",
        "       simple_regret_approx_10[slice18],\n",
        "       simple_regret_approx_11[slice18],\n",
        "       simple_regret_approx_12[slice18],\n",
        "       simple_regret_approx_13[slice18],\n",
        "       simple_regret_approx_14[slice18],\n",
        "       simple_regret_approx_15[slice18],\n",
        "       simple_regret_approx_16[slice18],\n",
        "       simple_regret_approx_17[slice18],\n",
        "       simple_regret_approx_18[slice18],\n",
        "       simple_regret_approx_19[slice18],\n",
        "       simple_regret_approx_20[slice18]]\n",
        "\n",
        "exact18 = [simple_regret_exact_1[slice18],\n",
        "       simple_regret_exact_2[slice18],\n",
        "       simple_regret_exact_3[slice18],\n",
        "       simple_regret_exact_4[slice18],\n",
        "       simple_regret_exact_5[slice18],\n",
        "       simple_regret_exact_6[slice18],\n",
        "       simple_regret_exact_7[slice18],\n",
        "       simple_regret_exact_8[slice18],\n",
        "       simple_regret_exact_9[slice18],\n",
        "       simple_regret_exact_10[slice18],\n",
        "       simple_regret_exact_11[slice18],\n",
        "       simple_regret_exact_12[slice18],\n",
        "       simple_regret_exact_13[slice18],\n",
        "       simple_regret_exact_14[slice18],\n",
        "       simple_regret_exact_15[slice18],\n",
        "       simple_regret_exact_16[slice18],\n",
        "       simple_regret_exact_17[slice18],\n",
        "       simple_regret_exact_18[slice18],\n",
        "       simple_regret_exact_19[slice18],\n",
        "       simple_regret_exact_20[slice18]]\n",
        "\n",
        "approx18_results = pd.DataFrame(approx18).sort_values(by=[0], ascending=False)\n",
        "exact18_results = pd.DataFrame(exact18).sort_values(by=[0], ascending=False)\n",
        "\n",
        "### Best simple regret minimization IQR - approx:\n",
        "lower_approx18 = np.asarray(approx18_results[4:5][0])[0]\n",
        "median_approx18 = np.asarray(approx18_results[9:10][0])[0]\n",
        "upper_approx18 = np.asarray(approx18_results[14:15][0])[0]\n",
        "\n",
        "lower_exact18 = np.asarray(exact18_results[4:5][0])[0]\n",
        "median_exact18 = np.asarray(exact18_results[9:10][0])[0]\n",
        "upper_exact18 = np.asarray(exact18_results[14:15][0])[0]"
      ],
      "execution_count": null,
      "outputs": []
    },
    {
      "cell_type": "code",
      "metadata": {
        "id": "5KUd4afKdgT6"
      },
      "source": [
        "# Iteration28 :\n",
        "\n",
        "slice28 = 27\n",
        "\n",
        "approx28 = [simple_regret_approx_1[slice28],\n",
        "       simple_regret_approx_2[slice28],\n",
        "       simple_regret_approx_3[slice28],\n",
        "       simple_regret_approx_4[slice28],\n",
        "       simple_regret_approx_5[slice28],\n",
        "       simple_regret_approx_6[slice28],\n",
        "       simple_regret_approx_7[slice28],\n",
        "       simple_regret_approx_8[slice28],\n",
        "       simple_regret_approx_9[slice28],\n",
        "       simple_regret_approx_10[slice28],\n",
        "       simple_regret_approx_11[slice28],\n",
        "       simple_regret_approx_12[slice28],\n",
        "       simple_regret_approx_13[slice28],\n",
        "       simple_regret_approx_14[slice28],\n",
        "       simple_regret_approx_15[slice28],\n",
        "       simple_regret_approx_16[slice28],\n",
        "       simple_regret_approx_17[slice28],\n",
        "       simple_regret_approx_18[slice28],\n",
        "       simple_regret_approx_19[slice28],\n",
        "       simple_regret_approx_20[slice28]]\n",
        "\n",
        "exact28 = [simple_regret_exact_1[slice28],\n",
        "       simple_regret_exact_2[slice28],\n",
        "       simple_regret_exact_3[slice28],\n",
        "       simple_regret_exact_4[slice28],\n",
        "       simple_regret_exact_5[slice28],\n",
        "       simple_regret_exact_6[slice28],\n",
        "       simple_regret_exact_7[slice28],\n",
        "       simple_regret_exact_8[slice28],\n",
        "       simple_regret_exact_9[slice28],\n",
        "       simple_regret_exact_10[slice28],\n",
        "       simple_regret_exact_11[slice28],\n",
        "       simple_regret_exact_12[slice28],\n",
        "       simple_regret_exact_13[slice28],\n",
        "       simple_regret_exact_14[slice28],\n",
        "       simple_regret_exact_15[slice28],\n",
        "       simple_regret_exact_16[slice28],\n",
        "       simple_regret_exact_17[slice28],\n",
        "       simple_regret_exact_18[slice28],\n",
        "       simple_regret_exact_19[slice28],\n",
        "       simple_regret_exact_20[slice28]]\n",
        "\n",
        "approx28_results = pd.DataFrame(approx28).sort_values(by=[0], ascending=False)\n",
        "exact28_results = pd.DataFrame(exact28).sort_values(by=[0], ascending=False)\n",
        "\n",
        "### Best simple regret minimization IQR - approx:\n",
        "lower_approx28 = np.asarray(approx28_results[4:5][0])[0]\n",
        "median_approx28 = np.asarray(approx28_results[9:10][0])[0]\n",
        "upper_approx28 = np.asarray(approx28_results[14:15][0])[0]\n",
        "\n",
        "lower_exact28 = np.asarray(exact28_results[4:5][0])[0]\n",
        "median_exact28 = np.asarray(exact28_results[9:10][0])[0]\n",
        "upper_exact28 = np.asarray(exact28_results[14:15][0])[0]"
      ],
      "execution_count": null,
      "outputs": []
    },
    {
      "cell_type": "code",
      "metadata": {
        "id": "AR2mg161JhBm"
      },
      "source": [
        "# Iteration9 :\n",
        "\n",
        "slice9 = 8\n",
        "\n",
        "approx9 = [simple_regret_approx_1[slice9],\n",
        "       simple_regret_approx_2[slice9],\n",
        "       simple_regret_approx_3[slice9],\n",
        "       simple_regret_approx_4[slice9],\n",
        "       simple_regret_approx_5[slice9],\n",
        "       simple_regret_approx_6[slice9],\n",
        "       simple_regret_approx_7[slice9],\n",
        "       simple_regret_approx_8[slice9],\n",
        "       simple_regret_approx_9[slice9],\n",
        "       simple_regret_approx_10[slice9],\n",
        "       simple_regret_approx_11[slice9],\n",
        "       simple_regret_approx_12[slice9],\n",
        "       simple_regret_approx_13[slice9],\n",
        "       simple_regret_approx_14[slice9],\n",
        "       simple_regret_approx_15[slice9],\n",
        "       simple_regret_approx_16[slice9],\n",
        "       simple_regret_approx_17[slice9],\n",
        "       simple_regret_approx_18[slice9],\n",
        "       simple_regret_approx_19[slice9],\n",
        "       simple_regret_approx_20[slice9]]\n",
        "\n",
        "exact9 = [simple_regret_exact_1[slice9],\n",
        "       simple_regret_exact_2[slice9],\n",
        "       simple_regret_exact_3[slice9],\n",
        "       simple_regret_exact_4[slice9],\n",
        "       simple_regret_exact_5[slice9],\n",
        "       simple_regret_exact_6[slice9],\n",
        "       simple_regret_exact_7[slice9],\n",
        "       simple_regret_exact_8[slice9],\n",
        "       simple_regret_exact_9[slice9],\n",
        "       simple_regret_exact_10[slice9],\n",
        "       simple_regret_exact_11[slice9],\n",
        "       simple_regret_exact_12[slice9],\n",
        "       simple_regret_exact_13[slice9],\n",
        "       simple_regret_exact_14[slice9],\n",
        "       simple_regret_exact_15[slice9],\n",
        "       simple_regret_exact_16[slice9],\n",
        "       simple_regret_exact_17[slice9],\n",
        "       simple_regret_exact_18[slice9],\n",
        "       simple_regret_exact_19[slice9],\n",
        "       simple_regret_exact_20[slice9]]\n",
        "\n",
        "approx9_results = pd.DataFrame(approx9).sort_values(by=[0], ascending=False)\n",
        "exact9_results = pd.DataFrame(exact9).sort_values(by=[0], ascending=False)\n",
        "\n",
        "### Best simple regret minimization IQR - approx:\n",
        "lower_approx9 = np.asarray(approx9_results[4:5][0])[0]\n",
        "median_approx9 = np.asarray(approx9_results[9:10][0])[0]\n",
        "upper_approx9 = np.asarray(approx9_results[14:15][0])[0]\n",
        "\n",
        "lower_exact9 = np.asarray(exact9_results[4:5][0])[0]\n",
        "median_exact9 = np.asarray(exact9_results[9:10][0])[0]\n",
        "upper_exact9 = np.asarray(exact9_results[14:15][0])[0]"
      ],
      "execution_count": null,
      "outputs": []
    },
    {
      "cell_type": "code",
      "metadata": {
        "id": "sAYcBTpTJhBp"
      },
      "source": [
        "# Iteration19 :\n",
        "\n",
        "slice19 = 18\n",
        "\n",
        "approx19 = [simple_regret_approx_1[slice19],\n",
        "       simple_regret_approx_2[slice19],\n",
        "       simple_regret_approx_3[slice19],\n",
        "       simple_regret_approx_4[slice19],\n",
        "       simple_regret_approx_5[slice19],\n",
        "       simple_regret_approx_6[slice19],\n",
        "       simple_regret_approx_7[slice19],\n",
        "       simple_regret_approx_8[slice19],\n",
        "       simple_regret_approx_9[slice19],\n",
        "       simple_regret_approx_10[slice19],\n",
        "       simple_regret_approx_11[slice19],\n",
        "       simple_regret_approx_12[slice19],\n",
        "       simple_regret_approx_13[slice19],\n",
        "       simple_regret_approx_14[slice19],\n",
        "       simple_regret_approx_15[slice19],\n",
        "       simple_regret_approx_16[slice19],\n",
        "       simple_regret_approx_17[slice19],\n",
        "       simple_regret_approx_18[slice19],\n",
        "       simple_regret_approx_19[slice19],\n",
        "       simple_regret_approx_20[slice19]]\n",
        "\n",
        "exact19 = [simple_regret_exact_1[slice19],\n",
        "       simple_regret_exact_2[slice19],\n",
        "       simple_regret_exact_3[slice19],\n",
        "       simple_regret_exact_4[slice19],\n",
        "       simple_regret_exact_5[slice19],\n",
        "       simple_regret_exact_6[slice19],\n",
        "       simple_regret_exact_7[slice19],\n",
        "       simple_regret_exact_8[slice19],\n",
        "       simple_regret_exact_9[slice19],\n",
        "       simple_regret_exact_10[slice19],\n",
        "       simple_regret_exact_11[slice19],\n",
        "       simple_regret_exact_12[slice19],\n",
        "       simple_regret_exact_13[slice19],\n",
        "       simple_regret_exact_14[slice19],\n",
        "       simple_regret_exact_15[slice19],\n",
        "       simple_regret_exact_16[slice19],\n",
        "       simple_regret_exact_17[slice19],\n",
        "       simple_regret_exact_18[slice19],\n",
        "       simple_regret_exact_19[slice19],\n",
        "       simple_regret_exact_20[slice19]]\n",
        "\n",
        "approx19_results = pd.DataFrame(approx19).sort_values(by=[0], ascending=False)\n",
        "exact19_results = pd.DataFrame(exact19).sort_values(by=[0], ascending=False)\n",
        "\n",
        "### Best simple regret minimization IQR - approx:\n",
        "lower_approx19 = np.asarray(approx19_results[4:5][0])[0]\n",
        "median_approx19 = np.asarray(approx19_results[9:10][0])[0]\n",
        "upper_approx19 = np.asarray(approx19_results[14:15][0])[0]\n",
        "\n",
        "lower_exact19 = np.asarray(exact19_results[4:5][0])[0]\n",
        "median_exact19 = np.asarray(exact19_results[9:10][0])[0]\n",
        "upper_exact19 = np.asarray(exact19_results[14:15][0])[0]"
      ],
      "execution_count": null,
      "outputs": []
    },
    {
      "cell_type": "code",
      "metadata": {
        "id": "yyESs9KHd1vl"
      },
      "source": [
        "# Iteration29 :\n",
        "\n",
        "slice29 = 28\n",
        "\n",
        "approx29 = [simple_regret_approx_1[slice29],\n",
        "       simple_regret_approx_2[slice29],\n",
        "       simple_regret_approx_3[slice29],\n",
        "       simple_regret_approx_4[slice29],\n",
        "       simple_regret_approx_5[slice29],\n",
        "       simple_regret_approx_6[slice29],\n",
        "       simple_regret_approx_7[slice29],\n",
        "       simple_regret_approx_8[slice29],\n",
        "       simple_regret_approx_9[slice29],\n",
        "       simple_regret_approx_10[slice29],\n",
        "       simple_regret_approx_11[slice29],\n",
        "       simple_regret_approx_12[slice29],\n",
        "       simple_regret_approx_13[slice29],\n",
        "       simple_regret_approx_14[slice29],\n",
        "       simple_regret_approx_15[slice29],\n",
        "       simple_regret_approx_16[slice29],\n",
        "       simple_regret_approx_17[slice29],\n",
        "       simple_regret_approx_18[slice29],\n",
        "       simple_regret_approx_19[slice29],\n",
        "       simple_regret_approx_20[slice29]]\n",
        "\n",
        "exact29 = [simple_regret_exact_1[slice29],\n",
        "       simple_regret_exact_2[slice29],\n",
        "       simple_regret_exact_3[slice29],\n",
        "       simple_regret_exact_4[slice29],\n",
        "       simple_regret_exact_5[slice29],\n",
        "       simple_regret_exact_6[slice29],\n",
        "       simple_regret_exact_7[slice29],\n",
        "       simple_regret_exact_8[slice29],\n",
        "       simple_regret_exact_9[slice29],\n",
        "       simple_regret_exact_10[slice29],\n",
        "       simple_regret_exact_11[slice29],\n",
        "       simple_regret_exact_12[slice29],\n",
        "       simple_regret_exact_13[slice29],\n",
        "       simple_regret_exact_14[slice29],\n",
        "       simple_regret_exact_15[slice29],\n",
        "       simple_regret_exact_16[slice29],\n",
        "       simple_regret_exact_17[slice29],\n",
        "       simple_regret_exact_18[slice29],\n",
        "       simple_regret_exact_19[slice29],\n",
        "       simple_regret_exact_20[slice29]]\n",
        "\n",
        "approx29_results = pd.DataFrame(approx29).sort_values(by=[0], ascending=False)\n",
        "exact29_results = pd.DataFrame(exact29).sort_values(by=[0], ascending=False)\n",
        "\n",
        "### Best simple regret minimization IQR - approx:\n",
        "lower_approx29 = np.asarray(approx29_results[4:5][0])[0]\n",
        "median_approx29 = np.asarray(approx29_results[9:10][0])[0]\n",
        "upper_approx29 = np.asarray(approx29_results[14:15][0])[0]\n",
        "\n",
        "lower_exact29 = np.asarray(exact29_results[4:5][0])[0]\n",
        "median_exact29 = np.asarray(exact29_results[9:10][0])[0]\n",
        "upper_exact29 = np.asarray(exact29_results[14:15][0])[0]"
      ],
      "execution_count": null,
      "outputs": []
    },
    {
      "cell_type": "code",
      "metadata": {
        "id": "WWSn_TIsJhBq"
      },
      "source": [
        "# Iteration10 :\n",
        "\n",
        "slice10 = 9\n",
        "\n",
        "approx10 = [simple_regret_approx_1[slice10],\n",
        "       simple_regret_approx_2[slice10],\n",
        "       simple_regret_approx_3[slice10],\n",
        "       simple_regret_approx_4[slice10],\n",
        "       simple_regret_approx_5[slice10],\n",
        "       simple_regret_approx_6[slice10],\n",
        "       simple_regret_approx_7[slice10],\n",
        "       simple_regret_approx_8[slice10],\n",
        "       simple_regret_approx_9[slice10],\n",
        "       simple_regret_approx_10[slice10],\n",
        "       simple_regret_approx_11[slice10],\n",
        "       simple_regret_approx_12[slice10],\n",
        "       simple_regret_approx_13[slice10],\n",
        "       simple_regret_approx_14[slice10],\n",
        "       simple_regret_approx_15[slice10],\n",
        "       simple_regret_approx_16[slice10],\n",
        "       simple_regret_approx_17[slice10],\n",
        "       simple_regret_approx_18[slice10],\n",
        "       simple_regret_approx_19[slice10],\n",
        "       simple_regret_approx_20[slice10]]\n",
        "\n",
        "exact10 = [simple_regret_exact_1[slice10],\n",
        "       simple_regret_exact_2[slice10],\n",
        "       simple_regret_exact_3[slice10],\n",
        "       simple_regret_exact_4[slice10],\n",
        "       simple_regret_exact_5[slice10],\n",
        "       simple_regret_exact_6[slice10],\n",
        "       simple_regret_exact_7[slice10],\n",
        "       simple_regret_exact_8[slice10],\n",
        "       simple_regret_exact_9[slice10],\n",
        "       simple_regret_exact_10[slice10],\n",
        "       simple_regret_exact_11[slice10],\n",
        "       simple_regret_exact_12[slice10],\n",
        "       simple_regret_exact_13[slice10],\n",
        "       simple_regret_exact_14[slice10],\n",
        "       simple_regret_exact_15[slice10],\n",
        "       simple_regret_exact_16[slice10],\n",
        "       simple_regret_exact_17[slice10],\n",
        "       simple_regret_exact_18[slice10],\n",
        "       simple_regret_exact_19[slice10],\n",
        "       simple_regret_exact_20[slice10]]\n",
        "\n",
        "approx10_results = pd.DataFrame(approx10).sort_values(by=[0], ascending=False)\n",
        "exact10_results = pd.DataFrame(exact10).sort_values(by=[0], ascending=False)\n",
        "\n",
        "### Best simple regret minimization IQR - approx:\n",
        "lower_approx10 = np.asarray(approx10_results[4:5][0])[0]\n",
        "median_approx10 = np.asarray(approx10_results[9:10][0])[0]\n",
        "upper_approx10 = np.asarray(approx10_results[14:15][0])[0]\n",
        "\n",
        "lower_exact10 = np.asarray(exact10_results[4:5][0])[0]\n",
        "median_exact10 = np.asarray(exact10_results[9:10][0])[0]\n",
        "upper_exact10 = np.asarray(exact10_results[14:15][0])[0]"
      ],
      "execution_count": null,
      "outputs": []
    },
    {
      "cell_type": "code",
      "metadata": {
        "id": "sMLjJRd5JhBq"
      },
      "source": [
        "# Iteration20 :\n",
        "\n",
        "slice20 = 19\n",
        "\n",
        "approx20 = [simple_regret_approx_1[slice20],\n",
        "       simple_regret_approx_2[slice20],\n",
        "       simple_regret_approx_3[slice20],\n",
        "       simple_regret_approx_4[slice20],\n",
        "       simple_regret_approx_5[slice20],\n",
        "       simple_regret_approx_6[slice20],\n",
        "       simple_regret_approx_7[slice20],\n",
        "       simple_regret_approx_8[slice20],\n",
        "       simple_regret_approx_9[slice20],\n",
        "       simple_regret_approx_10[slice20],\n",
        "       simple_regret_approx_11[slice20],\n",
        "       simple_regret_approx_12[slice20],\n",
        "       simple_regret_approx_13[slice20],\n",
        "       simple_regret_approx_14[slice20],\n",
        "       simple_regret_approx_15[slice20],\n",
        "       simple_regret_approx_16[slice20],\n",
        "       simple_regret_approx_17[slice20],\n",
        "       simple_regret_approx_18[slice20],\n",
        "       simple_regret_approx_19[slice20],\n",
        "       simple_regret_approx_20[slice20]]\n",
        "\n",
        "exact20 = [simple_regret_exact_1[slice20],\n",
        "       simple_regret_exact_2[slice20],\n",
        "       simple_regret_exact_3[slice20],\n",
        "       simple_regret_exact_4[slice20],\n",
        "       simple_regret_exact_5[slice20],\n",
        "       simple_regret_exact_6[slice20],\n",
        "       simple_regret_exact_7[slice20],\n",
        "       simple_regret_exact_8[slice20],\n",
        "       simple_regret_exact_9[slice20],\n",
        "       simple_regret_exact_10[slice20],\n",
        "       simple_regret_exact_11[slice20],\n",
        "       simple_regret_exact_12[slice20],\n",
        "       simple_regret_exact_13[slice20],\n",
        "       simple_regret_exact_14[slice20],\n",
        "       simple_regret_exact_15[slice20],\n",
        "       simple_regret_exact_16[slice20],\n",
        "       simple_regret_exact_17[slice20],\n",
        "       simple_regret_exact_18[slice20],\n",
        "       simple_regret_exact_19[slice20],\n",
        "       simple_regret_exact_20[slice20]]\n",
        "\n",
        "approx20_results = pd.DataFrame(approx20).sort_values(by=[0], ascending=False)\n",
        "exact20_results = pd.DataFrame(exact20).sort_values(by=[0], ascending=False)\n",
        "\n",
        "### Best simple regret minimization IQR - approx:\n",
        "lower_approx20 = np.asarray(approx20_results[4:5][0])[0]\n",
        "median_approx20 = np.asarray(approx20_results[9:10][0])[0]\n",
        "upper_approx20 = np.asarray(approx20_results[14:15][0])[0]\n",
        "\n",
        "lower_exact20 = np.asarray(exact20_results[4:5][0])[0]\n",
        "median_exact20 = np.asarray(exact20_results[9:10][0])[0]\n",
        "upper_exact20 = np.asarray(exact20_results[14:15][0])[0]"
      ],
      "execution_count": null,
      "outputs": []
    },
    {
      "cell_type": "code",
      "metadata": {
        "id": "M0j8Qyp-eKu_"
      },
      "source": [
        "# Iteration30 :\n",
        "\n",
        "slice30 = 29\n",
        "\n",
        "approx30 = [simple_regret_approx_1[slice30],\n",
        "       simple_regret_approx_2[slice30],\n",
        "       simple_regret_approx_3[slice30],\n",
        "       simple_regret_approx_4[slice30],\n",
        "       simple_regret_approx_5[slice30],\n",
        "       simple_regret_approx_6[slice30],\n",
        "       simple_regret_approx_7[slice30],\n",
        "       simple_regret_approx_8[slice30],\n",
        "       simple_regret_approx_9[slice30],\n",
        "       simple_regret_approx_10[slice30],\n",
        "       simple_regret_approx_11[slice30],\n",
        "       simple_regret_approx_12[slice30],\n",
        "       simple_regret_approx_13[slice30],\n",
        "       simple_regret_approx_14[slice30],\n",
        "       simple_regret_approx_15[slice30],\n",
        "       simple_regret_approx_16[slice30],\n",
        "       simple_regret_approx_17[slice30],\n",
        "       simple_regret_approx_18[slice30],\n",
        "       simple_regret_approx_19[slice30],\n",
        "       simple_regret_approx_20[slice30]]\n",
        "\n",
        "exact30 = [simple_regret_exact_1[slice30],\n",
        "       simple_regret_exact_2[slice30],\n",
        "       simple_regret_exact_3[slice30],\n",
        "       simple_regret_exact_4[slice30],\n",
        "       simple_regret_exact_5[slice30],\n",
        "       simple_regret_exact_6[slice30],\n",
        "       simple_regret_exact_7[slice30],\n",
        "       simple_regret_exact_8[slice30],\n",
        "       simple_regret_exact_9[slice30],\n",
        "       simple_regret_exact_10[slice30],\n",
        "       simple_regret_exact_11[slice30],\n",
        "       simple_regret_exact_12[slice30],\n",
        "       simple_regret_exact_13[slice30],\n",
        "       simple_regret_exact_14[slice30],\n",
        "       simple_regret_exact_15[slice30],\n",
        "       simple_regret_exact_16[slice30],\n",
        "       simple_regret_exact_17[slice30],\n",
        "       simple_regret_exact_18[slice30],\n",
        "       simple_regret_exact_19[slice30],\n",
        "       simple_regret_exact_20[slice30]]\n",
        "\n",
        "approx30_results = pd.DataFrame(approx30).sort_values(by=[0], ascending=False)\n",
        "exact30_results = pd.DataFrame(exact30).sort_values(by=[0], ascending=False)\n",
        "\n",
        "### Best simple regret minimization IQR - approx:\n",
        "lower_approx30 = np.asarray(approx30_results[4:5][0])[0]\n",
        "median_approx30 = np.asarray(approx30_results[9:10][0])[0]\n",
        "upper_approx30 = np.asarray(approx30_results[14:15][0])[0]\n",
        "\n",
        "lower_exact30 = np.asarray(exact30_results[4:5][0])[0]\n",
        "median_exact30 = np.asarray(exact30_results[9:10][0])[0]\n",
        "upper_exact30 = np.asarray(exact30_results[14:15][0])[0]"
      ],
      "execution_count": null,
      "outputs": []
    },
    {
      "cell_type": "code",
      "metadata": {
        "id": "N-MMOUFcJhBr"
      },
      "source": [
        "### Summarize arrays: 'Loser'\n",
        "\n",
        "lower_approx = [lower_approx1,\n",
        "            lower_approx2,\n",
        "            lower_approx3,\n",
        "            lower_approx4,\n",
        "            lower_approx5,\n",
        "            lower_approx6,\n",
        "            lower_approx7,\n",
        "            lower_approx8,\n",
        "            lower_approx9,\n",
        "            lower_approx10,\n",
        "            lower_approx11,\n",
        "            lower_approx12,\n",
        "            lower_approx13,\n",
        "            lower_approx14,\n",
        "            lower_approx15,\n",
        "            lower_approx16,\n",
        "            lower_approx17,\n",
        "            lower_approx18,\n",
        "            lower_approx19,\n",
        "            lower_approx20,\n",
        "            lower_approx21,\n",
        "            lower_approx22,\n",
        "            lower_approx23,\n",
        "            lower_approx24,\n",
        "            lower_approx25,\n",
        "            lower_approx26,\n",
        "            lower_approx27,\n",
        "            lower_approx28,\n",
        "            lower_approx29,\n",
        "            lower_approx30,\n",
        "            lower_approx31]\n",
        "\n",
        "median_approx = [median_approx1,\n",
        "            median_approx2,\n",
        "            median_approx3,\n",
        "            median_approx4,\n",
        "            median_approx5,\n",
        "            median_approx6,\n",
        "            median_approx7,\n",
        "            median_approx8,\n",
        "            median_approx9,\n",
        "            median_approx10,\n",
        "            median_approx11,\n",
        "            median_approx12,\n",
        "            median_approx13,\n",
        "            median_approx14,\n",
        "            median_approx15,\n",
        "            median_approx16,\n",
        "            median_approx17,\n",
        "            median_approx18,\n",
        "            median_approx19,\n",
        "            median_approx20,\n",
        "            median_approx21,\n",
        "            median_approx22,\n",
        "            median_approx23,\n",
        "            median_approx24,\n",
        "            median_approx25,\n",
        "            median_approx26,\n",
        "            median_approx27,\n",
        "            median_approx28,\n",
        "            median_approx29,\n",
        "            median_approx30,\n",
        "            median_approx31]\n",
        "\n",
        "upper_approx = [upper_approx1,\n",
        "            upper_approx2,\n",
        "            upper_approx3,\n",
        "            upper_approx4,\n",
        "            upper_approx5,\n",
        "            upper_approx6,\n",
        "            upper_approx7,\n",
        "            upper_approx8,\n",
        "            upper_approx9,\n",
        "            upper_approx10,\n",
        "            upper_approx11,\n",
        "            upper_approx12,\n",
        "            upper_approx13,\n",
        "            upper_approx14,\n",
        "            upper_approx15,\n",
        "            upper_approx16,\n",
        "            upper_approx17,\n",
        "            upper_approx18,\n",
        "            upper_approx19,\n",
        "            upper_approx20,\n",
        "            upper_approx21,\n",
        "            upper_approx22,\n",
        "            upper_approx23,\n",
        "            upper_approx24,\n",
        "            upper_approx25,\n",
        "            upper_approx26,\n",
        "            upper_approx27,\n",
        "            upper_approx28,\n",
        "            upper_approx29,\n",
        "            upper_approx30,\n",
        "            upper_approx31]"
      ],
      "execution_count": null,
      "outputs": []
    },
    {
      "cell_type": "code",
      "metadata": {
        "id": "XdKURkqUJhBs"
      },
      "source": [
        "### Summarize arrays: 'exact'\n",
        "\n",
        "lower_exact = [lower_exact1,\n",
        "            lower_exact2,\n",
        "            lower_exact3,\n",
        "            lower_exact4,\n",
        "            lower_exact5,\n",
        "            lower_exact6,\n",
        "            lower_exact7,\n",
        "            lower_exact8,\n",
        "            lower_exact9,\n",
        "            lower_exact10,\n",
        "            lower_exact11,\n",
        "            lower_exact12,\n",
        "            lower_exact13,\n",
        "            lower_exact14,\n",
        "            lower_exact15,\n",
        "            lower_exact16,\n",
        "            lower_exact17,\n",
        "            lower_exact18,\n",
        "            lower_exact19,\n",
        "            lower_exact20,\n",
        "            lower_exact21,\n",
        "            lower_exact22,\n",
        "            lower_exact23,\n",
        "            lower_exact24,\n",
        "            lower_exact25,\n",
        "            lower_exact26,\n",
        "            lower_exact27,\n",
        "            lower_exact28,\n",
        "            lower_exact29,\n",
        "            lower_exact30,\n",
        "            lower_exact31]\n",
        "\n",
        "median_exact = [median_exact1,\n",
        "            median_exact2,\n",
        "            median_exact3,\n",
        "            median_exact4,\n",
        "            median_exact5,\n",
        "            median_exact6,\n",
        "            median_exact7,\n",
        "            median_exact8,\n",
        "            median_exact9,\n",
        "            median_exact10,\n",
        "            median_exact11,\n",
        "            median_exact12,\n",
        "            median_exact13,\n",
        "            median_exact14,\n",
        "            median_exact15,\n",
        "            median_exact16,\n",
        "            median_exact17,\n",
        "            median_exact18,\n",
        "            median_exact19,\n",
        "            median_exact20,\n",
        "            median_exact21,\n",
        "            median_exact22,\n",
        "            median_exact23,\n",
        "            median_exact24,\n",
        "            median_exact25,\n",
        "            median_exact26,\n",
        "            median_exact27,\n",
        "            median_exact28,\n",
        "            median_exact29,\n",
        "            median_exact30,\n",
        "            median_exact31]\n",
        "\n",
        "upper_exact = [upper_exact1,\n",
        "            upper_exact2,\n",
        "            upper_exact3,\n",
        "            upper_exact4,\n",
        "            upper_exact5,\n",
        "            upper_exact6,\n",
        "            upper_exact7,\n",
        "            upper_exact8,\n",
        "            upper_exact9,\n",
        "            upper_exact10,\n",
        "            upper_exact11,\n",
        "            upper_exact12,\n",
        "            upper_exact13,\n",
        "            upper_exact14,\n",
        "            upper_exact15,\n",
        "            upper_exact16,\n",
        "            upper_exact17,\n",
        "            upper_exact18,\n",
        "            upper_exact19,\n",
        "            upper_exact20,\n",
        "            upper_exact21,\n",
        "            upper_exact22,\n",
        "            upper_exact23,\n",
        "            upper_exact24,\n",
        "            upper_exact25,\n",
        "            upper_exact26,\n",
        "            upper_exact27,\n",
        "            upper_exact28,\n",
        "            upper_exact29,\n",
        "            upper_exact30,\n",
        "            upper_exact31]"
      ],
      "execution_count": null,
      "outputs": []
    },
    {
      "cell_type": "code",
      "metadata": {
        "colab": {
          "base_uri": "https://localhost:8080/",
          "height": 299
        },
        "id": "OQ_7LazBYVn0",
        "outputId": "2aadc98a-fc84-41fa-e9be-0ffe04c26594"
      },
      "source": [
        "### Visualise!\n",
        "\n",
        "title = func\n",
        "plt.figure()\n",
        "\n",
        "plt.plot(median_approx, color = 'Yellow')\n",
        "plt.plot(median_exact, color = 'Red')\n",
        "\n",
        "xstar = np.arange(0, iters+1, step=1)\n",
        "plt.fill_between(xstar, lower_approx, upper_approx, facecolor = 'Yellow', alpha=0.4, label='GP EI Optimization: Approx GP EI gradients')\n",
        "plt.fill_between(xstar, lower_exact, upper_exact, facecolor = 'Red', alpha=0.4, label='GP EI Optimization: Exact GP dEI gradients')\n",
        "\n",
        "plt.title(title, weight = 'bold')\n",
        "plt.xlabel('(Post-initialization) iteration $\\it{k}$', weight = 'bold')\n",
        "plt.ylabel('log(Regret)', weight = 'bold') \n",
        "plt.legend(loc=1) # add plot legend\n",
        "\n",
        "### Make the x-ticks integers, not floats:\n",
        "count = len(xstar)\n",
        "plt.xticks(np.arange(0, count, 5))\n",
        "plt.show() #visualise!"
      ],
      "execution_count": null,
      "outputs": [
        {
          "output_type": "display_data",
          "data": {
            "text/plain": [
              "<Figure size 432x288 with 1 Axes>"
            ],
            "image/png": "[encoded data removed]"
          },
          "metadata": {
            "needs_background": "light"
          }
        }
      ]
    },
    {
      "cell_type": "code",
      "metadata": {
        "colab": {
          "base_uri": "https://localhost:8080/"
        },
        "id": "dShUk8k1YVn0",
        "outputId": "54cc2a28-75ae-4cd5-b3b8-cf5f0d9cc124"
      },
      "source": [
        "time_approx, time_exact\n"
      ],
      "execution_count": null,
      "outputs": [
        {
          "output_type": "execute_result",
          "data": {
            "text/plain": [
              "(573.6439173221588, 1090.6317901611328)"
            ]
          },
          "metadata": {},
          "execution_count": 109
        }
      ]
    },
    {
      "cell_type": "code",
      "source": [
        "exact31_results, exact31_results[19:20].index[0]\n"
      ],
      "metadata": {
        "colab": {
          "base_uri": "https://localhost:8080/"
        },
        "id": "0i4IbAcyB7-l",
        "outputId": "8b272bae-8b65-45b3-bb27-f924e98cac7d"
      },
      "execution_count": null,
      "outputs": [
        {
          "output_type": "execute_result",
          "data": {
            "text/plain": [
              "(           0\n",
              " 13  6.924368\n",
              " 6   6.341171\n",
              " 1   6.119110\n",
              " 5   6.099985\n",
              " 19  5.978348\n",
              " 8   5.687979\n",
              " 2   5.144864\n",
              " 17  4.971900\n",
              " 16  4.863388\n",
              " 0   4.853881\n",
              " 18  4.695416\n",
              " 3   4.643036\n",
              " 7   4.468001\n",
              " 10  4.441731\n",
              " 9   4.332398\n",
              " 4   4.136617\n",
              " 15  3.628991\n",
              " 12  3.498804\n",
              " 11  3.376770\n",
              " 14  2.692132, 14)"
            ]
          },
          "metadata": {},
          "execution_count": 110
        }
      ]
    },
    {
      "cell_type": "code",
      "source": [
        "str_exact = str(exact31_results[19:20].index[0]+1)\n",
        "str_exact\n"
      ],
      "metadata": {
        "colab": {
          "base_uri": "https://localhost:8080/"
        },
        "id": "12lIvjCoBr7y",
        "outputId": "ba231cff-faee-49b6-97c1-8e01bf84e6a6"
      },
      "execution_count": null,
      "outputs": [
        {
          "output_type": "execute_result",
          "data": {
            "text/plain": [
              "'15'"
            ],
            "application/vnd.google.colaboratory.intrinsic+json": {
              "type": "string"
            }
          },
          "metadata": {},
          "execution_count": 111
        }
      ]
    },
    {
      "cell_type": "code",
      "source": [
        "eval_exactMinIQR_vsCorrApproxExperiment = eval('approx_' + str_exact)\n",
        "eval_exactMinIQR_vsCorrApproxExperiment_minAcqFunc = eval_exactMinIQR_vsCorrApproxExperiment.history[eval_exactMinIQR_vsCorrApproxExperiment.history.index(eval_exactMinIQR_vsCorrApproxExperiment.tau)-1]\n",
        "eval_exactMinIQR_vsCorrApproxExperiment_simpleRegret = np.log(-eval_exactMinIQR_vsCorrApproxExperiment.tau + y_global_orig)\n",
        "\n",
        "eval_exactMinIQR_vsCorrApproxExperiment.tau, eval_exactMinIQR_vsCorrApproxExperiment_minAcqFunc, eval_exactMinIQR_vsCorrApproxExperiment_simpleRegret\n"
      ],
      "metadata": {
        "colab": {
          "base_uri": "https://localhost:8080/"
        },
        "id": "O3sQFv0hpuNI",
        "outputId": "994e5c6e-5dac-47e6-9eef-1a280b5788a4"
      },
      "execution_count": null,
      "outputs": [
        {
          "output_type": "execute_result",
          "data": {
            "text/plain": [
              "(-69.23889854019542, -1425.6331932181074, 4.237562822327569)"
            ]
          },
          "metadata": {},
          "execution_count": 112
        }
      ]
    },
    {
      "cell_type": "code",
      "source": [
        "### Final iteration: best \"approx\" experiment results (as above)\n",
        "\n",
        "np.random.seed(int(str_exact))\n",
        "eval_exactMinIQR_vsCorrApproxExperiment.run(init_evals=n_init, max_iter=iters)\n"
      ],
      "metadata": {
        "id": "DKvmmlRoTnvC",
        "colab": {
          "base_uri": "https://localhost:8080/"
        },
        "outputId": "add72c3a-ec96-4b61-c368-e7fb8c86f681"
      },
      "execution_count": null,
      "outputs": [
        {
          "output_type": "stream",
          "name": "stdout",
          "text": [
            "Evaluation \t Proposed point \t  Current eval. \t  Best eval. \t         Max AcqFunc.\n",
            "init\t [ 6.97635395 -6.4220815  -8.91273571]\t -93407.31094956005\t -3815.237318891498\t    \n",
            "init\t [-2.76923108 -4.49198143  0.6000045 ]\t -3815.237318891498\t -3815.237318891498\t    \n",
            "init\t [-3.88162169 -3.91051282 -7.76517448]\t -48905.136415868226\t -3815.237318891498\t    \n",
            "init\t [-5.00201972  8.35259796 -4.71706293]\t -45736.265979350435\t -3815.237318891498\t    \n",
            "init\t [4.35547375 7.31430068 6.14158964]\t -35004.84714820178\t -3815.237318891498\t    \n",
            "\u001b[1m\u001b[92m1\u001b[0m\t \u001b[1m\u001b[92m[-4.02002687  0.75490439  3.31255076]\u001b[0m\t \u001b[1m\u001b[92m-1425.6331932181074\u001b[0m\t \u001b[1m\u001b[92m-1425.6331932181074\u001b[0m\t \u001b[1m\u001b[92m-3815.237318891498\u001b[0m\n",
            "2  \t [ 2.60405856  6.24027381 -8.67997755]\t -73928.10815893668\t -1425.6331932181074\t -1425.6331932181074\n",
            "3  \t [-10. -10.  10.]\t -220621.0\t -1425.6331932181074\t -1425.6331932181074\n",
            "4  \t [  9.98117592  10.         -10.        ]\t -180594.96853034134\t -1425.6331932181074\t -1425.6331932181074\n",
            "5  \t [ 9.6912661   3.58725193 -5.40327777]\t -9600.747023774824\t -1425.6331932181074\t -1425.6331932181074\n",
            "\u001b[1m\u001b[92m6\u001b[0m\t \u001b[1m\u001b[92m[5.03726127 0.04872615 0.67891557]\u001b[0m\t \u001b[1m\u001b[92m-69.23889854019542\u001b[0m\t \u001b[1m\u001b[92m-69.23889854019542\u001b[0m\t \u001b[1m\u001b[92m-1425.6331932181074\u001b[0m\n",
            "7  \t [ 6.26789159 -7.73785259  5.12220104]\t -36659.91077858748\t -69.23889854019542\t -69.23889854019542\n",
            "8  \t [-5.79117971  5.04067968  9.03266882]\t -81477.5076954023\t -69.23889854019542\t -69.23889854015916\n",
            "9  \t [ 4.223123    8.63767022 -1.17549929]\t -42161.33369318762\t -69.23889854019542\t -69.23889853949316\n",
            "10 \t [ 3.88893442 -8.06801926 -1.99385928]\t -32679.999648494555\t -69.23889854019542\t -69.23889853955114\n",
            "11 \t [-3.9588039  -4.14994892  9.90335147]\t -123337.66597005507\t -69.23889854019542\t -69.23889854019514\n",
            "12 \t [-8.1564873  10.          2.98823458]\t -86927.38363707262\t -69.23889854019542\t -69.23889854018478\n",
            "13 \t [-8.99232293  2.92692402 -4.64560734]\t -6321.898150956401\t -69.23889854019542\t -69.23889854019542\n",
            "14 \t [9.32495946 3.2087539  9.94005148]\t -113697.86166331421\t -69.23889854019542\t -69.23889854019293\n",
            "15 \t [-3.29288774 -9.63977773 -3.80219281]\t -76027.99784180186\t -69.23889854019542\t -69.2388985100697\n",
            "16 \t [ 8.17721362 -0.96448402  5.36612699]\t -10417.42204547476\t -69.23889854019542\t -69.23889854019542\n",
            "17 \t [10.         10.          2.88434722]\t -72413.22568640875\t -69.23889854019542\t -69.23889838238553\n",
            "18 \t [-3.174519    0.81752231  7.37357542]\t -34999.41291503981\t -69.23889854019542\t -69.23889854019542\n",
            "19 \t [-9.22238711 -8.71971404 -7.47276858]\t -95624.47125900952\t -69.23889854019542\t -69.23889771258328\n",
            "20 \t [-10.  10. -10.]\t -196621.0\t -69.23889854019542\t -69.23889854019542\n",
            "21 \t [10.         -4.1552212  -0.46782729]\t -1347.8966630541163\t -69.23889854019542\t -69.23889825740109\n",
            "22 \t [ 1.29616053  0.83902775 -5.2184552 ]\t -8627.202372857579\t -69.23889854019542\t -69.23889854019542\n",
            "23 \t [-8.961987   -6.76536086  3.50746769]\t -23252.860876328974\t -69.23889854019542\t -69.23889828861229\n",
            "24 \t [-10.  10.  10.]\t -196621.0\t -69.23889854019542\t -69.23889854019542\n",
            "25 \t [ 10. -10.  10.]\t -204581.0\t -69.23889854019542\t -69.23889854019542\n",
            "26 \t [-10.          -1.04269542 -10.        ]\t -121671.9295179599\t -69.23889854019542\t -69.23889786642668\n",
            "27 \t [-9.89779937 -0.20399491  5.79169684]\t -13902.4415394413\t -69.23889854019542\t -69.23889713447792\n",
            "28 \t [-3.85708673  2.95268853 -9.27129205]\t -86573.92815166709\t -69.23889854019542\t -69.23889733150395\n",
            "29 \t [ 0.62547625 -9.88380163 -9.59329089]\t -188703.52187338722\t -69.23889854019542\t -69.23889748299146\n",
            "30 \t [ 10.         -10.          -3.90074316]\t -77185.14149043315\t -69.23889854019542\t -69.23889854019038\n"
          ]
        }
      ]
    },
    {
      "cell_type": "code",
      "source": [
        "eval_exactMinIQR_vsCorrApproxExperiment.x_best, np.round(eval_exactMinIQR_vsCorrApproxExperiment.f_best, 2), eval_exactMinIQR_vsCorrApproxExperiment.best, eval_exactMinIQR_vsCorrApproxExperiment.x_best[np.argmin(eval_exactMinIQR_vsCorrApproxExperiment.f_best)] #### i.e. minAcqFunc returned\n"
      ],
      "metadata": {
        "colab": {
          "base_uri": "https://localhost:8080/"
        },
        "id": "tDHS__-Q_WLT",
        "outputId": "52ceb811-3642-4a43-92f0-6fa97d179f27"
      },
      "execution_count": null,
      "outputs": [
        {
          "output_type": "execute_result",
          "data": {
            "text/plain": [
              "(array([[-10.        , -10.        ,  -0.62111036],\n",
              "        [ -4.55795457,   0.29122033,  -4.37331054],\n",
              "        [ 10.        , -10.        ,  -3.90074316],\n",
              "        [ -9.22361901,   4.43106175,  -9.59372968],\n",
              "        [-10.        ,   5.07497866,   5.29325669],\n",
              "        [  2.26599615,   7.12311912,  -0.98894012],\n",
              "        [ -5.19925632,  -3.58512671,   4.7973936 ],\n",
              "        [  1.59551486,   1.15340803,  -4.74030829],\n",
              "        [ 10.        ,  -2.46048281,  10.        ],\n",
              "        [ -0.29389741,   2.7522869 ,   0.52686765],\n",
              "        [  4.63347621,   7.89011303,  -9.06020839],\n",
              "        [ -7.53472602,   7.54343625,   2.04466584],\n",
              "        [  2.21240753,   1.88431734,   8.57903532],\n",
              "        [  4.79348441,  -1.54985352,  -8.08971696],\n",
              "        [ -5.37736088,   5.3723101 ,   0.62908726],\n",
              "        [ -7.09720655,   8.7965054 ,   3.78075374],\n",
              "        [  0.76376867,  10.        ,  -5.12825206],\n",
              "        [  6.2503418 ,  -0.38552067,  -3.86256729],\n",
              "        [ -8.98238431,   2.49393336,   1.35389007],\n",
              "        [  6.42729692,  -3.75239939,  -4.04432644],\n",
              "        [  1.75223669,  -9.68605457,   2.9381618 ],\n",
              "        [  8.12863329,  -9.29028702,   9.00961512],\n",
              "        [ -8.4466963 ,   8.76312829,   5.04178455],\n",
              "        [ -6.87603707,   4.1004873 ,  -0.06012594],\n",
              "        [ -4.76774429,  -1.31745561,  -2.87948817],\n",
              "        [ 10.        , -10.        ,   0.59352223],\n",
              "        [ -1.18003596,   4.62211166,   1.79548514],\n",
              "        [ -4.75678454,   8.41530083,  -5.11126592],\n",
              "        [  7.72736124,   5.30703998,   1.59667559],\n",
              "        [  3.98713668,   6.3547741 ,   5.83954293]]),\n",
              " array([-69.24, -69.24, -69.24, -69.24, -69.24,  -0.  , -69.24,  -0.  ,\n",
              "        -69.24, -69.24,  -0.  ,  -0.  , -69.24, -69.24, -69.24,  -0.  ,\n",
              "        -69.24, -69.24, -69.24, -69.24, -69.24,  -0.  ,  -0.  , -69.24,\n",
              "        -69.24, -69.24, -69.24,  -0.  , -69.24,  -0.  ]),\n",
              " array([ 10.        , -10.        ,  -3.90074316]),\n",
              " array([ 10.        , -10.        ,  -3.90074316]))"
            ]
          },
          "metadata": {},
          "execution_count": 114
        }
      ]
    },
    {
      "cell_type": "code",
      "source": [
        "eval_exactMinIQR = eval('exact_' + str_exact)\n",
        "eval_exactMinIQR_minAcqFunc = eval_exactMinIQR.history[eval_exactMinIQR.history.index(eval_exactMinIQR.tau)-1]\n",
        "eval_exactMinIQR_simpleRegret  = np.log(-eval_exactMinIQR.tau + y_global_orig)\n",
        "\n",
        "eval_exactMinIQR.tau, eval_exactMinIQR_minAcqFunc, eval_exactMinIQR_simpleRegret\n"
      ],
      "metadata": {
        "colab": {
          "base_uri": "https://localhost:8080/"
        },
        "id": "M4bxQTTWCXFZ",
        "outputId": "59038196-8bbe-4b32-ecb5-d7f65711ab2b"
      },
      "execution_count": null,
      "outputs": [
        {
          "output_type": "execute_result",
          "data": {
            "text/plain": [
              "(-14.76312378397942, -1145.0724109642922, 2.692132435261053)"
            ]
          },
          "metadata": {},
          "execution_count": 115
        }
      ]
    },
    {
      "cell_type": "code",
      "source": [
        "### Final iteration: best \"exact\" experiment results (as above)\n",
        "\n",
        "np.random.seed(int(str_exact))\n",
        "eval_exactMinIQR.run(init_evals=n_init, max_iter=iters)\n"
      ],
      "metadata": {
        "colab": {
          "base_uri": "https://localhost:8080/"
        },
        "id": "WeKb1o143nLW",
        "outputId": "e30ababe-c8cb-49fa-b152-4b5d9bc35638"
      },
      "execution_count": null,
      "outputs": [
        {
          "output_type": "stream",
          "name": "stdout",
          "text": [
            "Evaluation \t Proposed point \t  Current eval. \t  Best eval. \t         Max AcqFunc.\n",
            "init\t [ 6.97635395 -6.4220815  -8.91273571]\t -93407.31094956005\t -3815.237318891498\t    \n",
            "init\t [-2.76923108 -4.49198143  0.6000045 ]\t -3815.237318891498\t -3815.237318891498\t    \n",
            "init\t [-3.88162169 -3.91051282 -7.76517448]\t -48905.136415868226\t -3815.237318891498\t    \n",
            "init\t [-5.00201972  8.35259796 -4.71706293]\t -45736.265979350435\t -3815.237318891498\t    \n",
            "init\t [4.35547375 7.31430068 6.14158964]\t -35004.84714820178\t -3815.237318891498\t    \n",
            "\u001b[1m\u001b[92m1\u001b[0m\t \u001b[1m\u001b[92m[-4.02002687  0.75490439  3.31255076]\u001b[0m\t \u001b[1m\u001b[92m-1425.6331932181074\u001b[0m\t \u001b[1m\u001b[92m-1425.6331932181074\u001b[0m\t \u001b[1m\u001b[92m-3815.237318881498\u001b[0m\n",
            "2  \t [ 2.60405856  6.24027381 -8.67997755]\t -73928.10815893668\t -1425.6331932181074\t -1425.6331932081075\n",
            "3  \t [ 8.90778657  0.06639168 -3.55320815]\t -2123.645927039213\t -1425.6331932181074\t -1425.6331932081075\n",
            "4  \t [ 5.05406978 -4.8669869   5.11668062]\t -13423.651465814419\t -1425.6331932181074\t -1425.6331932081075\n",
            "5  \t [-10. -10. -10.]\t -220621.0\t -1425.6331932181074\t -1425.6331932081075\n",
            "\u001b[1m\u001b[92m6\u001b[0m\t \u001b[1m\u001b[92m[-9.79351252 -2.51545841 -0.23562792]\u001b[0m\t \u001b[1m\u001b[92m-1145.0724111700745\u001b[0m\t \u001b[1m\u001b[92m-1145.0724111700745\u001b[0m\t \u001b[1m\u001b[92m-1425.6331932081061\u001b[0m\n",
            "7  \t [10.         -1.08727907 10.        ]\t -121505.88766537308\t -1145.0724111700745\t -1145.0724111600746\n",
            "8  \t [-6.79260397 -5.2544118   9.53943762]\t -112945.87634904005\t -1145.0724111700745\t -1145.0724111600746\n",
            "9  \t [ 9.48312637  9.88620053 -3.19449007]\t -69589.33701998279\t -1145.0724111700745\t -1145.0724111600746\n",
            "10 \t [-8.84365152  2.51307961  8.46234511]\t -60416.71220234644\t -1145.0724111700745\t -1145.0724111599327\n",
            "11 \t [ -9.79163177 -10.           0.8858436 ]\t -88543.07250748272\t -1145.0724111700745\t -1145.0724111600714\n",
            "12 \t [-3.1640906   7.88786526  2.87351484]\t -32804.57261390649\t -1145.0724111700745\t -1145.0724111594047\n",
            "13 \t [ 3.25184278  6.87409627 -0.95956113]\t -16735.839523012157\t -1145.0724111700745\t -1145.0724111600746\n",
            "14 \t [10. 10. 10.]\t -180581.0\t -1145.0724111700745\t -1145.0724111600653\n",
            "15 \t [-9.72970835  1.63019389 -8.98385101]\t -77165.35620565368\t -1145.0724111700745\t -1145.0724111600734\n",
            "16 \t [-4.55249149 -2.94389805  5.77109571]\t -15502.4756067063\t -1145.0724111700745\t -1145.0724111600746\n",
            "17 \t [ 3.18306572 -9.35162255 -2.19739649]\t -60066.07915978792\t -1145.0724111700745\t -1145.0724111599914\n",
            "18 \t [-3.174519    0.81752231  7.37357542]\t -34999.41291503981\t -1145.0724111700745\t -1145.0724111600746\n",
            "\u001b[1m\u001b[92m19\u001b[0m\t \u001b[1m\u001b[92m[ 2.53754434 -0.34689812 -0.46793844]\u001b[0m\t \u001b[1m\u001b[92m-14.76312378397942\u001b[0m\t \u001b[1m\u001b[92m-14.76312378397942\u001b[0m\t \u001b[1m\u001b[92m-1145.0724109642922\u001b[0m\n",
            "20 \t [-2.72858318 10.          9.48126572]\t -168696.36838052643\t -14.76312378397942\t -14.763123244492176\n",
            "21 \t [-3.86873102  1.36177102 -3.01850777]\t -991.4244327198737\t -14.76312378397942\t -14.763122205264414\n",
            "22 \t [ 9.52628416 -0.73905403  1.97294788]\t -432.9391461027912\t -14.76312378397942\t -14.763123773975012\n",
            "23 \t [  0.62494773 -10.           4.78247934]\t -88823.21687695794\t -14.76312378397942\t -14.763123086533351\n",
            "24 \t [ -2.95052755 -10.          -2.18372174]\t -83538.55601138558\t -14.76312378397942\t -14.763123773979439\n",
            "25 \t [9.78031818 5.49542041 3.30637543]\t -6005.469270998181\t -14.76312378397942\t -14.763123773979439\n",
            "26 \t [-9.98603708  8.51627689  1.57796403]\t -48233.00151803348\t -14.76312378397942\t -14.763123317846459\n",
            "27 \t [ -3.2050528  -10.          -9.77261427]\t -203814.89275202953\t -14.76312378397942\t -14.763090640443897\n",
            "28 \t [ 7.58662645  1.5212295  -9.7121278 ]\t -105113.37503853312\t -14.76312378397942\t -14.76312159336501\n",
            "29 \t [ 9.98880023 -6.69041984 -0.03015265]\t -12866.673025719238\t -14.76312378397942\t -14.763123222134194\n",
            "30 \t [ 8.12863329 -9.29028702  9.00961512]\t -142542.27457319596\t -14.76312378397942\t -14.763122057259\n"
          ]
        }
      ]
    },
    {
      "cell_type": "code",
      "source": [
        "eval_exactMinIQR.x_best, np.round(eval_exactMinIQR.f_best, 2), eval_exactMinIQR.best, eval_exactMinIQR.x_best[np.argmin(eval_exactMinIQR.f_best)] #### i.e. minAcqFunc returned\n"
      ],
      "metadata": {
        "colab": {
          "base_uri": "https://localhost:8080/"
        },
        "id": "c0IIOZ-bID_G",
        "outputId": "767e26d7-3754-4ed1-e541-cacfb34527ae"
      },
      "execution_count": null,
      "outputs": [
        {
          "output_type": "execute_result",
          "data": {
            "text/plain": [
              "(array([[ -6.33631   ,  -5.74531675,  -6.71352595],\n",
              "        [ -4.8794082 ,   0.2110111 ,  -6.24851882],\n",
              "        [ -2.3078582 ,  -6.58807241,  -7.5344104 ],\n",
              "        [ -7.02065495,   5.76289719,  -8.34865208],\n",
              "        [ -7.06549391,   7.62706896,   6.13944715],\n",
              "        [  2.26599615,   7.12311912,  -0.98894012],\n",
              "        [ -5.85914919,  -2.76186376,   6.33677565],\n",
              "        [  1.31372483,   0.871618  ,  -5.02209832],\n",
              "        [  9.68016556,  -6.26770649,   7.39402193],\n",
              "        [ -0.2377595 ,   2.80842481,   0.58300556],\n",
              "        [  4.63347621,   7.89011303,  -9.06020839],\n",
              "        [ -7.53472602,   7.54343625,   2.04466584],\n",
              "        [ -0.12540564,   1.17426546,   8.15246576],\n",
              "        [  1.23368434,  -5.54446252, -10.        ],\n",
              "        [ -7.61867824,  -1.86904195,  -4.4060318 ],\n",
              "        [ -7.09720655,   8.7965054 ,   3.78075374],\n",
              "        [  1.42000761,   9.84074226,  -4.65036529],\n",
              "        [  6.37747163,   0.86783491,  -3.79093687],\n",
              "        [ -9.02452773,   2.16013303,   2.19109038],\n",
              "        [  6.34204133,  -4.41780147,  -3.51116095],\n",
              "        [  2.30866739,  -9.43738999,   3.1633712 ],\n",
              "        [  8.12863329,  -9.29028702,   9.00961512],\n",
              "        [ -7.10380999,   9.02687532,   6.09857217],\n",
              "        [ -6.99685881,   4.07416301,  -0.43012679],\n",
              "        [ -8.44992283,  -6.04825122,  -6.29601253],\n",
              "        [  9.64284433,  -9.29811248,   5.71051071],\n",
              "        [  1.59198373,   7.72525314,  -0.38457634],\n",
              "        [ -4.75678454,   8.41530083,  -5.11126592],\n",
              "        [  7.72736976,   5.30706272,   1.59667985],\n",
              "        [  3.98713668,   6.3547741 ,   5.83954293]]),\n",
              " array([ -0.  , -12.96,  -0.  , -14.46, -14.72,  -0.  ,  -0.  , -14.76,\n",
              "        -14.76, -14.76,  -0.  ,  -0.  ,  -0.  , -14.76, -14.74,  -0.  ,\n",
              "        -14.73,  -0.  , -14.76, -14.76,  -0.  , -14.76, -14.72, -14.76,\n",
              "        -14.72, -14.76,  -0.  ,  -0.  ,  -0.  ,  -0.  ]),\n",
              " array([ 8.12863329, -9.29028702,  9.00961512]),\n",
              " array([ 8.12863329, -9.29028702,  9.00961512]))"
            ]
          },
          "metadata": {},
          "execution_count": 117
        }
      ]
    },
    {
      "cell_type": "code",
      "source": [
        "eval_exactMinIQR.tau > eval_exactMinIQR_vsCorrApproxExperiment.tau # Exact gradients' model: y-value is greater"
      ],
      "metadata": {
        "colab": {
          "base_uri": "https://localhost:8080/"
        },
        "id": "RRSEL9F33mw_",
        "outputId": "3767d8e4-ec5d-465b-f996-bf88e43d9e88"
      },
      "execution_count": null,
      "outputs": [
        {
          "output_type": "execute_result",
          "data": {
            "text/plain": [
              "True"
            ]
          },
          "metadata": {},
          "execution_count": 118
        }
      ]
    },
    {
      "cell_type": "code",
      "source": [
        "eval_exactMinIQR_minAcqFunc > eval_exactMinIQR_vsCorrApproxExperiment_minAcqFunc # Exact gradients' model: best AcqFunc is greater\n"
      ],
      "metadata": {
        "colab": {
          "base_uri": "https://localhost:8080/"
        },
        "id": "srZDKNlWGaUp",
        "outputId": "f076890a-621d-448a-d4fc-868e48929fb8"
      },
      "execution_count": null,
      "outputs": [
        {
          "output_type": "execute_result",
          "data": {
            "text/plain": [
              "True"
            ]
          },
          "metadata": {},
          "execution_count": 119
        }
      ]
    },
    {
      "cell_type": "code",
      "source": [
        "eval_exactMinIQR_simpleRegret < eval_exactMinIQR_vsCorrApproxExperiment_simpleRegret # Exact gradients' model: simple regret's natural log is lower\n"
      ],
      "metadata": {
        "colab": {
          "base_uri": "https://localhost:8080/"
        },
        "id": "TYkP-rneGab3",
        "outputId": "72c5a7fe-aa62-43b9-e797-8dde2b8c8fcf"
      },
      "execution_count": null,
      "outputs": [
        {
          "output_type": "execute_result",
          "data": {
            "text/plain": [
              "True"
            ]
          },
          "metadata": {},
          "execution_count": 120
        }
      ]
    },
    {
      "cell_type": "code",
      "source": [
        "eval_exactMinIQR_minAcqFunc, eval_exactMinIQR_vsCorrApproxExperiment_minAcqFunc, eval_exactMinIQR_minAcqFunc/eval_exactMinIQR_vsCorrApproxExperiment_minAcqFunc\n"
      ],
      "metadata": {
        "id": "10rcQ55YGajh",
        "colab": {
          "base_uri": "https://localhost:8080/"
        },
        "outputId": "82b1849e-c395-4b01-de38-1588d52b26e6"
      },
      "execution_count": null,
      "outputs": [
        {
          "output_type": "execute_result",
          "data": {
            "text/plain": [
              "(-1145.0724109642922, -1425.6331932181074, 0.8032026866458544)"
            ]
          },
          "metadata": {},
          "execution_count": 121
        }
      ]
    },
    {
      "cell_type": "code",
      "source": [
        "### MinAcqFunc Comparison: Approximate Gradients\n",
        "\n",
        "approx_1minAcqFunc = approx_1.history[:-1][1::2]\n",
        "approx_2minAcqFunc = approx_2.history[:-1][1::2]\n",
        "approx_3minAcqFunc = approx_3.history[:-1][1::2]\n",
        "approx_4minAcqFunc = approx_4.history[:-1][1::2]\n",
        "approx_5minAcqFunc = approx_5.history[:-1][1::2]\n",
        "approx_6minAcqFunc = approx_6.history[:-1][1::2]\n",
        "approx_7minAcqFunc = approx_7.history[:-1][1::2]\n",
        "approx_8minAcqFunc = approx_8.history[:-1][1::2]\n",
        "approx_9minAcqFunc = approx_9.history[:-1][1::2]\n",
        "approx_10minAcqFunc = approx_10.history[:-1][1::2]\n",
        "approx_11minAcqFunc = approx_11.history[:-1][1::2]\n",
        "approx_12minAcqFunc = approx_12.history[:-1][1::2]\n",
        "approx_13minAcqFunc = approx_13.history[:-1][1::2]\n",
        "approx_14minAcqFunc = approx_14.history[:-1][1::2]\n",
        "approx_15minAcqFunc = approx_15.history[:-1][1::2]\n",
        "approx_16minAcqFunc = approx_16.history[:-1][1::2]\n",
        "approx_17minAcqFunc = approx_17.history[:-1][1::2]\n",
        "approx_18minAcqFunc = approx_18.history[:-1][1::2]\n",
        "approx_19minAcqFunc = approx_19.history[:-1][1::2]\n",
        "approx_20minAcqFunc = approx_20.history[:-1][1::2]\n"
      ],
      "metadata": {
        "id": "rN6LmSIqhYDb"
      },
      "execution_count": null,
      "outputs": []
    },
    {
      "cell_type": "code",
      "source": [
        "### MinAcqFunc Comparison: Exact Gradients\n",
        "\n",
        "exact_1minAcqFunc = exact_1.history[:-1][1::2]\n",
        "exact_2minAcqFunc = exact_2.history[:-1][1::2]\n",
        "exact_3minAcqFunc = exact_3.history[:-1][1::2]\n",
        "exact_4minAcqFunc = exact_4.history[:-1][1::2]\n",
        "exact_5minAcqFunc = exact_5.history[:-1][1::2]\n",
        "exact_6minAcqFunc = exact_6.history[:-1][1::2]\n",
        "exact_7minAcqFunc = exact_7.history[:-1][1::2]\n",
        "exact_8minAcqFunc = exact_8.history[:-1][1::2]\n",
        "exact_9minAcqFunc = exact_9.history[:-1][1::2]\n",
        "exact_10minAcqFunc = exact_10.history[:-1][1::2]\n",
        "exact_11minAcqFunc = exact_11.history[:-1][1::2]\n",
        "exact_12minAcqFunc = exact_12.history[:-1][1::2]\n",
        "exact_13minAcqFunc = exact_13.history[:-1][1::2]\n",
        "exact_14minAcqFunc = exact_14.history[:-1][1::2]\n",
        "exact_15minAcqFunc = exact_15.history[:-1][1::2]\n",
        "exact_16minAcqFunc = exact_16.history[:-1][1::2]\n",
        "exact_17minAcqFunc = exact_17.history[:-1][1::2]\n",
        "exact_18minAcqFunc = exact_18.history[:-1][1::2]\n",
        "exact_19minAcqFunc = exact_19.history[:-1][1::2]\n",
        "exact_20minAcqFunc = exact_20.history[:-1][1::2]\n"
      ],
      "metadata": {
        "id": "8v_Qb1ZPiK1L"
      },
      "execution_count": null,
      "outputs": []
    },
    {
      "cell_type": "code",
      "source": [
        "### MinAcqFunc Comparison: Experiment 1\n",
        "\n",
        "minAcqFuncApprox1 = np.mean(approx_1minAcqFunc)\n",
        "minAcqFuncExact1 = np.mean(exact_1minAcqFunc)\n",
        "ratio1 = minAcqFuncApprox1/minAcqFuncExact1\n",
        "approx_1.tau, exact_1.tau, minAcqFuncApprox1, minAcqFuncExact1, ratio1\n"
      ],
      "metadata": {
        "colab": {
          "base_uri": "https://localhost:8080/"
        },
        "id": "lH13qO-JJfok",
        "outputId": "c67cb6e1-0858-4d38-f1fc-0f33a520ad31"
      },
      "execution_count": null,
      "outputs": [
        {
          "output_type": "execute_result",
          "data": {
            "text/plain": [
              "(-1113.764891919881,\n",
              " -128.23709968267707,\n",
              " -1617.5162680095148,\n",
              " -1258.8889600694574,\n",
              " 1.2848760449216035)"
            ]
          },
          "metadata": {},
          "execution_count": 124
        }
      ]
    },
    {
      "cell_type": "code",
      "source": [
        "### MinAcqFunc Comparison: Experiment 2\n",
        "\n",
        "minAcqFuncApprox2 = np.mean(approx_2minAcqFunc)\n",
        "minAcqFuncExact2 = np.mean(exact_2minAcqFunc)\n",
        "ratio2 = minAcqFuncApprox2/minAcqFuncExact2\n",
        "approx_2.tau, exact_2.tau, minAcqFuncApprox2, minAcqFuncExact2, ratio2\n"
      ],
      "metadata": {
        "colab": {
          "base_uri": "https://localhost:8080/"
        },
        "id": "QWeVwVP_HPQb",
        "outputId": "3316ef43-0745-4680-96fb-9cbc9d232bfa"
      },
      "execution_count": null,
      "outputs": [
        {
          "output_type": "execute_result",
          "data": {
            "text/plain": [
              "(-454.4522761495854,\n",
              " -454.45996672098863,\n",
              " -525.1735940270289,\n",
              " -525.1769237029708,\n",
              " 0.9999936598967097)"
            ]
          },
          "metadata": {},
          "execution_count": 125
        }
      ]
    },
    {
      "cell_type": "code",
      "source": [
        "### MinAcqFunc Comparison: Experiment 3\n",
        "\n",
        "minAcqFuncApprox3 = np.mean(approx_3minAcqFunc)\n",
        "minAcqFuncExact3 = np.mean(exact_3minAcqFunc)\n",
        "ratio3 = minAcqFuncApprox3/minAcqFuncExact3\n",
        "approx_3.tau, exact_3.tau, minAcqFuncApprox3, minAcqFuncExact3, ratio3\n"
      ],
      "metadata": {
        "colab": {
          "base_uri": "https://localhost:8080/"
        },
        "id": "jgGLMx0RHPUA",
        "outputId": "6f0fb00e-3f9c-46df-fa08-829d7aad31c3"
      },
      "execution_count": null,
      "outputs": [
        {
          "output_type": "execute_result",
          "data": {
            "text/plain": [
              "(-51.2702427383921,\n",
              " -171.54820920937559,\n",
              " -2635.976200604741,\n",
              " -2538.200640698429,\n",
              " 1.0385216039813965)"
            ]
          },
          "metadata": {},
          "execution_count": 126
        }
      ]
    },
    {
      "cell_type": "code",
      "source": [
        "### MinAcqFunc Comparison: Experiment 4\n",
        "\n",
        "minAcqFuncApprox4 = np.mean(approx_4minAcqFunc)\n",
        "minAcqFuncExact4 = np.mean(exact_4minAcqFunc)\n",
        "ratio4 = minAcqFuncApprox4/minAcqFuncExact4\n",
        "approx_4.tau, exact_4.tau, minAcqFuncApprox4, minAcqFuncExact4, ratio4\n"
      ],
      "metadata": {
        "colab": {
          "base_uri": "https://localhost:8080/"
        },
        "id": "ml1c1t4SHPXV",
        "outputId": "1ed6e76f-faff-45f4-e7ae-10eb3e77246e"
      },
      "execution_count": null,
      "outputs": [
        {
          "output_type": "execute_result",
          "data": {
            "text/plain": [
              "(-298.4979179361641,\n",
              " -103.85918112412527,\n",
              " -1322.772089679641,\n",
              " -1231.9406207116804,\n",
              " 1.0737303953136055)"
            ]
          },
          "metadata": {},
          "execution_count": 127
        }
      ]
    },
    {
      "cell_type": "code",
      "source": [
        "### MinAcqFunc Comparison: Experiment 5\n",
        "\n",
        "minAcqFuncApprox5 = np.mean(approx_5minAcqFunc)\n",
        "minAcqFuncExact5 = np.mean(exact_5minAcqFunc)\n",
        "ratio5 = minAcqFuncApprox5/minAcqFuncExact5\n",
        "approx_5.tau, exact_5.tau, minAcqFuncApprox5, minAcqFuncExact5, ratio5\n"
      ],
      "metadata": {
        "colab": {
          "base_uri": "https://localhost:8080/"
        },
        "id": "MLbsgyMiHPaf",
        "outputId": "d270a18b-6837-46c7-b8dd-470676b1ff66"
      },
      "execution_count": null,
      "outputs": [
        {
          "output_type": "execute_result",
          "data": {
            "text/plain": [
              "(-58.09647410522626,\n",
              " -62.59073685718052,\n",
              " -385.3689570117832,\n",
              " -489.65090829914755,\n",
              " 0.7870279631470544)"
            ]
          },
          "metadata": {},
          "execution_count": 128
        }
      ]
    },
    {
      "cell_type": "code",
      "source": [
        "### MinAcqFunc Comparison: Experiment 6\n",
        "\n",
        "minAcqFuncApprox6 = np.mean(approx_6minAcqFunc)\n",
        "minAcqFuncExact6 = np.mean(exact_6minAcqFunc)\n",
        "ratio6 = minAcqFuncApprox6/minAcqFuncExact6\n",
        "approx_6.tau, exact_6.tau, minAcqFuncApprox6, minAcqFuncExact6, ratio6\n"
      ],
      "metadata": {
        "colab": {
          "base_uri": "https://localhost:8080/"
        },
        "id": "0H912oKjHPfu",
        "outputId": "90f97ad3-b98e-4f6a-e2a2-b539786ec6d5"
      },
      "execution_count": null,
      "outputs": [
        {
          "output_type": "execute_result",
          "data": {
            "text/plain": [
              "(-115.96949062664436,\n",
              " -445.8510449084471,\n",
              " -726.5322205307517,\n",
              " -611.6526189770005,\n",
              " 1.1878183759694994)"
            ]
          },
          "metadata": {},
          "execution_count": 129
        }
      ]
    },
    {
      "cell_type": "code",
      "source": [
        "### MinAcqFunc Comparison: Experiment 7\n",
        "\n",
        "minAcqFuncApprox7 = np.mean(approx_7minAcqFunc)\n",
        "minAcqFuncExact7 = np.mean(exact_7minAcqFunc)\n",
        "ratio7 = minAcqFuncApprox7/minAcqFuncExact7\n",
        "approx_7.tau, exact_7.tau, minAcqFuncApprox7, minAcqFuncExact7, ratio7\n"
      ],
      "metadata": {
        "colab": {
          "base_uri": "https://localhost:8080/"
        },
        "id": "qrh-IEZ3HPip",
        "outputId": "9b11b9bf-84f2-4e15-aa65-b158562afcf1"
      },
      "execution_count": null,
      "outputs": [
        {
          "output_type": "execute_result",
          "data": {
            "text/plain": [
              "(-143.35978934931765,\n",
              " -567.4604666267755,\n",
              " -1187.3371389140693,\n",
              " -1250.0631828195862,\n",
              " 0.9498217012007066)"
            ]
          },
          "metadata": {},
          "execution_count": 130
        }
      ]
    },
    {
      "cell_type": "code",
      "source": [
        "### MinAcqFunc Comparison: Experiment 8\n",
        "\n",
        "minAcqFuncApprox8 = np.mean(approx_8minAcqFunc)\n",
        "minAcqFuncExact8 = np.mean(exact_8minAcqFunc)\n",
        "ratio8 = minAcqFuncApprox8/minAcqFuncExact8\n",
        "approx_8.tau, exact_8.tau, minAcqFuncApprox8, minAcqFuncExact8, ratio8\n"
      ],
      "metadata": {
        "colab": {
          "base_uri": "https://localhost:8080/"
        },
        "id": "UOp-jaflHPlz",
        "outputId": "f2430db7-0a77-4ab6-e994-de169bb3c74c"
      },
      "execution_count": null,
      "outputs": [
        {
          "output_type": "execute_result",
          "data": {
            "text/plain": [
              "(-19.158799931573643,\n",
              " -19.158799931573643,\n",
              " -19.158799815280453,\n",
              " -19.158779179497664,\n",
              " 1.0000010770927832)"
            ]
          },
          "metadata": {},
          "execution_count": 131
        }
      ]
    },
    {
      "cell_type": "code",
      "source": [
        "### MinAcqFunc Comparison: Experiment 9\n",
        "\n",
        "minAcqFuncApprox9 = np.mean(approx_9minAcqFunc)\n",
        "minAcqFuncExact9 = np.mean(exact_9minAcqFunc)\n",
        "ratio9 = minAcqFuncApprox9/minAcqFuncExact9\n",
        "approx_9.tau, exact_9.tau, minAcqFuncApprox9, minAcqFuncExact9, ratio9\n"
      ],
      "metadata": {
        "colab": {
          "base_uri": "https://localhost:8080/"
        },
        "id": "myU75lI6HPo4",
        "outputId": "3ba06c61-e28d-4da3-f66a-65b9dbb41b64"
      },
      "execution_count": null,
      "outputs": [
        {
          "output_type": "execute_result",
          "data": {
            "text/plain": [
              "(-223.35786043404318,\n",
              " -295.2961347663845,\n",
              " -280.0878878221564,\n",
              " -300.96446373713997,\n",
              " 0.9306344155859643)"
            ]
          },
          "metadata": {},
          "execution_count": 132
        }
      ]
    },
    {
      "cell_type": "code",
      "source": [
        "### MinAcqFunc Comparison: Experiment 10\n",
        "\n",
        "minAcqFuncApprox10 = np.mean(approx_10minAcqFunc)\n",
        "minAcqFuncExact10 = np.mean(exact_10minAcqFunc)\n",
        "ratio10 = minAcqFuncApprox10/minAcqFuncExact10\n",
        "approx_10.tau, exact_10.tau, minAcqFuncApprox10, minAcqFuncExact10, ratio10\n"
      ],
      "metadata": {
        "colab": {
          "base_uri": "https://localhost:8080/"
        },
        "id": "A3mo5UftHPsk",
        "outputId": "a31f3b8f-a5a8-4926-dddd-55d448f21089"
      },
      "execution_count": null,
      "outputs": [
        {
          "output_type": "execute_result",
          "data": {
            "text/plain": [
              "(-792.6566953448357,\n",
              " -76.12660574689887,\n",
              " -5625.791156453067,\n",
              " -5060.235700091773,\n",
              " 1.1117646469216913)"
            ]
          },
          "metadata": {},
          "execution_count": 133
        }
      ]
    },
    {
      "cell_type": "code",
      "source": [
        "### MinAcqFunc Comparison: Experiment 11\n",
        "\n",
        "minAcqFuncApprox11 = np.mean(approx_11minAcqFunc)\n",
        "minAcqFuncExact11 = np.mean(exact_11minAcqFunc)\n",
        "ratio11 = minAcqFuncApprox11/minAcqFuncExact11\n",
        "approx_11.tau, exact_11.tau, minAcqFuncApprox11, minAcqFuncExact11, ratio11\n"
      ],
      "metadata": {
        "colab": {
          "base_uri": "https://localhost:8080/"
        },
        "id": "TaEOW6nLLEcx",
        "outputId": "5544adf8-1fd7-4320-8b06-62def994d06f"
      },
      "execution_count": null,
      "outputs": [
        {
          "output_type": "execute_result",
          "data": {
            "text/plain": [
              "(-22.303897517794855,\n",
              " -22.303897517794855,\n",
              " -22.303896822304555,\n",
              " -22.303857077184222,\n",
              " 1.000001781984174)"
            ]
          },
          "metadata": {},
          "execution_count": 134
        }
      ]
    },
    {
      "cell_type": "code",
      "source": [
        "### MinAcqFunc Comparison: Experiment 12\n",
        "\n",
        "minAcqFuncApprox12 = np.mean(approx_12minAcqFunc)\n",
        "minAcqFuncExact12 = np.mean(exact_12minAcqFunc)\n",
        "ratio12 = minAcqFuncApprox12/minAcqFuncExact12\n",
        "approx_12.tau, exact_12.tau, minAcqFuncApprox12, minAcqFuncExact12, ratio12\n"
      ],
      "metadata": {
        "colab": {
          "base_uri": "https://localhost:8080/"
        },
        "id": "1KjJRPSwLE76",
        "outputId": "b57285fe-e3b5-4a92-9d58-3d4ca050e0df"
      },
      "execution_count": null,
      "outputs": [
        {
          "output_type": "execute_result",
          "data": {
            "text/plain": [
              "(-436.5184491002427,\n",
              " -29.276056721126224,\n",
              " -1580.5720200909752,\n",
              " -1952.8137220730641,\n",
              " 0.8093818689542364)"
            ]
          },
          "metadata": {},
          "execution_count": 135
        }
      ]
    },
    {
      "cell_type": "code",
      "source": [
        "### MinAcqFunc Comparison: Experiment 13\n",
        "\n",
        "minAcqFuncApprox13 = np.mean(approx_13minAcqFunc)\n",
        "minAcqFuncExact13 = np.mean(exact_13minAcqFunc)\n",
        "ratio13 = minAcqFuncApprox13/minAcqFuncExact13\n",
        "approx_13.tau, exact_13.tau, minAcqFuncApprox13, minAcqFuncExact13, ratio13\n"
      ],
      "metadata": {
        "colab": {
          "base_uri": "https://localhost:8080/"
        },
        "id": "jCoTSHuBLFOJ",
        "outputId": "8e95767f-cb44-4e59-a586-2e8a8cf76650"
      },
      "execution_count": null,
      "outputs": [
        {
          "output_type": "execute_result",
          "data": {
            "text/plain": [
              "(-125.74034866546369,\n",
              " -33.075865092968336,\n",
              " -3480.1541345211654,\n",
              " -2627.400384685436,\n",
              " 1.3245617816021689)"
            ]
          },
          "metadata": {},
          "execution_count": 136
        }
      ]
    },
    {
      "cell_type": "code",
      "source": [
        "### MinAcqFunc Comparison: Experiment 14\n",
        "\n",
        "minAcqFuncApprox14 = np.mean(approx_14minAcqFunc)\n",
        "minAcqFuncExact14 = np.mean(exact_14minAcqFunc)\n",
        "ratio14 = minAcqFuncApprox14/minAcqFuncExact14\n",
        "approx_14.tau, exact_14.tau, minAcqFuncApprox14, minAcqFuncExact14, ratio14\n"
      ],
      "metadata": {
        "colab": {
          "base_uri": "https://localhost:8080/"
        },
        "id": "9_xSxWT8LFsp",
        "outputId": "1e0cb7f2-1ade-4343-87cd-3a94f50284ef"
      },
      "execution_count": null,
      "outputs": [
        {
          "output_type": "execute_result",
          "data": {
            "text/plain": [
              "(-98.51929076584533,\n",
              " -1016.7518385211786,\n",
              " -742.0146603032649,\n",
              " -1175.4549478122958,\n",
              " 0.6312574222298093)"
            ]
          },
          "metadata": {},
          "execution_count": 137
        }
      ]
    },
    {
      "cell_type": "code",
      "source": [
        "### MinAcqFunc Comparison: Experiment 15\n",
        "\n",
        "minAcqFuncApprox15 = np.mean(approx_15minAcqFunc)\n",
        "minAcqFuncExact15 = np.mean(exact_15minAcqFunc)\n",
        "ratio15 = minAcqFuncApprox15/minAcqFuncExact15\n",
        "approx_15.tau, exact_15.tau, minAcqFuncApprox15, minAcqFuncExact15, ratio15\n"
      ],
      "metadata": {
        "colab": {
          "base_uri": "https://localhost:8080/"
        },
        "id": "vj_iCIvOLFeP",
        "outputId": "9edd6582-ec9d-4034-bce8-200d37e6f460"
      },
      "execution_count": null,
      "outputs": [
        {
          "output_type": "execute_result",
          "data": {
            "text/plain": [
              "(-69.23889854019542,\n",
              " -14.76312378397942,\n",
              " -420.17122823327907,\n",
              " -866.3912990385396,\n",
              " 0.4849670451441002)"
            ]
          },
          "metadata": {},
          "execution_count": 138
        }
      ]
    },
    {
      "cell_type": "code",
      "source": [
        "### MinAcqFunc Comparison: Experiment 16\n",
        "\n",
        "minAcqFuncApprox16 = np.mean(approx_16minAcqFunc)\n",
        "minAcqFuncExact16 = np.mean(exact_16minAcqFunc)\n",
        "ratio16 = minAcqFuncApprox16/minAcqFuncExact16\n",
        "approx_16.tau, exact_16.tau, minAcqFuncApprox16, minAcqFuncExact16, ratio16\n"
      ],
      "metadata": {
        "colab": {
          "base_uri": "https://localhost:8080/"
        },
        "id": "vjFFlps7LF7A",
        "outputId": "4782c3e7-f329-4597-db29-a660077b5de0"
      },
      "execution_count": null,
      "outputs": [
        {
          "output_type": "execute_result",
          "data": {
            "text/plain": [
              "(-121.43529547027163,\n",
              " -37.67479662822148,\n",
              " -121.43529518296899,\n",
              " -96.30714211851509,\n",
              " 1.2609168179191874)"
            ]
          },
          "metadata": {},
          "execution_count": 139
        }
      ]
    },
    {
      "cell_type": "code",
      "source": [
        "### MinAcqFunc Comparison: Experiment 17\n",
        "\n",
        "minAcqFuncApprox17 = np.mean(approx_17minAcqFunc)\n",
        "minAcqFuncExact17 = np.mean(exact_17minAcqFunc)\n",
        "ratio17 = minAcqFuncApprox17/minAcqFuncExact17\n",
        "approx_17.tau, exact_17.tau, minAcqFuncApprox17, minAcqFuncExact17, ratio17\n"
      ],
      "metadata": {
        "colab": {
          "base_uri": "https://localhost:8080/"
        },
        "id": "jO0-nRLRLGJv",
        "outputId": "2df0f90a-8f5a-4485-93a7-8f74a4884a55"
      },
      "execution_count": null,
      "outputs": [
        {
          "output_type": "execute_result",
          "data": {
            "text/plain": [
              "(-129.46210636737467,\n",
              " -129.46210636737467,\n",
              " -905.8341804800389,\n",
              " -905.8263169571559,\n",
              " 1.000008681049265)"
            ]
          },
          "metadata": {},
          "execution_count": 140
        }
      ]
    },
    {
      "cell_type": "code",
      "source": [
        "### MinAcqFunc Comparison: Experiment 18\n",
        "\n",
        "minAcqFuncApprox18 = np.mean(approx_18minAcqFunc)\n",
        "minAcqFuncExact18 = np.mean(exact_18minAcqFunc)\n",
        "ratio18 = minAcqFuncApprox18/minAcqFuncExact18\n",
        "approx_18.tau, exact_18.tau, minAcqFuncApprox18, minAcqFuncExact18, ratio18\n"
      ],
      "metadata": {
        "colab": {
          "base_uri": "https://localhost:8080/"
        },
        "id": "5Zo9ub4ULGXh",
        "outputId": "958dd525-9788-40e2-c474-8277e6176c8b"
      },
      "execution_count": null,
      "outputs": [
        {
          "output_type": "execute_result",
          "data": {
            "text/plain": [
              "(-144.3007399321474,\n",
              " -144.3007399321474,\n",
              " -1871.054025477492,\n",
              " -1871.0540216186544,\n",
              " 1.000000002062387)"
            ]
          },
          "metadata": {},
          "execution_count": 141
        }
      ]
    },
    {
      "cell_type": "code",
      "source": [
        "### MinAcqFunc Comparison: Experiment 19\n",
        "\n",
        "minAcqFuncApprox19 = np.mean(approx_19minAcqFunc)\n",
        "minAcqFuncExact19 = np.mean(exact_19minAcqFunc)\n",
        "ratio19 = minAcqFuncApprox19/minAcqFuncExact19\n",
        "approx_19.tau, exact_19.tau, minAcqFuncApprox19, minAcqFuncExact19, ratio19\n"
      ],
      "metadata": {
        "colab": {
          "base_uri": "https://localhost:8080/"
        },
        "id": "1yJ_PLUFLGmh",
        "outputId": "4eafeba2-c22a-40f8-d0d5-96c1cd6dd9fc"
      },
      "execution_count": null,
      "outputs": [
        {
          "output_type": "execute_result",
          "data": {
            "text/plain": [
              "(-312.931762349178,\n",
              " -109.44431912515836,\n",
              " -2023.0642777826783,\n",
              " -2093.6669114590945,\n",
              " 0.9662780009131383)"
            ]
          },
          "metadata": {},
          "execution_count": 142
        }
      ]
    },
    {
      "cell_type": "code",
      "source": [
        "### MinAcqFunc Comparison: Experiment 20\n",
        "\n",
        "minAcqFuncApprox20 = np.mean(approx_20minAcqFunc)\n",
        "minAcqFuncExact20 = np.mean(exact_20minAcqFunc)\n",
        "ratio20 = minAcqFuncApprox20/minAcqFuncExact20\n",
        "approx_20.tau, exact_20.tau, minAcqFuncApprox20, minAcqFuncExact20, ratio20\n"
      ],
      "metadata": {
        "colab": {
          "base_uri": "https://localhost:8080/"
        },
        "id": "Sd9NxsRsLG1P",
        "outputId": "0332e7ce-2ae0-4a4e-83ee-a51ce9249893"
      },
      "execution_count": null,
      "outputs": [
        {
          "output_type": "execute_result",
          "data": {
            "text/plain": [
              "(-17.54641877223321,\n",
              " -394.78758403146605,\n",
              " -786.4073284681782,\n",
              " -839.2040675284882,\n",
              " 0.9370871268345972)"
            ]
          },
          "metadata": {},
          "execution_count": 143
        }
      ]
    },
    {
      "cell_type": "code",
      "source": [
        "num = [1,2,3,4,5,6,7,8,9,10,11,12,13,14,15,16,17,18,19,20]\n",
        "ApproxTau = [approx_1.tau,approx_2.tau,approx_3.tau,approx_4.tau,approx_5.tau,approx_6.tau,approx_7.tau,approx_8.tau,approx_9.tau,approx_10.tau,approx_11.tau,approx_12.tau,approx_13.tau,approx_14.tau,approx_15.tau,approx_16.tau,approx_17.tau,approx_18.tau,approx_19.tau,approx_20.tau]\n",
        "ExactTau = [exact_1.tau,exact_2.tau,exact_3.tau,exact_4.tau,exact_5.tau,exact_6.tau,exact_7.tau,exact_8.tau,exact_9.tau,exact_10.tau,exact_11.tau,exact_12.tau,exact_13.tau,exact_14.tau,exact_15.tau,exact_16.tau,exact_17.tau,exact_18.tau,exact_19.tau,exact_20.tau]\n",
        "AvgMinAcqFuncExact = [minAcqFuncExact1,minAcqFuncExact2,minAcqFuncExact3,minAcqFuncExact4,minAcqFuncExact5,minAcqFuncExact6,minAcqFuncExact7,minAcqFuncExact8,minAcqFuncExact9,minAcqFuncExact10,minAcqFuncExact11,minAcqFuncExact12,minAcqFuncExact13,minAcqFuncExact14,minAcqFuncExact15,minAcqFuncExact16,minAcqFuncExact17,minAcqFuncExact18,minAcqFuncExact19,minAcqFuncExact20]\n",
        "AvgMinAcqFuncApprox = [minAcqFuncApprox1,minAcqFuncApprox2,minAcqFuncApprox3,minAcqFuncApprox4,minAcqFuncApprox5,minAcqFuncApprox6,minAcqFuncApprox7,minAcqFuncApprox8,minAcqFuncApprox9,minAcqFuncApprox10,minAcqFuncApprox11,minAcqFuncApprox12,minAcqFuncApprox13,minAcqFuncApprox14,minAcqFuncApprox15,minAcqFuncApprox16,minAcqFuncApprox17,minAcqFuncApprox18,minAcqFuncApprox19,minAcqFuncApprox20]\n",
        "ratio = [ratio1,ratio2,ratio3,ratio4,ratio5,ratio6,ratio7,ratio8,ratio9,ratio10,ratio11,ratio12,ratio13,ratio14,ratio15,ratio16,ratio17,ratio18,ratio19,ratio20]\n"
      ],
      "metadata": {
        "id": "_Fbc4r50vHHF"
      },
      "execution_count": null,
      "outputs": []
    },
    {
      "cell_type": "code",
      "source": [
        "def greaterThan(a, b):\n",
        "  lis =[]\n",
        "  #convert to list\n",
        "  a = list(a)\n",
        "  b = list(b)\n",
        "  c = \"Yes\"\n",
        "  d = \"No\"\n",
        "  e = \"equal\"\n",
        "  for first, first_te in zip(a, b):\n",
        "      if first < first_te:\n",
        "          lis.append(d)\n",
        "      elif first > first_te:\n",
        "          lis.append(c)\n",
        "      else:\n",
        "          lis.append(e)\n",
        "  return lis\n",
        "\n",
        "greaterAcqFunc = greaterThan(AvgMinAcqFuncExact, AvgMinAcqFuncApprox)\n"
      ],
      "metadata": {
        "id": "gyTQQeQfknKX"
      },
      "execution_count": null,
      "outputs": []
    },
    {
      "cell_type": "code",
      "source": [
        "def greaterRatio(a):\n",
        "  lis =[]\n",
        "  #convert to list\n",
        "  a = list(a)\n",
        "  b = \"Yes\"\n",
        "  c = \"No\"\n",
        "  d = \"equal\"\n",
        "  for first, in zip(a):\n",
        "      if first < 1:\n",
        "          lis.append(c)\n",
        "      elif first > 1:\n",
        "          lis.append(b)\n",
        "      else:\n",
        "          lis.append(d)\n",
        "  return lis\n",
        "\n",
        "greaterRatio = greaterRatio(ratio)\n"
      ],
      "metadata": {
        "id": "wO-_fUfpoYyP"
      },
      "execution_count": null,
      "outputs": []
    },
    {
      "cell_type": "code",
      "source": [
        "df = pd.DataFrame(dict(Experiment=num,\n",
        "                  ExactTau=ExactTau,\n",
        "                  ApproxTau=ApproxTau,\n",
        "                  AvgMinAcqFuncExact=AvgMinAcqFuncExact,\n",
        "                  GreaterAcqFunc = greaterAcqFunc,\n",
        "                  AvgMinAcqFuncApprox=AvgMinAcqFuncApprox,\n",
        "                  Ratio = ratio,\n",
        "                  GreaterRatio = greaterRatio))\n",
        "df.sort_values(by=['ExactTau'], inplace=True, ascending=False)\n",
        "print(df.to_latex(index=False))\n"
      ],
      "metadata": {
        "id": "4EzMdtEQV0yI",
        "colab": {
          "base_uri": "https://localhost:8080/"
        },
        "outputId": "a8a8901f-0154-469e-e3fb-a17a8776e237"
      },
      "execution_count": null,
      "outputs": [
        {
          "output_type": "stream",
          "name": "stdout",
          "text": [
            "\\begin{tabular}{rrrrlrrl}\n",
            "\\toprule\n",
            " Experiment &     ExactTau &    ApproxTau &  AvgMinAcqFuncExact & GreaterAcqFunc &  AvgMinAcqFuncApprox &    Ratio & GreaterRatio \\\\\n",
            "\\midrule\n",
            "         15 &   -14.763124 &   -69.238899 &         -866.391299 &             No &          -420.171228 & 0.484967 &           No \\\\\n",
            "          8 &   -19.158800 &   -19.158800 &          -19.158779 &            Yes &           -19.158800 & 1.000001 &          Yes \\\\\n",
            "         11 &   -22.303898 &   -22.303898 &          -22.303857 &            Yes &           -22.303897 & 1.000002 &          Yes \\\\\n",
            "         12 &   -29.276057 &  -436.518449 &        -1952.813722 &             No &         -1580.572020 & 0.809382 &           No \\\\\n",
            "         13 &   -33.075865 &  -125.740349 &        -2627.400385 &            Yes &         -3480.154135 & 1.324562 &          Yes \\\\\n",
            "         16 &   -37.674797 &  -121.435295 &          -96.307142 &            Yes &          -121.435295 & 1.260917 &          Yes \\\\\n",
            "          5 &   -62.590737 &   -58.096474 &         -489.650908 &             No &          -385.368957 & 0.787028 &           No \\\\\n",
            "         10 &   -76.126606 &  -792.656695 &        -5060.235700 &            Yes &         -5625.791156 & 1.111765 &          Yes \\\\\n",
            "          4 &  -103.859181 &  -298.497918 &        -1231.940621 &            Yes &         -1322.772090 & 1.073730 &          Yes \\\\\n",
            "         19 &  -109.444319 &  -312.931762 &        -2093.666911 &             No &         -2023.064278 & 0.966278 &           No \\\\\n",
            "          1 &  -128.237100 & -1113.764892 &        -1258.888960 &            Yes &         -1617.516268 & 1.284876 &          Yes \\\\\n",
            "         17 &  -129.462106 &  -129.462106 &         -905.826317 &            Yes &          -905.834180 & 1.000009 &          Yes \\\\\n",
            "         18 &  -144.300740 &  -144.300740 &        -1871.054022 &            Yes &         -1871.054025 & 1.000000 &          Yes \\\\\n",
            "          3 &  -171.548209 &   -51.270243 &        -2538.200641 &            Yes &         -2635.976201 & 1.038522 &          Yes \\\\\n",
            "          9 &  -295.296135 &  -223.357860 &         -300.964464 &             No &          -280.087888 & 0.930634 &           No \\\\\n",
            "         20 &  -394.787584 &   -17.546419 &         -839.204068 &             No &          -786.407328 & 0.937087 &           No \\\\\n",
            "          6 &  -445.851045 &  -115.969491 &         -611.652619 &            Yes &          -726.532221 & 1.187818 &          Yes \\\\\n",
            "          2 &  -454.459967 &  -454.452276 &         -525.176924 &             No &          -525.173594 & 0.999994 &           No \\\\\n",
            "          7 &  -567.460467 &  -143.359789 &        -1250.063183 &             No &         -1187.337139 & 0.949822 &           No \\\\\n",
            "         14 & -1016.751839 &   -98.519291 &        -1175.454948 &             No &          -742.014660 & 0.631257 &           No \\\\\n",
            "\\bottomrule\n",
            "\\end{tabular}\n",
            "\n"
          ]
        }
      ]
    },
    {
      "cell_type": "code",
      "source": [
        "avg_list = ['ExactTau', 'ApproxTau', 'AvgMinAcqFuncExact','AvgMinAcqFuncApprox']\n",
        "avg = df[avg_list].mean()\n",
        "avg.name = 'Average'\n",
        "df = df.append(avg.transpose())\n",
        "df.fillna(value='', inplace=True)\n",
        "df\n"
      ],
      "metadata": {
        "id": "HQ6-zjAHD43j",
        "colab": {
          "base_uri": "https://localhost:8080/"
        },
        "outputId": "7c6b5db8-be50-4867-e960-26e099d8649d"
      },
      "execution_count": null,
      "outputs": [
        {
          "output_type": "execute_result",
          "data": {
            "text/plain": [
              "        Experiment     ExactTau    ApproxTau  AvgMinAcqFuncExact  \\\n",
              "14            15.0   -14.763124   -69.238899         -866.391299   \n",
              "7              8.0   -19.158800   -19.158800          -19.158779   \n",
              "10            11.0   -22.303898   -22.303898          -22.303857   \n",
              "11            12.0   -29.276057  -436.518449        -1952.813722   \n",
              "12            13.0   -33.075865  -125.740349        -2627.400385   \n",
              "15            16.0   -37.674797  -121.435295          -96.307142   \n",
              "4              5.0   -62.590737   -58.096474         -489.650908   \n",
              "9             10.0   -76.126606  -792.656695        -5060.235700   \n",
              "3              4.0  -103.859181  -298.497918        -1231.940621   \n",
              "18            19.0  -109.444319  -312.931762        -2093.666911   \n",
              "0              1.0  -128.237100 -1113.764892        -1258.888960   \n",
              "16            17.0  -129.462106  -129.462106         -905.826317   \n",
              "17            18.0  -144.300740  -144.300740        -1871.054022   \n",
              "2              3.0  -171.548209   -51.270243        -2538.200641   \n",
              "8              9.0  -295.296135  -223.357860         -300.964464   \n",
              "19            20.0  -394.787584   -17.546419         -839.204068   \n",
              "5              6.0  -445.851045  -115.969491         -611.652619   \n",
              "1              2.0  -454.459967  -454.452276         -525.176924   \n",
              "6              7.0  -567.460467  -143.359789        -1250.063183   \n",
              "13            14.0 -1016.751839   -98.519291        -1175.454948   \n",
              "Average             -212.821429  -237.429082        -1286.817773   \n",
              "\n",
              "        GreaterAcqFunc  AvgMinAcqFuncApprox     Ratio GreaterRatio  \n",
              "14                  No          -420.171228  0.484967           No  \n",
              "7                  Yes           -19.158800  1.000001          Yes  \n",
              "10                 Yes           -22.303897  1.000002          Yes  \n",
              "11                  No         -1580.572020  0.809382           No  \n",
              "12                 Yes         -3480.154135  1.324562          Yes  \n",
              "15                 Yes          -121.435295  1.260917          Yes  \n",
              "4                   No          -385.368957  0.787028           No  \n",
              "9                  Yes         -5625.791156  1.111765          Yes  \n",
              "3                  Yes         -1322.772090   1.07373          Yes  \n",
              "18                  No         -2023.064278  0.966278           No  \n",
              "0                  Yes         -1617.516268  1.284876          Yes  \n",
              "16                 Yes          -905.834180  1.000009          Yes  \n",
              "17                 Yes         -1871.054025       1.0          Yes  \n",
              "2                  Yes         -2635.976201  1.038522          Yes  \n",
              "8                   No          -280.087888  0.930634           No  \n",
              "19                  No          -786.407328  0.937087           No  \n",
              "5                  Yes          -726.532221  1.187818          Yes  \n",
              "1                   No          -525.173594  0.999994           No  \n",
              "6                   No         -1187.337139  0.949822           No  \n",
              "13                  No          -742.014660  0.631257           No  \n",
              "Average                        -1313.936268                         "
            ],
            "text/html": [
              "\n",
              "  <div id=\"df-e1898a1a-56d1-4195-86b0-9b86423c6d1a\">\n",
              "    <div class=\"colab-df-container\">\n",
              "      <div>\n",
              "<style scoped>\n",
              "    .dataframe tbody tr th:only-of-type {\n",
              "        vertical-align: middle;\n",
              "    }\n",
              "\n",
              "    .dataframe tbody tr th {\n",
              "        vertical-align: top;\n",
              "    }\n",
              "\n",
              "    .dataframe thead th {\n",
              "        text-align: right;\n",
              "    }\n",
              "</style>\n",
              "<table border=\"1\" class=\"dataframe\">\n",
              "  <thead>\n",
              "    <tr style=\"text-align: right;\">\n",
              "      <th></th>\n",
              "      <th>Experiment</th>\n",
              "      <th>ExactTau</th>\n",
              "      <th>ApproxTau</th>\n",
              "      <th>AvgMinAcqFuncExact</th>\n",
              "      <th>GreaterAcqFunc</th>\n",
              "      <th>AvgMinAcqFuncApprox</th>\n",
              "      <th>Ratio</th>\n",
              "      <th>GreaterRatio</th>\n",
              "    </tr>\n",
              "  </thead>\n",
              "  <tbody>\n",
              "    <tr>\n",
              "      <th>14</th>\n",
              "      <td>15.0</td>\n",
              "      <td>-14.763124</td>\n",
              "      <td>-69.238899</td>\n",
              "      <td>-866.391299</td>\n",
              "      <td>No</td>\n",
              "      <td>-420.171228</td>\n",
              "      <td>0.484967</td>\n",
              "      <td>No</td>\n",
              "    </tr>\n",
              "    <tr>\n",
              "      <th>7</th>\n",
              "      <td>8.0</td>\n",
              "      <td>-19.158800</td>\n",
              "      <td>-19.158800</td>\n",
              "      <td>-19.158779</td>\n",
              "      <td>Yes</td>\n",
              "      <td>-19.158800</td>\n",
              "      <td>1.000001</td>\n",
              "      <td>Yes</td>\n",
              "    </tr>\n",
              "    <tr>\n",
              "      <th>10</th>\n",
              "      <td>11.0</td>\n",
              "      <td>-22.303898</td>\n",
              "      <td>-22.303898</td>\n",
              "      <td>-22.303857</td>\n",
              "      <td>Yes</td>\n",
              "      <td>-22.303897</td>\n",
              "      <td>1.000002</td>\n",
              "      <td>Yes</td>\n",
              "    </tr>\n",
              "    <tr>\n",
              "      <th>11</th>\n",
              "      <td>12.0</td>\n",
              "      <td>-29.276057</td>\n",
              "      <td>-436.518449</td>\n",
              "      <td>-1952.813722</td>\n",
              "      <td>No</td>\n",
              "      <td>-1580.572020</td>\n",
              "      <td>0.809382</td>\n",
              "      <td>No</td>\n",
              "    </tr>\n",
              "    <tr>\n",
              "      <th>12</th>\n",
              "      <td>13.0</td>\n",
              "      <td>-33.075865</td>\n",
              "      <td>-125.740349</td>\n",
              "      <td>-2627.400385</td>\n",
              "      <td>Yes</td>\n",
              "      <td>-3480.154135</td>\n",
              "      <td>1.324562</td>\n",
              "      <td>Yes</td>\n",
              "    </tr>\n",
              "    <tr>\n",
              "      <th>15</th>\n",
              "      <td>16.0</td>\n",
              "      <td>-37.674797</td>\n",
              "      <td>-121.435295</td>\n",
              "      <td>-96.307142</td>\n",
              "      <td>Yes</td>\n",
              "      <td>-121.435295</td>\n",
              "      <td>1.260917</td>\n",
              "      <td>Yes</td>\n",
              "    </tr>\n",
              "    <tr>\n",
              "      <th>4</th>\n",
              "      <td>5.0</td>\n",
              "      <td>-62.590737</td>\n",
              "      <td>-58.096474</td>\n",
              "      <td>-489.650908</td>\n",
              "      <td>No</td>\n",
              "      <td>-385.368957</td>\n",
              "      <td>0.787028</td>\n",
              "      <td>No</td>\n",
              "    </tr>\n",
              "    <tr>\n",
              "      <th>9</th>\n",
              "      <td>10.0</td>\n",
              "      <td>-76.126606</td>\n",
              "      <td>-792.656695</td>\n",
              "      <td>-5060.235700</td>\n",
              "      <td>Yes</td>\n",
              "      <td>-5625.791156</td>\n",
              "      <td>1.111765</td>\n",
              "      <td>Yes</td>\n",
              "    </tr>\n",
              "    <tr>\n",
              "      <th>3</th>\n",
              "      <td>4.0</td>\n",
              "      <td>-103.859181</td>\n",
              "      <td>-298.497918</td>\n",
              "      <td>-1231.940621</td>\n",
              "      <td>Yes</td>\n",
              "      <td>-1322.772090</td>\n",
              "      <td>1.07373</td>\n",
              "      <td>Yes</td>\n",
              "    </tr>\n",
              "    <tr>\n",
              "      <th>18</th>\n",
              "      <td>19.0</td>\n",
              "      <td>-109.444319</td>\n",
              "      <td>-312.931762</td>\n",
              "      <td>-2093.666911</td>\n",
              "      <td>No</td>\n",
              "      <td>-2023.064278</td>\n",
              "      <td>0.966278</td>\n",
              "      <td>No</td>\n",
              "    </tr>\n",
              "    <tr>\n",
              "      <th>0</th>\n",
              "      <td>1.0</td>\n",
              "      <td>-128.237100</td>\n",
              "      <td>-1113.764892</td>\n",
              "      <td>-1258.888960</td>\n",
              "      <td>Yes</td>\n",
              "      <td>-1617.516268</td>\n",
              "      <td>1.284876</td>\n",
              "      <td>Yes</td>\n",
              "    </tr>\n",
              "    <tr>\n",
              "      <th>16</th>\n",
              "      <td>17.0</td>\n",
              "      <td>-129.462106</td>\n",
              "      <td>-129.462106</td>\n",
              "      <td>-905.826317</td>\n",
              "      <td>Yes</td>\n",
              "      <td>-905.834180</td>\n",
              "      <td>1.000009</td>\n",
              "      <td>Yes</td>\n",
              "    </tr>\n",
              "    <tr>\n",
              "      <th>17</th>\n",
              "      <td>18.0</td>\n",
              "      <td>-144.300740</td>\n",
              "      <td>-144.300740</td>\n",
              "      <td>-1871.054022</td>\n",
              "      <td>Yes</td>\n",
              "      <td>-1871.054025</td>\n",
              "      <td>1.0</td>\n",
              "      <td>Yes</td>\n",
              "    </tr>\n",
              "    <tr>\n",
              "      <th>2</th>\n",
              "      <td>3.0</td>\n",
              "      <td>-171.548209</td>\n",
              "      <td>-51.270243</td>\n",
              "      <td>-2538.200641</td>\n",
              "      <td>Yes</td>\n",
              "      <td>-2635.976201</td>\n",
              "      <td>1.038522</td>\n",
              "      <td>Yes</td>\n",
              "    </tr>\n",
              "    <tr>\n",
              "      <th>8</th>\n",
              "      <td>9.0</td>\n",
              "      <td>-295.296135</td>\n",
              "      <td>-223.357860</td>\n",
              "      <td>-300.964464</td>\n",
              "      <td>No</td>\n",
              "      <td>-280.087888</td>\n",
              "      <td>0.930634</td>\n",
              "      <td>No</td>\n",
              "    </tr>\n",
              "    <tr>\n",
              "      <th>19</th>\n",
              "      <td>20.0</td>\n",
              "      <td>-394.787584</td>\n",
              "      <td>-17.546419</td>\n",
              "      <td>-839.204068</td>\n",
              "      <td>No</td>\n",
              "      <td>-786.407328</td>\n",
              "      <td>0.937087</td>\n",
              "      <td>No</td>\n",
              "    </tr>\n",
              "    <tr>\n",
              "      <th>5</th>\n",
              "      <td>6.0</td>\n",
              "      <td>-445.851045</td>\n",
              "      <td>-115.969491</td>\n",
              "      <td>-611.652619</td>\n",
              "      <td>Yes</td>\n",
              "      <td>-726.532221</td>\n",
              "      <td>1.187818</td>\n",
              "      <td>Yes</td>\n",
              "    </tr>\n",
              "    <tr>\n",
              "      <th>1</th>\n",
              "      <td>2.0</td>\n",
              "      <td>-454.459967</td>\n",
              "      <td>-454.452276</td>\n",
              "      <td>-525.176924</td>\n",
              "      <td>No</td>\n",
              "      <td>-525.173594</td>\n",
              "      <td>0.999994</td>\n",
              "      <td>No</td>\n",
              "    </tr>\n",
              "    <tr>\n",
              "      <th>6</th>\n",
              "      <td>7.0</td>\n",
              "      <td>-567.460467</td>\n",
              "      <td>-143.359789</td>\n",
              "      <td>-1250.063183</td>\n",
              "      <td>No</td>\n",
              "      <td>-1187.337139</td>\n",
              "      <td>0.949822</td>\n",
              "      <td>No</td>\n",
              "    </tr>\n",
              "    <tr>\n",
              "      <th>13</th>\n",
              "      <td>14.0</td>\n",
              "      <td>-1016.751839</td>\n",
              "      <td>-98.519291</td>\n",
              "      <td>-1175.454948</td>\n",
              "      <td>No</td>\n",
              "      <td>-742.014660</td>\n",
              "      <td>0.631257</td>\n",
              "      <td>No</td>\n",
              "    </tr>\n",
              "    <tr>\n",
              "      <th>Average</th>\n",
              "      <td></td>\n",
              "      <td>-212.821429</td>\n",
              "      <td>-237.429082</td>\n",
              "      <td>-1286.817773</td>\n",
              "      <td></td>\n",
              "      <td>-1313.936268</td>\n",
              "      <td></td>\n",
              "      <td></td>\n",
              "    </tr>\n",
              "  </tbody>\n",
              "</table>\n",
              "</div>\n",
              "      <button class=\"colab-df-convert\" onclick=\"convertToInteractive('df-e1898a1a-56d1-4195-86b0-9b86423c6d1a')\"\n",
              "              title=\"Convert this dataframe to an interactive table.\"\n",
              "              style=\"display:none;\">\n",
              "        \n",
              "  <svg xmlns=\"http://www.w3.org/2000/svg\" height=\"24px\"viewBox=\"0 0 24 24\"\n",
              "       width=\"24px\">\n",
              "    <path d=\"M0 0h24v24H0V0z\" fill=\"none\"/>\n",
              "    <path d=\"M18.56 5.44l.94 2.06.94-2.06 2.06-.94-2.06-.94-.94-2.06-.94 2.06-2.06.94zm-11 1L8.5 8.5l.94-2.06 2.06-.94-2.06-.94L8.5 2.5l-.94 2.06-2.06.94zm10 10l.94 2.06.94-2.06 2.06-.94-2.06-.94-.94-2.06-.94 2.06-2.06.94z\"/><path d=\"M17.41 7.96l-1.37-1.37c-.4-.4-.92-.59-1.43-.59-.52 0-1.04.2-1.43.59L10.3 9.45l-7.72 7.72c-.78.78-.78 2.05 0 2.83L4 21.41c.39.39.9.59 1.41.59.51 0 1.02-.2 1.41-.59l7.78-7.78 2.81-2.81c.8-.78.8-2.07 0-2.86zM5.41 20L4 18.59l7.72-7.72 1.47 1.35L5.41 20z\"/>\n",
              "  </svg>\n",
              "      </button>\n",
              "      \n",
              "  <style>\n",
              "    .colab-df-container {\n",
              "      display:flex;\n",
              "      flex-wrap:wrap;\n",
              "      gap: 12px;\n",
              "    }\n",
              "\n",
              "    .colab-df-convert {\n",
              "      background-color: #E8F0FE;\n",
              "      border: none;\n",
              "      border-radius: 50%;\n",
              "      cursor: pointer;\n",
              "      display: none;\n",
              "      fill: #1967D2;\n",
              "      height: 32px;\n",
              "      padding: 0 0 0 0;\n",
              "      width: 32px;\n",
              "    }\n",
              "\n",
              "    .colab-df-convert:hover {\n",
              "      background-color: #E2EBFA;\n",
              "      box-shadow: 0px 1px 2px rgba(60, 64, 67, 0.3), 0px 1px 3px 1px rgba(60, 64, 67, 0.15);\n",
              "      fill: #174EA6;\n",
              "    }\n",
              "\n",
              "    [theme=dark] .colab-df-convert {\n",
              "      background-color: #3B4455;\n",
              "      fill: #D2E3FC;\n",
              "    }\n",
              "\n",
              "    [theme=dark] .colab-df-convert:hover {\n",
              "      background-color: #434B5C;\n",
              "      box-shadow: 0px 1px 3px 1px rgba(0, 0, 0, 0.15);\n",
              "      filter: drop-shadow(0px 1px 2px rgba(0, 0, 0, 0.3));\n",
              "      fill: #FFFFFF;\n",
              "    }\n",
              "  </style>\n",
              "\n",
              "      <script>\n",
              "        const buttonEl =\n",
              "          document.querySelector('#df-e1898a1a-56d1-4195-86b0-9b86423c6d1a button.colab-df-convert');\n",
              "        buttonEl.style.display =\n",
              "          google.colab.kernel.accessAllowed ? 'block' : 'none';\n",
              "\n",
              "        async function convertToInteractive(key) {\n",
              "          const element = document.querySelector('#df-e1898a1a-56d1-4195-86b0-9b86423c6d1a');\n",
              "          const dataTable =\n",
              "            await google.colab.kernel.invokeFunction('convertToInteractive',\n",
              "                                                     [key], {});\n",
              "          if (!dataTable) return;\n",
              "\n",
              "          const docLinkHtml = 'Like what you see? Visit the ' +\n",
              "            '<a target=\"_blank\" href=https://colab.research.google.com/notebooks/data_table.ipynb>data table notebook</a>'\n",
              "            + ' to learn more about interactive tables.';\n",
              "          element.innerHTML = '';\n",
              "          dataTable['output_type'] = 'display_data';\n",
              "          await google.colab.output.renderOutput(dataTable, element);\n",
              "          const docLink = document.createElement('div');\n",
              "          docLink.innerHTML = docLinkHtml;\n",
              "          element.appendChild(docLink);\n",
              "        }\n",
              "      </script>\n",
              "    </div>\n",
              "  </div>\n",
              "  "
            ]
          },
          "metadata": {},
          "execution_count": 148
        }
      ]
    },
    {
      "cell_type": "code",
      "source": [
        "print('Ratio of Average ExactTau to Average ApproxTau:', np.round(avg[1]/avg[0], 5))\n",
        "print('Ratio of Average AvgMinAcqFuncExact to Average AvgMinAcqFuncApprox:', np.round(avg[3]/avg[2], 5))\n",
        "print('Number of experiments where AvgMinAcqFuncExact exceeds AvgMinAcqFuncApprox:', df['GreaterAcqFunc'].value_counts()['Yes'])\n",
        "print('Number of experiments where Ratio exceeds 1.0:', df['GreaterRatio'].value_counts()['Yes'])\n"
      ],
      "metadata": {
        "colab": {
          "base_uri": "https://localhost:8080/"
        },
        "id": "PMHyl7Wdu1bm",
        "outputId": "215eaec4-2527-4d03-ab0c-9d6bd1d2c0e7"
      },
      "execution_count": 150,
      "outputs": [
        {
          "output_type": "stream",
          "name": "stdout",
          "text": [
            "Ratio of Average ExactTau to Average ApproxTau: 1.11563\n",
            "Ratio of Average AvgMinAcqFuncExact to Average AvgMinAcqFuncApprox: 1.02107\n",
            "Number of experiments where AvgMinAcqFuncExact exceeds AvgMinAcqFuncApprox: 11\n",
            "Number of experiments where Ratio exceeds 1.0: 11\n"
          ]
        }
      ]
    },
    {
      "cell_type": "code",
      "source": [
        ""
      ],
      "metadata": {
        "id": "2GmXuB8wsCOS"
      },
      "execution_count": null,
      "outputs": []
    }
  ]
}