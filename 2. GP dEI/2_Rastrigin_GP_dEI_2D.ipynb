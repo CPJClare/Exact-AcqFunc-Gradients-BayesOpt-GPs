{
  "nbformat": 4,
  "nbformat_minor": 0,
  "metadata": {
    "colab": {
      "name": "2. Rastrigin_GP_dEI_2D.ipynb",
      "provenance": [],
      "collapsed_sections": []
    },
    "kernelspec": {
      "name": "python3",
      "display_name": "Python 3"
    },
    "language_info": {
      "name": "python"
    }
  },
  "cells": [
    {
      "cell_type": "markdown",
      "metadata": {
        "id": "Dqn4dFx7Z2Ir"
      },
      "source": [
        "\n",
        "Rastrigin: 2D\n"
      ]
    },
    {
      "cell_type": "code",
      "metadata": {
        "id": "MJTM_GZZZb5x",
        "colab": {
          "base_uri": "https://localhost:8080/"
        },
        "outputId": "63cbe25c-e20a-47ae-80f4-78e833181e8f"
      },
      "source": [
        "pip install pyGPGO\n"
      ],
      "execution_count": 1,
      "outputs": [
        {
          "output_type": "stream",
          "name": "stdout",
          "text": [
            "Requirement already satisfied: pyGPGO in /usr/local/lib/python3.7/dist-packages (0.5.1)\n",
            "Requirement already satisfied: mkl in /usr/local/lib/python3.7/dist-packages (from pyGPGO) (2019.0)\n",
            "Requirement already satisfied: Theano-PyMC in /usr/local/lib/python3.7/dist-packages (from pyGPGO) (1.1.2)\n",
            "Requirement already satisfied: pyMC3 in /usr/local/lib/python3.7/dist-packages (from pyGPGO) (3.11.4)\n",
            "Requirement already satisfied: scikit-learn in /usr/local/lib/python3.7/dist-packages (from pyGPGO) (1.0.2)\n",
            "Requirement already satisfied: scipy in /usr/local/lib/python3.7/dist-packages (from pyGPGO) (1.4.1)\n",
            "Requirement already satisfied: numpy in /usr/local/lib/python3.7/dist-packages (from pyGPGO) (1.21.5)\n",
            "Requirement already satisfied: joblib in /usr/local/lib/python3.7/dist-packages (from pyGPGO) (1.1.0)\n",
            "Requirement already satisfied: intel-openmp in /usr/local/lib/python3.7/dist-packages (from mkl->pyGPGO) (2022.0.2)\n",
            "Requirement already satisfied: pandas>=0.24.0 in /usr/local/lib/python3.7/dist-packages (from pyMC3->pyGPGO) (1.3.5)\n",
            "Requirement already satisfied: cachetools>=4.2.1 in /usr/local/lib/python3.7/dist-packages (from pyMC3->pyGPGO) (4.2.4)\n",
            "Requirement already satisfied: fastprogress>=0.2.0 in /usr/local/lib/python3.7/dist-packages (from pyMC3->pyGPGO) (1.0.0)\n",
            "Requirement already satisfied: semver>=2.13.0 in /usr/local/lib/python3.7/dist-packages (from pyMC3->pyGPGO) (2.13.0)\n",
            "Requirement already satisfied: arviz>=0.11.0 in /usr/local/lib/python3.7/dist-packages (from pyMC3->pyGPGO) (0.11.4)\n",
            "Requirement already satisfied: typing-extensions>=3.7.4 in /usr/local/lib/python3.7/dist-packages (from pyMC3->pyGPGO) (3.10.0.2)\n",
            "Requirement already satisfied: dill in /usr/local/lib/python3.7/dist-packages (from pyMC3->pyGPGO) (0.3.4)\n",
            "Requirement already satisfied: patsy>=0.5.1 in /usr/local/lib/python3.7/dist-packages (from pyMC3->pyGPGO) (0.5.2)\n",
            "Requirement already satisfied: filelock in /usr/local/lib/python3.7/dist-packages (from Theano-PyMC->pyGPGO) (3.4.2)\n",
            "Requirement already satisfied: netcdf4 in /usr/local/lib/python3.7/dist-packages (from arviz>=0.11.0->pyMC3->pyGPGO) (1.5.8)\n",
            "Requirement already satisfied: matplotlib>=3.0 in /usr/local/lib/python3.7/dist-packages (from arviz>=0.11.0->pyMC3->pyGPGO) (3.2.2)\n",
            "Requirement already satisfied: packaging in /usr/local/lib/python3.7/dist-packages (from arviz>=0.11.0->pyMC3->pyGPGO) (21.3)\n",
            "Requirement already satisfied: xarray>=0.16.1 in /usr/local/lib/python3.7/dist-packages (from arviz>=0.11.0->pyMC3->pyGPGO) (0.18.2)\n",
            "Requirement already satisfied: setuptools>=38.4 in /usr/local/lib/python3.7/dist-packages (from arviz>=0.11.0->pyMC3->pyGPGO) (57.4.0)\n",
            "Requirement already satisfied: python-dateutil>=2.1 in /usr/local/lib/python3.7/dist-packages (from matplotlib>=3.0->arviz>=0.11.0->pyMC3->pyGPGO) (2.8.2)\n",
            "Requirement already satisfied: kiwisolver>=1.0.1 in /usr/local/lib/python3.7/dist-packages (from matplotlib>=3.0->arviz>=0.11.0->pyMC3->pyGPGO) (1.3.2)\n",
            "Requirement already satisfied: pyparsing!=2.0.4,!=2.1.2,!=2.1.6,>=2.0.1 in /usr/local/lib/python3.7/dist-packages (from matplotlib>=3.0->arviz>=0.11.0->pyMC3->pyGPGO) (3.0.7)\n",
            "Requirement already satisfied: cycler>=0.10 in /usr/local/lib/python3.7/dist-packages (from matplotlib>=3.0->arviz>=0.11.0->pyMC3->pyGPGO) (0.11.0)\n",
            "Requirement already satisfied: pytz>=2017.3 in /usr/local/lib/python3.7/dist-packages (from pandas>=0.24.0->pyMC3->pyGPGO) (2018.9)\n",
            "Requirement already satisfied: six in /usr/local/lib/python3.7/dist-packages (from patsy>=0.5.1->pyMC3->pyGPGO) (1.15.0)\n",
            "Requirement already satisfied: cftime in /usr/local/lib/python3.7/dist-packages (from netcdf4->arviz>=0.11.0->pyMC3->pyGPGO) (1.5.2)\n",
            "Requirement already satisfied: threadpoolctl>=2.0.0 in /usr/local/lib/python3.7/dist-packages (from scikit-learn->pyGPGO) (3.1.0)\n"
          ]
        }
      ]
    },
    {
      "cell_type": "code",
      "metadata": {
        "id": "ZJSSPbwPaEUB"
      },
      "source": [
        "### Import:\n",
        "\n",
        "import numpy as np\n",
        "import scipy as sp\n",
        "import pandas as pd\n",
        "import matplotlib.pyplot as plt\n",
        "import warnings\n",
        "import itertools\n",
        "\n",
        "from pyGPGO.GPGO import GPGO\n",
        "from pyGPGO.surrogates.GaussianProcess import GaussianProcess\n",
        "from pyGPGO.acquisition import Acquisition\n",
        "from pyGPGO.covfunc import squaredExponential\n",
        "\n",
        "from joblib import Parallel, delayed\n",
        "from numpy.linalg import solve, cholesky\n",
        "from scipy.spatial.distance import cdist\n",
        "from scipy.optimize import minimize\n",
        "from scipy.stats import norm\n",
        "import time\n",
        "\n",
        "warnings.filterwarnings(\"ignore\", category=RuntimeWarning)\n"
      ],
      "execution_count": 2,
      "outputs": []
    },
    {
      "cell_type": "code",
      "metadata": {
        "id": "OeYcTUNoaJWa"
      },
      "source": [
        "### Inputs:\n",
        "\n",
        "func = 'Rastrigin'\n",
        "n_test = 500\n",
        "eps = 1e-08\n",
        "\n",
        "util_grad_exact = 'dEI_GP'\n",
        "util_grad_approx = 'ExpectedImprovement'\n",
        "\n",
        "n_init = 5 # random initialisations\n",
        "iters = 20\n",
        "opt = True"
      ],
      "execution_count": 3,
      "outputs": []
    },
    {
      "cell_type": "code",
      "metadata": {
        "id": "xpaEOjdzaPMS"
      },
      "source": [
        "### Objective Function - Rastrigin(x) 2-D:\n",
        "\n",
        "def objfunc(x1_training, x2_training):\n",
        "        return  operator * (10 * dim + x1_training** 2 - 10 * np.cos(2 * np.pi * x1_training)\n",
        "                                    + x2_training** 2 - 10 * np.cos(2 * np.pi * x2_training)\n",
        "                          )\n",
        "        \n",
        "def objfunc_der(x1_training, x2_training):\n",
        "        return  operator * (2 * x1_training + 20 * np.pi * np.sin(2 * np.pi * x1_training)\n",
        "                                    + 2 * x2_training + 20 * np.pi * np.sin(2 * np.pi * x2_training)\n",
        "                          )\n",
        "    \n",
        "# Constraints:\n",
        "lb = -5.12 \n",
        "ub = +5.12\n",
        "    \n",
        "# Input array dimension(s):\n",
        "dim = 2\n",
        "\n",
        "# 2-D inputs' parameter bounds:\n",
        "param = {'x1_training': ('cont', [lb, ub]),\n",
        "             'x2_training': ('cont', [lb, ub])}\n",
        "\n",
        "# True y bounds:\n",
        "operator = -1\n",
        "y_global_orig = 0 # targets global minimum\n",
        "\n",
        "# Test data:\n",
        "x1_test = np.linspace(lb, ub, n_test) \n",
        "x2_test = np.linspace(lb, ub, n_test)\n",
        "  \n",
        "x_test = np.column_stack((x1_test,x2_test))\n"
      ],
      "execution_count": 4,
      "outputs": []
    },
    {
      "cell_type": "code",
      "metadata": {
        "id": "eYpI3Zm4aGxi"
      },
      "source": [
        "n_start_AcqFunc = iters\n"
      ],
      "execution_count": 5,
      "outputs": []
    },
    {
      "cell_type": "code",
      "metadata": {
        "id": "oO_GUmOoaV0T"
      },
      "source": [
        "### Cumulative Regret Calculator:\n",
        "\n",
        "def min_max_array(x):\n",
        "    new_list = []\n",
        "    for i, num in enumerate(x):\n",
        "            new_list.append(np.min(x[0:i+1]))\n",
        "    return new_list\n",
        "  "
      ],
      "execution_count": 6,
      "outputs": []
    },
    {
      "cell_type": "code",
      "metadata": {
        "id": "kuuJx0IMam9S"
      },
      "source": [
        "### Surrogate derivatives: \n",
        "\n",
        "cov_func = squaredExponential()\n",
        "\n",
        "def kronDelta(X, Xstar):                     # Kronecker's Delta method\n",
        "    return cdist(X, Xstar) < np.finfo(np.float32).eps\n",
        "\n",
        "def se(X, Xstar, sigmaf, l, sigman):         # S.E. kernel method\n",
        "    return sigmaf * np.exp(-0.5 * cdist(X, Xstar) ** 2 / l ** 2) + sigman * kronDelta(X, Xstar)\n",
        "\n",
        "def delta(X, Xstar):                         # Distance between training X and test Xstar vectors\n",
        "    return (X - Xstar)\n",
        "   \n",
        "def der_covmat(X, Xstar, sigmaf, l, sigman): # Covariance matrix derivative terms (i.e. exact, first-order)\n",
        "    nx = len(X)\n",
        "    ny = len(Xstar)\n",
        "    return np.round(np.array([(delta(np.atleast_2d(i), np.atleast_2d(j))[0] * se(np.atleast_2d(i), np.atleast_2d(j), sigmaf, l, sigman)[0]).sum() for (i, j) in itertools.product(X, Xstar)]).reshape(nx, ny), 8)\n",
        "\n",
        "class dGaussianProcess(GaussianProcess):    # Via inheritance, also optimises hyperparameters when opt = TRUE\n",
        "    \n",
        "    def AcqGrad(self, Xstar):               # Method returning exact, first-order derivatives of the GP's posterior mean and standard deviation\n",
        "        Xstar = np.atleast_2d(Xstar)\n",
        "        Kstar = self.covfunc.K(self.X, Xstar).T\n",
        "        \n",
        "        dKstar = der_covmat(self.X, Xstar, self.covfunc.sigmaf, self.covfunc.l, self.covfunc.sigman).T\n",
        "        alpha_Kstar = np.dot(np.linalg.inv(self.K + (self.covfunc.sigman**2) * np.eye(len(self.X))), Kstar.T)\n",
        "        \n",
        "        dm = np.dot(dKstar, self.alpha)\n",
        "        ds = -2 * np.dot(dKstar, alpha_Kstar)\n",
        "        \n",
        "        return dm, ds           \n",
        "        "
      ],
      "execution_count": 7,
      "outputs": []
    },
    {
      "cell_type": "code",
      "metadata": {
        "id": "_Dc3YVHVaXz7"
      },
      "source": [
        "### Add exact acquisition function gradient as attribute:\n",
        "\n",
        "class Acquisition_new(Acquisition):    \n",
        "    def __init__(self, mode, eps=eps, **params):\n",
        "        \n",
        "        self.params = params\n",
        "        self.eps = eps\n",
        "\n",
        "        mode_dict = {\n",
        "            'dEI_GP': self.dEI_GP\n",
        "        }\n",
        "\n",
        "        self.f = mode_dict[mode]\n",
        "    \n",
        "    def dEI_GP(self, tau, mean, std, ds, dm):\n",
        "        gamma = (mean - tau - self.eps) / (std + self.eps)\n",
        "        gamma_h = (mean - tau) / (std + self.eps)\n",
        "        dsdx = ds / (2 * (std + self.eps))\n",
        "        dmdx = (dm - gamma * dsdx) / (std + self.eps)\n",
        "        \n",
        "        f = (std + self.eps) * (gamma * norm.cdf(gamma) + norm.pdf(gamma))\n",
        "        df1 = f / (std + self.eps) * dsdx \n",
        "        df2 = (std + self.eps) * norm.cdf(gamma) * dmdx\n",
        "        df = (df1 + df2)[0]\n",
        "        df_arr = []\n",
        "\n",
        "        for j in range(0, dim):\n",
        "          df_arr.append(df)\n",
        "        return f, np.asarray(df_arr).transpose()\n",
        "        \n",
        "    def d_eval(self, tau, mean, std, ds, dm):\n",
        "    \n",
        "        return self.f(tau, mean, std, ds, dm, **self.params)\n",
        "        "
      ],
      "execution_count": 8,
      "outputs": []
    },
    {
      "cell_type": "code",
      "metadata": {
        "id": "PITEQC8YSl7i"
      },
      "source": [
        "## GPGO_multi: \n",
        "\n",
        "class GPGO_multi(GPGO):\n",
        "    n_start = n_start_AcqFunc\n",
        "\n",
        "    def __init__(self, surrogate, acquisition, f, parameter_dict, n_jobs=1):\n",
        "        self.GP = surrogate\n",
        "        self.A = acquisition\n",
        "        self.f = f\n",
        "        self.parameters = parameter_dict\n",
        "        self.n_jobs = n_jobs\n",
        "\n",
        "        self.parameter_key = list(parameter_dict.keys())\n",
        "        self.parameter_value = list(parameter_dict.values())\n",
        "        self.parameter_type = [p[0] for p in self.parameter_value]\n",
        "        self.parameter_range = [p[1] for p in self.parameter_value]\n",
        "\n",
        "        self.history = []\n",
        "        self.header =   'Evaluation \\t Proposed point \\t  Current eval. \\t  Best eval. \\t         Max AcqFunc.'\n",
        "        self.template = '{:3}\\t {}\\t {:3}\\t {:3}\\t {:3}'\n",
        "\n",
        "    def _optimizeAcq(self, method='L-BFGS-B', n_start=n_start_AcqFunc):\n",
        "        \n",
        "        start_points_dict = [self._sampleParam() for i in range(n_start)]\n",
        "        start_points_arr = np.array([list(s.values())\n",
        "                                     for s in start_points_dict])\n",
        "        x_best = np.empty((n_start, len(self.parameter_key)))\n",
        "        f_best = np.empty((n_start,))\n",
        "        opt = Parallel(n_jobs=self.n_jobs)(delayed(minimize)(self._acqWrapper,\n",
        "                                                                 x0=start_point,\n",
        "                                                                 method=method,\n",
        "                                                                 bounds=self.parameter_range) for start_point in\n",
        "                                               start_points_arr)\n",
        "        x_best = np.array([res.x for res in opt])\n",
        "        f_best = np.array([np.atleast_1d(res.fun)[0] for res in opt])\n",
        "        f_best_min = min(f_best)\n",
        "\n",
        "        self.x_best = x_best\n",
        "        self.f_best = f_best\n",
        "        self.f_best_min = f_best_min\n",
        "        self.best = x_best[np.argmin(f_best)]\n",
        "        self.start_points_arr = start_points_arr\n",
        "        \n",
        "        self.history.append(self.f_best_min)\n",
        "          \n",
        "    def _printInit(self):\n",
        "        print(self.header)\n",
        "        for init_eval in range(self.init_evals):\n",
        "            print(self.template.format('init', self.GP.X[init_eval], self.GP.y[init_eval], self.tau, ''))\n",
        "      \n",
        "    def _printCurrent(self):\n",
        "        OKGREEN = '\\033[92m'\n",
        "        ENDC = '\\033[0m'\n",
        "        BOLD = '\\033[1m'\n",
        "        eval = str(len(self.GP.y) - self.init_evals)\n",
        "        proposed = str(self.best)\n",
        "        curr_eval = str(self.GP.y[-1])\n",
        "        curr_best = str(self.tau)\n",
        "        max_acqfunc = str(self.f_best_min)\n",
        "        if float(curr_eval) >= float(curr_best):\n",
        "            eval = BOLD + OKGREEN + eval + ENDC\n",
        "            proposed = BOLD + OKGREEN + proposed + ENDC\n",
        "            curr_eval = BOLD + OKGREEN + curr_eval + ENDC\n",
        "            curr_best = BOLD + OKGREEN + curr_best + ENDC\n",
        "            max_acqfunc = BOLD + OKGREEN + str(self.f_best_min) + ENDC\n",
        "        print(self.template.format(eval, proposed, curr_eval, curr_best, max_acqfunc))\n",
        "\n",
        "    def run(self, max_iter=10, init_evals=3, resume=False):\n",
        "        \n",
        "        if not resume:\n",
        "            self.init_evals = init_evals\n",
        "            self._firstRun(self.init_evals)\n",
        "            self._printInit()\n",
        "        for iteration in range(max_iter):\n",
        "            self._optimizeAcq()\n",
        "            self.updateGP()\n",
        "            self._printCurrent()\n"
      ],
      "execution_count": 9,
      "outputs": []
    },
    {
      "cell_type": "code",
      "metadata": {
        "id": "b_B-w81BJxKN"
      },
      "source": [
        "## dGPGO:\n",
        "\n",
        "grad = 1\n",
        "\n",
        "class dGPGO(GPGO):\n",
        "    n_start = n_start_AcqFunc\n",
        "\n",
        "    def __init__(self, surrogate, acquisition, f, parameter_dict, n_jobs=1):\n",
        "        self.GP = surrogate\n",
        "        self.A = acquisition\n",
        "        self.f = f\n",
        "        self.parameters = parameter_dict\n",
        "        self.n_jobs = n_jobs\n",
        "\n",
        "        self.parameter_key = list(parameter_dict.keys())\n",
        "        self.parameter_value = list(parameter_dict.values())\n",
        "        self.parameter_type = [p[0] for p in self.parameter_value]\n",
        "        self.parameter_range = [p[1] for p in self.parameter_value]\n",
        "\n",
        "        self.history = []\n",
        "        self.header =   'Evaluation \\t Proposed point \\t  Current eval. \\t  Best eval. \\t         Max AcqFunc.'\n",
        "        self.template = '{:3}\\t {}\\t {:3}\\t {:3}\\t {:3}'\n",
        "\n",
        "    def d_optimizeAcq(self, method='L-BFGS-B', n_start=n_start_AcqFunc):\n",
        "        start_points_dict = [self._sampleParam() for i in range(n_start)]\n",
        "        start_points_arr = np.array([list(s.values())\n",
        "                                     for s in start_points_dict])\n",
        "        x_best = np.empty((n_start, len(self.parameter_key)))\n",
        "        f_best = np.empty((n_start,))\n",
        "        opt = Parallel(n_jobs=self.n_jobs)(delayed(minimize)(self.acqfunc,\n",
        "                                                                 x0=start_point,\n",
        "                                                                 method=method,\n",
        "                                                                 jac = True,\n",
        "                                                                 bounds=self.parameter_range) for start_point in\n",
        "                                               start_points_arr)\n",
        "        x_best = np.array([res.x for res in opt])\n",
        "        f_best = np.array([np.atleast_1d(res.fun)[0] for res in opt])\n",
        "        f_best_min = min(f_best)\n",
        "\n",
        "        self.x_best = x_best\n",
        "        self.f_best = f_best\n",
        "        self.f_best_min = f_best_min\n",
        "        self.best = x_best[np.argmin(f_best)]\n",
        "        self.start_points_arr = start_points_arr\n",
        "\n",
        "        self.history.append(self.f_best_min)\n",
        "\n",
        "    def _printInit(self):\n",
        "        print(self.header)\n",
        "        for init_eval in range(self.init_evals):\n",
        "            print(self.template.format('init', self.GP.X[init_eval], self.GP.y[init_eval], self.tau, ''))\n",
        "      \n",
        "    def _printCurrent(self):\n",
        "        OKGREEN = '\\033[92m'\n",
        "        ENDC = '\\033[0m'\n",
        "        BOLD = '\\033[1m'\n",
        "        eval = str(len(self.GP.y) - self.init_evals)\n",
        "        proposed = str(self.best)\n",
        "        curr_eval = str(self.GP.y[-1])\n",
        "        curr_best = str(self.tau)\n",
        "        max_acqfunc = str(self.f_best_min)\n",
        "        if float(curr_eval) >= float(curr_best):\n",
        "            eval = BOLD + OKGREEN + eval + ENDC\n",
        "            proposed = BOLD + OKGREEN + proposed + ENDC\n",
        "            curr_eval = BOLD + OKGREEN + curr_eval + ENDC\n",
        "            curr_best = BOLD + OKGREEN + curr_best + ENDC\n",
        "            max_acqfunc = BOLD + OKGREEN + str(self.f_best_min) + ENDC\n",
        "        print(self.template.format(eval, proposed, curr_eval, curr_best, max_acqfunc))\n",
        "\n",
        "    def run(self, max_iter=10, init_evals=3, resume=False):\n",
        "        \n",
        "        if not resume:\n",
        "            self.init_evals = init_evals\n",
        "            self._firstRun(self.init_evals)\n",
        "            self._printInit()\n",
        "        for iteration in range(max_iter):\n",
        "            self.d_optimizeAcq()\n",
        "            self.updateGP()\n",
        "            self._printCurrent()\n",
        "\n",
        "    def acqfunc(self, xnew, n_start=n_start_AcqFunc):\n",
        "        new_mean, new_var = self.GP.predict(xnew, return_std=True)\n",
        "        new_std = np.sqrt(new_var + eps)\n",
        "        dm, ds = self.GP.AcqGrad(xnew)\n",
        "        f, df = self.A.d_eval(self.tau, new_mean, new_std, ds=ds, dm=dm)\n",
        "\n",
        "        return -f, -df * grad\n"
      ],
      "execution_count": 10,
      "outputs": []
    },
    {
      "cell_type": "code",
      "metadata": {
        "id": "qXIKGuXVGEg2"
      },
      "source": [
        "###Reproducible set-seeds:\n",
        "\n",
        "run_num_1 = 1\n",
        "run_num_2 = 2\n",
        "run_num_3 = 3\n",
        "run_num_4 = 4\n",
        "run_num_5 = 5\n",
        "run_num_6 = 6\n",
        "run_num_7 = 7\n",
        "run_num_8 = 8\n",
        "run_num_9 = 9\n",
        "run_num_10 = 10\n",
        "run_num_11 = 11\n",
        "run_num_12 = 12\n",
        "run_num_13 = 13\n",
        "run_num_14 = 14\n",
        "run_num_15 = 15\n",
        "run_num_16 = 16\n",
        "run_num_17 = 17\n",
        "run_num_18 = 18\n",
        "run_num_19 = 19\n",
        "run_num_20 = 20\n"
      ],
      "execution_count": 11,
      "outputs": []
    },
    {
      "cell_type": "code",
      "metadata": {
        "colab": {
          "base_uri": "https://localhost:8080/"
        },
        "id": "JEhagQmnTVIK",
        "outputId": "3f52f7b1-b76e-49e6-8de3-4c3f176e47bd"
      },
      "source": [
        "start_approx = time.time()\n",
        "start_approx\n"
      ],
      "execution_count": 12,
      "outputs": [
        {
          "output_type": "execute_result",
          "data": {
            "text/plain": [
              "1645528479.0585263"
            ]
          },
          "metadata": {},
          "execution_count": 12
        }
      ]
    },
    {
      "cell_type": "code",
      "metadata": {
        "colab": {
          "base_uri": "https://localhost:8080/"
        },
        "id": "aH0YSTXufD1v",
        "outputId": "2d4255b8-e662-46d3-cf0b-c78c90023498"
      },
      "source": [
        "### ESTIMATED GP EI GRADIENTS\n",
        "\n",
        "np.random.seed(run_num_1)\n",
        "surrogate_approx_1 = GaussianProcess(cov_func, optimize=opt)\n",
        "\n",
        "approx_1 = GPGO_multi(surrogate_approx_1, Acquisition(util_grad_approx), objfunc, param)\n",
        "approx_1.run(init_evals=n_init, max_iter=iters)\n"
      ],
      "execution_count": 13,
      "outputs": [
        {
          "output_type": "stream",
          "name": "stdout",
          "text": [
            "Evaluation \t Proposed point \t  Current eval. \t  Best eval. \t         Max AcqFunc.\n",
            "init\t [-0.84969467  2.25612281]\t -20.33436270766351\t -19.908403246996286\t    \n",
            "init\t [-5.1188288  -2.02411446]\t -33.07414982069084\t -19.908403246996286\t    \n",
            "init\t [-3.61721968 -4.17445279]\t -53.347974723929894\t -19.908403246996286\t    \n",
            "init\t [-3.21269544 -1.58145816]\t -39.218472310354045\t -19.908403246996286\t    \n",
            "init\t [-1.05710106  0.39748336]\t -19.908403246996286\t -19.908403246996286\t    \n",
            "1  \t [ 5.12 -5.12]\t -57.849427451571785\t -19.908403246996286\t -19.908403246996276\n",
            "2  \t [4.60729025 5.12      ]\t -67.96437441351335\t -19.908403246996286\t -19.908403193897037\n",
            "3  \t [-5.12  5.12]\t -57.849427451571785\t -19.908403246996286\t -19.9083861697738\n",
            "4  \t [ 4.14371716 -0.05763721]\t -21.629764732147287\t -19.908403246996286\t -19.90829492257108\n",
            "5  \t [ 0.90035873 -3.6886239 ]\t -30.074692068191148\t -19.908403246996286\t -19.905323796910817\n",
            "6  \t [0.72649333 5.12      ]\t -40.92410966218068\t -19.908403246996286\t -19.84528151377041\n",
            "7  \t [-5.12        1.53252345]\t -51.065271080270506\t -19.908403246996286\t -19.810543717818952\n",
            "8  \t [2.3050552  2.21328376]\t -31.316005897580546\t -19.908403246996286\t -19.565478850449235\n",
            "9  \t [ 1.42618559 -0.86660245]\t -25.0403347139152\t -19.908403246996286\t -19.18885177533668\n",
            "10 \t [-2.14583436  5.12      ]\t -37.44175552655265\t -19.908403246996286\t -19.164925516452765\n",
            "11 \t [ 5.12       -2.24292169]\t -43.51081487182073\t -19.908403246996286\t -18.83712196117177\n",
            "12 \t [5.12       2.17347509]\t -39.023642414497985\t -19.908403246996286\t -18.71033774062153\n",
            "13 \t [-1.0435455 -5.12     ]\t -30.3856687968279\t -19.908403246996286\t -18.484941688323726\n",
            "\u001b[1m\u001b[92m14\u001b[0m\t \u001b[1m\u001b[92m[-0.8418035  -2.09417795]\u001b[0m\t \u001b[1m\u001b[92m-11.340888292365777\u001b[0m\t \u001b[1m\u001b[92m-11.340888292365777\u001b[0m\t \u001b[1m\u001b[92m-17.023625432078195\u001b[0m\n",
            "15 \t [-2.91263595  2.68175062]\t -31.30238407927071\t -11.340888292365777\t -8.236936496907497\n",
            "16 \t [ 2.49218132 -5.12      ]\t -55.12361695641654\t -11.340888292365777\t -8.933236069401232\n",
            "17 \t [ 2.82508437 -2.40337555]\t -37.42569342233283\t -11.340888292365777\t -6.603440950454741\n",
            "18 \t [-5.12 -5.12]\t -57.849427451571785\t -11.340888292365777\t -5.839333120142709\n",
            "19 \t [0.72988792 0.9679774 ]\t -12.931768208353821\t -11.340888292365777\t -5.064336240963422\n",
            "20 \t [-2.87360187  0.49072787]\t -31.472757510349503\t -11.340888292365777\t -4.979656764039331\n"
          ]
        }
      ]
    },
    {
      "cell_type": "code",
      "metadata": {
        "id": "wTxsSZxFGBB5",
        "colab": {
          "base_uri": "https://localhost:8080/"
        },
        "outputId": "314d3d06-f200-45c6-e1a6-a7f5d4975fe9"
      },
      "source": [
        "### ESTIMATED GP EI GRADIENTS\n",
        "\n",
        "np.random.seed(run_num_2)\n",
        "surrogate_approx_2 = GaussianProcess(cov_func, optimize=opt)\n",
        "\n",
        "approx_2 = GPGO_multi(surrogate_approx_2, Acquisition(util_grad_approx), objfunc, param)\n",
        "approx_2.run(init_evals=n_init, max_iter=iters)\n"
      ],
      "execution_count": 14,
      "outputs": [
        {
          "output_type": "stream",
          "name": "stdout",
          "text": [
            "Evaluation \t Proposed point \t  Current eval. \t  Best eval. \t         Max AcqFunc.\n",
            "init\t [-0.6554122  -4.85451539]\t -43.490296251903594\t -18.964539418712707\t    \n",
            "init\t [ 0.50854377 -0.6622987 ]\t -35.91861667536101\t -18.964539418712707\t    \n",
            "init\t [-0.81543371 -1.73737143]\t -20.479562046739524\t -18.964539418712707\t    \n",
            "init\t [-3.02439799  1.2213347 ]\t -18.964539418712707\t -18.964539418712707\t    \n",
            "init\t [-2.05153614 -2.3876887 ]\t -28.041315668371354\t -18.964539418712707\t    \n",
            "1  \t [2.39691168 4.77366162]\t -55.026395308577506\t -18.964539418712707\t -18.964538301461637\n",
            "2  \t [ 5.12 -5.12]\t -57.849427451571785\t -18.964539418712707\t -18.964538206136407\n",
            "3  \t [5.12       0.46808609]\t -48.943447671444844\t -18.964539418712707\t -18.964251622523253\n",
            "4  \t [-5.12  5.12]\t -57.849427451571785\t -18.964539418712707\t -18.964011937183685\n",
            "5  \t [-5.12 -5.12]\t -57.849427451571785\t -18.964539418712707\t -18.960823398528824\n",
            "6  \t [-1.34264616  5.12      ]\t -46.225313846499205\t -18.964539418712707\t -18.91650891701279\n",
            "7  \t [-5.12       -1.23369263]\t -39.42388052403638\t -18.964539418712707\t -18.838405719896038\n",
            "8  \t [ 3.04430879 -2.54271293]\t -35.76027734331177\t -18.964539418712707\t -18.690738846592467\n",
            "9  \t [0.17336015 2.29345249]\t -23.35491934923584\t -18.964539418712707\t -18.48396200182665\n",
            "10 \t [5.12 5.12]\t -57.849427451571785\t -18.964539418712707\t -18.329022841708237\n",
            "11 \t [-5.12        2.08792535]\t -34.77173890837088\t -18.964539418712707\t -17.875599819932297\n",
            "12 \t [ 2.09858361 -5.12      ]\t -35.18660835842665\t -18.964539418712707\t -17.78315140539926\n",
            "13 \t [2.64714079 1.66959415]\t -40.657001892803194\t -18.964539418712707\t -17.631123037864903\n",
            "14 \t [ 5.12       -2.19884623]\t -40.600604679377554\t -18.964539418712707\t -15.947131863234018\n",
            "15 \t [-2.70309608  3.16558487]\t -35.17349288616536\t -18.964539418712707\t -15.495923249522907\n",
            "16 \t [5.12       2.77171997]\t -45.24667178982415\t -18.964539418712707\t -14.867483789744787\n",
            "17 \t [-1.69090101  0.28565912]\t -28.791127675124653\t -18.964539418712707\t -14.699679502603928\n",
            "18 \t [-2.80460887 -5.12      ]\t -43.42629814289501\t -18.964539418712707\t -14.699609390882953\n",
            "\u001b[1m\u001b[92m19\u001b[0m\t \u001b[1m\u001b[92m[ 0.8023413  -2.99154318]\u001b[0m\t \u001b[1m\u001b[92m-16.377457396620937\u001b[0m\t \u001b[1m\u001b[92m-16.377457396620937\u001b[0m\t \u001b[1m\u001b[92m-13.842988840076432\u001b[0m\n",
            "20 \t [ 2.74697952 -0.51125827]\t -37.97204387663929\t -16.377457396620937\t -10.071313619733353\n"
          ]
        }
      ]
    },
    {
      "cell_type": "code",
      "metadata": {
        "id": "-dgzIrUIGCGT",
        "colab": {
          "base_uri": "https://localhost:8080/"
        },
        "outputId": "3de71f0f-3bb1-4ab7-9c27-8e56a72bf06a"
      },
      "source": [
        "### ESTIMATED GP EI GRADIENTS\n",
        "\n",
        "np.random.seed(run_num_3)\n",
        "surrogate_approx_3 = GaussianProcess(cov_func, optimize=opt)\n",
        "\n",
        "approx_3 = GPGO_multi(surrogate_approx_3, Acquisition(util_grad_approx), objfunc, param)\n",
        "approx_3.run(init_evals=n_init, max_iter=iters)\n"
      ],
      "execution_count": 15,
      "outputs": [
        {
          "output_type": "stream",
          "name": "stdout",
          "text": [
            "Evaluation \t Proposed point \t  Current eval. \t  Best eval. \t         Max AcqFunc.\n",
            "init\t [0.52017052 2.1314337 ]\t -27.953858411008774\t -10.607662635789808\t    \n",
            "init\t [-2.14113547  0.11087468]\t -10.607662635789808\t -10.607662635789808\t    \n",
            "init\t [4.02377681 4.05804123]\t -33.42749829480097\t -10.607662635789808\t    \n",
            "init\t [-3.83400642 -2.99783293]\t -28.650953928965198\t -10.607662635789808\t    \n",
            "init\t [-4.59297584 -0.6061072 ]\t -57.6631355589384\t -10.607662635789808\t    \n",
            "1  \t [ 5.12       -3.02919353]\t -38.2684858188765\t -10.607662635789808\t -10.607662655167418\n",
            "2  \t [-5.12  5.12]\t -57.849427451571785\t -10.607662635789808\t -10.607660558565055\n",
            "3  \t [ 0.59616393 -5.12      ]\t -47.50960381191008\t -10.607662635789808\t -10.60750621045432\n",
            "4  \t [ 1.6198374  -1.35910872]\t -38.098716676304186\t -10.607662635789808\t -10.56674702857465\n",
            "5  \t [-1.23866694  5.12      ]\t -39.747533858041294\t -10.607662635789808\t -10.5579971297157\n",
            "6  \t [5.12       0.64656981]\t -45.39360373127646\t -10.607662635789808\t -10.55248687684893\n",
            "7  \t [-3.18899831  2.50505819]\t -42.70028630979755\t -10.607662635789808\t -10.111422958600864\n",
            "8  \t [-5.12 -5.12]\t -57.849427451571785\t -10.607662635789808\t -9.975746414864954\n",
            "9  \t [-1.12783572 -2.43079086]\t -29.306109094123894\t -10.607662635789808\t -9.814709903607588\n",
            "10 \t [ 3.52413477 -5.12      ]\t -61.229481415964116\t -10.607662635789808\t -9.677669602539268\n",
            "11 \t [1.57507918 5.12      ]\t -50.313393715523475\t -10.607662635789808\t -9.664175079191867\n",
            "12 \t [-2.16928797 -5.12      ]\t -38.7738312908071\t -10.607662635789808\t -9.163626685624072\n",
            "13 \t [2.69649057 1.41576515]\t -41.206358878046714\t -10.607662635789808\t -8.263988489508034\n",
            "14 \t [-0.59574843  0.12059267]\t -21.349596838920068\t -10.607662635789808\t -7.298605554605224\n",
            "15 \t [-5.12        2.00560051]\t -32.953337861842584\t -10.607662635789808\t -6.667563678403002\n",
            "16 \t [5.12 5.12]\t -57.849427451571785\t -10.607662635789808\t -5.500287619985704\n",
            "17 \t [ 2.35177812 -3.11614436]\t -33.75571802276416\t -10.607662635789808\t -4.425936576841228\n",
            "18 \t [ 3.89350697 -1.18145549]\t -24.53665832500907\t -10.607662635789808\t -4.762305194658999\n",
            "19 \t [-1.09115087  2.81846789]\t -16.55956540336354\t -10.607662635789808\t -4.052580523242011\n",
            "20 \t [5.12       2.64390759]\t -52.098121543348974\t -10.607662635789808\t -3.4916486023149442\n"
          ]
        }
      ]
    },
    {
      "cell_type": "code",
      "metadata": {
        "id": "hOtG-2sCGCKS",
        "colab": {
          "base_uri": "https://localhost:8080/"
        },
        "outputId": "1728f4a9-e615-4ce3-e86f-8ccb4674db94"
      },
      "source": [
        "### ESTIMATED GP EI GRADIENTS\n",
        "\n",
        "np.random.seed(run_num_4)\n",
        "surrogate_approx_4 = GaussianProcess(cov_func, optimize=opt)\n",
        "\n",
        "approx_4 = GPGO_multi(surrogate_approx_4, Acquisition(util_grad_approx), objfunc, param)\n",
        "approx_4.run(init_evals=n_init, max_iter=iters)\n"
      ],
      "execution_count": 16,
      "outputs": [
        {
          "output_type": "stream",
          "name": "stdout",
          "text": [
            "Evaluation \t Proposed point \t  Current eval. \t  Best eval. \t         Max AcqFunc.\n",
            "init\t [4.78238555 0.48365823]\t -51.03163809010808\t -14.323038259018315\t    \n",
            "init\t [4.84028785 2.19971578]\t -39.78645699016559\t -14.323038259018315\t    \n",
            "init\t [ 2.02474316 -2.90724357]\t -14.323038259018315\t -14.323038259018315\t    \n",
            "init\t [ 4.87705042 -5.05620219]\t -52.80627247106233\t -14.323038259018315\t    \n",
            "init\t [-2.52946061 -0.66773471]\t -41.61497868486559\t -14.323038259018315\t    \n",
            "1  \t [-5.12  5.12]\t -57.849427451571785\t -14.323038259018315\t -14.32303822038203\n",
            "2  \t [0.36091236 5.12      ]\t -45.47327609475252\t -14.323038259018315\t -14.323018910435511\n",
            "3  \t [-5.12 -5.12]\t -57.849427451571785\t -14.323038259018315\t -14.323002240148575\n",
            "4  \t [-0.95955534 -5.12      ]\t -30.166614500114207\t -14.323038259018315\t -14.310508774675379\n",
            "\u001b[1m\u001b[92m5\u001b[0m\t \u001b[1m\u001b[92m[0.85386434 1.14516587]\u001b[0m\t \u001b[1m\u001b[92m-9.847124110942802\u001b[0m\t \u001b[1m\u001b[92m-9.847124110942802\u001b[0m\t \u001b[1m\u001b[92m-14.289527523065635\u001b[0m\n",
            "6  \t [-5.12        1.50098202]\t -51.1774703986821\t -9.847124110942802\t -9.736580445196765\n",
            "7  \t [3.91486776 5.12      ]\t -45.64771565223795\t -9.847124110942802\t -9.648013602427826\n",
            "8  \t [-1.97844272  2.82545989]\t -17.423417946461818\t -9.847124110942802\t -9.588299063940644\n",
            "9  \t [ 0.31072764 -1.2806649 ]\t -27.375203121917444\t -9.847124110942802\t -8.87820311812916\n",
            "10 \t [-5.12       -1.96192543]\t -33.05865695129895\t -9.847124110942802\t -9.274105100500588\n",
            "11 \t [ 5.12       -2.25318837]\t -44.20188950596194\t -9.847124110942802\t -8.770996035355688\n",
            "12 \t [ 1.82467094 -5.12      ]\t -37.73266437032868\t -9.847124110942802\t -8.718787014456089\n",
            "13 \t [2.02591187 2.72590677]\t -23.175174909669185\t -9.847124110942802\t -8.314998893707426\n",
            "14 \t [-2.35548062  5.12      ]\t -50.625906366886156\t -9.847124110942802\t -8.073320284809224\n",
            "15 \t [-2.64731962 -3.36988228]\t -51.21774647962085\t -9.847124110942802\t -7.946691815034791\n",
            "16 \t [ 2.44662513 -0.45890035]\t -45.30788686398295\t -9.847124110942802\t -7.127919616843098\n",
            "17 \t [-0.59626822  1.36767455]\t -37.19005638506779\t -9.847124110942802\t -6.957003826360987\n",
            "18 \t [ 0.07096746 -3.22071291]\t -19.526012086418625\t -9.847124110942802\t -4.565544653027234\n",
            "19 \t [-3.38750306  2.82455253]\t -42.54262251492864\t -9.847124110942802\t -3.4217939600371174\n",
            "20 \t [ 3.05544909 -3.08900789]\t -21.002010521793217\t -9.847124110942802\t -2.755087272932927\n"
          ]
        }
      ]
    },
    {
      "cell_type": "code",
      "metadata": {
        "id": "JF_SxcEvGCOl",
        "colab": {
          "base_uri": "https://localhost:8080/"
        },
        "outputId": "871637a5-8a8b-428e-b3d2-1b5d8716f2de"
      },
      "source": [
        "### ESTIMATED GP EI GRADIENTS\n",
        "\n",
        "np.random.seed(run_num_5)\n",
        "surrogate_approx_5 = GaussianProcess(cov_func, optimize=opt)\n",
        "\n",
        "approx_5 = GPGO_multi(surrogate_approx_5, Acquisition(util_grad_approx), objfunc, param)\n",
        "approx_5.run(init_evals=n_init, max_iter=iters)\n"
      ],
      "execution_count": 17,
      "outputs": [
        {
          "output_type": "stream",
          "name": "stdout",
          "text": [
            "Evaluation \t Proposed point \t  Current eval. \t  Best eval. \t         Max AcqFunc.\n",
            "init\t [-2.84678993  3.79629882]\t -33.93442008827236\t -7.8108627039749745\t    \n",
            "init\t [-3.00319585  4.2865757 ]\t -39.673876075575784\t -7.8108627039749745\t    \n",
            "init\t [-0.11866943  1.14425716]\t -7.8108627039749745\t -7.8108627039749745\t    \n",
            "init\t [2.72289645 0.1886002 ]\t -25.38160395721669\t -7.8108627039749745\t    \n",
            "init\t [-2.08076286 -3.19773462]\t -22.589982116319675\t -7.8108627039749745\t    \n",
            "1  \t [ 5.12       -4.99274555]\t -53.862608206561674\t -7.8108627039749745\t -7.810883286664265\n",
            "2  \t [5.12 5.12]\t -57.849427451571785\t -7.8108627039749745\t -7.810880593444772\n",
            "3  \t [-5.12       -0.04626111]\t -29.346324811321125\t -7.8108627039749745\t -7.809482549546167\n",
            "4  \t [1.00367557 5.12      ]\t -29.93474499693187\t -7.8108627039749745\t -7.797950828273974\n",
            "5  \t [-5.12 -5.12]\t -57.849427451571785\t -7.8108627039749745\t -7.793280254559925\n",
            "6  \t [ 1.11157613 -5.12      ]\t -32.51868447319504\t -7.8108627039749745\t -7.791337299408703\n",
            "7  \t [ 5.12       -1.57419953]\t -50.33560371193481\t -7.8108627039749745\t -7.581373830673534\n",
            "8  \t [ 0.59847779 -1.87829868]\t -24.81610312275958\t -7.8108627039749745\t -7.419732192887219\n",
            "9  \t [5.12       1.88576663]\t -34.94795142050637\t -7.8108627039749745\t -7.426440844831207\n",
            "10 \t [-2.19739329  0.02225646]\t -11.68113487401635\t -7.8108627039749745\t -7.263567024304717\n",
            "11 \t [2.18693282 2.78644627]\t -26.417199228549\t -7.8108627039749745\t -6.709722851550131\n",
            "12 \t [-5.12        2.61669105]\t -53.202208957720224\t -7.8108627039749745\t -6.595657032728356\n",
            "13 \t [-5.12       -2.41194455]\t -53.25030470399585\t -7.8108627039749745\t -6.118721277538413\n",
            "14 \t [ 2.80923078 -3.10581837]\t -26.031689845457922\t -7.8108627039749745\t -5.903741092764229\n",
            "15 \t [-1.68166645 -5.12      ]\t -45.9155359752323\t -7.8108627039749745\t -5.790086657134563\n",
            "16 \t [-0.55453961  2.77909638]\t -35.631445442362704\t -7.8108627039749745\t -5.696192965905659\n",
            "17 \t [-0.03923753  0.21461984]\t -8.145229549222842\t -7.8108627039749745\t -4.374903322096781\n",
            "18 \t [-2.75160704  1.29707038]\t -32.06735375280012\t -7.8108627039749745\t -3.6084479363745996\n",
            "19 \t [-5.12  5.12]\t -57.849427451571785\t -7.8108627039749745\t -5.250495656033651\n",
            "20 \t [-1.96601985 -1.21101612]\t -13.1338388730193\t -7.8108627039749745\t -4.150065418111019\n"
          ]
        }
      ]
    },
    {
      "cell_type": "code",
      "metadata": {
        "id": "-kDxZtJsGCR3",
        "colab": {
          "base_uri": "https://localhost:8080/"
        },
        "outputId": "6cf5ceb4-a0dc-40b5-d26b-566d3ea48296"
      },
      "source": [
        "### ESTIMATED GP EI GRADIENTS\n",
        "\n",
        "np.random.seed(run_num_6)\n",
        "surrogate_approx_6 = GaussianProcess(cov_func, optimize=opt)\n",
        "\n",
        "approx_6 = GPGO_multi(surrogate_approx_6, Acquisition(util_grad_approx), objfunc, param)\n",
        "approx_6.run(init_evals=n_init, max_iter=iters)\n"
      ],
      "execution_count": 18,
      "outputs": [
        {
          "output_type": "stream",
          "name": "stdout",
          "text": [
            "Evaluation \t Proposed point \t  Current eval. \t  Best eval. \t         Max AcqFunc.\n",
            "init\t [ 4.02288795 -1.72052679]\t -31.08835710146886\t -17.28954482757088\t    \n",
            "init\t [ 3.28938622 -4.69302655]\t -58.797867722203385\t -17.28954482757088\t    \n",
            "init\t [-4.0175956   0.97333314]\t -17.28954482757088\t -17.28954482757088\t    \n",
            "init\t [ 0.30532979 -0.83141193]\t -19.296253155889353\t -17.28954482757088\t    \n",
            "init\t [-1.68542362  1.25459899]\t -28.650630936276173\t -17.28954482757088\t    \n",
            "1  \t [5.12 5.12]\t -57.849427451571785\t -17.28954482757088\t -17.28954482698576\n",
            "2  \t [-4.80259369 -4.71437125]\t -64.26542863155163\t -17.28954482757088\t -17.28954424527897\n",
            "3  \t [-5.12  5.12]\t -57.849427451571785\t -17.28954482757088\t -17.288698472495337\n",
            "4  \t [0.39537207 5.12      ]\t -46.9968898500623\t -17.28954482757088\t -17.288211616590285\n",
            "5  \t [-0.74584896 -5.12      ]\t -39.74179234543553\t -17.28954482757088\t -17.27329261892701\n",
            "6  \t [2.84226645 1.91252335]\t -17.731098841898742\t -17.28954482757088\t -17.25037820574735\n",
            "7  \t [-2.70112078 -2.0062767 ]\t -24.35209513810147\t -17.28954482757088\t -17.042478890675717\n",
            "8  \t [5.12       1.12271131]\t -33.01317737432239\t -17.28954482757088\t -16.64768186134956\n",
            "9  \t [-2.34757236  4.03986842]\t -37.8975203354485\t -17.28954482757088\t -16.38858319981558\n",
            "10 \t [-5.12       -1.34881905]\t -46.56168758173016\t -17.28954482757088\t -16.3618226252417\n",
            "\u001b[1m\u001b[92m11\u001b[0m\t \u001b[1m\u001b[92m[ 0.99476684 -2.96447739]\u001b[0m\t \u001b[1m\u001b[92m-10.031140588074134\u001b[0m\t \u001b[1m\u001b[92m-10.031140588074134\u001b[0m\t \u001b[1m\u001b[92m-15.538661316708382\u001b[0m\n",
            "12 \t [0.64470242 2.21143456]\t -29.050423164115173\t -10.031140588074134\t -8.277246971991964\n",
            "13 \t [-5.12        2.42457121]\t -53.701060937405174\t -10.031140588074134\t -7.652822158099791\n",
            "14 \t [2.74682371 4.13808629]\t -38.40193301008696\t -10.031140588074134\t -7.157862182793615\n",
            "15 \t [ 2.28481041 -0.11266923]\t -19.80570892946514\t -10.031140588074134\t -6.90527657605852\n",
            "16 \t [-0.70791581 -2.66470058]\t -35.32189334421891\t -10.031140588074134\t -5.8611872160439145\n",
            "17 \t [ 5.12 -5.12]\t -57.849427451571785\t -10.031140588074134\t -5.001108317154458\n",
            "18 \t [ 1.854067   -2.52636008]\t -33.600569595001446\t -10.031140588074134\t -4.950321270589878\n",
            "19 \t [ 1.18885107 -5.12      ]\t -36.58981160410627\t -10.031140588074134\t -4.018951828407934\n",
            "20 \t [-2.59382738 -4.2718278 ]\t -54.655633156638544\t -10.031140588074134\t -3.6195434745758397\n"
          ]
        }
      ]
    },
    {
      "cell_type": "code",
      "metadata": {
        "id": "fKB8MCD_GCVI",
        "colab": {
          "base_uri": "https://localhost:8080/"
        },
        "outputId": "dacf2fbc-ca17-45e5-8fd7-5f390f979cbd"
      },
      "source": [
        "### ESTIMATED GP EI GRADIENTS\n",
        "\n",
        "np.random.seed(run_num_7)\n",
        "surrogate_approx_7 = GaussianProcess(cov_func, optimize=opt)\n",
        "\n",
        "approx_7 = GPGO_multi(surrogate_approx_7, Acquisition(util_grad_approx), objfunc, param)\n",
        "approx_7.run(init_evals=n_init, max_iter=iters)\n"
      ],
      "execution_count": 19,
      "outputs": [
        {
          "output_type": "stream",
          "name": "stdout",
          "text": [
            "Evaluation \t Proposed point \t  Current eval. \t  Best eval. \t         Max AcqFunc.\n",
            "init\t [-4.33860312  2.86636843]\t -45.646133072936244\t -22.52235437888213\t    \n",
            "init\t [-0.63068947  2.28828342]\t -34.83012662845338\t -22.52235437888213\t    \n",
            "init\t [4.8946126  0.39419771]\t -44.09657005662876\t -22.52235437888213\t    \n",
            "init\t [ 0.01147355 -4.38219639]\t -36.613209822404315\t -22.52235437888213\t    \n",
            "init\t [-2.37118484e+00 -1.20319155e-03]\t -22.52235437888213\t -22.52235437888213\t    \n",
            "1  \t [-5.12 -5.12]\t -57.849427451571785\t -22.52235437888213\t -22.5223271625891\n",
            "2  \t [ 5.12 -5.12]\t -57.849427451571785\t -22.52235437888213\t -22.52231898623795\n",
            "3  \t [3.5953452 5.12     ]\t -60.10981588658544\t -22.52235437888213\t -22.52217874203071\n",
            "4  \t [-4.02558214 -1.33646422]\t -33.289738493146906\t -22.52235437888213\t -22.52235437888213\n",
            "\u001b[1m\u001b[92m5\u001b[0m\t \u001b[1m\u001b[92m[ 1.4059624  -0.96125079]\u001b[0m\t \u001b[1m\u001b[92m-21.500299700960053\u001b[0m\t \u001b[1m\u001b[92m-21.500299700960053\u001b[0m\t \u001b[1m\u001b[92m-22.46615405234827\u001b[0m\n",
            "6  \t [-1.80766137  5.12      ]\t -38.64812232194515\t -21.500299700960053\t -21.269908818283604\n",
            "7  \t [2.33775007 2.13208142]\t -28.499668123296534\t -21.500299700960053\t -20.89211515898313\n",
            "8  \t [ 3.57873551 -2.5394719 ]\t -57.75136073169763\t -21.500299700960053\t -20.763260975084485\n",
            "9  \t [-2.52321128 -3.63366101]\t -56.13991963639131\t -21.500299700960053\t -20.22840121552612\n",
            "10 \t [-5.12  5.12]\t -57.849427451571785\t -21.500299700960053\t -20.096477692262685\n",
            "11 \t [0.80803888 5.12      ]\t -36.01123933339598\t -21.500299700960053\t -20.096859750022244\n",
            "12 \t [5.12       2.99303367]\t -37.89254214449856\t -21.500299700960053\t -19.598561074656157\n",
            "13 \t [ 2.32121643 -5.12      ]\t -48.63958401635367\t -21.500299700960053\t -19.51766179947453\n",
            "14 \t [-0.64232335 -1.52937924]\t -38.84277138081602\t -21.500299700960053\t -18.8938562963761\n",
            "15 \t [-5.12        0.58519312]\t -47.868401939883256\t -21.500299700960053\t -18.74540046672915\n",
            "16 \t [0.752868   0.65108083]\t -26.633301408541122\t -21.500299700960053\t -15.706315256585055\n",
            "17 \t [-5.12       -2.73896172]\t -47.11962474495751\t -21.500299700960053\t -16.041552401693508\n",
            "18 \t [-2.50637024  1.82867494]\t -34.87352174318213\t -21.500299700960053\t -14.360038119380246\n",
            "\u001b[1m\u001b[92m19\u001b[0m\t \u001b[1m\u001b[92m[ 2.81559636 -0.03618933]\u001b[0m\t \u001b[1m\u001b[92m-14.180459171476468\u001b[0m\t \u001b[1m\u001b[92m-14.180459171476468\u001b[0m\t \u001b[1m\u001b[92m-14.170189484652735\u001b[0m\n",
            "20 \t [ 1.24721252 -2.72567035]\t -30.332413991714624\t -14.180459171476468\t -6.391070567273746\n"
          ]
        }
      ]
    },
    {
      "cell_type": "code",
      "metadata": {
        "id": "4unvifF-GCXp",
        "colab": {
          "base_uri": "https://localhost:8080/"
        },
        "outputId": "a531ac6c-56d3-45fd-a2d2-4411da1a7fe9"
      },
      "source": [
        "### ESTIMATED GP EI GRADIENTS\n",
        "\n",
        "np.random.seed(run_num_8)\n",
        "surrogate_approx_8 = GaussianProcess(cov_func, optimize=opt)\n",
        "\n",
        "approx_8 = GPGO_multi(surrogate_approx_8, Acquisition(util_grad_approx), objfunc, param)\n",
        "approx_8.run(init_evals=n_init, max_iter=iters)\n"
      ],
      "execution_count": 20,
      "outputs": [
        {
          "output_type": "stream",
          "name": "stdout",
          "text": [
            "Evaluation \t Proposed point \t  Current eval. \t  Best eval. \t         Max AcqFunc.\n",
            "init\t [3.82391708 4.79785639]\t -50.20079446939181\t -13.871821018360485\t    \n",
            "init\t [3.78055209 0.31596228]\t -36.5114251593508\t -13.871821018360485\t    \n",
            "init\t [-2.73686192 -5.00327624]\t -43.34985765011677\t -13.871821018360485\t    \n",
            "init\t [-0.7119993  -0.99992207]\t -13.871821018360485\t -13.871821018360485\t    \n",
            "init\t [ 0.23218863 -0.22126801]\t -17.190590355445654\t -13.871821018360485\t    \n",
            "1  \t [-5.12  5.12]\t -57.849427451571785\t -13.871821018360485\t -13.87182101835591\n",
            "2  \t [ 5.12 -5.12]\t -57.849427451571785\t -13.871821018360485\t -13.871818166847136\n",
            "3  \t [-5.12       -0.06370944]\t -29.71932436183332\t -13.871821018360485\t -13.871565601040393\n",
            "4  \t [-0.6693486   4.17608372]\t -38.26193538129055\t -13.871821018360485\t -13.869722664697287\n",
            "5  \t [ 1.1839728  -4.40957272]\t -45.24435841610979\t -13.871821018360485\t -13.850453875016395\n",
            "6  \t [-2.62671562  1.70437395]\t -39.62662423994514\t -13.871821018360485\t -13.555397769329273\n",
            "7  \t [1.62766942 2.34330025]\t -40.62402702206825\t -13.871821018360485\t -13.17027623143054\n",
            "8  \t [-5.12       -3.13066248]\t -41.91069255453197\t -13.871821018360485\t -13.518527227553864\n",
            "9  \t [ 5.12       -2.11119331]\t -35.72472722369516\t -13.871821018360485\t -13.169696137629664\n",
            "10 \t [-2.59355718 -1.83825017]\t -33.16200703311803\t -13.871821018360485\t -12.538513388159403\n",
            "11 \t [5.12       2.44906926]\t -54.414985359785014\t -13.871821018360485\t -12.389157853378943\n",
            "12 \t [ 2.13261558 -1.86114343]\t -14.857720503849983\t -13.871821018360485\t -12.326115854421383\n",
            "13 \t [-5.12        2.43343288]\t -53.98430596772009\t -13.871821018360485\t -11.76901885772982\n",
            "14 \t [1.38461391 5.12      ]\t -48.32691558300023\t -13.871821018360485\t -10.79360104264638\n",
            "15 \t [-2.63528093  5.12      ]\t -52.469287352346\t -13.871821018360485\t -10.798264171692876\n",
            "16 \t [-0.67834799 -3.04212827]\t -24.41447125365997\t -13.871821018360485\t -10.022188408956415\n",
            "17 \t [-5.12 -5.12]\t -57.849427451571785\t -13.871821018360485\t -9.771298272591743\n",
            "18 \t [ 3.2355059 -3.3720059]\t -47.86628938836556\t -13.871821018360485\t -8.724424904699958\n",
            "19 \t [-0.47337705  1.43385183]\t -41.28909184426625\t -13.871821018360485\t -8.574946130805612\n",
            "20 \t [ 1.6632348  -0.59506785]\t -36.57442925264618\t -13.871821018360485\t -7.982584846511804\n"
          ]
        }
      ]
    },
    {
      "cell_type": "code",
      "metadata": {
        "id": "85OIXcg7GCaJ",
        "colab": {
          "base_uri": "https://localhost:8080/"
        },
        "outputId": "ee7fcb0b-6985-4894-9569-3cddff0bcabc"
      },
      "source": [
        "### ESTIMATED GP EI GRADIENTS\n",
        "\n",
        "np.random.seed(run_num_9)\n",
        "surrogate_approx_9 = GaussianProcess(cov_func, optimize=opt)\n",
        "\n",
        "approx_9 = GPGO_multi(surrogate_approx_9, Acquisition(util_grad_approx), objfunc, param)\n",
        "approx_9.run(init_evals=n_init, max_iter=iters)\n"
      ],
      "execution_count": 21,
      "outputs": [
        {
          "output_type": "stream",
          "name": "stdout",
          "text": [
            "Evaluation \t Proposed point \t  Current eval. \t  Best eval. \t         Max AcqFunc.\n",
            "init\t [-5.01376866  0.01919582]\t -25.248289026162446\t -24.454800313488693\t    \n",
            "init\t [-0.04328148 -3.74958562]\t -24.454800313488693\t -24.454800313488693\t    \n",
            "init\t [-3.66478248 -2.88195916]\t -39.46509426509438\t -24.454800313488693\t    \n",
            "init\t [-0.83447623 -2.57944404]\t -31.06766397812992\t -24.454800313488693\t    \n",
            "init\t [-4.25922917 -1.58209393]\t -49.922543556206975\t -24.454800313488693\t    \n",
            "1  \t [3.51080105 5.12      ]\t -61.22741827329939\t -24.454800313488693\t -24.454800313488693\n",
            "2  \t [ 5.12       -0.52804179]\t -49.0487252552488\t -24.454800313488693\t -24.45479920026432\n",
            "3  \t [-2.51423935  5.12      ]\t -55.20611688756101\t -24.454800313488693\t -24.454798888600084\n",
            "4  \t [ 4.68043244 -5.12      ]\t -65.06435350687961\t -24.454800313488693\t -24.454158647190454\n",
            "5  \t [0.5807709  1.56267518]\t -40.753455336227596\t -24.454800313488693\t -24.45260323758438\n",
            "6  \t [-5.12        3.13090674]\t -41.923461337217695\t -24.454800313488693\t -24.24500597562106\n",
            "7  \t [ 2.23241898 -1.75390006]\t -26.712433192888117\t -24.454800313488693\t -24.061777595402365\n",
            "8  \t [-5.12 -5.12]\t -57.849427451571785\t -24.454800313488693\t -23.979243002508692\n",
            "9  \t [5.12      2.5129931]\t -55.20654269043737\t -24.454800313488693\t -23.933743168735354\n",
            "10 \t [-2.38810361  1.37262252]\t -42.1804212191496\t -24.454800313488693\t -23.899876821986027\n",
            "11 \t [0.47877167 5.12      ]\t -49.065114676888356\t -24.454800313488693\t -23.79850549600176\n",
            "12 \t [ 1.76617641 -5.12      ]\t -41.0294482704571\t -24.454800313488693\t -23.195669582606143\n",
            "13 \t [-2.03802983 -5.12      ]\t -33.36240538572987\t -24.454800313488693\t -23.116412390055167\n",
            "\u001b[1m\u001b[92m14\u001b[0m\t \u001b[1m\u001b[92m[2.87396281 0.93076827]\u001b[0m\t \u001b[1m\u001b[92m-13.032436811539974\u001b[0m\t \u001b[1m\u001b[92m-13.032436811539974\u001b[0m\t \u001b[1m\u001b[92m-21.66306804811927\u001b[0m\n",
            "15 \t [-0.5841158  -0.53399814]\t -39.0346187269291\t -13.032436811539974\t -9.421989803477274\n",
            "16 \t [-5.12  5.12]\t -57.849427451571785\t -13.032436811539974\t -9.235004930682772\n",
            "17 \t [ 5.12       -2.77934934]\t -44.81585697544669\t -13.032436811539974\t -9.083100074080361\n",
            "18 \t [2.39084401 2.88102462]\t -34.42165947167733\t -13.032436811539974\t -8.495553675929454\n",
            "19 \t [-1.02504705  3.20247574]\t -18.48829147448836\t -13.032436811539974\t -7.432884549201306\n",
            "20 \t [2.5514536  0.09454437]\t -27.71393641655535\t -13.032436811539974\t -5.905041829880779\n"
          ]
        }
      ]
    },
    {
      "cell_type": "code",
      "metadata": {
        "id": "QQBR-qJPGCcp",
        "colab": {
          "base_uri": "https://localhost:8080/"
        },
        "outputId": "5651aad6-1a49-4425-8cbd-463b0d941c77"
      },
      "source": [
        "### ESTIMATED GP EI GRADIENTS\n",
        "\n",
        "np.random.seed(run_num_10)\n",
        "surrogate_approx_10 = GaussianProcess(cov_func, optimize=opt)\n",
        "\n",
        "approx_10 = GPGO_multi(surrogate_approx_10, Acquisition(util_grad_approx), objfunc, param)\n",
        "approx_10.run(init_evals=n_init, max_iter=iters)\n"
      ],
      "execution_count": 22,
      "outputs": [
        {
          "output_type": "stream",
          "name": "stdout",
          "text": [
            "Evaluation \t Proposed point \t  Current eval. \t  Best eval. \t         Max AcqFunc.\n",
            "init\t [ 2.77832339 -4.90750004]\t -41.674330194390116\t -13.839458310244165\t    \n",
            "init\t [1.36855793 2.54775176]\t -44.69639719065837\t -13.839458310244165\t    \n",
            "init\t [-0.01528819 -2.81808235]\t -13.839458310244165\t -13.839458310244165\t    \n",
            "init\t [-3.09183626  2.66783449]\t -33.23221510904937\t -13.839458310244165\t    \n",
            "init\t [-3.38830503 -4.2154003 ]\t -54.73014366983691\t -13.839458310244165\t    \n",
            "1  \t [ 5.12       -0.56826553]\t -48.341773043866056\t -13.839458310244165\t -13.83919475514241\n",
            "2  \t [5.12 5.12]\t -57.849427451571785\t -13.839458310244165\t -13.838737404895593\n",
            "3  \t [-5.12      -0.6061769]\t -47.148175993245644\t -13.839458310244165\t -13.82040159655753\n",
            "4  \t [-5.12  5.12]\t -57.849427451571785\t -13.839458310244165\t -13.734411666162595\n",
            "5  \t [-0.83794342  5.12      ]\t -34.37814205252497\t -13.839458310244165\t -13.700357481190558\n",
            "\u001b[1m\u001b[92m6\u001b[0m\t \u001b[1m\u001b[92m[-1.23131083 -0.10568979]\u001b[0m\t \u001b[1m\u001b[92m-12.480806025290336\u001b[0m\t \u001b[1m\u001b[92m-12.480806025290336\u001b[0m\t \u001b[1m\u001b[92m-13.660227073482384\u001b[0m\n",
            "7  \t [ 1.89637978 -0.79302185]\t -13.600409081649428\t -12.480806025290336\t -12.09596306806347\n",
            "8  \t [-0.38408623 -5.12      ]\t -46.535254826880205\t -12.480806025290336\t -11.696940340224236\n",
            "9  \t [4.53003705 2.23266923]\t -54.24170978253194\t -12.480806025290336\t -11.55750182290089\n",
            "10 \t [ 5.12       -3.59598759]\t -60.09160861011537\t -12.480806025290336\t -11.669440308314254\n",
            "11 \t [2.14083816 5.12      ]\t -37.1743275199145\t -12.480806025290336\t -11.31122700034357\n",
            "12 \t [-2.40329457 -1.64489997]\t -42.82565822209674\t -12.480806025290336\t -10.3929023961758\n",
            "13 \t [-5.12        2.04203309]\t -33.441338993155945\t -12.480806025290336\t -9.79242338390404\n",
            "14 \t [-0.94074388  1.56251376]\t -23.250043704749814\t -12.480806025290336\t -9.530183497128828\n",
            "15 \t [ 2.34123991 -2.43952804]\t -46.143391700973034\t -12.480806025290336\t -9.300419325657368\n",
            "16 \t [ 0.44839355 -0.31403298]\t -33.69420693110914\t -12.480806025290336\t -8.77028716151039\n",
            "17 \t [-5.12       -2.99177031]\t -37.88876926689968\t -12.480806025290336\t -8.069555957010623\n",
            "18 \t [2.74016639 0.33614029]\t -33.39092505307696\t -12.480806025290336\t -7.972472365779479\n",
            "19 \t [-2.80731576  5.12      ]\t -43.28181828446644\t -12.480806025290336\t -7.304193895845717\n",
            "20 \t [-2.85520741  0.56164691]\t -31.58746909570913\t -12.480806025290336\t -6.639732714551228\n"
          ]
        }
      ]
    },
    {
      "cell_type": "code",
      "metadata": {
        "id": "JS8ejeQ2GCfi",
        "colab": {
          "base_uri": "https://localhost:8080/"
        },
        "outputId": "e6dca093-cec4-491e-8401-235d9dd0000a"
      },
      "source": [
        "### ESTIMATED GP EI GRADIENTS\n",
        "\n",
        "np.random.seed(run_num_11)\n",
        "surrogate_approx_11 = GaussianProcess(cov_func, optimize=opt)\n",
        "\n",
        "approx_11 = GPGO_multi(surrogate_approx_11, Acquisition(util_grad_approx), objfunc, param)\n",
        "approx_11.run(init_evals=n_init, max_iter=iters)\n"
      ],
      "execution_count": 23,
      "outputs": [
        {
          "output_type": "stream",
          "name": "stdout",
          "text": [
            "Evaluation \t Proposed point \t  Current eval. \t  Best eval. \t         Max AcqFunc.\n",
            "init\t [-3.27403839 -4.92057353]\t -47.655641290890955\t -10.679755252484755\t    \n",
            "init\t [-0.37664229  2.30332343]\t -35.87889240695259\t -10.679755252484755\t    \n",
            "init\t [-0.81711509 -0.14922651]\t -10.679755252484755\t -10.679755252484755\t    \n",
            "init\t [-4.98912446 -0.12931474]\t -28.05462905574235\t -10.679755252484755\t    \n",
            "init\t [4.52410012 3.59214172]\t -71.62694632141611\t -10.679755252484755\t    \n",
            "1  \t [ 5.12       -4.19757348]\t -53.309530921692996\t -10.679755252484755\t -10.679755268820804\n",
            "2  \t [-5.12  5.12]\t -57.849427451571785\t -10.679755252484755\t -10.6797364326701\n",
            "3  \t [ 0.96008568 -5.12      ]\t -30.159309280308506\t -10.679755252484755\t -10.67371923514054\n",
            "4  \t [ 3.08642781 -0.51789819]\t -31.169680630860363\t -10.679755252484755\t -10.670015733080467\n",
            "5  \t [1.20979303 5.12      ]\t -37.88882023389519\t -10.679755252484755\t -10.537947741098064\n",
            "6  \t [-1.93526614  5.12      ]\t -33.485794176641825\t -10.679755252484755\t -10.264095617268033\n",
            "7  \t [-0.89795319 -2.64270844]\t -26.018516911183646\t -10.679755252484755\t -10.228658086557957\n",
            "8  \t [-3.48309309  2.27188453]\t -48.60774339220003\t -10.679755252484755\t -10.060327050120323\n",
            "9  \t [-5.12      -2.8162856]\t -42.81069655038007\t -10.679755252484755\t -9.834349135823844\n",
            "10 \t [5.12       0.65030587]\t -45.20990524380892\t -10.679755252484755\t -9.287791222621179\n",
            "11 \t [ 2.21431453 -2.88804949]\t -23.3941378838979\t -10.679755252484755\t -9.234296798839662\n",
            "12 \t [2.11111562 1.90834644]\t -12.051178556569434\t -10.679755252484755\t -8.802854387787743\n",
            "13 \t [-2.69537256 -0.92830375]\t -22.489747724905172\t -10.679755252484755\t -8.496900351884479\n",
            "14 \t [ 0.73157302 -0.46690769]\t -31.69303145053071\t -10.679755252484755\t -7.770488416882963\n",
            "15 \t [ 5.12       -1.79841162]\t -39.16389647106484\t -10.679755252484755\t -7.213031269077919\n",
            "16 \t [ 3.03775812 -5.12      ]\t -38.432787695311305\t -10.679755252484755\t -6.368745924468038\n",
            "17 \t [-1.00818314 -5.12      ]\t -29.95436215479772\t -10.679755252484755\t -6.3271303116595075\n",
            "18 \t [-5.12 -5.12]\t -57.849427451571785\t -10.679755252484755\t -5.083036272199012\n",
            "19 \t [1.9506772  2.97128168]\t -13.272384980698277\t -10.679755252484755\t -4.441243392046791\n",
            "20 \t [-1.67218961  0.52362776]\t -37.65693297066505\t -10.679755252484755\t -4.347279041369767\n"
          ]
        }
      ]
    },
    {
      "cell_type": "code",
      "metadata": {
        "id": "DXwjUVZ4GCii",
        "colab": {
          "base_uri": "https://localhost:8080/"
        },
        "outputId": "e7a45e6d-3099-4a06-d629-08d5ce73ee05"
      },
      "source": [
        "### ESTIMATED GP EI GRADIENTS\n",
        "\n",
        "np.random.seed(run_num_12)\n",
        "surrogate_approx_12 = GaussianProcess(cov_func, optimize=opt)\n",
        "\n",
        "approx_12 = GPGO_multi(surrogate_approx_12, Acquisition(util_grad_approx), objfunc, param)\n",
        "approx_12.run(init_evals=n_init, max_iter=iters)\n"
      ],
      "execution_count": 24,
      "outputs": [
        {
          "output_type": "stream",
          "name": "stdout",
          "text": [
            "Evaluation \t Proposed point \t  Current eval. \t  Best eval. \t         Max AcqFunc.\n",
            "init\t [-3.54137249  2.45810889]\t -57.903242869085595\t -40.51116653209555\t    \n",
            "init\t [-2.42365424  0.34549139]\t -40.51116653209555\t -40.51116653209555\t    \n",
            "init\t [-4.97075238  4.28796936]\t -55.62655915398208\t -40.51116653209555\t    \n",
            "init\t [ 4.10332011 -4.77776458]\t -49.962803461970296\t -40.51116653209555\t    \n",
            "init\t [ 4.6791612  -3.71497655]\t -62.183891474990624\t -40.51116653209555\t    \n",
            "1  \t [5.12 5.12]\t -57.849427451571785\t -40.51116653209555\t -40.51116653209555\n",
            "2  \t [-5.12 -5.12]\t -57.849427451571785\t -40.51116653209555\t -40.511166364596\n",
            "\u001b[1m\u001b[92m3\u001b[0m\t \u001b[1m\u001b[92m[2.51281398 0.8331028 ]\u001b[0m\t \u001b[1m\u001b[92m-31.988450140113365\u001b[0m\t \u001b[1m\u001b[92m-31.988450140113365\u001b[0m\t \u001b[1m\u001b[92m-40.51089649150127\u001b[0m\n",
            "4  \t [0.33244338 5.12      ]\t -43.9867284854611\t -31.988450140113365\t -31.98753542659375\n",
            "5  \t [-0.48613552 -4.11901779]\t -39.83292247946589\t -31.988450140113365\t -31.987490014521576\n",
            "6  \t [-5.12       -1.54443993]\t -50.92270359163506\t -31.988450140113365\t -31.85129324017183\n",
            "7  \t [ 5.12       -0.37802602]\t -46.27184138679919\t -31.988450140113365\t -31.638805179028616\n",
            "\u001b[1m\u001b[92m8\u001b[0m\t \u001b[1m\u001b[92m[ 1.63810297 -1.98066571]\u001b[0m\t \u001b[1m\u001b[92m-23.14574056540701\u001b[0m\t \u001b[1m\u001b[92m-23.14574056540701\u001b[0m\t \u001b[1m\u001b[92m-31.479623895375177\u001b[0m\n",
            "\u001b[1m\u001b[92m9\u001b[0m\t \u001b[1m\u001b[92m[-0.04361956  2.14281102]\u001b[0m\t \u001b[1m\u001b[92m-8.729604437075526\u001b[0m\t \u001b[1m\u001b[92m-8.729604437075526\u001b[0m\t \u001b[1m\u001b[92m-22.362297938879856\u001b[0m\n",
            "10 \t [2.70812788 3.49154667]\t -52.11141019357331\t -8.729604437075526\t -7.476654161766618\n",
            "11 \t [-2.63760677 -2.7222184 ]\t -42.593538267369226\t -8.729604437075526\t -7.16010322692281\n",
            "12 \t [-2.28790981  5.12      ]\t -46.51872881083253\t -8.729604437075526\t -7.140103752496856\n",
            "13 \t [5.12       2.25443569]\t -44.28586062438559\t -8.729604437075526\t -6.7056793792977745\n",
            "14 \t [ 0.00401471 -0.32515539]\t -14.657525369629024\t -8.729604437075526\t -6.596072286507368\n",
            "15 \t [ 1.66597741 -5.12      ]\t -46.73765269203267\t -8.729604437075526\t -6.480589403650098\n",
            "16 \t [-2.54709325 -5.12      ]\t -54.977811444610396\t -8.729604437075526\t -5.1569660072969254\n",
            "17 \t [-0.77228387  2.68272292]\t -30.500232048278548\t -8.729604437075526\t -4.31473185281635\n",
            "18 \t [0.51293285 1.33615664]\t -37.168249733038486\t -8.729604437075526\t -3.247915326736083\n",
            "19 \t [-5.12        0.84597549]\t -33.968967305429416\t -8.729604437075526\t -4.641037134005067\n",
            "20 \t [-0.52130646 -1.59822031]\t -40.8919827234478\t -8.729604437075526\t -3.5155980052006743\n"
          ]
        }
      ]
    },
    {
      "cell_type": "code",
      "metadata": {
        "id": "CphOPndPGClX",
        "colab": {
          "base_uri": "https://localhost:8080/"
        },
        "outputId": "ece59ba2-cee8-4bbb-8b55-13802a63b5e9"
      },
      "source": [
        "### ESTIMATED GP EI GRADIENTS\n",
        "\n",
        "np.random.seed(run_num_13)\n",
        "surrogate_approx_13 = GaussianProcess(cov_func, optimize=opt)\n",
        "\n",
        "approx_13 = GPGO_multi(surrogate_approx_13, Acquisition(util_grad_approx), objfunc, param)\n",
        "approx_13.run(init_evals=n_init, max_iter=iters)\n"
      ],
      "execution_count": 25,
      "outputs": [
        {
          "output_type": "stream",
          "name": "stdout",
          "text": [
            "Evaluation \t Proposed point \t  Current eval. \t  Best eval. \t         Max AcqFunc.\n",
            "init\t [ 2.84367268 -2.68757791]\t -33.58019830007169\t -17.435826639425656\t    \n",
            "init\t [3.32061217 4.76927179]\t -56.857057997503354\t -17.435826639425656\t    \n",
            "init\t [ 4.83943541 -0.47667971]\t -48.211919361679726\t -17.435826639425656\t    \n",
            "init\t [1.11659482 2.82139151]\t -17.435826639425656\t -17.435826639425656\t    \n",
            "init\t [1.45012065 2.27346667]\t -38.25352329493884\t -17.435826639425656\t    \n",
            "1  \t [-5.12       -2.72662613]\t -47.82255372239195\t -17.435826639425656\t -17.435826639425343\n",
            "2  \t [-5.12  5.12]\t -57.849427451571785\t -17.435826639425656\t -17.435826639045825\n",
            "3  \t [-1.07698412 -5.12      ]\t -31.231831210231498\t -17.435826639425656\t -17.435044930361858\n",
            "\u001b[1m\u001b[92m4\u001b[0m\t \u001b[1m\u001b[92m[-2.85655691  1.12635729]\u001b[0m\t \u001b[1m\u001b[92m-16.212017456930443\u001b[0m\t \u001b[1m\u001b[92m-16.212017456930443\u001b[0m\t \u001b[1m\u001b[92m-17.432965994463466\u001b[0m\n",
            "5  \t [-1.15488865  5.12      ]\t -34.631862402887435\t -16.212017456930443\t -16.183015036487483\n",
            "6  \t [-0.62086606 -1.40877603]\t -38.02427515925805\t -16.212017456930443\t -16.14976091612091\n",
            "7  \t [ 5.12 -5.12]\t -57.849427451571785\t -16.212017456930443\t -16.146806728248887\n",
            "8  \t [5.12       2.46276689]\t -54.71753461027505\t -16.212017456930443\t -15.49015335154417\n",
            "9  \t [-5.12        1.73785604]\t -42.70714470556936\t -16.212017456930443\t -15.599154513741437\n",
            "10 \t [ 1.7384283 -5.12     ]\t -42.67327757304595\t -16.212017456930443\t -15.351984357005596\n",
            "11 \t [-3.9082071 -5.12     ]\t -45.816413124543416\t -16.212017456930443\t -15.277537816452625\n",
            "12 \t [-1.25795496  2.43118858]\t -37.072561066167346\t -16.212017456930443\t -14.329070699234338\n",
            "\u001b[1m\u001b[92m13\u001b[0m\t \u001b[1m\u001b[92m[ 1.88140282 -0.2437886 ]\u001b[0m\t \u001b[1m\u001b[92m-15.85919520960005\u001b[0m\t \u001b[1m\u001b[92m-15.85919520960005\u001b[0m\t \u001b[1m\u001b[92m-14.258344186920354\u001b[0m\n",
            "14 \t [-3.23791612 -0.94253151]\t -21.258803405176824\t -15.85919520960005\t -13.6847056409282\n",
            "15 \t [0.95611084 5.12      ]\t -30.216686367871887\t -15.85919520960005\t -12.045174009690712\n",
            "16 \t [-2.30295316 -3.0776533 ]\t -29.20849667491312\t -15.85919520960005\t -12.015324361897859\n",
            "17 \t [ 5.12       -2.74078372]\t -47.01536167542037\t -15.85919520960005\t -11.177169166249076\n",
            "18 \t [-3.2037921   3.62576642]\t -47.584689926670656\t -15.85919520960005\t -11.57846000363144\n",
            "19 \t [-5.12       -0.42607047]\t -48.0466484447519\t -15.85919520960005\t -10.699642844928565\n",
            "20 \t [ 0.511078   -3.18006518]\t -36.0957138618263\t -15.85919520960005\t -10.519257820955348\n"
          ]
        }
      ]
    },
    {
      "cell_type": "code",
      "metadata": {
        "id": "ojHTeARNGCoi",
        "colab": {
          "base_uri": "https://localhost:8080/"
        },
        "outputId": "c619f3bd-d3cf-4093-e8ef-7c2d51878fe6"
      },
      "source": [
        "### ESTIMATED GP EI GRADIENTS\n",
        "\n",
        "np.random.seed(run_num_14)\n",
        "surrogate_approx_14 = GaussianProcess(cov_func, optimize=opt)\n",
        "\n",
        "approx_14 = GPGO_multi(surrogate_approx_14, Acquisition(util_grad_approx), objfunc, param)\n",
        "approx_14.run(init_evals=n_init, max_iter=iters)\n"
      ],
      "execution_count": 26,
      "outputs": [
        {
          "output_type": "stream",
          "name": "stdout",
          "text": [
            "Evaluation \t Proposed point \t  Current eval. \t  Best eval. \t         Max AcqFunc.\n",
            "init\t [0.14277984 2.79721013]\t -18.683085263052178\t -10.423838604848608\t    \n",
            "init\t [ 3.7931795  -5.03759925]\t -47.36348784446708\t -10.423838604848608\t    \n",
            "init\t [-1.94830412  4.68586229]\t -40.19779334078636\t -10.423838604848608\t    \n",
            "init\t [ 0.13431513 -1.86076749]\t -10.423838604848608\t -10.423838604848608\t    \n",
            "init\t [ 0.40140736 -2.85434939]\t -30.353548735049138\t -10.423838604848608\t    \n",
            "1  \t [-5.12 -5.12]\t -57.849427451571785\t -10.423838604848608\t -10.423838359238754\n",
            "2  \t [5.12 5.12]\t -57.849427451571785\t -10.423838604848608\t -10.423836064052916\n",
            "3  \t [-5.12        0.35576865]\t -45.21844514938908\t -10.423838604848608\t -10.423818075794223\n",
            "4  \t [ 5.12       -0.06384633]\t -29.722697136458585\t -10.423838604848608\t -10.423748919811594\n",
            "5  \t [-5.12  5.12]\t -57.849427451571785\t -10.423838604848608\t -10.30446167978198\n",
            "6  \t [-1.64653345  0.04125385]\t -19.09949136662584\t -10.423838604848608\t -10.275390444201152\n",
            "7  \t [-1.68579737 -5.12      ]\t -45.69207606205323\t -10.423838604848608\t -10.213487334307587\n",
            "8  \t [1.91874939 0.23697921]\t -14.195608824971604\t -10.423838604848608\t -10.197474572775945\n",
            "9  \t [1.75616174 5.12      ]\t -41.621760874852114\t -10.423838604848608\t -10.136940103837656\n",
            "10 \t [-3.3700086  -2.32602914]\t -48.21065898922853\t -10.423838604848608\t -9.910683912282009\n",
            "11 \t [3.48155291 2.41512587]\t -56.49839067050769\t -10.423838604848608\t -9.705837276357661\n",
            "12 \t [ 3.28650142 -2.13815602]\t -31.183119568961413\t -10.423838604848608\t -9.456317507548697\n",
            "13 \t [-3.14110294  2.27897619]\t -30.55015558038383\t -10.423838604848608\t -9.0264761666553\n",
            "14 \t [ 1.13105748 -5.12      ]\t -33.407119453037744\t -10.423838604848608\t -8.425239968088025\n",
            "15 \t [ 5.12       -2.95112177]\t -38.10172422316103\t -10.423838604848608\t -7.0783177197564635\n",
            "16 \t [ 0.28549125 -0.04898207]\t -12.7653145905491\t -10.423838604848608\t -6.8016663583313814\n",
            "17 \t [-0.83827053  1.60682585]\t -25.84910078281526\t -10.423838604848608\t -4.291566194261724\n",
            "18 \t [-5.12        2.72956486]\t -47.655690867605884\t -10.423838604848608\t -5.585973057955745\n",
            "19 \t [-1.08350843 -1.58143875]\t -23.739350198207504\t -10.423838604848608\t -4.472210120627392\n",
            "20 \t [-5.12       -2.31605945]\t -48.32132821409769\t -10.423838604848608\t -4.1488201142023975\n"
          ]
        }
      ]
    },
    {
      "cell_type": "code",
      "metadata": {
        "id": "vCJzn4vWGCs3",
        "colab": {
          "base_uri": "https://localhost:8080/"
        },
        "outputId": "acf72eea-b3fa-4fee-b140-78d3d002c6a0"
      },
      "source": [
        "### ESTIMATED GP EI GRADIENTS\n",
        "\n",
        "np.random.seed(run_num_15)\n",
        "surrogate_approx_15 = GaussianProcess(cov_func, optimize=opt)\n",
        "\n",
        "approx_15 = GPGO_multi(surrogate_approx_15, Acquisition(util_grad_approx), objfunc, param)\n",
        "approx_15.run(init_evals=n_init, max_iter=iters)\n"
      ],
      "execution_count": 27,
      "outputs": [
        {
          "output_type": "stream",
          "name": "stdout",
          "text": [
            "Evaluation \t Proposed point \t  Current eval. \t  Best eval. \t         Max AcqFunc.\n",
            "init\t [ 3.57189322 -3.28810573]\t -54.938487770767075\t -7.990765314336182\t    \n",
            "init\t [-4.56332069 -1.41784631]\t -60.750198753157726\t -7.990765314336182\t    \n",
            "init\t [-2.29989449  0.3072023 ]\t -31.984997246800887\t -7.990765314336182\t    \n",
            "init\t [-1.9873903  -2.00218256]\t -7.990765314336182\t -7.990765314336182\t    \n",
            "init\t [-3.97576933 -2.5610341 ]\t -41.754957769694336\t -7.990765314336182\t    \n",
            "1  \t [3.22352522 5.12      ]\t -47.660029841076785\t -7.990765314336182\t -7.99077990019728\n",
            "2  \t [-5.12  5.12]\t -57.849427451571785\t -7.990765314336182\t -7.9907771472656846\n",
            "3  \t [5.12       1.00950524]\t -29.96164352891631\t -7.990765314336182\t -7.989125555746112\n",
            "4  \t [-0.33203296 -5.12      ]\t -43.964034968583405\t -7.990765314336182\t -7.983218904841177\n",
            "5  \t [-0.90983241  4.44648125]\t -41.60128435915934\t -7.990765314336182\t -7.982677974112838\n",
            "6  \t [1.41822665 0.64253986]\t -37.38354167888462\t -7.990765314336182\t -7.9586363070744595\n",
            "7  \t [-5.12        1.86998086]\t -35.57694794485455\t -7.990765314336182\t -7.652854033339431\n",
            "8  \t [-5.12 -5.12]\t -57.849427451571785\t -7.990765314336182\t -7.674548572879686\n",
            "9  \t [ 0.38227168 -2.14120122]\t -25.801618183453993\t -7.990765314336182\t -7.3217114377501415\n",
            "10 \t [ 5.12 -5.12]\t -57.849427451571785\t -7.990765314336182\t -6.444525803416881\n",
            "11 \t [1.47713521 3.13108824]\t -35.08715564399441\t -7.990765314336182\t -5.925350760972394\n",
            "12 \t [ 5.12       -1.31475611]\t -44.61070815540384\t -7.990765314336182\t -5.816217350758162\n",
            "13 \t [5.12       3.48113089]\t -60.97278816760907\t -7.990765314336182\t -6.278791883303658\n",
            "14 \t [-2.84541444  2.92633339]\t -22.069671224978755\t -7.990765314336182\t -5.603426222491353\n",
            "15 \t [-2.63517986 -5.12      ]\t -52.47352393105302\t -7.990765314336182\t -4.895840788046992\n",
            "16 \t [-0.7017948  1.8374608]\t -21.628617289595375\t -7.990765314336182\t -3.8505599420684264\n",
            "17 \t [ 2.66946873 -0.99069242]\t -22.97139169938375\t -7.990765314336182\t -3.0636530928224133\n",
            "18 \t [ 2.04028783 -5.12      ]\t -33.40616994688944\t -7.990765314336182\t -4.9459730086899345\n",
            "19 \t [-1.57782498 -2.54140563]\t -47.439847557204175\t -7.990765314336182\t -2.9265869872188635\n",
            "20 \t [-2.83549019  5.12      ]\t -41.84781771681466\t -7.990765314336182\t -2.5699861047301455\n"
          ]
        }
      ]
    },
    {
      "cell_type": "code",
      "metadata": {
        "id": "bGGkhp-kGCw6",
        "colab": {
          "base_uri": "https://localhost:8080/"
        },
        "outputId": "cb4bca6b-c176-46ae-bf59-ce62cae9e936"
      },
      "source": [
        "### ESTIMATED GP EI GRADIENTS\n",
        "\n",
        "np.random.seed(run_num_16)\n",
        "surrogate_approx_16 = GaussianProcess(cov_func, optimize=opt)\n",
        "\n",
        "approx_16 = GPGO_multi(surrogate_approx_16, Acquisition(util_grad_approx), objfunc, param)\n",
        "approx_16.run(init_evals=n_init, max_iter=iters)\n"
      ],
      "execution_count": 28,
      "outputs": [
        {
          "output_type": "stream",
          "name": "stdout",
          "text": [
            "Evaluation \t Proposed point \t  Current eval. \t  Best eval. \t         Max AcqFunc.\n",
            "init\t [-2.83349935  0.23719262]\t -22.27210456874814\t -22.27210456874814\t    \n",
            "init\t [ 0.51918292 -4.65303603]\t -57.57021076017139\t -22.27210456874814\t    \n",
            "init\t [-1.42613673 -2.83565116]\t -33.89145899403749\t -22.27210456874814\t    \n",
            "init\t [ 1.9325559  -3.44339021]\t -35.85029586225333\t -22.27210456874814\t    \n",
            "init\t [-4.39987336  4.51595121]\t -77.78800881964571\t -22.27210456874814\t    \n",
            "1  \t [5.12 5.12]\t -57.849427451571785\t -22.27210456874814\t -22.27210456874814\n",
            "2  \t [5.12       0.13359347]\t -32.2634102746575\t -22.27210456874814\t -22.271828649771475\n",
            "3  \t [0.53980509 3.56722813]\t -51.82642495204445\t -22.27210456874814\t -22.271590627443537\n",
            "4  \t [-5.12 -5.12]\t -57.849427451571785\t -22.27210456874814\t -22.270777420706683\n",
            "5  \t [ 5.12 -5.12]\t -57.849427451571785\t -22.27210456874814\t -22.24783601552369\n",
            "\u001b[1m\u001b[92m6\u001b[0m\t \u001b[1m\u001b[92m[1.26300818 0.01628759]\u001b[0m\t \u001b[1m\u001b[92m-12.464192819908629\u001b[0m\t \u001b[1m\u001b[92m-12.464192819908629\u001b[0m\t \u001b[1m\u001b[92m-22.18464264899977\u001b[0m\n",
            "7  \t [-5.12       -1.65387336]\t -47.33925145293876\t -12.464192819908629\t -12.247972925578416\n",
            "8  \t [3.37856923 2.40316982]\t -52.62343251705492\t -12.464192819908629\t -11.763908765277636\n",
            "9  \t [-5.12        1.50296762]\t -51.181887054115286\t -12.464192819908629\t -11.621681435573443\n",
            "10 \t [ 5.12       -2.35305705]\t -50.49374570187086\t -12.464192819908629\t -11.058995853772279\n",
            "11 \t [-1.58298876  5.12      ]\t -50.10162607637355\t -12.464192819908629\t -11.04080867317411\n",
            "12 \t [-0.67718726  1.0051996 ]\t -15.891374452818459\t -12.464192819908629\t -10.655486532468139\n",
            "13 \t [-2.37072083 -5.12      ]\t -51.4234474284258\t -12.464192819908629\t -10.650667036487139\n",
            "14 \t [2.42517917 5.12      ]\t -53.721378217893076\t -12.464192819908629\t -9.996849091971544\n",
            "15 \t [ 2.68515158 -0.95815117]\t -22.434539343082317\t -12.464192819908629\t -9.631963504263407\n",
            "16 \t [-2.26756854  2.47834844]\t -42.29330855693461\t -12.464192819908629\t -9.452866196084203\n",
            "\u001b[1m\u001b[92m17\u001b[0m\t \u001b[1m\u001b[92m[-0.06482779 -1.03472929]\u001b[0m\t \u001b[1m\u001b[92m-2.1301654082184953\u001b[0m\t \u001b[1m\u001b[92m-2.1301654082184953\u001b[0m\t \u001b[1m\u001b[92m-8.986742446193857\u001b[0m\n",
            "18 \t [-0.07134621 -1.03883188]\t -2.3685059375813964\t -2.1301654082184953\t -0.39964569091114965\n",
            "19 \t [-0.07102623 -1.03869429]\t -2.3573942073276797\t -2.1301654082184953\t -0.41642442974300176\n",
            "20 \t [-0.07087221 -1.03862577]\t -2.3520219452605904\t -2.1301654082184953\t -0.4262342313520131\n"
          ]
        }
      ]
    },
    {
      "cell_type": "code",
      "metadata": {
        "id": "Yrs2mp7hGC1Z",
        "colab": {
          "base_uri": "https://localhost:8080/"
        },
        "outputId": "ed1bc014-2922-4e08-9449-aec143c437b5"
      },
      "source": [
        "### ESTIMATED GP EI GRADIENTS\n",
        "\n",
        "np.random.seed(run_num_17)\n",
        "surrogate_approx_17 = GaussianProcess(cov_func, optimize=opt)\n",
        "\n",
        "approx_17 = GPGO_multi(surrogate_approx_17, Acquisition(util_grad_approx), objfunc, param)\n",
        "approx_17.run(init_evals=n_init, max_iter=iters)\n"
      ],
      "execution_count": 29,
      "outputs": [
        {
          "output_type": "stream",
          "name": "stdout",
          "text": [
            "Evaluation \t Proposed point \t  Current eval. \t  Best eval. \t         Max AcqFunc.\n",
            "init\t [-2.10263037  0.31320838]\t -20.395145364684023\t -20.395145364684023\t    \n",
            "init\t [-3.15882714 -4.42470033]\t -53.03732051200137\t -20.395145364684023\t    \n",
            "init\t [2.93873111 1.60085526]\t -29.989224812583537\t -20.395145364684023\t    \n",
            "init\t [1.40821398 0.77417363]\t -29.451989415882437\t -20.395145364684023\t    \n",
            "init\t [-4.71999574 -1.45598869]\t -55.89242173757483\t -20.395145364684023\t    \n",
            "1  \t [ 5.12 -5.12]\t -57.849427451571785\t -20.395145364684023\t -20.39514536410384\n",
            "2  \t [-5.12        5.04700552]\t -54.82995879070466\t -20.395145364684023\t -20.395143899498937\n",
            "3  \t [-0.25145931  5.12      ]\t -39.07963528683356\t -20.395145364684023\t -20.39449786433406\n",
            "4  \t [5.12 5.12]\t -57.849427451571785\t -20.395145364684023\t -20.392568332496474\n",
            "5  \t [ 1.07732287 -3.51437797]\t -34.62784028457128\t -20.395145364684023\t -20.38935686350829\n",
            "6  \t [ 5.12       -1.25380009]\t -40.73547226135291\t -20.395145364684023\t -20.35529993331317\n",
            "7  \t [-5.12        1.80494191]\t -38.79858436751153\t -20.395145364684023\t -20.09085490389161\n",
            "8  \t [-2.31080459  3.10182419]\t -30.66706341940591\t -20.395145364684023\t -19.646453886485546\n",
            "\u001b[1m\u001b[92m9\u001b[0m\t \u001b[1m\u001b[92m[-1.18605336 -1.98912709]\u001b[0m\t \u001b[1m\u001b[92m-11.47602466140454\u001b[0m\t \u001b[1m\u001b[92m-11.47602466140454\u001b[0m\t \u001b[1m\u001b[92m-19.266190544102066\u001b[0m\n",
            "10 \t [2.32513309 4.36416097]\t -55.57298158935786\t -11.47602466140454\t -10.25044665140055\n",
            "11 \t [5.12       2.01172811]\t -32.99890245733067\t -11.47602466140454\t -9.977821578319157\n",
            "12 \t [-0.58773683 -5.12      ]\t -47.788765499255476\t -11.47602466140454\t -9.493522079484944\n",
            "13 \t [ 2.51460323 -1.52792509]\t -48.46218532023411\t -11.47602466140454\t -9.40084410072149\n",
            "14 \t [ 2.5466603 -5.12     ]\t -54.98350306196079\t -11.47602466140454\t -8.728140186125982\n",
            "15 \t [-0.09095953  2.36456798]\t -23.781366925470145\t -11.47602466140454\t -8.449712110014126\n",
            "\u001b[1m\u001b[92m16\u001b[0m\t \u001b[1m\u001b[92m[-0.17378096 -0.83564509]\u001b[0m\t \u001b[1m\u001b[92m-10.995225144364811\u001b[0m\t \u001b[1m\u001b[92m-10.995225144364811\u001b[0m\t \u001b[1m\u001b[92m-7.395795447383138\u001b[0m\n",
            "17 \t [-5.12 -5.12]\t -57.849427451571785\t -10.995225144364811\t -7.965290304829033\n",
            "18 \t [-2.64958508  5.12      ]\t -51.843938618852164\t -10.995225144364811\t -6.822359723096224\n",
            "19 \t [-2.21850455 -2.04128015]\t -17.457045222128183\t -10.995225144364811\t -5.4717018455159\n",
            "20 \t [-0.138473   -1.56002681]\t -25.302131275865705\t -10.995225144364811\t -3.8680545742345984\n"
          ]
        }
      ]
    },
    {
      "cell_type": "code",
      "metadata": {
        "id": "f0HIEP3PIUEa",
        "colab": {
          "base_uri": "https://localhost:8080/"
        },
        "outputId": "cb90034f-d50d-4805-9d5a-725552afad0a"
      },
      "source": [
        "### ESTIMATED GP EI GRADIENTS\n",
        "\n",
        "np.random.seed(run_num_18)\n",
        "surrogate_approx_18 = GaussianProcess(cov_func, optimize=opt)\n",
        "\n",
        "approx_18 = GPGO_multi(surrogate_approx_18, Acquisition(util_grad_approx), objfunc, param)\n",
        "approx_18.run(init_evals=n_init, max_iter=iters)\n"
      ],
      "execution_count": 30,
      "outputs": [
        {
          "output_type": "stream",
          "name": "stdout",
          "text": [
            "Evaluation \t Proposed point \t  Current eval. \t  Best eval. \t         Max AcqFunc.\n",
            "init\t [1.53983224 0.05584255]\t -22.67190580753611\t -22.67190580753611\t    \n",
            "init\t [ 3.87687906 -3.25795609]\t -38.990099416711985\t -22.67190580753611\t    \n",
            "init\t [3.60686662 2.56139557]\t -56.66448698782129\t -22.67190580753611\t    \n",
            "init\t [1.70088108 4.99604939]\t -40.894059318256296\t -22.67190580753611\t    \n",
            "init\t [-2.48864335 -4.83014733]\t -54.6725749848372\t -22.67190580753611\t    \n",
            "1  \t [-5.12        2.10205626]\t -35.32979828893855\t -22.67190580753611\t -22.671905807155785\n",
            "2  \t [-2.46249809  5.12      ]\t -54.71228177512208\t -22.67190580753611\t -22.662989822338947\n",
            "3  \t [-2.31060628 -0.70591287]\t -32.28863721408537\t -22.67190580753611\t -22.65474973618845\n",
            "4  \t [ 1.04805571 -5.12      ]\t -30.475529348570817\t -22.67190580753611\t -22.55849900944374\n",
            "5  \t [-5.12       -2.45342647]\t -54.51889997123976\t -22.67190580753611\t -22.55276946851784\n",
            "6  \t [-0.69696353  2.25257288]\t -28.992540391251403\t -22.67190580753611\t -22.40979748153559\n",
            "7  \t [ 5.12      -0.3516431]\t -45.00942649394366\t -22.67190580753611\t -22.39418840708662\n",
            "8  \t [5.12 5.12]\t -57.849427451571785\t -22.67190580753611\t -22.273918783825433\n",
            "9  \t [ 0.15291094 -2.4080118 ]\t -28.468679405042735\t -22.67190580753611\t -21.9700667600773\n",
            "10 \t [-5.12  5.12]\t -57.849427451571785\t -22.67190580753611\t -21.686166226291192\n",
            "11 \t [ 5.12 -5.12]\t -57.849427451571785\t -22.67190580753611\t -21.08629329764053\n",
            "12 \t [-5.12 -5.12]\t -57.849427451571785\t -22.67190580753611\t -21.074104235893945\n",
            "\u001b[1m\u001b[92m13\u001b[0m\t \u001b[1m\u001b[92m[-2.86833304  1.88954771]\u001b[0m\t \u001b[1m\u001b[92m-17.3419921496024\u001b[0m\t \u001b[1m\u001b[92m-17.3419921496024\u001b[0m\t \u001b[1m\u001b[92m-19.423989651505067\u001b[0m\n",
            "14 \t [ 2.49766664 -1.57551109]\t -47.614939583764674\t -17.3419921496024\t -12.799927343753167\n",
            "15 \t [-5.12       -0.05581109]\t -29.53640582810236\t -17.3419921496024\t -13.816210370967104\n",
            "16 \t [1.22675986 2.30578853]\t -28.800516175940984\t -17.3419921496024\t -12.344485573225207\n",
            "\u001b[1m\u001b[92m17\u001b[0m\t \u001b[1m\u001b[92m[-0.33017223  0.00783773]\u001b[0m\t \u001b[1m\u001b[92m-14.94821511014782\u001b[0m\t \u001b[1m\u001b[92m-14.94821511014782\u001b[0m\t \u001b[1m\u001b[92m-12.041782122861308\u001b[0m\n",
            "18 \t [-0.28956907  5.12      ]\t -41.46922829196289\t -14.94821511014782\t -9.384856393569184\n",
            "19 \t [-2.1622104  -2.62671526]\t -33.3287466694953\t -14.94821511014782\t -9.002095524866673\n",
            "20 \t [ 2.76420635 -5.12      ]\t -45.67412393440187\t -14.94821511014782\t -8.04606036862316\n"
          ]
        }
      ]
    },
    {
      "cell_type": "code",
      "metadata": {
        "id": "S3mxRQDLIUPC",
        "colab": {
          "base_uri": "https://localhost:8080/"
        },
        "outputId": "c1e1b818-d241-413f-e977-f671d720017e"
      },
      "source": [
        "### ESTIMATED GP EI GRADIENTS\n",
        "\n",
        "np.random.seed(run_num_19)\n",
        "surrogate_approx_19 = GaussianProcess(cov_func, optimize=opt)\n",
        "\n",
        "approx_19 = GPGO_multi(surrogate_approx_19, Acquisition(util_grad_approx), objfunc, param)\n",
        "approx_19.run(init_evals=n_init, max_iter=iters)\n"
      ],
      "execution_count": 31,
      "outputs": [
        {
          "output_type": "stream",
          "name": "stdout",
          "text": [
            "Evaluation \t Proposed point \t  Current eval. \t  Best eval. \t         Max AcqFunc.\n",
            "init\t [-4.12125592  2.6751971 ]\t -41.43485596167127\t -25.867003842388073\t    \n",
            "init\t [-2.59135515 -3.70553152]\t -51.60126035043229\t -25.867003842388073\t    \n",
            "init\t [-1.72598719 -4.27008445]\t -43.97430127029199\t -25.867003842388073\t    \n",
            "init\t [1.76104531 3.13952049]\t -25.867003842388073\t -25.867003842388073\t    \n",
            "init\t [4.9432772  1.38916592]\t -44.66580306903559\t -25.867003842388073\t    \n",
            "1  \t [ 5.12 -5.12]\t -57.849427451571785\t -25.867003842388073\t -25.867003827800186\n",
            "2  \t [ 1.77605048 -1.68631818]\t -28.263854794224137\t -25.867003842388073\t -25.86386967738979\n",
            "3  \t [5.12 5.12]\t -57.849427451571785\t -25.867003842388073\t -25.8396864835937\n",
            "4  \t [-1.28669655  5.12      ]\t -42.86563832421653\t -25.867003842388073\t -25.830755895510997\n",
            "5  \t [-5.12       -0.97841527]\t -29.973834389207678\t -25.867003842388073\t -25.829893923907772\n",
            "\u001b[1m\u001b[92m6\u001b[0m\t \u001b[1m\u001b[92m[-1.20077986  0.35661763]\u001b[0m\t \u001b[1m\u001b[92m-24.734580421109037\u001b[0m\t \u001b[1m\u001b[92m-24.734580421109037\u001b[0m\t \u001b[1m\u001b[92m-25.81749306033973\u001b[0m\n",
            "7  \t [ 1.54014055 -5.12      ]\t -50.98037823191446\t -24.734580421109037\t -24.59448281550401\n",
            "8  \t [ 5.12      -1.8215045]\t -37.89945706339688\t -24.734580421109037\t -24.4300435860692\n",
            "9  \t [-5.12 -5.12]\t -57.849427451571785\t -24.734580421109037\t -24.378781099045973\n",
            "10 \t [-5.12  5.12]\t -57.849427451571785\t -24.734580421109037\t -24.087808736953047\n",
            "\u001b[1m\u001b[92m11\u001b[0m\t \u001b[1m\u001b[92m[1.81518913 0.74359922]\u001b[0m\t \u001b[1m\u001b[92m-20.26753390944369\u001b[0m\t \u001b[1m\u001b[92m-20.26753390944369\u001b[0m\t \u001b[1m\u001b[92m-23.011560327826487\u001b[0m\n",
            "12 \t [2.02694932 5.12      ]\t -33.17625418555015\t -20.26753390944369\t -18.220794967061252\n",
            "13 \t [-0.86379337  2.59083354]\t -29.317598477053973\t -20.26753390944369\t -18.037305369156588\n",
            "14 \t [-0.58616353 -1.85539965]\t -26.207178965025864\t -20.26753390944369\t -17.602931695656096\n",
            "\u001b[1m\u001b[92m15\u001b[0m\t \u001b[1m\u001b[92m[-3.21500628  0.05292687]\u001b[0m\t \u001b[1m\u001b[92m-18.705887810497764\u001b[0m\t \u001b[1m\u001b[92m-18.705887810497764\u001b[0m\t \u001b[1m\u001b[92m-16.86945775587065\u001b[0m\n",
            "16 \t [ 3.23905297 -3.27861466]\t -42.34173985171598\t -18.705887810497764\t -14.289376697809965\n",
            "17 \t [-5.12       -2.80416143]\t -43.4502768434114\t -18.705887810497764\t -13.374885706244445\n",
            "18 \t [ 3.3794715  -0.28960711]\t -41.234595417234274\t -18.705887810497764\t -12.725412730959127\n",
            "19 \t [3.66248143 3.14300037]\t -42.2903424843641\t -18.705887810497764\t -12.668117420730107\n",
            "20 \t [-5.12        0.93871124]\t -30.538241122273476\t -18.705887810497764\t -13.082551026216457\n"
          ]
        }
      ]
    },
    {
      "cell_type": "code",
      "metadata": {
        "id": "Aawd59dRIUYn",
        "colab": {
          "base_uri": "https://localhost:8080/"
        },
        "outputId": "cf763541-7ad8-4c5c-9e50-01f5f8479155"
      },
      "source": [
        "### ESTIMATED GP EI GRADIENTS\n",
        "\n",
        "np.random.seed(run_num_20)\n",
        "surrogate_approx_20 = GaussianProcess(cov_func, optimize=opt)\n",
        "\n",
        "approx_20 = GPGO_multi(surrogate_approx_20, Acquisition(util_grad_approx), objfunc, param)\n",
        "approx_20.run(init_evals=n_init, max_iter=iters)\n"
      ],
      "execution_count": 32,
      "outputs": [
        {
          "output_type": "stream",
          "name": "stdout",
          "text": [
            "Evaluation \t Proposed point \t  Current eval. \t  Best eval. \t         Max AcqFunc.\n",
            "init\t [0.9024594  4.07258857]\t -20.24255447774017\t -17.388691338534382\t    \n",
            "init\t [4.00927467 3.23417577]\t -35.55852254546393\t -17.388691338534382\t    \n",
            "init\t [-4.75249064  1.96359764]\t -36.54582989269194\t -17.388691338534382\t    \n",
            "init\t [-1.24230715  0.18955208]\t -17.388691338534382\t -17.388691338534382\t    \n",
            "init\t [ 1.61742301 -3.13497377]\t -33.22932870179905\t -17.388691338534382\t    \n",
            "1  \t [-5.12 -5.12]\t -57.849427451571785\t -17.388691338534382\t -17.388691334429225\n",
            "2  \t [ 5.12       -0.92645578]\t -30.831816007590838\t -17.388691338534382\t -17.383879709258295\n",
            "3  \t [ 5.12 -5.12]\t -57.849427451571785\t -17.388691338534382\t -17.381329875996688\n",
            "4  \t [-2.70368898  5.12      ]\t -49.103566320164376\t -17.388691338534382\t -17.364569490344795\n",
            "5  \t [-1.34011169 -5.12      ]\t -46.08480506182764\t -17.388691338534382\t -17.3366459711598\n",
            "6  \t [-4.41681162 -1.56024881]\t -59.899404181919834\t -17.388691338534382\t -17.301419348307547\n",
            "7  \t [1.91138092 0.46614114]\t -25.155769870897423\t -17.388691338534382\t -17.22099330601228\n",
            "8  \t [-1.24979049 -2.24022706]\t -25.953763304051165\t -17.388691338534382\t -16.233255595189824\n",
            "9  \t [-1.34785196  2.53662808]\t -43.75566069883524\t -17.388691338534382\t -16.21502388931762\n",
            "10 \t [-5.12  5.12]\t -57.849427451571785\t -17.388691338534382\t -15.95494871093987\n",
            "11 \t [2.81009542 5.12      ]\t -43.13453056012658\t -17.388691338534382\t -15.011051255752959\n",
            "12 \t [ 2.24024779 -5.12      ]\t -43.33105809814264\t -17.388691338534382\t -14.996652126883664\n",
            "13 \t [5.12       1.32213344]\t -45.051447330060846\t -17.388691338534382\t -14.642685833352306\n",
            "14 \t [5.12 5.12]\t -57.849427451571785\t -17.388691338534382\t -14.49350476744083\n",
            "15 \t [ 3.914051   -2.66535782]\t -38.91806244582748\t -17.388691338534382\t -13.907623783679902\n",
            "16 \t [-0.28396223  5.12      ]\t -41.123099882153525\t -17.388691338534382\t -12.989910376148119\n",
            "17 \t [1.4491364  2.39886911]\t -45.39642712562486\t -17.388691338534382\t -13.203804302197845\n",
            "18 \t [ 0.62540429 -1.01801039]\t -18.544519273563225\t -17.388691338534382\t -13.099621902668575\n",
            "19 \t [-2.95751889  0.49058037]\t -29.32419047612943\t -17.388691338534382\t -12.519081806208817\n",
            "20 \t [-3.09361778 -3.62444517]\t -41.48344025364305\t -17.388691338534382\t -12.246409434123487\n"
          ]
        }
      ]
    },
    {
      "cell_type": "code",
      "metadata": {
        "id": "xkgzPRbBTHaq",
        "colab": {
          "base_uri": "https://localhost:8080/"
        },
        "outputId": "83d2e50a-8f38-4c50-b588-2c64e031fef5"
      },
      "source": [
        "end_approx = time.time()\n",
        "end_approx\n",
        "\n",
        "time_approx = end_approx - start_approx\n",
        "time_approx\n",
        "\n",
        "start_exact = time.time()\n",
        "start_exact"
      ],
      "execution_count": 33,
      "outputs": [
        {
          "output_type": "execute_result",
          "data": {
            "text/plain": [
              "1645528675.0784628"
            ]
          },
          "metadata": {},
          "execution_count": 33
        }
      ]
    },
    {
      "cell_type": "code",
      "metadata": {
        "id": "7CG3Ndvb16Rb",
        "colab": {
          "base_uri": "https://localhost:8080/"
        },
        "outputId": "9efed38a-a5cb-40af-ac4c-c3fe2111d854"
      },
      "source": [
        "### EXACT GP EI GRADIENTS\n",
        "\n",
        "np.random.seed(run_num_1)\n",
        "surrogate_exact_1 = dGaussianProcess(cov_func, optimize=opt)\n",
        "\n",
        "exact_1 = dGPGO(surrogate_exact_1, Acquisition_new(util_grad_exact), objfunc, param)\n",
        "exact_1.run(init_evals=n_init, max_iter=iters)\n"
      ],
      "execution_count": 34,
      "outputs": [
        {
          "output_type": "stream",
          "name": "stdout",
          "text": [
            "Evaluation \t Proposed point \t  Current eval. \t  Best eval. \t         Max AcqFunc.\n",
            "init\t [-0.84969467  2.25612281]\t -20.33436270766351\t -19.908403246996286\t    \n",
            "init\t [-5.1188288  -2.02411446]\t -33.07414982069084\t -19.908403246996286\t    \n",
            "init\t [-3.61721968 -4.17445279]\t -53.347974723929894\t -19.908403246996286\t    \n",
            "init\t [-3.21269544 -1.58145816]\t -39.218472310354045\t -19.908403246996286\t    \n",
            "init\t [-1.05710106  0.39748336]\t -19.908403246996286\t -19.908403246996286\t    \n",
            "1  \t [ 4.04077223 -4.24914728]\t -44.655863836006326\t -19.908403246996286\t -19.908403236569633\n",
            "2  \t [5.12 5.12]\t -57.849427451571785\t -19.908403246996286\t -19.90840323415899\n",
            "3  \t [4.33744349 0.432798  ]\t -53.344410128242544\t -19.908403246996286\t -19.90766397882616\n",
            "4  \t [-5.12        4.36680096]\t -64.69123843795754\t -19.908403246996286\t -19.90829130925116\n",
            "5  \t [ 0.15769158 -5.09614947]\t -32.285447952253\t -19.908403246996286\t -19.88621777482304\n",
            "6  \t [1.14453864 5.12      ]\t -34.082732834665336\t -19.908403246996286\t -19.876419828256836\n",
            "7  \t [ 1.31267743 -1.72405678]\t -30.155476940398223\t -19.908403246996286\t -19.772872900856346\n",
            "8  \t [-4.10739872  1.26622556]\t -31.683487300375575\t -19.908403246996286\t -19.413756937484635\n",
            "9  \t [-1.80418265  5.01629981]\t -35.13172156440348\t -19.908403246996286\t -19.44957045517234\n",
            "10 \t [1.43547837 2.68579275]\t -42.38923907785543\t -19.908403246996286\t -18.38357523032791\n",
            "11 \t [-1.024038   -2.45601624]\t -26.81506619013562\t -19.908403246996286\t -17.434556580546758\n",
            "12 \t [ 5.12       -1.99028245]\t -32.904572054647616\t -19.908403246996286\t -17.884264129308697\n",
            "13 \t [3.95610073 2.93943604]\t -25.38435272623046\t -19.908403246996286\t -16.630175232753608\n",
            "14 \t [1.38617381 0.40255192]\t -37.81657844327279\t -19.908403246996286\t -15.950776357043392\n",
            "15 \t [-2.47234479  2.64661596]\t -49.01500509838675\t -19.908403246996286\t -14.901761451601926\n",
            "16 \t [ 1.67108194 -3.60529414]\t -48.43872428213943\t -19.908403246996286\t -14.760335420312538\n",
            "17 \t [-5.12 -5.12]\t -57.849427451571785\t -19.908403246996286\t -14.382917944515768\n",
            "18 \t [-1.84363535 -4.76249809]\t -39.74619653591705\t -19.908403246996286\t -13.138005934648037\n",
            "19 \t [3.03015577 5.08323948]\t -36.536932544703106\t -19.908403246996286\t -12.872204083528352\n",
            "20 \t [-5.12000000e+00  4.08425346e-04]\t -28.92474681980258\t -19.908403246996286\t -13.274024995343561\n"
          ]
        }
      ]
    },
    {
      "cell_type": "code",
      "metadata": {
        "id": "-ilCPSAu9SAg",
        "colab": {
          "base_uri": "https://localhost:8080/"
        },
        "outputId": "1e211dc4-cf45-47fe-e911-d0637eaecce3"
      },
      "source": [
        "### EXACT GP EI GRADIENTS\n",
        "\n",
        "np.random.seed(run_num_2)\n",
        "surrogate_exact_2 = dGaussianProcess(cov_func, optimize=opt)\n",
        "\n",
        "exact_2 = dGPGO(surrogate_exact_2, Acquisition_new(util_grad_exact), objfunc, param)\n",
        "exact_2.run(init_evals=n_init, max_iter=iters)\n"
      ],
      "execution_count": 35,
      "outputs": [
        {
          "output_type": "stream",
          "name": "stdout",
          "text": [
            "Evaluation \t Proposed point \t  Current eval. \t  Best eval. \t         Max AcqFunc.\n",
            "init\t [-0.6554122  -4.85451539]\t -43.490296251903594\t -18.964539418712707\t    \n",
            "init\t [ 0.50854377 -0.6622987 ]\t -35.91861667536101\t -18.964539418712707\t    \n",
            "init\t [-0.81543371 -1.73737143]\t -20.479562046739524\t -18.964539418712707\t    \n",
            "init\t [-3.02439799  1.2213347 ]\t -18.964539418712707\t -18.964539418712707\t    \n",
            "init\t [-2.05153614 -2.3876887 ]\t -28.041315668371354\t -18.964539418712707\t    \n",
            "1  \t [5.12       3.79058262]\t -50.77089119709249\t -18.964539418712707\t -18.96453938815674\n",
            "2  \t [ 4.8426374  -3.96513962]\t -43.91494982240336\t -18.964539418712707\t -18.9645292393409\n",
            "3  \t [0.07192172 5.12      ]\t -29.933685188852706\t -18.964539418712707\t -18.964468578788942\n",
            "4  \t [-5.12 -5.12]\t -57.849427451571785\t -18.964539418712707\t -18.96082338803084\n",
            "5  \t [ 4.59349575 -0.07218847]\t -40.44010539027009\t -18.964539418712707\t -18.93748325196505\n",
            "6  \t [-3.91737664  4.88361111]\t -43.06990976462939\t -18.964539418712707\t -18.951667359958297\n",
            "7  \t [-5.12       -1.25907101]\t -41.07961364023437\t -18.964539418712707\t -18.838280444552236\n",
            "8  \t [1.21915537 2.47386203]\t -35.54586282014931\t -18.964539418712707\t -18.624287474646735\n",
            "9  \t [2.92833189 4.73591641]\t -42.88462753435191\t -18.964539418712707\t -16.94504979955154\n",
            "10 \t [ 1.96058274 -3.20105963]\t -21.369013127520887\t -18.964539418712707\t -18.238956095626612\n",
            "11 \t [-1.72859059  3.20560299]\t -31.85154721603225\t -18.964539418712707\t -17.279102342814394\n",
            "12 \t [ 2.9040523  -1.51694656]\t -32.440822281872606\t -18.964539418712707\t -14.806988721434653\n",
            "13 \t [ 1.66049265 -4.96039671]\t -43.00287785938545\t -18.964539418712707\t -15.516947107779881\n",
            "14 \t [-4.99831434  1.60737689]\t -45.37650566911981\t -18.964539418712707\t -17.370187538058108\n",
            "15 \t [-1.46025746  1.01097184]\t -22.868010780594293\t -18.964539418712707\t -14.551592288405413\n",
            "16 \t [-2.86264666 -5.11492505]\t -40.351495188498575\t -18.964539418712707\t -14.709561507190518\n",
            "17 \t [3.34026269 1.81361455]\t -35.92731048853902\t -18.964539418712707\t -14.938362674102516\n",
            "18 \t [-2.87051238 -0.57889849]\t -30.502259492777462\t -18.964539418712707\t -13.129944730024446\n",
            "19 \t [-5.12       -3.05916295]\t -38.966194662981216\t -18.964539418712707\t -11.348259795162068\n",
            "20 \t [-5.083233    3.50723547]\t -59.46622169136021\t -18.964539418712707\t -11.051431344835603\n"
          ]
        }
      ]
    },
    {
      "cell_type": "code",
      "metadata": {
        "id": "XieJ158mIvlP",
        "colab": {
          "base_uri": "https://localhost:8080/"
        },
        "outputId": "4358f7a3-b785-49eb-8695-c51e498c7b39"
      },
      "source": [
        "### EXACT GP EI GRADIENTS\n",
        "\n",
        "np.random.seed(run_num_3)\n",
        "surrogate_exact_3 = dGaussianProcess(cov_func, optimize=opt)\n",
        "\n",
        "exact_3 = dGPGO(surrogate_exact_3, Acquisition_new(util_grad_exact), objfunc, param)\n",
        "exact_3.run(init_evals=n_init, max_iter=iters)\n"
      ],
      "execution_count": 36,
      "outputs": [
        {
          "output_type": "stream",
          "name": "stdout",
          "text": [
            "Evaluation \t Proposed point \t  Current eval. \t  Best eval. \t         Max AcqFunc.\n",
            "init\t [0.52017052 2.1314337 ]\t -27.953858411008774\t -10.607662635789808\t    \n",
            "init\t [-2.14113547  0.11087468]\t -10.607662635789808\t -10.607662635789808\t    \n",
            "init\t [4.02377681 4.05804123]\t -33.42749829480097\t -10.607662635789808\t    \n",
            "init\t [-3.83400642 -2.99783293]\t -28.650953928965198\t -10.607662635789808\t    \n",
            "init\t [-4.59297584 -0.6061072 ]\t -57.6631355589384\t -10.607662635789808\t    \n",
            "1  \t [ 1.67759318 -3.17566744]\t -32.79081619438729\t -10.607662635789808\t -10.607639236553297\n",
            "2  \t [-3.55868405  4.82551581]\t -60.708961282145246\t -10.607662635789808\t -10.607539928681135\n",
            "3  \t [ 5.12      -0.3507253]\t -44.96238197718422\t -10.607662635789808\t -10.60628490665781\n",
            "4  \t [-1.57258335 -5.10192032]\t -49.46191739291357\t -10.607662635789808\t -10.478411578989444\n",
            "5  \t [ 4.60130562 -3.45104534]\t -70.65406330267014\t -10.607662635789808\t -10.227228980960454\n",
            "6  \t [1.39442511 5.02099968]\t -45.121139687836546\t -10.607662635789808\t -10.12953747600545\n",
            "7  \t [-5.12 -5.12]\t -57.849427451571785\t -10.607662635789808\t -9.934947807457684\n",
            "8  \t [ 1.77493964 -0.2518877 ]\t -21.771864555434156\t -10.607662635789808\t -9.926920144830543\n",
            "9  \t [-2.40026603  2.1748725 ]\t -34.04428960044136\t -10.607662635789808\t -9.356170169539032\n",
            "10 \t [-0.5930262  -2.40244595]\t -42.64284633340007\t -10.607662635789808\t -9.132574006541768\n",
            "11 \t [3.34863025 1.67261288]\t -44.49199600977465\t -10.607662635789808\t -8.530142783818278\n",
            "12 \t [ 2.11690505 -5.08843091]\t -34.456303959661774\t -10.607662635789808\t -7.8869668163139695\n",
            "13 \t [-4.95344287  2.14008376]\t -33.171188903009735\t -10.607662635789808\t -9.041833635145846\n",
            "14 \t [-0.25672789 -0.12315258]\t -13.351007263103071\t -10.607662635789808\t -6.366854983695864\n",
            "15 \t [-1.01330751  5.12      ]\t -29.9864415743168\t -10.607662635789808\t -8.124121766210642\n",
            "16 \t [5.12 5.12]\t -57.849427451571785\t -10.607662635789808\t -5.583562250311848\n",
            "17 \t [-2.11976583 -0.62790959]\t -24.528551053236477\t -10.607662635789808\t -4.256948546095229\n",
            "18 \t [-0.64045276  0.56933831]\t -36.152514655895395\t -10.607662635789808\t -2.55840319805955\n",
            "19 \t [5.12      2.4692841]\t -54.83642225451931\t -10.607662635789808\t -4.33206106518671\n",
            "20 \t [ 2.67169968 -1.11975834]\t -25.8154453929145\t -10.607662635789808\t -3.506736772691389\n"
          ]
        }
      ]
    },
    {
      "cell_type": "code",
      "metadata": {
        "id": "PhLBVOIfIvol",
        "colab": {
          "base_uri": "https://localhost:8080/"
        },
        "outputId": "27f8ee26-0fa2-4ea4-c16d-d15de60a6772"
      },
      "source": [
        "### EXACT GP EI GRADIENTS\n",
        "\n",
        "np.random.seed(run_num_4)\n",
        "surrogate_exact_4 = dGaussianProcess(cov_func, optimize=opt)\n",
        "\n",
        "exact_4 = dGPGO(surrogate_exact_4, Acquisition_new(util_grad_exact), objfunc, param)\n",
        "exact_4.run(init_evals=n_init, max_iter=iters)\n"
      ],
      "execution_count": 37,
      "outputs": [
        {
          "output_type": "stream",
          "name": "stdout",
          "text": [
            "Evaluation \t Proposed point \t  Current eval. \t  Best eval. \t         Max AcqFunc.\n",
            "init\t [4.78238555 0.48365823]\t -51.03163809010808\t -14.323038259018315\t    \n",
            "init\t [4.84028785 2.19971578]\t -39.78645699016559\t -14.323038259018315\t    \n",
            "init\t [ 2.02474316 -2.90724357]\t -14.323038259018315\t -14.323038259018315\t    \n",
            "init\t [ 4.87705042 -5.05620219]\t -52.80627247106233\t -14.323038259018315\t    \n",
            "init\t [-2.52946061 -0.66773471]\t -41.61497868486559\t -14.323038259018315\t    \n",
            "1  \t [-2.37593926  5.12      ]\t -51.682475782417484\t -14.323038259018315\t -14.323037154731137\n",
            "2  \t [-5.12 -5.12]\t -57.849427451571785\t -14.323038259018315\t -14.323002230149687\n",
            "3  \t [1.96075502 5.12      ]\t -33.07175374525896\t -14.323038259018315\t -14.317069408044068\n",
            "4  \t [0.79127659 1.31343849]\t -23.667976570604065\t -14.323038259018315\t -14.295724376544108\n",
            "5  \t [-1.08833013 -4.87479297]\t -29.387172349591154\t -14.323038259018315\t -14.305589604476479\n",
            "6  \t [5.12 5.12]\t -57.849427451571785\t -14.323038259018315\t -13.9775320528673\n",
            "7  \t [-5.12       -1.84843169]\t -36.543565483758904\t -14.323038259018315\t -13.82432530606683\n",
            "8  \t [-3.18235306  2.10393102]\t -22.487802657603762\t -14.323038259018315\t -13.762889299085149\n",
            "\u001b[1m\u001b[92m9\u001b[0m\t \u001b[1m\u001b[92m[ 2.03147824 -0.76219726]\u001b[0m\t \u001b[1m\u001b[92m-14.137176713029609\u001b[0m\t \u001b[1m\u001b[92m-14.137176713029609\u001b[0m\t \u001b[1m\u001b[92m-12.721884306907064\u001b[0m\n",
            "10 \t [ 4.49925806 -2.18621233]\t -51.121282290516845\t -14.137176713029609\t -12.74123876542335\n",
            "11 \t [-0.28369163 -1.90698955]\t -17.47779971603191\t -14.137176713029609\t -12.717948412090799\n",
            "12 \t [ 1.38821255 -4.9510036 ]\t -44.54276845153296\t -14.137176713029609\t -12.744713949764982\n",
            "13 \t [-0.1407541   3.35280024]\t -30.94269822182789\t -14.137176713029609\t -12.320510749573673\n",
            "14 \t [-2.93273112 -3.28461606]\t -32.427498830724836\t -14.137176713029609\t -11.62368722356151\n",
            "15 \t [-4.67783867  0.34511684]\t -52.00845662996129\t -14.137176713029609\t -10.714796926684198\n",
            "16 \t [2.6078937  2.49788176]\t -50.828450958660405\t -14.137176713029609\t -10.728629877159118\n",
            "17 \t [-4.18829284  3.50886611]\t -56.057662539468296\t -14.137176713029609\t -10.361807470752105\n",
            "18 \t [-1.5063409   1.58059287]\t -43.50446138426804\t -14.137176713029609\t -9.590094279934581\n",
            "19 \t [ 0.40119356 -0.52930566]\t -38.40609676738939\t -14.137176713029609\t -7.852077603737821\n",
            "20 \t [ 0.40525086 -3.10651155]\t -30.251312377012283\t -14.137176713029609\t -6.561193591291568\n"
          ]
        }
      ]
    },
    {
      "cell_type": "code",
      "metadata": {
        "id": "arbiPyj2IvsJ",
        "colab": {
          "base_uri": "https://localhost:8080/"
        },
        "outputId": "4ceb462d-3b1d-4185-da6f-09dcc77eea86"
      },
      "source": [
        "### EXACT GP EI GRADIENTS\n",
        "\n",
        "np.random.seed(run_num_5)\n",
        "surrogate_exact_5 = dGaussianProcess(cov_func, optimize=opt)\n",
        "\n",
        "exact_5 = dGPGO(surrogate_exact_5, Acquisition_new(util_grad_exact), objfunc, param)\n",
        "exact_5.run(init_evals=n_init, max_iter=iters)\n"
      ],
      "execution_count": 38,
      "outputs": [
        {
          "output_type": "stream",
          "name": "stdout",
          "text": [
            "Evaluation \t Proposed point \t  Current eval. \t  Best eval. \t         Max AcqFunc.\n",
            "init\t [-2.84678993  3.79629882]\t -33.93442008827236\t -7.8108627039749745\t    \n",
            "init\t [-3.00319585  4.2865757 ]\t -39.673876075575784\t -7.8108627039749745\t    \n",
            "init\t [-0.11866943  1.14425716]\t -7.8108627039749745\t -7.8108627039749745\t    \n",
            "init\t [2.72289645 0.1886002 ]\t -25.38160395721669\t -7.8108627039749745\t    \n",
            "init\t [-2.08076286 -3.19773462]\t -22.589982116319675\t -7.8108627039749745\t    \n",
            "1  \t [ 4.32894502 -5.09733749]\t -61.29459456639687\t -7.8108627039749745\t -7.810881347216296\n",
            "2  \t [5.12 5.12]\t -57.849427451571785\t -7.8108627039749745\t -7.810880583399788\n",
            "3  \t [-5.12       -0.31192635]\t -42.81552120921353\t -7.8108627039749745\t -7.8089377374162465\n",
            "4  \t [1.11276445 4.76007737]\t -35.670566143430165\t -7.8108627039749745\t -7.793938181882096\n",
            "5  \t [-5.12 -5.12]\t -57.849427451571785\t -7.8108627039749745\t -7.793115264556636\n",
            "6  \t [ 0.39675772 -5.12      ]\t -47.050887099555275\t -7.8108627039749745\t -7.71488434980356\n",
            "7  \t [ 5.12       -1.68100108]\t -45.951274194956675\t -7.8108627039749745\t -7.620691637069226\n",
            "8  \t [ 0.36506031 -1.61080919]\t -37.01656033743204\t -7.8108627039749745\t -7.370536434440062\n",
            "9  \t [5.12       1.87551399]\t -35.3483995511112\t -7.8108627039749745\t -7.450493807979845\n",
            "10 \t [-2.50968262  1.00263895]\t -27.286665905108197\t -7.8108627039749745\t -7.036649798263651\n",
            "11 \t [-5.12        2.28846656]\t -46.55525560741453\t -7.8108627039749745\t -6.426846162724699\n",
            "12 \t [ 2.58213167 -2.99766268]\t -34.35222216431596\t -7.8108627039749745\t -5.791760168967217\n",
            "13 \t [1.54295635 2.32966985]\t -42.245392949778136\t -7.8108627039749745\t -5.904809757085324\n",
            "14 \t [-4.6668877  -2.59526534]\t -61.764633888586125\t -7.8108627039749745\t -5.0163300618391045\n",
            "\u001b[1m\u001b[92m15\u001b[0m\t \u001b[1m\u001b[92m[-2.02064412 -1.08259386]\u001b[0m\t \u001b[1m\u001b[92m-6.655626983308281\u001b[0m\t \u001b[1m\u001b[92m-6.655626983308281\u001b[0m\t \u001b[1m\u001b[92m-4.022521549280119\u001b[0m\n",
            "16 \t [-0.8224438   4.02088213]\t -22.533638667556986\t -6.655626983308281\t -1.8871399770567279\n",
            "17 \t [3.19224475 3.88483621]\t -34.23833171017681\t -6.655626983308281\t -1.6163461751398118\n",
            "18 \t [-2.44538611 -5.12      ]\t -54.321624731129646\t -6.655626983308281\t -3.812637768192196\n",
            "19 \t [-2.4196922  -0.97607333]\t -25.674154270347685\t -6.655626983308281\t -1.568250811741348\n",
            "20 \t [-0.98309116  2.17159622]\t -11.009273530074312\t -6.655626983308281\t -1.2093223486210718\n"
          ]
        }
      ]
    },
    {
      "cell_type": "code",
      "metadata": {
        "id": "04KJCEm_Ivvf",
        "colab": {
          "base_uri": "https://localhost:8080/"
        },
        "outputId": "5819e2d0-49ee-4cc5-f1b4-fcce83f43135"
      },
      "source": [
        "### EXACT GP EI GRADIENTS\n",
        "\n",
        "np.random.seed(run_num_6)\n",
        "surrogate_exact_6 = dGaussianProcess(cov_func, optimize=opt)\n",
        "\n",
        "exact_6 = dGPGO(surrogate_exact_6, Acquisition_new(util_grad_exact), objfunc, param)\n",
        "exact_6.run(init_evals=n_init, max_iter=iters)\n"
      ],
      "execution_count": 39,
      "outputs": [
        {
          "output_type": "stream",
          "name": "stdout",
          "text": [
            "Evaluation \t Proposed point \t  Current eval. \t  Best eval. \t         Max AcqFunc.\n",
            "init\t [ 4.02288795 -1.72052679]\t -31.08835710146886\t -17.28954482757088\t    \n",
            "init\t [ 3.28938622 -4.69302655]\t -58.797867722203385\t -17.28954482757088\t    \n",
            "init\t [-4.0175956   0.97333314]\t -17.28954482757088\t -17.28954482757088\t    \n",
            "init\t [ 0.30532979 -0.83141193]\t -19.296253155889353\t -17.28954482757088\t    \n",
            "init\t [-1.68542362  1.25459899]\t -28.650630936276173\t -17.28954482757088\t    \n",
            "1  \t [5.12 5.12]\t -57.849427451571785\t -17.28954482757088\t -17.28954481698576\n",
            "2  \t [-5.12 -5.12]\t -57.849427451571785\t -17.28954482757088\t -17.289544778430603\n",
            "3  \t [0.39239961 5.12      ]\t -46.879049981380305\t -17.28954482757088\t -17.288218848126796\n",
            "4  \t [-0.95408494 -4.92186911]\t -26.729297813340416\t -17.28954482757088\t -17.280194724131146\n",
            "5  \t [3.88132283 1.66847213]\t -35.40357333585098\t -17.28954482757088\t -17.20503138168115\n",
            "6  \t [-3.50135733  4.65921874]\t -69.36710849405449\t -17.28954482757088\t -17.262559027765388\n",
            "7  \t [-2.93001825 -2.19131086]\t -20.73354995532408\t -17.28954482757088\t -17.140388251706806\n",
            "\u001b[1m\u001b[92m8\u001b[0m\t \u001b[1m\u001b[92m[1.07553306 2.06715424]\u001b[0m\t \u001b[1m\u001b[92m-7.412137046156813\u001b[0m\t \u001b[1m\u001b[92m-7.412137046156813\u001b[0m\t \u001b[1m\u001b[92m-16.466989379165504\u001b[0m\n",
            "9  \t [-5.12       -1.60992955]\t -49.22454018711592\t -7.412137046156813\t -6.402557624626916\n",
            "10 \t [ 0.39818689 -2.89160704]\t -28.7735278144756\t -7.412137046156813\t -5.471040791648005\n",
            "11 \t [2.8543868 3.5640956]\t -43.95168582413419\t -7.412137046156813\t -4.475050333884127\n",
            "12 \t [1.47022114 0.77531512]\t -31.00423299668415\t -7.412137046156813\t -4.261926017839883\n",
            "13 \t [-0.21745353  2.81863352]\t -21.781299040701573\t -7.412137046156813\t -4.141904199175724\n",
            "14 \t [-4.92313474  2.42023295]\t -50.008644011662\t -7.412137046156813\t -4.496020819625936\n",
            "15 \t [-2.83052469 -4.2316744 ]\t -39.92364908503027\t -7.412137046156813\t -3.0449318706335267\n",
            "16 \t [-1.74729971 -0.92252376]\t -15.235407365005406\t -7.412137046156813\t -3.0496749326113424\n",
            "17 \t [5.12      0.0169308]\t -28.98152984191843\t -7.412137046156813\t -3.6164959153358227\n",
            "18 \t [ 0.72393115 -5.12      ]\t -41.07942972632672\t -7.412137046156813\t -2.5937846644590934\n",
            "19 \t [ 2.14738809 -1.8833903 ]\t -14.714768368319437\t -7.412137046156813\t -1.9747834598910448\n",
            "20 \t [ 4.9340119  -3.15179319]\t -39.339231124959305\t -7.412137046156813\t -1.862085136145784\n"
          ]
        }
      ]
    },
    {
      "cell_type": "code",
      "metadata": {
        "id": "tAOkme3CIvyO",
        "colab": {
          "base_uri": "https://localhost:8080/"
        },
        "outputId": "e291b1a8-113d-4de5-cf41-0a0c6eba5d1b"
      },
      "source": [
        "### EXACT GP EI GRADIENTS\n",
        "\n",
        "np.random.seed(run_num_7)\n",
        "surrogate_exact_7 = dGaussianProcess(cov_func, optimize=opt)\n",
        "\n",
        "exact_7 = dGPGO(surrogate_exact_7, Acquisition_new(util_grad_exact), objfunc, param)\n",
        "exact_7.run(init_evals=n_init, max_iter=iters)\n"
      ],
      "execution_count": 40,
      "outputs": [
        {
          "output_type": "stream",
          "name": "stdout",
          "text": [
            "Evaluation \t Proposed point \t  Current eval. \t  Best eval. \t         Max AcqFunc.\n",
            "init\t [-4.33860312  2.86636843]\t -45.646133072936244\t -22.52235437888213\t    \n",
            "init\t [-0.63068947  2.28828342]\t -34.83012662845338\t -22.52235437888213\t    \n",
            "init\t [4.8946126  0.39419771]\t -44.09657005662876\t -22.52235437888213\t    \n",
            "init\t [ 0.01147355 -4.38219639]\t -36.613209822404315\t -22.52235437888213\t    \n",
            "init\t [-2.37118484e+00 -1.20319155e-03]\t -22.52235437888213\t -22.52235437888213\t    \n",
            "1  \t [-5.12 -5.12]\t -57.849427451571785\t -22.52235437888213\t -22.5223271525891\n",
            "2  \t [3.66237484 5.12      ]\t -57.569392297613234\t -22.52235437888213\t -22.522177196868483\n",
            "3  \t [ 4.52828409 -4.16265128]\t -62.45864721017638\t -22.52235437888213\t -22.5210520808623\n",
            "4  \t [-4.02558214 -1.33646422]\t -33.289738493146906\t -22.52235437888213\t -22.52235436888213\n",
            "\u001b[1m\u001b[92m5\u001b[0m\t \u001b[1m\u001b[92m[ 1.30561129 -0.85934528]\u001b[0m\t \u001b[1m\u001b[92m-19.524098049117512\u001b[0m\t \u001b[1m\u001b[92m-19.524098049117512\u001b[0m\t \u001b[1m\u001b[92m-22.462586981371796\u001b[0m\n",
            "6  \t [0.11609633 5.12      ]\t -31.482813126571905\t -19.524098049117512\t -19.232738351900178\n",
            "7  \t [2.24434445 2.31532115]\t -34.032510308894345\t -19.524098049117512\t -18.86583585423762\n",
            "8  \t [-2.56582402 -3.4758337 ]\t -57.7066762278762\t -19.524098049117512\t -18.21210318994103\n",
            "9  \t [-2.37887928  4.82157764]\t -51.80070543635907\t -19.524098049117512\t -18.217079595131626\n",
            "10 \t [5.12       3.01055289]\t -38.010116626139904\t -19.524098049117512\t -17.541794317585936\n",
            "11 \t [ 2.15680208 -5.12      ]\t -38.04968210532146\t -19.524098049117512\t -16.966374188718383\n",
            "12 \t [-5.11292055  5.04211319]\t -54.3260309744776\t -19.524098049117512\t -17.371648599638668\n",
            "13 \t [ 3.2419681  -1.77056739]\t -31.852127747330183\t -19.524098049117512\t -17.195330192819824\n",
            "14 \t [-0.74632964 -0.77947533]\t -19.55376409843953\t -19.524098049117512\t -16.034299504685283\n",
            "15 \t [ 0.52171952 -2.38079273]\t -43.17108477596321\t -19.524098049117512\t -13.954920585468797\n",
            "16 \t [-5.12        0.33751728]\t -44.264543231983346\t -19.524098049117512\t -16.54958976397185\n",
            "17 \t [1.26169743 0.50194426]\t -32.577391869741945\t -19.524098049117512\t -13.637804840820007\n",
            "18 \t [ 5.12       -1.58040355]\t -50.17321262059416\t -19.524098049117512\t -13.120419417288417\n",
            "19 \t [-4.89363627 -2.96944867]\t -35.10023543726601\t -19.524098049117512\t -12.430053911403752\n",
            "20 \t [-2.62600488  1.85585522]\t -31.194941008149257\t -19.524098049117512\t -12.188124325052863\n"
          ]
        }
      ]
    },
    {
      "cell_type": "code",
      "metadata": {
        "id": "69-J3EF4Iv1S",
        "colab": {
          "base_uri": "https://localhost:8080/"
        },
        "outputId": "21b71dba-fd58-4438-baf9-a46a848573a9"
      },
      "source": [
        "### EXACT GP EI GRADIENTS\n",
        "\n",
        "np.random.seed(run_num_8)\n",
        "surrogate_exact_8 = dGaussianProcess(cov_func, optimize=opt)\n",
        "\n",
        "exact_8 = dGPGO(surrogate_exact_8, Acquisition_new(util_grad_exact), objfunc, param)\n",
        "exact_8.run(init_evals=n_init, max_iter=iters)\n"
      ],
      "execution_count": 41,
      "outputs": [
        {
          "output_type": "stream",
          "name": "stdout",
          "text": [
            "Evaluation \t Proposed point \t  Current eval. \t  Best eval. \t         Max AcqFunc.\n",
            "init\t [3.82391708 4.79785639]\t -50.20079446939181\t -13.871821018360485\t    \n",
            "init\t [3.78055209 0.31596228]\t -36.5114251593508\t -13.871821018360485\t    \n",
            "init\t [-2.73686192 -5.00327624]\t -43.34985765011677\t -13.871821018360485\t    \n",
            "init\t [-0.7119993  -0.99992207]\t -13.871821018360485\t -13.871821018360485\t    \n",
            "init\t [ 0.23218863 -0.22126801]\t -17.190590355445654\t -13.871821018360485\t    \n",
            "1  \t [ 4.96376909 -4.82584897]\t -53.598448729164815\t -13.871821018360485\t -13.871804552259617\n",
            "2  \t [-5.03492225  2.95509263]\t -34.71822332027364\t -13.871821018360485\t -13.871820781110607\n",
            "3  \t [-0.88346227  5.12      ]\t -32.26835247215\t -13.871821018360485\t -13.871149387167755\n",
            "4  \t [ 1.0844111  -4.79070896]\t -32.97062299379361\t -13.871821018360485\t -13.842134558934491\n",
            "5  \t [-5.12       -1.44673329]\t -50.46289040957707\t -13.871821018360485\t -13.868193054446522\n",
            "\u001b[1m\u001b[92m6\u001b[0m\t \u001b[1m\u001b[92m[-1.95159419  1.92940076]\u001b[0m\t \u001b[1m\u001b[92m-8.958091411800888\u001b[0m\t \u001b[1m\u001b[92m-8.958091411800888\u001b[0m\t \u001b[1m\u001b[92m-13.62658991038897\u001b[0m\n",
            "7  \t [1.43796867 2.43201855]\t -46.3340350028271\t -8.958091411800888\t -8.596192559529197\n",
            "8  \t [ 2.15576526 -2.10872731]\t -15.757196595783046\t -8.958091411800888\t -8.197514693451224\n",
            "9  \t [ 5.09033741 -1.80057301]\t -37.59730661475024\t -8.958091411800888\t -7.769806187033872\n",
            "10 \t [-5.12 -5.12]\t -57.849427451571785\t -8.958091411800888\t -7.6706864452063925\n",
            "11 \t [5.12       2.58500429]\t -54.21424408874834\t -8.958091411800888\t -7.44564173788529\n",
            "12 \t [-2.24170879 -2.30162295]\t -32.98899954267589\t -8.958091411800888\t -7.456715679282449\n",
            "13 \t [-3.16274303  0.56090919]\t -34.38218654040147\t -8.958091411800888\t -7.229758911115892\n",
            "14 \t [-3.48568377  5.08364923]\t -59.30273884482088\t -8.958091411800888\t -7.866869309308508\n",
            "15 \t [1.57289281 5.12      ]\t -50.36809578337911\t -8.958091411800888\t -5.7269193987134726\n",
            "16 \t [-0.87779246  1.84628676]\t -11.297737039014914\t -8.958091411800888\t -4.966598079111012\n",
            "17 \t [ 0.05935303 -2.74147852]\t -18.741739572599794\t -8.958091411800888\t -5.109257910551972\n",
            "18 \t [-1.7103522   2.86725968]\t -26.892992150046926\t -8.958091411800888\t -4.280386340007922\n",
            "19 \t [ 2.98112013 -3.51358623]\t -41.26622963346738\t -8.958091411800888\t -3.8039387240404823\n",
            "20 \t [ 1.78388063 -0.57786684]\t -30.230266776355226\t -8.958091411800888\t -3.3367649431400155\n"
          ]
        }
      ]
    },
    {
      "cell_type": "code",
      "metadata": {
        "id": "vonm9jyuIv4t",
        "colab": {
          "base_uri": "https://localhost:8080/"
        },
        "outputId": "df13ab53-1b34-4c24-ea1b-2e16b9a0914d"
      },
      "source": [
        "### EXACT GP EI GRADIENTS\n",
        "\n",
        "np.random.seed(run_num_9)\n",
        "surrogate_exact_9 = dGaussianProcess(cov_func, optimize=opt)\n",
        "\n",
        "exact_9 = dGPGO(surrogate_exact_9, Acquisition_new(util_grad_exact), objfunc, param)\n",
        "exact_9.run(init_evals=n_init, max_iter=iters)\n"
      ],
      "execution_count": 42,
      "outputs": [
        {
          "output_type": "stream",
          "name": "stdout",
          "text": [
            "Evaluation \t Proposed point \t  Current eval. \t  Best eval. \t         Max AcqFunc.\n",
            "init\t [-5.01376866  0.01919582]\t -25.248289026162446\t -24.454800313488693\t    \n",
            "init\t [-0.04328148 -3.74958562]\t -24.454800313488693\t -24.454800313488693\t    \n",
            "init\t [-3.66478248 -2.88195916]\t -39.46509426509438\t -24.454800313488693\t    \n",
            "init\t [-0.83447623 -2.57944404]\t -31.06766397812992\t -24.454800313488693\t    \n",
            "init\t [-4.25922917 -1.58209393]\t -49.922543556206975\t -24.454800313488693\t    \n",
            "1  \t [5.12 5.12]\t -57.849427451571785\t -24.454800313488693\t -24.454800303488692\n",
            "2  \t [ 5.03785231 -1.04596176]\t -27.16958169742484\t -24.454800313488693\t -24.454799385147297\n",
            "3  \t [-1.47691444  4.45110873]\t -61.42049213265991\t -24.454800313488693\t -24.45479920624852\n",
            "4  \t [1.55244529 1.27551439]\t -35.09524858557889\t -24.454800313488693\t -24.45016399153349\n",
            "5  \t [-2.25090749  1.29293161]\t -29.460154598682422\t -24.454800313488693\t -24.136678374381976\n",
            "6  \t [1.8025736 5.12     ]\t -38.930436244639026\t -24.454800313488693\t -24.213123071370998\n",
            "7  \t [ 2.90505959 -3.3723889 ]\t -38.49358175215039\t -24.454800313488693\t -24.235013132614093\n",
            "8  \t [4.95138848 1.94729695]\t -29.314338159432932\t -24.454800313488693\t -24.072230079488328\n",
            "9  \t [-5.12 -5.12]\t -57.849427451571785\t -24.454800313488693\t -23.979201782243425\n",
            "10 \t [-2.04794507 -5.12      ]\t -33.56912257570726\t -24.454800313488693\t -23.093554105185504\n",
            "11 \t [-4.99094553  3.24345975]\t -45.0349263236176\t -24.454800313488693\t -24.315997685948386\n",
            "12 \t [-0.31056367 -0.33541589]\t -29.035994239901903\t -24.454800313488693\t -22.038851358123132\n",
            "\u001b[1m\u001b[92m13\u001b[0m\t \u001b[1m\u001b[92m[ 2.32763953 -0.95684751]\u001b[0m\t \u001b[1m\u001b[92m-21.385832201239403\u001b[0m\t \u001b[1m\u001b[92m-21.385832201239403\u001b[0m\t \u001b[1m\u001b[92m-21.804369105353782\u001b[0m\n",
            "14 \t [0.43634702 2.93638572]\t -28.811813269830658\t -21.385832201239403\t -16.69277979119903\n",
            "15 \t [3.14858982 3.10369468]\t -25.645683655116798\t -21.385832201239403\t -17.221520590233613\n",
            "16 \t [ 4.40639363 -4.2982085 ]\t -69.19353017553054\t -21.385832201239403\t -17.33179738989289\n",
            "17 \t [-3.77307603  4.75427167]\t -55.12600184002387\t -21.385832201239403\t -15.884097780944543\n",
            "18 \t [ 0.84859728 -4.40252137]\t -42.47825906850564\t -21.385832201239403\t -14.397261820843598\n",
            "19 \t [3.60464469 0.47105014]\t -50.96558733504713\t -21.385832201239403\t -14.76271851721869\n",
            "\u001b[1m\u001b[92m20\u001b[0m\t \u001b[1m\u001b[92m[-2.11350524 -0.91056025]\u001b[0m\t \u001b[1m\u001b[92m-9.271047107468181\u001b[0m\t \u001b[1m\u001b[92m-9.271047107468181\u001b[0m\t \u001b[1m\u001b[92m-13.990098179184868\u001b[0m\n"
          ]
        }
      ]
    },
    {
      "cell_type": "code",
      "metadata": {
        "id": "6amuYlUdIv7r",
        "colab": {
          "base_uri": "https://localhost:8080/"
        },
        "outputId": "da7e2633-c916-4db6-955e-33132af23d82"
      },
      "source": [
        "### EXACT GP EI GRADIENTS\n",
        "\n",
        "np.random.seed(run_num_10)\n",
        "surrogate_exact_10 = dGaussianProcess(cov_func, optimize=opt)\n",
        "\n",
        "exact_10 = dGPGO(surrogate_exact_10, Acquisition_new(util_grad_exact), objfunc, param)\n",
        "exact_10.run(init_evals=n_init, max_iter=iters)\n"
      ],
      "execution_count": 43,
      "outputs": [
        {
          "output_type": "stream",
          "name": "stdout",
          "text": [
            "Evaluation \t Proposed point \t  Current eval. \t  Best eval. \t         Max AcqFunc.\n",
            "init\t [ 2.77832339 -4.90750004]\t -41.674330194390116\t -13.839458310244165\t    \n",
            "init\t [1.36855793 2.54775176]\t -44.69639719065837\t -13.839458310244165\t    \n",
            "init\t [-0.01528819 -2.81808235]\t -13.839458310244165\t -13.839458310244165\t    \n",
            "init\t [-3.09183626  2.66783449]\t -33.23221510904937\t -13.839458310244165\t    \n",
            "init\t [-3.38830503 -4.2154003 ]\t -54.73014366983691\t -13.839458310244165\t    \n",
            "1  \t [ 5.12       -0.53830217]\t -48.92629267922258\t -13.839458310244165\t -13.839193299462396\n",
            "2  \t [5.12 5.12]\t -57.849427451571785\t -13.839458310244165\t -13.838736940818274\n",
            "3  \t [-4.22754093 -0.73798976]\t -37.76417471725897\t -13.839458310244165\t -13.767410946664924\n",
            "4  \t [ 1.77944761 -0.72160778]\t -23.6219314007071\t -13.839458310244165\t -13.495993287041971\n",
            "5  \t [-4.5050859   5.00650982]\t -65.36419794062027\t -13.839458310244165\t -13.442488879648867\n",
            "6  \t [0.10579747 5.07144996]\t -28.850951888017963\t -13.839458310244165\t -13.416799619630586\n",
            "\u001b[1m\u001b[92m7\u001b[0m\t \u001b[1m\u001b[92m[-1.10430841 -0.00826503]\u001b[0m\t \u001b[1m\u001b[92m-3.304937571276623\u001b[0m\t \u001b[1m\u001b[92m-3.304937571276623\u001b[0m\t \u001b[1m\u001b[92m-13.413574047975152\u001b[0m\n",
            "8  \t [4.02447235 2.51756262]\t -42.59166081837165\t -3.304937571276623\t -2.1539734192063653\n",
            "9  \t [-0.53137903 -4.86686758]\t -47.07434955710461\t -3.304937571276623\t -2.2683482119377394\n",
            "10 \t [-0.93666847  0.62454078]\t -19.140164738802195\t -3.304937571276623\t -1.7427607821711704\n",
            "11 \t [-1.27350046 -1.65147014]\t -31.623247710938486\t -3.304937571276623\t -1.8044826831225333\n",
            "12 \t [ 4.37130588 -2.95944354]\t -45.0945962517404\t -3.304937571276623\t -1.6948966069365738\n",
            "13 \t [-5.12 -5.12]\t -57.8494274515718\t -3.304937571276623\t -0.48550367170020536\n",
            "14 \t [-5.12        1.64301018]\t -47.85157330243807\t -3.304937571276623\t -1.5713404571822207\n",
            "15 \t [2.77700547 4.67542814]\t -52.39863399663816\t -3.304937571276623\t -0.5700225762971199\n",
            "16 \t [-1.84996598  5.11863861]\t -36.398737849146066\t -3.304937571276623\t -0.7691549889063337\n",
            "17 \t [-2.45053553  0.58330932]\t -44.52729163203699\t -3.304937571276623\t -0.09946047979903568\n",
            "18 \t [-5.12       -2.57923472]\t -54.36329541155715\t -3.304937571276623\t -0.2822832310075321\n",
            "19 \t [ 1.48850798 -2.72487854]\t -41.18644351224248\t -3.304937571276623\t -0.37201653564126674\n",
            "20 \t [-0.76633817  2.58851034]\t -34.75596565544681\t -3.304937571276623\t -0.12828752828291434\n"
          ]
        }
      ]
    },
    {
      "cell_type": "code",
      "metadata": {
        "id": "VwbLIP9cIv-F",
        "colab": {
          "base_uri": "https://localhost:8080/"
        },
        "outputId": "c654aade-ce1a-448f-fa6a-644897458402"
      },
      "source": [
        "### EXACT GP EI GRADIENTS\n",
        "\n",
        "np.random.seed(run_num_11)\n",
        "surrogate_exact_11 = dGaussianProcess(cov_func, optimize=opt)\n",
        "\n",
        "exact_11 = dGPGO(surrogate_exact_11, Acquisition_new(util_grad_exact), objfunc, param)\n",
        "exact_11.run(init_evals=n_init, max_iter=iters)\n"
      ],
      "execution_count": 44,
      "outputs": [
        {
          "output_type": "stream",
          "name": "stdout",
          "text": [
            "Evaluation \t Proposed point \t  Current eval. \t  Best eval. \t         Max AcqFunc.\n",
            "init\t [-3.27403839 -4.92057353]\t -47.655641290890955\t -10.679755252484755\t    \n",
            "init\t [-0.37664229  2.30332343]\t -35.87889240695259\t -10.679755252484755\t    \n",
            "init\t [-0.81711509 -0.14922651]\t -10.679755252484755\t -10.679755252484755\t    \n",
            "init\t [-4.98912446 -0.12931474]\t -28.05462905574235\t -10.679755252484755\t    \n",
            "init\t [4.52410012 3.59214172]\t -71.62694632141611\t -10.679755252484755\t    \n",
            "1  \t [ 3.03550212 -4.46785095]\t -49.22040431745476\t -10.679755252484755\t -10.67975494666741\n",
            "2  \t [ 4.25360926 -0.55294285]\t -48.0774987666756\t -10.679755252484755\t -10.667816115686156\n",
            "3  \t [1.24702516 5.12      ]\t -40.292881856182845\t -10.679755252484755\t -10.537519173805586\n",
            "4  \t [-0.14982725 -3.281103  ]\t -26.843298318720986\t -10.679755252484755\t -10.52699427880254\n",
            "5  \t [-3.6313084   3.02560873]\t -39.25519344676327\t -10.679755252484755\t -10.572042718817748\n",
            "6  \t [-2.84140872 -1.78911886]\t -23.40852235390129\t -10.679755252484755\t -9.88487427438095\n",
            "7  \t [ 1.44886905 -0.97131575]\t -22.693014772502647\t -10.679755252484755\t -9.701630853873292\n",
            "8  \t [-1.42594454  4.96073383]\t -45.88185417083119\t -10.679755252484755\t -9.558843870138004\n",
            "9  \t [-5.12       -2.99585908]\t -37.90326989039408\t -10.679755252484755\t -9.367599097256099\n",
            "10 \t [2.20330635 1.72636343]\t -26.422625257782258\t -10.679755252484755\t -9.241309791901637\n",
            "11 \t [-2.56052552  0.6641364 ]\t -41.419971254031566\t -10.679755252484755\t -7.845272053614891\n",
            "12 \t [-4.69318951  4.53457892]\t -75.84752782491911\t -10.679755252484755\t -7.101028271092273\n",
            "13 \t [-0.66210384 -1.15536966]\t -21.41784511837718\t -10.679755252484755\t -5.139917160139678\n",
            "14 \t [ 0.03622543 -5.12      ]\t -29.183943611692925\t -10.679755252484755\t -8.036492539016173\n",
            "15 \t [5.12       1.34047705]\t -46.10514389584846\t -10.679755252484755\t -5.41234564467728\n",
            "16 \t [ 3.94417466 -2.51560884]\t -42.44563327320033\t -10.679755252484755\t -4.965995202396097\n",
            "17 \t [0.73875144 0.31404037]\t -25.26662496239247\t -10.679755252484755\t -3.0572053499850065\n",
            "18 \t [-5.12 -5.12]\t -57.8494274515718\t -10.679755252484755\t -4.573226523949379\n",
            "19 \t [ 1.57003711 -2.6401009 ]\t -44.85178025868372\t -10.679755252484755\t -3.21274053459283\n",
            "20 \t [-5.02099311  1.57425239]\t -46.7068016452303\t -10.679755252484755\t -4.400983083837207\n"
          ]
        }
      ]
    },
    {
      "cell_type": "code",
      "metadata": {
        "id": "MlUNFjc-JTBY",
        "colab": {
          "base_uri": "https://localhost:8080/"
        },
        "outputId": "725d5c18-4796-41f8-c366-3d2502807db7"
      },
      "source": [
        "### EXACT GP EI GRADIENTS\n",
        "\n",
        "np.random.seed(run_num_12)\n",
        "surrogate_exact_12 = dGaussianProcess(cov_func, optimize=opt)\n",
        "\n",
        "exact_12 = dGPGO(surrogate_exact_12, Acquisition_new(util_grad_exact), objfunc, param)\n",
        "exact_12.run(init_evals=n_init, max_iter=iters)\n"
      ],
      "execution_count": 45,
      "outputs": [
        {
          "output_type": "stream",
          "name": "stdout",
          "text": [
            "Evaluation \t Proposed point \t  Current eval. \t  Best eval. \t         Max AcqFunc.\n",
            "init\t [-3.54137249  2.45810889]\t -57.903242869085595\t -40.51116653209555\t    \n",
            "init\t [-2.42365424  0.34549139]\t -40.51116653209555\t -40.51116653209555\t    \n",
            "init\t [-4.97075238  4.28796936]\t -55.62655915398208\t -40.51116653209555\t    \n",
            "init\t [ 4.10332011 -4.77776458]\t -49.962803461970296\t -40.51116653209555\t    \n",
            "init\t [ 4.6791612  -3.71497655]\t -62.183891474990624\t -40.51116653209555\t    \n",
            "1  \t [5.12 5.12]\t -57.849427451571785\t -40.51116653209555\t -40.51116652209555\n",
            "2  \t [-5.12 -5.12]\t -57.849427451571785\t -40.51116653209555\t -40.511166354596\n",
            "\u001b[1m\u001b[92m3\u001b[0m\t \u001b[1m\u001b[92m[2.39120481 0.97307722]\u001b[0m\t \u001b[1m\u001b[92m-24.5606403651218\u001b[0m\t \u001b[1m\u001b[92m-24.5606403651218\u001b[0m\t \u001b[1m\u001b[92m-40.51085659049695\u001b[0m\n",
            "4  \t [-0.46882411 -4.42580423]\t -58.54919150500953\t -24.5606403651218\t -24.55961089021675\n",
            "5  \t [0.89124597 4.54092672]\t -43.33072399829906\t -24.5606403651218\t -24.5503937109417\n",
            "6  \t [-5.12       -1.55605117]\t -50.73223892290047\t -24.5606403651218\t -24.42343370082603\n",
            "7  \t [5.12       0.41252994]\t -47.62227907653468\t -24.5606403651218\t -24.301949346507037\n",
            "8  \t [ 0.70322767 -1.40847166]\t -33.76643081847721\t -24.5606403651218\t -24.20298193822541\n",
            "9  \t [-0.47128385  2.26775686]\t -36.31588134803827\t -24.5606403651218\t -23.121744889298558\n",
            "10 \t [-1.82181678  5.12      ]\t -37.882929567150335\t -24.5606403651218\t -23.669699593543296\n",
            "11 \t [-2.58478391 -2.5553685 ]\t -51.226279276971354\t -24.5606403651218\t -23.037044707313797\n",
            "12 \t [3.15345759 3.25556616]\t -35.191943560389156\t -24.5606403651218\t -22.37639953311171\n",
            "13 \t [ 3.20548171 -1.60794185]\t -37.886672676414435\t -24.5606403651218\t -22.00351110852661\n",
            "\u001b[1m\u001b[92m14\u001b[0m\t \u001b[1m\u001b[92m[ 1.84660394 -3.9885046 ]\u001b[0m\t \u001b[1m\u001b[92m-23.640288920312173\u001b[0m\t \u001b[1m\u001b[92m-23.640288920312173\u001b[0m\t \u001b[1m\u001b[92m-20.51060363337417\u001b[0m\n",
            "15 \t [-2.94072526 -5.12      ]\t -38.25813529204089\t -23.640288920312173\t -19.015495740380672\n",
            "16 \t [5.12       2.66482547]\t -51.125858479659684\t -23.640288920312173\t -18.298217414442686\n",
            "17 \t [-5.12        0.83177094]\t -34.70181197342633\t -23.640288920312173\t -19.581699833640503\n",
            "\u001b[1m\u001b[92m18\u001b[0m\t \u001b[1m\u001b[92m[0.16795967 0.38981213]\u001b[0m\t \u001b[1m\u001b[92m-22.948288354366888\u001b[0m\t \u001b[1m\u001b[92m-22.948288354366888\u001b[0m\t \u001b[1m\u001b[92m-16.929838401828842\u001b[0m\n",
            "19 \t [2.82417895 5.12      ]\t -42.4068211431546\t -22.948288354366888\t -15.585014440775515\n",
            "20 \t [-0.34871375 -2.35996999]\t -37.87612510004953\t -22.948288354366888\t -11.469224741836308\n"
          ]
        }
      ]
    },
    {
      "cell_type": "code",
      "metadata": {
        "id": "9BsKdU9eJTFL",
        "colab": {
          "base_uri": "https://localhost:8080/"
        },
        "outputId": "d94423fd-7e8f-4e8f-a119-08644854bf78"
      },
      "source": [
        "### EXACT GP EI GRADIENTS\n",
        "\n",
        "np.random.seed(run_num_13)\n",
        "surrogate_exact_13 = dGaussianProcess(cov_func, optimize=opt)\n",
        "\n",
        "exact_13 = dGPGO(surrogate_exact_13, Acquisition_new(util_grad_exact), objfunc, param)\n",
        "exact_13.run(init_evals=n_init, max_iter=iters)\n"
      ],
      "execution_count": 46,
      "outputs": [
        {
          "output_type": "stream",
          "name": "stdout",
          "text": [
            "Evaluation \t Proposed point \t  Current eval. \t  Best eval. \t         Max AcqFunc.\n",
            "init\t [ 2.84367268 -2.68757791]\t -33.58019830007169\t -17.435826639425656\t    \n",
            "init\t [3.32061217 4.76927179]\t -56.857057997503354\t -17.435826639425656\t    \n",
            "init\t [ 4.83943541 -0.47667971]\t -48.211919361679726\t -17.435826639425656\t    \n",
            "init\t [1.11659482 2.82139151]\t -17.435826639425656\t -17.435826639425656\t    \n",
            "init\t [1.45012065 2.27346667]\t -38.25352329493884\t -17.435826639425656\t    \n",
            "1  \t [-5.12 -5.12]\t -57.849427451571785\t -17.435826639425656\t -17.43582662942564\n",
            "2  \t [-3.81749683  0.42652771]\t -39.59347826031612\t -17.435826639425656\t -17.435820572853327\n",
            "3  \t [-2.89939236  5.12      ]\t -39.26351982732489\t -17.435826639425656\t -17.43556617907401\n",
            "4  \t [-0.69420447 -5.12      ]\t -42.84099984901968\t -17.435826639425656\t -17.43255839935984\n",
            "5  \t [-2.78914898 -2.47302964]\t -41.316915597905414\t -17.435826639425656\t -17.13212634024342\n",
            "\u001b[1m\u001b[92m6\u001b[0m\t \u001b[1m\u001b[92m[ 0.03880372 -0.71742593]\u001b[0m\t \u001b[1m\u001b[92m-12.844385152016885\u001b[0m\t \u001b[1m\u001b[92m-12.844385152016885\u001b[0m\t \u001b[1m\u001b[92m-17.22163532519574\u001b[0m\n",
            "7  \t [0.09078976 5.12      ]\t -30.51636983993898\t -12.844385152016885\t -12.306498608729147\n",
            "8  \t [5.12       2.47329596]\t -54.90147507527987\t -12.844385152016885\t -12.1228317899039\n",
            "9  \t [-1.21732831  1.56627536]\t -31.04209865846844\t -12.844385152016885\t -11.82791543079742\n",
            "10 \t [-5.10580865 -2.0041286 ]\t -32.218870655181334\t -12.844385152016885\t -10.919573638468908\n",
            "11 \t [ 5.03138232 -3.60708349]\t -56.34027180209547\t -12.844385152016885\t -11.67406529693797\n",
            "12 \t [ 0.09034221 -2.56877804]\t -27.25573791220445\t -12.844385152016885\t -10.474045471524565\n",
            "13 \t [-4.81172351  2.85489858]\t -41.39738072804022\t -12.844385152016885\t -11.97217496417617\n",
            "\u001b[1m\u001b[92m14\u001b[0m\t \u001b[1m\u001b[92m[ 1.95235326 -0.09348735]\u001b[0m\t \u001b[1m\u001b[92m-5.941354841974341\u001b[0m\t \u001b[1m\u001b[92m-5.941354841974341\u001b[0m\t \u001b[1m\u001b[92m-10.351006048972776\u001b[0m\n",
            "15 \t [ 2.01112218 -0.11927577]\t -6.762486409977261\t -5.941354841974341\t -1.9187027113686086\n",
            "16 \t [-2.8215701 -5.12     ]\t -42.53912406771682\t -5.941354841974341\t -1.438464316341579\n",
            "17 \t [ 2.03329422 -5.05867865]\t -30.614521437016535\t -5.941354841974341\t -4.588539085148537\n",
            "18 \t [ 2.01811016 -0.14504301]\t -8.031541581982859\t -5.941354841974341\t -1.220511440438462\n",
            "19 \t [-1.56507992  3.4636285 ]\t -53.36175559672206\t -5.941354841974341\t -1.0127485430912282\n",
            "20 \t [-1.29283482 -0.66043089]\t -30.101996451610056\t -5.941354841974341\t -0.9923457662612878\n"
          ]
        }
      ]
    },
    {
      "cell_type": "code",
      "metadata": {
        "id": "k6GjFBr1JTJf",
        "colab": {
          "base_uri": "https://localhost:8080/"
        },
        "outputId": "23af7072-9696-44c9-b5d8-a8607c8414fe"
      },
      "source": [
        "### EXACT GP EI GRADIENTS\n",
        "\n",
        "np.random.seed(run_num_14)\n",
        "surrogate_exact_14 = dGaussianProcess(cov_func, optimize=opt)\n",
        "\n",
        "exact_14 = dGPGO(surrogate_exact_14, Acquisition_new(util_grad_exact), objfunc, param)\n",
        "exact_14.run(init_evals=n_init, max_iter=iters)\n"
      ],
      "execution_count": 47,
      "outputs": [
        {
          "output_type": "stream",
          "name": "stdout",
          "text": [
            "Evaluation \t Proposed point \t  Current eval. \t  Best eval. \t         Max AcqFunc.\n",
            "init\t [0.14277984 2.79721013]\t -18.683085263052178\t -10.423838604848608\t    \n",
            "init\t [ 3.7931795  -5.03759925]\t -47.36348784446708\t -10.423838604848608\t    \n",
            "init\t [-1.94830412  4.68586229]\t -40.19779334078636\t -10.423838604848608\t    \n",
            "init\t [ 0.13431513 -1.86076749]\t -10.423838604848608\t -10.423838604848608\t    \n",
            "init\t [ 0.40140736 -2.85434939]\t -30.353548735049138\t -10.423838604848608\t    \n",
            "1  \t [-5.12 -5.12]\t -57.849427451571785\t -10.423838604848608\t -10.423838349238634\n",
            "2  \t [5.12 5.12]\t -57.849427451571785\t -10.423838604848608\t -10.423836054052794\n",
            "3  \t [-5.12       0.3554545]\t -45.20267174597589\t -10.423838604848608\t -10.423818065806698\n",
            "4  \t [ 5.12       -0.06050559]\t -29.64235096159109\t -10.423838604848608\t -10.423748898324018\n",
            "5  \t [-1.59760721 -0.03747418]\t -21.007297417913293\t -10.423838604848608\t -10.272278532852788\n",
            "6  \t [1.79491608 0.4967805 ]\t -30.681621476903537\t -10.423838604848608\t -10.149596289393548\n",
            "7  \t [1.87787595 5.12      ]\t -35.2534502651111\t -10.423838604848608\t -10.126031032239093\n",
            "8  \t [-1.84751481 -5.07969837]\t -34.69365150738844\t -10.423838604848608\t -10.186162059039756\n",
            "9  \t [-5.06303497  3.61466724]\t -56.98918336534741\t -10.423838604848608\t -10.224281600702716\n",
            "10 \t [-3.03052822 -2.48250516]\t -35.46997890891047\t -10.423838604848608\t -9.755645639986806\n",
            "11 \t [ 3.51567076 -2.24145855]\t -46.79922511829074\t -10.423838604848608\t -9.40833259500993\n",
            "12 \t [4.16303795 2.34249801]\t -43.11216909525142\t -10.423838604848608\t -9.329437438443811\n",
            "13 \t [ 0.96698163 -5.11378773]\t -29.749042993026592\t -10.423838604848608\t -8.664142939433956\n",
            "14 \t [-2.38931098  1.93052581]\t -28.050913877098253\t -10.423838604848608\t -8.338402807709482\n",
            "15 \t [-5.12       -2.27919076]\t -45.94326795972898\t -10.423838604848608\t -7.289782760504031\n",
            "16 \t [-0.03425382 -0.58284916]\t -19.24702356869264\t -10.423838604848608\t -5.085538747405402\n",
            "17 \t [1.74001513 3.0141411 ]\t -22.77910209948601\t -10.423838604848608\t -4.6525343921246884\n",
            "18 \t [ 5.12       -2.57733492]\t -54.40987413939273\t -10.423838604848608\t -3.417227837253149\n",
            "19 \t [-0.27612864  1.40547877]\t -31.973640394746\t -10.423838604848608\t -2.9197096245238257\n",
            "20 \t [0.11699165 5.12      ]\t -31.520631010352062\t -10.423838604848608\t -4.060919148148465\n"
          ]
        }
      ]
    },
    {
      "cell_type": "code",
      "metadata": {
        "id": "dPS8WB3aJTN6",
        "colab": {
          "base_uri": "https://localhost:8080/"
        },
        "outputId": "e9ece931-76d0-45cb-d188-ca627a82a86c"
      },
      "source": [
        "### EXACT GP EI GRADIENTS\n",
        "\n",
        "np.random.seed(run_num_15)\n",
        "surrogate_exact_15 = dGaussianProcess(cov_func, optimize=opt)\n",
        "\n",
        "exact_15 = dGPGO(surrogate_exact_15, Acquisition_new(util_grad_exact), objfunc, param)\n",
        "exact_15.run(init_evals=n_init, max_iter=iters)\n"
      ],
      "execution_count": 48,
      "outputs": [
        {
          "output_type": "stream",
          "name": "stdout",
          "text": [
            "Evaluation \t Proposed point \t  Current eval. \t  Best eval. \t         Max AcqFunc.\n",
            "init\t [ 3.57189322 -3.28810573]\t -54.938487770767075\t -7.990765314336182\t    \n",
            "init\t [-4.56332069 -1.41784631]\t -60.750198753157726\t -7.990765314336182\t    \n",
            "init\t [-2.29989449  0.3072023 ]\t -31.984997246800887\t -7.990765314336182\t    \n",
            "init\t [-1.9873903  -2.00218256]\t -7.990765314336182\t -7.990765314336182\t    \n",
            "init\t [-3.97576933 -2.5610341 ]\t -41.754957769694336\t -7.990765314336182\t    \n",
            "1  \t [5.12 5.12]\t -57.849427451571785\t -7.990765314336182\t -7.990779890199916\n",
            "2  \t [-0.35157246  5.12      ]\t -45.005812766692976\t -7.990765314336182\t -7.990748857348481\n",
            "3  \t [2.59308841 1.16950306]\t -31.584688947189136\t -7.990765314336182\t -7.989281592406023\n",
            "4  \t [-5.04628403  4.05419228]\t -42.89546382913226\t -7.990765314336182\t -7.990241474878395\n",
            "5  \t [-1.61688397 -5.12      ]\t -48.96133288911423\t -7.990765314336182\t -7.939861236753102\n",
            "6  \t [ 0.44121736 -1.25803038]\t -31.607312983087798\t -7.990765314336182\t -7.689815766380155\n",
            "7  \t [-5.12 -5.12]\t -57.849427451571785\t -7.990765314336182\t -7.622145611010176\n",
            "8  \t [ 1.2456693 -5.12     ]\t -40.20433313144186\t -7.990765314336182\t -7.235518880001323\n",
            "9  \t [5.12       2.17724979]\t -39.251626151569496\t -7.990765314336182\t -7.2206711632533995\n",
            "10 \t [ 5.12       -0.68442226]\t -43.39791518470368\t -7.990765314336182\t -7.277545527964248\n",
            "11 \t [-0.38004684  2.30015163]\t -35.826063182224324\t -7.990765314336182\t -7.111290141041836\n",
            "12 \t [2.33574772 5.12      ]\t -49.51122710285044\t -7.990765314336182\t -6.770571148763217\n",
            "13 \t [-5.12        1.30392631]\t -43.948766474177724\t -7.990765314336182\t -6.753356512290625\n",
            "14 \t [-2.73026125  4.84418965]\t -46.57889543636715\t -7.990765314336182\t -5.632183986689926\n",
            "15 \t [-0.07680533 -3.24805925]\t -21.575854048238497\t -7.990765314336182\t -3.2569959478399992\n",
            "16 \t [-3.11619201  2.63209789]\t -35.9360112755717\t -7.990765314336182\t -2.7870050348410906\n",
            "17 \t [ 2.52174401 -0.97887479]\t -27.312168210194933\t -7.990765314336182\t -3.033116799379814\n",
            "18 \t [2.29784905 2.9360215 ]\t -27.658843488657478\t -7.990765314336182\t -2.1750525980870115\n",
            "19 \t [-1.91582211 -1.51531788]\t -27.286683075972906\t -7.990765314336182\t -1.260726883153425\n",
            "20 \t [0.40275477 0.56899058]\t -37.75174557442823\t -7.990765314336182\t -1.076732005000067\n"
          ]
        }
      ]
    },
    {
      "cell_type": "code",
      "metadata": {
        "id": "SHWdp2giJTRm",
        "colab": {
          "base_uri": "https://localhost:8080/"
        },
        "outputId": "6f8a8dea-9c55-46c5-b914-e6e8cc8b3166"
      },
      "source": [
        "### EXACT GP EI GRADIENTS\n",
        "\n",
        "np.random.seed(run_num_16)\n",
        "surrogate_exact_16 = dGaussianProcess(cov_func, optimize=opt)\n",
        "\n",
        "exact_16 = dGPGO(surrogate_exact_16, Acquisition_new(util_grad_exact), objfunc, param)\n",
        "exact_16.run(init_evals=n_init, max_iter=iters)\n"
      ],
      "execution_count": 49,
      "outputs": [
        {
          "output_type": "stream",
          "name": "stdout",
          "text": [
            "Evaluation \t Proposed point \t  Current eval. \t  Best eval. \t         Max AcqFunc.\n",
            "init\t [-2.83349935  0.23719262]\t -22.27210456874814\t -22.27210456874814\t    \n",
            "init\t [ 0.51918292 -4.65303603]\t -57.57021076017139\t -22.27210456874814\t    \n",
            "init\t [-1.42613673 -2.83565116]\t -33.89145899403749\t -22.27210456874814\t    \n",
            "init\t [ 1.9325559  -3.44339021]\t -35.85029586225333\t -22.27210456874814\t    \n",
            "init\t [-4.39987336  4.51595121]\t -77.78800881964571\t -22.27210456874814\t    \n",
            "1  \t [5.12 5.12]\t -57.849427451571785\t -22.27210456874814\t -22.27210455874814\n",
            "2  \t [5.12     0.135655]\t -32.36092416035443\t -22.27210456874814\t -22.271828627969274\n",
            "3  \t [0.43755248 3.98750253]\t -35.362499449628345\t -22.27210456874814\t -22.271513294204595\n",
            "4  \t [-5.12 -5.12]\t -57.849427451571785\t -22.27210456874814\t -22.270777410718544\n",
            "5  \t [0.82489184 0.43273641]\t -25.45399405097639\t -22.27210456874814\t -22.216551594464626\n",
            "6  \t [ 5.12       -3.28421464]\t -51.84402802347754\t -22.27210456874814\t -22.12998306279858\n",
            "7  \t [3.32293585 2.36707067]\t -47.77904299747091\t -22.27210456874814\t -21.715278113338293\n",
            "8  \t [-5.12       -1.66515995]\t -46.77923253499253\t -22.27210456874814\t -22.05589442953871\n",
            "9  \t [-1.71195722  2.41151709]\t -39.60778461421753\t -22.27210456874814\t -21.031239416076243\n",
            "10 \t [ 2.65571287 -0.87624494]\t -26.278185956203046\t -22.27210456874814\t -20.205793305811024\n",
            "11 \t [-2.57560446 -5.11762436]\t -54.325526472969386\t -22.27210456874814\t -20.30061528307897\n",
            "12 \t [-4.89116878  1.40739184]\t -46.50688984115988\t -22.27210456874814\t -21.08494488671972\n",
            "13 \t [2.51477901 4.99994776]\t -51.2805083697396\t -22.27210456874814\t -19.576113183092158\n",
            "\u001b[1m\u001b[92m14\u001b[0m\t \u001b[1m\u001b[92m[-0.56751952 -0.91766733]\u001b[0m\t \u001b[1m\u001b[92m-21.58620021652571\u001b[0m\t \u001b[1m\u001b[92m-21.58620021652571\u001b[0m\t \u001b[1m\u001b[92m-18.135850425562126\u001b[0m\n",
            "15 \t [-3.13401707 -2.2141628 ]\t -25.832523313208423\t -21.58620021652571\t -14.839128443483638\n",
            "\u001b[1m\u001b[92m16\u001b[0m\t \u001b[1m\u001b[92m[0.86257725 2.04238562]\u001b[0m\t \u001b[1m\u001b[92m-8.76973987442613\u001b[0m\t \u001b[1m\u001b[92m-8.76973987442613\u001b[0m\t \u001b[1m\u001b[92m-14.309813797033906\u001b[0m\n",
            "17 \t [-0.95999727  4.43647875]\t -40.13219927431472\t -8.76973987442613\t -1.4863080192893252\n",
            "18 \t [5.04429792 2.68535401]\t -46.99197259634724\t -8.76973987442613\t -1.8280250188461955\n",
            "\u001b[1m\u001b[92m19\u001b[0m\t \u001b[1m\u001b[92m[ 0.95732027 -1.91035677]\u001b[0m\t \u001b[1m\u001b[92m-6.468067378794288\u001b[0m\t \u001b[1m\u001b[92m-6.468067378794288\u001b[0m\t \u001b[1m\u001b[92m-1.143031064770948\u001b[0m\n",
            "20 \t [ 3.39634706 -4.62439904]\t -67.97109901429685\t -6.468067378794288\t -1.4154265635960002\n"
          ]
        }
      ]
    },
    {
      "cell_type": "code",
      "metadata": {
        "id": "yU2SflSsJTUs",
        "colab": {
          "base_uri": "https://localhost:8080/"
        },
        "outputId": "5764b69a-c2bf-4190-c819-6c687cbab853"
      },
      "source": [
        "### EXACT GP EI GRADIENTS\n",
        "\n",
        "np.random.seed(run_num_17)\n",
        "surrogate_exact_17 = dGaussianProcess(cov_func, optimize=opt)\n",
        "\n",
        "exact_17 = dGPGO(surrogate_exact_17, Acquisition_new(util_grad_exact), objfunc, param)\n",
        "exact_17.run(init_evals=n_init, max_iter=iters)\n"
      ],
      "execution_count": 50,
      "outputs": [
        {
          "output_type": "stream",
          "name": "stdout",
          "text": [
            "Evaluation \t Proposed point \t  Current eval. \t  Best eval. \t         Max AcqFunc.\n",
            "init\t [-2.10263037  0.31320838]\t -20.395145364684023\t -20.395145364684023\t    \n",
            "init\t [-3.15882714 -4.42470033]\t -53.03732051200137\t -20.395145364684023\t    \n",
            "init\t [2.93873111 1.60085526]\t -29.989224812583537\t -20.395145364684023\t    \n",
            "init\t [1.40821398 0.77417363]\t -29.451989415882437\t -20.395145364684023\t    \n",
            "init\t [-4.71999574 -1.45598869]\t -55.89242173757483\t -20.395145364684023\t    \n",
            "1  \t [ 4.96008736 -4.44720822]\t -64.14783177084814\t -20.395145364684023\t -20.395145305707423\n",
            "2  \t [-1.51638461  5.12      ]\t -51.17119182678712\t -20.395145364684023\t -20.39504778016532\n",
            "3  \t [5.12 5.12]\t -57.849427451571785\t -20.395145364684023\t -20.392578904491298\n",
            "4  \t [ 0.84045277 -5.12      ]\t -34.24880863486494\t -20.395145364684023\t -20.382873056610034\n",
            "5  \t [ 5.12       -0.71699151]\t -41.49793838029413\t -20.395145364684023\t -20.275127860986647\n",
            "6  \t [-4.62723796  2.47167833]\t -64.33355300363587\t -20.395145364684023\t -20.336103759853042\n",
            "7  \t [1.79768893 5.08864246]\t -37.6855446670606\t -20.395145364684023\t -20.156676607971143\n",
            "\u001b[1m\u001b[92m8\u001b[0m\t \u001b[1m\u001b[92m[ 0.03574683 -2.1119669 ]\u001b[0m\t \u001b[1m\u001b[92m-7.087087482637973\u001b[0m\t \u001b[1m\u001b[92m-7.087087482637973\u001b[0m\t \u001b[1m\u001b[92m-20.115303989707876\u001b[0m\n",
            "9  \t [-0.28416496  2.3784656 ]\t -35.09139964234975\t -7.087087482637973\t -5.5982861033217866\n",
            "10 \t [ 2.44600398 -2.36091836]\t -47.40545321518014\t -7.087087482637973\t -6.438550359309553\n",
            "11 \t [-1.32205218 -2.30059461]\t -34.540343805350155\t -7.087087482637973\t -5.136522784025782\n",
            "12 \t [3.93980815 3.14996969]\t -30.271683467778434\t -7.087087482637973\t -2.362908686261898\n",
            "13 \t [ 0.2051792  -0.83369043]\t -12.938622986468797\t -7.087087482637973\t -2.8436221046237327\n",
            "14 \t [5.12       2.19365077]\t -40.26979797473886\t -7.087087482637973\t -1.6656487275976708\n",
            "15 \t [-5.12 -5.12]\t -57.849427451571785\t -7.087087482637973\t -4.052831856121648\n",
            "16 \t [-3.59631837  4.43651874]\t -70.05519238755448\t -7.087087482637973\t -2.18282886732298\n",
            "17 \t [ 2.70580749 -5.09279351]\t -47.65115926610733\t -7.087087482637973\t -1.764986607791103\n",
            "18 \t [-1.13738561 -5.12      ]\t -33.71841547352999\t -7.087087482637973\t -2.245855803563372\n",
            "19 \t [-2.25090078  2.01396246]\t -19.217653372995052\t -7.087087482637973\t -0.8298617808473717\n",
            "20 \t [ 0.36609594 -2.76295723]\t -33.619344813692436\t -7.087087482637973\t -0.8707731877362567\n"
          ]
        }
      ]
    },
    {
      "cell_type": "code",
      "metadata": {
        "id": "es0KCh_0JTgY",
        "colab": {
          "base_uri": "https://localhost:8080/"
        },
        "outputId": "a1a08668-d758-4e15-a05d-3528ae3b8e47"
      },
      "source": [
        "### EXACT GP EI GRADIENTS\n",
        "\n",
        "np.random.seed(run_num_18)\n",
        "surrogate_exact_18 = dGaussianProcess(cov_func, optimize=opt)\n",
        "\n",
        "exact_18 = dGPGO(surrogate_exact_18, Acquisition_new(util_grad_exact), objfunc, param)\n",
        "exact_18.run(init_evals=n_init, max_iter=iters)\n"
      ],
      "execution_count": 51,
      "outputs": [
        {
          "output_type": "stream",
          "name": "stdout",
          "text": [
            "Evaluation \t Proposed point \t  Current eval. \t  Best eval. \t         Max AcqFunc.\n",
            "init\t [1.53983224 0.05584255]\t -22.67190580753611\t -22.67190580753611\t    \n",
            "init\t [ 3.87687906 -3.25795609]\t -38.990099416711985\t -22.67190580753611\t    \n",
            "init\t [3.60686662 2.56139557]\t -56.66448698782129\t -22.67190580753611\t    \n",
            "init\t [1.70088108 4.99604939]\t -40.894059318256296\t -22.67190580753611\t    \n",
            "init\t [-2.48864335 -4.83014733]\t -54.6725749848372\t -22.67190580753611\t    \n",
            "1  \t [-5.00718904  2.9174042 ]\t -34.91005808676357\t -22.67190580753611\t -22.671905797046726\n",
            "2  \t [-2.5172874  -0.57162906]\t -45.60877814255882\t -22.67190580753611\t -22.66450117022293\n",
            "\u001b[1m\u001b[92m3\u001b[0m\t \u001b[1m\u001b[92m[-1.16270398  2.84418166]\u001b[0m\t \u001b[1m\u001b[92m-18.64896345126307\u001b[0m\t \u001b[1m\u001b[92m-18.64896345126307\u001b[0m\t \u001b[1m\u001b[92m-22.594935781672323\u001b[0m\n",
            "4  \t [ 0.94316799 -5.09984298]\t -29.43280579581087\t -18.64896345126307\t -18.52757528971427\n",
            "5  \t [-5.12       -3.24013922]\t -48.80404132120228\t -18.64896345126307\t -18.38501185430478\n",
            "6  \t [5.12 5.12]\t -57.849427451571785\t -18.64896345126307\t -18.250350680487564\n",
            "7  \t [ 5.0674446 -0.0834171]\t -27.912867477339134\t -18.64896345126307\t -18.272466884175007\n",
            "\u001b[1m\u001b[92m8\u001b[0m\t \u001b[1m\u001b[92m[-0.25335679 -2.14069554]\u001b[0m\t \u001b[1m\u001b[92m-18.517158783097425\u001b[0m\t \u001b[1m\u001b[92m-18.517158783097425\u001b[0m\t \u001b[1m\u001b[92m-17.782037879271456\u001b[0m\n",
            "9  \t [-2.05931647  4.63332738]\t -43.086601890136585\t -18.517158783097425\t -17.195414901662875\n",
            "\u001b[1m\u001b[92m10\u001b[0m\t \u001b[1m\u001b[92m[-3.06190771  1.84446368]\u001b[0m\t \u001b[1m\u001b[92m-17.931421372299255\u001b[0m\t \u001b[1m\u001b[92m-17.931421372299255\u001b[0m\t \u001b[1m\u001b[92m-14.937640123728254\u001b[0m\n",
            "\u001b[1m\u001b[92m11\u001b[0m\t \u001b[1m\u001b[92m[1.11479303 1.78314352]\u001b[0m\t \u001b[1m\u001b[92m-14.845210391160803\u001b[0m\t \u001b[1m\u001b[92m-14.845210391160803\u001b[0m\t \u001b[1m\u001b[92m-14.284847535884872\u001b[0m\n",
            "12 \t [ 1.71784862 -2.11999715]\t -22.162001901858353\t -14.845210391160803\t -11.475682435853674\n",
            "13 \t [-4.80195874 -0.59143393]\t -48.596282216849595\t -14.845210391160803\t -12.38002267208129\n",
            "14 \t [-0.53176123  0.77156943]\t -29.32852248948683\t -14.845210391160803\t -10.818323090939172\n",
            "15 \t [-4.93311462  4.65004427]\t -62.70427715056073\t -14.845210391160803\t -10.681179392871035\n",
            "16 \t [-5.12 -5.12]\t -57.849427451571785\t -14.845210391160803\t -9.935715162816038\n",
            "17 \t [ 2.72046965 -5.12      ]\t -48.17048769912702\t -14.845210391160803\t -10.034824912203804\n",
            "18 \t [ 3.33245696 -0.83504526]\t -31.66194607912049\t -14.845210391160803\t -9.171454906149892\n",
            "19 \t [0.58080222 3.11675777]\t -31.36256619468427\t -14.845210391160803\t -8.886451127227598\n",
            "20 \t [-2.26239844 -2.63451558]\t -39.47326750389065\t -14.845210391160803\t -8.62824489445915\n"
          ]
        }
      ]
    },
    {
      "cell_type": "code",
      "metadata": {
        "id": "Pput2LHPIwBM",
        "colab": {
          "base_uri": "https://localhost:8080/"
        },
        "outputId": "066352c8-7d96-4a2d-c29f-69711c7449d3"
      },
      "source": [
        "### EXACT GP EI GRADIENTS\n",
        "\n",
        "np.random.seed(run_num_19)\n",
        "surrogate_exact_19 = dGaussianProcess(cov_func, optimize=opt)\n",
        "\n",
        "exact_19 = dGPGO(surrogate_exact_19, Acquisition_new(util_grad_exact), objfunc, param)\n",
        "exact_19.run(init_evals=n_init, max_iter=iters)\n"
      ],
      "execution_count": 52,
      "outputs": [
        {
          "output_type": "stream",
          "name": "stdout",
          "text": [
            "Evaluation \t Proposed point \t  Current eval. \t  Best eval. \t         Max AcqFunc.\n",
            "init\t [-4.12125592  2.6751971 ]\t -41.43485596167127\t -25.867003842388073\t    \n",
            "init\t [-2.59135515 -3.70553152]\t -51.60126035043229\t -25.867003842388073\t    \n",
            "init\t [-1.72598719 -4.27008445]\t -43.97430127029199\t -25.867003842388073\t    \n",
            "init\t [1.76104531 3.13952049]\t -25.867003842388073\t -25.867003842388073\t    \n",
            "init\t [4.9432772  1.38916592]\t -44.66580306903559\t -25.867003842388073\t    \n",
            "1  \t [ 4.82659077 -3.73107955]\t -53.77420826130772\t -25.867003842388073\t -25.866958859664855\n",
            "\u001b[1m\u001b[92m2\u001b[0m\t \u001b[1m\u001b[92m[-0.85223298  0.10979632]\u001b[0m\t \u001b[1m\u001b[92m-7.034295421249853\u001b[0m\t \u001b[1m\u001b[92m-7.034295421249853\u001b[0m\t \u001b[1m\u001b[92m-25.855043552960773\u001b[0m\n",
            "3  \t [5.12 5.12]\t -57.849427451571785\t -7.034295421249853\t -7.007093301406828\n",
            "4  \t [-5.11255451 -1.1055489 ]\t -31.87825221324293\t -7.034295421249853\t -6.993867956507509\n",
            "5  \t [ 1.56245442 -1.92118448]\t -26.573427226374246\t -7.034295421249853\t -6.979243991490397\n",
            "6  \t [-0.99816082  5.12      ]\t -29.921706441277976\t -7.034295421249853\t -6.98608577612897\n",
            "7  \t [-5.12 -5.12]\t -57.849427451571785\t -7.034295421249853\t -6.676641645452063\n",
            "8  \t [ 1.0622837 -4.8155417]\t -31.071208079848283\t -7.034295421249853\t -6.550907641426468\n",
            "9  \t [1.68385177 0.62377718]\t -34.38722872910704\t -7.034295421249853\t -5.77645925756878\n",
            "10 \t [-2.40317684 -0.59527481]\t -42.59657583625126\t -7.034295421249853\t -5.731312105875655\n",
            "11 \t [ 4.37918599 -1.12402395]\t -40.580979665513624\t -7.034295421249853\t -5.1443337800806725\n",
            "12 \t [-1.23054569  2.36150354]\t -32.3183779765921\t -7.034295421249853\t -6.064823223724002\n",
            "13 \t [2.22723814 5.12      ]\t -42.46000413259053\t -7.034295421249853\t -4.940545421621912\n",
            "14 \t [-0.25945523 -0.50723634]\t -30.908011605041025\t -7.034295421249853\t -2.532896977757508\n",
            "15 \t [-3.22506538  5.02925336]\t -44.30259392993066\t -7.034295421249853\t -4.887277456079367\n",
            "16 \t [3.75691314 3.0015309 ]\t -32.68981758670726\t -7.034295421249853\t -1.115456553795009\n",
            "17 \t [ 2.74464821 -4.40396173]\t -55.49813355529702\t -7.034295421249853\t -1.3150549059603334\n",
            "18 \t [-4.77840417 -2.96121721]\t -40.12215840940467\t -7.034295421249853\t -0.8754616609854692\n",
            "19 \t [-0.67819963 -2.29054675]\t -32.58659041821047\t -7.034295421249853\t -0.7254335211559371\n",
            "20 \t [0.20571735 3.70530046]\t -33.79674809972096\t -7.034295421249853\t -0.2806457823658922\n"
          ]
        }
      ]
    },
    {
      "cell_type": "code",
      "metadata": {
        "id": "aw3xvSryIwDi",
        "colab": {
          "base_uri": "https://localhost:8080/"
        },
        "outputId": "edc2bab0-7ef8-4ad7-eefa-a74e83df9400"
      },
      "source": [
        "### EXACT GP EI GRADIENTS\n",
        "\n",
        "np.random.seed(run_num_20)\n",
        "surrogate_exact_20 = dGaussianProcess(cov_func, optimize=opt)\n",
        "\n",
        "exact_20 = dGPGO(surrogate_exact_20, Acquisition_new(util_grad_exact), objfunc, param)\n",
        "exact_20.run(init_evals=n_init, max_iter=iters)\n"
      ],
      "execution_count": 53,
      "outputs": [
        {
          "output_type": "stream",
          "name": "stdout",
          "text": [
            "Evaluation \t Proposed point \t  Current eval. \t  Best eval. \t         Max AcqFunc.\n",
            "init\t [0.9024594  4.07258857]\t -20.24255447774017\t -17.388691338534382\t    \n",
            "init\t [4.00927467 3.23417577]\t -35.55852254546393\t -17.388691338534382\t    \n",
            "init\t [-4.75249064  1.96359764]\t -36.54582989269194\t -17.388691338534382\t    \n",
            "init\t [-1.24230715  0.18955208]\t -17.388691338534382\t -17.388691338534382\t    \n",
            "init\t [ 1.61742301 -3.13497377]\t -33.22932870179905\t -17.388691338534382\t    \n",
            "1  \t [-5.12 -5.12]\t -57.849427451571785\t -17.388691338534382\t -17.388691324429224\n",
            "2  \t [ 5.12       -0.90774061]\t -31.382342682975256\t -17.388691338534382\t -17.383872698790483\n",
            "3  \t [-2.32334252  4.6958363 ]\t -55.23356041730585\t -17.388691338534382\t -17.320008093204432\n",
            "4  \t [-1.42211353 -5.12      ]\t -49.77338827837845\t -17.388691338534382\t -17.33480809013927\n",
            "5  \t [-5.12       -1.50067346]\t -51.17664504423531\t -17.388691338534382\t -17.303898653450858\n",
            "6  \t [ 4.69062041 -4.43553031]\t -74.51155070056905\t -17.388691338534382\t -17.29694086700278\n",
            "7  \t [ 2.29239594 -0.05852186]\t -18.559374477490238\t -17.388691338534382\t -17.03722858881737\n",
            "8  \t [-2.42559783 -1.87740665]\t -31.158056009228396\t -17.388691338534382\t -16.163496760768655\n",
            "9  \t [5.12 5.12]\t -57.849427451571785\t -17.388691338534382\t -15.770016386901304\n",
            "\u001b[1m\u001b[92m10\u001b[0m\t \u001b[1m\u001b[92m[0.18139001 1.90444121]\u001b[0m\t \u001b[1m\u001b[92m-11.23017165756345\u001b[0m\t \u001b[1m\u001b[92m-11.23017165756345\u001b[0m\t \u001b[1m\u001b[92m-15.793325046131288\u001b[0m\n",
            "11 \t [-2.15244084  2.00602785]\t -12.911227135195427\t -11.23017165756345\t -8.52515962900485\n",
            "12 \t [-4.45972891  4.76447717]\t -71.36263247821208\t -11.23017165756345\t -8.076561843175897\n",
            "\u001b[1m\u001b[92m13\u001b[0m\t \u001b[1m\u001b[92m[ 0.15341581 -1.06922862]\u001b[0m\t \u001b[1m\u001b[92m-6.395106375361616\u001b[0m\t \u001b[1m\u001b[92m-6.395106375361616\u001b[0m\t \u001b[1m\u001b[92m-8.239136883495364\u001b[0m\n",
            "14 \t [2.72519987 5.11567279]\t -47.6756742008929\t -6.395106375361616\t -2.5810107227782177\n",
            "15 \t [ 1.43903964 -5.12      ]\t -50.270931474158076\t -6.395106375361616\t -3.6020607659011272\n",
            "16 \t [1.7791486  2.07541448]\t -16.75326382883663\t -6.395106375361616\t -2.7431514062128834\n",
            "17 \t [5.12       1.62936311]\t -48.45412530443218\t -6.395106375361616\t -3.371251269592969\n",
            "18 \t [ 2.99277789 -1.58227928]\t -30.16379904190219\t -6.395106375361616\t -1.4431586740056515\n",
            "19 \t [-0.32178688 -2.62366949]\t -38.47623125395933\t -6.395106375361616\t -2.0398903087363367\n",
            "20 \t [ 0.52995263 -0.31805349]\t -34.352251714745286\t -6.395106375361616\t -2.2359556637441123\n"
          ]
        }
      ]
    },
    {
      "cell_type": "code",
      "metadata": {
        "id": "qNqAB3vBTPqb",
        "colab": {
          "base_uri": "https://localhost:8080/"
        },
        "outputId": "0def0e27-f4da-4860-8ff7-046b966ee9df"
      },
      "source": [
        "end_exact = time.time()\n",
        "end_exact\n",
        "\n",
        "time_exact = end_exact - start_exact\n",
        "time_exact"
      ],
      "execution_count": 54,
      "outputs": [
        {
          "output_type": "execute_result",
          "data": {
            "text/plain": [
              "472.3041877746582"
            ]
          },
          "metadata": {},
          "execution_count": 54
        }
      ]
    },
    {
      "cell_type": "code",
      "metadata": {
        "id": "JPQzjdBZQxfg",
        "colab": {
          "base_uri": "https://localhost:8080/"
        },
        "outputId": "6e21f2e9-c98f-4fec-be1b-a68595f04e7b"
      },
      "source": [
        "### Simple regret minimization: run number = 1\n",
        "\n",
        "approx_output_1 = np.append(np.min(approx_1.GP.y[0:n_init]),approx_1.GP.y[n_init:(n_init+iters)]) \n",
        "exact_output_1 = np.append(np.min(exact_1.GP.y[0:n_init]),exact_1.GP.y[n_init:(n_init+iters)]) \n",
        "\n",
        "regret_approx_1 = np.log(-approx_output_1 + y_global_orig)\n",
        "regret_exact_1 = np.log(-exact_output_1 + y_global_orig)\n",
        "\n",
        "simple_regret_approx_1 = min_max_array(regret_approx_1)\n",
        "simple_regret_exact_1 = min_max_array(regret_exact_1)\n",
        "\n",
        "min_simple_regret_approx_1 = min(simple_regret_approx_1)\n",
        "min_simple_regret_exact_1 = min(simple_regret_exact_1)\n",
        "\n",
        "min_simple_regret_approx_1, min_simple_regret_exact_1"
      ],
      "execution_count": 55,
      "outputs": [
        {
          "output_type": "execute_result",
          "data": {
            "text/plain": [
              "(2.428414627891885, 3.23413294979696)"
            ]
          },
          "metadata": {},
          "execution_count": 55
        }
      ]
    },
    {
      "cell_type": "code",
      "metadata": {
        "id": "94yBw5tqQxfk",
        "colab": {
          "base_uri": "https://localhost:8080/"
        },
        "outputId": "c22a865f-c057-457f-8fb2-75567b8d7a4d"
      },
      "source": [
        "### Simple regret minimization: run number = 2\n",
        "\n",
        "approx_output_2 = np.append(np.min(approx_2.GP.y[0:n_init]),approx_2.GP.y[n_init:(n_init+iters)]) \n",
        "exact_output_2 = np.append(np.min(exact_2.GP.y[0:n_init]),exact_2.GP.y[n_init:(n_init+iters)]) \n",
        "\n",
        "regret_approx_2 = np.log(-approx_output_2 + y_global_orig)\n",
        "regret_exact_2 = np.log(-exact_output_2 + y_global_orig)\n",
        "\n",
        "simple_regret_approx_2 = min_max_array(regret_approx_2)\n",
        "simple_regret_exact_2 = min_max_array(regret_exact_2)\n",
        "\n",
        "min_simple_regret_approx_2 = min(simple_regret_approx_2)\n",
        "min_simple_regret_exact_2 = min(simple_regret_exact_2)\n",
        "\n",
        "min_simple_regret_approx_2, min_simple_regret_exact_2"
      ],
      "execution_count": 56,
      "outputs": [
        {
          "output_type": "execute_result",
          "data": {
            "text/plain": [
              "(2.795905840284589, 3.061941887989604)"
            ]
          },
          "metadata": {},
          "execution_count": 56
        }
      ]
    },
    {
      "cell_type": "code",
      "metadata": {
        "id": "Bu6SBWALQxfl",
        "colab": {
          "base_uri": "https://localhost:8080/"
        },
        "outputId": "719e9126-56ec-4692-9593-1ce1c8c1bcfb"
      },
      "source": [
        "### Simple regret minimization: run number = 3\n",
        "\n",
        "approx_output_3 = np.append(np.min(approx_3.GP.y[0:n_init]),approx_3.GP.y[n_init:(n_init+iters)]) \n",
        "exact_output_3 = np.append(np.min(exact_3.GP.y[0:n_init]),exact_3.GP.y[n_init:(n_init+iters)]) \n",
        "\n",
        "regret_approx_3 = np.log(-approx_output_3 + y_global_orig)\n",
        "regret_exact_3 = np.log(-exact_output_3 + y_global_orig)\n",
        "\n",
        "simple_regret_approx_3 = min_max_array(regret_approx_3)\n",
        "simple_regret_exact_3 = min_max_array(regret_exact_3)\n",
        "\n",
        "min_simple_regret_approx_3 = min(simple_regret_approx_3)\n",
        "min_simple_regret_exact_3 = min(simple_regret_exact_3)\n",
        "\n",
        "min_simple_regret_approx_3, min_simple_regret_exact_3"
      ],
      "execution_count": 57,
      "outputs": [
        {
          "output_type": "execute_result",
          "data": {
            "text/plain": [
              "(2.8069639048545, 2.5915918324197245)"
            ]
          },
          "metadata": {},
          "execution_count": 57
        }
      ]
    },
    {
      "cell_type": "code",
      "metadata": {
        "id": "AZm0jgxkQxfm",
        "colab": {
          "base_uri": "https://localhost:8080/"
        },
        "outputId": "8cda023b-bc7e-440e-e7b8-1ee3916992e9"
      },
      "source": [
        "### Simple regret minimization: run number = 4\n",
        "\n",
        "approx_output_4 = np.append(np.min(approx_4.GP.y[0:n_init]),approx_4.GP.y[n_init:(n_init+iters)]) \n",
        "exact_output_4 = np.append(np.min(exact_4.GP.y[0:n_init]),exact_4.GP.y[n_init:(n_init+iters)]) \n",
        "\n",
        "regret_approx_4 = np.log(-approx_output_4 + y_global_orig)\n",
        "regret_exact_4 = np.log(-exact_output_4 + y_global_orig)\n",
        "\n",
        "simple_regret_approx_4 = min_max_array(regret_approx_4)\n",
        "simple_regret_exact_4 = min_max_array(regret_exact_4)\n",
        "\n",
        "min_simple_regret_approx_4 = min(simple_regret_approx_4)\n",
        "min_simple_regret_exact_4 = min(simple_regret_exact_4)\n",
        "\n",
        "min_simple_regret_approx_4, min_simple_regret_exact_4"
      ],
      "execution_count": 58,
      "outputs": [
        {
          "output_type": "execute_result",
          "data": {
            "text/plain": [
              "(2.287179444120714, 2.6488079738442334)"
            ]
          },
          "metadata": {},
          "execution_count": 58
        }
      ]
    },
    {
      "cell_type": "code",
      "metadata": {
        "id": "NONPm8JIQxfn",
        "colab": {
          "base_uri": "https://localhost:8080/"
        },
        "outputId": "9d119fe7-f27e-478f-c8c2-705cfb93b827"
      },
      "source": [
        "### Simple regret minimization: run number = 5\n",
        "\n",
        "approx_output_5 = np.append(np.min(approx_5.GP.y[0:n_init]),approx_5.GP.y[n_init:(n_init+iters)]) \n",
        "exact_output_5 = np.append(np.min(exact_5.GP.y[0:n_init]),exact_5.GP.y[n_init:(n_init+iters)]) \n",
        "\n",
        "regret_approx_5 = np.log(-approx_output_5 + y_global_orig)\n",
        "regret_exact_5 = np.log(-exact_output_5 + y_global_orig)\n",
        "\n",
        "simple_regret_approx_5 = min_max_array(regret_approx_5)\n",
        "simple_regret_exact_5 = min_max_array(regret_exact_5)\n",
        "\n",
        "min_simple_regret_approx_5 = min(simple_regret_approx_5)\n",
        "min_simple_regret_exact_5 = min(simple_regret_exact_5)\n",
        "\n",
        "min_simple_regret_approx_5, min_simple_regret_exact_5"
      ],
      "execution_count": 59,
      "outputs": [
        {
          "output_type": "execute_result",
          "data": {
            "text/plain": [
              "(2.09743242449578, 1.8954626597772544)"
            ]
          },
          "metadata": {},
          "execution_count": 59
        }
      ]
    },
    {
      "cell_type": "code",
      "metadata": {
        "id": "CJv3lPuSQxfp",
        "colab": {
          "base_uri": "https://localhost:8080/"
        },
        "outputId": "1845a6b0-36fd-47d1-9de3-904885b69cc6"
      },
      "source": [
        "### Simple regret minimization: run number = 6\n",
        "\n",
        "approx_output_6 = np.append(np.min(approx_6.GP.y[0:n_init]),approx_6.GP.y[n_init:(n_init+iters)]) \n",
        "exact_output_6 = np.append(np.min(exact_6.GP.y[0:n_init]),exact_6.GP.y[n_init:(n_init+iters)]) \n",
        "\n",
        "regret_approx_6 = np.log(-approx_output_6 + y_global_orig)\n",
        "regret_exact_6 = np.log(-exact_output_6 + y_global_orig)\n",
        "\n",
        "simple_regret_approx_6 = min_max_array(regret_approx_6)\n",
        "simple_regret_exact_6 = min_max_array(regret_exact_6)\n",
        "\n",
        "min_simple_regret_approx_6 = min(simple_regret_approx_6)\n",
        "min_simple_regret_exact_6 = min(simple_regret_exact_6)\n",
        "\n",
        "min_simple_regret_approx_6, min_simple_regret_exact_6"
      ],
      "execution_count": 60,
      "outputs": [
        {
          "output_type": "execute_result",
          "data": {
            "text/plain": [
              "(2.305694313162932, 2.0031187980196936)"
            ]
          },
          "metadata": {},
          "execution_count": 60
        }
      ]
    },
    {
      "cell_type": "code",
      "metadata": {
        "id": "quR2ZyApQxfq",
        "colab": {
          "base_uri": "https://localhost:8080/"
        },
        "outputId": "f9254c4b-ac53-4678-bbe3-1618cf1493bd"
      },
      "source": [
        "### Simple regret minimization: run number = 7\n",
        "\n",
        "approx_output_7 = np.append(np.min(approx_7.GP.y[0:n_init]),approx_7.GP.y[n_init:(n_init+iters)]) \n",
        "exact_output_7 = np.append(np.min(exact_7.GP.y[0:n_init]),exact_7.GP.y[n_init:(n_init+iters)]) \n",
        "\n",
        "regret_approx_7 = np.log(-approx_output_7 + y_global_orig)\n",
        "regret_exact_7 = np.log(-exact_output_7 + y_global_orig)\n",
        "\n",
        "simple_regret_approx_7 = min_max_array(regret_approx_7)\n",
        "simple_regret_exact_7 = min_max_array(regret_exact_7)\n",
        "\n",
        "min_simple_regret_approx_7 = min(simple_regret_approx_7)\n",
        "min_simple_regret_exact_7 = min(simple_regret_exact_7)\n",
        "\n",
        "min_simple_regret_approx_7, min_simple_regret_exact_7"
      ],
      "execution_count": 61,
      "outputs": [
        {
          "output_type": "execute_result",
          "data": {
            "text/plain": [
              "(2.6518649022071035, 2.9716494999912664)"
            ]
          },
          "metadata": {},
          "execution_count": 61
        }
      ]
    },
    {
      "cell_type": "code",
      "metadata": {
        "id": "99wY5nK6Qxfr",
        "colab": {
          "base_uri": "https://localhost:8080/"
        },
        "outputId": "781d4396-f0d0-4a07-92e3-fd653faa5564"
      },
      "source": [
        "### Simple regret minimization: run number = 8\n",
        "\n",
        "approx_output_8 = np.append(np.min(approx_8.GP.y[0:n_init]),approx_8.GP.y[n_init:(n_init+iters)]) \n",
        "exact_output_8 = np.append(np.min(exact_8.GP.y[0:n_init]),exact_8.GP.y[n_init:(n_init+iters)]) \n",
        "\n",
        "regret_approx_8 = np.log(-approx_output_8 + y_global_orig)\n",
        "regret_exact_8 = np.log(-exact_output_8 + y_global_orig)\n",
        "\n",
        "simple_regret_approx_8 = min_max_array(regret_approx_8)\n",
        "simple_regret_exact_8 = min_max_array(regret_exact_8)\n",
        "\n",
        "min_simple_regret_approx_8 = min(simple_regret_approx_8)\n",
        "min_simple_regret_exact_8 = min(simple_regret_exact_8)\n",
        "\n",
        "min_simple_regret_approx_8, min_simple_regret_exact_8"
      ],
      "execution_count": 62,
      "outputs": [
        {
          "output_type": "execute_result",
          "data": {
            "text/plain": [
              "(2.698519629397075, 2.1925571922207507)"
            ]
          },
          "metadata": {},
          "execution_count": 62
        }
      ]
    },
    {
      "cell_type": "code",
      "metadata": {
        "id": "qt0P5t9qQxfs",
        "colab": {
          "base_uri": "https://localhost:8080/"
        },
        "outputId": "2ea358f9-0a31-424b-a721-50b3beca187e"
      },
      "source": [
        "### Simple regret minimization: run number = 9\n",
        "\n",
        "approx_output_9 = np.append(np.min(approx_9.GP.y[0:n_init]),approx_9.GP.y[n_init:(n_init+iters)]) \n",
        "exact_output_9 = np.append(np.min(exact_9.GP.y[0:n_init]),exact_9.GP.y[n_init:(n_init+iters)]) \n",
        "\n",
        "regret_approx_9 = np.log(-approx_output_9 + y_global_orig)\n",
        "regret_exact_9 = np.log(-exact_output_9 + y_global_orig)\n",
        "\n",
        "simple_regret_approx_9 = min_max_array(regret_approx_9)\n",
        "simple_regret_exact_9 = min_max_array(regret_exact_9)\n",
        "\n",
        "min_simple_regret_approx_9 = min(simple_regret_approx_9)\n",
        "min_simple_regret_exact_9 = min(simple_regret_exact_9)\n",
        "\n",
        "min_simple_regret_approx_9, min_simple_regret_exact_9"
      ],
      "execution_count": 63,
      "outputs": [
        {
          "output_type": "execute_result",
          "data": {
            "text/plain": [
              "(2.567441389118922, 2.226896329775584)"
            ]
          },
          "metadata": {},
          "execution_count": 63
        }
      ]
    },
    {
      "cell_type": "code",
      "metadata": {
        "id": "vx8to9stQxft",
        "colab": {
          "base_uri": "https://localhost:8080/"
        },
        "outputId": "be238cf0-04ae-4a62-d41e-87f90c2a9af0"
      },
      "source": [
        "### Simple regret minimization: run number = 10\n",
        "\n",
        "approx_output_10 = np.append(np.min(approx_10.GP.y[0:n_init]),approx_10.GP.y[n_init:(n_init+iters)]) \n",
        "exact_output_10 = np.append(np.min(exact_10.GP.y[0:n_init]),exact_10.GP.y[n_init:(n_init+iters)]) \n",
        "\n",
        "regret_approx_10 = np.log(-approx_output_10 + y_global_orig)\n",
        "regret_exact_10 = np.log(-exact_output_10 + y_global_orig)\n",
        "\n",
        "simple_regret_approx_10 = min_max_array(regret_approx_10)\n",
        "simple_regret_exact_10 = min_max_array(regret_exact_10)\n",
        "\n",
        "min_simple_regret_approx_10 = min(simple_regret_approx_10)\n",
        "min_simple_regret_exact_10 = min(simple_regret_exact_10)\n",
        "\n",
        "min_simple_regret_approx_10, min_simple_regret_exact_10"
      ],
      "execution_count": 64,
      "outputs": [
        {
          "output_type": "execute_result",
          "data": {
            "text/plain": [
              "(2.5241919462155398, 1.1954175839502463)"
            ]
          },
          "metadata": {},
          "execution_count": 64
        }
      ]
    },
    {
      "cell_type": "code",
      "metadata": {
        "id": "d-FGzWyHQxfu",
        "colab": {
          "base_uri": "https://localhost:8080/"
        },
        "outputId": "d1645a5c-f828-47fc-cd36-c779f8cd5db8"
      },
      "source": [
        "### Simple regret minimization: run number = 11\n",
        "\n",
        "approx_output_11 = np.append(np.min(approx_11.GP.y[0:n_init]),approx_11.GP.y[n_init:(n_init+iters)]) \n",
        "exact_output_11 = np.append(np.min(exact_11.GP.y[0:n_init]),exact_11.GP.y[n_init:(n_init+iters)]) \n",
        "\n",
        "regret_approx_11 = np.log(-approx_output_11 + y_global_orig)\n",
        "regret_exact_11 = np.log(-exact_output_11 + y_global_orig)\n",
        "\n",
        "simple_regret_approx_11 = min_max_array(regret_approx_11)\n",
        "simple_regret_exact_11 = min_max_array(regret_exact_11)\n",
        "\n",
        "min_simple_regret_approx_11 = min(simple_regret_approx_11)\n",
        "min_simple_regret_exact_11 = min(simple_regret_exact_11)\n",
        "\n",
        "min_simple_regret_approx_11, min_simple_regret_exact_11"
      ],
      "execution_count": 65,
      "outputs": [
        {
          "output_type": "execute_result",
          "data": {
            "text/plain": [
              "(2.48916246067845, 3.0642244585759926)"
            ]
          },
          "metadata": {},
          "execution_count": 65
        }
      ]
    },
    {
      "cell_type": "code",
      "metadata": {
        "id": "SvtsssyjQxfv",
        "colab": {
          "base_uri": "https://localhost:8080/"
        },
        "outputId": "34c00c8c-d0cd-4397-c046-9d7dedd9b57e"
      },
      "source": [
        "### Simple regret minimization: run number = 12\n",
        "\n",
        "approx_output_12 = np.append(np.min(approx_12.GP.y[0:n_init]),approx_12.GP.y[n_init:(n_init+iters)]) \n",
        "exact_output_12 = np.append(np.min(exact_12.GP.y[0:n_init]),exact_12.GP.y[n_init:(n_init+iters)]) \n",
        "\n",
        "regret_approx_12 = np.log(-approx_output_12 + y_global_orig)\n",
        "regret_exact_12 = np.log(-exact_output_12 + y_global_orig)\n",
        "\n",
        "simple_regret_approx_12 = min_max_array(regret_approx_12)\n",
        "simple_regret_exact_12 = min_max_array(regret_exact_12)\n",
        "\n",
        "min_simple_regret_approx_12 = min(simple_regret_approx_12)\n",
        "min_simple_regret_exact_12 = min(simple_regret_exact_12)\n",
        "\n",
        "min_simple_regret_approx_12, min_simple_regret_exact_12"
      ],
      "execution_count": 66,
      "outputs": [
        {
          "output_type": "execute_result",
          "data": {
            "text/plain": [
              "(2.1667200580661303, 3.133243352216147)"
            ]
          },
          "metadata": {},
          "execution_count": 66
        }
      ]
    },
    {
      "cell_type": "code",
      "metadata": {
        "id": "K6OiGcHkQxfw",
        "colab": {
          "base_uri": "https://localhost:8080/"
        },
        "outputId": "c8033f25-78e7-4a28-92c4-4161ca2df1f6"
      },
      "source": [
        "### Simple regret minimization: run number = 13\n",
        "\n",
        "approx_output_13 = np.append(np.min(approx_13.GP.y[0:n_init]),approx_13.GP.y[n_init:(n_init+iters)]) \n",
        "exact_output_13 = np.append(np.min(exact_13.GP.y[0:n_init]),exact_13.GP.y[n_init:(n_init+iters)]) \n",
        "\n",
        "regret_approx_13 = np.log(-approx_output_13 + y_global_orig)\n",
        "regret_exact_13 = np.log(-exact_output_13 + y_global_orig)\n",
        "\n",
        "simple_regret_approx_13 = min_max_array(regret_approx_13)\n",
        "simple_regret_exact_13 = min_max_array(regret_exact_13)\n",
        "\n",
        "min_simple_regret_approx_13 = min(simple_regret_approx_13)\n",
        "min_simple_regret_exact_13 = min(simple_regret_exact_13)\n",
        "\n",
        "min_simple_regret_approx_13, min_simple_regret_exact_13"
      ],
      "execution_count": 67,
      "outputs": [
        {
          "output_type": "execute_result",
          "data": {
            "text/plain": [
              "(2.7637494715144233, 1.7819371952409373)"
            ]
          },
          "metadata": {},
          "execution_count": 67
        }
      ]
    },
    {
      "cell_type": "code",
      "metadata": {
        "id": "ogML73shQxfx",
        "colab": {
          "base_uri": "https://localhost:8080/"
        },
        "outputId": "5c26bf3e-72b7-4f38-ab44-cf6dc82112f4"
      },
      "source": [
        "### Simple regret minimization: run number = 14\n",
        "\n",
        "approx_output_14 = np.append(np.min(approx_14.GP.y[0:n_init]),approx_14.GP.y[n_init:(n_init+iters)]) \n",
        "exact_output_14 = np.append(np.min(exact_14.GP.y[0:n_init]),exact_14.GP.y[n_init:(n_init+iters)]) \n",
        "\n",
        "regret_approx_14 = np.log(-approx_output_14 + y_global_orig)\n",
        "regret_exact_14 = np.log(-exact_output_14 + y_global_orig)\n",
        "\n",
        "simple_regret_approx_14 = min_max_array(regret_approx_14)\n",
        "simple_regret_exact_14 = min_max_array(regret_exact_14)\n",
        "\n",
        "min_simple_regret_approx_14 = min(simple_regret_approx_14)\n",
        "min_simple_regret_exact_14 = min(simple_regret_exact_14)\n",
        "\n",
        "min_simple_regret_approx_14, min_simple_regret_exact_14"
      ],
      "execution_count": 68,
      "outputs": [
        {
          "output_type": "execute_result",
          "data": {
            "text/plain": [
              "(2.546731695164474, 2.9573564289707437)"
            ]
          },
          "metadata": {},
          "execution_count": 68
        }
      ]
    },
    {
      "cell_type": "code",
      "metadata": {
        "id": "9Eg7gFT9Qxfx",
        "colab": {
          "base_uri": "https://localhost:8080/"
        },
        "outputId": "f40a544c-a278-4ede-d99f-678e596050c1"
      },
      "source": [
        "### Simple regret minimization: run number = 15\n",
        "\n",
        "approx_output_15 = np.append(np.min(approx_15.GP.y[0:n_init]),approx_15.GP.y[n_init:(n_init+iters)]) \n",
        "exact_output_15 = np.append(np.min(exact_15.GP.y[0:n_init]),exact_15.GP.y[n_init:(n_init+iters)]) \n",
        "\n",
        "regret_approx_15 = np.log(-approx_output_15 + y_global_orig)\n",
        "regret_exact_15 = np.log(-exact_output_15 + y_global_orig)\n",
        "\n",
        "simple_regret_approx_15 = min_max_array(regret_approx_15)\n",
        "simple_regret_exact_15 = min_max_array(regret_exact_15)\n",
        "\n",
        "min_simple_regret_approx_15 = min(simple_regret_approx_15)\n",
        "min_simple_regret_exact_15 = min(simple_regret_exact_15)\n",
        "\n",
        "min_simple_regret_approx_15, min_simple_regret_exact_15"
      ],
      "execution_count": 69,
      "outputs": [
        {
          "output_type": "execute_result",
          "data": {
            "text/plain": [
              "(3.0740173123365904, 3.071574821272396)"
            ]
          },
          "metadata": {},
          "execution_count": 69
        }
      ]
    },
    {
      "cell_type": "code",
      "metadata": {
        "id": "lIAC1U7ZQxfy",
        "colab": {
          "base_uri": "https://localhost:8080/"
        },
        "outputId": "e1a68428-bcdb-449f-f350-9eba4a1a27f6"
      },
      "source": [
        "### Simple regret minimization: run number = 16\n",
        "\n",
        "approx_output_16 = np.append(np.min(approx_16.GP.y[0:n_init]),approx_16.GP.y[n_init:(n_init+iters)]) \n",
        "exact_output_16 = np.append(np.min(exact_16.GP.y[0:n_init]),exact_16.GP.y[n_init:(n_init+iters)]) \n",
        "\n",
        "regret_approx_16 = np.log(-approx_output_16 + y_global_orig)\n",
        "regret_exact_16 = np.log(-exact_output_16 + y_global_orig)\n",
        "\n",
        "simple_regret_approx_16 = min_max_array(regret_approx_16)\n",
        "simple_regret_exact_16 = min_max_array(regret_exact_16)\n",
        "\n",
        "min_simple_regret_approx_16 = min(simple_regret_approx_16)\n",
        "min_simple_regret_exact_16 = min(simple_regret_exact_16)\n",
        "\n",
        "min_simple_regret_approx_16, min_simple_regret_exact_16"
      ],
      "execution_count": 70,
      "outputs": [
        {
          "output_type": "execute_result",
          "data": {
            "text/plain": [
              "(0.7561996331468366, 1.8668773589138925)"
            ]
          },
          "metadata": {},
          "execution_count": 70
        }
      ]
    },
    {
      "cell_type": "code",
      "metadata": {
        "id": "bGott36OQxfz",
        "colab": {
          "base_uri": "https://localhost:8080/"
        },
        "outputId": "9767a5b7-a1ed-439e-956f-573868d68634"
      },
      "source": [
        "### Simple regret minimization: run number = 17\n",
        "\n",
        "approx_output_17 = np.append(np.min(approx_17.GP.y[0:n_init]),approx_17.GP.y[n_init:(n_init+iters)]) \n",
        "exact_output_17 = np.append(np.min(exact_17.GP.y[0:n_init]),exact_17.GP.y[n_init:(n_init+iters)]) \n",
        "\n",
        "regret_approx_17 = np.log(-approx_output_17 + y_global_orig)\n",
        "regret_exact_17 = np.log(-exact_output_17 + y_global_orig)\n",
        "\n",
        "simple_regret_approx_17 = min_max_array(regret_approx_17)\n",
        "simple_regret_exact_17 = min_max_array(regret_exact_17)\n",
        "\n",
        "min_simple_regret_approx_17 = min(simple_regret_approx_17)\n",
        "min_simple_regret_exact_17 = min(simple_regret_exact_17)\n",
        "\n",
        "min_simple_regret_approx_17, min_simple_regret_exact_17"
      ],
      "execution_count": 71,
      "outputs": [
        {
          "output_type": "execute_result",
          "data": {
            "text/plain": [
              "(2.3974611007743194, 1.9582744638521108)"
            ]
          },
          "metadata": {},
          "execution_count": 71
        }
      ]
    },
    {
      "cell_type": "code",
      "metadata": {
        "id": "Cz9ZYMBMQxfz",
        "colab": {
          "base_uri": "https://localhost:8080/"
        },
        "outputId": "716ead69-e7f0-425c-bb1c-ebf68a1e36d5"
      },
      "source": [
        "### Simple regret minimization: run number = 18\n",
        "\n",
        "approx_output_18 = np.append(np.min(approx_18.GP.y[0:n_init]),approx_18.GP.y[n_init:(n_init+iters)]) \n",
        "exact_output_18 = np.append(np.min(exact_18.GP.y[0:n_init]),exact_18.GP.y[n_init:(n_init+iters)]) \n",
        "\n",
        "regret_approx_18 = np.log(-approx_output_18 + y_global_orig)\n",
        "regret_exact_18 = np.log(-exact_output_18 + y_global_orig)\n",
        "\n",
        "simple_regret_approx_18 = min_max_array(regret_approx_18)\n",
        "simple_regret_exact_18 = min_max_array(regret_exact_18)\n",
        "\n",
        "min_simple_regret_approx_18 = min(simple_regret_approx_18)\n",
        "min_simple_regret_exact_18 = min(simple_regret_exact_18)\n",
        "\n",
        "min_simple_regret_approx_18, min_simple_regret_exact_18"
      ],
      "execution_count": 72,
      "outputs": [
        {
          "output_type": "execute_result",
          "data": {
            "text/plain": [
              "(2.7045919020835036, 2.6976772806421248)"
            ]
          },
          "metadata": {},
          "execution_count": 72
        }
      ]
    },
    {
      "cell_type": "code",
      "metadata": {
        "id": "OBfpWOHNQxf0",
        "colab": {
          "base_uri": "https://localhost:8080/"
        },
        "outputId": "90eadd02-422e-4f30-d433-b695df4d6356"
      },
      "source": [
        "### Simple regret minimization: run number = 19\n",
        "\n",
        "approx_output_19 = np.append(np.min(approx_19.GP.y[0:n_init]),approx_19.GP.y[n_init:(n_init+iters)]) \n",
        "exact_output_19 = np.append(np.min(exact_19.GP.y[0:n_init]),exact_19.GP.y[n_init:(n_init+iters)]) \n",
        "\n",
        "regret_approx_19 = np.log(-approx_output_19 + y_global_orig)\n",
        "regret_exact_19 = np.log(-exact_output_19 + y_global_orig)\n",
        "\n",
        "simple_regret_approx_19 = min_max_array(regret_approx_19)\n",
        "simple_regret_exact_19 = min_max_array(regret_exact_19)\n",
        "\n",
        "min_simple_regret_approx_19 = min(simple_regret_approx_19)\n",
        "min_simple_regret_exact_19 = min(simple_regret_exact_19)\n",
        "\n",
        "min_simple_regret_approx_19, min_simple_regret_exact_19"
      ],
      "execution_count": 73,
      "outputs": [
        {
          "output_type": "execute_result",
          "data": {
            "text/plain": [
              "(2.928838330480088, 1.95079753221021)"
            ]
          },
          "metadata": {},
          "execution_count": 73
        }
      ]
    },
    {
      "cell_type": "code",
      "metadata": {
        "id": "BE1AJ7NsQxf0",
        "colab": {
          "base_uri": "https://localhost:8080/"
        },
        "outputId": "fe10f267-314d-4839-8011-3bab9826e530"
      },
      "source": [
        "### Simple regret minimization: run number = 20\n",
        "\n",
        "approx_output_20 = np.append(np.min(approx_20.GP.y[0:n_init]),approx_20.GP.y[n_init:(n_init+iters)]) \n",
        "exact_output_20 = np.append(np.min(exact_20.GP.y[0:n_init]),exact_20.GP.y[n_init:(n_init+iters)]) \n",
        "\n",
        "regret_approx_20 = np.log(-approx_output_20 + y_global_orig)\n",
        "regret_exact_20 = np.log(-exact_output_20 + y_global_orig)\n",
        "\n",
        "simple_regret_approx_20 = min_max_array(regret_approx_20)\n",
        "simple_regret_exact_20 = min_max_array(regret_exact_20)\n",
        "\n",
        "min_simple_regret_approx_20 = min(simple_regret_approx_20)\n",
        "min_simple_regret_exact_20 = min(simple_regret_exact_20)\n",
        "\n",
        "min_simple_regret_approx_20, min_simple_regret_exact_20"
      ],
      "execution_count": 74,
      "outputs": [
        {
          "output_type": "execute_result",
          "data": {
            "text/plain": [
              "(2.9201742884466704, 1.8555330690381389)"
            ]
          },
          "metadata": {},
          "execution_count": 74
        }
      ]
    },
    {
      "cell_type": "code",
      "metadata": {
        "id": "bpX-bKAHQxf1"
      },
      "source": [
        "# Iteration1 :\n",
        "\n",
        "slice1 = 0\n",
        "\n",
        "approx1 = [simple_regret_approx_1[slice1],\n",
        "       simple_regret_approx_2[slice1],\n",
        "       simple_regret_approx_3[slice1],\n",
        "       simple_regret_approx_4[slice1],\n",
        "       simple_regret_approx_5[slice1],\n",
        "       simple_regret_approx_6[slice1],\n",
        "       simple_regret_approx_7[slice1],\n",
        "       simple_regret_approx_8[slice1],\n",
        "       simple_regret_approx_9[slice1],\n",
        "       simple_regret_approx_10[slice1],\n",
        "       simple_regret_approx_11[slice1],\n",
        "       simple_regret_approx_12[slice1],\n",
        "       simple_regret_approx_13[slice1],\n",
        "       simple_regret_approx_14[slice1],\n",
        "       simple_regret_approx_15[slice1],\n",
        "       simple_regret_approx_16[slice1],\n",
        "       simple_regret_approx_17[slice1],\n",
        "       simple_regret_approx_18[slice1],\n",
        "       simple_regret_approx_19[slice1],\n",
        "       simple_regret_approx_20[slice1]]\n",
        "\n",
        "exact1 = [simple_regret_exact_1[slice1],\n",
        "       simple_regret_exact_2[slice1],\n",
        "       simple_regret_exact_3[slice1],\n",
        "       simple_regret_exact_4[slice1],\n",
        "       simple_regret_exact_5[slice1],\n",
        "       simple_regret_exact_6[slice1],\n",
        "       simple_regret_exact_7[slice1],\n",
        "       simple_regret_exact_8[slice1],\n",
        "       simple_regret_exact_9[slice1],\n",
        "       simple_regret_exact_10[slice1],\n",
        "       simple_regret_exact_11[slice1],\n",
        "       simple_regret_exact_12[slice1],\n",
        "       simple_regret_exact_13[slice1],\n",
        "       simple_regret_exact_14[slice1],\n",
        "       simple_regret_exact_15[slice1],\n",
        "       simple_regret_exact_16[slice1],\n",
        "       simple_regret_exact_17[slice1],\n",
        "       simple_regret_exact_18[slice1],\n",
        "       simple_regret_exact_19[slice1],\n",
        "       simple_regret_exact_20[slice1]]\n",
        "\n",
        "approx1_results = pd.DataFrame(approx1).sort_values(by=[0], ascending=False)\n",
        "exact1_results = pd.DataFrame(exact1).sort_values(by=[0], ascending=False)\n",
        "\n",
        "### Best simple regret minimization IQR - approx:\n",
        "lower_approx1 = np.asarray(approx1_results[4:5][0])[0]\n",
        "median_approx1 = np.asarray(approx1_results[9:10][0])[0]\n",
        "upper_approx1 = np.asarray(approx1_results[14:15][0])[0]\n",
        "\n",
        "lower_exact1 = np.asarray(exact1_results[4:5][0])[0]\n",
        "median_exact1 = np.asarray(exact1_results[9:10][0])[0]\n",
        "upper_exact1 = np.asarray(exact1_results[14:15][0])[0]"
      ],
      "execution_count": 75,
      "outputs": []
    },
    {
      "cell_type": "code",
      "metadata": {
        "id": "CgIkJA1xQxf2"
      },
      "source": [
        "# Iteration11 :\n",
        "\n",
        "slice11 = 10\n",
        "\n",
        "approx11 = [simple_regret_approx_1[slice11],\n",
        "       simple_regret_approx_2[slice11],\n",
        "       simple_regret_approx_3[slice11],\n",
        "       simple_regret_approx_4[slice11],\n",
        "       simple_regret_approx_5[slice11],\n",
        "       simple_regret_approx_6[slice11],\n",
        "       simple_regret_approx_7[slice11],\n",
        "       simple_regret_approx_8[slice11],\n",
        "       simple_regret_approx_9[slice11],\n",
        "       simple_regret_approx_10[slice11],\n",
        "       simple_regret_approx_11[slice11],\n",
        "       simple_regret_approx_12[slice11],\n",
        "       simple_regret_approx_13[slice11],\n",
        "       simple_regret_approx_14[slice11],\n",
        "       simple_regret_approx_15[slice11],\n",
        "       simple_regret_approx_16[slice11],\n",
        "       simple_regret_approx_17[slice11],\n",
        "       simple_regret_approx_18[slice11],\n",
        "       simple_regret_approx_19[slice11],\n",
        "       simple_regret_approx_20[slice11]]\n",
        "\n",
        "exact11 = [simple_regret_exact_1[slice11],\n",
        "       simple_regret_exact_2[slice11],\n",
        "       simple_regret_exact_3[slice11],\n",
        "       simple_regret_exact_4[slice11],\n",
        "       simple_regret_exact_5[slice11],\n",
        "       simple_regret_exact_6[slice11],\n",
        "       simple_regret_exact_7[slice11],\n",
        "       simple_regret_exact_8[slice11],\n",
        "       simple_regret_exact_9[slice11],\n",
        "       simple_regret_exact_10[slice11],\n",
        "       simple_regret_exact_11[slice11],\n",
        "       simple_regret_exact_12[slice11],\n",
        "       simple_regret_exact_13[slice11],\n",
        "       simple_regret_exact_14[slice11],\n",
        "       simple_regret_exact_15[slice11],\n",
        "       simple_regret_exact_16[slice11],\n",
        "       simple_regret_exact_17[slice11],\n",
        "       simple_regret_exact_18[slice11],\n",
        "       simple_regret_exact_19[slice11],\n",
        "       simple_regret_exact_20[slice11]]\n",
        "\n",
        "approx11_results = pd.DataFrame(approx11).sort_values(by=[0], ascending=False)\n",
        "exact11_results = pd.DataFrame(exact11).sort_values(by=[0], ascending=False)\n",
        "\n",
        "### Best simple regret minimization IQR - approx:\n",
        "lower_approx11 = np.asarray(approx11_results[4:5][0])[0]\n",
        "median_approx11 = np.asarray(approx11_results[9:10][0])[0]\n",
        "upper_approx11 = np.asarray(approx11_results[14:15][0])[0]\n",
        "\n",
        "lower_exact11 = np.asarray(exact11_results[4:5][0])[0]\n",
        "median_exact11 = np.asarray(exact11_results[9:10][0])[0]\n",
        "upper_exact11 = np.asarray(exact11_results[14:15][0])[0]"
      ],
      "execution_count": 76,
      "outputs": []
    },
    {
      "cell_type": "code",
      "metadata": {
        "id": "MFePDfGuQxf2"
      },
      "source": [
        "# Iteration21 :\n",
        "\n",
        "slice21 = 20\n",
        "\n",
        "approx21 = [simple_regret_approx_1[slice21],\n",
        "       simple_regret_approx_2[slice21],\n",
        "       simple_regret_approx_3[slice21],\n",
        "       simple_regret_approx_4[slice21],\n",
        "       simple_regret_approx_5[slice21],\n",
        "       simple_regret_approx_6[slice21],\n",
        "       simple_regret_approx_7[slice21],\n",
        "       simple_regret_approx_8[slice21],\n",
        "       simple_regret_approx_9[slice21],\n",
        "       simple_regret_approx_10[slice21],\n",
        "       simple_regret_approx_11[slice21],\n",
        "       simple_regret_approx_12[slice21],\n",
        "       simple_regret_approx_13[slice21],\n",
        "       simple_regret_approx_14[slice21],\n",
        "       simple_regret_approx_15[slice21],\n",
        "       simple_regret_approx_16[slice21],\n",
        "       simple_regret_approx_17[slice21],\n",
        "       simple_regret_approx_18[slice21],\n",
        "       simple_regret_approx_19[slice21],\n",
        "       simple_regret_approx_20[slice21]]\n",
        "\n",
        "exact21 = [simple_regret_exact_1[slice21],\n",
        "       simple_regret_exact_2[slice21],\n",
        "       simple_regret_exact_3[slice21],\n",
        "       simple_regret_exact_4[slice21],\n",
        "       simple_regret_exact_5[slice21],\n",
        "       simple_regret_exact_6[slice21],\n",
        "       simple_regret_exact_7[slice21],\n",
        "       simple_regret_exact_8[slice21],\n",
        "       simple_regret_exact_9[slice21],\n",
        "       simple_regret_exact_10[slice21],\n",
        "       simple_regret_exact_11[slice21],\n",
        "       simple_regret_exact_12[slice21],\n",
        "       simple_regret_exact_13[slice21],\n",
        "       simple_regret_exact_14[slice21],\n",
        "       simple_regret_exact_15[slice21],\n",
        "       simple_regret_exact_16[slice21],\n",
        "       simple_regret_exact_17[slice21],\n",
        "       simple_regret_exact_18[slice21],\n",
        "       simple_regret_exact_19[slice21],\n",
        "       simple_regret_exact_20[slice21]]\n",
        "\n",
        "approx21_results = pd.DataFrame(approx21).sort_values(by=[0], ascending=False)\n",
        "exact21_results = pd.DataFrame(exact21).sort_values(by=[0], ascending=False)\n",
        "\n",
        "### Best simple regret minimization IQR - approx:\n",
        "lower_approx21 = np.asarray(approx21_results[4:5][0])[0]\n",
        "median_approx21 = np.asarray(approx21_results[9:10][0])[0]\n",
        "upper_approx21 = np.asarray(approx21_results[14:15][0])[0]\n",
        "\n",
        "lower_exact21 = np.asarray(exact21_results[4:5][0])[0]\n",
        "median_exact21 = np.asarray(exact21_results[9:10][0])[0]\n",
        "upper_exact21 = np.asarray(exact21_results[14:15][0])[0]"
      ],
      "execution_count": 77,
      "outputs": []
    },
    {
      "cell_type": "code",
      "metadata": {
        "id": "PrRDB1kfQxf3"
      },
      "source": [
        "# Iteration2 :\n",
        "\n",
        "slice2 = 1\n",
        "\n",
        "approx2 = [simple_regret_approx_1[slice2],\n",
        "       simple_regret_approx_2[slice2],\n",
        "       simple_regret_approx_3[slice2],\n",
        "       simple_regret_approx_4[slice2],\n",
        "       simple_regret_approx_5[slice2],\n",
        "       simple_regret_approx_6[slice2],\n",
        "       simple_regret_approx_7[slice2],\n",
        "       simple_regret_approx_8[slice2],\n",
        "       simple_regret_approx_9[slice2],\n",
        "       simple_regret_approx_10[slice2],\n",
        "       simple_regret_approx_11[slice2],\n",
        "       simple_regret_approx_12[slice2],\n",
        "       simple_regret_approx_13[slice2],\n",
        "       simple_regret_approx_14[slice2],\n",
        "       simple_regret_approx_15[slice2],\n",
        "       simple_regret_approx_16[slice2],\n",
        "       simple_regret_approx_17[slice2],\n",
        "       simple_regret_approx_18[slice2],\n",
        "       simple_regret_approx_19[slice2],\n",
        "       simple_regret_approx_20[slice2]]\n",
        "\n",
        "exact2 = [simple_regret_exact_1[slice2],\n",
        "       simple_regret_exact_2[slice2],\n",
        "       simple_regret_exact_3[slice2],\n",
        "       simple_regret_exact_4[slice2],\n",
        "       simple_regret_exact_5[slice2],\n",
        "       simple_regret_exact_6[slice2],\n",
        "       simple_regret_exact_7[slice2],\n",
        "       simple_regret_exact_8[slice2],\n",
        "       simple_regret_exact_9[slice2],\n",
        "       simple_regret_exact_10[slice2],\n",
        "       simple_regret_exact_11[slice2],\n",
        "       simple_regret_exact_12[slice2],\n",
        "       simple_regret_exact_13[slice2],\n",
        "       simple_regret_exact_14[slice2],\n",
        "       simple_regret_exact_15[slice2],\n",
        "       simple_regret_exact_16[slice2],\n",
        "       simple_regret_exact_17[slice2],\n",
        "       simple_regret_exact_18[slice2],\n",
        "       simple_regret_exact_19[slice2],\n",
        "       simple_regret_exact_20[slice2]]\n",
        "\n",
        "approx2_results = pd.DataFrame(approx2).sort_values(by=[0], ascending=False)\n",
        "exact2_results = pd.DataFrame(exact2).sort_values(by=[0], ascending=False)\n",
        "\n",
        "### Best simple regret minimization IQR - approx:\n",
        "lower_approx2 = np.asarray(approx2_results[4:5][0])[0]\n",
        "median_approx2 = np.asarray(approx2_results[9:10][0])[0]\n",
        "upper_approx2 = np.asarray(approx2_results[14:15][0])[0]\n",
        "\n",
        "lower_exact2 = np.asarray(exact2_results[4:5][0])[0]\n",
        "median_exact2 = np.asarray(exact2_results[9:10][0])[0]\n",
        "upper_exact2 = np.asarray(exact2_results[14:15][0])[0]"
      ],
      "execution_count": 78,
      "outputs": []
    },
    {
      "cell_type": "code",
      "metadata": {
        "id": "B8ncJDYeQxf3"
      },
      "source": [
        "# Iteration12 :\n",
        "\n",
        "slice12 = 11\n",
        "\n",
        "approx12 = [simple_regret_approx_1[slice12],\n",
        "       simple_regret_approx_2[slice12],\n",
        "       simple_regret_approx_3[slice12],\n",
        "       simple_regret_approx_4[slice12],\n",
        "       simple_regret_approx_5[slice12],\n",
        "       simple_regret_approx_6[slice12],\n",
        "       simple_regret_approx_7[slice12],\n",
        "       simple_regret_approx_8[slice12],\n",
        "       simple_regret_approx_9[slice12],\n",
        "       simple_regret_approx_10[slice12],\n",
        "       simple_regret_approx_11[slice12],\n",
        "       simple_regret_approx_12[slice12],\n",
        "       simple_regret_approx_13[slice12],\n",
        "       simple_regret_approx_14[slice12],\n",
        "       simple_regret_approx_15[slice12],\n",
        "       simple_regret_approx_16[slice12],\n",
        "       simple_regret_approx_17[slice12],\n",
        "       simple_regret_approx_18[slice12],\n",
        "       simple_regret_approx_19[slice12],\n",
        "       simple_regret_approx_20[slice12]]\n",
        "\n",
        "exact12 = [simple_regret_exact_1[slice12],\n",
        "       simple_regret_exact_2[slice12],\n",
        "       simple_regret_exact_3[slice12],\n",
        "       simple_regret_exact_4[slice12],\n",
        "       simple_regret_exact_5[slice12],\n",
        "       simple_regret_exact_6[slice12],\n",
        "       simple_regret_exact_7[slice12],\n",
        "       simple_regret_exact_8[slice12],\n",
        "       simple_regret_exact_9[slice12],\n",
        "       simple_regret_exact_10[slice12],\n",
        "       simple_regret_exact_11[slice12],\n",
        "       simple_regret_exact_12[slice12],\n",
        "       simple_regret_exact_13[slice12],\n",
        "       simple_regret_exact_14[slice12],\n",
        "       simple_regret_exact_15[slice12],\n",
        "       simple_regret_exact_16[slice12],\n",
        "       simple_regret_exact_17[slice12],\n",
        "       simple_regret_exact_18[slice12],\n",
        "       simple_regret_exact_19[slice12],\n",
        "       simple_regret_exact_20[slice12]]\n",
        "\n",
        "approx12_results = pd.DataFrame(approx12).sort_values(by=[0], ascending=False)\n",
        "exact12_results = pd.DataFrame(exact12).sort_values(by=[0], ascending=False)\n",
        "\n",
        "### Best simple regret minimization IQR - approx:\n",
        "lower_approx12 = np.asarray(approx12_results[4:5][0])[0]\n",
        "median_approx12 = np.asarray(approx12_results[9:10][0])[0]\n",
        "upper_approx12 = np.asarray(approx12_results[14:15][0])[0]\n",
        "\n",
        "lower_exact12 = np.asarray(exact12_results[4:5][0])[0]\n",
        "median_exact12 = np.asarray(exact12_results[9:10][0])[0]\n",
        "upper_exact12 = np.asarray(exact12_results[14:15][0])[0]"
      ],
      "execution_count": 79,
      "outputs": []
    },
    {
      "cell_type": "code",
      "metadata": {
        "id": "Jn4KpGvcQxf4"
      },
      "source": [
        "# Iteration3 :\n",
        "\n",
        "slice3 = 2\n",
        "\n",
        "approx3 = [simple_regret_approx_1[slice3],\n",
        "       simple_regret_approx_2[slice3],\n",
        "       simple_regret_approx_3[slice3],\n",
        "       simple_regret_approx_4[slice3],\n",
        "       simple_regret_approx_5[slice3],\n",
        "       simple_regret_approx_6[slice3],\n",
        "       simple_regret_approx_7[slice3],\n",
        "       simple_regret_approx_8[slice3],\n",
        "       simple_regret_approx_9[slice3],\n",
        "       simple_regret_approx_10[slice3],\n",
        "       simple_regret_approx_11[slice3],\n",
        "       simple_regret_approx_12[slice3],\n",
        "       simple_regret_approx_13[slice3],\n",
        "       simple_regret_approx_14[slice3],\n",
        "       simple_regret_approx_15[slice3],\n",
        "       simple_regret_approx_16[slice3],\n",
        "       simple_regret_approx_17[slice3],\n",
        "       simple_regret_approx_18[slice3],\n",
        "       simple_regret_approx_19[slice3],\n",
        "       simple_regret_approx_20[slice3]]\n",
        "\n",
        "exact3 = [simple_regret_exact_1[slice3],\n",
        "       simple_regret_exact_2[slice3],\n",
        "       simple_regret_exact_3[slice3],\n",
        "       simple_regret_exact_4[slice3],\n",
        "       simple_regret_exact_5[slice3],\n",
        "       simple_regret_exact_6[slice3],\n",
        "       simple_regret_exact_7[slice3],\n",
        "       simple_regret_exact_8[slice3],\n",
        "       simple_regret_exact_9[slice3],\n",
        "       simple_regret_exact_10[slice3],\n",
        "       simple_regret_exact_11[slice3],\n",
        "       simple_regret_exact_12[slice3],\n",
        "       simple_regret_exact_13[slice3],\n",
        "       simple_regret_exact_14[slice3],\n",
        "       simple_regret_exact_15[slice3],\n",
        "       simple_regret_exact_16[slice3],\n",
        "       simple_regret_exact_17[slice3],\n",
        "       simple_regret_exact_18[slice3],\n",
        "       simple_regret_exact_19[slice3],\n",
        "       simple_regret_exact_20[slice3]]\n",
        "\n",
        "approx3_results = pd.DataFrame(approx3).sort_values(by=[0], ascending=False)\n",
        "exact3_results = pd.DataFrame(exact3).sort_values(by=[0], ascending=False)\n",
        "\n",
        "### Best simple regret minimization IQR - approx:\n",
        "lower_approx3 = np.asarray(approx3_results[4:5][0])[0]\n",
        "median_approx3 = np.asarray(approx3_results[9:10][0])[0]\n",
        "upper_approx3 = np.asarray(approx3_results[14:15][0])[0]\n",
        "\n",
        "lower_exact3 = np.asarray(exact3_results[4:5][0])[0]\n",
        "median_exact3 = np.asarray(exact3_results[9:10][0])[0]\n",
        "upper_exact3 = np.asarray(exact3_results[14:15][0])[0]"
      ],
      "execution_count": 80,
      "outputs": []
    },
    {
      "cell_type": "code",
      "metadata": {
        "id": "plf83wxrQxf4"
      },
      "source": [
        "# Iteration13 :\n",
        "\n",
        "slice13 = 12\n",
        "\n",
        "approx13 = [simple_regret_approx_1[slice13],\n",
        "       simple_regret_approx_2[slice13],\n",
        "       simple_regret_approx_3[slice13],\n",
        "       simple_regret_approx_4[slice13],\n",
        "       simple_regret_approx_5[slice13],\n",
        "       simple_regret_approx_6[slice13],\n",
        "       simple_regret_approx_7[slice13],\n",
        "       simple_regret_approx_8[slice13],\n",
        "       simple_regret_approx_9[slice13],\n",
        "       simple_regret_approx_10[slice13],\n",
        "       simple_regret_approx_11[slice13],\n",
        "       simple_regret_approx_12[slice13],\n",
        "       simple_regret_approx_13[slice13],\n",
        "       simple_regret_approx_14[slice13],\n",
        "       simple_regret_approx_15[slice13],\n",
        "       simple_regret_approx_16[slice13],\n",
        "       simple_regret_approx_17[slice13],\n",
        "       simple_regret_approx_18[slice13],\n",
        "       simple_regret_approx_19[slice13],\n",
        "       simple_regret_approx_20[slice13]]\n",
        "\n",
        "exact13 = [simple_regret_exact_1[slice13],\n",
        "       simple_regret_exact_2[slice13],\n",
        "       simple_regret_exact_3[slice13],\n",
        "       simple_regret_exact_4[slice13],\n",
        "       simple_regret_exact_5[slice13],\n",
        "       simple_regret_exact_6[slice13],\n",
        "       simple_regret_exact_7[slice13],\n",
        "       simple_regret_exact_8[slice13],\n",
        "       simple_regret_exact_9[slice13],\n",
        "       simple_regret_exact_10[slice13],\n",
        "       simple_regret_exact_11[slice13],\n",
        "       simple_regret_exact_12[slice13],\n",
        "       simple_regret_exact_13[slice13],\n",
        "       simple_regret_exact_14[slice13],\n",
        "       simple_regret_exact_15[slice13],\n",
        "       simple_regret_exact_16[slice13],\n",
        "       simple_regret_exact_17[slice13],\n",
        "       simple_regret_exact_18[slice13],\n",
        "       simple_regret_exact_19[slice13],\n",
        "       simple_regret_exact_20[slice13]]\n",
        "\n",
        "approx13_results = pd.DataFrame(approx13).sort_values(by=[0], ascending=False)\n",
        "exact13_results = pd.DataFrame(exact13).sort_values(by=[0], ascending=False)\n",
        "\n",
        "### Best simple regret minimization IQR - approx:\n",
        "lower_approx13 = np.asarray(approx13_results[4:5][0])[0]\n",
        "median_approx13 = np.asarray(approx13_results[9:10][0])[0]\n",
        "upper_approx13 = np.asarray(approx13_results[14:15][0])[0]\n",
        "\n",
        "lower_exact13 = np.asarray(exact13_results[4:5][0])[0]\n",
        "median_exact13 = np.asarray(exact13_results[9:10][0])[0]\n",
        "upper_exact13 = np.asarray(exact13_results[14:15][0])[0]"
      ],
      "execution_count": 81,
      "outputs": []
    },
    {
      "cell_type": "code",
      "metadata": {
        "id": "9A7mlVvJQxf5"
      },
      "source": [
        "# Iteration4 :\n",
        "\n",
        "slice4 = 3\n",
        "\n",
        "approx4 = [simple_regret_approx_1[slice4],\n",
        "       simple_regret_approx_2[slice4],\n",
        "       simple_regret_approx_3[slice4],\n",
        "       simple_regret_approx_4[slice4],\n",
        "       simple_regret_approx_5[slice4],\n",
        "       simple_regret_approx_6[slice4],\n",
        "       simple_regret_approx_7[slice4],\n",
        "       simple_regret_approx_8[slice4],\n",
        "       simple_regret_approx_9[slice4],\n",
        "       simple_regret_approx_10[slice4],\n",
        "       simple_regret_approx_11[slice4],\n",
        "       simple_regret_approx_12[slice4],\n",
        "       simple_regret_approx_13[slice4],\n",
        "       simple_regret_approx_14[slice4],\n",
        "       simple_regret_approx_15[slice4],\n",
        "       simple_regret_approx_16[slice4],\n",
        "       simple_regret_approx_17[slice4],\n",
        "       simple_regret_approx_18[slice4],\n",
        "       simple_regret_approx_19[slice4],\n",
        "       simple_regret_approx_20[slice4]]\n",
        "\n",
        "exact4 = [simple_regret_exact_1[slice4],\n",
        "       simple_regret_exact_2[slice4],\n",
        "       simple_regret_exact_3[slice4],\n",
        "       simple_regret_exact_4[slice4],\n",
        "       simple_regret_exact_5[slice4],\n",
        "       simple_regret_exact_6[slice4],\n",
        "       simple_regret_exact_7[slice4],\n",
        "       simple_regret_exact_8[slice4],\n",
        "       simple_regret_exact_9[slice4],\n",
        "       simple_regret_exact_10[slice4],\n",
        "       simple_regret_exact_11[slice4],\n",
        "       simple_regret_exact_12[slice4],\n",
        "       simple_regret_exact_13[slice4],\n",
        "       simple_regret_exact_14[slice4],\n",
        "       simple_regret_exact_15[slice4],\n",
        "       simple_regret_exact_16[slice4],\n",
        "       simple_regret_exact_17[slice4],\n",
        "       simple_regret_exact_18[slice4],\n",
        "       simple_regret_exact_19[slice4],\n",
        "       simple_regret_exact_20[slice4]]\n",
        "\n",
        "approx4_results = pd.DataFrame(approx4).sort_values(by=[0], ascending=False)\n",
        "exact4_results = pd.DataFrame(exact4).sort_values(by=[0], ascending=False)\n",
        "\n",
        "### Best simple regret minimization IQR - approx:\n",
        "lower_approx4 = np.asarray(approx4_results[4:5][0])[0]\n",
        "median_approx4 = np.asarray(approx4_results[9:10][0])[0]\n",
        "upper_approx4 = np.asarray(approx4_results[14:15][0])[0]\n",
        "\n",
        "lower_exact4 = np.asarray(exact4_results[4:5][0])[0]\n",
        "median_exact4 = np.asarray(exact4_results[9:10][0])[0]\n",
        "upper_exact4 = np.asarray(exact4_results[14:15][0])[0]"
      ],
      "execution_count": 82,
      "outputs": []
    },
    {
      "cell_type": "code",
      "metadata": {
        "id": "ijq-rioYQxf5"
      },
      "source": [
        "# Iteration14 :\n",
        "\n",
        "slice14 = 13\n",
        "\n",
        "approx14 = [simple_regret_approx_1[slice14],\n",
        "       simple_regret_approx_2[slice14],\n",
        "       simple_regret_approx_3[slice14],\n",
        "       simple_regret_approx_4[slice14],\n",
        "       simple_regret_approx_5[slice14],\n",
        "       simple_regret_approx_6[slice14],\n",
        "       simple_regret_approx_7[slice14],\n",
        "       simple_regret_approx_8[slice14],\n",
        "       simple_regret_approx_9[slice14],\n",
        "       simple_regret_approx_10[slice14],\n",
        "       simple_regret_approx_11[slice14],\n",
        "       simple_regret_approx_12[slice14],\n",
        "       simple_regret_approx_13[slice14],\n",
        "       simple_regret_approx_14[slice14],\n",
        "       simple_regret_approx_15[slice14],\n",
        "       simple_regret_approx_16[slice14],\n",
        "       simple_regret_approx_17[slice14],\n",
        "       simple_regret_approx_18[slice14],\n",
        "       simple_regret_approx_19[slice14],\n",
        "       simple_regret_approx_20[slice14]]\n",
        "\n",
        "exact14 = [simple_regret_exact_1[slice14],\n",
        "       simple_regret_exact_2[slice14],\n",
        "       simple_regret_exact_3[slice14],\n",
        "       simple_regret_exact_4[slice14],\n",
        "       simple_regret_exact_5[slice14],\n",
        "       simple_regret_exact_6[slice14],\n",
        "       simple_regret_exact_7[slice14],\n",
        "       simple_regret_exact_8[slice14],\n",
        "       simple_regret_exact_9[slice14],\n",
        "       simple_regret_exact_10[slice14],\n",
        "       simple_regret_exact_11[slice14],\n",
        "       simple_regret_exact_12[slice14],\n",
        "       simple_regret_exact_13[slice14],\n",
        "       simple_regret_exact_14[slice14],\n",
        "       simple_regret_exact_15[slice14],\n",
        "       simple_regret_exact_16[slice14],\n",
        "       simple_regret_exact_17[slice14],\n",
        "       simple_regret_exact_18[slice14],\n",
        "       simple_regret_exact_19[slice14],\n",
        "       simple_regret_exact_20[slice14]]\n",
        "\n",
        "approx14_results = pd.DataFrame(approx14).sort_values(by=[0], ascending=False)\n",
        "exact14_results = pd.DataFrame(exact14).sort_values(by=[0], ascending=False)\n",
        "\n",
        "### Best simple regret minimization IQR - approx:\n",
        "lower_approx14 = np.asarray(approx14_results[4:5][0])[0]\n",
        "median_approx14 = np.asarray(approx14_results[9:10][0])[0]\n",
        "upper_approx14 = np.asarray(approx14_results[14:15][0])[0]\n",
        "\n",
        "lower_exact14 = np.asarray(exact14_results[4:5][0])[0]\n",
        "median_exact14 = np.asarray(exact14_results[9:10][0])[0]\n",
        "upper_exact14 = np.asarray(exact14_results[14:15][0])[0]"
      ],
      "execution_count": 83,
      "outputs": []
    },
    {
      "cell_type": "code",
      "metadata": {
        "id": "XINlZjoTd-ZK"
      },
      "source": [
        "# Iteration5 :\n",
        "\n",
        "slice5 = 4\n",
        "\n",
        "approx5 = [simple_regret_approx_1[slice5],\n",
        "       simple_regret_approx_2[slice5],\n",
        "       simple_regret_approx_3[slice5],\n",
        "       simple_regret_approx_4[slice5],\n",
        "       simple_regret_approx_5[slice5],\n",
        "       simple_regret_approx_6[slice5],\n",
        "       simple_regret_approx_7[slice5],\n",
        "       simple_regret_approx_8[slice5],\n",
        "       simple_regret_approx_9[slice5],\n",
        "       simple_regret_approx_10[slice5],\n",
        "       simple_regret_approx_11[slice5],\n",
        "       simple_regret_approx_12[slice5],\n",
        "       simple_regret_approx_13[slice5],\n",
        "       simple_regret_approx_14[slice5],\n",
        "       simple_regret_approx_15[slice5],\n",
        "       simple_regret_approx_16[slice5],\n",
        "       simple_regret_approx_17[slice5],\n",
        "       simple_regret_approx_18[slice5],\n",
        "       simple_regret_approx_19[slice5],\n",
        "       simple_regret_approx_20[slice5]]\n",
        "\n",
        "exact5 = [simple_regret_exact_1[slice5],\n",
        "       simple_regret_exact_2[slice5],\n",
        "       simple_regret_exact_3[slice5],\n",
        "       simple_regret_exact_4[slice5],\n",
        "       simple_regret_exact_5[slice5],\n",
        "       simple_regret_exact_6[slice5],\n",
        "       simple_regret_exact_7[slice5],\n",
        "       simple_regret_exact_8[slice5],\n",
        "       simple_regret_exact_9[slice5],\n",
        "       simple_regret_exact_10[slice5],\n",
        "       simple_regret_exact_11[slice5],\n",
        "       simple_regret_exact_12[slice5],\n",
        "       simple_regret_exact_13[slice5],\n",
        "       simple_regret_exact_14[slice5],\n",
        "       simple_regret_exact_15[slice5],\n",
        "       simple_regret_exact_16[slice5],\n",
        "       simple_regret_exact_17[slice5],\n",
        "       simple_regret_exact_18[slice5],\n",
        "       simple_regret_exact_19[slice5],\n",
        "       simple_regret_exact_20[slice5]]\n",
        "\n",
        "approx5_results = pd.DataFrame(approx5).sort_values(by=[0], ascending=False)\n",
        "exact5_results = pd.DataFrame(exact5).sort_values(by=[0], ascending=False)\n",
        "\n",
        "### Best simple regret minimization IQR - approx:\n",
        "lower_approx5 = np.asarray(approx5_results[4:5][0])[0]\n",
        "median_approx5 = np.asarray(approx5_results[9:10][0])[0]\n",
        "upper_approx5 = np.asarray(approx5_results[14:15][0])[0]\n",
        "\n",
        "lower_exact5 = np.asarray(exact5_results[4:5][0])[0]\n",
        "median_exact5 = np.asarray(exact5_results[9:10][0])[0]\n",
        "upper_exact5 = np.asarray(exact5_results[14:15][0])[0]"
      ],
      "execution_count": 84,
      "outputs": []
    },
    {
      "cell_type": "code",
      "metadata": {
        "id": "4aZ7C8sOQxf6"
      },
      "source": [
        "# Iteration15 :\n",
        "\n",
        "slice15 = 14\n",
        "\n",
        "approx15 = [simple_regret_approx_1[slice15],\n",
        "       simple_regret_approx_2[slice15],\n",
        "       simple_regret_approx_3[slice15],\n",
        "       simple_regret_approx_4[slice15],\n",
        "       simple_regret_approx_5[slice15],\n",
        "       simple_regret_approx_6[slice15],\n",
        "       simple_regret_approx_7[slice15],\n",
        "       simple_regret_approx_8[slice15],\n",
        "       simple_regret_approx_9[slice15],\n",
        "       simple_regret_approx_10[slice15],\n",
        "       simple_regret_approx_11[slice15],\n",
        "       simple_regret_approx_12[slice15],\n",
        "       simple_regret_approx_13[slice15],\n",
        "       simple_regret_approx_14[slice15],\n",
        "       simple_regret_approx_15[slice15],\n",
        "       simple_regret_approx_16[slice15],\n",
        "       simple_regret_approx_17[slice15],\n",
        "       simple_regret_approx_18[slice15],\n",
        "       simple_regret_approx_19[slice15],\n",
        "       simple_regret_approx_20[slice15]]\n",
        "\n",
        "exact15 = [simple_regret_exact_1[slice15],\n",
        "       simple_regret_exact_2[slice15],\n",
        "       simple_regret_exact_3[slice15],\n",
        "       simple_regret_exact_4[slice15],\n",
        "       simple_regret_exact_5[slice15],\n",
        "       simple_regret_exact_6[slice15],\n",
        "       simple_regret_exact_7[slice15],\n",
        "       simple_regret_exact_8[slice15],\n",
        "       simple_regret_exact_9[slice15],\n",
        "       simple_regret_exact_10[slice15],\n",
        "       simple_regret_exact_11[slice15],\n",
        "       simple_regret_exact_12[slice15],\n",
        "       simple_regret_exact_13[slice15],\n",
        "       simple_regret_exact_14[slice15],\n",
        "       simple_regret_exact_15[slice15],\n",
        "       simple_regret_exact_16[slice15],\n",
        "       simple_regret_exact_17[slice15],\n",
        "       simple_regret_exact_18[slice15],\n",
        "       simple_regret_exact_19[slice15],\n",
        "       simple_regret_exact_20[slice15]]\n",
        "\n",
        "approx15_results = pd.DataFrame(approx15).sort_values(by=[0], ascending=False)\n",
        "exact15_results = pd.DataFrame(exact15).sort_values(by=[0], ascending=False)\n",
        "\n",
        "### Best simple regret minimization IQR - approx:\n",
        "lower_approx15 = np.asarray(approx15_results[4:5][0])[0]\n",
        "median_approx15 = np.asarray(approx15_results[9:10][0])[0]\n",
        "upper_approx15 = np.asarray(approx15_results[14:15][0])[0]\n",
        "\n",
        "lower_exact15 = np.asarray(exact15_results[4:5][0])[0]\n",
        "median_exact15 = np.asarray(exact15_results[9:10][0])[0]\n",
        "upper_exact15 = np.asarray(exact15_results[14:15][0])[0]"
      ],
      "execution_count": 85,
      "outputs": []
    },
    {
      "cell_type": "code",
      "metadata": {
        "id": "KJINKhv1Qxf6"
      },
      "source": [
        "# Iteration6 :\n",
        "\n",
        "slice6 = 5\n",
        "\n",
        "approx6 = [simple_regret_approx_1[slice6],\n",
        "       simple_regret_approx_2[slice6],\n",
        "       simple_regret_approx_3[slice6],\n",
        "       simple_regret_approx_4[slice6],\n",
        "       simple_regret_approx_5[slice6],\n",
        "       simple_regret_approx_6[slice6],\n",
        "       simple_regret_approx_7[slice6],\n",
        "       simple_regret_approx_8[slice6],\n",
        "       simple_regret_approx_9[slice6],\n",
        "       simple_regret_approx_10[slice6],\n",
        "       simple_regret_approx_11[slice6],\n",
        "       simple_regret_approx_12[slice6],\n",
        "       simple_regret_approx_13[slice6],\n",
        "       simple_regret_approx_14[slice6],\n",
        "       simple_regret_approx_15[slice6],\n",
        "       simple_regret_approx_16[slice6],\n",
        "       simple_regret_approx_17[slice6],\n",
        "       simple_regret_approx_18[slice6],\n",
        "       simple_regret_approx_19[slice6],\n",
        "       simple_regret_approx_20[slice6]]\n",
        "\n",
        "exact6 = [simple_regret_exact_1[slice6],\n",
        "       simple_regret_exact_2[slice6],\n",
        "       simple_regret_exact_3[slice6],\n",
        "       simple_regret_exact_4[slice6],\n",
        "       simple_regret_exact_5[slice6],\n",
        "       simple_regret_exact_6[slice6],\n",
        "       simple_regret_exact_7[slice6],\n",
        "       simple_regret_exact_8[slice6],\n",
        "       simple_regret_exact_9[slice6],\n",
        "       simple_regret_exact_10[slice6],\n",
        "       simple_regret_exact_11[slice6],\n",
        "       simple_regret_exact_12[slice6],\n",
        "       simple_regret_exact_13[slice6],\n",
        "       simple_regret_exact_14[slice6],\n",
        "       simple_regret_exact_15[slice6],\n",
        "       simple_regret_exact_16[slice6],\n",
        "       simple_regret_exact_17[slice6],\n",
        "       simple_regret_exact_18[slice6],\n",
        "       simple_regret_exact_19[slice6],\n",
        "       simple_regret_exact_20[slice6]]\n",
        "\n",
        "approx6_results = pd.DataFrame(approx6).sort_values(by=[0], ascending=False)\n",
        "exact6_results = pd.DataFrame(exact6).sort_values(by=[0], ascending=False)\n",
        "\n",
        "### Best simple regret minimization IQR - approx:\n",
        "lower_approx6 = np.asarray(approx6_results[4:5][0])[0]\n",
        "median_approx6 = np.asarray(approx6_results[9:10][0])[0]\n",
        "upper_approx6 = np.asarray(approx6_results[14:15][0])[0]\n",
        "\n",
        "lower_exact6 = np.asarray(exact6_results[4:5][0])[0]\n",
        "median_exact6 = np.asarray(exact6_results[9:10][0])[0]\n",
        "upper_exact6 = np.asarray(exact6_results[14:15][0])[0]"
      ],
      "execution_count": 86,
      "outputs": []
    },
    {
      "cell_type": "code",
      "metadata": {
        "id": "nwC5N1FsQxf7"
      },
      "source": [
        "# Iteration16 :\n",
        "\n",
        "slice16 = 15\n",
        "\n",
        "approx16 = [simple_regret_approx_1[slice16],\n",
        "       simple_regret_approx_2[slice16],\n",
        "       simple_regret_approx_3[slice16],\n",
        "       simple_regret_approx_4[slice16],\n",
        "       simple_regret_approx_5[slice16],\n",
        "       simple_regret_approx_6[slice16],\n",
        "       simple_regret_approx_7[slice16],\n",
        "       simple_regret_approx_8[slice16],\n",
        "       simple_regret_approx_9[slice16],\n",
        "       simple_regret_approx_10[slice16],\n",
        "       simple_regret_approx_11[slice16],\n",
        "       simple_regret_approx_12[slice16],\n",
        "       simple_regret_approx_13[slice16],\n",
        "       simple_regret_approx_14[slice16],\n",
        "       simple_regret_approx_15[slice16],\n",
        "       simple_regret_approx_16[slice16],\n",
        "       simple_regret_approx_17[slice16],\n",
        "       simple_regret_approx_18[slice16],\n",
        "       simple_regret_approx_19[slice16],\n",
        "       simple_regret_approx_20[slice16]]\n",
        "\n",
        "exact16 = [simple_regret_exact_1[slice16],\n",
        "       simple_regret_exact_2[slice16],\n",
        "       simple_regret_exact_3[slice16],\n",
        "       simple_regret_exact_4[slice16],\n",
        "       simple_regret_exact_5[slice16],\n",
        "       simple_regret_exact_6[slice16],\n",
        "       simple_regret_exact_7[slice16],\n",
        "       simple_regret_exact_8[slice16],\n",
        "       simple_regret_exact_9[slice16],\n",
        "       simple_regret_exact_10[slice16],\n",
        "       simple_regret_exact_11[slice16],\n",
        "       simple_regret_exact_12[slice16],\n",
        "       simple_regret_exact_13[slice16],\n",
        "       simple_regret_exact_14[slice16],\n",
        "       simple_regret_exact_15[slice16],\n",
        "       simple_regret_exact_16[slice16],\n",
        "       simple_regret_exact_17[slice16],\n",
        "       simple_regret_exact_18[slice16],\n",
        "       simple_regret_exact_19[slice16],\n",
        "       simple_regret_exact_20[slice16]]\n",
        "\n",
        "approx16_results = pd.DataFrame(approx16).sort_values(by=[0], ascending=False)\n",
        "exact16_results = pd.DataFrame(exact16).sort_values(by=[0], ascending=False)\n",
        "\n",
        "### Best simple regret minimization IQR - approx:\n",
        "lower_approx16 = np.asarray(approx16_results[4:5][0])[0]\n",
        "median_approx16 = np.asarray(approx16_results[9:10][0])[0]\n",
        "upper_approx16 = np.asarray(approx16_results[14:15][0])[0]\n",
        "\n",
        "lower_exact16 = np.asarray(exact16_results[4:5][0])[0]\n",
        "median_exact16 = np.asarray(exact16_results[9:10][0])[0]\n",
        "upper_exact16 = np.asarray(exact16_results[14:15][0])[0]"
      ],
      "execution_count": 87,
      "outputs": []
    },
    {
      "cell_type": "code",
      "metadata": {
        "id": "TrPV0AfnQxf7"
      },
      "source": [
        "# Iteration7 :\n",
        "\n",
        "slice7 = 6\n",
        "\n",
        "approx7 = [simple_regret_approx_1[slice7],\n",
        "       simple_regret_approx_2[slice7],\n",
        "       simple_regret_approx_3[slice7],\n",
        "       simple_regret_approx_4[slice7],\n",
        "       simple_regret_approx_5[slice7],\n",
        "       simple_regret_approx_6[slice7],\n",
        "       simple_regret_approx_7[slice7],\n",
        "       simple_regret_approx_8[slice7],\n",
        "       simple_regret_approx_9[slice7],\n",
        "       simple_regret_approx_10[slice7],\n",
        "       simple_regret_approx_11[slice7],\n",
        "       simple_regret_approx_12[slice7],\n",
        "       simple_regret_approx_13[slice7],\n",
        "       simple_regret_approx_14[slice7],\n",
        "       simple_regret_approx_15[slice7],\n",
        "       simple_regret_approx_16[slice7],\n",
        "       simple_regret_approx_17[slice7],\n",
        "       simple_regret_approx_18[slice7],\n",
        "       simple_regret_approx_19[slice7],\n",
        "       simple_regret_approx_20[slice7]]\n",
        "\n",
        "exact7 = [simple_regret_exact_1[slice7],\n",
        "       simple_regret_exact_2[slice7],\n",
        "       simple_regret_exact_3[slice7],\n",
        "       simple_regret_exact_4[slice7],\n",
        "       simple_regret_exact_5[slice7],\n",
        "       simple_regret_exact_6[slice7],\n",
        "       simple_regret_exact_7[slice7],\n",
        "       simple_regret_exact_8[slice7],\n",
        "       simple_regret_exact_9[slice7],\n",
        "       simple_regret_exact_10[slice7],\n",
        "       simple_regret_exact_11[slice7],\n",
        "       simple_regret_exact_12[slice7],\n",
        "       simple_regret_exact_13[slice7],\n",
        "       simple_regret_exact_14[slice7],\n",
        "       simple_regret_exact_15[slice7],\n",
        "       simple_regret_exact_16[slice7],\n",
        "       simple_regret_exact_17[slice7],\n",
        "       simple_regret_exact_18[slice7],\n",
        "       simple_regret_exact_19[slice7],\n",
        "       simple_regret_exact_20[slice7]]\n",
        "\n",
        "approx7_results = pd.DataFrame(approx7).sort_values(by=[0], ascending=False)\n",
        "exact7_results = pd.DataFrame(exact7).sort_values(by=[0], ascending=False)\n",
        "\n",
        "### Best simple regret minimization IQR - approx:\n",
        "lower_approx7 = np.asarray(approx7_results[4:5][0])[0]\n",
        "median_approx7 = np.asarray(approx7_results[9:10][0])[0]\n",
        "upper_approx7 = np.asarray(approx7_results[14:15][0])[0]\n",
        "\n",
        "lower_exact7 = np.asarray(exact7_results[4:5][0])[0]\n",
        "median_exact7 = np.asarray(exact7_results[9:10][0])[0]\n",
        "upper_exact7 = np.asarray(exact7_results[14:15][0])[0]"
      ],
      "execution_count": 88,
      "outputs": []
    },
    {
      "cell_type": "code",
      "metadata": {
        "id": "Ub_-wpK4Qxf8"
      },
      "source": [
        "# Iteration17 :\n",
        "\n",
        "slice17 = 16\n",
        "\n",
        "approx17 = [simple_regret_approx_1[slice17],\n",
        "       simple_regret_approx_2[slice17],\n",
        "       simple_regret_approx_3[slice17],\n",
        "       simple_regret_approx_4[slice17],\n",
        "       simple_regret_approx_5[slice17],\n",
        "       simple_regret_approx_6[slice17],\n",
        "       simple_regret_approx_7[slice17],\n",
        "       simple_regret_approx_8[slice17],\n",
        "       simple_regret_approx_9[slice17],\n",
        "       simple_regret_approx_10[slice17],\n",
        "       simple_regret_approx_11[slice17],\n",
        "       simple_regret_approx_12[slice17],\n",
        "       simple_regret_approx_13[slice17],\n",
        "       simple_regret_approx_14[slice17],\n",
        "       simple_regret_approx_15[slice17],\n",
        "       simple_regret_approx_16[slice17],\n",
        "       simple_regret_approx_17[slice17],\n",
        "       simple_regret_approx_18[slice17],\n",
        "       simple_regret_approx_19[slice17],\n",
        "       simple_regret_approx_20[slice17]]\n",
        "\n",
        "exact17 = [simple_regret_exact_1[slice17],\n",
        "       simple_regret_exact_2[slice17],\n",
        "       simple_regret_exact_3[slice17],\n",
        "       simple_regret_exact_4[slice17],\n",
        "       simple_regret_exact_5[slice17],\n",
        "       simple_regret_exact_6[slice17],\n",
        "       simple_regret_exact_7[slice17],\n",
        "       simple_regret_exact_8[slice17],\n",
        "       simple_regret_exact_9[slice17],\n",
        "       simple_regret_exact_10[slice17],\n",
        "       simple_regret_exact_11[slice17],\n",
        "       simple_regret_exact_12[slice17],\n",
        "       simple_regret_exact_13[slice17],\n",
        "       simple_regret_exact_14[slice17],\n",
        "       simple_regret_exact_15[slice17],\n",
        "       simple_regret_exact_16[slice17],\n",
        "       simple_regret_exact_17[slice17],\n",
        "       simple_regret_exact_18[slice17],\n",
        "       simple_regret_exact_19[slice17],\n",
        "       simple_regret_exact_20[slice17]]\n",
        "\n",
        "approx17_results = pd.DataFrame(approx17).sort_values(by=[0], ascending=False)\n",
        "exact17_results = pd.DataFrame(exact17).sort_values(by=[0], ascending=False)\n",
        "\n",
        "### Best simple regret minimization IQR - approx:\n",
        "lower_approx17 = np.asarray(approx17_results[4:5][0])[0]\n",
        "median_approx17 = np.asarray(approx17_results[9:10][0])[0]\n",
        "upper_approx17 = np.asarray(approx17_results[14:15][0])[0]\n",
        "\n",
        "lower_exact17 = np.asarray(exact17_results[4:5][0])[0]\n",
        "median_exact17 = np.asarray(exact17_results[9:10][0])[0]\n",
        "upper_exact17 = np.asarray(exact17_results[14:15][0])[0]"
      ],
      "execution_count": 89,
      "outputs": []
    },
    {
      "cell_type": "code",
      "metadata": {
        "id": "-6VLo37PQxf8"
      },
      "source": [
        "# Iteration8 :\n",
        "\n",
        "slice8 = 7\n",
        "\n",
        "approx8 = [simple_regret_approx_1[slice8],\n",
        "       simple_regret_approx_2[slice8],\n",
        "       simple_regret_approx_3[slice8],\n",
        "       simple_regret_approx_4[slice8],\n",
        "       simple_regret_approx_5[slice8],\n",
        "       simple_regret_approx_6[slice8],\n",
        "       simple_regret_approx_7[slice8],\n",
        "       simple_regret_approx_8[slice8],\n",
        "       simple_regret_approx_9[slice8],\n",
        "       simple_regret_approx_10[slice8],\n",
        "       simple_regret_approx_11[slice8],\n",
        "       simple_regret_approx_12[slice8],\n",
        "       simple_regret_approx_13[slice8],\n",
        "       simple_regret_approx_14[slice8],\n",
        "       simple_regret_approx_15[slice8],\n",
        "       simple_regret_approx_16[slice8],\n",
        "       simple_regret_approx_17[slice8],\n",
        "       simple_regret_approx_18[slice8],\n",
        "       simple_regret_approx_19[slice8],\n",
        "       simple_regret_approx_20[slice8]]\n",
        "\n",
        "exact8 = [simple_regret_exact_1[slice8],\n",
        "       simple_regret_exact_2[slice8],\n",
        "       simple_regret_exact_3[slice8],\n",
        "       simple_regret_exact_4[slice8],\n",
        "       simple_regret_exact_5[slice8],\n",
        "       simple_regret_exact_6[slice8],\n",
        "       simple_regret_exact_7[slice8],\n",
        "       simple_regret_exact_8[slice8],\n",
        "       simple_regret_exact_9[slice8],\n",
        "       simple_regret_exact_10[slice8],\n",
        "       simple_regret_exact_11[slice8],\n",
        "       simple_regret_exact_12[slice8],\n",
        "       simple_regret_exact_13[slice8],\n",
        "       simple_regret_exact_14[slice8],\n",
        "       simple_regret_exact_15[slice8],\n",
        "       simple_regret_exact_16[slice8],\n",
        "       simple_regret_exact_17[slice8],\n",
        "       simple_regret_exact_18[slice8],\n",
        "       simple_regret_exact_19[slice8],\n",
        "       simple_regret_exact_20[slice8]]\n",
        "\n",
        "approx8_results = pd.DataFrame(approx8).sort_values(by=[0], ascending=False)\n",
        "exact8_results = pd.DataFrame(exact8).sort_values(by=[0], ascending=False)\n",
        "\n",
        "### Best simple regret minimization IQR - approx:\n",
        "lower_approx8 = np.asarray(approx8_results[4:5][0])[0]\n",
        "median_approx8 = np.asarray(approx8_results[9:10][0])[0]\n",
        "upper_approx8 = np.asarray(approx8_results[14:15][0])[0]\n",
        "\n",
        "lower_exact8 = np.asarray(exact8_results[4:5][0])[0]\n",
        "median_exact8 = np.asarray(exact8_results[9:10][0])[0]\n",
        "upper_exact8 = np.asarray(exact8_results[14:15][0])[0]"
      ],
      "execution_count": 90,
      "outputs": []
    },
    {
      "cell_type": "code",
      "metadata": {
        "id": "2Dp-9CC2Qxf9"
      },
      "source": [
        "# Iteration18 :\n",
        "\n",
        "slice18 = 17\n",
        "\n",
        "approx18 = [simple_regret_approx_1[slice18],\n",
        "       simple_regret_approx_2[slice18],\n",
        "       simple_regret_approx_3[slice18],\n",
        "       simple_regret_approx_4[slice18],\n",
        "       simple_regret_approx_5[slice18],\n",
        "       simple_regret_approx_6[slice18],\n",
        "       simple_regret_approx_7[slice18],\n",
        "       simple_regret_approx_8[slice18],\n",
        "       simple_regret_approx_9[slice18],\n",
        "       simple_regret_approx_10[slice18],\n",
        "       simple_regret_approx_11[slice18],\n",
        "       simple_regret_approx_12[slice18],\n",
        "       simple_regret_approx_13[slice18],\n",
        "       simple_regret_approx_14[slice18],\n",
        "       simple_regret_approx_15[slice18],\n",
        "       simple_regret_approx_16[slice18],\n",
        "       simple_regret_approx_17[slice18],\n",
        "       simple_regret_approx_18[slice18],\n",
        "       simple_regret_approx_19[slice18],\n",
        "       simple_regret_approx_20[slice18]]\n",
        "\n",
        "exact18 = [simple_regret_exact_1[slice18],\n",
        "       simple_regret_exact_2[slice18],\n",
        "       simple_regret_exact_3[slice18],\n",
        "       simple_regret_exact_4[slice18],\n",
        "       simple_regret_exact_5[slice18],\n",
        "       simple_regret_exact_6[slice18],\n",
        "       simple_regret_exact_7[slice18],\n",
        "       simple_regret_exact_8[slice18],\n",
        "       simple_regret_exact_9[slice18],\n",
        "       simple_regret_exact_10[slice18],\n",
        "       simple_regret_exact_11[slice18],\n",
        "       simple_regret_exact_12[slice18],\n",
        "       simple_regret_exact_13[slice18],\n",
        "       simple_regret_exact_14[slice18],\n",
        "       simple_regret_exact_15[slice18],\n",
        "       simple_regret_exact_16[slice18],\n",
        "       simple_regret_exact_17[slice18],\n",
        "       simple_regret_exact_18[slice18],\n",
        "       simple_regret_exact_19[slice18],\n",
        "       simple_regret_exact_20[slice18]]\n",
        "\n",
        "approx18_results = pd.DataFrame(approx18).sort_values(by=[0], ascending=False)\n",
        "exact18_results = pd.DataFrame(exact18).sort_values(by=[0], ascending=False)\n",
        "\n",
        "### Best simple regret minimization IQR - approx:\n",
        "lower_approx18 = np.asarray(approx18_results[4:5][0])[0]\n",
        "median_approx18 = np.asarray(approx18_results[9:10][0])[0]\n",
        "upper_approx18 = np.asarray(approx18_results[14:15][0])[0]\n",
        "\n",
        "lower_exact18 = np.asarray(exact18_results[4:5][0])[0]\n",
        "median_exact18 = np.asarray(exact18_results[9:10][0])[0]\n",
        "upper_exact18 = np.asarray(exact18_results[14:15][0])[0]"
      ],
      "execution_count": 91,
      "outputs": []
    },
    {
      "cell_type": "code",
      "metadata": {
        "id": "SqiaOpB7Qxf9"
      },
      "source": [
        "# Iteration9 :\n",
        "\n",
        "slice9 = 8\n",
        "\n",
        "approx9 = [simple_regret_approx_1[slice9],\n",
        "       simple_regret_approx_2[slice9],\n",
        "       simple_regret_approx_3[slice9],\n",
        "       simple_regret_approx_4[slice9],\n",
        "       simple_regret_approx_5[slice9],\n",
        "       simple_regret_approx_6[slice9],\n",
        "       simple_regret_approx_7[slice9],\n",
        "       simple_regret_approx_8[slice9],\n",
        "       simple_regret_approx_9[slice9],\n",
        "       simple_regret_approx_10[slice9],\n",
        "       simple_regret_approx_11[slice9],\n",
        "       simple_regret_approx_12[slice9],\n",
        "       simple_regret_approx_13[slice9],\n",
        "       simple_regret_approx_14[slice9],\n",
        "       simple_regret_approx_15[slice9],\n",
        "       simple_regret_approx_16[slice9],\n",
        "       simple_regret_approx_17[slice9],\n",
        "       simple_regret_approx_18[slice9],\n",
        "       simple_regret_approx_19[slice9],\n",
        "       simple_regret_approx_20[slice9]]\n",
        "\n",
        "exact9 = [simple_regret_exact_1[slice9],\n",
        "       simple_regret_exact_2[slice9],\n",
        "       simple_regret_exact_3[slice9],\n",
        "       simple_regret_exact_4[slice9],\n",
        "       simple_regret_exact_5[slice9],\n",
        "       simple_regret_exact_6[slice9],\n",
        "       simple_regret_exact_7[slice9],\n",
        "       simple_regret_exact_8[slice9],\n",
        "       simple_regret_exact_9[slice9],\n",
        "       simple_regret_exact_10[slice9],\n",
        "       simple_regret_exact_11[slice9],\n",
        "       simple_regret_exact_12[slice9],\n",
        "       simple_regret_exact_13[slice9],\n",
        "       simple_regret_exact_14[slice9],\n",
        "       simple_regret_exact_15[slice9],\n",
        "       simple_regret_exact_16[slice9],\n",
        "       simple_regret_exact_17[slice9],\n",
        "       simple_regret_exact_18[slice9],\n",
        "       simple_regret_exact_19[slice9],\n",
        "       simple_regret_exact_20[slice9]]\n",
        "\n",
        "approx9_results = pd.DataFrame(approx9).sort_values(by=[0], ascending=False)\n",
        "exact9_results = pd.DataFrame(exact9).sort_values(by=[0], ascending=False)\n",
        "\n",
        "### Best simple regret minimization IQR - approx:\n",
        "lower_approx9 = np.asarray(approx9_results[4:5][0])[0]\n",
        "median_approx9 = np.asarray(approx9_results[9:10][0])[0]\n",
        "upper_approx9 = np.asarray(approx9_results[14:15][0])[0]\n",
        "\n",
        "lower_exact9 = np.asarray(exact9_results[4:5][0])[0]\n",
        "median_exact9 = np.asarray(exact9_results[9:10][0])[0]\n",
        "upper_exact9 = np.asarray(exact9_results[14:15][0])[0]"
      ],
      "execution_count": 92,
      "outputs": []
    },
    {
      "cell_type": "code",
      "metadata": {
        "id": "OQkCCOsPQxf9"
      },
      "source": [
        "# Iteration19 :\n",
        "\n",
        "slice19 = 18\n",
        "\n",
        "approx19 = [simple_regret_approx_1[slice19],\n",
        "       simple_regret_approx_2[slice19],\n",
        "       simple_regret_approx_3[slice19],\n",
        "       simple_regret_approx_4[slice19],\n",
        "       simple_regret_approx_5[slice19],\n",
        "       simple_regret_approx_6[slice19],\n",
        "       simple_regret_approx_7[slice19],\n",
        "       simple_regret_approx_8[slice19],\n",
        "       simple_regret_approx_9[slice19],\n",
        "       simple_regret_approx_10[slice19],\n",
        "       simple_regret_approx_11[slice19],\n",
        "       simple_regret_approx_12[slice19],\n",
        "       simple_regret_approx_13[slice19],\n",
        "       simple_regret_approx_14[slice19],\n",
        "       simple_regret_approx_15[slice19],\n",
        "       simple_regret_approx_16[slice19],\n",
        "       simple_regret_approx_17[slice19],\n",
        "       simple_regret_approx_18[slice19],\n",
        "       simple_regret_approx_19[slice19],\n",
        "       simple_regret_approx_20[slice19]]\n",
        "\n",
        "exact19 = [simple_regret_exact_1[slice19],\n",
        "       simple_regret_exact_2[slice19],\n",
        "       simple_regret_exact_3[slice19],\n",
        "       simple_regret_exact_4[slice19],\n",
        "       simple_regret_exact_5[slice19],\n",
        "       simple_regret_exact_6[slice19],\n",
        "       simple_regret_exact_7[slice19],\n",
        "       simple_regret_exact_8[slice19],\n",
        "       simple_regret_exact_9[slice19],\n",
        "       simple_regret_exact_10[slice19],\n",
        "       simple_regret_exact_11[slice19],\n",
        "       simple_regret_exact_12[slice19],\n",
        "       simple_regret_exact_13[slice19],\n",
        "       simple_regret_exact_14[slice19],\n",
        "       simple_regret_exact_15[slice19],\n",
        "       simple_regret_exact_16[slice19],\n",
        "       simple_regret_exact_17[slice19],\n",
        "       simple_regret_exact_18[slice19],\n",
        "       simple_regret_exact_19[slice19],\n",
        "       simple_regret_exact_20[slice19]]\n",
        "\n",
        "approx19_results = pd.DataFrame(approx19).sort_values(by=[0], ascending=False)\n",
        "exact19_results = pd.DataFrame(exact19).sort_values(by=[0], ascending=False)\n",
        "\n",
        "### Best simple regret minimization IQR - approx:\n",
        "lower_approx19 = np.asarray(approx19_results[4:5][0])[0]\n",
        "median_approx19 = np.asarray(approx19_results[9:10][0])[0]\n",
        "upper_approx19 = np.asarray(approx19_results[14:15][0])[0]\n",
        "\n",
        "lower_exact19 = np.asarray(exact19_results[4:5][0])[0]\n",
        "median_exact19 = np.asarray(exact19_results[9:10][0])[0]\n",
        "upper_exact19 = np.asarray(exact19_results[14:15][0])[0]"
      ],
      "execution_count": 93,
      "outputs": []
    },
    {
      "cell_type": "code",
      "metadata": {
        "id": "h4vtWahcQxf-"
      },
      "source": [
        "# Iteration10 :\n",
        "\n",
        "slice10 = 9\n",
        "\n",
        "approx10 = [simple_regret_approx_1[slice10],\n",
        "       simple_regret_approx_2[slice10],\n",
        "       simple_regret_approx_3[slice10],\n",
        "       simple_regret_approx_4[slice10],\n",
        "       simple_regret_approx_5[slice10],\n",
        "       simple_regret_approx_6[slice10],\n",
        "       simple_regret_approx_7[slice10],\n",
        "       simple_regret_approx_8[slice10],\n",
        "       simple_regret_approx_9[slice10],\n",
        "       simple_regret_approx_10[slice10],\n",
        "       simple_regret_approx_11[slice10],\n",
        "       simple_regret_approx_12[slice10],\n",
        "       simple_regret_approx_13[slice10],\n",
        "       simple_regret_approx_14[slice10],\n",
        "       simple_regret_approx_15[slice10],\n",
        "       simple_regret_approx_16[slice10],\n",
        "       simple_regret_approx_17[slice10],\n",
        "       simple_regret_approx_18[slice10],\n",
        "       simple_regret_approx_19[slice10],\n",
        "       simple_regret_approx_20[slice10]]\n",
        "\n",
        "exact10 = [simple_regret_exact_1[slice10],\n",
        "       simple_regret_exact_2[slice10],\n",
        "       simple_regret_exact_3[slice10],\n",
        "       simple_regret_exact_4[slice10],\n",
        "       simple_regret_exact_5[slice10],\n",
        "       simple_regret_exact_6[slice10],\n",
        "       simple_regret_exact_7[slice10],\n",
        "       simple_regret_exact_8[slice10],\n",
        "       simple_regret_exact_9[slice10],\n",
        "       simple_regret_exact_10[slice10],\n",
        "       simple_regret_exact_11[slice10],\n",
        "       simple_regret_exact_12[slice10],\n",
        "       simple_regret_exact_13[slice10],\n",
        "       simple_regret_exact_14[slice10],\n",
        "       simple_regret_exact_15[slice10],\n",
        "       simple_regret_exact_16[slice10],\n",
        "       simple_regret_exact_17[slice10],\n",
        "       simple_regret_exact_18[slice10],\n",
        "       simple_regret_exact_19[slice10],\n",
        "       simple_regret_exact_20[slice10]]\n",
        "\n",
        "approx10_results = pd.DataFrame(approx10).sort_values(by=[0], ascending=False)\n",
        "exact10_results = pd.DataFrame(exact10).sort_values(by=[0], ascending=False)\n",
        "\n",
        "### Best simple regret minimization IQR - approx:\n",
        "lower_approx10 = np.asarray(approx10_results[4:5][0])[0]\n",
        "median_approx10 = np.asarray(approx10_results[9:10][0])[0]\n",
        "upper_approx10 = np.asarray(approx10_results[14:15][0])[0]\n",
        "\n",
        "lower_exact10 = np.asarray(exact10_results[4:5][0])[0]\n",
        "median_exact10 = np.asarray(exact10_results[9:10][0])[0]\n",
        "upper_exact10 = np.asarray(exact10_results[14:15][0])[0]"
      ],
      "execution_count": 94,
      "outputs": []
    },
    {
      "cell_type": "code",
      "metadata": {
        "id": "Rsf240pWQxf-"
      },
      "source": [
        "# Iteration20 :\n",
        "\n",
        "slice20 = 19\n",
        "\n",
        "approx20 = [simple_regret_approx_1[slice20],\n",
        "       simple_regret_approx_2[slice20],\n",
        "       simple_regret_approx_3[slice20],\n",
        "       simple_regret_approx_4[slice20],\n",
        "       simple_regret_approx_5[slice20],\n",
        "       simple_regret_approx_6[slice20],\n",
        "       simple_regret_approx_7[slice20],\n",
        "       simple_regret_approx_8[slice20],\n",
        "       simple_regret_approx_9[slice20],\n",
        "       simple_regret_approx_10[slice20],\n",
        "       simple_regret_approx_11[slice20],\n",
        "       simple_regret_approx_12[slice20],\n",
        "       simple_regret_approx_13[slice20],\n",
        "       simple_regret_approx_14[slice20],\n",
        "       simple_regret_approx_15[slice20],\n",
        "       simple_regret_approx_16[slice20],\n",
        "       simple_regret_approx_17[slice20],\n",
        "       simple_regret_approx_18[slice20],\n",
        "       simple_regret_approx_19[slice20],\n",
        "       simple_regret_approx_20[slice20]]\n",
        "\n",
        "exact20 = [simple_regret_exact_1[slice20],\n",
        "       simple_regret_exact_2[slice20],\n",
        "       simple_regret_exact_3[slice20],\n",
        "       simple_regret_exact_4[slice20],\n",
        "       simple_regret_exact_5[slice20],\n",
        "       simple_regret_exact_6[slice20],\n",
        "       simple_regret_exact_7[slice20],\n",
        "       simple_regret_exact_8[slice20],\n",
        "       simple_regret_exact_9[slice20],\n",
        "       simple_regret_exact_10[slice20],\n",
        "       simple_regret_exact_11[slice20],\n",
        "       simple_regret_exact_12[slice20],\n",
        "       simple_regret_exact_13[slice20],\n",
        "       simple_regret_exact_14[slice20],\n",
        "       simple_regret_exact_15[slice20],\n",
        "       simple_regret_exact_16[slice20],\n",
        "       simple_regret_exact_17[slice20],\n",
        "       simple_regret_exact_18[slice20],\n",
        "       simple_regret_exact_19[slice20],\n",
        "       simple_regret_exact_20[slice20]]\n",
        "\n",
        "approx20_results = pd.DataFrame(approx20).sort_values(by=[0], ascending=False)\n",
        "exact20_results = pd.DataFrame(exact20).sort_values(by=[0], ascending=False)\n",
        "\n",
        "### Best simple regret minimization IQR - approx:\n",
        "lower_approx20 = np.asarray(approx20_results[4:5][0])[0]\n",
        "median_approx20 = np.asarray(approx20_results[9:10][0])[0]\n",
        "upper_approx20 = np.asarray(approx20_results[14:15][0])[0]\n",
        "\n",
        "lower_exact20 = np.asarray(exact20_results[4:5][0])[0]\n",
        "median_exact20 = np.asarray(exact20_results[9:10][0])[0]\n",
        "upper_exact20 = np.asarray(exact20_results[14:15][0])[0]"
      ],
      "execution_count": 95,
      "outputs": []
    },
    {
      "cell_type": "code",
      "metadata": {
        "id": "gn36RejbQxf_"
      },
      "source": [
        "### Summarize arrays: 'Loser'\n",
        "\n",
        "lower_approx = [lower_approx1,\n",
        "            lower_approx2,\n",
        "            lower_approx3,\n",
        "            lower_approx4,\n",
        "            lower_approx5,\n",
        "            lower_approx6,\n",
        "            lower_approx7,\n",
        "            lower_approx8,\n",
        "            lower_approx9,\n",
        "            lower_approx10,\n",
        "            lower_approx11,\n",
        "            lower_approx12,\n",
        "            lower_approx13,\n",
        "            lower_approx14,\n",
        "            lower_approx15,\n",
        "            lower_approx16,\n",
        "            lower_approx17,\n",
        "            lower_approx18,\n",
        "            lower_approx19,\n",
        "            lower_approx20,\n",
        "            lower_approx21]\n",
        "\n",
        "median_approx = [median_approx1,\n",
        "            median_approx2,\n",
        "            median_approx3,\n",
        "            median_approx4,\n",
        "            median_approx5,\n",
        "            median_approx6,\n",
        "            median_approx7,\n",
        "            median_approx8,\n",
        "            median_approx9,\n",
        "            median_approx10,\n",
        "            median_approx11,\n",
        "            median_approx12,\n",
        "            median_approx13,\n",
        "            median_approx14,\n",
        "            median_approx15,\n",
        "            median_approx16,\n",
        "            median_approx17,\n",
        "            median_approx18,\n",
        "            median_approx19,\n",
        "            median_approx20,\n",
        "            median_approx21]\n",
        "\n",
        "upper_approx = [upper_approx1,\n",
        "            upper_approx2,\n",
        "            upper_approx3,\n",
        "            upper_approx4,\n",
        "            upper_approx5,\n",
        "            upper_approx6,\n",
        "            upper_approx7,\n",
        "            upper_approx8,\n",
        "            upper_approx9,\n",
        "            upper_approx10,\n",
        "            upper_approx11,\n",
        "            upper_approx12,\n",
        "            upper_approx13,\n",
        "            upper_approx14,\n",
        "            upper_approx15,\n",
        "            upper_approx16,\n",
        "            upper_approx17,\n",
        "            upper_approx18,\n",
        "            upper_approx19,\n",
        "            upper_approx20,\n",
        "            upper_approx21]"
      ],
      "execution_count": 96,
      "outputs": []
    },
    {
      "cell_type": "code",
      "metadata": {
        "id": "wxtGTOYfQxf_"
      },
      "source": [
        "### Summarize arrays: 'exact'\n",
        "\n",
        "lower_exact = [lower_exact1,\n",
        "            lower_exact2,\n",
        "            lower_exact3,\n",
        "            lower_exact4,\n",
        "            lower_exact5,\n",
        "            lower_exact6,\n",
        "            lower_exact7,\n",
        "            lower_exact8,\n",
        "            lower_exact9,\n",
        "            lower_exact10,\n",
        "            lower_exact11,\n",
        "            lower_exact12,\n",
        "            lower_exact13,\n",
        "            lower_exact14,\n",
        "            lower_exact15,\n",
        "            lower_exact16,\n",
        "            lower_exact17,\n",
        "            lower_exact18,\n",
        "            lower_exact19,\n",
        "            lower_exact20,\n",
        "            lower_exact21]\n",
        "\n",
        "median_exact = [median_exact1,\n",
        "            median_exact2,\n",
        "            median_exact3,\n",
        "            median_exact4,\n",
        "            median_exact5,\n",
        "            median_exact6,\n",
        "            median_exact7,\n",
        "            median_exact8,\n",
        "            median_exact9,\n",
        "            median_exact10,\n",
        "            median_exact11,\n",
        "            median_exact12,\n",
        "            median_exact13,\n",
        "            median_exact14,\n",
        "            median_exact15,\n",
        "            median_exact16,\n",
        "            median_exact17,\n",
        "            median_exact18,\n",
        "            median_exact19,\n",
        "            median_exact20,\n",
        "            median_exact21]\n",
        "\n",
        "upper_exact = [upper_exact1,\n",
        "            upper_exact2,\n",
        "            upper_exact3,\n",
        "            upper_exact4,\n",
        "            upper_exact5,\n",
        "            upper_exact6,\n",
        "            upper_exact7,\n",
        "            upper_exact8,\n",
        "            upper_exact9,\n",
        "            upper_exact10,\n",
        "            upper_exact11,\n",
        "            upper_exact12,\n",
        "            upper_exact13,\n",
        "            upper_exact14,\n",
        "            upper_exact15,\n",
        "            upper_exact16,\n",
        "            upper_exact17,\n",
        "            upper_exact18,\n",
        "            upper_exact19,\n",
        "            upper_exact20,\n",
        "            upper_exact21]"
      ],
      "execution_count": 97,
      "outputs": []
    },
    {
      "cell_type": "code",
      "metadata": {
        "id": "2MONq-BXQxgA",
        "colab": {
          "base_uri": "https://localhost:8080/",
          "height": 299
        },
        "outputId": "52b83aea-3cab-4833-f363-ae8a059bc58a"
      },
      "source": [
        "### Visualise!\n",
        "\n",
        "title = func\n",
        "plt.figure()\n",
        "\n",
        "plt.plot(median_approx, color = 'Yellow')\n",
        "plt.plot(median_exact, color = 'Red')\n",
        "\n",
        "xstar = np.arange(0, iters+1, step=1)\n",
        "plt.fill_between(xstar, lower_approx, upper_approx, facecolor = 'Yellow', alpha=0.4, label='GP EI Optimization: Approx GP EI gradients')\n",
        "plt.fill_between(xstar, lower_exact, upper_exact, facecolor = 'Red', alpha=0.4, label='GP EI Optimization: Exact GP dEI gradients')\n",
        "\n",
        "plt.title(title, weight = 'bold')\n",
        "plt.xlabel('(Post-initialization) iteration $\\it{k}$', weight = 'bold')\n",
        "plt.ylabel('log(Regret)', weight = 'bold') \n",
        "plt.legend(loc=1) # add plot legend\n",
        "\n",
        "### Make the x-ticks integers, not floats:\n",
        "count = len(xstar)\n",
        "plt.xticks(np.arange(count), np.arange(0, count))\n",
        "plt.show() #visualize!"
      ],
      "execution_count": 98,
      "outputs": [
        {
          "output_type": "display_data",
          "data": {
            "image/png": "[encoded data removed]",
            "text/plain": [
              "<Figure size 432x288 with 1 Axes>"
            ]
          },
          "metadata": {
            "needs_background": "light"
          }
        }
      ]
    },
    {
      "cell_type": "code",
      "metadata": {
        "id": "l5dkR2Id2oiu",
        "colab": {
          "base_uri": "https://localhost:8080/"
        },
        "outputId": "a4a151de-0c9d-4fca-f551-1112bfbf10fa"
      },
      "source": [
        "time_approx, time_exact\n"
      ],
      "execution_count": 99,
      "outputs": [
        {
          "output_type": "execute_result",
          "data": {
            "text/plain": [
              "(196.01981806755066, 472.3041877746582)"
            ]
          },
          "metadata": {},
          "execution_count": 99
        }
      ]
    },
    {
      "cell_type": "code",
      "source": [
        "exact21_results, exact21_results[19:20].index[0]\n"
      ],
      "metadata": {
        "colab": {
          "base_uri": "https://localhost:8080/"
        },
        "id": "0i4IbAcyB7-l",
        "outputId": "5d2d38f5-cec7-4358-ec88-775764040244"
      },
      "execution_count": 100,
      "outputs": [
        {
          "output_type": "execute_result",
          "data": {
            "text/plain": [
              "(           0\n",
              " 0   3.234133\n",
              " 11  3.133243\n",
              " 14  3.071575\n",
              " 10  3.064224\n",
              " 1   3.061942\n",
              " 6   2.971649\n",
              " 13  2.957356\n",
              " 17  2.697677\n",
              " 3   2.648808\n",
              " 2   2.591592\n",
              " 8   2.226896\n",
              " 7   2.192557\n",
              " 5   2.003119\n",
              " 16  1.958274\n",
              " 18  1.950798\n",
              " 4   1.895463\n",
              " 15  1.866877\n",
              " 19  1.855533\n",
              " 12  1.781937\n",
              " 9   1.195418, 9)"
            ]
          },
          "metadata": {},
          "execution_count": 100
        }
      ]
    },
    {
      "cell_type": "code",
      "source": [
        "str_exact = str(exact21_results[19:20].index[0]+1)\n",
        "str_exact"
      ],
      "metadata": {
        "colab": {
          "base_uri": "https://localhost:8080/",
          "height": 35
        },
        "id": "12lIvjCoBr7y",
        "outputId": "1a4889a4-45e8-489f-ff67-7b74b4731255"
      },
      "execution_count": 101,
      "outputs": [
        {
          "output_type": "execute_result",
          "data": {
            "application/vnd.google.colaboratory.intrinsic+json": {
              "type": "string"
            },
            "text/plain": [
              "'10'"
            ]
          },
          "metadata": {},
          "execution_count": 101
        }
      ]
    },
    {
      "cell_type": "code",
      "source": [
        "eval_exactMinIQR_vsCorrApproxExperiment = eval('approx_' + str_exact)\n",
        "eval_exactMinIQR_vsCorrApproxExperiment_minAcqFunc = eval_exactMinIQR_vsCorrApproxExperiment.history[eval_exactMinIQR_vsCorrApproxExperiment.history.index(eval_exactMinIQR_vsCorrApproxExperiment.tau)-1]\n",
        "eval_exactMinIQR_vsCorrApproxExperiment_simpleRegret = np.log(-eval_exactMinIQR_vsCorrApproxExperiment.tau + y_global_orig)\n",
        "\n",
        "eval_exactMinIQR_vsCorrApproxExperiment.tau, eval_exactMinIQR_vsCorrApproxExperiment_minAcqFunc, eval_exactMinIQR_vsCorrApproxExperiment_simpleRegret\n"
      ],
      "metadata": {
        "colab": {
          "base_uri": "https://localhost:8080/"
        },
        "id": "O3sQFv0hpuNI",
        "outputId": "a0440cf1-fbd5-41b2-ae6d-49b6978b453d"
      },
      "execution_count": 102,
      "outputs": [
        {
          "output_type": "execute_result",
          "data": {
            "text/plain": [
              "(-12.480806025290336, -13.660227073482384, 2.5241919462155398)"
            ]
          },
          "metadata": {},
          "execution_count": 102
        }
      ]
    },
    {
      "cell_type": "code",
      "source": [
        "### Final iteration: best \"approx\" experiment results (as above)\n",
        "\n",
        "np.random.seed(int(str_exact))\n",
        "eval_exactMinIQR_vsCorrApproxExperiment.run(init_evals=n_init, max_iter=iters)\n"
      ],
      "metadata": {
        "id": "DKvmmlRoTnvC",
        "colab": {
          "base_uri": "https://localhost:8080/"
        },
        "outputId": "2161e4e3-20df-49e2-9f42-21a20d22da1c"
      },
      "execution_count": 103,
      "outputs": [
        {
          "output_type": "stream",
          "name": "stdout",
          "text": [
            "Evaluation \t Proposed point \t  Current eval. \t  Best eval. \t         Max AcqFunc.\n",
            "init\t [ 2.77832339 -4.90750004]\t -41.674330194390116\t -13.839458310244165\t    \n",
            "init\t [1.36855793 2.54775176]\t -44.69639719065837\t -13.839458310244165\t    \n",
            "init\t [-0.01528819 -2.81808235]\t -13.839458310244165\t -13.839458310244165\t    \n",
            "init\t [-3.09183626  2.66783449]\t -33.23221510904937\t -13.839458310244165\t    \n",
            "init\t [-3.38830503 -4.2154003 ]\t -54.73014366983691\t -13.839458310244165\t    \n",
            "1  \t [ 5.12       -0.56826553]\t -48.341773043866056\t -13.839458310244165\t -13.83919475514241\n",
            "2  \t [5.12 5.12]\t -57.849427451571785\t -13.839458310244165\t -13.838737404895593\n",
            "3  \t [-5.12      -0.6061769]\t -47.148175993245644\t -13.839458310244165\t -13.82040159655753\n",
            "4  \t [-5.12  5.12]\t -57.849427451571785\t -13.839458310244165\t -13.734411666162595\n",
            "5  \t [-0.83794342  5.12      ]\t -34.37814205252497\t -13.839458310244165\t -13.700357481190558\n",
            "\u001b[1m\u001b[92m6\u001b[0m\t \u001b[1m\u001b[92m[-1.23131083 -0.10568979]\u001b[0m\t \u001b[1m\u001b[92m-12.480806025290336\u001b[0m\t \u001b[1m\u001b[92m-12.480806025290336\u001b[0m\t \u001b[1m\u001b[92m-13.660227073482384\u001b[0m\n",
            "7  \t [ 1.89637978 -0.79302185]\t -13.600409081649428\t -12.480806025290336\t -12.09596306806347\n",
            "8  \t [-0.38408623 -5.12      ]\t -46.535254826880205\t -12.480806025290336\t -11.696940340224236\n",
            "9  \t [4.53003705 2.23266923]\t -54.24170978253194\t -12.480806025290336\t -11.55750182290089\n",
            "10 \t [ 5.12       -3.59598759]\t -60.09160861011537\t -12.480806025290336\t -11.669440308314254\n",
            "11 \t [2.14083816 5.12      ]\t -37.1743275199145\t -12.480806025290336\t -11.31122700034357\n",
            "12 \t [-2.40329457 -1.64489997]\t -42.82565822209674\t -12.480806025290336\t -10.3929023961758\n",
            "13 \t [-5.12        2.04203309]\t -33.441338993155945\t -12.480806025290336\t -9.79242338390404\n",
            "14 \t [-0.94074388  1.56251376]\t -23.250043704749814\t -12.480806025290336\t -9.530183497128828\n",
            "15 \t [ 2.34123991 -2.43952804]\t -46.143391700973034\t -12.480806025290336\t -9.300419325657368\n",
            "16 \t [ 0.44839355 -0.31403298]\t -33.69420693110914\t -12.480806025290336\t -8.77028716151039\n",
            "17 \t [-5.12       -2.99177031]\t -37.88876926689968\t -12.480806025290336\t -8.069555957010623\n",
            "18 \t [2.74016639 0.33614029]\t -33.39092505307696\t -12.480806025290336\t -7.972472365779479\n",
            "19 \t [-2.80731576  5.12      ]\t -43.28181828446644\t -12.480806025290336\t -7.304193895845717\n",
            "20 \t [-2.85520741  0.56164691]\t -31.58746909570913\t -12.480806025290336\t -6.639732714551228\n"
          ]
        }
      ]
    },
    {
      "cell_type": "code",
      "source": [
        "eval_exactMinIQR = eval('exact_' + str_exact)\n",
        "eval_exactMinIQR_minAcqFunc = eval_exactMinIQR.history[eval_exactMinIQR.history.index(eval_exactMinIQR.tau)-1]\n",
        "eval_exactMinIQR_simpleRegret  = np.log(-eval_exactMinIQR.tau + y_global_orig)\n",
        "\n",
        "eval_exactMinIQR.tau, eval_exactMinIQR_minAcqFunc, eval_exactMinIQR_simpleRegret\n"
      ],
      "metadata": {
        "colab": {
          "base_uri": "https://localhost:8080/"
        },
        "id": "M4bxQTTWCXFZ",
        "outputId": "90549e28-71f2-401d-8696-a534abaa2775"
      },
      "execution_count": 104,
      "outputs": [
        {
          "output_type": "execute_result",
          "data": {
            "text/plain": [
              "(-3.304937571276623, -13.413574047975152, 1.1954175839502463)"
            ]
          },
          "metadata": {},
          "execution_count": 104
        }
      ]
    },
    {
      "cell_type": "code",
      "source": [
        "### Final iteration: best \"exact\" experiment results (as above)\n",
        "\n",
        "np.random.seed(int(str_exact))\n",
        "eval_exactMinIQR.run(init_evals=n_init, max_iter=iters)\n"
      ],
      "metadata": {
        "colab": {
          "base_uri": "https://localhost:8080/"
        },
        "id": "WeKb1o143nLW",
        "outputId": "c8d756eb-b797-40df-cff8-3a71460e0521"
      },
      "execution_count": 105,
      "outputs": [
        {
          "output_type": "stream",
          "name": "stdout",
          "text": [
            "Evaluation \t Proposed point \t  Current eval. \t  Best eval. \t         Max AcqFunc.\n",
            "init\t [ 2.77832339 -4.90750004]\t -41.674330194390116\t -13.839458310244165\t    \n",
            "init\t [1.36855793 2.54775176]\t -44.69639719065837\t -13.839458310244165\t    \n",
            "init\t [-0.01528819 -2.81808235]\t -13.839458310244165\t -13.839458310244165\t    \n",
            "init\t [-3.09183626  2.66783449]\t -33.23221510904937\t -13.839458310244165\t    \n",
            "init\t [-3.38830503 -4.2154003 ]\t -54.73014366983691\t -13.839458310244165\t    \n",
            "1  \t [ 5.12       -0.53830217]\t -48.92629267922258\t -13.839458310244165\t -13.839193299462396\n",
            "2  \t [5.12 5.12]\t -57.849427451571785\t -13.839458310244165\t -13.838736940818274\n",
            "3  \t [-4.22754093 -0.73798976]\t -37.76417471725897\t -13.839458310244165\t -13.767410946664924\n",
            "4  \t [ 1.77944761 -0.72160778]\t -23.6219314007071\t -13.839458310244165\t -13.495993287041971\n",
            "5  \t [-4.5050859   5.00650982]\t -65.36419794062027\t -13.839458310244165\t -13.442488879648867\n",
            "6  \t [0.10579747 5.07144996]\t -28.850951888017963\t -13.839458310244165\t -13.416799619630586\n",
            "\u001b[1m\u001b[92m7\u001b[0m\t \u001b[1m\u001b[92m[-1.10430841 -0.00826503]\u001b[0m\t \u001b[1m\u001b[92m-3.304937571276623\u001b[0m\t \u001b[1m\u001b[92m-3.304937571276623\u001b[0m\t \u001b[1m\u001b[92m-13.413574047975152\u001b[0m\n",
            "8  \t [4.02447235 2.51756262]\t -42.59166081837165\t -3.304937571276623\t -2.1539734192063653\n",
            "9  \t [-0.53137903 -4.86686758]\t -47.07434955710461\t -3.304937571276623\t -2.2683482119377394\n",
            "10 \t [-0.93666847  0.62454078]\t -19.140164738802195\t -3.304937571276623\t -1.7427607821711704\n",
            "11 \t [-1.27350046 -1.65147014]\t -31.623247710938486\t -3.304937571276623\t -1.8044826831225333\n",
            "12 \t [ 4.37130588 -2.95944354]\t -45.0945962517404\t -3.304937571276623\t -1.6948966069365738\n",
            "13 \t [-5.12 -5.12]\t -57.8494274515718\t -3.304937571276623\t -0.48550367170020536\n",
            "14 \t [-5.12        1.64301018]\t -47.85157330243807\t -3.304937571276623\t -1.5713404571822207\n",
            "15 \t [2.77700547 4.67542814]\t -52.39863399663816\t -3.304937571276623\t -0.5700225762971199\n",
            "16 \t [-1.84996598  5.11863861]\t -36.398737849146066\t -3.304937571276623\t -0.7691549889063337\n",
            "17 \t [-2.45053553  0.58330932]\t -44.52729163203699\t -3.304937571276623\t -0.09946047979903568\n",
            "18 \t [-5.12       -2.57923472]\t -54.36329541155715\t -3.304937571276623\t -0.2822832310075321\n",
            "19 \t [ 1.48850798 -2.72487854]\t -41.18644351224248\t -3.304937571276623\t -0.37201653564126674\n",
            "20 \t [-0.76633817  2.58851034]\t -34.75596565544681\t -3.304937571276623\t -0.12828752828291434\n"
          ]
        }
      ]
    },
    {
      "cell_type": "code",
      "source": [
        "eval_exactMinIQR.tau > eval_exactMinIQR_vsCorrApproxExperiment.tau # Exact gradients' model: y-value is greater"
      ],
      "metadata": {
        "colab": {
          "base_uri": "https://localhost:8080/"
        },
        "id": "RRSEL9F33mw_",
        "outputId": "6d856546-ee7a-4afc-82a8-bbef7a686c89"
      },
      "execution_count": 106,
      "outputs": [
        {
          "output_type": "execute_result",
          "data": {
            "text/plain": [
              "True"
            ]
          },
          "metadata": {},
          "execution_count": 106
        }
      ]
    },
    {
      "cell_type": "code",
      "source": [
        "eval_exactMinIQR_minAcqFunc > eval_exactMinIQR_vsCorrApproxExperiment_minAcqFunc # Exact gradients' model: best AcqFunc is greater\n"
      ],
      "metadata": {
        "colab": {
          "base_uri": "https://localhost:8080/"
        },
        "id": "srZDKNlWGaUp",
        "outputId": "fee29f6a-bee2-46ec-c967-add20700c462"
      },
      "execution_count": 107,
      "outputs": [
        {
          "output_type": "execute_result",
          "data": {
            "text/plain": [
              "True"
            ]
          },
          "metadata": {},
          "execution_count": 107
        }
      ]
    },
    {
      "cell_type": "code",
      "source": [
        "eval_exactMinIQR_simpleRegret < eval_exactMinIQR_vsCorrApproxExperiment_simpleRegret # Exact gradients' model: simple regret's natural log is lower\n"
      ],
      "metadata": {
        "colab": {
          "base_uri": "https://localhost:8080/"
        },
        "id": "TYkP-rneGab3",
        "outputId": "8888eb44-0afb-476a-817b-43dd129a7d7e"
      },
      "execution_count": 108,
      "outputs": [
        {
          "output_type": "execute_result",
          "data": {
            "text/plain": [
              "True"
            ]
          },
          "metadata": {},
          "execution_count": 108
        }
      ]
    },
    {
      "cell_type": "code",
      "source": [
        ""
      ],
      "metadata": {
        "id": "10rcQ55YGajh"
      },
      "execution_count": 108,
      "outputs": []
    }
  ]
}