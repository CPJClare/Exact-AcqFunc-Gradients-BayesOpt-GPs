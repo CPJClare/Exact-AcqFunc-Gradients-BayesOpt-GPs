{
  "cells": [
    {
      "cell_type": "markdown",
      "metadata": {
        "id": "Dqn4dFx7Z2Ir"
      },
      "source": [
        "\n",
        "Booth: 2D\n"
      ]
    },
    {
      "cell_type": "code",
      "execution_count": 1,
      "metadata": {
        "colab": {
          "base_uri": "https://localhost:8080/"
        },
        "id": "MJTM_GZZZb5x",
        "outputId": "1de55f2c-8ed6-4fc7-ddce-6e5fb99567e5"
      },
      "outputs": [
        {
          "output_type": "stream",
          "name": "stdout",
          "text": [
            "Looking in indexes: https://pypi.org/simple, https://us-python.pkg.dev/colab-wheels/public/simple/\n",
            "Collecting pyGPGO\n",
            "  Downloading pyGPGO-0.5.1.tar.gz (14 kB)\n",
            "Requirement already satisfied: numpy in /usr/local/lib/python3.7/dist-packages (from pyGPGO) (1.21.6)\n",
            "Requirement already satisfied: mkl in /usr/local/lib/python3.7/dist-packages (from pyGPGO) (2019.0)\n",
            "Requirement already satisfied: scipy in /usr/local/lib/python3.7/dist-packages (from pyGPGO) (1.7.3)\n",
            "Requirement already satisfied: joblib in /usr/local/lib/python3.7/dist-packages (from pyGPGO) (1.1.0)\n",
            "Requirement already satisfied: scikit-learn in /usr/local/lib/python3.7/dist-packages (from pyGPGO) (1.0.2)\n",
            "Requirement already satisfied: Theano-PyMC in /usr/local/lib/python3.7/dist-packages (from pyGPGO) (1.1.2)\n",
            "Requirement already satisfied: pyMC3 in /usr/local/lib/python3.7/dist-packages (from pyGPGO) (3.11.5)\n",
            "Requirement already satisfied: intel-openmp in /usr/local/lib/python3.7/dist-packages (from mkl->pyGPGO) (2022.1.0)\n",
            "Requirement already satisfied: typing-extensions>=3.7.4 in /usr/local/lib/python3.7/dist-packages (from pyMC3->pyGPGO) (4.1.1)\n",
            "Requirement already satisfied: semver>=2.13.0 in /usr/local/lib/python3.7/dist-packages (from pyMC3->pyGPGO) (2.13.0)\n",
            "Requirement already satisfied: patsy>=0.5.1 in /usr/local/lib/python3.7/dist-packages (from pyMC3->pyGPGO) (0.5.2)\n",
            "Requirement already satisfied: cachetools>=4.2.1 in /usr/local/lib/python3.7/dist-packages (from pyMC3->pyGPGO) (4.2.4)\n",
            "Requirement already satisfied: deprecat in /usr/local/lib/python3.7/dist-packages (from pyMC3->pyGPGO) (2.1.1)\n",
            "Requirement already satisfied: arviz>=0.11.0 in /usr/local/lib/python3.7/dist-packages (from pyMC3->pyGPGO) (0.12.1)\n",
            "Requirement already satisfied: dill in /usr/local/lib/python3.7/dist-packages (from pyMC3->pyGPGO) (0.3.5.1)\n",
            "Requirement already satisfied: pandas>=0.24.0 in /usr/local/lib/python3.7/dist-packages (from pyMC3->pyGPGO) (1.3.5)\n",
            "Requirement already satisfied: fastprogress>=0.2.0 in /usr/local/lib/python3.7/dist-packages (from pyMC3->pyGPGO) (1.0.3)\n",
            "Requirement already satisfied: filelock in /usr/local/lib/python3.7/dist-packages (from Theano-PyMC->pyGPGO) (3.7.1)\n",
            "Requirement already satisfied: netcdf4 in /usr/local/lib/python3.7/dist-packages (from arviz>=0.11.0->pyMC3->pyGPGO) (1.6.0)\n",
            "Requirement already satisfied: matplotlib>=3.0 in /usr/local/lib/python3.7/dist-packages (from arviz>=0.11.0->pyMC3->pyGPGO) (3.2.2)\n",
            "Requirement already satisfied: xarray>=0.16.1 in /usr/local/lib/python3.7/dist-packages (from arviz>=0.11.0->pyMC3->pyGPGO) (0.20.2)\n",
            "Requirement already satisfied: setuptools>=38.4 in /usr/local/lib/python3.7/dist-packages (from arviz>=0.11.0->pyMC3->pyGPGO) (57.4.0)\n",
            "Requirement already satisfied: xarray-einstats>=0.2 in /usr/local/lib/python3.7/dist-packages (from arviz>=0.11.0->pyMC3->pyGPGO) (0.2.2)\n",
            "Requirement already satisfied: packaging in /usr/local/lib/python3.7/dist-packages (from arviz>=0.11.0->pyMC3->pyGPGO) (21.3)\n",
            "Requirement already satisfied: python-dateutil>=2.1 in /usr/local/lib/python3.7/dist-packages (from matplotlib>=3.0->arviz>=0.11.0->pyMC3->pyGPGO) (2.8.2)\n",
            "Requirement already satisfied: cycler>=0.10 in /usr/local/lib/python3.7/dist-packages (from matplotlib>=3.0->arviz>=0.11.0->pyMC3->pyGPGO) (0.11.0)\n",
            "Requirement already satisfied: pyparsing!=2.0.4,!=2.1.2,!=2.1.6,>=2.0.1 in /usr/local/lib/python3.7/dist-packages (from matplotlib>=3.0->arviz>=0.11.0->pyMC3->pyGPGO) (3.0.9)\n",
            "Requirement already satisfied: kiwisolver>=1.0.1 in /usr/local/lib/python3.7/dist-packages (from matplotlib>=3.0->arviz>=0.11.0->pyMC3->pyGPGO) (1.4.4)\n",
            "Requirement already satisfied: pytz>=2017.3 in /usr/local/lib/python3.7/dist-packages (from pandas>=0.24.0->pyMC3->pyGPGO) (2022.1)\n",
            "Requirement already satisfied: six in /usr/local/lib/python3.7/dist-packages (from patsy>=0.5.1->pyMC3->pyGPGO) (1.15.0)\n",
            "Requirement already satisfied: importlib-metadata in /usr/local/lib/python3.7/dist-packages (from xarray>=0.16.1->arviz>=0.11.0->pyMC3->pyGPGO) (4.12.0)\n",
            "Requirement already satisfied: wrapt<2,>=1.10 in /usr/local/lib/python3.7/dist-packages (from deprecat->pyMC3->pyGPGO) (1.14.1)\n",
            "Requirement already satisfied: zipp>=0.5 in /usr/local/lib/python3.7/dist-packages (from importlib-metadata->xarray>=0.16.1->arviz>=0.11.0->pyMC3->pyGPGO) (3.8.1)\n",
            "Requirement already satisfied: cftime in /usr/local/lib/python3.7/dist-packages (from netcdf4->arviz>=0.11.0->pyMC3->pyGPGO) (1.6.1)\n",
            "Requirement already satisfied: threadpoolctl>=2.0.0 in /usr/local/lib/python3.7/dist-packages (from scikit-learn->pyGPGO) (3.1.0)\n",
            "Building wheels for collected packages: pyGPGO\n",
            "  Building wheel for pyGPGO (setup.py) ... \u001b[?25l\u001b[?25hdone\n",
            "  Created wheel for pyGPGO: filename=pyGPGO-0.5.1-py3-none-any.whl size=19879 sha256=585c1cd16462a26a6ba8a34173c62dd2695a78b040e64ba36eb9ea809548c4ac\n",
            "  Stored in directory: /root/.cache/pip/wheels/c8/5d/0b/2160114e2f1b87791c51b66cf07f89831dbb6f49167950316f\n",
            "Successfully built pyGPGO\n",
            "Installing collected packages: pyGPGO\n",
            "Successfully installed pyGPGO-0.5.1\n"
          ]
        }
      ],
      "source": [
        "pip install pyGPGO\n"
      ]
    },
    {
      "cell_type": "code",
      "execution_count": 2,
      "metadata": {
        "id": "ZJSSPbwPaEUB"
      },
      "outputs": [],
      "source": [
        "### Import:\n",
        "\n",
        "import numpy as np\n",
        "import scipy as sp\n",
        "import pandas as pd\n",
        "import matplotlib.pyplot as plt\n",
        "import warnings\n",
        "import itertools\n",
        "\n",
        "from pyGPGO.GPGO import GPGO\n",
        "from pyGPGO.surrogates.GaussianProcess import GaussianProcess\n",
        "from pyGPGO.acquisition import Acquisition\n",
        "from pyGPGO.covfunc import squaredExponential\n",
        "\n",
        "from joblib import Parallel, delayed\n",
        "from numpy.linalg import solve, cholesky\n",
        "from scipy.spatial.distance import cdist\n",
        "from scipy.optimize import minimize\n",
        "from scipy.stats import norm\n",
        "import time\n",
        "\n",
        "warnings.filterwarnings(\"ignore\", category=RuntimeWarning)\n"
      ]
    },
    {
      "cell_type": "code",
      "execution_count": 3,
      "metadata": {
        "id": "OeYcTUNoaJWa"
      },
      "outputs": [],
      "source": [
        "### Inputs:\n",
        "\n",
        "func = 'Booth'\n",
        "n_test = 500\n",
        "eps = 1e-08\n",
        "\n",
        "util = 'EI'\n",
        "\n",
        "n_init = 5 # random initialisations\n",
        "iters = 20\n",
        "opt = True"
      ]
    },
    {
      "cell_type": "code",
      "execution_count": 4,
      "metadata": {
        "id": "xpaEOjdzaPMS"
      },
      "outputs": [],
      "source": [
        "### Objective Function - Booth(x) 2-D:\n",
        "\n",
        "def objfunc(x1_training, x2_training):\n",
        "            return  operator * ( (x1_training + 2 * x2_training -7) ** 2 +\n",
        "                                 (2 * x1_training + x2_training -5) ** 2\n",
        "                            )\n",
        "        \n",
        "# Constraints:\n",
        "lb = -10\n",
        "ub = +10\n",
        "    \n",
        "# Input array dimension(s):\n",
        "dim = 2\n",
        "\n",
        "# 2-D inputs' parameter bounds:\n",
        "param = {'x1_training': ('cont', [lb, ub]),\n",
        "                 'x2_training': ('cont', [lb, ub])\n",
        "                 }\n",
        "    \n",
        "# True y bounds:\n",
        "y_lb = 0\n",
        "operator = -1 # targets global minimum \n",
        "y_global_orig = y_lb * operator # targets global minimum\n",
        "    \n",
        "# Test data:\n",
        "x1_test = np.linspace(lb, ub, n_test)\n",
        "x2_test = np.linspace(lb, ub, n_test)\n",
        "x_test = np.column_stack((x1_test, x2_test))\n"
      ]
    },
    {
      "cell_type": "code",
      "execution_count": 5,
      "metadata": {
        "id": "eYpI3Zm4aGxi"
      },
      "outputs": [],
      "source": [
        "n_start_AcqFunc = iters\n",
        "inverse = -1\n"
      ]
    },
    {
      "cell_type": "code",
      "execution_count": 6,
      "metadata": {
        "id": "oO_GUmOoaV0T"
      },
      "outputs": [],
      "source": [
        "### Cumulative Regret Calculators:\n",
        "\n",
        "def min_max_array(x):\n",
        "    new_list = []\n",
        "    for i, num in enumerate(x):\n",
        "            new_list.append(np.min(x[0:i+1]))\n",
        "    return new_list\n",
        "  \n",
        "def acqFuncExact(x):\n",
        "    new_array = []\n",
        "    x = np.array(x) \n",
        "    for i, num in enumerate(x):\n",
        "            new_array = x[:-2][::-3]\n",
        "    return new_array[::-1]\n",
        "\n",
        "def acqFuncApprox(x):\n",
        "    new_array = []\n",
        "    x = np.array(x) \n",
        "    for i, num in enumerate(x):\n",
        "            new_array = x[:-1][::-3]\n",
        "    return new_array[::-1]\n"
      ]
    },
    {
      "cell_type": "code",
      "execution_count": 7,
      "metadata": {
        "id": "kuuJx0IMam9S"
      },
      "outputs": [],
      "source": [
        "### Surrogate derivatives: \n",
        "\n",
        "cov_func = squaredExponential()\n",
        "\n",
        "def kronDelta(X, Xstar):                     # Kronecker's Delta method\n",
        "    return cdist(X, Xstar) < np.finfo(np.float32).eps\n",
        "\n",
        "def se(X, Xstar, sigmaf, l, sigman):         # S.E. kernel method\n",
        "    return sigmaf * np.exp(-0.5 * cdist(X, Xstar) ** 2 / l ** 2) + sigman * kronDelta(X, Xstar)\n",
        "\n",
        "def delta(X, Xstar):                         # Distance between training X and test Xstar vectors\n",
        "    return (X - Xstar)\n",
        "   \n",
        "def der_covmat(X, Xstar, sigmaf, l, sigman): # Covariance matrix derivative terms (i.e. exact, first-order)\n",
        "    nx = len(X)\n",
        "    ny = len(Xstar)\n",
        "    return np.round(np.array([(delta(np.atleast_2d(i), np.atleast_2d(j))[0] * se(np.atleast_2d(i), np.atleast_2d(j), sigmaf, l, sigman)[0]).sum() for (i, j) in itertools.product(X, Xstar)]).reshape(nx, ny), 8)\n",
        "\n",
        "class dGaussianProcess(GaussianProcess):    # Via inheritance, also optimises hyperparameters when opt = TRUE\n",
        "    \n",
        "    def AcqGrad(self, Xstar):               # Method returning exact, first-order derivatives of the GP's posterior mean and standard deviation\n",
        "        Xstar = np.atleast_2d(Xstar)\n",
        "        Kstar = self.covfunc.K(self.X, Xstar).T\n",
        "        \n",
        "        dKstar = der_covmat(self.X, Xstar, self.covfunc.sigmaf, self.covfunc.l, self.covfunc.sigman).T\n",
        "        alpha_Kstar = np.dot(np.linalg.inv(self.K + (self.covfunc.sigman**2) * np.eye(len(self.X))), Kstar.T)\n",
        "        \n",
        "        dm = np.dot(dKstar, self.alpha)\n",
        "        ds = -2 * np.dot(dKstar, alpha_Kstar)\n",
        "        \n",
        "        return dm, ds           \n"
      ]
    },
    {
      "cell_type": "code",
      "execution_count": 8,
      "metadata": {
        "id": "_Dc3YVHVaXz7"
      },
      "outputs": [],
      "source": [
        "### Add exact acquisition function gradient as attribute:\n",
        "\n",
        "class Acquisition_grad(Acquisition):    \n",
        "    def __init__(self, mode, eps=eps, **params):\n",
        "        \n",
        "        self.params = params\n",
        "        self.eps = eps\n",
        "\n",
        "        mode_dict = {\n",
        "            'EI': self.EI\n",
        "        }\n",
        "\n",
        "        self.f = mode_dict[mode]\n",
        "    \n",
        "    def EI(self, tau, mean, std, ds, dm):\n",
        "        gamma = (mean - tau - self.eps) / (std + self.eps)\n",
        "        gamma_h = (mean - tau) / (std + self.eps)\n",
        "        dsdx = ds / (2 * (std + self.eps))\n",
        "        dmdx = (dm - gamma * dsdx) / (std + self.eps)\n",
        "        \n",
        "        f = (std + self.eps) * (gamma * norm.cdf(gamma) + norm.pdf(gamma))\n",
        "        df1 = f / (std + self.eps) * dsdx \n",
        "        df2 = (std + self.eps) * norm.cdf(gamma) * dmdx\n",
        "        df = (df1 + df2)[0]\n",
        "        df_arr = []\n",
        "\n",
        "        for j in range(0, dim):\n",
        "          df_arr.append(df)\n",
        "        return f, np.asarray(df_arr).transpose()\n",
        "        \n",
        "    def d_eval(self, tau, mean, std, ds, dm):\n",
        "    \n",
        "        return self.f(tau, mean, std, ds, dm, **self.params)\n",
        "        "
      ]
    },
    {
      "cell_type": "code",
      "execution_count": 9,
      "metadata": {
        "id": "PITEQC8YSl7i"
      },
      "outputs": [],
      "source": [
        "## GPGO_multi: \n",
        "\n",
        "class GPGO_multi(GPGO):\n",
        "    n_start = n_start_AcqFunc\n",
        "\n",
        "    def __init__(self, surrogate, acquisition, f, parameter_dict, n_jobs=1):\n",
        "        self.GP = surrogate\n",
        "        self.A = acquisition\n",
        "        self.f = f\n",
        "        self.parameters = parameter_dict\n",
        "        self.n_jobs = n_jobs\n",
        "\n",
        "        self.parameter_key = list(parameter_dict.keys())\n",
        "        self.parameter_value = list(parameter_dict.values())\n",
        "        self.parameter_type = [p[0] for p in self.parameter_value]\n",
        "        self.parameter_range = [p[1] for p in self.parameter_value]\n",
        "\n",
        "        self.history = []\n",
        "        self.header =   'Evaluation \\t Proposed point \\t  Current eval. \\t  Best eval. \\t        Exact EI: StdDev. x \\t Approx EI: StdDev. x '\n",
        "        self.template = '{:3}\\t {}\\t {:3}\\t {:3}\\t {:3}\\t {:3}'\n",
        " \n",
        "    def acqfuncExact(self, xnew, n_start=n_start_AcqFunc):\n",
        "        new_mean, new_var = self.GP.predict(xnew, return_std=True)\n",
        "        new_std = np.sqrt(new_var + eps)\n",
        "        dm, ds = self.GP.AcqGrad(xnew)\n",
        "        f, df = self.A.d_eval(self.tau, new_mean, new_std, ds=ds, dm=dm)\n",
        "\n",
        "        return -f, -df\n",
        "   \n",
        "    def acqfuncApprox(self, xnew, n_start=n_start_AcqFunc):\n",
        "        new_mean, new_var = self.GP.predict(xnew, return_std=True)\n",
        "        new_std = np.sqrt(new_var + eps)\n",
        "        dm, ds = self.GP.AcqGrad(xnew)\n",
        "        f, df = self.A.d_eval(self.tau, new_mean, new_std, ds=ds, dm=dm)\n",
        "\n",
        "        return -f\n",
        "   \n",
        "    def _optimizeAcq(self, method='L-BFGS-B', n_start=n_start_AcqFunc):\n",
        "        \n",
        "        start_points_dict = [self._sampleParam() for i in range(n_start)]\n",
        "        start_points_arr = np.array([list(s.values())\n",
        "                                     for s in start_points_dict])\n",
        "        x_best = np.empty((n_start, len(self.parameter_key)))\n",
        "        f_best = np.empty((n_start,))\n",
        "        opt = Parallel(n_jobs=self.n_jobs)(delayed(minimize)(self.acqfuncApprox,\n",
        "                                                                 x0=start_point,\n",
        "                                                                 method=method,\n",
        "                                                                 jac = False,\n",
        "                                                                 bounds=self.parameter_range) for start_point in\n",
        "                                               start_points_arr)\n",
        "        x_best = np.array([res.x for res in opt])\n",
        "        f_best = np.array([np.atleast_1d(res.fun)[0] for res in opt])\n",
        "        f_best_min = min(f_best)\n",
        "\n",
        "        self.x_best = x_best\n",
        "        self.f_best = f_best\n",
        "        self.f_best_min = f_best_min\n",
        "        self.x_best_std = np.std(x_best)\n",
        "        self.best = x_best[np.argmin(f_best)]\n",
        "        self.start_points_arr = start_points_arr        \n",
        "        self.history.append(self.x_best_std)\n",
        "\n",
        "        x_best_exact = np.empty((n_start, len(self.parameter_key)))\n",
        "        f_best_exact = np.empty((n_start,))\n",
        "        opt_exact = Parallel(n_jobs=self.n_jobs)(delayed(minimize)(self.acqfuncExact,\n",
        "                                                                 x0=start_point,\n",
        "                                                                 method=method,\n",
        "                                                                 jac = True,\n",
        "                                                                 bounds=self.parameter_range) for start_point in\n",
        "                                               start_points_arr)\n",
        "        x_best_exact = np.array([res.x for res in opt_exact])\n",
        "        f_best_exact = np.array([np.atleast_1d(res.fun)[0] for res in opt_exact])\n",
        "        f_best_min_exact = min(f_best_exact)\n",
        "\n",
        "        self.x_best_exact = x_best_exact\n",
        "        self.f_best_exact = f_best_exact\n",
        "        self.f_best_min_exact = f_best_min_exact\n",
        "        self.x_best_std_exact = np.std(x_best_exact)\n",
        "        self.best_exact = x_best_exact[np.argmin(f_best_exact)]\n",
        "        self.start_points_arr = start_points_arr\n",
        "        self.history.append(self.x_best_std_exact)\n",
        "\n",
        "    def _printInit(self):\n",
        "        print(self.header)\n",
        "        for init_eval in range(self.init_evals):\n",
        "            print(self.template.format('init', self.GP.X[init_eval], inverse * self.GP.y[init_eval], inverse * self.tau, '', ''))\n",
        "      \n",
        "    def _printCurrent(self):\n",
        "        OKGREEN = '\\033[92m'\n",
        "        ENDC = '\\033[0m'\n",
        "        BOLD = '\\033[1m'\n",
        "        eval = str(len(self.GP.y) - self.init_evals)\n",
        "        proposed = str(self.best)\n",
        "        curr_eval = str(inverse * self.GP.y[-1])\n",
        "        curr_best = str(inverse * self.tau)\n",
        "        min_acqfunc = str(self.f_best_min)\n",
        "        min_acqfunc_exact = str(self.f_best_min_exact)\n",
        "        x_best_std = str(self.x_best_std)\n",
        "        x_best_std_exact = str(self.x_best_std_exact)\n",
        "        if float(curr_eval) <= float(curr_best):\n",
        "            eval = BOLD + OKGREEN + eval + ENDC\n",
        "            proposed = BOLD + OKGREEN + proposed + ENDC\n",
        "            curr_eval = BOLD + OKGREEN + curr_eval + ENDC\n",
        "            curr_best = BOLD + OKGREEN + curr_best + ENDC\n",
        "            x_best_std = BOLD + OKGREEN + x_best_std + ENDC\n",
        "            x_best_std_exact = BOLD + OKGREEN + x_best_std_exact + ENDC\n",
        "        print(self.template.format(eval, proposed, curr_eval, curr_best, x_best_std_exact, x_best_std))\n",
        "        \n",
        "    def run(self, max_iter=10, init_evals=3, resume=False):\n",
        "        \n",
        "        if not resume:\n",
        "            self.init_evals = init_evals\n",
        "            self._firstRun(self.init_evals)\n",
        "            self._printInit()\n",
        "        for iteration in range(max_iter):\n",
        "            self._optimizeAcq()\n",
        "            self.updateGP()\n",
        "            self._printCurrent()\n"
      ]
    },
    {
      "cell_type": "code",
      "execution_count": 10,
      "metadata": {
        "id": "b_B-w81BJxKN"
      },
      "outputs": [],
      "source": [
        "## dGPGO:\n",
        "\n",
        "class dGPGO(GPGO):\n",
        "    n_start = n_start_AcqFunc\n",
        "\n",
        "    def __init__(self, surrogate, acquisition, f, parameter_dict, n_jobs=1):\n",
        "        self.GP = surrogate\n",
        "        self.A = acquisition\n",
        "        self.f = f\n",
        "        self.parameters = parameter_dict\n",
        "        self.n_jobs = n_jobs\n",
        "\n",
        "        self.parameter_key = list(parameter_dict.keys())\n",
        "        self.parameter_value = list(parameter_dict.values())\n",
        "        self.parameter_type = [p[0] for p in self.parameter_value]\n",
        "        self.parameter_range = [p[1] for p in self.parameter_value]\n",
        "\n",
        "        self.history = []\n",
        "        self.header =   'Evaluation \\t Proposed point \\t  Current eval. \\t  Best eval. \\t        Exact EI: StdDev. x \\t Approx EI: StdDev. x '\n",
        "        self.template = '{:3}\\t {}\\t {:3}\\t {:3}\\t {:3}\\t {:3}'\n",
        "\n",
        "    def acqfuncExact(self, xnew, n_start=n_start_AcqFunc):\n",
        "        new_mean, new_var = self.GP.predict(xnew, return_std=True)\n",
        "        new_std = np.sqrt(new_var + eps)\n",
        "        dm, ds = self.GP.AcqGrad(xnew)\n",
        "        f, df = self.A.d_eval(self.tau, new_mean, new_std, ds=ds, dm=dm)\n",
        "\n",
        "        return -f, -df\n",
        "   \n",
        "    def acqfuncApprox(self, xnew, n_start=n_start_AcqFunc):\n",
        "        new_mean, new_var = self.GP.predict(xnew, return_std=True)\n",
        "        new_std = np.sqrt(new_var + eps)\n",
        "        dm, ds = self.GP.AcqGrad(xnew)\n",
        "        f, df = self.A.d_eval(self.tau, new_mean, new_std, ds=ds, dm=dm)\n",
        "\n",
        "        return -f\n",
        "\n",
        "    def d_optimizeAcq(self, method='L-BFGS-B', n_start=n_start_AcqFunc):\n",
        "        start_points_dict = [self._sampleParam() for i in range(n_start)]\n",
        "        start_points_arr = np.array([list(s.values())\n",
        "                                     for s in start_points_dict])\n",
        "        x_best = np.empty((n_start, len(self.parameter_key)))\n",
        "        f_best = np.empty((n_start,))\n",
        "        opt = Parallel(n_jobs=self.n_jobs)(delayed(minimize)(self.acqfuncExact,\n",
        "                                                                 x0=start_point,\n",
        "                                                                 method=method,\n",
        "                                                                 jac = True,\n",
        "                                                                 bounds=self.parameter_range) for start_point in\n",
        "                                               start_points_arr)\n",
        "        x_best = np.array([res.x for res in opt])\n",
        "        f_best = np.array([np.atleast_1d(res.fun)[0] for res in opt])\n",
        "        f_best_min = min(f_best)\n",
        "\n",
        "        self.x_best = x_best\n",
        "        self.f_best = f_best\n",
        "        self.f_best_min = f_best_min\n",
        "        self.x_best_std = np.std(x_best)\n",
        "        self.best = x_best[np.argmin(f_best)]\n",
        "        self.start_points_arr = start_points_arr\n",
        "        self.history.append(self.x_best_std)\n",
        "\n",
        "        x_best_approx = np.empty((n_start, len(self.parameter_key)))\n",
        "        f_best_approx = np.empty((n_start,))\n",
        "        opt_approx = Parallel(n_jobs=self.n_jobs)(delayed(minimize)(self.acqfuncApprox,\n",
        "                                                                 x0=start_point,\n",
        "                                                                 method=method,\n",
        "                                                                 jac = False,\n",
        "                                                                 bounds=self.parameter_range) for start_point in\n",
        "                                               start_points_arr)\n",
        "        x_best_approx = np.array([res.x for res in opt_approx])\n",
        "        f_best_approx = np.array([np.atleast_1d(res.fun)[0] for res in opt_approx])\n",
        "        f_best_min_approx = min(f_best_approx)\n",
        "\n",
        "        self.x_best_approx = x_best_approx\n",
        "        self.f_best_approx = f_best_approx\n",
        "        self.f_best_min_approx = f_best_min_approx\n",
        "        self.x_best_std_approx = np.std(x_best_approx)\n",
        "        self.best_approx = x_best_approx[np.argmin(f_best_approx)]\n",
        "        self.start_points_arr = start_points_arr\n",
        "        self.history.append(self.x_best_std_approx)\n",
        "    \n",
        "    def _printInit(self):\n",
        "        print(self.header)\n",
        "        for init_eval in range(self.init_evals):\n",
        "            print(self.template.format('init', self.GP.X[init_eval], inverse * self.GP.y[init_eval], inverse * self.tau, '', ''))\n",
        "      \n",
        "    def _printCurrent(self):\n",
        "        OKGREEN = '\\033[92m'\n",
        "        ENDC = '\\033[0m'\n",
        "        BOLD = '\\033[1m'\n",
        "        eval = str(len(self.GP.y) - self.init_evals)\n",
        "        proposed = str(self.best)\n",
        "        curr_eval = str(inverse * self.GP.y[-1])\n",
        "        curr_best = str(inverse * self.tau)\n",
        "        min_acqfunc = str(self.f_best_min)\n",
        "        min_acqfunc_approx = str(self.f_best_min_approx)\n",
        "        x_best_std = str(self.x_best_std)\n",
        "        x_best_std_approx = str(self.x_best_std_approx)\n",
        "        if float(curr_eval) <= float(curr_best):\n",
        "            eval = BOLD + OKGREEN + eval + ENDC\n",
        "            proposed = BOLD + OKGREEN + proposed + ENDC\n",
        "            curr_eval = BOLD + OKGREEN + curr_eval + ENDC\n",
        "            curr_best = BOLD + OKGREEN + curr_best + ENDC\n",
        "            x_best_std = BOLD + OKGREEN + x_best_std + ENDC\n",
        "            x_best_std_approx = BOLD + OKGREEN + x_best_std_approx + ENDC\n",
        "        print(self.template.format(eval, proposed, curr_eval, curr_best, x_best_std, x_best_std_approx))\n",
        "\n",
        "    def run(self, max_iter=10, init_evals=3, resume=False):\n",
        "        \n",
        "        if not resume:\n",
        "            self.init_evals = init_evals\n",
        "            self._firstRun(self.init_evals)\n",
        "            self._printInit()\n",
        "        for iteration in range(max_iter):\n",
        "            self.d_optimizeAcq()\n",
        "            self.updateGP()\n",
        "            self._printCurrent()\n"
      ]
    },
    {
      "cell_type": "code",
      "execution_count": 11,
      "metadata": {
        "id": "qXIKGuXVGEg2"
      },
      "outputs": [],
      "source": [
        "###Reproducible set-seeds:\n",
        "\n",
        "run_num_1 = 1\n",
        "run_num_2 = 2\n",
        "run_num_3 = 3\n",
        "run_num_4 = 4\n",
        "run_num_5 = 5\n",
        "run_num_6 = 6\n",
        "run_num_7 = 7\n",
        "run_num_8 = 8\n",
        "run_num_9 = 9\n",
        "run_num_10 = 10\n",
        "run_num_11 = 11\n",
        "run_num_12 = 12\n",
        "run_num_13 = 13\n",
        "run_num_14 = 14\n",
        "run_num_15 = 15\n",
        "run_num_16 = 16\n",
        "run_num_17 = 17\n",
        "run_num_18 = 18\n",
        "run_num_19 = 19\n",
        "run_num_20 = 20\n"
      ]
    },
    {
      "cell_type": "code",
      "execution_count": 12,
      "metadata": {
        "colab": {
          "base_uri": "https://localhost:8080/"
        },
        "id": "JEhagQmnTVIK",
        "outputId": "c8307968-4dee-4e23-f05b-a9febee1821f"
      },
      "outputs": [
        {
          "output_type": "execute_result",
          "data": {
            "text/plain": [
              "1659529871.214139"
            ]
          },
          "metadata": {},
          "execution_count": 12
        }
      ],
      "source": [
        "start_approx = time.time()\n",
        "start_approx\n"
      ]
    },
    {
      "cell_type": "code",
      "execution_count": 13,
      "metadata": {
        "colab": {
          "base_uri": "https://localhost:8080/"
        },
        "id": "aH0YSTXufD1v",
        "outputId": "f30cf62e-983b-476b-e045-e821c445a714"
      },
      "outputs": [
        {
          "output_type": "stream",
          "name": "stdout",
          "text": [
            "Evaluation \t Proposed point \t  Current eval. \t  Best eval. \t        Exact EI: StdDev. x \t Approx EI: StdDev. x \n",
            "init\t [-1.65955991  4.40648987]\t 15.332210716052247\t 15.332210716052247\t    \t    \n",
            "init\t [-9.9977125  -3.95334855]\t 1458.2611077633842\t 15.332210716052247\t    \t    \n",
            "init\t [-7.06488218 -8.1532281 ]\t 1666.779874000304\t 15.332210716052247\t    \t    \n",
            "init\t [-6.27479577 -3.08878546]\t 804.3371752309802\t 15.332210716052247\t    \t    \n",
            "init\t [-2.06465052  0.77633468]\t 126.2019077328938\t 15.332210716052247\t    \t    \n",
            "1  \t [ 7.89213327 -8.29911577]\t 252.857497365554\t 15.332210716052247\t 6.624156874827542\t 6.8913272043591975\n",
            "2  \t [7.66612182 2.47344414]\t 195.49152221204983\t 15.332210716052247\t 6.10859145748814\t 6.142979934160932\n",
            "3  \t [1.62717855 9.40039978]\t 238.9058988758153\t 15.332210716052247\t 6.369595532471226\t 6.125446709960312\n",
            "4  \t [-9.56950389  8.95940422]\t 232.24098716076017\t 15.332210716052247\t 6.330168650309316\t 6.713044213034362\n",
            "5  \t [ 2.56152397 -4.28847437]\t 186.75205921539708\t 15.332210716052247\t 5.98698721645626\t 6.08400924198963\n",
            "6  \t [-0.77314232 -9.35359995]\t 954.0148537268537\t 15.332210716052247\t 6.232764600456597\t 6.374079278631375\n",
            "7  \t [-9.58421475  2.47659889]\t 605.816070757159\t 15.332210716052247\t 6.250627750388575\t 6.321717705057458\n",
            "8  \t [7.63440878 8.56528541]\t 670.3179346246161\t 15.332210716052247\t 6.496510474845788\t 7.207172925614549\n",
            "9  \t [10.         -2.84411614]\t 154.99210516348626\t 15.332210716052247\t 6.494534354291709\t 6.264576763927525\n",
            "10 \t [2.89184629 4.19959062]\t 43.24602868470144\t 15.332210716052247\t 6.389845191505486\t 6.2060230067399\n",
            "11 \t [-4.00725284 10.        ]\t 89.9567459548784\t 15.332210716052247\t 5.8162184099789584\t 6.391050900141586\n",
            "12 \t [-5.7119823   5.65552542]\t 117.92189145030221\t 15.332210716052247\t 6.5592420720835936\t 5.834846957480857\n",
            "13 \t [3.64498787 0.06703346]\t 15.929980390384685\t 15.332210716052247\t 5.687368891175349\t 5.492873287341727\n",
            "14 \t [-1.81198201 -4.5229056 ]\t 491.74095941328164\t 15.332210716052247\t 6.277584924801749\t 6.024073546476751\n",
            "15 \t [  3.87223052 -10.        ]\t 587.5365666788649\t 15.332210716052247\t 6.2326279747367686\t 5.20539492610969\n",
            "16 \t [ 6.12205217 -2.23491229]\t 53.69067468318376\t 15.332210716052247\t 5.966973198484144\t 6.19758758462738\n",
            "17 \t [-5.64505233  1.42471823]\t 316.93380348898825\t 15.332210716052247\t 6.921432817635589\t 5.92683369981302\n",
            "18 \t [10.          5.30631963]\t 597.6505649795124\t 15.332210716052247\t 6.052628200251142\t 5.853798621633417\n",
            "19 \t [-1.6624854   7.31027588]\t 36.52816047740632\t 15.332210716052247\t 7.0071358681323925\t 6.441948583137976\n",
            "20 \t [ 0.93016187 -0.98422238]\t 81.62053195840215\t 15.332210716052247\t 5.89619374631408\t 6.361734080220896\n"
          ]
        }
      ],
      "source": [
        "### ESTIMATED GP EI GRADIENTS\n",
        "\n",
        "np.random.seed(run_num_1)\n",
        "surrogate_approx_1 = dGaussianProcess(cov_func, optimize=opt)\n",
        "\n",
        "approx_1 = GPGO_multi(surrogate_approx_1, Acquisition_grad(util), objfunc, param)\n",
        "approx_1.run(init_evals=n_init, max_iter=iters)\n"
      ]
    },
    {
      "cell_type": "code",
      "execution_count": 14,
      "metadata": {
        "id": "wTxsSZxFGBB5",
        "colab": {
          "base_uri": "https://localhost:8080/"
        },
        "outputId": "a679fbab-afc4-47cc-ad8b-6d87c57c015a"
      },
      "outputs": [
        {
          "output_type": "stream",
          "name": "stdout",
          "text": [
            "Evaluation \t Proposed point \t  Current eval. \t  Best eval. \t        Exact EI: StdDev. x \t Approx EI: StdDev. x \n",
            "init\t [-1.28010196 -9.48147536]\t 1032.6027521517153\t 92.40504507724606\t    \t    \n",
            "init\t [ 0.99324956 -1.29355215]\t 92.40504507724606\t 92.40504507724606\t    \t    \n",
            "init\t [-1.59264396 -3.39330358]\t 370.5851459944721\t 92.40504507724606\t    \t    \n",
            "init\t [-5.90702732  2.38541933]\t 274.38308294748543\t 92.40504507724606\t    \t    \n",
            "init\t [-4.00690653 -4.6634545 ]\t 725.9498417670716\t 92.40504507724606\t    \t    \n",
            "1  \t [4.01504693 9.2910216 ]\t 395.07910702982895\t 92.40504507724606\t 6.499174746678529\t 6.484694580492437\n",
            "2  \t [10.         -9.54137374]\t 288.451367036184\t 92.40504507724606\t 6.005296724064095\t 6.700399480203057\n",
            "3  \t [10.         -0.21661193]\t 225.13690276100877\t 92.40504507724606\t 6.9398699630436\t 6.48565780007411\n",
            "4  \t [-10.  10.]\t 234.0\t 92.40504507724606\t 6.802034304709569\t 7.188810580681683\n",
            "5  \t [-10. -10.]\t 2594.0\t 92.40504507724606\t 7.372757769267714\t 6.892246907233422\n",
            "\u001b[1m\u001b[92m6\u001b[0m\t \u001b[1m\u001b[92m[-3.25263411  9.0402141 ]\u001b[0m\t \u001b[1m\u001b[92m67.3508521501691\u001b[0m\t \u001b[1m\u001b[92m67.3508521501691\u001b[0m\t \u001b[1m\u001b[92m6.800582178757292\u001b[0m\t \u001b[1m\u001b[92m6.436147061391819\u001b[0m\n",
            "7  \t [-9.9327856 -2.3413386]\t 1207.4441726292966\t 67.3508521501691\t 6.757685823838986\t 5.7055453427044505\n",
            "8  \t [ 4.29793185 -6.32359436]\t 243.04020098963258\t 67.3508521501691\t 5.150677901488985\t 4.9107460115062\n",
            "9  \t [10.          6.33181036]\t 700.3951474624612\t 67.3508521501691\t 5.890848225060839\t 6.018246390669839\n",
            "10 \t [4.72858417 3.17859532]\t 74.99844243544217\t 67.3508521501691\t 6.235983325672515\t 6.432590416363494\n",
            "\u001b[1m\u001b[92m11\u001b[0m\t \u001b[1m\u001b[92m[-0.54541261  4.30965554]\u001b[0m\t \u001b[1m\u001b[92m4.325823373192982\u001b[0m\t \u001b[1m\u001b[92m4.325823373192982\u001b[0m\t \u001b[1m\u001b[92m6.473492121934996\u001b[0m\t \u001b[1m\u001b[92m6.217862346599561\u001b[0m\n",
            "12 \t [-10.           5.03071993]\t 446.9157631403388\t 4.325823373192982\t 4.691098024563196\t 5.0532316955532295\n",
            "13 \t [ 5.5222889  -1.62714586]\t 41.90555563708139\t 4.325823373192982\t 6.161552633673513\t 6.11592100975885\n",
            "14 \t [0.23265562 7.23106428]\t 66.48014444144924\t 4.325823373192982\t 6.130374017752523\t 5.99633299043584\n",
            "15 \t [-1.79248574  1.47092463]\t 84.83960963140652\t 4.325823373192982\t 5.247824795353093\t 5.3691171280582415\n",
            "16 \t [-6.15079389  6.776751  ]\t 110.93436283415969\t 4.325823373192982\t 5.362765823813723\t 5.460189660079704\n",
            "17 \t [ 9.07492346 -4.85125645]\t 127.04672456064964\t 4.325823373192982\t 5.726591092020285\t 5.600663358960185\n",
            "18 \t [-5.60605911 -8.82453344]\t 1542.2065752236485\t 4.325823373192982\t 5.658058995270042\t 5.5078026219229494\n",
            "19 \t [-2.87081258  5.16780314]\t 31.283525209569547\t 4.325823373192982\t 5.87934455079782\t 5.5954990897334485\n",
            "20 \t [  3.20977226 -10.        ]\t 639.599152352039\t 4.325823373192982\t 5.972718047670414\t 5.803292039722512\n"
          ]
        }
      ],
      "source": [
        "### ESTIMATED GP EI GRADIENTS\n",
        "\n",
        "np.random.seed(run_num_2)\n",
        "surrogate_approx_2 = dGaussianProcess(cov_func, optimize=opt)\n",
        "\n",
        "approx_2 = GPGO_multi(surrogate_approx_2, Acquisition_grad(util), objfunc, param)\n",
        "approx_2.run(init_evals=n_init, max_iter=iters)\n"
      ]
    },
    {
      "cell_type": "code",
      "execution_count": 15,
      "metadata": {
        "id": "-dgzIrUIGCGT",
        "colab": {
          "base_uri": "https://localhost:8080/"
        },
        "outputId": "9e94b14a-98c2-4dbf-86b8-dee4957f3a92"
      },
      "outputs": [
        {
          "output_type": "stream",
          "name": "stdout",
          "text": [
            "Evaluation \t Proposed point \t  Current eval. \t  Best eval. \t        Exact EI: StdDev. x \t Approx EI: StdDev. x \n",
            "init\t [1.01595805 4.16295645]\t 6.912079999083602\t 6.912079999083602\t    \t    \n",
            "init\t [-4.18190522  0.2165521 ]\t 288.3871250813255\t 6.912079999083602\t    \t    \n",
            "init\t [7.85893909 7.92586178]\t 626.8352854305291\t 6.912079999083602\t    \t    \n",
            "init\t [-7.48829379 -5.85514244]\t 1353.6437998345716\t 6.912079999083602\t    \t    \n",
            "init\t [-8.97065593 -1.18380313]\t 918.3130335940459\t 6.912079999083602\t    \t    \n",
            "1  \t [ 5.60629529 -3.87272935]\t 88.9992584872525\t 6.912079999083602\t 4.717150437873575\t 4.717150437873575\n",
            "2  \t [-6.2437035   9.04202486]\t 94.75343105833329\t 6.912079999083602\t 5.677703294817717\t 6.03479288667779\n",
            "3  \t [ 0.45885214 10.        ]\t 216.1599248137204\t 6.912079999083602\t 5.6804141354308015\t 5.973954488477899\n",
            "4  \t [-0.42169096 -8.75441039]\t 834.625955715487\t 6.912079999083602\t 5.534370843910398\t 5.4121948957553165\n",
            "5  \t [ 6.67776122 -9.73117968]\t 393.32275659878496\t 6.912079999083602\t 5.511033664858272\t 5.921830644443473\n",
            "6  \t [10.          0.82377778]\t 271.9917161537406\t 6.912079999083602\t 5.533219966579417\t 5.633623921456383\n",
            "7  \t [ 0.69850669 -0.70926041]\t 78.19409262167642\t 6.912079999083602\t 5.910072570059741\t 5.907150199931839\n",
            "8  \t [-9.43411856  4.82714338]\t 408.5293700359781\t 6.912079999083602\t 5.601339947835796\t 5.64440197803885\n",
            "9  \t [-6.71050156 -9.69798454]\t 1886.7158648970099\t 6.912079999083602\t 5.146818900757504\t 4.977987301473617\n",
            "10 \t [5.03998887 2.35791424]\t 62.916766285059936\t 6.912079999083602\t 5.742610317313287\t 5.823396989749053\n",
            "11 \t [-3.14054022  5.3089524 ]\t 35.89419033650956\t 6.912079999083602\t 5.648476754044369\t 5.651030211584432\n",
            "12 \t [10.         -5.70975869]\t 157.19685644277257\t 6.912079999083602\t 5.471798521874924\t 5.697475222876737\n",
            "13 \t [-2.44692185 -4.22506588]\t 519.6481360235474\t 6.912079999083602\t 5.777109007147306\t 5.434790006656208\n",
            "14 \t [3.42933989 6.64199124]\t 166.61003917263935\t 6.912079999083602\t 5.392741503360131\t 5.409825427577021\n",
            "15 \t [ 1.90475519 -4.85167935]\t 255.5064715930738\t 6.912079999083602\t 5.586730568596714\t 5.6704546830441025\n",
            "16 \t [-10.  10.]\t 234.0\t 6.912079999083602\t 6.338801373505817\t 6.34055530432145\n",
            "17 \t [10.          4.59770084]\t 532.7976999719658\t 6.912079999083602\t 5.727394260232559\t 5.309886189935539\n",
            "18 \t [-5.81136701  3.63565071]\t 199.3566596863723\t 6.912079999083602\t 6.3827747627078635\t 6.397074110257996\n",
            "19 \t [-1.03378494  2.54821079]\t 29.052710118840572\t 6.912079999083602\t 5.492014312407921\t 5.5976786692421046\n",
            "20 \t [-2.86743579  8.55183346]\t 57.12869647446625\t 6.912079999083602\t 4.898266711861161\t 4.998199362556676\n"
          ]
        }
      ],
      "source": [
        "### ESTIMATED GP EI GRADIENTS\n",
        "\n",
        "np.random.seed(run_num_3)\n",
        "surrogate_approx_3 = dGaussianProcess(cov_func, optimize=opt)\n",
        "\n",
        "approx_3 = GPGO_multi(surrogate_approx_3, Acquisition_grad(util), objfunc, param)\n",
        "approx_3.run(init_evals=n_init, max_iter=iters)\n"
      ]
    },
    {
      "cell_type": "code",
      "execution_count": 16,
      "metadata": {
        "id": "hOtG-2sCGCKS",
        "colab": {
          "base_uri": "https://localhost:8080/"
        },
        "outputId": "99b2831c-865e-49ea-f00e-739707eda982"
      },
      "outputs": [
        {
          "output_type": "stream",
          "name": "stdout",
          "text": [
            "Evaluation \t Proposed point \t  Current eval. \t  Best eval. \t        Exact EI: StdDev. x \t Approx EI: StdDev. x \n",
            "init\t [9.34059678 0.94464498]\t 231.80709501196006\t 215.08077877054313\t    \t    \n",
            "init\t [9.4536872  4.29631987]\t 453.3958241553961\t 215.08077877054313\t    \t    \n",
            "init\t [ 3.95457649 -5.67821009]\t 215.08077877054313\t 215.08077877054313\t    \t    \n",
            "init\t [ 9.5254891 -9.8753949]\t 314.14647993232734\t 215.08077877054313\t    \t    \n",
            "init\t [-4.94035275 -1.30416935]\t 473.61459720928724\t 215.08077877054313\t    \t    \n",
            "1  \t [-10. -10.]\t 2594.0\t 215.08077877054313\t 6.071620345789291\t 6.081906025685177\n",
            "\u001b[1m\u001b[92m2\u001b[0m\t \u001b[1m\u001b[92m[-0.24524722  6.20288844]\u001b[0m\t \u001b[1m\u001b[92m27.138571678074374\u001b[0m\t \u001b[1m\u001b[92m27.138571678074374\u001b[0m\t \u001b[1m\u001b[92m5.735162601139712\u001b[0m\t \u001b[1m\u001b[92m6.022739707902296\u001b[0m\n",
            "3  \t [ -0.90364597 -10.        ]\t 1061.0985211774776\t 27.138571678074374\t 6.996489883364462\t 6.702530192937601\n",
            "4  \t [-8.30429567 10.        ]\t 156.8090321753482\t 27.138571678074374\t 6.5546805098817185\t 6.69428384629465\n",
            "\u001b[1m\u001b[92m5\u001b[0m\t \u001b[1m\u001b[92m[1.64484967 0.37213562]\u001b[0m\t \u001b[1m\u001b[92m23.0508916016246\u001b[0m\t \u001b[1m\u001b[92m23.0508916016246\u001b[0m\t \u001b[1m\u001b[92m6.089747548047643\u001b[0m\t \u001b[1m\u001b[92m5.4797162954784495\u001b[0m\n",
            "6  \t [ 5.0662248 10.       ]\t 555.3795097124832\t 23.0508916016246\t 6.769880924261784\t 6.686071855474799\n",
            "7  \t [-10.           4.28161898]\t 500.4302660331025\t 23.0508916016246\t 5.279955820106439\t 5.655495181812563\n",
            "8  \t [-10.        -3.875758]\t 1446.4469440163757\t 23.0508916016246\t 6.160003273504263\t 5.902546489537362\n",
            "9  \t [10.         -4.42558396]\t 146.05444061194626\t 23.0508916016246\t 5.381030384932862\t 5.346717354024404\n",
            "10 \t [-4.59699034  4.21130053]\t 109.73065033852302\t 23.0508916016246\t 7.284099376455471\t 7.076895378367364\n",
            "11 \t [4.168442   4.44856176]\t 97.40425071797083\t 23.0508916016246\t 6.340647628965014\t 6.435803818436921\n",
            "12 \t [-6.07908144 -9.5390318 ]\t 1746.8221812094966\t 23.0508916016246\t 5.93087363549582\t 5.956077101059094\n",
            "13 \t [-3.08664852 10.        ]\t 99.65116357827426\t 23.0508916016246\t 6.162299420614719\t 6.2388716396721575\n",
            "14 \t [-0.94634422 -4.54533766]\t 421.0884766080692\t 23.0508916016246\t 6.125216530716193\t 5.56414707791833\n",
            "15 \t [  4.67088259 -10.        ]\t 530.6051057559065\t 23.0508916016246\t 5.691230136340053\t 5.726557299406707\n",
            "16 \t [10. 10.]\t 1154.0\t 23.0508916016246\t 6.50128860532792\t 6.158969334458332\n",
            "17 \t [ 5.37539683 -1.31058973]\t 37.74208109601554\t 23.0508916016246\t 5.765963785246694\t 5.833445738221246\n",
            "18 \t [ 0.77245623 10.        ]\t 232.51642993021895\t 23.0508916016246\t 5.350642250218395\t 6.2734744304873145\n",
            "19 \t [-1.51423925  1.7665509 ]\t 64.0234674883894\t 23.0508916016246\t 5.544572746633737\t 4.977293517939658\n",
            "20 \t [-8.81777884  0.37450051]\t 722.6227319805824\t 23.0508916016246\t 5.186061878296997\t 5.487549319688613\n"
          ]
        }
      ],
      "source": [
        "### ESTIMATED GP EI GRADIENTS\n",
        "\n",
        "np.random.seed(run_num_4)\n",
        "surrogate_approx_4 = dGaussianProcess(cov_func, optimize=opt)\n",
        "\n",
        "approx_4= GPGO_multi(surrogate_approx_4, Acquisition_grad(util), objfunc, param)\n",
        "approx_4.run(init_evals=n_init, max_iter=iters)\n"
      ]
    },
    {
      "cell_type": "code",
      "execution_count": 17,
      "metadata": {
        "id": "JF_SxcEvGCOl",
        "colab": {
          "base_uri": "https://localhost:8080/"
        },
        "outputId": "45507b2a-479e-4c19-af5d-e9215d97522f"
      },
      "outputs": [
        {
          "output_type": "stream",
          "name": "stdout",
          "text": [
            "Evaluation \t Proposed point \t  Current eval. \t  Best eval. \t        Exact EI: StdDev. x \t Approx EI: StdDev. x \n",
            "init\t [-5.56013658  7.41464612]\t 80.93700948496809\t 18.053107398965345\t    \t    \n",
            "init\t [-5.86561689  8.37221816]\t 84.91838238990834\t 18.053107398965345\t    \t    \n",
            "init\t [-0.23177622  2.23487726]\t 18.053107398965345\t 18.053107398965345\t    \t    \n",
            "init\t [5.31815713 0.36835976]\t 36.94936820355582\t 18.053107398965345\t    \t    \n",
            "init\t [-4.06398997 -6.24557543]\t 930.179306576812\t 18.053107398965345\t    \t    \n",
            "1  \t [9.27861058 9.20453431]\t 946.0775823883291\t 18.053107398965345\t 7.492668514237962\t 7.214342666132895\n",
            "2  \t [ 8.87080164 -7.76615146]\t 211.3917378701312\t 18.053107398965345\t 6.294932375249826\t 6.509619060808437\n",
            "3  \t [0.54357666 9.2242228 ]\t 172.01931432813362\t 18.053107398965345\t 6.579078089697267\t 6.553580066270341\n",
            "4  \t [-10. -10.]\t 2594.0\t 18.053107398965345\t 6.4171298277879165\t 6.386436910332035\n",
            "5  \t [-10.          -3.50196063]\t 1388.549994945361\t 18.053107398965345\t 5.920800387442344\t 5.987754197908066\n",
            "6  \t [ 2.82674697 -7.08494519]\t 377.83447547261864\t 18.053107398965345\t 6.228193405484226\t 6.456143100836817\n",
            "7  \t [-6.46056633  1.63357011]\t 369.1906294291982\t 18.053107398965345\t 5.042394811650998\t 5.78730687183294\n",
            "8  \t [10.         -2.12190778]\t 167.39233638362276\t 18.053107398965345\t 6.230337998551002\t 6.117738632486609\n",
            "9  \t [10.          3.41537992]\t 435.7700568815156\t 18.053107398965345\t 5.613892398922144\t 6.155056495838126\n",
            "10 \t [4.58256578 5.53832224]\t 169.13893759591116\t 18.053107398965345\t 5.646675978168729\t 5.690582330164533\n",
            "11 \t [ 0.1170358  -2.44851034]\t 190.81616996510525\t 18.053107398965345\t 5.3607424192840325\t 6.144352706094895\n",
            "12 \t [-10.           5.49588463]\t 416.5093530777317\t 18.053107398965345\t 5.092371831565693\t 7.004911228255952\n",
            "13 \t [ -0.91937308 -10.        ]\t 1063.0347653220033\t 18.053107398965345\t 5.824962977285072\t 5.949824400398758\n",
            "14 \t [-10.  10.]\t 234.0\t 18.053107398965345\t 4.726304703349493\t 5.429014841965751\n",
            "15 \t [ 5.88758952 -3.72894346]\t 82.72954861206595\t 18.053107398965345\t 5.490647352268601\t 5.512551491917928\n",
            "\u001b[1m\u001b[92m16\u001b[0m\t \u001b[1m\u001b[92m[-1.92818438  5.53411561]\u001b[0m\t \u001b[1m\u001b[92m15.61716646105874\u001b[0m\t \u001b[1m\u001b[92m15.61716646105874\u001b[0m\t \u001b[1m\u001b[92m5.628023894480186\u001b[0m\t \u001b[1m\u001b[92m5.047418535347188\u001b[0m\n",
            "17 \t [  5.63078958 -10.        ]\t 470.6189443975865\t 15.61716646105874\t 4.986782711908736\t 5.930093065609328\n",
            "18 \t [ 4.70832728 10.        ]\t 521.4247840155908\t 15.61716646105874\t 5.669482838526214\t 5.929959274395402\n",
            "19 \t [-3.97119316 -1.74165242]\t 424.5535059250989\t 15.61716646105874\t 4.870354612704656\t 5.358255872173407\n",
            "20 \t [-2.96344978 10.        ]\t 101.59148304250562\t 15.61716646105874\t 5.717465290034961\t 5.871638055515359\n"
          ]
        }
      ],
      "source": [
        "### ESTIMATED GP EI GRADIENTS\n",
        "\n",
        "np.random.seed(run_num_5)\n",
        "surrogate_approx_5 = dGaussianProcess(cov_func, optimize=opt)\n",
        "\n",
        "approx_5 = GPGO_multi(surrogate_approx_5, Acquisition_grad(util), objfunc, param)\n",
        "approx_5.run(init_evals=n_init, max_iter=iters)\n"
      ]
    },
    {
      "cell_type": "code",
      "execution_count": 18,
      "metadata": {
        "id": "-kDxZtJsGCR3",
        "colab": {
          "base_uri": "https://localhost:8080/"
        },
        "outputId": "2f0b955c-c12f-4a4a-f983-a6c8c8d2f2b6"
      },
      "outputs": [
        {
          "output_type": "stream",
          "name": "stdout",
          "text": [
            "Evaluation \t Proposed point \t  Current eval. \t  Best eval. \t        Exact EI: StdDev. x \t Approx EI: StdDev. x \n",
            "init\t [ 7.85720303 -3.36040389]\t 88.46320859272592\t 88.46320859272592\t    \t    \n",
            "init\t [ 6.42458246 -9.16606749]\t 359.2297742730208\t 88.46320859272592\t    \t    \n",
            "init\t [-7.8468664   1.90104128]\t 475.1525044254979\t 88.46320859272592\t    \t    \n",
            "init\t [ 0.59634724 -1.62385143]\t 122.64613090496854\t 88.46320859272592\t    \t    \n",
            "init\t [-3.29184301  2.45038864]\t 112.48071079498652\t 88.46320859272592\t    \t    \n",
            "1  \t [10.          7.92467672]\t 880.8389280185434\t 88.46320859272592\t 6.615633602220421\t 6.528755314713192\n",
            "2  \t [-4.96771714 -9.17248997]\t 1500.0516160468933\t 88.46320859272592\t 7.073171158198214\t 7.040384935341043\n",
            "3  \t [2.46299902 9.4614501 ]\t 295.07827894539565\t 88.46320859272592\t 6.342911243309428\t 6.315015645704486\n",
            "4  \t [-10.  10.]\t 234.0\t 88.46320859272592\t 6.510722906089592\t 6.5683830604230495\n",
            "\u001b[1m\u001b[92m5\u001b[0m\t \u001b[1m\u001b[92m[4.21789472 3.38998748]\u001b[0m\t \u001b[1m\u001b[92m62.57419262580015\u001b[0m\t \u001b[1m\u001b[92m62.57419262580015\u001b[0m\t \u001b[1m\u001b[92m5.692090526630321\u001b[0m\t \u001b[1m\u001b[92m6.164962152937438\u001b[0m\n",
            "\u001b[1m\u001b[92m6\u001b[0m\t \u001b[1m\u001b[92m[-4.02662051  8.5917593 ]\u001b[0m\t \u001b[1m\u001b[92m57.81221321782142\u001b[0m\t \u001b[1m\u001b[92m57.81221321782142\u001b[0m\t \u001b[1m\u001b[92m6.537317091090184\u001b[0m\t \u001b[1m\u001b[92m6.87816302865688\u001b[0m\n",
            "7  \t [-10.          -5.44784132]\t 1705.2401511975659\t 57.81221321782142\t 6.290517191778743\t 6.72012410644196\n",
            "8  \t [-3.9941428 -4.271399 ]\t 679.5887677220608\t 57.81221321782142\t 6.277945551121998\t 5.8992683673794435\n",
            "\u001b[1m\u001b[92m9\u001b[0m\t \u001b[1m\u001b[92m[-1.22868843  4.34354782]\u001b[0m\t \u001b[1m\u001b[92m9.906068482791387\u001b[0m\t \u001b[1m\u001b[92m9.906068482791387\u001b[0m\t \u001b[1m\u001b[92m5.345935654293912\u001b[0m\t \u001b[1m\u001b[92m5.6544179948794016\u001b[0m\n",
            "10 \t [ -9.21685397 -10.        ]\t 2429.4733373022036\t 9.906068482791387\t 5.5257831412307965\t 6.14408859527265\n",
            "11 \t [10.          1.83894872]\t 328.1445082045\t 9.906068482791387\t 6.386481140779651\t 6.951420411080497\n",
            "12 \t [ 0.9084608  -7.63501484]\t 573.3477661918348\t 9.906068482791387\t 5.355861782667173\t 6.0152458421466894\n",
            "13 \t [ 5.21347435 -0.8833208 ]\t 33.269551998031815\t 9.906068482791387\t 5.373300691094278\t 5.316674781736728\n",
            "14 \t [-10.           5.73884899]\t 401.48775789184464\t 9.906068482791387\t 6.105773727114662\t 6.514987955539957\n",
            "15 \t [ 4.03233911 -4.55554   ]\t 148.11865029644952\t 9.906068482791387\t 5.662124855280057\t 5.33745875814069\n",
            "16 \t [10.         -6.79056552]\t 179.355148533652\t 9.906068482791387\t 5.766111801310447\t 6.037998767512571\n",
            "17 \t [-0.74894255  7.16242873]\t 43.68427510373073\t 9.906068482791387\t 6.309166393663573\t 6.365748510831965\n",
            "18 \t [5.72877639 6.84136659]\t 330.90682583679666\t 9.906068482791387\t 5.790700980165882\t 5.817675650488629\n",
            "19 \t [-5.73791851  5.54024051]\t 122.33437000122929\t 9.906068482791387\t 6.0705893781297995\t 6.281218294353081\n",
            "\u001b[1m\u001b[92m20\u001b[0m\t \u001b[1m\u001b[92m[0.82037789 2.17577757]\u001b[0m\t \u001b[1m\u001b[92m4.742422170254186\u001b[0m\t \u001b[1m\u001b[92m4.742422170254186\u001b[0m\t \u001b[1m\u001b[92m5.8915527638138165\u001b[0m\t \u001b[1m\u001b[92m5.831833456477486\u001b[0m\n"
          ]
        }
      ],
      "source": [
        "### ESTIMATED GP EI GRADIENTS\n",
        "\n",
        "np.random.seed(run_num_6)\n",
        "surrogate_approx_6 = dGaussianProcess(cov_func, optimize=opt)\n",
        "\n",
        "approx_6 = GPGO_multi(surrogate_approx_6, Acquisition_grad(util), objfunc, param)\n",
        "approx_6.run(init_evals=n_init, max_iter=iters)\n"
      ]
    },
    {
      "cell_type": "code",
      "execution_count": 19,
      "metadata": {
        "id": "fKB8MCD_GCVI",
        "colab": {
          "base_uri": "https://localhost:8080/"
        },
        "outputId": "4e56f87e-e735-4f35-98de-d370c1392dc3"
      },
      "outputs": [
        {
          "output_type": "stream",
          "name": "stdout",
          "text": [
            "Evaluation \t Proposed point \t  Current eval. \t  Best eval. \t        Exact EI: StdDev. x \t Approx EI: StdDev. x \n",
            "init\t [-8.47383421  5.59837584]\t 285.59280278210764\t 9.465549861932052\t    \t    \n",
            "init\t [-1.23181537  4.46930356]\t 9.465549861932052\t 9.465549861932052\t    \t    \n",
            "init\t [9.55979024 0.76991741]\t 238.50407296157155\t 9.465549861932052\t    \t    \n",
            "init\t [ 0.02240927 -8.55897733]\t 763.2277954619568\t 9.465549861932052\t    \t    \n",
            "init\t [-4.63122040e+00 -2.34998349e-03]\t 338.87889871968287\t 9.465549861932052\t    \t    \n",
            "1  \t [ 8.57611095 10.        ]\t 956.2494991251192\t 9.465549861932052\t 5.091687089373891\t 5.2184086815999375\n",
            "2  \t [-10.          -4.53381807]\t 1551.76806420788\t 9.465549861932052\t 5.590683654285444\t 5.937458992567148\n",
            "3  \t [ 7.45254366 -9.52193948]\t 345.78455019200885\t 9.465549861932052\t 6.950608938602619\t 7.109507384687081\n",
            "4  \t [-7.86246511 -2.61028169]\t 947.860148457175\t 9.465549861932052\t 5.647846507469534\t 5.803585429886992\n",
            "5  \t [ 3.81479202 -2.43575711]\t 64.94834156019172\t 9.465549861932052\t 6.169936256143637\t 6.310655973969922\n",
            "6  \t [1.62835554 9.16814214]\t 223.21033066769002\t 9.465549861932052\t 6.648055436604866\t 6.577798882197176\n",
            "7  \t [ -6.48398111 -10.        ]\t 1903.3839014146365\t 9.465549861932052\t 5.07866587702987\t 6.091097827070334\n",
            "8  \t [-4.32770526 10.        ]\t 88.57072212922071\t 9.465549861932052\t 5.931932338711521\t 6.371663110943368\n",
            "9  \t [4.20655707 3.70252639]\t 71.89928573861731\t 9.465549861932052\t 6.333442911195933\t 6.535102917778065\n",
            "10 \t [10.        -4.6504974]\t 146.8147395171501\t 9.465549861932052\t 6.791091948190425\t 6.64396092817146\n",
            "11 \t [-0.88877599 -3.38599043]\t 318.2353852816276\t 9.465549861932052\t 5.625052329712429\t 5.558752920514896\n",
            "12 \t [-10.  10.]\t 234.0\t 9.465549861932052\t 6.088179776761708\t 6.0834848315620675\n",
            "13 \t [0.66114212 1.05154986]\t 24.83839443963071\t 9.465549861932052\t 6.0005932707636545\t 5.591187894768361\n",
            "14 \t [-10.           1.50298448]\t 747.9426435491316\t 9.465549861932052\t 5.520618018790956\t 5.369595635568337\n",
            "15 \t [8.52907597 5.17593695]\t 438.17078934763884\t 9.465549861932052\t 6.571511269139853\t 6.329760028871718\n",
            "16 \t [-4.43124213 -5.78152099]\t 914.6240440059471\t 9.465549861932052\t 5.379479098127462\t 5.107738420648705\n",
            "17 \t [ 4.23836348 -6.44434609]\t 253.73955166690504\t 9.465549861932052\t 4.730755623310189\t 4.963750298364504\n",
            "18 \t [-2.0007218   7.22290946]\t 32.81226634858988\t 9.465549861932052\t 6.356980709592573\t 6.418172575583001\n",
            "19 \t [-4.50416956  4.318277  ]\t 102.12052311014448\t 9.465549861932052\t 5.883316661519916\t 5.859651594439703\n",
            "20 \t [5.69041732 0.47932601]\t 47.18495656257978\t 9.465549861932052\t 5.901347920263121\t 5.773869372670258\n"
          ]
        }
      ],
      "source": [
        "### ESTIMATED GP EI GRADIENTS\n",
        "\n",
        "np.random.seed(run_num_7)\n",
        "surrogate_approx_7 = dGaussianProcess(cov_func, optimize=opt)\n",
        "\n",
        "approx_7 = GPGO_multi(surrogate_approx_7, Acquisition_grad(util), objfunc, param)\n",
        "approx_7.run(init_evals=n_init, max_iter=iters)\n"
      ]
    },
    {
      "cell_type": "code",
      "execution_count": 20,
      "metadata": {
        "id": "4unvifF-GCXp",
        "colab": {
          "base_uri": "https://localhost:8080/"
        },
        "outputId": "dfd7bd38-3186-492b-bac9-f8caf59548c6"
      },
      "outputs": [
        {
          "output_type": "stream",
          "name": "stdout",
          "text": [
            "Evaluation \t Proposed point \t  Current eval. \t  Best eval. \t        Exact EI: StdDev. x \t Approx EI: StdDev. x \n",
            "init\t [7.46858806 9.37081326]\t 741.8307972128058\t 75.39770051777191\t    \t    \n",
            "init\t [7.3838908  0.61711383]\t 110.46436066448925\t 75.39770051777191\t    \t    \n",
            "init\t [-5.34543344 -9.77202391]\t 1665.297823285088\t 75.39770051777191\t    \t    \n",
            "init\t [-1.39062363 -1.9529728 ]\t 245.96065521704543\t 75.39770051777191\t    \t    \n",
            "init\t [ 0.45349343 -0.43216408]\t 75.39770051777191\t 75.39770051777191\t    \t    \n",
            "1  \t [ 9.69498875 -9.42535902]\t 285.65502563735186\t 75.39770051777191\t 6.644059447721559\t 6.7403281983799745\n",
            "2  \t [-9.83383251  5.77166529]\t 385.04821658618386\t 75.39770051777191\t 6.326077787838371\t 6.042846358970839\n",
            "3  \t [-3.97152767  9.51013426]\t 76.56717653580492\t 75.39770051777191\t 6.393323785067345\t 5.997674224340312\n",
            "4  \t [-7.41014015 -1.04781688]\t 707.918052928635\t 75.39770051777191\t 6.967538337135723\t 6.948521159972315\n",
            "\u001b[1m\u001b[92m5\u001b[0m\t \u001b[1m\u001b[92m[1.10947828 5.5318851 ]\u001b[0m\t \u001b[1m\u001b[92m34.329629696240445\u001b[0m\t \u001b[1m\u001b[92m34.329629696240445\u001b[0m\t \u001b[1m\u001b[92m6.117637534431694\u001b[0m\t \u001b[1m\u001b[92m5.767139635823164\u001b[0m\n",
            "6  \t [ 4.85375436 -5.34916739]\t 165.3949720910026\t 34.329629696240445\t 6.814517614653635\t 6.704051753245712\n",
            "7  \t [  1.14430076 -10.        ]\t 830.0968340644215\t 34.329629696240445\t 6.042504342035002\t 6.221071116400746\n",
            "8  \t [-4.06607626  3.86549278]\t 96.99381244326487\t 34.329629696240445\t 6.690965645255023\t 6.4401236240510995\n",
            "9  \t [10.        -3.9211319]\t 146.18883709942605\t 34.329629696240445\t 6.782755974965869\t 7.157926180904248\n",
            "10 \t [-10.          -6.21121035]\t 1839.8184922525802\t 34.329629696240445\t 6.389948528998676\t 6.563986749690994\n",
            "11 \t [ 1.9780533 10.       ]\t 304.55392609561454\t 34.329629696240445\t 6.261394835271106\t 5.860185134322722\n",
            "12 \t [10.          4.73815472]\t 545.2530487611547\t 34.329629696240445\t 6.068517609879098\t 5.596253088308921\n",
            "13 \t [5.14678221 4.67023429]\t 155.3362088782418\t 34.329629696240445\t 6.899326745095979\t 5.699117103847773\n",
            "14 \t [-8.31007605 10.        ]\t 157.02332134899694\t 34.329629696240445\t 7.517197728096198\t 7.620112574631098\n",
            "15 \t [ 4.0603649  -1.38002695]\t 35.51650109062264\t 34.329629696240445\t 5.401844275157478\t 5.677739459551919\n",
            "16 \t [-4.7076562  -4.96912331]\t 844.3014565974702\t 34.329629696240445\t 5.770593700536446\t 5.728530675045083\n",
            "17 \t [ 0.58337915 -5.58081707]\t 397.61955071333807\t 34.329629696240445\t 6.915547452385867\t 5.836288523744085\n",
            "\u001b[1m\u001b[92m18\u001b[0m\t \u001b[1m\u001b[92m[-1.78991995  6.84165212]\u001b[0m\t \u001b[1m\u001b[92m26.966506621024834\u001b[0m\t \u001b[1m\u001b[92m26.966506621024834\u001b[0m\t \u001b[1m\u001b[92m6.598784337670207\u001b[0m\t \u001b[1m\u001b[92m6.9686634055868195\u001b[0m\n",
            "19 \t [  5.57317393 -10.        ]\t 473.95951015087735\t 26.966506621024834\t 6.083506867369252\t 5.539991550854989\n",
            "20 \t [-10.           1.92355043]\t 705.5212801949724\t 26.966506621024834\t 6.253271374780658\t 5.220707084433821\n"
          ]
        }
      ],
      "source": [
        "### ESTIMATED GP EI GRADIENTS\n",
        "\n",
        "np.random.seed(run_num_8)\n",
        "surrogate_approx_8 = dGaussianProcess(cov_func, optimize=opt)\n",
        "\n",
        "approx_8 = GPGO_multi(surrogate_approx_8, Acquisition_grad(util), objfunc, param)\n",
        "approx_8.run(init_evals=n_init, max_iter=iters)\n"
      ]
    },
    {
      "cell_type": "code",
      "execution_count": 21,
      "metadata": {
        "id": "85OIXcg7GCaJ",
        "colab": {
          "base_uri": "https://localhost:8080/"
        },
        "outputId": "b67cd4a8-1ee1-44ca-b003-c9c1c3341e44"
      },
      "outputs": [
        {
          "output_type": "stream",
          "name": "stdout",
          "text": [
            "Evaluation \t Proposed point \t  Current eval. \t  Best eval. \t        Exact EI: StdDev. x \t Approx EI: StdDev. x \n",
            "init\t [-9.79251692  0.03749184]\t 882.0577358281939\t 526.7340464177141\t    \t    \n",
            "init\t [-0.08453414 -7.32340942]\t 628.3137012668271\t 526.7340464177141\t    \t    \n",
            "init\t [-7.15777829 -5.62882649]\t 1268.1663931377898\t 526.7340464177141\t    \t    \n",
            "init\t [-1.62983639 -5.03797663]\t 526.7340464177141\t 526.7340464177141\t    \t    \n",
            "init\t [-8.31880698 -3.0900272 ]\t 1073.657277368356\t 526.7340464177141\t    \t    \n",
            "1  \t [6.0747954  9.66718496]\t 621.7013152481403\t 526.7340464177141\t 6.232694320836195\t 5.9893578031882\n",
            "\u001b[1m\u001b[92m2\u001b[0m\t \u001b[1m\u001b[92m[4.69531634 1.12432974]\u001b[0m\t \u001b[1m\u001b[92m30.41794917619908\u001b[0m\t \u001b[1m\u001b[92m30.41794917619908\u001b[0m\t \u001b[1m\u001b[92m6.854359495968006\u001b[0m\t \u001b[1m\u001b[92m6.64260053582591\u001b[0m\n",
            "3  \t [-4.34667475  7.2314955 ]\t 51.466984168071384\t 30.41794917619908\t 6.068135845332652\t 5.683125747084214\n",
            "4  \t [ 8.66970884 -6.33785621]\t 157.1508550483091\t 30.41794917619908\t 5.876300373756267\t 6.007906092286219\n",
            "5  \t [-3.13464558  1.54997544]\t 143.95202785512424\t 30.41794917619908\t 7.900171884879659\t 6.839693009116458\n",
            "6  \t [9.52803433 4.42957144]\t 471.38669476029736\t 30.41794917619908\t 5.2627231423372125\t 5.614192739065359\n",
            "7  \t [-9.49296018 10.        ]\t 207.90529658867686\t 30.41794917619908\t 6.520038209464205\t 7.030552070317398\n",
            "8  \t [1.21730728 5.76327455]\t 43.2183809573717\t 30.41794917619908\t 6.2098366311721165\t 5.68850635669225\n",
            "9  \t [10.         -1.13505033]\t 192.76958247341008\t 30.41794917619908\t 6.065102152200033\t 6.473076962876438\n",
            "10 \t [  4.83389383 -10.        ]\t 519.7687510687375\t 30.41794917619908\t 6.623524103968577\t 6.281491676938374\n",
            "11 \t [ 4.08279553 -3.72116655]\t 107.6286827770218\t 30.41794917619908\t 7.477339868149789\t 6.430351768341752\n",
            "12 \t [-10. -10.]\t 2594.0\t 30.41794917619908\t 6.737268090953382\t 7.200256461794589\n",
            "13 \t [-0.45818948 10.        ]\t 173.97297200573544\t 30.41794917619908\t 5.377458131385405\t 5.398111010410034\n",
            "14 \t [-8.66611624  5.11881564]\t 325.770168219609\t 30.41794917619908\t 5.989686400389249\t 5.494162155687007\n",
            "15 \t [ 0.80809282 -0.60889729]\t 70.8454267356758\t 30.41794917619908\t 6.141733605551536\t 5.655248605645961\n",
            "16 \t [ -4.38412079 -10.        ]\t 1549.8923452967954\t 30.41794917619908\t 6.212914665087557\t 6.841709574933567\n",
            "17 \t [5.05388611 5.06769818]\t 170.60454525172193\t 30.41794917619908\t 5.846196679044352\t 5.5801937982426955\n",
            "18 \t [ 10. -10.]\t 314.0\t 30.41794917619908\t 6.936292701103907\t 6.275622267368155\n",
            "19 \t [-4.22989494 -1.92736239]\t 464.3102075341278\t 30.41794917619908\t 6.634371223716165\t 5.648173011668511\n",
            "20 \t [-5.70480378 10.        ]\t 94.30295700336967\t 30.41794917619908\t 6.3205301442122765\t 5.562741509449237\n"
          ]
        }
      ],
      "source": [
        "### ESTIMATED GP EI GRADIENTS\n",
        "\n",
        "np.random.seed(run_num_9)\n",
        "surrogate_approx_9 = dGaussianProcess(cov_func, optimize=opt)\n",
        "\n",
        "approx_9 = GPGO_multi(surrogate_approx_9, Acquisition_grad(util), objfunc, param)\n",
        "approx_9.run(init_evals=n_init, max_iter=iters)\n"
      ]
    },
    {
      "cell_type": "code",
      "execution_count": 22,
      "metadata": {
        "id": "QQBR-qJPGCcp",
        "colab": {
          "base_uri": "https://localhost:8080/"
        },
        "outputId": "3bec4f4a-696e-4f58-ee39-fee1bec2fa4d"
      },
      "outputs": [
        {
          "output_type": "stream",
          "name": "stdout",
          "text": [
            "Evaluation \t Proposed point \t  Current eval. \t  Best eval. \t        Exact EI: StdDev. x \t Approx EI: StdDev. x \n",
            "init\t [ 5.42641287 -9.58496101]\t 444.22200604720473\t 59.96573403226766\t    \t    \n",
            "init\t [2.6729647  4.97607765]\t 59.96573403226766\t 59.96573403226766\t    \t    \n",
            "init\t [-0.02985975 -5.50406709]\t 436.96281238949786\t 59.96573403226766\t    \t    \n",
            "init\t [-6.0387427   5.21061424]\t 147.67401193720747\t 59.96573403226766\t    \t    \n",
            "init\t [-6.61778327 -8.23320372]\t 1605.6543289416081\t 59.96573403226766\t    \t    \n",
            "1  \t [10. 10.]\t 1154.0\t 59.96573403226766\t 5.8122326133871445\t 6.048239269846447\n",
            "\u001b[1m\u001b[92m2\u001b[0m\t \u001b[1m\u001b[92m[2.11155129 0.26933255]\u001b[0m\t \u001b[1m\u001b[92m19.17823960765822\u001b[0m\t \u001b[1m\u001b[92m19.17823960765822\u001b[0m\t \u001b[1m\u001b[92m5.072770469264647\u001b[0m\t \u001b[1m\u001b[92m5.067659960757658\u001b[0m\n",
            "3  \t [8.50713746 1.33499849]\t 195.6515526065785\t 19.17823960765822\t 5.34912043718532\t 6.59023790081138\n",
            "4  \t [-10.          -0.98643752]\t 1035.2649217418286\t 19.17823960765822\t 6.7495083286425706\t 7.240691907824668\n",
            "5  \t [-0.5212351 10.       ]\t 171.3816157347861\t 19.17823960765822\t 6.406761659712464\t 6.405692941965347\n",
            "6  \t [-2.90983861 -0.28432959]\t 233.0978832960784\t 19.17823960765822\t 6.8754581745664884\t 6.479610079928676\n",
            "7  \t [10.         -4.22285167]\t 145.80261099504753\t 19.17823960765822\t 6.437000046664436\t 6.597170516964875\n",
            "8  \t [-10.  10.]\t 234.0\t 19.17823960765822\t 5.833806788502162\t 6.511440049444877\n",
            "9  \t [ 5.35783708 -4.10345376]\t 99.60344323438223\t 19.17823960765822\t 6.568155795090431\t 6.618636703316888\n",
            "10 \t [ 4.55406157 10.        ]\t 507.1842165907765\t 19.17823960765822\t 6.660162249962429\t 6.625844993103096\n",
            "11 \t [-5.48870755  9.09888528]\t 79.9075729528034\t 19.17823960765822\t 5.771187305992474\t 5.5426417950400815\n",
            "12 \t [ -1.66028371 -10.        ]\t 1157.0550525168014\t 19.17823960765822\t 6.351871345860589\t 6.4234028782272325\n",
            "13 \t [ 10. -10.]\t 314.0\t 19.17823960765822\t 6.861753834101589\t 6.645111640072668\n",
            "14 \t [6.80952295 5.66783248]\t 328.3301077523411\t 19.17823960765822\t 6.48500225236967\t 6.47203723299026\n",
            "\u001b[1m\u001b[92m15\u001b[0m\t \u001b[1m\u001b[92m[-1.58253176  4.4029798 ]\u001b[0m\t \u001b[1m\u001b[92m14.203193861029137\u001b[0m\t \u001b[1m\u001b[92m14.203193861029137\u001b[0m\t \u001b[1m\u001b[92m6.665327342396135\u001b[0m\t \u001b[1m\u001b[92m5.771605243269812\u001b[0m\n",
            "16 \t [-5.87634971 -3.49258021]\t 804.3509319134002\t 14.203193861029137\t 6.5346662289173\t 6.179882052603866\n",
            "17 \t [-10.           5.32280362]\t 427.5703647329336\t 14.203193861029137\t 5.807311022000058\t 5.99633045113911\n",
            "18 \t [-10.          -5.42734693]\t 1701.7074117194848\t 14.203193861029137\t 5.934267980595591\t 5.697600163853576\n",
            "19 \t [-6.47286392  1.4503672 ]\t 383.8668448384849\t 14.203193861029137\t 5.3900634283271\t 4.911562371147448\n",
            "20 \t [ 2.3017273  -2.45803153]\t 100.5840615684147\t 14.203193861029137\t 6.604572472091777\t 6.356425827056409\n"
          ]
        }
      ],
      "source": [
        "### ESTIMATED GP EI GRADIENTS\n",
        "\n",
        "np.random.seed(run_num_10)\n",
        "surrogate_approx_10 = dGaussianProcess(cov_func, optimize=opt)\n",
        "\n",
        "approx_10 = GPGO_multi(surrogate_approx_10, Acquisition_grad(util), objfunc, param)\n",
        "approx_10.run(init_evals=n_init, max_iter=iters)\n"
      ]
    },
    {
      "cell_type": "code",
      "execution_count": 23,
      "metadata": {
        "id": "JS8ejeQ2GCfi",
        "colab": {
          "base_uri": "https://localhost:8080/"
        },
        "outputId": "02e2cb74-e38b-4fd6-b516-4ebddca42a71"
      },
      "outputs": [
        {
          "output_type": "stream",
          "name": "stdout",
          "text": [
            "Evaluation \t Proposed point \t  Current eval. \t  Best eval. \t        Exact EI: StdDev. x \t Approx EI: StdDev. x \n",
            "init\t [-6.39460622 -9.61049517]\t 1814.521116554919\t 5.483030044782123\t    \t    \n",
            "init\t [-0.73562947  4.49867858]\t 5.483030044782123\t 5.483030044782123\t    \t    \n",
            "init\t [-1.59592791 -0.29145804]\t 156.21779076814232\t 5.483030044782123\t    \t    \n",
            "init\t [-9.74438371 -0.25256785]\t 909.6795910034871\t 5.483030044782123\t    \t    \n",
            "init\t [8.83613305 7.01590179]\t 639.4153671589368\t 5.483030044782123\t    \t    \n",
            "1  \t [ 1.99086793 -8.88652641]\t 617.1328244256196\t 5.483030044782123\t 5.701202967465052\t 6.079485207605164\n",
            "2  \t [ 6.89877062 -3.95670624]\t 87.66816772781804\t 5.483030044782123\t 5.058132303434573\t 4.921440405688948\n",
            "3  \t [-7.94688629  5.39029925]\t 257.71563950702034\t 5.483030044782123\t 6.236238001268246\t 6.375354938211753\n",
            "4  \t [10.         -9.62110835]\t 292.74207884746517\t 5.483030044782123\t 5.011049805601659\t 5.5503628306529915\n",
            "5  \t [0.01487604 9.3385378 ]\t 155.7836897695873\t 5.483030044782123\t 5.846788289205055\t 5.2775893842276895\n",
            "6  \t [5.24860912 2.85966119]\t 85.58191439419369\t 5.483030044782123\t 5.817172498795007\t 5.576587791690494\n",
            "7  \t [10.          0.50087088]\t 256.2909349660391\t 5.483030044782123\t 5.912250569978256\t 6.379136682609234\n",
            "8  \t [-5.29657842 10.        ]\t 90.62610744123555\t 5.483030044782123\t 5.511786912434878\t 5.376852130302114\n",
            "9  \t [-5.41972284 -3.96496428]\t 806.3229664924961\t 5.483030044782123\t 5.844639951073307\t 6.095637929540698\n",
            "10 \t [ 2.05568819 -3.5881872 ]\t 166.95286910470762\t 5.483030044782123\t 6.040551642689678\t 5.518551468283463\n",
            "11 \t [-10.  10.]\t 234.0\t 5.483030044782123\t 6.0696373078452535\t 6.004774464893842\n",
            "12 \t [-10.          -5.86162376]\t 1777.4647688042796\t 5.483030044782123\t 6.101729108840857\t 5.826236793375624\n",
            "13 \t [4.23901857 8.22439067]\t 324.3026832345019\t 5.483030044782123\t 5.4617768093759285\t 6.033672527496952\n",
            "14 \t [-3.56410388  6.15082943]\t 38.74814900523354\t 5.483030044782123\t 5.879771944816022\t 5.958246657079503\n",
            "15 \t [-5.33362879  1.78654328]\t 269.42132957946995\t 5.483030044782123\t 5.865896178982495\t 5.862604952481603\n",
            "16 \t [-2.12658053 -7.14323446]\t 817.0126709266242\t 5.483030044782123\t 6.141920331667634\t 6.155214905664308\n",
            "17 \t [ 6.21507961 -7.85752504]\t 272.431666594742\t 5.483030044782123\t 4.59570980513194\t 4.759017325940086\n",
            "\u001b[1m\u001b[92m18\u001b[0m\t \u001b[1m\u001b[92m[1.49070977 2.29066781]\u001b[0m\t \u001b[1m\u001b[92m0.9351312970861982\u001b[0m\t \u001b[1m\u001b[92m0.9351312970861982\u001b[0m\t \u001b[1m\u001b[92m5.7924284295444775\u001b[0m\t \u001b[1m\u001b[92m5.733644766298737\u001b[0m\n",
            "19 \t [ 4.8427204  -0.77072692]\t 29.005613857482615\t 0.9351312970861982\t 5.24913493928445\t 5.257634537541205\n",
            "20 \t [1.98270009 4.79397048]\t 35.02362727685052\t 0.9351312970861982\t 5.714629874733485\t 5.6941111689459065\n"
          ]
        }
      ],
      "source": [
        "### ESTIMATED GP EI GRADIENTS\n",
        "\n",
        "np.random.seed(run_num_11)\n",
        "surrogate_approx_11 = dGaussianProcess(cov_func, optimize=opt)\n",
        "\n",
        "approx_11 = GPGO_multi(surrogate_approx_11, Acquisition_grad(util), objfunc, param)\n",
        "approx_11.run(init_evals=n_init, max_iter=iters)\n"
      ]
    },
    {
      "cell_type": "code",
      "execution_count": 24,
      "metadata": {
        "id": "DXwjUVZ4GCii",
        "colab": {
          "base_uri": "https://localhost:8080/"
        },
        "outputId": "af893e08-8371-4e52-ded8-93e7dbd2c029"
      },
      "outputs": [
        {
          "output_type": "stream",
          "name": "stdout",
          "text": [
            "Evaluation \t Proposed point \t  Current eval. \t  Best eval. \t        Exact EI: StdDev. x \t Approx EI: StdDev. x \n",
            "init\t [-6.91674315  4.80099393]\t 215.5279554685742\t 189.34864056663108\t    \t    \n",
            "init\t [-4.7336997   0.67478787]\t 298.0661631184378\t 189.34864056663108\t    \t    \n",
            "init\t [-9.70850075  8.37494016]\t 257.3494442600599\t 189.34864056663108\t    \t    \n",
            "init\t [ 8.01429708 -9.33157145]\t 314.3616446198572\t 189.34864056663108\t    \t    \n",
            "init\t [ 9.13898673 -7.25581357]\t 189.34864056663108\t 189.34864056663108\t    \t    \n",
            "\u001b[1m\u001b[92m1\u001b[0m\t \u001b[1m\u001b[92m[4.66251955 4.05244711]\u001b[0m\t \u001b[1m\u001b[92m103.44533669968575\u001b[0m\t \u001b[1m\u001b[92m103.44533669968575\u001b[0m\t \u001b[1m\u001b[92m6.224754561312221\u001b[0m\t \u001b[1m\u001b[92m5.899410547381348\u001b[0m\n",
            "2  \t [-3.75432006 -8.6025265 ]\t 1227.4078991356632\t 103.44533669968575\t 6.63785123040954\t 5.977039070216892\n",
            "3  \t [10. 10.]\t 1154.0\t 103.44533669968575\t 7.173169070351129\t 7.087722536126625\n",
            "4  \t [0.62006076 8.91956245]\t 157.93527468112498\t 103.44533669968575\t 6.37195412356197\t 6.081293045828425\n",
            "5  \t [ 8.15269188 -0.957369  ]\t 107.66212394211308\t 103.44533669968575\t 5.546027766666431\t 5.525706835490996\n",
            "6  \t [-10.          -6.02681572]\t 1806.776793007978\t 103.44533669968575\t 6.3541434962461185\t 6.029899981915203\n",
            "7  \t [ 0.90525096 -1.86264332]\t 121.95723358697899\t 103.44533669968575\t 6.761373542785407\t 6.5097707245787335\n",
            "8  \t [ 2.33970398 -7.58874317]\t 456.09519210501674\t 103.44533669968575\t 6.731168209111091\t 6.969586946280408\n",
            "\u001b[1m\u001b[92m9\u001b[0m\t \u001b[1m\u001b[92m[-4.5625686 10.       ]\u001b[0m\t \u001b[1m\u001b[92m88.20700554930158\u001b[0m\t \u001b[1m\u001b[92m88.20700554930158\u001b[0m\t \u001b[1m\u001b[92m6.224237716092179\u001b[0m\t \u001b[1m\u001b[92m6.412512685787397\u001b[0m\n",
            "10 \t [10.          4.13916468]\t 493.5083382125015\t 88.20700554930158\t 6.079340753102714\t 5.970576216907468\n",
            "11 \t [-10.          -0.07596571]\t 922.9928073321325\t 88.20700554930158\t 6.663046195185077\t 6.011981877062758\n",
            "\u001b[1m\u001b[92m12\u001b[0m\t \u001b[1m\u001b[92m[-0.46944239  3.77954671]\u001b[0m\t \u001b[1m\u001b[92m4.670778207724613\u001b[0m\t \u001b[1m\u001b[92m4.670778207724613\u001b[0m\t \u001b[1m\u001b[92m5.304327394643503\u001b[0m\t \u001b[1m\u001b[92m5.895805448076887\u001b[0m\n",
            "13 \t [-5.28488813 -3.89751975]\t 782.1791067552729\t 4.670778207724613\t 5.393857096122214\t 5.6242802864450505\n",
            "14 \t [ 5.11732184 -3.9233209 ]\t 96.37923438664875\t 4.670778207724613\t 5.748310694298929\t 5.487986648780172\n",
            "15 \t [ 5.0227013 10.       ]\t 551.1819016847729\t 4.670778207724613\t 6.287333882420889\t 6.326126731696378\n",
            "16 \t [-2.76417039  6.14247006]\t 25.59014201189492\t 4.670778207724613\t 5.897474122436638\t 5.505233014340658\n",
            "17 \t [ -8.04901596 -10.        ]\t 2195.521108810425\t 4.670778207724613\t 5.162369516263347\t 5.11551934266359\n",
            "18 \t [-0.75689027  1.37265861]\t 51.546999091615504\t 4.670778207724613\t 6.0720219555027\t 6.251750073164951\n",
            "19 \t [4.30208842 0.17098865]\t 19.80230078426518\t 4.670778207724613\t 5.546486810359211\t 5.787430945845654\n",
            "20 \t [-1.06330562 -5.07860208]\t 480.95420939356836\t 4.670778207724613\t 5.2151433322696255\t 5.290306590566956\n"
          ]
        }
      ],
      "source": [
        "### ESTIMATED GP EI GRADIENTS\n",
        "\n",
        "np.random.seed(run_num_12)\n",
        "surrogate_approx_12 = dGaussianProcess(cov_func, optimize=opt)\n",
        "\n",
        "approx_12 = GPGO_multi(surrogate_approx_12, Acquisition_grad(util), objfunc, param)\n",
        "approx_12.run(init_evals=n_init, max_iter=iters)\n"
      ]
    },
    {
      "cell_type": "code",
      "execution_count": 25,
      "metadata": {
        "id": "CphOPndPGClX",
        "colab": {
          "base_uri": "https://localhost:8080/"
        },
        "outputId": "e10d3ca5-6632-4e0f-d9f5-5f5f9d113609"
      },
      "outputs": [
        {
          "output_type": "stream",
          "name": "stdout",
          "text": [
            "Evaluation \t Proposed point \t  Current eval. \t  Best eval. \t        Exact EI: StdDev. x \t Approx EI: StdDev. x \n",
            "init\t [ 5.55404821 -5.2491756 ]\t 143.4041188295949\t 48.27231948835582\t    \t    \n",
            "init\t [6.48557065 9.31498396]\t 626.9828646177026\t 48.27231948835582\t    \t    \n",
            "init\t [ 9.45202228 -0.93101505]\t 168.64758529203058\t 48.27231948835582\t    \t    \n",
            "init\t [2.18084926 5.51053029]\t 62.202299160666314\t 48.27231948835582\t    \t    \n",
            "init\t [2.8322669  4.44036459]\t 48.27231948835582\t 48.27231948835582\t    \t    \n",
            "1  \t [-8.69830926  2.59657998]\t 502.3996877395562\t 48.27231948835582\t 5.849923237279736\t 6.216504412090185\n",
            "2  \t [-5.9673185  -6.48540274]\t 1221.284536050755\t 48.27231948835582\t 6.6089404780583845\t 6.825854450347928\n",
            "3  \t [-3.72155659 10.        ]\t 92.05831409515302\t 48.27231948835582\t 7.242853667464197\t 6.882612154126712\n",
            "4  \t [-0.51063858 -2.7954116 ]\t 249.38230167690017\t 48.27231948835582\t 6.576959091655055\t 7.168929600397901\n",
            "5  \t [  0.45658459 -10.        ]\t 902.9917041776179\t 48.27231948835582\t 7.569231340857162\t 7.730509645909954\n",
            "6  \t [ 10. -10.]\t 314.0\t 48.27231948835582\t 7.007616031001347\t 6.273801335916067\n",
            "7  \t [-10.  10.]\t 234.0\t 48.27231948835582\t 8.259302376319287\t 7.496230291620704\n",
            "8  \t [-2.70899718  2.69865012]\t 78.17900619309079\t 48.27231948835582\t 7.905764999610303\t 6.966616313359902\n",
            "9  \t [10.          4.66947463]\t 539.1379006593138\t 48.27231948835582\t 7.524242024332661\t 7.368687467191119\n",
            "10 \t [-10.         -2.6840606]\t 1266.7400566765987\t 48.27231948835582\t 6.856264275327199\t 6.548561382535849\n",
            "\u001b[1m\u001b[92m11\u001b[0m\t \u001b[1m\u001b[92m[ 4.21235799 -0.20603726]\u001b[0m\t \u001b[1m\u001b[92m20.598078557971874\u001b[0m\t \u001b[1m\u001b[92m20.598078557971874\u001b[0m\t \u001b[1m\u001b[92m7.95462144591493\u001b[0m\t \u001b[1m\u001b[92m6.705825993735022\u001b[0m\n",
            "12 \t [-5.08604471 -1.2095488 ]\t 478.7572239287591\t 20.598078557971874\t 7.2493947788270665\t 6.060946602100543\n",
            "13 \t [-10. -10.]\t 2594.0\t 20.598078557971874\t 6.653480225657666\t 6.562830487102263\n",
            "14 \t [ 1.15121659 10.        ]\t 253.58246149299814\t 20.598078557971874\t 5.489918208210862\t 5.595991824023462\n",
            "15 \t [  5.34262966 -10.        ]\t 487.6586771082151\t 20.598078557971874\t 6.384633766728367\t 5.799379798098248\n",
            "16 \t [-1.72127536  6.52584814]\t 22.426294184386776\t 20.598078557971874\t 4.9754217033852814\t 5.32812528936346\n",
            "17 \t [-6.46176228  6.7013843 ]\t 125.93991245833108\t 20.598078557971874\t 7.523465272323588\t 7.2878890162735726\n",
            "18 \t [10.         -5.37937112]\t 152.75458124874734\t 20.598078557971874\t 5.150445482168866\t 4.844702574783469\n",
            "19 \t [6.18068495 2.65587382]\t 120.52712264400938\t 20.598078557971874\t 6.5639949313895976\t 5.359119624831706\n",
            "\u001b[1m\u001b[92m20\u001b[0m\t \u001b[1m\u001b[92m[0.91896963 1.21080894]\u001b[0m\t \u001b[1m\u001b[92m17.198683278127433\u001b[0m\t \u001b[1m\u001b[92m17.198683278127433\u001b[0m\t \u001b[1m\u001b[92m7.105493772969982\u001b[0m\t \u001b[1m\u001b[92m6.934535453296716\u001b[0m\n"
          ]
        }
      ],
      "source": [
        "### ESTIMATED GP EI GRADIENTS\n",
        "\n",
        "np.random.seed(run_num_13)\n",
        "surrogate_approx_13 = dGaussianProcess(cov_func, optimize=opt)\n",
        "\n",
        "approx_13 = GPGO_multi(surrogate_approx_13, Acquisition_grad(util), objfunc, param)\n",
        "approx_13.run(init_evals=n_init, max_iter=iters)\n"
      ]
    },
    {
      "cell_type": "code",
      "execution_count": 26,
      "metadata": {
        "id": "ojHTeARNGCoi",
        "colab": {
          "base_uri": "https://localhost:8080/"
        },
        "outputId": "e692c557-4767-4c75-828c-0f21ec0384be"
      },
      "outputs": [
        {
          "output_type": "stream",
          "name": "stdout",
          "text": [
            "Evaluation \t Proposed point \t  Current eval. \t  Best eval. \t        Exact EI: StdDev. x \t Approx EI: StdDev. x \n",
            "init\t [0.27886688 5.46330104]\t 18.728481209446468\t 18.728481209446468\t    \t    \n",
            "init\t [ 7.40855371 -9.83906103]\t 371.31674613664467\t 18.728481209446468\t    \t    \n",
            "init\t [-3.80528149  9.15207479]\t 68.19416312981014\t 18.728481209446468\t    \t    \n",
            "init\t [ 0.26233425 -3.6343115 ]\t 261.94243460125864\t 18.728481209446468\t    \t    \n",
            "init\t [ 0.78399875 -5.57490115]\t 382.6954465291845\t 18.728481209446468\t    \t    \n",
            "1  \t [ 9.82765998 -0.95725402]\t 188.47085669712428\t 18.728481209446468\t 6.640981601983202\t 6.686153732537138\n",
            "2  \t [10.          8.78452161]\t 988.7890067286946\t 18.728481209446468\t 6.475038002967281\t 6.2561540106494675\n",
            "3  \t [-8.40655166 -0.09704184]\t 723.4342844550697\t 18.728481209446468\t 5.562234730341789\t 5.451373110794089\n",
            "4  \t [-10. -10.]\t 2594.0\t 18.728481209446468\t 5.856432005668705\t 6.0186528687158365\n",
            "5  \t [5.47995074 3.35515413]\t 113.70904973178457\t 18.728481209446468\t 5.18011253446406\t 5.1791140518624506\n",
            "6  \t [-10.  10.]\t 234.0\t 18.728481209446468\t 5.500922972924714\t 6.159534735052009\n",
            "7  \t [ 3.81751055 10.        ]\t 442.47241906870204\t 18.728481209446468\t 5.1505622417053045\t 5.728659603217602\n",
            "8  \t [ -3.41669624 -10.        ]\t 1401.872437063888\t 18.728481209446468\t 5.531486156864794\t 5.762766995412774\n",
            "9  \t [-4.4472863   3.89082948]\t 113.51170038928798\t 18.728481209446468\t 5.985731178485083\t 6.094266101111666\n",
            "10 \t [-5.22078861 -4.62058189]\t 863.1056287370764\t 18.728481209446468\t 5.167320508136162\t 5.438786692521351\n",
            "11 \t [ 6.0588308  -4.55380772]\t 107.55141933698386\t 18.728481209446468\t 5.93622764279116\t 6.75878767187146\n",
            "12 \t [-10.           4.93739669]\t 453.27662077152917\t 18.728481209446468\t 5.652139165542819\t 6.540989393884804\n",
            "13 \t [-0.25317582  1.19176168]\t 42.32920159864841\t 18.728481209446468\t 5.735308315186226\t 6.016683818116295\n",
            "14 \t [  2.45961929 -10.        ]\t 703.8520360621507\t 18.728481209446468\t 5.755373445447923\t 6.488262696407675\n",
            "15 \t [-3.74851901 -0.29102296]\t 291.916205364391\t 18.728481209446468\t 5.464845108883685\t 6.3441575019139655\n",
            "16 \t [10.         3.7455538]\t 461.4591255976363\t 18.728481209446468\t 5.691870866826832\t 5.7781638463781535\n",
            "17 \t [-10.          -4.79059682]\t 1594.039513997886\t 18.728481209446468\t 5.690397909571033\t 6.48402710634281\n",
            "18 \t [ 3.84254118 -0.6945421 ]\t 24.63330396216444\t 18.728481209446468\t 5.208385732697402\t 6.067687271567235\n",
            "19 \t [-0.30815942 10.        ]\t 180.2994777261411\t 18.728481209446468\t 5.567616803946421\t 5.892687491407461\n",
            "20 \t [10.         -5.96134381]\t 161.3116600192966\t 18.728481209446468\t 5.649592947373075\t 5.272818928417435\n"
          ]
        }
      ],
      "source": [
        "### ESTIMATED GP EI GRADIENTS\n",
        "\n",
        "np.random.seed(run_num_14)\n",
        "surrogate_approx_14 = dGaussianProcess(cov_func, optimize=opt)\n",
        "\n",
        "approx_14 = GPGO_multi(surrogate_approx_14, Acquisition_grad(util), objfunc, param)\n",
        "approx_14.run(init_evals=n_init, max_iter=iters)\n"
      ]
    },
    {
      "cell_type": "code",
      "execution_count": 27,
      "metadata": {
        "id": "vCJzn4vWGCs3",
        "colab": {
          "base_uri": "https://localhost:8080/"
        },
        "outputId": "bbaac0c3-de64-40be-866c-78f3217c9799"
      },
      "outputs": [
        {
          "output_type": "stream",
          "name": "stdout",
          "text": [
            "Evaluation \t Proposed point \t  Current eval. \t  Best eval. \t        Exact EI: StdDev. x \t Approx EI: StdDev. x \n",
            "init\t [ 6.97635395 -6.4220815 ]\t 171.98457986923216\t 171.98457986923216\t    \t    \n",
            "init\t [-8.91273571 -2.76923108]\t 1115.2426864421157\t 171.98457986923216\t    \t    \n",
            "init\t [-4.49198143  0.6000045 ]\t 285.0550378664367\t 171.98457986923216\t    \t    \n",
            "init\t [-3.88162169 -3.91051282]\t 627.8031621427792\t 171.98457986923216\t    \t    \n",
            "init\t [-7.76517448 -5.00201972]\t 1265.415808453521\t 171.98457986923216\t    \t    \n",
            "1  \t [ 6.52327636 10.        ]\t 706.8363850172555\t 171.98457986923216\t 6.928488246684234\t 7.020403565485656\n",
            "2  \t [-9.69991687  7.99454818]\t 269.63866043864715\t 171.98457986923216\t 6.414026343554996\t 6.782460742542475\n",
            "\u001b[1m\u001b[92m3\u001b[0m\t \u001b[1m\u001b[92m[-2.47595828  9.67128975]\u001b[0m\t \u001b[1m\u001b[92m97.42896588341907\u001b[0m\t \u001b[1m\u001b[92m97.42896588341907\u001b[0m\t \u001b[1m\u001b[92m7.129641744598284\u001b[0m\t \u001b[1m\u001b[92m6.523494707099891\u001b[0m\n",
            "4  \t [8.17696818 1.09984692]\t 166.4985641578168\t 97.42896588341907\t 6.281229329010957\t 6.328253430432236\n",
            "5  \t [  0.50906595 -10.        ]\t 897.2622221617962\t 97.42896588341907\t 7.424012672914007\t 6.786231028868914\n",
            "\u001b[1m\u001b[92m6\u001b[0m\t \u001b[1m\u001b[92m[ 2.78775846 -2.01327301]\u001b[0m\t \u001b[1m\u001b[92m69.94476298368767\u001b[0m\t \u001b[1m\u001b[92m69.94476298368767\u001b[0m\t \u001b[1m\u001b[92m7.132570162963909\u001b[0m\t \u001b[1m\u001b[92m7.580464709954351\u001b[0m\n",
            "\u001b[1m\u001b[92m7\u001b[0m\t \u001b[1m\u001b[92m[0.84228892 3.73338318]\u001b[0m\t \u001b[1m\u001b[92m1.8883171232390357\u001b[0m\t \u001b[1m\u001b[92m1.8883171232390357\u001b[0m\t \u001b[1m\u001b[92m7.549976122743916\u001b[0m\t \u001b[1m\u001b[92m6.755246595835686\u001b[0m\n",
            "8  \t [-10. -10.]\t 2594.0\t 1.8883171232390357\t 6.514276690328668\t 6.573423489573028\n",
            "9  \t [10.          5.89737567]\t 655.5849773137745\t 1.8883171232390357\t 4.993531614519033\t 5.378399253940007\n",
            "10 \t [4.64461002 4.9088484 ]\t 140.2904857378105\t 1.8883171232390357\t 5.823331920056821\t 6.052874434547227\n",
            "11 \t [-10.           2.69595066]\t 632.2185717846851\t 1.8883171232390357\t 5.448957156577632\t 5.318861961020121\n",
            "12 \t [-5.13858086  5.61511132]\t 94.18033256619363\t 1.8883171232390357\t 5.093750954418808\t 4.826571833353015\n",
            "13 \t [ -4.63934183 -10.        ]\t 1590.502431581184\t 1.8883171232390357\t 6.583937036141678\t 6.826683755978839\n",
            "14 \t [ 10. -10.]\t 314.0\t 1.8883171232390357\t 5.856465912297137\t 6.213311560578879\n",
            "15 \t [10.         -3.07283868]\t 152.15246324893326\t 1.8883171232390357\t 4.7237972440341585\t 4.683805820143044\n",
            "16 \t [1.78962303 8.55261008]\t 192.3506669031427\t 1.8883171232390357\t 6.253412864367054\t 6.1733043865089945\n",
            "17 \t [-0.07670648  0.86429884]\t 46.99876757903843\t 1.8883171232390357\t 5.231526231835421\t 5.418418631880253\n",
            "18 \t [ 2.62643278 -5.95677436]\t 297.8047213311394\t 1.8883171232390357\t 5.892583938194698\t 5.835534602816087\n",
            "19 \t [4.08625361 1.23174382]\t 19.60016015874861\t 1.8883171232390357\t 5.950578404051135\t 5.944245731083125\n",
            "20 \t [  5.12704856 -10.        ]\t 500.9495988873623\t 1.8883171232390357\t 5.371631491298768\t 5.366794642065777\n"
          ]
        }
      ],
      "source": [
        "### ESTIMATED GP EI GRADIENTS\n",
        "\n",
        "np.random.seed(run_num_15)\n",
        "surrogate_approx_15 = dGaussianProcess(cov_func, optimize=opt)\n",
        "\n",
        "approx_15 = GPGO_multi(surrogate_approx_15, Acquisition_grad(util), objfunc, param)\n",
        "approx_15.run(init_evals=n_init, max_iter=iters)\n"
      ]
    },
    {
      "cell_type": "code",
      "execution_count": 28,
      "metadata": {
        "id": "bGGkhp-kGCw6",
        "colab": {
          "base_uri": "https://localhost:8080/"
        },
        "outputId": "8f917437-af00-4d01-f2ad-26c6b3d2f1a9"
      },
      "outputs": [
        {
          "output_type": "stream",
          "name": "stdout",
          "text": [
            "Evaluation \t Proposed point \t  Current eval. \t  Best eval. \t        Exact EI: StdDev. x \t Approx EI: StdDev. x \n",
            "init\t [-5.53417842  0.46326683]\t 378.2562509858209\t 182.86095429406956\t    \t    \n",
            "init\t [ 1.01402913 -9.087961  ]\t 729.2383206820605\t 182.86095429406956\t    \t    \n",
            "init\t [-2.78542329 -5.53838117]\t 694.7380078426447\t 182.86095429406956\t    \t    \n",
            "init\t [ 3.77452324 -6.7253715 ]\t 295.53799633399245\t 182.86095429406956\t    \t    \n",
            "init\t [-8.59350266  8.8202172 ]\t 182.86095429406956\t 182.86095429406956\t    \t    \n",
            "1  \t [ 4.30410789 10.        ]\t 484.6156861765039\t 182.86095429406956\t 6.925549952306833\t 6.975498251961761\n",
            "2  \t [10.         -0.19467815]\t 226.0130155435303\t 182.86095429406956\t 7.800035992644689\t 7.585231641033294\n",
            "3  \t [-10. -10.]\t 2594.0\t 182.86095429406956\t 7.8074407091220435\t 7.329071781054396\n",
            "4  \t [ 10. -10.]\t 314.0\t 182.86095429406956\t 6.137812267922666\t 6.76863705252026\n",
            "\u001b[1m\u001b[92m5\u001b[0m\t \u001b[1m\u001b[92m[-2.22531694  5.42968011]\u001b[0m\t \u001b[1m\u001b[92m18.838166667692633\u001b[0m\t \u001b[1m\u001b[92m18.838166667692633\u001b[0m\t \u001b[1m\u001b[92m5.366106923521237\u001b[0m\t \u001b[1m\u001b[92m5.887588508080026\u001b[0m\n",
            "6  \t [4.43480488 2.12559818]\t 38.78511855673103\t 18.838166667692633\t 6.983241587369725\t 6.807835401584617\n",
            "7  \t [8.9823644 5.8583858]\t 541.9759697252393\t 18.838166667692633\t 6.033857299582642\t 6.032116499404969\n",
            "8  \t [-10.          -3.59355464]\t 1402.6076229873108\t 18.838166667692633\t 6.340633370894684\t 5.7753354841326825\n",
            "9  \t [ 0.06434184 -0.56247466]\t 94.49947721635723\t 18.838166667692633\t 6.200082488760138\t 6.338449067747881\n",
            "10 \t [-10.           3.59279205]\t 554.5913114835325\t 18.838166667692633\t 6.404186820067296\t 6.640826736255767\n",
            "11 \t [-1.33517129 10.        ]\t 141.495532686618\t 18.838166667692633\t 6.940108546460022\t 6.723470048782059\n",
            "12 \t [ 8.71065285 -5.04337106]\t 124.59279095426349\t 18.838166667692633\t 6.453101644210175\t 5.798490038635351\n",
            "13 \t [1.93006952 5.6835414 ]\t 60.29915940923062\t 18.838166667692633\t 5.280239352234053\t 4.901172461098402\n",
            "14 \t [ -4.69171048 -10.        ]\t 1598.9157307577698\t 18.838166667692633\t 5.973930201198182\t 5.747809194853612\n",
            "15 \t [ 5.00773412 -2.09627576]\t 46.77365109705417\t 18.838166667692633\t 6.465512323363004\t 5.500586978306064\n",
            "16 \t [-5.8235182   5.40734699]\t 130.3659927197735\t 18.838166667692633\t 6.695528225601713\t 5.594825088180001\n",
            "17 \t [10. 10.]\t 1154.0\t 18.838166667692633\t 6.7788357907328205\t 6.32337413557127\n",
            "18 \t [-5.02934949 10.        ]\t 89.12170492445051\t 18.838166667692633\t 5.198661170357148\t 5.8154791549328255\n",
            "19 \t [-1.86702024  2.44244935]\t 55.441411095120024\t 18.838166667692633\t 5.145945674994979\t 5.1823150133106415\n",
            "20 \t [  5.92017019 -10.        ]\t 454.3426738914393\t 18.838166667692633\t 6.0457462795378545\t 6.031963065848303\n"
          ]
        }
      ],
      "source": [
        "### ESTIMATED GP EI GRADIENTS\n",
        "\n",
        "np.random.seed(run_num_16)\n",
        "surrogate_approx_16 = dGaussianProcess(cov_func, optimize=opt)\n",
        "\n",
        "approx_16 = GPGO_multi(surrogate_approx_16, Acquisition_grad(util), objfunc, param)\n",
        "approx_16.run(init_evals=n_init, max_iter=iters)\n"
      ]
    },
    {
      "cell_type": "code",
      "execution_count": 29,
      "metadata": {
        "id": "Yrs2mp7hGC1Z",
        "colab": {
          "base_uri": "https://localhost:8080/"
        },
        "outputId": "86bb2cc8-5511-4455-cbd1-5d0e2d980f9a"
      },
      "outputs": [
        {
          "output_type": "stream",
          "name": "stdout",
          "text": [
            "Evaluation \t Proposed point \t  Current eval. \t  Best eval. \t        Exact EI: StdDev. x \t Approx EI: StdDev. x \n",
            "init\t [-4.10669995  0.61173511]\t 256.4801849765532\t 5.553508838684786\t    \t    \n",
            "init\t [-6.16958426 -8.64199284]\t 1602.4406672130797\t 5.553508838684786\t    \t    \n",
            "init\t [5.7397092  3.12667044]\t 117.20749172761734\t 5.553508838684786\t    \t    \n",
            "init\t [2.75041792 1.51205788]\t 5.553508838684786\t 5.553508838684786\t    \t    \n",
            "init\t [-9.21874168 -2.84372791]\t 1170.583554210921\t 5.553508838684786\t    \t    \n",
            "1  \t [-8.64042543  9.21575513]\t 178.4868811929342\t 5.553508838684786\t 6.898023252081969\t 6.859689088006699\n",
            "2  \t [ 4.54825031 -8.71744454]\t 416.8315243674168\t 5.553508838684786\t 5.612907571212438\t 5.834326546629668\n",
            "3  \t [9.12376544 9.73620918]\t 994.6474624709882\t 5.553508838684786\t 5.817822280639895\t 5.942179597428053\n",
            "4  \t [-0.05385845  7.96254756]\t 86.84889828641981\t 5.553508838684786\t 6.318750659523932\t 7.001012399771867\n",
            "5  \t [ 9.88954384 -3.14435342]\t 146.92135034942362\t 5.553508838684786\t 5.398508048725551\t 6.069709425531179\n",
            "6  \t [-0.96206135 -4.60899699]\t 428.1671513226903\t 5.553508838684786\t 5.5454193109258325\t 5.489963959862157\n",
            "7  \t [-10.           3.45454393]\t 566.03318532889\t 5.553508838684786\t 5.180788406036261\t 5.827898132341932\n",
            "8  \t [ 3.72738553 -3.7457176 ]\t 117.53130847019132\t 5.553508838684786\t 6.190627787973234\t 6.189474198587632\n",
            "9  \t [ 10. -10.]\t 314.0\t 5.553508838684786\t 6.7474331436305155\t 7.100735834396338\n",
            "10 \t [-4.68153705  5.85535533]\t 72.38212970575061\t 5.553508838684786\t 5.037974921940788\t 5.195226964471247\n",
            "11 \t [9.42959357 2.14890782]\t 301.5171394479115\t 5.553508838684786\t 6.36062319872612\t 6.089168270253834\n",
            "12 \t [ -0.68503821 -10.        ]\t 1034.4407425675033\t 5.553508838684786\t 5.5646719427995786\t 5.598296078823398\n",
            "\u001b[1m\u001b[92m13\u001b[0m\t \u001b[1m\u001b[92m[-0.40894585  3.53152039]\u001b[0m\t \u001b[1m\u001b[92m5.3471440870718245\u001b[0m\t \u001b[1m\u001b[92m5.3471440870718245\u001b[0m\t \u001b[1m\u001b[92m5.2467404211594415\u001b[0m\t \u001b[1m\u001b[92m5.175871729597835\u001b[0m\n",
            "14 \t [4.46832079 7.73176899]\t 303.3847763179266\t 5.3471440870718245\t 5.735038743754841\t 5.55789976787075\n",
            "15 \t [-3.98076198 10.        ]\t 90.11727864356376\t 5.3471440870718245\t 5.382505554182336\t 5.681911099540464\n",
            "16 \t [ 0.18293651 -0.31093289]\t 79.79128593287098\t 5.3471440870718245\t 5.077028494560456\t 5.163031752241964\n",
            "17 \t [-5.27959232 -4.38010255]\t 840.2482489532126\t 5.3471440870718245\t 5.243066305389052\t 5.747756197975801\n",
            "18 \t [2.06042384 4.4946218 ]\t 29.471425844955625\t 5.3471440870718245\t 5.6211974334995345\t 5.822204149631107\n",
            "19 \t [ 6.37808778 -0.87602502]\t 52.972168192371534\t 5.3471440870718245\t 5.349372028029009\t 5.603066664265333\n",
            "20 \t [8.27280183 5.7777306 ]\t 464.6622417332414\t 5.3471440870718245\t 5.755308514108045\t 5.823043698265076\n"
          ]
        }
      ],
      "source": [
        "### ESTIMATED GP EI GRADIENTS\n",
        "\n",
        "np.random.seed(run_num_17)\n",
        "surrogate_approx_17 = dGaussianProcess(cov_func, optimize=opt)\n",
        "\n",
        "approx_17 = GPGO_multi(surrogate_approx_17, Acquisition_grad(util), objfunc, param)\n",
        "approx_17.run(init_evals=n_init, max_iter=iters)\n"
      ]
    },
    {
      "cell_type": "code",
      "execution_count": 30,
      "metadata": {
        "id": "f0HIEP3PIUEa",
        "colab": {
          "base_uri": "https://localhost:8080/"
        },
        "outputId": "138c2e1b-8f79-4926-e468-94ad2126b0bc"
      },
      "outputs": [
        {
          "output_type": "stream",
          "name": "stdout",
          "text": [
            "Evaluation \t Proposed point \t  Current eval. \t  Best eval. \t        Exact EI: StdDev. x \t Approx EI: StdDev. x \n",
            "init\t [3.00748483 0.10906747]\t 15.509405515253864\t 15.509405515253864\t    \t    \n",
            "init\t [ 7.57202942 -6.36319549]\t 162.0234327224751\t 15.509405515253864\t    \t    \n",
            "init\t [7.04466137 5.00272572]\t 299.59059770472754\t 15.509405515253864\t    \t    \n",
            "init\t [3.32203335 9.75790897]\t 380.8425822546991\t 15.509405515253864\t    \t    \n",
            "init\t [-4.86063155 -9.43388149]\t 1527.7052410059514\t 15.509405515253864\t    \t    \n",
            "1  \t [-6.1664519   4.28513481]\t 191.3691670751314\t 15.509405515253864\t 6.285691568926353\t 6.621112138158342\n",
            "2  \t [-6.07110106 -2.27098711]\t 687.0923366704285\t 15.509405515253864\t 5.304675370125934\t 5.237093746897661\n",
            "3  \t [-10.  10.]\t 234.0\t 15.509405515253864\t 6.280369814188278\t 6.388235831113425\n",
            "4  \t [  2.79707347 -10.        ]\t 674.2517246867691\t 15.509405515253864\t 6.804135536177876\t 6.904720987480537\n",
            "5  \t [ 1.30038511 -3.68868616]\t 208.0703148302319\t 15.509405515253864\t 5.2846513925098675\t 5.705773804705929\n",
            "6  \t [ 9.78805343 -0.64586718]\t 196.29054860310802\t 15.509405515253864\t 6.905609341591216\t 6.545749591375357\n",
            "\u001b[1m\u001b[92m7\u001b[0m\t \u001b[1m\u001b[92m[-0.04170562  4.71550296]\u001b[0m\t \u001b[1m\u001b[92m5.844112398108938\u001b[0m\t \u001b[1m\u001b[92m5.844112398108938\u001b[0m\t \u001b[1m\u001b[92m7.551109617201356\u001b[0m\t \u001b[1m\u001b[92m6.8083403420616095\u001b[0m\n",
            "8  \t [-2.91013283  9.51059175]\t 84.72648994832652\t 5.844112398108938\t 6.084920686195078\t 5.985729572950765\n",
            "9  \t [-10.          -6.54050045]\t 1899.6697835343466\t 5.844112398108938\t 5.8633945281964275\t 5.565773709596112\n",
            "10 \t [10. 10.]\t 1154.0\t 5.844112398108938\t 6.326897618516569\t 6.323893018634915\n",
            "11 \t [-1.68794682  0.73585403]\t 110.44430720605708\t 5.844112398108938\t 5.90692152257734\t 5.929038113335838\n",
            "12 \t [ 5.72228894 -2.43189615]\t 53.81967814504377\t 5.844112398108938\t 5.562827313576367\t 5.267346844388409\n",
            "13 \t [-10.           1.60956616]\t 737.0247093641907\t 5.844112398108938\t 5.860477066518204\t 6.181051714790419\n",
            "14 \t [ 10. -10.]\t 314.0\t 5.844112398108938\t 5.583933287763427\t 5.338832012142628\n",
            "15 \t [-0.75749052 -7.36583982]\t 698.4399624049056\t 5.844112398108938\t 5.759911106906562\t 5.795927764323947\n",
            "16 \t [-2.55194946  5.78596067]\t 22.724877176404025\t 5.844112398108938\t 5.1331850713711775\t 5.186205979998362\n",
            "17 \t [2.93752121 3.73982313]\t 32.97401755146841\t 5.844112398108938\t 6.750962224309285\t 6.6674372152435355\n",
            "18 \t [-6.41912123  8.28059053]\t 101.22125037178824\t 5.844112398108938\t 5.990572242603381\t 6.2105888716322\n",
            "19 \t [10.          2.97541494]\t 403.23289751224905\t 5.844112398108938\t 5.900384831129105\t 5.585244565805998\n",
            "20 \t [-10.           5.96170091]\t 388.2286813733589\t 5.844112398108938\t 5.619151478936675\t 5.932231837978792\n"
          ]
        }
      ],
      "source": [
        "### ESTIMATED GP EI GRADIENTS\n",
        "\n",
        "np.random.seed(run_num_18)\n",
        "surrogate_approx_18 = dGaussianProcess(cov_func, optimize=opt)\n",
        "\n",
        "approx_18 = GPGO_multi(surrogate_approx_18, Acquisition_grad(util), objfunc, param)\n",
        "approx_18.run(init_evals=n_init, max_iter=iters)\n"
      ]
    },
    {
      "cell_type": "code",
      "execution_count": 31,
      "metadata": {
        "id": "S3mxRQDLIUPC",
        "colab": {
          "base_uri": "https://localhost:8080/"
        },
        "outputId": "5cf80c7c-04eb-4efa-879b-22c29f0b4451"
      },
      "outputs": [
        {
          "output_type": "stream",
          "name": "stdout",
          "text": [
            "Evaluation \t Proposed point \t  Current eval. \t  Best eval. \t        Exact EI: StdDev. x \t Approx EI: StdDev. x \n",
            "init\t [-8.04932797  5.22499433]\t 273.1270544592675\t 139.9227861892117\t    \t    \n",
            "init\t [-5.06124054 -7.23736625]\t 1204.1206373978957\t 139.9227861892117\t    \t    \n",
            "init\t [-3.37106873 -8.3400087 ]\t 1135.0538557997047\t 139.9227861892117\t    \t    \n",
            "init\t [3.43954163 6.13187596]\t 139.9227861892117\t 139.9227861892117\t    \t    \n",
            "init\t [9.65483829 2.7132147 ]\t 355.08571481298065\t 139.9227861892117\t    \t    \n",
            "1  \t [ 10. -10.]\t 314.0\t 139.9227861892117\t 7.182621606688426\t 7.381150092311839\n",
            "\u001b[1m\u001b[92m2\u001b[0m\t \u001b[1m\u001b[92m[ 4.81772344 -2.77685984]\u001b[0m\t \u001b[1m\u001b[92m63.29998354966632\u001b[0m\t \u001b[1m\u001b[92m63.29998354966632\u001b[0m\t \u001b[1m\u001b[92m7.300770428289769\u001b[0m\t \u001b[1m\u001b[92m6.791229085458451\u001b[0m\n",
            "3  \t [10. 10.]\t 1154.0\t 63.29998354966632\t 7.427174879188229\t 7.371954803551598\n",
            "4  \t [-9.64931371 -1.76781368]\t 1086.8911967373488\t 63.29998354966632\t 5.7616113467796755\t 5.759363175841217\n",
            "5  \t [-1.38925656 -0.36040274]\t 149.23518182721037\t 63.29998354966632\t 5.815572522289286\t 5.759331238169337\n",
            "\u001b[1m\u001b[92m6\u001b[0m\t \u001b[1m\u001b[92m[-2.2233185   8.40664734]\u001b[0m\t \u001b[1m\u001b[92m58.68931693407148\u001b[0m\t \u001b[1m\u001b[92m58.68931693407148\u001b[0m\t \u001b[1m\u001b[92m6.333133906664126\u001b[0m\t \u001b[1m\u001b[92m6.363857827076838\u001b[0m\n",
            "7  \t [  3.85729244 -10.        ]\t 588.6621863347909\t 58.68931693407148\t 6.421205499459421\t 6.432219772883034\n",
            "8  \t [10.         -4.12144536]\t 145.8308541548204\t 58.68931693407148\t 5.9480419019347135\t 5.512892810224287\n",
            "9  \t [-10. -10.]\t 2594.0\t 58.68931693407148\t 7.036017285937068\t 7.357749544089096\n",
            "10 \t [-10.  10.]\t 234.0\t 58.68931693407148\t 6.013249928348629\t 6.1177955269590845\n",
            "11 \t [ 0.77260645 -5.10702775]\t 343.6259204843826\t 58.68931693407148\t 5.015967287887074\t 5.547079832016092\n",
            "12 \t [-3.25424882  3.96856991]\t 62.21950423250564\t 58.68931693407148\t 5.840470383326482\t 5.528433746509053\n",
            "\u001b[1m\u001b[92m13\u001b[0m\t \u001b[1m\u001b[92m[3.16268281 1.44625515]\u001b[0m\t \u001b[1m\u001b[92m8.574541726919785\u001b[0m\t \u001b[1m\u001b[92m8.574541726919785\u001b[0m\t \u001b[1m\u001b[92m6.436045534405413\u001b[0m\t \u001b[1m\u001b[92m6.332490765569025\u001b[0m\n",
            "14 \t [ 1.69442715 10.        ]\t 286.29906561642645\t 8.574541726919785\t 5.037902730172778\t 5.9083699857939305\n",
            "15 \t [-5.00913021 -2.46543675]\t 592.6433927776098\t 8.574541726919785\t 5.448826749193161\t 5.700181551935041\n",
            "16 \t [-5.74573096 10.        ]\t 94.76349711086402\t 8.574541726919785\t 5.3769060135769475\t 5.574740763941553\n",
            "17 \t [ 6.62036921 -6.50966569]\t 182.52880004830752\t 8.574541726919785\t 5.6510912475384245\t 5.260409067857721\n",
            "\u001b[1m\u001b[92m18\u001b[0m\t \u001b[1m\u001b[92m[0.48534564 3.41111705]\u001b[0m\t \u001b[1m\u001b[92m0.4767662388150875\u001b[0m\t \u001b[1m\u001b[92m0.4767662388150875\u001b[0m\t \u001b[1m\u001b[92m5.901501281080028\u001b[0m\t \u001b[1m\u001b[92m5.971320357932481\u001b[0m\n",
            "19 \t [7.4024093  6.31504061]\t 429.6956694092838\t 0.4767662388150875\t 4.747818807892953\t 4.894247959831642\n",
            "20 \t [-6.33589729  1.56331205]\t 363.71246917568857\t 0.4767662388150875\t 5.419617953127197\t 5.412666522410911\n"
          ]
        }
      ],
      "source": [
        "### ESTIMATED GP EI GRADIENTS\n",
        "\n",
        "np.random.seed(run_num_19)\n",
        "surrogate_approx_19 = dGaussianProcess(cov_func, optimize=opt)\n",
        "\n",
        "approx_19 = GPGO_multi(surrogate_approx_19, Acquisition_grad(util), objfunc, param)\n",
        "approx_19.run(init_evals=n_init, max_iter=iters)\n"
      ]
    },
    {
      "cell_type": "code",
      "execution_count": 32,
      "metadata": {
        "id": "Aawd59dRIUYn",
        "colab": {
          "base_uri": "https://localhost:8080/"
        },
        "outputId": "1b681166-fa3f-4a17-d734-33790e9aca8e"
      },
      "outputs": [
        {
          "output_type": "stream",
          "name": "stdout",
          "text": [
            "Evaluation \t Proposed point \t  Current eval. \t  Best eval. \t        Exact EI: StdDev. x \t Approx EI: StdDev. x \n",
            "init\t [1.76261602 7.95427456]\t 155.85777119682857\t 155.85777119682857\t    \t    \n",
            "init\t [7.83061459 6.31674955]\t 469.53411882784934\t 155.85777119682857\t    \t    \n",
            "init\t [-9.28220829  3.83515164]\t 463.4088031056881\t 155.85777119682857\t    \t    \n",
            "init\t [-2.42638116  0.37021891]\t 165.36424127801376\t 155.85777119682857\t    \t    \n",
            "init\t [ 3.15902931 -6.12299564]\t 281.877765303078\t 155.85777119682857\t    \t    \n",
            "1  \t [-10. -10.]\t 2594.0\t 155.85777119682857\t 6.053170869622787\t 5.775324040727576\n",
            "2  \t [ 10. -10.]\t 314.0\t 155.85777119682857\t 6.365310119303876\t 6.742787911881372\n",
            "3  \t [ 9.8884163  -1.30066364]\t 181.68954990380513\t 155.85777119682857\t 5.906172933518018\t 5.835107153955069\n",
            "4  \t [-8.85440035 10.        ]\t 178.69961169654815\t 155.85777119682857\t 5.411053898235866\t 6.280001279727354\n",
            "5  \t [-3.33773231 -7.62208142]\t 1026.8286424927821\t 155.85777119682857\t 6.36502619943417\t 6.391540834936127\n",
            "6  \t [-10.          -3.45637356]\t 1381.5846710452083\t 155.85777119682857\t 6.45515300209794\t 6.926487979640482\n",
            "\u001b[1m\u001b[92m7\u001b[0m\t \u001b[1m\u001b[92m[-3.16771038 10.        ]\u001b[0m\t \u001b[1m\u001b[92m98.45726781708228\u001b[0m\t \u001b[1m\u001b[92m98.45726781708228\u001b[0m\t \u001b[1m\u001b[92m7.074291610142815\u001b[0m\t \u001b[1m\u001b[92m6.7422406872100415\u001b[0m\n",
            "\u001b[1m\u001b[92m8\u001b[0m\t \u001b[1m\u001b[92m[4.17364886 1.2426642 ]\u001b[0m\t \u001b[1m\u001b[92m21.184046926995908\u001b[0m\t \u001b[1m\u001b[92m21.184046926995908\u001b[0m\t \u001b[1m\u001b[92m6.065163519359631\u001b[0m\t \u001b[1m\u001b[92m6.034184170427935\u001b[0m\n",
            "\u001b[1m\u001b[92m9\u001b[0m\t \u001b[1m\u001b[92m[0.74231646 3.58458116]\u001b[0m\t \u001b[1m\u001b[92m0.835584172462964\u001b[0m\t \u001b[1m\u001b[92m0.835584172462964\u001b[0m\t \u001b[1m\u001b[92m6.471014536334802\u001b[0m\t \u001b[1m\u001b[92m5.8789381116278125\u001b[0m\n",
            "10 \t [-3.72943894  4.61261559]\t 63.82647278787455\t 0.835584172462964\t 6.01930750106022\t 6.074524884963679\n",
            "11 \t [ 7.98049907 -5.59838312]\t 133.12975469531904\t 0.835584172462964\t 6.000414737609153\t 6.0095325952392376\n",
            "12 \t [ 1.49908576 -1.83218311]\t 98.70201069632179\t 0.835584172462964\t 6.1645508914270515\t 5.871774772044662\n",
            "13 \t [ 5.5054846 10.       ]\t 598.8040946681992\t 0.835584172462964\t 6.73561207103118\t 6.757533953978748\n",
            "14 \t [-7.09546838  0.37168824]\t 532.4424728824831\t 0.835584172462964\t 5.284245701639316\t 5.456879240460124\n",
            "15 \t [  5.35197886 -10.        ]\t 487.09279844637933\t 0.835584172462964\t 5.169224653325951\t 5.300357553580139\n",
            "16 \t [  0.7139765 -10.       ]\t 875.1554916632643\t 0.835584172462964\t 5.666102611788133\t 5.727729525805744\n",
            "17 \t [3.78563486 4.56370532]\t 85.87197589665995\t 0.835584172462964\t 5.500009577294299\t 5.507283607753005\n",
            "18 \t [ 5.64293001 -2.14639239]\t 49.056051167093074\t 0.835584172462964\t 5.924657694790712\t 5.890214460422504\n",
            "19 \t [-4.70627751 -3.32665204]\t 651.7537038571892\t 0.835584172462964\t 5.631736577967342\t 5.641396399021753\n",
            "20 \t [7.65488915 2.04393034]\t 175.10779321238311\t 0.835584172462964\t 5.02142616108404\t 5.128059232967882\n"
          ]
        }
      ],
      "source": [
        "### ESTIMATED GP EI GRADIENTS\n",
        "\n",
        "np.random.seed(run_num_20)\n",
        "surrogate_approx_20 = dGaussianProcess(cov_func, optimize=opt)\n",
        "\n",
        "approx_20 = GPGO_multi(surrogate_approx_20, Acquisition_grad(util), objfunc, param)\n",
        "approx_20.run(init_evals=n_init, max_iter=iters)\n"
      ]
    },
    {
      "cell_type": "code",
      "execution_count": 33,
      "metadata": {
        "id": "xkgzPRbBTHaq",
        "colab": {
          "base_uri": "https://localhost:8080/"
        },
        "outputId": "e1ce7ddd-8cf4-4b35-b297-356b82cc4397"
      },
      "outputs": [
        {
          "output_type": "execute_result",
          "data": {
            "text/plain": [
              "1659530554.1453555"
            ]
          },
          "metadata": {},
          "execution_count": 33
        }
      ],
      "source": [
        "end_approx = time.time()\n",
        "end_approx\n",
        "\n",
        "time_approx = end_approx - start_approx\n",
        "time_approx\n",
        "\n",
        "start_exact = time.time()\n",
        "start_exact"
      ]
    },
    {
      "cell_type": "code",
      "execution_count": 34,
      "metadata": {
        "id": "7CG3Ndvb16Rb",
        "colab": {
          "base_uri": "https://localhost:8080/"
        },
        "outputId": "f0e7c6a8-c536-4b2e-b6c9-7c01d9c4934c"
      },
      "outputs": [
        {
          "output_type": "stream",
          "name": "stdout",
          "text": [
            "Evaluation \t Proposed point \t  Current eval. \t  Best eval. \t        Exact EI: StdDev. x \t Approx EI: StdDev. x \n",
            "init\t [-1.65955991  4.40648987]\t 15.332210716052247\t 15.332210716052247\t    \t    \n",
            "init\t [-9.9977125  -3.95334855]\t 1458.2611077633842\t 15.332210716052247\t    \t    \n",
            "init\t [-7.06488218 -8.1532281 ]\t 1666.779874000304\t 15.332210716052247\t    \t    \n",
            "init\t [-6.27479577 -3.08878546]\t 804.3371752309802\t 15.332210716052247\t    \t    \n",
            "init\t [-2.06465052  0.77633468]\t 126.2019077328938\t 15.332210716052247\t    \t    \n",
            "1  \t [ 7.89213327 -8.29911577]\t 252.857497365554\t 15.332210716052247\t 6.624156874827542\t 6.8913272043591975\n",
            "2  \t [7.66612182 2.47344414]\t 195.49152221204983\t 15.332210716052247\t 6.10859145748814\t 6.142979934160932\n",
            "3  \t [1.62717855 9.40039978]\t 238.9058988758153\t 15.332210716052247\t 6.369595532471226\t 6.125446709960312\n",
            "4  \t [-9.56950389  8.95940422]\t 232.24098716076017\t 15.332210716052247\t 6.330168650309316\t 6.713044213034362\n",
            "5  \t [10. 10.]\t 1154.0\t 15.332210716052247\t 5.98698721645626\t 6.08400924198963\n",
            "6  \t [-0.76004985 -6.88543015]\t 643.2883230424145\t 15.332210716052247\t 5.699846544506373\t 5.706520669743924\n",
            "7  \t [-8.75959565  2.5569331 ]\t 511.82330855319293\t 15.332210716052247\t 6.103041782531833\t 6.1994968790311376\n",
            "8  \t [ 5.02108206 -2.99433439]\t 67.67604468193399\t 15.332210716052247\t 6.259084345472764\t 6.677273436768873\n",
            "9  \t [-3.97037946  9.46622449]\t 75.4669406299586\t 15.332210716052247\t 6.320717457945691\t 5.875990427931536\n",
            "10 \t [10.         -2.66127205]\t 157.63841844940671\t 15.332210716052247\t 6.128437403363144\t 5.854327531546431\n",
            "\u001b[1m\u001b[92m11\u001b[0m\t \u001b[1m\u001b[92m[2.64032618 2.86488789]\u001b[0m\t \u001b[1m\u001b[92m11.771602941417102\u001b[0m\t \u001b[1m\u001b[92m11.771602941417102\u001b[0m\t \u001b[1m\u001b[92m6.088423432903245\u001b[0m\t \u001b[1m\u001b[92m6.096597220758966\u001b[0m\n",
            "12 \t [ 3.4619063  -8.48830053]\t 463.94520307504655\t 11.771602941417102\t 6.05789849123068\t 5.99895156978075\n",
            "13 \t [ 0.78809265 -2.26151008]\t 147.56158662113182\t 11.771602941417102\t 5.42989942514664\t 4.986597798632716\n",
            "14 \t [-5.35449437  5.58439215]\t 103.91336450652419\t 11.771602941417102\t 5.97473765681243\t 6.1893743358152955\n",
            "15 \t [5.65806865 7.13051936]\t 347.7159110545282\t 11.771602941417102\t 5.668280939700222\t 6.03821519771715\n",
            "16 \t [-1.72546583  7.8849524 ]\t 49.94445298233575\t 11.771602941417102\t 5.8294018428779095\t 5.981601981686124\n",
            "17 \t [3.87910604 0.41693238]\t 15.312044897658179\t 11.771602941417102\t 6.277109640097811\t 5.724970228651418\n",
            "18 \t [ -3.403777 -10.      ]\t 1399.9590673475345\t 11.771602941417102\t 5.803278282871167\t 6.053518748197831\n",
            "19 \t [ 7.06556248 -0.80726576]\t 71.68593719676102\t 11.771602941417102\t 6.690626069340105\t 6.504274955810814\n",
            "20 \t [10.          5.62435763]\t 628.3900140137407\t 11.771602941417102\t 6.115081883059965\t 5.791575762111122\n"
          ]
        }
      ],
      "source": [
        "### EXACT GP EI GRADIENTS\n",
        "\n",
        "np.random.seed(run_num_1)\n",
        "surrogate_exact_1 = dGaussianProcess(cov_func, optimize=opt)\n",
        "\n",
        "exact_1 = dGPGO(surrogate_exact_1, Acquisition_grad(util), objfunc, param)\n",
        "exact_1.run(init_evals=n_init, max_iter=iters)\n"
      ]
    },
    {
      "cell_type": "code",
      "execution_count": 35,
      "metadata": {
        "id": "-ilCPSAu9SAg",
        "colab": {
          "base_uri": "https://localhost:8080/"
        },
        "outputId": "08b48d87-3f85-43e0-d92a-34a62f6df632"
      },
      "outputs": [
        {
          "output_type": "stream",
          "name": "stdout",
          "text": [
            "Evaluation \t Proposed point \t  Current eval. \t  Best eval. \t        Exact EI: StdDev. x \t Approx EI: StdDev. x \n",
            "init\t [-1.28010196 -9.48147536]\t 1032.6027521517153\t 92.40504507724606\t    \t    \n",
            "init\t [ 0.99324956 -1.29355215]\t 92.40504507724606\t 92.40504507724606\t    \t    \n",
            "init\t [-1.59264396 -3.39330358]\t 370.5851459944721\t 92.40504507724606\t    \t    \n",
            "init\t [-5.90702732  2.38541933]\t 274.38308294748543\t 92.40504507724606\t    \t    \n",
            "init\t [-4.00690653 -4.6634545 ]\t 725.9498417670716\t 92.40504507724606\t    \t    \n",
            "1  \t [4.01504693 9.2910216 ]\t 395.07910702982895\t 92.40504507724606\t 6.499174746678529\t 6.484694580492437\n",
            "2  \t [ 9.4582138 -7.7444757]\t 207.8931124700012\t 92.40504507724606\t 6.005296724064095\t 6.700399480203057\n",
            "3  \t [-10. -10.]\t 2594.0\t 92.40504507724606\t 7.032854675907769\t 6.535482197348729\n",
            "4  \t [8.51803193 1.4054842 ]\t 199.41545789668123\t 92.40504507724606\t 5.89668883662949\t 6.801380148095176\n",
            "\u001b[1m\u001b[92m5\u001b[0m\t \u001b[1m\u001b[92m[-3.02940699  7.85039728]\u001b[0m\t \u001b[1m\u001b[92m42.4585746721644\u001b[0m\t \u001b[1m\u001b[92m42.4585746721644\u001b[0m\t \u001b[1m\u001b[92m6.507909551325536\u001b[0m\t \u001b[1m\u001b[92m7.138591111267756\u001b[0m\n",
            "6  \t [-10.          -2.15637934]\t 1191.702621840299\t 42.4585746721644\t 6.7258325193187956\t 6.710696250857283\n",
            "7  \t [10. 10.]\t 1154.0\t 42.4585746721644\t 6.200731006369883\t 6.182226402710646\n",
            "8  \t [-8.02910362  9.26875701]\t 151.3000804279441\t 42.4585746721644\t 4.967732894692731\t 6.218498551941283\n",
            "\u001b[1m\u001b[92m9\u001b[0m\t \u001b[1m\u001b[92m[2.77284514 3.78089373]\u001b[0m\t \u001b[1m\u001b[92m29.839103635676324\u001b[0m\t \u001b[1m\u001b[92m29.839103635676324\u001b[0m\t \u001b[1m\u001b[92m5.302164839731586\u001b[0m\t \u001b[1m\u001b[92m5.760660117976281\u001b[0m\n",
            "10 \t [ 4.04320678 -6.03812597]\t 234.70505299725664\t 29.839103635676324\t 5.488668233558596\t 6.150426280807974\n",
            "11 \t [10.        -3.0555048]\t 152.34934633707434\t 29.839103635676324\t 6.49069200863721\t 7.1218510563277375\n",
            "\u001b[1m\u001b[92m12\u001b[0m\t \u001b[1m\u001b[92m[-1.33137451  3.32527081]\u001b[0m\t \u001b[1m\u001b[92m21.6389164884816\u001b[0m\t \u001b[1m\u001b[92m21.6389164884816\u001b[0m\t \u001b[1m\u001b[92m4.621946946770866\u001b[0m\t \u001b[1m\u001b[92m5.115962591745404\u001b[0m\n",
            "13 \t [7.58078705 5.70834615]\t 395.7938791866448\t 21.6389164884816\t 6.084859051966862\t 7.002172973981887\n",
            "14 \t [ 5.73174638 -2.01998842]\t 47.92204146598895\t 21.6389164884816\t 5.7213527654082235\t 6.417721771888524\n",
            "15 \t [-10.           3.98905762]\t 522.854104309952\t 21.6389164884816\t 5.8966826361679345\t 5.751538520589859\n",
            "16 \t [-0.06124668 10.        ]\t 191.20140835165324\t 21.6389164884816\t 5.460884460303309\t 5.590806724335581\n",
            "17 \t [-5.515103   -9.99841485]\t 1734.5148714722936\t 21.6389164884816\t 5.856432672259526\t 6.361048980400663\n",
            "18 \t [-2.78679684  0.55952251]\t 175.41154292211024\t 21.6389164884816\t 5.2278943931669595\t 5.77889978423309\n",
            "19 \t [0.81689159 6.13313975]\t 44.66083304941045\t 21.6389164884816\t 5.812664125467259\t 5.9833357074938895\n",
            "20 \t [-7.93391387 -6.04393388]\t 1454.41959670203\t 21.6389164884816\t 6.100216457035457\t 5.626943746354876\n"
          ]
        }
      ],
      "source": [
        "### EXACT GP EI GRADIENTS\n",
        "\n",
        "np.random.seed(run_num_2)\n",
        "surrogate_exact_2 = dGaussianProcess(cov_func, optimize=opt)\n",
        "\n",
        "exact_2 = dGPGO(surrogate_exact_2, Acquisition_grad(util), objfunc, param)\n",
        "exact_2.run(init_evals=n_init, max_iter=iters)\n"
      ]
    },
    {
      "cell_type": "code",
      "execution_count": 36,
      "metadata": {
        "id": "XieJ158mIvlP",
        "colab": {
          "base_uri": "https://localhost:8080/"
        },
        "outputId": "5b27ad3b-2818-4996-e006-bd21637ce48f"
      },
      "outputs": [
        {
          "output_type": "stream",
          "name": "stdout",
          "text": [
            "Evaluation \t Proposed point \t  Current eval. \t  Best eval. \t        Exact EI: StdDev. x \t Approx EI: StdDev. x \n",
            "init\t [1.01595805 4.16295645]\t 6.912079999083602\t 6.912079999083602\t    \t    \n",
            "init\t [-4.18190522  0.2165521 ]\t 288.3871250813255\t 6.912079999083602\t    \t    \n",
            "init\t [7.85893909 7.92586178]\t 626.8352854305291\t 6.912079999083602\t    \t    \n",
            "init\t [-7.48829379 -5.85514244]\t 1353.6437998345716\t 6.912079999083602\t    \t    \n",
            "init\t [-8.97065593 -1.18380313]\t 918.3130335940459\t 6.912079999083602\t    \t    \n",
            "1  \t [ 5.60629529 -3.87272935]\t 88.9992584872525\t 6.912079999083602\t 4.717150437873575\t 4.717150437873575\n",
            "2  \t [-6.2437035   9.04202486]\t 94.75343105833329\t 6.912079999083602\t 5.677703294817717\t 6.03479288667779\n",
            "3  \t [9.38223522 1.94345835]\t 286.04129236854146\t 6.912079999083602\t 5.6804141354308015\t 5.973954488477899\n",
            "4  \t [-0.42169096 -8.75441039]\t 834.625955715487\t 6.912079999083602\t 5.399971593025631\t 5.622654968982019\n",
            "5  \t [ 6.56853479 -9.15871319]\t 352.56469128833373\t 6.912079999083602\t 5.473590938944843\t 6.147094658568769\n",
            "6  \t [-9.21277105  4.93342182]\t 382.22930688812016\t 6.912079999083602\t 5.465383892925446\t 5.5296335874832065\n",
            "7  \t [ 0.69850669 -0.70926041]\t 78.19409262167642\t 6.912079999083602\t 5.928851698702294\t 5.898829384777766\n",
            "8  \t [-2.16996483  9.54788454]\t 98.5648352373222\t 6.912079999083602\t 5.676391104088933\t 5.82842928453213\n",
            "9  \t [ 9.59288412 -5.06236658]\t 139.96520776239177\t 6.912079999083602\t 5.217075965987376\t 5.095971061753054\n",
            "10 \t [2.88970909 7.67224967]\t 197.6381281492217\t 6.912079999083602\t 5.655725024262866\t 6.038597662929866\n",
            "11 \t [5.39985126 3.93075158]\t 133.8862966065001\t 6.912079999083602\t 5.737247444663111\t 5.46035697005496\n",
            "12 \t [-2.07562357 -4.24151498]\t 487.67239109411537\t 6.912079999083602\t 5.513400240111258\t 5.5268153014141435\n",
            "13 \t [-10. -10.]\t 2594.0\t 6.912079999083602\t 5.978281482731164\t 6.044011547994539\n",
            "14 \t [-3.12478981  4.95817715]\t 39.62519041801727\t 6.912079999083602\t 5.169424656754925\t 5.092204672435316\n",
            "15 \t [-4.81196297 -9.38054382]\t 1510.925993056701\t 6.912079999083602\t 5.790450299226617\t 6.130395457452285\n",
            "16 \t [4.52188676 0.05735452]\t 22.40493063025012\t 6.912079999083602\t 6.00784128829428\t 5.870500582572022\n",
            "17 \t [ 2.11844523 -5.1226064 ]\t 263.46074919373814\t 6.912079999083602\t 5.203850173594864\t 5.28560418776556\n",
            "18 \t [ 7.57298732 -1.21079456]\t 83.25477154541643\t 6.912079999083602\t 6.378111947757247\t 6.486595526805094\n",
            "19 \t [-5.76176387  3.36653875]\t 209.45141913241983\t 6.912079999083602\t 5.585345137513541\t 5.966756856248845\n",
            "20 \t [ 3.16730079 -9.18463899]\t 554.5508787439264\t 6.912079999083602\t 4.965129583512685\t 5.772190177386253\n"
          ]
        }
      ],
      "source": [
        "### EXACT GP EI GRADIENTS\n",
        "\n",
        "np.random.seed(run_num_3)\n",
        "surrogate_exact_3 = dGaussianProcess(cov_func, optimize=opt)\n",
        "\n",
        "exact_3 = dGPGO(surrogate_exact_3, Acquisition_grad(util), objfunc, param)\n",
        "exact_3.run(init_evals=n_init, max_iter=iters)\n"
      ]
    },
    {
      "cell_type": "code",
      "execution_count": 37,
      "metadata": {
        "id": "PhLBVOIfIvol",
        "colab": {
          "base_uri": "https://localhost:8080/"
        },
        "outputId": "98614735-fb9c-46c3-8dff-a30fd5da75ff"
      },
      "outputs": [
        {
          "output_type": "stream",
          "name": "stdout",
          "text": [
            "Evaluation \t Proposed point \t  Current eval. \t  Best eval. \t        Exact EI: StdDev. x \t Approx EI: StdDev. x \n",
            "init\t [9.34059678 0.94464498]\t 231.80709501196006\t 215.08077877054313\t    \t    \n",
            "init\t [9.4536872  4.29631987]\t 453.3958241553961\t 215.08077877054313\t    \t    \n",
            "init\t [ 3.95457649 -5.67821009]\t 215.08077877054313\t 215.08077877054313\t    \t    \n",
            "init\t [ 9.5254891 -9.8753949]\t 314.14647993232734\t 215.08077877054313\t    \t    \n",
            "init\t [-4.94035275 -1.30416935]\t 473.61459720928724\t 215.08077877054313\t    \t    \n",
            "1  \t [-10. -10.]\t 2594.0\t 215.08077877054313\t 6.071620345789291\t 6.081906025685177\n",
            "\u001b[1m\u001b[92m2\u001b[0m\t \u001b[1m\u001b[92m[-0.24524722  6.20288844]\u001b[0m\t \u001b[1m\u001b[92m27.138571678074374\u001b[0m\t \u001b[1m\u001b[92m27.138571678074374\u001b[0m\t \u001b[1m\u001b[92m5.735162601139712\u001b[0m\t \u001b[1m\u001b[92m6.022739707902296\u001b[0m\n",
            "3  \t [ -2.69347877 -10.        ]\t 1297.3307185135461\t 27.138571678074374\t 6.996489883364462\t 6.702530192937601\n",
            "4  \t [-5.92084112  5.13271587]\t 144.15109225493686\t 27.138571678074374\t 6.462982978893737\t 6.736233123037502\n",
            "5  \t [10. 10.]\t 1154.0\t 27.138571678074374\t 5.953614144929394\t 6.157993129905176\n",
            "\u001b[1m\u001b[92m6\u001b[0m\t \u001b[1m\u001b[92m[2.60710906 0.23497623]\u001b[0m\t \u001b[1m\u001b[92m15.591221952149736\u001b[0m\t \u001b[1m\u001b[92m15.591221952149736\u001b[0m\t \u001b[1m\u001b[92m5.883379696544479\u001b[0m\t \u001b[1m\u001b[92m6.106180425874113\u001b[0m\n",
            "7  \t [ 3.76927652 10.        ]\t 438.4239472173208\t 15.591221952149736\t 5.189727500993194\t 5.275477662332664\n",
            "8  \t [-9.089894   -4.49899236]\t 1395.516541323428\t 15.591221952149736\t 5.082968080495932\t 6.2450187354494915\n",
            "9  \t [-10.          1.4694878]\t 751.397411472036\t 15.591221952149736\t 4.952192213228986\t 5.924389038764887\n",
            "10 \t [-3.63475528 10.        ]\t 92.85848688052214\t 15.591221952149736\t 6.53576403590895\t 6.642837218262477\n",
            "11 \t [10.         -4.42460342]\t 146.05223348242203\t 15.591221952149736\t 5.764239894785515\t 6.537309635405887\n",
            "12 \t [ 2.71135264 -9.66992891]\t 643.8174017780464\t 15.591221952149736\t 5.832629032595461\t 5.985606391132307\n",
            "13 \t [-0.73377368 -5.21466471]\t 466.3723927660839\t 15.591221952149736\t 5.45205544306226\t 5.4274720560090675\n",
            "14 \t [4.47657371 4.08011348]\t 96.30680247001334\t 15.591221952149736\t 5.156283549374046\t 4.9997257221923554\n",
            "15 \t [-0.16236167 -1.16445419]\t 132.19363192648478\t 15.591221952149736\t 5.628459258455743\t 6.09625892548399\n",
            "16 \t [-8.40094845  9.08018959]\t 169.45629469020935\t 15.591221952149736\t 5.482043925199012\t 5.8616137352933135\n",
            "\u001b[1m\u001b[92m17\u001b[0m\t \u001b[1m\u001b[92m[0.66200255 2.75362765]\u001b[0m\t \u001b[1m\u001b[92m1.540893868205215\u001b[0m\t \u001b[1m\u001b[92m1.540893868205215\u001b[0m\t \u001b[1m\u001b[92m5.391388289715535\u001b[0m\t \u001b[1m\u001b[92m5.855907441914981\u001b[0m\n",
            "18 \t [ 5.63796778 -1.42626732]\t 41.28185587642082\t 1.540893868205215\t 5.759310605405026\t 5.86591924286637\n",
            "19 \t [-1.25316565  2.23316679]\t 42.146361137941696\t 1.540893868205215\t 5.913397678877626\t 5.693201717320682\n",
            "20 \t [6.41523929 7.36045394]\t 430.595087612071\t 1.540893868205215\t 5.332708506721084\t 5.30587678551405\n"
          ]
        }
      ],
      "source": [
        "### EXACT GP EI GRADIENTS\n",
        "\n",
        "np.random.seed(run_num_4)\n",
        "surrogate_exact_4 = dGaussianProcess(cov_func, optimize=opt)\n",
        "\n",
        "exact_4 = dGPGO(surrogate_exact_4, Acquisition_grad(util), objfunc, param)\n",
        "exact_4.run(init_evals=n_init, max_iter=iters)\n"
      ]
    },
    {
      "cell_type": "code",
      "execution_count": 38,
      "metadata": {
        "id": "arbiPyj2IvsJ",
        "colab": {
          "base_uri": "https://localhost:8080/"
        },
        "outputId": "f8e45bc0-b58b-489b-f110-157b9dcc3af0"
      },
      "outputs": [
        {
          "output_type": "stream",
          "name": "stdout",
          "text": [
            "Evaluation \t Proposed point \t  Current eval. \t  Best eval. \t        Exact EI: StdDev. x \t Approx EI: StdDev. x \n",
            "init\t [-5.56013658  7.41464612]\t 80.93700948496809\t 18.053107398965345\t    \t    \n",
            "init\t [-5.86561689  8.37221816]\t 84.91838238990834\t 18.053107398965345\t    \t    \n",
            "init\t [-0.23177622  2.23487726]\t 18.053107398965345\t 18.053107398965345\t    \t    \n",
            "init\t [5.31815713 0.36835976]\t 36.94936820355582\t 18.053107398965345\t    \t    \n",
            "init\t [-4.06398997 -6.24557543]\t 930.179306576812\t 18.053107398965345\t    \t    \n",
            "1  \t [9.27861058 9.20453431]\t 946.0775823883291\t 18.053107398965345\t 7.492668514237962\t 7.214342666132895\n",
            "2  \t [ 8.87080164 -7.76615146]\t 211.3917378701312\t 18.053107398965345\t 6.294932375249826\t 6.509619060808437\n",
            "3  \t [-10. -10.]\t 2594.0\t 18.053107398965345\t 6.579078089697267\t 6.553580066270341\n",
            "4  \t [ 2.49508934 -6.80638133]\t 374.71070519582787\t 18.053107398965345\t 5.87030528500333\t 6.028614691809224\n",
            "5  \t [2.68428552 8.77105868]\t 258.4705647495647\t 18.053107398965345\t 5.977441260484064\t 6.0270098916936785\n",
            "6  \t [-8.62367183  0.50898962]\t 685.8822920729167\t 18.053107398965345\t 6.510000950273928\t 6.588604379883779\n",
            "7  \t [10.          3.20550308]\t 420.0073797092299\t 18.053107398965345\t 4.957495746229124\t 5.623940514013819\n",
            "8  \t [ 9.48598317 -2.28949251]\t 140.86085160173715\t 18.053107398965345\t 6.032523119356807\t 6.316608885724212\n",
            "9  \t [-0.07672475 -2.3293732 ]\t 193.7139184326847\t 18.053107398965345\t 5.491533805640215\t 5.91588907459181\n",
            "10 \t [-8.96266675 -4.75151322]\t 1414.5093746929565\t 18.053107398965345\t 5.790811031964832\t 5.975855797893001\n",
            "11 \t [-9.69320916  5.35034474]\t 398.28238943738796\t 18.053107398965345\t 6.007386803426525\t 6.586529818330548\n",
            "12 \t [-3.82227354  0.28958603]\t 257.56619049986233\t 18.053107398965345\t 5.178503198188765\t 5.400405866767853\n",
            "13 \t [ -0.98199144 -10.        ]\t 1070.7685606917926\t 18.053107398965345\t 5.487460847841546\t 6.079134212254558\n",
            "\u001b[1m\u001b[92m14\u001b[0m\t \u001b[1m\u001b[92m[-1.07040518  6.013492  ]\u001b[0m\t \u001b[1m\u001b[92m16.925362636022832\u001b[0m\t \u001b[1m\u001b[92m16.925362636022832\u001b[0m\t \u001b[1m\u001b[92m5.206350982717605\u001b[0m\t \u001b[1m\u001b[92m5.741218647149499\u001b[0m\n",
            "15 \t [ 4.36031545 -3.02514321]\t 75.9992984569193\t 16.925362636022832\t 5.315976045066417\t 5.570979096924353\n",
            "16 \t [5.29780052 4.76570364]\t 168.65312990060536\t 16.925362636022832\t 5.145056969969754\t 5.4402921627330825\n",
            "\u001b[1m\u001b[92m17\u001b[0m\t \u001b[1m\u001b[92m[2.60541848 2.04959738]\u001b[0m\t \u001b[1m\u001b[92m5.196816710989615\u001b[0m\t \u001b[1m\u001b[92m5.196816710989615\u001b[0m\t \u001b[1m\u001b[92m5.390957826461137\u001b[0m\t \u001b[1m\u001b[92m5.4671371409994665\u001b[0m\n",
            "18 \t [-5.71794665  3.88604066]\t 181.9603848450382\t 5.196816710989615\t 5.5715671723225695\t 5.578176122085467\n",
            "19 \t [1.55210109 4.94162581]\t 28.94942191523026\t 5.196816710989615\t 5.202387946945828\t 5.242319908658733\n",
            "20 \t [ 6.78556319 -4.78089199]\t 109.9403696735283\t 5.196816710989615\t 5.641922028065236\t 5.758749769161464\n"
          ]
        }
      ],
      "source": [
        "### EXACT GP EI GRADIENTS\n",
        "\n",
        "np.random.seed(run_num_5)\n",
        "surrogate_exact_5 = dGaussianProcess(cov_func, optimize=opt)\n",
        "\n",
        "exact_5 = dGPGO(surrogate_exact_5, Acquisition_grad(util), objfunc, param)\n",
        "exact_5.run(init_evals=n_init, max_iter=iters)\n"
      ]
    },
    {
      "cell_type": "code",
      "execution_count": 39,
      "metadata": {
        "id": "04KJCEm_Ivvf",
        "colab": {
          "base_uri": "https://localhost:8080/"
        },
        "outputId": "72877390-2c1c-4c95-8eb0-4b651a099768"
      },
      "outputs": [
        {
          "output_type": "stream",
          "name": "stdout",
          "text": [
            "Evaluation \t Proposed point \t  Current eval. \t  Best eval. \t        Exact EI: StdDev. x \t Approx EI: StdDev. x \n",
            "init\t [ 7.85720303 -3.36040389]\t 88.46320859272592\t 88.46320859272592\t    \t    \n",
            "init\t [ 6.42458246 -9.16606749]\t 359.2297742730208\t 88.46320859272592\t    \t    \n",
            "init\t [-7.8468664   1.90104128]\t 475.1525044254979\t 88.46320859272592\t    \t    \n",
            "init\t [ 0.59634724 -1.62385143]\t 122.64613090496854\t 88.46320859272592\t    \t    \n",
            "init\t [-3.29184301  2.45038864]\t 112.48071079498652\t 88.46320859272592\t    \t    \n",
            "1  \t [10. 10.]\t 1154.0\t 88.46320859272592\t 6.615633602220421\t 6.528755314713192\n",
            "2  \t [-4.96771714 -9.17248997]\t 1500.0516160468933\t 88.46320859272592\t 7.04013313085325\t 6.994499009919301\n",
            "3  \t [2.46299902 9.4614501 ]\t 295.07827894539565\t 88.46320859272592\t 6.324401053720796\t 6.374923205748215\n",
            "\u001b[1m\u001b[92m4\u001b[0m\t \u001b[1m\u001b[92m[-5.6935267   8.60486508]\u001b[0m\t \u001b[1m\u001b[92m80.95854876086956\u001b[0m\t \u001b[1m\u001b[92m80.95854876086956\u001b[0m\t \u001b[1m\u001b[92m6.547864140298981\u001b[0m\t \u001b[1m\u001b[92m6.5774433647910895\u001b[0m\n",
            "5  \t [7.35584953 3.03387552]\t 203.71231541478778\t 80.95854876086956\t 5.758525188627015\t 6.27643109973121\n",
            "6  \t [  0.8634149 -10.       ]\t 859.2981283252254\t 80.95854876086956\t 6.983163726511971\t 7.218846434383753\n",
            "7  \t [-8.36917733 -4.79039395]\t 1326.2752690543525\t 80.95854876086956\t 6.16160615150502\t 6.622183143526872\n",
            "8  \t [-10. -10.]\t 2594.0\t 80.95854876086956\t 6.630815677010381\t 7.3518855517617485\n",
            "\u001b[1m\u001b[92m9\u001b[0m\t \u001b[1m\u001b[92m[-1.22868843  4.34354782]\u001b[0m\t \u001b[1m\u001b[92m9.906068482791387\u001b[0m\t \u001b[1m\u001b[92m9.906068482791387\u001b[0m\t \u001b[1m\u001b[92m5.292964911092762\u001b[0m\t \u001b[1m\u001b[92m5.299552170652167\u001b[0m\n",
            "10 \t [-3.37161586 -1.42226037]\t 347.996448669782\t 9.906068482791387\t 5.588612726596402\t 6.0389812156013765\n",
            "11 \t [ 2.37504354 -5.39305447]\t 269.34401806938286\t 9.906068482791387\t 6.52926688135876\t 6.712053132429341\n",
            "12 \t [2.62707209 4.73150832]\t 50.76573405526722\t 9.906068482791387\t 5.417559510586091\t 6.18254842717938\n",
            "13 \t [ 5.21347435 -0.8833208 ]\t 33.269551998031815\t 9.906068482791387\t 5.352244000376804\t 5.184737974822706\n",
            "14 \t [6.08857724 7.39077046]\t 404.6046151260254\t 9.906068482791387\t 6.166858453661549\t 6.62445058072124\n",
            "15 \t [-10.           6.42893698]\t 362.04158993111\t 9.906068482791387\t 5.861554328941305\t 6.09834306001223\n",
            "16 \t [-1.78364334  9.05384691]\t 87.17465829423871\t 9.906068482791387\t 5.76473659874629\t 6.238498531658158\n",
            "17 \t [-2.01971597 -5.53402172]\t 615.9036300874989\t 9.906068482791387\t 6.436784007618544\t 6.319505900810858\n",
            "18 \t [10.          0.43843064]\t 253.3751938459338\t 9.906068482791387\t 6.114561631660702\t 6.235266332837937\n",
            "19 \t [-4.30970498  5.68487609]\t 62.960433364928505\t 9.906068482791387\t 6.108766377308257\t 6.054742465823968\n",
            "20 \t [ 9.44848936 -6.34409872]\t 161.8976179339596\t 9.906068482791387\t 5.883523301104552\t 5.910333405802079\n"
          ]
        }
      ],
      "source": [
        "### EXACT GP EI GRADIENTS\n",
        "\n",
        "np.random.seed(run_num_6)\n",
        "surrogate_exact_6 = dGaussianProcess(cov_func, optimize=opt)\n",
        "\n",
        "exact_6 = dGPGO(surrogate_exact_6, Acquisition_grad(util), objfunc, param)\n",
        "exact_6.run(init_evals=n_init, max_iter=iters)\n"
      ]
    },
    {
      "cell_type": "code",
      "execution_count": 40,
      "metadata": {
        "id": "tAOkme3CIvyO",
        "colab": {
          "base_uri": "https://localhost:8080/"
        },
        "outputId": "a8df4c5b-8156-45c3-da75-3359c757fad1"
      },
      "outputs": [
        {
          "output_type": "stream",
          "name": "stdout",
          "text": [
            "Evaluation \t Proposed point \t  Current eval. \t  Best eval. \t        Exact EI: StdDev. x \t Approx EI: StdDev. x \n",
            "init\t [-8.47383421  5.59837584]\t 285.59280278210764\t 9.465549861932052\t    \t    \n",
            "init\t [-1.23181537  4.46930356]\t 9.465549861932052\t 9.465549861932052\t    \t    \n",
            "init\t [9.55979024 0.76991741]\t 238.50407296157155\t 9.465549861932052\t    \t    \n",
            "init\t [ 0.02240927 -8.55897733]\t 763.2277954619568\t 9.465549861932052\t    \t    \n",
            "init\t [-4.63122040e+00 -2.34998349e-03]\t 338.87889871968287\t 9.465549861932052\t    \t    \n",
            "1  \t [10. 10.]\t 1154.0\t 9.465549861932052\t 5.091687089373891\t 5.2184086815999375\n",
            "2  \t [-10.          -6.20947903]\t 1839.506674110327\t 9.465549861932052\t 5.895091483553288\t 6.064963450521567\n",
            "3  \t [ 7.45254366 -9.52193948]\t 345.78455019200885\t 9.465549861932052\t 7.000466362240692\t 7.100529772114084\n",
            "4  \t [-7.86246511 -2.61028169]\t 947.860148457175\t 9.465549861932052\t 5.647846507469534\t 5.803585429886992\n",
            "5  \t [ 1.24464373 10.        ]\t 258.9993014246851\t 9.465549861932052\t 6.196361551299857\t 6.26508216425154\n",
            "6  \t [ 3.61581655 -0.65869286]\t 24.578893744471507\t 9.465549861932052\t 6.090841886440591\t 6.233016199012185\n",
            "7  \t [4.76541885 4.90404522]\t 146.37505890898768\t 9.465549861932052\t 5.268471932259617\t 6.380421467377267\n",
            "8  \t [-4.35091435  9.52073023]\t 76.62608394489475\t 9.465549861932052\t 5.707536930032703\t 6.39241206283613\n",
            "9  \t [10.         -4.65582254]\t 146.83887092529008\t 9.465549861932052\t 6.169973461930712\t 6.394194897203687\n",
            "10 \t [-5.5982515  -9.57729482]\t 1672.5315729344907\t 9.465549861932052\t 6.173835682836197\t 6.2993393856657125\n",
            "11 \t [-0.23708264 -3.26526496]\t 265.9247964454785\t 9.465549861932052\t 5.62028266221656\t 5.558626599505077\n",
            "12 \t [ 4.3006944  -4.94268712]\t 160.17324798034835\t 9.465549861932052\t 6.082053302777306\t 5.985985719705253\n",
            "13 \t [10.          5.20610775]\t 588.1743149875476\t 9.465549861932052\t 6.041429168381546\t 6.113517443061219\n",
            "14 \t [-0.20021368  1.29720912]\t 38.04975161397951\t 9.465549861932052\t 5.276353675059798\t 5.126081242530136\n",
            "15 \t [-8.99478163 10.        ]\t 184.77052790853537\t 9.465549861932052\t 6.898434126325246\t 6.684636523052493\n",
            "16 \t [-3.73797884 -4.02343344]\t 625.1003358183957\t 9.465549861932052\t 5.319513824214883\t 5.465429489541678\n",
            "17 \t [1.08541183 6.07928121]\t 49.55039603327896\t 9.465549861932052\t 4.6713289921074574\t 4.87010678658496\n",
            "18 \t [ 7.32292657 -2.67265715]\t 73.84984076642694\t 9.465549861932052\t 6.292856135904632\t 6.558000603664294\n",
            "19 \t [-4.62142193  6.04120162]\t 67.47943911545335\t 9.465549861932052\t 5.903085365017725\t 5.763292520686588\n",
            "20 \t [6.0944512  0.65183078]\t 61.6355904495248\t 9.465549861932052\t 5.614257090256666\t 5.4772911454415505\n"
          ]
        }
      ],
      "source": [
        "### EXACT GP EI GRADIENTS\n",
        "\n",
        "np.random.seed(run_num_7)\n",
        "surrogate_exact_7 = dGaussianProcess(cov_func, optimize=opt)\n",
        "\n",
        "exact_7 = dGPGO(surrogate_exact_7, Acquisition_grad(util), objfunc, param)\n",
        "exact_7.run(init_evals=n_init, max_iter=iters)\n"
      ]
    },
    {
      "cell_type": "code",
      "execution_count": 41,
      "metadata": {
        "id": "69-J3EF4Iv1S",
        "colab": {
          "base_uri": "https://localhost:8080/"
        },
        "outputId": "0cbec7d3-0d9e-4ae2-9165-aece4194a470"
      },
      "outputs": [
        {
          "output_type": "stream",
          "name": "stdout",
          "text": [
            "Evaluation \t Proposed point \t  Current eval. \t  Best eval. \t        Exact EI: StdDev. x \t Approx EI: StdDev. x \n",
            "init\t [7.46858806 9.37081326]\t 741.8307972128058\t 75.39770051777191\t    \t    \n",
            "init\t [7.3838908  0.61711383]\t 110.46436066448925\t 75.39770051777191\t    \t    \n",
            "init\t [-5.34543344 -9.77202391]\t 1665.297823285088\t 75.39770051777191\t    \t    \n",
            "init\t [-1.39062363 -1.9529728 ]\t 245.96065521704543\t 75.39770051777191\t    \t    \n",
            "init\t [ 0.45349343 -0.43216408]\t 75.39770051777191\t 75.39770051777191\t    \t    \n",
            "1  \t [ 9.69498875 -9.42535902]\t 285.65502563735186\t 75.39770051777191\t 6.644059447721559\t 6.7403281983799745\n",
            "2  \t [-9.83383251  5.77166529]\t 385.04821658618386\t 75.39770051777191\t 6.326077787838371\t 6.042846358970839\n",
            "3  \t [-3.97152767  9.51013426]\t 76.56717653580492\t 75.39770051777191\t 6.393323785067345\t 5.997674224340312\n",
            "4  \t [-9.65586204 -5.07440767]\t 1582.0354694335447\t 75.39770051777191\t 6.967538337135723\t 6.948521159972315\n",
            "\u001b[1m\u001b[92m5\u001b[0m\t \u001b[1m\u001b[92m[1.10947828 5.5318851 ]\u001b[0m\t \u001b[1m\u001b[92m34.329629696240445\u001b[0m\t \u001b[1m\u001b[92m34.329629696240445\u001b[0m\t \u001b[1m\u001b[92m5.874594591772786\u001b[0m\t \u001b[1m\u001b[92m5.763035142834763\u001b[0m\n",
            "6  \t [  3.57727191 -10.        ]\t 610.1753735164684\t 34.329629696240445\t 6.4391691284450445\t 6.77592198053854\n",
            "7  \t [-4.26944589  3.62178393]\t 114.55672182658647\t 34.329629696240445\t 5.520543596515629\t 5.747945164640091\n",
            "8  \t [ 6.9560023  -4.77022785]\t 109.01606162659411\t 34.329629696240445\t 6.836468521308941\t 6.5516926188717015\n",
            "9  \t [-10.           0.47082988]\t 859.5504776082689\t 34.329629696240445\t 6.30521176308281\t 6.831709318167468\n",
            "10 \t [10.          4.76248115]\t 547.430341866343\t 34.329629696240445\t 6.452779572128879\t 6.969707934827461\n",
            "11 \t [ 2.04039854 10.        ]\t 308.6744639714519\t 34.329629696240445\t 6.279650803755636\t 5.811087994096099\n",
            "12 \t [5.08502726 5.06202044]\t 172.0841575885248\t 34.329629696240445\t 5.405931063817322\t 5.688851307673257\n",
            "13 \t [ 2.22081362 -5.15375118]\t 260.23653730763283\t 34.329629696240445\t 6.905219244702626\t 6.11767858364212\n",
            "14 \t [-8.30691291 10.        ]\t 156.90601672232873\t 34.329629696240445\t 7.360337355008104\t 7.968973199604151\n",
            "15 \t [-10. -10.]\t 2594.0\t 34.329629696240445\t 5.743141698401995\t 5.446836364394893\n",
            "16 \t [-0.76766103 -8.4750939 ]\t 836.2846390521617\t 34.329629696240445\t 6.222130668746596\t 5.9347574476865415\n",
            "17 \t [-5.57390688 -0.35684731]\t 448.9641900505949\t 34.329629696240445\t 5.988059281303967\t 5.839881083202617\n",
            "\u001b[1m\u001b[92m18\u001b[0m\t \u001b[1m\u001b[92m[3.68151726 1.17905664]\u001b[0m\t \u001b[1m\u001b[92m13.468719325203478\u001b[0m\t \u001b[1m\u001b[92m13.468719325203478\u001b[0m\t \u001b[1m\u001b[92m5.55765109314418\u001b[0m\t \u001b[1m\u001b[92m6.42862989638515\u001b[0m\n",
            "19 \t [-4.59923432 -5.0080605 ]\t 836.1143466631303\t 13.468719325203478\t 4.784255992070536\t 4.873667872286346\n",
            "20 \t [10.         -1.74548044]\t 175.9233314182597\t 13.468719325203478\t 5.540525752526165\t 5.35150703403437\n"
          ]
        }
      ],
      "source": [
        "### EXACT GP EI GRADIENTS\n",
        "\n",
        "np.random.seed(run_num_8)\n",
        "surrogate_exact_8 = dGaussianProcess(cov_func, optimize=opt)\n",
        "\n",
        "exact_8 = dGPGO(surrogate_exact_8, Acquisition_grad(util), objfunc, param)\n",
        "exact_8.run(init_evals=n_init, max_iter=iters)\n"
      ]
    },
    {
      "cell_type": "code",
      "execution_count": 42,
      "metadata": {
        "id": "vonm9jyuIv4t",
        "colab": {
          "base_uri": "https://localhost:8080/"
        },
        "outputId": "86dda872-33d2-40c0-fcd0-928298920607"
      },
      "outputs": [
        {
          "output_type": "stream",
          "name": "stdout",
          "text": [
            "Evaluation \t Proposed point \t  Current eval. \t  Best eval. \t        Exact EI: StdDev. x \t Approx EI: StdDev. x \n",
            "init\t [-9.79251692  0.03749184]\t 882.0577358281939\t 526.7340464177141\t    \t    \n",
            "init\t [-0.08453414 -7.32340942]\t 628.3137012668271\t 526.7340464177141\t    \t    \n",
            "init\t [-7.15777829 -5.62882649]\t 1268.1663931377898\t 526.7340464177141\t    \t    \n",
            "init\t [-1.62983639 -5.03797663]\t 526.7340464177141\t 526.7340464177141\t    \t    \n",
            "init\t [-8.31880698 -3.0900272 ]\t 1073.657277368356\t 526.7340464177141\t    \t    \n",
            "1  \t [6.0747954  9.66718496]\t 621.7013152481403\t 526.7340464177141\t 6.232694320836195\t 5.9893578031882\n",
            "\u001b[1m\u001b[92m2\u001b[0m\t \u001b[1m\u001b[92m[4.69531634 1.12432974]\u001b[0m\t \u001b[1m\u001b[92m30.41794917619908\u001b[0m\t \u001b[1m\u001b[92m30.41794917619908\u001b[0m\t \u001b[1m\u001b[92m6.854359495968006\u001b[0m\t \u001b[1m\u001b[92m6.64260053582591\u001b[0m\n",
            "3  \t [-4.34667475  7.2314955 ]\t 51.466984168071384\t 30.41794917619908\t 6.068135845332652\t 5.683125747084214\n",
            "4  \t [ 8.66970884 -6.33785621]\t 157.1508550483091\t 30.41794917619908\t 5.876300373756267\t 6.007906092286219\n",
            "5  \t [9.65541334 4.16012269]\t 461.641055129542\t 30.41794917619908\t 7.900171884879659\t 6.839693009116458\n",
            "6  \t [1.25267459 5.77799908]\t 44.521054911628184\t 30.41794917619908\t 5.327936487574881\t 4.972657113987798\n",
            "7  \t [-2.00413361  1.08900426]\t 109.31070926825305\t 30.41794917619908\t 5.84569024783882\t 6.311973508043559\n",
            "8  \t [ 9.84015615 -1.23738471]\t 180.84580940181803\t 30.41794917619908\t 6.212694251245935\t 6.7333957386054175\n",
            "9  \t [ 4.07151463 -3.71357837]\t 107.56485001122672\t 30.41794917619908\t 6.4746433694339265\t 6.794343961123281\n",
            "10 \t [-10. -10.]\t 2594.0\t 30.41794917619908\t 6.9056441756165015\t 6.655038784940366\n",
            "11 \t [-10.           6.54567238]\t 355.83979381864117\t 30.41794917619908\t 6.869604990359393\t 7.078944286307524\n",
            "12 \t [ 1.11363557 10.        ]\t 251.42815696166338\t 30.41794917619908\t 6.194807177683852\t 7.0143286077830895\n",
            "13 \t [-5.97708538  3.18622071]\t 233.17777078299605\t 30.41794917619908\t 5.431421513242072\t 5.982666704020501\n",
            "14 \t [ 1.38878378 -0.71469381]\t 58.19681311366918\t 30.41794917619908\t 5.624372616467724\t 6.108678988677817\n",
            "15 \t [10. 10.]\t 1154.0\t 30.41794917619908\t 6.377272422425334\t 6.61739775077629\n",
            "16 \t [ 4.62696262 -9.44987009]\t 479.52890821763435\t 30.41794917619908\t 5.9588633849720285\t 6.705333063715249\n",
            "17 \t [5.25319466 4.94264867]\t 175.41744698986014\t 30.41794917619908\t 5.01968271331445\t 5.9728780396986405\n",
            "18 \t [-5.30467139 -9.5735486 ]\t 1623.391765190712\t 30.41794917619908\t 5.611915923461131\t 6.225466431709123\n",
            "\u001b[1m\u001b[92m19\u001b[0m\t \u001b[1m\u001b[92m[-2.14911158  4.92829421]\u001b[0m\t \u001b[1m\u001b[92m19.59680245214908\u001b[0m\t \u001b[1m\u001b[92m19.59680245214908\u001b[0m\t \u001b[1m\u001b[92m5.276267177277765\u001b[0m\t \u001b[1m\u001b[92m5.901647541805063\u001b[0m\n",
            "20 \t [-2.37065223  9.56413452]\t 95.24247490310017\t 19.59680245214908\t 5.969619605735444\t 6.508623455991639\n"
          ]
        }
      ],
      "source": [
        "### EXACT GP EI GRADIENTS\n",
        "\n",
        "np.random.seed(run_num_9)\n",
        "surrogate_exact_9 = dGaussianProcess(cov_func, optimize=opt)\n",
        "\n",
        "exact_9 = dGPGO(surrogate_exact_9, Acquisition_grad(util), objfunc, param)\n",
        "exact_9.run(init_evals=n_init, max_iter=iters)\n"
      ]
    },
    {
      "cell_type": "code",
      "execution_count": 43,
      "metadata": {
        "id": "6amuYlUdIv7r",
        "colab": {
          "base_uri": "https://localhost:8080/"
        },
        "outputId": "fc257df8-35b2-4bf9-ea56-a7d6fae7d2fd"
      },
      "outputs": [
        {
          "output_type": "stream",
          "name": "stdout",
          "text": [
            "Evaluation \t Proposed point \t  Current eval. \t  Best eval. \t        Exact EI: StdDev. x \t Approx EI: StdDev. x \n",
            "init\t [ 5.42641287 -9.58496101]\t 444.22200604720473\t 59.96573403226766\t    \t    \n",
            "init\t [2.6729647  4.97607765]\t 59.96573403226766\t 59.96573403226766\t    \t    \n",
            "init\t [-0.02985975 -5.50406709]\t 436.96281238949786\t 59.96573403226766\t    \t    \n",
            "init\t [-6.0387427   5.21061424]\t 147.67401193720747\t 59.96573403226766\t    \t    \n",
            "init\t [-6.61778327 -8.23320372]\t 1605.6543289416081\t 59.96573403226766\t    \t    \n",
            "1  \t [10. 10.]\t 1154.0\t 59.96573403226766\t 5.8122326133871445\t 6.048239269846447\n",
            "\u001b[1m\u001b[92m2\u001b[0m\t \u001b[1m\u001b[92m[2.11155129 0.26933255]\u001b[0m\t \u001b[1m\u001b[92m19.17823960765822\u001b[0m\t \u001b[1m\u001b[92m19.17823960765822\u001b[0m\t \u001b[1m\u001b[92m5.072770469264647\u001b[0m\t \u001b[1m\u001b[92m5.067659960757658\u001b[0m\n",
            "3  \t [8.50713746 1.33499849]\t 195.6515526065785\t 19.17823960765822\t 5.34912043718532\t 6.59023790081138\n",
            "4  \t [-10.          -2.13748594]\t 1189.067572064311\t 19.17823960765822\t 6.7495083286425706\t 7.240691907824668\n",
            "5  \t [-1.9581759   8.72670283]\t 72.20489553023208\t 19.17823960765822\t 6.335473380263967\t 6.535557585701351\n",
            "6  \t [ 4.24458098 10.        ]\t 479.3330635360022\t 19.17823960765822\t 6.9536209787032925\t 6.674511178637597\n",
            "7  \t [ 5.88775726 -3.75619055]\t 83.50045354401163\t 19.17823960765822\t 6.196511561554263\t 6.462813893384313\n",
            "8  \t [-3.7613853  -0.33745254]\t 296.1740765903546\t 19.17823960765822\t 5.815110017700367\t 6.215970311111229\n",
            "9  \t [7.37409101 5.95305707]\t 397.3323474872592\t 19.17823960765822\t 6.2950740284483375\t 6.639144383390278\n",
            "10 \t [-10.           2.99889562]\t 605.0971911475335\t 19.17823960765822\t 6.476478626977531\t 6.873092446221468\n",
            "11 \t [-6.06716473  9.22601338]\t 91.5382023829747\t 19.17823960765822\t 5.768225578872329\t 5.900230530669186\n",
            "\u001b[1m\u001b[92m12\u001b[0m\t \u001b[1m\u001b[92m[-0.93311486  3.11579104]\u001b[0m\t \u001b[1m\u001b[92m16.961004066574844\u001b[0m\t \u001b[1m\u001b[92m16.961004066574844\u001b[0m\t \u001b[1m\u001b[92m6.206568031829905\u001b[0m\t \u001b[1m\u001b[92m6.9506359470539065\u001b[0m\n",
            "13 \t [10.         -6.70921789]\t 177.28087213857418\t 16.961004066574844\t 6.584233724089106\t 6.347207640371699\n",
            "14 \t [-4.05283721 -4.55838735]\t 718.8323220937377\t 16.961004066574844\t 5.7500283246293495\t 6.458672628802687\n",
            "15 \t [-0.22676474 -1.42076247]\t 148.62634690948414\t 16.961004066574844\t 5.73556693486986\t 6.309427558007118\n",
            "16 \t [4.98830128 0.07250832]\t 28.978022734618467\t 16.961004066574844\t 5.752018080805355\t 6.602298768976315\n",
            "17 \t [  0.35430391 -10.        ]\t 914.2370107241557\t 16.961004066574844\t 5.795227331650719\t 6.188100591170416\n",
            "18 \t [ 3.66732345 -6.21133463]\t 263.2596294950745\t 16.961004066574844\t 5.935203861954141\t 5.270032333678607\n",
            "\u001b[1m\u001b[92m19\u001b[0m\t \u001b[1m\u001b[92m[-1.90242723  5.44589082]\u001b[0m\t \u001b[1m\u001b[92m15.240167692442204\u001b[0m\t \u001b[1m\u001b[92m15.240167692442204\u001b[0m\t \u001b[1m\u001b[92m5.927280597647013\u001b[0m\t \u001b[1m\u001b[92m5.952071279506349\u001b[0m\n",
            "20 \t [1.12298286 7.67542135]\t 113.97342117111218\t 15.240167692442204\t 6.881331769249997\t 6.314139774761174\n"
          ]
        }
      ],
      "source": [
        "### EXACT GP EI GRADIENTS\n",
        "\n",
        "np.random.seed(run_num_10)\n",
        "surrogate_exact_10 = dGaussianProcess(cov_func, optimize=opt)\n",
        "\n",
        "exact_10 = dGPGO(surrogate_exact_10, Acquisition_grad(util), objfunc, param)\n",
        "exact_10.run(init_evals=n_init, max_iter=iters)\n"
      ]
    },
    {
      "cell_type": "code",
      "execution_count": 44,
      "metadata": {
        "id": "VwbLIP9cIv-F",
        "colab": {
          "base_uri": "https://localhost:8080/"
        },
        "outputId": "be91b7f9-b710-4c1e-f250-b119d887a21b"
      },
      "outputs": [
        {
          "output_type": "stream",
          "name": "stdout",
          "text": [
            "Evaluation \t Proposed point \t  Current eval. \t  Best eval. \t        Exact EI: StdDev. x \t Approx EI: StdDev. x \n",
            "init\t [-6.39460622 -9.61049517]\t 1814.521116554919\t 5.483030044782123\t    \t    \n",
            "init\t [-0.73562947  4.49867858]\t 5.483030044782123\t 5.483030044782123\t    \t    \n",
            "init\t [-1.59592791 -0.29145804]\t 156.21779076814232\t 5.483030044782123\t    \t    \n",
            "init\t [-9.74438371 -0.25256785]\t 909.6795910034871\t 5.483030044782123\t    \t    \n",
            "init\t [8.83613305 7.01590179]\t 639.4153671589368\t 5.483030044782123\t    \t    \n",
            "1  \t [ 1.99086793 -8.88652641]\t 617.1328244256196\t 5.483030044782123\t 5.701202967465052\t 6.079485207605164\n",
            "2  \t [ 6.89877062 -3.95670624]\t 87.66816772781804\t 5.483030044782123\t 5.058132303434573\t 4.921440405688948\n",
            "3  \t [-5.78363514  5.43217487]\t 127.67400603355497\t 5.483030044782123\t 6.236238001268246\t 6.375354938211753\n",
            "4  \t [3.75874785 1.36613953]\t 15.341676166003793\t 5.483030044782123\t 5.024094131897508\t 5.4479160689718595\n",
            "5  \t [ 1.17774744 10.        ]\t 255.1118273884056\t 5.483030044782123\t 5.780028217766229\t 5.821073529039932\n",
            "6  \t [10.          0.29086466]\t 246.63932691070164\t 5.483030044782123\t 5.913338630606134\t 6.184158046438345\n",
            "7  \t [-5.40880168 -3.96715044]\t 805.2783043135323\t 5.483030044782123\t 6.016638795790136\t 7.402740125604023\n",
            "8  \t [-4.03937298 10.        ]\t 89.77151327507025\t 5.483030044782123\t 5.427682396957172\t 5.8170201459001944\n",
            "9  \t [3.82145709 5.67104636]\t 135.7654854011634\t 5.483030044782123\t 6.087908899997748\t 6.357917168162219\n",
            "10 \t [-9.91929274  4.41257878]\t 482.7367738209056\t 5.483030044782123\t 5.67865732602009\t 6.03086757117758\n",
            "11 \t [ 7.77602621 -9.30402747]\t 319.5388147682889\t 5.483030044782123\t 6.01194179650566\t 6.263924567998155\n",
            "12 \t [-8.67837897  9.34460623]\t 178.3812104704654\t 5.483030044782123\t 5.892670535056757\t 5.923595134953345\n",
            "13 \t [-0.66326722 -4.5487798 ]\t 399.1977756606938\t 5.483030044782123\t 5.891882446618046\t 5.611038470276383\n",
            "14 \t [ 2.16990425 -1.35308681]\t 60.84864548065482\t 5.483030044782123\t 6.3976338365563405\t 6.40795341402319\n",
            "15 \t [-5.49539525  1.38653382]\t 307.8079673390391\t 5.483030044782123\t 5.941964794086808\t 6.022312470080553\n",
            "16 \t [ 6.13912393 10.        ]\t 664.8439137867339\t 5.483030044782123\t 6.1667767943152745\t 5.915987253378633\n",
            "17 \t [-2.04065117 -9.96158476]\t 1201.5344585673301\t 5.483030044782123\t 4.805341639058797\t 4.721249762237913\n",
            "18 \t [6.84189532 2.98697839]\t 170.03098533285822\t 5.483030044782123\t 5.878141941840642\t 5.8768696797239235\n",
            "19 \t [ 3.49005057 -4.98087503]\t 190.4913311390622\t 5.483030044782123\t 5.264388560043488\t 5.386123421262276\n",
            "20 \t [-10.          -6.50236682]\t 1892.6831568777425\t 5.483030044782123\t 6.212029223715151\t 6.002798710939672\n"
          ]
        }
      ],
      "source": [
        "### EXACT GP EI GRADIENTS\n",
        "\n",
        "np.random.seed(run_num_11)\n",
        "surrogate_exact_11 = dGaussianProcess(cov_func, optimize=opt)\n",
        "\n",
        "exact_11 = dGPGO(surrogate_exact_11, Acquisition_grad(util), objfunc, param)\n",
        "exact_11.run(init_evals=n_init, max_iter=iters)\n"
      ]
    },
    {
      "cell_type": "code",
      "execution_count": 45,
      "metadata": {
        "id": "MlUNFjc-JTBY",
        "colab": {
          "base_uri": "https://localhost:8080/"
        },
        "outputId": "c1464b2a-b9f8-4293-da7b-7cca88b1f8d0"
      },
      "outputs": [
        {
          "output_type": "stream",
          "name": "stdout",
          "text": [
            "Evaluation \t Proposed point \t  Current eval. \t  Best eval. \t        Exact EI: StdDev. x \t Approx EI: StdDev. x \n",
            "init\t [-6.91674315  4.80099393]\t 215.5279554685742\t 189.34864056663108\t    \t    \n",
            "init\t [-4.7336997   0.67478787]\t 298.0661631184378\t 189.34864056663108\t    \t    \n",
            "init\t [-9.70850075  8.37494016]\t 257.3494442600599\t 189.34864056663108\t    \t    \n",
            "init\t [ 8.01429708 -9.33157145]\t 314.3616446198572\t 189.34864056663108\t    \t    \n",
            "init\t [ 9.13898673 -7.25581357]\t 189.34864056663108\t 189.34864056663108\t    \t    \n",
            "\u001b[1m\u001b[92m1\u001b[0m\t \u001b[1m\u001b[92m[4.66251955 4.05244711]\u001b[0m\t \u001b[1m\u001b[92m103.44533669968575\u001b[0m\t \u001b[1m\u001b[92m103.44533669968575\u001b[0m\t \u001b[1m\u001b[92m6.224754561312221\u001b[0m\t \u001b[1m\u001b[92m5.899410547381348\u001b[0m\n",
            "2  \t [-3.75432006 -8.6025265 ]\t 1227.4078991356632\t 103.44533669968575\t 6.63785123040954\t 5.977039070216892\n",
            "3  \t [10. 10.]\t 1154.0\t 103.44533669968575\t 7.173169070351129\t 7.087722536126625\n",
            "4  \t [0.62006076 8.91956245]\t 157.93527468112498\t 103.44533669968575\t 6.37195412356197\t 6.081293045828425\n",
            "5  \t [-10.          -4.19932386]\t 1497.6918191741563\t 103.44533669968575\t 5.546027766666431\t 5.525706835490996\n",
            "6  \t [ 1.94965486 -3.07982591]\t 143.1407474999603\t 103.44533669968575\t 6.7316977131097575\t 6.16948777391816\n",
            "\u001b[1m\u001b[92m7\u001b[0m\t \u001b[1m\u001b[92m[ 7.56525136 -1.96937417]\u001b[0m\t \u001b[1m\u001b[92m77.98450109004803\u001b[0m\t \u001b[1m\u001b[92m77.98450109004803\u001b[0m\t \u001b[1m\u001b[92m6.665772998930842\u001b[0m\t \u001b[1m\u001b[92m6.412507388488291\u001b[0m\n",
            "8  \t [ 2.21276918 -9.22185459]\t 635.644384681251\t 77.98450109004803\t 6.495706246379756\t 7.258480981061169\n",
            "9  \t [-10. -10.]\t 2594.0\t 77.98450109004803\t 6.123632702653614\t 6.64162200138332\n",
            "\u001b[1m\u001b[92m10\u001b[0m\t \u001b[1m\u001b[92m[-0.65323682  3.96068651]\u001b[0m\t \u001b[1m\u001b[92m5.574614238025479\u001b[0m\t \u001b[1m\u001b[92m5.574614238025479\u001b[0m\t \u001b[1m\u001b[92m4.963514974093115\u001b[0m\t \u001b[1m\u001b[92m5.5720669337218816\u001b[0m\n",
            "11 \t [10.          3.98351292]\t 480.6494188721854\t 5.574614238025479\t 5.90844716612578\t 5.9719795483435565\n",
            "12 \t [5.04909137 9.97541983]\t 551.2110113765862\t 5.574614238025479\t 5.296136773220079\t 5.580882261183749\n",
            "13 \t [-10.          1.0767332]\t 792.7422538236042\t 5.574614238025479\t 5.372054048903968\t 5.374082916473414\n",
            "14 \t [-4.35250665  9.30226645]\t 71.97606452512002\t 5.574614238025479\t 5.431623553383736\t 5.608391831105476\n",
            "15 \t [-2.4459227  -3.83724793]\t 481.59673537017557\t 5.574614238025479\t 6.040517411971279\t 5.90712312111242\n",
            "16 \t [ 5.10399294 -5.18636194]\t 150.52222650444867\t 5.574614238025479\t 5.770742641329902\t 5.702410897553584\n",
            "17 \t [1.93058193 1.00469778]\t 9.381730849025477\t 5.574614238025479\t 5.0497865259216725\t 5.051344256781095\n",
            "18 \t [-0.59571349 -0.16240789]\t 103.10600144802176\t 5.574614238025479\t 6.0482114950600545\t 6.176325605051924\n",
            "19 \t [-2.82101437  5.28547656]\t 29.255059318320814\t 5.574614238025479\t 5.63938134863337\t 5.7717291799565045\n",
            "20 \t [4.77583213 0.02628486]\t 25.67345672883052\t 5.574614238025479\t 5.1584597705166555\t 5.393139462389494\n"
          ]
        }
      ],
      "source": [
        "### EXACT GP EI GRADIENTS\n",
        "\n",
        "np.random.seed(run_num_12)\n",
        "surrogate_exact_12 = dGaussianProcess(cov_func, optimize=opt)\n",
        "\n",
        "exact_12 = dGPGO(surrogate_exact_12, Acquisition_grad(util), objfunc, param)\n",
        "exact_12.run(init_evals=n_init, max_iter=iters)\n"
      ]
    },
    {
      "cell_type": "code",
      "execution_count": 46,
      "metadata": {
        "id": "9BsKdU9eJTFL",
        "colab": {
          "base_uri": "https://localhost:8080/"
        },
        "outputId": "5c4793df-af8c-42a6-a2c4-7a69eed395e6"
      },
      "outputs": [
        {
          "output_type": "stream",
          "name": "stdout",
          "text": [
            "Evaluation \t Proposed point \t  Current eval. \t  Best eval. \t        Exact EI: StdDev. x \t Approx EI: StdDev. x \n",
            "init\t [ 5.55404821 -5.2491756 ]\t 143.4041188295949\t 48.27231948835582\t    \t    \n",
            "init\t [6.48557065 9.31498396]\t 626.9828646177026\t 48.27231948835582\t    \t    \n",
            "init\t [ 9.45202228 -0.93101505]\t 168.64758529203058\t 48.27231948835582\t    \t    \n",
            "init\t [2.18084926 5.51053029]\t 62.202299160666314\t 48.27231948835582\t    \t    \n",
            "init\t [2.8322669  4.44036459]\t 48.27231948835582\t 48.27231948835582\t    \t    \n",
            "1  \t [-8.69830926  2.59657998]\t 502.3996877395562\t 48.27231948835582\t 5.849923237279736\t 6.216504412090185\n",
            "2  \t [-5.9673185  -6.48540274]\t 1221.284536050755\t 48.27231948835582\t 6.6089404780583845\t 6.825854450347928\n",
            "3  \t [ 1.27140344 -9.80309118]\t 792.165594807452\t 48.27231948835582\t 7.242853667464197\t 6.882612154126712\n",
            "4  \t [-5.68974606  9.11900061]\t 83.49787226161779\t 48.27231948835582\t 6.5931909794909\t 6.885958077448538\n",
            "5  \t [-2.12220526 -1.41193544]\t 256.2664446929993\t 48.27231948835582\t 7.117544150362632\t 7.25415946328941\n",
            "6  \t [-0.37273994 10.        ]\t 177.5486378765691\t 48.27231948835582\t 6.9922349780684305\t 6.63321771677632\n",
            "7  \t [-10. -10.]\t 2594.0\t 48.27231948835582\t 8.004336678689095\t 7.06024860007764\n",
            "8  \t [8.62368957 4.2994763 ]\t 378.3008372048785\t 48.27231948835582\t 6.664938237449407\t 7.254588528136474\n",
            "\u001b[1m\u001b[92m9\u001b[0m\t \u001b[1m\u001b[92m[-2.60721421  3.8625966 ]\u001b[0m\t \u001b[1m\u001b[92m43.88777048394915\u001b[0m\t \u001b[1m\u001b[92m43.88777048394915\u001b[0m\t \u001b[1m\u001b[92m6.163813971442839\u001b[0m\t \u001b[1m\u001b[92m6.266291225354168\u001b[0m\n",
            "\u001b[1m\u001b[92m10\u001b[0m\t \u001b[1m\u001b[92m[ 2.83526989 -0.20076919]\u001b[0m\t \u001b[1m\u001b[92m21.071492369234125\u001b[0m\t \u001b[1m\u001b[92m21.071492369234125\u001b[0m\t \u001b[1m\u001b[92m6.122436357030439\u001b[0m\t \u001b[1m\u001b[92m6.679605884285411\u001b[0m\n",
            "11 \t [10.         -6.87200353]\t 181.49801431373925\t 21.071492369234125\t 6.633746607897151\t 7.437110225386699\n",
            "12 \t [-10.          -4.08831197]\t 1479.9922856984954\t 21.071492369234125\t 6.316016752092199\t 6.048621589100603\n",
            "13 \t [-9.76887724  7.24237929]\t 304.3472011696368\t 21.071492369234125\t 5.290085668107302\t 6.067383180728804\n",
            "14 \t [-1.15640193 -5.67279614]\t 548.9535862020372\t 21.071492369234125\t 6.017309760306837\t 5.75024513015547\n",
            "15 \t [-6.11197997 -1.73190904]\t 634.0820493432213\t 21.071492369234125\t 6.0144142305012105\t 5.625359872680116\n",
            "16 \t [-5.60242228  5.39101232]\t 120.25281557511795\t 21.071492369234125\t 6.163600736254918\t 5.768548971924758\n",
            "17 \t [ 5.5825668  -9.13993465]\t 396.83316714597476\t 21.071492369234125\t 7.512270262029828\t 7.588859803976187\n",
            "18 \t [6.01476155 0.43824642]\t 55.77940733984055\t 21.071492369234125\t 5.811942414155964\t 5.243531041971935\n",
            "19 \t [-2.5792651   7.24243103]\t 32.568515980444616\t 21.071492369234125\t 6.338401722713598\t 6.281840856141722\n",
            "20 \t [ 1.98941807 -3.10232019]\t 142.78433238006676\t 21.071492369234125\t 6.877150497512374\t 6.712736773138544\n"
          ]
        }
      ],
      "source": [
        "### EXACT GP EI GRADIENTS\n",
        "\n",
        "np.random.seed(run_num_13)\n",
        "surrogate_exact_13 = dGaussianProcess(cov_func, optimize=opt)\n",
        "\n",
        "exact_13 = dGPGO(surrogate_exact_13, Acquisition_grad(util), objfunc, param)\n",
        "exact_13.run(init_evals=n_init, max_iter=iters)\n"
      ]
    },
    {
      "cell_type": "code",
      "execution_count": 47,
      "metadata": {
        "id": "k6GjFBr1JTJf",
        "colab": {
          "base_uri": "https://localhost:8080/"
        },
        "outputId": "d69a1c93-93b8-452d-f354-e974f888b8a9"
      },
      "outputs": [
        {
          "output_type": "stream",
          "name": "stdout",
          "text": [
            "Evaluation \t Proposed point \t  Current eval. \t  Best eval. \t        Exact EI: StdDev. x \t Approx EI: StdDev. x \n",
            "init\t [0.27886688 5.46330104]\t 18.728481209446468\t 18.728481209446468\t    \t    \n",
            "init\t [ 7.40855371 -9.83906103]\t 371.31674613664467\t 18.728481209446468\t    \t    \n",
            "init\t [-3.80528149  9.15207479]\t 68.19416312981014\t 18.728481209446468\t    \t    \n",
            "init\t [ 0.26233425 -3.6343115 ]\t 261.94243460125864\t 18.728481209446468\t    \t    \n",
            "init\t [ 0.78399875 -5.57490115]\t 382.6954465291845\t 18.728481209446468\t    \t    \n",
            "1  \t [10.          6.84833934]\t 756.1290111666306\t 18.728481209446468\t 6.640981601983202\t 6.686153732537138\n",
            "2  \t [-8.1477833   0.47898709]\t 634.6806661127735\t 18.728481209446468\t 6.4104893645351035\t 6.20169712248426\n",
            "3  \t [ 7.92213119 -1.18185926]\t 95.44020818229973\t 18.728481209446468\t 5.460779839551442\t 5.349772824252074\n",
            "4  \t [-10. -10.]\t 2594.0\t 18.728481209446468\t 7.072121364018484\t 6.579695167190048\n",
            "5  \t [ 3.70788054 10.        ]\t 433.3043950884461\t 18.728481209446468\t 5.793516448541957\t 5.809277783341511\n",
            "6  \t [-9.18393198  6.55872247]\t 291.95058027489983\t 18.728481209446468\t 6.14392251021526\t 5.862333662430254\n",
            "7  \t [-3.77019124 -9.46174232]\t 1365.8078831674034\t 18.728481209446468\t 5.338037001827513\t 5.02915236010792\n",
            "8  \t [-4.42148123  4.32435233]\t 98.29222870955579\t 18.728481209446468\t 6.482401156204039\t 5.972641707932133\n",
            "9  \t [-1.06929872  1.15463935]\t 68.98558526205093\t 18.728481209446468\t 5.8712868604096125\t 6.540905470418871\n",
            "10 \t [-5.16768301 -4.05001742]\t 786.5734769955272\t 18.728481209446468\t 6.156082229622395\t 5.887492898048435\n",
            "11 \t [ 9.5495426  -5.35483551]\t 143.04959843959347\t 18.728481209446468\t 6.40464067777022\t 6.300914979889566\n",
            "12 \t [5.01699111 3.72435177]\t 106.58223215246912\t 18.728481209446468\t 6.310985412949476\t 6.69426062416143\n",
            "13 \t [  2.34039688 -10.        ]\t 714.5820434736034\t 18.728481209446468\t 6.204518321632056\t 6.720386689542903\n",
            "\u001b[1m\u001b[92m14\u001b[0m\t \u001b[1m\u001b[92m[2.5540054 0.6946896]\u001b[0m\t \u001b[1m\u001b[92m9.987225602347364\u001b[0m\t \u001b[1m\u001b[92m9.987225602347364\u001b[0m\t \u001b[1m\u001b[92m6.11723823134528\u001b[0m\t \u001b[1m\u001b[92m6.17706946991963\u001b[0m\n",
            "15 \t [ 5.35878607 -5.97483216]\t 184.77815441064587\t 9.987225602347364\t 5.899124774778989\t 5.851512839528147\n",
            "16 \t [10.          2.31194876]\t 357.8273829585924\t 9.987225602347364\t 5.947758364013461\t 5.9402676106174805\n",
            "17 \t [-9.63360698 -5.17226981]\t 1594.5035995487676\t 9.987225602347364\t 6.78203736510246\t 6.404017770226675\n",
            "18 \t [ 3.67362909 -1.59294146]\t 42.978443690449126\t 9.987225602347364\t 5.158986561572287\t 5.0770574385571345\n",
            "19 \t [-0.21039953  8.80618458]\t 119.66180715819178\t 9.987225602347364\t 5.470568441274482\t 6.091739339578053\n",
            "20 \t [-2.40388076 -1.51004073]\t 282.4474845744273\t 9.987225602347364\t 6.3880013538948015\t 5.848353700637729\n"
          ]
        }
      ],
      "source": [
        "### EXACT GP EI GRADIENTS\n",
        "\n",
        "np.random.seed(run_num_14)\n",
        "surrogate_exact_14 = dGaussianProcess(cov_func, optimize=opt)\n",
        "\n",
        "exact_14 = dGPGO(surrogate_exact_14, Acquisition_grad(util), objfunc, param)\n",
        "exact_14.run(init_evals=n_init, max_iter=iters)\n"
      ]
    },
    {
      "cell_type": "code",
      "execution_count": 48,
      "metadata": {
        "id": "dPS8WB3aJTN6",
        "colab": {
          "base_uri": "https://localhost:8080/"
        },
        "outputId": "1bcc3176-323c-43e2-a53b-d93b4a9a456e"
      },
      "outputs": [
        {
          "output_type": "stream",
          "name": "stdout",
          "text": [
            "Evaluation \t Proposed point \t  Current eval. \t  Best eval. \t        Exact EI: StdDev. x \t Approx EI: StdDev. x \n",
            "init\t [ 6.97635395 -6.4220815 ]\t 171.98457986923216\t 171.98457986923216\t    \t    \n",
            "init\t [-8.91273571 -2.76923108]\t 1115.2426864421157\t 171.98457986923216\t    \t    \n",
            "init\t [-4.49198143  0.6000045 ]\t 285.0550378664367\t 171.98457986923216\t    \t    \n",
            "init\t [-3.88162169 -3.91051282]\t 627.8031621427792\t 171.98457986923216\t    \t    \n",
            "init\t [-7.76517448 -5.00201972]\t 1265.415808453521\t 171.98457986923216\t    \t    \n",
            "1  \t [10. 10.]\t 1154.0\t 171.98457986923216\t 6.928488246684234\t 7.020403565485656\n",
            "\u001b[1m\u001b[92m2\u001b[0m\t \u001b[1m\u001b[92m[1.47503373 7.60746764]\u001b[0m\t \u001b[1m\u001b[92m124.78169583492904\u001b[0m\t \u001b[1m\u001b[92m124.78169583492904\u001b[0m\t \u001b[1m\u001b[92m5.820987315892899\u001b[0m\t \u001b[1m\u001b[92m6.482498405902894\u001b[0m\n",
            "3  \t [-7.57016827  9.39485424]\t 133.26990946724956\t 124.78169583492904\t 6.382235345644607\t 6.9620930794799865\n",
            "4  \t [8.17696818 1.09984692]\t 166.4985641578168\t 124.78169583492904\t 5.629172254253652\t 6.210456610059423\n",
            "\u001b[1m\u001b[92m5\u001b[0m\t \u001b[1m\u001b[92m[ 1.97285658 -1.64674325]\u001b[0m\t \u001b[1m\u001b[92m76.52844554111326\u001b[0m\t \u001b[1m\u001b[92m76.52844554111326\u001b[0m\t \u001b[1m\u001b[92m6.9708191725925\u001b[0m\t \u001b[1m\u001b[92m7.231915980559664\u001b[0m\n",
            "6  \t [-0.62952455 -9.52479128]\t 960.9043734412453\t 76.52844554111326\t 6.97736028416815\t 7.808850810475655\n",
            "7  \t [-10.           3.88492006]\t 531.042452036236\t 76.52844554111326\t 6.094049531099851\t 6.731770762030098\n",
            "8  \t [-10. -10.]\t 2594.0\t 76.52844554111326\t 6.988871854514299\t 7.241302938733663\n",
            "\u001b[1m\u001b[92m9\u001b[0m\t \u001b[1m\u001b[92m[-2.99733783  5.48477538]\u001b[0m\t \u001b[1m\u001b[92m31.304199150751423\u001b[0m\t \u001b[1m\u001b[92m31.304199150751423\u001b[0m\t \u001b[1m\u001b[92m4.568283606701212\u001b[0m\t \u001b[1m\u001b[92m6.3748864810945465\u001b[0m\n",
            "10 \t [3.73346769 2.75167845]\t 32.23731472937324\t 31.304199150751423\t 5.3079792444444776\t 6.3634963623122625\n",
            "11 \t [-2.63594996 10.        ]\t 107.48746270888704\t 31.304199150751423\t 5.174305958152067\t 5.767295128688019\n",
            "12 \t [ -5.19541012 -10.        ]\t 1681.238185367559\t 31.304199150751423\t 5.088164953956126\t 5.800006492553143\n",
            "13 \t [7.99750195 5.52468474]\t 418.0272240483729\t 31.304199150751423\t 5.885166326754807\t 5.950035395221237\n",
            "14 \t [ 5.10432467 10.        ]\t 559.0695864102796\t 31.304199150751423\t 5.8873302562805785\t 6.5932871214743\n",
            "15 \t [ 9.88286932 -2.88689238]\t 149.4643805197214\t 31.304199150751423\t 4.435630330759326\t 5.517581663533536\n",
            "\u001b[1m\u001b[92m16\u001b[0m\t \u001b[1m\u001b[92m[0.23548327 1.5525327 ]\u001b[0m\t \u001b[1m\u001b[92m22.251140760679966\u001b[0m\t \u001b[1m\u001b[92m22.251140760679966\u001b[0m\t \u001b[1m\u001b[92m5.902895708294528\u001b[0m\t \u001b[1m\u001b[92m6.882660377527988\u001b[0m\n",
            "17 \t [ 1.37989813 -5.45724796]\t 332.643687234717\t 22.251140760679966\t 4.963113071435307\t 5.500019690787858\n",
            "18 \t [ 3.88220105 -9.25335257]\t 509.7256555510291\t 22.251140760679966\t 5.652898654050499\t 7.042148061301854\n",
            "19 \t [ 5.7148036  -2.29432782]\t 51.60267337877049\t 22.251140760679966\t 5.927670300603148\t 6.719269694214469\n",
            "\u001b[1m\u001b[92m20\u001b[0m\t \u001b[1m\u001b[92m[-0.27649629  4.62996281]\u001b[0m\t \u001b[1m\u001b[92m4.785975854046515\u001b[0m\t \u001b[1m\u001b[92m4.785975854046515\u001b[0m\t \u001b[1m\u001b[92m5.373654825262201\u001b[0m\t \u001b[1m\u001b[92m5.957596509376589\u001b[0m\n"
          ]
        }
      ],
      "source": [
        "### EXACT GP EI GRADIENTS\n",
        "\n",
        "np.random.seed(run_num_15)\n",
        "surrogate_exact_15 = dGaussianProcess(cov_func, optimize=opt)\n",
        "\n",
        "exact_15 = dGPGO(surrogate_exact_15, Acquisition_grad(util), objfunc, param)\n",
        "exact_15.run(init_evals=n_init, max_iter=iters)\n"
      ]
    },
    {
      "cell_type": "code",
      "execution_count": 49,
      "metadata": {
        "id": "lu8ki9XIQPPN",
        "colab": {
          "base_uri": "https://localhost:8080/"
        },
        "outputId": "3dd8539f-6f90-4f33-edd8-6d7e29312433"
      },
      "outputs": [
        {
          "output_type": "stream",
          "name": "stdout",
          "text": [
            "Evaluation \t Proposed point \t  Current eval. \t  Best eval. \t        Exact EI: StdDev. x \t Approx EI: StdDev. x \n",
            "init\t [-5.53417842  0.46326683]\t 378.2562509858209\t 182.86095429406956\t    \t    \n",
            "init\t [ 1.01402913 -9.087961  ]\t 729.2383206820605\t 182.86095429406956\t    \t    \n",
            "init\t [-2.78542329 -5.53838117]\t 694.7380078426447\t 182.86095429406956\t    \t    \n",
            "init\t [ 3.77452324 -6.7253715 ]\t 295.53799633399245\t 182.86095429406956\t    \t    \n",
            "init\t [-8.59350266  8.8202172 ]\t 182.86095429406956\t 182.86095429406956\t    \t    \n",
            "1  \t [10. 10.]\t 1154.0\t 182.86095429406956\t 6.925549952306833\t 6.975498251961761\n",
            "2  \t [ 0.50706415 10.        ]\t 218.61052121726888\t 182.86095429406956\t 7.148736581812941\t 7.080083338203967\n",
            "3  \t [-10. -10.]\t 2594.0\t 182.86095429406956\t 6.753420876446138\t 7.5299455303810365\n",
            "\u001b[1m\u001b[92m4\u001b[0m\t \u001b[1m\u001b[92m[5.7976487  1.62279444]\u001b[0m\t \u001b[1m\u001b[92m71.71185334713266\u001b[0m\t \u001b[1m\u001b[92m71.71185334713266\u001b[0m\t \u001b[1m\u001b[92m5.773675422771665\u001b[0m\t \u001b[1m\u001b[92m6.462297078212528\u001b[0m\n",
            "\u001b[1m\u001b[92m5\u001b[0m\t \u001b[1m\u001b[92m[-2.22531694  5.42968011]\u001b[0m\t \u001b[1m\u001b[92m18.838166667692633\u001b[0m\t \u001b[1m\u001b[92m18.838166667692633\u001b[0m\t \u001b[1m\u001b[92m5.544887211965563\u001b[0m\t \u001b[1m\u001b[92m5.704849308923134\u001b[0m\n",
            "6  \t [ 9.808689   -7.09213596]\t 186.03315452362685\t 18.838166667692633\t 6.558565437173248\t 6.89965247770554\n",
            "7  \t [ 1.13515307 -1.17676177]\t 82.8020085417395\t 18.838166667692633\t 5.726958936273395\t 6.26645712348441\n",
            "8  \t [-8.80475597 -4.08207813]\t 1286.9497343563723\t 18.838166667692633\t 5.464710263352938\t 6.435881929070363\n",
            "9  \t [4.92325857 7.17036499]\t 294.8108719371396\t 18.838166667692633\t 6.021899062248555\t 6.8454387827952905\n",
            "10 \t [10.         -0.21281506]\t 225.28821867065656\t 18.838166667692633\t 5.70808281358127\t 6.162232524918213\n",
            "11 \t [9.92921085 4.74112057]\t 538.1861976755205\t 18.838166667692633\t 6.314280733930947\t 6.560760785907968\n",
            "12 \t [-10.          2.6383971]\t 637.4748382197035\t 18.838166667692633\t 6.2539741429305336\t 6.867298367265481\n",
            "13 \t [-3.98849434  9.06699922]\t 66.34624647852043\t 18.838166667692633\t 5.022704749183602\t 4.6772456768235395\n",
            "\u001b[1m\u001b[92m14\u001b[0m\t \u001b[1m\u001b[92m[1.5626568  3.46867874]\u001b[0m\t \u001b[1m\u001b[92m4.790854388032722\u001b[0m\t \u001b[1m\u001b[92m4.790854388032722\u001b[0m\t \u001b[1m\u001b[92m4.509954437741323\u001b[0m\t \u001b[1m\u001b[92m5.5957881504598905\u001b[0m\n",
            "15 \t [ 5.57359978 -2.5361006 ]\t 55.271856018525824\t 4.790854388032722\t 5.400897618524814\t 5.593329856896243\n",
            "16 \t [-5.74135626  4.84333745]\t 144.806130279276\t 4.790854388032722\t 5.295024530805574\t 5.543968312895393\n",
            "17 \t [-5.83637603 -8.37823133]\t 1503.2878707584373\t 4.790854388032722\t 6.089871950126003\t 6.199106013793164\n",
            "18 \t [-1.16127868  1.66727659]\t 55.279479680316996\t 4.790854388032722\t 5.530163093755349\t 5.509731777218704\n",
            "19 \t [1.59403747 5.45722642]\t 43.63168748395686\t 4.790854388032722\t 5.314754230167346\t 5.459494473013797\n",
            "20 \t [  5.76768047 -10.        ]\t 462.8151163290602\t 4.790854388032722\t 6.1072440006347914\t 6.303267351689644\n"
          ]
        }
      ],
      "source": [
        "### EXACT GP EI GRADIENTS\n",
        "\n",
        "np.random.seed(run_num_16)\n",
        "surrogate_exact_16 = dGaussianProcess(cov_func, optimize=opt)\n",
        "\n",
        "exact_16 = dGPGO(surrogate_exact_16, Acquisition_grad(util), objfunc, param)\n",
        "exact_16.run(init_evals=n_init, max_iter=iters)\n"
      ]
    },
    {
      "cell_type": "code",
      "execution_count": 50,
      "metadata": {
        "id": "yU2SflSsJTUs",
        "colab": {
          "base_uri": "https://localhost:8080/"
        },
        "outputId": "52a89d15-36b8-4f23-ac62-feb34de5c680"
      },
      "outputs": [
        {
          "output_type": "stream",
          "name": "stdout",
          "text": [
            "Evaluation \t Proposed point \t  Current eval. \t  Best eval. \t        Exact EI: StdDev. x \t Approx EI: StdDev. x \n",
            "init\t [-4.10669995  0.61173511]\t 256.4801849765532\t 5.553508838684786\t    \t    \n",
            "init\t [-6.16958426 -8.64199284]\t 1602.4406672130797\t 5.553508838684786\t    \t    \n",
            "init\t [5.7397092  3.12667044]\t 117.20749172761734\t 5.553508838684786\t    \t    \n",
            "init\t [2.75041792 1.51205788]\t 5.553508838684786\t 5.553508838684786\t    \t    \n",
            "init\t [-9.21874168 -2.84372791]\t 1170.583554210921\t 5.553508838684786\t    \t    \n",
            "1  \t [-8.64042543  9.21575513]\t 178.4868811929342\t 5.553508838684786\t 6.898023252081969\t 6.859689088006699\n",
            "2  \t [ 4.54825031 -8.71744454]\t 416.8315243674168\t 5.553508838684786\t 5.612907571212438\t 5.834326546629668\n",
            "3  \t [9.12376544 9.73620918]\t 994.6474624709882\t 5.553508838684786\t 5.817822280639895\t 5.942179597428053\n",
            "4  \t [-0.05385845  7.96254756]\t 86.84889828641981\t 5.553508838684786\t 6.318750659523932\t 7.001012399771867\n",
            "5  \t [ 9.06636127 -2.74323799]\t 119.63857371103694\t 5.553508838684786\t 5.398508048725551\t 6.069709425531179\n",
            "6  \t [ 0.58933177 -4.38179652]\t 297.5495954624751\t 5.553508838684786\t 5.554536613651431\t 5.472766644463637\n",
            "7  \t [-10.           3.39894952]\t 570.6882457128905\t 5.553508838684786\t 5.548665967001582\t 5.639717014451719\n",
            "8  \t [-1.02859872 -9.21677652]\t 965.0877045352898\t 5.553508838684786\t 6.185835635912343\t 6.182927187621689\n",
            "9  \t [10.         -8.43968953]\t 235.67483654095952\t 5.553508838684786\t 6.666521967041666\t 6.525752472284824\n",
            "10 \t [-4.28358043 -4.23199582]\t 706.7765805451414\t 5.553508838684786\t 5.177875744227458\t 4.7091277437736645\n",
            "11 \t [-5.34307141  5.91978222]\t 95.63531874971927\t 5.553508838684786\t 6.304541778628272\t 6.0999186437297785\n",
            "12 \t [4.1884074  9.28650843]\t 408.7822502840248\t 5.553508838684786\t 5.5580450581747565\t 5.650437613940171\n",
            "\u001b[1m\u001b[92m13\u001b[0m\t \u001b[1m\u001b[92m[-0.27311899  3.39491013]\u001b[0m\t \u001b[1m\u001b[92m4.861789140373549\u001b[0m\t \u001b[1m\u001b[92m4.861789140373549\u001b[0m\t \u001b[1m\u001b[92m4.929731862329288\u001b[0m\t \u001b[1m\u001b[92m4.733459722660842\u001b[0m\n",
            "14 \t [10.         4.8525507]\t 555.5433706929301\t 4.861789140373549\t 5.465998767522884\t 5.621420703081712\n",
            "15 \t [ 4.84952793 -2.96851766]\t 68.40253815059951\t 4.861789140373549\t 5.2913745663379625\t 5.608835093361487\n",
            "16 \t [-0.01406508  0.06269927]\t 72.1092305343591\t 4.861789140373549\t 5.1626471206281135\t 5.005729442845816\n",
            "17 \t [-10.          -6.64465869]\t 1918.8271704373878\t 4.861789140373549\t 5.469447735861233\t 5.93611086638018\n",
            "18 \t [-3.44612701  9.43535972]\t 77.0100871696959\t 4.861789140373549\t 5.622567272559847\t 5.7634611939669735\n",
            "19 \t [9.7216859  0.82793107]\t 252.37561819567546\t 4.861789140373549\t 5.485885291364635\t 5.361114384468674\n",
            "20 \t [-6.75609331  2.15486813]\t 356.7955292452102\t 4.861789140373549\t 5.855217025850796\t 5.892807095633656\n"
          ]
        }
      ],
      "source": [
        "### EXACT GP EI GRADIENTS\n",
        "\n",
        "np.random.seed(run_num_17)\n",
        "surrogate_exact_17 = dGaussianProcess(cov_func, optimize=opt)\n",
        "\n",
        "exact_17 = dGPGO(surrogate_exact_17, Acquisition_grad(util), objfunc, param)\n",
        "exact_17.run(init_evals=n_init, max_iter=iters)\n"
      ]
    },
    {
      "cell_type": "code",
      "execution_count": 51,
      "metadata": {
        "id": "eVEhyZ9BQS-1",
        "colab": {
          "base_uri": "https://localhost:8080/"
        },
        "outputId": "0ba22d1e-bc52-4836-c1d6-9d8520f4282c"
      },
      "outputs": [
        {
          "output_type": "stream",
          "name": "stdout",
          "text": [
            "Evaluation \t Proposed point \t  Current eval. \t  Best eval. \t        Exact EI: StdDev. x \t Approx EI: StdDev. x \n",
            "init\t [3.00748483 0.10906747]\t 15.509405515253864\t 15.509405515253864\t    \t    \n",
            "init\t [ 7.57202942 -6.36319549]\t 162.0234327224751\t 15.509405515253864\t    \t    \n",
            "init\t [7.04466137 5.00272572]\t 299.59059770472754\t 15.509405515253864\t    \t    \n",
            "init\t [3.32203335 9.75790897]\t 380.8425822546991\t 15.509405515253864\t    \t    \n",
            "init\t [-4.86063155 -9.43388149]\t 1527.7052410059514\t 15.509405515253864\t    \t    \n",
            "1  \t [-6.1664519   4.28513481]\t 191.3691670751314\t 15.509405515253864\t 6.285691568926353\t 6.621112138158342\n",
            "2  \t [-6.07110106 -2.27098711]\t 687.0923366704285\t 15.509405515253864\t 5.304675370125934\t 5.237093746897661\n",
            "3  \t [10. 10.]\t 1154.0\t 15.509405515253864\t 6.280369814188278\t 6.388235831113425\n",
            "4  \t [-2.33775535  8.28880862]\t 54.33854275473706\t 15.509405515253864\t 6.696142278865547\t 6.838720827946587\n",
            "5  \t [ 4.59940623 -9.59713586]\t 495.48011107282537\t 15.509405515253864\t 5.362184656348668\t 5.721019003550569\n",
            "6  \t [-10.          -6.65024503]\t 1919.8577080046857\t 15.509405515253864\t 6.096415080310232\t 5.765838534820954\n",
            "7  \t [ 9.97797989 -0.13933672]\t 226.81857409050016\t 15.509405515253864\t 5.78028539022586\t 6.5501095359666905\n",
            "8  \t [-0.89131627 -4.57752476]\t 419.63176081459113\t 15.509405515253864\t 5.716803460787542\t 5.445093508591736\n",
            "9  \t [-1.39744815  1.99267847]\t 53.13228061372227\t 15.509405515253864\t 5.711162348984302\t 6.446899647051707\n",
            "10 \t [-7.66580745  9.87441846]\t 135.19014608649172\t 15.509405515253864\t 6.190438166112065\t 7.131903756195316\n",
            "11 \t [-10.           0.58433431]\t 846.7557838873237\t 15.509405515253864\t 6.165896678427487\t 6.098857257381493\n",
            "12 \t [1.30110828 5.41486147]\t 35.42818870834669\t 15.509405515253864\t 5.582397054802637\t 5.420745876813096\n",
            "13 \t [ 6.10972719 -2.4115894 ]\t 55.759094973975564\t 15.509405515253864\t 5.506420379424139\t 5.773817870066344\n",
            "14 \t [ 3.66056455 -5.53162979]\t 217.74493913095407\t 15.509405515253864\t 5.218978302654468\t 5.022883552586619\n",
            "15 \t [3.87157936 3.29377057]\t 48.410029900282\t 15.509405515253864\t 5.640163392559692\t 6.058481098189768\n",
            "16 \t [-10.           6.15196942]\t 377.30124721551795\t 15.509405515253864\t 5.319204417621589\t 5.829117524280832\n",
            "17 \t [ 8.51965038 -9.73389546]\t 327.45064243592316\t 15.509405515253864\t 6.96913099532707\t 6.473428707415774\n",
            "18 \t [ 9.59321385 -3.57342579]\t 133.37142597911267\t 15.509405515253864\t 6.282389401985849\t 6.016617850345077\n",
            "19 \t [ 1.00539323 -1.40809371]\t 96.9664056175074\t 15.509405515253864\t 5.399016718339269\t 5.447383549105733\n",
            "20 \t [-0.37612595 -8.71513625]\t 824.6627233210812\t 15.509405515253864\t 6.10432813084522\t 6.555099950183615\n"
          ]
        }
      ],
      "source": [
        "### EXACT GP EI GRADIENTS\n",
        "\n",
        "np.random.seed(run_num_18)\n",
        "surrogate_exact_18 = dGaussianProcess(cov_func, optimize=opt)\n",
        "\n",
        "exact_18 = dGPGO(surrogate_exact_18, Acquisition_grad(util), objfunc, param)\n",
        "exact_18.run(init_evals=n_init, max_iter=iters)\n"
      ]
    },
    {
      "cell_type": "code",
      "execution_count": 52,
      "metadata": {
        "id": "B6gTz1ojQUxn",
        "colab": {
          "base_uri": "https://localhost:8080/"
        },
        "outputId": "4c2a312b-d266-47bb-fd14-7819fe108468"
      },
      "outputs": [
        {
          "output_type": "stream",
          "name": "stdout",
          "text": [
            "Evaluation \t Proposed point \t  Current eval. \t  Best eval. \t        Exact EI: StdDev. x \t Approx EI: StdDev. x \n",
            "init\t [-8.04932797  5.22499433]\t 273.1270544592675\t 139.9227861892117\t    \t    \n",
            "init\t [-5.06124054 -7.23736625]\t 1204.1206373978957\t 139.9227861892117\t    \t    \n",
            "init\t [-3.37106873 -8.3400087 ]\t 1135.0538557997047\t 139.9227861892117\t    \t    \n",
            "init\t [3.43954163 6.13187596]\t 139.9227861892117\t 139.9227861892117\t    \t    \n",
            "init\t [9.65483829 2.7132147 ]\t 355.08571481298065\t 139.9227861892117\t    \t    \n",
            "1  \t [ 9.42739537 -7.28680447]\t 190.6689475777885\t 139.9227861892117\t 7.182621606688426\t 7.381150092311839\n",
            "2  \t [10. 10.]\t 1154.0\t 139.9227861892117\t 7.242417053310881\t 7.012253615876048\n",
            "\u001b[1m\u001b[92m3\u001b[0m\t \u001b[1m\u001b[92m[ 1.34122181 -1.20783379]\u001b[0m\t \u001b[1m\u001b[92m77.62505034350103\u001b[0m\t \u001b[1m\u001b[92m77.62505034350103\u001b[0m\t \u001b[1m\u001b[92m5.326094403100463\u001b[0m\t \u001b[1m\u001b[92m5.9609749885418655\u001b[0m\n",
            "4  \t [-9.64931371 -1.76781368]\t 1086.8911967373488\t 77.62505034350103\t 5.8104321483519605\t 6.476629229734532\n",
            "\u001b[1m\u001b[92m5\u001b[0m\t \u001b[1m\u001b[92m[-2.65957271  8.24430671]\u001b[0m\t \u001b[1m\u001b[92m50.940752667010955\u001b[0m\t \u001b[1m\u001b[92m50.940752667010955\u001b[0m\t \u001b[1m\u001b[92m5.600392621287592\u001b[0m\t \u001b[1m\u001b[92m6.201140291891371\u001b[0m\n",
            "6  \t [ 3.80143058 -9.67038884]\t 557.972115198769\t 50.940752667010955\t 6.4751111909551495\t 6.586642196271895\n",
            "7  \t [-3.92931283 -0.35725327]\t 310.23798482165694\t 50.940752667010955\t 6.541899921367187\t 6.218096631652151\n",
            "8  \t [-10. -10.]\t 2594.0\t 50.940752667010955\t 5.95221617391893\t 6.0698979679758125\n",
            "\u001b[1m\u001b[92m9\u001b[0m\t \u001b[1m\u001b[92m[-0.77028898  3.60734476]\u001b[0m\t \u001b[1m\u001b[92m8.91254776094752\u001b[0m\t \u001b[1m\u001b[92m8.91254776094752\u001b[0m\t \u001b[1m\u001b[92m6.112621359328148\u001b[0m\t \u001b[1m\u001b[92m7.10585008661651\u001b[0m\n",
            "10 \t [ 6.73884635 -2.32296054]\t 61.960110275031255\t 8.91254776094752\t 6.301254328537898\t 5.854148302754159\n",
            "11 \t [ 0.88851998 -5.59733609]\t 377.3005271590498\t 8.91254776094752\t 5.003419449730699\t 5.409521367811356\n",
            "12 \t [5.34516945 1.33369659]\t 50.36235781448157\t 8.91254776094752\t 5.569033871934837\t 5.67207744627584\n",
            "13 \t [-3.97555612  4.5515522 ]\t 74.05868456908335\t 8.91254776094752\t 5.717026343349961\t 6.116137776053836\n",
            "14 \t [ 5.11367815 10.        ]\t 559.9777157632534\t 8.91254776094752\t 5.161055252148353\t 6.508832744800402\n",
            "15 \t [-6.48363265  9.59719426]\t 102.6708217432341\t 8.91254776094752\t 5.583560652015243\t 5.829357785167657\n",
            "16 \t [ 5.28282103 -5.65289922]\t 169.6055544332534\t 8.91254776094752\t 5.342796199575574\t 5.715561362347937\n",
            "17 \t [0.92413756 9.08497581]\t 181.470459569043\t 8.91254776094752\t 5.431293831669075\t 5.630697186327918\n",
            "18 \t [10.         -1.51623535]\t 181.81296355167598\t 8.91254776094752\t 5.695662044072591\t 6.287214693834447\n",
            "\u001b[1m\u001b[92m19\u001b[0m\t \u001b[1m\u001b[92m[1.72103698 2.7337593 ]\u001b[0m\t \u001b[1m\u001b[92m1.4181370510303293\u001b[0m\t \u001b[1m\u001b[92m1.4181370510303293\u001b[0m\t \u001b[1m\u001b[92m4.85228974387863\u001b[0m\t \u001b[1m\u001b[92m4.8617961619211885\u001b[0m\n",
            "20 \t [-2.31937105 -4.05094169]\t 490.90754803569325\t 1.4181370510303293\t 5.442255191961352\t 5.427757356301279\n"
          ]
        }
      ],
      "source": [
        "### EXACT GP EI GRADIENTS\n",
        "\n",
        "np.random.seed(run_num_19)\n",
        "surrogate_exact_19 = dGaussianProcess(cov_func, optimize=opt)\n",
        "\n",
        "exact_19 = dGPGO(surrogate_exact_19, Acquisition_grad(util), objfunc, param)\n",
        "exact_19.run(init_evals=n_init, max_iter=iters)\n"
      ]
    },
    {
      "cell_type": "code",
      "execution_count": 53,
      "metadata": {
        "id": "aw3xvSryIwDi",
        "colab": {
          "base_uri": "https://localhost:8080/"
        },
        "outputId": "64974abb-3716-4d27-c87f-bfa760f7b2c5"
      },
      "outputs": [
        {
          "output_type": "stream",
          "name": "stdout",
          "text": [
            "Evaluation \t Proposed point \t  Current eval. \t  Best eval. \t        Exact EI: StdDev. x \t Approx EI: StdDev. x \n",
            "init\t [1.76261602 7.95427456]\t 155.85777119682857\t 155.85777119682857\t    \t    \n",
            "init\t [7.83061459 6.31674955]\t 469.53411882784934\t 155.85777119682857\t    \t    \n",
            "init\t [-9.28220829  3.83515164]\t 463.4088031056881\t 155.85777119682857\t    \t    \n",
            "init\t [-2.42638116  0.37021891]\t 165.36424127801376\t 155.85777119682857\t    \t    \n",
            "init\t [ 3.15902931 -6.12299564]\t 281.877765303078\t 155.85777119682857\t    \t    \n",
            "1  \t [-10. -10.]\t 2594.0\t 155.85777119682857\t 6.053170869622787\t 5.775324040727576\n",
            "\u001b[1m\u001b[92m2\u001b[0m\t \u001b[1m\u001b[92m[ 8.33875675 -1.12182159]\u001b[0m\t \u001b[1m\u001b[92m112.24145136287324\u001b[0m\t \u001b[1m\u001b[92m112.24145136287324\u001b[0m\t \u001b[1m\u001b[92m6.365310119303876\u001b[0m\t \u001b[1m\u001b[92m6.742787911881372\u001b[0m\n",
            "\u001b[1m\u001b[92m3\u001b[0m\t \u001b[1m\u001b[92m[-4.56172279  9.14761084]\u001b[0m\t \u001b[1m\u001b[92m70.09893873088411\u001b[0m\t \u001b[1m\u001b[92m70.09893873088411\u001b[0m\t \u001b[1m\u001b[92m6.118841782707137\u001b[0m\t \u001b[1m\u001b[92m6.755964994192252\u001b[0m\n",
            "4  \t [ 9.03563127 -5.57761678]\t 139.32187278779242\t 70.09893873088411\t 5.953484604087999\t 6.841086959237739\n",
            "5  \t [-2.44422691 -9.55253684]\t 1193.0146818652051\t 70.09893873088411\t 6.70052109769312\t 7.223951819527064\n",
            "6  \t [-6.53820169 -4.08782132]\t 962.7438927886911\t 70.09893873088411\t 6.634362995976989\t 6.912498258562197\n",
            "7  \t [-9.73116283  9.35447028]\t 232.15889906056978\t 70.09893873088411\t 7.5683375494231715\t 8.041441431559543\n",
            "\u001b[1m\u001b[92m8\u001b[0m\t \u001b[1m\u001b[92m[3.34699524 1.42303463]\u001b[0m\t \u001b[1m\u001b[92m10.366990449112082\u001b[0m\t \u001b[1m\u001b[92m10.366990449112082\u001b[0m\t \u001b[1m\u001b[92m6.257422928652075\u001b[0m\t \u001b[1m\u001b[92m6.439524074785594\u001b[0m\n",
            "9  \t [ 6.52472269 -9.99503482]\t 422.6157436381751\t 10.366990449112082\t 5.971399747757567\t 5.835762872722281\n",
            "10 \t [-1.6496776   4.72300201]\t 13.424437895571627\t 10.366990449112082\t 5.998567925601056\t 5.915692842490365\n",
            "11 \t [-1.29275417 -4.42864419]\t 438.46382051715824\t 10.366990449112082\t 5.985002794852091\t 6.143169403429493\n",
            "12 \t [-10.          -0.81180914]\t 1013.088649541142\t 10.366990449112082\t 6.491301855955183\t 6.192573266567022\n",
            "13 \t [10. 10.]\t 1154.0\t 10.366990449112082\t 6.81599696146596\t 6.8047777796466145\n",
            "14 \t [ 5.17389934 10.        ]\t 565.8455419113072\t 10.366990449112082\t 5.741154162532293\t 5.744540111690027\n",
            "15 \t [ 3.53119578 -1.86975948]\t 51.997030349991384\t 10.366990449112082\t 5.056462182266244\t 5.257230558911152\n",
            "16 \t [10.          2.55589374]\t 374.0105009586564\t 10.366990449112082\t 6.040268075737899\t 6.087675966952372\n",
            "\u001b[1m\u001b[92m17\u001b[0m\t \u001b[1m\u001b[92m[1.45878121 3.98065243]\u001b[0m\t \u001b[1m\u001b[92m9.460036244859584\u001b[0m\t \u001b[1m\u001b[92m9.460036244859584\u001b[0m\t \u001b[1m\u001b[92m5.5830797807367025\u001b[0m\t \u001b[1m\u001b[92m5.573108654036278\u001b[0m\n",
            "18 \t [-4.9795989   4.40675537]\t 121.37815554149947\t 9.460036244859584\t 5.917797262311999\t 6.095532964297242\n",
            "19 \t [-1.43171721  8.86095795]\t 87.3028447385176\t 9.460036244859584\t 5.63170017176175\t 5.350018383142714\n",
            "20 \t [5.92744775 2.54307372]\t 104.43077180823786\t 9.460036244859584\t 4.819210127700693\t 4.935216336052998\n"
          ]
        }
      ],
      "source": [
        "### EXACT GP EI GRADIENTS\n",
        "\n",
        "np.random.seed(run_num_20)\n",
        "surrogate_exact_20 = dGaussianProcess(cov_func, optimize=opt)\n",
        "\n",
        "exact_20 = dGPGO(surrogate_exact_20, Acquisition_grad(util), objfunc, param)\n",
        "exact_20.run(init_evals=n_init, max_iter=iters)\n"
      ]
    },
    {
      "cell_type": "code",
      "execution_count": 54,
      "metadata": {
        "id": "5c8szjivRPme",
        "colab": {
          "base_uri": "https://localhost:8080/"
        },
        "outputId": "894a189a-19f3-40dc-ca7a-6f18b5a6c6f5"
      },
      "outputs": [
        {
          "output_type": "execute_result",
          "data": {
            "text/plain": [
              "612.4885511398315"
            ]
          },
          "metadata": {},
          "execution_count": 54
        }
      ],
      "source": [
        "end_exact = time.time()\n",
        "end_exact\n",
        "\n",
        "time_exact = end_exact - start_exact\n",
        "time_exact\n"
      ]
    },
    {
      "cell_type": "code",
      "execution_count": 55,
      "metadata": {
        "id": "f6gCKnp6RR8c",
        "colab": {
          "base_uri": "https://localhost:8080/"
        },
        "outputId": "1c13bef9-2fc2-4458-e35a-dda32186b7dd"
      },
      "outputs": [
        {
          "output_type": "execute_result",
          "data": {
            "text/plain": [
              "(2.7299558909701913, 2.465690100734864)"
            ]
          },
          "metadata": {},
          "execution_count": 55
        }
      ],
      "source": [
        "### Simple regret minimization: run number = 1\n",
        "\n",
        "approx_output_1 = np.append(np.min(-approx_1.GP.y[0:n_init]),-approx_1.GP.y[n_init:(n_init+iters)]) \n",
        "exact_output_1 = np.append(np.min(-exact_1.GP.y[0:n_init]),-exact_1.GP.y[n_init:(n_init+iters)]) \n",
        "\n",
        "regret_approx_1 = np.log(approx_output_1 - y_global_orig)\n",
        "regret_exact_1 = np.log(exact_output_1 - y_global_orig)\n",
        "\n",
        "simple_regret_approx_1 = min_max_array(regret_approx_1)\n",
        "simple_regret_exact_1 = min_max_array(regret_exact_1)\n",
        "\n",
        "min_simple_regret_approx_1 = min(simple_regret_approx_1)\n",
        "min_simple_regret_exact_1 = min(simple_regret_exact_1)\n",
        "\n",
        "min_simple_regret_approx_1, min_simple_regret_exact_1\n"
      ]
    },
    {
      "cell_type": "code",
      "execution_count": 56,
      "metadata": {
        "id": "94yBw5tqQxfk",
        "colab": {
          "base_uri": "https://localhost:8080/"
        },
        "outputId": "dd91ad88-61ab-479b-ee71-1448d64ee07c"
      },
      "outputs": [
        {
          "output_type": "execute_result",
          "data": {
            "text/plain": [
              "(1.4646024975694996, 3.074493382876389)"
            ]
          },
          "metadata": {},
          "execution_count": 56
        }
      ],
      "source": [
        "### Simple regret minimization: run number = 2\n",
        "\n",
        "approx_output_2 = np.append(np.min(-approx_2.GP.y[0:n_init]),-approx_2.GP.y[n_init:(n_init+iters)]) \n",
        "exact_output_2 = np.append(np.min(-exact_2.GP.y[0:n_init]),-exact_2.GP.y[n_init:(n_init+iters)]) \n",
        "\n",
        "regret_approx_2 = np.log(approx_output_2 - y_global_orig)\n",
        "regret_exact_2 = np.log(exact_output_2 - y_global_orig)\n",
        "\n",
        "simple_regret_approx_2 = min_max_array(regret_approx_2)\n",
        "simple_regret_exact_2 = min_max_array(regret_exact_2)\n",
        "\n",
        "min_simple_regret_approx_2 = min(simple_regret_approx_2)\n",
        "min_simple_regret_exact_2 = min(simple_regret_exact_2)\n",
        "\n",
        "min_simple_regret_approx_2, min_simple_regret_exact_2\n"
      ]
    },
    {
      "cell_type": "code",
      "execution_count": 57,
      "metadata": {
        "id": "Bu6SBWALQxfl",
        "colab": {
          "base_uri": "https://localhost:8080/"
        },
        "outputId": "7f0ed15e-f3b5-4047-fd22-aa706a22f646"
      },
      "outputs": [
        {
          "output_type": "execute_result",
          "data": {
            "text/plain": [
              "(1.9332706053762703, 1.9332706053762703)"
            ]
          },
          "metadata": {},
          "execution_count": 57
        }
      ],
      "source": [
        "### Simple regret minimization: run number = 3\n",
        "\n",
        "approx_output_3 = np.append(np.min(-approx_3.GP.y[0:n_init]),-approx_3.GP.y[n_init:(n_init+iters)]) \n",
        "exact_output_3 = np.append(np.min(-exact_3.GP.y[0:n_init]),-exact_3.GP.y[n_init:(n_init+iters)]) \n",
        "\n",
        "regret_approx_3 = np.log(approx_output_3 - y_global_orig)\n",
        "regret_exact_3 = np.log(exact_output_3 - y_global_orig)\n",
        "\n",
        "simple_regret_approx_3 = min_max_array(regret_approx_3)\n",
        "simple_regret_exact_3 = min_max_array(regret_exact_3)\n",
        "\n",
        "min_simple_regret_approx_3 = min(simple_regret_approx_3)\n",
        "min_simple_regret_exact_3 = min(simple_regret_exact_3)\n",
        "\n",
        "min_simple_regret_approx_3, min_simple_regret_exact_3"
      ]
    },
    {
      "cell_type": "code",
      "execution_count": 58,
      "metadata": {
        "id": "AZm0jgxkQxfm",
        "colab": {
          "base_uri": "https://localhost:8080/"
        },
        "outputId": "5c38376c-5cfa-467d-d359-c582237bad48"
      },
      "outputs": [
        {
          "output_type": "execute_result",
          "data": {
            "text/plain": [
              "(3.1377044498930236, 0.4323626819384272)"
            ]
          },
          "metadata": {},
          "execution_count": 58
        }
      ],
      "source": [
        "### Simple regret minimization: run number = 4\n",
        "\n",
        "approx_output_4 = np.append(np.min(-approx_4.GP.y[0:n_init]),-approx_4.GP.y[n_init:(n_init+iters)]) \n",
        "exact_output_4 = np.append(np.min(-exact_4.GP.y[0:n_init]),-exact_4.GP.y[n_init:(n_init+iters)]) \n",
        "\n",
        "regret_approx_4 = np.log(approx_output_4 - y_global_orig)\n",
        "regret_exact_4 = np.log(exact_output_4 - y_global_orig)\n",
        "\n",
        "simple_regret_approx_4 = min_max_array(regret_approx_4)\n",
        "simple_regret_exact_4 = min_max_array(regret_exact_4)\n",
        "\n",
        "min_simple_regret_approx_4 = min(simple_regret_approx_4)\n",
        "min_simple_regret_exact_4 = min(simple_regret_exact_4)\n",
        "\n",
        "min_simple_regret_approx_4, min_simple_regret_exact_4"
      ]
    },
    {
      "cell_type": "code",
      "execution_count": 59,
      "metadata": {
        "id": "NONPm8JIQxfn",
        "colab": {
          "base_uri": "https://localhost:8080/"
        },
        "outputId": "10db6264-18c7-40cb-b9e3-84f53eedef5c"
      },
      "outputs": [
        {
          "output_type": "execute_result",
          "data": {
            "text/plain": [
              "(2.7483707234140518, 1.6480462671706957)"
            ]
          },
          "metadata": {},
          "execution_count": 59
        }
      ],
      "source": [
        "### Simple regret minimization: run number = 5\n",
        "\n",
        "approx_output_5 = np.append(np.min(-approx_5.GP.y[0:n_init]),-approx_5.GP.y[n_init:(n_init+iters)]) \n",
        "exact_output_5 = np.append(np.min(-exact_5.GP.y[0:n_init]),-exact_5.GP.y[n_init:(n_init+iters)]) \n",
        "\n",
        "regret_approx_5 = np.log(approx_output_5 - y_global_orig)\n",
        "regret_exact_5 = np.log(exact_output_5 - y_global_orig)\n",
        "\n",
        "simple_regret_approx_5 = min_max_array(regret_approx_5)\n",
        "simple_regret_exact_5 = min_max_array(regret_exact_5)\n",
        "\n",
        "min_simple_regret_approx_5 = min(simple_regret_approx_5)\n",
        "min_simple_regret_exact_5 = min(simple_regret_exact_5)\n",
        "\n",
        "min_simple_regret_approx_5, min_simple_regret_exact_5"
      ]
    },
    {
      "cell_type": "code",
      "execution_count": 60,
      "metadata": {
        "id": "CJv3lPuSQxfp",
        "colab": {
          "base_uri": "https://localhost:8080/"
        },
        "outputId": "ba456d04-02c1-43e0-d050-e2a680428eba"
      },
      "outputs": [
        {
          "output_type": "execute_result",
          "data": {
            "text/plain": [
              "(1.5565480115704255, 2.293147547405968)"
            ]
          },
          "metadata": {},
          "execution_count": 60
        }
      ],
      "source": [
        "### Simple regret minimization: run number = 6\n",
        "\n",
        "approx_output_6 = np.append(np.min(-approx_6.GP.y[0:n_init]),-approx_6.GP.y[n_init:(n_init+iters)]) \n",
        "exact_output_6 = np.append(np.min(-exact_6.GP.y[0:n_init]),-exact_6.GP.y[n_init:(n_init+iters)]) \n",
        "\n",
        "regret_approx_6 = np.log(approx_output_6 - y_global_orig)\n",
        "regret_exact_6 = np.log(exact_output_6 - y_global_orig)\n",
        "\n",
        "simple_regret_approx_6 = min_max_array(regret_approx_6)\n",
        "simple_regret_exact_6 = min_max_array(regret_exact_6)\n",
        "\n",
        "min_simple_regret_approx_6 = min(simple_regret_approx_6)\n",
        "min_simple_regret_exact_6 = min(simple_regret_exact_6)\n",
        "\n",
        "min_simple_regret_approx_6, min_simple_regret_exact_6"
      ]
    },
    {
      "cell_type": "code",
      "execution_count": 61,
      "metadata": {
        "id": "quR2ZyApQxfq",
        "colab": {
          "base_uri": "https://localhost:8080/"
        },
        "outputId": "f36b476b-14d1-4a68-d24c-2ced6fc80879"
      },
      "outputs": [
        {
          "output_type": "execute_result",
          "data": {
            "text/plain": [
              "(2.2476588772086465, 2.2476588772086465)"
            ]
          },
          "metadata": {},
          "execution_count": 61
        }
      ],
      "source": [
        "### Simple regret minimization: run number = 7\n",
        "\n",
        "approx_output_7 = np.append(np.min(-approx_7.GP.y[0:n_init]),-approx_7.GP.y[n_init:(n_init+iters)]) \n",
        "exact_output_7 = np.append(np.min(-exact_7.GP.y[0:n_init]),-exact_7.GP.y[n_init:(n_init+iters)]) \n",
        "\n",
        "regret_approx_7 = np.log(approx_output_7 - y_global_orig)\n",
        "regret_exact_7 = np.log(exact_output_7 - y_global_orig)\n",
        "\n",
        "simple_regret_approx_7 = min_max_array(regret_approx_7)\n",
        "simple_regret_exact_7 = min_max_array(regret_exact_7)\n",
        "\n",
        "min_simple_regret_approx_7 = min(simple_regret_approx_7)\n",
        "min_simple_regret_exact_7 = min(simple_regret_exact_7)\n",
        "\n",
        "min_simple_regret_approx_7, min_simple_regret_exact_7"
      ]
    },
    {
      "cell_type": "code",
      "execution_count": 62,
      "metadata": {
        "id": "99wY5nK6Qxfr",
        "colab": {
          "base_uri": "https://localhost:8080/"
        },
        "outputId": "227fc077-3b50-4852-fc44-6d30b4cb88b0"
      },
      "outputs": [
        {
          "output_type": "execute_result",
          "data": {
            "text/plain": [
              "(3.2945956004352697, 2.600369909822336)"
            ]
          },
          "metadata": {},
          "execution_count": 62
        }
      ],
      "source": [
        "### Simple regret minimization: run number = 8\n",
        "\n",
        "approx_output_8 = np.append(np.min(-approx_8.GP.y[0:n_init]),-approx_8.GP.y[n_init:(n_init+iters)]) \n",
        "exact_output_8 = np.append(np.min(-exact_8.GP.y[0:n_init]),-exact_8.GP.y[n_init:(n_init+iters)]) \n",
        "\n",
        "regret_approx_8 = np.log(approx_output_8 - y_global_orig)\n",
        "regret_exact_8 = np.log(exact_output_8 - y_global_orig)\n",
        "\n",
        "simple_regret_approx_8 = min_max_array(regret_approx_8)\n",
        "simple_regret_exact_8 = min_max_array(regret_exact_8)\n",
        "\n",
        "min_simple_regret_approx_8 = min(simple_regret_approx_8)\n",
        "min_simple_regret_exact_8 = min(simple_regret_exact_8)\n",
        "\n",
        "min_simple_regret_approx_8, min_simple_regret_exact_8"
      ]
    },
    {
      "cell_type": "code",
      "execution_count": 63,
      "metadata": {
        "id": "qt0P5t9qQxfs",
        "colab": {
          "base_uri": "https://localhost:8080/"
        },
        "outputId": "884b8407-752c-445d-de42-ee941b31d286"
      },
      "outputs": [
        {
          "output_type": "execute_result",
          "data": {
            "text/plain": [
              "(3.4150328676025414, 2.9753664127311867)"
            ]
          },
          "metadata": {},
          "execution_count": 63
        }
      ],
      "source": [
        "### Simple regret minimization: run number = 9\n",
        "\n",
        "approx_output_9 = np.append(np.min(-approx_9.GP.y[0:n_init]),-approx_9.GP.y[n_init:(n_init+iters)]) \n",
        "exact_output_9 = np.append(np.min(-exact_9.GP.y[0:n_init]),-exact_9.GP.y[n_init:(n_init+iters)]) \n",
        "\n",
        "regret_approx_9 = np.log(approx_output_9 - y_global_orig)\n",
        "regret_exact_9 = np.log(exact_output_9 - y_global_orig)\n",
        "\n",
        "simple_regret_approx_9 = min_max_array(regret_approx_9)\n",
        "simple_regret_exact_9 = min_max_array(regret_exact_9)\n",
        "\n",
        "min_simple_regret_approx_9 = min(simple_regret_approx_9)\n",
        "min_simple_regret_exact_9 = min(simple_regret_exact_9)\n",
        "\n",
        "min_simple_regret_approx_9, min_simple_regret_exact_9"
      ]
    },
    {
      "cell_type": "code",
      "execution_count": 64,
      "metadata": {
        "id": "vx8to9stQxft",
        "colab": {
          "base_uri": "https://localhost:8080/"
        },
        "outputId": "05e49b3b-0bcf-4a15-a52c-d4f1c70f564f"
      },
      "outputs": [
        {
          "output_type": "execute_result",
          "data": {
            "text/plain": [
              "(2.6534668591073354, 2.7239345536390522)"
            ]
          },
          "metadata": {},
          "execution_count": 64
        }
      ],
      "source": [
        "### Simple regret minimization: run number = 10\n",
        "\n",
        "approx_output_10 = np.append(np.min(-approx_10.GP.y[0:n_init]),-approx_10.GP.y[n_init:(n_init+iters)]) \n",
        "exact_output_10 = np.append(np.min(-exact_10.GP.y[0:n_init]),-exact_10.GP.y[n_init:(n_init+iters)]) \n",
        "\n",
        "regret_approx_10 = np.log(approx_output_10 - y_global_orig)\n",
        "regret_exact_10 = np.log(exact_output_10 - y_global_orig)\n",
        "\n",
        "simple_regret_approx_10 = min_max_array(regret_approx_10)\n",
        "simple_regret_exact_10 = min_max_array(regret_exact_10)\n",
        "\n",
        "min_simple_regret_approx_10 = min(simple_regret_approx_10)\n",
        "min_simple_regret_exact_10 = min(simple_regret_exact_10)\n",
        "\n",
        "min_simple_regret_approx_10, min_simple_regret_exact_10"
      ]
    },
    {
      "cell_type": "code",
      "execution_count": 65,
      "metadata": {
        "id": "d-FGzWyHQxfu",
        "colab": {
          "base_uri": "https://localhost:8080/"
        },
        "outputId": "889ea9a4-f0d0-433e-f3b7-a1d7300d353e"
      },
      "outputs": [
        {
          "output_type": "execute_result",
          "data": {
            "text/plain": [
              "(-0.06706833486095296, 1.7016578760315788)"
            ]
          },
          "metadata": {},
          "execution_count": 65
        }
      ],
      "source": [
        "### Simple regret minimization: run number = 11\n",
        "\n",
        "approx_output_11 = np.append(np.min(-approx_11.GP.y[0:n_init]),-approx_11.GP.y[n_init:(n_init+iters)]) \n",
        "exact_output_11 = np.append(np.min(-exact_11.GP.y[0:n_init]),-exact_11.GP.y[n_init:(n_init+iters)]) \n",
        "\n",
        "regret_approx_11 = np.log(approx_output_11 - y_global_orig)\n",
        "regret_exact_11 = np.log(exact_output_11 - y_global_orig)\n",
        "\n",
        "simple_regret_approx_11 = min_max_array(regret_approx_11)\n",
        "simple_regret_exact_11 = min_max_array(regret_exact_11)\n",
        "\n",
        "min_simple_regret_approx_11 = min(simple_regret_approx_11)\n",
        "min_simple_regret_exact_11 = min(simple_regret_exact_11)\n",
        "\n",
        "min_simple_regret_approx_11, min_simple_regret_exact_11"
      ]
    },
    {
      "cell_type": "code",
      "execution_count": 66,
      "metadata": {
        "id": "SvtsssyjQxfv",
        "colab": {
          "base_uri": "https://localhost:8080/"
        },
        "outputId": "12e63e64-8ef8-48d8-d087-72f25e43e993"
      },
      "outputs": [
        {
          "output_type": "execute_result",
          "data": {
            "text/plain": [
              "(1.5413256975676661, 1.7182231199790916)"
            ]
          },
          "metadata": {},
          "execution_count": 66
        }
      ],
      "source": [
        "### Simple regret minimization: run number = 12\n",
        "\n",
        "approx_output_12 = np.append(np.min(-approx_12.GP.y[0:n_init]),-approx_12.GP.y[n_init:(n_init+iters)]) \n",
        "exact_output_12 = np.append(np.min(-exact_12.GP.y[0:n_init]),-exact_12.GP.y[n_init:(n_init+iters)]) \n",
        "\n",
        "regret_approx_12 = np.log(approx_output_12 - y_global_orig)\n",
        "regret_exact_12 = np.log(exact_output_12 - y_global_orig)\n",
        "\n",
        "simple_regret_approx_12 = min_max_array(regret_approx_12)\n",
        "simple_regret_exact_12 = min_max_array(regret_exact_12)\n",
        "\n",
        "min_simple_regret_approx_12 = min(simple_regret_approx_12)\n",
        "min_simple_regret_exact_12 = min(simple_regret_exact_12)\n",
        "\n",
        "min_simple_regret_approx_12, min_simple_regret_exact_12"
      ]
    },
    {
      "cell_type": "code",
      "execution_count": 67,
      "metadata": {
        "id": "K6OiGcHkQxfw",
        "colab": {
          "base_uri": "https://localhost:8080/"
        },
        "outputId": "8b7519bb-83c4-405b-da0a-5f1b65b32c87"
      },
      "outputs": [
        {
          "output_type": "execute_result",
          "data": {
            "text/plain": [
              "(2.844832827291789, 3.047921054412445)"
            ]
          },
          "metadata": {},
          "execution_count": 67
        }
      ],
      "source": [
        "### Simple regret minimization: run number = 13\n",
        "\n",
        "approx_output_13 = np.append(np.min(-approx_13.GP.y[0:n_init]),-approx_13.GP.y[n_init:(n_init+iters)]) \n",
        "exact_output_13 = np.append(np.min(-exact_13.GP.y[0:n_init]),-exact_13.GP.y[n_init:(n_init+iters)]) \n",
        "\n",
        "regret_approx_13 = np.log(approx_output_13 - y_global_orig)\n",
        "regret_exact_13 = np.log(exact_output_13 - y_global_orig)\n",
        "\n",
        "simple_regret_approx_13 = min_max_array(regret_approx_13)\n",
        "simple_regret_exact_13 = min_max_array(regret_exact_13)\n",
        "\n",
        "min_simple_regret_approx_13 = min(simple_regret_approx_13)\n",
        "min_simple_regret_exact_13 = min(simple_regret_exact_13)\n",
        "\n",
        "min_simple_regret_approx_13, min_simple_regret_exact_13"
      ]
    },
    {
      "cell_type": "code",
      "execution_count": 68,
      "metadata": {
        "id": "ogML73shQxfx",
        "colab": {
          "base_uri": "https://localhost:8080/"
        },
        "outputId": "568450e7-878f-4a41-8073-7eef2745fa0f"
      },
      "outputs": [
        {
          "output_type": "execute_result",
          "data": {
            "text/plain": [
              "(2.9300454245107113, 2.301306836607074)"
            ]
          },
          "metadata": {},
          "execution_count": 68
        }
      ],
      "source": [
        "### Simple regret minimization: run number = 14\n",
        "\n",
        "approx_output_14 = np.append(np.min(-approx_14.GP.y[0:n_init]),-approx_14.GP.y[n_init:(n_init+iters)]) \n",
        "exact_output_14 = np.append(np.min(-exact_14.GP.y[0:n_init]),-exact_14.GP.y[n_init:(n_init+iters)]) \n",
        "\n",
        "regret_approx_14 = np.log(approx_output_14 - y_global_orig)\n",
        "regret_exact_14 = np.log(exact_output_14 - y_global_orig)\n",
        "\n",
        "simple_regret_approx_14 = min_max_array(regret_approx_14)\n",
        "simple_regret_exact_14 = min_max_array(regret_exact_14)\n",
        "\n",
        "min_simple_regret_approx_14 = min(simple_regret_approx_14)\n",
        "min_simple_regret_exact_14 = min(simple_regret_exact_14)\n",
        "\n",
        "min_simple_regret_approx_14, min_simple_regret_exact_14"
      ]
    },
    {
      "cell_type": "code",
      "execution_count": 69,
      "metadata": {
        "id": "9Eg7gFT9Qxfx",
        "colab": {
          "base_uri": "https://localhost:8080/"
        },
        "outputId": "c4b6dbae-37c9-47e6-80aa-bf1953a49ef0"
      },
      "outputs": [
        {
          "output_type": "execute_result",
          "data": {
            "text/plain": [
              "(0.6356860214355804, 1.56568994435154)"
            ]
          },
          "metadata": {},
          "execution_count": 69
        }
      ],
      "source": [
        "### Simple regret minimization: run number = 15\n",
        "\n",
        "approx_output_15 = np.append(np.min(-approx_15.GP.y[0:n_init]),-approx_15.GP.y[n_init:(n_init+iters)]) \n",
        "exact_output_15 = np.append(np.min(-exact_15.GP.y[0:n_init]),-exact_15.GP.y[n_init:(n_init+iters)]) \n",
        "\n",
        "regret_approx_15 = np.log(approx_output_15 - y_global_orig)\n",
        "regret_exact_15 = np.log(exact_output_15 - y_global_orig)\n",
        "\n",
        "simple_regret_approx_15 = min_max_array(regret_approx_15)\n",
        "simple_regret_exact_15 = min_max_array(regret_exact_15)\n",
        "\n",
        "min_simple_regret_approx_15 = min(simple_regret_approx_15)\n",
        "min_simple_regret_exact_15 = min(simple_regret_exact_15)\n",
        "\n",
        "min_simple_regret_approx_15, min_simple_regret_exact_15"
      ]
    },
    {
      "cell_type": "code",
      "execution_count": 70,
      "metadata": {
        "id": "lIAC1U7ZQxfy",
        "colab": {
          "base_uri": "https://localhost:8080/"
        },
        "outputId": "4ca52347-3e10-4836-ec05-d5dc47dee42b"
      },
      "outputs": [
        {
          "output_type": "execute_result",
          "data": {
            "text/plain": [
              "(2.9358849537812044, 1.5667087646260736)"
            ]
          },
          "metadata": {},
          "execution_count": 70
        }
      ],
      "source": [
        "### Simple regret minimization: run number = 16\n",
        "\n",
        "approx_output_16 = np.append(np.min(-approx_16.GP.y[0:n_init]),-approx_16.GP.y[n_init:(n_init+iters)]) \n",
        "exact_output_16 = np.append(np.min(-exact_16.GP.y[0:n_init]),-exact_16.GP.y[n_init:(n_init+iters)]) \n",
        "\n",
        "regret_approx_16 = np.log(approx_output_16 - y_global_orig)\n",
        "regret_exact_16 = np.log(exact_output_16 - y_global_orig)\n",
        "\n",
        "simple_regret_approx_16 = min_max_array(regret_approx_16)\n",
        "simple_regret_exact_16 = min_max_array(regret_exact_16)\n",
        "\n",
        "min_simple_regret_approx_16 = min(simple_regret_approx_16)\n",
        "min_simple_regret_exact_16 = min(simple_regret_exact_16)\n",
        "\n",
        "min_simple_regret_approx_16, min_simple_regret_exact_16"
      ]
    },
    {
      "cell_type": "code",
      "execution_count": 71,
      "metadata": {
        "id": "bGott36OQxfz",
        "colab": {
          "base_uri": "https://localhost:8080/"
        },
        "outputId": "f0242a9d-e6fb-4ead-8ff1-9175e33151a7"
      },
      "outputs": [
        {
          "output_type": "execute_result",
          "data": {
            "text/plain": [
              "(1.676562602877102, 1.5814065060463465)"
            ]
          },
          "metadata": {},
          "execution_count": 71
        }
      ],
      "source": [
        "### Simple regret minimization: run number = 17\n",
        "\n",
        "approx_output_17 = np.append(np.min(-approx_17.GP.y[0:n_init]),-approx_17.GP.y[n_init:(n_init+iters)]) \n",
        "exact_output_17 = np.append(np.min(-exact_17.GP.y[0:n_init]),-exact_17.GP.y[n_init:(n_init+iters)]) \n",
        "\n",
        "regret_approx_17 = np.log(approx_output_17 - y_global_orig)\n",
        "regret_exact_17 = np.log(exact_output_17 - y_global_orig)\n",
        "\n",
        "simple_regret_approx_17 = min_max_array(regret_approx_17)\n",
        "simple_regret_exact_17 = min_max_array(regret_exact_17)\n",
        "\n",
        "min_simple_regret_approx_17 = min(simple_regret_approx_17)\n",
        "min_simple_regret_exact_17 = min(simple_regret_exact_17)\n",
        "\n",
        "min_simple_regret_approx_17, min_simple_regret_exact_17"
      ]
    },
    {
      "cell_type": "code",
      "execution_count": 72,
      "metadata": {
        "id": "Cz9ZYMBMQxfz",
        "colab": {
          "base_uri": "https://localhost:8080/"
        },
        "outputId": "a0ef2755-be54-43c1-b16a-1f7177466972"
      },
      "outputs": [
        {
          "output_type": "execute_result",
          "data": {
            "text/plain": [
              "(1.765434726781689, 2.741446647327747)"
            ]
          },
          "metadata": {},
          "execution_count": 72
        }
      ],
      "source": [
        "### Simple regret minimization: run number = 18\n",
        "\n",
        "approx_output_18 = np.append(np.min(-approx_18.GP.y[0:n_init]),-approx_18.GP.y[n_init:(n_init+iters)]) \n",
        "exact_output_18 = np.append(np.min(-exact_18.GP.y[0:n_init]),-exact_18.GP.y[n_init:(n_init+iters)]) \n",
        "\n",
        "regret_approx_18 = np.log(approx_output_18 - y_global_orig)\n",
        "regret_exact_18 = np.log(exact_output_18 - y_global_orig)\n",
        "\n",
        "simple_regret_approx_18 = min_max_array(regret_approx_18)\n",
        "simple_regret_exact_18 = min_max_array(regret_exact_18)\n",
        "\n",
        "min_simple_regret_approx_18 = min(simple_regret_approx_18)\n",
        "min_simple_regret_exact_18 = min(simple_regret_exact_18)\n",
        "\n",
        "min_simple_regret_approx_18, min_simple_regret_exact_18"
      ]
    },
    {
      "cell_type": "code",
      "execution_count": 73,
      "metadata": {
        "id": "OBfpWOHNQxf0",
        "colab": {
          "base_uri": "https://localhost:8080/"
        },
        "outputId": "e1857cfb-b9ac-4abd-ef17-6de65bae5750"
      },
      "outputs": [
        {
          "output_type": "execute_result",
          "data": {
            "text/plain": [
              "(-0.7407289735922543, 0.34934407437770776)"
            ]
          },
          "metadata": {},
          "execution_count": 73
        }
      ],
      "source": [
        "### Simple regret minimization: run number = 19\n",
        "\n",
        "approx_output_19 = np.append(np.min(-approx_19.GP.y[0:n_init]),-approx_19.GP.y[n_init:(n_init+iters)]) \n",
        "exact_output_19 = np.append(np.min(-exact_19.GP.y[0:n_init]),-exact_19.GP.y[n_init:(n_init+iters)]) \n",
        "\n",
        "regret_approx_19 = np.log(approx_output_19 - y_global_orig)\n",
        "regret_exact_19 = np.log(exact_output_19 - y_global_orig)\n",
        "\n",
        "simple_regret_approx_19 = min_max_array(regret_approx_19)\n",
        "simple_regret_exact_19 = min_max_array(regret_exact_19)\n",
        "\n",
        "min_simple_regret_approx_19 = min(simple_regret_approx_19)\n",
        "min_simple_regret_exact_19 = min(simple_regret_exact_19)\n",
        "\n",
        "min_simple_regret_approx_19, min_simple_regret_exact_19"
      ]
    },
    {
      "cell_type": "code",
      "execution_count": 74,
      "metadata": {
        "id": "BE1AJ7NsQxf0",
        "colab": {
          "base_uri": "https://localhost:8080/"
        },
        "outputId": "bd0be0b3-a587-45ea-9829-1329d9f9f671"
      },
      "outputs": [
        {
          "output_type": "execute_result",
          "data": {
            "text/plain": [
              "(-0.1796241910026185, 2.247076214436953)"
            ]
          },
          "metadata": {},
          "execution_count": 74
        }
      ],
      "source": [
        "### Simple regret minimization: run number = 20\n",
        "\n",
        "approx_output_20 = np.append(np.min(-approx_20.GP.y[0:n_init]),-approx_20.GP.y[n_init:(n_init+iters)]) \n",
        "exact_output_20 = np.append(np.min(-exact_20.GP.y[0:n_init]),-exact_20.GP.y[n_init:(n_init+iters)]) \n",
        "\n",
        "regret_approx_20 = np.log(approx_output_20 - y_global_orig)\n",
        "regret_exact_20 = np.log(exact_output_20 - y_global_orig)\n",
        "\n",
        "simple_regret_approx_20 = min_max_array(regret_approx_20)\n",
        "simple_regret_exact_20 = min_max_array(regret_exact_20)\n",
        "\n",
        "min_simple_regret_approx_20 = min(simple_regret_approx_20)\n",
        "min_simple_regret_exact_20 = min(simple_regret_exact_20)\n",
        "\n",
        "min_simple_regret_approx_20, min_simple_regret_exact_20"
      ]
    },
    {
      "cell_type": "code",
      "execution_count": 75,
      "metadata": {
        "id": "bpX-bKAHQxf1"
      },
      "outputs": [],
      "source": [
        "# Iteration1 :\n",
        "\n",
        "slice1 = 0\n",
        "\n",
        "approx1 = [simple_regret_approx_1[slice1],\n",
        "       simple_regret_approx_2[slice1],\n",
        "       simple_regret_approx_3[slice1],\n",
        "       simple_regret_approx_4[slice1],\n",
        "       simple_regret_approx_5[slice1],\n",
        "       simple_regret_approx_6[slice1],\n",
        "       simple_regret_approx_7[slice1],\n",
        "       simple_regret_approx_8[slice1],\n",
        "       simple_regret_approx_9[slice1],\n",
        "       simple_regret_approx_10[slice1],\n",
        "       simple_regret_approx_11[slice1],\n",
        "       simple_regret_approx_12[slice1],\n",
        "       simple_regret_approx_13[slice1],\n",
        "       simple_regret_approx_14[slice1],\n",
        "       simple_regret_approx_15[slice1],\n",
        "       simple_regret_approx_16[slice1],\n",
        "       simple_regret_approx_17[slice1],\n",
        "       simple_regret_approx_18[slice1],\n",
        "       simple_regret_approx_19[slice1],\n",
        "       simple_regret_approx_20[slice1]]\n",
        "\n",
        "exact1 = [simple_regret_exact_1[slice1],\n",
        "       simple_regret_exact_2[slice1],\n",
        "       simple_regret_exact_3[slice1],\n",
        "       simple_regret_exact_4[slice1],\n",
        "       simple_regret_exact_5[slice1],\n",
        "       simple_regret_exact_6[slice1],\n",
        "       simple_regret_exact_7[slice1],\n",
        "       simple_regret_exact_8[slice1],\n",
        "       simple_regret_exact_9[slice1],\n",
        "       simple_regret_exact_10[slice1],\n",
        "       simple_regret_exact_11[slice1],\n",
        "       simple_regret_exact_12[slice1],\n",
        "       simple_regret_exact_13[slice1],\n",
        "       simple_regret_exact_14[slice1],\n",
        "       simple_regret_exact_15[slice1],\n",
        "       simple_regret_exact_16[slice1],\n",
        "       simple_regret_exact_17[slice1],\n",
        "       simple_regret_exact_18[slice1],\n",
        "       simple_regret_exact_19[slice1],\n",
        "       simple_regret_exact_20[slice1]]\n",
        "\n",
        "approx1_results = pd.DataFrame(approx1).sort_values(by=[0], ascending=False)\n",
        "exact1_results = pd.DataFrame(exact1).sort_values(by=[0], ascending=False)\n",
        "\n",
        "### Best simple regret minimization IQR - approx:\n",
        "lower_approx1 = np.asarray(approx1_results[4:5][0])[0]\n",
        "median_approx1 = np.asarray(approx1_results[9:10][0])[0]\n",
        "upper_approx1 = np.asarray(approx1_results[14:15][0])[0]\n",
        "\n",
        "lower_exact1 = np.asarray(exact1_results[4:5][0])[0]\n",
        "median_exact1 = np.asarray(exact1_results[9:10][0])[0]\n",
        "upper_exact1 = np.asarray(exact1_results[14:15][0])[0]"
      ]
    },
    {
      "cell_type": "code",
      "execution_count": 76,
      "metadata": {
        "id": "CgIkJA1xQxf2"
      },
      "outputs": [],
      "source": [
        "# Iteration11 :\n",
        "\n",
        "slice11 = 10\n",
        "\n",
        "approx11 = [simple_regret_approx_1[slice11],\n",
        "       simple_regret_approx_2[slice11],\n",
        "       simple_regret_approx_3[slice11],\n",
        "       simple_regret_approx_4[slice11],\n",
        "       simple_regret_approx_5[slice11],\n",
        "       simple_regret_approx_6[slice11],\n",
        "       simple_regret_approx_7[slice11],\n",
        "       simple_regret_approx_8[slice11],\n",
        "       simple_regret_approx_9[slice11],\n",
        "       simple_regret_approx_10[slice11],\n",
        "       simple_regret_approx_11[slice11],\n",
        "       simple_regret_approx_12[slice11],\n",
        "       simple_regret_approx_13[slice11],\n",
        "       simple_regret_approx_14[slice11],\n",
        "       simple_regret_approx_15[slice11],\n",
        "       simple_regret_approx_16[slice11],\n",
        "       simple_regret_approx_17[slice11],\n",
        "       simple_regret_approx_18[slice11],\n",
        "       simple_regret_approx_19[slice11],\n",
        "       simple_regret_approx_20[slice11]]\n",
        "\n",
        "exact11 = [simple_regret_exact_1[slice11],\n",
        "       simple_regret_exact_2[slice11],\n",
        "       simple_regret_exact_3[slice11],\n",
        "       simple_regret_exact_4[slice11],\n",
        "       simple_regret_exact_5[slice11],\n",
        "       simple_regret_exact_6[slice11],\n",
        "       simple_regret_exact_7[slice11],\n",
        "       simple_regret_exact_8[slice11],\n",
        "       simple_regret_exact_9[slice11],\n",
        "       simple_regret_exact_10[slice11],\n",
        "       simple_regret_exact_11[slice11],\n",
        "       simple_regret_exact_12[slice11],\n",
        "       simple_regret_exact_13[slice11],\n",
        "       simple_regret_exact_14[slice11],\n",
        "       simple_regret_exact_15[slice11],\n",
        "       simple_regret_exact_16[slice11],\n",
        "       simple_regret_exact_17[slice11],\n",
        "       simple_regret_exact_18[slice11],\n",
        "       simple_regret_exact_19[slice11],\n",
        "       simple_regret_exact_20[slice11]]\n",
        "\n",
        "approx11_results = pd.DataFrame(approx11).sort_values(by=[0], ascending=False)\n",
        "exact11_results = pd.DataFrame(exact11).sort_values(by=[0], ascending=False)\n",
        "\n",
        "### Best simple regret minimization IQR - approx:\n",
        "lower_approx11 = np.asarray(approx11_results[4:5][0])[0]\n",
        "median_approx11 = np.asarray(approx11_results[9:10][0])[0]\n",
        "upper_approx11 = np.asarray(approx11_results[14:15][0])[0]\n",
        "\n",
        "lower_exact11 = np.asarray(exact11_results[4:5][0])[0]\n",
        "median_exact11 = np.asarray(exact11_results[9:10][0])[0]\n",
        "upper_exact11 = np.asarray(exact11_results[14:15][0])[0]"
      ]
    },
    {
      "cell_type": "code",
      "execution_count": 77,
      "metadata": {
        "id": "MFePDfGuQxf2"
      },
      "outputs": [],
      "source": [
        "# Iteration21 :\n",
        "\n",
        "slice21 = 20\n",
        "\n",
        "approx21 = [simple_regret_approx_1[slice21],\n",
        "       simple_regret_approx_2[slice21],\n",
        "       simple_regret_approx_3[slice21],\n",
        "       simple_regret_approx_4[slice21],\n",
        "       simple_regret_approx_5[slice21],\n",
        "       simple_regret_approx_6[slice21],\n",
        "       simple_regret_approx_7[slice21],\n",
        "       simple_regret_approx_8[slice21],\n",
        "       simple_regret_approx_9[slice21],\n",
        "       simple_regret_approx_10[slice21],\n",
        "       simple_regret_approx_11[slice21],\n",
        "       simple_regret_approx_12[slice21],\n",
        "       simple_regret_approx_13[slice21],\n",
        "       simple_regret_approx_14[slice21],\n",
        "       simple_regret_approx_15[slice21],\n",
        "       simple_regret_approx_16[slice21],\n",
        "       simple_regret_approx_17[slice21],\n",
        "       simple_regret_approx_18[slice21],\n",
        "       simple_regret_approx_19[slice21],\n",
        "       simple_regret_approx_20[slice21]]\n",
        "\n",
        "exact21 = [simple_regret_exact_1[slice21],\n",
        "       simple_regret_exact_2[slice21],\n",
        "       simple_regret_exact_3[slice21],\n",
        "       simple_regret_exact_4[slice21],\n",
        "       simple_regret_exact_5[slice21],\n",
        "       simple_regret_exact_6[slice21],\n",
        "       simple_regret_exact_7[slice21],\n",
        "       simple_regret_exact_8[slice21],\n",
        "       simple_regret_exact_9[slice21],\n",
        "       simple_regret_exact_10[slice21],\n",
        "       simple_regret_exact_11[slice21],\n",
        "       simple_regret_exact_12[slice21],\n",
        "       simple_regret_exact_13[slice21],\n",
        "       simple_regret_exact_14[slice21],\n",
        "       simple_regret_exact_15[slice21],\n",
        "       simple_regret_exact_16[slice21],\n",
        "       simple_regret_exact_17[slice21],\n",
        "       simple_regret_exact_18[slice21],\n",
        "       simple_regret_exact_19[slice21],\n",
        "       simple_regret_exact_20[slice21]]\n",
        "\n",
        "approx21_results = pd.DataFrame(approx21).sort_values(by=[0], ascending=False)\n",
        "exact21_results = pd.DataFrame(exact21).sort_values(by=[0], ascending=False)\n",
        "\n",
        "### Best simple regret minimization IQR - approx:\n",
        "lower_approx21 = np.asarray(approx21_results[4:5][0])[0]\n",
        "median_approx21 = np.asarray(approx21_results[9:10][0])[0]\n",
        "upper_approx21 = np.asarray(approx21_results[14:15][0])[0]\n",
        "\n",
        "lower_exact21 = np.asarray(exact21_results[4:5][0])[0]\n",
        "median_exact21 = np.asarray(exact21_results[9:10][0])[0]\n",
        "upper_exact21 = np.asarray(exact21_results[14:15][0])[0]"
      ]
    },
    {
      "cell_type": "code",
      "execution_count": 78,
      "metadata": {
        "id": "PrRDB1kfQxf3"
      },
      "outputs": [],
      "source": [
        "# Iteration2 :\n",
        "\n",
        "slice2 = 1\n",
        "\n",
        "approx2 = [simple_regret_approx_1[slice2],\n",
        "       simple_regret_approx_2[slice2],\n",
        "       simple_regret_approx_3[slice2],\n",
        "       simple_regret_approx_4[slice2],\n",
        "       simple_regret_approx_5[slice2],\n",
        "       simple_regret_approx_6[slice2],\n",
        "       simple_regret_approx_7[slice2],\n",
        "       simple_regret_approx_8[slice2],\n",
        "       simple_regret_approx_9[slice2],\n",
        "       simple_regret_approx_10[slice2],\n",
        "       simple_regret_approx_11[slice2],\n",
        "       simple_regret_approx_12[slice2],\n",
        "       simple_regret_approx_13[slice2],\n",
        "       simple_regret_approx_14[slice2],\n",
        "       simple_regret_approx_15[slice2],\n",
        "       simple_regret_approx_16[slice2],\n",
        "       simple_regret_approx_17[slice2],\n",
        "       simple_regret_approx_18[slice2],\n",
        "       simple_regret_approx_19[slice2],\n",
        "       simple_regret_approx_20[slice2]]\n",
        "\n",
        "exact2 = [simple_regret_exact_1[slice2],\n",
        "       simple_regret_exact_2[slice2],\n",
        "       simple_regret_exact_3[slice2],\n",
        "       simple_regret_exact_4[slice2],\n",
        "       simple_regret_exact_5[slice2],\n",
        "       simple_regret_exact_6[slice2],\n",
        "       simple_regret_exact_7[slice2],\n",
        "       simple_regret_exact_8[slice2],\n",
        "       simple_regret_exact_9[slice2],\n",
        "       simple_regret_exact_10[slice2],\n",
        "       simple_regret_exact_11[slice2],\n",
        "       simple_regret_exact_12[slice2],\n",
        "       simple_regret_exact_13[slice2],\n",
        "       simple_regret_exact_14[slice2],\n",
        "       simple_regret_exact_15[slice2],\n",
        "       simple_regret_exact_16[slice2],\n",
        "       simple_regret_exact_17[slice2],\n",
        "       simple_regret_exact_18[slice2],\n",
        "       simple_regret_exact_19[slice2],\n",
        "       simple_regret_exact_20[slice2]]\n",
        "\n",
        "approx2_results = pd.DataFrame(approx2).sort_values(by=[0], ascending=False)\n",
        "exact2_results = pd.DataFrame(exact2).sort_values(by=[0], ascending=False)\n",
        "\n",
        "### Best simple regret minimization IQR - approx:\n",
        "lower_approx2 = np.asarray(approx2_results[4:5][0])[0]\n",
        "median_approx2 = np.asarray(approx2_results[9:10][0])[0]\n",
        "upper_approx2 = np.asarray(approx2_results[14:15][0])[0]\n",
        "\n",
        "lower_exact2 = np.asarray(exact2_results[4:5][0])[0]\n",
        "median_exact2 = np.asarray(exact2_results[9:10][0])[0]\n",
        "upper_exact2 = np.asarray(exact2_results[14:15][0])[0]"
      ]
    },
    {
      "cell_type": "code",
      "execution_count": 79,
      "metadata": {
        "id": "B8ncJDYeQxf3"
      },
      "outputs": [],
      "source": [
        "# Iteration12 :\n",
        "\n",
        "slice12 = 11\n",
        "\n",
        "approx12 = [simple_regret_approx_1[slice12],\n",
        "       simple_regret_approx_2[slice12],\n",
        "       simple_regret_approx_3[slice12],\n",
        "       simple_regret_approx_4[slice12],\n",
        "       simple_regret_approx_5[slice12],\n",
        "       simple_regret_approx_6[slice12],\n",
        "       simple_regret_approx_7[slice12],\n",
        "       simple_regret_approx_8[slice12],\n",
        "       simple_regret_approx_9[slice12],\n",
        "       simple_regret_approx_10[slice12],\n",
        "       simple_regret_approx_11[slice12],\n",
        "       simple_regret_approx_12[slice12],\n",
        "       simple_regret_approx_13[slice12],\n",
        "       simple_regret_approx_14[slice12],\n",
        "       simple_regret_approx_15[slice12],\n",
        "       simple_regret_approx_16[slice12],\n",
        "       simple_regret_approx_17[slice12],\n",
        "       simple_regret_approx_18[slice12],\n",
        "       simple_regret_approx_19[slice12],\n",
        "       simple_regret_approx_20[slice12]]\n",
        "\n",
        "exact12 = [simple_regret_exact_1[slice12],\n",
        "       simple_regret_exact_2[slice12],\n",
        "       simple_regret_exact_3[slice12],\n",
        "       simple_regret_exact_4[slice12],\n",
        "       simple_regret_exact_5[slice12],\n",
        "       simple_regret_exact_6[slice12],\n",
        "       simple_regret_exact_7[slice12],\n",
        "       simple_regret_exact_8[slice12],\n",
        "       simple_regret_exact_9[slice12],\n",
        "       simple_regret_exact_10[slice12],\n",
        "       simple_regret_exact_11[slice12],\n",
        "       simple_regret_exact_12[slice12],\n",
        "       simple_regret_exact_13[slice12],\n",
        "       simple_regret_exact_14[slice12],\n",
        "       simple_regret_exact_15[slice12],\n",
        "       simple_regret_exact_16[slice12],\n",
        "       simple_regret_exact_17[slice12],\n",
        "       simple_regret_exact_18[slice12],\n",
        "       simple_regret_exact_19[slice12],\n",
        "       simple_regret_exact_20[slice12]]\n",
        "\n",
        "approx12_results = pd.DataFrame(approx12).sort_values(by=[0], ascending=False)\n",
        "exact12_results = pd.DataFrame(exact12).sort_values(by=[0], ascending=False)\n",
        "\n",
        "### Best simple regret minimization IQR - approx:\n",
        "lower_approx12 = np.asarray(approx12_results[4:5][0])[0]\n",
        "median_approx12 = np.asarray(approx12_results[9:10][0])[0]\n",
        "upper_approx12 = np.asarray(approx12_results[14:15][0])[0]\n",
        "\n",
        "lower_exact12 = np.asarray(exact12_results[4:5][0])[0]\n",
        "median_exact12 = np.asarray(exact12_results[9:10][0])[0]\n",
        "upper_exact12 = np.asarray(exact12_results[14:15][0])[0]"
      ]
    },
    {
      "cell_type": "code",
      "execution_count": 80,
      "metadata": {
        "id": "Jn4KpGvcQxf4"
      },
      "outputs": [],
      "source": [
        "# Iteration3 :\n",
        "\n",
        "slice3 = 2\n",
        "\n",
        "approx3 = [simple_regret_approx_1[slice3],\n",
        "       simple_regret_approx_2[slice3],\n",
        "       simple_regret_approx_3[slice3],\n",
        "       simple_regret_approx_4[slice3],\n",
        "       simple_regret_approx_5[slice3],\n",
        "       simple_regret_approx_6[slice3],\n",
        "       simple_regret_approx_7[slice3],\n",
        "       simple_regret_approx_8[slice3],\n",
        "       simple_regret_approx_9[slice3],\n",
        "       simple_regret_approx_10[slice3],\n",
        "       simple_regret_approx_11[slice3],\n",
        "       simple_regret_approx_12[slice3],\n",
        "       simple_regret_approx_13[slice3],\n",
        "       simple_regret_approx_14[slice3],\n",
        "       simple_regret_approx_15[slice3],\n",
        "       simple_regret_approx_16[slice3],\n",
        "       simple_regret_approx_17[slice3],\n",
        "       simple_regret_approx_18[slice3],\n",
        "       simple_regret_approx_19[slice3],\n",
        "       simple_regret_approx_20[slice3]]\n",
        "\n",
        "exact3 = [simple_regret_exact_1[slice3],\n",
        "       simple_regret_exact_2[slice3],\n",
        "       simple_regret_exact_3[slice3],\n",
        "       simple_regret_exact_4[slice3],\n",
        "       simple_regret_exact_5[slice3],\n",
        "       simple_regret_exact_6[slice3],\n",
        "       simple_regret_exact_7[slice3],\n",
        "       simple_regret_exact_8[slice3],\n",
        "       simple_regret_exact_9[slice3],\n",
        "       simple_regret_exact_10[slice3],\n",
        "       simple_regret_exact_11[slice3],\n",
        "       simple_regret_exact_12[slice3],\n",
        "       simple_regret_exact_13[slice3],\n",
        "       simple_regret_exact_14[slice3],\n",
        "       simple_regret_exact_15[slice3],\n",
        "       simple_regret_exact_16[slice3],\n",
        "       simple_regret_exact_17[slice3],\n",
        "       simple_regret_exact_18[slice3],\n",
        "       simple_regret_exact_19[slice3],\n",
        "       simple_regret_exact_20[slice3]]\n",
        "\n",
        "approx3_results = pd.DataFrame(approx3).sort_values(by=[0], ascending=False)\n",
        "exact3_results = pd.DataFrame(exact3).sort_values(by=[0], ascending=False)\n",
        "\n",
        "### Best simple regret minimization IQR - approx:\n",
        "lower_approx3 = np.asarray(approx3_results[4:5][0])[0]\n",
        "median_approx3 = np.asarray(approx3_results[9:10][0])[0]\n",
        "upper_approx3 = np.asarray(approx3_results[14:15][0])[0]\n",
        "\n",
        "lower_exact3 = np.asarray(exact3_results[4:5][0])[0]\n",
        "median_exact3 = np.asarray(exact3_results[9:10][0])[0]\n",
        "upper_exact3 = np.asarray(exact3_results[14:15][0])[0]"
      ]
    },
    {
      "cell_type": "code",
      "execution_count": 81,
      "metadata": {
        "id": "plf83wxrQxf4"
      },
      "outputs": [],
      "source": [
        "# Iteration13 :\n",
        "\n",
        "slice13 = 12\n",
        "\n",
        "approx13 = [simple_regret_approx_1[slice13],\n",
        "       simple_regret_approx_2[slice13],\n",
        "       simple_regret_approx_3[slice13],\n",
        "       simple_regret_approx_4[slice13],\n",
        "       simple_regret_approx_5[slice13],\n",
        "       simple_regret_approx_6[slice13],\n",
        "       simple_regret_approx_7[slice13],\n",
        "       simple_regret_approx_8[slice13],\n",
        "       simple_regret_approx_9[slice13],\n",
        "       simple_regret_approx_10[slice13],\n",
        "       simple_regret_approx_11[slice13],\n",
        "       simple_regret_approx_12[slice13],\n",
        "       simple_regret_approx_13[slice13],\n",
        "       simple_regret_approx_14[slice13],\n",
        "       simple_regret_approx_15[slice13],\n",
        "       simple_regret_approx_16[slice13],\n",
        "       simple_regret_approx_17[slice13],\n",
        "       simple_regret_approx_18[slice13],\n",
        "       simple_regret_approx_19[slice13],\n",
        "       simple_regret_approx_20[slice13]]\n",
        "\n",
        "exact13 = [simple_regret_exact_1[slice13],\n",
        "       simple_regret_exact_2[slice13],\n",
        "       simple_regret_exact_3[slice13],\n",
        "       simple_regret_exact_4[slice13],\n",
        "       simple_regret_exact_5[slice13],\n",
        "       simple_regret_exact_6[slice13],\n",
        "       simple_regret_exact_7[slice13],\n",
        "       simple_regret_exact_8[slice13],\n",
        "       simple_regret_exact_9[slice13],\n",
        "       simple_regret_exact_10[slice13],\n",
        "       simple_regret_exact_11[slice13],\n",
        "       simple_regret_exact_12[slice13],\n",
        "       simple_regret_exact_13[slice13],\n",
        "       simple_regret_exact_14[slice13],\n",
        "       simple_regret_exact_15[slice13],\n",
        "       simple_regret_exact_16[slice13],\n",
        "       simple_regret_exact_17[slice13],\n",
        "       simple_regret_exact_18[slice13],\n",
        "       simple_regret_exact_19[slice13],\n",
        "       simple_regret_exact_20[slice13]]\n",
        "\n",
        "approx13_results = pd.DataFrame(approx13).sort_values(by=[0], ascending=False)\n",
        "exact13_results = pd.DataFrame(exact13).sort_values(by=[0], ascending=False)\n",
        "\n",
        "### Best simple regret minimization IQR - approx:\n",
        "lower_approx13 = np.asarray(approx13_results[4:5][0])[0]\n",
        "median_approx13 = np.asarray(approx13_results[9:10][0])[0]\n",
        "upper_approx13 = np.asarray(approx13_results[14:15][0])[0]\n",
        "\n",
        "lower_exact13 = np.asarray(exact13_results[4:5][0])[0]\n",
        "median_exact13 = np.asarray(exact13_results[9:10][0])[0]\n",
        "upper_exact13 = np.asarray(exact13_results[14:15][0])[0]"
      ]
    },
    {
      "cell_type": "code",
      "execution_count": 82,
      "metadata": {
        "id": "9A7mlVvJQxf5"
      },
      "outputs": [],
      "source": [
        "# Iteration4 :\n",
        "\n",
        "slice4 = 3\n",
        "\n",
        "approx4 = [simple_regret_approx_1[slice4],\n",
        "       simple_regret_approx_2[slice4],\n",
        "       simple_regret_approx_3[slice4],\n",
        "       simple_regret_approx_4[slice4],\n",
        "       simple_regret_approx_5[slice4],\n",
        "       simple_regret_approx_6[slice4],\n",
        "       simple_regret_approx_7[slice4],\n",
        "       simple_regret_approx_8[slice4],\n",
        "       simple_regret_approx_9[slice4],\n",
        "       simple_regret_approx_10[slice4],\n",
        "       simple_regret_approx_11[slice4],\n",
        "       simple_regret_approx_12[slice4],\n",
        "       simple_regret_approx_13[slice4],\n",
        "       simple_regret_approx_14[slice4],\n",
        "       simple_regret_approx_15[slice4],\n",
        "       simple_regret_approx_16[slice4],\n",
        "       simple_regret_approx_17[slice4],\n",
        "       simple_regret_approx_18[slice4],\n",
        "       simple_regret_approx_19[slice4],\n",
        "       simple_regret_approx_20[slice4]]\n",
        "\n",
        "exact4 = [simple_regret_exact_1[slice4],\n",
        "       simple_regret_exact_2[slice4],\n",
        "       simple_regret_exact_3[slice4],\n",
        "       simple_regret_exact_4[slice4],\n",
        "       simple_regret_exact_5[slice4],\n",
        "       simple_regret_exact_6[slice4],\n",
        "       simple_regret_exact_7[slice4],\n",
        "       simple_regret_exact_8[slice4],\n",
        "       simple_regret_exact_9[slice4],\n",
        "       simple_regret_exact_10[slice4],\n",
        "       simple_regret_exact_11[slice4],\n",
        "       simple_regret_exact_12[slice4],\n",
        "       simple_regret_exact_13[slice4],\n",
        "       simple_regret_exact_14[slice4],\n",
        "       simple_regret_exact_15[slice4],\n",
        "       simple_regret_exact_16[slice4],\n",
        "       simple_regret_exact_17[slice4],\n",
        "       simple_regret_exact_18[slice4],\n",
        "       simple_regret_exact_19[slice4],\n",
        "       simple_regret_exact_20[slice4]]\n",
        "\n",
        "approx4_results = pd.DataFrame(approx4).sort_values(by=[0], ascending=False)\n",
        "exact4_results = pd.DataFrame(exact4).sort_values(by=[0], ascending=False)\n",
        "\n",
        "### Best simple regret minimization IQR - approx:\n",
        "lower_approx4 = np.asarray(approx4_results[4:5][0])[0]\n",
        "median_approx4 = np.asarray(approx4_results[9:10][0])[0]\n",
        "upper_approx4 = np.asarray(approx4_results[14:15][0])[0]\n",
        "\n",
        "lower_exact4 = np.asarray(exact4_results[4:5][0])[0]\n",
        "median_exact4 = np.asarray(exact4_results[9:10][0])[0]\n",
        "upper_exact4 = np.asarray(exact4_results[14:15][0])[0]"
      ]
    },
    {
      "cell_type": "code",
      "execution_count": 83,
      "metadata": {
        "id": "ijq-rioYQxf5"
      },
      "outputs": [],
      "source": [
        "# Iteration14 :\n",
        "\n",
        "slice14 = 13\n",
        "\n",
        "approx14 = [simple_regret_approx_1[slice14],\n",
        "       simple_regret_approx_2[slice14],\n",
        "       simple_regret_approx_3[slice14],\n",
        "       simple_regret_approx_4[slice14],\n",
        "       simple_regret_approx_5[slice14],\n",
        "       simple_regret_approx_6[slice14],\n",
        "       simple_regret_approx_7[slice14],\n",
        "       simple_regret_approx_8[slice14],\n",
        "       simple_regret_approx_9[slice14],\n",
        "       simple_regret_approx_10[slice14],\n",
        "       simple_regret_approx_11[slice14],\n",
        "       simple_regret_approx_12[slice14],\n",
        "       simple_regret_approx_13[slice14],\n",
        "       simple_regret_approx_14[slice14],\n",
        "       simple_regret_approx_15[slice14],\n",
        "       simple_regret_approx_16[slice14],\n",
        "       simple_regret_approx_17[slice14],\n",
        "       simple_regret_approx_18[slice14],\n",
        "       simple_regret_approx_19[slice14],\n",
        "       simple_regret_approx_20[slice14]]\n",
        "\n",
        "exact14 = [simple_regret_exact_1[slice14],\n",
        "       simple_regret_exact_2[slice14],\n",
        "       simple_regret_exact_3[slice14],\n",
        "       simple_regret_exact_4[slice14],\n",
        "       simple_regret_exact_5[slice14],\n",
        "       simple_regret_exact_6[slice14],\n",
        "       simple_regret_exact_7[slice14],\n",
        "       simple_regret_exact_8[slice14],\n",
        "       simple_regret_exact_9[slice14],\n",
        "       simple_regret_exact_10[slice14],\n",
        "       simple_regret_exact_11[slice14],\n",
        "       simple_regret_exact_12[slice14],\n",
        "       simple_regret_exact_13[slice14],\n",
        "       simple_regret_exact_14[slice14],\n",
        "       simple_regret_exact_15[slice14],\n",
        "       simple_regret_exact_16[slice14],\n",
        "       simple_regret_exact_17[slice14],\n",
        "       simple_regret_exact_18[slice14],\n",
        "       simple_regret_exact_19[slice14],\n",
        "       simple_regret_exact_20[slice14]]\n",
        "\n",
        "approx14_results = pd.DataFrame(approx14).sort_values(by=[0], ascending=False)\n",
        "exact14_results = pd.DataFrame(exact14).sort_values(by=[0], ascending=False)\n",
        "\n",
        "### Best simple regret minimization IQR - approx:\n",
        "lower_approx14 = np.asarray(approx14_results[4:5][0])[0]\n",
        "median_approx14 = np.asarray(approx14_results[9:10][0])[0]\n",
        "upper_approx14 = np.asarray(approx14_results[14:15][0])[0]\n",
        "\n",
        "lower_exact14 = np.asarray(exact14_results[4:5][0])[0]\n",
        "median_exact14 = np.asarray(exact14_results[9:10][0])[0]\n",
        "upper_exact14 = np.asarray(exact14_results[14:15][0])[0]"
      ]
    },
    {
      "cell_type": "code",
      "execution_count": 84,
      "metadata": {
        "id": "XINlZjoTd-ZK"
      },
      "outputs": [],
      "source": [
        "# Iteration5 :\n",
        "\n",
        "slice5 = 4\n",
        "\n",
        "approx5 = [simple_regret_approx_1[slice5],\n",
        "       simple_regret_approx_2[slice5],\n",
        "       simple_regret_approx_3[slice5],\n",
        "       simple_regret_approx_4[slice5],\n",
        "       simple_regret_approx_5[slice5],\n",
        "       simple_regret_approx_6[slice5],\n",
        "       simple_regret_approx_7[slice5],\n",
        "       simple_regret_approx_8[slice5],\n",
        "       simple_regret_approx_9[slice5],\n",
        "       simple_regret_approx_10[slice5],\n",
        "       simple_regret_approx_11[slice5],\n",
        "       simple_regret_approx_12[slice5],\n",
        "       simple_regret_approx_13[slice5],\n",
        "       simple_regret_approx_14[slice5],\n",
        "       simple_regret_approx_15[slice5],\n",
        "       simple_regret_approx_16[slice5],\n",
        "       simple_regret_approx_17[slice5],\n",
        "       simple_regret_approx_18[slice5],\n",
        "       simple_regret_approx_19[slice5],\n",
        "       simple_regret_approx_20[slice5]]\n",
        "\n",
        "exact5 = [simple_regret_exact_1[slice5],\n",
        "       simple_regret_exact_2[slice5],\n",
        "       simple_regret_exact_3[slice5],\n",
        "       simple_regret_exact_4[slice5],\n",
        "       simple_regret_exact_5[slice5],\n",
        "       simple_regret_exact_6[slice5],\n",
        "       simple_regret_exact_7[slice5],\n",
        "       simple_regret_exact_8[slice5],\n",
        "       simple_regret_exact_9[slice5],\n",
        "       simple_regret_exact_10[slice5],\n",
        "       simple_regret_exact_11[slice5],\n",
        "       simple_regret_exact_12[slice5],\n",
        "       simple_regret_exact_13[slice5],\n",
        "       simple_regret_exact_14[slice5],\n",
        "       simple_regret_exact_15[slice5],\n",
        "       simple_regret_exact_16[slice5],\n",
        "       simple_regret_exact_17[slice5],\n",
        "       simple_regret_exact_18[slice5],\n",
        "       simple_regret_exact_19[slice5],\n",
        "       simple_regret_exact_20[slice5]]\n",
        "\n",
        "approx5_results = pd.DataFrame(approx5).sort_values(by=[0], ascending=False)\n",
        "exact5_results = pd.DataFrame(exact5).sort_values(by=[0], ascending=False)\n",
        "\n",
        "### Best simple regret minimization IQR - approx:\n",
        "lower_approx5 = np.asarray(approx5_results[4:5][0])[0]\n",
        "median_approx5 = np.asarray(approx5_results[9:10][0])[0]\n",
        "upper_approx5 = np.asarray(approx5_results[14:15][0])[0]\n",
        "\n",
        "lower_exact5 = np.asarray(exact5_results[4:5][0])[0]\n",
        "median_exact5 = np.asarray(exact5_results[9:10][0])[0]\n",
        "upper_exact5 = np.asarray(exact5_results[14:15][0])[0]"
      ]
    },
    {
      "cell_type": "code",
      "execution_count": 85,
      "metadata": {
        "id": "4aZ7C8sOQxf6"
      },
      "outputs": [],
      "source": [
        "# Iteration15 :\n",
        "\n",
        "slice15 = 14\n",
        "\n",
        "approx15 = [simple_regret_approx_1[slice15],\n",
        "       simple_regret_approx_2[slice15],\n",
        "       simple_regret_approx_3[slice15],\n",
        "       simple_regret_approx_4[slice15],\n",
        "       simple_regret_approx_5[slice15],\n",
        "       simple_regret_approx_6[slice15],\n",
        "       simple_regret_approx_7[slice15],\n",
        "       simple_regret_approx_8[slice15],\n",
        "       simple_regret_approx_9[slice15],\n",
        "       simple_regret_approx_10[slice15],\n",
        "       simple_regret_approx_11[slice15],\n",
        "       simple_regret_approx_12[slice15],\n",
        "       simple_regret_approx_13[slice15],\n",
        "       simple_regret_approx_14[slice15],\n",
        "       simple_regret_approx_15[slice15],\n",
        "       simple_regret_approx_16[slice15],\n",
        "       simple_regret_approx_17[slice15],\n",
        "       simple_regret_approx_18[slice15],\n",
        "       simple_regret_approx_19[slice15],\n",
        "       simple_regret_approx_20[slice15]]\n",
        "\n",
        "exact15 = [simple_regret_exact_1[slice15],\n",
        "       simple_regret_exact_2[slice15],\n",
        "       simple_regret_exact_3[slice15],\n",
        "       simple_regret_exact_4[slice15],\n",
        "       simple_regret_exact_5[slice15],\n",
        "       simple_regret_exact_6[slice15],\n",
        "       simple_regret_exact_7[slice15],\n",
        "       simple_regret_exact_8[slice15],\n",
        "       simple_regret_exact_9[slice15],\n",
        "       simple_regret_exact_10[slice15],\n",
        "       simple_regret_exact_11[slice15],\n",
        "       simple_regret_exact_12[slice15],\n",
        "       simple_regret_exact_13[slice15],\n",
        "       simple_regret_exact_14[slice15],\n",
        "       simple_regret_exact_15[slice15],\n",
        "       simple_regret_exact_16[slice15],\n",
        "       simple_regret_exact_17[slice15],\n",
        "       simple_regret_exact_18[slice15],\n",
        "       simple_regret_exact_19[slice15],\n",
        "       simple_regret_exact_20[slice15]]\n",
        "\n",
        "approx15_results = pd.DataFrame(approx15).sort_values(by=[0], ascending=False)\n",
        "exact15_results = pd.DataFrame(exact15).sort_values(by=[0], ascending=False)\n",
        "\n",
        "### Best simple regret minimization IQR - approx:\n",
        "lower_approx15 = np.asarray(approx15_results[4:5][0])[0]\n",
        "median_approx15 = np.asarray(approx15_results[9:10][0])[0]\n",
        "upper_approx15 = np.asarray(approx15_results[14:15][0])[0]\n",
        "\n",
        "lower_exact15 = np.asarray(exact15_results[4:5][0])[0]\n",
        "median_exact15 = np.asarray(exact15_results[9:10][0])[0]\n",
        "upper_exact15 = np.asarray(exact15_results[14:15][0])[0]"
      ]
    },
    {
      "cell_type": "code",
      "execution_count": 86,
      "metadata": {
        "id": "KJINKhv1Qxf6"
      },
      "outputs": [],
      "source": [
        "# Iteration6 :\n",
        "\n",
        "slice6 = 5\n",
        "\n",
        "approx6 = [simple_regret_approx_1[slice6],\n",
        "       simple_regret_approx_2[slice6],\n",
        "       simple_regret_approx_3[slice6],\n",
        "       simple_regret_approx_4[slice6],\n",
        "       simple_regret_approx_5[slice6],\n",
        "       simple_regret_approx_6[slice6],\n",
        "       simple_regret_approx_7[slice6],\n",
        "       simple_regret_approx_8[slice6],\n",
        "       simple_regret_approx_9[slice6],\n",
        "       simple_regret_approx_10[slice6],\n",
        "       simple_regret_approx_11[slice6],\n",
        "       simple_regret_approx_12[slice6],\n",
        "       simple_regret_approx_13[slice6],\n",
        "       simple_regret_approx_14[slice6],\n",
        "       simple_regret_approx_15[slice6],\n",
        "       simple_regret_approx_16[slice6],\n",
        "       simple_regret_approx_17[slice6],\n",
        "       simple_regret_approx_18[slice6],\n",
        "       simple_regret_approx_19[slice6],\n",
        "       simple_regret_approx_20[slice6]]\n",
        "\n",
        "exact6 = [simple_regret_exact_1[slice6],\n",
        "       simple_regret_exact_2[slice6],\n",
        "       simple_regret_exact_3[slice6],\n",
        "       simple_regret_exact_4[slice6],\n",
        "       simple_regret_exact_5[slice6],\n",
        "       simple_regret_exact_6[slice6],\n",
        "       simple_regret_exact_7[slice6],\n",
        "       simple_regret_exact_8[slice6],\n",
        "       simple_regret_exact_9[slice6],\n",
        "       simple_regret_exact_10[slice6],\n",
        "       simple_regret_exact_11[slice6],\n",
        "       simple_regret_exact_12[slice6],\n",
        "       simple_regret_exact_13[slice6],\n",
        "       simple_regret_exact_14[slice6],\n",
        "       simple_regret_exact_15[slice6],\n",
        "       simple_regret_exact_16[slice6],\n",
        "       simple_regret_exact_17[slice6],\n",
        "       simple_regret_exact_18[slice6],\n",
        "       simple_regret_exact_19[slice6],\n",
        "       simple_regret_exact_20[slice6]]\n",
        "\n",
        "approx6_results = pd.DataFrame(approx6).sort_values(by=[0], ascending=False)\n",
        "exact6_results = pd.DataFrame(exact6).sort_values(by=[0], ascending=False)\n",
        "\n",
        "### Best simple regret minimization IQR - approx:\n",
        "lower_approx6 = np.asarray(approx6_results[4:5][0])[0]\n",
        "median_approx6 = np.asarray(approx6_results[9:10][0])[0]\n",
        "upper_approx6 = np.asarray(approx6_results[14:15][0])[0]\n",
        "\n",
        "lower_exact6 = np.asarray(exact6_results[4:5][0])[0]\n",
        "median_exact6 = np.asarray(exact6_results[9:10][0])[0]\n",
        "upper_exact6 = np.asarray(exact6_results[14:15][0])[0]"
      ]
    },
    {
      "cell_type": "code",
      "execution_count": 87,
      "metadata": {
        "id": "nwC5N1FsQxf7"
      },
      "outputs": [],
      "source": [
        "# Iteration16 :\n",
        "\n",
        "slice16 = 15\n",
        "\n",
        "approx16 = [simple_regret_approx_1[slice16],\n",
        "       simple_regret_approx_2[slice16],\n",
        "       simple_regret_approx_3[slice16],\n",
        "       simple_regret_approx_4[slice16],\n",
        "       simple_regret_approx_5[slice16],\n",
        "       simple_regret_approx_6[slice16],\n",
        "       simple_regret_approx_7[slice16],\n",
        "       simple_regret_approx_8[slice16],\n",
        "       simple_regret_approx_9[slice16],\n",
        "       simple_regret_approx_10[slice16],\n",
        "       simple_regret_approx_11[slice16],\n",
        "       simple_regret_approx_12[slice16],\n",
        "       simple_regret_approx_13[slice16],\n",
        "       simple_regret_approx_14[slice16],\n",
        "       simple_regret_approx_15[slice16],\n",
        "       simple_regret_approx_16[slice16],\n",
        "       simple_regret_approx_17[slice16],\n",
        "       simple_regret_approx_18[slice16],\n",
        "       simple_regret_approx_19[slice16],\n",
        "       simple_regret_approx_20[slice16]]\n",
        "\n",
        "exact16 = [simple_regret_exact_1[slice16],\n",
        "       simple_regret_exact_2[slice16],\n",
        "       simple_regret_exact_3[slice16],\n",
        "       simple_regret_exact_4[slice16],\n",
        "       simple_regret_exact_5[slice16],\n",
        "       simple_regret_exact_6[slice16],\n",
        "       simple_regret_exact_7[slice16],\n",
        "       simple_regret_exact_8[slice16],\n",
        "       simple_regret_exact_9[slice16],\n",
        "       simple_regret_exact_10[slice16],\n",
        "       simple_regret_exact_11[slice16],\n",
        "       simple_regret_exact_12[slice16],\n",
        "       simple_regret_exact_13[slice16],\n",
        "       simple_regret_exact_14[slice16],\n",
        "       simple_regret_exact_15[slice16],\n",
        "       simple_regret_exact_16[slice16],\n",
        "       simple_regret_exact_17[slice16],\n",
        "       simple_regret_exact_18[slice16],\n",
        "       simple_regret_exact_19[slice16],\n",
        "       simple_regret_exact_20[slice16]]\n",
        "\n",
        "approx16_results = pd.DataFrame(approx16).sort_values(by=[0], ascending=False)\n",
        "exact16_results = pd.DataFrame(exact16).sort_values(by=[0], ascending=False)\n",
        "\n",
        "### Best simple regret minimization IQR - approx:\n",
        "lower_approx16 = np.asarray(approx16_results[4:5][0])[0]\n",
        "median_approx16 = np.asarray(approx16_results[9:10][0])[0]\n",
        "upper_approx16 = np.asarray(approx16_results[14:15][0])[0]\n",
        "\n",
        "lower_exact16 = np.asarray(exact16_results[4:5][0])[0]\n",
        "median_exact16 = np.asarray(exact16_results[9:10][0])[0]\n",
        "upper_exact16 = np.asarray(exact16_results[14:15][0])[0]"
      ]
    },
    {
      "cell_type": "code",
      "execution_count": 88,
      "metadata": {
        "id": "TrPV0AfnQxf7"
      },
      "outputs": [],
      "source": [
        "# Iteration7 :\n",
        "\n",
        "slice7 = 6\n",
        "\n",
        "approx7 = [simple_regret_approx_1[slice7],\n",
        "       simple_regret_approx_2[slice7],\n",
        "       simple_regret_approx_3[slice7],\n",
        "       simple_regret_approx_4[slice7],\n",
        "       simple_regret_approx_5[slice7],\n",
        "       simple_regret_approx_6[slice7],\n",
        "       simple_regret_approx_7[slice7],\n",
        "       simple_regret_approx_8[slice7],\n",
        "       simple_regret_approx_9[slice7],\n",
        "       simple_regret_approx_10[slice7],\n",
        "       simple_regret_approx_11[slice7],\n",
        "       simple_regret_approx_12[slice7],\n",
        "       simple_regret_approx_13[slice7],\n",
        "       simple_regret_approx_14[slice7],\n",
        "       simple_regret_approx_15[slice7],\n",
        "       simple_regret_approx_16[slice7],\n",
        "       simple_regret_approx_17[slice7],\n",
        "       simple_regret_approx_18[slice7],\n",
        "       simple_regret_approx_19[slice7],\n",
        "       simple_regret_approx_20[slice7]]\n",
        "\n",
        "exact7 = [simple_regret_exact_1[slice7],\n",
        "       simple_regret_exact_2[slice7],\n",
        "       simple_regret_exact_3[slice7],\n",
        "       simple_regret_exact_4[slice7],\n",
        "       simple_regret_exact_5[slice7],\n",
        "       simple_regret_exact_6[slice7],\n",
        "       simple_regret_exact_7[slice7],\n",
        "       simple_regret_exact_8[slice7],\n",
        "       simple_regret_exact_9[slice7],\n",
        "       simple_regret_exact_10[slice7],\n",
        "       simple_regret_exact_11[slice7],\n",
        "       simple_regret_exact_12[slice7],\n",
        "       simple_regret_exact_13[slice7],\n",
        "       simple_regret_exact_14[slice7],\n",
        "       simple_regret_exact_15[slice7],\n",
        "       simple_regret_exact_16[slice7],\n",
        "       simple_regret_exact_17[slice7],\n",
        "       simple_regret_exact_18[slice7],\n",
        "       simple_regret_exact_19[slice7],\n",
        "       simple_regret_exact_20[slice7]]\n",
        "\n",
        "approx7_results = pd.DataFrame(approx7).sort_values(by=[0], ascending=False)\n",
        "exact7_results = pd.DataFrame(exact7).sort_values(by=[0], ascending=False)\n",
        "\n",
        "### Best simple regret minimization IQR - approx:\n",
        "lower_approx7 = np.asarray(approx7_results[4:5][0])[0]\n",
        "median_approx7 = np.asarray(approx7_results[9:10][0])[0]\n",
        "upper_approx7 = np.asarray(approx7_results[14:15][0])[0]\n",
        "\n",
        "lower_exact7 = np.asarray(exact7_results[4:5][0])[0]\n",
        "median_exact7 = np.asarray(exact7_results[9:10][0])[0]\n",
        "upper_exact7 = np.asarray(exact7_results[14:15][0])[0]"
      ]
    },
    {
      "cell_type": "code",
      "execution_count": 89,
      "metadata": {
        "id": "Ub_-wpK4Qxf8"
      },
      "outputs": [],
      "source": [
        "# Iteration17 :\n",
        "\n",
        "slice17 = 16\n",
        "\n",
        "approx17 = [simple_regret_approx_1[slice17],\n",
        "       simple_regret_approx_2[slice17],\n",
        "       simple_regret_approx_3[slice17],\n",
        "       simple_regret_approx_4[slice17],\n",
        "       simple_regret_approx_5[slice17],\n",
        "       simple_regret_approx_6[slice17],\n",
        "       simple_regret_approx_7[slice17],\n",
        "       simple_regret_approx_8[slice17],\n",
        "       simple_regret_approx_9[slice17],\n",
        "       simple_regret_approx_10[slice17],\n",
        "       simple_regret_approx_11[slice17],\n",
        "       simple_regret_approx_12[slice17],\n",
        "       simple_regret_approx_13[slice17],\n",
        "       simple_regret_approx_14[slice17],\n",
        "       simple_regret_approx_15[slice17],\n",
        "       simple_regret_approx_16[slice17],\n",
        "       simple_regret_approx_17[slice17],\n",
        "       simple_regret_approx_18[slice17],\n",
        "       simple_regret_approx_19[slice17],\n",
        "       simple_regret_approx_20[slice17]]\n",
        "\n",
        "exact17 = [simple_regret_exact_1[slice17],\n",
        "       simple_regret_exact_2[slice17],\n",
        "       simple_regret_exact_3[slice17],\n",
        "       simple_regret_exact_4[slice17],\n",
        "       simple_regret_exact_5[slice17],\n",
        "       simple_regret_exact_6[slice17],\n",
        "       simple_regret_exact_7[slice17],\n",
        "       simple_regret_exact_8[slice17],\n",
        "       simple_regret_exact_9[slice17],\n",
        "       simple_regret_exact_10[slice17],\n",
        "       simple_regret_exact_11[slice17],\n",
        "       simple_regret_exact_12[slice17],\n",
        "       simple_regret_exact_13[slice17],\n",
        "       simple_regret_exact_14[slice17],\n",
        "       simple_regret_exact_15[slice17],\n",
        "       simple_regret_exact_16[slice17],\n",
        "       simple_regret_exact_17[slice17],\n",
        "       simple_regret_exact_18[slice17],\n",
        "       simple_regret_exact_19[slice17],\n",
        "       simple_regret_exact_20[slice17]]\n",
        "\n",
        "approx17_results = pd.DataFrame(approx17).sort_values(by=[0], ascending=False)\n",
        "exact17_results = pd.DataFrame(exact17).sort_values(by=[0], ascending=False)\n",
        "\n",
        "### Best simple regret minimization IQR - approx:\n",
        "lower_approx17 = np.asarray(approx17_results[4:5][0])[0]\n",
        "median_approx17 = np.asarray(approx17_results[9:10][0])[0]\n",
        "upper_approx17 = np.asarray(approx17_results[14:15][0])[0]\n",
        "\n",
        "lower_exact17 = np.asarray(exact17_results[4:5][0])[0]\n",
        "median_exact17 = np.asarray(exact17_results[9:10][0])[0]\n",
        "upper_exact17 = np.asarray(exact17_results[14:15][0])[0]"
      ]
    },
    {
      "cell_type": "code",
      "execution_count": 90,
      "metadata": {
        "id": "-6VLo37PQxf8"
      },
      "outputs": [],
      "source": [
        "# Iteration8 :\n",
        "\n",
        "slice8 = 7\n",
        "\n",
        "approx8 = [simple_regret_approx_1[slice8],\n",
        "       simple_regret_approx_2[slice8],\n",
        "       simple_regret_approx_3[slice8],\n",
        "       simple_regret_approx_4[slice8],\n",
        "       simple_regret_approx_5[slice8],\n",
        "       simple_regret_approx_6[slice8],\n",
        "       simple_regret_approx_7[slice8],\n",
        "       simple_regret_approx_8[slice8],\n",
        "       simple_regret_approx_9[slice8],\n",
        "       simple_regret_approx_10[slice8],\n",
        "       simple_regret_approx_11[slice8],\n",
        "       simple_regret_approx_12[slice8],\n",
        "       simple_regret_approx_13[slice8],\n",
        "       simple_regret_approx_14[slice8],\n",
        "       simple_regret_approx_15[slice8],\n",
        "       simple_regret_approx_16[slice8],\n",
        "       simple_regret_approx_17[slice8],\n",
        "       simple_regret_approx_18[slice8],\n",
        "       simple_regret_approx_19[slice8],\n",
        "       simple_regret_approx_20[slice8]]\n",
        "\n",
        "exact8 = [simple_regret_exact_1[slice8],\n",
        "       simple_regret_exact_2[slice8],\n",
        "       simple_regret_exact_3[slice8],\n",
        "       simple_regret_exact_4[slice8],\n",
        "       simple_regret_exact_5[slice8],\n",
        "       simple_regret_exact_6[slice8],\n",
        "       simple_regret_exact_7[slice8],\n",
        "       simple_regret_exact_8[slice8],\n",
        "       simple_regret_exact_9[slice8],\n",
        "       simple_regret_exact_10[slice8],\n",
        "       simple_regret_exact_11[slice8],\n",
        "       simple_regret_exact_12[slice8],\n",
        "       simple_regret_exact_13[slice8],\n",
        "       simple_regret_exact_14[slice8],\n",
        "       simple_regret_exact_15[slice8],\n",
        "       simple_regret_exact_16[slice8],\n",
        "       simple_regret_exact_17[slice8],\n",
        "       simple_regret_exact_18[slice8],\n",
        "       simple_regret_exact_19[slice8],\n",
        "       simple_regret_exact_20[slice8]]\n",
        "\n",
        "approx8_results = pd.DataFrame(approx8).sort_values(by=[0], ascending=False)\n",
        "exact8_results = pd.DataFrame(exact8).sort_values(by=[0], ascending=False)\n",
        "\n",
        "### Best simple regret minimization IQR - approx:\n",
        "lower_approx8 = np.asarray(approx8_results[4:5][0])[0]\n",
        "median_approx8 = np.asarray(approx8_results[9:10][0])[0]\n",
        "upper_approx8 = np.asarray(approx8_results[14:15][0])[0]\n",
        "\n",
        "lower_exact8 = np.asarray(exact8_results[4:5][0])[0]\n",
        "median_exact8 = np.asarray(exact8_results[9:10][0])[0]\n",
        "upper_exact8 = np.asarray(exact8_results[14:15][0])[0]"
      ]
    },
    {
      "cell_type": "code",
      "execution_count": 91,
      "metadata": {
        "id": "2Dp-9CC2Qxf9"
      },
      "outputs": [],
      "source": [
        "# Iteration18 :\n",
        "\n",
        "slice18 = 17\n",
        "\n",
        "approx18 = [simple_regret_approx_1[slice18],\n",
        "       simple_regret_approx_2[slice18],\n",
        "       simple_regret_approx_3[slice18],\n",
        "       simple_regret_approx_4[slice18],\n",
        "       simple_regret_approx_5[slice18],\n",
        "       simple_regret_approx_6[slice18],\n",
        "       simple_regret_approx_7[slice18],\n",
        "       simple_regret_approx_8[slice18],\n",
        "       simple_regret_approx_9[slice18],\n",
        "       simple_regret_approx_10[slice18],\n",
        "       simple_regret_approx_11[slice18],\n",
        "       simple_regret_approx_12[slice18],\n",
        "       simple_regret_approx_13[slice18],\n",
        "       simple_regret_approx_14[slice18],\n",
        "       simple_regret_approx_15[slice18],\n",
        "       simple_regret_approx_16[slice18],\n",
        "       simple_regret_approx_17[slice18],\n",
        "       simple_regret_approx_18[slice18],\n",
        "       simple_regret_approx_19[slice18],\n",
        "       simple_regret_approx_20[slice18]]\n",
        "\n",
        "exact18 = [simple_regret_exact_1[slice18],\n",
        "       simple_regret_exact_2[slice18],\n",
        "       simple_regret_exact_3[slice18],\n",
        "       simple_regret_exact_4[slice18],\n",
        "       simple_regret_exact_5[slice18],\n",
        "       simple_regret_exact_6[slice18],\n",
        "       simple_regret_exact_7[slice18],\n",
        "       simple_regret_exact_8[slice18],\n",
        "       simple_regret_exact_9[slice18],\n",
        "       simple_regret_exact_10[slice18],\n",
        "       simple_regret_exact_11[slice18],\n",
        "       simple_regret_exact_12[slice18],\n",
        "       simple_regret_exact_13[slice18],\n",
        "       simple_regret_exact_14[slice18],\n",
        "       simple_regret_exact_15[slice18],\n",
        "       simple_regret_exact_16[slice18],\n",
        "       simple_regret_exact_17[slice18],\n",
        "       simple_regret_exact_18[slice18],\n",
        "       simple_regret_exact_19[slice18],\n",
        "       simple_regret_exact_20[slice18]]\n",
        "\n",
        "approx18_results = pd.DataFrame(approx18).sort_values(by=[0], ascending=False)\n",
        "exact18_results = pd.DataFrame(exact18).sort_values(by=[0], ascending=False)\n",
        "\n",
        "### Best simple regret minimization IQR - approx:\n",
        "lower_approx18 = np.asarray(approx18_results[4:5][0])[0]\n",
        "median_approx18 = np.asarray(approx18_results[9:10][0])[0]\n",
        "upper_approx18 = np.asarray(approx18_results[14:15][0])[0]\n",
        "\n",
        "lower_exact18 = np.asarray(exact18_results[4:5][0])[0]\n",
        "median_exact18 = np.asarray(exact18_results[9:10][0])[0]\n",
        "upper_exact18 = np.asarray(exact18_results[14:15][0])[0]"
      ]
    },
    {
      "cell_type": "code",
      "execution_count": 92,
      "metadata": {
        "id": "SqiaOpB7Qxf9"
      },
      "outputs": [],
      "source": [
        "# Iteration9 :\n",
        "\n",
        "slice9 = 8\n",
        "\n",
        "approx9 = [simple_regret_approx_1[slice9],\n",
        "       simple_regret_approx_2[slice9],\n",
        "       simple_regret_approx_3[slice9],\n",
        "       simple_regret_approx_4[slice9],\n",
        "       simple_regret_approx_5[slice9],\n",
        "       simple_regret_approx_6[slice9],\n",
        "       simple_regret_approx_7[slice9],\n",
        "       simple_regret_approx_8[slice9],\n",
        "       simple_regret_approx_9[slice9],\n",
        "       simple_regret_approx_10[slice9],\n",
        "       simple_regret_approx_11[slice9],\n",
        "       simple_regret_approx_12[slice9],\n",
        "       simple_regret_approx_13[slice9],\n",
        "       simple_regret_approx_14[slice9],\n",
        "       simple_regret_approx_15[slice9],\n",
        "       simple_regret_approx_16[slice9],\n",
        "       simple_regret_approx_17[slice9],\n",
        "       simple_regret_approx_18[slice9],\n",
        "       simple_regret_approx_19[slice9],\n",
        "       simple_regret_approx_20[slice9]]\n",
        "\n",
        "exact9 = [simple_regret_exact_1[slice9],\n",
        "       simple_regret_exact_2[slice9],\n",
        "       simple_regret_exact_3[slice9],\n",
        "       simple_regret_exact_4[slice9],\n",
        "       simple_regret_exact_5[slice9],\n",
        "       simple_regret_exact_6[slice9],\n",
        "       simple_regret_exact_7[slice9],\n",
        "       simple_regret_exact_8[slice9],\n",
        "       simple_regret_exact_9[slice9],\n",
        "       simple_regret_exact_10[slice9],\n",
        "       simple_regret_exact_11[slice9],\n",
        "       simple_regret_exact_12[slice9],\n",
        "       simple_regret_exact_13[slice9],\n",
        "       simple_regret_exact_14[slice9],\n",
        "       simple_regret_exact_15[slice9],\n",
        "       simple_regret_exact_16[slice9],\n",
        "       simple_regret_exact_17[slice9],\n",
        "       simple_regret_exact_18[slice9],\n",
        "       simple_regret_exact_19[slice9],\n",
        "       simple_regret_exact_20[slice9]]\n",
        "\n",
        "approx9_results = pd.DataFrame(approx9).sort_values(by=[0], ascending=False)\n",
        "exact9_results = pd.DataFrame(exact9).sort_values(by=[0], ascending=False)\n",
        "\n",
        "### Best simple regret minimization IQR - approx:\n",
        "lower_approx9 = np.asarray(approx9_results[4:5][0])[0]\n",
        "median_approx9 = np.asarray(approx9_results[9:10][0])[0]\n",
        "upper_approx9 = np.asarray(approx9_results[14:15][0])[0]\n",
        "\n",
        "lower_exact9 = np.asarray(exact9_results[4:5][0])[0]\n",
        "median_exact9 = np.asarray(exact9_results[9:10][0])[0]\n",
        "upper_exact9 = np.asarray(exact9_results[14:15][0])[0]"
      ]
    },
    {
      "cell_type": "code",
      "execution_count": 93,
      "metadata": {
        "id": "OQkCCOsPQxf9"
      },
      "outputs": [],
      "source": [
        "# Iteration19 :\n",
        "\n",
        "slice19 = 18\n",
        "\n",
        "approx19 = [simple_regret_approx_1[slice19],\n",
        "       simple_regret_approx_2[slice19],\n",
        "       simple_regret_approx_3[slice19],\n",
        "       simple_regret_approx_4[slice19],\n",
        "       simple_regret_approx_5[slice19],\n",
        "       simple_regret_approx_6[slice19],\n",
        "       simple_regret_approx_7[slice19],\n",
        "       simple_regret_approx_8[slice19],\n",
        "       simple_regret_approx_9[slice19],\n",
        "       simple_regret_approx_10[slice19],\n",
        "       simple_regret_approx_11[slice19],\n",
        "       simple_regret_approx_12[slice19],\n",
        "       simple_regret_approx_13[slice19],\n",
        "       simple_regret_approx_14[slice19],\n",
        "       simple_regret_approx_15[slice19],\n",
        "       simple_regret_approx_16[slice19],\n",
        "       simple_regret_approx_17[slice19],\n",
        "       simple_regret_approx_18[slice19],\n",
        "       simple_regret_approx_19[slice19],\n",
        "       simple_regret_approx_20[slice19]]\n",
        "\n",
        "exact19 = [simple_regret_exact_1[slice19],\n",
        "       simple_regret_exact_2[slice19],\n",
        "       simple_regret_exact_3[slice19],\n",
        "       simple_regret_exact_4[slice19],\n",
        "       simple_regret_exact_5[slice19],\n",
        "       simple_regret_exact_6[slice19],\n",
        "       simple_regret_exact_7[slice19],\n",
        "       simple_regret_exact_8[slice19],\n",
        "       simple_regret_exact_9[slice19],\n",
        "       simple_regret_exact_10[slice19],\n",
        "       simple_regret_exact_11[slice19],\n",
        "       simple_regret_exact_12[slice19],\n",
        "       simple_regret_exact_13[slice19],\n",
        "       simple_regret_exact_14[slice19],\n",
        "       simple_regret_exact_15[slice19],\n",
        "       simple_regret_exact_16[slice19],\n",
        "       simple_regret_exact_17[slice19],\n",
        "       simple_regret_exact_18[slice19],\n",
        "       simple_regret_exact_19[slice19],\n",
        "       simple_regret_exact_20[slice19]]\n",
        "\n",
        "approx19_results = pd.DataFrame(approx19).sort_values(by=[0], ascending=False)\n",
        "exact19_results = pd.DataFrame(exact19).sort_values(by=[0], ascending=False)\n",
        "\n",
        "### Best simple regret minimization IQR - approx:\n",
        "lower_approx19 = np.asarray(approx19_results[4:5][0])[0]\n",
        "median_approx19 = np.asarray(approx19_results[9:10][0])[0]\n",
        "upper_approx19 = np.asarray(approx19_results[14:15][0])[0]\n",
        "\n",
        "lower_exact19 = np.asarray(exact19_results[4:5][0])[0]\n",
        "median_exact19 = np.asarray(exact19_results[9:10][0])[0]\n",
        "upper_exact19 = np.asarray(exact19_results[14:15][0])[0]"
      ]
    },
    {
      "cell_type": "code",
      "execution_count": 94,
      "metadata": {
        "id": "h4vtWahcQxf-"
      },
      "outputs": [],
      "source": [
        "# Iteration10 :\n",
        "\n",
        "slice10 = 9\n",
        "\n",
        "approx10 = [simple_regret_approx_1[slice10],\n",
        "       simple_regret_approx_2[slice10],\n",
        "       simple_regret_approx_3[slice10],\n",
        "       simple_regret_approx_4[slice10],\n",
        "       simple_regret_approx_5[slice10],\n",
        "       simple_regret_approx_6[slice10],\n",
        "       simple_regret_approx_7[slice10],\n",
        "       simple_regret_approx_8[slice10],\n",
        "       simple_regret_approx_9[slice10],\n",
        "       simple_regret_approx_10[slice10],\n",
        "       simple_regret_approx_11[slice10],\n",
        "       simple_regret_approx_12[slice10],\n",
        "       simple_regret_approx_13[slice10],\n",
        "       simple_regret_approx_14[slice10],\n",
        "       simple_regret_approx_15[slice10],\n",
        "       simple_regret_approx_16[slice10],\n",
        "       simple_regret_approx_17[slice10],\n",
        "       simple_regret_approx_18[slice10],\n",
        "       simple_regret_approx_19[slice10],\n",
        "       simple_regret_approx_20[slice10]]\n",
        "\n",
        "exact10 = [simple_regret_exact_1[slice10],\n",
        "       simple_regret_exact_2[slice10],\n",
        "       simple_regret_exact_3[slice10],\n",
        "       simple_regret_exact_4[slice10],\n",
        "       simple_regret_exact_5[slice10],\n",
        "       simple_regret_exact_6[slice10],\n",
        "       simple_regret_exact_7[slice10],\n",
        "       simple_regret_exact_8[slice10],\n",
        "       simple_regret_exact_9[slice10],\n",
        "       simple_regret_exact_10[slice10],\n",
        "       simple_regret_exact_11[slice10],\n",
        "       simple_regret_exact_12[slice10],\n",
        "       simple_regret_exact_13[slice10],\n",
        "       simple_regret_exact_14[slice10],\n",
        "       simple_regret_exact_15[slice10],\n",
        "       simple_regret_exact_16[slice10],\n",
        "       simple_regret_exact_17[slice10],\n",
        "       simple_regret_exact_18[slice10],\n",
        "       simple_regret_exact_19[slice10],\n",
        "       simple_regret_exact_20[slice10]]\n",
        "\n",
        "approx10_results = pd.DataFrame(approx10).sort_values(by=[0], ascending=False)\n",
        "exact10_results = pd.DataFrame(exact10).sort_values(by=[0], ascending=False)\n",
        "\n",
        "### Best simple regret minimization IQR - approx:\n",
        "lower_approx10 = np.asarray(approx10_results[4:5][0])[0]\n",
        "median_approx10 = np.asarray(approx10_results[9:10][0])[0]\n",
        "upper_approx10 = np.asarray(approx10_results[14:15][0])[0]\n",
        "\n",
        "lower_exact10 = np.asarray(exact10_results[4:5][0])[0]\n",
        "median_exact10 = np.asarray(exact10_results[9:10][0])[0]\n",
        "upper_exact10 = np.asarray(exact10_results[14:15][0])[0]"
      ]
    },
    {
      "cell_type": "code",
      "execution_count": 95,
      "metadata": {
        "id": "Rsf240pWQxf-"
      },
      "outputs": [],
      "source": [
        "# Iteration20 :\n",
        "\n",
        "slice20 = 19\n",
        "\n",
        "approx20 = [simple_regret_approx_1[slice20],\n",
        "       simple_regret_approx_2[slice20],\n",
        "       simple_regret_approx_3[slice20],\n",
        "       simple_regret_approx_4[slice20],\n",
        "       simple_regret_approx_5[slice20],\n",
        "       simple_regret_approx_6[slice20],\n",
        "       simple_regret_approx_7[slice20],\n",
        "       simple_regret_approx_8[slice20],\n",
        "       simple_regret_approx_9[slice20],\n",
        "       simple_regret_approx_10[slice20],\n",
        "       simple_regret_approx_11[slice20],\n",
        "       simple_regret_approx_12[slice20],\n",
        "       simple_regret_approx_13[slice20],\n",
        "       simple_regret_approx_14[slice20],\n",
        "       simple_regret_approx_15[slice20],\n",
        "       simple_regret_approx_16[slice20],\n",
        "       simple_regret_approx_17[slice20],\n",
        "       simple_regret_approx_18[slice20],\n",
        "       simple_regret_approx_19[slice20],\n",
        "       simple_regret_approx_20[slice20]]\n",
        "\n",
        "exact20 = [simple_regret_exact_1[slice20],\n",
        "       simple_regret_exact_2[slice20],\n",
        "       simple_regret_exact_3[slice20],\n",
        "       simple_regret_exact_4[slice20],\n",
        "       simple_regret_exact_5[slice20],\n",
        "       simple_regret_exact_6[slice20],\n",
        "       simple_regret_exact_7[slice20],\n",
        "       simple_regret_exact_8[slice20],\n",
        "       simple_regret_exact_9[slice20],\n",
        "       simple_regret_exact_10[slice20],\n",
        "       simple_regret_exact_11[slice20],\n",
        "       simple_regret_exact_12[slice20],\n",
        "       simple_regret_exact_13[slice20],\n",
        "       simple_regret_exact_14[slice20],\n",
        "       simple_regret_exact_15[slice20],\n",
        "       simple_regret_exact_16[slice20],\n",
        "       simple_regret_exact_17[slice20],\n",
        "       simple_regret_exact_18[slice20],\n",
        "       simple_regret_exact_19[slice20],\n",
        "       simple_regret_exact_20[slice20]]\n",
        "\n",
        "approx20_results = pd.DataFrame(approx20).sort_values(by=[0], ascending=False)\n",
        "exact20_results = pd.DataFrame(exact20).sort_values(by=[0], ascending=False)\n",
        "\n",
        "### Best simple regret minimization IQR - approx:\n",
        "lower_approx20 = np.asarray(approx20_results[4:5][0])[0]\n",
        "median_approx20 = np.asarray(approx20_results[9:10][0])[0]\n",
        "upper_approx20 = np.asarray(approx20_results[14:15][0])[0]\n",
        "\n",
        "lower_exact20 = np.asarray(exact20_results[4:5][0])[0]\n",
        "median_exact20 = np.asarray(exact20_results[9:10][0])[0]\n",
        "upper_exact20 = np.asarray(exact20_results[14:15][0])[0]"
      ]
    },
    {
      "cell_type": "code",
      "execution_count": 96,
      "metadata": {
        "id": "gn36RejbQxf_"
      },
      "outputs": [],
      "source": [
        "### Summarize arrays: 'Loser'\n",
        "\n",
        "lower_approx = [lower_approx1,\n",
        "            lower_approx2,\n",
        "            lower_approx3,\n",
        "            lower_approx4,\n",
        "            lower_approx5,\n",
        "            lower_approx6,\n",
        "            lower_approx7,\n",
        "            lower_approx8,\n",
        "            lower_approx9,\n",
        "            lower_approx10,\n",
        "            lower_approx11,\n",
        "            lower_approx12,\n",
        "            lower_approx13,\n",
        "            lower_approx14,\n",
        "            lower_approx15,\n",
        "            lower_approx16,\n",
        "            lower_approx17,\n",
        "            lower_approx18,\n",
        "            lower_approx19,\n",
        "            lower_approx20,\n",
        "            lower_approx21]\n",
        "\n",
        "median_approx = [median_approx1,\n",
        "            median_approx2,\n",
        "            median_approx3,\n",
        "            median_approx4,\n",
        "            median_approx5,\n",
        "            median_approx6,\n",
        "            median_approx7,\n",
        "            median_approx8,\n",
        "            median_approx9,\n",
        "            median_approx10,\n",
        "            median_approx11,\n",
        "            median_approx12,\n",
        "            median_approx13,\n",
        "            median_approx14,\n",
        "            median_approx15,\n",
        "            median_approx16,\n",
        "            median_approx17,\n",
        "            median_approx18,\n",
        "            median_approx19,\n",
        "            median_approx20,\n",
        "            median_approx21]\n",
        "\n",
        "upper_approx = [upper_approx1,\n",
        "            upper_approx2,\n",
        "            upper_approx3,\n",
        "            upper_approx4,\n",
        "            upper_approx5,\n",
        "            upper_approx6,\n",
        "            upper_approx7,\n",
        "            upper_approx8,\n",
        "            upper_approx9,\n",
        "            upper_approx10,\n",
        "            upper_approx11,\n",
        "            upper_approx12,\n",
        "            upper_approx13,\n",
        "            upper_approx14,\n",
        "            upper_approx15,\n",
        "            upper_approx16,\n",
        "            upper_approx17,\n",
        "            upper_approx18,\n",
        "            upper_approx19,\n",
        "            upper_approx20,\n",
        "            upper_approx21]"
      ]
    },
    {
      "cell_type": "code",
      "execution_count": 97,
      "metadata": {
        "id": "wxtGTOYfQxf_"
      },
      "outputs": [],
      "source": [
        "### Summarize arrays: 'exact'\n",
        "\n",
        "lower_exact = [lower_exact1,\n",
        "            lower_exact2,\n",
        "            lower_exact3,\n",
        "            lower_exact4,\n",
        "            lower_exact5,\n",
        "            lower_exact6,\n",
        "            lower_exact7,\n",
        "            lower_exact8,\n",
        "            lower_exact9,\n",
        "            lower_exact10,\n",
        "            lower_exact11,\n",
        "            lower_exact12,\n",
        "            lower_exact13,\n",
        "            lower_exact14,\n",
        "            lower_exact15,\n",
        "            lower_exact16,\n",
        "            lower_exact17,\n",
        "            lower_exact18,\n",
        "            lower_exact19,\n",
        "            lower_exact20,\n",
        "            lower_exact21]\n",
        "\n",
        "median_exact = [median_exact1,\n",
        "            median_exact2,\n",
        "            median_exact3,\n",
        "            median_exact4,\n",
        "            median_exact5,\n",
        "            median_exact6,\n",
        "            median_exact7,\n",
        "            median_exact8,\n",
        "            median_exact9,\n",
        "            median_exact10,\n",
        "            median_exact11,\n",
        "            median_exact12,\n",
        "            median_exact13,\n",
        "            median_exact14,\n",
        "            median_exact15,\n",
        "            median_exact16,\n",
        "            median_exact17,\n",
        "            median_exact18,\n",
        "            median_exact19,\n",
        "            median_exact20,\n",
        "            median_exact21]\n",
        "\n",
        "upper_exact = [upper_exact1,\n",
        "            upper_exact2,\n",
        "            upper_exact3,\n",
        "            upper_exact4,\n",
        "            upper_exact5,\n",
        "            upper_exact6,\n",
        "            upper_exact7,\n",
        "            upper_exact8,\n",
        "            upper_exact9,\n",
        "            upper_exact10,\n",
        "            upper_exact11,\n",
        "            upper_exact12,\n",
        "            upper_exact13,\n",
        "            upper_exact14,\n",
        "            upper_exact15,\n",
        "            upper_exact16,\n",
        "            upper_exact17,\n",
        "            upper_exact18,\n",
        "            upper_exact19,\n",
        "            upper_exact20,\n",
        "            upper_exact21]"
      ]
    },
    {
      "cell_type": "code",
      "execution_count": 98,
      "metadata": {
        "id": "2MONq-BXQxgA",
        "colab": {
          "base_uri": "https://localhost:8080/",
          "height": 299
        },
        "outputId": "c8b53483-e70e-4e32-a267-a12c00369f9e"
      },
      "outputs": [
        {
          "output_type": "display_data",
          "data": {
            "text/plain": [
              "<Figure size 432x288 with 1 Axes>"
            ],
            "image/png": "[encoded data removed]"
          },
          "metadata": {
            "needs_background": "light"
          }
        }
      ],
      "source": [
        "### Visualise!\n",
        "\n",
        "title = func\n",
        "plt.figure()\n",
        "\n",
        "plt.plot(median_approx, color = 'Yellow')\n",
        "plt.plot(median_exact, color = 'Red')\n",
        "\n",
        "xstar = np.arange(0, iters+1, step=1)\n",
        "plt.fill_between(xstar, lower_approx, upper_approx, facecolor = 'Yellow', alpha=0.4, label='GP EI Optimization: Approx GP EI gradients')\n",
        "plt.fill_between(xstar, lower_exact, upper_exact, facecolor = 'Red', alpha=0.4, label='GP EI Optimization: Exact GP dEI gradients')\n",
        "\n",
        "plt.title(title, weight = 'bold')\n",
        "plt.xlabel('(Post-initialization) iteration $\\it{k}$', weight = 'bold')\n",
        "plt.ylabel('log(Regret)', weight = 'bold') \n",
        "plt.legend(loc=0) # add plot legend\n",
        "\n",
        "### Make the x-ticks integers, not floats:\n",
        "count = len(xstar)\n",
        "plt.xticks(np.arange(count), np.arange(0, count))\n",
        "plt.show() #visualize!"
      ]
    },
    {
      "cell_type": "code",
      "execution_count": 99,
      "metadata": {
        "id": "l5dkR2Id2oiu",
        "colab": {
          "base_uri": "https://localhost:8080/"
        },
        "outputId": "d738a7d2-f9cc-4eab-f965-022b31cd42ae"
      },
      "outputs": [
        {
          "output_type": "execute_result",
          "data": {
            "text/plain": [
              "(682.9311056137085, 612.4885511398315)"
            ]
          },
          "metadata": {},
          "execution_count": 99
        }
      ],
      "source": [
        "time_approx, time_exact\n"
      ]
    },
    {
      "cell_type": "code",
      "source": [
        "### acqFunc attribute x, stddev: run number = 1\n",
        "\n",
        "acqFuncApprox_exact_1 = acqFuncApprox(exact_1.history)\n",
        "acqFuncExact_exact_1 = acqFuncExact(exact_1.history)\n",
        "\n",
        "e1 = np.mean(acqFuncExact_exact_1)\n",
        "a1 = np.mean(acqFuncApprox_exact_1)\n",
        "\n",
        "e1, a1\n"
      ],
      "metadata": {
        "id": "uwxv4dmfGsLr",
        "colab": {
          "base_uri": "https://localhost:8080/"
        },
        "outputId": "bb4aea27-8ea6-45ad-ca0d-ef63e40a1ed5"
      },
      "execution_count": 100,
      "outputs": [
        {
          "output_type": "execute_result",
          "data": {
            "text/plain": [
              "(6.093268246470622, 6.081804702384426)"
            ]
          },
          "metadata": {},
          "execution_count": 100
        }
      ]
    },
    {
      "cell_type": "code",
      "source": [
        "### acqFunc attribute x, stddev: run number = 2\n",
        "\n",
        "acqFuncApprox_exact_2 = acqFuncApprox(exact_2.history)\n",
        "acqFuncExact_exact_2 = acqFuncExact(exact_2.history)\n",
        "\n",
        "e2 = np.mean(acqFuncExact_exact_2)\n",
        "a2 = np.mean(acqFuncApprox_exact_2)\n",
        "\n",
        "e2, a2\n"
      ],
      "metadata": {
        "id": "0YSV00_pGsXe",
        "colab": {
          "base_uri": "https://localhost:8080/"
        },
        "outputId": "3db6a13e-1fe7-4161-b851-c27e3777f7df"
      },
      "execution_count": 101,
      "outputs": [
        {
          "output_type": "execute_result",
          "data": {
            "text/plain": [
              "(5.895033977273032, 6.2716668489526075)"
            ]
          },
          "metadata": {},
          "execution_count": 101
        }
      ]
    },
    {
      "cell_type": "code",
      "source": [
        "### acqFunc attribute x, stddev: run number = 3\n",
        "\n",
        "acqFuncApprox_exact_3 = acqFuncApprox(exact_3.history)\n",
        "acqFuncExact_exact_3 = acqFuncExact(exact_3.history)\n",
        "\n",
        "e3 = np.mean(acqFuncExact_exact_3)\n",
        "a3 = np.mean(acqFuncApprox_exact_3)\n",
        "\n",
        "e3, a3\n"
      ],
      "metadata": {
        "id": "HHVmsd2UGsjT",
        "colab": {
          "base_uri": "https://localhost:8080/"
        },
        "outputId": "02aef5bd-158a-4489-e84b-40c63ec1fa00"
      },
      "execution_count": 102,
      "outputs": [
        {
          "output_type": "execute_result",
          "data": {
            "text/plain": [
              "(5.561067017010959, 5.726126985109254)"
            ]
          },
          "metadata": {},
          "execution_count": 102
        }
      ]
    },
    {
      "cell_type": "code",
      "source": [
        "### acqFunc attribute x, stddev: run number = 4\n",
        "\n",
        "acqFuncApprox_exact_4 = acqFuncApprox(exact_4.history)\n",
        "acqFuncExact_exact_4 = acqFuncExact(exact_4.history)\n",
        "\n",
        "e4 = np.mean(acqFuncExact_exact_4)\n",
        "a4 = np.mean(acqFuncApprox_exact_4)\n",
        "\n",
        "e4, a4\n"
      ],
      "metadata": {
        "id": "r7O19S2eGsu7",
        "colab": {
          "base_uri": "https://localhost:8080/"
        },
        "outputId": "82fab98c-eae0-4643-b76e-bc27a4582907"
      },
      "execution_count": 103,
      "outputs": [
        {
          "output_type": "execute_result",
          "data": {
            "text/plain": [
              "(5.728820883273973, 5.976209845664219)"
            ]
          },
          "metadata": {},
          "execution_count": 103
        }
      ]
    },
    {
      "cell_type": "code",
      "source": [
        "### acqFunc attribute x, stddev: run number = 5\n",
        "\n",
        "acqFuncApprox_exact_5 = acqFuncApprox(exact_5.history)\n",
        "acqFuncExact_exact_5 = acqFuncExact(exact_5.history)\n",
        "\n",
        "e5 = np.mean(acqFuncExact_exact_5)\n",
        "a5 = np.mean(acqFuncApprox_exact_5)\n",
        "\n",
        "e5, a5\n"
      ],
      "metadata": {
        "id": "sdb9o6NuGs5m",
        "colab": {
          "base_uri": "https://localhost:8080/"
        },
        "outputId": "13541246-1295-43ff-d758-016a22105073"
      },
      "execution_count": 104,
      "outputs": [
        {
          "output_type": "execute_result",
          "data": {
            "text/plain": [
              "(5.757217999957137, 5.980950388694311)"
            ]
          },
          "metadata": {},
          "execution_count": 104
        }
      ]
    },
    {
      "cell_type": "code",
      "source": [
        "### acqFunc attribute x, stddev: run number = 6\n",
        "\n",
        "acqFuncApprox_exact_6 = acqFuncApprox(exact_6.history)\n",
        "acqFuncExact_exact_6 = acqFuncExact(exact_6.history)\n",
        "\n",
        "e6 = np.mean(acqFuncExact_exact_6)\n",
        "a6 = np.mean(acqFuncApprox_exact_6)\n",
        "\n",
        "e6, a6\n"
      ],
      "metadata": {
        "id": "COQl7LZ8GtE0",
        "colab": {
          "base_uri": "https://localhost:8080/"
        },
        "outputId": "ab41cbdc-e3e2-4a32-ef7d-3a35fe458d63"
      },
      "execution_count": 105,
      "outputs": [
        {
          "output_type": "execute_result",
          "data": {
            "text/plain": [
              "(6.128978769989993, 6.34219901614634)"
            ]
          },
          "metadata": {},
          "execution_count": 105
        }
      ]
    },
    {
      "cell_type": "code",
      "source": [
        "### acqFunc attribute x, stddev: run number = 7\n",
        "\n",
        "acqFuncApprox_exact_7 = acqFuncApprox(exact_7.history)\n",
        "acqFuncExact_exact_7 = acqFuncExact(exact_7.history)\n",
        "\n",
        "e7 = np.mean(acqFuncExact_exact_7)\n",
        "a7 = np.mean(acqFuncApprox_exact_7)\n",
        "\n",
        "e7, a7\n"
      ],
      "metadata": {
        "id": "2gy9EtTzGtP7",
        "colab": {
          "base_uri": "https://localhost:8080/"
        },
        "outputId": "64d0eaaa-4f82-4bbb-948f-efaf356bf33f"
      },
      "execution_count": 106,
      "outputs": [
        {
          "output_type": "execute_result",
          "data": {
            "text/plain": [
              "(5.848085361484945, 5.987746079212118)"
            ]
          },
          "metadata": {},
          "execution_count": 106
        }
      ]
    },
    {
      "cell_type": "code",
      "source": [
        "### acqFunc attribute x, stddev: run number = 8\n",
        "\n",
        "acqFuncApprox_exact_8 = acqFuncApprox(exact_8.history)\n",
        "acqFuncExact_exact_8 = acqFuncExact(exact_8.history)\n",
        "\n",
        "e8 = np.mean(acqFuncExact_exact_8)\n",
        "a8 = np.mean(acqFuncApprox_exact_8)\n",
        "\n",
        "e8, a8\n"
      ],
      "metadata": {
        "id": "S7mn0qoMGtbM",
        "colab": {
          "base_uri": "https://localhost:8080/"
        },
        "outputId": "ce9f8e21-6df6-4a5f-8b11-b767e18f1cd9"
      },
      "execution_count": 107,
      "outputs": [
        {
          "output_type": "execute_result",
          "data": {
            "text/plain": [
              "(6.177333474224711, 6.19156264422745)"
            ]
          },
          "metadata": {},
          "execution_count": 107
        }
      ]
    },
    {
      "cell_type": "code",
      "source": [
        "### acqFunc attribute x, stddev: run number = 9\n",
        "\n",
        "acqFuncApprox_exact_9 = acqFuncApprox(exact_9.history)\n",
        "acqFuncExact_exact_9 = acqFuncExact(exact_9.history)\n",
        "\n",
        "e9 = np.mean(acqFuncExact_exact_9)\n",
        "a9 = np.mean(acqFuncApprox_exact_9)\n",
        "\n",
        "e9, a9\n"
      ],
      "metadata": {
        "id": "BhljmkNxGtms",
        "colab": {
          "base_uri": "https://localhost:8080/"
        },
        "outputId": "6ba1267f-3ece-413e-b593-88115f331edc"
      },
      "execution_count": 108,
      "outputs": [
        {
          "output_type": "execute_result",
          "data": {
            "text/plain": [
              "(6.101604898871101, 6.3373028582343185)"
            ]
          },
          "metadata": {},
          "execution_count": 108
        }
      ]
    },
    {
      "cell_type": "code",
      "source": [
        "### acqFunc attribute x, stddev: run number = 10\n",
        "\n",
        "acqFuncApprox_exact_10 = acqFuncApprox(exact_10.history)\n",
        "acqFuncExact_exact_10 = acqFuncExact(exact_10.history)\n",
        "\n",
        "e10 = np.mean(acqFuncExact_exact_10)\n",
        "a10 = np.mean(acqFuncApprox_exact_10)\n",
        "\n",
        "e10, a10\n"
      ],
      "metadata": {
        "id": "W5GZo6k3Gtx8",
        "colab": {
          "base_uri": "https://localhost:8080/"
        },
        "outputId": "d3fdfb94-27b6-4f62-a6ff-5a6c4f077b7f"
      },
      "execution_count": 109,
      "outputs": [
        {
          "output_type": "execute_result",
          "data": {
            "text/plain": [
              "(6.069579233886261, 6.332036794534193)"
            ]
          },
          "metadata": {},
          "execution_count": 109
        }
      ]
    },
    {
      "cell_type": "code",
      "source": [
        "### acqFunc attribute x, stddev: run number = 11\n",
        "\n",
        "acqFuncApprox_exact_11 = acqFuncApprox(exact_11.history)\n",
        "acqFuncExact_exact_11 = acqFuncExact(exact_11.history)\n",
        "\n",
        "e11 = np.mean(acqFuncExact_exact_11)\n",
        "a11 = np.mean(acqFuncApprox_exact_11)\n",
        "\n",
        "e11, a11\n"
      ],
      "metadata": {
        "id": "isKNhDk5Gt9D",
        "colab": {
          "base_uri": "https://localhost:8080/"
        },
        "outputId": "0fb29c6c-f7d0-4d48-ab71-4bd1f6fbff2e"
      },
      "execution_count": 110,
      "outputs": [
        {
          "output_type": "execute_result",
          "data": {
            "text/plain": [
              "(5.769334661949992, 5.928491304583703)"
            ]
          },
          "metadata": {},
          "execution_count": 110
        }
      ]
    },
    {
      "cell_type": "code",
      "source": [
        "### acqFunc attribute x, stddev: run number = 12\n",
        "\n",
        "acqFuncApprox_exact_12 = acqFuncApprox(exact_12.history)\n",
        "acqFuncExact_exact_12 = acqFuncExact(exact_12.history)\n",
        "\n",
        "e12 = np.mean(acqFuncExact_exact_12)\n",
        "a12 = np.mean(acqFuncApprox_exact_12)\n",
        "\n",
        "e12, a12\n"
      ],
      "metadata": {
        "id": "8ts-wrSuGuIm",
        "colab": {
          "base_uri": "https://localhost:8080/"
        },
        "outputId": "92bd9860-c23f-40d9-bc2a-c90db75f9389"
      },
      "execution_count": 111,
      "outputs": [
        {
          "output_type": "execute_result",
          "data": {
            "text/plain": [
              "(5.932472106126744, 5.958137309678417)"
            ]
          },
          "metadata": {},
          "execution_count": 111
        }
      ]
    },
    {
      "cell_type": "code",
      "source": [
        "### acqFunc attribute x, stddev: run number = 13\n",
        "\n",
        "acqFuncApprox_exact_13 = acqFuncApprox(exact_13.history)\n",
        "acqFuncExact_exact_13 = acqFuncExact(exact_13.history)\n",
        "\n",
        "e13 = np.mean(acqFuncExact_exact_13)\n",
        "a13 = np.mean(acqFuncApprox_exact_13)\n",
        "\n",
        "e13, a13\n"
      ],
      "metadata": {
        "id": "n0drhEe3GuUL",
        "colab": {
          "base_uri": "https://localhost:8080/"
        },
        "outputId": "738d51e6-a437-4140-a2eb-c4c202ce01ab"
      },
      "execution_count": 112,
      "outputs": [
        {
          "output_type": "execute_result",
          "data": {
            "text/plain": [
              "(6.516757569345373, 6.524163897856882)"
            ]
          },
          "metadata": {},
          "execution_count": 112
        }
      ]
    },
    {
      "cell_type": "code",
      "source": [
        "### acqFunc attribute x, stddev: run number = 14\n",
        "\n",
        "acqFuncApprox_exact_14 = acqFuncApprox(exact_14.history)\n",
        "acqFuncExact_exact_14 = acqFuncExact(exact_14.history)\n",
        "\n",
        "e14 = np.mean(acqFuncExact_exact_14)\n",
        "a14 = np.mean(acqFuncApprox_exact_14)\n",
        "\n",
        "e14, a14\n"
      ],
      "metadata": {
        "id": "R0W3MZaVGues",
        "colab": {
          "base_uri": "https://localhost:8080/"
        },
        "outputId": "6e0939af-8e9b-4df4-b005-932a000bf7ee"
      },
      "execution_count": 113,
      "outputs": [
        {
          "output_type": "execute_result",
          "data": {
            "text/plain": [
              "(6.102673894062127, 6.051235159570069)"
            ]
          },
          "metadata": {},
          "execution_count": 113
        }
      ]
    },
    {
      "cell_type": "code",
      "source": [
        "### acqFunc attribute x, stddev: run number = 15\n",
        "\n",
        "acqFuncApprox_exact_15 = acqFuncApprox(exact_15.history)\n",
        "acqFuncExact_exact_15 = acqFuncExact(exact_15.history)\n",
        "\n",
        "e15 = np.mean(acqFuncExact_exact_15)\n",
        "a15 = np.mean(acqFuncApprox_exact_15)\n",
        "\n",
        "e15, a15\n"
      ],
      "metadata": {
        "id": "DoXdDFHoGup-",
        "colab": {
          "base_uri": "https://localhost:8080/"
        },
        "outputId": "d07534ff-43c8-4cd5-a2d9-2b10bcf57fd0"
      },
      "execution_count": 114,
      "outputs": [
        {
          "output_type": "execute_result",
          "data": {
            "text/plain": [
              "(5.7979538620772235, 6.507878756540643)"
            ]
          },
          "metadata": {},
          "execution_count": 114
        }
      ]
    },
    {
      "cell_type": "code",
      "source": [
        "### acqFunc attribute x, stddev: run number = 16\n",
        "\n",
        "acqFuncApprox_exact_16 = acqFuncApprox(exact_16.history)\n",
        "acqFuncExact_exact_16 = acqFuncExact(exact_16.history)\n",
        "\n",
        "e16 = np.mean(acqFuncExact_exact_16)\n",
        "a16 = np.mean(acqFuncApprox_exact_16)\n",
        "\n",
        "e16, a16\n"
      ],
      "metadata": {
        "id": "K_wAeqSoGu2j",
        "colab": {
          "base_uri": "https://localhost:8080/"
        },
        "outputId": "08a58316-a576-47b0-9f41-bc4d0d7b9fb3"
      },
      "execution_count": 115,
      "outputs": [
        {
          "output_type": "execute_result",
          "data": {
            "text/plain": [
              "(5.873267802286641, 6.233616355581003)"
            ]
          },
          "metadata": {},
          "execution_count": 115
        }
      ]
    },
    {
      "cell_type": "code",
      "source": [
        "### acqFunc attribute x, stddev: run number = 17\n",
        "\n",
        "acqFuncApprox_exact_17 = acqFuncApprox(exact_17.history)\n",
        "acqFuncExact_exact_17 = acqFuncExact(exact_17.history)\n",
        "\n",
        "e17 = np.mean(acqFuncExact_exact_17)\n",
        "a17 = np.mean(acqFuncApprox_exact_17)\n",
        "\n",
        "e17, a17\n"
      ],
      "metadata": {
        "id": "n6zy78fjGvBT",
        "colab": {
          "base_uri": "https://localhost:8080/"
        },
        "outputId": "430cd401-6eab-43f9-944c-37c928b88d4d"
      },
      "execution_count": 116,
      "outputs": [
        {
          "output_type": "execute_result",
          "data": {
            "text/plain": [
              "(5.716245210963804, 5.795525144001615)"
            ]
          },
          "metadata": {},
          "execution_count": 116
        }
      ]
    },
    {
      "cell_type": "code",
      "source": [
        "### acqFunc attribute x, stddev: run number = 18\n",
        "\n",
        "acqFuncApprox_exact_18 = acqFuncApprox(exact_18.history)\n",
        "acqFuncExact_exact_18 = acqFuncExact(exact_18.history)\n",
        "\n",
        "e18 = np.mean(acqFuncExact_exact_18)\n",
        "a18 = np.mean(acqFuncApprox_exact_18)\n",
        "\n",
        "e18, a18\n"
      ],
      "metadata": {
        "id": "s_6_2K4iGvM-",
        "colab": {
          "base_uri": "https://localhost:8080/"
        },
        "outputId": "9abd058b-12bd-4ed8-a8ef-7930d5557116"
      },
      "execution_count": 117,
      "outputs": [
        {
          "output_type": "execute_result",
          "data": {
            "text/plain": [
              "(5.88060468034311, 6.042122988333067)"
            ]
          },
          "metadata": {},
          "execution_count": 117
        }
      ]
    },
    {
      "cell_type": "code",
      "source": [
        "### acqFunc attribute x, stddev: run number = 19\n",
        "\n",
        "acqFuncApprox_exact_19 = acqFuncApprox(exact_19.history)\n",
        "acqFuncExact_exact_19 = acqFuncExact(exact_19.history)\n",
        "\n",
        "e19 = np.mean(acqFuncExact_exact_19)\n",
        "a19 = np.mean(acqFuncApprox_exact_19)\n",
        "\n",
        "e19, a19\n"
      ],
      "metadata": {
        "id": "o8oO8pdBGvYk",
        "colab": {
          "base_uri": "https://localhost:8080/"
        },
        "outputId": "b22c108f-6365-40f2-c149-c8414a11a8c8"
      },
      "execution_count": 118,
      "outputs": [
        {
          "output_type": "execute_result",
          "data": {
            "text/plain": [
              "(5.817172669359147, 6.116286864223403)"
            ]
          },
          "metadata": {},
          "execution_count": 118
        }
      ]
    },
    {
      "cell_type": "code",
      "source": [
        "### acqFunc attribute x, stddev: run number = 20\n",
        "\n",
        "acqFuncApprox_exact_20 = acqFuncApprox(exact_20.history)\n",
        "acqFuncExact_exact_20 = acqFuncExact(exact_20.history)\n",
        "\n",
        "e20 = np.mean(acqFuncExact_exact_20)\n",
        "a20 = np.mean(acqFuncApprox_exact_20)\n",
        "\n",
        "e20, a20\n"
      ],
      "metadata": {
        "id": "b2w8oLc0IMzU",
        "colab": {
          "base_uri": "https://localhost:8080/"
        },
        "outputId": "9a7389d8-c2c6-4d8d-e217-359a60fae389"
      },
      "execution_count": 119,
      "outputs": [
        {
          "output_type": "execute_result",
          "data": {
            "text/plain": [
              "(6.085169649807329, 6.233393931520594)"
            ]
          },
          "metadata": {},
          "execution_count": 119
        }
      ]
    },
    {
      "cell_type": "code",
      "source": [
        "### Summarize arrays: \n",
        "\n",
        "exact_stddev = np.sort([e1,e2,e3,e4,e5,e6,e7,e8,e9,e10,e11,e12,e13,e14,e15,e16,e17,e18,e19,e20])\n",
        "approx_stddev = np.sort([a1,a2,a3,a4,a5,a6,a7,a8,a9,a10,a11,a12,a13,a14,a15,a16,a17,a18,a19,a20])\n",
        "\n",
        "np.mean(exact_stddev), np.mean(approx_stddev)\n"
      ],
      "metadata": {
        "id": "qAZs3yxMIZul",
        "colab": {
          "base_uri": "https://localhost:8080/"
        },
        "outputId": "f7b5a8fa-cd9e-415b-d6ad-b16c26442efc"
      },
      "execution_count": 120,
      "outputs": [
        {
          "output_type": "execute_result",
          "data": {
            "text/plain": [
              "(5.942632098438211, 6.130922893752432)"
            ]
          },
          "metadata": {},
          "execution_count": 120
        }
      ]
    },
    {
      "cell_type": "code",
      "source": [
        "### Visualise!\n",
        "\n",
        "title = func\n",
        "plt.figure()\n",
        "\n",
        "plt.plot(approx_stddev, color = 'Yellow', ls='-', label='Average $\\sigma$, attribute $\\mathbf{x}$: Approx GP EI gradients')\n",
        "plt.plot(exact_stddev, color = 'Red', ls='-.', label='Average $\\sigma$, attribute $\\mathbf{x}$: Exact GP dEI gradients')\n",
        "\n",
        "plt.title(title, weight = 'bold')\n",
        "plt.xlabel('Function evaluations: iteration $\\it{k}$', weight = 'bold')\n",
        "plt.ylabel('GP EI: $\\sigma$($\\mathbf{x^{*}}$)', weight = 'bold') \n",
        "plt.legend(loc=0) # add plot legend\n",
        "\n",
        "### Make the x-ticks integers, not floats:\n",
        "count = len(xstar)\n",
        "plt.xticks(np.arange(count), np.arange(1, count))\n",
        "plt.show() #visualize!\n"
      ],
      "metadata": {
        "id": "e_kpqYcMIZxu",
        "colab": {
          "base_uri": "https://localhost:8080/",
          "height": 297
        },
        "outputId": "777dc698-0843-4a1d-b02f-96ff0d3e121a"
      },
      "execution_count": 121,
      "outputs": [
        {
          "output_type": "display_data",
          "data": {
            "text/plain": [
              "<Figure size 432x288 with 1 Axes>"
            ],
            "image/png": "[encoded data removed]"
          },
          "metadata": {
            "needs_background": "light"
          }
        }
      ]
    },
    {
      "cell_type": "code",
      "source": [
        ""
      ],
      "metadata": {
        "id": "LToGd4vZIZ3I"
      },
      "execution_count": 121,
      "outputs": []
    }
  ],
  "metadata": {
    "colab": {
      "collapsed_sections": [],
      "name": "stddev_7_Booth_GP_dEI.ipynb",
      "provenance": []
    },
    "kernelspec": {
      "display_name": "Python 3",
      "name": "python3"
    },
    "language_info": {
      "name": "python"
    }
  },
  "nbformat": 4,
  "nbformat_minor": 0
}