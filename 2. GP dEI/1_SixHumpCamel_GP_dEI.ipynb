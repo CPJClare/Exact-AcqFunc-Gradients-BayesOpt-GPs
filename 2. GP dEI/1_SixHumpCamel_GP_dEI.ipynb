{
  "cells": [
    {
      "cell_type": "markdown",
      "metadata": {
        "id": "Dqn4dFx7Z2Ir"
      },
      "source": [
        "\n",
        "SixHumpCamel: 2D\n"
      ]
    },
    {
      "cell_type": "code",
      "execution_count": 1,
      "metadata": {
        "colab": {
          "base_uri": "https://localhost:8080/"
        },
        "id": "MJTM_GZZZb5x",
        "outputId": "47036a60-2934-4bce-a78c-c7f9220e6998"
      },
      "outputs": [
        {
          "output_type": "stream",
          "name": "stdout",
          "text": [
            "Looking in indexes: https://pypi.org/simple, https://us-python.pkg.dev/colab-wheels/public/simple/\n",
            "Collecting pyGPGO\n",
            "  Downloading pyGPGO-0.5.1.tar.gz (14 kB)\n",
            "Requirement already satisfied: numpy in /usr/local/lib/python3.7/dist-packages (from pyGPGO) (1.21.6)\n",
            "Requirement already satisfied: mkl in /usr/local/lib/python3.7/dist-packages (from pyGPGO) (2019.0)\n",
            "Requirement already satisfied: scipy in /usr/local/lib/python3.7/dist-packages (from pyGPGO) (1.7.3)\n",
            "Requirement already satisfied: joblib in /usr/local/lib/python3.7/dist-packages (from pyGPGO) (1.1.0)\n",
            "Requirement already satisfied: scikit-learn in /usr/local/lib/python3.7/dist-packages (from pyGPGO) (1.0.2)\n",
            "Requirement already satisfied: Theano-PyMC in /usr/local/lib/python3.7/dist-packages (from pyGPGO) (1.1.2)\n",
            "Requirement already satisfied: pyMC3 in /usr/local/lib/python3.7/dist-packages (from pyGPGO) (3.11.5)\n",
            "Requirement already satisfied: intel-openmp in /usr/local/lib/python3.7/dist-packages (from mkl->pyGPGO) (2022.1.0)\n",
            "Requirement already satisfied: dill in /usr/local/lib/python3.7/dist-packages (from pyMC3->pyGPGO) (0.3.5.1)\n",
            "Requirement already satisfied: semver>=2.13.0 in /usr/local/lib/python3.7/dist-packages (from pyMC3->pyGPGO) (2.13.0)\n",
            "Requirement already satisfied: patsy>=0.5.1 in /usr/local/lib/python3.7/dist-packages (from pyMC3->pyGPGO) (0.5.2)\n",
            "Requirement already satisfied: pandas>=0.24.0 in /usr/local/lib/python3.7/dist-packages (from pyMC3->pyGPGO) (1.3.5)\n",
            "Requirement already satisfied: typing-extensions>=3.7.4 in /usr/local/lib/python3.7/dist-packages (from pyMC3->pyGPGO) (4.1.1)\n",
            "Requirement already satisfied: arviz>=0.11.0 in /usr/local/lib/python3.7/dist-packages (from pyMC3->pyGPGO) (0.12.1)\n",
            "Requirement already satisfied: cachetools>=4.2.1 in /usr/local/lib/python3.7/dist-packages (from pyMC3->pyGPGO) (4.2.4)\n",
            "Requirement already satisfied: fastprogress>=0.2.0 in /usr/local/lib/python3.7/dist-packages (from pyMC3->pyGPGO) (1.0.3)\n",
            "Requirement already satisfied: deprecat in /usr/local/lib/python3.7/dist-packages (from pyMC3->pyGPGO) (2.1.1)\n",
            "Requirement already satisfied: filelock in /usr/local/lib/python3.7/dist-packages (from Theano-PyMC->pyGPGO) (3.7.1)\n",
            "Requirement already satisfied: setuptools>=38.4 in /usr/local/lib/python3.7/dist-packages (from arviz>=0.11.0->pyMC3->pyGPGO) (57.4.0)\n",
            "Requirement already satisfied: netcdf4 in /usr/local/lib/python3.7/dist-packages (from arviz>=0.11.0->pyMC3->pyGPGO) (1.6.0)\n",
            "Requirement already satisfied: matplotlib>=3.0 in /usr/local/lib/python3.7/dist-packages (from arviz>=0.11.0->pyMC3->pyGPGO) (3.2.2)\n",
            "Requirement already satisfied: xarray>=0.16.1 in /usr/local/lib/python3.7/dist-packages (from arviz>=0.11.0->pyMC3->pyGPGO) (0.20.2)\n",
            "Requirement already satisfied: xarray-einstats>=0.2 in /usr/local/lib/python3.7/dist-packages (from arviz>=0.11.0->pyMC3->pyGPGO) (0.2.2)\n",
            "Requirement already satisfied: packaging in /usr/local/lib/python3.7/dist-packages (from arviz>=0.11.0->pyMC3->pyGPGO) (21.3)\n",
            "Requirement already satisfied: kiwisolver>=1.0.1 in /usr/local/lib/python3.7/dist-packages (from matplotlib>=3.0->arviz>=0.11.0->pyMC3->pyGPGO) (1.4.4)\n",
            "Requirement already satisfied: cycler>=0.10 in /usr/local/lib/python3.7/dist-packages (from matplotlib>=3.0->arviz>=0.11.0->pyMC3->pyGPGO) (0.11.0)\n",
            "Requirement already satisfied: python-dateutil>=2.1 in /usr/local/lib/python3.7/dist-packages (from matplotlib>=3.0->arviz>=0.11.0->pyMC3->pyGPGO) (2.8.2)\n",
            "Requirement already satisfied: pyparsing!=2.0.4,!=2.1.2,!=2.1.6,>=2.0.1 in /usr/local/lib/python3.7/dist-packages (from matplotlib>=3.0->arviz>=0.11.0->pyMC3->pyGPGO) (3.0.9)\n",
            "Requirement already satisfied: pytz>=2017.3 in /usr/local/lib/python3.7/dist-packages (from pandas>=0.24.0->pyMC3->pyGPGO) (2022.1)\n",
            "Requirement already satisfied: six in /usr/local/lib/python3.7/dist-packages (from patsy>=0.5.1->pyMC3->pyGPGO) (1.15.0)\n",
            "Requirement already satisfied: importlib-metadata in /usr/local/lib/python3.7/dist-packages (from xarray>=0.16.1->arviz>=0.11.0->pyMC3->pyGPGO) (4.12.0)\n",
            "Requirement already satisfied: wrapt<2,>=1.10 in /usr/local/lib/python3.7/dist-packages (from deprecat->pyMC3->pyGPGO) (1.14.1)\n",
            "Requirement already satisfied: zipp>=0.5 in /usr/local/lib/python3.7/dist-packages (from importlib-metadata->xarray>=0.16.1->arviz>=0.11.0->pyMC3->pyGPGO) (3.8.1)\n",
            "Requirement already satisfied: cftime in /usr/local/lib/python3.7/dist-packages (from netcdf4->arviz>=0.11.0->pyMC3->pyGPGO) (1.6.1)\n",
            "Requirement already satisfied: threadpoolctl>=2.0.0 in /usr/local/lib/python3.7/dist-packages (from scikit-learn->pyGPGO) (3.1.0)\n",
            "Building wheels for collected packages: pyGPGO\n",
            "  Building wheel for pyGPGO (setup.py) ... \u001b[?25l\u001b[?25hdone\n",
            "  Created wheel for pyGPGO: filename=pyGPGO-0.5.1-py3-none-any.whl size=19879 sha256=70654d725dde3dc5e209f967796f6fa3ec292fc2ef81b1bc2983420b0b3b9b78\n",
            "  Stored in directory: /root/.cache/pip/wheels/c8/5d/0b/2160114e2f1b87791c51b66cf07f89831dbb6f49167950316f\n",
            "Successfully built pyGPGO\n",
            "Installing collected packages: pyGPGO\n",
            "Successfully installed pyGPGO-0.5.1\n"
          ]
        }
      ],
      "source": [
        "pip install pyGPGO\n"
      ]
    },
    {
      "cell_type": "code",
      "execution_count": 2,
      "metadata": {
        "id": "ZJSSPbwPaEUB"
      },
      "outputs": [],
      "source": [
        "### Import:\n",
        "\n",
        "import numpy as np\n",
        "import scipy as sp\n",
        "import pandas as pd\n",
        "import matplotlib.pyplot as plt\n",
        "import warnings\n",
        "import itertools\n",
        "\n",
        "from pyGPGO.GPGO import GPGO\n",
        "from pyGPGO.surrogates.GaussianProcess import GaussianProcess\n",
        "from pyGPGO.acquisition import Acquisition\n",
        "from pyGPGO.covfunc import squaredExponential\n",
        "\n",
        "from joblib import Parallel, delayed\n",
        "from numpy.linalg import solve, cholesky\n",
        "from scipy.spatial.distance import cdist\n",
        "from scipy.optimize import minimize\n",
        "from scipy.stats import norm\n",
        "import time\n",
        "\n",
        "warnings.filterwarnings(\"ignore\", category=RuntimeWarning)\n"
      ]
    },
    {
      "cell_type": "code",
      "execution_count": 3,
      "metadata": {
        "id": "OeYcTUNoaJWa"
      },
      "outputs": [],
      "source": [
        "### Inputs:\n",
        "\n",
        "func = 'SixHumpCamel'\n",
        "n_test = 500\n",
        "eps = 1e-08\n",
        "\n",
        "util = 'EI'\n",
        "\n",
        "n_init = 5 # random initialisations\n",
        "iters = 20\n",
        "opt = True"
      ]
    },
    {
      "cell_type": "code",
      "execution_count": 4,
      "metadata": {
        "id": "xpaEOjdzaPMS"
      },
      "outputs": [],
      "source": [
        "### Objective Function - SixHumpCamel(x) 2-D:\n",
        "\n",
        "def objfunc(x1_training, x2_training):\n",
        "        return operator * ((4 - 2.1 * x1_training ** 2 + 1 / 3 * x1_training ** 4) * x1_training ** 2 +\n",
        "                (x1_training * x2_training) + (-4 + 4 * x2_training ** 2) * x2_training ** 2)\n",
        "    \n",
        "# Constraints:\n",
        "lb_x1 = -3\n",
        "ub_x1 = +3\n",
        "    \n",
        "lb_x2 = -2\n",
        "ub_x2 = +2\n",
        "\n",
        "# Input array dimension(s):\n",
        "dim = 2\n",
        "\n",
        "# 2-D inputs' parameter bounds:\n",
        "param = {'x1_training': ('cont', [lb_x1, ub_x1]),\n",
        "             'x2_training': ('cont', [lb_x2, ub_x2])}\n",
        "\n",
        "# True y bounds:\n",
        "operator = -1\n",
        "y_global_orig = -1.0316 # targets global minimum\n",
        "\n",
        "# Test data:\n",
        "x1_test = np.linspace(lb_x1, ub_x1, n_test) \n",
        "x2_test = np.linspace(lb_x2, ub_x2, n_test)\n",
        "  \n",
        "x_test = np.column_stack((x1_test,x2_test))\n"
      ]
    },
    {
      "cell_type": "code",
      "execution_count": 5,
      "metadata": {
        "id": "eYpI3Zm4aGxi"
      },
      "outputs": [],
      "source": [
        "n_start_AcqFunc = iters\n",
        "inverse = -1\n"
      ]
    },
    {
      "cell_type": "code",
      "execution_count": 6,
      "metadata": {
        "id": "oO_GUmOoaV0T"
      },
      "outputs": [],
      "source": [
        "### Cumulative Regret Calculators:\n",
        "\n",
        "def min_max_array(x):\n",
        "    new_list = []\n",
        "    for i, num in enumerate(x):\n",
        "            new_list.append(np.min(x[0:i+1]))\n",
        "    return new_list\n",
        "  \n",
        "def acqFuncExact(x):\n",
        "    new_array = []\n",
        "    x = np.array(x) \n",
        "    for i, num in enumerate(x):\n",
        "            new_array = x[:-2][::-3]\n",
        "    return new_array[::-1]\n",
        "\n",
        "def acqFuncApprox(x):\n",
        "    new_array = []\n",
        "    x = np.array(x) \n",
        "    for i, num in enumerate(x):\n",
        "            new_array = x[:-1][::-3]\n",
        "    return new_array[::-1]\n"
      ]
    },
    {
      "cell_type": "code",
      "execution_count": 7,
      "metadata": {
        "id": "kuuJx0IMam9S"
      },
      "outputs": [],
      "source": [
        "### Surrogate derivatives: \n",
        "\n",
        "cov_func = squaredExponential()\n",
        "\n",
        "def kronDelta(X, Xstar):                     # Kronecker's Delta method\n",
        "    return cdist(X, Xstar) < np.finfo(np.float32).eps\n",
        "\n",
        "def se(X, Xstar, sigmaf, l, sigman):         # S.E. kernel method\n",
        "    return sigmaf * np.exp(-0.5 * cdist(X, Xstar) ** 2 / l ** 2) + sigman * kronDelta(X, Xstar)\n",
        "\n",
        "def delta(X, Xstar):                         # Distance between training X and test Xstar vectors\n",
        "    return (X - Xstar)\n",
        "   \n",
        "def der_covmat(X, Xstar, sigmaf, l, sigman): # Covariance matrix derivative terms (i.e. exact, first-order)\n",
        "    nx = len(X)\n",
        "    ny = len(Xstar)\n",
        "    return np.round(np.array([(delta(np.atleast_2d(i), np.atleast_2d(j))[0] * se(np.atleast_2d(i), np.atleast_2d(j), sigmaf, l, sigman)[0]).sum() for (i, j) in itertools.product(X, Xstar)]).reshape(nx, ny), 8)\n",
        "\n",
        "class dGaussianProcess(GaussianProcess):    # Via inheritance, also optimises hyperparameters when opt = TRUE\n",
        "    \n",
        "    def AcqGrad(self, Xstar):               # Method returning exact, first-order derivatives of the GP's posterior mean and standard deviation\n",
        "        Xstar = np.atleast_2d(Xstar)\n",
        "        Kstar = self.covfunc.K(self.X, Xstar).T\n",
        "        \n",
        "        dKstar = der_covmat(self.X, Xstar, self.covfunc.sigmaf, self.covfunc.l, self.covfunc.sigman).T\n",
        "        alpha_Kstar = np.dot(np.linalg.inv(self.K + (self.covfunc.sigman**2) * np.eye(len(self.X))), Kstar.T)\n",
        "        \n",
        "        dm = np.dot(dKstar, self.alpha)\n",
        "        ds = -2 * np.dot(dKstar, alpha_Kstar)\n",
        "        \n",
        "        return dm, ds           \n"
      ]
    },
    {
      "cell_type": "code",
      "execution_count": 8,
      "metadata": {
        "id": "_Dc3YVHVaXz7"
      },
      "outputs": [],
      "source": [
        "### Add exact acquisition function gradient as attribute:\n",
        "\n",
        "class Acquisition_grad(Acquisition):    \n",
        "    def __init__(self, mode, eps=eps, **params):\n",
        "        \n",
        "        self.params = params\n",
        "        self.eps = eps\n",
        "\n",
        "        mode_dict = {\n",
        "            'EI': self.EI\n",
        "        }\n",
        "\n",
        "        self.f = mode_dict[mode]\n",
        "    \n",
        "    def EI(self, tau, mean, std, ds, dm):\n",
        "        gamma = (mean - tau - self.eps) / (std + self.eps)\n",
        "        gamma_h = (mean - tau) / (std + self.eps)\n",
        "        dsdx = ds / (2 * (std + self.eps))\n",
        "        dmdx = (dm - gamma * dsdx) / (std + self.eps)\n",
        "        \n",
        "        f = (std + self.eps) * (gamma * norm.cdf(gamma) + norm.pdf(gamma))\n",
        "        df1 = f / (std + self.eps) * dsdx \n",
        "        df2 = (std + self.eps) * norm.cdf(gamma) * dmdx\n",
        "        df = (df1 + df2)[0]\n",
        "        df_arr = []\n",
        "\n",
        "        for j in range(0, dim):\n",
        "          df_arr.append(df)\n",
        "        return f, np.asarray(df_arr).transpose()\n",
        "        \n",
        "    def d_eval(self, tau, mean, std, ds, dm):\n",
        "    \n",
        "        return self.f(tau, mean, std, ds, dm, **self.params)\n",
        "        "
      ]
    },
    {
      "cell_type": "code",
      "execution_count": 9,
      "metadata": {
        "id": "PITEQC8YSl7i"
      },
      "outputs": [],
      "source": [
        "## GPGO_multi: \n",
        "\n",
        "class GPGO_multi(GPGO):\n",
        "    n_start = n_start_AcqFunc\n",
        "\n",
        "    def __init__(self, surrogate, acquisition, f, parameter_dict, n_jobs=1):\n",
        "        self.GP = surrogate\n",
        "        self.A = acquisition\n",
        "        self.f = f\n",
        "        self.parameters = parameter_dict\n",
        "        self.n_jobs = n_jobs\n",
        "\n",
        "        self.parameter_key = list(parameter_dict.keys())\n",
        "        self.parameter_value = list(parameter_dict.values())\n",
        "        self.parameter_type = [p[0] for p in self.parameter_value]\n",
        "        self.parameter_range = [p[1] for p in self.parameter_value]\n",
        "\n",
        "        self.history = []\n",
        "        self.header =   'Evaluation \\t Proposed point \\t  Current eval. \\t  Best eval. \\t        Exact EI: StdDev. x \\t Approx EI: StdDev. x '\n",
        "        self.template = '{:3}\\t {}\\t {:3}\\t {:3}\\t {:3}\\t {:3}'\n",
        " \n",
        "    def acqfuncExact(self, xnew, n_start=n_start_AcqFunc):\n",
        "        new_mean, new_var = self.GP.predict(xnew, return_std=True)\n",
        "        new_std = np.sqrt(new_var + eps)\n",
        "        dm, ds = self.GP.AcqGrad(xnew)\n",
        "        f, df = self.A.d_eval(self.tau, new_mean, new_std, ds=ds, dm=dm)\n",
        "\n",
        "        return -f, -df\n",
        "   \n",
        "    def acqfuncApprox(self, xnew, n_start=n_start_AcqFunc):\n",
        "        new_mean, new_var = self.GP.predict(xnew, return_std=True)\n",
        "        new_std = np.sqrt(new_var + eps)\n",
        "        dm, ds = self.GP.AcqGrad(xnew)\n",
        "        f, df = self.A.d_eval(self.tau, new_mean, new_std, ds=ds, dm=dm)\n",
        "\n",
        "        return -f\n",
        "   \n",
        "    def _optimizeAcq(self, method='L-BFGS-B', n_start=n_start_AcqFunc):\n",
        "        \n",
        "        start_points_dict = [self._sampleParam() for i in range(n_start)]\n",
        "        start_points_arr = np.array([list(s.values())\n",
        "                                     for s in start_points_dict])\n",
        "        x_best = np.empty((n_start, len(self.parameter_key)))\n",
        "        f_best = np.empty((n_start,))\n",
        "        opt = Parallel(n_jobs=self.n_jobs)(delayed(minimize)(self.acqfuncApprox,\n",
        "                                                                 x0=start_point,\n",
        "                                                                 method=method,\n",
        "                                                                 jac = False,\n",
        "                                                                 bounds=self.parameter_range) for start_point in\n",
        "                                               start_points_arr)\n",
        "        x_best = np.array([res.x for res in opt])\n",
        "        f_best = np.array([np.atleast_1d(res.fun)[0] for res in opt])\n",
        "        f_best_min = min(f_best)\n",
        "\n",
        "        self.x_best = x_best\n",
        "        self.f_best = f_best\n",
        "        self.f_best_min = f_best_min\n",
        "        self.x_best_std = np.std(x_best)\n",
        "        self.best = x_best[np.argmin(f_best)]\n",
        "        self.start_points_arr = start_points_arr        \n",
        "        self.history.append(self.x_best_std)\n",
        "\n",
        "        x_best_exact = np.empty((n_start, len(self.parameter_key)))\n",
        "        f_best_exact = np.empty((n_start,))\n",
        "        opt_exact = Parallel(n_jobs=self.n_jobs)(delayed(minimize)(self.acqfuncExact,\n",
        "                                                                 x0=start_point,\n",
        "                                                                 method=method,\n",
        "                                                                 jac = True,\n",
        "                                                                 bounds=self.parameter_range) for start_point in\n",
        "                                               start_points_arr)\n",
        "        x_best_exact = np.array([res.x for res in opt_exact])\n",
        "        f_best_exact = np.array([np.atleast_1d(res.fun)[0] for res in opt_exact])\n",
        "        f_best_min_exact = min(f_best_exact)\n",
        "\n",
        "        self.x_best_exact = x_best_exact\n",
        "        self.f_best_exact = f_best_exact\n",
        "        self.f_best_min_exact = f_best_min_exact\n",
        "        self.x_best_std_exact = np.std(x_best_exact)\n",
        "        self.best_exact = x_best_exact[np.argmin(f_best_exact)]\n",
        "        self.start_points_arr = start_points_arr\n",
        "        self.history.append(self.x_best_std_exact)\n",
        "\n",
        "    def _printInit(self):\n",
        "        print(self.header)\n",
        "        for init_eval in range(self.init_evals):\n",
        "            print(self.template.format('init', self.GP.X[init_eval], inverse * self.GP.y[init_eval], inverse * self.tau, '', ''))\n",
        "      \n",
        "    def _printCurrent(self):\n",
        "        OKGREEN = '\\033[92m'\n",
        "        ENDC = '\\033[0m'\n",
        "        BOLD = '\\033[1m'\n",
        "        eval = str(len(self.GP.y) - self.init_evals)\n",
        "        proposed = str(self.best)\n",
        "        curr_eval = str(inverse * self.GP.y[-1])\n",
        "        curr_best = str(inverse * self.tau)\n",
        "        min_acqfunc = str(self.f_best_min)\n",
        "        min_acqfunc_exact = str(self.f_best_min_exact)\n",
        "        x_best_std = str(self.x_best_std)\n",
        "        x_best_std_exact = str(self.x_best_std_exact)\n",
        "        if float(curr_eval) <= float(curr_best):\n",
        "            eval = BOLD + OKGREEN + eval + ENDC\n",
        "            proposed = BOLD + OKGREEN + proposed + ENDC\n",
        "            curr_eval = BOLD + OKGREEN + curr_eval + ENDC\n",
        "            curr_best = BOLD + OKGREEN + curr_best + ENDC\n",
        "            x_best_std = BOLD + OKGREEN + x_best_std + ENDC\n",
        "            x_best_std_exact = BOLD + OKGREEN + x_best_std_exact + ENDC\n",
        "        print(self.template.format(eval, proposed, curr_eval, curr_best, x_best_std_exact, x_best_std))\n",
        "        \n",
        "    def run(self, max_iter=10, init_evals=3, resume=False):\n",
        "        \n",
        "        if not resume:\n",
        "            self.init_evals = init_evals\n",
        "            self._firstRun(self.init_evals)\n",
        "            self._printInit()\n",
        "        for iteration in range(max_iter):\n",
        "            self._optimizeAcq()\n",
        "            self.updateGP()\n",
        "            self._printCurrent()\n"
      ]
    },
    {
      "cell_type": "code",
      "execution_count": 10,
      "metadata": {
        "id": "b_B-w81BJxKN"
      },
      "outputs": [],
      "source": [
        "## dGPGO:\n",
        "\n",
        "class dGPGO(GPGO):\n",
        "    n_start = n_start_AcqFunc\n",
        "\n",
        "    def __init__(self, surrogate, acquisition, f, parameter_dict, n_jobs=1):\n",
        "        self.GP = surrogate\n",
        "        self.A = acquisition\n",
        "        self.f = f\n",
        "        self.parameters = parameter_dict\n",
        "        self.n_jobs = n_jobs\n",
        "\n",
        "        self.parameter_key = list(parameter_dict.keys())\n",
        "        self.parameter_value = list(parameter_dict.values())\n",
        "        self.parameter_type = [p[0] for p in self.parameter_value]\n",
        "        self.parameter_range = [p[1] for p in self.parameter_value]\n",
        "\n",
        "        self.history = []\n",
        "        self.header =   'Evaluation \\t Proposed point \\t  Current eval. \\t  Best eval. \\t        Exact EI: StdDev. x \\t Approx EI: StdDev. x '\n",
        "        self.template = '{:3}\\t {}\\t {:3}\\t {:3}\\t {:3}\\t {:3}'\n",
        "\n",
        "    def acqfuncExact(self, xnew, n_start=n_start_AcqFunc):\n",
        "        new_mean, new_var = self.GP.predict(xnew, return_std=True)\n",
        "        new_std = np.sqrt(new_var + eps)\n",
        "        dm, ds = self.GP.AcqGrad(xnew)\n",
        "        f, df = self.A.d_eval(self.tau, new_mean, new_std, ds=ds, dm=dm)\n",
        "\n",
        "        return -f, -df\n",
        "   \n",
        "    def acqfuncApprox(self, xnew, n_start=n_start_AcqFunc):\n",
        "        new_mean, new_var = self.GP.predict(xnew, return_std=True)\n",
        "        new_std = np.sqrt(new_var + eps)\n",
        "        dm, ds = self.GP.AcqGrad(xnew)\n",
        "        f, df = self.A.d_eval(self.tau, new_mean, new_std, ds=ds, dm=dm)\n",
        "\n",
        "        return -f\n",
        "\n",
        "    def d_optimizeAcq(self, method='L-BFGS-B', n_start=n_start_AcqFunc):\n",
        "        start_points_dict = [self._sampleParam() for i in range(n_start)]\n",
        "        start_points_arr = np.array([list(s.values())\n",
        "                                     for s in start_points_dict])\n",
        "        x_best = np.empty((n_start, len(self.parameter_key)))\n",
        "        f_best = np.empty((n_start,))\n",
        "        opt = Parallel(n_jobs=self.n_jobs)(delayed(minimize)(self.acqfuncExact,\n",
        "                                                                 x0=start_point,\n",
        "                                                                 method=method,\n",
        "                                                                 jac = True,\n",
        "                                                                 bounds=self.parameter_range) for start_point in\n",
        "                                               start_points_arr)\n",
        "        x_best = np.array([res.x for res in opt])\n",
        "        f_best = np.array([np.atleast_1d(res.fun)[0] for res in opt])\n",
        "        f_best_min = min(f_best)\n",
        "\n",
        "        self.x_best = x_best\n",
        "        self.f_best = f_best\n",
        "        self.f_best_min = f_best_min\n",
        "        self.x_best_std = np.std(x_best)\n",
        "        self.best = x_best[np.argmin(f_best)]\n",
        "        self.start_points_arr = start_points_arr\n",
        "        self.history.append(self.x_best_std)\n",
        "\n",
        "        x_best_approx = np.empty((n_start, len(self.parameter_key)))\n",
        "        f_best_approx = np.empty((n_start,))\n",
        "        opt_approx = Parallel(n_jobs=self.n_jobs)(delayed(minimize)(self.acqfuncApprox,\n",
        "                                                                 x0=start_point,\n",
        "                                                                 method=method,\n",
        "                                                                 jac = False,\n",
        "                                                                 bounds=self.parameter_range) for start_point in\n",
        "                                               start_points_arr)\n",
        "        x_best_approx = np.array([res.x for res in opt_approx])\n",
        "        f_best_approx = np.array([np.atleast_1d(res.fun)[0] for res in opt_approx])\n",
        "        f_best_min_approx = min(f_best_approx)\n",
        "\n",
        "        self.x_best_approx = x_best_approx\n",
        "        self.f_best_approx = f_best_approx\n",
        "        self.f_best_min_approx = f_best_min_approx\n",
        "        self.x_best_std_approx = np.std(x_best_approx)\n",
        "        self.best_approx = x_best_approx[np.argmin(f_best_approx)]\n",
        "        self.start_points_arr = start_points_arr\n",
        "        self.history.append(self.x_best_std_approx)\n",
        "    \n",
        "    def _printInit(self):\n",
        "        print(self.header)\n",
        "        for init_eval in range(self.init_evals):\n",
        "            print(self.template.format('init', self.GP.X[init_eval], inverse * self.GP.y[init_eval], inverse * self.tau, '', ''))\n",
        "      \n",
        "    def _printCurrent(self):\n",
        "        OKGREEN = '\\033[92m'\n",
        "        ENDC = '\\033[0m'\n",
        "        BOLD = '\\033[1m'\n",
        "        eval = str(len(self.GP.y) - self.init_evals)\n",
        "        proposed = str(self.best)\n",
        "        curr_eval = str(inverse * self.GP.y[-1])\n",
        "        curr_best = str(inverse * self.tau)\n",
        "        min_acqfunc = str(self.f_best_min)\n",
        "        min_acqfunc_approx = str(self.f_best_min_approx)\n",
        "        x_best_std = str(self.x_best_std)\n",
        "        x_best_std_approx = str(self.x_best_std_approx)\n",
        "        if float(curr_eval) <= float(curr_best):\n",
        "            eval = BOLD + OKGREEN + eval + ENDC\n",
        "            proposed = BOLD + OKGREEN + proposed + ENDC\n",
        "            curr_eval = BOLD + OKGREEN + curr_eval + ENDC\n",
        "            curr_best = BOLD + OKGREEN + curr_best + ENDC\n",
        "            x_best_std = BOLD + OKGREEN + x_best_std + ENDC\n",
        "            x_best_std_approx = BOLD + OKGREEN + x_best_std_approx + ENDC\n",
        "        print(self.template.format(eval, proposed, curr_eval, curr_best, x_best_std, x_best_std_approx))\n",
        "\n",
        "    def run(self, max_iter=10, init_evals=3, resume=False):\n",
        "        \n",
        "        if not resume:\n",
        "            self.init_evals = init_evals\n",
        "            self._firstRun(self.init_evals)\n",
        "            self._printInit()\n",
        "        for iteration in range(max_iter):\n",
        "            self.d_optimizeAcq()\n",
        "            self.updateGP()\n",
        "            self._printCurrent()\n"
      ]
    },
    {
      "cell_type": "code",
      "execution_count": 11,
      "metadata": {
        "id": "qXIKGuXVGEg2"
      },
      "outputs": [],
      "source": [
        "###Reproducible set-seeds:\n",
        "\n",
        "run_num_1 = 1\n",
        "run_num_2 = 2\n",
        "run_num_3 = 3\n",
        "run_num_4 = 4\n",
        "run_num_5 = 5\n",
        "run_num_6 = 6\n",
        "run_num_7 = 7\n",
        "run_num_8 = 8\n",
        "run_num_9 = 9\n",
        "run_num_10 = 10\n",
        "run_num_11 = 11\n",
        "run_num_12 = 12\n",
        "run_num_13 = 13\n",
        "run_num_14 = 14\n",
        "run_num_15 = 15\n",
        "run_num_16 = 16\n",
        "run_num_17 = 17\n",
        "run_num_18 = 18\n",
        "run_num_19 = 19\n",
        "run_num_20 = 20\n"
      ]
    },
    {
      "cell_type": "code",
      "execution_count": 12,
      "metadata": {
        "colab": {
          "base_uri": "https://localhost:8080/"
        },
        "id": "JEhagQmnTVIK",
        "outputId": "8d8e308a-7663-4528-f0f5-bebba2646d91"
      },
      "outputs": [
        {
          "output_type": "execute_result",
          "data": {
            "text/plain": [
              "1659612480.4326177"
            ]
          },
          "metadata": {},
          "execution_count": 12
        }
      ],
      "source": [
        "start_approx = time.time()\n",
        "start_approx\n"
      ]
    },
    {
      "cell_type": "code",
      "execution_count": 13,
      "metadata": {
        "colab": {
          "base_uri": "https://localhost:8080/"
        },
        "id": "aH0YSTXufD1v",
        "outputId": "274dc1cb-3d9d-4e12-f9c6-6cbe60da1987"
      },
      "outputs": [
        {
          "output_type": "stream",
          "name": "stdout",
          "text": [
            "Evaluation \t Proposed point \t  Current eval. \t  Best eval. \t        Exact EI: StdDev. x \t Approx EI: StdDev. x \n",
            "init\t [-0.49786797  0.88129797]\t -0.2650082867644827\t -0.2650082867644827\t    \t    \n",
            "init\t [-2.99931375 -0.79066971]\t 110.13991869176735\t -0.2650082867644827\t    \t    \n",
            "init\t [-2.11946466 -1.63064562]\t 26.90935479429681\t -0.2650082867644827\t    \t    \n",
            "init\t [-1.88243873 -0.61775709]\t 2.8558363102363344\t -0.2650082867644827\t    \t    \n",
            "init\t [-0.61939515  0.15526694]\t 1.0540522096005847\t -0.2650082867644827\t    \t    \n",
            "1  \t [-1.19209699 -0.31431616]\t 2.418604194089478\t -0.2650082867644827\t 1.6259849529408084\t 1.7035230032707442\n",
            "2  \t [-0.22547579  1.70883971]\t 22.240849622618942\t -0.2650082867644827\t 1.4889897173202988\t 1.4890874794051756\n",
            "3  \t [ 2.48246431 -1.70176508]\t 40.65026890583644\t -0.2650082867644827\t 1.62197359920602\t 1.9473931780875409\n",
            "4  \t [3. 2.]\t 162.89999999999998\t -0.2650082867644827\t 1.930240913760408\t 2.072154232289843\n",
            "5  \t [-3.  2.]\t 150.89999999999998\t -0.2650082867644827\t 1.302177439022846\t 1.4774772688693094\n",
            "6  \t [-0.58935416 -0.48427705]\t 0.7172893452801496\t -0.2650082867644827\t 1.2911226541417444\t 1.2843270462599592\n",
            "7  \t [-0.62476117 -0.40876799]\t 0.9598789644377128\t -0.2650082867644827\t 1.4667645924666004\t 1.429823997633309\n",
            "8  \t [-0.64302548 -0.37126206]\t 1.0818433619377557\t -0.2650082867644827\t 1.5919074753779228\t 1.567546045898328\n",
            "9  \t [ 0.78636389 -0.03010281]\t 1.7220002170695694\t -0.2650082867644827\t 1.469936528997458\t 1.324184152541722\n",
            "10 \t [ 0.08552815 -2.        ]\t 47.85809171060208\t -0.2650082867644827\t 1.564174891317476\t 1.591592510423814\n",
            "11 \t [-0.72526502  0.00631218]\t 1.5667728945315373\t -0.2650082867644827\t 1.330201328316233\t 1.3328513429403397\n",
            "12 \t [-0.72510363 -0.00295731]\t 1.5731355983264401\t -0.2650082867644827\t 1.4631569778952362\t 1.460967323969325\n",
            "13 \t [-0.72512159 -0.00975332]\t 1.5777719827163406\t -0.2650082867644827\t 1.197739175627729\t 1.1695772769625044\n",
            "14 \t [-0.72520472 -0.01493155]\t 1.5812662448411932\t -0.2650082867644827\t 1.4657873738675649\t 1.4574886404899965\n",
            "15 \t [-0.72530603 -0.01899165]\t 1.58396579706333\t -0.2650082867644827\t 1.338126428523993\t 1.339040444401798\n",
            "16 \t [-0.72540518 -0.02224737]\t 1.5860901072922569\t -0.2650082867644827\t 1.3887917973832165\t 1.4027595102574626\n",
            "17 \t [-0.72549509 -0.02490598]\t 1.5877896271043106\t -0.2650082867644827\t 1.431353745725777\t 1.3627990344849625\n",
            "18 \t [-0.72557331 -0.02711027]\t 1.5891674613557774\t -0.2650082867644827\t 1.427248842792589\t 1.4162778571094956\n",
            "19 \t [-0.72563997 -0.02896172]\t 1.5902979763085254\t -0.2650082867644827\t 1.619601304754264\t 1.6159780879262735\n",
            "20 \t [-0.72569611 -0.03053467]\t 1.591235725733698\t -0.2650082867644827\t 1.523123136115513\t 1.5278295495846148\n"
          ]
        }
      ],
      "source": [
        "### ESTIMATED GP EI GRADIENTS\n",
        "\n",
        "np.random.seed(run_num_1)\n",
        "surrogate_approx_1 = dGaussianProcess(cov_func, optimize=opt)\n",
        "\n",
        "approx_1 = GPGO_multi(surrogate_approx_1, Acquisition_grad(util), objfunc, param)\n",
        "approx_1.run(init_evals=n_init, max_iter=iters)\n"
      ]
    },
    {
      "cell_type": "code",
      "execution_count": 14,
      "metadata": {
        "id": "wTxsSZxFGBB5",
        "colab": {
          "base_uri": "https://localhost:8080/"
        },
        "outputId": "eadb7788-a2c5-4d30-9e88-0a9acd7a36ce"
      },
      "outputs": [
        {
          "output_type": "stream",
          "name": "stdout",
          "text": [
            "Evaluation \t Proposed point \t  Current eval. \t  Best eval. \t        Exact EI: StdDev. x \t Approx EI: StdDev. x \n",
            "init\t [-0.38403059 -1.89629507]\t 38.61280125654363\t 0.011939608840498828\t    \t    \n",
            "init\t [ 0.29797487 -0.25871043]\t 0.011939608840498828\t 0.011939608840498828\t    \t    \n",
            "init\t [-0.47779319 -0.67866072]\t 0.1381453419305213\t 0.011939608840498828\t    \t    \n",
            "init\t [-1.7721082   0.47708387]\t 0.626144759281101\t 0.011939608840498828\t    \t    \n",
            "init\t [-1.20207196 -0.9326909 ]\t 3.0693811601417798\t 0.011939608840498828\t    \t    \n",
            "1  \t [-0.39431495 -0.08552524]\t 0.5771014397304058\t 0.011939608840498828\t 1.803501211220942\t 1.9034947058038223\n",
            "2  \t [ 1.85203999 -0.19665791]\t 1.9520503538370169\t 0.011939608840498828\t 1.4427745079126393\t 1.7186076633303458\n",
            "3  \t [0.73875436 2.        ]\t 51.08923695270019\t 0.011939608840498828\t 1.982974700117786\t 2.136254739254116\n",
            "4  \t [ 3. -2.]\t 150.89999999999998\t 0.011939608840498828\t 1.9012658329212662\t 2.4091982853498126\n",
            "5  \t [-3.  2.]\t 150.89999999999998\t 0.011939608840498828\t 2.021206363392302\t 2.0637007182263463\n",
            "6  \t [-3. -2.]\t 162.89999999999998\t 0.011939608840498828\t 2.0155439873152705\t 1.9700933055897873\n",
            "7  \t [-0.98446418  1.00392892]\t 1.2510228029565031\t 0.011939608840498828\t 1.2830640511970994\t 1.2473878094274398\n",
            "8  \t [3.         1.41046782]\t 121.00488481415645\t 0.011939608840498828\t 1.4190644098719847\t 1.2841508607462992\n",
            "9  \t [-1.05187709  0.07738194]\t 2.2012232871578425\t 0.011939608840498828\t 1.4284585708084243\t 1.4289398274619396\n",
            "10 \t [-1.04872867  0.07012655]\t 2.209449497499625\t 0.011939608840498828\t 1.3572876638550564\t 1.3100576946716316\n",
            "11 \t [-1.04797819  0.06274854]\t 2.2201894067207766\t 0.011939608840498828\t 1.4743955288681243\t 1.4739423299039174\n",
            "12 \t [ 0.89652751 -0.28380572]\t 1.4807911337323192\t 0.011939608840498828\t 1.1633623408433436\t 1.1543056814682764\n",
            "13 \t [-1.03780577  0.05468583]\t 2.2199099348333333\t 0.011939608840498828\t 1.4735491105751828\t 1.478305230329455\n",
            "14 \t [ 0.87820674 -0.28092565]\t 1.4513055590929895\t 0.011939608840498828\t 1.5585838851946188\t 1.5075575572307165\n",
            "15 \t [-1.02827933  0.04654446]\t 2.219156478689629\t 0.011939608840498828\t 1.4084877639612918\t 1.4095006394628544\n",
            "16 \t [ 0.86390274 -0.27887932]\t 1.4263456818835707\t 0.011939608840498828\t 1.3237751521656946\t 1.3592654166835467\n",
            "17 \t [ 0.85334798 -0.27712367]\t 1.4078599556634304\t 0.011939608840498828\t 1.4371646156316238\t 1.393337721035399\n",
            "18 \t [-1.01153628  0.0374812 ]\t 2.207784594567266\t 0.011939608840498828\t 1.3517969768861062\t 1.317793307728135\n",
            "19 \t [ 0.84238084 -0.27573163]\t 1.3868311728856082\t 0.011939608840498828\t 1.378051010186857\t 1.2899569638928023\n",
            "\u001b[1m\u001b[92m20\u001b[0m\t \u001b[1m\u001b[92m[-0.08609633 -0.09442052]\u001b[0m\t \u001b[1m\u001b[92m0.002321305387935013\u001b[0m\t \u001b[1m\u001b[92m0.002321305387935013\u001b[0m\t \u001b[1m\u001b[92m1.4224586854229913\u001b[0m\t \u001b[1m\u001b[92m1.3239824489549934\u001b[0m\n"
          ]
        }
      ],
      "source": [
        "### ESTIMATED GP EI GRADIENTS\n",
        "\n",
        "np.random.seed(run_num_2)\n",
        "surrogate_approx_2 = dGaussianProcess(cov_func, optimize=opt)\n",
        "\n",
        "approx_2 = GPGO_multi(surrogate_approx_2, Acquisition_grad(util), objfunc, param)\n",
        "approx_2.run(init_evals=n_init, max_iter=iters)\n"
      ]
    },
    {
      "cell_type": "code",
      "execution_count": 15,
      "metadata": {
        "id": "-dgzIrUIGCGT",
        "colab": {
          "base_uri": "https://localhost:8080/"
        },
        "outputId": "3dd1b922-d663-43d9-e0dd-75f1f787a5c1"
      },
      "outputs": [
        {
          "output_type": "stream",
          "name": "stdout",
          "text": [
            "Evaluation \t Proposed point \t  Current eval. \t  Best eval. \t        Exact EI: StdDev. x \t Approx EI: StdDev. x \n",
            "init\t [0.30478742 0.83259129]\t -0.2431922946563294\t -0.2431922946563294\t    \t    \n",
            "init\t [-1.25457157  0.04331042]\t 2.3313310458730996\t -0.2431922946563294\t    \t    \n",
            "init\t [2.35768173 1.58517236]\t 33.54152175045586\t -0.2431922946563294\t    \t    \n",
            "init\t [-2.24648814 -1.17102849]\t 14.214109412296352\t -0.2431922946563294\t    \t    \n",
            "init\t [-2.69119678 -0.23676063]\t 45.87579771712209\t -0.2431922946563294\t    \t    \n",
            "1  \t [-0.2309166   0.29148206]\t -0.1709116466540207\t -0.2431922946563294\t 1.0744224330334209\t 1.0885109152295513\n",
            "\u001b[1m\u001b[92m2\u001b[0m\t \u001b[1m\u001b[92m[-0.39661823  0.8583581 ]\u001b[0m\t \u001b[1m\u001b[92m-0.5376272709585427\u001b[0m\t \u001b[1m\u001b[92m-0.5376272709585427\u001b[0m\t \u001b[1m\u001b[92m1.2707048522811504\u001b[0m\t \u001b[1m\u001b[92m1.2063268423706097\u001b[0m\n",
            "3  \t [-0.20567488  0.24083004]\t -0.10259756511713929\t -0.5376272709585427\t 1.3357896014145199\t 1.1450531387652194\n",
            "4  \t [-0.53334406  1.38957064]\t 7.4244290218126\t -0.5376272709585427\t 1.1284782322182954\t 1.6304248981194738\n",
            "5  \t [ 0.02178157 -0.23983294]\t -0.22017189571021173\t -0.5376272709585427\t 1.4393646213529492\t 1.2408773845132002\n",
            "6  \t [-0.02409238 -0.13744117]\t -0.06850061181348849\t -0.5376272709585427\t 1.3297371182062891\t 1.9120501874036764\n",
            "7  \t [ 3. -2.]\t 150.89999999999998\t -0.5376272709585427\t 1.3325708262803069\t 2.1441148059519923\n",
            "8  \t [-0.07264048 -0.08893959]\t -0.003881964359290259\t -0.5376272709585427\t 1.4231454570976698\t 1.6215176855617974\n",
            "9  \t [-0.07142552 -0.05714462]\t 0.011414014791689008\t -0.5376272709585427\t 1.3485774765825536\t 1.2938872882249688\n",
            "10 \t [-0.22246467 -2.        ]\t 48.63778831110919\t -0.5376272709585427\t 1.4188171270040906\t 1.4346795695292873\n",
            "11 \t [-0.00934143  0.33240337]\t -0.39589016298952323\t -0.5376272709585427\t 1.4841779886418722\t 1.6453270326989848\n",
            "12 \t [-0.01396807  0.33100883]\t -0.394091011262704\t -0.5376272709585427\t 1.455737383319869\t 1.4749653466896946\n",
            "13 \t [-0.01747423  0.32991571]\t -0.3925329372144878\t -0.5376272709585427\t 1.559121757341397\t 1.5668277060451405\n",
            "14 \t [-0.02021278  0.32903378]\t -0.3911860125081714\t -0.5376272709585427\t 1.3197455019258977\t 1.5017574958221205\n",
            "15 \t [-0.02240347  0.32830684]\t -0.3900188561961237\t -0.5376272709585427\t 1.413133378991685\t 1.6434888633289941\n",
            "16 \t [-0.02419046  0.32769691]\t -0.38900183256611176\t -0.5376272709585427\t 1.4294551855117021\t 1.5008786394207463\n",
            "17 \t [-0.02567215  0.32717785]\t -0.3881105838051082\t -0.5376272709585427\t 1.291425201792118\t 1.3514908759743907\n",
            "18 \t [-0.02691758  0.32673039]\t -0.38732406954766957\t -0.5376272709585427\t 1.5855406292322187\t 1.767285852943\n",
            "19 \t [-0.02797697  0.32634077]\t -0.3866261046874206\t -0.5376272709585427\t 1.3099974620643988\t 1.5658287525832741\n",
            "20 \t [-0.0288874   0.32599831]\t -0.3860029516244495\t -0.5376272709585427\t 1.2572721130396618\t 1.2128276344980002\n"
          ]
        }
      ],
      "source": [
        "### ESTIMATED GP EI GRADIENTS\n",
        "\n",
        "np.random.seed(run_num_3)\n",
        "surrogate_approx_3 = dGaussianProcess(cov_func, optimize=opt)\n",
        "\n",
        "approx_3 = GPGO_multi(surrogate_approx_3, Acquisition_grad(util), objfunc, param)\n",
        "approx_3.run(init_evals=n_init, max_iter=iters)\n"
      ]
    },
    {
      "cell_type": "code",
      "execution_count": 16,
      "metadata": {
        "id": "hOtG-2sCGCKS",
        "colab": {
          "base_uri": "https://localhost:8080/"
        },
        "outputId": "acdb7ec1-e071-4a58-a25c-d3e540dfff86"
      },
      "outputs": [
        {
          "output_type": "stream",
          "name": "stdout",
          "text": [
            "Evaluation \t Proposed point \t  Current eval. \t  Best eval. \t        Exact EI: StdDev. x \t Approx EI: StdDev. x \n",
            "init\t [2.80217903 0.188929  ]\t 63.70212732873661\t 2.3196402150601703\t    \t    \n",
            "init\t [2.83610616 0.85926397]\t 71.43837110827245\t 2.3196402150601703\t    \t    \n",
            "init\t [ 1.18637295 -1.13564202]\t 2.5463267765341566\t 2.3196402150601703\t    \t    \n",
            "init\t [ 2.85764673 -1.97507898]\t 113.76785286351424\t 2.3196402150601703\t    \t    \n",
            "init\t [-1.48210583 -0.26083387]\t 2.3196402150601703\t 2.3196402150601703\t    \t    \n",
            "\u001b[1m\u001b[92m1\u001b[0m\t \u001b[1m\u001b[92m[ 0.13819595 -1.09159236]\u001b[0m\t \u001b[1m\u001b[92m0.8378729983345513\u001b[0m\t \u001b[1m\u001b[92m0.8378729983345513\u001b[0m\t \u001b[1m\u001b[92m1.6086530256174443\u001b[0m\t \u001b[1m\u001b[92m1.9647796212899875\u001b[0m\n",
            "\u001b[1m\u001b[92m2\u001b[0m\t \u001b[1m\u001b[92m[ 0.16279961 -1.07402786]\u001b[0m\t \u001b[1m\u001b[92m0.6381310288891437\u001b[0m\t \u001b[1m\u001b[92m0.6381310288891437\u001b[0m\t \u001b[1m\u001b[92m1.6697730324037454\u001b[0m\t \u001b[1m\u001b[92m1.721118499942757\u001b[0m\n",
            "3  \t [-3.  2.]\t 150.89999999999998\t 0.6381310288891437\t 1.6149848408050111\t 2.0003681633400823\n",
            "4  \t [-3. -2.]\t 162.89999999999998\t 0.6381310288891437\t 1.9809533900886191\t 1.8540432064892878\n",
            "\u001b[1m\u001b[92m5\u001b[0m\t \u001b[1m\u001b[92m[-0.26848645 -0.13256574]\u001b[0m\t \u001b[1m\u001b[92m0.24408538465589355\u001b[0m\t \u001b[1m\u001b[92m0.24408538465589355\u001b[0m\t \u001b[1m\u001b[92m1.414570496212718\u001b[0m\t \u001b[1m\u001b[92m1.2617614943168152\u001b[0m\n",
            "\u001b[1m\u001b[92m6\u001b[0m\t \u001b[1m\u001b[92m[ 0.09461061 -0.68489841]\u001b[0m\t \u001b[1m\u001b[92m-1.0253392627072793\u001b[0m\t \u001b[1m\u001b[92m-1.0253392627072793\u001b[0m\t \u001b[1m\u001b[92m1.4298470005148614\u001b[0m\t \u001b[1m\u001b[92m1.4079066972654792\u001b[0m\n",
            "7  \t [ 0.06534235 -0.61164432]\t -0.9595316410739002\t -1.0253392627072793\t 1.2359187224149224\t 1.202668420451779\n",
            "8  \t [ 0.0592899  -0.59809247]\t -0.9404450650068944\t -1.0253392627072793\t 1.3341539449127808\t 1.2833087808184303\n",
            "9  \t [ 0.05520847 -0.58916912]\t -0.9268658524950629\t -1.0253392627072793\t 1.3076136200595712\t 1.2936100508680346\n",
            "10 \t [ 0.05231963 -0.58296652]\t -0.9169748147227864\t -1.0253392627072793\t 1.7508475170585533\t 1.739638821866714\n",
            "11 \t [ 0.05020237 -0.57848202]\t -0.9095995901565014\t -1.0253392627072793\t 1.632025817994817\t 1.5922824849712816\n",
            "12 \t [ 0.04860564 -0.57513759]\t -0.9039793728094603\t -1.0253392627072793\t 1.4674477629452445\t 1.2940455794612498\n",
            "13 \t [ 0.04737384 -0.57258043]\t -0.8996140250606074\t -1.0253392627072793\t 1.2737565285742773\t 1.2277325491623445\n",
            "14 \t [ 0.04640608 -0.57058544]\t -0.8961678291456997\t -1.0253392627072793\t 1.2315047851885161\t 1.2018107548120909\n",
            "15 \t [ 0.04563304 -0.56900126]\t -0.8934061493173955\t -1.0253392627072793\t 1.4846191358980714\t 1.4536000064349244\n",
            "16 \t [ 0.04500641 -0.56772377]\t -0.8911629660356095\t -1.0253392627072793\t 1.3764579839935267\t 1.378249793598116\n",
            "17 \t [ 0.04449233 -0.56668006]\t -0.8893196537076937\t -1.0253392627072793\t 1.4071881273173443\t 1.3408530987633436\n",
            "18 \t [ 0.04406645 -0.56581788]\t -0.8877898166582933\t -1.0253392627072793\t 1.4182407509650485\t 1.3096523630329786\n",
            "19 \t [ 0.04370925 -0.56509756]\t -0.8865066474767459\t -1.0253392627072793\t 1.4581220048114245\t 1.415629463788625\n",
            "20 \t [ 0.04340743 -0.56449043]\t -0.8854216226252406\t -1.0253392627072793\t 1.245033418900456\t 1.2389319212122782\n"
          ]
        }
      ],
      "source": [
        "### ESTIMATED GP EI GRADIENTS\n",
        "\n",
        "np.random.seed(run_num_4)\n",
        "surrogate_approx_4 = dGaussianProcess(cov_func, optimize=opt)\n",
        "\n",
        "approx_4= GPGO_multi(surrogate_approx_4, Acquisition_grad(util), objfunc, param)\n",
        "approx_4.run(init_evals=n_init, max_iter=iters)\n"
      ]
    },
    {
      "cell_type": "code",
      "execution_count": 17,
      "metadata": {
        "id": "JF_SxcEvGCOl",
        "colab": {
          "base_uri": "https://localhost:8080/"
        },
        "outputId": "3fe85241-6a44-447c-e397-5d672379fa51"
      },
      "outputs": [
        {
          "output_type": "stream",
          "name": "stdout",
          "text": [
            "Evaluation \t Proposed point \t  Current eval. \t  Best eval. \t        Exact EI: StdDev. x \t Approx EI: StdDev. x \n",
            "init\t [-1.66804097  1.48292922]\t 10.126030408244933\t -0.6512780061070701\t    \t    \n",
            "init\t [-1.75968507  1.67444363]\t 19.4300499315822\t -0.6512780061070701\t    \t    \n",
            "init\t [-0.06953287  0.44697545]\t -0.6512780061070701\t -0.6512780061070701\t    \t    \n",
            "init\t [1.59544714 0.07367195]\t 2.168775388880503\t -0.6512780061070701\t    \t    \n",
            "init\t [-1.21919699 -1.24911509]\t 7.420330936884148\t -0.6512780061070701\t    \t    \n",
            "1  \t [0.32583964 1.00818374]\t 0.7967371894748262\t -0.6512780061070701\t 1.9046164288609266\t 2.0731160710029983\n",
            "2  \t [ 3. -2.]\t 150.89999999999998\t -0.6512780061070701\t 1.9682637293881837\t 2.0072908192107417\n",
            "3  \t [3. 2.]\t 162.89999999999998\t -0.6512780061070701\t 2.107439591594674\t 2.008191368315554\n",
            "4  \t [0.4254109 0.0313057]\t 0.6664962659071133\t -0.6512780061070701\t 1.5075158566041935\t 1.4182018650952102\n",
            "5  \t [-3. -2.]\t 162.89999999999998\t -0.6512780061070701\t 1.6565737979914594\t 1.6445469203475986\n",
            "6  \t [-0.00420925 -0.36483768]\t -0.4599501642496032\t -0.6512780061070701\t 1.5517542127587942\t 1.4984186297727111\n",
            "7  \t [ 0.00399182 -0.33000859]\t -0.38943449561075455\t -0.6512780061070701\t 1.2938465742216212\t 1.1934266624105567\n",
            "8  \t [ 0.0138439  -0.29924543]\t -0.32949224039472225\t -0.6512780061070701\t 1.416691353131489\t 1.31762657534832\n",
            "9  \t [ 0.02489497 -0.27195011]\t -0.2782409465414962\t -0.6512780061070701\t 1.294441266833428\t 1.1511732532411458\n",
            "10 \t [ 0.03619908 -0.24852848]\t -0.2355638743363945\t -0.6512780061070701\t 1.4017439043918185\t 1.3666544551950475\n",
            "11 \t [ 0.04635343 -0.22980511]\t -0.2021531891099208\t -0.6512780061070701\t 1.3595689818535166\t 1.2455564335959626\n",
            "12 \t [ 0.05396003 -0.21655482]\t -0.17884338398716013\t -0.6512780061070701\t 1.2755039857022203\t 1.2033965505004132\n",
            "13 \t [ 0.05830289 -0.20882735]\t -0.16543110325052388\t -0.6512780061070701\t 1.4523644173334864\t 1.321196471657863\n",
            "14 \t [ 0.05984308 -0.20551774]\t -0.1598150779660937\t -0.6512780061070701\t 1.1374501331812208\t 1.099877413873024\n",
            "15 \t [ 0.05987865 -0.2046672 ]\t -0.1584763778393738\t -0.6512780061070701\t 1.3607426301234864\t 1.3156933758813292\n",
            "\u001b[1m\u001b[92m16\u001b[0m\t \u001b[1m\u001b[92m[ 0.05084815 -0.83604028]\u001b[0m\t \u001b[1m\u001b[92m-0.8738373293595434\u001b[0m\t \u001b[1m\u001b[92m-0.8738373293595434\u001b[0m\t \u001b[1m\u001b[92m1.439389249106542\u001b[0m\t \u001b[1m\u001b[92m1.3949429046140895\u001b[0m\n",
            "17 \t [ 0.05708295 -1.06224934]\t 0.5317890536611886\t -0.8738373293595434\t 1.4202672844597841\t 1.4311982057476451\n",
            "18 \t [-0.00097637 -0.34438859]\t -0.4178067713869296\t -0.8738373293595434\t 1.1711952168447608\t 1.1174672250784996\n",
            "19 \t [-0.00589407 -0.34798768]\t -0.42353526338515035\t -0.8738373293595434\t 1.2837269225188943\t 1.270403604768284\n",
            "20 \t [-0.01066141 -0.35133531]\t -0.42859936102146906\t -0.8738373293595434\t 1.428661836011515\t 1.3849173592532145\n"
          ]
        }
      ],
      "source": [
        "### ESTIMATED GP EI GRADIENTS\n",
        "\n",
        "np.random.seed(run_num_5)\n",
        "surrogate_approx_5 = dGaussianProcess(cov_func, optimize=opt)\n",
        "\n",
        "approx_5 = GPGO_multi(surrogate_approx_5, Acquisition_grad(util), objfunc, param)\n",
        "approx_5.run(init_evals=n_init, max_iter=iters)\n"
      ]
    },
    {
      "cell_type": "code",
      "execution_count": 18,
      "metadata": {
        "id": "-kDxZtJsGCR3",
        "colab": {
          "base_uri": "https://localhost:8080/"
        },
        "outputId": "f7c702cb-3749-450d-af50-6373b3e2cf65"
      },
      "outputs": [
        {
          "output_type": "stream",
          "name": "stdout",
          "text": [
            "Evaluation \t Proposed point \t  Current eval. \t  Best eval. \t        Exact EI: StdDev. x \t Approx EI: StdDev. x \n",
            "init\t [ 2.35716091 -0.67208078]\t 11.995980169715628\t -0.3096187466378422\t    \t    \n",
            "init\t [ 1.92737474 -1.8332135 ]\t 31.167927894156623\t -0.3096187466378422\t    \t    \n",
            "init\t [-2.35405992  0.38020826]\t 13.013381745677465\t -0.3096187466378422\t    \t    \n",
            "init\t [ 0.17890417 -0.32477029]\t -0.3096187466378422\t -0.3096187466378422\t    \t    \n",
            "init\t [-0.9875529   0.49007773]\t 0.9989196280666852\t -0.3096187466378422\t    \t    \n",
            "1  \t [0.19888424 0.91003727]\t -0.23327669759911474\t -0.3096187466378422\t 1.7561864617434624\t 1.5394646779870995\n",
            "\u001b[1m\u001b[92m2\u001b[0m\t \u001b[1m\u001b[92m[0.11616366 0.67403998]\u001b[0m\t \u001b[1m\u001b[92m-0.8597635887265809\u001b[0m\t \u001b[1m\u001b[92m-0.8597635887265809\u001b[0m\t \u001b[1m\u001b[92m1.8238284568976508\u001b[0m\t \u001b[1m\u001b[92m1.6847731113106093\u001b[0m\n",
            "3  \t [0.13061593 0.7053691 ]\t -0.8402109420699337\t -0.8597635887265809\t 1.9985587168954253\t 1.8085421500422298\n",
            "4  \t [0.13127649 0.70691014]\t -0.8388869269372223\t -0.8597635887265809\t 1.8715154643151062\t 1.5450019188462722\n",
            "5  \t [0.1317468  0.70800797]\t -0.8379177577819039\t -0.8597635887265809\t 1.7349247092917899\t 1.1416959112889833\n",
            "6  \t [0.132092   0.70881635]\t -0.8371919685687033\t -0.8597635887265809\t 2.076638106070715\t 1.6181026264873273\n",
            "7  \t [0.13235777 0.70943924]\t -0.8366249285112739\t -0.8597635887265809\t 1.8773679449499217\t 1.5546064068792156\n",
            "8  \t [0.1325656  0.70992661]\t -0.8361764745401212\t -0.8597635887265809\t 2.0576700097634526\t 1.5364061626419028\n",
            "9  \t [0.13273242 0.71031933]\t -0.8358130786940723\t -0.8597635887265809\t 1.8972321885574264\t 1.2852911521810206\n",
            "10 \t [0.13286912 0.71064192]\t -0.8355130256306187\t -0.8597635887265809\t 2.0491303515062684\t 1.5634735548748413\n",
            "11 \t [0.13298282 0.71091116]\t -0.8352618088556387\t -0.8597635887265809\t 1.7964203467782442\t 1.51099678178477\n",
            "12 \t [0.13307854 0.71113758]\t -0.8350493348323778\t -0.8597635887265809\t 1.5791518408068317\t 1.3482513500681477\n",
            "13 \t [0.1331601  0.71133065]\t -0.8348675144761074\t -0.8597635887265809\t 1.7798884469525378\t 1.1897964217349164\n",
            "14 \t [0.13323081 0.71149958]\t -0.8347090079460051\t -0.8597635887265809\t 1.842033880378798\t 1.295746095951957\n",
            "15 \t [0.13329181 0.71164469]\t -0.8345719751160661\t -0.8597635887265809\t 1.819728383265912\t 1.5603606614613699\n",
            "16 \t [0.13334576 0.71177218]\t -0.8344506382355464\t -0.8597635887265809\t 1.9579914469763378\t 1.5654186035861026\n",
            "17 \t [0.1333926  0.71188382]\t -0.8343448369822637\t -0.8597635887265809\t 1.8099659081320734\t 1.5027125271454649\n",
            "18 \t [0.13343535 0.71198605]\t -0.8342480094082858\t -0.8597635887265809\t 1.7549248044851224\t 1.3471945269597418\n",
            "19 \t [0.13347304 0.71207593]\t -0.8341625275356023\t -0.8597635887265809\t 1.6756763729314377\t 1.4734752004647225\n",
            "20 \t [0.13350657 0.71215627]\t -0.8340862844328427\t -0.8597635887265809\t 1.7360336282892492\t 1.6098258483265402\n"
          ]
        }
      ],
      "source": [
        "### ESTIMATED GP EI GRADIENTS\n",
        "\n",
        "np.random.seed(run_num_6)\n",
        "surrogate_approx_6 = dGaussianProcess(cov_func, optimize=opt)\n",
        "\n",
        "approx_6 = GPGO_multi(surrogate_approx_6, Acquisition_grad(util), objfunc, param)\n",
        "approx_6.run(init_evals=n_init, max_iter=iters)\n"
      ]
    },
    {
      "cell_type": "code",
      "execution_count": 19,
      "metadata": {
        "id": "fKB8MCD_GCVI",
        "colab": {
          "base_uri": "https://localhost:8080/"
        },
        "outputId": "1117d340-3546-41bb-c4b4-760d19c1603f"
      },
      "outputs": [
        {
          "output_type": "stream",
          "name": "stdout",
          "text": [
            "Evaluation \t Proposed point \t  Current eval. \t  Best eval. \t        Exact EI: StdDev. x \t Approx EI: StdDev. x \n",
            "init\t [-2.54215026  1.11967517]\t 26.53843863832488\t -0.46481072558790276\t    \t    \n",
            "init\t [-0.36954461  0.89386071]\t -0.46481072558790276\t -0.46481072558790276\t    \t    \n",
            "init\t [2.86793707 0.15398348]\t 76.66051064695093\t -0.46481072558790276\t    \t    \n",
            "init\t [ 0.00672278 -1.71179547]\t 22.613010892757885\t -0.46481072558790276\t    \t    \n",
            "init\t [-1.38936612e+00 -4.69996698e-04]\t 2.294585534557751\t -0.46481072558790276\t    \t    \n",
            "1  \t [0.14003009 1.65200772]\t 19.18503288903285\t -0.46481072558790276\t 1.24513328419618\t 1.430159897823947\n",
            "2  \t [-2.0069916  -0.34039291]\t 4.09787808897999\t -0.46481072558790276\t 1.476826716896781\t 1.476826716896781\n",
            "3  \t [-0.47109136  0.58002622]\t -0.3783020334196958\t -0.46481072558790276\t 1.89882552004107\t 1.8058739559260735\n",
            "\u001b[1m\u001b[92m4\u001b[0m\t \u001b[1m\u001b[92m[-0.14196887  0.42856901]\u001b[0m\t \u001b[1m\u001b[92m-0.5808180226262771\u001b[0m\t \u001b[1m\u001b[92m-0.5808180226262771\u001b[0m\t \u001b[1m\u001b[92m1.6809679676908515\u001b[0m\t \u001b[1m\u001b[92m1.7869812196687334\u001b[0m\n",
            "5  \t [-0.3520866   0.51707111]\t -0.5013495032619739\t -0.5808180226262771\t 1.7364596603471554\t 1.737599730417236\n",
            "6  \t [-0.74791688  0.80059305]\t 0.11945089884471094\t -0.5808180226262771\t 1.8600717752836078\t 1.780559602447295\n",
            "7  \t [0.00554696 0.23992917]\t -0.21555469228399216\t -0.5808180226262771\t 1.5048579757951766\t 1.6597948261908382\n",
            "8  \t [-0.30597075  0.47659807]\t -0.49168647804879007\t -0.5808180226262771\t 1.7448965641331027\t 1.9290026173031507\n",
            "9  \t [-0.31146829  0.47559684]\t -0.4796604854951852\t -0.5808180226262771\t 1.7484097966453638\t 1.7543810952772227\n",
            "10 \t [ 2.23965942 -2.        ]\t 52.81669322644354\t -0.5808180226262771\t 1.7522396005606575\t 1.8624446671024972\n",
            "11 \t [-0.51752651  0.20528451]\t 0.6593924490417203\t -0.5808180226262771\t 1.406249723858266\t 1.5275084780237214\n",
            "12 \t [-0.50812506  0.22134553]\t 0.5996650119571225\t -0.5808180226262771\t 1.5295035432075972\t 1.4861150319956666\n",
            "13 \t [-3. -2.]\t 162.89999999999998\t -0.5808180226262771\t 1.7379125360430885\t 1.789750026330593\n",
            "14 \t [-0.69559919  0.18571101]\t 1.2191666932721872\t -0.5808180226262771\t 1.353151220813141\t 1.343347192248052\n",
            "15 \t [-0.67249505  0.20280743]\t 1.1161754194333593\t -0.5808180226262771\t 1.5790391702101727\t 1.5468053849388606\n",
            "16 \t [-0.6551003   0.21512702]\t 1.0387232268197732\t -0.5808180226262771\t 1.2412843609318918\t 1.1752126791025848\n",
            "17 \t [-0.64177448  0.22433425]\t 0.9793982461578562\t -0.5808180226262771\t 1.1443827815577112\t 1.0822968049120376\n",
            "18 \t [-0.63138772  0.23142036]\t 0.9331185551856559\t -0.5808180226262771\t 1.5424548409183592\t 1.5302133408509102\n",
            "19 \t [-0.62315742  0.2370077 ]\t 0.8963852739608025\t -0.5808180226262771\t 1.4992147113547614\t 1.4561919598421336\n",
            "20 \t [-0.61653728  0.24150335]\t 0.8667672916264283\t -0.5808180226262771\t 1.4396788838348693\t 1.4422335486557978\n"
          ]
        }
      ],
      "source": [
        "### ESTIMATED GP EI GRADIENTS\n",
        "\n",
        "np.random.seed(run_num_7)\n",
        "surrogate_approx_7 = dGaussianProcess(cov_func, optimize=opt)\n",
        "\n",
        "approx_7 = GPGO_multi(surrogate_approx_7, Acquisition_grad(util), objfunc, param)\n",
        "approx_7.run(init_evals=n_init, max_iter=iters)\n"
      ]
    },
    {
      "cell_type": "code",
      "execution_count": 20,
      "metadata": {
        "id": "4unvifF-GCXp",
        "colab": {
          "base_uri": "https://localhost:8080/"
        },
        "outputId": "35800348-1cf4-45ef-9954-66720c4ac39c"
      },
      "outputs": [
        {
          "output_type": "stream",
          "name": "stdout",
          "text": [
            "Evaluation \t Proposed point \t  Current eval. \t  Best eval. \t        Exact EI: StdDev. x \t Approx EI: StdDev. x \n",
            "init\t [2.24057642 1.87416265]\t 48.82879577505094\t 0.03190064766213015\t    \t    \n",
            "init\t [2.21516724 0.12342277]\t 8.660623551418242\t 0.03190064766213015\t    \t    \n",
            "init\t [-1.60363003 -1.95440478]\t 48.28332373939171\t 0.03190064766213015\t    \t    \n",
            "init\t [-0.41718709 -0.39059456]\t 0.2801229037700297\t 0.03190064766213015\t    \t    \n",
            "init\t [ 0.13604803 -0.08643282]\t 0.03190064766213015\t 0.03190064766213015\t    \t    \n",
            "1  \t [-0.77086886  0.84272184]\t 0.23242422233356008\t 0.03190064766213015\t 1.2463959421143596\t 1.6397809866271555\n",
            "2  \t [-3.  2.]\t 150.89999999999998\t 0.03190064766213015\t 1.3864870116347838\t 2.122191385946795\n",
            "\u001b[1m\u001b[92m3\u001b[0m\t \u001b[1m\u001b[92m[-0.24360329  0.39126551]\u001b[0m\t \u001b[1m\u001b[92m-0.38387907993258125\u001b[0m\t \u001b[1m\u001b[92m-0.38387907993258125\u001b[0m\t \u001b[1m\u001b[92m1.208273468877501\u001b[0m\t \u001b[1m\u001b[92m1.281369700138018\u001b[0m\n",
            "4  \t [-0.24416435  0.38712394]\t -0.3730716827364074\t -0.38387907993258125\t 1.516028363848094\t 1.7525812019543376\n",
            "5  \t [-0.24497437  0.38151423]\t -0.3583721394862776\t -0.38387907993258125\t 1.405860124641745\t 1.7420578706311254\n",
            "6  \t [-0.24548886  0.37772027]\t -0.3484894307524471\t -0.38387907993258125\t 1.4472666031604149\t 1.8118997200785896\n",
            "7  \t [-0.2458453   0.37499111]\t -0.3414070906142888\t -0.38387907993258125\t 1.4912344110125075\t 1.8385657951921761\n",
            "8  \t [-0.24610789  0.37294036]\t -0.33609725752416875\t -0.38387907993258125\t 1.3377763616532359\t 1.7524715707494776\n",
            "9  \t [-0.24630977  0.37134801]\t -0.3319800612204693\t -0.38387907993258125\t 1.1853678180973481\t 1.7141995779065815\n",
            "10 \t [-0.24647043  0.3700801 ]\t -0.32870371795340836\t -0.38387907993258125\t 1.4444840084073747\t 1.6730330297896003\n",
            "11 \t [-0.2466018   0.36904918]\t -0.3260399362999102\t -0.38387907993258125\t 1.224062066875537\t 1.4626239858850363\n",
            "12 \t [-0.24671159  0.36819663]\t -0.3238362064230144\t -0.38387907993258125\t 1.1328211708048843\t 1.4358152896620955\n",
            "13 \t [-0.24680461  0.36748147]\t -0.32198689773412287\t -0.38387907993258125\t 1.1999271796920425\t 1.752137584931777\n",
            "14 \t [-0.24688463  0.36687377]\t -0.3204144699002144\t -0.38387907993258125\t 1.3984085079908113\t 1.7212721609312955\n",
            "15 \t [-0.24695496  0.36635307]\t -0.31906486443026977\t -0.38387907993258125\t 1.1961864083643983\t 1.7331856618752226\n",
            "16 \t [-0.24701641  0.36590137]\t -0.31789372004302957\t -0.38387907993258125\t 1.2841164239295855\t 1.8212695942699388\n",
            "17 \t [-0.24707155  0.36550774]\t -0.316870972461664\t -0.38387907993258125\t 1.4501844747306623\t 1.7383652834116525\n",
            "18 \t [-0.24712039  0.36516102]\t -0.31596985238786884\t -0.38387907993258125\t 1.4266844210613816\t 1.5931373492773275\n",
            "19 \t [ 3. -2.]\t 150.89999999999998\t -0.38387907993258125\t 1.1947667817472705\t 1.6107736350393507\n",
            "20 \t [-0.23979027  0.3626011 ]\t -0.32060106173175296\t -0.38387907993258125\t 1.2802039881057297\t 1.181136530089363\n"
          ]
        }
      ],
      "source": [
        "### ESTIMATED GP EI GRADIENTS\n",
        "\n",
        "np.random.seed(run_num_8)\n",
        "surrogate_approx_8 = dGaussianProcess(cov_func, optimize=opt)\n",
        "\n",
        "approx_8 = GPGO_multi(surrogate_approx_8, Acquisition_grad(util), objfunc, param)\n",
        "approx_8.run(init_evals=n_init, max_iter=iters)\n"
      ]
    },
    {
      "cell_type": "code",
      "execution_count": 21,
      "metadata": {
        "id": "85OIXcg7GCaJ",
        "colab": {
          "base_uri": "https://localhost:8080/"
        },
        "outputId": "21bd7b05-05c8-4b48-ebe2-e788fecbe413"
      },
      "outputs": [
        {
          "output_type": "stream",
          "name": "stdout",
          "text": [
            "Evaluation \t Proposed point \t  Current eval. \t  Best eval. \t        Exact EI: StdDev. x \t Approx EI: StdDev. x \n",
            "init\t [-2.93775508  0.00749837]\t 92.35857237145763\t 1.395407492769129\t    \t    \n",
            "init\t [-0.02536024 -1.46468188]\t 9.867672894921913\t 1.395407492769129\t    \t    \n",
            "init\t [-2.14733349 -1.1257653 ]\t 10.24680089963123\t 1.395407492769129\t    \t    \n",
            "init\t [-0.48895092 -1.00759533]\t 1.395407492769129\t 1.395407492769129\t    \t    \n",
            "init\t [-2.49564209 -0.61800544]\t 24.58298635463645\t 1.395407492769129\t    \t    \n",
            "1  \t [0.19950386 1.29272168]\t 4.899980086595864\t 1.395407492769129\t 1.6064182666594051\t 1.5389731582832187\n",
            "2  \t [ 3.         -0.21547441]\t 108.07648258328325\t 1.395407492769129\t 2.1090613991294034\t 1.9514596538970168\n",
            "3  \t [-1.44939862  2.        ]\t 47.32689265929798\t 1.395407492769129\t 1.602180587697333\t 1.5008456459057682\n",
            "4  \t [-1.57484893 -2.        ]\t 53.238148922947346\t 1.395407492769129\t 1.7105775517083037\t 1.5924359153163827\n",
            "\u001b[1m\u001b[92m5\u001b[0m\t \u001b[1m\u001b[92m[-0.51196048 -0.15338005]\u001b[0m\t \u001b[1m\u001b[92m0.8967863571366157\u001b[0m\t \u001b[1m\u001b[92m0.8967863571366157\u001b[0m\t \u001b[1m\u001b[92m1.5130728155434008\u001b[0m\t \u001b[1m\u001b[92m1.5715932981100453\u001b[0m\n",
            "6  \t [1.95347264 2.        ]\t 55.113868859122576\t 0.8967863571366157\t 1.5716921717759287\t 1.4438683349238703\n",
            "\u001b[1m\u001b[92m7\u001b[0m\t \u001b[1m\u001b[92m[-0.03140947 -0.13756292]\u001b[0m\t \u001b[1m\u001b[92m-0.06599686781721516\u001b[0m\t \u001b[1m\u001b[92m-0.06599686781721516\u001b[0m\t \u001b[1m\u001b[92m1.2958362284962557\u001b[0m\t \u001b[1m\u001b[92m1.2439064501971222\u001b[0m\n",
            "8  \t [-0.02686178 -0.13539285]\t -0.06545874131171577\t -0.06599686781721516\t 1.2616116437109897\t 1.1875362204571354\n",
            "9  \t [-0.02767321 -0.13577531]\t -0.06556101760447572\t -0.06599686781721516\t 1.5126815962240876\t 1.5014374810706599\n",
            "10 \t [-0.02817043 -0.1360105 ]\t -0.06562215097077609\t -0.06599686781721516\t 1.2673933675978586\t 1.209869307586585\n",
            "11 \t [-0.0285055  -0.13616929]\t -0.06566262736998782\t -0.06599686781721516\t 1.4512321291313297\t 1.4360374133700053\n",
            "12 \t [-0.02874732 -0.13628429]\t -0.06569173655003248\t -0.06599686781721516\t 1.4486967239114017\t 1.4442554468794655\n",
            "13 \t [-0.02892922 -0.13637086]\t -0.06571341899543652\t -0.06599686781721516\t 1.0585740994686597\t 1.0110936315700139\n",
            "14 \t [-0.02907121 -0.13643849]\t -0.06573023357975608\t -0.06599686781721516\t 1.3596701173605703\t 1.354788403759163\n",
            "15 \t [-0.02918498 -0.13649269]\t -0.06574360066255253\t -0.06599686781721516\t 1.272022577881773\t 1.2336155924316372\n",
            "16 \t [-0.02927826 -0.13653724]\t -0.06575462149379532\t -0.06599686781721516\t 1.4384622638442897\t 1.4306346431150199\n",
            "17 \t [-0.02935606 -0.13657438]\t -0.06576372762757146\t -0.06599686781721516\t 1.3519894595383033\t 1.3380346533518224\n",
            "18 \t [-0.02942193 -0.1366059 ]\t -0.06577149529256174\t -0.06599686781721516\t 1.3821261052153455\t 1.3938570079331043\n",
            "19 \t [-0.02947841 -0.13663289]\t -0.06577809153480636\t -0.06599686781721516\t 1.4538893105042239\t 1.4479684076653152\n",
            "20 \t [-0.02952736 -0.13665631]\t -0.06578380520139909\t -0.06599686781721516\t 1.4822078216282142\t 1.4851766495286953\n"
          ]
        }
      ],
      "source": [
        "### ESTIMATED GP EI GRADIENTS\n",
        "\n",
        "np.random.seed(run_num_9)\n",
        "surrogate_approx_9 = dGaussianProcess(cov_func, optimize=opt)\n",
        "\n",
        "approx_9 = GPGO_multi(surrogate_approx_9, Acquisition_grad(util), objfunc, param)\n",
        "approx_9.run(init_evals=n_init, max_iter=iters)\n"
      ]
    },
    {
      "cell_type": "code",
      "execution_count": 22,
      "metadata": {
        "id": "QQBR-qJPGCcp",
        "colab": {
          "base_uri": "https://localhost:8080/"
        },
        "outputId": "51a8bf7c-bf96-47a7-83e3-13482ba6aa8d"
      },
      "outputs": [
        {
          "output_type": "stream",
          "name": "stdout",
          "text": [
            "Evaluation \t Proposed point \t  Current eval. \t  Best eval. \t        Exact EI: StdDev. x \t Approx EI: StdDev. x \n",
            "init\t [ 1.62792386 -1.9169922 ]\t 38.25414770674631\t 0.7775687473184012\t    \t    \n",
            "init\t [0.80188941 0.99521553]\t 2.552651714051803\t 0.7775687473184012\t    \t    \n",
            "init\t [-0.00895793 -1.10081342]\t 1.0367630165263393\t 0.7775687473184012\t    \t    \n",
            "init\t [-1.81162281  1.04212285]\t 0.7775687473184012\t 0.7775687473184012\t    \t    \n",
            "init\t [-1.98533498 -1.64664074]\t 25.383481436170044\t 0.7775687473184012\t    \t    \n",
            "1  \t [3. 2.]\t 162.89999999999998\t 0.7775687473184012\t 1.589201390238439\t 1.8094099745112386\n",
            "2  \t [-3.  2.]\t 150.89999999999998\t 0.7775687473184012\t 1.1746340026289581\t 1.4519410806466009\n",
            "3  \t [ 3.         -0.56605295]\t 106.33084289570883\t 0.7775687473184012\t 1.4501655019646518\t 1.4509757541350945\n",
            "\u001b[1m\u001b[92m4\u001b[0m\t \u001b[1m\u001b[92m[-0.7532562   0.62545309]\u001b[0m\t \u001b[1m\u001b[92m0.23063111601765074\u001b[0m\t \u001b[1m\u001b[92m0.23063111601765074\u001b[0m\t \u001b[1m\u001b[92m1.4835390894105003\u001b[0m\t \u001b[1m\u001b[92m1.487102111973559\u001b[0m\n",
            "5  \t [-0.77425408  0.62943664]\t 0.270785017851114\t 0.23063111601765074\t 1.4677741731939487\t 1.4305276406353358\n",
            "6  \t [-0.78273918  0.63084953]\t 0.28694075214717873\t 0.23063111601765074\t 1.3967980507037998\t 1.2668056147193691\n",
            "7  \t [-0.7870539   0.63179584]\t 0.29464245732691596\t 0.23063111601765074\t 1.4455034021437083\t 1.3987970224279471\n",
            "8  \t [-0.78955499  0.63252487]\t 0.2987504617062877\t 0.23063111601765074\t 1.2728012377275504\t 1.221359087512902\n",
            "9  \t [-0.79113619  0.63310382]\t 0.30112434540504107\t 0.23063111601765074\t 1.5696940523023442\t 1.5785538492176818\n",
            "10 \t [-0.79220333  0.6335673 ]\t 0.30259175333159827\t 0.23063111601765074\t 1.5432893941440675\t 1.4260325292435476\n",
            "11 \t [-0.79296131  0.63394045]\t 0.3035536173026985\t 0.23063111601765074\t 1.2886544392621186\t 1.2025999461993413\n",
            "12 \t [-0.79352131  0.63424409]\t 0.3042135367432388\t 0.23063111601765074\t 1.4873906719980798\t 1.5389023386514404\n",
            "13 \t [-0.7939498   0.63449223]\t 0.30468996374576274\t 0.23063111601765074\t 1.5525594230679176\t 1.5647373517279728\n",
            "14 \t [-0.7942867   0.63469694]\t 0.3050472853632413\t 0.23063111601765074\t 1.4368238682941192\t 1.4105080142376265\n",
            "15 \t [-0.79455642  0.63486846]\t 0.30531969335559517\t 0.23063111601765074\t 1.4207713717283175\t 1.3582423069859533\n",
            "16 \t [-0.79477693  0.63501288]\t 0.3055349115192998\t 0.23063111601765074\t 1.5521454921464355\t 1.4292499394701024\n",
            "17 \t [-0.7949608   0.63513489]\t 0.3057115350296774\t 0.23063111601765074\t 1.551866055946469\t 1.471888339844369\n",
            "18 \t [-0.79511435  0.63524054]\t 0.3058523292966596\t 0.23063111601765074\t 1.4143205108435055\t 1.4676145147192987\n",
            "19 \t [-0.7952465   0.63533033]\t 0.3059755342595971\t 0.23063111601765074\t 1.0925380930301507\t 1.0953090741596945\n",
            "20 \t [-0.79535886  0.63540954]\t 0.3060752271925372\t 0.23063111601765074\t 1.491027203564291\t 1.5504363805877546\n"
          ]
        }
      ],
      "source": [
        "### ESTIMATED GP EI GRADIENTS\n",
        "\n",
        "np.random.seed(run_num_10)\n",
        "surrogate_approx_10 = dGaussianProcess(cov_func, optimize=opt)\n",
        "\n",
        "approx_10 = GPGO_multi(surrogate_approx_10, Acquisition_grad(util), objfunc, param)\n",
        "approx_10.run(init_evals=n_init, max_iter=iters)\n"
      ]
    },
    {
      "cell_type": "code",
      "execution_count": 23,
      "metadata": {
        "id": "JS8ejeQ2GCfi",
        "colab": {
          "base_uri": "https://localhost:8080/"
        },
        "outputId": "2b9138a1-8abb-4d88-9291-222ddf50ed1a"
      },
      "outputs": [
        {
          "output_type": "stream",
          "name": "stdout",
          "text": [
            "Evaluation \t Proposed point \t  Current eval. \t  Best eval. \t        Exact EI: StdDev. x \t Approx EI: StdDev. x \n",
            "init\t [-1.91838187 -1.92209903]\t 46.39910375151002\t -0.6254688257880329\t    \t    \n",
            "init\t [-0.22068884  0.89973572]\t -0.6254688257880329\t -0.6254688257880329\t    \t    \n",
            "init\t [-0.47877837 -0.05829161]\t 0.8249470187639529\t -0.6254688257880329\t    \t    \n",
            "init\t [-2.92331511 -0.05051357]\t 88.99028404075307\t -0.6254688257880329\t    \t    \n",
            "init\t [2.65083991 1.40318036]\t 51.423425402262914\t -0.6254688257880329\t    \t    \n",
            "1  \t [ 1.79052491 -2.        ]\t 46.642439808247566\t -0.6254688257880329\t 1.4011124206698906\t 1.5072091725693435\n",
            "2  \t [-0.41855111  2.        ]\t 47.800981468687965\t -0.6254688257880329\t 1.1203855999971721\t 1.2464105413810684\n",
            "3  \t [ 0.09051383 -0.00503656]\t 0.03207290039322645\t -0.6254688257880329\t 1.6605053929572062\t 1.660303778426899\n",
            "4  \t [ 0.08003266 -0.00212966]\t 0.025346253591978556\t -0.6254688257880329\t 1.33999842700247\t 1.2929972529976865\n",
            "5  \t [ 0.07460426 -0.00058538]\t 0.022153143735240476\t -0.6254688257880329\t 1.265584382900802\t 1.2505269483411823\n",
            "6  \t [0.07129016 0.00037421]\t 0.02030106785475776\t -0.6254688257880329\t 1.422555386236747\t 1.4167886633294449\n",
            "7  \t [0.06906382 0.00103551]\t 0.019098733220902647\t -0.6254688257880329\t 1.5590395523132836\t 1.5453424353857825\n",
            "8  \t [0.06747082 0.0015137 ]\t 0.018258722021911547\t -0.6254688257880329\t 1.3134424068962531\t 1.2805441528640575\n",
            "9  \t [0.0662778  0.00187673]\t 0.017640791881517525\t -0.6254688257880329\t 1.4862068808061397\t 1.4765165262147457\n",
            "10 \t [0.06535304 0.00216149]\t 0.017168371330589308\t -0.6254688257880329\t 1.3633235568915663\t 1.3478259720281196\n",
            "11 \t [0.06461667 0.00239076]\t 0.016796291764349016\t -0.6254688257880329\t 1.4950238508045801\t 1.4872365349791463\n",
            "12 \t [0.06401733 0.00257922]\t 0.016496133025598145\t -0.6254688257880329\t 1.5519499607125338\t 1.5359716971464357\n",
            "13 \t [0.06352091 0.00273672]\t 0.01624933889285421\t -0.6254688257880329\t 1.4546532392269573\t 1.4450742011604711\n",
            "14 \t [0.06310332 0.00286922]\t 0.016042965145131392\t -0.6254688257880329\t 1.4707088983255274\t 1.464695735104162\n",
            "15 \t [0.06274737 0.00298536]\t 0.015868071231093604\t -0.6254688257880329\t 1.3896014240988415\t 1.3886080978167992\n",
            "16 \t [0.06244097 0.0030846 ]\t 0.015718144577913623\t -0.6254688257880329\t 1.5168447451470095\t 1.514183727207557\n",
            "17 \t [0.06217462 0.00317184]\t 0.015588335254789342\t -0.6254688257880329\t 1.178229866140776\t 1.1589277034717669\n",
            "18 \t [0.06194111 0.0032488 ]\t 0.015474925132830024\t -0.6254688257880329\t 1.465890531093089\t 1.4408229687867051\n",
            "19 \t [0.06173453 0.00331714]\t 0.015374894500852684\t -0.6254688257880329\t 1.363618983351402\t 1.3183003272164127\n",
            "20 \t [0.06155092 0.00337831]\t 0.015286227800761146\t -0.6254688257880329\t 1.4778785051810708\t 1.436295658079005\n"
          ]
        }
      ],
      "source": [
        "### ESTIMATED GP EI GRADIENTS\n",
        "\n",
        "np.random.seed(run_num_11)\n",
        "surrogate_approx_11 = dGaussianProcess(cov_func, optimize=opt)\n",
        "\n",
        "approx_11 = GPGO_multi(surrogate_approx_11, Acquisition_grad(util), objfunc, param)\n",
        "approx_11.run(init_evals=n_init, max_iter=iters)\n"
      ]
    },
    {
      "cell_type": "code",
      "execution_count": 24,
      "metadata": {
        "id": "DXwjUVZ4GCii",
        "colab": {
          "base_uri": "https://localhost:8080/"
        },
        "outputId": "6ca5d54a-c2ee-4396-dd6e-3859fff33a4b"
      },
      "outputs": [
        {
          "output_type": "stream",
          "name": "stdout",
          "text": [
            "Evaluation \t Proposed point \t  Current eval. \t  Best eval. \t        Exact EI: StdDev. x \t Approx EI: StdDev. x \n",
            "init\t [-2.07502295  0.96019879]\t 2.6185857163917037\t 1.9967735906956543\t    \t    \n",
            "init\t [-1.42010991  0.13495757]\t 1.9967735906956543\t 1.9967735906956543\t    \t    \n",
            "init\t [-2.91255023  1.67498803]\t 101.67816714332157\t 1.9967735906956543\t    \t    \n",
            "init\t [ 2.40428912 -1.86631429]\t 47.44624883788006\t 1.9967735906956543\t    \t    \n",
            "init\t [ 2.74169602 -1.45116271]\t 58.32400185681089\t 1.9967735906956543\t    \t    \n",
            "\u001b[1m\u001b[92m1\u001b[0m\t \u001b[1m\u001b[92m[-1.337878    0.82388566]\u001b[0m\t \u001b[1m\u001b[92m0.36879704199305774\u001b[0m\t \u001b[1m\u001b[92m0.36879704199305774\u001b[0m\t \u001b[1m\u001b[92m2.248323829684019\u001b[0m\t \u001b[1m\u001b[92m1.9748983555376431\u001b[0m\n",
            "2  \t [1.74301928 2.        ]\t 53.60261104768335\t 0.36879704199305774\t 2.1165994669609614\t 1.8219068502224032\n",
            "3  \t [-3. -2.]\t 162.89999999999998\t 0.36879704199305774\t 1.648873806105735\t 1.584432154335971\n",
            "4  \t [-0.16291724 -2.        ]\t 48.430529410549696\t 0.36879704199305774\t 1.3139540382584085\t 1.231212767828399\n",
            "\u001b[1m\u001b[92m5\u001b[0m\t \u001b[1m\u001b[92m[-1.49393438  0.64566136]\u001b[0m\t \u001b[1m\u001b[92m0.23577047222883796\u001b[0m\t \u001b[1m\u001b[92m0.23577047222883796\u001b[0m\t \u001b[1m\u001b[92m1.2999445840334245\u001b[0m\t \u001b[1m\u001b[92m1.281351285408386\u001b[0m\n",
            "6  \t [-0.63881474  1.79548609]\t 28.83398703617356\t 0.23577047222883796\t 1.3446721504156194\t 1.4748109669811884\n",
            "7  \t [-1.22457381  0.27566251]\t 1.7815902978158533\t 0.23577047222883796\t 1.4924743751051\t 1.529138626481616\n",
            "8  \t [-1.23788991  0.2830767 ]\t 1.7525013314324018\t 0.23577047222883796\t 1.5603027414282826\t 1.5677864642125534\n",
            "9  \t [-1.24570007  0.28764533]\t 1.7339541939424141\t 0.23577047222883796\t 1.3571716360151564\t 1.3640823362488306\n",
            "10 \t [-1.25080495  0.29075426]\t 1.721124401170723\t 0.23577047222883796\t 1.3255501020539708\t 1.3775848568032218\n",
            "11 \t [-1.25437901  0.29300615]\t 1.7117519240566297\t 0.23577047222883796\t 1.5055165470950418\t 1.5419693228974314\n",
            "12 \t [-1.25700559  0.29471071]\t 1.7046259967496415\t 0.23577047222883796\t 1.4085595337406842\t 1.4594668359543237\n",
            "13 \t [-1.25900721  0.29604424]\t 1.6990393577954097\t 0.23577047222883796\t 1.4161430723757709\t 1.4388174754336849\n",
            "14 \t [-1.26057621  0.29711435]\t 1.694552816877228\t 0.23577047222883796\t 1.4254985886456886\t 1.418144030834449\n",
            "15 \t [-1.26183489  0.29799099]\t 1.690877435818484\t 0.23577047222883796\t 1.5048411853386305\t 1.523892861988197\n",
            "16 \t [-1.26286177  0.29872262]\t 1.6878141889269571\t 0.23577047222883796\t 1.438237850995397\t 1.4566073413200742\n",
            "17 \t [-1.2637179   0.29933958]\t 1.6852296078249847\t 0.23577047222883796\t 1.2796986818081253\t 1.350948132111703\n",
            "18 \t [-1.2644371   0.29986801]\t 1.6830199046532441\t 0.23577047222883796\t 1.5401179646479988\t 1.5659892291617694\n",
            "19 \t [-1.26504924  0.30032495]\t 1.6811117776969773\t 0.23577047222883796\t 1.3849517451444642\t 1.409878422096997\n",
            "20 \t [-1.26557603  0.30072376]\t 1.6794485882744776\t 0.23577047222883796\t 1.2767917139902756\t 1.3388729216643704\n"
          ]
        }
      ],
      "source": [
        "### ESTIMATED GP EI GRADIENTS\n",
        "\n",
        "np.random.seed(run_num_12)\n",
        "surrogate_approx_12 = dGaussianProcess(cov_func, optimize=opt)\n",
        "\n",
        "approx_12 = GPGO_multi(surrogate_approx_12, Acquisition_grad(util), objfunc, param)\n",
        "approx_12.run(init_evals=n_init, max_iter=iters)\n"
      ]
    },
    {
      "cell_type": "code",
      "execution_count": 25,
      "metadata": {
        "id": "CphOPndPGClX",
        "colab": {
          "base_uri": "https://localhost:8080/"
        },
        "outputId": "f5f6d79d-3970-403a-ac39-cb561b779150"
      },
      "outputs": [
        {
          "output_type": "stream",
          "name": "stdout",
          "text": [
            "Evaluation \t Proposed point \t  Current eval. \t  Best eval. \t        Exact EI: StdDev. x \t Approx EI: StdDev. x \n",
            "init\t [ 1.66621446 -1.04983512]\t 0.752930921147986\t 0.752930921147986\t    \t    \n",
            "init\t [1.9456712  1.86299679]\t 41.05776363102951\t 0.752930921147986\t    \t    \n",
            "init\t [ 2.83560668 -0.18620301]\t 69.0134544723513\t 0.752930921147986\t    \t    \n",
            "init\t [0.65425478 1.10210606]\t 3.117452174069064\t 0.752930921147986\t    \t    \n",
            "init\t [0.84968007 0.88807292]\t 2.006601529383926\t 0.752930921147986\t    \t    \n",
            "1  \t [ 0.69815135 -1.5584218 ]\t 14.280544136905649\t 0.752930921147986\t 1.1482809677702306\t 1.2038349978134193\n",
            "2  \t [-3.  2.]\t 150.89999999999998\t 0.752930921147986\t 1.604511611483205\t 1.945960703330493\n",
            "3  \t [-3. -2.]\t 162.89999999999998\t 0.752930921147986\t 1.6769508063821563\t 1.7890870466749633\n",
            "4  \t [-1.32681869 -1.1815997 ]\t 6.132474358637779\t 0.752930921147986\t 1.5354991965821498\t 1.5354991965821498\n",
            "\u001b[1m\u001b[92m5\u001b[0m\t \u001b[1m\u001b[92m[-0.19817028  0.59883805]\u001b[0m\t \u001b[1m\u001b[92m-0.8848366775560662\u001b[0m\t \u001b[1m\u001b[92m-0.8848366775560662\u001b[0m\t \u001b[1m\u001b[92m1.623664321955077\u001b[0m\t \u001b[1m\u001b[92m1.4977802688450212\u001b[0m\n",
            "6  \t [-0.23865393  0.58626093]\t -0.8211249819209709\t -0.8848366775560662\t 1.2979265687865997\t 1.2617454573204283\n",
            "7  \t [-0.23022375  0.58730585]\t -0.8328606812446508\t -0.8848366775560662\t 1.3939233473768542\t 1.2982151186620587\n",
            "8  \t [-0.22624539  0.58782051]\t -0.8382610240004593\t -0.8848366775560662\t 1.3803477226989411\t 1.3764725400143645\n",
            "9  \t [-0.22397885  0.58812658]\t -0.8413087325793747\t -0.8848366775560662\t 1.414021762302517\t 1.4311087641701696\n",
            "10 \t [-0.22253404  0.58832848]\t -0.84324359248486\t -0.8848366775560662\t 1.4227892267284994\t 1.266911202322318\n",
            "11 \t [-0.22153906  0.58847066]\t -0.8445725213965889\t -0.8848366775560662\t 1.5137867236164746\t 1.4742471277480769\n",
            "12 \t [-0.22081921  0.58857614]\t -0.8455338615323282\t -0.8848366775560662\t 1.5162286583332676\t 1.3501189249357592\n",
            "13 \t [-0.22027375  0.58865665]\t -0.8462607825650548\t -0.8848366775560662\t 1.545805155214323\t 1.374152129145396\n",
            "14 \t [-0.21985037  0.58872078]\t -0.8468262460904055\t -0.8848366775560662\t 1.2177095108607239\t 1.208027040809738\n",
            "15 \t [-0.21950989  0.58877172]\t -0.8472789837812976\t -0.8848366775560662\t 1.3644709664488297\t 1.2821761170366657\n",
            "16 \t [-0.21923493  0.58881409]\t -0.8476460089280051\t -0.8848366775560662\t 1.23747784909188\t 1.2166106854812428\n",
            "17 \t [-0.21900388  0.58884933]\t -0.8479534117121691\t -0.8848366775560662\t 1.6320156894438715\t 1.538597957179809\n",
            "18 \t [-0.21881005  0.5888787 ]\t -0.8482106685224083\t -0.8848366775560662\t 1.1867225176147294\t 1.0792224316765147\n",
            "19 \t [-0.2186438   0.58890435]\t -0.8484318754977104\t -0.8848366775560662\t 1.459880539518697\t 1.2822677082976233\n",
            "20 \t [-0.21850166  0.58892616]\t -0.8486206266485875\t -0.8848366775560662\t 1.6333582720746567\t 1.6038067515041887\n"
          ]
        }
      ],
      "source": [
        "### ESTIMATED GP EI GRADIENTS\n",
        "\n",
        "np.random.seed(run_num_13)\n",
        "surrogate_approx_13 = dGaussianProcess(cov_func, optimize=opt)\n",
        "\n",
        "approx_13 = GPGO_multi(surrogate_approx_13, Acquisition_grad(util), objfunc, param)\n",
        "approx_13.run(init_evals=n_init, max_iter=iters)\n"
      ]
    },
    {
      "cell_type": "code",
      "execution_count": 26,
      "metadata": {
        "id": "ojHTeARNGCoi",
        "colab": {
          "base_uri": "https://localhost:8080/"
        },
        "outputId": "9f8a8dd2-42fc-4e0f-85fc-0290eafb1864"
      },
      "outputs": [
        {
          "output_type": "stream",
          "name": "stdout",
          "text": [
            "Evaluation \t Proposed point \t  Current eval. \t  Best eval. \t        Exact EI: StdDev. x \t Approx EI: StdDev. x \n",
            "init\t [0.08366006 1.09266021]\t 1.0453292732107575\t -1.029299726828387\t    \t    \n",
            "init\t [ 2.22256611 -1.96781221]\t 48.81113313056442\t -1.029299726828387\t    \t    \n",
            "init\t [-1.14158445  1.83041496]\t 31.794043287944216\t -1.029299726828387\t    \t    \n",
            "init\t [ 0.07870027 -0.7268623 ]\t -1.029299726828387\t -1.029299726828387\t    \t    \n",
            "init\t [ 0.23519962 -1.11498023]\t 1.161934062902255\t -1.029299726828387\t    \t    \n",
            "1  \t [-1.4544454   0.80460528]\t 0.13632292703505466\t -1.029299726828387\t 1.503658355512916\t 1.503658355512916\n",
            "2  \t [-1.62889462 -1.85708112]\t 38.86111235771161\t -1.029299726828387\t 1.5374298505922563\t 1.5374298505922563\n",
            "3  \t [-0.15386684 -1.39029353]\t 7.520441668707877\t -1.029299726828387\t 1.3235846389965387\t 1.3235846389965387\n",
            "4  \t [0.42921709 0.75222473]\t 0.007928470491904593\t -1.029299726828387\t 1.4304797833357905\t 1.4304797833357905\n",
            "5  \t [ 0.10283639 -0.51837162]\t -0.7972587881828173\t -1.029299726828387\t 1.412829797586225\t 1.4450988057821046\n",
            "6  \t [ 0.23768276 -0.55410632]\t -0.7634273267633378\t -1.029299726828387\t 1.5441484516102757\t 1.506670319910665\n",
            "7  \t [-0.00717557 -0.48651925]\t -0.7189975013092375\t -1.029299726828387\t 1.4137958488528115\t 1.3814793873123352\n",
            "8  \t [ 0.20747619 -0.52500136]\t -0.7392305031420606\t -1.029299726828387\t 1.5462621121499585\t 1.3611669886216244\n",
            "9  \t [ 0.11350743 -0.49906376]\t -0.7535853390580053\t -1.029299726828387\t 1.6788874302950534\t 1.6040264381279286\n",
            "10 \t [ 0.20178523 -0.52921081]\t -0.7538896685516099\t -1.029299726828387\t 1.4908921926336482\t 1.5110032605786359\n",
            "11 \t [ 0.05836501 -0.48100926]\t -0.7258240538337197\t -1.029299726828387\t 1.4904440480038024\t 1.4673828371814819\n",
            "12 \t [ 0.25198631 -0.53854314]\t -0.7137469473596392\t -1.029299726828387\t 1.4561087842186817\t 1.3052158482986602\n",
            "13 \t [ 0.10813039 -0.48333236]\t -0.7219265852379894\t -1.029299726828387\t 1.4839570465668903\t 1.4511088926013793\n",
            "14 \t [ 0.16515824 -0.50562929]\t -0.7371493790071633\t -1.029299726828387\t 1.5866183625226986\t 1.4222946909305367\n",
            "15 \t [ 0.1425565  -0.49950629]\t -0.7397950304395694\t -1.029299726828387\t 1.5982516356355807\t 1.4077579847585022\n",
            "16 \t [ 0.16868881 -0.50966242]\t -0.7429743177503502\t -1.029299726828387\t 1.4248895463380484\t 1.3488512802304449\n",
            "17 \t [ 0.09120632 -0.48242921]\t -0.7251553204606361\t -1.029299726828387\t 1.5487260928146283\t 1.4969249092583248\n",
            "18 \t [ 0.29753819 -0.54856432]\t -0.6668032393381595\t -1.029299726828387\t 1.3451984025238513\t 1.1240385315253176\n",
            "19 \t [ 0.10830668 -0.46760579]\t -0.6873922727079524\t -1.029299726828387\t 1.4964240375691946\t 1.3309628218019762\n",
            "20 \t [ 0.15790881 -0.49047659]\t -0.7097890054336458\t -1.029299726828387\t 1.3516473891425131\t 1.1716606873840336\n"
          ]
        }
      ],
      "source": [
        "### ESTIMATED GP EI GRADIENTS\n",
        "\n",
        "np.random.seed(run_num_14)\n",
        "surrogate_approx_14 = dGaussianProcess(cov_func, optimize=opt)\n",
        "\n",
        "approx_14 = GPGO_multi(surrogate_approx_14, Acquisition_grad(util), objfunc, param)\n",
        "approx_14.run(init_evals=n_init, max_iter=iters)\n"
      ]
    },
    {
      "cell_type": "code",
      "execution_count": 27,
      "metadata": {
        "id": "vCJzn4vWGCs3",
        "colab": {
          "base_uri": "https://localhost:8080/"
        },
        "outputId": "0e651988-207f-4f26-9053-6b73053d7964"
      },
      "outputs": [
        {
          "output_type": "stream",
          "name": "stdout",
          "text": [
            "Evaluation \t Proposed point \t  Current eval. \t  Best eval. \t        Exact EI: StdDev. x \t Approx EI: StdDev. x \n",
            "init\t [ 2.09290618 -1.2844163 ]\t 6.84252100896936\t 2.1163170846379233\t    \t    \n",
            "init\t [-2.67382071 -0.55384622]\t 43.69785230561242\t 2.1163170846379233\t    \t    \n",
            "init\t [-1.34759443  0.1200009 ]\t 2.1163170846379233\t 2.1163170846379233\t    \t    \n",
            "init\t [-1.16448651 -0.78210256]\t 2.3544087277459513\t 2.1163170846379233\t    \t    \n",
            "init\t [-2.32955234 -1.00040394]\t 15.469119251600274\t 2.1163170846379233\t    \t    \n",
            "1  \t [-0.31230925  1.23090386]\t 3.107966059914712\t 2.1163170846379233\t 1.687086957433018\t 1.3725080719744793\n",
            "2  \t [3. 2.]\t 162.89999999999998\t 2.1163170846379233\t 1.9689169227194863\t 2.159163358748201\n",
            "3  \t [-3.  2.]\t 150.89999999999998\t 2.1163170846379233\t 1.5244896269228267\t 1.7566788538905187\n",
            "\u001b[1m\u001b[92m4\u001b[0m\t \u001b[1m\u001b[92m[-0.27070757 -0.29550408]\u001b[0m\t \u001b[1m\u001b[92m0.04318936470340434\u001b[0m\t \u001b[1m\u001b[92m0.04318936470340434\u001b[0m\t \u001b[1m\u001b[92m1.2584926269796997\u001b[0m\t \u001b[1m\u001b[92m1.1077601442572051\u001b[0m\n",
            "5  \t [-0.27822716 -0.29112708]\t 0.06792524325045923\t 0.04318936470340434\t 1.5094388030715933\t 1.5581703783247314\n",
            "6  \t [-0.28998257 -0.28350518]\t 0.10825994237381381\t 0.04318936470340434\t 1.4306526527533252\t 1.494809269690064\n",
            "7  \t [-0.29693398 -0.27975665]\t 0.13109743405511365\t 0.04318936470340434\t 1.4238154886668546\t 1.525706626858466\n",
            "8  \t [-0.28575101 -2.        ]\t 48.88429668007866\t 0.04318936470340434\t 1.6398688241855144\t 1.6982851078163956\n",
            "9  \t [-0.34300812  0.25547483]\t 0.1104315362789415\t 0.04318936470340434\t 1.366896786718864\t 1.3714519698104817\n",
            "10 \t [-0.35311053  0.23713802]\t 0.17072151559582932\t 0.04318936470340434\t 1.466312921362055\t 1.4368308633442353\n",
            "11 \t [-0.35948783  0.22478223]\t 0.20987104410599064\t 0.04318936470340434\t 1.350195830720159\t 1.317328102908144\n",
            "12 \t [-0.36380291  0.21588099]\t 0.237128353332279\t 0.04318936470340434\t 1.3415229263823105\t 1.409881829969251\n",
            "13 \t [-0.36686294  0.20917166]\t 0.25703558585578257\t 0.04318936470340434\t 1.6767483882013445\t 1.6365717743587291\n",
            "14 \t [-0.36910907  0.2039441 ]\t 0.27209888903490775\t 0.04318936470340434\t 1.5598015579628433\t 1.6938981793901544\n",
            "15 \t [-0.37080228  0.1997658 ]\t 0.28381485462338274\t 0.04318936470340434\t 1.0605230441803914\t 1.0721869822075467\n",
            "16 \t [-0.37210631  0.19635735]\t 0.2931317103783744\t 0.04318936470340434\t 1.577448350391308\t 1.477163848279398\n",
            "17 \t [-0.37312848  0.19352991]\t 0.3006778438866015\t 0.04318936470340434\t 1.2801742063498862\t 1.2767567052885376\n",
            "18 \t [-0.37394157  0.19115133]\t 0.3068847064118033\t 0.04318936470340434\t 1.398068040378782\t 1.3346956360670998\n",
            "19 \t [-0.37459666  0.18912627]\t 0.31205824963841516\t 0.04318936470340434\t 1.56253615329549\t 1.6859315407788285\n",
            "20 \t [-0.3751302   0.18738402]\t 0.3164206771130615\t 0.04318936470340434\t 1.3945385898542095\t 1.558748936543613\n"
          ]
        }
      ],
      "source": [
        "### ESTIMATED GP EI GRADIENTS\n",
        "\n",
        "np.random.seed(run_num_15)\n",
        "surrogate_approx_15 = dGaussianProcess(cov_func, optimize=opt)\n",
        "\n",
        "approx_15 = GPGO_multi(surrogate_approx_15, Acquisition_grad(util), objfunc, param)\n",
        "approx_15.run(init_evals=n_init, max_iter=iters)\n"
      ]
    },
    {
      "cell_type": "code",
      "execution_count": 28,
      "metadata": {
        "id": "bGGkhp-kGCw6",
        "colab": {
          "base_uri": "https://localhost:8080/"
        },
        "outputId": "f7bf1d95-3179-45bb-eef0-6c726926e431"
      },
      "outputs": [
        {
          "output_type": "stream",
          "name": "stdout",
          "text": [
            "Evaluation \t Proposed point \t  Current eval. \t  Best eval. \t        Exact EI: StdDev. x \t Approx EI: StdDev. x \n",
            "init\t [-1.66025353  0.09265337]\t 1.8632773736203017\t 1.8632773736203017\t    \t    \n",
            "init\t [ 0.30420874 -1.8175922 ]\t 30.24114424375299\t 1.8632773736203017\t    \t    \n",
            "init\t [-0.83562699 -1.10767623]\t 3.922061281476444\t 1.8632773736203017\t    \t    \n",
            "init\t [ 1.13235697 -1.3450743 ]\t 6.7121671493737685\t 1.8632773736203017\t    \t    \n",
            "init\t [-2.5780508   1.76404344]\t 53.42443470756798\t 1.8632773736203017\t    \t    \n",
            "1  \t [ 3.         -0.04378922]\t 108.7609770576423\t 1.8632773736203017\t 1.9087975856071429\t 2.08835013992957\n",
            "2  \t [-3. -2.]\t 162.89999999999998\t 1.8632773736203017\t 1.8461488456194866\t 1.7861234372284738\n",
            "3  \t [0.53255234 2.        ]\t 50.03824175828417\t 1.8632773736203017\t 1.5090977757183406\t 1.4710223583189566\n",
            "4  \t [-0.91745731 -0.01809519]\t 2.093131287996447\t 1.8632773736203017\t 1.5109500784169099\t 1.632840187152938\n",
            "5  \t [-1.03036552 -0.06609219]\t 2.329255444267561\t 1.8632773736203017\t 1.6309013835379436\t 1.6080695574282675\n",
            "6  \t [-1.07315926 -0.0768716 ]\t 2.3895267258174884\t 1.8632773736203017\t 1.6565065341010343\t 1.6528473605298055\n",
            "7  \t [ 2.26353565 -2.        ]\t 53.67327224783114\t 1.8632773736203017\t 1.305330080934977\t 1.3594276813541937\n",
            "\u001b[1m\u001b[92m8\u001b[0m\t \u001b[1m\u001b[92m[-0.79239277 -0.15246141]\u001b[0m\t \u001b[1m\u001b[92m1.7961441601366583\u001b[0m\t \u001b[1m\u001b[92m1.7961441601366583\u001b[0m\t \u001b[1m\u001b[92m1.3342250163970013\u001b[0m\t \u001b[1m\u001b[92m1.331564608843202\u001b[0m\n",
            "9  \t [-0.79761751 -0.15150891]\t 1.8117812887984803\t 1.7961441601366583\t 1.547714434156951\t 1.5430733578903377\n",
            "10 \t [-0.80177945 -0.15073975]\t 1.824151929979035\t 1.7961441601366583\t 1.5613536380482451\t 1.5625600915317923\n",
            "11 \t [-0.80488239 -0.15016273]\t 1.8333234755027352\t 1.7961441601366583\t 1.574330868542194\t 1.5635952244308262\n",
            "12 \t [-0.80728948 -0.14971326]\t 1.840407515471004\t 1.7961441601366583\t 1.6153798820002672\t 1.6172177195816595\n",
            "13 \t [-0.80921085 -0.14935335]\t 1.8460425131416829\t 1.7961441601366583\t 1.251245080744697\t 1.2555335053384729\n",
            "14 \t [-0.81078088 -0.14905899]\t 1.8506339877463578\t 1.7961441601366583\t 1.1752653576677126\t 1.1663240947052178\n",
            "15 \t [-0.81208797 -0.14881391]\t 1.854447346637407\t 1.7961441601366583\t 1.3300098693224998\t 1.2960821619075271\n",
            "16 \t [-0.81319279 -0.14860691]\t 1.85766404256825\t 1.7961441601366583\t 1.2934105602373327\t 1.287981708931104\n",
            "17 \t [-0.81413891 -0.14842989]\t 1.8604138395865089\t 1.7961441601366583\t 1.5729917371742677\t 1.5708511879524616\n",
            "18 \t [-0.81495784 -0.14827692]\t 1.8627903334896532\t 1.7961441601366583\t 1.4223835413396264\t 1.4177012179513198\n",
            "19 \t [-0.81567375 -0.14814344]\t 1.8648650809889218\t 1.7961441601366583\t 1.2829154438293173\t 1.2767413340816516\n",
            "20 \t [-0.81630447 -0.1480261 ]\t 1.86669075981431\t 1.7961441601366583\t 1.5195089147575145\t 1.518295588312574\n"
          ]
        }
      ],
      "source": [
        "### ESTIMATED GP EI GRADIENTS\n",
        "\n",
        "np.random.seed(run_num_16)\n",
        "surrogate_approx_16 = dGaussianProcess(cov_func, optimize=opt)\n",
        "\n",
        "approx_16 = GPGO_multi(surrogate_approx_16, Acquisition_grad(util), objfunc, param)\n",
        "approx_16.run(init_evals=n_init, max_iter=iters)\n"
      ]
    },
    {
      "cell_type": "code",
      "execution_count": 29,
      "metadata": {
        "id": "Yrs2mp7hGC1Z",
        "colab": {
          "base_uri": "https://localhost:8080/"
        },
        "outputId": "8def7a61-92fa-4141-e84d-91eaebbf66fd"
      },
      "outputs": [
        {
          "output_type": "stream",
          "name": "stdout",
          "text": [
            "Evaluation \t Proposed point \t  Current eval. \t  Best eval. \t        Exact EI: StdDev. x \t Approx EI: StdDev. x \n",
            "init\t [-1.23200998  0.12234702]\t 2.189206652278967\t 1.7722768782964888\t    \t    \n",
            "init\t [-1.85087528 -1.72839857]\t 29.406067820453675\t 1.7722768782964888\t    \t    \n",
            "init\t [1.72191276 0.62533409]\t 2.2113401446731897\t 1.7722768782964888\t    \t    \n",
            "init\t [0.82512538 0.30241158]\t 1.7722768782964888\t 1.7722768782964888\t    \t    \n",
            "init\t [-2.7656225  -0.56874558]\t 57.5922315952177\t 1.7722768782964888\t    \t    \n",
            "\u001b[1m\u001b[92m1\u001b[0m\t \u001b[1m\u001b[92m[-0.55712466  1.08599903]\u001b[0m\t \u001b[1m\u001b[92m1.2904712864486778\u001b[0m\t \u001b[1m\u001b[92m1.2904712864486778\u001b[0m\t \u001b[1m\u001b[92m1.8475063655280535\u001b[0m\t \u001b[1m\u001b[92m1.7331668124315933\u001b[0m\n",
            "2  \t [ 3. -2.]\t 150.89999999999998\t 1.2904712864486778\t 1.5761781225970999\t 1.9462159326996975\n",
            "3  \t [3. 2.]\t 162.89999999999998\t 1.2904712864486778\t 1.6786783020055558\t 1.7221001906866216\n",
            "4  \t [0.92241907 0.18981443]\t 2.1246079247590357\t 1.2904712864486778\t 1.489847328801347\t 1.6400744912221719\n",
            "5  \t [-1.56013619  2.        ]\t 46.98120007046126\t 1.2904712864486778\t 1.2712885277995019\t 1.6654351494924846\n",
            "\u001b[1m\u001b[92m6\u001b[0m\t \u001b[1m\u001b[92m[-0.26160156  0.25122854]\u001b[0m\t \u001b[1m\u001b[92m-0.038237284416990897\u001b[0m\t \u001b[1m\u001b[92m-0.038237284416990897\u001b[0m\t \u001b[1m\u001b[92m1.4187959995873485\u001b[0m\t \u001b[1m\u001b[92m1.3863863892886734\u001b[0m\n",
            "\u001b[1m\u001b[92m7\u001b[0m\t \u001b[1m\u001b[92m[-0.26130207  0.25259997]\u001b[0m\t \u001b[1m\u001b[92m-0.04151566116204192\u001b[0m\t \u001b[1m\u001b[92m-0.04151566116204192\u001b[0m\t \u001b[1m\u001b[92m1.2162495737434467\u001b[0m\t \u001b[1m\u001b[92m1.1904526106357687\u001b[0m\n",
            "\u001b[1m\u001b[92m8\u001b[0m\t \u001b[1m\u001b[92m[-0.26002564  0.25928054]\u001b[0m\t \u001b[1m\u001b[92m-0.05729154873943998\u001b[0m\t \u001b[1m\u001b[92m-0.05729154873943998\u001b[0m\t \u001b[1m\u001b[92m1.4876482440355123\u001b[0m\t \u001b[1m\u001b[92m1.451738882804164\u001b[0m\n",
            "\u001b[1m\u001b[92m9\u001b[0m\t \u001b[1m\u001b[92m[-0.25931235  0.26293016]\u001b[0m\t \u001b[1m\u001b[92m-0.06601548466027987\u001b[0m\t \u001b[1m\u001b[92m-0.06601548466027987\u001b[0m\t \u001b[1m\u001b[92m1.5404799023090154\u001b[0m\t \u001b[1m\u001b[92m1.5051021679167758\u001b[0m\n",
            "\u001b[1m\u001b[92m10\u001b[0m\t \u001b[1m\u001b[92m[-0.25887202  0.26523228]\u001b[0m\t \u001b[1m\u001b[92m-0.07153022887134963\u001b[0m\t \u001b[1m\u001b[92m-0.07153022887134963\u001b[0m\t \u001b[1m\u001b[92m1.3050100230260868\u001b[0m\t \u001b[1m\u001b[92m1.118723053851265\u001b[0m\n",
            "\u001b[1m\u001b[92m11\u001b[0m\t \u001b[1m\u001b[92m[-0.25858766  0.2667886 ]\u001b[0m\t \u001b[1m\u001b[92m-0.0752483885189022\u001b[0m\t \u001b[1m\u001b[92m-0.0752483885189022\u001b[0m\t \u001b[1m\u001b[92m1.6437491164731193\u001b[0m\t \u001b[1m\u001b[92m1.6235066493583663\u001b[0m\n",
            "\u001b[1m\u001b[92m12\u001b[0m\t \u001b[1m\u001b[92m[-0.25839646  0.26789656]\u001b[0m\t \u001b[1m\u001b[92m-0.07788267262210741\u001b[0m\t \u001b[1m\u001b[92m-0.07788267262210741\u001b[0m\t \u001b[1m\u001b[92m1.3081783695115603\u001b[0m\t \u001b[1m\u001b[92m1.1716484236884153\u001b[0m\n",
            "\u001b[1m\u001b[92m13\u001b[0m\t \u001b[1m\u001b[92m[-0.25826488  0.26871716]\u001b[0m\t \u001b[1m\u001b[92m-0.07982029992967993\u001b[0m\t \u001b[1m\u001b[92m-0.07982029992967993\u001b[0m\t \u001b[1m\u001b[92m1.1788152306466768\u001b[0m\t \u001b[1m\u001b[92m1.0827445109102998\u001b[0m\n",
            "\u001b[1m\u001b[92m14\u001b[0m\t \u001b[1m\u001b[92m[-0.25817155  0.26934457]\u001b[0m\t \u001b[1m\u001b[92m-0.08129159872378439\u001b[0m\t \u001b[1m\u001b[92m-0.08129159872378439\u001b[0m\t \u001b[1m\u001b[92m1.4108101213767779\u001b[0m\t \u001b[1m\u001b[92m1.2811869989741091\u001b[0m\n",
            "\u001b[1m\u001b[92m15\u001b[0m\t \u001b[1m\u001b[92m[-0.25810463  0.26983625]\u001b[0m\t \u001b[1m\u001b[92m-0.08243542339447685\u001b[0m\t \u001b[1m\u001b[92m-0.08243542339447685\u001b[0m\t \u001b[1m\u001b[92m1.2747503861003955\u001b[0m\t \u001b[1m\u001b[92m1.188526323557652\u001b[0m\n",
            "\u001b[1m\u001b[92m16\u001b[0m\t \u001b[1m\u001b[92m[-0.2580553   0.27023025]\u001b[0m\t \u001b[1m\u001b[92m-0.08334566276129352\u001b[0m\t \u001b[1m\u001b[92m-0.08334566276129352\u001b[0m\t \u001b[1m\u001b[92m1.1973503015674014\u001b[0m\t \u001b[1m\u001b[92m1.058402349895755\u001b[0m\n",
            "\u001b[1m\u001b[92m17\u001b[0m\t \u001b[1m\u001b[92m[-0.25801935  0.27055143]\u001b[0m\t \u001b[1m\u001b[92m-0.08408107789891214\u001b[0m\t \u001b[1m\u001b[92m-0.08408107789891214\u001b[0m\t \u001b[1m\u001b[92m1.2350122885306698\u001b[0m\t \u001b[1m\u001b[92m1.084098629221972\u001b[0m\n",
            "\u001b[1m\u001b[92m18\u001b[0m\t \u001b[1m\u001b[92m[-0.25799246  0.27081727]\u001b[0m\t \u001b[1m\u001b[92m-0.08468540093427371\u001b[0m\t \u001b[1m\u001b[92m-0.08468540093427371\u001b[0m\t \u001b[1m\u001b[92m1.306963108848184\u001b[0m\t \u001b[1m\u001b[92m1.3069450789516275\u001b[0m\n",
            "\u001b[1m\u001b[92m19\u001b[0m\t \u001b[1m\u001b[92m[-0.25797275  0.27104021]\u001b[0m\t \u001b[1m\u001b[92m-0.085187712838806\u001b[0m\t \u001b[1m\u001b[92m-0.085187712838806\u001b[0m\t \u001b[1m\u001b[92m1.3600012867424036\u001b[0m\t \u001b[1m\u001b[92m1.1914696981031276\u001b[0m\n",
            "\u001b[1m\u001b[92m20\u001b[0m\t \u001b[1m\u001b[92m[-0.25795808  0.27122934]\u001b[0m\t \u001b[1m\u001b[92m-0.0856106295917669\u001b[0m\t \u001b[1m\u001b[92m-0.0856106295917669\u001b[0m\t \u001b[1m\u001b[92m1.5058483082227112\u001b[0m\t \u001b[1m\u001b[92m1.4649673905372136\u001b[0m\n"
          ]
        }
      ],
      "source": [
        "### ESTIMATED GP EI GRADIENTS\n",
        "\n",
        "np.random.seed(run_num_17)\n",
        "surrogate_approx_17 = dGaussianProcess(cov_func, optimize=opt)\n",
        "\n",
        "approx_17 = GPGO_multi(surrogate_approx_17, Acquisition_grad(util), objfunc, param)\n",
        "approx_17.run(init_evals=n_init, max_iter=iters)\n"
      ]
    },
    {
      "cell_type": "code",
      "execution_count": 30,
      "metadata": {
        "id": "f0HIEP3PIUEa",
        "colab": {
          "base_uri": "https://localhost:8080/"
        },
        "outputId": "8d80f14e-6e4a-4189-a287-058a571aa882"
      },
      "outputs": [
        {
          "output_type": "stream",
          "name": "stdout",
          "text": [
            "Evaluation \t Proposed point \t  Current eval. \t  Best eval. \t        Exact EI: StdDev. x \t Approx EI: StdDev. x \n",
            "init\t [0.90224545 0.02181349]\t 2.062169771852028\t 2.062169771852028\t    \t    \n",
            "init\t [ 2.27160883 -1.2726391 ]\t 11.64729291207819\t 2.062169771852028\t    \t    \n",
            "init\t [2.11339841 1.00054514]\t 7.792128760671214\t 2.062169771852028\t    \t    \n",
            "init\t [0.99661    1.95158179]\t 46.96206222999227\t 2.062169771852028\t    \t    \n",
            "init\t [-1.45818946 -1.8867763 ]\t 41.4190528039297\t 2.062169771852028\t    \t    \n",
            "1  \t [-3.  2.]\t 150.89999999999998\t 2.062169771852028\t 1.5736723200128686\t 1.903386920817331\n",
            "\u001b[1m\u001b[92m2\u001b[0m\t \u001b[1m\u001b[92m[ 0.51933718 -0.47021367]\u001b[0m\t \u001b[1m\u001b[92m-0.0004387791505781058\u001b[0m\t \u001b[1m\u001b[92m-0.0004387791505781058\u001b[0m\t \u001b[1m\u001b[92m1.3196260131879207\u001b[0m\t \u001b[1m\u001b[92m1.4723520687035303\u001b[0m\n",
            "\u001b[1m\u001b[92m3\u001b[0m\t \u001b[1m\u001b[92m[ 0.46722715 -0.47742819]\u001b[0m\t \u001b[1m\u001b[92m-0.15039958734018488\u001b[0m\t \u001b[1m\u001b[92m-0.15039958734018488\u001b[0m\t \u001b[1m\u001b[92m1.5161322425605213\u001b[0m\t \u001b[1m\u001b[92m1.3411464123298895\u001b[0m\n",
            "\u001b[1m\u001b[92m4\u001b[0m\t \u001b[1m\u001b[92m[ 0.44976542 -0.47473192]\u001b[0m\t \u001b[1m\u001b[92m-0.1858510183284554\u001b[0m\t \u001b[1m\u001b[92m-0.1858510183284554\u001b[0m\t \u001b[1m\u001b[92m1.5105336280106982\u001b[0m\t \u001b[1m\u001b[92m1.517632858949149\u001b[0m\n",
            "\u001b[1m\u001b[92m5\u001b[0m\t \u001b[1m\u001b[92m[ 0.44009002 -0.47280303]\u001b[0m\t \u001b[1m\u001b[92m-0.2039971659151858\u001b[0m\t \u001b[1m\u001b[92m-0.2039971659151858\u001b[0m\t \u001b[1m\u001b[92m1.4734375755942248\u001b[0m\t \u001b[1m\u001b[92m1.412192963113461\u001b[0m\n",
            "\u001b[1m\u001b[92m6\u001b[0m\t \u001b[1m\u001b[92m[ 0.43358498 -0.47135969]\u001b[0m\t \u001b[1m\u001b[92m-0.2156592800569721\u001b[0m\t \u001b[1m\u001b[92m-0.2156592800569721\u001b[0m\t \u001b[1m\u001b[92m1.368315732909851\u001b[0m\t \u001b[1m\u001b[92m1.249523417082427\u001b[0m\n",
            "\u001b[1m\u001b[92m7\u001b[0m\t \u001b[1m\u001b[92m[ 0.42877891 -0.47018936]\u001b[0m\t \u001b[1m\u001b[92m-0.22392331783558928\u001b[0m\t \u001b[1m\u001b[92m-0.22392331783558928\u001b[0m\t \u001b[1m\u001b[92m1.5754103366271874\u001b[0m\t \u001b[1m\u001b[92m1.5000407642965783\u001b[0m\n",
            "\u001b[1m\u001b[92m8\u001b[0m\t \u001b[1m\u001b[92m[ 0.42501526 -0.46919433]\u001b[0m\t \u001b[1m\u001b[92m-0.23014222543693708\u001b[0m\t \u001b[1m\u001b[92m-0.23014222543693708\u001b[0m\t \u001b[1m\u001b[92m1.3756171427175323\u001b[0m\t \u001b[1m\u001b[92m1.530048723019633\u001b[0m\n",
            "\u001b[1m\u001b[92m9\u001b[0m\t \u001b[1m\u001b[92m[ 0.42194779 -0.46832243]\u001b[0m\t \u001b[1m\u001b[92m-0.2350211311973034\u001b[0m\t \u001b[1m\u001b[92m-0.2350211311973034\u001b[0m\t \u001b[1m\u001b[92m1.6156633372132043\u001b[0m\t \u001b[1m\u001b[92m1.5245091669832838\u001b[0m\n",
            "\u001b[1m\u001b[92m10\u001b[0m\t \u001b[1m\u001b[92m[ 0.41937281 -0.4675424 ]\u001b[0m\t \u001b[1m\u001b[92m-0.23897009313130135\u001b[0m\t \u001b[1m\u001b[92m-0.23897009313130135\u001b[0m\t \u001b[1m\u001b[92m1.6633918311718927\u001b[0m\t \u001b[1m\u001b[92m1.5996435290073985\u001b[0m\n",
            "\u001b[1m\u001b[92m11\u001b[0m\t \u001b[1m\u001b[92m[ 0.41716297 -0.46683389]\u001b[0m\t \u001b[1m\u001b[92m-0.24224191344149998\u001b[0m\t \u001b[1m\u001b[92m-0.24224191344149998\u001b[0m\t \u001b[1m\u001b[92m1.6421431236822226\u001b[0m\t \u001b[1m\u001b[92m1.5867548774683675\u001b[0m\n",
            "\u001b[1m\u001b[92m12\u001b[0m\t \u001b[1m\u001b[92m[ 0.41523253 -0.46618395]\u001b[0m\t \u001b[1m\u001b[92m-0.24500772352878908\u001b[0m\t \u001b[1m\u001b[92m-0.24500772352878908\u001b[0m\t \u001b[1m\u001b[92m1.2843814437715062\u001b[0m\t \u001b[1m\u001b[92m1.4565487355362388\u001b[0m\n",
            "\u001b[1m\u001b[92m13\u001b[0m\t \u001b[1m\u001b[92m[ 0.41352324 -0.46558186]\u001b[0m\t \u001b[1m\u001b[92m-0.2473784824809363\u001b[0m\t \u001b[1m\u001b[92m-0.2473784824809363\u001b[0m\t \u001b[1m\u001b[92m1.4144539269251906\u001b[0m\t \u001b[1m\u001b[92m1.2188983456269356\u001b[0m\n",
            "\u001b[1m\u001b[92m14\u001b[0m\t \u001b[1m\u001b[92m[ 0.41199086 -0.46502019]\u001b[0m\t \u001b[1m\u001b[92m-0.24943973873780606\u001b[0m\t \u001b[1m\u001b[92m-0.24943973873780606\u001b[0m\t \u001b[1m\u001b[92m1.3132421649703987\u001b[0m\t \u001b[1m\u001b[92m1.4125776509472108\u001b[0m\n",
            "\u001b[1m\u001b[92m15\u001b[0m\t \u001b[1m\u001b[92m[ 0.41060473 -0.46449317]\u001b[0m\t \u001b[1m\u001b[92m-0.2512491712197713\u001b[0m\t \u001b[1m\u001b[92m-0.2512491712197713\u001b[0m\t \u001b[1m\u001b[92m1.4315680343688926\u001b[0m\t \u001b[1m\u001b[92m1.412597395532167\u001b[0m\n",
            "\u001b[1m\u001b[92m16\u001b[0m\t \u001b[1m\u001b[92m[ 0.40934023 -0.46399642]\u001b[0m\t \u001b[1m\u001b[92m-0.2528534764923212\u001b[0m\t \u001b[1m\u001b[92m-0.2528534764923212\u001b[0m\t \u001b[1m\u001b[92m1.3142929219254282\u001b[0m\t \u001b[1m\u001b[92m1.4000323915307378\u001b[0m\n",
            "\u001b[1m\u001b[92m17\u001b[0m\t \u001b[1m\u001b[92m[ 0.40817751 -0.46352569]\u001b[0m\t \u001b[1m\u001b[92m-0.2542882535194001\u001b[0m\t \u001b[1m\u001b[92m-0.2542882535194001\u001b[0m\t \u001b[1m\u001b[92m1.832861549567536\u001b[0m\t \u001b[1m\u001b[92m1.6839162649959678\u001b[0m\n",
            "\u001b[1m\u001b[92m18\u001b[0m\t \u001b[1m\u001b[92m[ 0.40710413 -0.46307897]\u001b[0m\t \u001b[1m\u001b[92m-0.2555777740319958\u001b[0m\t \u001b[1m\u001b[92m-0.2555777740319958\u001b[0m\t \u001b[1m\u001b[92m1.488484816615101\u001b[0m\t \u001b[1m\u001b[92m1.4845689327819998\u001b[0m\n",
            "\u001b[1m\u001b[92m19\u001b[0m\t \u001b[1m\u001b[92m[ 0.40610603 -0.46265285]\u001b[0m\t \u001b[1m\u001b[92m-0.2567459898706339\u001b[0m\t \u001b[1m\u001b[92m-0.2567459898706339\u001b[0m\t \u001b[1m\u001b[92m1.401263062983463\u001b[0m\t \u001b[1m\u001b[92m1.3189484903320938\u001b[0m\n",
            "\u001b[1m\u001b[92m20\u001b[0m\t \u001b[1m\u001b[92m[ 0.40517403 -0.46224517]\u001b[0m\t \u001b[1m\u001b[92m-0.2578088534457341\u001b[0m\t \u001b[1m\u001b[92m-0.2578088534457341\u001b[0m\t \u001b[1m\u001b[92m1.4102775601935686\u001b[0m\t \u001b[1m\u001b[92m1.4244772402721178\u001b[0m\n"
          ]
        }
      ],
      "source": [
        "### ESTIMATED GP EI GRADIENTS\n",
        "\n",
        "np.random.seed(run_num_18)\n",
        "surrogate_approx_18 = dGaussianProcess(cov_func, optimize=opt)\n",
        "\n",
        "approx_18 = GPGO_multi(surrogate_approx_18, Acquisition_grad(util), objfunc, param)\n",
        "approx_18.run(init_evals=n_init, max_iter=iters)\n"
      ]
    },
    {
      "cell_type": "code",
      "execution_count": 31,
      "metadata": {
        "id": "S3mxRQDLIUPC",
        "colab": {
          "base_uri": "https://localhost:8080/"
        },
        "outputId": "401c2dfd-c512-4299-bef8-5e43827359f2"
      },
      "outputs": [
        {
          "output_type": "stream",
          "name": "stdout",
          "text": [
            "Evaluation \t Proposed point \t  Current eval. \t  Best eval. \t        Exact EI: StdDev. x \t Approx EI: StdDev. x \n",
            "init\t [-2.41479839  1.04499887]\t 15.890475442873509\t 6.578088852480828\t    \t    \n",
            "init\t [-1.51837216 -1.44747325]\t 13.520839509777993\t 6.578088852480828\t    \t    \n",
            "init\t [-1.01132062 -1.66800174]\t 23.772158573571232\t 6.578088852480828\t    \t    \n",
            "init\t [1.03186249 1.22637519]\t 6.578088852480828\t 6.578088852480828\t    \t    \n",
            "init\t [2.89645149 0.54264294]\t 83.31828503667734\t 6.578088852480828\t    \t    \n",
            "1  \t [-0.04594902  2.        ]\t 47.916537858903055\t 6.578088852480828\t 1.802734884445024\t 2.008826734194486\n",
            "2  \t [ 1.6626862 -2.       ]\t 46.725988988445636\t 6.578088852480828\t 2.0456992470228412\t 2.1616891517021726\n",
            "3  \t [-3. -2.]\t 162.89999999999998\t 6.578088852480828\t 1.4270999028333438\t 1.6282661338758833\n",
            "\u001b[1m\u001b[92m4\u001b[0m\t \u001b[1m\u001b[92m[-0.30754482 -0.24340017]\u001b[0m\t \u001b[1m\u001b[92m0.21175163798172386\u001b[0m\t \u001b[1m\u001b[92m0.21175163798172386\u001b[0m\t \u001b[1m\u001b[92m1.3966128840599505\u001b[0m\t \u001b[1m\u001b[92m1.397180114910923\u001b[0m\n",
            "\u001b[1m\u001b[92m5\u001b[0m\t \u001b[1m\u001b[92m[-0.23874691 -0.2198156 ]\u001b[0m\t \u001b[1m\u001b[92m0.08978273567635284\u001b[0m\t \u001b[1m\u001b[92m0.08978273567635284\u001b[0m\t \u001b[1m\u001b[92m1.337482612492186\u001b[0m\t \u001b[1m\u001b[92m1.3111913589864514\u001b[0m\n",
            "\u001b[1m\u001b[92m6\u001b[0m\t \u001b[1m\u001b[92m[-0.21242247 -0.21285343]\u001b[0m\t \u001b[1m\u001b[92m0.04844727516002503\u001b[0m\t \u001b[1m\u001b[92m0.04844727516002503\u001b[0m\t \u001b[1m\u001b[92m1.5072189222480665\u001b[0m\t \u001b[1m\u001b[92m1.5063545414578414\u001b[0m\n",
            "\u001b[1m\u001b[92m7\u001b[0m\t \u001b[1m\u001b[92m[-0.19619434 -0.20899811]\u001b[0m\t \u001b[1m\u001b[92m0.024791679441103248\u001b[0m\t \u001b[1m\u001b[92m0.024791679441103248\u001b[0m\t \u001b[1m\u001b[92m1.2622029631377611\u001b[0m\t \u001b[1m\u001b[92m1.2516592355360316\u001b[0m\n",
            "\u001b[1m\u001b[92m8\u001b[0m\t \u001b[1m\u001b[92m[-0.18465448 -0.20646008]\u001b[0m\t \u001b[1m\u001b[92m0.008849351802870109\u001b[0m\t \u001b[1m\u001b[92m0.008849351802870109\u001b[0m\t \u001b[1m\u001b[92m1.436899679469683\u001b[0m\t \u001b[1m\u001b[92m1.436975633869163\u001b[0m\n",
            "\u001b[1m\u001b[92m9\u001b[0m\t \u001b[1m\u001b[92m[-0.1757829  -0.20461964]\u001b[0m\t \u001b[1m\u001b[92m-0.002892745065521507\u001b[0m\t \u001b[1m\u001b[92m-0.002892745065521507\u001b[0m\t \u001b[1m\u001b[92m1.4944818520612164\u001b[0m\t \u001b[1m\u001b[92m1.4576562886682094\u001b[0m\n",
            "\u001b[1m\u001b[92m10\u001b[0m\t \u001b[1m\u001b[92m[-0.16860723 -0.20320088]\u001b[0m\t \u001b[1m\u001b[92m-0.012057507130662254\u001b[0m\t \u001b[1m\u001b[92m-0.012057507130662254\u001b[0m\t \u001b[1m\u001b[92m1.625719188305415\u001b[0m\t \u001b[1m\u001b[92m1.6248417858643767\u001b[0m\n",
            "\u001b[1m\u001b[92m11\u001b[0m\t \u001b[1m\u001b[92m[-0.16262073 -0.20205905]\u001b[0m\t \u001b[1m\u001b[92m-0.019465287300401923\u001b[0m\t \u001b[1m\u001b[92m-0.019465287300401923\u001b[0m\t \u001b[1m\u001b[92m1.209784044270933\u001b[0m\t \u001b[1m\u001b[92m1.158323592731488\u001b[0m\n",
            "\u001b[1m\u001b[92m12\u001b[0m\t \u001b[1m\u001b[92m[-0.15748151 -0.20111055]\u001b[0m\t \u001b[1m\u001b[92m-0.025652113955616285\u001b[0m\t \u001b[1m\u001b[92m-0.025652113955616285\u001b[0m\t \u001b[1m\u001b[92m1.4132845767073094\u001b[0m\t \u001b[1m\u001b[92m1.3917499159344657\u001b[0m\n",
            "\u001b[1m\u001b[92m13\u001b[0m\t \u001b[1m\u001b[92m[-0.15298808 -0.20030337]\u001b[0m\t \u001b[1m\u001b[92m-0.030927522282454628\u001b[0m\t \u001b[1m\u001b[92m-0.030927522282454628\u001b[0m\t \u001b[1m\u001b[92m1.4859086011557918\u001b[0m\t \u001b[1m\u001b[92m1.4361532683239715\u001b[0m\n",
            "\u001b[1m\u001b[92m14\u001b[0m\t \u001b[1m\u001b[92m[-0.14900072 -0.19960353]\u001b[0m\t \u001b[1m\u001b[92m-0.03550236728327108\u001b[0m\t \u001b[1m\u001b[92m-0.03550236728327108\u001b[0m\t \u001b[1m\u001b[92m1.3267822612768667\u001b[0m\t \u001b[1m\u001b[92m1.2948710767911322\u001b[0m\n",
            "\u001b[1m\u001b[92m15\u001b[0m\t \u001b[1m\u001b[92m[-0.14541806 -0.19898736]\u001b[0m\t \u001b[1m\u001b[92m-0.03952642091736344\u001b[0m\t \u001b[1m\u001b[92m-0.03952642091736344\u001b[0m\t \u001b[1m\u001b[92m1.4846808889744751\u001b[0m\t \u001b[1m\u001b[92m1.528751628971689\u001b[0m\n",
            "\u001b[1m\u001b[92m16\u001b[0m\t \u001b[1m\u001b[92m[-0.14216703 -0.19843818]\u001b[0m\t \u001b[1m\u001b[92m-0.043106303881952454\u001b[0m\t \u001b[1m\u001b[92m-0.043106303881952454\u001b[0m\t \u001b[1m\u001b[92m1.2597518697302654\u001b[0m\t \u001b[1m\u001b[92m1.1524327363096196\u001b[0m\n",
            "\u001b[1m\u001b[92m17\u001b[0m\t \u001b[1m\u001b[92m[-0.13919071 -0.1979432 ]\u001b[0m\t \u001b[1m\u001b[92m-0.04632301854827396\u001b[0m\t \u001b[1m\u001b[92m-0.04632301854827396\u001b[0m\t \u001b[1m\u001b[92m1.322945169330879\u001b[0m\t \u001b[1m\u001b[92m1.275665344264342\u001b[0m\n",
            "\u001b[1m\u001b[92m18\u001b[0m\t \u001b[1m\u001b[92m[-0.13644841 -0.19749373]\u001b[0m\t \u001b[1m\u001b[92m-0.049235318499777886\u001b[0m\t \u001b[1m\u001b[92m-0.049235318499777886\u001b[0m\t \u001b[1m\u001b[92m1.4880863910054274\u001b[0m\t \u001b[1m\u001b[92m1.464457849499622\u001b[0m\n",
            "\u001b[1m\u001b[92m19\u001b[0m\t \u001b[1m\u001b[92m[-0.13390426 -0.19708187]\u001b[0m\t \u001b[1m\u001b[92m-0.05189220377319537\u001b[0m\t \u001b[1m\u001b[92m-0.05189220377319537\u001b[0m\t \u001b[1m\u001b[92m1.2254703773729863\u001b[0m\t \u001b[1m\u001b[92m1.1848448213675604\u001b[0m\n",
            "\u001b[1m\u001b[92m20\u001b[0m\t \u001b[1m\u001b[92m[-0.13153214 -0.19670233]\u001b[0m\t \u001b[1m\u001b[92m-0.05433034543529251\u001b[0m\t \u001b[1m\u001b[92m-0.05433034543529251\u001b[0m\t \u001b[1m\u001b[92m1.231607299352217\u001b[0m\t \u001b[1m\u001b[92m1.1566963253584708\u001b[0m\n"
          ]
        }
      ],
      "source": [
        "### ESTIMATED GP EI GRADIENTS\n",
        "\n",
        "np.random.seed(run_num_19)\n",
        "surrogate_approx_19 = dGaussianProcess(cov_func, optimize=opt)\n",
        "\n",
        "approx_19 = GPGO_multi(surrogate_approx_19, Acquisition_grad(util), objfunc, param)\n",
        "approx_19.run(init_evals=n_init, max_iter=iters)\n"
      ]
    },
    {
      "cell_type": "code",
      "execution_count": 32,
      "metadata": {
        "id": "Aawd59dRIUYn",
        "colab": {
          "base_uri": "https://localhost:8080/"
        },
        "outputId": "cf9bc528-72d9-4440-c598-9807862021aa"
      },
      "outputs": [
        {
          "output_type": "stream",
          "name": "stdout",
          "text": [
            "Evaluation \t Proposed point \t  Current eval. \t  Best eval. \t        Exact EI: StdDev. x \t Approx EI: StdDev. x \n",
            "init\t [0.52878481 1.59085491]\t 17.29968374481291\t 1.5037392797834441\t    \t    \n",
            "init\t [2.34918438 1.26334991]\t 20.91583049569433\t 1.5037392797834441\t    \t    \n",
            "init\t [-2.78466249  0.76703033]\t 57.06253405225224\t 1.5037392797834441\t    \t    \n",
            "init\t [-0.72791435  0.07404378]\t 1.5037392797834441\t 1.5037392797834441\t    \t    \n",
            "init\t [ 0.94770879 -1.22459913]\t 3.9766737661914173\t 1.5037392797834441\t    \t    \n",
            "1  \t [-1.16287628 -2.        ]\t 52.71897154250457\t 1.5037392797834441\t 1.3239021933320114\t 1.4180856387988787\n",
            "2  \t [ 3. -2.]\t 150.89999999999998\t 1.5037392797834441\t 1.42611185225855\t 2.015310389833849\n",
            "\u001b[1m\u001b[92m3\u001b[0m\t \u001b[1m\u001b[92m[ 0.44491632 -0.32008893]\u001b[0m\t \u001b[1m\u001b[92m0.2018495674177776\u001b[0m\t \u001b[1m\u001b[92m0.2018495674177776\u001b[0m\t \u001b[1m\u001b[92m1.4248196601796814\u001b[0m\t \u001b[1m\u001b[92m1.4158191243120724\u001b[0m\n",
            "4  \t [ 0.44440557 -0.31347918]\t 0.21688159575915594\t 0.2018495674177776\t 1.567531999408363\t 1.5308636516202778\n",
            "5  \t [ 0.44473352 -0.31307705]\t 0.21870336094154053\t 0.2018495674177776\t 1.3681113178611402\t 1.3414781318727707\n",
            "6  \t [ 0.44492254 -0.3128241 ]\t 0.21980544163944155\t 0.2018495674177776\t 1.6471292464634117\t 1.6394772781206486\n",
            "7  \t [ 0.4450435  -0.31265081]\t 0.22053878434348184\t 0.2018495674177776\t 1.6704377455233512\t 1.6310491019643851\n",
            "8  \t [ 0.44512847 -0.3125244 ]\t 0.2210654051978272\t 0.2018495674177776\t 1.4271783428364757\t 1.3724985447632996\n",
            "9  \t [ 0.44519106 -0.31242814]\t 0.22146103713585902\t 0.2018495674177776\t 1.4945937634852915\t 1.4756355181719814\n",
            "10 \t [ 0.44523934 -0.31235254]\t 0.22176954642133256\t 0.2018495674177776\t 1.4451643147201227\t 1.4536487893989003\n",
            "11 \t [ 0.44527737 -0.31229142]\t 0.2220163982760192\t 0.2018495674177776\t 1.485620025423769\t 1.447055506635609\n",
            "12 \t [ 0.44530838 -0.3122411 ]\t 0.22221886291511833\t 0.2018495674177776\t 1.6376538767892317\t 1.6131510338733113\n",
            "13 \t [ 0.44533414 -0.31219888]\t 0.22238808621305395\t 0.2018495674177776\t 1.7707549690036808\t 1.7124745995472512\n",
            "14 \t [ 0.44535562 -0.31216311]\t 0.2225305534040421\t 0.2018495674177776\t 1.3110851878837007\t 1.3326929256031435\n",
            "15 \t [ 0.44537418 -0.31213233]\t 0.22265336481447923\t 0.2018495674177776\t 1.2380233241450402\t 1.1973065120210096\n",
            "16 \t [ 0.44539014 -0.31210552]\t 0.22275981084888785\t 0.2018495674177776\t 1.3685596811447513\t 1.3086392840336716\n",
            "17 \t [ 0.44540413 -0.31208199]\t 0.2228531848117588\t 0.2018495674177776\t 1.3755846703631394\t 1.3335436245115457\n",
            "18 \t [ 0.44541626 -0.31206115]\t 0.22293523464185894\t 0.2018495674177776\t 1.3782856414554419\t 1.3649677368041284\n",
            "19 \t [ 0.44542718 -0.31204265]\t 0.2230084361374502\t 0.2018495674177776\t 1.496790518025549\t 1.4982591322414354\n",
            "20 \t [ 0.44543705 -0.31202611]\t 0.22307415820092658\t 0.2018495674177776\t 1.1990320818218296\t 1.0971435786042663\n"
          ]
        }
      ],
      "source": [
        "### ESTIMATED GP EI GRADIENTS\n",
        "\n",
        "np.random.seed(run_num_20)\n",
        "surrogate_approx_20 = dGaussianProcess(cov_func, optimize=opt)\n",
        "\n",
        "approx_20 = GPGO_multi(surrogate_approx_20, Acquisition_grad(util), objfunc, param)\n",
        "approx_20.run(init_evals=n_init, max_iter=iters)\n"
      ]
    },
    {
      "cell_type": "code",
      "execution_count": 33,
      "metadata": {
        "id": "xkgzPRbBTHaq",
        "colab": {
          "base_uri": "https://localhost:8080/"
        },
        "outputId": "d06d1e64-ad30-4813-b8e5-78a14636d67b"
      },
      "outputs": [
        {
          "output_type": "execute_result",
          "data": {
            "text/plain": [
              "1659613158.5285084"
            ]
          },
          "metadata": {},
          "execution_count": 33
        }
      ],
      "source": [
        "end_approx = time.time()\n",
        "end_approx\n",
        "\n",
        "time_approx = end_approx - start_approx\n",
        "time_approx\n",
        "\n",
        "start_exact = time.time()\n",
        "start_exact"
      ]
    },
    {
      "cell_type": "code",
      "execution_count": 34,
      "metadata": {
        "id": "7CG3Ndvb16Rb",
        "colab": {
          "base_uri": "https://localhost:8080/"
        },
        "outputId": "bb9cd756-3212-4ebd-a282-2f46b0516042"
      },
      "outputs": [
        {
          "output_type": "stream",
          "name": "stdout",
          "text": [
            "Evaluation \t Proposed point \t  Current eval. \t  Best eval. \t        Exact EI: StdDev. x \t Approx EI: StdDev. x \n",
            "init\t [-0.49786797  0.88129797]\t -0.2650082867644827\t -0.2650082867644827\t    \t    \n",
            "init\t [-2.99931375 -0.79066971]\t 110.13991869176735\t -0.2650082867644827\t    \t    \n",
            "init\t [-2.11946466 -1.63064562]\t 26.90935479429681\t -0.2650082867644827\t    \t    \n",
            "init\t [-1.88243873 -0.61775709]\t 2.8558363102363344\t -0.2650082867644827\t    \t    \n",
            "init\t [-0.61939515  0.15526694]\t 1.0540522096005847\t -0.2650082867644827\t    \t    \n",
            "1  \t [-1.0222508  -0.56767233]\t 1.9738149569435763\t -0.2650082867644827\t 1.6259849529408084\t 1.7035230032707442\n",
            "2  \t [-1.26808267 -0.11971967]\t 2.4833208094638186\t -0.2650082867644827\t 1.4607354264475703\t 1.5349363414405452\n",
            "3  \t [-0.4682545   1.65874906]\t 19.278966809435275\t -0.2650082867644827\t 1.625637030267677\t 1.7129951817249094\n",
            "4  \t [0.57640459 0.14873338]\t 1.108587133549329\t -0.2650082867644827\t 1.8473784057474754\t 1.8799547720491965\n",
            "5  \t [3. 2.]\t 162.89999999999998\t -0.2650082867644827\t 1.6362904981338044\t 1.9999362365084807\n",
            "6  \t [ 1.62245446 -2.        ]\t 46.81311522637849\t -0.2650082867644827\t 1.2187133639280403\t 2.0939780988200214\n",
            "7  \t [-2.33577482  1.41142395]\t 18.056485514077938\t -0.2650082867644827\t 1.4979845069430335\t 1.8438520828591078\n",
            "8  \t [1.55140561 0.11333102]\t 2.234925791924943\t -0.2650082867644827\t 1.5904801019628174\t 1.63722747480619\n",
            "9  \t [-0.41362527 -1.2419735 ]\t 4.485466378560737\t -0.2650082867644827\t 1.5081994436610662\t 1.502324502744195\n",
            "10 \t [ 3.         -0.44634136]\t 106.922848880709\t -0.2650082867644827\t 1.5544819729742247\t 1.5786853020211145\n",
            "11 \t [-0.55435427 -0.23061508]\t 0.9670105495804036\t -0.2650082867644827\t 1.3380672702043204\t 1.2784811274921597\n",
            "12 \t [0.45618444 0.19746525]\t 0.6846677700569301\t -0.2650082867644827\t 1.4716616366081297\t 1.4064756067006592\n",
            "13 \t [0.39398071 0.21868707]\t 0.4755443561854027\t -0.2650082867644827\t 1.1384173815548202\t 1.1057703837169142\n",
            "14 \t [-0.74257473 -0.1075505 ]\t 1.6571600856276385\t -0.2650082867644827\t 1.4107588346680575\t 1.3585547354689873\n",
            "15 \t [0.50775251 0.19471017]\t 0.8503467276613129\t -0.2650082867644827\t 1.3216111426892774\t 1.281492923220466\n",
            "16 \t [0.58529281 0.12169625]\t 1.1500959800437498\t -0.2650082867644827\t 1.3219022712807804\t 1.3737124133953822\n",
            "17 \t [0.50995867 0.18465468]\t 0.8664981540565704\t -0.2650082867644827\t 1.4212223260822312\t 1.397965813050444\n",
            "18 \t [0.57359396 0.12622587]\t 1.1102776349442653\t -0.2650082867644827\t 1.4300064996455308\t 1.3831945744664642\n",
            "19 \t [-0.638635   -0.28383212]\t 1.1896906856821603\t -0.2650082867644827\t 1.6009286963104195\t 1.588507273500127\n",
            "20 \t [-0.76975354 -0.09851442]\t 1.7395419122741436\t -0.2650082867644827\t 1.5130500552136763\t 1.5066868810177187\n"
          ]
        }
      ],
      "source": [
        "### EXACT GP EI GRADIENTS\n",
        "\n",
        "np.random.seed(run_num_1)\n",
        "surrogate_exact_1 = dGaussianProcess(cov_func, optimize=opt)\n",
        "\n",
        "exact_1 = dGPGO(surrogate_exact_1, Acquisition_grad(util), objfunc, param)\n",
        "exact_1.run(init_evals=n_init, max_iter=iters)\n"
      ]
    },
    {
      "cell_type": "code",
      "execution_count": 35,
      "metadata": {
        "id": "-ilCPSAu9SAg",
        "colab": {
          "base_uri": "https://localhost:8080/"
        },
        "outputId": "add76f73-645e-4f20-f7a3-9909d0a4b2c5"
      },
      "outputs": [
        {
          "output_type": "stream",
          "name": "stdout",
          "text": [
            "Evaluation \t Proposed point \t  Current eval. \t  Best eval. \t        Exact EI: StdDev. x \t Approx EI: StdDev. x \n",
            "init\t [-0.38403059 -1.89629507]\t 38.61280125654363\t 0.011939608840498828\t    \t    \n",
            "init\t [ 0.29797487 -0.25871043]\t 0.011939608840498828\t 0.011939608840498828\t    \t    \n",
            "init\t [-0.47779319 -0.67866072]\t 0.1381453419305213\t 0.011939608840498828\t    \t    \n",
            "init\t [-1.7721082   0.47708387]\t 0.626144759281101\t 0.011939608840498828\t    \t    \n",
            "init\t [-1.20207196 -0.9326909 ]\t 3.0693811601417798\t 0.011939608840498828\t    \t    \n",
            "1  \t [-0.31993922 -0.13822595]\t 0.35705703278801193\t 0.011939608840498828\t 1.803501211220942\t 1.9034947058038223\n",
            "2  \t [ 2.04712486 -0.34678071]\t 3.2819773046713774\t 0.011939608840498828\t 1.4639477227166415\t 1.7149178698682075\n",
            "3  \t [0.87539145 2.        ]\t 51.73283837601235\t 0.011939608840498828\t 2.0231150742119595\t 2.14754184134238\n",
            "4  \t [-3. -2.]\t 162.89999999999998\t 0.011939608840498828\t 1.909414068063048\t 2.340352727451027\n",
            "5  \t [3.         1.37226805]\t 119.66888349229755\t 0.011939608840498828\t 1.7192958460752343\t 2.139072329199044\n",
            "6  \t [-1.21016181  0.32572009]\t 1.6274790665782064\t 0.011939608840498828\t 1.4927281097848757\t 1.78730895537635\n",
            "7  \t [ 2.57822459 -1.73411104]\t 51.37545795641484\t 0.011939608840498828\t 1.4263075133213212\t 1.7158413000885573\n",
            "8  \t [-1.13497412  0.24567019]\t 1.8748246583881507\t 0.011939608840498828\t 1.297640951427121\t 1.4340391503946353\n",
            "9  \t [-2.53093763  1.58874316]\t 38.43452837803527\t 0.011939608840498828\t 1.4323081296226097\t 1.5970193025259847\n",
            "10 \t [-0.76656072 -0.04169767]\t 1.7180026301046591\t 0.011939608840498828\t 1.393588208875942\t 1.3719483068905423\n",
            "11 \t [-0.72677218 -0.06724057]\t 1.6068923860923892\t 0.011939608840498828\t 1.4751115609721037\t 1.4858410602600922\n",
            "12 \t [-0.78299377 -0.04440794]\t 1.7667083925091904\t 0.011939608840498828\t 1.1823984500215212\t 1.1763277898141964\n",
            "\u001b[1m\u001b[92m13\u001b[0m\t \u001b[1m\u001b[92m[-0.00776059 -0.17638189]\u001b[0m\t \u001b[1m\u001b[92m-0.11896108969403411\u001b[0m\t \u001b[1m\u001b[92m-0.11896108969403411\u001b[0m\t \u001b[1m\u001b[92m1.472540031960569\u001b[0m\t \u001b[1m\u001b[92m1.4672940102750556\u001b[0m\n",
            "14 \t [-0.3235518  -0.14196628]\t 0.36305190914853197\t -0.11896108969403411\t 1.5335375595202987\t 1.5417036274704126\n",
            "15 \t [-0.22531248 -0.15205578]\t 0.14160896155349167\t -0.11896108969403411\t 1.4205405566422893\t 1.4027009510521546\n",
            "16 \t [-0.58376693 -0.09294834]\t 1.1524480178219365\t -0.11896108969403411\t 1.3162176790013393\t 1.2708806478393393\n",
            "17 \t [-0.44536759 -0.12143538]\t 0.7093558649292472\t -0.11896108969403411\t 1.4403930648977519\t 1.4260609201733445\n",
            "18 \t [-1.01083452  0.07946213]\t 2.144823303098556\t -0.11896108969403411\t 1.3771339824799413\t 1.3345297849046487\n",
            "19 \t [-0.51267083 -0.10284075]\t 0.9231749634758304\t -0.11896108969403411\t 1.3768657344653727\t 1.3486166794602479\n",
            "20 \t [-0.12180052 -0.14854931]\t -0.009346043698255993\t -0.11896108969403411\t 1.4370149709661868\t 1.3819583436579679\n"
          ]
        }
      ],
      "source": [
        "### EXACT GP EI GRADIENTS\n",
        "\n",
        "np.random.seed(run_num_2)\n",
        "surrogate_exact_2 = dGaussianProcess(cov_func, optimize=opt)\n",
        "\n",
        "exact_2 = dGPGO(surrogate_exact_2, Acquisition_grad(util), objfunc, param)\n",
        "exact_2.run(init_evals=n_init, max_iter=iters)\n"
      ]
    },
    {
      "cell_type": "code",
      "execution_count": 36,
      "metadata": {
        "id": "XieJ158mIvlP",
        "colab": {
          "base_uri": "https://localhost:8080/"
        },
        "outputId": "8db1db0d-a4f0-42a6-d6c7-b88dc5952a8b"
      },
      "outputs": [
        {
          "output_type": "stream",
          "name": "stdout",
          "text": [
            "Evaluation \t Proposed point \t  Current eval. \t  Best eval. \t        Exact EI: StdDev. x \t Approx EI: StdDev. x \n",
            "init\t [0.30478742 0.83259129]\t -0.2431922946563294\t -0.2431922946563294\t    \t    \n",
            "init\t [-1.25457157  0.04331042]\t 2.3313310458730996\t -0.2431922946563294\t    \t    \n",
            "init\t [2.35768173 1.58517236]\t 33.54152175045586\t -0.2431922946563294\t    \t    \n",
            "init\t [-2.24648814 -1.17102849]\t 14.214109412296352\t -0.2431922946563294\t    \t    \n",
            "init\t [-2.69119678 -0.23676063]\t 45.87579771712209\t -0.2431922946563294\t    \t    \n",
            "1  \t [-0.24615031  0.33088407]\t -0.23671242014455512\t -0.2431922946563294\t 1.0744224330334209\t 1.0885109152295513\n",
            "\u001b[1m\u001b[92m2\u001b[0m\t \u001b[1m\u001b[92m[-0.26381503  0.4354689 ]\u001b[0m\t \u001b[1m\u001b[92m-0.4612393470974674\u001b[0m\t \u001b[1m\u001b[92m-0.4612393470974674\u001b[0m\t \u001b[1m\u001b[92m1.2683766897887134\u001b[0m\t \u001b[1m\u001b[92m1.2009806966391312\u001b[0m\n",
            "3  \t [-0.51799266  1.2341212 ]\t 3.4758193603861836\t -0.4612393470974674\t 1.3373928527582413\t 1.1468022653669705\n",
            "4  \t [-0.0673234  -0.21593135]\t -0.14518543952304563\t -0.4612393470974674\t 1.1785167255950022\t 1.1212265582224528\n",
            "5  \t [ 0.05023894 -0.29319294]\t -0.31893773832699984\t -0.4612393470974674\t 1.466200232606793\t 1.7668810849791095\n",
            "6  \t [ 0.12147888 -0.35789422]\t -0.43163102803521386\t -0.4612393470974674\t 1.349956987226285\t 1.9939805923117806\n",
            "7  \t [-0.03575096 -0.17723115]\t -0.11025167395845886\t -0.4612393470974674\t 1.320209843939208\t 2.0414188252355263\n",
            "8  \t [ 2.06216375 -2.        ]\t 48.543590513997486\t -0.4612393470974674\t 1.3896302041975428\t 1.8112103685473475\n",
            "9  \t [-0.12353318 -0.09983315]\t 0.033417337879939335\t -0.4612393470974674\t 1.4166344428830824\t 1.3280140452493785\n",
            "\u001b[1m\u001b[92m10\u001b[0m\t \u001b[1m\u001b[92m[-0.1291267  -0.64417092]\u001b[0m\t \u001b[1m\u001b[92m-0.8217779839685982\u001b[0m\t \u001b[1m\u001b[92m-0.8217779839685982\u001b[0m\t \u001b[1m\u001b[92m1.4401823099288904\u001b[0m\t \u001b[1m\u001b[92m1.3614023074198403\u001b[0m\n",
            "11 \t [-0.29574404  0.05253284]\t 0.30747148064680496\t -0.8217779839685982\t 1.4802656622869175\t 1.5614598642586763\n",
            "12 \t [-0.18041224 -0.4906387 ]\t -0.5146104005958982\t -0.8217779839685982\t 1.4571127330446145\t 1.4959726292468785\n",
            "13 \t [-0.18219109 -0.32370731]\t -0.1857755696749902\t -0.8217779839685982\t 1.5639331304353772\t 1.4853854399948236\n",
            "14 \t [-0.15550354 -0.3062085 ]\t -0.19676942537292705\t -0.8217779839685982\t 1.3426119024095664\t 1.488802684375369\n",
            "15 \t [-0.17353173 -0.5004352 ]\t -0.5454707979070833\t -0.8217779839685982\t 1.3640917459293347\t 1.6515790266223367\n",
            "16 \t [-0.24535882 -0.85183965]\t -0.3540907995078644\t -0.8217779839685982\t 1.489032475010502\t 1.5624202028896728\n",
            "17 \t [-0.19474464 -0.20591336]\t 0.026389979049409595\t -0.8217779839685982\t 1.207063841185543\t 1.3481092253095974\n",
            "18 \t [-0.21876721 -0.66806248]\t -0.6556554090428423\t -0.8217779839685982\t 1.5637360457917344\t 1.7501140148805105\n",
            "19 \t [-0.21398811 -0.51850515]\t -0.4965279508260526\t -0.8217779839685982\t 1.3274009096485\t 1.424297193044844\n",
            "20 \t [-0.56979 -2.     ]\t 50.22827994158072\t -0.8217779839685982\t 1.3229003354114242\t 1.3874907120568432\n"
          ]
        }
      ],
      "source": [
        "### EXACT GP EI GRADIENTS\n",
        "\n",
        "np.random.seed(run_num_3)\n",
        "surrogate_exact_3 = dGaussianProcess(cov_func, optimize=opt)\n",
        "\n",
        "exact_3 = dGPGO(surrogate_exact_3, Acquisition_grad(util), objfunc, param)\n",
        "exact_3.run(init_evals=n_init, max_iter=iters)\n"
      ]
    },
    {
      "cell_type": "code",
      "execution_count": 37,
      "metadata": {
        "id": "PhLBVOIfIvol",
        "colab": {
          "base_uri": "https://localhost:8080/"
        },
        "outputId": "4fd402e2-24d2-41c6-abf4-5bf31e381dbd"
      },
      "outputs": [
        {
          "output_type": "stream",
          "name": "stdout",
          "text": [
            "Evaluation \t Proposed point \t  Current eval. \t  Best eval. \t        Exact EI: StdDev. x \t Approx EI: StdDev. x \n",
            "init\t [2.80217903 0.188929  ]\t 63.70212732873661\t 2.3196402150601703\t    \t    \n",
            "init\t [2.83610616 0.85926397]\t 71.43837110827245\t 2.3196402150601703\t    \t    \n",
            "init\t [ 1.18637295 -1.13564202]\t 2.5463267765341566\t 2.3196402150601703\t    \t    \n",
            "init\t [ 2.85764673 -1.97507898]\t 113.76785286351424\t 2.3196402150601703\t    \t    \n",
            "init\t [-1.48210583 -0.26083387]\t 2.3196402150601703\t 2.3196402150601703\t    \t    \n",
            "\u001b[1m\u001b[92m1\u001b[0m\t \u001b[1m\u001b[92m[-0.19248638 -0.29673967]\u001b[0m\t \u001b[1m\u001b[92m-0.118746904624908\u001b[0m\t \u001b[1m\u001b[92m-0.118746904624908\u001b[0m\t \u001b[1m\u001b[92m1.6086530256174443\u001b[0m\t \u001b[1m\u001b[92m1.9647796212899875\u001b[0m\n",
            "\u001b[1m\u001b[92m2\u001b[0m\t \u001b[1m\u001b[92m[ 0.0771446 -0.9683799]\u001b[0m\t \u001b[1m\u001b[92m-0.2844404270558513\u001b[0m\t \u001b[1m\u001b[92m-0.2844404270558513\u001b[0m\t \u001b[1m\u001b[92m1.4637018186714632\u001b[0m\t \u001b[1m\u001b[92m1.6496717312960714\u001b[0m\n",
            "3  \t [ 0.15454763 -1.42856043]\t 8.369638169079648\t -0.2844404270558513\t 1.6052355013483148\t 1.7444763079380028\n",
            "4  \t [-0.59840288  1.94539575]\t 42.167704564580156\t -0.2844404270558513\t 1.7209835865269563\t 1.907651352026891\n",
            "5  \t [-3. -2.]\t 162.89999999999998\t -0.2844404270558513\t 1.6664631899619462\t 1.7084766050922862\n",
            "\u001b[1m\u001b[92m6\u001b[0m\t \u001b[1m\u001b[92m[ 0.4344578  -0.88853037]\u001b[0m\t \u001b[1m\u001b[92m-0.3683825364525794\u001b[0m\t \u001b[1m\u001b[92m-0.3683825364525794\u001b[0m\t \u001b[1m\u001b[92m1.4209290566320243\u001b[0m\t \u001b[1m\u001b[92m1.4370611513289875\u001b[0m\n",
            "\u001b[1m\u001b[92m7\u001b[0m\t \u001b[1m\u001b[92m[-0.00719016 -0.43245909]\u001b[0m\t \u001b[1m\u001b[92m-0.604860009707508\u001b[0m\t \u001b[1m\u001b[92m-0.604860009707508\u001b[0m\t \u001b[1m\u001b[92m1.248352531399821\u001b[0m\t \u001b[1m\u001b[92m1.2413982996880368\u001b[0m\n",
            "\u001b[1m\u001b[92m8\u001b[0m\t \u001b[1m\u001b[92m[ 0.17688634 -0.53889405]\u001b[0m\t \u001b[1m\u001b[92m-0.7964963032738657\u001b[0m\t \u001b[1m\u001b[92m-0.7964963032738657\u001b[0m\t \u001b[1m\u001b[92m1.3168518839210361\u001b[0m\t \u001b[1m\u001b[92m1.3485321134783783\u001b[0m\n",
            "\u001b[1m\u001b[92m9\u001b[0m\t \u001b[1m\u001b[92m[ 0.32482404 -0.67671998]\u001b[0m\t \u001b[1m\u001b[92m-0.8136861810695815\u001b[0m\t \u001b[1m\u001b[92m-0.8136861810695815\u001b[0m\t \u001b[1m\u001b[92m1.3096764249497472\u001b[0m\t \u001b[1m\u001b[92m1.4016474578711888\u001b[0m\n",
            "10 \t [ 0.44588596 -0.85413066]\t -0.4552221934254165\t -0.8136861810695815\t 1.7847918044182591\t 1.8156107513259852\n",
            "11 \t [ 0.17961507 -0.5226659 ]\t -0.761216993134217\t -0.8136861810695815\t 1.645552264119755\t 1.7204801600901636\n",
            "12 \t [-0.71569504 -0.17362165]\t 1.5500170627121175\t -0.8136861810695815\t 1.48737307196718\t 1.4641241220412702\n",
            "13 \t [ 0.29258834 -0.62047788]\t -0.8013874009662579\t -0.8136861810695815\t 1.3263492084603645\t 1.3255961094739506\n",
            "14 \t [ 0.32860924 -0.65912497]\t -0.7915364039463807\t -0.8136861810695815\t 1.262849448789975\t 1.3561611581320698\n",
            "15 \t [ 0.39240801 -0.74272345]\t -0.7134247075686395\t -0.8136861810695815\t 1.5043773466961596\t 1.4589564033262588\n",
            "16 \t [-0.02178001 -0.38499236]\t -0.4947187024436071\t -0.8136861810695815\t 1.412859853131886\t 1.566526979105257\n",
            "17 \t [ 0.17863573 -0.50611606]\t -0.727050579445094\t -0.8136861810695815\t 1.3857732336996273\t 1.513969244171734\n",
            "18 \t [ 0.19715612 -0.51991923]\t -0.7391575197103422\t -0.8136861810695815\t 1.4068447096115668\t 1.319236336692075\n",
            "19 \t [-0.05225443 -0.37129233]\t -0.4451045490917304\t -0.8136861810695815\t 1.4891469328564158\t 1.5010801596274912\n",
            "20 \t [-0.59071384 -0.21713408]\t 1.1028022983598684\t -0.8136861810695815\t 1.3297714718787383\t 1.3422391962777094\n"
          ]
        }
      ],
      "source": [
        "### EXACT GP EI GRADIENTS\n",
        "\n",
        "np.random.seed(run_num_4)\n",
        "surrogate_exact_4 = dGaussianProcess(cov_func, optimize=opt)\n",
        "\n",
        "exact_4 = dGPGO(surrogate_exact_4, Acquisition_grad(util), objfunc, param)\n",
        "exact_4.run(init_evals=n_init, max_iter=iters)\n"
      ]
    },
    {
      "cell_type": "code",
      "execution_count": 38,
      "metadata": {
        "id": "arbiPyj2IvsJ",
        "colab": {
          "base_uri": "https://localhost:8080/"
        },
        "outputId": "a242ef38-02ce-4f5c-8328-d580219a9d61"
      },
      "outputs": [
        {
          "output_type": "stream",
          "name": "stdout",
          "text": [
            "Evaluation \t Proposed point \t  Current eval. \t  Best eval. \t        Exact EI: StdDev. x \t Approx EI: StdDev. x \n",
            "init\t [-1.66804097  1.48292922]\t 10.126030408244933\t -0.6512780061070701\t    \t    \n",
            "init\t [-1.75968507  1.67444363]\t 19.4300499315822\t -0.6512780061070701\t    \t    \n",
            "init\t [-0.06953287  0.44697545]\t -0.6512780061070701\t -0.6512780061070701\t    \t    \n",
            "init\t [1.59544714 0.07367195]\t 2.168775388880503\t -0.6512780061070701\t    \t    \n",
            "init\t [-1.21919699 -1.24911509]\t 7.420330936884148\t -0.6512780061070701\t    \t    \n",
            "1  \t [0.27873899 1.08341635]\t 1.4162287546962613\t -0.6512780061070701\t 1.9046164288609266\t 2.0731160710029983\n",
            "2  \t [3. 2.]\t 162.89999999999998\t -0.6512780061070701\t 1.9578852286537753\t 2.0948609708471597\n",
            "3  \t [ 2.22867989 -2.        ]\t 52.44856270446538\t -0.6512780061070701\t 1.658757518255385\t 1.8176558994045657\n",
            "4  \t [0.27494103 0.1639579 ]\t 0.23095496884843886\t -0.6512780061070701\t 1.516092305931419\t 1.5111381589434454\n",
            "5  \t [-3. -2.]\t 162.89999999999998\t -0.6512780061070701\t 1.6423009766473433\t 1.6212333151871032\n",
            "6  \t [-0.19095792 -0.04204985]\t 0.14405301455804922\t -0.6512780061070701\t 1.553814210372317\t 1.4133847143814007\n",
            "7  \t [ 0.22610228 -0.27289114]\t -0.13835154176778736\t -0.6512780061070701\t 1.29749085367777\t 1.0812844536328696\n",
            "8  \t [ 0.05221633 -0.02048553]\t 0.008142972991233401\t -0.6512780061070701\t 1.4380009834506597\t 1.3212762890292205\n",
            "9  \t [ 0.5512364  -0.17662669]\t 0.812643422047539\t -0.6512780061070701\t 1.2886043850775382\t 1.042222180477494\n",
            "10 \t [-0.12947676 -0.25297171]\t -0.14037518527682102\t -0.6512780061070701\t 1.395866106758652\t 1.2887306496426947\n",
            "\u001b[1m\u001b[92m11\u001b[0m\t \u001b[1m\u001b[92m[-0.05655308 -0.67797815]\u001b[0m\t \u001b[1m\u001b[92m-0.9423756339338424\u001b[0m\t \u001b[1m\u001b[92m-0.9423756339338424\u001b[0m\t \u001b[1m\u001b[92m1.430967007423286\u001b[0m\t \u001b[1m\u001b[92m1.325136146275783\u001b[0m\n",
            "12 \t [-0.11044791 -0.76040549]\t -0.8430604329254887\t -0.9423756339338424\t 1.3166777527633542\t 1.1644389279331921\n",
            "13 \t [-0.14699413 -0.69416289]\t -0.8111941815503755\t -0.9423756339338424\t 1.4629238714906319\t 1.3367187744475544\n",
            "14 \t [-0.1574877  -0.67107633]\t -0.7865278891417997\t -0.9423756339338424\t 1.1507581918439176\t 1.12676197480878\n",
            "15 \t [-0.17995564 -0.66070398]\t -0.7376435737725353\t -0.9423756339338424\t 1.378690118956616\t 1.3744726003316152\n",
            "16 \t [-0.18062877 -0.65707727]\t -0.7343978598874492\t -0.9423756339338424\t 1.452565443145064\t 1.4112787019709698\n",
            "17 \t [-0.16961642 -0.69436264]\t -0.7676000078132663\t -0.9423756339338424\t 1.4377188398256726\t 1.3489641377262627\n",
            "18 \t [-0.23823296 -0.54698431]\t -0.4880782793984849\t -0.9423756339338424\t 1.2467348022035536\t 1.1622409232454771\n",
            "19 \t [-0.1898559 -0.6372889]\t -0.7022977790851173\t -0.9423756339338424\t 1.2947667713371396\t 1.2501708102085154\n",
            "20 \t [-0.19992315 -0.61649839]\t -0.6626716311711967\t -0.9423756339338424\t 1.451297621036572\t 1.3673196861428438\n"
          ]
        }
      ],
      "source": [
        "### EXACT GP EI GRADIENTS\n",
        "\n",
        "np.random.seed(run_num_5)\n",
        "surrogate_exact_5 = dGaussianProcess(cov_func, optimize=opt)\n",
        "\n",
        "exact_5 = dGPGO(surrogate_exact_5, Acquisition_grad(util), objfunc, param)\n",
        "exact_5.run(init_evals=n_init, max_iter=iters)\n"
      ]
    },
    {
      "cell_type": "code",
      "execution_count": 39,
      "metadata": {
        "id": "04KJCEm_Ivvf",
        "colab": {
          "base_uri": "https://localhost:8080/"
        },
        "outputId": "a7ca83e6-7940-4b8b-eede-5b84f27c4b41"
      },
      "outputs": [
        {
          "output_type": "stream",
          "name": "stdout",
          "text": [
            "Evaluation \t Proposed point \t  Current eval. \t  Best eval. \t        Exact EI: StdDev. x \t Approx EI: StdDev. x \n",
            "init\t [ 2.35716091 -0.67208078]\t 11.995980169715628\t -0.3096187466378422\t    \t    \n",
            "init\t [ 1.92737474 -1.8332135 ]\t 31.167927894156623\t -0.3096187466378422\t    \t    \n",
            "init\t [-2.35405992  0.38020826]\t 13.013381745677465\t -0.3096187466378422\t    \t    \n",
            "init\t [ 0.17890417 -0.32477029]\t -0.3096187466378422\t -0.3096187466378422\t    \t    \n",
            "init\t [-0.9875529   0.49007773]\t 0.9989196280666852\t -0.3096187466378422\t    \t    \n",
            "1  \t [0.14564833 0.99656045]\t 0.20177881687152865\t -0.3096187466378422\t 1.7561864617434624\t 1.5394646779870995\n",
            "2  \t [3. 2.]\t 162.89999999999998\t -0.3096187466378422\t 2.101037296569909\t 2.05498898434892\n",
            "\u001b[1m\u001b[92m3\u001b[0m\t \u001b[1m\u001b[92m[-0.20642557  0.73264737]\u001b[0m\t \u001b[1m\u001b[92m-0.9791695830839107\u001b[0m\t \u001b[1m\u001b[92m-0.9791695830839107\u001b[0m\t \u001b[1m\u001b[92m1.8025212981297425\u001b[0m\t \u001b[1m\u001b[92m1.6989965164226464\u001b[0m\n",
            "4  \t [-0.1567979   0.53674031]\t -0.8074587029374714\t -0.9791695830839107\t 1.6961505899045275\t 1.5823137775601843\n",
            "5  \t [-0.08928664  0.26902626]\t -0.2608132060388308\t -0.9791695830839107\t 1.5209998681616408\t 1.299364503352547\n",
            "6  \t [-0.11041711  0.38382373]\t -0.4963936304845496\t -0.9791695830839107\t 1.8428635639494277\t 1.630783234492702\n",
            "7  \t [-0.16661884  0.62848754]\t -0.9511790198898469\t -0.9791695830839107\t 1.6605472872370322\t 1.6614452241553217\n",
            "8  \t [-0.13061649  0.4864093 ]\t -0.7183691159226645\t -0.9791695830839107\t 1.7495081724296242\t 1.6030690446866938\n",
            "9  \t [-0.13770994  0.51972874]\t -0.785085651991113\t -0.9791695830839107\t 1.6453005047993763\t 1.4141769393523096\n",
            "10 \t [-0.13875642  0.52423407]\t -0.793681859448063\t -0.9791695830839107\t 1.8227432600179452\t 1.620793382688836\n",
            "11 \t [-0.32278764  1.2802356 ]\t 4.170415850488464\t -0.9791695830839107\t 1.6542595519657475\t 1.5668310888930117\n",
            "12 \t [-0.24247511  0.30014348]\t -0.17267445542938734\t -0.9791695830839107\t 1.51975436842173\t 1.393436738344582\n",
            "13 \t [-0.19099316  0.23870791]\t -0.11739457828095863\t -0.9791695830839107\t 1.5219463041492998\t 1.5692660662741655\n",
            "14 \t [-0.08109887  0.01715182]\t 0.02364997577543407\t -0.9791695830839107\t 1.567580295383623\t 1.5705044946303999\n",
            "15 \t [-1.62972918 -2.        ]\t 53.31478983090572\t -0.9791695830839107\t 1.7461075081623672\t 1.5321629352718082\n",
            "16 \t [-0.0367273   0.41748185]\t -0.5855960523553173\t -0.9791695830839107\t 1.4348128087656264\t 1.4981309551072224\n",
            "17 \t [0.34092604 0.02316341]\t 0.4428276015423569\t -0.9791695830839107\t 1.480502442081859\t 1.6095445348130712\n",
            "18 \t [-0.41389521  0.92588436]\t -0.2473906250948632\t -0.9791695830839107\t 1.4059088250748433\t 1.4303449747795622\n",
            "19 \t [-0.16041999  0.55297633]\t -0.836273986920025\t -0.9791695830839107\t 1.426943075463304\t 1.532077205888155\n",
            "20 \t [-0.12145617  0.50757529]\t -0.7681299665519166\t -0.9791695830839107\t 1.4310828944241045\t 1.689534121921337\n"
          ]
        }
      ],
      "source": [
        "### EXACT GP EI GRADIENTS\n",
        "\n",
        "np.random.seed(run_num_6)\n",
        "surrogate_exact_6 = dGaussianProcess(cov_func, optimize=opt)\n",
        "\n",
        "exact_6 = dGPGO(surrogate_exact_6, Acquisition_grad(util), objfunc, param)\n",
        "exact_6.run(init_evals=n_init, max_iter=iters)\n"
      ]
    },
    {
      "cell_type": "code",
      "execution_count": 40,
      "metadata": {
        "id": "tAOkme3CIvyO",
        "colab": {
          "base_uri": "https://localhost:8080/"
        },
        "outputId": "13b3b9bf-f5c1-4da0-a8b3-5a662ef65236"
      },
      "outputs": [
        {
          "output_type": "stream",
          "name": "stdout",
          "text": [
            "Evaluation \t Proposed point \t  Current eval. \t  Best eval. \t        Exact EI: StdDev. x \t Approx EI: StdDev. x \n",
            "init\t [-2.54215026  1.11967517]\t 26.53843863832488\t -0.46481072558790276\t    \t    \n",
            "init\t [-0.36954461  0.89386071]\t -0.46481072558790276\t -0.46481072558790276\t    \t    \n",
            "init\t [2.86793707 0.15398348]\t 76.66051064695093\t -0.46481072558790276\t    \t    \n",
            "init\t [ 0.00672278 -1.71179547]\t 22.613010892757885\t -0.46481072558790276\t    \t    \n",
            "init\t [-1.38936612e+00 -4.69996698e-04]\t 2.294585534557751\t -0.46481072558790276\t    \t    \n",
            "1  \t [0.1310842  1.64834684]\t 18.945381193780257\t -0.46481072558790276\t 1.24513328419618\t 1.430159897823947\n",
            "2  \t [-2.0069916  -0.34039291]\t 4.09787808897999\t -0.46481072558790276\t 1.476826716896781\t 1.476826716896781\n",
            "3  \t [-0.62752856  0.70661994]\t -0.17355017380823146\t -0.46481072558790276\t 1.8961587043369237\t 1.8029925847846435\n",
            "\u001b[1m\u001b[92m4\u001b[0m\t \u001b[1m\u001b[92m[-0.29852921  0.52826691]\u001b[0m\t \u001b[1m\u001b[92m-0.6224198225575582\u001b[0m\t \u001b[1m\u001b[92m-0.6224198225575582\u001b[0m\t \u001b[1m\u001b[92m1.8719980144897486\u001b[0m\t \u001b[1m\u001b[92m1.781920240745369\u001b[0m\n",
            "5  \t [-3. -2.]\t 162.89999999999998\t -0.6224198225575582\t 1.7922425421718102\t 1.7661199354134742\n",
            "6  \t [2.09924505 2.        ]\t 57.57059352637283\t -0.6224198225575582\t 1.7468714191815302\t 1.6552099813641685\n",
            "7  \t [-0.87135168  0.27247566]\t 1.4599845885734641\t -0.6224198225575582\t 1.3197515815690355\t 1.3048742865754301\n",
            "8  \t [-0.77541622  0.22027339]\t 1.362866847569483\t -0.6224198225575582\t 1.4672559287832816\t 1.4289729849252724\n",
            "9  \t [-0.47584579  0.07451895]\t 0.7443706807799777\t -0.6224198225575582\t 1.494262755457277\t 1.5049181688697022\n",
            "10 \t [-0.63791797  0.15118225]\t 1.1166845583102214\t -0.6224198225575582\t 1.6288443099300287\t 1.648288142517949\n",
            "11 \t [-0.76350077  0.22731818]\t 1.3145877356367468\t -0.6224198225575582\t 1.3573384047290729\t 1.3635794491514177\n",
            "12 \t [-0.65733795  0.17519063]\t 1.1290259475906288\t -0.6224198225575582\t 1.4498601722610247\t 1.4521684942777897\n",
            "13 \t [-0.3762991   0.06129751]\t 0.48720440363348655\t -0.6224198225575582\t 1.518129767920155\t 1.5470452045283143\n",
            "14 \t [-0.73480996  0.22176784]\t 1.250012029258112\t -0.6224198225575582\t 1.3600511335662708\t 1.3913847709683544\n",
            "15 \t [-0.16628085 -0.00363702]\t 0.10955076500191437\t -0.6224198225575582\t 1.5711166510413261\t 1.553469550734628\n",
            "16 \t [-0.72072037  0.23431368]\t 1.1814270300663394\t -0.6224198225575582\t 1.2680324265919445\t 1.268054386041705\n",
            "17 \t [-0.86365075  0.32902077]\t 1.2832491316227554\t -0.6224198225575582\t 1.1708783075742126\t 1.1373715930228856\n",
            "18 \t [-0.53167598  0.15291448]\t 0.7977955331475386\t -0.6224198225575582\t 1.5410820818032556\t 1.6651617399615475\n",
            "19 \t [-0.85663759  0.32941291]\t 1.2670387449999887\t -0.6224198225575582\t 1.5159091975554586\t 1.549413748330814\n",
            "20 \t [-0.53082868  0.15604654]\t 0.7899709082074567\t -0.6224198225575582\t 1.4339488183653655\t 1.4960290414288604\n"
          ]
        }
      ],
      "source": [
        "### EXACT GP EI GRADIENTS\n",
        "\n",
        "np.random.seed(run_num_7)\n",
        "surrogate_exact_7 = dGaussianProcess(cov_func, optimize=opt)\n",
        "\n",
        "exact_7 = dGPGO(surrogate_exact_7, Acquisition_grad(util), objfunc, param)\n",
        "exact_7.run(init_evals=n_init, max_iter=iters)\n"
      ]
    },
    {
      "cell_type": "code",
      "execution_count": 41,
      "metadata": {
        "id": "69-J3EF4Iv1S",
        "colab": {
          "base_uri": "https://localhost:8080/"
        },
        "outputId": "d99886fd-07ca-45ef-c4cc-e270c8291af5"
      },
      "outputs": [
        {
          "output_type": "stream",
          "name": "stdout",
          "text": [
            "Evaluation \t Proposed point \t  Current eval. \t  Best eval. \t        Exact EI: StdDev. x \t Approx EI: StdDev. x \n",
            "init\t [2.24057642 1.87416265]\t 48.82879577505094\t 0.03190064766213015\t    \t    \n",
            "init\t [2.21516724 0.12342277]\t 8.660623551418242\t 0.03190064766213015\t    \t    \n",
            "init\t [-1.60363003 -1.95440478]\t 48.28332373939171\t 0.03190064766213015\t    \t    \n",
            "init\t [-0.41718709 -0.39059456]\t 0.2801229037700297\t 0.03190064766213015\t    \t    \n",
            "init\t [ 0.13604803 -0.08643282]\t 0.03190064766213015\t 0.03190064766213015\t    \t    \n",
            "\u001b[1m\u001b[92m1\u001b[0m\t \u001b[1m\u001b[92m[-0.57246742  0.6534526 ]\u001b[0m\t \u001b[1m\u001b[92m-0.25569579328253045\u001b[0m\t \u001b[1m\u001b[92m-0.25569579328253045\u001b[0m\t \u001b[1m\u001b[92m1.2463959421143596\u001b[0m\t \u001b[1m\u001b[92m1.6397809866271555\u001b[0m\n",
            "2  \t [-1.18831557  1.21804401]\t 3.8222330710419667\t -0.25569579328253045\t 1.3819434779080972\t 1.671580124884549\n",
            "3  \t [0.04982841 0.04620172]\t 0.003700531824410219\t -0.25569579328253045\t 1.2068665806813608\t 1.570816800958729\n",
            "4  \t [ 1.5233709  -1.90834873]\t 37.71548823920068\t -0.25569579328253045\t 1.5066470778646164\t 1.973091290133215\n",
            "\u001b[1m\u001b[92m5\u001b[0m\t \u001b[1m\u001b[92m[-0.33912575  0.43440778]\u001b[0m\t \u001b[1m\u001b[92m-0.32695670284957334\u001b[0m\t \u001b[1m\u001b[92m-0.32695670284957334\u001b[0m\t \u001b[1m\u001b[92m1.3544068403854066\u001b[0m\t \u001b[1m\u001b[92m1.5564232094941095\u001b[0m\n",
            "6  \t [-0.0246738   0.15315498]\t -0.09296948437208957\t -0.32695670284957334\t 1.6072462872293776\t 1.6653802069884904\n",
            "7  \t [-0.04969907  0.17332622]\t -0.11530480388362623\t -0.32695670284957334\t 1.4599085117385382\t 1.7450449807502921\n",
            "8  \t [-0.28400811  0.38062026]\t -0.2944805612666978\t -0.32695670284957334\t 1.4052687285079808\t 1.6275674536228903\n",
            "9  \t [-0.20166936  0.30552359]\t -0.2409095429867211\t -0.32695670284957334\t 1.2480308413248984\t 1.312950513310299\n",
            "10 \t [-0.24751797  0.3462792 ]\t -0.2705794615232793\t -0.32695670284957334\t 1.5759954061595434\t 1.6930637669662065\n",
            "11 \t [-0.2611143   0.35826569]\t -0.2779999169895273\t -0.32695670284957334\t 1.2347532521210578\t 1.3890185095943188\n",
            "12 \t [-0.33469293  0.42534393]\t -0.31291045425922753\t -0.32695670284957334\t 1.176865411788341\t 1.4692892247302651\n",
            "13 \t [-0.23959081  0.3379682 ]\t -0.2629187826568246\t -0.32695670284957334\t 1.2854194472170961\t 1.4291580998995035\n",
            "14 \t [-0.18106472  0.28551202]\t -0.2222920837650148\t -0.32695670284957334\t 1.4367401784808704\t 1.657345791701301\n",
            "15 \t [-0.34614125  0.4347818 ]\t -0.31401735970094863\t -0.32695670284957334\t 1.2969783718482437\t 1.4052153358808426\n",
            "16 \t [-0.09184302  0.20636134]\t -0.14844758862751387\t -0.32695670284957334\t 1.4525880139087592\t 1.626824784273284\n",
            "17 \t [-0.28924722  0.38179032]\t -0.28834703636193115\t -0.32695670284957334\t 1.4308687205222324\t 1.7191127763305392\n",
            "18 \t [-2.96747048  1.3827406 ]\t 102.86656681896146\t -0.32695670284957334\t 1.458941478309022\t 1.691288922566081\n",
            "\u001b[1m\u001b[92m19\u001b[0m\t \u001b[1m\u001b[92m[-0.3186898   0.71688384]\u001b[0m\t \u001b[1m\u001b[92m-0.8427479393050974\u001b[0m\t \u001b[1m\u001b[92m-0.8427479393050974\u001b[0m\t \u001b[1m\u001b[92m1.2557562607992212\u001b[0m\t \u001b[1m\u001b[92m1.1736151318723897\u001b[0m\n",
            "20 \t [-0.31259074  0.98018318]\t -0.08608807467623156\t -0.8427479393050974\t 1.3032306265348566\t 1.276554718821556\n"
          ]
        }
      ],
      "source": [
        "### EXACT GP EI GRADIENTS\n",
        "\n",
        "np.random.seed(run_num_8)\n",
        "surrogate_exact_8 = dGaussianProcess(cov_func, optimize=opt)\n",
        "\n",
        "exact_8 = dGPGO(surrogate_exact_8, Acquisition_grad(util), objfunc, param)\n",
        "exact_8.run(init_evals=n_init, max_iter=iters)\n"
      ]
    },
    {
      "cell_type": "code",
      "execution_count": 42,
      "metadata": {
        "id": "vonm9jyuIv4t",
        "colab": {
          "base_uri": "https://localhost:8080/"
        },
        "outputId": "80884649-0a9f-420d-84d0-8d081f100aea"
      },
      "outputs": [
        {
          "output_type": "stream",
          "name": "stdout",
          "text": [
            "Evaluation \t Proposed point \t  Current eval. \t  Best eval. \t        Exact EI: StdDev. x \t Approx EI: StdDev. x \n",
            "init\t [-2.93775508  0.00749837]\t 92.35857237145763\t 1.395407492769129\t    \t    \n",
            "init\t [-0.02536024 -1.46468188]\t 9.867672894921913\t 1.395407492769129\t    \t    \n",
            "init\t [-2.14733349 -1.1257653 ]\t 10.24680089963123\t 1.395407492769129\t    \t    \n",
            "init\t [-0.48895092 -1.00759533]\t 1.395407492769129\t 1.395407492769129\t    \t    \n",
            "init\t [-2.49564209 -0.61800544]\t 24.58298635463645\t 1.395407492769129\t    \t    \n",
            "1  \t [0.30007956 2.        ]\t 48.94356541468191\t 1.395407492769129\t 1.6064182666594051\t 1.5389731582832187\n",
            "2  \t [3.         0.35932676]\t 109.528200874667\t 1.395407492769129\t 1.874405311467603\t 1.950567378804555\n",
            "3  \t [ 1.74044958 -1.84128563]\t 31.323868720181455\t 1.395407492769129\t 1.441205258985459\t 1.3986993788846274\n",
            "4  \t [-1.55536773 -2.        ]\t 53.216714029899045\t 1.395407492769129\t 1.5454680817450175\t 1.5591566349236696\n",
            "\u001b[1m\u001b[92m5\u001b[0m\t \u001b[1m\u001b[92m[-0.45357128 -0.14814099]\u001b[0m\t \u001b[1m\u001b[92m0.7182664624905546\u001b[0m\t \u001b[1m\u001b[92m0.7182664624905546\u001b[0m\t \u001b[1m\u001b[92m1.3994147828713699\u001b[0m\t \u001b[1m\u001b[92m1.4760552043182549\u001b[0m\n",
            "6  \t [-1.96004765  2.        ]\t 47.35319532029028\t 0.7182664624905546\t 1.2595206651708781\t 1.2432989931521305\n",
            "\u001b[1m\u001b[92m7\u001b[0m\t \u001b[1m\u001b[92m[-0.16356259 -0.36014396]\u001b[0m\t \u001b[1m\u001b[92m-0.2871021596302432\u001b[0m\t \u001b[1m\u001b[92m-0.2871021596302432\u001b[0m\t \u001b[1m\u001b[92m1.3016593582071996\u001b[0m\t \u001b[1m\u001b[92m1.2725181622669557\u001b[0m\n",
            "8  \t [-0.36732676 -0.19354551]\t 0.42917035945099546\t -0.2871021596302432\t 1.2621637138905344\t 1.2346980770571045\n",
            "\u001b[1m\u001b[92m9\u001b[0m\t \u001b[1m\u001b[92m[ 0.16700826 -0.61404645]\u001b[0m\t \u001b[1m\u001b[92m-0.9321464430925556\u001b[0m\t \u001b[1m\u001b[92m-0.9321464430925556\u001b[0m\t \u001b[1m\u001b[92m1.5266119536557448\u001b[0m\t \u001b[1m\u001b[92m1.5234332717537413\u001b[0m\n",
            "10 \t [-0.0802732  -0.37810835]\t -0.43406667180697184\t -0.9321464430925556\t 1.2650229494325034\t 1.2560616847722361\n",
            "11 \t [-0.23561097 -0.26181651]\t 0.021926247322003656\t -0.9321464430925556\t 1.4742146556585638\t 1.4745768605443297\n",
            "12 \t [ 0.01601806 -0.45029128]\t -0.6527854579423339\t -0.9321464430925556\t 1.4615270010074837\t 1.4552735955832088\n",
            "13 \t [-0.27832569 -0.22712788]\t 0.16492604324603452\t -0.9321464430925556\t 1.0766167603119872\t 1.0567397831680667\n",
            "14 \t [ 0.2472223  -0.65468679]\t -0.9047627962799873\t -0.9321464430925556\t 1.3607071035715916\t 1.3463965500863122\n",
            "15 \t [ 0.14744464 -0.54464077]\t -0.8289021471199441\t -0.9321464430925556\t 1.284449882712427\t 1.2658334840598182\n",
            "16 \t [-0.11101316 -0.33082681]\t -0.3041679816813052\t -0.9321464430925556\t 1.448304844383892\t 1.445824975038885\n",
            "17 \t [ 0.08702736 -0.48677353]\t -0.7354034508833077\t -0.9321464430925556\t 1.361664729246828\t 1.3600885936778297\n",
            "18 \t [ 0.4613512  -0.90929697]\t -0.23279976403060842\t -0.9321464430925556\t 1.384744027022649\t 1.3767134829372618\n",
            "19 \t [-0.07112496 -0.34999603]\t -0.38489182070491573\t -0.9321464430925556\t 1.456789923270558\t 1.4305339655808993\n",
            "20 \t [ 0.2167365 -0.5937928]\t -0.8584781229549249\t -0.9321464430925556\t 1.5090805002362888\t 1.50131543052976\n"
          ]
        }
      ],
      "source": [
        "### EXACT GP EI GRADIENTS\n",
        "\n",
        "np.random.seed(run_num_9)\n",
        "surrogate_exact_9 = dGaussianProcess(cov_func, optimize=opt)\n",
        "\n",
        "exact_9 = dGPGO(surrogate_exact_9, Acquisition_grad(util), objfunc, param)\n",
        "exact_9.run(init_evals=n_init, max_iter=iters)\n"
      ]
    },
    {
      "cell_type": "code",
      "execution_count": 43,
      "metadata": {
        "id": "6amuYlUdIv7r",
        "colab": {
          "base_uri": "https://localhost:8080/"
        },
        "outputId": "3d6f62ab-66d2-4855-a778-27ca25e0641f"
      },
      "outputs": [
        {
          "output_type": "stream",
          "name": "stdout",
          "text": [
            "Evaluation \t Proposed point \t  Current eval. \t  Best eval. \t        Exact EI: StdDev. x \t Approx EI: StdDev. x \n",
            "init\t [ 1.62792386 -1.9169922 ]\t 38.25414770674631\t 0.7775687473184012\t    \t    \n",
            "init\t [0.80188941 0.99521553]\t 2.552651714051803\t 0.7775687473184012\t    \t    \n",
            "init\t [-0.00895793 -1.10081342]\t 1.0367630165263393\t 0.7775687473184012\t    \t    \n",
            "init\t [-1.81162281  1.04212285]\t 0.7775687473184012\t 0.7775687473184012\t    \t    \n",
            "init\t [-1.98533498 -1.64664074]\t 25.383481436170044\t 0.7775687473184012\t    \t    \n",
            "1  \t [3. 2.]\t 162.89999999999998\t 0.7775687473184012\t 1.589201390238439\t 1.8094099745112386\n",
            "2  \t [-2.52977022  2.        ]\t 69.90104466534116\t 0.7775687473184012\t 1.1746340026289581\t 1.4519410806466009\n",
            "3  \t [-0.96096779  0.29985852]\t 1.5500307910683613\t 0.7775687473184012\t 1.457698049786842\t 1.6966201140977315\n",
            "4  \t [ 3.         -0.28423181]\t 107.75026028666434\t 0.7775687473184012\t 1.6555392301969527\t 1.9155637003009254\n",
            "\u001b[1m\u001b[92m5\u001b[0m\t \u001b[1m\u001b[92m[-0.348341    0.78170365]\u001b[0m\t \u001b[1m\u001b[92m-0.7679201385345631\u001b[0m\t \u001b[1m\u001b[92m-0.7679201385345631\u001b[0m\t \u001b[1m\u001b[92m1.4782708204493753\u001b[0m\t \u001b[1m\u001b[92m1.3804022166012209\u001b[0m\n",
            "\u001b[1m\u001b[92m6\u001b[0m\t \u001b[1m\u001b[92m[-0.31261101  0.73686067]\u001b[0m\t \u001b[1m\u001b[92m-0.8518092149277464\u001b[0m\t \u001b[1m\u001b[92m-0.8518092149277464\u001b[0m\t \u001b[1m\u001b[92m1.4328590756133965\u001b[0m\t \u001b[1m\u001b[92m1.2068058918756202\u001b[0m\n",
            "7  \t [-0.16515877  1.78290853]\t 27.516171865562928\t -0.8518092149277464\t 1.4839767105244723\t 1.3915424008072712\n",
            "8  \t [-0.74720773  0.20089502]\t 1.3316474156266114\t -0.8518092149277464\t 1.3159263576482951\t 1.220218186714451\n",
            "9  \t [ 0.03874176 -0.13855199]\t -0.07468134710866335\t -0.8518092149277464\t 1.5824064111338276\t 1.5302175717832616\n",
            "10 \t [-0.95475877  0.26521926]\t 1.6389574211458704\t -0.8518092149277464\t 1.513884584316734\t 1.4053970255844934\n",
            "11 \t [-0.01738714 -0.03927793]\t -0.004269512299061877\t -0.8518092149277464\t 1.3322261921105982\t 1.1945260471303945\n",
            "12 \t [-0.14622812  0.049272  ]\t 0.06768145144185406\t -0.8518092149277464\t 1.5502108708426487\t 1.5369149250025418\n",
            "13 \t [-0.08742385  0.01226895]\t 0.028774581603405174\t -0.8518092149277464\t 1.4773958693952753\t 1.508916572973155\n",
            "14 \t [ 0.06251034 -0.13800712]\t -0.06776161663403887\t -0.8518092149277464\t 1.4675534170927154\t 1.426345559772959\n",
            "15 \t [-0.09070467  0.0127903 ]\t 0.030952986895990398\t -0.8518092149277464\t 1.4369578494988313\t 1.4751545068744882\n",
            "16 \t [-0.54257768  0.17940258]\t 0.7821311199424996\t -0.8518092149277464\t 1.535934909783848\t 1.505918985089187\n",
            "17 \t [-0.22019749  0.09303065]\t 0.1342443666013975\t -0.8518092149277464\t 1.5272574771385898\t 1.440684986544211\n",
            "18 \t [-0.06002255  0.00804925]\t 0.013641305770699224\t -0.8518092149277464\t 1.3666470061601899\t 1.3868567699169854\n",
            "19 \t [-0.16366561  0.06709281]\t 0.07673984449091927\t -0.8518092149277464\t 1.1512194446490238\t 0.9351260559142349\n",
            "20 \t [-1.14611855  0.29999731]\t 1.7148844473633291\t -0.8518092149277464\t 1.5583125452358666\t 1.503179404162047\n"
          ]
        }
      ],
      "source": [
        "### EXACT GP EI GRADIENTS\n",
        "\n",
        "np.random.seed(run_num_10)\n",
        "surrogate_exact_10 = dGaussianProcess(cov_func, optimize=opt)\n",
        "\n",
        "exact_10 = dGPGO(surrogate_exact_10, Acquisition_grad(util), objfunc, param)\n",
        "exact_10.run(init_evals=n_init, max_iter=iters)\n"
      ]
    },
    {
      "cell_type": "code",
      "execution_count": 44,
      "metadata": {
        "id": "VwbLIP9cIv-F",
        "colab": {
          "base_uri": "https://localhost:8080/"
        },
        "outputId": "5088ce43-a535-4d1a-d9ca-8ecd103f2c74"
      },
      "outputs": [
        {
          "output_type": "stream",
          "name": "stdout",
          "text": [
            "Evaluation \t Proposed point \t  Current eval. \t  Best eval. \t        Exact EI: StdDev. x \t Approx EI: StdDev. x \n",
            "init\t [-1.91838187 -1.92209903]\t 46.39910375151002\t -0.6254688257880329\t    \t    \n",
            "init\t [-0.22068884  0.89973572]\t -0.6254688257880329\t -0.6254688257880329\t    \t    \n",
            "init\t [-0.47877837 -0.05829161]\t 0.8249470187639529\t -0.6254688257880329\t    \t    \n",
            "init\t [-2.92331511 -0.05051357]\t 88.99028404075307\t -0.6254688257880329\t    \t    \n",
            "init\t [2.65083991 1.40318036]\t 51.423425402262914\t -0.6254688257880329\t    \t    \n",
            "1  \t [0.1162043  0.20936558]\t -0.08968928579150665\t -0.6254688257880329\t 1.4011124206698906\t 1.5072091725693435\n",
            "2  \t [-0.26857992  1.50634431]\t 11.391644241601337\t -0.6254688257880329\t 1.0826218563554062\t 1.3748726126047464\n",
            "3  \t [ 1.46188583 -1.88617587]\t 35.8505521757125\t -0.6254688257880329\t 1.651416146008017\t 1.817712801682867\n",
            "4  \t [ 0.19155584 -0.03220303]\t 0.13365101792458087\t -0.6254688257880329\t 1.3456185031542787\t 1.371070816866985\n",
            "5  \t [0.05153275 0.10757978]\t -0.02960628402370909\t -0.6254688257880329\t 1.2638928820625286\t 1.2646145649691103\n",
            "6  \t [-0.14985578  0.35002975]\t -0.39372013328167677\t -0.6254688257880329\t 1.3742964102016864\t 1.3388102179239987\n",
            "7  \t [0.11699506 0.04199121]\t 0.05223093842347089\t -0.6254688257880329\t 1.5683481335992902\t 1.576863849096469\n",
            "\u001b[1m\u001b[92m8\u001b[0m\t \u001b[1m\u001b[92m[-0.26995571  0.51572618]\u001b[0m\t \u001b[1m\u001b[92m-0.6396691910644168\u001b[0m\t \u001b[1m\u001b[92m-0.6396691910644168\u001b[0m\t \u001b[1m\u001b[92m1.277594298244781\u001b[0m\t \u001b[1m\u001b[92m1.2296604804885944\u001b[0m\n",
            "\u001b[1m\u001b[92m9\u001b[0m\t \u001b[1m\u001b[92m[-0.393145    0.69615932]\u001b[0m\t \u001b[1m\u001b[92m-0.7034331925830128\u001b[0m\t \u001b[1m\u001b[92m-0.7034331925830128\u001b[0m\t \u001b[1m\u001b[92m1.488076948777665\u001b[0m\t \u001b[1m\u001b[92m1.5197643181228095\u001b[0m\n",
            "10 \t [-0.0286944   0.20165924]\t -0.15854520078761228\t -0.7034331925830128\t 1.364792164832861\t 1.395170592431047\n",
            "11 \t [-0.40388298  0.69790768]\t -0.6831502436487382\t -0.7034331925830128\t 1.4842977546542695\t 1.4734860371034428\n",
            "12 \t [-0.28956346  0.52146925]\t -0.6221142445482502\t -0.7034331925830128\t 1.5653183360380327\t 1.571491822710619\n",
            "13 \t [0.07296327 0.09167691]\t -0.005411931909274883\t -0.7034331925830128\t 1.4258921918566467\t 1.4163536397438559\n",
            "14 \t [-0.40762452  0.68865933]\t -0.6698800464455538\t -0.7034331925830128\t 1.446532746883743\t 1.42988452278679\n",
            "15 \t [-0.16295451  0.354311  ]\t -0.39210210232636034\t -0.7034331925830128\t 1.3517265795203108\t 1.363548718263747\n",
            "16 \t [-0.09430454  0.27288273]\t -0.2660063452409678\t -0.7034331925830128\t 1.4046430273840218\t 1.503118956312515\n",
            "17 \t [0.05270265 0.11195745]\t -0.03251489225107886\t -0.7034331925830128\t 1.1636124634637242\t 1.1236827815375043\n",
            "18 \t [0.06165995 0.10256876]\t -0.020136846620698194\t -0.7034331925830128\t 1.4678877759177176\t 1.449753461459067\n",
            "19 \t [-0.23664306  0.44654725]\t -0.5267688507379691\t -0.7034331925830128\t 1.3494705134788418\t 1.315502353845734\n",
            "20 \t [-0.47210751  0.77990244]\t -0.5304182907373182\t -0.7034331925830128\t 1.4716772195121548\t 1.4889896045221904\n"
          ]
        }
      ],
      "source": [
        "### EXACT GP EI GRADIENTS\n",
        "\n",
        "np.random.seed(run_num_11)\n",
        "surrogate_exact_11 = dGaussianProcess(cov_func, optimize=opt)\n",
        "\n",
        "exact_11 = dGPGO(surrogate_exact_11, Acquisition_grad(util), objfunc, param)\n",
        "exact_11.run(init_evals=n_init, max_iter=iters)\n"
      ]
    },
    {
      "cell_type": "code",
      "execution_count": 45,
      "metadata": {
        "id": "MlUNFjc-JTBY",
        "colab": {
          "base_uri": "https://localhost:8080/"
        },
        "outputId": "ab03d376-9ad8-477d-8a59-3aafe2a405a5"
      },
      "outputs": [
        {
          "output_type": "stream",
          "name": "stdout",
          "text": [
            "Evaluation \t Proposed point \t  Current eval. \t  Best eval. \t        Exact EI: StdDev. x \t Approx EI: StdDev. x \n",
            "init\t [-2.07502295  0.96019879]\t 2.6185857163917037\t 1.9967735906956543\t    \t    \n",
            "init\t [-1.42010991  0.13495757]\t 1.9967735906956543\t 1.9967735906956543\t    \t    \n",
            "init\t [-2.91255023  1.67498803]\t 101.67816714332157\t 1.9967735906956543\t    \t    \n",
            "init\t [ 2.40428912 -1.86631429]\t 47.44624883788006\t 1.9967735906956543\t    \t    \n",
            "init\t [ 2.74169602 -1.45116271]\t 58.32400185681089\t 1.9967735906956543\t    \t    \n",
            "\u001b[1m\u001b[92m1\u001b[0m\t \u001b[1m\u001b[92m[-1.15648604  0.74752304]\u001b[0m\t \u001b[1m\u001b[92m0.5401694705946541\u001b[0m\t \u001b[1m\u001b[92m0.5401694705946541\u001b[0m\t \u001b[1m\u001b[92m2.248323829684019\u001b[0m\t \u001b[1m\u001b[92m1.9748983555376431\u001b[0m\n",
            "2  \t [1.83110409 2.        ]\t 54.030151566854705\t 0.5401694705946541\t 2.171627199407564\t 1.8377378106480446\n",
            "3  \t [-3. -2.]\t 162.89999999999998\t 0.5401694705946541\t 1.699038310669307\t 1.6106449554487428\n",
            "4  \t [-0.1634226 -2.       ]\t 48.432181477152\t 0.5401694705946541\t 1.3211135579367483\t 1.2335229673668344\n",
            "\u001b[1m\u001b[92m5\u001b[0m\t \u001b[1m\u001b[92m[-1.47701762  0.78295106]\u001b[0m\t \u001b[1m\u001b[92m0.08738741316331844\u001b[0m\t \u001b[1m\u001b[92m0.08738741316331844\u001b[0m\t \u001b[1m\u001b[92m1.3070465075972726\u001b[0m\t \u001b[1m\u001b[92m1.3180780964190517\u001b[0m\n",
            "6  \t [-0.56372555  1.77672487]\t 27.301492466718933\t 0.08738741316331844\t 1.3053336628491488\t 1.4346547091473445\n",
            "7  \t [-1.32916854  0.36325826]\t 1.409306764759222\t 0.08738741316331844\t 1.4916785170788194\t 1.5279779583814548\n",
            "8  \t [-1.54019582  0.51680302]\t 0.5421387074091392\t 0.08738741316331844\t 1.5595347778311963\t 1.5665447009471225\n",
            "9  \t [-1.38546631  0.40038232]\t 1.20489020798732\t 0.08738741316331844\t 1.3568965252824177\t 1.363567388423478\n",
            "10 \t [-1.101641    0.22547265]\t 1.9158756250012319\t 0.08738741316331844\t 1.325402621684511\t 1.3749617344488636\n",
            "11 \t [-1.38333554  0.39654734]\t 1.2216115217177954\t 0.08738741316331844\t 1.5052743751046571\t 1.5409582064355551\n",
            "12 \t [-1.02556798  0.18719706]\t 1.9446187150465724\t 0.08738741316331844\t 1.3853601001904476\t 1.4471790857861335\n",
            "13 \t [-0.79863541  0.10457803]\t 1.656671195526609\t 0.08738741316331844\t 1.4161855333204543\t 1.438876270922314\n",
            "14 \t [-1.47362163  0.46069777]\t 0.8491057101856692\t 0.08738741316331844\t 1.425137236646234\t 1.4179897786910602\n",
            "15 \t [0.27175881 0.06014818]\t 0.2860187007424736\t 0.08738741316331844\t 1.5047783514365578\t 1.523653629002349\n",
            "16 \t [ 1.06424465 -0.11289495]\t 2.150379067901458\t 0.08738741316331844\t 1.4268812688155221\t 1.3493006619025394\n",
            "17 \t [0.21004926 0.06559156]\t 0.169065943572126\t 0.08738741316331844\t 1.2514139985630013\t 1.2346252497433592\n",
            "18 \t [0.18016095 0.07016777]\t 0.12067527428069147\t 0.08738741316331844\t 1.5715109106948273\t 1.5215596432094374\n",
            "19 \t [-1.84414446  0.10965487]\t 2.1767084991203194\t 0.08738741316331844\t 1.35129727426725\t 1.4156746180164095\n",
            "20 \t [3.        0.4992175]\t 109.64921871626738\t 0.08738741316331844\t 1.3372835713382891\t 1.3376716791233787\n"
          ]
        }
      ],
      "source": [
        "### EXACT GP EI GRADIENTS\n",
        "\n",
        "np.random.seed(run_num_12)\n",
        "surrogate_exact_12 = dGaussianProcess(cov_func, optimize=opt)\n",
        "\n",
        "exact_12 = dGPGO(surrogate_exact_12, Acquisition_grad(util), objfunc, param)\n",
        "exact_12.run(init_evals=n_init, max_iter=iters)\n"
      ]
    },
    {
      "cell_type": "code",
      "execution_count": 46,
      "metadata": {
        "id": "9BsKdU9eJTFL",
        "colab": {
          "base_uri": "https://localhost:8080/"
        },
        "outputId": "e0cfaaf9-df9e-49f4-b2ee-82ba20283de2"
      },
      "outputs": [
        {
          "output_type": "stream",
          "name": "stdout",
          "text": [
            "Evaluation \t Proposed point \t  Current eval. \t  Best eval. \t        Exact EI: StdDev. x \t Approx EI: StdDev. x \n",
            "init\t [ 1.66621446 -1.04983512]\t 0.752930921147986\t 0.752930921147986\t    \t    \n",
            "init\t [1.9456712  1.86299679]\t 41.05776363102951\t 0.752930921147986\t    \t    \n",
            "init\t [ 2.83560668 -0.18620301]\t 69.0134544723513\t 0.752930921147986\t    \t    \n",
            "init\t [0.65425478 1.10210606]\t 3.117452174069064\t 0.752930921147986\t    \t    \n",
            "init\t [0.84968007 0.88807292]\t 2.006601529383926\t 0.752930921147986\t    \t    \n",
            "1  \t [ 0.4943127  -1.24330367]\t 3.617106922875216\t 0.752930921147986\t 1.1482809677702306\t 1.2038349978134193\n",
            "2  \t [-0.83460691  1.3144168 ]\t 5.811882953645614\t 0.752930921147986\t 1.8815016005926022\t 1.592869964360895\n",
            "3  \t [-3. -2.]\t 162.89999999999998\t 0.752930921147986\t 1.7882934601251652\t 1.9561831169162682\n",
            "4  \t [ 1.11089436 -2.        ]\t 48.14281330125023\t 0.752930921147986\t 1.4904283199359507\t 1.9167288606770563\n",
            "5  \t [ 2.10322474 -1.94085306]\t 43.06366123572329\t 0.752930921147986\t 1.6960528917875908\t 1.6960528917875908\n",
            "\u001b[1m\u001b[92m6\u001b[0m\t \u001b[1m\u001b[92m[ 0.67539348 -0.4460929 ]\u001b[0m\t \u001b[1m\u001b[92m0.48041758029772375\u001b[0m\t \u001b[1m\u001b[92m0.48041758029772375\u001b[0m\t \u001b[1m\u001b[92m1.4130358607075877\u001b[0m\t \u001b[1m\u001b[92m1.4937594772625022\u001b[0m\n",
            "\u001b[1m\u001b[92m7\u001b[0m\t \u001b[1m\u001b[92m[ 0.28034324 -0.09501552]\u001b[0m\t \u001b[1m\u001b[92m0.23913723226132994\u001b[0m\t \u001b[1m\u001b[92m0.23913723226132994\u001b[0m\t \u001b[1m\u001b[92m1.4054920720531086\u001b[0m\t \u001b[1m\u001b[92m1.6959375280363977\u001b[0m\n",
            "8  \t [ 0.27784105 -0.07276598]\t 0.2551369053186061\t 0.23913723226132994\t 1.3978152855117463\t 1.5956103689385828\n",
            "9  \t [ 0.50766827 -0.28741446]\t 0.4480820677613807\t 0.23913723226132994\t 1.409044615819837\t 1.6881515469917139\n",
            "10 \t [ 0.41932255 -0.2060404 ]\t 0.3912135592962276\t 0.23913723226132994\t 1.4524462884739135\t 1.7167213707367104\n",
            "\u001b[1m\u001b[92m11\u001b[0m\t \u001b[1m\u001b[92m[ 0.23334509 -0.00939766]\u001b[0m\t \u001b[1m\u001b[92m0.2090813367210099\u001b[0m\t \u001b[1m\u001b[92m0.2090813367210099\u001b[0m\t \u001b[1m\u001b[92m1.5432216162757009\u001b[0m\t \u001b[1m\u001b[92m1.7320974135195641\u001b[0m\n",
            "12 \t [ 0.24088522 -0.01181628]\t 0.2216924304272937\t 0.2090813367210099\t 1.4470244999464275\t 1.8080710349859588\n",
            "13 \t [-2.86911375  1.45773345]\t 81.94218776297245\t 0.2090813367210099\t 1.4963425201010183\t 1.8303819047577605\n",
            "14 \t [ 0.35597384 -0.13974094]\t 0.34749847658575395\t 0.2090813367210099\t 1.1982295733561157\t 1.1325921295593355\n",
            "15 \t [ 0.39848483 -0.1836059 ]\t 0.3800822678906324\t 0.2090813367210099\t 1.4539385970255534\t 1.4230123083239659\n",
            "\u001b[1m\u001b[92m16\u001b[0m\t \u001b[1m\u001b[92m[0.20548332 0.05648837]\u001b[0m\t \u001b[1m\u001b[92m0.16405915722716694\u001b[0m\t \u001b[1m\u001b[92m0.16405915722716694\u001b[0m\t \u001b[1m\u001b[92m1.3137481085429936\u001b[0m\t \u001b[1m\u001b[92m1.2474019098056153\u001b[0m\n",
            "\u001b[1m\u001b[92m17\u001b[0m\t \u001b[1m\u001b[92m[-0.07815219  0.78238554]\u001b[0m\t \u001b[1m\u001b[92m-0.9865023741959258\u001b[0m\t \u001b[1m\u001b[92m-0.9865023741959258\u001b[0m\t \u001b[1m\u001b[92m1.6620456096021847\u001b[0m\t \u001b[1m\u001b[92m1.6521328435399214\u001b[0m\n",
            "18 \t [0.14490601 0.18043526]\t -0.01677339179713319\t -0.9865023741959258\t 1.2580850100595258\t 1.2101766231274846\n",
            "19 \t [-0.08221415  0.80858087]\t -0.9449144808117468\t -0.9865023741959258\t 1.4176999919890272\t 1.3820256755835085\n",
            "20 \t [0.01226802 0.51091026]\t -0.7647021868118603\t -0.9865023741959258\t 1.6798900791784657\t 1.6675356364695073\n"
          ]
        }
      ],
      "source": [
        "### EXACT GP EI GRADIENTS\n",
        "\n",
        "np.random.seed(run_num_13)\n",
        "surrogate_exact_13 = dGaussianProcess(cov_func, optimize=opt)\n",
        "\n",
        "exact_13 = dGPGO(surrogate_exact_13, Acquisition_grad(util), objfunc, param)\n",
        "exact_13.run(init_evals=n_init, max_iter=iters)\n"
      ]
    },
    {
      "cell_type": "code",
      "execution_count": 47,
      "metadata": {
        "id": "k6GjFBr1JTJf",
        "colab": {
          "base_uri": "https://localhost:8080/"
        },
        "outputId": "47762df7-98fe-4ae8-b944-368d1d0a0fb4"
      },
      "outputs": [
        {
          "output_type": "stream",
          "name": "stdout",
          "text": [
            "Evaluation \t Proposed point \t  Current eval. \t  Best eval. \t        Exact EI: StdDev. x \t Approx EI: StdDev. x \n",
            "init\t [0.08366006 1.09266021]\t 1.0453292732107575\t -1.029299726828387\t    \t    \n",
            "init\t [ 2.22256611 -1.96781221]\t 48.81113313056442\t -1.029299726828387\t    \t    \n",
            "init\t [-1.14158445  1.83041496]\t 31.794043287944216\t -1.029299726828387\t    \t    \n",
            "init\t [ 0.07870027 -0.7268623 ]\t -1.029299726828387\t -1.029299726828387\t    \t    \n",
            "init\t [ 0.23519962 -1.11498023]\t 1.161934062902255\t -1.029299726828387\t    \t    \n",
            "1  \t [-1.4544454   0.80460528]\t 0.13632292703505466\t -1.029299726828387\t 1.503658355512916\t 1.503658355512916\n",
            "2  \t [-1.62889462 -1.85708112]\t 38.86111235771161\t -1.029299726828387\t 1.5374298505922563\t 1.5374298505922563\n",
            "3  \t [-0.15386684 -1.39029353]\t 7.520441668707877\t -1.029299726828387\t 1.3235846389965387\t 1.3235846389965387\n",
            "4  \t [0.42921709 0.75222473]\t 0.007928470491904593\t -1.029299726828387\t 1.4304797833357905\t 1.4304797833357905\n",
            "5  \t [ 0.17242163 -0.54461366]\t -0.811353901266326\t -1.029299726828387\t 1.412829797586225\t 1.4450988057821046\n",
            "6  \t [ 0.06717019 -0.52421601]\t -0.8143512817292351\t -1.029299726828387\t 1.5439795654917354\t 1.50620479946782\n",
            "7  \t [-0.118      -0.40712549]\t -0.4497802933384173\t -1.029299726828387\t 1.4056198373192503\t 1.3793594519410874\n",
            "8  \t [ 0.2592621  -0.56726335]\t -0.7605508340586425\t -1.029299726828387\t 1.5463540043462463\t 1.369358380073805\n",
            "9  \t [ 0.06304136 -0.15679668]\t -0.0899440331807559\t -1.029299726828387\t 1.6814689007190362\t 1.6025367159301296\n",
            "10 \t [-0.08968669 -0.4502591 ]\t -0.5741085689360789\t -1.029299726828387\t 1.4190796705093724\t 1.4567454478312478\n",
            "11 \t [ 0.46905033 -0.65007266]\t -0.49901532086738676\t -1.029299726828387\t 1.4896210002699184\t 1.4351430056361705\n",
            "12 \t [ 0.156359   -0.48217757]\t -0.6926153169088273\t -1.029299726828387\t 1.432881569847015\t 1.2260228945316287\n",
            "13 \t [ 0.37398364 -0.57880722]\t -0.5883008050555698\t -1.029299726828387\t 1.4425614053412645\t 1.5048117897082487\n",
            "14 \t [ 0.05481065 -0.43736292]\t -0.6307577358252264\t -1.029299726828387\t 1.5462595654560578\t 1.4329811511763388\n",
            "15 \t [ 0.98160168 -0.88383851]\t 0.6513386265952582\t -1.029299726828387\t 1.5747129461257667\t 1.247799730766759\n",
            "16 \t [-1.24464695  0.11685708]\t 2.1968108543449953\t -1.029299726828387\t 1.429092982797822\t 1.3645022534716014\n",
            "17 \t [2.24352856 1.99339116]\t 61.173330026700434\t -1.029299726828387\t 1.6309471979115955\t 1.6145210128774306\n",
            "18 \t [ 0.29416743 -0.56838556]\t -0.7113438555615259\t -1.029299726828387\t 1.3411824123280327\t 1.5237870070746857\n",
            "19 \t [ 0.19218579 -0.50568502]\t -0.7135959576320038\t -1.029299726828387\t 1.4095454518165818\t 1.5496296198702957\n",
            "20 \t [ 0.05079322 -0.44249316]\t -0.6420197461803926\t -1.029299726828387\t 1.513481683265984\t 1.2944938657401361\n"
          ]
        }
      ],
      "source": [
        "### EXACT GP EI GRADIENTS\n",
        "\n",
        "np.random.seed(run_num_14)\n",
        "surrogate_exact_14 = dGaussianProcess(cov_func, optimize=opt)\n",
        "\n",
        "exact_14 = dGPGO(surrogate_exact_14, Acquisition_grad(util), objfunc, param)\n",
        "exact_14.run(init_evals=n_init, max_iter=iters)\n"
      ]
    },
    {
      "cell_type": "code",
      "execution_count": 48,
      "metadata": {
        "id": "dPS8WB3aJTN6",
        "colab": {
          "base_uri": "https://localhost:8080/"
        },
        "outputId": "b166efc1-5101-4067-e919-6a02fd5c6363"
      },
      "outputs": [
        {
          "output_type": "stream",
          "name": "stdout",
          "text": [
            "Evaluation \t Proposed point \t  Current eval. \t  Best eval. \t        Exact EI: StdDev. x \t Approx EI: StdDev. x \n",
            "init\t [ 2.09290618 -1.2844163 ]\t 6.84252100896936\t 2.1163170846379233\t    \t    \n",
            "init\t [-2.67382071 -0.55384622]\t 43.69785230561242\t 2.1163170846379233\t    \t    \n",
            "init\t [-1.34759443  0.1200009 ]\t 2.1163170846379233\t 2.1163170846379233\t    \t    \n",
            "init\t [-1.16448651 -0.78210256]\t 2.3544087277459513\t 2.1163170846379233\t    \t    \n",
            "init\t [-2.32955234 -1.00040394]\t 15.469119251600274\t 2.1163170846379233\t    \t    \n",
            "\u001b[1m\u001b[92m1\u001b[0m\t \u001b[1m\u001b[92m[-0.21638275  1.08971893]\u001b[0m\t \u001b[1m\u001b[92m0.837475442441042\u001b[0m\t \u001b[1m\u001b[92m0.837475442441042\u001b[0m\t \u001b[1m\u001b[92m1.687086957433018\u001b[0m\t \u001b[1m\u001b[92m1.3725080719744793\u001b[0m\n",
            "2  \t [3. 2.]\t 162.89999999999998\t 0.837475442441042\t 1.9631753150999465\t 2.0425444457643627\n",
            "3  \t [-1.96941567  2.        ]\t 47.43342240539559\t 0.837475442441042\t 1.5403553542748882\t 1.7185987471812307\n",
            "4  \t [-0.17804804 -2.        ]\t 48.4808006875014\t 0.837475442441042\t 1.3172156010179834\t 1.066978145531064\n",
            "5  \t [0.70088083 0.45442263]\t 1.1607617601927824\t 0.837475442441042\t 1.5607054393166613\t 1.4634523949154672\n",
            "6  \t [0.44051215 2.        ]\t 49.58058670666018\t 0.837475442441042\t 1.4917690482681116\t 1.5842230565071327\n",
            "\u001b[1m\u001b[92m7\u001b[0m\t \u001b[1m\u001b[92m[-0.33208872  0.14525558]\u001b[0m\t \u001b[1m\u001b[92m0.28518411794690623\u001b[0m\t \u001b[1m\u001b[92m0.28518411794690623\u001b[0m\t \u001b[1m\u001b[92m1.401537870691881\u001b[0m\t \u001b[1m\u001b[92m1.5095393760747033\u001b[0m\n",
            "\u001b[1m\u001b[92m8\u001b[0m\t \u001b[1m\u001b[92m[-0.15032425  0.09334754]\u001b[0m\t \u001b[1m\u001b[92m0.040737291029828274\u001b[0m\t \u001b[1m\u001b[92m0.040737291029828274\u001b[0m\t \u001b[1m\u001b[92m1.7443847138146715\u001b[0m\t \u001b[1m\u001b[92m1.8333383219569797\u001b[0m\n",
            "9  \t [-0.60364389  0.27091131]\t 0.7592796091439257\t 0.040737291029828274\t 1.3733909735212009\t 1.410266239841792\n",
            "10 \t [-0.53953456  0.23814866]\t 0.6521808387640313\t 0.040737291029828274\t 1.4539183944480387\t 1.4811640946810631\n",
            "\u001b[1m\u001b[92m11\u001b[0m\t \u001b[1m\u001b[92m[-0.15367368  0.10558428]\u001b[0m\t \u001b[1m\u001b[92m0.03297505803852837\u001b[0m\t \u001b[1m\u001b[92m0.03297505803852837\u001b[0m\t \u001b[1m\u001b[92m1.3114009868129806\u001b[0m\t \u001b[1m\u001b[92m1.310930861031575\u001b[0m\n",
            "12 \t [-0.46148817  0.20228707]\t 0.5095204408183469\t 0.03297505803852837\t 1.3144470110341009\t 1.4788991998020389\n",
            "13 \t [-0.6706137   0.30839231]\t 0.8534287797282545\t 0.03297505803852837\t 1.6825666212186614\t 1.6457997894086067\n",
            "14 \t [-0.39040207  0.17694105]\t 0.3716625015829975\t 0.03297505803852837\t 1.5619955907987941\t 1.692230009685177\n",
            "15 \t [-0.29168397  0.14566616]\t 0.19976044183287361\t 0.03297505803852837\t 1.1702448417736715\t 1.1563966446040432\n",
            "16 \t [-0.46881106  0.20657559]\t 0.520979058824999\t 0.03297505803852837\t 1.5715515292544295\t 1.5182871513594178\n",
            "17 \t [-0.57443921  0.25487473]\t 0.7138608762610039\t 0.03297505803852837\t 1.2812380807929062\t 1.2913519315271251\n",
            "\u001b[1m\u001b[92m18\u001b[0m\t \u001b[1m\u001b[92m[-0.14314159  0.11219463]\u001b[0m\t \u001b[1m\u001b[92m0.01530284548598268\u001b[0m\t \u001b[1m\u001b[92m0.01530284548598268\u001b[0m\t \u001b[1m\u001b[92m1.412123308841308\u001b[0m\t \u001b[1m\u001b[92m1.344725852401033\u001b[0m\n",
            "19 \t [-0.29914665  0.15010662]\t 0.20837534930785923\t 0.01530284548598268\t 1.5643918156632572\t 1.6594539675505373\n",
            "20 \t [-0.2577758   0.13882127]\t 0.1452343315446074\t 0.01530284548598268\t 1.39757441678078\t 1.5713279271847997\n"
          ]
        }
      ],
      "source": [
        "### EXACT GP EI GRADIENTS\n",
        "\n",
        "np.random.seed(run_num_15)\n",
        "surrogate_exact_15 = dGaussianProcess(cov_func, optimize=opt)\n",
        "\n",
        "exact_15 = dGPGO(surrogate_exact_15, Acquisition_grad(util), objfunc, param)\n",
        "exact_15.run(init_evals=n_init, max_iter=iters)\n"
      ]
    },
    {
      "cell_type": "code",
      "execution_count": 49,
      "metadata": {
        "id": "lu8ki9XIQPPN",
        "colab": {
          "base_uri": "https://localhost:8080/"
        },
        "outputId": "9d0961ba-c8ba-4dce-d84e-eeb58dbafa9e"
      },
      "outputs": [
        {
          "output_type": "stream",
          "name": "stdout",
          "text": [
            "Evaluation \t Proposed point \t  Current eval. \t  Best eval. \t        Exact EI: StdDev. x \t Approx EI: StdDev. x \n",
            "init\t [-1.66025353  0.09265337]\t 1.8632773736203017\t 1.8632773736203017\t    \t    \n",
            "init\t [ 0.30420874 -1.8175922 ]\t 30.24114424375299\t 1.8632773736203017\t    \t    \n",
            "init\t [-0.83562699 -1.10767623]\t 3.922061281476444\t 1.8632773736203017\t    \t    \n",
            "init\t [ 1.13235697 -1.3450743 ]\t 6.7121671493737685\t 1.8632773736203017\t    \t    \n",
            "init\t [-2.5780508   1.76404344]\t 53.42443470756798\t 1.8632773736203017\t    \t    \n",
            "1  \t [ 3.         -0.03166106]\t 108.80101115742967\t 1.8632773736203017\t 1.9087975856071429\t 2.08835013992957\n",
            "2  \t [-3. -2.]\t 162.89999999999998\t 1.8632773736203017\t 1.8471872664105302\t 1.7864102788733391\n",
            "3  \t [0.53458945 2.        ]\t 50.04858828808778\t 1.8632773736203017\t 1.5088545907563833\t 1.4720178802655093\n",
            "4  \t [-1.10134941  0.07301427]\t 2.25541265535764\t 1.8632773736203017\t 1.5109939546938678\t 1.5740192206167833\n",
            "\u001b[1m\u001b[92m5\u001b[0m\t \u001b[1m\u001b[92m[-0.38436994 -0.07390268]\u001b[0m\t \u001b[1m\u001b[92m0.5528776934672587\u001b[0m\t \u001b[1m\u001b[92m0.5528776934672587\u001b[0m\t \u001b[1m\u001b[92m1.630660062981104\u001b[0m\t \u001b[1m\u001b[92m1.5978489844775672\u001b[0m\n",
            "6  \t [-0.42109164 -0.02890779]\t 0.6539364235501978\t 0.5528776934672587\t 1.6923162504957172\t 1.6620984323829482\n",
            "7  \t [-0.67443952  0.00846508]\t 1.4103489071958895\t 0.5528776934672587\t 1.3191053377114177\t 1.542759983840863\n",
            "8  \t [-0.72625606  0.01352737]\t 1.5639248811969788\t 0.5528776934672587\t 1.2937891476293226\t 1.353882345963034\n",
            "9  \t [-0.81161396  0.01654354]\t 1.8044141832528953\t 0.5528776934672587\t 1.6228358055716485\t 1.5040492669063117\n",
            "\u001b[1m\u001b[92m10\u001b[0m\t \u001b[1m\u001b[92m[ 0.07713587 -0.00636867]\u001b[0m\t \u001b[1m\u001b[92m0.023072012720087676\u001b[0m\t \u001b[1m\u001b[92m0.023072012720087676\u001b[0m\t \u001b[1m\u001b[92m1.5213260460341789\u001b[0m\t \u001b[1m\u001b[92m1.693494111101545\u001b[0m\n",
            "11 \t [ 0.37605161 -0.0128942 ]\t 0.5190919891752236\t 0.023072012720087676\t 1.5633354467576368\t 1.6959197557192798\n",
            "\u001b[1m\u001b[92m12\u001b[0m\t \u001b[1m\u001b[92m[0.01493499 0.05445315]\u001b[0m\t \u001b[1m\u001b[92m-0.010120044571410986\u001b[0m\t \u001b[1m\u001b[92m-0.010120044571410986\u001b[0m\t \u001b[1m\u001b[92m1.652814575294897\u001b[0m\t \u001b[1m\u001b[92m1.82430393329512\u001b[0m\n",
            "13 \t [ 0.38159612 -0.00932071]\t 0.5350591803499689\t -0.010120044571410986\t 1.2270445733892568\t 1.463738346873034\n",
            "14 \t [0.20912662 0.02148252]\t 0.17359449862179208\t -0.010120044571410986\t 1.199150790138382\t 1.120012310840204\n",
            "15 \t [0.14663272 0.03564373]\t 0.08518819830076237\t -0.010120044571410986\t 1.3246657002929265\t 1.1884861696752576\n",
            "16 \t [ 0.47898394 -0.03060918]\t 0.792786493556351\t -0.010120044571410986\t 1.3766030536379146\t 1.2264114075586092\n",
            "17 \t [-0.16021398  0.11146854]\t 0.034353866894802326\t -0.010120044571410986\t 1.578340449963402\t 1.521386931636775\n",
            "18 \t [ 0.36579214 -0.0134559 ]\t 0.4927705813983359\t -0.010120044571410986\t 1.4893115341669656\t 1.2984356516425672\n",
            "19 \t [0.07050523 0.04456579]\t 0.015045560084786637\t -0.010120044571410986\t 1.209216515910283\t 1.1453935999050837\n",
            "20 \t [ 0.54719211 -0.05922163]\t 0.9719705387181258\t -0.010120044571410986\t 1.5640213223009751\t 1.551268399216809\n"
          ]
        }
      ],
      "source": [
        "### EXACT GP EI GRADIENTS\n",
        "\n",
        "np.random.seed(run_num_16)\n",
        "surrogate_exact_16 = dGaussianProcess(cov_func, optimize=opt)\n",
        "\n",
        "exact_16 = dGPGO(surrogate_exact_16, Acquisition_grad(util), objfunc, param)\n",
        "exact_16.run(init_evals=n_init, max_iter=iters)\n"
      ]
    },
    {
      "cell_type": "code",
      "execution_count": 50,
      "metadata": {
        "id": "yU2SflSsJTUs",
        "colab": {
          "base_uri": "https://localhost:8080/"
        },
        "outputId": "a11eaf99-e2b6-4b3e-bd55-f4da33149112"
      },
      "outputs": [
        {
          "output_type": "stream",
          "name": "stdout",
          "text": [
            "Evaluation \t Proposed point \t  Current eval. \t  Best eval. \t        Exact EI: StdDev. x \t Approx EI: StdDev. x \n",
            "init\t [-1.23200998  0.12234702]\t 2.189206652278967\t 1.7722768782964888\t    \t    \n",
            "init\t [-1.85087528 -1.72839857]\t 29.406067820453675\t 1.7722768782964888\t    \t    \n",
            "init\t [1.72191276 0.62533409]\t 2.2113401446731897\t 1.7722768782964888\t    \t    \n",
            "init\t [0.82512538 0.30241158]\t 1.7722768782964888\t 1.7722768782964888\t    \t    \n",
            "init\t [-2.7656225  -0.56874558]\t 57.5922315952177\t 1.7722768782964888\t    \t    \n",
            "1  \t [-0.94844345  1.77369891]\t 27.464707626764916\t 1.7722768782964888\t 1.8475063655280535\t 1.7331668124315933\n",
            "2  \t [ 2.16747806 -2.        ]\t 50.670774669928775\t 1.7722768782964888\t 1.6242463708035557\t 2.197880546594921\n",
            "3  \t [3. 2.]\t 162.89999999999998\t 1.7722768782964888\t 1.8273012694051465\t 1.6866923178638684\n",
            "4  \t [0.97958062 0.2221369 ]\t 2.229137979813862\t 1.7722768782964888\t 1.5952959609827362\t 1.727403275521201\n",
            "\u001b[1m\u001b[92m5\u001b[0m\t \u001b[1m\u001b[92m[-0.08334248 -0.32165678]\u001b[0m\t \u001b[1m\u001b[92m-0.3165435517895191\u001b[0m\t \u001b[1m\u001b[92m-0.3165435517895191\u001b[0m\t \u001b[1m\u001b[92m1.3365933388428728\u001b[0m\t \u001b[1m\u001b[92m1.2229519008052616\u001b[0m\n",
            "\u001b[1m\u001b[92m6\u001b[0m\t \u001b[1m\u001b[92m[-0.00456981 -0.44315296]\u001b[0m\t \u001b[1m\u001b[92m-0.6291619745773486\u001b[0m\t \u001b[1m\u001b[92m-0.6291619745773486\u001b[0m\t \u001b[1m\u001b[92m1.425432399042027\u001b[0m\t \u001b[1m\u001b[92m1.4441274285787753\u001b[0m\n",
            "7  \t [-0.1632596  -0.28702899]\t -0.1504035258575224\t -0.6291619745773486\t 1.2186689320872715\t 1.1761763249543846\n",
            "8  \t [-0.51449392  0.02033092]\t 0.905742352851246\t -0.6291619745773486\t 1.5094401600909568\t 1.478514232872209\n",
            "9  \t [-0.24611679 -0.20700637]\t 0.12154902372513854\t -0.6291619745773486\t 1.5672184449251148\t 1.548634204053649\n",
            "10 \t [-0.12197426 -0.32652525]\t -0.2821299159793492\t -0.6291619745773486\t 1.2638078076228565\t 1.1764661072412113\n",
            "11 \t [-0.09346761 -0.35734336]\t -0.3773690429532704\t -0.6291619745773486\t 1.639119514060623\t 1.5441994935196732\n",
            "\u001b[1m\u001b[92m12\u001b[0m\t \u001b[1m\u001b[92m[ 0.11830541 -0.66154268]\u001b[0m\t \u001b[1m\u001b[92m-1.0071341453385254\u001b[0m\t \u001b[1m\u001b[92m-1.0071341453385254\u001b[0m\t \u001b[1m\u001b[92m1.2852744016054969\u001b[0m\t \u001b[1m\u001b[92m1.2693314253338686\u001b[0m\n",
            "13 \t [ 0.02521467 -0.5409358 ]\t -0.8390573586807799\t -1.0071341453385254\t 1.2429168999397011\t 1.1957918822449478\n",
            "14 \t [-0.22662511 -0.2519287 ]\t 0.019275542293584635\t -1.0071341453385254\t 1.4202317427162592\t 1.2672154732477778\n",
            "15 \t [-0.16389768 -0.31697265]\t -0.2036164182756886\t -1.0071341453385254\t 1.3500218931313321\t 1.1518417640401835\n",
            "16 \t [-0.15109931 -0.32851063]\t -0.2452196271382986\t -1.0071341453385254\t 1.1980452068787444\t 1.1266779112227256\n",
            "17 \t [-0.04980421 -0.44523503]\t -0.6036661778585746\t -1.0071341453385254\t 1.1576404121808224\t 0.9789490105998127\n",
            "18 \t [-0.0607197  -0.43213558]\t -0.5665174441423825\t -1.0071341453385254\t 1.3747917683064979\t 1.2614936080117207\n",
            "19 \t [-0.03885293 -0.46159448]\t -0.6467157635550382\t -1.0071341453385254\t 1.3431761566746734\t 1.2562271567689947\n",
            "20 \t [ 0.02880166 -0.55679738]\t -0.8683554392047718\t -1.0071341453385254\t 1.5155577282402832\t 1.622916004314801\n"
          ]
        }
      ],
      "source": [
        "### EXACT GP EI GRADIENTS\n",
        "\n",
        "np.random.seed(run_num_17)\n",
        "surrogate_exact_17 = dGaussianProcess(cov_func, optimize=opt)\n",
        "\n",
        "exact_17 = dGPGO(surrogate_exact_17, Acquisition_grad(util), objfunc, param)\n",
        "exact_17.run(init_evals=n_init, max_iter=iters)\n"
      ]
    },
    {
      "cell_type": "code",
      "execution_count": 51,
      "metadata": {
        "id": "eVEhyZ9BQS-1",
        "colab": {
          "base_uri": "https://localhost:8080/"
        },
        "outputId": "7e1cfa46-cfe9-4c3d-e45d-1151a8523ba1"
      },
      "outputs": [
        {
          "output_type": "stream",
          "name": "stdout",
          "text": [
            "Evaluation \t Proposed point \t  Current eval. \t  Best eval. \t        Exact EI: StdDev. x \t Approx EI: StdDev. x \n",
            "init\t [0.90224545 0.02181349]\t 2.062169771852028\t 2.062169771852028\t    \t    \n",
            "init\t [ 2.27160883 -1.2726391 ]\t 11.64729291207819\t 2.062169771852028\t    \t    \n",
            "init\t [2.11339841 1.00054514]\t 7.792128760671214\t 2.062169771852028\t    \t    \n",
            "init\t [0.99661    1.95158179]\t 46.96206222999227\t 2.062169771852028\t    \t    \n",
            "init\t [-1.45818946 -1.8867763 ]\t 41.4190528039297\t 2.062169771852028\t    \t    \n",
            "1  \t [-2.66531515  1.40819569]\t 45.982813537937645\t 2.062169771852028\t 1.5736723200128686\t 1.903386920817331\n",
            "2  \t [3.        0.6031628]\t 109.78368431836117\t 2.062169771852028\t 1.3147760148745133\t 1.5503952784317807\n",
            "3  \t [1.89592609 0.6375228 ]\t 2.969704029748832\t 2.062169771852028\t 1.4184424205217094\t 1.4184424205217094\n",
            "4  \t [-0.32173714 -1.49268739]\t 11.817714263649087\t 2.062169771852028\t 1.5210965405894012\t 1.5210965405894012\n",
            "\u001b[1m\u001b[92m5\u001b[0m\t \u001b[1m\u001b[92m[-0.73927187  0.43212922]\u001b[0m\t \u001b[1m\u001b[92m0.686338663645771\u001b[0m\t \u001b[1m\u001b[92m0.686338663645771\u001b[0m\t \u001b[1m\u001b[92m1.2992673279008835\u001b[0m\t \u001b[1m\u001b[92m1.4084890045611462\u001b[0m\n",
            "6  \t [-3.         -0.66721437]\t 109.91366621956408\t 0.686338663645771\t 1.400528883780798\t 1.6857633223431794\n",
            "\u001b[1m\u001b[92m7\u001b[0m\t \u001b[1m\u001b[92m[-0.30694961 -0.82375239]\u001b[0m\t \u001b[1m\u001b[92m-0.26109415258126123\u001b[0m\t \u001b[1m\u001b[92m-0.26109415258126123\u001b[0m\t \u001b[1m\u001b[92m1.5482273436822847\u001b[0m\t \u001b[1m\u001b[92m1.5484136458522482\u001b[0m\n",
            "8  \t [-0.33373115 -0.2909626 ]\t 0.2070516228311136\t -0.26109415258126123\t 1.2341570202600438\t 1.3215479769673912\n",
            "9  \t [-1.75084061  0.3508495 ]\t 1.0840719089652828\t -0.26109415258126123\t 1.5121655793495967\t 1.5121655793495967\n",
            "10 \t [-0.83421251  1.80811902]\t 30.04658126333667\t -0.26109415258126123\t 1.566100338773368\t 1.6704474939211253\n",
            "11 \t [-0.8431111  -0.17299245]\t 1.9316943314986037\t -0.26109415258126123\t 1.5369540670822746\t 1.4498991264193513\n",
            "\u001b[1m\u001b[92m12\u001b[0m\t \u001b[1m\u001b[92m[-0.04626011 -0.28362371]\u001b[0m\t \u001b[1m\u001b[92m-0.2742148640986231\u001b[0m\t \u001b[1m\u001b[92m-0.2742148640986231\u001b[0m\t \u001b[1m\u001b[92m1.2578432268858655\u001b[0m\t \u001b[1m\u001b[92m1.3033066077116255\u001b[0m\n",
            "13 \t [-0.0940631 -0.2454676]\t -0.16817827869694296\t -0.2742148640986231\t 1.4484024654971421\t 1.2930701740495099\n",
            "14 \t [ 1.01774058 -2.        ]\t 48.2250946914044\t -0.2742148640986231\t 1.261362732693786\t 1.2663050048617002\n",
            "15 \t [-0.05485529 -0.26668874]\t -0.23761098370645095\t -0.2742148640986231\t 1.389302489341699\t 1.2661504665289727\n",
            "16 \t [-0.21377759 -0.02083701]\t 0.1811677699167673\t -0.2742148640986231\t 1.3173907730052195\t 1.319468060173425\n",
            "\u001b[1m\u001b[92m17\u001b[0m\t \u001b[1m\u001b[92m[ 0.03986443 -0.35291168]\u001b[0m\t \u001b[1m\u001b[92m-0.44385636397224737\u001b[0m\t \u001b[1m\u001b[92m-0.44385636397224737\u001b[0m\t \u001b[1m\u001b[92m1.7633453999502864\u001b[0m\t \u001b[1m\u001b[92m1.7412742536260137\u001b[0m\n",
            "18 \t [1.37594906 0.40535503]\t 2.316318551311781\t -0.44385636397224737\t 1.6054385946794358\t 1.5611302134100158\n",
            "19 \t [-0.03871168 -0.27348562]\t -0.26022398754451387\t -0.44385636397224737\t 1.3680966858305974\t 1.2887114395603716\n",
            "20 \t [-0.03166379 -0.28081617]\t -0.27765674666924967\t -0.44385636397224737\t 1.5184123451002063\t 1.43627073343289\n"
          ]
        }
      ],
      "source": [
        "### EXACT GP EI GRADIENTS\n",
        "\n",
        "np.random.seed(run_num_18)\n",
        "surrogate_exact_18 = dGaussianProcess(cov_func, optimize=opt)\n",
        "\n",
        "exact_18 = dGPGO(surrogate_exact_18, Acquisition_grad(util), objfunc, param)\n",
        "exact_18.run(init_evals=n_init, max_iter=iters)\n"
      ]
    },
    {
      "cell_type": "code",
      "execution_count": 52,
      "metadata": {
        "id": "B6gTz1ojQUxn",
        "colab": {
          "base_uri": "https://localhost:8080/"
        },
        "outputId": "71cd8dc2-7046-498a-bb91-bbfab77a4ebe"
      },
      "outputs": [
        {
          "output_type": "stream",
          "name": "stdout",
          "text": [
            "Evaluation \t Proposed point \t  Current eval. \t  Best eval. \t        Exact EI: StdDev. x \t Approx EI: StdDev. x \n",
            "init\t [-2.41479839  1.04499887]\t 15.890475442873509\t 6.578088852480828\t    \t    \n",
            "init\t [-1.51837216 -1.44747325]\t 13.520839509777993\t 6.578088852480828\t    \t    \n",
            "init\t [-1.01132062 -1.66800174]\t 23.772158573571232\t 6.578088852480828\t    \t    \n",
            "init\t [1.03186249 1.22637519]\t 6.578088852480828\t 6.578088852480828\t    \t    \n",
            "init\t [2.89645149 0.54264294]\t 83.31828503667734\t 6.578088852480828\t    \t    \n",
            "1  \t [0.10116931 2.        ]\t 48.243059900228204\t 6.578088852480828\t 1.802734884445024\t 2.008826734194486\n",
            "2  \t [ 1.4154914  -1.88944898]\t 36.29074861563762\t 6.578088852480828\t 1.9303001045414583\t 2.150154120606879\n",
            "3  \t [-3. -2.]\t 162.89999999999998\t 6.578088852480828\t 1.4372222344321\t 1.599155198919188\n",
            "\u001b[1m\u001b[92m4\u001b[0m\t \u001b[1m\u001b[92m[-0.2606682 -0.1399839]\u001b[0m\t \u001b[1m\u001b[92m0.22184398731126448\u001b[0m\t \u001b[1m\u001b[92m0.22184398731126448\u001b[0m\t \u001b[1m\u001b[92m1.4041654336884455\u001b[0m\t \u001b[1m\u001b[92m1.4793264221703768\u001b[0m\n",
            "\u001b[1m\u001b[92m5\u001b[0m\t \u001b[1m\u001b[92m[ 0.19813133 -0.17803827]\u001b[0m\t \u001b[1m\u001b[92m-0.004238427612070855\u001b[0m\t \u001b[1m\u001b[92m-0.004238427612070855\u001b[0m\t \u001b[1m\u001b[92m1.3408440579486747\u001b[0m\t \u001b[1m\u001b[92m1.3983748705484975\u001b[0m\n",
            "6  \t [-0.27430555 -0.08600945]\t 0.2834480626298939\t -0.004238427612070855\t 1.5088245386046173\t 1.4945044307160393\n",
            "\u001b[1m\u001b[92m7\u001b[0m\t \u001b[1m\u001b[92m[ 0.15377079 -0.15070031]\u001b[0m\t \u001b[1m\u001b[92m-0.018540449816608573\u001b[0m\t \u001b[1m\u001b[92m-0.018540449816608573\u001b[0m\t \u001b[1m\u001b[92m1.2795310486252387\u001b[0m\t \u001b[1m\u001b[92m1.2400249067465567\u001b[0m\n",
            "\u001b[1m\u001b[92m8\u001b[0m\t \u001b[1m\u001b[92m[ 0.04723679 -0.12321757]\u001b[0m\t \u001b[1m\u001b[92m-0.0567138350143235\u001b[0m\t \u001b[1m\u001b[92m-0.0567138350143235\u001b[0m\t \u001b[1m\u001b[92m1.4376887024938234\u001b[0m\t \u001b[1m\u001b[92m1.368388291698304\u001b[0m\n",
            "9  \t [-0.02262104 -0.10891735]\t -0.04237891031671153\t -0.0567138350143235\t 1.475538746779045\t 1.4397218981595103\n",
            "10 \t [-0.31533916 -0.06475231]\t 0.3810357541960225\t -0.0567138350143235\t 1.6245240957134182\t 1.6530245608451377\n",
            "11 \t [-0.25225065 -0.07364251]\t 0.24310603495990016\t -0.0567138350143235\t 1.1605237022000812\t 1.1738394903962426\n",
            "12 \t [-0.05417523 -0.10273576]\t -0.024485470464218614\t -0.0567138350143235\t 1.400069545962441\t 1.4574447437172924\n",
            "13 \t [ 0.33866736 -0.18799463]\t 0.23162025039446218\t -0.0567138350143235\t 1.5009640273368436\t 1.6767768798115796\n",
            "14 \t [-0.26533015 -0.06332603]\t 0.27213458348625147\t -0.0567138350143235\t 1.325378033695375\t 1.3300573824580888\n",
            "15 \t [-0.42371982 -0.03990124]\t 0.6629401471561489\t -0.0567138350143235\t 1.4753701454169343\t 1.4720682295032113\n",
            "16 \t [ 0.1572183  -0.13444004]\t 0.005466159632280407\t -0.0567138350143235\t 1.248688673764986\t 1.1399672716495945\n",
            "17 \t [ 0.08150114 -0.11492688]\t -0.03502441477500618\t -0.0567138350143235\t 1.3039485800574493\t 1.3423915399529596\n",
            "18 \t [-0.5728373  -0.01022251]\t 1.103663194548136\t -0.0567138350143235\t 1.4857012356276644\t 1.461129914440445\n",
            "19 \t [-0.00491067 -0.09384859]\t -0.03436261889905149\t -0.0567138350143235\t 1.2135291338653578\t 1.1666181566331368\n",
            "20 \t [-0.03914131 -0.08724883]\t -0.020679366191924245\t -0.0567138350143235\t 1.218741895602903\t 1.1179539073518727\n"
          ]
        }
      ],
      "source": [
        "### EXACT GP EI GRADIENTS\n",
        "\n",
        "np.random.seed(run_num_19)\n",
        "surrogate_exact_19 = dGaussianProcess(cov_func, optimize=opt)\n",
        "\n",
        "exact_19 = dGPGO(surrogate_exact_19, Acquisition_grad(util), objfunc, param)\n",
        "exact_19.run(init_evals=n_init, max_iter=iters)\n"
      ]
    },
    {
      "cell_type": "code",
      "execution_count": 53,
      "metadata": {
        "id": "aw3xvSryIwDi",
        "colab": {
          "base_uri": "https://localhost:8080/"
        },
        "outputId": "9c1820bd-c52c-4a36-a23b-f9a01c7d572a"
      },
      "outputs": [
        {
          "output_type": "stream",
          "name": "stdout",
          "text": [
            "Evaluation \t Proposed point \t  Current eval. \t  Best eval. \t        Exact EI: StdDev. x \t Approx EI: StdDev. x \n",
            "init\t [0.52878481 1.59085491]\t 17.29968374481291\t 1.5037392797834441\t    \t    \n",
            "init\t [2.34918438 1.26334991]\t 20.91583049569433\t 1.5037392797834441\t    \t    \n",
            "init\t [-2.78466249  0.76703033]\t 57.06253405225224\t 1.5037392797834441\t    \t    \n",
            "init\t [-0.72791435  0.07404378]\t 1.5037392797834441\t 1.5037392797834441\t    \t    \n",
            "init\t [ 0.94770879 -1.22459913]\t 3.9766737661914173\t 1.5037392797834441\t    \t    \n",
            "1  \t [-1.18115566 -2.        ]\t 52.76057163057528\t 1.5037392797834441\t 1.3239021933320114\t 1.4180856387988787\n",
            "2  \t [ 2.59213852 -1.65326133]\t 47.84960809826183\t 1.5037392797834441\t 1.4256178623338602\t 2.0152754644213333\n",
            "\u001b[1m\u001b[92m3\u001b[0m\t \u001b[1m\u001b[92m[ 0.22139217 -0.162917  ]\u001b[0m\t \u001b[1m\u001b[92m0.05163369461120049\u001b[0m\t \u001b[1m\u001b[92m0.05163369461120049\u001b[0m\t \u001b[1m\u001b[92m1.4281451246146106\u001b[0m\t \u001b[1m\u001b[92m1.3847694614229211\u001b[0m\n",
            "\u001b[1m\u001b[92m4\u001b[0m\t \u001b[1m\u001b[92m[-0.33967677  0.28979802]\u001b[0m\t \u001b[1m\u001b[92m0.02792003913677127\u001b[0m\t \u001b[1m\u001b[92m0.02792003913677127\u001b[0m\t \u001b[1m\u001b[92m1.5751232433854268\u001b[0m\t \u001b[1m\u001b[92m1.5431826745806823\u001b[0m\n",
            "\u001b[1m\u001b[92m5\u001b[0m\t \u001b[1m\u001b[92m[ 0.04615981 -0.02633349]\u001b[0m\t \u001b[1m\u001b[92m0.004525945620337681\u001b[0m\t \u001b[1m\u001b[92m0.004525945620337681\u001b[0m\t \u001b[1m\u001b[92m1.373437617904242\u001b[0m\t \u001b[1m\u001b[92m1.3258882164617054\u001b[0m\n",
            "\u001b[1m\u001b[92m6\u001b[0m\t \u001b[1m\u001b[92m[-0.51229094  0.50493252]\u001b[0m\t \u001b[1m\u001b[92m-0.10733364280664648\u001b[0m\t \u001b[1m\u001b[92m-0.10733364280664648\u001b[0m\t \u001b[1m\u001b[92m1.665103494184454\u001b[0m\t \u001b[1m\u001b[92m1.6526672571826362\u001b[0m\n",
            "7  \t [ 0.73759828 -0.65234338]\t 0.14930320663757457\t -0.10733364280664648\t 1.6470374884529966\t 1.6208417202304342\n",
            "8  \t [ 0.066295   -0.04776447]\t 0.005268067041442573\t -0.10733364280664648\t 1.4239696593139257\t 1.3548461827762353\n",
            "9  \t [ 0.04107459 -0.03045656]\t 0.0017845543856657886\t -0.10733364280664648\t 1.467959003678594\t 1.4551680218753429\n",
            "10 \t [ 0.48207724 -0.35527918]\t 0.2079228106405437\t -0.10733364280664648\t 1.4692746335817921\t 1.4385048164408696\n",
            "11 \t [ 0.03793112 -0.02831173]\t 0.001473192262755958\t -0.10733364280664648\t 1.486344936304549\t 1.4546584851562372\n",
            "12 \t [-0.08631549  0.05747769]\t 0.011552730140765032\t -0.10733364280664648\t 1.6372542042358986\t 1.6361756153711922\n",
            "13 \t [-0.71738867  1.10505096]\t 1.8352213207479229\t -0.10733364280664648\t 1.7405439416843176\t 1.6641659451853956\n",
            "14 \t [-0.24755388  0.17805514]\t 0.07044937176876051\t -0.10733364280664648\t 1.308634622762319\t 1.3203011205800148\n",
            "15 \t [ 0.16281427 -0.11186413]\t 0.0369234327849899\t -0.10733364280664648\t 1.2368378501102255\t 1.1729263541802024\n",
            "16 \t [ 0.12350205 -0.08525982]\t 0.02112831068983883\t -0.10733364280664648\t 1.3707186453948592\t 1.284423138369109\n",
            "17 \t [-0.09753702  0.06519211]\t 0.014577667106746614\t -0.10733364280664648\t 1.3749087607622552\t 1.3164705529341454\n",
            "18 \t [ 0.15726813 -0.10815404]\t 0.03440240524813155\t -0.10733364280664648\t 1.3760901286995368\t 1.32383313121424\n",
            "19 \t [ 0.37016845 -0.26059157]\t 0.15987851799057828\t -0.10733364280664648\t 1.4928270386283873\t 1.4863948465757384\n",
            "20 \t [ 0.23194414 -0.16008542]\t 0.07215316102056238\t -0.10733364280664648\t 1.1976167330863874\t 1.0958439445571948\n"
          ]
        }
      ],
      "source": [
        "### EXACT GP EI GRADIENTS\n",
        "\n",
        "np.random.seed(run_num_20)\n",
        "surrogate_exact_20 = dGaussianProcess(cov_func, optimize=opt)\n",
        "\n",
        "exact_20 = dGPGO(surrogate_exact_20, Acquisition_grad(util), objfunc, param)\n",
        "exact_20.run(init_evals=n_init, max_iter=iters)\n"
      ]
    },
    {
      "cell_type": "code",
      "execution_count": 54,
      "metadata": {
        "id": "5c8szjivRPme",
        "colab": {
          "base_uri": "https://localhost:8080/"
        },
        "outputId": "72f3a58c-729f-4356-e4ba-832b36497fa6"
      },
      "outputs": [
        {
          "output_type": "execute_result",
          "data": {
            "text/plain": [
              "623.5541229248047"
            ]
          },
          "metadata": {},
          "execution_count": 54
        }
      ],
      "source": [
        "end_exact = time.time()\n",
        "end_exact\n",
        "\n",
        "time_exact = end_exact - start_exact\n",
        "time_exact\n"
      ]
    },
    {
      "cell_type": "code",
      "execution_count": 55,
      "metadata": {
        "id": "f6gCKnp6RR8c",
        "colab": {
          "base_uri": "https://localhost:8080/"
        },
        "outputId": "cdb5e65a-866c-442b-a8fb-2ff3e93ee713"
      },
      "outputs": [
        {
          "output_type": "execute_result",
          "data": {
            "text/plain": [
              "(-0.2658009358573259, -0.2658009358573259)"
            ]
          },
          "metadata": {},
          "execution_count": 55
        }
      ],
      "source": [
        "### Simple regret minimization: run number = 1\n",
        "\n",
        "approx_output_1 = np.append(np.min(-approx_1.GP.y[0:n_init]),-approx_1.GP.y[n_init:(n_init+iters)]) \n",
        "exact_output_1 = np.append(np.min(-exact_1.GP.y[0:n_init]),-exact_1.GP.y[n_init:(n_init+iters)]) \n",
        "\n",
        "regret_approx_1 = np.log(approx_output_1 - y_global_orig)\n",
        "regret_exact_1 = np.log(exact_output_1 - y_global_orig)\n",
        "\n",
        "simple_regret_approx_1 = min_max_array(regret_approx_1)\n",
        "simple_regret_exact_1 = min_max_array(regret_exact_1)\n",
        "\n",
        "min_simple_regret_approx_1 = min(simple_regret_approx_1)\n",
        "min_simple_regret_exact_1 = min(simple_regret_exact_1)\n",
        "\n",
        "min_simple_regret_approx_1, min_simple_regret_exact_1\n"
      ]
    },
    {
      "cell_type": "code",
      "execution_count": 56,
      "metadata": {
        "id": "94yBw5tqQxfk",
        "colab": {
          "base_uri": "https://localhost:8080/"
        },
        "outputId": "5d8c7566-e88f-4e92-a12b-347dc72b9c0f"
      },
      "outputs": [
        {
          "output_type": "execute_result",
          "data": {
            "text/plain": [
              "(0.03335866621503685, -0.09141497463908152)"
            ]
          },
          "metadata": {},
          "execution_count": 56
        }
      ],
      "source": [
        "### Simple regret minimization: run number = 2\n",
        "\n",
        "approx_output_2 = np.append(np.min(-approx_2.GP.y[0:n_init]),-approx_2.GP.y[n_init:(n_init+iters)]) \n",
        "exact_output_2 = np.append(np.min(-exact_2.GP.y[0:n_init]),-exact_2.GP.y[n_init:(n_init+iters)]) \n",
        "\n",
        "regret_approx_2 = np.log(approx_output_2 - y_global_orig)\n",
        "regret_exact_2 = np.log(exact_output_2 - y_global_orig)\n",
        "\n",
        "simple_regret_approx_2 = min_max_array(regret_approx_2)\n",
        "simple_regret_exact_2 = min_max_array(regret_exact_2)\n",
        "\n",
        "min_simple_regret_approx_2 = min(simple_regret_approx_2)\n",
        "min_simple_regret_exact_2 = min(simple_regret_exact_2)\n",
        "\n",
        "min_simple_regret_approx_2, min_simple_regret_exact_2\n"
      ]
    },
    {
      "cell_type": "code",
      "execution_count": 57,
      "metadata": {
        "id": "Bu6SBWALQxfl",
        "colab": {
          "base_uri": "https://localhost:8080/"
        },
        "outputId": "b522476b-f6ea-4b6c-b0f4-79a039e8902f"
      },
      "outputs": [
        {
          "output_type": "execute_result",
          "data": {
            "text/plain": [
              "(-0.7052749676875513, -1.5614956503396664)"
            ]
          },
          "metadata": {},
          "execution_count": 57
        }
      ],
      "source": [
        "### Simple regret minimization: run number = 3\n",
        "\n",
        "approx_output_3 = np.append(np.min(-approx_3.GP.y[0:n_init]),-approx_3.GP.y[n_init:(n_init+iters)]) \n",
        "exact_output_3 = np.append(np.min(-exact_3.GP.y[0:n_init]),-exact_3.GP.y[n_init:(n_init+iters)]) \n",
        "\n",
        "regret_approx_3 = np.log(approx_output_3 - y_global_orig)\n",
        "regret_exact_3 = np.log(exact_output_3 - y_global_orig)\n",
        "\n",
        "simple_regret_approx_3 = min_max_array(regret_approx_3)\n",
        "simple_regret_exact_3 = min_max_array(regret_exact_3)\n",
        "\n",
        "min_simple_regret_approx_3 = min(simple_regret_approx_3)\n",
        "min_simple_regret_exact_3 = min(simple_regret_exact_3)\n",
        "\n",
        "min_simple_regret_approx_3, min_simple_regret_exact_3"
      ]
    },
    {
      "cell_type": "code",
      "execution_count": 58,
      "metadata": {
        "id": "AZm0jgxkQxfm",
        "colab": {
          "base_uri": "https://localhost:8080/"
        },
        "outputId": "12b9cd51-cb3c-4f9e-de8c-cff54bd7753b"
      },
      "outputs": [
        {
          "output_type": "execute_result",
          "data": {
            "text/plain": [
              "(-5.073457322415554, -1.5236556203622285)"
            ]
          },
          "metadata": {},
          "execution_count": 58
        }
      ],
      "source": [
        "### Simple regret minimization: run number = 4\n",
        "\n",
        "approx_output_4 = np.append(np.min(-approx_4.GP.y[0:n_init]),-approx_4.GP.y[n_init:(n_init+iters)]) \n",
        "exact_output_4 = np.append(np.min(-exact_4.GP.y[0:n_init]),-exact_4.GP.y[n_init:(n_init+iters)]) \n",
        "\n",
        "regret_approx_4 = np.log(approx_output_4 - y_global_orig)\n",
        "regret_exact_4 = np.log(exact_output_4 - y_global_orig)\n",
        "\n",
        "simple_regret_approx_4 = min_max_array(regret_approx_4)\n",
        "simple_regret_exact_4 = min_max_array(regret_exact_4)\n",
        "\n",
        "min_simple_regret_approx_4 = min(simple_regret_approx_4)\n",
        "min_simple_regret_exact_4 = min(simple_regret_exact_4)\n",
        "\n",
        "min_simple_regret_approx_4, min_simple_regret_exact_4"
      ]
    },
    {
      "cell_type": "code",
      "execution_count": 59,
      "metadata": {
        "id": "NONPm8JIQxfn",
        "colab": {
          "base_uri": "https://localhost:8080/"
        },
        "outputId": "20e2a266-7ad3-4b91-c669-a635de6571c4"
      },
      "outputs": [
        {
          "output_type": "execute_result",
          "data": {
            "text/plain": [
              "(-1.8466634597692166, -2.4166011145215123)"
            ]
          },
          "metadata": {},
          "execution_count": 59
        }
      ],
      "source": [
        "### Simple regret minimization: run number = 5\n",
        "\n",
        "approx_output_5 = np.append(np.min(-approx_5.GP.y[0:n_init]),-approx_5.GP.y[n_init:(n_init+iters)]) \n",
        "exact_output_5 = np.append(np.min(-exact_5.GP.y[0:n_init]),-exact_5.GP.y[n_init:(n_init+iters)]) \n",
        "\n",
        "regret_approx_5 = np.log(approx_output_5 - y_global_orig)\n",
        "regret_exact_5 = np.log(exact_output_5 - y_global_orig)\n",
        "\n",
        "simple_regret_approx_5 = min_max_array(regret_approx_5)\n",
        "simple_regret_exact_5 = min_max_array(regret_exact_5)\n",
        "\n",
        "min_simple_regret_approx_5 = min(simple_regret_approx_5)\n",
        "min_simple_regret_exact_5 = min(simple_regret_exact_5)\n",
        "\n",
        "min_simple_regret_approx_5, min_simple_regret_exact_5"
      ]
    },
    {
      "cell_type": "code",
      "execution_count": 60,
      "metadata": {
        "id": "CJv3lPuSQxfp",
        "colab": {
          "base_uri": "https://localhost:8080/"
        },
        "outputId": "897cf9a1-af11-4552-90dc-fef34bd98ce0"
      },
      "outputs": [
        {
          "output_type": "execute_result",
          "data": {
            "text/plain": [
              "(-1.7612123519962217, -2.948268380567984)"
            ]
          },
          "metadata": {},
          "execution_count": 60
        }
      ],
      "source": [
        "### Simple regret minimization: run number = 6\n",
        "\n",
        "approx_output_6 = np.append(np.min(-approx_6.GP.y[0:n_init]),-approx_6.GP.y[n_init:(n_init+iters)]) \n",
        "exact_output_6 = np.append(np.min(-exact_6.GP.y[0:n_init]),-exact_6.GP.y[n_init:(n_init+iters)]) \n",
        "\n",
        "regret_approx_6 = np.log(approx_output_6 - y_global_orig)\n",
        "regret_exact_6 = np.log(exact_output_6 - y_global_orig)\n",
        "\n",
        "simple_regret_approx_6 = min_max_array(regret_approx_6)\n",
        "simple_regret_exact_6 = min_max_array(regret_exact_6)\n",
        "\n",
        "min_simple_regret_approx_6 = min(simple_regret_approx_6)\n",
        "min_simple_regret_exact_6 = min(simple_regret_exact_6)\n",
        "\n",
        "min_simple_regret_approx_6, min_simple_regret_exact_6"
      ]
    },
    {
      "cell_type": "code",
      "execution_count": 61,
      "metadata": {
        "id": "quR2ZyApQxfq",
        "colab": {
          "base_uri": "https://localhost:8080/"
        },
        "outputId": "7a7c52c4-aeb4-441e-e7af-b04905a307ef"
      },
      "outputs": [
        {
          "output_type": "execute_result",
          "data": {
            "text/plain": [
              "(-0.7967714768221764, -0.8935996883007996)"
            ]
          },
          "metadata": {},
          "execution_count": 61
        }
      ],
      "source": [
        "### Simple regret minimization: run number = 7\n",
        "\n",
        "approx_output_7 = np.append(np.min(-approx_7.GP.y[0:n_init]),-approx_7.GP.y[n_init:(n_init+iters)]) \n",
        "exact_output_7 = np.append(np.min(-exact_7.GP.y[0:n_init]),-exact_7.GP.y[n_init:(n_init+iters)]) \n",
        "\n",
        "regret_approx_7 = np.log(approx_output_7 - y_global_orig)\n",
        "regret_exact_7 = np.log(exact_output_7 - y_global_orig)\n",
        "\n",
        "simple_regret_approx_7 = min_max_array(regret_approx_7)\n",
        "simple_regret_exact_7 = min_max_array(regret_exact_7)\n",
        "\n",
        "min_simple_regret_approx_7 = min(simple_regret_approx_7)\n",
        "min_simple_regret_exact_7 = min(simple_regret_exact_7)\n",
        "\n",
        "min_simple_regret_approx_7, min_simple_regret_exact_7"
      ]
    },
    {
      "cell_type": "code",
      "execution_count": 62,
      "metadata": {
        "id": "99wY5nK6Qxfr",
        "colab": {
          "base_uri": "https://localhost:8080/"
        },
        "outputId": "b069e50e-d87c-4d0a-89b6-0937a54af6ea"
      },
      "outputs": [
        {
          "output_type": "execute_result",
          "data": {
            "text/plain": [
              "(-0.4342953543069644, -1.6667913180754064)"
            ]
          },
          "metadata": {},
          "execution_count": 62
        }
      ],
      "source": [
        "### Simple regret minimization: run number = 8\n",
        "\n",
        "approx_output_8 = np.append(np.min(-approx_8.GP.y[0:n_init]),-approx_8.GP.y[n_init:(n_init+iters)]) \n",
        "exact_output_8 = np.append(np.min(-exact_8.GP.y[0:n_init]),-exact_8.GP.y[n_init:(n_init+iters)]) \n",
        "\n",
        "regret_approx_8 = np.log(approx_output_8 - y_global_orig)\n",
        "regret_exact_8 = np.log(exact_output_8 - y_global_orig)\n",
        "\n",
        "simple_regret_approx_8 = min_max_array(regret_approx_8)\n",
        "simple_regret_exact_8 = min_max_array(regret_exact_8)\n",
        "\n",
        "min_simple_regret_approx_8 = min(simple_regret_approx_8)\n",
        "min_simple_regret_exact_8 = min(simple_regret_exact_8)\n",
        "\n",
        "min_simple_regret_approx_8, min_simple_regret_exact_8"
      ]
    },
    {
      "cell_type": "code",
      "execution_count": 63,
      "metadata": {
        "id": "qt0P5t9qQxfs",
        "colab": {
          "base_uri": "https://localhost:8080/"
        },
        "outputId": "8e146700-9096-4ea5-d4b2-da847c52479d"
      },
      "outputs": [
        {
          "output_type": "execute_result",
          "data": {
            "text/plain": [
              "(-0.03500236543565779, -2.308064508535467)"
            ]
          },
          "metadata": {},
          "execution_count": 63
        }
      ],
      "source": [
        "### Simple regret minimization: run number = 9\n",
        "\n",
        "approx_output_9 = np.append(np.min(-approx_9.GP.y[0:n_init]),-approx_9.GP.y[n_init:(n_init+iters)]) \n",
        "exact_output_9 = np.append(np.min(-exact_9.GP.y[0:n_init]),-exact_9.GP.y[n_init:(n_init+iters)]) \n",
        "\n",
        "regret_approx_9 = np.log(approx_output_9 - y_global_orig)\n",
        "regret_exact_9 = np.log(exact_output_9 - y_global_orig)\n",
        "\n",
        "simple_regret_approx_9 = min_max_array(regret_approx_9)\n",
        "simple_regret_exact_9 = min_max_array(regret_exact_9)\n",
        "\n",
        "min_simple_regret_approx_9 = min(simple_regret_approx_9)\n",
        "min_simple_regret_exact_9 = min(simple_regret_exact_9)\n",
        "\n",
        "min_simple_regret_approx_9, min_simple_regret_exact_9"
      ]
    },
    {
      "cell_type": "code",
      "execution_count": 64,
      "metadata": {
        "id": "vx8to9stQxft",
        "colab": {
          "base_uri": "https://localhost:8080/"
        },
        "outputId": "a7e1fa05-1370-40f7-e033-fb877d9e17c9"
      },
      "outputs": [
        {
          "output_type": "execute_result",
          "data": {
            "text/plain": [
              "(0.23288088207270655, -1.715961409246572)"
            ]
          },
          "metadata": {},
          "execution_count": 64
        }
      ],
      "source": [
        "### Simple regret minimization: run number = 10\n",
        "\n",
        "approx_output_10 = np.append(np.min(-approx_10.GP.y[0:n_init]),-approx_10.GP.y[n_init:(n_init+iters)]) \n",
        "exact_output_10 = np.append(np.min(-exact_10.GP.y[0:n_init]),-exact_10.GP.y[n_init:(n_init+iters)]) \n",
        "\n",
        "regret_approx_10 = np.log(approx_output_10 - y_global_orig)\n",
        "regret_exact_10 = np.log(exact_output_10 - y_global_orig)\n",
        "\n",
        "simple_regret_approx_10 = min_max_array(regret_approx_10)\n",
        "simple_regret_exact_10 = min_max_array(regret_exact_10)\n",
        "\n",
        "min_simple_regret_approx_10 = min(simple_regret_approx_10)\n",
        "min_simple_regret_exact_10 = min(simple_regret_exact_10)\n",
        "\n",
        "min_simple_regret_approx_10, min_simple_regret_exact_10"
      ]
    },
    {
      "cell_type": "code",
      "execution_count": 65,
      "metadata": {
        "id": "d-FGzWyHQxfu",
        "colab": {
          "base_uri": "https://localhost:8080/"
        },
        "outputId": "affebd34-1d2a-493d-96b9-8956d1605c94"
      },
      "outputs": [
        {
          "output_type": "execute_result",
          "data": {
            "text/plain": [
              "(-0.9010790823704407, -1.114233240672264)"
            ]
          },
          "metadata": {},
          "execution_count": 65
        }
      ],
      "source": [
        "### Simple regret minimization: run number = 11\n",
        "\n",
        "approx_output_11 = np.append(np.min(-approx_11.GP.y[0:n_init]),-approx_11.GP.y[n_init:(n_init+iters)]) \n",
        "exact_output_11 = np.append(np.min(-exact_11.GP.y[0:n_init]),-exact_11.GP.y[n_init:(n_init+iters)]) \n",
        "\n",
        "regret_approx_11 = np.log(approx_output_11 - y_global_orig)\n",
        "regret_exact_11 = np.log(exact_output_11 - y_global_orig)\n",
        "\n",
        "simple_regret_approx_11 = min_max_array(regret_approx_11)\n",
        "simple_regret_exact_11 = min_max_array(regret_exact_11)\n",
        "\n",
        "min_simple_regret_approx_11 = min(simple_regret_approx_11)\n",
        "min_simple_regret_exact_11 = min(simple_regret_exact_11)\n",
        "\n",
        "min_simple_regret_approx_11, min_simple_regret_exact_11"
      ]
    },
    {
      "cell_type": "code",
      "execution_count": 66,
      "metadata": {
        "id": "SvtsssyjQxfv",
        "colab": {
          "base_uri": "https://localhost:8080/"
        },
        "outputId": "c8cbc456-275a-4fff-f22c-1d70c15a531d"
      },
      "outputs": [
        {
          "output_type": "execute_result",
          "data": {
            "text/plain": [
              "(0.23694425972585687, 0.11242418097637234)"
            ]
          },
          "metadata": {},
          "execution_count": 66
        }
      ],
      "source": [
        "### Simple regret minimization: run number = 12\n",
        "\n",
        "approx_output_12 = np.append(np.min(-approx_12.GP.y[0:n_init]),-approx_12.GP.y[n_init:(n_init+iters)]) \n",
        "exact_output_12 = np.append(np.min(-exact_12.GP.y[0:n_init]),-exact_12.GP.y[n_init:(n_init+iters)]) \n",
        "\n",
        "regret_approx_12 = np.log(approx_output_12 - y_global_orig)\n",
        "regret_exact_12 = np.log(exact_output_12 - y_global_orig)\n",
        "\n",
        "simple_regret_approx_12 = min_max_array(regret_approx_12)\n",
        "simple_regret_exact_12 = min_max_array(regret_exact_12)\n",
        "\n",
        "min_simple_regret_approx_12 = min(simple_regret_approx_12)\n",
        "min_simple_regret_exact_12 = min(simple_regret_exact_12)\n",
        "\n",
        "min_simple_regret_approx_12, min_simple_regret_exact_12"
      ]
    },
    {
      "cell_type": "code",
      "execution_count": 67,
      "metadata": {
        "id": "K6OiGcHkQxfw",
        "colab": {
          "base_uri": "https://localhost:8080/"
        },
        "outputId": "701e1e75-3e81-4cc1-8795-c283229759a6"
      },
      "outputs": [
        {
          "output_type": "execute_result",
          "data": {
            "text/plain": [
              "(-1.9189340411308784, -3.0989256767843743)"
            ]
          },
          "metadata": {},
          "execution_count": 67
        }
      ],
      "source": [
        "### Simple regret minimization: run number = 13\n",
        "\n",
        "approx_output_13 = np.append(np.min(-approx_13.GP.y[0:n_init]),-approx_13.GP.y[n_init:(n_init+iters)]) \n",
        "exact_output_13 = np.append(np.min(-exact_13.GP.y[0:n_init]),-exact_13.GP.y[n_init:(n_init+iters)]) \n",
        "\n",
        "regret_approx_13 = np.log(approx_output_13 - y_global_orig)\n",
        "regret_exact_13 = np.log(exact_output_13 - y_global_orig)\n",
        "\n",
        "simple_regret_approx_13 = min_max_array(regret_approx_13)\n",
        "simple_regret_exact_13 = min_max_array(regret_exact_13)\n",
        "\n",
        "min_simple_regret_approx_13 = min(simple_regret_approx_13)\n",
        "min_simple_regret_exact_13 = min(simple_regret_exact_13)\n",
        "\n",
        "min_simple_regret_approx_13, min_simple_regret_exact_13"
      ]
    },
    {
      "cell_type": "code",
      "execution_count": 68,
      "metadata": {
        "id": "ogML73shQxfx",
        "colab": {
          "base_uri": "https://localhost:8080/"
        },
        "outputId": "4156eb39-39b8-47ee-eb5a-5d505f440f3f"
      },
      "outputs": [
        {
          "output_type": "execute_result",
          "data": {
            "text/plain": [
              "(-6.074727392833108, -6.074727392833108)"
            ]
          },
          "metadata": {},
          "execution_count": 68
        }
      ],
      "source": [
        "### Simple regret minimization: run number = 14\n",
        "\n",
        "approx_output_14 = np.append(np.min(-approx_14.GP.y[0:n_init]),-approx_14.GP.y[n_init:(n_init+iters)]) \n",
        "exact_output_14 = np.append(np.min(-exact_14.GP.y[0:n_init]),-exact_14.GP.y[n_init:(n_init+iters)]) \n",
        "\n",
        "regret_approx_14 = np.log(approx_output_14 - y_global_orig)\n",
        "regret_exact_14 = np.log(exact_output_14 - y_global_orig)\n",
        "\n",
        "simple_regret_approx_14 = min_max_array(regret_approx_14)\n",
        "simple_regret_exact_14 = min_max_array(regret_exact_14)\n",
        "\n",
        "min_simple_regret_approx_14 = min(simple_regret_approx_14)\n",
        "min_simple_regret_exact_14 = min(simple_regret_exact_14)\n",
        "\n",
        "min_simple_regret_approx_14, min_simple_regret_exact_14"
      ]
    },
    {
      "cell_type": "code",
      "execution_count": 69,
      "metadata": {
        "id": "9Eg7gFT9Qxfx",
        "colab": {
          "base_uri": "https://localhost:8080/"
        },
        "outputId": "4b8f816e-c3b8-47e9-990a-e25452935b5b"
      },
      "outputs": [
        {
          "output_type": "execute_result",
          "data": {
            "text/plain": [
              "(0.07212470257012685, 0.04583613435073335)"
            ]
          },
          "metadata": {},
          "execution_count": 69
        }
      ],
      "source": [
        "### Simple regret minimization: run number = 15\n",
        "\n",
        "approx_output_15 = np.append(np.min(-approx_15.GP.y[0:n_init]),-approx_15.GP.y[n_init:(n_init+iters)]) \n",
        "exact_output_15 = np.append(np.min(-exact_15.GP.y[0:n_init]),-exact_15.GP.y[n_init:(n_init+iters)]) \n",
        "\n",
        "regret_approx_15 = np.log(approx_output_15 - y_global_orig)\n",
        "regret_exact_15 = np.log(exact_output_15 - y_global_orig)\n",
        "\n",
        "simple_regret_approx_15 = min_max_array(regret_approx_15)\n",
        "simple_regret_exact_15 = min_max_array(regret_exact_15)\n",
        "\n",
        "min_simple_regret_approx_15 = min(simple_regret_approx_15)\n",
        "min_simple_regret_exact_15 = min(simple_regret_exact_15)\n",
        "\n",
        "min_simple_regret_approx_15, min_simple_regret_exact_15"
      ]
    },
    {
      "cell_type": "code",
      "execution_count": 70,
      "metadata": {
        "id": "lIAC1U7ZQxfy",
        "colab": {
          "base_uri": "https://localhost:8080/"
        },
        "outputId": "362d672a-e2a6-4443-87ff-569ee771290a"
      },
      "outputs": [
        {
          "output_type": "execute_result",
          "data": {
            "text/plain": [
              "(1.039479277229328, 0.021252512399301267)"
            ]
          },
          "metadata": {},
          "execution_count": 70
        }
      ],
      "source": [
        "### Simple regret minimization: run number = 16\n",
        "\n",
        "approx_output_16 = np.append(np.min(-approx_16.GP.y[0:n_init]),-approx_16.GP.y[n_init:(n_init+iters)]) \n",
        "exact_output_16 = np.append(np.min(-exact_16.GP.y[0:n_init]),-exact_16.GP.y[n_init:(n_init+iters)]) \n",
        "\n",
        "regret_approx_16 = np.log(approx_output_16 - y_global_orig)\n",
        "regret_exact_16 = np.log(exact_output_16 - y_global_orig)\n",
        "\n",
        "simple_regret_approx_16 = min_max_array(regret_approx_16)\n",
        "simple_regret_exact_16 = min_max_array(regret_exact_16)\n",
        "\n",
        "min_simple_regret_approx_16 = min(simple_regret_approx_16)\n",
        "min_simple_regret_exact_16 = min(simple_regret_exact_16)\n",
        "\n",
        "min_simple_regret_approx_16, min_simple_regret_exact_16"
      ]
    },
    {
      "cell_type": "code",
      "execution_count": 71,
      "metadata": {
        "id": "bGott36OQxfz",
        "colab": {
          "base_uri": "https://localhost:8080/"
        },
        "outputId": "971730c5-2ef1-429f-dd8b-a47dca85bc68"
      },
      "outputs": [
        {
          "output_type": "execute_result",
          "data": {
            "text/plain": [
              "(-0.055523946348320315, -3.7104768208036245)"
            ]
          },
          "metadata": {},
          "execution_count": 71
        }
      ],
      "source": [
        "### Simple regret minimization: run number = 17\n",
        "\n",
        "approx_output_17 = np.append(np.min(-approx_17.GP.y[0:n_init]),-approx_17.GP.y[n_init:(n_init+iters)]) \n",
        "exact_output_17 = np.append(np.min(-exact_17.GP.y[0:n_init]),-exact_17.GP.y[n_init:(n_init+iters)]) \n",
        "\n",
        "regret_approx_17 = np.log(approx_output_17 - y_global_orig)\n",
        "regret_exact_17 = np.log(exact_output_17 - y_global_orig)\n",
        "\n",
        "simple_regret_approx_17 = min_max_array(regret_approx_17)\n",
        "simple_regret_exact_17 = min_max_array(regret_exact_17)\n",
        "\n",
        "min_simple_regret_approx_17 = min(simple_regret_approx_17)\n",
        "min_simple_regret_exact_17 = min(simple_regret_exact_17)\n",
        "\n",
        "min_simple_regret_approx_17, min_simple_regret_exact_17"
      ]
    },
    {
      "cell_type": "code",
      "execution_count": 72,
      "metadata": {
        "id": "Cz9ZYMBMQxfz",
        "colab": {
          "base_uri": "https://localhost:8080/"
        },
        "outputId": "11b81a8c-9c63-4479-82cb-b396d6742116"
      },
      "outputs": [
        {
          "output_type": "execute_result",
          "data": {
            "text/plain": [
              "(-0.25645327829802333, -0.531464419306239)"
            ]
          },
          "metadata": {},
          "execution_count": 72
        }
      ],
      "source": [
        "### Simple regret minimization: run number = 18\n",
        "\n",
        "approx_output_18 = np.append(np.min(-approx_18.GP.y[0:n_init]),-approx_18.GP.y[n_init:(n_init+iters)]) \n",
        "exact_output_18 = np.append(np.min(-exact_18.GP.y[0:n_init]),-exact_18.GP.y[n_init:(n_init+iters)]) \n",
        "\n",
        "regret_approx_18 = np.log(approx_output_18 - y_global_orig)\n",
        "regret_exact_18 = np.log(exact_output_18 - y_global_orig)\n",
        "\n",
        "simple_regret_approx_18 = min_max_array(regret_approx_18)\n",
        "simple_regret_exact_18 = min_max_array(regret_exact_18)\n",
        "\n",
        "min_simple_regret_approx_18 = min(simple_regret_approx_18)\n",
        "min_simple_regret_exact_18 = min(simple_regret_exact_18)\n",
        "\n",
        "min_simple_regret_approx_18, min_simple_regret_exact_18"
      ]
    },
    {
      "cell_type": "code",
      "execution_count": 73,
      "metadata": {
        "id": "OBfpWOHNQxf0",
        "colab": {
          "base_uri": "https://localhost:8080/"
        },
        "outputId": "3a675ba7-c925-4b14-9d04-32350537da08"
      },
      "outputs": [
        {
          "output_type": "execute_result",
          "data": {
            "text/plain": [
              "(-0.02299266239598735, -0.02543456866139696)"
            ]
          },
          "metadata": {},
          "execution_count": 73
        }
      ],
      "source": [
        "### Simple regret minimization: run number = 19\n",
        "\n",
        "approx_output_19 = np.append(np.min(-approx_19.GP.y[0:n_init]),-approx_19.GP.y[n_init:(n_init+iters)]) \n",
        "exact_output_19 = np.append(np.min(-exact_19.GP.y[0:n_init]),-exact_19.GP.y[n_init:(n_init+iters)]) \n",
        "\n",
        "regret_approx_19 = np.log(approx_output_19 - y_global_orig)\n",
        "regret_exact_19 = np.log(exact_output_19 - y_global_orig)\n",
        "\n",
        "simple_regret_approx_19 = min_max_array(regret_approx_19)\n",
        "simple_regret_exact_19 = min_max_array(regret_exact_19)\n",
        "\n",
        "min_simple_regret_approx_19 = min(simple_regret_approx_19)\n",
        "min_simple_regret_exact_19 = min(simple_regret_exact_19)\n",
        "\n",
        "min_simple_regret_approx_19, min_simple_regret_exact_19"
      ]
    },
    {
      "cell_type": "code",
      "execution_count": 74,
      "metadata": {
        "id": "BE1AJ7NsQxf0",
        "colab": {
          "base_uri": "https://localhost:8080/"
        },
        "outputId": "ff138093-72a1-41ac-d8ef-4bceae1e4ca8"
      },
      "outputs": [
        {
          "output_type": "execute_result",
          "data": {
            "text/plain": [
              "(0.2098147703936484, -0.0787549835201568)"
            ]
          },
          "metadata": {},
          "execution_count": 74
        }
      ],
      "source": [
        "### Simple regret minimization: run number = 20\n",
        "\n",
        "approx_output_20 = np.append(np.min(-approx_20.GP.y[0:n_init]),-approx_20.GP.y[n_init:(n_init+iters)]) \n",
        "exact_output_20 = np.append(np.min(-exact_20.GP.y[0:n_init]),-exact_20.GP.y[n_init:(n_init+iters)]) \n",
        "\n",
        "regret_approx_20 = np.log(approx_output_20 - y_global_orig)\n",
        "regret_exact_20 = np.log(exact_output_20 - y_global_orig)\n",
        "\n",
        "simple_regret_approx_20 = min_max_array(regret_approx_20)\n",
        "simple_regret_exact_20 = min_max_array(regret_exact_20)\n",
        "\n",
        "min_simple_regret_approx_20 = min(simple_regret_approx_20)\n",
        "min_simple_regret_exact_20 = min(simple_regret_exact_20)\n",
        "\n",
        "min_simple_regret_approx_20, min_simple_regret_exact_20"
      ]
    },
    {
      "cell_type": "code",
      "execution_count": 75,
      "metadata": {
        "id": "bpX-bKAHQxf1"
      },
      "outputs": [],
      "source": [
        "# Iteration1 :\n",
        "\n",
        "slice1 = 0\n",
        "\n",
        "approx1 = [simple_regret_approx_1[slice1],\n",
        "       simple_regret_approx_2[slice1],\n",
        "       simple_regret_approx_3[slice1],\n",
        "       simple_regret_approx_4[slice1],\n",
        "       simple_regret_approx_5[slice1],\n",
        "       simple_regret_approx_6[slice1],\n",
        "       simple_regret_approx_7[slice1],\n",
        "       simple_regret_approx_8[slice1],\n",
        "       simple_regret_approx_9[slice1],\n",
        "       simple_regret_approx_10[slice1],\n",
        "       simple_regret_approx_11[slice1],\n",
        "       simple_regret_approx_12[slice1],\n",
        "       simple_regret_approx_13[slice1],\n",
        "       simple_regret_approx_14[slice1],\n",
        "       simple_regret_approx_15[slice1],\n",
        "       simple_regret_approx_16[slice1],\n",
        "       simple_regret_approx_17[slice1],\n",
        "       simple_regret_approx_18[slice1],\n",
        "       simple_regret_approx_19[slice1],\n",
        "       simple_regret_approx_20[slice1]]\n",
        "\n",
        "exact1 = [simple_regret_exact_1[slice1],\n",
        "       simple_regret_exact_2[slice1],\n",
        "       simple_regret_exact_3[slice1],\n",
        "       simple_regret_exact_4[slice1],\n",
        "       simple_regret_exact_5[slice1],\n",
        "       simple_regret_exact_6[slice1],\n",
        "       simple_regret_exact_7[slice1],\n",
        "       simple_regret_exact_8[slice1],\n",
        "       simple_regret_exact_9[slice1],\n",
        "       simple_regret_exact_10[slice1],\n",
        "       simple_regret_exact_11[slice1],\n",
        "       simple_regret_exact_12[slice1],\n",
        "       simple_regret_exact_13[slice1],\n",
        "       simple_regret_exact_14[slice1],\n",
        "       simple_regret_exact_15[slice1],\n",
        "       simple_regret_exact_16[slice1],\n",
        "       simple_regret_exact_17[slice1],\n",
        "       simple_regret_exact_18[slice1],\n",
        "       simple_regret_exact_19[slice1],\n",
        "       simple_regret_exact_20[slice1]]\n",
        "\n",
        "approx1_results = pd.DataFrame(approx1).sort_values(by=[0], ascending=False)\n",
        "exact1_results = pd.DataFrame(exact1).sort_values(by=[0], ascending=False)\n",
        "\n",
        "### Best simple regret minimization IQR - approx:\n",
        "lower_approx1 = np.asarray(approx1_results[4:5][0])[0]\n",
        "median_approx1 = np.asarray(approx1_results[9:10][0])[0]\n",
        "upper_approx1 = np.asarray(approx1_results[14:15][0])[0]\n",
        "\n",
        "lower_exact1 = np.asarray(exact1_results[4:5][0])[0]\n",
        "median_exact1 = np.asarray(exact1_results[9:10][0])[0]\n",
        "upper_exact1 = np.asarray(exact1_results[14:15][0])[0]"
      ]
    },
    {
      "cell_type": "code",
      "execution_count": 76,
      "metadata": {
        "id": "CgIkJA1xQxf2"
      },
      "outputs": [],
      "source": [
        "# Iteration11 :\n",
        "\n",
        "slice11 = 10\n",
        "\n",
        "approx11 = [simple_regret_approx_1[slice11],\n",
        "       simple_regret_approx_2[slice11],\n",
        "       simple_regret_approx_3[slice11],\n",
        "       simple_regret_approx_4[slice11],\n",
        "       simple_regret_approx_5[slice11],\n",
        "       simple_regret_approx_6[slice11],\n",
        "       simple_regret_approx_7[slice11],\n",
        "       simple_regret_approx_8[slice11],\n",
        "       simple_regret_approx_9[slice11],\n",
        "       simple_regret_approx_10[slice11],\n",
        "       simple_regret_approx_11[slice11],\n",
        "       simple_regret_approx_12[slice11],\n",
        "       simple_regret_approx_13[slice11],\n",
        "       simple_regret_approx_14[slice11],\n",
        "       simple_regret_approx_15[slice11],\n",
        "       simple_regret_approx_16[slice11],\n",
        "       simple_regret_approx_17[slice11],\n",
        "       simple_regret_approx_18[slice11],\n",
        "       simple_regret_approx_19[slice11],\n",
        "       simple_regret_approx_20[slice11]]\n",
        "\n",
        "exact11 = [simple_regret_exact_1[slice11],\n",
        "       simple_regret_exact_2[slice11],\n",
        "       simple_regret_exact_3[slice11],\n",
        "       simple_regret_exact_4[slice11],\n",
        "       simple_regret_exact_5[slice11],\n",
        "       simple_regret_exact_6[slice11],\n",
        "       simple_regret_exact_7[slice11],\n",
        "       simple_regret_exact_8[slice11],\n",
        "       simple_regret_exact_9[slice11],\n",
        "       simple_regret_exact_10[slice11],\n",
        "       simple_regret_exact_11[slice11],\n",
        "       simple_regret_exact_12[slice11],\n",
        "       simple_regret_exact_13[slice11],\n",
        "       simple_regret_exact_14[slice11],\n",
        "       simple_regret_exact_15[slice11],\n",
        "       simple_regret_exact_16[slice11],\n",
        "       simple_regret_exact_17[slice11],\n",
        "       simple_regret_exact_18[slice11],\n",
        "       simple_regret_exact_19[slice11],\n",
        "       simple_regret_exact_20[slice11]]\n",
        "\n",
        "approx11_results = pd.DataFrame(approx11).sort_values(by=[0], ascending=False)\n",
        "exact11_results = pd.DataFrame(exact11).sort_values(by=[0], ascending=False)\n",
        "\n",
        "### Best simple regret minimization IQR - approx:\n",
        "lower_approx11 = np.asarray(approx11_results[4:5][0])[0]\n",
        "median_approx11 = np.asarray(approx11_results[9:10][0])[0]\n",
        "upper_approx11 = np.asarray(approx11_results[14:15][0])[0]\n",
        "\n",
        "lower_exact11 = np.asarray(exact11_results[4:5][0])[0]\n",
        "median_exact11 = np.asarray(exact11_results[9:10][0])[0]\n",
        "upper_exact11 = np.asarray(exact11_results[14:15][0])[0]"
      ]
    },
    {
      "cell_type": "code",
      "execution_count": 77,
      "metadata": {
        "id": "MFePDfGuQxf2"
      },
      "outputs": [],
      "source": [
        "# Iteration21 :\n",
        "\n",
        "slice21 = 20\n",
        "\n",
        "approx21 = [simple_regret_approx_1[slice21],\n",
        "       simple_regret_approx_2[slice21],\n",
        "       simple_regret_approx_3[slice21],\n",
        "       simple_regret_approx_4[slice21],\n",
        "       simple_regret_approx_5[slice21],\n",
        "       simple_regret_approx_6[slice21],\n",
        "       simple_regret_approx_7[slice21],\n",
        "       simple_regret_approx_8[slice21],\n",
        "       simple_regret_approx_9[slice21],\n",
        "       simple_regret_approx_10[slice21],\n",
        "       simple_regret_approx_11[slice21],\n",
        "       simple_regret_approx_12[slice21],\n",
        "       simple_regret_approx_13[slice21],\n",
        "       simple_regret_approx_14[slice21],\n",
        "       simple_regret_approx_15[slice21],\n",
        "       simple_regret_approx_16[slice21],\n",
        "       simple_regret_approx_17[slice21],\n",
        "       simple_regret_approx_18[slice21],\n",
        "       simple_regret_approx_19[slice21],\n",
        "       simple_regret_approx_20[slice21]]\n",
        "\n",
        "exact21 = [simple_regret_exact_1[slice21],\n",
        "       simple_regret_exact_2[slice21],\n",
        "       simple_regret_exact_3[slice21],\n",
        "       simple_regret_exact_4[slice21],\n",
        "       simple_regret_exact_5[slice21],\n",
        "       simple_regret_exact_6[slice21],\n",
        "       simple_regret_exact_7[slice21],\n",
        "       simple_regret_exact_8[slice21],\n",
        "       simple_regret_exact_9[slice21],\n",
        "       simple_regret_exact_10[slice21],\n",
        "       simple_regret_exact_11[slice21],\n",
        "       simple_regret_exact_12[slice21],\n",
        "       simple_regret_exact_13[slice21],\n",
        "       simple_regret_exact_14[slice21],\n",
        "       simple_regret_exact_15[slice21],\n",
        "       simple_regret_exact_16[slice21],\n",
        "       simple_regret_exact_17[slice21],\n",
        "       simple_regret_exact_18[slice21],\n",
        "       simple_regret_exact_19[slice21],\n",
        "       simple_regret_exact_20[slice21]]\n",
        "\n",
        "approx21_results = pd.DataFrame(approx21).sort_values(by=[0], ascending=False)\n",
        "exact21_results = pd.DataFrame(exact21).sort_values(by=[0], ascending=False)\n",
        "\n",
        "### Best simple regret minimization IQR - approx:\n",
        "lower_approx21 = np.asarray(approx21_results[4:5][0])[0]\n",
        "median_approx21 = np.asarray(approx21_results[9:10][0])[0]\n",
        "upper_approx21 = np.asarray(approx21_results[14:15][0])[0]\n",
        "\n",
        "lower_exact21 = np.asarray(exact21_results[4:5][0])[0]\n",
        "median_exact21 = np.asarray(exact21_results[9:10][0])[0]\n",
        "upper_exact21 = np.asarray(exact21_results[14:15][0])[0]"
      ]
    },
    {
      "cell_type": "code",
      "execution_count": 78,
      "metadata": {
        "id": "PrRDB1kfQxf3"
      },
      "outputs": [],
      "source": [
        "# Iteration2 :\n",
        "\n",
        "slice2 = 1\n",
        "\n",
        "approx2 = [simple_regret_approx_1[slice2],\n",
        "       simple_regret_approx_2[slice2],\n",
        "       simple_regret_approx_3[slice2],\n",
        "       simple_regret_approx_4[slice2],\n",
        "       simple_regret_approx_5[slice2],\n",
        "       simple_regret_approx_6[slice2],\n",
        "       simple_regret_approx_7[slice2],\n",
        "       simple_regret_approx_8[slice2],\n",
        "       simple_regret_approx_9[slice2],\n",
        "       simple_regret_approx_10[slice2],\n",
        "       simple_regret_approx_11[slice2],\n",
        "       simple_regret_approx_12[slice2],\n",
        "       simple_regret_approx_13[slice2],\n",
        "       simple_regret_approx_14[slice2],\n",
        "       simple_regret_approx_15[slice2],\n",
        "       simple_regret_approx_16[slice2],\n",
        "       simple_regret_approx_17[slice2],\n",
        "       simple_regret_approx_18[slice2],\n",
        "       simple_regret_approx_19[slice2],\n",
        "       simple_regret_approx_20[slice2]]\n",
        "\n",
        "exact2 = [simple_regret_exact_1[slice2],\n",
        "       simple_regret_exact_2[slice2],\n",
        "       simple_regret_exact_3[slice2],\n",
        "       simple_regret_exact_4[slice2],\n",
        "       simple_regret_exact_5[slice2],\n",
        "       simple_regret_exact_6[slice2],\n",
        "       simple_regret_exact_7[slice2],\n",
        "       simple_regret_exact_8[slice2],\n",
        "       simple_regret_exact_9[slice2],\n",
        "       simple_regret_exact_10[slice2],\n",
        "       simple_regret_exact_11[slice2],\n",
        "       simple_regret_exact_12[slice2],\n",
        "       simple_regret_exact_13[slice2],\n",
        "       simple_regret_exact_14[slice2],\n",
        "       simple_regret_exact_15[slice2],\n",
        "       simple_regret_exact_16[slice2],\n",
        "       simple_regret_exact_17[slice2],\n",
        "       simple_regret_exact_18[slice2],\n",
        "       simple_regret_exact_19[slice2],\n",
        "       simple_regret_exact_20[slice2]]\n",
        "\n",
        "approx2_results = pd.DataFrame(approx2).sort_values(by=[0], ascending=False)\n",
        "exact2_results = pd.DataFrame(exact2).sort_values(by=[0], ascending=False)\n",
        "\n",
        "### Best simple regret minimization IQR - approx:\n",
        "lower_approx2 = np.asarray(approx2_results[4:5][0])[0]\n",
        "median_approx2 = np.asarray(approx2_results[9:10][0])[0]\n",
        "upper_approx2 = np.asarray(approx2_results[14:15][0])[0]\n",
        "\n",
        "lower_exact2 = np.asarray(exact2_results[4:5][0])[0]\n",
        "median_exact2 = np.asarray(exact2_results[9:10][0])[0]\n",
        "upper_exact2 = np.asarray(exact2_results[14:15][0])[0]"
      ]
    },
    {
      "cell_type": "code",
      "execution_count": 79,
      "metadata": {
        "id": "B8ncJDYeQxf3"
      },
      "outputs": [],
      "source": [
        "# Iteration12 :\n",
        "\n",
        "slice12 = 11\n",
        "\n",
        "approx12 = [simple_regret_approx_1[slice12],\n",
        "       simple_regret_approx_2[slice12],\n",
        "       simple_regret_approx_3[slice12],\n",
        "       simple_regret_approx_4[slice12],\n",
        "       simple_regret_approx_5[slice12],\n",
        "       simple_regret_approx_6[slice12],\n",
        "       simple_regret_approx_7[slice12],\n",
        "       simple_regret_approx_8[slice12],\n",
        "       simple_regret_approx_9[slice12],\n",
        "       simple_regret_approx_10[slice12],\n",
        "       simple_regret_approx_11[slice12],\n",
        "       simple_regret_approx_12[slice12],\n",
        "       simple_regret_approx_13[slice12],\n",
        "       simple_regret_approx_14[slice12],\n",
        "       simple_regret_approx_15[slice12],\n",
        "       simple_regret_approx_16[slice12],\n",
        "       simple_regret_approx_17[slice12],\n",
        "       simple_regret_approx_18[slice12],\n",
        "       simple_regret_approx_19[slice12],\n",
        "       simple_regret_approx_20[slice12]]\n",
        "\n",
        "exact12 = [simple_regret_exact_1[slice12],\n",
        "       simple_regret_exact_2[slice12],\n",
        "       simple_regret_exact_3[slice12],\n",
        "       simple_regret_exact_4[slice12],\n",
        "       simple_regret_exact_5[slice12],\n",
        "       simple_regret_exact_6[slice12],\n",
        "       simple_regret_exact_7[slice12],\n",
        "       simple_regret_exact_8[slice12],\n",
        "       simple_regret_exact_9[slice12],\n",
        "       simple_regret_exact_10[slice12],\n",
        "       simple_regret_exact_11[slice12],\n",
        "       simple_regret_exact_12[slice12],\n",
        "       simple_regret_exact_13[slice12],\n",
        "       simple_regret_exact_14[slice12],\n",
        "       simple_regret_exact_15[slice12],\n",
        "       simple_regret_exact_16[slice12],\n",
        "       simple_regret_exact_17[slice12],\n",
        "       simple_regret_exact_18[slice12],\n",
        "       simple_regret_exact_19[slice12],\n",
        "       simple_regret_exact_20[slice12]]\n",
        "\n",
        "approx12_results = pd.DataFrame(approx12).sort_values(by=[0], ascending=False)\n",
        "exact12_results = pd.DataFrame(exact12).sort_values(by=[0], ascending=False)\n",
        "\n",
        "### Best simple regret minimization IQR - approx:\n",
        "lower_approx12 = np.asarray(approx12_results[4:5][0])[0]\n",
        "median_approx12 = np.asarray(approx12_results[9:10][0])[0]\n",
        "upper_approx12 = np.asarray(approx12_results[14:15][0])[0]\n",
        "\n",
        "lower_exact12 = np.asarray(exact12_results[4:5][0])[0]\n",
        "median_exact12 = np.asarray(exact12_results[9:10][0])[0]\n",
        "upper_exact12 = np.asarray(exact12_results[14:15][0])[0]"
      ]
    },
    {
      "cell_type": "code",
      "execution_count": 80,
      "metadata": {
        "id": "Jn4KpGvcQxf4"
      },
      "outputs": [],
      "source": [
        "# Iteration3 :\n",
        "\n",
        "slice3 = 2\n",
        "\n",
        "approx3 = [simple_regret_approx_1[slice3],\n",
        "       simple_regret_approx_2[slice3],\n",
        "       simple_regret_approx_3[slice3],\n",
        "       simple_regret_approx_4[slice3],\n",
        "       simple_regret_approx_5[slice3],\n",
        "       simple_regret_approx_6[slice3],\n",
        "       simple_regret_approx_7[slice3],\n",
        "       simple_regret_approx_8[slice3],\n",
        "       simple_regret_approx_9[slice3],\n",
        "       simple_regret_approx_10[slice3],\n",
        "       simple_regret_approx_11[slice3],\n",
        "       simple_regret_approx_12[slice3],\n",
        "       simple_regret_approx_13[slice3],\n",
        "       simple_regret_approx_14[slice3],\n",
        "       simple_regret_approx_15[slice3],\n",
        "       simple_regret_approx_16[slice3],\n",
        "       simple_regret_approx_17[slice3],\n",
        "       simple_regret_approx_18[slice3],\n",
        "       simple_regret_approx_19[slice3],\n",
        "       simple_regret_approx_20[slice3]]\n",
        "\n",
        "exact3 = [simple_regret_exact_1[slice3],\n",
        "       simple_regret_exact_2[slice3],\n",
        "       simple_regret_exact_3[slice3],\n",
        "       simple_regret_exact_4[slice3],\n",
        "       simple_regret_exact_5[slice3],\n",
        "       simple_regret_exact_6[slice3],\n",
        "       simple_regret_exact_7[slice3],\n",
        "       simple_regret_exact_8[slice3],\n",
        "       simple_regret_exact_9[slice3],\n",
        "       simple_regret_exact_10[slice3],\n",
        "       simple_regret_exact_11[slice3],\n",
        "       simple_regret_exact_12[slice3],\n",
        "       simple_regret_exact_13[slice3],\n",
        "       simple_regret_exact_14[slice3],\n",
        "       simple_regret_exact_15[slice3],\n",
        "       simple_regret_exact_16[slice3],\n",
        "       simple_regret_exact_17[slice3],\n",
        "       simple_regret_exact_18[slice3],\n",
        "       simple_regret_exact_19[slice3],\n",
        "       simple_regret_exact_20[slice3]]\n",
        "\n",
        "approx3_results = pd.DataFrame(approx3).sort_values(by=[0], ascending=False)\n",
        "exact3_results = pd.DataFrame(exact3).sort_values(by=[0], ascending=False)\n",
        "\n",
        "### Best simple regret minimization IQR - approx:\n",
        "lower_approx3 = np.asarray(approx3_results[4:5][0])[0]\n",
        "median_approx3 = np.asarray(approx3_results[9:10][0])[0]\n",
        "upper_approx3 = np.asarray(approx3_results[14:15][0])[0]\n",
        "\n",
        "lower_exact3 = np.asarray(exact3_results[4:5][0])[0]\n",
        "median_exact3 = np.asarray(exact3_results[9:10][0])[0]\n",
        "upper_exact3 = np.asarray(exact3_results[14:15][0])[0]"
      ]
    },
    {
      "cell_type": "code",
      "execution_count": 81,
      "metadata": {
        "id": "plf83wxrQxf4"
      },
      "outputs": [],
      "source": [
        "# Iteration13 :\n",
        "\n",
        "slice13 = 12\n",
        "\n",
        "approx13 = [simple_regret_approx_1[slice13],\n",
        "       simple_regret_approx_2[slice13],\n",
        "       simple_regret_approx_3[slice13],\n",
        "       simple_regret_approx_4[slice13],\n",
        "       simple_regret_approx_5[slice13],\n",
        "       simple_regret_approx_6[slice13],\n",
        "       simple_regret_approx_7[slice13],\n",
        "       simple_regret_approx_8[slice13],\n",
        "       simple_regret_approx_9[slice13],\n",
        "       simple_regret_approx_10[slice13],\n",
        "       simple_regret_approx_11[slice13],\n",
        "       simple_regret_approx_12[slice13],\n",
        "       simple_regret_approx_13[slice13],\n",
        "       simple_regret_approx_14[slice13],\n",
        "       simple_regret_approx_15[slice13],\n",
        "       simple_regret_approx_16[slice13],\n",
        "       simple_regret_approx_17[slice13],\n",
        "       simple_regret_approx_18[slice13],\n",
        "       simple_regret_approx_19[slice13],\n",
        "       simple_regret_approx_20[slice13]]\n",
        "\n",
        "exact13 = [simple_regret_exact_1[slice13],\n",
        "       simple_regret_exact_2[slice13],\n",
        "       simple_regret_exact_3[slice13],\n",
        "       simple_regret_exact_4[slice13],\n",
        "       simple_regret_exact_5[slice13],\n",
        "       simple_regret_exact_6[slice13],\n",
        "       simple_regret_exact_7[slice13],\n",
        "       simple_regret_exact_8[slice13],\n",
        "       simple_regret_exact_9[slice13],\n",
        "       simple_regret_exact_10[slice13],\n",
        "       simple_regret_exact_11[slice13],\n",
        "       simple_regret_exact_12[slice13],\n",
        "       simple_regret_exact_13[slice13],\n",
        "       simple_regret_exact_14[slice13],\n",
        "       simple_regret_exact_15[slice13],\n",
        "       simple_regret_exact_16[slice13],\n",
        "       simple_regret_exact_17[slice13],\n",
        "       simple_regret_exact_18[slice13],\n",
        "       simple_regret_exact_19[slice13],\n",
        "       simple_regret_exact_20[slice13]]\n",
        "\n",
        "approx13_results = pd.DataFrame(approx13).sort_values(by=[0], ascending=False)\n",
        "exact13_results = pd.DataFrame(exact13).sort_values(by=[0], ascending=False)\n",
        "\n",
        "### Best simple regret minimization IQR - approx:\n",
        "lower_approx13 = np.asarray(approx13_results[4:5][0])[0]\n",
        "median_approx13 = np.asarray(approx13_results[9:10][0])[0]\n",
        "upper_approx13 = np.asarray(approx13_results[14:15][0])[0]\n",
        "\n",
        "lower_exact13 = np.asarray(exact13_results[4:5][0])[0]\n",
        "median_exact13 = np.asarray(exact13_results[9:10][0])[0]\n",
        "upper_exact13 = np.asarray(exact13_results[14:15][0])[0]"
      ]
    },
    {
      "cell_type": "code",
      "execution_count": 82,
      "metadata": {
        "id": "9A7mlVvJQxf5"
      },
      "outputs": [],
      "source": [
        "# Iteration4 :\n",
        "\n",
        "slice4 = 3\n",
        "\n",
        "approx4 = [simple_regret_approx_1[slice4],\n",
        "       simple_regret_approx_2[slice4],\n",
        "       simple_regret_approx_3[slice4],\n",
        "       simple_regret_approx_4[slice4],\n",
        "       simple_regret_approx_5[slice4],\n",
        "       simple_regret_approx_6[slice4],\n",
        "       simple_regret_approx_7[slice4],\n",
        "       simple_regret_approx_8[slice4],\n",
        "       simple_regret_approx_9[slice4],\n",
        "       simple_regret_approx_10[slice4],\n",
        "       simple_regret_approx_11[slice4],\n",
        "       simple_regret_approx_12[slice4],\n",
        "       simple_regret_approx_13[slice4],\n",
        "       simple_regret_approx_14[slice4],\n",
        "       simple_regret_approx_15[slice4],\n",
        "       simple_regret_approx_16[slice4],\n",
        "       simple_regret_approx_17[slice4],\n",
        "       simple_regret_approx_18[slice4],\n",
        "       simple_regret_approx_19[slice4],\n",
        "       simple_regret_approx_20[slice4]]\n",
        "\n",
        "exact4 = [simple_regret_exact_1[slice4],\n",
        "       simple_regret_exact_2[slice4],\n",
        "       simple_regret_exact_3[slice4],\n",
        "       simple_regret_exact_4[slice4],\n",
        "       simple_regret_exact_5[slice4],\n",
        "       simple_regret_exact_6[slice4],\n",
        "       simple_regret_exact_7[slice4],\n",
        "       simple_regret_exact_8[slice4],\n",
        "       simple_regret_exact_9[slice4],\n",
        "       simple_regret_exact_10[slice4],\n",
        "       simple_regret_exact_11[slice4],\n",
        "       simple_regret_exact_12[slice4],\n",
        "       simple_regret_exact_13[slice4],\n",
        "       simple_regret_exact_14[slice4],\n",
        "       simple_regret_exact_15[slice4],\n",
        "       simple_regret_exact_16[slice4],\n",
        "       simple_regret_exact_17[slice4],\n",
        "       simple_regret_exact_18[slice4],\n",
        "       simple_regret_exact_19[slice4],\n",
        "       simple_regret_exact_20[slice4]]\n",
        "\n",
        "approx4_results = pd.DataFrame(approx4).sort_values(by=[0], ascending=False)\n",
        "exact4_results = pd.DataFrame(exact4).sort_values(by=[0], ascending=False)\n",
        "\n",
        "### Best simple regret minimization IQR - approx:\n",
        "lower_approx4 = np.asarray(approx4_results[4:5][0])[0]\n",
        "median_approx4 = np.asarray(approx4_results[9:10][0])[0]\n",
        "upper_approx4 = np.asarray(approx4_results[14:15][0])[0]\n",
        "\n",
        "lower_exact4 = np.asarray(exact4_results[4:5][0])[0]\n",
        "median_exact4 = np.asarray(exact4_results[9:10][0])[0]\n",
        "upper_exact4 = np.asarray(exact4_results[14:15][0])[0]"
      ]
    },
    {
      "cell_type": "code",
      "execution_count": 83,
      "metadata": {
        "id": "ijq-rioYQxf5"
      },
      "outputs": [],
      "source": [
        "# Iteration14 :\n",
        "\n",
        "slice14 = 13\n",
        "\n",
        "approx14 = [simple_regret_approx_1[slice14],\n",
        "       simple_regret_approx_2[slice14],\n",
        "       simple_regret_approx_3[slice14],\n",
        "       simple_regret_approx_4[slice14],\n",
        "       simple_regret_approx_5[slice14],\n",
        "       simple_regret_approx_6[slice14],\n",
        "       simple_regret_approx_7[slice14],\n",
        "       simple_regret_approx_8[slice14],\n",
        "       simple_regret_approx_9[slice14],\n",
        "       simple_regret_approx_10[slice14],\n",
        "       simple_regret_approx_11[slice14],\n",
        "       simple_regret_approx_12[slice14],\n",
        "       simple_regret_approx_13[slice14],\n",
        "       simple_regret_approx_14[slice14],\n",
        "       simple_regret_approx_15[slice14],\n",
        "       simple_regret_approx_16[slice14],\n",
        "       simple_regret_approx_17[slice14],\n",
        "       simple_regret_approx_18[slice14],\n",
        "       simple_regret_approx_19[slice14],\n",
        "       simple_regret_approx_20[slice14]]\n",
        "\n",
        "exact14 = [simple_regret_exact_1[slice14],\n",
        "       simple_regret_exact_2[slice14],\n",
        "       simple_regret_exact_3[slice14],\n",
        "       simple_regret_exact_4[slice14],\n",
        "       simple_regret_exact_5[slice14],\n",
        "       simple_regret_exact_6[slice14],\n",
        "       simple_regret_exact_7[slice14],\n",
        "       simple_regret_exact_8[slice14],\n",
        "       simple_regret_exact_9[slice14],\n",
        "       simple_regret_exact_10[slice14],\n",
        "       simple_regret_exact_11[slice14],\n",
        "       simple_regret_exact_12[slice14],\n",
        "       simple_regret_exact_13[slice14],\n",
        "       simple_regret_exact_14[slice14],\n",
        "       simple_regret_exact_15[slice14],\n",
        "       simple_regret_exact_16[slice14],\n",
        "       simple_regret_exact_17[slice14],\n",
        "       simple_regret_exact_18[slice14],\n",
        "       simple_regret_exact_19[slice14],\n",
        "       simple_regret_exact_20[slice14]]\n",
        "\n",
        "approx14_results = pd.DataFrame(approx14).sort_values(by=[0], ascending=False)\n",
        "exact14_results = pd.DataFrame(exact14).sort_values(by=[0], ascending=False)\n",
        "\n",
        "### Best simple regret minimization IQR - approx:\n",
        "lower_approx14 = np.asarray(approx14_results[4:5][0])[0]\n",
        "median_approx14 = np.asarray(approx14_results[9:10][0])[0]\n",
        "upper_approx14 = np.asarray(approx14_results[14:15][0])[0]\n",
        "\n",
        "lower_exact14 = np.asarray(exact14_results[4:5][0])[0]\n",
        "median_exact14 = np.asarray(exact14_results[9:10][0])[0]\n",
        "upper_exact14 = np.asarray(exact14_results[14:15][0])[0]"
      ]
    },
    {
      "cell_type": "code",
      "execution_count": 84,
      "metadata": {
        "id": "XINlZjoTd-ZK"
      },
      "outputs": [],
      "source": [
        "# Iteration5 :\n",
        "\n",
        "slice5 = 4\n",
        "\n",
        "approx5 = [simple_regret_approx_1[slice5],\n",
        "       simple_regret_approx_2[slice5],\n",
        "       simple_regret_approx_3[slice5],\n",
        "       simple_regret_approx_4[slice5],\n",
        "       simple_regret_approx_5[slice5],\n",
        "       simple_regret_approx_6[slice5],\n",
        "       simple_regret_approx_7[slice5],\n",
        "       simple_regret_approx_8[slice5],\n",
        "       simple_regret_approx_9[slice5],\n",
        "       simple_regret_approx_10[slice5],\n",
        "       simple_regret_approx_11[slice5],\n",
        "       simple_regret_approx_12[slice5],\n",
        "       simple_regret_approx_13[slice5],\n",
        "       simple_regret_approx_14[slice5],\n",
        "       simple_regret_approx_15[slice5],\n",
        "       simple_regret_approx_16[slice5],\n",
        "       simple_regret_approx_17[slice5],\n",
        "       simple_regret_approx_18[slice5],\n",
        "       simple_regret_approx_19[slice5],\n",
        "       simple_regret_approx_20[slice5]]\n",
        "\n",
        "exact5 = [simple_regret_exact_1[slice5],\n",
        "       simple_regret_exact_2[slice5],\n",
        "       simple_regret_exact_3[slice5],\n",
        "       simple_regret_exact_4[slice5],\n",
        "       simple_regret_exact_5[slice5],\n",
        "       simple_regret_exact_6[slice5],\n",
        "       simple_regret_exact_7[slice5],\n",
        "       simple_regret_exact_8[slice5],\n",
        "       simple_regret_exact_9[slice5],\n",
        "       simple_regret_exact_10[slice5],\n",
        "       simple_regret_exact_11[slice5],\n",
        "       simple_regret_exact_12[slice5],\n",
        "       simple_regret_exact_13[slice5],\n",
        "       simple_regret_exact_14[slice5],\n",
        "       simple_regret_exact_15[slice5],\n",
        "       simple_regret_exact_16[slice5],\n",
        "       simple_regret_exact_17[slice5],\n",
        "       simple_regret_exact_18[slice5],\n",
        "       simple_regret_exact_19[slice5],\n",
        "       simple_regret_exact_20[slice5]]\n",
        "\n",
        "approx5_results = pd.DataFrame(approx5).sort_values(by=[0], ascending=False)\n",
        "exact5_results = pd.DataFrame(exact5).sort_values(by=[0], ascending=False)\n",
        "\n",
        "### Best simple regret minimization IQR - approx:\n",
        "lower_approx5 = np.asarray(approx5_results[4:5][0])[0]\n",
        "median_approx5 = np.asarray(approx5_results[9:10][0])[0]\n",
        "upper_approx5 = np.asarray(approx5_results[14:15][0])[0]\n",
        "\n",
        "lower_exact5 = np.asarray(exact5_results[4:5][0])[0]\n",
        "median_exact5 = np.asarray(exact5_results[9:10][0])[0]\n",
        "upper_exact5 = np.asarray(exact5_results[14:15][0])[0]"
      ]
    },
    {
      "cell_type": "code",
      "execution_count": 85,
      "metadata": {
        "id": "4aZ7C8sOQxf6"
      },
      "outputs": [],
      "source": [
        "# Iteration15 :\n",
        "\n",
        "slice15 = 14\n",
        "\n",
        "approx15 = [simple_regret_approx_1[slice15],\n",
        "       simple_regret_approx_2[slice15],\n",
        "       simple_regret_approx_3[slice15],\n",
        "       simple_regret_approx_4[slice15],\n",
        "       simple_regret_approx_5[slice15],\n",
        "       simple_regret_approx_6[slice15],\n",
        "       simple_regret_approx_7[slice15],\n",
        "       simple_regret_approx_8[slice15],\n",
        "       simple_regret_approx_9[slice15],\n",
        "       simple_regret_approx_10[slice15],\n",
        "       simple_regret_approx_11[slice15],\n",
        "       simple_regret_approx_12[slice15],\n",
        "       simple_regret_approx_13[slice15],\n",
        "       simple_regret_approx_14[slice15],\n",
        "       simple_regret_approx_15[slice15],\n",
        "       simple_regret_approx_16[slice15],\n",
        "       simple_regret_approx_17[slice15],\n",
        "       simple_regret_approx_18[slice15],\n",
        "       simple_regret_approx_19[slice15],\n",
        "       simple_regret_approx_20[slice15]]\n",
        "\n",
        "exact15 = [simple_regret_exact_1[slice15],\n",
        "       simple_regret_exact_2[slice15],\n",
        "       simple_regret_exact_3[slice15],\n",
        "       simple_regret_exact_4[slice15],\n",
        "       simple_regret_exact_5[slice15],\n",
        "       simple_regret_exact_6[slice15],\n",
        "       simple_regret_exact_7[slice15],\n",
        "       simple_regret_exact_8[slice15],\n",
        "       simple_regret_exact_9[slice15],\n",
        "       simple_regret_exact_10[slice15],\n",
        "       simple_regret_exact_11[slice15],\n",
        "       simple_regret_exact_12[slice15],\n",
        "       simple_regret_exact_13[slice15],\n",
        "       simple_regret_exact_14[slice15],\n",
        "       simple_regret_exact_15[slice15],\n",
        "       simple_regret_exact_16[slice15],\n",
        "       simple_regret_exact_17[slice15],\n",
        "       simple_regret_exact_18[slice15],\n",
        "       simple_regret_exact_19[slice15],\n",
        "       simple_regret_exact_20[slice15]]\n",
        "\n",
        "approx15_results = pd.DataFrame(approx15).sort_values(by=[0], ascending=False)\n",
        "exact15_results = pd.DataFrame(exact15).sort_values(by=[0], ascending=False)\n",
        "\n",
        "### Best simple regret minimization IQR - approx:\n",
        "lower_approx15 = np.asarray(approx15_results[4:5][0])[0]\n",
        "median_approx15 = np.asarray(approx15_results[9:10][0])[0]\n",
        "upper_approx15 = np.asarray(approx15_results[14:15][0])[0]\n",
        "\n",
        "lower_exact15 = np.asarray(exact15_results[4:5][0])[0]\n",
        "median_exact15 = np.asarray(exact15_results[9:10][0])[0]\n",
        "upper_exact15 = np.asarray(exact15_results[14:15][0])[0]"
      ]
    },
    {
      "cell_type": "code",
      "execution_count": 86,
      "metadata": {
        "id": "KJINKhv1Qxf6"
      },
      "outputs": [],
      "source": [
        "# Iteration6 :\n",
        "\n",
        "slice6 = 5\n",
        "\n",
        "approx6 = [simple_regret_approx_1[slice6],\n",
        "       simple_regret_approx_2[slice6],\n",
        "       simple_regret_approx_3[slice6],\n",
        "       simple_regret_approx_4[slice6],\n",
        "       simple_regret_approx_5[slice6],\n",
        "       simple_regret_approx_6[slice6],\n",
        "       simple_regret_approx_7[slice6],\n",
        "       simple_regret_approx_8[slice6],\n",
        "       simple_regret_approx_9[slice6],\n",
        "       simple_regret_approx_10[slice6],\n",
        "       simple_regret_approx_11[slice6],\n",
        "       simple_regret_approx_12[slice6],\n",
        "       simple_regret_approx_13[slice6],\n",
        "       simple_regret_approx_14[slice6],\n",
        "       simple_regret_approx_15[slice6],\n",
        "       simple_regret_approx_16[slice6],\n",
        "       simple_regret_approx_17[slice6],\n",
        "       simple_regret_approx_18[slice6],\n",
        "       simple_regret_approx_19[slice6],\n",
        "       simple_regret_approx_20[slice6]]\n",
        "\n",
        "exact6 = [simple_regret_exact_1[slice6],\n",
        "       simple_regret_exact_2[slice6],\n",
        "       simple_regret_exact_3[slice6],\n",
        "       simple_regret_exact_4[slice6],\n",
        "       simple_regret_exact_5[slice6],\n",
        "       simple_regret_exact_6[slice6],\n",
        "       simple_regret_exact_7[slice6],\n",
        "       simple_regret_exact_8[slice6],\n",
        "       simple_regret_exact_9[slice6],\n",
        "       simple_regret_exact_10[slice6],\n",
        "       simple_regret_exact_11[slice6],\n",
        "       simple_regret_exact_12[slice6],\n",
        "       simple_regret_exact_13[slice6],\n",
        "       simple_regret_exact_14[slice6],\n",
        "       simple_regret_exact_15[slice6],\n",
        "       simple_regret_exact_16[slice6],\n",
        "       simple_regret_exact_17[slice6],\n",
        "       simple_regret_exact_18[slice6],\n",
        "       simple_regret_exact_19[slice6],\n",
        "       simple_regret_exact_20[slice6]]\n",
        "\n",
        "approx6_results = pd.DataFrame(approx6).sort_values(by=[0], ascending=False)\n",
        "exact6_results = pd.DataFrame(exact6).sort_values(by=[0], ascending=False)\n",
        "\n",
        "### Best simple regret minimization IQR - approx:\n",
        "lower_approx6 = np.asarray(approx6_results[4:5][0])[0]\n",
        "median_approx6 = np.asarray(approx6_results[9:10][0])[0]\n",
        "upper_approx6 = np.asarray(approx6_results[14:15][0])[0]\n",
        "\n",
        "lower_exact6 = np.asarray(exact6_results[4:5][0])[0]\n",
        "median_exact6 = np.asarray(exact6_results[9:10][0])[0]\n",
        "upper_exact6 = np.asarray(exact6_results[14:15][0])[0]"
      ]
    },
    {
      "cell_type": "code",
      "execution_count": 87,
      "metadata": {
        "id": "nwC5N1FsQxf7"
      },
      "outputs": [],
      "source": [
        "# Iteration16 :\n",
        "\n",
        "slice16 = 15\n",
        "\n",
        "approx16 = [simple_regret_approx_1[slice16],\n",
        "       simple_regret_approx_2[slice16],\n",
        "       simple_regret_approx_3[slice16],\n",
        "       simple_regret_approx_4[slice16],\n",
        "       simple_regret_approx_5[slice16],\n",
        "       simple_regret_approx_6[slice16],\n",
        "       simple_regret_approx_7[slice16],\n",
        "       simple_regret_approx_8[slice16],\n",
        "       simple_regret_approx_9[slice16],\n",
        "       simple_regret_approx_10[slice16],\n",
        "       simple_regret_approx_11[slice16],\n",
        "       simple_regret_approx_12[slice16],\n",
        "       simple_regret_approx_13[slice16],\n",
        "       simple_regret_approx_14[slice16],\n",
        "       simple_regret_approx_15[slice16],\n",
        "       simple_regret_approx_16[slice16],\n",
        "       simple_regret_approx_17[slice16],\n",
        "       simple_regret_approx_18[slice16],\n",
        "       simple_regret_approx_19[slice16],\n",
        "       simple_regret_approx_20[slice16]]\n",
        "\n",
        "exact16 = [simple_regret_exact_1[slice16],\n",
        "       simple_regret_exact_2[slice16],\n",
        "       simple_regret_exact_3[slice16],\n",
        "       simple_regret_exact_4[slice16],\n",
        "       simple_regret_exact_5[slice16],\n",
        "       simple_regret_exact_6[slice16],\n",
        "       simple_regret_exact_7[slice16],\n",
        "       simple_regret_exact_8[slice16],\n",
        "       simple_regret_exact_9[slice16],\n",
        "       simple_regret_exact_10[slice16],\n",
        "       simple_regret_exact_11[slice16],\n",
        "       simple_regret_exact_12[slice16],\n",
        "       simple_regret_exact_13[slice16],\n",
        "       simple_regret_exact_14[slice16],\n",
        "       simple_regret_exact_15[slice16],\n",
        "       simple_regret_exact_16[slice16],\n",
        "       simple_regret_exact_17[slice16],\n",
        "       simple_regret_exact_18[slice16],\n",
        "       simple_regret_exact_19[slice16],\n",
        "       simple_regret_exact_20[slice16]]\n",
        "\n",
        "approx16_results = pd.DataFrame(approx16).sort_values(by=[0], ascending=False)\n",
        "exact16_results = pd.DataFrame(exact16).sort_values(by=[0], ascending=False)\n",
        "\n",
        "### Best simple regret minimization IQR - approx:\n",
        "lower_approx16 = np.asarray(approx16_results[4:5][0])[0]\n",
        "median_approx16 = np.asarray(approx16_results[9:10][0])[0]\n",
        "upper_approx16 = np.asarray(approx16_results[14:15][0])[0]\n",
        "\n",
        "lower_exact16 = np.asarray(exact16_results[4:5][0])[0]\n",
        "median_exact16 = np.asarray(exact16_results[9:10][0])[0]\n",
        "upper_exact16 = np.asarray(exact16_results[14:15][0])[0]"
      ]
    },
    {
      "cell_type": "code",
      "execution_count": 88,
      "metadata": {
        "id": "TrPV0AfnQxf7"
      },
      "outputs": [],
      "source": [
        "# Iteration7 :\n",
        "\n",
        "slice7 = 6\n",
        "\n",
        "approx7 = [simple_regret_approx_1[slice7],\n",
        "       simple_regret_approx_2[slice7],\n",
        "       simple_regret_approx_3[slice7],\n",
        "       simple_regret_approx_4[slice7],\n",
        "       simple_regret_approx_5[slice7],\n",
        "       simple_regret_approx_6[slice7],\n",
        "       simple_regret_approx_7[slice7],\n",
        "       simple_regret_approx_8[slice7],\n",
        "       simple_regret_approx_9[slice7],\n",
        "       simple_regret_approx_10[slice7],\n",
        "       simple_regret_approx_11[slice7],\n",
        "       simple_regret_approx_12[slice7],\n",
        "       simple_regret_approx_13[slice7],\n",
        "       simple_regret_approx_14[slice7],\n",
        "       simple_regret_approx_15[slice7],\n",
        "       simple_regret_approx_16[slice7],\n",
        "       simple_regret_approx_17[slice7],\n",
        "       simple_regret_approx_18[slice7],\n",
        "       simple_regret_approx_19[slice7],\n",
        "       simple_regret_approx_20[slice7]]\n",
        "\n",
        "exact7 = [simple_regret_exact_1[slice7],\n",
        "       simple_regret_exact_2[slice7],\n",
        "       simple_regret_exact_3[slice7],\n",
        "       simple_regret_exact_4[slice7],\n",
        "       simple_regret_exact_5[slice7],\n",
        "       simple_regret_exact_6[slice7],\n",
        "       simple_regret_exact_7[slice7],\n",
        "       simple_regret_exact_8[slice7],\n",
        "       simple_regret_exact_9[slice7],\n",
        "       simple_regret_exact_10[slice7],\n",
        "       simple_regret_exact_11[slice7],\n",
        "       simple_regret_exact_12[slice7],\n",
        "       simple_regret_exact_13[slice7],\n",
        "       simple_regret_exact_14[slice7],\n",
        "       simple_regret_exact_15[slice7],\n",
        "       simple_regret_exact_16[slice7],\n",
        "       simple_regret_exact_17[slice7],\n",
        "       simple_regret_exact_18[slice7],\n",
        "       simple_regret_exact_19[slice7],\n",
        "       simple_regret_exact_20[slice7]]\n",
        "\n",
        "approx7_results = pd.DataFrame(approx7).sort_values(by=[0], ascending=False)\n",
        "exact7_results = pd.DataFrame(exact7).sort_values(by=[0], ascending=False)\n",
        "\n",
        "### Best simple regret minimization IQR - approx:\n",
        "lower_approx7 = np.asarray(approx7_results[4:5][0])[0]\n",
        "median_approx7 = np.asarray(approx7_results[9:10][0])[0]\n",
        "upper_approx7 = np.asarray(approx7_results[14:15][0])[0]\n",
        "\n",
        "lower_exact7 = np.asarray(exact7_results[4:5][0])[0]\n",
        "median_exact7 = np.asarray(exact7_results[9:10][0])[0]\n",
        "upper_exact7 = np.asarray(exact7_results[14:15][0])[0]"
      ]
    },
    {
      "cell_type": "code",
      "execution_count": 89,
      "metadata": {
        "id": "Ub_-wpK4Qxf8"
      },
      "outputs": [],
      "source": [
        "# Iteration17 :\n",
        "\n",
        "slice17 = 16\n",
        "\n",
        "approx17 = [simple_regret_approx_1[slice17],\n",
        "       simple_regret_approx_2[slice17],\n",
        "       simple_regret_approx_3[slice17],\n",
        "       simple_regret_approx_4[slice17],\n",
        "       simple_regret_approx_5[slice17],\n",
        "       simple_regret_approx_6[slice17],\n",
        "       simple_regret_approx_7[slice17],\n",
        "       simple_regret_approx_8[slice17],\n",
        "       simple_regret_approx_9[slice17],\n",
        "       simple_regret_approx_10[slice17],\n",
        "       simple_regret_approx_11[slice17],\n",
        "       simple_regret_approx_12[slice17],\n",
        "       simple_regret_approx_13[slice17],\n",
        "       simple_regret_approx_14[slice17],\n",
        "       simple_regret_approx_15[slice17],\n",
        "       simple_regret_approx_16[slice17],\n",
        "       simple_regret_approx_17[slice17],\n",
        "       simple_regret_approx_18[slice17],\n",
        "       simple_regret_approx_19[slice17],\n",
        "       simple_regret_approx_20[slice17]]\n",
        "\n",
        "exact17 = [simple_regret_exact_1[slice17],\n",
        "       simple_regret_exact_2[slice17],\n",
        "       simple_regret_exact_3[slice17],\n",
        "       simple_regret_exact_4[slice17],\n",
        "       simple_regret_exact_5[slice17],\n",
        "       simple_regret_exact_6[slice17],\n",
        "       simple_regret_exact_7[slice17],\n",
        "       simple_regret_exact_8[slice17],\n",
        "       simple_regret_exact_9[slice17],\n",
        "       simple_regret_exact_10[slice17],\n",
        "       simple_regret_exact_11[slice17],\n",
        "       simple_regret_exact_12[slice17],\n",
        "       simple_regret_exact_13[slice17],\n",
        "       simple_regret_exact_14[slice17],\n",
        "       simple_regret_exact_15[slice17],\n",
        "       simple_regret_exact_16[slice17],\n",
        "       simple_regret_exact_17[slice17],\n",
        "       simple_regret_exact_18[slice17],\n",
        "       simple_regret_exact_19[slice17],\n",
        "       simple_regret_exact_20[slice17]]\n",
        "\n",
        "approx17_results = pd.DataFrame(approx17).sort_values(by=[0], ascending=False)\n",
        "exact17_results = pd.DataFrame(exact17).sort_values(by=[0], ascending=False)\n",
        "\n",
        "### Best simple regret minimization IQR - approx:\n",
        "lower_approx17 = np.asarray(approx17_results[4:5][0])[0]\n",
        "median_approx17 = np.asarray(approx17_results[9:10][0])[0]\n",
        "upper_approx17 = np.asarray(approx17_results[14:15][0])[0]\n",
        "\n",
        "lower_exact17 = np.asarray(exact17_results[4:5][0])[0]\n",
        "median_exact17 = np.asarray(exact17_results[9:10][0])[0]\n",
        "upper_exact17 = np.asarray(exact17_results[14:15][0])[0]"
      ]
    },
    {
      "cell_type": "code",
      "execution_count": 90,
      "metadata": {
        "id": "-6VLo37PQxf8"
      },
      "outputs": [],
      "source": [
        "# Iteration8 :\n",
        "\n",
        "slice8 = 7\n",
        "\n",
        "approx8 = [simple_regret_approx_1[slice8],\n",
        "       simple_regret_approx_2[slice8],\n",
        "       simple_regret_approx_3[slice8],\n",
        "       simple_regret_approx_4[slice8],\n",
        "       simple_regret_approx_5[slice8],\n",
        "       simple_regret_approx_6[slice8],\n",
        "       simple_regret_approx_7[slice8],\n",
        "       simple_regret_approx_8[slice8],\n",
        "       simple_regret_approx_9[slice8],\n",
        "       simple_regret_approx_10[slice8],\n",
        "       simple_regret_approx_11[slice8],\n",
        "       simple_regret_approx_12[slice8],\n",
        "       simple_regret_approx_13[slice8],\n",
        "       simple_regret_approx_14[slice8],\n",
        "       simple_regret_approx_15[slice8],\n",
        "       simple_regret_approx_16[slice8],\n",
        "       simple_regret_approx_17[slice8],\n",
        "       simple_regret_approx_18[slice8],\n",
        "       simple_regret_approx_19[slice8],\n",
        "       simple_regret_approx_20[slice8]]\n",
        "\n",
        "exact8 = [simple_regret_exact_1[slice8],\n",
        "       simple_regret_exact_2[slice8],\n",
        "       simple_regret_exact_3[slice8],\n",
        "       simple_regret_exact_4[slice8],\n",
        "       simple_regret_exact_5[slice8],\n",
        "       simple_regret_exact_6[slice8],\n",
        "       simple_regret_exact_7[slice8],\n",
        "       simple_regret_exact_8[slice8],\n",
        "       simple_regret_exact_9[slice8],\n",
        "       simple_regret_exact_10[slice8],\n",
        "       simple_regret_exact_11[slice8],\n",
        "       simple_regret_exact_12[slice8],\n",
        "       simple_regret_exact_13[slice8],\n",
        "       simple_regret_exact_14[slice8],\n",
        "       simple_regret_exact_15[slice8],\n",
        "       simple_regret_exact_16[slice8],\n",
        "       simple_regret_exact_17[slice8],\n",
        "       simple_regret_exact_18[slice8],\n",
        "       simple_regret_exact_19[slice8],\n",
        "       simple_regret_exact_20[slice8]]\n",
        "\n",
        "approx8_results = pd.DataFrame(approx8).sort_values(by=[0], ascending=False)\n",
        "exact8_results = pd.DataFrame(exact8).sort_values(by=[0], ascending=False)\n",
        "\n",
        "### Best simple regret minimization IQR - approx:\n",
        "lower_approx8 = np.asarray(approx8_results[4:5][0])[0]\n",
        "median_approx8 = np.asarray(approx8_results[9:10][0])[0]\n",
        "upper_approx8 = np.asarray(approx8_results[14:15][0])[0]\n",
        "\n",
        "lower_exact8 = np.asarray(exact8_results[4:5][0])[0]\n",
        "median_exact8 = np.asarray(exact8_results[9:10][0])[0]\n",
        "upper_exact8 = np.asarray(exact8_results[14:15][0])[0]"
      ]
    },
    {
      "cell_type": "code",
      "execution_count": 91,
      "metadata": {
        "id": "2Dp-9CC2Qxf9"
      },
      "outputs": [],
      "source": [
        "# Iteration18 :\n",
        "\n",
        "slice18 = 17\n",
        "\n",
        "approx18 = [simple_regret_approx_1[slice18],\n",
        "       simple_regret_approx_2[slice18],\n",
        "       simple_regret_approx_3[slice18],\n",
        "       simple_regret_approx_4[slice18],\n",
        "       simple_regret_approx_5[slice18],\n",
        "       simple_regret_approx_6[slice18],\n",
        "       simple_regret_approx_7[slice18],\n",
        "       simple_regret_approx_8[slice18],\n",
        "       simple_regret_approx_9[slice18],\n",
        "       simple_regret_approx_10[slice18],\n",
        "       simple_regret_approx_11[slice18],\n",
        "       simple_regret_approx_12[slice18],\n",
        "       simple_regret_approx_13[slice18],\n",
        "       simple_regret_approx_14[slice18],\n",
        "       simple_regret_approx_15[slice18],\n",
        "       simple_regret_approx_16[slice18],\n",
        "       simple_regret_approx_17[slice18],\n",
        "       simple_regret_approx_18[slice18],\n",
        "       simple_regret_approx_19[slice18],\n",
        "       simple_regret_approx_20[slice18]]\n",
        "\n",
        "exact18 = [simple_regret_exact_1[slice18],\n",
        "       simple_regret_exact_2[slice18],\n",
        "       simple_regret_exact_3[slice18],\n",
        "       simple_regret_exact_4[slice18],\n",
        "       simple_regret_exact_5[slice18],\n",
        "       simple_regret_exact_6[slice18],\n",
        "       simple_regret_exact_7[slice18],\n",
        "       simple_regret_exact_8[slice18],\n",
        "       simple_regret_exact_9[slice18],\n",
        "       simple_regret_exact_10[slice18],\n",
        "       simple_regret_exact_11[slice18],\n",
        "       simple_regret_exact_12[slice18],\n",
        "       simple_regret_exact_13[slice18],\n",
        "       simple_regret_exact_14[slice18],\n",
        "       simple_regret_exact_15[slice18],\n",
        "       simple_regret_exact_16[slice18],\n",
        "       simple_regret_exact_17[slice18],\n",
        "       simple_regret_exact_18[slice18],\n",
        "       simple_regret_exact_19[slice18],\n",
        "       simple_regret_exact_20[slice18]]\n",
        "\n",
        "approx18_results = pd.DataFrame(approx18).sort_values(by=[0], ascending=False)\n",
        "exact18_results = pd.DataFrame(exact18).sort_values(by=[0], ascending=False)\n",
        "\n",
        "### Best simple regret minimization IQR - approx:\n",
        "lower_approx18 = np.asarray(approx18_results[4:5][0])[0]\n",
        "median_approx18 = np.asarray(approx18_results[9:10][0])[0]\n",
        "upper_approx18 = np.asarray(approx18_results[14:15][0])[0]\n",
        "\n",
        "lower_exact18 = np.asarray(exact18_results[4:5][0])[0]\n",
        "median_exact18 = np.asarray(exact18_results[9:10][0])[0]\n",
        "upper_exact18 = np.asarray(exact18_results[14:15][0])[0]"
      ]
    },
    {
      "cell_type": "code",
      "execution_count": 92,
      "metadata": {
        "id": "SqiaOpB7Qxf9"
      },
      "outputs": [],
      "source": [
        "# Iteration9 :\n",
        "\n",
        "slice9 = 8\n",
        "\n",
        "approx9 = [simple_regret_approx_1[slice9],\n",
        "       simple_regret_approx_2[slice9],\n",
        "       simple_regret_approx_3[slice9],\n",
        "       simple_regret_approx_4[slice9],\n",
        "       simple_regret_approx_5[slice9],\n",
        "       simple_regret_approx_6[slice9],\n",
        "       simple_regret_approx_7[slice9],\n",
        "       simple_regret_approx_8[slice9],\n",
        "       simple_regret_approx_9[slice9],\n",
        "       simple_regret_approx_10[slice9],\n",
        "       simple_regret_approx_11[slice9],\n",
        "       simple_regret_approx_12[slice9],\n",
        "       simple_regret_approx_13[slice9],\n",
        "       simple_regret_approx_14[slice9],\n",
        "       simple_regret_approx_15[slice9],\n",
        "       simple_regret_approx_16[slice9],\n",
        "       simple_regret_approx_17[slice9],\n",
        "       simple_regret_approx_18[slice9],\n",
        "       simple_regret_approx_19[slice9],\n",
        "       simple_regret_approx_20[slice9]]\n",
        "\n",
        "exact9 = [simple_regret_exact_1[slice9],\n",
        "       simple_regret_exact_2[slice9],\n",
        "       simple_regret_exact_3[slice9],\n",
        "       simple_regret_exact_4[slice9],\n",
        "       simple_regret_exact_5[slice9],\n",
        "       simple_regret_exact_6[slice9],\n",
        "       simple_regret_exact_7[slice9],\n",
        "       simple_regret_exact_8[slice9],\n",
        "       simple_regret_exact_9[slice9],\n",
        "       simple_regret_exact_10[slice9],\n",
        "       simple_regret_exact_11[slice9],\n",
        "       simple_regret_exact_12[slice9],\n",
        "       simple_regret_exact_13[slice9],\n",
        "       simple_regret_exact_14[slice9],\n",
        "       simple_regret_exact_15[slice9],\n",
        "       simple_regret_exact_16[slice9],\n",
        "       simple_regret_exact_17[slice9],\n",
        "       simple_regret_exact_18[slice9],\n",
        "       simple_regret_exact_19[slice9],\n",
        "       simple_regret_exact_20[slice9]]\n",
        "\n",
        "approx9_results = pd.DataFrame(approx9).sort_values(by=[0], ascending=False)\n",
        "exact9_results = pd.DataFrame(exact9).sort_values(by=[0], ascending=False)\n",
        "\n",
        "### Best simple regret minimization IQR - approx:\n",
        "lower_approx9 = np.asarray(approx9_results[4:5][0])[0]\n",
        "median_approx9 = np.asarray(approx9_results[9:10][0])[0]\n",
        "upper_approx9 = np.asarray(approx9_results[14:15][0])[0]\n",
        "\n",
        "lower_exact9 = np.asarray(exact9_results[4:5][0])[0]\n",
        "median_exact9 = np.asarray(exact9_results[9:10][0])[0]\n",
        "upper_exact9 = np.asarray(exact9_results[14:15][0])[0]"
      ]
    },
    {
      "cell_type": "code",
      "execution_count": 93,
      "metadata": {
        "id": "OQkCCOsPQxf9"
      },
      "outputs": [],
      "source": [
        "# Iteration19 :\n",
        "\n",
        "slice19 = 18\n",
        "\n",
        "approx19 = [simple_regret_approx_1[slice19],\n",
        "       simple_regret_approx_2[slice19],\n",
        "       simple_regret_approx_3[slice19],\n",
        "       simple_regret_approx_4[slice19],\n",
        "       simple_regret_approx_5[slice19],\n",
        "       simple_regret_approx_6[slice19],\n",
        "       simple_regret_approx_7[slice19],\n",
        "       simple_regret_approx_8[slice19],\n",
        "       simple_regret_approx_9[slice19],\n",
        "       simple_regret_approx_10[slice19],\n",
        "       simple_regret_approx_11[slice19],\n",
        "       simple_regret_approx_12[slice19],\n",
        "       simple_regret_approx_13[slice19],\n",
        "       simple_regret_approx_14[slice19],\n",
        "       simple_regret_approx_15[slice19],\n",
        "       simple_regret_approx_16[slice19],\n",
        "       simple_regret_approx_17[slice19],\n",
        "       simple_regret_approx_18[slice19],\n",
        "       simple_regret_approx_19[slice19],\n",
        "       simple_regret_approx_20[slice19]]\n",
        "\n",
        "exact19 = [simple_regret_exact_1[slice19],\n",
        "       simple_regret_exact_2[slice19],\n",
        "       simple_regret_exact_3[slice19],\n",
        "       simple_regret_exact_4[slice19],\n",
        "       simple_regret_exact_5[slice19],\n",
        "       simple_regret_exact_6[slice19],\n",
        "       simple_regret_exact_7[slice19],\n",
        "       simple_regret_exact_8[slice19],\n",
        "       simple_regret_exact_9[slice19],\n",
        "       simple_regret_exact_10[slice19],\n",
        "       simple_regret_exact_11[slice19],\n",
        "       simple_regret_exact_12[slice19],\n",
        "       simple_regret_exact_13[slice19],\n",
        "       simple_regret_exact_14[slice19],\n",
        "       simple_regret_exact_15[slice19],\n",
        "       simple_regret_exact_16[slice19],\n",
        "       simple_regret_exact_17[slice19],\n",
        "       simple_regret_exact_18[slice19],\n",
        "       simple_regret_exact_19[slice19],\n",
        "       simple_regret_exact_20[slice19]]\n",
        "\n",
        "approx19_results = pd.DataFrame(approx19).sort_values(by=[0], ascending=False)\n",
        "exact19_results = pd.DataFrame(exact19).sort_values(by=[0], ascending=False)\n",
        "\n",
        "### Best simple regret minimization IQR - approx:\n",
        "lower_approx19 = np.asarray(approx19_results[4:5][0])[0]\n",
        "median_approx19 = np.asarray(approx19_results[9:10][0])[0]\n",
        "upper_approx19 = np.asarray(approx19_results[14:15][0])[0]\n",
        "\n",
        "lower_exact19 = np.asarray(exact19_results[4:5][0])[0]\n",
        "median_exact19 = np.asarray(exact19_results[9:10][0])[0]\n",
        "upper_exact19 = np.asarray(exact19_results[14:15][0])[0]"
      ]
    },
    {
      "cell_type": "code",
      "execution_count": 94,
      "metadata": {
        "id": "h4vtWahcQxf-"
      },
      "outputs": [],
      "source": [
        "# Iteration10 :\n",
        "\n",
        "slice10 = 9\n",
        "\n",
        "approx10 = [simple_regret_approx_1[slice10],\n",
        "       simple_regret_approx_2[slice10],\n",
        "       simple_regret_approx_3[slice10],\n",
        "       simple_regret_approx_4[slice10],\n",
        "       simple_regret_approx_5[slice10],\n",
        "       simple_regret_approx_6[slice10],\n",
        "       simple_regret_approx_7[slice10],\n",
        "       simple_regret_approx_8[slice10],\n",
        "       simple_regret_approx_9[slice10],\n",
        "       simple_regret_approx_10[slice10],\n",
        "       simple_regret_approx_11[slice10],\n",
        "       simple_regret_approx_12[slice10],\n",
        "       simple_regret_approx_13[slice10],\n",
        "       simple_regret_approx_14[slice10],\n",
        "       simple_regret_approx_15[slice10],\n",
        "       simple_regret_approx_16[slice10],\n",
        "       simple_regret_approx_17[slice10],\n",
        "       simple_regret_approx_18[slice10],\n",
        "       simple_regret_approx_19[slice10],\n",
        "       simple_regret_approx_20[slice10]]\n",
        "\n",
        "exact10 = [simple_regret_exact_1[slice10],\n",
        "       simple_regret_exact_2[slice10],\n",
        "       simple_regret_exact_3[slice10],\n",
        "       simple_regret_exact_4[slice10],\n",
        "       simple_regret_exact_5[slice10],\n",
        "       simple_regret_exact_6[slice10],\n",
        "       simple_regret_exact_7[slice10],\n",
        "       simple_regret_exact_8[slice10],\n",
        "       simple_regret_exact_9[slice10],\n",
        "       simple_regret_exact_10[slice10],\n",
        "       simple_regret_exact_11[slice10],\n",
        "       simple_regret_exact_12[slice10],\n",
        "       simple_regret_exact_13[slice10],\n",
        "       simple_regret_exact_14[slice10],\n",
        "       simple_regret_exact_15[slice10],\n",
        "       simple_regret_exact_16[slice10],\n",
        "       simple_regret_exact_17[slice10],\n",
        "       simple_regret_exact_18[slice10],\n",
        "       simple_regret_exact_19[slice10],\n",
        "       simple_regret_exact_20[slice10]]\n",
        "\n",
        "approx10_results = pd.DataFrame(approx10).sort_values(by=[0], ascending=False)\n",
        "exact10_results = pd.DataFrame(exact10).sort_values(by=[0], ascending=False)\n",
        "\n",
        "### Best simple regret minimization IQR - approx:\n",
        "lower_approx10 = np.asarray(approx10_results[4:5][0])[0]\n",
        "median_approx10 = np.asarray(approx10_results[9:10][0])[0]\n",
        "upper_approx10 = np.asarray(approx10_results[14:15][0])[0]\n",
        "\n",
        "lower_exact10 = np.asarray(exact10_results[4:5][0])[0]\n",
        "median_exact10 = np.asarray(exact10_results[9:10][0])[0]\n",
        "upper_exact10 = np.asarray(exact10_results[14:15][0])[0]"
      ]
    },
    {
      "cell_type": "code",
      "execution_count": 95,
      "metadata": {
        "id": "Rsf240pWQxf-"
      },
      "outputs": [],
      "source": [
        "# Iteration20 :\n",
        "\n",
        "slice20 = 19\n",
        "\n",
        "approx20 = [simple_regret_approx_1[slice20],\n",
        "       simple_regret_approx_2[slice20],\n",
        "       simple_regret_approx_3[slice20],\n",
        "       simple_regret_approx_4[slice20],\n",
        "       simple_regret_approx_5[slice20],\n",
        "       simple_regret_approx_6[slice20],\n",
        "       simple_regret_approx_7[slice20],\n",
        "       simple_regret_approx_8[slice20],\n",
        "       simple_regret_approx_9[slice20],\n",
        "       simple_regret_approx_10[slice20],\n",
        "       simple_regret_approx_11[slice20],\n",
        "       simple_regret_approx_12[slice20],\n",
        "       simple_regret_approx_13[slice20],\n",
        "       simple_regret_approx_14[slice20],\n",
        "       simple_regret_approx_15[slice20],\n",
        "       simple_regret_approx_16[slice20],\n",
        "       simple_regret_approx_17[slice20],\n",
        "       simple_regret_approx_18[slice20],\n",
        "       simple_regret_approx_19[slice20],\n",
        "       simple_regret_approx_20[slice20]]\n",
        "\n",
        "exact20 = [simple_regret_exact_1[slice20],\n",
        "       simple_regret_exact_2[slice20],\n",
        "       simple_regret_exact_3[slice20],\n",
        "       simple_regret_exact_4[slice20],\n",
        "       simple_regret_exact_5[slice20],\n",
        "       simple_regret_exact_6[slice20],\n",
        "       simple_regret_exact_7[slice20],\n",
        "       simple_regret_exact_8[slice20],\n",
        "       simple_regret_exact_9[slice20],\n",
        "       simple_regret_exact_10[slice20],\n",
        "       simple_regret_exact_11[slice20],\n",
        "       simple_regret_exact_12[slice20],\n",
        "       simple_regret_exact_13[slice20],\n",
        "       simple_regret_exact_14[slice20],\n",
        "       simple_regret_exact_15[slice20],\n",
        "       simple_regret_exact_16[slice20],\n",
        "       simple_regret_exact_17[slice20],\n",
        "       simple_regret_exact_18[slice20],\n",
        "       simple_regret_exact_19[slice20],\n",
        "       simple_regret_exact_20[slice20]]\n",
        "\n",
        "approx20_results = pd.DataFrame(approx20).sort_values(by=[0], ascending=False)\n",
        "exact20_results = pd.DataFrame(exact20).sort_values(by=[0], ascending=False)\n",
        "\n",
        "### Best simple regret minimization IQR - approx:\n",
        "lower_approx20 = np.asarray(approx20_results[4:5][0])[0]\n",
        "median_approx20 = np.asarray(approx20_results[9:10][0])[0]\n",
        "upper_approx20 = np.asarray(approx20_results[14:15][0])[0]\n",
        "\n",
        "lower_exact20 = np.asarray(exact20_results[4:5][0])[0]\n",
        "median_exact20 = np.asarray(exact20_results[9:10][0])[0]\n",
        "upper_exact20 = np.asarray(exact20_results[14:15][0])[0]"
      ]
    },
    {
      "cell_type": "code",
      "execution_count": 96,
      "metadata": {
        "id": "gn36RejbQxf_"
      },
      "outputs": [],
      "source": [
        "### Summarize arrays: 'Loser'\n",
        "\n",
        "lower_approx = [lower_approx1,\n",
        "            lower_approx2,\n",
        "            lower_approx3,\n",
        "            lower_approx4,\n",
        "            lower_approx5,\n",
        "            lower_approx6,\n",
        "            lower_approx7,\n",
        "            lower_approx8,\n",
        "            lower_approx9,\n",
        "            lower_approx10,\n",
        "            lower_approx11,\n",
        "            lower_approx12,\n",
        "            lower_approx13,\n",
        "            lower_approx14,\n",
        "            lower_approx15,\n",
        "            lower_approx16,\n",
        "            lower_approx17,\n",
        "            lower_approx18,\n",
        "            lower_approx19,\n",
        "            lower_approx20,\n",
        "            lower_approx21]\n",
        "\n",
        "median_approx = [median_approx1,\n",
        "            median_approx2,\n",
        "            median_approx3,\n",
        "            median_approx4,\n",
        "            median_approx5,\n",
        "            median_approx6,\n",
        "            median_approx7,\n",
        "            median_approx8,\n",
        "            median_approx9,\n",
        "            median_approx10,\n",
        "            median_approx11,\n",
        "            median_approx12,\n",
        "            median_approx13,\n",
        "            median_approx14,\n",
        "            median_approx15,\n",
        "            median_approx16,\n",
        "            median_approx17,\n",
        "            median_approx18,\n",
        "            median_approx19,\n",
        "            median_approx20,\n",
        "            median_approx21]\n",
        "\n",
        "upper_approx = [upper_approx1,\n",
        "            upper_approx2,\n",
        "            upper_approx3,\n",
        "            upper_approx4,\n",
        "            upper_approx5,\n",
        "            upper_approx6,\n",
        "            upper_approx7,\n",
        "            upper_approx8,\n",
        "            upper_approx9,\n",
        "            upper_approx10,\n",
        "            upper_approx11,\n",
        "            upper_approx12,\n",
        "            upper_approx13,\n",
        "            upper_approx14,\n",
        "            upper_approx15,\n",
        "            upper_approx16,\n",
        "            upper_approx17,\n",
        "            upper_approx18,\n",
        "            upper_approx19,\n",
        "            upper_approx20,\n",
        "            upper_approx21]"
      ]
    },
    {
      "cell_type": "code",
      "execution_count": 97,
      "metadata": {
        "id": "wxtGTOYfQxf_"
      },
      "outputs": [],
      "source": [
        "### Summarize arrays: 'exact'\n",
        "\n",
        "lower_exact = [lower_exact1,\n",
        "            lower_exact2,\n",
        "            lower_exact3,\n",
        "            lower_exact4,\n",
        "            lower_exact5,\n",
        "            lower_exact6,\n",
        "            lower_exact7,\n",
        "            lower_exact8,\n",
        "            lower_exact9,\n",
        "            lower_exact10,\n",
        "            lower_exact11,\n",
        "            lower_exact12,\n",
        "            lower_exact13,\n",
        "            lower_exact14,\n",
        "            lower_exact15,\n",
        "            lower_exact16,\n",
        "            lower_exact17,\n",
        "            lower_exact18,\n",
        "            lower_exact19,\n",
        "            lower_exact20,\n",
        "            lower_exact21]\n",
        "\n",
        "median_exact = [median_exact1,\n",
        "            median_exact2,\n",
        "            median_exact3,\n",
        "            median_exact4,\n",
        "            median_exact5,\n",
        "            median_exact6,\n",
        "            median_exact7,\n",
        "            median_exact8,\n",
        "            median_exact9,\n",
        "            median_exact10,\n",
        "            median_exact11,\n",
        "            median_exact12,\n",
        "            median_exact13,\n",
        "            median_exact14,\n",
        "            median_exact15,\n",
        "            median_exact16,\n",
        "            median_exact17,\n",
        "            median_exact18,\n",
        "            median_exact19,\n",
        "            median_exact20,\n",
        "            median_exact21]\n",
        "\n",
        "upper_exact = [upper_exact1,\n",
        "            upper_exact2,\n",
        "            upper_exact3,\n",
        "            upper_exact4,\n",
        "            upper_exact5,\n",
        "            upper_exact6,\n",
        "            upper_exact7,\n",
        "            upper_exact8,\n",
        "            upper_exact9,\n",
        "            upper_exact10,\n",
        "            upper_exact11,\n",
        "            upper_exact12,\n",
        "            upper_exact13,\n",
        "            upper_exact14,\n",
        "            upper_exact15,\n",
        "            upper_exact16,\n",
        "            upper_exact17,\n",
        "            upper_exact18,\n",
        "            upper_exact19,\n",
        "            upper_exact20,\n",
        "            upper_exact21]"
      ]
    },
    {
      "cell_type": "code",
      "execution_count": 98,
      "metadata": {
        "id": "2MONq-BXQxgA",
        "colab": {
          "base_uri": "https://localhost:8080/",
          "height": 299
        },
        "outputId": "252b817f-7d67-45a9-dd3f-a00a22e0d073"
      },
      "outputs": [
        {
          "output_type": "display_data",
          "data": {
            "text/plain": [
              "<Figure size 432x288 with 1 Axes>"
            ],
            "image/png": "[encoded data removed]"
          },
          "metadata": {
            "needs_background": "light"
          }
        }
      ],
      "source": [
        "### Visualise!\n",
        "\n",
        "title = func\n",
        "plt.figure()\n",
        "\n",
        "plt.plot(median_approx, color = 'Yellow')\n",
        "plt.plot(median_exact, color = 'Red')\n",
        "\n",
        "xstar = np.arange(0, iters+1, step=1)\n",
        "plt.fill_between(xstar, lower_approx, upper_approx, facecolor = 'Yellow', alpha=0.4, label='GP EI Optimization: Approx GP EI gradients')\n",
        "plt.fill_between(xstar, lower_exact, upper_exact, facecolor = 'Red', alpha=0.4, label='GP EI Optimization: Exact GP dEI gradients')\n",
        "\n",
        "plt.title(title, weight = 'bold')\n",
        "plt.xlabel('(Post-initialization) iteration $\\it{k}$', weight = 'bold')\n",
        "plt.ylabel('log(Regret)', weight = 'bold') \n",
        "plt.legend(loc=3) # add plot legend\n",
        "\n",
        "### Make the x-ticks integers, not floats:\n",
        "count = len(xstar)\n",
        "plt.xticks(np.arange(count), np.arange(0, count))\n",
        "plt.show() #visualize!"
      ]
    },
    {
      "cell_type": "code",
      "execution_count": 99,
      "metadata": {
        "id": "l5dkR2Id2oiu",
        "colab": {
          "base_uri": "https://localhost:8080/"
        },
        "outputId": "d6c72b70-8c9f-43ac-c9a4-95bc56dec266"
      },
      "outputs": [
        {
          "output_type": "execute_result",
          "data": {
            "text/plain": [
              "(678.0957970619202, 623.5541229248047)"
            ]
          },
          "metadata": {},
          "execution_count": 99
        }
      ],
      "source": [
        "time_approx, time_exact\n"
      ]
    },
    {
      "cell_type": "code",
      "source": [
        "### acqFunc attribute x, stddev: run number = 1\n",
        "\n",
        "acqFuncApprox_exact_1 = acqFuncApprox(exact_1.history)\n",
        "acqFuncExact_exact_1 = acqFuncExact(exact_1.history)\n",
        "\n",
        "e1 = np.mean(acqFuncExact_exact_1)\n",
        "a1 = np.mean(acqFuncApprox_exact_1)\n",
        "\n",
        "e1, a1\n"
      ],
      "metadata": {
        "colab": {
          "base_uri": "https://localhost:8080/"
        },
        "id": "uwxv4dmfGsLr",
        "outputId": "66c76861-a876-4bac-e269-03d68d6e9e93"
      },
      "execution_count": 100,
      "outputs": [
        {
          "output_type": "execute_result",
          "data": {
            "text/plain": [
              "(1.476675590863188, 1.5584127364136915)"
            ]
          },
          "metadata": {},
          "execution_count": 100
        }
      ]
    },
    {
      "cell_type": "code",
      "source": [
        "### acqFunc attribute x, stddev: run number = 2\n",
        "\n",
        "acqFuncApprox_exact_2 = acqFuncApprox(exact_2.history)\n",
        "acqFuncExact_exact_2 = acqFuncExact(exact_2.history)\n",
        "\n",
        "e2 = np.mean(acqFuncExact_exact_2)\n",
        "a2 = np.mean(acqFuncApprox_exact_2)\n",
        "\n",
        "e2, a2\n"
      ],
      "metadata": {
        "colab": {
          "base_uri": "https://localhost:8080/"
        },
        "id": "0YSV00_pGsXe",
        "outputId": "39f898d1-8496-44a5-b9eb-1905b61a7d1c"
      },
      "execution_count": 101,
      "outputs": [
        {
          "output_type": "execute_result",
          "data": {
            "text/plain": [
              "(1.4996800213123533, 1.5993725151924005)"
            ]
          },
          "metadata": {},
          "execution_count": 101
        }
      ]
    },
    {
      "cell_type": "code",
      "source": [
        "### acqFunc attribute x, stddev: run number = 3\n",
        "\n",
        "acqFuncApprox_exact_3 = acqFuncApprox(exact_3.history)\n",
        "acqFuncExact_exact_3 = acqFuncExact(exact_3.history)\n",
        "\n",
        "e3 = np.mean(acqFuncExact_exact_3)\n",
        "a3 = np.mean(acqFuncApprox_exact_3)\n",
        "\n",
        "e3, a3\n"
      ],
      "metadata": {
        "colab": {
          "base_uri": "https://localhost:8080/"
        },
        "id": "HHVmsd2UGsjT",
        "outputId": "092976f0-7001-434a-cc65-6dbef11ae591"
      },
      "execution_count": 102,
      "outputs": [
        {
          "output_type": "execute_result",
          "data": {
            "text/plain": [
              "(1.367983575155535, 1.5008029325940317)"
            ]
          },
          "metadata": {},
          "execution_count": 102
        }
      ]
    },
    {
      "cell_type": "code",
      "source": [
        "### acqFunc attribute x, stddev: run number = 4\n",
        "\n",
        "acqFuncApprox_exact_4 = acqFuncApprox(exact_4.history)\n",
        "acqFuncExact_exact_4 = acqFuncExact(exact_4.history)\n",
        "\n",
        "e4 = np.mean(acqFuncExact_exact_4)\n",
        "a4 = np.mean(acqFuncApprox_exact_4)\n",
        "\n",
        "e4, a4\n"
      ],
      "metadata": {
        "colab": {
          "base_uri": "https://localhost:8080/"
        },
        "id": "r7O19S2eGsu7",
        "outputId": "7cc24818-7ba9-49a4-838e-fdd586b958cc"
      },
      "execution_count": 103,
      "outputs": [
        {
          "output_type": "execute_result",
          "data": {
            "text/plain": [
              "(1.469826818232934, 1.5393837630136897)"
            ]
          },
          "metadata": {},
          "execution_count": 103
        }
      ]
    },
    {
      "cell_type": "code",
      "source": [
        "### acqFunc attribute x, stddev: run number = 5\n",
        "\n",
        "acqFuncApprox_exact_5 = acqFuncApprox(exact_5.history)\n",
        "acqFuncExact_exact_5 = acqFuncExact(exact_5.history)\n",
        "\n",
        "e5 = np.mean(acqFuncExact_exact_5)\n",
        "a5 = np.mean(acqFuncApprox_exact_5)\n",
        "\n",
        "e5, a5\n"
      ],
      "metadata": {
        "colab": {
          "base_uri": "https://localhost:8080/"
        },
        "id": "sdb9o6NuGs5m",
        "outputId": "8a9fb997-8a5e-4b6f-890b-4c053b39f4e2"
      },
      "execution_count": 104,
      "outputs": [
        {
          "output_type": "execute_result",
          "data": {
            "text/plain": [
              "(1.46382647088558, 1.4066202692819973)"
            ]
          },
          "metadata": {},
          "execution_count": 104
        }
      ]
    },
    {
      "cell_type": "code",
      "source": [
        "### acqFunc attribute x, stddev: run number = 6\n",
        "\n",
        "acqFuncApprox_exact_6 = acqFuncApprox(exact_6.history)\n",
        "acqFuncExact_exact_6 = acqFuncExact(exact_6.history)\n",
        "\n",
        "e6 = np.mean(acqFuncExact_exact_6)\n",
        "a6 = np.mean(acqFuncApprox_exact_6)\n",
        "\n",
        "e6, a6\n"
      ],
      "metadata": {
        "colab": {
          "base_uri": "https://localhost:8080/"
        },
        "id": "COQl7LZ8GtE0",
        "outputId": "a57fa5e6-0eaa-4b51-8f03-5635594f0b9d"
      },
      "execution_count": 105,
      "outputs": [
        {
          "output_type": "execute_result",
          "data": {
            "text/plain": [
              "(1.6393378188417596, 1.5748614700485288)"
            ]
          },
          "metadata": {},
          "execution_count": 105
        }
      ]
    },
    {
      "cell_type": "code",
      "source": [
        "### acqFunc attribute x, stddev: run number = 7\n",
        "\n",
        "acqFuncApprox_exact_7 = acqFuncApprox(exact_7.history)\n",
        "acqFuncExact_exact_7 = acqFuncExact(exact_7.history)\n",
        "\n",
        "e7 = np.mean(acqFuncExact_exact_7)\n",
        "a7 = np.mean(acqFuncApprox_exact_7)\n",
        "\n",
        "e7, a7\n"
      ],
      "metadata": {
        "colab": {
          "base_uri": "https://localhost:8080/"
        },
        "id": "2gy9EtTzGtP7",
        "outputId": "782c4eb8-9f78-44ba-b805-0b958034f03a"
      },
      "execution_count": 106,
      "outputs": [
        {
          "output_type": "execute_result",
          "data": {
            "text/plain": [
              "(1.5062846109210342, 1.5111980459181527)"
            ]
          },
          "metadata": {},
          "execution_count": 106
        }
      ]
    },
    {
      "cell_type": "code",
      "source": [
        "### acqFunc attribute x, stddev: run number = 8\n",
        "\n",
        "acqFuncApprox_exact_8 = acqFuncApprox(exact_8.history)\n",
        "acqFuncExact_exact_8 = acqFuncExact(exact_8.history)\n",
        "\n",
        "e8 = np.mean(acqFuncExact_exact_8)\n",
        "a8 = np.mean(acqFuncApprox_exact_8)\n",
        "\n",
        "e8, a8\n"
      ],
      "metadata": {
        "colab": {
          "base_uri": "https://localhost:8080/"
        },
        "id": "S7mn0qoMGtbM",
        "outputId": "178fe40d-5c1f-476c-9609-813d030aab62"
      },
      "execution_count": 107,
      "outputs": [
        {
          "output_type": "execute_result",
          "data": {
            "text/plain": [
              "(1.366242572772194, 1.5646561314703007)"
            ]
          },
          "metadata": {},
          "execution_count": 107
        }
      ]
    },
    {
      "cell_type": "code",
      "source": [
        "### acqFunc attribute x, stddev: run number = 9\n",
        "\n",
        "acqFuncApprox_exact_9 = acqFuncApprox(exact_9.history)\n",
        "acqFuncExact_exact_9 = acqFuncExact(exact_9.history)\n",
        "\n",
        "e9 = np.mean(acqFuncExact_exact_9)\n",
        "a9 = np.mean(acqFuncApprox_exact_9)\n",
        "\n",
        "e9, a9\n"
      ],
      "metadata": {
        "colab": {
          "base_uri": "https://localhost:8080/"
        },
        "id": "BhljmkNxGtms",
        "outputId": "3dcd9f23-ad6f-4e50-a1a3-57dbdf3790ac"
      },
      "execution_count": 108,
      "outputs": [
        {
          "output_type": "execute_result",
          "data": {
            "text/plain": [
              "(1.4149994884753994, 1.4083379332711432)"
            ]
          },
          "metadata": {},
          "execution_count": 108
        }
      ]
    },
    {
      "cell_type": "code",
      "source": [
        "### acqFunc attribute x, stddev: run number = 10\n",
        "\n",
        "acqFuncApprox_exact_10 = acqFuncApprox(exact_10.history)\n",
        "acqFuncExact_exact_10 = acqFuncExact(exact_10.history)\n",
        "\n",
        "e10 = np.mean(acqFuncExact_exact_10)\n",
        "a10 = np.mean(acqFuncApprox_exact_10)\n",
        "\n",
        "e10, a10\n"
      ],
      "metadata": {
        "colab": {
          "base_uri": "https://localhost:8080/"
        },
        "id": "W5GZo6k3Gtx8",
        "outputId": "6da58d59-268e-4d8f-d5a8-a4a435b02ead"
      },
      "execution_count": 109,
      "outputs": [
        {
          "output_type": "execute_result",
          "data": {
            "text/plain": [
              "(1.4544056107222438, 1.4460870988151509)"
            ]
          },
          "metadata": {},
          "execution_count": 109
        }
      ]
    },
    {
      "cell_type": "code",
      "source": [
        "### acqFunc attribute x, stddev: run number = 11\n",
        "\n",
        "acqFuncApprox_exact_11 = acqFuncApprox(exact_11.history)\n",
        "acqFuncExact_exact_11 = acqFuncExact(exact_11.history)\n",
        "\n",
        "e11 = np.mean(acqFuncExact_exact_11)\n",
        "a11 = np.mean(acqFuncApprox_exact_11)\n",
        "\n",
        "e11, a11\n"
      ],
      "metadata": {
        "colab": {
          "base_uri": "https://localhost:8080/"
        },
        "id": "isKNhDk5Gt9D",
        "outputId": "5825ae86-24e2-4ae3-d7b1-d0b0c5a393f1"
      },
      "execution_count": 110,
      "outputs": [
        {
          "output_type": "execute_result",
          "data": {
            "text/plain": [
              "(1.3974414186307933, 1.4265780662520717)"
            ]
          },
          "metadata": {},
          "execution_count": 110
        }
      ]
    },
    {
      "cell_type": "code",
      "source": [
        "### acqFunc attribute x, stddev: run number = 12\n",
        "\n",
        "acqFuncApprox_exact_12 = acqFuncApprox(exact_12.history)\n",
        "acqFuncExact_exact_12 = acqFuncExact(exact_12.history)\n",
        "\n",
        "e12 = np.mean(acqFuncExact_exact_12)\n",
        "a12 = np.mean(acqFuncApprox_exact_12)\n",
        "\n",
        "e12, a12\n"
      ],
      "metadata": {
        "colab": {
          "base_uri": "https://localhost:8080/"
        },
        "id": "8ts-wrSuGuIm",
        "outputId": "342991e7-da1c-436a-e789-8a2c86e8b480"
      },
      "execution_count": 111,
      "outputs": [
        {
          "output_type": "execute_result",
          "data": {
            "text/plain": [
              "(1.4980559065199122, 1.473503874980056)"
            ]
          },
          "metadata": {},
          "execution_count": 111
        }
      ]
    },
    {
      "cell_type": "code",
      "source": [
        "### acqFunc attribute x, stddev: run number = 13\n",
        "\n",
        "acqFuncApprox_exact_13 = acqFuncApprox(exact_13.history)\n",
        "acqFuncExact_exact_13 = acqFuncExact(exact_13.history)\n",
        "\n",
        "e13 = np.mean(acqFuncExact_exact_13)\n",
        "a13 = np.mean(acqFuncApprox_exact_13)\n",
        "\n",
        "e13, a13\n"
      ],
      "metadata": {
        "colab": {
          "base_uri": "https://localhost:8080/"
        },
        "id": "n0drhEe3GuUL",
        "outputId": "ef88477d-0912-4779-f10f-388039d67e0f"
      },
      "execution_count": 112,
      "outputs": [
        {
          "output_type": "execute_result",
          "data": {
            "text/plain": [
              "(1.4776308484427374, 1.5820638801596878)"
            ]
          },
          "metadata": {},
          "execution_count": 112
        }
      ]
    },
    {
      "cell_type": "code",
      "source": [
        "### acqFunc attribute x, stddev: run number = 14\n",
        "\n",
        "acqFuncApprox_exact_14 = acqFuncApprox(exact_14.history)\n",
        "acqFuncExact_exact_14 = acqFuncExact(exact_14.history)\n",
        "\n",
        "e14 = np.mean(acqFuncExact_exact_14)\n",
        "a14 = np.mean(acqFuncApprox_exact_14)\n",
        "\n",
        "e14, a14\n"
      ],
      "metadata": {
        "colab": {
          "base_uri": "https://localhost:8080/"
        },
        "id": "R0W3MZaVGues",
        "outputId": "1cffabc7-ccd6-470c-87e5-22ba169226f9"
      },
      "execution_count": 113,
      "outputs": [
        {
          "output_type": "execute_result",
          "data": {
            "text/plain": [
              "(1.4807385309784702, 1.4374074280158493)"
            ]
          },
          "metadata": {},
          "execution_count": 113
        }
      ]
    },
    {
      "cell_type": "code",
      "source": [
        "### acqFunc attribute x, stddev: run number = 15\n",
        "\n",
        "acqFuncApprox_exact_15 = acqFuncApprox(exact_15.history)\n",
        "acqFuncExact_exact_15 = acqFuncExact(exact_15.history)\n",
        "\n",
        "e15 = np.mean(acqFuncExact_exact_15)\n",
        "a15 = np.mean(acqFuncApprox_exact_15)\n",
        "\n",
        "e15, a15\n"
      ],
      "metadata": {
        "colab": {
          "base_uri": "https://localhost:8080/"
        },
        "id": "DoXdDFHoGup-",
        "outputId": "a3501f80-e949-4d3f-99f3-facc18bb52d1"
      },
      "execution_count": 114,
      "outputs": [
        {
          "output_type": "execute_result",
          "data": {
            "text/plain": [
              "(1.4900536935428648, 1.5076008114491313)"
            ]
          },
          "metadata": {},
          "execution_count": 114
        }
      ]
    },
    {
      "cell_type": "code",
      "source": [
        "### acqFunc attribute x, stddev: run number = 16\n",
        "\n",
        "acqFuncApprox_exact_16 = acqFuncApprox(exact_16.history)\n",
        "acqFuncExact_exact_16 = acqFuncExact(exact_16.history)\n",
        "\n",
        "e16 = np.mean(acqFuncExact_exact_16)\n",
        "a16 = np.mean(acqFuncApprox_exact_16)\n",
        "\n",
        "e16, a16\n"
      ],
      "metadata": {
        "colab": {
          "base_uri": "https://localhost:8080/"
        },
        "id": "K_wAeqSoGu2j",
        "outputId": "6b2fe8de-3bb3-4f83-dd79-06f5faf9cbc3"
      },
      "execution_count": 115,
      "outputs": [
        {
          "output_type": "execute_result",
          "data": {
            "text/plain": [
              "(1.5020185004871975, 1.5155143575360106)"
            ]
          },
          "metadata": {},
          "execution_count": 115
        }
      ]
    },
    {
      "cell_type": "code",
      "source": [
        "### acqFunc attribute x, stddev: run number = 17\n",
        "\n",
        "acqFuncApprox_exact_17 = acqFuncApprox(exact_17.history)\n",
        "acqFuncExact_exact_17 = acqFuncExact(exact_17.history)\n",
        "\n",
        "e17 = np.mean(acqFuncExact_exact_17)\n",
        "a17 = np.mean(acqFuncApprox_exact_17)\n",
        "\n",
        "e17, a17\n"
      ],
      "metadata": {
        "colab": {
          "base_uri": "https://localhost:8080/"
        },
        "id": "n6zy78fjGvBT",
        "outputId": "6defd08b-ae07-4032-b8a8-1bc7f1051927"
      },
      "execution_count": 116,
      "outputs": [
        {
          "output_type": "execute_result",
          "data": {
            "text/plain": [
              "(1.437114338653251, 1.403332844011079)"
            ]
          },
          "metadata": {},
          "execution_count": 116
        }
      ]
    },
    {
      "cell_type": "code",
      "source": [
        "### acqFunc attribute x, stddev: run number = 18\n",
        "\n",
        "acqFuncApprox_exact_18 = acqFuncApprox(exact_18.history)\n",
        "acqFuncExact_exact_18 = acqFuncExact(exact_18.history)\n",
        "\n",
        "e18 = np.mean(acqFuncExact_exact_18)\n",
        "a18 = np.mean(acqFuncApprox_exact_18)\n",
        "\n",
        "e18, a18\n"
      ],
      "metadata": {
        "colab": {
          "base_uri": "https://localhost:8080/"
        },
        "id": "s_6_2K4iGvM-",
        "outputId": "b6b26521-7e08-41a8-d8eb-225bd745cb05"
      },
      "execution_count": 117,
      "outputs": [
        {
          "output_type": "execute_result",
          "data": {
            "text/plain": [
              "(1.442749128490599, 1.4732867131564393)"
            ]
          },
          "metadata": {},
          "execution_count": 117
        }
      ]
    },
    {
      "cell_type": "code",
      "source": [
        "### acqFunc attribute x, stddev: run number = 19\n",
        "\n",
        "acqFuncApprox_exact_19 = acqFuncApprox(exact_19.history)\n",
        "acqFuncExact_exact_19 = acqFuncExact(exact_19.history)\n",
        "\n",
        "e19 = np.mean(acqFuncExact_exact_19)\n",
        "a19 = np.mean(acqFuncApprox_exact_19)\n",
        "\n",
        "e19, a19\n"
      ],
      "metadata": {
        "colab": {
          "base_uri": "https://localhost:8080/"
        },
        "id": "o8oO8pdBGvYk",
        "outputId": "6c393181-4cac-4f40-8be9-d33fe409b45d"
      },
      "execution_count": 118,
      "outputs": [
        {
          "output_type": "execute_result",
          "data": {
            "text/plain": [
              "(1.428714441040094, 1.45848744752597)"
            ]
          },
          "metadata": {},
          "execution_count": 118
        }
      ]
    },
    {
      "cell_type": "code",
      "source": [
        "### acqFunc attribute x, stddev: run number = 20\n",
        "\n",
        "acqFuncApprox_exact_20 = acqFuncApprox(exact_20.history)\n",
        "acqFuncExact_exact_20 = acqFuncExact(exact_20.history)\n",
        "\n",
        "e20 = np.mean(acqFuncExact_exact_20)\n",
        "a20 = np.mean(acqFuncApprox_exact_20)\n",
        "\n",
        "e20, a20\n"
      ],
      "metadata": {
        "colab": {
          "base_uri": "https://localhost:8080/"
        },
        "id": "b2w8oLc0IMzU",
        "outputId": "02802999-2fb1-4010-c37d-a5a2e005b1d5"
      },
      "execution_count": 119,
      "outputs": [
        {
          "output_type": "execute_result",
          "data": {
            "text/plain": [
              "(1.4510673591225325, 1.4482211294157254)"
            ]
          },
          "metadata": {},
          "execution_count": 119
        }
      ]
    },
    {
      "cell_type": "code",
      "source": [
        "### Summarize arrays: \n",
        "\n",
        "exact_stddev = np.sort([e1,e2,e3,e4,e5,e6,e7,e8,e9,e10,e11,e12,e13,e14,e15,e16,e17,e18,e19,e20])\n",
        "approx_stddev = np.sort([a1,a2,a3,a4,a5,a6,a7,a8,a9,a10,a11,a12,a13,a14,a15,a16,a17,a18,a19,a20])\n",
        "\n",
        "np.mean(exact_stddev), np.mean(approx_stddev)\n"
      ],
      "metadata": {
        "colab": {
          "base_uri": "https://localhost:8080/"
        },
        "id": "qAZs3yxMIZul",
        "outputId": "6fa6eb45-7ca7-4989-e6f6-29ea47fd78f7"
      },
      "execution_count": 120,
      "outputs": [
        {
          "output_type": "execute_result",
          "data": {
            "text/plain": [
              "(1.4632423372045338, 1.4917864724260552)"
            ]
          },
          "metadata": {},
          "execution_count": 120
        }
      ]
    },
    {
      "cell_type": "code",
      "source": [
        "### Visualise!\n",
        "\n",
        "title = func\n",
        "plt.figure()\n",
        "\n",
        "plt.plot(approx_stddev, color = 'Yellow', ls='-', label='Average $\\sigma$, attribute $\\mathbf{x}$: Approx GP EI gradients')\n",
        "plt.plot(exact_stddev, color = 'Red', ls='-.', label='Average $\\sigma$, attribute $\\mathbf{x}$: Exact GP dEI gradients')\n",
        "\n",
        "plt.title(title, weight = 'bold')\n",
        "plt.xlabel('Function evaluations: iteration $\\it{k}$', weight = 'bold')\n",
        "plt.ylabel('GP EI: Average $\\sigma$, attribute $\\mathbf{x}$', weight = 'bold') \n",
        "plt.legend(loc=0) # add plot legend\n",
        "\n",
        "### Make the x-ticks integers, not floats:\n",
        "count = len(xstar)\n",
        "plt.xticks(np.arange(count), np.arange(1, count))\n",
        "plt.show() #visualize!\n"
      ],
      "metadata": {
        "colab": {
          "base_uri": "https://localhost:8080/",
          "height": 297
        },
        "id": "e_kpqYcMIZxu",
        "outputId": "f90a2ac3-3295-4166-a1ad-84a5f03b728e"
      },
      "execution_count": 121,
      "outputs": [
        {
          "output_type": "display_data",
          "data": {
            "text/plain": [
              "<Figure size 432x288 with 1 Axes>"
            ],
            "image/png": "[encoded data removed]"
          },
          "metadata": {
            "needs_background": "light"
          }
        }
      ]
    },
    {
      "cell_type": "code",
      "source": [
        ""
      ],
      "metadata": {
        "id": "LToGd4vZIZ3I"
      },
      "execution_count": 121,
      "outputs": []
    }
  ],
  "metadata": {
    "colab": {
      "collapsed_sections": [],
      "name": "1_SixHumpCamel_GP_dEI.ipynb",
      "provenance": []
    },
    "kernelspec": {
      "display_name": "Python 3",
      "name": "python3"
    },
    "language_info": {
      "name": "python"
    }
  },
  "nbformat": 4,
  "nbformat_minor": 0
}