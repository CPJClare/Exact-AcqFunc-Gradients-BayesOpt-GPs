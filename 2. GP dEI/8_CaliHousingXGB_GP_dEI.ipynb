{
  "nbformat": 4,
  "nbformat_minor": 0,
  "metadata": {
    "colab": {
      "name": "8. CaliHousingXGB_GP_dEI.ipynb",
      "provenance": [],
      "collapsed_sections": []
    },
    "kernelspec": {
      "name": "python3",
      "display_name": "Python 3"
    }
  },
  "cells": [
    {
      "cell_type": "markdown",
      "metadata": {
        "id": "W9wHutsqZUcn"
      },
      "source": [
        "XGBoost Regression - 'real-world' example: Californian Housing Dataset\n",
        "\n",
        "https://scikit-learn.org/stable/datasets/real_world.html#california-housing-dataset"
      ]
    },
    {
      "cell_type": "code",
      "metadata": {
        "id": "X-0Pe1i4Z2R_",
        "colab": {
          "base_uri": "https://localhost:8080/"
        },
        "outputId": "0bfa451c-7184-4d5f-e571-13bddf50f464"
      },
      "source": [
        "!pip install pyGPGO"
      ],
      "execution_count": null,
      "outputs": [
        {
          "output_type": "stream",
          "name": "stdout",
          "text": [
            "Looking in indexes: https://pypi.org/simple, https://us-python.pkg.dev/colab-wheels/public/simple/\n",
            "Requirement already satisfied: pyGPGO in /usr/local/lib/python3.7/dist-packages (0.5.1)\n",
            "Requirement already satisfied: mkl in /usr/local/lib/python3.7/dist-packages (from pyGPGO) (2019.0)\n",
            "Requirement already satisfied: scikit-learn in /usr/local/lib/python3.7/dist-packages (from pyGPGO) (1.0.2)\n",
            "Requirement already satisfied: scipy in /usr/local/lib/python3.7/dist-packages (from pyGPGO) (1.4.1)\n",
            "Requirement already satisfied: numpy in /usr/local/lib/python3.7/dist-packages (from pyGPGO) (1.21.6)\n",
            "Requirement already satisfied: Theano-PyMC in /usr/local/lib/python3.7/dist-packages (from pyGPGO) (1.1.2)\n",
            "Requirement already satisfied: joblib in /usr/local/lib/python3.7/dist-packages (from pyGPGO) (1.1.0)\n",
            "Requirement already satisfied: pyMC3 in /usr/local/lib/python3.7/dist-packages (from pyGPGO) (3.11.4)\n",
            "Requirement already satisfied: intel-openmp in /usr/local/lib/python3.7/dist-packages (from mkl->pyGPGO) (2022.1.0)\n",
            "Requirement already satisfied: pandas>=0.24.0 in /usr/local/lib/python3.7/dist-packages (from pyMC3->pyGPGO) (1.3.5)\n",
            "Requirement already satisfied: semver>=2.13.0 in /usr/local/lib/python3.7/dist-packages (from pyMC3->pyGPGO) (2.13.0)\n",
            "Requirement already satisfied: arviz>=0.11.0 in /usr/local/lib/python3.7/dist-packages (from pyMC3->pyGPGO) (0.12.1)\n",
            "Requirement already satisfied: typing-extensions>=3.7.4 in /usr/local/lib/python3.7/dist-packages (from pyMC3->pyGPGO) (4.2.0)\n",
            "Requirement already satisfied: fastprogress>=0.2.0 in /usr/local/lib/python3.7/dist-packages (from pyMC3->pyGPGO) (1.0.2)\n",
            "Requirement already satisfied: dill in /usr/local/lib/python3.7/dist-packages (from pyMC3->pyGPGO) (0.3.5.1)\n",
            "Requirement already satisfied: cachetools>=4.2.1 in /usr/local/lib/python3.7/dist-packages (from pyMC3->pyGPGO) (4.2.4)\n",
            "Requirement already satisfied: patsy>=0.5.1 in /usr/local/lib/python3.7/dist-packages (from pyMC3->pyGPGO) (0.5.2)\n",
            "Requirement already satisfied: filelock in /usr/local/lib/python3.7/dist-packages (from Theano-PyMC->pyGPGO) (3.7.0)\n",
            "Requirement already satisfied: xarray-einstats>=0.2 in /usr/local/lib/python3.7/dist-packages (from arviz>=0.11.0->pyMC3->pyGPGO) (0.2.2)\n",
            "Requirement already satisfied: setuptools>=38.4 in /usr/local/lib/python3.7/dist-packages (from arviz>=0.11.0->pyMC3->pyGPGO) (57.4.0)\n",
            "Requirement already satisfied: xarray>=0.16.1 in /usr/local/lib/python3.7/dist-packages (from arviz>=0.11.0->pyMC3->pyGPGO) (0.20.2)\n",
            "Requirement already satisfied: packaging in /usr/local/lib/python3.7/dist-packages (from arviz>=0.11.0->pyMC3->pyGPGO) (21.3)\n",
            "Requirement already satisfied: matplotlib>=3.0 in /usr/local/lib/python3.7/dist-packages (from arviz>=0.11.0->pyMC3->pyGPGO) (3.2.2)\n",
            "Requirement already satisfied: netcdf4 in /usr/local/lib/python3.7/dist-packages (from arviz>=0.11.0->pyMC3->pyGPGO) (1.5.8)\n",
            "Requirement already satisfied: cycler>=0.10 in /usr/local/lib/python3.7/dist-packages (from matplotlib>=3.0->arviz>=0.11.0->pyMC3->pyGPGO) (0.11.0)\n",
            "Requirement already satisfied: python-dateutil>=2.1 in /usr/local/lib/python3.7/dist-packages (from matplotlib>=3.0->arviz>=0.11.0->pyMC3->pyGPGO) (2.8.2)\n",
            "Requirement already satisfied: pyparsing!=2.0.4,!=2.1.2,!=2.1.6,>=2.0.1 in /usr/local/lib/python3.7/dist-packages (from matplotlib>=3.0->arviz>=0.11.0->pyMC3->pyGPGO) (3.0.9)\n",
            "Requirement already satisfied: kiwisolver>=1.0.1 in /usr/local/lib/python3.7/dist-packages (from matplotlib>=3.0->arviz>=0.11.0->pyMC3->pyGPGO) (1.4.2)\n",
            "Requirement already satisfied: pytz>=2017.3 in /usr/local/lib/python3.7/dist-packages (from pandas>=0.24.0->pyMC3->pyGPGO) (2022.1)\n",
            "Requirement already satisfied: six in /usr/local/lib/python3.7/dist-packages (from patsy>=0.5.1->pyMC3->pyGPGO) (1.15.0)\n",
            "Requirement already satisfied: importlib-metadata in /usr/local/lib/python3.7/dist-packages (from xarray>=0.16.1->arviz>=0.11.0->pyMC3->pyGPGO) (4.11.3)\n",
            "Requirement already satisfied: zipp>=0.5 in /usr/local/lib/python3.7/dist-packages (from importlib-metadata->xarray>=0.16.1->arviz>=0.11.0->pyMC3->pyGPGO) (3.8.0)\n",
            "Requirement already satisfied: cftime in /usr/local/lib/python3.7/dist-packages (from netcdf4->arviz>=0.11.0->pyMC3->pyGPGO) (1.6.0)\n",
            "Requirement already satisfied: threadpoolctl>=2.0.0 in /usr/local/lib/python3.7/dist-packages (from scikit-learn->pyGPGO) (3.1.0)\n"
          ]
        }
      ]
    },
    {
      "cell_type": "code",
      "metadata": {
        "id": "W7zDTf1naBsH"
      },
      "source": [
        "# Load some default Python modules:\n",
        "\n",
        "import numpy as np\n",
        "import scipy as sp\n",
        "import pandas as pd\n",
        "import matplotlib.pyplot as plt\n",
        "import xgboost as xgb\n",
        "import time\n",
        "\n",
        "from matplotlib.pyplot import rc\n",
        "rc('font',**{'family':'sans-serif','sans-serif':['Helvetica']})\n",
        "rc('text', usetex=False)\n",
        "import seaborn as sns\n",
        "plt.style.use('seaborn-whitegrid')\n",
        "\n",
        "from collections import OrderedDict\n",
        "from joblib import Parallel, delayed\n",
        "from numpy.linalg import slogdet, inv, cholesky, solve\n",
        "from scipy.optimize import minimize\n",
        "from scipy.spatial.distance import cdist\n",
        "from scipy.special import gamma\n",
        "from scipy.stats import norm\n",
        "from joblib import Parallel, delayed\n",
        "import itertools\n",
        "\n",
        "from pyGPGO.logger import EventLogger\n",
        "from pyGPGO.GPGO import GPGO\n",
        "from pyGPGO.surrogates.GaussianProcess import GaussianProcess\n",
        "from pyGPGO.acquisition import Acquisition\n",
        "from pyGPGO.covfunc import squaredExponential\n",
        "from sklearn.model_selection import cross_val_score, train_test_split\n",
        "from sklearn.metrics import mean_squared_error\n",
        "from xgboost import XGBRegressor\n",
        "from pandas_datareader import data\n",
        "\n",
        "import warnings\n",
        "import random\n",
        "warnings.filterwarnings(\"ignore\", category=FutureWarning)\n",
        "warnings.filterwarnings(\"ignore\", category=RuntimeWarning)\n",
        "warnings.filterwarnings(\"ignore\", category=UserWarning)"
      ],
      "execution_count": null,
      "outputs": []
    },
    {
      "cell_type": "code",
      "metadata": {
        "id": "VXicekJhaE0P"
      },
      "source": [
        "# Read data in pandas dataframe:\n",
        "df_train =  pd.read_csv('/content/sample_data/california_housing_train.csv')\n"
      ],
      "execution_count": null,
      "outputs": []
    },
    {
      "cell_type": "code",
      "metadata": {
        "id": "YQ0mDzt_cBmw",
        "colab": {
          "base_uri": "https://localhost:8080/",
          "height": 206
        },
        "outputId": "507d8881-0bda-4426-9440-8206f578d22c"
      },
      "source": [
        "# List first rows:\n",
        "\n",
        "df_train.head()"
      ],
      "execution_count": null,
      "outputs": [
        {
          "output_type": "execute_result",
          "data": {
            "text/plain": [
              "   longitude  latitude  housing_median_age  total_rooms  total_bedrooms  \\\n",
              "0    -114.31     34.19                15.0       5612.0          1283.0   \n",
              "1    -114.47     34.40                19.0       7650.0          1901.0   \n",
              "2    -114.56     33.69                17.0        720.0           174.0   \n",
              "3    -114.57     33.64                14.0       1501.0           337.0   \n",
              "4    -114.57     33.57                20.0       1454.0           326.0   \n",
              "\n",
              "   population  households  median_income  median_house_value  \n",
              "0      1015.0       472.0         1.4936             66900.0  \n",
              "1      1129.0       463.0         1.8200             80100.0  \n",
              "2       333.0       117.0         1.6509             85700.0  \n",
              "3       515.0       226.0         3.1917             73400.0  \n",
              "4       624.0       262.0         1.9250             65500.0  "
            ],
            "text/html": [
              "\n",
              "  <div id=\"df-d8fb36f5-5f77-4f3d-9e6f-067f8bd2b30a\">\n",
              "    <div class=\"colab-df-container\">\n",
              "      <div>\n",
              "<style scoped>\n",
              "    .dataframe tbody tr th:only-of-type {\n",
              "        vertical-align: middle;\n",
              "    }\n",
              "\n",
              "    .dataframe tbody tr th {\n",
              "        vertical-align: top;\n",
              "    }\n",
              "\n",
              "    .dataframe thead th {\n",
              "        text-align: right;\n",
              "    }\n",
              "</style>\n",
              "<table border=\"1\" class=\"dataframe\">\n",
              "  <thead>\n",
              "    <tr style=\"text-align: right;\">\n",
              "      <th></th>\n",
              "      <th>longitude</th>\n",
              "      <th>latitude</th>\n",
              "      <th>housing_median_age</th>\n",
              "      <th>total_rooms</th>\n",
              "      <th>total_bedrooms</th>\n",
              "      <th>population</th>\n",
              "      <th>households</th>\n",
              "      <th>median_income</th>\n",
              "      <th>median_house_value</th>\n",
              "    </tr>\n",
              "  </thead>\n",
              "  <tbody>\n",
              "    <tr>\n",
              "      <th>0</th>\n",
              "      <td>-114.31</td>\n",
              "      <td>34.19</td>\n",
              "      <td>15.0</td>\n",
              "      <td>5612.0</td>\n",
              "      <td>1283.0</td>\n",
              "      <td>1015.0</td>\n",
              "      <td>472.0</td>\n",
              "      <td>1.4936</td>\n",
              "      <td>66900.0</td>\n",
              "    </tr>\n",
              "    <tr>\n",
              "      <th>1</th>\n",
              "      <td>-114.47</td>\n",
              "      <td>34.40</td>\n",
              "      <td>19.0</td>\n",
              "      <td>7650.0</td>\n",
              "      <td>1901.0</td>\n",
              "      <td>1129.0</td>\n",
              "      <td>463.0</td>\n",
              "      <td>1.8200</td>\n",
              "      <td>80100.0</td>\n",
              "    </tr>\n",
              "    <tr>\n",
              "      <th>2</th>\n",
              "      <td>-114.56</td>\n",
              "      <td>33.69</td>\n",
              "      <td>17.0</td>\n",
              "      <td>720.0</td>\n",
              "      <td>174.0</td>\n",
              "      <td>333.0</td>\n",
              "      <td>117.0</td>\n",
              "      <td>1.6509</td>\n",
              "      <td>85700.0</td>\n",
              "    </tr>\n",
              "    <tr>\n",
              "      <th>3</th>\n",
              "      <td>-114.57</td>\n",
              "      <td>33.64</td>\n",
              "      <td>14.0</td>\n",
              "      <td>1501.0</td>\n",
              "      <td>337.0</td>\n",
              "      <td>515.0</td>\n",
              "      <td>226.0</td>\n",
              "      <td>3.1917</td>\n",
              "      <td>73400.0</td>\n",
              "    </tr>\n",
              "    <tr>\n",
              "      <th>4</th>\n",
              "      <td>-114.57</td>\n",
              "      <td>33.57</td>\n",
              "      <td>20.0</td>\n",
              "      <td>1454.0</td>\n",
              "      <td>326.0</td>\n",
              "      <td>624.0</td>\n",
              "      <td>262.0</td>\n",
              "      <td>1.9250</td>\n",
              "      <td>65500.0</td>\n",
              "    </tr>\n",
              "  </tbody>\n",
              "</table>\n",
              "</div>\n",
              "      <button class=\"colab-df-convert\" onclick=\"convertToInteractive('df-d8fb36f5-5f77-4f3d-9e6f-067f8bd2b30a')\"\n",
              "              title=\"Convert this dataframe to an interactive table.\"\n",
              "              style=\"display:none;\">\n",
              "        \n",
              "  <svg xmlns=\"http://www.w3.org/2000/svg\" height=\"24px\"viewBox=\"0 0 24 24\"\n",
              "       width=\"24px\">\n",
              "    <path d=\"M0 0h24v24H0V0z\" fill=\"none\"/>\n",
              "    <path d=\"M18.56 5.44l.94 2.06.94-2.06 2.06-.94-2.06-.94-.94-2.06-.94 2.06-2.06.94zm-11 1L8.5 8.5l.94-2.06 2.06-.94-2.06-.94L8.5 2.5l-.94 2.06-2.06.94zm10 10l.94 2.06.94-2.06 2.06-.94-2.06-.94-.94-2.06-.94 2.06-2.06.94z\"/><path d=\"M17.41 7.96l-1.37-1.37c-.4-.4-.92-.59-1.43-.59-.52 0-1.04.2-1.43.59L10.3 9.45l-7.72 7.72c-.78.78-.78 2.05 0 2.83L4 21.41c.39.39.9.59 1.41.59.51 0 1.02-.2 1.41-.59l7.78-7.78 2.81-2.81c.8-.78.8-2.07 0-2.86zM5.41 20L4 18.59l7.72-7.72 1.47 1.35L5.41 20z\"/>\n",
              "  </svg>\n",
              "      </button>\n",
              "      \n",
              "  <style>\n",
              "    .colab-df-container {\n",
              "      display:flex;\n",
              "      flex-wrap:wrap;\n",
              "      gap: 12px;\n",
              "    }\n",
              "\n",
              "    .colab-df-convert {\n",
              "      background-color: #E8F0FE;\n",
              "      border: none;\n",
              "      border-radius: 50%;\n",
              "      cursor: pointer;\n",
              "      display: none;\n",
              "      fill: #1967D2;\n",
              "      height: 32px;\n",
              "      padding: 0 0 0 0;\n",
              "      width: 32px;\n",
              "    }\n",
              "\n",
              "    .colab-df-convert:hover {\n",
              "      background-color: #E2EBFA;\n",
              "      box-shadow: 0px 1px 2px rgba(60, 64, 67, 0.3), 0px 1px 3px 1px rgba(60, 64, 67, 0.15);\n",
              "      fill: #174EA6;\n",
              "    }\n",
              "\n",
              "    [theme=dark] .colab-df-convert {\n",
              "      background-color: #3B4455;\n",
              "      fill: #D2E3FC;\n",
              "    }\n",
              "\n",
              "    [theme=dark] .colab-df-convert:hover {\n",
              "      background-color: #434B5C;\n",
              "      box-shadow: 0px 1px 3px 1px rgba(0, 0, 0, 0.15);\n",
              "      filter: drop-shadow(0px 1px 2px rgba(0, 0, 0, 0.3));\n",
              "      fill: #FFFFFF;\n",
              "    }\n",
              "  </style>\n",
              "\n",
              "      <script>\n",
              "        const buttonEl =\n",
              "          document.querySelector('#df-d8fb36f5-5f77-4f3d-9e6f-067f8bd2b30a button.colab-df-convert');\n",
              "        buttonEl.style.display =\n",
              "          google.colab.kernel.accessAllowed ? 'block' : 'none';\n",
              "\n",
              "        async function convertToInteractive(key) {\n",
              "          const element = document.querySelector('#df-d8fb36f5-5f77-4f3d-9e6f-067f8bd2b30a');\n",
              "          const dataTable =\n",
              "            await google.colab.kernel.invokeFunction('convertToInteractive',\n",
              "                                                     [key], {});\n",
              "          if (!dataTable) return;\n",
              "\n",
              "          const docLinkHtml = 'Like what you see? Visit the ' +\n",
              "            '<a target=\"_blank\" href=https://colab.research.google.com/notebooks/data_table.ipynb>data table notebook</a>'\n",
              "            + ' to learn more about interactive tables.';\n",
              "          element.innerHTML = '';\n",
              "          dataTable['output_type'] = 'display_data';\n",
              "          await google.colab.output.renderOutput(dataTable, element);\n",
              "          const docLink = document.createElement('div');\n",
              "          docLink.innerHTML = docLinkHtml;\n",
              "          element.appendChild(docLink);\n",
              "        }\n",
              "      </script>\n",
              "    </div>\n",
              "  </div>\n",
              "  "
            ]
          },
          "metadata": {},
          "execution_count": 4
        }
      ]
    },
    {
      "cell_type": "code",
      "metadata": {
        "id": "KTVDAD2KchTv",
        "colab": {
          "base_uri": "https://localhost:8080/"
        },
        "outputId": "0aa63586-2ffe-4175-c7d3-d40ea6e940e3"
      },
      "source": [
        "# Remove missing data:\n",
        "\n",
        "df_train = df_train.dropna(how = 'any', axis = 'rows')\n",
        "print('New size: %d' % len(df_train))"
      ],
      "execution_count": null,
      "outputs": [
        {
          "output_type": "stream",
          "name": "stdout",
          "text": [
            "New size: 17000\n"
          ]
        }
      ]
    },
    {
      "cell_type": "code",
      "metadata": {
        "id": "OXgSHPyYcnuv",
        "colab": {
          "base_uri": "https://localhost:8080/",
          "height": 381
        },
        "outputId": "e452787d-c07d-4829-a7c9-77c69e604a05"
      },
      "source": [
        "# Histogram fare plot:\n",
        "\n",
        "df_train.median_house_value.hist(bins=100, figsize=(16,5), color = \"red\")\n",
        "plt.xlabel('$ US Dollars', weight = 'bold', family = 'Arial')\n",
        "plt.title('Median Californian House Price', weight = 'bold', family = 'Arial')\n",
        "plt.grid(b=None)"
      ],
      "execution_count": null,
      "outputs": [
        {
          "output_type": "stream",
          "name": "stderr",
          "text": [
            "findfont: Font family ['Arial'] not found. Falling back to DejaVu Sans.\n",
            "findfont: Font family ['Arial'] not found. Falling back to DejaVu Sans.\n"
          ]
        },
        {
          "output_type": "display_data",
          "data": {
            "text/plain": [
              "<Figure size 1152x360 with 1 Axes>"
            ],
            "image/png": "[encoded data removed]"
          },
          "metadata": {}
        }
      ]
    },
    {
      "cell_type": "code",
      "metadata": {
        "id": "9TMSdAAjcr4o",
        "colab": {
          "base_uri": "https://localhost:8080/"
        },
        "outputId": "bcb2c86f-3c60-45c7-d581-7b9847d692ef"
      },
      "source": [
        "y = df_train.median_house_value.values + 1e-10\n",
        "y ### for supervised learning: output vector y"
      ],
      "execution_count": null,
      "outputs": [
        {
          "output_type": "execute_result",
          "data": {
            "text/plain": [
              "array([ 66900.,  80100.,  85700., ..., 103600.,  85800.,  94600.])"
            ]
          },
          "metadata": {},
          "execution_count": 7
        }
      ]
    },
    {
      "cell_type": "code",
      "metadata": {
        "id": "6FOeHvi3cu1n",
        "colab": {
          "base_uri": "https://localhost:8080/",
          "height": 206
        },
        "outputId": "e998edb2-5628-4278-cd3b-a6d132a9e72e"
      },
      "source": [
        "# List first rows (post-cleaning):\n",
        "\n",
        "df_train.head()"
      ],
      "execution_count": null,
      "outputs": [
        {
          "output_type": "execute_result",
          "data": {
            "text/plain": [
              "   longitude  latitude  housing_median_age  total_rooms  total_bedrooms  \\\n",
              "0    -114.31     34.19                15.0       5612.0          1283.0   \n",
              "1    -114.47     34.40                19.0       7650.0          1901.0   \n",
              "2    -114.56     33.69                17.0        720.0           174.0   \n",
              "3    -114.57     33.64                14.0       1501.0           337.0   \n",
              "4    -114.57     33.57                20.0       1454.0           326.0   \n",
              "\n",
              "   population  households  median_income  median_house_value  \n",
              "0      1015.0       472.0         1.4936             66900.0  \n",
              "1      1129.0       463.0         1.8200             80100.0  \n",
              "2       333.0       117.0         1.6509             85700.0  \n",
              "3       515.0       226.0         3.1917             73400.0  \n",
              "4       624.0       262.0         1.9250             65500.0  "
            ],
            "text/html": [
              "\n",
              "  <div id=\"df-7f029225-2aff-4e2c-8e67-dd60f06c4e59\">\n",
              "    <div class=\"colab-df-container\">\n",
              "      <div>\n",
              "<style scoped>\n",
              "    .dataframe tbody tr th:only-of-type {\n",
              "        vertical-align: middle;\n",
              "    }\n",
              "\n",
              "    .dataframe tbody tr th {\n",
              "        vertical-align: top;\n",
              "    }\n",
              "\n",
              "    .dataframe thead th {\n",
              "        text-align: right;\n",
              "    }\n",
              "</style>\n",
              "<table border=\"1\" class=\"dataframe\">\n",
              "  <thead>\n",
              "    <tr style=\"text-align: right;\">\n",
              "      <th></th>\n",
              "      <th>longitude</th>\n",
              "      <th>latitude</th>\n",
              "      <th>housing_median_age</th>\n",
              "      <th>total_rooms</th>\n",
              "      <th>total_bedrooms</th>\n",
              "      <th>population</th>\n",
              "      <th>households</th>\n",
              "      <th>median_income</th>\n",
              "      <th>median_house_value</th>\n",
              "    </tr>\n",
              "  </thead>\n",
              "  <tbody>\n",
              "    <tr>\n",
              "      <th>0</th>\n",
              "      <td>-114.31</td>\n",
              "      <td>34.19</td>\n",
              "      <td>15.0</td>\n",
              "      <td>5612.0</td>\n",
              "      <td>1283.0</td>\n",
              "      <td>1015.0</td>\n",
              "      <td>472.0</td>\n",
              "      <td>1.4936</td>\n",
              "      <td>66900.0</td>\n",
              "    </tr>\n",
              "    <tr>\n",
              "      <th>1</th>\n",
              "      <td>-114.47</td>\n",
              "      <td>34.40</td>\n",
              "      <td>19.0</td>\n",
              "      <td>7650.0</td>\n",
              "      <td>1901.0</td>\n",
              "      <td>1129.0</td>\n",
              "      <td>463.0</td>\n",
              "      <td>1.8200</td>\n",
              "      <td>80100.0</td>\n",
              "    </tr>\n",
              "    <tr>\n",
              "      <th>2</th>\n",
              "      <td>-114.56</td>\n",
              "      <td>33.69</td>\n",
              "      <td>17.0</td>\n",
              "      <td>720.0</td>\n",
              "      <td>174.0</td>\n",
              "      <td>333.0</td>\n",
              "      <td>117.0</td>\n",
              "      <td>1.6509</td>\n",
              "      <td>85700.0</td>\n",
              "    </tr>\n",
              "    <tr>\n",
              "      <th>3</th>\n",
              "      <td>-114.57</td>\n",
              "      <td>33.64</td>\n",
              "      <td>14.0</td>\n",
              "      <td>1501.0</td>\n",
              "      <td>337.0</td>\n",
              "      <td>515.0</td>\n",
              "      <td>226.0</td>\n",
              "      <td>3.1917</td>\n",
              "      <td>73400.0</td>\n",
              "    </tr>\n",
              "    <tr>\n",
              "      <th>4</th>\n",
              "      <td>-114.57</td>\n",
              "      <td>33.57</td>\n",
              "      <td>20.0</td>\n",
              "      <td>1454.0</td>\n",
              "      <td>326.0</td>\n",
              "      <td>624.0</td>\n",
              "      <td>262.0</td>\n",
              "      <td>1.9250</td>\n",
              "      <td>65500.0</td>\n",
              "    </tr>\n",
              "  </tbody>\n",
              "</table>\n",
              "</div>\n",
              "      <button class=\"colab-df-convert\" onclick=\"convertToInteractive('df-7f029225-2aff-4e2c-8e67-dd60f06c4e59')\"\n",
              "              title=\"Convert this dataframe to an interactive table.\"\n",
              "              style=\"display:none;\">\n",
              "        \n",
              "  <svg xmlns=\"http://www.w3.org/2000/svg\" height=\"24px\"viewBox=\"0 0 24 24\"\n",
              "       width=\"24px\">\n",
              "    <path d=\"M0 0h24v24H0V0z\" fill=\"none\"/>\n",
              "    <path d=\"M18.56 5.44l.94 2.06.94-2.06 2.06-.94-2.06-.94-.94-2.06-.94 2.06-2.06.94zm-11 1L8.5 8.5l.94-2.06 2.06-.94-2.06-.94L8.5 2.5l-.94 2.06-2.06.94zm10 10l.94 2.06.94-2.06 2.06-.94-2.06-.94-.94-2.06-.94 2.06-2.06.94z\"/><path d=\"M17.41 7.96l-1.37-1.37c-.4-.4-.92-.59-1.43-.59-.52 0-1.04.2-1.43.59L10.3 9.45l-7.72 7.72c-.78.78-.78 2.05 0 2.83L4 21.41c.39.39.9.59 1.41.59.51 0 1.02-.2 1.41-.59l7.78-7.78 2.81-2.81c.8-.78.8-2.07 0-2.86zM5.41 20L4 18.59l7.72-7.72 1.47 1.35L5.41 20z\"/>\n",
              "  </svg>\n",
              "      </button>\n",
              "      \n",
              "  <style>\n",
              "    .colab-df-container {\n",
              "      display:flex;\n",
              "      flex-wrap:wrap;\n",
              "      gap: 12px;\n",
              "    }\n",
              "\n",
              "    .colab-df-convert {\n",
              "      background-color: #E8F0FE;\n",
              "      border: none;\n",
              "      border-radius: 50%;\n",
              "      cursor: pointer;\n",
              "      display: none;\n",
              "      fill: #1967D2;\n",
              "      height: 32px;\n",
              "      padding: 0 0 0 0;\n",
              "      width: 32px;\n",
              "    }\n",
              "\n",
              "    .colab-df-convert:hover {\n",
              "      background-color: #E2EBFA;\n",
              "      box-shadow: 0px 1px 2px rgba(60, 64, 67, 0.3), 0px 1px 3px 1px rgba(60, 64, 67, 0.15);\n",
              "      fill: #174EA6;\n",
              "    }\n",
              "\n",
              "    [theme=dark] .colab-df-convert {\n",
              "      background-color: #3B4455;\n",
              "      fill: #D2E3FC;\n",
              "    }\n",
              "\n",
              "    [theme=dark] .colab-df-convert:hover {\n",
              "      background-color: #434B5C;\n",
              "      box-shadow: 0px 1px 3px 1px rgba(0, 0, 0, 0.15);\n",
              "      filter: drop-shadow(0px 1px 2px rgba(0, 0, 0, 0.3));\n",
              "      fill: #FFFFFF;\n",
              "    }\n",
              "  </style>\n",
              "\n",
              "      <script>\n",
              "        const buttonEl =\n",
              "          document.querySelector('#df-7f029225-2aff-4e2c-8e67-dd60f06c4e59 button.colab-df-convert');\n",
              "        buttonEl.style.display =\n",
              "          google.colab.kernel.accessAllowed ? 'block' : 'none';\n",
              "\n",
              "        async function convertToInteractive(key) {\n",
              "          const element = document.querySelector('#df-7f029225-2aff-4e2c-8e67-dd60f06c4e59');\n",
              "          const dataTable =\n",
              "            await google.colab.kernel.invokeFunction('convertToInteractive',\n",
              "                                                     [key], {});\n",
              "          if (!dataTable) return;\n",
              "\n",
              "          const docLinkHtml = 'Like what you see? Visit the ' +\n",
              "            '<a target=\"_blank\" href=https://colab.research.google.com/notebooks/data_table.ipynb>data table notebook</a>'\n",
              "            + ' to learn more about interactive tables.';\n",
              "          element.innerHTML = '';\n",
              "          dataTable['output_type'] = 'display_data';\n",
              "          await google.colab.output.renderOutput(dataTable, element);\n",
              "          const docLink = document.createElement('div');\n",
              "          docLink.innerHTML = docLinkHtml;\n",
              "          element.appendChild(docLink);\n",
              "        }\n",
              "      </script>\n",
              "    </div>\n",
              "  </div>\n",
              "  "
            ]
          },
          "metadata": {},
          "execution_count": 8
        }
      ]
    },
    {
      "cell_type": "code",
      "metadata": {
        "id": "n-lT9BBicw4P",
        "colab": {
          "base_uri": "https://localhost:8080/",
          "height": 206
        },
        "outputId": "0c69aee3-daa1-4cee-eb0e-3c1981c16b75"
      },
      "source": [
        "X = df_train.drop(['median_house_value'], axis = 1)\n",
        "X.head() ### for supervised learning: input matrix X"
      ],
      "execution_count": null,
      "outputs": [
        {
          "output_type": "execute_result",
          "data": {
            "text/plain": [
              "   longitude  latitude  housing_median_age  total_rooms  total_bedrooms  \\\n",
              "0    -114.31     34.19                15.0       5612.0          1283.0   \n",
              "1    -114.47     34.40                19.0       7650.0          1901.0   \n",
              "2    -114.56     33.69                17.0        720.0           174.0   \n",
              "3    -114.57     33.64                14.0       1501.0           337.0   \n",
              "4    -114.57     33.57                20.0       1454.0           326.0   \n",
              "\n",
              "   population  households  median_income  \n",
              "0      1015.0       472.0         1.4936  \n",
              "1      1129.0       463.0         1.8200  \n",
              "2       333.0       117.0         1.6509  \n",
              "3       515.0       226.0         3.1917  \n",
              "4       624.0       262.0         1.9250  "
            ],
            "text/html": [
              "\n",
              "  <div id=\"df-66180723-6c4a-4f40-9534-0220cf2c45ad\">\n",
              "    <div class=\"colab-df-container\">\n",
              "      <div>\n",
              "<style scoped>\n",
              "    .dataframe tbody tr th:only-of-type {\n",
              "        vertical-align: middle;\n",
              "    }\n",
              "\n",
              "    .dataframe tbody tr th {\n",
              "        vertical-align: top;\n",
              "    }\n",
              "\n",
              "    .dataframe thead th {\n",
              "        text-align: right;\n",
              "    }\n",
              "</style>\n",
              "<table border=\"1\" class=\"dataframe\">\n",
              "  <thead>\n",
              "    <tr style=\"text-align: right;\">\n",
              "      <th></th>\n",
              "      <th>longitude</th>\n",
              "      <th>latitude</th>\n",
              "      <th>housing_median_age</th>\n",
              "      <th>total_rooms</th>\n",
              "      <th>total_bedrooms</th>\n",
              "      <th>population</th>\n",
              "      <th>households</th>\n",
              "      <th>median_income</th>\n",
              "    </tr>\n",
              "  </thead>\n",
              "  <tbody>\n",
              "    <tr>\n",
              "      <th>0</th>\n",
              "      <td>-114.31</td>\n",
              "      <td>34.19</td>\n",
              "      <td>15.0</td>\n",
              "      <td>5612.0</td>\n",
              "      <td>1283.0</td>\n",
              "      <td>1015.0</td>\n",
              "      <td>472.0</td>\n",
              "      <td>1.4936</td>\n",
              "    </tr>\n",
              "    <tr>\n",
              "      <th>1</th>\n",
              "      <td>-114.47</td>\n",
              "      <td>34.40</td>\n",
              "      <td>19.0</td>\n",
              "      <td>7650.0</td>\n",
              "      <td>1901.0</td>\n",
              "      <td>1129.0</td>\n",
              "      <td>463.0</td>\n",
              "      <td>1.8200</td>\n",
              "    </tr>\n",
              "    <tr>\n",
              "      <th>2</th>\n",
              "      <td>-114.56</td>\n",
              "      <td>33.69</td>\n",
              "      <td>17.0</td>\n",
              "      <td>720.0</td>\n",
              "      <td>174.0</td>\n",
              "      <td>333.0</td>\n",
              "      <td>117.0</td>\n",
              "      <td>1.6509</td>\n",
              "    </tr>\n",
              "    <tr>\n",
              "      <th>3</th>\n",
              "      <td>-114.57</td>\n",
              "      <td>33.64</td>\n",
              "      <td>14.0</td>\n",
              "      <td>1501.0</td>\n",
              "      <td>337.0</td>\n",
              "      <td>515.0</td>\n",
              "      <td>226.0</td>\n",
              "      <td>3.1917</td>\n",
              "    </tr>\n",
              "    <tr>\n",
              "      <th>4</th>\n",
              "      <td>-114.57</td>\n",
              "      <td>33.57</td>\n",
              "      <td>20.0</td>\n",
              "      <td>1454.0</td>\n",
              "      <td>326.0</td>\n",
              "      <td>624.0</td>\n",
              "      <td>262.0</td>\n",
              "      <td>1.9250</td>\n",
              "    </tr>\n",
              "  </tbody>\n",
              "</table>\n",
              "</div>\n",
              "      <button class=\"colab-df-convert\" onclick=\"convertToInteractive('df-66180723-6c4a-4f40-9534-0220cf2c45ad')\"\n",
              "              title=\"Convert this dataframe to an interactive table.\"\n",
              "              style=\"display:none;\">\n",
              "        \n",
              "  <svg xmlns=\"http://www.w3.org/2000/svg\" height=\"24px\"viewBox=\"0 0 24 24\"\n",
              "       width=\"24px\">\n",
              "    <path d=\"M0 0h24v24H0V0z\" fill=\"none\"/>\n",
              "    <path d=\"M18.56 5.44l.94 2.06.94-2.06 2.06-.94-2.06-.94-.94-2.06-.94 2.06-2.06.94zm-11 1L8.5 8.5l.94-2.06 2.06-.94-2.06-.94L8.5 2.5l-.94 2.06-2.06.94zm10 10l.94 2.06.94-2.06 2.06-.94-2.06-.94-.94-2.06-.94 2.06-2.06.94z\"/><path d=\"M17.41 7.96l-1.37-1.37c-.4-.4-.92-.59-1.43-.59-.52 0-1.04.2-1.43.59L10.3 9.45l-7.72 7.72c-.78.78-.78 2.05 0 2.83L4 21.41c.39.39.9.59 1.41.59.51 0 1.02-.2 1.41-.59l7.78-7.78 2.81-2.81c.8-.78.8-2.07 0-2.86zM5.41 20L4 18.59l7.72-7.72 1.47 1.35L5.41 20z\"/>\n",
              "  </svg>\n",
              "      </button>\n",
              "      \n",
              "  <style>\n",
              "    .colab-df-container {\n",
              "      display:flex;\n",
              "      flex-wrap:wrap;\n",
              "      gap: 12px;\n",
              "    }\n",
              "\n",
              "    .colab-df-convert {\n",
              "      background-color: #E8F0FE;\n",
              "      border: none;\n",
              "      border-radius: 50%;\n",
              "      cursor: pointer;\n",
              "      display: none;\n",
              "      fill: #1967D2;\n",
              "      height: 32px;\n",
              "      padding: 0 0 0 0;\n",
              "      width: 32px;\n",
              "    }\n",
              "\n",
              "    .colab-df-convert:hover {\n",
              "      background-color: #E2EBFA;\n",
              "      box-shadow: 0px 1px 2px rgba(60, 64, 67, 0.3), 0px 1px 3px 1px rgba(60, 64, 67, 0.15);\n",
              "      fill: #174EA6;\n",
              "    }\n",
              "\n",
              "    [theme=dark] .colab-df-convert {\n",
              "      background-color: #3B4455;\n",
              "      fill: #D2E3FC;\n",
              "    }\n",
              "\n",
              "    [theme=dark] .colab-df-convert:hover {\n",
              "      background-color: #434B5C;\n",
              "      box-shadow: 0px 1px 3px 1px rgba(0, 0, 0, 0.15);\n",
              "      filter: drop-shadow(0px 1px 2px rgba(0, 0, 0, 0.3));\n",
              "      fill: #FFFFFF;\n",
              "    }\n",
              "  </style>\n",
              "\n",
              "      <script>\n",
              "        const buttonEl =\n",
              "          document.querySelector('#df-66180723-6c4a-4f40-9534-0220cf2c45ad button.colab-df-convert');\n",
              "        buttonEl.style.display =\n",
              "          google.colab.kernel.accessAllowed ? 'block' : 'none';\n",
              "\n",
              "        async function convertToInteractive(key) {\n",
              "          const element = document.querySelector('#df-66180723-6c4a-4f40-9534-0220cf2c45ad');\n",
              "          const dataTable =\n",
              "            await google.colab.kernel.invokeFunction('convertToInteractive',\n",
              "                                                     [key], {});\n",
              "          if (!dataTable) return;\n",
              "\n",
              "          const docLinkHtml = 'Like what you see? Visit the ' +\n",
              "            '<a target=\"_blank\" href=https://colab.research.google.com/notebooks/data_table.ipynb>data table notebook</a>'\n",
              "            + ' to learn more about interactive tables.';\n",
              "          element.innerHTML = '';\n",
              "          dataTable['output_type'] = 'display_data';\n",
              "          await google.colab.output.renderOutput(dataTable, element);\n",
              "          const docLink = document.createElement('div');\n",
              "          docLink.innerHTML = docLinkHtml;\n",
              "          element.appendChild(docLink);\n",
              "        }\n",
              "      </script>\n",
              "    </div>\n",
              "  </div>\n",
              "  "
            ]
          },
          "metadata": {},
          "execution_count": 9
        }
      ]
    },
    {
      "cell_type": "code",
      "metadata": {
        "id": "2eC8SDPzczNY"
      },
      "source": [
        "### Optimum rmse: regression model objective function is Root Mean Square Error (RMSE); \n",
        "### Should be minimized (as close to zero as possible):\n",
        "\n",
        "y_global_orig = 0"
      ],
      "execution_count": null,
      "outputs": []
    },
    {
      "cell_type": "code",
      "metadata": {
        "id": "GoTmWEhSc1qQ"
      },
      "source": [
        "### Bayesian Optimization - inputs:\n",
        "\n",
        "obj_func = 'XGBoost'\n",
        "n_test = 500 # test points\n",
        "\n",
        "util = 'EI'\n",
        "n_init = 5 # random initialisations\n",
        "opt = True\n",
        "\n",
        "test_perc = 0.90\n",
        "train_perc = 1 - test_perc\n",
        "\n",
        "n_test = int(len(df_train) * test_perc)\n",
        "n_train = int(len(df_train) - n_test)\n",
        "\n",
        "eps = 1e-08"
      ],
      "execution_count": null,
      "outputs": []
    },
    {
      "cell_type": "code",
      "metadata": {
        "id": "W2ngnRxbc7cg"
      },
      "source": [
        "### Objective function:\n",
        "\n",
        "if obj_func == 'XGBoost': # 6-D\n",
        "            \n",
        "    # Constraints:\n",
        "    param_lb_alpha = 0\n",
        "    param_ub_alpha = 10\n",
        "    \n",
        "    param_lb_gamma = 0\n",
        "    param_ub_gamma = 10\n",
        "    \n",
        "    param_lb_max_depth = 5\n",
        "    param_ub_max_depth = 15\n",
        "    \n",
        "    param_lb_min_child_weight = 1\n",
        "    param_ub_min_child_weight = 20\n",
        "    \n",
        "    param_lb_subsample = .5\n",
        "    param_ub_subsample = 1\n",
        "    \n",
        "    param_lb_colsample = .1\n",
        "    param_ub_colsample = 1\n",
        "    \n",
        "    # 6-D inputs' parameter bounds:\n",
        "    param = { 'alpha':  ('cont', (param_lb_alpha, param_ub_alpha)),\n",
        "         'gamma':  ('cont', (param_lb_gamma, param_ub_gamma)),     \n",
        "         'max_depth':  ('int', (param_lb_max_depth, param_ub_max_depth)),\n",
        "         'subsample':  ('cont', (param_lb_subsample, param_ub_subsample)),\n",
        "          'min_child_weight':  ('int', (param_lb_min_child_weight, param_ub_min_child_weight)),\n",
        "            'colsample': ('cont', (param_lb_colsample, param_ub_colsample))\n",
        "        }\n",
        "       \n",
        "    # True y bounds:\n",
        "    dim = 6\n",
        "    \n",
        "    max_iter = 30  # iterations of Bayesian optimization\n",
        "    \n",
        "    operator = 1 \n",
        "    \n",
        "    n_est = 5"
      ],
      "execution_count": null,
      "outputs": []
    },
    {
      "cell_type": "code",
      "metadata": {
        "id": "_3pmZYhVl9Hb"
      },
      "source": [
        "n_start_AcqFunc = max_iter\n"
      ],
      "execution_count": null,
      "outputs": []
    },
    {
      "cell_type": "code",
      "metadata": {
        "id": "PmJsNX29c_xA"
      },
      "source": [
        "### Surrogate derivatives: \n",
        "\n",
        "cov_func = squaredExponential()\n",
        "\n",
        "def kronDelta(X, Xstar):                     # Kronecker's Delta method\n",
        "    return cdist(X, Xstar) < np.finfo(np.float32).eps\n",
        "\n",
        "def se(X, Xstar, sigmaf, l, sigman):         # S.E. kernel method\n",
        "    return sigmaf * np.exp(-0.5 * cdist(X, Xstar) ** 2 / l ** 2) + sigman * kronDelta(X, Xstar)\n",
        "\n",
        "def delta(X, Xstar):                         # Distance between training X and test Xstar vectors\n",
        "    return (X - Xstar)\n",
        "   \n",
        "def der_covmat(X, Xstar, sigmaf, l, sigman): # Covariance matrix derivative terms (i.e. exact, first-order)\n",
        "    nx = len(X)\n",
        "    ny = len(Xstar)\n",
        "    return np.round(np.array([(delta(np.atleast_2d(i), np.atleast_2d(j))[0] * se(np.atleast_2d(i), np.atleast_2d(j), sigmaf, l, sigman)[0]).sum() for (i, j) in itertools.product(X, Xstar)]).reshape(nx, ny), 8)\n",
        "\n",
        "class dGaussianProcess(GaussianProcess):    # Via inheritance, also optimises hyperparameters when opt = TRUE\n",
        "    \n",
        "    def AcqGrad(self, Xstar):               # Method returning exact, first-order derivatives of the GP's posterior mean and standard deviation\n",
        "        Xstar = np.atleast_2d(Xstar)\n",
        "        Kstar = self.covfunc.K(self.X, Xstar).T\n",
        "        \n",
        "        dKstar = der_covmat(self.X, Xstar, self.covfunc.sigmaf, self.covfunc.l, self.covfunc.sigman).T\n",
        "        alpha_Kstar = np.dot(np.linalg.inv(self.K + (self.covfunc.sigman**2) * np.eye(len(self.X))), Kstar.T)\n",
        "        \n",
        "        dm = np.dot(dKstar, self.alpha)\n",
        "        ds = -2 * np.dot(dKstar, alpha_Kstar)\n",
        "        \n",
        "        return dm, ds           \n",
        "        "
      ],
      "execution_count": null,
      "outputs": []
    },
    {
      "cell_type": "code",
      "metadata": {
        "id": "n9ZuEB2VdE0W"
      },
      "source": [
        "### Set-seeds:\n",
        "\n",
        "run_num_1 = 1\n",
        "run_num_2 = 2\n",
        "run_num_3 = 3\n",
        "run_num_4 = 4\n",
        "run_num_5 = 5\n",
        "run_num_6 = 6\n",
        "run_num_7 = 7\n",
        "run_num_8 = 8\n",
        "run_num_9 = 9\n",
        "run_num_10 = 10\n",
        "run_num_11 = 11\n",
        "run_num_12 = 12\n",
        "run_num_13 = 13\n",
        "run_num_14 = 14\n",
        "run_num_15 = 15\n",
        "run_num_16 = 16\n",
        "run_num_17 = 17\n",
        "run_num_18 = 18\n",
        "run_num_19 = 19\n",
        "run_num_20 = 20\n"
      ],
      "execution_count": null,
      "outputs": []
    },
    {
      "cell_type": "code",
      "metadata": {
        "id": "XgHMFEyPdCk4"
      },
      "source": [
        "### Cumulative Regret Calculator:\n",
        "\n",
        "def min_max_array(x):\n",
        "    new_list = []\n",
        "    for i, num in enumerate(x):\n",
        "            new_list.append(np.min(x[0:i+1]))\n",
        "    return new_list\n",
        "    "
      ],
      "execution_count": null,
      "outputs": []
    },
    {
      "cell_type": "code",
      "source": [
        "### Add exact acquisition function gradient as attribute:\n",
        "\n",
        "class Acquisition_grad(Acquisition):    \n",
        "    def __init__(self, mode, eps=eps, **params):\n",
        "        \n",
        "        self.params = params\n",
        "        self.eps = eps\n",
        "\n",
        "        mode_dict = {\n",
        "            'EI': self.EI\n",
        "        }\n",
        "\n",
        "        self.f = mode_dict[mode]\n",
        "    \n",
        "    def EI(self, tau, mean, std, ds, dm):\n",
        "        gamma = (mean - tau - self.eps) / (std + self.eps)\n",
        "        gamma_h = (mean - tau) / (std + self.eps)\n",
        "        dsdx = ds / (2 * (std + self.eps))\n",
        "        dmdx = (dm - gamma * dsdx) / (std + self.eps)\n",
        "        \n",
        "        f = (std + self.eps) * (gamma * norm.cdf(gamma) + norm.pdf(gamma))\n",
        "        df1 = f / (std + self.eps) * dsdx \n",
        "        df2 = (std + self.eps) * norm.cdf(gamma) * dmdx\n",
        "        df = (df1 + df2)[0]\n",
        "        df_arr = []\n",
        "\n",
        "        for j in range(0, dim):\n",
        "          df_arr.append(df)\n",
        "        return f, np.asarray(df_arr).transpose()\n",
        "        \n",
        "    def d_eval(self, tau, mean, std, ds, dm):\n",
        "    \n",
        "        return self.f(tau, mean, std, ds, dm, **self.params)\n",
        "        "
      ],
      "metadata": {
        "id": "ZIh5RYGkwBUZ"
      },
      "execution_count": null,
      "outputs": []
    },
    {
      "cell_type": "code",
      "metadata": {
        "id": "yAK8N5bwfuJ7"
      },
      "source": [
        "## GPGO_multi: \n",
        "\n",
        "class GPGO_multi(GPGO):\n",
        "    n_start = n_start_AcqFunc\n",
        "\n",
        "    def __init__(self, surrogate, acquisition, f, parameter_dict, n_jobs=1):\n",
        "        self.GP = surrogate\n",
        "        self.A = acquisition\n",
        "        self.f = f\n",
        "        self.parameters = parameter_dict\n",
        "        self.n_jobs = n_jobs\n",
        "\n",
        "        self.parameter_key = list(parameter_dict.keys())\n",
        "        self.parameter_value = list(parameter_dict.values())\n",
        "        self.parameter_type = [p[0] for p in self.parameter_value]\n",
        "        self.parameter_range = [p[1] for p in self.parameter_value]\n",
        "\n",
        "        self.history = []\n",
        "        self.header =   'Evaluation \\t Proposed point \\t  Current eval. \\t  Best eval. \\t         Max. ExactAcqFunc \\t Max. ApproxAcqFunc '\n",
        "        self.template = '{:3}\\t {}\\t {:3}\\t {:3}\\t {:3}\\t {:3}'\n",
        " \n",
        "    def acqfuncExact(self, xnew, n_start=n_start_AcqFunc):\n",
        "        new_mean, new_var = self.GP.predict(xnew, return_std=True)\n",
        "        new_std = np.sqrt(new_var + eps)\n",
        "        dm, ds = self.GP.AcqGrad(xnew)\n",
        "        f, df = self.A.d_eval(self.tau, new_mean, new_std, ds=ds, dm=dm)\n",
        "\n",
        "        return -f, -df\n",
        "   \n",
        "    def acqfuncApprox(self, xnew, n_start=n_start_AcqFunc):\n",
        "        new_mean, new_var = self.GP.predict(xnew, return_std=True)\n",
        "        new_std = np.sqrt(new_var + eps)\n",
        "        dm, ds = self.GP.AcqGrad(xnew)\n",
        "        f, df = self.A.d_eval(self.tau, new_mean, new_std, ds=ds, dm=dm)\n",
        "\n",
        "        return -f\n",
        "   \n",
        "    def _optimizeAcq(self, method='L-BFGS-B', n_start=n_start_AcqFunc):\n",
        "        \n",
        "        start_points_dict = [self._sampleParam() for i in range(n_start)]\n",
        "        start_points_arr = np.array([list(s.values())\n",
        "                                     for s in start_points_dict])\n",
        "        x_best = np.empty((n_start, len(self.parameter_key)))\n",
        "        f_best = np.empty((n_start,))\n",
        "        opt = Parallel(n_jobs=self.n_jobs)(delayed(minimize)(self.acqfuncApprox,\n",
        "                                                                 x0=start_point,\n",
        "                                                                 method=method,\n",
        "                                                                 jac = False,\n",
        "                                                                 bounds=self.parameter_range) for start_point in\n",
        "                                               start_points_arr)\n",
        "        x_best = np.array([res.x for res in opt])\n",
        "        f_best = np.array([np.atleast_1d(res.fun)[0] for res in opt])\n",
        "        f_best_min = min(f_best)\n",
        "\n",
        "        self.x_best = x_best\n",
        "        self.f_best = f_best\n",
        "        self.f_best_min = f_best_min\n",
        "        self.best = x_best[np.argmin(f_best)]\n",
        "        self.start_points_arr = start_points_arr        \n",
        "        self.history.append(self.f_best_min)\n",
        "\n",
        "        x_best_exact = np.empty((n_start, len(self.parameter_key)))\n",
        "        f_best_exact = np.empty((n_start,))\n",
        "        opt_exact = Parallel(n_jobs=self.n_jobs)(delayed(minimize)(self.acqfuncExact,\n",
        "                                                                 x0=start_point,\n",
        "                                                                 method=method,\n",
        "                                                                 jac = True,\n",
        "                                                                 bounds=self.parameter_range) for start_point in\n",
        "                                               start_points_arr)\n",
        "        x_best_exact = np.array([res.x for res in opt_exact])\n",
        "        f_best_exact = np.array([np.atleast_1d(res.fun)[0] for res in opt_exact])\n",
        "        f_best_min_exact = min(f_best_exact)\n",
        "\n",
        "        self.x_best_exact = x_best_exact\n",
        "        self.f_best_exact = f_best_exact\n",
        "        self.f_best_min_exact = f_best_min_exact\n",
        "        self.best_exact = x_best_exact[np.argmin(f_best_exact)]\n",
        "        self.start_points_arr = start_points_arr\n",
        "        self.history.append(self.f_best_min_exact)\n",
        "\n",
        "    def _printInit(self):\n",
        "        print(self.header)\n",
        "        inverse = -1\n",
        "        for init_eval in range(self.init_evals):\n",
        "            print(self.template.format('init', self.GP.X[init_eval], inverse * self.GP.y[init_eval], inverse * self.tau, '', ''))\n",
        "      \n",
        "    def _printCurrent(self):\n",
        "        OKGREEN = '\\033[92m'\n",
        "        ENDC = '\\033[0m'\n",
        "        BOLD = '\\033[1m'\n",
        "        inverse = -1\n",
        "        eval = str(len(self.GP.y) - self.init_evals)\n",
        "        proposed = str(self.best)\n",
        "        curr_eval = str(inverse * self.GP.y[-1])\n",
        "        curr_best = str(inverse * self.tau)\n",
        "        max_acqfunc = str(inverse * self.f_best_min)\n",
        "        max_acqfunc_exact = str(inverse * self.f_best_min_exact)\n",
        "        if float(curr_eval) <= float(curr_best):\n",
        "            eval = BOLD + OKGREEN + eval + ENDC\n",
        "            proposed = BOLD + OKGREEN + proposed + ENDC\n",
        "            curr_eval = BOLD + OKGREEN + curr_eval + ENDC\n",
        "            curr_best = BOLD + OKGREEN + curr_best + ENDC\n",
        "            max_acqfunc = BOLD + OKGREEN + max_acqfunc + ENDC\n",
        "            max_acqfunc_exact = BOLD + OKGREEN + max_acqfunc_exact + ENDC\n",
        "        print(self.template.format(eval, proposed, curr_eval, curr_best, max_acqfunc_exact, max_acqfunc))\n",
        "        \n",
        "    def run(self, max_iter=10, init_evals=3, resume=False):\n",
        "        \n",
        "        if not resume:\n",
        "            self.init_evals = init_evals\n",
        "            self._firstRun(self.init_evals)\n",
        "            self._printInit()\n",
        "        for iteration in range(max_iter):\n",
        "            self._optimizeAcq()\n",
        "            self.updateGP()\n",
        "            self._printCurrent()\n"
      ],
      "execution_count": null,
      "outputs": []
    },
    {
      "cell_type": "code",
      "metadata": {
        "id": "S422jNLsdIMm"
      },
      "source": [
        "## dGPGO:\n",
        "\n",
        "class dGPGO(GPGO):\n",
        "    n_start = n_start_AcqFunc\n",
        "\n",
        "    def __init__(self, surrogate, acquisition, f, parameter_dict, n_jobs=1):\n",
        "        self.GP = surrogate\n",
        "        self.A = acquisition\n",
        "        self.f = f\n",
        "        self.parameters = parameter_dict\n",
        "        self.n_jobs = n_jobs\n",
        "\n",
        "        self.parameter_key = list(parameter_dict.keys())\n",
        "        self.parameter_value = list(parameter_dict.values())\n",
        "        self.parameter_type = [p[0] for p in self.parameter_value]\n",
        "        self.parameter_range = [p[1] for p in self.parameter_value]\n",
        "\n",
        "        self.history = []\n",
        "        self.header =   'Evaluation \\t Proposed point \\t  Current eval. \\t  Best eval. \\t         Max. ExactAcqFunc \\t Max. ApproxAcqFunc '\n",
        "        self.template = '{:3}\\t {}\\t {:3}\\t {:3}\\t {:3}\\t {:3}'\n",
        "\n",
        "    def acqfuncExact(self, xnew, n_start=n_start_AcqFunc):\n",
        "        new_mean, new_var = self.GP.predict(xnew, return_std=True)\n",
        "        new_std = np.sqrt(new_var + eps)\n",
        "        dm, ds = self.GP.AcqGrad(xnew)\n",
        "        f, df = self.A.d_eval(self.tau, new_mean, new_std, ds=ds, dm=dm)\n",
        "\n",
        "        return -f, -df\n",
        "   \n",
        "    def acqfuncApprox(self, xnew, n_start=n_start_AcqFunc):\n",
        "        new_mean, new_var = self.GP.predict(xnew, return_std=True)\n",
        "        new_std = np.sqrt(new_var + eps)\n",
        "        dm, ds = self.GP.AcqGrad(xnew)\n",
        "        f, df = self.A.d_eval(self.tau, new_mean, new_std, ds=ds, dm=dm)\n",
        "\n",
        "        return -f\n",
        "\n",
        "    def d_optimizeAcq(self, method='L-BFGS-B', n_start=n_start_AcqFunc):\n",
        "        start_points_dict = [self._sampleParam() for i in range(n_start)]\n",
        "        start_points_arr = np.array([list(s.values())\n",
        "                                     for s in start_points_dict])\n",
        "        x_best = np.empty((n_start, len(self.parameter_key)))\n",
        "        f_best = np.empty((n_start,))\n",
        "        opt = Parallel(n_jobs=self.n_jobs)(delayed(minimize)(self.acqfuncExact,\n",
        "                                                                 x0=start_point,\n",
        "                                                                 method=method,\n",
        "                                                                 jac = True,\n",
        "                                                                 bounds=self.parameter_range) for start_point in\n",
        "                                               start_points_arr)\n",
        "        x_best = np.array([res.x for res in opt])\n",
        "        f_best = np.array([np.atleast_1d(res.fun)[0] for res in opt])\n",
        "        f_best_min = min(f_best)\n",
        "\n",
        "        self.x_best = x_best\n",
        "        self.f_best = f_best\n",
        "        self.f_best_min = f_best_min\n",
        "        self.best = x_best[np.argmin(f_best)]\n",
        "        self.start_points_arr = start_points_arr\n",
        "        self.history.append(self.f_best_min)\n",
        "\n",
        "        x_best_approx = np.empty((n_start, len(self.parameter_key)))\n",
        "        f_best_approx = np.empty((n_start,))\n",
        "        opt_approx = Parallel(n_jobs=self.n_jobs)(delayed(minimize)(self.acqfuncApprox,\n",
        "                                                                 x0=start_point,\n",
        "                                                                 method=method,\n",
        "                                                                 jac = False,\n",
        "                                                                 bounds=self.parameter_range) for start_point in\n",
        "                                               start_points_arr)\n",
        "        x_best_approx = np.array([res.x for res in opt_approx])\n",
        "        f_best_approx = np.array([np.atleast_1d(res.fun)[0] for res in opt_approx])\n",
        "        f_best_min_approx = min(f_best_approx)\n",
        "\n",
        "        self.x_best_approx = x_best_approx\n",
        "        self.f_best_approx = f_best_approx\n",
        "        self.f_best_min_approx = f_best_min_approx\n",
        "        self.best_approx = x_best_approx[np.argmin(f_best_approx)]\n",
        "        self.start_points_arr = start_points_arr\n",
        "        self.history.append(self.f_best_min_approx)\n",
        "    \n",
        "    def _printInit(self):\n",
        "        print(self.header)\n",
        "        inverse = -1\n",
        "        for init_eval in range(self.init_evals):\n",
        "            print(self.template.format('init', self.GP.X[init_eval], inverse * self.GP.y[init_eval], inverse * self.tau, '', ''))\n",
        "      \n",
        "    def _printCurrent(self):\n",
        "        OKGREEN = '\\033[92m'\n",
        "        ENDC = '\\033[0m'\n",
        "        BOLD = '\\033[1m'\n",
        "        inverse = -1\n",
        "        eval = str(len(self.GP.y) - self.init_evals)\n",
        "        proposed = str(self.best)\n",
        "        curr_eval = str(inverse * self.GP.y[-1])\n",
        "        curr_best = str(inverse * self.tau)\n",
        "        max_acqfunc = str(inverse * self.f_best_min)\n",
        "        max_acqfunc_approx = str(inverse * self.f_best_min_approx)\n",
        "        if float(curr_eval) <= float(curr_best):\n",
        "            eval = BOLD + OKGREEN + eval + ENDC\n",
        "            proposed = BOLD + OKGREEN + proposed + ENDC\n",
        "            curr_eval = BOLD + OKGREEN + curr_eval + ENDC\n",
        "            curr_best = BOLD + OKGREEN + curr_best + ENDC\n",
        "            max_acqfunc = BOLD + OKGREEN + max_acqfunc + ENDC\n",
        "            max_acqfunc_approx = BOLD + OKGREEN + max_acqfunc_approx + ENDC\n",
        "        print(self.template.format(eval, proposed, curr_eval, curr_best, max_acqfunc, max_acqfunc_approx))\n",
        "\n",
        "    def run(self, max_iter=10, init_evals=3, resume=False):\n",
        "        \n",
        "        if not resume:\n",
        "            self.init_evals = init_evals\n",
        "            self._firstRun(self.init_evals)\n",
        "            self._printInit()\n",
        "        for iteration in range(max_iter):\n",
        "            self.d_optimizeAcq()\n",
        "            self.updateGP()\n",
        "            self._printCurrent()\n"
      ],
      "execution_count": null,
      "outputs": []
    },
    {
      "cell_type": "code",
      "metadata": {
        "id": "HlilveEgdIR_",
        "colab": {
          "base_uri": "https://localhost:8080/"
        },
        "outputId": "fdc93cc6-627a-4237-c4b9-8e3f06ce4454"
      },
      "source": [
        "start_approx = time.time()\n",
        "start_approx"
      ],
      "execution_count": null,
      "outputs": [
        {
          "output_type": "execute_result",
          "data": {
            "text/plain": [
              "1653407488.5706203"
            ]
          },
          "metadata": {},
          "execution_count": 20
        }
      ]
    },
    {
      "cell_type": "code",
      "metadata": {
        "id": "1wlzDSHbUG-c",
        "colab": {
          "base_uri": "https://localhost:8080/"
        },
        "outputId": "986da05a-5028-41d1-b25d-208275efe459"
      },
      "source": [
        "### Bayesian optimization runs (x20): 'approx' Acquisition Function run number = 1\n",
        "\n",
        "np.random.seed(run_num_1)\n",
        "surrogate_approx_1 = dGaussianProcess(cov_func, optimize=opt)\n",
        "\n",
        "X_train1, X_test1, y_train1, y_test1 = train_test_split(X, y, test_size=test_perc, random_state=run_num_1)\n",
        "\n",
        "def f_syn_polarity1(alpha, gamma, max_depth, subsample, min_child_weight, colsample):\n",
        "    reg = XGBRegressor(reg_alpha=alpha, gamma=gamma, max_depth=int(max_depth), subsample=subsample, min_child_weight=min_child_weight,\n",
        "          colsample_bytree=colsample, n_estimators = n_est, random_state=run_num_1, objective = 'reg:squarederror')\n",
        "    score = np.array(cross_val_score(reg, X=X_train1, y=y_train1).mean())\n",
        "    return operator * score\n",
        "\n",
        "approx_1 = GPGO_multi(surrogate_approx_1, Acquisition_grad(util), f_syn_polarity1, param, n_jobs = -1) # define BayesOpt\n",
        "approx_1.run(max_iter = max_iter, init_evals = n_init) # run\n",
        "\n",
        "### Return optimal parameters' set:\n",
        "params_approx_1 = approx_1.getResult()[0]\n",
        "params_approx_1['max_depth'] = int(params_approx_1['max_depth'])\n",
        "params_approx_1['min_child_weight'] = int(params_approx_1['min_child_weight'])\n",
        "\n",
        "### Re-train with optimal parameters, run predictons:\n",
        "dX_approx_train1 = xgb.DMatrix(X_train1, y_train1)\n",
        "dX_approx_test1 = xgb.DMatrix(X_test1, y_test1)\n",
        "model_approx_1 = xgb.train(params_approx_1, dX_approx_train1)\n",
        "pred_approx_1 = model_approx_1.predict(dX_approx_test1)\n",
        "\n",
        "rmse_approx_1 = np.sqrt(mean_squared_error(pred_approx_1, y_test1))\n",
        "rmse_approx_1"
      ],
      "execution_count": null,
      "outputs": [
        {
          "output_type": "stream",
          "name": "stdout",
          "text": [
            "Evaluation \t Proposed point \t  Current eval. \t  Best eval. \t         Max. ExactAcqFunc \t Max. ApproxAcqFunc \n",
            "init\t [ 4.17022005  7.20324493 14.          0.65116629 16.          0.31248008]\t 0.848101320876155\t 0.7386468688809501\t    \t    \n",
            "init\t [ 3.96580727  3.87910741 11.          0.96776954  6.          0.71669755]\t 0.7469689781479785\t 0.7386468688809501\t    \t    \n",
            "init\t [ 2.0445225   8.78117436  7.          0.95698101 10.          0.48762871]\t 0.8079963708366673\t 0.7386468688809501\t    \t    \n",
            "init\t [ 9.39127789  7.78389236 14.          0.98413079  2.          0.87851823]\t 0.7386468688809501\t 0.7386468688809501\t    \t    \n",
            "init\t [8.29146907 8.29603359 8.         0.58491521 9.         0.18851215]\t 0.937768916815817\t 0.7386468688809501\t    \t    \n",
            "1  \t [ 7.86951474  0.6406733  11.          0.78919481 19.          0.44182296]\t 0.8126185461054997\t 0.7386468688809501\t 0.8206578438603359\t 0.8206578438603359\n",
            "2  \t [ 0.74723898  0.36469704 11.          0.84902862 15.          0.10419698]\t 0.9318704004009237\t 0.7386468688809501\t 0.8203694248468725\t 0.8203694248468725\n",
            "3  \t [7.35353694 6.03494644 5.         0.7919799  3.         0.96282991]\t 0.7646755003247829\t 0.7386468688809501\t 0.8249743468059432\t 0.8249743468059432\n",
            "\u001b[1m\u001b[92m4\u001b[0m\t \u001b[1m\u001b[92m[ 9.28266952  0.44927819  7.          0.97265422 12.          0.93288355]\u001b[0m\t \u001b[1m\u001b[92m0.7271027674356043\u001b[0m\t \u001b[1m\u001b[92m0.7271027674356043\u001b[0m\t \u001b[1m\u001b[92m0.8226911135371321\u001b[0m\t \u001b[1m\u001b[92m0.8226911135371321\u001b[0m\n",
            "5  \t [ 3.76363217  9.95052322  8.          0.75835318 19.          0.10206715]\t 0.9302979891635867\t 0.7271027674356043\t 0.8104893499842186\t 0.8104893499842056\n",
            "6  \t [ 5.1476318   2.63826491  5.          0.83046451 17.          0.39543049]\t 0.8121266607783616\t 0.7271027674356043\t 0.81375606092277\t 0.81375606092277\n",
            "7  \t [ 2.05722318  9.92568059 11.          0.85938245  2.          0.31039182]\t 0.8530932869908747\t 0.7271027674356043\t 0.8133580661498558\t 0.8133580661498558\n",
            "8  \t [ 7.25642545  0.25925793 13.          0.51727017  4.          0.8962137 ]\t 0.7822187847645935\t 0.7271027674356043\t 0.8139577771361637\t 0.8139577770678914\n",
            "9  \t [0.75623385 3.14055399 6.         0.5417671  8.         0.78866556]\t 0.7758028719550957\t 0.7271027674356043\t 0.8130044256600948\t 0.8130044256600948\n",
            "10 \t [ 2.40145102  3.85909833 10.          0.96638195 19.          0.88323055]\t 0.7302118332687252\t 0.7271027674356043\t 0.8120693903071965\t 0.8120693903071965\n",
            "11 \t [ 0.75310873  4.25724412 13.          0.65895151  1.          0.82964911]\t 0.7771294155692965\t 0.7271027674356043\t 0.810506353116694\t 0.810506353116694\n",
            "12 \t [0.15776536 8.02750992 5.         0.65248282 3.         0.71659731]\t 0.7752392265192147\t 0.7271027674356043\t 0.8098638672373766\t 0.8098638672373766\n",
            "13 \t [ 9.31003194  2.78504172 14.          0.81837194 14.          0.87646711]\t 0.7355848546414411\t 0.7271027674356043\t 0.8092682510770532\t 0.8092682510746161\n",
            "14 \t [ 0.99440257  2.23238431 10.          0.58984965 12.          0.68792603]\t 0.7644930642703252\t 0.7271027674356043\t 0.8081905427221433\t 0.8081905427221433\n",
            "15 \t [ 4.9586464   0.03452716 14.          0.97140399  9.          0.31674359]\t 0.8444570331313808\t 0.7271027674356043\t 0.8076011731659068\t 0.8076011731659068\n",
            "16 \t [ 0.21685405  7.71152333 13.          0.94772928  9.          0.78016857]\t 0.745641428580208\t 0.7271027674356043\t 0.8081312287170695\t 0.8081312287170695\n",
            "17 \t [6.66807995 0.11103333 7.         0.64966346 5.         0.7164316 ]\t 0.770251335753332\t 0.7271027674356043\t 0.8073774925387537\t 0.8073774925387537\n",
            "18 \t [ 9.45155315  7.22452788 11.          0.89313466 18.          0.40166053]\t 0.8020969460399725\t 0.7271027674356043\t 0.8069718097580233\t 0.8069718097580233\n",
            "19 \t [ 9.10523333  3.27174643 10.          0.99081086  1.          0.52982662]\t 0.7798357828739575\t 0.7271027674356043\t 0.8069599056940847\t 0.8069599056940847\n",
            "20 \t [ 8.07684492  4.90269956  9.          0.90518866 14.          0.53820902]\t 0.7633846465279702\t 0.7271027674356043\t 0.8067069706789729\t 0.8067069633663632\n",
            "21 \t [ 9.72376714  9.82517342 14.          0.96896704 10.          0.66715413]\t 0.7442263922491208\t 0.7271027674356043\t 0.806307452178025\t 0.806307452178025\n",
            "22 \t [ 4.65410509  7.57869444  5.          0.7635136  15.          0.8131422 ]\t 0.7670527205034673\t 0.7271027674356043\t 0.8057548072930022\t 0.8057548072930022\n",
            "23 \t [0.5571361  0.99153521 8.         0.53239874 3.         0.60264442]\t 0.7929648809924129\t 0.7271027674356043\t 0.8054510524581334\t 0.8054510524581334\n",
            "24 \t [ 4.4564296   5.758624   12.28884378  0.54270253 11.11425742  0.73893552]\t 0.7705340859543405\t 0.7271027674356043\t 0.8054085218738516\t 0.8054078063160188\n",
            "25 \t [ 9.0524488   2.03857572 12.          0.61015912  9.          0.93043587]\t 0.7593990574341056\t 0.7271027674356043\t 0.8051745059489259\t 0.8051745059489259\n",
            "26 \t [3.36948929 7.81948595 7.         0.9299977  1.         0.27903469]\t 0.853626868258654\t 0.7271027674356043\t 0.8048585134042301\t 0.8048585134042301\n",
            "27 \t [4.30702998 1.603885   6.         0.67957661 1.         0.65896812]\t 0.7722507414442762\t 0.7271027674356043\t 0.8053724080085196\t 0.8053723994615241\n",
            "28 \t [ 0.15246909  0.64891005  5.          0.82057511 17.          0.55392553]\t 0.77727720134707\t 0.7271027674356043\t 0.80516359665041\t 0.80516359665041\n",
            "29 \t [ 1.47948978  8.96566327 12.9320955   0.78691098 20.          1.        ]\t 0.7340062735177246\t 0.7271027674356043\t 0.8050132943396081\t 0.8050138044251607\n",
            "30 \t [ 0.30133721  5.73727904  5.          0.67784984 14.          0.12921455]\t 0.9300980261926399\t 0.7271027674356043\t 0.8045633639605965\t 0.8045633639605965\n"
          ]
        },
        {
          "output_type": "execute_result",
          "data": {
            "text/plain": [
              "61032.2252967339"
            ]
          },
          "metadata": {},
          "execution_count": 21
        }
      ]
    },
    {
      "cell_type": "code",
      "metadata": {
        "id": "ClJ9rN2KUJzy",
        "colab": {
          "base_uri": "https://localhost:8080/"
        },
        "outputId": "9e5c576f-1a3b-495c-8071-c7e7512d371a"
      },
      "source": [
        "### Bayesian optimization runs (x20): 'approx' Acquisition Function run number = 2\n",
        "\n",
        "np.random.seed(run_num_2)\n",
        "surrogate_approx_2 = dGaussianProcess(cov_func, optimize=opt)\n",
        "\n",
        "X_train2, X_test2, y_train2, y_test2 = train_test_split(X, y, test_size=test_perc, random_state=run_num_2)\n",
        "\n",
        "def f_syn_polarity2(alpha, gamma, max_depth, subsample, min_child_weight, colsample):\n",
        "    reg = XGBRegressor(reg_alpha=alpha, gamma=gamma, max_depth=int(max_depth), subsample=subsample, min_child_weight=min_child_weight,\n",
        "          colsample_bytree=colsample, n_estimators = n_est, random_state=run_num_2, objective = 'reg:squarederror')\n",
        "    score = np.array(cross_val_score(reg, X=X_train2, y=y_train2).mean())\n",
        "    return operator * score\n",
        "\n",
        "approx_2 = GPGO_multi(surrogate_approx_2, Acquisition_grad(util), f_syn_polarity2, param, n_jobs = -1) # define BayesOpt\n",
        "approx_2.run(max_iter = max_iter, init_evals = n_init) # run\n",
        "\n",
        "### Return optimal parameters' set:\n",
        "params_approx_2 = approx_2.getResult()[0]\n",
        "params_approx_2['max_depth'] = int(params_approx_2['max_depth'])\n",
        "params_approx_2['min_child_weight'] = int(params_approx_2['min_child_weight'])\n",
        "\n",
        "### Re-train with optimal parameters, run predictons:\n",
        "dX_approx_train2 = xgb.DMatrix(X_train2, y_train2)\n",
        "dX_approx_test2 = xgb.DMatrix(X_test2, y_test2)\n",
        "model_approx_2 = xgb.train(params_approx_2, dX_approx_train2)\n",
        "pred_approx_2 = model_approx_2.predict(dX_approx_test2)\n",
        "\n",
        "rmse_approx_2 = np.sqrt(mean_squared_error(pred_approx_2, y_test2))\n",
        "rmse_approx_2"
      ],
      "execution_count": null,
      "outputs": [
        {
          "output_type": "stream",
          "name": "stdout",
          "text": [
            "Evaluation \t Proposed point \t  Current eval. \t  Best eval. \t         Max. ExactAcqFunc \t Max. ApproxAcqFunc \n",
            "init\t [ 4.35994902  0.25926232 11.          0.97386531 12.          0.47833102]\t 0.9157817005982263\t 0.8490988745111359\t    \t    \n",
            "init\t [ 3.30334821  2.04648634 10.          0.55997527  6.          0.71472339]\t 0.8517975125315337\t 0.8490988745111359\t    \t    \n",
            "init\t [ 4.9856117   5.86796978  8.          0.89266757 11.          0.59158659]\t 0.8490988745111359\t 0.8490988745111359\t    \t    \n",
            "init\t [ 4.07307832  1.76984624 13.          0.75262305  7.          0.35908193]\t 0.9839177202713774\t 0.8490988745111359\t    \t    \n",
            "init\t [ 1.16193318  1.81727038  9.          0.79837265 19.          0.29965165]\t 0.9688138526063573\t 0.8490988745111359\t    \t    \n",
            "\u001b[1m\u001b[92m1\u001b[0m\t \u001b[1m\u001b[92m[9.68290573 5.74953535 8.         0.93445831 2.         0.81872709]\u001b[0m\t \u001b[1m\u001b[92m0.7933779577878181\u001b[0m\t \u001b[1m\u001b[92m0.7933779577878181\u001b[0m\t \u001b[1m\u001b[92m0.9363290044613266\u001b[0m\t \u001b[1m\u001b[92m0.9363290044613266\u001b[0m\n",
            "\u001b[1m\u001b[92m2\u001b[0m\t \u001b[1m\u001b[92m[ 2.17907321  8.34965852  5.          0.91660625 18.          0.97349298]\u001b[0m\t \u001b[1m\u001b[92m0.7753470044170323\u001b[0m\t \u001b[1m\u001b[92m0.7753470044170323\u001b[0m\t \u001b[1m\u001b[92m0.8857115640911671\u001b[0m\t \u001b[1m\u001b[92m0.8857115640911671\u001b[0m\n",
            "3  \t [ 3.86971225  8.36249195 14.          0.65193715  2.          0.53564822]\t 0.876401110742202\t 0.7753470044170323\t 0.8667079700782435\t 0.8667079700782435\n",
            "4  \t [ 5.03756278  5.01206033 13.          0.59912629 19.          0.46413865]\t 0.9343414333829166\t 0.7753470044170323\t 0.8667441394600173\t 0.8667441394600173\n",
            "5  \t [ 1.04358891  9.72033478 14.          0.5859025  14.          0.459264  ]\t 0.9313569330212417\t 0.7753470044170323\t 0.868311245495748\t 0.868311245495748\n",
            "6  \t [ 9.90020282  3.3367177  10.          0.62203407  7.          0.71235234]\t 0.8411431281498688\t 0.7753470044170323\t 0.8697047839435025\t 0.8697047839435025\n",
            "7  \t [ 9.14946201  2.43697872  6.          0.997805   19.          0.45949208]\t 0.9164031394028719\t 0.7753470044170323\t 0.8684077502892564\t 0.8684077502892564\n",
            "8  \t [3.03571116 4.83939078 5.         0.66625528 1.         0.23130028]\t 1.0138871967237582\t 0.7753470044170323\t 0.8691130749738712\t 0.8691130749738712\n",
            "9  \t [ 4.57706999  8.33565192 11.          0.6188546   7.          0.54017925]\t 0.8649392035689163\t 0.7753470044170323\t 0.8720136627206136\t 0.8720136627206136\n",
            "10 \t [2.51973603 9.74135258 5.         0.69633293 8.         0.1952065 ]\t 1.0071157747754849\t 0.7753470044170323\t 0.8713571920176828\t 0.8713571920176828\n",
            "11 \t [ 8.6330652   9.62113163 11.          0.50355876 13.          0.80231095]\t 0.8069330024769588\t 0.7753470044170323\t 0.8734264185335854\t 0.8734264185335854\n",
            "12 \t [ 9.73810496  3.32466832  6.          0.67226447 13.          0.93959986]\t 0.7754352624905214\t 0.7753470044170323\t 0.8718377410371587\t 0.8718377410371587\n",
            "13 \t [0.12722646 3.56473934 5.         0.84144242 7.9905273  0.73871899]\t 0.8309782228030764\t 0.7753470044170323\t 0.8699845326734942\t 0.8699845348887454\n",
            "14 \t [ 1.44915477  0.14257847  6.          0.52441016 14.          0.6286643 ]\t 0.8437383195985765\t 0.7753470044170323\t 0.8690950865911088\t 0.8690950748047865\n",
            "\u001b[1m\u001b[92m15\u001b[0m\t \u001b[1m\u001b[92m[ 8.6950785   0.99410218 13.          0.66782851 17.          0.9323419 ]\u001b[0m\t \u001b[1m\u001b[92m0.7718203736909484\u001b[0m\t \u001b[1m\u001b[92m0.7718203736909484\u001b[0m\t \u001b[1m\u001b[92m0.8684713167664648\u001b[0m\t \u001b[1m\u001b[92m0.8684713167664648\u001b[0m\n",
            "16 \t [9.70003354 0.07825472 7.         0.79315177 1.         0.1995403 ]\t 1.0056183477146596\t 0.7718203736909484\t 0.864217018739405\t 0.864217018739405\n",
            "17 \t [ 9.61885664  9.78589131 14.          0.8903706   1.          0.14094172]\t 1.0146384496628387\t 0.7718203736909484\t 0.8658896541199416\t 0.8658896541199416\n",
            "18 \t [ 5.64670451  8.85432647 14.          0.95807607 10.          0.35707694]\t 0.9742892858541289\t 0.7718203736909484\t 0.8676388423313378\t 0.8676388423313378\n",
            "19 \t [ 0.34964202  6.10551304 14.          0.81887518  8.          0.79373024]\t 0.7877542123158783\t 0.7718203736909484\t 0.868597750874405\t 0.868597750874405\n",
            "20 \t [ 8.59076902  2.12489768 14.          0.94217664  7.          0.48489882]\t 0.9164910070721832\t 0.7718203736909484\t 0.8674686862308635\t 0.8674686862308635\n",
            "21 \t [ 9.82029269  9.84985633  5.          0.72258871 11.          0.9421958 ]\t 0.7841181484429829\t 0.7718203736909484\t 0.867731810223173\t 0.867731810223173\n",
            "22 \t [ 7.66995108  8.80984066  7.          0.76548377 18.          0.54338765]\t 0.8474972022714364\t 0.7718203736909484\t 0.8666425262473518\t 0.8666425262473518\n",
            "23 \t [ 1.14769908  9.46854425 10.          0.58022432 19.          0.87672068]\t 0.787456851239095\t 0.7718203736909484\t 0.8661817869801074\t 0.8661813677579172\n",
            "24 \t [ 5.48814708  1.96120195 13.          0.89659682  1.          0.34125713]\t 0.9941403780835223\t 0.7718203736909484\t 0.8652995293880391\t 0.8652995293880391\n",
            "25 \t [ 9.10861142  3.18310036 11.          0.90609779 12.          0.83876036]\t 0.7842412352967695\t 0.7718203736909484\t 0.8663868435150052\t 0.8663868435150052\n",
            "26 \t [ 1.31437389  5.19731471  7.          0.55876104 15.          0.42239383]\t 0.9332274079624969\t 0.7718203736909484\t 0.8654881823672339\t 0.8654881823218477\n",
            "27 \t [ 8.92720117  4.31465286 13.          0.70553933  1.          0.75946259]\t 0.8184668279349161\t 0.7718203736909484\t 0.8659192899873417\t 0.8659192899873417\n",
            "28 \t [ 7.32261517  3.77223908 13.          0.66532455  8.          0.34613674]\t 0.9735451613332762\t 0.7718203736909484\t 0.8653554928138961\t 0.8653554928138961\n",
            "29 \t [ 0.18422843  3.79304459 14.2395993   0.92658902 19.          0.67661812]\t 0.8150506795012067\t 0.7718203736909484\t 0.8657576481711046\t 0.8657564286973218\n",
            "30 \t [6.63008583 0.12118752 5.         1.         4.97519509 0.1       ]\t 0.9780172366020221\t 0.7718203736909484\t 0.8652062566762315\t 0.8652060664899481\n"
          ]
        },
        {
          "output_type": "execute_result",
          "data": {
            "text/plain": [
              "61245.06554209653"
            ]
          },
          "metadata": {},
          "execution_count": 22
        }
      ]
    },
    {
      "cell_type": "code",
      "metadata": {
        "id": "-45l3NU4UNiI",
        "colab": {
          "base_uri": "https://localhost:8080/"
        },
        "outputId": "e91fd0e9-f2ad-470f-d336-86e3535c7b9e"
      },
      "source": [
        "### Bayesian optimization runs (x20): 'approx' Acquisition Function run number = 3\n",
        "\n",
        "np.random.seed(run_num_3)\n",
        "surrogate_approx_3 = dGaussianProcess(cov_func, optimize=opt)\n",
        "\n",
        "X_train3, X_test3, y_train3, y_test3 = train_test_split(X, y, test_size=test_perc, random_state=run_num_3)\n",
        "\n",
        "def f_syn_polarity3(alpha, gamma, max_depth, subsample, min_child_weight, colsample):\n",
        "    reg = XGBRegressor(reg_alpha=alpha, gamma=gamma, max_depth=int(max_depth), subsample=subsample, min_child_weight=min_child_weight,\n",
        "          colsample_bytree=colsample, n_estimators = n_est, random_state=run_num_3, objective = 'reg:squarederror')\n",
        "    score = np.array(cross_val_score(reg, X=X_train3, y=y_train3).mean())\n",
        "    return operator * score\n",
        "\n",
        "approx_3 = GPGO_multi(surrogate_approx_3, Acquisition_grad(util), f_syn_polarity3, param, n_jobs = -1) # define BayesOpt\n",
        "approx_3.run(max_iter = max_iter, init_evals = n_init) # run\n",
        "\n",
        "### Return optimal parameters' set:\n",
        "params_approx_3 = approx_3.getResult()[0]\n",
        "params_approx_3['max_depth'] = int(params_approx_3['max_depth'])\n",
        "params_approx_3['min_child_weight'] = int(params_approx_3['min_child_weight'])\n",
        "\n",
        "### Re-train with optimal parameters, run predictons:\n",
        "dX_approx_train3 = xgb.DMatrix(X_train3, y_train3)\n",
        "dX_approx_test3 = xgb.DMatrix(X_test3, y_test3)\n",
        "model_approx_3 = xgb.train(params_approx_3, dX_approx_train3)\n",
        "pred_approx_3 = model_approx_3.predict(dX_approx_test3)\n",
        "\n",
        "rmse_approx_3 = np.sqrt(mean_squared_error(pred_approx_3, y_test3))\n",
        "rmse_approx_3"
      ],
      "execution_count": null,
      "outputs": [
        {
          "output_type": "stream",
          "name": "stdout",
          "text": [
            "Evaluation \t Proposed point \t  Current eval. \t  Best eval. \t         Max. ExactAcqFunc \t Max. ApproxAcqFunc \n",
            "init\t [ 5.50797903  7.08147823 13.          0.56066429 11.          0.11687321]\t 1.1001019572672721\t 0.8205570570239384\t    \t    \n",
            "init\t [ 0.40630737  2.47888297 11.          0.72040492 13.          0.23083313]\t 1.0968690738660336\t 0.8205570570239384\t    \t    \n",
            "init\t [ 4.53172301  2.15577008 11.          0.74631796  2.          0.60296868]\t 0.8205570570239384\t 0.8205570570239384\t    \t    \n",
            "init\t [ 2.59252447  4.15101197 13.          0.79330998  8.          0.24118096]\t 1.0984076753833096\t 0.8205570570239384\t    \t    \n",
            "init\t [ 5.44649018  7.80314765 10.          0.62879264 18.          0.44917413]\t 0.8540219347978375\t 0.8205570570239384\t    \t    \n",
            "1  \t [1.56262424 9.7795241  5.         0.91450054 5.         0.53102391]\t 0.8296591774144556\t 0.8205570570239384\t 0.9371109792439146\t 0.9371109792439146\n",
            "\u001b[1m\u001b[92m2\u001b[0m\t \u001b[1m\u001b[92m[ 2.46535469  7.06056184  5.          0.53518488 13.          0.98930148]\u001b[0m\t \u001b[1m\u001b[92m0.8159546965123093\u001b[0m\t \u001b[1m\u001b[92m0.8159546965123093\u001b[0m\t \u001b[1m\u001b[92m0.9295783079270744\u001b[0m\t \u001b[1m\u001b[92m0.9295783079270744\u001b[0m\n",
            "3  \t [ 7.38032831  9.94067232 11.          0.77461843  2.          0.2199184 ]\t 1.0951088390242933\t 0.8159546965123093\t 0.9199928361984709\t 0.9199928361984709\n",
            "4  \t [ 6.69378835  1.1746468   5.          0.75549171 16.          0.73450657]\t 0.8217725728652645\t 0.8159546965123093\t 0.9252051222799961\t 0.9252051222799961\n",
            "\u001b[1m\u001b[92m5\u001b[0m\t \u001b[1m\u001b[92m[8.5662852  7.62282167 7.         0.57679587 9.         0.92751362]\u001b[0m\t \u001b[1m\u001b[92m0.7970827408048204\u001b[0m\t \u001b[1m\u001b[92m0.7970827408048204\u001b[0m\t \u001b[1m\u001b[92m0.9208412918263456\u001b[0m\t \u001b[1m\u001b[92m0.9208412918263456\u001b[0m\n",
            "6  \t [5.7225441  2.61495097 6.         0.67527106 6.         0.33729846]\t 0.9558811938937251\t 0.7970827408048204\t 0.9015840633539809\t 0.9015840633539689\n",
            "\u001b[1m\u001b[92m7\u001b[0m\t \u001b[1m\u001b[92m[ 6.56033613  1.17774647 12.          0.5376295  15.          0.81305603]\u001b[0m\t \u001b[1m\u001b[92m0.7942964863055573\u001b[0m\t \u001b[1m\u001b[92m0.7942964863055573\u001b[0m\t \u001b[1m\u001b[92m0.9019210410824056\u001b[0m\t \u001b[1m\u001b[92m0.9019210410408053\u001b[0m\n",
            "8  \t [2.6278521  1.48922274 6.         0.63082487 1.         0.15934029]\t 1.1015309912379583\t 0.7942964863055573\t 0.8964715682023929\t 0.8964715663379944\n",
            "\u001b[1m\u001b[92m9\u001b[0m\t \u001b[1m\u001b[92m[ 8.89682762  0.79017134 14.          0.58366818  8.          0.97456627]\u001b[0m\t \u001b[1m\u001b[92m0.7882233954631125\u001b[0m\t \u001b[1m\u001b[92m0.7882233954631125\u001b[0m\t \u001b[1m\u001b[92m0.9004027865655451\u001b[0m\t \u001b[1m\u001b[92m0.9004027865655448\u001b[0m\n",
            "10 \t [ 8.77606832  6.32160473  5.          0.71489692 18.          0.76442589]\t 0.8083681579816849\t 0.7882233954631125\t 0.8926282583560855\t 0.8926282583560855\n",
            "11 \t [ 1.02918863  9.32189805 13.          0.88333707  1.          0.86998588]\t 0.8006793455866266\t 0.7882233954631125\t 0.8904064093401814\t 0.8904064093401814\n",
            "12 \t [ 7.36281279  7.66763777  8.          0.59948159 13.          0.98370581]\t 0.7986988788225304\t 0.7882233954631125\t 0.8883417972362363\t 0.8883417972362363\n",
            "\u001b[1m\u001b[92m13\u001b[0m\t \u001b[1m\u001b[92m[ 9.38226635  4.01107902 14.          0.88645966 17.          0.87374815]\u001b[0m\t \u001b[1m\u001b[92m0.7733804062253155\u001b[0m\t \u001b[1m\u001b[92m0.7733804062253155\u001b[0m\t \u001b[1m\u001b[92m0.8864883285041335\u001b[0m\t \u001b[1m\u001b[92m0.8864883128525669\u001b[0m\n",
            "14 \t [ 0.68308523  3.05829619  5.          0.71250074 17.          0.5517841 ]\t 0.8259670617924225\t 0.7733804062253155\t 0.8725495254740033\t 0.8725495254740033\n",
            "15 \t [ 8.58495733  5.09928748 13.          0.89538108  1.          0.67774369]\t 0.8310233985591402\t 0.7733804062253155\t 0.8714235608036346\t 0.8714235608036346\n",
            "16 \t [ 1.04436425  9.32284009 12.          0.59300158  7.          0.9522161 ]\t 0.7932997960599151\t 0.7733804062253155\t 0.8704735324029071\t 0.8704735314835288\n",
            "17 \t [ 9.40129426  8.85637698 13.          0.72340176  7.          0.76030308]\t 0.7834162130060136\t 0.7733804062253155\t 0.8691653277706565\t 0.8691653277073517\n",
            "18 \t [9.83745664 3.68679807 9.         0.98607907 6.         0.93173856]\t 0.7756756393931181\t 0.7733804062253155\t 0.867865272646221\t 0.867864911377414\n",
            "19 \t [ 0.59117942  7.04764364 14.          0.92579676 15.          0.40983297]\t 0.8394856040419147\t 0.7733804062253155\t 0.866596940325691\t 0.866596940141649\n",
            "20 \t [ 5.64439732  9.97174921 12.55805947  0.5        14.64620752  1.        ]\t 0.7793524324031005\t 0.7733804062253155\t 0.866093732762939\t 0.8660927193676954\n",
            "21 \t [ 2.97860789  1.58608156  9.          0.90567804 19.          0.25635029]\t 0.9450639434474883\t 0.7733804062253155\t 0.8650307446043732\t 0.8650307446043732\n",
            "22 \t [7.19337004 5.81174969 8.         0.8047239  2.         0.4109579 ]\t 0.8532445647088366\t 0.7733804062253155\t 0.8657421824798116\t 0.8657421823848997\n",
            "23 \t [ 8.88826421  1.9811      6.          0.70604855 10.          0.54213113]\t 0.8116632897634457\t 0.7733804062253155\t 0.8654591441993261\t 0.8654591441993261\n",
            "24 \t [ 0.04997226  0.57243486  5.          0.9748128  12.          0.24835402]\t 1.1002185993205575\t 0.7733804062253155\t 0.8648132384037652\t 0.8648132291665729\n",
            "25 \t [3.50066379 6.80339885 5.         0.94334173 2.         0.56596871]\t 0.8254095950885116\t 0.7733804062253155\t 0.8671447344699201\t 0.8671447344699201\n",
            "26 \t [ 0.26918834  0.54620891 14.          0.52178873 19.          0.75307438]\t 0.8104392437293301\t 0.7733804062253155\t 0.8666039396013383\t 0.8666039396013383\n",
            "27 \t [ 8.21944232  0.76315735 14.          0.70782001  3.          0.58640207]\t 0.8090375820501642\t 0.7733804062253155\t 0.8659761933514997\t 0.8659761923973401\n",
            "28 \t [10.          0.          6.4783089   0.5         1.00108374  0.1       ]\t 1.107047473325948\t 0.7733804062253155\t 0.8653753975130603\t 0.8653757753129672\n",
            "29 \t [0.33715852 0.41541443 9.         0.53276138 6.         0.26454539]\t 0.9546448007316435\t 0.7733804062253155\t 0.8674760356698051\t 0.867476035669726\n",
            "30 \t [ 3.99294196  2.01497171  8.          0.69979374 10.          0.29619154]\t 0.9477728738892873\t 0.7733804062253155\t 0.86802924956416\t 0.8680286519933246\n"
          ]
        },
        {
          "output_type": "execute_result",
          "data": {
            "text/plain": [
              "59450.60042376621"
            ]
          },
          "metadata": {},
          "execution_count": 23
        }
      ]
    },
    {
      "cell_type": "code",
      "metadata": {
        "id": "voPfk1UDUQU0",
        "colab": {
          "base_uri": "https://localhost:8080/"
        },
        "outputId": "1b83ff8a-23e2-4867-ee40-92a5367e5835"
      },
      "source": [
        "### Bayesian optimization runs (x20): 'approx' Acquisition Function run number = 4\n",
        "\n",
        "np.random.seed(run_num_4)\n",
        "surrogate_approx_4 = dGaussianProcess(cov_func, optimize=opt)\n",
        "\n",
        "X_train4, X_test4, y_train4, y_test4 = train_test_split(X, y, test_size=test_perc, random_state=run_num_4)\n",
        "\n",
        "def f_syn_polarity4(alpha, gamma, max_depth, subsample, min_child_weight, colsample):\n",
        "    reg = XGBRegressor(reg_alpha=alpha, gamma=gamma, max_depth=int(max_depth), subsample=subsample, min_child_weight=min_child_weight,\n",
        "          colsample_bytree=colsample, n_estimators = n_est, random_state=run_num_4, objective = 'reg:squarederror')\n",
        "    score = np.array(cross_val_score(reg, X=X_train4, y=y_train4).mean())\n",
        "    return operator * score\n",
        "\n",
        "approx_4 = GPGO_multi(surrogate_approx_4, Acquisition_grad(util), f_syn_polarity4, param, n_jobs = -1) # define BayesOpt\n",
        "approx_4.run(max_iter = max_iter, init_evals = n_init) # run\n",
        "\n",
        "### Return optimal parameters' set:\n",
        "params_approx_4 = approx_4.getResult()[0]\n",
        "params_approx_4['max_depth'] = int(params_approx_4['max_depth'])\n",
        "params_approx_4['min_child_weight'] = int(params_approx_4['min_child_weight'])\n",
        "\n",
        "### Re-train with optimal parameters, run predictons:\n",
        "dX_approx_train4 = xgb.DMatrix(X_train4, y_train4)\n",
        "dX_approx_test4 = xgb.DMatrix(X_test4, y_test4)\n",
        "model_approx_4 = xgb.train(params_approx_4, dX_approx_train4)\n",
        "pred_approx_4 = model_approx_4.predict(dX_approx_test4)\n",
        "\n",
        "rmse_approx_4 = np.sqrt(mean_squared_error(pred_approx_4, y_test4))\n",
        "rmse_approx_4"
      ],
      "execution_count": null,
      "outputs": [
        {
          "output_type": "stream",
          "name": "stdout",
          "text": [
            "Evaluation \t Proposed point \t  Current eval. \t  Best eval. \t         Max. ExactAcqFunc \t Max. ApproxAcqFunc \n",
            "init\t [9.67029839 5.47232249 6.         0.92781047 9.         0.72795594]\t 0.7650622398140196\t 0.7505823286451517\t    \t    \n",
            "init\t [ 2.16089496  9.76274455 12.          0.62649118  9.          0.66966679]\t 0.7710732234684645\t 0.7505823286451517\t    \t    \n",
            "init\t [ 0.05159149  5.72356491  9.          0.99170034 10.          0.10808749]\t 1.127900018061083\t 0.7505823286451517\t    \t    \n",
            "init\t [ 3.86571283  0.44160058 10.          0.90553105 18.          0.95407958]\t 0.7505823286451517\t 0.7505823286451517\t    \t    \n",
            "init\t [ 7.86305986  8.66289299  6.          0.53285477 14.          0.25117497]\t 0.9579573664970923\t 0.7505823286451517\t    \t    \n",
            "1  \t [ 8.45443649  8.61014312 11.          0.83475494  1.          0.14018305]\t 1.1269429525174437\t 0.7505823286451517\t 0.8487712021781394\t 0.8487712021781394\n",
            "2  \t [ 0.90674561  6.32290535 11.          0.94435129  1.          0.40346185]\t 0.8738592566554818\t 0.7505823286451517\t 0.8613406736723596\t 0.8613406736723596\n",
            "3  \t [ 7.37481669  1.69273565 11.          0.93066167  4.          0.26673965]\t 0.9620149599701081\t 0.7505823286451517\t 0.8590472590615802\t 0.8590472590615802\n",
            "4  \t [ 5.92074392  7.05411368 14.          0.56897417 18.          0.54051446]\t 0.79777570154353\t 0.7505823286451517\t 0.8604642838675552\t 0.8604642838675545\n",
            "5  \t [ 5.20011211  1.13096048 14.          0.976894    9.          0.7504566 ]\t 0.7588591042337635\t 0.7505823286451517\t 0.8565790235646419\t 0.8565790230621676\n",
            "6  \t [ 9.52993971  0.33702013  5.          0.64331783 18.          0.12071935]\t 1.1223174585019604\t 0.7505823286451517\t 0.8525094752108469\t 0.8525094752108469\n",
            "7  \t [0.85218043 8.76361565 5.         0.95141234 5.         0.18096954]\t 1.1214303445154166\t 0.7505823286451517\t 0.8588754542035886\t 0.8588754542035886\n",
            "8  \t [3.86538132 1.78391589 5.         0.96297978 2.         0.70393647]\t 0.7748418973051396\t 0.7505823286451517\t 0.8641156822561163\t 0.8641156822561163\n",
            "9  \t [ 3.4576838   6.55355466  6.          0.72569372 18.          0.65149337]\t 0.7711444259364786\t 0.7505823286451517\t 0.8607297815497936\t 0.8607297813889866\n",
            "10 \t [ 9.3450382   8.82768787 11.          0.76868692  7.          0.8502727 ]\t 0.7697498163162092\t 0.7505823286451517\t 0.857752310091251\t 0.857752310091251\n",
            "11 \t [ 9.65147322  0.33792642 12.          0.92327424 17.          0.84355403]\t 0.766386809152656\t 0.7505823286451517\t 0.855140114850927\t 0.855140114850927\n",
            "12 \t [ 8.48843563  0.37785156 11.          0.83297408  1.          0.855572  ]\t 0.7753874640601797\t 0.7505823286451517\t 0.852797094699256\t 0.852797094699256\n",
            "13 \t [0.69118951 0.05924245 6.         0.53870729 9.         0.9249957 ]\t 0.7741345186712877\t 0.7505823286451517\t 0.8508233687336277\t 0.8508233687336277\n",
            "14 \t [ 0.51187296  7.77314276 11.          0.63389119 15.          0.16589245]\t 1.128318323313763\t 0.7505823286451517\t 0.8490753505060129\t 0.8490753505060129\n",
            "15 \t [9.41541409 7.69245319 5.         0.52626745 1.         0.60186246]\t 0.8233136201842758\t 0.7505823286451517\t 0.8530738345192358\t 0.8530738345192358\n",
            "16 \t [ 1.59376327  9.3637724   5.          0.56698742 13.          0.29635446]\t 0.9579981335802007\t 0.7505823286451517\t 0.8520078736550539\t 0.8520078736550539\n",
            "17 \t [ 5.61148944  3.45544791  5.          0.91442364 14.          0.13327309]\t 1.1218321579495154\t 0.7505823286451517\t 0.8528316765227306\t 0.8528316169367908\n",
            "18 \t [ 4.82972366  5.4211619  12.          0.82490157 12.          0.16791728]\t 1.1250076355736034\t 0.7505823286451517\t 0.8559973356672396\t 0.8559972483465732\n",
            "19 \t [ 1.32241565  0.         14.          0.60779565 13.05777248  0.95220729]\t 0.7706794849294656\t 0.7505823286451517\t 0.858924980301848\t 0.8589251076037587\n",
            "20 \t [ 7.97119076  8.60858359  5.          0.89580835 19.          0.23533594]\t 1.1218263155772958\t 0.7505823286451517\t 0.8572765499506165\t 0.8572765496002358\n",
            "21 \t [ 2.5544629   5.29923202 14.          0.70981162  6.          0.74924795]\t 0.764800020192529\t 0.7505823286451517\t 0.8598514511736614\t 0.8598514511736614\n",
            "22 \t [ 2.56416717  0.15610938 12.          0.9617952   2.          0.74332064]\t 0.7555365789648139\t 0.7505823286451517\t 0.858241807376119\t 0.858241807376119\n",
            "23 \t [4.54498845 4.73987501 6.         0.7658368  6.         0.15012886]\t 1.1250394819981728\t 0.7505823286451517\t 0.8566497665870544\t 0.8566497665870544\n",
            "24 \t [9.26767626 0.09691703 5.         0.59554562 3.         0.95249041]\t 0.787453544034457\t 0.7505823286451517\t 0.859013215974024\t 0.859013215974024\n",
            "25 \t [ 2.07051041  1.52366516 10.          0.69512439 11.          0.21098416]\t 1.1241433422193938\t 0.7505823286451517\t 0.8577865991275369\t 0.8577865991275369\n",
            "26 \t [ 0.          5.13815085  9.20272576  1.         20.          0.1       ]\t 1.0718807582621017\t 0.7505823286451517\t 0.8599411916320168\t 0.8599408016597873\n",
            "27 \t [ 0.64129375  0.71719798 15.          0.5        20.          1.        ]\t 0.7641628145576637\t 0.7505823286451517\t 0.8613943461652821\t 0.8613944794757894\n",
            "28 \t [ 9.328728    0.19822705 12.          0.75281018 11.          0.88551078]\t 0.753178217146275\t 0.7505823286451517\t 0.8600366678254574\t 0.8600366678254574\n",
            "29 \t [4.07267045 7.91714469 5.         0.61011129 1.         0.91646793]\t 0.7908463797463604\t 0.7505823286451517\t 0.8586544771036303\t 0.8586537319457075\n",
            "30 \t [ 1.72078221  1.85338202  5.          0.88677213 19.          0.37340399]\t 0.9482500218060748\t 0.7505823286451517\t 0.8576225739292164\t 0.8576220260145785\n"
          ]
        },
        {
          "output_type": "execute_result",
          "data": {
            "text/plain": [
              "61055.818606721616"
            ]
          },
          "metadata": {},
          "execution_count": 24
        }
      ]
    },
    {
      "cell_type": "code",
      "metadata": {
        "id": "8kEnTd7MUdlv",
        "colab": {
          "base_uri": "https://localhost:8080/"
        },
        "outputId": "b62e9f83-c1da-457d-e31c-a6c1d38269e2"
      },
      "source": [
        "### Bayesian optimization runs (x20): 'approx' Acquisition Function run number = 5\n",
        "\n",
        "np.random.seed(run_num_5)\n",
        "surrogate_approx_5 = dGaussianProcess(cov_func, optimize=opt)\n",
        "\n",
        "X_train5, X_test5, y_train5, y_test5 = train_test_split(X, y, test_size=test_perc, random_state=run_num_5)\n",
        "\n",
        "def f_syn_polarity5(alpha, gamma, max_depth, subsample, min_child_weight, colsample):\n",
        "    reg = XGBRegressor(reg_alpha=alpha, gamma=gamma, max_depth=int(max_depth), subsample=subsample, min_child_weight=min_child_weight,\n",
        "          colsample_bytree=colsample, n_estimators = n_est, random_state=run_num_5, objective = 'reg:squarederror')\n",
        "    score = np.array(cross_val_score(reg, X=X_train5, y=y_train5).mean())\n",
        "    return operator * score\n",
        "\n",
        "approx_5 = GPGO_multi(surrogate_approx_5, Acquisition_grad(util), f_syn_polarity5, param, n_jobs = -1) # define BayesOpt\n",
        "approx_5.run(max_iter = max_iter, init_evals = n_init) # run\n",
        "\n",
        "### Return optimal parameters' set:\n",
        "params_approx_5 = approx_5.getResult()[0]\n",
        "params_approx_5['max_depth'] = int(params_approx_5['max_depth'])\n",
        "params_approx_5['min_child_weight'] = int(params_approx_5['min_child_weight'])\n",
        "\n",
        "### Re-train with optimal parameters, run predictons:\n",
        "dX_approx_train5 = xgb.DMatrix(X_train5, y_train5)\n",
        "dX_approx_test5 = xgb.DMatrix(X_test5, y_test5)\n",
        "model_approx_5 = xgb.train(params_approx_5, dX_approx_train5)\n",
        "pred_approx_5 = model_approx_5.predict(dX_approx_test5)\n",
        "\n",
        "rmse_approx_5 = np.sqrt(mean_squared_error(pred_approx_5, y_test5))\n",
        "rmse_approx_5"
      ],
      "execution_count": null,
      "outputs": [
        {
          "output_type": "stream",
          "name": "stdout",
          "text": [
            "Evaluation \t Proposed point \t  Current eval. \t  Best eval. \t         Max. ExactAcqFunc \t Max. ApproxAcqFunc \n",
            "init\t [ 2.21993171  8.70732306 11.          0.68186845 10.          0.53957007]\t 0.7978949387548113\t 0.7689238087022429\t    \t    \n",
            "init\t [ 6.11743863  7.65907856  5.          0.64840025 16.          0.82745351]\t 0.7689238087022429\t 0.7689238087022429\t    \t    \n",
            "init\t [ 6.49458883  8.19472793  6.          0.93996852 19.          0.36647194]\t 0.9009085979032214\t 0.7689238087022429\t    \t    \n",
            "init\t [ 6.28787909  5.7983781   6.          0.63290956 17.          0.18402673]\t 0.9616956128686873\t 0.7689238087022429\t    \t    \n",
            "init\t [8.26554249 8.33492742 9.         0.97900675 3.         0.26957319]\t 0.8968042534595716\t 0.7689238087022429\t    \t    \n",
            "1  \t [1.95474956 1.21548467 5.         0.65548996 6.         0.3261206 ]\t 0.9141640599232991\t 0.7689238087022429\t 0.8556018609266477\t 0.8556018609266477\n",
            "2  \t [ 3.90043826  0.30059527 11.          0.95660877 13.          0.16396145]\t 0.9657302753232895\t 0.7689238087022429\t 0.8581963081067501\t 0.8581963081067501\n",
            "3  \t [ 1.89102498  3.81201457 14.          0.79693323  4.          0.52365093]\t 0.7975878945767783\t 0.7689238087022429\t 0.8621897402980095\t 0.8621897402980095\n",
            "4  \t [ 8.98063632  2.97885127  9.          0.64249728 18.          0.16342995]\t 0.961106002845105\t 0.7689238087022429\t 0.8612044337953407\t 0.8612044337953407\n",
            "5  \t [ 7.2080363   0.14020863 14.          0.70262402  1.          0.81354205]\t 0.7812267618464406\t 0.7689238087022429\t 0.8622559293112603\t 0.8622559293112603\n",
            "6  \t [0.43749481 8.4213957  8.         0.8974006  1.         0.32861568]\t 0.9035768104886805\t 0.7689238087022429\t 0.8596526943215583\t 0.8596526943215544\n",
            "7  \t [4.37003348 9.87890289 5.         0.65374913 7.         0.62009063]\t 0.8037187246418197\t 0.7689238087022429\t 0.8604251805836768\t 0.8604251805836768\n",
            "\u001b[1m\u001b[92m8\u001b[0m\t \u001b[1m\u001b[92m[ 2.68679241  7.25440098 14.          0.65390023 17.          0.99358304]\u001b[0m\t \u001b[1m\u001b[92m0.7060994227407983\u001b[0m\t \u001b[1m\u001b[92m0.7060994227407983\u001b[0m\t \u001b[1m\u001b[92m0.8588664710117866\u001b[0m\t \u001b[1m\u001b[92m0.8588664710117866\u001b[0m\n",
            "9  \t [ 9.58792626  8.48977785 13.          0.60628176  9.          0.18518956]\t 0.9684252162072007\t 0.7060994227407983\t 0.8052193225898175\t 0.8052193225898175\n",
            "10 \t [10.         10.         13.67601302  0.5        20.          0.1       ]\t 0.973457539332211\t 0.7060994227407983\t 0.8075959026235563\t 0.8075959026641022\n",
            "11 \t [9.83467698 2.51972621 7.         0.55927725 8.         0.21207992]\t 0.9683028793853978\t 0.7060994227407983\t 0.8097566580605683\t 0.8097566580605683\n",
            "12 \t [ 0.49416106  7.25080418  6.          0.86593272 15.          0.18239415]\t 0.9681667382285498\t 0.7060994227407983\t 0.8115393360710932\t 0.8115393360710932\n",
            "13 \t [4.29434972 2.01082809 8.         0.64047641 1.         0.68777935]\t 0.7751802690627648\t 0.7060994227407983\t 0.8131061063255689\t 0.8131061063255689\n",
            "14 \t [ 9.58736014  2.45468429 12.          0.89338522 12.          0.76778503]\t 0.7343751804493104\t 0.7060994227407983\t 0.8114317877685902\t 0.8114317877685902\n",
            "15 \t [ 1.02937954  1.87162456 12.          0.80403735 18.          0.49076122]\t 0.8576329235456368\t 0.7060994227407983\t 0.8093964805541819\t 0.8093964691780663\n",
            "16 \t [ 5.90866369  1.23912394  5.          0.73203526 13.          0.44895514]\t 0.8742114371455234\t 0.7060994227407983\t 0.8091784915125995\t 0.8091784915125995\n",
            "17 \t [3.35483601 6.04519575 9.         0.66543363 5.         0.97731627]\t 0.7137833679191798\t 0.7060994227407983\t 0.8092063639017804\t 0.8092063639017804\n",
            "18 \t [ 9.73905766  7.12200775  5.          0.85875901 11.          0.99496281]\t 0.71823877936225\t 0.7060994227407983\t 0.8073213364168794\t 0.8073213364168794\n",
            "\u001b[1m\u001b[92m19\u001b[0m\t \u001b[1m\u001b[92m[ 6.39241488  5.12739052 12.74324349  1.         20.          1.        ]\u001b[0m\t \u001b[1m\u001b[92m0.6983883346120159\u001b[0m\t \u001b[1m\u001b[92m0.6983883346120159\u001b[0m\t \u001b[1m\u001b[92m0.8056412882630631\u001b[0m\t \u001b[1m\u001b[92m0.8056413027501557\u001b[0m\n",
            "20 \t [ 2.93448298  5.80717368  5.          0.89608154 19.          0.6387738 ]\t 0.7650562704693341\t 0.6983883346120159\t 0.7984101951704451\t 0.7984101951704451\n",
            "21 \t [ 0.15773168  2.32643207  7.          0.74406654 13.          0.24500907]\t 0.9632417990630178\t 0.6983883346120159\t 0.7968133897199835\t 0.796813370046453\n",
            "22 \t [ 7.64696438  0.89856057 12.02076683  0.6772705   7.55057361  0.76070654]\t 0.7522656647664941\t 0.6983883346120159\t 0.7981313684279274\t 0.798130053698783\n",
            "23 \t [ 0.14337166  3.83051228 13.          0.67084469 13.          0.27589041]\t 0.8967844079175256\t 0.6983883346120159\t 0.7971093616301049\t 0.797109041058892\n",
            "24 \t [ 0.          8.50569675  9.80193586  1.         20.          0.1       ]\t 0.9959423911657188\t 0.6983883346120159\t 0.7975837231771763\t 0.7975839726915582\n",
            "25 \t [ 7.8290944   6.65463898 14.          0.74840184 15.          0.9196642 ]\t 0.7057907555034495\t 0.6983883346120159\t 0.7991064368977764\t 0.7991063490221079\n",
            "\u001b[1m\u001b[92m26\u001b[0m\t \u001b[1m\u001b[92m[ 5.15210922  0.          8.99998553  1.         20.          1.        ]\u001b[0m\t \u001b[1m\u001b[92m0.6978240220717282\u001b[0m\t \u001b[1m\u001b[92m0.6978240220717282\u001b[0m\t \u001b[1m\u001b[92m0.7977770807478827\u001b[0m\t \u001b[1m\u001b[92m0.7977773501668208\u001b[0m\n",
            "\u001b[1m\u001b[92m27\u001b[0m\t \u001b[1m\u001b[92m[ 6.72997514  0.60780575 14.          0.89835235 18.          0.97859978]\u001b[0m\t \u001b[1m\u001b[92m0.6974052019541508\u001b[0m\t \u001b[1m\u001b[92m0.6974052019541508\u001b[0m\t \u001b[1m\u001b[92m0.7960231426324231\u001b[0m\t \u001b[1m\u001b[92m0.796022790822585\u001b[0m\n",
            "28 \t [9.64880583 0.85455793 9.         0.80366346 1.         0.54097439]\t 0.8161210565758094\t 0.6974052019541508\t 0.7944610358802392\t 0.7944609154862341\n",
            "29 \t [ 1.2871985   0.59719713 12.          0.68110782  8.          0.26193603]\t 0.8971671573864249\t 0.6974052019541508\t 0.7942187511606938\t 0.7942186809192174\n",
            "30 \t [ 0.45261014  0.         12.70756171  1.          1.          0.1       ]\t 1.0006699703610635\t 0.6974052019541508\t 0.7946764501421878\t 0.7946760286681277\n"
          ]
        },
        {
          "output_type": "execute_result",
          "data": {
            "text/plain": [
              "59612.82267483437"
            ]
          },
          "metadata": {},
          "execution_count": 25
        }
      ]
    },
    {
      "cell_type": "code",
      "metadata": {
        "id": "OjVSH6caUgyy",
        "colab": {
          "base_uri": "https://localhost:8080/"
        },
        "outputId": "33946ae0-079d-4296-e900-220f81390d56"
      },
      "source": [
        "### Bayesian optimization runs (x20): 'approx' Acquisition Function run number = 6\n",
        "\n",
        "np.random.seed(run_num_6)\n",
        "surrogate_approx_6 = dGaussianProcess(cov_func, optimize=opt)\n",
        "\n",
        "X_train6, X_test6, y_train6, y_test6 = train_test_split(X, y, test_size=test_perc, random_state=run_num_6)\n",
        "\n",
        "def f_syn_polarity6(alpha, gamma, max_depth, subsample, min_child_weight, colsample):\n",
        "    reg = XGBRegressor(reg_alpha=alpha, gamma=gamma, max_depth=int(max_depth), subsample=subsample, min_child_weight=min_child_weight,\n",
        "          colsample_bytree=colsample, n_estimators = n_est, random_state=run_num_6, objective = 'reg:squarederror')\n",
        "    score = np.array(cross_val_score(reg, X=X_train6, y=y_train6).mean())\n",
        "    return operator * score\n",
        "\n",
        "approx_6 = GPGO_multi(surrogate_approx_6, Acquisition_grad(util), f_syn_polarity6, param, n_jobs = -1) # define BayesOpt\n",
        "approx_6.run(max_iter = max_iter, init_evals = n_init) # run\n",
        "\n",
        "### Return optimal parameters' set:\n",
        "params_approx_6 = approx_6.getResult()[0]\n",
        "params_approx_6['max_depth'] = int(params_approx_6['max_depth'])\n",
        "params_approx_6['min_child_weight'] = int(params_approx_6['min_child_weight'])\n",
        "\n",
        "### Re-train with optimal parameters, run predictons:\n",
        "dX_approx_train6 = xgb.DMatrix(X_train6, y_train6)\n",
        "dX_approx_test6 = xgb.DMatrix(X_test6, y_test6)\n",
        "model_approx_6 = xgb.train(params_approx_6, dX_approx_train6)\n",
        "pred_approx_6 = model_approx_6.predict(dX_approx_test6)\n",
        "\n",
        "rmse_approx_6 = np.sqrt(mean_squared_error(pred_approx_6, y_test6))\n",
        "rmse_approx_6"
      ],
      "execution_count": null,
      "outputs": [
        {
          "output_type": "stream",
          "name": "stdout",
          "text": [
            "Evaluation \t Proposed point \t  Current eval. \t  Best eval. \t         Max. ExactAcqFunc \t Max. ApproxAcqFunc \n",
            "init\t [8.92860151 3.31979805 5.         0.99251441 2.         0.57683563]\t 0.8708842589582968\t 0.8009237324889021\t    \t    \n",
            "init\t [4.18807429 3.35407849 9.         0.87750649 3.         0.56623277]\t 0.868843701878103\t 0.8009237324889021\t    \t    \n",
            "init\t [ 5.788586    6.45355096 14.          0.70660047 12.          0.82154882]\t 0.8009237324889021\t 0.8009237324889021\t    \t    \n",
            "init\t [4.58184578 6.73834679 5.         0.90108528 3.         0.65482895]\t 0.8412285708806564\t 0.8009237324889021\t    \t    \n",
            "init\t [ 4.42510505  5.75952352 14.          0.97882365 15.          0.29525604]\t 1.0874405633037085\t 0.8009237324889021\t    \t    \n",
            "1  \t [ 2.83859384  1.8954219   7.          0.66740302 13.          0.2701964 ]\t 1.077285755760575\t 0.8009237324889021\t 0.8926954707190888\t 0.8926954707190888\n",
            "2  \t [ 8.38264396  7.97650716 14.          0.82584689  4.          0.25017455]\t 1.1030510584286708\t 0.8009237324889021\t 0.9014275717661268\t 0.9014275717661268\n",
            "3  \t [8.90357673 8.23982464 5.         0.66456142 9.         0.34395649]\t 1.0698458362482097\t 0.8009237324889021\t 0.9087976047174616\t 0.9087976047171942\n",
            "4  \t [ 8.97809086  0.52071511 12.          0.96314156 10.          0.21133381]\t 1.0952568725496277\t 0.8009237324889021\t 0.9129691372346146\t 0.9129691372333034\n",
            "\u001b[1m\u001b[92m5\u001b[0m\t \u001b[1m\u001b[92m[ 0.84801146  1.44124026 14.          0.54887437  7.          0.93547384]\u001b[0m\t \u001b[1m\u001b[92m0.7880607112692197\u001b[0m\t \u001b[1m\u001b[92m0.7880607112692197\u001b[0m\t \u001b[1m\u001b[92m0.9170891449693488\u001b[0m\t \u001b[1m\u001b[92m0.9170891449693488\u001b[0m\n",
            "6  \t [ 8.37754293  7.69636444  8.          0.98881796 16.          0.46623185]\t 0.8829825605031049\t 0.7880607112692197\t 0.9017355588390371\t 0.9017355588383517\n",
            "7  \t [ 0.5654966   9.52584762 14.          0.82016688  4.          0.10717254]\t 1.1024724416092895\t 0.7880607112692197\t 0.8996003890820565\t 0.8996003890820565\n",
            "\u001b[1m\u001b[92m8\u001b[0m\t \u001b[1m\u001b[92m[ 6.75909949  0.94220097  9.          0.71741448 19.          0.94972086]\u001b[0m\t \u001b[1m\u001b[92m0.7785043750594152\u001b[0m\t \u001b[1m\u001b[92m0.7785043750594152\u001b[0m\t \u001b[1m\u001b[92m0.903196427503634\u001b[0m\t \u001b[1m\u001b[92m0.9031964275030923\u001b[0m\n",
            "9  \t [ 1.43292764  9.31823681  5.          0.51738676 10.          0.30600768]\t 1.0634397583136046\t 0.7785043750594152\t 0.8917268709443517\t 0.8917268709443517\n",
            "\u001b[1m\u001b[92m10\u001b[0m\t \u001b[1m\u001b[92m[ 0.09135886  8.11961466 10.          0.74013552 12.          0.97362941]\u001b[0m\t \u001b[1m\u001b[92m0.7744953455912423\u001b[0m\t \u001b[1m\u001b[92m0.7744953455912423\u001b[0m\t \u001b[1m\u001b[92m0.8940107758052749\u001b[0m\t \u001b[1m\u001b[92m0.8940107758052749\u001b[0m\n",
            "11 \t [ 9.49126464  2.25575335  7.          0.89398566 13.          0.76947203]\t 0.7887884221082111\t 0.7744953455912423\t 0.8874269469121846\t 0.8874269398877995\n",
            "12 \t [ 2.98453858  8.8700865   6.          0.73955182 19.          0.28620498]\t 1.0699439848269314\t 0.7744953455912423\t 0.884725443150255\t 0.884725443150255\n",
            "13 \t [0.2400873  1.61429062 5.         0.72296529 1.         0.1077861 ]\t 1.0889575663939979\t 0.7744953455912423\t 0.8868822489531465\t 0.8868822464188513\n",
            "14 \t [9.89801174 9.77563967 9.         0.68555662 3.         0.83921118]\t 0.804976007347914\t 0.7744953455912423\t 0.8891775041570797\t 0.889177431536534\n",
            "\u001b[1m\u001b[92m15\u001b[0m\t \u001b[1m\u001b[92m[ 0.50127522  1.94924928 11.          0.89270197 19.          0.91286914]\u001b[0m\t \u001b[1m\u001b[92m0.7669797183304906\u001b[0m\t \u001b[1m\u001b[92m0.7669797183304906\u001b[0m\t \u001b[1m\u001b[92m0.8869809080682414\u001b[0m\t \u001b[1m\u001b[92m0.8869809080682414\u001b[0m\n",
            "16 \t [6.55109905 2.29203942 6.         0.7269974  8.         0.87997636]\t 0.7880946868581832\t 0.7669797183304906\t 0.8785934840455955\t 0.8785934840455955\n",
            "17 \t [ 5.34746512  3.38521677 14.          0.73339647  4.          0.14820244]\t 1.098903895539221\t 0.7669797183304906\t 0.876646410733785\t 0.8766464107337517\n",
            "18 \t [0.75190021 2.99821111 7.         0.73112778 8.         0.11979456]\t 1.0909386577928757\t 0.7669797183304906\t 0.8788577948742842\t 0.8788577948742842\n",
            "19 \t [ 5.98453698  2.00451687 13.          0.80337068 13.          0.24875337]\t 1.1009731307154418\t 0.7669797183304906\t 0.8808232010705134\t 0.8808232010705134\n",
            "20 \t [3.9998181  0.         9.85768684 0.69254177 7.98920318 0.1       ]\t 1.0976187099259935\t 0.7669797183304906\t 0.8826945203415033\t 0.8826928317897982\n",
            "21 \t [4.70222718 7.76335614 9.         0.92367012 9.         0.28724782]\t 1.0850491230057298\t 0.7669797183304906\t 0.8843985433341612\t 0.8843985433341612\n",
            "22 \t [ 0.15151883  3.04875397  5.          0.61495161 19.          0.79420245]\t 0.8249739166533127\t 0.7669797183304906\t 0.8858399217054781\t 0.8858399217054781\n",
            "23 \t [0.09752792 7.56070281 9.         0.95937939 3.         0.71279346]\t 0.815896118778136\t 0.7669797183304906\t 0.8843474981747553\t 0.8843472588848187\n",
            "24 \t [ 9.55684885  4.02134483 11.          0.82079508  6.          0.83404351]\t 0.7969303730572236\t 0.7669797183304906\t 0.8829344491336146\t 0.8829344491336146\n",
            "25 \t [ 3.81847995  9.43141013 12.          0.56182914 19.          0.95661081]\t 0.7882906269305859\t 0.7669797183304906\t 0.8814300246525029\t 0.8814300246525029\n",
            "\u001b[1m\u001b[92m26\u001b[0m\t \u001b[1m\u001b[92m[10.         10.         11.92512628  1.          8.99961264  1.        ]\u001b[0m\t \u001b[1m\u001b[92m0.7657188788317282\u001b[0m\t \u001b[1m\u001b[92m0.7657188788317282\u001b[0m\t \u001b[1m\u001b[92m0.8799276333839966\u001b[0m\t \u001b[1m\u001b[92m0.8799280350583415\u001b[0m\n",
            "27 \t [10.          0.14164731 15.          0.5         1.          0.1       ]\t 1.091132272253347\t 0.7657188788317282\t 0.8773758368689514\t 0.8773763741327575\n",
            "28 \t [ 9.71259893  3.85596878 11.19063174  0.5        16.29091597  0.36822767]\t 1.0684376748395643\t 0.7657188788317282\t 0.8787849506544008\t 0.8787835780578113\n",
            "29 \t [ 1.0021313   4.9490761  14.          0.62016719  1.          0.18537333]\t 1.0940058036289873\t 0.7657188788317282\t 0.8798809555620584\t 0.8798804829171547\n",
            "30 \t [ 6.80447195  6.69417926  5.          0.74586765 13.          0.74060763]\t 0.840539561611347\t 0.7657188788317282\t 0.8811801007810901\t 0.8811801007810901\n"
          ]
        },
        {
          "output_type": "execute_result",
          "data": {
            "text/plain": [
              "60612.276130930455"
            ]
          },
          "metadata": {},
          "execution_count": 26
        }
      ]
    },
    {
      "cell_type": "code",
      "metadata": {
        "id": "J1WsphKSUj19",
        "colab": {
          "base_uri": "https://localhost:8080/"
        },
        "outputId": "bbcd87fb-45c8-41ee-ac21-85dfa028fe18"
      },
      "source": [
        "### Bayesian optimization runs (x20): 'approx' Acquisition Function run number = 7\n",
        "\n",
        "np.random.seed(run_num_7)\n",
        "surrogate_approx_7 = dGaussianProcess(cov_func, optimize=opt)\n",
        "\n",
        "X_train7, X_test7, y_train7, y_test7 = train_test_split(X, y, test_size=test_perc, random_state=run_num_7)\n",
        "\n",
        "def f_syn_polarity7(alpha, gamma, max_depth, subsample, min_child_weight, colsample):\n",
        "    reg = XGBRegressor(reg_alpha=alpha, gamma=gamma, max_depth=int(max_depth), subsample=subsample, min_child_weight=min_child_weight,\n",
        "          colsample_bytree=colsample, n_estimators = n_est, random_state=run_num_7, objective = 'reg:squarederror')\n",
        "    score = np.array(cross_val_score(reg, X=X_train7, y=y_train7).mean())\n",
        "    return operator * score\n",
        "\n",
        "approx_7 = GPGO_multi(surrogate_approx_7, Acquisition_grad(util), f_syn_polarity7, param, n_jobs = -1) # define BayesOpt\n",
        "approx_7.run(max_iter = max_iter, init_evals = n_init) # run\n",
        "\n",
        "### Return optimal parameters' set:\n",
        "params_approx_7 = approx_7.getResult()[0]\n",
        "params_approx_7['max_depth'] = int(params_approx_7['max_depth'])\n",
        "params_approx_7['min_child_weight'] = int(params_approx_7['min_child_weight'])\n",
        "\n",
        "### Re-train with optimal parameters, run predictons:\n",
        "dX_approx_train7 = xgb.DMatrix(X_train7, y_train7)\n",
        "dX_approx_test7 = xgb.DMatrix(X_test7, y_test7)\n",
        "model_approx_7 = xgb.train(params_approx_7, dX_approx_train7)\n",
        "pred_approx_7 = model_approx_7.predict(dX_approx_test7)\n",
        "\n",
        "rmse_approx_7 = np.sqrt(mean_squared_error(pred_approx_7, y_test7))\n",
        "rmse_approx_7"
      ],
      "execution_count": null,
      "outputs": [
        {
          "output_type": "stream",
          "name": "stdout",
          "text": [
            "Evaluation \t Proposed point \t  Current eval. \t  Best eval. \t         Max. ExactAcqFunc \t Max. ApproxAcqFunc \n",
            "init\t [0.76308289 7.79918792 8.         0.98911145 8.         0.98019056]\t 0.7260880637055529\t 0.7260880637055529\t    \t    \n",
            "init\t [ 5.3849587   5.01120464 13.          0.74994125  5.          0.88192131]\t 0.7424588384015385\t 0.7260880637055529\t    \t    \n",
            "init\t [ 3.30839249  3.9294231  12.          0.6440728  13.          0.41137564]\t 0.8412720456029797\t 0.7260880637055529\t    \t    \n",
            "init\t [9.29528191 2.6258377  5.         0.80027446 1.         0.86616513]\t 0.7736412232573235\t 0.7260880637055529\t    \t    \n",
            "init\t [ 1.74052764  7.90763512 14.          0.7244129   4.          0.77536887]\t 0.7650415360356615\t 0.7260880637055529\t    \t    \n",
            "1  \t [3.43305102 3.00339076 8.         0.71322679 4.         0.33322219]\t 0.9222990750260575\t 0.7260880637055529\t 0.7976991380620136\t 0.7976991380620136\n",
            "2  \t [ 8.27276329  5.80705371  6.          0.6575149  16.          0.66596626]\t 0.7908681556639724\t 0.7260880637055529\t 0.8047852874790835\t 0.8047852874790835\n",
            "3  \t [ 8.97988092  8.79483413 14.          0.55379557 13.          0.92924117]\t 0.7532691574021181\t 0.7260880637055529\t 0.8045185654668491\t 0.8045185654668491\n",
            "4  \t [ 6.31879092  0.69939064  5.          0.5769645  12.          0.84874959]\t 0.7781432084155051\t 0.7260880637055529\t 0.8031183350480758\t 0.8031183350480758\n",
            "5  \t [ 9.90436619  1.68371673 11.          0.68947817 16.          0.400226  ]\t 0.8455317589117171\t 0.7260880637055529\t 0.8027287662082622\t 0.8027287662082622\n",
            "6  \t [ 2.27614069  9.14855814 13.          0.84138599 18.          0.79014716]\t 0.7441046132441587\t 0.7260880637055529\t 0.8042271559639385\t 0.8042271559639385\n",
            "7  \t [ 0.63761793  0.73483023 14.          0.60715475  1.          0.28353184]\t 0.938335419027365\t 0.7260880637055529\t 0.8030287899648478\t 0.8030287899648478\n",
            "8  \t [ 1.95327375  0.09413692  7.          0.63967551 19.          0.52105045]\t 0.7960221365344106\t 0.7260880637055529\t 0.8065307014201105\t 0.8065307014201105\n",
            "9  \t [5.70513125 8.30861013 6.         0.98680016 3.         0.16134411]\t 1.0294289583666938\t 0.7260880637055529\t 0.8063570212785992\t 0.8063570212785992\n",
            "10 \t [ 0.25030147  5.86047618  7.          0.62148035 15.          0.70956246]\t 0.7910871680210387\t 0.7260880637055529\t 0.81121932047704\t 0.81121932047704\n",
            "11 \t [ 6.35215     9.71205645 11.          0.67733044  6.          0.80174708]\t 0.7598305013005808\t 0.7260880637055529\t 0.8106715703264192\t 0.8106715603394\n",
            "12 \t [9.93412004 7.01728008 6.         0.60790736 8.         0.46475011]\t 0.8442442679089369\t 0.7260880637055529\t 0.8096937186906209\t 0.8096937186906209\n",
            "13 \t [ 9.74185418  1.9812272  14.          0.94068286 10.          0.45784207]\t 0.8350939262618722\t 0.7260880637055529\t 0.810140769778306\t 0.810140769778306\n",
            "14 \t [ 1.45077723  9.99574495  5.          0.58320457 19.          0.8020368 ]\t 0.7836394154603632\t 0.7260880637055529\t 0.810397694958787\t 0.810397694958787\n",
            "15 \t [ 0.30180848  0.36339665 10.          0.99951435 11.          0.54137142]\t 0.781788418724712\t 0.7260880637055529\t 0.8099066947015336\t 0.8099066947015336\n",
            "16 \t [7.5058071  0.77198166 5.         0.94542975 7.         0.89710815]\t 0.7549620723858046\t 0.7260880637055529\t 0.8094408181542917\t 0.8094408181542917\n",
            "17 \t [ 0.08258912  2.04682383 12.          0.59206459 18.          0.58057909]\t 0.8001572384936282\t 0.7260880637055529\t 0.808696027123074\t 0.808696027123074\n",
            "18 \t [ 7.87862448  0.37268652 11.          0.83129981  1.          0.83621209]\t 0.7615889956561305\t 0.7260880637055529\t 0.8085443705449933\t 0.8085443705266945\n",
            "19 \t [ 8.02008913  6.8951761  13.          0.63880909 19.          0.69330995]\t 0.7944604067863184\t 0.7260880637055529\t 0.8079746734551788\t 0.8079746734551788\n",
            "20 \t [ 9.02606866  9.9399456   5.          0.69325176 13.          0.80731892]\t 0.7690604297030792\t 0.7260880637055529\t 0.8078035478580541\t 0.8078035478580541\n",
            "21 \t [ 9.27376043  7.79309168 10.          0.72898828  1.          0.60101244]\t 0.8198890214254707\t 0.7260880637055529\t 0.807384072225809\t 0.807384072225809\n",
            "22 \t [ 7.44009568  3.58754262  9.          0.94190933 10.          0.47201335]\t 0.8349543531742487\t 0.7260880637055529\t 0.8075089915911885\t 0.8075089915760683\n",
            "23 \t [ 4.73018243  7.65598776  7.          0.71071788 11.          0.19379468]\t 1.037519317053\t 0.7260880637055529\t 0.8077767727768714\t 0.8077767727768714\n",
            "24 \t [0.70527907 5.59255728 5.         0.86863619 1.         0.35457337]\t 0.9131884722416652\t 0.7260880637055529\t 0.8102552113313061\t 0.8102551657934266\n",
            "25 \t [ 3.0721029   9.1495565  14.          0.66024457 11.          0.72750491]\t 0.7968167015346898\t 0.7260880637055529\t 0.811184476558435\t 0.811184476558435\n",
            "26 \t [ 2.06002331  9.88106062 13.          0.81874566 19.          0.24780841]\t 1.026659800264627\t 0.7260880637055529\t 0.8109616284960495\t 0.8109616284960495\n",
            "27 \t [ 5.21715453  3.56824073  9.99035046  0.5        18.2451326   0.1       ]\t 1.0398848116788284\t 0.7260880637055529\t 0.8107739836895642\t 0.8107737697277593\n",
            "\u001b[1m\u001b[92m28\u001b[0m\t \u001b[1m\u001b[92m[ 7.78992816  3.95226613 15.          1.         14.46115233  1.        ]\u001b[0m\t \u001b[1m\u001b[92m0.7242543943633319\u001b[0m\t \u001b[1m\u001b[92m0.7242543943633319\u001b[0m\t \u001b[1m\u001b[92m0.8128685799684771\u001b[0m\t \u001b[1m\u001b[92m0.8128674215461833\u001b[0m\n",
            "29 \t [ 0.          4.41210025 12.8316804   1.          8.69981509  1.        ]\t 0.7250228111390793\t 0.7242543943633319\t 0.8105809038780264\t 0.8105806782380989\n",
            "30 \t [0.37391981 2.40019589 5.         0.63958121 7.         0.86382806]\t 0.7758710194506595\t 0.7242543943633319\t 0.8098292823290603\t 0.8098288286676951\n"
          ]
        },
        {
          "output_type": "execute_result",
          "data": {
            "text/plain": [
              "60561.957458713245"
            ]
          },
          "metadata": {},
          "execution_count": 27
        }
      ]
    },
    {
      "cell_type": "code",
      "metadata": {
        "id": "hI8sFP4ZUmOs",
        "colab": {
          "base_uri": "https://localhost:8080/"
        },
        "outputId": "731b14d8-ee52-4bff-b9d1-17923498835d"
      },
      "source": [
        "### Bayesian optimization runs (x20): 'approx' Acquisition Function run number = 8\n",
        "\n",
        "np.random.seed(run_num_8)\n",
        "surrogate_approx_8 = dGaussianProcess(cov_func, optimize=opt)\n",
        "\n",
        "X_train8, X_test8, y_train8, y_test8 = train_test_split(X, y, test_size=test_perc, random_state=run_num_8)\n",
        "\n",
        "def f_syn_polarity8(alpha, gamma, max_depth, subsample, min_child_weight, colsample):\n",
        "    reg = XGBRegressor(reg_alpha=alpha, gamma=gamma, max_depth=int(max_depth), subsample=subsample, min_child_weight=min_child_weight,\n",
        "          colsample_bytree=colsample, n_estimators = n_est, random_state=run_num_8, objective = 'reg:squarederror')\n",
        "    score = np.array(cross_val_score(reg, X=X_train8, y=y_train8).mean())\n",
        "    return operator * score\n",
        "\n",
        "approx_8 = GPGO_multi(surrogate_approx_8, Acquisition_grad(util), f_syn_polarity8, param, n_jobs = -1) # define BayesOpt\n",
        "approx_8.run(max_iter = max_iter, init_evals = n_init) # run\n",
        "\n",
        "### Return optimal parameters' set:\n",
        "params_approx_8 = approx_8.getResult()[0]\n",
        "params_approx_8['max_depth'] = int(params_approx_8['max_depth'])\n",
        "params_approx_8['min_child_weight'] = int(params_approx_8['min_child_weight'])\n",
        "\n",
        "### Re-train with optimal parameters, run predictons:\n",
        "dX_approx_train8 = xgb.DMatrix(X_train8, y_train8)\n",
        "dX_approx_test8 = xgb.DMatrix(X_test8, y_test8)\n",
        "model_approx_8 = xgb.train(params_approx_8, dX_approx_train8)\n",
        "pred_approx_8 = model_approx_8.predict(dX_approx_test8)\n",
        "\n",
        "rmse_approx_8 = np.sqrt(mean_squared_error(pred_approx_8, y_test8))\n",
        "rmse_approx_8"
      ],
      "execution_count": null,
      "outputs": [
        {
          "output_type": "stream",
          "name": "stdout",
          "text": [
            "Evaluation \t Proposed point \t  Current eval. \t  Best eval. \t         Max. ExactAcqFunc \t Max. ApproxAcqFunc \n",
            "init\t [ 8.73429403  9.68540663 10.          0.68875849  9.          0.48011572]\t 0.802823873653181\t 0.7393694249818598\t    \t    \n",
            "init\t [ 6.12033333  7.66062926  8.          0.76133734 13.          0.93379456]\t 0.7439561063387327\t 0.7393694249818598\t    \t    \n",
            "init\t [ 1.46524679  7.01527914  7.          0.90913299 10.          0.36016753]\t 0.8573744170126428\t 0.7393694249818598\t    \t    \n",
            "init\t [ 9.73855241  3.33774046 14.          0.53290419  7.          0.7088681 ]\t 0.7605799870908501\t 0.7393694249818598\t    \t    \n",
            "init\t [ 3.00618018  1.82702795 11.          0.75681389 14.          0.98627449]\t 0.7393694249818598\t 0.7393694249818598\t    \t    \n",
            "\u001b[1m\u001b[92m1\u001b[0m\t \u001b[1m\u001b[92m[4.42022545 5.48487111 9.         0.97165909 3.         0.63617522]\u001b[0m\t \u001b[1m\u001b[92m0.7341650428609557\u001b[0m\t \u001b[1m\u001b[92m0.7341650428609557\u001b[0m\t \u001b[1m\u001b[92m0.8115921080166721\u001b[0m\t \u001b[1m\u001b[92m0.8115921080166721\u001b[0m\n",
            "2  \t [ 4.42530022  8.86662399 12.          0.55390756 19.          0.26906902]\t 0.8873087046852387\t 0.7341650428609557\t 0.8052996985433496\t 0.8052996985433496\n",
            "3  \t [ 9.08237751  2.49680746  6.          0.65941352 17.          0.68321352]\t 0.7481675054625107\t 0.7341650428609557\t 0.8097027507131541\t 0.8097027507131541\n",
            "4  \t [9.24101391 3.71625162 7.         0.92041359 7.         0.33094108]\t 0.8633824421289817\t 0.7341650428609557\t 0.8083373351245426\t 0.8083373351245426\n",
            "5  \t [ 2.71549468  6.59835463  5.          0.95307649 18.          0.8022723 ]\t 0.7484161632696045\t 0.7341650428609557\t 0.8106576881999757\t 0.8106576881999757\n",
            "6  \t [ 8.42695368  3.16936553 13.          0.82366295 16.          0.76402556]\t 0.7356192440307244\t 0.7341650428609557\t 0.8094768238472039\t 0.8094768238472039\n",
            "7  \t [ 8.83774177  5.41674027 14.          0.73954397  1.          0.31035075]\t 0.8970855207140378\t 0.7341650428609557\t 0.808226592224545\t 0.808226592224545\n",
            "8  \t [ 0.45904618  0.31422469 12.          0.85221495  5.          0.31125587]\t 0.8688237885855482\t 0.7341650428609557\t 0.8107866763478841\t 0.8107866763478841\n",
            "9  \t [ 0.45485069  5.92046568 13.          0.54575641 15.          0.3753516 ]\t 0.8113677562605297\t 0.7341650428609557\t 0.8123212595221357\t 0.8123212587536899\n",
            "10 \t [ 3.96405062  8.0979425  14.          0.59297393  7.          0.94464131]\t 0.7505018736047322\t 0.7341650428609557\t 0.8125077812575046\t 0.8125077812423896\n",
            "11 \t [9.23421894 1.96715525 6.         0.84213684 1.         0.28111445]\t 0.8673094941420189\t 0.7341650428609557\t 0.8116324507795206\t 0.8116324507795206\n",
            "12 \t [3.47378168 0.90493309 7.         0.70332668 6.         0.717685  ]\t 0.7495116962078379\t 0.7341650428609557\t 0.8127990011689644\t 0.8127990011689644\n",
            "13 \t [ 9.08307561  9.73616604  5.          0.74596783 18.          0.23735578]\t 1.0006633800011113\t 0.7341650428609557\t 0.8119954012026619\t 0.8119954012026619\n",
            "14 \t [1.36072521 8.96337054 5.         0.74382165 2.         0.12580076]\t 1.0049152342399188\t 0.7341650428609557\t 0.8152727492844288\t 0.8152727492844288\n",
            "15 \t [ 3.32794564  9.35873285 13.          0.95404271 12.          0.46503428]\t 0.7875473242676249\t 0.7341650428609557\t 0.8182704578869027\t 0.8182702605404897\n",
            "16 \t [ 6.35979139  1.00897047 10.          0.55338934  9.          0.8992107 ]\t 0.7582154255415187\t 0.7341650428609557\t 0.8177931162444548\t 0.8177930179052225\n",
            "17 \t [0.26711089 1.47965823 5.         0.94483199 1.         0.67844469]\t 0.7465464258433953\t 0.7341650428609557\t 0.8170102404178502\t 0.8170102403967197\n",
            "18 \t [ 8.81884199  0.29557486 11.          0.94612367  2.          0.80082225]\t 0.7361100627039463\t 0.7341650428609557\t 0.8161673843443292\t 0.8161673843443292\n",
            "19 \t [ 4.10272358  0.68972827 14.          0.96902802  1.          0.19814279]\t 0.9980269756487967\t 0.7341650428609557\t 0.8152875028433556\t 0.8152875028433556\n",
            "20 \t [ 1.37842187  7.92618907 14.          0.53493538  2.          0.9994541 ]\t 0.7668011264232973\t 0.7341650428609557\t 0.8175666396913329\t 0.8175666396913329\n",
            "21 \t [8.49304258 9.45420615 6.         0.52298498 5.         0.36186114]\t 0.8922771561735956\t 0.7341650428609557\t 0.8170033261547401\t 0.8170033261547401\n",
            "22 \t [ 0.76637948  1.6718521   5.          0.89180884 15.          0.76035097]\t 0.7539555396832734\t 0.7341650428609557\t 0.8177874016548985\t 0.8177874016548985\n",
            "23 \t [ 5.77112138 10.         14.          0.92292927  1.          0.7510185 ]\t 0.7402811735411001\t 0.7341650428609557\t 0.8171392974741122\t 0.8171375552830474\n",
            "24 \t [ 9.32779145  5.8517174  11.          0.74437014 12.          0.90919993]\t 0.7403513737505086\t 0.7341650428609557\t 0.8164185516024363\t 0.8164183679006348\n",
            "25 \t [ 2.00363843  0.25557305 13.          0.79852696 19.          0.41982126]\t 0.7976814414449638\t 0.7341650428609557\t 0.8157474322285028\t 0.8157474322285028\n",
            "26 \t [3.30725955 0.         8.86107363 1.         1.3142878  0.1       ]\t 0.9831463354390799\t 0.7341650428609557\t 0.8156003226600163\t 0.8155986696315076\n",
            "27 \t [ 7.15040543  9.72926644 14.          0.63776297 15.          0.43073814]\t 0.8013428795907425\t 0.7341650428609557\t 0.8172001809013671\t 0.8172001809013671\n",
            "28 \t [ 1.06330602  9.84698732  5.          0.70744161 15.          0.6986094 ]\t 0.7659547709403087\t 0.7341650428609557\t 0.8170469440776763\t 0.8170469440776763\n",
            "29 \t [ 9.6464663   0.98885701  8.          0.8054878  19.          0.70201828]\t 0.7400612177024872\t 0.7341650428609557\t 0.8166290952830411\t 0.8166290952830411\n",
            "30 \t [ 6.56126126  1.25177273  5.          0.60554055 11.          0.89113205]\t 0.7616725213531993\t 0.7341650428609557\t 0.8160221735995946\t 0.8160218606912477\n"
          ]
        },
        {
          "output_type": "execute_result",
          "data": {
            "text/plain": [
              "60822.98185938519"
            ]
          },
          "metadata": {},
          "execution_count": 28
        }
      ]
    },
    {
      "cell_type": "code",
      "metadata": {
        "id": "Vw5IYus6UpAn",
        "colab": {
          "base_uri": "https://localhost:8080/"
        },
        "outputId": "981f6bbd-6176-4cf8-c198-615419df7f11"
      },
      "source": [
        "### Bayesian optimization runs (x20): 'approx' Acquisition Function run number = 9\n",
        "\n",
        "np.random.seed(run_num_9)\n",
        "surrogate_approx_9 = dGaussianProcess(cov_func, optimize=opt)\n",
        "\n",
        "X_train9, X_test9, y_train9, y_test9 = train_test_split(X, y, test_size=test_perc, random_state=run_num_9)\n",
        "\n",
        "def f_syn_polarity9(alpha, gamma, max_depth, subsample, min_child_weight, colsample):\n",
        "    reg = XGBRegressor(reg_alpha=alpha, gamma=gamma, max_depth=int(max_depth), subsample=subsample, min_child_weight=min_child_weight,\n",
        "          colsample_bytree=colsample, n_estimators = n_est, random_state=run_num_9, objective = 'reg:squarederror')\n",
        "    score = np.array(cross_val_score(reg, X=X_train9, y=y_train9).mean())\n",
        "    return operator * score\n",
        "\n",
        "approx_9 = GPGO_multi(surrogate_approx_9, Acquisition_grad(util), f_syn_polarity9, param, n_jobs = -1) # define BayesOpt\n",
        "approx_9.run(max_iter = max_iter, init_evals = n_init) # run\n",
        "\n",
        "### Return optimal parameters' set:\n",
        "params_approx_9 = approx_9.getResult()[0]\n",
        "params_approx_9['max_depth'] = int(params_approx_9['max_depth'])\n",
        "params_approx_9['min_child_weight'] = int(params_approx_9['min_child_weight'])\n",
        "\n",
        "### Re-train with optimal parameters, run predictons:\n",
        "dX_approx_train9 = xgb.DMatrix(X_train9, y_train9)\n",
        "dX_approx_test9 = xgb.DMatrix(X_test9, y_test9)\n",
        "model_approx_9 = xgb.train(params_approx_9, dX_approx_train9)\n",
        "pred_approx_9 = model_approx_9.predict(dX_approx_test9)\n",
        "\n",
        "rmse_approx_9 = np.sqrt(mean_squared_error(pred_approx_9, y_test9))\n",
        "rmse_approx_9"
      ],
      "execution_count": null,
      "outputs": [
        {
          "output_type": "stream",
          "name": "stdout",
          "text": [
            "Evaluation \t Proposed point \t  Current eval. \t  Best eval. \t         Max. ExactAcqFunc \t Max. ApproxAcqFunc \n",
            "init\t [ 0.10374154  5.01874592 11.          0.50377155  2.          0.29670281]\t 1.1242573295906948\t 0.7785306461595496\t    \t    \n",
            "init\t [ 4.18508181  2.48101168 13.          0.69794293  2.          0.25009871]\t 1.1029639839305116\t 0.7785306461595496\t    \t    \n",
            "init\t [ 8.78559086  9.50964032 13.          0.98395204 11.          0.90820641]\t 0.7785306461595496\t 0.7785306461595496\t    \t    \n",
            "init\t [ 6.66898973  5.47837783  6.          0.97165345 12.          0.72499481]\t 0.8502721808074817\t 0.7785306461595496\t    \t    \n",
            "init\t [ 8.24870465  4.65668475 13.          0.68760467  9.          0.98502332]\t 0.8007936005920335\t 0.7785306461595496\t    \t    \n",
            "1  \t [6.73714319 2.39608167 5.         0.58130302 3.         0.163077  ]\t 1.1406566629866908\t 0.7785306461595496\t 0.8870005166620908\t 0.8870005166620908\n",
            "2  \t [9.23885705 0.0495141  9.         0.5847098  7.         0.79832927]\t 0.8680221667579282\t 0.7785306461595496\t 0.8972376511635669\t 0.8972376511635669\n",
            "3  \t [ 3.67545472  4.78145311 14.          0.63123486 17.          0.4863889 ]\t 0.9335462768267092\t 0.7785306461595496\t 0.8928721827857549\t 0.8928721827857549\n",
            "4  \t [ 0.19525707  9.62416422  9.          0.85280832 10.          0.52998476]\t 0.8430600265636745\t 0.7785306461595496\t 0.8917918565735362\t 0.8917918565735362\n",
            "5  \t [ 1.86381009  9.16177979  5.          0.9344438  17.          0.81379931]\t 0.8496902041278048\t 0.7785306461595496\t 0.8882723607725106\t 0.8882723607725106\n",
            "6  \t [ 2.35563756  1.41309797  5.          0.61127581 14.          0.85229383]\t 0.8749534501849734\t 0.7785306461595496\t 0.88561506796253\t 0.88561506796253\n",
            "7  \t [ 0.65024006  0.20015298 14.          0.90298726 13.          0.95798937]\t 0.7807988843896355\t 0.7785306461595496\t 0.8840327886353194\t 0.8840327886353194\n",
            "8  \t [ 9.89935012  1.80411649  9.          0.642097   16.          0.9768379 ]\t 0.8049376763035934\t 0.7785306461595496\t 0.8807459477806371\t 0.8807459477806371\n",
            "9  \t [ 0.30581668  9.33751049 12.          0.80943195 19.          0.44519139]\t 0.9249945564098354\t 0.7785306461595496\t 0.8784026477589136\t 0.8784026477589136\n",
            "10 \t [ 8.9317907   9.240006   13.          0.55531212  4.          0.42887515]\t 0.9694253204437654\t 0.7785306461595496\t 0.878644852893759\t 0.8786448528937587\n",
            "11 \t [2.63920029 2.84662126 8.         0.81372528 9.         0.70958016]\t 0.8435159505936849\t 0.7785306461595496\t 0.879706233261418\t 0.879706233261418\n",
            "12 \t [1.13081555 8.89608809 5.         0.68242063 1.         0.25767085]\t 1.0885131872740894\t 0.7785306461595496\t 0.8784696461309335\t 0.8784696461309335\n",
            "13 \t [ 8.01493798  7.33950965 10.          0.50609192 18.          0.9957267 ]\t 0.8331781915795082\t 0.7785306461595496\t 0.8816013583359146\t 0.8816013583340623\n",
            "14 \t [ 8.08392893  1.91862949 14.          0.6384648  17.          0.1890016 ]\t 1.1397191606937405\t 0.7785306461595496\t 0.8802532785979751\t 0.8802532647782957\n",
            "15 \t [9.88943457 8.53804591 8.         0.65243257 7.         0.28069664]\t 1.0865137754913423\t 0.7785306461595496\t 0.8838638867248239\t 0.8838638867248239\n",
            "16 \t [ 3.66353781  7.3371628  13.          0.91928424 11.          0.42437688]\t 0.9250856549171413\t 0.7785306461595496\t 0.8862094608923881\t 0.8862094608923881\n",
            "17 \t [ 1.01403007  4.17086177  6.          0.95687904 19.          0.93022379]\t 0.7971026945037708\t 0.7785306461595496\t 0.8860004542933965\t 0.8860004542933965\n",
            "18 \t [ 9.00084206  1.85673124 10.          0.98011614  2.          0.25530052]\t 1.0898882781458181\t 0.7785306461595496\t 0.8843003257302381\t 0.8843003241426104\n",
            "19 \t [2.39281114 8.24027537 6.         0.62412974 6.         0.7547697 ]\t 0.8673494370774986\t 0.7785306461595496\t 0.8863684378628587\t 0.8863684229266124\n",
            "20 \t [ 5.06569568  9.95512019 10.          0.79200421  8.          0.9497448 ]\t 0.7879129069502316\t 0.7785306461595496\t 0.8855296476198713\t 0.8855296476198713\n",
            "21 \t [ 4.2953213   0.27911896 10.          0.9783586  19.          0.46300401]\t 0.9147018504907891\t 0.7785306461595496\t 0.8839636693467565\t 0.8839636693111083\n",
            "22 \t [5.69641029 8.40739134 9.         0.78375397 1.         0.13665985]\t 1.1422177170994923\t 0.7785306461595496\t 0.8837701162884378\t 0.8837701162884378\n",
            "23 \t [ 7.07313313  8.94084339  5.          0.99439529 19.          0.33798274]\t 1.082295397988777\t 0.7785306461595496\t 0.8862044186962834\t 0.8862044186962834\n",
            "24 \t [1.76701563 1.7346788  7.         0.94361827 2.         0.93288306]\t 0.7877982540472509\t 0.7785306461595496\t 0.8877434729379031\t 0.8877434729379031\n",
            "25 \t [ 9.01552706  3.25572905  5.          0.56123527 16.          0.5672937 ]\t 0.8916058888241537\t 0.7785306461595496\t 0.886319885183057\t 0.8863198846708177\n",
            "26 \t [4.86659604 3.67943735 9.         0.97224139 1.         0.90536162]\t 0.7850767782442868\t 0.7785306461595496\t 0.8858647212270514\t 0.885864718597507\n",
            "27 \t [ 0.45983101  9.28402862 13.          0.52786561  6.          0.42783681]\t 0.9682092632615712\t 0.7785306461595496\t 0.8845679680293349\t 0.8845679680293349\n",
            "28 \t [7.20425099 1.56266186 5.         0.88211354 9.         0.78887069]\t 0.8523208185409379\t 0.7785306461595496\t 0.8848688178574411\t 0.8848688178574411\n",
            "29 \t [3.08321869 0.87587118 5.         0.75683721 6.         0.32966687]\t 1.0826160918417504\t 0.7785306461595496\t 0.8841848877881089\t 0.8841848877881089\n",
            "30 \t [ 6.14078962  2.31372054 11.          0.9240952  13.          0.361681  ]\t 1.075890704039311\t 0.7785306461595496\t 0.8855182554364663\t 0.8855182554364663\n"
          ]
        },
        {
          "output_type": "execute_result",
          "data": {
            "text/plain": [
              "60590.73520973802"
            ]
          },
          "metadata": {},
          "execution_count": 29
        }
      ]
    },
    {
      "cell_type": "code",
      "metadata": {
        "id": "YD494io_Ur7V",
        "colab": {
          "base_uri": "https://localhost:8080/"
        },
        "outputId": "02d1bc1d-a492-4d16-a9c6-31681ad70803"
      },
      "source": [
        "### Bayesian optimization runs (x20): 'approx' Acquisition Function run number = 10\n",
        "\n",
        "np.random.seed(run_num_10)\n",
        "surrogate_approx_10 = dGaussianProcess(cov_func, optimize=opt)\n",
        "\n",
        "X_train10, X_test10, y_train10, y_test10 = train_test_split(X, y, test_size=test_perc, random_state=run_num_10)\n",
        "\n",
        "def f_syn_polarity10(alpha, gamma, max_depth, subsample, min_child_weight, colsample):\n",
        "    reg = XGBRegressor(reg_alpha=alpha, gamma=gamma, max_depth=int(max_depth), subsample=subsample, min_child_weight=min_child_weight,\n",
        "          colsample_bytree=colsample, n_estimators = n_est, random_state=run_num_10, objective = 'reg:squarederror')\n",
        "    score = np.array(cross_val_score(reg, X=X_train10, y=y_train10).mean())\n",
        "    return operator * score\n",
        "\n",
        "approx_10 = GPGO_multi(surrogate_approx_10, Acquisition_grad(util), f_syn_polarity10, param, n_jobs = -1) # define BayesOpt\n",
        "approx_10.run(max_iter = max_iter, init_evals = n_init) # run\n",
        "\n",
        "### Return optimal parameters' set:\n",
        "params_approx_10 = approx_10.getResult()[0]\n",
        "params_approx_10['max_depth'] = int(params_approx_10['max_depth'])\n",
        "params_approx_10['min_child_weight'] = int(params_approx_10['min_child_weight'])\n",
        "\n",
        "### Re-train with optimal parameters, run predictons:\n",
        "dX_approx_train10 = xgb.DMatrix(X_train10, y_train10)\n",
        "dX_approx_test10 = xgb.DMatrix(X_test10, y_test10)\n",
        "model_approx_10 = xgb.train(params_approx_10, dX_approx_train10)\n",
        "pred_approx_10 = model_approx_10.predict(dX_approx_test10)\n",
        "\n",
        "rmse_approx_10 = np.sqrt(mean_squared_error(pred_approx_10, y_test10))\n",
        "rmse_approx_10"
      ],
      "execution_count": null,
      "outputs": [
        {
          "output_type": "stream",
          "name": "stdout",
          "text": [
            "Evaluation \t Proposed point \t  Current eval. \t  Best eval. \t         Max. ExactAcqFunc \t Max. ApproxAcqFunc \n",
            "init\t [ 7.71320643  0.20751949  5.          0.72150747 17.          0.12265456]\t 1.0639310256047103\t 0.7797034870948047\t    \t    \n",
            "init\t [ 7.0920801   2.65566127 13.          0.57518893 17.          0.83494165]\t 0.79580179662759\t 0.7797034870948047\t    \t    \n",
            "init\t [ 3.36071584  8.90816531  6.          0.86087766 15.          0.75469196]\t 0.7797034870948047\t 0.7797034870948047\t    \t    \n",
            "init\t [ 5.40880931  1.31458152  8.          0.57108502 14.          0.62551123]\t 0.7990514117028104\t 0.7797034870948047\t    \t    \n",
            "init\t [1.82631436 8.26082248 6.         0.80888349 5.         0.15900694]\t 1.0587036817796267\t 0.7797034870948047\t    \t    \n",
            "\u001b[1m\u001b[92m1\u001b[0m\t \u001b[1m\u001b[92m[8.31989768 3.09778055 7.         0.64798085 3.         0.98471878]\u001b[0m\t \u001b[1m\u001b[92m0.7741723447560037\u001b[0m\t \u001b[1m\u001b[92m0.7741723447560037\u001b[0m\t \u001b[1m\u001b[92m0.8783154086616141\u001b[0m\t \u001b[1m\u001b[92m0.8783154086616141\u001b[0m\n",
            "2  \t [ 3.05837423  0.98670899 11.          0.63714741 18.          0.46809298]\t 0.8572799307158145\t 0.7741723447560037\t 0.8680718579578248\t 0.8680718579578248\n",
            "3  \t [1.0517383  0.29626986 6.         0.71496305 2.         0.21703638]\t 1.0670266318570725\t 0.7741723447560037\t 0.8668924294131124\t 0.8668924294131124\n",
            "\u001b[1m\u001b[92m4\u001b[0m\t \u001b[1m\u001b[92m[ 2.98946783  8.70916918 12.          0.89809007  8.          0.53350402]\u001b[0m\t \u001b[1m\u001b[92m0.7701333999187374\u001b[0m\t \u001b[1m\u001b[92m0.7701333999187374\u001b[0m\t \u001b[1m\u001b[92m0.8737424665065758\u001b[0m\t \u001b[1m\u001b[92m0.8737424665065758\u001b[0m\n",
            "5  \t [ 2.36407072  4.99081503 14.          0.6287111   1.          0.46714602]\t 0.8729171360227909\t 0.7701333999187374\t 0.866532625330119\t 0.866532625330119\n",
            "6  \t [ 9.8195229   7.4353827   6.          0.61370759 10.          0.85798549]\t 0.7916978544037973\t 0.7701333999187374\t 0.8659499021248117\t 0.8659499021248117\n",
            "7  \t [8.82521763 9.96779345 8.         0.82356907 1.         0.3598298 ]\t 0.9915594796443903\t 0.7701333999187374\t 0.8635768261261672\t 0.8635768261261378\n",
            "8  \t [ 9.67396075  2.8020106  13.          0.65074314 10.          0.54373377]\t 0.7966957629406074\t 0.7701333999187374\t 0.866179517876337\t 0.866179517876337\n",
            "9  \t [ 7.94637587  1.09220418 14.          0.87360164  2.          0.44305882]\t 0.8553968290208097\t 0.7701333999187374\t 0.8642489252069435\t 0.8642489252069435\n",
            "10 \t [ 9.32751793  9.16094516  5.          0.70577301 16.          0.29580142]\t 0.9884897936296237\t 0.7701333999187374\t 0.8636611731217355\t 0.8636611731217355\n",
            "11 \t [5.00762913 1.53619492 9.         0.56892944 8.         0.96567366]\t 0.7767785796277231\t 0.7701333999187374\t 0.865675627275389\t 0.8656756272319945\n",
            "12 \t [ 2.40528406  7.71427622 14.          0.55203588 14.          0.3470708 ]\t 0.9922782988108612\t 0.7701333999187374\t 0.8638358700565706\t 0.8638358700565706\n",
            "13 \t [ 1.32528066  5.17118506  5.          0.79204954 19.          0.27904411]\t 0.9748541191382067\t 0.7701333999187374\t 0.8656708455894775\t 0.8656708455894775\n",
            "14 \t [ 0.2734411   0.20947276 13.          0.89386904  7.          0.27558279]\t 0.9834501292605996\t 0.7701333999187374\t 0.8670062593512521\t 0.8670062593512521\n",
            "15 \t [ 7.27196688  9.64356161 12.          0.54965868 11.          0.5605084 ]\t 0.7973060492940224\t 0.7701333999187374\t 0.8683356023652562\t 0.8683355787215399\n",
            "16 \t [ 3.32064678  9.82322091 10.          0.61729748  2.          0.52189899]\t 0.7905976657577247\t 0.7701333999187374\t 0.8669836509751963\t 0.866983627870957\n",
            "17 \t [ 0.10132441  5.76858385  6.          0.51450173 13.          0.7107056 ]\t 0.8156774703332443\t 0.7701333999187374\t 0.8656805933723347\t 0.8656805593795215\n",
            "18 \t [ 6.91588747  6.06067498 11.          0.89445474  4.          0.41055165]\t 0.84931674658171\t 0.7701333999187374\t 0.8647770056033811\t 0.8647770053884073\n",
            "19 \t [ 2.35513569  1.93380053  5.          0.59075001 11.          0.47226935]\t 0.8606513973083221\t 0.7701333999187374\t 0.864327015543769\t 0.8643270148391863\n",
            "20 \t [ 6.57276881 10.          8.98964428  1.         16.78311013  0.16503663]\t 1.0852203748768126\t 0.7701333999187374\t 0.8640389402334792\t 0.8640376296190575\n",
            "21 \t [ 5.32281023  6.03433695  8.56355451  0.5        11.37900295  0.1       ]\t 1.0727990030850294\t 0.7701333999187374\t 0.8664684628221034\t 0.8664679455960317\n",
            "22 \t [ 9.43678992  0.9880373   6.          0.64942758 10.          0.75777997]\t 0.8012137537408351\t 0.7701333999187374\t 0.8685476263247269\t 0.8685476263244604\n",
            "\u001b[1m\u001b[92m23\u001b[0m\t \u001b[1m\u001b[92m[ 9.44951582  5.99779679 14.          0.85197424 19.          0.91766982]\u001b[0m\t \u001b[1m\u001b[92m0.7583516185798583\u001b[0m\t \u001b[1m\u001b[92m0.7583516185798583\u001b[0m\t \u001b[1m\u001b[92m0.8675742980403446\u001b[0m\t \u001b[1m\u001b[92m0.8675742980403446\u001b[0m\n",
            "24 \t [ 8.33810851  9.8990204  14.          0.61893039  5.          0.69227045]\t 0.7823499251514459\t 0.7583516185798583\t 0.8568316636643706\t 0.8568316636643706\n",
            "25 \t [ 9.8750257   5.38059903  9.          0.71778174 19.          0.87413503]\t 0.7810817529858568\t 0.7583516185798583\t 0.8558307454968935\t 0.8558307454968935\n",
            "\u001b[1m\u001b[92m26\u001b[0m\t \u001b[1m\u001b[92m[ 9.47697238  0.         12.99977367  0.82915783 20.          1.        ]\u001b[0m\t \u001b[1m\u001b[92m0.7426451032943887\u001b[0m\t \u001b[1m\u001b[92m0.7426451032943887\u001b[0m\t \u001b[1m\u001b[92m0.854885269487991\u001b[0m\t \u001b[1m\u001b[92m0.8548845640423087\u001b[0m\n",
            "27 \t [ 7.88167693  7.97515501  6.          0.78950848 17.          0.19131965]\t 1.0553390354056282\t 0.7426451032943887\t 0.8411002074070524\t 0.8411002074070524\n",
            "28 \t [ 2.59065203  2.5376593  13.          0.84164115 13.          0.91116769]\t 0.7536178211924246\t 0.7426451032943887\t 0.8421380015566879\t 0.8421380015566879\n",
            "29 \t [ 4.25699415  2.91430274 14.6392132   0.5         5.67272069  0.1       ]\t 1.0732422385607407\t 0.7426451032943887\t 0.8410958170615856\t 0.8410953116283747\n",
            "30 \t [0.13509715 5.72964794 9.         0.97487871 1.         0.25795732]\t 0.9879518530763723\t 0.7426451032943887\t 0.8428372632954799\t 0.8428372632954799\n"
          ]
        },
        {
          "output_type": "execute_result",
          "data": {
            "text/plain": [
              "59860.38779039321"
            ]
          },
          "metadata": {},
          "execution_count": 30
        }
      ]
    },
    {
      "cell_type": "code",
      "metadata": {
        "id": "N03Sq0TvUuhp",
        "colab": {
          "base_uri": "https://localhost:8080/"
        },
        "outputId": "a3c0747c-8e56-479c-9a07-bf594f5d4b28"
      },
      "source": [
        "### Bayesian optimization runs (x20): 'approx' Acquisition Function run number = 11\n",
        "\n",
        "np.random.seed(run_num_11)\n",
        "surrogate_approx_11 = dGaussianProcess(cov_func, optimize=opt)\n",
        "\n",
        "X_train11, X_test11, y_train11, y_test11 = train_test_split(X, y, test_size=test_perc, random_state=run_num_11)\n",
        "\n",
        "def f_syn_polarity11(alpha, gamma, max_depth, subsample, min_child_weight, colsample):\n",
        "    reg = XGBRegressor(reg_alpha=alpha, gamma=gamma, max_depth=int(max_depth), subsample=subsample, min_child_weight=min_child_weight,\n",
        "          colsample_bytree=colsample, n_estimators = n_est, random_state=run_num_11, objective = 'reg:squarederror')\n",
        "    score = np.array(cross_val_score(reg, X=X_train11, y=y_train11).mean())\n",
        "    return operator * score\n",
        "\n",
        "approx_11 = GPGO_multi(surrogate_approx_11, Acquisition_grad(util), f_syn_polarity11, param, n_jobs = -1) # define BayesOpt\n",
        "approx_11.run(max_iter = max_iter, init_evals = n_init) # run\n",
        "\n",
        "### Return optimal parameters' set:\n",
        "params_approx_11 = approx_11.getResult()[0]\n",
        "params_approx_11['max_depth'] = int(params_approx_11['max_depth'])\n",
        "params_approx_11['min_child_weight'] = int(params_approx_11['min_child_weight'])\n",
        "\n",
        "### Re-train with optimal parameters, run predictons:\n",
        "dX_approx_train11 = xgb.DMatrix(X_train11, y_train11)\n",
        "dX_approx_test11 = xgb.DMatrix(X_test11, y_test11)\n",
        "model_approx_11 = xgb.train(params_approx_11, dX_approx_train11)\n",
        "pred_approx_11 = model_approx_11.predict(dX_approx_test11)\n",
        "\n",
        "rmse_approx_11 = np.sqrt(mean_squared_error(pred_approx_11, y_test11))\n",
        "rmse_approx_11"
      ],
      "execution_count": null,
      "outputs": [
        {
          "output_type": "stream",
          "name": "stdout",
          "text": [
            "Evaluation \t Proposed point \t  Current eval. \t  Best eval. \t         Max. ExactAcqFunc \t Max. ApproxAcqFunc \n",
            "init\t [ 1.80269689  0.19475241  6.          0.59705781 13.          0.47818324]\t 0.8177825188141039\t 0.7287337628426743\t    \t    \n",
            "init\t [ 4.85427098  0.12780815  5.          0.91309068 14.          0.86571558]\t 0.7419480115539112\t 0.7287337628426743\t    \t    \n",
            "init\t [ 7.2996447   1.08736072 10.          0.92857712 18.          0.66910061]\t 0.7287337628426743\t 0.7287337628426743\t    \t    \n",
            "init\t [ 0.20483613  1.16737269  7.          0.57895615 16.          0.83644782]\t 0.7335645848611818\t 0.7287337628426743\t    \t    \n",
            "init\t [ 3.44624491  3.18798797 14.          0.54197657 15.          0.63958906]\t 0.7441537376931249\t 0.7287337628426743\t    \t    \n",
            "1  \t [9.77136617 6.6548802  7.         0.51036649 9.         0.81011527]\t 0.7482694480200888\t 0.7287337628426743\t 0.7954858095108572\t 0.7954858095108572\n",
            "\u001b[1m\u001b[92m2\u001b[0m\t \u001b[1m\u001b[92m[ 0.59719728  4.15307516 11.          0.66501717  3.          0.95537014]\u001b[0m\t \u001b[1m\u001b[92m0.7070648622170269\u001b[0m\t \u001b[1m\u001b[92m0.7070648622170269\u001b[0m\t \u001b[1m\u001b[92m0.7952778529912745\u001b[0m\t \u001b[1m\u001b[92m0.7952778529912745\u001b[0m\n",
            "3  \t [ 8.79191945  9.92354379  5.          0.67714371 18.          0.57050675]\t 0.7598608339614092\t 0.7070648622170269\t 0.7756794417754161\t 0.7756794417754161\n",
            "4  \t [ 8.43962982  4.2216354  12.          0.61829836  3.          0.16854155]\t 1.0312511769390245\t 0.7070648622170269\t 0.7761203794863963\t 0.7761203794863963\n",
            "5  \t [2.20135958 9.62559813 6.         0.71280025 1.         0.39977427]\t 0.821741520088635\t 0.7070648622170269\t 0.7856458662109832\t 0.7856458662109832\n",
            "\u001b[1m\u001b[92m6\u001b[0m\t \u001b[1m\u001b[92m[ 3.67323902  7.86608025  9.          0.6017103  12.          0.8976084 ]\u001b[0m\t \u001b[1m\u001b[92m0.69597496127397\u001b[0m\t \u001b[1m\u001b[92m0.69597496127397\u001b[0m\t \u001b[1m\u001b[92m0.786660756540361\u001b[0m\t \u001b[1m\u001b[92m0.7866607565362678\u001b[0m\n",
            "7  \t [ 8.8168337   8.37959662 14.          0.86429866 15.          0.72516241]\t 0.7248028462146275\t 0.69597496127397\t 0.7755062003708244\t 0.7755062003708244\n",
            "8  \t [6.77981326 1.558009   7.         0.85055204 5.         0.30145072]\t 0.9107534784629161\t 0.69597496127397\t 0.7743822758441041\t 0.7743822758441041\n",
            "9  \t [ 4.65266155  1.51144578 13.          0.9981878   8.          0.76538736]\t 0.725647375042158\t 0.69597496127397\t 0.7773155025534028\t 0.7773155025534028\n",
            "10 \t [ 9.96434657  9.7457538   7.          0.51716335 13.          0.80468719]\t 0.7416396014125557\t 0.69597496127397\t 0.7762398064841756\t 0.7762398064841756\n",
            "11 \t [ 0.11403055  8.4704762   5.          0.64787128 18.          0.27113862]\t 0.9287138963597805\t 0.69597496127397\t 0.7754597322952627\t 0.7754597322952627\n",
            "12 \t [ 8.75969772  9.81259093 13.          0.73915202  9.          0.12048735]\t 1.0220817994568854\t 0.69597496127397\t 0.7781815982708163\t 0.7781815982708163\n",
            "13 \t [ 3.07772231  9.36080815 12.          0.63816578 18.          0.13286747]\t 1.0261353862133127\t 0.69597496127397\t 0.7824555200282542\t 0.7824555200282542\n",
            "14 \t [ 0.08839268  0.         15.          0.5        11.88210485  1.        ]\t 0.704558773772187\t 0.69597496127397\t 0.7862209192376298\t 0.7862208608261251\n",
            "15 \t [0.61700864 1.88368662 5.         0.7080512  1.         0.20173876]\t 1.0235667739127183\t 0.69597496127397\t 0.7846544318698953\t 0.7846544318698953\n",
            "16 \t [ 4.54549823  8.84141407 12.          0.50940273  3.          0.75742975]\t 0.7623000424638748\t 0.69597496127397\t 0.7879235825676634\t 0.7879235825676634\n",
            "17 \t [ 8.36726358  3.62968088 15.          0.6304527  19.48339381  0.46154754]\t 0.821002675820138\t 0.69597496127397\t 0.7871122105954175\t 0.7871122484686821\n",
            "18 \t [ 2.10994823  7.1805032  12.          0.63048792  8.          0.67645363]\t 0.7459513240013139\t 0.69597496127397\t 0.7871293660946309\t 0.7871293660946309\n",
            "19 \t [ 8.85073587  0.14416571 10.          0.61345236  9.          0.36196785]\t 0.9293495818676133\t 0.69597496127397\t 0.7862030345253774\t 0.7862030345253774\n",
            "20 \t [9.22875209 9.1986098  9.         0.90439491 3.         0.27523226]\t 0.9230186077285822\t 0.69597496127397\t 0.7875610882589636\t 0.7875610882589636\n",
            "21 \t [ 4.04003571  9.43113029  7.          0.803738   15.          0.73816205]\t 0.7341613964508256\t 0.69597496127397\t 0.7887631764107246\t 0.7887631764107246\n",
            "22 \t [3.11253862 8.27200277 5.         0.63411364 8.         0.21266309]\t 1.0293462914183162\t 0.69597496127397\t 0.7878020685798887\t 0.7878020685798887\n",
            "23 \t [ 9.97716226  3.28825714 13.          0.55185778 13.          0.23012169]\t 1.0288030537521364\t 0.69597496127397\t 0.7901736659552347\t 0.7901736659552347\n",
            "\u001b[1m\u001b[92m24\u001b[0m\t \u001b[1m\u001b[92m[0.35274751 4.60721825 8.         0.98940661 8.         0.99370153]\u001b[0m\t \u001b[1m\u001b[92m0.6874589366495207\u001b[0m\t \u001b[1m\u001b[92m0.6874589366495207\u001b[0m\t \u001b[1m\u001b[92m0.7923626512188866\u001b[0m\t \u001b[1m\u001b[92m0.7923626512188866\u001b[0m\n",
            "25 \t [ 4.52812342  0.19443533 13.          0.65004115  2.          0.16077491]\t 1.0248025279634128\t 0.6874589366495207\t 0.7841854916815637\t 0.7841854916815637\n",
            "26 \t [0.         0.         5.         0.5        8.30760599 1.        ]\t 0.7165134265261673\t 0.6874589366495207\t 0.7861707277530442\t 0.7861696874565863\n",
            "27 \t [ 4.57061006  2.64171584  6.23119799  0.54266393 19.27109281  0.27598767]\t 0.9329038824529569\t 0.6874589366495207\t 0.7850866542056277\t 0.785085453140034\n",
            "28 \t [ 8.95294491  8.73057957  9.8222021   0.87228941 19.24196662  1.        ]\t 0.6876075712967433\t 0.6874589366495207\t 0.7859642937191772\t 0.7859632854297983\n",
            "29 \t [9.27654384 0.11345815 9.         0.76045104 1.         0.92226676]\t 0.7123414924113913\t 0.6874589366495207\t 0.7847717904903599\t 0.7847717904903599\n",
            "30 \t [10.          0.39237905 15.          0.91374257  1.          1.        ]\t 0.6939558986392307\t 0.6874589366495207\t 0.7837645602013188\t 0.7837647026912731\n"
          ]
        },
        {
          "output_type": "execute_result",
          "data": {
            "text/plain": [
              "60792.02085716255"
            ]
          },
          "metadata": {},
          "execution_count": 31
        }
      ]
    },
    {
      "cell_type": "code",
      "metadata": {
        "id": "g_nP9lQjUztV",
        "colab": {
          "base_uri": "https://localhost:8080/"
        },
        "outputId": "4a8f91d4-7400-4c80-e0ee-124a2dbfcf7c"
      },
      "source": [
        "### Bayesian optimization runs (x20): 'approx' Acquisition Function run number = 12\n",
        "\n",
        "np.random.seed(run_num_12)\n",
        "surrogate_approx_12 = dGaussianProcess(cov_func, optimize=opt)\n",
        "\n",
        "X_train12, X_test12, y_train12, y_test12 = train_test_split(X, y, test_size=test_perc, random_state=run_num_12)\n",
        "\n",
        "def f_syn_polarity12(alpha, gamma, max_depth, subsample, min_child_weight, colsample):\n",
        "    reg = XGBRegressor(reg_alpha=alpha, gamma=gamma, max_depth=int(max_depth), subsample=subsample, min_child_weight=min_child_weight,\n",
        "          colsample_bytree=colsample, n_estimators = n_est, random_state=run_num_12, objective = 'reg:squarederror')\n",
        "    score = np.array(cross_val_score(reg, X=X_train12, y=y_train12).mean())\n",
        "    return operator * score\n",
        "\n",
        "approx_12 = GPGO_multi(surrogate_approx_12, Acquisition_grad(util), f_syn_polarity12, param, n_jobs = -1) # define BayesOpt\n",
        "approx_12.run(max_iter = max_iter, init_evals = n_init) # run\n",
        "\n",
        "### Return optimal parameters' set:\n",
        "params_approx_12 = approx_12.getResult()[0]\n",
        "params_approx_12['max_depth'] = int(params_approx_12['max_depth'])\n",
        "params_approx_12['min_child_weight'] = int(params_approx_12['min_child_weight'])\n",
        "\n",
        "### Re-train with optimal parameters, run predictons:\n",
        "dX_approx_train12 = xgb.DMatrix(X_train12, y_train12)\n",
        "dX_approx_test12 = xgb.DMatrix(X_test12, y_test12)\n",
        "model_approx_12 = xgb.train(params_approx_12, dX_approx_train12)\n",
        "pred_approx_12 = model_approx_12.predict(dX_approx_test12)\n",
        "\n",
        "rmse_approx_12 = np.sqrt(mean_squared_error(pred_approx_12, y_test12))\n",
        "rmse_approx_12"
      ],
      "execution_count": null,
      "outputs": [
        {
          "output_type": "stream",
          "name": "stdout",
          "text": [
            "Evaluation \t Proposed point \t  Current eval. \t  Best eval. \t         Max. ExactAcqFunc \t Max. ApproxAcqFunc \n",
            "init\t [1.54162842 7.40049697 6.         0.54321714 4.         0.11311747]\t 0.992708970032886\t 0.7896346786115067\t    \t    \n",
            "init\t [ 9.18747008  9.00714854 14.          0.97847467 11.          0.35544552]\t 0.9050380263035862\t 0.7896346786115067\t    \t    \n",
            "init\t [ 6.06083184  9.44225136 14.          0.95626942  5.          0.56910342]\t 0.8362986807103934\t 0.7896346786115067\t    \t    \n",
            "init\t [ 5.52037633  4.85377414  7.          0.97886436 17.          0.78810441]\t 0.7896346786115067\t 0.7896346786115067\t    \t    \n",
            "init\t [ 0.20809798  1.35210178  5.          0.65494879 16.          0.36062811]\t 0.9186387829358221\t 0.7896346786115067\t    \t    \n",
            "1  \t [9.46555822 8.57190559 5.         0.50164398 5.         0.71992807]\t 0.8115376813007883\t 0.7896346786115067\t 0.8814586840522309\t 0.8814586840522309\n",
            "2  \t [ 3.78385301  2.21923666 12.          0.57141407  8.          0.55842631]\t 0.8600045769145973\t 0.7896346786115067\t 0.8780353159601069\t 0.8780353159601069\n",
            "3  \t [ 7.48458025  0.82585105 14.          0.62666135 18.          0.34757206]\t 0.9136369680693782\t 0.7896346786115067\t 0.8773408989691289\t 0.8773408989691289\n",
            "4  \t [6.38266166 3.66323517 5.         0.6972131  9.         0.47709595]\t 0.9144290525005069\t 0.7896346786115067\t 0.8786229337063717\t 0.8786229337063717\n",
            "5  \t [ 5.83217552  8.53843574 11.          0.58549752 18.          0.26781236]\t 0.9216214538529052\t 0.7896346786115067\t 0.8796434784080921\t 0.8796434784080921\n",
            "6  \t [ 3.52118615  0.23388076 12.          0.56204237  1.          0.44568429]\t 0.9442383814615898\t 0.7896346786115067\t 0.8806590570554369\t 0.8806590570554369\n",
            "\u001b[1m\u001b[92m7\u001b[0m\t \u001b[1m\u001b[92m[ 9.92159613  3.53760601 14.          0.66495754  4.          0.92098158]\u001b[0m\t \u001b[1m\u001b[92m0.7787508246094917\u001b[0m\t \u001b[1m\u001b[92m0.7787508246094917\u001b[0m\t \u001b[1m\u001b[92m0.8820690194624697\u001b[0m\t \u001b[1m\u001b[92m0.8820690194624697\u001b[0m\n",
            "8  \t [ 9.11635581  9.60013795  5.          0.57034236 14.          0.41758327]\t 0.9239433760752476\t 0.7787508246094917\t 0.8708094744059092\t 0.8708094744059092\n",
            "9  \t [ 2.73067092  9.86029136  9.          0.98915314 11.          0.78920814]\t 0.7815140040967317\t 0.7787508246094917\t 0.8716491042105667\t 0.8716491042105667\n",
            "10 \t [ 0.14475494  9.8292754  12.          0.60331385  2.          0.9622215 ]\t 0.7880902159034013\t 0.7787508246094917\t 0.8697132407782869\t 0.8697132407782869\n",
            "11 \t [ 1.81539004  3.97973122 11.          0.55780808 14.          0.86016605]\t 0.8021824021652308\t 0.7787508246094917\t 0.8681382827393611\t 0.8681382827393611\n",
            "12 \t [ 0.10274077  3.67012236  6.          0.81389509 11.          0.83682267]\t 0.786862562407444\t 0.7787508246094917\t 0.8669735402249432\t 0.8669735402249432\n",
            "\u001b[1m\u001b[92m13\u001b[0m\t \u001b[1m\u001b[92m[1.6911714  0.94950816 7.         0.96629111 2.         0.94418272]\u001b[0m\t \u001b[1m\u001b[92m0.7748512120284932\u001b[0m\t \u001b[1m\u001b[92m0.7748512120284932\u001b[0m\t \u001b[1m\u001b[92m0.865724714231559\u001b[0m\t \u001b[1m\u001b[92m0.865724714231559\u001b[0m\n",
            "14 \t [8.72042964 1.18098427 6.         0.87093363 1.         0.1200865 ]\t 0.978708815138663\t 0.7748512120284932\t 0.8612687993792467\t 0.8612687993792467\n",
            "15 \t [ 1.10490837  9.58829464  6.          0.57860445 19.          0.21544386]\t 0.9970201710934681\t 0.7748512120284932\t 0.8630320850484469\t 0.8630320850484469\n",
            "16 \t [ 9.50979811  3.16002382 14.          0.62948949 10.          0.39138316]\t 0.9147194483561627\t 0.7748512120284932\t 0.8648954465443529\t 0.8648954465443529\n",
            "17 \t [6.02563339 8.022786   5.         0.85676853 1.         0.25300442]\t 0.9124161582646213\t 0.7748512120284932\t 0.8654256249591534\t 0.8654256181290845\n",
            "\u001b[1m\u001b[92m18\u001b[0m\t \u001b[1m\u001b[92m[ 7.3690203   0.22453821  8.          0.77112625 16.          0.87947876]\u001b[0m\t \u001b[1m\u001b[92m0.7672025730439703\u001b[0m\t \u001b[1m\u001b[92m0.7672025730439703\u001b[0m\t \u001b[1m\u001b[92m0.8658779473044788\u001b[0m\t \u001b[1m\u001b[92m0.8658779473044788\u001b[0m\n",
            "19 \t [9.51121457 1.16444035 9.         0.81792407 9.         0.70590587]\t 0.782570539367717\t 0.7672025730439703\t 0.8584525560531915\t 0.8584525560531915\n",
            "20 \t [ 9.5610791   6.78651029 10.          0.7149365   3.          0.88779274]\t 0.7734370920531868\t 0.7672025730439703\t 0.8574786132118167\t 0.8574786132118167\n",
            "21 \t [ 9.66054316  5.53890747  9.          0.7227799  19.          0.40834279]\t 0.9076217869804386\t 0.7672025730439703\t 0.8564930220949355\t 0.8564929830393841\n",
            "22 \t [ 0.89644994  8.36021707 13.          0.97339483  8.          0.56302318]\t 0.8340112380305953\t 0.7672025730439703\t 0.8569330233562168\t 0.8569330233562168\n",
            "23 \t [7.12967992 8.154614   8.         0.5156473  9.         0.21177212]\t 0.9924239421587664\t 0.7672025730439703\t 0.8566017211118657\t 0.8566017131100473\n",
            "24 \t [ 1.47973338  1.45058818 11.          0.74181509 19.          0.60410465]\t 0.8329180373498172\t 0.7672025730439703\t 0.8579005345605366\t 0.8579005345605366\n",
            "25 \t [ 1.20687155  9.12954676 14.          0.85240868 13.          0.40735863]\t 0.9049430773400733\t 0.7672025730439703\t 0.8575492051954766\t 0.8575492051954766\n",
            "26 \t [7.16088058 4.97333215 8.         0.81630506 6.         0.38815762]\t 0.9070816359285235\t 0.7672025730439703\t 0.8578695724528203\t 0.8578695724528203\n",
            "27 \t [10.          4.77384699  6.69261631  0.5        11.92160166  1.        ]\t 0.7933722267194911\t 0.7672025730439703\t 0.8581903146675572\t 0.8581884695974641\n",
            "28 \t [ 0.17262698  1.68498662 10.          0.69482304  6.          0.13687299]\t 0.9798880020801095\t 0.7672025730439703\t 0.8575490123037667\t 0.8575490123037667\n",
            "29 \t [4.85059817 0.59059416 8.         0.66375786 6.         0.57600536]\t 0.8456632041648999\t 0.7672025730439703\t 0.8585051497917499\t 0.8585051497917499\n",
            "30 \t [ 0.42138623  7.7269096  13.          0.72605204 19.          0.17338535]\t 0.979555746560927\t 0.7672025730439703\t 0.8582854734817115\t 0.8582854734817115\n"
          ]
        },
        {
          "output_type": "execute_result",
          "data": {
            "text/plain": [
              "61494.6504599855"
            ]
          },
          "metadata": {},
          "execution_count": 32
        }
      ]
    },
    {
      "cell_type": "code",
      "metadata": {
        "id": "yDI2Bi9vU05U",
        "colab": {
          "base_uri": "https://localhost:8080/"
        },
        "outputId": "265b9ab7-368a-4d56-d72a-46018456c96b"
      },
      "source": [
        "### Bayesian optimization runs (x20): 'approx' Acquisition Function run number = 13\n",
        "\n",
        "np.random.seed(run_num_13)\n",
        "surrogate_approx_13 = dGaussianProcess(cov_func, optimize=opt)\n",
        "\n",
        "X_train13, X_test13, y_train13, y_test13 = train_test_split(X, y, test_size=test_perc, random_state=run_num_13)\n",
        "\n",
        "def f_syn_polarity13(alpha, gamma, max_depth, subsample, min_child_weight, colsample):\n",
        "    reg = XGBRegressor(reg_alpha=alpha, gamma=gamma, max_depth=int(max_depth), subsample=subsample, min_child_weight=min_child_weight,\n",
        "          colsample_bytree=colsample, n_estimators = n_est, random_state=run_num_13, objective = 'reg:squarederror')\n",
        "    score = np.array(cross_val_score(reg, X=X_train13, y=y_train13).mean())\n",
        "    return operator * score\n",
        "\n",
        "approx_13 = GPGO_multi(surrogate_approx_13, Acquisition_grad(util), f_syn_polarity13, param, n_jobs = -1) # define BayesOpt\n",
        "approx_13.run(max_iter = max_iter, init_evals = n_init) # run\n",
        "\n",
        "### Return optimal parameters' set:\n",
        "params_approx_13 = approx_13.getResult()[0]\n",
        "params_approx_13['max_depth'] = int(params_approx_13['max_depth'])\n",
        "params_approx_13['min_child_weight'] = int(params_approx_13['min_child_weight'])\n",
        "\n",
        "### Re-train with optimal parameters, run predictons:\n",
        "dX_approx_train13 = xgb.DMatrix(X_train13, y_train13)\n",
        "dX_approx_test13 = xgb.DMatrix(X_test13, y_test13)\n",
        "model_approx_13 = xgb.train(params_approx_13, dX_approx_train13)\n",
        "pred_approx_13 = model_approx_13.predict(dX_approx_test13)\n",
        "\n",
        "rmse_approx_13 = np.sqrt(mean_squared_error(pred_approx_13, y_test13))\n",
        "rmse_approx_13"
      ],
      "execution_count": null,
      "outputs": [
        {
          "output_type": "stream",
          "name": "stdout",
          "text": [
            "Evaluation \t Proposed point \t  Current eval. \t  Best eval. \t         Max. ExactAcqFunc \t Max. ApproxAcqFunc \n",
            "init\t [ 7.77702411  2.3754122  11.          0.94649135 13.          0.7827256 ]\t 0.7315012035187541\t 0.7315012035187541\t    \t    \n",
            "init\t [ 7.51661514  6.07343344 11.          0.69402149 11.          0.13153287]\t 1.1319770010327717\t 0.7315012035187541\t    \t    \n",
            "init\t [ 2.98449471  0.58512492 10.          0.73579614 12.          0.33065195]\t 0.9318565354152348\t 0.7315012035187541\t    \t    \n",
            "init\t [ 3.47581215  0.0941277  11.          0.86143432  8.          0.58454932]\t 0.7799608780638936\t 0.7315012035187541\t    \t    \n",
            "init\t [ 4.70137857  6.24432527 10.          0.8149145  18.          0.10784416]\t 1.1305934464937346\t 0.7315012035187541\t    \t    \n",
            "1  \t [1.51786663 9.25994479 9.         0.99792981 2.         0.61199673]\t 0.7922048089873084\t 0.7315012035187541\t 0.8536976611959161\t 0.8536976611959161\n",
            "2  \t [6.93463528 1.25795731 8.         0.92695971 3.         0.9534311 ]\t 0.7364009364353266\t 0.7315012035187541\t 0.8462099436610265\t 0.8462099436343127\n",
            "3  \t [ 1.27154032  7.56256657  5.          0.85984573 12.          0.61608824]\t 0.7884892526498699\t 0.7315012035187541\t 0.8388833488404132\t 0.8388833488404132\n",
            "4  \t [ 4.39024044  6.42906019 12.          0.96666124  5.          0.79403332]\t 0.7332036085962248\t 0.7315012035187541\t 0.8349390638987885\t 0.8349390638987885\n",
            "5  \t [5.34651487 5.45650069 6.         0.93529094 7.         0.24078895]\t 1.1341345349522627\t 0.7315012035187541\t 0.8303493005690294\t 0.8303493005690294\n",
            "6  \t [ 1.86840748  0.75206083 14.          0.81141351 17.          0.47108772]\t 0.8233179447887817\t 0.7315012035187541\t 0.8386515622183719\t 0.8386515618045884\n",
            "7  \t [ 6.50677714  2.64641451 14.          0.50110879 19.          0.46175841]\t 0.8347085780850761\t 0.7315012035187541\t 0.8366159832488557\t 0.8366159832488557\n",
            "8  \t [ 9.44002225  4.67426365 14.          0.69806573  1.          0.72511221]\t 0.7758064515807063\t 0.7315012035187541\t 0.8351645522831523\t 0.8351645522831523\n",
            "9  \t [ 6.80309585  9.43423094  7.          0.8851539  14.          0.77731456]\t 0.7410022072170401\t 0.7315012035187541\t 0.8327657753788418\t 0.8327657753788418\n",
            "10 \t [9.53737977 6.92701358 9.         0.96899739 3.         0.8535527 ]\t 0.7350320754662023\t 0.7315012035187541\t 0.8300985178045788\t 0.8300985178045788\n",
            "11 \t [ 4.33230901  0.85672678  6.          0.63795453 19.          0.64597264]\t 0.7577952901048656\t 0.7315012035187541\t 0.8276848113905096\t 0.8276848113905096\n",
            "12 \t [ 8.67074354  1.64396694 14.          0.83039094  7.          0.18845957]\t 1.133362308446904\t 0.7315012035187541\t 0.825910031418205\t 0.825910031418205\n",
            "13 \t [ 8.23661056  1.74251738  5.          0.73573442 11.          0.11684268]\t 1.122132457650395\t 0.7315012035187541\t 0.8310766640711731\t 0.8310766639572144\n",
            "14 \t [0.59196411 2.70489003 6.         0.53471064 2.         0.87047587]\t 0.7564679705296913\t 0.7315012035187541\t 0.8354170727341097\t 0.8354170727341097\n",
            "15 \t [ 3.78319896  9.10205064 14.          0.62806706 13.          0.90182995]\t 0.7438065116890006\t 0.7315012035187541\t 0.833514531696136\t 0.8335145316960955\n",
            "16 \t [ 2.06284179  6.9068961   5.          0.9448545  18.          0.13792391]\t 1.1296197909572616\t 0.7315012035187541\t 0.8316457330771486\t 0.8316457330771486\n",
            "17 \t [1.72746041 9.05911241 9.         0.76972057 8.         0.72560219]\t 0.7506048204164013\t 0.7315012035187541\t 0.8354650552169639\t 0.8354650552169639\n",
            "18 \t [ 0.94229296  2.02450761 13.          0.65000924  1.          0.22250131]\t 1.1406696400287324\t 0.7315012035187541\t 0.8337565018035934\t 0.8337565018035934\n",
            "19 \t [ 8.70212257  9.22072414 13.          0.93050035 17.          0.7479803 ]\t 0.7370990404363691\t 0.7315012035187541\t 0.8373185723440861\t 0.8373185723440861\n",
            "20 \t [ 9.35280568  2.44132886  8.          0.87489385 18.          0.92170626]\t 0.733467050872053\t 0.7315012035187541\t 0.8355446918885273\t 0.8355446918885273\n",
            "21 \t [ 1.23850137  5.96524691 14.          0.65167204 16.          0.56763255]\t 0.7987790499738011\t 0.7315012035187541\t 0.8338749345943909\t 0.8338749345943909\n",
            "22 \t [9.44502002 6.70596744 7.         0.72628773 8.         0.52383256]\t 0.789654681890875\t 0.7315012035187541\t 0.83294720809853\t 0.83294720809853\n",
            "23 \t [ 2.05622909  9.08047387  8.          0.8397078  17.          0.73365999]\t 0.7422847258418974\t 0.7315012035187541\t 0.8320011893474462\t 0.8320011893474462\n",
            "24 \t [5.71666567 9.57807292 6.         0.69715499 4.         0.1016024 ]\t 1.133326722553115\t 0.7315012035187541\t 0.8307055548298434\t 0.8307055548279517\n",
            "25 \t [ 1.31863824  8.38888205 14.          0.95097909  8.          0.13910651]\t 1.1422937173773007\t 0.7315012035187541\t 0.8335555909904927\t 0.8335555909904927\n",
            "26 \t [ 0.16863022  2.67389719  9.          0.62610438 15.          0.96408501]\t 0.7463927243485514\t 0.7315012035187541\t 0.8363150408257357\t 0.8363150408257357\n",
            "27 \t [ 7.81157149  9.253568   12.          0.76765119  7.          0.85043688]\t 0.7450347306835475\t 0.7315012035187541\t 0.8350437681212748\t 0.8350437681212748\n",
            "28 \t [10.          9.81243097  5.          0.5         1.05776899  0.1       ]\t 1.135649161674242\t 0.7315012035187541\t 0.8338339711710572\t 0.8338335287984274\n",
            "29 \t [ 0.42060893  0.71670801  5.          0.74681906 13.          0.66880385]\t 0.766822108041687\t 0.7315012035187541\t 0.8362661049634889\t 0.8362661049634889\n",
            "30 \t [0.43091775 0.3532639  5.         0.76123896 7.         0.49074528]\t 0.8210674438530141\t 0.7315012035187541\t 0.8352536931667072\t 0.8352536931667072\n"
          ]
        },
        {
          "output_type": "execute_result",
          "data": {
            "text/plain": [
              "59500.46682850479"
            ]
          },
          "metadata": {},
          "execution_count": 33
        }
      ]
    },
    {
      "cell_type": "code",
      "metadata": {
        "id": "Z2F_Q194U3uu",
        "colab": {
          "base_uri": "https://localhost:8080/"
        },
        "outputId": "85ff5694-4202-455c-dcd3-cf0d892ac601"
      },
      "source": [
        "### Bayesian optimization runs (x20): 'approx' Acquisition Function run number = 14\n",
        "\n",
        "np.random.seed(run_num_14)\n",
        "surrogate_approx_14 = dGaussianProcess(cov_func, optimize=opt)\n",
        "\n",
        "X_train14, X_test14, y_train14, y_test14 = train_test_split(X, y, test_size=test_perc, random_state=run_num_14)\n",
        "\n",
        "def f_syn_polarity14(alpha, gamma, max_depth, subsample, min_child_weight, colsample):\n",
        "    reg = XGBRegressor(reg_alpha=alpha, gamma=gamma, max_depth=int(max_depth), subsample=subsample, min_child_weight=min_child_weight,\n",
        "          colsample_bytree=colsample, n_estimators = n_est, random_state=run_num_14, objective = 'reg:squarederror')\n",
        "    score = np.array(cross_val_score(reg, X=X_train14, y=y_train14).mean())\n",
        "    return operator * score\n",
        "\n",
        "approx_14 = GPGO_multi(surrogate_approx_14, Acquisition_grad(util), f_syn_polarity14, param, n_jobs = -1) # define BayesOpt\n",
        "approx_14.run(max_iter = max_iter, init_evals = n_init) # run\n",
        "\n",
        "### Return optimal parameters' set:\n",
        "params_approx_14 = approx_14.getResult()[0]\n",
        "params_approx_14['max_depth'] = int(params_approx_14['max_depth'])\n",
        "params_approx_14['min_child_weight'] = int(params_approx_14['min_child_weight'])\n",
        "\n",
        "### Re-train with optimal parameters, run predictons:\n",
        "dX_approx_train14 = xgb.DMatrix(X_train14, y_train14)\n",
        "dX_approx_test14 = xgb.DMatrix(X_test14, y_test14)\n",
        "model_approx_14 = xgb.train(params_approx_14, dX_approx_train14)\n",
        "pred_approx_14 = model_approx_14.predict(dX_approx_test14)\n",
        "\n",
        "rmse_approx_14 = np.sqrt(mean_squared_error(pred_approx_14, y_test14))\n",
        "rmse_approx_14"
      ],
      "execution_count": null,
      "outputs": [
        {
          "output_type": "stream",
          "name": "stdout",
          "text": [
            "Evaluation \t Proposed point \t  Current eval. \t  Best eval. \t         Max. ExactAcqFunc \t Max. ApproxAcqFunc \n",
            "init\t [ 5.13943344  7.73165052 12.          0.6831412  11.          0.37876233]\t 0.886516450243748\t 0.7696523735238344\t    \t    \n",
            "init\t [ 9.57603739  5.13116712 14.          0.76959997 12.          0.71328228]\t 0.8159404842786963\t 0.7696523735238344\t    \t    \n",
            "init\t [5.34950319 2.47493539 5.         0.50293689 6.         0.29706373]\t 0.9077084280320982\t 0.7696523735238344\t    \t    \n",
            "init\t [ 2.94506579  3.45329697  8.          0.87620946 14.          0.9783044 ]\t 0.7696523735238344\t 0.7696523735238344\t    \t    \n",
            "init\t [ 1.11811929  1.73004086  5.          0.73745288 12.          0.20586008]\t 0.9767143382937844\t 0.7696523735238344\t    \t    \n",
            "1  \t [ 6.50637223  2.67617722 14.          0.53562507  1.          0.16862152]\t 0.9945462140035275\t 0.7696523735238344\t 0.8606700136581263\t 0.8606700136581263\n",
            "2  \t [ 5.83528891  2.63149599 12.          0.61005677 19.          0.2879488 ]\t 0.8956717295899809\t 0.7696523735238344\t 0.8664557046833671\t 0.8664557046833671\n",
            "3  \t [0.07739536 3.94062842 5.         0.7395899  3.         0.9764837 ]\t 0.7896752580111073\t 0.7696523735238344\t 0.8664642154013934\t 0.8664642154013934\n",
            "4  \t [6.9195004  0.54496332 8.         0.81208598 3.         0.15286338]\t 0.9788770650266176\t 0.7696523735238344\t 0.8630264101179941\t 0.8630264101179941\n",
            "5  \t [9.99867084 7.44671039 9.         0.55715966 3.         0.32152891]\t 0.9068912188410501\t 0.7696523735238344\t 0.8660858529110569\t 0.8660858529110569\n",
            "6  \t [ 0.49138495  8.52939618 10.          0.75897738  1.          0.21612775]\t 0.9798753116153296\t 0.7696523735238344\t 0.8664417640162992\t 0.8664417640162992\n",
            "7  \t [ 6.6877751   9.48200682  5.          0.90861826 11.          0.9411861 ]\t 0.7844376116756365\t 0.7696523735238344\t 0.8686561804152143\t 0.8686561804152111\n",
            "8  \t [ 0.63353879  9.61017877  8.          0.96421247 18.          0.39200727]\t 0.8842694211806853\t 0.7696523735238344\t 0.8660823325193935\t 0.8660823325193935\n",
            "9  \t [ 6.82711248  9.86843937 13.          0.52138031 17.          0.20003272]\t 0.9860275442983216\t 0.7696523735238344\t 0.8658751260378358\t 0.8658751260378358\n",
            "10 \t [ 8.90983817  2.82321414  7.          0.66164117 11.          0.64519606]\t 0.8262334140046084\t 0.7696523735238344\t 0.8677898440314927\t 0.8677898440314927\n",
            "11 \t [ 9.30217735  6.23147787  8.          0.97503033 15.          0.52511943]\t 0.8378098248230865\t 0.7696523735238344\t 0.8664772932997601\t 0.8664772932997601\n",
            "12 \t [ 1.50285169  4.17593259 14.          0.69234646  6.          0.74044842]\t 0.8279918365760726\t 0.7696523735238344\t 0.8655150819183023\t 0.8655150819183023\n",
            "\u001b[1m\u001b[92m13\u001b[0m\t \u001b[1m\u001b[92m[ 0.25039867  4.81148287 14.          0.83239345 15.          0.88911818]\u001b[0m\t \u001b[1m\u001b[92m0.7661634854388314\u001b[0m\t \u001b[1m\u001b[92m0.7661634854388314\u001b[0m\t \u001b[1m\u001b[92m0.8645158230736115\u001b[0m\t \u001b[1m\u001b[92m0.8645158230736115\u001b[0m\n",
            "14 \t [4.48522578 6.54261798 5.         0.79314226 1.         0.29945677]\t 0.8907631812508037\t 0.7661634854388314\t 0.8599617198846484\t 0.8599617198846484\n",
            "\u001b[1m\u001b[92m15\u001b[0m\t \u001b[1m\u001b[92m[ 1.13909448  9.99750981 12.          0.83097832  8.          0.96211319]\u001b[0m\t \u001b[1m\u001b[92m0.7656583990985639\u001b[0m\t \u001b[1m\u001b[92m0.7656583990985639\u001b[0m\t \u001b[1m\u001b[92m0.8600878062844578\u001b[0m\t \u001b[1m\u001b[92m0.8600878062844578\u001b[0m\n",
            "16 \t [ 5.21920054  9.35580917 14.          0.81835368  4.          0.54800317]\t 0.8502094404923272\t 0.7656583990985639\t 0.85818271046488\t 0.8581827099033691\n",
            "17 \t [ 0.17976144  7.18346948  8.          0.66347595 11.          0.55756231]\t 0.8520250865882778\t 0.7656583990985639\t 0.8578420889319176\t 0.8578420889319176\n",
            "18 \t [ 9.40706915  0.91600736 13.          0.648599    7.          0.62885715]\t 0.8252942732505897\t 0.7656583990985639\t 0.8575520443262613\t 0.8575520443262613\n",
            "19 \t [ 6.11645628  0.17500507  7.          0.96263937 18.          0.49631453]\t 0.8870636051132543\t 0.7656583990985639\t 0.8569839057723981\t 0.8569839057723981\n",
            "20 \t [2.03544962 0.82234782 9.         0.75192666 8.         0.57674562]\t 0.8454913145347565\t 0.7656583990985639\t 0.8571485528947904\t 0.8571485510737162\n",
            "21 \t [ 1.52900897  2.49551652 10.          0.74070159  3.          0.79386687]\t 0.780479064689753\t 0.7656583990985639\t 0.8568518914827535\t 0.8568518914827535\n",
            "22 \t [ 6.45350905  0.         12.79166087  0.5        11.52523985  0.1       ]\t 0.9875302351445943\t 0.7656583990985639\t 0.8559466241215895\t 0.8559466560295567\n",
            "23 \t [10.          0.         11.99900632  1.          1.          0.1       ]\t 1.0506274402902118\t 0.7656583990985639\t 0.8572154272594198\t 0.8572153910192947\n",
            "24 \t [ 6.55062625  9.63146322  5.          0.68406751 18.          0.23627226]\t 0.9779504797123966\t 0.7656583990985639\t 0.8591068287095226\t 0.8591068287095226\n",
            "25 \t [ 2.42050267  1.13561909 14.          0.8620572  13.          0.77307451]\t 0.7668093827634841\t 0.7656583990985639\t 0.8600765289081125\t 0.8600765289081125\n",
            "26 \t [3.48457578 8.43570903 6.         0.58115003 6.         0.53071501]\t 0.8564282041531545\t 0.7656583990985639\t 0.8590762658247866\t 0.8590762658247866\n",
            "27 \t [ 0.45760229  0.         12.19275036  1.         18.57115442  0.1       ]\t 1.0431915057885708\t 0.7656583990985639\t 0.8588675389128035\t 0.8588683161844478\n",
            "28 \t [ 9.70174036  9.71799099 14.          0.84593857  8.          0.66512595]\t 0.8200293594846588\t 0.7656583990985639\t 0.8603940913847343\t 0.8603940913721936\n",
            "29 \t [ 6.91437118  0.04013958 14.          0.61541818 16.          0.18814948]\t 0.9769978457176874\t 0.7656583990985639\t 0.8598725599456499\t 0.8598723984969939\n",
            "30 \t [ 1.26617981  4.03386415  8.          0.85223134 19.          0.86958504]\t 0.7663272572002088\t 0.7656583990985639\t 0.8606680613679514\t 0.8606680613679514\n"
          ]
        },
        {
          "output_type": "execute_result",
          "data": {
            "text/plain": [
              "60476.92208349806"
            ]
          },
          "metadata": {},
          "execution_count": 34
        }
      ]
    },
    {
      "cell_type": "code",
      "metadata": {
        "id": "Po5wImJaU6VC",
        "colab": {
          "base_uri": "https://localhost:8080/"
        },
        "outputId": "d7ee21bb-1fac-4003-f265-233b24b897ac"
      },
      "source": [
        "### Bayesian optimization runs (x20): 'approx' Acquisition Function run number = 15\n",
        "\n",
        "np.random.seed(run_num_15)\n",
        "surrogate_approx_15 = dGaussianProcess(cov_func, optimize=opt)\n",
        "\n",
        "X_train15, X_test15, y_train15, y_test15 = train_test_split(X, y, test_size=test_perc, random_state=run_num_15)\n",
        "\n",
        "def f_syn_polarity15(alpha, gamma, max_depth, subsample, min_child_weight, colsample):\n",
        "    reg = XGBRegressor(reg_alpha=alpha, gamma=gamma, max_depth=int(max_depth), subsample=subsample, min_child_weight=min_child_weight,\n",
        "          colsample_bytree=colsample, n_estimators = n_est, random_state=run_num_15, objective = 'reg:squarederror')\n",
        "    score = np.array(cross_val_score(reg, X=X_train15, y=y_train15).mean())\n",
        "    return operator * score\n",
        "\n",
        "approx_15 = GPGO_multi(surrogate_approx_15, Acquisition_grad(util), f_syn_polarity15, param, n_jobs = -1) # define BayesOpt\n",
        "approx_15.run(max_iter = max_iter, init_evals = n_init) # run\n",
        "\n",
        "### Return optimal parameters' set:\n",
        "params_approx_15 = approx_15.getResult()[0]\n",
        "params_approx_15['max_depth'] = int(params_approx_15['max_depth'])\n",
        "params_approx_15['min_child_weight'] = int(params_approx_15['min_child_weight'])\n",
        "\n",
        "### Re-train with optimal parameters, run predictons:\n",
        "dX_approx_train15 = xgb.DMatrix(X_train15, y_train15)\n",
        "dX_approx_test15 = xgb.DMatrix(X_test15, y_test15)\n",
        "model_approx_15 = xgb.train(params_approx_15, dX_approx_train15)\n",
        "pred_approx_15 = model_approx_15.predict(dX_approx_test15)\n",
        "\n",
        "rmse_approx_15 = np.sqrt(mean_squared_error(pred_approx_15, y_test15))\n",
        "rmse_approx_15"
      ],
      "execution_count": null,
      "outputs": [
        {
          "output_type": "stream",
          "name": "stdout",
          "text": [
            "Evaluation \t Proposed point \t  Current eval. \t  Best eval. \t         Max. ExactAcqFunc \t Max. ApproxAcqFunc \n",
            "init\t [ 8.48817697  1.78895925 12.          0.55549316  8.          0.93397854]\t 0.7846478010899064\t 0.7846478010899064\t    \t    \n",
            "init\t [ 0.24953032  8.22298097 12.          0.62494951 11.          0.12924598]\t 1.0448868808294456\t 0.7846478010899064\t    \t    \n",
            "init\t [ 5.02017228  5.50882771 11.          0.85295832 19.          0.13548008]\t 1.0327067294213346\t 0.7846478010899064\t    \t    \n",
            "init\t [2.0023081  9.98543403 7.         0.6295772  2.         0.526127  ]\t 0.8536879526704689\t 0.7846478010899064\t    \t    \n",
            "init\t [ 5.09715306  9.45038417 11.          0.7388277  16.          0.22739973]\t 1.0323325469581077\t 0.7846478010899064\t    \t    \n",
            "1  \t [ 0.29158961  4.9949242  12.          0.89124583  3.          0.67554049]\t 0.810550884613735\t 0.7846478010899064\t 0.8953833878731405\t 0.8953833878731405\n",
            "2  \t [2.60517447 0.82584036 7.         0.6107555  4.         0.25427784]\t 0.9535088265263543\t 0.7846478010899064\t 0.8889852098358495\t 0.8889852098358495\n",
            "3  \t [ 9.6900225   0.69761314 13.          0.54877119 16.          0.55532692]\t 0.8510013207624312\t 0.7846478010899064\t 0.8898056006363613\t 0.8898056006363613\n",
            "4  \t [ 0.17038046  4.0994988   5.          0.9369742  16.          0.54868727]\t 0.828091190657293\t 0.7846478010899064\t 0.8869484664873917\t 0.8869484664873917\n",
            "\u001b[1m\u001b[92m5\u001b[0m\t \u001b[1m\u001b[92m[ 7.00755347  9.83963845  5.          0.51866345 10.          0.95031515]\u001b[0m\t \u001b[1m\u001b[92m0.7842936215568133\u001b[0m\t \u001b[1m\u001b[92m0.7842936215568133\u001b[0m\t \u001b[1m\u001b[92m0.8840753638841531\u001b[0m\t \u001b[1m\u001b[92m0.8840753638841531\u001b[0m\n",
            "6  \t [ 8.69662558  6.80112051 14.          0.50188459  3.          0.90006664]\t 0.7922437692065248\t 0.7842936215568133\t 0.8804158627319066\t 0.8804158627319066\n",
            "7  \t [ 9.09795503  1.07150197  7.          0.98191679 19.          0.62951892]\t 0.7965305854630446\t 0.7842936215568133\t 0.8778193420149321\t 0.8778193420123862\n",
            "8  \t [ 5.71795852  3.29182973  6.          0.72243514 13.          0.22847848]\t 1.0316200017464863\t 0.7842936215568133\t 0.8757369907197133\t 0.8757369907197133\n",
            "9  \t [8.88449541 3.44367948 6.         0.58829924 7.         0.7864797 ]\t 0.8467944167491783\t 0.7842936215568133\t 0.8789985788283912\t 0.8789985787676057\n",
            "10 \t [ 8.47779105  8.43696768  5.          0.73890705 16.          0.66738091]\t 0.8243356733622897\t 0.7842936215568133\t 0.878027889481013\t 0.878027889481013\n",
            "11 \t [9.8850401  9.05036452 8.         0.98423572 3.         0.82693955]\t 0.8067689920731376\t 0.7842936215568133\t 0.8768054639033269\t 0.8768054639033269\n",
            "12 \t [ 9.64496659  9.57963322 10.          0.94492464 10.          0.37804844]\t 0.9226006190101874\t 0.7842936215568133\t 0.8754622756090104\t 0.8754622756090104\n",
            "13 \t [ 2.02831554  0.76587809 10.          0.55245407 10.          0.74804361]\t 0.8295846457765217\t 0.7842936215568133\t 0.8760695108490102\t 0.8760695108464057\n",
            "14 \t [ 0.30003945  0.76498683 12.          0.61016683 19.          0.36909762]\t 0.9465503658362678\t 0.7842936215568133\t 0.8752315472806422\t 0.8752315472662429\n",
            "15 \t [8.22758548 0.07463989 9.         0.77602214 2.         0.75923734]\t 0.8343788249399978\t 0.7842936215568133\t 0.8761455782823881\t 0.8761455782823881\n",
            "16 \t [1.58135563 6.14676537 7.         0.58599454 7.         0.37032959]\t 0.9517346286188724\t 0.7842936215568133\t 0.8754483682054359\t 0.875448365927865\n",
            "17 \t [ 4.01670013  3.89281947 11.          0.76884122 14.          0.62163927]\t 0.8243508586149042\t 0.7842936215568133\t 0.8763361851898004\t 0.8763361851898004\n",
            "18 \t [ 3.99436696  9.60018204 13.          0.53753551  8.          0.86982609]\t 0.8299737426542443\t 0.7842936215568133\t 0.8755788027244604\t 0.8755788027244604\n",
            "19 \t [ 9.64875283  9.32176949  8.          0.85263567 19.          0.33410227]\t 0.9264535302583298\t 0.7842936215568133\t 0.8749484050315461\t 0.8749484050315461\n",
            "20 \t [6.71458767 6.21192942 5.         0.70021974 1.         0.14733325]\t 1.034854344776005\t 0.7842936215568133\t 0.8754443049088363\t 0.8754443009498662\n",
            "21 \t [ 0.33674928  7.40596297  7.4315686   0.86144303 12.211285    0.29553286]\t 0.9324432969432508\t 0.7842936215568133\t 0.8771953130416081\t 0.8771944287819721\n",
            "22 \t [ 4.6335424   4.56519638 12.          0.68897197  1.          0.44298405]\t 0.9737240398528317\t 0.7842936215568133\t 0.8776317890259947\t 0.8776305591943111\n",
            "\u001b[1m\u001b[92m23\u001b[0m\t \u001b[1m\u001b[92m[ 5.06676401  4.93206098 11.          0.66822909  7.          0.90969474]\u001b[0m\t \u001b[1m\u001b[92m0.7717796656769347\u001b[0m\t \u001b[1m\u001b[92m0.7717796656769347\u001b[0m\t \u001b[1m\u001b[92m0.8784783306557017\u001b[0m\t \u001b[1m\u001b[92m0.8784783300267335\u001b[0m\n",
            "24 \t [ 3.46195104  0.69035974  8.          0.80157359 18.          0.79386863]\t 0.8142971279425801\t 0.7717796656769347\t 0.8672358507971973\t 0.8672356731370228\n",
            "\u001b[1m\u001b[92m25\u001b[0m\t \u001b[1m\u001b[92m[0.         2.92082495 8.23424685 0.9008131  1.         1.        ]\u001b[0m\t \u001b[1m\u001b[92m0.7564982348898891\u001b[0m\t \u001b[1m\u001b[92m0.7564982348898891\u001b[0m\t \u001b[1m\u001b[92m0.8665319641516258\u001b[0m\t \u001b[1m\u001b[92m0.86653096904209\u001b[0m\n",
            "26 \t [ 7.4679151   6.11968454 14.          0.59617872 16.          0.1338107 ]\t 1.042313097322867\t 0.7564982348898891\t 0.8530923245357354\t 0.8530922663484247\n",
            "27 \t [ 0.43735915  3.67836715 14.          0.95379946  9.          0.47322582]\t 0.9281997962961828\t 0.7564982348898891\t 0.8546172024879106\t 0.8546172024879106\n",
            "28 \t [ 3.24671338  8.21765426  6.          0.54761532 16.          0.24847537]\t 1.0404628696193146\t 0.7564982348898891\t 0.8549475523898297\t 0.8549474184949749\n",
            "29 \t [ 1.0633611   7.3759406  12.          0.73992647 17.          0.22108285]\t 1.0322553974684123\t 0.7564982348898891\t 0.8563036594127204\t 0.8563035954870973\n",
            "30 \t [ 9.40435768  7.598465   10.          0.97457018 15.          0.31309738]\t 0.9314234944354094\t 0.7564982348898891\t 0.8574994982967383\t 0.8574994982967383\n"
          ]
        },
        {
          "output_type": "execute_result",
          "data": {
            "text/plain": [
              "64824.43612841639"
            ]
          },
          "metadata": {},
          "execution_count": 35
        }
      ]
    },
    {
      "cell_type": "code",
      "metadata": {
        "id": "9HrAQN-pU9Qo",
        "colab": {
          "base_uri": "https://localhost:8080/"
        },
        "outputId": "9b942abb-e4a2-4936-d933-c9cb9ff84814"
      },
      "source": [
        "### Bayesian optimization runs (x20): 'approx' Acquisition Function run number = 16\n",
        "\n",
        "np.random.seed(run_num_16)\n",
        "surrogate_approx_16 = dGaussianProcess(cov_func, optimize=opt)\n",
        "\n",
        "X_train16, X_test16, y_train16, y_test16 = train_test_split(X, y, test_size=test_perc, random_state=run_num_16)\n",
        "\n",
        "def f_syn_polarity16(alpha, gamma, max_depth, subsample, min_child_weight, colsample):\n",
        "    reg = XGBRegressor(reg_alpha=alpha, gamma=gamma, max_depth=int(max_depth), subsample=subsample, min_child_weight=min_child_weight,\n",
        "          colsample_bytree=colsample, n_estimators = n_est, random_state=run_num_16, objective = 'reg:squarederror')\n",
        "    score = np.array(cross_val_score(reg, X=X_train16, y=y_train16).mean())\n",
        "    return operator * score\n",
        "\n",
        "approx_16 = GPGO_multi(surrogate_approx_16, Acquisition_grad(util), f_syn_polarity16, param, n_jobs = -1) # define BayesOpt\n",
        "approx_16.run(max_iter = max_iter, init_evals = n_init) # run\n",
        "\n",
        "### Return optimal parameters' set:\n",
        "params_approx_16 = approx_16.getResult()[0]\n",
        "params_approx_16['max_depth'] = int(params_approx_16['max_depth'])\n",
        "params_approx_16['min_child_weight'] = int(params_approx_16['min_child_weight'])\n",
        "\n",
        "### Re-train with optimal parameters, run predictons:\n",
        "dX_approx_train16 = xgb.DMatrix(X_train16, y_train16)\n",
        "dX_approx_test16 = xgb.DMatrix(X_test16, y_test16)\n",
        "model_approx_16 = xgb.train(params_approx_16, dX_approx_train16)\n",
        "pred_approx_16 = model_approx_16.predict(dX_approx_test16)\n",
        "\n",
        "rmse_approx_16 = np.sqrt(mean_squared_error(pred_approx_16, y_test16))\n",
        "rmse_approx_16"
      ],
      "execution_count": null,
      "outputs": [
        {
          "output_type": "stream",
          "name": "stdout",
          "text": [
            "Evaluation \t Proposed point \t  Current eval. \t  Best eval. \t         Max. ExactAcqFunc \t Max. ApproxAcqFunc \n",
            "init\t [2.23291079 5.23163341 6.         0.65430839 5.         0.30077285]\t 1.0442882316794924\t 0.9988899440522335\t    \t    \n",
            "init\t [6.88726162 1.63731425 7.         0.97050543 2.         0.25392012]\t 1.034592364984854\t 0.9988899440522335\t    \t    \n",
            "init\t [ 5.94328983  5.6393473   5.          0.67602695 19.          0.42538144]\t 0.9988899440522335\t 0.9988899440522335\t    \t    \n",
            "init\t [ 0.88741148  3.08148142 14.          0.56043938  9.          0.27515386]\t 1.0616382201607613\t 0.9988899440522335\t    \t    \n",
            "init\t [ 2.74631586  1.30996118 11.          0.52160786  8.          0.27956463]\t 1.0586655163441985\t 0.9988899440522335\t    \t    \n",
            "\u001b[1m\u001b[92m1\u001b[0m\t \u001b[1m\u001b[92m[ 7.8937256   1.5972923  14.          0.61610774 17.          0.78739284]\u001b[0m\t \u001b[1m\u001b[92m0.7588724777099193\u001b[0m\t \u001b[1m\u001b[92m0.7588724777099193\u001b[0m\t \u001b[1m\u001b[92m1.0922109077614364\u001b[0m\t \u001b[1m\u001b[92m1.0922109077614364\u001b[0m\n",
            "2  \t [ 9.65014948  7.07834667 14.          0.88748515  2.          0.43513691]\t 1.0357720753154218\t 0.7588724777099193\t 0.8875906499130566\t 0.8875906499130566\n",
            "3  \t [ 9.80741348  8.90144788 14.          0.82131992 14.          0.46769684]\t 0.9957364873565091\t 0.7588724777099193\t 0.8892201459265185\t 0.8892201459265185\n",
            "4  \t [ 0.78730688  7.98438553 14.          0.91743896 18.          0.25645593]\t 1.0230792313624693\t 0.7588724777099193\t 0.8889057198928583\t 0.8889057198928583\n",
            "5  \t [ 1.64983341  0.37890577  9.          0.65437216 16.          0.49641159]\t 0.9990381912537636\t 0.7588724777099193\t 0.8895824158862528\t 0.8895824158862528\n",
            "6  \t [ 5.58043809  8.91463745  8.          0.85851576 10.          0.64398202]\t 0.857846290397769\t 0.7588724777099193\t 0.8894076934102845\t 0.8894076934102845\n",
            "7  \t [ 2.65571666  4.32529089 14.          0.66921971  2.          0.36607383]\t 1.0693894233525565\t 0.7588724777099193\t 0.8856900525754086\t 0.8856900525754086\n",
            "8  \t [ 5.53392197  2.00879238  6.          0.89871466 12.          0.67694144]\t 0.8611559732831295\t 0.7588724777099193\t 0.8876687979825628\t 0.8876687976757851\n",
            "\u001b[1m\u001b[92m9\u001b[0m\t \u001b[1m\u001b[92m[6.95801625 9.13555009 8.         0.87520198 2.         0.98461662]\u001b[0m\t \u001b[1m\u001b[92m0.7219532506859043\u001b[0m\t \u001b[1m\u001b[92m0.7219532506859043\u001b[0m\t \u001b[1m\u001b[92m0.8847262477793998\u001b[0m\t \u001b[1m\u001b[92m0.8847262477793998\u001b[0m\n",
            "10 \t [ 8.77492053  6.74985642  5.          0.72525183 13.          0.93231357]\t 0.7415155405776647\t 0.7219532506859043\t 0.8511343069890982\t 0.8511343069890982\n",
            "11 \t [ 1.18539745  9.79684488 10.          0.69107903  4.          0.12860486]\t 1.1107767409489193\t 0.7219532506859043\t 0.8470101572901867\t 0.8470101572901867\n",
            "12 \t [ 8.8197294   2.64777319 14.          0.98646567 10.          0.63786085]\t 0.857182327987213\t 0.7219532506859043\t 0.8500870222112122\t 0.8500870222112122\n",
            "\u001b[1m\u001b[92m13\u001b[0m\t \u001b[1m\u001b[92m[ 0.26172129  9.94921995 14.          0.88029118  9.          0.93655616]\u001b[0m\t \u001b[1m\u001b[92m0.7195558119979323\u001b[0m\t \u001b[1m\u001b[92m0.7195558119979323\u001b[0m\t \u001b[1m\u001b[92m0.8482107399603285\u001b[0m\t \u001b[1m\u001b[92m0.8482107399603285\u001b[0m\n",
            "14 \t [0.50474552 1.15372476 8.         0.52058641 1.         0.43046119]\t 1.0617560393389873\t 0.7195558119979323\t 0.8427912374193528\t 0.8427912374189381\n",
            "15 \t [ 0.02157337  9.97534925  5.          0.75404051 13.          0.40760752]\t 1.0073272814467533\t 0.7195558119979323\t 0.8446424795747123\t 0.8446424795747123\n",
            "16 \t [ 5.73702737  7.50903876 13.          0.61487351 15.          0.57742278]\t 0.894093323976883\t 0.7195558119979323\t 0.8454201902215877\t 0.8454201902215877\n",
            "17 \t [ 7.10469951  6.34150339 11.          0.9481748   6.          0.12277199]\t 1.096518529758772\t 0.7195558119979323\t 0.8445138246044982\t 0.8445138246044982\n",
            "18 \t [ 9.56839048  0.13416862 13.          0.80729993  3.          0.41100156]\t 1.0333946700789831\t 0.7195558119979323\t 0.8465601199715016\t 0.8465601199715016\n",
            "19 \t [ 9.86485549  9.03746465 10.          0.52506306 19.          0.37580875]\t 1.0221431969128547\t 0.7195558119979323\t 0.8475174627169139\t 0.8475174627169139\n",
            "20 \t [8.75370971 6.63075821 5.         0.51315816 7.         0.52603065]\t 0.9054977129617926\t 0.7195558119979323\t 0.848236373877206\t 0.848236373877206\n",
            "21 \t [ 3.28864291  8.88700951  7.          0.70665299 16.          0.26783249]\t 1.0357266754545873\t 0.7195558119979323\t 0.8474968295335885\t 0.8474968295335885\n",
            "22 \t [ 8.02483971 10.          5.          0.5        17.57820204  0.1       ]\t 1.106865354707645\t 0.7195558119979323\t 0.8483297405882275\t 0.8483287314040275\n",
            "23 \t [0.58596137 5.71336149 9.         0.70354751 9.         0.28160967]\t 1.0385062021776466\t 0.7195558119979323\t 0.8499842226753679\t 0.8499839407816775\n",
            "24 \t [9.80508544 0.83042511 7.         0.54124599 9.         0.7836072 ]\t 0.7761448350601515\t 0.7195558119979323\t 0.8507004919689828\t 0.8507004919689828\n",
            "25 \t [ 9.01141716  1.23452325  9.          0.70620993 16.          0.46074297]\t 1.0029978093526934\t 0.7195558119979323\t 0.8488083185674024\t 0.8488083185674024\n",
            "26 \t [ 5.38505352  0.27838384  8.          0.64624975 19.          0.94943729]\t 0.7336533134924479\t 0.7195558119979323\t 0.8491400909377751\t 0.8491400879731722\n",
            "27 \t [ 0.2375092   5.20448002  7.          0.887766   16.          0.16167958]\t 1.0860609699883181\t 0.7195558119979323\t 0.8470926040731412\t 0.8470926040731412\n",
            "\u001b[1m\u001b[92m28\u001b[0m\t \u001b[1m\u001b[92m[ 3.60668261  3.61026877 14.          0.9898327  13.          0.9620422 ]\u001b[0m\t \u001b[1m\u001b[92m0.7148226886406304\u001b[0m\t \u001b[1m\u001b[92m0.7148226886406304\u001b[0m\t \u001b[1m\u001b[92m0.8483057669488347\u001b[0m\t \u001b[1m\u001b[92m0.8483057546778595\u001b[0m\n",
            "29 \t [ 2.57653132  1.69949481 13.90291314  0.5        17.48423441  0.1       ]\t 1.1094444166199076\t 0.7148226886406304\t 0.8426188867587563\t 0.8426168520623856\n",
            "30 \t [ 1.14745367  8.34940941 11.39432327  0.5        12.94670909  0.1       ]\t 1.1075741658904914\t 0.7148226886406304\t 0.8440280993128697\t 0.8440277633512846\n"
          ]
        },
        {
          "output_type": "execute_result",
          "data": {
            "text/plain": [
              "59717.28963578435"
            ]
          },
          "metadata": {},
          "execution_count": 36
        }
      ]
    },
    {
      "cell_type": "code",
      "metadata": {
        "id": "SXelbcAVVCqO",
        "colab": {
          "base_uri": "https://localhost:8080/"
        },
        "outputId": "854c247e-859a-4e8f-87b5-bd558e526917"
      },
      "source": [
        "### Bayesian optimization runs (x20): 'approx' Acquisition Function run number = 17\n",
        "\n",
        "np.random.seed(run_num_17)\n",
        "surrogate_approx_17 = dGaussianProcess(cov_func, optimize=opt)\n",
        "\n",
        "X_train17, X_test17, y_train17, y_test17 = train_test_split(X, y, test_size=test_perc, random_state=run_num_17)\n",
        "\n",
        "def f_syn_polarity17(alpha, gamma, max_depth, subsample, min_child_weight, colsample):\n",
        "    reg = XGBRegressor(reg_alpha=alpha, gamma=gamma, max_depth=int(max_depth), subsample=subsample, min_child_weight=min_child_weight,\n",
        "          colsample_bytree=colsample, n_estimators = n_est, random_state=run_num_17, objective = 'reg:squarederror')\n",
        "    score = np.array(cross_val_score(reg, X=X_train17, y=y_train17).mean())\n",
        "    return operator * score\n",
        "\n",
        "approx_17 = GPGO_multi(surrogate_approx_17, Acquisition_grad(util), f_syn_polarity17, param, n_jobs = -1) # define BayesOpt\n",
        "approx_17.run(max_iter = max_iter, init_evals = n_init) # run\n",
        "\n",
        "### Return optimal parameters' set:\n",
        "params_approx_17 = approx_17.getResult()[0]\n",
        "params_approx_17['max_depth'] = int(params_approx_17['max_depth'])\n",
        "params_approx_17['min_child_weight'] = int(params_approx_17['min_child_weight'])\n",
        "\n",
        "### Re-train with optimal parameters, run predictons:\n",
        "dX_approx_train17 = xgb.DMatrix(X_train17, y_train17)\n",
        "dX_approx_test17 = xgb.DMatrix(X_test17, y_test17)\n",
        "model_approx_17 = xgb.train(params_approx_17, dX_approx_train17)\n",
        "pred_approx_17 = model_approx_17.predict(dX_approx_test17)\n",
        "\n",
        "rmse_approx_17 = np.sqrt(mean_squared_error(pred_approx_17, y_test17))\n",
        "rmse_approx_17"
      ],
      "execution_count": null,
      "outputs": [
        {
          "output_type": "stream",
          "name": "stdout",
          "text": [
            "Evaluation \t Proposed point \t  Current eval. \t  Best eval. \t         Max. ExactAcqFunc \t Max. ApproxAcqFunc \n",
            "init\t [ 2.94665003  5.30586756 11.          0.94443241 14.          0.80828691]\t 0.8160193762021096\t 0.8160193762021096\t    \t    \n",
            "init\t [ 6.56333522  6.37520896 12.          0.81487881 18.          0.42203224]\t 0.9345750435828236\t 0.8160193762021096\t    \t    \n",
            "init\t [ 9.45683187  0.6004468  11.          0.5171566  10.          0.53881211]\t 0.8609997448649105\t 0.8160193762021096\t    \t    \n",
            "init\t [2.72705857 1.19063434 6.         0.74176431 6.         0.10101151]\t 0.9816665199899536\t 0.8160193762021096\t    \t    \n",
            "init\t [ 4.77631812  5.24671297 13.          0.66254476 19.          0.36708086]\t 0.9568167510294832\t 0.8160193762021096\t    \t    \n",
            "1  \t [ 0.65702322  5.79284078 13.          0.75136902  1.          0.30306068]\t 0.9860041719301801\t 0.8160193762021096\t 0.906562856677992\t 0.906562856677992\n",
            "2  \t [8.79462978 7.51560605 6.         0.76312232 8.         0.57156636]\t 0.8418838401878418\t 0.8160193762021096\t 0.9103160502301246\t 0.9103160502301246\n",
            "\u001b[1m\u001b[92m3\u001b[0m\t \u001b[1m\u001b[92m[0.65992542 7.03112384 5.         0.85138174 1.         0.9514344 ]\u001b[0m\t \u001b[1m\u001b[92m0.7805118546901472\u001b[0m\t \u001b[1m\u001b[92m0.7805118546901472\u001b[0m\t \u001b[1m\u001b[92m0.9074818825613613\u001b[0m\t \u001b[1m\u001b[92m0.9074818825613613\u001b[0m\n",
            "4  \t [ 9.51671323  9.6124566  13.          0.71797221  5.          0.16581182]\t 0.9840979999934294\t 0.7805118546901472\t 0.8746105690778377\t 0.8746105690778377\n",
            "5  \t [ 9.17797544  5.99568118  6.          0.52445603 15.          0.40946449]\t 0.955892785185136\t 0.7805118546901472\t 0.8774956895905699\t 0.8774956895905699\n",
            "6  \t [ 6.81284184  2.29577018  7.          0.5239727  13.          0.33920765]\t 0.9781132546552117\t 0.7805118546901472\t 0.879983464655225\t 0.879983464655225\n",
            "7  \t [ 2.46339402  0.14039019 14.          0.95096219  7.          0.5441132 ]\t 0.8404775189371637\t 0.7805118546901472\t 0.8807621683324771\t 0.8807621683324771\n",
            "8  \t [9.72843652 3.88893279 9.         0.6901555  1.         0.31608219]\t 0.9731655942341536\t 0.7805118546901472\t 0.8790948947543574\t 0.8790948947543574\n",
            "9  \t [ 1.2716555   3.78378689  5.          0.57556817 17.          0.18163876]\t 0.9895289390337443\t 0.7805118546901472\t 0.8804909887399012\t 0.8804909887399012\n",
            "10 \t [1.38490793 6.87002541 5.         0.73931504 9.         0.41767138]\t 0.9451941333061711\t 0.7805118546901472\t 0.8820332460740168\t 0.8820332460740168\n",
            "11 \t [ 0.19725752  8.16335211 14.          0.80836431  8.          0.45209851]\t 0.9443317250470002\t 0.7805118546901472\t 0.8825035247143936\t 0.8825035247143936\n",
            "12 \t [ 9.99251025  3.68443024 14.          0.88286102  6.          0.35061034]\t 0.9638650175020833\t 0.7805118546901472\t 0.8828993954429126\t 0.8828993925818317\n",
            "13 \t [ 5.50988068  4.52551329 10.          0.62342816  9.          0.60901352]\t 0.862957405751604\t 0.7805118546901472\t 0.8835797380743635\t 0.8835795813107383\n",
            "14 \t [5.79855217 7.64610678 9.         0.54644758 3.         0.68341681]\t 0.8826197226341577\t 0.7805118546901472\t 0.8826372078977176\t 0.8826371692877795\n",
            "15 \t [ 9.19532326  8.42928342 11.          0.5289521  11.          0.74996998]\t 0.8809567223983923\t 0.7805118546901472\t 0.8820662669076128\t 0.8820662669076128\n",
            "16 \t [6.14842106 3.92031042 5.         0.80436272 5.         0.42842685]\t 0.9528035553726776\t 0.7805118546901472\t 0.8820368224844252\t 0.8820368224844252\n",
            "17 \t [ 1.93531857  1.03643759  8.          0.58366211 11.          0.77260063]\t 0.8293826672553373\t 0.7805118546901472\t 0.8819938209944997\t 0.8819933650213446\n",
            "18 \t [ 1.83368891  8.1756677   8.          0.96471075 17.          0.14868642]\t 0.9694018750179361\t 0.7805118546901472\t 0.8809024416250348\t 0.8809014395104015\n",
            "19 \t [ 1.32113565  9.62738611 14.          0.55066636 15.          0.36069244]\t 0.9688180161670505\t 0.7805118546901472\t 0.8815637681892851\t 0.8815637016259567\n",
            "20 \t [ 6.88175573  0.68997438  9.          0.55006192 19.          0.74555899]\t 0.8711954678288816\t 0.7805118546901472\t 0.8821624426295868\t 0.8821624426295868\n",
            "21 \t [ 7.32262595  0.987487   14.          0.78324612 14.          0.76403633]\t 0.8212534877831461\t 0.7805118546901472\t 0.8816260915361903\t 0.8816258644324165\n",
            "\u001b[1m\u001b[92m22\u001b[0m\t \u001b[1m\u001b[92m[6.38613365 0.         9.90453092 1.         4.95337177 1.        ]\u001b[0m\t \u001b[1m\u001b[92m0.7537589617449776\u001b[0m\t \u001b[1m\u001b[92m0.7537589617449776\u001b[0m\t \u001b[1m\u001b[92m0.8806382868146617\u001b[0m\t \u001b[1m\u001b[92m0.8806382173549231\u001b[0m\n",
            "23 \t [ 7.07271536  8.13007518  5.          0.98530219 19.          0.92839144]\t 0.7751049089439255\t 0.7537589617449776\t 0.8580970187223913\t 0.8580970187223913\n",
            "24 \t [10.          0.          5.          0.90250337  6.88306915  1.        ]\t 0.7724833282189387\t 0.7537589617449776\t 0.8564499082429926\t 0.8564500874332464\n",
            "25 \t [ 7.44557497  6.4051755  14.84729685  0.95822404 13.1045044   0.84851199]\t 0.8125708080001086\t 0.7537589617449776\t 0.8552521566268615\t 0.8552513187539685\n",
            "26 \t [ 3.61406382  9.87735751 10.          0.70199599  8.          0.85082246]\t 0.8238784103397794\t 0.7537589617449776\t 0.8544642237294571\t 0.8544641489890694\n",
            "27 \t [ 5.62137526  0.50742571 12.          0.60891749  1.          0.89299215]\t 0.8009030532950018\t 0.7537589617449776\t 0.8541574352629367\t 0.8541574352629367\n",
            "28 \t [ 1.97563306  0.         13.78592142  1.         12.50442621  0.1       ]\t 1.0079602555316398\t 0.7537589617449776\t 0.8530314107046925\t 0.8530317386728978\n",
            "29 \t [ 0.30609514  2.49894713 14.          0.69397027 18.          0.71750058]\t 0.8500957457886222\t 0.7537589617449776\t 0.8540666369990175\t 0.8540664060656769\n",
            "30 \t [ 1.53125148  0.          9.91636832  0.5        16.51965939  1.        ]\t 0.7859702816748185\t 0.7537589617449776\t 0.8536919960605962\t 0.8536908274434291\n"
          ]
        },
        {
          "output_type": "execute_result",
          "data": {
            "text/plain": [
              "62050.67108598909"
            ]
          },
          "metadata": {},
          "execution_count": 37
        }
      ]
    },
    {
      "cell_type": "code",
      "metadata": {
        "id": "qJG2fAtAVFDZ",
        "colab": {
          "base_uri": "https://localhost:8080/"
        },
        "outputId": "7a27457a-2559-4551-f6c8-603ed98373f9"
      },
      "source": [
        "### Bayesian optimization runs (x20): 'approx' Acquisition Function run number = 18\n",
        "\n",
        "np.random.seed(run_num_18)\n",
        "surrogate_approx_18 = dGaussianProcess(cov_func, optimize=opt)\n",
        "\n",
        "X_train18, X_test18, y_train18, y_test18 = train_test_split(X, y, test_size=test_perc, random_state=run_num_18)\n",
        "\n",
        "def f_syn_polarity18(alpha, gamma, max_depth, subsample, min_child_weight, colsample):\n",
        "    reg = XGBRegressor(reg_alpha=alpha, gamma=gamma, max_depth=int(max_depth), subsample=subsample, min_child_weight=min_child_weight,\n",
        "          colsample_bytree=colsample, n_estimators = n_est, random_state=run_num_11, objective = 'reg:squarederror')\n",
        "    score = np.array(cross_val_score(reg, X=X_train18, y=y_train18).mean())\n",
        "    return operator * score\n",
        "\n",
        "approx_18 = GPGO_multi(surrogate_approx_18, Acquisition_grad(util), f_syn_polarity18, param, n_jobs = -1) # define BayesOpt\n",
        "approx_18.run(max_iter = max_iter, init_evals = n_init) # run\n",
        "\n",
        "### Return optimal parameters' set:\n",
        "params_approx_18 = approx_18.getResult()[0]\n",
        "params_approx_18['max_depth'] = int(params_approx_18['max_depth'])\n",
        "params_approx_18['min_child_weight'] = int(params_approx_18['min_child_weight'])\n",
        "\n",
        "### Re-train with optimal parameters, run predictons:\n",
        "dX_approx_train18 = xgb.DMatrix(X_train18, y_train18)\n",
        "dX_approx_test18 = xgb.DMatrix(X_test18, y_test18)\n",
        "model_approx_18 = xgb.train(params_approx_18, dX_approx_train18)\n",
        "pred_approx_18 = model_approx_18.predict(dX_approx_test18)\n",
        "\n",
        "rmse_approx_18 = np.sqrt(mean_squared_error(pred_approx_18, y_test18))\n",
        "rmse_approx_18"
      ],
      "execution_count": null,
      "outputs": [
        {
          "output_type": "stream",
          "name": "stdout",
          "text": [
            "Evaluation \t Proposed point \t  Current eval. \t  Best eval. \t         Max. ExactAcqFunc \t Max. ApproxAcqFunc \n",
            "init\t [6.50374242 5.05453374 6.         0.59092011 3.         0.28357516]\t 0.9945504564494708\t 0.8040972705253946\t    \t    \n",
            "init\t [0.11506734 4.26891483 9.         0.81785956 5.         0.63489043]\t 0.8040972705253946\t 0.8040972705253946\t    \t    \n",
            "init\t [ 2.8861259   6.35547834 11.          0.64267955 14.          0.27877092]\t 0.9800705737387579\t 0.8040972705253946\t    \t    \n",
            "init\t [6.57189031 6.99655629 8.         0.63235896 4.         0.52894035]\t 0.8208145553024886\t 0.8040972705253946\t    \t    \n",
            "init\t [ 6.66600348  2.11312037 14.          0.74363461  4.          0.73174558]\t 0.8099770295888573\t 0.8040972705253946\t    \t    \n",
            "1  \t [ 8.67093232  0.11649132  5.          0.92962202 15.          0.53672863]\t 0.8290526771960891\t 0.8040972705253946\t 0.8913052751824516\t 0.8913052751824516\n",
            "\u001b[1m\u001b[92m2\u001b[0m\t \u001b[1m\u001b[92m[ 7.2764983   0.11744451 14.          0.65239666 17.          0.99049521]\u001b[0m\t \u001b[1m\u001b[92m0.7717526578038573\u001b[0m\t \u001b[1m\u001b[92m0.7717526578038573\u001b[0m\t \u001b[1m\u001b[92m0.8889660099412724\u001b[0m\t \u001b[1m\u001b[92m0.8889660099412724\u001b[0m\n",
            "3  \t [ 6.9243088   2.24175244  9.          0.535904   10.          0.52104842]\t 0.8267998563487631\t 0.7717526578038573\t 0.8588112872043526\t 0.8588112872043526\n",
            "4  \t [ 9.05522886  7.72410538  5.          0.69563915 18.          0.34113663]\t 0.9720368320825408\t 0.7717526578038573\t 0.8576912940614487\t 0.8576912940614487\n",
            "5  \t [ 9.98394208  8.5932438  14.          0.75596751 19.          0.64506065]\t 0.7939440774877953\t 0.7717526578038573\t 0.8616525788675311\t 0.8616525788675311\n",
            "6  \t [ 8.22273842  9.68669454  5.          0.7147283  11.          0.16411281]\t 1.0766617046782607\t 0.7717526578038573\t 0.859349247174433\t 0.859349247174433\n",
            "7  \t [ 0.08591204  9.74195655 12.          0.74151757  5.          0.3185873 ]\t 0.9865655751601909\t 0.7717526578038573\t 0.8651709939307735\t 0.8651709939307735\n",
            "8  \t [ 4.03380825  2.4111677   6.          0.56432973 19.          0.69535369]\t 0.8142962383415243\t 0.7717526578038573\t 0.8676184947482191\t 0.8676184945607892\n",
            "9  \t [ 1.80118477  1.19747778 13.          0.79590104  8.          0.56741067]\t 0.8216445533109903\t 0.7717526578038573\t 0.8660168246917187\t 0.866016818827397\n",
            "10 \t [ 2.63732683  4.87962717 14.          0.99986359 19.          0.86504659]\t 0.7908825942180885\t 0.7717526578038573\t 0.8647742985317551\t 0.8647742985317551\n",
            "11 \t [ 0.2637722   4.11659493  5.          0.61604637 11.          0.22374653]\t 1.0699354655820383\t 0.7717526578038573\t 0.8631856893567099\t 0.8631856893567099\n",
            "12 \t [ 3.09522647  6.97119948 14.          0.63850148  1.          0.54769428]\t 0.8390111546541604\t 0.7717526578038573\t 0.8667996591330404\t 0.8667996591330404\n",
            "13 \t [ 1.3916722   9.15131624  5.          0.92812295 18.          0.82773453]\t 0.8081813206174656\t 0.7717526578038573\t 0.8659925222869768\t 0.8659925222869768\n",
            "14 \t [8.45918053 0.39509087 9.         0.81105792 3.         0.47358724]\t 0.9054011377721235\t 0.7717526578038573\t 0.8648396513044767\t 0.8648395638977042\n",
            "15 \t [ 2.3725221   1.25906939 10.          0.50882646  1.          0.22780426]\t 1.0723600248770468\t 0.7717526578038573\t 0.8651591703556379\t 0.8651591703556379\n",
            "16 \t [ 9.04557073  7.9579056  13.          0.79457459 11.          0.37545445]\t 0.8885807313939675\t 0.7717526578038573\t 0.867987412618342\t 0.867987412618342\n",
            "\u001b[1m\u001b[92m17\u001b[0m\t \u001b[1m\u001b[92m[ 0.          1.80304862 15.          1.          3.51843001  1.        ]\u001b[0m\t \u001b[1m\u001b[92m0.7617853697244429\u001b[0m\t \u001b[1m\u001b[92m0.7617853697244429\u001b[0m\t \u001b[1m\u001b[92m0.8679050197146394\u001b[0m\t \u001b[1m\u001b[92m0.867904657594271\u001b[0m\n",
            "18 \t [ 0.60113414  0.8013434  13.          0.87853647 14.          0.27338447]\t 0.9742504088050621\t 0.7617853697244429\t 0.858335762307636\t 0.858335762307636\n",
            "19 \t [9.2798599  7.10759547 6.         0.7926243  1.         0.10786223]\t 1.0659804815531757\t 0.7617853697244429\t 0.8595400592608871\t 0.8595400592608871\n",
            "20 \t [ 3.85209061 10.          5.          0.5         7.61534849  1.        ]\t 0.7757950380155675\t 0.7617853697244429\t 0.861594953040159\t 0.8615949057399981\n",
            "21 \t [ 7.98752418  9.16826643 14.          0.79759247  3.          0.1066068 ]\t 1.0683098655904952\t 0.7617853697244429\t 0.8602967193092536\t 0.8602967193092536\n",
            "22 \t [0.         1.37999287 5.43002348 0.70182614 2.1142985  0.80487931]\t 0.8160507327398149\t 0.7617853697244429\t 0.8623123636779932\t 0.862312089945389\n",
            "23 \t [10.          5.93738392 11.2299383   0.56596632  1.          1.        ]\t 0.7841365997840613\t 0.7617853697244429\t 0.8614525387218481\t 0.8614515522600661\n",
            "24 \t [ 3.07095238  9.11590966 13.          0.52104481 10.          0.35982183]\t 0.993517377186917\t 0.7617853697244429\t 0.8604877676270635\t 0.8604877676270635\n",
            "25 \t [ 7.53924558  0.         14.20433242  0.7400917   9.38758306  0.1       ]\t 1.067889373754443\t 0.7617853697244429\t 0.8613520690940691\t 0.8613526360778772\n",
            "26 \t [ 7.37367951  6.84078152 10.          0.75049554 18.          0.34813259]\t 0.977519436386142\t 0.7617853697244429\t 0.863058504241861\t 0.8630571908868295\n",
            "27 \t [ 5.05057338 10.         14.03428376  1.         19.00875218  0.1       ]\t 1.0129768622002662\t 0.7617853697244429\t 0.8637299850175139\t 0.863729485852525\n",
            "28 \t [4.87245891 0.03350161 6.         0.83466638 1.         0.44183056]\t 0.89836827474679\t 0.7617853697244429\t 0.8647981041744629\t 0.8647981041744629\n",
            "29 \t [9.89337178 3.81875947 5.         0.59649267 7.         0.86884145]\t 0.8135175712902963\t 0.7617853697244429\t 0.8646815265461212\t 0.8646815265461212\n",
            "30 \t [0.         9.17708645 5.87741442 1.         1.         0.1       ]\t 1.0170374851705364\t 0.7617853697244429\t 0.863818817791151\t 0.8638202277347146\n"
          ]
        },
        {
          "output_type": "execute_result",
          "data": {
            "text/plain": [
              "62420.46131718859"
            ]
          },
          "metadata": {},
          "execution_count": 38
        }
      ]
    },
    {
      "cell_type": "code",
      "metadata": {
        "id": "XHidSEGcVHvG",
        "colab": {
          "base_uri": "https://localhost:8080/"
        },
        "outputId": "db58dbf0-0cc0-4395-e230-ac9312401661"
      },
      "source": [
        "### Bayesian optimization runs (x20): 'approx' Acquisition Function run number = 19\n",
        "\n",
        "np.random.seed(run_num_19)\n",
        "surrogate_approx_19 = dGaussianProcess(cov_func, optimize=opt)\n",
        "\n",
        "X_train19, X_test19, y_train19, y_test19 = train_test_split(X, y, test_size=test_perc, random_state=run_num_19)\n",
        "\n",
        "def f_syn_polarity19(alpha, gamma, max_depth, subsample, min_child_weight, colsample):\n",
        "    reg = XGBRegressor(reg_alpha=alpha, gamma=gamma, max_depth=int(max_depth), subsample=subsample, min_child_weight=min_child_weight,\n",
        "          colsample_bytree=colsample, n_estimators = n_est, random_state=run_num_19, objective = 'reg:squarederror')\n",
        "    score = np.array(cross_val_score(reg, X=X_train19, y=y_train19).mean())\n",
        "    return operator * score\n",
        "\n",
        "approx_19 = GPGO_multi(surrogate_approx_19, Acquisition_grad(util), f_syn_polarity19, param, n_jobs = -1) # define BayesOpt\n",
        "approx_19.run(max_iter = max_iter, init_evals = n_init) # run\n",
        "\n",
        "### Return optimal parameters' set:\n",
        "params_approx_19 = approx_19.getResult()[0]\n",
        "params_approx_19['max_depth'] = int(params_approx_19['max_depth'])\n",
        "params_approx_19['min_child_weight'] = int(params_approx_19['min_child_weight'])\n",
        "\n",
        "### Re-train with optimal parameters, run predictons:\n",
        "dX_approx_train19 = xgb.DMatrix(X_train19, y_train19)\n",
        "dX_approx_test19 = xgb.DMatrix(X_test19, y_test19)\n",
        "model_approx_19 = xgb.train(params_approx_19, dX_approx_train19)\n",
        "pred_approx_19 = model_approx_19.predict(dX_approx_test19)\n",
        "\n",
        "rmse_approx_19 = np.sqrt(mean_squared_error(pred_approx_19, y_test19))\n",
        "rmse_approx_19"
      ],
      "execution_count": null,
      "outputs": [
        {
          "output_type": "stream",
          "name": "stdout",
          "text": [
            "Evaluation \t Proposed point \t  Current eval. \t  Best eval. \t         Max. ExactAcqFunc \t Max. ApproxAcqFunc \n",
            "init\t [ 0.97533602  7.61249717 13.          0.85765469 11.          0.39830191]\t 0.9238143360620997\t 0.824729580989813\t    \t    \n",
            "init\t [ 0.82999565  6.71977081  6.          0.50407413 19.          0.67209466]\t 0.9119597092034326\t 0.824729580989813\t    \t    \n",
            "init\t [ 2.15923256  5.49027432 12.          0.52588686 10.          0.20235326]\t 1.1280473533716002\t 0.824729580989813\t    \t    \n",
            "init\t [4.99659267 1.52108422 6.         0.73481085 4.         0.71949465]\t 0.885331313733569\t 0.824729580989813\t    \t    \n",
            "init\t [ 3.72927156  9.46160045  5.          0.80554614 18.          0.97708466]\t 0.824729580989813\t 0.824729580989813\t    \t    \n",
            "\u001b[1m\u001b[92m1\u001b[0m\t \u001b[1m\u001b[92m[ 8.33060043  1.42030563  8.          0.92863724 14.          0.78606141]\u001b[0m\t \u001b[1m\u001b[92m0.79346025102973\u001b[0m\t \u001b[1m\u001b[92m0.79346025102973\u001b[0m\t \u001b[1m\u001b[92m0.9221585360998066\u001b[0m\t \u001b[1m\u001b[92m0.9221585360998066\u001b[0m\n",
            "2  \t [ 9.87536409  7.17591217 14.          0.99713522 17.          0.55460731]\t 0.8875735409405836\t 0.79346025102973\t 0.890795420481241\t 0.890795420481241\n",
            "3  \t [ 9.05225624  3.60011377 14.          0.89518364  1.          0.11342054]\t 1.1322726135322738\t 0.79346025102973\t 0.8897690722985874\t 0.8897690722985874\n",
            "4  \t [ 0.63994078  3.71351436 14.          0.60091862  1.          0.58598556]\t 0.9633601355550562\t 0.79346025102973\t 0.8982216044739755\t 0.8982216044739755\n",
            "5  \t [4.99125702 9.50308409 8.         0.55828329 3.         0.34673953]\t 0.9736613453341365\t 0.79346025102973\t 0.8989231253431116\t 0.8989231253431116\n",
            "6  \t [ 8.42570155  4.07975309 12.          0.91619537  8.          0.61684591]\t 0.8962334110364653\t 0.79346025102973\t 0.8997800133991413\t 0.8997800132890978\n",
            "7  \t [ 3.74566023  2.13062241 14.          0.71219729 18.          0.68959412]\t 0.8910080545620651\t 0.79346025102973\t 0.8985279093015686\t 0.8985279093015686\n",
            "8  \t [ 3.63408057  9.2502169   7.          0.59622027 10.          0.62731569]\t 0.8893037640708062\t 0.79346025102973\t 0.8973674788706271\t 0.8973674788706271\n",
            "9  \t [ 1.79783097  1.91934618  5.          0.77893204 13.          0.47835366]\t 0.9338815902432167\t 0.79346025102973\t 0.8963497008729012\t 0.8963497008729012\n",
            "10 \t [ 4.45643696  6.43761151 10.          0.59521711 15.          0.91320177]\t 0.8255704645290564\t 0.79346025102973\t 0.8963410014438324\t 0.8963409864457862\n",
            "11 \t [9.94019054 7.43271319 5.         0.78342194 4.         0.90198883]\t 0.8287447527880435\t 0.79346025102973\t 0.8944403158913856\t 0.8944403158913856\n",
            "12 \t [ 9.41792853  9.11293681  6.          0.87420995 11.          0.8007601 ]\t 0.8060510151077646\t 0.79346025102973\t 0.8928231760727192\t 0.8928231653029608\n",
            "13 \t [0.04130113 6.56643894 8.         0.8316257  6.         0.23623124]\t 1.1276065677179288\t 0.79346025102973\t 0.8910674553193684\t 0.8910674480055562\n",
            "14 \t [ 9.18890824  5.50760906  5.          0.92553651 18.          0.76040056]\t 0.8195075556875523\t 0.79346025102973\t 0.8946691217814585\t 0.8946691217814585\n",
            "15 \t [ 3.29312611  0.9704927   6.          0.68391426 19.          0.43020049]\t 0.9367777767954987\t 0.79346025102973\t 0.8931760694258646\t 0.8931760694258646\n",
            "16 \t [ 0.9019348   8.21531788 14.          0.85098746 17.          0.41254672]\t 0.9192069504605914\t 0.79346025102973\t 0.8933693528866348\t 0.8933693422527708\n",
            "17 \t [9.42305669 0.3423134  7.         0.77066127 8.         0.63693457]\t 0.8744339215870263\t 0.79346025102973\t 0.8933122879231286\t 0.8933122879231286\n",
            "18 \t [ 8.22438004  9.86720872 12.          0.98809303  7.          0.25782248]\t 0.9344652596896033\t 0.79346025102973\t 0.8927151168531646\t 0.8927151165190913\n",
            "19 \t [ 1.10650842  9.77537077 14.          0.83431584  1.          0.5884296 ]\t 0.9332627646187607\t 0.79346025102973\t 0.8928752064478437\t 0.8928752039439737\n",
            "20 \t [ 9.47745808  9.50911305 13.          0.70555451  1.          0.87222907]\t 0.8410770258615529\t 0.79346025102973\t 0.8930079373225668\t 0.8930079373225668\n",
            "21 \t [0.63927877 0.36518569 5.         0.86590497 1.         0.99444527]\t 0.8260998033868784\t 0.79346025102973\t 0.8921523098602233\t 0.8921521370867729\n",
            "\u001b[1m\u001b[92m22\u001b[0m\t \u001b[1m\u001b[92m[ 0.          1.21030196 10.69898795  0.83654234  8.69898795  1.        ]\u001b[0m\t \u001b[1m\u001b[92m0.7791935619124762\u001b[0m\t \u001b[1m\u001b[92m0.7791935619124762\u001b[0m\t \u001b[1m\u001b[92m0.8912181302121072\u001b[0m\t \u001b[1m\u001b[92m0.8912169639378537\u001b[0m\n",
            "23 \t [ 5.71305539  4.04871965 15.          0.5        12.15747862  1.        ]\t 0.8094567375291193\t 0.7791935619124762\t 0.878435881260017\t 0.8784357403432297\n",
            "24 \t [9.65395382 0.         5.         1.         1.         0.1       ]\t 1.0770189432135955\t 0.7791935619124762\t 0.8774868794460492\t 0.8774876615821315\n",
            "25 \t [ 0.          3.73503361  9.50314894  0.5        16.48567445  1.        ]\t 0.8120323069629929\t 0.7791935619124762\t 0.8792484889238279\t 0.8792478441944251\n",
            "26 \t [ 9.2876216   9.23467155  9.          0.78119986 18.          0.66822771]\t 0.8680343170152218\t 0.7791935619124762\t 0.8783581122294142\t 0.8783577825295309\n",
            "27 \t [10.          0.         12.15921092  0.50989457 10.56559576  0.1       ]\t 1.1216684549768423\t 0.7791935619124762\t 0.8779853233330408\t 0.8779841230730583\n",
            "28 \t [ 9.88887059  0.90651455  5.          0.5        20.          0.1       ]\t 1.121895926943654\t 0.7791935619124762\t 0.8800299429471274\t 0.8800292195282449\n",
            "29 \t [ 8.73793669  2.43663345 11.          0.74070373 19.          0.18745114]\t 1.1280126166392743\t 0.7791935619124762\t 0.881949593149028\t 0.881949593149028\n",
            "30 \t [ 9.80949062  0.42526047 11.          0.61085682  4.          0.94165398]\t 0.8388568686556214\t 0.7791935619124762\t 0.8838127379369193\t 0.8838127379369193\n"
          ]
        },
        {
          "output_type": "execute_result",
          "data": {
            "text/plain": [
              "61217.72688702831"
            ]
          },
          "metadata": {},
          "execution_count": 39
        }
      ]
    },
    {
      "cell_type": "code",
      "metadata": {
        "id": "CWGPYRJhVKsO",
        "colab": {
          "base_uri": "https://localhost:8080/"
        },
        "outputId": "4f26e4f7-c98a-4055-c463-489bcabfd0aa"
      },
      "source": [
        "### Bayesian optimization runs (x20): 'approx' Acquisition Function run number = 20\n",
        "\n",
        "np.random.seed(run_num_20)\n",
        "surrogate_approx_20 = dGaussianProcess(cov_func, optimize=opt)\n",
        "\n",
        "X_train20, X_test20, y_train20, y_test20 = train_test_split(X, y, test_size=test_perc, random_state=run_num_20)\n",
        "\n",
        "def f_syn_polarity20(alpha, gamma, max_depth, subsample, min_child_weight, colsample):\n",
        "    reg = XGBRegressor(reg_alpha=alpha, gamma=gamma, max_depth=int(max_depth), subsample=subsample, min_child_weight=min_child_weight,\n",
        "          colsample_bytree=colsample, n_estimators = n_est, random_state=run_num_20, objective = 'reg:squarederror')\n",
        "    score = np.array(cross_val_score(reg, X=X_train20, y=y_train20).mean())\n",
        "    return operator * score\n",
        "\n",
        "approx_20 = GPGO_multi(surrogate_approx_20, Acquisition_grad(util), f_syn_polarity20, param, n_jobs = -1) # define BayesOpt\n",
        "approx_20.run(max_iter = max_iter, init_evals = n_init) # run\n",
        "\n",
        "### Return optimal parameters' set:\n",
        "params_approx_20 = approx_20.getResult()[0]\n",
        "params_approx_20['max_depth'] = int(params_approx_20['max_depth'])\n",
        "params_approx_20['min_child_weight'] = int(params_approx_20['min_child_weight'])\n",
        "\n",
        "### Re-train with optimal parameters, run predictons:\n",
        "dX_approx_train20 = xgb.DMatrix(X_train20, y_train20)\n",
        "dX_approx_test20 = xgb.DMatrix(X_test20, y_test20)\n",
        "model_approx_20 = xgb.train(params_approx_20, dX_approx_train20)\n",
        "pred_approx_20 = model_approx_20.predict(dX_approx_test20)\n",
        "\n",
        "rmse_approx_20 = np.sqrt(mean_squared_error(pred_approx_20, y_test20))\n",
        "rmse_approx_20"
      ],
      "execution_count": null,
      "outputs": [
        {
          "output_type": "stream",
          "name": "stdout",
          "text": [
            "Evaluation \t Proposed point \t  Current eval. \t  Best eval. \t         Max. ExactAcqFunc \t Max. ApproxAcqFunc \n",
            "init\t [ 5.88130801  8.97713728 14.          0.81074445  8.          0.95540649]\t 0.7520109919120059\t 0.7520109919120059\t    \t    \n",
            "init\t [6.72865655 0.41173329 8.         0.6361582  7.         0.76174061]\t 0.7843437690505969\t 0.7520109919120059\t    \t    \n",
            "init\t [ 4.77387703  8.66202323 10.          0.51833215  7.          0.10123387]\t 1.0380897569172567\t 0.7520109919120059\t    \t    \n",
            "init\t [ 5.75489985  4.74524381  8.          0.78084343 15.          0.26643049]\t 0.9185289289653313\t 0.7520109919120059\t    \t    \n",
            "init\t [ 4.53444     4.47342833  8.          0.91974896 18.          0.35997552]\t 0.9180724641961298\t 0.7520109919120059\t    \t    \n",
            "1  \t [ 7.96566073  7.15509535  7.          0.79906691 11.          0.34132075]\t 0.9254670555638643\t 0.7520109919120059\t 0.8502867487557683\t 0.8502867487557683\n",
            "2  \t [ 1.72798052  9.03285612 13.          0.50351094 19.          0.11416888]\t 1.0314631424665905\t 0.7520109919120059\t 0.8518280952642554\t 0.8518280952642554\n",
            "3  \t [ 1.96661701  1.73294312 11.          0.93201699  1.          0.60463107]\t 0.8949898491028812\t 0.7520109919120059\t 0.8577398915493104\t 0.8577398915493099\n",
            "4  \t [1.41824857 5.09758018 5.         0.56802833 5.         0.75704697]\t 0.7944418105894601\t 0.7520109919120059\t 0.8570459830644415\t 0.8570459830644415\n",
            "5  \t [ 0.41794531  1.88324969 13.          0.88408406 13.          0.43578884]\t 0.8997545663056927\t 0.7520109919120059\t 0.853560569674871\t 0.853560569674871\n",
            "6  \t [ 9.80686472  1.37296982 14.          0.9100959  10.          0.1681724 ]\t 1.0239998235141596\t 0.7520109919120059\t 0.8535554460917927\t 0.8535554460917927\n",
            "7  \t [ 9.82409087  4.45469949 11.          0.53160513  4.          0.66763423]\t 0.8480209770499222\t 0.7520109919120059\t 0.8570619006431127\t 0.8570619006431127\n",
            "8  \t [ 2.63649501  9.62311075  7.          0.5192485  13.          0.19746315]\t 1.0350432385289277\t 0.7520109919120059\t 0.8554815267351684\t 0.8554815206161818\n",
            "9  \t [1.40842154 7.81898154 9.         0.57297042 1.         0.11610409]\t 1.0363798049215616\t 0.7520109919120059\t 0.8585662810779743\t 0.8585662810779743\n",
            "10 \t [8.51004072 7.2917763  5.         0.96135496 1.         0.57493956]\t 0.865997699883801\t 0.7520109919120059\t 0.8611383603098478\t 0.8611383603098478\n",
            "11 \t [ 9.3606342   3.21248061 14.          0.65614013 17.          0.10926152]\t 1.0228429225587468\t 0.7520109919120059\t 0.8599278964683554\t 0.8599278964683554\n",
            "12 \t [ 6.27900589  9.12764923  5.          0.84263312 18.          0.79256191]\t 0.7735262251857813\t 0.7520109919120059\t 0.8618202272798804\t 0.8618201908648647\n",
            "13 \t [ 3.51322154  8.79998304 14.          0.91142182  1.          0.35103611]\t 0.956429966961306\t 0.7520109919120059\t 0.8594855659841816\t 0.8594855659841816\n",
            "\u001b[1m\u001b[92m14\u001b[0m\t \u001b[1m\u001b[92m[ 2.08109501  0.31399789  8.          0.78263012 11.          0.87673239]\u001b[0m\t \u001b[1m\u001b[92m0.7493527307804453\u001b[0m\t \u001b[1m\u001b[92m0.7493527307804453\u001b[0m\t \u001b[1m\u001b[92m0.859988173735684\u001b[0m\t \u001b[1m\u001b[92m0.859988173735684\u001b[0m\n",
            "15 \t [ 1.66070915  0.6971968  14.          0.69953824  6.          0.77654933]\t 0.767412490215102\t 0.7493527307804453\t 0.8555793147877722\t 0.8555793147877722\n",
            "16 \t [ 1.47808653  5.79832114 12.          0.95992435  9.          0.71524706]\t 0.8162777104474938\t 0.7493527307804453\t 0.8535812631767566\t 0.8535803815505173\n",
            "17 \t [ 8.3723055   9.68266939 11.          0.50145124  1.          0.82596229]\t 0.8155570453490526\t 0.7493527307804453\t 0.8524099292892029\t 0.8524098906245616\n",
            "18 \t [ 9.6068935   0.80663714  8.          0.73945426 19.          0.81169876]\t 0.7733858247841244\t 0.7493527307804453\t 0.8513352610437172\t 0.8513352596972956\n",
            "19 \t [8.67223652 9.66010575 6.         0.63457768 6.         0.86415257]\t 0.7741884139172871\t 0.7493527307804453\t 0.8498955098472815\t 0.8498953410401061\n",
            "20 \t [10.        10.        15.         1.        10.9504789  0.1      ]\t 1.03608838487586\t 0.7493527307804453\t 0.8485817470622684\t 0.8485813540458628\n",
            "21 \t [ 2.16891361  0.40236972  6.          0.57865056 19.          0.33900997]\t 0.9313584120065366\t 0.7493527307804453\t 0.8504059366575417\t 0.8504059366575417\n",
            "22 \t [7.09521948 1.98932663 6.         0.65989265 2.         0.73023722]\t 0.8250035980950701\t 0.7493527307804453\t 0.8507414715845388\t 0.8507413169659661\n",
            "23 \t [ 9.71937523  0.84081751  8.          0.83815718 13.          0.15657647]\t 1.023224799735835\t 0.7493527307804453\t 0.8500161929704412\t 0.8500161671184606\n",
            "24 \t [ 0.30624064  4.32445332  5.          0.82426886 14.          0.23255411]\t 1.0231986382798552\t 0.7493527307804453\t 0.851443017978268\t 0.851443017978268\n",
            "25 \t [ 9.68211955  9.54980552 11.          0.53087664 15.          0.39988062]\t 0.9228275716647849\t 0.7493527307804453\t 0.8526768558733074\t 0.8526768558733074\n",
            "26 \t [ 0.96616103  8.61825128  6.          0.54652057 18.          0.73561745]\t 0.8298004602077009\t 0.7493527307804453\t 0.852852816928657\t 0.852852816928657\n",
            "27 \t [2.17221743 0.         5.         1.         1.99997985 0.1       ]\t 1.0348794766325962\t 0.7493527307804453\t 0.8521952273402643\t 0.852195035997325\n",
            "28 \t [ 2.88743137  2.10627334 12.48070845  0.5        18.07326533  0.90273471]\t 0.7864100772618345\t 0.7493527307804453\t 0.8534481593920442\t 0.8534477509652358\n",
            "29 \t [ 4.53380722  9.16059722 14.          0.92296469 13.          0.912718  ]\t 0.7521469249475972\t 0.7493527307804453\t 0.8524799607860084\t 0.852479069883949\n",
            "30 \t [ 7.02579295  9.85094808 14.          0.96580292 19.          0.16252858]\t 1.0190047410756857\t 0.7493527307804453\t 0.8513246838271797\t 0.8513243634165101\n"
          ]
        },
        {
          "output_type": "execute_result",
          "data": {
            "text/plain": [
              "60306.50974237256"
            ]
          },
          "metadata": {},
          "execution_count": 40
        }
      ]
    },
    {
      "cell_type": "code",
      "metadata": {
        "id": "-1d_1LyydIfe",
        "colab": {
          "base_uri": "https://localhost:8080/"
        },
        "outputId": "f1c7d6e0-5acb-43f2-e126-82cd127918ba"
      },
      "source": [
        "end_approx = time.time()\n",
        "end_approx\n",
        "\n",
        "time_approx = end_approx - start_approx\n",
        "time_approx\n",
        "\n",
        "start_exact = time.time()\n",
        "start_exact"
      ],
      "execution_count": null,
      "outputs": [
        {
          "output_type": "execute_result",
          "data": {
            "text/plain": [
              "1653409856.7112355"
            ]
          },
          "metadata": {},
          "execution_count": 41
        }
      ]
    },
    {
      "cell_type": "code",
      "metadata": {
        "id": "ZAyOw7XYVwAf",
        "colab": {
          "base_uri": "https://localhost:8080/"
        },
        "outputId": "6aa25a37-ac02-4315-af80-69a2dbaafe45"
      },
      "source": [
        "### Bayesian optimization runs (x20): 'exact' Acquisition Function run number = 1 \n",
        "\n",
        "np.random.seed(run_num_1)\n",
        "surrogate_exact_1 = dGaussianProcess(cov_func, optimize=opt)\n",
        "\n",
        "X_train1, X_test1, y_train1, y_test1 = train_test_split(X, y, test_size=test_perc, random_state=run_num_1)\n",
        "\n",
        "def f_syn_polarity1(alpha, gamma, max_depth, subsample, min_child_weight, colsample):\n",
        "    reg = XGBRegressor(reg_alpha=alpha, gamma=gamma, max_depth=int(max_depth), subsample=subsample, min_child_weight=min_child_weight,\n",
        "          colsample_bytree=colsample, n_estimators = n_est, random_state=run_num_1, objective = 'reg:squarederror')\n",
        "    score = np.array(cross_val_score(reg, X=X_train1, y=y_train1).mean())\n",
        "    return operator * score\n",
        "\n",
        "exact_1 = dGPGO(surrogate_exact_1, Acquisition_grad(util), f_syn_polarity1, param, n_jobs = -1) # Define BayesOpt\n",
        "exact_1.run(max_iter = max_iter, init_evals = n_init) # run\n",
        "\n",
        "### Return optimal parameters' set:\n",
        "params_exact_1 = exact_1.getResult()[0]\n",
        "params_exact_1['max_depth'] = int(params_exact_1['max_depth'])\n",
        "params_exact_1['min_child_weight'] = int(params_exact_1['min_child_weight'])\n",
        "\n",
        "### Re-train with optimal parameters, run predictons:\n",
        "dX_exact_train1 = xgb.DMatrix(X_train1, y_train1)\n",
        "dX_exact_test1 = xgb.DMatrix(X_test1, y_test1)\n",
        "model_exact_1 = xgb.train(params_exact_1, dX_exact_train1)\n",
        "pred_exact_1 = model_exact_1.predict(dX_exact_test1)\n",
        "\n",
        "rmse_exact_1 = np.sqrt(mean_squared_error(pred_exact_1, y_test1))\n",
        "rmse_exact_1"
      ],
      "execution_count": null,
      "outputs": [
        {
          "output_type": "stream",
          "name": "stdout",
          "text": [
            "Evaluation \t Proposed point \t  Current eval. \t  Best eval. \t         Max. ExactAcqFunc \t Max. ApproxAcqFunc \n",
            "init\t [ 4.17022005  7.20324493 14.          0.65116629 16.          0.31248008]\t 0.848101320876155\t 0.7386468688809501\t    \t    \n",
            "init\t [ 3.96580727  3.87910741 11.          0.96776954  6.          0.71669755]\t 0.7469689781479785\t 0.7386468688809501\t    \t    \n",
            "init\t [ 2.0445225   8.78117436  7.          0.95698101 10.          0.48762871]\t 0.8079963708366673\t 0.7386468688809501\t    \t    \n",
            "init\t [ 9.39127789  7.78389236 14.          0.98413079  2.          0.87851823]\t 0.7386468688809501\t 0.7386468688809501\t    \t    \n",
            "init\t [8.29146907 8.29603359 8.         0.58491521 9.         0.18851215]\t 0.937768916815817\t 0.7386468688809501\t    \t    \n",
            "1  \t [ 7.86951474  0.6406733  11.          0.78919481 19.          0.44182296]\t 0.8126185461054997\t 0.7386468688809501\t 0.8206578438603359\t 0.8206578438603359\n",
            "2  \t [ 0.74723898  0.36469704 11.          0.84902862 15.          0.10419698]\t 0.9318704004009237\t 0.7386468688809501\t 0.8203694248468725\t 0.8203694248468725\n",
            "3  \t [7.35353694 6.03494644 5.         0.7919799  3.         0.96282991]\t 0.7646755003247829\t 0.7386468688809501\t 0.8249743468059432\t 0.8249743468059432\n",
            "\u001b[1m\u001b[92m4\u001b[0m\t \u001b[1m\u001b[92m[ 9.28266952  0.44927819  7.          0.97265422 12.          0.93288355]\u001b[0m\t \u001b[1m\u001b[92m0.7271027674356043\u001b[0m\t \u001b[1m\u001b[92m0.7271027674356043\u001b[0m\t \u001b[1m\u001b[92m0.8226911135371321\u001b[0m\t \u001b[1m\u001b[92m0.8226911135371321\u001b[0m\n",
            "5  \t [0.         0.         8.54549291 0.5        1.54549291 0.1       ]\t 0.946529991171609\t 0.7271027674356043\t 0.8104893499842186\t 0.8104893499842056\n",
            "6  \t [ 5.27267456  6.24821294  7.          0.59222531 19.          0.47393711]\t 0.8291149350544922\t 0.7271027674356043\t 0.8142549878837327\t 0.8142549878837327\n",
            "7  \t [ 2.05722318  9.92568059 11.          0.85938245  2.          0.31039182]\t 0.8530932869908747\t 0.7271027674356043\t 0.8142269335244963\t 0.8142269335244963\n",
            "\u001b[1m\u001b[92m8\u001b[0m\t \u001b[1m\u001b[92m[ 4.78292788  7.55090113 13.03658539  1.         10.03658539  1.        ]\u001b[0m\t \u001b[1m\u001b[92m0.7243699661509149\u001b[0m\t \u001b[1m\u001b[92m0.7243699661509149\u001b[0m\t \u001b[1m\u001b[92m0.81475378175767\u001b[0m\t \u001b[1m\u001b[92m0.8147537816895518\u001b[0m\n",
            "\u001b[1m\u001b[92m9\u001b[0m\t \u001b[1m\u001b[92m[10. 10. 15.  1. 20.  1.]\u001b[0m\t \u001b[1m\u001b[92m0.7169134935137329\u001b[0m\t \u001b[1m\u001b[92m0.7169134935137329\u001b[0m\t \u001b[1m\u001b[92m0.8104256304793335\u001b[0m\t \u001b[1m\u001b[92m0.8104256285634173\u001b[0m\n",
            "10 \t [ 3.2591417   1.98861193  6.          0.97463222 14.          0.75185155]\t 0.7446485266927264\t 0.7169134935137329\t 0.8024314141458136\t 0.8024314141458136\n",
            "11 \t [ 9.4605503   2.00186066 12.          0.69186722  8.          0.11311186]\t 0.9369155032359574\t 0.7169134935137329\t 0.8011775101411825\t 0.8011775101411825\n",
            "12 \t [0.15776536 8.02750992 5.         0.65248282 3.         0.71659731]\t 0.7752392265192147\t 0.7169134935137329\t 0.8034382466974969\t 0.8034382466974969\n",
            "13 \t [ 0.31984184  8.77960419  5.          0.79374224 16.          0.99761184]\t 0.7565632331819597\t 0.7169134935137329\t 0.8027282169901699\t 0.8027282169901699\n",
            "14 \t [ 0.99440257  2.23238431 10.          0.58984965 12.          0.68792603]\t 0.7644930642703252\t 0.7169134935137329\t 0.8018323632793576\t 0.8018323632793576\n",
            "15 \t [ 7.9550271   0.40017786 11.          0.62618445  2.          0.8802895 ]\t 0.7651166039066666\t 0.7169134935137329\t 0.8011354481475893\t 0.8011354481475893\n",
            "16 \t [ 9.7529061   2.35634407 14.51739054  1.         12.51739054  1.        ]\t 0.7238327002789772\t 0.7169134935137329\t 0.8005185954649908\t 0.8005185707833562\n",
            "17 \t [ 6.16260723  9.84579779 10.          0.78048328 14.          0.80270179]\t 0.7427921714033924\t 0.7169134935137329\t 0.799467887978131\t 0.799467887978131\n",
            "18 \t [ 9.85251396  3.77247862  5.          0.95386918 16.          0.40041771]\t 0.8168433265067193\t 0.7169134935137329\t 0.7987248245452258\t 0.7987248245452258\n",
            "19 \t [6.83607683 2.14009773 6.         0.50454939 7.         0.63383239]\t 0.7843034217269811\t 0.7169134935137329\t 0.7988830569528549\t 0.7988830569528549\n",
            "20 \t [ 4.36435759  2.79479498 14.          0.68678246  1.          0.99022627]\t 0.7704294177323278\t 0.7169134935137329\t 0.7986660627484617\t 0.7986660627484617\n",
            "21 \t [ 9.72376714  9.82517342 14.          0.96896704 10.          0.66715413]\t 0.7442263922491208\t 0.7169134935137329\t 0.7983232044391305\t 0.7983232044391305\n",
            "22 \t [ 3.42988222  3.60806268 11.          0.65919672 19.          0.15600267]\t 0.9354453567539931\t 0.7169134935137329\t 0.7977514635744626\t 0.7977514635744626\n",
            "23 \t [8.74049648 9.96600539 9.         0.60152994 1.         0.67603246]\t 0.777818420043001\t 0.7169134935137329\t 0.7992035012709471\t 0.7992035012709471\n",
            "24 \t [ 8.07816267  5.0216296  11.          0.82261112 15.          0.48463271]\t 0.8093351489393971\t 0.7169134935137329\t 0.7989441764699803\t 0.7989441764699803\n",
            "25 \t [ 8.11423763  9.45656887  5.          0.66260898 13.          0.53125757]\t 0.7864262400566092\t 0.7169134935137329\t 0.7989964541470125\t 0.7989964541470125\n",
            "26 \t [3.36948929 7.81948595 7.         0.9299977  1.         0.27903469]\t 0.853626868258654\t 0.7169134935137329\t 0.7988378622412194\t 0.7988378622412194\n",
            "27 \t [4.30702998 1.603885   6.         0.67957661 1.         0.65896812]\t 0.7722507414442762\t 0.7169134935137329\t 0.7992820970661928\t 0.7992820970661928\n",
            "28 \t [0.72761348 1.82196215 5.         0.79281157 6.         0.99771556]\t 0.7624781274978504\t 0.7169134935137329\t 0.7990017773979095\t 0.7990017773979095\n",
            "29 \t [10.         10.          8.31194323  1.         20.          1.        ]\t 0.7208465493781373\t 0.7169134935137329\t 0.7986700328839982\t 0.7986698374898865\n",
            "30 \t [ 5.78896087  1.38910732 11.          0.78824775 11.          0.75054695]\t 0.7424940471862941\t 0.7169134935137329\t 0.7980619767658604\t 0.7980619767658604\n"
          ]
        },
        {
          "output_type": "execute_result",
          "data": {
            "text/plain": [
              "59912.05597064799"
            ]
          },
          "metadata": {},
          "execution_count": 42
        }
      ]
    },
    {
      "cell_type": "code",
      "metadata": {
        "id": "hrDQbChpZ48F",
        "colab": {
          "base_uri": "https://localhost:8080/"
        },
        "outputId": "c4e07b11-5360-4328-cf3a-96bbe7a69614"
      },
      "source": [
        "### Bayesian optimization runs (x20): 'exact' Acquisition Function run number = 2 \n",
        "\n",
        "np.random.seed(run_num_2)\n",
        "surrogate_exact_2 = dGaussianProcess(cov_func, optimize=opt)\n",
        "\n",
        "X_train2, X_test2, y_train2, y_test2 = train_test_split(X, y, test_size=test_perc, random_state=run_num_2)\n",
        "\n",
        "def f_syn_polarity2(alpha, gamma, max_depth, subsample, min_child_weight, colsample):\n",
        "    reg = XGBRegressor(reg_alpha=alpha, gamma=gamma, max_depth=int(max_depth), subsample=subsample, min_child_weight=min_child_weight,\n",
        "          colsample_bytree=colsample, n_estimators = n_est, random_state=run_num_2, objective = 'reg:squarederror')\n",
        "    score = np.array(cross_val_score(reg, X=X_train2, y=y_train2).mean())\n",
        "    return operator * score\n",
        "\n",
        "exact_2 = dGPGO(surrogate_exact_2, Acquisition_grad(util), f_syn_polarity2, param, n_jobs = -1) # Define BayesOpt\n",
        "exact_2.run(max_iter = max_iter, init_evals = n_init) # run\n",
        "\n",
        "### Return optimal parameters' set:\n",
        "params_exact_2 = exact_2.getResult()[0]\n",
        "params_exact_2['max_depth'] = int(params_exact_2['max_depth'])\n",
        "params_exact_2['min_child_weight'] = int(params_exact_2['min_child_weight'])\n",
        "\n",
        "### Re-train with optimal parameters, run predictons:\n",
        "dX_exact_train2 = xgb.DMatrix(X_train2, y_train2)\n",
        "dX_exact_test2 = xgb.DMatrix(X_test2, y_test2)\n",
        "model_exact_2 = xgb.train(params_exact_2, dX_exact_train2)\n",
        "pred_exact_2 = model_exact_2.predict(dX_exact_test2)\n",
        "\n",
        "rmse_exact_2 = np.sqrt(mean_squared_error(pred_exact_2, y_test2))\n",
        "rmse_exact_2"
      ],
      "execution_count": null,
      "outputs": [
        {
          "output_type": "stream",
          "name": "stdout",
          "text": [
            "Evaluation \t Proposed point \t  Current eval. \t  Best eval. \t         Max. ExactAcqFunc \t Max. ApproxAcqFunc \n",
            "init\t [ 4.35994902  0.25926232 11.          0.97386531 12.          0.47833102]\t 0.9157817005982263\t 0.8490988745111359\t    \t    \n",
            "init\t [ 3.30334821  2.04648634 10.          0.55997527  6.          0.71472339]\t 0.8517975125315337\t 0.8490988745111359\t    \t    \n",
            "init\t [ 4.9856117   5.86796978  8.          0.89266757 11.          0.59158659]\t 0.8490988745111359\t 0.8490988745111359\t    \t    \n",
            "init\t [ 4.07307832  1.76984624 13.          0.75262305  7.          0.35908193]\t 0.9839177202713774\t 0.8490988745111359\t    \t    \n",
            "init\t [ 1.16193318  1.81727038  9.          0.79837265 19.          0.29965165]\t 0.9688138526063573\t 0.8490988745111359\t    \t    \n",
            "\u001b[1m\u001b[92m1\u001b[0m\t \u001b[1m\u001b[92m[9.68290573 5.74953535 8.         0.93445831 2.         0.81872709]\u001b[0m\t \u001b[1m\u001b[92m0.7933779577878181\u001b[0m\t \u001b[1m\u001b[92m0.7933779577878181\u001b[0m\t \u001b[1m\u001b[92m0.9363290044613266\u001b[0m\t \u001b[1m\u001b[92m0.9363290044613266\u001b[0m\n",
            "\u001b[1m\u001b[92m2\u001b[0m\t \u001b[1m\u001b[92m[ 2.17907321  8.34965852  5.          0.91660625 18.          0.97349298]\u001b[0m\t \u001b[1m\u001b[92m0.7753470044170323\u001b[0m\t \u001b[1m\u001b[92m0.7753470044170323\u001b[0m\t \u001b[1m\u001b[92m0.8857115640911671\u001b[0m\t \u001b[1m\u001b[92m0.8857115640911671\u001b[0m\n",
            "3  \t [ 3.86971225  8.36249195 14.          0.65193715  2.          0.53564822]\t 0.876401110742202\t 0.7753470044170323\t 0.8667079700782435\t 0.8667079700782435\n",
            "4  \t [ 5.03756278  5.01206033 13.          0.59912629 19.          0.46413865]\t 0.9343414333829166\t 0.7753470044170323\t 0.8667441394600173\t 0.8667441394600173\n",
            "5  \t [ 1.04358891  9.72033478 14.          0.5859025  14.          0.459264  ]\t 0.9313569330212417\t 0.7753470044170323\t 0.868311245495748\t 0.868311245495748\n",
            "6  \t [ 9.90020282  3.3367177  10.          0.62203407  7.          0.71235234]\t 0.8411431281498688\t 0.7753470044170323\t 0.8697047839435025\t 0.8697047839435025\n",
            "7  \t [ 9.14946201  2.43697872  6.          0.997805   19.          0.45949208]\t 0.9164031394028719\t 0.7753470044170323\t 0.8684077502892564\t 0.8684077502892564\n",
            "8  \t [3.03571116 4.83939078 5.         0.66625528 1.         0.23130028]\t 1.0138871967237582\t 0.7753470044170323\t 0.8691130749738712\t 0.8691130749738712\n",
            "9  \t [ 4.57706999  8.33565192 11.          0.6188546   7.          0.54017925]\t 0.8649392035689163\t 0.7753470044170323\t 0.8720136627206136\t 0.8720136627206136\n",
            "10 \t [0.  0.  5.  0.5 1.  0.1]\t 1.0080537575046533\t 0.7753470044170323\t 0.8713571920176828\t 0.8713571920176828\n",
            "11 \t [ 8.6330652   9.62113163 11.          0.50355876 13.          0.80231095]\t 0.8069330024769588\t 0.7753470044170323\t 0.8734456598120582\t 0.8734456598120582\n",
            "12 \t [ 9.73810496  3.32466832  6.          0.67226447 13.          0.93959986]\t 0.7754352624905214\t 0.7753470044170323\t 0.8718558194580769\t 0.8718558194580769\n",
            "13 \t [ 7.86086296  9.53235807  5.          0.78700181 16.          0.22516618]\t 1.0032817364979052\t 0.7753470044170323\t 0.8700016094966667\t 0.8700016104414927\n",
            "\u001b[1m\u001b[92m14\u001b[0m\t \u001b[1m\u001b[92m[10. 10. 15.  1. 20.  1.]\u001b[0m\t \u001b[1m\u001b[92m0.7443784516859588\u001b[0m\t \u001b[1m\u001b[92m0.7443784516859588\u001b[0m\t \u001b[1m\u001b[92m0.8718013246971353\u001b[0m\t \u001b[1m\u001b[92m0.8718013129557465\u001b[0m\n",
            "15 \t [ 8.6950785   0.99410218 13.          0.66782851 17.          0.9323419 ]\t 0.7718203736909484\t 0.7443784516859588\t 0.8448914343474138\t 0.8448914343474138\n",
            "16 \t [ 0.57492216  8.73281603  8.          0.69247391 11.          0.62472664]\t 0.8529403155048879\t 0.7443784516859588\t 0.8433868555242793\t 0.8433868555242793\n",
            "17 \t [ 1.94467794  1.47584396  5.          0.91953126 11.          0.49707889]\t 0.9217894766592585\t 0.7443784516859588\t 0.8429054368182466\t 0.8429054368182466\n",
            "18 \t [ 5.64670451  8.85432647 14.          0.95807607 10.          0.35707694]\t 0.9742892858541289\t 0.7443784516859588\t 0.8434534783174292\t 0.8434534783174292\n",
            "19 \t [ 0.34964202  6.10551304 14.          0.81887518  8.          0.79373024]\t 0.7877542123158783\t 0.7443784516859588\t 0.8445349375324166\t 0.8445349375324166\n",
            "20 \t [ 8.59076902  2.12489768 14.          0.94217664  7.          0.48489882]\t 0.9164910070721832\t 0.7443784516859588\t 0.8434601759998941\t 0.8434601759998941\n",
            "21 \t [8.31655833 8.60825609 5.         0.85952394 8.         0.28298607]\t 0.9682959282656183\t 0.7443784516859588\t 0.8437630740795793\t 0.8437630740795793\n",
            "22 \t [2.12921192 8.61312966 6.         0.93877682 5.         0.79134332]\t 0.7868556190986851\t 0.7443784516859588\t 0.8447278131610049\t 0.8447278131610049\n",
            "23 \t [ 1.14769908  9.46854425 10.          0.58022432 19.          0.87672068]\t 0.787456851239095\t 0.7443784516859588\t 0.8437164855361937\t 0.8437164855361937\n",
            "24 \t [ 5.48814708  1.96120195 13.          0.89659682  1.          0.34125713]\t 0.9941403780835223\t 0.7443784516859588\t 0.84277866338723\t 0.84277866338723\n",
            "25 \t [ 9.10861142  3.18310036 11.          0.90609779 12.          0.83876036]\t 0.7842412352967695\t 0.7443784516859588\t 0.8439124811914513\t 0.8439124811914513\n",
            "26 \t [6.84580273 0.         5.         0.5        8.89803632 0.1       ]\t 1.0045115225735501\t 0.7443784516859588\t 0.8430037796662863\t 0.8430037796659192\n",
            "27 \t [ 8.92720117  4.31465286 13.          0.70553933  1.          0.75946259]\t 0.8184668279349161\t 0.7443784516859588\t 0.8441648857544535\t 0.8441648857544535\n",
            "28 \t [ 7.32261517  3.77223908 13.          0.66532455  8.          0.34613674]\t 0.9735451613332762\t 0.7443784516859588\t 0.8435768474369855\t 0.8435768474369855\n",
            "29 \t [0.         3.94482067 5.38085834 0.5        6.38085834 0.1       ]\t 1.0052248190398447\t 0.7443784516859588\t 0.843980623960063\t 0.8439797555421976\n",
            "30 \t [5.46905966 0.         8.11204265 0.5        1.         0.1       ]\t 1.0139402527381327\t 0.7443784516859588\t 0.8450155083558012\t 0.8450153709167644\n"
          ]
        },
        {
          "output_type": "execute_result",
          "data": {
            "text/plain": [
              "61286.16435498987"
            ]
          },
          "metadata": {},
          "execution_count": 43
        }
      ]
    },
    {
      "cell_type": "code",
      "metadata": {
        "id": "HpUPyXRfZ95Y",
        "colab": {
          "base_uri": "https://localhost:8080/"
        },
        "outputId": "a85ac7eb-3c7a-4b69-8893-26734c43e4dd"
      },
      "source": [
        "### Bayesian optimization runs (x20): 'exact' Acquisition Function run number = 3 \n",
        "\n",
        "np.random.seed(run_num_3)\n",
        "surrogate_exact_3 = dGaussianProcess(cov_func, optimize=opt)\n",
        "\n",
        "X_train3, X_test3, y_train3, y_test3 = train_test_split(X, y, test_size=test_perc, random_state=run_num_3)\n",
        "\n",
        "def f_syn_polarity3(alpha, gamma, max_depth, subsample, min_child_weight, colsample):\n",
        "    reg = XGBRegressor(reg_alpha=alpha, gamma=gamma, max_depth=int(max_depth), subsample=subsample, min_child_weight=min_child_weight,\n",
        "          colsample_bytree=colsample, n_estimators = n_est, random_state=run_num_3, objective = 'reg:squarederror')\n",
        "    score = np.array(cross_val_score(reg, X=X_train3, y=y_train3).mean())\n",
        "    return operator * score\n",
        "\n",
        "exact_3 = dGPGO(surrogate_exact_3, Acquisition_grad(util), f_syn_polarity3, param, n_jobs = -1) # Define BayesOpt\n",
        "exact_3.run(max_iter = max_iter, init_evals = n_init) # run\n",
        "\n",
        "### Return optimal parameters' set:\n",
        "params_exact_3 = exact_3.getResult()[0]\n",
        "params_exact_3['max_depth'] = int(params_exact_3['max_depth'])\n",
        "params_exact_3['min_child_weight'] = int(params_exact_3['min_child_weight'])\n",
        "\n",
        "### Re-train with optimal parameters, run predictons:\n",
        "dX_exact_train3 = xgb.DMatrix(X_train3, y_train3)\n",
        "dX_exact_test3 = xgb.DMatrix(X_test3, y_test3)\n",
        "model_exact_3 = xgb.train(params_exact_3, dX_exact_train3)\n",
        "pred_exact_3 = model_exact_3.predict(dX_exact_test3)\n",
        "\n",
        "rmse_exact_3 = np.sqrt(mean_squared_error(pred_exact_3, y_test3))\n",
        "rmse_exact_3"
      ],
      "execution_count": null,
      "outputs": [
        {
          "output_type": "stream",
          "name": "stdout",
          "text": [
            "Evaluation \t Proposed point \t  Current eval. \t  Best eval. \t         Max. ExactAcqFunc \t Max. ApproxAcqFunc \n",
            "init\t [ 5.50797903  7.08147823 13.          0.56066429 11.          0.11687321]\t 1.1001019572672721\t 0.8205570570239384\t    \t    \n",
            "init\t [ 0.40630737  2.47888297 11.          0.72040492 13.          0.23083313]\t 1.0968690738660336\t 0.8205570570239384\t    \t    \n",
            "init\t [ 4.53172301  2.15577008 11.          0.74631796  2.          0.60296868]\t 0.8205570570239384\t 0.8205570570239384\t    \t    \n",
            "init\t [ 2.59252447  4.15101197 13.          0.79330998  8.          0.24118096]\t 1.0984076753833096\t 0.8205570570239384\t    \t    \n",
            "init\t [ 5.44649018  7.80314765 10.          0.62879264 18.          0.44917413]\t 0.8540219347978375\t 0.8205570570239384\t    \t    \n",
            "1  \t [1.56262424 9.7795241  5.         0.91450054 5.         0.53102391]\t 0.8296591774144556\t 0.8205570570239384\t 0.9371109792439146\t 0.9371109792439146\n",
            "\u001b[1m\u001b[92m2\u001b[0m\t \u001b[1m\u001b[92m[ 2.46535469  7.06056184  5.          0.53518488 13.          0.98930148]\u001b[0m\t \u001b[1m\u001b[92m0.8159546965123093\u001b[0m\t \u001b[1m\u001b[92m0.8159546965123093\u001b[0m\t \u001b[1m\u001b[92m0.9295783079270744\u001b[0m\t \u001b[1m\u001b[92m0.9295783079270744\u001b[0m\n",
            "3  \t [ 7.38032831  9.94067232 11.          0.77461843  2.          0.2199184 ]\t 1.0951088390242933\t 0.8159546965123093\t 0.9199928361984709\t 0.9199928361984709\n",
            "4  \t [ 6.69378835  1.1746468   5.          0.75549171 16.          0.73450657]\t 0.8217725728652645\t 0.8159546965123093\t 0.9252051222799961\t 0.9252051222799961\n",
            "\u001b[1m\u001b[92m5\u001b[0m\t \u001b[1m\u001b[92m[8.5662852  7.62282167 7.         0.57679587 9.         0.92751362]\u001b[0m\t \u001b[1m\u001b[92m0.7970827408048204\u001b[0m\t \u001b[1m\u001b[92m0.7970827408048204\u001b[0m\t \u001b[1m\u001b[92m0.9208412918263456\u001b[0m\t \u001b[1m\u001b[92m0.9208412918263456\u001b[0m\n",
            "\u001b[1m\u001b[92m6\u001b[0m\t \u001b[1m\u001b[92m[ 9.26067415  3.35087446 15.          1.          4.83286555  1.        ]\u001b[0m\t \u001b[1m\u001b[92m0.7620710945585362\u001b[0m\t \u001b[1m\u001b[92m0.7620710945585362\u001b[0m\t \u001b[1m\u001b[92m0.9015840633539809\u001b[0m\t \u001b[1m\u001b[92m0.9015840633539689\u001b[0m\n",
            "7  \t [8.71334312 0.05751618 6.         0.96160691 6.         0.14416297]\t 1.099780473093716\t 0.7620710945585362\t 0.869436184172032\t 0.869436184172032\n",
            "\u001b[1m\u001b[92m8\u001b[0m\t \u001b[1m\u001b[92m[10.         10.         15.          1.         19.89947269  1.        ]\u001b[0m\t \u001b[1m\u001b[92m0.7606787408223734\u001b[0m\t \u001b[1m\u001b[92m0.7606787408223734\u001b[0m\t \u001b[1m\u001b[92m0.8738845956847313\u001b[0m\t \u001b[1m\u001b[92m0.873884591729868\u001b[0m\n",
            "9  \t [9.68641233 7.7212035  5.         0.60078619 2.         0.57796031]\t 0.8398283365570345\t 0.7606787408223734\t 0.8691197822937597\t 0.8691197822937597\n",
            "10 \t [1.315963   0.59021779 6.         0.73925051 5.         0.82007   ]\t 0.7952386285563902\t 0.7606787408223734\t 0.8673584144676683\t 0.8673584144676683\n",
            "11 \t [ 6.83763233  0.04672742 12.          0.53883963 17.          0.15871097]\t 1.101963075254703\t 0.7606787408223734\t 0.8650794846035571\t 0.8650794846035571\n",
            "12 \t [ 7.36281279  7.66763777  8.          0.59948159 13.          0.98370581]\t 0.7986988788225304\t 0.7606787408223734\t 0.8686844389087264\t 0.8686844389087264\n",
            "13 \t [ 3.26032277  7.80574265 14.          0.88329978  3.          0.24845127]\t 1.1020111824561345\t 0.7606787408223734\t 0.8666490520797702\t 0.8666490520797702\n",
            "14 \t [ 0.68308523  3.05829619  5.          0.71250074 17.          0.5517841 ]\t 0.8259670617924225\t 0.7606787408223734\t 0.8697620941543434\t 0.8697620941543434\n",
            "15 \t [ 9.17553304  1.72974993 14.          0.65085951 11.          0.77422137]\t 0.7797832905714073\t 0.7606787408223734\t 0.8682450402789056\t 0.8682450402789056\n",
            "16 \t [ 4.8751128   0.          7.79922488  0.5        10.79922488  0.1       ]\t 1.1022628840845663\t 0.7606787408223734\t 0.866306549080179\t 0.8663065490119939\n",
            "17 \t [ 9.40129426  8.85637698 13.          0.72340176  7.          0.76030308]\t 0.7834162130060136\t 0.7606787408223734\t 0.8689971647805838\t 0.8689971647805838\n",
            "\u001b[1m\u001b[92m18\u001b[0m\t \u001b[1m\u001b[92m[10.         10.         12.66627214  1.         13.66627214  1.        ]\u001b[0m\t \u001b[1m\u001b[92m0.7568262966867387\u001b[0m\t \u001b[1m\u001b[92m0.7568262966867387\u001b[0m\t \u001b[1m\u001b[92m0.8673526395442851\u001b[0m\t \u001b[1m\u001b[92m0.8673521002606792\u001b[0m\n",
            "19 \t [ 0.59117942  7.04764364 14.          0.92579676 15.          0.40983297]\t 0.8394856040419147\t 0.7568262966867387\t 0.8622949787339611\t 0.8622949787339611\n",
            "20 \t [ 1.06084272  8.60821489 11.          0.60672694  9.          0.40602348]\t 0.858441552538079\t 0.7568262966867387\t 0.861414080804925\t 0.861414080804925\n",
            "21 \t [ 9.83060339  5.43479292  5.          0.93965116 19.          0.81693736]\t 0.8142206129403362\t 0.7568262966867387\t 0.8608020336849416\t 0.8608020336849416\n",
            "22 \t [ 1.72284944  3.60586849 11.          0.66060764 19.          0.20496895]\t 1.0986312231816027\t 0.7568262966867387\t 0.8597952785629374\t 0.8597952785629374\n",
            "23 \t [ 9.71610686  2.88363039 10.          0.71373353  2.          0.42833271]\t 0.8627583512307193\t 0.7568262966867387\t 0.8619866413146408\t 0.8619866413146408\n",
            "24 \t [ 0.04997226  0.57243486  5.          0.9748128  12.          0.24835402]\t 1.1002185993205575\t 0.7568262966867387\t 0.8614610631225694\t 0.8614610631225694\n",
            "25 \t [6.90239429 4.38257693 5.         0.77543741 6.         0.209803  ]\t 1.089178031453854\t 0.7568262966867387\t 0.8634587968531293\t 0.8634587968531293\n",
            "26 \t [ 0.          6.99938332 10.38432371  0.5         1.38432371  0.1       ]\t 1.1097005605555466\t 0.7568262966867387\t 0.8651945992026505\t 0.8651945970303095\n",
            "27 \t [ 3.62152889  0.3004606  14.          0.95110801 10.          0.65627919]\t 0.8077328639449257\t 0.7568262966867387\t 0.8670389294662386\t 0.8670389368239712\n",
            "28 \t [ 7.68961868  4.62432088 11.08643818  0.5         7.08643818  0.1       ]\t 1.1065315448071256\t 0.7568262966867387\t 0.8659763869701679\t 0.8659759973546932\n",
            "29 \t [4.37264513 7.83931591 6.         0.65864599 1.         0.34090671]\t 0.9586619212654242\t 0.7568262966867387\t 0.8676567156273707\t 0.8676567156273707\n",
            "30 \t [6.43009355 0.91426137 5.34882923 0.5        1.         0.1       ]\t 1.1064383911015345\t 0.7568262966867387\t 0.8678504684042952\t 0.8678500766815217\n"
          ]
        },
        {
          "output_type": "execute_result",
          "data": {
            "text/plain": [
              "59509.134777929154"
            ]
          },
          "metadata": {},
          "execution_count": 44
        }
      ]
    },
    {
      "cell_type": "code",
      "metadata": {
        "id": "SKX_nfEaaAwm",
        "colab": {
          "base_uri": "https://localhost:8080/"
        },
        "outputId": "85a3adf0-6a7e-46b5-c868-88c26049a9f1"
      },
      "source": [
        "### Bayesian optimization runs (x20): 'exact' Acquisition Function run number = 4 \n",
        "\n",
        "np.random.seed(run_num_4)\n",
        "surrogate_exact_4 = dGaussianProcess(cov_func, optimize=opt)\n",
        "\n",
        "X_train4, X_test4, y_train4, y_test4 = train_test_split(X, y, test_size=test_perc, random_state=run_num_4)\n",
        "\n",
        "def f_syn_polarity4(alpha, gamma, max_depth, subsample, min_child_weight, colsample):\n",
        "    reg = XGBRegressor(reg_alpha=alpha, gamma=gamma, max_depth=int(max_depth), subsample=subsample, min_child_weight=min_child_weight,\n",
        "          colsample_bytree=colsample, n_estimators = n_est, random_state=run_num_4, objective = 'reg:squarederror')\n",
        "    score = np.array(cross_val_score(reg, X=X_train4, y=y_train4).mean())\n",
        "    return operator * score\n",
        "\n",
        "exact_4 = dGPGO(surrogate_exact_4, Acquisition_grad(util), f_syn_polarity4, param, n_jobs = -1) # Define BayesOpt\n",
        "exact_4.run(max_iter = max_iter, init_evals = n_init) # run\n",
        "\n",
        "### Return optimal parameters' set:\n",
        "params_exact_4 = exact_4.getResult()[0]\n",
        "params_exact_4['max_depth'] = int(params_exact_4['max_depth'])\n",
        "params_exact_4['min_child_weight'] = int(params_exact_4['min_child_weight'])\n",
        "\n",
        "### Re-train with optimal parameters, run predictons:\n",
        "dX_exact_train4 = xgb.DMatrix(X_train4, y_train4)\n",
        "dX_exact_test4 = xgb.DMatrix(X_test4, y_test4)\n",
        "model_exact_4 = xgb.train(params_exact_4, dX_exact_train4)\n",
        "pred_exact_4 = model_exact_4.predict(dX_exact_test4)\n",
        "\n",
        "rmse_exact_4 = np.sqrt(mean_squared_error(pred_exact_4, y_test4))\n",
        "rmse_exact_4"
      ],
      "execution_count": null,
      "outputs": [
        {
          "output_type": "stream",
          "name": "stdout",
          "text": [
            "Evaluation \t Proposed point \t  Current eval. \t  Best eval. \t         Max. ExactAcqFunc \t Max. ApproxAcqFunc \n",
            "init\t [9.67029839 5.47232249 6.         0.92781047 9.         0.72795594]\t 0.7650622398140196\t 0.7505823286451517\t    \t    \n",
            "init\t [ 2.16089496  9.76274455 12.          0.62649118  9.          0.66966679]\t 0.7710732234684645\t 0.7505823286451517\t    \t    \n",
            "init\t [ 0.05159149  5.72356491  9.          0.99170034 10.          0.10808749]\t 1.127900018061083\t 0.7505823286451517\t    \t    \n",
            "init\t [ 3.86571283  0.44160058 10.          0.90553105 18.          0.95407958]\t 0.7505823286451517\t 0.7505823286451517\t    \t    \n",
            "init\t [ 7.86305986  8.66289299  6.          0.53285477 14.          0.25117497]\t 0.9579573664970923\t 0.7505823286451517\t    \t    \n",
            "1  \t [ 8.45443649  8.61014312 11.          0.83475494  1.          0.14018305]\t 1.1269429525174437\t 0.7505823286451517\t 0.8487712021781394\t 0.8487712021781394\n",
            "2  \t [ 0.90674561  6.32290535 11.          0.94435129  1.          0.40346185]\t 0.8738592566554818\t 0.7505823286451517\t 0.8613406736723596\t 0.8613406736723596\n",
            "3  \t [ 7.37481669  1.69273565 11.          0.93066167  4.          0.26673965]\t 0.9620149599701081\t 0.7505823286451517\t 0.8590472590615802\t 0.8590472590615802\n",
            "4  \t [0.  0.  5.  0.5 1.  0.1]\t 1.1272044052520684\t 0.7505823286451517\t 0.8604642838675552\t 0.8604642838675545\n",
            "\u001b[1m\u001b[92m5\u001b[0m\t \u001b[1m\u001b[92m[10. 10. 15.  1. 20.  1.]\u001b[0m\t \u001b[1m\u001b[92m0.7390767332328787\u001b[0m\t \u001b[1m\u001b[92m0.7390767332328787\u001b[0m\t \u001b[1m\u001b[92m0.8674754320555725\u001b[0m\t \u001b[1m\u001b[92m0.8674754318974544\u001b[0m\n",
            "6  \t [ 9.52993971  0.33702013  5.          0.64331783 18.          0.12071935]\t 1.1223174585019604\t 0.7390767332328787\t 0.8528543272556911\t 0.8528543272556911\n",
            "7  \t [ 4.78239078  2.50215387 14.          0.69422942 12.          0.74303412]\t 0.7645363261810298\t 0.7390767332328787\t 0.8583531046567483\t 0.8583531046567483\n",
            "8  \t [2.27858743 6.23199766 5.         0.58705984 2.         0.80794289]\t 0.8008824627824793\t 0.7390767332328787\t 0.8541849196767206\t 0.8541849196767206\n",
            "9  \t [ 2.9829381   1.97294607  5.          0.5        11.73987829  0.1       ]\t 1.1242313224296006\t 0.7390767332328787\t 0.8513247512973745\t 0.8513247512833267\n",
            "10 \t [ 3.07807355  8.11709345  7.          0.6375573  19.          0.82418508]\t 0.7831232773234176\t 0.7390767332328787\t 0.855814162888724\t 0.855814162888724\n",
            "11 \t [6.34509608 0.88047103 5.         0.68127637 3.         0.68591136]\t 0.7840300992174976\t 0.7390767332328787\t 0.8529396944040301\t 0.8529396944040301\n",
            "12 \t [ 8.48843563  0.37785156 11.          0.83297408  1.          0.855572  ]\t 0.7753874640601797\t 0.7390767332328787\t 0.8504291125722843\t 0.8504291125722843\n",
            "13 \t [ 1.88634477  6.88806857 14.          0.85788793 18.          0.9393565 ]\t 0.7519672224046194\t 0.7390767332328787\t 0.8480531813145065\t 0.8480531813145065\n",
            "14 \t [ 0.47145304  0.11052975 10.          0.74955468  5.          0.36826877]\t 0.9684325669247101\t 0.7390767332328787\t 0.8456490505933764\t 0.8456490505933764\n",
            "\u001b[1m\u001b[92m15\u001b[0m\t \u001b[1m\u001b[92m[10.         10.         15.          1.         12.19107597  1.        ]\u001b[0m\t \u001b[1m\u001b[92m0.7348587669479516\u001b[0m\t \u001b[1m\u001b[92m0.7348587669479516\u001b[0m\t \u001b[1m\u001b[92m0.8465854928035103\u001b[0m\t \u001b[1m\u001b[92m0.8465854879876946\u001b[0m\n",
            "16 \t [ 1.59376327  9.3637724   5.          0.56698742 13.          0.29635446]\t 0.9579981335802007\t 0.7348587669479516\t 0.840947236462908\t 0.840947236462908\n",
            "17 \t [ 8.38328292  6.56887548 12.48189831  0.5        17.48189831  0.1       ]\t 1.1252709782702142\t 0.7348587669479516\t 0.8417121038952157\t 0.8417113789243256\n",
            "18 \t [10.          7.65823052 13.02433245  1.          6.02433245  1.        ]\t 0.7351392272870267\t 0.7348587669479516\t 0.8449103998089064\t 0.8449101467040644\n",
            "19 \t [ 2.93894188  5.01451164  9.          0.52793016 15.          0.56555641]\t 0.7971440842220071\t 0.7348587669479516\t 0.8428424816056547\t 0.8428424816056547\n",
            "20 \t [ 9.66721268  1.8443589  13.          0.69291942 15.          0.16614767]\t 1.1236074280369432\t 0.7348587669479516\t 0.8415906247231212\t 0.8415906247231212\n",
            "21 \t [ 2.5544629   5.29923202 14.          0.70981162  6.          0.74924795]\t 0.764800020192529\t 0.7348587669479516\t 0.844367708823172\t 0.844367708823172\n",
            "22 \t [ 7.63464915  2.26565433  8.          0.71110251 14.          0.25276999]\t 0.9609260342586158\t 0.7348587669479516\t 0.8428532319552576\t 0.8428532319552576\n",
            "23 \t [4.54498845 4.73987501 6.         0.7658368  6.         0.15012886]\t 1.1250394819981728\t 0.7348587669479516\t 0.8434046857210812\t 0.8434046857210812\n",
            "24 \t [9.79871835 7.84567582 5.         0.91455868 2.         0.62614711]\t 0.7768703697552943\t 0.7348587669479516\t 0.8458321088336962\t 0.8458321088336962\n",
            "25 \t [ 2.07051041  1.52366516 10.          0.69512439 11.          0.21098416]\t 1.1241433422193938\t 0.7348587669479516\t 0.8445235996845281\t 0.8445235996845281\n",
            "26 \t [ 0.76379764  1.14934315  5.94555118  0.5        17.94555118  0.1       ]\t 1.1223688033124588\t 0.7348587669479516\t 0.8467375342791241\t 0.8467369591449927\n",
            "27 \t [ 0.44266617  0.60324342 13.          0.75682501 16.          0.11563354]\t 1.12362918561309\t 0.7348587669479516\t 0.8488053179709156\t 0.8488055640552823\n",
            "28 \t [8.0273803  9.87833752 7.         0.89111617 6.         0.4918673 ]\t 0.852075900769383\t 0.7348587669479516\t 0.8507561678581553\t 0.8507561678581553\n",
            "29 \t [ 7.67164668 10.          8.29160626  1.         20.          1.        ]\t 0.741817698992232\t 0.7348587669479516\t 0.8500299814517458\t 0.8500290102320514\n",
            "30 \t [ 9.96136477  3.41048566  8.74751971  1.         20.          1.        ]\t 0.7418181244729831\t 0.7348587669479516\t 0.8485213730709987\t 0.8485217231991085\n"
          ]
        },
        {
          "output_type": "execute_result",
          "data": {
            "text/plain": [
              "60881.67649252119"
            ]
          },
          "metadata": {},
          "execution_count": 45
        }
      ]
    },
    {
      "cell_type": "code",
      "metadata": {
        "id": "PJmI9saAaEG1",
        "colab": {
          "base_uri": "https://localhost:8080/"
        },
        "outputId": "2182417a-ddc0-4a34-eb7a-16bf33d06af0"
      },
      "source": [
        "### Bayesian optimization runs (x20): 'exact' Acquisition Function run number = 5 \n",
        "\n",
        "np.random.seed(run_num_5)\n",
        "surrogate_exact_5 = dGaussianProcess(cov_func, optimize=opt)\n",
        "\n",
        "X_train5, X_test5, y_train5, y_test5 = train_test_split(X, y, test_size=test_perc, random_state=run_num_5)\n",
        "\n",
        "def f_syn_polarity5(alpha, gamma, max_depth, subsample, min_child_weight, colsample):\n",
        "    reg = XGBRegressor(reg_alpha=alpha, gamma=gamma, max_depth=int(max_depth), subsample=subsample, min_child_weight=min_child_weight,\n",
        "          colsample_bytree=colsample, n_estimators = n_est, random_state=run_num_5, objective = 'reg:squarederror')\n",
        "    score = np.array(cross_val_score(reg, X=X_train5, y=y_train5).mean())\n",
        "    return operator * score\n",
        "\n",
        "exact_5 = dGPGO(surrogate_exact_5, Acquisition_grad(util), f_syn_polarity5, param, n_jobs = -1) # Define BayesOpt\n",
        "exact_5.run(max_iter = max_iter, init_evals = n_init) # run\n",
        "\n",
        "### Return optimal parameters' set:\n",
        "params_exact_5 = exact_5.getResult()[0]\n",
        "params_exact_5['max_depth'] = int(params_exact_5['max_depth'])\n",
        "params_exact_5['min_child_weight'] = int(params_exact_5['min_child_weight'])\n",
        "\n",
        "### Re-train with optimal parameters, run predictons:\n",
        "dX_exact_train5 = xgb.DMatrix(X_train5, y_train5)\n",
        "dX_exact_test5 = xgb.DMatrix(X_test5, y_test5)\n",
        "model_exact_5 = xgb.train(params_exact_5, dX_exact_train5)\n",
        "pred_exact_5 = model_exact_5.predict(dX_exact_test5)\n",
        "\n",
        "rmse_exact_5 = np.sqrt(mean_squared_error(pred_exact_5, y_test5))\n",
        "rmse_exact_5"
      ],
      "execution_count": null,
      "outputs": [
        {
          "output_type": "stream",
          "name": "stdout",
          "text": [
            "Evaluation \t Proposed point \t  Current eval. \t  Best eval. \t         Max. ExactAcqFunc \t Max. ApproxAcqFunc \n",
            "init\t [ 2.21993171  8.70732306 11.          0.68186845 10.          0.53957007]\t 0.7978949387548113\t 0.7689238087022429\t    \t    \n",
            "init\t [ 6.11743863  7.65907856  5.          0.64840025 16.          0.82745351]\t 0.7689238087022429\t 0.7689238087022429\t    \t    \n",
            "init\t [ 6.49458883  8.19472793  6.          0.93996852 19.          0.36647194]\t 0.9009085979032214\t 0.7689238087022429\t    \t    \n",
            "init\t [ 6.28787909  5.7983781   6.          0.63290956 17.          0.18402673]\t 0.9616956128686873\t 0.7689238087022429\t    \t    \n",
            "init\t [8.26554249 8.33492742 9.         0.97900675 3.         0.26957319]\t 0.8968042534595716\t 0.7689238087022429\t    \t    \n",
            "1  \t [1.95474956 1.21548467 5.         0.65548996 6.         0.3261206 ]\t 0.9141640599232991\t 0.7689238087022429\t 0.8556018609266477\t 0.8556018609266477\n",
            "2  \t [ 3.90043826  0.30059527 11.          0.95660877 13.          0.16396145]\t 0.9657302753232895\t 0.7689238087022429\t 0.8581963081067501\t 0.8581963081067501\n",
            "3  \t [ 1.89102498  3.81201457 14.          0.79693323  4.          0.52365093]\t 0.7975878945767783\t 0.7689238087022429\t 0.8621897402980095\t 0.8621897402980095\n",
            "4  \t [ 8.98063632  2.97885127  9.          0.64249728 18.          0.16342995]\t 0.961106002845105\t 0.7689238087022429\t 0.8612044337953407\t 0.8612044337953407\n",
            "5  \t [ 7.2080363   0.14020863 14.          0.70262402  1.          0.81354205]\t 0.7812267618464406\t 0.7689238087022429\t 0.8622559293112603\t 0.8622559293112603\n",
            "\u001b[1m\u001b[92m6\u001b[0m\t \u001b[1m\u001b[92m[10.          9.09616049 14.71383992  1.         20.          1.        ]\u001b[0m\t \u001b[1m\u001b[92m0.6983890373172288\u001b[0m\t \u001b[1m\u001b[92m0.6983890373172288\u001b[0m\t \u001b[1m\u001b[92m0.8596526943215583\u001b[0m\t \u001b[1m\u001b[92m0.8596526943215544\u001b[0m\n",
            "7  \t [4.37003348 9.87890289 5.         0.65374913 7.         0.62009063]\t 0.8037187246418197\t 0.6983890373172288\t 0.7991047356889073\t 0.7991047356889073\n",
            "8  \t [ 2.68679241  7.25440098 14.          0.65390023 17.          0.99358304]\t 0.7060994227407983\t 0.6983890373172288\t 0.7978412730058916\t 0.7978412730058916\n",
            "9  \t [ 9.58792626  8.48977785 13.          0.60628176  9.          0.18518956]\t 0.9684252162072007\t 0.6983890373172288\t 0.7948698319620542\t 0.7948698319620542\n",
            "10 \t [ 6.97752806  2.98678749 10.          0.57146948  7.          0.9882264 ]\t 0.7212789829160808\t 0.6983890373172288\t 0.7975796953908084\t 0.7975796953908084\n",
            "11 \t [ 9.88162042  4.98501997  7.          0.71514689 11.          0.88825005]\t 0.7056574853508757\t 0.6983890373172288\t 0.7952640825143463\t 0.7952640825143463\n",
            "12 \t [ 1.24947698  9.04398434 11.          0.51619206  1.          0.25149054]\t 0.9331322232390008\t 0.6983890373172288\t 0.7929976973901531\t 0.7929976973901531\n",
            "13 \t [4.29434972 2.01082809 8.         0.64047641 1.         0.68777935]\t 0.7751802690627648\t 0.6983890373172288\t 0.7946829890330019\t 0.7946829890330019\n",
            "14 \t [8.65416386 1.0753157  5.         0.51446617 5.         0.26433033]\t 0.9244981437409215\t 0.6983890373172288\t 0.7936617806143283\t 0.7936617806143283\n",
            "15 \t [ 0.69381482  7.09764326  5.          0.79260103 13.          0.36148114]\t 0.9113139174266065\t 0.6983890373172288\t 0.794992018254249\t 0.794992018254249\n",
            "16 \t [ 5.90866369  1.23912394  5.          0.73203526 13.          0.44895514]\t 0.8742114371455234\t 0.6983890373172288\t 0.7959844221753779\t 0.7959844221753779\n",
            "17 \t [ 9.82957504  3.67845167 14.          0.66259018 12.          0.65947706]\t 0.7540697346734246\t 0.6983890373172288\t 0.7963528470615462\t 0.7963528470615462\n",
            "18 \t [ 0.33154545  2.45627958  8.          0.87454095 14.          0.94998466]\t 0.7025348773754236\t 0.6983890373172288\t 0.7951965096466292\t 0.7951965096466292\n",
            "19 \t [ 9.69413095  9.8534464   7.96498525  1.         14.96498525  1.        ]\t 0.698957383128574\t 0.6983890373172288\t 0.793591313693239\t 0.7935919291937205\n",
            "20 \t [ 2.93448298  5.80717368  5.          0.89608154 19.          0.6387738 ]\t 0.7650562704693341\t 0.6983890373172288\t 0.7927201769815627\t 0.7927201769815627\n",
            "21 \t [ 1.45932766  1.48724096 14.          0.8053907  17.          0.73407168]\t 0.7460484625154955\t 0.6983890373172288\t 0.7913406271852252\t 0.791340645382814\n",
            "22 \t [ 4.72093165  8.3717038  15.          1.          5.25435861  1.        ]\t 0.7208879559238595\t 0.6983890373172288\t 0.790472008137747\t 0.7904720904981826\n",
            "23 \t [0.  0.  5.  0.5 1.  0.1]\t 0.9827144549301592\t 0.6983890373172288\t 0.789435700568531\t 0.789435451943866\n",
            "\u001b[1m\u001b[92m24\u001b[0m\t \u001b[1m\u001b[92m[ 6.55544417  1.34117887 13.97834804  1.         17.97834804  1.        ]\u001b[0m\t \u001b[1m\u001b[92m0.6957415543772025\u001b[0m\t \u001b[1m\u001b[92m0.6957415543772025\u001b[0m\t \u001b[1m\u001b[92m0.7911631276809116\u001b[0m\t \u001b[1m\u001b[92m0.7911630672743167\u001b[0m\n",
            "25 \t [ 7.66541583 10.         15.          1.         13.44761269  1.        ]\t 0.7019743990638503\t 0.6957415543772025\t 0.7878489610307768\t 0.7878481751039776\n",
            "26 \t [4.58320067 5.59686818 5.         0.5        4.         0.1       ]\t 0.979741123641521\t 0.6957415543772025\t 0.7867773378346469\t 0.7867779780838037\n",
            "27 \t [0.         7.34769288 7.26833623 0.5        7.26833623 0.1       ]\t 0.9774679319401308\t 0.6957415543772025\t 0.7883293730966223\t 0.7883291878312417\n",
            "28 \t [ 9.53327385 10.          9.86308724  1.         20.          1.        ]\t 0.6973644866236073\t 0.6957415543772025\t 0.7902404515838509\t 0.7902404515838509\n",
            "29 \t [10.        10.        13.9925965  1.         2.9925965  1.       ]\t 0.7178347819897697\t 0.6957415543772025\t 0.7886961046698021\t 0.7886960455086958\n",
            "30 \t [ 5.85506548  5.42708767 11.22414137  0.5        12.22414137  0.1       ]\t 0.9752544493331652\t 0.6957415543772025\t 0.7878383818722725\t 0.7878390062355709\n"
          ]
        },
        {
          "output_type": "execute_result",
          "data": {
            "text/plain": [
              "60072.58580829538"
            ]
          },
          "metadata": {},
          "execution_count": 46
        }
      ]
    },
    {
      "cell_type": "code",
      "metadata": {
        "id": "ulhEolsxaG4k",
        "colab": {
          "base_uri": "https://localhost:8080/"
        },
        "outputId": "e01dbbc1-2931-4d96-ec71-5bcfe7991c01"
      },
      "source": [
        "### Bayesian optimization runs (x20): 'exact' Acquisition Function run number = 6 \n",
        "\n",
        "np.random.seed(run_num_6)\n",
        "surrogate_exact_6 = dGaussianProcess(cov_func, optimize=opt)\n",
        "\n",
        "X_train6, X_test6, y_train6, y_test6 = train_test_split(X, y, test_size=test_perc, random_state=run_num_6)\n",
        "\n",
        "def f_syn_polarity6(alpha, gamma, max_depth, subsample, min_child_weight, colsample):\n",
        "    reg = XGBRegressor(reg_alpha=alpha, gamma=gamma, max_depth=int(max_depth), subsample=subsample, min_child_weight=int(min_child_weight),\n",
        "          colsample_bytree=colsample, n_estimators = n_est, random_state=run_num_6, objective = 'reg:squarederror', eval_metric = 'rmse')\n",
        "    score = np.array(cross_val_score(reg, X=X_train6, y=y_train6).mean())\n",
        "    return operator * score\n",
        "\n",
        "exact_6 = dGPGO(surrogate_exact_6, Acquisition_grad(util), f_syn_polarity6, param, n_jobs = -1) # Define BayesOpt\n",
        "exact_6.run(max_iter = max_iter, init_evals = n_init) # run\n",
        "\n",
        "### Return optimal parameters' set:\n",
        "params_exact_6 = exact_6.getResult()[0]\n",
        "params_exact_6['max_depth'] = int(params_exact_6['max_depth'])\n",
        "params_exact_6['min_child_weight'] = int(params_exact_6['min_child_weight'])\n",
        "\n",
        "### Re-train with optimal parameters, run predictons:\n",
        "dX_exact_train6 = xgb.DMatrix(X_train6, y_train6)\n",
        "dX_exact_test6 = xgb.DMatrix(X_test6, y_test6)\n",
        "model_exact_6 = xgb.train(params_exact_6, dX_exact_train6)\n",
        "pred_exact_6 = model_exact_6.predict(dX_exact_test6)\n",
        "\n",
        "rmse_exact_6 = np.sqrt(mean_squared_error(pred_exact_6, y_test6))\n",
        "rmse_exact_6"
      ],
      "execution_count": null,
      "outputs": [
        {
          "output_type": "stream",
          "name": "stdout",
          "text": [
            "Evaluation \t Proposed point \t  Current eval. \t  Best eval. \t         Max. ExactAcqFunc \t Max. ApproxAcqFunc \n",
            "init\t [8.92860151 3.31979805 5.         0.99251441 2.         0.57683563]\t 0.8708842589582968\t 0.8009237324889021\t    \t    \n",
            "init\t [4.18807429 3.35407849 9.         0.87750649 3.         0.56623277]\t 0.868843701878103\t 0.8009237324889021\t    \t    \n",
            "init\t [ 5.788586    6.45355096 14.          0.70660047 12.          0.82154882]\t 0.8009237324889021\t 0.8009237324889021\t    \t    \n",
            "init\t [4.58184578 6.73834679 5.         0.90108528 3.         0.65482895]\t 0.8412285708806564\t 0.8009237324889021\t    \t    \n",
            "init\t [ 4.42510505  5.75952352 14.          0.97882365 15.          0.29525604]\t 1.0874405633037085\t 0.8009237324889021\t    \t    \n",
            "1  \t [ 2.83859384  1.8954219   7.          0.66740302 13.          0.2701964 ]\t 1.077285755760575\t 0.8009237324889021\t 0.8926954707190888\t 0.8926954707190888\n",
            "2  \t [ 8.38264396  7.97650716 14.          0.82584689  4.          0.25017455]\t 1.1030510584286708\t 0.8009237324889021\t 0.9014275717661268\t 0.9014275717661268\n",
            "\u001b[1m\u001b[92m3\u001b[0m\t \u001b[1m\u001b[92m[10.         10.         15.          1.         19.03074403  1.        ]\u001b[0m\t \u001b[1m\u001b[92m0.7667722017532622\u001b[0m\t \u001b[1m\u001b[92m0.7667722017532622\u001b[0m\t \u001b[1m\u001b[92m0.9087976047174616\u001b[0m\t \u001b[1m\u001b[92m0.9087976047171942\u001b[0m\n",
            "4  \t [ 9.72322443  9.21177696  5.          0.87917074 11.          0.86681736]\t 0.8060196642831116\t 0.7667722017532622\t 0.8754600987114615\t 0.8754600987114615\n",
            "5  \t [ 0.84801146  1.44124026 14.          0.54887437  7.          0.93547384]\t 0.7880607112692197\t 0.7667722017532622\t 0.8716251857296742\t 0.8716251857296742\n",
            "6  \t [7.42016587 0.72798902 9.         0.97721739 9.         0.86131056]\t 0.791443087042421\t 0.7667722017532622\t 0.8681046711208076\t 0.8681046711208076\n",
            "7  \t [ 9.63031278  5.84246315  5.          0.67198611 19.          0.39028114]\t 0.9003400458685011\t 0.7667722017532622\t 0.8652886151896629\t 0.8652886151896629\n",
            "8  \t [0.89868821 8.1396473  7.         0.63042404 9.         0.55598816]\t 0.8638948444584752\t 0.7667722017532622\t 0.8653055074924856\t 0.8653055074924856\n",
            "9  \t [ 4.92956291  9.843232    9.          0.65534372 18.          0.66177662]\t 0.8254966834103037\t 0.7667722017532622\t 0.8646163398541685\t 0.8646163398541685\n",
            "10 \t [ 7.86118021  0.9120861  13.          0.79963906  4.          0.57767943]\t 0.8707640377647252\t 0.7667722017532622\t 0.8632543053077888\t 0.8632543053077888\n",
            "11 \t [ 6.40351874  0.13565515 11.          0.58564403 18.          0.80232868]\t 0.8054080042258512\t 0.7667722017532622\t 0.8628121624413749\t 0.8628121624413749\n",
            "12 \t [ 0.6198914   8.6243298  14.          0.61994866  8.          0.27181131]\t 1.0868068082158149\t 0.7667722017532622\t 0.861414060747745\t 0.861414060747745\n",
            "13 \t [0.2400873  1.61429062 5.         0.72296529 1.         0.1077861 ]\t 1.0889575663939979\t 0.7667722017532622\t 0.8650656293432808\t 0.8650656293432819\n",
            "14 \t [ 1.35461816  3.68867636  7.          0.97358458 19.          0.99760691]\t 0.772679413351429\t 0.7667722017532622\t 0.8682578169075179\t 0.8682578169075179\n",
            "15 \t [ 0.81201206  8.38911567 10.          0.69531918  2.          0.65392368]\t 0.8472189531903409\t 0.7667722017532622\t 0.8663828798767809\t 0.8663828798767809\n",
            "16 \t [ 9.54725085  6.22002983  9.          0.62552666 13.          0.88907022]\t 0.7828630482476594\t 0.7667722017532622\t 0.8656228106735157\t 0.8656228106735157\n",
            "17 \t [ 1.15162056  8.90964142  5.          0.51235759 16.          0.30257234]\t 1.05882013554442\t 0.7667722017532622\t 0.864201232206151\t 0.864201232206151\n",
            "18 \t [ 1.30104057  1.35048964 13.          0.67123293 19.          0.45258153]\t 0.9001989770011125\t 0.7667722017532622\t 0.8664355580088635\t 0.8664355580088635\n",
            "19 \t [ 5.98453698  2.00451687 13.          0.80337068 13.          0.24875337]\t 1.1009731307154418\t 0.7667722017532622\t 0.8663932072350813\t 0.8663932072350813\n",
            "20 \t [ 0.50983823  9.47760419 12.          0.8715015  15.          0.19366175]\t 1.0927198868675612\t 0.7667722017532622\t 0.8688959325627399\t 0.8688959325627399\n",
            "21 \t [ 9.7854777   4.64577671 13.          0.68148977  9.          0.5027445 ]\t 0.873553139494511\t 0.7667722017532622\t 0.8711392033232436\t 0.8711392033232436\n",
            "22 \t [2.10152742 0.13485741 9.         0.52015738 8.         0.10109114]\t 1.0817934989009377\t 0.7667722017532622\t 0.8706464312012847\t 0.8706464312012847\n",
            "23 \t [8.86129003 7.62670792 8.         0.64247921 6.         0.45176657]\t 0.9174320604458837\t 0.7667722017532622\t 0.8724673597068776\t 0.8724673597068776\n",
            "24 \t [0.         0.         5.         0.5        8.76351967 0.1       ]\t 1.0804111066119464\t 0.7667722017532622\t 0.8724167140401035\t 0.8724167140375714\n",
            "25 \t [ 4.56404393  6.30930448 11.          0.76414598  7.          0.97586603]\t 0.7734348347300959\t 0.7667722017532622\t 0.8740576852773586\t 0.8740576852773586\n",
            "\u001b[1m\u001b[92m26\u001b[0m\t \u001b[1m\u001b[92m[ 4.48281974 10.          8.08815871  1.         12.08815871  1.        ]\u001b[0m\t \u001b[1m\u001b[92m0.7655180844168485\u001b[0m\t \u001b[1m\u001b[92m0.7655180844168485\u001b[0m\t \u001b[1m\u001b[92m0.8726651500016762\u001b[0m\t \u001b[1m\u001b[92m0.8726655091224284\u001b[0m\n",
            "27 \t [ 0.20161598  3.76881157 11.91268437  0.5        12.91268437  0.1       ]\t 1.0842913978434303\t 0.7655180844168485\t 0.8703268038947796\t 0.8703254438368134\n",
            "28 \t [10.          3.06273416 12.2044789   1.         20.          1.        ]\t 0.7670753779942304\t 0.7655180844168485\t 0.8718917490654721\t 0.8718924218179692\n",
            "29 \t [ 9.93142529  1.55453711  5.          0.69644974 13.          0.89571454]\t 0.796162450782154\t 0.7655180844168485\t 0.8706377125447398\t 0.8706377125447398\n",
            "30 \t [ 4.46432054  1.37976416 14.          0.91350827  1.          0.70455501]\t 0.8423134170816156\t 0.7655180844168485\t 0.8696835101953163\t 0.8696835101953163\n"
          ]
        },
        {
          "output_type": "execute_result",
          "data": {
            "text/plain": [
              "59357.988650322826"
            ]
          },
          "metadata": {},
          "execution_count": 47
        }
      ]
    },
    {
      "cell_type": "code",
      "metadata": {
        "id": "bYebx3RVaJ1w",
        "colab": {
          "base_uri": "https://localhost:8080/"
        },
        "outputId": "32f3146c-f05f-4f4f-b9f1-5e320dbebb03"
      },
      "source": [
        "### Bayesian optimization runs (x20): 'exact' Acquisition Function run number = 7 \n",
        "\n",
        "np.random.seed(run_num_7)\n",
        "surrogate_exact_7 = dGaussianProcess(cov_func, optimize=opt)\n",
        "\n",
        "X_train7, X_test7, y_train7, y_test7 = train_test_split(X, y, test_size=test_perc, random_state=run_num_7)\n",
        "\n",
        "def f_syn_polarity7(alpha, gamma, max_depth, subsample, min_child_weight, colsample):\n",
        "    reg = XGBRegressor(reg_alpha=alpha, gamma=gamma, max_depth=int(max_depth), subsample=subsample, min_child_weight=min_child_weight,\n",
        "          colsample_bytree=colsample, n_estimators = n_est, random_state=run_num_7, objective = 'reg:squarederror')\n",
        "    score = np.array(cross_val_score(reg, X=X_train7, y=y_train7).mean())\n",
        "    return operator * score\n",
        "\n",
        "exact_7 = dGPGO(surrogate_exact_7, Acquisition_grad(util), f_syn_polarity7, param, n_jobs = -1) # Define BayesOpt\n",
        "exact_7.run(max_iter = max_iter, init_evals = n_init) # run\n",
        "\n",
        "### Return optimal parameters' set:\n",
        "params_exact_7 = exact_7.getResult()[0]\n",
        "params_exact_7['max_depth'] = int(params_exact_7['max_depth'])\n",
        "params_exact_7['min_child_weight'] = int(params_exact_7['min_child_weight'])\n",
        "\n",
        "### Re-train with optimal parameters, run predictons:\n",
        "dX_exact_train7 = xgb.DMatrix(X_train7, y_train7)\n",
        "dX_exact_test7 = xgb.DMatrix(X_test7, y_test7)\n",
        "model_exact_7 = xgb.train(params_exact_7, dX_exact_train7)\n",
        "pred_exact_7 = model_exact_7.predict(dX_exact_test7)\n",
        "\n",
        "rmse_exact_7 = np.sqrt(mean_squared_error(pred_exact_7, y_test7))\n",
        "rmse_exact_7"
      ],
      "execution_count": null,
      "outputs": [
        {
          "output_type": "stream",
          "name": "stdout",
          "text": [
            "Evaluation \t Proposed point \t  Current eval. \t  Best eval. \t         Max. ExactAcqFunc \t Max. ApproxAcqFunc \n",
            "init\t [0.76308289 7.79918792 8.         0.98911145 8.         0.98019056]\t 0.7260880637055529\t 0.7260880637055529\t    \t    \n",
            "init\t [ 5.3849587   5.01120464 13.          0.74994125  5.          0.88192131]\t 0.7424588384015385\t 0.7260880637055529\t    \t    \n",
            "init\t [ 3.30839249  3.9294231  12.          0.6440728  13.          0.41137564]\t 0.8412720456029797\t 0.7260880637055529\t    \t    \n",
            "init\t [9.29528191 2.6258377  5.         0.80027446 1.         0.86616513]\t 0.7736412232573235\t 0.7260880637055529\t    \t    \n",
            "init\t [ 1.74052764  7.90763512 14.          0.7244129   4.          0.77536887]\t 0.7650415360356615\t 0.7260880637055529\t    \t    \n",
            "1  \t [3.43305102 3.00339076 8.         0.71322679 4.         0.33322219]\t 0.9222990750260575\t 0.7260880637055529\t 0.7976991380620136\t 0.7976991380620136\n",
            "2  \t [ 8.27276329  5.80705371  6.          0.6575149  16.          0.66596626]\t 0.7908681556639724\t 0.7260880637055529\t 0.8047852874790835\t 0.8047852874790835\n",
            "3  \t [ 8.97988092  8.79483413 14.          0.55379557 13.          0.92924117]\t 0.7532691574021181\t 0.7260880637055529\t 0.8045185654668491\t 0.8045185654668491\n",
            "4  \t [ 6.31879092  0.69939064  5.          0.5769645  12.          0.84874959]\t 0.7781432084155051\t 0.7260880637055529\t 0.8031183350480758\t 0.8031183350480758\n",
            "5  \t [ 9.90436619  1.68371673 11.          0.68947817 16.          0.400226  ]\t 0.8455317589117171\t 0.7260880637055529\t 0.8027287662082622\t 0.8027287662082622\n",
            "6  \t [ 2.27614069  9.14855814 13.          0.84138599 18.          0.79014716]\t 0.7441046132441587\t 0.7260880637055529\t 0.8042271559639385\t 0.8042271559639385\n",
            "7  \t [ 0.63761793  0.73483023 14.          0.60715475  1.          0.28353184]\t 0.938335419027365\t 0.7260880637055529\t 0.8030287899648478\t 0.8030287899648478\n",
            "8  \t [ 1.95327375  0.09413692  7.          0.63967551 19.          0.52105045]\t 0.7960221365344106\t 0.7260880637055529\t 0.8065307014201105\t 0.8065307014201105\n",
            "9  \t [5.70513125 8.30861013 6.         0.98680016 3.         0.16134411]\t 1.0294289583666938\t 0.7260880637055529\t 0.8063570212785992\t 0.8063570212785992\n",
            "10 \t [ 0.25030147  5.86047618  7.          0.62148035 15.          0.70956246]\t 0.7910871680210387\t 0.7260880637055529\t 0.81121932047704\t 0.81121932047704\n",
            "11 \t [0.         0.         5.         0.5        9.59464259 0.1       ]\t 1.0403373553299118\t 0.7260880637055529\t 0.8106715703264192\t 0.8106715603394\n",
            "12 \t [9.93412004 7.01728008 6.         0.60790736 8.         0.46475011]\t 0.8442442679089369\t 0.7260880637055529\t 0.8148722891342228\t 0.8148722891342228\n",
            "13 \t [ 9.74185418  1.9812272  14.          0.94068286 10.          0.45784207]\t 0.8350939262618722\t 0.7260880637055529\t 0.8150135139578811\t 0.8150135139578811\n",
            "14 \t [ 5.05369665  2.67147005  5.          0.51290284 10.          0.64085   ]\t 0.7929636261147219\t 0.7260880637055529\t 0.8149991713357292\t 0.8149991713357292\n",
            "15 \t [ 7.27698082  9.82692974 11.          0.6446349   1.          0.67673022]\t 0.8164551789412968\t 0.7260880637055529\t 0.8143951954136135\t 0.8143951954136135\n",
            "\u001b[1m\u001b[92m16\u001b[0m\t \u001b[1m\u001b[92m[10.          8.94790273 13.96746279  1.         20.          1.        ]\u001b[0m\t \u001b[1m\u001b[92m0.7226488301147809\u001b[0m\t \u001b[1m\u001b[92m0.7226488301147809\u001b[0m\t \u001b[1m\u001b[92m0.8140761457821138\u001b[0m\t \u001b[1m\u001b[92m0.8140761399616867\u001b[0m\n",
            "17 \t [0.  0.  5.  0.5 1.  0.1]\t 1.0415683120125263\t 0.7226488301147809\t 0.8099581202682075\t 0.8099580830980188\n",
            "18 \t [ 7.87862448  0.37268652 11.          0.83129981  1.          0.83621209]\t 0.7615889956561305\t 0.7226488301147809\t 0.8129446992508186\t 0.8129446992508186\n",
            "19 \t [ 5.28371353  3.6868484  11.          0.82200641 19.          0.12021404]\t 1.0266198239915962\t 0.7226488301147809\t 0.8120649756224076\t 0.8120649756224076\n",
            "20 \t [10.         10.         13.62607346  1.          4.62607346  1.        ]\t 0.7342792454214951\t 0.7226488301147809\t 0.8144976935644302\t 0.8144976843275108\n",
            "21 \t [ 1.02977609  0.66145279  7.          0.5528148  14.          0.97405529]\t 0.7524533465478835\t 0.7226488301147809\t 0.8134285848206784\t 0.8134285848206784\n",
            "22 \t [ 2.21548548  9.34072297 10.          0.96109934 13.          0.7636836 ]\t 0.7421380323850018\t 0.7226488301147809\t 0.8124787770806667\t 0.8124791568948279\n",
            "23 \t [ 4.45475741  9.04863317  5.          0.93353577 13.          0.79638216]\t 0.7621698477257679\t 0.7226488301147809\t 0.8115685005122617\t 0.8115685005122617\n",
            "24 \t [0.70527907 5.59255728 5.         0.86863619 1.         0.35457337]\t 0.9131884722416652\t 0.7226488301147809\t 0.8108993036702243\t 0.8108993036702243\n",
            "25 \t [ 0.          2.1807011  12.38126092  0.5         9.38126092  0.1       ]\t 1.0405928807891691\t 0.7226488301147809\t 0.8117098413177455\t 0.8117104425321805\n",
            "26 \t [ 7.50583035  7.42634963 14.          0.81352069  9.          0.10482848]\t 1.0314418206974723\t 0.7226488301147809\t 0.8138850994761218\t 0.8138850994761218\n",
            "27 \t [9.91546913 0.35662679 7.         0.87706909 8.         0.31009443]\t 0.9081190657516668\t 0.7226488301147809\t 0.8157042464808375\t 0.8157042464808375\n",
            "28 \t [ 9.910572    5.76876265 10.          0.62357248  4.          0.60901783]\t 0.8052383754383108\t 0.7226488301147809\t 0.8162384007166161\t 0.8162384007166161\n",
            "29 \t [ 9.92745389  2.10791379  6.          0.91867901 19.          0.37494465]\t 0.9027302065027311\t 0.7226488301147809\t 0.8159170420013049\t 0.8159170420013049\n",
            "30 \t [ 5.95296875  9.86798552  8.          0.72118331 10.          0.93742044]\t 0.7384925129525602\t 0.7226488301147809\t 0.8163687407585594\t 0.8163687407585594\n"
          ]
        },
        {
          "output_type": "execute_result",
          "data": {
            "text/plain": [
              "60044.459668975825"
            ]
          },
          "metadata": {},
          "execution_count": 48
        }
      ]
    },
    {
      "cell_type": "code",
      "metadata": {
        "id": "xk0IPTSTbIl3",
        "colab": {
          "base_uri": "https://localhost:8080/"
        },
        "outputId": "f296b534-f725-450b-8a75-b653f64e8723"
      },
      "source": [
        "### Bayesian optimization runs (x20): 'exact' Acquisition Function run number = 8 \n",
        "\n",
        "np.random.seed(run_num_8)\n",
        "surrogate_exact_8 = dGaussianProcess(cov_func, optimize=opt)\n",
        "\n",
        "X_train8, X_test8, y_train8, y_test8 = train_test_split(X, y, test_size=test_perc, random_state=run_num_8)\n",
        "\n",
        "def f_syn_polarity8(alpha, gamma, max_depth, subsample, min_child_weight, colsample):\n",
        "    reg = XGBRegressor(reg_alpha=alpha, gamma=gamma, max_depth=int(max_depth), subsample=subsample, min_child_weight=min_child_weight,\n",
        "          colsample_bytree=colsample, n_estimators = n_est, random_state=run_num_8, objective = 'reg:squarederror')\n",
        "    score = np.array(cross_val_score(reg, X=X_train8, y=y_train8).mean())\n",
        "    return operator * score\n",
        "\n",
        "exact_8 = dGPGO(surrogate_exact_8, Acquisition_grad(util), f_syn_polarity8, param, n_jobs = -1) # Define BayesOpt\n",
        "exact_8.run(max_iter = max_iter, init_evals = n_init) # run\n",
        "\n",
        "### Return optimal parameters' set:\n",
        "params_exact_8 = exact_8.getResult()[0]\n",
        "params_exact_8['max_depth'] = int(params_exact_8['max_depth'])\n",
        "params_exact_8['min_child_weight'] = int(params_exact_8['min_child_weight'])\n",
        "\n",
        "### Re-train with optimal parameters, run predictons:\n",
        "dX_exact_train8 = xgb.DMatrix(X_train8, y_train8)\n",
        "dX_exact_test8 = xgb.DMatrix(X_test8, y_test8)\n",
        "model_exact_8 = xgb.train(params_exact_8, dX_exact_train8)\n",
        "pred_exact_8 = model_exact_8.predict(dX_exact_test8)\n",
        "\n",
        "rmse_exact_8 = np.sqrt(mean_squared_error(pred_exact_8, y_test8))\n",
        "rmse_exact_8"
      ],
      "execution_count": null,
      "outputs": [
        {
          "output_type": "stream",
          "name": "stdout",
          "text": [
            "Evaluation \t Proposed point \t  Current eval. \t  Best eval. \t         Max. ExactAcqFunc \t Max. ApproxAcqFunc \n",
            "init\t [ 8.73429403  9.68540663 10.          0.68875849  9.          0.48011572]\t 0.802823873653181\t 0.7393694249818598\t    \t    \n",
            "init\t [ 6.12033333  7.66062926  8.          0.76133734 13.          0.93379456]\t 0.7439561063387327\t 0.7393694249818598\t    \t    \n",
            "init\t [ 1.46524679  7.01527914  7.          0.90913299 10.          0.36016753]\t 0.8573744170126428\t 0.7393694249818598\t    \t    \n",
            "init\t [ 9.73855241  3.33774046 14.          0.53290419  7.          0.7088681 ]\t 0.7605799870908501\t 0.7393694249818598\t    \t    \n",
            "init\t [ 3.00618018  1.82702795 11.          0.75681389 14.          0.98627449]\t 0.7393694249818598\t 0.7393694249818598\t    \t    \n",
            "\u001b[1m\u001b[92m1\u001b[0m\t \u001b[1m\u001b[92m[4.42022545 5.48487111 9.         0.97165909 3.         0.63617522]\u001b[0m\t \u001b[1m\u001b[92m0.7341650428609557\u001b[0m\t \u001b[1m\u001b[92m0.7341650428609557\u001b[0m\t \u001b[1m\u001b[92m0.8115921080166721\u001b[0m\t \u001b[1m\u001b[92m0.8115921080166721\u001b[0m\n",
            "2  \t [ 4.42530022  8.86662399 12.          0.55390756 19.          0.26906902]\t 0.8873087046852387\t 0.7341650428609557\t 0.8052996985433496\t 0.8052996985433496\n",
            "3  \t [ 9.08237751  2.49680746  6.          0.65941352 17.          0.68321352]\t 0.7481675054625107\t 0.7341650428609557\t 0.8097027507131541\t 0.8097027507131541\n",
            "4  \t [0.  0.  5.  0.5 1.  0.1]\t 1.0139942030593216\t 0.7341650428609557\t 0.8083373351245426\t 0.8083373351245426\n",
            "5  \t [ 2.71549468  6.59835463  5.          0.95307649 18.          0.8022723 ]\t 0.7484161632696045\t 0.7341650428609557\t 0.8157937696811413\t 0.8157937696811413\n",
            "6  \t [8.02691358 0.52300563 6.         0.98815878 7.         0.44490514]\t 0.7878248275128087\t 0.7341650428609557\t 0.8141043587944243\t 0.8141043587944243\n",
            "7  \t [ 8.83774177  5.41674027 14.          0.73954397  1.          0.31035075]\t 0.8970855207140378\t 0.7341650428609557\t 0.8136201919447497\t 0.8136201919447497\n",
            "8  \t [ 0.45904618  0.31422469 12.          0.85221495  5.          0.31125587]\t 0.8688237885855482\t 0.7341650428609557\t 0.8157220787133043\t 0.8157220787133043\n",
            "\u001b[1m\u001b[92m9\u001b[0m\t \u001b[1m\u001b[92m[10. 10. 15.  1. 20.  1.]\u001b[0m\t \u001b[1m\u001b[92m0.7231837694267848\u001b[0m\t \u001b[1m\u001b[92m0.7231837694267848\u001b[0m\t \u001b[1m\u001b[92m0.8168721564032969\u001b[0m\t \u001b[1m\u001b[92m0.8168721564008308\u001b[0m\n",
            "10 \t [ 9.10556495  0.26506496 13.          0.920006   16.          0.11711319]\t 0.9863256815754926\t 0.7231837694267848\t 0.8062051952087121\t 0.8062051952087121\n",
            "11 \t [9.23421894 1.96715525 6.         0.84213684 1.         0.28111445]\t 0.8673094941420189\t 0.7231837694267848\t 0.8096484247436805\t 0.8096484247436805\n",
            "12 \t [ 8.78489361  6.07405176 13.          0.94922041 14.          0.63892045]\t 0.7235553686987112\t 0.7231837694267848\t 0.8103853666381642\t 0.8103853666381642\n",
            "13 \t [ 9.08307561  9.73616604  5.          0.74596783 18.          0.23735578]\t 1.0006633800011113\t 0.7231837694267848\t 0.8088208148753261\t 0.8088208148753261\n",
            "14 \t [ 1.35924905  5.41793837 14.          0.87246457  8.          0.19493237]\t 0.9947613769829413\t 0.7231837694267848\t 0.8117987541166226\t 0.8117987541166226\n",
            "15 \t [3.63587924 9.92644255 5.         0.74785877 1.         0.42737692]\t 0.7942979577990048\t 0.7231837694267848\t 0.814353507534122\t 0.814353507534122\n",
            "16 \t [0.05861183 0.85510206 7.         0.55669041 9.         0.24118856]\t 1.0069691016446431\t 0.7231837694267848\t 0.813711764940329\t 0.813711764940329\n",
            "17 \t [ 0.09889076  5.63526532 14.          0.81316857 16.          0.71340054]\t 0.7391987429832575\t 0.7231837694267848\t 0.8161181146179252\t 0.8161181146179252\n",
            "18 \t [7.03420555 6.86511317 6.         0.99570411 7.         0.89816896]\t 0.7295080824154524\t 0.7231837694267848\t 0.8148271113965857\t 0.8148271113965857\n",
            "19 \t [ 1.3544572   9.55649539 12.          0.53328948 12.          0.91626416]\t 0.7550587617040219\t 0.7231837694267848\t 0.8135452995100162\t 0.8135452995100162\n",
            "20 \t [ 1.37842187  7.92618907 14.          0.53493538  2.          0.9994541 ]\t 0.7668011264232973\t 0.7231837694267848\t 0.8126280077527785\t 0.8126280077527785\n",
            "21 \t [ 7.21328596  4.07226956 12.84215675  1.         18.84215675  1.        ]\t 0.7241675603318312\t 0.7231837694267848\t 0.8119004891879321\t 0.8119008640230342\n",
            "22 \t [ 0.76637948  1.6718521   5.          0.89180884 15.          0.76035097]\t 0.7539555396832734\t 0.7231837694267848\t 0.8108271005994813\t 0.8108271005994813\n",
            "23 \t [ 9.49691215  9.94154337 14.83418999  1.          3.83418999  1.        ]\t 0.7270840071972497\t 0.7231837694267848\t 0.8101000409695478\t 0.8101000691514925\n",
            "24 \t [ 4.78084438  0.          5.          0.5        11.84293721  0.1       ]\t 1.0095146231122825\t 0.7231837694267848\t 0.8091906525406085\t 0.8091903393462663\n",
            "25 \t [ 2.00363843  0.25557305 13.          0.79852696 19.          0.41982126]\t 0.7976814414449638\t 0.7231837694267848\t 0.8111274749956419\t 0.8111274749956419\n",
            "26 \t [ 5.51357279  0.23462558 10.          0.90293685  3.          0.25797777]\t 0.8698789572440496\t 0.7231837694267848\t 0.8108353310639641\t 0.8108353310639641\n",
            "27 \t [ 6.86902409  3.13611679 10.          0.66662646  7.          0.32526136]\t 0.8829779882336748\t 0.7231837694267848\t 0.8112008750585114\t 0.8112008750585114\n",
            "28 \t [ 5.81852673  5.98213093 14.          0.56622599 10.          0.77542331]\t 0.754358709523401\t 0.7231837694267848\t 0.8116612702910266\t 0.8116612702910266\n",
            "29 \t [ 9.6464663   0.98885701  8.          0.8054878  19.          0.70201828]\t 0.7400612177024872\t 0.7231837694267848\t 0.8110447949909012\t 0.8110447949909012\n",
            "30 \t [8.66270612 8.68970778 9.         0.80306345 1.         0.23433357]\t 1.0042957413028888\t 0.7231837694267848\t 0.8103342658116556\t 0.8103342658116556\n"
          ]
        },
        {
          "output_type": "execute_result",
          "data": {
            "text/plain": [
              "59493.46322622606"
            ]
          },
          "metadata": {},
          "execution_count": 49
        }
      ]
    },
    {
      "cell_type": "code",
      "metadata": {
        "id": "9UroEj_RbLSb",
        "colab": {
          "base_uri": "https://localhost:8080/"
        },
        "outputId": "33093e2f-4928-43fc-fb50-e7e33b78806b"
      },
      "source": [
        "### Bayesian optimization runs (x20): 'exact' Acquisition Function run number = 9 \n",
        "\n",
        "np.random.seed(run_num_9)\n",
        "surrogate_exact_9 = dGaussianProcess(cov_func, optimize=opt)\n",
        "\n",
        "X_train9, X_test9, y_train9, y_test9 = train_test_split(X, y, test_size=test_perc, random_state=run_num_9)\n",
        "\n",
        "def f_syn_polarity9(alpha, gamma, max_depth, subsample, min_child_weight, colsample):\n",
        "    reg = XGBRegressor(reg_alpha=alpha, gamma=gamma, max_depth=int(max_depth), subsample=subsample, min_child_weight=min_child_weight,\n",
        "          colsample_bytree=colsample, n_estimators = n_est, random_state=run_num_9, objective = 'reg:squarederror')\n",
        "    score = np.array(cross_val_score(reg, X=X_train9, y=y_train9).mean())\n",
        "    return operator * score\n",
        "\n",
        "exact_9 = dGPGO(surrogate_exact_9, Acquisition_grad(util), f_syn_polarity9, param, n_jobs = -1) # Define BayesOpt\n",
        "exact_9.run(max_iter = max_iter, init_evals = n_init) # run\n",
        "\n",
        "### Return optimal parameters' set:\n",
        "params_exact_9 = exact_9.getResult()[0]\n",
        "params_exact_9['max_depth'] = int(params_exact_9['max_depth'])\n",
        "params_exact_9['min_child_weight'] = int(params_exact_9['min_child_weight'])\n",
        "\n",
        "### Re-train with optimal parameters, run predictons:\n",
        "dX_exact_train9 = xgb.DMatrix(X_train9, y_train9)\n",
        "dX_exact_test9 = xgb.DMatrix(X_test9, y_test9)\n",
        "model_exact_9 = xgb.train(params_exact_9, dX_exact_train9)\n",
        "pred_exact_9 = model_exact_9.predict(dX_exact_test9)\n",
        "\n",
        "rmse_exact_9 = np.sqrt(mean_squared_error(pred_exact_9, y_test9))\n",
        "rmse_exact_9"
      ],
      "execution_count": null,
      "outputs": [
        {
          "output_type": "stream",
          "name": "stdout",
          "text": [
            "Evaluation \t Proposed point \t  Current eval. \t  Best eval. \t         Max. ExactAcqFunc \t Max. ApproxAcqFunc \n",
            "init\t [ 0.10374154  5.01874592 11.          0.50377155  2.          0.29670281]\t 1.1242573295906948\t 0.7785306461595496\t    \t    \n",
            "init\t [ 4.18508181  2.48101168 13.          0.69794293  2.          0.25009871]\t 1.1029639839305116\t 0.7785306461595496\t    \t    \n",
            "init\t [ 8.78559086  9.50964032 13.          0.98395204 11.          0.90820641]\t 0.7785306461595496\t 0.7785306461595496\t    \t    \n",
            "init\t [ 6.66898973  5.47837783  6.          0.97165345 12.          0.72499481]\t 0.8502721808074817\t 0.7785306461595496\t    \t    \n",
            "init\t [ 8.24870465  4.65668475 13.          0.68760467  9.          0.98502332]\t 0.8007936005920335\t 0.7785306461595496\t    \t    \n",
            "1  \t [6.73714319 2.39608167 5.         0.58130302 3.         0.163077  ]\t 1.1406566629866908\t 0.7785306461595496\t 0.8870005166620908\t 0.8870005166620908\n",
            "2  \t [9.23885705 0.0495141  9.         0.5847098  7.         0.79832927]\t 0.8680221667579282\t 0.7785306461595496\t 0.8972376511635669\t 0.8972376511635669\n",
            "3  \t [ 3.67545472  4.78145311 14.          0.63123486 17.          0.4863889 ]\t 0.9335462768267092\t 0.7785306461595496\t 0.8928721827857549\t 0.8928721827857549\n",
            "4  \t [ 0.19525707  9.62416422  9.          0.85280832 10.          0.52998476]\t 0.8430600265636745\t 0.7785306461595496\t 0.8917918565735362\t 0.8917918565735362\n",
            "5  \t [ 1.86381009  9.16177979  5.          0.9344438  17.          0.81379931]\t 0.8496902041278048\t 0.7785306461595496\t 0.8882723607725106\t 0.8882723607725106\n",
            "6  \t [ 2.35563756  1.41309797  5.          0.61127581 14.          0.85229383]\t 0.8749534501849734\t 0.7785306461595496\t 0.88561506796253\t 0.88561506796253\n",
            "7  \t [ 0.65024006  0.20015298 14.          0.90298726 13.          0.95798937]\t 0.7807988843896355\t 0.7785306461595496\t 0.8840327886353194\t 0.8840327886353194\n",
            "8  \t [ 9.89935012  1.80411649  9.          0.642097   16.          0.9768379 ]\t 0.8049376763035934\t 0.7785306461595496\t 0.8807459477806371\t 0.8807459477806371\n",
            "9  \t [ 0.30581668  9.33751049 12.          0.80943195 19.          0.44519139]\t 0.9249945564098354\t 0.7785306461595496\t 0.8784026477589136\t 0.8784026477589136\n",
            "10 \t [0.  0.  5.  0.5 1.  0.1]\t 1.1524249543979754\t 0.7785306461595496\t 0.878644852893759\t 0.8786448528937587\n",
            "11 \t [ 7.69830016  7.83404591 13.          0.63442501  2.          0.36725242]\t 1.0988578091368677\t 0.7785306461595496\t 0.8836241202898324\t 0.8836241202898324\n",
            "12 \t [1.13081555 8.89608809 5.         0.68242063 1.         0.25767085]\t 1.0885131872740894\t 0.7785306461595496\t 0.8868244735523886\t 0.8868244735523886\n",
            "\u001b[1m\u001b[92m13\u001b[0m\t \u001b[1m\u001b[92m[10. 10. 15.  1. 20.  1.]\u001b[0m\t \u001b[1m\u001b[92m0.7758231675240183\u001b[0m\t \u001b[1m\u001b[92m0.7758231675240183\u001b[0m\t \u001b[1m\u001b[92m0.8894387269625446\u001b[0m\t \u001b[1m\u001b[92m0.8894387269607084\u001b[0m\n",
            "14 \t [1.09889824 3.45783919 9.         0.93550027 8.         0.74353061]\t 0.827683547843224\t 0.7758231675240183\t 0.8847452762974399\t 0.8847452762974399\n",
            "15 \t [9.88943457 8.53804591 8.         0.65243257 7.         0.28069664]\t 1.0865137754913423\t 0.7758231675240183\t 0.8831213107843575\t 0.8831213107843575\n",
            "16 \t [ 3.66353781  7.3371628  13.          0.91928424 11.          0.42437688]\t 0.9250856549171413\t 0.7758231675240183\t 0.8853979475069688\t 0.8853979575115691\n",
            "17 \t [ 7.81834149  9.72965303  8.          0.64259089 17.          0.22077726]\t 1.1396860566775746\t 0.7758231675240183\t 0.885125076357929\t 0.885125076357929\n",
            "18 \t [ 9.00084206  1.85673124 10.          0.98011614  2.          0.25530052]\t 1.0898882781458181\t 0.7758231675240183\t 0.8879078684747638\t 0.8879078684747638\n",
            "19 \t [ 5.42797436  4.70400622  7.          0.87745282 17.          0.5218791 ]\t 0.8472592817546036\t 0.7758231675240183\t 0.8897171606916494\t 0.8897171606916494\n",
            "20 \t [ 4.49089064  7.04035213 10.          0.71518167  6.          0.54341653]\t 0.859181748863746\t 0.7758231675240183\t 0.8884378756942852\t 0.8884378756942852\n",
            "21 \t [ 4.2953213   0.27911896 10.          0.9783586  19.          0.46300401]\t 0.9147018504907891\t 0.7758231675240183\t 0.887381398831062\t 0.887381398831062\n",
            "22 \t [ 4.99585633  9.84423212 13.          0.58601629 15.          0.62308889]\t 0.8715493907545507\t 0.7758231675240183\t 0.8869744481130575\t 0.8869744481130575\n",
            "23 \t [ 5.46434238  0.02174674 14.          0.63581145 14.          0.27245381]\t 1.076997412411726\t 0.7758231675240183\t 0.8861684574260084\t 0.8861684574260084\n",
            "24 \t [ 3.74834789  9.93946975 10.          0.52571565  1.          0.6614516 ]\t 0.9087793268048738\t 0.7758231675240183\t 0.8875704566336836\t 0.8875704566336836\n",
            "25 \t [ 0.          6.87384353  5.          0.5        12.44834556  0.1       ]\t 1.1433674538004506\t 0.7758231675240183\t 0.8871435196691032\t 0.8871435194587707\n",
            "26 \t [ 1.69586861  4.5294081  11.47224962  0.5        13.47224962  0.1       ]\t 1.1472198100384623\t 0.7758231675240183\t 0.889155158221962\t 0.8891551574886197\n",
            "27 \t [ 0.45983101  9.28402862 13.          0.52786561  6.          0.42783681]\t 0.9682092632615712\t 0.7758231675240183\t 0.8910746815814453\t 0.8910746815814453\n",
            "28 \t [0.        0.        5.        0.5       9.5041648 0.1      ]\t 1.1477288563360317\t 0.7758231675240183\t 0.8911020336840475\t 0.8911020331996841\n",
            "29 \t [ 9.89680111  6.16985579 13.          0.58428363 17.          0.77251451]\t 0.8594533098064951\t 0.7758231675240183\t 0.8928476599789226\t 0.8928476599789226\n",
            "30 \t [ 3.61303665  3.40616878 14.          0.56185901  9.          0.73688352]\t 0.8699535511445868\t 0.7758231675240183\t 0.8919478623325356\t 0.8919478623325356\n"
          ]
        },
        {
          "output_type": "execute_result",
          "data": {
            "text/plain": [
              "58909.59940760899"
            ]
          },
          "metadata": {},
          "execution_count": 50
        }
      ]
    },
    {
      "cell_type": "code",
      "metadata": {
        "id": "7VgaJOoJbOIE",
        "colab": {
          "base_uri": "https://localhost:8080/"
        },
        "outputId": "a03ec60c-2861-4097-bc27-fbe07a6aab64"
      },
      "source": [
        "### Bayesian optimization runs (x20): 'exact' Acquisition Function run number = 10 \n",
        "\n",
        "np.random.seed(run_num_10)\n",
        "surrogate_exact_10 = dGaussianProcess(cov_func, optimize=opt)\n",
        "\n",
        "X_train10, X_test10, y_train10, y_test10 = train_test_split(X, y, test_size=test_perc, random_state=run_num_10)\n",
        "\n",
        "def f_syn_polarity10(alpha, gamma, max_depth, subsample, min_child_weight, colsample):\n",
        "    reg = XGBRegressor(reg_alpha=alpha, gamma=gamma, max_depth=int(max_depth), subsample=subsample, min_child_weight=min_child_weight,\n",
        "          colsample_bytree=colsample, n_estimators = n_est, random_state=run_num_10, objective = 'reg:squarederror')\n",
        "    score = np.array(cross_val_score(reg, X=X_train10, y=y_train10).mean())\n",
        "    return operator * score\n",
        "\n",
        "exact_10 = dGPGO(surrogate_exact_10, Acquisition_grad(util), f_syn_polarity10, param, n_jobs = -1) # Define BayesOpt\n",
        "exact_10.run(max_iter = max_iter, init_evals = n_init) # run\n",
        "\n",
        "### Return optimal parameters' set:\n",
        "params_exact_10 = exact_10.getResult()[0]\n",
        "params_exact_10['max_depth'] = int(params_exact_10['max_depth'])\n",
        "params_exact_10['min_child_weight'] = int(params_exact_10['min_child_weight'])\n",
        "\n",
        "### Re-train with optimal parameters, run predictons:\n",
        "dX_exact_train10 = xgb.DMatrix(X_train10, y_train10)\n",
        "dX_exact_test10 = xgb.DMatrix(X_test10, y_test10)\n",
        "model_exact_10 = xgb.train(params_exact_10, dX_exact_train10)\n",
        "pred_exact_10 = model_exact_10.predict(dX_exact_test10)\n",
        "\n",
        "rmse_exact_10 = np.sqrt(mean_squared_error(pred_exact_10, y_test10))\n",
        "rmse_exact_10"
      ],
      "execution_count": null,
      "outputs": [
        {
          "output_type": "stream",
          "name": "stdout",
          "text": [
            "Evaluation \t Proposed point \t  Current eval. \t  Best eval. \t         Max. ExactAcqFunc \t Max. ApproxAcqFunc \n",
            "init\t [ 7.71320643  0.20751949  5.          0.72150747 17.          0.12265456]\t 1.0639310256047103\t 0.7797034870948047\t    \t    \n",
            "init\t [ 7.0920801   2.65566127 13.          0.57518893 17.          0.83494165]\t 0.79580179662759\t 0.7797034870948047\t    \t    \n",
            "init\t [ 3.36071584  8.90816531  6.          0.86087766 15.          0.75469196]\t 0.7797034870948047\t 0.7797034870948047\t    \t    \n",
            "init\t [ 5.40880931  1.31458152  8.          0.57108502 14.          0.62551123]\t 0.7990514117028104\t 0.7797034870948047\t    \t    \n",
            "init\t [1.82631436 8.26082248 6.         0.80888349 5.         0.15900694]\t 1.0587036817796267\t 0.7797034870948047\t    \t    \n",
            "\u001b[1m\u001b[92m1\u001b[0m\t \u001b[1m\u001b[92m[8.31989768 3.09778055 7.         0.64798085 3.         0.98471878]\u001b[0m\t \u001b[1m\u001b[92m0.7741723447560037\u001b[0m\t \u001b[1m\u001b[92m0.7741723447560037\u001b[0m\t \u001b[1m\u001b[92m0.8783154086616141\u001b[0m\t \u001b[1m\u001b[92m0.8783154086616141\u001b[0m\n",
            "2  \t [ 3.05837423  0.98670899 11.          0.63714741 18.          0.46809298]\t 0.8572799307158145\t 0.7741723447560037\t 0.8680718579578248\t 0.8680718579578248\n",
            "3  \t [1.0517383  0.29626986 6.         0.71496305 2.         0.21703638]\t 1.0670266318570725\t 0.7741723447560037\t 0.8668924294131124\t 0.8668924294131124\n",
            "\u001b[1m\u001b[92m4\u001b[0m\t \u001b[1m\u001b[92m[ 2.98946783  8.70916918 12.          0.89809007  8.          0.53350402]\u001b[0m\t \u001b[1m\u001b[92m0.7701333999187374\u001b[0m\t \u001b[1m\u001b[92m0.7701333999187374\u001b[0m\t \u001b[1m\u001b[92m0.8737424665065758\u001b[0m\t \u001b[1m\u001b[92m0.8737424665065758\u001b[0m\n",
            "5  \t [ 2.36407072  4.99081503 14.          0.6287111   1.          0.46714602]\t 0.8729171360227909\t 0.7701333999187374\t 0.866532625330119\t 0.866532625330119\n",
            "\u001b[1m\u001b[92m6\u001b[0m\t \u001b[1m\u001b[92m[10. 10. 15.  1. 20.  1.]\u001b[0m\t \u001b[1m\u001b[92m0.7439381718569423\u001b[0m\t \u001b[1m\u001b[92m0.7439381718569423\u001b[0m\t \u001b[1m\u001b[92m0.8659499021248117\u001b[0m\t \u001b[1m\u001b[92m0.8659499021248117\u001b[0m\n",
            "7  \t [8.82521763 9.96779345 8.         0.82356907 1.         0.3598298 ]\t 0.9915594796443903\t 0.7439381718569423\t 0.8414535180609128\t 0.8414535180609128\n",
            "8  \t [10.          6.85918558 12.81116525  1.         10.81116525  1.        ]\t 0.7519438998859765\t 0.7439381718569423\t 0.8442136092295318\t 0.8442136092295307\n",
            "9  \t [7.7714375  7.70616843 8.         0.82339468 6.         0.96195202]\t 0.7659210449096093\t 0.7439381718569423\t 0.8414612537245528\t 0.8414612537245528\n",
            "10 \t [ 5.70210615  2.89189731 13.          0.5015275   7.          0.96850007]\t 0.7837175478555466\t 0.7439381718569423\t 0.8393359503337426\t 0.8393359503337426\n",
            "11 \t [ 8.19358468  0.09406813 12.          0.66286753  2.          0.39315916]\t 0.8597247913264393\t 0.7439381718569423\t 0.837782800342847\t 0.837782800342847\n",
            "12 \t [ 2.40528406  7.71427622 14.          0.55203588 14.          0.3470708 ]\t 0.9922782988108612\t 0.7439381718569423\t 0.8376656968857601\t 0.8376656968857601\n",
            "13 \t [ 1.32528066  5.17118506  5.          0.79204954 19.          0.27904411]\t 0.9748541191382067\t 0.7439381718569423\t 0.8398587680536258\t 0.8398587680536258\n",
            "14 \t [ 6.8412321  10.          9.17333716  1.         19.17333716  1.        ]\t 0.7478370184518928\t 0.7439381718569423\t 0.8415030448411116\t 0.8415030446777704\n",
            "15 \t [ 6.23264464  3.89952041  5.          0.5058002  10.          0.9312417 ]\t 0.7958943300039362\t 0.7439381718569423\t 0.8397065190223291\t 0.8397065190223291\n",
            "16 \t [ 0.          3.01568416  5.          0.5        13.38560265  0.1       ]\t 1.074287690569432\t 0.7439381718569423\t 0.8386768067580227\t 0.8386767868022513\n",
            "17 \t [ 6.83081526 10.         15.          1.         13.95313795  1.        ]\t 0.7502662489938297\t 0.7439381718569423\t 0.8416834601715584\t 0.8416830629273441\n",
            "18 \t [ 0.19295602  0.79378594 12.          0.59003081  7.          0.10978379]\t 1.0725146435173063\t 0.7439381718569423\t 0.8401505555063823\t 0.8401505555063823\n",
            "19 \t [ 3.80090214  9.80981443 12.          0.76771143  3.          0.20106055]\t 1.0637414500925335\t 0.7439381718569423\t 0.8428015340012399\t 0.8428015340012399\n",
            "20 \t [0.02696897 2.95683802 6.         0.66811128 8.         0.42238237]\t 0.8624960872189099\t 0.7439381718569423\t 0.8451009837610982\t 0.8451009837610982\n",
            "21 \t [ 9.99007842  4.05707274  8.81119978  1.         13.81119978  1.        ]\t 0.7494575949638811\t 0.7439381718569423\t 0.8447637031445776\t 0.8447623333232995\n",
            "22 \t [ 8.90494013  9.90855121  7.          0.65806479 13.          0.13965767]\t 1.066248360666748\t 0.7439381718569423\t 0.8433472970307131\t 0.8433472970307131\n",
            "23 \t [ 6.17511509  7.73427322 11.          0.75619547 14.          0.43289019]\t 0.848449809107426\t 0.7439381718569423\t 0.8454012982675041\t 0.8454012982675041\n",
            "24 \t [ 9.44884228  8.24267271 13.          0.85613128  4.          0.70957676]\t 0.7668913642590527\t 0.7439381718569423\t 0.8449554362316071\t 0.8449554362316071\n",
            "25 \t [ 9.8750257   5.38059903  9.          0.71778174 19.          0.87413503]\t 0.7810817529858568\t 0.7439381718569423\t 0.8438214171099192\t 0.8438214171099192\n",
            "\u001b[1m\u001b[92m26\u001b[0m\t \u001b[1m\u001b[92m[ 9.82182211  4.19094948 15.          1.         20.          1.        ]\u001b[0m\t \u001b[1m\u001b[92m0.7439381412855403\u001b[0m\t \u001b[1m\u001b[92m0.7439381412855403\u001b[0m\t \u001b[1m\u001b[92m0.8428782051902192\u001b[0m\t \u001b[1m\u001b[92m0.842878649935897\u001b[0m\n",
            "27 \t [ 7.88167693  7.97515501  6.          0.78950848 17.          0.19131965]\t 1.0553390354056282\t 0.7439381412855403\t 0.8417056548053802\t 0.8417056548053802\n",
            "28 \t [ 2.59065203  2.5376593  13.          0.84164115 13.          0.91116769]\t 0.7536178211924246\t 0.7439381412855403\t 0.8433787733982426\t 0.8433787733982426\n",
            "29 \t [ 0.15356814  4.5107537  10.          0.76934228  3.          0.57910338]\t 0.780100658705592\t 0.7439381412855403\t 0.8423306934972995\t 0.8423306934972995\n",
            "30 \t [ 9.83520318  0.46051931 11.          0.88348551 11.          0.1066757 ]\t 1.0555930989881763\t 0.7439381412855403\t 0.8415354577423212\t 0.8415354577423212\n"
          ]
        },
        {
          "output_type": "execute_result",
          "data": {
            "text/plain": [
              "60178.06288885992"
            ]
          },
          "metadata": {},
          "execution_count": 51
        }
      ]
    },
    {
      "cell_type": "code",
      "metadata": {
        "id": "51z87uHWbRGr",
        "colab": {
          "base_uri": "https://localhost:8080/"
        },
        "outputId": "31846a3e-8684-4573-9195-53d8c640e38b"
      },
      "source": [
        "### Bayesian optimization runs (x20): 'exact' Acquisition Function run number = 11 \n",
        "\n",
        "np.random.seed(run_num_11)\n",
        "surrogate_exact_11 = dGaussianProcess(cov_func, optimize=opt)\n",
        "\n",
        "X_train11, X_test11, y_train11, y_test11 = train_test_split(X, y, test_size=test_perc, random_state=run_num_11)\n",
        "\n",
        "def f_syn_polarity11(alpha, gamma, max_depth, subsample, min_child_weight, colsample):\n",
        "    reg = XGBRegressor(reg_alpha=alpha, gamma=gamma, max_depth=int(max_depth), subsample=subsample, min_child_weight=min_child_weight,\n",
        "          colsample_bytree=colsample, n_estimators = n_est, random_state=run_num_11, objective = 'reg:squarederror')\n",
        "    score = np.array(cross_val_score(reg, X=X_train11, y=y_train11).mean())\n",
        "    return operator * score\n",
        "\n",
        "exact_11 = dGPGO(surrogate_exact_11, Acquisition_grad(util), f_syn_polarity11, param, n_jobs = -1) # Define BayesOpt\n",
        "exact_11.run(max_iter = max_iter, init_evals = n_init) # run\n",
        "\n",
        "### Return optimal parameters' set:\n",
        "params_exact_11 = exact_11.getResult()[0]\n",
        "params_exact_11['max_depth'] = int(params_exact_11['max_depth'])\n",
        "params_exact_11['min_child_weight'] = int(params_exact_11['min_child_weight'])\n",
        "\n",
        "### Re-train with optimal parameters, run predictons:\n",
        "dX_exact_train11 = xgb.DMatrix(X_train11, y_train11)\n",
        "dX_exact_test11 = xgb.DMatrix(X_test11, y_test11)\n",
        "model_exact_11 = xgb.train(params_exact_11, dX_exact_train11)\n",
        "pred_exact_11 = model_exact_11.predict(dX_exact_test11)\n",
        "\n",
        "rmse_exact_11 = np.sqrt(mean_squared_error(pred_exact_11, y_test11))\n",
        "rmse_exact_11"
      ],
      "execution_count": null,
      "outputs": [
        {
          "output_type": "stream",
          "name": "stdout",
          "text": [
            "Evaluation \t Proposed point \t  Current eval. \t  Best eval. \t         Max. ExactAcqFunc \t Max. ApproxAcqFunc \n",
            "init\t [ 1.80269689  0.19475241  6.          0.59705781 13.          0.47818324]\t 0.8177825188141039\t 0.7287337628426743\t    \t    \n",
            "init\t [ 4.85427098  0.12780815  5.          0.91309068 14.          0.86571558]\t 0.7419480115539112\t 0.7287337628426743\t    \t    \n",
            "init\t [ 7.2996447   1.08736072 10.          0.92857712 18.          0.66910061]\t 0.7287337628426743\t 0.7287337628426743\t    \t    \n",
            "init\t [ 0.20483613  1.16737269  7.          0.57895615 16.          0.83644782]\t 0.7335645848611818\t 0.7287337628426743\t    \t    \n",
            "init\t [ 3.44624491  3.18798797 14.          0.54197657 15.          0.63958906]\t 0.7441537376931249\t 0.7287337628426743\t    \t    \n",
            "1  \t [9.77136617 6.6548802  7.         0.51036649 9.         0.81011527]\t 0.7482694480200888\t 0.7287337628426743\t 0.7954858095108572\t 0.7954858095108572\n",
            "\u001b[1m\u001b[92m2\u001b[0m\t \u001b[1m\u001b[92m[ 0.59719728  4.15307516 11.          0.66501717  3.          0.95537014]\u001b[0m\t \u001b[1m\u001b[92m0.7070648622170269\u001b[0m\t \u001b[1m\u001b[92m0.7070648622170269\u001b[0m\t \u001b[1m\u001b[92m0.7952778529912745\u001b[0m\t \u001b[1m\u001b[92m0.7952778529912745\u001b[0m\n",
            "3  \t [ 8.79191945  9.92354379  5.          0.67714371 18.          0.57050675]\t 0.7598608339614092\t 0.7070648622170269\t 0.7756794417754161\t 0.7756794417754161\n",
            "4  \t [ 8.43962982  4.2216354  12.          0.61829836  3.          0.16854155]\t 1.0312511769390245\t 0.7070648622170269\t 0.7761203794863963\t 0.7761203794863963\n",
            "5  \t [2.20135958 9.62559813 6.         0.71280025 1.         0.39977427]\t 0.821741520088635\t 0.7070648622170269\t 0.7856458662109832\t 0.7856458662109832\n",
            "\u001b[1m\u001b[92m6\u001b[0m\t \u001b[1m\u001b[92m[10.         10.         15.          1.         15.26855793  1.        ]\u001b[0m\t \u001b[1m\u001b[92m0.6852194626148504\u001b[0m\t \u001b[1m\u001b[92m0.6852194626148504\u001b[0m\t \u001b[1m\u001b[92m0.786660756540361\u001b[0m\t \u001b[1m\u001b[92m0.7866607565362678\u001b[0m\n",
            "7  \t [ 4.15094515  7.09288961  8.          0.62079813 14.          0.58741281]\t 0.7458690703464065\t 0.6852194626148504\t 0.7665386618109561\t 0.7665386618109561\n",
            "8  \t [ 8.85500249  6.36292728 13.          0.79559894 18.          0.41909456]\t 0.8198109956203694\t 0.6852194626148504\t 0.7658695554538029\t 0.7658695554538029\n",
            "9  \t [ 7.64065289  8.8630116  14.          0.9254486   9.          0.47351621]\t 0.8201426455204416\t 0.6852194626148504\t 0.7667176083882549\t 0.7667176083882549\n",
            "10 \t [ 1.06054513  2.23745512 13.          0.92745502  9.          0.16992758]\t 1.0149395859817427\t 0.6852194626148504\t 0.7675757749512754\t 0.7675757749512754\n",
            "11 \t [ 0.23708771  7.99354078 13.          0.65974332 19.          0.67724424]\t 0.7321948901519322\t 0.6852194626148504\t 0.7723287843983103\t 0.7723287843983103\n",
            "12 \t [5.85899015 0.18045227 8.         0.62804619 6.         0.14553575]\t 1.0282447300474362\t 0.6852194626148504\t 0.7711964628991356\t 0.7711964628991356\n",
            "13 \t [1.37264123 4.42539257 5.         0.50284853 7.         0.43970984]\t 0.8266513707453879\t 0.6852194626148504\t 0.7755391901978966\t 0.7755391901978966\n",
            "14 \t [ 8.71522337  2.64896453  8.          0.8880663  13.          0.19932467]\t 1.0170728687846124\t 0.6852194626148504\t 0.7757187583937982\t 0.7757187583937982\n",
            "15 \t [0.61700864 1.88368662 5.         0.7080512  1.         0.20173876]\t 1.0235667739127183\t 0.6852194626148504\t 0.7790961835273212\t 0.7790961835273212\n",
            "16 \t [4.01665832 9.99119747 5.         0.90895458 9.         0.99820429]\t 0.7128856954687761\t 0.6852194626148504\t 0.7822358788807877\t 0.7822358788807877\n",
            "17 \t [6.84259942 4.32103035 5.         0.56696926 3.         0.18577896]\t 1.0278514961886807\t 0.6852194626148504\t 0.7806878107958758\t 0.7806878107958758\n",
            "18 \t [ 2.10994823  7.1805032  12.          0.63048792  8.          0.67645363]\t 0.7459513240013139\t 0.6852194626148504\t 0.7835714916762798\t 0.7835714916762798\n",
            "19 \t [ 8.80621297  1.41648139 14.          0.58742169  8.          0.82618778]\t 0.7395931131077415\t 0.6852194626148504\t 0.7824228892812365\t 0.7824228892812365\n",
            "20 \t [9.22875209 9.1986098  9.         0.90439491 3.         0.27523226]\t 0.9230186077285822\t 0.6852194626148504\t 0.7813370681445045\t 0.7813370681445045\n",
            "21 \t [ 4.20382838  8.11840794 14.          0.97060995 11.          0.52636944]\t 0.7362063940289248\t 0.6852194626148504\t 0.7824538660960826\t 0.7824538660960826\n",
            "22 \t [ 5.07156175  9.40449088 13.          0.98720152 19.          0.4995069 ]\t 0.8094814101586287\t 0.6852194626148504\t 0.7814177102447444\t 0.7814177102447444\n",
            "23 \t [ 9.97716226  3.28825714 13.          0.55185778 13.          0.23012169]\t 1.0288030537521364\t 0.6852194626148504\t 0.7811736918274167\t 0.7811736918274167\n",
            "24 \t [ 0.54717542  8.94670034  7.          0.50212311 11.          0.81086641]\t 0.7415847646765265\t 0.6852194626148504\t 0.7834029058644647\t 0.7834029058644647\n",
            "25 \t [ 4.52812342  0.19443533 13.          0.65004115  2.          0.16077491]\t 1.0248025279634128\t 0.6852194626148504\t 0.7824565694224981\t 0.7824565694224981\n",
            "26 \t [ 1.02271184  6.5446919   5.          0.65061276 18.          0.87810946]\t 0.7127895027916921\t 0.6852194626148504\t 0.7844445026143786\t 0.7844445026143786\n",
            "27 \t [ 3.68440278  8.20346014 12.          0.56740639  2.          0.46221852]\t 0.8528613606171067\t 0.6852194626148504\t 0.7833268604290562\t 0.7833268604290562\n",
            "\u001b[1m\u001b[92m28\u001b[0m\t \u001b[1m\u001b[92m[ 7.50025682  9.66712956 15.          1.          3.22363305  1.        ]\u001b[0m\t \u001b[1m\u001b[92m0.6784707045320062\u001b[0m\t \u001b[1m\u001b[92m0.6784707045320062\u001b[0m\t \u001b[1m\u001b[92m0.7834455730257578\u001b[0m\t \u001b[1m\u001b[92m0.7834462461020385\u001b[0m\n",
            "29 \t [9.27654384 0.11345815 9.         0.76045104 1.         0.92226676]\t 0.7123414924113913\t 0.6784707045320062\t 0.776828850624897\t 0.776828850624897\n",
            "30 \t [ 1.74287981  3.50254818  9.62503239  1.         19.62503239  1.        ]\t 0.6834995680866562\t 0.6784707045320062\t 0.7758640509049516\t 0.7758643809353964\n"
          ]
        },
        {
          "output_type": "execute_result",
          "data": {
            "text/plain": [
              "61502.36723534204"
            ]
          },
          "metadata": {},
          "execution_count": 52
        }
      ]
    },
    {
      "cell_type": "code",
      "metadata": {
        "id": "j8jZUeoWbTvn",
        "colab": {
          "base_uri": "https://localhost:8080/"
        },
        "outputId": "c0b50479-56be-4002-d49c-ad8c83f33423"
      },
      "source": [
        "### Bayesian optimization runs (x20): 'exact' Acquisition Function run number = 12\n",
        "\n",
        "np.random.seed(run_num_12)\n",
        "surrogate_exact_12 = dGaussianProcess(cov_func, optimize=opt)\n",
        "\n",
        "X_train12, X_test12, y_train12, y_test12 = train_test_split(X, y, test_size=test_perc, random_state=run_num_12)\n",
        "\n",
        "def f_syn_polarity12(alpha, gamma, max_depth, subsample, min_child_weight, colsample):\n",
        "    reg = XGBRegressor(reg_alpha=alpha, gamma=gamma, max_depth=int(max_depth), subsample=subsample, min_child_weight=min_child_weight,\n",
        "          colsample_bytree=colsample, n_estimators = n_est, random_state=run_num_12, objective = 'reg:squarederror')\n",
        "    score = np.array(cross_val_score(reg, X=X_train12, y=y_train12).mean())\n",
        "    return operator * score\n",
        "\n",
        "exact_12 = dGPGO(surrogate_exact_12, Acquisition_grad(util), f_syn_polarity12, param, n_jobs = -1) # Define BayesOpt\n",
        "exact_12.run(max_iter = max_iter, init_evals = n_init) # run\n",
        "\n",
        "### Return optimal parameters' set:\n",
        "params_exact_12 = exact_12.getResult()[0]\n",
        "params_exact_12['max_depth'] = int(params_exact_12['max_depth'])\n",
        "params_exact_12['min_child_weight'] = int(params_exact_12['min_child_weight'])\n",
        "\n",
        "### Re-train with optimal parameters, run predictons:\n",
        "dX_exact_train12 = xgb.DMatrix(X_train12, y_train12)\n",
        "dX_exact_test12 = xgb.DMatrix(X_test12, y_test12)\n",
        "model_exact_12 = xgb.train(params_exact_12, dX_exact_train12)\n",
        "pred_exact_12 = model_exact_12.predict(dX_exact_test12)\n",
        "\n",
        "rmse_exact_12 = np.sqrt(mean_squared_error(pred_exact_12, y_test12))\n",
        "rmse_exact_12"
      ],
      "execution_count": null,
      "outputs": [
        {
          "output_type": "stream",
          "name": "stdout",
          "text": [
            "Evaluation \t Proposed point \t  Current eval. \t  Best eval. \t         Max. ExactAcqFunc \t Max. ApproxAcqFunc \n",
            "init\t [1.54162842 7.40049697 6.         0.54321714 4.         0.11311747]\t 0.992708970032886\t 0.7896346786115067\t    \t    \n",
            "init\t [ 9.18747008  9.00714854 14.          0.97847467 11.          0.35544552]\t 0.9050380263035862\t 0.7896346786115067\t    \t    \n",
            "init\t [ 6.06083184  9.44225136 14.          0.95626942  5.          0.56910342]\t 0.8362986807103934\t 0.7896346786115067\t    \t    \n",
            "init\t [ 5.52037633  4.85377414  7.          0.97886436 17.          0.78810441]\t 0.7896346786115067\t 0.7896346786115067\t    \t    \n",
            "init\t [ 0.20809798  1.35210178  5.          0.65494879 16.          0.36062811]\t 0.9186387829358221\t 0.7896346786115067\t    \t    \n",
            "1  \t [9.46555822 8.57190559 5.         0.50164398 5.         0.71992807]\t 0.8115376813007883\t 0.7896346786115067\t 0.8814586840522309\t 0.8814586840522309\n",
            "2  \t [ 3.78385301  2.21923666 12.          0.57141407  8.          0.55842631]\t 0.8600045769145973\t 0.7896346786115067\t 0.8780353159601069\t 0.8780353159601069\n",
            "3  \t [ 7.48458025  0.82585105 14.          0.62666135 18.          0.34757206]\t 0.9136369680693782\t 0.7896346786115067\t 0.8773408989691289\t 0.8773408989691289\n",
            "4  \t [6.38266166 3.66323517 5.         0.6972131  9.         0.47709595]\t 0.9144290525005069\t 0.7896346786115067\t 0.8786229337063717\t 0.8786229337063717\n",
            "5  \t [ 5.83217552  8.53843574 11.          0.58549752 18.          0.26781236]\t 0.9216214538529052\t 0.7896346786115067\t 0.8796434784080921\t 0.8796434784080921\n",
            "6  \t [ 3.52118615  0.23388076 12.          0.56204237  1.          0.44568429]\t 0.9442383814615898\t 0.7896346786115067\t 0.8806590570554369\t 0.8806590570554369\n",
            "\u001b[1m\u001b[92m7\u001b[0m\t \u001b[1m\u001b[92m[ 9.92159613  3.53760601 14.          0.66495754  4.          0.92098158]\u001b[0m\t \u001b[1m\u001b[92m0.7787508246094917\u001b[0m\t \u001b[1m\u001b[92m0.7787508246094917\u001b[0m\t \u001b[1m\u001b[92m0.8820690194624697\u001b[0m\t \u001b[1m\u001b[92m0.8820690194624697\u001b[0m\n",
            "8  \t [ 9.11635581  9.60013795  5.          0.57034236 14.          0.41758327]\t 0.9239433760752476\t 0.7787508246094917\t 0.8708094744059092\t 0.8708094744059092\n",
            "9  \t [ 2.73067092  9.86029136  9.          0.98915314 11.          0.78920814]\t 0.7815140040967317\t 0.7787508246094917\t 0.8716491042105667\t 0.8716491042105667\n",
            "10 \t [ 0.14475494  9.8292754  12.          0.60331385  2.          0.9622215 ]\t 0.7880902159034013\t 0.7787508246094917\t 0.8697132407782869\t 0.8697132407782869\n",
            "11 \t [ 1.81539004  3.97973122 11.          0.55780808 14.          0.86016605]\t 0.8021824021652308\t 0.7787508246094917\t 0.8681382827393611\t 0.8681382827393611\n",
            "12 \t [ 0.10274077  3.67012236  6.          0.81389509 11.          0.83682267]\t 0.786862562407444\t 0.7787508246094917\t 0.8669735402249432\t 0.8669735402249432\n",
            "\u001b[1m\u001b[92m13\u001b[0m\t \u001b[1m\u001b[92m[1.6911714  0.94950816 7.         0.96629111 2.         0.94418272]\u001b[0m\t \u001b[1m\u001b[92m0.7748512120284932\u001b[0m\t \u001b[1m\u001b[92m0.7748512120284932\u001b[0m\t \u001b[1m\u001b[92m0.865724714231559\u001b[0m\t \u001b[1m\u001b[92m0.865724714231559\u001b[0m\n",
            "14 \t [8.72042964 1.18098427 6.         0.87093363 1.         0.1200865 ]\t 0.978708815138663\t 0.7748512120284932\t 0.8612687993792467\t 0.8612687993792467\n",
            "15 \t [ 1.10490837  9.58829464  6.          0.57860445 19.          0.21544386]\t 0.9970201710934681\t 0.7748512120284932\t 0.8630320850484469\t 0.8630320850484469\n",
            "16 \t [ 9.50979811  3.16002382 14.          0.62948949 10.          0.39138316]\t 0.9147194483561627\t 0.7748512120284932\t 0.8648954465443529\t 0.8648954465443529\n",
            "\u001b[1m\u001b[92m17\u001b[0m\t \u001b[1m\u001b[92m[10. 10. 15.  1. 20.  1.]\u001b[0m\t \u001b[1m\u001b[92m0.7706848965834242\u001b[0m\t \u001b[1m\u001b[92m0.7706848965834242\u001b[0m\t \u001b[1m\u001b[92m0.8654256249591534\u001b[0m\t \u001b[1m\u001b[92m0.8654256181290845\u001b[0m\n",
            "\u001b[1m\u001b[92m18\u001b[0m\t \u001b[1m\u001b[92m[ 7.3690203   0.22453821  8.          0.77112625 16.          0.87947876]\u001b[0m\t \u001b[1m\u001b[92m0.7672025730439703\u001b[0m\t \u001b[1m\u001b[92m0.7672025730439703\u001b[0m\t \u001b[1m\u001b[92m0.8608234471968593\u001b[0m\t \u001b[1m\u001b[92m0.8608234471968593\u001b[0m\n",
            "19 \t [9.51121457 1.16444035 9.         0.81792407 9.         0.70590587]\t 0.782570539367717\t 0.7672025730439703\t 0.8568408194559768\t 0.8568408194559768\n",
            "20 \t [ 0.28427394  4.67296732 14.          0.84909523  4.          0.99176009]\t 0.7773417670278823\t 0.7672025730439703\t 0.855932680824403\t 0.855932680824403\n",
            "21 \t [ 5.49888822  5.20148414 10.          0.54435316  4.          0.7517198 ]\t 0.8054543689096347\t 0.7672025730439703\t 0.8550456686044154\t 0.8550456686044154\n",
            "22 \t [ 0.89644994  8.36021707 13.          0.97339483  8.          0.56302318]\t 0.8340112380305953\t 0.7672025730439703\t 0.8544930037822731\t 0.8544930037822731\n",
            "23 \t [7.12967992 8.154614   8.         0.5156473  9.         0.21177212]\t 0.9924239421587664\t 0.7672025730439703\t 0.8542514577111966\t 0.8542514577111966\n",
            "24 \t [ 1.47973338  1.45058818 11.          0.74181509 19.          0.60410465]\t 0.8329180373498172\t 0.7672025730439703\t 0.8556370487035247\t 0.8556370487035247\n",
            "25 \t [ 1.20687155  9.12954676 14.          0.85240868 13.          0.40735863]\t 0.9049430773400733\t 0.7672025730439703\t 0.855363062779565\t 0.855363062779565\n",
            "26 \t [ 4.24823418  9.49681173 13.          0.6150292   7.          0.81414675]\t 0.7903152027969078\t 0.7672025730439703\t 0.8557570314302054\t 0.8557570314302054\n",
            "27 \t [0.         0.         6.13579458 0.5        7.13579458 0.1       ]\t 0.9986428229828832\t 0.7672025730439703\t 0.8550472142584765\t 0.8550474145484848\n",
            "28 \t [ 3.68821786  5.6786616   8.          0.65862302 12.          0.189801  ]\t 0.9845598727954463\t 0.7672025730439703\t 0.8563901557444658\t 0.8563901557444658\n",
            "29 \t [4.85059817 0.59059416 8.         0.66375786 6.         0.57600536]\t 0.8456632041648999\t 0.7672025730439703\t 0.8574285901461894\t 0.8574285901461894\n",
            "30 \t [ 0.42138623  7.7269096  13.          0.72605204 19.          0.17338535]\t 0.979555746560927\t 0.7672025730439703\t 0.8571469754379545\t 0.8571469754379545\n"
          ]
        },
        {
          "output_type": "execute_result",
          "data": {
            "text/plain": [
              "61494.6504599855"
            ]
          },
          "metadata": {},
          "execution_count": 53
        }
      ]
    },
    {
      "cell_type": "code",
      "metadata": {
        "id": "snTrqE2RbWbe",
        "colab": {
          "base_uri": "https://localhost:8080/"
        },
        "outputId": "c894f71d-e477-4860-f2c8-0acd4cab8f39"
      },
      "source": [
        "### Bayesian optimization runs (x20): 'exact' Acquisition Function run number = 13 \n",
        "\n",
        "np.random.seed(run_num_13)\n",
        "surrogate_exact_13 = dGaussianProcess(cov_func, optimize=opt)\n",
        "\n",
        "X_train13, X_test13, y_train13, y_test13 = train_test_split(X, y, test_size=test_perc, random_state=run_num_13)\n",
        "\n",
        "def f_syn_polarity13(alpha, gamma, max_depth, subsample, min_child_weight, colsample):\n",
        "    reg = XGBRegressor(reg_alpha=alpha, gamma=gamma, max_depth=int(max_depth), subsample=subsample, min_child_weight=min_child_weight,\n",
        "          colsample_bytree=colsample, n_estimators = n_est, random_state=run_num_13, objective = 'reg:squarederror')\n",
        "    score = np.array(cross_val_score(reg, X=X_train13, y=y_train13).mean())\n",
        "    return operator * score\n",
        "\n",
        "exact_13 = dGPGO(surrogate_exact_13, Acquisition_grad(util), f_syn_polarity13, param, n_jobs = -1) # Define BayesOpt\n",
        "exact_13.run(max_iter = max_iter, init_evals = n_init) # run\n",
        "\n",
        "### Return optimal parameters' set:\n",
        "params_exact_13 = exact_13.getResult()[0]\n",
        "params_exact_13['max_depth'] = int(params_exact_13['max_depth'])\n",
        "params_exact_13['min_child_weight'] = int(params_exact_13['min_child_weight'])\n",
        "\n",
        "### Re-train with optimal parameters, run predictons:\n",
        "dX_exact_train13 = xgb.DMatrix(X_train13, y_train13)\n",
        "dX_exact_test13 = xgb.DMatrix(X_test13, y_test13)\n",
        "model_exact_13 = xgb.train(params_exact_13, dX_exact_train13)\n",
        "pred_exact_13 = model_exact_13.predict(dX_exact_test13)\n",
        "\n",
        "rmse_exact_13 = np.sqrt(mean_squared_error(pred_exact_13, y_test13))\n",
        "rmse_exact_13"
      ],
      "execution_count": null,
      "outputs": [
        {
          "output_type": "stream",
          "name": "stdout",
          "text": [
            "Evaluation \t Proposed point \t  Current eval. \t  Best eval. \t         Max. ExactAcqFunc \t Max. ApproxAcqFunc \n",
            "init\t [ 7.77702411  2.3754122  11.          0.94649135 13.          0.7827256 ]\t 0.7315012035187541\t 0.7315012035187541\t    \t    \n",
            "init\t [ 7.51661514  6.07343344 11.          0.69402149 11.          0.13153287]\t 1.1319770010327717\t 0.7315012035187541\t    \t    \n",
            "init\t [ 2.98449471  0.58512492 10.          0.73579614 12.          0.33065195]\t 0.9318565354152348\t 0.7315012035187541\t    \t    \n",
            "init\t [ 3.47581215  0.0941277  11.          0.86143432  8.          0.58454932]\t 0.7799608780638936\t 0.7315012035187541\t    \t    \n",
            "init\t [ 4.70137857  6.24432527 10.          0.8149145  18.          0.10784416]\t 1.1305934464937346\t 0.7315012035187541\t    \t    \n",
            "1  \t [1.51786663 9.25994479 9.         0.99792981 2.         0.61199673]\t 0.7922048089873084\t 0.7315012035187541\t 0.8536976611959161\t 0.8536976611959161\n",
            "\u001b[1m\u001b[92m2\u001b[0m\t \u001b[1m\u001b[92m[10.          7.93576033 15.          1.         20.          1.        ]\u001b[0m\t \u001b[1m\u001b[92m0.7284779445464229\u001b[0m\t \u001b[1m\u001b[92m0.7284779445464229\u001b[0m\t \u001b[1m\u001b[92m0.8462099436610265\u001b[0m\t \u001b[1m\u001b[92m0.8462099436343127\u001b[0m\n",
            "3  \t [ 1.27154032  7.56256657  5.          0.85984573 12.          0.61608824]\t 0.7884892526498699\t 0.7284779445464229\t 0.8362309711789868\t 0.8362309711789868\n",
            "4  \t [ 9.69332517  0.05133704 14.          0.6050422   3.          0.79031428]\t 0.7531825106193256\t 0.7284779445464229\t 0.8323077257912653\t 0.8323077257912653\n",
            "5  \t [5.34651487 5.45650069 6.         0.93529094 7.         0.24078895]\t 1.1341345349522627\t 0.7284779445464229\t 0.8282613160003379\t 0.8282613160003379\n",
            "6  \t [ 7.68636788  7.27927184 12.          0.97932089  3.          0.87363673]\t 0.7306802524366626\t 0.7284779445464229\t 0.8365512120182826\t 0.8365512120182826\n",
            "7  \t [2.42114726 2.21731466 7.         0.52977639 2.         0.33969965]\t 0.9459538759453204\t 0.7284779445464229\t 0.8323902685106663\t 0.8323902685106663\n",
            "8  \t [ 1.89221513  8.5037767  14.          0.86717015  6.          0.11990372]\t 1.1391649578607836\t 0.7284779445464229\t 0.8337288597780826\t 0.8337288597780826\n",
            "9  \t [9.52796793 0.5269077  7.         0.61130342 2.         0.41024487]\t 0.833959659879223\t 0.7284779445464229\t 0.8397945442351886\t 0.8397945442351886\n",
            "10 \t [ 5.91640152  9.89232522  5.          0.52190423 15.          0.21991228]\t 1.1260845041213354\t 0.7284779445464229\t 0.838145341726225\t 0.838145341726225\n",
            "11 \t [ 4.33230901  0.85672678  6.          0.63795453 19.          0.64597264]\t 0.7577952901048656\t 0.7284779445464229\t 0.8427693263787817\t 0.8427693263787817\n",
            "12 \t [ 9.46545841  2.71414127  5.          0.83512297 13.          0.70984642]\t 0.7590243643409933\t 0.7284779445464229\t 0.8399431503541858\t 0.8399431503541858\n",
            "13 \t [ 1.3504194   1.49735602 14.          0.92508696  4.          0.69758236]\t 0.7478948066146335\t 0.7284779445464229\t 0.837461951376115\t 0.837461951376115\n",
            "14 \t [ 0.56153062  1.99964994 12.          0.65527832 19.          0.67862516]\t 0.7488859699246391\t 0.7284779445464229\t 0.8350978517873061\t 0.8350978517873061\n",
            "15 \t [ 3.78319896  9.10205064 14.          0.62806706 13.          0.90182995]\t 0.7438065116890006\t 0.7284779445464229\t 0.8329899520241669\t 0.8329899520241669\n",
            "16 \t [10.         10.         15.          1.          9.53232988  1.        ]\t 0.7319809702281288\t 0.7284779445464229\t 0.8310263800082026\t 0.8310263800080226\n",
            "17 \t [7.55403251 6.23917493 5.         0.63649547 1.         0.75229567]\t 0.7558126630837652\t 0.7284779445464229\t 0.8291117993189894\t 0.8291117993189894\n",
            "18 \t [ 2.91019341  6.38178397 14.          0.79652507  1.          0.10091662]\t 1.1419576322433855\t 0.7284779445464229\t 0.8276262732720782\t 0.8276262732720782\n",
            "19 \t [1.99026917 9.93375929 9.         0.83098378 9.         0.22686148]\t 1.127961637301437\t 0.7284779445464229\t 0.8313983739252261\t 0.8313983739252261\n",
            "20 \t [ 9.35280568  2.44132886  8.          0.87489385 18.          0.92170626]\t 0.733467050872053\t 0.7284779445464229\t 0.8346277343332796\t 0.8346277343332796\n",
            "21 \t [ 8.79523185  3.72755126 14.          0.50499174  7.          0.18146663]\t 1.1333739515460355\t 0.7284779445464229\t 0.8328972959995212\t 0.8328972959995212\n",
            "22 \t [ 0.18137014  8.57899028  5.          0.96422639 17.          0.43096751]\t 0.818548258747034\t 0.7284779445464229\t 0.8358905485669863\t 0.8358905485669863\n",
            "23 \t [8.89290931 9.04313752 6.         0.86015778 5.         0.46248033]\t 0.8221940622230782\t 0.7284779445464229\t 0.8350256895661209\t 0.8350256895661209\n",
            "24 \t [0.         1.47488134 5.         0.5        8.02132642 0.1       ]\t 1.1308504443814063\t 0.7284779445464229\t 0.8342558572120118\t 0.8342558571633212\n",
            "25 \t [ 9.14754846  6.13923235 12.          0.62073128 16.          0.6329332 ]\t 0.7539893999969094\t 0.7284779445464229\t 0.8368571487289038\t 0.8368571487289038\n",
            "26 \t [ 0.16863022  2.67389719  9.          0.62610438 15.          0.96408501]\t 0.7463927243485514\t 0.7284779445464229\t 0.8355077392702163\t 0.8355077392702163\n",
            "27 \t [ 7.81157149  9.253568   12.          0.76765119  7.          0.85043688]\t 0.7450347306835475\t 0.7284779445464229\t 0.8341843664186717\t 0.8341843664186717\n",
            "28 \t [ 0.62304831  6.71693434 14.          0.99931941 16.          0.73071332]\t 0.7367831054399863\t 0.7284779445464229\t 0.8329300418879542\t 0.8329300418879542\n",
            "29 \t [ 8.39231109  0.32510731 14.          0.5902879  19.          0.62232309]\t 0.8008920869438576\t 0.7284779445464229\t 0.8316932255066549\t 0.8316932255066549\n",
            "30 \t [ 9.40430106  8.56664918  8.          0.581255   18.          0.40048154]\t 0.829493375000823\t 0.7284779445464229\t 0.8309915753268252\t 0.8309915753268252\n"
          ]
        },
        {
          "output_type": "execute_result",
          "data": {
            "text/plain": [
              "59681.985318557156"
            ]
          },
          "metadata": {},
          "execution_count": 54
        }
      ]
    },
    {
      "cell_type": "code",
      "metadata": {
        "id": "nAuEsXYbtOnC",
        "colab": {
          "base_uri": "https://localhost:8080/"
        },
        "outputId": "97e781e6-6451-444e-e97f-9d9774e883b8"
      },
      "source": [
        "### Bayesian optimization runs (x20): 'exact' Acquisition Function run number = 14 \n",
        "\n",
        "np.random.seed(run_num_14)\n",
        "surrogate_exact_14 = dGaussianProcess(cov_func, optimize=opt)\n",
        "\n",
        "X_train14, X_test14, y_train14, y_test14 = train_test_split(X, y, test_size=test_perc, random_state=run_num_14)\n",
        "\n",
        "def f_syn_polarity14(alpha, gamma, max_depth, subsample, min_child_weight, colsample):\n",
        "    reg = XGBRegressor(reg_alpha=alpha, gamma=gamma, max_depth=int(max_depth), subsample=subsample, min_child_weight=min_child_weight,\n",
        "          colsample_bytree=colsample, n_estimators = n_est, random_state=run_num_14, objective = 'reg:squarederror')\n",
        "    score = np.array(cross_val_score(reg, X=X_train14, y=y_train14).mean())\n",
        "    return operator * score\n",
        "\n",
        "exact_14 = dGPGO(surrogate_exact_14, Acquisition_grad(util), f_syn_polarity14, param, n_jobs = -1) # Define BayesOpt\n",
        "exact_14.run(max_iter = max_iter, init_evals = n_init) # run\n",
        "\n",
        "### Return optimal parameters' set:\n",
        "params_exact_14 = exact_14.getResult()[0]\n",
        "params_exact_14['max_depth'] = int(params_exact_14['max_depth'])\n",
        "params_exact_14['min_child_weight'] = int(params_exact_14['min_child_weight'])\n",
        "\n",
        "### Re-train with optimal parameters, run predictons:\n",
        "dX_exact_train14 = xgb.DMatrix(X_train14, y_train14)\n",
        "dX_exact_test14 = xgb.DMatrix(X_test14, y_test14)\n",
        "model_exact_14 = xgb.train(params_exact_14, dX_exact_train14)\n",
        "pred_exact_14 = model_exact_14.predict(dX_exact_test14)\n",
        "\n",
        "rmse_exact_14 = np.sqrt(mean_squared_error(pred_exact_14, y_test14))\n",
        "rmse_exact_14"
      ],
      "execution_count": null,
      "outputs": [
        {
          "output_type": "stream",
          "name": "stdout",
          "text": [
            "Evaluation \t Proposed point \t  Current eval. \t  Best eval. \t         Max. ExactAcqFunc \t Max. ApproxAcqFunc \n",
            "init\t [ 5.13943344  7.73165052 12.          0.6831412  11.          0.37876233]\t 0.886516450243748\t 0.7696523735238344\t    \t    \n",
            "init\t [ 9.57603739  5.13116712 14.          0.76959997 12.          0.71328228]\t 0.8159404842786963\t 0.7696523735238344\t    \t    \n",
            "init\t [5.34950319 2.47493539 5.         0.50293689 6.         0.29706373]\t 0.9077084280320982\t 0.7696523735238344\t    \t    \n",
            "init\t [ 2.94506579  3.45329697  8.          0.87620946 14.          0.9783044 ]\t 0.7696523735238344\t 0.7696523735238344\t    \t    \n",
            "init\t [ 1.11811929  1.73004086  5.          0.73745288 12.          0.20586008]\t 0.9767143382937844\t 0.7696523735238344\t    \t    \n",
            "1  \t [ 6.50637223  2.67617722 14.          0.53562507  1.          0.16862152]\t 0.9945462140035275\t 0.7696523735238344\t 0.8606700136581263\t 0.8606700136581263\n",
            "\u001b[1m\u001b[92m2\u001b[0m\t \u001b[1m\u001b[92m[10. 10. 15.  1. 20.  1.]\u001b[0m\t \u001b[1m\u001b[92m0.754288614897578\u001b[0m\t \u001b[1m\u001b[92m0.754288614897578\u001b[0m\t \u001b[1m\u001b[92m0.8664557046833671\u001b[0m\t \u001b[1m\u001b[92m0.8664557046833671\u001b[0m\n",
            "3  \t [0.07739536 3.94062842 5.         0.7395899  3.         0.9764837 ]\t 0.7896752580111073\t 0.754288614897578\t 0.8489118279946516\t 0.8489118279946516\n",
            "4  \t [6.9195004  0.54496332 8.         0.81208598 3.         0.15286338]\t 0.9788770650266176\t 0.754288614897578\t 0.8460595834999344\t 0.8460595834999344\n",
            "5  \t [ 9.22243919  0.59642165  6.          0.72537748 19.          0.46639325]\t 0.8953625137558561\t 0.754288614897578\t 0.8496891740982802\t 0.8496891740982802\n",
            "6  \t [ 0.49138495  8.52939618 10.          0.75897738  1.          0.21612775]\t 0.9798753116153296\t 0.754288614897578\t 0.850132655785116\t 0.850132655785116\n",
            "7  \t [9.50752677 9.21478059 7.         0.68709357 5.         0.7478709 ]\t 0.8273794226776625\t 0.754288614897578\t 0.8527510450370482\t 0.8527510450370482\n",
            "8  \t [ 0.63353879  9.61017877  8.          0.96421247 18.          0.39200727]\t 0.8842694211806853\t 0.754288614897578\t 0.851335223193026\t 0.851335223193026\n",
            "9  \t [ 2.48800603  5.10093097 14.          0.58870342  6.          0.75046851]\t 0.7710107589600138\t 0.754288614897578\t 0.8513100907998733\t 0.8513100907998733\n",
            "10 \t [ 1.6361515   9.65601963  6.          0.78645605 10.          0.24059194]\t 0.9748722929296127\t 0.754288614897578\t 0.8491873965227071\t 0.8491873965227071\n",
            "11 \t [ 9.88809977  3.72297385  6.          0.68686416 11.          0.16446157]\t 0.9753715934338578\t 0.754288614897578\t 0.8510707353932152\t 0.8510707353932152\n",
            "12 \t [ 7.35080411  8.42969833  8.          0.54853874 19.          0.64845929]\t 0.8257842416204024\t 0.754288614897578\t 0.8527255351231511\t 0.8527255351231511\n",
            "13 \t [ 0.91289908  0.49155493 12.          0.69437528 19.          0.25722688]\t 0.892536488520163\t 0.754288614897578\t 0.8517034648838244\t 0.8517034648838244\n",
            "14 \t [ 9.50881705  0.8310658  14.          0.86317554 18.          0.16718532]\t 0.9704561998909906\t 0.754288614897578\t 0.8517921682485973\t 0.8517921682485973\n",
            "15 \t [ 9.08335885  5.57767412 12.          0.65195184  6.          0.80607804]\t 0.782438693884594\t 0.754288614897578\t 0.8530684608548177\t 0.8530684608548177\n",
            "16 \t [ 0.14027374  5.40881405 13.          0.72865252 14.          0.51307231]\t 0.8465359737621515\t 0.754288614897578\t 0.8516369475963619\t 0.8516369475963619\n",
            "17 \t [ 7.83429508  8.78694401 14.          0.74976219  2.          0.13371773]\t 0.977619559694927\t 0.754288614897578\t 0.8511197541854354\t 0.8511197541854354\n",
            "18 \t [ 0.96607499  0.08146515 10.          0.75402335  6.          0.63275599]\t 0.8216679903059141\t 0.754288614897578\t 0.8523523329506923\t 0.8523523329506923\n",
            "19 \t [ 2.09007555  7.86113915 13.          0.73459776 19.          0.32750702]\t 0.8974794977987497\t 0.754288614897578\t 0.851566716742292\t 0.851566716742292\n",
            "20 \t [ 4.57870743  1.98552875 14.          0.65566453 14.          0.81792968]\t 0.7770578670011228\t 0.754288614897578\t 0.851696595365517\t 0.851696595365517\n",
            "21 \t [6.76248289 5.99855902 9.17189892 0.5        2.17189892 0.1       ]\t 0.9883362896059351\t 0.754288614897578\t 0.8505527335833554\t 0.8505527293832088\n",
            "22 \t [ 2.89145179  8.95900591 10.          0.52398991  6.          0.6540998 ]\t 0.8335437454041295\t 0.754288614897578\t 0.8517450903111735\t 0.8517450903111735\n",
            "23 \t [ 6.28385098  9.05548813 12.          0.85129754 16.          0.38663401]\t 0.8815446275117527\t 0.754288614897578\t 0.8512121853544948\t 0.8512121853544948\n",
            "24 \t [10.         10.         15.          1.          8.04816754  1.        ]\t 0.7577986384354644\t 0.754288614897578\t 0.8511780069784617\t 0.851177991171967\n",
            "25 \t [ 5.5386478   9.30162083  6.          0.50498383 14.          0.37570322]\t 0.9077994665221223\t 0.754288614897578\t 0.8500489462526771\t 0.8500489462526771\n",
            "26 \t [ 7.99859192  1.27814403 11.          0.87670998 12.          0.48785901]\t 0.8846898950845619\t 0.754288614897578\t 0.8503012821825119\t 0.8503012821825119\n",
            "27 \t [ 0.19921359  1.33183456 11.          0.79119941 11.          0.23591371]\t 0.9742621642398224\t 0.754288614897578\t 0.8503274905519728\t 0.8503274905519728\n",
            "28 \t [ 0.40405522  2.81796516 11.          0.8908648   1.          0.54002187]\t 0.8621381926118351\t 0.754288614897578\t 0.8511690385088013\t 0.8511690385088013\n",
            "29 \t [4.50017808 3.72211817 9.         0.98315208 8.         0.7519506 ]\t 0.7669763827436779\t 0.754288614897578\t 0.8509805385671997\t 0.8509805385671997\n",
            "30 \t [ 1.26617981  4.03386415  8.          0.85223134 19.          0.86958504]\t 0.7663272572002088\t 0.754288614897578\t 0.8500878223393301\t 0.8500878223393301\n"
          ]
        },
        {
          "output_type": "execute_result",
          "data": {
            "text/plain": [
              "60569.20712257925"
            ]
          },
          "metadata": {},
          "execution_count": 55
        }
      ]
    },
    {
      "cell_type": "code",
      "metadata": {
        "id": "KgxvE7Irbbj_",
        "colab": {
          "base_uri": "https://localhost:8080/"
        },
        "outputId": "1aa60cf2-ce97-4f7c-9840-a1d67d24c249"
      },
      "source": [
        "### Bayesian optimization runs (x20): 'exact' Acquisition Function run number = 15 \n",
        "\n",
        "np.random.seed(run_num_15)\n",
        "surrogate_exact_15 = dGaussianProcess(cov_func, optimize=opt)\n",
        "\n",
        "X_train15, X_test15, y_train15, y_test15 = train_test_split(X, y, test_size=test_perc, random_state=run_num_15)\n",
        "\n",
        "def f_syn_polarity15(alpha, gamma, max_depth, subsample, min_child_weight, colsample):\n",
        "    reg = XGBRegressor(reg_alpha=alpha, gamma=gamma, max_depth=int(max_depth), subsample=subsample, min_child_weight=min_child_weight,\n",
        "          colsample_bytree=colsample, n_estimators = n_est, random_state=run_num_15, objective = 'reg:squarederror')\n",
        "    score = np.array(cross_val_score(reg, X=X_train15, y=y_train15).mean())\n",
        "    return operator * score\n",
        "\n",
        "exact_15 = dGPGO(surrogate_exact_15, Acquisition_grad(util), f_syn_polarity15, param, n_jobs = -1) # Define BayesOpt\n",
        "exact_15.run(max_iter = max_iter, init_evals = n_init) # run\n",
        "\n",
        "### Return optimal parameters' set:\n",
        "params_exact_15 = exact_15.getResult()[0]\n",
        "params_exact_15['max_depth'] = int(params_exact_15['max_depth'])\n",
        "params_exact_15['min_child_weight'] = int(params_exact_15['min_child_weight'])\n",
        "\n",
        "### Re-train with optimal parameters, run predictons:\n",
        "dX_exact_train15 = xgb.DMatrix(X_train15, y_train15)\n",
        "dX_exact_test15 = xgb.DMatrix(X_test15, y_test15)\n",
        "model_exact_15 = xgb.train(params_exact_15, dX_exact_train15)\n",
        "pred_exact_15 = model_exact_15.predict(dX_exact_test15)\n",
        "\n",
        "rmse_exact_15 = np.sqrt(mean_squared_error(pred_exact_15, y_test15))\n",
        "rmse_exact_15"
      ],
      "execution_count": null,
      "outputs": [
        {
          "output_type": "stream",
          "name": "stdout",
          "text": [
            "Evaluation \t Proposed point \t  Current eval. \t  Best eval. \t         Max. ExactAcqFunc \t Max. ApproxAcqFunc \n",
            "init\t [ 8.48817697  1.78895925 12.          0.55549316  8.          0.93397854]\t 0.7846478010899064\t 0.7846478010899064\t    \t    \n",
            "init\t [ 0.24953032  8.22298097 12.          0.62494951 11.          0.12924598]\t 1.0448868808294456\t 0.7846478010899064\t    \t    \n",
            "init\t [ 5.02017228  5.50882771 11.          0.85295832 19.          0.13548008]\t 1.0327067294213346\t 0.7846478010899064\t    \t    \n",
            "init\t [2.0023081  9.98543403 7.         0.6295772  2.         0.526127  ]\t 0.8536879526704689\t 0.7846478010899064\t    \t    \n",
            "init\t [ 5.09715306  9.45038417 11.          0.7388277  16.          0.22739973]\t 1.0323325469581077\t 0.7846478010899064\t    \t    \n",
            "1  \t [ 0.29158961  4.9949242  12.          0.89124583  3.          0.67554049]\t 0.810550884613735\t 0.7846478010899064\t 0.8953833878731405\t 0.8953833878731405\n",
            "2  \t [2.60517447 0.82584036 7.         0.6107555  4.         0.25427784]\t 0.9535088265263543\t 0.7846478010899064\t 0.8889852098358495\t 0.8889852098358495\n",
            "3  \t [ 9.6900225   0.69761314 13.          0.54877119 16.          0.55532692]\t 0.8510013207624312\t 0.7846478010899064\t 0.8898056006363613\t 0.8898056006363613\n",
            "4  \t [ 0.17038046  4.0994988   5.          0.9369742  16.          0.54868727]\t 0.828091190657293\t 0.7846478010899064\t 0.8869484664873917\t 0.8869484664873917\n",
            "\u001b[1m\u001b[92m5\u001b[0m\t \u001b[1m\u001b[92m[ 7.00755347  9.83963845  5.          0.51866345 10.          0.95031515]\u001b[0m\t \u001b[1m\u001b[92m0.7842936215568133\u001b[0m\t \u001b[1m\u001b[92m0.7842936215568133\u001b[0m\t \u001b[1m\u001b[92m0.8840753638841531\u001b[0m\t \u001b[1m\u001b[92m0.8840753638841531\u001b[0m\n",
            "6  \t [ 8.69662558  6.80112051 14.          0.50188459  3.          0.90006664]\t 0.7922437692065248\t 0.7842936215568133\t 0.8804158627319066\t 0.8804158627319066\n",
            "\u001b[1m\u001b[92m7\u001b[0m\t \u001b[1m\u001b[92m[10. 10. 15.  1. 20.  1.]\u001b[0m\t \u001b[1m\u001b[92m0.7500277749997387\u001b[0m\t \u001b[1m\u001b[92m0.7500277749997387\u001b[0m\t \u001b[1m\u001b[92m0.8778193420149321\u001b[0m\t \u001b[1m\u001b[92m0.8778193420123862\u001b[0m\n",
            "8  \t [ 5.71795852  3.29182973  6.          0.72243514 13.          0.22847848]\t 1.0316200017464863\t 0.7500277749997387\t 0.8471519123812862\t 0.8471519123812862\n",
            "9  \t [8.88449541 3.44367948 6.         0.58829924 7.         0.7864797 ]\t 0.8467944167491783\t 0.7500277749997387\t 0.8505990683276776\t 0.8505990683276776\n",
            "10 \t [ 8.47779105  8.43696768  5.          0.73890705 16.          0.66738091]\t 0.8243356733622897\t 0.7500277749997387\t 0.849657145193758\t 0.849657145193758\n",
            "11 \t [9.8850401  9.05036452 8.         0.98423572 3.         0.82693955]\t 0.8067689920731376\t 0.7500277749997387\t 0.8484463283617767\t 0.8484463283617767\n",
            "12 \t [ 9.64496659  9.57963322 10.          0.94492464 10.          0.37804844]\t 0.9226006190101874\t 0.7500277749997387\t 0.8471035587805945\t 0.8471035587805945\n",
            "13 \t [ 2.02831554  0.76587809 10.          0.55245407 10.          0.74804361]\t 0.8295846457765217\t 0.7500277749997387\t 0.8477735911669455\t 0.8477735911669455\n",
            "14 \t [ 0.30003945  0.76498683 12.          0.61016683 19.          0.36909762]\t 0.9465503658362678\t 0.7500277749997387\t 0.8469434466689959\t 0.8469434466689959\n",
            "15 \t [3.91240074 6.5849714  5.         0.97211484 8.         0.11185491]\t 1.0294064674086314\t 0.7500277749997387\t 0.847922382030547\t 0.847922382030547\n",
            "16 \t [ 8.3663813   2.71045401  6.          0.93358602 19.          0.54898259]\t 0.8223553164663343\t 0.7500277749997387\t 0.8500883653628083\t 0.8500883653628083\n",
            "17 \t [ 7.91184531  0.22070172 10.          0.88863189  2.          0.28717176]\t 0.9430541630942096\t 0.7500277749997387\t 0.8491792723506357\t 0.8491792723506357\n",
            "18 \t [ 1.86027286  4.35430307 13.          0.53536444 15.          0.92334731]\t 0.7771968835668437\t 0.7500277749997387\t 0.8498740204667385\t 0.8498740204667385\n",
            "19 \t [ 4.15043625  5.08819347 11.          0.50457103  9.          0.36451755]\t 0.9551647746080834\t 0.7500277749997387\t 0.8485593928042872\t 0.8485593928042872\n",
            "20 \t [6.71458767 6.21192942 5.         0.70021974 1.         0.14733325]\t 1.034854344776005\t 0.7500277749997387\t 0.8493730370260528\t 0.8493730370260528\n",
            "\u001b[1m\u001b[92m21\u001b[0m\t \u001b[1m\u001b[92m[10.         4.8682438 15.         1.        20.         1.       ]\u001b[0m\t \u001b[1m\u001b[92m0.7500277749997387\u001b[0m\t \u001b[1m\u001b[92m0.7500277749997387\u001b[0m\t \u001b[1m\u001b[92m0.8511159193497678\u001b[0m\t \u001b[1m\u001b[92m0.8511146422944008\u001b[0m\n",
            "22 \t [ 5.82720577  0.          9.3433572   0.5        16.3433572   0.1       ]\t 1.0442407135840963\t 0.7500277749997387\t 0.8496564129612323\t 0.8496557921958218\n",
            "23 \t [ 5.3880688   2.65297896 14.          0.90613057  4.          0.23404421]\t 1.0375291380406382\t 0.7500277749997387\t 0.8513727534629383\t 0.8513727534629383\n",
            "24 \t [ 6.65527361  8.38369074 14.          0.9282554  10.          0.38464501]\t 0.9220170566192639\t 0.7500277749997387\t 0.8528847093724525\t 0.8528847093724525\n",
            "25 \t [ 1.02140336  0.          5.          0.5        11.01279623  0.1       ]\t 1.0442444156083206\t 0.7500277749997387\t 0.8530709643911404\t 0.8530709208213291\n",
            "26 \t [ 5.12774674  9.38269657 12.          0.66930635  1.          0.1906148 ]\t 1.0370954898577334\t 0.7500277749997387\t 0.8544960980176717\t 0.8544960980176717\n",
            "\u001b[1m\u001b[92m27\u001b[0m\t \u001b[1m\u001b[92m[10.        10.        15.         1.        14.4292932  1.       ]\u001b[0m\t \u001b[1m\u001b[92m0.7440712634911325\u001b[0m\t \u001b[1m\u001b[92m0.7440712634911325\u001b[0m\t \u001b[1m\u001b[92m0.8557521981020436\u001b[0m\t \u001b[1m\u001b[92m0.8557521773508976\u001b[0m\n",
            "28 \t [ 3.24671338  8.21765426  6.          0.54761532 16.          0.24847537]\t 1.0404628696193146\t 0.7440712634911325\t 0.8496522849629268\t 0.8496522849629268\n",
            "29 \t [ 7.52848795  4.6989145  11.          0.6771769  15.          0.208997  ]\t 1.0331911529381295\t 0.7440712634911325\t 0.8508753523993131\t 0.8508753523993131\n",
            "30 \t [ 6.18561281  9.20132045 12.          0.91758231  6.          0.24268371]\t 1.0337092193531725\t 0.7440712634911325\t 0.8519554827745818\t 0.8519554827745818\n"
          ]
        },
        {
          "output_type": "execute_result",
          "data": {
            "text/plain": [
              "59871.52717351679"
            ]
          },
          "metadata": {},
          "execution_count": 56
        }
      ]
    },
    {
      "cell_type": "code",
      "metadata": {
        "id": "5TaP6RoGuiNT",
        "colab": {
          "base_uri": "https://localhost:8080/"
        },
        "outputId": "ec5bbf80-242a-47db-a91b-060b20685b95"
      },
      "source": [
        "### Bayesian optimization runs (x20): 'exact' Acquisition Function run number = 16 \n",
        "\n",
        "np.random.seed(run_num_16)\n",
        "surrogate_exact_16 = dGaussianProcess(cov_func, optimize=opt)\n",
        "\n",
        "X_train16, X_test16, y_train16, y_test16 = train_test_split(X, y, test_size=test_perc, random_state=run_num_16)\n",
        "\n",
        "def f_syn_polarity16(alpha, gamma, max_depth, subsample, min_child_weight, colsample):\n",
        "    reg = XGBRegressor(reg_alpha=alpha, gamma=gamma, max_depth=int(max_depth), subsample=subsample, min_child_weight=min_child_weight,\n",
        "          colsample_bytree=colsample, n_estimators = n_est, random_state=run_num_16, objective = 'reg:squarederror')\n",
        "    score = np.array(cross_val_score(reg, X=X_train16, y=y_train16).mean())\n",
        "    return operator * score\n",
        "\n",
        "exact_16 = dGPGO(surrogate_exact_16, Acquisition_grad(util), f_syn_polarity16, param, n_jobs = -1) # Define BayesOpt\n",
        "exact_16.run(max_iter = max_iter, init_evals = n_init) # run\n",
        "\n",
        "### Return optimal parameters' set:\n",
        "params_exact_16 = exact_16.getResult()[0]\n",
        "params_exact_16['max_depth'] = int(params_exact_16['max_depth'])\n",
        "params_exact_16['min_child_weight'] = int(params_exact_16['min_child_weight'])\n",
        "\n",
        "### Re-train with optimal parameters, run predictons:\n",
        "dX_exact_train16 = xgb.DMatrix(X_train16, y_train16)\n",
        "dX_exact_test16 = xgb.DMatrix(X_test16, y_test16)\n",
        "model_exact_16 = xgb.train(params_exact_16, dX_exact_train16)\n",
        "pred_exact_16 = model_exact_16.predict(dX_exact_test16)\n",
        "\n",
        "rmse_exact_16 = np.sqrt(mean_squared_error(pred_exact_16, y_test16))\n",
        "rmse_exact_16"
      ],
      "execution_count": null,
      "outputs": [
        {
          "output_type": "stream",
          "name": "stdout",
          "text": [
            "Evaluation \t Proposed point \t  Current eval. \t  Best eval. \t         Max. ExactAcqFunc \t Max. ApproxAcqFunc \n",
            "init\t [2.23291079 5.23163341 6.         0.65430839 5.         0.30077285]\t 1.0442882316794924\t 0.9988899440522335\t    \t    \n",
            "init\t [6.88726162 1.63731425 7.         0.97050543 2.         0.25392012]\t 1.034592364984854\t 0.9988899440522335\t    \t    \n",
            "init\t [ 5.94328983  5.6393473   5.          0.67602695 19.          0.42538144]\t 0.9988899440522335\t 0.9988899440522335\t    \t    \n",
            "init\t [ 0.88741148  3.08148142 14.          0.56043938  9.          0.27515386]\t 1.0616382201607613\t 0.9988899440522335\t    \t    \n",
            "init\t [ 2.74631586  1.30996118 11.          0.52160786  8.          0.27956463]\t 1.0586655163441985\t 0.9988899440522335\t    \t    \n",
            "\u001b[1m\u001b[92m1\u001b[0m\t \u001b[1m\u001b[92m[ 7.8937256   1.5972923  14.          0.61610774 17.          0.78739284]\u001b[0m\t \u001b[1m\u001b[92m0.7588724777099193\u001b[0m\t \u001b[1m\u001b[92m0.7588724777099193\u001b[0m\t \u001b[1m\u001b[92m1.0922109077614364\u001b[0m\t \u001b[1m\u001b[92m1.0922109077614364\u001b[0m\n",
            "2  \t [ 9.65014948  7.07834667 14.          0.88748515  2.          0.43513691]\t 1.0357720753154218\t 0.7588724777099193\t 0.8875906499130566\t 0.8875906499130566\n",
            "3  \t [ 9.80741348  8.90144788 14.          0.82131992 14.          0.46769684]\t 0.9957364873565091\t 0.7588724777099193\t 0.8892201459265185\t 0.8892201459265185\n",
            "4  \t [ 0.78730688  7.98438553 14.          0.91743896 18.          0.25645593]\t 1.0230792313624693\t 0.7588724777099193\t 0.8889057198928583\t 0.8889057198928583\n",
            "5  \t [ 1.64983341  0.37890577  9.          0.65437216 16.          0.49641159]\t 0.9990381912537636\t 0.7588724777099193\t 0.8895824158862528\t 0.8895824158862528\n",
            "6  \t [ 5.58043809  8.91463745  8.          0.85851576 10.          0.64398202]\t 0.857846290397769\t 0.7588724777099193\t 0.8894076934102845\t 0.8894076934102845\n",
            "7  \t [ 2.65571666  4.32529089 14.          0.66921971  2.          0.36607383]\t 1.0693894233525565\t 0.7588724777099193\t 0.8856900525754086\t 0.8856900525754086\n",
            "8  \t [0.  0.  5.  0.5 1.  0.1]\t 1.110440514541687\t 0.7588724777099193\t 0.8876687979825628\t 0.8876687976757851\n",
            "\u001b[1m\u001b[92m9\u001b[0m\t \u001b[1m\u001b[92m[6.95801625 9.13555009 8.         0.87520198 2.         0.98461662]\u001b[0m\t \u001b[1m\u001b[92m0.7219532506859043\u001b[0m\t \u001b[1m\u001b[92m0.7219532506859043\u001b[0m\t \u001b[1m\u001b[92m0.8903846238009054\u001b[0m\t \u001b[1m\u001b[92m0.8903846238009054\u001b[0m\n",
            "10 \t [ 9.49073008  1.95543967  6.          0.82312132 10.          0.92175057]\t 0.7290063369184493\t 0.7219532506859043\t 0.8565776507709241\t 0.8565776507709241\n",
            "11 \t [ 1.18539745  9.79684488 10.          0.69107903  4.          0.12860486]\t 1.1107767409489193\t 0.7219532506859043\t 0.8519334185122794\t 0.8519334185122794\n",
            "12 \t [ 8.8197294   2.64777319 14.          0.98646567 10.          0.63786085]\t 0.857182327987213\t 0.7219532506859043\t 0.8546827272114357\t 0.8546827272114357\n",
            "\u001b[1m\u001b[92m13\u001b[0m\t \u001b[1m\u001b[92m[ 0.26172129  9.94921995 14.          0.88029118  9.          0.93655616]\u001b[0m\t \u001b[1m\u001b[92m0.7195558119979323\u001b[0m\t \u001b[1m\u001b[92m0.7195558119979323\u001b[0m\t \u001b[1m\u001b[92m0.8525494425656155\u001b[0m\t \u001b[1m\u001b[92m0.8525494425656155\u001b[0m\n",
            "14 \t [ 9.63904847  1.13624975 14.          0.67706869  2.          0.95236673]\t 0.7547666064805034\t 0.7195558119979323\t 0.846920331358127\t 0.846920331358127\n",
            "15 \t [ 0.02157337  9.97534925  5.          0.75404051 13.          0.40760752]\t 1.0073272814467533\t 0.7195558119979323\t 0.8439428410382575\t 0.8439428410382575\n",
            "16 \t [ 5.73702737  7.50903876 13.          0.61487351 15.          0.57742278]\t 0.894093323976883\t 0.7195558119979323\t 0.8447563468362608\t 0.8447563468362608\n",
            "17 \t [ 7.10469951  6.34150339 11.          0.9481748   6.          0.12277199]\t 1.096518529758772\t 0.7195558119979323\t 0.843880707203574\t 0.843880707203574\n",
            "\u001b[1m\u001b[92m18\u001b[0m\t \u001b[1m\u001b[92m[10. 10. 15.  1. 20.  1.]\u001b[0m\t \u001b[1m\u001b[92m0.7037087316880686\u001b[0m\t \u001b[1m\u001b[92m0.7037087316880686\u001b[0m\t \u001b[1m\u001b[92m0.845957708111704\u001b[0m\t \u001b[1m\u001b[92m0.8459573589774002\u001b[0m\n",
            "19 \t [ 2.38304891  0.39103582  5.          0.8629475  11.          0.24144597]\t 1.0887929481666194\t 0.7037087316880686\t 0.8307862617537094\t 0.8307862617537094\n",
            "20 \t [ 8.60177792  1.89933469  8.          0.92909045 16.          0.35782775]\t 1.0219773849247542\t 0.7037087316880686\t 0.8326417705271373\t 0.8326417705271373\n",
            "21 \t [ 6.66300191  0.19049997 11.          0.78724655  5.          0.59145595]\t 0.8975212398886476\t 0.7037087316880686\t 0.8334539103330539\t 0.8334539103330539\n",
            "22 \t [ 9.99926575  9.6578075   8.          0.78804094 15.          0.34788136]\t 1.0278574252052768\t 0.7037087316880686\t 0.8327393061840609\t 0.8327393061840609\n",
            "23 \t [ 3.65536835  8.11784641  8.          0.98715029 16.          0.54731662]\t 0.8830175244109582\t 0.7037087316880686\t 0.8335576210923512\t 0.8335576210923512\n",
            "24 \t [ 0.6221621   5.97682344 10.          0.77872519 13.          0.10493686]\t 1.0957631261139007\t 0.7037087316880686\t 0.8327502666144324\t 0.8327502666144324\n",
            "25 \t [ 9.98046889  7.22420368 11.          0.55184572 10.          0.81044314]\t 0.7715154646398933\t 0.7037087316880686\t 0.8342953725625908\t 0.8342953725625908\n",
            "26 \t [9.53244977 7.04235321 6.         0.75218774 7.         0.15792958]\t 1.097902360161039\t 0.7037087316880686\t 0.8325366028756387\t 0.8325366028756387\n",
            "27 \t [ 9.26334332  8.65557634  6.          0.701058   19.          0.33944267]\t 1.0341780478393146\t 0.7037087316880686\t 0.8340174910283067\t 0.8340174910283067\n",
            "28 \t [ 1.9619463   0.16028995 10.          0.50330845  2.          0.6207421 ]\t 0.9390116776172818\t 0.7037087316880686\t 0.8347299918313478\t 0.8347299918313478\n",
            "\u001b[1m\u001b[92m29\u001b[0m\t \u001b[1m\u001b[92m[ 3.13718405  3.23524002 14.55251125  1.         13.55251125  1.        ]\u001b[0m\t \u001b[1m\u001b[92m0.7017400366132774\u001b[0m\t \u001b[1m\u001b[92m0.7017400366132774\u001b[0m\t \u001b[1m\u001b[92m0.834498513388103\u001b[0m\t \u001b[1m\u001b[92m0.8344984444249708\u001b[0m\n",
            "30 \t [ 4.09674705  8.75874704 14.86432302  1.          3.86432302  1.        ]\t 0.704127922192309\t 0.7017400366132774\t 0.8309431133385148\t 0.8309428612596192\n"
          ]
        },
        {
          "output_type": "execute_result",
          "data": {
            "text/plain": [
              "60107.77727132956"
            ]
          },
          "metadata": {},
          "execution_count": 57
        }
      ]
    },
    {
      "cell_type": "code",
      "metadata": {
        "id": "NiOaMUmgulbx",
        "colab": {
          "base_uri": "https://localhost:8080/"
        },
        "outputId": "4953eed5-e2b5-4a1c-b92d-5474e7b7a754"
      },
      "source": [
        "### Bayesian optimization runs (x20): 'exact' Acquisition Function run number = 17 \n",
        "\n",
        "np.random.seed(run_num_17)\n",
        "surrogate_exact_17 = dGaussianProcess(cov_func, optimize=opt)\n",
        "\n",
        "X_train17, X_test17, y_train17, y_test17 = train_test_split(X, y, test_size=test_perc, random_state=run_num_17)\n",
        "\n",
        "def f_syn_polarity17(alpha, gamma, max_depth, subsample, min_child_weight, colsample):\n",
        "    reg = XGBRegressor(reg_alpha=alpha, gamma=gamma, max_depth=int(max_depth), subsample=subsample, min_child_weight=min_child_weight,\n",
        "          colsample_bytree=colsample, n_estimators = n_est, random_state=run_num_17, objective = 'reg:squarederror')\n",
        "    score = np.array(cross_val_score(reg, X=X_train17, y=y_train17).mean())\n",
        "    return operator * score\n",
        "\n",
        "exact_17 = dGPGO(surrogate_exact_17, Acquisition_grad(util), f_syn_polarity17, param, n_jobs = -1) # Define BayesOpt\n",
        "exact_17.run(max_iter = max_iter, init_evals = n_init) # run\n",
        "\n",
        "### Return optimal parameters' set:\n",
        "params_exact_17 = exact_17.getResult()[0]\n",
        "params_exact_17['max_depth'] = int(params_exact_17['max_depth'])\n",
        "params_exact_17['min_child_weight'] = int(params_exact_17['min_child_weight'])\n",
        "\n",
        "### Re-train with optimal parameters, run predictons:\n",
        "dX_exact_train17 = xgb.DMatrix(X_train17, y_train17)\n",
        "dX_exact_test17 = xgb.DMatrix(X_test17, y_test17)\n",
        "model_exact_17 = xgb.train(params_exact_17, dX_exact_train17)\n",
        "pred_exact_17 = model_exact_17.predict(dX_exact_test17)\n",
        "\n",
        "rmse_exact_17 = np.sqrt(mean_squared_error(pred_exact_17, y_test17))\n",
        "rmse_exact_17"
      ],
      "execution_count": null,
      "outputs": [
        {
          "output_type": "stream",
          "name": "stdout",
          "text": [
            "Evaluation \t Proposed point \t  Current eval. \t  Best eval. \t         Max. ExactAcqFunc \t Max. ApproxAcqFunc \n",
            "init\t [ 2.94665003  5.30586756 11.          0.94443241 14.          0.80828691]\t 0.8160193762021096\t 0.8160193762021096\t    \t    \n",
            "init\t [ 6.56333522  6.37520896 12.          0.81487881 18.          0.42203224]\t 0.9345750435828236\t 0.8160193762021096\t    \t    \n",
            "init\t [ 9.45683187  0.6004468  11.          0.5171566  10.          0.53881211]\t 0.8609997448649105\t 0.8160193762021096\t    \t    \n",
            "init\t [2.72705857 1.19063434 6.         0.74176431 6.         0.10101151]\t 0.9816665199899536\t 0.8160193762021096\t    \t    \n",
            "init\t [ 4.77631812  5.24671297 13.          0.66254476 19.          0.36708086]\t 0.9568167510294832\t 0.8160193762021096\t    \t    \n",
            "1  \t [ 0.65702322  5.79284078 13.          0.75136902  1.          0.30306068]\t 0.9860041719301801\t 0.8160193762021096\t 0.906562856677992\t 0.906562856677992\n",
            "2  \t [8.79462978 7.51560605 6.         0.76312232 8.         0.57156636]\t 0.8418838401878418\t 0.8160193762021096\t 0.9103160502301246\t 0.9103160502301246\n",
            "\u001b[1m\u001b[92m3\u001b[0m\t \u001b[1m\u001b[92m[0.65992542 7.03112384 5.         0.85138174 1.         0.9514344 ]\u001b[0m\t \u001b[1m\u001b[92m0.7805118546901472\u001b[0m\t \u001b[1m\u001b[92m0.7805118546901472\u001b[0m\t \u001b[1m\u001b[92m0.9074818825613613\u001b[0m\t \u001b[1m\u001b[92m0.9074818825613613\u001b[0m\n",
            "4  \t [ 9.51671323  9.6124566  13.          0.71797221  5.          0.16581182]\t 0.9840979999934294\t 0.7805118546901472\t 0.8746105690778377\t 0.8746105690778377\n",
            "5  \t [ 9.17797544  5.99568118  6.          0.52445603 15.          0.40946449]\t 0.955892785185136\t 0.7805118546901472\t 0.8774956895905699\t 0.8774956895905699\n",
            "6  \t [ 6.81284184  2.29577018  7.          0.5239727  13.          0.33920765]\t 0.9781132546552117\t 0.7805118546901472\t 0.879983464655225\t 0.879983464655225\n",
            "7  \t [ 2.46339402  0.14039019 14.          0.95096219  7.          0.5441132 ]\t 0.8404775189371637\t 0.7805118546901472\t 0.8807621683324771\t 0.8807621683324771\n",
            "8  \t [9.72843652 3.88893279 9.         0.6901555  1.         0.31608219]\t 0.9731655942341536\t 0.7805118546901472\t 0.8790948947543574\t 0.8790948947543574\n",
            "9  \t [ 1.2716555   3.78378689  5.          0.57556817 17.          0.18163876]\t 0.9895289390337443\t 0.7805118546901472\t 0.8804909887399012\t 0.8804909887399012\n",
            "10 \t [1.38490793 6.87002541 5.         0.73931504 9.         0.41767138]\t 0.9451941333061711\t 0.7805118546901472\t 0.8820332460740168\t 0.8820332460740168\n",
            "11 \t [ 0.19725752  8.16335211 14.          0.80836431  8.          0.45209851]\t 0.9443317250470002\t 0.7805118546901472\t 0.8825035247143936\t 0.8825035247143936\n",
            "12 \t [0.  0.  5.  0.5 1.  0.1]\t 0.9987994924328458\t 0.7805118546901472\t 0.8828993954429126\t 0.8828993925818317\n",
            "\u001b[1m\u001b[92m13\u001b[0m\t \u001b[1m\u001b[92m[ 3.6254944  9.8342368 14.4974989  1.        13.4974989  1.       ]\u001b[0m\t \u001b[1m\u001b[92m0.7433127132474576\u001b[0m\t \u001b[1m\u001b[92m0.7433127132474576\u001b[0m\t \u001b[1m\u001b[92m0.8841886193072412\u001b[0m\t \u001b[1m\u001b[92m0.8841885105304782\u001b[0m\n",
            "14 \t [ 7.35111323  4.42247898 14.          0.92954426  7.          0.31778445]\t 0.959605938976237\t 0.7433127132474576\t 0.85196754704011\t 0.85196754704011\n",
            "15 \t [ 9.19532326  8.42928342 11.          0.5289521  11.          0.74996998]\t 0.8809567223983923\t 0.7433127132474576\t 0.8526013447934867\t 0.8526013447934867\n",
            "16 \t [6.14842106 3.92031042 5.         0.80436272 5.         0.42842685]\t 0.9528035553726776\t 0.7433127132474576\t 0.8525633628359337\t 0.8525633628359337\n",
            "\u001b[1m\u001b[92m17\u001b[0m\t \u001b[1m\u001b[92m[10. 10. 15.  1. 20.  1.]\u001b[0m\t \u001b[1m\u001b[92m0.742943724008268\u001b[0m\t \u001b[1m\u001b[92m0.742943724008268\u001b[0m\t \u001b[1m\u001b[92m0.8525121234718208\u001b[0m\t \u001b[1m\u001b[92m0.8525120077330741\u001b[0m\n",
            "18 \t [ 1.75573508  0.40874755  9.475044    0.5        14.475044    0.1       ]\t 0.999563084192372\t 0.742943724008268\t 0.8501165036324158\t 0.8501160961019144\n",
            "19 \t [ 0.45348627  9.34732483 12.          0.95759453 19.          0.71400033]\t 0.8425830184404466\t 0.742943724008268\t 0.8512429253071941\t 0.8512429253071941\n",
            "20 \t [ 6.88175573  0.68997438  9.          0.55006192 19.          0.74555899]\t 0.8711954678288816\t 0.742943724008268\t 0.8503862570923978\t 0.8503862584971705\n",
            "21 \t [ 7.32262595  0.987487   14.          0.78324612 14.          0.76403633]\t 0.8212534877831461\t 0.742943724008268\t 0.8499049370945645\t 0.8499050171389658\n",
            "22 \t [ 0.91019168  0.81947636 11.12349948  0.5         1.12349948  0.1       ]\t 1.003080411951896\t 0.742943724008268\t 0.8489496594791354\t 0.8489496199075987\n",
            "23 \t [ 7.07271536  8.13007518  5.          0.98530219 19.          0.92839144]\t 0.7751049089439255\t 0.742943724008268\t 0.8503844180331878\t 0.8503844180331878\n",
            "24 \t [0.85666329 5.92364698 9.         0.69191689 5.         0.98975497]\t 0.7768640689871786\t 0.742943724008268\t 0.8486916121119895\t 0.8486916121119895\n",
            "25 \t [9.66959108 0.03423869 5.         0.63791788 7.         0.65549808]\t 0.8637733602298097\t 0.742943724008268\t 0.8474911367453539\t 0.8474911367453539\n",
            "26 \t [ 3.61406382  9.87735751 10.          0.70199599  8.          0.85082246]\t 0.8238784103397794\t 0.742943724008268\t 0.847117798854014\t 0.847117798854014\n",
            "27 \t [ 5.62137526  0.50742571 12.          0.60891749  1.          0.89299215]\t 0.8009030532950018\t 0.742943724008268\t 0.8467671572385798\t 0.8467671572385798\n",
            "28 \t [ 4.81300234  8.91292531  6.25381191  1.         12.25381191  1.        ]\t 0.7599999367459834\t 0.742943724008268\t 0.845592832048254\t 0.8455918162277718\n",
            "29 \t [ 0.30609514  2.49894713 14.          0.69397027 18.          0.71750058]\t 0.8500957457886222\t 0.742943724008268\t 0.8445041895704412\t 0.8445041895704412\n",
            "30 \t [10.         10.          9.16651602  1.         16.16651602  1.        ]\t 0.7444896365677914\t 0.742943724008268\t 0.8441524733645178\t 0.8441529757522089\n"
          ]
        },
        {
          "output_type": "execute_result",
          "data": {
            "text/plain": [
              "59823.1409719917"
            ]
          },
          "metadata": {},
          "execution_count": 58
        }
      ]
    },
    {
      "cell_type": "code",
      "metadata": {
        "id": "5H4MWSXFcZjO",
        "colab": {
          "base_uri": "https://localhost:8080/"
        },
        "outputId": "3c9b3d00-e4ee-4eb9-82ab-572dd02056fa"
      },
      "source": [
        "### Bayesian optimization runs (x20): 'exact' Acquisition Function run number = 18 \n",
        "\n",
        "np.random.seed(run_num_18)\n",
        "surrogate_exact_18 = dGaussianProcess(cov_func, optimize=opt)\n",
        "\n",
        "X_train18, X_test18, y_train18, y_test18 = train_test_split(X, y, test_size=test_perc, random_state=run_num_18)\n",
        "\n",
        "def f_syn_polarity18(alpha, gamma, max_depth, subsample, min_child_weight, colsample):\n",
        "    reg = XGBRegressor(reg_alpha=alpha, gamma=gamma, max_depth=int(max_depth), subsample=subsample, min_child_weight=min_child_weight,\n",
        "          colsample_bytree=colsample, n_estimators = n_est, random_state=run_num_18, objective = 'reg:squarederror')\n",
        "    score = np.array(cross_val_score(reg, X=X_train18, y=y_train18).mean())\n",
        "    return operator * score\n",
        "\n",
        "exact_18 = dGPGO(surrogate_exact_18, Acquisition_grad(util), f_syn_polarity18, param, n_jobs = -1) # Define BayesOpt\n",
        "exact_18.run(max_iter = max_iter, init_evals = n_init) # run\n",
        "\n",
        "### Return optimal parameters' set:\n",
        "params_exact_18 = exact_18.getResult()[0]\n",
        "params_exact_18['max_depth'] = int(params_exact_18['max_depth'])\n",
        "params_exact_18['min_child_weight'] = int(params_exact_18['min_child_weight'])\n",
        "\n",
        "### Re-train with optimal parameters, run predictons:\n",
        "dX_exact_train18 = xgb.DMatrix(X_train18, y_train18)\n",
        "dX_exact_test18 = xgb.DMatrix(X_test18, y_test18)\n",
        "model_exact_18 = xgb.train(params_exact_18, dX_exact_train18)\n",
        "pred_exact_18 = model_exact_18.predict(dX_exact_test18)\n",
        "\n",
        "rmse_exact_18 = np.sqrt(mean_squared_error(pred_exact_18, y_test18))\n",
        "rmse_exact_18"
      ],
      "execution_count": null,
      "outputs": [
        {
          "output_type": "stream",
          "name": "stdout",
          "text": [
            "Evaluation \t Proposed point \t  Current eval. \t  Best eval. \t         Max. ExactAcqFunc \t Max. ApproxAcqFunc \n",
            "init\t [6.50374242 5.05453374 6.         0.59092011 3.         0.28357516]\t 0.9747807501509798\t 0.8413213471093884\t    \t    \n",
            "init\t [0.11506734 4.26891483 9.         0.81785956 5.         0.63489043]\t 0.8434056917425027\t 0.8413213471093884\t    \t    \n",
            "init\t [ 2.8861259   6.35547834 11.          0.64267955 14.          0.27877092]\t 0.9720565145525129\t 0.8413213471093884\t    \t    \n",
            "init\t [6.57189031 6.99655629 8.         0.63235896 4.         0.52894035]\t 0.8568115101817837\t 0.8413213471093884\t    \t    \n",
            "init\t [ 6.66600348  2.11312037 14.          0.74363461  4.          0.73174558]\t 0.8413213471093884\t 0.8413213471093884\t    \t    \n",
            "1  \t [ 8.67093232  0.11649132  5.          0.92962202 15.          0.53672863]\t 0.8631585877624761\t 0.8413213471093884\t 0.9254718433911943\t 0.9254718433911943\n",
            "\u001b[1m\u001b[92m2\u001b[0m\t \u001b[1m\u001b[92m[ 7.2764983   0.11744451 14.          0.65239666 17.          0.99049521]\u001b[0m\t \u001b[1m\u001b[92m0.7571977630434763\u001b[0m\t \u001b[1m\u001b[92m0.7571977630434763\u001b[0m\t \u001b[1m\u001b[92m0.9240233897561472\u001b[0m\t \u001b[1m\u001b[92m0.9240233897561472\u001b[0m\n",
            "\u001b[1m\u001b[92m3\u001b[0m\t \u001b[1m\u001b[92m[10. 10. 15.  1. 20.  1.]\u001b[0m\t \u001b[1m\u001b[92m0.7495474900677329\u001b[0m\t \u001b[1m\u001b[92m0.7495474900677329\u001b[0m\t \u001b[1m\u001b[92m0.8505136960536402\u001b[0m\t \u001b[1m\u001b[92m0.8505136960331182\u001b[0m\n",
            "4  \t [ 9.05522886  7.72410538  5.          0.69563915 18.          0.34113663]\t 0.9891420999894684\t 0.7495474900677329\t 0.840351753764046\t 0.840351753764046\n",
            "5  \t [ 8.5959483   8.40141494 11.          0.55097822 19.          0.52848079]\t 0.8565382704778095\t 0.7495474900677329\t 0.8449192630170473\t 0.8449192630170473\n",
            "6  \t [ 8.22273842  9.68669454  5.          0.7147283  11.          0.16411281]\t 1.0897095171845277\t 0.7495474900677329\t 0.844071140228702\t 0.844071140228702\n",
            "7  \t [3.44338621 0.02606641 7.         0.55815806 9.         0.24029821]\t 1.074079654877624\t 0.7495474900677329\t 0.8501622992110155\t 0.8501622992110155\n",
            "8  \t [ 1.24316399  9.43141312 14.          0.66900118  7.          0.55235225]\t 0.8576035440570304\t 0.7495474900677329\t 0.854765309196997\t 0.854765309196997\n",
            "9  \t [0.  0.  5.  0.5 1.  0.1]\t 1.0836382758107443\t 0.7495474900677329\t 0.8536278855016513\t 0.8536278785322658\n",
            "\u001b[1m\u001b[92m10\u001b[0m\t \u001b[1m\u001b[92m[10.         10.         15.          1.         13.63782468  1.        ]\u001b[0m\t \u001b[1m\u001b[92m0.7464050823070849\u001b[0m\t \u001b[1m\u001b[92m0.7464050823070849\u001b[0m\t \u001b[1m\u001b[92m0.8575413890059346\u001b[0m\t \u001b[1m\u001b[92m0.857541381743912\u001b[0m\n",
            "11 \t [ 8.47511857  0.73864041 14.          0.94302087 10.          0.89112309]\t 0.7493736932842745\t 0.7464050823070849\t 0.8520235656876471\t 0.8520235656876471\n",
            "12 \t [ 0.62191196  4.69754177  5.          0.72971917 15.          0.95903084]\t 0.7754264864839603\t 0.7464050823070849\t 0.8494064146160321\t 0.8494064146160321\n",
            "13 \t [1.06249458 8.62681663 5.         0.59952112 1.         0.58280243]\t 0.8746315193916899\t 0.7464050823070849\t 0.8474579824828375\t 0.8474579824828375\n",
            "14 \t [ 0.1747554   0.48895708 14.          0.57846102  7.          0.70331218]\t 0.8476959371678913\t 0.7464050823070849\t 0.8471559261559651\t 0.8471559261559651\n",
            "15 \t [ 8.70623364  5.12068114  9.          0.56483465 12.          0.70223422]\t 0.829728449752577\t 0.7464050823070849\t 0.8465007640734333\t 0.8465007640734333\n",
            "16 \t [ 0.21200191  9.95034596  6.          0.77719285 19.          0.61346381]\t 0.8500178715697884\t 0.7464050823070849\t 0.8456729543049649\t 0.8456729543049649\n",
            "17 \t [ 5.01391374  9.05765577 13.          0.9768187   1.          0.92456281]\t 0.7679138124413849\t 0.7464050823070849\t 0.8451795155038667\t 0.8451795155038667\n",
            "18 \t [10.         10.         13.18086036  1.          7.18086036  1.        ]\t 0.7533403221011143\t 0.7464050823070849\t 0.843776375471163\t 0.8437763740563324\n",
            "19 \t [9.2798599  7.10759547 6.         0.7926243  1.         0.10786223]\t 1.0782261571143834\t 0.7464050823070849\t 0.8424776542831297\t 0.8424776542831297\n",
            "\u001b[1m\u001b[92m20\u001b[0m\t \u001b[1m\u001b[92m[ 0.63928348  2.73309532 12.          0.80553792 18.          0.92667285]\u001b[0m\t \u001b[1m\u001b[92m0.7454559952912053\u001b[0m\t \u001b[1m\u001b[92m0.7454559952912053\u001b[0m\t \u001b[1m\u001b[92m0.8449417368423053\u001b[0m\t \u001b[1m\u001b[92m0.8449417368423053\u001b[0m\n",
            "21 \t [ 1.2588084   9.80413977  5.          0.75618546 12.          0.53020258]\t 0.8643544554338216\t 0.7454559952912053\t 0.8427403881727796\t 0.8427403881727796\n",
            "22 \t [ 2.64511265  0.62629002 11.81318943  0.5         1.81318943  0.1       ]\t 1.0797685658500458\t 0.7454559952912053\t 0.8425735081103568\t 0.8425730291432529\n",
            "23 \t [ 5.84006958  2.28845581  8.          0.66010373 19.          0.76603621]\t 0.7924105891150373\t 0.7454559952912053\t 0.8448731330480865\t 0.8448731330480865\n",
            "24 \t [3.30805236 5.9652029  7.         0.78356556 9.         0.44348022]\t 0.9099123886810275\t 0.7454559952912053\t 0.8439699607334566\t 0.8439699607334566\n",
            "25 \t [ 0.58971199  1.10190062 11.          0.65725563 12.          0.9091195 ]\t 0.7614688462054193\t 0.7454559952912053\t 0.8442193593741684\t 0.8442193593741684\n",
            "26 \t [ 4.84127668  9.90308083 15.          1.         10.65176001  1.        ]\t 0.7525350564087109\t 0.7454559952912053\t 0.8431435534030525\t 0.8431429776921949\n",
            "27 \t [ 6.67485133  4.56724696 15.          1.         20.          1.        ]\t 0.7496206376375888\t 0.7454559952912053\t 0.8420678168646255\t 0.8420670467976699\n",
            "28 \t [ 2.77756299  7.50222207 10.          0.6873697   6.          0.56315775]\t 0.8547248548749937\t 0.7454559952912053\t 0.841138605446393\t 0.841138605446393\n",
            "29 \t [9.89337178 3.81875947 5.         0.59649267 7.         0.86884145]\t 0.8158251175774446\t 0.7454559952912053\t 0.840976247350831\t 0.840976247350831\n",
            "30 \t [ 0.09287395  0.3144952   7.          0.84291666 17.          0.36805631]\t 0.9590579086083952\t 0.7454559952912053\t 0.8404222261234707\t 0.8404222261234707\n"
          ]
        },
        {
          "output_type": "execute_result",
          "data": {
            "text/plain": [
              "60789.308390329395"
            ]
          },
          "metadata": {},
          "execution_count": 59
        }
      ]
    },
    {
      "cell_type": "code",
      "metadata": {
        "id": "B-zaPbk2uuzH",
        "colab": {
          "base_uri": "https://localhost:8080/"
        },
        "outputId": "3c83cf59-2f55-472f-a30d-763d9678a741"
      },
      "source": [
        "### Bayesian optimization runs (x20): 'exact' Acquisition Function run number = 19 \n",
        "\n",
        "np.random.seed(run_num_19)\n",
        "surrogate_exact_19 = dGaussianProcess(cov_func, optimize=opt)\n",
        "\n",
        "X_train19, X_test19, y_train19, y_test19 = train_test_split(X, y, test_size=test_perc, random_state=run_num_19)\n",
        "\n",
        "def f_syn_polarity19(alpha, gamma, max_depth, subsample, min_child_weight, colsample):\n",
        "    reg = XGBRegressor(reg_alpha=alpha, gamma=gamma, max_depth=int(max_depth), subsample=subsample, min_child_weight=min_child_weight,\n",
        "          colsample_bytree=colsample, n_estimators = n_est, random_state=run_num_19, objective = 'reg:squarederror')\n",
        "    score = np.array(cross_val_score(reg, X=X_train19, y=y_train19).mean())\n",
        "    return operator * score\n",
        "\n",
        "exact_19 = dGPGO(surrogate_exact_19, Acquisition_grad(util), f_syn_polarity19, param, n_jobs = -1) # Define BayesOpt\n",
        "exact_19.run(max_iter = max_iter, init_evals = n_init) # run\n",
        "\n",
        "### Return optimal parameters' set:\n",
        "params_exact_19 = exact_19.getResult()[0]\n",
        "params_exact_19['max_depth'] = int(params_exact_19['max_depth'])\n",
        "params_exact_19['min_child_weight'] = int(params_exact_19['min_child_weight'])\n",
        "\n",
        "### Re-train with optimal parameters, run predictons:\n",
        "dX_exact_train19 = xgb.DMatrix(X_train19, y_train19)\n",
        "dX_exact_test19 = xgb.DMatrix(X_test19, y_test19)\n",
        "model_exact_19 = xgb.train(params_exact_19, dX_exact_train19)\n",
        "pred_exact_19 = model_exact_19.predict(dX_exact_test19)\n",
        "\n",
        "rmse_exact_19 = np.sqrt(mean_squared_error(pred_exact_19, y_test19))\n",
        "rmse_exact_19"
      ],
      "execution_count": null,
      "outputs": [
        {
          "output_type": "stream",
          "name": "stdout",
          "text": [
            "Evaluation \t Proposed point \t  Current eval. \t  Best eval. \t         Max. ExactAcqFunc \t Max. ApproxAcqFunc \n",
            "init\t [ 0.97533602  7.61249717 13.          0.85765469 11.          0.39830191]\t 0.9238143360620997\t 0.824729580989813\t    \t    \n",
            "init\t [ 0.82999565  6.71977081  6.          0.50407413 19.          0.67209466]\t 0.9119597092034326\t 0.824729580989813\t    \t    \n",
            "init\t [ 2.15923256  5.49027432 12.          0.52588686 10.          0.20235326]\t 1.1280473533716002\t 0.824729580989813\t    \t    \n",
            "init\t [4.99659267 1.52108422 6.         0.73481085 4.         0.71949465]\t 0.885331313733569\t 0.824729580989813\t    \t    \n",
            "init\t [ 3.72927156  9.46160045  5.          0.80554614 18.          0.97708466]\t 0.824729580989813\t 0.824729580989813\t    \t    \n",
            "\u001b[1m\u001b[92m1\u001b[0m\t \u001b[1m\u001b[92m[ 8.33060043  1.42030563  8.          0.92863724 14.          0.78606141]\u001b[0m\t \u001b[1m\u001b[92m0.79346025102973\u001b[0m\t \u001b[1m\u001b[92m0.79346025102973\u001b[0m\t \u001b[1m\u001b[92m0.9221585360998066\u001b[0m\t \u001b[1m\u001b[92m0.9221585360998066\u001b[0m\n",
            "2  \t [ 9.87536409  7.17591217 14.          0.99713522 17.          0.55460731]\t 0.8875735409405836\t 0.79346025102973\t 0.890795420481241\t 0.890795420481241\n",
            "3  \t [ 9.05225624  3.60011377 14.          0.89518364  1.          0.11342054]\t 1.1322726135322738\t 0.79346025102973\t 0.8897690722985874\t 0.8897690722985874\n",
            "4  \t [ 0.63994078  3.71351436 14.          0.60091862  1.          0.58598556]\t 0.9633601355550562\t 0.79346025102973\t 0.8982216044739755\t 0.8982216044739755\n",
            "5  \t [4.99125702 9.50308409 8.         0.55828329 3.         0.34673953]\t 0.9736613453341365\t 0.79346025102973\t 0.8989231253431116\t 0.8989231253431116\n",
            "6  \t [ 1.47830981  6.29496792  5.          0.5        11.46877712  0.1       ]\t 1.1229839212138177\t 0.79346025102973\t 0.8997800133991413\t 0.8997800132890978\n",
            "7  \t [ 3.74566023  2.13062241 14.          0.71219729 18.          0.68959412]\t 0.8910080545620651\t 0.79346025102973\t 0.9046878274234857\t 0.9046878274234857\n",
            "8  \t [ 8.78531367  5.16236615 10.          0.71284072  9.          0.88546543]\t 0.8147284111173498\t 0.79346025102973\t 0.9030231458307204\t 0.9030231458307204\n",
            "9  \t [ 2.19431997  0.03640407  7.          0.62674231 12.          0.80025129]\t 0.8323976121313962\t 0.79346025102973\t 0.9001295984039267\t 0.9001295984039267\n",
            "10 \t [0.  0.  5.  0.5 1.  0.1]\t 1.1259237710065677\t 0.79346025102973\t 0.8979508028964784\t 0.897950800168532\n",
            "11 \t [ 8.347612    9.05501181  5.          0.50033019 10.          0.41046448]\t 0.9414375778326486\t 0.79346025102973\t 0.9017468402684171\t 0.9017468402684171\n",
            "12 \t [ 6.11039048  8.9398787   9.          0.84431675 14.          0.73928782]\t 0.8643545186031654\t 0.79346025102973\t 0.90153397926608\t 0.90153397926608\n",
            "13 \t [0.04130113 6.56643894 8.         0.8316257  6.         0.23623124]\t 1.1276065677179288\t 0.79346025102973\t 0.9001331620277864\t 0.9001331620277864\n",
            "14 \t [ 9.18890824  5.50760906  5.          0.92553651 18.          0.76040056]\t 0.8195075556875523\t 0.79346025102973\t 0.9032003338862524\t 0.9032003338862524\n",
            "15 \t [ 8.99876272  0.14180428 14.          0.5207566  10.          0.28841204]\t 0.9622998965203461\t 0.79346025102973\t 0.901273463024089\t 0.901273463024089\n",
            "16 \t [ 0.9019348   8.21531788 14.          0.85098746 17.          0.41254672]\t 0.9192069504605914\t 0.79346025102973\t 0.9014207680653996\t 0.9014207680653996\n",
            "17 \t [9.42305669 0.3423134  7.         0.77066127 8.         0.63693457]\t 0.8744339215870263\t 0.79346025102973\t 0.9009823812178316\t 0.9009823812178316\n",
            "\u001b[1m\u001b[92m18\u001b[0m\t \u001b[1m\u001b[92m[10.         10.         13.24901713  1.         11.24901713  1.        ]\u001b[0m\t \u001b[1m\u001b[92m0.7632311791725843\u001b[0m\t \u001b[1m\u001b[92m0.7632311791725843\u001b[0m\t \u001b[1m\u001b[92m0.9000427030757225\u001b[0m\t \u001b[1m\u001b[92m0.9000426534951956\u001b[0m\n",
            "19 \t [ 9.97958622  9.03409533 12.          0.51772082  4.          0.45869101]\t 0.9473572626155049\t 0.7632311791725843\t 0.8739428253498338\t 0.8739428253498338\n",
            "20 \t [10.         10.          9.84691454  1.         20.          1.        ]\t 0.7692338334684508\t 0.7632311791725843\t 0.8740278811545031\t 0.8740277878294367\n",
            "21 \t [ 3.16526468  9.88957695 14.          0.66718624  2.          0.49421519]\t 0.9656052699480953\t 0.7632311791725843\t 0.8722379737610847\t 0.8722379737610847\n",
            "22 \t [0.        0.        5.        0.5       6.5532631 0.1      ]\t 1.1258153039898606\t 0.7632311791725843\t 0.8725873755254013\t 0.8725873321869161\n",
            "23 \t [1.60895472e-01 8.27074864e-03 1.30000000e+01 6.91893018e-01\n",
            " 5.00000000e+00 4.60327119e-01]\t 0.94182282306325\t 0.7632311791725843\t 0.874804927078528\t 0.874804927078528\n",
            "24 \t [9.2527463  5.48357582 5.         0.70904629 2.         0.53145819]\t 0.9391092387617791\t 0.7632311791725843\t 0.8747902301202768\t 0.8747902301202768\n",
            "25 \t [10.          1.97660747  8.82713467  1.         19.82713467  1.        ]\t 0.7747999998189775\t 0.7632311791725843\t 0.8747494739316299\t 0.8747493888991432\n",
            "26 \t [ 3.59617479  0.         10.5645361   0.5         1.          0.1       ]\t 1.127624988278051\t 0.7632311791725843\t 0.873279189972744\t 0.8732789346751328\n",
            "27 \t [ 0.          0.50879164 11.61919167  0.5        15.61919167  0.1       ]\t 1.1221593094524043\t 0.7632311791725843\t 0.8752066177014862\t 0.8752060615440289\n",
            "28 \t [ 4.53470807  2.6500816   5.          0.70480421 17.          0.65004423]\t 0.9072821036838956\t 0.7632311791725843\t 0.8769515623413363\t 0.8769515623413363\n",
            "29 \t [ 3.86117046  9.94896891  9.81184385  1.         20.          1.        ]\t 0.7692325151955384\t 0.7632311791725843\t 0.8765792492525438\t 0.8765798584275373\n",
            "30 \t [ 9.80949062  0.42526047 11.          0.61085682  4.          0.94165398]\t 0.8388568686556214\t 0.7632311791725843\t 0.8751929217253118\t 0.8751929217253118\n"
          ]
        },
        {
          "output_type": "execute_result",
          "data": {
            "text/plain": [
              "62113.195048643254"
            ]
          },
          "metadata": {},
          "execution_count": 60
        }
      ]
    },
    {
      "cell_type": "code",
      "metadata": {
        "id": "NvkuHKlQuxRy",
        "colab": {
          "base_uri": "https://localhost:8080/"
        },
        "outputId": "adf60a5e-031d-4ba4-df7b-00d1bd2ac951"
      },
      "source": [
        "### Bayesian optimization runs (x20): 'exact' Acquisition Function run number = 20 \n",
        "\n",
        "np.random.seed(run_num_20)\n",
        "surrogate_exact_20 = dGaussianProcess(cov_func, optimize=opt)\n",
        "\n",
        "X_train20, X_test20, y_train20, y_test20 = train_test_split(X, y, test_size=test_perc, random_state=run_num_20)\n",
        "\n",
        "def f_syn_polarity20(alpha, gamma, max_depth, subsample, min_child_weight, colsample):\n",
        "    reg = XGBRegressor(reg_alpha=alpha, gamma=gamma, max_depth=int(max_depth), subsample=subsample, min_child_weight=min_child_weight,\n",
        "          colsample_bytree=colsample, n_estimators = n_est, random_state=run_num_20, objective = 'reg:squarederror')\n",
        "    score = np.array(cross_val_score(reg, X=X_train20, y=y_train20).mean())\n",
        "    return operator * score\n",
        "\n",
        "exact_20 = dGPGO(surrogate_exact_20, Acquisition_grad(util), f_syn_polarity20, param, n_jobs = -1) # Define BayesOpt\n",
        "exact_20.run(max_iter = max_iter, init_evals = n_init) # run\n",
        "\n",
        "### Return optimal parameters' set:\n",
        "params_exact_20 = exact_20.getResult()[0]\n",
        "params_exact_20['max_depth'] = int(params_exact_20['max_depth'])\n",
        "params_exact_20['min_child_weight'] = int(params_exact_20['min_child_weight'])\n",
        "\n",
        "### Re-train with optimal parameters, run predictons:\n",
        "dX_exact_train20 = xgb.DMatrix(X_train20, y_train20)\n",
        "dX_exact_test20 = xgb.DMatrix(X_test20, y_test20)\n",
        "model_exact_20 = xgb.train(params_exact_20, dX_exact_train20)\n",
        "pred_exact_20 = model_exact_20.predict(dX_exact_test20)\n",
        "\n",
        "rmse_exact_20 = np.sqrt(mean_squared_error(pred_exact_20, y_test20))\n",
        "rmse_exact_20"
      ],
      "execution_count": null,
      "outputs": [
        {
          "output_type": "stream",
          "name": "stdout",
          "text": [
            "Evaluation \t Proposed point \t  Current eval. \t  Best eval. \t         Max. ExactAcqFunc \t Max. ApproxAcqFunc \n",
            "init\t [ 5.88130801  8.97713728 14.          0.81074445  8.          0.95540649]\t 0.7520109919120059\t 0.7520109919120059\t    \t    \n",
            "init\t [6.72865655 0.41173329 8.         0.6361582  7.         0.76174061]\t 0.7843437690505969\t 0.7520109919120059\t    \t    \n",
            "init\t [ 4.77387703  8.66202323 10.          0.51833215  7.          0.10123387]\t 1.0380897569172567\t 0.7520109919120059\t    \t    \n",
            "init\t [ 5.75489985  4.74524381  8.          0.78084343 15.          0.26643049]\t 0.9185289289653313\t 0.7520109919120059\t    \t    \n",
            "init\t [ 4.53444     4.47342833  8.          0.91974896 18.          0.35997552]\t 0.9180724641961298\t 0.7520109919120059\t    \t    \n",
            "1  \t [ 7.96566073  7.15509535  7.          0.79906691 11.          0.34132075]\t 0.9254670555638643\t 0.7520109919120059\t 0.8502867487557683\t 0.8502867487557683\n",
            "2  \t [ 1.72798052  9.03285612 13.          0.50351094 19.          0.11416888]\t 1.0314631424665905\t 0.7520109919120059\t 0.8518280952642554\t 0.8518280952642554\n",
            "\u001b[1m\u001b[92m3\u001b[0m\t \u001b[1m\u001b[92m[10. 10. 15.  1. 20.  1.]\u001b[0m\t \u001b[1m\u001b[92m0.7385083163165579\u001b[0m\t \u001b[1m\u001b[92m0.7385083163165579\u001b[0m\t \u001b[1m\u001b[92m0.8577398915493104\u001b[0m\t \u001b[1m\u001b[92m0.8577398915493099\u001b[0m\n",
            "4  \t [0.  0.  5.  0.5 1.  0.1]\t 1.036464786400082\t 0.7385083163165579\t 0.8412873022127593\t 0.8412873022106503\n",
            "5  \t [ 7.50758902  2.31989813 13.          0.92794435  1.          0.52943075]\t 0.8956526888001509\t 0.7385083163165579\t 0.8461005060483863\t 0.8461005060483863\n",
            "6  \t [ 0.55198982  4.75264073 14.          0.93528567 13.          0.58376745]\t 0.8626734154904613\t 0.7385083163165579\t 0.8456507736089682\t 0.8456507736089682\n",
            "7  \t [ 1.01837104  4.41995744  6.          0.52021829 12.          0.99601116]\t 0.7870781259906151\t 0.7385083163165579\t 0.8445728365800249\t 0.8445728365800249\n",
            "8  \t [5.51611775 6.16486318 5.01224107 0.5        3.01224107 0.1       ]\t 1.0334606742646741\t 0.7385083163165579\t 0.8418033779168939\t 0.8418033653866547\n",
            "9  \t [ 0.73506094  2.20281679 12.          0.6951009   5.          0.56509734]\t 0.8699006583975262\t 0.7385083163165579\t 0.8450215029911763\t 0.8450215029911763\n",
            "10 \t [ 4.88420242  0.19684899 11.          0.83078173 14.          0.85662418]\t 0.7635428894588818\t 0.7385083163165579\t 0.8443602933227077\t 0.8443602933227077\n",
            "11 \t [ 9.3606342   3.21248061 14.          0.65614013 17.          0.10926152]\t 1.0228429225587468\t 0.7385083163165579\t 0.8417775450791619\t 0.8417775450791619\n",
            "12 \t [10.         10.         15.          1.         11.95253141  1.        ]\t 0.7399112109301184\t 0.7385083163165579\t 0.8441757302287811\t 0.8441757117601536\n",
            "13 \t [ 1.46881583  6.61246041 10.          0.72755239  2.          0.12126382]\t 1.0302129815923844\t 0.7385083163165579\t 0.8417318700242575\t 0.8417318700242575\n",
            "14 \t [ 9.23004102  7.42355186 10.          0.69362726  2.          0.96169196]\t 0.7697936702332696\t 0.7385083163165579\t 0.8439280087724784\t 0.8439280087724784\n",
            "15 \t [ 9.90619221  7.05528672  5.          0.91932487 18.          0.63366006]\t 0.8278793279285719\t 0.7385083163165579\t 0.8421302709689121\t 0.8421302709689121\n",
            "16 \t [ 7.65146653  2.36586786 13.          0.71989624  7.          0.80860445]\t 0.7727726674311082\t 0.7385083163165579\t 0.8411096975869383\t 0.8411096975869383\n",
            "17 \t [ 9.77954531  0.27903711 10.          0.5734789  11.          0.75632153]\t 0.7899328069799831\t 0.7385083163165579\t 0.8395825248944914\t 0.8395825248944914\n",
            "18 \t [ 9.6068935   0.80663714  8.          0.73945426 19.          0.81169876]\t 0.7733858247841244\t 0.7385083163165579\t 0.8383861046020905\t 0.8383861046020905\n",
            "19 \t [8.67223652 9.66010575 6.         0.63457768 6.         0.86415257]\t 0.7741884139172871\t 0.7385083163165579\t 0.8371124930563836\t 0.8371124930563836\n",
            "20 \t [1.89638191 4.41529273 7.         0.85109896 7.         0.10286176]\t 1.0212297581648009\t 0.7385083163165579\t 0.8359512288453678\t 0.8359512288453678\n",
            "21 \t [ 2.16891361  0.40236972  6.          0.57865056 19.          0.33900997]\t 0.9313584120065366\t 0.7385083163165579\t 0.8377676932608693\t 0.8377676932608693\n",
            "22 \t [ 2.39999736  8.25935251 10.          0.76621897 14.          0.97994917]\t 0.7522537228179459\t 0.7385083163165579\t 0.8382619259489107\t 0.8382623031730502\n",
            "23 \t [ 2.38118504  9.71107624 14.03688522  1.          3.03688522  1.        ]\t 0.7461903920548448\t 0.7385083163165579\t 0.8369912535517718\t 0.8369912464181477\n",
            "24 \t [ 2.79786899  0.79670157 14.          0.51865068 18.          0.73783169]\t 0.8328363916084844\t 0.7385083163165579\t 0.8358070231206416\t 0.8358070231206416\n",
            "25 \t [10.          4.18578249 15.          1.         10.78687909  1.        ]\t 0.7424398430732178\t 0.7385083163165579\t 0.835361626341819\t 0.8353611468049369\n",
            "26 \t [ 0.96616103  8.61825128  6.          0.54652057 18.          0.73561745]\t 0.8298004602077009\t 0.7385083163165579\t 0.8342337011274686\t 0.8342337011274686\n",
            "27 \t [ 0.          0.41154348  9.32049452  0.5        11.32049452  0.1       ]\t 1.0353637013051338\t 0.7385083163165579\t 0.8338855618556725\t 0.8338846846336019\n",
            "28 \t [ 7.82518523  9.53880919 11.          0.64592338 17.          0.70139297]\t 0.8265569067531441\t 0.7385083163165579\t 0.8354751116182862\t 0.8354751116182862\n",
            "29 \t [10.          9.29448221 14.77890042  1.          1.77890042  1.        ]\t 0.7563159022528936\t 0.7385083163165579\t 0.8350845937035275\t 0.835084365677878\n",
            "30 \t [ 1.20215594  6.32624807 14.31020592  1.          7.31020592  0.75819275]\t 0.7449428588873672\t 0.7385083163165579\t 0.8341943836446468\t 0.8341949816867097\n"
          ]
        },
        {
          "output_type": "execute_result",
          "data": {
            "text/plain": [
              "59255.14282404126"
            ]
          },
          "metadata": {},
          "execution_count": 61
        }
      ]
    },
    {
      "cell_type": "code",
      "metadata": {
        "id": "KFKuwvS3uzrs",
        "colab": {
          "base_uri": "https://localhost:8080/"
        },
        "outputId": "d6c5b7db-e93f-4e0f-f279-b2032133776e"
      },
      "source": [
        "end_exact = time.time()\n",
        "end_exact\n",
        "\n",
        "time_exact = end_exact - start_exact\n",
        "time_exact"
      ],
      "execution_count": null,
      "outputs": [
        {
          "output_type": "execute_result",
          "data": {
            "text/plain": [
              "2230.539655685425"
            ]
          },
          "metadata": {},
          "execution_count": 62
        }
      ]
    },
    {
      "cell_type": "code",
      "metadata": {
        "id": "CU2FlhY4vHUk",
        "colab": {
          "base_uri": "https://localhost:8080/"
        },
        "outputId": "3bbfc9d2-849e-497e-8b90-c3e2b9a34c58"
      },
      "source": [
        "rmse_approx = [rmse_approx_1,\n",
        "rmse_approx_2,\n",
        "rmse_approx_3,\n",
        "rmse_approx_4,\n",
        "rmse_approx_5,\n",
        "rmse_approx_6,\n",
        "rmse_approx_7,\n",
        "rmse_approx_8,\n",
        "rmse_approx_9,\n",
        "rmse_approx_10,\n",
        "rmse_approx_11,\n",
        "rmse_approx_12,\n",
        "rmse_approx_13,\n",
        "rmse_approx_14,\n",
        "rmse_approx_15,\n",
        "rmse_approx_16,\n",
        "rmse_approx_17,\n",
        "rmse_approx_18,\n",
        "rmse_approx_19,\n",
        "rmse_approx_20]\n",
        "\n",
        "np.mean(rmse_approx)"
      ],
      "execution_count": null,
      "outputs": [
        {
          "output_type": "execute_result",
          "data": {
            "text/plain": [
              "60882.30130096214"
            ]
          },
          "metadata": {},
          "execution_count": 63
        }
      ]
    },
    {
      "cell_type": "code",
      "metadata": {
        "id": "iZ53FsWXu3J1",
        "colab": {
          "base_uri": "https://localhost:8080/"
        },
        "outputId": "c4035cda-60a4-44e3-8e39-53ca3dbe44a4"
      },
      "source": [
        "rmse_exact = [rmse_exact_1,\n",
        "rmse_exact_2,\n",
        "rmse_exact_3,\n",
        "rmse_exact_4,\n",
        "rmse_exact_5,\n",
        "rmse_exact_6,\n",
        "rmse_exact_7,\n",
        "rmse_exact_8,\n",
        "rmse_exact_9,\n",
        "rmse_exact_10,\n",
        "rmse_exact_11,\n",
        "rmse_exact_12,\n",
        "rmse_exact_13,\n",
        "rmse_exact_14,\n",
        "rmse_exact_15,\n",
        "rmse_exact_16,\n",
        "rmse_exact_17,\n",
        "rmse_exact_18,\n",
        "rmse_exact_19,\n",
        "rmse_exact_20]\n",
        "\n",
        "np.mean(rmse_exact)"
      ],
      "execution_count": null,
      "outputs": [
        {
          "output_type": "execute_result",
          "data": {
            "text/plain": [
              "60242.67465313464"
            ]
          },
          "metadata": {},
          "execution_count": 64
        }
      ]
    },
    {
      "cell_type": "code",
      "metadata": {
        "id": "a9FOyoH8u5Wx",
        "colab": {
          "base_uri": "https://localhost:8080/"
        },
        "outputId": "ca22fc29-5551-438d-81a4-4bbfe7c52a00"
      },
      "source": [
        "min_rmse_approx = min_max_array(rmse_approx)\n",
        "min_rmse_approx, len(min_rmse_approx)"
      ],
      "execution_count": null,
      "outputs": [
        {
          "output_type": "execute_result",
          "data": {
            "text/plain": [
              "([61032.2252967339,\n",
              "  61032.2252967339,\n",
              "  59450.60042376621,\n",
              "  59450.60042376621,\n",
              "  59450.60042376621,\n",
              "  59450.60042376621,\n",
              "  59450.60042376621,\n",
              "  59450.60042376621,\n",
              "  59450.60042376621,\n",
              "  59450.60042376621,\n",
              "  59450.60042376621,\n",
              "  59450.60042376621,\n",
              "  59450.60042376621,\n",
              "  59450.60042376621,\n",
              "  59450.60042376621,\n",
              "  59450.60042376621,\n",
              "  59450.60042376621,\n",
              "  59450.60042376621,\n",
              "  59450.60042376621,\n",
              "  59450.60042376621],\n",
              " 20)"
            ]
          },
          "metadata": {},
          "execution_count": 65
        }
      ]
    },
    {
      "cell_type": "code",
      "metadata": {
        "id": "unXOpKHcvO15",
        "colab": {
          "base_uri": "https://localhost:8080/"
        },
        "outputId": "8b3b4549-5646-489b-ad06-80a314702263"
      },
      "source": [
        "min_rmse_exact = min_max_array(rmse_exact)\n",
        "min_rmse_exact, len(min_rmse_exact)"
      ],
      "execution_count": null,
      "outputs": [
        {
          "output_type": "execute_result",
          "data": {
            "text/plain": [
              "([59912.05597064799,\n",
              "  59912.05597064799,\n",
              "  59509.134777929154,\n",
              "  59509.134777929154,\n",
              "  59509.134777929154,\n",
              "  59357.988650322826,\n",
              "  59357.988650322826,\n",
              "  59357.988650322826,\n",
              "  58909.59940760899,\n",
              "  58909.59940760899,\n",
              "  58909.59940760899,\n",
              "  58909.59940760899,\n",
              "  58909.59940760899,\n",
              "  58909.59940760899,\n",
              "  58909.59940760899,\n",
              "  58909.59940760899,\n",
              "  58909.59940760899,\n",
              "  58909.59940760899,\n",
              "  58909.59940760899,\n",
              "  58909.59940760899],\n",
              " 20)"
            ]
          },
          "metadata": {},
          "execution_count": 66
        }
      ]
    },
    {
      "cell_type": "code",
      "metadata": {
        "id": "Yxo85-HEvRPi",
        "colab": {
          "base_uri": "https://localhost:8080/",
          "height": 292
        },
        "outputId": "6145d67a-52da-4593-c0f8-414f5b76819f"
      },
      "source": [
        "### Visualise!\n",
        "\n",
        "title = obj_func\n",
        "plt.figure()\n",
        "\n",
        "plt.plot(min_rmse_approx, color = 'Yellow', label='RMSE: GP EI optimized with Approx GP EI gradients')\n",
        "plt.plot(min_rmse_exact, color = 'Red', label='RMSE:  GP EI optimized with Exact GP dEI gradients', ls='--')# r'($\\nu$' ' = {})'.format(df))\n",
        "\n",
        "plt.title(title, weight = 'bold', family = 'Arial')\n",
        "plt.xlabel('Experiment(s)', weight = 'bold', family = 'Arial') # x-axis label\n",
        "plt.ylabel('RMSE (US Dollars $)', weight = 'bold', family = 'Arial') # y-axis label\n",
        "plt.legend(loc=0) # add plot legend\n",
        "\n",
        "### Make the x-ticks integers, not floats:\n",
        "count = len(min_rmse_approx)\n",
        "plt.xticks(np.arange(count), np.arange(1, count + 1))\n",
        "plt.grid(b=None)\n",
        "plt.show() #visualize!\n"
      ],
      "execution_count": null,
      "outputs": [
        {
          "output_type": "display_data",
          "data": {
            "text/plain": [
              "<Figure size 432x288 with 1 Axes>"
            ],
            "image/png": "[encoded data removed]"
          },
          "metadata": {}
        }
      ]
    },
    {
      "cell_type": "code",
      "metadata": {
        "id": "AwyO7_iZvT7a",
        "colab": {
          "base_uri": "https://localhost:8080/"
        },
        "outputId": "8dc4890d-336e-4d24-bd1a-cdf15778ba37"
      },
      "source": [
        "time_approx, time_exact\n"
      ],
      "execution_count": null,
      "outputs": [
        {
          "output_type": "execute_result",
          "data": {
            "text/plain": [
              "(2368.140521287918, 2230.539655685425)"
            ]
          },
          "metadata": {},
          "execution_count": 68
        }
      ]
    },
    {
      "cell_type": "code",
      "metadata": {
        "id": "aHLA-0DnVXxD",
        "colab": {
          "base_uri": "https://localhost:8080/"
        },
        "outputId": "ae7db983-c002-4761-8990-b3bb3e95c21f"
      },
      "source": [
        "min(min_rmse_exact), min(min_rmse_approx)\n"
      ],
      "execution_count": null,
      "outputs": [
        {
          "output_type": "execute_result",
          "data": {
            "text/plain": [
              "(58909.59940760899, 59450.60042376621)"
            ]
          },
          "metadata": {},
          "execution_count": 69
        }
      ]
    },
    {
      "cell_type": "code",
      "metadata": {
        "id": "-iUNBRy3W0GY"
      },
      "source": [
        ""
      ],
      "execution_count": null,
      "outputs": []
    }
  ]
}