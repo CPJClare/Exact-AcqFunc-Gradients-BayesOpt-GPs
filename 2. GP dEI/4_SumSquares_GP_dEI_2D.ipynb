{
  "nbformat": 4,
  "nbformat_minor": 0,
  "metadata": {
    "colab": {
      "name": "4. SumSquares_GP_dEI_2D.ipynb",
      "provenance": [],
      "collapsed_sections": []
    },
    "kernelspec": {
      "name": "python3",
      "display_name": "Python 3"
    },
    "language_info": {
      "name": "python"
    }
  },
  "cells": [
    {
      "cell_type": "markdown",
      "metadata": {
        "id": "Dqn4dFx7Z2Ir"
      },
      "source": [
        "\n",
        "SumSquares: 2D\n"
      ]
    },
    {
      "cell_type": "code",
      "metadata": {
        "id": "MJTM_GZZZb5x",
        "colab": {
          "base_uri": "https://localhost:8080/"
        },
        "outputId": "10210209-f5f4-495d-a268-59dcdd66241f"
      },
      "source": [
        "pip install pyGPGO\n"
      ],
      "execution_count": null,
      "outputs": [
        {
          "output_type": "stream",
          "name": "stdout",
          "text": [
            "Collecting pyGPGO\n",
            "  Downloading pyGPGO-0.5.1.tar.gz (14 kB)\n",
            "Requirement already satisfied: numpy in /usr/local/lib/python3.7/dist-packages (from pyGPGO) (1.21.5)\n",
            "Requirement already satisfied: mkl in /usr/local/lib/python3.7/dist-packages (from pyGPGO) (2019.0)\n",
            "Requirement already satisfied: scipy in /usr/local/lib/python3.7/dist-packages (from pyGPGO) (1.4.1)\n",
            "Requirement already satisfied: joblib in /usr/local/lib/python3.7/dist-packages (from pyGPGO) (1.1.0)\n",
            "Requirement already satisfied: scikit-learn in /usr/local/lib/python3.7/dist-packages (from pyGPGO) (1.0.2)\n",
            "Requirement already satisfied: Theano-PyMC in /usr/local/lib/python3.7/dist-packages (from pyGPGO) (1.1.2)\n",
            "Requirement already satisfied: pyMC3 in /usr/local/lib/python3.7/dist-packages (from pyGPGO) (3.11.4)\n",
            "Requirement already satisfied: intel-openmp in /usr/local/lib/python3.7/dist-packages (from mkl->pyGPGO) (2022.0.2)\n",
            "Requirement already satisfied: fastprogress>=0.2.0 in /usr/local/lib/python3.7/dist-packages (from pyMC3->pyGPGO) (1.0.2)\n",
            "Requirement already satisfied: patsy>=0.5.1 in /usr/local/lib/python3.7/dist-packages (from pyMC3->pyGPGO) (0.5.2)\n",
            "Requirement already satisfied: pandas>=0.24.0 in /usr/local/lib/python3.7/dist-packages (from pyMC3->pyGPGO) (1.3.5)\n",
            "Requirement already satisfied: semver>=2.13.0 in /usr/local/lib/python3.7/dist-packages (from pyMC3->pyGPGO) (2.13.0)\n",
            "Requirement already satisfied: typing-extensions>=3.7.4 in /usr/local/lib/python3.7/dist-packages (from pyMC3->pyGPGO) (3.10.0.2)\n",
            "Requirement already satisfied: arviz>=0.11.0 in /usr/local/lib/python3.7/dist-packages (from pyMC3->pyGPGO) (0.11.4)\n",
            "Requirement already satisfied: cachetools>=4.2.1 in /usr/local/lib/python3.7/dist-packages (from pyMC3->pyGPGO) (4.2.4)\n",
            "Requirement already satisfied: dill in /usr/local/lib/python3.7/dist-packages (from pyMC3->pyGPGO) (0.3.4)\n",
            "Requirement already satisfied: filelock in /usr/local/lib/python3.7/dist-packages (from Theano-PyMC->pyGPGO) (3.6.0)\n",
            "Requirement already satisfied: matplotlib>=3.0 in /usr/local/lib/python3.7/dist-packages (from arviz>=0.11.0->pyMC3->pyGPGO) (3.2.2)\n",
            "Requirement already satisfied: netcdf4 in /usr/local/lib/python3.7/dist-packages (from arviz>=0.11.0->pyMC3->pyGPGO) (1.5.8)\n",
            "Requirement already satisfied: setuptools>=38.4 in /usr/local/lib/python3.7/dist-packages (from arviz>=0.11.0->pyMC3->pyGPGO) (57.4.0)\n",
            "Requirement already satisfied: packaging in /usr/local/lib/python3.7/dist-packages (from arviz>=0.11.0->pyMC3->pyGPGO) (21.3)\n",
            "Requirement already satisfied: xarray>=0.16.1 in /usr/local/lib/python3.7/dist-packages (from arviz>=0.11.0->pyMC3->pyGPGO) (0.18.2)\n",
            "Requirement already satisfied: python-dateutil>=2.1 in /usr/local/lib/python3.7/dist-packages (from matplotlib>=3.0->arviz>=0.11.0->pyMC3->pyGPGO) (2.8.2)\n",
            "Requirement already satisfied: kiwisolver>=1.0.1 in /usr/local/lib/python3.7/dist-packages (from matplotlib>=3.0->arviz>=0.11.0->pyMC3->pyGPGO) (1.4.0)\n",
            "Requirement already satisfied: cycler>=0.10 in /usr/local/lib/python3.7/dist-packages (from matplotlib>=3.0->arviz>=0.11.0->pyMC3->pyGPGO) (0.11.0)\n",
            "Requirement already satisfied: pyparsing!=2.0.4,!=2.1.2,!=2.1.6,>=2.0.1 in /usr/local/lib/python3.7/dist-packages (from matplotlib>=3.0->arviz>=0.11.0->pyMC3->pyGPGO) (3.0.7)\n",
            "Requirement already satisfied: pytz>=2017.3 in /usr/local/lib/python3.7/dist-packages (from pandas>=0.24.0->pyMC3->pyGPGO) (2018.9)\n",
            "Requirement already satisfied: six in /usr/local/lib/python3.7/dist-packages (from patsy>=0.5.1->pyMC3->pyGPGO) (1.15.0)\n",
            "Requirement already satisfied: cftime in /usr/local/lib/python3.7/dist-packages (from netcdf4->arviz>=0.11.0->pyMC3->pyGPGO) (1.6.0)\n",
            "Requirement already satisfied: threadpoolctl>=2.0.0 in /usr/local/lib/python3.7/dist-packages (from scikit-learn->pyGPGO) (3.1.0)\n",
            "Building wheels for collected packages: pyGPGO\n",
            "  Building wheel for pyGPGO (setup.py) ... \u001b[?25l\u001b[?25hdone\n",
            "  Created wheel for pyGPGO: filename=pyGPGO-0.5.1-py3-none-any.whl size=19879 sha256=713c6b79236ce4fdfd1e063f16bddb9d0f3dc6b68b785d23269dd19fb24aaedd\n",
            "  Stored in directory: /root/.cache/pip/wheels/c8/5d/0b/2160114e2f1b87791c51b66cf07f89831dbb6f49167950316f\n",
            "Successfully built pyGPGO\n",
            "Installing collected packages: pyGPGO\n",
            "Successfully installed pyGPGO-0.5.1\n"
          ]
        }
      ]
    },
    {
      "cell_type": "code",
      "metadata": {
        "id": "ZJSSPbwPaEUB"
      },
      "source": [
        "### Import:\n",
        "\n",
        "import numpy as np\n",
        "import scipy as sp\n",
        "import pandas as pd\n",
        "import matplotlib.pyplot as plt\n",
        "import warnings\n",
        "import itertools\n",
        "\n",
        "from pyGPGO.GPGO import GPGO\n",
        "from pyGPGO.surrogates.GaussianProcess import GaussianProcess\n",
        "from pyGPGO.acquisition import Acquisition\n",
        "from pyGPGO.covfunc import squaredExponential\n",
        "\n",
        "from joblib import Parallel, delayed\n",
        "from numpy.linalg import solve, cholesky\n",
        "from scipy.spatial.distance import cdist\n",
        "from scipy.optimize import minimize\n",
        "from scipy.stats import norm\n",
        "import time\n",
        "\n",
        "warnings.filterwarnings(\"ignore\", category=RuntimeWarning)\n"
      ],
      "execution_count": null,
      "outputs": []
    },
    {
      "cell_type": "code",
      "metadata": {
        "id": "OeYcTUNoaJWa"
      },
      "source": [
        "### Inputs:\n",
        "\n",
        "func = 'SumSquares'\n",
        "n_test = 500\n",
        "eps = 1e-08\n",
        "\n",
        "util_grad_exact = 'dEI_GP'\n",
        "util_grad_approx = 'ExpectedImprovement'\n",
        "\n",
        "n_init = 5 # random initialisations\n",
        "iters = 20\n",
        "opt = True"
      ],
      "execution_count": null,
      "outputs": []
    },
    {
      "cell_type": "code",
      "metadata": {
        "id": "xpaEOjdzaPMS"
      },
      "source": [
        "### Objective Function - Sum Squares(x) 2-D:\n",
        "\n",
        "def objfunc(x1_training, x2_training):\n",
        "            return  operator * (  1 * x1_training ** 2\n",
        "                            + 2 * x2_training ** 2\n",
        "                            )\n",
        "        \n",
        "# Constraints:\n",
        "lb = -10\n",
        "ub = +10\n",
        "    \n",
        "# Input array dimension(s):\n",
        "dim = 2\n",
        "\n",
        "# 2-D inputs' parameter bounds:\n",
        "param = {'x1_training': ('cont', [lb, ub]),\n",
        "                 'x2_training': ('cont', [lb, ub])\n",
        "                 }\n",
        "    \n",
        "# True y bounds:\n",
        "y_lb = 0\n",
        "operator = -1 # targets global minimum \n",
        "y_global_orig = y_lb * operator # targets global minimum\n",
        "    \n",
        "# Test data:\n",
        "x1_test = np.linspace(lb, ub, n_test)\n",
        "x2_test = np.linspace(lb, ub, n_test)\n",
        "x_test = np.column_stack((x1_test, x2_test))\n"
      ],
      "execution_count": null,
      "outputs": []
    },
    {
      "cell_type": "code",
      "metadata": {
        "id": "eYpI3Zm4aGxi"
      },
      "source": [
        "n_start_AcqFunc = iters #multi-start iterations to avoid local optima in AcqFunc optimization\n"
      ],
      "execution_count": null,
      "outputs": []
    },
    {
      "cell_type": "code",
      "metadata": {
        "id": "oO_GUmOoaV0T"
      },
      "source": [
        "### Cumulative Regret Calculator:\n",
        "\n",
        "def min_max_array(x):\n",
        "    new_list = []\n",
        "    for i, num in enumerate(x):\n",
        "            new_list.append(np.min(x[0:i+1]))\n",
        "    return new_list\n",
        "  "
      ],
      "execution_count": null,
      "outputs": []
    },
    {
      "cell_type": "code",
      "metadata": {
        "id": "kuuJx0IMam9S"
      },
      "source": [
        "### Surrogate derivatives: \n",
        "\n",
        "cov_func = squaredExponential()\n",
        "\n",
        "def kronDelta(X, Xstar):                     # Kronecker's Delta method\n",
        "    return cdist(X, Xstar) < np.finfo(np.float32).eps\n",
        "\n",
        "def se(X, Xstar, sigmaf, l, sigman):         # S.E. kernel method\n",
        "    return sigmaf * np.exp(-0.5 * cdist(X, Xstar) ** 2 / l ** 2) + sigman * kronDelta(X, Xstar)\n",
        "\n",
        "def delta(X, Xstar):                         # Distance between training X and test Xstar vectors\n",
        "    return (X - Xstar)\n",
        "   \n",
        "def der_covmat(X, Xstar, sigmaf, l, sigman): # Covariance matrix derivative terms (i.e. exact, first-order)\n",
        "    nx = len(X)\n",
        "    ny = len(Xstar)\n",
        "    return np.round(np.array([(delta(np.atleast_2d(i), np.atleast_2d(j))[0] * se(np.atleast_2d(i), np.atleast_2d(j), sigmaf, l, sigman)[0]).sum() for (i, j) in itertools.product(X, Xstar)]).reshape(nx, ny), 8)\n",
        "\n",
        "class dGaussianProcess(GaussianProcess):    # Via inheritance, also optimises hyperparameters when opt = TRUE\n",
        "    \n",
        "    def AcqGrad(self, Xstar):               # Method returning exact, first-order derivatives of the GP's posterior mean and standard deviation\n",
        "        Xstar = np.atleast_2d(Xstar)\n",
        "        Kstar = self.covfunc.K(self.X, Xstar).T\n",
        "        \n",
        "        dKstar = der_covmat(self.X, Xstar, self.covfunc.sigmaf, self.covfunc.l, self.covfunc.sigman).T\n",
        "        alpha_Kstar = np.dot(np.linalg.inv(self.K + (self.covfunc.sigman**2) * np.eye(len(self.X))), Kstar.T)\n",
        "        \n",
        "        dm = np.dot(dKstar, self.alpha)\n",
        "        ds = -2 * np.dot(dKstar, alpha_Kstar)\n",
        "        \n",
        "        return dm, ds           \n",
        "        "
      ],
      "execution_count": null,
      "outputs": []
    },
    {
      "cell_type": "code",
      "metadata": {
        "id": "_Dc3YVHVaXz7"
      },
      "source": [
        "class Acquisition_new(Acquisition):    \n",
        "    def __init__(self, mode, eps=eps, **params):\n",
        "        \n",
        "        self.params = params\n",
        "        self.eps = eps\n",
        "\n",
        "        mode_dict = {\n",
        "            'dEI_GP': self.dEI_GP\n",
        "        }\n",
        "\n",
        "        self.f = mode_dict[mode]\n",
        "    \n",
        "    def dEI_GP(self, tau, mean, std, ds, dm):\n",
        "        gamma = (mean - tau - self.eps) / (std + self.eps)\n",
        "        gamma_h = (mean - tau) / (std + self.eps)\n",
        "        dsdx = ds / (2 * (std + self.eps))\n",
        "        dmdx = (dm - gamma * dsdx) / (std + self.eps)\n",
        "        \n",
        "        f = (std + self.eps) * (gamma * norm.cdf(gamma) + norm.pdf(gamma))\n",
        "        df1 = f / (std + self.eps) * dsdx \n",
        "        df2 = (std + self.eps) * norm.cdf(gamma) * dmdx\n",
        "        df = (df1 + df2)[0]\n",
        "        df_arr = []\n",
        "\n",
        "        for j in range(0, dim):\n",
        "          df_arr.append(df)\n",
        "        return f, np.asarray(df_arr).transpose()\n",
        "        \n",
        "    def d_eval(self, tau, mean, std, ds, dm):\n",
        "    \n",
        "        return self.f(tau, mean, std, ds, dm, **self.params)\n",
        "        "
      ],
      "execution_count": null,
      "outputs": []
    },
    {
      "cell_type": "code",
      "metadata": {
        "id": "PITEQC8YSl7i"
      },
      "source": [
        "## GPGO_multi: \n",
        "\n",
        "class GPGO_multi(GPGO):\n",
        "    n_start = n_start_AcqFunc\n",
        "\n",
        "    def __init__(self, surrogate, acquisition, f, parameter_dict, n_jobs=1):\n",
        "        self.GP = surrogate\n",
        "        self.A = acquisition\n",
        "        self.f = f\n",
        "        self.parameters = parameter_dict\n",
        "        self.n_jobs = n_jobs\n",
        "\n",
        "        self.parameter_key = list(parameter_dict.keys())\n",
        "        self.parameter_value = list(parameter_dict.values())\n",
        "        self.parameter_type = [p[0] for p in self.parameter_value]\n",
        "        self.parameter_range = [p[1] for p in self.parameter_value]\n",
        "\n",
        "        self.history = []\n",
        "        self.header =   'Evaluation \\t Proposed point \\t  Current eval. \\t  Best eval. \\t         Max AcqFunc.'\n",
        "        self.template = '{:3}\\t {}\\t {:3}\\t {:3}\\t {:3}'\n",
        "\n",
        "    def _optimizeAcq(self, method='L-BFGS-B', n_start=n_start_AcqFunc):\n",
        "        \n",
        "        start_points_dict = [self._sampleParam() for i in range(n_start)]\n",
        "        start_points_arr = np.array([list(s.values())\n",
        "                                     for s in start_points_dict])\n",
        "        x_best = np.empty((n_start, len(self.parameter_key)))\n",
        "        f_best = np.empty((n_start,))\n",
        "        opt = Parallel(n_jobs=self.n_jobs)(delayed(minimize)(self._acqWrapper,\n",
        "                                                                 x0=start_point,\n",
        "                                                                 method=method,\n",
        "                                                                 bounds=self.parameter_range) for start_point in\n",
        "                                               start_points_arr)\n",
        "        x_best = np.array([res.x for res in opt])\n",
        "        f_best = np.array([np.atleast_1d(res.fun)[0] for res in opt])\n",
        "        f_best_min = min(f_best)\n",
        "\n",
        "        self.x_best = x_best\n",
        "        self.f_best = f_best\n",
        "        self.f_best_min = f_best_min\n",
        "        self.best = x_best[np.argmin(f_best)]\n",
        "        self.start_points_arr = start_points_arr\n",
        "        \n",
        "        self.history.append(self.f_best_min)\n",
        "          \n",
        "    def _printInit(self):\n",
        "        print(self.header)\n",
        "        for init_eval in range(self.init_evals):\n",
        "            print(self.template.format('init', self.GP.X[init_eval], self.GP.y[init_eval], self.tau, ''))\n",
        "      \n",
        "    def _printCurrent(self):\n",
        "        OKGREEN = '\\033[92m'\n",
        "        ENDC = '\\033[0m'\n",
        "        BOLD = '\\033[1m'\n",
        "        eval = str(len(self.GP.y) - self.init_evals)\n",
        "        proposed = str(self.best)\n",
        "        curr_eval = str(self.GP.y[-1])\n",
        "        curr_best = str(self.tau)\n",
        "        max_acqfunc = str(self.f_best_min)\n",
        "        if float(curr_eval) >= float(curr_best):\n",
        "            eval = BOLD + OKGREEN + eval + ENDC\n",
        "            proposed = BOLD + OKGREEN + proposed + ENDC\n",
        "            curr_eval = BOLD + OKGREEN + curr_eval + ENDC\n",
        "            curr_best = BOLD + OKGREEN + curr_best + ENDC\n",
        "            max_acqfunc = BOLD + OKGREEN + str(self.f_best_min) + ENDC\n",
        "        print(self.template.format(eval, proposed, curr_eval, curr_best, max_acqfunc))\n",
        "\n",
        "    def run(self, max_iter=10, init_evals=3, resume=False):\n",
        "        \n",
        "        if not resume:\n",
        "            self.init_evals = init_evals\n",
        "            self._firstRun(self.init_evals)\n",
        "            self._printInit()\n",
        "        for iteration in range(max_iter):\n",
        "            self._optimizeAcq()\n",
        "            self.updateGP()\n",
        "            self._printCurrent()\n"
      ],
      "execution_count": null,
      "outputs": []
    },
    {
      "cell_type": "code",
      "metadata": {
        "id": "b_B-w81BJxKN"
      },
      "source": [
        "## dGPGO:\n",
        "\n",
        "grad = 1\n",
        "\n",
        "class dGPGO(GPGO):\n",
        "    n_start = n_start_AcqFunc\n",
        "\n",
        "    def __init__(self, surrogate, acquisition, f, parameter_dict, n_jobs=1):\n",
        "        self.GP = surrogate\n",
        "        self.A = acquisition\n",
        "        self.f = f\n",
        "        self.parameters = parameter_dict\n",
        "        self.n_jobs = n_jobs\n",
        "\n",
        "        self.parameter_key = list(parameter_dict.keys())\n",
        "        self.parameter_value = list(parameter_dict.values())\n",
        "        self.parameter_type = [p[0] for p in self.parameter_value]\n",
        "        self.parameter_range = [p[1] for p in self.parameter_value]\n",
        "\n",
        "        self.history = []\n",
        "        self.header =   'Evaluation \\t Proposed point \\t  Current eval. \\t  Best eval. \\t         Max AcqFunc.'\n",
        "        self.template = '{:3}\\t {}\\t {:3}\\t {:3}\\t {:3}'\n",
        "\n",
        "    def d_optimizeAcq(self, method='L-BFGS-B', n_start=n_start_AcqFunc):\n",
        "        start_points_dict = [self._sampleParam() for i in range(n_start)]\n",
        "        start_points_arr = np.array([list(s.values())\n",
        "                                     for s in start_points_dict])\n",
        "        x_best = np.empty((n_start, len(self.parameter_key)))\n",
        "        f_best = np.empty((n_start,))\n",
        "        opt = Parallel(n_jobs=self.n_jobs)(delayed(minimize)(self.acqfunc,\n",
        "                                                                 x0=start_point,\n",
        "                                                                 method=method,\n",
        "                                                                 jac = True,\n",
        "                                                                 bounds=self.parameter_range) for start_point in\n",
        "                                               start_points_arr)\n",
        "        x_best = np.array([res.x for res in opt])\n",
        "        f_best = np.array([np.atleast_1d(res.fun)[0] for res in opt])\n",
        "        f_best_min = min(f_best)\n",
        "\n",
        "        self.x_best = x_best\n",
        "        self.f_best = f_best\n",
        "        self.f_best_min = f_best_min\n",
        "        self.best = x_best[np.argmin(f_best)]\n",
        "        self.start_points_arr = start_points_arr\n",
        "\n",
        "        self.history.append(self.f_best_min)\n",
        "\n",
        "    def _printInit(self):\n",
        "        print(self.header)\n",
        "        for init_eval in range(self.init_evals):\n",
        "            print(self.template.format('init', self.GP.X[init_eval], self.GP.y[init_eval], self.tau, ''))\n",
        "      \n",
        "    def _printCurrent(self):\n",
        "        OKGREEN = '\\033[92m'\n",
        "        ENDC = '\\033[0m'\n",
        "        BOLD = '\\033[1m'\n",
        "        eval = str(len(self.GP.y) - self.init_evals)\n",
        "        proposed = str(self.best)\n",
        "        curr_eval = str(self.GP.y[-1])\n",
        "        curr_best = str(self.tau)\n",
        "        max_acqfunc = str(self.f_best_min)\n",
        "        if float(curr_eval) >= float(curr_best):\n",
        "            eval = BOLD + OKGREEN + eval + ENDC\n",
        "            proposed = BOLD + OKGREEN + proposed + ENDC\n",
        "            curr_eval = BOLD + OKGREEN + curr_eval + ENDC\n",
        "            curr_best = BOLD + OKGREEN + curr_best + ENDC\n",
        "            max_acqfunc = BOLD + OKGREEN + str(self.f_best_min) + ENDC\n",
        "        print(self.template.format(eval, proposed, curr_eval, curr_best, max_acqfunc))\n",
        "\n",
        "    def run(self, max_iter=10, init_evals=3, resume=False):\n",
        "        \n",
        "        if not resume:\n",
        "            self.init_evals = init_evals\n",
        "            self._firstRun(self.init_evals)\n",
        "            self._printInit()\n",
        "        for iteration in range(max_iter):\n",
        "            self.d_optimizeAcq()\n",
        "            self.updateGP()\n",
        "            self._printCurrent()\n",
        "\n",
        "    def acqfunc(self, xnew, n_start=n_start_AcqFunc):\n",
        "        new_mean, new_var = self.GP.predict(xnew, return_std=True)\n",
        "        new_std = np.sqrt(new_var + eps)\n",
        "        dm, ds = self.GP.AcqGrad(xnew)\n",
        "        f, df = self.A.d_eval(self.tau, new_mean, new_std, ds=ds, dm=dm)\n",
        "\n",
        "        return -f, -df * grad\n"
      ],
      "execution_count": null,
      "outputs": []
    },
    {
      "cell_type": "code",
      "metadata": {
        "id": "qXIKGuXVGEg2"
      },
      "source": [
        "###Reproducible set-seeds:\n",
        "\n",
        "run_num_1 = 1\n",
        "run_num_2 = 2\n",
        "run_num_3 = 3\n",
        "run_num_4 = 4\n",
        "run_num_5 = 5\n",
        "run_num_6 = 6\n",
        "run_num_7 = 7\n",
        "run_num_8 = 8\n",
        "run_num_9 = 9\n",
        "run_num_10 = 10\n",
        "run_num_11 = 11\n",
        "run_num_12 = 12\n",
        "run_num_13 = 13\n",
        "run_num_14 = 14\n",
        "run_num_15 = 15\n",
        "run_num_16 = 16\n",
        "run_num_17 = 17\n",
        "run_num_18 = 18\n",
        "run_num_19 = 19\n",
        "run_num_20 = 20\n"
      ],
      "execution_count": null,
      "outputs": []
    },
    {
      "cell_type": "code",
      "metadata": {
        "colab": {
          "base_uri": "https://localhost:8080/"
        },
        "id": "JEhagQmnTVIK",
        "outputId": "0c556d25-76ba-4ead-f6e6-fd930604ba64"
      },
      "source": [
        "start_approx = time.time()\n",
        "start_approx\n"
      ],
      "execution_count": null,
      "outputs": [
        {
          "output_type": "execute_result",
          "data": {
            "text/plain": [
              "1649162347.3936346"
            ]
          },
          "metadata": {},
          "execution_count": 12
        }
      ]
    },
    {
      "cell_type": "code",
      "metadata": {
        "colab": {
          "base_uri": "https://localhost:8080/"
        },
        "id": "aH0YSTXufD1v",
        "outputId": "6a6c381e-272d-4e34-fe79-403bda52b906"
      },
      "source": [
        "### ESTIMATED GP EI GRADIENTS\n",
        "\n",
        "np.random.seed(run_num_1)\n",
        "surrogate_approx_1 = GaussianProcess(cov_func, optimize=opt)\n",
        "\n",
        "approx_1 = GPGO_multi(surrogate_approx_1, Acquisition(util_grad_approx), objfunc, param)\n",
        "approx_1.run(init_evals=n_init, max_iter=iters)\n"
      ],
      "execution_count": null,
      "outputs": [
        {
          "output_type": "stream",
          "name": "stdout",
          "text": [
            "Evaluation \t Proposed point \t  Current eval. \t  Best eval. \t         Max AcqFunc.\n",
            "init\t [-1.65955991  4.40648987]\t -41.5884450098667\t -5.468172821636052\t    \n",
            "init\t [-9.9977125  -3.95334855]\t -131.21218477957908\t -5.468172821636052\t    \n",
            "init\t [-7.06488218 -8.1532281 ]\t -182.86281732102734\t -5.468172821636052\t    \n",
            "init\t [-6.27479577 -3.08878546]\t -58.4542532110911\t -5.468172821636052\t    \n",
            "init\t [-2.06465052  0.77633468]\t -5.468172821636052\t -5.468172821636052\t    \n",
            "1  \t [ 7.89213327 -8.29911577]\t -200.03641276683908\t -5.468172821636052\t -5.470068425465989\n",
            "2  \t [7.66612182 2.47344414]\t -71.00527566059496\t -5.468172821636052\t -5.470068425465989\n",
            "3  \t [1.62717855 9.40039978]\t -179.3827421328839\t -5.468172821636052\t -5.470068425465989\n",
            "4  \t [-9.56950389  8.95940422]\t -252.11725289788865\t -5.468172821636052\t -5.470068425465989\n",
            "5  \t [ 2.56152397 -4.28847437]\t -43.34342980630102\t -5.468172821636052\t -5.47006840364817\n",
            "6  \t [ -1.05892337 -10.        ]\t -201.1213186930317\t -5.468172821636052\t -5.4700681795369634\n",
            "7  \t [10.          7.85113619]\t -223.280678850504\t -5.468172821636052\t -5.470067205643384\n",
            "8  \t [-7.81962472  2.67573521]\t -75.4656486076953\t -5.468172821636052\t -5.470067758624117\n",
            "9  \t [10.         -2.78162523]\t -115.47487781388813\t -5.468172821636052\t -5.470063433663302\n",
            "10 \t [2.64719831 1.04893561]\t -9.208190685285304\t -5.468172821636052\t -5.4699645112294775\n",
            "11 \t [-3.97317267 10.        ]\t -215.7861010898242\t -5.468172821636052\t -5.470045074315886\n",
            "12 \t [-2.02734474 -5.03100465]\t -54.73214234686491\t -5.468172821636052\t -5.468820738853952\n",
            "13 \t [3.85661511 5.15361998]\t -67.99307790030359\t -5.468172821636052\t -5.4679882532371495\n",
            "14 \t [  3.58734998 -10.        ]\t -212.86907989374177\t -5.468172821636052\t -5.465789137113986\n",
            "15 \t [ 6.05591032 10.        ]\t -236.6740497785911\t -5.468172821636052\t -5.461297755199246\n",
            "16 \t [ 5.71050828 -1.49932998]\t -37.10588556745055\t -5.468172821636052\t -5.460816238857419\n",
            "\u001b[1m\u001b[92m17\u001b[0m\t \u001b[1m\u001b[92m[ 0.04967507 -1.47040575]\u001b[0m\t \u001b[1m\u001b[92m-4.326653764360808\u001b[0m\t \u001b[1m\u001b[92m-4.326653764360808\u001b[0m\t \u001b[1m\u001b[92m-5.4172940594564665\u001b[0m\n",
            "18 \t [-5.55185008  5.99953949]\t -102.81198739791338\t -4.326653764360808\t -4.312498269389453\n",
            "19 \t [-10.          -0.15114628]\t -100.04569039340072\t -4.326653764360808\t -4.226935869815585\n",
            "20 \t [-4.86645892  0.36189389]\t -23.944356762133793\t -4.326653764360808\t -4.228825270183228\n"
          ]
        }
      ]
    },
    {
      "cell_type": "code",
      "metadata": {
        "colab": {
          "base_uri": "https://localhost:8080/"
        },
        "id": "wTxsSZxFGBB5",
        "outputId": "fdd75bfb-0911-4694-fe90-60d25078701e"
      },
      "source": [
        "### ESTIMATED GP EI GRADIENTS\n",
        "\n",
        "np.random.seed(run_num_2)\n",
        "surrogate_approx_2 = GaussianProcess(cov_func, optimize=opt)\n",
        "\n",
        "approx_2 = GPGO_multi(surrogate_approx_2, Acquisition(util_grad_approx), objfunc, param)\n",
        "approx_2.run(init_evals=n_init, max_iter=iters)\n"
      ],
      "execution_count": null,
      "outputs": [
        {
          "output_type": "stream",
          "name": "stdout",
          "text": [
            "Evaluation \t Proposed point \t  Current eval. \t  Best eval. \t         Max AcqFunc.\n",
            "init\t [-1.28010196 -9.48147536]\t -181.43541115584648\t -4.333099000920773\t    \n",
            "init\t [ 0.99324956 -1.29355215]\t -4.333099000920773\t -4.333099000920773\t    \n",
            "init\t [-1.59264396 -3.39330358]\t -25.565533148780872\t -4.333099000920773\t    \n",
            "init\t [-5.90702732  2.38541933]\t -46.27342248166184\t -4.333099000920773\t    \n",
            "init\t [-4.00690653 -4.6634545 ]\t -59.55091562094812\t -4.333099000920773\t    \n",
            "1  \t [4.01504693 9.2910216 ]\t -188.7667666769868\t -4.333099000920773\t -4.343843863435749\n",
            "2  \t [ 9.4582138 -7.7444757]\t -209.411615827435\t -4.333099000920773\t -4.343843863435749\n",
            "3  \t [ 9.07319925 -1.03970567]\t -84.48492034594878\t -4.333099000920773\t -4.343843846857654\n",
            "4  \t [-9.13741927 -7.85625192]\t -206.93381928482216\t -4.333099000920773\t -4.3438435201435155\n",
            "5  \t [9.5985819  6.97740137]\t -189.5010342975437\t -4.333099000920773\t -4.34384277659516\n",
            "6  \t [-3.25263411  9.0402141 ]\t -174.03057068772284\t -4.333099000920773\t -4.34384386296763\n",
            "7  \t [-9.13361372  7.86376943]\t -207.10063872633899\t -4.333099000920773\t -4.343842500478879\n",
            "8  \t [4.39615564 2.88265596]\t -35.94559520445725\t -4.333099000920773\t -4.343842339814573\n",
            "9  \t [-10.          -1.89507383]\t -107.1826096424068\t -4.333099000920773\t -4.343841952893023\n",
            "10 \t [ 3.64494734 -6.06810768]\t -86.92950269622102\t -4.333099000920773\t -4.343840195991234\n",
            "11 \t [-0.76817857  3.8996684 ]\t -31.004925514004757\t -4.333099000920773\t -4.3438056794608855\n",
            "12 \t [-10.           3.09864263]\t -119.20317225338674\t -4.333099000920773\t -4.338750227311136\n",
            "13 \t [  5.35809613 -10.        ]\t -228.70919409455004\t -4.333099000920773\t -4.337695364026409\n",
            "14 \t [ 4.67495616 -1.60210944]\t -26.988724365250214\t -4.333099000920773\t -4.337409151687975\n",
            "15 \t [-2.44444394  0.31372084]\t -6.172147687944214\t -4.333099000920773\t -4.320732291776571\n",
            "16 \t [ -5.48532982 -10.        ]\t -230.08884320880006\t -4.333099000920773\t -4.319552736723809\n",
            "17 \t [8.39868699 2.92759121]\t -87.67952371993744\t -4.333099000920773\t -4.312846585636173\n",
            "18 \t [-5.92690489 -1.37780799]\t -38.92491129869055\t -4.333099000920773\t -4.290459097638873\n",
            "19 \t [0.50046599 7.27076326]\t -105.97846305785977\t -4.333099000920773\t -4.279878028972513\n",
            "20 \t [ 7.15958773 -4.37606224]\t -89.55953788657456\t -4.333099000920773\t -4.258960966586765\n"
          ]
        }
      ]
    },
    {
      "cell_type": "code",
      "metadata": {
        "colab": {
          "base_uri": "https://localhost:8080/"
        },
        "id": "-dgzIrUIGCGT",
        "outputId": "4036b5cf-acb7-4a1c-a324-33e934936cfd"
      },
      "source": [
        "### ESTIMATED GP EI GRADIENTS\n",
        "\n",
        "np.random.seed(run_num_3)\n",
        "surrogate_approx_3 = GaussianProcess(cov_func, optimize=opt)\n",
        "\n",
        "approx_3 = GPGO_multi(surrogate_approx_3, Acquisition(util_grad_approx), objfunc, param)\n",
        "approx_3.run(init_evals=n_init, max_iter=iters)\n"
      ],
      "execution_count": null,
      "outputs": [
        {
          "output_type": "stream",
          "name": "stdout",
          "text": [
            "Evaluation \t Proposed point \t  Current eval. \t  Best eval. \t         Max AcqFunc.\n",
            "init\t [1.01595805 4.16295645]\t -35.692583610916834\t -17.582120911078754\t    \n",
            "init\t [-4.18190522  0.2165521 ]\t -17.582120911078754\t -17.582120911078754\t    \n",
            "init\t [7.85893909 7.92586178]\t -187.4014934415638\t -17.582120911078754\t    \n",
            "init\t [-7.48829379 -5.85514244]\t -124.63992981683481\t -17.582120911078754\t    \n",
            "init\t [-8.97065593 -1.18380313]\t -83.2754475728413\t -17.582120911078754\t    \n",
            "1  \t [ 5.60629529 -3.87272935]\t -61.42661215628989\t -17.582120911078754\t -17.582120911078754\n",
            "2  \t [-6.2437035   9.04202486]\t -202.50026057521436\t -17.582120911078754\t -17.582120911078754\n",
            "3  \t [ 0.20293337 10.        ]\t -200.0411819510794\t -17.582120911078754\t -17.58212033823383\n",
            "4  \t [-0.42169096 -8.75441039]\t -153.45722588114134\t -17.582120911078754\t -17.582120911078754\n",
            "5  \t [ 8.49805726 -8.91732988]\t -231.2545217289155\t -17.582120911078754\t -17.582119513046617\n",
            "6  \t [-9.21277105  4.93342182]\t -133.55245206852663\t -17.582120911078754\t -17.582120886004443\n",
            "\u001b[1m\u001b[92m7\u001b[0m\t \u001b[1m\u001b[92m[ 0.69850669 -0.70926041]\u001b[0m\t \u001b[1m\u001b[92m-1.4940122574729555\u001b[0m\t \u001b[1m\u001b[92m-1.4940122574729555\u001b[0m\t \u001b[1m\u001b[92m-17.582120911078754\u001b[0m\n",
            "8  \t [8.49616767 0.98473736]\t -74.12428040932187\t -1.4940122574729555\t -1.7577058560998995\n",
            "9  \t [-6.71050156 -9.69798454]\t -233.13263931875917\t -1.4940122574729555\t -1.7577058560999115\n",
            "10 \t [-2.31609135 -4.03103432]\t -37.86275452469825\t -1.4940122574729555\t -1.7573822188165158\n",
            "11 \t [-3.68921689  4.7230242 ]\t -58.22423638664816\t -1.4940122574729555\t -1.757009735301395\n",
            "12 \t [10.         -3.82716584]\t -129.29439666671396\t -1.4940122574729555\t -1.7560278055824068\n",
            "13 \t [3.96695618 0.75329585]\t -16.8716505910299\t -1.4940122574729555\t -1.7551109091870267\n",
            "14 \t [5.21705413 4.403256  ]\t -65.99498062292872\t -1.4940122574729555\t -1.7470879319539805\n",
            "15 \t [ 1.62603982 -4.73122516]\t -47.41298848472534\t -1.4940122574729555\t -1.7445996399562371\n",
            "16 \t [  3.9674317 -10.       ]\t -215.7405142627306\t -1.4940122574729555\t -1.7541825312365389\n",
            "17 \t [ 4.34166997 10.        ]\t -218.8500981060846\t -1.4940122574729555\t -1.7257553774203704\n",
            "18 \t [10.          4.49211077]\t -140.3581182555008\t -1.4940122574729555\t -1.7178087280966046\n",
            "19 \t [-0.97808682  1.17801253]\t -3.7320808851475578\t -1.4940122574729555\t -1.686411487142244\n",
            "20 \t [-6.76787624  2.04849516]\t -54.19681356684322\t -1.4940122574729555\t -1.65310015393157\n"
          ]
        }
      ]
    },
    {
      "cell_type": "code",
      "metadata": {
        "colab": {
          "base_uri": "https://localhost:8080/"
        },
        "id": "hOtG-2sCGCKS",
        "outputId": "52c25195-45ff-470c-da82-b3bda591c516"
      },
      "source": [
        "### ESTIMATED GP EI GRADIENTS\n",
        "\n",
        "np.random.seed(run_num_4)\n",
        "surrogate_approx_4 = GaussianProcess(cov_func, optimize=opt)\n",
        "\n",
        "approx_4 = GPGO_multi(surrogate_approx_4, Acquisition(util_grad_approx), objfunc, param)\n",
        "approx_4.run(init_evals=n_init, max_iter=iters)\n"
      ],
      "execution_count": null,
      "outputs": [
        {
          "output_type": "stream",
          "name": "stdout",
          "text": [
            "Evaluation \t Proposed point \t  Current eval. \t  Best eval. \t         Max AcqFunc.\n",
            "init\t [9.34059678 0.94464498]\t -89.0314565014143\t -27.80880071439404\t    \n",
            "init\t [9.4536872  4.29631987]\t -126.28893057280868\t -27.80880071439404\t    \n",
            "init\t [ 3.95457649 -5.67821009]\t -80.12281484649141\t -27.80880071439404\t    \n",
            "init\t [ 9.5254891 -9.8753949]\t -285.78179120922215\t -27.80880071439404\t    \n",
            "init\t [-4.94035275 -1.30416935]\t -27.80880071439404\t -27.80880071439404\t    \n",
            "1  \t [-6.35109191  8.36766078]\t -180.3718623830372\t -27.80880071439404\t -27.80880071439404\n",
            "2  \t [ -4.8985823 -10.       ]\t -223.99610851724944\t -27.80880071439404\t -27.80880071439404\n",
            "3  \t [2.73697346 9.11609188]\t -173.69728602361354\t -27.80880071439404\t -27.808800714393946\n",
            "\u001b[1m\u001b[92m4\u001b[0m\t \u001b[1m\u001b[92m[0.97610237 1.99594982]\u001b[0m\t \u001b[1m\u001b[92m-8.92040722633793\u001b[0m\t \u001b[1m\u001b[92m-8.92040722633793\u001b[0m\t \u001b[1m\u001b[92m-27.808800712709687\u001b[0m\n",
            "5  \t [-10.           3.33491649]\t -122.24333601759977\t -8.92040722633793\t -8.920408544915757\n",
            "6  \t [-10.          -3.66629598]\t -126.88345235298578\t -8.92040722633793\t -8.920406552554972\n",
            "7  \t [ 8.66285389 10.        ]\t -275.0450375850186\t -8.92040722633793\t -8.9204035409801\n",
            "8  \t [-1.52057753 -5.36501352]\t -59.87889626519149\t -8.92040722633793\t -8.920378511471736\n",
            "9  \t [10.         -4.33877184]\t -137.64988224367806\t -8.92040722633793\t -8.9203495580876\n",
            "10 \t [  0.92539449 -10.        ]\t -200.8563549679064\t -8.92040722633793\t -8.920335728556788\n",
            "11 \t [-3.62441312  3.67360538]\t -40.127123380695245\t -8.92040722633793\t -8.920320802915468\n",
            "12 \t [-9.70814071 -7.49026796]\t -206.45622413219547\t -8.92040722633793\t -8.920408912088616\n",
            "13 \t [ 4.59481575 -0.70507475]\t -22.106592570339863\t -8.92040722633793\t -8.919956777376777\n",
            "14 \t [4.55645428 4.39908312]\t -59.46514019811485\t -8.92040722633793\t -8.919341115183089\n",
            "15 \t [-1.68787113  7.72045736]\t -122.05983269006668\t -8.92040722633793\t -8.916329353460196\n",
            "\u001b[1m\u001b[92m16\u001b[0m\t \u001b[1m\u001b[92m[ 0.5595534  -1.72604683]\u001b[0m\t \u001b[1m\u001b[92m-6.27157531245819\u001b[0m\t \u001b[1m\u001b[92m-6.27157531245819\u001b[0m\t \u001b[1m\u001b[92m-8.909848587176443\u001b[0m\n",
            "17 \t [-5.72590723 -5.33588262]\t -89.729300133042\t -6.27157531245819\t -6.257866234835988\n",
            "18 \t [  5.18808802 -10.        ]\t -226.91625725869417\t -6.27157531245819\t -6.247386466357612\n",
            "19 \t [-8.22214797 -0.10114641]\t -67.62417841547074\t -6.27157531245819\t -6.184168595123285\n",
            "\u001b[1m\u001b[92m20\u001b[0m\t \u001b[1m\u001b[92m[-1.82428457  0.34757798]\u001b[0m\t \u001b[1m\u001b[92m-3.569635087520078\u001b[0m\t \u001b[1m\u001b[92m-3.569635087520078\u001b[0m\t \u001b[1m\u001b[92m-6.1848160411632485\u001b[0m\n"
          ]
        }
      ]
    },
    {
      "cell_type": "code",
      "metadata": {
        "colab": {
          "base_uri": "https://localhost:8080/"
        },
        "id": "JF_SxcEvGCOl",
        "outputId": "bac66bea-a0b4-4844-abcf-3e39ba50f69b"
      },
      "source": [
        "### ESTIMATED GP EI GRADIENTS\n",
        "\n",
        "np.random.seed(run_num_5)\n",
        "surrogate_approx_5 = GaussianProcess(cov_func, optimize=opt)\n",
        "\n",
        "approx_5 = GPGO_multi(surrogate_approx_5, Acquisition(util_grad_approx), objfunc, param)\n",
        "approx_5.run(init_evals=n_init, max_iter=iters)\n"
      ],
      "execution_count": null,
      "outputs": [
        {
          "output_type": "stream",
          "name": "stdout",
          "text": [
            "Evaluation \t Proposed point \t  Current eval. \t  Best eval. \t         Max AcqFunc.\n",
            "init\t [-5.56013658  7.41464612]\t -140.86907304317228\t -10.04307293518387\t    \n",
            "init\t [-5.86561689  8.37221816]\t -174.59353533361667\t -10.04307293518387\t    \n",
            "init\t [-0.23177622  2.23487726]\t -10.04307293518387\t -10.04307293518387\t    \n",
            "init\t [5.31815713 0.36835976]\t -28.554173077012745\t -10.04307293518387\t    \n",
            "init\t [-4.06398997 -6.24557543]\t -94.53043928694063\t -10.04307293518387\t    \n",
            "1  \t [9.27861058 9.20453431]\t -255.5395178906315\t -10.04307293518387\t -10.043073030426035\n",
            "2  \t [ 8.87080164 -7.76615146]\t -199.31733862713008\t -10.04307293518387\t -10.043073030426035\n",
            "3  \t [0.54357666 9.2242228 ]\t -170.4680482407008\t -10.04307293518387\t -10.043072892838797\n",
            "4  \t [ 2.49508934 -6.80638133]\t -98.87912454627462\t -10.04307293518387\t -10.043072918396797\n",
            "5  \t [-10.         -8.9060044]\t -258.63382876957485\t -10.04307293518387\t -10.043072999795678\n",
            "6  \t [-8.62367183  0.50898962]\t -74.88585667581904\t -10.04307293518387\t -10.043073030406182\n",
            "7  \t [10.          3.26578106]\t -121.33065180090271\t -10.04307293518387\t -10.043067136671368\n",
            "8  \t [10.         -2.28602443]\t -110.45181543102282\t -10.04307293518387\t -10.043037543728166\n",
            "9  \t [4.77262266 5.59507275]\t -85.38760523188871\t -10.04307293518387\t -10.043031124849213\n",
            "10 \t [-3.63338944 -1.04539473]\t -15.38721911652941\t -10.04307293518387\t -10.042900358682928\n",
            "\u001b[1m\u001b[92m11\u001b[0m\t \u001b[1m\u001b[92m[ 1.02719131 -2.08338104]\u001b[0m\t \u001b[1m\u001b[92m-9.736075067806567\u001b[0m\t \u001b[1m\u001b[92m-9.736075067806567\u001b[0m\t \u001b[1m\u001b[92m-10.042471679399913\u001b[0m\n",
            "12 \t [-10.           5.25690083]\t -155.2700127538469\t -9.736075067806567\t -9.735532250242052\n",
            "13 \t [ -1.11957581 -10.        ]\t -201.25344999256143\t -9.736075067806567\t -9.735098184685567\n",
            "14 \t [-10.          -3.95527846]\t -131.2884553598501\t -9.736075067806567\t -9.734776506935454\n",
            "15 \t [-4.49166682  2.99987062]\t -38.173518349278226\t -9.736075067806567\t -9.732204337409181\n",
            "16 \t [ 5.78435179 -3.86838282]\t -63.38749689249986\t -9.736075067806567\t -9.728877293646654\n",
            "17 \t [ -5.70474774 -10.        ]\t -232.54414682760148\t -9.736075067806567\t -9.715636117862266\n",
            "18 \t [ 4.8652603 10.       ]\t -223.67075776685112\t -9.736075067806567\t -9.722435508598076\n",
            "19 \t [-10.  10.]\t -300.0\t -9.736075067806567\t -9.731222534216812\n",
            "20 \t [  5.10721313 -10.        ]\t -226.08362597121044\t -9.736075067806567\t -9.719223169689164\n"
          ]
        }
      ]
    },
    {
      "cell_type": "code",
      "metadata": {
        "colab": {
          "base_uri": "https://localhost:8080/"
        },
        "id": "-kDxZtJsGCR3",
        "outputId": "a42c4871-df39-404e-b145-aaf07e7dc6bd"
      },
      "source": [
        "### ESTIMATED GP EI GRADIENTS\n",
        "\n",
        "np.random.seed(run_num_6)\n",
        "surrogate_approx_6 = GaussianProcess(cov_func, optimize=opt)\n",
        "\n",
        "approx_6 = GPGO_multi(surrogate_approx_6, Acquisition(util_grad_approx), objfunc, param)\n",
        "approx_6.run(init_evals=n_init, max_iter=iters)\n"
      ],
      "execution_count": null,
      "outputs": [
        {
          "output_type": "stream",
          "name": "stdout",
          "text": [
            "Evaluation \t Proposed point \t  Current eval. \t  Best eval. \t         Max AcqFunc.\n",
            "init\t [ 7.85720303 -3.36040389]\t -84.32026809583151\t -5.629416961321397\t    \n",
            "init\t [ 6.42458246 -9.16606749]\t -209.30884609749882\t -5.629416961321397\t    \n",
            "init\t [-7.8468664   1.90104128]\t -68.80122824744078\t -5.629416961321397\t    \n",
            "init\t [ 0.59634724 -1.62385143]\t -5.629416961321397\t -5.629416961321397\t    \n",
            "init\t [-3.29184301  2.45038864]\t -22.84503944485431\t -5.629416961321397\t    \n",
            "1  \t [4.34664291 8.74699069]\t -171.91299695999675\t -5.629416961321397\t -5.6308656614916455\n",
            "2  \t [-4.96771714 -9.17248997]\t -192.94735819477367\t -5.629416961321397\t -5.6308656614916455\n",
            "3  \t [9.57427611 1.74148842]\t -97.73232691305284\t -5.629416961321397\t -5.6308656614916455\n",
            "4  \t [-5.6935267   8.60486508]\t -180.50365249520243\t -5.629416961321397\t -5.630865657108705\n",
            "5  \t [-10.          -5.66019356]\t -164.0755823122173\t -5.629416961321397\t -5.630865022401466\n",
            "6  \t [3.82796271 2.69284027]\t -29.156075898516452\t -5.629416961321397\t -5.630861380029688\n",
            "7  \t [-0.45748598  7.70980473]\t -119.09147150685489\t -5.629416961321397\t -5.630865474848231\n",
            "8  \t [-5.2160087  -2.20998074]\t -36.974776478354485\t -5.629416961321397\t -5.630865661383175\n",
            "9  \t [-1.22868843  4.34354782]\t -39.24249056209099\t -5.629416961321397\t -5.6308656614916455\n",
            "10 \t [9.10343891 6.83055529]\t -176.18557108785902\t -5.629416961321397\t -5.6308656614916455\n",
            "11 \t [ 0.80830479 -7.11342719]\t -101.85504953205115\t -5.629416961321397\t -5.630862422382091\n",
            "12 \t [-10.           6.23718989]\t -177.80507557060267\t -5.629416961321397\t -5.630073636294583\n",
            "13 \t [-10.  10.]\t -300.0\t -5.629416961321397\t -5.6308656614916455\n",
            "14 \t [ 4.10635164 -1.42152948]\t -20.903615890990523\t -5.629416961321397\t -5.616448825907749\n",
            "15 \t [-10.          -1.42582916]\t -104.06597758664826\t -5.629416961321397\t -5.606913565754898\n",
            "16 \t [10.        -6.8873921]\t -194.87233992659003\t -5.629416961321397\t -5.609402367146432\n",
            "17 \t [-2.86006499 -5.22774887]\t -62.83868822100011\t -5.629416961321397\t -5.604116902754758\n",
            "18 \t [-10. -10.]\t -300.0\t -5.629416961321397\t -5.623993347774596\n",
            "19 \t [ 4.33924775 -5.24367615]\t -73.82135013958127\t -5.629416961321397\t -5.586612842967697\n",
            "\u001b[1m\u001b[92m20\u001b[0m\t \u001b[1m\u001b[92m[0.50811858 1.22641264]\u001b[0m\t \u001b[1m\u001b[92m-3.2663604079401702\u001b[0m\t \u001b[1m\u001b[92m-3.2663604079401702\u001b[0m\t \u001b[1m\u001b[92m-5.52519670501673\u001b[0m\n"
          ]
        }
      ]
    },
    {
      "cell_type": "code",
      "metadata": {
        "colab": {
          "base_uri": "https://localhost:8080/"
        },
        "id": "fKB8MCD_GCVI",
        "outputId": "21080614-8fb5-4768-9133-c03650ddda6c"
      },
      "source": [
        "### ESTIMATED GP EI GRADIENTS\n",
        "\n",
        "np.random.seed(run_num_7)\n",
        "surrogate_approx_7 = GaussianProcess(cov_func, optimize=opt)\n",
        "\n",
        "approx_7 = GPGO_multi(surrogate_approx_7, Acquisition(util_grad_approx), objfunc, param)\n",
        "approx_7.run(init_evals=n_init, max_iter=iters)\n"
      ],
      "execution_count": null,
      "outputs": [
        {
          "output_type": "stream",
          "name": "stdout",
          "text": [
            "Evaluation \t Proposed point \t  Current eval. \t  Best eval. \t         Max AcqFunc.\n",
            "init\t [-8.47383421  5.59837584]\t -134.48949046062052\t -21.448213419349443\t    \n",
            "init\t [-1.23181537  4.46930356]\t -41.46671767109191\t -21.448213419349443\t    \n",
            "init\t [9.55979024 0.76991741]\t -92.57513506242564\t -21.448213419349443\t    \n",
            "init\t [ 0.02240927 -8.55897733]\t -146.51268814245697\t -21.448213419349443\t    \n",
            "init\t [-4.63122040e+00 -2.34998349e-03]\t -21.448213419349443\t -21.448213419349443\t    \n",
            "1  \t [ 8.12846538 -6.39096762]\t -147.76088362344177\t -21.448213419349443\t -21.448213419349443\n",
            "2  \t [ 4.06516126 10.        ]\t -216.52553605840973\t -21.448213419349443\t -21.448213419349443\n",
            "3  \t [-9.10467478 -9.8356699 ]\t -276.3759076385656\t -21.448213419349443\t -21.448213419349443\n",
            "4  \t [-7.86246511 -2.61028169]\t -75.44549865130998\t -21.448213419349443\t -21.448213419349443\n",
            "\u001b[1m\u001b[92m5\u001b[0m\t \u001b[1m\u001b[92m[3.63197518 0.86181451]\u001b[0m\t \u001b[1m\u001b[92m-14.676692185809095\u001b[0m\t \u001b[1m\u001b[92m-14.676692185809095\u001b[0m\t \u001b[1m\u001b[92m-21.448212113836206\u001b[0m\n",
            "6  \t [-3.16848977  9.87018565]\t -204.88045702297123\t -14.676692185809095\t -14.67669070692123\n",
            "7  \t [10.         6.6265899]\t -187.82338743940096\t -14.676692185809095\t -14.676690681003677\n",
            "8  \t [-0.08485702 -2.88007261]\t -16.59683724132375\t -14.676692185809095\t -14.676672722070375\n",
            "9  \t [-4.75318424 -6.59994437]\t -109.71129191755566\t -14.676692185809095\t -14.67641020714433\n",
            "10 \t [  4.79396823 -10.        ]\t -222.98213135486998\t -14.676692185809095\t -14.675974680364854\n",
            "11 \t [5.45793838 5.03198616]\t -80.43086066253815\t -14.676692185809095\t -14.676691130323752\n",
            "12 \t [-10.  10.]\t -300.0\t -14.676692185809095\t -14.675389587101307\n",
            "13 \t [ 4.24185208 -3.55276703]\t -43.237616210489605\t -14.676692185809095\t -14.67507468024715\n",
            "14 \t [-10.           1.27418344]\t -103.24708686074814\t -14.676692185809095\t -14.672831696476461\n",
            "\u001b[1m\u001b[92m15\u001b[0m\t \u001b[1m\u001b[92m[-0.33030625  0.71582814]\u001b[0m\t \u001b[1m\u001b[92m-1.1339220737572815\u001b[0m\t \u001b[1m\u001b[92m-1.1339220737572815\u001b[0m\t \u001b[1m\u001b[92m-14.648484971454776\u001b[0m\n",
            "16 \t [-4.83756634  3.4506174 ]\t -47.21556893390472\t -1.1339220737572815\t -1.4897558200046674\n",
            "17 \t [0.59271358 7.72675526]\t -119.75680308296464\t -1.1339220737572815\t -1.4557292033920324\n",
            "18 \t [ 10. -10.]\t -300.0\t -1.1339220737572815\t -1.4760798379358815\n",
            "19 \t [-10.          -5.74573075]\t -166.0268436134255\t -1.1339220737572815\t -1.4543928448447705\n",
            "20 \t [ 8.148565 10.      ]\t -266.3991114785363\t -1.1339220737572815\t -1.4309528990316367\n"
          ]
        }
      ]
    },
    {
      "cell_type": "code",
      "metadata": {
        "colab": {
          "base_uri": "https://localhost:8080/"
        },
        "id": "4unvifF-GCXp",
        "outputId": "81b5d126-0673-4b99-99e2-d156cdde64d2"
      },
      "source": [
        "### ESTIMATED GP EI GRADIENTS\n",
        "\n",
        "np.random.seed(run_num_8)\n",
        "surrogate_approx_8 = GaussianProcess(cov_func, optimize=opt)\n",
        "\n",
        "approx_8 = GPGO_multi(surrogate_approx_8, Acquisition(util_grad_approx), objfunc, param)\n",
        "approx_8.run(init_evals=n_init, max_iter=iters)\n"
      ],
      "execution_count": null,
      "outputs": [
        {
          "output_type": "stream",
          "name": "stdout",
          "text": [
            "Evaluation \t Proposed point \t  Current eval. \t  Best eval. \t         Max AcqFunc.\n",
            "init\t [7.46858806 9.37081326]\t -231.40408972112363\t -0.5791878792948744\t    \n",
            "init\t [7.3838908  0.61711383]\t -55.28350237060649\t -0.5791878792948744\t    \n",
            "init\t [-5.34543344 -9.77202391]\t -219.5585614355461\t -0.5791878792948744\t    \n",
            "init\t [-1.39062363 -1.9529728 ]\t -9.562039601098967\t -0.5791878792948744\t    \n",
            "init\t [ 0.45349343 -0.43216408]\t -0.5791878792948744\t -0.5791878792948744\t    \n",
            "1  \t [ 9.69498875 -9.42535902]\t -271.6675921188219\t -0.5791878792948744\t -1.1207038744027513\n",
            "2  \t [-9.83383251  5.77166529]\t -163.3285022998636\t -0.5791878792948744\t -1.1207038744027513\n",
            "3  \t [-3.97152767  9.51013426]\t -196.65833950916016\t -0.5791878792948744\t -1.1207038728081333\n",
            "4  \t [-9.65586204 -5.07440767]\t -144.73489822426617\t -0.5791878792948744\t -1.1207037739007804\n",
            "5  \t [1.10947828 5.5318851 ]\t -62.4344475515165\t -0.5791878792948744\t -1.1207038181863198\n",
            "6  \t [ 3.77011518 -4.40569277]\t -53.034026014752534\t -0.5791878792948744\t -1.120703410974091\n",
            "7  \t [  1.83021021 -10.        ]\t -203.34966941173178\t -0.5791878792948744\t -1.1207034771656421\n",
            "8  \t [-6.306457    0.82958772]\t -41.14783143761312\t -0.5791878792948744\t -1.1207030293653824\n",
            "9  \t [10.        -3.8821353]\t -130.14194900068395\t -0.5791878792948744\t -1.1206646227871695\n",
            "10 \t [10.          4.79505147]\t -145.9850371821162\t -0.5791878792948744\t -1.120532172250154\n",
            "11 \t [ 2.31617816 10.        ]\t -205.36468127811338\t -0.5791878792948744\t -1.1201758706146565\n",
            "12 \t [-4.6788184  -4.71119031]\t -66.28196997087227\t -0.5791878792948744\t -1.1200879759507831\n",
            "13 \t [-3.55316212  4.50489947]\t -53.21319958932086\t -0.5791878792948744\t -1.1199553081893692\n",
            "14 \t [-10. -10.]\t -300.0\t -0.5791878792948744\t -1.1191819295923942\n",
            "15 \t [2.95157757 1.32239721]\t -12.209278921761332\t -0.5791878792948744\t -1.1185921285657714\n",
            "16 \t [5.41915128 4.86924937]\t -76.78637944372437\t -0.5791878792948744\t -1.117071327466147\n",
            "17 \t [-0.44601365 -5.94693274]\t -70.9309461535126\t -0.5791878792948744\t -1.1168891314665381\n",
            "18 \t [-8.67833542 10.        ]\t -275.31350568866316\t -0.5791878792948744\t -1.1165083660809136\n",
            "19 \t [ 5.6477577  -7.90914669]\t -157.00636982698242\t -0.5791878792948744\t -1.102619713851786\n",
            "20 \t [-10.          -0.56540664]\t -100.63936934454678\t -0.5791878792948744\t -1.1138987658861041\n"
          ]
        }
      ]
    },
    {
      "cell_type": "code",
      "metadata": {
        "colab": {
          "base_uri": "https://localhost:8080/"
        },
        "id": "85OIXcg7GCaJ",
        "outputId": "87b04e72-f759-4e38-e71f-7a83ca445cb5"
      },
      "source": [
        "### ESTIMATED GP EI GRADIENTS\n",
        "\n",
        "np.random.seed(run_num_9)\n",
        "surrogate_approx_9 = GaussianProcess(cov_func, optimize=opt)\n",
        "\n",
        "approx_9 = GPGO_multi(surrogate_approx_9, Acquisition(util_grad_approx), objfunc, param)\n",
        "approx_9.run(init_evals=n_init, max_iter=iters)\n"
      ],
      "execution_count": null,
      "outputs": [
        {
          "output_type": "stream",
          "name": "stdout",
          "text": [
            "Evaluation \t Proposed point \t  Current eval. \t  Best eval. \t         Max AcqFunc.\n",
            "init\t [-9.79251692  0.03749184]\t -95.896198949837\t -53.418783741178075\t    \n",
            "init\t [-0.08453414 -7.32340942]\t -107.27179711012016\t -53.418783741178075\t    \n",
            "init\t [-7.15777829 -5.62882649]\t -114.6011653140891\t -53.418783741178075\t    \n",
            "init\t [-1.62983639 -5.03797663]\t -53.418783741178075\t -53.418783741178075\t    \n",
            "init\t [-8.31880698 -3.0900272 ]\t -88.29908569649677\t -53.418783741178075\t    \n",
            "1  \t [6.0747954  9.66718496]\t -223.8120694300478\t -53.418783741178075\t -53.418783741178075\n",
            "2  \t [-3.94738717  9.4159639 ]\t -192.90261763630335\t -53.418783741178075\t -53.418783741178075\n",
            "3  \t [ 10. -10.]\t -300.0\t -53.418783741178075\t -53.418783741178075\n",
            "\u001b[1m\u001b[92m4\u001b[0m\t \u001b[1m\u001b[92m[6.86954826 0.80695555]\u001b[0m\t \u001b[1m\u001b[92m-48.49304774759942\u001b[0m\t \u001b[1m\u001b[92m-48.49304774759942\u001b[0m\t \u001b[1m\u001b[92m-53.418783741178075\u001b[0m\n",
            "\u001b[1m\u001b[92m5\u001b[0m\t \u001b[1m\u001b[92m[-3.39160102  2.55645019]\u001b[0m\t \u001b[1m\u001b[92m-24.573832641307632\u001b[0m\t \u001b[1m\u001b[92m-24.573832641307632\u001b[0m\t \u001b[1m\u001b[92m-48.493047740016074\u001b[0m\n",
            "6  \t [-9.77111876  7.12537089]\t -197.01658247649232\t -24.573832641307632\t -24.573832338552357\n",
            "7  \t [ 6.15812588 -5.13549413]\t -90.66911414544604\t -24.573832641307632\t -24.573831540153975\n",
            "8  \t [1.7656986  4.78808874]\t -48.96927906292815\t -24.573832641307632\t -24.5738308438376\n",
            "9  \t [10.          5.37128484]\t -157.70140158171824\t -24.573832641307632\t -24.573822272247973\n",
            "\u001b[1m\u001b[92m10\u001b[0m\t \u001b[1m\u001b[92m[ 1.59897774 -0.69609415]\u001b[0m\t \u001b[1m\u001b[92m-3.5258239489091197\u001b[0m\t \u001b[1m\u001b[92m-3.5258239489091197\u001b[0m\t \u001b[1m\u001b[92m-24.573806468150455\u001b[0m\n",
            "11 \t [-10. -10.]\t -300.0\t -3.5258239489091197\t -3.5570830663515447\n",
            "12 \t [ 1.03519023 10.        ]\t -201.07161881606083\t -3.5258239489091197\t -3.556500033987277\n",
            "13 \t [ -4.46066774 -10.        ]\t -219.89755670012818\t -3.5258239489091197\t -3.556916903021591\n",
            "14 \t [  4.41339419 -10.        ]\t -219.47804828087544\t -3.5258239489091197\t -3.557000459689456\n",
            "15 \t [10.         -2.51686873]\t -112.66925644902291\t -3.5258239489091197\t -3.5555777623212563\n",
            "16 \t [-4.10625246 -1.48446793]\t -21.268599344618096\t -3.5258239489091197\t -3.550717857340095\n",
            "17 \t [-7.17540333  3.52026713]\t -76.2709742685295\t -3.5258239489091197\t -3.5429916034686406\n",
            "18 \t [5.72933479 4.9623848 ]\t -82.07580290600049\t -3.5258239489091197\t -3.5367937393829676\n",
            "19 \t [ 2.30944631 -3.75156916]\t -33.48208456258349\t -3.5258239489091197\t -3.525015632172693\n",
            "20 \t [-1.87389017  5.86353394]\t -72.27352493934106\t -3.5258239489091197\t -3.504042238318432\n"
          ]
        }
      ]
    },
    {
      "cell_type": "code",
      "metadata": {
        "colab": {
          "base_uri": "https://localhost:8080/"
        },
        "id": "QQBR-qJPGCcp",
        "outputId": "aad90504-163f-4e5b-f903-0aaa18b0b6ed"
      },
      "source": [
        "### ESTIMATED GP EI GRADIENTS\n",
        "\n",
        "np.random.seed(run_num_10)\n",
        "surrogate_approx_10 = GaussianProcess(cov_func, optimize=opt)\n",
        "\n",
        "approx_10 = GPGO_multi(surrogate_approx_10, Acquisition(util_grad_approx), objfunc, param)\n",
        "approx_10.run(init_evals=n_init, max_iter=iters)\n"
      ],
      "execution_count": null,
      "outputs": [
        {
          "output_type": "stream",
          "name": "stdout",
          "text": [
            "Evaluation \t Proposed point \t  Current eval. \t  Best eval. \t         Max AcqFunc.\n",
            "init\t [ 5.42641287 -9.58496101]\t -213.18891181932327\t -56.66743785259343\t    \n",
            "init\t [2.6729647  4.97607765]\t -56.66743785259343\t -56.66743785259343\t    \n",
            "init\t [-0.02985975 -5.50406709]\t -60.59040065376497\t -56.66743785259343\t    \n",
            "init\t [-6.0387427   5.21061424]\t -90.76741505398337\t -56.66743785259343\t    \n",
            "init\t [-6.61778327 -8.23320372]\t -179.36634226756874\t -56.66743785259343\t    \n",
            "1  \t [10. 10.]\t -300.0\t -56.66743785259343\t -56.66743785259343\n",
            "\u001b[1m\u001b[92m2\u001b[0m\t \u001b[1m\u001b[92m[2.11155129 0.26933255]\u001b[0m\t \u001b[1m\u001b[92m-4.603728884330075\u001b[0m\t \u001b[1m\u001b[92m-4.603728884330075\u001b[0m\t \u001b[1m\u001b[92m-56.66743785259343\u001b[0m\n",
            "3  \t [8.50713746 1.33499849]\t -75.93582966295617\t -4.603728884330075\t -4.611012170127374\n",
            "4  \t [ 7.31105236 -3.79432586]\t -82.24530415903486\t -4.603728884330075\t -4.611012000524559\n",
            "5  \t [-7.55328158 -0.82551542]\t -58.415013996797406\t -4.603728884330075\t -4.6110119953097035\n",
            "6  \t [0.20663569 9.9051757 ]\t -196.2677094620948\t -4.603728884330075\t -4.611012085410749\n",
            "7  \t [-10.           9.58340885]\t -283.68345051667836\t -4.603728884330075\t -4.611010932137581\n",
            "8  \t [-2.5531916  1.000625 ]\t -8.521288148755588\t -4.603728884330075\t -4.610944384955654\n",
            "9  \t [-10.          -4.58478595]\t -142.04052444537683\t -4.603728884330075\t -4.611011252194053\n",
            "10 \t [ -1.69822016 -10.        ]\t -202.8839517208381\t -4.603728884330075\t -4.6106046075008855\n",
            "11 \t [-6.00992159 10.        ]\t -236.1191575406024\t -4.603728884330075\t -4.611011493174574\n",
            "12 \t [10.         -7.85342674]\t -223.352623063383\t -4.603728884330075\t -4.610046956598202\n",
            "13 \t [5.08407338 9.20394635]\t -195.27305908264094\t -4.603728884330075\t -4.6096814231656555\n",
            "14 \t [-10.           3.01630796]\t -118.19622736378622\t -4.603728884330075\t -4.608526453517073\n",
            "15 \t [-4.23886331 -3.87182686]\t -47.9500486306308\t -4.603728884330075\t -4.608339795654523\n",
            "16 \t [-1.62649194  5.31613148]\t -59.167983908210346\t -4.603728884330075\t -4.605074500313296\n",
            "17 \t [7.92835026 6.13637116]\t -138.16883982741493\t -4.603728884330075\t -4.611012170127374\n",
            "18 \t [-0.50112355 -1.64355865]\t -5.6536949128573015\t -4.603728884330075\t -4.566025702210229\n",
            "19 \t [ 3.24085034 -2.98417447]\t -28.313705461583623\t -4.603728884330075\t -4.59059423486224\n",
            "20 \t [-10. -10.]\t -300.0\t -4.603728884330075\t -4.5498903569527425\n"
          ]
        }
      ]
    },
    {
      "cell_type": "code",
      "metadata": {
        "colab": {
          "base_uri": "https://localhost:8080/"
        },
        "id": "JS8ejeQ2GCfi",
        "outputId": "34978d10-ec8c-4169-9fff-b5e376211cf7"
      },
      "source": [
        "### ESTIMATED GP EI GRADIENTS\n",
        "\n",
        "np.random.seed(run_num_11)\n",
        "surrogate_approx_11 = GaussianProcess(cov_func, optimize=opt)\n",
        "\n",
        "approx_11 = GPGO_multi(surrogate_approx_11, Acquisition(util_grad_approx), objfunc, param)\n",
        "approx_11.run(init_evals=n_init, max_iter=iters)\n"
      ],
      "execution_count": null,
      "outputs": [
        {
          "output_type": "stream",
          "name": "stdout",
          "text": [
            "Evaluation \t Proposed point \t  Current eval. \t  Best eval. \t         Max AcqFunc.\n",
            "init\t [-6.39460622 -9.61049517]\t -225.61422357508457\t -2.716881462565864\t    \n",
            "init\t [-0.73562947  4.49867858]\t -41.01736871863572\t -2.716881462565864\t    \n",
            "init\t [-1.59592791 -0.29145804]\t -2.716881462565864\t -2.716881462565864\t    \n",
            "init\t [-9.74438371 -0.25256785]\t -95.08059489374317\t -2.716881462565864\t    \n",
            "init\t [8.83613305 7.01590179]\t -176.5230030066306\t -2.716881462565864\t    \n",
            "1  \t [ 1.99086793 -8.88652641]\t -161.90425830617428\t -2.716881462565864\t -2.7971938189798036\n",
            "2  \t [ 4.79903036 -1.6267314 ]\t -28.32320242923278\t -2.716881462565864\t -2.7971938189798036\n",
            "3  \t [ 10. -10.]\t -300.0\t -2.716881462565864\t -2.797193818979336\n",
            "4  \t [-6.71764835  4.84176119]\t -92.01210223536636\t -2.716881462565864\t -2.7971924899071583\n",
            "5  \t [-2.65295416 -4.86020404]\t -54.28133238320795\t -2.716881462565864\t -2.7971928785483926\n",
            "6  \t [8.67395685 1.65576717]\t -80.72065735027714\t -2.716881462565864\t -2.797193818973821\n",
            "7  \t [-3.29272146 10.        ]\t -210.842014629504\t -2.716881462565864\t -2.7971934294141523\n",
            "8  \t [3.39874165 9.51835588]\t -192.74964222807242\t -2.716881462565864\t -2.797192452895996\n",
            "9  \t [10.         -4.01049942]\t -132.16821114225687\t -2.716881462565864\t -2.7971889576780415\n",
            "10 \t [-10.           9.75866978]\t -290.46327157251454\t -2.716881462565864\t -2.797192721754771\n",
            "11 \t [-10.          -5.55858073]\t -161.79563952530333\t -2.716881462565864\t -2.7971193146912365\n",
            "12 \t [3.89847041 3.80491466]\t -44.15282275241423\t -2.716881462565864\t -2.7971929737373302\n",
            "13 \t [ 5.37998892 -5.78497769]\t -95.87621440815623\t -2.716881462565864\t -2.797192808117518\n",
            "14 \t [-5.24011459 -0.9845062 ]\t -29.397305871414016\t -2.716881462565864\t -2.7941371149523855\n",
            "15 \t [ 1.30494825 -3.61694537]\t -27.867477576477427\t -2.716881462565864\t -2.787517138877237\n",
            "16 \t [1.43782299 0.61260101]\t -2.8178949226384935\t -2.716881462565864\t -2.7767358086282856\n",
            "17 \t [ -2.0910447 -10.       ]\t -204.37246792193957\t -2.716881462565864\t -2.7785136275421336\n",
            "18 \t [-3.65397294  2.24650008]\t -23.445043470383215\t -2.716881462565864\t -2.7366203593819654\n",
            "19 \t [-6.25164681 -4.53089016]\t -80.1410191916795\t -2.716881462565864\t -2.7074992639014592\n",
            "20 \t [  5.83418778 -10.        ]\t -234.03774702984583\t -2.716881462565864\t -2.7438645538732267\n"
          ]
        }
      ]
    },
    {
      "cell_type": "code",
      "metadata": {
        "colab": {
          "base_uri": "https://localhost:8080/"
        },
        "id": "DXwjUVZ4GCii",
        "outputId": "0259f09b-9984-48ee-ea52-419ff77f0c58"
      },
      "source": [
        "### ESTIMATED GP EI GRADIENTS\n",
        "\n",
        "np.random.seed(run_num_12)\n",
        "surrogate_approx_12 = GaussianProcess(cov_func, optimize=opt)\n",
        "\n",
        "approx_12 = GPGO_multi(surrogate_approx_12, Acquisition(util_grad_approx), objfunc, param)\n",
        "approx_12.run(init_evals=n_init, max_iter=iters)\n"
      ],
      "execution_count": null,
      "outputs": [
        {
          "output_type": "stream",
          "name": "stdout",
          "text": [
            "Evaluation \t Proposed point \t  Current eval. \t  Best eval. \t         Max AcqFunc.\n",
            "init\t [-6.91674315  4.80099393]\t -93.94042127407329\t -23.318590147261595\t    \n",
            "init\t [-4.7336997   0.67478787]\t -23.318590147261595\t -23.318590147261595\t    \n",
            "init\t [-9.70850075  8.37494016]\t -234.53423225249676\t -23.318590147261595\t    \n",
            "init\t [ 8.01429708 -9.33157145]\t -238.38540908259807\t -23.318590147261595\t    \n",
            "init\t [ 9.13898673 -7.25581357]\t -188.8147395776428\t -23.318590147261595\t    \n",
            "1  \t [4.66251955 4.05244711]\t -54.583743654491954\t -23.318590147261595\t -23.318590147261595\n",
            "2  \t [-3.75432006 -8.6025265 ]\t -162.1018436659056\t -23.318590147261595\t -23.318590147261595\n",
            "3  \t [ 1.18531109 -4.18637783]\t -36.45648099230573\t -23.318590147261595\t -23.318590123518973\n",
            "4  \t [10. 10.]\t -300.0\t -23.318590147261595\t -23.318590147261226\n",
            "5  \t [ 2.83533899 10.        ]\t -208.03914718063447\t -23.318590147261595\t -23.318590039080323\n",
            "6  \t [-10. -10.]\t -300.0\t -23.318590147261595\t -23.318590043963553\n",
            "7  \t [-9.64612869 -2.17170995]\t -102.48044690598128\t -23.318590147261595\t -23.318588980355862\n",
            "8  \t [-3.21780806 10.        ]\t -210.35428873359277\t -23.318590147261595\t -23.31858890714532\n",
            "9  \t [10.          0.83013787]\t -101.37825775395083\t -23.318590147261595\t -23.318590048385097\n",
            "10 \t [ 2.01463473 -9.99440189]\t -203.83489142656586\t -23.318590147261595\t -23.31858628498452\n",
            "11 \t [-0.90343244  4.55794341]\t -42.365886495272505\t -23.318590147261595\t -23.318578249550992\n",
            "12 \t [ 6.02056342 -2.64891577]\t -50.2806933968771\t -23.318590147261595\t -23.318482568128864\n",
            "\u001b[1m\u001b[92m13\u001b[0m\t \u001b[1m\u001b[92m[1.44722759 0.43259211]\u001b[0m\t \u001b[1m\u001b[92m-2.4687395727093024\u001b[0m\t \u001b[1m\u001b[92m-2.4687395727093024\u001b[0m\t \u001b[1m\u001b[92m-23.317682358841182\u001b[0m\n",
            "14 \t [-3.67184178 -3.67810824]\t -40.53938251099113\t -2.4687395727093024\t -2.5723082026216435\n",
            "15 \t [9.10851905 5.30335576]\t -139.2162838579449\t -2.4687395727093024\t -2.569864127734767\n",
            "16 \t [ 4.56428468 -6.41982342]\t -103.26096016302195\t -2.4687395727093024\t -2.5510575362795294\n",
            "17 \t [10.         -3.19364247]\t -120.39870445155327\t -2.4687395727093024\t -2.537929854106644\n",
            "\u001b[1m\u001b[92m18\u001b[0m\t \u001b[1m\u001b[92m[-1.21311095 -0.6265997 ]\u001b[0m\t \u001b[1m\u001b[92m-2.256892556058838\u001b[0m\t \u001b[1m\u001b[92m-2.256892556058838\u001b[0m\t \u001b[1m\u001b[92m-2.5360177083207245\u001b[0m\n",
            "19 \t [-7.49769107 -5.99658087]\t -128.1333357319754\t -2.256892556058838\t -2.378812655977267\n",
            "20 \t [4.13390289 0.41888555]\t -17.440083349765956\t -2.256892556058838\t -2.2968343119776407\n"
          ]
        }
      ]
    },
    {
      "cell_type": "code",
      "metadata": {
        "colab": {
          "base_uri": "https://localhost:8080/"
        },
        "id": "CphOPndPGClX",
        "outputId": "2a0b17a3-907c-463b-a201-525221084737"
      },
      "source": [
        "### ESTIMATED GP EI GRADIENTS\n",
        "\n",
        "np.random.seed(run_num_13)\n",
        "surrogate_approx_13 = GaussianProcess(cov_func, optimize=opt)\n",
        "\n",
        "approx_13 = GPGO_multi(surrogate_approx_13, Acquisition(util_grad_approx), objfunc, param)\n",
        "approx_13.run(init_evals=n_init, max_iter=iters)\n"
      ],
      "execution_count": null,
      "outputs": [
        {
          "output_type": "stream",
          "name": "stdout",
          "text": [
            "Evaluation \t Proposed point \t  Current eval. \t  Best eval. \t         Max AcqFunc.\n",
            "init\t [ 5.55404821 -5.2491756 ]\t -85.95514048001408\t -47.45541115581226\t    \n",
            "init\t [6.48557065 9.31498396]\t -215.600479080162\t -47.45541115581226\t    \n",
            "init\t [ 9.45202228 -0.93101505]\t -91.0743031984701\t -47.45541115581226\t    \n",
            "init\t [2.18084926 5.51053029]\t -65.48799167425372\t -47.45541115581226\t    \n",
            "init\t [2.8322669  4.44036459]\t -47.45541115581226\t -47.45541115581226\t    \n",
            "1  \t [-8.69830926  2.59657998]\t -89.14503917528086\t -47.45541115581226\t -47.45541115581226\n",
            "2  \t [-5.9673185  -6.48540274]\t -119.72978734259729\t -47.45541115581226\t -47.45541115581226\n",
            "3  \t [  0.08552322 -10.        ]\t -200.0073142220086\t -47.45541115581226\t -47.455411154261\n",
            "4  \t [-10.  10.]\t -300.0\t -47.45541115581226\t -47.45541115578831\n",
            "\u001b[1m\u001b[92m5\u001b[0m\t \u001b[1m\u001b[92m[ 0.01120601 -1.79277298]\u001b[0m\t \u001b[1m\u001b[92m-6.428195520869893\u001b[0m\t \u001b[1m\u001b[92m-6.428195520869893\u001b[0m\t \u001b[1m\u001b[92m-47.4554111313005\u001b[0m\n",
            "6  \t [-4.23807502  7.90243497]\t -142.85823662231138\t -6.428195520869893\t -6.428546078051912\n",
            "7  \t [ 10. -10.]\t -300.0\t -6.428195520869893\t -6.42854708008542\n",
            "8  \t [10.          4.72334821]\t -144.62003661634859\t -6.428195520869893\t -6.428536719907848\n",
            "9  \t [-2.9927451   2.30727759]\t -19.603582996483016\t -6.428195520869893\t -6.428530002057607\n",
            "10 \t [-10.          -2.74071616]\t -115.02305010351395\t -6.428195520869893\t -6.428518792800254\n",
            "11 \t [-10. -10.]\t -300.0\t -6.428195520869893\t -6.428510527854074\n",
            "12 \t [ 4.35402868 -0.21227378]\t -19.047686095561108\t -6.428195520869893\t -6.428221062600451\n",
            "13 \t [ 0.49678126 10.        ]\t -200.24679161838907\t -6.428195520869893\t -6.428145219534032\n",
            "14 \t [-5.00276357 -1.67847808]\t -30.662220691286095\t -6.428195520869893\t -6.427585069689827\n",
            "15 \t [-1.34777383 -5.44603487]\t -61.13508592821937\t -6.428195520869893\t -6.424985749257504\n",
            "16 \t [  4.99037763 -10.        ]\t -224.90386889844757\t -6.428195520869893\t -6.4269580040490055\n",
            "17 \t [10.         -5.31127348]\t -156.41925205506354\t -6.428195520869893\t -6.421166260473044\n",
            "18 \t [ -4.19126626 -10.        ]\t -217.5667128494929\t -6.428195520869893\t -6.392177910368596\n",
            "19 \t [6.37882843 2.77672456]\t -56.109850603787564\t -6.428195520869893\t -6.390544092883081\n",
            "20 \t [-7.9826363   6.33834277]\t -144.07166048499954\t -6.428195520869893\t -6.3541500603799115\n"
          ]
        }
      ]
    },
    {
      "cell_type": "code",
      "metadata": {
        "colab": {
          "base_uri": "https://localhost:8080/"
        },
        "id": "ojHTeARNGCoi",
        "outputId": "bcdd538f-ee4c-491c-ba47-f3d4c7db77d0"
      },
      "source": [
        "### ESTIMATED GP EI GRADIENTS\n",
        "\n",
        "np.random.seed(run_num_14)\n",
        "surrogate_approx_14 = GaussianProcess(cov_func, optimize=opt)\n",
        "\n",
        "approx_14 = GPGO_multi(surrogate_approx_14, Acquisition(util_grad_approx), objfunc, param)\n",
        "approx_14.run(init_evals=n_init, max_iter=iters)\n"
      ],
      "execution_count": null,
      "outputs": [
        {
          "output_type": "stream",
          "name": "stdout",
          "text": [
            "Evaluation \t Proposed point \t  Current eval. \t  Best eval. \t         Max AcqFunc.\n",
            "init\t [0.27886688 5.46330104]\t -59.77308327621332\t -26.48525945153859\t    \n",
            "init\t [ 7.40855371 -9.83906103]\t -248.5009120212351\t -26.48525945153859\t    \n",
            "init\t [-3.80528149  9.15207479]\t -182.0011130426615\t -26.48525945153859\t    \n",
            "init\t [ 0.26233425 -3.6343115 ]\t -26.48525945153859\t -26.48525945153859\t    \n",
            "init\t [ 0.78399875 -5.57490115]\t -62.773699734431055\t -26.48525945153859\t    \n",
            "1  \t [ 9.82765998 -0.95725402]\t -98.41557117870066\t -26.48525945153859\t -26.48525945153859\n",
            "2  \t [-8.1477833   0.47898709]\t -66.84523003287876\t -26.48525945153859\t -26.48525945153859\n",
            "3  \t [ -7.18460402 -10.        ]\t -251.61853499539058\t -26.48525945153859\t -26.48525945153859\n",
            "4  \t [10.          9.25482849]\t -271.3037008127159\t -26.48525945153859\t -26.48525945153859\n",
            "5  \t [-10.  10.]\t -300.0\t -26.48525945153859\t -26.48525915642093\n",
            "\u001b[1m\u001b[92m6\u001b[0m\t \u001b[1m\u001b[92m[3.93552436 0.90552567]\u001b[0m\t \u001b[1m\u001b[92m-17.128305452787583\u001b[0m\t \u001b[1m\u001b[92m-17.128305452787583\u001b[0m\t \u001b[1m\u001b[92m-26.485257608404424\u001b[0m\n",
            "7  \t [ 3.75097782 10.        ]\t -214.06983463902367\t -17.128305452787583\t -17.12830266652847\n",
            "8  \t [-10.          -4.85205139]\t -147.08480546193425\t -17.128305452787583\t -17.12829719462984\n",
            "9  \t [8.07494064 4.08030743]\t -98.50248373686033\t -17.128305452787583\t -17.128229596705566\n",
            "\u001b[1m\u001b[92m10\u001b[0m\t \u001b[1m\u001b[92m[-2.65700209  0.81845566]\u001b[0m\t \u001b[1m\u001b[92m-8.399399449963648\u001b[0m\t \u001b[1m\u001b[92m-8.399399449963648\u001b[0m\t \u001b[1m\u001b[92m-17.12828036689154\u001b[0m\n",
            "11 \t [-4.62908341 -4.82741089]\t -68.03620505597543\t -8.399399449963648\t -8.39931251702466\n",
            "12 \t [ 5.8816756  -4.46726148]\t -74.506958037266\t -8.399399449963648\t -8.399301482139878\n",
            "13 \t [-7.38165187  5.34704555]\t -111.67057638489499\t -8.399399449963648\t -8.399021219908597\n",
            "14 \t [  2.21556956 -10.        ]\t -204.9087484554286\t -8.399399449963648\t -8.398618783341588\n",
            "15 \t [-2.46588101 -9.15409114]\t -173.67533837239114\t -8.399399449963648\t -8.396331481539008\n",
            "16 \t [10.         -5.83671004]\t -168.13436813263382\t -8.399399449963648\t -8.394613359482877\n",
            "17 \t [4.25774341 5.52318802]\t -79.13959064695538\t -8.399399449963648\t -8.372221731862888\n",
            "18 \t [-3.46619853  4.20635464]\t -47.401370996760434\t -8.399399449963648\t -8.363378423560718\n",
            "\u001b[1m\u001b[92m19\u001b[0m\t \u001b[1m\u001b[92m[0.53389986 0.18491686]\u001b[0m\t \u001b[1m\u001b[92m-0.3534375557853193\u001b[0m\t \u001b[1m\u001b[92m-0.3534375557853193\u001b[0m\t \u001b[1m\u001b[92m-8.35073766394968\u001b[0m\n",
            "20 \t [0.54244514 1.81834481]\t -6.907002430342478\t -0.3534375557853193\t -0.9179289291512559\n"
          ]
        }
      ]
    },
    {
      "cell_type": "code",
      "metadata": {
        "colab": {
          "base_uri": "https://localhost:8080/"
        },
        "id": "vCJzn4vWGCs3",
        "outputId": "841c95a9-8493-4525-faf4-9b879f28df32"
      },
      "source": [
        "### ESTIMATED GP EI GRADIENTS\n",
        "\n",
        "np.random.seed(run_num_15)\n",
        "surrogate_approx_15 = GaussianProcess(cov_func, optimize=opt)\n",
        "\n",
        "approx_15 = GPGO_multi(surrogate_approx_15, Acquisition(util_grad_approx), objfunc, param)\n",
        "approx_15.run(init_evals=n_init, max_iter=iters)\n"
      ],
      "execution_count": null,
      "outputs": [
        {
          "output_type": "stream",
          "name": "stdout",
          "text": [
            "Evaluation \t Proposed point \t  Current eval. \t  Best eval. \t         Max AcqFunc.\n",
            "init\t [ 6.97635395 -6.4220815 ]\t -131.15577599697437\t -20.897907943365695\t    \n",
            "init\t [-8.91273571 -2.76923108]\t -94.77413943464936\t -20.897907943365695\t    \n",
            "init\t [-4.49198143  0.6000045 ]\t -20.897907943365695\t -20.897907943365695\t    \n",
            "init\t [-3.88162169 -3.91051282]\t -45.651207890195394\t -20.897907943365695\t    \n",
            "init\t [-7.76517448 -5.00201972]\t -110.33833725681367\t -20.897907943365695\t    \n",
            "1  \t [-1.08003705  9.49213271]\t -181.3676469637466\t -20.897907943365695\t -20.897907943365695\n",
            "2  \t [-9.69991687  7.99454818]\t -221.91398842692476\t -20.897907943365695\t -20.89790794336569\n",
            "3  \t [6.77579855 5.22553342]\t -100.52384513514872\t -20.897907943365695\t -20.897907943365695\n",
            "\u001b[1m\u001b[92m4\u001b[0m\t \u001b[1m\u001b[92m[ 2.46902528 -0.89638552]\u001b[0m\t \u001b[1m\u001b[92m-7.7030998277605995\u001b[0m\t \u001b[1m\u001b[92m-7.7030998277605995\u001b[0m\t \u001b[1m\u001b[92m-20.897907942208843\u001b[0m\n",
            "5  \t [-3.242481 -9.762867]\t -201.14082735791527\t -7.7030998277605995\t -7.70312644183338\n",
            "6  \t [ 8.91031271 -0.30844092]\t -79.58394412611301\t -7.7030998277605995\t -7.70312591156992\n",
            "7  \t [0.14773612 3.77329305]\t -28.49730683528925\t -7.7030998277605995\t -7.703117534617115\n",
            "8  \t [  2.56055609 -10.        ]\t -206.55644751146008\t -7.7030998277605995\t -7.703116034259632\n",
            "9  \t [10. 10.]\t -300.0\t -7.7030998277605995\t -7.7031240268458925\n",
            "10 \t [-10. -10.]\t -300.0\t -7.7030998277605995\t -7.703110346420898\n",
            "11 \t [-10.           2.47604224]\t -112.26157032625254\t -7.7030998277605995\t -7.703073668938516\n",
            "12 \t [-4.83168837  5.56711275]\t -85.33070122326319\t -7.7030998277605995\t -7.70299374151841\n",
            "13 \t [ 4.34997553 10.        ]\t -218.92228715441007\t -7.7030998277605995\t -7.703048314266516\n",
            "14 \t [ 0.91837692 -5.105338  ]\t -52.97236833775483\t -7.7030998277605995\t -7.702682580167617\n",
            "15 \t [-5.6081284 10.       ]\t -231.45110414566506\t -7.7030998277605995\t -7.695170714577707\n",
            "16 \t [ 10. -10.]\t -300.0\t -7.7030998277605995\t -7.702000812137993\n",
            "\u001b[1m\u001b[92m17\u001b[0m\t \u001b[1m\u001b[92m[-0.97845168 -0.84027789]\u001b[0m\t \u001b[1m\u001b[92m-2.3695015423710775\u001b[0m\t \u001b[1m\u001b[92m-2.3695015423710775\u001b[0m\t \u001b[1m\u001b[92m-7.681608353925178\u001b[0m\n",
            "18 \t [3.96254463 2.18842718]\t -25.28018699401745\t -2.3695015423710775\t -2.464836494837376\n",
            "19 \t [ 5.40029325 -2.53329588]\t -41.99834321800934\t -2.3695015423710775\t -2.4582308727916575\n",
            "20 \t [2.72245298 6.19998682]\t -84.29142334257205\t -2.3695015423710775\t -2.433236849281593\n"
          ]
        }
      ]
    },
    {
      "cell_type": "code",
      "metadata": {
        "colab": {
          "base_uri": "https://localhost:8080/"
        },
        "id": "bGGkhp-kGCw6",
        "outputId": "d76c267b-5281-438b-9a97-46af31244487"
      },
      "source": [
        "### ESTIMATED GP EI GRADIENTS\n",
        "\n",
        "np.random.seed(run_num_16)\n",
        "surrogate_approx_16 = GaussianProcess(cov_func, optimize=opt)\n",
        "\n",
        "approx_16 = GPGO_multi(surrogate_approx_16, Acquisition(util_grad_approx), objfunc, param)\n",
        "approx_16.run(init_evals=n_init, max_iter=iters)\n"
      ],
      "execution_count": null,
      "outputs": [
        {
          "output_type": "stream",
          "name": "stdout",
          "text": [
            "Evaluation \t Proposed point \t  Current eval. \t  Best eval. \t         Max AcqFunc.\n",
            "init\t [-5.53417842  0.46326683]\t -31.056363058280656\t -31.056363058280656\t    \n",
            "init\t [ 1.01402913 -9.087961  ]\t -166.21032525826828\t -31.056363058280656\t    \n",
            "init\t [-2.78542329 -5.53838117]\t -69.10591480510183\t -31.056363058280656\t    \n",
            "init\t [ 3.77452324 -6.7253715 ]\t -104.70826928786903\t -31.056363058280656\t    \n",
            "init\t [-8.59350266  8.8202172 ]\t -229.44075111810224\t -31.056363058280656\t    \n",
            "1  \t [3.97807748 9.58934138]\t -199.7360368183673\t -31.056363058280656\t -31.056363058280656\n",
            "2  \t [-10. -10.]\t -300.0\t -31.056363058280656\t -31.05636305828065\n",
            "3  \t [ 10. -10.]\t -300.0\t -31.056363058280656\t -31.05636305733857\n",
            "4  \t [ 8.8300141  -0.10570929]\t -77.99149800000582\t -31.056363058280656\t -31.05636305828061\n",
            "5  \t [-2.22531694  5.42968011]\t -63.91488757640133\t -31.056363058280656\t -31.056363058280656\n",
            "6  \t [10.          9.06367121]\t -264.3002714457817\t -31.056363058280656\t -31.056361897120002\n",
            "7  \t [3.59831847 3.26649101]\t -34.287822884607664\t -31.056363058280656\t -31.056362580910466\n",
            "8  \t [-8.80462948 -4.08195164]\t -110.8461586030564\t -31.056363058280656\t -31.056358661060628\n",
            "\u001b[1m\u001b[92m9\u001b[0m\t \u001b[1m\u001b[92m[ 1.11818902 -1.55861194]\u001b[0m\t \u001b[1m\u001b[92m-6.108889056722611\u001b[0m\t \u001b[1m\u001b[92m-6.108889056722611\u001b[0m\t \u001b[1m\u001b[92m-31.056347472196418\u001b[0m\n",
            "10 \t [-10.           3.23646336]\t -120.94939021307559\t -6.108889056722611\t -6.109496105266844\n",
            "11 \t [ -4.67397017 -10.        ]\t -221.84599713529047\t -6.108889056722611\t -6.109133897891596\n",
            "12 \t [10.         -4.83878047]\t -146.8275929091181\t -6.108889056722611\t -6.109004260348726\n",
            "13 \t [-1.24717813 10.        ]\t -201.55545329018156\t -6.108889056722611\t -6.108834585376815\n",
            "14 \t [8.02884543 4.54596087]\t -105.79387944795678\t -6.108889056722611\t -6.107840688625904\n",
            "15 \t [ 4.93367817 -2.25102916]\t -34.47544477466453\t -6.108889056722611\t -6.104684343427666\n",
            "\u001b[1m\u001b[92m16\u001b[0m\t \u001b[1m\u001b[92m[-1.30338209  1.19368681]\u001b[0m\t \u001b[1m\u001b[92m-4.548581261481097\u001b[0m\t \u001b[1m\u001b[92m-4.548581261481097\u001b[0m\t \u001b[1m\u001b[92m-6.1016392334996485\u001b[0m\n",
            "17 \t [-6.18297049  4.94656516]\t -87.16613785598682\t -4.548581261481097\t -4.531857523723514\n",
            "18 \t [-2.40089835 -1.70348696]\t -11.568048525343977\t -4.548581261481097\t -4.5007585004790664\n",
            "19 \t [1.488023   6.30009601]\t -81.59663202788668\t -4.548581261481097\t -4.49382929355869\n",
            "20 \t [  5.74078964 -10.        ]\t -232.9566656773152\t -4.548581261481097\t -4.503570643239946\n"
          ]
        }
      ]
    },
    {
      "cell_type": "code",
      "metadata": {
        "id": "Yrs2mp7hGC1Z",
        "colab": {
          "base_uri": "https://localhost:8080/"
        },
        "outputId": "91d01d4b-9c33-4daa-cd3e-58a9f9bdf682"
      },
      "source": [
        "### ESTIMATED GP EI GRADIENTS\n",
        "\n",
        "np.random.seed(run_num_17)\n",
        "surrogate_approx_17 = GaussianProcess(cov_func, optimize=opt)\n",
        "\n",
        "approx_17 = GPGO_multi(surrogate_approx_17, Acquisition(util_grad_approx), objfunc, param)\n",
        "approx_17.run(init_evals=n_init, max_iter=iters)\n"
      ],
      "execution_count": null,
      "outputs": [
        {
          "output_type": "stream",
          "name": "stdout",
          "text": [
            "Evaluation \t Proposed point \t  Current eval. \t  Best eval. \t         Max AcqFunc.\n",
            "init\t [-4.10669995  0.61173511]\t -17.613424143360255\t -12.137436774523842\t    \n",
            "init\t [-6.16958426 -8.64199284]\t -187.43185031516856\t -12.137436774523842\t    \n",
            "init\t [5.7397092  3.12667044]\t -52.49639772521824\t -12.137436774523842\t    \n",
            "init\t [2.75041792 1.51205788]\t -12.137436774523842\t -12.137436774523842\t    \n",
            "init\t [-9.21874168 -2.84372791]\t -101.1587749488933\t -12.137436774523842\t    \n",
            "1  \t [ 9.93745831 -5.20505887]\t -152.93835326221776\t -12.137436774523842\t -12.137436774726078\n",
            "2  \t [-3.82122471  9.33260309]\t -188.79671899962287\t -12.137436774523842\t -12.137436774726078\n",
            "3  \t [ 1.66132937 -6.85580915]\t -96.76425352595389\t -12.137436774523842\t -12.137436774725131\n",
            "4  \t [10.          7.55919555]\t -214.282874639876\t -12.137436774523842\t -12.137436612039236\n",
            "5  \t [3.20439915 9.54064132]\t -192.31584760495312\t -12.137436774523842\t -12.137436770317679\n",
            "6  \t [-9.58803875  7.45814352]\t -203.17829655686515\t -12.137436774523842\t -12.13743579632656\n",
            "7  \t [  6.65147276 -10.        ]\t -244.24208981902967\t -12.137436774523842\t -12.13743190590599\n",
            "8  \t [0.59497739 5.1282014 ]\t -52.950897275473906\t -12.137436774523842\t -12.137436774725735\n",
            "9  \t [10.          0.25813813]\t -100.1332705930515\t -12.137436774523842\t -12.137362484891902\n",
            "10 \t [-2.96655514 -4.19523671]\t -44.00047159451206\t -12.137436774523842\t -12.137332966129955\n",
            "11 \t [ 5.12815887 -2.74640128]\t -41.38345338477451\t -12.137436774523842\t -12.137330137906728\n",
            "12 \t [-10.           2.21468911]\t -109.80969575014404\t -12.137436774523842\t -12.137233200572524\n",
            "13 \t [-5.43714607  4.69827538]\t -73.71014041924369\t -12.137436774523842\t -12.13553776930159\n",
            "14 \t [ -1.61410047 -10.        ]\t -202.60532031443785\t -12.137436774523842\t -12.134659261208894\n",
            "\u001b[1m\u001b[92m15\u001b[0m\t \u001b[1m\u001b[92m[ 0.70866161 -1.9581815 ]\u001b[0m\t \u001b[1m\u001b[92m-8.171150807961178\u001b[0m\t \u001b[1m\u001b[92m-8.171150807961178\u001b[0m\t \u001b[1m\u001b[92m-12.132452624510508\u001b[0m\n",
            "\u001b[1m\u001b[92m16\u001b[0m\t \u001b[1m\u001b[92m[-0.71296565  1.35053578]\u001b[0m\t \u001b[1m\u001b[92m-4.156213791773137\u001b[0m\t \u001b[1m\u001b[92m-4.156213791773137\u001b[0m\t \u001b[1m\u001b[92m-8.120035851987767\u001b[0m\n",
            "17 \t [-10.          -6.49453025]\t -184.35784636648452\t -4.156213791773137\t -4.169953422287314\n",
            "18 \t [6.02595813 6.75502572]\t -127.57291646638858\t -4.156213791773137\t -4.071167967591748\n",
            "19 \t [ 5.71911529 -6.14645843]\t -108.26618227225839\t -4.156213791773137\t -4.054815841252968\n",
            "20 \t [10.          3.79633534]\t -128.82432397338175\t -4.156213791773137\t -3.9852865213137822\n"
          ]
        }
      ]
    },
    {
      "cell_type": "code",
      "metadata": {
        "id": "f0HIEP3PIUEa",
        "colab": {
          "base_uri": "https://localhost:8080/"
        },
        "outputId": "a5f072cd-28bc-44d9-d36f-4de81a13c816"
      },
      "source": [
        "### ESTIMATED GP EI GRADIENTS\n",
        "\n",
        "np.random.seed(run_num_18)\n",
        "surrogate_approx_18 = GaussianProcess(cov_func, optimize=opt)\n",
        "\n",
        "approx_18 = GPGO_multi(surrogate_approx_18, Acquisition(util_grad_approx), objfunc, param)\n",
        "approx_18.run(init_evals=n_init, max_iter=iters)\n"
      ],
      "execution_count": null,
      "outputs": [
        {
          "output_type": "stream",
          "name": "stdout",
          "text": [
            "Evaluation \t Proposed point \t  Current eval. \t  Best eval. \t         Max AcqFunc.\n",
            "init\t [3.00748483 0.10906747]\t -9.068756459576363\t -9.068756459576363\t    \n",
            "init\t [ 7.57202942 -6.36319549]\t -138.3161432668939\t -9.068756459576363\t    \n",
            "init\t [7.04466137 5.00272572]\t -99.6817831686958\t -9.068756459576363\t    \n",
            "init\t [3.32203335 9.75790897]\t -201.4694803352836\t -9.068756459576363\t    \n",
            "init\t [-4.86063155 -9.43388149]\t -201.6219791510955\t -9.068756459576363\t    \n",
            "1  \t [-6.1664519   4.28513481]\t -74.74988979878172\t -9.068756459576363\t -9.068757632343194\n",
            "2  \t [-6.07110106 -2.27098711]\t -47.173032968123124\t -9.068756459576363\t -9.068757631067125\n",
            "3  \t [-10.  10.]\t -300.0\t -9.068756459576363\t -9.068757632343194\n",
            "4  \t [-2.33775535  8.28880862]\t -142.8737966101193\t -9.068756459576363\t -9.068757555603298\n",
            "5  \t [ 4.59940623 -9.59713586]\t -205.36457092968183\t -9.068756459576363\t -9.068757632343194\n",
            "6  \t [-0.77788299 -4.73427196]\t -45.431763852455845\t -9.068756459576363\t -9.068756281092632\n",
            "7  \t [10. 10.]\t -300.0\t -9.068756459576363\t -9.068755222887786\n",
            "8  \t [ 9.48968703 -0.30330646]\t -90.23814953204177\t -9.068756459576363\t -9.068755581029002\n",
            "9  \t [-10.          -6.28129572]\t -178.90935181639236\t -9.068756459576363\t -9.068752968443299\n",
            "\u001b[1m\u001b[92m10\u001b[0m\t \u001b[1m\u001b[92m[-1.8150177   1.10450276]\u001b[0m\t \u001b[1m\u001b[92m-5.734141920432893\u001b[0m\t \u001b[1m\u001b[92m-5.734141920432893\u001b[0m\t \u001b[1m\u001b[92m-9.068704890807851\u001b[0m\n",
            "11 \t [-10.           0.86675761]\t -101.50253749681444\t -5.734141920432893\t -5.735208951472418\n",
            "12 \t [1.55961268 4.61251488]\t -44.98297870570375\t -5.734141920432893\t -5.7351786522049775\n",
            "13 \t [ 3.60484529 -3.9354396 ]\t -43.970279264309994\t -5.734141920432893\t -5.731789895071895\n",
            "14 \t [ -9.05867374 -10.        ]\t -282.0595698415638\t -5.734141920432893\t -5.665656265582608\n",
            "15 \t [-5.99047409  9.73183458]\t -225.30298859781234\t -5.734141920432893\t -5.735354812926\n",
            "16 \t [ 10. -10.]\t -300.0\t -5.734141920432893\t -5.7304495827373385\n",
            "17 \t [ -0.14119625 -10.        ]\t -200.0199363815411\t -5.734141920432893\t -5.73284309614077\n",
            "18 \t [5.90779197 1.21528123]\t -37.85582295909994\t -5.734141920432893\t -5.655526504245457\n",
            "19 \t [-2.23963281  4.17974336]\t -39.95646424138554\t -5.734141920432893\t -5.665335739002593\n",
            "20 \t [-9.74695034  5.53052038]\t -156.17635227665565\t -5.734141920432893\t -5.735354474822022\n"
          ]
        }
      ]
    },
    {
      "cell_type": "code",
      "metadata": {
        "id": "S3mxRQDLIUPC",
        "colab": {
          "base_uri": "https://localhost:8080/"
        },
        "outputId": "8829c21b-edc3-4a83-ffea-e994262c2a54"
      },
      "source": [
        "### ESTIMATED GP EI GRADIENTS\n",
        "\n",
        "np.random.seed(run_num_19)\n",
        "surrogate_approx_19 = GaussianProcess(cov_func, optimize=opt)\n",
        "\n",
        "approx_19 = GPGO_multi(surrogate_approx_19, Acquisition(util_grad_approx), objfunc, param)\n",
        "approx_19.run(init_evals=n_init, max_iter=iters)\n"
      ],
      "execution_count": null,
      "outputs": [
        {
          "output_type": "stream",
          "name": "stdout",
          "text": [
            "Evaluation \t Proposed point \t  Current eval. \t  Best eval. \t         Max AcqFunc.\n",
            "init\t [-8.04932797  5.22499433]\t -119.39281225846176\t -87.03025225125222\t    \n",
            "init\t [-5.06124054 -7.23736625]\t -130.3750962570555\t -87.03025225125222\t    \n",
            "init\t [-3.37106873 -8.3400087 ]\t -150.4755946408245\t -87.03025225125222\t    \n",
            "init\t [3.43954163 6.13187596]\t -87.03025225125222\t -87.03025225125222\t    \n",
            "init\t [9.65483829 2.7132147 ]\t -107.93897039562282\t -87.03025225125222\t    \n",
            "1  \t [ 10. -10.]\t -300.0\t -87.03025225125222\t -87.03025225125222\n",
            "\u001b[1m\u001b[92m2\u001b[0m\t \u001b[1m\u001b[92m[ 4.81772344 -2.77685984]\u001b[0m\t \u001b[1m\u001b[92m-38.632360201328204\u001b[0m\t \u001b[1m\u001b[92m-38.632360201328204\u001b[0m\t \u001b[1m\u001b[92m-87.03025225112447\u001b[0m\n",
            "3  \t [10. 10.]\t -300.0\t -38.632360201328204\t -38.63236020116705\n",
            "4  \t [-9.64931371 -1.76781368]\t -99.35958538505903\t -38.632360201328204\t -38.632360200409984\n",
            "\u001b[1m\u001b[92m5\u001b[0m\t \u001b[1m\u001b[92m[-1.5588856  -0.21683274]\u001b[0m\t \u001b[1m\u001b[92m-2.524157178764308\u001b[0m\t \u001b[1m\u001b[92m-2.524157178764308\u001b[0m\t \u001b[1m\u001b[92m-38.632360200245344\u001b[0m\n",
            "6  \t [-2.2233185   8.40664734]\t -146.2865841157912\t -2.524157178764308\t -2.6228049393869335\n",
            "7  \t [ 2.6329587  -8.75723308]\t -160.31073385623222\t -2.524157178764308\t -2.6228043747468592\n",
            "8  \t [-10. -10.]\t -300.0\t -2.524157178764308\t -2.6227992321895335\n",
            "9  \t [-0.06294001 -4.2260638 ]\t -35.723191887677444\t -2.524157178764308\t -2.622520061028418\n",
            "10 \t [10.         -3.99071098]\t -131.8515481797443\t -2.524157178764308\t -2.6227911147764615\n",
            "11 \t [2.34077536 1.32689154]\t -9.000511599391295\t -2.524157178764308\t -2.6222495071166665\n",
            "12 \t [-7.21306942 10.        ]\t -252.02837052690163\t -2.524157178764308\t -2.6223107717173066\n",
            "13 \t [-3.31177182  3.44720717]\t -34.73430706880057\t -2.524157178764308\t -2.6221968186971\n",
            "14 \t [-4.85792935 -2.29928741]\t -34.172922763593014\t -2.524157178764308\t -2.621550664441387\n",
            "15 \t [ 6.57136177 -6.76598867]\t -134.74000086890572\t -2.524157178764308\t -2.611731879485397\n",
            "16 \t [ 1.98422136 10.        ]\t -203.93713440240649\t -2.524157178764308\t -2.6125481840433293\n",
            "17 \t [5.81842067 1.18804412]\t -36.67691674536001\t -2.524157178764308\t -2.599695918010873\n",
            "18 \t [-6.66315609  1.22770257]\t -47.41215627297567\t -2.524157178764308\t -2.5992835704165262\n",
            "19 \t [7.54067594 6.33129215]\t -137.0323142060074\t -2.524157178764308\t -2.5990656014392903\n",
            "20 \t [-9.16361961 -5.75654015]\t -150.24743322543068\t -2.524157178764308\t -2.593285903436948\n"
          ]
        }
      ]
    },
    {
      "cell_type": "code",
      "metadata": {
        "id": "Aawd59dRIUYn",
        "colab": {
          "base_uri": "https://localhost:8080/"
        },
        "outputId": "4fef989b-39b9-414f-8eb6-d9df538e5d44"
      },
      "source": [
        "### ESTIMATED GP EI GRADIENTS\n",
        "\n",
        "np.random.seed(run_num_20)\n",
        "surrogate_approx_20 = GaussianProcess(cov_func, optimize=opt)\n",
        "\n",
        "approx_20 = GPGO_multi(surrogate_approx_20, Acquisition(util_grad_approx), objfunc, param)\n",
        "approx_20.run(init_evals=n_init, max_iter=iters)\n"
      ],
      "execution_count": null,
      "outputs": [
        {
          "output_type": "stream",
          "name": "stdout",
          "text": [
            "Evaluation \t Proposed point \t  Current eval. \t  Best eval. \t         Max AcqFunc.\n",
            "init\t [1.76261602 7.95427456]\t -129.64778273349407\t -6.161449614183514\t    \n",
            "init\t [7.83061459 6.31674955]\t -141.12117450686426\t -6.161449614183514\t    \n",
            "init\t [-9.28220829  3.83515164]\t -115.57616682517047\t -6.161449614183514\t    \n",
            "init\t [-2.42638116  0.37021891]\t -6.161449614183514\t -6.161449614183514\t    \n",
            "init\t [ 3.15902931 -6.12299564]\t -84.96161746112533\t -6.161449614183514\t    \n",
            "1  \t [-4.19925206 -9.25460107]\t -188.9289997061697\t -6.161449614183514\t -6.1620226529505215\n",
            "2  \t [-8.81345145 -4.04676534]\t -110.42954584971525\t -6.161449614183514\t -6.162022652794761\n",
            "3  \t [-4.56172279  9.14761084]\t -188.16688311626407\t -6.161449614183514\t -6.162022595500763\n",
            "4  \t [ 9.03563127 -5.57761678]\t -143.86225043765864\t -6.161449614183514\t -6.1620226529505215\n",
            "5  \t [9.73284756 0.68872827]\t -95.67701492801461\t -6.161449614183514\t -6.162020956728416\n",
            "6  \t [ -9.99559749 -10.        ]\t -299.91196917745094\t -6.161449614183514\t -6.162021727965487\n",
            "7  \t [-9.96520731  9.21844176]\t -269.26469362094446\t -6.161449614183514\t -6.162021449491333\n",
            "8  \t [3.80949021 1.51641632]\t -19.111252576580913\t -6.161449614183514\t -6.162021607826354\n",
            "9  \t [-1.92047031 -4.31739308]\t -40.96797215064898\t -6.161449614183514\t -6.161920259906976\n",
            "10 \t [-3.62306278  4.2791475 ]\t -49.74879049631572\t -6.161449614183514\t -6.162021870488726\n",
            "11 \t [  0.6627124 -10.       ]\t -200.43918773059943\t -6.161449614183514\t -6.1604717632485135\n",
            "12 \t [  6.44581325 -10.        ]\t -241.54850839361836\t -6.161449614183514\t -6.1617706761889774\n",
            "13 \t [ 6.15543817 -2.07113842]\t -46.46864784344182\t -6.161449614183514\t -6.162018653652547\n",
            "14 \t [0.2936657  3.82957845]\t -29.417581723065705\t -6.161449614183514\t -6.162022028426468\n",
            "15 \t [-6.4337604   0.02855336]\t -41.3949034148673\t -6.161449614183514\t -6.159503764553995\n",
            "16 \t [ 1.44342782 -1.74355759]\t -8.163470040798419\t -6.161449614183514\t -6.155377218893323\n",
            "17 \t [ 5.65104355 10.        ]\t -231.93429319126625\t -6.161449614183514\t -6.150436599701454\n",
            "18 \t [-5.29126929 -5.36288772]\t -85.5186601714293\t -6.161449614183514\t -6.04795536516705\n",
            "19 \t [-10.          -0.19040397]\t -100.07250734662217\t -6.161449614183514\t -6.097490970075934\n",
            "20 \t [10. 10.]\t -300.0\t -6.161449614183514\t -6.1453783974672955\n"
          ]
        }
      ]
    },
    {
      "cell_type": "code",
      "metadata": {
        "id": "xkgzPRbBTHaq",
        "colab": {
          "base_uri": "https://localhost:8080/"
        },
        "outputId": "21d6bcb9-f3ac-4b1e-cea7-d4fb57d9d88f"
      },
      "source": [
        "end_approx = time.time()\n",
        "end_approx\n",
        "\n",
        "time_approx = end_approx - start_approx\n",
        "time_approx\n",
        "\n",
        "start_exact = time.time()\n",
        "start_exact"
      ],
      "execution_count": null,
      "outputs": [
        {
          "output_type": "execute_result",
          "data": {
            "text/plain": [
              "1649162524.9809966"
            ]
          },
          "metadata": {},
          "execution_count": 33
        }
      ]
    },
    {
      "cell_type": "code",
      "metadata": {
        "id": "7CG3Ndvb16Rb",
        "colab": {
          "base_uri": "https://localhost:8080/"
        },
        "outputId": "bfaa73ad-b8d2-4147-9149-5c139a63e89c"
      },
      "source": [
        "### EXACT GP EI GRADIENTS\n",
        "\n",
        "np.random.seed(run_num_1)\n",
        "surrogate_exact_1 = dGaussianProcess(cov_func, optimize=opt)\n",
        "\n",
        "exact_1 = dGPGO(surrogate_exact_1, Acquisition_new(util_grad_exact), objfunc, param)\n",
        "exact_1.run(init_evals=n_init, max_iter=iters)\n"
      ],
      "execution_count": null,
      "outputs": [
        {
          "output_type": "stream",
          "name": "stdout",
          "text": [
            "Evaluation \t Proposed point \t  Current eval. \t  Best eval. \t         Max AcqFunc.\n",
            "init\t [-1.65955991  4.40648987]\t -41.5884450098667\t -5.468172821636052\t    \n",
            "init\t [-9.9977125  -3.95334855]\t -131.21218477957908\t -5.468172821636052\t    \n",
            "init\t [-7.06488218 -8.1532281 ]\t -182.86281732102734\t -5.468172821636052\t    \n",
            "init\t [-6.27479577 -3.08878546]\t -58.4542532110911\t -5.468172821636052\t    \n",
            "init\t [-2.06465052  0.77633468]\t -5.468172821636052\t -5.468172821636052\t    \n",
            "1  \t [ 7.89213327 -8.29911577]\t -200.03641276683908\t -5.468172821636052\t -5.470068413241249\n",
            "2  \t [7.66612182 2.47344414]\t -71.00527566059496\t -5.468172821636052\t -5.470068413241249\n",
            "3  \t [1.62717855 9.40039978]\t -179.3827421328839\t -5.468172821636052\t -5.470068413241249\n",
            "4  \t [-9.56950389  8.95940422]\t -252.11725289788865\t -5.468172821636052\t -5.470068413241249\n",
            "5  \t [ 2.56152397 -4.28847437]\t -43.34342980630102\t -5.468172821636052\t -5.47006839142343\n",
            "6  \t [-7.86674599  2.6652697 ]\t -76.09301765139128\t -5.468172821636052\t -5.470067765719835\n",
            "7  \t [  1.7520112 -10.       ]\t -203.0695432281605\t -5.468172821636052\t -5.470066976563561\n",
            "8  \t [ 7.63227824 10.        ]\t -258.2516711392374\t -5.468172821636052\t -5.470067309840307\n",
            "9  \t [-3.94391545  9.7746777 ]\t -206.64311729509004\t -5.468172821636052\t -5.470040287945995\n",
            "10 \t [10.         -2.73214576]\t -114.9292409003368\t -5.468172821636052\t -5.470063365707425\n",
            "11 \t [2.59748279 2.11594981]\t -15.701404073086259\t -5.468172821636052\t -5.469785131980345\n",
            "12 \t [-1.98896471 -6.91640767]\t -99.62937071579132\t -5.468172821636052\t -5.4691396466471165\n",
            "13 \t [ 5.50167143 -1.29557014]\t -33.62539248396942\t -5.468172821636052\t -5.462850186948149\n",
            "14 \t [10.          6.08875264]\t -174.14581738874142\t -5.468172821636052\t -5.462977686695847\n",
            "15 \t [4.50311384 5.97556456]\t -91.69277780704343\t -5.468172821636052\t -5.464435622865386\n",
            "\u001b[1m\u001b[92m16\u001b[0m\t \u001b[1m\u001b[92m[ 0.85378836 -1.08613714]\u001b[0m\t \u001b[1m\u001b[92m-3.0883423221235793\u001b[0m\t \u001b[1m\u001b[92m-3.0883423221235793\u001b[0m\t \u001b[1m\u001b[92m-5.423002392186903\u001b[0m\n",
            "17 \t [-0.92252778 -3.29308659]\t -22.539896113115677\t -3.0883423221235793\t -3.049427543059103\n",
            "18 \t [ 5.99522769 -4.57888169]\t -77.87507018887402\t -3.0883423221235793\t -3.0060012509765723\n",
            "19 \t [-6.50569659  6.44115325]\t -125.3009986404363\t -3.0883423221235793\t -3.070566987444206\n",
            "20 \t [-4.77052877  0.22838893]\t -22.862267734219923\t -3.0883423221235793\t -3.033931435786799\n"
          ]
        }
      ]
    },
    {
      "cell_type": "code",
      "metadata": {
        "id": "-ilCPSAu9SAg",
        "colab": {
          "base_uri": "https://localhost:8080/"
        },
        "outputId": "2374d676-846f-4dee-ae0a-0f6655a7d192"
      },
      "source": [
        "### EXACT GP EI GRADIENTS\n",
        "\n",
        "np.random.seed(run_num_2)\n",
        "surrogate_exact_2 = dGaussianProcess(cov_func, optimize=opt)\n",
        "\n",
        "exact_2 = dGPGO(surrogate_exact_2, Acquisition_new(util_grad_exact), objfunc, param)\n",
        "exact_2.run(init_evals=n_init, max_iter=iters)\n"
      ],
      "execution_count": null,
      "outputs": [
        {
          "output_type": "stream",
          "name": "stdout",
          "text": [
            "Evaluation \t Proposed point \t  Current eval. \t  Best eval. \t         Max AcqFunc.\n",
            "init\t [-1.28010196 -9.48147536]\t -181.43541115584648\t -4.333099000920773\t    \n",
            "init\t [ 0.99324956 -1.29355215]\t -4.333099000920773\t -4.333099000920773\t    \n",
            "init\t [-1.59264396 -3.39330358]\t -25.565533148780872\t -4.333099000920773\t    \n",
            "init\t [-5.90702732  2.38541933]\t -46.27342248166184\t -4.333099000920773\t    \n",
            "init\t [-4.00690653 -4.6634545 ]\t -59.55091562094812\t -4.333099000920773\t    \n",
            "1  \t [4.01504693 9.2910216 ]\t -188.7667666769868\t -4.333099000920773\t -4.343843844523639\n",
            "2  \t [ 9.4582138 -7.7444757]\t -209.411615827435\t -4.333099000920773\t -4.343843844523639\n",
            "3  \t [ 9.07319925 -1.03970567]\t -84.48492034594878\t -4.333099000920773\t -4.343843827945546\n",
            "4  \t [-9.13741927 -7.85625192]\t -206.93381928482216\t -4.333099000920773\t -4.343843501231403\n",
            "5  \t [10.          4.84840058]\t -147.013976383371\t -4.333099000920773\t -4.3438430424792065\n",
            "6  \t [-3.25263411  9.0402141 ]\t -174.03057068772284\t -4.333099000920773\t -4.343843844055521\n",
            "7  \t [3.70932267 3.22523744]\t -34.56338778550402\t -4.333099000920773\t -4.343840941535215\n",
            "8  \t [-9.26806074  8.02979989]\t -214.8523224182643\t -4.333099000920773\t -4.343843120778883\n",
            "9  \t [10. 10.]\t -300.0\t -4.333099000920773\t -4.343717659854767\n",
            "10 \t [-9.42684684 -1.99573003]\t -96.83131809147802\t -4.333099000920773\t -4.343836935956448\n",
            "11 \t [ 4.14422901 -9.10626618]\t -183.02280146799882\t -4.333099000920773\t -4.343779745785476\n",
            "12 \t [-1.10466788  3.55197743]\t -26.453378517724605\t -4.333099000920773\t -4.343576441752509\n",
            "13 \t [ 6.16286541 -4.74840208]\t -83.07555471980265\t -4.333099000920773\t -4.337257448909514\n",
            "14 \t [-10.           2.33414662]\t -110.89648092093529\t -4.333099000920773\t -4.33516139363259\n",
            "15 \t [ 4.3394147 -0.630663 ]\t -19.62599159906992\t -4.333099000920773\t -4.327193042408936\n",
            "16 \t [ 1.86481698 -5.39715018]\t -61.7360024589407\t -4.333099000920773\t -4.329071740122769\n",
            "17 \t [ -5.48570766 -10.        ]\t -230.0929885667829\t -4.333099000920773\t -4.319552698663336\n",
            "18 \t [-3.97859693 -0.63227759]\t -16.628783451794273\t -4.333099000920773\t -4.282133001320052\n",
            "19 \t [-5.93291269  6.09546362]\t -109.50880651222808\t -4.333099000920773\t -4.227102806327112\n",
            "20 \t [0.39618067 9.80120866]\t -192.28434134359767\t -4.333099000920773\t -4.1448947472899516\n"
          ]
        }
      ]
    },
    {
      "cell_type": "code",
      "metadata": {
        "id": "XieJ158mIvlP",
        "colab": {
          "base_uri": "https://localhost:8080/"
        },
        "outputId": "04062e17-2883-4e70-a676-ef0e4503f019"
      },
      "source": [
        "### EXACT GP EI GRADIENTS\n",
        "\n",
        "np.random.seed(run_num_3)\n",
        "surrogate_exact_3 = dGaussianProcess(cov_func, optimize=opt)\n",
        "\n",
        "exact_3 = dGPGO(surrogate_exact_3, Acquisition_new(util_grad_exact), objfunc, param)\n",
        "exact_3.run(init_evals=n_init, max_iter=iters)\n"
      ],
      "execution_count": null,
      "outputs": [
        {
          "output_type": "stream",
          "name": "stdout",
          "text": [
            "Evaluation \t Proposed point \t  Current eval. \t  Best eval. \t         Max AcqFunc.\n",
            "init\t [1.01595805 4.16295645]\t -35.692583610916834\t -17.582120911078754\t    \n",
            "init\t [-4.18190522  0.2165521 ]\t -17.582120911078754\t -17.582120911078754\t    \n",
            "init\t [7.85893909 7.92586178]\t -187.4014934415638\t -17.582120911078754\t    \n",
            "init\t [-7.48829379 -5.85514244]\t -124.63992981683481\t -17.582120911078754\t    \n",
            "init\t [-8.97065593 -1.18380313]\t -83.2754475728413\t -17.582120911078754\t    \n",
            "1  \t [ 5.60629529 -3.87272935]\t -61.42661215628989\t -17.582120911078754\t -17.582120901078753\n",
            "2  \t [-6.2437035   9.04202486]\t -202.50026057521436\t -17.582120911078754\t -17.582120901078753\n",
            "3  \t [10.          1.90794774]\t -107.28052915914924\t -17.582120911078754\t -17.582120771472493\n",
            "4  \t [-0.42169096 -8.75441039]\t -153.45722588114134\t -17.582120911078754\t -17.582120901062755\n",
            "5  \t [ 6.56856688 -9.15868109]\t -210.90894961542799\t -17.582120911078754\t -17.582104346130734\n",
            "6  \t [-9.21277105  4.93342182]\t -133.55245206852663\t -17.582120911078754\t -17.582120876004442\n",
            "\u001b[1m\u001b[92m7\u001b[0m\t \u001b[1m\u001b[92m[ 0.69850669 -0.70926041]\u001b[0m\t \u001b[1m\u001b[92m-1.4940122574729555\u001b[0m\t \u001b[1m\u001b[92m-1.4940122574729555\u001b[0m\t \u001b[1m\u001b[92m-17.582120901078753\u001b[0m\n",
            "8  \t [3.95456883 9.31512515]\t -189.181727618252\t -1.4940122574729555\t -1.7577053447508528\n",
            "9  \t [-6.71050156 -9.69798454]\t -233.13263931875917\t -1.4940122574729555\t -1.7577057766948525\n",
            "10 \t [10.         -5.37644463]\t -157.81231364189836\t -1.4940122574729555\t -1.75703660253966\n",
            "11 \t [4.94938677 1.08450859]\t -26.848747131069963\t -1.4940122574729555\t -1.7574658463159918\n",
            "12 \t [-1.80257175 -3.96846317]\t -34.74666472246176\t -1.4940122574729555\t -1.757274608814062\n",
            "13 \t [-1.13625102  9.04731578]\t -164.99891216624985\t -1.4940122574729555\t -1.7573613538144095\n",
            "14 \t [-3.5563274   4.52663957]\t -53.628396160642325\t -1.4940122574729555\t -1.7566082655195625\n",
            "15 \t [ 1.75958739 -2.87730395]\t -19.653903882146842\t -1.4940122574729555\t -1.704719907339057\n",
            "16 \t [-0.69376279  0.81488397]\t -1.8093785702439704\t -1.4940122574729555\t -1.6877533338858939\n",
            "17 \t [6.8213355 3.9933998]\t -78.42510195443599\t -1.4940122574729555\t -1.683621034723268\n",
            "18 \t [ 3.26451156 -7.42168452]\t -120.81983806354566\t -1.4940122574729555\t -1.6521834540305587\n",
            "19 \t [-6.96807801  2.16022462]\t -57.8872518745086\t -1.4940122574729555\t -1.6300221749990451\n",
            "20 \t [ 7.76359097 -1.04405862]\t -62.45346155992081\t -1.4940122574729555\t -1.6523386224513747\n"
          ]
        }
      ]
    },
    {
      "cell_type": "code",
      "metadata": {
        "id": "PhLBVOIfIvol",
        "colab": {
          "base_uri": "https://localhost:8080/"
        },
        "outputId": "7ff0a8e2-e9c3-4b57-bc97-619aa940cfa2"
      },
      "source": [
        "### EXACT GP EI GRADIENTS\n",
        "\n",
        "np.random.seed(run_num_4)\n",
        "surrogate_exact_4 = dGaussianProcess(cov_func, optimize=opt)\n",
        "\n",
        "exact_4 = dGPGO(surrogate_exact_4, Acquisition_new(util_grad_exact), objfunc, param)\n",
        "exact_4.run(init_evals=n_init, max_iter=iters)\n"
      ],
      "execution_count": null,
      "outputs": [
        {
          "output_type": "stream",
          "name": "stdout",
          "text": [
            "Evaluation \t Proposed point \t  Current eval. \t  Best eval. \t         Max AcqFunc.\n",
            "init\t [9.34059678 0.94464498]\t -89.0314565014143\t -27.80880071439404\t    \n",
            "init\t [9.4536872  4.29631987]\t -126.28893057280868\t -27.80880071439404\t    \n",
            "init\t [ 3.95457649 -5.67821009]\t -80.12281484649141\t -27.80880071439404\t    \n",
            "init\t [ 9.5254891 -9.8753949]\t -285.78179120922215\t -27.80880071439404\t    \n",
            "init\t [-4.94035275 -1.30416935]\t -27.80880071439404\t -27.80880071439404\t    \n",
            "1  \t [-10. -10.]\t -300.0\t -27.80880071439404\t -27.808800704394038\n",
            "2  \t [-0.24524722  6.20288844]\t -77.01179625821773\t -27.80880071439404\t -27.808800704394038\n",
            "3  \t [-7.30494786  4.8008946 ]\t -99.45944115815726\t -27.80880071439404\t -27.808800697329453\n",
            "4  \t [-4.25130186 -7.81752312]\t -140.30090315659\t -27.80880071439404\t -27.808799773831765\n",
            "5  \t [-10.          -3.79567241]\t -128.81425813368875\t -27.80880071439404\t -27.808798323642026\n",
            "6  \t [ 4.38370575 10.        ]\t -219.21687606218097\t -27.80880071439404\t -27.808800070761684\n",
            "\u001b[1m\u001b[92m7\u001b[0m\t \u001b[1m\u001b[92m[1.45162335 0.05109036]\u001b[0m\t \u001b[1m\u001b[92m-2.112430794758758\u001b[0m\t \u001b[1m\u001b[92m-2.112430794758758\u001b[0m\t \u001b[1m\u001b[92m-27.80880051150853\u001b[0m\n",
            "8  \t [10. 10.]\t -300.0\t -2.112430794758758\t -2.2619570861319063\n",
            "9  \t [-4.66445094 10.        ]\t -221.75710253952855\t -2.112430794758758\t -2.2619711831947744\n",
            "10 \t [ 9.23550968 -4.31605352]\t -122.55127499567101\t -2.112430794758758\t -2.26190275363286\n",
            "11 \t [  0.8253914 -10.       ]\t -200.68127096170468\t -2.112430794758758\t -2.2619378024395704\n",
            "12 \t [-9.07728468 -0.735896  ]\t -83.48018297218148\t -2.112430794758758\t -2.261974333022206\n",
            "13 \t [4.27019218 3.47894198]\t -42.440615753807535\t -2.112430794758758\t -2.261835949451257\n",
            "14 \t [-0.90828931 -3.43914745]\t -24.480459823214762\t -2.112430794758758\t -2.2614536763711715\n",
            "15 \t [ 4.64614277 -0.7202926 ]\t -22.62428549936373\t -2.112430794758758\t -2.2551194981175007\n",
            "16 \t [-2.41178339  2.19592189]\t -15.46084501102398\t -2.112430794758758\t -2.259825451585887\n",
            "17 \t [6.44723472 6.55155195]\t -127.41250139588092\t -2.112430794758758\t -2.1715938494108777\n",
            "18 \t [ 5.07987853 -9.67475599]\t -213.0069726526418\t -2.112430794758758\t -2.2401699423522343\n",
            "19 \t [ 0.05789496 10.        ]\t -200.00335182663508\t -2.112430794758758\t -2.229350213947409\n",
            "20 \t [-3.89895678  6.09590199]\t -89.52190619960538\t -2.112430794758758\t -2.1307718732794916\n"
          ]
        }
      ]
    },
    {
      "cell_type": "code",
      "metadata": {
        "id": "arbiPyj2IvsJ",
        "colab": {
          "base_uri": "https://localhost:8080/"
        },
        "outputId": "b4820663-7e06-4d64-ec68-18eb791d207a"
      },
      "source": [
        "### EXACT GP EI GRADIENTS\n",
        "\n",
        "np.random.seed(run_num_5)\n",
        "surrogate_exact_5 = dGaussianProcess(cov_func, optimize=opt)\n",
        "\n",
        "exact_5 = dGPGO(surrogate_exact_5, Acquisition_new(util_grad_exact), objfunc, param)\n",
        "exact_5.run(init_evals=n_init, max_iter=iters)\n"
      ],
      "execution_count": null,
      "outputs": [
        {
          "output_type": "stream",
          "name": "stdout",
          "text": [
            "Evaluation \t Proposed point \t  Current eval. \t  Best eval. \t         Max AcqFunc.\n",
            "init\t [-5.56013658  7.41464612]\t -140.86907304317228\t -10.04307293518387\t    \n",
            "init\t [-5.86561689  8.37221816]\t -174.59353533361667\t -10.04307293518387\t    \n",
            "init\t [-0.23177622  2.23487726]\t -10.04307293518387\t -10.04307293518387\t    \n",
            "init\t [5.31815713 0.36835976]\t -28.554173077012745\t -10.04307293518387\t    \n",
            "init\t [-4.06398997 -6.24557543]\t -94.53043928694063\t -10.04307293518387\t    \n",
            "1  \t [9.27861058 9.20453431]\t -255.5395178906315\t -10.04307293518387\t -10.043073020425721\n",
            "2  \t [ 8.87080164 -7.76615146]\t -199.31733862713008\t -10.04307293518387\t -10.043073020425721\n",
            "3  \t [-10. -10.]\t -300.0\t -10.04307293518387\t -10.04307301950897\n",
            "4  \t [2.82929545 9.76335526]\t -198.65112458457682\t -10.04307293518387\t -10.043072918878647\n",
            "5  \t [-7.37525617  1.74211335]\t -60.464321369631406\t -10.04307293518387\t -10.043072051844074\n",
            "6  \t [ 2.20974633 -4.79362796]\t -50.84071693420902\t -10.04307293518387\t -10.043072787006063\n",
            "7  \t [-9.26464909 -3.77649026]\t -114.35748010216784\t -10.04307293518387\t -10.043068336345796\n",
            "8  \t [10.          3.25437967]\t -121.18197410659958\t -10.04307293518387\t -10.043067143283807\n",
            "9  \t [ 9.55536392 -2.08007107]\t -99.95837090306182\t -10.04307293518387\t -10.04293917500117\n",
            "10 \t [-2.02900964 -1.78450211]\t -10.485775655356395\t -10.04307293518387\t -10.042444202225237\n",
            "11 \t [  0.33014697 -10.        ]\t -200.10899701896358\t -10.04307293518387\t -10.04306473566836\n",
            "12 \t [-10.           5.48457009]\t -160.16101816550446\t -10.04307293518387\t -10.041582700321765\n",
            "13 \t [3.30631658 4.8428664 ]\t -57.838439191502665\t -10.04307293518387\t -10.042177863841058\n",
            "14 \t [-1.42082704  8.7508021 ]\t -155.17182435635803\t -10.04307293518387\t -10.028711339182385\n",
            "\u001b[1m\u001b[92m15\u001b[0m\t \u001b[1m\u001b[92m[ 2.19733455 -1.20768728]\u001b[0m\t \u001b[1m\u001b[92m-7.745296250806153\u001b[0m\t \u001b[1m\u001b[92m-7.745296250806153\u001b[0m\t \u001b[1m\u001b[92m-9.969129798143701\u001b[0m\n",
            "16 \t [ 4.06449646 -7.85540605]\t -139.93493992557754\t -7.745296250806153\t -7.693038434158675\n",
            "17 \t [-3.54565553  3.4427099 ]\t -36.27617605231114\t -7.745296250806153\t -7.728258612744522\n",
            "18 \t [-5.68939661 -1.66926358]\t -37.942115626853486\t -7.745296250806153\t -7.706451204829344\n",
            "19 \t [ 5.30889725 -2.96805919]\t -45.803140678088894\t -7.745296250806153\t -7.64064218872431\n",
            "20 \t [6.35244589 6.56576171]\t -126.57202237681753\t -7.745296250806153\t -7.626113984486035\n"
          ]
        }
      ]
    },
    {
      "cell_type": "code",
      "metadata": {
        "id": "04KJCEm_Ivvf",
        "colab": {
          "base_uri": "https://localhost:8080/"
        },
        "outputId": "b7b0a330-3b21-4a1d-e025-68489e4bcd3a"
      },
      "source": [
        "### EXACT GP EI GRADIENTS\n",
        "\n",
        "np.random.seed(run_num_6)\n",
        "surrogate_exact_6 = dGaussianProcess(cov_func, optimize=opt)\n",
        "\n",
        "exact_6 = dGPGO(surrogate_exact_6, Acquisition_new(util_grad_exact), objfunc, param)\n",
        "exact_6.run(init_evals=n_init, max_iter=iters)\n"
      ],
      "execution_count": null,
      "outputs": [
        {
          "output_type": "stream",
          "name": "stdout",
          "text": [
            "Evaluation \t Proposed point \t  Current eval. \t  Best eval. \t         Max AcqFunc.\n",
            "init\t [ 7.85720303 -3.36040389]\t -84.32026809583151\t -5.629416961321397\t    \n",
            "init\t [ 6.42458246 -9.16606749]\t -209.30884609749882\t -5.629416961321397\t    \n",
            "init\t [-7.8468664   1.90104128]\t -68.80122824744078\t -5.629416961321397\t    \n",
            "init\t [ 0.59634724 -1.62385143]\t -5.629416961321397\t -5.629416961321397\t    \n",
            "init\t [-3.29184301  2.45038864]\t -22.84503944485431\t -5.629416961321397\t    \n",
            "1  \t [4.34664291 8.74699069]\t -171.91299695999675\t -5.629416961321397\t -5.6308656497122085\n",
            "2  \t [-4.96771714 -9.17248997]\t -192.94735819477367\t -5.629416961321397\t -5.6308656497122085\n",
            "3  \t [9.57427611 1.74148842]\t -97.73232691305284\t -5.629416961321397\t -5.6308656497122085\n",
            "4  \t [-5.6935267   8.60486508]\t -180.50365249520243\t -5.629416961321397\t -5.630865645329267\n",
            "5  \t [-10.        -3.570446]\t -125.49616930227866\t -5.629416961321397\t -5.6308645829783\n",
            "6  \t [3.60136858 2.74298644]\t -28.0178048493259\t -5.629416961321397\t -5.630861933033007\n",
            "7  \t [-0.45748598  7.70980473]\t -119.09147150685489\t -5.629416961321397\t -5.630865462771321\n",
            "8  \t [-5.2160087  -2.20998074]\t -36.974776478354485\t -5.629416961321397\t -5.630865649536155\n",
            "9  \t [-1.22868843  4.34354782]\t -39.24249056209099\t -5.629416961321397\t -5.6308656497122085\n",
            "10 \t [10. 10.]\t -300.0\t -5.629416961321397\t -5.63086116054807\n",
            "11 \t [ 0.75849862 -7.00959939]\t -98.84428734895957\t -5.629416961321397\t -5.6308624626872525\n",
            "12 \t [-10. -10.]\t -300.0\t -5.629416961321397\t -5.630648991866813\n",
            "13 \t [ 5.21347435 -0.8833208 ]\t -28.74082607218724\t -5.629416961321397\t -5.630865649712208\n",
            "14 \t [-8.95821117  5.68664846]\t -144.92548883789567\t -5.629416961321397\t -5.610387050463647\n",
            "15 \t [-2.88434482 -5.30723605]\t -64.65295395753873\t -5.629416961321397\t -5.599346061320797\n",
            "16 \t [8.05128119 5.71730735]\t -130.1983355259054\t -5.629416961321397\t -5.621967670928443\n",
            "17 \t [-5.26475536  4.88334842]\t -75.41183267799954\t -5.629416961321397\t -5.391026817303993\n",
            "18 \t [ 3.2461629  -3.91965469]\t -41.264959285172914\t -5.629416961321397\t -5.584557348185\n",
            "19 \t [ -1.17259792 -10.        ]\t -201.374985880818\t -5.629416961321397\t -5.492506362572511\n",
            "20 \t [ 9.35960937 -6.43297871]\t -170.368717779\t -5.629416961321397\t -5.476120408415776\n"
          ]
        }
      ]
    },
    {
      "cell_type": "code",
      "metadata": {
        "id": "tAOkme3CIvyO",
        "colab": {
          "base_uri": "https://localhost:8080/"
        },
        "outputId": "f9b3bb17-0dda-4fb6-f4ed-25c55eed6a2e"
      },
      "source": [
        "### EXACT GP EI GRADIENTS\n",
        "\n",
        "np.random.seed(run_num_7)\n",
        "surrogate_exact_7 = dGaussianProcess(cov_func, optimize=opt)\n",
        "\n",
        "exact_7 = dGPGO(surrogate_exact_7, Acquisition_new(util_grad_exact), objfunc, param)\n",
        "exact_7.run(init_evals=n_init, max_iter=iters)\n"
      ],
      "execution_count": null,
      "outputs": [
        {
          "output_type": "stream",
          "name": "stdout",
          "text": [
            "Evaluation \t Proposed point \t  Current eval. \t  Best eval. \t         Max AcqFunc.\n",
            "init\t [-8.47383421  5.59837584]\t -134.48949046062052\t -21.448213419349443\t    \n",
            "init\t [-1.23181537  4.46930356]\t -41.46671767109191\t -21.448213419349443\t    \n",
            "init\t [9.55979024 0.76991741]\t -92.57513506242564\t -21.448213419349443\t    \n",
            "init\t [ 0.02240927 -8.55897733]\t -146.51268814245697\t -21.448213419349443\t    \n",
            "init\t [-4.63122040e+00 -2.34998349e-03]\t -21.448213419349443\t -21.448213419349443\t    \n",
            "1  \t [ 8.12846538 -6.39096762]\t -147.76088362344177\t -21.448213419349443\t -21.448213409349442\n",
            "2  \t [10. 10.]\t -300.0\t -21.448213419349443\t -21.448213409349442\n",
            "3  \t [-9.10467478 -9.8356699 ]\t -276.3759076385656\t -21.448213419349443\t -21.448213409349442\n",
            "4  \t [-7.86246511 -2.61028169]\t -75.44549865130998\t -21.448213419349443\t -21.448213409349442\n",
            "5  \t [ 0.93827392 10.        ]\t -200.88035795266367\t -21.448213419349443\t -21.4482129607796\n",
            "\u001b[1m\u001b[92m6\u001b[0m\t \u001b[1m\u001b[92m[ 2.12009958 -2.883797  ]\u001b[0m\t \u001b[1m\u001b[92m-21.127392562729895\u001b[0m\t \u001b[1m\u001b[92m-21.127392562729895\u001b[0m\t \u001b[1m\u001b[92m-21.44821258380953\u001b[0m\n",
            "7  \t [4.53631942 4.67494579]\t -64.28843015884733\t -21.127392562729895\t -21.12739116009702\n",
            "8  \t [-4.85691176 10.        ]\t -223.5895918812416\t -21.127392562729895\t -21.12738140366586\n",
            "9  \t [  4.79302045 -10.        ]\t -222.97304503162187\t -21.127392562729895\t -21.12667504269302\n",
            "10 \t [-3.64822394 -4.09292158]\t -46.81355211559135\t -21.127392562729895\t -21.12410145079476\n",
            "11 \t [-4.45530149 -9.46004987]\t -198.83479845812732\t -21.127392562729895\t -21.127384966361436\n",
            "12 \t [-9.78539131  9.99966467]\t -295.74047000964447\t -21.127392562729895\t -21.125029497052438\n",
            "13 \t [9.71550862 5.25466788]\t -149.61417685493197\t -21.127392562729895\t -21.123533019598188\n",
            "\u001b[1m\u001b[92m14\u001b[0m\t \u001b[1m\u001b[92m[1.25691737 1.1921797 ]\u001b[0m\t \u001b[1m\u001b[92m-4.422426167951279\u001b[0m\t \u001b[1m\u001b[92m-4.422426167951279\u001b[0m\t \u001b[1m\u001b[92m-21.1208892711929\u001b[0m\n",
            "15 \t [ 5.78877895 -1.39491229]\t -37.40152224917434\t -4.422426167951279\t -4.424181561224815\n",
            "16 \t [-4.83756634  3.4506174 ]\t -47.21556893390472\t -4.422426167951279\t -4.431892795941362\n",
            "17 \t [ 3.86202989 -5.89835356]\t -84.49642427364296\t -4.422426167951279\t -4.3831401775240995\n",
            "18 \t [5.41871817 9.9062179 ]\t -225.62881275734617\t -4.422426167951279\t -4.423472739184486\n",
            "19 \t [-0.89581089 -1.44871585]\t -5.000032404141277\t -4.422426167951279\t -4.366843317413163\n",
            "20 \t [  9.06505708 -10.        ]\t -282.1752597897974\t -4.422426167951279\t -4.350194098249286\n"
          ]
        }
      ]
    },
    {
      "cell_type": "code",
      "metadata": {
        "id": "69-J3EF4Iv1S",
        "colab": {
          "base_uri": "https://localhost:8080/"
        },
        "outputId": "3a5a771e-2282-4a6a-e595-0237c8dcf0bb"
      },
      "source": [
        "### EXACT GP EI GRADIENTS\n",
        "\n",
        "np.random.seed(run_num_8)\n",
        "surrogate_exact_8 = dGaussianProcess(cov_func, optimize=opt)\n",
        "\n",
        "exact_8 = dGPGO(surrogate_exact_8, Acquisition_new(util_grad_exact), objfunc, param)\n",
        "exact_8.run(init_evals=n_init, max_iter=iters)\n"
      ],
      "execution_count": null,
      "outputs": [
        {
          "output_type": "stream",
          "name": "stdout",
          "text": [
            "Evaluation \t Proposed point \t  Current eval. \t  Best eval. \t         Max AcqFunc.\n",
            "init\t [7.46858806 9.37081326]\t -231.40408972112363\t -0.5791878792948744\t    \n",
            "init\t [7.3838908  0.61711383]\t -55.28350237060649\t -0.5791878792948744\t    \n",
            "init\t [-5.34543344 -9.77202391]\t -219.5585614355461\t -0.5791878792948744\t    \n",
            "init\t [-1.39062363 -1.9529728 ]\t -9.562039601098967\t -0.5791878792948744\t    \n",
            "init\t [ 0.45349343 -0.43216408]\t -0.5791878792948744\t -0.5791878792948744\t    \n",
            "1  \t [ 9.69498875 -9.42535902]\t -271.6675921188219\t -0.5791878792948744\t -1.1207037774056487\n",
            "2  \t [-9.83383251  5.77166529]\t -163.3285022998636\t -0.5791878792948744\t -1.1207037774056487\n",
            "3  \t [-3.97152767  9.51013426]\t -196.65833950916016\t -0.5791878792948744\t -1.1207037758110305\n",
            "4  \t [-9.65586204 -5.07440767]\t -144.73489822426617\t -0.5791878792948744\t -1.1207036769036758\n",
            "5  \t [1.10947828 5.5318851 ]\t -62.4344475515165\t -0.5791878792948744\t -1.1207037211892161\n",
            "6  \t [  2.83392277 -10.        ]\t -208.03111829045727\t -0.5791878792948744\t -1.1207037731652347\n",
            "7  \t [-4.39528282  3.495947  ]\t -43.76180186728179\t -0.5791878792948744\t -1.120700937661827\n",
            "8  \t [ 4.12919583 -4.19989122]\t -52.32843075893513\t -0.5791878792948744\t -1.1207014855663535\n",
            "9  \t [ 9.5546161  -3.90419331]\t -121.77613961435563\t -0.5791878792948744\t -1.1206191553057274\n",
            "10 \t [-10.           0.32855742]\t -100.21589995981397\t -0.5791878792948744\t -1.120666354370997\n",
            "11 \t [10.          4.79521804]\t -145.98823204416468\t -0.5791878792948744\t -1.1205320754469008\n",
            "12 \t [-1.47238314 -6.35952179]\t -83.05494683705412\t -0.5791878792948744\t -1.1204077572367659\n",
            "13 \t [ 2.33182892 10.        ]\t -205.4374261024572\t -0.5791878792948744\t -1.1201754401016288\n",
            "14 \t [-10. -10.]\t -300.0\t -0.5791878792948744\t -1.1191818323826315\n",
            "15 \t [-5.66860273 -0.72423365]\t -33.18208563986591\t -0.5791878792948744\t -1.118256389269768\n",
            "16 \t [2.79903199 1.47996204]\t -12.215155328390125\t -0.5791878792948744\t -1.1181623679287152\n",
            "17 \t [-0.88891252  1.73884697]\t -6.837343067273981\t -0.5791878792948744\t -1.102811631674053\n",
            "18 \t [5.80525246 4.13600124]\t -67.91396872114171\t -0.5791878792948744\t -1.1039970683974396\n",
            "19 \t [-5.1953867  -5.60421288]\t -89.80644707877823\t -0.5791878792948744\t -1.0890470688293536\n",
            "20 \t [ 5.86379994 -7.14298806]\t -136.42870667652622\t -0.5791878792948744\t -1.0595726476013465\n"
          ]
        }
      ]
    },
    {
      "cell_type": "code",
      "metadata": {
        "id": "vonm9jyuIv4t",
        "colab": {
          "base_uri": "https://localhost:8080/"
        },
        "outputId": "a9ad9d05-38eb-4fbf-c8da-ca6c6a72a538"
      },
      "source": [
        "### EXACT GP EI GRADIENTS\n",
        "\n",
        "np.random.seed(run_num_9)\n",
        "surrogate_exact_9 = dGaussianProcess(cov_func, optimize=opt)\n",
        "\n",
        "exact_9 = dGPGO(surrogate_exact_9, Acquisition_new(util_grad_exact), objfunc, param)\n",
        "exact_9.run(init_evals=n_init, max_iter=iters)\n"
      ],
      "execution_count": null,
      "outputs": [
        {
          "output_type": "stream",
          "name": "stdout",
          "text": [
            "Evaluation \t Proposed point \t  Current eval. \t  Best eval. \t         Max AcqFunc.\n",
            "init\t [-9.79251692  0.03749184]\t -95.896198949837\t -53.418783741178075\t    \n",
            "init\t [-0.08453414 -7.32340942]\t -107.27179711012016\t -53.418783741178075\t    \n",
            "init\t [-7.15777829 -5.62882649]\t -114.6011653140891\t -53.418783741178075\t    \n",
            "init\t [-1.62983639 -5.03797663]\t -53.418783741178075\t -53.418783741178075\t    \n",
            "init\t [-8.31880698 -3.0900272 ]\t -88.29908569649677\t -53.418783741178075\t    \n",
            "1  \t [6.0747954  9.66718496]\t -223.8120694300478\t -53.418783741178075\t -53.418783731178074\n",
            "2  \t [-3.94738717  9.4159639 ]\t -192.90261763630335\t -53.418783741178075\t -53.418783731178074\n",
            "\u001b[1m\u001b[92m3\u001b[0m\t \u001b[1m\u001b[92m[4.07561386 0.71776482]\u001b[0m\t \u001b[1m\u001b[92m-17.64100099927903\u001b[0m\t \u001b[1m\u001b[92m-17.64100099927903\u001b[0m\t \u001b[1m\u001b[92m-53.41878373117793\u001b[0m\n",
            "4  \t [ 8.66970884 -6.33785621]\t -155.50069423954056\t -17.64100099927903\t -17.641000989279025\n",
            "5  \t [10.          1.04076242]\t -102.16637283827707\t -17.64100099927903\t -17.641000789093113\n",
            "6  \t [-9.43535893  5.95042309]\t -159.84106794164182\t -17.64100099927903\t -17.64099977118103\n",
            "\u001b[1m\u001b[92m7\u001b[0m\t \u001b[1m\u001b[92m[-2.00413361  1.08900426]\u001b[0m\t \u001b[1m\u001b[92m-6.388412071319043\u001b[0m\t \u001b[1m\u001b[92m-6.388412071319043\u001b[0m\t \u001b[1m\u001b[92m-17.64100074008917\u001b[0m\n",
            "8  \t [1.26345081 5.5601271 ]\t -63.426334752476514\t -6.388412071319043\t -6.388788229706172\n",
            "9  \t [-10. -10.]\t -300.0\t -6.388412071319043\t -6.388719596923988\n",
            "10 \t [ -4.45844011 -10.        ]\t -219.87768822210666\t -6.388412071319043\t -6.388546831566973\n",
            "11 \t [ 2.27343475 -2.96838887]\t -22.791170470125266\t -6.388412071319043\t -6.385084465722172\n",
            "12 \t [6.36774227 4.66379432]\t -84.05009663629775\t -6.388412071319043\t -6.387988198845474\n",
            "13 \t [-4.44450653  4.29878108]\t -56.7126759375995\t -6.388412071319043\t -6.387593119911395\n",
            "14 \t [10.         7.2304471]\t -204.5587304741677\t -6.388412071319043\t -6.384071623859387\n",
            "15 \t [ 1.1411134 10.       ]\t -201.30213978249384\t -6.388412071319043\t -6.386399856906623\n",
            "16 \t [  4.56242198 -10.        ]\t -220.8156943458824\t -6.388412071319043\t -6.388739608292907\n",
            "17 \t [-4.27873165 -1.65004372]\t -23.752833092175976\t -6.388412071319043\t -6.3759059438821915\n",
            "18 \t [ 4.52850244 -5.72758867]\t -86.11787829845082\t -6.388412071319043\t -6.34436668386988\n",
            "19 \t [ 7.27052134 -2.24747368]\t -62.96275646021514\t -6.388412071319043\t -6.373429916740692\n",
            "20 \t [0.11492786 2.40434061]\t -11.574915975382172\t -6.388412071319043\t -6.133491030784794\n"
          ]
        }
      ]
    },
    {
      "cell_type": "code",
      "metadata": {
        "id": "6amuYlUdIv7r",
        "colab": {
          "base_uri": "https://localhost:8080/"
        },
        "outputId": "4d04bdaa-5657-4d89-b7f1-b131d4be393d"
      },
      "source": [
        "### EXACT GP EI GRADIENTS\n",
        "\n",
        "np.random.seed(run_num_10)\n",
        "surrogate_exact_10 = dGaussianProcess(cov_func, optimize=opt)\n",
        "\n",
        "exact_10 = dGPGO(surrogate_exact_10, Acquisition_new(util_grad_exact), objfunc, param)\n",
        "exact_10.run(init_evals=n_init, max_iter=iters)\n"
      ],
      "execution_count": null,
      "outputs": [
        {
          "output_type": "stream",
          "name": "stdout",
          "text": [
            "Evaluation \t Proposed point \t  Current eval. \t  Best eval. \t         Max AcqFunc.\n",
            "init\t [ 5.42641287 -9.58496101]\t -213.18891181932327\t -56.66743785259343\t    \n",
            "init\t [2.6729647  4.97607765]\t -56.66743785259343\t -56.66743785259343\t    \n",
            "init\t [-0.02985975 -5.50406709]\t -60.59040065376497\t -56.66743785259343\t    \n",
            "init\t [-6.0387427   5.21061424]\t -90.76741505398337\t -56.66743785259343\t    \n",
            "init\t [-6.61778327 -8.23320372]\t -179.36634226756874\t -56.66743785259343\t    \n",
            "1  \t [10. 10.]\t -300.0\t -56.66743785259343\t -56.66743784259343\n",
            "\u001b[1m\u001b[92m2\u001b[0m\t \u001b[1m\u001b[92m[2.11155129 0.26933255]\u001b[0m\t \u001b[1m\u001b[92m-4.603728884330075\u001b[0m\t \u001b[1m\u001b[92m-4.603728884330075\u001b[0m\t \u001b[1m\u001b[92m-56.66743784259343\u001b[0m\n",
            "3  \t [8.50713746 1.33499849]\t -75.93582966295617\t -4.603728884330075\t -4.61101215353529\n",
            "4  \t [-10.          -2.43205755]\t -111.82980786459501\t -4.603728884330075\t -4.611012153532894\n",
            "5  \t [-2.22376322  8.98163002]\t -166.2844784482898\t -4.603728884330075\t -4.611011517440362\n",
            "6  \t [ 4.24458098 10.        ]\t -218.0164676935811\t -4.603728884330075\t -4.611011585681526\n",
            "7  \t [ 5.8842062  -3.75974161]\t -62.895196477688955\t -4.603728884330075\t -4.6110045876216414\n",
            "8  \t [-3.50908875 -0.08515599]\t -12.328206919327629\t -4.603728884330075\t -4.611010337738972\n",
            "9  \t [7.49375819 6.07272425]\t -129.91237145535808\t -4.603728884330075\t -4.611010911047375\n",
            "10 \t [-1.99741841 -9.96622255]\t -202.6408640602078\t -4.603728884330075\t -4.610349433105546\n",
            "11 \t [-8.81621174  2.56018814]\t -90.83471615385999\t -4.603728884330075\t -4.61101106736764\n",
            "12 \t [-4.22408722 -4.21826075]\t -53.43036038235375\t -4.603728884330075\t -4.606506437020516\n",
            "13 \t [10.         -6.70758543]\t -189.98340458045885\t -4.603728884330075\t -4.610879321841918\n",
            "14 \t [-6.50574642  9.31605074]\t -215.90233922550422\t -4.603728884330075\t -4.594090445069021\n",
            "15 \t [-1.66283729  3.79275365]\t -31.534988303445925\t -4.603728884330075\t -4.608013588424866\n",
            "16 \t [-10. -10.]\t -300.0\t -4.603728884330075\t -4.5499206041646145\n",
            "17 \t [3.84916597 2.23654981]\t -24.820388773083906\t -4.603728884330075\t -4.6110113370886765\n",
            "18 \t [ 1.77047633 -2.34237347]\t -14.10801340478892\t -4.603728884330075\t -4.503684205948558\n",
            "19 \t [-6.44618153 -1.05200883]\t -43.766701502196966\t -4.603728884330075\t -4.502469225571869\n",
            "20 \t [ 3.37095442 -6.33566996]\t -91.64476132809354\t -4.603728884330075\t -4.432346087222928\n"
          ]
        }
      ]
    },
    {
      "cell_type": "code",
      "metadata": {
        "id": "VwbLIP9cIv-F",
        "colab": {
          "base_uri": "https://localhost:8080/"
        },
        "outputId": "59e4c9b9-13e1-437c-ede9-d4d32167a914"
      },
      "source": [
        "### EXACT GP EI GRADIENTS\n",
        "\n",
        "np.random.seed(run_num_11)\n",
        "surrogate_exact_11 = dGaussianProcess(cov_func, optimize=opt)\n",
        "\n",
        "exact_11 = dGPGO(surrogate_exact_11, Acquisition_new(util_grad_exact), objfunc, param)\n",
        "exact_11.run(init_evals=n_init, max_iter=iters)\n"
      ],
      "execution_count": null,
      "outputs": [
        {
          "output_type": "stream",
          "name": "stdout",
          "text": [
            "Evaluation \t Proposed point \t  Current eval. \t  Best eval. \t         Max AcqFunc.\n",
            "init\t [-6.39460622 -9.61049517]\t -225.61422357508457\t -2.716881462565864\t    \n",
            "init\t [-0.73562947  4.49867858]\t -41.01736871863572\t -2.716881462565864\t    \n",
            "init\t [-1.59592791 -0.29145804]\t -2.716881462565864\t -2.716881462565864\t    \n",
            "init\t [-9.74438371 -0.25256785]\t -95.08059489374317\t -2.716881462565864\t    \n",
            "init\t [8.83613305 7.01590179]\t -176.5230030066306\t -2.716881462565864\t    \n",
            "1  \t [ 1.99086793 -8.88652641]\t -161.90425830617428\t -2.716881462565864\t -2.7971937721935256\n",
            "2  \t [ 4.79903036 -1.6267314 ]\t -28.32320242923278\t -2.716881462565864\t -2.7971937721935256\n",
            "3  \t [10.          0.64072548]\t -100.8210582892276\t -2.716881462565864\t -2.7971923890519035\n",
            "4  \t [-5.39615849 -3.77113438]\t -57.56143542138225\t -2.716881462565864\t -2.7971822033958773\n",
            "5  \t [-7.89611862  5.10567265]\t -114.48447569496835\t -2.716881462565864\t -2.797193721432843\n",
            "6  \t [5.60568888 3.09856241]\t -50.62592590895312\t -2.716881462565864\t -2.7971937720250355\n",
            "7  \t [ 8.69087926 -7.76523114]\t -196.12901149535702\t -2.716881462565864\t -2.797193765105689\n",
            "8  \t [-4.41659412 10.        ]\t -219.50630357668348\t -2.716881462565864\t -2.7971929947627188\n",
            "9  \t [ 1.65331402 10.        ]\t -202.73344726049146\t -2.716881462565864\t -2.797192482330631\n",
            "10 \t [-5.05282043  1.03715207]\t -27.68236318818633\t -2.716881462565864\t -2.795102468752118\n",
            "11 \t [ 0.52429565 -4.04317625]\t -32.969434285326\t -2.716881462565864\t -2.7968005563852296\n",
            "12 \t [-8.81363409  9.20935111]\t -247.30444172433346\t -2.716881462565864\t -2.7849985981504033\n",
            "13 \t [-10.         -5.7210624]\t -165.46111008279723\t -2.716881462565864\t -2.797001894901462\n",
            "14 \t [ 8.98373966 -3.43495752]\t -104.30544463108052\t -2.716881462565864\t -2.7827519643527596\n",
            "15 \t [ 4.55613004 -5.40846439]\t -79.261295118494\t -2.716881462565864\t -2.77766483123115\n",
            "16 \t [ 1.64959996 -0.58870501]\t -3.4143272056712606\t -2.716881462565864\t -2.718058127781099\n",
            "17 \t [-2.18837784 -8.46016498]\t -147.93778052266111\t -2.716881462565864\t -2.778662848399437\n",
            "18 \t [3.11911526 5.99076305]\t -81.50736376490985\t -2.716881462565864\t -2.767344617005392\n",
            "19 \t [-2.21713206 -2.60282416]\t -18.465061782131\t -2.716881462565864\t -2.521257696699737\n",
            "20 \t [-3.75497759  3.75198011]\t -42.25456622018018\t -2.716881462565864\t -2.5124689686864685\n"
          ]
        }
      ]
    },
    {
      "cell_type": "code",
      "metadata": {
        "id": "MlUNFjc-JTBY",
        "colab": {
          "base_uri": "https://localhost:8080/"
        },
        "outputId": "28c82670-f9d4-439e-ae39-7e96a029cf0d"
      },
      "source": [
        "### EXACT GP EI GRADIENTS\n",
        "\n",
        "np.random.seed(run_num_12)\n",
        "surrogate_exact_12 = dGaussianProcess(cov_func, optimize=opt)\n",
        "\n",
        "exact_12 = dGPGO(surrogate_exact_12, Acquisition_new(util_grad_exact), objfunc, param)\n",
        "exact_12.run(init_evals=n_init, max_iter=iters)\n"
      ],
      "execution_count": null,
      "outputs": [
        {
          "output_type": "stream",
          "name": "stdout",
          "text": [
            "Evaluation \t Proposed point \t  Current eval. \t  Best eval. \t         Max AcqFunc.\n",
            "init\t [-6.91674315  4.80099393]\t -93.94042127407329\t -23.318590147261595\t    \n",
            "init\t [-4.7336997   0.67478787]\t -23.318590147261595\t -23.318590147261595\t    \n",
            "init\t [-9.70850075  8.37494016]\t -234.53423225249676\t -23.318590147261595\t    \n",
            "init\t [ 8.01429708 -9.33157145]\t -238.38540908259807\t -23.318590147261595\t    \n",
            "init\t [ 9.13898673 -7.25581357]\t -188.8147395776428\t -23.318590147261595\t    \n",
            "1  \t [4.66251955 4.05244711]\t -54.583743654491954\t -23.318590147261595\t -23.318590137261594\n",
            "2  \t [-3.75432006 -8.6025265 ]\t -162.1018436659056\t -23.318590147261595\t -23.318590137261594\n",
            "\u001b[1m\u001b[92m3\u001b[0m\t \u001b[1m\u001b[92m[ 0.87886819 -1.89091226]\u001b[0m\t \u001b[1m\u001b[92m-7.923507634979323\u001b[0m\t \u001b[1m\u001b[92m-7.923507634979323\u001b[0m\t \u001b[1m\u001b[92m-23.31859007416363\u001b[0m\n",
            "4  \t [-1.79527765  9.66374168]\t -189.99882837241026\t -7.923507634979323\t -7.923524543524767\n",
            "5  \t [ 8.15269188 -0.957369  ]\t -68.2994957298121\t -7.923507634979323\t -7.9235241892882735\n",
            "6  \t [10. 10.]\t -300.0\t -7.923507634979323\t -7.923524544219773\n",
            "7  \t [-10. -10.]\t -300.0\t -7.923507634979323\t -7.923524440925942\n",
            "8  \t [-10.          -1.85157259]\t -106.85664214847412\t -7.923507634979323\t -7.923524088760805\n",
            "9  \t [ 2.02503636 -9.52490868]\t -185.5485431083383\t -7.923507634979323\t -7.923519730176999\n",
            "10 \t [-0.67851333  3.93541001]\t -31.435284164569282\t -7.923507634979323\t -7.923487858523731\n",
            "11 \t [ 4.05207368 10.        ]\t -216.4193010962189\t -7.923507634979323\t -7.92351757707958\n",
            "12 \t [10.          4.23757697]\t -135.9141171749349\t -7.923507634979323\t -7.923489281905156\n",
            "13 \t [-2.51116648 -4.05016177]\t -39.11357782128145\t -7.923507634979323\t -7.9210974713672195\n",
            "14 \t [ 4.01084401 -0.14710933]\t -16.130151975726594\t -7.923507634979323\t -7.909212081088347\n",
            "15 \t [-9.54957478 -5.76180064]\t -157.59107180661908\t -7.923507634979323\t -7.883385062037729\n",
            "16 \t [ 4.80355632 -5.48679855]\t -83.2840700101714\t -7.923507634979323\t -7.920962171586861\n",
            "17 \t [-9.99165973  2.15118812]\t -109.08848488348119\t -7.923507634979323\t -7.8933860007529\n",
            "18 \t [1.26716825 6.9607055 ]\t -98.50855759589655\t -7.923507634979323\t -7.853185291175344\n",
            "19 \t [-6.13617443 -2.86257467]\t -54.04130418816921\t -7.923507634979323\t -7.879791831999324\n",
            "\u001b[1m\u001b[92m20\u001b[0m\t \u001b[1m\u001b[92m[-1.25389373  0.34636287]\u001b[0m\t \u001b[1m\u001b[92m-1.8121839738384036\u001b[0m\t \u001b[1m\u001b[92m-1.8121839738384036\u001b[0m\t \u001b[1m\u001b[92m-7.842569732969765\u001b[0m\n"
          ]
        }
      ]
    },
    {
      "cell_type": "code",
      "metadata": {
        "id": "9BsKdU9eJTFL",
        "colab": {
          "base_uri": "https://localhost:8080/"
        },
        "outputId": "9d6d3ef7-457d-4bd5-d7ed-cb620974e48c"
      },
      "source": [
        "### EXACT GP EI GRADIENTS\n",
        "\n",
        "np.random.seed(run_num_13)\n",
        "surrogate_exact_13 = dGaussianProcess(cov_func, optimize=opt)\n",
        "\n",
        "exact_13 = dGPGO(surrogate_exact_13, Acquisition_new(util_grad_exact), objfunc, param)\n",
        "exact_13.run(init_evals=n_init, max_iter=iters)\n"
      ],
      "execution_count": null,
      "outputs": [
        {
          "output_type": "stream",
          "name": "stdout",
          "text": [
            "Evaluation \t Proposed point \t  Current eval. \t  Best eval. \t         Max AcqFunc.\n",
            "init\t [ 5.55404821 -5.2491756 ]\t -85.95514048001408\t -47.45541115581226\t    \n",
            "init\t [6.48557065 9.31498396]\t -215.600479080162\t -47.45541115581226\t    \n",
            "init\t [ 9.45202228 -0.93101505]\t -91.0743031984701\t -47.45541115581226\t    \n",
            "init\t [2.18084926 5.51053029]\t -65.48799167425372\t -47.45541115581226\t    \n",
            "init\t [2.8322669  4.44036459]\t -47.45541115581226\t -47.45541115581226\t    \n",
            "1  \t [-8.69830926  2.59657998]\t -89.14503917528086\t -47.45541115581226\t -47.455411145812256\n",
            "2  \t [ -2.75180213 -10.        ]\t -207.57241495341816\t -47.45541115581226\t -47.455411145812256\n",
            "3  \t [-10. -10.]\t -300.0\t -47.45541115581226\t -47.455411145406735\n",
            "4  \t [-5.68974606  9.11900061]\t -198.68555458020188\t -47.45541115581226\t -47.4554111455332\n",
            "\u001b[1m\u001b[92m5\u001b[0m\t \u001b[1m\u001b[92m[-4.36156556 -3.65129573]\u001b[0m\t \u001b[1m\u001b[92m-45.68717513432111\u001b[0m\t \u001b[1m\u001b[92m-45.68717513432111\u001b[0m\t \u001b[1m\u001b[92m-47.45541109555517\u001b[0m\n",
            "\u001b[1m\u001b[92m6\u001b[0m\t \u001b[1m\u001b[92m[-2.84643721  2.02451754]\u001b[0m\t \u001b[1m\u001b[92m-16.299547312870963\u001b[0m\t \u001b[1m\u001b[92m-16.299547312870963\u001b[0m\t \u001b[1m\u001b[92m-45.68717269771564\u001b[0m\n",
            "7  \t [-10.          -3.61016784]\t -126.06662367992534\t -16.299547312870963\t -16.299544166200878\n",
            "8  \t [10.          4.72314511]\t -144.6161994573748\t -16.299547312870963\t -16.299536908753975\n",
            "\u001b[1m\u001b[92m9\u001b[0m\t \u001b[1m\u001b[92m[ 1.39986739 -0.97754735]\u001b[0m\t \u001b[1m\u001b[92m-3.8708263682458\u001b[0m\t \u001b[1m\u001b[92m-3.8708263682458\u001b[0m\t \u001b[1m\u001b[92m-16.29953287829107\u001b[0m\n",
            "10 \t [ 0.76516798 -6.28266817]\t -79.52932078338685\t -3.8708263682458\t -3.89051426747242\n",
            "11 \t [10.         -6.87200353]\t -194.44886502451948\t -3.8708263682458\t -3.8904087062078436\n",
            "12 \t [5.07012192 0.19538562]\t -25.782487339055677\t -3.8708263682458\t -3.8880845295787396\n",
            "13 \t [-0.26008957 10.        ]\t -200.0676465824751\t -3.8708263682458\t -3.8908956426423775\n",
            "14 \t [  4.21875764 -10.        ]\t -217.79791600131327\t -3.8708263682458\t -3.8906667988005017\n",
            "15 \t [-9.37477506  6.64871539]\t -176.29724004235737\t -3.8708263682458\t -3.876449793337708\n",
            "16 \t [-3.30525597  5.77192219]\t -77.55488862215097\t -3.8708263682458\t -3.8636843646530936\n",
            "17 \t [-6.81313103 -6.83801101]\t -139.93554362197298\t -3.8708263682458\t -3.8757112796279514\n",
            "18 \t [-0.83171292 -2.65058704]\t -14.742969701431683\t -3.8708263682458\t -3.8112872411341803\n",
            "19 \t [-0.45586515  3.43034792]\t -23.742386787041458\t -3.8708263682458\t -3.537247035657289\n",
            "20 \t [6.12790209 5.31371001]\t -94.0222120621672\t -3.8708263682458\t -3.764260259434991\n"
          ]
        }
      ]
    },
    {
      "cell_type": "code",
      "metadata": {
        "id": "k6GjFBr1JTJf",
        "colab": {
          "base_uri": "https://localhost:8080/"
        },
        "outputId": "c172cee0-92cc-40ee-bf9a-caded7aa88f6"
      },
      "source": [
        "### EXACT GP EI GRADIENTS\n",
        "\n",
        "np.random.seed(run_num_14)\n",
        "surrogate_exact_14 = dGaussianProcess(cov_func, optimize=opt)\n",
        "\n",
        "exact_14 = dGPGO(surrogate_exact_14, Acquisition_new(util_grad_exact), objfunc, param)\n",
        "exact_14.run(init_evals=n_init, max_iter=iters)\n"
      ],
      "execution_count": null,
      "outputs": [
        {
          "output_type": "stream",
          "name": "stdout",
          "text": [
            "Evaluation \t Proposed point \t  Current eval. \t  Best eval. \t         Max AcqFunc.\n",
            "init\t [0.27886688 5.46330104]\t -59.77308327621332\t -26.48525945153859\t    \n",
            "init\t [ 7.40855371 -9.83906103]\t -248.5009120212351\t -26.48525945153859\t    \n",
            "init\t [-3.80528149  9.15207479]\t -182.0011130426615\t -26.48525945153859\t    \n",
            "init\t [ 0.26233425 -3.6343115 ]\t -26.48525945153859\t -26.48525945153859\t    \n",
            "init\t [ 0.78399875 -5.57490115]\t -62.773699734431055\t -26.48525945153859\t    \n",
            "1  \t [ 9.82765998 -0.95725402]\t -98.41557117870066\t -26.48525945153859\t -26.485259441538588\n",
            "2  \t [10. 10.]\t -300.0\t -26.48525945153859\t -26.485259441538588\n",
            "3  \t [-10. -10.]\t -300.0\t -26.48525945153859\t -26.485259441538588\n",
            "4  \t [-9.7098101  -2.29512968]\t -104.81565267858431\t -26.48525945153859\t -26.485259441520103\n",
            "5  \t [-6.34131578  3.00478309]\t -58.26972869025353\t -26.48525945153859\t -26.48525927513972\n",
            "6  \t [6.07003418 3.73802402]\t -64.79096207591255\t -26.48525945153859\t -26.485258399402444\n",
            "7  \t [ -3.20090445 -10.        ]\t -210.24578929632415\t -26.48525945153859\t -26.485258816704906\n",
            "8  \t [-9.71188894  7.83312684]\t -217.0365387332817\t -26.48525945153859\t -26.48525756766534\n",
            "9  \t [ 3.86659092 10.        ]\t -214.95052532365943\t -26.48525945153859\t -26.485256789703094\n",
            "10 \t [-4.63974536 -3.37022052]\t -44.24400975512843\t -26.48525945153859\t -26.485115808369745\n",
            "11 \t [ 5.59550624 -3.94278641]\t -62.40081943019831\t -26.48525945153859\t -26.48510199570421\n",
            "\u001b[1m\u001b[92m12\u001b[0m\t \u001b[1m\u001b[92m[1.546607   0.85139242]\u001b[0m\t \u001b[1m\u001b[92m-3.8417313054871873\u001b[0m\t \u001b[1m\u001b[92m-3.8417313054871873\u001b[0m\t \u001b[1m\u001b[92m-26.48470932555285\u001b[0m\n",
            "13 \t [  2.22110097 -10.        ]\t -204.9332895334154\t -3.8417313054871873\t -3.8618625234677215\n",
            "14 \t [-2.27676152  1.47588463]\t -9.540113902766533\t -3.8417313054871873\t -3.8589611980581107\n",
            "15 \t [7.31317607 7.04383804]\t -152.7138529673891\t -3.8417313054871873\t -3.74780391824788\n",
            "16 \t [ 9.81404147 -5.50582624]\t -156.94365525185407\t -3.8417313054871873\t -3.8593481693928977\n",
            "17 \t [-6.25080863 -7.32796136]\t -146.47064387423342\t -3.8417313054871873\t -3.8292113258743954\n",
            "18 \t [ 5.16237227 -0.10419828]\t -26.67180200421158\t -3.8417313054871873\t -3.82993443326276\n",
            "19 \t [10.          3.44541928]\t -123.7418280720771\t -3.8417313054871873\t -3.8433274879348787\n",
            "20 \t [-3.27565658  4.92218105]\t -59.185658564038306\t -3.8417313054871873\t -3.759053538547969\n"
          ]
        }
      ]
    },
    {
      "cell_type": "code",
      "metadata": {
        "id": "dPS8WB3aJTN6",
        "colab": {
          "base_uri": "https://localhost:8080/"
        },
        "outputId": "952299c3-08a6-42e1-8e89-3895e010c3d0"
      },
      "source": [
        "### EXACT GP EI GRADIENTS\n",
        "\n",
        "np.random.seed(run_num_15)\n",
        "surrogate_exact_15 = dGaussianProcess(cov_func, optimize=opt)\n",
        "\n",
        "exact_15 = dGPGO(surrogate_exact_15, Acquisition_new(util_grad_exact), objfunc, param)\n",
        "exact_15.run(init_evals=n_init, max_iter=iters)\n"
      ],
      "execution_count": null,
      "outputs": [
        {
          "output_type": "stream",
          "name": "stdout",
          "text": [
            "Evaluation \t Proposed point \t  Current eval. \t  Best eval. \t         Max AcqFunc.\n",
            "init\t [ 6.97635395 -6.4220815 ]\t -131.15577599697437\t -20.897907943365695\t    \n",
            "init\t [-8.91273571 -2.76923108]\t -94.77413943464936\t -20.897907943365695\t    \n",
            "init\t [-4.49198143  0.6000045 ]\t -20.897907943365695\t -20.897907943365695\t    \n",
            "init\t [-3.88162169 -3.91051282]\t -45.651207890195394\t -20.897907943365695\t    \n",
            "init\t [-7.76517448 -5.00201972]\t -110.33833725681367\t -20.897907943365695\t    \n",
            "1  \t [10. 10.]\t -300.0\t -20.897907943365695\t -20.897907933365694\n",
            "2  \t [1.47503373 7.60746764]\t -117.92285228350877\t -20.897907943365695\t -20.897907933365694\n",
            "3  \t [-7.57016827  9.39485424]\t -233.83402004725843\t -20.897907943365695\t -20.897907933365694\n",
            "4  \t [8.17696818 1.09984692]\t -69.28213505909017\t -20.897907943365695\t -20.897907933349185\n",
            "5  \t [-10.          3.8321127]\t -129.37017543496486\t -20.897907943365695\t -20.897906744807084\n",
            "6  \t [-0.62952455 -9.52479128]\t -181.8395990317211\t -20.897907943365695\t -20.89790791687703\n",
            "\u001b[1m\u001b[92m7\u001b[0m\t \u001b[1m\u001b[92m[ 2.61788989 -0.93930827]\u001b[0m\t \u001b[1m\u001b[92m-8.617947511889533\u001b[0m\t \u001b[1m\u001b[92m-8.617947511889533\u001b[0m\t \u001b[1m\u001b[92m-20.897907088192923\u001b[0m\n",
            "8  \t [-10. -10.]\t -300.0\t -8.617947511889533\t -8.617934191471294\n",
            "9  \t [-3.20413968  5.27797353]\t -65.98052025191352\t -8.617947511889533\t -8.617799644582764\n",
            "10 \t [6.24684491 6.28906124]\t -118.12765389549212\t -8.617947511889533\t -8.617528422682666\n",
            "11 \t [ 0.56701921 -4.53107493]\t -41.3827908844691\t -8.617947511889533\t -8.616000081447073\n",
            "12 \t [1.10704631 2.81622114]\t -17.087754608673208\t -8.617947511889533\t -8.616042451165232\n",
            "13 \t [-2.35543299  9.7196702 ]\t -194.49204198483497\t -8.617947511889533\t -8.612488790906507\n",
            "14 \t [-5.30373301 -8.8843625 ]\t -185.99337794696476\t -8.617947511889533\t -8.613876097678874\n",
            "15 \t [ 9.95655897 -2.80559847]\t -114.87583210813881\t -8.617947511889533\t -8.61336770435865\n",
            "16 \t [ 4.89493753 10.        ]\t -223.96041338707167\t -8.617947511889533\t -8.583682554238385\n",
            "17 \t [ 5.50632795 -1.73407669]\t -36.33369140704845\t -8.617947511889533\t -8.54985831754315\n",
            "18 \t [ 3.75080182 -9.3847518 ]\t -190.215646912117\t -8.617947511889533\t -8.607330833035375\n",
            "19 \t [10.          4.82833399]\t -146.62561814456637\t -8.617947511889533\t -8.593677120286255\n",
            "\u001b[1m\u001b[92m20\u001b[0m\t \u001b[1m\u001b[92m[-0.94851433 -0.623835  ]\u001b[0m\t \u001b[1m\u001b[92m-1.678019658304552\u001b[0m\t \u001b[1m\u001b[92m-1.678019658304552\u001b[0m\t \u001b[1m\u001b[92m-8.594404221553242\u001b[0m\n"
          ]
        }
      ]
    },
    {
      "cell_type": "code",
      "metadata": {
        "id": "SHWdp2giJTRm",
        "colab": {
          "base_uri": "https://localhost:8080/"
        },
        "outputId": "193dd2ac-c7de-4089-a8b4-748cb1d478a2"
      },
      "source": [
        "### EXACT GP EI GRADIENTS\n",
        "\n",
        "np.random.seed(run_num_16)\n",
        "surrogate_exact_16 = dGaussianProcess(cov_func, optimize=opt)\n",
        "\n",
        "exact_16 = dGPGO(surrogate_exact_16, Acquisition_new(util_grad_exact), objfunc, param)\n",
        "exact_16.run(init_evals=n_init, max_iter=iters)\n"
      ],
      "execution_count": null,
      "outputs": [
        {
          "output_type": "stream",
          "name": "stdout",
          "text": [
            "Evaluation \t Proposed point \t  Current eval. \t  Best eval. \t         Max AcqFunc.\n",
            "init\t [-5.53417842  0.46326683]\t -31.056363058280656\t -31.056363058280656\t    \n",
            "init\t [ 1.01402913 -9.087961  ]\t -166.21032525826828\t -31.056363058280656\t    \n",
            "init\t [-2.78542329 -5.53838117]\t -69.10591480510183\t -31.056363058280656\t    \n",
            "init\t [ 3.77452324 -6.7253715 ]\t -104.70826928786903\t -31.056363058280656\t    \n",
            "init\t [-8.59350266  8.8202172 ]\t -229.44075111810224\t -31.056363058280656\t    \n",
            "1  \t [10.          9.76808597]\t -290.8310071588395\t -31.056363058280656\t -31.056363048280655\n",
            "2  \t [-10. -10.]\t -300.0\t -31.056363058280656\t -31.056363048280648\n",
            "3  \t [0.85375082 9.40301345]\t -177.56221418768533\t -31.056363058280656\t -31.056363048280655\n",
            "4  \t [5.7976487  1.62279444]\t -38.87965405424715\t -31.056363058280656\t -31.05636304828065\n",
            "5  \t [-2.22531694  5.42968011]\t -63.91488757640133\t -31.056363058280656\t -31.056363048280655\n",
            "6  \t [-10.          -3.22912901]\t -120.85454832978613\t -31.056363058280656\t -31.056362237502572\n",
            "7  \t [ 9.29218158 -4.43054185]\t -125.60404078355825\t -31.056363058280656\t -31.056362127391505\n",
            "\u001b[1m\u001b[92m8\u001b[0m\t \u001b[1m\u001b[92m[ 0.29683603 -0.46171021]\u001b[0m\t \u001b[1m\u001b[92m-0.5144642715556319\u001b[0m\t \u001b[1m\u001b[92m-0.5144642715556319\u001b[0m\t \u001b[1m\u001b[92m-31.056361238427158\u001b[0m\n",
            "9  \t [9.84986668 4.47064536]\t -136.99321348491415\t -0.5144642715556319\t -1.0812446717348934\n",
            "10 \t [ 4.26257432 -2.31957767]\t -28.93042099290586\t -0.5144642715556319\t -1.0781286913292971\n",
            "11 \t [5.25829078 6.44859435]\t -110.81836014425036\t -0.5144642715556319\t -1.0810805991583505\n",
            "12 \t [-10.           2.52720962]\t -112.77357687852421\t -0.5144642715556319\t -1.0813152376343813\n",
            "13 \t [-4.93923409 -9.83883422]\t -218.0013509928648\t -0.5144642715556319\t -1.0809272520414612\n",
            "14 \t [1.58724618 3.49326812]\t -26.9251947628237\t -0.5144642715556319\t -1.078498240796933\n",
            "15 \t [-6.11651443 -3.98731904]\t -69.20917500531519\t -0.5144642715556319\t -1.042594674417248\n",
            "16 \t [-2.12212096 -1.24751907]\t -7.61600504444447\t -0.5144642715556319\t -1.0669698849516436\n",
            "17 \t [-6.067443    4.32582233]\t -74.2393422148314\t -0.5144642715556319\t -1.0671807222354646\n",
            "18 \t [-3.87871191 10.        ]\t -215.04440607215776\t -0.5144642715556319\t -1.0801023994850525\n",
            "19 \t [ 0.46037921 -2.64003957]\t -14.151566890637607\t -0.5144642715556319\t -1.032658606287899\n",
            "20 \t [ 7.45531732 -8.31236315]\t -193.77251872765922\t -0.5144642715556319\t -1.0674789275759404\n"
          ]
        }
      ]
    },
    {
      "cell_type": "code",
      "metadata": {
        "id": "yU2SflSsJTUs",
        "colab": {
          "base_uri": "https://localhost:8080/"
        },
        "outputId": "0fc31727-32f6-46b8-b9b7-9d739c998d30"
      },
      "source": [
        "### EXACT GP EI GRADIENTS\n",
        "\n",
        "np.random.seed(run_num_17)\n",
        "surrogate_exact_17 = dGaussianProcess(cov_func, optimize=opt)\n",
        "\n",
        "exact_17 = dGPGO(surrogate_exact_17, Acquisition_new(util_grad_exact), objfunc, param)\n",
        "exact_17.run(init_evals=n_init, max_iter=iters)\n"
      ],
      "execution_count": null,
      "outputs": [
        {
          "output_type": "stream",
          "name": "stdout",
          "text": [
            "Evaluation \t Proposed point \t  Current eval. \t  Best eval. \t         Max AcqFunc.\n",
            "init\t [-4.10669995  0.61173511]\t -17.613424143360255\t -12.137436774523842\t    \n",
            "init\t [-6.16958426 -8.64199284]\t -187.43185031516856\t -12.137436774523842\t    \n",
            "init\t [5.7397092  3.12667044]\t -52.49639772521824\t -12.137436774523842\t    \n",
            "init\t [2.75041792 1.51205788]\t -12.137436774523842\t -12.137436774523842\t    \n",
            "init\t [-9.21874168 -2.84372791]\t -101.1587749488933\t -12.137436774523842\t    \n",
            "1  \t [-8.64042543  9.21575513]\t -244.5172369008349\t -12.137436774523842\t -12.137436764726075\n",
            "2  \t [ 4.54825031 -8.71744454]\t -172.6742595800706\t -12.137436774523842\t -12.137436764726075\n",
            "3  \t [10.         9.8489567]\t -294.00389628765595\t -12.137436774523842\t -12.137436764725614\n",
            "4  \t [-0.05385845  7.96254756]\t -126.80722802594437\t -12.137436774523842\t -12.137436764605825\n",
            "5  \t [ 9.06636127 -2.74323799]\t -97.24961590065784\t -12.137436774523842\t -12.137436761249095\n",
            "6  \t [ 1.12128778 -3.84984051]\t -30.899830223459585\t -12.137436774523842\t -12.137434108554038\n",
            "7  \t [-10.           3.29091122]\t -121.66019331625472\t -12.137436774523842\t -12.137435350254997\n",
            "8  \t [-1.02859872 -9.21677652]\t -170.95595419028933\t -12.137436774523842\t -12.137436764726075\n",
            "9  \t [10.       -8.554051]\t -246.34357689111792\t -12.137436774523842\t -12.1374053477946\n",
            "10 \t [ 4.69237874 10.        ]\t -222.0184182828518\t -12.137436774523842\t -12.13722369950222\n",
            "11 \t [9.92525625 4.95743014]\t -147.6629386423967\t -12.137436774523842\t -12.135731744673267\n",
            "12 \t [-3.81455378 -4.04688429]\t -47.305365358648906\t -12.137436774523842\t -12.137029437544733\n",
            "13 \t [-4.90436706  6.10466669]\t -98.58672707846722\t -12.137436774523842\t -12.13644378419513\n",
            "14 \t [-0.76533394  3.10178461]\t -19.827871632809973\t -12.137436774523842\t -12.13194959277831\n",
            "15 \t [ 4.60957128 -1.59496115]\t -26.335949530363344\t -12.137436774523842\t -12.12467031235243\n",
            "16 \t [-10. -10.]\t -300.0\t -12.137436774523842\t -12.113151047266893\n",
            "17 \t [3.44383533 6.46761679]\t -95.52013580646664\t -12.137436774523842\t -12.137435056386087\n",
            "\u001b[1m\u001b[92m18\u001b[0m\t \u001b[1m\u001b[92m[-0.20702379 -0.60287605]\u001b[0m\t \u001b[1m\u001b[92m-0.7697779197533032\u001b[0m\t \u001b[1m\u001b[92m-0.7697779197533032\u001b[0m\t \u001b[1m\u001b[92m-12.085348447666602\u001b[0m\n",
            "19 \t [-3.37092314  9.99846097]\t -211.30156648372105\t -0.7697779197533032\t -1.2150493181452344\n",
            "20 \t [9.00879578 0.79794096]\t -82.43182097416475\t -0.7697779197533032\t -1.2411460188894703\n"
          ]
        }
      ]
    },
    {
      "cell_type": "code",
      "metadata": {
        "id": "es0KCh_0JTgY",
        "colab": {
          "base_uri": "https://localhost:8080/"
        },
        "outputId": "6ab138fa-fde6-43e8-97ec-fb29cc38f88c"
      },
      "source": [
        "### EXACT GP EI GRADIENTS\n",
        "\n",
        "np.random.seed(run_num_18)\n",
        "surrogate_exact_18 = dGaussianProcess(cov_func, optimize=opt)\n",
        "\n",
        "exact_18 = dGPGO(surrogate_exact_18, Acquisition_new(util_grad_exact), objfunc, param)\n",
        "exact_18.run(init_evals=n_init, max_iter=iters)\n"
      ],
      "execution_count": null,
      "outputs": [
        {
          "output_type": "stream",
          "name": "stdout",
          "text": [
            "Evaluation \t Proposed point \t  Current eval. \t  Best eval. \t         Max AcqFunc.\n",
            "init\t [3.00748483 0.10906747]\t -9.068756459576363\t -9.068756459576363\t    \n",
            "init\t [ 7.57202942 -6.36319549]\t -138.3161432668939\t -9.068756459576363\t    \n",
            "init\t [7.04466137 5.00272572]\t -99.6817831686958\t -9.068756459576363\t    \n",
            "init\t [3.32203335 9.75790897]\t -201.4694803352836\t -9.068756459576363\t    \n",
            "init\t [-4.86063155 -9.43388149]\t -201.6219791510955\t -9.068756459576363\t    \n",
            "1  \t [-6.1664519   4.28513481]\t -74.74988979878172\t -9.068756459576363\t -9.068757622339971\n",
            "2  \t [-6.07110106 -2.27098711]\t -47.173032968123124\t -9.068756459576363\t -9.068757621063904\n",
            "3  \t [10. 10.]\t -300.0\t -9.068756459576363\t -9.06875762233635\n",
            "4  \t [-2.33775535  8.28880862]\t -142.8737966101193\t -9.068756459576363\t -9.068757545600077\n",
            "5  \t [ 4.59940623 -9.59713586]\t -205.36457092968183\t -9.068756459576363\t -9.068757622339971\n",
            "6  \t [-0.88286482 -3.88085007]\t -30.90144485825495\t -9.068756459576363\t -9.068747575366846\n",
            "7  \t [10.         -0.54016002]\t -100.58354570402422\t -9.068756459576363\t -9.068757330208497\n",
            "8  \t [-10.          -7.89563007]\t -224.68194838820145\t -9.068756459576363\t -9.068700846140866\n",
            "9  \t [-10.           0.86715315]\t -101.50390915533565\t -9.068756459576363\t -9.068611459440708\n",
            "10 \t [-9.69289674  8.4893621 ]\t -238.0907849162934\t -9.068756459576363\t -9.06874680825679\n",
            "11 \t [-1.1561051   3.15042368]\t -21.186917793908524\t -9.068756459576363\t -9.068614828567922\n",
            "12 \t [2.68462763 4.45110049]\t -46.831816653640054\t -9.068756459576363\t -9.062311777893129\n",
            "13 \t [ 6.10357054 -2.41774605]\t -48.94456528309397\t -9.068756459576363\t -9.053054558531443\n",
            "14 \t [-3.04136753  0.08657023]\t -9.26490524088142\t -9.068756459576363\t -9.036870112026428\n",
            "15 \t [-10.          -3.74414888]\t -128.03730173695632\t -9.068756459576363\t -9.068757622339318\n",
            "16 \t [ 2.8293493  -5.06815541]\t -59.37761596309764\t -9.068756459576363\t -9.056407623805576\n",
            "17 \t [-0.12234743 -9.21480776]\t -169.84033317028707\t -9.068756459576363\t -9.06599247601286\n",
            "18 \t [5.58591187 1.58748509]\t -36.24262928367548\t -9.068756459576363\t -8.95055103051906\n",
            "19 \t [-5.50323001 -5.63698886]\t -93.83682735580521\t -9.068756459576363\t -8.93762519091543\n",
            "\u001b[1m\u001b[92m20\u001b[0m\t \u001b[1m\u001b[92m[ 0.03170498 -0.35768268]\u001b[0m\t \u001b[1m\u001b[92m-0.2568790037829701\u001b[0m\t \u001b[1m\u001b[92m-0.2568790037829701\u001b[0m\t \u001b[1m\u001b[92m-8.952564864019832\u001b[0m\n"
          ]
        }
      ]
    },
    {
      "cell_type": "code",
      "metadata": {
        "id": "Pput2LHPIwBM",
        "colab": {
          "base_uri": "https://localhost:8080/"
        },
        "outputId": "686eb259-5331-45b6-f21e-bae7da6a7c1a"
      },
      "source": [
        "### EXACT GP EI GRADIENTS\n",
        "\n",
        "np.random.seed(run_num_19)\n",
        "surrogate_exact_19 = dGaussianProcess(cov_func, optimize=opt)\n",
        "\n",
        "exact_19 = dGPGO(surrogate_exact_19, Acquisition_new(util_grad_exact), objfunc, param)\n",
        "exact_19.run(init_evals=n_init, max_iter=iters)\n"
      ],
      "execution_count": null,
      "outputs": [
        {
          "output_type": "stream",
          "name": "stdout",
          "text": [
            "Evaluation \t Proposed point \t  Current eval. \t  Best eval. \t         Max AcqFunc.\n",
            "init\t [-8.04932797  5.22499433]\t -119.39281225846176\t -87.03025225125222\t    \n",
            "init\t [-5.06124054 -7.23736625]\t -130.3750962570555\t -87.03025225125222\t    \n",
            "init\t [-3.37106873 -8.3400087 ]\t -150.4755946408245\t -87.03025225125222\t    \n",
            "init\t [3.43954163 6.13187596]\t -87.03025225125222\t -87.03025225125222\t    \n",
            "init\t [9.65483829 2.7132147 ]\t -107.93897039562282\t -87.03025225125222\t    \n",
            "1  \t [ 9.42739537 -7.28680447]\t -195.07082209920037\t -87.03025225125222\t -87.03025224125223\n",
            "2  \t [10. 10.]\t -300.0\t -87.03025225125222\t -87.03025224109108\n",
            "\u001b[1m\u001b[92m3\u001b[0m\t \u001b[1m\u001b[92m[ 0.88813083 -1.9959278 ]\u001b[0m\t \u001b[1m\u001b[92m-8.756231898391391\u001b[0m\t \u001b[1m\u001b[92m-8.756231898391391\u001b[0m\t \u001b[1m\u001b[92m-87.03025224123594\u001b[0m\n",
            "4  \t [-9.64931371 -1.76781368]\t -99.35958538505903\t -8.756231898391391\t -8.75623439126409\n",
            "5  \t [-2.69333527  7.93798122]\t -133.2771466359215\t -8.756231898391391\t -8.756233446177317\n",
            "6  \t [ 3.79511132 -9.6767081 ]\t -201.68022925439018\t -8.756231898391391\t -8.75623366685158\n",
            "7  \t [-10. -10.]\t -300.0\t -8.756231898391391\t -8.756227654241167\n",
            "8  \t [-4.06368635 -0.417722  ]\t -16.862530071440588\t -8.756231898391391\t -8.756225064219775\n",
            "9  \t [ 5.31149722 -0.28607182]\t -28.3756768850526\t -8.756231898391391\t -8.756129021872212\n",
            "10 \t [10.         -2.24180558]\t -110.05138448573359\t -8.756231898391391\t -8.755715921333278\n",
            "11 \t [-0.30321396  2.63118665]\t -13.93822511377522\t -8.756231898391391\t -8.756028248515149\n",
            "12 \t [ 4.86994949 -4.81816179]\t -70.14577410538548\t -8.756231898391391\t -8.755188409152138\n",
            "13 \t [ 0.81008947 -6.49042547]\t -84.90749047016546\t -8.756231898391391\t -8.74439481296216\n",
            "14 \t [ 1.51618065 10.        ]\t -202.29880376387553\t -8.756231898391391\t -8.751248246270054\n",
            "15 \t [-7.01040998 10.        ]\t -249.1458480186291\t -8.756231898391391\t -8.755131385569415\n",
            "16 \t [7.8485121  6.16418001]\t -137.5933724535784\t -8.756231898391391\t -8.716769834138972\n",
            "17 \t [-9.06173111 -5.76992146]\t -148.6989579452113\t -8.756231898391391\t -8.722851659668066\n",
            "18 \t [-5.73432636 -3.27968051]\t -54.39510736887236\t -8.756231898391391\t -8.681659573575065\n",
            "19 \t [-3.88041024  3.35196056]\t -37.5288627979439\t -8.756231898391391\t -8.73789666313111\n",
            "20 \t [ 5.74532799 10.        ]\t -233.00879369423814\t -8.756231898391391\t -8.718903572730666\n"
          ]
        }
      ]
    },
    {
      "cell_type": "code",
      "metadata": {
        "id": "aw3xvSryIwDi",
        "colab": {
          "base_uri": "https://localhost:8080/"
        },
        "outputId": "bc9d68fc-75da-4e1b-e162-595c191887b1"
      },
      "source": [
        "### EXACT GP EI GRADIENTS\n",
        "\n",
        "np.random.seed(run_num_20)\n",
        "surrogate_exact_20 = dGaussianProcess(cov_func, optimize=opt)\n",
        "\n",
        "exact_20 = dGPGO(surrogate_exact_20, Acquisition_new(util_grad_exact), objfunc, param)\n",
        "exact_20.run(init_evals=n_init, max_iter=iters)\n"
      ],
      "execution_count": null,
      "outputs": [
        {
          "output_type": "stream",
          "name": "stdout",
          "text": [
            "Evaluation \t Proposed point \t  Current eval. \t  Best eval. \t         Max AcqFunc.\n",
            "init\t [1.76261602 7.95427456]\t -129.64778273349407\t -6.161449614183514\t    \n",
            "init\t [7.83061459 6.31674955]\t -141.12117450686426\t -6.161449614183514\t    \n",
            "init\t [-9.28220829  3.83515164]\t -115.57616682517047\t -6.161449614183514\t    \n",
            "init\t [-2.42638116  0.37021891]\t -6.161449614183514\t -6.161449614183514\t    \n",
            "init\t [ 3.15902931 -6.12299564]\t -84.96161746112533\t -6.161449614183514\t    \n",
            "1  \t [ -4.37434283 -10.        ]\t -219.13487516066317\t -6.161449614183514\t -6.162022642137369\n",
            "2  \t [ 9.15300615 -0.22334742]\t -83.87728966841769\t -6.161449614183514\t -6.162022641108028\n",
            "3  \t [-10.          -2.75062699]\t -115.13189768661975\t -6.161449614183514\t -6.162022627475744\n",
            "4  \t [ 9.03563127 -5.57761678]\t -143.86225043765864\t -6.161449614183514\t -6.162022642137347\n",
            "5  \t [-5.76960333  8.73906351]\t -186.03078463391498\t -6.161449614183514\t -6.162021917497915\n",
            "6  \t [-10.          -8.68348083]\t -250.8056786666756\t -6.161449614183514\t -6.162015160439509\n",
            "7  \t [-3.4975424  -4.34251782]\t -49.947724857922736\t -6.161449614183514\t -6.162021478535039\n",
            "8  \t [3.61299221 1.68903159]\t -18.7593681735683\t -6.161449614183514\t -6.162020918587601\n",
            "9  \t [  6.42260946 -10.        ]\t -241.24991223138952\t -6.161449614183514\t -6.161776240862899\n",
            "10 \t [-1.9972351   4.37544451]\t -42.2779773764664\t -6.161449614183514\t -6.162021451377418\n",
            "11 \t [ 1.13605995 -1.99983007]\t -9.289272837791044\t -6.161449614183514\t -6.160063223966001\n",
            "12 \t [10. 10.]\t -300.0\t -6.161449614183514\t -6.154432093363346\n",
            "13 \t [-9.57618787  7.59886352]\t -207.1888275967296\t -6.161449614183514\t -6.080998452383351\n",
            "14 \t [ 0.46387804 -9.97693206]\t -199.29352933678598\t -6.161449614183514\t -6.16044793355328\n",
            "15 \t [-1.59808563  9.98621221]\t -202.00274637844325\t -6.161449614183514\t -6.12592870555282\n",
            "16 \t [-6.07474972 -0.467522  ]\t -37.33973779514711\t -6.161449614183514\t -6.156795451921597\n",
            "17 \t [ 4.95072872 -1.93933615]\t -32.031764313988326\t -6.161449614183514\t -6.150738962173075\n",
            "18 \t [ 5.58060456 10.        ]\t -231.14314719963517\t -6.161449614183514\t -6.141613739726741\n",
            "19 \t [-6.9985616  -5.71891081]\t -114.39174608486252\t -6.161449614183514\t -6.115680041262093\n",
            "20 \t [-5.5590379   4.60188167]\t -73.25753214813383\t -6.161449614183514\t -6.065975225982288\n"
          ]
        }
      ]
    },
    {
      "cell_type": "code",
      "metadata": {
        "id": "qNqAB3vBTPqb",
        "colab": {
          "base_uri": "https://localhost:8080/"
        },
        "outputId": "dd766995-aa6b-49e9-b55b-8d3e5ad6626b"
      },
      "source": [
        "end_exact = time.time()\n",
        "end_exact\n",
        "\n",
        "time_exact = end_exact - start_exact\n",
        "time_exact"
      ],
      "execution_count": null,
      "outputs": [
        {
          "output_type": "execute_result",
          "data": {
            "text/plain": [
              "275.9945185184479"
            ]
          },
          "metadata": {},
          "execution_count": 54
        }
      ]
    },
    {
      "cell_type": "code",
      "metadata": {
        "id": "JPQzjdBZQxfg",
        "colab": {
          "base_uri": "https://localhost:8080/"
        },
        "outputId": "2663896a-aef7-494f-f847-999f25f72209"
      },
      "source": [
        "### Simple regret minimization: run number = 1\n",
        "\n",
        "approx_output_1 = np.append(np.min(approx_1.GP.y[0:n_init]),approx_1.GP.y[n_init:(n_init+iters)]) \n",
        "exact_output_1 = np.append(np.min(exact_1.GP.y[0:n_init]),exact_1.GP.y[n_init:(n_init+iters)]) \n",
        "\n",
        "regret_approx_1 = np.log(-approx_output_1 + y_global_orig)\n",
        "regret_exact_1 = np.log(-exact_output_1 + y_global_orig)\n",
        "\n",
        "simple_regret_approx_1 = min_max_array(regret_approx_1)\n",
        "simple_regret_exact_1 = min_max_array(regret_exact_1)\n",
        "\n",
        "min_simple_regret_approx_1 = min(simple_regret_approx_1)\n",
        "min_simple_regret_exact_1 = min(simple_regret_exact_1)\n",
        "\n",
        "min_simple_regret_approx_1, min_simple_regret_exact_1"
      ],
      "execution_count": null,
      "outputs": [
        {
          "output_type": "execute_result",
          "data": {
            "text/plain": [
              "(1.4647944405604314, 1.127634481628468)"
            ]
          },
          "metadata": {},
          "execution_count": 55
        }
      ]
    },
    {
      "cell_type": "code",
      "metadata": {
        "id": "94yBw5tqQxfk",
        "colab": {
          "base_uri": "https://localhost:8080/"
        },
        "outputId": "b973b633-9c43-4651-d1bc-d54d83dee4ee"
      },
      "source": [
        "### Simple regret minimization: run number = 2\n",
        "\n",
        "approx_output_2 = np.append(np.min(approx_2.GP.y[0:n_init]),approx_2.GP.y[n_init:(n_init+iters)]) \n",
        "exact_output_2 = np.append(np.min(exact_2.GP.y[0:n_init]),exact_2.GP.y[n_init:(n_init+iters)]) \n",
        "\n",
        "regret_approx_2 = np.log(-approx_output_2 + y_global_orig)\n",
        "regret_exact_2 = np.log(-exact_output_2 + y_global_orig)\n",
        "\n",
        "simple_regret_approx_2 = min_max_array(regret_approx_2)\n",
        "simple_regret_exact_2 = min_max_array(regret_exact_2)\n",
        "\n",
        "min_simple_regret_approx_2 = min(simple_regret_approx_2)\n",
        "min_simple_regret_exact_2 = min(simple_regret_exact_2)\n",
        "\n",
        "min_simple_regret_approx_2, min_simple_regret_exact_2"
      ],
      "execution_count": null,
      "outputs": [
        {
          "output_type": "execute_result",
          "data": {
            "text/plain": [
              "(1.8200468629158937, 2.811135136698193)"
            ]
          },
          "metadata": {},
          "execution_count": 56
        }
      ]
    },
    {
      "cell_type": "code",
      "metadata": {
        "id": "Bu6SBWALQxfl",
        "colab": {
          "base_uri": "https://localhost:8080/"
        },
        "outputId": "22734178-9f94-45a9-85fc-6daa77465abe"
      },
      "source": [
        "### Simple regret minimization: run number = 3\n",
        "\n",
        "approx_output_3 = np.append(np.min(approx_3.GP.y[0:n_init]),approx_3.GP.y[n_init:(n_init+iters)]) \n",
        "exact_output_3 = np.append(np.min(exact_3.GP.y[0:n_init]),exact_3.GP.y[n_init:(n_init+iters)]) \n",
        "\n",
        "regret_approx_3 = np.log(-approx_output_3 + y_global_orig)\n",
        "regret_exact_3 = np.log(-exact_output_3 + y_global_orig)\n",
        "\n",
        "simple_regret_approx_3 = min_max_array(regret_approx_3)\n",
        "simple_regret_exact_3 = min_max_array(regret_exact_3)\n",
        "\n",
        "min_simple_regret_approx_3 = min(simple_regret_approx_3)\n",
        "min_simple_regret_exact_3 = min(simple_regret_exact_3)\n",
        "\n",
        "min_simple_regret_approx_3, min_simple_regret_exact_3"
      ],
      "execution_count": null,
      "outputs": [
        {
          "output_type": "execute_result",
          "data": {
            "text/plain": [
              "(0.4014652911434721, 0.4014652911434721)"
            ]
          },
          "metadata": {},
          "execution_count": 57
        }
      ]
    },
    {
      "cell_type": "code",
      "metadata": {
        "id": "AZm0jgxkQxfm",
        "colab": {
          "base_uri": "https://localhost:8080/"
        },
        "outputId": "70e231c0-2d96-45da-b638-1959a789c81a"
      },
      "source": [
        "### Simple regret minimization: run number = 4\n",
        "\n",
        "approx_output_4 = np.append(np.min(approx_4.GP.y[0:n_init]),approx_4.GP.y[n_init:(n_init+iters)]) \n",
        "exact_output_4 = np.append(np.min(exact_4.GP.y[0:n_init]),exact_4.GP.y[n_init:(n_init+iters)]) \n",
        "\n",
        "regret_approx_4 = np.log(-approx_output_4 + y_global_orig)\n",
        "regret_exact_4 = np.log(-exact_output_4 + y_global_orig)\n",
        "\n",
        "simple_regret_approx_4 = min_max_array(regret_approx_4)\n",
        "simple_regret_exact_4 = min_max_array(regret_exact_4)\n",
        "\n",
        "min_simple_regret_approx_4 = min(simple_regret_approx_4)\n",
        "min_simple_regret_exact_4 = min(simple_regret_exact_4)\n",
        "\n",
        "min_simple_regret_approx_4, min_simple_regret_exact_4"
      ],
      "execution_count": null,
      "outputs": [
        {
          "output_type": "execute_result",
          "data": {
            "text/plain": [
              "(1.2724633741861668, 0.7478393198350645)"
            ]
          },
          "metadata": {},
          "execution_count": 58
        }
      ]
    },
    {
      "cell_type": "code",
      "metadata": {
        "id": "NONPm8JIQxfn",
        "colab": {
          "base_uri": "https://localhost:8080/"
        },
        "outputId": "abe29945-6a3b-4904-94f7-b50ac5d461a3"
      },
      "source": [
        "### Simple regret minimization: run number = 5\n",
        "\n",
        "approx_output_5 = np.append(np.min(approx_5.GP.y[0:n_init]),approx_5.GP.y[n_init:(n_init+iters)]) \n",
        "exact_output_5 = np.append(np.min(exact_5.GP.y[0:n_init]),exact_5.GP.y[n_init:(n_init+iters)]) \n",
        "\n",
        "regret_approx_5 = np.log(-approx_output_5 + y_global_orig)\n",
        "regret_exact_5 = np.log(-exact_output_5 + y_global_orig)\n",
        "\n",
        "simple_regret_approx_5 = min_max_array(regret_approx_5)\n",
        "simple_regret_exact_5 = min_max_array(regret_exact_5)\n",
        "\n",
        "min_simple_regret_approx_5 = min(simple_regret_approx_5)\n",
        "min_simple_regret_exact_5 = min(simple_regret_exact_5)\n",
        "\n",
        "min_simple_regret_approx_5, min_simple_regret_exact_5"
      ],
      "execution_count": null,
      "outputs": [
        {
          "output_type": "execute_result",
          "data": {
            "text/plain": [
              "(2.2758380659889617, 2.047085723725567)"
            ]
          },
          "metadata": {},
          "execution_count": 59
        }
      ]
    },
    {
      "cell_type": "code",
      "metadata": {
        "id": "CJv3lPuSQxfp",
        "colab": {
          "base_uri": "https://localhost:8080/"
        },
        "outputId": "99c3ba99-86b8-4f41-b016-6ba290fb60cc"
      },
      "source": [
        "### Simple regret minimization: run number = 6\n",
        "\n",
        "approx_output_6 = np.append(np.min(approx_6.GP.y[0:n_init]),approx_6.GP.y[n_init:(n_init+iters)]) \n",
        "exact_output_6 = np.append(np.min(exact_6.GP.y[0:n_init]),exact_6.GP.y[n_init:(n_init+iters)]) \n",
        "\n",
        "regret_approx_6 = np.log(-approx_output_6 + y_global_orig)\n",
        "regret_exact_6 = np.log(-exact_output_6 + y_global_orig)\n",
        "\n",
        "simple_regret_approx_6 = min_max_array(regret_approx_6)\n",
        "simple_regret_exact_6 = min_max_array(regret_exact_6)\n",
        "\n",
        "min_simple_regret_approx_6 = min(simple_regret_approx_6)\n",
        "min_simple_regret_exact_6 = min(simple_regret_exact_6)\n",
        "\n",
        "min_simple_regret_approx_6, min_simple_regret_exact_6"
      ],
      "execution_count": null,
      "outputs": [
        {
          "output_type": "execute_result",
          "data": {
            "text/plain": [
              "(1.1836763399419836, 3.3328401955603546)"
            ]
          },
          "metadata": {},
          "execution_count": 60
        }
      ]
    },
    {
      "cell_type": "code",
      "metadata": {
        "id": "quR2ZyApQxfq",
        "colab": {
          "base_uri": "https://localhost:8080/"
        },
        "outputId": "dfb6c9a3-f0aa-46d2-b538-6f907170a70c"
      },
      "source": [
        "### Simple regret minimization: run number = 7\n",
        "\n",
        "approx_output_7 = np.append(np.min(approx_7.GP.y[0:n_init]),approx_7.GP.y[n_init:(n_init+iters)]) \n",
        "exact_output_7 = np.append(np.min(exact_7.GP.y[0:n_init]),exact_7.GP.y[n_init:(n_init+iters)]) \n",
        "\n",
        "regret_approx_7 = np.log(-approx_output_7 + y_global_orig)\n",
        "regret_exact_7 = np.log(-exact_output_7 + y_global_orig)\n",
        "\n",
        "simple_regret_approx_7 = min_max_array(regret_approx_7)\n",
        "simple_regret_exact_7 = min_max_array(regret_exact_7)\n",
        "\n",
        "min_simple_regret_approx_7 = min(simple_regret_approx_7)\n",
        "min_simple_regret_exact_7 = min(simple_regret_exact_7)\n",
        "\n",
        "min_simple_regret_approx_7, min_simple_regret_exact_7"
      ],
      "execution_count": null,
      "outputs": [
        {
          "output_type": "execute_result",
          "data": {
            "text/plain": [
              "(0.1256824849172799, 1.4866884522716954)"
            ]
          },
          "metadata": {},
          "execution_count": 61
        }
      ]
    },
    {
      "cell_type": "code",
      "metadata": {
        "id": "99wY5nK6Qxfr",
        "colab": {
          "base_uri": "https://localhost:8080/"
        },
        "outputId": "2ab44ed2-9b01-4692-80ad-0370725b7464"
      },
      "source": [
        "### Simple regret minimization: run number = 8\n",
        "\n",
        "approx_output_8 = np.append(np.min(approx_8.GP.y[0:n_init]),approx_8.GP.y[n_init:(n_init+iters)]) \n",
        "exact_output_8 = np.append(np.min(exact_8.GP.y[0:n_init]),exact_8.GP.y[n_init:(n_init+iters)]) \n",
        "\n",
        "regret_approx_8 = np.log(-approx_output_8 + y_global_orig)\n",
        "regret_exact_8 = np.log(-exact_output_8 + y_global_orig)\n",
        "\n",
        "simple_regret_approx_8 = min_max_array(regret_approx_8)\n",
        "simple_regret_exact_8 = min_max_array(regret_exact_8)\n",
        "\n",
        "min_simple_regret_approx_8 = min(simple_regret_approx_8)\n",
        "min_simple_regret_exact_8 = min(simple_regret_exact_8)\n",
        "\n",
        "min_simple_regret_approx_8, min_simple_regret_exact_8"
      ],
      "execution_count": null,
      "outputs": [
        {
          "output_type": "execute_result",
          "data": {
            "text/plain": [
              "(2.502196230011914, 1.922399215714902)"
            ]
          },
          "metadata": {},
          "execution_count": 62
        }
      ]
    },
    {
      "cell_type": "code",
      "metadata": {
        "id": "qt0P5t9qQxfs",
        "colab": {
          "base_uri": "https://localhost:8080/"
        },
        "outputId": "a2a8f764-296d-4944-faf0-ac2ad471a210"
      },
      "source": [
        "### Simple regret minimization: run number = 9\n",
        "\n",
        "approx_output_9 = np.append(np.min(approx_9.GP.y[0:n_init]),approx_9.GP.y[n_init:(n_init+iters)]) \n",
        "exact_output_9 = np.append(np.min(exact_9.GP.y[0:n_init]),exact_9.GP.y[n_init:(n_init+iters)]) \n",
        "\n",
        "regret_approx_9 = np.log(-approx_output_9 + y_global_orig)\n",
        "regret_exact_9 = np.log(-exact_output_9 + y_global_orig)\n",
        "\n",
        "simple_regret_approx_9 = min_max_array(regret_approx_9)\n",
        "simple_regret_exact_9 = min_max_array(regret_exact_9)\n",
        "\n",
        "min_simple_regret_approx_9 = min(simple_regret_approx_9)\n",
        "min_simple_regret_exact_9 = min(simple_regret_exact_9)\n",
        "\n",
        "min_simple_regret_approx_9, min_simple_regret_exact_9"
      ],
      "execution_count": null,
      "outputs": [
        {
          "output_type": "execute_result",
          "data": {
            "text/plain": [
              "(1.260114153321654, 1.8544857353666753)"
            ]
          },
          "metadata": {},
          "execution_count": 63
        }
      ]
    },
    {
      "cell_type": "code",
      "metadata": {
        "id": "vx8to9stQxft",
        "colab": {
          "base_uri": "https://localhost:8080/"
        },
        "outputId": "1cbfa7b6-d58c-4949-83e2-481924cac89d"
      },
      "source": [
        "### Simple regret minimization: run number = 10\n",
        "\n",
        "approx_output_10 = np.append(np.min(approx_10.GP.y[0:n_init]),approx_10.GP.y[n_init:(n_init+iters)]) \n",
        "exact_output_10 = np.append(np.min(exact_10.GP.y[0:n_init]),exact_10.GP.y[n_init:(n_init+iters)]) \n",
        "\n",
        "regret_approx_10 = np.log(-approx_output_10 + y_global_orig)\n",
        "regret_exact_10 = np.log(-exact_output_10 + y_global_orig)\n",
        "\n",
        "simple_regret_approx_10 = min_max_array(regret_approx_10)\n",
        "simple_regret_exact_10 = min_max_array(regret_exact_10)\n",
        "\n",
        "min_simple_regret_approx_10 = min(simple_regret_approx_10)\n",
        "min_simple_regret_exact_10 = min(simple_regret_exact_10)\n",
        "\n",
        "min_simple_regret_approx_10, min_simple_regret_exact_10"
      ],
      "execution_count": null,
      "outputs": [
        {
          "output_type": "execute_result",
          "data": {
            "text/plain": [
              "(1.526866602142688, 1.526866602142688)"
            ]
          },
          "metadata": {},
          "execution_count": 64
        }
      ]
    },
    {
      "cell_type": "code",
      "metadata": {
        "id": "d-FGzWyHQxfu",
        "colab": {
          "base_uri": "https://localhost:8080/"
        },
        "outputId": "882351d2-fae1-433e-886a-4c4fcc4337f9"
      },
      "source": [
        "### Simple regret minimization: run number = 11\n",
        "\n",
        "approx_output_11 = np.append(np.min(approx_11.GP.y[0:n_init]),approx_11.GP.y[n_init:(n_init+iters)]) \n",
        "exact_output_11 = np.append(np.min(exact_11.GP.y[0:n_init]),exact_11.GP.y[n_init:(n_init+iters)]) \n",
        "\n",
        "regret_approx_11 = np.log(-approx_output_11 + y_global_orig)\n",
        "regret_exact_11 = np.log(-exact_output_11 + y_global_orig)\n",
        "\n",
        "simple_regret_approx_11 = min_max_array(regret_approx_11)\n",
        "simple_regret_exact_11 = min_max_array(regret_exact_11)\n",
        "\n",
        "min_simple_regret_approx_11 = min(simple_regret_approx_11)\n",
        "min_simple_regret_exact_11 = min(simple_regret_exact_11)\n",
        "\n",
        "min_simple_regret_approx_11, min_simple_regret_exact_11"
      ],
      "execution_count": null,
      "outputs": [
        {
          "output_type": "execute_result",
          "data": {
            "text/plain": [
              "(1.035990124860231, 1.227980462096967)"
            ]
          },
          "metadata": {},
          "execution_count": 65
        }
      ]
    },
    {
      "cell_type": "code",
      "metadata": {
        "id": "SvtsssyjQxfv",
        "colab": {
          "base_uri": "https://localhost:8080/"
        },
        "outputId": "6ec3e218-000d-4acc-a76e-6aaef9f8ed05"
      },
      "source": [
        "### Simple regret minimization: run number = 12\n",
        "\n",
        "approx_output_12 = np.append(np.min(approx_12.GP.y[0:n_init]),approx_12.GP.y[n_init:(n_init+iters)]) \n",
        "exact_output_12 = np.append(np.min(exact_12.GP.y[0:n_init]),exact_12.GP.y[n_init:(n_init+iters)]) \n",
        "\n",
        "regret_approx_12 = np.log(-approx_output_12 + y_global_orig)\n",
        "regret_exact_12 = np.log(-exact_output_12 + y_global_orig)\n",
        "\n",
        "simple_regret_approx_12 = min_max_array(regret_approx_12)\n",
        "simple_regret_exact_12 = min_max_array(regret_exact_12)\n",
        "\n",
        "min_simple_regret_approx_12 = min(simple_regret_approx_12)\n",
        "min_simple_regret_exact_12 = min(simple_regret_exact_12)\n",
        "\n",
        "min_simple_regret_approx_12, min_simple_regret_exact_12"
      ],
      "execution_count": null,
      "outputs": [
        {
          "output_type": "execute_result",
          "data": {
            "text/plain": [
              "(0.8139888919432123, 0.5945327332827791)"
            ]
          },
          "metadata": {},
          "execution_count": 66
        }
      ]
    },
    {
      "cell_type": "code",
      "metadata": {
        "id": "K6OiGcHkQxfw",
        "colab": {
          "base_uri": "https://localhost:8080/"
        },
        "outputId": "b51c45ba-9e57-4114-cca7-887df5204820"
      },
      "source": [
        "### Simple regret minimization: run number = 13\n",
        "\n",
        "approx_output_13 = np.append(np.min(approx_13.GP.y[0:n_init]),approx_13.GP.y[n_init:(n_init+iters)]) \n",
        "exact_output_13 = np.append(np.min(exact_13.GP.y[0:n_init]),exact_13.GP.y[n_init:(n_init+iters)]) \n",
        "\n",
        "regret_approx_13 = np.log(-approx_output_13 + y_global_orig)\n",
        "regret_exact_13 = np.log(-exact_output_13 + y_global_orig)\n",
        "\n",
        "simple_regret_approx_13 = min_max_array(regret_approx_13)\n",
        "simple_regret_exact_13 = min_max_array(regret_exact_13)\n",
        "\n",
        "min_simple_regret_approx_13 = min(simple_regret_approx_13)\n",
        "min_simple_regret_exact_13 = min(simple_regret_exact_13)\n",
        "\n",
        "min_simple_regret_approx_13, min_simple_regret_exact_13"
      ],
      "execution_count": null,
      "outputs": [
        {
          "output_type": "execute_result",
          "data": {
            "text/plain": [
              "(1.8606938644739544, 1.3534680160934707)"
            ]
          },
          "metadata": {},
          "execution_count": 67
        }
      ]
    },
    {
      "cell_type": "code",
      "metadata": {
        "id": "ogML73shQxfx",
        "colab": {
          "base_uri": "https://localhost:8080/"
        },
        "outputId": "aca63666-a525-4d86-d000-7370f04149bc"
      },
      "source": [
        "### Simple regret minimization: run number = 14\n",
        "\n",
        "approx_output_14 = np.append(np.min(approx_14.GP.y[0:n_init]),approx_14.GP.y[n_init:(n_init+iters)]) \n",
        "exact_output_14 = np.append(np.min(exact_14.GP.y[0:n_init]),exact_14.GP.y[n_init:(n_init+iters)]) \n",
        "\n",
        "regret_approx_14 = np.log(-approx_output_14 + y_global_orig)\n",
        "regret_exact_14 = np.log(-exact_output_14 + y_global_orig)\n",
        "\n",
        "simple_regret_approx_14 = min_max_array(regret_approx_14)\n",
        "simple_regret_exact_14 = min_max_array(regret_exact_14)\n",
        "\n",
        "min_simple_regret_approx_14 = min(simple_regret_approx_14)\n",
        "min_simple_regret_exact_14 = min(simple_regret_exact_14)\n",
        "\n",
        "min_simple_regret_approx_14, min_simple_regret_exact_14"
      ],
      "execution_count": null,
      "outputs": [
        {
          "output_type": "execute_result",
          "data": {
            "text/plain": [
              "(-1.0400484548352626, 1.3459231257963975)"
            ]
          },
          "metadata": {},
          "execution_count": 68
        }
      ]
    },
    {
      "cell_type": "code",
      "metadata": {
        "id": "9Eg7gFT9Qxfx",
        "colab": {
          "base_uri": "https://localhost:8080/"
        },
        "outputId": "0533ed0e-23e9-449e-dcc5-4fdbf984f644"
      },
      "source": [
        "### Simple regret minimization: run number = 15\n",
        "\n",
        "approx_output_15 = np.append(np.min(approx_15.GP.y[0:n_init]),approx_15.GP.y[n_init:(n_init+iters)]) \n",
        "exact_output_15 = np.append(np.min(exact_15.GP.y[0:n_init]),exact_15.GP.y[n_init:(n_init+iters)]) \n",
        "\n",
        "regret_approx_15 = np.log(-approx_output_15 + y_global_orig)\n",
        "regret_exact_15 = np.log(-exact_output_15 + y_global_orig)\n",
        "\n",
        "simple_regret_approx_15 = min_max_array(regret_approx_15)\n",
        "simple_regret_exact_15 = min_max_array(regret_exact_15)\n",
        "\n",
        "min_simple_regret_approx_15 = min(simple_regret_approx_15)\n",
        "min_simple_regret_exact_15 = min(simple_regret_exact_15)\n",
        "\n",
        "min_simple_regret_approx_15, min_simple_regret_exact_15"
      ],
      "execution_count": null,
      "outputs": [
        {
          "output_type": "execute_result",
          "data": {
            "text/plain": [
              "(0.8626796133521045, 0.5176143232949555)"
            ]
          },
          "metadata": {},
          "execution_count": 69
        }
      ]
    },
    {
      "cell_type": "code",
      "metadata": {
        "id": "lIAC1U7ZQxfy",
        "colab": {
          "base_uri": "https://localhost:8080/"
        },
        "outputId": "aa8c5cc6-10fb-4b34-8349-52c82c8cbc84"
      },
      "source": [
        "### Simple regret minimization: run number = 16\n",
        "\n",
        "approx_output_16 = np.append(np.min(approx_16.GP.y[0:n_init]),approx_16.GP.y[n_init:(n_init+iters)]) \n",
        "exact_output_16 = np.append(np.min(exact_16.GP.y[0:n_init]),exact_16.GP.y[n_init:(n_init+iters)]) \n",
        "\n",
        "regret_approx_16 = np.log(-approx_output_16 + y_global_orig)\n",
        "regret_exact_16 = np.log(-exact_output_16 + y_global_orig)\n",
        "\n",
        "simple_regret_approx_16 = min_max_array(regret_approx_16)\n",
        "simple_regret_exact_16 = min_max_array(regret_exact_16)\n",
        "\n",
        "min_simple_regret_approx_16 = min(simple_regret_approx_16)\n",
        "min_simple_regret_exact_16 = min(simple_regret_exact_16)\n",
        "\n",
        "min_simple_regret_approx_16, min_simple_regret_exact_16"
      ],
      "execution_count": null,
      "outputs": [
        {
          "output_type": "execute_result",
          "data": {
            "text/plain": [
              "(1.5148153736763112, -0.6646291691598722)"
            ]
          },
          "metadata": {},
          "execution_count": 70
        }
      ]
    },
    {
      "cell_type": "code",
      "metadata": {
        "id": "bGott36OQxfz",
        "colab": {
          "base_uri": "https://localhost:8080/"
        },
        "outputId": "602235a5-4b82-487c-8f61-e5e067e2fe1d"
      },
      "source": [
        "### Simple regret minimization: run number = 17\n",
        "\n",
        "approx_output_17 = np.append(np.min(approx_17.GP.y[0:n_init]),approx_17.GP.y[n_init:(n_init+iters)]) \n",
        "exact_output_17 = np.append(np.min(exact_17.GP.y[0:n_init]),exact_17.GP.y[n_init:(n_init+iters)]) \n",
        "\n",
        "regret_approx_17 = np.log(-approx_output_17 + y_global_orig)\n",
        "regret_exact_17 = np.log(-exact_output_17 + y_global_orig)\n",
        "\n",
        "simple_regret_approx_17 = min_max_array(regret_approx_17)\n",
        "simple_regret_exact_17 = min_max_array(regret_exact_17)\n",
        "\n",
        "min_simple_regret_approx_17 = min(simple_regret_approx_17)\n",
        "min_simple_regret_exact_17 = min(simple_regret_exact_17)\n",
        "\n",
        "min_simple_regret_approx_17, min_simple_regret_exact_17"
      ],
      "execution_count": null,
      "outputs": [
        {
          "output_type": "execute_result",
          "data": {
            "text/plain": [
              "(1.4246045136302479, -0.2616532216390745)"
            ]
          },
          "metadata": {},
          "execution_count": 71
        }
      ]
    },
    {
      "cell_type": "code",
      "metadata": {
        "id": "Cz9ZYMBMQxfz",
        "colab": {
          "base_uri": "https://localhost:8080/"
        },
        "outputId": "4f1c06a1-1f51-44c6-b6f1-fe2eda33aca1"
      },
      "source": [
        "### Simple regret minimization: run number = 18\n",
        "\n",
        "approx_output_18 = np.append(np.min(approx_18.GP.y[0:n_init]),approx_18.GP.y[n_init:(n_init+iters)]) \n",
        "exact_output_18 = np.append(np.min(exact_18.GP.y[0:n_init]),exact_18.GP.y[n_init:(n_init+iters)]) \n",
        "\n",
        "regret_approx_18 = np.log(-approx_output_18 + y_global_orig)\n",
        "regret_exact_18 = np.log(-exact_output_18 + y_global_orig)\n",
        "\n",
        "simple_regret_approx_18 = min_max_array(regret_approx_18)\n",
        "simple_regret_exact_18 = min_max_array(regret_exact_18)\n",
        "\n",
        "min_simple_regret_approx_18 = min(simple_regret_approx_18)\n",
        "min_simple_regret_exact_18 = min(simple_regret_exact_18)\n",
        "\n",
        "min_simple_regret_approx_18, min_simple_regret_exact_18"
      ],
      "execution_count": null,
      "outputs": [
        {
          "output_type": "execute_result",
          "data": {
            "text/plain": [
              "(1.7464381178407749, -1.3591501073500598)"
            ]
          },
          "metadata": {},
          "execution_count": 72
        }
      ]
    },
    {
      "cell_type": "code",
      "metadata": {
        "id": "OBfpWOHNQxf0",
        "colab": {
          "base_uri": "https://localhost:8080/"
        },
        "outputId": "b57a332b-3aab-4c3a-a6e1-a1cb5bdf7cc2"
      },
      "source": [
        "### Simple regret minimization: run number = 19\n",
        "\n",
        "approx_output_19 = np.append(np.min(approx_19.GP.y[0:n_init]),approx_19.GP.y[n_init:(n_init+iters)]) \n",
        "exact_output_19 = np.append(np.min(exact_19.GP.y[0:n_init]),exact_19.GP.y[n_init:(n_init+iters)]) \n",
        "\n",
        "regret_approx_19 = np.log(-approx_output_19 + y_global_orig)\n",
        "regret_exact_19 = np.log(-exact_output_19 + y_global_orig)\n",
        "\n",
        "simple_regret_approx_19 = min_max_array(regret_approx_19)\n",
        "simple_regret_exact_19 = min_max_array(regret_exact_19)\n",
        "\n",
        "min_simple_regret_approx_19 = min(simple_regret_approx_19)\n",
        "min_simple_regret_exact_19 = min(simple_regret_exact_19)\n",
        "\n",
        "min_simple_regret_approx_19, min_simple_regret_exact_19"
      ],
      "execution_count": null,
      "outputs": [
        {
          "output_type": "execute_result",
          "data": {
            "text/plain": [
              "(0.9259072164184522, 2.1697656638224014)"
            ]
          },
          "metadata": {},
          "execution_count": 73
        }
      ]
    },
    {
      "cell_type": "code",
      "metadata": {
        "id": "BE1AJ7NsQxf0",
        "colab": {
          "base_uri": "https://localhost:8080/"
        },
        "outputId": "f752888b-e429-4cd1-9c18-ad1044bf8c98"
      },
      "source": [
        "### Simple regret minimization: run number = 20\n",
        "\n",
        "approx_output_20 = np.append(np.min(approx_20.GP.y[0:n_init]),approx_20.GP.y[n_init:(n_init+iters)]) \n",
        "exact_output_20 = np.append(np.min(exact_20.GP.y[0:n_init]),exact_20.GP.y[n_init:(n_init+iters)]) \n",
        "\n",
        "regret_approx_20 = np.log(-approx_output_20 + y_global_orig)\n",
        "regret_exact_20 = np.log(-exact_output_20 + y_global_orig)\n",
        "\n",
        "simple_regret_approx_20 = min_max_array(regret_approx_20)\n",
        "simple_regret_exact_20 = min_max_array(regret_exact_20)\n",
        "\n",
        "min_simple_regret_approx_20 = min(simple_regret_approx_20)\n",
        "min_simple_regret_exact_20 = min(simple_regret_exact_20)\n",
        "\n",
        "min_simple_regret_approx_20, min_simple_regret_exact_20"
      ],
      "execution_count": null,
      "outputs": [
        {
          "output_type": "execute_result",
          "data": {
            "text/plain": [
              "(2.099669328680664, 2.228860276112156)"
            ]
          },
          "metadata": {},
          "execution_count": 74
        }
      ]
    },
    {
      "cell_type": "code",
      "metadata": {
        "id": "bpX-bKAHQxf1"
      },
      "source": [
        "# Iteration1 :\n",
        "\n",
        "slice1 = 0\n",
        "\n",
        "approx1 = [simple_regret_approx_1[slice1],\n",
        "       simple_regret_approx_2[slice1],\n",
        "       simple_regret_approx_3[slice1],\n",
        "       simple_regret_approx_4[slice1],\n",
        "       simple_regret_approx_5[slice1],\n",
        "       simple_regret_approx_6[slice1],\n",
        "       simple_regret_approx_7[slice1],\n",
        "       simple_regret_approx_8[slice1],\n",
        "       simple_regret_approx_9[slice1],\n",
        "       simple_regret_approx_10[slice1],\n",
        "       simple_regret_approx_11[slice1],\n",
        "       simple_regret_approx_12[slice1],\n",
        "       simple_regret_approx_13[slice1],\n",
        "       simple_regret_approx_14[slice1],\n",
        "       simple_regret_approx_15[slice1],\n",
        "       simple_regret_approx_16[slice1],\n",
        "       simple_regret_approx_17[slice1],\n",
        "       simple_regret_approx_18[slice1],\n",
        "       simple_regret_approx_19[slice1],\n",
        "       simple_regret_approx_20[slice1]]\n",
        "\n",
        "exact1 = [simple_regret_exact_1[slice1],\n",
        "       simple_regret_exact_2[slice1],\n",
        "       simple_regret_exact_3[slice1],\n",
        "       simple_regret_exact_4[slice1],\n",
        "       simple_regret_exact_5[slice1],\n",
        "       simple_regret_exact_6[slice1],\n",
        "       simple_regret_exact_7[slice1],\n",
        "       simple_regret_exact_8[slice1],\n",
        "       simple_regret_exact_9[slice1],\n",
        "       simple_regret_exact_10[slice1],\n",
        "       simple_regret_exact_11[slice1],\n",
        "       simple_regret_exact_12[slice1],\n",
        "       simple_regret_exact_13[slice1],\n",
        "       simple_regret_exact_14[slice1],\n",
        "       simple_regret_exact_15[slice1],\n",
        "       simple_regret_exact_16[slice1],\n",
        "       simple_regret_exact_17[slice1],\n",
        "       simple_regret_exact_18[slice1],\n",
        "       simple_regret_exact_19[slice1],\n",
        "       simple_regret_exact_20[slice1]]\n",
        "\n",
        "approx1_results = pd.DataFrame(approx1).sort_values(by=[0], ascending=False)\n",
        "exact1_results = pd.DataFrame(exact1).sort_values(by=[0], ascending=False)\n",
        "\n",
        "### Best simple regret minimization IQR - approx:\n",
        "lower_approx1 = np.asarray(approx1_results[4:5][0])[0]\n",
        "median_approx1 = np.asarray(approx1_results[9:10][0])[0]\n",
        "upper_approx1 = np.asarray(approx1_results[14:15][0])[0]\n",
        "\n",
        "lower_exact1 = np.asarray(exact1_results[4:5][0])[0]\n",
        "median_exact1 = np.asarray(exact1_results[9:10][0])[0]\n",
        "upper_exact1 = np.asarray(exact1_results[14:15][0])[0]"
      ],
      "execution_count": null,
      "outputs": []
    },
    {
      "cell_type": "code",
      "metadata": {
        "id": "CgIkJA1xQxf2"
      },
      "source": [
        "# Iteration11 :\n",
        "\n",
        "slice11 = 10\n",
        "\n",
        "approx11 = [simple_regret_approx_1[slice11],\n",
        "       simple_regret_approx_2[slice11],\n",
        "       simple_regret_approx_3[slice11],\n",
        "       simple_regret_approx_4[slice11],\n",
        "       simple_regret_approx_5[slice11],\n",
        "       simple_regret_approx_6[slice11],\n",
        "       simple_regret_approx_7[slice11],\n",
        "       simple_regret_approx_8[slice11],\n",
        "       simple_regret_approx_9[slice11],\n",
        "       simple_regret_approx_10[slice11],\n",
        "       simple_regret_approx_11[slice11],\n",
        "       simple_regret_approx_12[slice11],\n",
        "       simple_regret_approx_13[slice11],\n",
        "       simple_regret_approx_14[slice11],\n",
        "       simple_regret_approx_15[slice11],\n",
        "       simple_regret_approx_16[slice11],\n",
        "       simple_regret_approx_17[slice11],\n",
        "       simple_regret_approx_18[slice11],\n",
        "       simple_regret_approx_19[slice11],\n",
        "       simple_regret_approx_20[slice11]]\n",
        "\n",
        "exact11 = [simple_regret_exact_1[slice11],\n",
        "       simple_regret_exact_2[slice11],\n",
        "       simple_regret_exact_3[slice11],\n",
        "       simple_regret_exact_4[slice11],\n",
        "       simple_regret_exact_5[slice11],\n",
        "       simple_regret_exact_6[slice11],\n",
        "       simple_regret_exact_7[slice11],\n",
        "       simple_regret_exact_8[slice11],\n",
        "       simple_regret_exact_9[slice11],\n",
        "       simple_regret_exact_10[slice11],\n",
        "       simple_regret_exact_11[slice11],\n",
        "       simple_regret_exact_12[slice11],\n",
        "       simple_regret_exact_13[slice11],\n",
        "       simple_regret_exact_14[slice11],\n",
        "       simple_regret_exact_15[slice11],\n",
        "       simple_regret_exact_16[slice11],\n",
        "       simple_regret_exact_17[slice11],\n",
        "       simple_regret_exact_18[slice11],\n",
        "       simple_regret_exact_19[slice11],\n",
        "       simple_regret_exact_20[slice11]]\n",
        "\n",
        "approx11_results = pd.DataFrame(approx11).sort_values(by=[0], ascending=False)\n",
        "exact11_results = pd.DataFrame(exact11).sort_values(by=[0], ascending=False)\n",
        "\n",
        "### Best simple regret minimization IQR - approx:\n",
        "lower_approx11 = np.asarray(approx11_results[4:5][0])[0]\n",
        "median_approx11 = np.asarray(approx11_results[9:10][0])[0]\n",
        "upper_approx11 = np.asarray(approx11_results[14:15][0])[0]\n",
        "\n",
        "lower_exact11 = np.asarray(exact11_results[4:5][0])[0]\n",
        "median_exact11 = np.asarray(exact11_results[9:10][0])[0]\n",
        "upper_exact11 = np.asarray(exact11_results[14:15][0])[0]"
      ],
      "execution_count": null,
      "outputs": []
    },
    {
      "cell_type": "code",
      "metadata": {
        "id": "MFePDfGuQxf2"
      },
      "source": [
        "# Iteration21 :\n",
        "\n",
        "slice21 = 20\n",
        "\n",
        "approx21 = [simple_regret_approx_1[slice21],\n",
        "       simple_regret_approx_2[slice21],\n",
        "       simple_regret_approx_3[slice21],\n",
        "       simple_regret_approx_4[slice21],\n",
        "       simple_regret_approx_5[slice21],\n",
        "       simple_regret_approx_6[slice21],\n",
        "       simple_regret_approx_7[slice21],\n",
        "       simple_regret_approx_8[slice21],\n",
        "       simple_regret_approx_9[slice21],\n",
        "       simple_regret_approx_10[slice21],\n",
        "       simple_regret_approx_11[slice21],\n",
        "       simple_regret_approx_12[slice21],\n",
        "       simple_regret_approx_13[slice21],\n",
        "       simple_regret_approx_14[slice21],\n",
        "       simple_regret_approx_15[slice21],\n",
        "       simple_regret_approx_16[slice21],\n",
        "       simple_regret_approx_17[slice21],\n",
        "       simple_regret_approx_18[slice21],\n",
        "       simple_regret_approx_19[slice21],\n",
        "       simple_regret_approx_20[slice21]]\n",
        "\n",
        "exact21 = [simple_regret_exact_1[slice21],\n",
        "       simple_regret_exact_2[slice21],\n",
        "       simple_regret_exact_3[slice21],\n",
        "       simple_regret_exact_4[slice21],\n",
        "       simple_regret_exact_5[slice21],\n",
        "       simple_regret_exact_6[slice21],\n",
        "       simple_regret_exact_7[slice21],\n",
        "       simple_regret_exact_8[slice21],\n",
        "       simple_regret_exact_9[slice21],\n",
        "       simple_regret_exact_10[slice21],\n",
        "       simple_regret_exact_11[slice21],\n",
        "       simple_regret_exact_12[slice21],\n",
        "       simple_regret_exact_13[slice21],\n",
        "       simple_regret_exact_14[slice21],\n",
        "       simple_regret_exact_15[slice21],\n",
        "       simple_regret_exact_16[slice21],\n",
        "       simple_regret_exact_17[slice21],\n",
        "       simple_regret_exact_18[slice21],\n",
        "       simple_regret_exact_19[slice21],\n",
        "       simple_regret_exact_20[slice21]]\n",
        "\n",
        "approx21_results = pd.DataFrame(approx21).sort_values(by=[0], ascending=False)\n",
        "exact21_results = pd.DataFrame(exact21).sort_values(by=[0], ascending=False)\n",
        "\n",
        "### Best simple regret minimization IQR - approx:\n",
        "lower_approx21 = np.asarray(approx21_results[4:5][0])[0]\n",
        "median_approx21 = np.asarray(approx21_results[9:10][0])[0]\n",
        "upper_approx21 = np.asarray(approx21_results[14:15][0])[0]\n",
        "\n",
        "lower_exact21 = np.asarray(exact21_results[4:5][0])[0]\n",
        "median_exact21 = np.asarray(exact21_results[9:10][0])[0]\n",
        "upper_exact21 = np.asarray(exact21_results[14:15][0])[0]"
      ],
      "execution_count": null,
      "outputs": []
    },
    {
      "cell_type": "code",
      "metadata": {
        "id": "PrRDB1kfQxf3"
      },
      "source": [
        "# Iteration2 :\n",
        "\n",
        "slice2 = 1\n",
        "\n",
        "approx2 = [simple_regret_approx_1[slice2],\n",
        "       simple_regret_approx_2[slice2],\n",
        "       simple_regret_approx_3[slice2],\n",
        "       simple_regret_approx_4[slice2],\n",
        "       simple_regret_approx_5[slice2],\n",
        "       simple_regret_approx_6[slice2],\n",
        "       simple_regret_approx_7[slice2],\n",
        "       simple_regret_approx_8[slice2],\n",
        "       simple_regret_approx_9[slice2],\n",
        "       simple_regret_approx_10[slice2],\n",
        "       simple_regret_approx_11[slice2],\n",
        "       simple_regret_approx_12[slice2],\n",
        "       simple_regret_approx_13[slice2],\n",
        "       simple_regret_approx_14[slice2],\n",
        "       simple_regret_approx_15[slice2],\n",
        "       simple_regret_approx_16[slice2],\n",
        "       simple_regret_approx_17[slice2],\n",
        "       simple_regret_approx_18[slice2],\n",
        "       simple_regret_approx_19[slice2],\n",
        "       simple_regret_approx_20[slice2]]\n",
        "\n",
        "exact2 = [simple_regret_exact_1[slice2],\n",
        "       simple_regret_exact_2[slice2],\n",
        "       simple_regret_exact_3[slice2],\n",
        "       simple_regret_exact_4[slice2],\n",
        "       simple_regret_exact_5[slice2],\n",
        "       simple_regret_exact_6[slice2],\n",
        "       simple_regret_exact_7[slice2],\n",
        "       simple_regret_exact_8[slice2],\n",
        "       simple_regret_exact_9[slice2],\n",
        "       simple_regret_exact_10[slice2],\n",
        "       simple_regret_exact_11[slice2],\n",
        "       simple_regret_exact_12[slice2],\n",
        "       simple_regret_exact_13[slice2],\n",
        "       simple_regret_exact_14[slice2],\n",
        "       simple_regret_exact_15[slice2],\n",
        "       simple_regret_exact_16[slice2],\n",
        "       simple_regret_exact_17[slice2],\n",
        "       simple_regret_exact_18[slice2],\n",
        "       simple_regret_exact_19[slice2],\n",
        "       simple_regret_exact_20[slice2]]\n",
        "\n",
        "approx2_results = pd.DataFrame(approx2).sort_values(by=[0], ascending=False)\n",
        "exact2_results = pd.DataFrame(exact2).sort_values(by=[0], ascending=False)\n",
        "\n",
        "### Best simple regret minimization IQR - approx:\n",
        "lower_approx2 = np.asarray(approx2_results[4:5][0])[0]\n",
        "median_approx2 = np.asarray(approx2_results[9:10][0])[0]\n",
        "upper_approx2 = np.asarray(approx2_results[14:15][0])[0]\n",
        "\n",
        "lower_exact2 = np.asarray(exact2_results[4:5][0])[0]\n",
        "median_exact2 = np.asarray(exact2_results[9:10][0])[0]\n",
        "upper_exact2 = np.asarray(exact2_results[14:15][0])[0]"
      ],
      "execution_count": null,
      "outputs": []
    },
    {
      "cell_type": "code",
      "metadata": {
        "id": "B8ncJDYeQxf3"
      },
      "source": [
        "# Iteration12 :\n",
        "\n",
        "slice12 = 11\n",
        "\n",
        "approx12 = [simple_regret_approx_1[slice12],\n",
        "       simple_regret_approx_2[slice12],\n",
        "       simple_regret_approx_3[slice12],\n",
        "       simple_regret_approx_4[slice12],\n",
        "       simple_regret_approx_5[slice12],\n",
        "       simple_regret_approx_6[slice12],\n",
        "       simple_regret_approx_7[slice12],\n",
        "       simple_regret_approx_8[slice12],\n",
        "       simple_regret_approx_9[slice12],\n",
        "       simple_regret_approx_10[slice12],\n",
        "       simple_regret_approx_11[slice12],\n",
        "       simple_regret_approx_12[slice12],\n",
        "       simple_regret_approx_13[slice12],\n",
        "       simple_regret_approx_14[slice12],\n",
        "       simple_regret_approx_15[slice12],\n",
        "       simple_regret_approx_16[slice12],\n",
        "       simple_regret_approx_17[slice12],\n",
        "       simple_regret_approx_18[slice12],\n",
        "       simple_regret_approx_19[slice12],\n",
        "       simple_regret_approx_20[slice12]]\n",
        "\n",
        "exact12 = [simple_regret_exact_1[slice12],\n",
        "       simple_regret_exact_2[slice12],\n",
        "       simple_regret_exact_3[slice12],\n",
        "       simple_regret_exact_4[slice12],\n",
        "       simple_regret_exact_5[slice12],\n",
        "       simple_regret_exact_6[slice12],\n",
        "       simple_regret_exact_7[slice12],\n",
        "       simple_regret_exact_8[slice12],\n",
        "       simple_regret_exact_9[slice12],\n",
        "       simple_regret_exact_10[slice12],\n",
        "       simple_regret_exact_11[slice12],\n",
        "       simple_regret_exact_12[slice12],\n",
        "       simple_regret_exact_13[slice12],\n",
        "       simple_regret_exact_14[slice12],\n",
        "       simple_regret_exact_15[slice12],\n",
        "       simple_regret_exact_16[slice12],\n",
        "       simple_regret_exact_17[slice12],\n",
        "       simple_regret_exact_18[slice12],\n",
        "       simple_regret_exact_19[slice12],\n",
        "       simple_regret_exact_20[slice12]]\n",
        "\n",
        "approx12_results = pd.DataFrame(approx12).sort_values(by=[0], ascending=False)\n",
        "exact12_results = pd.DataFrame(exact12).sort_values(by=[0], ascending=False)\n",
        "\n",
        "### Best simple regret minimization IQR - approx:\n",
        "lower_approx12 = np.asarray(approx12_results[4:5][0])[0]\n",
        "median_approx12 = np.asarray(approx12_results[9:10][0])[0]\n",
        "upper_approx12 = np.asarray(approx12_results[14:15][0])[0]\n",
        "\n",
        "lower_exact12 = np.asarray(exact12_results[4:5][0])[0]\n",
        "median_exact12 = np.asarray(exact12_results[9:10][0])[0]\n",
        "upper_exact12 = np.asarray(exact12_results[14:15][0])[0]"
      ],
      "execution_count": null,
      "outputs": []
    },
    {
      "cell_type": "code",
      "metadata": {
        "id": "Jn4KpGvcQxf4"
      },
      "source": [
        "# Iteration3 :\n",
        "\n",
        "slice3 = 2\n",
        "\n",
        "approx3 = [simple_regret_approx_1[slice3],\n",
        "       simple_regret_approx_2[slice3],\n",
        "       simple_regret_approx_3[slice3],\n",
        "       simple_regret_approx_4[slice3],\n",
        "       simple_regret_approx_5[slice3],\n",
        "       simple_regret_approx_6[slice3],\n",
        "       simple_regret_approx_7[slice3],\n",
        "       simple_regret_approx_8[slice3],\n",
        "       simple_regret_approx_9[slice3],\n",
        "       simple_regret_approx_10[slice3],\n",
        "       simple_regret_approx_11[slice3],\n",
        "       simple_regret_approx_12[slice3],\n",
        "       simple_regret_approx_13[slice3],\n",
        "       simple_regret_approx_14[slice3],\n",
        "       simple_regret_approx_15[slice3],\n",
        "       simple_regret_approx_16[slice3],\n",
        "       simple_regret_approx_17[slice3],\n",
        "       simple_regret_approx_18[slice3],\n",
        "       simple_regret_approx_19[slice3],\n",
        "       simple_regret_approx_20[slice3]]\n",
        "\n",
        "exact3 = [simple_regret_exact_1[slice3],\n",
        "       simple_regret_exact_2[slice3],\n",
        "       simple_regret_exact_3[slice3],\n",
        "       simple_regret_exact_4[slice3],\n",
        "       simple_regret_exact_5[slice3],\n",
        "       simple_regret_exact_6[slice3],\n",
        "       simple_regret_exact_7[slice3],\n",
        "       simple_regret_exact_8[slice3],\n",
        "       simple_regret_exact_9[slice3],\n",
        "       simple_regret_exact_10[slice3],\n",
        "       simple_regret_exact_11[slice3],\n",
        "       simple_regret_exact_12[slice3],\n",
        "       simple_regret_exact_13[slice3],\n",
        "       simple_regret_exact_14[slice3],\n",
        "       simple_regret_exact_15[slice3],\n",
        "       simple_regret_exact_16[slice3],\n",
        "       simple_regret_exact_17[slice3],\n",
        "       simple_regret_exact_18[slice3],\n",
        "       simple_regret_exact_19[slice3],\n",
        "       simple_regret_exact_20[slice3]]\n",
        "\n",
        "approx3_results = pd.DataFrame(approx3).sort_values(by=[0], ascending=False)\n",
        "exact3_results = pd.DataFrame(exact3).sort_values(by=[0], ascending=False)\n",
        "\n",
        "### Best simple regret minimization IQR - approx:\n",
        "lower_approx3 = np.asarray(approx3_results[4:5][0])[0]\n",
        "median_approx3 = np.asarray(approx3_results[9:10][0])[0]\n",
        "upper_approx3 = np.asarray(approx3_results[14:15][0])[0]\n",
        "\n",
        "lower_exact3 = np.asarray(exact3_results[4:5][0])[0]\n",
        "median_exact3 = np.asarray(exact3_results[9:10][0])[0]\n",
        "upper_exact3 = np.asarray(exact3_results[14:15][0])[0]"
      ],
      "execution_count": null,
      "outputs": []
    },
    {
      "cell_type": "code",
      "metadata": {
        "id": "plf83wxrQxf4"
      },
      "source": [
        "# Iteration13 :\n",
        "\n",
        "slice13 = 12\n",
        "\n",
        "approx13 = [simple_regret_approx_1[slice13],\n",
        "       simple_regret_approx_2[slice13],\n",
        "       simple_regret_approx_3[slice13],\n",
        "       simple_regret_approx_4[slice13],\n",
        "       simple_regret_approx_5[slice13],\n",
        "       simple_regret_approx_6[slice13],\n",
        "       simple_regret_approx_7[slice13],\n",
        "       simple_regret_approx_8[slice13],\n",
        "       simple_regret_approx_9[slice13],\n",
        "       simple_regret_approx_10[slice13],\n",
        "       simple_regret_approx_11[slice13],\n",
        "       simple_regret_approx_12[slice13],\n",
        "       simple_regret_approx_13[slice13],\n",
        "       simple_regret_approx_14[slice13],\n",
        "       simple_regret_approx_15[slice13],\n",
        "       simple_regret_approx_16[slice13],\n",
        "       simple_regret_approx_17[slice13],\n",
        "       simple_regret_approx_18[slice13],\n",
        "       simple_regret_approx_19[slice13],\n",
        "       simple_regret_approx_20[slice13]]\n",
        "\n",
        "exact13 = [simple_regret_exact_1[slice13],\n",
        "       simple_regret_exact_2[slice13],\n",
        "       simple_regret_exact_3[slice13],\n",
        "       simple_regret_exact_4[slice13],\n",
        "       simple_regret_exact_5[slice13],\n",
        "       simple_regret_exact_6[slice13],\n",
        "       simple_regret_exact_7[slice13],\n",
        "       simple_regret_exact_8[slice13],\n",
        "       simple_regret_exact_9[slice13],\n",
        "       simple_regret_exact_10[slice13],\n",
        "       simple_regret_exact_11[slice13],\n",
        "       simple_regret_exact_12[slice13],\n",
        "       simple_regret_exact_13[slice13],\n",
        "       simple_regret_exact_14[slice13],\n",
        "       simple_regret_exact_15[slice13],\n",
        "       simple_regret_exact_16[slice13],\n",
        "       simple_regret_exact_17[slice13],\n",
        "       simple_regret_exact_18[slice13],\n",
        "       simple_regret_exact_19[slice13],\n",
        "       simple_regret_exact_20[slice13]]\n",
        "\n",
        "approx13_results = pd.DataFrame(approx13).sort_values(by=[0], ascending=False)\n",
        "exact13_results = pd.DataFrame(exact13).sort_values(by=[0], ascending=False)\n",
        "\n",
        "### Best simple regret minimization IQR - approx:\n",
        "lower_approx13 = np.asarray(approx13_results[4:5][0])[0]\n",
        "median_approx13 = np.asarray(approx13_results[9:10][0])[0]\n",
        "upper_approx13 = np.asarray(approx13_results[14:15][0])[0]\n",
        "\n",
        "lower_exact13 = np.asarray(exact13_results[4:5][0])[0]\n",
        "median_exact13 = np.asarray(exact13_results[9:10][0])[0]\n",
        "upper_exact13 = np.asarray(exact13_results[14:15][0])[0]"
      ],
      "execution_count": null,
      "outputs": []
    },
    {
      "cell_type": "code",
      "metadata": {
        "id": "9A7mlVvJQxf5"
      },
      "source": [
        "# Iteration4 :\n",
        "\n",
        "slice4 = 3\n",
        "\n",
        "approx4 = [simple_regret_approx_1[slice4],\n",
        "       simple_regret_approx_2[slice4],\n",
        "       simple_regret_approx_3[slice4],\n",
        "       simple_regret_approx_4[slice4],\n",
        "       simple_regret_approx_5[slice4],\n",
        "       simple_regret_approx_6[slice4],\n",
        "       simple_regret_approx_7[slice4],\n",
        "       simple_regret_approx_8[slice4],\n",
        "       simple_regret_approx_9[slice4],\n",
        "       simple_regret_approx_10[slice4],\n",
        "       simple_regret_approx_11[slice4],\n",
        "       simple_regret_approx_12[slice4],\n",
        "       simple_regret_approx_13[slice4],\n",
        "       simple_regret_approx_14[slice4],\n",
        "       simple_regret_approx_15[slice4],\n",
        "       simple_regret_approx_16[slice4],\n",
        "       simple_regret_approx_17[slice4],\n",
        "       simple_regret_approx_18[slice4],\n",
        "       simple_regret_approx_19[slice4],\n",
        "       simple_regret_approx_20[slice4]]\n",
        "\n",
        "exact4 = [simple_regret_exact_1[slice4],\n",
        "       simple_regret_exact_2[slice4],\n",
        "       simple_regret_exact_3[slice4],\n",
        "       simple_regret_exact_4[slice4],\n",
        "       simple_regret_exact_5[slice4],\n",
        "       simple_regret_exact_6[slice4],\n",
        "       simple_regret_exact_7[slice4],\n",
        "       simple_regret_exact_8[slice4],\n",
        "       simple_regret_exact_9[slice4],\n",
        "       simple_regret_exact_10[slice4],\n",
        "       simple_regret_exact_11[slice4],\n",
        "       simple_regret_exact_12[slice4],\n",
        "       simple_regret_exact_13[slice4],\n",
        "       simple_regret_exact_14[slice4],\n",
        "       simple_regret_exact_15[slice4],\n",
        "       simple_regret_exact_16[slice4],\n",
        "       simple_regret_exact_17[slice4],\n",
        "       simple_regret_exact_18[slice4],\n",
        "       simple_regret_exact_19[slice4],\n",
        "       simple_regret_exact_20[slice4]]\n",
        "\n",
        "approx4_results = pd.DataFrame(approx4).sort_values(by=[0], ascending=False)\n",
        "exact4_results = pd.DataFrame(exact4).sort_values(by=[0], ascending=False)\n",
        "\n",
        "### Best simple regret minimization IQR - approx:\n",
        "lower_approx4 = np.asarray(approx4_results[4:5][0])[0]\n",
        "median_approx4 = np.asarray(approx4_results[9:10][0])[0]\n",
        "upper_approx4 = np.asarray(approx4_results[14:15][0])[0]\n",
        "\n",
        "lower_exact4 = np.asarray(exact4_results[4:5][0])[0]\n",
        "median_exact4 = np.asarray(exact4_results[9:10][0])[0]\n",
        "upper_exact4 = np.asarray(exact4_results[14:15][0])[0]"
      ],
      "execution_count": null,
      "outputs": []
    },
    {
      "cell_type": "code",
      "metadata": {
        "id": "ijq-rioYQxf5"
      },
      "source": [
        "# Iteration14 :\n",
        "\n",
        "slice14 = 13\n",
        "\n",
        "approx14 = [simple_regret_approx_1[slice14],\n",
        "       simple_regret_approx_2[slice14],\n",
        "       simple_regret_approx_3[slice14],\n",
        "       simple_regret_approx_4[slice14],\n",
        "       simple_regret_approx_5[slice14],\n",
        "       simple_regret_approx_6[slice14],\n",
        "       simple_regret_approx_7[slice14],\n",
        "       simple_regret_approx_8[slice14],\n",
        "       simple_regret_approx_9[slice14],\n",
        "       simple_regret_approx_10[slice14],\n",
        "       simple_regret_approx_11[slice14],\n",
        "       simple_regret_approx_12[slice14],\n",
        "       simple_regret_approx_13[slice14],\n",
        "       simple_regret_approx_14[slice14],\n",
        "       simple_regret_approx_15[slice14],\n",
        "       simple_regret_approx_16[slice14],\n",
        "       simple_regret_approx_17[slice14],\n",
        "       simple_regret_approx_18[slice14],\n",
        "       simple_regret_approx_19[slice14],\n",
        "       simple_regret_approx_20[slice14]]\n",
        "\n",
        "exact14 = [simple_regret_exact_1[slice14],\n",
        "       simple_regret_exact_2[slice14],\n",
        "       simple_regret_exact_3[slice14],\n",
        "       simple_regret_exact_4[slice14],\n",
        "       simple_regret_exact_5[slice14],\n",
        "       simple_regret_exact_6[slice14],\n",
        "       simple_regret_exact_7[slice14],\n",
        "       simple_regret_exact_8[slice14],\n",
        "       simple_regret_exact_9[slice14],\n",
        "       simple_regret_exact_10[slice14],\n",
        "       simple_regret_exact_11[slice14],\n",
        "       simple_regret_exact_12[slice14],\n",
        "       simple_regret_exact_13[slice14],\n",
        "       simple_regret_exact_14[slice14],\n",
        "       simple_regret_exact_15[slice14],\n",
        "       simple_regret_exact_16[slice14],\n",
        "       simple_regret_exact_17[slice14],\n",
        "       simple_regret_exact_18[slice14],\n",
        "       simple_regret_exact_19[slice14],\n",
        "       simple_regret_exact_20[slice14]]\n",
        "\n",
        "approx14_results = pd.DataFrame(approx14).sort_values(by=[0], ascending=False)\n",
        "exact14_results = pd.DataFrame(exact14).sort_values(by=[0], ascending=False)\n",
        "\n",
        "### Best simple regret minimization IQR - approx:\n",
        "lower_approx14 = np.asarray(approx14_results[4:5][0])[0]\n",
        "median_approx14 = np.asarray(approx14_results[9:10][0])[0]\n",
        "upper_approx14 = np.asarray(approx14_results[14:15][0])[0]\n",
        "\n",
        "lower_exact14 = np.asarray(exact14_results[4:5][0])[0]\n",
        "median_exact14 = np.asarray(exact14_results[9:10][0])[0]\n",
        "upper_exact14 = np.asarray(exact14_results[14:15][0])[0]"
      ],
      "execution_count": null,
      "outputs": []
    },
    {
      "cell_type": "code",
      "metadata": {
        "id": "XINlZjoTd-ZK"
      },
      "source": [
        "# Iteration5 :\n",
        "\n",
        "slice5 = 4\n",
        "\n",
        "approx5 = [simple_regret_approx_1[slice5],\n",
        "       simple_regret_approx_2[slice5],\n",
        "       simple_regret_approx_3[slice5],\n",
        "       simple_regret_approx_4[slice5],\n",
        "       simple_regret_approx_5[slice5],\n",
        "       simple_regret_approx_6[slice5],\n",
        "       simple_regret_approx_7[slice5],\n",
        "       simple_regret_approx_8[slice5],\n",
        "       simple_regret_approx_9[slice5],\n",
        "       simple_regret_approx_10[slice5],\n",
        "       simple_regret_approx_11[slice5],\n",
        "       simple_regret_approx_12[slice5],\n",
        "       simple_regret_approx_13[slice5],\n",
        "       simple_regret_approx_14[slice5],\n",
        "       simple_regret_approx_15[slice5],\n",
        "       simple_regret_approx_16[slice5],\n",
        "       simple_regret_approx_17[slice5],\n",
        "       simple_regret_approx_18[slice5],\n",
        "       simple_regret_approx_19[slice5],\n",
        "       simple_regret_approx_20[slice5]]\n",
        "\n",
        "exact5 = [simple_regret_exact_1[slice5],\n",
        "       simple_regret_exact_2[slice5],\n",
        "       simple_regret_exact_3[slice5],\n",
        "       simple_regret_exact_4[slice5],\n",
        "       simple_regret_exact_5[slice5],\n",
        "       simple_regret_exact_6[slice5],\n",
        "       simple_regret_exact_7[slice5],\n",
        "       simple_regret_exact_8[slice5],\n",
        "       simple_regret_exact_9[slice5],\n",
        "       simple_regret_exact_10[slice5],\n",
        "       simple_regret_exact_11[slice5],\n",
        "       simple_regret_exact_12[slice5],\n",
        "       simple_regret_exact_13[slice5],\n",
        "       simple_regret_exact_14[slice5],\n",
        "       simple_regret_exact_15[slice5],\n",
        "       simple_regret_exact_16[slice5],\n",
        "       simple_regret_exact_17[slice5],\n",
        "       simple_regret_exact_18[slice5],\n",
        "       simple_regret_exact_19[slice5],\n",
        "       simple_regret_exact_20[slice5]]\n",
        "\n",
        "approx5_results = pd.DataFrame(approx5).sort_values(by=[0], ascending=False)\n",
        "exact5_results = pd.DataFrame(exact5).sort_values(by=[0], ascending=False)\n",
        "\n",
        "### Best simple regret minimization IQR - approx:\n",
        "lower_approx5 = np.asarray(approx5_results[4:5][0])[0]\n",
        "median_approx5 = np.asarray(approx5_results[9:10][0])[0]\n",
        "upper_approx5 = np.asarray(approx5_results[14:15][0])[0]\n",
        "\n",
        "lower_exact5 = np.asarray(exact5_results[4:5][0])[0]\n",
        "median_exact5 = np.asarray(exact5_results[9:10][0])[0]\n",
        "upper_exact5 = np.asarray(exact5_results[14:15][0])[0]"
      ],
      "execution_count": null,
      "outputs": []
    },
    {
      "cell_type": "code",
      "metadata": {
        "id": "4aZ7C8sOQxf6"
      },
      "source": [
        "# Iteration15 :\n",
        "\n",
        "slice15 = 14\n",
        "\n",
        "approx15 = [simple_regret_approx_1[slice15],\n",
        "       simple_regret_approx_2[slice15],\n",
        "       simple_regret_approx_3[slice15],\n",
        "       simple_regret_approx_4[slice15],\n",
        "       simple_regret_approx_5[slice15],\n",
        "       simple_regret_approx_6[slice15],\n",
        "       simple_regret_approx_7[slice15],\n",
        "       simple_regret_approx_8[slice15],\n",
        "       simple_regret_approx_9[slice15],\n",
        "       simple_regret_approx_10[slice15],\n",
        "       simple_regret_approx_11[slice15],\n",
        "       simple_regret_approx_12[slice15],\n",
        "       simple_regret_approx_13[slice15],\n",
        "       simple_regret_approx_14[slice15],\n",
        "       simple_regret_approx_15[slice15],\n",
        "       simple_regret_approx_16[slice15],\n",
        "       simple_regret_approx_17[slice15],\n",
        "       simple_regret_approx_18[slice15],\n",
        "       simple_regret_approx_19[slice15],\n",
        "       simple_regret_approx_20[slice15]]\n",
        "\n",
        "exact15 = [simple_regret_exact_1[slice15],\n",
        "       simple_regret_exact_2[slice15],\n",
        "       simple_regret_exact_3[slice15],\n",
        "       simple_regret_exact_4[slice15],\n",
        "       simple_regret_exact_5[slice15],\n",
        "       simple_regret_exact_6[slice15],\n",
        "       simple_regret_exact_7[slice15],\n",
        "       simple_regret_exact_8[slice15],\n",
        "       simple_regret_exact_9[slice15],\n",
        "       simple_regret_exact_10[slice15],\n",
        "       simple_regret_exact_11[slice15],\n",
        "       simple_regret_exact_12[slice15],\n",
        "       simple_regret_exact_13[slice15],\n",
        "       simple_regret_exact_14[slice15],\n",
        "       simple_regret_exact_15[slice15],\n",
        "       simple_regret_exact_16[slice15],\n",
        "       simple_regret_exact_17[slice15],\n",
        "       simple_regret_exact_18[slice15],\n",
        "       simple_regret_exact_19[slice15],\n",
        "       simple_regret_exact_20[slice15]]\n",
        "\n",
        "approx15_results = pd.DataFrame(approx15).sort_values(by=[0], ascending=False)\n",
        "exact15_results = pd.DataFrame(exact15).sort_values(by=[0], ascending=False)\n",
        "\n",
        "### Best simple regret minimization IQR - approx:\n",
        "lower_approx15 = np.asarray(approx15_results[4:5][0])[0]\n",
        "median_approx15 = np.asarray(approx15_results[9:10][0])[0]\n",
        "upper_approx15 = np.asarray(approx15_results[14:15][0])[0]\n",
        "\n",
        "lower_exact15 = np.asarray(exact15_results[4:5][0])[0]\n",
        "median_exact15 = np.asarray(exact15_results[9:10][0])[0]\n",
        "upper_exact15 = np.asarray(exact15_results[14:15][0])[0]"
      ],
      "execution_count": null,
      "outputs": []
    },
    {
      "cell_type": "code",
      "metadata": {
        "id": "KJINKhv1Qxf6"
      },
      "source": [
        "# Iteration6 :\n",
        "\n",
        "slice6 = 5\n",
        "\n",
        "approx6 = [simple_regret_approx_1[slice6],\n",
        "       simple_regret_approx_2[slice6],\n",
        "       simple_regret_approx_3[slice6],\n",
        "       simple_regret_approx_4[slice6],\n",
        "       simple_regret_approx_5[slice6],\n",
        "       simple_regret_approx_6[slice6],\n",
        "       simple_regret_approx_7[slice6],\n",
        "       simple_regret_approx_8[slice6],\n",
        "       simple_regret_approx_9[slice6],\n",
        "       simple_regret_approx_10[slice6],\n",
        "       simple_regret_approx_11[slice6],\n",
        "       simple_regret_approx_12[slice6],\n",
        "       simple_regret_approx_13[slice6],\n",
        "       simple_regret_approx_14[slice6],\n",
        "       simple_regret_approx_15[slice6],\n",
        "       simple_regret_approx_16[slice6],\n",
        "       simple_regret_approx_17[slice6],\n",
        "       simple_regret_approx_18[slice6],\n",
        "       simple_regret_approx_19[slice6],\n",
        "       simple_regret_approx_20[slice6]]\n",
        "\n",
        "exact6 = [simple_regret_exact_1[slice6],\n",
        "       simple_regret_exact_2[slice6],\n",
        "       simple_regret_exact_3[slice6],\n",
        "       simple_regret_exact_4[slice6],\n",
        "       simple_regret_exact_5[slice6],\n",
        "       simple_regret_exact_6[slice6],\n",
        "       simple_regret_exact_7[slice6],\n",
        "       simple_regret_exact_8[slice6],\n",
        "       simple_regret_exact_9[slice6],\n",
        "       simple_regret_exact_10[slice6],\n",
        "       simple_regret_exact_11[slice6],\n",
        "       simple_regret_exact_12[slice6],\n",
        "       simple_regret_exact_13[slice6],\n",
        "       simple_regret_exact_14[slice6],\n",
        "       simple_regret_exact_15[slice6],\n",
        "       simple_regret_exact_16[slice6],\n",
        "       simple_regret_exact_17[slice6],\n",
        "       simple_regret_exact_18[slice6],\n",
        "       simple_regret_exact_19[slice6],\n",
        "       simple_regret_exact_20[slice6]]\n",
        "\n",
        "approx6_results = pd.DataFrame(approx6).sort_values(by=[0], ascending=False)\n",
        "exact6_results = pd.DataFrame(exact6).sort_values(by=[0], ascending=False)\n",
        "\n",
        "### Best simple regret minimization IQR - approx:\n",
        "lower_approx6 = np.asarray(approx6_results[4:5][0])[0]\n",
        "median_approx6 = np.asarray(approx6_results[9:10][0])[0]\n",
        "upper_approx6 = np.asarray(approx6_results[14:15][0])[0]\n",
        "\n",
        "lower_exact6 = np.asarray(exact6_results[4:5][0])[0]\n",
        "median_exact6 = np.asarray(exact6_results[9:10][0])[0]\n",
        "upper_exact6 = np.asarray(exact6_results[14:15][0])[0]"
      ],
      "execution_count": null,
      "outputs": []
    },
    {
      "cell_type": "code",
      "metadata": {
        "id": "nwC5N1FsQxf7"
      },
      "source": [
        "# Iteration16 :\n",
        "\n",
        "slice16 = 15\n",
        "\n",
        "approx16 = [simple_regret_approx_1[slice16],\n",
        "       simple_regret_approx_2[slice16],\n",
        "       simple_regret_approx_3[slice16],\n",
        "       simple_regret_approx_4[slice16],\n",
        "       simple_regret_approx_5[slice16],\n",
        "       simple_regret_approx_6[slice16],\n",
        "       simple_regret_approx_7[slice16],\n",
        "       simple_regret_approx_8[slice16],\n",
        "       simple_regret_approx_9[slice16],\n",
        "       simple_regret_approx_10[slice16],\n",
        "       simple_regret_approx_11[slice16],\n",
        "       simple_regret_approx_12[slice16],\n",
        "       simple_regret_approx_13[slice16],\n",
        "       simple_regret_approx_14[slice16],\n",
        "       simple_regret_approx_15[slice16],\n",
        "       simple_regret_approx_16[slice16],\n",
        "       simple_regret_approx_17[slice16],\n",
        "       simple_regret_approx_18[slice16],\n",
        "       simple_regret_approx_19[slice16],\n",
        "       simple_regret_approx_20[slice16]]\n",
        "\n",
        "exact16 = [simple_regret_exact_1[slice16],\n",
        "       simple_regret_exact_2[slice16],\n",
        "       simple_regret_exact_3[slice16],\n",
        "       simple_regret_exact_4[slice16],\n",
        "       simple_regret_exact_5[slice16],\n",
        "       simple_regret_exact_6[slice16],\n",
        "       simple_regret_exact_7[slice16],\n",
        "       simple_regret_exact_8[slice16],\n",
        "       simple_regret_exact_9[slice16],\n",
        "       simple_regret_exact_10[slice16],\n",
        "       simple_regret_exact_11[slice16],\n",
        "       simple_regret_exact_12[slice16],\n",
        "       simple_regret_exact_13[slice16],\n",
        "       simple_regret_exact_14[slice16],\n",
        "       simple_regret_exact_15[slice16],\n",
        "       simple_regret_exact_16[slice16],\n",
        "       simple_regret_exact_17[slice16],\n",
        "       simple_regret_exact_18[slice16],\n",
        "       simple_regret_exact_19[slice16],\n",
        "       simple_regret_exact_20[slice16]]\n",
        "\n",
        "approx16_results = pd.DataFrame(approx16).sort_values(by=[0], ascending=False)\n",
        "exact16_results = pd.DataFrame(exact16).sort_values(by=[0], ascending=False)\n",
        "\n",
        "### Best simple regret minimization IQR - approx:\n",
        "lower_approx16 = np.asarray(approx16_results[4:5][0])[0]\n",
        "median_approx16 = np.asarray(approx16_results[9:10][0])[0]\n",
        "upper_approx16 = np.asarray(approx16_results[14:15][0])[0]\n",
        "\n",
        "lower_exact16 = np.asarray(exact16_results[4:5][0])[0]\n",
        "median_exact16 = np.asarray(exact16_results[9:10][0])[0]\n",
        "upper_exact16 = np.asarray(exact16_results[14:15][0])[0]"
      ],
      "execution_count": null,
      "outputs": []
    },
    {
      "cell_type": "code",
      "metadata": {
        "id": "TrPV0AfnQxf7"
      },
      "source": [
        "# Iteration7 :\n",
        "\n",
        "slice7 = 6\n",
        "\n",
        "approx7 = [simple_regret_approx_1[slice7],\n",
        "       simple_regret_approx_2[slice7],\n",
        "       simple_regret_approx_3[slice7],\n",
        "       simple_regret_approx_4[slice7],\n",
        "       simple_regret_approx_5[slice7],\n",
        "       simple_regret_approx_6[slice7],\n",
        "       simple_regret_approx_7[slice7],\n",
        "       simple_regret_approx_8[slice7],\n",
        "       simple_regret_approx_9[slice7],\n",
        "       simple_regret_approx_10[slice7],\n",
        "       simple_regret_approx_11[slice7],\n",
        "       simple_regret_approx_12[slice7],\n",
        "       simple_regret_approx_13[slice7],\n",
        "       simple_regret_approx_14[slice7],\n",
        "       simple_regret_approx_15[slice7],\n",
        "       simple_regret_approx_16[slice7],\n",
        "       simple_regret_approx_17[slice7],\n",
        "       simple_regret_approx_18[slice7],\n",
        "       simple_regret_approx_19[slice7],\n",
        "       simple_regret_approx_20[slice7]]\n",
        "\n",
        "exact7 = [simple_regret_exact_1[slice7],\n",
        "       simple_regret_exact_2[slice7],\n",
        "       simple_regret_exact_3[slice7],\n",
        "       simple_regret_exact_4[slice7],\n",
        "       simple_regret_exact_5[slice7],\n",
        "       simple_regret_exact_6[slice7],\n",
        "       simple_regret_exact_7[slice7],\n",
        "       simple_regret_exact_8[slice7],\n",
        "       simple_regret_exact_9[slice7],\n",
        "       simple_regret_exact_10[slice7],\n",
        "       simple_regret_exact_11[slice7],\n",
        "       simple_regret_exact_12[slice7],\n",
        "       simple_regret_exact_13[slice7],\n",
        "       simple_regret_exact_14[slice7],\n",
        "       simple_regret_exact_15[slice7],\n",
        "       simple_regret_exact_16[slice7],\n",
        "       simple_regret_exact_17[slice7],\n",
        "       simple_regret_exact_18[slice7],\n",
        "       simple_regret_exact_19[slice7],\n",
        "       simple_regret_exact_20[slice7]]\n",
        "\n",
        "approx7_results = pd.DataFrame(approx7).sort_values(by=[0], ascending=False)\n",
        "exact7_results = pd.DataFrame(exact7).sort_values(by=[0], ascending=False)\n",
        "\n",
        "### Best simple regret minimization IQR - approx:\n",
        "lower_approx7 = np.asarray(approx7_results[4:5][0])[0]\n",
        "median_approx7 = np.asarray(approx7_results[9:10][0])[0]\n",
        "upper_approx7 = np.asarray(approx7_results[14:15][0])[0]\n",
        "\n",
        "lower_exact7 = np.asarray(exact7_results[4:5][0])[0]\n",
        "median_exact7 = np.asarray(exact7_results[9:10][0])[0]\n",
        "upper_exact7 = np.asarray(exact7_results[14:15][0])[0]"
      ],
      "execution_count": null,
      "outputs": []
    },
    {
      "cell_type": "code",
      "metadata": {
        "id": "Ub_-wpK4Qxf8"
      },
      "source": [
        "# Iteration17 :\n",
        "\n",
        "slice17 = 16\n",
        "\n",
        "approx17 = [simple_regret_approx_1[slice17],\n",
        "       simple_regret_approx_2[slice17],\n",
        "       simple_regret_approx_3[slice17],\n",
        "       simple_regret_approx_4[slice17],\n",
        "       simple_regret_approx_5[slice17],\n",
        "       simple_regret_approx_6[slice17],\n",
        "       simple_regret_approx_7[slice17],\n",
        "       simple_regret_approx_8[slice17],\n",
        "       simple_regret_approx_9[slice17],\n",
        "       simple_regret_approx_10[slice17],\n",
        "       simple_regret_approx_11[slice17],\n",
        "       simple_regret_approx_12[slice17],\n",
        "       simple_regret_approx_13[slice17],\n",
        "       simple_regret_approx_14[slice17],\n",
        "       simple_regret_approx_15[slice17],\n",
        "       simple_regret_approx_16[slice17],\n",
        "       simple_regret_approx_17[slice17],\n",
        "       simple_regret_approx_18[slice17],\n",
        "       simple_regret_approx_19[slice17],\n",
        "       simple_regret_approx_20[slice17]]\n",
        "\n",
        "exact17 = [simple_regret_exact_1[slice17],\n",
        "       simple_regret_exact_2[slice17],\n",
        "       simple_regret_exact_3[slice17],\n",
        "       simple_regret_exact_4[slice17],\n",
        "       simple_regret_exact_5[slice17],\n",
        "       simple_regret_exact_6[slice17],\n",
        "       simple_regret_exact_7[slice17],\n",
        "       simple_regret_exact_8[slice17],\n",
        "       simple_regret_exact_9[slice17],\n",
        "       simple_regret_exact_10[slice17],\n",
        "       simple_regret_exact_11[slice17],\n",
        "       simple_regret_exact_12[slice17],\n",
        "       simple_regret_exact_13[slice17],\n",
        "       simple_regret_exact_14[slice17],\n",
        "       simple_regret_exact_15[slice17],\n",
        "       simple_regret_exact_16[slice17],\n",
        "       simple_regret_exact_17[slice17],\n",
        "       simple_regret_exact_18[slice17],\n",
        "       simple_regret_exact_19[slice17],\n",
        "       simple_regret_exact_20[slice17]]\n",
        "\n",
        "approx17_results = pd.DataFrame(approx17).sort_values(by=[0], ascending=False)\n",
        "exact17_results = pd.DataFrame(exact17).sort_values(by=[0], ascending=False)\n",
        "\n",
        "### Best simple regret minimization IQR - approx:\n",
        "lower_approx17 = np.asarray(approx17_results[4:5][0])[0]\n",
        "median_approx17 = np.asarray(approx17_results[9:10][0])[0]\n",
        "upper_approx17 = np.asarray(approx17_results[14:15][0])[0]\n",
        "\n",
        "lower_exact17 = np.asarray(exact17_results[4:5][0])[0]\n",
        "median_exact17 = np.asarray(exact17_results[9:10][0])[0]\n",
        "upper_exact17 = np.asarray(exact17_results[14:15][0])[0]"
      ],
      "execution_count": null,
      "outputs": []
    },
    {
      "cell_type": "code",
      "metadata": {
        "id": "-6VLo37PQxf8"
      },
      "source": [
        "# Iteration8 :\n",
        "\n",
        "slice8 = 7\n",
        "\n",
        "approx8 = [simple_regret_approx_1[slice8],\n",
        "       simple_regret_approx_2[slice8],\n",
        "       simple_regret_approx_3[slice8],\n",
        "       simple_regret_approx_4[slice8],\n",
        "       simple_regret_approx_5[slice8],\n",
        "       simple_regret_approx_6[slice8],\n",
        "       simple_regret_approx_7[slice8],\n",
        "       simple_regret_approx_8[slice8],\n",
        "       simple_regret_approx_9[slice8],\n",
        "       simple_regret_approx_10[slice8],\n",
        "       simple_regret_approx_11[slice8],\n",
        "       simple_regret_approx_12[slice8],\n",
        "       simple_regret_approx_13[slice8],\n",
        "       simple_regret_approx_14[slice8],\n",
        "       simple_regret_approx_15[slice8],\n",
        "       simple_regret_approx_16[slice8],\n",
        "       simple_regret_approx_17[slice8],\n",
        "       simple_regret_approx_18[slice8],\n",
        "       simple_regret_approx_19[slice8],\n",
        "       simple_regret_approx_20[slice8]]\n",
        "\n",
        "exact8 = [simple_regret_exact_1[slice8],\n",
        "       simple_regret_exact_2[slice8],\n",
        "       simple_regret_exact_3[slice8],\n",
        "       simple_regret_exact_4[slice8],\n",
        "       simple_regret_exact_5[slice8],\n",
        "       simple_regret_exact_6[slice8],\n",
        "       simple_regret_exact_7[slice8],\n",
        "       simple_regret_exact_8[slice8],\n",
        "       simple_regret_exact_9[slice8],\n",
        "       simple_regret_exact_10[slice8],\n",
        "       simple_regret_exact_11[slice8],\n",
        "       simple_regret_exact_12[slice8],\n",
        "       simple_regret_exact_13[slice8],\n",
        "       simple_regret_exact_14[slice8],\n",
        "       simple_regret_exact_15[slice8],\n",
        "       simple_regret_exact_16[slice8],\n",
        "       simple_regret_exact_17[slice8],\n",
        "       simple_regret_exact_18[slice8],\n",
        "       simple_regret_exact_19[slice8],\n",
        "       simple_regret_exact_20[slice8]]\n",
        "\n",
        "approx8_results = pd.DataFrame(approx8).sort_values(by=[0], ascending=False)\n",
        "exact8_results = pd.DataFrame(exact8).sort_values(by=[0], ascending=False)\n",
        "\n",
        "### Best simple regret minimization IQR - approx:\n",
        "lower_approx8 = np.asarray(approx8_results[4:5][0])[0]\n",
        "median_approx8 = np.asarray(approx8_results[9:10][0])[0]\n",
        "upper_approx8 = np.asarray(approx8_results[14:15][0])[0]\n",
        "\n",
        "lower_exact8 = np.asarray(exact8_results[4:5][0])[0]\n",
        "median_exact8 = np.asarray(exact8_results[9:10][0])[0]\n",
        "upper_exact8 = np.asarray(exact8_results[14:15][0])[0]"
      ],
      "execution_count": null,
      "outputs": []
    },
    {
      "cell_type": "code",
      "metadata": {
        "id": "2Dp-9CC2Qxf9"
      },
      "source": [
        "# Iteration18 :\n",
        "\n",
        "slice18 = 17\n",
        "\n",
        "approx18 = [simple_regret_approx_1[slice18],\n",
        "       simple_regret_approx_2[slice18],\n",
        "       simple_regret_approx_3[slice18],\n",
        "       simple_regret_approx_4[slice18],\n",
        "       simple_regret_approx_5[slice18],\n",
        "       simple_regret_approx_6[slice18],\n",
        "       simple_regret_approx_7[slice18],\n",
        "       simple_regret_approx_8[slice18],\n",
        "       simple_regret_approx_9[slice18],\n",
        "       simple_regret_approx_10[slice18],\n",
        "       simple_regret_approx_11[slice18],\n",
        "       simple_regret_approx_12[slice18],\n",
        "       simple_regret_approx_13[slice18],\n",
        "       simple_regret_approx_14[slice18],\n",
        "       simple_regret_approx_15[slice18],\n",
        "       simple_regret_approx_16[slice18],\n",
        "       simple_regret_approx_17[slice18],\n",
        "       simple_regret_approx_18[slice18],\n",
        "       simple_regret_approx_19[slice18],\n",
        "       simple_regret_approx_20[slice18]]\n",
        "\n",
        "exact18 = [simple_regret_exact_1[slice18],\n",
        "       simple_regret_exact_2[slice18],\n",
        "       simple_regret_exact_3[slice18],\n",
        "       simple_regret_exact_4[slice18],\n",
        "       simple_regret_exact_5[slice18],\n",
        "       simple_regret_exact_6[slice18],\n",
        "       simple_regret_exact_7[slice18],\n",
        "       simple_regret_exact_8[slice18],\n",
        "       simple_regret_exact_9[slice18],\n",
        "       simple_regret_exact_10[slice18],\n",
        "       simple_regret_exact_11[slice18],\n",
        "       simple_regret_exact_12[slice18],\n",
        "       simple_regret_exact_13[slice18],\n",
        "       simple_regret_exact_14[slice18],\n",
        "       simple_regret_exact_15[slice18],\n",
        "       simple_regret_exact_16[slice18],\n",
        "       simple_regret_exact_17[slice18],\n",
        "       simple_regret_exact_18[slice18],\n",
        "       simple_regret_exact_19[slice18],\n",
        "       simple_regret_exact_20[slice18]]\n",
        "\n",
        "approx18_results = pd.DataFrame(approx18).sort_values(by=[0], ascending=False)\n",
        "exact18_results = pd.DataFrame(exact18).sort_values(by=[0], ascending=False)\n",
        "\n",
        "### Best simple regret minimization IQR - approx:\n",
        "lower_approx18 = np.asarray(approx18_results[4:5][0])[0]\n",
        "median_approx18 = np.asarray(approx18_results[9:10][0])[0]\n",
        "upper_approx18 = np.asarray(approx18_results[14:15][0])[0]\n",
        "\n",
        "lower_exact18 = np.asarray(exact18_results[4:5][0])[0]\n",
        "median_exact18 = np.asarray(exact18_results[9:10][0])[0]\n",
        "upper_exact18 = np.asarray(exact18_results[14:15][0])[0]"
      ],
      "execution_count": null,
      "outputs": []
    },
    {
      "cell_type": "code",
      "metadata": {
        "id": "SqiaOpB7Qxf9"
      },
      "source": [
        "# Iteration9 :\n",
        "\n",
        "slice9 = 8\n",
        "\n",
        "approx9 = [simple_regret_approx_1[slice9],\n",
        "       simple_regret_approx_2[slice9],\n",
        "       simple_regret_approx_3[slice9],\n",
        "       simple_regret_approx_4[slice9],\n",
        "       simple_regret_approx_5[slice9],\n",
        "       simple_regret_approx_6[slice9],\n",
        "       simple_regret_approx_7[slice9],\n",
        "       simple_regret_approx_8[slice9],\n",
        "       simple_regret_approx_9[slice9],\n",
        "       simple_regret_approx_10[slice9],\n",
        "       simple_regret_approx_11[slice9],\n",
        "       simple_regret_approx_12[slice9],\n",
        "       simple_regret_approx_13[slice9],\n",
        "       simple_regret_approx_14[slice9],\n",
        "       simple_regret_approx_15[slice9],\n",
        "       simple_regret_approx_16[slice9],\n",
        "       simple_regret_approx_17[slice9],\n",
        "       simple_regret_approx_18[slice9],\n",
        "       simple_regret_approx_19[slice9],\n",
        "       simple_regret_approx_20[slice9]]\n",
        "\n",
        "exact9 = [simple_regret_exact_1[slice9],\n",
        "       simple_regret_exact_2[slice9],\n",
        "       simple_regret_exact_3[slice9],\n",
        "       simple_regret_exact_4[slice9],\n",
        "       simple_regret_exact_5[slice9],\n",
        "       simple_regret_exact_6[slice9],\n",
        "       simple_regret_exact_7[slice9],\n",
        "       simple_regret_exact_8[slice9],\n",
        "       simple_regret_exact_9[slice9],\n",
        "       simple_regret_exact_10[slice9],\n",
        "       simple_regret_exact_11[slice9],\n",
        "       simple_regret_exact_12[slice9],\n",
        "       simple_regret_exact_13[slice9],\n",
        "       simple_regret_exact_14[slice9],\n",
        "       simple_regret_exact_15[slice9],\n",
        "       simple_regret_exact_16[slice9],\n",
        "       simple_regret_exact_17[slice9],\n",
        "       simple_regret_exact_18[slice9],\n",
        "       simple_regret_exact_19[slice9],\n",
        "       simple_regret_exact_20[slice9]]\n",
        "\n",
        "approx9_results = pd.DataFrame(approx9).sort_values(by=[0], ascending=False)\n",
        "exact9_results = pd.DataFrame(exact9).sort_values(by=[0], ascending=False)\n",
        "\n",
        "### Best simple regret minimization IQR - approx:\n",
        "lower_approx9 = np.asarray(approx9_results[4:5][0])[0]\n",
        "median_approx9 = np.asarray(approx9_results[9:10][0])[0]\n",
        "upper_approx9 = np.asarray(approx9_results[14:15][0])[0]\n",
        "\n",
        "lower_exact9 = np.asarray(exact9_results[4:5][0])[0]\n",
        "median_exact9 = np.asarray(exact9_results[9:10][0])[0]\n",
        "upper_exact9 = np.asarray(exact9_results[14:15][0])[0]"
      ],
      "execution_count": null,
      "outputs": []
    },
    {
      "cell_type": "code",
      "metadata": {
        "id": "OQkCCOsPQxf9"
      },
      "source": [
        "# Iteration19 :\n",
        "\n",
        "slice19 = 18\n",
        "\n",
        "approx19 = [simple_regret_approx_1[slice19],\n",
        "       simple_regret_approx_2[slice19],\n",
        "       simple_regret_approx_3[slice19],\n",
        "       simple_regret_approx_4[slice19],\n",
        "       simple_regret_approx_5[slice19],\n",
        "       simple_regret_approx_6[slice19],\n",
        "       simple_regret_approx_7[slice19],\n",
        "       simple_regret_approx_8[slice19],\n",
        "       simple_regret_approx_9[slice19],\n",
        "       simple_regret_approx_10[slice19],\n",
        "       simple_regret_approx_11[slice19],\n",
        "       simple_regret_approx_12[slice19],\n",
        "       simple_regret_approx_13[slice19],\n",
        "       simple_regret_approx_14[slice19],\n",
        "       simple_regret_approx_15[slice19],\n",
        "       simple_regret_approx_16[slice19],\n",
        "       simple_regret_approx_17[slice19],\n",
        "       simple_regret_approx_18[slice19],\n",
        "       simple_regret_approx_19[slice19],\n",
        "       simple_regret_approx_20[slice19]]\n",
        "\n",
        "exact19 = [simple_regret_exact_1[slice19],\n",
        "       simple_regret_exact_2[slice19],\n",
        "       simple_regret_exact_3[slice19],\n",
        "       simple_regret_exact_4[slice19],\n",
        "       simple_regret_exact_5[slice19],\n",
        "       simple_regret_exact_6[slice19],\n",
        "       simple_regret_exact_7[slice19],\n",
        "       simple_regret_exact_8[slice19],\n",
        "       simple_regret_exact_9[slice19],\n",
        "       simple_regret_exact_10[slice19],\n",
        "       simple_regret_exact_11[slice19],\n",
        "       simple_regret_exact_12[slice19],\n",
        "       simple_regret_exact_13[slice19],\n",
        "       simple_regret_exact_14[slice19],\n",
        "       simple_regret_exact_15[slice19],\n",
        "       simple_regret_exact_16[slice19],\n",
        "       simple_regret_exact_17[slice19],\n",
        "       simple_regret_exact_18[slice19],\n",
        "       simple_regret_exact_19[slice19],\n",
        "       simple_regret_exact_20[slice19]]\n",
        "\n",
        "approx19_results = pd.DataFrame(approx19).sort_values(by=[0], ascending=False)\n",
        "exact19_results = pd.DataFrame(exact19).sort_values(by=[0], ascending=False)\n",
        "\n",
        "### Best simple regret minimization IQR - approx:\n",
        "lower_approx19 = np.asarray(approx19_results[4:5][0])[0]\n",
        "median_approx19 = np.asarray(approx19_results[9:10][0])[0]\n",
        "upper_approx19 = np.asarray(approx19_results[14:15][0])[0]\n",
        "\n",
        "lower_exact19 = np.asarray(exact19_results[4:5][0])[0]\n",
        "median_exact19 = np.asarray(exact19_results[9:10][0])[0]\n",
        "upper_exact19 = np.asarray(exact19_results[14:15][0])[0]"
      ],
      "execution_count": null,
      "outputs": []
    },
    {
      "cell_type": "code",
      "metadata": {
        "id": "h4vtWahcQxf-"
      },
      "source": [
        "# Iteration10 :\n",
        "\n",
        "slice10 = 9\n",
        "\n",
        "approx10 = [simple_regret_approx_1[slice10],\n",
        "       simple_regret_approx_2[slice10],\n",
        "       simple_regret_approx_3[slice10],\n",
        "       simple_regret_approx_4[slice10],\n",
        "       simple_regret_approx_5[slice10],\n",
        "       simple_regret_approx_6[slice10],\n",
        "       simple_regret_approx_7[slice10],\n",
        "       simple_regret_approx_8[slice10],\n",
        "       simple_regret_approx_9[slice10],\n",
        "       simple_regret_approx_10[slice10],\n",
        "       simple_regret_approx_11[slice10],\n",
        "       simple_regret_approx_12[slice10],\n",
        "       simple_regret_approx_13[slice10],\n",
        "       simple_regret_approx_14[slice10],\n",
        "       simple_regret_approx_15[slice10],\n",
        "       simple_regret_approx_16[slice10],\n",
        "       simple_regret_approx_17[slice10],\n",
        "       simple_regret_approx_18[slice10],\n",
        "       simple_regret_approx_19[slice10],\n",
        "       simple_regret_approx_20[slice10]]\n",
        "\n",
        "exact10 = [simple_regret_exact_1[slice10],\n",
        "       simple_regret_exact_2[slice10],\n",
        "       simple_regret_exact_3[slice10],\n",
        "       simple_regret_exact_4[slice10],\n",
        "       simple_regret_exact_5[slice10],\n",
        "       simple_regret_exact_6[slice10],\n",
        "       simple_regret_exact_7[slice10],\n",
        "       simple_regret_exact_8[slice10],\n",
        "       simple_regret_exact_9[slice10],\n",
        "       simple_regret_exact_10[slice10],\n",
        "       simple_regret_exact_11[slice10],\n",
        "       simple_regret_exact_12[slice10],\n",
        "       simple_regret_exact_13[slice10],\n",
        "       simple_regret_exact_14[slice10],\n",
        "       simple_regret_exact_15[slice10],\n",
        "       simple_regret_exact_16[slice10],\n",
        "       simple_regret_exact_17[slice10],\n",
        "       simple_regret_exact_18[slice10],\n",
        "       simple_regret_exact_19[slice10],\n",
        "       simple_regret_exact_20[slice10]]\n",
        "\n",
        "approx10_results = pd.DataFrame(approx10).sort_values(by=[0], ascending=False)\n",
        "exact10_results = pd.DataFrame(exact10).sort_values(by=[0], ascending=False)\n",
        "\n",
        "### Best simple regret minimization IQR - approx:\n",
        "lower_approx10 = np.asarray(approx10_results[4:5][0])[0]\n",
        "median_approx10 = np.asarray(approx10_results[9:10][0])[0]\n",
        "upper_approx10 = np.asarray(approx10_results[14:15][0])[0]\n",
        "\n",
        "lower_exact10 = np.asarray(exact10_results[4:5][0])[0]\n",
        "median_exact10 = np.asarray(exact10_results[9:10][0])[0]\n",
        "upper_exact10 = np.asarray(exact10_results[14:15][0])[0]"
      ],
      "execution_count": null,
      "outputs": []
    },
    {
      "cell_type": "code",
      "metadata": {
        "id": "Rsf240pWQxf-"
      },
      "source": [
        "# Iteration20 :\n",
        "\n",
        "slice20 = 19\n",
        "\n",
        "approx20 = [simple_regret_approx_1[slice20],\n",
        "       simple_regret_approx_2[slice20],\n",
        "       simple_regret_approx_3[slice20],\n",
        "       simple_regret_approx_4[slice20],\n",
        "       simple_regret_approx_5[slice20],\n",
        "       simple_regret_approx_6[slice20],\n",
        "       simple_regret_approx_7[slice20],\n",
        "       simple_regret_approx_8[slice20],\n",
        "       simple_regret_approx_9[slice20],\n",
        "       simple_regret_approx_10[slice20],\n",
        "       simple_regret_approx_11[slice20],\n",
        "       simple_regret_approx_12[slice20],\n",
        "       simple_regret_approx_13[slice20],\n",
        "       simple_regret_approx_14[slice20],\n",
        "       simple_regret_approx_15[slice20],\n",
        "       simple_regret_approx_16[slice20],\n",
        "       simple_regret_approx_17[slice20],\n",
        "       simple_regret_approx_18[slice20],\n",
        "       simple_regret_approx_19[slice20],\n",
        "       simple_regret_approx_20[slice20]]\n",
        "\n",
        "exact20 = [simple_regret_exact_1[slice20],\n",
        "       simple_regret_exact_2[slice20],\n",
        "       simple_regret_exact_3[slice20],\n",
        "       simple_regret_exact_4[slice20],\n",
        "       simple_regret_exact_5[slice20],\n",
        "       simple_regret_exact_6[slice20],\n",
        "       simple_regret_exact_7[slice20],\n",
        "       simple_regret_exact_8[slice20],\n",
        "       simple_regret_exact_9[slice20],\n",
        "       simple_regret_exact_10[slice20],\n",
        "       simple_regret_exact_11[slice20],\n",
        "       simple_regret_exact_12[slice20],\n",
        "       simple_regret_exact_13[slice20],\n",
        "       simple_regret_exact_14[slice20],\n",
        "       simple_regret_exact_15[slice20],\n",
        "       simple_regret_exact_16[slice20],\n",
        "       simple_regret_exact_17[slice20],\n",
        "       simple_regret_exact_18[slice20],\n",
        "       simple_regret_exact_19[slice20],\n",
        "       simple_regret_exact_20[slice20]]\n",
        "\n",
        "approx20_results = pd.DataFrame(approx20).sort_values(by=[0], ascending=False)\n",
        "exact20_results = pd.DataFrame(exact20).sort_values(by=[0], ascending=False)\n",
        "\n",
        "### Best simple regret minimization IQR - approx:\n",
        "lower_approx20 = np.asarray(approx20_results[4:5][0])[0]\n",
        "median_approx20 = np.asarray(approx20_results[9:10][0])[0]\n",
        "upper_approx20 = np.asarray(approx20_results[14:15][0])[0]\n",
        "\n",
        "lower_exact20 = np.asarray(exact20_results[4:5][0])[0]\n",
        "median_exact20 = np.asarray(exact20_results[9:10][0])[0]\n",
        "upper_exact20 = np.asarray(exact20_results[14:15][0])[0]"
      ],
      "execution_count": null,
      "outputs": []
    },
    {
      "cell_type": "code",
      "metadata": {
        "id": "gn36RejbQxf_"
      },
      "source": [
        "### Summarize arrays: 'Loser'\n",
        "\n",
        "lower_approx = [lower_approx1,\n",
        "            lower_approx2,\n",
        "            lower_approx3,\n",
        "            lower_approx4,\n",
        "            lower_approx5,\n",
        "            lower_approx6,\n",
        "            lower_approx7,\n",
        "            lower_approx8,\n",
        "            lower_approx9,\n",
        "            lower_approx10,\n",
        "            lower_approx11,\n",
        "            lower_approx12,\n",
        "            lower_approx13,\n",
        "            lower_approx14,\n",
        "            lower_approx15,\n",
        "            lower_approx16,\n",
        "            lower_approx17,\n",
        "            lower_approx18,\n",
        "            lower_approx19,\n",
        "            lower_approx20,\n",
        "            lower_approx21]\n",
        "\n",
        "median_approx = [median_approx1,\n",
        "            median_approx2,\n",
        "            median_approx3,\n",
        "            median_approx4,\n",
        "            median_approx5,\n",
        "            median_approx6,\n",
        "            median_approx7,\n",
        "            median_approx8,\n",
        "            median_approx9,\n",
        "            median_approx10,\n",
        "            median_approx11,\n",
        "            median_approx12,\n",
        "            median_approx13,\n",
        "            median_approx14,\n",
        "            median_approx15,\n",
        "            median_approx16,\n",
        "            median_approx17,\n",
        "            median_approx18,\n",
        "            median_approx19,\n",
        "            median_approx20,\n",
        "            median_approx21]\n",
        "\n",
        "upper_approx = [upper_approx1,\n",
        "            upper_approx2,\n",
        "            upper_approx3,\n",
        "            upper_approx4,\n",
        "            upper_approx5,\n",
        "            upper_approx6,\n",
        "            upper_approx7,\n",
        "            upper_approx8,\n",
        "            upper_approx9,\n",
        "            upper_approx10,\n",
        "            upper_approx11,\n",
        "            upper_approx12,\n",
        "            upper_approx13,\n",
        "            upper_approx14,\n",
        "            upper_approx15,\n",
        "            upper_approx16,\n",
        "            upper_approx17,\n",
        "            upper_approx18,\n",
        "            upper_approx19,\n",
        "            upper_approx20,\n",
        "            upper_approx21]"
      ],
      "execution_count": null,
      "outputs": []
    },
    {
      "cell_type": "code",
      "metadata": {
        "id": "wxtGTOYfQxf_"
      },
      "source": [
        "### Summarize arrays: 'exact'\n",
        "\n",
        "lower_exact = [lower_exact1,\n",
        "            lower_exact2,\n",
        "            lower_exact3,\n",
        "            lower_exact4,\n",
        "            lower_exact5,\n",
        "            lower_exact6,\n",
        "            lower_exact7,\n",
        "            lower_exact8,\n",
        "            lower_exact9,\n",
        "            lower_exact10,\n",
        "            lower_exact11,\n",
        "            lower_exact12,\n",
        "            lower_exact13,\n",
        "            lower_exact14,\n",
        "            lower_exact15,\n",
        "            lower_exact16,\n",
        "            lower_exact17,\n",
        "            lower_exact18,\n",
        "            lower_exact19,\n",
        "            lower_exact20,\n",
        "            lower_exact21]\n",
        "\n",
        "median_exact = [median_exact1,\n",
        "            median_exact2,\n",
        "            median_exact3,\n",
        "            median_exact4,\n",
        "            median_exact5,\n",
        "            median_exact6,\n",
        "            median_exact7,\n",
        "            median_exact8,\n",
        "            median_exact9,\n",
        "            median_exact10,\n",
        "            median_exact11,\n",
        "            median_exact12,\n",
        "            median_exact13,\n",
        "            median_exact14,\n",
        "            median_exact15,\n",
        "            median_exact16,\n",
        "            median_exact17,\n",
        "            median_exact18,\n",
        "            median_exact19,\n",
        "            median_exact20,\n",
        "            median_exact21]\n",
        "\n",
        "upper_exact = [upper_exact1,\n",
        "            upper_exact2,\n",
        "            upper_exact3,\n",
        "            upper_exact4,\n",
        "            upper_exact5,\n",
        "            upper_exact6,\n",
        "            upper_exact7,\n",
        "            upper_exact8,\n",
        "            upper_exact9,\n",
        "            upper_exact10,\n",
        "            upper_exact11,\n",
        "            upper_exact12,\n",
        "            upper_exact13,\n",
        "            upper_exact14,\n",
        "            upper_exact15,\n",
        "            upper_exact16,\n",
        "            upper_exact17,\n",
        "            upper_exact18,\n",
        "            upper_exact19,\n",
        "            upper_exact20,\n",
        "            upper_exact21]"
      ],
      "execution_count": null,
      "outputs": []
    },
    {
      "cell_type": "code",
      "metadata": {
        "id": "2MONq-BXQxgA",
        "colab": {
          "base_uri": "https://localhost:8080/",
          "height": 299
        },
        "outputId": "e7946794-201f-41b1-e10a-43f2fbb47cfe"
      },
      "source": [
        "### Visualise!\n",
        "\n",
        "title = func\n",
        "plt.figure()\n",
        "\n",
        "plt.plot(median_approx, color = 'Yellow')\n",
        "plt.plot(median_exact, color = 'Red')\n",
        "\n",
        "xstar = np.arange(0, iters+1, step=1)\n",
        "plt.fill_between(xstar, lower_approx, upper_approx, facecolor = 'Yellow', alpha=0.4, label='GP EI Optimization: Approx GP EI gradients')\n",
        "plt.fill_between(xstar, lower_exact, upper_exact, facecolor = 'Red', alpha=0.4, label='GP EI Optimization: Exact GP dEI gradients')\n",
        "\n",
        "plt.title(title, weight = 'bold')\n",
        "plt.xlabel('(Post-initialization) iteration $\\it{k}$', weight = 'bold')\n",
        "plt.ylabel('log(Regret)', weight = 'bold') \n",
        "plt.legend(loc=1) # add plot legend\n",
        "\n",
        "### Make the x-ticks integers, not floats:\n",
        "count = len(xstar)\n",
        "plt.xticks(np.arange(count), np.arange(0, count))\n",
        "plt.show() #visualize!"
      ],
      "execution_count": null,
      "outputs": [
        {
          "output_type": "display_data",
          "data": {
            "text/plain": [
              "<Figure size 432x288 with 1 Axes>"
            ],
            "image/png": "[encoded data removed]"
          },
          "metadata": {
            "needs_background": "light"
          }
        }
      ]
    },
    {
      "cell_type": "code",
      "source": [
        "time_approx, time_exact"
      ],
      "metadata": {
        "colab": {
          "base_uri": "https://localhost:8080/"
        },
        "id": "oFgBoybx0NsP",
        "outputId": "0407fe19-a703-4363-dfa7-d933b65d4087"
      },
      "execution_count": null,
      "outputs": [
        {
          "output_type": "execute_result",
          "data": {
            "text/plain": [
              "(177.58724761009216, 275.9945185184479)"
            ]
          },
          "metadata": {},
          "execution_count": 99
        }
      ]
    },
    {
      "cell_type": "code",
      "source": [
        "exact21_results, exact21_results[19:20].index[0]\n"
      ],
      "metadata": {
        "colab": {
          "base_uri": "https://localhost:8080/"
        },
        "id": "0i4IbAcyB7-l",
        "outputId": "449f529c-6b1f-4a8b-ec0d-a195067a0f6a"
      },
      "execution_count": null,
      "outputs": [
        {
          "output_type": "execute_result",
          "data": {
            "text/plain": [
              "(           0\n",
              " 5   3.332840\n",
              " 1   2.811135\n",
              " 19  2.228860\n",
              " 18  2.169766\n",
              " 4   2.047086\n",
              " 7   1.922399\n",
              " 8   1.854486\n",
              " 9   1.526867\n",
              " 6   1.486688\n",
              " 12  1.353468\n",
              " 13  1.345923\n",
              " 10  1.227980\n",
              " 0   1.127634\n",
              " 3   0.747839\n",
              " 11  0.594533\n",
              " 14  0.517614\n",
              " 2   0.401465\n",
              " 16 -0.261653\n",
              " 15 -0.664629\n",
              " 17 -1.359150, 17)"
            ]
          },
          "metadata": {},
          "execution_count": 100
        }
      ]
    },
    {
      "cell_type": "code",
      "source": [
        "str_exact = str(exact21_results[19:20].index[0]+1)\n",
        "str_exact\n"
      ],
      "metadata": {
        "colab": {
          "base_uri": "https://localhost:8080/",
          "height": 35
        },
        "id": "12lIvjCoBr7y",
        "outputId": "a6465a50-0290-4685-ecf6-231ae4a50645"
      },
      "execution_count": null,
      "outputs": [
        {
          "output_type": "execute_result",
          "data": {
            "text/plain": [
              "'18'"
            ],
            "application/vnd.google.colaboratory.intrinsic+json": {
              "type": "string"
            }
          },
          "metadata": {},
          "execution_count": 101
        }
      ]
    },
    {
      "cell_type": "code",
      "source": [
        "eval_exactMinIQR_vsCorrApproxExperiment = eval('approx_' + str_exact)\n",
        "eval_exactMinIQR_vsCorrApproxExperiment_minAcqFunc = eval_exactMinIQR_vsCorrApproxExperiment.history[eval_exactMinIQR_vsCorrApproxExperiment.history.index(eval_exactMinIQR_vsCorrApproxExperiment.tau)-1]\n",
        "eval_exactMinIQR_vsCorrApproxExperiment_simpleRegret = np.log(-eval_exactMinIQR_vsCorrApproxExperiment.tau + y_global_orig)\n",
        "\n",
        "eval_exactMinIQR_vsCorrApproxExperiment.tau, eval_exactMinIQR_vsCorrApproxExperiment_minAcqFunc, eval_exactMinIQR_vsCorrApproxExperiment_simpleRegret\n"
      ],
      "metadata": {
        "colab": {
          "base_uri": "https://localhost:8080/"
        },
        "id": "O3sQFv0hpuNI",
        "outputId": "33548e77-b59d-4957-f3a0-924d30483ee9"
      },
      "execution_count": null,
      "outputs": [
        {
          "output_type": "execute_result",
          "data": {
            "text/plain": [
              "(-5.734141920432893, -9.068704890807851, 1.7464381178407749)"
            ]
          },
          "metadata": {},
          "execution_count": 102
        }
      ]
    },
    {
      "cell_type": "code",
      "source": [
        "### Final iteration: best \"approx\" experiment results (as above)\n",
        "\n",
        "np.random.seed(int(str_exact))\n",
        "eval_exactMinIQR_vsCorrApproxExperiment.run(init_evals=n_init, max_iter=iters)\n"
      ],
      "metadata": {
        "id": "DKvmmlRoTnvC",
        "colab": {
          "base_uri": "https://localhost:8080/"
        },
        "outputId": "693d736c-e2b9-41dc-cadf-13a009bc9c2c"
      },
      "execution_count": null,
      "outputs": [
        {
          "output_type": "stream",
          "name": "stdout",
          "text": [
            "Evaluation \t Proposed point \t  Current eval. \t  Best eval. \t         Max AcqFunc.\n",
            "init\t [3.00748483 0.10906747]\t -9.068756459576363\t -9.068756459576363\t    \n",
            "init\t [ 7.57202942 -6.36319549]\t -138.3161432668939\t -9.068756459576363\t    \n",
            "init\t [7.04466137 5.00272572]\t -99.6817831686958\t -9.068756459576363\t    \n",
            "init\t [3.32203335 9.75790897]\t -201.4694803352836\t -9.068756459576363\t    \n",
            "init\t [-4.86063155 -9.43388149]\t -201.6219791510955\t -9.068756459576363\t    \n",
            "1  \t [-6.1664519   4.28513481]\t -74.74988979878172\t -9.068756459576363\t -9.068757632343194\n",
            "2  \t [-6.07110106 -2.27098711]\t -47.173032968123124\t -9.068756459576363\t -9.068757631067125\n",
            "3  \t [-10.  10.]\t -300.0\t -9.068756459576363\t -9.068757632343194\n",
            "4  \t [-2.33775535  8.28880862]\t -142.8737966101193\t -9.068756459576363\t -9.068757555603298\n",
            "5  \t [ 4.59940623 -9.59713586]\t -205.36457092968183\t -9.068756459576363\t -9.068757632343194\n",
            "6  \t [-0.77788299 -4.73427196]\t -45.431763852455845\t -9.068756459576363\t -9.068756281092632\n",
            "7  \t [10. 10.]\t -300.0\t -9.068756459576363\t -9.068755222887786\n",
            "8  \t [ 9.48968703 -0.30330646]\t -90.23814953204177\t -9.068756459576363\t -9.068755581029002\n",
            "9  \t [-10.          -6.28129572]\t -178.90935181639236\t -9.068756459576363\t -9.068752968443299\n",
            "\u001b[1m\u001b[92m10\u001b[0m\t \u001b[1m\u001b[92m[-1.8150177   1.10450276]\u001b[0m\t \u001b[1m\u001b[92m-5.734141920432893\u001b[0m\t \u001b[1m\u001b[92m-5.734141920432893\u001b[0m\t \u001b[1m\u001b[92m-9.068704890807851\u001b[0m\n",
            "11 \t [-10.           0.86675761]\t -101.50253749681444\t -5.734141920432893\t -5.735208951472418\n",
            "12 \t [1.55961268 4.61251488]\t -44.98297870570375\t -5.734141920432893\t -5.7351786522049775\n",
            "13 \t [ 3.60484529 -3.9354396 ]\t -43.970279264309994\t -5.734141920432893\t -5.731789895071895\n",
            "14 \t [ -9.05867374 -10.        ]\t -282.0595698415638\t -5.734141920432893\t -5.665656265582608\n",
            "15 \t [-5.99047409  9.73183458]\t -225.30298859781234\t -5.734141920432893\t -5.735354812926\n",
            "16 \t [ 10. -10.]\t -300.0\t -5.734141920432893\t -5.7304495827373385\n",
            "17 \t [ -0.14119625 -10.        ]\t -200.0199363815411\t -5.734141920432893\t -5.73284309614077\n",
            "18 \t [5.90779197 1.21528123]\t -37.85582295909994\t -5.734141920432893\t -5.655526504245457\n",
            "19 \t [-2.23963281  4.17974336]\t -39.95646424138554\t -5.734141920432893\t -5.665335739002593\n",
            "20 \t [-9.74695034  5.53052038]\t -156.17635227665565\t -5.734141920432893\t -5.735354474822022\n"
          ]
        }
      ]
    },
    {
      "cell_type": "code",
      "source": [
        "eval_exactMinIQR_vsCorrApproxExperiment.x_best, np.round(eval_exactMinIQR_vsCorrApproxExperiment.f_best, 2), eval_exactMinIQR_vsCorrApproxExperiment.best, eval_exactMinIQR_vsCorrApproxExperiment.x_best[np.argmin(eval_exactMinIQR_vsCorrApproxExperiment.f_best)] #### i.e. minAcqFunc returned\n"
      ],
      "metadata": {
        "colab": {
          "base_uri": "https://localhost:8080/"
        },
        "id": "tDHS__-Q_WLT",
        "outputId": "a01ea03c-b1d9-4dbb-a092-6b9a62007e12"
      },
      "execution_count": null,
      "outputs": [
        {
          "output_type": "execute_result",
          "data": {
            "text/plain": [
              "(array([[ 1.95540328, -6.99948959],\n",
              "        [-4.94473535,  6.85034403],\n",
              "        [ 0.78225643,  1.71927247],\n",
              "        [-9.56357267,  6.14012871],\n",
              "        [-0.97078982, -9.30980012],\n",
              "        [-9.74695034,  5.53052038],\n",
              "        [-3.66522478, 10.        ],\n",
              "        [ 6.86484526, -2.71517118],\n",
              "        [ 0.12221261, -1.43602067],\n",
              "        [10.        ,  3.17913615],\n",
              "        [-4.32767777, -8.6640342 ],\n",
              "        [ 1.95045693, -6.99888844],\n",
              "        [-8.06302971, -9.86973108],\n",
              "        [-9.49362916, -9.87083803],\n",
              "        [ 6.68925551,  8.51972895],\n",
              "        [-2.30048156, -7.40159711],\n",
              "        [ 4.28917431,  3.6436621 ],\n",
              "        [ 0.78196919,  1.71956428],\n",
              "        [10.        , -7.15151722],\n",
              "        [ 6.88024189, -2.69386201]]),\n",
              " array([-5.74, -5.73, -5.73, -5.74, -0.  , -5.74, -5.47, -5.74, -5.74,\n",
              "        -5.74, -0.  , -5.74, -0.  , -0.  , -5.74, -5.74, -5.73, -5.73,\n",
              "        -5.72, -5.74]),\n",
              " array([-9.74695034,  5.53052038]),\n",
              " array([-9.74695034,  5.53052038]))"
            ]
          },
          "metadata": {},
          "execution_count": 104
        }
      ]
    },
    {
      "cell_type": "code",
      "source": [
        "eval_exactMinIQR = eval('exact_' + str_exact)\n",
        "eval_exactMinIQR_minAcqFunc = eval_exactMinIQR.history[eval_exactMinIQR.history.index(eval_exactMinIQR.tau)-1]\n",
        "eval_exactMinIQR_simpleRegret  = np.log(-eval_exactMinIQR.tau + y_global_orig)\n",
        "\n",
        "eval_exactMinIQR.tau, eval_exactMinIQR_minAcqFunc, eval_exactMinIQR_simpleRegret\n"
      ],
      "metadata": {
        "colab": {
          "base_uri": "https://localhost:8080/"
        },
        "id": "M4bxQTTWCXFZ",
        "outputId": "4407f989-f1bd-4aff-863c-bc3135781df5"
      },
      "execution_count": null,
      "outputs": [
        {
          "output_type": "execute_result",
          "data": {
            "text/plain": [
              "(-0.2568790037829701, -8.952564864019832, -1.3591501073500598)"
            ]
          },
          "metadata": {},
          "execution_count": 105
        }
      ]
    },
    {
      "cell_type": "code",
      "source": [
        "### Final iteration: best \"exact\" experiment results (as above)\n",
        "\n",
        "np.random.seed(int(str_exact))\n",
        "eval_exactMinIQR.run(init_evals=n_init, max_iter=iters)\n"
      ],
      "metadata": {
        "colab": {
          "base_uri": "https://localhost:8080/"
        },
        "id": "WeKb1o143nLW",
        "outputId": "35f80976-0705-4840-f4fa-cd32b8f81409"
      },
      "execution_count": null,
      "outputs": [
        {
          "output_type": "stream",
          "name": "stdout",
          "text": [
            "Evaluation \t Proposed point \t  Current eval. \t  Best eval. \t         Max AcqFunc.\n",
            "init\t [3.00748483 0.10906747]\t -9.068756459576363\t -9.068756459576363\t    \n",
            "init\t [ 7.57202942 -6.36319549]\t -138.3161432668939\t -9.068756459576363\t    \n",
            "init\t [7.04466137 5.00272572]\t -99.6817831686958\t -9.068756459576363\t    \n",
            "init\t [3.32203335 9.75790897]\t -201.4694803352836\t -9.068756459576363\t    \n",
            "init\t [-4.86063155 -9.43388149]\t -201.6219791510955\t -9.068756459576363\t    \n",
            "1  \t [-6.1664519   4.28513481]\t -74.74988979878172\t -9.068756459576363\t -9.068757622339971\n",
            "2  \t [-6.07110106 -2.27098711]\t -47.173032968123124\t -9.068756459576363\t -9.068757621063904\n",
            "3  \t [10. 10.]\t -300.0\t -9.068756459576363\t -9.06875762233635\n",
            "4  \t [-2.33775535  8.28880862]\t -142.8737966101193\t -9.068756459576363\t -9.068757545600077\n",
            "5  \t [ 4.59940623 -9.59713586]\t -205.36457092968183\t -9.068756459576363\t -9.068757622339971\n",
            "6  \t [-0.88286482 -3.88085007]\t -30.90144485825495\t -9.068756459576363\t -9.068747575366846\n",
            "7  \t [10.         -0.54016002]\t -100.58354570402422\t -9.068756459576363\t -9.068757330208497\n",
            "8  \t [-10.          -7.89563007]\t -224.68194838820145\t -9.068756459576363\t -9.068700846140866\n",
            "9  \t [-10.           0.86715315]\t -101.50390915533565\t -9.068756459576363\t -9.068611459440708\n",
            "10 \t [-9.69289674  8.4893621 ]\t -238.0907849162934\t -9.068756459576363\t -9.06874680825679\n",
            "11 \t [-1.1561051   3.15042368]\t -21.186917793908524\t -9.068756459576363\t -9.068614828567922\n",
            "12 \t [2.68462763 4.45110049]\t -46.831816653640054\t -9.068756459576363\t -9.062311777893129\n",
            "13 \t [ 6.10357054 -2.41774605]\t -48.94456528309397\t -9.068756459576363\t -9.053054558531443\n",
            "14 \t [-3.04136753  0.08657023]\t -9.26490524088142\t -9.068756459576363\t -9.036870112026428\n",
            "15 \t [-10.          -3.74414888]\t -128.03730173695632\t -9.068756459576363\t -9.068757622339318\n",
            "16 \t [ 2.8293493  -5.06815541]\t -59.37761596309764\t -9.068756459576363\t -9.056407623805576\n",
            "17 \t [-0.12234743 -9.21480776]\t -169.84033317028707\t -9.068756459576363\t -9.06599247601286\n",
            "18 \t [5.58591187 1.58748509]\t -36.24262928367548\t -9.068756459576363\t -8.95055103051906\n",
            "19 \t [-5.50323001 -5.63698886]\t -93.83682735580521\t -9.068756459576363\t -8.93762519091543\n",
            "\u001b[1m\u001b[92m20\u001b[0m\t \u001b[1m\u001b[92m[ 0.03170498 -0.35768268]\u001b[0m\t \u001b[1m\u001b[92m-0.2568790037829701\u001b[0m\t \u001b[1m\u001b[92m-0.2568790037829701\u001b[0m\t \u001b[1m\u001b[92m-8.952564864019832\u001b[0m\n"
          ]
        }
      ]
    },
    {
      "cell_type": "code",
      "source": [
        "eval_exactMinIQR.x_best, np.round(eval_exactMinIQR.f_best, 2), eval_exactMinIQR.best, eval_exactMinIQR.x_best[np.argmin(eval_exactMinIQR.f_best)] #### i.e. minAcqFunc returned\n"
      ],
      "metadata": {
        "colab": {
          "base_uri": "https://localhost:8080/"
        },
        "id": "c0IIOZ-bID_G",
        "outputId": "d391b4f6-d805-452a-9d67-2292e51b6d68"
      },
      "execution_count": null,
      "outputs": [
        {
          "output_type": "execute_result",
          "data": {
            "text/plain": [
              "(array([[  0.55405353,  -6.33618934],\n",
              "        [ -5.40558485,   7.20023845],\n",
              "        [ -0.03982415,  -0.17323241],\n",
              "        [ -8.6883636 ,   3.37572149],\n",
              "        [ -0.97078982,  -9.30980012],\n",
              "        [ -9.88021373,   4.47057794],\n",
              "        [ -3.81425184,   8.99118934],\n",
              "        [  1.63720485,  -1.97058366],\n",
              "        [  0.03170498,  -0.35768268],\n",
              "        [ 10.        ,   6.20634763],\n",
              "        [ -4.32767777,  -8.6640342 ],\n",
              "        [  3.31688901,  -5.18822444],\n",
              "        [ -8.06302971,  -9.86973108],\n",
              "        [ -9.62337213, -10.        ],\n",
              "        [  6.56718641,   9.34193399],\n",
              "        [ -1.84282847,  -6.63635723],\n",
              "        [  5.15164684,   3.18976976],\n",
              "        [  0.88122862,  -1.34586403],\n",
              "        [ -1.58409273,  -6.56350557],\n",
              "        [ -0.54596191,   0.49494044]]),\n",
              " array([-6.73, -8.31, -8.94, -7.12, -0.  , -8.92, -0.  , -8.64, -8.95,\n",
              "        -8.65, -0.  , -0.  , -6.07, -0.12, -8.25, -8.1 , -2.51, -8.77,\n",
              "        -7.85, -8.61]),\n",
              " array([ 0.03170498, -0.35768268]),\n",
              " array([ 0.03170498, -0.35768268]))"
            ]
          },
          "metadata": {},
          "execution_count": 107
        }
      ]
    },
    {
      "cell_type": "code",
      "source": [
        "eval_exactMinIQR.tau > eval_exactMinIQR_vsCorrApproxExperiment.tau # Exact gradients' model: y-value is greater"
      ],
      "metadata": {
        "colab": {
          "base_uri": "https://localhost:8080/"
        },
        "id": "RRSEL9F33mw_",
        "outputId": "e122f334-7b04-4326-911c-7502346874f6"
      },
      "execution_count": null,
      "outputs": [
        {
          "output_type": "execute_result",
          "data": {
            "text/plain": [
              "True"
            ]
          },
          "metadata": {},
          "execution_count": 108
        }
      ]
    },
    {
      "cell_type": "code",
      "source": [
        "eval_exactMinIQR_minAcqFunc > eval_exactMinIQR_vsCorrApproxExperiment_minAcqFunc # Exact gradients' model: best AcqFunc is greater\n"
      ],
      "metadata": {
        "colab": {
          "base_uri": "https://localhost:8080/"
        },
        "id": "srZDKNlWGaUp",
        "outputId": "7bc9f314-a1cc-4a95-9c70-372222c004d0"
      },
      "execution_count": null,
      "outputs": [
        {
          "output_type": "execute_result",
          "data": {
            "text/plain": [
              "True"
            ]
          },
          "metadata": {},
          "execution_count": 109
        }
      ]
    },
    {
      "cell_type": "code",
      "source": [
        "eval_exactMinIQR_simpleRegret < eval_exactMinIQR_vsCorrApproxExperiment_simpleRegret # Exact gradients' model: simple regret's natural log is lower\n"
      ],
      "metadata": {
        "colab": {
          "base_uri": "https://localhost:8080/"
        },
        "id": "TYkP-rneGab3",
        "outputId": "1a4f329d-c752-451a-b9a1-976624923746"
      },
      "execution_count": null,
      "outputs": [
        {
          "output_type": "execute_result",
          "data": {
            "text/plain": [
              "True"
            ]
          },
          "metadata": {},
          "execution_count": 110
        }
      ]
    },
    {
      "cell_type": "code",
      "source": [
        "eval_exactMinIQR_minAcqFunc, eval_exactMinIQR_vsCorrApproxExperiment_minAcqFunc, eval_exactMinIQR_minAcqFunc/eval_exactMinIQR_vsCorrApproxExperiment_minAcqFunc\n"
      ],
      "metadata": {
        "id": "10rcQ55YGajh",
        "colab": {
          "base_uri": "https://localhost:8080/"
        },
        "outputId": "a6450095-5db0-4aec-9234-a4ab48179161"
      },
      "execution_count": null,
      "outputs": [
        {
          "output_type": "execute_result",
          "data": {
            "text/plain": [
              "(-8.952564864019832, -9.068704890807851, 0.9871933172171321)"
            ]
          },
          "metadata": {},
          "execution_count": 111
        }
      ]
    },
    {
      "cell_type": "code",
      "source": [
        "### MinAcqFunc Comparison: Approximate Gradients\n",
        "\n",
        "approx_1minAcqFunc = approx_1.history[:-1][1::2]\n",
        "approx_2minAcqFunc = approx_2.history[:-1][1::2]\n",
        "approx_3minAcqFunc = approx_3.history[:-1][1::2]\n",
        "approx_4minAcqFunc = approx_4.history[:-1][1::2]\n",
        "approx_5minAcqFunc = approx_5.history[:-1][1::2]\n",
        "approx_6minAcqFunc = approx_6.history[:-1][1::2]\n",
        "approx_7minAcqFunc = approx_7.history[:-1][1::2]\n",
        "approx_8minAcqFunc = approx_8.history[:-1][1::2]\n",
        "approx_9minAcqFunc = approx_9.history[:-1][1::2]\n",
        "approx_10minAcqFunc = approx_10.history[:-1][1::2]\n",
        "approx_11minAcqFunc = approx_11.history[:-1][1::2]\n",
        "approx_12minAcqFunc = approx_12.history[:-1][1::2]\n",
        "approx_13minAcqFunc = approx_13.history[:-1][1::2]\n",
        "approx_14minAcqFunc = approx_14.history[:-1][1::2]\n",
        "approx_15minAcqFunc = approx_15.history[:-1][1::2]\n",
        "approx_16minAcqFunc = approx_16.history[:-1][1::2]\n",
        "approx_17minAcqFunc = approx_17.history[:-1][1::2]\n",
        "approx_18minAcqFunc = approx_18.history[:-1][1::2]\n",
        "approx_19minAcqFunc = approx_19.history[:-1][1::2]\n",
        "approx_20minAcqFunc = approx_20.history[:-1][1::2]\n"
      ],
      "metadata": {
        "id": "rN6LmSIqhYDb"
      },
      "execution_count": null,
      "outputs": []
    },
    {
      "cell_type": "code",
      "source": [
        "### MinAcqFunc Comparison: Exact Gradients\n",
        "\n",
        "exact_1minAcqFunc = exact_1.history[:-1][1::2]\n",
        "exact_2minAcqFunc = exact_2.history[:-1][1::2]\n",
        "exact_3minAcqFunc = exact_3.history[:-1][1::2]\n",
        "exact_4minAcqFunc = exact_4.history[:-1][1::2]\n",
        "exact_5minAcqFunc = exact_5.history[:-1][1::2]\n",
        "exact_6minAcqFunc = exact_6.history[:-1][1::2]\n",
        "exact_7minAcqFunc = exact_7.history[:-1][1::2]\n",
        "exact_8minAcqFunc = exact_8.history[:-1][1::2]\n",
        "exact_9minAcqFunc = exact_9.history[:-1][1::2]\n",
        "exact_10minAcqFunc = exact_10.history[:-1][1::2]\n",
        "exact_11minAcqFunc = exact_11.history[:-1][1::2]\n",
        "exact_12minAcqFunc = exact_12.history[:-1][1::2]\n",
        "exact_13minAcqFunc = exact_13.history[:-1][1::2]\n",
        "exact_14minAcqFunc = exact_14.history[:-1][1::2]\n",
        "exact_15minAcqFunc = exact_15.history[:-1][1::2]\n",
        "exact_16minAcqFunc = exact_16.history[:-1][1::2]\n",
        "exact_17minAcqFunc = exact_17.history[:-1][1::2]\n",
        "exact_18minAcqFunc = exact_18.history[:-1][1::2]\n",
        "exact_19minAcqFunc = exact_19.history[:-1][1::2]\n",
        "exact_20minAcqFunc = exact_20.history[:-1][1::2]\n"
      ],
      "metadata": {
        "id": "8v_Qb1ZPiK1L"
      },
      "execution_count": null,
      "outputs": []
    },
    {
      "cell_type": "code",
      "source": [
        "### MinAcqFunc Comparison: Experiment 1\n",
        "\n",
        "minAcqFuncApprox1 = np.mean(approx_1minAcqFunc)\n",
        "minAcqFuncExact1 = np.mean(exact_1minAcqFunc)\n",
        "ratio1 = minAcqFuncApprox1/minAcqFuncExact1\n",
        "approx_1.tau, exact_1.tau, minAcqFuncApprox1, minAcqFuncExact1, ratio1\n"
      ],
      "metadata": {
        "colab": {
          "base_uri": "https://localhost:8080/"
        },
        "id": "lH13qO-JJfok",
        "outputId": "31960586-8d67-4196-d90f-ccec4307e96c"
      },
      "execution_count": null,
      "outputs": [
        {
          "output_type": "execute_result",
          "data": {
            "text/plain": [
              "(-4.326653764360808,\n",
              " -3.0883423221235793,\n",
              " -5.284044193031587,\n",
              " -4.980638281737798,\n",
              " 1.0609170741039895)"
            ]
          },
          "metadata": {},
          "execution_count": 114
        }
      ]
    },
    {
      "cell_type": "code",
      "source": [
        "### MinAcqFunc Comparison: Experiment 2\n",
        "\n",
        "minAcqFuncApprox2 = np.mean(approx_2minAcqFunc)\n",
        "minAcqFuncExact2 = np.mean(exact_2minAcqFunc)\n",
        "ratio2 = minAcqFuncApprox2/minAcqFuncExact2\n",
        "approx_2.tau, exact_2.tau, minAcqFuncApprox2, minAcqFuncExact2, ratio2\n"
      ],
      "metadata": {
        "colab": {
          "base_uri": "https://localhost:8080/"
        },
        "id": "QWeVwVP_HPQb",
        "outputId": "7d475428-666d-4a1d-cad0-1a0160654a96"
      },
      "execution_count": null,
      "outputs": [
        {
          "output_type": "execute_result",
          "data": {
            "text/plain": [
              "(-4.333099000920773,\n",
              " -4.333099000920773,\n",
              " -4.328925942621714,\n",
              " -4.321401181454825,\n",
              " 1.0017412780834098)"
            ]
          },
          "metadata": {},
          "execution_count": 115
        }
      ]
    },
    {
      "cell_type": "code",
      "source": [
        "### MinAcqFunc Comparison: Experiment 3\n",
        "\n",
        "minAcqFuncApprox3 = np.mean(approx_3minAcqFunc)\n",
        "minAcqFuncExact3 = np.mean(exact_3minAcqFunc)\n",
        "ratio3 = minAcqFuncApprox3/minAcqFuncExact3\n",
        "approx_3.tau, exact_3.tau, minAcqFuncApprox3, minAcqFuncExact3, ratio3\n"
      ],
      "metadata": {
        "colab": {
          "base_uri": "https://localhost:8080/"
        },
        "id": "jgGLMx0RHPUA",
        "outputId": "411f89e2-c9aa-4bce-a15c-321101e040c5"
      },
      "execution_count": null,
      "outputs": [
        {
          "output_type": "execute_result",
          "data": {
            "text/plain": [
              "(-1.4940122574729555,\n",
              " -1.4940122574729555,\n",
              " -7.28223663062123,\n",
              " -7.269331296189264,\n",
              " 1.0017753124608217)"
            ]
          },
          "metadata": {},
          "execution_count": 116
        }
      ]
    },
    {
      "cell_type": "code",
      "source": [
        "### MinAcqFunc Comparison: Experiment 4\n",
        "\n",
        "minAcqFuncApprox4 = np.mean(approx_4minAcqFunc)\n",
        "minAcqFuncExact4 = np.mean(exact_4minAcqFunc)\n",
        "ratio4 = minAcqFuncApprox4/minAcqFuncExact4\n",
        "approx_4.tau, exact_4.tau, minAcqFuncApprox4, minAcqFuncExact4, ratio4\n"
      ],
      "metadata": {
        "colab": {
          "base_uri": "https://localhost:8080/"
        },
        "id": "ml1c1t4SHPXV",
        "outputId": "50671357-cd2e-4ae7-cf2f-9075c21f7c94"
      },
      "execution_count": null,
      "outputs": [
        {
          "output_type": "execute_result",
          "data": {
            "text/plain": [
              "(-3.569635087520078,\n",
              " -2.112430794758758,\n",
              " -12.15689640890697,\n",
              " -11.189073219939932,\n",
              " 1.0864971718338827)"
            ]
          },
          "metadata": {},
          "execution_count": 117
        }
      ]
    },
    {
      "cell_type": "code",
      "source": [
        "### MinAcqFunc Comparison: Experiment 5\n",
        "\n",
        "minAcqFuncApprox5 = np.mean(approx_5minAcqFunc)\n",
        "minAcqFuncExact5 = np.mean(exact_5minAcqFunc)\n",
        "ratio5 = minAcqFuncApprox5/minAcqFuncExact5\n",
        "approx_5.tau, exact_5.tau, minAcqFuncApprox5, minAcqFuncExact5, ratio5\n"
      ],
      "metadata": {
        "colab": {
          "base_uri": "https://localhost:8080/"
        },
        "id": "MLbsgyMiHPaf",
        "outputId": "a9c350c0-f153-4881-9013-7e8e8269bd62"
      },
      "execution_count": null,
      "outputs": [
        {
          "output_type": "execute_result",
          "data": {
            "text/plain": [
              "(-9.736075067806567,\n",
              " -7.745296250806153,\n",
              " -9.901397582445316,\n",
              " -9.447456326852267,\n",
              " 1.0480490451490974)"
            ]
          },
          "metadata": {},
          "execution_count": 118
        }
      ]
    },
    {
      "cell_type": "code",
      "source": [
        "### MinAcqFunc Comparison: Experiment 6\n",
        "\n",
        "minAcqFuncApprox6 = np.mean(approx_6minAcqFunc)\n",
        "minAcqFuncExact6 = np.mean(exact_6minAcqFunc)\n",
        "ratio6 = minAcqFuncApprox6/minAcqFuncExact6\n",
        "approx_6.tau, exact_6.tau, minAcqFuncApprox6, minAcqFuncExact6, ratio6\n"
      ],
      "metadata": {
        "colab": {
          "base_uri": "https://localhost:8080/"
        },
        "id": "0H912oKjHPfu",
        "outputId": "c05ffcb8-6c05-4faa-da0a-44b730bf0d6b"
      },
      "execution_count": null,
      "outputs": [
        {
          "output_type": "execute_result",
          "data": {
            "text/plain": [
              "(-3.2663604079401702,\n",
              " -5.629416961321397,\n",
              " -5.618656889036034,\n",
              " -5.59884679282507,\n",
              " 1.0035382458109678)"
            ]
          },
          "metadata": {},
          "execution_count": 119
        }
      ]
    },
    {
      "cell_type": "code",
      "source": [
        "### MinAcqFunc Comparison: Experiment 7\n",
        "\n",
        "minAcqFuncApprox7 = np.mean(approx_7minAcqFunc)\n",
        "minAcqFuncExact7 = np.mean(exact_7minAcqFunc)\n",
        "ratio7 = minAcqFuncApprox7/minAcqFuncExact7\n",
        "approx_7.tau, exact_7.tau, minAcqFuncApprox7, minAcqFuncExact7, ratio7\n"
      ],
      "metadata": {
        "colab": {
          "base_uri": "https://localhost:8080/"
        },
        "id": "qrh-IEZ3HPip",
        "outputId": "27478006-b97e-4880-aad0-a3cfc0851938"
      },
      "execution_count": null,
      "outputs": [
        {
          "output_type": "execute_result",
          "data": {
            "text/plain": [
              "(-1.1339220737572815,\n",
              " -4.422426167951279,\n",
              " -13.063944372977542,\n",
              " -16.20356948414899,\n",
              " 0.806238673877212)"
            ]
          },
          "metadata": {},
          "execution_count": 120
        }
      ]
    },
    {
      "cell_type": "code",
      "source": [
        "### MinAcqFunc Comparison: Experiment 8\n",
        "\n",
        "minAcqFuncApprox8 = np.mean(approx_8minAcqFunc)\n",
        "minAcqFuncExact8 = np.mean(exact_8minAcqFunc)\n",
        "ratio8 = minAcqFuncApprox8/minAcqFuncExact8\n",
        "approx_8.tau, exact_8.tau, minAcqFuncApprox8, minAcqFuncExact8, ratio8\n"
      ],
      "metadata": {
        "colab": {
          "base_uri": "https://localhost:8080/"
        },
        "id": "UOp-jaflHPlz",
        "outputId": "9cedd4bb-870f-42d9-e0ad-f417308afd00"
      },
      "execution_count": null,
      "outputs": [
        {
          "output_type": "execute_result",
          "data": {
            "text/plain": [
              "(-0.5791878792948744,\n",
              " -0.5791878792948744,\n",
              " -1.1185903221953821,\n",
              " -1.1139527356826984,\n",
              " 1.0041631806845392)"
            ]
          },
          "metadata": {},
          "execution_count": 121
        }
      ]
    },
    {
      "cell_type": "code",
      "source": [
        "### MinAcqFunc Comparison: Experiment 9\n",
        "\n",
        "minAcqFuncApprox9 = np.mean(approx_9minAcqFunc)\n",
        "minAcqFuncExact9 = np.mean(exact_9minAcqFunc)\n",
        "ratio9 = minAcqFuncApprox9/minAcqFuncExact9\n",
        "approx_9.tau, exact_9.tau, minAcqFuncApprox9, minAcqFuncExact9, ratio9\n"
      ],
      "metadata": {
        "colab": {
          "base_uri": "https://localhost:8080/"
        },
        "id": "myU75lI6HPo4",
        "outputId": "fbe1446a-755f-4941-d0ea-48acc830f9b3"
      },
      "execution_count": null,
      "outputs": [
        {
          "output_type": "execute_result",
          "data": {
            "text/plain": [
              "(-3.5258239489091197,\n",
              " -6.388412071319043,\n",
              " -21.023997273186232,\n",
              " -15.676673929509453,\n",
              " 1.341100629363164)"
            ]
          },
          "metadata": {},
          "execution_count": 122
        }
      ]
    },
    {
      "cell_type": "code",
      "source": [
        "### MinAcqFunc Comparison: Experiment 10\n",
        "\n",
        "minAcqFuncApprox10 = np.mean(approx_10minAcqFunc)\n",
        "minAcqFuncExact10 = np.mean(exact_10minAcqFunc)\n",
        "ratio10 = minAcqFuncApprox10/minAcqFuncExact10\n",
        "approx_10.tau, exact_10.tau, minAcqFuncApprox10, minAcqFuncExact10, ratio10\n"
      ],
      "metadata": {
        "colab": {
          "base_uri": "https://localhost:8080/"
        },
        "id": "A3mo5UftHPsk",
        "outputId": "f5bff67d-2679-4682-bf12-b52b8a1e97c3"
      },
      "execution_count": null,
      "outputs": [
        {
          "output_type": "execute_result",
          "data": {
            "text/plain": [
              "(-4.603728884330075,\n",
              " -4.603728884330075,\n",
              " -9.809634910996165,\n",
              " -9.792611534230554,\n",
              " 1.0017383898775218)"
            ]
          },
          "metadata": {},
          "execution_count": 123
        }
      ]
    },
    {
      "cell_type": "code",
      "source": [
        "### MinAcqFunc Comparison: Experiment 11\n",
        "\n",
        "minAcqFuncApprox11 = np.mean(approx_11minAcqFunc)\n",
        "minAcqFuncExact11 = np.mean(exact_11minAcqFunc)\n",
        "ratio11 = minAcqFuncApprox11/minAcqFuncExact11\n",
        "approx_11.tau, exact_11.tau, minAcqFuncApprox11, minAcqFuncExact11, ratio11\n"
      ],
      "metadata": {
        "colab": {
          "base_uri": "https://localhost:8080/"
        },
        "id": "TaEOW6nLLEcx",
        "outputId": "c966d67c-0302-4242-e28d-8643a5177943"
      },
      "execution_count": null,
      "outputs": [
        {
          "output_type": "execute_result",
          "data": {
            "text/plain": [
              "(-2.716881462565864,\n",
              " -2.716881462565864,\n",
              " -2.784416058490703,\n",
              " -2.7603420722418504,\n",
              " 1.0087213778650632)"
            ]
          },
          "metadata": {},
          "execution_count": 124
        }
      ]
    },
    {
      "cell_type": "code",
      "source": [
        "### MinAcqFunc Comparison: Experiment 12\n",
        "\n",
        "minAcqFuncApprox12 = np.mean(approx_12minAcqFunc)\n",
        "minAcqFuncExact12 = np.mean(exact_12minAcqFunc)\n",
        "ratio12 = minAcqFuncApprox12/minAcqFuncExact12\n",
        "approx_12.tau, exact_12.tau, minAcqFuncApprox12, minAcqFuncExact12, ratio12\n"
      ],
      "metadata": {
        "colab": {
          "base_uri": "https://localhost:8080/"
        },
        "id": "1KjJRPSwLE76",
        "outputId": "5315843c-2516-4a80-885a-c993f23444aa"
      },
      "execution_count": null,
      "outputs": [
        {
          "output_type": "execute_result",
          "data": {
            "text/plain": [
              "(-2.256892556058838,\n",
              " -1.8121839738384036,\n",
              " -16.029173122137866,\n",
              " -10.218549812303467,\n",
              " 1.5686348275014739)"
            ]
          },
          "metadata": {},
          "execution_count": 125
        }
      ]
    },
    {
      "cell_type": "code",
      "source": [
        "### MinAcqFunc Comparison: Experiment 13\n",
        "\n",
        "minAcqFuncApprox13 = np.mean(approx_13minAcqFunc)\n",
        "minAcqFuncExact13 = np.mean(exact_13minAcqFunc)\n",
        "ratio13 = minAcqFuncApprox13/minAcqFuncExact13\n",
        "approx_13.tau, exact_13.tau, minAcqFuncApprox13, minAcqFuncExact13, ratio13\n"
      ],
      "metadata": {
        "colab": {
          "base_uri": "https://localhost:8080/"
        },
        "id": "jCoTSHuBLFOJ",
        "outputId": "60efba13-2b81-44bc-beb1-726c57cdf1f0"
      },
      "execution_count": null,
      "outputs": [
        {
          "output_type": "execute_result",
          "data": {
            "text/plain": [
              "(-6.428195520869893,\n",
              " -3.8708263682458,\n",
              " -16.677108919148345,\n",
              " -18.702102612381413,\n",
              " 0.8917237416988368)"
            ]
          },
          "metadata": {},
          "execution_count": 126
        }
      ]
    },
    {
      "cell_type": "code",
      "source": [
        "### MinAcqFunc Comparison: Experiment 14\n",
        "\n",
        "minAcqFuncApprox14 = np.mean(approx_14minAcqFunc)\n",
        "minAcqFuncExact14 = np.mean(exact_14minAcqFunc)\n",
        "ratio14 = minAcqFuncApprox14/minAcqFuncExact14\n",
        "approx_14.tau, exact_14.tau, minAcqFuncApprox14, minAcqFuncExact14, ratio14\n"
      ],
      "metadata": {
        "colab": {
          "base_uri": "https://localhost:8080/"
        },
        "id": "9_xSxWT8LFsp",
        "outputId": "2b6e0158-c97c-4067-bab1-1aabc6fba140"
      },
      "execution_count": null,
      "outputs": [
        {
          "output_type": "execute_result",
          "data": {
            "text/plain": [
              "(-0.3534375557853193,\n",
              " -3.8417313054871873,\n",
              " -15.190806499384816,\n",
              " -17.420587916958237,\n",
              " 0.8720030903547854)"
            ]
          },
          "metadata": {},
          "execution_count": 127
        }
      ]
    },
    {
      "cell_type": "code",
      "source": [
        "### MinAcqFunc Comparison: Experiment 15\n",
        "\n",
        "minAcqFuncApprox15 = np.mean(approx_15minAcqFunc)\n",
        "minAcqFuncExact15 = np.mean(exact_15minAcqFunc)\n",
        "ratio15 = minAcqFuncApprox15/minAcqFuncExact15\n",
        "approx_15.tau, exact_15.tau, minAcqFuncApprox15, minAcqFuncExact15, ratio15\n"
      ],
      "metadata": {
        "colab": {
          "base_uri": "https://localhost:8080/"
        },
        "id": "vj_iCIvOLFeP",
        "outputId": "0fec71e3-4a8e-4b2f-87f3-31505011efe8"
      },
      "execution_count": null,
      "outputs": [
        {
          "output_type": "execute_result",
          "data": {
            "text/plain": [
              "(-2.3695015423710775,\n",
              " -1.678019658304552,\n",
              " -9.552861723514768,\n",
              " -12.906967195713639,\n",
              " 0.7401321765726067)"
            ]
          },
          "metadata": {},
          "execution_count": 128
        }
      ]
    },
    {
      "cell_type": "code",
      "source": [
        "### MinAcqFunc Comparison: Experiment 16\n",
        "\n",
        "minAcqFuncApprox16 = np.mean(approx_16minAcqFunc)\n",
        "minAcqFuncExact16 = np.mean(exact_16minAcqFunc)\n",
        "ratio16 = minAcqFuncApprox16/minAcqFuncExact16\n",
        "approx_16.tau, exact_16.tau, minAcqFuncApprox16, minAcqFuncExact16, ratio16\n"
      ],
      "metadata": {
        "colab": {
          "base_uri": "https://localhost:8080/"
        },
        "id": "vjFFlps7LF7A",
        "outputId": "34060f60-2587-47cf-8c93-af9cd83f5ab3"
      },
      "execution_count": null,
      "outputs": [
        {
          "output_type": "execute_result",
          "data": {
            "text/plain": [
              "(-4.548581261481097,\n",
              " -0.5144642715556319,\n",
              " -17.014394748859353,\n",
              " -13.064454037618654,\n",
              " 1.3023425777967435)"
            ]
          },
          "metadata": {},
          "execution_count": 129
        }
      ]
    },
    {
      "cell_type": "code",
      "source": [
        "### MinAcqFunc Comparison: Experiment 17\n",
        "\n",
        "minAcqFuncApprox17 = np.mean(approx_17minAcqFunc)\n",
        "minAcqFuncExact17 = np.mean(exact_17minAcqFunc)\n",
        "ratio17 = minAcqFuncApprox17/minAcqFuncExact17\n",
        "approx_17.tau, exact_17.tau, minAcqFuncApprox17, minAcqFuncExact17, ratio17\n"
      ],
      "metadata": {
        "colab": {
          "base_uri": "https://localhost:8080/"
        },
        "id": "jO0-nRLRLGJv",
        "outputId": "00e0ad46-8fa7-42db-817b-1e5f5ccd43ed"
      },
      "execution_count": null,
      "outputs": [
        {
          "output_type": "execute_result",
          "data": {
            "text/plain": [
              "(-4.156213791773137,\n",
              " -0.7697779197533032,\n",
              " -10.322632811622409,\n",
              " -11.041603692538141,\n",
              " 0.9348852846981269)"
            ]
          },
          "metadata": {},
          "execution_count": 130
        }
      ]
    },
    {
      "cell_type": "code",
      "source": [
        "### MinAcqFunc Comparison: Experiment 18\n",
        "\n",
        "minAcqFuncApprox18 = np.mean(approx_18minAcqFunc)\n",
        "minAcqFuncExact18 = np.mean(exact_18minAcqFunc)\n",
        "ratio18 = minAcqFuncApprox18/minAcqFuncExact18\n",
        "approx_18.tau, exact_18.tau, minAcqFuncApprox18, minAcqFuncExact18, ratio18\n"
      ],
      "metadata": {
        "colab": {
          "base_uri": "https://localhost:8080/"
        },
        "id": "5Zo9ub4ULGXh",
        "outputId": "6b14f5a6-be43-4005-8372-fecc3ff21cd6"
      },
      "execution_count": null,
      "outputs": [
        {
          "output_type": "execute_result",
          "data": {
            "text/plain": [
              "(-5.734141920432893,\n",
              " -0.2568790037829701,\n",
              " -7.395979870056481,\n",
              " -9.057880783231306,\n",
              " 0.816524311486692)"
            ]
          },
          "metadata": {},
          "execution_count": 131
        }
      ]
    },
    {
      "cell_type": "code",
      "source": [
        "### MinAcqFunc Comparison: Experiment 19\n",
        "\n",
        "minAcqFuncApprox19 = np.mean(approx_19minAcqFunc)\n",
        "minAcqFuncExact19 = np.mean(exact_19minAcqFunc)\n",
        "ratio19 = minAcqFuncApprox19/minAcqFuncExact19\n",
        "approx_19.tau, exact_19.tau, minAcqFuncApprox19, minAcqFuncExact19, ratio19\n"
      ],
      "metadata": {
        "colab": {
          "base_uri": "https://localhost:8080/"
        },
        "id": "1yJ_PLUFLGmh",
        "outputId": "b5ed7389-d41a-4aaf-ef45-2797460a6f88"
      },
      "execution_count": null,
      "outputs": [
        {
          "output_type": "execute_result",
          "data": {
            "text/plain": [
              "(-2.524157178764308,\n",
              " -8.756231898391391,\n",
              " -16.458761182256602,\n",
              " -20.48619141476257,\n",
              " 0.8034075660542859)"
            ]
          },
          "metadata": {},
          "execution_count": 132
        }
      ]
    },
    {
      "cell_type": "code",
      "source": [
        "### MinAcqFunc Comparison: Experiment 20\n",
        "\n",
        "minAcqFuncApprox20 = np.mean(approx_20minAcqFunc)\n",
        "minAcqFuncExact20 = np.mean(exact_20minAcqFunc)\n",
        "ratio20 = minAcqFuncApprox20/minAcqFuncExact20\n",
        "approx_20.tau, exact_20.tau, minAcqFuncApprox20, minAcqFuncExact20, ratio20\n"
      ],
      "metadata": {
        "colab": {
          "base_uri": "https://localhost:8080/"
        },
        "id": "Sd9NxsRsLG1P",
        "outputId": "0610b5ff-0a4b-4318-c24c-5696520c3c17"
      },
      "execution_count": null,
      "outputs": [
        {
          "output_type": "execute_result",
          "data": {
            "text/plain": [
              "(-6.161449614183514,\n",
              " -6.161449614183514,\n",
              " -6.15112719319897,\n",
              " -6.146632077502173,\n",
              " 1.000731313610465)"
            ]
          },
          "metadata": {},
          "execution_count": 133
        }
      ]
    },
    {
      "cell_type": "code",
      "source": [
        "num = [1,2,3,4,5,6,7,8,9,10,11,12,13,14,15,16,17,18,19,20]\n",
        "ApproxTau = [approx_1.tau,approx_2.tau,approx_3.tau,approx_4.tau,approx_5.tau,approx_6.tau,approx_7.tau,approx_8.tau,approx_9.tau,approx_10.tau,approx_11.tau,approx_12.tau,approx_13.tau,approx_14.tau,approx_15.tau,approx_16.tau,approx_17.tau,approx_18.tau,approx_19.tau,approx_20.tau]\n",
        "ExactTau = [exact_1.tau,exact_2.tau,exact_3.tau,exact_4.tau,exact_5.tau,exact_6.tau,exact_7.tau,exact_8.tau,exact_9.tau,exact_10.tau,exact_11.tau,exact_12.tau,exact_13.tau,exact_14.tau,exact_15.tau,exact_16.tau,exact_17.tau,exact_18.tau,exact_19.tau,exact_20.tau]\n",
        "AvgMinAcqFuncExact = [minAcqFuncExact1,minAcqFuncExact2,minAcqFuncExact3,minAcqFuncExact4,minAcqFuncExact5,minAcqFuncExact6,minAcqFuncExact7,minAcqFuncExact8,minAcqFuncExact9,minAcqFuncExact10,minAcqFuncExact11,minAcqFuncExact12,minAcqFuncExact13,minAcqFuncExact14,minAcqFuncExact15,minAcqFuncExact16,minAcqFuncExact17,minAcqFuncExact18,minAcqFuncExact19,minAcqFuncExact20]\n",
        "AvgMinAcqFuncApprox = [minAcqFuncApprox1,minAcqFuncApprox2,minAcqFuncApprox3,minAcqFuncApprox4,minAcqFuncApprox5,minAcqFuncApprox6,minAcqFuncApprox7,minAcqFuncApprox8,minAcqFuncApprox9,minAcqFuncApprox10,minAcqFuncApprox11,minAcqFuncApprox12,minAcqFuncApprox13,minAcqFuncApprox14,minAcqFuncApprox15,minAcqFuncApprox16,minAcqFuncApprox17,minAcqFuncApprox18,minAcqFuncApprox19,minAcqFuncApprox20]\n",
        "ratio = [ratio1,ratio2,ratio3,ratio4,ratio5,ratio6,ratio7,ratio8,ratio9,ratio10,ratio11,ratio12,ratio13,ratio14,ratio15,ratio16,ratio17,ratio18,ratio19,ratio20]\n"
      ],
      "metadata": {
        "id": "_Fbc4r50vHHF"
      },
      "execution_count": null,
      "outputs": []
    },
    {
      "cell_type": "code",
      "source": [
        "def greaterThan(a, b):\n",
        "  lis =[]\n",
        "  #convert to list\n",
        "  a = list(a)\n",
        "  b = list(b)\n",
        "  c = \"Yes\"\n",
        "  d = \"No\"\n",
        "  e = \"equal\"\n",
        "  for first, first_te in zip(a, b):\n",
        "      if first < first_te:\n",
        "          lis.append(d)\n",
        "      elif first > first_te:\n",
        "          lis.append(c)\n",
        "      else:\n",
        "          lis.append(e)\n",
        "  return lis\n",
        "\n",
        "greaterAcqFunc = greaterThan(AvgMinAcqFuncExact, AvgMinAcqFuncApprox)\n"
      ],
      "metadata": {
        "id": "gyTQQeQfknKX"
      },
      "execution_count": null,
      "outputs": []
    },
    {
      "cell_type": "code",
      "source": [
        "def greaterRatio(a):\n",
        "  lis =[]\n",
        "  #convert to list\n",
        "  a = list(a)\n",
        "  b = \"Yes\"\n",
        "  c = \"No\"\n",
        "  d = \"equal\"\n",
        "  for first, in zip(a):\n",
        "      if first < 1:\n",
        "          lis.append(c)\n",
        "      elif first > 1:\n",
        "          lis.append(b)\n",
        "      else:\n",
        "          lis.append(d)\n",
        "  return lis\n",
        "\n",
        "greaterRatio = greaterRatio(ratio)\n"
      ],
      "metadata": {
        "id": "wO-_fUfpoYyP"
      },
      "execution_count": null,
      "outputs": []
    },
    {
      "cell_type": "code",
      "source": [
        "df = pd.DataFrame(dict(Experiment=num,\n",
        "                  ExactTau=ExactTau,\n",
        "                  ApproxTau=ApproxTau,\n",
        "                  AvgMinAcqFuncExact=AvgMinAcqFuncExact,\n",
        "                  GreaterAcqFunc = greaterAcqFunc,\n",
        "                  AvgMinAcqFuncApprox=AvgMinAcqFuncApprox,\n",
        "                  Ratio = ratio,\n",
        "                  GreaterRatio = greaterRatio))\n",
        "df.sort_values(by=['ExactTau'], inplace=True, ascending=False)\n",
        "print(df.to_latex(index=False))\n"
      ],
      "metadata": {
        "id": "4EzMdtEQV0yI",
        "colab": {
          "base_uri": "https://localhost:8080/"
        },
        "outputId": "7e9f30cd-5817-4359-e673-50c8a5551162"
      },
      "execution_count": null,
      "outputs": [
        {
          "output_type": "stream",
          "name": "stdout",
          "text": [
            "\\begin{tabular}{rrrrlrrl}\n",
            "\\toprule\n",
            " Experiment &  ExactTau &  ApproxTau &  AvgMinAcqFuncExact & GreaterAcqFunc &  AvgMinAcqFuncApprox &    Ratio & GreaterRatio \\\\\n",
            "\\midrule\n",
            "         18 & -0.256879 &  -5.734142 &           -9.057881 &             No &            -7.395980 & 0.816524 &           No \\\\\n",
            "         16 & -0.514464 &  -4.548581 &          -13.064454 &            Yes &           -17.014395 & 1.302343 &          Yes \\\\\n",
            "          8 & -0.579188 &  -0.579188 &           -1.113953 &            Yes &            -1.118590 & 1.004163 &          Yes \\\\\n",
            "         17 & -0.769778 &  -4.156214 &          -11.041604 &             No &           -10.322633 & 0.934885 &           No \\\\\n",
            "          3 & -1.494012 &  -1.494012 &           -7.269331 &            Yes &            -7.282237 & 1.001775 &          Yes \\\\\n",
            "         15 & -1.678020 &  -2.369502 &          -12.906967 &             No &            -9.552862 & 0.740132 &           No \\\\\n",
            "         12 & -1.812184 &  -2.256893 &          -10.218550 &            Yes &           -16.029173 & 1.568635 &          Yes \\\\\n",
            "          4 & -2.112431 &  -3.569635 &          -11.189073 &            Yes &           -12.156896 & 1.086497 &          Yes \\\\\n",
            "         11 & -2.716881 &  -2.716881 &           -2.760342 &            Yes &            -2.784416 & 1.008721 &          Yes \\\\\n",
            "          1 & -3.088342 &  -4.326654 &           -4.980638 &            Yes &            -5.284044 & 1.060917 &          Yes \\\\\n",
            "         14 & -3.841731 &  -0.353438 &          -17.420588 &             No &           -15.190806 & 0.872003 &           No \\\\\n",
            "         13 & -3.870826 &  -6.428196 &          -18.702103 &             No &           -16.677109 & 0.891724 &           No \\\\\n",
            "          2 & -4.333099 &  -4.333099 &           -4.321401 &            Yes &            -4.328926 & 1.001741 &          Yes \\\\\n",
            "          7 & -4.422426 &  -1.133922 &          -16.203569 &             No &           -13.063944 & 0.806239 &           No \\\\\n",
            "         10 & -4.603729 &  -4.603729 &           -9.792612 &            Yes &            -9.809635 & 1.001738 &          Yes \\\\\n",
            "          6 & -5.629417 &  -3.266360 &           -5.598847 &            Yes &            -5.618657 & 1.003538 &          Yes \\\\\n",
            "         20 & -6.161450 &  -6.161450 &           -6.146632 &            Yes &            -6.151127 & 1.000731 &          Yes \\\\\n",
            "          9 & -6.388412 &  -3.525824 &          -15.676674 &            Yes &           -21.023997 & 1.341101 &          Yes \\\\\n",
            "          5 & -7.745296 &  -9.736075 &           -9.447456 &            Yes &            -9.901398 & 1.048049 &          Yes \\\\\n",
            "         19 & -8.756232 &  -2.524157 &          -20.486191 &             No &           -16.458761 & 0.803408 &           No \\\\\n",
            "\\bottomrule\n",
            "\\end{tabular}\n",
            "\n"
          ]
        }
      ]
    },
    {
      "cell_type": "code",
      "source": [
        "avg_list = ['ExactTau', 'ApproxTau', 'AvgMinAcqFuncExact','AvgMinAcqFuncApprox']\n",
        "avg = df[avg_list].mean()\n",
        "avg.name = 'Average'\n",
        "df = df.append(avg.transpose())\n",
        "df.fillna(value='', inplace=True)\n",
        "df\n"
      ],
      "metadata": {
        "id": "HQ6-zjAHD43j",
        "colab": {
          "base_uri": "https://localhost:8080/",
          "height": 708
        },
        "outputId": "a30061ba-57f3-42c3-a404-914f50a35def"
      },
      "execution_count": null,
      "outputs": [
        {
          "output_type": "execute_result",
          "data": {
            "text/plain": [
              "        Experiment  ExactTau  ApproxTau  AvgMinAcqFuncExact GreaterAcqFunc  \\\n",
              "17            18.0 -0.256879  -5.734142           -9.057881             No   \n",
              "15            16.0 -0.514464  -4.548581          -13.064454            Yes   \n",
              "7              8.0 -0.579188  -0.579188           -1.113953            Yes   \n",
              "16            17.0 -0.769778  -4.156214          -11.041604             No   \n",
              "2              3.0 -1.494012  -1.494012           -7.269331            Yes   \n",
              "14            15.0 -1.678020  -2.369502          -12.906967             No   \n",
              "11            12.0 -1.812184  -2.256893          -10.218550            Yes   \n",
              "3              4.0 -2.112431  -3.569635          -11.189073            Yes   \n",
              "10            11.0 -2.716881  -2.716881           -2.760342            Yes   \n",
              "0              1.0 -3.088342  -4.326654           -4.980638            Yes   \n",
              "13            14.0 -3.841731  -0.353438          -17.420588             No   \n",
              "12            13.0 -3.870826  -6.428196          -18.702103             No   \n",
              "1              2.0 -4.333099  -4.333099           -4.321401            Yes   \n",
              "6              7.0 -4.422426  -1.133922          -16.203569             No   \n",
              "9             10.0 -4.603729  -4.603729           -9.792612            Yes   \n",
              "5              6.0 -5.629417  -3.266360           -5.598847            Yes   \n",
              "19            20.0 -6.161450  -6.161450           -6.146632            Yes   \n",
              "8              9.0 -6.388412  -3.525824          -15.676674            Yes   \n",
              "4              5.0 -7.745296  -9.736075           -9.447456            Yes   \n",
              "18            19.0 -8.756232  -2.524157          -20.486191             No   \n",
              "Average            -3.538740  -3.690898          -10.369943                  \n",
              "\n",
              "         AvgMinAcqFuncApprox     Ratio GreaterRatio  \n",
              "17                 -7.395980  0.816524           No  \n",
              "15                -17.014395  1.302343          Yes  \n",
              "7                  -1.118590  1.004163          Yes  \n",
              "16                -10.322633  0.934885           No  \n",
              "2                  -7.282237  1.001775          Yes  \n",
              "14                 -9.552862  0.740132           No  \n",
              "11                -16.029173  1.568635          Yes  \n",
              "3                 -12.156896  1.086497          Yes  \n",
              "10                 -2.784416  1.008721          Yes  \n",
              "0                  -5.284044  1.060917          Yes  \n",
              "13                -15.190806  0.872003           No  \n",
              "12                -16.677109  0.891724           No  \n",
              "1                  -4.328926  1.001741          Yes  \n",
              "6                 -13.063944  0.806239           No  \n",
              "9                  -9.809635  1.001738          Yes  \n",
              "5                  -5.618657  1.003538          Yes  \n",
              "19                 -6.151127  1.000731          Yes  \n",
              "8                 -21.023997  1.341101          Yes  \n",
              "4                  -9.901398  1.048049          Yes  \n",
              "18                -16.458761  0.803408           No  \n",
              "Average           -10.358279                         "
            ],
            "text/html": [
              "\n",
              "  <div id=\"df-a396bd0f-6160-435c-b1fb-9f0394e63e4e\">\n",
              "    <div class=\"colab-df-container\">\n",
              "      <div>\n",
              "<style scoped>\n",
              "    .dataframe tbody tr th:only-of-type {\n",
              "        vertical-align: middle;\n",
              "    }\n",
              "\n",
              "    .dataframe tbody tr th {\n",
              "        vertical-align: top;\n",
              "    }\n",
              "\n",
              "    .dataframe thead th {\n",
              "        text-align: right;\n",
              "    }\n",
              "</style>\n",
              "<table border=\"1\" class=\"dataframe\">\n",
              "  <thead>\n",
              "    <tr style=\"text-align: right;\">\n",
              "      <th></th>\n",
              "      <th>Experiment</th>\n",
              "      <th>ExactTau</th>\n",
              "      <th>ApproxTau</th>\n",
              "      <th>AvgMinAcqFuncExact</th>\n",
              "      <th>GreaterAcqFunc</th>\n",
              "      <th>AvgMinAcqFuncApprox</th>\n",
              "      <th>Ratio</th>\n",
              "      <th>GreaterRatio</th>\n",
              "    </tr>\n",
              "  </thead>\n",
              "  <tbody>\n",
              "    <tr>\n",
              "      <th>17</th>\n",
              "      <td>18.0</td>\n",
              "      <td>-0.256879</td>\n",
              "      <td>-5.734142</td>\n",
              "      <td>-9.057881</td>\n",
              "      <td>No</td>\n",
              "      <td>-7.395980</td>\n",
              "      <td>0.816524</td>\n",
              "      <td>No</td>\n",
              "    </tr>\n",
              "    <tr>\n",
              "      <th>15</th>\n",
              "      <td>16.0</td>\n",
              "      <td>-0.514464</td>\n",
              "      <td>-4.548581</td>\n",
              "      <td>-13.064454</td>\n",
              "      <td>Yes</td>\n",
              "      <td>-17.014395</td>\n",
              "      <td>1.302343</td>\n",
              "      <td>Yes</td>\n",
              "    </tr>\n",
              "    <tr>\n",
              "      <th>7</th>\n",
              "      <td>8.0</td>\n",
              "      <td>-0.579188</td>\n",
              "      <td>-0.579188</td>\n",
              "      <td>-1.113953</td>\n",
              "      <td>Yes</td>\n",
              "      <td>-1.118590</td>\n",
              "      <td>1.004163</td>\n",
              "      <td>Yes</td>\n",
              "    </tr>\n",
              "    <tr>\n",
              "      <th>16</th>\n",
              "      <td>17.0</td>\n",
              "      <td>-0.769778</td>\n",
              "      <td>-4.156214</td>\n",
              "      <td>-11.041604</td>\n",
              "      <td>No</td>\n",
              "      <td>-10.322633</td>\n",
              "      <td>0.934885</td>\n",
              "      <td>No</td>\n",
              "    </tr>\n",
              "    <tr>\n",
              "      <th>2</th>\n",
              "      <td>3.0</td>\n",
              "      <td>-1.494012</td>\n",
              "      <td>-1.494012</td>\n",
              "      <td>-7.269331</td>\n",
              "      <td>Yes</td>\n",
              "      <td>-7.282237</td>\n",
              "      <td>1.001775</td>\n",
              "      <td>Yes</td>\n",
              "    </tr>\n",
              "    <tr>\n",
              "      <th>14</th>\n",
              "      <td>15.0</td>\n",
              "      <td>-1.678020</td>\n",
              "      <td>-2.369502</td>\n",
              "      <td>-12.906967</td>\n",
              "      <td>No</td>\n",
              "      <td>-9.552862</td>\n",
              "      <td>0.740132</td>\n",
              "      <td>No</td>\n",
              "    </tr>\n",
              "    <tr>\n",
              "      <th>11</th>\n",
              "      <td>12.0</td>\n",
              "      <td>-1.812184</td>\n",
              "      <td>-2.256893</td>\n",
              "      <td>-10.218550</td>\n",
              "      <td>Yes</td>\n",
              "      <td>-16.029173</td>\n",
              "      <td>1.568635</td>\n",
              "      <td>Yes</td>\n",
              "    </tr>\n",
              "    <tr>\n",
              "      <th>3</th>\n",
              "      <td>4.0</td>\n",
              "      <td>-2.112431</td>\n",
              "      <td>-3.569635</td>\n",
              "      <td>-11.189073</td>\n",
              "      <td>Yes</td>\n",
              "      <td>-12.156896</td>\n",
              "      <td>1.086497</td>\n",
              "      <td>Yes</td>\n",
              "    </tr>\n",
              "    <tr>\n",
              "      <th>10</th>\n",
              "      <td>11.0</td>\n",
              "      <td>-2.716881</td>\n",
              "      <td>-2.716881</td>\n",
              "      <td>-2.760342</td>\n",
              "      <td>Yes</td>\n",
              "      <td>-2.784416</td>\n",
              "      <td>1.008721</td>\n",
              "      <td>Yes</td>\n",
              "    </tr>\n",
              "    <tr>\n",
              "      <th>0</th>\n",
              "      <td>1.0</td>\n",
              "      <td>-3.088342</td>\n",
              "      <td>-4.326654</td>\n",
              "      <td>-4.980638</td>\n",
              "      <td>Yes</td>\n",
              "      <td>-5.284044</td>\n",
              "      <td>1.060917</td>\n",
              "      <td>Yes</td>\n",
              "    </tr>\n",
              "    <tr>\n",
              "      <th>13</th>\n",
              "      <td>14.0</td>\n",
              "      <td>-3.841731</td>\n",
              "      <td>-0.353438</td>\n",
              "      <td>-17.420588</td>\n",
              "      <td>No</td>\n",
              "      <td>-15.190806</td>\n",
              "      <td>0.872003</td>\n",
              "      <td>No</td>\n",
              "    </tr>\n",
              "    <tr>\n",
              "      <th>12</th>\n",
              "      <td>13.0</td>\n",
              "      <td>-3.870826</td>\n",
              "      <td>-6.428196</td>\n",
              "      <td>-18.702103</td>\n",
              "      <td>No</td>\n",
              "      <td>-16.677109</td>\n",
              "      <td>0.891724</td>\n",
              "      <td>No</td>\n",
              "    </tr>\n",
              "    <tr>\n",
              "      <th>1</th>\n",
              "      <td>2.0</td>\n",
              "      <td>-4.333099</td>\n",
              "      <td>-4.333099</td>\n",
              "      <td>-4.321401</td>\n",
              "      <td>Yes</td>\n",
              "      <td>-4.328926</td>\n",
              "      <td>1.001741</td>\n",
              "      <td>Yes</td>\n",
              "    </tr>\n",
              "    <tr>\n",
              "      <th>6</th>\n",
              "      <td>7.0</td>\n",
              "      <td>-4.422426</td>\n",
              "      <td>-1.133922</td>\n",
              "      <td>-16.203569</td>\n",
              "      <td>No</td>\n",
              "      <td>-13.063944</td>\n",
              "      <td>0.806239</td>\n",
              "      <td>No</td>\n",
              "    </tr>\n",
              "    <tr>\n",
              "      <th>9</th>\n",
              "      <td>10.0</td>\n",
              "      <td>-4.603729</td>\n",
              "      <td>-4.603729</td>\n",
              "      <td>-9.792612</td>\n",
              "      <td>Yes</td>\n",
              "      <td>-9.809635</td>\n",
              "      <td>1.001738</td>\n",
              "      <td>Yes</td>\n",
              "    </tr>\n",
              "    <tr>\n",
              "      <th>5</th>\n",
              "      <td>6.0</td>\n",
              "      <td>-5.629417</td>\n",
              "      <td>-3.266360</td>\n",
              "      <td>-5.598847</td>\n",
              "      <td>Yes</td>\n",
              "      <td>-5.618657</td>\n",
              "      <td>1.003538</td>\n",
              "      <td>Yes</td>\n",
              "    </tr>\n",
              "    <tr>\n",
              "      <th>19</th>\n",
              "      <td>20.0</td>\n",
              "      <td>-6.161450</td>\n",
              "      <td>-6.161450</td>\n",
              "      <td>-6.146632</td>\n",
              "      <td>Yes</td>\n",
              "      <td>-6.151127</td>\n",
              "      <td>1.000731</td>\n",
              "      <td>Yes</td>\n",
              "    </tr>\n",
              "    <tr>\n",
              "      <th>8</th>\n",
              "      <td>9.0</td>\n",
              "      <td>-6.388412</td>\n",
              "      <td>-3.525824</td>\n",
              "      <td>-15.676674</td>\n",
              "      <td>Yes</td>\n",
              "      <td>-21.023997</td>\n",
              "      <td>1.341101</td>\n",
              "      <td>Yes</td>\n",
              "    </tr>\n",
              "    <tr>\n",
              "      <th>4</th>\n",
              "      <td>5.0</td>\n",
              "      <td>-7.745296</td>\n",
              "      <td>-9.736075</td>\n",
              "      <td>-9.447456</td>\n",
              "      <td>Yes</td>\n",
              "      <td>-9.901398</td>\n",
              "      <td>1.048049</td>\n",
              "      <td>Yes</td>\n",
              "    </tr>\n",
              "    <tr>\n",
              "      <th>18</th>\n",
              "      <td>19.0</td>\n",
              "      <td>-8.756232</td>\n",
              "      <td>-2.524157</td>\n",
              "      <td>-20.486191</td>\n",
              "      <td>No</td>\n",
              "      <td>-16.458761</td>\n",
              "      <td>0.803408</td>\n",
              "      <td>No</td>\n",
              "    </tr>\n",
              "    <tr>\n",
              "      <th>Average</th>\n",
              "      <td></td>\n",
              "      <td>-3.538740</td>\n",
              "      <td>-3.690898</td>\n",
              "      <td>-10.369943</td>\n",
              "      <td></td>\n",
              "      <td>-10.358279</td>\n",
              "      <td></td>\n",
              "      <td></td>\n",
              "    </tr>\n",
              "  </tbody>\n",
              "</table>\n",
              "</div>\n",
              "      <button class=\"colab-df-convert\" onclick=\"convertToInteractive('df-a396bd0f-6160-435c-b1fb-9f0394e63e4e')\"\n",
              "              title=\"Convert this dataframe to an interactive table.\"\n",
              "              style=\"display:none;\">\n",
              "        \n",
              "  <svg xmlns=\"http://www.w3.org/2000/svg\" height=\"24px\"viewBox=\"0 0 24 24\"\n",
              "       width=\"24px\">\n",
              "    <path d=\"M0 0h24v24H0V0z\" fill=\"none\"/>\n",
              "    <path d=\"M18.56 5.44l.94 2.06.94-2.06 2.06-.94-2.06-.94-.94-2.06-.94 2.06-2.06.94zm-11 1L8.5 8.5l.94-2.06 2.06-.94-2.06-.94L8.5 2.5l-.94 2.06-2.06.94zm10 10l.94 2.06.94-2.06 2.06-.94-2.06-.94-.94-2.06-.94 2.06-2.06.94z\"/><path d=\"M17.41 7.96l-1.37-1.37c-.4-.4-.92-.59-1.43-.59-.52 0-1.04.2-1.43.59L10.3 9.45l-7.72 7.72c-.78.78-.78 2.05 0 2.83L4 21.41c.39.39.9.59 1.41.59.51 0 1.02-.2 1.41-.59l7.78-7.78 2.81-2.81c.8-.78.8-2.07 0-2.86zM5.41 20L4 18.59l7.72-7.72 1.47 1.35L5.41 20z\"/>\n",
              "  </svg>\n",
              "      </button>\n",
              "      \n",
              "  <style>\n",
              "    .colab-df-container {\n",
              "      display:flex;\n",
              "      flex-wrap:wrap;\n",
              "      gap: 12px;\n",
              "    }\n",
              "\n",
              "    .colab-df-convert {\n",
              "      background-color: #E8F0FE;\n",
              "      border: none;\n",
              "      border-radius: 50%;\n",
              "      cursor: pointer;\n",
              "      display: none;\n",
              "      fill: #1967D2;\n",
              "      height: 32px;\n",
              "      padding: 0 0 0 0;\n",
              "      width: 32px;\n",
              "    }\n",
              "\n",
              "    .colab-df-convert:hover {\n",
              "      background-color: #E2EBFA;\n",
              "      box-shadow: 0px 1px 2px rgba(60, 64, 67, 0.3), 0px 1px 3px 1px rgba(60, 64, 67, 0.15);\n",
              "      fill: #174EA6;\n",
              "    }\n",
              "\n",
              "    [theme=dark] .colab-df-convert {\n",
              "      background-color: #3B4455;\n",
              "      fill: #D2E3FC;\n",
              "    }\n",
              "\n",
              "    [theme=dark] .colab-df-convert:hover {\n",
              "      background-color: #434B5C;\n",
              "      box-shadow: 0px 1px 3px 1px rgba(0, 0, 0, 0.15);\n",
              "      filter: drop-shadow(0px 1px 2px rgba(0, 0, 0, 0.3));\n",
              "      fill: #FFFFFF;\n",
              "    }\n",
              "  </style>\n",
              "\n",
              "      <script>\n",
              "        const buttonEl =\n",
              "          document.querySelector('#df-a396bd0f-6160-435c-b1fb-9f0394e63e4e button.colab-df-convert');\n",
              "        buttonEl.style.display =\n",
              "          google.colab.kernel.accessAllowed ? 'block' : 'none';\n",
              "\n",
              "        async function convertToInteractive(key) {\n",
              "          const element = document.querySelector('#df-a396bd0f-6160-435c-b1fb-9f0394e63e4e');\n",
              "          const dataTable =\n",
              "            await google.colab.kernel.invokeFunction('convertToInteractive',\n",
              "                                                     [key], {});\n",
              "          if (!dataTable) return;\n",
              "\n",
              "          const docLinkHtml = 'Like what you see? Visit the ' +\n",
              "            '<a target=\"_blank\" href=https://colab.research.google.com/notebooks/data_table.ipynb>data table notebook</a>'\n",
              "            + ' to learn more about interactive tables.';\n",
              "          element.innerHTML = '';\n",
              "          dataTable['output_type'] = 'display_data';\n",
              "          await google.colab.output.renderOutput(dataTable, element);\n",
              "          const docLink = document.createElement('div');\n",
              "          docLink.innerHTML = docLinkHtml;\n",
              "          element.appendChild(docLink);\n",
              "        }\n",
              "      </script>\n",
              "    </div>\n",
              "  </div>\n",
              "  "
            ]
          },
          "metadata": {},
          "execution_count": 138
        }
      ]
    },
    {
      "cell_type": "code",
      "source": [
        "print('Ratio of Average ExactTau to Average ApproxTau:', np.round(avg[1]/avg[0], 5))\n",
        "print('Ratio of Average AvgMinAcqFuncExact to Average AvgMinAcqFuncApprox:', np.round(avg[3]/avg[2], 5))\n",
        "print('Number of experiments where AvgMinAcqFuncExact exceeds AvgMinAcqFuncApprox:', df['GreaterAcqFunc'].value_counts()['Yes'])\n",
        "print('Number of experiments where Ratio exceeds 1.0:', df['GreaterRatio'].value_counts()['Yes'])\n"
      ],
      "metadata": {
        "colab": {
          "base_uri": "https://localhost:8080/"
        },
        "id": "mOCqQaKXuzvD",
        "outputId": "1d77d53c-a87b-4d99-e9f0-2230d53fbf26"
      },
      "execution_count": 140,
      "outputs": [
        {
          "output_type": "stream",
          "name": "stdout",
          "text": [
            "Ratio of Average ExactTau to Average ApproxTau: 1.043\n",
            "Ratio of Average AvgMinAcqFuncExact to Average AvgMinAcqFuncApprox: 0.99888\n",
            "Number of experiments where AvgMinAcqFuncExact exceeds AvgMinAcqFuncApprox: 13\n",
            "Number of experiments where Ratio exceeds 1.0: 13\n"
          ]
        }
      ]
    },
    {
      "cell_type": "code",
      "source": [
        ""
      ],
      "metadata": {
        "id": "2GmXuB8wsCOS"
      },
      "execution_count": null,
      "outputs": []
    }
  ]
}