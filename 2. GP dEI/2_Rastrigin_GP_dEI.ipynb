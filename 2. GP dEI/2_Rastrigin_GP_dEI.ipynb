{
  "cells": [
    {
      "cell_type": "markdown",
      "metadata": {
        "id": "Dqn4dFx7Z2Ir"
      },
      "source": [
        "\n",
        "Rastrigin: 2D\n"
      ]
    },
    {
      "cell_type": "code",
      "execution_count": 1,
      "metadata": {
        "colab": {
          "base_uri": "https://localhost:8080/"
        },
        "id": "MJTM_GZZZb5x",
        "outputId": "4fdc38fb-0b3e-41bd-d19b-6ca12c8e1a06"
      },
      "outputs": [
        {
          "output_type": "stream",
          "name": "stdout",
          "text": [
            "Looking in indexes: https://pypi.org/simple, https://us-python.pkg.dev/colab-wheels/public/simple/\n",
            "Collecting pyGPGO\n",
            "  Downloading pyGPGO-0.5.1.tar.gz (14 kB)\n",
            "Requirement already satisfied: numpy in /usr/local/lib/python3.7/dist-packages (from pyGPGO) (1.21.6)\n",
            "Requirement already satisfied: mkl in /usr/local/lib/python3.7/dist-packages (from pyGPGO) (2019.0)\n",
            "Requirement already satisfied: scipy in /usr/local/lib/python3.7/dist-packages (from pyGPGO) (1.7.3)\n",
            "Requirement already satisfied: joblib in /usr/local/lib/python3.7/dist-packages (from pyGPGO) (1.1.0)\n",
            "Requirement already satisfied: scikit-learn in /usr/local/lib/python3.7/dist-packages (from pyGPGO) (1.0.2)\n",
            "Requirement already satisfied: Theano-PyMC in /usr/local/lib/python3.7/dist-packages (from pyGPGO) (1.1.2)\n",
            "Requirement already satisfied: pyMC3 in /usr/local/lib/python3.7/dist-packages (from pyGPGO) (3.11.5)\n",
            "Requirement already satisfied: intel-openmp in /usr/local/lib/python3.7/dist-packages (from mkl->pyGPGO) (2022.1.0)\n",
            "Requirement already satisfied: patsy>=0.5.1 in /usr/local/lib/python3.7/dist-packages (from pyMC3->pyGPGO) (0.5.2)\n",
            "Requirement already satisfied: dill in /usr/local/lib/python3.7/dist-packages (from pyMC3->pyGPGO) (0.3.5.1)\n",
            "Requirement already satisfied: semver>=2.13.0 in /usr/local/lib/python3.7/dist-packages (from pyMC3->pyGPGO) (2.13.0)\n",
            "Requirement already satisfied: pandas>=0.24.0 in /usr/local/lib/python3.7/dist-packages (from pyMC3->pyGPGO) (1.3.5)\n",
            "Requirement already satisfied: fastprogress>=0.2.0 in /usr/local/lib/python3.7/dist-packages (from pyMC3->pyGPGO) (1.0.3)\n",
            "Requirement already satisfied: cachetools>=4.2.1 in /usr/local/lib/python3.7/dist-packages (from pyMC3->pyGPGO) (4.2.4)\n",
            "Requirement already satisfied: typing-extensions>=3.7.4 in /usr/local/lib/python3.7/dist-packages (from pyMC3->pyGPGO) (4.1.1)\n",
            "Requirement already satisfied: deprecat in /usr/local/lib/python3.7/dist-packages (from pyMC3->pyGPGO) (2.1.1)\n",
            "Requirement already satisfied: arviz>=0.11.0 in /usr/local/lib/python3.7/dist-packages (from pyMC3->pyGPGO) (0.12.1)\n",
            "Requirement already satisfied: filelock in /usr/local/lib/python3.7/dist-packages (from Theano-PyMC->pyGPGO) (3.7.1)\n",
            "Requirement already satisfied: setuptools>=38.4 in /usr/local/lib/python3.7/dist-packages (from arviz>=0.11.0->pyMC3->pyGPGO) (57.4.0)\n",
            "Requirement already satisfied: packaging in /usr/local/lib/python3.7/dist-packages (from arviz>=0.11.0->pyMC3->pyGPGO) (21.3)\n",
            "Requirement already satisfied: xarray>=0.16.1 in /usr/local/lib/python3.7/dist-packages (from arviz>=0.11.0->pyMC3->pyGPGO) (0.20.2)\n",
            "Requirement already satisfied: xarray-einstats>=0.2 in /usr/local/lib/python3.7/dist-packages (from arviz>=0.11.0->pyMC3->pyGPGO) (0.2.2)\n",
            "Requirement already satisfied: netcdf4 in /usr/local/lib/python3.7/dist-packages (from arviz>=0.11.0->pyMC3->pyGPGO) (1.6.0)\n",
            "Requirement already satisfied: matplotlib>=3.0 in /usr/local/lib/python3.7/dist-packages (from arviz>=0.11.0->pyMC3->pyGPGO) (3.2.2)\n",
            "Requirement already satisfied: kiwisolver>=1.0.1 in /usr/local/lib/python3.7/dist-packages (from matplotlib>=3.0->arviz>=0.11.0->pyMC3->pyGPGO) (1.4.4)\n",
            "Requirement already satisfied: cycler>=0.10 in /usr/local/lib/python3.7/dist-packages (from matplotlib>=3.0->arviz>=0.11.0->pyMC3->pyGPGO) (0.11.0)\n",
            "Requirement already satisfied: python-dateutil>=2.1 in /usr/local/lib/python3.7/dist-packages (from matplotlib>=3.0->arviz>=0.11.0->pyMC3->pyGPGO) (2.8.2)\n",
            "Requirement already satisfied: pyparsing!=2.0.4,!=2.1.2,!=2.1.6,>=2.0.1 in /usr/local/lib/python3.7/dist-packages (from matplotlib>=3.0->arviz>=0.11.0->pyMC3->pyGPGO) (3.0.9)\n",
            "Requirement already satisfied: pytz>=2017.3 in /usr/local/lib/python3.7/dist-packages (from pandas>=0.24.0->pyMC3->pyGPGO) (2022.1)\n",
            "Requirement already satisfied: six in /usr/local/lib/python3.7/dist-packages (from patsy>=0.5.1->pyMC3->pyGPGO) (1.15.0)\n",
            "Requirement already satisfied: importlib-metadata in /usr/local/lib/python3.7/dist-packages (from xarray>=0.16.1->arviz>=0.11.0->pyMC3->pyGPGO) (4.12.0)\n",
            "Requirement already satisfied: wrapt<2,>=1.10 in /usr/local/lib/python3.7/dist-packages (from deprecat->pyMC3->pyGPGO) (1.14.1)\n",
            "Requirement already satisfied: zipp>=0.5 in /usr/local/lib/python3.7/dist-packages (from importlib-metadata->xarray>=0.16.1->arviz>=0.11.0->pyMC3->pyGPGO) (3.8.1)\n",
            "Requirement already satisfied: cftime in /usr/local/lib/python3.7/dist-packages (from netcdf4->arviz>=0.11.0->pyMC3->pyGPGO) (1.6.1)\n",
            "Requirement already satisfied: threadpoolctl>=2.0.0 in /usr/local/lib/python3.7/dist-packages (from scikit-learn->pyGPGO) (3.1.0)\n",
            "Building wheels for collected packages: pyGPGO\n",
            "  Building wheel for pyGPGO (setup.py) ... \u001b[?25l\u001b[?25hdone\n",
            "  Created wheel for pyGPGO: filename=pyGPGO-0.5.1-py3-none-any.whl size=19879 sha256=63ace92e0ca8272161b88dfe3f27323b1f507d690d9cb2f26428036b67ce6ad3\n",
            "  Stored in directory: /root/.cache/pip/wheels/c8/5d/0b/2160114e2f1b87791c51b66cf07f89831dbb6f49167950316f\n",
            "Successfully built pyGPGO\n",
            "Installing collected packages: pyGPGO\n",
            "Successfully installed pyGPGO-0.5.1\n"
          ]
        }
      ],
      "source": [
        "pip install pyGPGO\n"
      ]
    },
    {
      "cell_type": "code",
      "execution_count": 2,
      "metadata": {
        "id": "ZJSSPbwPaEUB"
      },
      "outputs": [],
      "source": [
        "### Import:\n",
        "\n",
        "import numpy as np\n",
        "import scipy as sp\n",
        "import pandas as pd\n",
        "import matplotlib.pyplot as plt\n",
        "import warnings\n",
        "import itertools\n",
        "\n",
        "from pyGPGO.GPGO import GPGO\n",
        "from pyGPGO.surrogates.GaussianProcess import GaussianProcess\n",
        "from pyGPGO.acquisition import Acquisition\n",
        "from pyGPGO.covfunc import squaredExponential\n",
        "\n",
        "from joblib import Parallel, delayed\n",
        "from numpy.linalg import solve, cholesky\n",
        "from scipy.spatial.distance import cdist\n",
        "from scipy.optimize import minimize\n",
        "from scipy.stats import norm\n",
        "import time\n",
        "\n",
        "warnings.filterwarnings(\"ignore\", category=RuntimeWarning)\n"
      ]
    },
    {
      "cell_type": "code",
      "execution_count": 3,
      "metadata": {
        "id": "OeYcTUNoaJWa"
      },
      "outputs": [],
      "source": [
        "### Inputs:\n",
        "\n",
        "func = 'Rastrigin'\n",
        "n_test = 500\n",
        "eps = 1e-08\n",
        "\n",
        "util = 'EI'\n",
        "\n",
        "n_init = 5 # random initialisations\n",
        "iters = 20\n",
        "opt = True"
      ]
    },
    {
      "cell_type": "code",
      "execution_count": 4,
      "metadata": {
        "id": "xpaEOjdzaPMS"
      },
      "outputs": [],
      "source": [
        "### Objective Function - Rastrigin(x) 2-D:\n",
        "\n",
        "def objfunc(x1_training, x2_training):\n",
        "        return  operator * (10 * dim + x1_training** 2 - 10 * np.cos(2 * np.pi * x1_training)\n",
        "                                    + x2_training** 2 - 10 * np.cos(2 * np.pi * x2_training)\n",
        "                          )\n",
        "            \n",
        "# Constraints:\n",
        "lb = -5.12 \n",
        "ub = +5.12\n",
        "    \n",
        "# Input array dimension(s):\n",
        "dim = 2\n",
        "\n",
        "# 2-D inputs' parameter bounds:\n",
        "param = {'x1_training': ('cont', [lb, ub]),\n",
        "             'x2_training': ('cont', [lb, ub])}\n",
        "\n",
        "# True y bounds:\n",
        "operator = -1\n",
        "y_global_orig = 0 # targets global minimum\n",
        "\n",
        "# Test data:\n",
        "x1_test = np.linspace(lb, ub, n_test) \n",
        "x2_test = np.linspace(lb, ub, n_test)\n",
        "  \n",
        "x_test = np.column_stack((x1_test,x2_test))\n"
      ]
    },
    {
      "cell_type": "code",
      "execution_count": 5,
      "metadata": {
        "id": "eYpI3Zm4aGxi"
      },
      "outputs": [],
      "source": [
        "n_start_AcqFunc = iters\n",
        "inverse = -1\n"
      ]
    },
    {
      "cell_type": "code",
      "execution_count": 6,
      "metadata": {
        "id": "oO_GUmOoaV0T"
      },
      "outputs": [],
      "source": [
        "### Cumulative Regret Calculators:\n",
        "\n",
        "def min_max_array(x):\n",
        "    new_list = []\n",
        "    for i, num in enumerate(x):\n",
        "            new_list.append(np.min(x[0:i+1]))\n",
        "    return new_list\n",
        "  \n",
        "def acqFuncExact(x):\n",
        "    new_array = []\n",
        "    x = np.array(x) \n",
        "    for i, num in enumerate(x):\n",
        "            new_array = x[:-2][::-3]\n",
        "    return new_array[::-1]\n",
        "\n",
        "def acqFuncApprox(x):\n",
        "    new_array = []\n",
        "    x = np.array(x) \n",
        "    for i, num in enumerate(x):\n",
        "            new_array = x[:-1][::-3]\n",
        "    return new_array[::-1]\n"
      ]
    },
    {
      "cell_type": "code",
      "execution_count": 7,
      "metadata": {
        "id": "kuuJx0IMam9S"
      },
      "outputs": [],
      "source": [
        "### Surrogate derivatives: \n",
        "\n",
        "cov_func = squaredExponential()\n",
        "\n",
        "def kronDelta(X, Xstar):                     # Kronecker's Delta method\n",
        "    return cdist(X, Xstar) < np.finfo(np.float32).eps\n",
        "\n",
        "def se(X, Xstar, sigmaf, l, sigman):         # S.E. kernel method\n",
        "    return sigmaf * np.exp(-0.5 * cdist(X, Xstar) ** 2 / l ** 2) + sigman * kronDelta(X, Xstar)\n",
        "\n",
        "def delta(X, Xstar):                         # Distance between training X and test Xstar vectors\n",
        "    return (X - Xstar)\n",
        "   \n",
        "def der_covmat(X, Xstar, sigmaf, l, sigman): # Covariance matrix derivative terms (i.e. exact, first-order)\n",
        "    nx = len(X)\n",
        "    ny = len(Xstar)\n",
        "    return np.round(np.array([(delta(np.atleast_2d(i), np.atleast_2d(j))[0] * se(np.atleast_2d(i), np.atleast_2d(j), sigmaf, l, sigman)[0]).sum() for (i, j) in itertools.product(X, Xstar)]).reshape(nx, ny), 8)\n",
        "\n",
        "class dGaussianProcess(GaussianProcess):    # Via inheritance, also optimises hyperparameters when opt = TRUE\n",
        "    \n",
        "    def AcqGrad(self, Xstar):               # Method returning exact, first-order derivatives of the GP's posterior mean and standard deviation\n",
        "        Xstar = np.atleast_2d(Xstar)\n",
        "        Kstar = self.covfunc.K(self.X, Xstar).T\n",
        "        \n",
        "        dKstar = der_covmat(self.X, Xstar, self.covfunc.sigmaf, self.covfunc.l, self.covfunc.sigman).T\n",
        "        alpha_Kstar = np.dot(np.linalg.inv(self.K + (self.covfunc.sigman**2) * np.eye(len(self.X))), Kstar.T)\n",
        "        \n",
        "        dm = np.dot(dKstar, self.alpha)\n",
        "        ds = -2 * np.dot(dKstar, alpha_Kstar)\n",
        "        \n",
        "        return dm, ds           \n"
      ]
    },
    {
      "cell_type": "code",
      "execution_count": 8,
      "metadata": {
        "id": "_Dc3YVHVaXz7"
      },
      "outputs": [],
      "source": [
        "### Add exact acquisition function gradient as attribute:\n",
        "\n",
        "class Acquisition_grad(Acquisition):    \n",
        "    def __init__(self, mode, eps=eps, **params):\n",
        "        \n",
        "        self.params = params\n",
        "        self.eps = eps\n",
        "\n",
        "        mode_dict = {\n",
        "            'EI': self.EI\n",
        "        }\n",
        "\n",
        "        self.f = mode_dict[mode]\n",
        "    \n",
        "    def EI(self, tau, mean, std, ds, dm):\n",
        "        gamma = (mean - tau - self.eps) / (std + self.eps)\n",
        "        gamma_h = (mean - tau) / (std + self.eps)\n",
        "        dsdx = ds / (2 * (std + self.eps))\n",
        "        dmdx = (dm - gamma * dsdx) / (std + self.eps)\n",
        "        \n",
        "        f = (std + self.eps) * (gamma * norm.cdf(gamma) + norm.pdf(gamma))\n",
        "        df1 = f / (std + self.eps) * dsdx \n",
        "        df2 = (std + self.eps) * norm.cdf(gamma) * dmdx\n",
        "        df = (df1 + df2)[0]\n",
        "        df_arr = []\n",
        "\n",
        "        for j in range(0, dim):\n",
        "          df_arr.append(df)\n",
        "        return f, np.asarray(df_arr).transpose()\n",
        "        \n",
        "    def d_eval(self, tau, mean, std, ds, dm):\n",
        "    \n",
        "        return self.f(tau, mean, std, ds, dm, **self.params)\n",
        "        "
      ]
    },
    {
      "cell_type": "code",
      "execution_count": 9,
      "metadata": {
        "id": "PITEQC8YSl7i"
      },
      "outputs": [],
      "source": [
        "## GPGO_multi: \n",
        "\n",
        "class GPGO_multi(GPGO):\n",
        "    n_start = n_start_AcqFunc\n",
        "\n",
        "    def __init__(self, surrogate, acquisition, f, parameter_dict, n_jobs=1):\n",
        "        self.GP = surrogate\n",
        "        self.A = acquisition\n",
        "        self.f = f\n",
        "        self.parameters = parameter_dict\n",
        "        self.n_jobs = n_jobs\n",
        "\n",
        "        self.parameter_key = list(parameter_dict.keys())\n",
        "        self.parameter_value = list(parameter_dict.values())\n",
        "        self.parameter_type = [p[0] for p in self.parameter_value]\n",
        "        self.parameter_range = [p[1] for p in self.parameter_value]\n",
        "\n",
        "        self.history = []\n",
        "        self.header =   'Evaluation \\t Proposed point \\t  Current eval. \\t  Best eval. \\t        Exact EI: StdDev. x \\t Approx EI: StdDev. x '\n",
        "        self.template = '{:3}\\t {}\\t {:3}\\t {:3}\\t {:3}\\t {:3}'\n",
        " \n",
        "    def acqfuncExact(self, xnew, n_start=n_start_AcqFunc):\n",
        "        new_mean, new_var = self.GP.predict(xnew, return_std=True)\n",
        "        new_std = np.sqrt(new_var + eps)\n",
        "        dm, ds = self.GP.AcqGrad(xnew)\n",
        "        f, df = self.A.d_eval(self.tau, new_mean, new_std, ds=ds, dm=dm)\n",
        "\n",
        "        return -f, -df\n",
        "   \n",
        "    def acqfuncApprox(self, xnew, n_start=n_start_AcqFunc):\n",
        "        new_mean, new_var = self.GP.predict(xnew, return_std=True)\n",
        "        new_std = np.sqrt(new_var + eps)\n",
        "        dm, ds = self.GP.AcqGrad(xnew)\n",
        "        f, df = self.A.d_eval(self.tau, new_mean, new_std, ds=ds, dm=dm)\n",
        "\n",
        "        return -f\n",
        "   \n",
        "    def _optimizeAcq(self, method='L-BFGS-B', n_start=n_start_AcqFunc):\n",
        "        \n",
        "        start_points_dict = [self._sampleParam() for i in range(n_start)]\n",
        "        start_points_arr = np.array([list(s.values())\n",
        "                                     for s in start_points_dict])\n",
        "        x_best = np.empty((n_start, len(self.parameter_key)))\n",
        "        f_best = np.empty((n_start,))\n",
        "        opt = Parallel(n_jobs=self.n_jobs)(delayed(minimize)(self.acqfuncApprox,\n",
        "                                                                 x0=start_point,\n",
        "                                                                 method=method,\n",
        "                                                                 jac = False,\n",
        "                                                                 bounds=self.parameter_range) for start_point in\n",
        "                                               start_points_arr)\n",
        "        x_best = np.array([res.x for res in opt])\n",
        "        f_best = np.array([np.atleast_1d(res.fun)[0] for res in opt])\n",
        "        f_best_min = min(f_best)\n",
        "\n",
        "        self.x_best = x_best\n",
        "        self.f_best = f_best\n",
        "        self.f_best_min = f_best_min\n",
        "        self.x_best_std = np.std(x_best)\n",
        "        self.best = x_best[np.argmin(f_best)]\n",
        "        self.start_points_arr = start_points_arr        \n",
        "        self.history.append(self.x_best_std)\n",
        "\n",
        "        x_best_exact = np.empty((n_start, len(self.parameter_key)))\n",
        "        f_best_exact = np.empty((n_start,))\n",
        "        opt_exact = Parallel(n_jobs=self.n_jobs)(delayed(minimize)(self.acqfuncExact,\n",
        "                                                                 x0=start_point,\n",
        "                                                                 method=method,\n",
        "                                                                 jac = True,\n",
        "                                                                 bounds=self.parameter_range) for start_point in\n",
        "                                               start_points_arr)\n",
        "        x_best_exact = np.array([res.x for res in opt_exact])\n",
        "        f_best_exact = np.array([np.atleast_1d(res.fun)[0] for res in opt_exact])\n",
        "        f_best_min_exact = min(f_best_exact)\n",
        "\n",
        "        self.x_best_exact = x_best_exact\n",
        "        self.f_best_exact = f_best_exact\n",
        "        self.f_best_min_exact = f_best_min_exact\n",
        "        self.x_best_std_exact = np.std(x_best_exact)\n",
        "        self.best_exact = x_best_exact[np.argmin(f_best_exact)]\n",
        "        self.start_points_arr = start_points_arr\n",
        "        self.history.append(self.x_best_std_exact)\n",
        "\n",
        "    def _printInit(self):\n",
        "        print(self.header)\n",
        "        for init_eval in range(self.init_evals):\n",
        "            print(self.template.format('init', self.GP.X[init_eval], inverse * self.GP.y[init_eval], inverse * self.tau, '', ''))\n",
        "      \n",
        "    def _printCurrent(self):\n",
        "        OKGREEN = '\\033[92m'\n",
        "        ENDC = '\\033[0m'\n",
        "        BOLD = '\\033[1m'\n",
        "        eval = str(len(self.GP.y) - self.init_evals)\n",
        "        proposed = str(self.best)\n",
        "        curr_eval = str(inverse * self.GP.y[-1])\n",
        "        curr_best = str(inverse * self.tau)\n",
        "        min_acqfunc = str(self.f_best_min)\n",
        "        min_acqfunc_exact = str(self.f_best_min_exact)\n",
        "        x_best_std = str(self.x_best_std)\n",
        "        x_best_std_exact = str(self.x_best_std_exact)\n",
        "        if float(curr_eval) <= float(curr_best):\n",
        "            eval = BOLD + OKGREEN + eval + ENDC\n",
        "            proposed = BOLD + OKGREEN + proposed + ENDC\n",
        "            curr_eval = BOLD + OKGREEN + curr_eval + ENDC\n",
        "            curr_best = BOLD + OKGREEN + curr_best + ENDC\n",
        "            x_best_std = BOLD + OKGREEN + x_best_std + ENDC\n",
        "            x_best_std_exact = BOLD + OKGREEN + x_best_std_exact + ENDC\n",
        "        print(self.template.format(eval, proposed, curr_eval, curr_best, x_best_std_exact, x_best_std))\n",
        "        \n",
        "    def run(self, max_iter=10, init_evals=3, resume=False):\n",
        "        \n",
        "        if not resume:\n",
        "            self.init_evals = init_evals\n",
        "            self._firstRun(self.init_evals)\n",
        "            self._printInit()\n",
        "        for iteration in range(max_iter):\n",
        "            self._optimizeAcq()\n",
        "            self.updateGP()\n",
        "            self._printCurrent()\n"
      ]
    },
    {
      "cell_type": "code",
      "execution_count": 10,
      "metadata": {
        "id": "b_B-w81BJxKN"
      },
      "outputs": [],
      "source": [
        "## dGPGO:\n",
        "\n",
        "class dGPGO(GPGO):\n",
        "    n_start = n_start_AcqFunc\n",
        "\n",
        "    def __init__(self, surrogate, acquisition, f, parameter_dict, n_jobs=1):\n",
        "        self.GP = surrogate\n",
        "        self.A = acquisition\n",
        "        self.f = f\n",
        "        self.parameters = parameter_dict\n",
        "        self.n_jobs = n_jobs\n",
        "\n",
        "        self.parameter_key = list(parameter_dict.keys())\n",
        "        self.parameter_value = list(parameter_dict.values())\n",
        "        self.parameter_type = [p[0] for p in self.parameter_value]\n",
        "        self.parameter_range = [p[1] for p in self.parameter_value]\n",
        "\n",
        "        self.history = []\n",
        "        self.header =   'Evaluation \\t Proposed point \\t  Current eval. \\t  Best eval. \\t        Exact EI: StdDev. x \\t Approx EI: StdDev. x '\n",
        "        self.template = '{:3}\\t {}\\t {:3}\\t {:3}\\t {:3}\\t {:3}'\n",
        "\n",
        "    def acqfuncExact(self, xnew, n_start=n_start_AcqFunc):\n",
        "        new_mean, new_var = self.GP.predict(xnew, return_std=True)\n",
        "        new_std = np.sqrt(new_var + eps)\n",
        "        dm, ds = self.GP.AcqGrad(xnew)\n",
        "        f, df = self.A.d_eval(self.tau, new_mean, new_std, ds=ds, dm=dm)\n",
        "\n",
        "        return -f, -df\n",
        "   \n",
        "    def acqfuncApprox(self, xnew, n_start=n_start_AcqFunc):\n",
        "        new_mean, new_var = self.GP.predict(xnew, return_std=True)\n",
        "        new_std = np.sqrt(new_var + eps)\n",
        "        dm, ds = self.GP.AcqGrad(xnew)\n",
        "        f, df = self.A.d_eval(self.tau, new_mean, new_std, ds=ds, dm=dm)\n",
        "\n",
        "        return -f\n",
        "\n",
        "    def d_optimizeAcq(self, method='L-BFGS-B', n_start=n_start_AcqFunc):\n",
        "        start_points_dict = [self._sampleParam() for i in range(n_start)]\n",
        "        start_points_arr = np.array([list(s.values())\n",
        "                                     for s in start_points_dict])\n",
        "        x_best = np.empty((n_start, len(self.parameter_key)))\n",
        "        f_best = np.empty((n_start,))\n",
        "        opt = Parallel(n_jobs=self.n_jobs)(delayed(minimize)(self.acqfuncExact,\n",
        "                                                                 x0=start_point,\n",
        "                                                                 method=method,\n",
        "                                                                 jac = True,\n",
        "                                                                 bounds=self.parameter_range) for start_point in\n",
        "                                               start_points_arr)\n",
        "        x_best = np.array([res.x for res in opt])\n",
        "        f_best = np.array([np.atleast_1d(res.fun)[0] for res in opt])\n",
        "        f_best_min = min(f_best)\n",
        "\n",
        "        self.x_best = x_best\n",
        "        self.f_best = f_best\n",
        "        self.f_best_min = f_best_min\n",
        "        self.x_best_std = np.std(x_best)\n",
        "        self.best = x_best[np.argmin(f_best)]\n",
        "        self.start_points_arr = start_points_arr\n",
        "        self.history.append(self.x_best_std)\n",
        "\n",
        "        x_best_approx = np.empty((n_start, len(self.parameter_key)))\n",
        "        f_best_approx = np.empty((n_start,))\n",
        "        opt_approx = Parallel(n_jobs=self.n_jobs)(delayed(minimize)(self.acqfuncApprox,\n",
        "                                                                 x0=start_point,\n",
        "                                                                 method=method,\n",
        "                                                                 jac = False,\n",
        "                                                                 bounds=self.parameter_range) for start_point in\n",
        "                                               start_points_arr)\n",
        "        x_best_approx = np.array([res.x for res in opt_approx])\n",
        "        f_best_approx = np.array([np.atleast_1d(res.fun)[0] for res in opt_approx])\n",
        "        f_best_min_approx = min(f_best_approx)\n",
        "\n",
        "        self.x_best_approx = x_best_approx\n",
        "        self.f_best_approx = f_best_approx\n",
        "        self.f_best_min_approx = f_best_min_approx\n",
        "        self.x_best_std_approx = np.std(x_best_approx)\n",
        "        self.best_approx = x_best_approx[np.argmin(f_best_approx)]\n",
        "        self.start_points_arr = start_points_arr\n",
        "        self.history.append(self.x_best_std_approx)\n",
        "    \n",
        "    def _printInit(self):\n",
        "        print(self.header)\n",
        "        for init_eval in range(self.init_evals):\n",
        "            print(self.template.format('init', self.GP.X[init_eval], inverse * self.GP.y[init_eval], inverse * self.tau, '', ''))\n",
        "      \n",
        "    def _printCurrent(self):\n",
        "        OKGREEN = '\\033[92m'\n",
        "        ENDC = '\\033[0m'\n",
        "        BOLD = '\\033[1m'\n",
        "        eval = str(len(self.GP.y) - self.init_evals)\n",
        "        proposed = str(self.best)\n",
        "        curr_eval = str(inverse * self.GP.y[-1])\n",
        "        curr_best = str(inverse * self.tau)\n",
        "        min_acqfunc = str(self.f_best_min)\n",
        "        min_acqfunc_approx = str(self.f_best_min_approx)\n",
        "        x_best_std = str(self.x_best_std)\n",
        "        x_best_std_approx = str(self.x_best_std_approx)\n",
        "        if float(curr_eval) <= float(curr_best):\n",
        "            eval = BOLD + OKGREEN + eval + ENDC\n",
        "            proposed = BOLD + OKGREEN + proposed + ENDC\n",
        "            curr_eval = BOLD + OKGREEN + curr_eval + ENDC\n",
        "            curr_best = BOLD + OKGREEN + curr_best + ENDC\n",
        "            x_best_std = BOLD + OKGREEN + x_best_std + ENDC\n",
        "            x_best_std_approx = BOLD + OKGREEN + x_best_std_approx + ENDC\n",
        "        print(self.template.format(eval, proposed, curr_eval, curr_best, x_best_std, x_best_std_approx))\n",
        "\n",
        "    def run(self, max_iter=10, init_evals=3, resume=False):\n",
        "        \n",
        "        if not resume:\n",
        "            self.init_evals = init_evals\n",
        "            self._firstRun(self.init_evals)\n",
        "            self._printInit()\n",
        "        for iteration in range(max_iter):\n",
        "            self.d_optimizeAcq()\n",
        "            self.updateGP()\n",
        "            self._printCurrent()\n"
      ]
    },
    {
      "cell_type": "code",
      "execution_count": 11,
      "metadata": {
        "id": "qXIKGuXVGEg2"
      },
      "outputs": [],
      "source": [
        "###Reproducible set-seeds:\n",
        "\n",
        "run_num_1 = 1\n",
        "run_num_2 = 2\n",
        "run_num_3 = 3\n",
        "run_num_4 = 4\n",
        "run_num_5 = 5\n",
        "run_num_6 = 6\n",
        "run_num_7 = 7\n",
        "run_num_8 = 8\n",
        "run_num_9 = 9\n",
        "run_num_10 = 10\n",
        "run_num_11 = 11\n",
        "run_num_12 = 12\n",
        "run_num_13 = 13\n",
        "run_num_14 = 14\n",
        "run_num_15 = 15\n",
        "run_num_16 = 16\n",
        "run_num_17 = 17\n",
        "run_num_18 = 18\n",
        "run_num_19 = 19\n",
        "run_num_20 = 20\n"
      ]
    },
    {
      "cell_type": "code",
      "execution_count": 12,
      "metadata": {
        "colab": {
          "base_uri": "https://localhost:8080/"
        },
        "id": "JEhagQmnTVIK",
        "outputId": "beddccbc-ced5-434b-8e83-a76de94c9696"
      },
      "outputs": [
        {
          "output_type": "execute_result",
          "data": {
            "text/plain": [
              "1659612707.6588752"
            ]
          },
          "metadata": {},
          "execution_count": 12
        }
      ],
      "source": [
        "start_approx = time.time()\n",
        "start_approx\n"
      ]
    },
    {
      "cell_type": "code",
      "execution_count": 13,
      "metadata": {
        "colab": {
          "base_uri": "https://localhost:8080/"
        },
        "id": "aH0YSTXufD1v",
        "outputId": "01c4bda4-8069-478f-cf0b-84982b1d988d"
      },
      "outputs": [
        {
          "output_type": "stream",
          "name": "stdout",
          "text": [
            "Evaluation \t Proposed point \t  Current eval. \t  Best eval. \t        Exact EI: StdDev. x \t Approx EI: StdDev. x \n",
            "init\t [-0.84969467  2.25612281]\t 20.33436270766351\t 19.908403246996286\t    \t    \n",
            "init\t [-5.1188288  -2.02411446]\t 33.07414982069084\t 19.908403246996286\t    \t    \n",
            "init\t [-3.61721968 -4.17445279]\t 53.347974723929894\t 19.908403246996286\t    \t    \n",
            "init\t [-3.21269544 -1.58145816]\t 39.218472310354045\t 19.908403246996286\t    \t    \n",
            "init\t [-1.05710106  0.39748336]\t 19.908403246996286\t 19.908403246996286\t    \t    \n",
            "1  \t [ 5.12 -5.12]\t 57.849427451571785\t 19.908403246996286\t 3.968766121081266\t 4.417340655432655\n",
            "2  \t [4.60721335 5.12      ]\t 67.96668100470607\t 19.908403246996286\t 3.256355576282964\t 3.6852185437388867\n",
            "3  \t [-5.12  5.12]\t 57.849427451571785\t 19.908403246996286\t 3.5241995829505552\t 4.052328332941954\n",
            "4  \t [ 4.13946627 -0.05871948]\t 21.41150362481602\t 19.908403246996286\t 3.4014039651607453\t 3.6089497610818535\n",
            "5  \t [ 0.90023157 -3.68903381]\t 30.05829511815247\t 19.908403246996286\t 2.9150991916169913\t 3.054051194714627\n",
            "6  \t [0.72642643 5.12      ]\t 40.92817052480629\t 19.908403246996286\t 2.4104751159377455\t 3.3154241229502466\n",
            "7  \t [-5.12        1.53252349]\t 51.0652706292773\t 19.908403246996286\t 3.4145377509663115\t 3.7042571087933878\n",
            "8  \t [2.30640321 2.21296087]\t 31.38060502874938\t 19.908403246996286\t 3.364260707303372\t 3.546440114733257\n",
            "9  \t [ 1.42595283 -0.86724357]\t 25.00433839094279\t 19.908403246996286\t 3.0028709021764324\t 3.718149117784285\n",
            "10 \t [-2.14588398  5.12      ]\t 37.44444228528431\t 19.908403246996286\t 3.510878546117113\t 3.797400567959835\n",
            "11 \t [ 5.12       -2.23991046]\t 43.3083926934808\t 19.908403246996286\t 2.754216831931621\t 3.415130364456514\n",
            "12 \t [5.12       2.16931005]\t 38.775139674044475\t 19.908403246996286\t 3.0341795143176222\t 3.26459598461861\n",
            "13 \t [-1.04360781 -5.12      ]\t 30.386857326005895\t 19.908403246996286\t 2.5810819501823357\t 2.492495202668863\n",
            "14 \t [ 2.494707 -5.12    ]\t 55.14274713582971\t 19.908403246996286\t 2.818327454005057\t 2.848962086452729\n",
            "\u001b[1m\u001b[92m15\u001b[0m\t \u001b[1m\u001b[92m[-0.83006852 -2.1188027 ]\u001b[0m\t \u001b[1m\u001b[92m13.01605265733128\u001b[0m\t \u001b[1m\u001b[92m13.01605265733128\u001b[0m\t \u001b[1m\u001b[92m2.9862930667289964\u001b[0m\t \u001b[1m\u001b[92m2.839620828313862\u001b[0m\n",
            "16 \t [-2.91259722  2.68161057]\t 31.310678649007006\t 13.01605265733128\t 3.0780837586589658\t 3.0068499788349827\n",
            "17 \t [ 2.8263571  -2.40319452]\t 37.354435398169215\t 13.01605265733128\t 2.8005716110819385\t 2.340765153750608\n",
            "18 \t [-5.12 -5.12]\t 57.849427451571785\t 13.01605265733128\t 3.2441403263564865\t 2.979531953026194\n",
            "\u001b[1m\u001b[92m19\u001b[0m\t \u001b[1m\u001b[92m[0.73001212 0.96651685]\u001b[0m\t \u001b[1m\u001b[92m12.940134959973665\u001b[0m\t \u001b[1m\u001b[92m12.940134959973665\u001b[0m\t \u001b[1m\u001b[92m3.1892410171584067\u001b[0m\t \u001b[1m\u001b[92m2.877570105484915\u001b[0m\n",
            "20 \t [-2.87362544  0.49069107]\t 31.471665587309957\t 12.940134959973665\t 2.7163052920815263\t 3.033551128513578\n"
          ]
        }
      ],
      "source": [
        "### ESTIMATED GP EI GRADIENTS\n",
        "\n",
        "np.random.seed(run_num_1)\n",
        "surrogate_approx_1 = dGaussianProcess(cov_func, optimize=opt)\n",
        "\n",
        "approx_1 = GPGO_multi(surrogate_approx_1, Acquisition_grad(util), objfunc, param)\n",
        "approx_1.run(init_evals=n_init, max_iter=iters)\n"
      ]
    },
    {
      "cell_type": "code",
      "execution_count": 14,
      "metadata": {
        "id": "wTxsSZxFGBB5",
        "colab": {
          "base_uri": "https://localhost:8080/"
        },
        "outputId": "954efb11-c9b2-4310-a2e0-32eccf889810"
      },
      "outputs": [
        {
          "output_type": "stream",
          "name": "stdout",
          "text": [
            "Evaluation \t Proposed point \t  Current eval. \t  Best eval. \t        Exact EI: StdDev. x \t Approx EI: StdDev. x \n",
            "init\t [-0.6554122  -4.85451539]\t 43.490296251903594\t 18.964539418712707\t    \t    \n",
            "init\t [ 0.50854377 -0.6622987 ]\t 35.91861667536101\t 18.964539418712707\t    \t    \n",
            "init\t [-0.81543371 -1.73737143]\t 20.479562046739524\t 18.964539418712707\t    \t    \n",
            "init\t [-3.02439799  1.2213347 ]\t 18.964539418712707\t 18.964539418712707\t    \t    \n",
            "init\t [-2.05153614 -2.3876887 ]\t 28.041315668371354\t 18.964539418712707\t    \t    \n",
            "1  \t [2.38617166 4.77152771]\t 54.66237788059252\t 18.964539418712707\t 4.107772070305577\t 4.484837821956213\n",
            "2  \t [ 5.12 -5.12]\t 57.849427451571785\t 18.964539418712707\t 3.9258563063573106\t 4.542952711538741\n",
            "3  \t [5.12       0.47381735]\t 49.01420306112916\t 18.964539418712707\t 4.170634515092391\t 4.287882469831533\n",
            "4  \t [-5.12  5.12]\t 57.849427451571785\t 18.964539418712707\t 4.479963531104785\t 4.294394874744295\n",
            "5  \t [-5.12 -5.12]\t 57.849427451571785\t 18.964539418712707\t 4.450340304300784\t 4.165251023526366\n",
            "6  \t [-1.34695967  5.12      ]\t 46.4612574297726\t 18.964539418712707\t 3.5517500540721447\t 3.482176577958824\n",
            "7  \t [-5.12       -1.23369181]\t 39.42382754812533\t 18.964539418712707\t 3.425227468190807\t 3.1492931938958164\n",
            "8  \t [ 3.04989781 -2.53709653]\t 35.95577417221448\t 18.964539418712707\t 2.7943332343709155\t 2.827673516714267\n",
            "9  \t [0.1676417  2.29163449]\t 22.919078959122338\t 18.964539418712707\t 3.4375443980521663\t 3.238151737105901\n",
            "10 \t [5.12 5.12]\t 57.849427451571785\t 18.964539418712707\t 3.5851521993201194\t 3.43774944242709\n",
            "11 \t [-5.12        2.08792353]\t 34.77167140476227\t 18.964539418712707\t 2.7769385819057844\t 3.2279813925829495\n",
            "12 \t [ 2.09917288 -5.12      ]\t 35.210633071659984\t 18.964539418712707\t 2.36334154605916\t 2.854415507884804\n",
            "13 \t [2.63916373 1.66927901]\t 41.02350020767391\t 18.964539418712707\t 2.7311337772205686\t 2.9630366517927826\n",
            "14 \t [ 5.12       -2.19463846]\t 40.33240787062459\t 18.964539418712707\t 3.122948071388238\t 3.320412481333705\n",
            "15 \t [-2.70110909  3.16083817]\t 34.99697991488233\t 18.964539418712707\t 2.6769959413061324\t 3.065540655075218\n",
            "16 \t [5.12       2.77464907]\t 45.08082859596604\t 18.964539418712707\t 2.6799458523784594\t 2.6349040985422016\n",
            "17 \t [-1.68777525  0.28860968]\t 29.144924750493704\t 18.964539418712707\t 2.5183503326733625\t 2.5657284663604742\n",
            "18 \t [-2.80461094 -5.12      ]\t 43.42618751971757\t 18.964539418712707\t 2.8550790496944667\t 3.517482019426397\n",
            "\u001b[1m\u001b[92m19\u001b[0m\t \u001b[1m\u001b[92m[ 0.80436662 -2.99156206]\u001b[0m\t \u001b[1m\u001b[92m16.260590981835303\u001b[0m\t \u001b[1m\u001b[92m16.260590981835303\u001b[0m\t \u001b[1m\u001b[92m2.6578032812137615\u001b[0m\t \u001b[1m\u001b[92m3.0398592776277598\u001b[0m\n",
            "20 \t [ 2.74731942 -0.51027583]\t 37.95572719572181\t 16.260590981835303\t 3.0953012203984858\t 3.209788199942222\n"
          ]
        }
      ],
      "source": [
        "### ESTIMATED GP EI GRADIENTS\n",
        "\n",
        "np.random.seed(run_num_2)\n",
        "surrogate_approx_2 = dGaussianProcess(cov_func, optimize=opt)\n",
        "\n",
        "approx_2 = GPGO_multi(surrogate_approx_2, Acquisition_grad(util), objfunc, param)\n",
        "approx_2.run(init_evals=n_init, max_iter=iters)\n"
      ]
    },
    {
      "cell_type": "code",
      "execution_count": 15,
      "metadata": {
        "id": "-dgzIrUIGCGT",
        "colab": {
          "base_uri": "https://localhost:8080/"
        },
        "outputId": "4c0db9b6-991f-477c-99c0-a22a5a510e98"
      },
      "outputs": [
        {
          "output_type": "stream",
          "name": "stdout",
          "text": [
            "Evaluation \t Proposed point \t  Current eval. \t  Best eval. \t        Exact EI: StdDev. x \t Approx EI: StdDev. x \n",
            "init\t [0.52017052 2.1314337 ]\t 27.953858411008774\t 10.607662635789808\t    \t    \n",
            "init\t [-2.14113547  0.11087468]\t 10.607662635789808\t 10.607662635789808\t    \t    \n",
            "init\t [4.02377681 4.05804123]\t 33.42749829480097\t 10.607662635789808\t    \t    \n",
            "init\t [-3.83400642 -2.99783293]\t 28.650953928965198\t 10.607662635789808\t    \t    \n",
            "init\t [-4.59297584 -0.6061072 ]\t 57.6631355589384\t 10.607662635789808\t    \t    \n",
            "1  \t [ 5.12       -3.02919363]\t 38.26848757526031\t 10.607662635789808\t 2.6362148863994843\t 3.748253474268059\n",
            "2  \t [-5.12  5.12]\t 57.849427451571785\t 10.607662635789808\t 2.797856721486848\t 4.00103578665868\n",
            "3  \t [ 0.5961628 -5.12     ]\t 47.509642946385\t 10.607662635789808\t 3.274848274937741\t 3.832011728586591\n",
            "4  \t [ 1.61983752 -1.35910867]\t 38.09870921315859\t 10.607662635789808\t 3.6693379444295995\t 3.3920570412857876\n",
            "5  \t [-1.2386669  5.12     ]\t 39.74753161288041\t 10.607662635789808\t 3.5259978677102173\t 3.727238653991381\n",
            "6  \t [5.12      0.6465698]\t 45.39360441315899\t 10.607662635789808\t 3.869098029615839\t 3.6680098097491878\n",
            "7  \t [-3.188998    2.50505823]\t 42.70026624844219\t 10.607662635789808\t 3.570060081527368\t 3.81780500439091\n",
            "8  \t [-5.12 -5.12]\t 57.849427451571785\t 10.607662635789808\t 3.7662170453534602\t 3.597232031974842\n",
            "9  \t [-1.12783576 -2.43078994]\t 29.306082160008064\t 10.607662635789808\t 2.9963957051751624\t 2.9154608477550816\n",
            "10 \t [ 3.52413414 -5.12      ]\t 61.22948295485128\t 10.607662635789808\t 2.9664680225807776\t 3.648158605365124\n",
            "11 \t [1.57507914 5.12      ]\t 50.31339481461005\t 10.607662635789808\t 3.210840754699376\t 3.0003014963206978\n",
            "12 \t [-2.16928862 -5.12      ]\t 38.77386995798743\t 10.607662635789808\t 3.1309835973250637\t 2.5658105523156696\n",
            "13 \t [2.69649062 1.41576528]\t 41.2063610351372\t 10.607662635789808\t 3.2947008467242553\t 3.0394481935335413\n",
            "14 \t [-0.59574826  0.1205928 ]\t 21.34960860076819\t 10.607662635789808\t 2.8500128602983423\t 2.8936141865585974\n",
            "15 \t [-5.12        2.00560084]\t 32.95333990527016\t 10.607662635789808\t 3.2612941558309\t 3.0737250275809234\n",
            "16 \t [5.12 5.12]\t 57.849427451571785\t 10.607662635789808\t 2.896205458394809\t 3.1500491983861054\n",
            "17 \t [ 2.35177883 -3.11614415]\t 33.755747322552715\t 10.607662635789808\t 2.700212297323869\t 2.6874870033257765\n",
            "18 \t [ 3.89350715 -1.18145526]\t 24.536639176557003\t 10.607662635789808\t 2.890298084770656\t 3.0235705660082526\n",
            "19 \t [-1.09115086  2.81846794]\t 16.559562731129546\t 10.607662635789808\t 2.964655074178625\t 2.951875371388951\n",
            "20 \t [5.12       2.64390759]\t 52.09812136177007\t 10.607662635789808\t 2.6801778980478996\t 2.5206020579847643\n"
          ]
        }
      ],
      "source": [
        "### ESTIMATED GP EI GRADIENTS\n",
        "\n",
        "np.random.seed(run_num_3)\n",
        "surrogate_approx_3 = dGaussianProcess(cov_func, optimize=opt)\n",
        "\n",
        "approx_3 = GPGO_multi(surrogate_approx_3, Acquisition_grad(util), objfunc, param)\n",
        "approx_3.run(init_evals=n_init, max_iter=iters)\n"
      ]
    },
    {
      "cell_type": "code",
      "execution_count": 16,
      "metadata": {
        "id": "hOtG-2sCGCKS",
        "colab": {
          "base_uri": "https://localhost:8080/"
        },
        "outputId": "20b89b10-ab76-49bf-ce50-515ef788c9f8"
      },
      "outputs": [
        {
          "output_type": "stream",
          "name": "stdout",
          "text": [
            "Evaluation \t Proposed point \t  Current eval. \t  Best eval. \t        Exact EI: StdDev. x \t Approx EI: StdDev. x \n",
            "init\t [4.78238555 0.48365823]\t 51.03163809010808\t 14.323038259018315\t    \t    \n",
            "init\t [4.84028785 2.19971578]\t 39.78645699016559\t 14.323038259018315\t    \t    \n",
            "init\t [ 2.02474316 -2.90724357]\t 14.323038259018315\t 14.323038259018315\t    \t    \n",
            "init\t [ 4.87705042 -5.05620219]\t 52.80627247106233\t 14.323038259018315\t    \t    \n",
            "init\t [-2.52946061 -0.66773471]\t 41.61497868486559\t 14.323038259018315\t    \t    \n",
            "1  \t [-5.12  5.12]\t 57.849427451571785\t 14.323038259018315\t 3.1114428188171592\t 3.954252676181088\n",
            "2  \t [0.36056217 5.12      ]\t 45.45613498837177\t 14.323038259018315\t 3.644133851214939\t 3.7468620639156103\n",
            "3  \t [-5.12 -5.12]\t 57.849427451571785\t 14.323038259018315\t 3.93498734783827\t 3.849215857966759\n",
            "4  \t [-0.95955563 -5.12      ]\t 30.166610371082413\t 14.323038259018315\t 3.3252547545180575\t 3.471842926810062\n",
            "\u001b[1m\u001b[92m5\u001b[0m\t \u001b[1m\u001b[92m[0.85384491 1.14528037]\u001b[0m\t \u001b[1m\u001b[92m9.854013339971154\u001b[0m\t \u001b[1m\u001b[92m9.854013339971154\u001b[0m\t \u001b[1m\u001b[92m3.3305097549310103\u001b[0m\t \u001b[1m\u001b[92m3.30024561028234\u001b[0m\n",
            "6  \t [-5.12        1.50098193]\t 51.177470166852345\t 9.854013339971154\t 3.1937579414599555\t 3.0317921936829024\n",
            "7  \t [3.9143796 5.12     ]\t 45.65956945244747\t 9.854013339971154\t 3.1313894771370268\t 3.027756656873394\n",
            "8  \t [-1.97853044  2.82545139]\t 17.42344948233775\t 9.854013339971154\t 2.673518133690603\t 2.7732025065013604\n",
            "9  \t [ 0.31055985 -1.28096442]\t 27.384547873760006\t 9.854013339971154\t 2.4740290897928072\t 2.661054884449159\n",
            "10 \t [-5.12       -1.96192496]\t 33.058662080489185\t 9.854013339971154\t 3.0902167702562133\t 3.4006576120665564\n",
            "11 \t [ 5.12       -2.25318852]\t 44.20189945982961\t 9.854013339971154\t 3.535465046305255\t 3.7539248160359397\n",
            "12 \t [ 1.82467318 -5.12      ]\t 37.732547319837494\t 9.854013339971154\t 2.756481148416452\t 3.133184014198143\n",
            "13 \t [2.02588195 2.72620666]\t 23.15775430216855\t 9.854013339971154\t 2.7109146600770284\t 2.6285508021740696\n",
            "14 \t [-2.35556722  5.12      ]\t 50.63060308143082\t 9.854013339971154\t 2.5452848970569755\t 2.701530963505295\n",
            "15 \t [-2.64734419 -3.36989662]\t 51.21739716918318\t 9.854013339971154\t 2.890432788031763\t 2.7408155582598406\n",
            "16 \t [ 2.44665555 -0.45897887]\t 45.30999556055601\t 9.854013339971154\t 2.882026384692123\t 2.691883551258066\n",
            "17 \t [-0.59672853  1.36767201]\t 37.173999811246986\t 9.854013339971154\t 2.6138272556420517\t 2.1917011405458524\n",
            "18 \t [ 0.07106369 -3.22106689]\t 19.55278578478495\t 9.854013339971154\t 2.759497789129794\t 2.968840072092381\n",
            "19 \t [-3.38755143  2.82455162]\t 42.544969580591186\t 9.854013339971154\t 2.9550148066193986\t 2.8462974129619134\n",
            "20 \t [ 3.05542268 -3.08903564]\t 21.002379220511795\t 9.854013339971154\t 2.7684551988261754\t 2.9784199758974825\n"
          ]
        }
      ],
      "source": [
        "### ESTIMATED GP EI GRADIENTS\n",
        "\n",
        "np.random.seed(run_num_4)\n",
        "surrogate_approx_4 = dGaussianProcess(cov_func, optimize=opt)\n",
        "\n",
        "approx_4= GPGO_multi(surrogate_approx_4, Acquisition_grad(util), objfunc, param)\n",
        "approx_4.run(init_evals=n_init, max_iter=iters)\n"
      ]
    },
    {
      "cell_type": "code",
      "execution_count": 17,
      "metadata": {
        "id": "JF_SxcEvGCOl",
        "colab": {
          "base_uri": "https://localhost:8080/"
        },
        "outputId": "f41b87c1-d49c-434c-a25d-52d6621d3481"
      },
      "outputs": [
        {
          "output_type": "stream",
          "name": "stdout",
          "text": [
            "Evaluation \t Proposed point \t  Current eval. \t  Best eval. \t        Exact EI: StdDev. x \t Approx EI: StdDev. x \n",
            "init\t [-2.84678993  3.79629882]\t 33.93442008827236\t 7.8108627039749745\t    \t    \n",
            "init\t [-3.00319585  4.2865757 ]\t 39.673876075575784\t 7.8108627039749745\t    \t    \n",
            "init\t [-0.11866943  1.14425716]\t 7.8108627039749745\t 7.8108627039749745\t    \t    \n",
            "init\t [2.72289645 0.1886002 ]\t 25.38160395721669\t 7.8108627039749745\t    \t    \n",
            "init\t [-2.08076286 -3.19773462]\t 22.589982116319675\t 7.8108627039749745\t    \t    \n",
            "1  \t [ 5.12       -4.99232967]\t 53.859680359158276\t 7.8108627039749745\t 4.547765708816684\t 4.713091772977412\n",
            "2  \t [5.12 5.12]\t 57.849427451571785\t 7.8108627039749745\t 4.434888013559113\t 4.3579194823817495\n",
            "3  \t [-5.12       -0.04624801]\t 29.346087750018796\t 7.8108627039749745\t 3.4614714133445634\t 3.731847554248342\n",
            "4  \t [1.00367549 5.12      ]\t 29.934744720429038\t 7.8108627039749745\t 3.4500413737842637\t 3.6171152558586663\n",
            "5  \t [-5.12 -5.12]\t 57.849427451571785\t 7.8108627039749745\t 3.509143295082193\t 3.601557311386368\n",
            "6  \t [ 1.11159218 -5.12      ]\t 32.51937074646514\t 7.8108627039749745\t 3.3226560512226295\t 3.599123582243608\n",
            "7  \t [ 5.12       -1.57391133]\t 50.34282145495706\t 7.8108627039749745\t 2.365322959231431\t 2.423749609000809\n",
            "8  \t [ 0.59847481 -1.87829397]\t 24.816395280263684\t 7.8108627039749745\t 2.7721268330923863\t 2.7871446440920455\n",
            "9  \t [5.12       1.88585894]\t 34.944486099808984\t 7.8108627039749745\t 3.1352345676914632\t 3.16898429422892\n",
            "10 \t [-2.19739625  0.02225705]\t 11.68132896003134\t 7.8108627039749745\t 2.787664333708319\t 3.039489781767716\n",
            "11 \t [2.18693369 2.78644167]\t 26.41750939813169\t 7.8108627039749745\t 2.875321052035236\t 3.3454187624477822\n",
            "12 \t [-5.12        2.61669813]\t 53.201948226183234\t 7.8108627039749745\t 2.9248994991224335\t 3.308796270927055\n",
            "13 \t [-5.12       -2.41193649]\t 53.24999969675778\t 7.8108627039749745\t 2.9780238313606495\t 3.132110887890092\n",
            "14 \t [ 2.80919519 -3.10569541]\t 26.028045034462473\t 7.8108627039749745\t 2.689871061160517\t 2.7596398698796993\n",
            "15 \t [-1.68165912 -5.12      ]\t 45.91593014308768\t 7.8108627039749745\t 2.2842938045390446\t 2.763749289300011\n",
            "16 \t [-0.55454127  2.7790959 ]\t 35.6314388296815\t 7.8108627039749745\t 2.5624555788989953\t 2.9273496473074916\n",
            "17 \t [-0.03922337  0.21463201]\t 8.145762389792031\t 7.8108627039749745\t 2.5934208452608205\t 2.3530309485677954\n",
            "18 \t [-2.75161243  1.29707859]\t 32.0675588033732\t 7.8108627039749745\t 2.9398763830707964\t 2.8637171537361286\n",
            "19 \t [-5.12  5.12]\t 57.849427451571785\t 7.8108627039749745\t 2.477112139828923\t 2.6819990624614056\n",
            "20 \t [-1.96606343 -1.21102924]\t 13.134261826803915\t 7.8108627039749745\t 2.8662601055053987\t 2.8157542919616976\n"
          ]
        }
      ],
      "source": [
        "### ESTIMATED GP EI GRADIENTS\n",
        "\n",
        "np.random.seed(run_num_5)\n",
        "surrogate_approx_5 = dGaussianProcess(cov_func, optimize=opt)\n",
        "\n",
        "approx_5 = GPGO_multi(surrogate_approx_5, Acquisition_grad(util), objfunc, param)\n",
        "approx_5.run(init_evals=n_init, max_iter=iters)\n"
      ]
    },
    {
      "cell_type": "code",
      "execution_count": 18,
      "metadata": {
        "id": "-kDxZtJsGCR3",
        "colab": {
          "base_uri": "https://localhost:8080/"
        },
        "outputId": "0572ff0e-125d-4037-df32-682ee2bbce83"
      },
      "outputs": [
        {
          "output_type": "stream",
          "name": "stdout",
          "text": [
            "Evaluation \t Proposed point \t  Current eval. \t  Best eval. \t        Exact EI: StdDev. x \t Approx EI: StdDev. x \n",
            "init\t [ 4.02288795 -1.72052679]\t 31.08835710146886\t 17.28954482757088\t    \t    \n",
            "init\t [ 3.28938622 -4.69302655]\t 58.797867722203385\t 17.28954482757088\t    \t    \n",
            "init\t [-4.0175956   0.97333314]\t 17.28954482757088\t 17.28954482757088\t    \t    \n",
            "init\t [ 0.30532979 -0.83141193]\t 19.296253155889353\t 17.28954482757088\t    \t    \n",
            "init\t [-1.68542362  1.25459899]\t 28.650630936276173\t 17.28954482757088\t    \t    \n",
            "1  \t [5.12 5.12]\t 57.849427451571785\t 17.28954482757088\t 4.472677918711789\t 4.385877122579495\n",
            "2  \t [-4.80259373 -4.71437125]\t 64.2654268354374\t 17.28954482757088\t 3.981992141643234\t 4.247353997578747\n",
            "3  \t [-5.12  5.12]\t 57.849427451571785\t 17.28954482757088\t 3.27055799932639\t 3.860839381292103\n",
            "4  \t [0.39539475 5.12      ]\t 46.99777851653171\t 17.28954482757088\t 3.141320489490965\t 3.495675760954494\n",
            "5  \t [-0.74584822 -5.12      ]\t 39.74183768667681\t 17.28954482757088\t 2.860354706542113\t 3.180315557225059\n",
            "6  \t [2.84227361 1.91251524]\t 17.730997938997028\t 17.28954482757088\t 2.6877770048803966\t 3.2551122280830986\n",
            "7  \t [-2.70112069 -2.00627672]\t 24.352100408519405\t 17.28954482757088\t 2.9678535840581888\t 3.2550133121314255\n",
            "8  \t [5.12       1.12270866]\t 33.01305520734124\t 17.28954482757088\t 2.705775294246416\t 3.1683052197276993\n",
            "9  \t [-2.34756426  4.03987827]\t 37.8972990582526\t 17.28954482757088\t 2.525776890245362\t 3.3229852676880487\n",
            "10 \t [-5.12       -1.34881902]\t 46.56168599211964\t 17.28954482757088\t 2.5804326252263543\t 3.3858789509028417\n",
            "\u001b[1m\u001b[92m11\u001b[0m\t \u001b[1m\u001b[92m[ 0.9947677 -2.9644768]\u001b[0m\t \u001b[1m\u001b[92m10.03114528150226\u001b[0m\t \u001b[1m\u001b[92m10.03114528150226\u001b[0m\t \u001b[1m\u001b[92m2.812569230248257\u001b[0m\t \u001b[1m\u001b[92m3.1546596889399514\u001b[0m\n",
            "12 \t [0.64470894 2.21142417]\t 29.04942829256953\t 10.03114528150226\t 2.7303199826815896\t 2.8633727456201923\n",
            "13 \t [-5.12       2.4245722]\t 53.70109399989006\t 10.03114528150226\t 2.755665646401484\t 3.01629686039842\n",
            "14 \t [2.74684043 4.13804611]\t 38.398716117240205\t 10.03114528150226\t 2.9256799834564178\t 3.1819321100052593\n",
            "15 \t [ 2.28480828 -0.11267055]\t 19.805622508328693\t 10.03114528150226\t 2.8121664291169846\t 2.942531183586825\n",
            "16 \t [-0.70791566 -2.66470032]\t 35.321915253547814\t 10.03114528150226\t 2.7590342421226497\t 3.146500603620941\n",
            "17 \t [ 5.12 -5.12]\t 57.849427451571785\t 10.03114528150226\t 3.360086912636768\t 3.407876646384052\n",
            "18 \t [ 1.85406752 -2.52635938]\t 33.60054913165557\t 10.03114528150226\t 2.9562244732489584\t 2.9307927278372303\n",
            "19 \t [ 1.18885184 -5.12      ]\t 36.58985803294812\t 10.03114528150226\t 3.1795619766444614\t 3.278015385167736\n",
            "20 \t [-2.59382741 -4.27182811]\t 54.65565400468877\t 10.03114528150226\t 2.8835032041314683\t 3.2806592464730384\n"
          ]
        }
      ],
      "source": [
        "### ESTIMATED GP EI GRADIENTS\n",
        "\n",
        "np.random.seed(run_num_6)\n",
        "surrogate_approx_6 = dGaussianProcess(cov_func, optimize=opt)\n",
        "\n",
        "approx_6 = GPGO_multi(surrogate_approx_6, Acquisition_grad(util), objfunc, param)\n",
        "approx_6.run(init_evals=n_init, max_iter=iters)\n"
      ]
    },
    {
      "cell_type": "code",
      "execution_count": 19,
      "metadata": {
        "id": "fKB8MCD_GCVI",
        "colab": {
          "base_uri": "https://localhost:8080/"
        },
        "outputId": "934475b8-85ad-4e24-966a-fde67451dfa7"
      },
      "outputs": [
        {
          "output_type": "stream",
          "name": "stdout",
          "text": [
            "Evaluation \t Proposed point \t  Current eval. \t  Best eval. \t        Exact EI: StdDev. x \t Approx EI: StdDev. x \n",
            "init\t [-4.33860312  2.86636843]\t 45.646133072936244\t 22.52235437888213\t    \t    \n",
            "init\t [-0.63068947  2.28828342]\t 34.83012662845338\t 22.52235437888213\t    \t    \n",
            "init\t [4.8946126  0.39419771]\t 44.09657005662876\t 22.52235437888213\t    \t    \n",
            "init\t [ 0.01147355 -4.38219639]\t 36.613209822404315\t 22.52235437888213\t    \t    \n",
            "init\t [-2.37118484e+00 -1.20319155e-03]\t 22.52235437888213\t 22.52235437888213\t    \t    \n",
            "1  \t [-5.12 -5.12]\t 57.849427451571785\t 22.52235437888213\t 3.8026491500397324\t 3.8512257441841946\n",
            "2  \t [ 5.12 -5.12]\t 57.849427451571785\t 22.52235437888213\t 3.867387143110415\t 4.115667816052539\n",
            "3  \t [3.59561593 5.12      ]\t 60.102158804111625\t 22.52235437888213\t 3.924093338274952\t 3.9547903794128945\n",
            "4  \t [-4.02558214 -1.33646422]\t 33.289738493146906\t 22.52235437888213\t 2.8825638084769176\t 3.046307140328312\n",
            "\u001b[1m\u001b[92m5\u001b[0m\t \u001b[1m\u001b[92m[ 1.40596248 -0.96125051]\u001b[0m\t \u001b[1m\u001b[92m21.50030659915684\u001b[0m\t \u001b[1m\u001b[92m21.50030659915684\u001b[0m\t \u001b[1m\u001b[92m3.0203043960002898\u001b[0m\t \u001b[1m\u001b[92m3.1656171611200903\u001b[0m\n",
            "6  \t [-1.80766108  5.12      ]\t 38.6481378642918\t 21.50030659915684\t 2.8733829180907797\t 3.8947776996408283\n",
            "7  \t [2.33777545 2.13219842]\t 28.5070705118175\t 21.50030659915684\t 2.7645231313061687\t 3.171033951471572\n",
            "8  \t [ 3.57873521 -2.53947217]\t 57.75136482333049\t 21.50030659915684\t 3.0658544364155933\t 3.8174190335410985\n",
            "9  \t [-2.52321129 -3.63366108]\t 56.13991719116473\t 21.50030659915684\t 3.3830870355474367\t 3.348151859294516\n",
            "10 \t [-5.12  5.12]\t 57.849427451571785\t 21.50030659915684\t 3.172830379699025\t 3.3822892811944985\n",
            "11 \t [0.80820191 5.12      ]\t 36.00193501532993\t 21.50030659915684\t 3.3848918477982495\t 3.021745804614121\n",
            "12 \t [5.12       2.99296201]\t 37.89231121509042\t 21.50030659915684\t 3.335851844589692\t 3.4866595331433894\n",
            "13 \t [ 2.32121637 -5.12      ]\t 48.639580108977256\t 21.50030659915684\t 3.5181107103854923\t 3.442956891339985\n",
            "14 \t [-0.64232356 -1.52937933]\t 38.8427605939146\t 21.50030659915684\t 3.314655901637899\t 2.6997526037066772\n",
            "15 \t [-5.12        0.58519314]\t 47.868401159557116\t 21.50030659915684\t 3.0759498780075623\t 3.214665293500109\n",
            "16 \t [0.75281852 0.65105088]\t 26.637825714601348\t 21.50030659915684\t 3.0020376177428996\t 2.141311004178998\n",
            "17 \t [-5.12       -2.73896174]\t 47.1196235270653\t 21.50030659915684\t 3.061003135714164\t 2.696213168847727\n",
            "18 \t [-2.50636937  1.82867937]\t 34.873291102035985\t 21.50030659915684\t 3.645812979756848\t 3.102228379853918\n",
            "\u001b[1m\u001b[92m19\u001b[0m\t \u001b[1m\u001b[92m[ 2.81561811 -0.03624501]\u001b[0m\t \u001b[1m\u001b[92m14.180122880206511\u001b[0m\t \u001b[1m\u001b[92m14.180122880206511\u001b[0m\t \u001b[1m\u001b[92m3.6326744052115485\u001b[0m\t \u001b[1m\u001b[92m3.3739843500988713\u001b[0m\n",
            "20 \t [ 1.24721231 -2.72566386]\t 30.332768261251335\t 14.180122880206511\t 3.253275451314458\t 2.9879341018370056\n"
          ]
        }
      ],
      "source": [
        "### ESTIMATED GP EI GRADIENTS\n",
        "\n",
        "np.random.seed(run_num_7)\n",
        "surrogate_approx_7 = dGaussianProcess(cov_func, optimize=opt)\n",
        "\n",
        "approx_7 = GPGO_multi(surrogate_approx_7, Acquisition_grad(util), objfunc, param)\n",
        "approx_7.run(init_evals=n_init, max_iter=iters)\n"
      ]
    },
    {
      "cell_type": "code",
      "execution_count": 20,
      "metadata": {
        "id": "4unvifF-GCXp",
        "colab": {
          "base_uri": "https://localhost:8080/"
        },
        "outputId": "a8b62eac-2f60-4c8e-b159-ff80d638aa4f"
      },
      "outputs": [
        {
          "output_type": "stream",
          "name": "stdout",
          "text": [
            "Evaluation \t Proposed point \t  Current eval. \t  Best eval. \t        Exact EI: StdDev. x \t Approx EI: StdDev. x \n",
            "init\t [3.82391708 4.79785639]\t 50.20079446939181\t 13.871821018360485\t    \t    \n",
            "init\t [3.78055209 0.31596228]\t 36.5114251593508\t 13.871821018360485\t    \t    \n",
            "init\t [-2.73686192 -5.00327624]\t 43.34985765011677\t 13.871821018360485\t    \t    \n",
            "init\t [-0.7119993  -0.99992207]\t 13.871821018360485\t 13.871821018360485\t    \t    \n",
            "init\t [ 0.23218863 -0.22126801]\t 17.190590355445654\t 13.871821018360485\t    \t    \n",
            "1  \t [-5.12  5.12]\t 57.849427451571785\t 13.871821018360485\t 3.3833642315427004\t 4.175381521979718\n",
            "2  \t [ 5.12 -5.12]\t 57.849427451571785\t 13.871821018360485\t 3.5622007330120984\t 3.938119928980364\n",
            "3  \t [-5.12       -0.06364033]\t 29.71762440781003\t 13.871821018360485\t 2.982802954955466\t 3.449804381100338\n",
            "4  \t [-0.66932547  4.17628239]\t 38.27599827837763\t 13.871821018360485\t 3.4359729098112144\t 3.376976948196903\n",
            "5  \t [ 1.18397079 -4.40958062]\t 45.244574900951825\t 13.871821018360485\t 3.5865334482114393\t 3.465236091052228\n",
            "6  \t [-2.62664423  1.70434339]\t 39.63119211712395\t 13.871821018360485\t 3.6982225994674827\t 3.279213523999104\n",
            "7  \t [1.62766802 2.34326803]\t 40.62224865931505\t 13.871821018360485\t 3.4060122302173466\t 3.3757087664088417\n",
            "8  \t [-5.12       -3.13060175]\t 41.90752041364226\t 13.871821018360485\t 3.6643983197579892\t 3.6593397247865265\n",
            "9  \t [ 5.12       -2.11119333]\t 35.724728250930646\t 13.871821018360485\t 3.7563590701080583\t 3.299856103829002\n",
            "10 \t [-2.59357163 -1.83824544]\t 33.16181378841205\t 13.871821018360485\t 4.134977597428327\t 3.5873955692475272\n",
            "11 \t [5.12       2.44906953]\t 54.41499194698268\t 13.871821018360485\t 3.656528202759903\t 3.5879921206221175\n",
            "12 \t [ 2.13261473 -1.86114713]\t 14.857513236711618\t 13.871821018360485\t 3.050203099574216\t 2.702766016769385\n",
            "13 \t [-5.12        2.43344797]\t 53.984764762957795\t 13.871821018360485\t 3.3446475215744638\t 3.0730686414663757\n",
            "14 \t [1.3847913 5.12     ]\t 48.3347929246235\t 13.871821018360485\t 3.6018214291382953\t 3.058639026057137\n",
            "15 \t [-2.63543277  5.12      ]\t 52.462917072995424\t 13.871821018360485\t 3.2764726067863266\t 3.0688581607134835\n",
            "16 \t [-0.67835095 -3.04212027]\t 24.414127550254847\t 13.871821018360485\t 3.0294166528794846\t 2.9516667094972213\n",
            "17 \t [-5.12 -5.12]\t 57.849427451571785\t 13.871821018360485\t 3.439297346747513\t 3.0641004437991803\n",
            "18 \t [ 3.23550257 -3.37200024]\t 47.865765255625696\t 13.871821018360485\t 2.8079035035716817\t 2.833448727895003\n",
            "19 \t [-0.47327792  1.43385712]\t 41.28810822785493\t 13.871821018360485\t 2.4615826153921145\t 2.0444617285288436\n",
            "20 \t [ 1.66323616 -0.59511488]\t 36.5727538985758\t 13.871821018360485\t 2.6130226933745737\t 2.679887688864496\n"
          ]
        }
      ],
      "source": [
        "### ESTIMATED GP EI GRADIENTS\n",
        "\n",
        "np.random.seed(run_num_8)\n",
        "surrogate_approx_8 = dGaussianProcess(cov_func, optimize=opt)\n",
        "\n",
        "approx_8 = GPGO_multi(surrogate_approx_8, Acquisition_grad(util), objfunc, param)\n",
        "approx_8.run(init_evals=n_init, max_iter=iters)\n"
      ]
    },
    {
      "cell_type": "code",
      "execution_count": 21,
      "metadata": {
        "id": "85OIXcg7GCaJ",
        "colab": {
          "base_uri": "https://localhost:8080/"
        },
        "outputId": "71b0bd81-0808-4deb-fcc3-837201ef0bde"
      },
      "outputs": [
        {
          "output_type": "stream",
          "name": "stdout",
          "text": [
            "Evaluation \t Proposed point \t  Current eval. \t  Best eval. \t        Exact EI: StdDev. x \t Approx EI: StdDev. x \n",
            "init\t [-5.01376866  0.01919582]\t 25.248289026162446\t 24.454800313488693\t    \t    \n",
            "init\t [-0.04328148 -3.74958562]\t 24.454800313488693\t 24.454800313488693\t    \t    \n",
            "init\t [-3.66478248 -2.88195916]\t 39.46509426509438\t 24.454800313488693\t    \t    \n",
            "init\t [-0.83447623 -2.57944404]\t 31.06766397812992\t 24.454800313488693\t    \t    \n",
            "init\t [-4.25922917 -1.58209393]\t 49.922543556206975\t 24.454800313488693\t    \t    \n",
            "1  \t [3.51080109 5.12      ]\t 61.22741838896637\t 24.454800313488693\t 3.015092816370131\t 3.3035248506018386\n",
            "2  \t [ 5.12       -0.82070126]\t 35.300644588387776\t 24.454800313488693\t 3.4232496670977\t 4.147327832190195\n",
            "3  \t [-2.49910307  5.12      ]\t 55.17007107623675\t 24.454800313488693\t 3.075231016418812\t 4.409910581760277\n",
            "4  \t [ 4.37633724 -5.12      ]\t 65.20727067883779\t 24.454800313488693\t 3.3100263258996714\t 3.7580840302628253\n",
            "5  \t [0.62646235 1.5424505 ]\t 39.42380302867643\t 24.454800313488693\t 3.496474940112248\t 2.7273603127603336\n",
            "6  \t [-5.12        3.14029447]\t 42.42619010349213\t 24.454800313488693\t 3.677136149601282\t 3.379229426927278\n",
            "7  \t [5.12       2.29111203]\t 46.72842153076276\t 24.454800313488693\t 4.105855707595562\t 3.3160756367562625\n",
            "8  \t [ 2.16646636 -1.56137064]\t 31.386276807085373\t 24.454800313488693\t 3.556468673372671\t 3.035142997518765\n",
            "9  \t [-5.12 -5.12]\t 57.849427451571785\t 24.454800313488693\t 3.82765752931249\t 3.8185243328426752\n",
            "10 \t [-2.35740136  1.37492647]\t 40.76315289351804\t 24.454800313488693\t 3.3353276493605875\t 3.5743713056907516\n",
            "11 \t [0.4856065 5.12     ]\t 49.11966098744288\t 24.454800313488693\t 3.7589314428196214\t 3.5697440676855434\n",
            "12 \t [-2.04408437 -5.12      ]\t 33.48416621029693\t 24.454800313488693\t 3.4160576334215196\t 3.836656810127624\n",
            "13 \t [2.71787707 2.3218791 ]\t 39.14697034626743\t 24.454800313488693\t 2.8364316810253665\t 2.5317095530591653\n",
            "14 \t [ 1.56161052 -5.12      ]\t 50.62337926069773\t 24.454800313488693\t 2.7125635638025334\t 2.8767925243453765\n",
            "15 \t [-0.67536677 -0.50700852]\t 35.22284336808711\t 24.454800313488693\t 2.7029717980255756\t 3.047583024937801\n",
            "16 \t [-5.12  5.12]\t 57.849427451571785\t 24.454800313488693\t 3.332114601583346\t 3.4492630768318153\n",
            "\u001b[1m\u001b[92m17\u001b[0m\t \u001b[1m\u001b[92m[-0.97596971  3.17998522]\u001b[0m\t \u001b[1m\u001b[92m16.91995823245124\u001b[0m\t \u001b[1m\u001b[92m16.91995823245124\u001b[0m\t \u001b[1m\u001b[92m2.9532613204627602\u001b[0m\t \u001b[1m\u001b[92m2.7321374560001783\u001b[0m\n",
            "18 \t [ 5.12       -2.87638104]\t 40.066122628129214\t 16.91995823245124\t 3.1136372095106277\t 3.3172563487577427\n",
            "19 \t [3.15191704 0.21778712]\t 22.191826373965384\t 16.91995823245124\t 3.519196172972139\t 3.0065232220695988\n",
            "20 \t [ 2.73767338 -3.17102816]\t 33.56317960673448\t 16.91995823245124\t 3.370616423239762\t 2.9806883220005593\n"
          ]
        }
      ],
      "source": [
        "### ESTIMATED GP EI GRADIENTS\n",
        "\n",
        "np.random.seed(run_num_9)\n",
        "surrogate_approx_9 = dGaussianProcess(cov_func, optimize=opt)\n",
        "\n",
        "approx_9 = GPGO_multi(surrogate_approx_9, Acquisition_grad(util), objfunc, param)\n",
        "approx_9.run(init_evals=n_init, max_iter=iters)\n"
      ]
    },
    {
      "cell_type": "code",
      "execution_count": 22,
      "metadata": {
        "id": "QQBR-qJPGCcp",
        "colab": {
          "base_uri": "https://localhost:8080/"
        },
        "outputId": "27696bb8-3774-472a-9a78-b58f6a813a24"
      },
      "outputs": [
        {
          "output_type": "stream",
          "name": "stdout",
          "text": [
            "Evaluation \t Proposed point \t  Current eval. \t  Best eval. \t        Exact EI: StdDev. x \t Approx EI: StdDev. x \n",
            "init\t [ 2.77832339 -4.90750004]\t 41.674330194390116\t 13.839458310244165\t    \t    \n",
            "init\t [1.36855793 2.54775176]\t 44.69639719065837\t 13.839458310244165\t    \t    \n",
            "init\t [-0.01528819 -2.81808235]\t 13.839458310244165\t 13.839458310244165\t    \t    \n",
            "init\t [-3.09183626  2.66783449]\t 33.23221510904937\t 13.839458310244165\t    \t    \n",
            "init\t [-3.38830503 -4.2154003 ]\t 54.73014366983691\t 13.839458310244165\t    \t    \n",
            "1  \t [ 5.12       -0.56822298]\t 48.342836229559616\t 13.839458310244165\t 3.961619521939512\t 4.133017479311657\n",
            "2  \t [5.12 5.12]\t 57.849427451571785\t 13.839458310244165\t 3.5975544373898316\t 3.324940609645901\n",
            "3  \t [-5.12       -0.60617674]\t 47.14818198780898\t 13.839458310244165\t 3.1446041329846315\t 3.357556059730767\n",
            "4  \t [-5.12  5.12]\t 57.849427451571785\t 13.839458310244165\t 3.757479227070587\t 3.894620682084622\n",
            "5  \t [-0.83794369  5.12      ]\t 34.378128412445356\t 13.839458310244165\t 3.523083550030789\t 3.5171633239095224\n",
            "\u001b[1m\u001b[92m6\u001b[0m\t \u001b[1m\u001b[92m[-1.23131014 -0.10568939]\u001b[0m\t \u001b[1m\u001b[92m12.480746030578509\u001b[0m\t \u001b[1m\u001b[92m12.480746030578509\u001b[0m\t \u001b[1m\u001b[92m3.758238865328303\u001b[0m\t \u001b[1m\u001b[92m3.6405929445847227\u001b[0m\n",
            "7  \t [ 1.89637783 -0.7930265 ]\t 13.600202137025928\t 12.480746030578509\t 3.0746741321444278\t 3.3056802405910757\n",
            "8  \t [-0.38408614 -5.12      ]\t 46.53525107558117\t 12.480746030578509\t 3.4604445284845124\t 3.343229523937277\n",
            "9  \t [4.52999964 2.23269448]\t 54.243501313177475\t 12.480746030578509\t 3.2524611663019116\t 3.564141297938793\n",
            "10 \t [ 5.12       -3.59595893]\t 60.09242383933993\t 12.480746030578509\t 3.120959144867478\t 3.498875957568721\n",
            "11 \t [2.14083556 5.12      ]\t 37.17419041723423\t 12.480746030578509\t 2.8231652298987977\t 2.6860081680585903\n",
            "12 \t [-2.40329348 -1.64489857]\t 42.82567857009356\t 12.480746030578509\t 3.185205989751372\t 2.9138100905292528\n",
            "13 \t [-5.12        2.04203325]\t 33.44134234768545\t 12.480746030578509\t 3.1067704161977865\t 3.4445752262033302\n",
            "14 \t [-0.94074347  1.56250979]\t 23.25013515750325\t 12.480746030578509\t 3.107939754685394\t 2.8282447039992245\n",
            "15 \t [ 2.3412297  -2.43952495]\t 46.14271772475651\t 12.480746030578509\t 3.4780543058574973\t 3.301017796956765\n",
            "16 \t [ 0.44840399 -0.31402851]\t 33.69416441418359\t 12.480746030578509\t 3.694193573890529\t 3.0578086689009796\n",
            "17 \t [-5.12    -2.99177]\t 37.88876842399399\t 12.480746030578509\t 3.053152205392275\t 3.1265667720114094\n",
            "18 \t [2.74015106 0.33612159]\t 33.39078297794947\t 12.480746030578509\t 2.8560060010774384\t 2.640408558063599\n",
            "19 \t [-2.80731574  5.12      ]\t 43.28181933304627\t 12.480746030578509\t 2.796315564274199\t 3.050003667507262\n",
            "20 \t [-2.85520883  0.56164703]\t 31.587403655093475\t 12.480746030578509\t 3.1399071279011017\t 3.0984639355152295\n"
          ]
        }
      ],
      "source": [
        "### ESTIMATED GP EI GRADIENTS\n",
        "\n",
        "np.random.seed(run_num_10)\n",
        "surrogate_approx_10 = dGaussianProcess(cov_func, optimize=opt)\n",
        "\n",
        "approx_10 = GPGO_multi(surrogate_approx_10, Acquisition_grad(util), objfunc, param)\n",
        "approx_10.run(init_evals=n_init, max_iter=iters)\n"
      ]
    },
    {
      "cell_type": "code",
      "execution_count": 23,
      "metadata": {
        "id": "JS8ejeQ2GCfi",
        "colab": {
          "base_uri": "https://localhost:8080/"
        },
        "outputId": "ee2bdf71-e784-4120-ba4e-b1aabfa5c3d2"
      },
      "outputs": [
        {
          "output_type": "stream",
          "name": "stdout",
          "text": [
            "Evaluation \t Proposed point \t  Current eval. \t  Best eval. \t        Exact EI: StdDev. x \t Approx EI: StdDev. x \n",
            "init\t [-3.27403839 -4.92057353]\t 47.655641290890955\t 10.679755252484755\t    \t    \n",
            "init\t [-0.37664229  2.30332343]\t 35.87889240695259\t 10.679755252484755\t    \t    \n",
            "init\t [-0.81711509 -0.14922651]\t 10.679755252484755\t 10.679755252484755\t    \t    \n",
            "init\t [-4.98912446 -0.12931474]\t 28.05462905574235\t 10.679755252484755\t    \t    \n",
            "init\t [4.52410012 3.59214172]\t 71.62694632141611\t 10.679755252484755\t    \t    \n",
            "1  \t [ 5.12       -4.19757369]\t 53.309545194818966\t 10.679755252484755\t 3.2120322860731956\t 4.139598688168426\n",
            "2  \t [-5.12  5.12]\t 57.849427451571785\t 10.679755252484755\t 2.830515562979539\t 3.8410777058602457\n",
            "3  \t [ 0.96008613 -5.12      ]\t 30.15930307283154\t 10.679755252484755\t 3.225685765942117\t 3.0772824896604027\n",
            "4  \t [ 3.08642864 -0.51789892]\t 31.169708360304476\t 10.679755252484755\t 2.9641439330109844\t 2.8833259038720813\n",
            "5  \t [1.20979303 5.12      ]\t 37.88882045619993\t 10.679755252484755\t 2.8804045814884796\t 2.9517442315617117\n",
            "6  \t [-1.93526602  5.12      ]\t 33.48579679074601\t 10.679755252484755\t 2.97576992536589\t 3.384251301946361\n",
            "7  \t [-0.89795318 -2.64270842]\t 26.01851828970851\t 10.679755252484755\t 3.595087766137013\t 3.091301535998073\n",
            "8  \t [-3.48309312  2.27188453]\t 48.607743772679605\t 10.679755252484755\t 3.306829015580206\t 3.122972245217164\n",
            "9  \t [-5.12       -2.81628555]\t 42.81069940853159\t 10.679755252484755\t 3.142331700146352\t 3.003194027184598\n",
            "10 \t [5.12       0.65030666]\t 45.20986581339974\t 10.679755252484755\t 3.2615277936377467\t 2.8553091277765055\n",
            "11 \t [ 2.21431405 -2.88804971]\t 23.39409860411954\t 10.679755252484755\t 3.311225854651886\t 3.3296260610426955\n",
            "12 \t [2.11111561 1.90834598]\t 12.051192627131456\t 10.679755252484755\t 3.250017470670979\t 3.0630012891330334\n",
            "13 \t [-2.69537264 -0.92830396]\t 22.48973802228408\t 10.679755252484755\t 2.7456321724856956\t 2.8756618861264784\n",
            "14 \t [ 0.7315732  -0.46690813]\t 31.693026518191417\t 10.679755252484755\t 2.8726020795143294\t 3.108850537423563\n",
            "15 \t [ 5.12       -1.79841141]\t 39.163908403850265\t 10.679755252484755\t 3.3185725646075994\t 3.267307251895484\n",
            "16 \t [ 3.03775803 -5.12      ]\t 38.43278597921184\t 10.679755252484755\t 3.0624864172243424\t 3.3485359471989753\n",
            "17 \t [-1.00818285 -5.12      ]\t 29.95436065193455\t 10.679755252484755\t 2.5288963982935706\t 2.625783753564746\n",
            "18 \t [-5.12 -5.12]\t 57.849427451571785\t 10.679755252484755\t 3.251143241463515\t 3.0083736847228506\n",
            "19 \t [1.9506771 2.9712826]\t 13.27238171346011\t 10.679755252484755\t 2.900008530217669\t 2.6951361198341623\n",
            "20 \t [-1.67218975  0.52362756]\t 37.656927064636314\t 10.679755252484755\t 3.097723313262543\t 2.819648051816801\n"
          ]
        }
      ],
      "source": [
        "### ESTIMATED GP EI GRADIENTS\n",
        "\n",
        "np.random.seed(run_num_11)\n",
        "surrogate_approx_11 = dGaussianProcess(cov_func, optimize=opt)\n",
        "\n",
        "approx_11 = GPGO_multi(surrogate_approx_11, Acquisition_grad(util), objfunc, param)\n",
        "approx_11.run(init_evals=n_init, max_iter=iters)\n"
      ]
    },
    {
      "cell_type": "code",
      "execution_count": 24,
      "metadata": {
        "id": "DXwjUVZ4GCii",
        "colab": {
          "base_uri": "https://localhost:8080/"
        },
        "outputId": "15c64909-35a8-4397-b38a-eada7fd1f869"
      },
      "outputs": [
        {
          "output_type": "stream",
          "name": "stdout",
          "text": [
            "Evaluation \t Proposed point \t  Current eval. \t  Best eval. \t        Exact EI: StdDev. x \t Approx EI: StdDev. x \n",
            "init\t [-3.54137249  2.45810889]\t 57.903242869085595\t 40.51116653209555\t    \t    \n",
            "init\t [-2.42365424  0.34549139]\t 40.51116653209555\t 40.51116653209555\t    \t    \n",
            "init\t [-4.97075238  4.28796936]\t 55.62655915398208\t 40.51116653209555\t    \t    \n",
            "init\t [ 4.10332011 -4.77776458]\t 49.962803461970296\t 40.51116653209555\t    \t    \n",
            "init\t [ 4.6791612  -3.71497655]\t 62.183891474990624\t 40.51116653209555\t    \t    \n",
            "1  \t [5.12 5.12]\t 57.849427451571785\t 40.51116653209555\t 3.950402656591191\t 4.0915738367981485\n",
            "2  \t [-5.12 -5.12]\t 57.849427451571785\t 40.51116653209555\t 3.728461371001829\t 3.5084444709131293\n",
            "\u001b[1m\u001b[92m3\u001b[0m\t \u001b[1m\u001b[92m[2.51251401 0.83277565]\u001b[0m\t \u001b[1m\u001b[92m32.005722529378936\u001b[0m\t \u001b[1m\u001b[92m32.005722529378936\u001b[0m\t \u001b[1m\u001b[92m2.870589978022405\u001b[0m\t \u001b[1m\u001b[92m3.0383448985476837\u001b[0m\n",
            "4  \t [0.33246165 5.12      ]\t 43.98773777137889\t 32.005722529378936\t 3.009823379868501\t 3.357595502841\n",
            "5  \t [-0.48612801 -4.11887937]\t 39.82582218172278\t 32.005722529378936\t 2.4840248198681696\t 2.7596742936381\n",
            "6  \t [-5.12       -1.54443998]\t 50.92270281076486\t 32.005722529378936\t 2.6840554495601734\t 3.1030699559252652\n",
            "7  \t [ 5.12       -0.37799197]\t 46.27033185660744\t 32.005722529378936\t 2.7125816001011915\t 3.1337326269645085\n",
            "\u001b[1m\u001b[92m8\u001b[0m\t \u001b[1m\u001b[92m[ 1.63834951 -1.98114848]\u001b[0m\t \u001b[1m\u001b[92m23.13300627910809\u001b[0m\t \u001b[1m\u001b[92m23.13300627910809\u001b[0m\t \u001b[1m\u001b[92m2.382152916129415\u001b[0m\t \u001b[1m\u001b[92m3.0983385031119486\u001b[0m\n",
            "\u001b[1m\u001b[92m9\u001b[0m\t \u001b[1m\u001b[92m[-0.0438144  2.1429769]\u001b[0m\t \u001b[1m\u001b[92m8.741802936705255\u001b[0m\t \u001b[1m\u001b[92m8.741802936705255\u001b[0m\t \u001b[1m\u001b[92m2.698968306237905\u001b[0m\t \u001b[1m\u001b[92m2.663677052779362\u001b[0m\n",
            "10 \t [2.70822446 3.49146035]\t 52.10518078646453\t 8.741802936705255\t 2.8875641874929454\t 3.473944744304097\n",
            "11 \t [-2.63767601 -2.7223414 ]\t 42.5836514849395\t 8.741802936705255\t 3.056602173629599\t 3.325628840485249\n",
            "12 \t [-2.2879087  5.12     ]\t 46.518655396075715\t 8.741802936705255\t 2.7721260111003514\t 3.2313948119050484\n",
            "13 \t [5.12       2.25441711]\t 44.28460978305942\t 8.741802936705255\t 2.7914802586071925\t 2.9011594972301595\n",
            "14 \t [ 0.0035634  -0.32691368]\t 14.75610075645543\t 8.741802936705255\t 2.8870203832967194\t 2.853646753825388\n",
            "15 \t [ 1.66589356 -5.12      ]\t 46.74192382365168\t 8.741802936705255\t 3.258826863429839\t 3.0552914682221033\n",
            "16 \t [-2.54698002 -5.12      ]\t 54.97930670534113\t 8.741802936705255\t 2.928732307040004\t 2.9037249522638118\n",
            "17 \t [-0.77301429  2.68341173]\t 30.42011915010601\t 8.741802936705255\t 2.5702098105088393\t 2.601183409815123\n",
            "18 \t [0.51410455 1.34088798]\t 37.42833330349831\t 8.741802936705255\t 3.133573710920811\t 2.991928113136561\n",
            "19 \t [-5.12        0.84597234]\t 33.96912470121685\t 8.741802936705255\t 2.933788779424199\t 2.927717196199677\n",
            "20 \t [-0.52185424 -1.60218248]\t 40.7540018643862\t 8.741802936705255\t 2.7181130328345624\t 2.591370555379918\n"
          ]
        }
      ],
      "source": [
        "### ESTIMATED GP EI GRADIENTS\n",
        "\n",
        "np.random.seed(run_num_12)\n",
        "surrogate_approx_12 = dGaussianProcess(cov_func, optimize=opt)\n",
        "\n",
        "approx_12 = GPGO_multi(surrogate_approx_12, Acquisition_grad(util), objfunc, param)\n",
        "approx_12.run(init_evals=n_init, max_iter=iters)\n"
      ]
    },
    {
      "cell_type": "code",
      "execution_count": 25,
      "metadata": {
        "id": "CphOPndPGClX",
        "colab": {
          "base_uri": "https://localhost:8080/"
        },
        "outputId": "5dcb3c02-fb20-4b42-c880-a8b5616eaaf6"
      },
      "outputs": [
        {
          "output_type": "stream",
          "name": "stdout",
          "text": [
            "Evaluation \t Proposed point \t  Current eval. \t  Best eval. \t        Exact EI: StdDev. x \t Approx EI: StdDev. x \n",
            "init\t [ 2.84367268 -2.68757791]\t 33.58019830007169\t 17.435826639425656\t    \t    \n",
            "init\t [3.32061217 4.76927179]\t 56.857057997503354\t 17.435826639425656\t    \t    \n",
            "init\t [ 4.83943541 -0.47667971]\t 48.211919361679726\t 17.435826639425656\t    \t    \n",
            "init\t [1.11659482 2.82139151]\t 17.435826639425656\t 17.435826639425656\t    \t    \n",
            "init\t [1.45012065 2.27346667]\t 38.25352329493884\t 17.435826639425656\t    \t    \n",
            "1  \t [-5.12       -2.72662604]\t 47.82255874469426\t 17.435826639425656\t 3.468104605129011\t 3.449544912369958\n",
            "2  \t [-5.12  5.12]\t 57.849427451571785\t 17.435826639425656\t 3.731069835128653\t 3.8897614033019163\n",
            "3  \t [-1.07700212 -5.12      ]\t 31.232396259441025\t 17.435826639425656\t 3.719343593614857\t 3.360922843251996\n",
            "\u001b[1m\u001b[92m4\u001b[0m\t \u001b[1m\u001b[92m[-2.85656003  1.1263478 ]\u001b[0m\t \u001b[1m\u001b[92m16.211435218405377\u001b[0m\t \u001b[1m\u001b[92m16.211435218405377\u001b[0m\t \u001b[1m\u001b[92m3.236204496472183\u001b[0m\t \u001b[1m\u001b[92m3.061847200955015\u001b[0m\n",
            "5  \t [-1.15488899  5.12      ]\t 34.631880897342306\t 16.211435218405377\t 3.666152480203011\t 4.0068296030676\n",
            "6  \t [-0.62086316 -1.40876825]\t 38.024110347672334\t 16.211435218405377\t 3.3561010678843304\t 3.2541274841622307\n",
            "7  \t [ 5.12 -5.12]\t 57.849427451571785\t 16.211435218405377\t 3.8879144704800592\t 3.9480445741623984\n",
            "8  \t [5.12       2.46276689]\t 54.717534627939955\t 16.211435218405377\t 3.486964102387052\t 3.452260575954029\n",
            "9  \t [-5.12       1.7378469]\t 42.707685571911945\t 16.211435218405377\t 3.7764223773016834\t 3.28125798392383\n",
            "10 \t [ 1.73842132 -5.12      ]\t 42.67369061556199\t 16.211435218405377\t 3.506666733557183\t 3.347085815270222\n",
            "11 \t [-3.90822919 -5.12      ]\t 45.81582910466021\t 16.211435218405377\t 3.891695018328612\t 3.174268751407955\n",
            "12 \t [-1.25796918  2.43117801]\t 37.07315934391851\t 16.211435218405377\t 3.0131731720998456\t 2.734202229736109\n",
            "\u001b[1m\u001b[92m13\u001b[0m\t \u001b[1m\u001b[92m[ 1.88140599 -0.24378771]\u001b[0m\t \u001b[1m\u001b[92m15.859015661997645\u001b[0m\t \u001b[1m\u001b[92m15.859015661997645\u001b[0m\t \u001b[1m\u001b[92m3.458044212548623\u001b[0m\t \u001b[1m\u001b[92m2.8764069018393257\u001b[0m\n",
            "14 \t [-3.23791375 -0.94252429]\t 21.258786232918936\t 15.859015661997645\t 2.7416988206084394\t 2.7812714367555817\n",
            "15 \t [0.95611063 5.12      ]\t 30.216689604687247\t 15.859015661997645\t 3.2685765202628745\t 3.350570287080893\n",
            "16 \t [-2.30296132 -3.07764691]\t 29.20879180702484\t 15.859015661997645\t 2.2913530984643065\t 2.453242156800398\n",
            "17 \t [ 5.12       -2.74078371]\t 47.01536221785513\t 15.859015661997645\t 3.3881251338842238\t 3.421057544216544\n",
            "18 \t [-3.2037981   3.62576575]\t 47.58511441844999\t 15.859015661997645\t 2.5724228024456184\t 2.4211342700461898\n",
            "19 \t [-5.12       -0.42607962]\t 48.046913930704655\t 15.859015661997645\t 3.261619418758257\t 2.5559395804091194\n",
            "20 \t [ 0.51107335 -3.18005891]\t 36.09533309494915\t 15.859015661997645\t 3.516578816121492\t 3.4886947116175446\n"
          ]
        }
      ],
      "source": [
        "### ESTIMATED GP EI GRADIENTS\n",
        "\n",
        "np.random.seed(run_num_13)\n",
        "surrogate_approx_13 = dGaussianProcess(cov_func, optimize=opt)\n",
        "\n",
        "approx_13 = GPGO_multi(surrogate_approx_13, Acquisition_grad(util), objfunc, param)\n",
        "approx_13.run(init_evals=n_init, max_iter=iters)\n"
      ]
    },
    {
      "cell_type": "code",
      "execution_count": 26,
      "metadata": {
        "id": "ojHTeARNGCoi",
        "colab": {
          "base_uri": "https://localhost:8080/"
        },
        "outputId": "8b94f8e9-9dd3-455f-ef68-d592c679580f"
      },
      "outputs": [
        {
          "output_type": "stream",
          "name": "stdout",
          "text": [
            "Evaluation \t Proposed point \t  Current eval. \t  Best eval. \t        Exact EI: StdDev. x \t Approx EI: StdDev. x \n",
            "init\t [0.14277984 2.79721013]\t 18.683085263052178\t 10.423838604848608\t    \t    \n",
            "init\t [ 3.7931795  -5.03759925]\t 47.36348784446708\t 10.423838604848608\t    \t    \n",
            "init\t [-1.94830412  4.68586229]\t 40.19779334078636\t 10.423838604848608\t    \t    \n",
            "init\t [ 0.13431513 -1.86076749]\t 10.423838604848608\t 10.423838604848608\t    \t    \n",
            "init\t [ 0.40140736 -2.85434939]\t 30.353548735049138\t 10.423838604848608\t    \t    \n",
            "1  \t [-5.12 -5.12]\t 57.849427451571785\t 10.423838604848608\t 4.305246960963045\t 4.074826205461012\n",
            "2  \t [5.12 5.12]\t 57.849427451571785\t 10.423838604848608\t 3.9192087062167373\t 3.907353329505544\n",
            "3  \t [-5.12        0.35579134]\t 45.21958340622901\t 10.423838604848608\t 2.9064075885845853\t 3.721539637466776\n",
            "4  \t [ 5.12       -0.06379914]\t 29.72153355734465\t 10.423838604848608\t 2.8968704978974618\t 3.4150831953879486\n",
            "5  \t [-5.12  5.12]\t 57.849427451571785\t 10.423838604848608\t 2.8376515961380684\t 2.7614464068301645\n",
            "6  \t [-1.64652967  0.04125168]\t 19.099632744916413\t 10.423838604848608\t 2.5208770325508487\t 2.658912942790615\n",
            "7  \t [-1.68579742 -5.12      ]\t 45.69207326000724\t 10.423838604848608\t 2.418793600722383\t 2.685714849914309\n",
            "8  \t [1.91875481 0.23697336]\t 14.195094248688873\t 10.423838604848608\t 3.1196456133911084\t 3.256179275453066\n",
            "9  \t [1.75616185 5.12      ]\t 41.621754569708116\t 10.423838604848608\t 2.90888720246191\t 3.175542861984852\n",
            "10 \t [-3.37001739 -2.32602649]\t 48.21096100132123\t 10.423838604848608\t 2.7702029286398933\t 2.989857442477381\n",
            "11 \t [3.48152754 2.41513003]\t 56.49818257398282\t 10.423838604848608\t 3.223039927913268\t 3.1160568938370554\n",
            "12 \t [ 3.28653453 -2.13814015]\t 31.184533919783988\t 10.423838604848608\t 2.741392039954581\t 3.267110873132417\n",
            "13 \t [-3.14107406  2.27897406]\t 30.54842689828208\t 10.423838604848608\t 2.829186012774652\t 2.928384282062056\n",
            "14 \t [ 1.13105775 -5.12      ]\t 33.407132671679705\t 10.423838604848608\t 2.7859360615332385\t 2.8690350834321263\n",
            "15 \t [ 5.12       -2.95114025]\t 38.101482328781465\t 10.423838604848608\t 2.7234538499499656\t 3.0349220652485975\n",
            "16 \t [ 0.28551419 -0.04893536]\t 12.765839820064265\t 10.423838604848608\t 2.7105413425061253\t 2.620002385339715\n",
            "17 \t [-0.83833596  1.60687789]\t 25.843849423763203\t 10.423838604848608\t 2.8049660944977983\t 2.737641014420781\n",
            "18 \t [-5.12        2.72957502]\t 47.65511293111281\t 10.423838604848608\t 2.5124172346681286\t 2.208109789280962\n",
            "19 \t [-1.08351489 -1.58146601]\t 23.73881490317843\t 10.423838604848608\t 2.9527316214843577\t 2.9191287008356177\n",
            "20 \t [-5.12       -2.31604771]\t 48.32059832473381\t 10.423838604848608\t 3.062071660117103\t 2.82999744223495\n"
          ]
        }
      ],
      "source": [
        "### ESTIMATED GP EI GRADIENTS\n",
        "\n",
        "np.random.seed(run_num_14)\n",
        "surrogate_approx_14 = dGaussianProcess(cov_func, optimize=opt)\n",
        "\n",
        "approx_14 = GPGO_multi(surrogate_approx_14, Acquisition_grad(util), objfunc, param)\n",
        "approx_14.run(init_evals=n_init, max_iter=iters)\n"
      ]
    },
    {
      "cell_type": "code",
      "execution_count": 27,
      "metadata": {
        "id": "vCJzn4vWGCs3",
        "colab": {
          "base_uri": "https://localhost:8080/"
        },
        "outputId": "56faf1ef-9ccf-4e4b-d9ea-5ab76f4ddc84"
      },
      "outputs": [
        {
          "output_type": "stream",
          "name": "stdout",
          "text": [
            "Evaluation \t Proposed point \t  Current eval. \t  Best eval. \t        Exact EI: StdDev. x \t Approx EI: StdDev. x \n",
            "init\t [ 3.57189322 -3.28810573]\t 54.938487770767075\t 7.990765314336182\t    \t    \n",
            "init\t [-4.56332069 -1.41784631]\t 60.750198753157726\t 7.990765314336182\t    \t    \n",
            "init\t [-2.29989449  0.3072023 ]\t 31.984997246800887\t 7.990765314336182\t    \t    \n",
            "init\t [-1.9873903  -2.00218256]\t 7.990765314336182\t 7.990765314336182\t    \t    \n",
            "init\t [-3.97576933 -2.5610341 ]\t 41.754957769694336\t 7.990765314336182\t    \t    \n",
            "1  \t [3.22352538 5.12      ]\t 47.66004087319409\t 7.990765314336182\t 3.6936356916626494\t 3.908001163489835\n",
            "2  \t [-5.12  5.12]\t 57.849427451571785\t 7.990765314336182\t 3.113307749968569\t 4.173307587551194\n",
            "3  \t [5.12       1.00950206]\t 29.961625195999897\t 7.990765314336182\t 3.285152953568541\t 3.3944886874175704\n",
            "4  \t [-0.33203436 -5.12      ]\t 43.96411228375585\t 7.990765314336182\t 2.986917394608228\t 2.948328488910273\n",
            "5  \t [-0.90983276  4.4464838 ]\t 41.60134848739645\t 7.990765314336182\t 3.846738177824131\t 2.8763591106576265\n",
            "6  \t [1.41822379 0.64258617]\t 37.38123319970241\t 7.990765314336182\t 3.5332834567543334\t 3.262589717233931\n",
            "7  \t [-5.12        1.86998088]\t 35.57694674126717\t 7.990765314336182\t 3.0224609752058686\t 2.746001278975435\n",
            "8  \t [-5.12 -5.12]\t 57.849427451571785\t 7.990765314336182\t 3.758904072276134\t 3.160996927430366\n",
            "9  \t [ 0.38228983 -2.14116983]\t 25.800737691070065\t 7.990765314336182\t 2.5516737876983044\t 2.706017922234547\n",
            "10 \t [ 5.12 -5.12]\t 57.849427451571785\t 7.990765314336182\t 3.3007065704022276\t 3.3748160521551203\n",
            "11 \t [1.47713219 3.1310993 ]\t 35.087698813976175\t 7.990765314336182\t 3.2568888577027493\t 3.0123399084366485\n",
            "12 \t [ 5.12       -1.31475759]\t 44.6107969724238\t 7.990765314336182\t 2.804565628825406\t 3.105707141539761\n",
            "13 \t [5.12      3.4811284]\t 60.97275231810377\t 7.990765314336182\t 3.222287288958389\t 3.444940337098436\n",
            "14 \t [-2.84541354  2.92633285]\t 22.06972489669557\t 7.990765314336182\t 2.827701012344535\t 3.3039919351790688\n",
            "15 \t [-2.63518107 -5.12      ]\t 52.47347347366595\t 7.990765314336182\t 2.364016588967951\t 2.975972708570069\n",
            "16 \t [-0.70179304  1.83745202]\t 21.62915879693238\t 7.990765314336182\t 3.1780538970865395\t 3.0848221854289797\n",
            "17 \t [ 2.66945702 -0.99065041]\t 22.97204432892571\t 7.990765314336182\t 2.6404473737839806\t 2.809740169509196\n",
            "18 \t [ 2.04028693 -5.12      ]\t 33.406152112028536\t 7.990765314336182\t 3.0400156431246255\t 3.426534163734305\n",
            "19 \t [-1.57779685 -2.54141051]\t 47.440534886796925\t 7.990765314336182\t 3.10781909031079\t 3.080210030833048\n",
            "20 \t [-2.83549134  5.12      ]\t 41.847762302980215\t 7.990765314336182\t 2.690173887209702\t 3.072467555540795\n"
          ]
        }
      ],
      "source": [
        "### ESTIMATED GP EI GRADIENTS\n",
        "\n",
        "np.random.seed(run_num_15)\n",
        "surrogate_approx_15 = dGaussianProcess(cov_func, optimize=opt)\n",
        "\n",
        "approx_15 = GPGO_multi(surrogate_approx_15, Acquisition_grad(util), objfunc, param)\n",
        "approx_15.run(init_evals=n_init, max_iter=iters)\n"
      ]
    },
    {
      "cell_type": "code",
      "execution_count": 28,
      "metadata": {
        "id": "bGGkhp-kGCw6",
        "colab": {
          "base_uri": "https://localhost:8080/"
        },
        "outputId": "794ca30d-41f0-4bfb-e718-07ea8809419e"
      },
      "outputs": [
        {
          "output_type": "stream",
          "name": "stdout",
          "text": [
            "Evaluation \t Proposed point \t  Current eval. \t  Best eval. \t        Exact EI: StdDev. x \t Approx EI: StdDev. x \n",
            "init\t [-2.83349935  0.23719262]\t 22.27210456874814\t 22.27210456874814\t    \t    \n",
            "init\t [ 0.51918292 -4.65303603]\t 57.57021076017139\t 22.27210456874814\t    \t    \n",
            "init\t [-1.42613673 -2.83565116]\t 33.89145899403749\t 22.27210456874814\t    \t    \n",
            "init\t [ 1.9325559  -3.44339021]\t 35.85029586225333\t 22.27210456874814\t    \t    \n",
            "init\t [-4.39987336  4.51595121]\t 77.78800881964571\t 22.27210456874814\t    \t    \n",
            "1  \t [5.12 5.12]\t 57.849427451571785\t 22.27210456874814\t 3.965133405589511\t 4.0833901872792495\n",
            "2  \t [5.12       0.13354467]\t 32.26111583386254\t 22.27210456874814\t 3.7632541903819026\t 3.263813185734476\n",
            "3  \t [0.5398628  3.56731246]\t 51.824017447015066\t 22.27210456874814\t 3.4038968269866574\t 4.0790292291651875\n",
            "4  \t [-5.12 -5.12]\t 57.849427451571785\t 22.27210456874814\t 3.595441549465725\t 3.742945035994471\n",
            "5  \t [ 5.12 -5.12]\t 57.849427451571785\t 22.27210456874814\t 2.1957770315431477\t 2.8886578137860166\n",
            "\u001b[1m\u001b[92m6\u001b[0m\t \u001b[1m\u001b[92m[1.26298944 0.01633028]\u001b[0m\t \u001b[1m\u001b[92m12.463247977319158\u001b[0m\t \u001b[1m\u001b[92m12.463247977319158\u001b[0m\t \u001b[1m\u001b[92m3.3576767771948823\u001b[0m\t \u001b[1m\u001b[92m3.4445443414072487\u001b[0m\n",
            "7  \t [-5.12       -1.65387336]\t 47.33925141326317\t 12.463247977319158\t 3.0438078677214593\t 3.366755035870342\n",
            "8  \t [3.37858526 2.40312317]\t 52.622336975225906\t 12.463247977319158\t 2.4448459365964017\t 3.3169867202328778\n",
            "9  \t [-5.12        1.50296729]\t 51.18188645754396\t 12.463247977319158\t 3.0799868289635\t 3.3871359847185825\n",
            "10 \t [ 5.12       -2.35306374]\t 50.494112978011\t 12.463247977319158\t 2.853672537485452\t 3.5437941997666367\n",
            "11 \t [-1.58298613  5.12      ]\t 50.101700038879045\t 12.463247977319158\t 3.314989283081937\t 3.344010886324592\n",
            "12 \t [-0.67720234  1.00534824]\t 15.891153189988263\t 12.463247977319158\t 3.067120795024637\t 2.9562300105267325\n",
            "13 \t [-2.3707208 -5.12     ]\t 51.42344575201791\t 12.463247977319158\t 2.803938635651756\t 2.4087594834318113\n",
            "14 \t [2.42523411 5.12      ]\t 53.723207699620204\t 12.463247977319158\t 2.4324055185428337\t 2.5770489514061232\n",
            "15 \t [ 2.68511651 -0.95812616]\t 22.43673502079278\t 12.463247977319158\t 2.671296901289448\t 2.687411030718101\n",
            "16 \t [-2.26757357  2.47837196]\t 42.293962340027576\t 12.463247977319158\t 2.3406731134341574\t 2.5356092899881952\n",
            "\u001b[1m\u001b[92m17\u001b[0m\t \u001b[1m\u001b[92m[-0.06493118 -1.03459478]\u001b[0m\t \u001b[1m\u001b[92m2.130649551976223\u001b[0m\t \u001b[1m\u001b[92m2.130649551976223\u001b[0m\t \u001b[1m\u001b[92m3.0234787692068457\u001b[0m\t \u001b[1m\u001b[92m2.847477082645829\u001b[0m\n",
            "18 \t [-0.07144973 -1.03869485]\t 2.368980723137115\t 2.130649551976223\t 2.8203200045158074\t 2.818512320444737\n",
            "19 \t [-0.07112917 -1.03855697]\t 2.3578433877256337\t 2.130649551976223\t 2.6008016265104392\t 2.572351292532887\n",
            "20 \t [-0.07097463 -1.03848849]\t 2.352455809887527\t 2.130649551976223\t 3.1230740567695907\t 3.0876070150618573\n"
          ]
        }
      ],
      "source": [
        "### ESTIMATED GP EI GRADIENTS\n",
        "\n",
        "np.random.seed(run_num_16)\n",
        "surrogate_approx_16 = dGaussianProcess(cov_func, optimize=opt)\n",
        "\n",
        "approx_16 = GPGO_multi(surrogate_approx_16, Acquisition_grad(util), objfunc, param)\n",
        "approx_16.run(init_evals=n_init, max_iter=iters)\n"
      ]
    },
    {
      "cell_type": "code",
      "execution_count": 29,
      "metadata": {
        "id": "Yrs2mp7hGC1Z",
        "colab": {
          "base_uri": "https://localhost:8080/"
        },
        "outputId": "cd87bf8a-291c-4276-a7af-b286af9b75e7"
      },
      "outputs": [
        {
          "output_type": "stream",
          "name": "stdout",
          "text": [
            "Evaluation \t Proposed point \t  Current eval. \t  Best eval. \t        Exact EI: StdDev. x \t Approx EI: StdDev. x \n",
            "init\t [-2.10263037  0.31320838]\t 20.395145364684023\t 20.395145364684023\t    \t    \n",
            "init\t [-3.15882714 -4.42470033]\t 53.03732051200137\t 20.395145364684023\t    \t    \n",
            "init\t [2.93873111 1.60085526]\t 29.989224812583537\t 20.395145364684023\t    \t    \n",
            "init\t [1.40821398 0.77417363]\t 29.451989415882437\t 20.395145364684023\t    \t    \n",
            "init\t [-4.71999574 -1.45598869]\t 55.89242173757483\t 20.395145364684023\t    \t    \n",
            "1  \t [ 5.12 -5.12]\t 57.849427451571785\t 20.395145364684023\t 3.67716205262681\t 4.800641032712496\n",
            "2  \t [-5.12        5.04639191]\t 54.812614501366646\t 20.395145364684023\t 3.9138646873370755\t 3.6575235772648007\n",
            "3  \t [-0.25151688  5.12      ]\t 39.08328165022297\t 20.395145364684023\t 3.6704842831579865\t 3.5112842148750185\n",
            "4  \t [5.12 5.12]\t 57.849427451571785\t 20.395145364684023\t 3.9731588122906163\t 3.7566250444228064\n",
            "5  \t [ 1.07732227 -3.51439108]\t 34.627838894066734\t 20.395145364684023\t 3.1323214699617967\t 3.4498099226884618\n",
            "6  \t [ 5.12      -1.2538001]\t 40.735472832160404\t 20.395145364684023\t 3.084319074287928\t 3.304191614380713\n",
            "7  \t [-5.12       1.8046791]\t 38.81317868649198\t 20.395145364684023\t 3.3369153353542904\t 3.186976062790766\n",
            "8  \t [-2.31070733  3.10171229]\t 30.65605330060758\t 20.395145364684023\t 3.8554804537676017\t 3.4873175055197834\n",
            "\u001b[1m\u001b[92m9\u001b[0m\t \u001b[1m\u001b[92m[-1.18604647 -1.98912534]\u001b[0m\t \u001b[1m\u001b[92m11.475610183135492\u001b[0m\t \u001b[1m\u001b[92m11.475610183135492\u001b[0m\t \u001b[1m\u001b[92m4.08867877172265\u001b[0m\t \u001b[1m\u001b[92m3.593644016352856\u001b[0m\n",
            "10 \t [2.32512722 4.3641745 ]\t 55.57338441579203\t 11.475610183135492\t 3.208640319690179\t 2.9078277673005974\n",
            "11 \t [5.12       2.01172955]\t 32.99891489290742\t 11.475610183135492\t 3.3768793234253334\t 3.0669119668820293\n",
            "12 \t [-0.58774371 -5.12      ]\t 47.78854713151647\t 11.475610183135492\t 3.1822700273647544\t 2.790985279869535\n",
            "13 \t [ 2.51459842 -1.52793031]\t 48.462147488839946\t 11.475610183135492\t 3.3242443022616883\t 2.5130764831451637\n",
            "14 \t [ 2.54666387 -5.12      ]\t 54.98345631100392\t 11.475610183135492\t 3.196154478599168\t 3.0493648171585237\n",
            "15 \t [-0.09099593  2.36455633]\t 23.782005439990023\t 11.475610183135492\t 3.05232538322839\t 2.7472267974106384\n",
            "\u001b[1m\u001b[92m16\u001b[0m\t \u001b[1m\u001b[92m[-0.17378711 -0.83566433]\u001b[0m\t \u001b[1m\u001b[92m10.994563854655413\u001b[0m\t \u001b[1m\u001b[92m10.994563854655413\u001b[0m\t \u001b[1m\u001b[92m2.806537164607765\u001b[0m\t \u001b[1m\u001b[92m2.3128736177830906\u001b[0m\n",
            "17 \t [-5.12 -5.12]\t 57.849427451571785\t 10.994563854655413\t 3.0250865861580443\t 3.007882370732543\n",
            "18 \t [-2.64973294  5.12      ]\t 51.837218050152714\t 10.994563854655413\t 2.8688529009277013\t 2.97398111791936\n",
            "19 \t [-2.21848279 -2.04128064]\t 17.455618090119774\t 10.994563854655413\t 2.665491505052914\t 2.3810812042009655\n",
            "20 \t [-0.13846559 -1.55992202]\t 25.303869187840014\t 10.994563854655413\t 2.9191929289703267\t 2.7887726752909017\n"
          ]
        }
      ],
      "source": [
        "### ESTIMATED GP EI GRADIENTS\n",
        "\n",
        "np.random.seed(run_num_17)\n",
        "surrogate_approx_17 = dGaussianProcess(cov_func, optimize=opt)\n",
        "\n",
        "approx_17 = GPGO_multi(surrogate_approx_17, Acquisition_grad(util), objfunc, param)\n",
        "approx_17.run(init_evals=n_init, max_iter=iters)\n"
      ]
    },
    {
      "cell_type": "code",
      "execution_count": 30,
      "metadata": {
        "id": "f0HIEP3PIUEa",
        "colab": {
          "base_uri": "https://localhost:8080/"
        },
        "outputId": "42b88ec0-bf6f-4441-eeb1-f7bc7e062780"
      },
      "outputs": [
        {
          "output_type": "stream",
          "name": "stdout",
          "text": [
            "Evaluation \t Proposed point \t  Current eval. \t  Best eval. \t        Exact EI: StdDev. x \t Approx EI: StdDev. x \n",
            "init\t [1.53983224 0.05584255]\t 22.67190580753611\t 22.67190580753611\t    \t    \n",
            "init\t [ 3.87687906 -3.25795609]\t 38.990099416711985\t 22.67190580753611\t    \t    \n",
            "init\t [3.60686662 2.56139557]\t 56.66448698782129\t 22.67190580753611\t    \t    \n",
            "init\t [1.70088108 4.99604939]\t 40.894059318256296\t 22.67190580753611\t    \t    \n",
            "init\t [-2.48864335 -4.83014733]\t 54.6725749848372\t 22.67190580753611\t    \t    \n",
            "1  \t [-5.12        2.10205646]\t 35.329806981264156\t 22.67190580753611\t 3.502489139117973\t 4.013337710964538\n",
            "2  \t [-2.46249897  5.12      ]\t 54.71229896676769\t 22.67190580753611\t 3.3668534570397237\t 3.1718958287991774\n",
            "3  \t [-2.31060743 -0.70591316]\t 32.2886926389127\t 22.67190580753611\t 4.400503767866026\t 3.545888108101491\n",
            "4  \t [ 1.04805566 -5.12      ]\t 30.475528403629312\t 22.67190580753611\t 4.350248518791613\t 3.8153635635771725\n",
            "5  \t [-5.12       -2.45342851]\t 54.51894691997906\t 22.67190580753611\t 3.7453904543518726\t 3.7976085739581507\n",
            "6  \t [-0.69696348  2.25257308]\t 28.99255657496657\t 22.67190580753611\t 3.3316756172110584\t 3.208905154992893\n",
            "7  \t [ 5.12       -0.35164303]\t 45.00942292790282\t 22.67190580753611\t 4.338246560331117\t 3.6870496104388515\n",
            "8  \t [5.12 5.12]\t 57.849427451571785\t 22.67190580753611\t 4.062929036397728\t 3.7388828619863017\n",
            "9  \t [ 0.15291077 -2.40801172]\t 28.468667642621206\t 22.67190580753611\t 2.8546059423169297\t 3.5139102158633357\n",
            "10 \t [-5.12  5.12]\t 57.849427451571785\t 22.67190580753611\t 3.6406515075435686\t 3.6017761777826474\n",
            "11 \t [ 5.12 -5.12]\t 57.849427451571785\t 22.67190580753611\t 3.5121823034812008\t 3.0371868470947585\n",
            "12 \t [-5.12 -5.12]\t 57.849427451571785\t 22.67190580753611\t 3.3928697640186964\t 3.2463882667730597\n",
            "\u001b[1m\u001b[92m13\u001b[0m\t \u001b[1m\u001b[92m[-2.86833301  1.88954843]\u001b[0m\t \u001b[1m\u001b[92m17.341967234694057\u001b[0m\t \u001b[1m\u001b[92m17.341967234694057\u001b[0m\t \u001b[1m\u001b[92m2.6255799234339046\u001b[0m\t \u001b[1m\u001b[92m2.6013841121711563\u001b[0m\n",
            "14 \t [ 2.49766581 -1.57551121]\t 47.61493159725018\t 17.341967234694057\t 2.0891952538408907\t 2.6244695290629276\n",
            "15 \t [-5.12       -0.05581187]\t 29.536422835107572\t 17.341967234694057\t 3.093553209432647\t 3.0802384078959952\n",
            "16 \t [1.22676013 2.3057882 ]\t 28.80051243777016\t 17.341967234694057\t 2.2839016939356163\t 2.4312307321330375\n",
            "\u001b[1m\u001b[92m17\u001b[0m\t \u001b[1m\u001b[92m[-0.33017234  0.00783761]\u001b[0m\t \u001b[1m\u001b[92m14.948221318417325\u001b[0m\t \u001b[1m\u001b[92m14.948221318417325\u001b[0m\t \u001b[1m\u001b[92m3.374505326947611\u001b[0m\t \u001b[1m\u001b[92m3.1340824162172556\u001b[0m\n",
            "18 \t [-0.28956946  5.12      ]\t 41.46925240211432\t 14.948221318417325\t 3.1241866455934315\t 3.1625097544918748\n",
            "19 \t [-2.16220755 -2.62671613]\t 33.32854739660544\t 14.948221318417325\t 2.765410395676993\t 2.9476956321099514\n",
            "20 \t [ 2.76420632 -5.12      ]\t 45.674125746482915\t 14.948221318417325\t 2.8911873891066975\t 3.31569913575579\n"
          ]
        }
      ],
      "source": [
        "### ESTIMATED GP EI GRADIENTS\n",
        "\n",
        "np.random.seed(run_num_18)\n",
        "surrogate_approx_18 = dGaussianProcess(cov_func, optimize=opt)\n",
        "\n",
        "approx_18 = GPGO_multi(surrogate_approx_18, Acquisition_grad(util), objfunc, param)\n",
        "approx_18.run(init_evals=n_init, max_iter=iters)\n"
      ]
    },
    {
      "cell_type": "code",
      "execution_count": 31,
      "metadata": {
        "id": "S3mxRQDLIUPC",
        "colab": {
          "base_uri": "https://localhost:8080/"
        },
        "outputId": "5ce925dc-ea26-4186-be37-ddc889ba9a9b"
      },
      "outputs": [
        {
          "output_type": "stream",
          "name": "stdout",
          "text": [
            "Evaluation \t Proposed point \t  Current eval. \t  Best eval. \t        Exact EI: StdDev. x \t Approx EI: StdDev. x \n",
            "init\t [-4.12125592  2.6751971 ]\t 41.43485596167127\t 25.867003842388073\t    \t    \n",
            "init\t [-2.59135515 -3.70553152]\t 51.60126035043229\t 25.867003842388073\t    \t    \n",
            "init\t [-1.72598719 -4.27008445]\t 43.97430127029199\t 25.867003842388073\t    \t    \n",
            "init\t [1.76104531 3.13952049]\t 25.867003842388073\t 25.867003842388073\t    \t    \n",
            "init\t [4.9432772  1.38916592]\t 44.66580306903559\t 25.867003842388073\t    \t    \n",
            "1  \t [ 5.12 -5.12]\t 57.849427451571785\t 25.867003842388073\t 3.450327871954063\t 4.538788353589094\n",
            "2  \t [ 1.77610555 -1.68637021]\t 28.257800696860357\t 25.867003842388073\t 3.7487297990473207\t 3.4808506990220858\n",
            "3  \t [5.12 5.12]\t 57.849427451571785\t 25.867003842388073\t 4.374234056734074\t 4.37226606570533\n",
            "4  \t [-1.28669658  5.12      ]\t 42.865640128605456\t 25.867003842388073\t 3.0132444438023898\t 2.993906385310809\n",
            "5  \t [-5.12       -0.97841466]\t 29.973838378434763\t 25.867003842388073\t 3.0519780681308006\t 3.0333015833083024\n",
            "\u001b[1m\u001b[92m6\u001b[0m\t \u001b[1m\u001b[92m[-1.20071904  0.35658574]\u001b[0m\t \u001b[1m\u001b[92m24.729200877054538\u001b[0m\t \u001b[1m\u001b[92m24.729200877054538\u001b[0m\t \u001b[1m\u001b[92m3.3376548386238767\u001b[0m\t \u001b[1m\u001b[92m3.092694716895189\u001b[0m\n",
            "7  \t [ 1.54013895 -5.12      ]\t 50.98039839956516\t 24.729200877054538\t 3.5014663288148915\t 3.569207996303029\n",
            "8  \t [ 5.12       -1.82150339]\t 37.89951571903204\t 24.729200877054538\t 3.187864919084383\t 2.996025070692344\n",
            "9  \t [-5.12 -5.12]\t 57.849427451571785\t 24.729200877054538\t 3.6105257765991983\t 3.732702739679428\n",
            "10 \t [-5.12  5.12]\t 57.849427451571785\t 24.729200877054538\t 2.799834716146235\t 3.4745737622401074\n",
            "\u001b[1m\u001b[92m11\u001b[0m\t \u001b[1m\u001b[92m[1.81512714 0.74351998]\u001b[0m\t \u001b[1m\u001b[92m20.275738798980814\u001b[0m\t \u001b[1m\u001b[92m20.275738798980814\u001b[0m\t \u001b[1m\u001b[92m2.7582274874448114\u001b[0m\t \u001b[1m\u001b[92m2.678489724129531\u001b[0m\n",
            "12 \t [2.02694749 5.12      ]\t 33.17622737939979\t 20.275738798980814\t 2.7812363178369486\t 2.720053456474549\n",
            "13 \t [-0.86390524  2.59077202]\t 29.314254696174135\t 20.275738798980814\t 2.6986543716162483\t 2.519844146892603\n",
            "14 \t [-0.58607405 -1.85538197]\t 26.210780323769423\t 20.275738798980814\t 2.5885565409700875\t 2.9275995329496802\n",
            "\u001b[1m\u001b[92m15\u001b[0m\t \u001b[1m\u001b[92m[-3.21486993  0.05283628]\u001b[0m\t \u001b[1m\u001b[92m18.694784692820306\u001b[0m\t \u001b[1m\u001b[92m18.694784692820306\u001b[0m\t \u001b[1m\u001b[92m2.9366849073358083\u001b[0m\t \u001b[1m\u001b[92m3.084147224083035\u001b[0m\n",
            "16 \t [ 3.23902693 -3.27858634]\t 42.33800220812209\t 18.694784692820306\t 2.7505874902722818\t 2.691904946313715\n",
            "17 \t [-5.12       -2.80416551]\t 43.45005774931359\t 18.694784692820306\t 2.4766768949292994\t 3.0507365989493334\n",
            "18 \t [ 3.37955728 -0.28975071]\t 41.24770340285519\t 18.694784692820306\t 2.67417685725097\t 2.5183170670432085\n",
            "19 \t [3.66248796 3.14300345]\t 42.290211260277424\t 18.694784692820306\t 2.608949096530492\t 2.4372625283211375\n",
            "20 \t [-5.12        0.93865554]\t 30.539451659711055\t 18.694784692820306\t 2.4167434852663496\t 2.810161991241569\n"
          ]
        }
      ],
      "source": [
        "### ESTIMATED GP EI GRADIENTS\n",
        "\n",
        "np.random.seed(run_num_19)\n",
        "surrogate_approx_19 = dGaussianProcess(cov_func, optimize=opt)\n",
        "\n",
        "approx_19 = GPGO_multi(surrogate_approx_19, Acquisition_grad(util), objfunc, param)\n",
        "approx_19.run(init_evals=n_init, max_iter=iters)\n"
      ]
    },
    {
      "cell_type": "code",
      "execution_count": 32,
      "metadata": {
        "id": "Aawd59dRIUYn",
        "colab": {
          "base_uri": "https://localhost:8080/"
        },
        "outputId": "7aa3bebd-e35b-4aa2-d93e-0f1b74651c94"
      },
      "outputs": [
        {
          "output_type": "stream",
          "name": "stdout",
          "text": [
            "Evaluation \t Proposed point \t  Current eval. \t  Best eval. \t        Exact EI: StdDev. x \t Approx EI: StdDev. x \n",
            "init\t [0.9024594  4.07258857]\t 20.24255447774017\t 17.388691338534382\t    \t    \n",
            "init\t [4.00927467 3.23417577]\t 35.55852254546393\t 17.388691338534382\t    \t    \n",
            "init\t [-4.75249064  1.96359764]\t 36.54582989269194\t 17.388691338534382\t    \t    \n",
            "init\t [-1.24230715  0.18955208]\t 17.388691338534382\t 17.388691338534382\t    \t    \n",
            "init\t [ 1.61742301 -3.13497377]\t 33.22932870179905\t 17.388691338534382\t    \t    \n",
            "1  \t [-5.12 -5.12]\t 57.849427451571785\t 17.388691338534382\t 3.796314649232061\t 3.80892600271981\n",
            "2  \t [ 5.12       -0.92646264]\t 30.831636408205867\t 17.388691338534382\t 3.310078439393854\t 3.967625236196849\n",
            "3  \t [ 5.12 -5.12]\t 57.849427451571785\t 17.388691338534382\t 3.01147735844063\t 3.213985145304966\n",
            "4  \t [-2.70368996  5.12      ]\t 49.10351295059661\t 17.388691338534382\t 2.7293384310765103\t 3.5148785754086687\n",
            "5  \t [-1.34011193 -5.12      ]\t 46.0848184885253\t 17.388691338534382\t 3.1764427127936816\t 2.9825828120055586\n",
            "6  \t [-4.41681515 -1.56024818]\t 59.89955875979777\t 17.388691338534382\t 3.5834773595642133\t 3.622223675961249\n",
            "7  \t [1.91138288 0.46614041]\t 25.15570172069959\t 17.388691338534382\t 3.7616964606644836\t 3.5833027615418667\n",
            "8  \t [-1.24979251 -2.24022712]\t 25.953899396092048\t 17.388691338534382\t 3.4058894807496274\t 3.1785791673949593\n",
            "9  \t [-1.34785265  2.53662839]\t 43.7556952108585\t 17.388691338534382\t 3.726487972434443\t 3.5095471865510417\n",
            "10 \t [-5.12  5.12]\t 57.849427451571785\t 17.388691338534382\t 3.4756000926640045\t 3.556925461083296\n",
            "11 \t [2.81009534 5.12      ]\t 43.13453488443848\t 17.388691338534382\t 3.806912321006995\t 3.549425234955821\n",
            "12 \t [ 2.24024765 -5.12      ]\t 43.33104871787925\t 17.388691338534382\t 3.340194158570389\t 3.622038317257894\n",
            "13 \t [5.12       1.32212775]\t 45.05111081240407\t 17.388691338534382\t 3.330407295965246\t 3.314170373146076\n",
            "14 \t [5.12 5.12]\t 57.849427451571785\t 17.388691338534382\t 3.391959758716664\t 2.965753085608127\n",
            "15 \t [ 3.91404895 -2.66535791]\t 38.91810844413524\t 17.388691338534382\t 2.4031570794410078\t 2.831448147917518\n",
            "16 \t [-0.28396331  5.12      ]\t 41.123167200194054\t 17.388691338534382\t 2.5700723206284\t 2.6239392172765186\n",
            "17 \t [1.4491349 2.3988669]\t 45.396300239751895\t 17.388691338534382\t 2.6289090157094503\t 1.9242213842189793\n",
            "18 \t [ 0.62540563 -1.01800886]\t 18.544447045874648\t 17.388691338534382\t 2.8520159114408576\t 2.7394620501911193\n",
            "19 \t [-2.95751871  0.49057962]\t 29.32418882077652\t 17.388691338534382\t 2.9983433098526855\t 2.66664109794477\n",
            "20 \t [-3.09361955 -3.62444573]\t 41.48349192832917\t 17.388691338534382\t 2.6927129830051073\t 2.6112266950559375\n"
          ]
        }
      ],
      "source": [
        "### ESTIMATED GP EI GRADIENTS\n",
        "\n",
        "np.random.seed(run_num_20)\n",
        "surrogate_approx_20 = dGaussianProcess(cov_func, optimize=opt)\n",
        "\n",
        "approx_20 = GPGO_multi(surrogate_approx_20, Acquisition_grad(util), objfunc, param)\n",
        "approx_20.run(init_evals=n_init, max_iter=iters)\n"
      ]
    },
    {
      "cell_type": "code",
      "execution_count": 33,
      "metadata": {
        "id": "xkgzPRbBTHaq",
        "colab": {
          "base_uri": "https://localhost:8080/"
        },
        "outputId": "500dab45-18cf-4da2-d4d9-06ab66ca6d65"
      },
      "outputs": [
        {
          "output_type": "execute_result",
          "data": {
            "text/plain": [
              "1659613618.8548298"
            ]
          },
          "metadata": {},
          "execution_count": 33
        }
      ],
      "source": [
        "end_approx = time.time()\n",
        "end_approx\n",
        "\n",
        "time_approx = end_approx - start_approx\n",
        "time_approx\n",
        "\n",
        "start_exact = time.time()\n",
        "start_exact"
      ]
    },
    {
      "cell_type": "code",
      "execution_count": 34,
      "metadata": {
        "id": "7CG3Ndvb16Rb",
        "colab": {
          "base_uri": "https://localhost:8080/"
        },
        "outputId": "40bf894a-bd3c-4649-8281-e18c25cc0dfc"
      },
      "outputs": [
        {
          "output_type": "stream",
          "name": "stdout",
          "text": [
            "Evaluation \t Proposed point \t  Current eval. \t  Best eval. \t        Exact EI: StdDev. x \t Approx EI: StdDev. x \n",
            "init\t [-0.84969467  2.25612281]\t 20.33436270766351\t 19.908403246996286\t    \t    \n",
            "init\t [-5.1188288  -2.02411446]\t 33.07414982069084\t 19.908403246996286\t    \t    \n",
            "init\t [-3.61721968 -4.17445279]\t 53.347974723929894\t 19.908403246996286\t    \t    \n",
            "init\t [-3.21269544 -1.58145816]\t 39.218472310354045\t 19.908403246996286\t    \t    \n",
            "init\t [-1.05710106  0.39748336]\t 19.908403246996286\t 19.908403246996286\t    \t    \n",
            "1  \t [ 4.04077223 -4.24914728]\t 44.655863836006326\t 19.908403246996286\t 3.968766121081266\t 4.417340655432655\n",
            "2  \t [5.12 5.12]\t 57.849427451571785\t 19.908403246996286\t 3.2419678726648455\t 3.6838171650274965\n",
            "3  \t [4.33744349 0.432798  ]\t 53.344410128242544\t 19.908403246996286\t 3.5799938235602387\t 4.28347784644832\n",
            "4  \t [-5.12        4.36680096]\t 64.69123843795754\t 19.908403246996286\t 3.605113149579483\t 4.335166522670862\n",
            "5  \t [ 0.15769158 -5.09614947]\t 32.285447952253\t 19.908403246996286\t 3.329084328534446\t 3.669432011195251\n",
            "6  \t [1.14453864 5.12      ]\t 34.082732834665336\t 19.908403246996286\t 3.1391459621008138\t 3.3987488282688685\n",
            "7  \t [ 1.31267743 -1.72405678]\t 30.155476940398223\t 19.908403246996286\t 3.3318756973342603\t 3.343025529927595\n",
            "8  \t [-4.10739872  1.26622556]\t 31.683487300375575\t 19.908403246996286\t 3.2847452699593713\t 3.70026554613865\n",
            "9  \t [-1.80418265  5.01629981]\t 35.13172156440348\t 19.908403246996286\t 3.130059571025986\t 3.7616925316287944\n",
            "10 \t [1.43547837 2.68579275]\t 42.38923907785543\t 19.908403246996286\t 3.232368130188033\t 3.4679422157873305\n",
            "11 \t [-1.024038   -2.45601624]\t 26.81506619013562\t 19.908403246996286\t 3.4200395382437434\t 3.6465973640513383\n",
            "12 \t [ 5.12       -1.99028245]\t 32.904572054647616\t 19.908403246996286\t 3.5419795816110082\t 3.529232524936176\n",
            "13 \t [3.95610073 2.93943604]\t 25.38435272623046\t 19.908403246996286\t 3.0293810158995007\t 3.257347416341244\n",
            "14 \t [1.38617381 0.40255192]\t 37.81657844327279\t 19.908403246996286\t 3.190439403574592\t 3.5593419157022144\n",
            "15 \t [-2.47234479  2.64661596]\t 49.01500509838675\t 19.908403246996286\t 3.176507659089912\t 3.285112720460902\n",
            "16 \t [ 1.67108194 -3.60529414]\t 48.43872428213943\t 19.908403246996286\t 3.929655517298753\t 3.4851803911764168\n",
            "17 \t [-5.12 -5.12]\t 57.849427451571785\t 19.908403246996286\t 3.624460777476498\t 3.753623833682276\n",
            "18 \t [-1.84363535 -4.76249809]\t 39.74619653591705\t 19.908403246996286\t 3.0678001399354846\t 3.0218295659098566\n",
            "19 \t [3.03015577 5.08323948]\t 36.536932544703106\t 19.908403246996286\t 3.0943937147352214\t 3.695399245734657\n",
            "20 \t [-5.12000000e+00  4.08425346e-04]\t 28.92474681980258\t 19.908403246996286\t 3.066504545258361\t 3.2620224988473994\n"
          ]
        }
      ],
      "source": [
        "### EXACT GP EI GRADIENTS\n",
        "\n",
        "np.random.seed(run_num_1)\n",
        "surrogate_exact_1 = dGaussianProcess(cov_func, optimize=opt)\n",
        "\n",
        "exact_1 = dGPGO(surrogate_exact_1, Acquisition_grad(util), objfunc, param)\n",
        "exact_1.run(init_evals=n_init, max_iter=iters)\n"
      ]
    },
    {
      "cell_type": "code",
      "execution_count": 35,
      "metadata": {
        "id": "-ilCPSAu9SAg",
        "colab": {
          "base_uri": "https://localhost:8080/"
        },
        "outputId": "c39d20a3-bebf-406f-ad0d-3e022442c742"
      },
      "outputs": [
        {
          "output_type": "stream",
          "name": "stdout",
          "text": [
            "Evaluation \t Proposed point \t  Current eval. \t  Best eval. \t        Exact EI: StdDev. x \t Approx EI: StdDev. x \n",
            "init\t [-0.6554122  -4.85451539]\t 43.490296251903594\t 18.964539418712707\t    \t    \n",
            "init\t [ 0.50854377 -0.6622987 ]\t 35.91861667536101\t 18.964539418712707\t    \t    \n",
            "init\t [-0.81543371 -1.73737143]\t 20.479562046739524\t 18.964539418712707\t    \t    \n",
            "init\t [-3.02439799  1.2213347 ]\t 18.964539418712707\t 18.964539418712707\t    \t    \n",
            "init\t [-2.05153614 -2.3876887 ]\t 28.041315668371354\t 18.964539418712707\t    \t    \n",
            "1  \t [5.12       3.79058262]\t 50.77089119709249\t 18.964539418712707\t 4.107772070305577\t 4.484837821956213\n",
            "2  \t [ 4.8426374  -3.96513962]\t 43.91494982240336\t 18.964539418712707\t 3.562444532323405\t 4.3679359612870305\n",
            "3  \t [0.07192172 5.12      ]\t 29.933685188852706\t 18.964539418712707\t 3.818261375216128\t 4.079724757307048\n",
            "4  \t [-5.12 -5.12]\t 57.849427451571785\t 18.964539418712707\t 3.7432034885076\t 4.225576352173871\n",
            "5  \t [ 4.59349575 -0.07218847]\t 40.44010539027009\t 18.964539418712707\t 2.786100781265953\t 3.6557432886467796\n",
            "6  \t [-3.91737664  4.88361111]\t 43.06990976462939\t 18.964539418712707\t 3.1635943779907834\t 3.6661548723843924\n",
            "7  \t [-5.12       -1.25907101]\t 41.07961364023437\t 18.964539418712707\t 3.0485071036405067\t 3.363715187394551\n",
            "8  \t [1.21915537 2.47386203]\t 35.54586282014931\t 18.964539418712707\t 2.8843318319156728\t 2.5337610466518203\n",
            "9  \t [2.92833189 4.73591641]\t 42.88462753435191\t 18.964539418712707\t 3.4636704733274435\t 3.7535510571109656\n",
            "10 \t [ 1.96058274 -3.20105963]\t 21.369013127520887\t 18.964539418712707\t 2.641200079828924\t 3.1107487335428345\n",
            "11 \t [-1.72859059  3.20560299]\t 31.85154721603225\t 18.964539418712707\t 3.465873923214521\t 3.191519734458977\n",
            "12 \t [ 2.9040523  -1.51694656]\t 32.440822281872606\t 18.964539418712707\t 2.316929265384781\t 2.753784725062254\n",
            "13 \t [ 1.66049265 -4.96039671]\t 43.00287785938545\t 18.964539418712707\t 3.3634303018405265\t 3.545262974249343\n",
            "14 \t [-4.99831434  1.60737689]\t 45.37650566911981\t 18.964539418712707\t 3.310251571110233\t 3.8062451045156944\n",
            "15 \t [-1.46025746  1.01097184]\t 22.868010780594293\t 18.964539418712707\t 3.2863577831378135\t 3.3355951580549807\n",
            "16 \t [-2.86264666 -5.11492505]\t 40.351495188498575\t 18.964539418712707\t 3.1794805152036574\t 2.9946474749714507\n",
            "17 \t [3.34026269 1.81361455]\t 35.92731048853902\t 18.964539418712707\t 2.8148980018719034\t 3.2498193587765676\n",
            "18 \t [-2.87051238 -0.57889849]\t 30.502259492777462\t 18.964539418712707\t 2.871699377913361\t 2.9740045497625593\n",
            "19 \t [-5.12       -3.05916295]\t 38.966194662981216\t 18.964539418712707\t 3.257227265622906\t 2.96344531634108\n",
            "20 \t [-5.083233    3.50723547]\t 59.46622169136021\t 18.964539418712707\t 3.405041643978989\t 3.393139206940708\n"
          ]
        }
      ],
      "source": [
        "### EXACT GP EI GRADIENTS\n",
        "\n",
        "np.random.seed(run_num_2)\n",
        "surrogate_exact_2 = dGaussianProcess(cov_func, optimize=opt)\n",
        "\n",
        "exact_2 = dGPGO(surrogate_exact_2, Acquisition_grad(util), objfunc, param)\n",
        "exact_2.run(init_evals=n_init, max_iter=iters)\n"
      ]
    },
    {
      "cell_type": "code",
      "execution_count": 36,
      "metadata": {
        "id": "XieJ158mIvlP",
        "colab": {
          "base_uri": "https://localhost:8080/"
        },
        "outputId": "66bcb599-d71a-4498-8df1-1d6be93a85b2"
      },
      "outputs": [
        {
          "output_type": "stream",
          "name": "stdout",
          "text": [
            "Evaluation \t Proposed point \t  Current eval. \t  Best eval. \t        Exact EI: StdDev. x \t Approx EI: StdDev. x \n",
            "init\t [0.52017052 2.1314337 ]\t 27.953858411008774\t 10.607662635789808\t    \t    \n",
            "init\t [-2.14113547  0.11087468]\t 10.607662635789808\t 10.607662635789808\t    \t    \n",
            "init\t [4.02377681 4.05804123]\t 33.42749829480097\t 10.607662635789808\t    \t    \n",
            "init\t [-3.83400642 -2.99783293]\t 28.650953928965198\t 10.607662635789808\t    \t    \n",
            "init\t [-4.59297584 -0.6061072 ]\t 57.6631355589384\t 10.607662635789808\t    \t    \n",
            "1  \t [ 1.67759318 -3.17566744]\t 32.79081619438729\t 10.607662635789808\t 2.6362148863994843\t 3.748253474268059\n",
            "2  \t [-3.55868405  4.82551581]\t 60.708961282145246\t 10.607662635789808\t 3.248232331239969\t 4.227349551174719\n",
            "3  \t [ 5.12      -0.3507253]\t 44.96238197718422\t 10.607662635789808\t 3.321829185884769\t 3.407400549068343\n",
            "4  \t [-1.57258335 -5.10192032]\t 49.46191739291357\t 10.607662635789808\t 3.484086767576093\t 3.491727043201281\n",
            "5  \t [ 4.60130562 -3.45104534]\t 70.65406330267014\t 10.607662635789808\t 3.4110944382411845\t 3.28446149154676\n",
            "6  \t [1.39442511 5.02099968]\t 45.121139687836546\t 10.607662635789808\t 3.65030338411646\t 2.9777465942619528\n",
            "7  \t [-5.12 -5.12]\t 57.849427451571785\t 10.607662635789808\t 3.738740906713786\t 2.7610828264369878\n",
            "8  \t [ 1.77493964 -0.2518877 ]\t 21.771864555434156\t 10.607662635789808\t 3.0971911246777175\t 3.0620888129536827\n",
            "9  \t [-2.40026603  2.1748725 ]\t 34.04428960044136\t 10.607662635789808\t 2.6530679159989323\t 2.570819217645557\n",
            "10 \t [-0.5930262  -2.40244595]\t 42.64284633340007\t 10.607662635789808\t 3.25769325883644\t 3.3747491698514365\n",
            "11 \t [3.34863025 1.67261288]\t 44.49199600977465\t 10.607662635789808\t 3.0700307969583003\t 3.389580937721941\n",
            "12 \t [ 2.11690505 -5.08843091]\t 34.456303959661774\t 10.607662635789808\t 3.0609071751852013\t 3.0290540787183056\n",
            "13 \t [-4.95344287  2.14008376]\t 33.171188903009735\t 10.607662635789808\t 3.384361351347117\t 3.197577760008973\n",
            "14 \t [-0.25672789 -0.12315258]\t 13.351007263103071\t 10.607662635789808\t 3.0645765612448614\t 2.943323471379473\n",
            "15 \t [-1.01330751  5.12      ]\t 29.9864415743168\t 10.607662635789808\t 3.060642764587172\t 3.457045056055087\n",
            "16 \t [5.12 5.12]\t 57.849427451571785\t 10.607662635789808\t 3.0687043949744166\t 3.195934237305291\n",
            "17 \t [-2.11976583 -0.62790959]\t 24.528551053236477\t 10.607662635789808\t 2.782946172260879\t 2.5926687581485335\n",
            "18 \t [-0.64045276  0.56933831]\t 36.152514655895395\t 10.607662635789808\t 3.0083042119223196\t 3.2292398566812484\n",
            "19 \t [5.12      2.4692841]\t 54.83642225451931\t 10.607662635789808\t 2.993166570743031\t 3.524128286095503\n",
            "20 \t [ 2.67169968 -1.11975834]\t 25.8154453929145\t 10.607662635789808\t 2.4681669457517263\t 3.051218308311678\n"
          ]
        }
      ],
      "source": [
        "### EXACT GP EI GRADIENTS\n",
        "\n",
        "np.random.seed(run_num_3)\n",
        "surrogate_exact_3 = dGaussianProcess(cov_func, optimize=opt)\n",
        "\n",
        "exact_3 = dGPGO(surrogate_exact_3, Acquisition_grad(util), objfunc, param)\n",
        "exact_3.run(init_evals=n_init, max_iter=iters)\n"
      ]
    },
    {
      "cell_type": "code",
      "execution_count": 37,
      "metadata": {
        "id": "PhLBVOIfIvol",
        "colab": {
          "base_uri": "https://localhost:8080/"
        },
        "outputId": "1c87e4c7-8449-44e9-bae6-26a0e84868f4"
      },
      "outputs": [
        {
          "output_type": "stream",
          "name": "stdout",
          "text": [
            "Evaluation \t Proposed point \t  Current eval. \t  Best eval. \t        Exact EI: StdDev. x \t Approx EI: StdDev. x \n",
            "init\t [4.78238555 0.48365823]\t 51.03163809010808\t 14.323038259018315\t    \t    \n",
            "init\t [4.84028785 2.19971578]\t 39.78645699016559\t 14.323038259018315\t    \t    \n",
            "init\t [ 2.02474316 -2.90724357]\t 14.323038259018315\t 14.323038259018315\t    \t    \n",
            "init\t [ 4.87705042 -5.05620219]\t 52.80627247106233\t 14.323038259018315\t    \t    \n",
            "init\t [-2.52946061 -0.66773471]\t 41.61497868486559\t 14.323038259018315\t    \t    \n",
            "1  \t [-2.37593926  5.12      ]\t 51.682475782417484\t 14.323038259018315\t 3.1114428188171592\t 3.954252676181088\n",
            "2  \t [-5.12 -5.12]\t 57.849427451571785\t 14.323038259018315\t 3.919815020863657\t 3.1656690037290747\n",
            "3  \t [1.96075502 5.12      ]\t 33.07175374525896\t 14.323038259018315\t 3.2927224031890154\t 3.372587089662072\n",
            "4  \t [0.79127659 1.31343849]\t 23.667976570604065\t 14.323038259018315\t 3.3240329068530303\t 3.5324613265758837\n",
            "5  \t [-1.08833013 -4.87479297]\t 29.387172349591154\t 14.323038259018315\t 3.1717480892245447\t 3.4633564695874117\n",
            "6  \t [5.12 5.12]\t 57.849427451571785\t 14.323038259018315\t 3.1287962739566444\t 3.4924792373273186\n",
            "7  \t [-5.12       -1.84843169]\t 36.543565483758904\t 14.323038259018315\t 2.381915225053141\t 3.217133289188623\n",
            "8  \t [-3.18235306  2.10393102]\t 22.487802657603762\t 14.323038259018315\t 2.3510777582329405\t 3.2066456347041257\n",
            "\u001b[1m\u001b[92m9\u001b[0m\t \u001b[1m\u001b[92m[ 2.03147824 -0.76219726]\u001b[0m\t \u001b[1m\u001b[92m14.137176713029609\u001b[0m\t \u001b[1m\u001b[92m14.137176713029609\u001b[0m\t \u001b[1m\u001b[92m2.483572323236235\u001b[0m\t \u001b[1m\u001b[92m2.7186658581889236\u001b[0m\n",
            "10 \t [ 4.49925806 -2.18621233]\t 51.121282290516845\t 14.137176713029609\t 2.7638277548630823\t 3.269579182491149\n",
            "11 \t [-0.28369163 -1.90698955]\t 17.47779971603191\t 14.137176713029609\t 2.8544519853850976\t 3.817317163216175\n",
            "12 \t [ 1.38821255 -4.9510036 ]\t 44.54276845153296\t 14.137176713029609\t 2.7602682363446025\t 3.6361193448561107\n",
            "13 \t [-0.1407541   3.35280024]\t 30.94269822182789\t 14.137176713029609\t 2.4778249665524634\t 3.0310742701338533\n",
            "14 \t [-2.93273112 -3.28461606]\t 32.427498830724836\t 14.137176713029609\t 2.4888293137443496\t 3.6782048587774487\n",
            "15 \t [-4.67783867  0.34511684]\t 52.00845662996129\t 14.137176713029609\t 2.9919219699696296\t 3.127432441033369\n",
            "16 \t [2.6078937  2.49788176]\t 50.828450958660405\t 14.137176713029609\t 2.7509686930214925\t 3.016545424741875\n",
            "17 \t [-4.18829284  3.50886611]\t 56.057662539468296\t 14.137176713029609\t 3.032813401003295\t 3.6999665111697166\n",
            "18 \t [-1.5063409   1.58059287]\t 43.50446138426804\t 14.137176713029609\t 2.7436880302255258\t 2.8397078756173952\n",
            "19 \t [ 0.40119356 -0.52930566]\t 38.40609676738939\t 14.137176713029609\t 2.962738714499628\t 3.1057837272186073\n",
            "20 \t [ 0.40525086 -3.10651155]\t 30.251312377012283\t 14.137176713029609\t 2.9308483117647275\t 2.993568871872931\n"
          ]
        }
      ],
      "source": [
        "### EXACT GP EI GRADIENTS\n",
        "\n",
        "np.random.seed(run_num_4)\n",
        "surrogate_exact_4 = dGaussianProcess(cov_func, optimize=opt)\n",
        "\n",
        "exact_4 = dGPGO(surrogate_exact_4, Acquisition_grad(util), objfunc, param)\n",
        "exact_4.run(init_evals=n_init, max_iter=iters)\n"
      ]
    },
    {
      "cell_type": "code",
      "execution_count": 38,
      "metadata": {
        "id": "arbiPyj2IvsJ",
        "colab": {
          "base_uri": "https://localhost:8080/"
        },
        "outputId": "693341a0-2465-4eff-90b5-c9064d807d97"
      },
      "outputs": [
        {
          "output_type": "stream",
          "name": "stdout",
          "text": [
            "Evaluation \t Proposed point \t  Current eval. \t  Best eval. \t        Exact EI: StdDev. x \t Approx EI: StdDev. x \n",
            "init\t [-2.84678993  3.79629882]\t 33.93442008827236\t 7.8108627039749745\t    \t    \n",
            "init\t [-3.00319585  4.2865757 ]\t 39.673876075575784\t 7.8108627039749745\t    \t    \n",
            "init\t [-0.11866943  1.14425716]\t 7.8108627039749745\t 7.8108627039749745\t    \t    \n",
            "init\t [2.72289645 0.1886002 ]\t 25.38160395721669\t 7.8108627039749745\t    \t    \n",
            "init\t [-2.08076286 -3.19773462]\t 22.589982116319675\t 7.8108627039749745\t    \t    \n",
            "1  \t [ 4.32894502 -5.09733749]\t 61.29459456639687\t 7.8108627039749745\t 4.547765708816684\t 4.713091772977412\n",
            "2  \t [5.12 5.12]\t 57.849427451571785\t 7.8108627039749745\t 4.395143274205688\t 3.8304242438887446\n",
            "3  \t [-5.12       -0.31192635]\t 42.81552120921353\t 7.8108627039749745\t 3.424441054879014\t 3.7349982291454173\n",
            "4  \t [1.11276445 4.76007737]\t 35.670566143430165\t 7.8108627039749745\t 3.4592258307861767\t 3.462062079220441\n",
            "5  \t [-5.12 -5.12]\t 57.849427451571785\t 7.8108627039749745\t 3.4738971390585136\t 3.4639597095279755\n",
            "6  \t [ 0.39675772 -5.12      ]\t 47.050887099555275\t 7.8108627039749745\t 3.3531600084402413\t 3.514642413981918\n",
            "7  \t [ 5.12       -1.68100108]\t 45.951274194956675\t 7.8108627039749745\t 2.4529131706059557\t 2.680596913830806\n",
            "8  \t [ 0.36506031 -1.61080919]\t 37.01656033743204\t 7.8108627039749745\t 2.8723797790076606\t 2.826995890062527\n",
            "9  \t [5.12       1.87551399]\t 35.3483995511112\t 7.8108627039749745\t 3.18766205669966\t 3.3531754125140893\n",
            "10 \t [-2.50968262  1.00263895]\t 27.286665905108197\t 7.8108627039749745\t 2.8154868802702704\t 3.14134780877066\n",
            "11 \t [-5.12        2.28846656]\t 46.55525560741453\t 7.8108627039749745\t 2.778737965157437\t 3.1514181686751668\n",
            "12 \t [ 2.58213167 -2.99766268]\t 34.35222216431596\t 7.8108627039749745\t 3.042309145486561\t 2.965495238158507\n",
            "13 \t [1.54295635 2.32966985]\t 42.245392949778136\t 7.8108627039749745\t 2.9132072497308563\t 3.0317618961911115\n",
            "14 \t [-4.6668877  -2.59526534]\t 61.764633888586125\t 7.8108627039749745\t 2.5263291183520944\t 2.691016832288521\n",
            "\u001b[1m\u001b[92m15\u001b[0m\t \u001b[1m\u001b[92m[-2.02064412 -1.08259386]\u001b[0m\t \u001b[1m\u001b[92m6.655626983308281\u001b[0m\t \u001b[1m\u001b[92m6.655626983308281\u001b[0m\t \u001b[1m\u001b[92m2.409876457920443\u001b[0m\t \u001b[1m\u001b[92m2.615436538195691\u001b[0m\n",
            "16 \t [-0.8224438   4.02088213]\t 22.533638667556986\t 6.655626983308281\t 2.726030846902301\t 3.32157987492567\n",
            "17 \t [3.19224475 3.88483621]\t 34.23833171017681\t 6.655626983308281\t 2.622207414038847\t 2.9655615558723265\n",
            "18 \t [-2.44538611 -5.12      ]\t 54.321624731129646\t 6.655626983308281\t 2.977079330954453\t 3.0485302971798602\n",
            "19 \t [-2.4196922  -0.97607333]\t 25.674154270347685\t 6.655626983308281\t 2.5946827627521585\t 2.3913834793987103\n",
            "20 \t [-0.98309116  2.17159622]\t 11.009273530074312\t 6.655626983308281\t 2.8761408175542944\t 3.00357138769165\n"
          ]
        }
      ],
      "source": [
        "### EXACT GP EI GRADIENTS\n",
        "\n",
        "np.random.seed(run_num_5)\n",
        "surrogate_exact_5 = dGaussianProcess(cov_func, optimize=opt)\n",
        "\n",
        "exact_5 = dGPGO(surrogate_exact_5, Acquisition_grad(util), objfunc, param)\n",
        "exact_5.run(init_evals=n_init, max_iter=iters)\n"
      ]
    },
    {
      "cell_type": "code",
      "execution_count": 39,
      "metadata": {
        "id": "04KJCEm_Ivvf",
        "colab": {
          "base_uri": "https://localhost:8080/"
        },
        "outputId": "be620daf-c024-47e0-f88b-cbfb97aea45b"
      },
      "outputs": [
        {
          "output_type": "stream",
          "name": "stdout",
          "text": [
            "Evaluation \t Proposed point \t  Current eval. \t  Best eval. \t        Exact EI: StdDev. x \t Approx EI: StdDev. x \n",
            "init\t [ 4.02288795 -1.72052679]\t 31.08835710146886\t 17.28954482757088\t    \t    \n",
            "init\t [ 3.28938622 -4.69302655]\t 58.797867722203385\t 17.28954482757088\t    \t    \n",
            "init\t [-4.0175956   0.97333314]\t 17.28954482757088\t 17.28954482757088\t    \t    \n",
            "init\t [ 0.30532979 -0.83141193]\t 19.296253155889353\t 17.28954482757088\t    \t    \n",
            "init\t [-1.68542362  1.25459899]\t 28.650630936276173\t 17.28954482757088\t    \t    \n",
            "1  \t [5.12 5.12]\t 57.849427451571785\t 17.28954482757088\t 4.472677918711789\t 4.385877122579495\n",
            "2  \t [-5.12 -5.12]\t 57.849427451571785\t 17.28954482757088\t 3.981992141643234\t 4.247353997578747\n",
            "3  \t [0.39239961 5.12      ]\t 46.879049981380305\t 17.28954482757088\t 3.3488394020595016\t 3.913176376308614\n",
            "4  \t [-0.95408494 -4.92186911]\t 26.729297813340416\t 17.28954482757088\t 3.1252574209611974\t 4.23978064900883\n",
            "5  \t [3.88132283 1.66847213]\t 35.40357333585098\t 17.28954482757088\t 2.755187053506103\t 3.3091601398591335\n",
            "6  \t [-3.50135733  4.65921874]\t 69.36710849405449\t 17.28954482757088\t 2.8279717762276526\t 3.3177706767248027\n",
            "7  \t [-2.93001825 -2.19131086]\t 20.73354995532408\t 17.28954482757088\t 2.9556851424534156\t 3.023886927344265\n",
            "\u001b[1m\u001b[92m8\u001b[0m\t \u001b[1m\u001b[92m[1.07553306 2.06715424]\u001b[0m\t \u001b[1m\u001b[92m7.412137046156813\u001b[0m\t \u001b[1m\u001b[92m7.412137046156813\u001b[0m\t \u001b[1m\u001b[92m2.663716802783347\u001b[0m\t \u001b[1m\u001b[92m2.9492520958964876\u001b[0m\n",
            "9  \t [-5.12       -1.60992955]\t 49.22454018711592\t 7.412137046156813\t 2.8097190531659555\t 2.9632196653249343\n",
            "10 \t [ 0.39818689 -2.89160704]\t 28.7735278144756\t 7.412137046156813\t 3.0987877575804816\t 3.208154995682435\n",
            "11 \t [2.8543868 3.5640956]\t 43.95168582413419\t 7.412137046156813\t 3.132246499996522\t 3.1247505269615994\n",
            "12 \t [1.47022114 0.77531512]\t 31.00423299668415\t 7.412137046156813\t 2.880403185254185\t 2.78595720162334\n",
            "13 \t [-0.21745353  2.81863352]\t 21.781299040701573\t 7.412137046156813\t 2.7184357646207635\t 2.7648556408625113\n",
            "14 \t [-4.92313474  2.42023295]\t 50.008644011662\t 7.412137046156813\t 3.1245067256787253\t 2.937817372233235\n",
            "15 \t [-2.83052469 -4.2316744 ]\t 39.92364908503027\t 7.412137046156813\t 3.0534691421132485\t 3.1733022651993603\n",
            "16 \t [-1.74729971 -0.92252376]\t 15.235407365005406\t 7.412137046156813\t 2.8300900621456906\t 2.823283437517072\n",
            "17 \t [5.12      0.0169308]\t 28.98152984191843\t 7.412137046156813\t 3.3556215159125196\t 3.5583794920396654\n",
            "18 \t [ 0.72393115 -5.12      ]\t 41.07942972632672\t 7.412137046156813\t 2.8622332433555617\t 3.0180996818003964\n",
            "19 \t [ 2.14738809 -1.8833903 ]\t 14.714768368319437\t 7.412137046156813\t 3.1697500291371363\t 3.3737306968754432\n",
            "20 \t [ 4.9340119  -3.15179319]\t 39.339231124959305\t 7.412137046156813\t 3.030424466872662\t 3.2910172530605557\n"
          ]
        }
      ],
      "source": [
        "### EXACT GP EI GRADIENTS\n",
        "\n",
        "np.random.seed(run_num_6)\n",
        "surrogate_exact_6 = dGaussianProcess(cov_func, optimize=opt)\n",
        "\n",
        "exact_6 = dGPGO(surrogate_exact_6, Acquisition_grad(util), objfunc, param)\n",
        "exact_6.run(init_evals=n_init, max_iter=iters)\n"
      ]
    },
    {
      "cell_type": "code",
      "execution_count": 40,
      "metadata": {
        "id": "tAOkme3CIvyO",
        "colab": {
          "base_uri": "https://localhost:8080/"
        },
        "outputId": "e5846d4c-1bb4-400f-fee1-0653a3561f8f"
      },
      "outputs": [
        {
          "output_type": "stream",
          "name": "stdout",
          "text": [
            "Evaluation \t Proposed point \t  Current eval. \t  Best eval. \t        Exact EI: StdDev. x \t Approx EI: StdDev. x \n",
            "init\t [-4.33860312  2.86636843]\t 45.646133072936244\t 22.52235437888213\t    \t    \n",
            "init\t [-0.63068947  2.28828342]\t 34.83012662845338\t 22.52235437888213\t    \t    \n",
            "init\t [4.8946126  0.39419771]\t 44.09657005662876\t 22.52235437888213\t    \t    \n",
            "init\t [ 0.01147355 -4.38219639]\t 36.613209822404315\t 22.52235437888213\t    \t    \n",
            "init\t [-2.37118484e+00 -1.20319155e-03]\t 22.52235437888213\t 22.52235437888213\t    \t    \n",
            "1  \t [-5.12 -5.12]\t 57.849427451571785\t 22.52235437888213\t 3.8026491500397324\t 3.8512257441841946\n",
            "2  \t [3.66237484 5.12      ]\t 57.569392297613234\t 22.52235437888213\t 3.867387143110415\t 4.115667816052539\n",
            "3  \t [ 4.52828409 -4.16265128]\t 62.45864721017638\t 22.52235437888213\t 3.6332475740762114\t 4.0007244098615775\n",
            "4  \t [-4.02558214 -1.33646422]\t 33.289738493146906\t 22.52235437888213\t 2.8825638084769176\t 3.046307140328312\n",
            "\u001b[1m\u001b[92m5\u001b[0m\t \u001b[1m\u001b[92m[ 1.30561129 -0.85934528]\u001b[0m\t \u001b[1m\u001b[92m19.524098049117512\u001b[0m\t \u001b[1m\u001b[92m19.524098049117512\u001b[0m\t \u001b[1m\u001b[92m3.0913302411359456\u001b[0m\t \u001b[1m\u001b[92m3.2582186699246614\u001b[0m\n",
            "6  \t [0.11609633 5.12      ]\t 31.482813126571905\t 19.524098049117512\t 2.8997229642284865\t 3.8342798254160186\n",
            "7  \t [2.24434445 2.31532115]\t 34.032510308894345\t 19.524098049117512\t 2.87598286189458\t 3.4799462074500394\n",
            "8  \t [-2.56582402 -3.4758337 ]\t 57.7066762278762\t 19.524098049117512\t 3.038742726740704\t 3.7043183827975974\n",
            "9  \t [-2.37887928  4.82157764]\t 51.80070543635907\t 19.524098049117512\t 3.5385772988883573\t 3.6126985431076655\n",
            "10 \t [5.12       3.01055289]\t 38.010116626139904\t 19.524098049117512\t 3.069396609569087\t 3.2416780407229076\n",
            "11 \t [ 2.15680208 -5.12      ]\t 38.04968210532146\t 19.524098049117512\t 3.033262174660667\t 2.745162113021066\n",
            "12 \t [-5.11292055  5.04211319]\t 54.3260309744776\t 19.524098049117512\t 3.153294759662835\t 3.4021404378695608\n",
            "13 \t [ 3.2419681  -1.77056739]\t 31.852127747330183\t 19.524098049117512\t 3.2641630575117877\t 2.999640151333713\n",
            "14 \t [-0.74632964 -0.77947533]\t 19.55376409843953\t 19.524098049117512\t 3.346836522218169\t 2.8562269282578048\n",
            "15 \t [ 0.52171952 -2.38079273]\t 43.17108477596321\t 19.524098049117512\t 3.4104910243345485\t 2.9374074903522507\n",
            "16 \t [-5.12        0.33751728]\t 44.264543231983346\t 19.524098049117512\t 3.133640715127003\t 2.91843169354742\n",
            "17 \t [1.26169743 0.50194426]\t 32.577391869741945\t 19.524098049117512\t 3.252649468262774\t 3.0166936063057874\n",
            "18 \t [ 5.12       -1.58040355]\t 50.17321262059416\t 19.524098049117512\t 3.776289008667852\t 3.3241573932236546\n",
            "19 \t [-4.89363627 -2.96944867]\t 35.10023543726601\t 19.524098049117512\t 3.3476473798622854\t 3.2811826866992875\n",
            "20 \t [-2.62600488  1.85585522]\t 31.194941008149257\t 19.524098049117512\t 3.2137221632908477\t 2.8557663535713678\n"
          ]
        }
      ],
      "source": [
        "### EXACT GP EI GRADIENTS\n",
        "\n",
        "np.random.seed(run_num_7)\n",
        "surrogate_exact_7 = dGaussianProcess(cov_func, optimize=opt)\n",
        "\n",
        "exact_7 = dGPGO(surrogate_exact_7, Acquisition_grad(util), objfunc, param)\n",
        "exact_7.run(init_evals=n_init, max_iter=iters)\n"
      ]
    },
    {
      "cell_type": "code",
      "execution_count": 41,
      "metadata": {
        "id": "69-J3EF4Iv1S",
        "colab": {
          "base_uri": "https://localhost:8080/"
        },
        "outputId": "a64e0392-21e3-4ef7-9552-50eb58fe4fc9"
      },
      "outputs": [
        {
          "output_type": "stream",
          "name": "stdout",
          "text": [
            "Evaluation \t Proposed point \t  Current eval. \t  Best eval. \t        Exact EI: StdDev. x \t Approx EI: StdDev. x \n",
            "init\t [3.82391708 4.79785639]\t 50.20079446939181\t 13.871821018360485\t    \t    \n",
            "init\t [3.78055209 0.31596228]\t 36.5114251593508\t 13.871821018360485\t    \t    \n",
            "init\t [-2.73686192 -5.00327624]\t 43.34985765011677\t 13.871821018360485\t    \t    \n",
            "init\t [-0.7119993  -0.99992207]\t 13.871821018360485\t 13.871821018360485\t    \t    \n",
            "init\t [ 0.23218863 -0.22126801]\t 17.190590355445654\t 13.871821018360485\t    \t    \n",
            "1  \t [ 4.96376909 -4.82584897]\t 53.598448729164815\t 13.871821018360485\t 3.3833642315427004\t 4.175381521979718\n",
            "2  \t [-5.03492225  2.95509263]\t 34.71822332027364\t 13.871821018360485\t 3.654723920757949\t 3.854996104509319\n",
            "3  \t [-0.88346227  5.12      ]\t 32.26835247215\t 13.871821018360485\t 2.9754652901330023\t 3.6450244256168927\n",
            "4  \t [ 1.0844111  -4.79070896]\t 32.97062299379361\t 13.871821018360485\t 3.314184245046948\t 3.171649146320166\n",
            "5  \t [-5.12       -1.44673329]\t 50.46289040957707\t 13.871821018360485\t 3.473550912197127\t 3.47496607644724\n",
            "\u001b[1m\u001b[92m6\u001b[0m\t \u001b[1m\u001b[92m[-1.95159419  1.92940076]\u001b[0m\t \u001b[1m\u001b[92m8.958091411800888\u001b[0m\t \u001b[1m\u001b[92m8.958091411800888\u001b[0m\t \u001b[1m\u001b[92m3.298874674100236\u001b[0m\t \u001b[1m\u001b[92m3.368317857819336\u001b[0m\n",
            "7  \t [1.43796867 2.43201855]\t 46.3340350028271\t 8.958091411800888\t 2.9815379383437066\t 2.8893147645755395\n",
            "8  \t [ 2.15576526 -2.10872731]\t 15.757196595783046\t 8.958091411800888\t 3.4767671503169506\t 3.4361142368430677\n",
            "9  \t [ 5.09033741 -1.80057301]\t 37.59730661475024\t 8.958091411800888\t 3.553131188236469\t 3.656624117226692\n",
            "10 \t [-5.12 -5.12]\t 57.849427451571785\t 8.958091411800888\t 3.7392012512651105\t 3.7316054378119423\n",
            "11 \t [5.12       2.58500429]\t 54.21424408874834\t 8.958091411800888\t 2.759634804116253\t 3.312928397320116\n",
            "12 \t [-2.24170879 -2.30162295]\t 32.98899954267589\t 8.958091411800888\t 2.2949168353752163\t 2.7763112232723244\n",
            "13 \t [-3.16274303  0.56090919]\t 34.38218654040147\t 8.958091411800888\t 2.528176931250177\t 3.124300309085798\n",
            "14 \t [-3.48568377  5.08364923]\t 59.30273884482088\t 8.958091411800888\t 2.739949564136236\t 3.88848902958342\n",
            "15 \t [1.57289281 5.12      ]\t 50.36809578337911\t 8.958091411800888\t 2.780010375160953\t 2.7801789418274763\n",
            "16 \t [-0.87779246  1.84628676]\t 11.297737039014914\t 8.958091411800888\t 2.665603290244821\t 2.8088332913925598\n",
            "17 \t [ 0.05935303 -2.74147852]\t 18.741739572599794\t 8.958091411800888\t 2.9770723172141293\t 2.964622923842145\n",
            "18 \t [-1.7103522   2.86725968]\t 26.892992150046926\t 8.958091411800888\t 2.9599639610932833\t 3.1293272090992983\n",
            "19 \t [ 2.98112013 -3.51358623]\t 41.26622963346738\t 8.958091411800888\t 2.5421629446050233\t 2.543126153261876\n",
            "20 \t [ 1.78388063 -0.57786684]\t 30.230266776355226\t 8.958091411800888\t 2.6613463619423783\t 2.6594707985805224\n"
          ]
        }
      ],
      "source": [
        "### EXACT GP EI GRADIENTS\n",
        "\n",
        "np.random.seed(run_num_8)\n",
        "surrogate_exact_8 = dGaussianProcess(cov_func, optimize=opt)\n",
        "\n",
        "exact_8 = dGPGO(surrogate_exact_8, Acquisition_grad(util), objfunc, param)\n",
        "exact_8.run(init_evals=n_init, max_iter=iters)\n"
      ]
    },
    {
      "cell_type": "code",
      "execution_count": 42,
      "metadata": {
        "id": "vonm9jyuIv4t",
        "colab": {
          "base_uri": "https://localhost:8080/"
        },
        "outputId": "e5e3e13c-3158-4d5b-9835-137ce3ec941e"
      },
      "outputs": [
        {
          "output_type": "stream",
          "name": "stdout",
          "text": [
            "Evaluation \t Proposed point \t  Current eval. \t  Best eval. \t        Exact EI: StdDev. x \t Approx EI: StdDev. x \n",
            "init\t [-5.01376866  0.01919582]\t 25.248289026162446\t 24.454800313488693\t    \t    \n",
            "init\t [-0.04328148 -3.74958562]\t 24.454800313488693\t 24.454800313488693\t    \t    \n",
            "init\t [-3.66478248 -2.88195916]\t 39.46509426509438\t 24.454800313488693\t    \t    \n",
            "init\t [-0.83447623 -2.57944404]\t 31.06766397812992\t 24.454800313488693\t    \t    \n",
            "init\t [-4.25922917 -1.58209393]\t 49.922543556206975\t 24.454800313488693\t    \t    \n",
            "1  \t [5.12 5.12]\t 57.849427451571785\t 24.454800313488693\t 3.015092816370131\t 3.3035248506018386\n",
            "2  \t [ 5.03785231 -1.04596176]\t 27.16958169742484\t 24.454800313488693\t 3.3688604701071845\t 3.7931298887920093\n",
            "3  \t [-1.47691444  4.45110873]\t 61.42049213265991\t 24.454800313488693\t 2.9943420025712695\t 3.1374870491490165\n",
            "4  \t [1.55244529 1.27551439]\t 35.09524858557889\t 24.454800313488693\t 3.1347211726878985\t 3.7398254750178626\n",
            "5  \t [-2.25090749  1.29293161]\t 29.460154598682422\t 24.454800313488693\t 3.5169423266160087\t 4.200620681198181\n",
            "6  \t [1.8025736 5.12     ]\t 38.930436244639026\t 24.454800313488693\t 3.5980394168729037\t 4.338025145796378\n",
            "7  \t [ 2.90505959 -3.3723889 ]\t 38.49358175215039\t 24.454800313488693\t 3.8596120425597693\t 4.66183349046384\n",
            "8  \t [4.95138848 1.94729695]\t 29.314338159432932\t 24.454800313488693\t 3.544676733015427\t 4.2866516099088745\n",
            "9  \t [-5.12 -5.12]\t 57.849427451571785\t 24.454800313488693\t 3.333442321537104\t 3.8260623228482045\n",
            "10 \t [-2.04794507 -5.12      ]\t 33.56912257570726\t 24.454800313488693\t 2.3696957061013872\t 3.40384273726365\n",
            "11 \t [-4.99094553  3.24345975]\t 45.0349263236176\t 24.454800313488693\t 2.6121666453921244\t 3.9135354466907097\n",
            "12 \t [-0.31056367 -0.33541589]\t 29.035994239901903\t 24.454800313488693\t 2.3762895892860096\t 2.978775140164671\n",
            "\u001b[1m\u001b[92m13\u001b[0m\t \u001b[1m\u001b[92m[ 2.32763953 -0.95684751]\u001b[0m\t \u001b[1m\u001b[92m21.385832201239403\u001b[0m\t \u001b[1m\u001b[92m21.385832201239403\u001b[0m\t \u001b[1m\u001b[92m2.2857950205018662\u001b[0m\t \u001b[1m\u001b[92m3.2841598346548517\u001b[0m\n",
            "14 \t [0.43634702 2.93638572]\t 28.811813269830658\t 21.385832201239403\t 2.751363107397507\t 3.524531522416293\n",
            "15 \t [3.14858982 3.10369468]\t 25.645683655116798\t 21.385832201239403\t 2.611018824234071\t 3.4663714308716065\n",
            "16 \t [ 4.40639363 -4.2982085 ]\t 69.19353017553054\t 21.385832201239403\t 2.965023313947967\t 4.014022058631359\n",
            "17 \t [-3.77307603  4.75427167]\t 55.12600184002387\t 21.385832201239403\t 2.5641740710617436\t 3.4872349053604985\n",
            "18 \t [ 0.84859728 -4.40252137]\t 42.47825906850564\t 21.385832201239403\t 2.6235751561038985\t 3.1500542434553687\n",
            "19 \t [3.60464469 0.47105014]\t 50.96558733504713\t 21.385832201239403\t 2.958911917459753\t 3.05477524476385\n",
            "\u001b[1m\u001b[92m20\u001b[0m\t \u001b[1m\u001b[92m[-2.11350524 -0.91056025]\u001b[0m\t \u001b[1m\u001b[92m9.271047107468181\u001b[0m\t \u001b[1m\u001b[92m9.271047107468181\u001b[0m\t \u001b[1m\u001b[92m3.177291922836931\u001b[0m\t \u001b[1m\u001b[92m3.338732769193428\u001b[0m\n"
          ]
        }
      ],
      "source": [
        "### EXACT GP EI GRADIENTS\n",
        "\n",
        "np.random.seed(run_num_9)\n",
        "surrogate_exact_9 = dGaussianProcess(cov_func, optimize=opt)\n",
        "\n",
        "exact_9 = dGPGO(surrogate_exact_9, Acquisition_grad(util), objfunc, param)\n",
        "exact_9.run(init_evals=n_init, max_iter=iters)\n"
      ]
    },
    {
      "cell_type": "code",
      "execution_count": 43,
      "metadata": {
        "id": "6amuYlUdIv7r",
        "colab": {
          "base_uri": "https://localhost:8080/"
        },
        "outputId": "ccfd1555-7dff-47f8-e4af-eb7932eff5f2"
      },
      "outputs": [
        {
          "output_type": "stream",
          "name": "stdout",
          "text": [
            "Evaluation \t Proposed point \t  Current eval. \t  Best eval. \t        Exact EI: StdDev. x \t Approx EI: StdDev. x \n",
            "init\t [ 2.77832339 -4.90750004]\t 41.674330194390116\t 13.839458310244165\t    \t    \n",
            "init\t [1.36855793 2.54775176]\t 44.69639719065837\t 13.839458310244165\t    \t    \n",
            "init\t [-0.01528819 -2.81808235]\t 13.839458310244165\t 13.839458310244165\t    \t    \n",
            "init\t [-3.09183626  2.66783449]\t 33.23221510904937\t 13.839458310244165\t    \t    \n",
            "init\t [-3.38830503 -4.2154003 ]\t 54.73014366983691\t 13.839458310244165\t    \t    \n",
            "1  \t [ 5.12       -0.53830217]\t 48.92629267922258\t 13.839458310244165\t 3.961619521939512\t 4.133017479311657\n",
            "2  \t [5.12 5.12]\t 57.849427451571785\t 13.839458310244165\t 3.597556994738319\t 3.3248830719714504\n",
            "3  \t [-4.22754093 -0.73798976]\t 37.76417471725897\t 13.839458310244165\t 3.1434915627139564\t 3.272303911272761\n",
            "4  \t [ 1.77944761 -0.72160778]\t 23.6219314007071\t 13.839458310244165\t 3.7985447213847947\t 3.7349350096004357\n",
            "5  \t [-4.5050859   5.00650982]\t 65.36419794062027\t 13.839458310244165\t 3.4071060758875698\t 3.8418090629018944\n",
            "6  \t [0.10579747 5.07144996]\t 28.850951888017963\t 13.839458310244165\t 3.6984222353957836\t 3.8060025265382578\n",
            "\u001b[1m\u001b[92m7\u001b[0m\t \u001b[1m\u001b[92m[-1.10430841 -0.00826503]\u001b[0m\t \u001b[1m\u001b[92m3.304937571276623\u001b[0m\t \u001b[1m\u001b[92m3.304937571276623\u001b[0m\t \u001b[1m\u001b[92m3.0162881871761464\u001b[0m\t \u001b[1m\u001b[92m3.8624770652861447\u001b[0m\n",
            "8  \t [4.02447235 2.51756262]\t 42.59166081837165\t 3.304937571276623\t 2.9352067786289138\t 3.2267258016632194\n",
            "9  \t [-0.53137903 -4.86686758]\t 47.07434955710461\t 3.304937571276623\t 3.251157797743196\t 3.6149533949234294\n",
            "10 \t [-0.93666847  0.62454078]\t 19.140164738802195\t 3.304937571276623\t 3.0426527929500087\t 3.600822173479859\n",
            "11 \t [-1.27350046 -1.65147014]\t 31.623247710938486\t 3.304937571276623\t 2.590707711016161\t 3.7471853204727776\n",
            "12 \t [ 4.37130588 -2.95944354]\t 45.0945962517404\t 3.304937571276623\t 3.2410900686442616\t 3.4320900719687786\n",
            "13 \t [-5.12 -5.12]\t 57.849427451571785\t 3.304937571276623\t 3.2223715465656224\t 3.354692129354853\n",
            "14 \t [-5.12        1.64301018]\t 47.85157330243807\t 3.304937571276623\t 2.869599829458941\t 3.0999646134891505\n",
            "15 \t [2.77700547 4.67542814]\t 52.39863399663816\t 3.304937571276623\t 3.026180450421598\t 3.097604632442853\n",
            "16 \t [-1.84996598  5.11863861]\t 36.398737849146066\t 3.304937571276623\t 3.040321607841568\t 3.2330060301917034\n",
            "17 \t [-2.45053553  0.58330932]\t 44.52729163203699\t 3.304937571276623\t 2.901022754487867\t 2.9059248477408204\n",
            "18 \t [-5.12       -2.57923472]\t 54.36329541155715\t 3.304937571276623\t 2.762732758329172\t 2.684688607367829\n",
            "19 \t [ 1.48850798 -2.72487854]\t 41.18644351224248\t 3.304937571276623\t 2.524843570275436\t 2.5639386308261614\n",
            "20 \t [-0.76633817  2.58851034]\t 34.75596565544681\t 3.304937571276623\t 3.237604940233273\t 3.242786868200868\n"
          ]
        }
      ],
      "source": [
        "### EXACT GP EI GRADIENTS\n",
        "\n",
        "np.random.seed(run_num_10)\n",
        "surrogate_exact_10 = dGaussianProcess(cov_func, optimize=opt)\n",
        "\n",
        "exact_10 = dGPGO(surrogate_exact_10, Acquisition_grad(util), objfunc, param)\n",
        "exact_10.run(init_evals=n_init, max_iter=iters)\n"
      ]
    },
    {
      "cell_type": "code",
      "execution_count": 44,
      "metadata": {
        "id": "VwbLIP9cIv-F",
        "colab": {
          "base_uri": "https://localhost:8080/"
        },
        "outputId": "645f09af-a472-435c-970d-4d5ea220e891"
      },
      "outputs": [
        {
          "output_type": "stream",
          "name": "stdout",
          "text": [
            "Evaluation \t Proposed point \t  Current eval. \t  Best eval. \t        Exact EI: StdDev. x \t Approx EI: StdDev. x \n",
            "init\t [-3.27403839 -4.92057353]\t 47.655641290890955\t 10.679755252484755\t    \t    \n",
            "init\t [-0.37664229  2.30332343]\t 35.87889240695259\t 10.679755252484755\t    \t    \n",
            "init\t [-0.81711509 -0.14922651]\t 10.679755252484755\t 10.679755252484755\t    \t    \n",
            "init\t [-4.98912446 -0.12931474]\t 28.05462905574235\t 10.679755252484755\t    \t    \n",
            "init\t [4.52410012 3.59214172]\t 71.62694632141611\t 10.679755252484755\t    \t    \n",
            "1  \t [ 3.03550212 -4.46785095]\t 49.22040431745476\t 10.679755252484755\t 3.2120322860731956\t 4.139598688168426\n",
            "2  \t [ 4.25360926 -0.55294285]\t 48.0774987666756\t 10.679755252484755\t 2.830691632807321\t 3.796937629956939\n",
            "3  \t [1.24702516 5.12      ]\t 40.292881856182845\t 10.679755252484755\t 3.447203804186004\t 4.149003702718555\n",
            "4  \t [-0.14982725 -3.281103  ]\t 26.843298318720986\t 10.679755252484755\t 2.5702492725696815\t 3.0291388632441754\n",
            "5  \t [-3.6313084   3.02560873]\t 39.25519344676327\t 10.679755252484755\t 2.8906755367459063\t 3.682512155948192\n",
            "6  \t [-2.84140872 -1.78911886]\t 23.40852235390129\t 10.679755252484755\t 3.088896792615384\t 3.1446435724455233\n",
            "7  \t [ 1.44886905 -0.97131575]\t 22.693014772502647\t 10.679755252484755\t 3.515632445218774\t 3.737642924012391\n",
            "8  \t [-1.42594454  4.96073383]\t 45.88185417083119\t 10.679755252484755\t 3.7092432088042178\t 3.7778211806313053\n",
            "9  \t [-5.12       -2.99585908]\t 37.90326989039408\t 10.679755252484755\t 3.4588648615989612\t 3.232371926824314\n",
            "10 \t [2.20330635 1.72636343]\t 26.422625257782258\t 10.679755252484755\t 3.0451118828764634\t 3.3317899930226442\n",
            "11 \t [-2.56052552  0.6641364 ]\t 41.419971254031566\t 10.679755252484755\t 3.2851246777336183\t 3.7035086698039352\n",
            "12 \t [-4.69318951  4.53457892]\t 75.84752782491911\t 10.679755252484755\t 3.1544380729669625\t 3.5512280097909366\n",
            "13 \t [-0.66210384 -1.15536966]\t 21.41784511837718\t 10.679755252484755\t 3.208826373491104\t 3.118270915366501\n",
            "14 \t [ 0.03622543 -5.12      ]\t 29.183943611692925\t 10.679755252484755\t 3.1753799341320406\t 3.3848730352750263\n",
            "15 \t [5.12       1.34047705]\t 46.10514389584846\t 10.679755252484755\t 3.4042387046759925\t 3.1760256686261696\n",
            "16 \t [ 3.94417466 -2.51560884]\t 42.44563327320033\t 10.679755252484755\t 3.072486207936073\t 3.3754156265756836\n",
            "17 \t [0.73875144 0.31404037]\t 25.26662496239247\t 10.679755252484755\t 2.5880801845366492\t 2.704172322628977\n",
            "18 \t [-5.12 -5.12]\t 57.849427451571785\t 10.679755252484755\t 3.1687481470765344\t 3.4360008157898876\n",
            "19 \t [ 1.57003711 -2.6401009 ]\t 44.85178025868372\t 10.679755252484755\t 2.8792186348989675\t 2.9454575099737124\n",
            "20 \t [-5.02099311  1.57425239]\t 46.7068016452303\t 10.679755252484755\t 2.9505257561634326\t 3.139808609238246\n"
          ]
        }
      ],
      "source": [
        "### EXACT GP EI GRADIENTS\n",
        "\n",
        "np.random.seed(run_num_11)\n",
        "surrogate_exact_11 = dGaussianProcess(cov_func, optimize=opt)\n",
        "\n",
        "exact_11 = dGPGO(surrogate_exact_11, Acquisition_grad(util), objfunc, param)\n",
        "exact_11.run(init_evals=n_init, max_iter=iters)\n"
      ]
    },
    {
      "cell_type": "code",
      "execution_count": 45,
      "metadata": {
        "id": "MlUNFjc-JTBY",
        "colab": {
          "base_uri": "https://localhost:8080/"
        },
        "outputId": "5a5c315d-a18d-4902-c945-18e7ca53cc9f"
      },
      "outputs": [
        {
          "output_type": "stream",
          "name": "stdout",
          "text": [
            "Evaluation \t Proposed point \t  Current eval. \t  Best eval. \t        Exact EI: StdDev. x \t Approx EI: StdDev. x \n",
            "init\t [-3.54137249  2.45810889]\t 57.903242869085595\t 40.51116653209555\t    \t    \n",
            "init\t [-2.42365424  0.34549139]\t 40.51116653209555\t 40.51116653209555\t    \t    \n",
            "init\t [-4.97075238  4.28796936]\t 55.62655915398208\t 40.51116653209555\t    \t    \n",
            "init\t [ 4.10332011 -4.77776458]\t 49.962803461970296\t 40.51116653209555\t    \t    \n",
            "init\t [ 4.6791612  -3.71497655]\t 62.183891474990624\t 40.51116653209555\t    \t    \n",
            "1  \t [5.12 5.12]\t 57.849427451571785\t 40.51116653209555\t 3.950402656591191\t 4.0915738367981485\n",
            "2  \t [-5.12 -5.12]\t 57.849427451571785\t 40.51116653209555\t 3.728461371001829\t 3.5084444709131293\n",
            "\u001b[1m\u001b[92m3\u001b[0m\t \u001b[1m\u001b[92m[2.39120481 0.97307722]\u001b[0m\t \u001b[1m\u001b[92m24.5606403651218\u001b[0m\t \u001b[1m\u001b[92m24.5606403651218\u001b[0m\t \u001b[1m\u001b[92m2.870589978022405\u001b[0m\t \u001b[1m\u001b[92m3.0383448985476837\u001b[0m\n",
            "4  \t [-0.46882411 -4.42580423]\t 58.54919150500953\t 24.5606403651218\t 2.952737224709507\t 3.3444601419119637\n",
            "5  \t [0.89124597 4.54092672]\t 43.33072399829906\t 24.5606403651218\t 2.579812885664174\t 3.4270283908272683\n",
            "6  \t [-5.12       -1.55605117]\t 50.73223892290047\t 24.5606403651218\t 2.6260487653391182\t 3.24063868349282\n",
            "7  \t [5.12       0.41252994]\t 47.62227907653468\t 24.5606403651218\t 2.7565196895814634\t 3.0365007028581092\n",
            "8  \t [ 0.70322767 -1.40847166]\t 33.76643081847721\t 24.5606403651218\t 2.4460101846944102\t 3.021570379010278\n",
            "9  \t [-0.47128385  2.26775686]\t 36.31588134803827\t 24.5606403651218\t 2.718187808906943\t 2.8880201969045958\n",
            "10 \t [-1.82181678  5.12      ]\t 37.882929567150335\t 24.5606403651218\t 2.9828192137609078\t 3.3538516713689104\n",
            "11 \t [-2.58478391 -2.5553685 ]\t 51.226279276971354\t 24.5606403651218\t 2.9223227110580576\t 3.258773207940239\n",
            "12 \t [3.15345759 3.25556616]\t 35.191943560389156\t 24.5606403651218\t 2.622107706080114\t 3.207724074514642\n",
            "13 \t [ 3.20548171 -1.60794185]\t 37.886672676414435\t 24.5606403651218\t 2.963629188069562\t 2.9967744761282185\n",
            "\u001b[1m\u001b[92m14\u001b[0m\t \u001b[1m\u001b[92m[ 1.84660394 -3.9885046 ]\u001b[0m\t \u001b[1m\u001b[92m23.640288920312173\u001b[0m\t \u001b[1m\u001b[92m23.640288920312173\u001b[0m\t \u001b[1m\u001b[92m3.4459184022247875\u001b[0m\t \u001b[1m\u001b[92m3.166646787030028\u001b[0m\n",
            "15 \t [-2.94072526 -5.12      ]\t 38.25813529204089\t 23.640288920312173\t 3.174986428548629\t 3.3110320721109883\n",
            "16 \t [5.12       2.66482547]\t 51.125858479659684\t 23.640288920312173\t 2.8493763328557136\t 3.42816806854577\n",
            "17 \t [-5.12        0.83177094]\t 34.70181197342633\t 23.640288920312173\t 2.666740346000742\t 2.810815151448392\n",
            "\u001b[1m\u001b[92m18\u001b[0m\t \u001b[1m\u001b[92m[0.16795967 0.38981213]\u001b[0m\t \u001b[1m\u001b[92m22.948288354366888\u001b[0m\t \u001b[1m\u001b[92m22.948288354366888\u001b[0m\t \u001b[1m\u001b[92m2.776359897939359\u001b[0m\t \u001b[1m\u001b[92m2.7832409572735384\u001b[0m\n",
            "19 \t [2.82417895 5.12      ]\t 42.4068211431546\t 22.948288354366888\t 3.1557998983222584\t 3.0376228895689374\n",
            "20 \t [-0.34871375 -2.35996999]\t 37.87612510004953\t 22.948288354366888\t 2.5194260028594875\t 2.709749165362847\n"
          ]
        }
      ],
      "source": [
        "### EXACT GP EI GRADIENTS\n",
        "\n",
        "np.random.seed(run_num_12)\n",
        "surrogate_exact_12 = dGaussianProcess(cov_func, optimize=opt)\n",
        "\n",
        "exact_12 = dGPGO(surrogate_exact_12, Acquisition_grad(util), objfunc, param)\n",
        "exact_12.run(init_evals=n_init, max_iter=iters)\n"
      ]
    },
    {
      "cell_type": "code",
      "execution_count": 46,
      "metadata": {
        "id": "9BsKdU9eJTFL",
        "colab": {
          "base_uri": "https://localhost:8080/"
        },
        "outputId": "3db53e83-5b80-49c6-9098-6d9e489684ed"
      },
      "outputs": [
        {
          "output_type": "stream",
          "name": "stdout",
          "text": [
            "Evaluation \t Proposed point \t  Current eval. \t  Best eval. \t        Exact EI: StdDev. x \t Approx EI: StdDev. x \n",
            "init\t [ 2.84367268 -2.68757791]\t 33.58019830007169\t 17.435826639425656\t    \t    \n",
            "init\t [3.32061217 4.76927179]\t 56.857057997503354\t 17.435826639425656\t    \t    \n",
            "init\t [ 4.83943541 -0.47667971]\t 48.211919361679726\t 17.435826639425656\t    \t    \n",
            "init\t [1.11659482 2.82139151]\t 17.435826639425656\t 17.435826639425656\t    \t    \n",
            "init\t [1.45012065 2.27346667]\t 38.25352329493884\t 17.435826639425656\t    \t    \n",
            "1  \t [-5.12 -5.12]\t 57.849427451571785\t 17.435826639425656\t 3.468104605129011\t 3.449544912369958\n",
            "2  \t [-3.81749683  0.42652771]\t 39.59347826031612\t 17.435826639425656\t 2.929846276361838\t 3.880786307538539\n",
            "3  \t [-2.89939236  5.12      ]\t 39.26351982732489\t 17.435826639425656\t 3.371200826249854\t 3.992857113981332\n",
            "4  \t [-0.69420447 -5.12      ]\t 42.84099984901968\t 17.435826639425656\t 3.0399904812719574\t 3.5695918964440865\n",
            "5  \t [-2.78914898 -2.47302964]\t 41.316915597905414\t 17.435826639425656\t 3.597883913411788\t 3.812697933695902\n",
            "\u001b[1m\u001b[92m6\u001b[0m\t \u001b[1m\u001b[92m[ 0.03880372 -0.71742593]\u001b[0m\t \u001b[1m\u001b[92m12.844385152016885\u001b[0m\t \u001b[1m\u001b[92m12.844385152016885\u001b[0m\t \u001b[1m\u001b[92m2.857543467900508\u001b[0m\t \u001b[1m\u001b[92m3.680380361294026\u001b[0m\n",
            "7  \t [0.09078976 5.12      ]\t 30.51636983993898\t 12.844385152016885\t 3.256682709158617\t 3.971877253214039\n",
            "8  \t [5.12       2.47329596]\t 54.90147507527987\t 12.844385152016885\t 2.8978140616622636\t 3.640281200144419\n",
            "9  \t [-1.21732831  1.56627536]\t 31.04209865846844\t 12.844385152016885\t 2.877122174361646\t 3.8697398275272064\n",
            "10 \t [-5.10580865 -2.0041286 ]\t 32.218870655181334\t 12.844385152016885\t 3.296087173003579\t 4.096153003462515\n",
            "11 \t [ 5.03138232 -3.60708349]\t 56.34027180209547\t 12.844385152016885\t 2.875710370952013\t 3.938626725855731\n",
            "12 \t [ 0.09034221 -2.56877804]\t 27.25573791220445\t 12.844385152016885\t 3.3560776351276607\t 3.563934576770871\n",
            "13 \t [-4.81172351  2.85489858]\t 41.39738072804022\t 12.844385152016885\t 3.4166517243833012\t 3.7794465778427964\n",
            "\u001b[1m\u001b[92m14\u001b[0m\t \u001b[1m\u001b[92m[ 1.95235326 -0.09348735]\u001b[0m\t \u001b[1m\u001b[92m5.941354841974341\u001b[0m\t \u001b[1m\u001b[92m5.941354841974341\u001b[0m\t \u001b[1m\u001b[92m2.9107009512729474\u001b[0m\t \u001b[1m\u001b[92m2.974904110867827\u001b[0m\n",
            "15 \t [ 2.01112218 -0.11927577]\t 6.762486409977261\t 5.941354841974341\t 2.9053089395102556\t 3.0921017595329165\n",
            "16 \t [-2.8215701 -5.12     ]\t 42.53912406771682\t 5.941354841974341\t 2.6776681821852284\t 2.9861022664943406\n",
            "17 \t [ 2.03329422 -5.05867865]\t 30.614521437016535\t 5.941354841974341\t 3.439443455610879\t 3.464189339652863\n",
            "18 \t [ 2.01811016 -0.14504301]\t 8.031541581982859\t 5.941354841974341\t 2.4306960198435794\t 2.6164463316822117\n",
            "19 \t [-1.56507992  3.4636285 ]\t 53.36175559672206\t 5.941354841974341\t 3.0347395511513415\t 3.2329349317915708\n",
            "20 \t [-1.29283482 -0.66043089]\t 30.101996451610056\t 5.941354841974341\t 3.3312906242067233\t 3.3939401005032077\n"
          ]
        }
      ],
      "source": [
        "### EXACT GP EI GRADIENTS\n",
        "\n",
        "np.random.seed(run_num_13)\n",
        "surrogate_exact_13 = dGaussianProcess(cov_func, optimize=opt)\n",
        "\n",
        "exact_13 = dGPGO(surrogate_exact_13, Acquisition_grad(util), objfunc, param)\n",
        "exact_13.run(init_evals=n_init, max_iter=iters)\n"
      ]
    },
    {
      "cell_type": "code",
      "execution_count": 47,
      "metadata": {
        "id": "k6GjFBr1JTJf",
        "colab": {
          "base_uri": "https://localhost:8080/"
        },
        "outputId": "f77a3241-7af6-40f4-8634-7f32e74166a0"
      },
      "outputs": [
        {
          "output_type": "stream",
          "name": "stdout",
          "text": [
            "Evaluation \t Proposed point \t  Current eval. \t  Best eval. \t        Exact EI: StdDev. x \t Approx EI: StdDev. x \n",
            "init\t [0.14277984 2.79721013]\t 18.683085263052178\t 10.423838604848608\t    \t    \n",
            "init\t [ 3.7931795  -5.03759925]\t 47.36348784446708\t 10.423838604848608\t    \t    \n",
            "init\t [-1.94830412  4.68586229]\t 40.19779334078636\t 10.423838604848608\t    \t    \n",
            "init\t [ 0.13431513 -1.86076749]\t 10.423838604848608\t 10.423838604848608\t    \t    \n",
            "init\t [ 0.40140736 -2.85434939]\t 30.353548735049138\t 10.423838604848608\t    \t    \n",
            "1  \t [-5.12 -5.12]\t 57.849427451571785\t 10.423838604848608\t 4.305246960963045\t 4.074826205461012\n",
            "2  \t [5.12 5.12]\t 57.849427451571785\t 10.423838604848608\t 3.9192087062167373\t 3.907353329505544\n",
            "3  \t [-5.12       0.3554545]\t 45.20267174597589\t 10.423838604848608\t 2.9064075885845853\t 3.721539637466776\n",
            "4  \t [ 5.12       -0.06050559]\t 29.64235096159109\t 10.423838604848608\t 2.8982553103174657\t 3.4150858421151584\n",
            "5  \t [-1.59760721 -0.03747418]\t 21.007297417913293\t 10.423838604848608\t 2.8385247622376055\t 2.761529635925371\n",
            "6  \t [1.79491608 0.4967805 ]\t 30.681621476903537\t 10.423838604848608\t 2.6522303032423507\t 3.646420162165496\n",
            "7  \t [1.87787595 5.12      ]\t 35.2534502651111\t 10.423838604848608\t 3.1565566711671917\t 3.4779762560352285\n",
            "8  \t [-1.84751481 -5.07969837]\t 34.69365150738844\t 10.423838604848608\t 3.2899348206134342\t 3.650058638124165\n",
            "9  \t [-5.06303497  3.61466724]\t 56.98918336534741\t 10.423838604848608\t 2.8818604845308102\t 3.80025954975832\n",
            "10 \t [-3.03052822 -2.48250516]\t 35.46997890891047\t 10.423838604848608\t 2.9006232187142493\t 3.0952297719194712\n",
            "11 \t [ 3.51567076 -2.24145855]\t 46.79922511829074\t 10.423838604848608\t 3.016062494275957\t 3.3197723244211312\n",
            "12 \t [4.16303795 2.34249801]\t 43.11216909525142\t 10.423838604848608\t 3.0131823353367446\t 3.052749479851303\n",
            "13 \t [ 0.96698163 -5.11378773]\t 29.749042993026592\t 10.423838604848608\t 2.6855797836638753\t 3.0186187876533452\n",
            "14 \t [-2.38931098  1.93052581]\t 28.050913877098253\t 10.423838604848608\t 2.501942434954978\t 3.052881233516822\n",
            "15 \t [-5.12       -2.27919076]\t 45.94326795972898\t 10.423838604848608\t 2.789006681628154\t 3.0670586191794307\n",
            "16 \t [-0.03425382 -0.58284916]\t 19.24702356869264\t 10.423838604848608\t 2.6098741383105213\t 2.7173831941700026\n",
            "17 \t [1.74001513 3.0141411 ]\t 22.77910209948601\t 10.423838604848608\t 2.8667601230105046\t 3.109876575101612\n",
            "18 \t [ 5.12       -2.57733492]\t 54.40987413939273\t 10.423838604848608\t 2.491910700193896\t 2.8682047152018972\n",
            "19 \t [-0.27612864  1.40547877]\t 31.973640394746\t 10.423838604848608\t 2.906215337408983\t 3.4539803670749407\n",
            "20 \t [0.11699165 5.12      ]\t 31.520631010352062\t 10.423838604848608\t 2.766444089754822\t 3.0979230306367405\n"
          ]
        }
      ],
      "source": [
        "### EXACT GP EI GRADIENTS\n",
        "\n",
        "np.random.seed(run_num_14)\n",
        "surrogate_exact_14 = dGaussianProcess(cov_func, optimize=opt)\n",
        "\n",
        "exact_14 = dGPGO(surrogate_exact_14, Acquisition_grad(util), objfunc, param)\n",
        "exact_14.run(init_evals=n_init, max_iter=iters)\n"
      ]
    },
    {
      "cell_type": "code",
      "execution_count": 48,
      "metadata": {
        "id": "dPS8WB3aJTN6",
        "colab": {
          "base_uri": "https://localhost:8080/"
        },
        "outputId": "6eab9d88-8e71-465a-81ce-2514f9a4ccf7"
      },
      "outputs": [
        {
          "output_type": "stream",
          "name": "stdout",
          "text": [
            "Evaluation \t Proposed point \t  Current eval. \t  Best eval. \t        Exact EI: StdDev. x \t Approx EI: StdDev. x \n",
            "init\t [ 3.57189322 -3.28810573]\t 54.938487770767075\t 7.990765314336182\t    \t    \n",
            "init\t [-4.56332069 -1.41784631]\t 60.750198753157726\t 7.990765314336182\t    \t    \n",
            "init\t [-2.29989449  0.3072023 ]\t 31.984997246800887\t 7.990765314336182\t    \t    \n",
            "init\t [-1.9873903  -2.00218256]\t 7.990765314336182\t 7.990765314336182\t    \t    \n",
            "init\t [-3.97576933 -2.5610341 ]\t 41.754957769694336\t 7.990765314336182\t    \t    \n",
            "1  \t [5.12 5.12]\t 57.849427451571785\t 7.990765314336182\t 3.6936356916626494\t 3.908001163489835\n",
            "2  \t [-0.35157246  5.12      ]\t 45.005812766692976\t 7.990765314336182\t 2.9874573145703516\t 3.712338381751913\n",
            "3  \t [2.59308841 1.16950306]\t 31.584688947189136\t 7.990765314336182\t 3.356210060647031\t 3.5555427282647813\n",
            "4  \t [-5.04628403  4.05419228]\t 42.89546382913226\t 7.990765314336182\t 3.000514979098019\t 3.426729285966233\n",
            "5  \t [-1.61688397 -5.12      ]\t 48.96133288911423\t 7.990765314336182\t 3.443518186129338\t 3.3136069722771335\n",
            "6  \t [ 0.44121736 -1.25803038]\t 31.607312983087798\t 7.990765314336182\t 3.3406850028032036\t 3.3433579450236564\n",
            "7  \t [-5.12 -5.12]\t 57.849427451571785\t 7.990765314336182\t 3.389548392996851\t 3.5909554853304404\n",
            "8  \t [ 1.2456693 -5.12     ]\t 40.20433313144186\t 7.990765314336182\t 3.406338221400385\t 3.6128154134489177\n",
            "9  \t [5.12       2.17724979]\t 39.251626151569496\t 7.990765314336182\t 2.6669365804801966\t 2.7125426498770677\n",
            "10 \t [ 5.12       -0.68442226]\t 43.39791518470368\t 7.990765314336182\t 2.6996967520295057\t 2.9926969958310297\n",
            "11 \t [-0.38004684  2.30015163]\t 35.826063182224324\t 7.990765314336182\t 2.7166870694837084\t 3.0046076930476384\n",
            "12 \t [2.33574772 5.12      ]\t 49.51122710285044\t 7.990765314336182\t 2.7009920296337677\t 2.5978735642162203\n",
            "13 \t [-5.12        1.30392631]\t 43.948766474177724\t 7.990765314336182\t 3.1323756689809823\t 3.226178867728768\n",
            "14 \t [-2.73026125  4.84418965]\t 46.57889543636715\t 7.990765314336182\t 2.8709670199150583\t 3.1920628307810492\n",
            "15 \t [-0.07680533 -3.24805925]\t 21.575854048238497\t 7.990765314336182\t 2.33870644268923\t 2.461256126603713\n",
            "16 \t [-3.11619201  2.63209789]\t 35.9360112755717\t 7.990765314336182\t 3.103083984460514\t 3.0755710620164733\n",
            "17 \t [ 2.52174401 -0.97887479]\t 27.312168210194933\t 7.990765314336182\t 2.665831140118536\t 2.630602949337057\n",
            "18 \t [2.29784905 2.9360215 ]\t 27.658843488657478\t 7.990765314336182\t 2.8638634355299577\t 3.0254660955516153\n",
            "19 \t [-1.91582211 -1.51531788]\t 27.286683075972906\t 7.990765314336182\t 3.013434135414841\t 2.9117643342294683\n",
            "20 \t [0.40275477 0.56899058]\t 37.75174557442823\t 7.990765314336182\t 2.7711803434677305\t 3.2248275424452513\n"
          ]
        }
      ],
      "source": [
        "### EXACT GP EI GRADIENTS\n",
        "\n",
        "np.random.seed(run_num_15)\n",
        "surrogate_exact_15 = dGaussianProcess(cov_func, optimize=opt)\n",
        "\n",
        "exact_15 = dGPGO(surrogate_exact_15, Acquisition_grad(util), objfunc, param)\n",
        "exact_15.run(init_evals=n_init, max_iter=iters)\n"
      ]
    },
    {
      "cell_type": "code",
      "execution_count": 49,
      "metadata": {
        "id": "lu8ki9XIQPPN",
        "colab": {
          "base_uri": "https://localhost:8080/"
        },
        "outputId": "7d5fb459-8494-437b-c125-52da29fbb5c3"
      },
      "outputs": [
        {
          "output_type": "stream",
          "name": "stdout",
          "text": [
            "Evaluation \t Proposed point \t  Current eval. \t  Best eval. \t        Exact EI: StdDev. x \t Approx EI: StdDev. x \n",
            "init\t [-2.83349935  0.23719262]\t 22.27210456874814\t 22.27210456874814\t    \t    \n",
            "init\t [ 0.51918292 -4.65303603]\t 57.57021076017139\t 22.27210456874814\t    \t    \n",
            "init\t [-1.42613673 -2.83565116]\t 33.89145899403749\t 22.27210456874814\t    \t    \n",
            "init\t [ 1.9325559  -3.44339021]\t 35.85029586225333\t 22.27210456874814\t    \t    \n",
            "init\t [-4.39987336  4.51595121]\t 77.78800881964571\t 22.27210456874814\t    \t    \n",
            "1  \t [5.12 5.12]\t 57.849427451571785\t 22.27210456874814\t 3.965133405589511\t 4.0833901872792495\n",
            "2  \t [5.12     0.135655]\t 32.36092416035443\t 22.27210456874814\t 3.7632541903819026\t 3.263813185734476\n",
            "3  \t [0.43755248 3.98750253]\t 35.362499449628345\t 22.27210456874814\t 3.403876464288054\t 4.078889166399912\n",
            "4  \t [-5.12 -5.12]\t 57.849427451571785\t 22.27210456874814\t 3.5797471765852653\t 3.6555823584593874\n",
            "5  \t [0.82489184 0.43273641]\t 25.45399405097639\t 22.27210456874814\t 2.080974937768671\t 2.7653358771116445\n",
            "6  \t [ 5.12       -3.28421464]\t 51.84402802347754\t 22.27210456874814\t 3.5028762517561667\t 3.6477739024771525\n",
            "7  \t [3.32293585 2.36707067]\t 47.77904299747091\t 22.27210456874814\t 2.892992550669832\t 3.4701650807605087\n",
            "8  \t [-5.12       -1.66515995]\t 46.77923253499253\t 22.27210456874814\t 2.648355540639287\t 3.3420340714143766\n",
            "9  \t [-1.71195722  2.41151709]\t 39.60778461421753\t 22.27210456874814\t 2.9774530950022973\t 3.244900954361486\n",
            "10 \t [ 2.65571287 -0.87624494]\t 26.278185956203046\t 22.27210456874814\t 2.8672461612611806\t 3.36406003086093\n",
            "11 \t [-2.57560446 -5.11762436]\t 54.325526472969386\t 22.27210456874814\t 3.015178050245277\t 3.538346263279625\n",
            "12 \t [-4.89116878  1.40739184]\t 46.50688984115988\t 22.27210456874814\t 3.2487267799857302\t 3.849364202334254\n",
            "13 \t [2.51477901 4.99994776]\t 51.2805083697396\t 22.27210456874814\t 2.547655190656795\t 2.694095318664504\n",
            "\u001b[1m\u001b[92m14\u001b[0m\t \u001b[1m\u001b[92m[-0.56751952 -0.91766733]\u001b[0m\t \u001b[1m\u001b[92m21.58620021652571\u001b[0m\t \u001b[1m\u001b[92m21.58620021652571\u001b[0m\t \u001b[1m\u001b[92m2.2611931736665585\u001b[0m\t \u001b[1m\u001b[92m2.9098595761518085\u001b[0m\n",
            "15 \t [-3.13401707 -2.2141628 ]\t 25.832523313208423\t 21.58620021652571\t 2.620258515469784\t 2.807471747734697\n",
            "\u001b[1m\u001b[92m16\u001b[0m\t \u001b[1m\u001b[92m[0.86257725 2.04238562]\u001b[0m\t \u001b[1m\u001b[92m8.76973987442613\u001b[0m\t \u001b[1m\u001b[92m8.76973987442613\u001b[0m\t \u001b[1m\u001b[92m2.0606658333076484\u001b[0m\t \u001b[1m\u001b[92m2.9573970139127135\u001b[0m\n",
            "17 \t [-0.95999727  4.43647875]\t 40.13219927431472\t 8.76973987442613\t 3.108725393231612\t 3.0465340596127524\n",
            "18 \t [5.04429792 2.68535401]\t 46.99197259634724\t 8.76973987442613\t 2.861352682255387\t 2.810436418467642\n",
            "\u001b[1m\u001b[92m19\u001b[0m\t \u001b[1m\u001b[92m[ 0.95732027 -1.91035677]\u001b[0m\t \u001b[1m\u001b[92m6.468067378794288\u001b[0m\t \u001b[1m\u001b[92m6.468067378794288\u001b[0m\t \u001b[1m\u001b[92m2.6585070378591658\u001b[0m\t \u001b[1m\u001b[92m3.048934249099107\u001b[0m\n",
            "20 \t [ 3.39634706 -4.62439904]\t 67.97109901429685\t 6.468067378794288\t 3.1382434566331816\t 3.1422264643142124\n"
          ]
        }
      ],
      "source": [
        "### EXACT GP EI GRADIENTS\n",
        "\n",
        "np.random.seed(run_num_16)\n",
        "surrogate_exact_16 = dGaussianProcess(cov_func, optimize=opt)\n",
        "\n",
        "exact_16 = dGPGO(surrogate_exact_16, Acquisition_grad(util), objfunc, param)\n",
        "exact_16.run(init_evals=n_init, max_iter=iters)\n"
      ]
    },
    {
      "cell_type": "code",
      "execution_count": 50,
      "metadata": {
        "id": "yU2SflSsJTUs",
        "colab": {
          "base_uri": "https://localhost:8080/"
        },
        "outputId": "5ab2d455-efbd-4e6a-d5d7-d4cc86f48c39"
      },
      "outputs": [
        {
          "output_type": "stream",
          "name": "stdout",
          "text": [
            "Evaluation \t Proposed point \t  Current eval. \t  Best eval. \t        Exact EI: StdDev. x \t Approx EI: StdDev. x \n",
            "init\t [-2.10263037  0.31320838]\t 20.395145364684023\t 20.395145364684023\t    \t    \n",
            "init\t [-3.15882714 -4.42470033]\t 53.03732051200137\t 20.395145364684023\t    \t    \n",
            "init\t [2.93873111 1.60085526]\t 29.989224812583537\t 20.395145364684023\t    \t    \n",
            "init\t [1.40821398 0.77417363]\t 29.451989415882437\t 20.395145364684023\t    \t    \n",
            "init\t [-4.71999574 -1.45598869]\t 55.89242173757483\t 20.395145364684023\t    \t    \n",
            "1  \t [ 4.96008736 -4.44720822]\t 64.14783177084814\t 20.395145364684023\t 3.67716205262681\t 4.800641032712496\n",
            "2  \t [-1.51638461  5.12      ]\t 51.17119182678712\t 20.395145364684023\t 3.9218940379627694\t 3.7776426863290795\n",
            "3  \t [5.12 5.12]\t 57.849427451571785\t 20.395145364684023\t 3.575457680354569\t 3.643588246971652\n",
            "4  \t [ 0.84045277 -5.12      ]\t 34.24880863486494\t 20.395145364684023\t 3.498059067657359\t 3.954605703798145\n",
            "5  \t [ 5.12       -0.71699151]\t 41.49793838029413\t 20.395145364684023\t 3.359461993753774\t 3.7153345102341544\n",
            "6  \t [-4.62723796  2.47167833]\t 64.33355300363587\t 20.395145364684023\t 3.2297405685975122\t 3.3968339617046963\n",
            "7  \t [1.79768893 5.08864246]\t 37.6855446670606\t 20.395145364684023\t 3.2079919646885893\t 2.9384063176538735\n",
            "\u001b[1m\u001b[92m8\u001b[0m\t \u001b[1m\u001b[92m[ 0.03574683 -2.1119669 ]\u001b[0m\t \u001b[1m\u001b[92m7.087087482637973\u001b[0m\t \u001b[1m\u001b[92m7.087087482637973\u001b[0m\t \u001b[1m\u001b[92m3.4597553141745125\u001b[0m\t \u001b[1m\u001b[92m2.9501377442165126\u001b[0m\n",
            "9  \t [-0.28416496  2.3784656 ]\t 35.09139964234975\t 7.087087482637973\t 3.351625417265992\t 3.440879125938434\n",
            "10 \t [ 2.44600398 -2.36091836]\t 47.40545321518014\t 7.087087482637973\t 2.6822446681078516\t 2.744488100136715\n",
            "11 \t [-1.32205218 -2.30059461]\t 34.540343805350155\t 7.087087482637973\t 3.3148406993106803\t 3.4329928568720907\n",
            "12 \t [3.93980815 3.14996969]\t 30.271683467778434\t 7.087087482637973\t 2.7615705945669635\t 3.104432940268625\n",
            "13 \t [ 0.2051792  -0.83369043]\t 12.938622986468797\t 7.087087482637973\t 2.4828397693286983\t 3.171642706562128\n",
            "14 \t [5.12       2.19365077]\t 40.26979797473886\t 7.087087482637973\t 2.875832854483618\t 3.250915347070863\n",
            "15 \t [-5.12 -5.12]\t 57.849427451571785\t 7.087087482637973\t 2.814155224154466\t 3.141959927217908\n",
            "16 \t [-3.59631837  4.43651874]\t 70.05519238755448\t 7.087087482637973\t 2.478215927938745\t 3.0146148385602944\n",
            "17 \t [ 2.70580749 -5.09279351]\t 47.65115926610733\t 7.087087482637973\t 2.486036438830852\t 2.7340257267371935\n",
            "18 \t [-1.13738561 -5.12      ]\t 33.71841547352999\t 7.087087482637973\t 2.8829049786845946\t 2.83212872230749\n",
            "19 \t [-2.25090078  2.01396246]\t 19.217653372995052\t 7.087087482637973\t 2.6920393511707266\t 2.750974802699968\n",
            "20 \t [ 0.36609594 -2.76295723]\t 33.619344813692436\t 7.087087482637973\t 3.0363252620067684\t 2.982377110314652\n"
          ]
        }
      ],
      "source": [
        "### EXACT GP EI GRADIENTS\n",
        "\n",
        "np.random.seed(run_num_17)\n",
        "surrogate_exact_17 = dGaussianProcess(cov_func, optimize=opt)\n",
        "\n",
        "exact_17 = dGPGO(surrogate_exact_17, Acquisition_grad(util), objfunc, param)\n",
        "exact_17.run(init_evals=n_init, max_iter=iters)\n"
      ]
    },
    {
      "cell_type": "code",
      "execution_count": 51,
      "metadata": {
        "id": "eVEhyZ9BQS-1",
        "colab": {
          "base_uri": "https://localhost:8080/"
        },
        "outputId": "2e04760e-49ab-4e61-b590-b57294085baf"
      },
      "outputs": [
        {
          "output_type": "stream",
          "name": "stdout",
          "text": [
            "Evaluation \t Proposed point \t  Current eval. \t  Best eval. \t        Exact EI: StdDev. x \t Approx EI: StdDev. x \n",
            "init\t [1.53983224 0.05584255]\t 22.67190580753611\t 22.67190580753611\t    \t    \n",
            "init\t [ 3.87687906 -3.25795609]\t 38.990099416711985\t 22.67190580753611\t    \t    \n",
            "init\t [3.60686662 2.56139557]\t 56.66448698782129\t 22.67190580753611\t    \t    \n",
            "init\t [1.70088108 4.99604939]\t 40.894059318256296\t 22.67190580753611\t    \t    \n",
            "init\t [-2.48864335 -4.83014733]\t 54.6725749848372\t 22.67190580753611\t    \t    \n",
            "1  \t [-5.00718904  2.9174042 ]\t 34.91005808676357\t 22.67190580753611\t 3.502489139117973\t 4.013337710964538\n",
            "2  \t [-2.5172874  -0.57162906]\t 45.60877814255882\t 22.67190580753611\t 3.378432826940311\t 3.1432199338047417\n",
            "\u001b[1m\u001b[92m3\u001b[0m\t \u001b[1m\u001b[92m[-1.16270398  2.84418166]\u001b[0m\t \u001b[1m\u001b[92m18.64896345126307\u001b[0m\t \u001b[1m\u001b[92m18.64896345126307\u001b[0m\t \u001b[1m\u001b[92m4.0385323274023675\u001b[0m\t \u001b[1m\u001b[92m3.7514278913019097\u001b[0m\n",
            "4  \t [ 0.94316799 -5.09984298]\t 29.43280579581087\t 18.64896345126307\t 4.296195571943988\t 4.2687354697839925\n",
            "5  \t [-5.12       -3.24013922]\t 48.80404132120228\t 18.64896345126307\t 3.8170022086725206\t 3.8232376968912347\n",
            "6  \t [5.12 5.12]\t 57.849427451571785\t 18.64896345126307\t 3.5130578904088967\t 3.5724200209265993\n",
            "7  \t [ 5.0674446 -0.0834171]\t 27.912867477339134\t 18.64896345126307\t 3.009716405157424\t 3.379503617644283\n",
            "\u001b[1m\u001b[92m8\u001b[0m\t \u001b[1m\u001b[92m[-0.25335679 -2.14069554]\u001b[0m\t \u001b[1m\u001b[92m18.517158783097425\u001b[0m\t \u001b[1m\u001b[92m18.517158783097425\u001b[0m\t \u001b[1m\u001b[92m2.904805677847266\u001b[0m\t \u001b[1m\u001b[92m3.686246135536861\u001b[0m\n",
            "9  \t [-2.05931647  4.63332738]\t 43.086601890136585\t 18.517158783097425\t 2.79154031862011\t 3.39256361838214\n",
            "\u001b[1m\u001b[92m10\u001b[0m\t \u001b[1m\u001b[92m[-3.06190771  1.84446368]\u001b[0m\t \u001b[1m\u001b[92m17.931421372299255\u001b[0m\t \u001b[1m\u001b[92m17.931421372299255\u001b[0m\t \u001b[1m\u001b[92m3.5320871287920577\u001b[0m\t \u001b[1m\u001b[92m3.6666068208095726\u001b[0m\n",
            "\u001b[1m\u001b[92m11\u001b[0m\t \u001b[1m\u001b[92m[1.11479303 1.78314352]\u001b[0m\t \u001b[1m\u001b[92m14.845210391160803\u001b[0m\t \u001b[1m\u001b[92m14.845210391160803\u001b[0m\t \u001b[1m\u001b[92m3.416246983854043\u001b[0m\t \u001b[1m\u001b[92m3.4285133146151234\u001b[0m\n",
            "12 \t [ 1.71784862 -2.11999715]\t 22.162001901858353\t 14.845210391160803\t 3.210775881146225\t 3.186490038731389\n",
            "13 \t [-4.80195874 -0.59143393]\t 48.596282216849595\t 14.845210391160803\t 3.4162857106299063\t 3.3177673730795934\n",
            "14 \t [-0.53176123  0.77156943]\t 29.32852248948683\t 14.845210391160803\t 2.904408268996628\t 2.9388735048280905\n",
            "15 \t [-4.93311462  4.65004427]\t 62.70427715056073\t 14.845210391160803\t 2.9150579052230574\t 3.5865235497199834\n",
            "16 \t [-5.12 -5.12]\t 57.849427451571785\t 14.845210391160803\t 2.9997705870394817\t 3.394630321162163\n",
            "17 \t [ 2.72046965 -5.12      ]\t 48.17048769912702\t 14.845210391160803\t 3.553951697654066\t 3.8633240551254735\n",
            "18 \t [ 3.33245696 -0.83504526]\t 31.66194607912049\t 14.845210391160803\t 3.1144127529891596\t 3.145419474430658\n",
            "19 \t [0.58080222 3.11675777]\t 31.36256619468427\t 14.845210391160803\t 2.8842888772143804\t 3.4420222681072272\n",
            "20 \t [-2.26239844 -2.63451558]\t 39.47326750389065\t 14.845210391160803\t 3.1707010438507206\t 3.0986582358959773\n"
          ]
        }
      ],
      "source": [
        "### EXACT GP EI GRADIENTS\n",
        "\n",
        "np.random.seed(run_num_18)\n",
        "surrogate_exact_18 = dGaussianProcess(cov_func, optimize=opt)\n",
        "\n",
        "exact_18 = dGPGO(surrogate_exact_18, Acquisition_grad(util), objfunc, param)\n",
        "exact_18.run(init_evals=n_init, max_iter=iters)\n"
      ]
    },
    {
      "cell_type": "code",
      "execution_count": 52,
      "metadata": {
        "id": "B6gTz1ojQUxn",
        "colab": {
          "base_uri": "https://localhost:8080/"
        },
        "outputId": "531879e5-681e-4b47-a3a6-970d9189f43c"
      },
      "outputs": [
        {
          "output_type": "stream",
          "name": "stdout",
          "text": [
            "Evaluation \t Proposed point \t  Current eval. \t  Best eval. \t        Exact EI: StdDev. x \t Approx EI: StdDev. x \n",
            "init\t [-4.12125592  2.6751971 ]\t 41.43485596167127\t 25.867003842388073\t    \t    \n",
            "init\t [-2.59135515 -3.70553152]\t 51.60126035043229\t 25.867003842388073\t    \t    \n",
            "init\t [-1.72598719 -4.27008445]\t 43.97430127029199\t 25.867003842388073\t    \t    \n",
            "init\t [1.76104531 3.13952049]\t 25.867003842388073\t 25.867003842388073\t    \t    \n",
            "init\t [4.9432772  1.38916592]\t 44.66580306903559\t 25.867003842388073\t    \t    \n",
            "1  \t [ 4.82659077 -3.73107955]\t 53.77420826130772\t 25.867003842388073\t 3.450327871954063\t 4.538788353589094\n",
            "\u001b[1m\u001b[92m2\u001b[0m\t \u001b[1m\u001b[92m[-0.85223298  0.10979632]\u001b[0m\t \u001b[1m\u001b[92m7.034295421249853\u001b[0m\t \u001b[1m\u001b[92m7.034295421249853\u001b[0m\t \u001b[1m\u001b[92m4.023888857763999\u001b[0m\t \u001b[1m\u001b[92m3.833335824874314\u001b[0m\n",
            "3  \t [5.12 5.12]\t 57.849427451571785\t 7.034295421249853\t 3.647277797670536\t 3.7760003759716674\n",
            "4  \t [-5.11255451 -1.1055489 ]\t 31.87825221324293\t 7.034295421249853\t 3.2185349147435565\t 3.4387199967619853\n",
            "5  \t [ 1.56245442 -1.92118448]\t 26.573427226374246\t 7.034295421249853\t 2.795523753835255\t 3.1159729746863984\n",
            "6  \t [-0.99816082  5.12      ]\t 29.921706441277976\t 7.034295421249853\t 3.411193410534427\t 3.5597465789951843\n",
            "7  \t [-5.12 -5.12]\t 57.849427451571785\t 7.034295421249853\t 3.3534154257723716\t 3.3546583390285396\n",
            "8  \t [ 1.0622837 -4.8155417]\t 31.071208079848283\t 7.034295421249853\t 2.7986656361135283\t 3.1047222434553894\n",
            "9  \t [1.68385177 0.62377718]\t 34.38722872910704\t 7.034295421249853\t 2.9036505459810233\t 3.3348756734683085\n",
            "10 \t [-2.40317684 -0.59527481]\t 42.59657583625126\t 7.034295421249853\t 3.0019801020227628\t 3.2113114128137346\n",
            "11 \t [ 4.37918599 -1.12402395]\t 40.580979665513624\t 7.034295421249853\t 2.6514644035092885\t 2.9564376500391956\n",
            "12 \t [-1.23054569  2.36150354]\t 32.3183779765921\t 7.034295421249853\t 2.685917227971912\t 3.1923134398261044\n",
            "13 \t [2.22723814 5.12      ]\t 42.46000413259053\t 7.034295421249853\t 3.1170308892684293\t 3.716772782846018\n",
            "14 \t [-0.25945523 -0.50723634]\t 30.908011605041025\t 7.034295421249853\t 2.6576589156208144\t 3.279730165367181\n",
            "15 \t [-3.22506538  5.02925336]\t 44.30259392993066\t 7.034295421249853\t 3.176281452767183\t 3.3819414580361844\n",
            "16 \t [3.75691314 3.0015309 ]\t 32.68981758670726\t 7.034295421249853\t 2.787571915633446\t 3.1415096719832247\n",
            "17 \t [ 2.74464821 -4.40396173]\t 55.49813355529702\t 7.034295421249853\t 2.837533719491523\t 3.11355737015077\n",
            "18 \t [-4.77840417 -2.96121721]\t 40.12215840940467\t 7.034295421249853\t 2.950947469650302\t 3.1569972703112317\n",
            "19 \t [-0.67819963 -2.29054675]\t 32.58659041821047\t 7.034295421249853\t 2.4617233215345724\t 2.491770888349048\n",
            "20 \t [0.20571735 3.70530046]\t 33.79674809972096\t 7.034295421249853\t 2.8335153791165606\t 2.971291336002765\n"
          ]
        }
      ],
      "source": [
        "### EXACT GP EI GRADIENTS\n",
        "\n",
        "np.random.seed(run_num_19)\n",
        "surrogate_exact_19 = dGaussianProcess(cov_func, optimize=opt)\n",
        "\n",
        "exact_19 = dGPGO(surrogate_exact_19, Acquisition_grad(util), objfunc, param)\n",
        "exact_19.run(init_evals=n_init, max_iter=iters)\n"
      ]
    },
    {
      "cell_type": "code",
      "execution_count": 53,
      "metadata": {
        "id": "aw3xvSryIwDi",
        "colab": {
          "base_uri": "https://localhost:8080/"
        },
        "outputId": "51c616c0-ec07-4cf0-893c-a8d89365ffd2"
      },
      "outputs": [
        {
          "output_type": "stream",
          "name": "stdout",
          "text": [
            "Evaluation \t Proposed point \t  Current eval. \t  Best eval. \t        Exact EI: StdDev. x \t Approx EI: StdDev. x \n",
            "init\t [0.9024594  4.07258857]\t 20.24255447774017\t 17.388691338534382\t    \t    \n",
            "init\t [4.00927467 3.23417577]\t 35.55852254546393\t 17.388691338534382\t    \t    \n",
            "init\t [-4.75249064  1.96359764]\t 36.54582989269194\t 17.388691338534382\t    \t    \n",
            "init\t [-1.24230715  0.18955208]\t 17.388691338534382\t 17.388691338534382\t    \t    \n",
            "init\t [ 1.61742301 -3.13497377]\t 33.22932870179905\t 17.388691338534382\t    \t    \n",
            "1  \t [-5.12 -5.12]\t 57.849427451571785\t 17.388691338534382\t 3.796314649232061\t 3.80892600271981\n",
            "2  \t [ 5.12       -0.90774061]\t 31.382342682975256\t 17.388691338534382\t 3.310078439393854\t 3.967625236196849\n",
            "3  \t [-2.32334252  4.6958363 ]\t 55.23356041730585\t 17.388691338534382\t 3.011737452584211\t 3.4117279794501694\n",
            "4  \t [-1.42211353 -5.12      ]\t 49.77338827837845\t 17.388691338534382\t 3.138358042791503\t 3.7716624872876765\n",
            "5  \t [-5.12       -1.50067346]\t 51.17664504423531\t 17.388691338534382\t 3.3435502391884984\t 3.5975791692205523\n",
            "6  \t [ 4.69062041 -4.43553031]\t 74.51155070056905\t 17.388691338534382\t 3.351598552790956\t 3.6761905463682867\n",
            "7  \t [ 2.29239594 -0.05852186]\t 18.559374477490238\t 17.388691338534382\t 3.77189474973687\t 3.6008162469408322\n",
            "8  \t [-2.42559783 -1.87740665]\t 31.158056009228396\t 17.388691338534382\t 3.2653938874973525\t 3.0518300427643656\n",
            "9  \t [5.12 5.12]\t 57.849427451571785\t 17.388691338534382\t 3.4367678212833854\t 2.9498044849712906\n",
            "\u001b[1m\u001b[92m10\u001b[0m\t \u001b[1m\u001b[92m[0.18139001 1.90444121]\u001b[0m\t \u001b[1m\u001b[92m11.23017165756345\u001b[0m\t \u001b[1m\u001b[92m11.23017165756345\u001b[0m\t \u001b[1m\u001b[92m2.559316485036049\u001b[0m\t \u001b[1m\u001b[92m3.209533039471598\u001b[0m\n",
            "11 \t [-2.15244084  2.00602785]\t 12.911227135195427\t 11.23017165756345\t 2.8856541328316236\t 3.093536467052865\n",
            "12 \t [-4.45972891  4.76447717]\t 71.36263247821208\t 11.23017165756345\t 3.1421922835383405\t 3.449055902584404\n",
            "\u001b[1m\u001b[92m13\u001b[0m\t \u001b[1m\u001b[92m[ 0.15341581 -1.06922862]\u001b[0m\t \u001b[1m\u001b[92m6.395106375361616\u001b[0m\t \u001b[1m\u001b[92m6.395106375361616\u001b[0m\t \u001b[1m\u001b[92m3.031107869575844\u001b[0m\t \u001b[1m\u001b[92m3.476131519385985\u001b[0m\n",
            "14 \t [2.72519987 5.11567279]\t 47.6756742008929\t 6.395106375361616\t 2.7805411702949923\t 2.6672361465119914\n",
            "15 \t [ 1.43903964 -5.12      ]\t 50.270931474158076\t 6.395106375361616\t 2.582863234688492\t 2.7224410298792434\n",
            "16 \t [1.7791486  2.07541448]\t 16.75326382883663\t 6.395106375361616\t 2.862767368166156\t 2.8316661726851424\n",
            "17 \t [5.12       1.62936311]\t 48.45412530443218\t 6.395106375361616\t 2.9057618518446935\t 2.786381027089373\n",
            "18 \t [ 2.99277789 -1.58227928]\t 30.16379904190219\t 6.395106375361616\t 3.1436286451460225\t 3.138216307619035\n",
            "19 \t [-0.32178688 -2.62366949]\t 38.47623125395933\t 6.395106375361616\t 2.9056089503858056\t 2.743140824833143\n",
            "20 \t [ 0.52995263 -0.31805349]\t 34.352251714745286\t 6.395106375361616\t 2.4680222502410065\t 2.33662105347291\n"
          ]
        }
      ],
      "source": [
        "### EXACT GP EI GRADIENTS\n",
        "\n",
        "np.random.seed(run_num_20)\n",
        "surrogate_exact_20 = dGaussianProcess(cov_func, optimize=opt)\n",
        "\n",
        "exact_20 = dGPGO(surrogate_exact_20, Acquisition_grad(util), objfunc, param)\n",
        "exact_20.run(init_evals=n_init, max_iter=iters)\n"
      ]
    },
    {
      "cell_type": "code",
      "execution_count": 54,
      "metadata": {
        "id": "5c8szjivRPme",
        "colab": {
          "base_uri": "https://localhost:8080/"
        },
        "outputId": "7d0a20ff-2623-46ce-fad2-432dc2b942db"
      },
      "outputs": [
        {
          "output_type": "execute_result",
          "data": {
            "text/plain": [
              "855.6564486026764"
            ]
          },
          "metadata": {},
          "execution_count": 54
        }
      ],
      "source": [
        "end_exact = time.time()\n",
        "end_exact\n",
        "\n",
        "time_exact = end_exact - start_exact\n",
        "time_exact\n"
      ]
    },
    {
      "cell_type": "code",
      "execution_count": 55,
      "metadata": {
        "id": "f6gCKnp6RR8c",
        "colab": {
          "base_uri": "https://localhost:8080/"
        },
        "outputId": "52bf03d7-6ee0-4118-f55e-8bfa4edb8f14"
      },
      "outputs": [
        {
          "output_type": "execute_result",
          "data": {
            "text/plain": [
              "(2.560333718691756, 2.9911419163163977)"
            ]
          },
          "metadata": {},
          "execution_count": 55
        }
      ],
      "source": [
        "### Simple regret minimization: run number = 1\n",
        "\n",
        "approx_output_1 = np.append(np.min(-approx_1.GP.y[0:n_init]),-approx_1.GP.y[n_init:(n_init+iters)]) \n",
        "exact_output_1 = np.append(np.min(-exact_1.GP.y[0:n_init]),-exact_1.GP.y[n_init:(n_init+iters)]) \n",
        "\n",
        "regret_approx_1 = np.log(approx_output_1 - y_global_orig)\n",
        "regret_exact_1 = np.log(exact_output_1 - y_global_orig)\n",
        "\n",
        "simple_regret_approx_1 = min_max_array(regret_approx_1)\n",
        "simple_regret_exact_1 = min_max_array(regret_exact_1)\n",
        "\n",
        "min_simple_regret_approx_1 = min(simple_regret_approx_1)\n",
        "min_simple_regret_exact_1 = min(simple_regret_exact_1)\n",
        "\n",
        "min_simple_regret_approx_1, min_simple_regret_exact_1\n"
      ]
    },
    {
      "cell_type": "code",
      "execution_count": 56,
      "metadata": {
        "id": "94yBw5tqQxfk",
        "colab": {
          "base_uri": "https://localhost:8080/"
        },
        "outputId": "4a9e3264-2ba6-4d89-8a87-38646bdf4888"
      },
      "outputs": [
        {
          "output_type": "execute_result",
          "data": {
            "text/plain": [
              "(2.7887444492055025, 2.9425708889884663)"
            ]
          },
          "metadata": {},
          "execution_count": 56
        }
      ],
      "source": [
        "### Simple regret minimization: run number = 2\n",
        "\n",
        "approx_output_2 = np.append(np.min(-approx_2.GP.y[0:n_init]),-approx_2.GP.y[n_init:(n_init+iters)]) \n",
        "exact_output_2 = np.append(np.min(-exact_2.GP.y[0:n_init]),-exact_2.GP.y[n_init:(n_init+iters)]) \n",
        "\n",
        "regret_approx_2 = np.log(approx_output_2 - y_global_orig)\n",
        "regret_exact_2 = np.log(exact_output_2 - y_global_orig)\n",
        "\n",
        "simple_regret_approx_2 = min_max_array(regret_approx_2)\n",
        "simple_regret_exact_2 = min_max_array(regret_exact_2)\n",
        "\n",
        "min_simple_regret_approx_2 = min(simple_regret_approx_2)\n",
        "min_simple_regret_exact_2 = min(simple_regret_exact_2)\n",
        "\n",
        "min_simple_regret_approx_2, min_simple_regret_exact_2\n"
      ]
    },
    {
      "cell_type": "code",
      "execution_count": 57,
      "metadata": {
        "id": "Bu6SBWALQxfl",
        "colab": {
          "base_uri": "https://localhost:8080/"
        },
        "outputId": "f9c4ec68-0e3e-4a13-cee1-914836eb145f"
      },
      "outputs": [
        {
          "output_type": "execute_result",
          "data": {
            "text/plain": [
              "(2.361576630127625, 2.361576630127625)"
            ]
          },
          "metadata": {},
          "execution_count": 57
        }
      ],
      "source": [
        "### Simple regret minimization: run number = 3\n",
        "\n",
        "approx_output_3 = np.append(np.min(-approx_3.GP.y[0:n_init]),-approx_3.GP.y[n_init:(n_init+iters)]) \n",
        "exact_output_3 = np.append(np.min(-exact_3.GP.y[0:n_init]),-exact_3.GP.y[n_init:(n_init+iters)]) \n",
        "\n",
        "regret_approx_3 = np.log(approx_output_3 - y_global_orig)\n",
        "regret_exact_3 = np.log(exact_output_3 - y_global_orig)\n",
        "\n",
        "simple_regret_approx_3 = min_max_array(regret_approx_3)\n",
        "simple_regret_exact_3 = min_max_array(regret_exact_3)\n",
        "\n",
        "min_simple_regret_approx_3 = min(simple_regret_approx_3)\n",
        "min_simple_regret_exact_3 = min(simple_regret_exact_3)\n",
        "\n",
        "min_simple_regret_approx_3, min_simple_regret_exact_3"
      ]
    },
    {
      "cell_type": "code",
      "execution_count": 58,
      "metadata": {
        "id": "AZm0jgxkQxfm",
        "colab": {
          "base_uri": "https://localhost:8080/"
        },
        "outputId": "98065f88-da07-41c2-eb08-0cea51f8f270"
      },
      "outputs": [
        {
          "output_type": "execute_result",
          "data": {
            "text/plain": [
              "(2.287878817882896, 2.6488079738442334)"
            ]
          },
          "metadata": {},
          "execution_count": 58
        }
      ],
      "source": [
        "### Simple regret minimization: run number = 4\n",
        "\n",
        "approx_output_4 = np.append(np.min(-approx_4.GP.y[0:n_init]),-approx_4.GP.y[n_init:(n_init+iters)]) \n",
        "exact_output_4 = np.append(np.min(-exact_4.GP.y[0:n_init]),-exact_4.GP.y[n_init:(n_init+iters)]) \n",
        "\n",
        "regret_approx_4 = np.log(approx_output_4 - y_global_orig)\n",
        "regret_exact_4 = np.log(exact_output_4 - y_global_orig)\n",
        "\n",
        "simple_regret_approx_4 = min_max_array(regret_approx_4)\n",
        "simple_regret_exact_4 = min_max_array(regret_exact_4)\n",
        "\n",
        "min_simple_regret_approx_4 = min(simple_regret_approx_4)\n",
        "min_simple_regret_exact_4 = min(simple_regret_exact_4)\n",
        "\n",
        "min_simple_regret_approx_4, min_simple_regret_exact_4"
      ]
    },
    {
      "cell_type": "code",
      "execution_count": 59,
      "metadata": {
        "id": "NONPm8JIQxfn",
        "colab": {
          "base_uri": "https://localhost:8080/"
        },
        "outputId": "8881d219-2855-4e55-a2ee-9a9be9c7b0aa"
      },
      "outputs": [
        {
          "output_type": "execute_result",
          "data": {
            "text/plain": [
              "(2.05551541920764, 1.8954626597772544)"
            ]
          },
          "metadata": {},
          "execution_count": 59
        }
      ],
      "source": [
        "### Simple regret minimization: run number = 5\n",
        "\n",
        "approx_output_5 = np.append(np.min(-approx_5.GP.y[0:n_init]),-approx_5.GP.y[n_init:(n_init+iters)]) \n",
        "exact_output_5 = np.append(np.min(-exact_5.GP.y[0:n_init]),-exact_5.GP.y[n_init:(n_init+iters)]) \n",
        "\n",
        "regret_approx_5 = np.log(approx_output_5 - y_global_orig)\n",
        "regret_exact_5 = np.log(exact_output_5 - y_global_orig)\n",
        "\n",
        "simple_regret_approx_5 = min_max_array(regret_approx_5)\n",
        "simple_regret_exact_5 = min_max_array(regret_exact_5)\n",
        "\n",
        "min_simple_regret_approx_5 = min(simple_regret_approx_5)\n",
        "min_simple_regret_exact_5 = min(simple_regret_exact_5)\n",
        "\n",
        "min_simple_regret_approx_5, min_simple_regret_exact_5"
      ]
    },
    {
      "cell_type": "code",
      "execution_count": 60,
      "metadata": {
        "id": "CJv3lPuSQxfp",
        "colab": {
          "base_uri": "https://localhost:8080/"
        },
        "outputId": "854029f9-7609-4988-9317-05c33d7f9ebe"
      },
      "outputs": [
        {
          "output_type": "execute_result",
          "data": {
            "text/plain": [
              "(2.305694781048611, 2.0031187980196936)"
            ]
          },
          "metadata": {},
          "execution_count": 60
        }
      ],
      "source": [
        "### Simple regret minimization: run number = 6\n",
        "\n",
        "approx_output_6 = np.append(np.min(-approx_6.GP.y[0:n_init]),-approx_6.GP.y[n_init:(n_init+iters)]) \n",
        "exact_output_6 = np.append(np.min(-exact_6.GP.y[0:n_init]),-exact_6.GP.y[n_init:(n_init+iters)]) \n",
        "\n",
        "regret_approx_6 = np.log(approx_output_6 - y_global_orig)\n",
        "regret_exact_6 = np.log(exact_output_6 - y_global_orig)\n",
        "\n",
        "simple_regret_approx_6 = min_max_array(regret_approx_6)\n",
        "simple_regret_exact_6 = min_max_array(regret_exact_6)\n",
        "\n",
        "min_simple_regret_approx_6 = min(simple_regret_approx_6)\n",
        "min_simple_regret_exact_6 = min(simple_regret_exact_6)\n",
        "\n",
        "min_simple_regret_approx_6, min_simple_regret_exact_6"
      ]
    },
    {
      "cell_type": "code",
      "execution_count": 61,
      "metadata": {
        "id": "quR2ZyApQxfq",
        "colab": {
          "base_uri": "https://localhost:8080/"
        },
        "outputId": "4aa5cc59-b074-46db-be32-9d5baf4d2b1d"
      },
      "outputs": [
        {
          "output_type": "execute_result",
          "data": {
            "text/plain": [
              "(2.651841186807373, 2.9716494999912664)"
            ]
          },
          "metadata": {},
          "execution_count": 61
        }
      ],
      "source": [
        "### Simple regret minimization: run number = 7\n",
        "\n",
        "approx_output_7 = np.append(np.min(-approx_7.GP.y[0:n_init]),-approx_7.GP.y[n_init:(n_init+iters)]) \n",
        "exact_output_7 = np.append(np.min(-exact_7.GP.y[0:n_init]),-exact_7.GP.y[n_init:(n_init+iters)]) \n",
        "\n",
        "regret_approx_7 = np.log(approx_output_7 - y_global_orig)\n",
        "regret_exact_7 = np.log(exact_output_7 - y_global_orig)\n",
        "\n",
        "simple_regret_approx_7 = min_max_array(regret_approx_7)\n",
        "simple_regret_exact_7 = min_max_array(regret_exact_7)\n",
        "\n",
        "min_simple_regret_approx_7 = min(simple_regret_approx_7)\n",
        "min_simple_regret_exact_7 = min(simple_regret_exact_7)\n",
        "\n",
        "min_simple_regret_approx_7, min_simple_regret_exact_7"
      ]
    },
    {
      "cell_type": "code",
      "execution_count": 62,
      "metadata": {
        "id": "99wY5nK6Qxfr",
        "colab": {
          "base_uri": "https://localhost:8080/"
        },
        "outputId": "1527becd-e5be-4116-eaf1-fd6c97143a8c"
      },
      "outputs": [
        {
          "output_type": "execute_result",
          "data": {
            "text/plain": [
              "(2.6298595175876263, 2.1925571922207507)"
            ]
          },
          "metadata": {},
          "execution_count": 62
        }
      ],
      "source": [
        "### Simple regret minimization: run number = 8\n",
        "\n",
        "approx_output_8 = np.append(np.min(-approx_8.GP.y[0:n_init]),-approx_8.GP.y[n_init:(n_init+iters)]) \n",
        "exact_output_8 = np.append(np.min(-exact_8.GP.y[0:n_init]),-exact_8.GP.y[n_init:(n_init+iters)]) \n",
        "\n",
        "regret_approx_8 = np.log(approx_output_8 - y_global_orig)\n",
        "regret_exact_8 = np.log(exact_output_8 - y_global_orig)\n",
        "\n",
        "simple_regret_approx_8 = min_max_array(regret_approx_8)\n",
        "simple_regret_exact_8 = min_max_array(regret_exact_8)\n",
        "\n",
        "min_simple_regret_approx_8 = min(simple_regret_approx_8)\n",
        "min_simple_regret_exact_8 = min(simple_regret_exact_8)\n",
        "\n",
        "min_simple_regret_approx_8, min_simple_regret_exact_8"
      ]
    },
    {
      "cell_type": "code",
      "execution_count": 63,
      "metadata": {
        "id": "qt0P5t9qQxfs",
        "colab": {
          "base_uri": "https://localhost:8080/"
        },
        "outputId": "a52e3e9a-7294-4e38-f71e-55c524645037"
      },
      "outputs": [
        {
          "output_type": "execute_result",
          "data": {
            "text/plain": [
              "(2.82849388564378, 2.226896329775584)"
            ]
          },
          "metadata": {},
          "execution_count": 63
        }
      ],
      "source": [
        "### Simple regret minimization: run number = 9\n",
        "\n",
        "approx_output_9 = np.append(np.min(-approx_9.GP.y[0:n_init]),-approx_9.GP.y[n_init:(n_init+iters)]) \n",
        "exact_output_9 = np.append(np.min(-exact_9.GP.y[0:n_init]),-exact_9.GP.y[n_init:(n_init+iters)]) \n",
        "\n",
        "regret_approx_9 = np.log(approx_output_9 - y_global_orig)\n",
        "regret_exact_9 = np.log(exact_output_9 - y_global_orig)\n",
        "\n",
        "simple_regret_approx_9 = min_max_array(regret_approx_9)\n",
        "simple_regret_exact_9 = min_max_array(regret_exact_9)\n",
        "\n",
        "min_simple_regret_approx_9 = min(simple_regret_approx_9)\n",
        "min_simple_regret_exact_9 = min(simple_regret_exact_9)\n",
        "\n",
        "min_simple_regret_approx_9, min_simple_regret_exact_9"
      ]
    },
    {
      "cell_type": "code",
      "execution_count": 64,
      "metadata": {
        "id": "vx8to9stQxft",
        "colab": {
          "base_uri": "https://localhost:8080/"
        },
        "outputId": "fcf681e0-de8c-44aa-a9bd-57bf9c510b60"
      },
      "outputs": [
        {
          "output_type": "execute_result",
          "data": {
            "text/plain": [
              "(2.5241871392458695, 1.1954175839502463)"
            ]
          },
          "metadata": {},
          "execution_count": 64
        }
      ],
      "source": [
        "### Simple regret minimization: run number = 10\n",
        "\n",
        "approx_output_10 = np.append(np.min(-approx_10.GP.y[0:n_init]),-approx_10.GP.y[n_init:(n_init+iters)]) \n",
        "exact_output_10 = np.append(np.min(-exact_10.GP.y[0:n_init]),-exact_10.GP.y[n_init:(n_init+iters)]) \n",
        "\n",
        "regret_approx_10 = np.log(approx_output_10 - y_global_orig)\n",
        "regret_exact_10 = np.log(exact_output_10 - y_global_orig)\n",
        "\n",
        "simple_regret_approx_10 = min_max_array(regret_approx_10)\n",
        "simple_regret_exact_10 = min_max_array(regret_exact_10)\n",
        "\n",
        "min_simple_regret_approx_10 = min(simple_regret_approx_10)\n",
        "min_simple_regret_exact_10 = min(simple_regret_exact_10)\n",
        "\n",
        "min_simple_regret_approx_10, min_simple_regret_exact_10"
      ]
    },
    {
      "cell_type": "code",
      "execution_count": 65,
      "metadata": {
        "id": "d-FGzWyHQxfu",
        "colab": {
          "base_uri": "https://localhost:8080/"
        },
        "outputId": "be3dcdbd-327c-402f-e47b-d45620d22075"
      },
      "outputs": [
        {
          "output_type": "execute_result",
          "data": {
            "text/plain": [
              "(2.3683499168354514, 2.3683499168354514)"
            ]
          },
          "metadata": {},
          "execution_count": 65
        }
      ],
      "source": [
        "### Simple regret minimization: run number = 11\n",
        "\n",
        "approx_output_11 = np.append(np.min(-approx_11.GP.y[0:n_init]),-approx_11.GP.y[n_init:(n_init+iters)]) \n",
        "exact_output_11 = np.append(np.min(-exact_11.GP.y[0:n_init]),-exact_11.GP.y[n_init:(n_init+iters)]) \n",
        "\n",
        "regret_approx_11 = np.log(approx_output_11 - y_global_orig)\n",
        "regret_exact_11 = np.log(exact_output_11 - y_global_orig)\n",
        "\n",
        "simple_regret_approx_11 = min_max_array(regret_approx_11)\n",
        "simple_regret_exact_11 = min_max_array(regret_exact_11)\n",
        "\n",
        "min_simple_regret_approx_11 = min(simple_regret_approx_11)\n",
        "min_simple_regret_exact_11 = min(simple_regret_exact_11)\n",
        "\n",
        "min_simple_regret_approx_11, min_simple_regret_exact_11"
      ]
    },
    {
      "cell_type": "code",
      "execution_count": 66,
      "metadata": {
        "id": "SvtsssyjQxfv",
        "colab": {
          "base_uri": "https://localhost:8080/"
        },
        "outputId": "ee1853e9-26bb-4ce3-a95a-f855b0817ca2"
      },
      "outputs": [
        {
          "output_type": "execute_result",
          "data": {
            "text/plain": [
              "(2.168116454057699, 3.133243352216147)"
            ]
          },
          "metadata": {},
          "execution_count": 66
        }
      ],
      "source": [
        "### Simple regret minimization: run number = 12\n",
        "\n",
        "approx_output_12 = np.append(np.min(-approx_12.GP.y[0:n_init]),-approx_12.GP.y[n_init:(n_init+iters)]) \n",
        "exact_output_12 = np.append(np.min(-exact_12.GP.y[0:n_init]),-exact_12.GP.y[n_init:(n_init+iters)]) \n",
        "\n",
        "regret_approx_12 = np.log(approx_output_12 - y_global_orig)\n",
        "regret_exact_12 = np.log(exact_output_12 - y_global_orig)\n",
        "\n",
        "simple_regret_approx_12 = min_max_array(regret_approx_12)\n",
        "simple_regret_exact_12 = min_max_array(regret_exact_12)\n",
        "\n",
        "min_simple_regret_approx_12 = min(simple_regret_approx_12)\n",
        "min_simple_regret_exact_12 = min(simple_regret_exact_12)\n",
        "\n",
        "min_simple_regret_approx_12, min_simple_regret_exact_12"
      ]
    },
    {
      "cell_type": "code",
      "execution_count": 67,
      "metadata": {
        "id": "K6OiGcHkQxfw",
        "colab": {
          "base_uri": "https://localhost:8080/"
        },
        "outputId": "05b973b7-588d-4cb4-dcaf-f0b7f7b3a6e9"
      },
      "outputs": [
        {
          "output_type": "execute_result",
          "data": {
            "text/plain": [
              "(2.763738150093859, 1.7819371952409373)"
            ]
          },
          "metadata": {},
          "execution_count": 67
        }
      ],
      "source": [
        "### Simple regret minimization: run number = 13\n",
        "\n",
        "approx_output_13 = np.append(np.min(-approx_13.GP.y[0:n_init]),-approx_13.GP.y[n_init:(n_init+iters)]) \n",
        "exact_output_13 = np.append(np.min(-exact_13.GP.y[0:n_init]),-exact_13.GP.y[n_init:(n_init+iters)]) \n",
        "\n",
        "regret_approx_13 = np.log(approx_output_13 - y_global_orig)\n",
        "regret_exact_13 = np.log(exact_output_13 - y_global_orig)\n",
        "\n",
        "simple_regret_approx_13 = min_max_array(regret_approx_13)\n",
        "simple_regret_exact_13 = min_max_array(regret_exact_13)\n",
        "\n",
        "min_simple_regret_approx_13 = min(simple_regret_approx_13)\n",
        "min_simple_regret_exact_13 = min(simple_regret_exact_13)\n",
        "\n",
        "min_simple_regret_approx_13, min_simple_regret_exact_13"
      ]
    },
    {
      "cell_type": "code",
      "execution_count": 68,
      "metadata": {
        "id": "ogML73shQxfx",
        "colab": {
          "base_uri": "https://localhost:8080/"
        },
        "outputId": "347a14b8-81fa-425c-f0f8-ef65533e3920"
      },
      "outputs": [
        {
          "output_type": "execute_result",
          "data": {
            "text/plain": [
              "(2.3440953566682032, 2.3440953566682032)"
            ]
          },
          "metadata": {},
          "execution_count": 68
        }
      ],
      "source": [
        "### Simple regret minimization: run number = 14\n",
        "\n",
        "approx_output_14 = np.append(np.min(-approx_14.GP.y[0:n_init]),-approx_14.GP.y[n_init:(n_init+iters)]) \n",
        "exact_output_14 = np.append(np.min(-exact_14.GP.y[0:n_init]),-exact_14.GP.y[n_init:(n_init+iters)]) \n",
        "\n",
        "regret_approx_14 = np.log(approx_output_14 - y_global_orig)\n",
        "regret_exact_14 = np.log(exact_output_14 - y_global_orig)\n",
        "\n",
        "simple_regret_approx_14 = min_max_array(regret_approx_14)\n",
        "simple_regret_exact_14 = min_max_array(regret_exact_14)\n",
        "\n",
        "min_simple_regret_approx_14 = min(simple_regret_approx_14)\n",
        "min_simple_regret_exact_14 = min(simple_regret_exact_14)\n",
        "\n",
        "min_simple_regret_approx_14, min_simple_regret_exact_14"
      ]
    },
    {
      "cell_type": "code",
      "execution_count": 69,
      "metadata": {
        "id": "9Eg7gFT9Qxfx",
        "colab": {
          "base_uri": "https://localhost:8080/"
        },
        "outputId": "0c303837-5f61-4585-ae2d-5986425b7444"
      },
      "outputs": [
        {
          "output_type": "execute_result",
          "data": {
            "text/plain": [
              "(2.078286539213237, 2.078286539213237)"
            ]
          },
          "metadata": {},
          "execution_count": 69
        }
      ],
      "source": [
        "### Simple regret minimization: run number = 15\n",
        "\n",
        "approx_output_15 = np.append(np.min(-approx_15.GP.y[0:n_init]),-approx_15.GP.y[n_init:(n_init+iters)]) \n",
        "exact_output_15 = np.append(np.min(-exact_15.GP.y[0:n_init]),-exact_15.GP.y[n_init:(n_init+iters)]) \n",
        "\n",
        "regret_approx_15 = np.log(approx_output_15 - y_global_orig)\n",
        "regret_exact_15 = np.log(exact_output_15 - y_global_orig)\n",
        "\n",
        "simple_regret_approx_15 = min_max_array(regret_approx_15)\n",
        "simple_regret_exact_15 = min_max_array(regret_exact_15)\n",
        "\n",
        "min_simple_regret_approx_15 = min(simple_regret_approx_15)\n",
        "min_simple_regret_exact_15 = min(simple_regret_exact_15)\n",
        "\n",
        "min_simple_regret_approx_15, min_simple_regret_exact_15"
      ]
    },
    {
      "cell_type": "code",
      "execution_count": 70,
      "metadata": {
        "id": "lIAC1U7ZQxfy",
        "colab": {
          "base_uri": "https://localhost:8080/"
        },
        "outputId": "732945a6-fbf5-4bf2-e80f-242ad4172c29"
      },
      "outputs": [
        {
          "output_type": "execute_result",
          "data": {
            "text/plain": [
              "(0.7564268872117674, 1.8668773589138925)"
            ]
          },
          "metadata": {},
          "execution_count": 70
        }
      ],
      "source": [
        "### Simple regret minimization: run number = 16\n",
        "\n",
        "approx_output_16 = np.append(np.min(-approx_16.GP.y[0:n_init]),-approx_16.GP.y[n_init:(n_init+iters)]) \n",
        "exact_output_16 = np.append(np.min(-exact_16.GP.y[0:n_init]),-exact_16.GP.y[n_init:(n_init+iters)]) \n",
        "\n",
        "regret_approx_16 = np.log(approx_output_16 - y_global_orig)\n",
        "regret_exact_16 = np.log(exact_output_16 - y_global_orig)\n",
        "\n",
        "simple_regret_approx_16 = min_max_array(regret_approx_16)\n",
        "simple_regret_exact_16 = min_max_array(regret_exact_16)\n",
        "\n",
        "min_simple_regret_approx_16 = min(simple_regret_approx_16)\n",
        "min_simple_regret_exact_16 = min(simple_regret_exact_16)\n",
        "\n",
        "min_simple_regret_approx_16, min_simple_regret_exact_16"
      ]
    },
    {
      "cell_type": "code",
      "execution_count": 71,
      "metadata": {
        "id": "bGott36OQxfz",
        "colab": {
          "base_uri": "https://localhost:8080/"
        },
        "outputId": "469d4e33-59ec-4178-c137-6ae48a0aa6ac"
      },
      "outputs": [
        {
          "output_type": "execute_result",
          "data": {
            "text/plain": [
              "(2.397400955612433, 1.9582744638521108)"
            ]
          },
          "metadata": {},
          "execution_count": 71
        }
      ],
      "source": [
        "### Simple regret minimization: run number = 17\n",
        "\n",
        "approx_output_17 = np.append(np.min(-approx_17.GP.y[0:n_init]),-approx_17.GP.y[n_init:(n_init+iters)]) \n",
        "exact_output_17 = np.append(np.min(-exact_17.GP.y[0:n_init]),-exact_17.GP.y[n_init:(n_init+iters)]) \n",
        "\n",
        "regret_approx_17 = np.log(approx_output_17 - y_global_orig)\n",
        "regret_exact_17 = np.log(exact_output_17 - y_global_orig)\n",
        "\n",
        "simple_regret_approx_17 = min_max_array(regret_approx_17)\n",
        "simple_regret_exact_17 = min_max_array(regret_exact_17)\n",
        "\n",
        "min_simple_regret_approx_17 = min(simple_regret_approx_17)\n",
        "min_simple_regret_exact_17 = min(simple_regret_exact_17)\n",
        "\n",
        "min_simple_regret_approx_17, min_simple_regret_exact_17"
      ]
    },
    {
      "cell_type": "code",
      "execution_count": 72,
      "metadata": {
        "id": "Cz9ZYMBMQxfz",
        "colab": {
          "base_uri": "https://localhost:8080/"
        },
        "outputId": "d89a1d27-0701-4ecc-ecdf-5cc300af04be"
      },
      "outputs": [
        {
          "output_type": "execute_result",
          "data": {
            "text/plain": [
              "(2.7045923174018656, 2.6976772806421248)"
            ]
          },
          "metadata": {},
          "execution_count": 72
        }
      ],
      "source": [
        "### Simple regret minimization: run number = 18\n",
        "\n",
        "approx_output_18 = np.append(np.min(-approx_18.GP.y[0:n_init]),-approx_18.GP.y[n_init:(n_init+iters)]) \n",
        "exact_output_18 = np.append(np.min(-exact_18.GP.y[0:n_init]),-exact_18.GP.y[n_init:(n_init+iters)]) \n",
        "\n",
        "regret_approx_18 = np.log(approx_output_18 - y_global_orig)\n",
        "regret_exact_18 = np.log(exact_output_18 - y_global_orig)\n",
        "\n",
        "simple_regret_approx_18 = min_max_array(regret_approx_18)\n",
        "simple_regret_exact_18 = min_max_array(regret_exact_18)\n",
        "\n",
        "min_simple_regret_approx_18 = min(simple_regret_approx_18)\n",
        "min_simple_regret_exact_18 = min(simple_regret_exact_18)\n",
        "\n",
        "min_simple_regret_approx_18, min_simple_regret_exact_18"
      ]
    },
    {
      "cell_type": "code",
      "execution_count": 73,
      "metadata": {
        "id": "OBfpWOHNQxf0",
        "colab": {
          "base_uri": "https://localhost:8080/"
        },
        "outputId": "fda212d1-cab7-4d3a-da5e-6b3854e5158d"
      },
      "outputs": [
        {
          "output_type": "execute_result",
          "data": {
            "text/plain": [
              "(2.9282445915304662, 1.95079753221021)"
            ]
          },
          "metadata": {},
          "execution_count": 73
        }
      ],
      "source": [
        "### Simple regret minimization: run number = 19\n",
        "\n",
        "approx_output_19 = np.append(np.min(-approx_19.GP.y[0:n_init]),-approx_19.GP.y[n_init:(n_init+iters)]) \n",
        "exact_output_19 = np.append(np.min(-exact_19.GP.y[0:n_init]),-exact_19.GP.y[n_init:(n_init+iters)]) \n",
        "\n",
        "regret_approx_19 = np.log(approx_output_19 - y_global_orig)\n",
        "regret_exact_19 = np.log(exact_output_19 - y_global_orig)\n",
        "\n",
        "simple_regret_approx_19 = min_max_array(regret_approx_19)\n",
        "simple_regret_exact_19 = min_max_array(regret_exact_19)\n",
        "\n",
        "min_simple_regret_approx_19 = min(simple_regret_approx_19)\n",
        "min_simple_regret_exact_19 = min(simple_regret_exact_19)\n",
        "\n",
        "min_simple_regret_approx_19, min_simple_regret_exact_19"
      ]
    },
    {
      "cell_type": "code",
      "execution_count": 74,
      "metadata": {
        "id": "BE1AJ7NsQxf0",
        "colab": {
          "base_uri": "https://localhost:8080/"
        },
        "outputId": "eb562817-54f6-4424-d8fb-aa2920702159"
      },
      "outputs": [
        {
          "output_type": "execute_result",
          "data": {
            "text/plain": [
              "(2.8558200718561926, 1.8555330690381389)"
            ]
          },
          "metadata": {},
          "execution_count": 74
        }
      ],
      "source": [
        "### Simple regret minimization: run number = 20\n",
        "\n",
        "approx_output_20 = np.append(np.min(-approx_20.GP.y[0:n_init]),-approx_20.GP.y[n_init:(n_init+iters)]) \n",
        "exact_output_20 = np.append(np.min(-exact_20.GP.y[0:n_init]),-exact_20.GP.y[n_init:(n_init+iters)]) \n",
        "\n",
        "regret_approx_20 = np.log(approx_output_20 - y_global_orig)\n",
        "regret_exact_20 = np.log(exact_output_20 - y_global_orig)\n",
        "\n",
        "simple_regret_approx_20 = min_max_array(regret_approx_20)\n",
        "simple_regret_exact_20 = min_max_array(regret_exact_20)\n",
        "\n",
        "min_simple_regret_approx_20 = min(simple_regret_approx_20)\n",
        "min_simple_regret_exact_20 = min(simple_regret_exact_20)\n",
        "\n",
        "min_simple_regret_approx_20, min_simple_regret_exact_20"
      ]
    },
    {
      "cell_type": "code",
      "execution_count": 75,
      "metadata": {
        "id": "bpX-bKAHQxf1"
      },
      "outputs": [],
      "source": [
        "# Iteration1 :\n",
        "\n",
        "slice1 = 0\n",
        "\n",
        "approx1 = [simple_regret_approx_1[slice1],\n",
        "       simple_regret_approx_2[slice1],\n",
        "       simple_regret_approx_3[slice1],\n",
        "       simple_regret_approx_4[slice1],\n",
        "       simple_regret_approx_5[slice1],\n",
        "       simple_regret_approx_6[slice1],\n",
        "       simple_regret_approx_7[slice1],\n",
        "       simple_regret_approx_8[slice1],\n",
        "       simple_regret_approx_9[slice1],\n",
        "       simple_regret_approx_10[slice1],\n",
        "       simple_regret_approx_11[slice1],\n",
        "       simple_regret_approx_12[slice1],\n",
        "       simple_regret_approx_13[slice1],\n",
        "       simple_regret_approx_14[slice1],\n",
        "       simple_regret_approx_15[slice1],\n",
        "       simple_regret_approx_16[slice1],\n",
        "       simple_regret_approx_17[slice1],\n",
        "       simple_regret_approx_18[slice1],\n",
        "       simple_regret_approx_19[slice1],\n",
        "       simple_regret_approx_20[slice1]]\n",
        "\n",
        "exact1 = [simple_regret_exact_1[slice1],\n",
        "       simple_regret_exact_2[slice1],\n",
        "       simple_regret_exact_3[slice1],\n",
        "       simple_regret_exact_4[slice1],\n",
        "       simple_regret_exact_5[slice1],\n",
        "       simple_regret_exact_6[slice1],\n",
        "       simple_regret_exact_7[slice1],\n",
        "       simple_regret_exact_8[slice1],\n",
        "       simple_regret_exact_9[slice1],\n",
        "       simple_regret_exact_10[slice1],\n",
        "       simple_regret_exact_11[slice1],\n",
        "       simple_regret_exact_12[slice1],\n",
        "       simple_regret_exact_13[slice1],\n",
        "       simple_regret_exact_14[slice1],\n",
        "       simple_regret_exact_15[slice1],\n",
        "       simple_regret_exact_16[slice1],\n",
        "       simple_regret_exact_17[slice1],\n",
        "       simple_regret_exact_18[slice1],\n",
        "       simple_regret_exact_19[slice1],\n",
        "       simple_regret_exact_20[slice1]]\n",
        "\n",
        "approx1_results = pd.DataFrame(approx1).sort_values(by=[0], ascending=False)\n",
        "exact1_results = pd.DataFrame(exact1).sort_values(by=[0], ascending=False)\n",
        "\n",
        "### Best simple regret minimization IQR - approx:\n",
        "lower_approx1 = np.asarray(approx1_results[4:5][0])[0]\n",
        "median_approx1 = np.asarray(approx1_results[9:10][0])[0]\n",
        "upper_approx1 = np.asarray(approx1_results[14:15][0])[0]\n",
        "\n",
        "lower_exact1 = np.asarray(exact1_results[4:5][0])[0]\n",
        "median_exact1 = np.asarray(exact1_results[9:10][0])[0]\n",
        "upper_exact1 = np.asarray(exact1_results[14:15][0])[0]"
      ]
    },
    {
      "cell_type": "code",
      "execution_count": 76,
      "metadata": {
        "id": "CgIkJA1xQxf2"
      },
      "outputs": [],
      "source": [
        "# Iteration11 :\n",
        "\n",
        "slice11 = 10\n",
        "\n",
        "approx11 = [simple_regret_approx_1[slice11],\n",
        "       simple_regret_approx_2[slice11],\n",
        "       simple_regret_approx_3[slice11],\n",
        "       simple_regret_approx_4[slice11],\n",
        "       simple_regret_approx_5[slice11],\n",
        "       simple_regret_approx_6[slice11],\n",
        "       simple_regret_approx_7[slice11],\n",
        "       simple_regret_approx_8[slice11],\n",
        "       simple_regret_approx_9[slice11],\n",
        "       simple_regret_approx_10[slice11],\n",
        "       simple_regret_approx_11[slice11],\n",
        "       simple_regret_approx_12[slice11],\n",
        "       simple_regret_approx_13[slice11],\n",
        "       simple_regret_approx_14[slice11],\n",
        "       simple_regret_approx_15[slice11],\n",
        "       simple_regret_approx_16[slice11],\n",
        "       simple_regret_approx_17[slice11],\n",
        "       simple_regret_approx_18[slice11],\n",
        "       simple_regret_approx_19[slice11],\n",
        "       simple_regret_approx_20[slice11]]\n",
        "\n",
        "exact11 = [simple_regret_exact_1[slice11],\n",
        "       simple_regret_exact_2[slice11],\n",
        "       simple_regret_exact_3[slice11],\n",
        "       simple_regret_exact_4[slice11],\n",
        "       simple_regret_exact_5[slice11],\n",
        "       simple_regret_exact_6[slice11],\n",
        "       simple_regret_exact_7[slice11],\n",
        "       simple_regret_exact_8[slice11],\n",
        "       simple_regret_exact_9[slice11],\n",
        "       simple_regret_exact_10[slice11],\n",
        "       simple_regret_exact_11[slice11],\n",
        "       simple_regret_exact_12[slice11],\n",
        "       simple_regret_exact_13[slice11],\n",
        "       simple_regret_exact_14[slice11],\n",
        "       simple_regret_exact_15[slice11],\n",
        "       simple_regret_exact_16[slice11],\n",
        "       simple_regret_exact_17[slice11],\n",
        "       simple_regret_exact_18[slice11],\n",
        "       simple_regret_exact_19[slice11],\n",
        "       simple_regret_exact_20[slice11]]\n",
        "\n",
        "approx11_results = pd.DataFrame(approx11).sort_values(by=[0], ascending=False)\n",
        "exact11_results = pd.DataFrame(exact11).sort_values(by=[0], ascending=False)\n",
        "\n",
        "### Best simple regret minimization IQR - approx:\n",
        "lower_approx11 = np.asarray(approx11_results[4:5][0])[0]\n",
        "median_approx11 = np.asarray(approx11_results[9:10][0])[0]\n",
        "upper_approx11 = np.asarray(approx11_results[14:15][0])[0]\n",
        "\n",
        "lower_exact11 = np.asarray(exact11_results[4:5][0])[0]\n",
        "median_exact11 = np.asarray(exact11_results[9:10][0])[0]\n",
        "upper_exact11 = np.asarray(exact11_results[14:15][0])[0]"
      ]
    },
    {
      "cell_type": "code",
      "execution_count": 77,
      "metadata": {
        "id": "MFePDfGuQxf2"
      },
      "outputs": [],
      "source": [
        "# Iteration21 :\n",
        "\n",
        "slice21 = 20\n",
        "\n",
        "approx21 = [simple_regret_approx_1[slice21],\n",
        "       simple_regret_approx_2[slice21],\n",
        "       simple_regret_approx_3[slice21],\n",
        "       simple_regret_approx_4[slice21],\n",
        "       simple_regret_approx_5[slice21],\n",
        "       simple_regret_approx_6[slice21],\n",
        "       simple_regret_approx_7[slice21],\n",
        "       simple_regret_approx_8[slice21],\n",
        "       simple_regret_approx_9[slice21],\n",
        "       simple_regret_approx_10[slice21],\n",
        "       simple_regret_approx_11[slice21],\n",
        "       simple_regret_approx_12[slice21],\n",
        "       simple_regret_approx_13[slice21],\n",
        "       simple_regret_approx_14[slice21],\n",
        "       simple_regret_approx_15[slice21],\n",
        "       simple_regret_approx_16[slice21],\n",
        "       simple_regret_approx_17[slice21],\n",
        "       simple_regret_approx_18[slice21],\n",
        "       simple_regret_approx_19[slice21],\n",
        "       simple_regret_approx_20[slice21]]\n",
        "\n",
        "exact21 = [simple_regret_exact_1[slice21],\n",
        "       simple_regret_exact_2[slice21],\n",
        "       simple_regret_exact_3[slice21],\n",
        "       simple_regret_exact_4[slice21],\n",
        "       simple_regret_exact_5[slice21],\n",
        "       simple_regret_exact_6[slice21],\n",
        "       simple_regret_exact_7[slice21],\n",
        "       simple_regret_exact_8[slice21],\n",
        "       simple_regret_exact_9[slice21],\n",
        "       simple_regret_exact_10[slice21],\n",
        "       simple_regret_exact_11[slice21],\n",
        "       simple_regret_exact_12[slice21],\n",
        "       simple_regret_exact_13[slice21],\n",
        "       simple_regret_exact_14[slice21],\n",
        "       simple_regret_exact_15[slice21],\n",
        "       simple_regret_exact_16[slice21],\n",
        "       simple_regret_exact_17[slice21],\n",
        "       simple_regret_exact_18[slice21],\n",
        "       simple_regret_exact_19[slice21],\n",
        "       simple_regret_exact_20[slice21]]\n",
        "\n",
        "approx21_results = pd.DataFrame(approx21).sort_values(by=[0], ascending=False)\n",
        "exact21_results = pd.DataFrame(exact21).sort_values(by=[0], ascending=False)\n",
        "\n",
        "### Best simple regret minimization IQR - approx:\n",
        "lower_approx21 = np.asarray(approx21_results[4:5][0])[0]\n",
        "median_approx21 = np.asarray(approx21_results[9:10][0])[0]\n",
        "upper_approx21 = np.asarray(approx21_results[14:15][0])[0]\n",
        "\n",
        "lower_exact21 = np.asarray(exact21_results[4:5][0])[0]\n",
        "median_exact21 = np.asarray(exact21_results[9:10][0])[0]\n",
        "upper_exact21 = np.asarray(exact21_results[14:15][0])[0]"
      ]
    },
    {
      "cell_type": "code",
      "execution_count": 78,
      "metadata": {
        "id": "PrRDB1kfQxf3"
      },
      "outputs": [],
      "source": [
        "# Iteration2 :\n",
        "\n",
        "slice2 = 1\n",
        "\n",
        "approx2 = [simple_regret_approx_1[slice2],\n",
        "       simple_regret_approx_2[slice2],\n",
        "       simple_regret_approx_3[slice2],\n",
        "       simple_regret_approx_4[slice2],\n",
        "       simple_regret_approx_5[slice2],\n",
        "       simple_regret_approx_6[slice2],\n",
        "       simple_regret_approx_7[slice2],\n",
        "       simple_regret_approx_8[slice2],\n",
        "       simple_regret_approx_9[slice2],\n",
        "       simple_regret_approx_10[slice2],\n",
        "       simple_regret_approx_11[slice2],\n",
        "       simple_regret_approx_12[slice2],\n",
        "       simple_regret_approx_13[slice2],\n",
        "       simple_regret_approx_14[slice2],\n",
        "       simple_regret_approx_15[slice2],\n",
        "       simple_regret_approx_16[slice2],\n",
        "       simple_regret_approx_17[slice2],\n",
        "       simple_regret_approx_18[slice2],\n",
        "       simple_regret_approx_19[slice2],\n",
        "       simple_regret_approx_20[slice2]]\n",
        "\n",
        "exact2 = [simple_regret_exact_1[slice2],\n",
        "       simple_regret_exact_2[slice2],\n",
        "       simple_regret_exact_3[slice2],\n",
        "       simple_regret_exact_4[slice2],\n",
        "       simple_regret_exact_5[slice2],\n",
        "       simple_regret_exact_6[slice2],\n",
        "       simple_regret_exact_7[slice2],\n",
        "       simple_regret_exact_8[slice2],\n",
        "       simple_regret_exact_9[slice2],\n",
        "       simple_regret_exact_10[slice2],\n",
        "       simple_regret_exact_11[slice2],\n",
        "       simple_regret_exact_12[slice2],\n",
        "       simple_regret_exact_13[slice2],\n",
        "       simple_regret_exact_14[slice2],\n",
        "       simple_regret_exact_15[slice2],\n",
        "       simple_regret_exact_16[slice2],\n",
        "       simple_regret_exact_17[slice2],\n",
        "       simple_regret_exact_18[slice2],\n",
        "       simple_regret_exact_19[slice2],\n",
        "       simple_regret_exact_20[slice2]]\n",
        "\n",
        "approx2_results = pd.DataFrame(approx2).sort_values(by=[0], ascending=False)\n",
        "exact2_results = pd.DataFrame(exact2).sort_values(by=[0], ascending=False)\n",
        "\n",
        "### Best simple regret minimization IQR - approx:\n",
        "lower_approx2 = np.asarray(approx2_results[4:5][0])[0]\n",
        "median_approx2 = np.asarray(approx2_results[9:10][0])[0]\n",
        "upper_approx2 = np.asarray(approx2_results[14:15][0])[0]\n",
        "\n",
        "lower_exact2 = np.asarray(exact2_results[4:5][0])[0]\n",
        "median_exact2 = np.asarray(exact2_results[9:10][0])[0]\n",
        "upper_exact2 = np.asarray(exact2_results[14:15][0])[0]"
      ]
    },
    {
      "cell_type": "code",
      "execution_count": 79,
      "metadata": {
        "id": "B8ncJDYeQxf3"
      },
      "outputs": [],
      "source": [
        "# Iteration12 :\n",
        "\n",
        "slice12 = 11\n",
        "\n",
        "approx12 = [simple_regret_approx_1[slice12],\n",
        "       simple_regret_approx_2[slice12],\n",
        "       simple_regret_approx_3[slice12],\n",
        "       simple_regret_approx_4[slice12],\n",
        "       simple_regret_approx_5[slice12],\n",
        "       simple_regret_approx_6[slice12],\n",
        "       simple_regret_approx_7[slice12],\n",
        "       simple_regret_approx_8[slice12],\n",
        "       simple_regret_approx_9[slice12],\n",
        "       simple_regret_approx_10[slice12],\n",
        "       simple_regret_approx_11[slice12],\n",
        "       simple_regret_approx_12[slice12],\n",
        "       simple_regret_approx_13[slice12],\n",
        "       simple_regret_approx_14[slice12],\n",
        "       simple_regret_approx_15[slice12],\n",
        "       simple_regret_approx_16[slice12],\n",
        "       simple_regret_approx_17[slice12],\n",
        "       simple_regret_approx_18[slice12],\n",
        "       simple_regret_approx_19[slice12],\n",
        "       simple_regret_approx_20[slice12]]\n",
        "\n",
        "exact12 = [simple_regret_exact_1[slice12],\n",
        "       simple_regret_exact_2[slice12],\n",
        "       simple_regret_exact_3[slice12],\n",
        "       simple_regret_exact_4[slice12],\n",
        "       simple_regret_exact_5[slice12],\n",
        "       simple_regret_exact_6[slice12],\n",
        "       simple_regret_exact_7[slice12],\n",
        "       simple_regret_exact_8[slice12],\n",
        "       simple_regret_exact_9[slice12],\n",
        "       simple_regret_exact_10[slice12],\n",
        "       simple_regret_exact_11[slice12],\n",
        "       simple_regret_exact_12[slice12],\n",
        "       simple_regret_exact_13[slice12],\n",
        "       simple_regret_exact_14[slice12],\n",
        "       simple_regret_exact_15[slice12],\n",
        "       simple_regret_exact_16[slice12],\n",
        "       simple_regret_exact_17[slice12],\n",
        "       simple_regret_exact_18[slice12],\n",
        "       simple_regret_exact_19[slice12],\n",
        "       simple_regret_exact_20[slice12]]\n",
        "\n",
        "approx12_results = pd.DataFrame(approx12).sort_values(by=[0], ascending=False)\n",
        "exact12_results = pd.DataFrame(exact12).sort_values(by=[0], ascending=False)\n",
        "\n",
        "### Best simple regret minimization IQR - approx:\n",
        "lower_approx12 = np.asarray(approx12_results[4:5][0])[0]\n",
        "median_approx12 = np.asarray(approx12_results[9:10][0])[0]\n",
        "upper_approx12 = np.asarray(approx12_results[14:15][0])[0]\n",
        "\n",
        "lower_exact12 = np.asarray(exact12_results[4:5][0])[0]\n",
        "median_exact12 = np.asarray(exact12_results[9:10][0])[0]\n",
        "upper_exact12 = np.asarray(exact12_results[14:15][0])[0]"
      ]
    },
    {
      "cell_type": "code",
      "execution_count": 80,
      "metadata": {
        "id": "Jn4KpGvcQxf4"
      },
      "outputs": [],
      "source": [
        "# Iteration3 :\n",
        "\n",
        "slice3 = 2\n",
        "\n",
        "approx3 = [simple_regret_approx_1[slice3],\n",
        "       simple_regret_approx_2[slice3],\n",
        "       simple_regret_approx_3[slice3],\n",
        "       simple_regret_approx_4[slice3],\n",
        "       simple_regret_approx_5[slice3],\n",
        "       simple_regret_approx_6[slice3],\n",
        "       simple_regret_approx_7[slice3],\n",
        "       simple_regret_approx_8[slice3],\n",
        "       simple_regret_approx_9[slice3],\n",
        "       simple_regret_approx_10[slice3],\n",
        "       simple_regret_approx_11[slice3],\n",
        "       simple_regret_approx_12[slice3],\n",
        "       simple_regret_approx_13[slice3],\n",
        "       simple_regret_approx_14[slice3],\n",
        "       simple_regret_approx_15[slice3],\n",
        "       simple_regret_approx_16[slice3],\n",
        "       simple_regret_approx_17[slice3],\n",
        "       simple_regret_approx_18[slice3],\n",
        "       simple_regret_approx_19[slice3],\n",
        "       simple_regret_approx_20[slice3]]\n",
        "\n",
        "exact3 = [simple_regret_exact_1[slice3],\n",
        "       simple_regret_exact_2[slice3],\n",
        "       simple_regret_exact_3[slice3],\n",
        "       simple_regret_exact_4[slice3],\n",
        "       simple_regret_exact_5[slice3],\n",
        "       simple_regret_exact_6[slice3],\n",
        "       simple_regret_exact_7[slice3],\n",
        "       simple_regret_exact_8[slice3],\n",
        "       simple_regret_exact_9[slice3],\n",
        "       simple_regret_exact_10[slice3],\n",
        "       simple_regret_exact_11[slice3],\n",
        "       simple_regret_exact_12[slice3],\n",
        "       simple_regret_exact_13[slice3],\n",
        "       simple_regret_exact_14[slice3],\n",
        "       simple_regret_exact_15[slice3],\n",
        "       simple_regret_exact_16[slice3],\n",
        "       simple_regret_exact_17[slice3],\n",
        "       simple_regret_exact_18[slice3],\n",
        "       simple_regret_exact_19[slice3],\n",
        "       simple_regret_exact_20[slice3]]\n",
        "\n",
        "approx3_results = pd.DataFrame(approx3).sort_values(by=[0], ascending=False)\n",
        "exact3_results = pd.DataFrame(exact3).sort_values(by=[0], ascending=False)\n",
        "\n",
        "### Best simple regret minimization IQR - approx:\n",
        "lower_approx3 = np.asarray(approx3_results[4:5][0])[0]\n",
        "median_approx3 = np.asarray(approx3_results[9:10][0])[0]\n",
        "upper_approx3 = np.asarray(approx3_results[14:15][0])[0]\n",
        "\n",
        "lower_exact3 = np.asarray(exact3_results[4:5][0])[0]\n",
        "median_exact3 = np.asarray(exact3_results[9:10][0])[0]\n",
        "upper_exact3 = np.asarray(exact3_results[14:15][0])[0]"
      ]
    },
    {
      "cell_type": "code",
      "execution_count": 81,
      "metadata": {
        "id": "plf83wxrQxf4"
      },
      "outputs": [],
      "source": [
        "# Iteration13 :\n",
        "\n",
        "slice13 = 12\n",
        "\n",
        "approx13 = [simple_regret_approx_1[slice13],\n",
        "       simple_regret_approx_2[slice13],\n",
        "       simple_regret_approx_3[slice13],\n",
        "       simple_regret_approx_4[slice13],\n",
        "       simple_regret_approx_5[slice13],\n",
        "       simple_regret_approx_6[slice13],\n",
        "       simple_regret_approx_7[slice13],\n",
        "       simple_regret_approx_8[slice13],\n",
        "       simple_regret_approx_9[slice13],\n",
        "       simple_regret_approx_10[slice13],\n",
        "       simple_regret_approx_11[slice13],\n",
        "       simple_regret_approx_12[slice13],\n",
        "       simple_regret_approx_13[slice13],\n",
        "       simple_regret_approx_14[slice13],\n",
        "       simple_regret_approx_15[slice13],\n",
        "       simple_regret_approx_16[slice13],\n",
        "       simple_regret_approx_17[slice13],\n",
        "       simple_regret_approx_18[slice13],\n",
        "       simple_regret_approx_19[slice13],\n",
        "       simple_regret_approx_20[slice13]]\n",
        "\n",
        "exact13 = [simple_regret_exact_1[slice13],\n",
        "       simple_regret_exact_2[slice13],\n",
        "       simple_regret_exact_3[slice13],\n",
        "       simple_regret_exact_4[slice13],\n",
        "       simple_regret_exact_5[slice13],\n",
        "       simple_regret_exact_6[slice13],\n",
        "       simple_regret_exact_7[slice13],\n",
        "       simple_regret_exact_8[slice13],\n",
        "       simple_regret_exact_9[slice13],\n",
        "       simple_regret_exact_10[slice13],\n",
        "       simple_regret_exact_11[slice13],\n",
        "       simple_regret_exact_12[slice13],\n",
        "       simple_regret_exact_13[slice13],\n",
        "       simple_regret_exact_14[slice13],\n",
        "       simple_regret_exact_15[slice13],\n",
        "       simple_regret_exact_16[slice13],\n",
        "       simple_regret_exact_17[slice13],\n",
        "       simple_regret_exact_18[slice13],\n",
        "       simple_regret_exact_19[slice13],\n",
        "       simple_regret_exact_20[slice13]]\n",
        "\n",
        "approx13_results = pd.DataFrame(approx13).sort_values(by=[0], ascending=False)\n",
        "exact13_results = pd.DataFrame(exact13).sort_values(by=[0], ascending=False)\n",
        "\n",
        "### Best simple regret minimization IQR - approx:\n",
        "lower_approx13 = np.asarray(approx13_results[4:5][0])[0]\n",
        "median_approx13 = np.asarray(approx13_results[9:10][0])[0]\n",
        "upper_approx13 = np.asarray(approx13_results[14:15][0])[0]\n",
        "\n",
        "lower_exact13 = np.asarray(exact13_results[4:5][0])[0]\n",
        "median_exact13 = np.asarray(exact13_results[9:10][0])[0]\n",
        "upper_exact13 = np.asarray(exact13_results[14:15][0])[0]"
      ]
    },
    {
      "cell_type": "code",
      "execution_count": 82,
      "metadata": {
        "id": "9A7mlVvJQxf5"
      },
      "outputs": [],
      "source": [
        "# Iteration4 :\n",
        "\n",
        "slice4 = 3\n",
        "\n",
        "approx4 = [simple_regret_approx_1[slice4],\n",
        "       simple_regret_approx_2[slice4],\n",
        "       simple_regret_approx_3[slice4],\n",
        "       simple_regret_approx_4[slice4],\n",
        "       simple_regret_approx_5[slice4],\n",
        "       simple_regret_approx_6[slice4],\n",
        "       simple_regret_approx_7[slice4],\n",
        "       simple_regret_approx_8[slice4],\n",
        "       simple_regret_approx_9[slice4],\n",
        "       simple_regret_approx_10[slice4],\n",
        "       simple_regret_approx_11[slice4],\n",
        "       simple_regret_approx_12[slice4],\n",
        "       simple_regret_approx_13[slice4],\n",
        "       simple_regret_approx_14[slice4],\n",
        "       simple_regret_approx_15[slice4],\n",
        "       simple_regret_approx_16[slice4],\n",
        "       simple_regret_approx_17[slice4],\n",
        "       simple_regret_approx_18[slice4],\n",
        "       simple_regret_approx_19[slice4],\n",
        "       simple_regret_approx_20[slice4]]\n",
        "\n",
        "exact4 = [simple_regret_exact_1[slice4],\n",
        "       simple_regret_exact_2[slice4],\n",
        "       simple_regret_exact_3[slice4],\n",
        "       simple_regret_exact_4[slice4],\n",
        "       simple_regret_exact_5[slice4],\n",
        "       simple_regret_exact_6[slice4],\n",
        "       simple_regret_exact_7[slice4],\n",
        "       simple_regret_exact_8[slice4],\n",
        "       simple_regret_exact_9[slice4],\n",
        "       simple_regret_exact_10[slice4],\n",
        "       simple_regret_exact_11[slice4],\n",
        "       simple_regret_exact_12[slice4],\n",
        "       simple_regret_exact_13[slice4],\n",
        "       simple_regret_exact_14[slice4],\n",
        "       simple_regret_exact_15[slice4],\n",
        "       simple_regret_exact_16[slice4],\n",
        "       simple_regret_exact_17[slice4],\n",
        "       simple_regret_exact_18[slice4],\n",
        "       simple_regret_exact_19[slice4],\n",
        "       simple_regret_exact_20[slice4]]\n",
        "\n",
        "approx4_results = pd.DataFrame(approx4).sort_values(by=[0], ascending=False)\n",
        "exact4_results = pd.DataFrame(exact4).sort_values(by=[0], ascending=False)\n",
        "\n",
        "### Best simple regret minimization IQR - approx:\n",
        "lower_approx4 = np.asarray(approx4_results[4:5][0])[0]\n",
        "median_approx4 = np.asarray(approx4_results[9:10][0])[0]\n",
        "upper_approx4 = np.asarray(approx4_results[14:15][0])[0]\n",
        "\n",
        "lower_exact4 = np.asarray(exact4_results[4:5][0])[0]\n",
        "median_exact4 = np.asarray(exact4_results[9:10][0])[0]\n",
        "upper_exact4 = np.asarray(exact4_results[14:15][0])[0]"
      ]
    },
    {
      "cell_type": "code",
      "execution_count": 83,
      "metadata": {
        "id": "ijq-rioYQxf5"
      },
      "outputs": [],
      "source": [
        "# Iteration14 :\n",
        "\n",
        "slice14 = 13\n",
        "\n",
        "approx14 = [simple_regret_approx_1[slice14],\n",
        "       simple_regret_approx_2[slice14],\n",
        "       simple_regret_approx_3[slice14],\n",
        "       simple_regret_approx_4[slice14],\n",
        "       simple_regret_approx_5[slice14],\n",
        "       simple_regret_approx_6[slice14],\n",
        "       simple_regret_approx_7[slice14],\n",
        "       simple_regret_approx_8[slice14],\n",
        "       simple_regret_approx_9[slice14],\n",
        "       simple_regret_approx_10[slice14],\n",
        "       simple_regret_approx_11[slice14],\n",
        "       simple_regret_approx_12[slice14],\n",
        "       simple_regret_approx_13[slice14],\n",
        "       simple_regret_approx_14[slice14],\n",
        "       simple_regret_approx_15[slice14],\n",
        "       simple_regret_approx_16[slice14],\n",
        "       simple_regret_approx_17[slice14],\n",
        "       simple_regret_approx_18[slice14],\n",
        "       simple_regret_approx_19[slice14],\n",
        "       simple_regret_approx_20[slice14]]\n",
        "\n",
        "exact14 = [simple_regret_exact_1[slice14],\n",
        "       simple_regret_exact_2[slice14],\n",
        "       simple_regret_exact_3[slice14],\n",
        "       simple_regret_exact_4[slice14],\n",
        "       simple_regret_exact_5[slice14],\n",
        "       simple_regret_exact_6[slice14],\n",
        "       simple_regret_exact_7[slice14],\n",
        "       simple_regret_exact_8[slice14],\n",
        "       simple_regret_exact_9[slice14],\n",
        "       simple_regret_exact_10[slice14],\n",
        "       simple_regret_exact_11[slice14],\n",
        "       simple_regret_exact_12[slice14],\n",
        "       simple_regret_exact_13[slice14],\n",
        "       simple_regret_exact_14[slice14],\n",
        "       simple_regret_exact_15[slice14],\n",
        "       simple_regret_exact_16[slice14],\n",
        "       simple_regret_exact_17[slice14],\n",
        "       simple_regret_exact_18[slice14],\n",
        "       simple_regret_exact_19[slice14],\n",
        "       simple_regret_exact_20[slice14]]\n",
        "\n",
        "approx14_results = pd.DataFrame(approx14).sort_values(by=[0], ascending=False)\n",
        "exact14_results = pd.DataFrame(exact14).sort_values(by=[0], ascending=False)\n",
        "\n",
        "### Best simple regret minimization IQR - approx:\n",
        "lower_approx14 = np.asarray(approx14_results[4:5][0])[0]\n",
        "median_approx14 = np.asarray(approx14_results[9:10][0])[0]\n",
        "upper_approx14 = np.asarray(approx14_results[14:15][0])[0]\n",
        "\n",
        "lower_exact14 = np.asarray(exact14_results[4:5][0])[0]\n",
        "median_exact14 = np.asarray(exact14_results[9:10][0])[0]\n",
        "upper_exact14 = np.asarray(exact14_results[14:15][0])[0]"
      ]
    },
    {
      "cell_type": "code",
      "execution_count": 84,
      "metadata": {
        "id": "XINlZjoTd-ZK"
      },
      "outputs": [],
      "source": [
        "# Iteration5 :\n",
        "\n",
        "slice5 = 4\n",
        "\n",
        "approx5 = [simple_regret_approx_1[slice5],\n",
        "       simple_regret_approx_2[slice5],\n",
        "       simple_regret_approx_3[slice5],\n",
        "       simple_regret_approx_4[slice5],\n",
        "       simple_regret_approx_5[slice5],\n",
        "       simple_regret_approx_6[slice5],\n",
        "       simple_regret_approx_7[slice5],\n",
        "       simple_regret_approx_8[slice5],\n",
        "       simple_regret_approx_9[slice5],\n",
        "       simple_regret_approx_10[slice5],\n",
        "       simple_regret_approx_11[slice5],\n",
        "       simple_regret_approx_12[slice5],\n",
        "       simple_regret_approx_13[slice5],\n",
        "       simple_regret_approx_14[slice5],\n",
        "       simple_regret_approx_15[slice5],\n",
        "       simple_regret_approx_16[slice5],\n",
        "       simple_regret_approx_17[slice5],\n",
        "       simple_regret_approx_18[slice5],\n",
        "       simple_regret_approx_19[slice5],\n",
        "       simple_regret_approx_20[slice5]]\n",
        "\n",
        "exact5 = [simple_regret_exact_1[slice5],\n",
        "       simple_regret_exact_2[slice5],\n",
        "       simple_regret_exact_3[slice5],\n",
        "       simple_regret_exact_4[slice5],\n",
        "       simple_regret_exact_5[slice5],\n",
        "       simple_regret_exact_6[slice5],\n",
        "       simple_regret_exact_7[slice5],\n",
        "       simple_regret_exact_8[slice5],\n",
        "       simple_regret_exact_9[slice5],\n",
        "       simple_regret_exact_10[slice5],\n",
        "       simple_regret_exact_11[slice5],\n",
        "       simple_regret_exact_12[slice5],\n",
        "       simple_regret_exact_13[slice5],\n",
        "       simple_regret_exact_14[slice5],\n",
        "       simple_regret_exact_15[slice5],\n",
        "       simple_regret_exact_16[slice5],\n",
        "       simple_regret_exact_17[slice5],\n",
        "       simple_regret_exact_18[slice5],\n",
        "       simple_regret_exact_19[slice5],\n",
        "       simple_regret_exact_20[slice5]]\n",
        "\n",
        "approx5_results = pd.DataFrame(approx5).sort_values(by=[0], ascending=False)\n",
        "exact5_results = pd.DataFrame(exact5).sort_values(by=[0], ascending=False)\n",
        "\n",
        "### Best simple regret minimization IQR - approx:\n",
        "lower_approx5 = np.asarray(approx5_results[4:5][0])[0]\n",
        "median_approx5 = np.asarray(approx5_results[9:10][0])[0]\n",
        "upper_approx5 = np.asarray(approx5_results[14:15][0])[0]\n",
        "\n",
        "lower_exact5 = np.asarray(exact5_results[4:5][0])[0]\n",
        "median_exact5 = np.asarray(exact5_results[9:10][0])[0]\n",
        "upper_exact5 = np.asarray(exact5_results[14:15][0])[0]"
      ]
    },
    {
      "cell_type": "code",
      "execution_count": 85,
      "metadata": {
        "id": "4aZ7C8sOQxf6"
      },
      "outputs": [],
      "source": [
        "# Iteration15 :\n",
        "\n",
        "slice15 = 14\n",
        "\n",
        "approx15 = [simple_regret_approx_1[slice15],\n",
        "       simple_regret_approx_2[slice15],\n",
        "       simple_regret_approx_3[slice15],\n",
        "       simple_regret_approx_4[slice15],\n",
        "       simple_regret_approx_5[slice15],\n",
        "       simple_regret_approx_6[slice15],\n",
        "       simple_regret_approx_7[slice15],\n",
        "       simple_regret_approx_8[slice15],\n",
        "       simple_regret_approx_9[slice15],\n",
        "       simple_regret_approx_10[slice15],\n",
        "       simple_regret_approx_11[slice15],\n",
        "       simple_regret_approx_12[slice15],\n",
        "       simple_regret_approx_13[slice15],\n",
        "       simple_regret_approx_14[slice15],\n",
        "       simple_regret_approx_15[slice15],\n",
        "       simple_regret_approx_16[slice15],\n",
        "       simple_regret_approx_17[slice15],\n",
        "       simple_regret_approx_18[slice15],\n",
        "       simple_regret_approx_19[slice15],\n",
        "       simple_regret_approx_20[slice15]]\n",
        "\n",
        "exact15 = [simple_regret_exact_1[slice15],\n",
        "       simple_regret_exact_2[slice15],\n",
        "       simple_regret_exact_3[slice15],\n",
        "       simple_regret_exact_4[slice15],\n",
        "       simple_regret_exact_5[slice15],\n",
        "       simple_regret_exact_6[slice15],\n",
        "       simple_regret_exact_7[slice15],\n",
        "       simple_regret_exact_8[slice15],\n",
        "       simple_regret_exact_9[slice15],\n",
        "       simple_regret_exact_10[slice15],\n",
        "       simple_regret_exact_11[slice15],\n",
        "       simple_regret_exact_12[slice15],\n",
        "       simple_regret_exact_13[slice15],\n",
        "       simple_regret_exact_14[slice15],\n",
        "       simple_regret_exact_15[slice15],\n",
        "       simple_regret_exact_16[slice15],\n",
        "       simple_regret_exact_17[slice15],\n",
        "       simple_regret_exact_18[slice15],\n",
        "       simple_regret_exact_19[slice15],\n",
        "       simple_regret_exact_20[slice15]]\n",
        "\n",
        "approx15_results = pd.DataFrame(approx15).sort_values(by=[0], ascending=False)\n",
        "exact15_results = pd.DataFrame(exact15).sort_values(by=[0], ascending=False)\n",
        "\n",
        "### Best simple regret minimization IQR - approx:\n",
        "lower_approx15 = np.asarray(approx15_results[4:5][0])[0]\n",
        "median_approx15 = np.asarray(approx15_results[9:10][0])[0]\n",
        "upper_approx15 = np.asarray(approx15_results[14:15][0])[0]\n",
        "\n",
        "lower_exact15 = np.asarray(exact15_results[4:5][0])[0]\n",
        "median_exact15 = np.asarray(exact15_results[9:10][0])[0]\n",
        "upper_exact15 = np.asarray(exact15_results[14:15][0])[0]"
      ]
    },
    {
      "cell_type": "code",
      "execution_count": 86,
      "metadata": {
        "id": "KJINKhv1Qxf6"
      },
      "outputs": [],
      "source": [
        "# Iteration6 :\n",
        "\n",
        "slice6 = 5\n",
        "\n",
        "approx6 = [simple_regret_approx_1[slice6],\n",
        "       simple_regret_approx_2[slice6],\n",
        "       simple_regret_approx_3[slice6],\n",
        "       simple_regret_approx_4[slice6],\n",
        "       simple_regret_approx_5[slice6],\n",
        "       simple_regret_approx_6[slice6],\n",
        "       simple_regret_approx_7[slice6],\n",
        "       simple_regret_approx_8[slice6],\n",
        "       simple_regret_approx_9[slice6],\n",
        "       simple_regret_approx_10[slice6],\n",
        "       simple_regret_approx_11[slice6],\n",
        "       simple_regret_approx_12[slice6],\n",
        "       simple_regret_approx_13[slice6],\n",
        "       simple_regret_approx_14[slice6],\n",
        "       simple_regret_approx_15[slice6],\n",
        "       simple_regret_approx_16[slice6],\n",
        "       simple_regret_approx_17[slice6],\n",
        "       simple_regret_approx_18[slice6],\n",
        "       simple_regret_approx_19[slice6],\n",
        "       simple_regret_approx_20[slice6]]\n",
        "\n",
        "exact6 = [simple_regret_exact_1[slice6],\n",
        "       simple_regret_exact_2[slice6],\n",
        "       simple_regret_exact_3[slice6],\n",
        "       simple_regret_exact_4[slice6],\n",
        "       simple_regret_exact_5[slice6],\n",
        "       simple_regret_exact_6[slice6],\n",
        "       simple_regret_exact_7[slice6],\n",
        "       simple_regret_exact_8[slice6],\n",
        "       simple_regret_exact_9[slice6],\n",
        "       simple_regret_exact_10[slice6],\n",
        "       simple_regret_exact_11[slice6],\n",
        "       simple_regret_exact_12[slice6],\n",
        "       simple_regret_exact_13[slice6],\n",
        "       simple_regret_exact_14[slice6],\n",
        "       simple_regret_exact_15[slice6],\n",
        "       simple_regret_exact_16[slice6],\n",
        "       simple_regret_exact_17[slice6],\n",
        "       simple_regret_exact_18[slice6],\n",
        "       simple_regret_exact_19[slice6],\n",
        "       simple_regret_exact_20[slice6]]\n",
        "\n",
        "approx6_results = pd.DataFrame(approx6).sort_values(by=[0], ascending=False)\n",
        "exact6_results = pd.DataFrame(exact6).sort_values(by=[0], ascending=False)\n",
        "\n",
        "### Best simple regret minimization IQR - approx:\n",
        "lower_approx6 = np.asarray(approx6_results[4:5][0])[0]\n",
        "median_approx6 = np.asarray(approx6_results[9:10][0])[0]\n",
        "upper_approx6 = np.asarray(approx6_results[14:15][0])[0]\n",
        "\n",
        "lower_exact6 = np.asarray(exact6_results[4:5][0])[0]\n",
        "median_exact6 = np.asarray(exact6_results[9:10][0])[0]\n",
        "upper_exact6 = np.asarray(exact6_results[14:15][0])[0]"
      ]
    },
    {
      "cell_type": "code",
      "execution_count": 87,
      "metadata": {
        "id": "nwC5N1FsQxf7"
      },
      "outputs": [],
      "source": [
        "# Iteration16 :\n",
        "\n",
        "slice16 = 15\n",
        "\n",
        "approx16 = [simple_regret_approx_1[slice16],\n",
        "       simple_regret_approx_2[slice16],\n",
        "       simple_regret_approx_3[slice16],\n",
        "       simple_regret_approx_4[slice16],\n",
        "       simple_regret_approx_5[slice16],\n",
        "       simple_regret_approx_6[slice16],\n",
        "       simple_regret_approx_7[slice16],\n",
        "       simple_regret_approx_8[slice16],\n",
        "       simple_regret_approx_9[slice16],\n",
        "       simple_regret_approx_10[slice16],\n",
        "       simple_regret_approx_11[slice16],\n",
        "       simple_regret_approx_12[slice16],\n",
        "       simple_regret_approx_13[slice16],\n",
        "       simple_regret_approx_14[slice16],\n",
        "       simple_regret_approx_15[slice16],\n",
        "       simple_regret_approx_16[slice16],\n",
        "       simple_regret_approx_17[slice16],\n",
        "       simple_regret_approx_18[slice16],\n",
        "       simple_regret_approx_19[slice16],\n",
        "       simple_regret_approx_20[slice16]]\n",
        "\n",
        "exact16 = [simple_regret_exact_1[slice16],\n",
        "       simple_regret_exact_2[slice16],\n",
        "       simple_regret_exact_3[slice16],\n",
        "       simple_regret_exact_4[slice16],\n",
        "       simple_regret_exact_5[slice16],\n",
        "       simple_regret_exact_6[slice16],\n",
        "       simple_regret_exact_7[slice16],\n",
        "       simple_regret_exact_8[slice16],\n",
        "       simple_regret_exact_9[slice16],\n",
        "       simple_regret_exact_10[slice16],\n",
        "       simple_regret_exact_11[slice16],\n",
        "       simple_regret_exact_12[slice16],\n",
        "       simple_regret_exact_13[slice16],\n",
        "       simple_regret_exact_14[slice16],\n",
        "       simple_regret_exact_15[slice16],\n",
        "       simple_regret_exact_16[slice16],\n",
        "       simple_regret_exact_17[slice16],\n",
        "       simple_regret_exact_18[slice16],\n",
        "       simple_regret_exact_19[slice16],\n",
        "       simple_regret_exact_20[slice16]]\n",
        "\n",
        "approx16_results = pd.DataFrame(approx16).sort_values(by=[0], ascending=False)\n",
        "exact16_results = pd.DataFrame(exact16).sort_values(by=[0], ascending=False)\n",
        "\n",
        "### Best simple regret minimization IQR - approx:\n",
        "lower_approx16 = np.asarray(approx16_results[4:5][0])[0]\n",
        "median_approx16 = np.asarray(approx16_results[9:10][0])[0]\n",
        "upper_approx16 = np.asarray(approx16_results[14:15][0])[0]\n",
        "\n",
        "lower_exact16 = np.asarray(exact16_results[4:5][0])[0]\n",
        "median_exact16 = np.asarray(exact16_results[9:10][0])[0]\n",
        "upper_exact16 = np.asarray(exact16_results[14:15][0])[0]"
      ]
    },
    {
      "cell_type": "code",
      "execution_count": 88,
      "metadata": {
        "id": "TrPV0AfnQxf7"
      },
      "outputs": [],
      "source": [
        "# Iteration7 :\n",
        "\n",
        "slice7 = 6\n",
        "\n",
        "approx7 = [simple_regret_approx_1[slice7],\n",
        "       simple_regret_approx_2[slice7],\n",
        "       simple_regret_approx_3[slice7],\n",
        "       simple_regret_approx_4[slice7],\n",
        "       simple_regret_approx_5[slice7],\n",
        "       simple_regret_approx_6[slice7],\n",
        "       simple_regret_approx_7[slice7],\n",
        "       simple_regret_approx_8[slice7],\n",
        "       simple_regret_approx_9[slice7],\n",
        "       simple_regret_approx_10[slice7],\n",
        "       simple_regret_approx_11[slice7],\n",
        "       simple_regret_approx_12[slice7],\n",
        "       simple_regret_approx_13[slice7],\n",
        "       simple_regret_approx_14[slice7],\n",
        "       simple_regret_approx_15[slice7],\n",
        "       simple_regret_approx_16[slice7],\n",
        "       simple_regret_approx_17[slice7],\n",
        "       simple_regret_approx_18[slice7],\n",
        "       simple_regret_approx_19[slice7],\n",
        "       simple_regret_approx_20[slice7]]\n",
        "\n",
        "exact7 = [simple_regret_exact_1[slice7],\n",
        "       simple_regret_exact_2[slice7],\n",
        "       simple_regret_exact_3[slice7],\n",
        "       simple_regret_exact_4[slice7],\n",
        "       simple_regret_exact_5[slice7],\n",
        "       simple_regret_exact_6[slice7],\n",
        "       simple_regret_exact_7[slice7],\n",
        "       simple_regret_exact_8[slice7],\n",
        "       simple_regret_exact_9[slice7],\n",
        "       simple_regret_exact_10[slice7],\n",
        "       simple_regret_exact_11[slice7],\n",
        "       simple_regret_exact_12[slice7],\n",
        "       simple_regret_exact_13[slice7],\n",
        "       simple_regret_exact_14[slice7],\n",
        "       simple_regret_exact_15[slice7],\n",
        "       simple_regret_exact_16[slice7],\n",
        "       simple_regret_exact_17[slice7],\n",
        "       simple_regret_exact_18[slice7],\n",
        "       simple_regret_exact_19[slice7],\n",
        "       simple_regret_exact_20[slice7]]\n",
        "\n",
        "approx7_results = pd.DataFrame(approx7).sort_values(by=[0], ascending=False)\n",
        "exact7_results = pd.DataFrame(exact7).sort_values(by=[0], ascending=False)\n",
        "\n",
        "### Best simple regret minimization IQR - approx:\n",
        "lower_approx7 = np.asarray(approx7_results[4:5][0])[0]\n",
        "median_approx7 = np.asarray(approx7_results[9:10][0])[0]\n",
        "upper_approx7 = np.asarray(approx7_results[14:15][0])[0]\n",
        "\n",
        "lower_exact7 = np.asarray(exact7_results[4:5][0])[0]\n",
        "median_exact7 = np.asarray(exact7_results[9:10][0])[0]\n",
        "upper_exact7 = np.asarray(exact7_results[14:15][0])[0]"
      ]
    },
    {
      "cell_type": "code",
      "execution_count": 89,
      "metadata": {
        "id": "Ub_-wpK4Qxf8"
      },
      "outputs": [],
      "source": [
        "# Iteration17 :\n",
        "\n",
        "slice17 = 16\n",
        "\n",
        "approx17 = [simple_regret_approx_1[slice17],\n",
        "       simple_regret_approx_2[slice17],\n",
        "       simple_regret_approx_3[slice17],\n",
        "       simple_regret_approx_4[slice17],\n",
        "       simple_regret_approx_5[slice17],\n",
        "       simple_regret_approx_6[slice17],\n",
        "       simple_regret_approx_7[slice17],\n",
        "       simple_regret_approx_8[slice17],\n",
        "       simple_regret_approx_9[slice17],\n",
        "       simple_regret_approx_10[slice17],\n",
        "       simple_regret_approx_11[slice17],\n",
        "       simple_regret_approx_12[slice17],\n",
        "       simple_regret_approx_13[slice17],\n",
        "       simple_regret_approx_14[slice17],\n",
        "       simple_regret_approx_15[slice17],\n",
        "       simple_regret_approx_16[slice17],\n",
        "       simple_regret_approx_17[slice17],\n",
        "       simple_regret_approx_18[slice17],\n",
        "       simple_regret_approx_19[slice17],\n",
        "       simple_regret_approx_20[slice17]]\n",
        "\n",
        "exact17 = [simple_regret_exact_1[slice17],\n",
        "       simple_regret_exact_2[slice17],\n",
        "       simple_regret_exact_3[slice17],\n",
        "       simple_regret_exact_4[slice17],\n",
        "       simple_regret_exact_5[slice17],\n",
        "       simple_regret_exact_6[slice17],\n",
        "       simple_regret_exact_7[slice17],\n",
        "       simple_regret_exact_8[slice17],\n",
        "       simple_regret_exact_9[slice17],\n",
        "       simple_regret_exact_10[slice17],\n",
        "       simple_regret_exact_11[slice17],\n",
        "       simple_regret_exact_12[slice17],\n",
        "       simple_regret_exact_13[slice17],\n",
        "       simple_regret_exact_14[slice17],\n",
        "       simple_regret_exact_15[slice17],\n",
        "       simple_regret_exact_16[slice17],\n",
        "       simple_regret_exact_17[slice17],\n",
        "       simple_regret_exact_18[slice17],\n",
        "       simple_regret_exact_19[slice17],\n",
        "       simple_regret_exact_20[slice17]]\n",
        "\n",
        "approx17_results = pd.DataFrame(approx17).sort_values(by=[0], ascending=False)\n",
        "exact17_results = pd.DataFrame(exact17).sort_values(by=[0], ascending=False)\n",
        "\n",
        "### Best simple regret minimization IQR - approx:\n",
        "lower_approx17 = np.asarray(approx17_results[4:5][0])[0]\n",
        "median_approx17 = np.asarray(approx17_results[9:10][0])[0]\n",
        "upper_approx17 = np.asarray(approx17_results[14:15][0])[0]\n",
        "\n",
        "lower_exact17 = np.asarray(exact17_results[4:5][0])[0]\n",
        "median_exact17 = np.asarray(exact17_results[9:10][0])[0]\n",
        "upper_exact17 = np.asarray(exact17_results[14:15][0])[0]"
      ]
    },
    {
      "cell_type": "code",
      "execution_count": 90,
      "metadata": {
        "id": "-6VLo37PQxf8"
      },
      "outputs": [],
      "source": [
        "# Iteration8 :\n",
        "\n",
        "slice8 = 7\n",
        "\n",
        "approx8 = [simple_regret_approx_1[slice8],\n",
        "       simple_regret_approx_2[slice8],\n",
        "       simple_regret_approx_3[slice8],\n",
        "       simple_regret_approx_4[slice8],\n",
        "       simple_regret_approx_5[slice8],\n",
        "       simple_regret_approx_6[slice8],\n",
        "       simple_regret_approx_7[slice8],\n",
        "       simple_regret_approx_8[slice8],\n",
        "       simple_regret_approx_9[slice8],\n",
        "       simple_regret_approx_10[slice8],\n",
        "       simple_regret_approx_11[slice8],\n",
        "       simple_regret_approx_12[slice8],\n",
        "       simple_regret_approx_13[slice8],\n",
        "       simple_regret_approx_14[slice8],\n",
        "       simple_regret_approx_15[slice8],\n",
        "       simple_regret_approx_16[slice8],\n",
        "       simple_regret_approx_17[slice8],\n",
        "       simple_regret_approx_18[slice8],\n",
        "       simple_regret_approx_19[slice8],\n",
        "       simple_regret_approx_20[slice8]]\n",
        "\n",
        "exact8 = [simple_regret_exact_1[slice8],\n",
        "       simple_regret_exact_2[slice8],\n",
        "       simple_regret_exact_3[slice8],\n",
        "       simple_regret_exact_4[slice8],\n",
        "       simple_regret_exact_5[slice8],\n",
        "       simple_regret_exact_6[slice8],\n",
        "       simple_regret_exact_7[slice8],\n",
        "       simple_regret_exact_8[slice8],\n",
        "       simple_regret_exact_9[slice8],\n",
        "       simple_regret_exact_10[slice8],\n",
        "       simple_regret_exact_11[slice8],\n",
        "       simple_regret_exact_12[slice8],\n",
        "       simple_regret_exact_13[slice8],\n",
        "       simple_regret_exact_14[slice8],\n",
        "       simple_regret_exact_15[slice8],\n",
        "       simple_regret_exact_16[slice8],\n",
        "       simple_regret_exact_17[slice8],\n",
        "       simple_regret_exact_18[slice8],\n",
        "       simple_regret_exact_19[slice8],\n",
        "       simple_regret_exact_20[slice8]]\n",
        "\n",
        "approx8_results = pd.DataFrame(approx8).sort_values(by=[0], ascending=False)\n",
        "exact8_results = pd.DataFrame(exact8).sort_values(by=[0], ascending=False)\n",
        "\n",
        "### Best simple regret minimization IQR - approx:\n",
        "lower_approx8 = np.asarray(approx8_results[4:5][0])[0]\n",
        "median_approx8 = np.asarray(approx8_results[9:10][0])[0]\n",
        "upper_approx8 = np.asarray(approx8_results[14:15][0])[0]\n",
        "\n",
        "lower_exact8 = np.asarray(exact8_results[4:5][0])[0]\n",
        "median_exact8 = np.asarray(exact8_results[9:10][0])[0]\n",
        "upper_exact8 = np.asarray(exact8_results[14:15][0])[0]"
      ]
    },
    {
      "cell_type": "code",
      "execution_count": 91,
      "metadata": {
        "id": "2Dp-9CC2Qxf9"
      },
      "outputs": [],
      "source": [
        "# Iteration18 :\n",
        "\n",
        "slice18 = 17\n",
        "\n",
        "approx18 = [simple_regret_approx_1[slice18],\n",
        "       simple_regret_approx_2[slice18],\n",
        "       simple_regret_approx_3[slice18],\n",
        "       simple_regret_approx_4[slice18],\n",
        "       simple_regret_approx_5[slice18],\n",
        "       simple_regret_approx_6[slice18],\n",
        "       simple_regret_approx_7[slice18],\n",
        "       simple_regret_approx_8[slice18],\n",
        "       simple_regret_approx_9[slice18],\n",
        "       simple_regret_approx_10[slice18],\n",
        "       simple_regret_approx_11[slice18],\n",
        "       simple_regret_approx_12[slice18],\n",
        "       simple_regret_approx_13[slice18],\n",
        "       simple_regret_approx_14[slice18],\n",
        "       simple_regret_approx_15[slice18],\n",
        "       simple_regret_approx_16[slice18],\n",
        "       simple_regret_approx_17[slice18],\n",
        "       simple_regret_approx_18[slice18],\n",
        "       simple_regret_approx_19[slice18],\n",
        "       simple_regret_approx_20[slice18]]\n",
        "\n",
        "exact18 = [simple_regret_exact_1[slice18],\n",
        "       simple_regret_exact_2[slice18],\n",
        "       simple_regret_exact_3[slice18],\n",
        "       simple_regret_exact_4[slice18],\n",
        "       simple_regret_exact_5[slice18],\n",
        "       simple_regret_exact_6[slice18],\n",
        "       simple_regret_exact_7[slice18],\n",
        "       simple_regret_exact_8[slice18],\n",
        "       simple_regret_exact_9[slice18],\n",
        "       simple_regret_exact_10[slice18],\n",
        "       simple_regret_exact_11[slice18],\n",
        "       simple_regret_exact_12[slice18],\n",
        "       simple_regret_exact_13[slice18],\n",
        "       simple_regret_exact_14[slice18],\n",
        "       simple_regret_exact_15[slice18],\n",
        "       simple_regret_exact_16[slice18],\n",
        "       simple_regret_exact_17[slice18],\n",
        "       simple_regret_exact_18[slice18],\n",
        "       simple_regret_exact_19[slice18],\n",
        "       simple_regret_exact_20[slice18]]\n",
        "\n",
        "approx18_results = pd.DataFrame(approx18).sort_values(by=[0], ascending=False)\n",
        "exact18_results = pd.DataFrame(exact18).sort_values(by=[0], ascending=False)\n",
        "\n",
        "### Best simple regret minimization IQR - approx:\n",
        "lower_approx18 = np.asarray(approx18_results[4:5][0])[0]\n",
        "median_approx18 = np.asarray(approx18_results[9:10][0])[0]\n",
        "upper_approx18 = np.asarray(approx18_results[14:15][0])[0]\n",
        "\n",
        "lower_exact18 = np.asarray(exact18_results[4:5][0])[0]\n",
        "median_exact18 = np.asarray(exact18_results[9:10][0])[0]\n",
        "upper_exact18 = np.asarray(exact18_results[14:15][0])[0]"
      ]
    },
    {
      "cell_type": "code",
      "execution_count": 92,
      "metadata": {
        "id": "SqiaOpB7Qxf9"
      },
      "outputs": [],
      "source": [
        "# Iteration9 :\n",
        "\n",
        "slice9 = 8\n",
        "\n",
        "approx9 = [simple_regret_approx_1[slice9],\n",
        "       simple_regret_approx_2[slice9],\n",
        "       simple_regret_approx_3[slice9],\n",
        "       simple_regret_approx_4[slice9],\n",
        "       simple_regret_approx_5[slice9],\n",
        "       simple_regret_approx_6[slice9],\n",
        "       simple_regret_approx_7[slice9],\n",
        "       simple_regret_approx_8[slice9],\n",
        "       simple_regret_approx_9[slice9],\n",
        "       simple_regret_approx_10[slice9],\n",
        "       simple_regret_approx_11[slice9],\n",
        "       simple_regret_approx_12[slice9],\n",
        "       simple_regret_approx_13[slice9],\n",
        "       simple_regret_approx_14[slice9],\n",
        "       simple_regret_approx_15[slice9],\n",
        "       simple_regret_approx_16[slice9],\n",
        "       simple_regret_approx_17[slice9],\n",
        "       simple_regret_approx_18[slice9],\n",
        "       simple_regret_approx_19[slice9],\n",
        "       simple_regret_approx_20[slice9]]\n",
        "\n",
        "exact9 = [simple_regret_exact_1[slice9],\n",
        "       simple_regret_exact_2[slice9],\n",
        "       simple_regret_exact_3[slice9],\n",
        "       simple_regret_exact_4[slice9],\n",
        "       simple_regret_exact_5[slice9],\n",
        "       simple_regret_exact_6[slice9],\n",
        "       simple_regret_exact_7[slice9],\n",
        "       simple_regret_exact_8[slice9],\n",
        "       simple_regret_exact_9[slice9],\n",
        "       simple_regret_exact_10[slice9],\n",
        "       simple_regret_exact_11[slice9],\n",
        "       simple_regret_exact_12[slice9],\n",
        "       simple_regret_exact_13[slice9],\n",
        "       simple_regret_exact_14[slice9],\n",
        "       simple_regret_exact_15[slice9],\n",
        "       simple_regret_exact_16[slice9],\n",
        "       simple_regret_exact_17[slice9],\n",
        "       simple_regret_exact_18[slice9],\n",
        "       simple_regret_exact_19[slice9],\n",
        "       simple_regret_exact_20[slice9]]\n",
        "\n",
        "approx9_results = pd.DataFrame(approx9).sort_values(by=[0], ascending=False)\n",
        "exact9_results = pd.DataFrame(exact9).sort_values(by=[0], ascending=False)\n",
        "\n",
        "### Best simple regret minimization IQR - approx:\n",
        "lower_approx9 = np.asarray(approx9_results[4:5][0])[0]\n",
        "median_approx9 = np.asarray(approx9_results[9:10][0])[0]\n",
        "upper_approx9 = np.asarray(approx9_results[14:15][0])[0]\n",
        "\n",
        "lower_exact9 = np.asarray(exact9_results[4:5][0])[0]\n",
        "median_exact9 = np.asarray(exact9_results[9:10][0])[0]\n",
        "upper_exact9 = np.asarray(exact9_results[14:15][0])[0]"
      ]
    },
    {
      "cell_type": "code",
      "execution_count": 93,
      "metadata": {
        "id": "OQkCCOsPQxf9"
      },
      "outputs": [],
      "source": [
        "# Iteration19 :\n",
        "\n",
        "slice19 = 18\n",
        "\n",
        "approx19 = [simple_regret_approx_1[slice19],\n",
        "       simple_regret_approx_2[slice19],\n",
        "       simple_regret_approx_3[slice19],\n",
        "       simple_regret_approx_4[slice19],\n",
        "       simple_regret_approx_5[slice19],\n",
        "       simple_regret_approx_6[slice19],\n",
        "       simple_regret_approx_7[slice19],\n",
        "       simple_regret_approx_8[slice19],\n",
        "       simple_regret_approx_9[slice19],\n",
        "       simple_regret_approx_10[slice19],\n",
        "       simple_regret_approx_11[slice19],\n",
        "       simple_regret_approx_12[slice19],\n",
        "       simple_regret_approx_13[slice19],\n",
        "       simple_regret_approx_14[slice19],\n",
        "       simple_regret_approx_15[slice19],\n",
        "       simple_regret_approx_16[slice19],\n",
        "       simple_regret_approx_17[slice19],\n",
        "       simple_regret_approx_18[slice19],\n",
        "       simple_regret_approx_19[slice19],\n",
        "       simple_regret_approx_20[slice19]]\n",
        "\n",
        "exact19 = [simple_regret_exact_1[slice19],\n",
        "       simple_regret_exact_2[slice19],\n",
        "       simple_regret_exact_3[slice19],\n",
        "       simple_regret_exact_4[slice19],\n",
        "       simple_regret_exact_5[slice19],\n",
        "       simple_regret_exact_6[slice19],\n",
        "       simple_regret_exact_7[slice19],\n",
        "       simple_regret_exact_8[slice19],\n",
        "       simple_regret_exact_9[slice19],\n",
        "       simple_regret_exact_10[slice19],\n",
        "       simple_regret_exact_11[slice19],\n",
        "       simple_regret_exact_12[slice19],\n",
        "       simple_regret_exact_13[slice19],\n",
        "       simple_regret_exact_14[slice19],\n",
        "       simple_regret_exact_15[slice19],\n",
        "       simple_regret_exact_16[slice19],\n",
        "       simple_regret_exact_17[slice19],\n",
        "       simple_regret_exact_18[slice19],\n",
        "       simple_regret_exact_19[slice19],\n",
        "       simple_regret_exact_20[slice19]]\n",
        "\n",
        "approx19_results = pd.DataFrame(approx19).sort_values(by=[0], ascending=False)\n",
        "exact19_results = pd.DataFrame(exact19).sort_values(by=[0], ascending=False)\n",
        "\n",
        "### Best simple regret minimization IQR - approx:\n",
        "lower_approx19 = np.asarray(approx19_results[4:5][0])[0]\n",
        "median_approx19 = np.asarray(approx19_results[9:10][0])[0]\n",
        "upper_approx19 = np.asarray(approx19_results[14:15][0])[0]\n",
        "\n",
        "lower_exact19 = np.asarray(exact19_results[4:5][0])[0]\n",
        "median_exact19 = np.asarray(exact19_results[9:10][0])[0]\n",
        "upper_exact19 = np.asarray(exact19_results[14:15][0])[0]"
      ]
    },
    {
      "cell_type": "code",
      "execution_count": 94,
      "metadata": {
        "id": "h4vtWahcQxf-"
      },
      "outputs": [],
      "source": [
        "# Iteration10 :\n",
        "\n",
        "slice10 = 9\n",
        "\n",
        "approx10 = [simple_regret_approx_1[slice10],\n",
        "       simple_regret_approx_2[slice10],\n",
        "       simple_regret_approx_3[slice10],\n",
        "       simple_regret_approx_4[slice10],\n",
        "       simple_regret_approx_5[slice10],\n",
        "       simple_regret_approx_6[slice10],\n",
        "       simple_regret_approx_7[slice10],\n",
        "       simple_regret_approx_8[slice10],\n",
        "       simple_regret_approx_9[slice10],\n",
        "       simple_regret_approx_10[slice10],\n",
        "       simple_regret_approx_11[slice10],\n",
        "       simple_regret_approx_12[slice10],\n",
        "       simple_regret_approx_13[slice10],\n",
        "       simple_regret_approx_14[slice10],\n",
        "       simple_regret_approx_15[slice10],\n",
        "       simple_regret_approx_16[slice10],\n",
        "       simple_regret_approx_17[slice10],\n",
        "       simple_regret_approx_18[slice10],\n",
        "       simple_regret_approx_19[slice10],\n",
        "       simple_regret_approx_20[slice10]]\n",
        "\n",
        "exact10 = [simple_regret_exact_1[slice10],\n",
        "       simple_regret_exact_2[slice10],\n",
        "       simple_regret_exact_3[slice10],\n",
        "       simple_regret_exact_4[slice10],\n",
        "       simple_regret_exact_5[slice10],\n",
        "       simple_regret_exact_6[slice10],\n",
        "       simple_regret_exact_7[slice10],\n",
        "       simple_regret_exact_8[slice10],\n",
        "       simple_regret_exact_9[slice10],\n",
        "       simple_regret_exact_10[slice10],\n",
        "       simple_regret_exact_11[slice10],\n",
        "       simple_regret_exact_12[slice10],\n",
        "       simple_regret_exact_13[slice10],\n",
        "       simple_regret_exact_14[slice10],\n",
        "       simple_regret_exact_15[slice10],\n",
        "       simple_regret_exact_16[slice10],\n",
        "       simple_regret_exact_17[slice10],\n",
        "       simple_regret_exact_18[slice10],\n",
        "       simple_regret_exact_19[slice10],\n",
        "       simple_regret_exact_20[slice10]]\n",
        "\n",
        "approx10_results = pd.DataFrame(approx10).sort_values(by=[0], ascending=False)\n",
        "exact10_results = pd.DataFrame(exact10).sort_values(by=[0], ascending=False)\n",
        "\n",
        "### Best simple regret minimization IQR - approx:\n",
        "lower_approx10 = np.asarray(approx10_results[4:5][0])[0]\n",
        "median_approx10 = np.asarray(approx10_results[9:10][0])[0]\n",
        "upper_approx10 = np.asarray(approx10_results[14:15][0])[0]\n",
        "\n",
        "lower_exact10 = np.asarray(exact10_results[4:5][0])[0]\n",
        "median_exact10 = np.asarray(exact10_results[9:10][0])[0]\n",
        "upper_exact10 = np.asarray(exact10_results[14:15][0])[0]"
      ]
    },
    {
      "cell_type": "code",
      "execution_count": 95,
      "metadata": {
        "id": "Rsf240pWQxf-"
      },
      "outputs": [],
      "source": [
        "# Iteration20 :\n",
        "\n",
        "slice20 = 19\n",
        "\n",
        "approx20 = [simple_regret_approx_1[slice20],\n",
        "       simple_regret_approx_2[slice20],\n",
        "       simple_regret_approx_3[slice20],\n",
        "       simple_regret_approx_4[slice20],\n",
        "       simple_regret_approx_5[slice20],\n",
        "       simple_regret_approx_6[slice20],\n",
        "       simple_regret_approx_7[slice20],\n",
        "       simple_regret_approx_8[slice20],\n",
        "       simple_regret_approx_9[slice20],\n",
        "       simple_regret_approx_10[slice20],\n",
        "       simple_regret_approx_11[slice20],\n",
        "       simple_regret_approx_12[slice20],\n",
        "       simple_regret_approx_13[slice20],\n",
        "       simple_regret_approx_14[slice20],\n",
        "       simple_regret_approx_15[slice20],\n",
        "       simple_regret_approx_16[slice20],\n",
        "       simple_regret_approx_17[slice20],\n",
        "       simple_regret_approx_18[slice20],\n",
        "       simple_regret_approx_19[slice20],\n",
        "       simple_regret_approx_20[slice20]]\n",
        "\n",
        "exact20 = [simple_regret_exact_1[slice20],\n",
        "       simple_regret_exact_2[slice20],\n",
        "       simple_regret_exact_3[slice20],\n",
        "       simple_regret_exact_4[slice20],\n",
        "       simple_regret_exact_5[slice20],\n",
        "       simple_regret_exact_6[slice20],\n",
        "       simple_regret_exact_7[slice20],\n",
        "       simple_regret_exact_8[slice20],\n",
        "       simple_regret_exact_9[slice20],\n",
        "       simple_regret_exact_10[slice20],\n",
        "       simple_regret_exact_11[slice20],\n",
        "       simple_regret_exact_12[slice20],\n",
        "       simple_regret_exact_13[slice20],\n",
        "       simple_regret_exact_14[slice20],\n",
        "       simple_regret_exact_15[slice20],\n",
        "       simple_regret_exact_16[slice20],\n",
        "       simple_regret_exact_17[slice20],\n",
        "       simple_regret_exact_18[slice20],\n",
        "       simple_regret_exact_19[slice20],\n",
        "       simple_regret_exact_20[slice20]]\n",
        "\n",
        "approx20_results = pd.DataFrame(approx20).sort_values(by=[0], ascending=False)\n",
        "exact20_results = pd.DataFrame(exact20).sort_values(by=[0], ascending=False)\n",
        "\n",
        "### Best simple regret minimization IQR - approx:\n",
        "lower_approx20 = np.asarray(approx20_results[4:5][0])[0]\n",
        "median_approx20 = np.asarray(approx20_results[9:10][0])[0]\n",
        "upper_approx20 = np.asarray(approx20_results[14:15][0])[0]\n",
        "\n",
        "lower_exact20 = np.asarray(exact20_results[4:5][0])[0]\n",
        "median_exact20 = np.asarray(exact20_results[9:10][0])[0]\n",
        "upper_exact20 = np.asarray(exact20_results[14:15][0])[0]"
      ]
    },
    {
      "cell_type": "code",
      "execution_count": 96,
      "metadata": {
        "id": "gn36RejbQxf_"
      },
      "outputs": [],
      "source": [
        "### Summarize arrays: 'Loser'\n",
        "\n",
        "lower_approx = [lower_approx1,\n",
        "            lower_approx2,\n",
        "            lower_approx3,\n",
        "            lower_approx4,\n",
        "            lower_approx5,\n",
        "            lower_approx6,\n",
        "            lower_approx7,\n",
        "            lower_approx8,\n",
        "            lower_approx9,\n",
        "            lower_approx10,\n",
        "            lower_approx11,\n",
        "            lower_approx12,\n",
        "            lower_approx13,\n",
        "            lower_approx14,\n",
        "            lower_approx15,\n",
        "            lower_approx16,\n",
        "            lower_approx17,\n",
        "            lower_approx18,\n",
        "            lower_approx19,\n",
        "            lower_approx20,\n",
        "            lower_approx21]\n",
        "\n",
        "median_approx = [median_approx1,\n",
        "            median_approx2,\n",
        "            median_approx3,\n",
        "            median_approx4,\n",
        "            median_approx5,\n",
        "            median_approx6,\n",
        "            median_approx7,\n",
        "            median_approx8,\n",
        "            median_approx9,\n",
        "            median_approx10,\n",
        "            median_approx11,\n",
        "            median_approx12,\n",
        "            median_approx13,\n",
        "            median_approx14,\n",
        "            median_approx15,\n",
        "            median_approx16,\n",
        "            median_approx17,\n",
        "            median_approx18,\n",
        "            median_approx19,\n",
        "            median_approx20,\n",
        "            median_approx21]\n",
        "\n",
        "upper_approx = [upper_approx1,\n",
        "            upper_approx2,\n",
        "            upper_approx3,\n",
        "            upper_approx4,\n",
        "            upper_approx5,\n",
        "            upper_approx6,\n",
        "            upper_approx7,\n",
        "            upper_approx8,\n",
        "            upper_approx9,\n",
        "            upper_approx10,\n",
        "            upper_approx11,\n",
        "            upper_approx12,\n",
        "            upper_approx13,\n",
        "            upper_approx14,\n",
        "            upper_approx15,\n",
        "            upper_approx16,\n",
        "            upper_approx17,\n",
        "            upper_approx18,\n",
        "            upper_approx19,\n",
        "            upper_approx20,\n",
        "            upper_approx21]"
      ]
    },
    {
      "cell_type": "code",
      "execution_count": 97,
      "metadata": {
        "id": "wxtGTOYfQxf_"
      },
      "outputs": [],
      "source": [
        "### Summarize arrays: 'exact'\n",
        "\n",
        "lower_exact = [lower_exact1,\n",
        "            lower_exact2,\n",
        "            lower_exact3,\n",
        "            lower_exact4,\n",
        "            lower_exact5,\n",
        "            lower_exact6,\n",
        "            lower_exact7,\n",
        "            lower_exact8,\n",
        "            lower_exact9,\n",
        "            lower_exact10,\n",
        "            lower_exact11,\n",
        "            lower_exact12,\n",
        "            lower_exact13,\n",
        "            lower_exact14,\n",
        "            lower_exact15,\n",
        "            lower_exact16,\n",
        "            lower_exact17,\n",
        "            lower_exact18,\n",
        "            lower_exact19,\n",
        "            lower_exact20,\n",
        "            lower_exact21]\n",
        "\n",
        "median_exact = [median_exact1,\n",
        "            median_exact2,\n",
        "            median_exact3,\n",
        "            median_exact4,\n",
        "            median_exact5,\n",
        "            median_exact6,\n",
        "            median_exact7,\n",
        "            median_exact8,\n",
        "            median_exact9,\n",
        "            median_exact10,\n",
        "            median_exact11,\n",
        "            median_exact12,\n",
        "            median_exact13,\n",
        "            median_exact14,\n",
        "            median_exact15,\n",
        "            median_exact16,\n",
        "            median_exact17,\n",
        "            median_exact18,\n",
        "            median_exact19,\n",
        "            median_exact20,\n",
        "            median_exact21]\n",
        "\n",
        "upper_exact = [upper_exact1,\n",
        "            upper_exact2,\n",
        "            upper_exact3,\n",
        "            upper_exact4,\n",
        "            upper_exact5,\n",
        "            upper_exact6,\n",
        "            upper_exact7,\n",
        "            upper_exact8,\n",
        "            upper_exact9,\n",
        "            upper_exact10,\n",
        "            upper_exact11,\n",
        "            upper_exact12,\n",
        "            upper_exact13,\n",
        "            upper_exact14,\n",
        "            upper_exact15,\n",
        "            upper_exact16,\n",
        "            upper_exact17,\n",
        "            upper_exact18,\n",
        "            upper_exact19,\n",
        "            upper_exact20,\n",
        "            upper_exact21]"
      ]
    },
    {
      "cell_type": "code",
      "execution_count": 98,
      "metadata": {
        "id": "2MONq-BXQxgA",
        "colab": {
          "base_uri": "https://localhost:8080/",
          "height": 299
        },
        "outputId": "1699d0ef-d2e6-4c61-fd85-4fd136408ff5"
      },
      "outputs": [
        {
          "output_type": "display_data",
          "data": {
            "text/plain": [
              "<Figure size 432x288 with 1 Axes>"
            ],
            "image/png": "[encoded data removed]"
          },
          "metadata": {
            "needs_background": "light"
          }
        }
      ],
      "source": [
        "### Visualise!\n",
        "\n",
        "title = func\n",
        "plt.figure()\n",
        "\n",
        "plt.plot(median_approx, color = 'Yellow')\n",
        "plt.plot(median_exact, color = 'Red')\n",
        "\n",
        "xstar = np.arange(0, iters+1, step=1)\n",
        "plt.fill_between(xstar, lower_approx, upper_approx, facecolor = 'Yellow', alpha=0.4, label='GP EI Optimization: Approx GP EI gradients')\n",
        "plt.fill_between(xstar, lower_exact, upper_exact, facecolor = 'Red', alpha=0.4, label='GP EI Optimization: Exact GP dEI gradients')\n",
        "\n",
        "plt.title(title, weight = 'bold')\n",
        "plt.xlabel('(Post-initialization) iteration $\\it{k}$', weight = 'bold')\n",
        "plt.ylabel('log(Regret)', weight = 'bold') \n",
        "plt.legend(loc=3) # add plot legend\n",
        "\n",
        "### Make the x-ticks integers, not floats:\n",
        "count = len(xstar)\n",
        "plt.xticks(np.arange(count), np.arange(0, count))\n",
        "plt.show() #visualize!"
      ]
    },
    {
      "cell_type": "code",
      "execution_count": 99,
      "metadata": {
        "id": "l5dkR2Id2oiu",
        "colab": {
          "base_uri": "https://localhost:8080/"
        },
        "outputId": "6ef079e4-6cc1-4a57-fa35-f891272262f0"
      },
      "outputs": [
        {
          "output_type": "execute_result",
          "data": {
            "text/plain": [
              "(911.1958389282227, 855.6564486026764)"
            ]
          },
          "metadata": {},
          "execution_count": 99
        }
      ],
      "source": [
        "time_approx, time_exact\n"
      ]
    },
    {
      "cell_type": "code",
      "source": [
        "### acqFunc attribute x, stddev: run number = 1\n",
        "\n",
        "acqFuncApprox_exact_1 = acqFuncApprox(exact_1.history)\n",
        "acqFuncExact_exact_1 = acqFuncExact(exact_1.history)\n",
        "\n",
        "e1 = np.mean(acqFuncExact_exact_1)\n",
        "a1 = np.mean(acqFuncApprox_exact_1)\n",
        "\n",
        "e1, a1\n"
      ],
      "metadata": {
        "colab": {
          "base_uri": "https://localhost:8080/"
        },
        "id": "uwxv4dmfGsLr",
        "outputId": "90008046-149e-4818-c8d3-eaa46238d351"
      },
      "execution_count": 100,
      "outputs": [
        {
          "output_type": "execute_result",
          "data": {
            "text/plain": [
              "(3.3492140909575907, 3.6278298164684157)"
            ]
          },
          "metadata": {},
          "execution_count": 100
        }
      ]
    },
    {
      "cell_type": "code",
      "source": [
        "### acqFunc attribute x, stddev: run number = 2\n",
        "\n",
        "acqFuncApprox_exact_2 = acqFuncApprox(exact_2.history)\n",
        "acqFuncExact_exact_2 = acqFuncExact(exact_2.history)\n",
        "\n",
        "e2 = np.mean(acqFuncExact_exact_2)\n",
        "a2 = np.mean(acqFuncApprox_exact_2)\n",
        "\n",
        "e2, a2\n"
      ],
      "metadata": {
        "colab": {
          "base_uri": "https://localhost:8080/"
        },
        "id": "0YSV00_pGsXe",
        "outputId": "a337d526-5b89-4801-f70a-c779033bb0e0"
      },
      "execution_count": 101,
      "outputs": [
        {
          "output_type": "execute_result",
          "data": {
            "text/plain": [
              "(3.2245137881800345, 3.472460634079456)"
            ]
          },
          "metadata": {},
          "execution_count": 101
        }
      ]
    },
    {
      "cell_type": "code",
      "source": [
        "### acqFunc attribute x, stddev: run number = 3\n",
        "\n",
        "acqFuncApprox_exact_3 = acqFuncApprox(exact_3.history)\n",
        "acqFuncExact_exact_3 = acqFuncExact(exact_3.history)\n",
        "\n",
        "e3 = np.mean(acqFuncExact_exact_3)\n",
        "a3 = np.mean(acqFuncApprox_exact_3)\n",
        "\n",
        "e3, a3\n"
      ],
      "metadata": {
        "colab": {
          "base_uri": "https://localhost:8080/"
        },
        "id": "HHVmsd2UGsjT",
        "outputId": "9d104139-8f48-4c0a-f645-ad91cef78ccb"
      },
      "execution_count": 102,
      "outputs": [
        {
          "output_type": "execute_result",
          "data": {
            "text/plain": [
              "(3.123013057232993, 3.225772474041741)"
            ]
          },
          "metadata": {},
          "execution_count": 102
        }
      ]
    },
    {
      "cell_type": "code",
      "source": [
        "### acqFunc attribute x, stddev: run number = 4\n",
        "\n",
        "acqFuncApprox_exact_4 = acqFuncApprox(exact_4.history)\n",
        "acqFuncExact_exact_4 = acqFuncExact(exact_4.history)\n",
        "\n",
        "e4 = np.mean(acqFuncExact_exact_4)\n",
        "a4 = np.mean(acqFuncApprox_exact_4)\n",
        "\n",
        "e4, a4\n"
      ],
      "metadata": {
        "colab": {
          "base_uri": "https://localhost:8080/"
        },
        "id": "r7O19S2eGsu7",
        "outputId": "dd37a98b-3f9c-414d-c7c3-4051aef787b5"
      },
      "execution_count": 103,
      "outputs": [
        {
          "output_type": "execute_result",
          "data": {
            "text/plain": [
              "(2.8961652098400132, 3.3169275128136575)"
            ]
          },
          "metadata": {},
          "execution_count": 103
        }
      ]
    },
    {
      "cell_type": "code",
      "source": [
        "### acqFunc attribute x, stddev: run number = 5\n",
        "\n",
        "acqFuncApprox_exact_5 = acqFuncApprox(exact_5.history)\n",
        "acqFuncExact_exact_5 = acqFuncExact(exact_5.history)\n",
        "\n",
        "e5 = np.mean(acqFuncExact_exact_5)\n",
        "a5 = np.mean(acqFuncApprox_exact_5)\n",
        "\n",
        "e5, a5\n"
      ],
      "metadata": {
        "colab": {
          "base_uri": "https://localhost:8080/"
        },
        "id": "sdb9o6NuGs5m",
        "outputId": "f993162e-c5b1-46c3-efa3-1aea9a40ae7e"
      },
      "execution_count": 104,
      "outputs": [
        {
          "output_type": "execute_result",
          "data": {
            "text/plain": [
              "(3.0724338005809657, 3.19535248712486)"
            ]
          },
          "metadata": {},
          "execution_count": 104
        }
      ]
    },
    {
      "cell_type": "code",
      "source": [
        "### acqFunc attribute x, stddev: run number = 6\n",
        "\n",
        "acqFuncApprox_exact_6 = acqFuncApprox(exact_6.history)\n",
        "acqFuncExact_exact_6 = acqFuncExact(exact_6.history)\n",
        "\n",
        "e6 = np.mean(acqFuncExact_exact_6)\n",
        "a6 = np.mean(acqFuncApprox_exact_6)\n",
        "\n",
        "e6, a6\n"
      ],
      "metadata": {
        "colab": {
          "base_uri": "https://localhost:8080/"
        },
        "id": "COQl7LZ8GtE0",
        "outputId": "95191999-1e9a-4001-cef1-aa713618db1f"
      },
      "execution_count": 105,
      "outputs": [
        {
          "output_type": "execute_result",
          "data": {
            "text/plain": [
              "(3.109850755208984, 3.3204413107240454)"
            ]
          },
          "metadata": {},
          "execution_count": 105
        }
      ]
    },
    {
      "cell_type": "code",
      "source": [
        "### acqFunc attribute x, stddev: run number = 7\n",
        "\n",
        "acqFuncApprox_exact_7 = acqFuncApprox(exact_7.history)\n",
        "acqFuncExact_exact_7 = acqFuncExact(exact_7.history)\n",
        "\n",
        "e7 = np.mean(acqFuncExact_exact_7)\n",
        "a7 = np.mean(acqFuncApprox_exact_7)\n",
        "\n",
        "e7, a7\n"
      ],
      "metadata": {
        "colab": {
          "base_uri": "https://localhost:8080/"
        },
        "id": "2gy9EtTzGtP7",
        "outputId": "2cb43330-f52f-4136-c88f-df9dec39e5f0"
      },
      "execution_count": 106,
      "outputs": [
        {
          "output_type": "execute_result",
          "data": {
            "text/plain": [
              "(3.2815798325879606, 3.3240936817013713)"
            ]
          },
          "metadata": {},
          "execution_count": 106
        }
      ]
    },
    {
      "cell_type": "code",
      "source": [
        "### acqFunc attribute x, stddev: run number = 8\n",
        "\n",
        "acqFuncApprox_exact_8 = acqFuncApprox(exact_8.history)\n",
        "acqFuncExact_exact_8 = acqFuncExact(exact_8.history)\n",
        "\n",
        "e8 = np.mean(acqFuncExact_exact_8)\n",
        "a8 = np.mean(acqFuncApprox_exact_8)\n",
        "\n",
        "e8, a8\n"
      ],
      "metadata": {
        "colab": {
          "base_uri": "https://localhost:8080/"
        },
        "id": "S7mn0qoMGtbM",
        "outputId": "c12e4eb5-22d9-4502-a707-4499335ddd77"
      },
      "execution_count": 107,
      "outputs": [
        {
          "output_type": "execute_result",
          "data": {
            "text/plain": [
              "(3.0379819093539338, 3.269579098320772)"
            ]
          },
          "metadata": {},
          "execution_count": 107
        }
      ]
    },
    {
      "cell_type": "code",
      "source": [
        "### acqFunc attribute x, stddev: run number = 9\n",
        "\n",
        "acqFuncApprox_exact_9 = acqFuncApprox(exact_9.history)\n",
        "acqFuncExact_exact_9 = acqFuncExact(exact_9.history)\n",
        "\n",
        "e9 = np.mean(acqFuncExact_exact_9)\n",
        "a9 = np.mean(acqFuncApprox_exact_9)\n",
        "\n",
        "e9, a9\n"
      ],
      "metadata": {
        "colab": {
          "base_uri": "https://localhost:8080/"
        },
        "id": "BhljmkNxGtms",
        "outputId": "8e4d9d82-0db8-4dee-92d7-7962afee8fd5"
      },
      "execution_count": 108,
      "outputs": [
        {
          "output_type": "execute_result",
          "data": {
            "text/plain": [
              "(2.9830517288330474, 3.6451597923621244)"
            ]
          },
          "metadata": {},
          "execution_count": 108
        }
      ]
    },
    {
      "cell_type": "code",
      "source": [
        "### acqFunc attribute x, stddev: run number = 10\n",
        "\n",
        "acqFuncApprox_exact_10 = acqFuncApprox(exact_10.history)\n",
        "acqFuncExact_exact_10 = acqFuncExact(exact_10.history)\n",
        "\n",
        "e10 = np.mean(acqFuncExact_exact_10)\n",
        "a10 = np.mean(acqFuncApprox_exact_10)\n",
        "\n",
        "e10, a10\n"
      ],
      "metadata": {
        "colab": {
          "base_uri": "https://localhost:8080/"
        },
        "id": "W5GZo6k3Gtx8",
        "outputId": "5e725a67-16d4-4c55-d972-449057eac6c3"
      },
      "execution_count": 109,
      "outputs": [
        {
          "output_type": "execute_result",
          "data": {
            "text/plain": [
              "(3.163426095291605, 3.388990562450245)"
            ]
          },
          "metadata": {},
          "execution_count": 109
        }
      ]
    },
    {
      "cell_type": "code",
      "source": [
        "### acqFunc attribute x, stddev: run number = 11\n",
        "\n",
        "acqFuncApprox_exact_11 = acqFuncApprox(exact_11.history)\n",
        "acqFuncExact_exact_11 = acqFuncExact(exact_11.history)\n",
        "\n",
        "e11 = np.mean(acqFuncExact_exact_11)\n",
        "a11 = np.mean(acqFuncApprox_exact_11)\n",
        "\n",
        "e11, a11\n"
      ],
      "metadata": {
        "colab": {
          "base_uri": "https://localhost:8080/"
        },
        "id": "isKNhDk5Gt9D",
        "outputId": "57bf2df0-3158-4fb2-ff24-ab10a778af69"
      },
      "execution_count": 110,
      "outputs": [
        {
          "output_type": "execute_result",
          "data": {
            "text/plain": [
              "(3.132783420855364, 3.427811091002077)"
            ]
          },
          "metadata": {},
          "execution_count": 110
        }
      ]
    },
    {
      "cell_type": "code",
      "source": [
        "### acqFunc attribute x, stddev: run number = 12\n",
        "\n",
        "acqFuncApprox_exact_12 = acqFuncApprox(exact_12.history)\n",
        "acqFuncExact_exact_12 = acqFuncExact(exact_12.history)\n",
        "\n",
        "e12 = np.mean(acqFuncExact_exact_12)\n",
        "a12 = np.mean(acqFuncApprox_exact_12)\n",
        "\n",
        "e12, a12\n"
      ],
      "metadata": {
        "colab": {
          "base_uri": "https://localhost:8080/"
        },
        "id": "8ts-wrSuGuIm",
        "outputId": "5c363b4e-a7a9-4586-b3d6-80496e39eef2"
      },
      "execution_count": 111,
      "outputs": [
        {
          "output_type": "execute_result",
          "data": {
            "text/plain": [
              "(2.9354128346115327, 3.1830490111278253)"
            ]
          },
          "metadata": {},
          "execution_count": 111
        }
      ]
    },
    {
      "cell_type": "code",
      "source": [
        "### acqFunc attribute x, stddev: run number = 13\n",
        "\n",
        "acqFuncApprox_exact_13 = acqFuncApprox(exact_13.history)\n",
        "acqFuncExact_exact_13 = acqFuncExact(exact_13.history)\n",
        "\n",
        "e13 = np.mean(acqFuncExact_exact_13)\n",
        "a13 = np.mean(acqFuncApprox_exact_13)\n",
        "\n",
        "e13, a13\n"
      ],
      "metadata": {
        "colab": {
          "base_uri": "https://localhost:8080/"
        },
        "id": "n0drhEe3GuUL",
        "outputId": "92c4adf8-6cb4-423f-cf21-a1640e5fa6c2"
      },
      "execution_count": 112,
      "outputs": [
        {
          "output_type": "execute_result",
          "data": {
            "text/plain": [
              "(3.0985281571377494, 3.5503268265333174)"
            ]
          },
          "metadata": {},
          "execution_count": 112
        }
      ]
    },
    {
      "cell_type": "code",
      "source": [
        "### acqFunc attribute x, stddev: run number = 14\n",
        "\n",
        "acqFuncApprox_exact_14 = acqFuncApprox(exact_14.history)\n",
        "acqFuncExact_exact_14 = acqFuncExact(exact_14.history)\n",
        "\n",
        "e14 = np.mean(acqFuncExact_exact_14)\n",
        "a14 = np.mean(acqFuncApprox_exact_14)\n",
        "\n",
        "e14, a14\n"
      ],
      "metadata": {
        "colab": {
          "base_uri": "https://localhost:8080/"
        },
        "id": "R0W3MZaVGues",
        "outputId": "6890d389-2432-42ee-b32e-f38fa07e857c"
      },
      "execution_count": 113,
      "outputs": [
        {
          "output_type": "execute_result",
          "data": {
            "text/plain": [
              "(2.9697913472562956, 3.315436367764188)"
            ]
          },
          "metadata": {},
          "execution_count": 113
        }
      ]
    },
    {
      "cell_type": "code",
      "source": [
        "### acqFunc attribute x, stddev: run number = 15\n",
        "\n",
        "acqFuncApprox_exact_15 = acqFuncApprox(exact_15.history)\n",
        "acqFuncExact_exact_15 = acqFuncExact(exact_15.history)\n",
        "\n",
        "e15 = np.mean(acqFuncExact_exact_15)\n",
        "a15 = np.mean(acqFuncApprox_exact_15)\n",
        "\n",
        "e15, a15\n"
      ],
      "metadata": {
        "colab": {
          "base_uri": "https://localhost:8080/"
        },
        "id": "DoXdDFHoGup-",
        "outputId": "58fee147-dfd8-4719-bc42-a1d84ed5d0b0"
      },
      "execution_count": 114,
      "outputs": [
        {
          "output_type": "execute_result",
          "data": {
            "text/plain": [
              "(3.008083122575593, 3.1759399043609133)"
            ]
          },
          "metadata": {},
          "execution_count": 114
        }
      ]
    },
    {
      "cell_type": "code",
      "source": [
        "### acqFunc attribute x, stddev: run number = 16\n",
        "\n",
        "acqFuncApprox_exact_16 = acqFuncApprox(exact_16.history)\n",
        "acqFuncExact_exact_16 = acqFuncExact(exact_16.history)\n",
        "\n",
        "e16 = np.mean(acqFuncExact_exact_16)\n",
        "a16 = np.mean(acqFuncApprox_exact_16)\n",
        "\n",
        "e16, a16\n"
      ],
      "metadata": {
        "colab": {
          "base_uri": "https://localhost:8080/"
        },
        "id": "K_wAeqSoGu2j",
        "outputId": "5fcde7cc-8f4b-461f-c122-359f37d69924"
      },
      "execution_count": 115,
      "outputs": [
        {
          "output_type": "execute_result",
          "data": {
            "text/plain": [
              "(2.9601207943626653, 3.286030506421521)"
            ]
          },
          "metadata": {},
          "execution_count": 115
        }
      ]
    },
    {
      "cell_type": "code",
      "source": [
        "### acqFunc attribute x, stddev: run number = 17\n",
        "\n",
        "acqFuncApprox_exact_17 = acqFuncApprox(exact_17.history)\n",
        "acqFuncExact_exact_17 = acqFuncExact(exact_17.history)\n",
        "\n",
        "e17 = np.mean(acqFuncExact_exact_17)\n",
        "a17 = np.mean(acqFuncApprox_exact_17)\n",
        "\n",
        "e17, a17\n"
      ],
      "metadata": {
        "colab": {
          "base_uri": "https://localhost:8080/"
        },
        "id": "n6zy78fjGvBT",
        "outputId": "ac36f18a-ca4a-4003-b6b0-053417e71345"
      },
      "execution_count": 116,
      "outputs": [
        {
          "output_type": "execute_result",
          "data": {
            "text/plain": [
              "(3.0894076932832926, 3.2889311204153486)"
            ]
          },
          "metadata": {},
          "execution_count": 116
        }
      ]
    },
    {
      "cell_type": "code",
      "source": [
        "### acqFunc attribute x, stddev: run number = 18\n",
        "\n",
        "acqFuncApprox_exact_18 = acqFuncApprox(exact_18.history)\n",
        "acqFuncExact_exact_18 = acqFuncExact(exact_18.history)\n",
        "\n",
        "e18 = np.mean(acqFuncExact_exact_18)\n",
        "a18 = np.mean(acqFuncApprox_exact_18)\n",
        "\n",
        "e18, a18\n"
      ],
      "metadata": {
        "colab": {
          "base_uri": "https://localhost:8080/"
        },
        "id": "s_6_2K4iGvM-",
        "outputId": "0e536d01-34cb-4efa-d2b1-029d2fc1e4e8"
      },
      "execution_count": 117,
      "outputs": [
        {
          "output_type": "execute_result",
          "data": {
            "text/plain": [
              "(3.318487960175029, 3.504976052587078)"
            ]
          },
          "metadata": {},
          "execution_count": 117
        }
      ]
    },
    {
      "cell_type": "code",
      "source": [
        "### acqFunc attribute x, stddev: run number = 19\n",
        "\n",
        "acqFuncApprox_exact_19 = acqFuncApprox(exact_19.history)\n",
        "acqFuncExact_exact_19 = acqFuncExact(exact_19.history)\n",
        "\n",
        "e19 = np.mean(acqFuncExact_exact_19)\n",
        "a19 = np.mean(acqFuncApprox_exact_19)\n",
        "\n",
        "e19, a19\n"
      ],
      "metadata": {
        "colab": {
          "base_uri": "https://localhost:8080/"
        },
        "id": "o8oO8pdBGvYk",
        "outputId": "0a8cf936-8907-41fc-88c4-4abb3b55239f"
      },
      "execution_count": 118,
      "outputs": [
        {
          "output_type": "execute_result",
          "data": {
            "text/plain": [
              "(3.038205150547778, 3.333522690327817)"
            ]
          },
          "metadata": {},
          "execution_count": 118
        }
      ]
    },
    {
      "cell_type": "code",
      "source": [
        "### acqFunc attribute x, stddev: run number = 20\n",
        "\n",
        "acqFuncApprox_exact_20 = acqFuncApprox(exact_20.history)\n",
        "acqFuncExact_exact_20 = acqFuncExact(exact_20.history)\n",
        "\n",
        "e20 = np.mean(acqFuncExact_exact_20)\n",
        "a20 = np.mean(acqFuncApprox_exact_20)\n",
        "\n",
        "e20, a20\n"
      ],
      "metadata": {
        "colab": {
          "base_uri": "https://localhost:8080/"
        },
        "id": "b2w8oLc0IMzU",
        "outputId": "79ed9272-012c-44a4-dce5-e462dbdd417e"
      },
      "execution_count": 119,
      "outputs": [
        {
          "output_type": "execute_result",
          "data": {
            "text/plain": [
              "(3.084657903812386, 3.2145060843252757)"
            ]
          },
          "metadata": {},
          "execution_count": 119
        }
      ]
    },
    {
      "cell_type": "code",
      "source": [
        "### Summarize arrays: \n",
        "\n",
        "exact_stddev = np.sort([e1,e2,e3,e4,e5,e6,e7,e8,e9,e10,e11,e12,e13,e14,e15,e16,e17,e18,e19,e20])\n",
        "approx_stddev = np.sort([a1,a2,a3,a4,a5,a6,a7,a8,a9,a10,a11,a12,a13,a14,a15,a16,a17,a18,a19,a20])\n",
        "\n",
        "np.mean(exact_stddev), np.mean(approx_stddev)\n"
      ],
      "metadata": {
        "colab": {
          "base_uri": "https://localhost:8080/"
        },
        "id": "qAZs3yxMIZul",
        "outputId": "55c7933f-ad2b-400b-9f2e-924b345dcb9e"
      },
      "execution_count": 120,
      "outputs": [
        {
          "output_type": "execute_result",
          "data": {
            "text/plain": [
              "(3.0938354326342403, 3.3533568512476024)"
            ]
          },
          "metadata": {},
          "execution_count": 120
        }
      ]
    },
    {
      "cell_type": "code",
      "source": [
        "### Visualise!\n",
        "\n",
        "title = func\n",
        "plt.figure()\n",
        "\n",
        "plt.plot(approx_stddev, color = 'Yellow', ls='-', label='Average $\\sigma$, attribute $\\mathbf{x}$: Approx GP EI gradients')\n",
        "plt.plot(exact_stddev, color = 'Red', ls='-.', label='Average $\\sigma$, attribute $\\mathbf{x}$: Exact GP dEI gradients')\n",
        "\n",
        "plt.title(title, weight = 'bold')\n",
        "plt.xlabel('Function evaluations: iteration $\\it{k}$', weight = 'bold')\n",
        "plt.ylabel('GP EI: Average $\\sigma$, attribute $\\mathbf{x}$', weight = 'bold')\n",
        "plt.legend(loc=0) # add plot legend\n",
        "\n",
        "### Make the x-ticks integers, not floats:\n",
        "count = len(xstar)\n",
        "plt.xticks(np.arange(count), np.arange(1, count))\n",
        "plt.show() #visualize!\n"
      ],
      "metadata": {
        "colab": {
          "base_uri": "https://localhost:8080/",
          "height": 297
        },
        "id": "e_kpqYcMIZxu",
        "outputId": "98a5a746-c044-4e24-c359-00f4523ed9a6"
      },
      "execution_count": 121,
      "outputs": [
        {
          "output_type": "display_data",
          "data": {
            "text/plain": [
              "<Figure size 432x288 with 1 Axes>"
            ],
            "image/png": "[encoded data removed]"
          },
          "metadata": {
            "needs_background": "light"
          }
        }
      ]
    },
    {
      "cell_type": "code",
      "source": [
        ""
      ],
      "metadata": {
        "id": "LToGd4vZIZ3I"
      },
      "execution_count": 121,
      "outputs": []
    }
  ],
  "metadata": {
    "colab": {
      "collapsed_sections": [],
      "name": "2_Rastrigin_GP_dEI.ipynb",
      "provenance": []
    },
    "kernelspec": {
      "display_name": "Python 3",
      "name": "python3"
    },
    "language_info": {
      "name": "python"
    }
  },
  "nbformat": 4,
  "nbformat_minor": 0
}