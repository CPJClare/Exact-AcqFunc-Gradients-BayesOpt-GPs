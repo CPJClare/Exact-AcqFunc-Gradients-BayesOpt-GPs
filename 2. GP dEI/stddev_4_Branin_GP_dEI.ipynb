{
  "cells": [
    {
      "cell_type": "markdown",
      "metadata": {
        "id": "Dqn4dFx7Z2Ir"
      },
      "source": [
        "\n",
        "Branin: 2D\n"
      ]
    },
    {
      "cell_type": "code",
      "execution_count": 1,
      "metadata": {
        "colab": {
          "base_uri": "https://localhost:8080/"
        },
        "id": "MJTM_GZZZb5x",
        "outputId": "36f482c2-4c34-402a-8e80-93b807bd6efd"
      },
      "outputs": [
        {
          "output_type": "stream",
          "name": "stdout",
          "text": [
            "Looking in indexes: https://pypi.org/simple, https://us-python.pkg.dev/colab-wheels/public/simple/\n",
            "Collecting pyGPGO\n",
            "  Downloading pyGPGO-0.5.1.tar.gz (14 kB)\n",
            "Requirement already satisfied: numpy in /usr/local/lib/python3.7/dist-packages (from pyGPGO) (1.21.6)\n",
            "Requirement already satisfied: mkl in /usr/local/lib/python3.7/dist-packages (from pyGPGO) (2019.0)\n",
            "Requirement already satisfied: scipy in /usr/local/lib/python3.7/dist-packages (from pyGPGO) (1.7.3)\n",
            "Requirement already satisfied: joblib in /usr/local/lib/python3.7/dist-packages (from pyGPGO) (1.1.0)\n",
            "Requirement already satisfied: scikit-learn in /usr/local/lib/python3.7/dist-packages (from pyGPGO) (1.0.2)\n",
            "Requirement already satisfied: Theano-PyMC in /usr/local/lib/python3.7/dist-packages (from pyGPGO) (1.1.2)\n",
            "Requirement already satisfied: pyMC3 in /usr/local/lib/python3.7/dist-packages (from pyGPGO) (3.11.5)\n",
            "Requirement already satisfied: intel-openmp in /usr/local/lib/python3.7/dist-packages (from mkl->pyGPGO) (2022.1.0)\n",
            "Requirement already satisfied: fastprogress>=0.2.0 in /usr/local/lib/python3.7/dist-packages (from pyMC3->pyGPGO) (1.0.3)\n",
            "Requirement already satisfied: typing-extensions>=3.7.4 in /usr/local/lib/python3.7/dist-packages (from pyMC3->pyGPGO) (4.1.1)\n",
            "Requirement already satisfied: dill in /usr/local/lib/python3.7/dist-packages (from pyMC3->pyGPGO) (0.3.5.1)\n",
            "Requirement already satisfied: semver>=2.13.0 in /usr/local/lib/python3.7/dist-packages (from pyMC3->pyGPGO) (2.13.0)\n",
            "Requirement already satisfied: pandas>=0.24.0 in /usr/local/lib/python3.7/dist-packages (from pyMC3->pyGPGO) (1.3.5)\n",
            "Requirement already satisfied: patsy>=0.5.1 in /usr/local/lib/python3.7/dist-packages (from pyMC3->pyGPGO) (0.5.2)\n",
            "Requirement already satisfied: deprecat in /usr/local/lib/python3.7/dist-packages (from pyMC3->pyGPGO) (2.1.1)\n",
            "Requirement already satisfied: cachetools>=4.2.1 in /usr/local/lib/python3.7/dist-packages (from pyMC3->pyGPGO) (4.2.4)\n",
            "Requirement already satisfied: arviz>=0.11.0 in /usr/local/lib/python3.7/dist-packages (from pyMC3->pyGPGO) (0.12.1)\n",
            "Requirement already satisfied: filelock in /usr/local/lib/python3.7/dist-packages (from Theano-PyMC->pyGPGO) (3.7.1)\n",
            "Requirement already satisfied: matplotlib>=3.0 in /usr/local/lib/python3.7/dist-packages (from arviz>=0.11.0->pyMC3->pyGPGO) (3.2.2)\n",
            "Requirement already satisfied: netcdf4 in /usr/local/lib/python3.7/dist-packages (from arviz>=0.11.0->pyMC3->pyGPGO) (1.6.0)\n",
            "Requirement already satisfied: packaging in /usr/local/lib/python3.7/dist-packages (from arviz>=0.11.0->pyMC3->pyGPGO) (21.3)\n",
            "Requirement already satisfied: xarray>=0.16.1 in /usr/local/lib/python3.7/dist-packages (from arviz>=0.11.0->pyMC3->pyGPGO) (0.20.2)\n",
            "Requirement already satisfied: xarray-einstats>=0.2 in /usr/local/lib/python3.7/dist-packages (from arviz>=0.11.0->pyMC3->pyGPGO) (0.2.2)\n",
            "Requirement already satisfied: setuptools>=38.4 in /usr/local/lib/python3.7/dist-packages (from arviz>=0.11.0->pyMC3->pyGPGO) (57.4.0)\n",
            "Requirement already satisfied: kiwisolver>=1.0.1 in /usr/local/lib/python3.7/dist-packages (from matplotlib>=3.0->arviz>=0.11.0->pyMC3->pyGPGO) (1.4.4)\n",
            "Requirement already satisfied: cycler>=0.10 in /usr/local/lib/python3.7/dist-packages (from matplotlib>=3.0->arviz>=0.11.0->pyMC3->pyGPGO) (0.11.0)\n",
            "Requirement already satisfied: pyparsing!=2.0.4,!=2.1.2,!=2.1.6,>=2.0.1 in /usr/local/lib/python3.7/dist-packages (from matplotlib>=3.0->arviz>=0.11.0->pyMC3->pyGPGO) (3.0.9)\n",
            "Requirement already satisfied: python-dateutil>=2.1 in /usr/local/lib/python3.7/dist-packages (from matplotlib>=3.0->arviz>=0.11.0->pyMC3->pyGPGO) (2.8.2)\n",
            "Requirement already satisfied: pytz>=2017.3 in /usr/local/lib/python3.7/dist-packages (from pandas>=0.24.0->pyMC3->pyGPGO) (2022.1)\n",
            "Requirement already satisfied: six in /usr/local/lib/python3.7/dist-packages (from patsy>=0.5.1->pyMC3->pyGPGO) (1.15.0)\n",
            "Requirement already satisfied: importlib-metadata in /usr/local/lib/python3.7/dist-packages (from xarray>=0.16.1->arviz>=0.11.0->pyMC3->pyGPGO) (4.12.0)\n",
            "Requirement already satisfied: wrapt<2,>=1.10 in /usr/local/lib/python3.7/dist-packages (from deprecat->pyMC3->pyGPGO) (1.14.1)\n",
            "Requirement already satisfied: zipp>=0.5 in /usr/local/lib/python3.7/dist-packages (from importlib-metadata->xarray>=0.16.1->arviz>=0.11.0->pyMC3->pyGPGO) (3.8.1)\n",
            "Requirement already satisfied: cftime in /usr/local/lib/python3.7/dist-packages (from netcdf4->arviz>=0.11.0->pyMC3->pyGPGO) (1.6.1)\n",
            "Requirement already satisfied: threadpoolctl>=2.0.0 in /usr/local/lib/python3.7/dist-packages (from scikit-learn->pyGPGO) (3.1.0)\n",
            "Building wheels for collected packages: pyGPGO\n",
            "  Building wheel for pyGPGO (setup.py) ... \u001b[?25l\u001b[?25hdone\n",
            "  Created wheel for pyGPGO: filename=pyGPGO-0.5.1-py3-none-any.whl size=19879 sha256=fe28052b96cc7e5be156f9820c118d91574b191fc84b530bb96bc47270c815c4\n",
            "  Stored in directory: /root/.cache/pip/wheels/c8/5d/0b/2160114e2f1b87791c51b66cf07f89831dbb6f49167950316f\n",
            "Successfully built pyGPGO\n",
            "Installing collected packages: pyGPGO\n",
            "Successfully installed pyGPGO-0.5.1\n"
          ]
        }
      ],
      "source": [
        "pip install pyGPGO\n"
      ]
    },
    {
      "cell_type": "code",
      "execution_count": 2,
      "metadata": {
        "id": "ZJSSPbwPaEUB"
      },
      "outputs": [],
      "source": [
        "### Import:\n",
        "\n",
        "import numpy as np\n",
        "import scipy as sp\n",
        "import pandas as pd\n",
        "import matplotlib.pyplot as plt\n",
        "import warnings\n",
        "import itertools\n",
        "\n",
        "from pyGPGO.GPGO import GPGO\n",
        "from pyGPGO.surrogates.GaussianProcess import GaussianProcess\n",
        "from pyGPGO.acquisition import Acquisition\n",
        "from pyGPGO.covfunc import squaredExponential\n",
        "\n",
        "from joblib import Parallel, delayed\n",
        "from numpy.linalg import solve, cholesky\n",
        "from scipy.spatial.distance import cdist\n",
        "from scipy.optimize import minimize\n",
        "from scipy.stats import norm\n",
        "import time\n",
        "\n",
        "warnings.filterwarnings(\"ignore\", category=RuntimeWarning)\n"
      ]
    },
    {
      "cell_type": "code",
      "execution_count": 3,
      "metadata": {
        "id": "OeYcTUNoaJWa"
      },
      "outputs": [],
      "source": [
        "### Inputs:\n",
        "\n",
        "func = 'Branin'\n",
        "n_test = 500\n",
        "eps = 1e-08\n",
        "\n",
        "util = 'EI'\n",
        "\n",
        "n_init = 5 # random initialisations\n",
        "iters = 20\n",
        "opt = True"
      ]
    },
    {
      "cell_type": "code",
      "execution_count": 4,
      "metadata": {
        "id": "xpaEOjdzaPMS"
      },
      "outputs": [],
      "source": [
        "### Objective Function - Branin(x) 2-D:\n",
        "\n",
        "def objfunc(x1_training, x2_training, a = 1, b = (5.1 / (4 * (np.pi) ** 2)), c = (5 / (np.pi)), r = 6, s = 10, t = (1 / (8 * np.pi))):\n",
        "        return operator * ((a * (x2_training - b * x1_training ** 2 + c * x1_training - r) ** 2) + \n",
        "                 s * (1 - t) * np.cos(x1_training) + s)\n",
        "        \n",
        "# Constraints:\n",
        "lb_x1 = -5 \n",
        "ub_x1 = +10\n",
        "lb_x2 = +0 \n",
        "ub_x2 = +15\n",
        "\n",
        "# Input array dimension(s):\n",
        "dim = 2\n",
        "\n",
        "# 2-D inputs' parameter bounds:\n",
        "param = {'x1_training': ('cont', [lb_x1, ub_x1]),\n",
        "             'x2_training': ('cont', [lb_x2, ub_x2])}\n",
        "\n",
        "# True y bounds:\n",
        "operator = -1\n",
        "y_lb = 0.397887 # targets global minimum\n",
        "y_global_orig = y_lb * operator # targets global minimum\n",
        "\n",
        "\n",
        "# Test data:\n",
        "x1_test = np.linspace(lb_x1, ub_x1, n_test)\n",
        "x2_test = np.linspace(lb_x2, ub_x2, n_test)\n",
        "  \n",
        "x_test = np.column_stack((x1_test,x2_test))\n"
      ]
    },
    {
      "cell_type": "code",
      "execution_count": 5,
      "metadata": {
        "id": "eYpI3Zm4aGxi"
      },
      "outputs": [],
      "source": [
        "n_start_AcqFunc = iters\n",
        "inverse = -1\n"
      ]
    },
    {
      "cell_type": "code",
      "execution_count": 6,
      "metadata": {
        "id": "oO_GUmOoaV0T"
      },
      "outputs": [],
      "source": [
        "### Cumulative Regret Calculators:\n",
        "\n",
        "def min_max_array(x):\n",
        "    new_list = []\n",
        "    for i, num in enumerate(x):\n",
        "            new_list.append(np.min(x[0:i+1]))\n",
        "    return new_list\n",
        "  \n",
        "def acqFuncExact(x):\n",
        "    new_array = []\n",
        "    x = np.array(x) \n",
        "    for i, num in enumerate(x):\n",
        "            new_array = x[:-2][::-3]\n",
        "    return new_array[::-1]\n",
        "\n",
        "def acqFuncApprox(x):\n",
        "    new_array = []\n",
        "    x = np.array(x) \n",
        "    for i, num in enumerate(x):\n",
        "            new_array = x[:-1][::-3]\n",
        "    return new_array[::-1]\n"
      ]
    },
    {
      "cell_type": "code",
      "execution_count": 7,
      "metadata": {
        "id": "kuuJx0IMam9S"
      },
      "outputs": [],
      "source": [
        "### Surrogate derivatives: \n",
        "\n",
        "cov_func = squaredExponential()\n",
        "\n",
        "def kronDelta(X, Xstar):                     # Kronecker's Delta method\n",
        "    return cdist(X, Xstar) < np.finfo(np.float32).eps\n",
        "\n",
        "def se(X, Xstar, sigmaf, l, sigman):         # S.E. kernel method\n",
        "    return sigmaf * np.exp(-0.5 * cdist(X, Xstar) ** 2 / l ** 2) + sigman * kronDelta(X, Xstar)\n",
        "\n",
        "def delta(X, Xstar):                         # Distance between training X and test Xstar vectors\n",
        "    return (X - Xstar)\n",
        "   \n",
        "def der_covmat(X, Xstar, sigmaf, l, sigman): # Covariance matrix derivative terms (i.e. exact, first-order)\n",
        "    nx = len(X)\n",
        "    ny = len(Xstar)\n",
        "    return np.round(np.array([(delta(np.atleast_2d(i), np.atleast_2d(j))[0] * se(np.atleast_2d(i), np.atleast_2d(j), sigmaf, l, sigman)[0]).sum() for (i, j) in itertools.product(X, Xstar)]).reshape(nx, ny), 8)\n",
        "\n",
        "class dGaussianProcess(GaussianProcess):    # Via inheritance, also optimises hyperparameters when opt = TRUE\n",
        "    \n",
        "    def AcqGrad(self, Xstar):               # Method returning exact, first-order derivatives of the GP's posterior mean and standard deviation\n",
        "        Xstar = np.atleast_2d(Xstar)\n",
        "        Kstar = self.covfunc.K(self.X, Xstar).T\n",
        "        \n",
        "        dKstar = der_covmat(self.X, Xstar, self.covfunc.sigmaf, self.covfunc.l, self.covfunc.sigman).T\n",
        "        alpha_Kstar = np.dot(np.linalg.inv(self.K + (self.covfunc.sigman**2) * np.eye(len(self.X))), Kstar.T)\n",
        "        \n",
        "        dm = np.dot(dKstar, self.alpha)\n",
        "        ds = -2 * np.dot(dKstar, alpha_Kstar)\n",
        "        \n",
        "        return dm, ds           \n"
      ]
    },
    {
      "cell_type": "code",
      "execution_count": 8,
      "metadata": {
        "id": "_Dc3YVHVaXz7"
      },
      "outputs": [],
      "source": [
        "### Add exact acquisition function gradient as attribute:\n",
        "\n",
        "class Acquisition_grad(Acquisition):    \n",
        "    def __init__(self, mode, eps=eps, **params):\n",
        "        \n",
        "        self.params = params\n",
        "        self.eps = eps\n",
        "\n",
        "        mode_dict = {\n",
        "            'EI': self.EI\n",
        "        }\n",
        "\n",
        "        self.f = mode_dict[mode]\n",
        "    \n",
        "    def EI(self, tau, mean, std, ds, dm):\n",
        "        gamma = (mean - tau - self.eps) / (std + self.eps)\n",
        "        gamma_h = (mean - tau) / (std + self.eps)\n",
        "        dsdx = ds / (2 * (std + self.eps))\n",
        "        dmdx = (dm - gamma * dsdx) / (std + self.eps)\n",
        "        \n",
        "        f = (std + self.eps) * (gamma * norm.cdf(gamma) + norm.pdf(gamma))\n",
        "        df1 = f / (std + self.eps) * dsdx \n",
        "        df2 = (std + self.eps) * norm.cdf(gamma) * dmdx\n",
        "        df = (df1 + df2)[0]\n",
        "        df_arr = []\n",
        "\n",
        "        for j in range(0, dim):\n",
        "          df_arr.append(df)\n",
        "        return f, np.asarray(df_arr).transpose()\n",
        "        \n",
        "    def d_eval(self, tau, mean, std, ds, dm):\n",
        "    \n",
        "        return self.f(tau, mean, std, ds, dm, **self.params)\n",
        "        "
      ]
    },
    {
      "cell_type": "code",
      "execution_count": 9,
      "metadata": {
        "id": "PITEQC8YSl7i"
      },
      "outputs": [],
      "source": [
        "## GPGO_multi: \n",
        "\n",
        "class GPGO_multi(GPGO):\n",
        "    n_start = n_start_AcqFunc\n",
        "\n",
        "    def __init__(self, surrogate, acquisition, f, parameter_dict, n_jobs=1):\n",
        "        self.GP = surrogate\n",
        "        self.A = acquisition\n",
        "        self.f = f\n",
        "        self.parameters = parameter_dict\n",
        "        self.n_jobs = n_jobs\n",
        "\n",
        "        self.parameter_key = list(parameter_dict.keys())\n",
        "        self.parameter_value = list(parameter_dict.values())\n",
        "        self.parameter_type = [p[0] for p in self.parameter_value]\n",
        "        self.parameter_range = [p[1] for p in self.parameter_value]\n",
        "\n",
        "        self.history = []\n",
        "        self.header =   'Evaluation \\t Proposed point \\t  Current eval. \\t  Best eval. \\t        Exact EI: StdDev. x \\t Approx EI: StdDev. x '\n",
        "        self.template = '{:3}\\t {}\\t {:3}\\t {:3}\\t {:3}\\t {:3}'\n",
        " \n",
        "    def acqfuncExact(self, xnew, n_start=n_start_AcqFunc):\n",
        "        new_mean, new_var = self.GP.predict(xnew, return_std=True)\n",
        "        new_std = np.sqrt(new_var + eps)\n",
        "        dm, ds = self.GP.AcqGrad(xnew)\n",
        "        f, df = self.A.d_eval(self.tau, new_mean, new_std, ds=ds, dm=dm)\n",
        "\n",
        "        return -f, -df\n",
        "   \n",
        "    def acqfuncApprox(self, xnew, n_start=n_start_AcqFunc):\n",
        "        new_mean, new_var = self.GP.predict(xnew, return_std=True)\n",
        "        new_std = np.sqrt(new_var + eps)\n",
        "        dm, ds = self.GP.AcqGrad(xnew)\n",
        "        f, df = self.A.d_eval(self.tau, new_mean, new_std, ds=ds, dm=dm)\n",
        "\n",
        "        return -f\n",
        "   \n",
        "    def _optimizeAcq(self, method='L-BFGS-B', n_start=n_start_AcqFunc):\n",
        "        \n",
        "        start_points_dict = [self._sampleParam() for i in range(n_start)]\n",
        "        start_points_arr = np.array([list(s.values())\n",
        "                                     for s in start_points_dict])\n",
        "        x_best = np.empty((n_start, len(self.parameter_key)))\n",
        "        f_best = np.empty((n_start,))\n",
        "        opt = Parallel(n_jobs=self.n_jobs)(delayed(minimize)(self.acqfuncApprox,\n",
        "                                                                 x0=start_point,\n",
        "                                                                 method=method,\n",
        "                                                                 jac = False,\n",
        "                                                                 bounds=self.parameter_range) for start_point in\n",
        "                                               start_points_arr)\n",
        "        x_best = np.array([res.x for res in opt])\n",
        "        f_best = np.array([np.atleast_1d(res.fun)[0] for res in opt])\n",
        "        f_best_min = min(f_best)\n",
        "\n",
        "        self.x_best = x_best\n",
        "        self.f_best = f_best\n",
        "        self.f_best_min = f_best_min\n",
        "        self.x_best_std = np.std(x_best)\n",
        "        self.best = x_best[np.argmin(f_best)]\n",
        "        self.start_points_arr = start_points_arr        \n",
        "        self.history.append(self.x_best_std)\n",
        "\n",
        "        x_best_exact = np.empty((n_start, len(self.parameter_key)))\n",
        "        f_best_exact = np.empty((n_start,))\n",
        "        opt_exact = Parallel(n_jobs=self.n_jobs)(delayed(minimize)(self.acqfuncExact,\n",
        "                                                                 x0=start_point,\n",
        "                                                                 method=method,\n",
        "                                                                 jac = True,\n",
        "                                                                 bounds=self.parameter_range) for start_point in\n",
        "                                               start_points_arr)\n",
        "        x_best_exact = np.array([res.x for res in opt_exact])\n",
        "        f_best_exact = np.array([np.atleast_1d(res.fun)[0] for res in opt_exact])\n",
        "        f_best_min_exact = min(f_best_exact)\n",
        "\n",
        "        self.x_best_exact = x_best_exact\n",
        "        self.f_best_exact = f_best_exact\n",
        "        self.f_best_min_exact = f_best_min_exact\n",
        "        self.x_best_std_exact = np.std(x_best_exact)\n",
        "        self.best_exact = x_best_exact[np.argmin(f_best_exact)]\n",
        "        self.start_points_arr = start_points_arr\n",
        "        self.history.append(self.x_best_std_exact)\n",
        "\n",
        "    def _printInit(self):\n",
        "        print(self.header)\n",
        "        for init_eval in range(self.init_evals):\n",
        "            print(self.template.format('init', self.GP.X[init_eval], inverse * self.GP.y[init_eval], inverse * self.tau, '', ''))\n",
        "      \n",
        "    def _printCurrent(self):\n",
        "        OKGREEN = '\\033[92m'\n",
        "        ENDC = '\\033[0m'\n",
        "        BOLD = '\\033[1m'\n",
        "        eval = str(len(self.GP.y) - self.init_evals)\n",
        "        proposed = str(self.best)\n",
        "        curr_eval = str(inverse * self.GP.y[-1])\n",
        "        curr_best = str(inverse * self.tau)\n",
        "        min_acqfunc = str(self.f_best_min)\n",
        "        min_acqfunc_exact = str(self.f_best_min_exact)\n",
        "        x_best_std = str(self.x_best_std)\n",
        "        x_best_std_exact = str(self.x_best_std_exact)\n",
        "        if float(curr_eval) <= float(curr_best):\n",
        "            eval = BOLD + OKGREEN + eval + ENDC\n",
        "            proposed = BOLD + OKGREEN + proposed + ENDC\n",
        "            curr_eval = BOLD + OKGREEN + curr_eval + ENDC\n",
        "            curr_best = BOLD + OKGREEN + curr_best + ENDC\n",
        "            x_best_std = BOLD + OKGREEN + x_best_std + ENDC\n",
        "            x_best_std_exact = BOLD + OKGREEN + x_best_std_exact + ENDC\n",
        "        print(self.template.format(eval, proposed, curr_eval, curr_best, x_best_std_exact, x_best_std))\n",
        "        \n",
        "    def run(self, max_iter=10, init_evals=3, resume=False):\n",
        "        \n",
        "        if not resume:\n",
        "            self.init_evals = init_evals\n",
        "            self._firstRun(self.init_evals)\n",
        "            self._printInit()\n",
        "        for iteration in range(max_iter):\n",
        "            self._optimizeAcq()\n",
        "            self.updateGP()\n",
        "            self._printCurrent()\n"
      ]
    },
    {
      "cell_type": "code",
      "execution_count": 10,
      "metadata": {
        "id": "b_B-w81BJxKN"
      },
      "outputs": [],
      "source": [
        "## dGPGO:\n",
        "\n",
        "class dGPGO(GPGO):\n",
        "    n_start = n_start_AcqFunc\n",
        "\n",
        "    def __init__(self, surrogate, acquisition, f, parameter_dict, n_jobs=1):\n",
        "        self.GP = surrogate\n",
        "        self.A = acquisition\n",
        "        self.f = f\n",
        "        self.parameters = parameter_dict\n",
        "        self.n_jobs = n_jobs\n",
        "\n",
        "        self.parameter_key = list(parameter_dict.keys())\n",
        "        self.parameter_value = list(parameter_dict.values())\n",
        "        self.parameter_type = [p[0] for p in self.parameter_value]\n",
        "        self.parameter_range = [p[1] for p in self.parameter_value]\n",
        "\n",
        "        self.history = []\n",
        "        self.header =   'Evaluation \\t Proposed point \\t  Current eval. \\t  Best eval. \\t        Exact EI: StdDev. x \\t Approx EI: StdDev. x '\n",
        "        self.template = '{:3}\\t {}\\t {:3}\\t {:3}\\t {:3}\\t {:3}'\n",
        "\n",
        "    def acqfuncExact(self, xnew, n_start=n_start_AcqFunc):\n",
        "        new_mean, new_var = self.GP.predict(xnew, return_std=True)\n",
        "        new_std = np.sqrt(new_var + eps)\n",
        "        dm, ds = self.GP.AcqGrad(xnew)\n",
        "        f, df = self.A.d_eval(self.tau, new_mean, new_std, ds=ds, dm=dm)\n",
        "\n",
        "        return -f, -df\n",
        "   \n",
        "    def acqfuncApprox(self, xnew, n_start=n_start_AcqFunc):\n",
        "        new_mean, new_var = self.GP.predict(xnew, return_std=True)\n",
        "        new_std = np.sqrt(new_var + eps)\n",
        "        dm, ds = self.GP.AcqGrad(xnew)\n",
        "        f, df = self.A.d_eval(self.tau, new_mean, new_std, ds=ds, dm=dm)\n",
        "\n",
        "        return -f\n",
        "\n",
        "    def d_optimizeAcq(self, method='L-BFGS-B', n_start=n_start_AcqFunc):\n",
        "        start_points_dict = [self._sampleParam() for i in range(n_start)]\n",
        "        start_points_arr = np.array([list(s.values())\n",
        "                                     for s in start_points_dict])\n",
        "        x_best = np.empty((n_start, len(self.parameter_key)))\n",
        "        f_best = np.empty((n_start,))\n",
        "        opt = Parallel(n_jobs=self.n_jobs)(delayed(minimize)(self.acqfuncExact,\n",
        "                                                                 x0=start_point,\n",
        "                                                                 method=method,\n",
        "                                                                 jac = True,\n",
        "                                                                 bounds=self.parameter_range) for start_point in\n",
        "                                               start_points_arr)\n",
        "        x_best = np.array([res.x for res in opt])\n",
        "        f_best = np.array([np.atleast_1d(res.fun)[0] for res in opt])\n",
        "        f_best_min = min(f_best)\n",
        "\n",
        "        self.x_best = x_best\n",
        "        self.f_best = f_best\n",
        "        self.f_best_min = f_best_min\n",
        "        self.x_best_std = np.std(x_best)\n",
        "        self.best = x_best[np.argmin(f_best)]\n",
        "        self.start_points_arr = start_points_arr\n",
        "        self.history.append(self.x_best_std)\n",
        "\n",
        "        x_best_approx = np.empty((n_start, len(self.parameter_key)))\n",
        "        f_best_approx = np.empty((n_start,))\n",
        "        opt_approx = Parallel(n_jobs=self.n_jobs)(delayed(minimize)(self.acqfuncApprox,\n",
        "                                                                 x0=start_point,\n",
        "                                                                 method=method,\n",
        "                                                                 jac = False,\n",
        "                                                                 bounds=self.parameter_range) for start_point in\n",
        "                                               start_points_arr)\n",
        "        x_best_approx = np.array([res.x for res in opt_approx])\n",
        "        f_best_approx = np.array([np.atleast_1d(res.fun)[0] for res in opt_approx])\n",
        "        f_best_min_approx = min(f_best_approx)\n",
        "\n",
        "        self.x_best_approx = x_best_approx\n",
        "        self.f_best_approx = f_best_approx\n",
        "        self.f_best_min_approx = f_best_min_approx\n",
        "        self.x_best_std_approx = np.std(x_best_approx)\n",
        "        self.best_approx = x_best_approx[np.argmin(f_best_approx)]\n",
        "        self.start_points_arr = start_points_arr\n",
        "        self.history.append(self.x_best_std_approx)\n",
        "    \n",
        "    def _printInit(self):\n",
        "        print(self.header)\n",
        "        for init_eval in range(self.init_evals):\n",
        "            print(self.template.format('init', self.GP.X[init_eval], inverse * self.GP.y[init_eval], inverse * self.tau, '', ''))\n",
        "      \n",
        "    def _printCurrent(self):\n",
        "        OKGREEN = '\\033[92m'\n",
        "        ENDC = '\\033[0m'\n",
        "        BOLD = '\\033[1m'\n",
        "        eval = str(len(self.GP.y) - self.init_evals)\n",
        "        proposed = str(self.best)\n",
        "        curr_eval = str(inverse * self.GP.y[-1])\n",
        "        curr_best = str(inverse * self.tau)\n",
        "        min_acqfunc = str(self.f_best_min)\n",
        "        min_acqfunc_approx = str(self.f_best_min_approx)\n",
        "        x_best_std = str(self.x_best_std)\n",
        "        x_best_std_approx = str(self.x_best_std_approx)\n",
        "        if float(curr_eval) <= float(curr_best):\n",
        "            eval = BOLD + OKGREEN + eval + ENDC\n",
        "            proposed = BOLD + OKGREEN + proposed + ENDC\n",
        "            curr_eval = BOLD + OKGREEN + curr_eval + ENDC\n",
        "            curr_best = BOLD + OKGREEN + curr_best + ENDC\n",
        "            x_best_std = BOLD + OKGREEN + x_best_std + ENDC\n",
        "            x_best_std_approx = BOLD + OKGREEN + x_best_std_approx + ENDC\n",
        "        print(self.template.format(eval, proposed, curr_eval, curr_best, x_best_std, x_best_std_approx))\n",
        "\n",
        "    def run(self, max_iter=10, init_evals=3, resume=False):\n",
        "        \n",
        "        if not resume:\n",
        "            self.init_evals = init_evals\n",
        "            self._firstRun(self.init_evals)\n",
        "            self._printInit()\n",
        "        for iteration in range(max_iter):\n",
        "            self.d_optimizeAcq()\n",
        "            self.updateGP()\n",
        "            self._printCurrent()\n"
      ]
    },
    {
      "cell_type": "code",
      "execution_count": 11,
      "metadata": {
        "id": "qXIKGuXVGEg2"
      },
      "outputs": [],
      "source": [
        "###Reproducible set-seeds:\n",
        "\n",
        "run_num_1 = 1\n",
        "run_num_2 = 2\n",
        "run_num_3 = 3\n",
        "run_num_4 = 4\n",
        "run_num_5 = 5\n",
        "run_num_6 = 6\n",
        "run_num_7 = 7\n",
        "run_num_8 = 8\n",
        "run_num_9 = 9\n",
        "run_num_10 = 10\n",
        "run_num_11 = 11\n",
        "run_num_12 = 12\n",
        "run_num_13 = 13\n",
        "run_num_14 = 14\n",
        "run_num_15 = 15\n",
        "run_num_16 = 16\n",
        "run_num_17 = 17\n",
        "run_num_18 = 18\n",
        "run_num_19 = 19\n",
        "run_num_20 = 20\n"
      ]
    },
    {
      "cell_type": "code",
      "execution_count": 12,
      "metadata": {
        "colab": {
          "base_uri": "https://localhost:8080/"
        },
        "id": "JEhagQmnTVIK",
        "outputId": "d152e85b-2fab-4fe9-dbc7-4b693c4f9467"
      },
      "outputs": [
        {
          "output_type": "execute_result",
          "data": {
            "text/plain": [
              "1659528133.6734853"
            ]
          },
          "metadata": {},
          "execution_count": 12
        }
      ],
      "source": [
        "start_approx = time.time()\n",
        "start_approx\n"
      ]
    },
    {
      "cell_type": "code",
      "execution_count": 13,
      "metadata": {
        "colab": {
          "base_uri": "https://localhost:8080/"
        },
        "id": "aH0YSTXufD1v",
        "outputId": "e3e3d7b1-244f-42e5-f9f3-e3a44eb6c487"
      },
      "outputs": [
        {
          "output_type": "stream",
          "name": "stdout",
          "text": [
            "Evaluation \t Proposed point \t  Current eval. \t  Best eval. \t        Exact EI: StdDev. x \t Approx EI: StdDev. x \n",
            "init\t [ 1.25533007 10.8048674 ]\t 56.52874004692151\t 27.68166689936483\t    \t    \n",
            "init\t [-4.99828438  4.53498859]\t 172.66531086516164\t 27.68166689936483\t    \t    \n",
            "init\t [-2.79866164  1.38507892]\t 102.58290348816024\t 27.68166689936483\t    \t    \n",
            "init\t [-2.20609683  5.18341091]\t 28.868064601155666\t 27.68166689936483\t    \t    \n",
            "init\t [0.95151211 8.08225101]\t 27.68166689936483\t 27.68166689936483\t    \t    \n",
            "\u001b[1m\u001b[92m1\u001b[0m\t \u001b[1m\u001b[92m[8.41909995 1.27566317]\u001b[0m\t \u001b[1m\u001b[92m5.089934878453152\u001b[0m\t \u001b[1m\u001b[92m5.089934878453152\u001b[0m\t \u001b[1m\u001b[92m5.405420528794761\u001b[0m\t \u001b[1m\u001b[92m5.542141089617631\u001b[0m\n",
            "2  \t [ 8.98893195 10.45227242]\t 70.52424256621515\t 5.089934878453152\t 5.69036904730349\t 5.82372415819082\n",
            "\u001b[1m\u001b[92m3\u001b[0m\t \u001b[1m\u001b[92m[-3.98443869 13.27643184]\u001b[0m\t \u001b[1m\u001b[92m4.856556129138367\u001b[0m\t \u001b[1m\u001b[92m4.856556129138367\u001b[0m\t \u001b[1m\u001b[92m5.508275420942684\u001b[0m\t \u001b[1m\u001b[92m4.88921883949269\u001b[0m\n",
            "4  \t [2.90512774 0.        ]\t 6.749370292693687\t 4.856556129138367\t 5.966531177226105\t 6.40951884004362\n",
            "5  \t [ 5.3348007 15.       ]\t 206.4244586271804\t 4.856556129138367\t 4.2575177369319475\t 4.4619124802854975\n",
            "6  \t [5.82730156 5.65849845]\t 39.28905326289761\t 4.856556129138367\t 5.071290798169534\t 5.526078949655265\n",
            "7  \t [-5.          9.40524725]\t 73.28503335699106\t 4.856556129138367\t 5.716342104460928\t 5.99673555201648\n",
            "8  \t [-0.27570884 15.        ]\t 92.36549183866397\t 4.856556129138367\t 5.174260951694638\t 5.135570377442427\n",
            "9  \t [10. 15.]\t 145.87219087939556\t 4.856556129138367\t 5.766040232168161\t 5.869262842586629\n",
            "10 \t [10.          5.15305911]\t 6.566081429458171\t 4.856556129138367\t 4.426376076399035\t 4.636097334804009\n",
            "11 \t [1.84148122 3.72777254]\t 7.481101495067109\t 4.856556129138367\t 4.544314570042702\t 4.818082523452125\n",
            "12 \t [5.04202986 9.64730405]\t 83.46353817902751\t 4.856556129138367\t 4.329005000126949\t 4.614986993288663\n",
            "13 \t [5.37384181 1.91221818]\t 16.43748679951871\t 4.856556129138367\t 4.427497880672074\t 4.370804407772825\n",
            "14 \t [-2.07714597 11.43751006]\t 7.821378544100525\t 4.856556129138367\t 5.09792353608515\t 5.561508892152712\n",
            "15 \t [0.4064629 0.       ]\t 47.70435414680799\t 4.856556129138367\t 4.900240813708802\t 4.951549641549469\n",
            "16 \t [10.  0.]\t 10.960889035651505\t 4.856556129138367\t 4.590660217812258\t 4.686672664338888\n",
            "17 \t [8.72018144 7.17429278]\t 30.03208465004716\t 4.856556129138367\t 4.8293509738392535\t 4.774448100848666\n",
            "18 \t [-5. 15.]\t 17.508299515778166\t 4.856556129138367\t 5.003852285354282\t 5.300874545669558\n",
            "19 \t [8.29436873 3.45677352]\t 9.040406284827128\t 4.856556129138367\t 5.476832098567798\t 5.646372799274065\n",
            "20 \t [-1.92936421  8.36727689]\t 8.032825073834074\t 4.856556129138367\t 5.563893108192478\t 6.009020129939386\n"
          ]
        }
      ],
      "source": [
        "### ESTIMATED GP EI GRADIENTS\n",
        "\n",
        "np.random.seed(run_num_1)\n",
        "surrogate_approx_1 = dGaussianProcess(cov_func, optimize=opt)\n",
        "\n",
        "approx_1 = GPGO_multi(surrogate_approx_1, Acquisition_grad(util), objfunc, param)\n",
        "approx_1.run(init_evals=n_init, max_iter=iters)\n"
      ]
    },
    {
      "cell_type": "code",
      "execution_count": 14,
      "metadata": {
        "id": "wTxsSZxFGBB5",
        "colab": {
          "base_uri": "https://localhost:8080/"
        },
        "outputId": "d101eeaa-28e9-445f-e3fd-3d8ac81614f8"
      },
      "outputs": [
        {
          "output_type": "stream",
          "name": "stdout",
          "text": [
            "Evaluation \t Proposed point \t  Current eval. \t  Best eval. \t        Exact EI: StdDev. x \t Approx EI: StdDev. x \n",
            "init\t [1.53992353 0.38889348]\t 22.31361308916297\t 6.692051508754487\t    \t    \n",
            "init\t [3.24493717 6.52983589]\t 19.233109967858276\t 6.692051508754487\t    \t    \n",
            "init\t [1.30551703 4.95502232]\t 13.177851563387286\t 6.692051508754487\t    \t    \n",
            "init\t [-1.93027049  9.2890645 ]\t 6.692051508754487\t 6.692051508754487\t    \t    \n",
            "init\t [-0.50517989  4.00240913]\t 26.437522758780958\t 6.692051508754487\t    \t    \n",
            "1  \t [ 9.5587047  12.00387527]\t 89.09951357262268\t 6.692051508754487\t 5.75515449994353\t 6.099827733628081\n",
            "\u001b[1m\u001b[92m2\u001b[0m\t \u001b[1m\u001b[92m[9.59366035 1.69164323]\u001b[0m\t \u001b[1m\u001b[92m1.3984593420568778\u001b[0m\t \u001b[1m\u001b[92m1.3984593420568778\u001b[0m\t \u001b[1m\u001b[92m4.558221037166559\u001b[0m\t \u001b[1m\u001b[92m5.436385046269629\u001b[0m\n",
            "3  \t [ 3.24245232 12.67669673]\t 110.25694222671481\t 1.3984593420568778\t 5.641319204144841\t 6.034794047588232\n",
            "4  \t [-2.58611214 14.70647972]\t 15.728927661559513\t 1.3984593420568778\t 5.026254267928121\t 5.110573840483808\n",
            "5  \t [-4.49465842  0.        ]\t 256.405875659363\t 1.3984593420568778\t 5.785292590319649\t 5.768936251029545\n",
            "6  \t [8.72654897 6.41265603]\t 22.569095286958294\t 1.3984593420568778\t 5.140925536518329\t 5.297371744174811\n",
            "7  \t [-5.          5.78531296]\t 142.73043040104332\t 1.3984593420568778\t 4.448947929774375\t 4.95198212323037\n",
            "8  \t [5.71567674 2.44847177]\t 19.852352522199936\t 1.3984593420568778\t 5.0661228457252525\t 5.195014932039887\n",
            "9  \t [-5.         11.43104493]\t 45.85891814905954\t 1.3984593420568778\t 5.1962717695314184\t 5.297537762068456\n",
            "10 \t [6.05662669 9.3568208 ]\t 87.54141192968102\t 1.3984593420568778\t 4.454236866352879\t 4.763452711195188\n",
            "11 \t [ 6.75314372 15.        ]\t 210.56396025908995\t 1.3984593420568778\t 5.302827343674296\t 5.204348624237647\n",
            "12 \t [1.14328196 9.28747775]\t 38.36706382141317\t 1.3984593420568778\t 4.448667941461158\t 4.4734803168101855\n",
            "13 \t [8.03150407 0.        ]\t 10.708456131568257\t 1.3984593420568778\t 5.076327450844688\t 5.12262584694797\n",
            "14 \t [ 0.46597826 15.        ]\t 112.93193441374463\t 1.3984593420568778\t 5.770820618920935\t 6.3362202685162625\n",
            "15 \t [-1.32512052 11.81865801]\t 24.465399820848376\t 1.3984593420568778\t 5.008200233673764\t 4.95927194826917\n",
            "16 \t [4.54976774 0.        ]\t 10.498823474874627\t 1.3984593420568778\t 4.768597730561283\t 5.189387319816377\n",
            "17 \t [10.          3.46853029]\t 2.1598995215074686\t 1.3984593420568778\t 4.487215944261835\t 4.859069869673825\n",
            "18 \t [-1.392       6.90733098]\t 14.136368950416902\t 1.3984593420568778\t 5.265111024970802\t 5.274986145015734\n",
            "19 \t [-5. 15.]\t 17.508299515778166\t 1.3984593420568778\t 5.312340125928617\t 5.983116506499512\n",
            "20 \t [5.93677428 5.40441263]\t 37.5211797065705\t 1.3984593420568778\t 5.5572327408429665\t 5.77877730110099\n"
          ]
        }
      ],
      "source": [
        "### ESTIMATED GP EI GRADIENTS\n",
        "\n",
        "np.random.seed(run_num_2)\n",
        "surrogate_approx_2 = dGaussianProcess(cov_func, optimize=opt)\n",
        "\n",
        "approx_2 = GPGO_multi(surrogate_approx_2, Acquisition_grad(util), objfunc, param)\n",
        "approx_2.run(init_evals=n_init, max_iter=iters)\n"
      ]
    },
    {
      "cell_type": "code",
      "execution_count": 15,
      "metadata": {
        "id": "-dgzIrUIGCGT",
        "colab": {
          "base_uri": "https://localhost:8080/"
        },
        "outputId": "54b18e07-84f8-4c56-86e7-7432da2599e0"
      },
      "outputs": [
        {
          "output_type": "stream",
          "name": "stdout",
          "text": [
            "Evaluation \t Proposed point \t  Current eval. \t  Best eval. \t        Exact EI: StdDev. x \t Approx EI: StdDev. x \n",
            "init\t [ 3.26196854 10.62221734]\t 71.68783452098575\t 18.07886746449891\t    \t    \n",
            "init\t [-0.63642892  7.66241408]\t 18.07886746449891\t 18.07886746449891\t    \t    \n",
            "init\t [ 8.39420432 13.44439633]\t 141.98653529865882\t 18.07886746449891\t    \t    \n",
            "init\t [-3.11622034  3.10864317]\t 83.31045707266176\t 18.07886746449891\t    \t    \n",
            "init\t [-4.22799195  6.61214765]\t 76.5294170688398\t 18.07886746449891\t    \t    \n",
            "1  \t [6.70472147 4.59545299]\t 30.726791812855225\t 18.07886746449891\t 4.402099176428831\t 4.5324596575942495\n",
            "\u001b[1m\u001b[92m2\u001b[0m\t \u001b[1m\u001b[92m[-5. 15.]\u001b[0m\t \u001b[1m\u001b[92m17.508299515778166\u001b[0m\t \u001b[1m\u001b[92m17.508299515778166\u001b[0m\t \u001b[1m\u001b[92m5.874212059781057\u001b[0m\t \u001b[1m\u001b[92m6.119506956575642\u001b[0m\n",
            "\u001b[1m\u001b[92m3\u001b[0m\t \u001b[1m\u001b[92m[2.64492238 0.66856133]\u001b[0m\t \u001b[1m\u001b[92m5.661284999877455\u001b[0m\t \u001b[1m\u001b[92m5.661284999877455\u001b[0m\t \u001b[1m\u001b[92m5.485408998091779\u001b[0m\t \u001b[1m\u001b[92m5.968371032478467\u001b[0m\n",
            "4  \t [10.  0.]\t 10.960889035651505\t 5.661284999877455\t 4.819057393078421\t 4.457193000146724\n",
            "5  \t [ 0.17572036 15.        ]\t 105.49246408403764\t 5.661284999877455\t 4.947111133559131\t 5.525463655025987\n",
            "6  \t [10.          8.34438297]\t 30.473976245890775\t 5.661284999877455\t 5.19849652021154\t 4.642914526507515\n",
            "7  \t [-0.6195202  11.33294215]\t 36.28496106529289\t 5.661284999877455\t 4.512717909225738\t 4.451423520353674\n",
            "8  \t [2.26478181 4.63090009]\t 6.332114166073294\t 5.661284999877455\t 5.1680912191319495\t 5.0823071429981015\n",
            "9  \t [7.57758365 1.58614563]\t 12.672552824993334\t 5.661284999877455\t 4.2791348300896095\t 4.401900834870891\n",
            "10 \t [ 4.40947615 15.        ]\t 189.55048768987606\t 5.661284999877455\t 4.237316918177519\t 4.9315442715091455\n",
            "11 \t [-5.         10.94928018]\t 51.63739464025742\t 5.661284999877455\t 5.255421447947687\t 5.260062852563121\n",
            "12 \t [6.32108564 8.30850722]\t 71.53772726221239\t 5.661284999877455\t 4.774677891524341\t 4.547201987037415\n",
            "13 \t [-0.61485529  0.        ]\t 67.22804933237742\t 5.661284999877455\t 5.405655398946402\t 5.391239223887055\n",
            "14 \t [-5.  0.]\t 308.12909601160663\t 5.661284999877455\t 5.5254170064113515\t 5.492194576330699\n",
            "\u001b[1m\u001b[92m15\u001b[0m\t \u001b[1m\u001b[92m[10.          4.13818916]\u001b[0m\t \u001b[1m\u001b[92m3.231893608619532\u001b[0m\t \u001b[1m\u001b[92m3.231893608619532\u001b[0m\t \u001b[1m\u001b[92m5.380141528018752\u001b[0m\t \u001b[1m\u001b[92m5.454104541255296\u001b[0m\n",
            "16 \t [2.74159145 7.14210639]\t 21.71749185148699\t 3.231893608619532\t 5.403168111991532\t 5.292383405591342\n",
            "17 \t [0.32841809 3.40263841]\t 23.45117253041081\t 3.231893608619532\t 5.303824101923716\t 5.034059000590728\n",
            "18 \t [4.34774501 2.43649726]\t 7.411466426961951\t 3.231893608619532\t 4.979461597214926\t 5.135582553300315\n",
            "19 \t [5.27380484 0.        ]\t 16.550799319636845\t 3.231893608619532\t 5.196568766259534\t 5.13385757386335\n",
            "20 \t [10.          5.55953731]\t 8.479245548347297\t 3.231893608619532\t 4.118897187228865\t 4.003905810494538\n"
          ]
        }
      ],
      "source": [
        "### ESTIMATED GP EI GRADIENTS\n",
        "\n",
        "np.random.seed(run_num_3)\n",
        "surrogate_approx_3 = dGaussianProcess(cov_func, optimize=opt)\n",
        "\n",
        "approx_3 = GPGO_multi(surrogate_approx_3, Acquisition_grad(util), objfunc, param)\n",
        "approx_3.run(init_evals=n_init, max_iter=iters)\n"
      ]
    },
    {
      "cell_type": "code",
      "execution_count": 16,
      "metadata": {
        "id": "hOtG-2sCGCKS",
        "colab": {
          "base_uri": "https://localhost:8080/"
        },
        "outputId": "c5aa41e6-a853-41fc-8dbf-1c4ca474fd01"
      },
      "outputs": [
        {
          "output_type": "stream",
          "name": "stdout",
          "text": [
            "Evaluation \t Proposed point \t  Current eval. \t  Best eval. \t        Exact EI: StdDev. x \t Approx EI: StdDev. x \n",
            "init\t [9.50544759 8.20848374]\t 32.51676744781521\t 7.247126865776948\t    \t    \n",
            "init\t [ 9.5902654  10.72223991]\t 66.20566674364716\t 7.247126865776948\t    \t    \n",
            "init\t [5.46593237 3.24134243]\t 20.90089401680587\t 7.247126865776948\t    \t    \n",
            "init\t [9.64411682 0.09345383]\t 7.247126865776948\t 7.247126865776948\t    \t    \n",
            "init\t [-1.20526456  6.52187299]\t 15.941376982363263\t 7.247126865776948\t    \t    \n",
            "1  \t [ 1.25164457 13.57001383]\t 100.61648848019335\t 7.247126865776948\t 5.271989464069712\t 5.748331886405332\n",
            "2  \t [-4.27198795  1.64727177]\t 188.41076037632916\t 7.247126865776948\t 5.806768759749982\t 5.614414848444463\n",
            "3  \t [-4.64886205 10.90918479]\t 37.28607541173125\t 7.247126865776948\t 5.232684166914609\t 5.570236948056291\n",
            "4  \t [3.91133965 8.49906097]\t 48.63781804318897\t 7.247126865776948\t 4.910630478397829\t 4.9383703606888565\n",
            "5  \t [1.2501607 0.       ]\t 30.769010850910195\t 7.247126865776948\t 5.405034456806219\t 5.9965317580978255\n",
            "6  \t [ 6.50670021 15.        ]\t 212.1962305407001\t 7.247126865776948\t 4.822322031304634\t 5.150935793607421\n",
            "\u001b[1m\u001b[92m7\u001b[0m\t \u001b[1m\u001b[92m[10.         3.9710834]\u001b[0m\t \u001b[1m\u001b[92m2.8804101566386846\u001b[0m\t \u001b[1m\u001b[92m2.8804101566386846\u001b[0m\t \u001b[1m\u001b[92m4.573206361183674\u001b[0m\t \u001b[1m\u001b[92m5.852584433483589\u001b[0m\n",
            "8  \t [-3.32101574 15.        ]\t 5.794504001793091\t 2.8804101566386846\t 4.11744202156487\t 4.175847193181756\n",
            "9  \t [-5.          6.41960122]\t 128.6683829016809\t 2.8804101566386846\t 5.124925257438728\t 4.725023881492581\n",
            "10 \t [1.67704842 4.11184401]\t 9.156079763831384\t 2.8804101566386846\t 5.736860796103734\t 5.559643936791203\n",
            "11 \t [6.17585953 0.        ]\t 20.75262479806055\t 2.8804101566386846\t 5.29394457822538\t 5.1449278325985315\n",
            "12 \t [-0.6962027  10.02127529]\t 25.493564735425053\t 2.8804101566386846\t 4.834908610748358\t 4.737802392192711\n",
            "13 \t [ 5.92890889 11.19403264]\t 120.79564645763605\t 2.8804101566386846\t 5.337422528923867\t 5.6404517709281174\n",
            "14 \t [6.81429291 6.1815748 ]\t 43.5624795585275\t 2.8804101566386846\t 4.349378287022981\t 4.1276218933330036\n",
            "15 \t [-0.81586142  3.03557588]\t 35.492668510576934\t 2.8804101566386846\t 4.54075130967028\t 4.658130468734193\n",
            "16 \t [10.         14.43248802]\t 132.57732909848184\t 2.8804101566386846\t 5.069222411303431\t 5.652505917420535\n",
            "17 \t [-2.17578511 12.907686  ]\t 12.566086273583661\t 2.8804101566386846\t 5.415350307927509\t 5.103430196947721\n",
            "18 \t [1.46308725 6.68753768]\t 18.5375229513906\t 2.8804101566386846\t 4.390142862558318\t 4.991292117311929\n",
            "19 \t [8.46558076 2.51468307]\t 5.019479577732405\t 2.8804101566386846\t 5.078937570939612\t 5.183342674880899\n",
            "\u001b[1m\u001b[92m20\u001b[0m\t \u001b[1m\u001b[92m[3.2818078  1.84718748]\u001b[0m\t \u001b[1m\u001b[92m0.5951666875769774\u001b[0m\t \u001b[1m\u001b[92m0.5951666875769774\u001b[0m\t \u001b[1m\u001b[92m4.7982419350751115\u001b[0m\t \u001b[1m\u001b[92m4.931642028889307\u001b[0m\n"
          ]
        }
      ],
      "source": [
        "### ESTIMATED GP EI GRADIENTS\n",
        "\n",
        "np.random.seed(run_num_4)\n",
        "surrogate_approx_4 = dGaussianProcess(cov_func, optimize=opt)\n",
        "\n",
        "approx_4= GPGO_multi(surrogate_approx_4, Acquisition_grad(util), objfunc, param)\n",
        "approx_4.run(init_evals=n_init, max_iter=iters)\n"
      ]
    },
    {
      "cell_type": "code",
      "execution_count": 17,
      "metadata": {
        "id": "JF_SxcEvGCOl",
        "colab": {
          "base_uri": "https://localhost:8080/"
        },
        "outputId": "04ba17c2-8da4-4ba8-f26f-21397a0271b8"
      },
      "outputs": [
        {
          "output_type": "stream",
          "name": "stdout",
          "text": [
            "Evaluation \t Proposed point \t  Current eval. \t  Best eval. \t        Exact EI: StdDev. x \t Approx EI: StdDev. x \n",
            "init\t [-1.67010243 13.06098459]\t 25.390690545664548\t 25.311309190989615\t    \t    \n",
            "init\t [-1.89921267 13.77916362]\t 25.311309190989615\t 25.311309190989615\t    \t    \n",
            "init\t [2.32616783 9.17615794]\t 41.60147975414021\t 25.311309190989615\t    \t    \n",
            "init\t [6.48861785 7.77626982]\t 63.81281921768236\t 25.311309190989615\t    \t    \n",
            "init\t [-0.54799248  2.81581843]\t 34.966203644931994\t 25.311309190989615\t    \t    \n",
            "\u001b[1m\u001b[92m1\u001b[0m\t \u001b[1m\u001b[92m[8.84124421 0.03321319]\u001b[0m\t \u001b[1m\u001b[92m5.96108856337545\u001b[0m\t \u001b[1m\u001b[92m5.96108856337545\u001b[0m\t \u001b[1m\u001b[92m6.242403489909564\u001b[0m\t \u001b[1m\u001b[92m6.208743753563759\u001b[0m\n",
            "2  \t [ 8.39476442 14.47736321]\t 167.21523769473345\t 5.96108856337545\t 5.6578963694911035\t 5.468399736609172\n",
            "3  \t [-4.14019794  7.24510313]\t 61.933263744898504\t 5.96108856337545\t 5.540662303799341\t 5.616861827024229\n",
            "4  \t [-5.  0.]\t 308.12909601160663\t 5.96108856337545\t 5.1344659435403495\t 5.473106387302181\n",
            "5  \t [3.90128236 0.        ]\t 6.125408773900473\t 5.96108856337545\t 4.898582536564953\t 5.292879230102094\n",
            "6  \t [ 3.02984949 15.        ]\t 160.13241058768565\t 5.96108856337545\t 5.37075051038183\t 5.617154240948571\n",
            "\u001b[1m\u001b[92m7\u001b[0m\t \u001b[1m\u001b[92m[10.          4.33672865]\u001b[0m\t \u001b[1m\u001b[92m3.7220885371828807\u001b[0m\t \u001b[1m\u001b[92m3.7220885371828807\u001b[0m\t \u001b[1m\u001b[92m4.188134098684389\u001b[0m\t \u001b[1m\u001b[92m4.0439607466608045\u001b[0m\n",
            "8  \t [3.79917121 4.09223078]\t 7.572107287039092\t 3.7220885371828807\t 4.659324652815352\t 4.649407262948227\n",
            "9  \t [10.         10.16742573]\t 53.27275847160229\t 3.7220885371828807\t 4.612462337823398\t 4.594672289487892\n",
            "10 \t [-5.         11.31014308]\t 47.26543362180786\t 3.7220885371828807\t 5.318206367747316\t 5.198359153804943\n",
            "11 \t [6.99659177 2.92337609]\t 20.270458112946322\t 3.7220885371828807\t 3.880644880934654\t 4.814079341448566\n",
            "12 \t [ 5.43139533 11.54550093]\t 124.04556194251663\t 3.7220885371828807\t 5.336017418000578\t 5.235150087171883\n",
            "13 \t [-0.26302254  6.51752827]\t 19.279977872824848\t 3.7220885371828807\t 4.691224538767813\t 4.974274994910168\n",
            "14 \t [-5. 15.]\t 17.508299515778166\t 3.7220885371828807\t 4.811783017563655\t 4.867150827428058\n",
            "15 \t [-4.11227307  3.81297367]\t 123.74782336126489\t 3.7220885371828807\t 4.801133616326128\t 4.98375520617214\n",
            "16 \t [-1.31533562  9.78775797]\t 14.589719571325805\t 3.7220885371828807\t 4.778730421610623\t 4.477474903702135\n",
            "17 \t [1.04547188 0.        ]\t 34.86143518308449\t 3.7220885371828807\t 4.354045874319994\t 4.364843875842005\n",
            "18 \t [10.          6.70039122]\t 15.61416337981994\t 3.7220885371828807\t 4.840492065693811\t 5.2174743407397335\n",
            "\u001b[1m\u001b[92m19\u001b[0m\t \u001b[1m\u001b[92m[10.          2.10858627]\u001b[0m\t \u001b[1m\u001b[92m2.7430389664218886\u001b[0m\t \u001b[1m\u001b[92m2.7430389664218886\u001b[0m\t \u001b[1m\u001b[92m4.627596071169158\u001b[0m\t \u001b[1m\u001b[92m4.574563344816408\u001b[0m\n",
            "20 \t [6.31604066 0.        ]\t 20.809539490269714\t 2.7430389664218886\t 4.6597756875414404\t 4.676046282967532\n"
          ]
        }
      ],
      "source": [
        "### ESTIMATED GP EI GRADIENTS\n",
        "\n",
        "np.random.seed(run_num_5)\n",
        "surrogate_approx_5 = dGaussianProcess(cov_func, optimize=opt)\n",
        "\n",
        "approx_5 = GPGO_multi(surrogate_approx_5, Acquisition_grad(util), objfunc, param)\n",
        "approx_5.run(init_evals=n_init, max_iter=iters)\n"
      ]
    },
    {
      "cell_type": "code",
      "execution_count": 18,
      "metadata": {
        "id": "-kDxZtJsGCR3",
        "colab": {
          "base_uri": "https://localhost:8080/"
        },
        "outputId": "32b2cb73-ba35-48a7-9608-4e7a3aa5eef7"
      },
      "outputs": [
        {
          "output_type": "stream",
          "name": "stdout",
          "text": [
            "Evaluation \t Proposed point \t  Current eval. \t  Best eval. \t        Exact EI: StdDev. x \t Approx EI: StdDev. x \n",
            "init\t [8.39290227 4.97969708]\t 15.553860636684597\t 15.31731051317483\t    \t    \n",
            "init\t [7.31843685 0.62544939]\t 15.31731051317483\t 15.31731051317483\t    \t    \n",
            "init\t [-3.3851498   8.92578096]\t 16.222288919361837\t 15.31731051317483\t    \t    \n",
            "init\t [2.94726043 6.28211143]\t 15.406373581304088\t 15.31731051317483\t    \t    \n",
            "init\t [0.03111774 9.33779148]\t 31.07053245856209\t 15.31731051317483\t    \t    \n",
            "1  \t [ 9.64829531 12.55362889]\t 98.32295673962142\t 15.31731051317483\t 5.416473913639316\t 5.6767114585495415\n",
            "2  \t [-1.22578785  0.62063252]\t 69.8637190838968\t 15.31731051317483\t 5.853857199783603\t 6.425457012794671\n",
            "3  \t [ 4.11366061 15.        ]\t 183.1048464690602\t 15.31731051317483\t 5.616784511769063\t 6.134241635249418\n",
            "\u001b[1m\u001b[92m4\u001b[0m\t \u001b[1m\u001b[92m[-2.66581011 14.57032849]\u001b[0m\t \u001b[1m\u001b[92m13.089071799586758\u001b[0m\t \u001b[1m\u001b[92m13.089071799586758\u001b[0m\t \u001b[1m\u001b[92m5.768444413372574\u001b[0m\t \u001b[1m\u001b[92m6.507035095610173\u001b[0m\n",
            "5  \t [-5.          4.21692696]\t 180.95588650406685\t 13.089071799586758\t 5.944343539787487\t 5.510548210022964\n",
            "6  \t [5.44159957 9.98675116]\t 94.22614246906714\t 13.089071799586758\t 5.3413171375522905\t 5.526429309373951\n",
            "\u001b[1m\u001b[92m7\u001b[0m\t \u001b[1m\u001b[92m[3.23829399 1.87842442]\u001b[0m\t \u001b[1m\u001b[92m0.5466703025685415\u001b[0m\t \u001b[1m\u001b[92m0.5466703025685415\u001b[0m\t \u001b[1m\u001b[92m5.760990327060282\u001b[0m\t \u001b[1m\u001b[92m6.125411342272014\u001b[0m\n",
            "8  \t [-0.62167161  5.0016137 ]\t 21.957975591821935\t 0.5466703025685415\t 5.352140977778026\t 5.174529224435634\n",
            "9  \t [ 0.18638758 12.6865283 ]\t 68.1378550124482\t 0.5466703025685415\t 4.715639832594013\t 4.695761325784818\n",
            "10 \t [-4.20711823  1.10293431]\t 197.9912263058933\t 0.5466703025685415\t 5.084647714009454\t 5.051260623573242\n",
            "11 \t [10.          8.32702489]\t 30.28884378410268\t 0.5466703025685415\t 5.5457087889729335\t 5.891329096556952\n",
            "12 \t [-5.         12.08042009]\t 38.80459032770182\t 0.5466703025685415\t 5.509807037141429\t 5.7323701846851005\n",
            "13 \t [6.26632983 6.91792673]\t 53.45483620188975\t 0.5466703025685415\t 5.239917734527967\t 5.198270382453629\n",
            "14 \t [3.02686544 0.        ]\t 6.05977850555649\t 0.5466703025685415\t 4.859455456333694\t 5.013569259727907\n",
            "15 \t [4.71317378 3.12038884]\t 13.076802425814115\t 0.5466703025685415\t 5.319396146860071\t 5.8471210284523405\n",
            "16 \t [1.87435137 2.59209771]\t 7.901778240510687\t 0.5466703025685415\t 4.722950592888064\t 4.7701866972840214\n",
            "17 \t [10.          2.12957984]\t 2.705927629354168\t 0.5466703025685415\t 5.280841755937312\t 5.897565056028219\n",
            "18 \t [10.  0.]\t 10.960889035651505\t 0.5466703025685415\t 5.246193474928287\t 5.478289176901383\n",
            "19 \t [-5. 15.]\t 17.508299515778166\t 0.5466703025685415\t 6.043182636376782\t 6.131314158723125\n",
            "20 \t [ 7.63500421 15.        ]\t 197.61470749707425\t 0.5466703025685415\t 5.461236045014293\t 5.517641723957221\n"
          ]
        }
      ],
      "source": [
        "### ESTIMATED GP EI GRADIENTS\n",
        "\n",
        "np.random.seed(run_num_6)\n",
        "surrogate_approx_6 = dGaussianProcess(cov_func, optimize=opt)\n",
        "\n",
        "approx_6 = GPGO_multi(surrogate_approx_6, Acquisition_grad(util), objfunc, param)\n",
        "approx_6.run(init_evals=n_init, max_iter=iters)\n"
      ]
    },
    {
      "cell_type": "code",
      "execution_count": 19,
      "metadata": {
        "id": "fKB8MCD_GCVI",
        "colab": {
          "base_uri": "https://localhost:8080/"
        },
        "outputId": "68d9dbe0-e24f-4232-bc24-e8bd25d6befd"
      },
      "outputs": [
        {
          "output_type": "stream",
          "name": "stdout",
          "text": [
            "Evaluation \t Proposed point \t  Current eval. \t  Best eval. \t        Exact EI: StdDev. x \t Approx EI: StdDev. x \n",
            "init\t [-3.85537566 11.69878188]\t 8.299317850233932\t 5.211335324193094\t    \t    \n",
            "init\t [ 1.57613847 10.85197767]\t 59.50408380701259\t 5.211335324193094\t    \t    \n",
            "init\t [9.66984268 8.07743806]\t 29.714921414987273\t 5.211335324193094\t    \t    \n",
            "init\t [2.51680695 1.080767  ]\t 5.211335324193094\t 5.211335324193094\t    \t    \n",
            "init\t [-0.9734153   7.49823751]\t 15.431057204948033\t 5.211335324193094\t    \t    \n",
            "1  \t [-4.97859679  1.38393519]\t 260.3293952774437\t 5.211335324193094\t 4.3220330688703905\t 4.42140261603025\n",
            "2  \t [ 7.42679792 14.12713902]\t 178.37635728719692\t 5.211335324193094\t 5.64814606800707\t 5.633834196146552\n",
            "3  \t [8.08940775 0.35854539]\t 9.249625108410735\t 5.211335324193094\t 5.410912291048362\t 5.669785104600199\n",
            "4  \t [-3.39684884  5.54228873]\t 54.79871094423047\t 5.211335324193094\t 4.513781467363462\t 4.684343925138193\n",
            "5  \t [4.5745799  5.89625789]\t 28.693235382945684\t 5.211335324193094\t 5.042700330589528\t 5.626974121225437\n",
            "6  \t [-0.88571854 15.        ]\t 72.16055111056878\t 5.211335324193094\t 5.948432005161233\t 6.626706332736611\n",
            "\u001b[1m\u001b[92m7\u001b[0m\t \u001b[1m\u001b[92m[10.          3.80987004]\u001b[0m\t \u001b[1m\u001b[92m2.594249946077147\u001b[0m\t \u001b[1m\u001b[92m2.594249946077147\u001b[0m\t \u001b[1m\u001b[92m4.696934900670462\u001b[0m\t \u001b[1m\u001b[92m5.28557934828918\u001b[0m\n",
            "8  \t [-0.72256918  0.        ]\t 69.29425491448787\t 2.594249946077147\t 5.50493370178224\t 5.838176713095299\n",
            "9  \t [5.83871203 9.85316455]\t 95.0880609033701\t 2.594249946077147\t 5.303824250187144\t 5.648771903780925\n",
            "10 \t [-5. 15.]\t 17.508299515778166\t 2.594249946077147\t 5.0223494442830505\t 5.649813501594869\n",
            "11 \t [0.81138092 4.14200353]\t 17.035732377364063\t 2.594249946077147\t 4.870186262944503\t 5.04277182057005\n",
            "12 \t [ 3.21226119 15.        ]\t 163.736614390789\t 2.594249946077147\t 4.7637734664189\t 4.780250038052414\n",
            "13 \t [5.48827914 2.34327893]\t 18.133713813283663\t 2.594249946077147\t 4.338970345337323\t 4.10661514040969\n",
            "14 \t [-5.         8.8512904]\t 82.21381064077347\t 2.594249946077147\t 4.390004950089825\t 4.708157882437797\n",
            "15 \t [10.         11.37764831]\t 72.07860184075574\t 2.594249946077147\t 5.460965201047896\t 5.269700261917983\n",
            "16 \t [1.96593654 7.35735385]\t 22.199579900250605\t 2.594249946077147\t 4.9362999568747705\t 4.791609770889128\n",
            "17 \t [7.85492265 5.00913583]\t 22.522379167749065\t 2.594249946077147\t 4.011899931645906\t 4.113112768456246\n",
            "18 \t [10.          1.89977628]\t 3.1601474939220466\t 2.594249946077147\t 4.899286759085188\t 5.003091105736599\n",
            "19 \t [-1.66597887 10.4953578 ]\t 11.293602466605181\t 2.594249946077147\t 5.0019121667812145\t 5.298561300241853\n",
            "20 \t [4.52422383 0.        ]\t 10.288130702615746\t 2.594249946077147\t 4.543896835509373\t 4.702602857865756\n"
          ]
        }
      ],
      "source": [
        "### ESTIMATED GP EI GRADIENTS\n",
        "\n",
        "np.random.seed(run_num_7)\n",
        "surrogate_approx_7 = dGaussianProcess(cov_func, optimize=opt)\n",
        "\n",
        "approx_7 = GPGO_multi(surrogate_approx_7, Acquisition_grad(util), objfunc, param)\n",
        "approx_7.run(init_evals=n_init, max_iter=iters)\n"
      ]
    },
    {
      "cell_type": "code",
      "execution_count": 20,
      "metadata": {
        "id": "4unvifF-GCXp",
        "colab": {
          "base_uri": "https://localhost:8080/"
        },
        "outputId": "c13583a6-c732-440d-fdbb-8ae8ac903a5e"
      },
      "outputs": [
        {
          "output_type": "stream",
          "name": "stdout",
          "text": [
            "Evaluation \t Proposed point \t  Current eval. \t  Best eval. \t        Exact EI: StdDev. x \t Approx EI: StdDev. x \n",
            "init\t [ 8.10144104 14.52810994]\t 175.17297136347514\t 15.416245468470875\t    \t    \n",
            "init\t [8.0379181  7.96283537]\t 49.32173799887473\t 15.416245468470875\t    \t    \n",
            "init\t [-1.50907508  0.17098206]\t 83.26753461673219\t 15.416245468470875\t    \t    \n",
            "init\t [1.45703227 6.0352704 ]\t 15.416245468470875\t 15.416245468470875\t    \t    \n",
            "init\t [2.84012007 7.17587694]\t 22.49093277852639\t 15.416245468470875\t    \t    \n",
            "\u001b[1m\u001b[92m1\u001b[0m\t \u001b[1m\u001b[92m[9.77124156 0.43098073]\u001b[0m\t \u001b[1m\u001b[92m6.499298445992174\u001b[0m\t \u001b[1m\u001b[92m6.499298445992174\u001b[0m\t \u001b[1m\u001b[92m5.244961970670866\u001b[0m\t \u001b[1m\u001b[92m5.668869685334021\u001b[0m\n",
            "2  \t [-4.87537438 11.82874897]\t 36.57081146531108\t 6.499298445992174\t 5.308224239671212\t 5.416866692563446\n",
            "3  \t [ 1.38233826 12.68601766]\t 86.43509303241686\t 6.499298445992174\t 4.939417304118056\t 5.731811372251875\n",
            "4  \t [-5.         4.9331771]\t 162.88875202992193\t 6.499298445992174\t 5.069760985945581\t 5.546223024164469\n",
            "5  \t [4.45960766 1.26264545]\t 7.642172669057232\t 6.499298445992174\t 5.440058349166342\t 4.845005241742198\n",
            "6  \t [-1.7162825   8.75518795]\t 8.735318519291516\t 6.499298445992174\t 4.793234685788882\t 4.736088913428071\n",
            "7  \t [7.61812158 3.65803369]\t 17.466536763458482\t 6.499298445992174\t 4.843300762094294\t 5.371301130520759\n",
            "8  \t [-2.31879924 15.        ]\t 24.76629631979477\t 6.499298445992174\t 5.114044309444057\t 5.284487586235117\n",
            "9  \t [ 5.24211373 10.95516628]\t 109.88107656321785\t 6.499298445992174\t 4.79369402429985\t 4.555586287718742\n",
            "10 \t [1.53174072 2.65341158]\t 11.843486644717224\t 6.499298445992174\t 6.022927481085472\t 5.576469450907471\n",
            "11 \t [10.         11.01206578]\t 66.08897041223153\t 6.499298445992174\t 4.994431575763704\t 5.230253681804916\n",
            "12 \t [-5.          0.69081935]\t 284.85960587236076\t 6.499298445992174\t 4.895442341268745\t 5.054568575613853\n",
            "13 \t [ 4.1972078 15.       ]\t 184.94377684569102\t 6.499298445992174\t 4.632873708951577\t 4.521706191420711\n",
            "14 \t [-1.22742986  4.23775042]\t 28.523804262600034\t 6.499298445992174\t 5.318184586659246\t 5.44718142601255\n",
            "15 \t [6.98858216 0.        ]\t 18.7189468117559\t 6.499298445992174\t 4.401859917366189\t 4.556319388958363\n",
            "16 \t [4.52196126 4.35809774]\t 16.670658240879774\t 6.499298445992174\t 4.053681094185175\t 4.602378215626081\n",
            "17 \t [-5.          8.61747514]\t 86.16668077656767\t 6.499298445992174\t 5.4611968945073555\t 5.807379770946106\n",
            "18 \t [2.15639181 0.        ]\t 14.733658044801466\t 6.499298445992174\t 5.260921011215877\t 5.459633507116228\n",
            "19 \t [10.          5.22808371]\t 6.894331315669073\t 6.499298445992174\t 4.499372046066167\t 4.404720321768769\n",
            "20 \t [-1.77398217 11.4766044 ]\t 13.109948888059233\t 6.499298445992174\t 4.40974648589647\t 4.536458666435788\n"
          ]
        }
      ],
      "source": [
        "### ESTIMATED GP EI GRADIENTS\n",
        "\n",
        "np.random.seed(run_num_8)\n",
        "surrogate_approx_8 = dGaussianProcess(cov_func, optimize=opt)\n",
        "\n",
        "approx_8 = GPGO_multi(surrogate_approx_8, Acquisition_grad(util), objfunc, param)\n",
        "approx_8.run(init_evals=n_init, max_iter=iters)\n"
      ]
    },
    {
      "cell_type": "code",
      "execution_count": 21,
      "metadata": {
        "id": "85OIXcg7GCaJ",
        "colab": {
          "base_uri": "https://localhost:8080/"
        },
        "outputId": "160a3516-e771-4702-e172-dde9c662481f"
      },
      "outputs": [
        {
          "output_type": "stream",
          "name": "stdout",
          "text": [
            "Evaluation \t Proposed point \t  Current eval. \t  Best eval. \t        Exact EI: StdDev. x \t Approx EI: StdDev. x \n",
            "init\t [-4.84438769  7.52811888]\t 96.15564306553264\t 3.4640248583909496\t    \t    \n",
            "init\t [2.4365994  2.00744293]\t 3.4640248583909496\t 3.4640248583909496\t    \t    \n",
            "init\t [-2.86833372  3.27838013]\t 70.46930174488207\t 3.4640248583909496\t    \t    \n",
            "init\t [1.27762271 3.72151753]\t 12.982825924833865\t 3.4640248583909496\t    \t    \n",
            "init\t [-3.73910523  5.1824796 ]\t 75.58547400560856\t 3.4640248583909496\t    \t    \n",
            "1  \t [ 7.05609655 14.75038872]\t 200.4388688685465\t 3.4640248583909496\t 5.562487311500015\t 5.668175250305087\n",
            "2  \t [-0.46054038 14.56197292]\t 79.4666617606301\t 3.4640248583909496\t 5.3059226593904505\t 5.02483024244295\n",
            "3  \t [8.28747407 1.2035024 ]\t 6.196385269800155\t 3.4640248583909496\t 4.840465996483128\t 4.4653438182993055\n",
            "4  \t [7.59811302 8.71517261]\t 66.45196249675806\t 3.4640248583909496\t 4.820500509685291\t 4.791794691107002\n",
            "5  \t [1.75712256 9.14412423]\t 38.93294557365744\t 3.4640248583909496\t 5.309975010458082\t 4.693461812216634\n",
            "6  \t [-5.        12.6760437]\t 33.07572996559651\t 3.4640248583909496\t 5.373370384629087\t 5.295517342743716\n",
            "7  \t [5.6715996  4.46953721]\t 29.021795006367803\t 3.4640248583909496\t 5.139744241790064\t 5.410504103326556\n",
            "8  \t [10.         4.8390562]\t 5.314402373557158\t 3.4640248583909496\t 4.898370085307595\t 4.841804237331489\n",
            "9  \t [-0.2984386  0.       ]\t 61.252164519803785\t 3.4640248583909496\t 5.569286102072174\t 5.324157517562417\n",
            "10 \t [4.94290864 0.        ]\t 13.85646903193776\t 3.4640248583909496\t 3.952814864246948\t 4.598546830856099\n",
            "11 \t [-5.  0.]\t 308.12909601160663\t 3.4640248583909496\t 5.775458019004374\t 5.834500699052426\n",
            "12 \t [ 3.28034386 12.74090202]\t 112.24934727921114\t 3.4640248583909496\t 5.027957802213393\t 5.122763308776175\n",
            "13 \t [-1.8329408  10.47587725]\t 8.776413601988395\t 3.4640248583909496\t 4.596470902130142\t 4.529882149238795\n",
            "14 \t [10.         11.79694951]\t 79.27745190832408\t 3.4640248583909496\t 4.181353139421753\t 4.2325470357074355\n",
            "15 \t [-0.38236838  6.54108932]\t 18.91613957234983\t 3.4640248583909496\t 4.899763250497963\t 4.956444466811326\n",
            "16 \t [3.1399701  6.24875882]\t 16.178601506392653\t 3.4640248583909496\t 5.2891777695210545\t 5.292413153337028\n",
            "17 \t [-3.69765809 15.        ]\t 3.6635380206809156\t 3.4640248583909496\t 5.390552038725155\t 5.454451896711448\n",
            "18 \t [4.66780147 9.53643999]\t 76.0068441271057\t 3.4640248583909496\t 5.511660703877441\t 5.750095191440081\n",
            "\u001b[1m\u001b[92m19\u001b[0m\t \u001b[1m\u001b[92m[10.          2.49589868]\u001b[0m\t \u001b[1m\u001b[92m2.200248399256905\u001b[0m\t \u001b[1m\u001b[92m2.200248399256905\u001b[0m\t \u001b[1m\u001b[92m4.189264555815507\u001b[0m\t \u001b[1m\u001b[92m4.261071190064856\u001b[0m\n",
            "20 \t [10.  0.]\t 10.960889035651505\t 2.200248399256905\t 4.931421085615709\t 5.050414949140996\n"
          ]
        }
      ],
      "source": [
        "### ESTIMATED GP EI GRADIENTS\n",
        "\n",
        "np.random.seed(run_num_9)\n",
        "surrogate_approx_9 = dGaussianProcess(cov_func, optimize=opt)\n",
        "\n",
        "approx_9 = GPGO_multi(surrogate_approx_9, Acquisition_grad(util), objfunc, param)\n",
        "approx_9.run(init_evals=n_init, max_iter=iters)\n"
      ]
    },
    {
      "cell_type": "code",
      "execution_count": 22,
      "metadata": {
        "id": "QQBR-qJPGCcp",
        "colab": {
          "base_uri": "https://localhost:8080/"
        },
        "outputId": "cbd6936a-d1c2-4e3d-be5f-58f491f29121"
      },
      "outputs": [
        {
          "output_type": "stream",
          "name": "stdout",
          "text": [
            "Evaluation \t Proposed point \t  Current eval. \t  Best eval. \t        Exact EI: StdDev. x \t Approx EI: StdDev. x \n",
            "init\t [6.56980965 0.31127924]\t 19.863985024602144\t 2.710610964564512\t    \t    \n",
            "init\t [ 4.50472352 11.23205824]\t 103.66999147252169\t 2.710610964564512\t    \t    \n",
            "init\t [2.47760518 3.37194968]\t 2.710610964564512\t 2.710610964564512\t    \t    \n",
            "init\t [-2.02905703 11.40796068]\t 8.463930835255017\t 2.710610964564512\t    \t    \n",
            "init\t [-2.46333745  1.32509721]\t 90.49481266026973\t 2.710610964564512\t    \t    \n",
            "1  \t [ 9.16391068 14.81438212]\t 158.2412724465548\t 2.710610964564512\t 4.633475185943144\t 4.856549088456732\n",
            "2  \t [9.65621089 6.61160737]\t 16.1339423373336\t 2.710610964564512\t 4.531868088882084\t 4.758158781666425\n",
            "3  \t [-3.43070383  6.59407857]\t 41.58407101130534\t 2.710610964564512\t 4.536756511980913\t 4.592997361837028\n",
            "4  \t [ 1.02022796 14.99263201]\t 124.89402405246402\t 2.710610964564512\t 5.470472997031114\t 5.650929279068344\n",
            "5  \t [-5. 15.]\t 17.508299515778166\t 2.710610964564512\t 5.64279516597159\t 5.5622959675624335\n",
            "6  \t [1.3076529  7.43245455]\t 23.339868796515702\t 2.710610964564512\t 5.3103494152709985\t 4.977893876826265\n",
            "7  \t [5.49081833 5.84072721]\t 38.68997466437173\t 2.710610964564512\t 4.789218930088894\t 5.008391046711433\n",
            "\u001b[1m\u001b[92m8\u001b[0m\t \u001b[1m\u001b[92m[10.          2.46597296]\u001b[0m\t \u001b[1m\u001b[92m2.2314920976094097\u001b[0m\t \u001b[1m\u001b[92m2.2314920976094097\u001b[0m\t \u001b[1m\u001b[92m5.586878591083019\u001b[0m\t \u001b[1m\u001b[92m5.621784917440736\u001b[0m\n",
            "9  \t [2.04111685 0.        ]\t 16.470485089652325\t 2.2314920976094097\t 5.170209599491266\t 5.619261075865824\n",
            "10 \t [10.         10.45459975]\t 57.47012616611987\t 2.2314920976094097\t 5.392883645494127\t 5.462080680005809\n",
            "11 \t [-5.          9.90819334]\t 65.71002179800195\t 2.2314920976094097\t 4.274299560441888\t 4.548307577847563\n",
            "12 \t [ 5.10253073 15.        ]\t 202.92082220426636\t 2.2314920976094097\t 5.1148179956562885\t 5.1456957757736275\n",
            "13 \t [10.  0.]\t 10.960889035651505\t 2.2314920976094097\t 4.828188186360983\t 4.858737624660083\n",
            "14 \t [7.92999479 3.437291  ]\t 13.013204461725984\t 2.2314920976094097\t 4.795292755297099\t 4.990122488229443\n",
            "15 \t [ 0.78077826 10.84387046]\t 52.91425311718574\t 2.2314920976094097\t 5.697613327077708\t 5.86147604282515\n",
            "16 \t [-0.21624803  4.37650575]\t 23.273983891067402\t 2.2314920976094097\t 5.459609339980472\t 5.713195445692716\n",
            "17 \t [-5.          3.69163795]\t 194.85826674480165\t 2.2314920976094097\t 5.326537176709928\t 5.714011446323615\n",
            "18 \t [7.08425579 8.68914256]\t 72.64401259813195\t 2.2314920976094097\t 3.911792661151592\t 3.871765884941423\n",
            "19 \t [4.46442397 2.50742994]\t 8.720769355123474\t 2.2314920976094097\t 4.13356610057232\t 3.9622766789537573\n",
            "20 \t [-2.37411464 14.07664203]\t 15.834483857656402\t 2.2314920976094097\t 5.217455792031331\t 5.250768013056848\n"
          ]
        }
      ],
      "source": [
        "### ESTIMATED GP EI GRADIENTS\n",
        "\n",
        "np.random.seed(run_num_10)\n",
        "surrogate_approx_10 = dGaussianProcess(cov_func, optimize=opt)\n",
        "\n",
        "approx_10 = GPGO_multi(surrogate_approx_10, Acquisition_grad(util), objfunc, param)\n",
        "approx_10.run(init_evals=n_init, max_iter=iters)\n"
      ]
    },
    {
      "cell_type": "code",
      "execution_count": 23,
      "metadata": {
        "id": "JS8ejeQ2GCfi",
        "colab": {
          "base_uri": "https://localhost:8080/"
        },
        "outputId": "0dca94a1-1aee-432e-f310-28a9196e8521"
      },
      "outputs": [
        {
          "output_type": "stream",
          "name": "stdout",
          "text": [
            "Evaluation \t Proposed point \t  Current eval. \t  Best eval. \t        Exact EI: StdDev. x \t Approx EI: StdDev. x \n",
            "init\t [-2.29595467  0.29212862]\t 104.49282729548965\t 22.37435843952312\t    \t    \n",
            "init\t [ 1.9482779  10.87400894]\t 62.47758067812407\t 22.37435843952312\t    \t    \n",
            "init\t [1.30305407 7.28140647]\t 22.37435843952312\t 22.37435843952312\t    \t    \n",
            "init\t [-4.80828778  7.31057411]\t 97.94503054415523\t 22.37435843952312\t    \t    \n",
            "init\t [ 9.12709979 12.76192634]\t 111.62900800771942\t 22.37435843952312\t    \t    \n",
            "\u001b[1m\u001b[92m1\u001b[0m\t \u001b[1m\u001b[92m[6.94653631 0.95529646]\u001b[0m\t \u001b[1m\u001b[92m17.615403152614682\u001b[0m\t \u001b[1m\u001b[92m17.615403152614682\u001b[0m\t \u001b[1m\u001b[92m4.874316276916642\u001b[0m\t \u001b[1m\u001b[92m5.137820935750954\u001b[0m\n",
            "\u001b[1m\u001b[92m2\u001b[0m\t \u001b[1m\u001b[92m[9.97230855 6.82110601]\u001b[0m\t \u001b[1m\u001b[92m16.589650805576685\u001b[0m\t \u001b[1m\u001b[92m16.589650805576685\u001b[0m\t \u001b[1m\u001b[92m5.506028169438782\u001b[0m\t \u001b[1m\u001b[92m5.661407685502983\u001b[0m\n",
            "3  \t [-5. 15.]\t 17.508299515778166\t 16.589650805576685\t 5.458445151161511\t 5.946398990067429\n",
            "\u001b[1m\u001b[92m4\u001b[0m\t \u001b[1m\u001b[92m[2.40781929 2.48994243]\u001b[0m\t \u001b[1m\u001b[92m3.051168412611748\u001b[0m\t \u001b[1m\u001b[92m3.051168412611748\u001b[0m\t \u001b[1m\u001b[92m4.346081138103589\u001b[0m\t \u001b[1m\u001b[92m4.324322869828351\u001b[0m\n",
            "5  \t [ 4.54061416 15.        ]\t 192.31887539788474\t 3.051168412611748\t 4.988091648844349\t 4.923100543508178\n",
            "6  \t [5.60602918 5.53130859]\t 36.78743781050825\t 3.051168412611748\t 5.135790765011534\t 4.890244858116967\n",
            "7  \t [-0.5430178 15.       ]\t 83.79310514369296\t 3.051168412611748\t 5.090394311027398\t 5.62040437465533\n",
            "\u001b[1m\u001b[92m8\u001b[0m\t \u001b[1m\u001b[92m[-2.80957415 11.22736831]\u001b[0m\t \u001b[1m\u001b[92m0.9919648372639394\u001b[0m\t \u001b[1m\u001b[92m0.9919648372639394\u001b[0m\t \u001b[1m\u001b[92m4.94003237605147\u001b[0m\t \u001b[1m\u001b[92m4.876805952425079\u001b[0m\n",
            "9  \t [6.09912776 9.61696382]\t 92.00384987099892\t 0.9919648372639394\t 5.069585093242737\t 5.105691298395674\n",
            "10 \t [-1.43283497  4.48388364]\t 27.81843201032059\t 0.9919648372639394\t 5.179361772306081\t 5.18428896994176\n",
            "11 \t [10.         2.9956318]\t 1.9431943157150968\t 0.9919648372639394\t 5.274631682054302\t 5.281972836564336\n",
            "12 \t [-5.          3.20440785]\t 208.24670386859515\t 0.9919648372639394\t 5.31067285507915\t 5.891245188336749\n",
            "13 \t [-5.         11.41906718]\t 45.99695698277882\t 0.9919648372639394\t 5.494017498824929\t 5.465423076285428\n",
            "14 \t [-1.76668893 10.91123411]\t 11.008294996171248\t 0.9919648372639394\t 5.308672421052763\t 5.269587761907093\n",
            "15 \t [1.90784392 0.        ]\t 18.61545088366099\t 0.9919648372639394\t 5.451765668008042\t 5.364348413087154\n",
            "16 \t [8.39467016 3.93888709]\t 9.87874418788536\t 0.9919648372639394\t 5.6964376154119\t 5.513701242665677\n",
            "17 \t [2.31869615 4.45326456]\t 5.5693224403023125\t 0.9919648372639394\t 4.239381746036222\t 4.215212184905534\n",
            "18 \t [10.  0.]\t 10.960889035651505\t 0.9919648372639394\t 4.784657966943118\t 4.752319677253203\n",
            "19 \t [4.43215765 2.32293093]\t 8.048566939040743\t 0.9919648372639394\t 4.9880854222704185\t 4.589618225752154\n",
            "20 \t [-1.46950258  8.12552262]\t 11.213261217008448\t 0.9919648372639394\t 5.382899088179165\t 5.230006455981195\n"
          ]
        }
      ],
      "source": [
        "### ESTIMATED GP EI GRADIENTS\n",
        "\n",
        "np.random.seed(run_num_11)\n",
        "surrogate_approx_11 = dGaussianProcess(cov_func, optimize=opt)\n",
        "\n",
        "approx_11 = GPGO_multi(surrogate_approx_11, Acquisition_grad(util), objfunc, param)\n",
        "approx_11.run(init_evals=n_init, max_iter=iters)\n"
      ]
    },
    {
      "cell_type": "code",
      "execution_count": 24,
      "metadata": {
        "id": "DXwjUVZ4GCii",
        "colab": {
          "base_uri": "https://localhost:8080/"
        },
        "outputId": "5bb90309-1f1c-46e4-a8fd-148cf992b071"
      },
      "outputs": [
        {
          "output_type": "stream",
          "name": "stdout",
          "text": [
            "Evaluation \t Proposed point \t  Current eval. \t  Best eval. \t        Exact EI: StdDev. x \t Approx EI: StdDev. x \n",
            "init\t [-2.68755736 11.10074545]\t 1.3827702760021356\t 0.5499315281120278\t    \t    \n",
            "init\t [-1.05027477  8.0060909 ]\t 14.81231853080056\t 0.5499315281120278\t    \t    \n",
            "init\t [-4.78137556 13.78120512]\t 18.401131000214548\t 0.5499315281120278\t    \t    \n",
            "init\t [8.51072281 0.50132141]\t 5.855172364344769\t 0.5499315281120278\t    \t    \n",
            "init\t [9.35424004 2.05813982]\t 0.5499315281120278\t 0.5499315281120278\t    \t    \n",
            "1  \t [10.          4.42353593]\t 3.9611862792252275\t 0.5499315281120278\t 4.797036635424069\t 4.21916598043625\n",
            "2  \t [ 8.50155249 13.79797306]\t 148.00655208378976\t 0.5499315281120278\t 5.177761073186147\t 4.456723966554833\n",
            "3  \t [-4.8799499   0.15657603]\t 290.0404981832191\t 0.5499315281120278\t 5.388646277300139\t 5.130489664140422\n",
            "4  \t [5.82026378 8.50131991]\t 73.17953807026612\t 0.5499315281120278\t 4.56543051881962\t 4.222820392409268\n",
            "5  \t [3.15979756 0.59150564]\t 3.186174209194043\t 0.5499315281120278\t 4.919135170940093\t 4.848880610264461\n",
            "6  \t [ 2.51924598 13.29510997]\t 112.12776714896611\t 0.5499315281120278\t 5.613131567362977\t 5.83188877799077\n",
            "7  \t [-0.40193493  3.26237141]\t 30.384628521175927\t 0.5499315281120278\t 5.211523937728163\t 5.099795262249969\n",
            "8  \t [-5.         5.5768929]\t 147.5266998279592\t 0.5499315281120278\t 5.341708103885429\t 5.642021052755841\n",
            "9  \t [5.64082048 3.75710959]\t 24.5749246858461\t 0.5499315281120278\t 4.375692790747369\t 4.219105711438547\n",
            "10 \t [10.          9.24120289]\t 40.858857349524385\t 0.5499315281120278\t 5.337617817778419\t 5.809971467552812\n",
            "11 \t [2.33681391 6.17964244]\t 13.540681699410555\t 0.5499315281120278\t 5.219381499528782\t 5.245485679772971\n",
            "12 \t [-5.         9.8166692]\t 67.05083734031369\t 0.5499315281120278\t 4.4629410173587525\t 4.606758953375389\n",
            "13 \t [0.06672916 0.        ]\t 54.32436931407636\t 0.5499315281120278\t 4.278758799957233\t 4.413470667519387\n",
            "14 \t [-1.29338903 15.        ]\t 57.86067464261707\t 0.5499315281120278\t 5.010031715261596\t 5.6486792645421735\n",
            "15 \t [5.68010219 0.        ]\t 19.180119695149266\t 0.5499315281120278\t 4.991986895730703\t 5.072040076879865\n",
            "16 \t [1.95735967 9.50128027]\t 43.853622219615005\t 0.5499315281120278\t 5.127044612636295\t 4.640590927128298\n",
            "17 \t [-1.12546221 11.38242781]\t 25.884406217980487\t 0.5499315281120278\t 5.332423269466114\t 5.236199792798696\n",
            "18 \t [2.7140677  2.90254687]\t 1.3353120858914398\t 0.5499315281120278\t 6.162467605092983\t 6.133988745205203\n",
            "19 \t [ 5.61349693 11.79012255]\t 131.02531515903587\t 0.5499315281120278\t 4.9863773178331146\t 4.960688070965276\n",
            "20 \t [8.28722761 6.00751101]\t 24.673535582348364\t 0.5499315281120278\t 4.153581435189175\t 4.553909097861151\n"
          ]
        }
      ],
      "source": [
        "### ESTIMATED GP EI GRADIENTS\n",
        "\n",
        "np.random.seed(run_num_12)\n",
        "surrogate_approx_12 = dGaussianProcess(cov_func, optimize=opt)\n",
        "\n",
        "approx_12 = GPGO_multi(surrogate_approx_12, Acquisition_grad(util), objfunc, param)\n",
        "approx_12.run(init_evals=n_init, max_iter=iters)\n"
      ]
    },
    {
      "cell_type": "code",
      "execution_count": 25,
      "metadata": {
        "id": "CphOPndPGClX",
        "colab": {
          "base_uri": "https://localhost:8080/"
        },
        "outputId": "438dac32-28a0-4eaa-901d-483a3a5cd2a7"
      },
      "outputs": [
        {
          "output_type": "stream",
          "name": "stdout",
          "text": [
            "Evaluation \t Proposed point \t  Current eval. \t  Best eval. \t        Exact EI: StdDev. x \t Approx EI: StdDev. x \n",
            "init\t [6.66553616 3.5631183 ]\t 24.823670200298267\t 18.038943061558626\t    \t    \n",
            "init\t [ 7.36417799 14.48623797]\t 188.7803334745195\t 18.038943061558626\t    \t    \n",
            "init\t [9.58901671 6.80173871]\t 18.038943061558626\t 18.038943061558626\t    \t    \n",
            "init\t [ 4.13563694 11.63289772]\t 104.87319703906111\t 18.038943061558626\t    \t    \n",
            "init\t [ 4.62420017 10.83027344]\t 98.03271225790056\t 18.038943061558626\t    \t    \n",
            "1  \t [-5.         10.55852145]\t 56.665255254022\t 18.038943061558626\t 5.591453158814838\t 5.529010593146355\n",
            "2  \t [-3.36042638  1.3238031 ]\t 132.49290788011677\t 18.038943061558626\t 4.7171855448386\t 4.860759405588425\n",
            "3  \t [-0.52477309  6.71287575]\t 18.334962929598774\t 18.038943061558626\t 5.4906460544298845\t 5.36648798949276\n",
            "4  \t [-0.84251917 15.        ]\t 73.65639591438165\t 18.038943061558626\t 5.595021837566451\t 6.276820794622045\n",
            "\u001b[1m\u001b[92m5\u001b[0m\t \u001b[1m\u001b[92m[2.39368641 0.        ]\u001b[0m\t \u001b[1m\u001b[92m11.548515885786035\u001b[0m\t \u001b[1m\u001b[92m11.548515885786035\u001b[0m\t \u001b[1m\u001b[92m5.238082328711445\u001b[0m\t \u001b[1m\u001b[92m5.419836822537\u001b[0m\n",
            "\u001b[1m\u001b[92m6\u001b[0m\t \u001b[1m\u001b[92m[10.  0.]\u001b[0m\t \u001b[1m\u001b[92m10.960889035651505\u001b[0m\t \u001b[1m\u001b[92m10.960889035651505\u001b[0m\t \u001b[1m\u001b[92m4.8355819426128255\u001b[0m\t \u001b[1m\u001b[92m5.315559783266609\u001b[0m\n",
            "7  \t [-5.         5.8734449]\t 140.7284284564394\t 10.960889035651505\t 5.685726833764815\t 5.288247987971684\n",
            "8  \t [3.59484374 6.3929121 ]\t 21.12407605353507\t 10.960889035651505\t 5.071337911816522\t 4.563698297514765\n",
            "9  \t [10.         10.78931528]\t 62.57052211578388\t 10.960889035651505\t 5.0428618543065475\t 5.077438561783683\n",
            "10 \t [-5. 15.]\t 17.508299515778166\t 10.960889035651505\t 4.889855005251194\t 5.157480079248858\n",
            "11 \t [-0.38542701 10.68226823]\t 35.29735727725985\t 10.960889035651505\t 5.688426964526556\t 5.372512268337761\n",
            "12 \t [0.81212181 3.2168552 ]\t 19.089064304551307\t 10.960889035651505\t 5.479180967023941\t 4.544556444375934\n",
            "\u001b[1m\u001b[92m13\u001b[0m\t \u001b[1m\u001b[92m[10.          3.30729161]\u001b[0m\t \u001b[1m\u001b[92m2.0357604600653403\u001b[0m\t \u001b[1m\u001b[92m2.0357604600653403\u001b[0m\t \u001b[1m\u001b[92m6.335590797784935\u001b[0m\t \u001b[1m\u001b[92m5.621670436604302\u001b[0m\n",
            "14 \t [6.11094395 0.        ]\t 20.66640362121629\t 2.0357604600653403\t 4.621641352349248\t 4.6263105174446\n",
            "15 \t [ 2.94665505 15.        ]\t 158.53606224221758\t 2.0357604600653403\t 5.509977354427284\t 5.440533410133785\n",
            "16 \t [6.62440968 7.74152714]\t 62.81499202061386\t 2.0357604600653403\t 4.888738109158173\t 4.798869413437606\n",
            "17 \t [3.75855669 2.70015545]\t 2.9028122510554955\t 2.0357604600653403\t 5.663313218270248\t 5.728738662721015\n",
            "18 \t [1.85140491 8.61857398]\t 33.57946738767484\t 2.0357604600653403\t 4.461368231098804\t 4.584681759910008\n",
            "19 \t [-2.59824116  8.50552582]\t 8.039827654651454\t 2.0357604600653403\t 5.503354478603124\t 5.421788134033538\n",
            "20 \t [-0.18544674  0.        ]\t 59.12231345832846\t 2.0357604600653403\t 6.118865965960215\t 5.812058779664997\n"
          ]
        }
      ],
      "source": [
        "### ESTIMATED GP EI GRADIENTS\n",
        "\n",
        "np.random.seed(run_num_13)\n",
        "surrogate_approx_13 = dGaussianProcess(cov_func, optimize=opt)\n",
        "\n",
        "approx_13 = GPGO_multi(surrogate_approx_13, Acquisition_grad(util), objfunc, param)\n",
        "approx_13.run(init_evals=n_init, max_iter=iters)\n"
      ]
    },
    {
      "cell_type": "code",
      "execution_count": 26,
      "metadata": {
        "id": "ojHTeARNGCoi",
        "colab": {
          "base_uri": "https://localhost:8080/"
        },
        "outputId": "08027e3a-9a01-4ac1-b63f-276cc025cac5"
      },
      "outputs": [
        {
          "output_type": "stream",
          "name": "stdout",
          "text": [
            "Evaluation \t Proposed point \t  Current eval. \t  Best eval. \t        Exact EI: StdDev. x \t Approx EI: StdDev. x \n",
            "init\t [ 2.70915016 11.59747578]\t 81.58264375064097\t 1.4149920024014744\t    \t    \n",
            "init\t [8.05641529 0.12070423]\t 10.148649076616518\t 1.4149920024014744\t    \t    \n",
            "init\t [-0.35396112 14.36405609]\t 79.6056658956529\t 1.4149920024014744\t    \t    \n",
            "init\t [2.69675068 4.77426637]\t 5.855607664288365\t 1.4149920024014744\t    \t    \n",
            "init\t [3.08799906 3.31882414]\t 1.4149920024014744\t 1.4149920024014744\t    \t    \n",
            "1  \t [-5.          5.52357421]\t 148.76765257173\t 1.4149920024014744\t 5.334127401745119\t 5.650793503051254\n",
            "2  \t [ 9.02510452 14.92575454]\t 164.15736583327134\t 1.4149920024014744\t 5.617482618667355\t 5.570838011954912\n",
            "3  \t [8.4415984  6.61360555]\t 28.132050221972662\t 1.4149920024014744\t 4.858129430599947\t 5.346387153120818\n",
            "4  \t [-1.09394501  0.        ]\t 76.74873707612674\t 1.4149920024014744\t 4.288946927094775\t 4.147214836509531\n",
            "5  \t [-2.07607151  9.6649294 ]\t 5.390544119887941\t 1.4149920024014744\t 4.507015068156269\t 4.689551887791907\n",
            "6  \t [-5.        13.0224447]\t 30.07027471602619\t 1.4149920024014744\t 4.803119087942879\t 4.886785768285983\n",
            "7  \t [3.75008755 0.        ]\t 5.537561492056323\t 1.4149920024014744\t 3.923827984655561\t 4.18717122197636\n",
            "8  \t [ 7.18054398 10.64001427]\t 104.48824693100309\t 1.4149920024014744\t 5.283661920163826\t 5.143582128667189\n",
            "9  \t [-0.76955152  4.4562825 ]\t 24.990487391341638\t 1.4149920024014744\t 5.423432488364456\t 5.5174985669239485\n",
            "10 \t [6.11916108 3.31141579]\t 24.37131742334873\t 1.4149920024014744\t 4.83298112872385\t 5.154004457848943\n",
            "11 \t [-5.          0.98378105]\t 275.27972334203093\t 1.4149920024014744\t 4.9822347418604975\t 5.117644939397523\n",
            "12 \t [10.          3.06951894]\t 1.9475712070317055\t 1.4149920024014744\t 4.83770885747775\t 4.792169744356029\n",
            "13 \t [ 4.71960617 15.        ]\t 195.9536904520231\t 1.4149920024014744\t 4.809582098694255\t 4.9978913399290965\n",
            "14 \t [1.03799508 7.86805911]\t 26.3078063201501\t 1.4149920024014744\t 5.337801665010825\t 5.406640086703143\n",
            "15 \t [4.74052359 7.34522746]\t 46.113062990130864\t 1.4149920024014744\t 5.284795514022099\t 5.327405573679588\n",
            "16 \t [-5.          9.49421404]\t 71.90824929382477\t 1.4149920024014744\t 5.243016924889959\t 5.3716944282929715\n",
            "17 \t [1.89404472 2.03098908]\t 8.960578319442963\t 1.4149920024014744\t 5.457280831144585\t 5.616848436577334\n",
            "18 \t [-1.93656843  7.34101714]\t 11.51893725442255\t 1.4149920024014744\t 4.494631873532872\t 4.3785273785615235\n",
            "19 \t [10.          9.10713643]\t 39.20415201059338\t 1.4149920024014744\t 4.929271320699278\t 4.872936294802667\n",
            "20 \t [10.          1.40708862]\t 4.489935284111423\t 1.4149920024014744\t 4.809941891334077\t 5.235757015809767\n"
          ]
        }
      ],
      "source": [
        "### ESTIMATED GP EI GRADIENTS\n",
        "\n",
        "np.random.seed(run_num_14)\n",
        "surrogate_approx_14 = dGaussianProcess(cov_func, optimize=opt)\n",
        "\n",
        "approx_14 = GPGO_multi(surrogate_approx_14, Acquisition_grad(util), objfunc, param)\n",
        "approx_14.run(init_evals=n_init, max_iter=iters)\n"
      ]
    },
    {
      "cell_type": "code",
      "execution_count": 27,
      "metadata": {
        "id": "vCJzn4vWGCs3",
        "colab": {
          "base_uri": "https://localhost:8080/"
        },
        "outputId": "c09c5745-2d8f-4d86-eacd-f55242ca2e6d"
      },
      "outputs": [
        {
          "output_type": "stream",
          "name": "stdout",
          "text": [
            "Evaluation \t Proposed point \t  Current eval. \t  Best eval. \t        Exact EI: StdDev. x \t Approx EI: StdDev. x \n",
            "init\t [7.73226546 2.68343887]\t 12.768724532005583\t 12.768724532005583\t    \t    \n",
            "init\t [-4.18455179  5.42307669]\t 95.39334176626551\t 12.768724532005583\t    \t    \n",
            "init\t [-0.86898607  7.95000337]\t 16.419487782111716\t 12.768724532005583\t    \t    \n",
            "init\t [-0.41121626  4.56711539]\t 23.250362743740954\t 12.768724532005583\t    \t    \n",
            "init\t [-3.32388086  3.74848521]\t 80.99796277938532\t 12.768724532005583\t    \t    \n",
            "1  \t [ 6.5655417  11.87699252]\t 134.95011349993544\t 12.768724532005583\t 5.513008539743212\t 4.929197982544672\n",
            "2  \t [-4.77493765 13.49591113]\t 19.896906503438096\t 12.768724532005583\t 5.81850582513302\t 5.863655276085032\n",
            "3  \t [ 0.6952482 15.       ]\t 118.25691358098898\t 12.768724532005583\t 5.867910448181237\t 5.814044503647423\n",
            "\u001b[1m\u001b[92m4\u001b[0m\t \u001b[1m\u001b[92m[2.88465109 0.        ]\u001b[0m\t \u001b[1m\u001b[92m6.882901559170483\u001b[0m\t \u001b[1m\u001b[92m6.882901559170483\u001b[0m\t \u001b[1m\u001b[92m5.1634399952089955\u001b[0m\t \u001b[1m\u001b[92m5.3120804702503355\u001b[0m\n",
            "5  \t [10.         7.3920374]\t 21.207170929206335\t 6.882901559170483\t 6.082256386919374\t 5.590745683435363\n",
            "6  \t [4.43690997 6.68806116]\t 34.49552590466526\t 6.882901559170483\t 5.436709139302376\t 5.1289450084405015\n",
            "7  \t [-1.06526341  0.        ]\t 76.14726866647226\t 6.882901559170483\t 4.761684889989074\t 4.6483736308032375\n",
            "8  \t [ 2.15248037 10.62513405]\t 60.26224588412754\t 6.882901559170483\t 5.632748332299992\t 5.642283550415382\n",
            "9  \t [10. 15.]\t 145.87219087939556\t 6.882901559170483\t 5.220662514713676\t 5.063709853895503\n",
            "10 \t [-5.          9.62124354]\t 69.96987277733237\t 6.882901559170483\t 5.161755139020364\t 5.763257849173583\n",
            "11 \t [-5.  0.]\t 308.12909601160663\t 6.882901559170483\t 5.412277889741762\t 5.4512228468128\n",
            "12 \t [10.  0.]\t 10.960889035651505\t 6.882901559170483\t 4.474117282299367\t 4.236212331664902\n",
            "\u001b[1m\u001b[92m13\u001b[0m\t \u001b[1m\u001b[92m[3.82108123 3.03884873]\u001b[0m\t \u001b[1m\u001b[92m4.05359746029134\u001b[0m\t \u001b[1m\u001b[92m4.05359746029134\u001b[0m\t \u001b[1m\u001b[92m5.490167929811805\u001b[0m\t \u001b[1m\u001b[92m5.5052457135564135\u001b[0m\n",
            "14 \t [-1.62750724 11.64017112]\t 16.787557664354182\t 4.05359746029134\t 5.084598785684927\t 4.750856881235274\n",
            "15 \t [6.03782588 0.        ]\t 20.524457621712273\t 4.05359746029134\t 4.41082464181077\t 4.954300814362126\n",
            "16 \t [ 4.54915351 15.        ]\t 192.4963983365679\t 4.05359746029134\t 5.845533757032422\t 5.988865194918862\n",
            "\u001b[1m\u001b[92m17\u001b[0m\t \u001b[1m\u001b[92m[10.          4.23438223]\u001b[0m\t \u001b[1m\u001b[92m3.459549720351779\u001b[0m\t \u001b[1m\u001b[92m3.459549720351779\u001b[0m\t \u001b[1m\u001b[92m5.02099976395347\u001b[0m\t \u001b[1m\u001b[92m5.16107021940774\u001b[0m\n",
            "18 \t [10.         10.71367168]\t 61.39826764448471\t 3.459549720351779\t 4.882206038303076\t 5.037838815530097\n",
            "19 \t [7.46063439 5.63476939]\t 32.32708680221636\t 3.459549720351779\t 4.797614322461166\t 4.732890062765277\n",
            "20 \t [1.61897963 2.35685149]\t 11.511731570588825\t 3.459549720351779\t 4.618944560583831\t 4.465233551199046\n"
          ]
        }
      ],
      "source": [
        "### ESTIMATED GP EI GRADIENTS\n",
        "\n",
        "np.random.seed(run_num_15)\n",
        "surrogate_approx_15 = dGaussianProcess(cov_func, optimize=opt)\n",
        "\n",
        "approx_15 = GPGO_multi(surrogate_approx_15, Acquisition_grad(util), objfunc, param)\n",
        "approx_15.run(init_evals=n_init, max_iter=iters)\n"
      ]
    },
    {
      "cell_type": "code",
      "execution_count": 28,
      "metadata": {
        "id": "bGGkhp-kGCw6",
        "colab": {
          "base_uri": "https://localhost:8080/"
        },
        "outputId": "26a24d8a-04ed-4834-80d7-f83ed170de8d"
      },
      "outputs": [
        {
          "output_type": "stream",
          "name": "stdout",
          "text": [
            "Evaluation \t Proposed point \t  Current eval. \t  Best eval. \t        Exact EI: StdDev. x \t Approx EI: StdDev. x \n",
            "init\t [-1.65063381  7.84745012]\t 10.514702126319445\t 2.715864006988424\t    \t    \n",
            "init\t [3.26052185 0.68402925]\t 2.715864006988424\t 2.715864006988424\t    \t    \n",
            "init\t [0.41093253 3.34621413]\t 22.889515127492515\t 2.715864006988424\t    \t    \n",
            "init\t [5.33089243 2.45597138]\t 17.178157611778595\t 2.715864006988424\t    \t    \n",
            "init\t [-3.945127  14.1151629]\t 3.3649224341694195\t 2.715864006988424\t    \t    \n",
            "1  \t [ 5.63879248 14.58068289]\t 198.51319639462758\t 2.715864006988424\t 5.624085826757564\t 5.543292038414135\n",
            "2  \t [9.4202829  9.76772141]\t 53.637049482645274\t 2.715864006988424\t 5.871008204132948\t 5.3454243550994205\n",
            "3  \t [-4.02259831  0.        ]\t 213.9230769501899\t 2.715864006988424\t 5.272272872186259\t 5.867497154837422\n",
            "4  \t [3.77183963 8.41852715]\t 45.58796263948214\t 2.715864006988424\t 4.573945642413494\t 5.2369900149007735\n",
            "5  \t [10.  0.]\t 10.960889035651505\t 2.715864006988424\t 5.468305826839014\t 6.054219242490376\n",
            "6  \t [ 0.46285109 12.6144398 ]\t 72.2242133016737\t 2.715864006988424\t 5.776528409604382\t 6.036417862277422\n",
            "7  \t [10.          4.74011737]\t 4.960868170328828\t 2.715864006988424\t 3.6951645952326424\t 4.255983648761894\n",
            "8  \t [-5.          5.03613352]\t 160.3760583914788\t 2.715864006988424\t 5.143180262051243\t 5.431932918347694\n",
            "9  \t [-5.         10.31233958]\t 59.98966044934063\t 2.715864006988424\t 4.584629569746021\t 5.218795609559286\n",
            "10 \t [6.95452318 6.05824146]\t 41.319579316326504\t 2.715864006988424\t 4.853066079129079\t 4.956508637950069\n",
            "11 \t [10. 15.]\t 145.87219087939556\t 2.715864006988424\t 5.356937577705524\t 5.182435744879157\n",
            "12 \t [0.2963451 0.       ]\t 49.87180312571451\t 2.715864006988424\t 4.684177715705498\t 4.525143841512974\n",
            "13 \t [3.24239215 4.97264172]\t 8.14691135816767\t 2.715864006988424\t 4.186390935724604\t 4.264946504690177\n",
            "14 \t [6.99162059 0.        ]\t 18.701544821788627\t 2.715864006988424\t 4.743825540502149\t 4.941392839745144\n",
            "15 \t [ 6.1278102  10.80685195]\t 113.74488911983916\t 2.715864006988424\t 4.5994676708462565\t 4.350762087437351\n",
            "16 \t [8.64020698 2.71723981]\t 3.884504089585147\t 2.715864006988424\t 4.437145276983003\t 4.537393571989838\n",
            "17 \t [-1.9157297 15.       ]\t 36.74976154149907\t 2.715864006988424\t 5.504533649105102\t 5.702570998480249\n",
            "18 \t [0.82594075 6.62711815]\t 19.944466871507302\t 2.715864006988424\t 5.073228429243099\t 4.990654964496526\n",
            "19 \t [-5. 15.]\t 17.508299515778166\t 2.715864006988424\t 4.438625620068189\t 4.797686264132542\n",
            "20 \t [-1.79496756 10.38768547]\t 9.107988801665142\t 2.715864006988424\t 5.423803964037898\t 5.572635798953065\n"
          ]
        }
      ],
      "source": [
        "### ESTIMATED GP EI GRADIENTS\n",
        "\n",
        "np.random.seed(run_num_16)\n",
        "surrogate_approx_16 = dGaussianProcess(cov_func, optimize=opt)\n",
        "\n",
        "approx_16 = GPGO_multi(surrogate_approx_16, Acquisition_grad(util), objfunc, param)\n",
        "approx_16.run(init_evals=n_init, max_iter=iters)\n"
      ]
    },
    {
      "cell_type": "code",
      "execution_count": 29,
      "metadata": {
        "id": "Yrs2mp7hGC1Z",
        "colab": {
          "base_uri": "https://localhost:8080/"
        },
        "outputId": "34b61087-c253-4e38-9f26-1d5529fc96fb"
      },
      "outputs": [
        {
          "output_type": "stream",
          "name": "stdout",
          "text": [
            "Evaluation \t Proposed point \t  Current eval. \t  Best eval. \t        Exact EI: StdDev. x \t Approx EI: StdDev. x \n",
            "init\t [-0.58002496  7.95880133]\t 19.016141117164256\t 19.016141117164256\t    \t    \n",
            "init\t [-2.1271882   1.01850537]\t 85.05949339404415\t 19.016141117164256\t    \t    \n",
            "init\t [6.8047819  9.84500283]\t 93.89792695202516\t 19.016141117164256\t    \t    \n",
            "init\t [4.56281344 8.63404341]\t 60.50217141122736\t 19.016141117164256\t    \t    \n",
            "init\t [-4.41405626  5.36720407]\t 110.70834086593878\t 19.016141117164256\t    \t    \n",
            "\u001b[1m\u001b[92m1\u001b[0m\t \u001b[1m\u001b[92m[10.  0.]\u001b[0m\t \u001b[1m\u001b[92m10.960889035651505\u001b[0m\t \u001b[1m\u001b[92m10.960889035651505\u001b[0m\t \u001b[1m\u001b[92m6.1928033638359485\u001b[0m\t \u001b[1m\u001b[92m7.266313248029945\u001b[0m\n",
            "2  \t [-0.36591853 14.49945231]\t 81.3728947682288\t 10.960889035651505\t 5.43013595158217\t 5.3948004225821515\n",
            "\u001b[1m\u001b[92m3\u001b[0m\t \u001b[1m\u001b[92m[3.74599703 2.35814314]\u001b[0m\t \u001b[1m\u001b[92m2.3563457989420957\u001b[0m\t \u001b[1m\u001b[92m2.3563457989420957\u001b[0m\t \u001b[1m\u001b[92m5.288593640595978\u001b[0m\t \u001b[1m\u001b[92m4.715741917252544\u001b[0m\n",
            "4  \t [10.         14.81517083]\t 141.47154557588692\t 2.3563457989420957\t 5.655344006767546\t 5.825178888447012\n",
            "5  \t [-5.         11.26935865]\t 47.74649486673399\t 2.3563457989420957\t 5.054843421840351\t 5.493313513215728\n",
            "6  \t [10.          5.23982846]\t 6.946736352510642\t 2.3563457989420957\t 5.314984738284591\t 5.2312916187561385\n",
            "7  \t [ 4.74570431 15.        ]\t 196.4667594753223\t 2.3563457989420957\t 5.29465148924318\t 5.241645153648247\n",
            "8  \t [7.1099804  2.78584193]\t 18.97162521647025\t 2.3563457989420957\t 5.363881374025071\t 5.621248441997036\n",
            "9  \t [0.97031935 4.29389279]\t 15.505870161586397\t 2.3563457989420957\t 5.448438525447586\t 5.655937632934013\n",
            "10 \t [1.95188571 0.        ]\t 17.891307396663834\t 2.3563457989420957\t 4.808300884368425\t 4.885738782618385\n",
            "11 \t [-5. 15.]\t 17.508299515778166\t 2.3563457989420957\t 5.5600864659116604\t 5.529391127509778\n",
            "12 \t [ 1.5672088  11.08024655]\t 62.70199675063021\t 2.3563457989420957\t 5.650545735973251\t 5.451886193363766\n",
            "13 \t [4.44735776 4.98297826]\t 19.777065841976494\t 2.3563457989420957\t 4.677733389998943\t 4.572254502282919\n",
            "14 \t [5.48153065 0.        ]\t 18.018262801547465\t 2.3563457989420957\t 4.527004579400252\t 4.784905910704249\n",
            "15 \t [10.         10.97105218]\t 65.43368771113708\t 2.3563457989420957\t 5.077214827297933\t 5.197898177622758\n",
            "16 \t [7.50160494 6.21292593]\t 37.15143073297133\t 2.3563457989420957\t 4.823280788414368\t 4.052686992043777\n",
            "17 \t [-5.  0.]\t 308.12909601160663\t 2.3563457989420957\t 4.028390784961943\t 4.480182299037682\n",
            "18 \t [-1.81171163 10.94999125]\t 10.406955694969996\t 2.3563457989420957\t 4.881750039928339\t 4.861914113778486\n",
            "\u001b[1m\u001b[92m19\u001b[0m\t \u001b[1m\u001b[92m[10.          2.72932793]\u001b[0m\t \u001b[1m\u001b[92m2.0180133129302638\u001b[0m\t \u001b[1m\u001b[92m2.0180133129302638\u001b[0m\t \u001b[1m\u001b[92m5.0504985227061185\u001b[0m\t \u001b[1m\u001b[92m5.446116356155714\u001b[0m\n",
            "20 \t [-3.45282377  8.58369271]\t 20.67757687202272\t 2.0180133129302638\t 5.013493903509144\t 5.355603722417241\n"
          ]
        }
      ],
      "source": [
        "### ESTIMATED GP EI GRADIENTS\n",
        "\n",
        "np.random.seed(run_num_17)\n",
        "surrogate_approx_17 = dGaussianProcess(cov_func, optimize=opt)\n",
        "\n",
        "approx_17 = GPGO_multi(surrogate_approx_17, Acquisition_grad(util), objfunc, param)\n",
        "approx_17.run(init_evals=n_init, max_iter=iters)\n"
      ]
    },
    {
      "cell_type": "code",
      "execution_count": 30,
      "metadata": {
        "id": "f0HIEP3PIUEa",
        "colab": {
          "base_uri": "https://localhost:8080/"
        },
        "outputId": "ff06a17f-18c5-4574-c20b-79f5b7275619"
      },
      "outputs": [
        {
          "output_type": "stream",
          "name": "stdout",
          "text": [
            "Evaluation \t Proposed point \t  Current eval. \t  Best eval. \t        Exact EI: StdDev. x \t Approx EI: StdDev. x \n",
            "init\t [4.75561363 7.58180061]\t 49.215059064668324\t 8.150075223157177\t    \t    \n",
            "init\t [8.17902206 2.72760338]\t 8.150075223157177\t 8.150075223157177\t    \t    \n",
            "init\t [ 7.78349603 11.25204429]\t 106.98107856533271\t 8.150075223157177\t    \t    \n",
            "init\t [ 4.99152501 14.81843172]\t 196.08601750690153\t 8.150075223157177\t    \t    \n",
            "init\t [-1.14547366  0.42458888]\t 71.23649635555944\t 8.150075223157177\t    \t    \n",
            "1  \t [-4.83474958 11.77354131]\t 35.58412906267954\t 8.150075223157177\t 5.4564212992775305\t 5.198211197250047\n",
            "2  \t [-1.00357121  6.84655739]\t 15.934937141101628\t 8.150075223157177\t 5.450102520284124\t 4.960955963030882\n",
            "3  \t [10.         7.3720746]\t 21.032332692938766\t 8.150075223157177\t 4.830288605869452\t 4.855979850973832\n",
            "4  \t [-0.65340519 15.        ]\t 80.11200680341189\t 8.150075223157177\t 5.64694750860249\t 5.989782515975446\n",
            "5  \t [10. 15.]\t 145.87219087939556\t 8.150075223157177\t 4.611356844163274\t 4.821347825547356\n",
            "\u001b[1m\u001b[92m6\u001b[0m\t \u001b[1m\u001b[92m[4.16824864 0.        ]\u001b[0m\t \u001b[1m\u001b[92m7.622914178129404\u001b[0m\t \u001b[1m\u001b[92m7.622914178129404\u001b[0m\t \u001b[1m\u001b[92m4.805831826265661\u001b[0m\t \u001b[1m\u001b[92m4.66139751063046\u001b[0m\n",
            "7  \t [-5.          3.98979975]\t 186.89934968519705\t 7.622914178129404\t 4.886202357502569\t 5.085450377401073\n",
            "8  \t [ 1.3367925  10.72648184]\t 56.093241101653824\t 7.622914178129404\t 4.751579907262087\t 4.624400077936106\n",
            "\u001b[1m\u001b[92m9\u001b[0m\t \u001b[1m\u001b[92m[2.23868394 3.74394771]\u001b[0m\t \u001b[1m\u001b[92m4.488060305308067\u001b[0m\t \u001b[1m\u001b[92m4.488060305308067\u001b[0m\t \u001b[1m\u001b[92m5.539279469033013\u001b[0m\t \u001b[1m\u001b[92m5.616463363088176\u001b[0m\n",
            "10 \t [-5.          8.11440901]\t 95.04219372160001\t 4.488060305308067\t 5.519635302565946\t 5.771504812048319\n",
            "11 \t [10.  0.]\t 10.960889035651505\t 4.488060305308067\t 5.399878151373427\t 5.034440017725793\n",
            "12 \t [-5.  0.]\t 308.12909601160663\t 4.488060305308067\t 5.130473219608654\t 4.843351688781365\n",
            "13 \t [5.18713463 3.62863432]\t 20.18929585412022\t 4.488060305308067\t 4.395752180964638\t 4.253694139763513\n",
            "14 \t [6.96064224 0.        ]\t 18.876085069762098\t 4.488060305308067\t 4.2040002605203695\t 4.057386840760565\n",
            "15 \t [-5.         14.79816366]\t 18.432014832638572\t 4.488060305308067\t 5.025437395015576\t 5.031112449217143\n",
            "16 \t [-0.61836223  3.88545717]\t 27.734571585892486\t 4.488060305308067\t 4.444958324540361\t 4.14761871436947\n",
            "17 \t [-1.94336142 10.15893996]\t 6.838974325081308\t 4.488060305308067\t 6.026137795359517\t 5.4527762223836\n",
            "\u001b[1m\u001b[92m18\u001b[0m\t \u001b[1m\u001b[92m[10.          4.35067813]\u001b[0m\t \u001b[1m\u001b[92m3.7594939704492543\u001b[0m\t \u001b[1m\u001b[92m3.7594939704492543\u001b[0m\t \u001b[1m\u001b[92m4.1486031050988705\u001b[0m\t \u001b[1m\u001b[92m4.040371637665404\u001b[0m\n",
            "19 \t [7.54809693 5.63981041]\t 31.320125851365184\t 3.7594939704492543\t 4.221436262777542\t 4.133855885263775\n",
            "20 \t [1.8057093  6.34163834]\t 15.573122380779198\t 3.7594939704492543\t 5.145421704758197\t 5.052746219325033\n"
          ]
        }
      ],
      "source": [
        "### ESTIMATED GP EI GRADIENTS\n",
        "\n",
        "np.random.seed(run_num_18)\n",
        "surrogate_approx_18 = dGaussianProcess(cov_func, optimize=opt)\n",
        "\n",
        "approx_18 = GPGO_multi(surrogate_approx_18, Acquisition_grad(util), objfunc, param)\n",
        "approx_18.run(init_evals=n_init, max_iter=iters)\n"
      ]
    },
    {
      "cell_type": "code",
      "execution_count": 31,
      "metadata": {
        "id": "S3mxRQDLIUPC",
        "colab": {
          "base_uri": "https://localhost:8080/"
        },
        "outputId": "dddc75bb-262f-4f83-d96e-a902580d8738"
      },
      "outputs": [
        {
          "output_type": "stream",
          "name": "stdout",
          "text": [
            "Evaluation \t Proposed point \t  Current eval. \t  Best eval. \t        Exact EI: StdDev. x \t Approx EI: StdDev. x \n",
            "init\t [-3.53699597 11.41874575]\t 4.475608269502271\t 4.475608269502271\t    \t    \n",
            "init\t [-1.2959304   2.07197531]\t 51.13947793770689\t 4.475608269502271\t    \t    \n",
            "init\t [-0.02830155  1.24499348]\t 42.63973921760034\t 4.475608269502271\t    \t    \n",
            "init\t [ 5.07965622 12.09890697]\t 131.17235664506808\t 4.475608269502271\t    \t    \n",
            "init\t [9.74112872 9.53491102]\t 46.84458913925112\t 4.475608269502271\t    \t    \n",
            "\u001b[1m\u001b[92m1\u001b[0m\t \u001b[1m\u001b[92m[9.57054653 2.03489665]\u001b[0m\t \u001b[1m\u001b[92m0.8198597583535783\u001b[0m\t \u001b[1m\u001b[92m0.8198597583535783\u001b[0m\t \u001b[1m\u001b[92m5.342923584321703\u001b[0m\t \u001b[1m\u001b[92m5.610004055810948\u001b[0m\n",
            "2  \t [4.35925134 5.04996868]\t 19.16147327361864\t 0.8198597583535783\t 5.58328579401077\t 5.978600455633415\n",
            "3  \t [-5.          6.34813718]\t 130.21250516921657\t 0.8198597583535783\t 4.974021652088981\t 5.507165740382729\n",
            "4  \t [ 0.06675761 15.        ]\t 102.49399255751578\t 0.8198597583535783\t 5.275579503230407\t 5.491749699217058\n",
            "5  \t [10. 15.]\t 145.87219087939556\t 0.8198597583535783\t 4.7587932327051785\t 4.48180853068327\n",
            "6  \t [0.46495858 8.52057206]\t 29.032771190470974\t 0.8198597583535783\t 4.878883623481903\t 4.947140446550161\n",
            "7  \t [5.38611019 0.        ]\t 17.37232159319457\t 0.8198597583535783\t 5.33133575676792\t 5.741221656514971\n",
            "8  \t [-5. 15.]\t 17.508299515778166\t 0.8198597583535783\t 5.108996513590218\t 5.50412090266419\n",
            "9  \t [-5.  0.]\t 308.12909601160663\t 0.8198597583535783\t 5.833848152385727\t 5.774084152692344\n",
            "10 \t [8.73985503 5.22961963]\t 13.267910521135391\t 0.8198597583535783\t 5.023906276886441\t 4.617773952258682\n",
            "11 \t [6.09385623 8.10738001]\t 68.55346888328594\t 0.8198597583535783\t 4.494548408335096\t 4.447241269283384\n",
            "12 \t [10.  0.]\t 10.960889035651505\t 0.8198597583535783\t 4.4671512604521215\t 4.528326955457945\n",
            "13 \t [0.87664713 5.04350317]\t 16.258003120583865\t 0.8198597583535783\t 5.46255483869947\t 5.504313686186054\n",
            "14 \t [7.43039438 2.43336238]\t 15.216527895972494\t 0.8198597583535783\t 4.854464794088916\t 4.965134834458542\n",
            "15 \t [ 1.2883552  11.60049063]\t 67.97829689827603\t 0.8198597583535783\t 4.360469090614347\t 4.446332636310973\n",
            "\u001b[1m\u001b[92m16\u001b[0m\t \u001b[1m\u001b[92m[3.17082212 2.14171939]\u001b[0m\t \u001b[1m\u001b[92m0.41422040345264755\u001b[0m\t \u001b[1m\u001b[92m0.41422040345264755\u001b[0m\t \u001b[1m\u001b[92m4.38391013361448\u001b[0m\t \u001b[1m\u001b[92m4.4084944884757915\u001b[0m\n",
            "17 \t [-2.64909048  9.17096824]\t 5.348464058074212\t 0.41422040345264755\t 5.1295997872979635\t 5.195198949123715\n",
            "18 \t [ 3.53282394 15.        ]\t 170.39216206369045\t 0.41422040345264755\t 4.671993145467448\t 4.936874271382113\n",
            "19 \t [10.          2.81739854]\t 1.9775724601120963\t 0.41422040345264755\t 3.967178806125149\t 3.9978488174420606\n",
            "20 \t [-1.63532119  5.92889511]\t 18.496872456063052\t 0.41422040345264755\t 5.033961435124164\t 5.291757214307503\n"
          ]
        }
      ],
      "source": [
        "### ESTIMATED GP EI GRADIENTS\n",
        "\n",
        "np.random.seed(run_num_19)\n",
        "surrogate_approx_19 = dGaussianProcess(cov_func, optimize=opt)\n",
        "\n",
        "approx_19 = GPGO_multi(surrogate_approx_19, Acquisition_grad(util), objfunc, param)\n",
        "approx_19.run(init_evals=n_init, max_iter=iters)\n"
      ]
    },
    {
      "cell_type": "code",
      "execution_count": 32,
      "metadata": {
        "id": "Aawd59dRIUYn",
        "colab": {
          "base_uri": "https://localhost:8080/"
        },
        "outputId": "1c3c29fb-be22-4bc4-c058-775ccf26b5d3"
      },
      "outputs": [
        {
          "output_type": "stream",
          "name": "stdout",
          "text": [
            "Evaluation \t Proposed point \t  Current eval. \t  Best eval. \t        Exact EI: StdDev. x \t Approx EI: StdDev. x \n",
            "init\t [ 3.82196202 13.46570592]\t 138.5264349938869\t 14.042667401507376\t    \t    \n",
            "init\t [ 8.37296094 12.23756216]\t 115.63178540512689\t 14.042667401507376\t    \t    \n",
            "init\t [-4.46165622 10.37636373]\t 35.66708529307584\t 14.042667401507376\t    \t    \n",
            "init\t [0.68021413 7.77766418]\t 25.307769914281764\t 14.042667401507376\t    \t    \n",
            "init\t [4.86927198 2.90775327]\t 14.042667401507376\t 14.042667401507376\t    \t    \n",
            "1  \t [-0.46683041  1.12730576]\t 50.42750988022418\t 14.042667401507376\t 4.954456992826896\t 5.43013884026657\n",
            "\u001b[1m\u001b[92m2\u001b[0m\t \u001b[1m\u001b[92m[10.          5.93633926]\u001b[0m\t \u001b[1m\u001b[92m10.547874467067842\u001b[0m\t \u001b[1m\u001b[92m10.547874467067842\u001b[0m\t \u001b[1m\u001b[92m5.327741083676185\u001b[0m\t \u001b[1m\u001b[92m5.710143122903622\u001b[0m\n",
            "\u001b[1m\u001b[92m3\u001b[0m\t \u001b[1m\u001b[92m[10.          0.32520612]\u001b[0m\t \u001b[1m\u001b[92m9.113488331150725\u001b[0m\t \u001b[1m\u001b[92m9.113488331150725\u001b[0m\t \u001b[1m\u001b[92m5.234635221355332\u001b[0m\t \u001b[1m\u001b[92m5.182505033709024\u001b[0m\n",
            "4  \t [-2.95527783 15.        ]\t 10.602030856014657\t 9.113488331150725\t 5.792123926283883\t 6.276138349971426\n",
            "5  \t [-5.          4.58919409]\t 171.43753769458684\t 9.113488331150725\t 5.886296629276584\t 5.4837439414518805\n",
            "6  \t [5.58060577 7.79322904]\t 61.574896139118046\t 9.113488331150725\t 5.120037432465321\t 5.284802266402832\n",
            "7  \t [-5.  0.]\t 308.12909601160663\t 9.113488331150725\t 6.100463924142137\t 6.164211240450344\n",
            "8  \t [-0.4365731 11.876792 ]\t 45.299671393872586\t 9.113488331150725\t 5.539908441322484\t 5.404781227711473\n",
            "9  \t [6.56821318 0.        ]\t 20.4681360606627\t 9.113488331150725\t 5.317049547762219\t 4.75290117364696\n",
            "10 \t [1.68926717 4.33259769]\t 9.290852793224124\t 9.113488331150725\t 5.134861050247428\t 5.567352656793815\n",
            "\u001b[1m\u001b[92m11\u001b[0m\t \u001b[1m\u001b[92m[3.02964337 0.        ]\u001b[0m\t \u001b[1m\u001b[92m6.046129757403625\u001b[0m\t \u001b[1m\u001b[92m6.046129757403625\u001b[0m\t \u001b[1m\u001b[92m4.859571608006284\u001b[0m\t \u001b[1m\u001b[92m5.131292825266591\u001b[0m\n",
            "12 \t [8.30720171 3.239596  ]\t 8.18554377233304\t 6.046129757403625\t 5.311077708768746\t 5.622538827441675\n",
            "13 \t [10.         8.8984763]\t 36.70029311538681\t 6.046129757403625\t 5.397183352807535\t 5.21524061992737\n",
            "14 \t [-1.2222407   4.94495732]\t 23.476576600755564\t 6.046129757403625\t 4.942493598431224\t 5.2264394844430235\n",
            "15 \t [ 0.34340856 15.        ]\t 109.88747373597965\t 6.046129757403625\t 4.6226131315532175\t 4.662037704121657\n",
            "16 \t [-2.61669526  7.80172926]\t 12.236233928034482\t 6.046129757403625\t 5.076954954374503\t 4.760393167061138\n",
            "17 \t [2.85338406 9.98142536]\t 56.60876471416034\t 6.046129757403625\t 5.1417781204398265\t 4.790487394418118\n",
            "18 \t [-5.      13.54456]\t 25.993747252664676\t 6.046129757403625\t 5.344622493696291\t 5.247683944669419\n",
            "19 \t [6.94336991 5.02676849]\t 32.40277202341075\t 6.046129757403625\t 5.429919094538716\t 5.44292453061497\n",
            "20 \t [3.39474575 5.68572252]\t 13.662975186968843\t 6.046129757403625\t 4.125960029157367\t 3.9610791456800887\n"
          ]
        }
      ],
      "source": [
        "### ESTIMATED GP EI GRADIENTS\n",
        "\n",
        "np.random.seed(run_num_20)\n",
        "surrogate_approx_20 = dGaussianProcess(cov_func, optimize=opt)\n",
        "\n",
        "approx_20 = GPGO_multi(surrogate_approx_20, Acquisition_grad(util), objfunc, param)\n",
        "approx_20.run(init_evals=n_init, max_iter=iters)\n"
      ]
    },
    {
      "cell_type": "code",
      "execution_count": 33,
      "metadata": {
        "id": "xkgzPRbBTHaq",
        "colab": {
          "base_uri": "https://localhost:8080/"
        },
        "outputId": "5a6babe1-852e-42c0-bc94-25e9a70b0288"
      },
      "outputs": [
        {
          "output_type": "execute_result",
          "data": {
            "text/plain": [
              "1659528919.218675"
            ]
          },
          "metadata": {},
          "execution_count": 33
        }
      ],
      "source": [
        "end_approx = time.time()\n",
        "end_approx\n",
        "\n",
        "time_approx = end_approx - start_approx\n",
        "time_approx\n",
        "\n",
        "start_exact = time.time()\n",
        "start_exact"
      ]
    },
    {
      "cell_type": "code",
      "execution_count": 34,
      "metadata": {
        "id": "7CG3Ndvb16Rb",
        "colab": {
          "base_uri": "https://localhost:8080/"
        },
        "outputId": "8de21803-c5ec-4443-ee27-b90e6deffebd"
      },
      "outputs": [
        {
          "output_type": "stream",
          "name": "stdout",
          "text": [
            "Evaluation \t Proposed point \t  Current eval. \t  Best eval. \t        Exact EI: StdDev. x \t Approx EI: StdDev. x \n",
            "init\t [ 1.25533007 10.8048674 ]\t 56.52874004692151\t 27.68166689936483\t    \t    \n",
            "init\t [-4.99828438  4.53498859]\t 172.66531086516164\t 27.68166689936483\t    \t    \n",
            "init\t [-2.79866164  1.38507892]\t 102.58290348816024\t 27.68166689936483\t    \t    \n",
            "init\t [-2.20609683  5.18341091]\t 28.868064601155666\t 27.68166689936483\t    \t    \n",
            "init\t [0.95151211 8.08225101]\t 27.68166689936483\t 27.68166689936483\t    \t    \n",
            "\u001b[1m\u001b[92m1\u001b[0m\t \u001b[1m\u001b[92m[8.41909995 1.27566317]\u001b[0m\t \u001b[1m\u001b[92m5.089934878453152\u001b[0m\t \u001b[1m\u001b[92m5.089934878453152\u001b[0m\t \u001b[1m\u001b[92m5.405420528794761\u001b[0m\t \u001b[1m\u001b[92m5.542141089617631\u001b[0m\n",
            "2  \t [ 8.98893195 10.45227242]\t 70.52424256621515\t 5.089934878453152\t 5.69036904730349\t 5.82372415819082\n",
            "3  \t [3.1784986 0.       ]\t 5.450714203742865\t 5.089934878453152\t 5.508275420942684\t 4.88921883949269\n",
            "4  \t [-4.67712792 14.21955317]\t 13.865244792739254\t 5.089934878453152\t 6.026294953585311\t 6.662757586585778\n",
            "5  \t [ 5.30676004 15.        ]\t 206.03558952485747\t 5.089934878453152\t 4.208898932289669\t 4.427635710806215\n",
            "6  \t [5.6509709  6.05693568]\t 42.00603936853098\t 5.089934878453152\t 5.05511116721913\t 5.401158531301679\n",
            "7  \t [-3.81418147  9.6732151 ]\t 20.778570204409263\t 5.089934878453152\t 5.700766524229558\t 6.092080444778015\n",
            "8  \t [10. 15.]\t 145.87219087939556\t 5.089934878453152\t 5.00642764077505\t 5.027714505473713\n",
            "9  \t [-0.28894486 15.        ]\t 91.95377472918058\t 5.089934878453152\t 5.17441584363039\t 5.297082311685551\n",
            "10 \t [10.          5.29237281]\t 7.18456719951715\t 5.089934878453152\t 4.522751891261811\t 4.520537549829767\n",
            "\u001b[1m\u001b[92m11\u001b[0m\t \u001b[1m\u001b[92m[2.19337067 3.45287133]\u001b[0m\t \u001b[1m\u001b[92m4.504572815126114\u001b[0m\t \u001b[1m\u001b[92m4.504572815126114\u001b[0m\t \u001b[1m\u001b[92m4.527295969221981\u001b[0m\t \u001b[1m\u001b[92m4.911105516854783\u001b[0m\n",
            "12 \t [5.42675726 2.23126487]\t 17.42234372828822\t 4.504572815126114\t 4.357647898527747\t 4.226995657147294\n",
            "13 \t [5.13257302 9.83709993]\t 87.923363463295\t 4.504572815126114\t 4.120380767960802\t 4.322295298853654\n",
            "14 \t [0.64301419 0.49016326]\t 38.29483628261505\t 4.504572815126114\t 5.123085253871569\t 5.3919674747438275\n",
            "15 \t [8.24298487 3.59982364]\t 10.126761992549532\t 4.504572815126114\t 4.950807402353259\t 5.197318217542276\n",
            "16 \t [1.88683678 5.43189266]\t 10.916116630836918\t 4.504572815126114\t 4.46304765349932\t 4.437543860415007\n",
            "17 \t [-1.50798545 10.24937492]\t 13.022529101464315\t 4.504572815126114\t 4.727245247872574\t 5.0927366562148775\n",
            "18 \t [8.88202855 7.16672204]\t 27.90509748368775\t 4.504572815126114\t 5.10910808987186\t 5.06489573839993\n",
            "19 \t [-2.31211909 12.39801829]\t 7.627035872636235\t 4.504572815126114\t 5.987213061243328\t 5.53517034502849\n",
            "20 \t [-0.10633456  3.82570689]\t 25.04685852577163\t 4.504572815126114\t 5.600297610228542\t 6.077735904844344\n"
          ]
        }
      ],
      "source": [
        "### EXACT GP EI GRADIENTS\n",
        "\n",
        "np.random.seed(run_num_1)\n",
        "surrogate_exact_1 = dGaussianProcess(cov_func, optimize=opt)\n",
        "\n",
        "exact_1 = dGPGO(surrogate_exact_1, Acquisition_grad(util), objfunc, param)\n",
        "exact_1.run(init_evals=n_init, max_iter=iters)\n"
      ]
    },
    {
      "cell_type": "code",
      "execution_count": 35,
      "metadata": {
        "id": "-ilCPSAu9SAg",
        "colab": {
          "base_uri": "https://localhost:8080/"
        },
        "outputId": "eaa4d14e-a6ab-44a3-e505-67e69fb6fde2"
      },
      "outputs": [
        {
          "output_type": "stream",
          "name": "stdout",
          "text": [
            "Evaluation \t Proposed point \t  Current eval. \t  Best eval. \t        Exact EI: StdDev. x \t Approx EI: StdDev. x \n",
            "init\t [1.53992353 0.38889348]\t 22.31361308916297\t 6.692051508754487\t    \t    \n",
            "init\t [3.24493717 6.52983589]\t 19.233109967858276\t 6.692051508754487\t    \t    \n",
            "init\t [1.30551703 4.95502232]\t 13.177851563387286\t 6.692051508754487\t    \t    \n",
            "init\t [-1.93027049  9.2890645 ]\t 6.692051508754487\t 6.692051508754487\t    \t    \n",
            "init\t [-0.50517989  4.00240913]\t 26.437522758780958\t 6.692051508754487\t    \t    \n",
            "1  \t [ 9.5587047  12.00387527]\t 89.09951357262268\t 6.692051508754487\t 5.75515449994353\t 6.099827733628081\n",
            "\u001b[1m\u001b[92m2\u001b[0m\t \u001b[1m\u001b[92m[9.59366035 1.69164323]\u001b[0m\t \u001b[1m\u001b[92m1.3984593420568778\u001b[0m\t \u001b[1m\u001b[92m1.3984593420568778\u001b[0m\t \u001b[1m\u001b[92m4.558221037166559\u001b[0m\t \u001b[1m\u001b[92m5.436385046269629\u001b[0m\n",
            "3  \t [ 3.24245232 12.67669673]\t 110.25694222671481\t 1.3984593420568778\t 5.641319204144841\t 6.034794047588232\n",
            "4  \t [-5.          0.47652372]\t 291.9758016736889\t 1.3984593420568778\t 5.026254267928121\t 5.110573840483808\n",
            "5  \t [9.02917984 6.38725122]\t 18.99628463361546\t 1.3984593420568778\t 5.276408169554564\t 5.658238448679558\n",
            "6  \t [-3.95507934 14.02731525]\t 3.4866936150466845\t 1.3984593420568778\t 5.14905248356774\t 5.66199020883198\n",
            "7  \t [6.11121402 0.        ]\t 20.66684023677474\t 1.3984593420568778\t 4.417316543050095\t 4.993795508307132\n",
            "8  \t [-0.53518615 15.        ]\t 84.05142673602415\t 1.3984593420568778\t 5.121213917967535\t 5.277599989295357\n",
            "9  \t [-5.         5.9468696]\t 139.07237800431037\t 1.3984593420568778\t 5.075340547346736\t 5.5132759671091724\n",
            "10 \t [ 6.76609444 15.        ]\t 210.45133046784113\t 1.3984593420568778\t 4.7426129302460485\t 4.333814484007697\n",
            "11 \t [6.15066039 9.24517374]\t 85.89353371388567\t 1.3984593420568778\t 5.296064576853094\t 5.176963399871595\n",
            "12 \t [6.26654663 3.75224143]\t 26.637788043362853\t 1.3984593420568778\t 4.448282656360162\t 4.8788728079889605\n",
            "13 \t [10.          3.46971226]\t 2.1610015012252557\t 1.3984593420568778\t 5.031423369911799\t 5.717506569234672\n",
            "14 \t [-5.         10.68349678]\t 55.02399145829575\t 1.3984593420568778\t 5.832230116173852\t 6.027801433849147\n",
            "15 \t [-1.05743169 11.63035107]\t 29.17810911637783\t 1.3984593420568778\t 5.0135304979877855\t 4.981318715575574\n",
            "16 \t [1.14276169 9.20729766]\t 37.57959383598781\t 1.3984593420568778\t 4.719550065792214\t 4.566422620351545\n",
            "\u001b[1m\u001b[92m17\u001b[0m\t \u001b[1m\u001b[92m[3.29061963 2.88248012]\u001b[0m\t \u001b[1m\u001b[92m1.0239145109053958\u001b[0m\t \u001b[1m\u001b[92m1.0239145109053958\u001b[0m\t \u001b[1m\u001b[92m4.414740154852413\u001b[0m\t \u001b[1m\u001b[92m5.023989618061668\u001b[0m\n",
            "18 \t [-1.52707094  6.9978374 ]\t 13.42586363502191\t 1.0239145109053958\t 5.2965704932990025\t 5.311746714520736\n",
            "19 \t [-1.42856749  1.19510368]\t 65.26859455646289\t 1.0239145109053958\t 5.355483513289965\t 5.674024725299121\n",
            "20 \t [10.          8.81339013]\t 35.70427836394819\t 1.0239145109053958\t 5.682684200313724\t 6.006588701817771\n"
          ]
        }
      ],
      "source": [
        "### EXACT GP EI GRADIENTS\n",
        "\n",
        "np.random.seed(run_num_2)\n",
        "surrogate_exact_2 = dGaussianProcess(cov_func, optimize=opt)\n",
        "\n",
        "exact_2 = dGPGO(surrogate_exact_2, Acquisition_grad(util), objfunc, param)\n",
        "exact_2.run(init_evals=n_init, max_iter=iters)\n"
      ]
    },
    {
      "cell_type": "code",
      "execution_count": 36,
      "metadata": {
        "id": "XieJ158mIvlP",
        "colab": {
          "base_uri": "https://localhost:8080/"
        },
        "outputId": "144a6b2b-980a-4155-92bd-97d66b53632a"
      },
      "outputs": [
        {
          "output_type": "stream",
          "name": "stdout",
          "text": [
            "Evaluation \t Proposed point \t  Current eval. \t  Best eval. \t        Exact EI: StdDev. x \t Approx EI: StdDev. x \n",
            "init\t [ 3.26196854 10.62221734]\t 71.68783452098575\t 18.07886746449891\t    \t    \n",
            "init\t [-0.63642892  7.66241408]\t 18.07886746449891\t 18.07886746449891\t    \t    \n",
            "init\t [ 8.39420432 13.44439633]\t 141.98653529865882\t 18.07886746449891\t    \t    \n",
            "init\t [-3.11622034  3.10864317]\t 83.31045707266176\t 18.07886746449891\t    \t    \n",
            "init\t [-4.22799195  6.61214765]\t 76.5294170688398\t 18.07886746449891\t    \t    \n",
            "1  \t [6.70472147 4.59545299]\t 30.726791812855225\t 18.07886746449891\t 4.402099176428831\t 4.5324596575942495\n",
            "\u001b[1m\u001b[92m2\u001b[0m\t \u001b[1m\u001b[92m[-3.89564496 13.38589781]\u001b[0m\t \u001b[1m\u001b[92m3.6010193697779265\u001b[0m\t \u001b[1m\u001b[92m3.6010193697779265\u001b[0m\t \u001b[1m\u001b[92m5.874212059781057\u001b[0m\t \u001b[1m\u001b[92m6.119506956575642\u001b[0m\n",
            "3  \t [ 0.53511805 15.        ]\t 114.58765716763713\t 3.6010193697779265\t 5.559519807316652\t 6.120596128588412\n",
            "4  \t [3.11133413 0.        ]\t 5.686376470456184\t 3.6010193697779265\t 4.234811103024413\t 4.496638240588852\n",
            "5  \t [9.70346787 8.50929412]\t 34.28297118578492\t 3.6010193697779265\t 4.947543973652955\t 5.530459940834253\n",
            "6  \t [9.9367654  0.73581581]\t 6.490812722618764\t 3.6010193697779265\t 4.6882004498204495\t 4.682673573644713\n",
            "7  \t [-0.6195202  11.33294215]\t 36.28496106529289\t 3.6010193697779265\t 4.449244248391689\t 4.161287910098959\n",
            "8  \t [1.56074043 4.20064923]\t 10.233428734977783\t 3.6010193697779265\t 5.187788692897206\t 5.021356828053472\n",
            "9  \t [-2.53287617  0.2265116 ]\t 115.19315667597515\t 3.6010193697779265\t 4.385759292396832\t 4.21234519087257\n",
            "10 \t [6.54561084 0.        ]\t 20.52161785545228\t 3.6010193697779265\t 4.259092243809748\t 4.490301201221232\n",
            "11 \t [6.0458577  8.12119653]\t 68.63406939804878\t 3.6010193697779265\t 5.166650483821477\t 5.493560158281362\n",
            "12 \t [ 4.68107407 14.96625596]\t 194.26970941980653\t 3.6010193697779265\t 4.5278838529263625\t 4.8663781344300645\n",
            "13 \t [-5.         10.50373468]\t 57.39460205302869\t 3.6010193697779265\t 5.324922210373382\t 5.603290034418192\n",
            "14 \t [2.43309701 7.10720069]\t 20.47348795811149\t 3.6010193697779265\t 5.373518612813064\t 5.384262446504263\n",
            "15 \t [10.          4.55181794]\t 4.342112083281274\t 3.6010193697779265\t 5.323031783137355\t 5.886871813718536\n",
            "16 \t [0.9476583  1.34257093]\t 26.265185563975166\t 3.6010193697779265\t 5.514548985988619\t 5.491072216926055\n",
            "17 \t [3.89175399 3.17224744]\t 4.9621850236122365\t 3.6010193697779265\t 5.1518143394157105\t 5.36188887297415\n",
            "18 \t [8.48415476 2.47485514]\t 4.802652555865299\t 3.6010193697779265\t 5.189001198439178\t 5.484944579580013\n",
            "19 \t [4.7187222  1.72006089]\t 10.185897482463801\t 3.6010193697779265\t 5.195008407967038\t 5.022585660787516\n",
            "20 \t [-0.75272331  5.17702483]\t 21.393441640847428\t 3.6010193697779265\t 4.1114110430227795\t 3.8129023066864782\n"
          ]
        }
      ],
      "source": [
        "### EXACT GP EI GRADIENTS\n",
        "\n",
        "np.random.seed(run_num_3)\n",
        "surrogate_exact_3 = dGaussianProcess(cov_func, optimize=opt)\n",
        "\n",
        "exact_3 = dGPGO(surrogate_exact_3, Acquisition_grad(util), objfunc, param)\n",
        "exact_3.run(init_evals=n_init, max_iter=iters)\n"
      ]
    },
    {
      "cell_type": "code",
      "execution_count": 37,
      "metadata": {
        "id": "PhLBVOIfIvol",
        "colab": {
          "base_uri": "https://localhost:8080/"
        },
        "outputId": "318d32a7-fe4d-4133-ed07-6b8f6b94ca32"
      },
      "outputs": [
        {
          "output_type": "stream",
          "name": "stdout",
          "text": [
            "Evaluation \t Proposed point \t  Current eval. \t  Best eval. \t        Exact EI: StdDev. x \t Approx EI: StdDev. x \n",
            "init\t [9.50544759 8.20848374]\t 32.51676744781521\t 7.247126865776948\t    \t    \n",
            "init\t [ 9.5902654  10.72223991]\t 66.20566674364716\t 7.247126865776948\t    \t    \n",
            "init\t [5.46593237 3.24134243]\t 20.90089401680587\t 7.247126865776948\t    \t    \n",
            "init\t [9.64411682 0.09345383]\t 7.247126865776948\t 7.247126865776948\t    \t    \n",
            "init\t [-1.20526456  6.52187299]\t 15.941376982363263\t 7.247126865776948\t    \t    \n",
            "1  \t [-5.  0.]\t 308.12909601160663\t 7.247126865776948\t 5.271989464069712\t 5.748331886405332\n",
            "2  \t [ 1.1294018  14.15696259]\t 109.93986979623045\t 7.247126865776948\t 5.3633368606094205\t 5.55926321816748\n",
            "3  \t [1.01107069 0.        ]\t 35.554826707809156\t 7.247126865776948\t 5.255427176061783\t 5.510322688158594\n",
            "4  \t [3.23218268 8.99706827]\t 46.56384602934775\t 7.247126865776948\t 4.838072506468379\t 5.287048471784001\n",
            "5  \t [-4.71931664 12.72607102]\t 23.47782987479111\t 7.247126865776948\t 5.39539237978254\t 6.260033667269982\n",
            "6  \t [ 6.54237273 15.        ]\t 212.0210607174384\t 7.247126865776948\t 4.865336775046842\t 5.243175053608674\n",
            "7  \t [-5.          4.97123958]\t 161.95735144062687\t 7.247126865776948\t 4.79331008335714\t 4.924626262102604\n",
            "\u001b[1m\u001b[92m8\u001b[0m\t \u001b[1m\u001b[92m[9.02535081 4.41775622]\u001b[0m\t \u001b[1m\u001b[92m6.257130409697806\u001b[0m\t \u001b[1m\u001b[92m6.257130409697806\u001b[0m\t \u001b[1m\u001b[92m4.018693807933599\u001b[0m\t \u001b[1m\u001b[92m4.09903272569043\u001b[0m\n",
            "9  \t [-1.66747037 10.74580077]\t 12.075583092561683\t 6.257130409697806\t 5.0255263494652915\t 5.05492917520777\n",
            "10 \t [-1.14870967  2.88992831]\t 40.03311016175269\t 6.257130409697806\t 5.704459259772265\t 5.585277976985678\n",
            "11 \t [2.30621771 4.92833989]\t 7.212593938941006\t 6.257130409697806\t 4.94389535000508\t 5.068575578913299\n",
            "12 \t [-4.78210044  9.01143995]\t 67.72817440816127\t 6.257130409697806\t 4.809460836896015\t 5.17752412745458\n",
            "13 \t [4.98289101 0.        ]\t 14.1966391438109\t 6.257130409697806\t 5.026680168622899\t 5.280337567701507\n",
            "14 \t [6.14503446 6.75154276]\t 51.47240275629184\t 6.257130409697806\t 4.685423546841581\t 4.364475602999553\n",
            "15 \t [10. 15.]\t 145.87219087939556\t 6.257130409697806\t 4.840472978649035\t 4.508717108847282\n",
            "16 \t [-2.31940994 14.86579944]\t 23.52937322780063\t 6.257130409697806\t 4.954356793438333\t 5.092865518104469\n",
            "17 \t [ 5.97759725 11.05583517]\t 118.2293824651525\t 6.257130409697806\t 5.311460879503478\t 5.139563604014456\n",
            "\u001b[1m\u001b[92m18\u001b[0m\t \u001b[1m\u001b[92m[2.81891202 2.33673074]\u001b[0m\t \u001b[1m\u001b[92m0.9348218204625756\u001b[0m\t \u001b[1m\u001b[92m0.9348218204625756\u001b[0m\t \u001b[1m\u001b[92m4.513898630019972\u001b[0m\t \u001b[1m\u001b[92m4.710947624334847\u001b[0m\n",
            "19 \t [8.122305   1.74929378]\t 7.477989934904331\t 0.9348218204625756\t 5.02554868652554\t 5.30815968735285\n",
            "20 \t [ 0.81186795 10.58999841]\t 50.212582057427106\t 0.9348218204625756\t 4.787230284979617\t 4.727491853056876\n"
          ]
        }
      ],
      "source": [
        "### EXACT GP EI GRADIENTS\n",
        "\n",
        "np.random.seed(run_num_4)\n",
        "surrogate_exact_4 = dGaussianProcess(cov_func, optimize=opt)\n",
        "\n",
        "exact_4 = dGPGO(surrogate_exact_4, Acquisition_grad(util), objfunc, param)\n",
        "exact_4.run(init_evals=n_init, max_iter=iters)\n"
      ]
    },
    {
      "cell_type": "code",
      "execution_count": 38,
      "metadata": {
        "id": "arbiPyj2IvsJ",
        "colab": {
          "base_uri": "https://localhost:8080/"
        },
        "outputId": "8e412eeb-1cbe-4595-8fcf-96f9f5018383"
      },
      "outputs": [
        {
          "output_type": "stream",
          "name": "stdout",
          "text": [
            "Evaluation \t Proposed point \t  Current eval. \t  Best eval. \t        Exact EI: StdDev. x \t Approx EI: StdDev. x \n",
            "init\t [-1.67010243 13.06098459]\t 25.390690545664548\t 25.311309190989615\t    \t    \n",
            "init\t [-1.89921267 13.77916362]\t 25.311309190989615\t 25.311309190989615\t    \t    \n",
            "init\t [2.32616783 9.17615794]\t 41.60147975414021\t 25.311309190989615\t    \t    \n",
            "init\t [6.48861785 7.77626982]\t 63.81281921768236\t 25.311309190989615\t    \t    \n",
            "init\t [-0.54799248  2.81581843]\t 34.966203644931994\t 25.311309190989615\t    \t    \n",
            "\u001b[1m\u001b[92m1\u001b[0m\t \u001b[1m\u001b[92m[8.84124421 0.03321319]\u001b[0m\t \u001b[1m\u001b[92m5.96108856337545\u001b[0m\t \u001b[1m\u001b[92m5.96108856337545\u001b[0m\t \u001b[1m\u001b[92m6.242403489909564\u001b[0m\t \u001b[1m\u001b[92m6.208743753563759\u001b[0m\n",
            "2  \t [ 8.39476442 14.47736321]\t 167.21523769473345\t 5.96108856337545\t 5.6578963694911035\t 5.468399736609172\n",
            "3  \t [-5.          8.10986515]\t 95.12466680670255\t 5.96108856337545\t 5.540662303799341\t 5.616861827024229\n",
            "4  \t [-5.  0.]\t 308.12909601160663\t 5.96108856337545\t 5.141833667094785\t 5.56718785217153\n",
            "5  \t [4.68041959 2.64376529]\t 11.288061329654056\t 5.96108856337545\t 4.901728882789568\t 5.09475552848999\n",
            "6  \t [ 3.07485242 14.94793353]\t 159.6914920096218\t 5.96108856337545\t 5.44730370184961\t 6.09873557298452\n",
            "\u001b[1m\u001b[92m7\u001b[0m\t \u001b[1m\u001b[92m[10.          4.34286402]\u001b[0m\t \u001b[1m\u001b[92m3.738492541321359\u001b[0m\t \u001b[1m\u001b[92m3.738492541321359\u001b[0m\t \u001b[1m\u001b[92m4.296366162043162\u001b[0m\t \u001b[1m\u001b[92m4.327290873672618\u001b[0m\n",
            "8  \t [10.         10.27581248]\t 54.83757329070061\t 3.738492541321359\t 4.694653043683441\t 4.724749067211645\n",
            "9  \t [-1.03519792  6.99126788]\t 15.53210397903008\t 3.738492541321359\t 4.4479435407231565\t 4.680316013242962\n",
            "10 \t [-4.87522279  4.21394897]\t 170.71102908806404\t 3.738492541321359\t 5.537182437405818\t 5.56067576823577\n",
            "11 \t [2.06982231 0.        ]\t 16.027247417193454\t 3.738492541321359\t 4.144117878923084\t 4.598992774301063\n",
            "12 \t [-5.         12.15297558]\t 38.06878161278433\t 3.738492541321359\t 5.137945653461073\t 5.315371164028722\n",
            "13 \t [2.33452895 5.41477519]\t 9.24558006183136\t 3.738492541321359\t 4.7656129558774385\t 4.758182383713252\n",
            "14 \t [6.54425406 4.56515632]\t 31.16573156949684\t 3.738492541321359\t 4.769823286531378\t 4.849561127801639\n",
            "15 \t [ 6.6657743  11.06795891]\t 117.64930528535555\t 3.738492541321359\t 4.678803938613167\t 4.7301362924637305\n",
            "16 \t [-0.74857815  9.80931008]\t 23.51472972870166\t 3.738492541321359\t 4.762192705259334\t 4.6316595522486015\n",
            "17 \t [10.          6.77140164]\t 16.144318607650213\t 3.738492541321359\t 4.296178296680993\t 4.695069010299358\n",
            "18 \t [-1.19292359  0.        ]\t 78.86839901179698\t 3.738492541321359\t 5.263249513330764\t 5.369695854812994\n",
            "\u001b[1m\u001b[92m19\u001b[0m\t \u001b[1m\u001b[92m[9.35759935 2.37003592]\u001b[0m\t \u001b[1m\u001b[92m0.421935515032267\u001b[0m\t \u001b[1m\u001b[92m0.421935515032267\u001b[0m\t \u001b[1m\u001b[92m4.70830035777792\u001b[0m\t \u001b[1m\u001b[92m4.811476649994591\u001b[0m\n",
            "20 \t [10.          2.09532251]\t 2.7669403081998123\t 0.421935515032267\t 4.6790203778270625\t 4.7264343685697705\n"
          ]
        }
      ],
      "source": [
        "### EXACT GP EI GRADIENTS\n",
        "\n",
        "np.random.seed(run_num_5)\n",
        "surrogate_exact_5 = dGaussianProcess(cov_func, optimize=opt)\n",
        "\n",
        "exact_5 = dGPGO(surrogate_exact_5, Acquisition_grad(util), objfunc, param)\n",
        "exact_5.run(init_evals=n_init, max_iter=iters)\n"
      ]
    },
    {
      "cell_type": "code",
      "execution_count": 39,
      "metadata": {
        "id": "04KJCEm_Ivvf",
        "colab": {
          "base_uri": "https://localhost:8080/"
        },
        "outputId": "8a709fe1-913c-4e22-8546-e2a65d4d00a3"
      },
      "outputs": [
        {
          "output_type": "stream",
          "name": "stdout",
          "text": [
            "Evaluation \t Proposed point \t  Current eval. \t  Best eval. \t        Exact EI: StdDev. x \t Approx EI: StdDev. x \n",
            "init\t [8.39290227 4.97969708]\t 15.553860636684597\t 15.31731051317483\t    \t    \n",
            "init\t [7.31843685 0.62544939]\t 15.31731051317483\t 15.31731051317483\t    \t    \n",
            "init\t [-3.3851498   8.92578096]\t 16.222288919361837\t 15.31731051317483\t    \t    \n",
            "init\t [2.94726043 6.28211143]\t 15.406373581304088\t 15.31731051317483\t    \t    \n",
            "init\t [0.03111774 9.33779148]\t 31.07053245856209\t 15.31731051317483\t    \t    \n",
            "1  \t [10. 15.]\t 145.87219087939556\t 15.31731051317483\t 5.416473913639316\t 5.6767114585495415\n",
            "2  \t [-2.67838097  0.        ]\t 126.61486786700603\t 15.31731051317483\t 5.917379916138948\t 5.809320467637314\n",
            "3  \t [ 4.34724927 14.59608757]\t 177.48889452505895\t 15.31731051317483\t 5.301645063832075\t 5.3471848286070145\n",
            "4  \t [-1.30746846 14.41632538]\t 49.88755953556025\t 15.31731051317483\t 5.91932709229756\t 6.571181255183814\n",
            "5  \t [8.13676748 9.89528697]\t 76.08522805324013\t 15.31731051317483\t 5.256081262434423\t 5.170530644989898\n",
            "6  \t [-5.          4.50612463]\t 173.5374838335397\t 15.31731051317483\t 5.794468454383353\t 5.753587762205405\n",
            "\u001b[1m\u001b[92m7\u001b[0m\t \u001b[1m\u001b[92m[2.56065162 0.        ]\u001b[0m\t \u001b[1m\u001b[92m9.65519629652384\u001b[0m\t \u001b[1m\u001b[92m9.65519629652384\u001b[0m\t \u001b[1m\u001b[92m5.725435197799229\u001b[0m\t \u001b[1m\u001b[92m5.946208603109806\u001b[0m\n",
            "8  \t [-0.66310856  5.01981229]\t 21.945235150727513\t 9.65519629652384\t 5.124516838789546\t 5.07545838670942\n",
            "9  \t [5.57672442 8.22374038]\t 67.45521325732554\t 9.65519629652384\t 4.721706681406535\t 4.650028573883155\n",
            "\u001b[1m\u001b[92m10\u001b[0m\t \u001b[1m\u001b[92m[2.89081943 3.07178535]\u001b[0m\t \u001b[1m\u001b[92m1.0499933199010147\u001b[0m\t \u001b[1m\u001b[92m1.0499933199010147\u001b[0m\t \u001b[1m\u001b[92m4.8149803913249105\u001b[0m\t \u001b[1m\u001b[92m5.508022017312914\u001b[0m\n",
            "11 \t [-4.83671344 12.1991182 ]\t 31.628938411402274\t 1.0499933199010147\t 5.457440662049493\t 5.997078609594953\n",
            "12 \t [5.24064045 3.49860895]\t 20.09013318586471\t 1.0499933199010147\t 5.356963442613489\t 5.235240511510239\n",
            "13 \t [-2.35948288  2.63627018]\t 64.62465195408333\t 1.0499933199010147\t 5.1698490126386885\t 4.9770999526918205\n",
            "14 \t [10.          2.42434163]\t 2.2779359530325296\t 1.0499933199010147\t 4.518958352217227\t 5.096591744354235\n",
            "15 \t [ 2.89344444 11.04157831]\t 74.0529961126017\t 1.0499933199010147\t 5.522934078024176\t 5.84881373681928\n",
            "16 \t [1.56965686 2.57203855]\t 11.56860179736689\t 1.0499933199010147\t 4.801519949403576\t 5.0334682920906175\n",
            "17 \t [4.79185083 0.01439838]\t 12.519009865422309\t 1.0499933199010147\t 5.300821357508323\t 5.41857724090149\n",
            "18 \t [-2.00739214 11.48281845]\t 9.063345388716673\t 1.0499933199010147\t 5.058779965996951\t 5.28130453578693\n",
            "19 \t [-4.0083223  14.75508283]\t 3.8743809675987535\t 1.0499933199010147\t 6.162009783594696\t 6.407359915083632\n",
            "20 \t [10.          3.27429568]\t 2.0167655552872485\t 1.0499933199010147\t 5.452160161482043\t 5.490384025051863\n"
          ]
        }
      ],
      "source": [
        "### EXACT GP EI GRADIENTS\n",
        "\n",
        "np.random.seed(run_num_6)\n",
        "surrogate_exact_6 = dGaussianProcess(cov_func, optimize=opt)\n",
        "\n",
        "exact_6 = dGPGO(surrogate_exact_6, Acquisition_grad(util), objfunc, param)\n",
        "exact_6.run(init_evals=n_init, max_iter=iters)\n"
      ]
    },
    {
      "cell_type": "code",
      "execution_count": 40,
      "metadata": {
        "id": "tAOkme3CIvyO",
        "colab": {
          "base_uri": "https://localhost:8080/"
        },
        "outputId": "479da39b-9237-4d56-d645-a35102cf23e7"
      },
      "outputs": [
        {
          "output_type": "stream",
          "name": "stdout",
          "text": [
            "Evaluation \t Proposed point \t  Current eval. \t  Best eval. \t        Exact EI: StdDev. x \t Approx EI: StdDev. x \n",
            "init\t [-3.85537566 11.69878188]\t 8.299317850233932\t 5.211335324193094\t    \t    \n",
            "init\t [ 1.57613847 10.85197767]\t 59.50408380701259\t 5.211335324193094\t    \t    \n",
            "init\t [9.66984268 8.07743806]\t 29.714921414987273\t 5.211335324193094\t    \t    \n",
            "init\t [2.51680695 1.080767  ]\t 5.211335324193094\t 5.211335324193094\t    \t    \n",
            "init\t [-0.9734153   7.49823751]\t 15.431057204948033\t 5.211335324193094\t    \t    \n",
            "1  \t [-4.97859679  1.38393519]\t 260.3293952774437\t 5.211335324193094\t 4.3220330688703905\t 4.42140261603025\n",
            "2  \t [ 7.80155495 14.72615764]\t 186.86153570538508\t 5.211335324193094\t 5.64814606800707\t 5.633834196146552\n",
            "3  \t [8.08940775 0.35854539]\t 9.249625108410735\t 5.211335324193094\t 5.431240345337933\t 5.892289650100062\n",
            "4  \t [-3.39684884  5.54228873]\t 54.79871094423047\t 5.211335324193094\t 4.513781467363462\t 4.684343925138193\n",
            "5  \t [4.93717413 5.49891249]\t 29.845086555570777\t 5.211335324193094\t 5.041449344647964\t 5.682461354584287\n",
            "6  \t [-0.76126859 15.        ]\t 76.4502145210903\t 5.211335324193094\t 5.727841432866783\t 6.601458469690593\n",
            "\u001b[1m\u001b[92m7\u001b[0m\t \u001b[1m\u001b[92m[10.          3.83258422]\u001b[0m\t \u001b[1m\u001b[92m2.6314226354824584\u001b[0m\t \u001b[1m\u001b[92m2.6314226354824584\u001b[0m\t \u001b[1m\u001b[92m4.7405496834649306\u001b[0m\t \u001b[1m\u001b[92m5.142827982900336\u001b[0m\n",
            "8  \t [5.98744485 9.67721516]\t 92.72153836394546\t 2.6314226354824584\t 5.32604620017307\t 5.487100073566519\n",
            "9  \t [-0.74275876  0.        ]\t 69.68488488234455\t 2.6314226354824584\t 5.590170014208042\t 5.8917310808583485\n",
            "10 \t [-4.7803007  14.79125203]\t 13.780473177305767\t 2.6314226354824584\t 4.887866273520761\t 5.402079958734856\n",
            "11 \t [1.29699254 4.02585581]\t 12.612555104465851\t 2.6314226354824584\t 4.766190912841026\t 5.028478115594501\n",
            "12 \t [ 3.4997838  14.59788967]\t 159.40599219063606\t 2.6314226354824584\t 5.054700399990366\t 4.94972603645915\n",
            "13 \t [5.42061979 1.82772627]\t 16.680457566017523\t 2.6314226354824584\t 4.341266849807919\t 4.128519994333313\n",
            "14 \t [2.28546468 7.23691143]\t 21.343444616260573\t 2.6314226354824584\t 4.409979482364623\t 4.617918116410186\n",
            "15 \t [-5.          8.84822644]\t 82.26490279299715\t 2.6314226354824584\t 5.530307800865057\t 5.589598981394925\n",
            "16 \t [7.95415311 5.6569449 ]\t 26.204662661616666\t 2.6314226354824584\t 5.288728748151813\t 5.086183910253936\n",
            "17 \t [-1.30664257  3.23533845]\t 38.159303333794156\t 2.6314226354824584\t 4.1031813962220385\t 4.409610715941556\n",
            "18 \t [10.         11.71040965]\t 77.76287912447607\t 2.6314226354824584\t 4.995958494689789\t 5.132651176367349\n",
            "19 \t [-1.59861314 11.39835452]\t 16.10322468449581\t 2.6314226354824584\t 5.073174015982274\t 5.144548455523329\n",
            "20 \t [10.          1.97251209]\t 3.004956564829926\t 2.6314226354824584\t 4.499817910314734\t 4.9137726096501675\n"
          ]
        }
      ],
      "source": [
        "### EXACT GP EI GRADIENTS\n",
        "\n",
        "np.random.seed(run_num_7)\n",
        "surrogate_exact_7 = dGaussianProcess(cov_func, optimize=opt)\n",
        "\n",
        "exact_7 = dGPGO(surrogate_exact_7, Acquisition_grad(util), objfunc, param)\n",
        "exact_7.run(init_evals=n_init, max_iter=iters)\n"
      ]
    },
    {
      "cell_type": "code",
      "execution_count": 41,
      "metadata": {
        "id": "69-J3EF4Iv1S",
        "colab": {
          "base_uri": "https://localhost:8080/"
        },
        "outputId": "42f453fb-0611-4cc4-d5a9-33279660e437"
      },
      "outputs": [
        {
          "output_type": "stream",
          "name": "stdout",
          "text": [
            "Evaluation \t Proposed point \t  Current eval. \t  Best eval. \t        Exact EI: StdDev. x \t Approx EI: StdDev. x \n",
            "init\t [ 8.10144104 14.52810994]\t 175.17297136347514\t 15.416245468470875\t    \t    \n",
            "init\t [8.0379181  7.96283537]\t 49.32173799887473\t 15.416245468470875\t    \t    \n",
            "init\t [-1.50907508  0.17098206]\t 83.26753461673219\t 15.416245468470875\t    \t    \n",
            "init\t [1.45703227 6.0352704 ]\t 15.416245468470875\t 15.416245468470875\t    \t    \n",
            "init\t [2.84012007 7.17587694]\t 22.49093277852639\t 15.416245468470875\t    \t    \n",
            "\u001b[1m\u001b[92m1\u001b[0m\t \u001b[1m\u001b[92m[9.77124156 0.43098073]\u001b[0m\t \u001b[1m\u001b[92m6.499298445992174\u001b[0m\t \u001b[1m\u001b[92m6.499298445992174\u001b[0m\t \u001b[1m\u001b[92m5.244961970670866\u001b[0m\t \u001b[1m\u001b[92m5.668869685334021\u001b[0m\n",
            "2  \t [-4.87537438 11.82874897]\t 36.57081146531108\t 6.499298445992174\t 5.308224239671212\t 5.416866692563446\n",
            "3  \t [-0.06146391 15.        ]\t 98.82405002647226\t 6.499298445992174\t 4.939417304118056\t 5.731811372251875\n",
            "4  \t [4.4595038 0.8533709]\t 7.979766606771776\t 6.499298445992174\t 5.07625628604092\t 5.422455455023861\n",
            "5  \t [-5.         6.0933586]\t 135.8006206439636\t 6.499298445992174\t 5.4021399260642555\t 5.18892332713384\n",
            "6  \t [-0.59967171 10.08537949]\t 27.440988775280903\t 6.499298445992174\t 4.692938690197751\t 4.9433631490910965\n",
            "7  \t [ 3.81402265 11.86667675]\t 103.64479606779845\t 6.499298445992174\t 4.986964655535103\t 5.220647137644336\n",
            "8  \t [7.40395628 3.60928367]\t 19.51908227657733\t 6.499298445992174\t 5.073834754052323\t 4.97191702257832\n",
            "9  \t [1.15423972 2.8903799 ]\t 15.972303814139973\t 6.499298445992174\t 4.691851191343355\t 5.174049301655857\n",
            "10 \t [-5.          1.23092166]\t 267.3316770126038\t 6.499298445992174\t 5.855738597256932\t 6.081650995444702\n",
            "11 \t [ 9.90288513 11.22122281]\t 70.58720754528233\t 6.499298445992174\t 5.042638720816599\t 5.312533753634771\n",
            "12 \t [-1.45457497  5.37896212]\t 21.413662906957107\t 6.499298445992174\t 4.542163256576779\t 4.737493353872133\n",
            "13 \t [4.34653766 3.81561406]\t 11.821552398433539\t 6.499298445992174\t 4.4646471991506695\t 4.600851666525468\n",
            "\u001b[1m\u001b[92m14\u001b[0m\t \u001b[1m\u001b[92m[-3.66780073 14.9794794 ]\u001b[0m\t \u001b[1m\u001b[92m3.6683923541112007\u001b[0m\t \u001b[1m\u001b[92m3.6683923541112007\u001b[0m\t \u001b[1m\u001b[92m5.562152137013774\u001b[0m\t \u001b[1m\u001b[92m6.348067808309381\u001b[0m\n",
            "15 \t [6.91978505 0.04950909]\t 18.982638453333138\t 3.6683923541112007\t 4.48358631256277\t 4.898745403091133\n",
            "16 \t [1.72816761 0.30640526]\t 19.577029373709163\t 3.6683923541112007\t 4.0629041090553635\t 4.234239394796094\n",
            "17 \t [10.          5.72155397]\t 9.33391232056654\t 3.6683923541112007\t 5.410416215247061\t 5.682572760063217\n",
            "18 \t [ 4.67524484 15.        ]\t 195.0709927952468\t 3.6683923541112007\t 5.798383931123237\t 5.709291715140054\n",
            "19 \t [5.38118116 6.48194153]\t 44.102513813882524\t 3.6683923541112007\t 4.395139062379838\t 4.47918569005361\n",
            "20 \t [-3.50403068  9.20597036]\t 16.67973291324366\t 3.6683923541112007\t 4.324224513776058\t 4.86993316340847\n"
          ]
        }
      ],
      "source": [
        "### EXACT GP EI GRADIENTS\n",
        "\n",
        "np.random.seed(run_num_8)\n",
        "surrogate_exact_8 = dGaussianProcess(cov_func, optimize=opt)\n",
        "\n",
        "exact_8 = dGPGO(surrogate_exact_8, Acquisition_grad(util), objfunc, param)\n",
        "exact_8.run(init_evals=n_init, max_iter=iters)\n"
      ]
    },
    {
      "cell_type": "code",
      "execution_count": 42,
      "metadata": {
        "id": "vonm9jyuIv4t",
        "colab": {
          "base_uri": "https://localhost:8080/"
        },
        "outputId": "e14440c9-8dcb-4742-9b42-e05e0e54b8d7"
      },
      "outputs": [
        {
          "output_type": "stream",
          "name": "stdout",
          "text": [
            "Evaluation \t Proposed point \t  Current eval. \t  Best eval. \t        Exact EI: StdDev. x \t Approx EI: StdDev. x \n",
            "init\t [-4.84438769  7.52811888]\t 96.15564306553264\t 3.4640248583909496\t    \t    \n",
            "init\t [2.4365994  2.00744293]\t 3.4640248583909496\t 3.4640248583909496\t    \t    \n",
            "init\t [-2.86833372  3.27838013]\t 70.46930174488207\t 3.4640248583909496\t    \t    \n",
            "init\t [1.27762271 3.72151753]\t 12.982825924833865\t 3.4640248583909496\t    \t    \n",
            "init\t [-3.73910523  5.1824796 ]\t 75.58547400560856\t 3.4640248583909496\t    \t    \n",
            "1  \t [ 7.05609655 14.75038872]\t 200.4388688685465\t 3.4640248583909496\t 5.562487311500015\t 5.668175250305087\n",
            "2  \t [-0.46054038 14.56197292]\t 79.4666617606301\t 3.4640248583909496\t 5.3059226593904505\t 5.02483024244295\n",
            "3  \t [8.28747407 1.2035024 ]\t 6.196385269800155\t 3.4640248583909496\t 4.840465996483128\t 4.4653438182993055\n",
            "4  \t [4.57208176 9.16642126]\t 68.60581850295517\t 3.4640248583909496\t 4.820500509685291\t 4.791794691107002\n",
            "5  \t [10.          6.41094566]\t 13.557530071759565\t 3.4640248583909496\t 5.710441272087044\t 4.986151919741268\n",
            "6  \t [5.8912128  4.49095395]\t 30.322494073443522\t 3.4640248583909496\t 5.020094971596057\t 5.198710345386469\n",
            "7  \t [-0.25390999  9.35697333]\t 27.964529725443967\t 3.4640248583909496\t 5.496625021807888\t 6.057126450599499\n",
            "8  \t [-0.32407797  0.        ]\t 61.73473466093925\t 3.4640248583909496\t 4.7965880923008815\t 5.074194953728596\n",
            "9  \t [10.         10.78990116]\t 62.579646216330644\t 3.4640248583909496\t 5.445818161629808\t 6.006570705102378\n",
            "10 \t [4.90384189 0.        ]\t 13.522031488272372\t 3.4640248583909496\t 3.9707192708212693\t 5.496168158867412\n",
            "11 \t [-5.         12.65482981]\t 33.267585144709244\t 3.4640248583909496\t 5.819882206416626\t 5.719028548890371\n",
            "12 \t [-5.  0.]\t 308.12909601160663\t 3.4640248583909496\t 5.234041746151335\t 5.000732977796551\n",
            "13 \t [ 3.16990412 14.74787517]\t 156.52302650660098\t 3.4640248583909496\t 4.878807575024314\t 4.752839425187268\n",
            "\u001b[1m\u001b[92m14\u001b[0m\t \u001b[1m\u001b[92m[9.14851126 3.71728919]\u001b[0m\t \u001b[1m\u001b[92m2.909586327372441\u001b[0m\t \u001b[1m\u001b[92m2.909586327372441\u001b[0m\t \u001b[1m\u001b[92m4.157747068891991\u001b[0m\t \u001b[1m\u001b[92m4.187703844619057\u001b[0m\n",
            "15 \t [0.59112688 6.42226502]\t 19.709704572558348\t 2.909586327372441\t 4.8497091581862986\t 4.811189356473794\n",
            "16 \t [ 2.10212761 11.29185157]\t 70.205353478914\t 2.909586327372441\t 5.325920917107261\t 5.032264307844331\n",
            "17 \t [-2.31649307 11.64126192]\t 5.075814329907596\t 2.909586327372441\t 5.419708817885848\t 5.356626122776143\n",
            "18 \t [7.43570493 9.37338964]\t 78.94621114259327\t 2.909586327372441\t 5.576946646607033\t 5.456178087123178\n",
            "19 \t [-3.69570719 15.        ]\t 3.667091562175994\t 2.909586327372441\t 4.097093090958231\t 4.169500866598214\n",
            "20 \t [3.36686089 5.99688546]\t 15.78043073149885\t 2.909586327372441\t 4.893005607577772\t 5.130280844695929\n"
          ]
        }
      ],
      "source": [
        "### EXACT GP EI GRADIENTS\n",
        "\n",
        "np.random.seed(run_num_9)\n",
        "surrogate_exact_9 = dGaussianProcess(cov_func, optimize=opt)\n",
        "\n",
        "exact_9 = dGPGO(surrogate_exact_9, Acquisition_grad(util), objfunc, param)\n",
        "exact_9.run(init_evals=n_init, max_iter=iters)\n"
      ]
    },
    {
      "cell_type": "code",
      "execution_count": 43,
      "metadata": {
        "id": "6amuYlUdIv7r",
        "colab": {
          "base_uri": "https://localhost:8080/"
        },
        "outputId": "4b346241-5429-41b1-edfe-cbf1786c97cf"
      },
      "outputs": [
        {
          "output_type": "stream",
          "name": "stdout",
          "text": [
            "Evaluation \t Proposed point \t  Current eval. \t  Best eval. \t        Exact EI: StdDev. x \t Approx EI: StdDev. x \n",
            "init\t [6.56980965 0.31127924]\t 19.863985024602144\t 2.710610964564512\t    \t    \n",
            "init\t [ 4.50472352 11.23205824]\t 103.66999147252169\t 2.710610964564512\t    \t    \n",
            "init\t [2.47760518 3.37194968]\t 2.710610964564512\t 2.710610964564512\t    \t    \n",
            "init\t [-2.02905703 11.40796068]\t 8.463930835255017\t 2.710610964564512\t    \t    \n",
            "init\t [-2.46333745  1.32509721]\t 90.49481266026973\t 2.710610964564512\t    \t    \n",
            "1  \t [ 9.16391068 14.81438212]\t 158.2412724465548\t 2.710610964564512\t 4.633475185943144\t 4.856549088456732\n",
            "2  \t [9.65621089 6.61160737]\t 16.1339423373336\t 2.710610964564512\t 4.531868088882084\t 4.758158781666425\n",
            "3  \t [-3.43070383  6.59407857]\t 41.58407101130534\t 2.710610964564512\t 4.536756511980913\t 4.592997361837028\n",
            "4  \t [ 0.96818967 15.        ]\t 124.01515892955138\t 2.710610964564512\t 5.470472997031114\t 5.650929279068344\n",
            "5  \t [5.26562048 6.20098174]\t 40.04142137111575\t 2.710610964564512\t 5.645669573352071\t 5.562492799286428\n",
            "6  \t [2.03162754 0.        ]\t 16.61852349658511\t 2.710610964564512\t 5.443717372933272\t 5.306154412290345\n",
            "7  \t [1.01047236 7.61600466]\t 24.66556920032004\t 2.710610964564512\t 4.725850226600163\t 6.096965334928671\n",
            "8  \t [-5.         10.18073998]\t 61.81647870589653\t 2.710610964564512\t 5.462568286554543\t 5.71692233267667\n",
            "9  \t [10.         10.49394986]\t 58.05812065646675\t 2.710610964564512\t 5.277941261539762\t 5.537861997010193\n",
            "10 \t [7.94022218 3.57703498]\t 13.456090850501838\t 2.710610964564512\t 5.170651422255862\t 5.267993008278892\n",
            "11 \t [-0.11817124  4.32816224]\t 23.001137198523924\t 2.710610964564512\t 4.418789267720502\t 4.771592565181004\n",
            "12 \t [-2.762562   14.08230486]\t 8.367504114526518\t 2.710610964564512\t 5.189404215413839\t 5.579941425138951\n",
            "13 \t [-5.          3.66717233]\t 195.51922766847932\t 2.710610964564512\t 5.216043499168967\t 5.611960770193241\n",
            "14 \t [ 5.39036255 14.85363852]\t 203.1398502099884\t 2.710610964564512\t 4.829165464126217\t 5.418040902399612\n",
            "15 \t [ 0.65134136 11.25312588]\t 56.51103445783228\t 2.710610964564512\t 5.604548881114506\t 5.398227850235908\n",
            "16 \t [7.30050102 8.6136563 ]\t 69.0342520627292\t 2.710610964564512\t 5.578845441776996\t 5.792090874720108\n",
            "17 \t [ 7.05244435 12.41994017]\t 142.76454466467493\t 2.710610964564512\t 5.211417933880484\t 5.740256690170851\n",
            "18 \t [4.0886307  3.23652145]\t 6.901239750644848\t 2.710610964564512\t 3.8442369537222185\t 4.02896930827171\n",
            "\u001b[1m\u001b[92m19\u001b[0m\t \u001b[1m\u001b[92m[10.         2.8805344]\u001b[0m\t \u001b[1m\u001b[92m1.958127859145474\u001b[0m\t \u001b[1m\u001b[92m1.958127859145474\u001b[0m\t \u001b[1m\u001b[92m3.91363025340406\u001b[0m\t \u001b[1m\u001b[92m4.280208726280923\u001b[0m\n",
            "20 \t [-1.76204958  9.04997081]\t 8.198923946980754\t 1.958127859145474\t 5.3484233044543\t 5.454779966786346\n"
          ]
        }
      ],
      "source": [
        "### EXACT GP EI GRADIENTS\n",
        "\n",
        "np.random.seed(run_num_10)\n",
        "surrogate_exact_10 = dGaussianProcess(cov_func, optimize=opt)\n",
        "\n",
        "exact_10 = dGPGO(surrogate_exact_10, Acquisition_grad(util), objfunc, param)\n",
        "exact_10.run(init_evals=n_init, max_iter=iters)\n"
      ]
    },
    {
      "cell_type": "code",
      "execution_count": 44,
      "metadata": {
        "id": "VwbLIP9cIv-F",
        "colab": {
          "base_uri": "https://localhost:8080/"
        },
        "outputId": "b4acc156-684c-4710-e2bc-92dc740debbb"
      },
      "outputs": [
        {
          "output_type": "stream",
          "name": "stdout",
          "text": [
            "Evaluation \t Proposed point \t  Current eval. \t  Best eval. \t        Exact EI: StdDev. x \t Approx EI: StdDev. x \n",
            "init\t [-2.29595467  0.29212862]\t 104.49282729548965\t 22.37435843952312\t    \t    \n",
            "init\t [ 1.9482779  10.87400894]\t 62.47758067812407\t 22.37435843952312\t    \t    \n",
            "init\t [1.30305407 7.28140647]\t 22.37435843952312\t 22.37435843952312\t    \t    \n",
            "init\t [-4.80828778  7.31057411]\t 97.94503054415523\t 22.37435843952312\t    \t    \n",
            "init\t [ 9.12709979 12.76192634]\t 111.62900800771942\t 22.37435843952312\t    \t    \n",
            "\u001b[1m\u001b[92m1\u001b[0m\t \u001b[1m\u001b[92m[6.94653631 0.95529646]\u001b[0m\t \u001b[1m\u001b[92m17.615403152614682\u001b[0m\t \u001b[1m\u001b[92m17.615403152614682\u001b[0m\t \u001b[1m\u001b[92m4.874316276916642\u001b[0m\t \u001b[1m\u001b[92m5.137820935750954\u001b[0m\n",
            "\u001b[1m\u001b[92m2\u001b[0m\t \u001b[1m\u001b[92m[9.28738882 6.14578118]\u001b[0m\t \u001b[1m\u001b[92m14.808790749874726\u001b[0m\t \u001b[1m\u001b[92m14.808790749874726\u001b[0m\t \u001b[1m\u001b[92m5.506028169438782\u001b[0m\t \u001b[1m\u001b[92m5.661407685502983\u001b[0m\n",
            "\u001b[1m\u001b[92m3\u001b[0m\t \u001b[1m\u001b[92m[2.54385739 0.04476512]\u001b[0m\t \u001b[1m\u001b[92m9.58430283129103\u001b[0m\t \u001b[1m\u001b[92m9.58430283129103\u001b[0m\t \u001b[1m\u001b[92m5.448696418711426\u001b[0m\t \u001b[1m\u001b[92m6.097729118009643\u001b[0m\n",
            "4  \t [ 4.54043559 15.        ]\t 192.31515921238574\t 9.58430283129103\t 4.244353329989661\t 4.987992177093464\n",
            "\u001b[1m\u001b[92m5\u001b[0m\t \u001b[1m\u001b[92m[-2.78845701 11.96288645]\u001b[0m\t \u001b[1m\u001b[92m1.2612701228696341\u001b[0m\t \u001b[1m\u001b[92m1.2612701228696341\u001b[0m\t \u001b[1m\u001b[92m5.139492996369046\u001b[0m\t \u001b[1m\u001b[92m5.142163597405813\u001b[0m\n",
            "6  \t [4.99074378 5.05294312]\t 26.913905406466366\t 1.2612701228696341\t 4.900839097846582\t 4.948537466999331\n",
            "7  \t [-0.18506082 14.68732815]\t 89.80291618540741\t 1.2612701228696341\t 5.118712975273819\t 5.409414573843769\n",
            "8  \t [6.22553301 9.18063219]\t 84.90549660847131\t 1.2612701228696341\t 4.738161467019023\t 5.003918773665121\n",
            "9  \t [0.35554859 3.60696505]\t 22.400019960224988\t 1.2612701228696341\t 4.935786512155746\t 5.126939719096816\n",
            "10 \t [-4.61329932  3.14393371]\t 176.69388802956092\t 1.2612701228696341\t 5.327275101434379\t 6.262250139345876\n",
            "11 \t [-5.         13.36925696]\t 27.301666173994466\t 1.2612701228696341\t 5.410482066546568\t 5.685816227216186\n",
            "12 \t [9.87581541 2.90868594]\t 1.3588692040375303\t 1.2612701228696341\t 5.2914361265710115\t 5.251024135148012\n",
            "13 \t [-1.40839824  9.05862644]\t 11.867063821352444\t 1.2612701228696341\t 5.654148271004933\t 5.230846567227246\n",
            "14 \t [9.80212913 9.37818875]\t 44.192245052676036\t 1.2612701228696341\t 5.248842781269936\t 5.3594557394707545\n",
            "\u001b[1m\u001b[92m15\u001b[0m\t \u001b[1m\u001b[92m[3.51214421 2.450997  ]\u001b[0m\t \u001b[1m\u001b[92m1.2496251948904433\u001b[0m\t \u001b[1m\u001b[92m1.2496251948904433\u001b[0m\t \u001b[1m\u001b[92m5.329415261106388\u001b[0m\t \u001b[1m\u001b[92m5.324909968269322\u001b[0m\n",
            "16 \t [8.08493465 3.57688428]\t 11.802669332554597\t 1.2496251948904433\t 5.5840911897209535\t 5.537352768940633\n",
            "17 \t [-1.69663552  6.07120048]\t 17.800539760092622\t 1.2496251948904433\t 4.208028305172016\t 4.51271450774242\n",
            "18 \t [9.94473912 1.77829676]\t 3.036350240464917\t 1.2496251948904433\t 4.77287719414805\t 4.985040988725845\n",
            "19 \t [-3.72854386 10.59665556]\t 11.82337510284313\t 1.2496251948904433\t 4.855721758884464\t 5.486691598760547\n",
            "20 \t [-1.64550271 11.83627901]\t 17.506399829213656\t 1.2496251948904433\t 5.360555022745836\t 5.8003235578699694\n"
          ]
        }
      ],
      "source": [
        "### EXACT GP EI GRADIENTS\n",
        "\n",
        "np.random.seed(run_num_11)\n",
        "surrogate_exact_11 = dGaussianProcess(cov_func, optimize=opt)\n",
        "\n",
        "exact_11 = dGPGO(surrogate_exact_11, Acquisition_grad(util), objfunc, param)\n",
        "exact_11.run(init_evals=n_init, max_iter=iters)\n"
      ]
    },
    {
      "cell_type": "code",
      "execution_count": 45,
      "metadata": {
        "id": "MlUNFjc-JTBY",
        "colab": {
          "base_uri": "https://localhost:8080/"
        },
        "outputId": "aa4c8a6e-6eea-4f86-96fb-489c75af39a5"
      },
      "outputs": [
        {
          "output_type": "stream",
          "name": "stdout",
          "text": [
            "Evaluation \t Proposed point \t  Current eval. \t  Best eval. \t        Exact EI: StdDev. x \t Approx EI: StdDev. x \n",
            "init\t [-2.68755736 11.10074545]\t 1.3827702760021356\t 0.5499315281120278\t    \t    \n",
            "init\t [-1.05027477  8.0060909 ]\t 14.81231853080056\t 0.5499315281120278\t    \t    \n",
            "init\t [-4.78137556 13.78120512]\t 18.401131000214548\t 0.5499315281120278\t    \t    \n",
            "init\t [8.51072281 0.50132141]\t 5.855172364344769\t 0.5499315281120278\t    \t    \n",
            "init\t [9.35424004 2.05813982]\t 0.5499315281120278\t 0.5499315281120278\t    \t    \n",
            "1  \t [10.         4.2917554]\t 3.604142984594371\t 0.5499315281120278\t 4.797036635424069\t 4.21916598043625\n",
            "2  \t [ 9.19833734 12.85785838]\t 112.3096138370831\t 0.5499315281120278\t 5.008107839472354\t 4.454417158523425\n",
            "3  \t [-4.8799499   0.15657603]\t 290.0404981832191\t 0.5499315281120278\t 5.363332189284486\t 5.021902195828354\n",
            "4  \t [2.31082274 1.96051811]\t 4.630930870259078\t 0.5499315281120278\t 4.352334193629211\t 4.259589137507181\n",
            "5  \t [4.84411484 8.7761414 ]\t 66.82952699849903\t 0.5499315281120278\t 4.830510804248314\t 4.829444863191923\n",
            "6  \t [ 2.01644576 13.63114238]\t 112.26327042119459\t 0.5499315281120278\t 5.684837961580413\t 5.846531454339222\n",
            "7  \t [-5.          5.48610464]\t 149.64313048168344\t 0.5499315281120278\t 5.172612411583082\t 5.251212991072352\n",
            "8  \t [9.91777015 8.21247811]\t 29.527850223409104\t 0.5499315281120278\t 5.2514355638989025\t 5.246792462750484\n",
            "9  \t [5.83605685 4.11212784]\t 27.661352282770494\t 0.5499315281120278\t 4.4240922011908985\t 4.210336529830352\n",
            "10 \t [-0.41259758  0.        ]\t 63.40084360945968\t 0.5499315281120278\t 5.249708718612364\t 5.497841999519475\n",
            "11 \t [-5.          9.73650373]\t 68.23901363739964\t 0.5499315281120278\t 5.35996378554235\t 5.374935842148851\n",
            "12 \t [ 5.81229962 15.        ]\t 211.38764072010517\t 0.5499315281120278\t 4.093046153578163\t 4.400108446355252\n",
            "13 \t [1.70927602 5.55502955]\t 12.27694534891511\t 0.5499315281120278\t 4.026790529997313\t 4.094160806493768\n",
            "14 \t [-1.25433527  3.80359406]\t 32.31300814999328\t 0.5499315281120278\t 5.054018771616249\t 5.180153269023243\n",
            "15 \t [5.02410618 0.        ]\t 14.544412167304742\t 0.5499315281120278\t 4.850722551905328\t 5.02121027245708\n",
            "16 \t [-1.64209086 15.        ]\t 45.775740647302655\t 0.5499315281120278\t 5.003509166805156\t 5.009389500779567\n",
            "17 \t [1.54730283 9.54676263]\t 42.71653531010302\t 0.5499315281120278\t 5.237925880578935\t 4.975188937521611\n",
            "18 \t [-1.28563115 11.40135005]\t 22.57139472963668\t 0.5499315281120278\t 6.118403975425488\t 5.6806391444023925\n",
            "19 \t [9.71853522 2.52537767]\t 0.8527132899758332\t 0.5499315281120278\t 4.943683184411396\t 4.986140042447799\n",
            "20 \t [7.47692657 6.55484485]\t 40.917086051105855\t 0.5499315281120278\t 4.138737997735653\t 4.191968756912145\n"
          ]
        }
      ],
      "source": [
        "### EXACT GP EI GRADIENTS\n",
        "\n",
        "np.random.seed(run_num_12)\n",
        "surrogate_exact_12 = dGaussianProcess(cov_func, optimize=opt)\n",
        "\n",
        "exact_12 = dGPGO(surrogate_exact_12, Acquisition_grad(util), objfunc, param)\n",
        "exact_12.run(init_evals=n_init, max_iter=iters)\n"
      ]
    },
    {
      "cell_type": "code",
      "execution_count": 46,
      "metadata": {
        "id": "9BsKdU9eJTFL",
        "colab": {
          "base_uri": "https://localhost:8080/"
        },
        "outputId": "0dfb6aef-995e-45f2-87c0-447e72dc5aad"
      },
      "outputs": [
        {
          "output_type": "stream",
          "name": "stdout",
          "text": [
            "Evaluation \t Proposed point \t  Current eval. \t  Best eval. \t        Exact EI: StdDev. x \t Approx EI: StdDev. x \n",
            "init\t [6.66553616 3.5631183 ]\t 24.823670200298267\t 18.038943061558626\t    \t    \n",
            "init\t [ 7.36417799 14.48623797]\t 188.7803334745195\t 18.038943061558626\t    \t    \n",
            "init\t [9.58901671 6.80173871]\t 18.038943061558626\t 18.038943061558626\t    \t    \n",
            "init\t [ 4.13563694 11.63289772]\t 104.87319703906111\t 18.038943061558626\t    \t    \n",
            "init\t [ 4.62420017 10.83027344]\t 98.03271225790056\t 18.038943061558626\t    \t    \n",
            "1  \t [-5.  0.]\t 308.12909601160663\t 18.038943061558626\t 5.591453158814838\t 5.529010593146355\n",
            "\u001b[1m\u001b[92m2\u001b[0m\t \u001b[1m\u001b[92m[-3.06562888 11.40851515]\u001b[0m\t \u001b[1m\u001b[92m0.8943531028899869\u001b[0m\t \u001b[1m\u001b[92m0.8943531028899869\u001b[0m\t \u001b[1m\u001b[92m4.450121985749643\u001b[0m\t \u001b[1m\u001b[92m5.024413928239849\u001b[0m\n",
            "3  \t [-0.77721745  5.55115316]\t 19.956248293009427\t 0.8943531028899869\t 5.48620809578768\t 5.745526096118713\n",
            "4  \t [-0.24948802 15.        ]\t 93.17689500314201\t 0.8943531028899869\t 5.9492137041854045\t 6.244282747027832\n",
            "5  \t [2.24297905 0.        ]\t 13.507883026233038\t 0.8943531028899869\t 5.163381049137952\t 5.332737545836319\n",
            "6  \t [-5.          5.28665565]\t 154.35051756072184\t 0.8943531028899869\t 5.070407406296715\t 5.628371352939442\n",
            "7  \t [3.49764332 6.24904563]\t 18.93821276490805\t 0.8943531028899869\t 5.527079342201665\t 5.6249436485499675\n",
            "8  \t [0.1330055  9.52209063]\t 33.441323493506054\t 0.8943531028899869\t 4.71667267890763\t 4.985953888585852\n",
            "9  \t [10.         10.78922699]\t 62.56914709872043\t 0.8943531028899869\t 5.156878181615533\t 5.515531802080464\n",
            "10 \t [-0.92831084  1.79465985]\t 49.32527682039021\t 0.8943531028899869\t 4.912637915555713\t 5.548707888992839\n",
            "11 \t [10.          2.34599735]\t 2.374736122313256\t 0.8943531028899869\t 5.364512054019939\t 6.524025302929015\n",
            "12 \t [6.27024657 0.        ]\t 20.810450559762344\t 0.8943531028899869\t 4.6837117768468435\t 5.350208513073702\n",
            "13 \t [-4.80002934  9.45928692]\t 62.05801658060028\t 0.8943531028899869\t 5.78094156298858\t 6.54232694372766\n",
            "\u001b[1m\u001b[92m14\u001b[0m\t \u001b[1m\u001b[92m[-3.31431208 12.77757262]\u001b[0m\t \u001b[1m\u001b[92m0.5477511752924471\u001b[0m\t \u001b[1m\u001b[92m0.5477511752924471\u001b[0m\t \u001b[1m\u001b[92m4.580195378934298\u001b[0m\t \u001b[1m\u001b[92m5.884602226894809\u001b[0m\n",
            "15 \t [-4.90448245 13.24427689]\t 25.293617388650464\t 0.5477511752924471\t 5.4562299158232195\t 5.790670664102295\n",
            "16 \t [2.99675887 3.0237469 ]\t 0.899221563975825\t 0.5477511752924471\t 4.914489900212575\t 5.1441198961876475\n",
            "17 \t [6.54094574 7.54214436]\t 60.57009683036506\t 0.5477511752924471\t 5.624027606952809\t 5.789010077202204\n",
            "18 \t [1.84963948 3.68095808]\t 7.390491087598858\t 0.5477511752924471\t 4.614046863876877\t 4.572597067610044\n",
            "19 \t [3.72213456 2.83138554]\t 2.9034036119451967\t 0.5477511752924471\t 5.434260688313305\t 5.577706194696277\n",
            "20 \t [-2.61803296 12.67726494]\t 4.325066076777643\t 0.5477511752924471\t 6.027051535141632\t 6.119915289978737\n"
          ]
        }
      ],
      "source": [
        "### EXACT GP EI GRADIENTS\n",
        "\n",
        "np.random.seed(run_num_13)\n",
        "surrogate_exact_13 = dGaussianProcess(cov_func, optimize=opt)\n",
        "\n",
        "exact_13 = dGPGO(surrogate_exact_13, Acquisition_grad(util), objfunc, param)\n",
        "exact_13.run(init_evals=n_init, max_iter=iters)\n"
      ]
    },
    {
      "cell_type": "code",
      "execution_count": 47,
      "metadata": {
        "id": "k6GjFBr1JTJf",
        "colab": {
          "base_uri": "https://localhost:8080/"
        },
        "outputId": "051a09b4-506e-4eb9-948c-1c7bc0692748"
      },
      "outputs": [
        {
          "output_type": "stream",
          "name": "stdout",
          "text": [
            "Evaluation \t Proposed point \t  Current eval. \t  Best eval. \t        Exact EI: StdDev. x \t Approx EI: StdDev. x \n",
            "init\t [ 2.70915016 11.59747578]\t 81.58264375064097\t 1.4149920024014744\t    \t    \n",
            "init\t [8.05641529 0.12070423]\t 10.148649076616518\t 1.4149920024014744\t    \t    \n",
            "init\t [-0.35396112 14.36405609]\t 79.6056658956529\t 1.4149920024014744\t    \t    \n",
            "init\t [2.69675068 4.77426637]\t 5.855607664288365\t 1.4149920024014744\t    \t    \n",
            "init\t [3.08799906 3.31882414]\t 1.4149920024014744\t 1.4149920024014744\t    \t    \n",
            "1  \t [-4.22572169  4.73878507]\t 111.46482334173054\t 1.4149920024014744\t 5.334127401745119\t 5.650793503051254\n",
            "2  \t [ 9.02510452 14.92575454]\t 164.15736583327134\t 1.4149920024014744\t 5.568291436744103\t 6.448265975129145\n",
            "3  \t [8.4415984  6.61360555]\t 28.132050221972662\t 1.4149920024014744\t 4.830684115447563\t 6.137688702844825\n",
            "4  \t [-0.6348753  0.       ]\t 67.61008168553072\t 1.4149920024014744\t 4.304840903704865\t 4.3951952621846075\n",
            "5  \t [-2.40015779  9.60941637]\t 3.8299944025381123\t 1.4149920024014744\t 4.468416802230639\t 5.905727494807351\n",
            "6  \t [ 7.23036704 10.62018868]\t 103.48188921884048\t 1.4149920024014744\t 4.496578171309726\t 5.1639576512711445\n",
            "7  \t [10.          3.08569949]\t 1.9499870470857505\t 1.4149920024014744\t 3.8791770237710774\t 4.420845426849168\n",
            "8  \t [-5.         13.12598231]\t 29.21854407846937\t 1.4149920024014744\t 5.302576879848112\t 5.296976768363417\n",
            "9  \t [-5.  0.]\t 308.12909601160663\t 1.4149920024014744\t 5.419619612686581\t 5.474852012865612\n",
            "10 \t [3.81718987 0.35764269]\t 4.608055435820795\t 1.4149920024014744\t 4.732856150511243\t 4.749447106550239\n",
            "11 \t [ 4.73297197 15.        ]\t 196.2170449024405\t 1.4149920024014744\t 4.716172769495064\t 4.52142177770724\n",
            "12 \t [5.86460467 3.7334441 ]\t 25.659208254997083\t 1.4149920024014744\t 4.786835259735879\t 4.886744230611789\n",
            "13 \t [0.22924746 7.99065372]\t 24.86739965679198\t 1.4149920024014744\t 4.84958928371703\t 4.822427161783548\n",
            "14 \t [4.16184    7.76735316]\t 42.84258223436467\t 1.4149920024014744\t 5.403908012123102\t 5.766244807019723\n",
            "15 \t [-0.38900439  4.28274191]\t 24.435101215447954\t 1.4149920024014744\t 5.368414228002577\t 5.389013553163931\n",
            "16 \t [-4.97973113  8.44579078]\t 87.93417808017053\t 1.4149920024014744\t 5.317008029459554\t 5.722052626852753\n",
            "17 \t [5.5911543  0.04197834]\t 18.59846086462394\t 1.4149920024014744\t 5.362657221143091\t 5.599850800964225\n",
            "18 \t [8.79961473 2.52422178]\t 2.4907088283548564\t 1.4149920024014744\t 4.4658437271980675\t 4.3726889272047105\n",
            "19 \t [2.66167425 1.27068607]\t 3.4660253665962424\t 1.4149920024014744\t 4.9916158196330915\t 4.952521837222979\n",
            "20 \t [-1.50421271 11.24621613]\t 17.191893340339796\t 1.4149920024014744\t 4.791632712562885\t 4.910289830225533\n"
          ]
        }
      ],
      "source": [
        "### EXACT GP EI GRADIENTS\n",
        "\n",
        "np.random.seed(run_num_14)\n",
        "surrogate_exact_14 = dGaussianProcess(cov_func, optimize=opt)\n",
        "\n",
        "exact_14 = dGPGO(surrogate_exact_14, Acquisition_grad(util), objfunc, param)\n",
        "exact_14.run(init_evals=n_init, max_iter=iters)\n"
      ]
    },
    {
      "cell_type": "code",
      "execution_count": 48,
      "metadata": {
        "id": "dPS8WB3aJTN6",
        "colab": {
          "base_uri": "https://localhost:8080/"
        },
        "outputId": "35bc8811-c6fa-44c0-cd72-36f13779a87d"
      },
      "outputs": [
        {
          "output_type": "stream",
          "name": "stdout",
          "text": [
            "Evaluation \t Proposed point \t  Current eval. \t  Best eval. \t        Exact EI: StdDev. x \t Approx EI: StdDev. x \n",
            "init\t [7.73226546 2.68343887]\t 12.768724532005583\t 12.768724532005583\t    \t    \n",
            "init\t [-4.18455179  5.42307669]\t 95.39334176626551\t 12.768724532005583\t    \t    \n",
            "init\t [-0.86898607  7.95000337]\t 16.419487782111716\t 12.768724532005583\t    \t    \n",
            "init\t [-0.41121626  4.56711539]\t 23.250362743740954\t 12.768724532005583\t    \t    \n",
            "init\t [-3.32388086  3.74848521]\t 80.99796277938532\t 12.768724532005583\t    \t    \n",
            "1  \t [10. 15.]\t 145.87219087939556\t 12.768724532005583\t 5.513008539743212\t 4.929197982544672\n",
            "2  \t [-4.77493765 13.49591113]\t 19.896906503438096\t 12.768724532005583\t 5.331642034722968\t 5.505691419513752\n",
            "3  \t [ 3.80261319 11.96078244]\t 105.3381651976412\t 12.768724532005583\t 5.27904383977932\t 5.24289745677543\n",
            "4  \t [8.63272613 8.32488519]\t 44.68998814179533\t 12.768724532005583\t 5.1024344505545995\t 5.659667403878699\n",
            "\u001b[1m\u001b[92m5\u001b[0m\t \u001b[1m\u001b[92m[2.63098807 0.01106722]\u001b[0m\t \u001b[1m\u001b[92m8.890052611403327\u001b[0m\t \u001b[1m\u001b[92m8.890052611403327\u001b[0m\t \u001b[1m\u001b[92m5.898695205072629\u001b[0m\t \u001b[1m\u001b[92m5.872379240828305\u001b[0m\n",
            "6  \t [4.00168618 6.51255375]\t 26.898368577701646\t 8.890052611403327\t 5.344827398097018\t 4.939657669905545\n",
            "7  \t [-1.40724858  0.        ]\t 83.73754499640867\t 8.890052611403327\t 4.563675835327452\t 5.080270338526267\n",
            "8  \t [-0.25920208 15.        ]\t 92.87695097448946\t 8.890052611403327\t 5.6869038880351\t 6.43527007101193\n",
            "\u001b[1m\u001b[92m9\u001b[0m\t \u001b[1m\u001b[92m[3.61319085 3.0311653 ]\u001b[0m\t \u001b[1m\u001b[92m2.6455160649188842\u001b[0m\t \u001b[1m\u001b[92m2.6455160649188842\u001b[0m\t \u001b[1m\u001b[92m4.639465957579628\u001b[0m\t \u001b[1m\u001b[92m5.470713080728352\u001b[0m\n",
            "10 \t [-4.06847001  9.59158085]\t 29.45510497817347\t 2.6455160649188842\t 4.980371124717557\t 5.544603943389428\n",
            "11 \t [-5.  0.]\t 308.12909601160663\t 2.6455160649188842\t 5.224915834907464\t 5.437936328843081\n",
            "12 \t [-0.77793435 11.29116954]\t 32.63978577537418\t 2.6455160649188842\t 4.486080538561113\t 4.49131895600043\n",
            "13 \t [ 7.29495093 12.4883381 ]\t 141.06833598000512\t 2.6455160649188842\t 5.540659278556822\t 6.078220326130368\n",
            "14 \t [10.          4.91708611]\t 5.607032443023641\t 2.6455160649188842\t 4.856601657211164\t 4.898109088448749\n",
            "15 \t [1.67894419 9.19851899]\t 39.28500108182337\t 2.6455160649188842\t 4.367515090511349\t 4.628797271408825\n",
            "16 \t [7.66749604 5.14812308]\t 25.89159254231835\t 2.6455160649188842\t 5.790655827023514\t 6.067813973691785\n",
            "17 \t [5.08330669 9.19463846]\t 76.63281136023525\t 2.6455160649188842\t 5.073946622681341\t 5.339348345947604\n",
            "18 \t [5.4554963  0.60383109]\t 16.808315376835758\t 2.6455160649188842\t 5.064808325140856\t 5.482956425010817\n",
            "19 \t [5.21169875 3.43601347]\t 19.53409967079577\t 2.6455160649188842\t 4.909007623661539\t 5.061306851208764\n",
            "20 \t [ 5.68303817 15.        ]\t 210.37247823470142\t 2.6455160649188842\t 4.650642148757655\t 4.872118187997873\n"
          ]
        }
      ],
      "source": [
        "### EXACT GP EI GRADIENTS\n",
        "\n",
        "np.random.seed(run_num_15)\n",
        "surrogate_exact_15 = dGaussianProcess(cov_func, optimize=opt)\n",
        "\n",
        "exact_15 = dGPGO(surrogate_exact_15, Acquisition_grad(util), objfunc, param)\n",
        "exact_15.run(init_evals=n_init, max_iter=iters)\n"
      ]
    },
    {
      "cell_type": "code",
      "execution_count": 49,
      "metadata": {
        "id": "lu8ki9XIQPPN",
        "colab": {
          "base_uri": "https://localhost:8080/"
        },
        "outputId": "d6e47b11-a10f-4262-981a-c1903789d3bd"
      },
      "outputs": [
        {
          "output_type": "stream",
          "name": "stdout",
          "text": [
            "Evaluation \t Proposed point \t  Current eval. \t  Best eval. \t        Exact EI: StdDev. x \t Approx EI: StdDev. x \n",
            "init\t [-1.65063381  7.84745012]\t 10.514702126319445\t 2.715864006988424\t    \t    \n",
            "init\t [3.26052185 0.68402925]\t 2.715864006988424\t 2.715864006988424\t    \t    \n",
            "init\t [0.41093253 3.34621413]\t 22.889515127492515\t 2.715864006988424\t    \t    \n",
            "init\t [5.33089243 2.45597138]\t 17.178157611778595\t 2.715864006988424\t    \t    \n",
            "init\t [-3.945127  14.1151629]\t 3.3649224341694195\t 2.715864006988424\t    \t    \n",
            "1  \t [ 5.63879248 14.58068289]\t 198.51319639462758\t 2.715864006988424\t 5.624085826757564\t 5.543292038414135\n",
            "2  \t [-5.          0.76360453]\t 282.4634960240413\t 2.715864006988424\t 5.871008204132948\t 5.3454243550994205\n",
            "3  \t [6.4086727  8.01053377]\t 67.19879991173286\t 2.715864006988424\t 5.119355070088669\t 5.63244466448665\n",
            "4  \t [ 1.37630907 11.42929673]\t 66.24718744041212\t 2.715864006988424\t 4.974356769948668\t 5.528194937684192\n",
            "5  \t [-5.         10.21600199]\t 61.323587189474544\t 2.715864006988424\t 5.488709469191308\t 5.661427939235714\n",
            "6  \t [10.         4.0174364]\t 2.9723099203221883\t 2.715864006988424\t 5.982345768752222\t 6.269558443223643\n",
            "7  \t [10.         11.64579395]\t 76.64177808743001\t 2.715864006988424\t 4.532104850747165\t 4.7002687403821755\n",
            "8  \t [2.37025999 6.80135031]\t 17.922255544951717\t 2.715864006988424\t 4.718582346231335\t 5.275432267125301\n",
            "9  \t [8.62900177 0.84186346]\t 4.370397698747435\t 2.715864006988424\t 4.778083610679852\t 5.361226301243906\n",
            "10 \t [-5.          5.57680421]\t 147.528759283989\t 2.715864006988424\t 4.983528513679394\t 5.470958212744035\n",
            "11 \t [-0.60075742  0.        ]\t 66.95949101400782\t 2.715864006988424\t 4.981695916591839\t 5.1274193863055855\n",
            "12 \t [-1.98556555 12.49323228]\t 14.104401720295524\t 2.715864006988424\t 4.671803137026942\t 5.049931786832224\n",
            "13 \t [ 0.49808598 15.        ]\t 113.7062993358486\t 2.715864006988424\t 4.113993438257348\t 4.9215723066576\n",
            "14 \t [10. 15.]\t 145.87219087939556\t 2.715864006988424\t 5.002457585431976\t 4.62711504069066\n",
            "15 \t [6.02532716 4.94305188]\t 34.05076542395406\t 2.715864006988424\t 4.730810279478658\t 4.471620445280661\n",
            "16 \t [10.         7.4930357]\t 22.103950953638623\t 2.715864006988424\t 4.727462405949886\t 4.555139136722819\n",
            "17 \t [ 4.4639101  11.23526934]\t 103.00566630125667\t 2.715864006988424\t 5.422131207412789\t 5.6623625006349325\n",
            "18 \t [-2.33079398  3.50645045]\t 51.062990238156985\t 2.715864006988424\t 5.250728458603084\t 5.364683337286438\n",
            "19 \t [8.79457482 2.76382139]\t 2.8339002481106537\t 2.715864006988424\t 4.474257295009167\t 4.65520124320551\n",
            "20 \t [6.38103885 0.        ]\t 20.775770489177802\t 2.715864006988424\t 5.566220879627405\t 5.6055548633540075\n"
          ]
        }
      ],
      "source": [
        "### EXACT GP EI GRADIENTS\n",
        "\n",
        "np.random.seed(run_num_16)\n",
        "surrogate_exact_16 = dGaussianProcess(cov_func, optimize=opt)\n",
        "\n",
        "exact_16 = dGPGO(surrogate_exact_16, Acquisition_grad(util), objfunc, param)\n",
        "exact_16.run(init_evals=n_init, max_iter=iters)\n"
      ]
    },
    {
      "cell_type": "code",
      "execution_count": 50,
      "metadata": {
        "id": "yU2SflSsJTUs",
        "colab": {
          "base_uri": "https://localhost:8080/"
        },
        "outputId": "6d3354a8-3845-4218-f8c3-180696090067"
      },
      "outputs": [
        {
          "output_type": "stream",
          "name": "stdout",
          "text": [
            "Evaluation \t Proposed point \t  Current eval. \t  Best eval. \t        Exact EI: StdDev. x \t Approx EI: StdDev. x \n",
            "init\t [-0.58002496  7.95880133]\t 19.016141117164256\t 19.016141117164256\t    \t    \n",
            "init\t [-2.1271882   1.01850537]\t 85.05949339404415\t 19.016141117164256\t    \t    \n",
            "init\t [6.8047819  9.84500283]\t 93.89792695202516\t 19.016141117164256\t    \t    \n",
            "init\t [4.56281344 8.63404341]\t 60.50217141122736\t 19.016141117164256\t    \t    \n",
            "init\t [-4.41405626  5.36720407]\t 110.70834086593878\t 19.016141117164256\t    \t    \n",
            "\u001b[1m\u001b[92m1\u001b[0m\t \u001b[1m\u001b[92m[9.76575296 0.98553483]\u001b[0m\t \u001b[1m\u001b[92m4.1623278326263815\u001b[0m\t \u001b[1m\u001b[92m4.1623278326263815\u001b[0m\t \u001b[1m\u001b[92m6.1928033638359485\u001b[0m\t \u001b[1m\u001b[92m7.266313248029945\u001b[0m\n",
            "2  \t [-0.36591853 14.49945231]\t 81.3728947682288\t 4.1623278326263815\t 4.929903673320193\t 5.099048182921426\n",
            "\u001b[1m\u001b[92m3\u001b[0m\t \u001b[1m\u001b[92m[3.74599703 2.35814314]\u001b[0m\t \u001b[1m\u001b[92m2.3563457989420957\u001b[0m\t \u001b[1m\u001b[92m2.3563457989420957\u001b[0m\t \u001b[1m\u001b[92m4.741204576207125\u001b[0m\t \u001b[1m\u001b[92m4.686248127083818\u001b[0m\n",
            "4  \t [10.         14.92965946]\t 144.18938157396997\t 2.3563457989420957\t 5.654132934548375\t 5.821037819563722\n",
            "5  \t [9.39679852 5.53959908]\t 9.938002284241987\t 2.3563457989420957\t 5.066610382949073\t 5.48412931271079\n",
            "6  \t [-5.         11.20259998]\t 48.541107314045135\t 2.3563457989420957\t 5.395703611789276\t 5.468431396701193\n",
            "7  \t [ 4.76695041 15.        ]\t 196.88087701650383\t 2.3563457989420957\t 5.29759752156103\t 5.114240016320513\n",
            "8  \t [6.73796408 3.08155542]\t 22.391137470039823\t 2.3563457989420957\t 5.359007277891074\t 5.435038137078414\n",
            "9  \t [1.88309531 0.        ]\t 19.02868052761021\t 2.3563457989420957\t 5.4016255820593395\t 5.74680858745931\n",
            "10 \t [1.4730599  4.12354892]\t 10.972205983874675\t 2.3563457989420957\t 4.780819394763839\t 4.731308162728614\n",
            "11 \t [5.44913328 0.01944045]\t 17.759923373023906\t 2.3563457989420957\t 5.574413157603805\t 5.7118197746694985\n",
            "12 \t [ 1.72118454 11.04222898]\t 63.30471743941411\t 2.3563457989420957\t 5.741265313434381\t 5.712919940590309\n",
            "13 \t [-1.87389928 11.38287603]\t 10.924123007194773\t 2.3563457989420957\t 5.087720642195074\t 5.018169846634921\n",
            "14 \t [10.          8.89995637]\t 36.71774692163328\t 2.3563457989420957\t 4.652108684011668\t 4.752372372484765\n",
            "15 \t [4.71877166 4.95775684]\t 22.959360162540797\t 2.3563457989420957\t 5.144375134435175\t 5.472974785589936\n",
            "\u001b[1m\u001b[92m16\u001b[0m\t \u001b[1m\u001b[92m[-3.7047003  14.16477824]\u001b[0m\t \u001b[1m\u001b[92m2.126003258125605\u001b[0m\t \u001b[1m\u001b[92m2.126003258125605\u001b[0m\t \u001b[1m\u001b[92m4.79820422576344\u001b[0m\t \u001b[1m\u001b[92m4.745725167103916\u001b[0m\n",
            "17 \t [-5.  0.]\t 308.12909601160663\t 2.126003258125605\t 3.9735429665410247\t 4.587134654600399\n",
            "18 \t [2.05472744 6.59507853]\t 16.554061429130698\t 2.126003258125605\t 4.850855607625583\t 4.935763855506514\n",
            "19 \t [-2.9661298   8.28122846]\t 13.333592639338177\t 2.126003258125605\t 5.043536210757377\t 5.169165558760208\n",
            "\u001b[1m\u001b[92m20\u001b[0m\t \u001b[1m\u001b[92m[9.9683401  3.23455468]\u001b[0m\t \u001b[1m\u001b[92m1.8509281105180406\u001b[0m\t \u001b[1m\u001b[92m1.8509281105180406\u001b[0m\t \u001b[1m\u001b[92m4.8932056433263\u001b[0m\t \u001b[1m\u001b[92m4.877462555320599\u001b[0m\n"
          ]
        }
      ],
      "source": [
        "### EXACT GP EI GRADIENTS\n",
        "\n",
        "np.random.seed(run_num_17)\n",
        "surrogate_exact_17 = dGaussianProcess(cov_func, optimize=opt)\n",
        "\n",
        "exact_17 = dGPGO(surrogate_exact_17, Acquisition_grad(util), objfunc, param)\n",
        "exact_17.run(init_evals=n_init, max_iter=iters)\n"
      ]
    },
    {
      "cell_type": "code",
      "execution_count": 51,
      "metadata": {
        "id": "eVEhyZ9BQS-1",
        "colab": {
          "base_uri": "https://localhost:8080/"
        },
        "outputId": "c091a844-6c8a-4949-ca32-7c2baf21cb80"
      },
      "outputs": [
        {
          "output_type": "stream",
          "name": "stdout",
          "text": [
            "Evaluation \t Proposed point \t  Current eval. \t  Best eval. \t        Exact EI: StdDev. x \t Approx EI: StdDev. x \n",
            "init\t [4.75561363 7.58180061]\t 49.215059064668324\t 8.150075223157177\t    \t    \n",
            "init\t [8.17902206 2.72760338]\t 8.150075223157177\t 8.150075223157177\t    \t    \n",
            "init\t [ 7.78349603 11.25204429]\t 106.98107856533271\t 8.150075223157177\t    \t    \n",
            "init\t [ 4.99152501 14.81843172]\t 196.08601750690153\t 8.150075223157177\t    \t    \n",
            "init\t [-1.14547366  0.42458888]\t 71.23649635555944\t 8.150075223157177\t    \t    \n",
            "1  \t [-4.83474958 11.77354131]\t 35.58412906267954\t 8.150075223157177\t 5.4564212992775305\t 5.198211197250047\n",
            "2  \t [-1.31027796  6.26018244]\t 16.663442406570503\t 8.150075223157177\t 5.450102520284124\t 4.960955963030882\n",
            "3  \t [ 0.35908684 11.68414639]\t 57.91470988730182\t 8.150075223157177\t 5.040401931063725\t 4.581409010512777\n",
            "\u001b[1m\u001b[92m4\u001b[0m\t \u001b[1m\u001b[92m[4.16866889 0.        ]\u001b[0m\t \u001b[1m\u001b[92m7.625670656251107\u001b[0m\t \u001b[1m\u001b[92m7.625670656251107\u001b[0m\t \u001b[1m\u001b[92m5.979243046371243\u001b[0m\t \u001b[1m\u001b[92m5.815469983182905\u001b[0m\n",
            "5  \t [10. 15.]\t 145.87219087939556\t 7.625670656251107\t 4.85121047028174\t 5.003284068472012\n",
            "6  \t [-5.          3.31100639]\t 205.27694256191015\t 7.625670656251107\t 5.021927057395277\t 5.722265424833936\n",
            "7  \t [10.          6.83388238]\t 16.61913292412361\t 7.625670656251107\t 4.39260860988063\t 4.672516097456038\n",
            "\u001b[1m\u001b[92m8\u001b[0m\t \u001b[1m\u001b[92m[1.91893934 4.15428297]\u001b[0m\t \u001b[1m\u001b[92m7.26101761917622\u001b[0m\t \u001b[1m\u001b[92m7.26101761917622\u001b[0m\t \u001b[1m\u001b[92m4.793811641111518\u001b[0m\t \u001b[1m\u001b[92m4.464490709379952\u001b[0m\n",
            "9  \t [-1.9875475 15.       ]\t 34.483643171373785\t 7.26101761917622\t 5.631753946834881\t 5.749130864183809\n",
            "10 \t [5.08711682 3.3237184 ]\t 17.82841116968373\t 7.26101761917622\t 5.4485096199841925\t 5.96344117918909\n",
            "11 \t [-5.          7.78764073]\t 101.0784764992863\t 7.26101761917622\t 5.430136069741557\t 5.330235335872916\n",
            "12 \t [1.40949089 7.73434554]\t 25.38780997399318\t 7.26101761917622\t 4.88086324529898\t 5.237931129741279\n",
            "\u001b[1m\u001b[92m13\u001b[0m\t \u001b[1m\u001b[92m[9.03261402 0.        ]\u001b[0m\t \u001b[1m\u001b[92m5.810034234100345\u001b[0m\t \u001b[1m\u001b[92m5.810034234100345\u001b[0m\t \u001b[1m\u001b[92m5.036381135917154\u001b[0m\t \u001b[1m\u001b[92m4.7130602998676725\u001b[0m\n",
            "14 \t [ 3.71765027 11.1657217 ]\t 88.38351459141313\t 5.810034234100345\t 4.492800917241701\t 4.539782973366193\n",
            "15 \t [-1.81885685  9.65554599]\t 7.753584778277769\t 5.810034234100345\t 5.091209191172838\t 5.07459063159741\n",
            "16 \t [6.58523601 0.09222466]\t 20.22661345150606\t 5.810034234100345\t 4.781956082613301\t 5.278466731238862\n",
            "\u001b[1m\u001b[92m17\u001b[0m\t \u001b[1m\u001b[92m[10.          4.06865332]\u001b[0m\t \u001b[1m\u001b[92m3.078850151318427\u001b[0m\t \u001b[1m\u001b[92m3.078850151318427\u001b[0m\t \u001b[1m\u001b[92m6.003890337754568\u001b[0m\t \u001b[1m\u001b[92m6.404771229710673\u001b[0m\n",
            "18 \t [2.15483299 1.41554252]\t 7.784677230602309\t 3.078850151318427\t 4.3096016918199975\t 4.515340850241452\n",
            "19 \t [-5.  0.]\t 308.12909601160663\t 3.078850151318427\t 4.809127015080826\t 4.954407964256578\n",
            "20 \t [ 1.27329956 15.        ]\t 129.8237238043874\t 3.078850151318427\t 5.120852377728859\t 5.058908051674953\n"
          ]
        }
      ],
      "source": [
        "### EXACT GP EI GRADIENTS\n",
        "\n",
        "np.random.seed(run_num_18)\n",
        "surrogate_exact_18 = dGaussianProcess(cov_func, optimize=opt)\n",
        "\n",
        "exact_18 = dGPGO(surrogate_exact_18, Acquisition_grad(util), objfunc, param)\n",
        "exact_18.run(init_evals=n_init, max_iter=iters)\n"
      ]
    },
    {
      "cell_type": "code",
      "execution_count": 52,
      "metadata": {
        "id": "B6gTz1ojQUxn",
        "colab": {
          "base_uri": "https://localhost:8080/"
        },
        "outputId": "b46817a3-4d08-45c2-af27-5397ebee7ac2"
      },
      "outputs": [
        {
          "output_type": "stream",
          "name": "stdout",
          "text": [
            "Evaluation \t Proposed point \t  Current eval. \t  Best eval. \t        Exact EI: StdDev. x \t Approx EI: StdDev. x \n",
            "init\t [-3.53699597 11.41874575]\t 4.475608269502271\t 4.475608269502271\t    \t    \n",
            "init\t [-1.2959304   2.07197531]\t 51.13947793770689\t 4.475608269502271\t    \t    \n",
            "init\t [-0.02830155  1.24499348]\t 42.63973921760034\t 4.475608269502271\t    \t    \n",
            "init\t [ 5.07965622 12.09890697]\t 131.17235664506808\t 4.475608269502271\t    \t    \n",
            "init\t [9.74112872 9.53491102]\t 46.84458913925112\t 4.475608269502271\t    \t    \n",
            "\u001b[1m\u001b[92m1\u001b[0m\t \u001b[1m\u001b[92m[9.57054653 2.03489665]\u001b[0m\t \u001b[1m\u001b[92m0.8198597583535783\u001b[0m\t \u001b[1m\u001b[92m0.8198597583535783\u001b[0m\t \u001b[1m\u001b[92m5.342923584321703\u001b[0m\t \u001b[1m\u001b[92m5.610004055810948\u001b[0m\n",
            "2  \t [5.03077312 4.64729248]\t 24.460797393473307\t 0.8198597583535783\t 5.58328579401077\t 5.978600455633415\n",
            "3  \t [0.20107266 7.62370777]\t 23.16644757636532\t 0.8198597583535783\t 4.954027294905357\t 5.492862237489285\n",
            "4  \t [ 0.09562252 15.        ]\t 103.29917138491766\t 0.8198597583535783\t 5.358401043501416\t 5.672031513091562\n",
            "5  \t [10. 15.]\t 145.87219087939556\t 0.8198597583535783\t 4.708150319128926\t 4.572521513674911\n",
            "6  \t [5.76502136 0.        ]\t 19.591995850394127\t 0.8198597583535783\t 4.920097866338157\t 5.020863442314987\n",
            "7  \t [-5.  0.]\t 308.12909601160663\t 0.8198597583535783\t 5.119866573432132\t 5.422285482297233\n",
            "8  \t [-5.          6.28808919]\t 131.51785785414725\t 0.8198597583535783\t 4.993924866178875\t 5.437995363765435\n",
            "9  \t [4.65863248 8.10578883]\t 54.59624846537711\t 0.8198597583535783\t 5.566945538397508\t 5.7646093213846985\n",
            "10 \t [10.          5.20984852]\t 6.813512606487913\t 0.8198597583535783\t 5.074818892744929\t 4.617391453488707\n",
            "11 \t [ 0.23236245 11.10727736]\t 49.2662554469767\t 0.8198597583535783\t 4.5009695579931375\t 4.41904970633885\n",
            "12 \t [9.10410543 0.03660365]\t 5.6449422844163415\t 0.8198597583535783\t 4.5470220723629975\t 4.835705623145804\n",
            "13 \t [7.78332077 3.21082841]\t 13.819188923453073\t 0.8198597583535783\t 5.483365727411171\t 5.989860644804716\n",
            "14 \t [-3.20852295  9.37713538]\t 9.778659280304918\t 0.8198597583535783\t 4.932340177076628\t 5.70934628022013\n",
            "15 \t [-3.66648234 14.10096019]\t 1.9703012804676767\t 0.8198597583535783\t 4.484957962210309\t 5.359145945346104\n",
            "16 \t [1.82994204 4.23826446]\t 8.05509237199721\t 0.8198597583535783\t 4.621617084989351\t 5.169099027083415\n",
            "17 \t [3.26348285 1.49272908]\t 0.9440337939764696\t 0.8198597583535783\t 5.360412272172288\t 5.31813634436103\n",
            "18 \t [7.6004046  7.06204549]\t 44.85297730090831\t 0.8198597583535783\t 4.80831664194038\t 5.017092403545751\n",
            "19 \t [ 8.69925413 11.95601084]\t 103.31688204880545\t 0.8198597583535783\t 3.965135926579558\t 4.2240474815175695\n",
            "20 \t [-1.71598966  5.4522955 ]\t 22.000374329630393\t 0.8198597583535783\t 5.150311776538603\t 5.523304091749591\n"
          ]
        }
      ],
      "source": [
        "### EXACT GP EI GRADIENTS\n",
        "\n",
        "np.random.seed(run_num_19)\n",
        "surrogate_exact_19 = dGaussianProcess(cov_func, optimize=opt)\n",
        "\n",
        "exact_19 = dGPGO(surrogate_exact_19, Acquisition_grad(util), objfunc, param)\n",
        "exact_19.run(init_evals=n_init, max_iter=iters)\n"
      ]
    },
    {
      "cell_type": "code",
      "execution_count": 53,
      "metadata": {
        "id": "aw3xvSryIwDi",
        "colab": {
          "base_uri": "https://localhost:8080/"
        },
        "outputId": "11a3d8ff-24d4-4e92-abba-789cd60f155c"
      },
      "outputs": [
        {
          "output_type": "stream",
          "name": "stdout",
          "text": [
            "Evaluation \t Proposed point \t  Current eval. \t  Best eval. \t        Exact EI: StdDev. x \t Approx EI: StdDev. x \n",
            "init\t [ 3.82196202 13.46570592]\t 138.5264349938869\t 14.042667401507376\t    \t    \n",
            "init\t [ 8.37296094 12.23756216]\t 115.63178540512689\t 14.042667401507376\t    \t    \n",
            "init\t [-4.46165622 10.37636373]\t 35.66708529307584\t 14.042667401507376\t    \t    \n",
            "init\t [0.68021413 7.77766418]\t 25.307769914281764\t 14.042667401507376\t    \t    \n",
            "init\t [4.86927198 2.90775327]\t 14.042667401507376\t 14.042667401507376\t    \t    \n",
            "1  \t [-5.  0.]\t 308.12909601160663\t 14.042667401507376\t 4.954456992826896\t 5.43013884026657\n",
            "\u001b[1m\u001b[92m2\u001b[0m\t \u001b[1m\u001b[92m[10.          5.49820193]\u001b[0m\t \u001b[1m\u001b[92m8.169389869926185\u001b[0m\t \u001b[1m\u001b[92m8.169389869926185\u001b[0m\t \u001b[1m\u001b[92m4.758630342078336\u001b[0m\t \u001b[1m\u001b[92m5.504489541643019\u001b[0m\n",
            "3  \t [0.61138061 0.18064926]\t 41.819817406212465\t 8.169389869926185\t 4.805116552295167\t 5.150122432625417\n",
            "4  \t [-1.2637238 15.       ]\t 58.90356087528688\t 8.169389869926185\t 5.745231144800313\t 6.35471017841094\n",
            "5  \t [-4.79483707  5.40415968]\t 136.16520405222136\t 8.169389869926185\t 5.527545314214944\t 5.684235084269123\n",
            "\u001b[1m\u001b[92m6\u001b[0m\t \u001b[1m\u001b[92m[9.09543778 0.72705293]\u001b[0m\t \u001b[1m\u001b[92m3.1166558164350517\u001b[0m\t \u001b[1m\u001b[92m3.1166558164350517\u001b[0m\t \u001b[1m\u001b[92m4.797768519485877\u001b[0m\t \u001b[1m\u001b[92m5.453828575932026\u001b[0m\n",
            "7  \t [6.2877259  7.03753344]\t 54.854569106195044\t 3.1166558164350517\t 5.704514854431774\t 5.663860688473243\n",
            "8  \t [-0.32754319 11.25902138]\t 41.40648193276813\t 3.1166558164350517\t 5.093074394843001\t 5.2907479634468295\n",
            "9  \t [-0.43666184  4.01206985]\t 26.031856556415313\t 3.1166558164350517\t 4.602128871731108\t 4.589634298016358\n",
            "10 \t [5.55724611 0.        ]\t 18.492151482084402\t 3.1166558164350517\t 5.424602342696841\t 5.711985112127696\n",
            "11 \t [10.          8.68787681]\t 34.26145842986103\t 3.1166558164350517\t 5.1714632284927715\t 5.397490909933775\n",
            "12 \t [3.5530158  9.63175124]\t 59.8094589777487\t 3.1166558164350517\t 5.511468818825396\t 5.265074733407417\n",
            "13 \t [8.01437616 3.29934291]\t 11.553758918487631\t 3.1166558164350517\t 5.332602214528738\t 6.0060033695105774\n",
            "14 \t [2.81703956 5.43654928]\t 9.279256796734517\t 3.1166558164350517\t 5.106795645915181\t 5.684234604675884\n",
            "15 \t [10. 15.]\t 145.87219087939556\t 3.1166558164350517\t 4.824661378641046\t 4.857137734238835\n",
            "16 \t [-1.95810036  7.24732044]\t 11.963763723982527\t 3.1166558164350517\t 4.898349797922781\t 4.998989964435413\n",
            "17 \t [6.67280468 4.20427796]\t 28.321284339165146\t 3.1166558164350517\t 4.685072681142361\t 5.116433014083367\n",
            "18 \t [-3.96224483 13.2823961 ]\t 4.560160747973746\t 3.1166558164350517\t 5.262158847260395\t 5.2298616279000125\n",
            "\u001b[1m\u001b[92m19\u001b[0m\t \u001b[1m\u001b[92m[2.60106723 2.30398717]\u001b[0m\t \u001b[1m\u001b[92m1.951929253660607\u001b[0m\t \u001b[1m\u001b[92m1.951929253660607\u001b[0m\t \u001b[1m\u001b[92m5.417957467267023\u001b[0m\t \u001b[1m\u001b[92m5.701512605093516\u001b[0m\n",
            "20 \t [2.22842663 2.93857546]\t 4.155201227936435\t 1.951929253660607\t 4.211542184563988\t 4.241762572074188\n"
          ]
        }
      ],
      "source": [
        "### EXACT GP EI GRADIENTS\n",
        "\n",
        "np.random.seed(run_num_20)\n",
        "surrogate_exact_20 = dGaussianProcess(cov_func, optimize=opt)\n",
        "\n",
        "exact_20 = dGPGO(surrogate_exact_20, Acquisition_grad(util), objfunc, param)\n",
        "exact_20.run(init_evals=n_init, max_iter=iters)\n"
      ]
    },
    {
      "cell_type": "code",
      "execution_count": 54,
      "metadata": {
        "id": "5c8szjivRPme",
        "colab": {
          "base_uri": "https://localhost:8080/"
        },
        "outputId": "28c0a642-897b-48d9-98a4-2181c3540891"
      },
      "outputs": [
        {
          "output_type": "execute_result",
          "data": {
            "text/plain": [
              "755.0421402454376"
            ]
          },
          "metadata": {},
          "execution_count": 54
        }
      ],
      "source": [
        "end_exact = time.time()\n",
        "end_exact\n",
        "\n",
        "time_exact = end_exact - start_exact\n",
        "time_exact\n"
      ]
    },
    {
      "cell_type": "code",
      "execution_count": 55,
      "metadata": {
        "id": "f6gCKnp6RR8c",
        "colab": {
          "base_uri": "https://localhost:8080/"
        },
        "outputId": "a12a24e3-0e2b-4aea-f365-9216a2aaf6ff"
      },
      "outputs": [
        {
          "output_type": "execute_result",
          "data": {
            "text/plain": [
              "(1.659074028996956, 1.5897370822421468)"
            ]
          },
          "metadata": {},
          "execution_count": 55
        }
      ],
      "source": [
        "### Simple regret minimization: run number = 1\n",
        "\n",
        "approx_output_1 = np.append(np.min(-approx_1.GP.y[0:n_init]),-approx_1.GP.y[n_init:(n_init+iters)]) \n",
        "exact_output_1 = np.append(np.min(-exact_1.GP.y[0:n_init]),-exact_1.GP.y[n_init:(n_init+iters)]) \n",
        "\n",
        "regret_approx_1 = np.log(approx_output_1 - y_global_orig)\n",
        "regret_exact_1 = np.log(exact_output_1 - y_global_orig)\n",
        "\n",
        "simple_regret_approx_1 = min_max_array(regret_approx_1)\n",
        "simple_regret_exact_1 = min_max_array(regret_exact_1)\n",
        "\n",
        "min_simple_regret_approx_1 = min(simple_regret_approx_1)\n",
        "min_simple_regret_exact_1 = min(simple_regret_exact_1)\n",
        "\n",
        "min_simple_regret_approx_1, min_simple_regret_exact_1\n"
      ]
    },
    {
      "cell_type": "code",
      "execution_count": 56,
      "metadata": {
        "id": "94yBw5tqQxfk",
        "colab": {
          "base_uri": "https://localhost:8080/"
        },
        "outputId": "4f08e73a-bbe7-4774-aefd-75d345bf0003"
      },
      "outputs": [
        {
          "output_type": "execute_result",
          "data": {
            "text/plain": [
              "(0.5857547920775205, 0.35192473718351774)"
            ]
          },
          "metadata": {},
          "execution_count": 56
        }
      ],
      "source": [
        "### Simple regret minimization: run number = 2\n",
        "\n",
        "approx_output_2 = np.append(np.min(-approx_2.GP.y[0:n_init]),-approx_2.GP.y[n_init:(n_init+iters)]) \n",
        "exact_output_2 = np.append(np.min(-exact_2.GP.y[0:n_init]),-exact_2.GP.y[n_init:(n_init+iters)]) \n",
        "\n",
        "regret_approx_2 = np.log(approx_output_2 - y_global_orig)\n",
        "regret_exact_2 = np.log(exact_output_2 - y_global_orig)\n",
        "\n",
        "simple_regret_approx_2 = min_max_array(regret_approx_2)\n",
        "simple_regret_exact_2 = min_max_array(regret_exact_2)\n",
        "\n",
        "min_simple_regret_approx_2 = min(simple_regret_approx_2)\n",
        "min_simple_regret_exact_2 = min(simple_regret_exact_2)\n",
        "\n",
        "min_simple_regret_approx_2, min_simple_regret_exact_2\n"
      ]
    },
    {
      "cell_type": "code",
      "execution_count": 57,
      "metadata": {
        "id": "Bu6SBWALQxfl",
        "colab": {
          "base_uri": "https://localhost:8080/"
        },
        "outputId": "020d10cd-4b95-4a13-e534-bbf73c69d606"
      },
      "outputs": [
        {
          "output_type": "execute_result",
          "data": {
            "text/plain": [
              "(1.2891722080534627, 1.3860209161817125)"
            ]
          },
          "metadata": {},
          "execution_count": 57
        }
      ],
      "source": [
        "### Simple regret minimization: run number = 3\n",
        "\n",
        "approx_output_3 = np.append(np.min(-approx_3.GP.y[0:n_init]),-approx_3.GP.y[n_init:(n_init+iters)]) \n",
        "exact_output_3 = np.append(np.min(-exact_3.GP.y[0:n_init]),-exact_3.GP.y[n_init:(n_init+iters)]) \n",
        "\n",
        "regret_approx_3 = np.log(approx_output_3 - y_global_orig)\n",
        "regret_exact_3 = np.log(exact_output_3 - y_global_orig)\n",
        "\n",
        "simple_regret_approx_3 = min_max_array(regret_approx_3)\n",
        "simple_regret_exact_3 = min_max_array(regret_exact_3)\n",
        "\n",
        "min_simple_regret_approx_3 = min(simple_regret_approx_3)\n",
        "min_simple_regret_exact_3 = min(simple_regret_exact_3)\n",
        "\n",
        "min_simple_regret_approx_3, min_simple_regret_exact_3"
      ]
    },
    {
      "cell_type": "code",
      "execution_count": 58,
      "metadata": {
        "id": "AZm0jgxkQxfm",
        "colab": {
          "base_uri": "https://localhost:8080/"
        },
        "outputId": "9e3a9039-8a54-4174-c196-048d7fca2dbf"
      },
      "outputs": [
        {
          "output_type": "execute_result",
          "data": {
            "text/plain": [
              "(-0.006970550359227888, 0.2872135780723568)"
            ]
          },
          "metadata": {},
          "execution_count": 58
        }
      ],
      "source": [
        "### Simple regret minimization: run number = 4\n",
        "\n",
        "approx_output_4 = np.append(np.min(-approx_4.GP.y[0:n_init]),-approx_4.GP.y[n_init:(n_init+iters)]) \n",
        "exact_output_4 = np.append(np.min(-exact_4.GP.y[0:n_init]),-exact_4.GP.y[n_init:(n_init+iters)]) \n",
        "\n",
        "regret_approx_4 = np.log(approx_output_4 - y_global_orig)\n",
        "regret_exact_4 = np.log(exact_output_4 - y_global_orig)\n",
        "\n",
        "simple_regret_approx_4 = min_max_array(regret_approx_4)\n",
        "simple_regret_exact_4 = min_max_array(regret_exact_4)\n",
        "\n",
        "min_simple_regret_approx_4 = min(simple_regret_approx_4)\n",
        "min_simple_regret_exact_4 = min(simple_regret_exact_4)\n",
        "\n",
        "min_simple_regret_approx_4, min_simple_regret_exact_4"
      ]
    },
    {
      "cell_type": "code",
      "execution_count": 59,
      "metadata": {
        "id": "NONPm8JIQxfn",
        "colab": {
          "base_uri": "https://localhost:8080/"
        },
        "outputId": "54cf050d-1078-4e13-ed04-cdb2c1b055eb"
      },
      "outputs": [
        {
          "output_type": "execute_result",
          "data": {
            "text/plain": [
              "(1.1445176502124748, -0.19866740723405696)"
            ]
          },
          "metadata": {},
          "execution_count": 59
        }
      ],
      "source": [
        "### Simple regret minimization: run number = 5\n",
        "\n",
        "approx_output_5 = np.append(np.min(-approx_5.GP.y[0:n_init]),-approx_5.GP.y[n_init:(n_init+iters)]) \n",
        "exact_output_5 = np.append(np.min(-exact_5.GP.y[0:n_init]),-exact_5.GP.y[n_init:(n_init+iters)]) \n",
        "\n",
        "regret_approx_5 = np.log(approx_output_5 - y_global_orig)\n",
        "regret_exact_5 = np.log(exact_output_5 - y_global_orig)\n",
        "\n",
        "simple_regret_approx_5 = min_max_array(regret_approx_5)\n",
        "simple_regret_exact_5 = min_max_array(regret_exact_5)\n",
        "\n",
        "min_simple_regret_approx_5 = min(simple_regret_approx_5)\n",
        "min_simple_regret_exact_5 = min(simple_regret_exact_5)\n",
        "\n",
        "min_simple_regret_approx_5, min_simple_regret_exact_5"
      ]
    },
    {
      "cell_type": "code",
      "execution_count": 60,
      "metadata": {
        "id": "CJv3lPuSQxfp",
        "colab": {
          "base_uri": "https://localhost:8080/"
        },
        "outputId": "fe7190a8-bb99-445d-c796-8c1efa842725"
      },
      "outputs": [
        {
          "output_type": "execute_result",
          "data": {
            "text/plain": [
              "(-0.05703892414184766, 0.37010063854559794)"
            ]
          },
          "metadata": {},
          "execution_count": 60
        }
      ],
      "source": [
        "### Simple regret minimization: run number = 6\n",
        "\n",
        "approx_output_6 = np.append(np.min(-approx_6.GP.y[0:n_init]),-approx_6.GP.y[n_init:(n_init+iters)]) \n",
        "exact_output_6 = np.append(np.min(-exact_6.GP.y[0:n_init]),-exact_6.GP.y[n_init:(n_init+iters)]) \n",
        "\n",
        "regret_approx_6 = np.log(approx_output_6 - y_global_orig)\n",
        "regret_exact_6 = np.log(exact_output_6 - y_global_orig)\n",
        "\n",
        "simple_regret_approx_6 = min_max_array(regret_approx_6)\n",
        "simple_regret_exact_6 = min_max_array(regret_exact_6)\n",
        "\n",
        "min_simple_regret_approx_6 = min(simple_regret_approx_6)\n",
        "min_simple_regret_exact_6 = min(simple_regret_exact_6)\n",
        "\n",
        "min_simple_regret_approx_6, min_simple_regret_exact_6"
      ]
    },
    {
      "cell_type": "code",
      "execution_count": 61,
      "metadata": {
        "id": "quR2ZyApQxfq",
        "colab": {
          "base_uri": "https://localhost:8080/"
        },
        "outputId": "6e3944b5-4688-4dcd-dc5b-912fe68cd9da"
      },
      "outputs": [
        {
          "output_type": "execute_result",
          "data": {
            "text/plain": [
              "(1.0959878298124917, 1.1083347504860048)"
            ]
          },
          "metadata": {},
          "execution_count": 61
        }
      ],
      "source": [
        "### Simple regret minimization: run number = 7\n",
        "\n",
        "approx_output_7 = np.append(np.min(-approx_7.GP.y[0:n_init]),-approx_7.GP.y[n_init:(n_init+iters)]) \n",
        "exact_output_7 = np.append(np.min(-exact_7.GP.y[0:n_init]),-exact_7.GP.y[n_init:(n_init+iters)]) \n",
        "\n",
        "regret_approx_7 = np.log(approx_output_7 - y_global_orig)\n",
        "regret_exact_7 = np.log(exact_output_7 - y_global_orig)\n",
        "\n",
        "simple_regret_approx_7 = min_max_array(regret_approx_7)\n",
        "simple_regret_exact_7 = min_max_array(regret_exact_7)\n",
        "\n",
        "min_simple_regret_approx_7 = min(simple_regret_approx_7)\n",
        "min_simple_regret_exact_7 = min(simple_regret_exact_7)\n",
        "\n",
        "min_simple_regret_approx_7, min_simple_regret_exact_7"
      ]
    },
    {
      "cell_type": "code",
      "execution_count": 62,
      "metadata": {
        "id": "99wY5nK6Qxfr",
        "colab": {
          "base_uri": "https://localhost:8080/"
        },
        "outputId": "631db601-1244-4e27-ee34-ad35ea53ebac"
      },
      "outputs": [
        {
          "output_type": "execute_result",
          "data": {
            "text/plain": [
              "(1.9311134220088308, 1.4027284177430812)"
            ]
          },
          "metadata": {},
          "execution_count": 62
        }
      ],
      "source": [
        "### Simple regret minimization: run number = 8\n",
        "\n",
        "approx_output_8 = np.append(np.min(-approx_8.GP.y[0:n_init]),-approx_8.GP.y[n_init:(n_init+iters)]) \n",
        "exact_output_8 = np.append(np.min(-exact_8.GP.y[0:n_init]),-exact_8.GP.y[n_init:(n_init+iters)]) \n",
        "\n",
        "regret_approx_8 = np.log(approx_output_8 - y_global_orig)\n",
        "regret_exact_8 = np.log(exact_output_8 - y_global_orig)\n",
        "\n",
        "simple_regret_approx_8 = min_max_array(regret_approx_8)\n",
        "simple_regret_exact_8 = min_max_array(regret_exact_8)\n",
        "\n",
        "min_simple_regret_approx_8 = min(simple_regret_approx_8)\n",
        "min_simple_regret_exact_8 = min(simple_regret_exact_8)\n",
        "\n",
        "min_simple_regret_approx_8, min_simple_regret_exact_8"
      ]
    },
    {
      "cell_type": "code",
      "execution_count": 63,
      "metadata": {
        "id": "qt0P5t9qQxfs",
        "colab": {
          "base_uri": "https://localhost:8080/"
        },
        "outputId": "bac9396e-224e-42a0-b05a-fdd3db080515"
      },
      "outputs": [
        {
          "output_type": "execute_result",
          "data": {
            "text/plain": [
              "(0.9547940336174395, 1.1961845526879693)"
            ]
          },
          "metadata": {},
          "execution_count": 63
        }
      ],
      "source": [
        "### Simple regret minimization: run number = 9\n",
        "\n",
        "approx_output_9 = np.append(np.min(-approx_9.GP.y[0:n_init]),-approx_9.GP.y[n_init:(n_init+iters)]) \n",
        "exact_output_9 = np.append(np.min(-exact_9.GP.y[0:n_init]),-exact_9.GP.y[n_init:(n_init+iters)]) \n",
        "\n",
        "regret_approx_9 = np.log(approx_output_9 - y_global_orig)\n",
        "regret_exact_9 = np.log(exact_output_9 - y_global_orig)\n",
        "\n",
        "simple_regret_approx_9 = min_max_array(regret_approx_9)\n",
        "simple_regret_exact_9 = min_max_array(regret_exact_9)\n",
        "\n",
        "min_simple_regret_approx_9 = min(simple_regret_approx_9)\n",
        "min_simple_regret_exact_9 = min(simple_regret_exact_9)\n",
        "\n",
        "min_simple_regret_approx_9, min_simple_regret_exact_9"
      ]
    },
    {
      "cell_type": "code",
      "execution_count": 64,
      "metadata": {
        "id": "vx8to9stQxft",
        "colab": {
          "base_uri": "https://localhost:8080/"
        },
        "outputId": "751a3827-e1f3-45d9-b098-157cfaeaccf8"
      },
      "outputs": [
        {
          "output_type": "execute_result",
          "data": {
            "text/plain": [
              "(0.9667477337581669, 0.8569715727072589)"
            ]
          },
          "metadata": {},
          "execution_count": 64
        }
      ],
      "source": [
        "### Simple regret minimization: run number = 10\n",
        "\n",
        "approx_output_10 = np.append(np.min(-approx_10.GP.y[0:n_init]),-approx_10.GP.y[n_init:(n_init+iters)]) \n",
        "exact_output_10 = np.append(np.min(-exact_10.GP.y[0:n_init]),-exact_10.GP.y[n_init:(n_init+iters)]) \n",
        "\n",
        "regret_approx_10 = np.log(approx_output_10 - y_global_orig)\n",
        "regret_exact_10 = np.log(exact_output_10 - y_global_orig)\n",
        "\n",
        "simple_regret_approx_10 = min_max_array(regret_approx_10)\n",
        "simple_regret_exact_10 = min_max_array(regret_exact_10)\n",
        "\n",
        "min_simple_regret_approx_10 = min(simple_regret_approx_10)\n",
        "min_simple_regret_exact_10 = min(simple_regret_exact_10)\n",
        "\n",
        "min_simple_regret_approx_10, min_simple_regret_exact_10"
      ]
    },
    {
      "cell_type": "code",
      "execution_count": 65,
      "metadata": {
        "id": "d-FGzWyHQxfu",
        "colab": {
          "base_uri": "https://localhost:8080/"
        },
        "outputId": "26734d2b-53f5-4eb1-ea4e-884db79d1121"
      },
      "outputs": [
        {
          "output_type": "execute_result",
          "data": {
            "text/plain": [
              "(0.32919714956483387, 0.4992663894250623)"
            ]
          },
          "metadata": {},
          "execution_count": 65
        }
      ],
      "source": [
        "### Simple regret minimization: run number = 11\n",
        "\n",
        "approx_output_11 = np.append(np.min(-approx_11.GP.y[0:n_init]),-approx_11.GP.y[n_init:(n_init+iters)]) \n",
        "exact_output_11 = np.append(np.min(-exact_11.GP.y[0:n_init]),-exact_11.GP.y[n_init:(n_init+iters)]) \n",
        "\n",
        "regret_approx_11 = np.log(approx_output_11 - y_global_orig)\n",
        "regret_exact_11 = np.log(exact_output_11 - y_global_orig)\n",
        "\n",
        "simple_regret_approx_11 = min_max_array(regret_approx_11)\n",
        "simple_regret_exact_11 = min_max_array(regret_exact_11)\n",
        "\n",
        "min_simple_regret_approx_11 = min(simple_regret_approx_11)\n",
        "min_simple_regret_exact_11 = min(simple_regret_exact_11)\n",
        "\n",
        "min_simple_regret_approx_11, min_simple_regret_exact_11"
      ]
    },
    {
      "cell_type": "code",
      "execution_count": 66,
      "metadata": {
        "id": "SvtsssyjQxfv",
        "colab": {
          "base_uri": "https://localhost:8080/"
        },
        "outputId": "696a47ae-1092-4382-9650-e0bac0897bd7"
      },
      "outputs": [
        {
          "output_type": "execute_result",
          "data": {
            "text/plain": [
              "(-0.05359222109358334, -0.05359222109358334)"
            ]
          },
          "metadata": {},
          "execution_count": 66
        }
      ],
      "source": [
        "### Simple regret minimization: run number = 12\n",
        "\n",
        "approx_output_12 = np.append(np.min(-approx_12.GP.y[0:n_init]),-approx_12.GP.y[n_init:(n_init+iters)]) \n",
        "exact_output_12 = np.append(np.min(-exact_12.GP.y[0:n_init]),-exact_12.GP.y[n_init:(n_init+iters)]) \n",
        "\n",
        "regret_approx_12 = np.log(approx_output_12 - y_global_orig)\n",
        "regret_exact_12 = np.log(exact_output_12 - y_global_orig)\n",
        "\n",
        "simple_regret_approx_12 = min_max_array(regret_approx_12)\n",
        "simple_regret_exact_12 = min_max_array(regret_exact_12)\n",
        "\n",
        "min_simple_regret_approx_12 = min(simple_regret_approx_12)\n",
        "min_simple_regret_exact_12 = min(simple_regret_exact_12)\n",
        "\n",
        "min_simple_regret_approx_12, min_simple_regret_exact_12"
      ]
    },
    {
      "cell_type": "code",
      "execution_count": 67,
      "metadata": {
        "id": "K6OiGcHkQxfw",
        "colab": {
          "base_uri": "https://localhost:8080/"
        },
        "outputId": "8d0819d1-259f-4539-fe48-b81349b2a5ba"
      },
      "outputs": [
        {
          "output_type": "execute_result",
          "data": {
            "text/plain": [
              "(0.8893911443319656, -0.0558952616430456)"
            ]
          },
          "metadata": {},
          "execution_count": 67
        }
      ],
      "source": [
        "### Simple regret minimization: run number = 13\n",
        "\n",
        "approx_output_13 = np.append(np.min(-approx_13.GP.y[0:n_init]),-approx_13.GP.y[n_init:(n_init+iters)]) \n",
        "exact_output_13 = np.append(np.min(-exact_13.GP.y[0:n_init]),-exact_13.GP.y[n_init:(n_init+iters)]) \n",
        "\n",
        "regret_approx_13 = np.log(approx_output_13 - y_global_orig)\n",
        "regret_exact_13 = np.log(exact_output_13 - y_global_orig)\n",
        "\n",
        "simple_regret_approx_13 = min_max_array(regret_approx_13)\n",
        "simple_regret_exact_13 = min_max_array(regret_exact_13)\n",
        "\n",
        "min_simple_regret_approx_13 = min(simple_regret_approx_13)\n",
        "min_simple_regret_exact_13 = min(simple_regret_exact_13)\n",
        "\n",
        "min_simple_regret_approx_13, min_simple_regret_exact_13"
      ]
    },
    {
      "cell_type": "code",
      "execution_count": 68,
      "metadata": {
        "id": "ogML73shQxfx",
        "colab": {
          "base_uri": "https://localhost:8080/"
        },
        "outputId": "5f9d4291-549d-4b34-9600-cd097a5e6116"
      },
      "outputs": [
        {
          "output_type": "execute_result",
          "data": {
            "text/plain": [
              "(0.5949161906605641, 0.5949161906605641)"
            ]
          },
          "metadata": {},
          "execution_count": 68
        }
      ],
      "source": [
        "### Simple regret minimization: run number = 14\n",
        "\n",
        "approx_output_14 = np.append(np.min(-approx_14.GP.y[0:n_init]),-approx_14.GP.y[n_init:(n_init+iters)]) \n",
        "exact_output_14 = np.append(np.min(-exact_14.GP.y[0:n_init]),-exact_14.GP.y[n_init:(n_init+iters)]) \n",
        "\n",
        "regret_approx_14 = np.log(approx_output_14 - y_global_orig)\n",
        "regret_exact_14 = np.log(exact_output_14 - y_global_orig)\n",
        "\n",
        "simple_regret_approx_14 = min_max_array(regret_approx_14)\n",
        "simple_regret_exact_14 = min_max_array(regret_exact_14)\n",
        "\n",
        "min_simple_regret_approx_14 = min(simple_regret_approx_14)\n",
        "min_simple_regret_exact_14 = min(simple_regret_exact_14)\n",
        "\n",
        "min_simple_regret_approx_14, min_simple_regret_exact_14"
      ]
    },
    {
      "cell_type": "code",
      "execution_count": 69,
      "metadata": {
        "id": "9Eg7gFT9Qxfx",
        "colab": {
          "base_uri": "https://localhost:8080/"
        },
        "outputId": "ddb59947-38ac-4510-d7be-9a7931752a8d"
      },
      "outputs": [
        {
          "output_type": "execute_result",
          "data": {
            "text/plain": [
              "(1.3500029008048207, 1.1129763185740422)"
            ]
          },
          "metadata": {},
          "execution_count": 69
        }
      ],
      "source": [
        "### Simple regret minimization: run number = 15\n",
        "\n",
        "approx_output_15 = np.append(np.min(-approx_15.GP.y[0:n_init]),-approx_15.GP.y[n_init:(n_init+iters)]) \n",
        "exact_output_15 = np.append(np.min(-exact_15.GP.y[0:n_init]),-exact_15.GP.y[n_init:(n_init+iters)]) \n",
        "\n",
        "regret_approx_15 = np.log(approx_output_15 - y_global_orig)\n",
        "regret_exact_15 = np.log(exact_output_15 - y_global_orig)\n",
        "\n",
        "simple_regret_approx_15 = min_max_array(regret_approx_15)\n",
        "simple_regret_exact_15 = min_max_array(regret_exact_15)\n",
        "\n",
        "min_simple_regret_approx_15 = min(simple_regret_approx_15)\n",
        "min_simple_regret_exact_15 = min(simple_regret_exact_15)\n",
        "\n",
        "min_simple_regret_approx_15, min_simple_regret_exact_15"
      ]
    },
    {
      "cell_type": "code",
      "execution_count": 70,
      "metadata": {
        "id": "lIAC1U7ZQxfy",
        "colab": {
          "base_uri": "https://localhost:8080/"
        },
        "outputId": "be820be0-e2ee-4498-8bd5-e324408cab3d"
      },
      "outputs": [
        {
          "output_type": "execute_result",
          "data": {
            "text/plain": [
              "(1.1358281109947383, 1.1358281109947383)"
            ]
          },
          "metadata": {},
          "execution_count": 70
        }
      ],
      "source": [
        "### Simple regret minimization: run number = 16\n",
        "\n",
        "approx_output_16 = np.append(np.min(-approx_16.GP.y[0:n_init]),-approx_16.GP.y[n_init:(n_init+iters)]) \n",
        "exact_output_16 = np.append(np.min(-exact_16.GP.y[0:n_init]),-exact_16.GP.y[n_init:(n_init+iters)]) \n",
        "\n",
        "regret_approx_16 = np.log(approx_output_16 - y_global_orig)\n",
        "regret_exact_16 = np.log(exact_output_16 - y_global_orig)\n",
        "\n",
        "simple_regret_approx_16 = min_max_array(regret_approx_16)\n",
        "simple_regret_exact_16 = min_max_array(regret_exact_16)\n",
        "\n",
        "min_simple_regret_approx_16 = min(simple_regret_approx_16)\n",
        "min_simple_regret_exact_16 = min(simple_regret_exact_16)\n",
        "\n",
        "min_simple_regret_approx_16, min_simple_regret_exact_16"
      ]
    },
    {
      "cell_type": "code",
      "execution_count": 71,
      "metadata": {
        "id": "bGott36OQxfz",
        "colab": {
          "base_uri": "https://localhost:8080/"
        },
        "outputId": "3d423e8c-4281-42de-e50a-459f97111f47"
      },
      "outputs": [
        {
          "output_type": "execute_result",
          "data": {
            "text/plain": [
              "(0.8820720180169406, 0.8104034599570697)"
            ]
          },
          "metadata": {},
          "execution_count": 71
        }
      ],
      "source": [
        "### Simple regret minimization: run number = 17\n",
        "\n",
        "approx_output_17 = np.append(np.min(-approx_17.GP.y[0:n_init]),-approx_17.GP.y[n_init:(n_init+iters)]) \n",
        "exact_output_17 = np.append(np.min(-exact_17.GP.y[0:n_init]),-exact_17.GP.y[n_init:(n_init+iters)]) \n",
        "\n",
        "regret_approx_17 = np.log(approx_output_17 - y_global_orig)\n",
        "regret_exact_17 = np.log(exact_output_17 - y_global_orig)\n",
        "\n",
        "simple_regret_approx_17 = min_max_array(regret_approx_17)\n",
        "simple_regret_exact_17 = min_max_array(regret_exact_17)\n",
        "\n",
        "min_simple_regret_approx_17 = min(simple_regret_approx_17)\n",
        "min_simple_regret_exact_17 = min(simple_regret_exact_17)\n",
        "\n",
        "min_simple_regret_approx_17, min_simple_regret_exact_17"
      ]
    },
    {
      "cell_type": "code",
      "execution_count": 72,
      "metadata": {
        "id": "Cz9ZYMBMQxfz",
        "colab": {
          "base_uri": "https://localhost:8080/"
        },
        "outputId": "8b8c899a-646e-42fe-b981-4b24f6123a68"
      },
      "outputs": [
        {
          "output_type": "execute_result",
          "data": {
            "text/plain": [
              "(1.4248853015967458, 1.2460942537685253)"
            ]
          },
          "metadata": {},
          "execution_count": 72
        }
      ],
      "source": [
        "### Simple regret minimization: run number = 18\n",
        "\n",
        "approx_output_18 = np.append(np.min(-approx_18.GP.y[0:n_init]),-approx_18.GP.y[n_init:(n_init+iters)]) \n",
        "exact_output_18 = np.append(np.min(-exact_18.GP.y[0:n_init]),-exact_18.GP.y[n_init:(n_init+iters)]) \n",
        "\n",
        "regret_approx_18 = np.log(approx_output_18 - y_global_orig)\n",
        "regret_exact_18 = np.log(exact_output_18 - y_global_orig)\n",
        "\n",
        "simple_regret_approx_18 = min_max_array(regret_approx_18)\n",
        "simple_regret_exact_18 = min_max_array(regret_exact_18)\n",
        "\n",
        "min_simple_regret_approx_18 = min(simple_regret_approx_18)\n",
        "min_simple_regret_exact_18 = min(simple_regret_exact_18)\n",
        "\n",
        "min_simple_regret_approx_18, min_simple_regret_exact_18"
      ]
    },
    {
      "cell_type": "code",
      "execution_count": 73,
      "metadata": {
        "id": "OBfpWOHNQxf0",
        "colab": {
          "base_uri": "https://localhost:8080/"
        },
        "outputId": "a1d4fc8d-ab3a-4007-e4b6-bb30c24f2d55"
      },
      "outputs": [
        {
          "output_type": "execute_result",
          "data": {
            "text/plain": [
              "(-0.2081226773055177, 0.1970022317043208)"
            ]
          },
          "metadata": {},
          "execution_count": 73
        }
      ],
      "source": [
        "### Simple regret minimization: run number = 19\n",
        "\n",
        "approx_output_19 = np.append(np.min(-approx_19.GP.y[0:n_init]),-approx_19.GP.y[n_init:(n_init+iters)]) \n",
        "exact_output_19 = np.append(np.min(-exact_19.GP.y[0:n_init]),-exact_19.GP.y[n_init:(n_init+iters)]) \n",
        "\n",
        "regret_approx_19 = np.log(approx_output_19 - y_global_orig)\n",
        "regret_exact_19 = np.log(exact_output_19 - y_global_orig)\n",
        "\n",
        "simple_regret_approx_19 = min_max_array(regret_approx_19)\n",
        "simple_regret_exact_19 = min_max_array(regret_exact_19)\n",
        "\n",
        "min_simple_regret_approx_19 = min(simple_regret_approx_19)\n",
        "min_simple_regret_exact_19 = min(simple_regret_exact_19)\n",
        "\n",
        "min_simple_regret_approx_19, min_simple_regret_exact_19"
      ]
    },
    {
      "cell_type": "code",
      "execution_count": 74,
      "metadata": {
        "id": "BE1AJ7NsQxf0",
        "colab": {
          "base_uri": "https://localhost:8080/"
        },
        "outputId": "57e252c6-9d64-47f8-a6aa-2ab098073ac9"
      },
      "outputs": [
        {
          "output_type": "execute_result",
          "data": {
            "text/plain": [
              "(1.8631520657774585, 0.8543371351674189)"
            ]
          },
          "metadata": {},
          "execution_count": 74
        }
      ],
      "source": [
        "### Simple regret minimization: run number = 20\n",
        "\n",
        "approx_output_20 = np.append(np.min(-approx_20.GP.y[0:n_init]),-approx_20.GP.y[n_init:(n_init+iters)]) \n",
        "exact_output_20 = np.append(np.min(-exact_20.GP.y[0:n_init]),-exact_20.GP.y[n_init:(n_init+iters)]) \n",
        "\n",
        "regret_approx_20 = np.log(approx_output_20 - y_global_orig)\n",
        "regret_exact_20 = np.log(exact_output_20 - y_global_orig)\n",
        "\n",
        "simple_regret_approx_20 = min_max_array(regret_approx_20)\n",
        "simple_regret_exact_20 = min_max_array(regret_exact_20)\n",
        "\n",
        "min_simple_regret_approx_20 = min(simple_regret_approx_20)\n",
        "min_simple_regret_exact_20 = min(simple_regret_exact_20)\n",
        "\n",
        "min_simple_regret_approx_20, min_simple_regret_exact_20"
      ]
    },
    {
      "cell_type": "code",
      "execution_count": 75,
      "metadata": {
        "id": "bpX-bKAHQxf1"
      },
      "outputs": [],
      "source": [
        "# Iteration1 :\n",
        "\n",
        "slice1 = 0\n",
        "\n",
        "approx1 = [simple_regret_approx_1[slice1],\n",
        "       simple_regret_approx_2[slice1],\n",
        "       simple_regret_approx_3[slice1],\n",
        "       simple_regret_approx_4[slice1],\n",
        "       simple_regret_approx_5[slice1],\n",
        "       simple_regret_approx_6[slice1],\n",
        "       simple_regret_approx_7[slice1],\n",
        "       simple_regret_approx_8[slice1],\n",
        "       simple_regret_approx_9[slice1],\n",
        "       simple_regret_approx_10[slice1],\n",
        "       simple_regret_approx_11[slice1],\n",
        "       simple_regret_approx_12[slice1],\n",
        "       simple_regret_approx_13[slice1],\n",
        "       simple_regret_approx_14[slice1],\n",
        "       simple_regret_approx_15[slice1],\n",
        "       simple_regret_approx_16[slice1],\n",
        "       simple_regret_approx_17[slice1],\n",
        "       simple_regret_approx_18[slice1],\n",
        "       simple_regret_approx_19[slice1],\n",
        "       simple_regret_approx_20[slice1]]\n",
        "\n",
        "exact1 = [simple_regret_exact_1[slice1],\n",
        "       simple_regret_exact_2[slice1],\n",
        "       simple_regret_exact_3[slice1],\n",
        "       simple_regret_exact_4[slice1],\n",
        "       simple_regret_exact_5[slice1],\n",
        "       simple_regret_exact_6[slice1],\n",
        "       simple_regret_exact_7[slice1],\n",
        "       simple_regret_exact_8[slice1],\n",
        "       simple_regret_exact_9[slice1],\n",
        "       simple_regret_exact_10[slice1],\n",
        "       simple_regret_exact_11[slice1],\n",
        "       simple_regret_exact_12[slice1],\n",
        "       simple_regret_exact_13[slice1],\n",
        "       simple_regret_exact_14[slice1],\n",
        "       simple_regret_exact_15[slice1],\n",
        "       simple_regret_exact_16[slice1],\n",
        "       simple_regret_exact_17[slice1],\n",
        "       simple_regret_exact_18[slice1],\n",
        "       simple_regret_exact_19[slice1],\n",
        "       simple_regret_exact_20[slice1]]\n",
        "\n",
        "approx1_results = pd.DataFrame(approx1).sort_values(by=[0], ascending=False)\n",
        "exact1_results = pd.DataFrame(exact1).sort_values(by=[0], ascending=False)\n",
        "\n",
        "### Best simple regret minimization IQR - approx:\n",
        "lower_approx1 = np.asarray(approx1_results[4:5][0])[0]\n",
        "median_approx1 = np.asarray(approx1_results[9:10][0])[0]\n",
        "upper_approx1 = np.asarray(approx1_results[14:15][0])[0]\n",
        "\n",
        "lower_exact1 = np.asarray(exact1_results[4:5][0])[0]\n",
        "median_exact1 = np.asarray(exact1_results[9:10][0])[0]\n",
        "upper_exact1 = np.asarray(exact1_results[14:15][0])[0]"
      ]
    },
    {
      "cell_type": "code",
      "execution_count": 76,
      "metadata": {
        "id": "CgIkJA1xQxf2"
      },
      "outputs": [],
      "source": [
        "# Iteration11 :\n",
        "\n",
        "slice11 = 10\n",
        "\n",
        "approx11 = [simple_regret_approx_1[slice11],\n",
        "       simple_regret_approx_2[slice11],\n",
        "       simple_regret_approx_3[slice11],\n",
        "       simple_regret_approx_4[slice11],\n",
        "       simple_regret_approx_5[slice11],\n",
        "       simple_regret_approx_6[slice11],\n",
        "       simple_regret_approx_7[slice11],\n",
        "       simple_regret_approx_8[slice11],\n",
        "       simple_regret_approx_9[slice11],\n",
        "       simple_regret_approx_10[slice11],\n",
        "       simple_regret_approx_11[slice11],\n",
        "       simple_regret_approx_12[slice11],\n",
        "       simple_regret_approx_13[slice11],\n",
        "       simple_regret_approx_14[slice11],\n",
        "       simple_regret_approx_15[slice11],\n",
        "       simple_regret_approx_16[slice11],\n",
        "       simple_regret_approx_17[slice11],\n",
        "       simple_regret_approx_18[slice11],\n",
        "       simple_regret_approx_19[slice11],\n",
        "       simple_regret_approx_20[slice11]]\n",
        "\n",
        "exact11 = [simple_regret_exact_1[slice11],\n",
        "       simple_regret_exact_2[slice11],\n",
        "       simple_regret_exact_3[slice11],\n",
        "       simple_regret_exact_4[slice11],\n",
        "       simple_regret_exact_5[slice11],\n",
        "       simple_regret_exact_6[slice11],\n",
        "       simple_regret_exact_7[slice11],\n",
        "       simple_regret_exact_8[slice11],\n",
        "       simple_regret_exact_9[slice11],\n",
        "       simple_regret_exact_10[slice11],\n",
        "       simple_regret_exact_11[slice11],\n",
        "       simple_regret_exact_12[slice11],\n",
        "       simple_regret_exact_13[slice11],\n",
        "       simple_regret_exact_14[slice11],\n",
        "       simple_regret_exact_15[slice11],\n",
        "       simple_regret_exact_16[slice11],\n",
        "       simple_regret_exact_17[slice11],\n",
        "       simple_regret_exact_18[slice11],\n",
        "       simple_regret_exact_19[slice11],\n",
        "       simple_regret_exact_20[slice11]]\n",
        "\n",
        "approx11_results = pd.DataFrame(approx11).sort_values(by=[0], ascending=False)\n",
        "exact11_results = pd.DataFrame(exact11).sort_values(by=[0], ascending=False)\n",
        "\n",
        "### Best simple regret minimization IQR - approx:\n",
        "lower_approx11 = np.asarray(approx11_results[4:5][0])[0]\n",
        "median_approx11 = np.asarray(approx11_results[9:10][0])[0]\n",
        "upper_approx11 = np.asarray(approx11_results[14:15][0])[0]\n",
        "\n",
        "lower_exact11 = np.asarray(exact11_results[4:5][0])[0]\n",
        "median_exact11 = np.asarray(exact11_results[9:10][0])[0]\n",
        "upper_exact11 = np.asarray(exact11_results[14:15][0])[0]"
      ]
    },
    {
      "cell_type": "code",
      "execution_count": 77,
      "metadata": {
        "id": "MFePDfGuQxf2"
      },
      "outputs": [],
      "source": [
        "# Iteration21 :\n",
        "\n",
        "slice21 = 20\n",
        "\n",
        "approx21 = [simple_regret_approx_1[slice21],\n",
        "       simple_regret_approx_2[slice21],\n",
        "       simple_regret_approx_3[slice21],\n",
        "       simple_regret_approx_4[slice21],\n",
        "       simple_regret_approx_5[slice21],\n",
        "       simple_regret_approx_6[slice21],\n",
        "       simple_regret_approx_7[slice21],\n",
        "       simple_regret_approx_8[slice21],\n",
        "       simple_regret_approx_9[slice21],\n",
        "       simple_regret_approx_10[slice21],\n",
        "       simple_regret_approx_11[slice21],\n",
        "       simple_regret_approx_12[slice21],\n",
        "       simple_regret_approx_13[slice21],\n",
        "       simple_regret_approx_14[slice21],\n",
        "       simple_regret_approx_15[slice21],\n",
        "       simple_regret_approx_16[slice21],\n",
        "       simple_regret_approx_17[slice21],\n",
        "       simple_regret_approx_18[slice21],\n",
        "       simple_regret_approx_19[slice21],\n",
        "       simple_regret_approx_20[slice21]]\n",
        "\n",
        "exact21 = [simple_regret_exact_1[slice21],\n",
        "       simple_regret_exact_2[slice21],\n",
        "       simple_regret_exact_3[slice21],\n",
        "       simple_regret_exact_4[slice21],\n",
        "       simple_regret_exact_5[slice21],\n",
        "       simple_regret_exact_6[slice21],\n",
        "       simple_regret_exact_7[slice21],\n",
        "       simple_regret_exact_8[slice21],\n",
        "       simple_regret_exact_9[slice21],\n",
        "       simple_regret_exact_10[slice21],\n",
        "       simple_regret_exact_11[slice21],\n",
        "       simple_regret_exact_12[slice21],\n",
        "       simple_regret_exact_13[slice21],\n",
        "       simple_regret_exact_14[slice21],\n",
        "       simple_regret_exact_15[slice21],\n",
        "       simple_regret_exact_16[slice21],\n",
        "       simple_regret_exact_17[slice21],\n",
        "       simple_regret_exact_18[slice21],\n",
        "       simple_regret_exact_19[slice21],\n",
        "       simple_regret_exact_20[slice21]]\n",
        "\n",
        "approx21_results = pd.DataFrame(approx21).sort_values(by=[0], ascending=False)\n",
        "exact21_results = pd.DataFrame(exact21).sort_values(by=[0], ascending=False)\n",
        "\n",
        "### Best simple regret minimization IQR - approx:\n",
        "lower_approx21 = np.asarray(approx21_results[4:5][0])[0]\n",
        "median_approx21 = np.asarray(approx21_results[9:10][0])[0]\n",
        "upper_approx21 = np.asarray(approx21_results[14:15][0])[0]\n",
        "\n",
        "lower_exact21 = np.asarray(exact21_results[4:5][0])[0]\n",
        "median_exact21 = np.asarray(exact21_results[9:10][0])[0]\n",
        "upper_exact21 = np.asarray(exact21_results[14:15][0])[0]"
      ]
    },
    {
      "cell_type": "code",
      "execution_count": 78,
      "metadata": {
        "id": "PrRDB1kfQxf3"
      },
      "outputs": [],
      "source": [
        "# Iteration2 :\n",
        "\n",
        "slice2 = 1\n",
        "\n",
        "approx2 = [simple_regret_approx_1[slice2],\n",
        "       simple_regret_approx_2[slice2],\n",
        "       simple_regret_approx_3[slice2],\n",
        "       simple_regret_approx_4[slice2],\n",
        "       simple_regret_approx_5[slice2],\n",
        "       simple_regret_approx_6[slice2],\n",
        "       simple_regret_approx_7[slice2],\n",
        "       simple_regret_approx_8[slice2],\n",
        "       simple_regret_approx_9[slice2],\n",
        "       simple_regret_approx_10[slice2],\n",
        "       simple_regret_approx_11[slice2],\n",
        "       simple_regret_approx_12[slice2],\n",
        "       simple_regret_approx_13[slice2],\n",
        "       simple_regret_approx_14[slice2],\n",
        "       simple_regret_approx_15[slice2],\n",
        "       simple_regret_approx_16[slice2],\n",
        "       simple_regret_approx_17[slice2],\n",
        "       simple_regret_approx_18[slice2],\n",
        "       simple_regret_approx_19[slice2],\n",
        "       simple_regret_approx_20[slice2]]\n",
        "\n",
        "exact2 = [simple_regret_exact_1[slice2],\n",
        "       simple_regret_exact_2[slice2],\n",
        "       simple_regret_exact_3[slice2],\n",
        "       simple_regret_exact_4[slice2],\n",
        "       simple_regret_exact_5[slice2],\n",
        "       simple_regret_exact_6[slice2],\n",
        "       simple_regret_exact_7[slice2],\n",
        "       simple_regret_exact_8[slice2],\n",
        "       simple_regret_exact_9[slice2],\n",
        "       simple_regret_exact_10[slice2],\n",
        "       simple_regret_exact_11[slice2],\n",
        "       simple_regret_exact_12[slice2],\n",
        "       simple_regret_exact_13[slice2],\n",
        "       simple_regret_exact_14[slice2],\n",
        "       simple_regret_exact_15[slice2],\n",
        "       simple_regret_exact_16[slice2],\n",
        "       simple_regret_exact_17[slice2],\n",
        "       simple_regret_exact_18[slice2],\n",
        "       simple_regret_exact_19[slice2],\n",
        "       simple_regret_exact_20[slice2]]\n",
        "\n",
        "approx2_results = pd.DataFrame(approx2).sort_values(by=[0], ascending=False)\n",
        "exact2_results = pd.DataFrame(exact2).sort_values(by=[0], ascending=False)\n",
        "\n",
        "### Best simple regret minimization IQR - approx:\n",
        "lower_approx2 = np.asarray(approx2_results[4:5][0])[0]\n",
        "median_approx2 = np.asarray(approx2_results[9:10][0])[0]\n",
        "upper_approx2 = np.asarray(approx2_results[14:15][0])[0]\n",
        "\n",
        "lower_exact2 = np.asarray(exact2_results[4:5][0])[0]\n",
        "median_exact2 = np.asarray(exact2_results[9:10][0])[0]\n",
        "upper_exact2 = np.asarray(exact2_results[14:15][0])[0]"
      ]
    },
    {
      "cell_type": "code",
      "execution_count": 79,
      "metadata": {
        "id": "B8ncJDYeQxf3"
      },
      "outputs": [],
      "source": [
        "# Iteration12 :\n",
        "\n",
        "slice12 = 11\n",
        "\n",
        "approx12 = [simple_regret_approx_1[slice12],\n",
        "       simple_regret_approx_2[slice12],\n",
        "       simple_regret_approx_3[slice12],\n",
        "       simple_regret_approx_4[slice12],\n",
        "       simple_regret_approx_5[slice12],\n",
        "       simple_regret_approx_6[slice12],\n",
        "       simple_regret_approx_7[slice12],\n",
        "       simple_regret_approx_8[slice12],\n",
        "       simple_regret_approx_9[slice12],\n",
        "       simple_regret_approx_10[slice12],\n",
        "       simple_regret_approx_11[slice12],\n",
        "       simple_regret_approx_12[slice12],\n",
        "       simple_regret_approx_13[slice12],\n",
        "       simple_regret_approx_14[slice12],\n",
        "       simple_regret_approx_15[slice12],\n",
        "       simple_regret_approx_16[slice12],\n",
        "       simple_regret_approx_17[slice12],\n",
        "       simple_regret_approx_18[slice12],\n",
        "       simple_regret_approx_19[slice12],\n",
        "       simple_regret_approx_20[slice12]]\n",
        "\n",
        "exact12 = [simple_regret_exact_1[slice12],\n",
        "       simple_regret_exact_2[slice12],\n",
        "       simple_regret_exact_3[slice12],\n",
        "       simple_regret_exact_4[slice12],\n",
        "       simple_regret_exact_5[slice12],\n",
        "       simple_regret_exact_6[slice12],\n",
        "       simple_regret_exact_7[slice12],\n",
        "       simple_regret_exact_8[slice12],\n",
        "       simple_regret_exact_9[slice12],\n",
        "       simple_regret_exact_10[slice12],\n",
        "       simple_regret_exact_11[slice12],\n",
        "       simple_regret_exact_12[slice12],\n",
        "       simple_regret_exact_13[slice12],\n",
        "       simple_regret_exact_14[slice12],\n",
        "       simple_regret_exact_15[slice12],\n",
        "       simple_regret_exact_16[slice12],\n",
        "       simple_regret_exact_17[slice12],\n",
        "       simple_regret_exact_18[slice12],\n",
        "       simple_regret_exact_19[slice12],\n",
        "       simple_regret_exact_20[slice12]]\n",
        "\n",
        "approx12_results = pd.DataFrame(approx12).sort_values(by=[0], ascending=False)\n",
        "exact12_results = pd.DataFrame(exact12).sort_values(by=[0], ascending=False)\n",
        "\n",
        "### Best simple regret minimization IQR - approx:\n",
        "lower_approx12 = np.asarray(approx12_results[4:5][0])[0]\n",
        "median_approx12 = np.asarray(approx12_results[9:10][0])[0]\n",
        "upper_approx12 = np.asarray(approx12_results[14:15][0])[0]\n",
        "\n",
        "lower_exact12 = np.asarray(exact12_results[4:5][0])[0]\n",
        "median_exact12 = np.asarray(exact12_results[9:10][0])[0]\n",
        "upper_exact12 = np.asarray(exact12_results[14:15][0])[0]"
      ]
    },
    {
      "cell_type": "code",
      "execution_count": 80,
      "metadata": {
        "id": "Jn4KpGvcQxf4"
      },
      "outputs": [],
      "source": [
        "# Iteration3 :\n",
        "\n",
        "slice3 = 2\n",
        "\n",
        "approx3 = [simple_regret_approx_1[slice3],\n",
        "       simple_regret_approx_2[slice3],\n",
        "       simple_regret_approx_3[slice3],\n",
        "       simple_regret_approx_4[slice3],\n",
        "       simple_regret_approx_5[slice3],\n",
        "       simple_regret_approx_6[slice3],\n",
        "       simple_regret_approx_7[slice3],\n",
        "       simple_regret_approx_8[slice3],\n",
        "       simple_regret_approx_9[slice3],\n",
        "       simple_regret_approx_10[slice3],\n",
        "       simple_regret_approx_11[slice3],\n",
        "       simple_regret_approx_12[slice3],\n",
        "       simple_regret_approx_13[slice3],\n",
        "       simple_regret_approx_14[slice3],\n",
        "       simple_regret_approx_15[slice3],\n",
        "       simple_regret_approx_16[slice3],\n",
        "       simple_regret_approx_17[slice3],\n",
        "       simple_regret_approx_18[slice3],\n",
        "       simple_regret_approx_19[slice3],\n",
        "       simple_regret_approx_20[slice3]]\n",
        "\n",
        "exact3 = [simple_regret_exact_1[slice3],\n",
        "       simple_regret_exact_2[slice3],\n",
        "       simple_regret_exact_3[slice3],\n",
        "       simple_regret_exact_4[slice3],\n",
        "       simple_regret_exact_5[slice3],\n",
        "       simple_regret_exact_6[slice3],\n",
        "       simple_regret_exact_7[slice3],\n",
        "       simple_regret_exact_8[slice3],\n",
        "       simple_regret_exact_9[slice3],\n",
        "       simple_regret_exact_10[slice3],\n",
        "       simple_regret_exact_11[slice3],\n",
        "       simple_regret_exact_12[slice3],\n",
        "       simple_regret_exact_13[slice3],\n",
        "       simple_regret_exact_14[slice3],\n",
        "       simple_regret_exact_15[slice3],\n",
        "       simple_regret_exact_16[slice3],\n",
        "       simple_regret_exact_17[slice3],\n",
        "       simple_regret_exact_18[slice3],\n",
        "       simple_regret_exact_19[slice3],\n",
        "       simple_regret_exact_20[slice3]]\n",
        "\n",
        "approx3_results = pd.DataFrame(approx3).sort_values(by=[0], ascending=False)\n",
        "exact3_results = pd.DataFrame(exact3).sort_values(by=[0], ascending=False)\n",
        "\n",
        "### Best simple regret minimization IQR - approx:\n",
        "lower_approx3 = np.asarray(approx3_results[4:5][0])[0]\n",
        "median_approx3 = np.asarray(approx3_results[9:10][0])[0]\n",
        "upper_approx3 = np.asarray(approx3_results[14:15][0])[0]\n",
        "\n",
        "lower_exact3 = np.asarray(exact3_results[4:5][0])[0]\n",
        "median_exact3 = np.asarray(exact3_results[9:10][0])[0]\n",
        "upper_exact3 = np.asarray(exact3_results[14:15][0])[0]"
      ]
    },
    {
      "cell_type": "code",
      "execution_count": 81,
      "metadata": {
        "id": "plf83wxrQxf4"
      },
      "outputs": [],
      "source": [
        "# Iteration13 :\n",
        "\n",
        "slice13 = 12\n",
        "\n",
        "approx13 = [simple_regret_approx_1[slice13],\n",
        "       simple_regret_approx_2[slice13],\n",
        "       simple_regret_approx_3[slice13],\n",
        "       simple_regret_approx_4[slice13],\n",
        "       simple_regret_approx_5[slice13],\n",
        "       simple_regret_approx_6[slice13],\n",
        "       simple_regret_approx_7[slice13],\n",
        "       simple_regret_approx_8[slice13],\n",
        "       simple_regret_approx_9[slice13],\n",
        "       simple_regret_approx_10[slice13],\n",
        "       simple_regret_approx_11[slice13],\n",
        "       simple_regret_approx_12[slice13],\n",
        "       simple_regret_approx_13[slice13],\n",
        "       simple_regret_approx_14[slice13],\n",
        "       simple_regret_approx_15[slice13],\n",
        "       simple_regret_approx_16[slice13],\n",
        "       simple_regret_approx_17[slice13],\n",
        "       simple_regret_approx_18[slice13],\n",
        "       simple_regret_approx_19[slice13],\n",
        "       simple_regret_approx_20[slice13]]\n",
        "\n",
        "exact13 = [simple_regret_exact_1[slice13],\n",
        "       simple_regret_exact_2[slice13],\n",
        "       simple_regret_exact_3[slice13],\n",
        "       simple_regret_exact_4[slice13],\n",
        "       simple_regret_exact_5[slice13],\n",
        "       simple_regret_exact_6[slice13],\n",
        "       simple_regret_exact_7[slice13],\n",
        "       simple_regret_exact_8[slice13],\n",
        "       simple_regret_exact_9[slice13],\n",
        "       simple_regret_exact_10[slice13],\n",
        "       simple_regret_exact_11[slice13],\n",
        "       simple_regret_exact_12[slice13],\n",
        "       simple_regret_exact_13[slice13],\n",
        "       simple_regret_exact_14[slice13],\n",
        "       simple_regret_exact_15[slice13],\n",
        "       simple_regret_exact_16[slice13],\n",
        "       simple_regret_exact_17[slice13],\n",
        "       simple_regret_exact_18[slice13],\n",
        "       simple_regret_exact_19[slice13],\n",
        "       simple_regret_exact_20[slice13]]\n",
        "\n",
        "approx13_results = pd.DataFrame(approx13).sort_values(by=[0], ascending=False)\n",
        "exact13_results = pd.DataFrame(exact13).sort_values(by=[0], ascending=False)\n",
        "\n",
        "### Best simple regret minimization IQR - approx:\n",
        "lower_approx13 = np.asarray(approx13_results[4:5][0])[0]\n",
        "median_approx13 = np.asarray(approx13_results[9:10][0])[0]\n",
        "upper_approx13 = np.asarray(approx13_results[14:15][0])[0]\n",
        "\n",
        "lower_exact13 = np.asarray(exact13_results[4:5][0])[0]\n",
        "median_exact13 = np.asarray(exact13_results[9:10][0])[0]\n",
        "upper_exact13 = np.asarray(exact13_results[14:15][0])[0]"
      ]
    },
    {
      "cell_type": "code",
      "execution_count": 82,
      "metadata": {
        "id": "9A7mlVvJQxf5"
      },
      "outputs": [],
      "source": [
        "# Iteration4 :\n",
        "\n",
        "slice4 = 3\n",
        "\n",
        "approx4 = [simple_regret_approx_1[slice4],\n",
        "       simple_regret_approx_2[slice4],\n",
        "       simple_regret_approx_3[slice4],\n",
        "       simple_regret_approx_4[slice4],\n",
        "       simple_regret_approx_5[slice4],\n",
        "       simple_regret_approx_6[slice4],\n",
        "       simple_regret_approx_7[slice4],\n",
        "       simple_regret_approx_8[slice4],\n",
        "       simple_regret_approx_9[slice4],\n",
        "       simple_regret_approx_10[slice4],\n",
        "       simple_regret_approx_11[slice4],\n",
        "       simple_regret_approx_12[slice4],\n",
        "       simple_regret_approx_13[slice4],\n",
        "       simple_regret_approx_14[slice4],\n",
        "       simple_regret_approx_15[slice4],\n",
        "       simple_regret_approx_16[slice4],\n",
        "       simple_regret_approx_17[slice4],\n",
        "       simple_regret_approx_18[slice4],\n",
        "       simple_regret_approx_19[slice4],\n",
        "       simple_regret_approx_20[slice4]]\n",
        "\n",
        "exact4 = [simple_regret_exact_1[slice4],\n",
        "       simple_regret_exact_2[slice4],\n",
        "       simple_regret_exact_3[slice4],\n",
        "       simple_regret_exact_4[slice4],\n",
        "       simple_regret_exact_5[slice4],\n",
        "       simple_regret_exact_6[slice4],\n",
        "       simple_regret_exact_7[slice4],\n",
        "       simple_regret_exact_8[slice4],\n",
        "       simple_regret_exact_9[slice4],\n",
        "       simple_regret_exact_10[slice4],\n",
        "       simple_regret_exact_11[slice4],\n",
        "       simple_regret_exact_12[slice4],\n",
        "       simple_regret_exact_13[slice4],\n",
        "       simple_regret_exact_14[slice4],\n",
        "       simple_regret_exact_15[slice4],\n",
        "       simple_regret_exact_16[slice4],\n",
        "       simple_regret_exact_17[slice4],\n",
        "       simple_regret_exact_18[slice4],\n",
        "       simple_regret_exact_19[slice4],\n",
        "       simple_regret_exact_20[slice4]]\n",
        "\n",
        "approx4_results = pd.DataFrame(approx4).sort_values(by=[0], ascending=False)\n",
        "exact4_results = pd.DataFrame(exact4).sort_values(by=[0], ascending=False)\n",
        "\n",
        "### Best simple regret minimization IQR - approx:\n",
        "lower_approx4 = np.asarray(approx4_results[4:5][0])[0]\n",
        "median_approx4 = np.asarray(approx4_results[9:10][0])[0]\n",
        "upper_approx4 = np.asarray(approx4_results[14:15][0])[0]\n",
        "\n",
        "lower_exact4 = np.asarray(exact4_results[4:5][0])[0]\n",
        "median_exact4 = np.asarray(exact4_results[9:10][0])[0]\n",
        "upper_exact4 = np.asarray(exact4_results[14:15][0])[0]"
      ]
    },
    {
      "cell_type": "code",
      "execution_count": 83,
      "metadata": {
        "id": "ijq-rioYQxf5"
      },
      "outputs": [],
      "source": [
        "# Iteration14 :\n",
        "\n",
        "slice14 = 13\n",
        "\n",
        "approx14 = [simple_regret_approx_1[slice14],\n",
        "       simple_regret_approx_2[slice14],\n",
        "       simple_regret_approx_3[slice14],\n",
        "       simple_regret_approx_4[slice14],\n",
        "       simple_regret_approx_5[slice14],\n",
        "       simple_regret_approx_6[slice14],\n",
        "       simple_regret_approx_7[slice14],\n",
        "       simple_regret_approx_8[slice14],\n",
        "       simple_regret_approx_9[slice14],\n",
        "       simple_regret_approx_10[slice14],\n",
        "       simple_regret_approx_11[slice14],\n",
        "       simple_regret_approx_12[slice14],\n",
        "       simple_regret_approx_13[slice14],\n",
        "       simple_regret_approx_14[slice14],\n",
        "       simple_regret_approx_15[slice14],\n",
        "       simple_regret_approx_16[slice14],\n",
        "       simple_regret_approx_17[slice14],\n",
        "       simple_regret_approx_18[slice14],\n",
        "       simple_regret_approx_19[slice14],\n",
        "       simple_regret_approx_20[slice14]]\n",
        "\n",
        "exact14 = [simple_regret_exact_1[slice14],\n",
        "       simple_regret_exact_2[slice14],\n",
        "       simple_regret_exact_3[slice14],\n",
        "       simple_regret_exact_4[slice14],\n",
        "       simple_regret_exact_5[slice14],\n",
        "       simple_regret_exact_6[slice14],\n",
        "       simple_regret_exact_7[slice14],\n",
        "       simple_regret_exact_8[slice14],\n",
        "       simple_regret_exact_9[slice14],\n",
        "       simple_regret_exact_10[slice14],\n",
        "       simple_regret_exact_11[slice14],\n",
        "       simple_regret_exact_12[slice14],\n",
        "       simple_regret_exact_13[slice14],\n",
        "       simple_regret_exact_14[slice14],\n",
        "       simple_regret_exact_15[slice14],\n",
        "       simple_regret_exact_16[slice14],\n",
        "       simple_regret_exact_17[slice14],\n",
        "       simple_regret_exact_18[slice14],\n",
        "       simple_regret_exact_19[slice14],\n",
        "       simple_regret_exact_20[slice14]]\n",
        "\n",
        "approx14_results = pd.DataFrame(approx14).sort_values(by=[0], ascending=False)\n",
        "exact14_results = pd.DataFrame(exact14).sort_values(by=[0], ascending=False)\n",
        "\n",
        "### Best simple regret minimization IQR - approx:\n",
        "lower_approx14 = np.asarray(approx14_results[4:5][0])[0]\n",
        "median_approx14 = np.asarray(approx14_results[9:10][0])[0]\n",
        "upper_approx14 = np.asarray(approx14_results[14:15][0])[0]\n",
        "\n",
        "lower_exact14 = np.asarray(exact14_results[4:5][0])[0]\n",
        "median_exact14 = np.asarray(exact14_results[9:10][0])[0]\n",
        "upper_exact14 = np.asarray(exact14_results[14:15][0])[0]"
      ]
    },
    {
      "cell_type": "code",
      "execution_count": 84,
      "metadata": {
        "id": "XINlZjoTd-ZK"
      },
      "outputs": [],
      "source": [
        "# Iteration5 :\n",
        "\n",
        "slice5 = 4\n",
        "\n",
        "approx5 = [simple_regret_approx_1[slice5],\n",
        "       simple_regret_approx_2[slice5],\n",
        "       simple_regret_approx_3[slice5],\n",
        "       simple_regret_approx_4[slice5],\n",
        "       simple_regret_approx_5[slice5],\n",
        "       simple_regret_approx_6[slice5],\n",
        "       simple_regret_approx_7[slice5],\n",
        "       simple_regret_approx_8[slice5],\n",
        "       simple_regret_approx_9[slice5],\n",
        "       simple_regret_approx_10[slice5],\n",
        "       simple_regret_approx_11[slice5],\n",
        "       simple_regret_approx_12[slice5],\n",
        "       simple_regret_approx_13[slice5],\n",
        "       simple_regret_approx_14[slice5],\n",
        "       simple_regret_approx_15[slice5],\n",
        "       simple_regret_approx_16[slice5],\n",
        "       simple_regret_approx_17[slice5],\n",
        "       simple_regret_approx_18[slice5],\n",
        "       simple_regret_approx_19[slice5],\n",
        "       simple_regret_approx_20[slice5]]\n",
        "\n",
        "exact5 = [simple_regret_exact_1[slice5],\n",
        "       simple_regret_exact_2[slice5],\n",
        "       simple_regret_exact_3[slice5],\n",
        "       simple_regret_exact_4[slice5],\n",
        "       simple_regret_exact_5[slice5],\n",
        "       simple_regret_exact_6[slice5],\n",
        "       simple_regret_exact_7[slice5],\n",
        "       simple_regret_exact_8[slice5],\n",
        "       simple_regret_exact_9[slice5],\n",
        "       simple_regret_exact_10[slice5],\n",
        "       simple_regret_exact_11[slice5],\n",
        "       simple_regret_exact_12[slice5],\n",
        "       simple_regret_exact_13[slice5],\n",
        "       simple_regret_exact_14[slice5],\n",
        "       simple_regret_exact_15[slice5],\n",
        "       simple_regret_exact_16[slice5],\n",
        "       simple_regret_exact_17[slice5],\n",
        "       simple_regret_exact_18[slice5],\n",
        "       simple_regret_exact_19[slice5],\n",
        "       simple_regret_exact_20[slice5]]\n",
        "\n",
        "approx5_results = pd.DataFrame(approx5).sort_values(by=[0], ascending=False)\n",
        "exact5_results = pd.DataFrame(exact5).sort_values(by=[0], ascending=False)\n",
        "\n",
        "### Best simple regret minimization IQR - approx:\n",
        "lower_approx5 = np.asarray(approx5_results[4:5][0])[0]\n",
        "median_approx5 = np.asarray(approx5_results[9:10][0])[0]\n",
        "upper_approx5 = np.asarray(approx5_results[14:15][0])[0]\n",
        "\n",
        "lower_exact5 = np.asarray(exact5_results[4:5][0])[0]\n",
        "median_exact5 = np.asarray(exact5_results[9:10][0])[0]\n",
        "upper_exact5 = np.asarray(exact5_results[14:15][0])[0]"
      ]
    },
    {
      "cell_type": "code",
      "execution_count": 85,
      "metadata": {
        "id": "4aZ7C8sOQxf6"
      },
      "outputs": [],
      "source": [
        "# Iteration15 :\n",
        "\n",
        "slice15 = 14\n",
        "\n",
        "approx15 = [simple_regret_approx_1[slice15],\n",
        "       simple_regret_approx_2[slice15],\n",
        "       simple_regret_approx_3[slice15],\n",
        "       simple_regret_approx_4[slice15],\n",
        "       simple_regret_approx_5[slice15],\n",
        "       simple_regret_approx_6[slice15],\n",
        "       simple_regret_approx_7[slice15],\n",
        "       simple_regret_approx_8[slice15],\n",
        "       simple_regret_approx_9[slice15],\n",
        "       simple_regret_approx_10[slice15],\n",
        "       simple_regret_approx_11[slice15],\n",
        "       simple_regret_approx_12[slice15],\n",
        "       simple_regret_approx_13[slice15],\n",
        "       simple_regret_approx_14[slice15],\n",
        "       simple_regret_approx_15[slice15],\n",
        "       simple_regret_approx_16[slice15],\n",
        "       simple_regret_approx_17[slice15],\n",
        "       simple_regret_approx_18[slice15],\n",
        "       simple_regret_approx_19[slice15],\n",
        "       simple_regret_approx_20[slice15]]\n",
        "\n",
        "exact15 = [simple_regret_exact_1[slice15],\n",
        "       simple_regret_exact_2[slice15],\n",
        "       simple_regret_exact_3[slice15],\n",
        "       simple_regret_exact_4[slice15],\n",
        "       simple_regret_exact_5[slice15],\n",
        "       simple_regret_exact_6[slice15],\n",
        "       simple_regret_exact_7[slice15],\n",
        "       simple_regret_exact_8[slice15],\n",
        "       simple_regret_exact_9[slice15],\n",
        "       simple_regret_exact_10[slice15],\n",
        "       simple_regret_exact_11[slice15],\n",
        "       simple_regret_exact_12[slice15],\n",
        "       simple_regret_exact_13[slice15],\n",
        "       simple_regret_exact_14[slice15],\n",
        "       simple_regret_exact_15[slice15],\n",
        "       simple_regret_exact_16[slice15],\n",
        "       simple_regret_exact_17[slice15],\n",
        "       simple_regret_exact_18[slice15],\n",
        "       simple_regret_exact_19[slice15],\n",
        "       simple_regret_exact_20[slice15]]\n",
        "\n",
        "approx15_results = pd.DataFrame(approx15).sort_values(by=[0], ascending=False)\n",
        "exact15_results = pd.DataFrame(exact15).sort_values(by=[0], ascending=False)\n",
        "\n",
        "### Best simple regret minimization IQR - approx:\n",
        "lower_approx15 = np.asarray(approx15_results[4:5][0])[0]\n",
        "median_approx15 = np.asarray(approx15_results[9:10][0])[0]\n",
        "upper_approx15 = np.asarray(approx15_results[14:15][0])[0]\n",
        "\n",
        "lower_exact15 = np.asarray(exact15_results[4:5][0])[0]\n",
        "median_exact15 = np.asarray(exact15_results[9:10][0])[0]\n",
        "upper_exact15 = np.asarray(exact15_results[14:15][0])[0]"
      ]
    },
    {
      "cell_type": "code",
      "execution_count": 86,
      "metadata": {
        "id": "KJINKhv1Qxf6"
      },
      "outputs": [],
      "source": [
        "# Iteration6 :\n",
        "\n",
        "slice6 = 5\n",
        "\n",
        "approx6 = [simple_regret_approx_1[slice6],\n",
        "       simple_regret_approx_2[slice6],\n",
        "       simple_regret_approx_3[slice6],\n",
        "       simple_regret_approx_4[slice6],\n",
        "       simple_regret_approx_5[slice6],\n",
        "       simple_regret_approx_6[slice6],\n",
        "       simple_regret_approx_7[slice6],\n",
        "       simple_regret_approx_8[slice6],\n",
        "       simple_regret_approx_9[slice6],\n",
        "       simple_regret_approx_10[slice6],\n",
        "       simple_regret_approx_11[slice6],\n",
        "       simple_regret_approx_12[slice6],\n",
        "       simple_regret_approx_13[slice6],\n",
        "       simple_regret_approx_14[slice6],\n",
        "       simple_regret_approx_15[slice6],\n",
        "       simple_regret_approx_16[slice6],\n",
        "       simple_regret_approx_17[slice6],\n",
        "       simple_regret_approx_18[slice6],\n",
        "       simple_regret_approx_19[slice6],\n",
        "       simple_regret_approx_20[slice6]]\n",
        "\n",
        "exact6 = [simple_regret_exact_1[slice6],\n",
        "       simple_regret_exact_2[slice6],\n",
        "       simple_regret_exact_3[slice6],\n",
        "       simple_regret_exact_4[slice6],\n",
        "       simple_regret_exact_5[slice6],\n",
        "       simple_regret_exact_6[slice6],\n",
        "       simple_regret_exact_7[slice6],\n",
        "       simple_regret_exact_8[slice6],\n",
        "       simple_regret_exact_9[slice6],\n",
        "       simple_regret_exact_10[slice6],\n",
        "       simple_regret_exact_11[slice6],\n",
        "       simple_regret_exact_12[slice6],\n",
        "       simple_regret_exact_13[slice6],\n",
        "       simple_regret_exact_14[slice6],\n",
        "       simple_regret_exact_15[slice6],\n",
        "       simple_regret_exact_16[slice6],\n",
        "       simple_regret_exact_17[slice6],\n",
        "       simple_regret_exact_18[slice6],\n",
        "       simple_regret_exact_19[slice6],\n",
        "       simple_regret_exact_20[slice6]]\n",
        "\n",
        "approx6_results = pd.DataFrame(approx6).sort_values(by=[0], ascending=False)\n",
        "exact6_results = pd.DataFrame(exact6).sort_values(by=[0], ascending=False)\n",
        "\n",
        "### Best simple regret minimization IQR - approx:\n",
        "lower_approx6 = np.asarray(approx6_results[4:5][0])[0]\n",
        "median_approx6 = np.asarray(approx6_results[9:10][0])[0]\n",
        "upper_approx6 = np.asarray(approx6_results[14:15][0])[0]\n",
        "\n",
        "lower_exact6 = np.asarray(exact6_results[4:5][0])[0]\n",
        "median_exact6 = np.asarray(exact6_results[9:10][0])[0]\n",
        "upper_exact6 = np.asarray(exact6_results[14:15][0])[0]"
      ]
    },
    {
      "cell_type": "code",
      "execution_count": 87,
      "metadata": {
        "id": "nwC5N1FsQxf7"
      },
      "outputs": [],
      "source": [
        "# Iteration16 :\n",
        "\n",
        "slice16 = 15\n",
        "\n",
        "approx16 = [simple_regret_approx_1[slice16],\n",
        "       simple_regret_approx_2[slice16],\n",
        "       simple_regret_approx_3[slice16],\n",
        "       simple_regret_approx_4[slice16],\n",
        "       simple_regret_approx_5[slice16],\n",
        "       simple_regret_approx_6[slice16],\n",
        "       simple_regret_approx_7[slice16],\n",
        "       simple_regret_approx_8[slice16],\n",
        "       simple_regret_approx_9[slice16],\n",
        "       simple_regret_approx_10[slice16],\n",
        "       simple_regret_approx_11[slice16],\n",
        "       simple_regret_approx_12[slice16],\n",
        "       simple_regret_approx_13[slice16],\n",
        "       simple_regret_approx_14[slice16],\n",
        "       simple_regret_approx_15[slice16],\n",
        "       simple_regret_approx_16[slice16],\n",
        "       simple_regret_approx_17[slice16],\n",
        "       simple_regret_approx_18[slice16],\n",
        "       simple_regret_approx_19[slice16],\n",
        "       simple_regret_approx_20[slice16]]\n",
        "\n",
        "exact16 = [simple_regret_exact_1[slice16],\n",
        "       simple_regret_exact_2[slice16],\n",
        "       simple_regret_exact_3[slice16],\n",
        "       simple_regret_exact_4[slice16],\n",
        "       simple_regret_exact_5[slice16],\n",
        "       simple_regret_exact_6[slice16],\n",
        "       simple_regret_exact_7[slice16],\n",
        "       simple_regret_exact_8[slice16],\n",
        "       simple_regret_exact_9[slice16],\n",
        "       simple_regret_exact_10[slice16],\n",
        "       simple_regret_exact_11[slice16],\n",
        "       simple_regret_exact_12[slice16],\n",
        "       simple_regret_exact_13[slice16],\n",
        "       simple_regret_exact_14[slice16],\n",
        "       simple_regret_exact_15[slice16],\n",
        "       simple_regret_exact_16[slice16],\n",
        "       simple_regret_exact_17[slice16],\n",
        "       simple_regret_exact_18[slice16],\n",
        "       simple_regret_exact_19[slice16],\n",
        "       simple_regret_exact_20[slice16]]\n",
        "\n",
        "approx16_results = pd.DataFrame(approx16).sort_values(by=[0], ascending=False)\n",
        "exact16_results = pd.DataFrame(exact16).sort_values(by=[0], ascending=False)\n",
        "\n",
        "### Best simple regret minimization IQR - approx:\n",
        "lower_approx16 = np.asarray(approx16_results[4:5][0])[0]\n",
        "median_approx16 = np.asarray(approx16_results[9:10][0])[0]\n",
        "upper_approx16 = np.asarray(approx16_results[14:15][0])[0]\n",
        "\n",
        "lower_exact16 = np.asarray(exact16_results[4:5][0])[0]\n",
        "median_exact16 = np.asarray(exact16_results[9:10][0])[0]\n",
        "upper_exact16 = np.asarray(exact16_results[14:15][0])[0]"
      ]
    },
    {
      "cell_type": "code",
      "execution_count": 88,
      "metadata": {
        "id": "TrPV0AfnQxf7"
      },
      "outputs": [],
      "source": [
        "# Iteration7 :\n",
        "\n",
        "slice7 = 6\n",
        "\n",
        "approx7 = [simple_regret_approx_1[slice7],\n",
        "       simple_regret_approx_2[slice7],\n",
        "       simple_regret_approx_3[slice7],\n",
        "       simple_regret_approx_4[slice7],\n",
        "       simple_regret_approx_5[slice7],\n",
        "       simple_regret_approx_6[slice7],\n",
        "       simple_regret_approx_7[slice7],\n",
        "       simple_regret_approx_8[slice7],\n",
        "       simple_regret_approx_9[slice7],\n",
        "       simple_regret_approx_10[slice7],\n",
        "       simple_regret_approx_11[slice7],\n",
        "       simple_regret_approx_12[slice7],\n",
        "       simple_regret_approx_13[slice7],\n",
        "       simple_regret_approx_14[slice7],\n",
        "       simple_regret_approx_15[slice7],\n",
        "       simple_regret_approx_16[slice7],\n",
        "       simple_regret_approx_17[slice7],\n",
        "       simple_regret_approx_18[slice7],\n",
        "       simple_regret_approx_19[slice7],\n",
        "       simple_regret_approx_20[slice7]]\n",
        "\n",
        "exact7 = [simple_regret_exact_1[slice7],\n",
        "       simple_regret_exact_2[slice7],\n",
        "       simple_regret_exact_3[slice7],\n",
        "       simple_regret_exact_4[slice7],\n",
        "       simple_regret_exact_5[slice7],\n",
        "       simple_regret_exact_6[slice7],\n",
        "       simple_regret_exact_7[slice7],\n",
        "       simple_regret_exact_8[slice7],\n",
        "       simple_regret_exact_9[slice7],\n",
        "       simple_regret_exact_10[slice7],\n",
        "       simple_regret_exact_11[slice7],\n",
        "       simple_regret_exact_12[slice7],\n",
        "       simple_regret_exact_13[slice7],\n",
        "       simple_regret_exact_14[slice7],\n",
        "       simple_regret_exact_15[slice7],\n",
        "       simple_regret_exact_16[slice7],\n",
        "       simple_regret_exact_17[slice7],\n",
        "       simple_regret_exact_18[slice7],\n",
        "       simple_regret_exact_19[slice7],\n",
        "       simple_regret_exact_20[slice7]]\n",
        "\n",
        "approx7_results = pd.DataFrame(approx7).sort_values(by=[0], ascending=False)\n",
        "exact7_results = pd.DataFrame(exact7).sort_values(by=[0], ascending=False)\n",
        "\n",
        "### Best simple regret minimization IQR - approx:\n",
        "lower_approx7 = np.asarray(approx7_results[4:5][0])[0]\n",
        "median_approx7 = np.asarray(approx7_results[9:10][0])[0]\n",
        "upper_approx7 = np.asarray(approx7_results[14:15][0])[0]\n",
        "\n",
        "lower_exact7 = np.asarray(exact7_results[4:5][0])[0]\n",
        "median_exact7 = np.asarray(exact7_results[9:10][0])[0]\n",
        "upper_exact7 = np.asarray(exact7_results[14:15][0])[0]"
      ]
    },
    {
      "cell_type": "code",
      "execution_count": 89,
      "metadata": {
        "id": "Ub_-wpK4Qxf8"
      },
      "outputs": [],
      "source": [
        "# Iteration17 :\n",
        "\n",
        "slice17 = 16\n",
        "\n",
        "approx17 = [simple_regret_approx_1[slice17],\n",
        "       simple_regret_approx_2[slice17],\n",
        "       simple_regret_approx_3[slice17],\n",
        "       simple_regret_approx_4[slice17],\n",
        "       simple_regret_approx_5[slice17],\n",
        "       simple_regret_approx_6[slice17],\n",
        "       simple_regret_approx_7[slice17],\n",
        "       simple_regret_approx_8[slice17],\n",
        "       simple_regret_approx_9[slice17],\n",
        "       simple_regret_approx_10[slice17],\n",
        "       simple_regret_approx_11[slice17],\n",
        "       simple_regret_approx_12[slice17],\n",
        "       simple_regret_approx_13[slice17],\n",
        "       simple_regret_approx_14[slice17],\n",
        "       simple_regret_approx_15[slice17],\n",
        "       simple_regret_approx_16[slice17],\n",
        "       simple_regret_approx_17[slice17],\n",
        "       simple_regret_approx_18[slice17],\n",
        "       simple_regret_approx_19[slice17],\n",
        "       simple_regret_approx_20[slice17]]\n",
        "\n",
        "exact17 = [simple_regret_exact_1[slice17],\n",
        "       simple_regret_exact_2[slice17],\n",
        "       simple_regret_exact_3[slice17],\n",
        "       simple_regret_exact_4[slice17],\n",
        "       simple_regret_exact_5[slice17],\n",
        "       simple_regret_exact_6[slice17],\n",
        "       simple_regret_exact_7[slice17],\n",
        "       simple_regret_exact_8[slice17],\n",
        "       simple_regret_exact_9[slice17],\n",
        "       simple_regret_exact_10[slice17],\n",
        "       simple_regret_exact_11[slice17],\n",
        "       simple_regret_exact_12[slice17],\n",
        "       simple_regret_exact_13[slice17],\n",
        "       simple_regret_exact_14[slice17],\n",
        "       simple_regret_exact_15[slice17],\n",
        "       simple_regret_exact_16[slice17],\n",
        "       simple_regret_exact_17[slice17],\n",
        "       simple_regret_exact_18[slice17],\n",
        "       simple_regret_exact_19[slice17],\n",
        "       simple_regret_exact_20[slice17]]\n",
        "\n",
        "approx17_results = pd.DataFrame(approx17).sort_values(by=[0], ascending=False)\n",
        "exact17_results = pd.DataFrame(exact17).sort_values(by=[0], ascending=False)\n",
        "\n",
        "### Best simple regret minimization IQR - approx:\n",
        "lower_approx17 = np.asarray(approx17_results[4:5][0])[0]\n",
        "median_approx17 = np.asarray(approx17_results[9:10][0])[0]\n",
        "upper_approx17 = np.asarray(approx17_results[14:15][0])[0]\n",
        "\n",
        "lower_exact17 = np.asarray(exact17_results[4:5][0])[0]\n",
        "median_exact17 = np.asarray(exact17_results[9:10][0])[0]\n",
        "upper_exact17 = np.asarray(exact17_results[14:15][0])[0]"
      ]
    },
    {
      "cell_type": "code",
      "execution_count": 90,
      "metadata": {
        "id": "-6VLo37PQxf8"
      },
      "outputs": [],
      "source": [
        "# Iteration8 :\n",
        "\n",
        "slice8 = 7\n",
        "\n",
        "approx8 = [simple_regret_approx_1[slice8],\n",
        "       simple_regret_approx_2[slice8],\n",
        "       simple_regret_approx_3[slice8],\n",
        "       simple_regret_approx_4[slice8],\n",
        "       simple_regret_approx_5[slice8],\n",
        "       simple_regret_approx_6[slice8],\n",
        "       simple_regret_approx_7[slice8],\n",
        "       simple_regret_approx_8[slice8],\n",
        "       simple_regret_approx_9[slice8],\n",
        "       simple_regret_approx_10[slice8],\n",
        "       simple_regret_approx_11[slice8],\n",
        "       simple_regret_approx_12[slice8],\n",
        "       simple_regret_approx_13[slice8],\n",
        "       simple_regret_approx_14[slice8],\n",
        "       simple_regret_approx_15[slice8],\n",
        "       simple_regret_approx_16[slice8],\n",
        "       simple_regret_approx_17[slice8],\n",
        "       simple_regret_approx_18[slice8],\n",
        "       simple_regret_approx_19[slice8],\n",
        "       simple_regret_approx_20[slice8]]\n",
        "\n",
        "exact8 = [simple_regret_exact_1[slice8],\n",
        "       simple_regret_exact_2[slice8],\n",
        "       simple_regret_exact_3[slice8],\n",
        "       simple_regret_exact_4[slice8],\n",
        "       simple_regret_exact_5[slice8],\n",
        "       simple_regret_exact_6[slice8],\n",
        "       simple_regret_exact_7[slice8],\n",
        "       simple_regret_exact_8[slice8],\n",
        "       simple_regret_exact_9[slice8],\n",
        "       simple_regret_exact_10[slice8],\n",
        "       simple_regret_exact_11[slice8],\n",
        "       simple_regret_exact_12[slice8],\n",
        "       simple_regret_exact_13[slice8],\n",
        "       simple_regret_exact_14[slice8],\n",
        "       simple_regret_exact_15[slice8],\n",
        "       simple_regret_exact_16[slice8],\n",
        "       simple_regret_exact_17[slice8],\n",
        "       simple_regret_exact_18[slice8],\n",
        "       simple_regret_exact_19[slice8],\n",
        "       simple_regret_exact_20[slice8]]\n",
        "\n",
        "approx8_results = pd.DataFrame(approx8).sort_values(by=[0], ascending=False)\n",
        "exact8_results = pd.DataFrame(exact8).sort_values(by=[0], ascending=False)\n",
        "\n",
        "### Best simple regret minimization IQR - approx:\n",
        "lower_approx8 = np.asarray(approx8_results[4:5][0])[0]\n",
        "median_approx8 = np.asarray(approx8_results[9:10][0])[0]\n",
        "upper_approx8 = np.asarray(approx8_results[14:15][0])[0]\n",
        "\n",
        "lower_exact8 = np.asarray(exact8_results[4:5][0])[0]\n",
        "median_exact8 = np.asarray(exact8_results[9:10][0])[0]\n",
        "upper_exact8 = np.asarray(exact8_results[14:15][0])[0]"
      ]
    },
    {
      "cell_type": "code",
      "execution_count": 91,
      "metadata": {
        "id": "2Dp-9CC2Qxf9"
      },
      "outputs": [],
      "source": [
        "# Iteration18 :\n",
        "\n",
        "slice18 = 17\n",
        "\n",
        "approx18 = [simple_regret_approx_1[slice18],\n",
        "       simple_regret_approx_2[slice18],\n",
        "       simple_regret_approx_3[slice18],\n",
        "       simple_regret_approx_4[slice18],\n",
        "       simple_regret_approx_5[slice18],\n",
        "       simple_regret_approx_6[slice18],\n",
        "       simple_regret_approx_7[slice18],\n",
        "       simple_regret_approx_8[slice18],\n",
        "       simple_regret_approx_9[slice18],\n",
        "       simple_regret_approx_10[slice18],\n",
        "       simple_regret_approx_11[slice18],\n",
        "       simple_regret_approx_12[slice18],\n",
        "       simple_regret_approx_13[slice18],\n",
        "       simple_regret_approx_14[slice18],\n",
        "       simple_regret_approx_15[slice18],\n",
        "       simple_regret_approx_16[slice18],\n",
        "       simple_regret_approx_17[slice18],\n",
        "       simple_regret_approx_18[slice18],\n",
        "       simple_regret_approx_19[slice18],\n",
        "       simple_regret_approx_20[slice18]]\n",
        "\n",
        "exact18 = [simple_regret_exact_1[slice18],\n",
        "       simple_regret_exact_2[slice18],\n",
        "       simple_regret_exact_3[slice18],\n",
        "       simple_regret_exact_4[slice18],\n",
        "       simple_regret_exact_5[slice18],\n",
        "       simple_regret_exact_6[slice18],\n",
        "       simple_regret_exact_7[slice18],\n",
        "       simple_regret_exact_8[slice18],\n",
        "       simple_regret_exact_9[slice18],\n",
        "       simple_regret_exact_10[slice18],\n",
        "       simple_regret_exact_11[slice18],\n",
        "       simple_regret_exact_12[slice18],\n",
        "       simple_regret_exact_13[slice18],\n",
        "       simple_regret_exact_14[slice18],\n",
        "       simple_regret_exact_15[slice18],\n",
        "       simple_regret_exact_16[slice18],\n",
        "       simple_regret_exact_17[slice18],\n",
        "       simple_regret_exact_18[slice18],\n",
        "       simple_regret_exact_19[slice18],\n",
        "       simple_regret_exact_20[slice18]]\n",
        "\n",
        "approx18_results = pd.DataFrame(approx18).sort_values(by=[0], ascending=False)\n",
        "exact18_results = pd.DataFrame(exact18).sort_values(by=[0], ascending=False)\n",
        "\n",
        "### Best simple regret minimization IQR - approx:\n",
        "lower_approx18 = np.asarray(approx18_results[4:5][0])[0]\n",
        "median_approx18 = np.asarray(approx18_results[9:10][0])[0]\n",
        "upper_approx18 = np.asarray(approx18_results[14:15][0])[0]\n",
        "\n",
        "lower_exact18 = np.asarray(exact18_results[4:5][0])[0]\n",
        "median_exact18 = np.asarray(exact18_results[9:10][0])[0]\n",
        "upper_exact18 = np.asarray(exact18_results[14:15][0])[0]"
      ]
    },
    {
      "cell_type": "code",
      "execution_count": 92,
      "metadata": {
        "id": "SqiaOpB7Qxf9"
      },
      "outputs": [],
      "source": [
        "# Iteration9 :\n",
        "\n",
        "slice9 = 8\n",
        "\n",
        "approx9 = [simple_regret_approx_1[slice9],\n",
        "       simple_regret_approx_2[slice9],\n",
        "       simple_regret_approx_3[slice9],\n",
        "       simple_regret_approx_4[slice9],\n",
        "       simple_regret_approx_5[slice9],\n",
        "       simple_regret_approx_6[slice9],\n",
        "       simple_regret_approx_7[slice9],\n",
        "       simple_regret_approx_8[slice9],\n",
        "       simple_regret_approx_9[slice9],\n",
        "       simple_regret_approx_10[slice9],\n",
        "       simple_regret_approx_11[slice9],\n",
        "       simple_regret_approx_12[slice9],\n",
        "       simple_regret_approx_13[slice9],\n",
        "       simple_regret_approx_14[slice9],\n",
        "       simple_regret_approx_15[slice9],\n",
        "       simple_regret_approx_16[slice9],\n",
        "       simple_regret_approx_17[slice9],\n",
        "       simple_regret_approx_18[slice9],\n",
        "       simple_regret_approx_19[slice9],\n",
        "       simple_regret_approx_20[slice9]]\n",
        "\n",
        "exact9 = [simple_regret_exact_1[slice9],\n",
        "       simple_regret_exact_2[slice9],\n",
        "       simple_regret_exact_3[slice9],\n",
        "       simple_regret_exact_4[slice9],\n",
        "       simple_regret_exact_5[slice9],\n",
        "       simple_regret_exact_6[slice9],\n",
        "       simple_regret_exact_7[slice9],\n",
        "       simple_regret_exact_8[slice9],\n",
        "       simple_regret_exact_9[slice9],\n",
        "       simple_regret_exact_10[slice9],\n",
        "       simple_regret_exact_11[slice9],\n",
        "       simple_regret_exact_12[slice9],\n",
        "       simple_regret_exact_13[slice9],\n",
        "       simple_regret_exact_14[slice9],\n",
        "       simple_regret_exact_15[slice9],\n",
        "       simple_regret_exact_16[slice9],\n",
        "       simple_regret_exact_17[slice9],\n",
        "       simple_regret_exact_18[slice9],\n",
        "       simple_regret_exact_19[slice9],\n",
        "       simple_regret_exact_20[slice9]]\n",
        "\n",
        "approx9_results = pd.DataFrame(approx9).sort_values(by=[0], ascending=False)\n",
        "exact9_results = pd.DataFrame(exact9).sort_values(by=[0], ascending=False)\n",
        "\n",
        "### Best simple regret minimization IQR - approx:\n",
        "lower_approx9 = np.asarray(approx9_results[4:5][0])[0]\n",
        "median_approx9 = np.asarray(approx9_results[9:10][0])[0]\n",
        "upper_approx9 = np.asarray(approx9_results[14:15][0])[0]\n",
        "\n",
        "lower_exact9 = np.asarray(exact9_results[4:5][0])[0]\n",
        "median_exact9 = np.asarray(exact9_results[9:10][0])[0]\n",
        "upper_exact9 = np.asarray(exact9_results[14:15][0])[0]"
      ]
    },
    {
      "cell_type": "code",
      "execution_count": 93,
      "metadata": {
        "id": "OQkCCOsPQxf9"
      },
      "outputs": [],
      "source": [
        "# Iteration19 :\n",
        "\n",
        "slice19 = 18\n",
        "\n",
        "approx19 = [simple_regret_approx_1[slice19],\n",
        "       simple_regret_approx_2[slice19],\n",
        "       simple_regret_approx_3[slice19],\n",
        "       simple_regret_approx_4[slice19],\n",
        "       simple_regret_approx_5[slice19],\n",
        "       simple_regret_approx_6[slice19],\n",
        "       simple_regret_approx_7[slice19],\n",
        "       simple_regret_approx_8[slice19],\n",
        "       simple_regret_approx_9[slice19],\n",
        "       simple_regret_approx_10[slice19],\n",
        "       simple_regret_approx_11[slice19],\n",
        "       simple_regret_approx_12[slice19],\n",
        "       simple_regret_approx_13[slice19],\n",
        "       simple_regret_approx_14[slice19],\n",
        "       simple_regret_approx_15[slice19],\n",
        "       simple_regret_approx_16[slice19],\n",
        "       simple_regret_approx_17[slice19],\n",
        "       simple_regret_approx_18[slice19],\n",
        "       simple_regret_approx_19[slice19],\n",
        "       simple_regret_approx_20[slice19]]\n",
        "\n",
        "exact19 = [simple_regret_exact_1[slice19],\n",
        "       simple_regret_exact_2[slice19],\n",
        "       simple_regret_exact_3[slice19],\n",
        "       simple_regret_exact_4[slice19],\n",
        "       simple_regret_exact_5[slice19],\n",
        "       simple_regret_exact_6[slice19],\n",
        "       simple_regret_exact_7[slice19],\n",
        "       simple_regret_exact_8[slice19],\n",
        "       simple_regret_exact_9[slice19],\n",
        "       simple_regret_exact_10[slice19],\n",
        "       simple_regret_exact_11[slice19],\n",
        "       simple_regret_exact_12[slice19],\n",
        "       simple_regret_exact_13[slice19],\n",
        "       simple_regret_exact_14[slice19],\n",
        "       simple_regret_exact_15[slice19],\n",
        "       simple_regret_exact_16[slice19],\n",
        "       simple_regret_exact_17[slice19],\n",
        "       simple_regret_exact_18[slice19],\n",
        "       simple_regret_exact_19[slice19],\n",
        "       simple_regret_exact_20[slice19]]\n",
        "\n",
        "approx19_results = pd.DataFrame(approx19).sort_values(by=[0], ascending=False)\n",
        "exact19_results = pd.DataFrame(exact19).sort_values(by=[0], ascending=False)\n",
        "\n",
        "### Best simple regret minimization IQR - approx:\n",
        "lower_approx19 = np.asarray(approx19_results[4:5][0])[0]\n",
        "median_approx19 = np.asarray(approx19_results[9:10][0])[0]\n",
        "upper_approx19 = np.asarray(approx19_results[14:15][0])[0]\n",
        "\n",
        "lower_exact19 = np.asarray(exact19_results[4:5][0])[0]\n",
        "median_exact19 = np.asarray(exact19_results[9:10][0])[0]\n",
        "upper_exact19 = np.asarray(exact19_results[14:15][0])[0]"
      ]
    },
    {
      "cell_type": "code",
      "execution_count": 94,
      "metadata": {
        "id": "h4vtWahcQxf-"
      },
      "outputs": [],
      "source": [
        "# Iteration10 :\n",
        "\n",
        "slice10 = 9\n",
        "\n",
        "approx10 = [simple_regret_approx_1[slice10],\n",
        "       simple_regret_approx_2[slice10],\n",
        "       simple_regret_approx_3[slice10],\n",
        "       simple_regret_approx_4[slice10],\n",
        "       simple_regret_approx_5[slice10],\n",
        "       simple_regret_approx_6[slice10],\n",
        "       simple_regret_approx_7[slice10],\n",
        "       simple_regret_approx_8[slice10],\n",
        "       simple_regret_approx_9[slice10],\n",
        "       simple_regret_approx_10[slice10],\n",
        "       simple_regret_approx_11[slice10],\n",
        "       simple_regret_approx_12[slice10],\n",
        "       simple_regret_approx_13[slice10],\n",
        "       simple_regret_approx_14[slice10],\n",
        "       simple_regret_approx_15[slice10],\n",
        "       simple_regret_approx_16[slice10],\n",
        "       simple_regret_approx_17[slice10],\n",
        "       simple_regret_approx_18[slice10],\n",
        "       simple_regret_approx_19[slice10],\n",
        "       simple_regret_approx_20[slice10]]\n",
        "\n",
        "exact10 = [simple_regret_exact_1[slice10],\n",
        "       simple_regret_exact_2[slice10],\n",
        "       simple_regret_exact_3[slice10],\n",
        "       simple_regret_exact_4[slice10],\n",
        "       simple_regret_exact_5[slice10],\n",
        "       simple_regret_exact_6[slice10],\n",
        "       simple_regret_exact_7[slice10],\n",
        "       simple_regret_exact_8[slice10],\n",
        "       simple_regret_exact_9[slice10],\n",
        "       simple_regret_exact_10[slice10],\n",
        "       simple_regret_exact_11[slice10],\n",
        "       simple_regret_exact_12[slice10],\n",
        "       simple_regret_exact_13[slice10],\n",
        "       simple_regret_exact_14[slice10],\n",
        "       simple_regret_exact_15[slice10],\n",
        "       simple_regret_exact_16[slice10],\n",
        "       simple_regret_exact_17[slice10],\n",
        "       simple_regret_exact_18[slice10],\n",
        "       simple_regret_exact_19[slice10],\n",
        "       simple_regret_exact_20[slice10]]\n",
        "\n",
        "approx10_results = pd.DataFrame(approx10).sort_values(by=[0], ascending=False)\n",
        "exact10_results = pd.DataFrame(exact10).sort_values(by=[0], ascending=False)\n",
        "\n",
        "### Best simple regret minimization IQR - approx:\n",
        "lower_approx10 = np.asarray(approx10_results[4:5][0])[0]\n",
        "median_approx10 = np.asarray(approx10_results[9:10][0])[0]\n",
        "upper_approx10 = np.asarray(approx10_results[14:15][0])[0]\n",
        "\n",
        "lower_exact10 = np.asarray(exact10_results[4:5][0])[0]\n",
        "median_exact10 = np.asarray(exact10_results[9:10][0])[0]\n",
        "upper_exact10 = np.asarray(exact10_results[14:15][0])[0]"
      ]
    },
    {
      "cell_type": "code",
      "execution_count": 95,
      "metadata": {
        "id": "Rsf240pWQxf-"
      },
      "outputs": [],
      "source": [
        "# Iteration20 :\n",
        "\n",
        "slice20 = 19\n",
        "\n",
        "approx20 = [simple_regret_approx_1[slice20],\n",
        "       simple_regret_approx_2[slice20],\n",
        "       simple_regret_approx_3[slice20],\n",
        "       simple_regret_approx_4[slice20],\n",
        "       simple_regret_approx_5[slice20],\n",
        "       simple_regret_approx_6[slice20],\n",
        "       simple_regret_approx_7[slice20],\n",
        "       simple_regret_approx_8[slice20],\n",
        "       simple_regret_approx_9[slice20],\n",
        "       simple_regret_approx_10[slice20],\n",
        "       simple_regret_approx_11[slice20],\n",
        "       simple_regret_approx_12[slice20],\n",
        "       simple_regret_approx_13[slice20],\n",
        "       simple_regret_approx_14[slice20],\n",
        "       simple_regret_approx_15[slice20],\n",
        "       simple_regret_approx_16[slice20],\n",
        "       simple_regret_approx_17[slice20],\n",
        "       simple_regret_approx_18[slice20],\n",
        "       simple_regret_approx_19[slice20],\n",
        "       simple_regret_approx_20[slice20]]\n",
        "\n",
        "exact20 = [simple_regret_exact_1[slice20],\n",
        "       simple_regret_exact_2[slice20],\n",
        "       simple_regret_exact_3[slice20],\n",
        "       simple_regret_exact_4[slice20],\n",
        "       simple_regret_exact_5[slice20],\n",
        "       simple_regret_exact_6[slice20],\n",
        "       simple_regret_exact_7[slice20],\n",
        "       simple_regret_exact_8[slice20],\n",
        "       simple_regret_exact_9[slice20],\n",
        "       simple_regret_exact_10[slice20],\n",
        "       simple_regret_exact_11[slice20],\n",
        "       simple_regret_exact_12[slice20],\n",
        "       simple_regret_exact_13[slice20],\n",
        "       simple_regret_exact_14[slice20],\n",
        "       simple_regret_exact_15[slice20],\n",
        "       simple_regret_exact_16[slice20],\n",
        "       simple_regret_exact_17[slice20],\n",
        "       simple_regret_exact_18[slice20],\n",
        "       simple_regret_exact_19[slice20],\n",
        "       simple_regret_exact_20[slice20]]\n",
        "\n",
        "approx20_results = pd.DataFrame(approx20).sort_values(by=[0], ascending=False)\n",
        "exact20_results = pd.DataFrame(exact20).sort_values(by=[0], ascending=False)\n",
        "\n",
        "### Best simple regret minimization IQR - approx:\n",
        "lower_approx20 = np.asarray(approx20_results[4:5][0])[0]\n",
        "median_approx20 = np.asarray(approx20_results[9:10][0])[0]\n",
        "upper_approx20 = np.asarray(approx20_results[14:15][0])[0]\n",
        "\n",
        "lower_exact20 = np.asarray(exact20_results[4:5][0])[0]\n",
        "median_exact20 = np.asarray(exact20_results[9:10][0])[0]\n",
        "upper_exact20 = np.asarray(exact20_results[14:15][0])[0]"
      ]
    },
    {
      "cell_type": "code",
      "execution_count": 96,
      "metadata": {
        "id": "gn36RejbQxf_"
      },
      "outputs": [],
      "source": [
        "### Summarize arrays: 'Loser'\n",
        "\n",
        "lower_approx = [lower_approx1,\n",
        "            lower_approx2,\n",
        "            lower_approx3,\n",
        "            lower_approx4,\n",
        "            lower_approx5,\n",
        "            lower_approx6,\n",
        "            lower_approx7,\n",
        "            lower_approx8,\n",
        "            lower_approx9,\n",
        "            lower_approx10,\n",
        "            lower_approx11,\n",
        "            lower_approx12,\n",
        "            lower_approx13,\n",
        "            lower_approx14,\n",
        "            lower_approx15,\n",
        "            lower_approx16,\n",
        "            lower_approx17,\n",
        "            lower_approx18,\n",
        "            lower_approx19,\n",
        "            lower_approx20,\n",
        "            lower_approx21]\n",
        "\n",
        "median_approx = [median_approx1,\n",
        "            median_approx2,\n",
        "            median_approx3,\n",
        "            median_approx4,\n",
        "            median_approx5,\n",
        "            median_approx6,\n",
        "            median_approx7,\n",
        "            median_approx8,\n",
        "            median_approx9,\n",
        "            median_approx10,\n",
        "            median_approx11,\n",
        "            median_approx12,\n",
        "            median_approx13,\n",
        "            median_approx14,\n",
        "            median_approx15,\n",
        "            median_approx16,\n",
        "            median_approx17,\n",
        "            median_approx18,\n",
        "            median_approx19,\n",
        "            median_approx20,\n",
        "            median_approx21]\n",
        "\n",
        "upper_approx = [upper_approx1,\n",
        "            upper_approx2,\n",
        "            upper_approx3,\n",
        "            upper_approx4,\n",
        "            upper_approx5,\n",
        "            upper_approx6,\n",
        "            upper_approx7,\n",
        "            upper_approx8,\n",
        "            upper_approx9,\n",
        "            upper_approx10,\n",
        "            upper_approx11,\n",
        "            upper_approx12,\n",
        "            upper_approx13,\n",
        "            upper_approx14,\n",
        "            upper_approx15,\n",
        "            upper_approx16,\n",
        "            upper_approx17,\n",
        "            upper_approx18,\n",
        "            upper_approx19,\n",
        "            upper_approx20,\n",
        "            upper_approx21]"
      ]
    },
    {
      "cell_type": "code",
      "execution_count": 97,
      "metadata": {
        "id": "wxtGTOYfQxf_"
      },
      "outputs": [],
      "source": [
        "### Summarize arrays: 'exact'\n",
        "\n",
        "lower_exact = [lower_exact1,\n",
        "            lower_exact2,\n",
        "            lower_exact3,\n",
        "            lower_exact4,\n",
        "            lower_exact5,\n",
        "            lower_exact6,\n",
        "            lower_exact7,\n",
        "            lower_exact8,\n",
        "            lower_exact9,\n",
        "            lower_exact10,\n",
        "            lower_exact11,\n",
        "            lower_exact12,\n",
        "            lower_exact13,\n",
        "            lower_exact14,\n",
        "            lower_exact15,\n",
        "            lower_exact16,\n",
        "            lower_exact17,\n",
        "            lower_exact18,\n",
        "            lower_exact19,\n",
        "            lower_exact20,\n",
        "            lower_exact21]\n",
        "\n",
        "median_exact = [median_exact1,\n",
        "            median_exact2,\n",
        "            median_exact3,\n",
        "            median_exact4,\n",
        "            median_exact5,\n",
        "            median_exact6,\n",
        "            median_exact7,\n",
        "            median_exact8,\n",
        "            median_exact9,\n",
        "            median_exact10,\n",
        "            median_exact11,\n",
        "            median_exact12,\n",
        "            median_exact13,\n",
        "            median_exact14,\n",
        "            median_exact15,\n",
        "            median_exact16,\n",
        "            median_exact17,\n",
        "            median_exact18,\n",
        "            median_exact19,\n",
        "            median_exact20,\n",
        "            median_exact21]\n",
        "\n",
        "upper_exact = [upper_exact1,\n",
        "            upper_exact2,\n",
        "            upper_exact3,\n",
        "            upper_exact4,\n",
        "            upper_exact5,\n",
        "            upper_exact6,\n",
        "            upper_exact7,\n",
        "            upper_exact8,\n",
        "            upper_exact9,\n",
        "            upper_exact10,\n",
        "            upper_exact11,\n",
        "            upper_exact12,\n",
        "            upper_exact13,\n",
        "            upper_exact14,\n",
        "            upper_exact15,\n",
        "            upper_exact16,\n",
        "            upper_exact17,\n",
        "            upper_exact18,\n",
        "            upper_exact19,\n",
        "            upper_exact20,\n",
        "            upper_exact21]"
      ]
    },
    {
      "cell_type": "code",
      "execution_count": 122,
      "metadata": {
        "id": "2MONq-BXQxgA",
        "colab": {
          "base_uri": "https://localhost:8080/",
          "height": 299
        },
        "outputId": "a8ec1417-d028-432d-ce08-3a060388924a"
      },
      "outputs": [
        {
          "output_type": "display_data",
          "data": {
            "text/plain": [
              "<Figure size 432x288 with 1 Axes>"
            ],
            "image/png": "[encoded data removed]"
          },
          "metadata": {
            "needs_background": "light"
          }
        }
      ],
      "source": [
        "### Visualise!\n",
        "\n",
        "title = func\n",
        "plt.figure()\n",
        "\n",
        "plt.plot(median_approx, color = 'Yellow')\n",
        "plt.plot(median_exact, color = 'Red')\n",
        "\n",
        "xstar = np.arange(0, iters+1, step=1)\n",
        "plt.fill_between(xstar, lower_approx, upper_approx, facecolor = 'Yellow', alpha=0.4, label='GP EI Optimization: Approx GP EI gradients')\n",
        "plt.fill_between(xstar, lower_exact, upper_exact, facecolor = 'Red', alpha=0.4, label='GP EI Optimization: Exact GP dEI gradients')\n",
        "\n",
        "plt.title(title, weight = 'bold')\n",
        "plt.xlabel('(Post-initialization) iteration $\\it{k}$', weight = 'bold')\n",
        "plt.ylabel('log(Regret)', weight = 'bold') \n",
        "plt.legend(loc=0) # add plot legend\n",
        "\n",
        "### Make the x-ticks integers, not floats:\n",
        "count = len(xstar)\n",
        "plt.xticks(np.arange(count), np.arange(0, count))\n",
        "plt.show() #visualize!"
      ]
    },
    {
      "cell_type": "code",
      "execution_count": 99,
      "metadata": {
        "id": "l5dkR2Id2oiu",
        "colab": {
          "base_uri": "https://localhost:8080/"
        },
        "outputId": "f8c29662-2000-4f27-b9ff-8e7fd74bcf6f"
      },
      "outputs": [
        {
          "output_type": "execute_result",
          "data": {
            "text/plain": [
              "(785.5450789928436, 755.0421402454376)"
            ]
          },
          "metadata": {},
          "execution_count": 99
        }
      ],
      "source": [
        "time_approx, time_exact\n"
      ]
    },
    {
      "cell_type": "code",
      "source": [
        "### acqFunc attribute x, stddev: run number = 1\n",
        "\n",
        "acqFuncApprox_exact_1 = acqFuncApprox(exact_1.history)\n",
        "acqFuncExact_exact_1 = acqFuncExact(exact_1.history)\n",
        "\n",
        "e1 = np.mean(acqFuncExact_exact_1)\n",
        "a1 = np.mean(acqFuncApprox_exact_1)\n",
        "\n",
        "e1, a1\n"
      ],
      "metadata": {
        "colab": {
          "base_uri": "https://localhost:8080/"
        },
        "id": "uwxv4dmfGsLr",
        "outputId": "d614a976-1a7a-4269-a9ef-bc15ab20cefe"
      },
      "execution_count": 100,
      "outputs": [
        {
          "output_type": "execute_result",
          "data": {
            "text/plain": [
              "(5.063243045234142, 5.197090769890317)"
            ]
          },
          "metadata": {},
          "execution_count": 100
        }
      ]
    },
    {
      "cell_type": "code",
      "source": [
        "### acqFunc attribute x, stddev: run number = 2\n",
        "\n",
        "acqFuncApprox_exact_2 = acqFuncApprox(exact_2.history)\n",
        "acqFuncExact_exact_2 = acqFuncExact(exact_2.history)\n",
        "\n",
        "e2 = np.mean(acqFuncExact_exact_2)\n",
        "a2 = np.mean(acqFuncApprox_exact_2)\n",
        "\n",
        "e2, a2\n"
      ],
      "metadata": {
        "colab": {
          "base_uri": "https://localhost:8080/"
        },
        "id": "0YSV00_pGsXe",
        "outputId": "e1825e82-9350-4c2c-8823-238ce846e3d2"
      },
      "execution_count": 101,
      "outputs": [
        {
          "output_type": "execute_result",
          "data": {
            "text/plain": [
              "(5.092672662287489, 5.374276529038572)"
            ]
          },
          "metadata": {},
          "execution_count": 101
        }
      ]
    },
    {
      "cell_type": "code",
      "source": [
        "### acqFunc attribute x, stddev: run number = 3\n",
        "\n",
        "acqFuncApprox_exact_3 = acqFuncApprox(exact_3.history)\n",
        "acqFuncExact_exact_3 = acqFuncExact(exact_3.history)\n",
        "\n",
        "e3 = np.mean(acqFuncExact_exact_3)\n",
        "a3 = np.mean(acqFuncApprox_exact_3)\n",
        "\n",
        "e3, a3\n"
      ],
      "metadata": {
        "colab": {
          "base_uri": "https://localhost:8080/"
        },
        "id": "HHVmsd2UGsjT",
        "outputId": "8885d4e4-d12a-4f0a-acd1-8be15f4125a0"
      },
      "execution_count": 102,
      "outputs": [
        {
          "output_type": "execute_result",
          "data": {
            "text/plain": [
              "(4.943303098271239, 5.088769092618949)"
            ]
          },
          "metadata": {},
          "execution_count": 102
        }
      ]
    },
    {
      "cell_type": "code",
      "source": [
        "### acqFunc attribute x, stddev: run number = 4\n",
        "\n",
        "acqFuncApprox_exact_4 = acqFuncApprox(exact_4.history)\n",
        "acqFuncExact_exact_4 = acqFuncExact(exact_4.history)\n",
        "\n",
        "e4 = np.mean(acqFuncExact_exact_4)\n",
        "a4 = np.mean(acqFuncApprox_exact_4)\n",
        "\n",
        "e4, a4\n"
      ],
      "metadata": {
        "colab": {
          "base_uri": "https://localhost:8080/"
        },
        "id": "r7O19S2eGsu7",
        "outputId": "b4d28a6c-9960-4194-fc00-d85e1f89671f"
      },
      "execution_count": 103,
      "outputs": [
        {
          "output_type": "execute_result",
          "data": {
            "text/plain": [
              "(4.971498640902427, 5.132534969908013)"
            ]
          },
          "metadata": {},
          "execution_count": 103
        }
      ]
    },
    {
      "cell_type": "code",
      "source": [
        "### acqFunc attribute x, stddev: run number = 5\n",
        "\n",
        "acqFuncApprox_exact_5 = acqFuncApprox(exact_5.history)\n",
        "acqFuncExact_exact_5 = acqFuncExact(exact_5.history)\n",
        "\n",
        "e5 = np.mean(acqFuncExact_exact_5)\n",
        "a5 = np.mean(acqFuncApprox_exact_5)\n",
        "\n",
        "e5, a5\n"
      ],
      "metadata": {
        "colab": {
          "base_uri": "https://localhost:8080/"
        },
        "id": "sdb9o6NuGs5m",
        "outputId": "b45503b2-e77e-420a-d758-3a2ae27fb179"
      },
      "execution_count": 104,
      "outputs": [
        {
          "output_type": "execute_result",
          "data": {
            "text/plain": [
              "(4.955660928153588, 5.091714758571996)"
            ]
          },
          "metadata": {},
          "execution_count": 104
        }
      ]
    },
    {
      "cell_type": "code",
      "source": [
        "### acqFunc attribute x, stddev: run number = 6\n",
        "\n",
        "acqFuncApprox_exact_6 = acqFuncApprox(exact_6.history)\n",
        "acqFuncExact_exact_6 = acqFuncExact(exact_6.history)\n",
        "\n",
        "e6 = np.mean(acqFuncExact_exact_6)\n",
        "a6 = np.mean(acqFuncApprox_exact_6)\n",
        "\n",
        "e6, a6\n"
      ],
      "metadata": {
        "colab": {
          "base_uri": "https://localhost:8080/"
        },
        "id": "COQl7LZ8GtE0",
        "outputId": "596e3bdc-450b-49f9-964b-77404457fd3c"
      },
      "execution_count": 105,
      "outputs": [
        {
          "output_type": "execute_result",
          "data": {
            "text/plain": [
              "(5.339672578878728, 5.514707628103667)"
            ]
          },
          "metadata": {},
          "execution_count": 105
        }
      ]
    },
    {
      "cell_type": "code",
      "source": [
        "### acqFunc attribute x, stddev: run number = 7\n",
        "\n",
        "acqFuncApprox_exact_7 = acqFuncApprox(exact_7.history)\n",
        "acqFuncExact_exact_7 = acqFuncExact(exact_7.history)\n",
        "\n",
        "e7 = np.mean(acqFuncExact_exact_7)\n",
        "a7 = np.mean(acqFuncApprox_exact_7)\n",
        "\n",
        "e7, a7\n"
      ],
      "metadata": {
        "colab": {
          "base_uri": "https://localhost:8080/"
        },
        "id": "2gy9EtTzGtP7",
        "outputId": "0063ce76-0caf-4f49-9838-2568cccd9449"
      },
      "execution_count": 106,
      "outputs": [
        {
          "output_type": "execute_result",
          "data": {
            "text/plain": [
              "(4.9646214954845025, 5.192026870983921)"
            ]
          },
          "metadata": {},
          "execution_count": 106
        }
      ]
    },
    {
      "cell_type": "code",
      "source": [
        "### acqFunc attribute x, stddev: run number = 8\n",
        "\n",
        "acqFuncApprox_exact_8 = acqFuncApprox(exact_8.history)\n",
        "acqFuncExact_exact_8 = acqFuncExact(exact_8.history)\n",
        "\n",
        "e8 = np.mean(acqFuncExact_exact_8)\n",
        "a8 = np.mean(acqFuncApprox_exact_8)\n",
        "\n",
        "e8, a8\n"
      ],
      "metadata": {
        "colab": {
          "base_uri": "https://localhost:8080/"
        },
        "id": "S7mn0qoMGtbM",
        "outputId": "bf6d06aa-0c96-4e75-9842-149ee7d17cb6"
      },
      "execution_count": 107,
      "outputs": [
        {
          "output_type": "execute_result",
          "data": {
            "text/plain": [
              "(4.967929153632647, 5.234673442380785)"
            ]
          },
          "metadata": {},
          "execution_count": 107
        }
      ]
    },
    {
      "cell_type": "code",
      "source": [
        "### acqFunc attribute x, stddev: run number = 9\n",
        "\n",
        "acqFuncApprox_exact_9 = acqFuncApprox(exact_9.history)\n",
        "acqFuncExact_exact_9 = acqFuncExact(exact_9.history)\n",
        "\n",
        "e9 = np.mean(acqFuncExact_exact_9)\n",
        "a9 = np.mean(acqFuncApprox_exact_9)\n",
        "\n",
        "e9, a9\n"
      ],
      "metadata": {
        "colab": {
          "base_uri": "https://localhost:8080/"
        },
        "id": "BhljmkNxGtms",
        "outputId": "cea67b7c-7f0f-4464-f86b-a3c7fb98d587"
      },
      "execution_count": 108,
      "outputs": [
        {
          "output_type": "execute_result",
          "data": {
            "text/plain": [
              "(5.061126305105427, 5.119270545879241)"
            ]
          },
          "metadata": {},
          "execution_count": 108
        }
      ]
    },
    {
      "cell_type": "code",
      "source": [
        "### acqFunc attribute x, stddev: run number = 10\n",
        "\n",
        "acqFuncApprox_exact_10 = acqFuncApprox(exact_10.history)\n",
        "acqFuncExact_exact_10 = acqFuncExact(exact_10.history)\n",
        "\n",
        "e10 = np.mean(acqFuncExact_exact_10)\n",
        "a10 = np.mean(acqFuncApprox_exact_10)\n",
        "\n",
        "e10, a10\n"
      ],
      "metadata": {
        "colab": {
          "base_uri": "https://localhost:8080/"
        },
        "id": "W5GZo6k3Gtx8",
        "outputId": "8f918a2b-b4b9-46b2-c880-433060bb02a5"
      },
      "execution_count": 109,
      "outputs": [
        {
          "output_type": "execute_result",
          "data": {
            "text/plain": [
              "(5.002673807092751, 5.2711546737439186)"
            ]
          },
          "metadata": {},
          "execution_count": 109
        }
      ]
    },
    {
      "cell_type": "code",
      "source": [
        "### acqFunc attribute x, stddev: run number = 11\n",
        "\n",
        "acqFuncApprox_exact_11 = acqFuncApprox(exact_11.history)\n",
        "acqFuncExact_exact_11 = acqFuncExact(exact_11.history)\n",
        "\n",
        "e11 = np.mean(acqFuncExact_exact_11)\n",
        "a11 = np.mean(acqFuncApprox_exact_11)\n",
        "\n",
        "e11, a11\n"
      ],
      "metadata": {
        "colab": {
          "base_uri": "https://localhost:8080/"
        },
        "id": "isKNhDk5Gt9D",
        "outputId": "30c7509c-cf6c-4d3d-edeb-ccd4b090638c"
      },
      "execution_count": 110,
      "outputs": [
        {
          "output_type": "execute_result",
          "data": {
            "text/plain": [
              "(5.097463016116263, 5.347617512304234)"
            ]
          },
          "metadata": {},
          "execution_count": 110
        }
      ]
    },
    {
      "cell_type": "code",
      "source": [
        "### acqFunc attribute x, stddev: run number = 12\n",
        "\n",
        "acqFuncApprox_exact_12 = acqFuncApprox(exact_12.history)\n",
        "acqFuncExact_exact_12 = acqFuncExact(exact_12.history)\n",
        "\n",
        "e12 = np.mean(acqFuncExact_exact_12)\n",
        "a12 = np.mean(acqFuncApprox_exact_12)\n",
        "\n",
        "e12, a12\n"
      ],
      "metadata": {
        "colab": {
          "base_uri": "https://localhost:8080/"
        },
        "id": "8ts-wrSuGuIm",
        "outputId": "63cb037a-5287-458c-9900-30c4c1e51754"
      },
      "execution_count": 111,
      "outputs": [
        {
          "output_type": "execute_result",
          "data": {
            "text/plain": [
              "(4.9480405258260065, 4.887556489577036)"
            ]
          },
          "metadata": {},
          "execution_count": 111
        }
      ]
    },
    {
      "cell_type": "code",
      "source": [
        "### acqFunc attribute x, stddev: run number = 13\n",
        "\n",
        "acqFuncApprox_exact_13 = acqFuncApprox(exact_13.history)\n",
        "acqFuncExact_exact_13 = acqFuncExact(exact_13.history)\n",
        "\n",
        "e13 = np.mean(acqFuncExact_exact_13)\n",
        "a13 = np.mean(acqFuncApprox_exact_13)\n",
        "\n",
        "e13, a13\n"
      ],
      "metadata": {
        "colab": {
          "base_uri": "https://localhost:8080/"
        },
        "id": "n0drhEe3GuUL",
        "outputId": "ff6984c8-88b8-4dd9-a732-df18929e886e"
      },
      "execution_count": 112,
      "outputs": [
        {
          "output_type": "execute_result",
          "data": {
            "text/plain": [
              "(5.225176040068143, 5.623733083396001)"
            ]
          },
          "metadata": {},
          "execution_count": 112
        }
      ]
    },
    {
      "cell_type": "code",
      "source": [
        "### acqFunc attribute x, stddev: run number = 14\n",
        "\n",
        "acqFuncApprox_exact_14 = acqFuncApprox(exact_14.history)\n",
        "acqFuncExact_exact_14 = acqFuncExact(exact_14.history)\n",
        "\n",
        "e14 = np.mean(acqFuncExact_exact_14)\n",
        "a14 = np.mean(acqFuncApprox_exact_14)\n",
        "\n",
        "e14, a14\n"
      ],
      "metadata": {
        "colab": {
          "base_uri": "https://localhost:8080/"
        },
        "id": "R0W3MZaVGues",
        "outputId": "f3888e1d-7f44-4169-a72c-d177f6e5844c"
      },
      "execution_count": 113,
      "outputs": [
        {
          "output_type": "execute_result",
          "data": {
            "text/plain": [
              "(4.919542278053469, 5.229350272833659)"
            ]
          },
          "metadata": {},
          "execution_count": 113
        }
      ]
    },
    {
      "cell_type": "code",
      "source": [
        "### acqFunc attribute x, stddev: run number = 15\n",
        "\n",
        "acqFuncApprox_exact_15 = acqFuncApprox(exact_15.history)\n",
        "acqFuncExact_exact_15 = acqFuncExact(exact_15.history)\n",
        "\n",
        "e15 = np.mean(acqFuncExact_exact_15)\n",
        "a15 = np.mean(acqFuncApprox_exact_15)\n",
        "\n",
        "e15, a15\n"
      ],
      "metadata": {
        "colab": {
          "base_uri": "https://localhost:8080/"
        },
        "id": "DoXdDFHoGup-",
        "outputId": "f5fc5eec-8d87-427a-eb7e-3bef010c2bf7"
      },
      "execution_count": 114,
      "outputs": [
        {
          "output_type": "execute_result",
          "data": {
            "text/plain": [
              "(5.115245061032115, 5.351913718089533)"
            ]
          },
          "metadata": {},
          "execution_count": 114
        }
      ]
    },
    {
      "cell_type": "code",
      "source": [
        "### acqFunc attribute x, stddev: run number = 16\n",
        "\n",
        "acqFuncApprox_exact_16 = acqFuncApprox(exact_16.history)\n",
        "acqFuncExact_exact_16 = acqFuncExact(exact_16.history)\n",
        "\n",
        "e16 = np.mean(acqFuncExact_exact_16)\n",
        "a16 = np.mean(acqFuncApprox_exact_16)\n",
        "\n",
        "e16, a16\n"
      ],
      "metadata": {
        "colab": {
          "base_uri": "https://localhost:8080/"
        },
        "id": "K_wAeqSoGu2j",
        "outputId": "921f28e9-14d3-4498-d5be-c02b277fac49"
      },
      "execution_count": 115,
      "outputs": [
        {
          "output_type": "execute_result",
          "data": {
            "text/plain": [
              "(5.050686051679911, 5.24144139733048)"
            ]
          },
          "metadata": {},
          "execution_count": 115
        }
      ]
    },
    {
      "cell_type": "code",
      "source": [
        "### acqFunc attribute x, stddev: run number = 17\n",
        "\n",
        "acqFuncApprox_exact_17 = acqFuncApprox(exact_17.history)\n",
        "acqFuncExact_exact_17 = acqFuncExact(exact_17.history)\n",
        "\n",
        "e17 = np.mean(acqFuncExact_exact_17)\n",
        "a17 = np.mean(acqFuncApprox_exact_17)\n",
        "\n",
        "e17, a17\n"
      ],
      "metadata": {
        "colab": {
          "base_uri": "https://localhost:8080/"
        },
        "id": "n6zy78fjGvBT",
        "outputId": "37b9cb2a-da95-44cc-a5d2-fff94c314ec9"
      },
      "execution_count": 116,
      "outputs": [
        {
          "output_type": "execute_result",
          "data": {
            "text/plain": [
              "(5.128931795230954, 5.2918055750929405)"
            ]
          },
          "metadata": {},
          "execution_count": 116
        }
      ]
    },
    {
      "cell_type": "code",
      "source": [
        "### acqFunc attribute x, stddev: run number = 18\n",
        "\n",
        "acqFuncApprox_exact_18 = acqFuncApprox(exact_18.history)\n",
        "acqFuncExact_exact_18 = acqFuncExact(exact_18.history)\n",
        "\n",
        "e18 = np.mean(acqFuncExact_exact_18)\n",
        "a18 = np.mean(acqFuncApprox_exact_18)\n",
        "\n",
        "e18, a18\n"
      ],
      "metadata": {
        "colab": {
          "base_uri": "https://localhost:8080/"
        },
        "id": "s_6_2K4iGvM-",
        "outputId": "da2ec2da-9bbf-4eeb-e3fd-fe12bfe47ed6"
      },
      "execution_count": 117,
      "outputs": [
        {
          "output_type": "execute_result",
          "data": {
            "text/plain": [
              "(5.101140410342731, 5.161933484752972)"
            ]
          },
          "metadata": {},
          "execution_count": 117
        }
      ]
    },
    {
      "cell_type": "code",
      "source": [
        "### acqFunc attribute x, stddev: run number = 19\n",
        "\n",
        "acqFuncApprox_exact_19 = acqFuncApprox(exact_19.history)\n",
        "acqFuncExact_exact_19 = acqFuncExact(exact_19.history)\n",
        "\n",
        "e19 = np.mean(acqFuncExact_exact_19)\n",
        "a19 = np.mean(acqFuncApprox_exact_19)\n",
        "\n",
        "e19, a19\n"
      ],
      "metadata": {
        "colab": {
          "base_uri": "https://localhost:8080/"
        },
        "id": "o8oO8pdBGvYk",
        "outputId": "824232c3-5a48-4c8f-ff47-9fd462ae55a8"
      },
      "execution_count": 118,
      "outputs": [
        {
          "output_type": "execute_result",
          "data": {
            "text/plain": [
              "(4.97384454861171, 5.257697619353207)"
            ]
          },
          "metadata": {},
          "execution_count": 118
        }
      ]
    },
    {
      "cell_type": "code",
      "source": [
        "### acqFunc attribute x, stddev: run number = 20\n",
        "\n",
        "acqFuncApprox_exact_20 = acqFuncApprox(exact_20.history)\n",
        "acqFuncExact_exact_20 = acqFuncExact(exact_20.history)\n",
        "\n",
        "e20 = np.mean(acqFuncExact_exact_20)\n",
        "a20 = np.mean(acqFuncApprox_exact_20)\n",
        "\n",
        "e20, a20\n"
      ],
      "metadata": {
        "colab": {
          "base_uri": "https://localhost:8080/"
        },
        "id": "b2w8oLc0IMzU",
        "outputId": "087decdf-fa9e-4f48-8c3f-af2da313a842"
      },
      "execution_count": 119,
      "outputs": [
        {
          "output_type": "execute_result",
          "data": {
            "text/plain": [
              "(5.091757079698197, 5.366612692528211)"
            ]
          },
          "metadata": {},
          "execution_count": 119
        }
      ]
    },
    {
      "cell_type": "code",
      "source": [
        "### Summarize arrays: \n",
        "\n",
        "exact_stddev = np.sort([e1,e2,e3,e4,e5,e6,e7,e8,e9,e10,e11,e12,e13,e14,e15,e16,e17,e18,e19,e20])\n",
        "approx_stddev = np.sort([a1,a2,a3,a4,a5,a6,a7,a8,a9,a10,a11,a12,a13,a14,a15,a16,a17,a18,a19,a20])\n",
        "\n",
        "np.mean(exact_stddev), np.mean(approx_stddev)\n"
      ],
      "metadata": {
        "colab": {
          "base_uri": "https://localhost:8080/"
        },
        "id": "qAZs3yxMIZul",
        "outputId": "ec63df64-fef3-46c1-95aa-f2bc154087a3"
      },
      "execution_count": 120,
      "outputs": [
        {
          "output_type": "execute_result",
          "data": {
            "text/plain": [
              "(5.0507114260851225, 5.248794056318882)"
            ]
          },
          "metadata": {},
          "execution_count": 120
        }
      ]
    },
    {
      "cell_type": "code",
      "source": [
        "### Visualise!\n",
        "\n",
        "title = func\n",
        "plt.figure()\n",
        "\n",
        "plt.plot(approx_stddev, color = 'Yellow', ls='-', label='Average $\\sigma$, attribute $\\mathbf{x}$: Approx GP EI gradients')\n",
        "plt.plot(exact_stddev, color = 'Red', ls='-.', label='Average $\\sigma$, attribute $\\mathbf{x}$: Exact GP dEI gradients')\n",
        "\n",
        "plt.title(title, weight = 'bold')\n",
        "plt.xlabel('Function evaluations: iteration $\\it{k}$', weight = 'bold')\n",
        "plt.ylabel('GP EI: $\\sigma$($\\mathbf{x^{*}}$)', weight = 'bold') \n",
        "plt.legend(loc=0) # add plot legend\n",
        "\n",
        "### Make the x-ticks integers, not floats:\n",
        "count = len(xstar)\n",
        "plt.xticks(np.arange(count), np.arange(1, count))\n",
        "plt.show() #visualize!\n"
      ],
      "metadata": {
        "colab": {
          "base_uri": "https://localhost:8080/",
          "height": 297
        },
        "id": "e_kpqYcMIZxu",
        "outputId": "8cb9321e-c12e-481c-cee0-0933cd82ae53"
      },
      "execution_count": 121,
      "outputs": [
        {
          "output_type": "display_data",
          "data": {
            "text/plain": [
              "<Figure size 432x288 with 1 Axes>"
            ],
            "image/png": "[encoded data removed]"
          },
          "metadata": {
            "needs_background": "light"
          }
        }
      ]
    },
    {
      "cell_type": "code",
      "source": [
        ""
      ],
      "metadata": {
        "id": "LToGd4vZIZ3I"
      },
      "execution_count": 121,
      "outputs": []
    }
  ],
  "metadata": {
    "colab": {
      "collapsed_sections": [],
      "name": "stddev_4_Branin_GP_dEI.ipynb",
      "provenance": []
    },
    "kernelspec": {
      "display_name": "Python 3",
      "name": "python3"
    },
    "language_info": {
      "name": "python"
    }
  },
  "nbformat": 4,
  "nbformat_minor": 0
}