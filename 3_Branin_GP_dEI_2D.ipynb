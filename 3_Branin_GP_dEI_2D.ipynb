{
  "nbformat": 4,
  "nbformat_minor": 0,
  "metadata": {
    "colab": {
      "name": "3. Branin_GP_dEI_2D.ipynb",
      "provenance": [],
      "collapsed_sections": []
    },
    "kernelspec": {
      "name": "python3",
      "display_name": "Python 3"
    },
    "language_info": {
      "name": "python"
    }
  },
  "cells": [
    {
      "cell_type": "markdown",
      "metadata": {
        "id": "Dqn4dFx7Z2Ir"
      },
      "source": [
        "\n",
        "Branin: 2D\n"
      ]
    },
    {
      "cell_type": "code",
      "metadata": {
        "id": "MJTM_GZZZb5x",
        "colab": {
          "base_uri": "https://localhost:8080/"
        },
        "outputId": "b8f58f72-ac1f-4063-e4bb-96a440c42fed"
      },
      "source": [
        "pip install pyGPGO\n"
      ],
      "execution_count": 1,
      "outputs": [
        {
          "output_type": "stream",
          "name": "stdout",
          "text": [
            "Collecting pyGPGO\n",
            "  Downloading pyGPGO-0.5.1.tar.gz (14 kB)\n",
            "Requirement already satisfied: numpy in /usr/local/lib/python3.7/dist-packages (from pyGPGO) (1.19.5)\n",
            "Requirement already satisfied: mkl in /usr/local/lib/python3.7/dist-packages (from pyGPGO) (2019.0)\n",
            "Requirement already satisfied: scipy in /usr/local/lib/python3.7/dist-packages (from pyGPGO) (1.4.1)\n",
            "Requirement already satisfied: joblib in /usr/local/lib/python3.7/dist-packages (from pyGPGO) (1.1.0)\n",
            "Requirement already satisfied: scikit-learn in /usr/local/lib/python3.7/dist-packages (from pyGPGO) (1.0.2)\n",
            "Requirement already satisfied: Theano-PyMC in /usr/local/lib/python3.7/dist-packages (from pyGPGO) (1.1.2)\n",
            "Requirement already satisfied: pyMC3 in /usr/local/lib/python3.7/dist-packages (from pyGPGO) (3.11.4)\n",
            "Requirement already satisfied: intel-openmp in /usr/local/lib/python3.7/dist-packages (from mkl->pyGPGO) (2022.0.1)\n",
            "Requirement already satisfied: cachetools>=4.2.1 in /usr/local/lib/python3.7/dist-packages (from pyMC3->pyGPGO) (4.2.4)\n",
            "Requirement already satisfied: fastprogress>=0.2.0 in /usr/local/lib/python3.7/dist-packages (from pyMC3->pyGPGO) (1.0.0)\n",
            "Requirement already satisfied: semver>=2.13.0 in /usr/local/lib/python3.7/dist-packages (from pyMC3->pyGPGO) (2.13.0)\n",
            "Requirement already satisfied: arviz>=0.11.0 in /usr/local/lib/python3.7/dist-packages (from pyMC3->pyGPGO) (0.11.4)\n",
            "Requirement already satisfied: typing-extensions>=3.7.4 in /usr/local/lib/python3.7/dist-packages (from pyMC3->pyGPGO) (3.10.0.2)\n",
            "Requirement already satisfied: dill in /usr/local/lib/python3.7/dist-packages (from pyMC3->pyGPGO) (0.3.4)\n",
            "Requirement already satisfied: pandas>=0.24.0 in /usr/local/lib/python3.7/dist-packages (from pyMC3->pyGPGO) (1.1.5)\n",
            "Requirement already satisfied: patsy>=0.5.1 in /usr/local/lib/python3.7/dist-packages (from pyMC3->pyGPGO) (0.5.2)\n",
            "Requirement already satisfied: filelock in /usr/local/lib/python3.7/dist-packages (from Theano-PyMC->pyGPGO) (3.4.2)\n",
            "Requirement already satisfied: packaging in /usr/local/lib/python3.7/dist-packages (from arviz>=0.11.0->pyMC3->pyGPGO) (21.3)\n",
            "Requirement already satisfied: setuptools>=38.4 in /usr/local/lib/python3.7/dist-packages (from arviz>=0.11.0->pyMC3->pyGPGO) (57.4.0)\n",
            "Requirement already satisfied: xarray>=0.16.1 in /usr/local/lib/python3.7/dist-packages (from arviz>=0.11.0->pyMC3->pyGPGO) (0.18.2)\n",
            "Requirement already satisfied: netcdf4 in /usr/local/lib/python3.7/dist-packages (from arviz>=0.11.0->pyMC3->pyGPGO) (1.5.8)\n",
            "Requirement already satisfied: matplotlib>=3.0 in /usr/local/lib/python3.7/dist-packages (from arviz>=0.11.0->pyMC3->pyGPGO) (3.2.2)\n",
            "Requirement already satisfied: python-dateutil>=2.1 in /usr/local/lib/python3.7/dist-packages (from matplotlib>=3.0->arviz>=0.11.0->pyMC3->pyGPGO) (2.8.2)\n",
            "Requirement already satisfied: kiwisolver>=1.0.1 in /usr/local/lib/python3.7/dist-packages (from matplotlib>=3.0->arviz>=0.11.0->pyMC3->pyGPGO) (1.3.2)\n",
            "Requirement already satisfied: cycler>=0.10 in /usr/local/lib/python3.7/dist-packages (from matplotlib>=3.0->arviz>=0.11.0->pyMC3->pyGPGO) (0.11.0)\n",
            "Requirement already satisfied: pyparsing!=2.0.4,!=2.1.2,!=2.1.6,>=2.0.1 in /usr/local/lib/python3.7/dist-packages (from matplotlib>=3.0->arviz>=0.11.0->pyMC3->pyGPGO) (3.0.6)\n",
            "Requirement already satisfied: pytz>=2017.2 in /usr/local/lib/python3.7/dist-packages (from pandas>=0.24.0->pyMC3->pyGPGO) (2018.9)\n",
            "Requirement already satisfied: six in /usr/local/lib/python3.7/dist-packages (from patsy>=0.5.1->pyMC3->pyGPGO) (1.15.0)\n",
            "Requirement already satisfied: cftime in /usr/local/lib/python3.7/dist-packages (from netcdf4->arviz>=0.11.0->pyMC3->pyGPGO) (1.5.1.1)\n",
            "Requirement already satisfied: threadpoolctl>=2.0.0 in /usr/local/lib/python3.7/dist-packages (from scikit-learn->pyGPGO) (3.0.0)\n",
            "Building wheels for collected packages: pyGPGO\n",
            "  Building wheel for pyGPGO (setup.py) ... \u001b[?25l\u001b[?25hdone\n",
            "  Created wheel for pyGPGO: filename=pyGPGO-0.5.1-py3-none-any.whl size=19879 sha256=b2975828617e1560552d3d97e31a8c54f464eeae0bcc8f046c9015dc181cb91c\n",
            "  Stored in directory: /root/.cache/pip/wheels/c8/5d/0b/2160114e2f1b87791c51b66cf07f89831dbb6f49167950316f\n",
            "Successfully built pyGPGO\n",
            "Installing collected packages: pyGPGO\n",
            "Successfully installed pyGPGO-0.5.1\n"
          ]
        }
      ]
    },
    {
      "cell_type": "code",
      "metadata": {
        "id": "ZJSSPbwPaEUB"
      },
      "source": [
        "### Import:\n",
        "\n",
        "import numpy as np\n",
        "import scipy as sp\n",
        "import pandas as pd\n",
        "import matplotlib.pyplot as plt\n",
        "import warnings\n",
        "import itertools\n",
        "\n",
        "from pyGPGO.GPGO import GPGO\n",
        "from pyGPGO.surrogates.GaussianProcess import GaussianProcess\n",
        "from pyGPGO.acquisition import Acquisition\n",
        "from pyGPGO.covfunc import squaredExponential\n",
        "\n",
        "from joblib import Parallel, delayed\n",
        "from numpy.linalg import solve, cholesky\n",
        "from scipy.spatial.distance import cdist\n",
        "from scipy.optimize import minimize\n",
        "from scipy.stats import norm\n",
        "import time\n",
        "\n",
        "warnings.filterwarnings(\"ignore\", category=RuntimeWarning)\n"
      ],
      "execution_count": 2,
      "outputs": []
    },
    {
      "cell_type": "code",
      "metadata": {
        "id": "OeYcTUNoaJWa"
      },
      "source": [
        "### Inputs:\n",
        "\n",
        "func = 'Branin'\n",
        "n_test = 500\n",
        "eps = 1e-08\n",
        "\n",
        "util_grad_exact = 'dEI_GP'\n",
        "util_grad_approx = 'ExpectedImprovement'\n",
        "\n",
        "n_init = 5 # random initialisations\n",
        "iters = 20\n",
        "opt = True"
      ],
      "execution_count": 3,
      "outputs": []
    },
    {
      "cell_type": "code",
      "metadata": {
        "id": "xpaEOjdzaPMS"
      },
      "source": [
        "### Objective Function - Branin(x) 2-D:\n",
        "\n",
        "def objfunc(x1_training, x2_training, a = 1, b = (5.1 / (4 * (np.pi) ** 2)), c = (5 / (np.pi)), r = 6, s = 10, t = (1 / (8 * np.pi))):\n",
        "        return operator * ((a * (x2_training - b * x1_training ** 2 + c * x1_training - r) ** 2) + \n",
        "                 s * (1 - t) * np.cos(x1_training) + s)\n",
        "        \n",
        "# Constraints:\n",
        "lb_x1 = -5 \n",
        "ub_x1 = +10\n",
        "lb_x2 = +0 \n",
        "ub_x2 = +15\n",
        "\n",
        "# Input array dimension(s):\n",
        "dim = 2\n",
        "\n",
        "# 2-D inputs' parameter bounds:\n",
        "param = {'x1_training': ('cont', [lb_x1, ub_x1]),\n",
        "             'x2_training': ('cont', [lb_x2, ub_x2])}\n",
        "\n",
        "# True y bounds:\n",
        "operator = -1\n",
        "y_lb = 0.397887 # targets global minimum\n",
        "y_global_orig = y_lb * operator # targets global minimum\n",
        "\n",
        "\n",
        "# Test data:\n",
        "x1_test = np.linspace(lb_x1, ub_x1, n_test)\n",
        "x2_test = np.linspace(lb_x2, ub_x2, n_test)\n",
        "  \n",
        "x_test = np.column_stack((x1_test,x2_test))\n"
      ],
      "execution_count": 4,
      "outputs": []
    },
    {
      "cell_type": "code",
      "metadata": {
        "id": "eYpI3Zm4aGxi"
      },
      "source": [
        "n_start_AcqFunc = iters\n"
      ],
      "execution_count": 5,
      "outputs": []
    },
    {
      "cell_type": "code",
      "metadata": {
        "id": "oO_GUmOoaV0T"
      },
      "source": [
        "### Cumulative Regret Calculator:\n",
        "\n",
        "def min_max_array(x):\n",
        "    new_list = []\n",
        "    for i, num in enumerate(x):\n",
        "            new_list.append(np.min(x[0:i+1]))\n",
        "    return new_list\n",
        "  "
      ],
      "execution_count": 6,
      "outputs": []
    },
    {
      "cell_type": "code",
      "metadata": {
        "id": "kuuJx0IMam9S"
      },
      "source": [
        "### Surrogate derivatives: \n",
        "\n",
        "cov_func = squaredExponential()\n",
        "\n",
        "def kronDelta(X, Xstar):                     # Kronecker's Delta method\n",
        "    return cdist(X, Xstar) < np.finfo(np.float32).eps\n",
        "\n",
        "def se(X, Xstar, sigmaf, l, sigman):         # S.E. kernel method\n",
        "    return sigmaf * np.exp(-0.5 * cdist(X, Xstar) ** 2 / l ** 2) + sigman * kronDelta(X, Xstar)\n",
        "\n",
        "def delta(X, Xstar):                         # Distance between training X and test Xstar vectors\n",
        "    return (X - Xstar)\n",
        "   \n",
        "def der_covmat(X, Xstar, sigmaf, l, sigman): # Covariance matrix derivative terms (i.e. exact, first-order)\n",
        "    nx = len(X)\n",
        "    ny = len(Xstar)\n",
        "    return np.round(np.array([(delta(np.atleast_2d(i), np.atleast_2d(j))[0] * se(np.atleast_2d(i), np.atleast_2d(j), sigmaf, l, sigman)[0]).sum() for (i, j) in itertools.product(X, Xstar)]).reshape(nx, ny), 8)\n",
        "\n",
        "class dGaussianProcess(GaussianProcess):    # Via inheritance, also optimises hyperparameters when opt = TRUE\n",
        "    \n",
        "    def AcqGrad(self, Xstar):               # Method returning exact, first-order derivatives of the GP's posterior mean and standard deviation\n",
        "        Xstar = np.atleast_2d(Xstar)\n",
        "        Kstar = self.covfunc.K(self.X, Xstar).T\n",
        "        \n",
        "        dKstar = der_covmat(self.X, Xstar, self.covfunc.sigmaf, self.covfunc.l, self.covfunc.sigman).T\n",
        "        alpha_Kstar = np.dot(np.linalg.inv(self.K + (self.covfunc.sigman**2) * np.eye(len(self.X))), Kstar.T)\n",
        "        \n",
        "        dm = np.dot(dKstar, self.alpha)\n",
        "        ds = -2 * np.dot(dKstar, alpha_Kstar)\n",
        "        \n",
        "        return dm, ds           \n",
        "        "
      ],
      "execution_count": 7,
      "outputs": []
    },
    {
      "cell_type": "code",
      "metadata": {
        "id": "_Dc3YVHVaXz7"
      },
      "source": [
        "class Acquisition_new(Acquisition):    \n",
        "    def __init__(self, mode, eps=eps, **params):\n",
        "        \n",
        "        self.params = params\n",
        "        self.eps = eps\n",
        "\n",
        "        mode_dict = {\n",
        "            'dEI_GP': self.dEI_GP\n",
        "        }\n",
        "\n",
        "        self.f = mode_dict[mode]\n",
        "    \n",
        "    def dEI_GP(self, tau, mean, std, ds, dm):\n",
        "        gamma = (mean - tau - self.eps) / (std + self.eps)\n",
        "        gamma_h = (mean - tau) / (std + self.eps)\n",
        "        dsdx = ds / (2 * (std + self.eps))\n",
        "        dmdx = (dm - gamma * dsdx) / (std + self.eps)\n",
        "        \n",
        "        f = (std + self.eps) * (gamma * norm.cdf(gamma) + norm.pdf(gamma))\n",
        "        df1 = f / (std + self.eps) * dsdx \n",
        "        df2 = (std + self.eps) * norm.cdf(gamma) * dmdx\n",
        "        df = (df1 + df2)[0]\n",
        "        df_arr = []\n",
        "\n",
        "        for j in range(0, dim):\n",
        "          df_arr.append(df)\n",
        "        return f, np.asarray(df_arr).transpose()\n",
        "        \n",
        "    def d_eval(self, tau, mean, std, ds, dm):\n",
        "    \n",
        "        return self.f(tau, mean, std, ds, dm, **self.params)\n",
        "        "
      ],
      "execution_count": 8,
      "outputs": []
    },
    {
      "cell_type": "code",
      "metadata": {
        "id": "PITEQC8YSl7i"
      },
      "source": [
        "## GPGO_multi: Multistart changed to variable 'n_start_AcqFunc'\n",
        "\n",
        "class GPGO_multi(GPGO):\n",
        "    n_start = n_start_AcqFunc\n",
        "\n",
        "    def _optimizeAcq(self, method='L-BFGS-B', n_start=n_start_AcqFunc):\n",
        "        \n",
        "        start_points_dict = [self._sampleParam() for i in range(n_start)]\n",
        "        start_points_arr = np.array([list(s.values())\n",
        "                                     for s in start_points_dict])\n",
        "        x_best = np.empty((n_start, len(self.parameter_key)))\n",
        "        f_best = np.empty((n_start,))\n",
        "        if self.n_jobs == 1:\n",
        "            for index, start_point in enumerate(start_points_arr):\n",
        "                res = minimize(self._acqWrapper, x0=start_point, method=method,\n",
        "                               bounds=self.parameter_range)\n",
        "                x_best[index], f_best[index] = res.x, np.atleast_1d(res.fun)[0]\n",
        "        else:\n",
        "            opt = Parallel(n_jobs=self.n_jobs)(delayed(minimize)(self._acqWrapper,\n",
        "                                                                 x0=start_point,\n",
        "                                                                 method=method,\n",
        "                                                                 bounds=self.parameter_range) for start_point in\n",
        "                                               start_points_arr)\n",
        "            x_best = np.array([res.x for res in opt])\n",
        "            f_best = np.array([np.atleast_1d(res.fun)[0] for res in opt])\n",
        "\n",
        "        self.best = x_best[np.argmin(f_best)]"
      ],
      "execution_count": 9,
      "outputs": []
    },
    {
      "cell_type": "code",
      "metadata": {
        "id": "b_B-w81BJxKN"
      },
      "source": [
        "## dGPGO:\n",
        "\n",
        "grad = 1\n",
        "\n",
        "class dGPGO(GPGO):\n",
        "    n_start = n_start_AcqFunc\n",
        "\n",
        "    def d_optimizeAcq(self, method='L-BFGS-B', n_start=n_start_AcqFunc):\n",
        "        start_points_dict = [self._sampleParam() for i in range(n_start)]\n",
        "        start_points_arr = np.array([list(s.values())\n",
        "                                     for s in start_points_dict])\n",
        "        x_best = np.empty((n_start, len(self.parameter_key)))\n",
        "        f_best = np.empty((n_start,))\n",
        "        opt = Parallel(n_jobs=self.n_jobs)(delayed(minimize)(self.acqfunc,\n",
        "                                                                 x0=start_point,\n",
        "                                                                 method=method,\n",
        "                                                                 jac = True,\n",
        "                                                                 bounds=self.parameter_range) for start_point in\n",
        "                                               start_points_arr)\n",
        "        x_best = np.array([res.x for res in opt])\n",
        "        f_best = np.array([np.atleast_1d(res.fun)[0] for res in opt])\n",
        "\n",
        "        self.x_best = x_best\n",
        "        self.f_best = f_best\n",
        "        self.best = x_best[np.argmin(f_best)]\n",
        "        self.start_points_arr = start_points_arr\n",
        "\n",
        "        return x_best, f_best\n",
        "    \n",
        "    def run(self, max_iter=10, init_evals=3, resume=False):\n",
        "        \n",
        "        if not resume:\n",
        "            self.init_evals = init_evals\n",
        "            self._firstRun(self.init_evals)\n",
        "            self.logger._printInit(self)\n",
        "        for iteration in range(max_iter):\n",
        "            self.d_optimizeAcq()\n",
        "            self.updateGP()\n",
        "            self.logger._printCurrent(self)\n",
        "\n",
        "    def acqfunc(self, xnew, n_start=n_start_AcqFunc):\n",
        "        new_mean, new_var = self.GP.predict(xnew, return_std=True)\n",
        "        new_std = np.sqrt(new_var + eps)\n",
        "        dm, ds = self.GP.AcqGrad(xnew)\n",
        "        f, df = self.A.d_eval(self.tau, new_mean, new_std, ds=ds, dm=dm)\n",
        "\n",
        "        return -f, -df * grad\n"
      ],
      "execution_count": 10,
      "outputs": []
    },
    {
      "cell_type": "code",
      "metadata": {
        "id": "qXIKGuXVGEg2"
      },
      "source": [
        "###Reproducible set-seeds:\n",
        "\n",
        "run_num_1 = 1\n",
        "run_num_2 = 2\n",
        "run_num_3 = 3\n",
        "run_num_4 = 4\n",
        "run_num_5 = 5\n",
        "run_num_6 = 6\n",
        "run_num_7 = 7\n",
        "run_num_8 = 8\n",
        "run_num_9 = 9\n",
        "run_num_10 = 10\n",
        "run_num_11 = 11\n",
        "run_num_12 = 12\n",
        "run_num_13 = 13\n",
        "run_num_14 = 14\n",
        "run_num_15 = 15\n",
        "run_num_16 = 16\n",
        "run_num_17 = 17\n",
        "run_num_18 = 18\n",
        "run_num_19 = 19\n",
        "run_num_20 = 20\n"
      ],
      "execution_count": 11,
      "outputs": []
    },
    {
      "cell_type": "code",
      "metadata": {
        "colab": {
          "base_uri": "https://localhost:8080/"
        },
        "id": "JEhagQmnTVIK",
        "outputId": "1e7814bc-76a4-49ee-f5a7-380b03328cc9"
      },
      "source": [
        "start_approx = time.time()\n",
        "start_approx\n"
      ],
      "execution_count": 12,
      "outputs": [
        {
          "output_type": "execute_result",
          "data": {
            "text/plain": [
              "1643196862.1535993"
            ]
          },
          "metadata": {},
          "execution_count": 12
        }
      ]
    },
    {
      "cell_type": "code",
      "metadata": {
        "colab": {
          "base_uri": "https://localhost:8080/"
        },
        "id": "aH0YSTXufD1v",
        "outputId": "609dd833-5bae-42c3-d6ff-b70c8462e377"
      },
      "source": [
        "### ESTIMATED GP EI GRADIENTS\n",
        "\n",
        "np.random.seed(run_num_1)\n",
        "surrogate_approx_1 = GaussianProcess(cov_func, optimize=opt)\n",
        "\n",
        "approx_1 = GPGO_multi(surrogate_approx_1, Acquisition(util_grad_approx), objfunc, param)\n",
        "approx_1.run(init_evals=n_init, max_iter=iters)\n"
      ],
      "execution_count": 13,
      "outputs": [
        {
          "output_type": "stream",
          "name": "stdout",
          "text": [
            "Evaluation \t Proposed point \t  Current eval. \t Best eval.\n",
            "init   \t [ 1.25533007 10.8048674 ]. \t  -56.52874004692151 \t -27.68166689936483\n",
            "init   \t [-4.99828438  4.53498859]. \t  -172.66531086516164 \t -27.68166689936483\n",
            "init   \t [-2.79866164  1.38507892]. \t  -102.58290348816024 \t -27.68166689936483\n",
            "init   \t [-2.20609683  5.18341091]. \t  -28.868064601155666 \t -27.68166689936483\n",
            "init   \t [0.95151211 8.08225101]. \t  -27.68166689936483 \t -27.68166689936483\n",
            "1      \t [8.41909995 1.27566317]. \t  \u001b[92m-5.089934878453152\u001b[0m \t -5.089934878453152\n",
            "2      \t [ 8.98893195 10.45227242]. \t  -70.52424256621515 \t -5.089934878453152\n",
            "3      \t [-3.98449353 13.27557148]. \t  \u001b[92m-4.859191184895716\u001b[0m \t -4.859191184895716\n",
            "4      \t [2.98006414 0.05910542]. \t  -6.0230075672454495 \t -4.859191184895716\n",
            "5      \t [ 5.33580237 15.        ]. \t  -206.4381669221689 \t -4.859191184895716\n",
            "6      \t [5.84980619 5.67165565]. \t  -39.518846456685544 \t -4.859191184895716\n",
            "7      \t [-5.          9.40479881]. \t  -73.29201305540373 \t -4.859191184895716\n",
            "8      \t [-0.27588303 15.        ]. \t  -92.36008251719373 \t -4.859191184895716\n",
            "9      \t [10. 15.]. \t  -145.87219087939556 \t -4.859191184895716\n",
            "10     \t [10.         5.1096866]. \t  -6.381451919855663 \t -4.859191184895716\n",
            "11     \t [1.85019002 3.73597171]. \t  -7.408839628339024 \t -4.859191184895716\n",
            "12     \t [5.04191411 9.65683094]. \t  -83.62183521138809 \t -4.859191184895716\n",
            "13     \t [5.39595918 1.94283694]. \t  -16.65631715119862 \t -4.859191184895716\n",
            "14     \t [0.4613686 0.       ]. \t  -46.616199567974405 \t -4.859191184895716\n",
            "15     \t [-2.07705361 11.43691822]. \t  -7.820909754920644 \t -4.859191184895716\n",
            "16     \t [10.  0.]. \t  -10.960889035651505 \t -4.859191184895716\n",
            "17     \t [8.79548442 7.16233038]. \t  -28.935065611027227 \t -4.859191184895716\n",
            "18     \t [-5. 15.]. \t  -17.508299515778166 \t -4.859191184895716\n",
            "19     \t [8.3012794  3.45366024]. \t  -8.955990117330359 \t -4.859191184895716\n",
            "20     \t [-1.92928669  8.36712827]. \t  -8.033490357294912 \t -4.859191184895716\n"
          ]
        }
      ]
    },
    {
      "cell_type": "code",
      "metadata": {
        "colab": {
          "base_uri": "https://localhost:8080/"
        },
        "id": "wTxsSZxFGBB5",
        "outputId": "b436585b-2976-43b4-dc7b-bf1ce3c795e5"
      },
      "source": [
        "### ESTIMATED GP EI GRADIENTS\n",
        "\n",
        "np.random.seed(run_num_2)\n",
        "surrogate_approx_2 = GaussianProcess(cov_func, optimize=opt)\n",
        "\n",
        "approx_2 = GPGO_multi(surrogate_approx_2, Acquisition(util_grad_approx), objfunc, param)\n",
        "approx_2.run(init_evals=n_init, max_iter=iters)\n"
      ],
      "execution_count": 14,
      "outputs": [
        {
          "output_type": "stream",
          "name": "stdout",
          "text": [
            "Evaluation \t Proposed point \t  Current eval. \t Best eval.\n",
            "init   \t [1.53992353 0.38889348]. \t  -22.31361308916297 \t -6.692051508754487\n",
            "init   \t [3.24493717 6.52983589]. \t  -19.233109967858276 \t -6.692051508754487\n",
            "init   \t [1.30551703 4.95502232]. \t  -13.177851563387286 \t -6.692051508754487\n",
            "init   \t [-1.93027049  9.2890645 ]. \t  -6.692051508754487 \t -6.692051508754487\n",
            "init   \t [-0.50517989  4.00240913]. \t  -26.437522758780958 \t -6.692051508754487\n",
            "1      \t [ 9.5587047  12.00387527]. \t  -89.09951357262268 \t -6.692051508754487\n",
            "2      \t [9.59366035 1.69164323]. \t  \u001b[92m-1.3984593420568778\u001b[0m \t -1.3984593420568778\n",
            "3      \t [ 3.24245232 12.67669673]. \t  -110.25694222671481 \t -1.3984593420568778\n",
            "4      \t [-2.58600765 14.70719421]. \t  -15.7365426981614 \t -1.3984593420568778\n",
            "5      \t [-4.49478903  0.        ]. \t  -256.41843550309727 \t -1.3984593420568778\n",
            "6      \t [8.725895   6.41300429]. \t  -22.580114236196877 \t -1.3984593420568778\n",
            "7      \t [-5.          5.78505952]. \t  -142.73620978185951 \t -1.3984593420568778\n",
            "8      \t [5.71565964 2.44843887]. \t  -19.85217191134074 \t -1.3984593420568778\n",
            "9      \t [-5.         11.43144446]. \t  -45.85431862336884 \t -1.3984593420568778\n",
            "10     \t [6.05638352 9.35707777]. \t  -87.54502371195785 \t -1.3984593420568778\n",
            "11     \t [ 6.75314347 15.        ]. \t  -210.56396246899752 \t -1.3984593420568778\n",
            "12     \t [1.14327897 9.28747742]. \t  -38.36704842364536 \t -1.3984593420568778\n",
            "13     \t [8.03151786 0.        ]. \t  -10.708346524442508 \t -1.3984593420568778\n",
            "14     \t [-0.70354645 12.27084485]. \t  -43.20144047633977 \t -1.3984593420568778\n",
            "15     \t [ 0.70816538 15.        ]. \t  -118.54311561206812 \t -1.3984593420568778\n",
            "16     \t [4.54974988 0.        ]. \t  -10.498675539429868 \t -1.3984593420568778\n",
            "17     \t [10.          3.46884075]. \t  -2.1601886991125525 \t -1.3984593420568778\n",
            "18     \t [-1.38908658  6.89890545]. \t  -14.172444476708307 \t -1.3984593420568778\n",
            "19     \t [-5. 15.]. \t  -17.508299515778166 \t -1.3984593420568778\n",
            "20     \t [5.93638237 5.40419524]. \t  -37.51783724268047 \t -1.3984593420568778\n"
          ]
        }
      ]
    },
    {
      "cell_type": "code",
      "metadata": {
        "colab": {
          "base_uri": "https://localhost:8080/"
        },
        "id": "-dgzIrUIGCGT",
        "outputId": "2c1dd811-cd94-4d59-b963-0149181f2a99"
      },
      "source": [
        "### ESTIMATED GP EI GRADIENTS\n",
        "\n",
        "np.random.seed(run_num_3)\n",
        "surrogate_approx_3 = GaussianProcess(cov_func, optimize=opt)\n",
        "\n",
        "approx_3 = GPGO_multi(surrogate_approx_3, Acquisition(util_grad_approx), objfunc, param)\n",
        "approx_3.run(init_evals=n_init, max_iter=iters)\n"
      ],
      "execution_count": 15,
      "outputs": [
        {
          "output_type": "stream",
          "name": "stdout",
          "text": [
            "Evaluation \t Proposed point \t  Current eval. \t Best eval.\n",
            "init   \t [ 3.26196854 10.62221734]. \t  -71.68783452098575 \t -18.07886746449891\n",
            "init   \t [-0.63642892  7.66241408]. \t  -18.07886746449891 \t -18.07886746449891\n",
            "init   \t [ 8.39420432 13.44439633]. \t  -141.98653529865882 \t -18.07886746449891\n",
            "init   \t [-3.11622034  3.10864317]. \t  -83.31045707266176 \t -18.07886746449891\n",
            "init   \t [-4.22799195  6.61214765]. \t  -76.5294170688398 \t -18.07886746449891\n",
            "1      \t [6.70472147 4.59545299]. \t  -30.726791812855225 \t -18.07886746449891\n",
            "2      \t [-5. 15.]. \t  \u001b[92m-17.508299515778166\u001b[0m \t -17.508299515778166\n",
            "3      \t [2.64338273 0.68243899]. \t  \u001b[92m-5.61793909734835\u001b[0m \t -5.61793909734835\n",
            "4      \t [10.  0.]. \t  -10.960889035651505 \t -5.61793909734835\n",
            "5      \t [ 0.17998475 15.        ]. \t  -105.6075359190613 \t -5.61793909734835\n",
            "6      \t [10.          8.34438631]. \t  -30.474011983257775 \t -5.61793909734835\n",
            "7      \t [-0.6195202  11.33294215]. \t  -36.28496106529289 \t -5.61793909734835\n",
            "8      \t [2.269383   4.64046436]. \t  -6.343061288372167 \t -5.61793909734835\n",
            "9      \t [7.57758365 1.58614563]. \t  -12.672552824993334 \t -5.61793909734835\n",
            "10     \t [ 4.41176133 15.        ]. \t  -189.59933966981524 \t -5.61793909734835\n",
            "11     \t [-5.         10.94928201]. \t  -51.63737182429342 \t -5.61793909734835\n",
            "12     \t [6.32108624 8.30850806]. \t  -71.53773882401359 \t -5.61793909734835\n",
            "13     \t [-6.12376840e-01 -1.11022302e-16]. \t  -67.18080894646593 \t -5.61793909734835\n",
            "14     \t [5.15931474 0.        ]. \t  -15.656491549066821 \t -5.61793909734835\n",
            "15     \t [-5.  0.]. \t  -308.12909601160663 \t -5.61793909734835\n",
            "16     \t [2.73974574 7.14743678]. \t  -21.75797558636731 \t -5.61793909734835\n",
            "17     \t [0.33295301 3.40287383]. \t  -23.4075698057364 \t -5.61793909734835\n",
            "18     \t [10.          4.13406446]. \t  \u001b[92m-3.2225456343310572\u001b[0m \t -3.2225456343310572\n",
            "19     \t [4.04093717 2.88625698]. \t  -5.485885020359426 \t -3.2225456343310572\n",
            "20     \t [10.          5.55773656]. \t  -8.470041255041078 \t -3.2225456343310572\n"
          ]
        }
      ]
    },
    {
      "cell_type": "code",
      "metadata": {
        "colab": {
          "base_uri": "https://localhost:8080/"
        },
        "id": "hOtG-2sCGCKS",
        "outputId": "9adcbca0-823c-4a06-d85d-dc1862110686"
      },
      "source": [
        "### ESTIMATED GP EI GRADIENTS\n",
        "\n",
        "np.random.seed(run_num_4)\n",
        "surrogate_approx_4 = GaussianProcess(cov_func, optimize=opt)\n",
        "\n",
        "approx_4 = GPGO_multi(surrogate_approx_4, Acquisition(util_grad_approx), objfunc, param)\n",
        "approx_4.run(init_evals=n_init, max_iter=iters)\n"
      ],
      "execution_count": 16,
      "outputs": [
        {
          "output_type": "stream",
          "name": "stdout",
          "text": [
            "Evaluation \t Proposed point \t  Current eval. \t Best eval.\n",
            "init   \t [9.50544759 8.20848374]. \t  -32.51676744781521 \t -7.247126865776948\n",
            "init   \t [ 9.5902654  10.72223991]. \t  -66.20566674364716 \t -7.247126865776948\n",
            "init   \t [5.46593237 3.24134243]. \t  -20.90089401680587 \t -7.247126865776948\n",
            "init   \t [9.64411682 0.09345383]. \t  -7.247126865776948 \t -7.247126865776948\n",
            "init   \t [-1.20526456  6.52187299]. \t  -15.941376982363263 \t -7.247126865776948\n",
            "1      \t [ 1.25164457 13.57001383]. \t  -100.61648848019335 \t -7.247126865776948\n",
            "2      \t [-4.27198795  1.64727177]. \t  -188.41076037632916 \t -7.247126865776948\n",
            "3      \t [-4.64616955 10.91158353]. \t  -37.15561787434749 \t -7.247126865776948\n",
            "4      \t [3.91058192 8.49899792]. \t  -48.62596349349736 \t -7.247126865776948\n",
            "5      \t [1.24885867 0.        ]. \t  -30.7947923644144 \t -7.247126865776948\n",
            "6      \t [ 6.50701313 15.        ]. \t  -212.19478521338414 \t -7.247126865776948\n",
            "7      \t [10.         3.9710884]. \t  \u001b[92m-2.8804198281203703\u001b[0m \t -2.8804198281203703\n",
            "8      \t [-3.3199068 15.       ]. \t  -5.805055570139122 \t -2.8804198281203703\n",
            "9      \t [-5.          6.42145899]. \t  -128.62837836518972 \t -2.8804198281203703\n",
            "10     \t [1.67714315 4.11195959]. \t  -9.155363498456676 \t -2.8804198281203703\n",
            "11     \t [6.17580273 0.        ]. \t  -20.752565847149576 \t -2.8804198281203703\n",
            "12     \t [-0.69485885 10.02074393]. \t  -25.512378033681372 \t -2.8804198281203703\n",
            "13     \t [ 5.92863445 11.19385604]. \t  -120.79083766518391 \t -2.8804198281203703\n",
            "14     \t [6.81377047 6.18201119]. \t  -43.570295955507234 \t -2.8804198281203703\n",
            "15     \t [-0.81626134  3.03666348]. \t  -35.486681250242846 \t -2.8804198281203703\n",
            "16     \t [10.         14.43200244]. \t  -132.5662292705455 \t -2.8804198281203703\n",
            "17     \t [-2.17444336 12.90754047]. \t  -12.592244351698367 \t -2.8804198281203703\n",
            "18     \t [1.46295989 6.68707409]. \t  -18.535352279250606 \t -2.8804198281203703\n",
            "19     \t [8.46555253 2.51473096]. \t  -5.019795948948404 \t -2.8804198281203703\n",
            "20     \t [3.28261283 1.84553375]. \t  \u001b[92m-0.5969286216188046\u001b[0m \t -0.5969286216188046\n"
          ]
        }
      ]
    },
    {
      "cell_type": "code",
      "metadata": {
        "colab": {
          "base_uri": "https://localhost:8080/"
        },
        "id": "JF_SxcEvGCOl",
        "outputId": "fc965441-b45f-4ed5-d118-fe164fb5191e"
      },
      "source": [
        "### ESTIMATED GP EI GRADIENTS\n",
        "\n",
        "np.random.seed(run_num_5)\n",
        "surrogate_approx_5 = GaussianProcess(cov_func, optimize=opt)\n",
        "\n",
        "approx_5 = GPGO_multi(surrogate_approx_5, Acquisition(util_grad_approx), objfunc, param)\n",
        "approx_5.run(init_evals=n_init, max_iter=iters)\n"
      ],
      "execution_count": 17,
      "outputs": [
        {
          "output_type": "stream",
          "name": "stdout",
          "text": [
            "Evaluation \t Proposed point \t  Current eval. \t Best eval.\n",
            "init   \t [-1.67010243 13.06098459]. \t  -25.390690545664548 \t -25.311309190989615\n",
            "init   \t [-1.89921267 13.77916362]. \t  -25.311309190989615 \t -25.311309190989615\n",
            "init   \t [2.32616783 9.17615794]. \t  -41.60147975414021 \t -25.311309190989615\n",
            "init   \t [6.48861785 7.77626982]. \t  -63.81281921768236 \t -25.311309190989615\n",
            "init   \t [-0.54799248  2.81581843]. \t  -34.966203644931994 \t -25.311309190989615\n",
            "1      \t [8.84124421 0.03321319]. \t  \u001b[92m-5.96108856337545\u001b[0m \t -5.96108856337545\n",
            "2      \t [ 8.39476442 14.47736321]. \t  -167.21523769473345 \t -5.96108856337545\n",
            "3      \t [-4.1375067   7.24495487]. \t  -61.80559119709111 \t -5.96108856337545\n",
            "4      \t [-5.  0.]. \t  -308.12909601160663 \t -5.96108856337545\n",
            "5      \t [3.90218642 0.        ]. \t  -6.129536698755416 \t -5.96108856337545\n",
            "6      \t [ 3.02991629 15.        ]. \t  -160.13370433331355 \t -5.96108856337545\n",
            "7      \t [10.          4.33727189]. \t  \u001b[92m-3.7235379387315213\u001b[0m \t -3.7235379387315213\n",
            "8      \t [3.79901032 4.09238105]. \t  -7.5714002858300224 \t -3.7235379387315213\n",
            "9      \t [10.         10.16742604]. \t  -53.27276289101673 \t -3.7235379387315213\n",
            "10     \t [-5.         11.30921636]. \t  -47.27632748230095 \t -3.7235379387315213\n",
            "11     \t [6.99654811 2.92350095]. \t  -20.2711985155133 \t -3.7235379387315213\n",
            "12     \t [ 5.43141242 11.54548465]. \t  -124.0454141123467 \t -3.7235379387315213\n",
            "13     \t [-0.26129705  6.51666737]. \t  -19.284636150850602 \t -3.7235379387315213\n",
            "14     \t [-5. 15.]. \t  -17.508299515778166 \t -3.7235379387315213\n",
            "15     \t [-4.11496152  3.81345443]. \t  -123.91449911382477 \t -3.7235379387315213\n",
            "16     \t [-1.31455655  9.78774995]. \t  -14.601361527158701 \t -3.7235379387315213\n",
            "17     \t [1.045935 0.      ]. \t  -34.85210807022733 \t -3.7235379387315213\n",
            "18     \t [10.          6.70070297]. \t  -15.616468848510301 \t -3.7235379387315213\n",
            "19     \t [10.         2.1087582]. \t  \u001b[92m-2.742731450376935\u001b[0m \t -2.742731450376935\n",
            "20     \t [6.31678863 0.        ]. \t  -20.809367457099018 \t -2.742731450376935\n"
          ]
        }
      ]
    },
    {
      "cell_type": "code",
      "metadata": {
        "colab": {
          "base_uri": "https://localhost:8080/"
        },
        "id": "-kDxZtJsGCR3",
        "outputId": "e70b3770-e469-49e0-bf6c-b2f743d0f34b"
      },
      "source": [
        "### ESTIMATED GP EI GRADIENTS\n",
        "\n",
        "np.random.seed(run_num_6)\n",
        "surrogate_approx_6 = GaussianProcess(cov_func, optimize=opt)\n",
        "\n",
        "approx_6 = GPGO_multi(surrogate_approx_6, Acquisition(util_grad_approx), objfunc, param)\n",
        "approx_6.run(init_evals=n_init, max_iter=iters)\n"
      ],
      "execution_count": 18,
      "outputs": [
        {
          "output_type": "stream",
          "name": "stdout",
          "text": [
            "Evaluation \t Proposed point \t  Current eval. \t Best eval.\n",
            "init   \t [8.39290227 4.97969708]. \t  -15.553860636684597 \t -15.31731051317483\n",
            "init   \t [7.31843685 0.62544939]. \t  -15.31731051317483 \t -15.31731051317483\n",
            "init   \t [-3.3851498   8.92578096]. \t  -16.222288919361837 \t -15.31731051317483\n",
            "init   \t [2.94726043 6.28211143]. \t  -15.406373581304088 \t -15.31731051317483\n",
            "init   \t [0.03111774 9.33779148]. \t  -31.07053245856209 \t -15.31731051317483\n",
            "1      \t [ 9.64829531 12.55362889]. \t  -98.32295673962142 \t -15.31731051317483\n",
            "2      \t [-1.22578785  0.62063252]. \t  -69.8637190838968 \t -15.31731051317483\n",
            "3      \t [ 4.11366045 15.        ]. \t  -183.10484285176852 \t -15.31731051317483\n",
            "4      \t [-2.67102288 14.57040418]. \t  \u001b[92m-12.985837564809705\u001b[0m \t -12.985837564809705\n",
            "5      \t [-5.          4.21652744]. \t  -180.96625047114895 \t -12.985837564809705\n",
            "6      \t [5.44161514 9.98674416]. \t  -94.22618159524357 \t -12.985837564809705\n",
            "7      \t [3.23829123 1.87841978]. \t  \u001b[92m-0.5466720813438801\u001b[0m \t -0.5466720813438801\n",
            "8      \t [-0.62172702  5.00167845]. \t  -21.957797509205253 \t -0.5466720813438801\n",
            "9      \t [ 0.18638758 12.6865283 ]. \t  -68.1378550124482 \t -0.5466720813438801\n",
            "10     \t [-4.20714598  1.10353164]. \t  -197.97694213328805 \t -0.5466720813438801\n",
            "11     \t [10.          8.32702388]. \t  -30.28883302758973 \t -0.5466720813438801\n",
            "12     \t [-5.         12.07958105]. \t  -38.81316081839446 \t -0.5466720813438801\n",
            "13     \t [6.26632849 6.91792795]. \t  -53.454850655596886 \t -0.5466720813438801\n",
            "14     \t [ 3.02686821e+00 -4.44089210e-16]. \t  -6.059764840501721 \t -0.5466720813438801\n",
            "15     \t [4.71317017 3.12038749]. \t  -13.076758369198773 \t -0.5466720813438801\n",
            "16     \t [1.87432875 2.59213174]. \t  -7.901969804811083 \t -0.5466720813438801\n",
            "17     \t [10.          2.12957977]. \t  -2.7059277650637403 \t -0.5466720813438801\n",
            "18     \t [10.  0.]. \t  -10.960889035651505 \t -0.5466720813438801\n",
            "19     \t [-5. 15.]. \t  -17.508299515778166 \t -0.5466720813438801\n",
            "20     \t [ 7.63500405 15.        ]. \t  -197.61471050940943 \t -0.5466720813438801\n"
          ]
        }
      ]
    },
    {
      "cell_type": "code",
      "metadata": {
        "colab": {
          "base_uri": "https://localhost:8080/"
        },
        "id": "fKB8MCD_GCVI",
        "outputId": "aaeaf11d-361c-440e-c56a-470e3d752608"
      },
      "source": [
        "### ESTIMATED GP EI GRADIENTS\n",
        "\n",
        "np.random.seed(run_num_7)\n",
        "surrogate_approx_7 = GaussianProcess(cov_func, optimize=opt)\n",
        "\n",
        "approx_7 = GPGO_multi(surrogate_approx_7, Acquisition(util_grad_approx), objfunc, param)\n",
        "approx_7.run(init_evals=n_init, max_iter=iters)\n"
      ],
      "execution_count": 19,
      "outputs": [
        {
          "output_type": "stream",
          "name": "stdout",
          "text": [
            "Evaluation \t Proposed point \t  Current eval. \t Best eval.\n",
            "init   \t [-3.85537566 11.69878188]. \t  -8.299317850233932 \t -5.211335324193094\n",
            "init   \t [ 1.57613847 10.85197767]. \t  -59.50408380701259 \t -5.211335324193094\n",
            "init   \t [9.66984268 8.07743806]. \t  -29.714921414987273 \t -5.211335324193094\n",
            "init   \t [2.51680695 1.080767  ]. \t  -5.211335324193094 \t -5.211335324193094\n",
            "init   \t [-0.9734153   7.49823751]. \t  -15.431057204948033 \t -5.211335324193094\n",
            "1      \t [-4.97859679  1.38393519]. \t  -260.3293952774437 \t -5.211335324193094\n",
            "2      \t [ 7.42679792 14.12713902]. \t  -178.37635728719692 \t -5.211335324193094\n",
            "3      \t [8.08940775 0.35854539]. \t  -9.249625108410735 \t -5.211335324193094\n",
            "4      \t [-3.39684884  5.54228873]. \t  -54.79871094423047 \t -5.211335324193094\n",
            "5      \t [4.51732395 5.9162821 ]. \t  -28.11667541280732 \t -5.211335324193094\n",
            "6      \t [-0.88572207 15.        ]. \t  -72.16042862566053 \t -5.211335324193094\n",
            "7      \t [10.          3.80987848]. \t  \u001b[92m-2.5942635698622443\u001b[0m \t -2.5942635698622443\n",
            "8      \t [-0.72252958  0.        ]. \t  -69.29348989210371 \t -2.5942635698622443\n",
            "9      \t [5.84045347 9.85064336]. \t  -95.0536844126451 \t -2.5942635698622443\n",
            "10     \t [-5. 15.]. \t  -17.508299515778166 \t -2.5942635698622443\n",
            "11     \t [0.78912381 4.13023916]. \t  -17.246395806071483 \t -2.5942635698622443\n",
            "12     \t [ 3.21225964 15.        ]. \t  -163.73658315175996 \t -2.5942635698622443\n",
            "13     \t [5.50144635 2.38029264]. \t  -18.318157179074998 \t -2.5942635698622443\n",
            "14     \t [-5.          8.85128993]. \t  -82.21381860091353 \t -2.5942635698622443\n",
            "15     \t [10.         11.37766485]. \t  -72.07887885939888 \t -2.5942635698622443\n",
            "16     \t [2.02350144 7.80620327]. \t  -26.029814634585968 \t -2.5942635698622443\n",
            "17     \t [7.82568216 5.04472535]. \t  -23.147293202875055 \t -2.5942635698622443\n",
            "18     \t [10.          1.89642208]. \t  -3.1675593164002214 \t -2.5942635698622443\n",
            "19     \t [-1.66598579 10.49684295]. \t  -11.297908694971014 \t -2.5942635698622443\n",
            "20     \t [4.56570536 0.        ]. \t  -10.631164811429883 \t -2.5942635698622443\n"
          ]
        }
      ]
    },
    {
      "cell_type": "code",
      "metadata": {
        "colab": {
          "base_uri": "https://localhost:8080/"
        },
        "id": "4unvifF-GCXp",
        "outputId": "4b5c69d7-3490-4fea-cbcd-18df5aaa9107"
      },
      "source": [
        "### ESTIMATED GP EI GRADIENTS\n",
        "\n",
        "np.random.seed(run_num_8)\n",
        "surrogate_approx_8 = GaussianProcess(cov_func, optimize=opt)\n",
        "\n",
        "approx_8 = GPGO_multi(surrogate_approx_8, Acquisition(util_grad_approx), objfunc, param)\n",
        "approx_8.run(init_evals=n_init, max_iter=iters)\n"
      ],
      "execution_count": 20,
      "outputs": [
        {
          "output_type": "stream",
          "name": "stdout",
          "text": [
            "Evaluation \t Proposed point \t  Current eval. \t Best eval.\n",
            "init   \t [ 8.10144104 14.52810994]. \t  -175.17297136347514 \t -15.416245468470875\n",
            "init   \t [8.0379181  7.96283537]. \t  -49.32173799887473 \t -15.416245468470875\n",
            "init   \t [-1.50907508  0.17098206]. \t  -83.26753461673219 \t -15.416245468470875\n",
            "init   \t [1.45703227 6.0352704 ]. \t  -15.416245468470875 \t -15.416245468470875\n",
            "init   \t [2.84012007 7.17587694]. \t  -22.49093277852639 \t -15.416245468470875\n",
            "1      \t [9.77124156 0.43098073]. \t  \u001b[92m-6.499298445992174\u001b[0m \t -6.499298445992174\n",
            "2      \t [-4.87537438 11.82874897]. \t  -36.57081146531108 \t -6.499298445992174\n",
            "3      \t [ 1.38217397 12.68390036]. \t  -86.39656029252868 \t -6.499298445992174\n",
            "4      \t [-5.          4.93391962]. \t  -162.87055456893222 \t -6.499298445992174\n",
            "5      \t [4.40861409 1.05852811]. \t  -7.31765987324756 \t -6.499298445992174\n",
            "6      \t [-1.71652812  8.75489851]. \t  -8.733549018250445 \t -6.499298445992174\n",
            "7      \t [7.44443989 3.63168661]. \t  -19.208249510441597 \t -6.499298445992174\n",
            "8      \t [-2.31794502 15.        ]. \t  -24.78958580784696 \t -6.499298445992174\n",
            "9      \t [ 5.24257774 10.95530008]. \t  -109.8896742427036 \t -6.499298445992174\n",
            "10     \t [1.57901955 2.64184387]. \t  -11.283313653134268 \t -6.499298445992174\n",
            "11     \t [10.        11.0120659]. \t  -66.0889723689221 \t -6.499298445992174\n",
            "12     \t [-5.          0.69200778]. \t  -284.8203972380875 \t -6.499298445992174\n",
            "13     \t [ 4.19622142 15.        ]. \t  -184.92212385135292 \t -6.499298445992174\n",
            "14     \t [-1.21462196  4.20473349]. \t  -28.70660955178697 \t -6.499298445992174\n",
            "15     \t [7.00733395 0.        ]. \t  -18.61058358514861 \t -6.499298445992174\n",
            "16     \t [10.          5.12129095]. \t  \u001b[92m-6.430481065286029\u001b[0m \t -6.430481065286029\n",
            "17     \t [4.36260095 4.23898371]. \t  -14.127377104351561 \t -6.430481065286029\n",
            "18     \t [-5.          8.61786581]. \t  -86.15998499007505 \t -6.430481065286029\n",
            "19     \t [2.07728776 0.        ]. \t  -15.913117090369397 \t -6.430481065286029\n",
            "20     \t [-1.77438947 11.476213  ]. \t  -13.100609701326478 \t -6.430481065286029\n"
          ]
        }
      ]
    },
    {
      "cell_type": "code",
      "metadata": {
        "colab": {
          "base_uri": "https://localhost:8080/"
        },
        "id": "85OIXcg7GCaJ",
        "outputId": "5b8c2c39-1894-42ff-e45a-465db4bba80c"
      },
      "source": [
        "### ESTIMATED GP EI GRADIENTS\n",
        "\n",
        "np.random.seed(run_num_9)\n",
        "surrogate_approx_9 = GaussianProcess(cov_func, optimize=opt)\n",
        "\n",
        "approx_9 = GPGO_multi(surrogate_approx_9, Acquisition(util_grad_approx), objfunc, param)\n",
        "approx_9.run(init_evals=n_init, max_iter=iters)\n"
      ],
      "execution_count": 21,
      "outputs": [
        {
          "output_type": "stream",
          "name": "stdout",
          "text": [
            "Evaluation \t Proposed point \t  Current eval. \t Best eval.\n",
            "init   \t [-4.84438769  7.52811888]. \t  -96.15564306553264 \t -3.4640248583909496\n",
            "init   \t [2.4365994  2.00744293]. \t  -3.4640248583909496 \t -3.4640248583909496\n",
            "init   \t [-2.86833372  3.27838013]. \t  -70.46930174488207 \t -3.4640248583909496\n",
            "init   \t [1.27762271 3.72151753]. \t  -12.982825924833865 \t -3.4640248583909496\n",
            "init   \t [-3.73910523  5.1824796 ]. \t  -75.58547400560856 \t -3.4640248583909496\n",
            "1      \t [ 7.05609655 14.75038872]. \t  -200.4388688685465 \t -3.4640248583909496\n",
            "2      \t [-0.46054038 14.56197292]. \t  -79.4666617606301 \t -3.4640248583909496\n",
            "3      \t [8.28747407 1.2035024 ]. \t  -6.196385269800155 \t -3.4640248583909496\n",
            "4      \t [7.59766367 8.71517487]. \t  -66.45862359135464 \t -3.4640248583909496\n",
            "5      \t [1.7566144  9.14390932]. \t  -38.92895201137776 \t -3.4640248583909496\n",
            "6      \t [-5.         12.67604545]. \t  -33.075714196778804 \t -3.4640248583909496\n",
            "7      \t [5.6715956  4.46939079]. \t  -29.020791324624987 \t -3.4640248583909496\n",
            "8      \t [10.          4.83921666]. \t  -5.314991639338838 \t -3.4640248583909496\n",
            "9      \t [-0.29843966  0.        ]. \t  -61.252184441412865 \t -3.4640248583909496\n",
            "10     \t [4.94290649 0.        ]. \t  -13.85645068315192 \t -3.4640248583909496\n",
            "11     \t [-5.  0.]. \t  -308.12909601160663 \t -3.4640248583909496\n",
            "12     \t [ 3.28041318 12.7405342 ]. \t  -112.2427528096596 \t -3.4640248583909496\n",
            "13     \t [-1.8331209  10.47599391]. \t  -8.77416916468159 \t -3.4640248583909496\n",
            "14     \t [10.         11.79676827]. \t  -79.27426430618615 \t -3.4640248583909496\n",
            "15     \t [-0.38238805  6.54075384]. \t  -18.916132946354676 \t -3.4640248583909496\n",
            "16     \t [3.14021008 6.24893701]. \t  -16.181501621054935 \t -3.4640248583909496\n",
            "17     \t [-3.69765711 15.        ]. \t  -3.6635397920321813 \t -3.4640248583909496\n",
            "18     \t [4.66715829 9.53562441]. \t  -75.98333718906987 \t -3.4640248583909496\n",
            "19     \t [10.          2.49597929]. \t  \u001b[92m-2.2001666642315953\u001b[0m \t -2.2001666642315953\n",
            "20     \t [10.  0.]. \t  -10.960889035651505 \t -2.2001666642315953\n"
          ]
        }
      ]
    },
    {
      "cell_type": "code",
      "metadata": {
        "colab": {
          "base_uri": "https://localhost:8080/"
        },
        "id": "QQBR-qJPGCcp",
        "outputId": "0dffea94-1309-426f-ba28-7e875a84569c"
      },
      "source": [
        "### ESTIMATED GP EI GRADIENTS\n",
        "\n",
        "np.random.seed(run_num_10)\n",
        "surrogate_approx_10 = GaussianProcess(cov_func, optimize=opt)\n",
        "\n",
        "approx_10 = GPGO_multi(surrogate_approx_10, Acquisition(util_grad_approx), objfunc, param)\n",
        "approx_10.run(init_evals=n_init, max_iter=iters)\n"
      ],
      "execution_count": 22,
      "outputs": [
        {
          "output_type": "stream",
          "name": "stdout",
          "text": [
            "Evaluation \t Proposed point \t  Current eval. \t Best eval.\n",
            "init   \t [6.56980965 0.31127924]. \t  -19.863985024602144 \t -2.710610964564512\n",
            "init   \t [ 4.50472352 11.23205824]. \t  -103.66999147252169 \t -2.710610964564512\n",
            "init   \t [2.47760518 3.37194968]. \t  -2.710610964564512 \t -2.710610964564512\n",
            "init   \t [-2.02905703 11.40796068]. \t  -8.463930835255017 \t -2.710610964564512\n",
            "init   \t [-2.46333745  1.32509721]. \t  -90.49481266026973 \t -2.710610964564512\n",
            "1      \t [ 9.16391068 14.81438212]. \t  -158.2412724465548 \t -2.710610964564512\n",
            "2      \t [9.65621089 6.61160737]. \t  -16.1339423373336 \t -2.710610964564512\n",
            "3      \t [-3.43070383  6.59407857]. \t  -41.58407101130534 \t -2.710610964564512\n",
            "4      \t [ 1.02035341 14.99535798]. \t  -124.9536450431274 \t -2.710610964564512\n",
            "5      \t [-5. 15.]. \t  -17.508299515778166 \t -2.710610964564512\n",
            "6      \t [1.30780413 7.43219275]. \t  -23.337991150801543 \t -2.710610964564512\n",
            "7      \t [5.49093003 5.8404457 ]. \t  -38.68828157439221 \t -2.710610964564512\n",
            "8      \t [10.          2.46597651]. \t  \u001b[92m-2.23148828106918\u001b[0m \t -2.23148828106918\n",
            "9      \t [2.04111591 0.        ]. \t  -16.47049972458244 \t -2.23148828106918\n",
            "10     \t [10.         10.45460013]. \t  -57.47013195391853 \t -2.23148828106918\n",
            "11     \t [-5.          9.91014587]. \t  -65.68159999944558 \t -2.23148828106918\n",
            "12     \t [ 5.10264405 15.        ]. \t  -202.92268027993546 \t -2.23148828106918\n",
            "13     \t [10.  0.]. \t  -10.960889035651505 \t -2.23148828106918\n",
            "14     \t [7.93015003 3.43719981]. \t  -13.011090692265029 \t -2.23148828106918\n",
            "15     \t [-0.21638471  4.37601694]. \t  -23.276521036541638 \t -2.23148828106918\n",
            "16     \t [ 0.78087652 10.84442341]. \t  -52.92187433055617 \t -2.23148828106918\n",
            "17     \t [-5.          3.69163643]. \t  -194.85830783686447 \t -2.23148828106918\n",
            "18     \t [7.08419189 8.68904064]. \t  -72.64315666311924 \t -2.23148828106918\n",
            "19     \t [4.46434633 2.5073014 ]. \t  -8.719709207848426 \t -2.23148828106918\n",
            "20     \t [-2.37366414 14.07664118]. \t  -15.844574911670152 \t -2.23148828106918\n"
          ]
        }
      ]
    },
    {
      "cell_type": "code",
      "metadata": {
        "colab": {
          "base_uri": "https://localhost:8080/"
        },
        "id": "JS8ejeQ2GCfi",
        "outputId": "98aefe7a-abe2-4214-a4ac-b0c9f74b6ab3"
      },
      "source": [
        "### ESTIMATED GP EI GRADIENTS\n",
        "\n",
        "np.random.seed(run_num_11)\n",
        "surrogate_approx_11 = GaussianProcess(cov_func, optimize=opt)\n",
        "\n",
        "approx_11 = GPGO_multi(surrogate_approx_11, Acquisition(util_grad_approx), objfunc, param)\n",
        "approx_11.run(init_evals=n_init, max_iter=iters)\n"
      ],
      "execution_count": 23,
      "outputs": [
        {
          "output_type": "stream",
          "name": "stdout",
          "text": [
            "Evaluation \t Proposed point \t  Current eval. \t Best eval.\n",
            "init   \t [-2.29595467  0.29212862]. \t  -104.49282729548965 \t -22.37435843952312\n",
            "init   \t [ 1.9482779  10.87400894]. \t  -62.47758067812407 \t -22.37435843952312\n",
            "init   \t [1.30305407 7.28140647]. \t  -22.37435843952312 \t -22.37435843952312\n",
            "init   \t [-4.80828778  7.31057411]. \t  -97.94503054415523 \t -22.37435843952312\n",
            "init   \t [ 9.12709979 12.76192634]. \t  -111.62900800771942 \t -22.37435843952312\n",
            "1      \t [6.94653631 0.95529646]. \t  \u001b[92m-17.615403152614682\u001b[0m \t -17.615403152614682\n",
            "2      \t [9.97678471 6.82121545]. \t  \u001b[92m-16.579038540907792\u001b[0m \t -16.579038540907792\n",
            "3      \t [-5. 15.]. \t  -17.508299515778166 \t -16.579038540907792\n",
            "4      \t [2.40801211 2.48954713]. \t  \u001b[92m-3.0501065715386115\u001b[0m \t -3.0501065715386115\n",
            "5      \t [ 4.54062764 15.        ]. \t  -192.31915583371392 \t -3.0501065715386115\n",
            "6      \t [5.60829222 5.53295914]. \t  -36.81838224630954 \t -3.0501065715386115\n",
            "7      \t [-0.54301464 15.        ]. \t  -83.79320939352202 \t -3.0501065715386115\n",
            "8      \t [-2.80957204 11.22736755]. \t  \u001b[92m-0.9919692605755888\u001b[0m \t -0.9919692605755888\n",
            "9      \t [6.09869871 9.61837603]. \t  -92.02704121635836 \t -0.9919692605755888\n",
            "10     \t [-1.43282003  4.48387976]. \t  -27.818367537838043 \t -0.9919692605755888\n",
            "11     \t [10.          2.99580232]. \t  -1.9431918466601736 \t -0.9919692605755888\n",
            "12     \t [-5.          3.20441038]. \t  -208.2466329673194 \t -0.9919692605755888\n",
            "13     \t [-5.         11.41906753]. \t  -45.99695297915527 \t -0.9919692605755888\n",
            "14     \t [-1.76668661 10.91122817]. \t  -11.008312850300312 \t -0.9919692605755888\n",
            "15     \t [1.90746758 0.        ]. \t  -18.621701253425066 \t -0.9919692605755888\n",
            "16     \t [8.39618968 3.9397043 ]. \t  -9.865975224172962 \t -0.9919692605755888\n",
            "17     \t [2.32167384 4.453647  ]. \t  -5.558070782615733 \t -0.9919692605755888\n",
            "18     \t [10.  0.]. \t  -10.960889035651505 \t -0.9919692605755888\n",
            "19     \t [4.43286042 2.32460477]. \t  -8.058392358183625 \t -0.9919692605755888\n",
            "20     \t [-1.46950375  8.12551623]. \t  -11.213258608561906 \t -0.9919692605755888\n"
          ]
        }
      ]
    },
    {
      "cell_type": "code",
      "metadata": {
        "colab": {
          "base_uri": "https://localhost:8080/"
        },
        "id": "DXwjUVZ4GCii",
        "outputId": "771dd3a7-373b-4970-d4fa-133dca31b447"
      },
      "source": [
        "### ESTIMATED GP EI GRADIENTS\n",
        "\n",
        "np.random.seed(run_num_12)\n",
        "surrogate_approx_12 = GaussianProcess(cov_func, optimize=opt)\n",
        "\n",
        "approx_12 = GPGO_multi(surrogate_approx_12, Acquisition(util_grad_approx), objfunc, param)\n",
        "approx_12.run(init_evals=n_init, max_iter=iters)\n"
      ],
      "execution_count": 24,
      "outputs": [
        {
          "output_type": "stream",
          "name": "stdout",
          "text": [
            "Evaluation \t Proposed point \t  Current eval. \t Best eval.\n",
            "init   \t [-2.68755736 11.10074545]. \t  -1.3827702760021356 \t -0.5499315281120278\n",
            "init   \t [-1.05027477  8.0060909 ]. \t  -14.81231853080056 \t -0.5499315281120278\n",
            "init   \t [-4.78137556 13.78120512]. \t  -18.401131000214548 \t -0.5499315281120278\n",
            "init   \t [8.51072281 0.50132141]. \t  -5.855172364344769 \t -0.5499315281120278\n",
            "init   \t [9.35424004 2.05813982]. \t  -0.5499315281120278 \t -0.5499315281120278\n",
            "1      \t [10.          4.42358818]. \t  -3.961334736212157 \t -0.5499315281120278\n",
            "2      \t [ 8.50155249 13.79797306]. \t  -148.00655208378976 \t -0.5499315281120278\n",
            "3      \t [-4.8799499   0.15657603]. \t  -290.0404981832191 \t -0.5499315281120278\n",
            "4      \t [5.8072579  8.50643036]. \t  -73.18138418395506 \t -0.5499315281120278\n",
            "5      \t [3.15872501 0.57007156]. \t  -3.260825771053282 \t -0.5499315281120278\n",
            "6      \t [ 2.09353067 13.04151801]. \t  -101.38880726759464 \t -0.5499315281120278\n",
            "7      \t [-0.39744325  3.26093038]. \t  -30.35950541795291 \t -0.5499315281120278\n",
            "8      \t [-5.          5.57848034]. \t  -147.48984060634893 \t -0.5499315281120278\n",
            "9      \t [5.63198685 3.75744495]. \t  -24.519298598627884 \t -0.5499315281120278\n",
            "10     \t [10.          9.22666604]. \t  -40.677699778169675 \t -0.5499315281120278\n",
            "11     \t [2.33251288 6.17945927]. \t  -13.542206905535906 \t -0.5499315281120278\n",
            "12     \t [-5.          9.81774711]. \t  -67.0349486197907 \t -0.5499315281120278\n",
            "13     \t [0.04234022 0.        ]. \t  -54.79215724554823 \t -0.5499315281120278\n",
            "14     \t [-1.4283399 15.       ]. \t  -53.13582776486919 \t -0.5499315281120278\n",
            "15     \t [5.68855219 0.        ]. \t  -19.223515717241582 \t -0.5499315281120278\n",
            "16     \t [1.99808814 9.3338612 ]. \t  -41.9988146212019 \t -0.5499315281120278\n",
            "17     \t [ 5.02533731 15.        ]. \t  -201.62410422751245 \t -0.5499315281120278\n",
            "18     \t [-1.2603732  11.29154336]. \t  -22.421831199880668 \t -0.5499315281120278\n",
            "19     \t [2.7128942  2.89308671]. \t  -1.3344166245316877 \t -0.5499315281120278\n",
            "20     \t [8.27249693 6.00242761]. \t  -24.82817173445969 \t -0.5499315281120278\n"
          ]
        }
      ]
    },
    {
      "cell_type": "code",
      "metadata": {
        "colab": {
          "base_uri": "https://localhost:8080/"
        },
        "id": "CphOPndPGClX",
        "outputId": "76b30086-fed4-48dd-c585-1fc72f549627"
      },
      "source": [
        "### ESTIMATED GP EI GRADIENTS\n",
        "\n",
        "np.random.seed(run_num_13)\n",
        "surrogate_approx_13 = GaussianProcess(cov_func, optimize=opt)\n",
        "\n",
        "approx_13 = GPGO_multi(surrogate_approx_13, Acquisition(util_grad_approx), objfunc, param)\n",
        "approx_13.run(init_evals=n_init, max_iter=iters)\n"
      ],
      "execution_count": 25,
      "outputs": [
        {
          "output_type": "stream",
          "name": "stdout",
          "text": [
            "Evaluation \t Proposed point \t  Current eval. \t Best eval.\n",
            "init   \t [6.66553616 3.5631183 ]. \t  -24.823670200298267 \t -18.038943061558626\n",
            "init   \t [ 7.36417799 14.48623797]. \t  -188.7803334745195 \t -18.038943061558626\n",
            "init   \t [9.58901671 6.80173871]. \t  -18.038943061558626 \t -18.038943061558626\n",
            "init   \t [ 4.13563694 11.63289772]. \t  -104.87319703906111 \t -18.038943061558626\n",
            "init   \t [ 4.62420017 10.83027344]. \t  -98.03271225790056 \t -18.038943061558626\n",
            "1      \t [-5.         10.55852118]. \t  -56.66525878591628 \t -18.038943061558626\n",
            "2      \t [-3.36042638  1.3238031 ]. \t  -132.49290788011677 \t -18.038943061558626\n",
            "3      \t [-0.52648707  6.71273475]. \t  -18.32769423211562 \t -18.038943061558626\n",
            "4      \t [-0.84237398 15.        ]. \t  -73.66141212210243 \t -18.038943061558626\n",
            "5      \t [2.39892838 0.        ]. \t  \u001b[92m-11.484530246287337\u001b[0m \t -11.484530246287337\n",
            "6      \t [10.  0.]. \t  \u001b[92m-10.960889035651505\u001b[0m \t -10.960889035651505\n",
            "7      \t [-5.          5.87336011]. \t  -140.7303471731284 \t -10.960889035651505\n",
            "8      \t [3.59356942 6.3924972 ]. \t  -21.10752835269477 \t -10.960889035651505\n",
            "9      \t [10.         10.78931739]. \t  -62.570554975701306 \t -10.960889035651505\n",
            "10     \t [-5. 15.]. \t  -17.508299515778166 \t -10.960889035651505\n",
            "11     \t [-0.38528093 10.68209914]. \t  -35.29851581317916 \t -10.960889035651505\n",
            "12     \t [0.81263384 3.21512953]. \t  -19.088705296254446 \t -10.960889035651505\n",
            "13     \t [10.          3.30729219]. \t  \u001b[92m-2.0357608101041436\u001b[0m \t -2.0357608101041436\n",
            "14     \t [6.11358924 0.        ]. \t  -20.6706522587235 \t -2.0357608101041436\n",
            "15     \t [ 2.94677981 15.        ]. \t  -158.53843382519295 \t -2.0357608101041436\n",
            "16     \t [6.62348196 7.74027804]. \t  -62.80291459865176 \t -2.0357608101041436\n",
            "17     \t [3.75897247 2.69997631]. \t  -2.9052578131781983 \t -2.0357608101041436\n",
            "18     \t [1.85104494 8.6181431 ]. \t  -33.57426982266342 \t -2.0357608101041436\n",
            "19     \t [-2.59857192  8.50594766]. \t  -8.039820570667244 \t -2.0357608101041436\n",
            "20     \t [-0.18224643  0.        ]. \t  -59.06187019533053 \t -2.0357608101041436\n"
          ]
        }
      ]
    },
    {
      "cell_type": "code",
      "metadata": {
        "colab": {
          "base_uri": "https://localhost:8080/"
        },
        "id": "ojHTeARNGCoi",
        "outputId": "028bf73f-0ccc-4307-9dd8-6be6a4d59bb5"
      },
      "source": [
        "### ESTIMATED GP EI GRADIENTS\n",
        "\n",
        "np.random.seed(run_num_14)\n",
        "surrogate_approx_14 = GaussianProcess(cov_func, optimize=opt)\n",
        "\n",
        "approx_14 = GPGO_multi(surrogate_approx_14, Acquisition(util_grad_approx), objfunc, param)\n",
        "approx_14.run(init_evals=n_init, max_iter=iters)\n"
      ],
      "execution_count": 26,
      "outputs": [
        {
          "output_type": "stream",
          "name": "stdout",
          "text": [
            "Evaluation \t Proposed point \t  Current eval. \t Best eval.\n",
            "init   \t [ 2.70915016 11.59747578]. \t  -81.58264375064097 \t -1.4149920024014744\n",
            "init   \t [8.05641529 0.12070423]. \t  -10.148649076616518 \t -1.4149920024014744\n",
            "init   \t [-0.35396112 14.36405609]. \t  -79.6056658956529 \t -1.4149920024014744\n",
            "init   \t [2.69675068 4.77426637]. \t  -5.855607664288365 \t -1.4149920024014744\n",
            "init   \t [3.08799906 3.31882414]. \t  -1.4149920024014744 \t -1.4149920024014744\n",
            "1      \t [10.          6.86255647]. \t  -16.839651757136487 \t -1.4149920024014744\n",
            "2      \t [-3.61083748  7.85924032]. \t  -32.481990179851884 \t -1.4149920024014744\n",
            "3      \t [-2.06062727  2.20289552]. \t  -63.62665246304455 \t -1.4149920024014744\n",
            "4      \t [10.         14.30978652]. \t  -129.78754336484576 \t -1.4149920024014744\n",
            "5      \t [5.68710915 7.81775739]. \t  -62.71339741866437 \t -1.4149920024014744\n",
            "6      \t [-5. 15.]. \t  -17.508299515778166 \t -1.4149920024014744\n",
            "7      \t [2.4230891 0.       ]. \t  -11.193346353138086 \t -1.4149920024014744\n",
            "8      \t [ 5.46109152 15.        ]. \t  -208.05010351552272 \t -1.4149920024014744\n",
            "9      \t [6.73891458 3.65971378]. \t  -24.964347843194034 \t -1.4149920024014744\n",
            "10     \t [0.53278323 7.76044679]. \t  -24.885011059407734 \t -1.4149920024014744\n",
            "11     \t [-5.         11.37680463]. \t  -46.48630861291074 \t -1.4149920024014744\n",
            "12     \t [ 8.84039168 10.36390749]. \t  -71.50912910918882 \t -1.4149920024014744\n",
            "13     \t [-5.  0.]. \t  -308.12909601160663 \t -1.4149920024014744\n",
            "14     \t [10.          2.87830902]. \t  -1.958677683822284 \t -1.4149920024014744\n",
            "15     \t [-1.30630886 10.71727903]. \t  -18.355782513216262 \t -1.4149920024014744\n",
            "16     \t [5.25603137 0.        ]. \t  -16.415410283882636 \t -1.4149920024014744\n",
            "17     \t [-5.          4.54945726]. \t  -172.44033902924025 \t -1.4149920024014744\n",
            "18     \t [0.06053724 4.73122197]. \t  -20.960225819306004 \t -1.4149920024014744\n",
            "19     \t [3.77680026 2.50473297]. \t  -2.7236969186147366 \t -1.4149920024014744\n",
            "20     \t [-0.00736635  0.        ]. \t  -55.74276071117978 \t -1.4149920024014744\n"
          ]
        }
      ]
    },
    {
      "cell_type": "code",
      "metadata": {
        "colab": {
          "base_uri": "https://localhost:8080/"
        },
        "id": "vCJzn4vWGCs3",
        "outputId": "7fc50bc2-ee78-469a-fef6-71c7560397bb"
      },
      "source": [
        "### ESTIMATED GP EI GRADIENTS\n",
        "\n",
        "np.random.seed(run_num_15)\n",
        "surrogate_approx_15 = GaussianProcess(cov_func, optimize=opt)\n",
        "\n",
        "approx_15 = GPGO_multi(surrogate_approx_15, Acquisition(util_grad_approx), objfunc, param)\n",
        "approx_15.run(init_evals=n_init, max_iter=iters)\n"
      ],
      "execution_count": 27,
      "outputs": [
        {
          "output_type": "stream",
          "name": "stdout",
          "text": [
            "Evaluation \t Proposed point \t  Current eval. \t Best eval.\n",
            "init   \t [7.73226546 2.68343887]. \t  -12.768724532005583 \t -12.768724532005583\n",
            "init   \t [-4.18455179  5.42307669]. \t  -95.39334176626551 \t -12.768724532005583\n",
            "init   \t [-0.86898607  7.95000337]. \t  -16.419487782111716 \t -12.768724532005583\n",
            "init   \t [-0.41121626  4.56711539]. \t  -23.250362743740954 \t -12.768724532005583\n",
            "init   \t [-3.32388086  3.74848521]. \t  -80.99796277938532 \t -12.768724532005583\n",
            "1      \t [ 6.5655417  11.87699252]. \t  -134.95011349993544 \t -12.768724532005583\n",
            "2      \t [-4.77493765 13.49591113]. \t  -19.896906503438096 \t -12.768724532005583\n",
            "3      \t [ 0.69524818 15.        ]. \t  -118.25691317432663 \t -12.768724532005583\n",
            "4      \t [2.88475658 0.        ]. \t  \u001b[92m-6.88220071543949\u001b[0m \t -6.88220071543949\n",
            "5      \t [10.         7.3920589]. \t  -21.207359576336543 \t -6.88220071543949\n",
            "6      \t [4.43909426 6.68421057]. \t  -34.48574674031204 \t -6.88220071543949\n",
            "7      \t [-1.06518659  0.        ]. \t  -76.1456649953298 \t -6.88220071543949\n",
            "8      \t [ 2.15318116 10.62407581]. \t  -60.251666032063625 \t -6.88220071543949\n",
            "9      \t [10. 15.]. \t  -145.87219087939556 \t -6.88220071543949\n",
            "10     \t [-5.         9.6212443]. \t  -69.96986122222773 \t -6.88220071543949\n",
            "11     \t [-5.  0.]. \t  -308.12909601160663 \t -6.88220071543949\n",
            "12     \t [10.  0.]. \t  -10.960889035651505 \t -6.88220071543949\n",
            "13     \t [3.82100809 3.03698468]. \t  \u001b[92m-4.0484498586885875\u001b[0m \t -4.0484498586885875\n",
            "14     \t [-1.6270931  11.63994509]. \t  -16.794816620204724 \t -4.0484498586885875\n",
            "15     \t [6.03791751 0.        ]. \t  -20.5246649356264 \t -4.0484498586885875\n",
            "16     \t [ 4.54915185 15.        ]. \t  -192.49636394727037 \t -4.0484498586885875\n",
            "17     \t [10.          4.23439667]. \t  \u001b[92m-3.4595853030673585\u001b[0m \t -3.4595853030673585\n",
            "18     \t [10.         10.71368933]. \t  -61.3985398872733 \t -3.4595853030673585\n",
            "19     \t [7.46276162 5.63408635]. \t  -32.296136729742145 \t -3.4595853030673585\n",
            "20     \t [1.61903732 2.35706548]. \t  -11.510386775646058 \t -3.4595853030673585\n"
          ]
        }
      ]
    },
    {
      "cell_type": "code",
      "metadata": {
        "colab": {
          "base_uri": "https://localhost:8080/"
        },
        "id": "bGGkhp-kGCw6",
        "outputId": "3fd88ad7-b1bf-4c6b-ffcb-f10de110f84a"
      },
      "source": [
        "### ESTIMATED GP EI GRADIENTS\n",
        "\n",
        "np.random.seed(run_num_16)\n",
        "surrogate_approx_16 = GaussianProcess(cov_func, optimize=opt)\n",
        "\n",
        "approx_16 = GPGO_multi(surrogate_approx_16, Acquisition(util_grad_approx), objfunc, param)\n",
        "approx_16.run(init_evals=n_init, max_iter=iters)\n"
      ],
      "execution_count": 28,
      "outputs": [
        {
          "output_type": "stream",
          "name": "stdout",
          "text": [
            "Evaluation \t Proposed point \t  Current eval. \t Best eval.\n",
            "init   \t [-1.65063381  7.84745012]. \t  -10.514702126319445 \t -2.715864006988424\n",
            "init   \t [3.26052185 0.68402925]. \t  -2.715864006988424 \t -2.715864006988424\n",
            "init   \t [0.41093253 3.34621413]. \t  -22.889515127492515 \t -2.715864006988424\n",
            "init   \t [5.33089243 2.45597138]. \t  -17.178157611778595 \t -2.715864006988424\n",
            "init   \t [-3.945127  14.1151629]. \t  -3.3649224341694195 \t -2.715864006988424\n",
            "1      \t [ 5.63879248 14.58068289]. \t  -198.51319639462758 \t -2.715864006988424\n",
            "2      \t [9.4202829  9.76772141]. \t  -53.637049482645274 \t -2.715864006988424\n",
            "3      \t [-4.02247103  0.        ]. \t  -213.91242864471565 \t -2.715864006988424\n",
            "4      \t [3.77207958 8.41836664]. \t  -45.58915671225536 \t -2.715864006988424\n",
            "5      \t [ 1.00000000e+01 -2.22044605e-16]. \t  -10.960889035651505 \t -2.715864006988424\n",
            "6      \t [ 0.46219838 12.61300877]. \t  -72.19198261942468 \t -2.715864006988424\n",
            "7      \t [10.          4.74011175]. \t  -4.9608486466292145 \t -2.715864006988424\n",
            "8      \t [-5.          5.03604707]. \t  -160.3781593316328 \t -2.715864006988424\n",
            "9      \t [-5.         10.31234595]. \t  -59.989572841993514 \t -2.715864006988424\n",
            "10     \t [6.95464417 6.05810918]. \t  -41.31732360611524 \t -2.715864006988424\n",
            "11     \t [10. 15.]. \t  -145.87219087939556 \t -2.715864006988424\n",
            "12     \t [0.29643197 0.        ]. \t  -49.870101416996356 \t -2.715864006988424\n",
            "13     \t [3.24239715 4.97256457]. \t  -8.146508954183364 \t -2.715864006988424\n",
            "14     \t [6.99162034 0.        ]. \t  -18.701546293256314 \t -2.715864006988424\n",
            "15     \t [ 6.12783696 10.8068899 ]. \t  -113.74567008071372 \t -2.715864006988424\n",
            "16     \t [8.64025416 2.71720057]. \t  -3.884069450230627 \t -2.715864006988424\n",
            "17     \t [-1.91499304 15.        ]. \t  -36.77325741301951 \t -2.715864006988424\n",
            "18     \t [0.82601358 6.62718736]. \t  -19.944581415487114 \t -2.715864006988424\n",
            "19     \t [-5. 15.]. \t  -17.508299515778166 \t -2.715864006988424\n",
            "20     \t [-1.79552218 10.38702443]. \t  -9.098784982486475 \t -2.715864006988424\n"
          ]
        }
      ]
    },
    {
      "cell_type": "code",
      "metadata": {
        "id": "Yrs2mp7hGC1Z",
        "colab": {
          "base_uri": "https://localhost:8080/"
        },
        "outputId": "7fa9d69a-7f08-4950-f3ce-8d59343b9b6a"
      },
      "source": [
        "### ESTIMATED GP EI GRADIENTS\n",
        "\n",
        "np.random.seed(run_num_17)\n",
        "surrogate_approx_17 = GaussianProcess(cov_func, optimize=opt)\n",
        "\n",
        "approx_17 = GPGO_multi(surrogate_approx_17, Acquisition(util_grad_approx), objfunc, param)\n",
        "approx_17.run(init_evals=n_init, max_iter=iters)\n"
      ],
      "execution_count": 29,
      "outputs": [
        {
          "output_type": "stream",
          "name": "stdout",
          "text": [
            "Evaluation \t Proposed point \t  Current eval. \t Best eval.\n",
            "init   \t [-0.58002496  7.95880133]. \t  -19.016141117164256 \t -19.016141117164256\n",
            "init   \t [-2.1271882   1.01850537]. \t  -85.05949339404415 \t -19.016141117164256\n",
            "init   \t [6.8047819  9.84500283]. \t  -93.89792695202516 \t -19.016141117164256\n",
            "init   \t [4.56281344 8.63404341]. \t  -60.50217141122736 \t -19.016141117164256\n",
            "init   \t [-4.41405626  5.36720407]. \t  -110.70834086593878 \t -19.016141117164256\n",
            "1      \t [10.  0.]. \t  \u001b[92m-10.960889035651505\u001b[0m \t -10.960889035651505\n",
            "2      \t [-0.36591853 14.49945231]. \t  -81.3728947682288 \t -10.960889035651505\n",
            "3      \t [3.74599703 2.35814314]. \t  \u001b[92m-2.3563457989420957\u001b[0m \t -2.3563457989420957\n",
            "4      \t [10.         14.81387187]. \t  -141.4408601588553 \t -2.3563457989420957\n",
            "5      \t [-5.         11.26990773]. \t  -47.739996251407824 \t -2.3563457989420957\n",
            "6      \t [10.          5.24001572]. \t  -6.947574144884817 \t -2.3563457989420957\n",
            "7      \t [ 4.74573296 15.        ]. \t  -196.46731994136059 \t -2.3563457989420957\n",
            "8      \t [7.11000786 2.78590867]. \t  -18.97161975666843 \t -2.3563457989420957\n",
            "9      \t [0.97032165 4.2938956 ]. \t  -15.505848604291854 \t -2.3563457989420957\n",
            "10     \t [1.95188582 0.        ]. \t  -17.89130560446589 \t -2.3563457989420957\n",
            "11     \t [-5. 15.]. \t  -17.508299515778166 \t -2.3563457989420957\n",
            "12     \t [ 1.56721054 11.08024788]. \t  -62.70202937443364 \t -2.3563457989420957\n",
            "13     \t [4.44733903 4.98298084]. \t  -19.776852279375138 \t -2.3563457989420957\n",
            "14     \t [5.4815877 0.       ]. \t  -18.01863328342207 \t -2.3563457989420957\n",
            "15     \t [10.         10.96989067]. \t  -65.41517902593787 \t -2.3563457989420957\n",
            "16     \t [7.50152428 6.21292606]. \t  -37.15243197409138 \t -2.3563457989420957\n",
            "17     \t [-5.  0.]. \t  -308.12909601160663 \t -2.3563457989420957\n",
            "18     \t [-1.81177833 10.94983854]. \t  -10.405380930558756 \t -2.3563457989420957\n",
            "19     \t [10.          2.72938481]. \t  \u001b[92m-2.017982188807979\u001b[0m \t -2.017982188807979\n",
            "20     \t [-3.45320762  8.5838853 ]. \t  -20.685480433715554 \t -2.017982188807979\n"
          ]
        }
      ]
    },
    {
      "cell_type": "code",
      "metadata": {
        "id": "f0HIEP3PIUEa",
        "colab": {
          "base_uri": "https://localhost:8080/"
        },
        "outputId": "028c6bd0-1e63-4176-9437-b3e3b5d7a22e"
      },
      "source": [
        "### ESTIMATED GP EI GRADIENTS\n",
        "\n",
        "np.random.seed(run_num_18)\n",
        "surrogate_approx_18 = GaussianProcess(cov_func, optimize=opt)\n",
        "\n",
        "approx_18 = GPGO_multi(surrogate_approx_18, Acquisition(util_grad_approx), objfunc, param)\n",
        "approx_18.run(init_evals=n_init, max_iter=iters)\n"
      ],
      "execution_count": 30,
      "outputs": [
        {
          "output_type": "stream",
          "name": "stdout",
          "text": [
            "Evaluation \t Proposed point \t  Current eval. \t Best eval.\n",
            "init   \t [4.75561363 7.58180061]. \t  -49.215059064668324 \t -8.150075223157177\n",
            "init   \t [8.17902206 2.72760338]. \t  -8.150075223157177 \t -8.150075223157177\n",
            "init   \t [ 7.78349603 11.25204429]. \t  -106.98107856533271 \t -8.150075223157177\n",
            "init   \t [ 4.99152501 14.81843172]. \t  -196.08601750690153 \t -8.150075223157177\n",
            "init   \t [-1.14547366  0.42458888]. \t  -71.23649635555944 \t -8.150075223157177\n",
            "1      \t [-4.83474958 11.77354131]. \t  -35.58412906267954 \t -8.150075223157177\n",
            "2      \t [-5.          4.86518366]. \t  -164.55978314469397 \t -8.150075223157177\n",
            "3      \t [ 0.50667591 11.06745993]. \t  -52.509448986258 \t -8.150075223157177\n",
            "4      \t [4.17705729 0.        ]. \t  \u001b[92m-7.680923760130492\u001b[0m \t -7.680923760130492\n",
            "5      \t [10. 15.]. \t  -145.87219087939556 \t -7.680923760130492\n",
            "6      \t [0.23184835 5.49205227]. \t  -19.366477269639255 \t -7.680923760130492\n",
            "7      \t [10.          6.76719321]. \t  -16.11261791544882 \t -7.680923760130492\n",
            "8      \t [-1.69773481 15.        ]. \t  -43.89739104961778 \t -7.680923760130492\n",
            "9      \t [3.85141889 3.55242562]. \t  \u001b[92m-5.8354395694187975\u001b[0m \t -5.8354395694187975\n",
            "10     \t [-2.55947426  8.41787089]. \t  -8.23903457964919 \t -5.8354395694187975\n",
            "11     \t [10.  0.]. \t  -10.960889035651505 \t -5.8354395694187975\n",
            "12     \t [-5.  0.]. \t  -308.12909601160663 \t -5.8354395694187975\n",
            "13     \t [7.12353431 5.20907592]. \t  -32.335424093011135 \t -5.8354395694187975\n",
            "14     \t [6.96449346 0.        ]. \t  -18.8547368376373 \t -5.8354395694187975\n",
            "15     \t [-5. 15.]. \t  -17.508299515778166 \t -5.8354395694187975\n",
            "16     \t [ 3.974917  11.0138193]. \t  -90.01448844881465 \t -5.8354395694187975\n",
            "17     \t [1.7703363  2.20552398]. \t  -10.005984171201767 \t -5.8354395694187975\n",
            "18     \t [ 1.40531532 15.        ]. \t  -132.17508659789402 \t -5.8354395694187975\n",
            "19     \t [1.47080208 8.00333856]. \t  -27.480613176215318 \t -5.8354395694187975\n",
            "20     \t [-5.          8.58001316]. \t  -86.81017392281419 \t -5.8354395694187975\n"
          ]
        }
      ]
    },
    {
      "cell_type": "code",
      "metadata": {
        "id": "S3mxRQDLIUPC",
        "colab": {
          "base_uri": "https://localhost:8080/"
        },
        "outputId": "f9259360-39c0-49b8-a41e-b1219c9f9ae9"
      },
      "source": [
        "### ESTIMATED GP EI GRADIENTS\n",
        "\n",
        "np.random.seed(run_num_19)\n",
        "surrogate_approx_19 = GaussianProcess(cov_func, optimize=opt)\n",
        "\n",
        "approx_19 = GPGO_multi(surrogate_approx_19, Acquisition(util_grad_approx), objfunc, param)\n",
        "approx_19.run(init_evals=n_init, max_iter=iters)\n"
      ],
      "execution_count": 31,
      "outputs": [
        {
          "output_type": "stream",
          "name": "stdout",
          "text": [
            "Evaluation \t Proposed point \t  Current eval. \t Best eval.\n",
            "init   \t [-3.53699597 11.41874575]. \t  -4.475608269502271 \t -4.475608269502271\n",
            "init   \t [-1.2959304   2.07197531]. \t  -51.13947793770689 \t -4.475608269502271\n",
            "init   \t [-0.02830155  1.24499348]. \t  -42.63973921760034 \t -4.475608269502271\n",
            "init   \t [ 5.07965622 12.09890697]. \t  -131.17235664506808 \t -4.475608269502271\n",
            "init   \t [9.74112872 9.53491102]. \t  -46.84458913925112 \t -4.475608269502271\n",
            "1      \t [9.57054653 2.03489665]. \t  \u001b[92m-0.8198597583535783\u001b[0m \t -0.8198597583535783\n",
            "2      \t [4.35401896 5.06360915]. \t  -19.19366062523231 \t -0.8198597583535783\n",
            "3      \t [-5.          6.34840318]. \t  -130.20673857664974 \t -0.8198597583535783\n",
            "4      \t [ 0.06622148 15.        ]. \t  -102.47896367552877 \t -0.8198597583535783\n",
            "5      \t [10. 15.]. \t  -145.87219087939556 \t -0.8198597583535783\n",
            "6      \t [5.39346729 0.        ]. \t  -17.423927888691484 \t -0.8198597583535783\n",
            "7      \t [0.45839665 8.54581584]. \t  -29.161829014186026 \t -0.8198597583535783\n",
            "8      \t [-5. 15.]. \t  -17.508299515778166 \t -0.8198597583535783\n",
            "9      \t [-5.  0.]. \t  -308.12909601160663 \t -0.8198597583535783\n",
            "10     \t [8.73535044 5.22957413]. \t  -13.314689915056832 \t -0.8198597583535783\n",
            "11     \t [6.09819897 8.11131466]. \t  -68.61740391866735 \t -0.8198597583535783\n",
            "12     \t [10.  0.]. \t  -10.960889035651505 \t -0.8198597583535783\n",
            "13     \t [0.86127551 5.06000924]. \t  -16.36767820484465 \t -0.8198597583535783\n",
            "14     \t [7.43117069 2.43468525]. \t  -15.21213924721128 \t -0.8198597583535783\n",
            "15     \t [ 1.2988583  11.61309298]. \t  -68.26580759485162 \t -0.8198597583535783\n",
            "16     \t [3.17378422 2.14765356]. \t  \u001b[92m-0.41334297588299584\u001b[0m \t -0.41334297588299584\n",
            "17     \t [-2.65869995  9.17217061]. \t  -5.386381810135241 \t -0.41334297588299584\n",
            "18     \t [ 3.53308342 15.        ]. \t  -170.3976952194555 \t -0.41334297588299584\n",
            "19     \t [10.          2.81784242]. \t  -1.9774079249816658 \t -0.41334297588299584\n",
            "20     \t [2.6682561 0.       ]. \t  -8.598971182490764 \t -0.41334297588299584\n"
          ]
        }
      ]
    },
    {
      "cell_type": "code",
      "metadata": {
        "id": "Aawd59dRIUYn",
        "colab": {
          "base_uri": "https://localhost:8080/"
        },
        "outputId": "02a5be6f-3358-41ee-c409-85fad3d45683"
      },
      "source": [
        "### ESTIMATED GP EI GRADIENTS\n",
        "\n",
        "np.random.seed(run_num_20)\n",
        "surrogate_approx_20 = GaussianProcess(cov_func, optimize=opt)\n",
        "\n",
        "approx_20 = GPGO_multi(surrogate_approx_20, Acquisition(util_grad_approx), objfunc, param)\n",
        "approx_20.run(init_evals=n_init, max_iter=iters)\n"
      ],
      "execution_count": 32,
      "outputs": [
        {
          "output_type": "stream",
          "name": "stdout",
          "text": [
            "Evaluation \t Proposed point \t  Current eval. \t Best eval.\n",
            "init   \t [ 3.82196202 13.46570592]. \t  -138.5264349938869 \t -14.042667401507376\n",
            "init   \t [ 8.37296094 12.23756216]. \t  -115.63178540512689 \t -14.042667401507376\n",
            "init   \t [-4.46165622 10.37636373]. \t  -35.66708529307584 \t -14.042667401507376\n",
            "init   \t [0.68021413 7.77766418]. \t  -25.307769914281764 \t -14.042667401507376\n",
            "init   \t [4.86927198 2.90775327]. \t  -14.042667401507376 \t -14.042667401507376\n",
            "1      \t [-0.46336714  1.1335069 ]. \t  -50.30566093512107 \t -14.042667401507376\n",
            "2      \t [10.        6.031178]. \t  \u001b[92m-11.113265474397442\u001b[0m \t -11.113265474397442\n",
            "3      \t [9.66447631 0.        ]. \t  \u001b[92m-7.879562083249813\u001b[0m \t -7.879562083249813\n",
            "4      \t [-1.70983375 15.        ]. \t  -43.491518308141394 \t -7.879562083249813\n",
            "5      \t [-5.          4.71772268]. \t  -168.21560828128608 \t -7.879562083249813\n",
            "6      \t [5.56194688 7.80586336]. \t  -61.58827450860958 \t -7.879562083249813\n",
            "7      \t [-5.  0.]. \t  -308.12909601160663 \t -7.879562083249813\n",
            "8      \t [-0.18491755 11.40953429]. \t  -45.55880410354546 \t -7.879562083249813\n",
            "9      \t [3.27420104 0.        ]. \t  \u001b[92m-5.207839407943306\u001b[0m \t -5.207839407943306\n",
            "10     \t [1.69278508 4.33683336]. \t  -9.268214589044371 \t -5.207839407943306\n",
            "11     \t [8.38850347 3.04885137]. \t  -6.822519616540246 \t -5.207839407943306\n",
            "12     \t [6.49155168 0.        ]. \t  -20.631501040911697 \t -5.207839407943306\n",
            "13     \t [-5.         14.08835869]. \t  -22.327564641287964 \t -5.207839407943306\n",
            "14     \t [-1.21602747  4.92101364]. \t  -23.609996185518852 \t -5.207839407943306\n",
            "15     \t [-2.56929915  7.83378343]. \t  -11.588589529339739 \t -5.207839407943306\n",
            "16     \t [2.97326781 9.9443424 ]. \t  -57.300967813285105 \t -5.207839407943306\n",
            "17     \t [10.          8.95178411]. \t  -37.331689363025944 \t -5.207839407943306\n",
            "18     \t [7.11044148 5.00421811]. \t  -30.859793745759966 \t -5.207839407943306\n",
            "19     \t [3.51121145 5.5621287 ]. \t  -13.703810350211247 \t -5.207839407943306\n",
            "20     \t [10. 15.]. \t  -145.87219087939556 \t -5.207839407943306\n"
          ]
        }
      ]
    },
    {
      "cell_type": "code",
      "metadata": {
        "id": "xkgzPRbBTHaq",
        "colab": {
          "base_uri": "https://localhost:8080/"
        },
        "outputId": "d494503e-7e2c-4787-907e-b795354bd7c8"
      },
      "source": [
        "end_approx = time.time()\n",
        "end_approx\n",
        "\n",
        "time_approx = end_approx - start_approx\n",
        "time_approx\n",
        "\n",
        "start_exact = time.time()\n",
        "start_exact"
      ],
      "execution_count": 33,
      "outputs": [
        {
          "output_type": "execute_result",
          "data": {
            "text/plain": [
              "1643197057.9770875"
            ]
          },
          "metadata": {},
          "execution_count": 33
        }
      ]
    },
    {
      "cell_type": "code",
      "metadata": {
        "id": "7CG3Ndvb16Rb",
        "colab": {
          "base_uri": "https://localhost:8080/"
        },
        "outputId": "215e1754-e3a4-42a8-8b5b-105c2fde5111"
      },
      "source": [
        "### EXACT GP EI GRADIENTS\n",
        "\n",
        "np.random.seed(run_num_1)\n",
        "surrogate_exact_1 = dGaussianProcess(cov_func, optimize=opt)\n",
        "\n",
        "exact_1 = dGPGO(surrogate_exact_1, Acquisition_new(util_grad_exact), objfunc, param)\n",
        "exact_1.run(init_evals=n_init, max_iter=iters)\n"
      ],
      "execution_count": 34,
      "outputs": [
        {
          "output_type": "stream",
          "name": "stdout",
          "text": [
            "Evaluation \t Proposed point \t  Current eval. \t Best eval.\n",
            "init   \t [ 1.25533007 10.8048674 ]. \t  -56.52874004692151 \t -27.68166689936483\n",
            "init   \t [-4.99828438  4.53498859]. \t  -172.66531086516164 \t -27.68166689936483\n",
            "init   \t [-2.79866164  1.38507892]. \t  -102.58290348816024 \t -27.68166689936483\n",
            "init   \t [-2.20609683  5.18341091]. \t  -28.868064601155666 \t -27.68166689936483\n",
            "init   \t [0.95151211 8.08225101]. \t  -27.68166689936483 \t -27.68166689936483\n",
            "1      \t [8.41909995 1.27566317]. \t  \u001b[92m-5.089934878453152\u001b[0m \t -5.089934878453152\n",
            "2      \t [ 8.98893195 10.45227242]. \t  -70.52424256621515 \t -5.089934878453152\n",
            "3      \t [3.1784986 0.       ]. \t  -5.450714203742865 \t -5.089934878453152\n",
            "4      \t [-4.67712792 14.21955317]. \t  -13.865244792739254 \t -5.089934878453152\n",
            "5      \t [ 5.30676004 15.        ]. \t  -206.03558952485747 \t -5.089934878453152\n",
            "6      \t [5.6509709  6.05693568]. \t  -42.00603936853098 \t -5.089934878453152\n",
            "7      \t [-3.81418147  9.6732151 ]. \t  -20.778570204409355 \t -5.089934878453152\n",
            "8      \t [10. 15.]. \t  -145.87219087939556 \t -5.089934878453152\n",
            "9      \t [-0.28894486 15.        ]. \t  -91.9537747291844 \t -5.089934878453152\n",
            "10     \t [10.          5.29237281]. \t  -7.18456719951715 \t -5.089934878453152\n",
            "11     \t [2.19337067 3.45287133]. \t  \u001b[92m-4.5045728151261155\u001b[0m \t -4.5045728151261155\n",
            "12     \t [5.42675726 2.23126487]. \t  -17.42234372828822 \t -4.5045728151261155\n",
            "13     \t [5.13257302 9.83709993]. \t  -87.923363463295 \t -4.5045728151261155\n",
            "14     \t [0.64301419 0.49016326]. \t  -38.294836282615066 \t -4.5045728151261155\n",
            "15     \t [8.24298487 3.59982364]. \t  -10.126761992549532 \t -4.5045728151261155\n",
            "16     \t [1.88683678 5.43189266]. \t  -10.916116630836923 \t -4.5045728151261155\n",
            "17     \t [-1.50798545 10.24937492]. \t  -13.022529101464404 \t -4.5045728151261155\n",
            "18     \t [8.88202855 7.16672204]. \t  -27.90509748368775 \t -4.5045728151261155\n",
            "19     \t [-2.31211909 12.39801829]. \t  -7.627035872635861 \t -4.5045728151261155\n",
            "20     \t [-0.10633456  3.82570689]. \t  -25.046858525771672 \t -4.5045728151261155\n"
          ]
        }
      ]
    },
    {
      "cell_type": "code",
      "metadata": {
        "id": "-ilCPSAu9SAg",
        "colab": {
          "base_uri": "https://localhost:8080/"
        },
        "outputId": "0258d60f-0ac5-4792-c30a-84e3bd9b665a"
      },
      "source": [
        "### EXACT GP EI GRADIENTS\n",
        "\n",
        "np.random.seed(run_num_2)\n",
        "surrogate_exact_2 = dGaussianProcess(cov_func, optimize=opt)\n",
        "\n",
        "exact_2 = dGPGO(surrogate_exact_2, Acquisition_new(util_grad_exact), objfunc, param)\n",
        "exact_2.run(init_evals=n_init, max_iter=iters)\n"
      ],
      "execution_count": 35,
      "outputs": [
        {
          "output_type": "stream",
          "name": "stdout",
          "text": [
            "Evaluation \t Proposed point \t  Current eval. \t Best eval.\n",
            "init   \t [1.53992353 0.38889348]. \t  -22.31361308916297 \t -6.692051508754487\n",
            "init   \t [3.24493717 6.52983589]. \t  -19.233109967858276 \t -6.692051508754487\n",
            "init   \t [1.30551703 4.95502232]. \t  -13.177851563387286 \t -6.692051508754487\n",
            "init   \t [-1.93027049  9.2890645 ]. \t  -6.692051508754487 \t -6.692051508754487\n",
            "init   \t [-0.50517989  4.00240913]. \t  -26.437522758780958 \t -6.692051508754487\n",
            "1      \t [ 9.5587047  12.00387527]. \t  -89.09951357262268 \t -6.692051508754487\n",
            "2      \t [9.59366035 1.69164323]. \t  \u001b[92m-1.3984593420568778\u001b[0m \t -1.3984593420568778\n",
            "3      \t [ 3.24245232 12.67669673]. \t  -110.25694222671481 \t -1.3984593420568778\n",
            "4      \t [-5.          0.47652372]. \t  -291.97580167368676 \t -1.3984593420568778\n",
            "5      \t [9.02917984 6.38725122]. \t  -18.99628463361546 \t -1.3984593420568778\n",
            "6      \t [-3.95507934 14.02731525]. \t  -3.4866936150466845 \t -1.3984593420568778\n",
            "7      \t [6.11121402 0.        ]. \t  -20.666840236774757 \t -1.3984593420568778\n",
            "8      \t [-0.53518615 15.        ]. \t  -84.0514267360241 \t -1.3984593420568778\n",
            "9      \t [-5.         5.9468696]. \t  -139.0723780042998 \t -1.3984593420568778\n",
            "10     \t [ 6.76609444 15.        ]. \t  -210.45133046784238 \t -1.3984593420568778\n",
            "11     \t [6.15066039 9.24517374]. \t  -85.89353371388567 \t -1.3984593420568778\n",
            "12     \t [6.26654663 3.75224143]. \t  -26.637788043362843 \t -1.3984593420568778\n",
            "13     \t [10.          3.46971226]. \t  -2.1610015012252557 \t -1.3984593420568778\n",
            "14     \t [-5.         10.68349678]. \t  -55.02399145829572 \t -1.3984593420568778\n",
            "15     \t [-1.05743169 11.63035107]. \t  -29.17810911637759 \t -1.3984593420568778\n",
            "16     \t [1.14276169 9.20729766]. \t  -37.57959383597907 \t -1.3984593420568778\n",
            "17     \t [3.29061963 2.88248012]. \t  \u001b[92m-1.023914510905401\u001b[0m \t -1.023914510905401\n",
            "18     \t [-1.52707094  6.9978374 ]. \t  -13.425863635022173 \t -1.023914510905401\n",
            "19     \t [-1.42856749  1.19510368]. \t  -65.26859455629202 \t -1.023914510905401\n",
            "20     \t [10.          8.81339013]. \t  -35.70427836394815 \t -1.023914510905401\n"
          ]
        }
      ]
    },
    {
      "cell_type": "code",
      "metadata": {
        "id": "XieJ158mIvlP",
        "colab": {
          "base_uri": "https://localhost:8080/"
        },
        "outputId": "52399f97-9920-4de8-f6cb-5bb717253468"
      },
      "source": [
        "### EXACT GP EI GRADIENTS\n",
        "\n",
        "np.random.seed(run_num_3)\n",
        "surrogate_exact_3 = dGaussianProcess(cov_func, optimize=opt)\n",
        "\n",
        "exact_3 = dGPGO(surrogate_exact_3, Acquisition_new(util_grad_exact), objfunc, param)\n",
        "exact_3.run(init_evals=n_init, max_iter=iters)\n"
      ],
      "execution_count": 36,
      "outputs": [
        {
          "output_type": "stream",
          "name": "stdout",
          "text": [
            "Evaluation \t Proposed point \t  Current eval. \t Best eval.\n",
            "init   \t [ 3.26196854 10.62221734]. \t  -71.68783452098575 \t -18.07886746449891\n",
            "init   \t [-0.63642892  7.66241408]. \t  -18.07886746449891 \t -18.07886746449891\n",
            "init   \t [ 8.39420432 13.44439633]. \t  -141.98653529865882 \t -18.07886746449891\n",
            "init   \t [-3.11622034  3.10864317]. \t  -83.31045707266176 \t -18.07886746449891\n",
            "init   \t [-4.22799195  6.61214765]. \t  -76.5294170688398 \t -18.07886746449891\n",
            "1      \t [6.70472147 4.59545299]. \t  -30.726791812855225 \t -18.07886746449891\n",
            "2      \t [-3.89564496 13.38589781]. \t  \u001b[92m-3.6010193697779265\u001b[0m \t -3.6010193697779265\n",
            "3      \t [ 0.53511805 15.        ]. \t  -114.58765716763767 \t -3.6010193697779265\n",
            "4      \t [3.11133413 0.        ]. \t  -5.686376470456184 \t -3.6010193697779265\n",
            "5      \t [9.70346787 8.50929412]. \t  -34.28297118578492 \t -3.6010193697779265\n",
            "6      \t [9.9367654  0.73581581]. \t  -6.490812722618764 \t -3.6010193697779265\n",
            "7      \t [-0.6195202  11.33294215]. \t  -36.28496106529289 \t -3.6010193697779265\n",
            "8      \t [1.56074043 4.20064923]. \t  -10.233428734977782 \t -3.6010193697779265\n",
            "9      \t [-2.53287617  0.2265116 ]. \t  -115.19315667597515 \t -3.6010193697779265\n",
            "10     \t [6.54561084 0.        ]. \t  -20.52161785545228 \t -3.6010193697779265\n",
            "11     \t [6.0458577  8.12119653]. \t  -68.63406939804882 \t -3.6010193697779265\n",
            "12     \t [ 4.68107407 14.96625596]. \t  -194.2697094197977 \t -3.6010193697779265\n",
            "13     \t [-5.         10.50373468]. \t  -57.39460205302869 \t -3.6010193697779265\n",
            "14     \t [2.43309701 7.10720069]. \t  -20.47348795811149 \t -3.6010193697779265\n",
            "15     \t [10.          4.55181794]. \t  -4.342112083281274 \t -3.6010193697779265\n",
            "16     \t [0.9476583  1.34257093]. \t  -26.26518556397516 \t -3.6010193697779265\n",
            "17     \t [3.89175399 3.17224744]. \t  -4.9621850236122365 \t -3.6010193697779265\n",
            "18     \t [8.48415476 2.47485514]. \t  -4.802652555865299 \t -3.6010193697779265\n",
            "19     \t [4.7187222  1.72006089]. \t  -10.185897482463792 \t -3.6010193697779265\n",
            "20     \t [-0.75272331  5.17702483]. \t  -21.393441640847428 \t -3.6010193697779265\n"
          ]
        }
      ]
    },
    {
      "cell_type": "code",
      "metadata": {
        "id": "PhLBVOIfIvol",
        "colab": {
          "base_uri": "https://localhost:8080/"
        },
        "outputId": "e82ffcbb-8505-4628-91f7-bc86e99bd7ab"
      },
      "source": [
        "### EXACT GP EI GRADIENTS\n",
        "\n",
        "np.random.seed(run_num_4)\n",
        "surrogate_exact_4 = dGaussianProcess(cov_func, optimize=opt)\n",
        "\n",
        "exact_4 = dGPGO(surrogate_exact_4, Acquisition_new(util_grad_exact), objfunc, param)\n",
        "exact_4.run(init_evals=n_init, max_iter=iters)\n"
      ],
      "execution_count": 37,
      "outputs": [
        {
          "output_type": "stream",
          "name": "stdout",
          "text": [
            "Evaluation \t Proposed point \t  Current eval. \t Best eval.\n",
            "init   \t [9.50544759 8.20848374]. \t  -32.51676744781521 \t -7.247126865776948\n",
            "init   \t [ 9.5902654  10.72223991]. \t  -66.20566674364716 \t -7.247126865776948\n",
            "init   \t [5.46593237 3.24134243]. \t  -20.90089401680587 \t -7.247126865776948\n",
            "init   \t [9.64411682 0.09345383]. \t  -7.247126865776948 \t -7.247126865776948\n",
            "init   \t [-1.20526456  6.52187299]. \t  -15.941376982363263 \t -7.247126865776948\n",
            "1      \t [-5.  0.]. \t  -308.12909601160663 \t -7.247126865776948\n",
            "2      \t [ 1.1294018  14.15696259]. \t  -109.93986979623045 \t -7.247126865776948\n",
            "3      \t [1.01107069 0.        ]. \t  -35.554826707809156 \t -7.247126865776948\n",
            "4      \t [3.23218268 8.99706827]. \t  -46.56384602934775 \t -7.247126865776948\n",
            "5      \t [-4.71931664 12.72607102]. \t  -23.47782987479111 \t -7.247126865776948\n",
            "6      \t [ 6.54237273 15.        ]. \t  -212.02106071743896 \t -7.247126865776948\n",
            "7      \t [-5.          4.97123958]. \t  -161.95735144063008 \t -7.247126865776948\n",
            "8      \t [9.02535081 4.41775622]. \t  \u001b[92m-6.257130409697806\u001b[0m \t -6.257130409697806\n",
            "9      \t [-1.66747037 10.74580077]. \t  -12.07558309256168 \t -6.257130409697806\n",
            "10     \t [-1.14870967  2.88992831]. \t  -40.03311016175259 \t -6.257130409697806\n",
            "11     \t [2.30621771 4.92833989]. \t  -7.212593938941011 \t -6.257130409697806\n",
            "12     \t [-4.78210044  9.01143995]. \t  -67.72817440816061 \t -6.257130409697806\n",
            "13     \t [4.98289101 0.        ]. \t  -14.1966391438109 \t -6.257130409697806\n",
            "14     \t [6.14503446 6.75154276]. \t  -51.47240275629184 \t -6.257130409697806\n",
            "15     \t [10. 15.]. \t  -145.87219087939556 \t -6.257130409697806\n",
            "16     \t [-2.31940994 14.86579944]. \t  -23.52937322780063 \t -6.257130409697806\n",
            "17     \t [ 5.97759725 11.05583517]. \t  -118.22938246513245 \t -6.257130409697806\n",
            "18     \t [2.81891202 2.33673074]. \t  \u001b[92m-0.9348218204625756\u001b[0m \t -0.9348218204625756\n",
            "19     \t [8.122305   1.74929378]. \t  -7.477989934904331 \t -0.9348218204625756\n",
            "20     \t [ 0.81186795 10.58999841]. \t  -50.21258205741843 \t -0.9348218204625756\n"
          ]
        }
      ]
    },
    {
      "cell_type": "code",
      "metadata": {
        "id": "arbiPyj2IvsJ",
        "colab": {
          "base_uri": "https://localhost:8080/"
        },
        "outputId": "a345a07e-bf11-43e6-a54e-d2768ee5d858"
      },
      "source": [
        "### EXACT GP EI GRADIENTS\n",
        "\n",
        "np.random.seed(run_num_5)\n",
        "surrogate_exact_5 = dGaussianProcess(cov_func, optimize=opt)\n",
        "\n",
        "exact_5 = dGPGO(surrogate_exact_5, Acquisition_new(util_grad_exact), objfunc, param)\n",
        "exact_5.run(init_evals=n_init, max_iter=iters)\n"
      ],
      "execution_count": 38,
      "outputs": [
        {
          "output_type": "stream",
          "name": "stdout",
          "text": [
            "Evaluation \t Proposed point \t  Current eval. \t Best eval.\n",
            "init   \t [-1.67010243 13.06098459]. \t  -25.390690545664548 \t -25.311309190989615\n",
            "init   \t [-1.89921267 13.77916362]. \t  -25.311309190989615 \t -25.311309190989615\n",
            "init   \t [2.32616783 9.17615794]. \t  -41.60147975414021 \t -25.311309190989615\n",
            "init   \t [6.48861785 7.77626982]. \t  -63.81281921768236 \t -25.311309190989615\n",
            "init   \t [-0.54799248  2.81581843]. \t  -34.966203644931994 \t -25.311309190989615\n",
            "1      \t [8.84124421 0.03321319]. \t  \u001b[92m-5.96108856337545\u001b[0m \t -5.96108856337545\n",
            "2      \t [ 8.39476442 14.47736321]. \t  -167.21523769473345 \t -5.96108856337545\n",
            "3      \t [-5.          8.10986515]. \t  -95.12466680670255 \t -5.96108856337545\n",
            "4      \t [-5.  0.]. \t  -308.12909601160663 \t -5.96108856337545\n",
            "5      \t [4.68041959 2.64376529]. \t  -11.288061329654056 \t -5.96108856337545\n",
            "6      \t [ 3.07485242 14.94793353]. \t  -159.691492009622 \t -5.96108856337545\n",
            "7      \t [10.          4.34286402]. \t  \u001b[92m-3.738492541321369\u001b[0m \t -3.738492541321369\n",
            "8      \t [10.         10.27581248]. \t  -54.837573290698984 \t -3.738492541321369\n",
            "9      \t [-1.03519792  6.99126788]. \t  -15.53210397903009 \t -3.738492541321369\n",
            "10     \t [-4.87522279  4.21394897]. \t  -170.71102908806404 \t -3.738492541321369\n",
            "11     \t [2.06982231 0.        ]. \t  -16.027247417193028 \t -3.738492541321369\n",
            "12     \t [-5.         12.15297558]. \t  -38.06878161278433 \t -3.738492541321369\n",
            "13     \t [2.33452895 5.41477519]. \t  -9.245580061831351 \t -3.738492541321369\n",
            "14     \t [6.54425406 4.56515632]. \t  -31.16573156949695 \t -3.738492541321369\n",
            "15     \t [ 6.6657743  11.06795891]. \t  -117.64930528535571 \t -3.738492541321369\n",
            "16     \t [-0.74857815  9.80931008]. \t  -23.51472972870186 \t -3.738492541321369\n",
            "17     \t [10.          6.77140164]. \t  -16.144318607649453 \t -3.738492541321369\n",
            "18     \t [-1.19292359e+00 -4.44089210e-16]. \t  -78.86839901179698 \t -3.738492541321369\n",
            "19     \t [9.35759935 2.37003592]. \t  \u001b[92m-0.4219355150323274\u001b[0m \t -0.4219355150323274\n",
            "20     \t [10.          2.09532251]. \t  -2.7669403081997537 \t -0.4219355150323274\n"
          ]
        }
      ]
    },
    {
      "cell_type": "code",
      "metadata": {
        "id": "04KJCEm_Ivvf",
        "colab": {
          "base_uri": "https://localhost:8080/"
        },
        "outputId": "c1a75c1e-a4f4-4593-f6ac-6a2327ecd746"
      },
      "source": [
        "### EXACT GP EI GRADIENTS\n",
        "\n",
        "np.random.seed(run_num_6)\n",
        "surrogate_exact_6 = dGaussianProcess(cov_func, optimize=opt)\n",
        "\n",
        "exact_6 = dGPGO(surrogate_exact_6, Acquisition_new(util_grad_exact), objfunc, param)\n",
        "exact_6.run(init_evals=n_init, max_iter=iters)\n"
      ],
      "execution_count": 39,
      "outputs": [
        {
          "output_type": "stream",
          "name": "stdout",
          "text": [
            "Evaluation \t Proposed point \t  Current eval. \t Best eval.\n",
            "init   \t [8.39290227 4.97969708]. \t  -15.553860636684597 \t -15.31731051317483\n",
            "init   \t [7.31843685 0.62544939]. \t  -15.31731051317483 \t -15.31731051317483\n",
            "init   \t [-3.3851498   8.92578096]. \t  -16.222288919361837 \t -15.31731051317483\n",
            "init   \t [2.94726043 6.28211143]. \t  -15.406373581304088 \t -15.31731051317483\n",
            "init   \t [0.03111774 9.33779148]. \t  -31.07053245856209 \t -15.31731051317483\n",
            "1      \t [10. 15.]. \t  -145.87219087939556 \t -15.31731051317483\n",
            "2      \t [-2.67838097  0.        ]. \t  -126.61486786700603 \t -15.31731051317483\n",
            "3      \t [ 4.34724927 14.59608757]. \t  -177.48889452505895 \t -15.31731051317483\n",
            "4      \t [-1.30746846 14.41632538]. \t  -49.88755953556025 \t -15.31731051317483\n",
            "5      \t [8.13676748 9.89528697]. \t  -76.08522805324013 \t -15.31731051317483\n",
            "6      \t [-5.          4.50612463]. \t  -173.5374838335397 \t -15.31731051317483\n",
            "7      \t [2.56065162 0.        ]. \t  \u001b[92m-9.65519629652383\u001b[0m \t -9.65519629652383\n",
            "8      \t [-0.66310856  5.01981229]. \t  -21.945235150727513 \t -9.65519629652383\n",
            "9      \t [5.57672442 8.22374038]. \t  -67.45521325732554 \t -9.65519629652383\n",
            "10     \t [ 2.57858737 10.78885036]. \t  -66.42246717742763 \t -9.65519629652383\n",
            "11     \t [4.01838623 3.109153  ]. \t  \u001b[92m-5.8707753053599525\u001b[0m \t -5.8707753053599525\n",
            "12     \t [0.76964182 2.13524094]. \t  -24.27445534155664 \t -5.8707753053599525\n",
            "13     \t [-2.56821911  2.76697537]. \t  -68.723923717193 \t -5.8707753053599525\n",
            "14     \t [-4.03058418 11.96242146]. \t  -10.457075214936474 \t -5.8707753053599525\n",
            "15     \t [5.82202902 4.35979872]. \t  -29.14210201193086 \t -5.8707753053599525\n",
            "16     \t [9.74808686 2.70911453]. \t  \u001b[92m-0.8980941405116969\u001b[0m \t -0.8980941405116969\n",
            "17     \t [4.83378942 0.02907464]. \t  -12.84290596542078 \t -0.8980941405116969\n",
            "18     \t [-1.91153387 11.57867671]. \t  -11.052646699008864 \t -0.8980941405116969\n",
            "19     \t [10.          7.31804751]. \t  -20.56315013935938 \t -0.8980941405116969\n",
            "20     \t [9.36820249 2.52376143]. \t  \u001b[92m-0.4224799519968645\u001b[0m \t -0.4224799519968645\n"
          ]
        }
      ]
    },
    {
      "cell_type": "code",
      "metadata": {
        "id": "tAOkme3CIvyO",
        "colab": {
          "base_uri": "https://localhost:8080/"
        },
        "outputId": "43e77c8d-625a-45ce-e9d5-73cd33cd40d0"
      },
      "source": [
        "### EXACT GP EI GRADIENTS\n",
        "\n",
        "np.random.seed(run_num_7)\n",
        "surrogate_exact_7 = dGaussianProcess(cov_func, optimize=opt)\n",
        "\n",
        "exact_7 = dGPGO(surrogate_exact_7, Acquisition_new(util_grad_exact), objfunc, param)\n",
        "exact_7.run(init_evals=n_init, max_iter=iters)\n"
      ],
      "execution_count": 40,
      "outputs": [
        {
          "output_type": "stream",
          "name": "stdout",
          "text": [
            "Evaluation \t Proposed point \t  Current eval. \t Best eval.\n",
            "init   \t [-3.85537566 11.69878188]. \t  -8.299317850233932 \t -5.211335324193094\n",
            "init   \t [ 1.57613847 10.85197767]. \t  -59.50408380701259 \t -5.211335324193094\n",
            "init   \t [9.66984268 8.07743806]. \t  -29.714921414987273 \t -5.211335324193094\n",
            "init   \t [2.51680695 1.080767  ]. \t  -5.211335324193094 \t -5.211335324193094\n",
            "init   \t [-0.9734153   7.49823751]. \t  -15.431057204948033 \t -5.211335324193094\n",
            "1      \t [-4.97859679  1.38393519]. \t  -260.3293952774437 \t -5.211335324193094\n",
            "2      \t [ 7.80155495 14.72615764]. \t  -186.86153570538508 \t -5.211335324193094\n",
            "3      \t [8.08940775 0.35854539]. \t  -9.249625108410735 \t -5.211335324193094\n",
            "4      \t [-3.39684884  5.54228873]. \t  -54.79871094423047 \t -5.211335324193094\n",
            "5      \t [4.93717413 5.49891249]. \t  -29.845086555570777 \t -5.211335324193094\n",
            "6      \t [-0.76126859 15.        ]. \t  -76.4502145210903 \t -5.211335324193094\n",
            "7      \t [10.          3.83258422]. \t  \u001b[92m-2.6314226354824584\u001b[0m \t -2.6314226354824584\n",
            "8      \t [5.98744485 9.67721516]. \t  -92.72153836394546 \t -2.6314226354824584\n",
            "9      \t [-0.74275876  0.        ]. \t  -69.68488488234455 \t -2.6314226354824584\n",
            "10     \t [-4.7803007  14.79125203]. \t  -13.780473177305767 \t -2.6314226354824584\n",
            "11     \t [1.29699254 4.02585581]. \t  -12.61255510446585 \t -2.6314226354824584\n",
            "12     \t [ 3.4997838  14.59788967]. \t  -159.40599219063606 \t -2.6314226354824584\n",
            "13     \t [5.42061979 1.82772627]. \t  -16.680457566017523 \t -2.6314226354824584\n",
            "14     \t [2.28546468 7.23691143]. \t  -21.343444616260577 \t -2.6314226354824584\n",
            "15     \t [-5.          8.84822644]. \t  -82.26490279299715 \t -2.6314226354824584\n",
            "16     \t [7.93295813 5.63574992]. \t  -26.312797061803746 \t -2.6314226354824584\n",
            "17     \t [-1.3066426   3.23533842]. \t  -38.15930393978223 \t -2.6314226354824584\n",
            "18     \t [10.         11.71027185]. \t  -77.76047943156216 \t -2.6314226354824584\n",
            "19     \t [-1.59861314 11.39835452]. \t  -16.10322468119923 \t -2.6314226354824584\n",
            "20     \t [10.          1.97213027]. \t  -3.0057435884752888 \t -2.6314226354824584\n"
          ]
        }
      ]
    },
    {
      "cell_type": "code",
      "metadata": {
        "id": "69-J3EF4Iv1S",
        "colab": {
          "base_uri": "https://localhost:8080/"
        },
        "outputId": "67687d91-03e7-461e-8189-12e94be61162"
      },
      "source": [
        "### EXACT GP EI GRADIENTS\n",
        "\n",
        "np.random.seed(run_num_8)\n",
        "surrogate_exact_8 = dGaussianProcess(cov_func, optimize=opt)\n",
        "\n",
        "exact_8 = dGPGO(surrogate_exact_8, Acquisition_new(util_grad_exact), objfunc, param)\n",
        "exact_8.run(init_evals=n_init, max_iter=iters)\n"
      ],
      "execution_count": 41,
      "outputs": [
        {
          "output_type": "stream",
          "name": "stdout",
          "text": [
            "Evaluation \t Proposed point \t  Current eval. \t Best eval.\n",
            "init   \t [ 8.10144104 14.52810994]. \t  -175.17297136347514 \t -15.416245468470875\n",
            "init   \t [8.0379181  7.96283537]. \t  -49.32173799887473 \t -15.416245468470875\n",
            "init   \t [-1.50907508  0.17098206]. \t  -83.26753461673219 \t -15.416245468470875\n",
            "init   \t [1.45703227 6.0352704 ]. \t  -15.416245468470875 \t -15.416245468470875\n",
            "init   \t [2.84012007 7.17587694]. \t  -22.49093277852639 \t -15.416245468470875\n",
            "1      \t [9.77124156 0.43098073]. \t  \u001b[92m-6.499298445992174\u001b[0m \t -6.499298445992174\n",
            "2      \t [-4.87537438 11.82874897]. \t  -36.57081146531108 \t -6.499298445992174\n",
            "3      \t [-0.06146391 15.        ]. \t  -98.82405002647226 \t -6.499298445992174\n",
            "4      \t [4.4595038 0.8533709]. \t  -7.979766606771776 \t -6.499298445992174\n",
            "5      \t [-5.         6.0933586]. \t  -135.8006206439647 \t -6.499298445992174\n",
            "6      \t [-0.59967171 10.08537949]. \t  -27.44098877528088 \t -6.499298445992174\n",
            "7      \t [ 3.81402265 11.86667675]. \t  -103.64479606779845 \t -6.499298445992174\n",
            "8      \t [7.40395628 3.60928367]. \t  -19.51908227657733 \t -6.499298445992174\n",
            "9      \t [1.15423972 2.8903799 ]. \t  -15.972303814139973 \t -6.499298445992174\n",
            "10     \t [-5.          1.23092166]. \t  -267.3316770126032 \t -6.499298445992174\n",
            "11     \t [ 9.90288513 11.22122281]. \t  -70.58720754528233 \t -6.499298445992174\n",
            "12     \t [-1.45457497  5.37896212]. \t  -21.413662906957086 \t -6.499298445992174\n",
            "13     \t [4.34653766 3.81561406]. \t  -11.821552398433539 \t -6.499298445992174\n",
            "14     \t [-3.66780073 14.9794794 ]. \t  \u001b[92m-3.6683923541112007\u001b[0m \t -3.6683923541112007\n",
            "15     \t [6.91978505 0.04950909]. \t  -18.982638453333138 \t -3.6683923541112007\n",
            "16     \t [1.72732673 0.30556438]. \t  -19.597017204356938 \t -3.6683923541112007\n",
            "17     \t [10.          5.72155442]. \t  -9.333914725747054 \t -3.6683923541112007\n",
            "18     \t [ 4.67524484 15.        ]. \t  -195.0709927952468 \t -3.6683923541112007\n",
            "19     \t [5.38118115 6.48194151]. \t  -44.10251360402263 \t -3.6683923541112007\n",
            "20     \t [-3.50403068  9.20597036]. \t  -16.679732919187693 \t -3.6683923541112007\n"
          ]
        }
      ]
    },
    {
      "cell_type": "code",
      "metadata": {
        "id": "vonm9jyuIv4t",
        "colab": {
          "base_uri": "https://localhost:8080/"
        },
        "outputId": "7f24896d-86ea-4aa4-d20c-d50a08392d74"
      },
      "source": [
        "### EXACT GP EI GRADIENTS\n",
        "\n",
        "np.random.seed(run_num_9)\n",
        "surrogate_exact_9 = dGaussianProcess(cov_func, optimize=opt)\n",
        "\n",
        "exact_9 = dGPGO(surrogate_exact_9, Acquisition_new(util_grad_exact), objfunc, param)\n",
        "exact_9.run(init_evals=n_init, max_iter=iters)\n"
      ],
      "execution_count": 42,
      "outputs": [
        {
          "output_type": "stream",
          "name": "stdout",
          "text": [
            "Evaluation \t Proposed point \t  Current eval. \t Best eval.\n",
            "init   \t [-4.84438769  7.52811888]. \t  -96.15564306553264 \t -3.4640248583909496\n",
            "init   \t [2.4365994  2.00744293]. \t  -3.4640248583909496 \t -3.4640248583909496\n",
            "init   \t [-2.86833372  3.27838013]. \t  -70.46930174488207 \t -3.4640248583909496\n",
            "init   \t [1.27762271 3.72151753]. \t  -12.982825924833865 \t -3.4640248583909496\n",
            "init   \t [-3.73910523  5.1824796 ]. \t  -75.58547400560856 \t -3.4640248583909496\n",
            "1      \t [ 7.05609655 14.75038872]. \t  -200.4388688685465 \t -3.4640248583909496\n",
            "2      \t [-0.46054038 14.56197292]. \t  -79.4666617606301 \t -3.4640248583909496\n",
            "3      \t [8.28747407 1.2035024 ]. \t  -6.196385269800155 \t -3.4640248583909496\n",
            "4      \t [4.57208176 9.16642126]. \t  -68.60581850295517 \t -3.4640248583909496\n",
            "5      \t [10.          6.41094566]. \t  -13.557530071759565 \t -3.4640248583909496\n",
            "6      \t [5.8912128  4.49095395]. \t  -30.322494073443522 \t -3.4640248583909496\n",
            "7      \t [-0.25390999  9.35697333]. \t  -27.96452972544397 \t -3.4640248583909496\n",
            "8      \t [-0.32407797  0.        ]. \t  -61.73473466093925 \t -3.4640248583909496\n",
            "9      \t [10.         10.78990116]. \t  -62.579646216349154 \t -3.4640248583909496\n",
            "10     \t [4.90384189 0.        ]. \t  -13.522031488272358 \t -3.4640248583909496\n",
            "11     \t [-5.         12.65482981]. \t  -33.267585144709244 \t -3.4640248583909496\n",
            "12     \t [-5.  0.]. \t  -308.12909601160663 \t -3.4640248583909496\n",
            "13     \t [ 3.16990412 14.74787517]. \t  -156.52302650660098 \t -3.4640248583909496\n",
            "14     \t [9.14851126 3.71728919]. \t  \u001b[92m-2.909586327372441\u001b[0m \t -2.909586327372441\n",
            "15     \t [0.59112688 6.42226502]. \t  -19.709704572558344 \t -2.909586327372441\n",
            "16     \t [ 2.10212761 11.29185157]. \t  -70.205353478914 \t -2.909586327372441\n",
            "17     \t [-2.31649307 11.64126192]. \t  -5.075814329907596 \t -2.909586327372441\n",
            "18     \t [7.43570493 9.37338964]. \t  -78.94621114259286 \t -2.909586327372441\n",
            "19     \t [-3.69570719 15.        ]. \t  -3.667091562175994 \t -2.909586327372441\n",
            "20     \t [3.36686089 5.99688546]. \t  -15.78043073149885 \t -2.909586327372441\n"
          ]
        }
      ]
    },
    {
      "cell_type": "code",
      "metadata": {
        "id": "6amuYlUdIv7r",
        "colab": {
          "base_uri": "https://localhost:8080/"
        },
        "outputId": "12624deb-fa68-4cdc-f54d-b7cccb79e948"
      },
      "source": [
        "### EXACT GP EI GRADIENTS\n",
        "\n",
        "np.random.seed(run_num_10)\n",
        "surrogate_exact_10 = dGaussianProcess(cov_func, optimize=opt)\n",
        "\n",
        "exact_10 = dGPGO(surrogate_exact_10, Acquisition_new(util_grad_exact), objfunc, param)\n",
        "exact_10.run(init_evals=n_init, max_iter=iters)\n"
      ],
      "execution_count": 43,
      "outputs": [
        {
          "output_type": "stream",
          "name": "stdout",
          "text": [
            "Evaluation \t Proposed point \t  Current eval. \t Best eval.\n",
            "init   \t [6.56980965 0.31127924]. \t  -19.863985024602144 \t -2.710610964564512\n",
            "init   \t [ 4.50472352 11.23205824]. \t  -103.66999147252169 \t -2.710610964564512\n",
            "init   \t [2.47760518 3.37194968]. \t  -2.710610964564512 \t -2.710610964564512\n",
            "init   \t [-2.02905703 11.40796068]. \t  -8.463930835255017 \t -2.710610964564512\n",
            "init   \t [-2.46333745  1.32509721]. \t  -90.49481266026973 \t -2.710610964564512\n",
            "1      \t [ 9.16391068 14.81438212]. \t  -158.2412724465548 \t -2.710610964564512\n",
            "2      \t [9.65621089 6.61160737]. \t  -16.1339423373336 \t -2.710610964564512\n",
            "3      \t [-3.43070383  6.59407857]. \t  -41.58407101130534 \t -2.710610964564512\n",
            "4      \t [ 0.96819077 15.        ]. \t  -124.01518097118615 \t -2.710610964564512\n",
            "5      \t [5.26562048 6.20098174]. \t  -40.041421370769115 \t -2.710610964564512\n",
            "6      \t [2.03162754 0.        ]. \t  -16.61852349651374 \t -2.710610964564512\n",
            "7      \t [1.01047236 7.61600466]. \t  -24.665569200327276 \t -2.710610964564512\n",
            "8      \t [-5.         10.18073998]. \t  -61.816478716264314 \t -2.710610964564512\n",
            "9      \t [10.         10.49394986]. \t  -58.05812065646236 \t -2.710610964564512\n",
            "10     \t [7.94022218 3.57703498]. \t  -13.456090850501369 \t -2.710610964564512\n",
            "11     \t [-0.11817124  4.32816224]. \t  -23.00113719866101 \t -2.710610964564512\n",
            "12     \t [-2.76256131 14.08230556]. \t  -8.367518954473718 \t -2.710610964564512\n",
            "13     \t [-5.          3.66717233]. \t  -195.51922766849032 \t -2.710610964564512\n",
            "14     \t [ 5.39036254 14.85363893]. \t  -203.13986116761663 \t -2.710610964564512\n",
            "15     \t [ 0.65134126 11.25312579]. \t  -56.511032224152025 \t -2.710610964564512\n",
            "16     \t [7.30050102 8.6136563 ]. \t  -69.03425206267065 \t -2.710610964564512\n",
            "17     \t [ 7.06178055 12.42927637]. \t  -142.86286661122296 \t -2.710610964564512\n",
            "18     \t [4.08863074 3.23652149]. \t  -6.901240281646288 \t -2.710610964564512\n",
            "19     \t [10.         2.8805344]. \t  \u001b[92m-1.9581278591454705\u001b[0m \t -1.9581278591454705\n",
            "20     \t [-1.76204959  9.0499708 ]. \t  -8.198923866002584 \t -1.9581278591454705\n"
          ]
        }
      ]
    },
    {
      "cell_type": "code",
      "metadata": {
        "id": "VwbLIP9cIv-F",
        "colab": {
          "base_uri": "https://localhost:8080/"
        },
        "outputId": "7a3706cf-2426-4aac-dff3-525d61a75a11"
      },
      "source": [
        "### EXACT GP EI GRADIENTS\n",
        "\n",
        "np.random.seed(run_num_11)\n",
        "surrogate_exact_11 = dGaussianProcess(cov_func, optimize=opt)\n",
        "\n",
        "exact_11 = dGPGO(surrogate_exact_11, Acquisition_new(util_grad_exact), objfunc, param)\n",
        "exact_11.run(init_evals=n_init, max_iter=iters)\n"
      ],
      "execution_count": 44,
      "outputs": [
        {
          "output_type": "stream",
          "name": "stdout",
          "text": [
            "Evaluation \t Proposed point \t  Current eval. \t Best eval.\n",
            "init   \t [-2.29595467  0.29212862]. \t  -104.49282729548965 \t -22.37435843952312\n",
            "init   \t [ 1.9482779  10.87400894]. \t  -62.47758067812407 \t -22.37435843952312\n",
            "init   \t [1.30305407 7.28140647]. \t  -22.37435843952312 \t -22.37435843952312\n",
            "init   \t [-4.80828778  7.31057411]. \t  -97.94503054415523 \t -22.37435843952312\n",
            "init   \t [ 9.12709979 12.76192634]. \t  -111.62900800771942 \t -22.37435843952312\n",
            "1      \t [6.94653631 0.95529646]. \t  \u001b[92m-17.615403152614682\u001b[0m \t -17.615403152614682\n",
            "2      \t [9.28738882 6.14578118]. \t  \u001b[92m-14.808790749874726\u001b[0m \t -14.808790749874726\n",
            "3      \t [2.54385739 0.04476512]. \t  \u001b[92m-9.58430283129102\u001b[0m \t -9.58430283129102\n",
            "4      \t [ 4.5404468 15.       ]. \t  -192.31539261559772 \t -9.58430283129102\n",
            "5      \t [-2.78845701 11.96288645]. \t  \u001b[92m-1.261270122146346\u001b[0m \t -1.261270122146346\n",
            "6      \t [4.99074378 5.05294312]. \t  -26.913905412040407 \t -1.261270122146346\n",
            "7      \t [-0.18504938 14.68733959]. \t  -89.80344285429105 \t -1.261270122146346\n",
            "8      \t [6.22553301 9.18063219]. \t  -84.90549659974 \t -1.261270122146346\n",
            "9      \t [0.35554859 3.60696505]. \t  -22.40001996002152 \t -1.261270122146346\n",
            "10     \t [-4.33882342  3.4184096 ]. \t  -148.55817480737318 \t -1.261270122146346\n",
            "11     \t [-5.         13.36925696]. \t  -27.301666173994345 \t -1.261270122146346\n",
            "12     \t [9.87581541 2.90868594]. \t  -1.3588692039538515 \t -1.261270122146346\n",
            "13     \t [-1.40843025  9.05859443]. \t  -11.866654408467827 \t -1.261270122146346\n",
            "14     \t [9.80212913 9.37818875]. \t  -44.19224505440228 \t -1.261270122146346\n",
            "15     \t [3.51214343 2.45099622]. \t  \u001b[92m-1.2496213180491065\u001b[0m \t -1.2496213180491065\n",
            "16     \t [8.08493466 3.57688428]. \t  -11.802669326369248 \t -1.2496213180491065\n",
            "17     \t [-1.62023538  6.14760061]. \t  -17.199562033506965 \t -1.2496213180491065\n",
            "18     \t [9.94473891 1.77829655]. \t  -3.0363492483142824 \t -1.2496213180491065\n",
            "19     \t [-3.72852255 10.59667687]. \t  -11.822787039400467 \t -1.2496213180491065\n",
            "20     \t [-1.64599982 11.83549341]. \t  -17.4913876578438 \t -1.2496213180491065\n"
          ]
        }
      ]
    },
    {
      "cell_type": "code",
      "metadata": {
        "id": "MlUNFjc-JTBY",
        "colab": {
          "base_uri": "https://localhost:8080/"
        },
        "outputId": "72ca933f-1bac-4571-960c-179975ecf32d"
      },
      "source": [
        "### EXACT GP EI GRADIENTS\n",
        "\n",
        "np.random.seed(run_num_12)\n",
        "surrogate_exact_12 = dGaussianProcess(cov_func, optimize=opt)\n",
        "\n",
        "exact_12 = dGPGO(surrogate_exact_12, Acquisition_new(util_grad_exact), objfunc, param)\n",
        "exact_12.run(init_evals=n_init, max_iter=iters)\n"
      ],
      "execution_count": 45,
      "outputs": [
        {
          "output_type": "stream",
          "name": "stdout",
          "text": [
            "Evaluation \t Proposed point \t  Current eval. \t Best eval.\n",
            "init   \t [-2.68755736 11.10074545]. \t  -1.3827702760021356 \t -0.5499315281120278\n",
            "init   \t [-1.05027477  8.0060909 ]. \t  -14.81231853080056 \t -0.5499315281120278\n",
            "init   \t [-4.78137556 13.78120512]. \t  -18.401131000214548 \t -0.5499315281120278\n",
            "init   \t [8.51072281 0.50132141]. \t  -5.855172364344769 \t -0.5499315281120278\n",
            "init   \t [9.35424004 2.05813982]. \t  -0.5499315281120278 \t -0.5499315281120278\n",
            "1      \t [10.         4.2917554]. \t  -3.6041429845943753 \t -0.5499315281120278\n",
            "2      \t [ 9.19833734 12.85785838]. \t  -112.3096138370831 \t -0.5499315281120278\n",
            "3      \t [-4.8799499   0.15657603]. \t  -290.0404981832191 \t -0.5499315281120278\n",
            "4      \t [2.31082274 1.96051811]. \t  -4.630930870254502 \t -0.5499315281120278\n",
            "5      \t [4.84411484 8.7761414 ]. \t  -66.82952699849903 \t -0.5499315281120278\n",
            "6      \t [ 2.01644576 13.63114238]. \t  -112.26327042119459 \t -0.5499315281120278\n",
            "7      \t [-5.          5.48610464]. \t  -149.6431304816835 \t -0.5499315281120278\n",
            "8      \t [9.91777015 8.21247811]. \t  -29.52785022340927 \t -0.5499315281120278\n",
            "9      \t [5.83605685 4.11212784]. \t  -27.661352282767346 \t -0.5499315281120278\n",
            "10     \t [-0.41259758  0.        ]. \t  -63.400843609434915 \t -0.5499315281120278\n",
            "11     \t [-5.          9.73650373]. \t  -68.23901363739967 \t -0.5499315281120278\n",
            "12     \t [ 5.81229962 15.        ]. \t  -211.38764072010517 \t -0.5499315281120278\n",
            "13     \t [1.70927602 5.55502955]. \t  -12.276945348915485 \t -0.5499315281120278\n",
            "14     \t [-1.25433527  3.80359406]. \t  -32.31300814999577 \t -0.5499315281120278\n",
            "15     \t [5.02410618 0.        ]. \t  -14.54441216730345 \t -0.5499315281120278\n",
            "16     \t [-1.64209086 15.        ]. \t  -45.775740647302655 \t -0.5499315281120278\n",
            "17     \t [1.54730283 9.54676263]. \t  -42.71653531011535 \t -0.5499315281120278\n",
            "18     \t [-1.28563115 11.40135005]. \t  -22.571394729638037 \t -0.5499315281120278\n",
            "19     \t [9.71853522 2.52537767]. \t  -0.8527132899758332 \t -0.5499315281120278\n",
            "20     \t [7.47692657 6.55484485]. \t  -40.917086051106075 \t -0.5499315281120278\n"
          ]
        }
      ]
    },
    {
      "cell_type": "code",
      "metadata": {
        "id": "9BsKdU9eJTFL",
        "colab": {
          "base_uri": "https://localhost:8080/"
        },
        "outputId": "da9e39db-5a49-4aca-f79e-bed7d9563eb0"
      },
      "source": [
        "### EXACT GP EI GRADIENTS\n",
        "\n",
        "np.random.seed(run_num_13)\n",
        "surrogate_exact_13 = dGaussianProcess(cov_func, optimize=opt)\n",
        "\n",
        "exact_13 = dGPGO(surrogate_exact_13, Acquisition_new(util_grad_exact), objfunc, param)\n",
        "exact_13.run(init_evals=n_init, max_iter=iters)\n"
      ],
      "execution_count": 46,
      "outputs": [
        {
          "output_type": "stream",
          "name": "stdout",
          "text": [
            "Evaluation \t Proposed point \t  Current eval. \t Best eval.\n",
            "init   \t [6.66553616 3.5631183 ]. \t  -24.823670200298267 \t -18.038943061558626\n",
            "init   \t [ 7.36417799 14.48623797]. \t  -188.7803334745195 \t -18.038943061558626\n",
            "init   \t [9.58901671 6.80173871]. \t  -18.038943061558626 \t -18.038943061558626\n",
            "init   \t [ 4.13563694 11.63289772]. \t  -104.87319703906111 \t -18.038943061558626\n",
            "init   \t [ 4.62420017 10.83027344]. \t  -98.03271225790056 \t -18.038943061558626\n",
            "1      \t [-5.  0.]. \t  -308.12909601160663 \t -18.038943061558626\n",
            "2      \t [-3.06562888 11.40851515]. \t  \u001b[92m-0.8943531028899869\u001b[0m \t -0.8943531028899869\n",
            "3      \t [-0.77721745  5.55115316]. \t  -19.956248293009427 \t -0.8943531028899869\n",
            "4      \t [-0.24948802 15.        ]. \t  -93.17689500314201 \t -0.8943531028899869\n",
            "5      \t [2.24297905 0.        ]. \t  -13.507883026233038 \t -0.8943531028899869\n",
            "6      \t [-5.          5.28665565]. \t  -154.35051756072187 \t -0.8943531028899869\n",
            "7      \t [3.49764332 6.24904563]. \t  -18.938212764908272 \t -0.8943531028899869\n",
            "8      \t [0.1330055  9.52209063]. \t  -33.441323493506054 \t -0.8943531028899869\n",
            "9      \t [10.         10.78922699]. \t  -62.56914709872043 \t -0.8943531028899869\n",
            "10     \t [-0.92831084  1.79465985]. \t  -49.3252768203909 \t -0.8943531028899869\n",
            "11     \t [10.          2.34599735]. \t  -2.374736122313256 \t -0.8943531028899869\n",
            "12     \t [6.27024657 0.        ]. \t  -20.810450559762344 \t -0.8943531028899869\n",
            "13     \t [-4.80002934  9.45928692]. \t  -62.05801658059319 \t -0.8943531028899869\n",
            "14     \t [-3.31431208 12.77757262]. \t  \u001b[92m-0.5477511752925164\u001b[0m \t -0.5477511752925164\n",
            "15     \t [-4.90448245 13.24427689]. \t  -25.29361738864955 \t -0.5477511752925164\n",
            "16     \t [2.99675887 3.0237469 ]. \t  -0.8992215639758072 \t -0.5477511752925164\n",
            "17     \t [6.54094574 7.54214436]. \t  -60.57009683036526 \t -0.5477511752925164\n",
            "18     \t [1.84963948 3.68095808]. \t  -7.390491087600587 \t -0.5477511752925164\n",
            "19     \t [3.72213456 2.83138554]. \t  -2.9034036119455893 \t -0.5477511752925164\n",
            "20     \t [-2.61803296 12.67726494]. \t  -4.32506607677613 \t -0.5477511752925164\n"
          ]
        }
      ]
    },
    {
      "cell_type": "code",
      "metadata": {
        "id": "k6GjFBr1JTJf",
        "colab": {
          "base_uri": "https://localhost:8080/"
        },
        "outputId": "be54e8fb-be26-4aed-bed9-91ca1ad91814"
      },
      "source": [
        "### EXACT GP EI GRADIENTS\n",
        "\n",
        "np.random.seed(run_num_14)\n",
        "surrogate_exact_14 = dGaussianProcess(cov_func, optimize=opt)\n",
        "\n",
        "exact_14 = dGPGO(surrogate_exact_14, Acquisition_new(util_grad_exact), objfunc, param)\n",
        "exact_14.run(init_evals=n_init, max_iter=iters)\n"
      ],
      "execution_count": 47,
      "outputs": [
        {
          "output_type": "stream",
          "name": "stdout",
          "text": [
            "Evaluation \t Proposed point \t  Current eval. \t Best eval.\n",
            "init   \t [ 2.70915016 11.59747578]. \t  -81.58264375064097 \t -1.4149920024014744\n",
            "init   \t [8.05641529 0.12070423]. \t  -10.148649076616518 \t -1.4149920024014744\n",
            "init   \t [-0.35396112 14.36405609]. \t  -79.6056658956529 \t -1.4149920024014744\n",
            "init   \t [2.69675068 4.77426637]. \t  -5.855607664288365 \t -1.4149920024014744\n",
            "init   \t [3.08799906 3.31882414]. \t  -1.4149920024014744 \t -1.4149920024014744\n",
            "1      \t [-4.22572169  4.73878507]. \t  -111.46482334173054 \t -1.4149920024014744\n",
            "2      \t [ 9.02510452 14.92575454]. \t  -164.15736583327134 \t -1.4149920024014744\n",
            "3      \t [8.4415984  6.61360555]. \t  -28.132050221972662 \t -1.4149920024014744\n",
            "4      \t [-0.6348753  0.       ]. \t  -67.61008168553134 \t -1.4149920024014744\n",
            "5      \t [-2.40015779  9.60941637]. \t  -3.829994402538114 \t -1.4149920024014744\n",
            "6      \t [ 7.23036704 10.62018868]. \t  -103.48188921884048 \t -1.4149920024014744\n",
            "7      \t [10.          3.08569949]. \t  -1.9499870470857505 \t -1.4149920024014744\n",
            "8      \t [-5.         13.12598231]. \t  -29.21854407846937 \t -1.4149920024014744\n",
            "9      \t [-5.  0.]. \t  -308.12909601160663 \t -1.4149920024014744\n",
            "10     \t [3.81718987 0.35764269]. \t  -4.608055435820541 \t -1.4149920024014744\n",
            "11     \t [ 4.73297197 15.        ]. \t  -196.2170449024405 \t -1.4149920024014744\n",
            "12     \t [5.86460467 3.7334441 ]. \t  -25.659208254997214 \t -1.4149920024014744\n",
            "13     \t [0.22924746 7.99065372]. \t  -24.867399656792003 \t -1.4149920024014744\n",
            "14     \t [4.16184    7.76735316]. \t  -42.84258223436466 \t -1.4149920024014744\n",
            "15     \t [-0.38900439  4.28274191]. \t  -24.435101215506208 \t -1.4149920024014744\n",
            "16     \t [-4.97973113  8.44579078]. \t  -87.93417808017067 \t -1.4149920024014744\n",
            "17     \t [5.5911543  0.04197834]. \t  -18.598460864623625 \t -1.4149920024014744\n",
            "18     \t [8.79961473 2.52422178]. \t  -2.490708828354843 \t -1.4149920024014744\n",
            "19     \t [2.66167425 1.27068607]. \t  -3.466025366598947 \t -1.4149920024014744\n",
            "20     \t [-1.50421271 11.24621613]. \t  -17.19189334033993 \t -1.4149920024014744\n"
          ]
        }
      ]
    },
    {
      "cell_type": "code",
      "metadata": {
        "id": "dPS8WB3aJTN6",
        "colab": {
          "base_uri": "https://localhost:8080/"
        },
        "outputId": "99130948-df4f-4dae-c2c9-d28d0ec351bd"
      },
      "source": [
        "### EXACT GP EI GRADIENTS\n",
        "\n",
        "np.random.seed(run_num_15)\n",
        "surrogate_exact_15 = dGaussianProcess(cov_func, optimize=opt)\n",
        "\n",
        "exact_15 = dGPGO(surrogate_exact_15, Acquisition_new(util_grad_exact), objfunc, param)\n",
        "exact_15.run(init_evals=n_init, max_iter=iters)\n"
      ],
      "execution_count": 48,
      "outputs": [
        {
          "output_type": "stream",
          "name": "stdout",
          "text": [
            "Evaluation \t Proposed point \t  Current eval. \t Best eval.\n",
            "init   \t [7.73226546 2.68343887]. \t  -12.768724532005583 \t -12.768724532005583\n",
            "init   \t [-4.18455179  5.42307669]. \t  -95.39334176626551 \t -12.768724532005583\n",
            "init   \t [-0.86898607  7.95000337]. \t  -16.419487782111716 \t -12.768724532005583\n",
            "init   \t [-0.41121626  4.56711539]. \t  -23.250362743740954 \t -12.768724532005583\n",
            "init   \t [-3.32388086  3.74848521]. \t  -80.99796277938532 \t -12.768724532005583\n",
            "1      \t [10. 15.]. \t  -145.87219087939556 \t -12.768724532005583\n",
            "2      \t [-4.77493765 13.49591113]. \t  -19.896906503438096 \t -12.768724532005583\n",
            "3      \t [ 3.80261319 11.96078244]. \t  -105.3381651976412 \t -12.768724532005583\n",
            "4      \t [8.63272613 8.32488519]. \t  -44.68998814179533 \t -12.768724532005583\n",
            "5      \t [2.63098807 0.01106722]. \t  \u001b[92m-8.890052611401075\u001b[0m \t -8.890052611401075\n",
            "6      \t [4.00168618 6.51255375]. \t  -26.89836857770154 \t -8.890052611401075\n",
            "7      \t [-1.40724858  0.        ]. \t  -83.73754499640035 \t -8.890052611401075\n",
            "8      \t [-0.25920208 15.        ]. \t  -92.87695097450188 \t -8.890052611401075\n",
            "9      \t [3.61319085 3.0311653 ]. \t  \u001b[92m-2.6455160649182297\u001b[0m \t -2.6455160649182297\n",
            "10     \t [-4.06847001  9.59158085]. \t  -29.455104978175402 \t -2.6455160649182297\n",
            "11     \t [-5.  0.]. \t  -308.12909601160663 \t -2.6455160649182297\n",
            "12     \t [-0.77793435 11.29116954]. \t  -32.63978577552093 \t -2.6455160649182297\n",
            "13     \t [ 7.29495093 12.4883381 ]. \t  -141.0683359800053 \t -2.6455160649182297\n",
            "14     \t [10.          4.91708611]. \t  -5.607032443023485 \t -2.6455160649182297\n",
            "15     \t [1.67894419 9.19851899]. \t  -39.28500108182503 \t -2.6455160649182297\n",
            "16     \t [7.66749604 5.14812308]. \t  -25.891592542318307 \t -2.6455160649182297\n",
            "17     \t [5.08330669 9.19463846]. \t  -76.63281136023649 \t -2.6455160649182297\n",
            "18     \t [5.4554963  0.60383109]. \t  -16.80831537683464 \t -2.6455160649182297\n",
            "19     \t [5.21169875 3.43601347]. \t  -19.534099670791015 \t -2.6455160649182297\n",
            "20     \t [ 5.68303817 15.        ]. \t  -210.372478234699 \t -2.6455160649182297\n"
          ]
        }
      ]
    },
    {
      "cell_type": "code",
      "metadata": {
        "id": "SHWdp2giJTRm",
        "colab": {
          "base_uri": "https://localhost:8080/"
        },
        "outputId": "5627ea8c-4ade-4f92-e3b3-b1e8b1cfd3b4"
      },
      "source": [
        "### EXACT GP EI GRADIENTS\n",
        "\n",
        "np.random.seed(run_num_16)\n",
        "surrogate_exact_16 = dGaussianProcess(cov_func, optimize=opt)\n",
        "\n",
        "exact_16 = dGPGO(surrogate_exact_16, Acquisition_new(util_grad_exact), objfunc, param)\n",
        "exact_16.run(init_evals=n_init, max_iter=iters)\n"
      ],
      "execution_count": 49,
      "outputs": [
        {
          "output_type": "stream",
          "name": "stdout",
          "text": [
            "Evaluation \t Proposed point \t  Current eval. \t Best eval.\n",
            "init   \t [-1.65063381  7.84745012]. \t  -10.514702126319445 \t -2.715864006988424\n",
            "init   \t [3.26052185 0.68402925]. \t  -2.715864006988424 \t -2.715864006988424\n",
            "init   \t [0.41093253 3.34621413]. \t  -22.889515127492515 \t -2.715864006988424\n",
            "init   \t [5.33089243 2.45597138]. \t  -17.178157611778595 \t -2.715864006988424\n",
            "init   \t [-3.945127  14.1151629]. \t  -3.3649224341694195 \t -2.715864006988424\n",
            "1      \t [ 5.63879248 14.58068289]. \t  -198.51319639462758 \t -2.715864006988424\n",
            "2      \t [-5.          0.76360453]. \t  -282.46349602408577 \t -2.715864006988424\n",
            "3      \t [6.4086727  8.01053377]. \t  -67.19879991173174 \t -2.715864006988424\n",
            "4      \t [ 1.37630907 11.42929673]. \t  -66.24718744041212 \t -2.715864006988424\n",
            "5      \t [-5.         10.21600199]. \t  -61.323587189474544 \t -2.715864006988424\n",
            "6      \t [10.         4.0174364]. \t  -2.972309920322127 \t -2.715864006988424\n",
            "7      \t [10.         11.64579395]. \t  -76.64177808742924 \t -2.715864006988424\n",
            "8      \t [2.37025999 6.80135031]. \t  -17.92225554495176 \t -2.715864006988424\n",
            "9      \t [8.62900177 0.84186346]. \t  -4.370397698747318 \t -2.715864006988424\n",
            "10     \t [-5.          5.57680421]. \t  -147.52875928398876 \t -2.715864006988424\n",
            "11     \t [-0.60075742  0.        ]. \t  -66.95949101399974 \t -2.715864006988424\n",
            "12     \t [-1.98556555 12.49323228]. \t  -14.104401720295524 \t -2.715864006988424\n",
            "13     \t [ 0.49808598 15.        ]. \t  -113.7062993358486 \t -2.715864006988424\n",
            "14     \t [10. 15.]. \t  -145.87219087939556 \t -2.715864006988424\n",
            "15     \t [6.02532716 4.94305188]. \t  -34.05076542395381 \t -2.715864006988424\n",
            "16     \t [10.         7.4930357]. \t  -22.103950953638588 \t -2.715864006988424\n",
            "17     \t [ 4.4639101  11.23526934]. \t  -103.00566630125668 \t -2.715864006988424\n",
            "18     \t [-2.33079398  3.50645045]. \t  -51.0629902381654 \t -2.715864006988424\n",
            "19     \t [8.79457482 2.76382139]. \t  -2.8339002481105933 \t -2.715864006988424\n",
            "20     \t [6.38103885 0.        ]. \t  -20.775770489177788 \t -2.715864006988424\n"
          ]
        }
      ]
    },
    {
      "cell_type": "code",
      "metadata": {
        "id": "yU2SflSsJTUs",
        "colab": {
          "base_uri": "https://localhost:8080/"
        },
        "outputId": "72024f14-d80e-4a77-c265-659a020276e2"
      },
      "source": [
        "### EXACT GP EI GRADIENTS\n",
        "\n",
        "np.random.seed(run_num_17)\n",
        "surrogate_exact_17 = dGaussianProcess(cov_func, optimize=opt)\n",
        "\n",
        "exact_17 = dGPGO(surrogate_exact_17, Acquisition_new(util_grad_exact), objfunc, param)\n",
        "exact_17.run(init_evals=n_init, max_iter=iters)\n"
      ],
      "execution_count": 50,
      "outputs": [
        {
          "output_type": "stream",
          "name": "stdout",
          "text": [
            "Evaluation \t Proposed point \t  Current eval. \t Best eval.\n",
            "init   \t [-0.58002496  7.95880133]. \t  -19.016141117164256 \t -19.016141117164256\n",
            "init   \t [-2.1271882   1.01850537]. \t  -85.05949339404415 \t -19.016141117164256\n",
            "init   \t [6.8047819  9.84500283]. \t  -93.89792695202516 \t -19.016141117164256\n",
            "init   \t [4.56281344 8.63404341]. \t  -60.50217141122736 \t -19.016141117164256\n",
            "init   \t [-4.41405626  5.36720407]. \t  -110.70834086593878 \t -19.016141117164256\n",
            "1      \t [9.76575296 0.98553483]. \t  \u001b[92m-4.1623278326263815\u001b[0m \t -4.1623278326263815\n",
            "2      \t [-0.36591853 14.49945231]. \t  -81.3728947682288 \t -4.1623278326263815\n",
            "3      \t [3.74599703 2.35814314]. \t  \u001b[92m-2.3563457989420957\u001b[0m \t -2.3563457989420957\n",
            "4      \t [10.         14.92965946]. \t  -144.18938157396997 \t -2.3563457989420957\n",
            "5      \t [9.39679852 5.53959908]. \t  -9.938002284241984 \t -2.3563457989420957\n",
            "6      \t [-5.         11.20259998]. \t  -48.54110731407094 \t -2.3563457989420957\n",
            "7      \t [ 4.76695041 15.        ]. \t  -196.88087701650386 \t -2.3563457989420957\n",
            "8      \t [6.73796408 3.08155542]. \t  -22.391137470039823 \t -2.3563457989420957\n",
            "9      \t [1.88309531 0.        ]. \t  -19.028680527610206 \t -2.3563457989420957\n",
            "10     \t [1.4730599  4.12354892]. \t  -10.972205983874654 \t -2.3563457989420957\n",
            "11     \t [5.44913328 0.01944045]. \t  -17.759923373023945 \t -2.3563457989420957\n",
            "12     \t [ 1.72118454 11.04222898]. \t  -63.304717439414084 \t -2.3563457989420957\n",
            "13     \t [-1.87389928 11.38287603]. \t  -10.924123007199459 \t -2.3563457989420957\n",
            "14     \t [10.          8.89995637]. \t  -36.717746921633136 \t -2.3563457989420957\n",
            "15     \t [4.71877166 4.95775684]. \t  -22.959360162541323 \t -2.3563457989420957\n",
            "16     \t [-3.69450067 14.17497786]. \t  \u001b[92m-2.1113137383659506\u001b[0m \t -2.1113137383659506\n",
            "17     \t [-5.  0.]. \t  -308.12909601160663 \t -2.1113137383659506\n",
            "18     \t [2.05472816 6.59507926]. \t  -16.55406520497304 \t -2.1113137383659506\n",
            "19     \t [-2.96612161  8.28123665]. \t  -13.333409701088424 \t -2.1113137383659506\n",
            "20     \t [9.9683401  3.23455468]. \t  \u001b[92m-1.8509281105180317\u001b[0m \t -1.8509281105180317\n"
          ]
        }
      ]
    },
    {
      "cell_type": "code",
      "metadata": {
        "id": "es0KCh_0JTgY",
        "colab": {
          "base_uri": "https://localhost:8080/"
        },
        "outputId": "ecd4c695-c940-4260-c2fc-483936bc1497"
      },
      "source": [
        "### EXACT GP EI GRADIENTS\n",
        "\n",
        "np.random.seed(run_num_18)\n",
        "surrogate_exact_18 = dGaussianProcess(cov_func, optimize=opt)\n",
        "\n",
        "exact_18 = dGPGO(surrogate_exact_18, Acquisition_new(util_grad_exact), objfunc, param)\n",
        "exact_18.run(init_evals=n_init, max_iter=iters)\n"
      ],
      "execution_count": 51,
      "outputs": [
        {
          "output_type": "stream",
          "name": "stdout",
          "text": [
            "Evaluation \t Proposed point \t  Current eval. \t Best eval.\n",
            "init   \t [4.75561363 7.58180061]. \t  -49.215059064668324 \t -8.150075223157177\n",
            "init   \t [8.17902206 2.72760338]. \t  -8.150075223157177 \t -8.150075223157177\n",
            "init   \t [ 7.78349603 11.25204429]. \t  -106.98107856533271 \t -8.150075223157177\n",
            "init   \t [ 4.99152501 14.81843172]. \t  -196.08601750690153 \t -8.150075223157177\n",
            "init   \t [-1.14547366  0.42458888]. \t  -71.23649635555944 \t -8.150075223157177\n",
            "1      \t [-4.83474958 11.77354131]. \t  -35.58412906267954 \t -8.150075223157177\n",
            "2      \t [-1.31027796  6.26018244]. \t  -16.663442406570503 \t -8.150075223157177\n",
            "3      \t [ 0.35908684 11.68414639]. \t  -57.914709887302045 \t -8.150075223157177\n",
            "4      \t [4.16866889 0.        ]. \t  \u001b[92m-7.625670656251107\u001b[0m \t -7.625670656251107\n",
            "5      \t [10. 15.]. \t  -145.87219087939556 \t -7.625670656251107\n",
            "6      \t [-5.          3.31100639]. \t  -205.2769425619101 \t -7.625670656251107\n",
            "7      \t [10.          6.83388238]. \t  -16.619132924123527 \t -7.625670656251107\n",
            "8      \t [1.91893934 4.15428297]. \t  \u001b[92m-7.261017619176221\u001b[0m \t -7.261017619176221\n",
            "9      \t [-1.9875475 15.       ]. \t  -34.483643171372364 \t -7.261017619176221\n",
            "10     \t [5.08711682 3.3237184 ]. \t  -17.828411169687136 \t -7.261017619176221\n",
            "11     \t [-5.          7.78764073]. \t  -101.0784764992863 \t -7.261017619176221\n",
            "12     \t [1.40949089 7.73434554]. \t  -25.3878099739932 \t -7.261017619176221\n",
            "13     \t [9.03261402 0.        ]. \t  \u001b[92m-5.810034234100352\u001b[0m \t -5.810034234100352\n",
            "14     \t [ 3.71765027 11.1657217 ]. \t  -88.38351459141174 \t -5.810034234100352\n",
            "15     \t [-1.82312565  9.65127719]. \t  -7.7053272566370445 \t -5.810034234100352\n",
            "16     \t [6.58523601 0.09222466]. \t  -20.22661345150619 \t -5.810034234100352\n",
            "17     \t [10.          4.06865332]. \t  \u001b[92m-3.0788501513184876\u001b[0m \t -3.0788501513184876\n",
            "18     \t [2.15483299 1.41554252]. \t  -7.784677226845595 \t -3.0788501513184876\n",
            "19     \t [-5.  0.]. \t  -308.12909601160663 \t -3.0788501513184876\n",
            "20     \t [ 1.27330014 15.        ]. \t  -129.82373438250374 \t -3.0788501513184876\n"
          ]
        }
      ]
    },
    {
      "cell_type": "code",
      "metadata": {
        "id": "Pput2LHPIwBM",
        "colab": {
          "base_uri": "https://localhost:8080/"
        },
        "outputId": "fb59a45a-9a80-4269-b78e-8a7e030793d4"
      },
      "source": [
        "### EXACT GP EI GRADIENTS\n",
        "\n",
        "np.random.seed(run_num_19)\n",
        "surrogate_exact_19 = dGaussianProcess(cov_func, optimize=opt)\n",
        "\n",
        "exact_19 = dGPGO(surrogate_exact_19, Acquisition_new(util_grad_exact), objfunc, param)\n",
        "exact_19.run(init_evals=n_init, max_iter=iters)\n"
      ],
      "execution_count": 52,
      "outputs": [
        {
          "output_type": "stream",
          "name": "stdout",
          "text": [
            "Evaluation \t Proposed point \t  Current eval. \t Best eval.\n",
            "init   \t [-3.53699597 11.41874575]. \t  -4.475608269502271 \t -4.475608269502271\n",
            "init   \t [-1.2959304   2.07197531]. \t  -51.13947793770689 \t -4.475608269502271\n",
            "init   \t [-0.02830155  1.24499348]. \t  -42.63973921760034 \t -4.475608269502271\n",
            "init   \t [ 5.07965622 12.09890697]. \t  -131.17235664506808 \t -4.475608269502271\n",
            "init   \t [9.74112872 9.53491102]. \t  -46.84458913925112 \t -4.475608269502271\n",
            "1      \t [9.57054653 2.03489665]. \t  \u001b[92m-0.8198597583535783\u001b[0m \t -0.8198597583535783\n",
            "2      \t [5.03077312 4.64729248]. \t  -24.460797393473307 \t -0.8198597583535783\n",
            "3      \t [0.20107266 7.62370777]. \t  -23.166447576365478 \t -0.8198597583535783\n",
            "4      \t [ 0.09562252 15.        ]. \t  -103.29917138491766 \t -0.8198597583535783\n",
            "5      \t [10. 15.]. \t  -145.87219087939556 \t -0.8198597583535783\n",
            "6      \t [5.76502136 0.        ]. \t  -19.591995850394152 \t -0.8198597583535783\n",
            "7      \t [-5.  0.]. \t  -308.12909601160663 \t -0.8198597583535783\n",
            "8      \t [-5.          6.28808919]. \t  -131.5178578549516 \t -0.8198597583535783\n",
            "9      \t [4.65863248 8.10578883]. \t  -54.59624846537711 \t -0.8198597583535783\n",
            "10     \t [10.          5.20984852]. \t  -6.813512606487913 \t -0.8198597583535783\n",
            "11     \t [ 0.23236245 11.10727736]. \t  -49.266255446976885 \t -0.8198597583535783\n",
            "12     \t [9.10410543 0.03660365]. \t  -5.644942284416331 \t -0.8198597583535783\n",
            "13     \t [7.78332077 3.21082841]. \t  -13.81918892345319 \t -0.8198597583535783\n",
            "14     \t [-3.20852295  9.37713538]. \t  -9.77865928069849 \t -0.8198597583535783\n",
            "15     \t [-3.66648234 14.10096019]. \t  -1.970301280468174 \t -0.8198597583535783\n",
            "16     \t [1.82994204 4.23826446]. \t  -8.05509237199721 \t -0.8198597583535783\n",
            "17     \t [3.26348285 1.49272908]. \t  -0.9440337939764643 \t -0.8198597583535783\n",
            "18     \t [7.6004046  7.06204549]. \t  -44.85297730090831 \t -0.8198597583535783\n",
            "19     \t [ 8.69925413 11.95601084]. \t  -103.31688204880545 \t -0.8198597583535783\n",
            "20     \t [-1.71598966  5.4522955 ]. \t  -22.000374329537113 \t -0.8198597583535783\n"
          ]
        }
      ]
    },
    {
      "cell_type": "code",
      "metadata": {
        "id": "aw3xvSryIwDi",
        "colab": {
          "base_uri": "https://localhost:8080/"
        },
        "outputId": "fd0dd12d-ab2f-46a2-bf45-ef5b20e2e26b"
      },
      "source": [
        "### EXACT GP EI GRADIENTS\n",
        "\n",
        "np.random.seed(run_num_20)\n",
        "surrogate_exact_20 = dGaussianProcess(cov_func, optimize=opt)\n",
        "\n",
        "exact_20 = dGPGO(surrogate_exact_20, Acquisition_new(util_grad_exact), objfunc, param)\n",
        "exact_20.run(init_evals=n_init, max_iter=iters)\n"
      ],
      "execution_count": 53,
      "outputs": [
        {
          "output_type": "stream",
          "name": "stdout",
          "text": [
            "Evaluation \t Proposed point \t  Current eval. \t Best eval.\n",
            "init   \t [ 3.82196202 13.46570592]. \t  -138.5264349938869 \t -14.042667401507376\n",
            "init   \t [ 8.37296094 12.23756216]. \t  -115.63178540512689 \t -14.042667401507376\n",
            "init   \t [-4.46165622 10.37636373]. \t  -35.66708529307584 \t -14.042667401507376\n",
            "init   \t [0.68021413 7.77766418]. \t  -25.307769914281764 \t -14.042667401507376\n",
            "init   \t [4.86927198 2.90775327]. \t  -14.042667401507376 \t -14.042667401507376\n",
            "1      \t [-5.  0.]. \t  -308.12909601160663 \t -14.042667401507376\n",
            "2      \t [10.          5.49820193]. \t  \u001b[92m-8.169389869926185\u001b[0m \t -8.169389869926185\n",
            "3      \t [0.61138061 0.18064926]. \t  -41.819817406212465 \t -8.169389869926185\n",
            "4      \t [-1.2637238 15.       ]. \t  -58.903560875286885 \t -8.169389869926185\n",
            "5      \t [-4.79483707  5.40415968]. \t  -136.16520405222167 \t -8.169389869926185\n",
            "6      \t [9.09543778 0.72705293]. \t  \u001b[92m-3.1166558164350517\u001b[0m \t -3.1166558164350517\n",
            "7      \t [6.2877259  7.03753344]. \t  -54.854569106195 \t -3.1166558164350517\n",
            "8      \t [-0.32754319 11.25902138]. \t  -41.40648193276813 \t -3.1166558164350517\n",
            "9      \t [-0.43666184  4.01206985]. \t  -26.03185655641527 \t -3.1166558164350517\n",
            "10     \t [5.55724611 0.        ]. \t  -18.492151482084402 \t -3.1166558164350517\n",
            "11     \t [10.          8.68787681]. \t  -34.26145842986103 \t -3.1166558164350517\n",
            "12     \t [3.5530158  9.63175124]. \t  -59.8094589777487 \t -3.1166558164350517\n",
            "13     \t [8.01437616 3.29934291]. \t  -11.553758918487631 \t -3.1166558164350517\n",
            "14     \t [2.81703956 5.43654928]. \t  -9.27925679673373 \t -3.1166558164350517\n",
            "15     \t [10. 15.]. \t  -145.87219087939556 \t -3.1166558164350517\n",
            "16     \t [-1.95810036  7.24732044]. \t  -11.9637637239722 \t -3.1166558164350517\n",
            "17     \t [6.67280468 4.20427796]. \t  -28.32128433916514 \t -3.1166558164350517\n",
            "18     \t [-3.96224483 13.2823961 ]. \t  -4.560160748039253 \t -3.1166558164350517\n",
            "19     \t [2.60106723 2.30398717]. \t  \u001b[92m-1.9519292536612287\u001b[0m \t -1.9519292536612287\n",
            "20     \t [2.22842663 2.93857546]. \t  -4.155201227937695 \t -1.9519292536612287\n"
          ]
        }
      ]
    },
    {
      "cell_type": "code",
      "metadata": {
        "id": "qNqAB3vBTPqb",
        "colab": {
          "base_uri": "https://localhost:8080/"
        },
        "outputId": "116cdb1b-79e4-4631-da59-f3a68967b2e6"
      },
      "source": [
        "end_exact = time.time()\n",
        "end_exact\n",
        "\n",
        "time_exact = end_exact - start_exact\n",
        "time_exact"
      ],
      "execution_count": 54,
      "outputs": [
        {
          "output_type": "execute_result",
          "data": {
            "text/plain": [
              "443.2559859752655"
            ]
          },
          "metadata": {},
          "execution_count": 54
        }
      ]
    },
    {
      "cell_type": "code",
      "metadata": {
        "id": "JPQzjdBZQxfg",
        "colab": {
          "base_uri": "https://localhost:8080/"
        },
        "outputId": "d283f12f-6c07-4916-bb09-54d615b5ff89"
      },
      "source": [
        "### Simple regret minimization: run number = 1\n",
        "\n",
        "approx_output_1 = np.append(np.min(approx_1.GP.y[0:n_init]),approx_1.GP.y[n_init:(n_init+iters)]) \n",
        "exact_output_1 = np.append(np.min(exact_1.GP.y[0:n_init]),exact_1.GP.y[n_init:(n_init+iters)]) \n",
        "\n",
        "regret_approx_1 = np.log(-approx_output_1 + y_global_orig)\n",
        "regret_exact_1 = np.log(-exact_output_1 + y_global_orig)\n",
        "\n",
        "simple_regret_approx_1 = min_max_array(regret_approx_1)\n",
        "simple_regret_exact_1 = min_max_array(regret_exact_1)\n",
        "\n",
        "min_simple_regret_approx_1 = min(simple_regret_approx_1)\n",
        "min_simple_regret_exact_1 = min(simple_regret_exact_1)\n",
        "\n",
        "min_simple_regret_approx_1, min_simple_regret_exact_1"
      ],
      "execution_count": 55,
      "outputs": [
        {
          "output_type": "execute_result",
          "data": {
            "text/plain": [
              "(1.4954411414241748, 1.4126163322006098)"
            ]
          },
          "metadata": {},
          "execution_count": 55
        }
      ]
    },
    {
      "cell_type": "code",
      "metadata": {
        "id": "94yBw5tqQxfk",
        "colab": {
          "base_uri": "https://localhost:8080/"
        },
        "outputId": "1fa67ec9-74a3-4bc0-e578-e693bbaf2c80"
      },
      "source": [
        "### Simple regret minimization: run number = 2\n",
        "\n",
        "approx_output_2 = np.append(np.min(approx_2.GP.y[0:n_init]),approx_2.GP.y[n_init:(n_init+iters)]) \n",
        "exact_output_2 = np.append(np.min(exact_2.GP.y[0:n_init]),exact_2.GP.y[n_init:(n_init+iters)]) \n",
        "\n",
        "regret_approx_2 = np.log(-approx_output_2 + y_global_orig)\n",
        "regret_exact_2 = np.log(-exact_output_2 + y_global_orig)\n",
        "\n",
        "simple_regret_approx_2 = min_max_array(regret_approx_2)\n",
        "simple_regret_exact_2 = min_max_array(regret_exact_2)\n",
        "\n",
        "min_simple_regret_approx_2 = min(simple_regret_approx_2)\n",
        "min_simple_regret_exact_2 = min(simple_regret_exact_2)\n",
        "\n",
        "min_simple_regret_approx_2, min_simple_regret_exact_2"
      ],
      "execution_count": 56,
      "outputs": [
        {
          "output_type": "execute_result",
          "data": {
            "text/plain": [
              "(0.0005721783316311656, -0.4683609617144569)"
            ]
          },
          "metadata": {},
          "execution_count": 56
        }
      ]
    },
    {
      "cell_type": "code",
      "metadata": {
        "id": "Bu6SBWALQxfl",
        "colab": {
          "base_uri": "https://localhost:8080/"
        },
        "outputId": "63da5204-c64d-434a-924a-a2ffeb7e2170"
      },
      "source": [
        "### Simple regret minimization: run number = 3\n",
        "\n",
        "approx_output_3 = np.append(np.min(approx_3.GP.y[0:n_init]),approx_3.GP.y[n_init:(n_init+iters)]) \n",
        "exact_output_3 = np.append(np.min(exact_3.GP.y[0:n_init]),exact_3.GP.y[n_init:(n_init+iters)]) \n",
        "\n",
        "regret_approx_3 = np.log(-approx_output_3 + y_global_orig)\n",
        "regret_exact_3 = np.log(-exact_output_3 + y_global_orig)\n",
        "\n",
        "simple_regret_approx_3 = min_max_array(regret_approx_3)\n",
        "simple_regret_exact_3 = min_max_array(regret_exact_3)\n",
        "\n",
        "min_simple_regret_approx_3 = min(simple_regret_approx_3)\n",
        "min_simple_regret_exact_3 = min(simple_regret_exact_3)\n",
        "\n",
        "min_simple_regret_approx_3, min_simple_regret_exact_3"
      ],
      "execution_count": 57,
      "outputs": [
        {
          "output_type": "execute_result",
          "data": {
            "text/plain": [
              "(1.0383875198920414, 1.164129196584808)"
            ]
          },
          "metadata": {},
          "execution_count": 57
        }
      ]
    },
    {
      "cell_type": "code",
      "metadata": {
        "id": "AZm0jgxkQxfm",
        "colab": {
          "base_uri": "https://localhost:8080/"
        },
        "outputId": "0e6130d0-8d13-4ea4-fce2-a3b9ec7f9f48"
      },
      "source": [
        "### Simple regret minimization: run number = 4\n",
        "\n",
        "approx_output_4 = np.append(np.min(approx_4.GP.y[0:n_init]),approx_4.GP.y[n_init:(n_init+iters)]) \n",
        "exact_output_4 = np.append(np.min(exact_4.GP.y[0:n_init]),exact_4.GP.y[n_init:(n_init+iters)]) \n",
        "\n",
        "regret_approx_4 = np.log(-approx_output_4 + y_global_orig)\n",
        "regret_exact_4 = np.log(-exact_output_4 + y_global_orig)\n",
        "\n",
        "simple_regret_approx_4 = min_max_array(regret_approx_4)\n",
        "simple_regret_exact_4 = min_max_array(regret_exact_4)\n",
        "\n",
        "min_simple_regret_approx_4 = min(simple_regret_approx_4)\n",
        "min_simple_regret_exact_4 = min(simple_regret_exact_4)\n",
        "\n",
        "min_simple_regret_approx_4, min_simple_regret_exact_4"
      ],
      "execution_count": 58,
      "outputs": [
        {
          "output_type": "execute_result",
          "data": {
            "text/plain": [
              "(-1.6142413222639251, -0.6218785690047403)"
            ]
          },
          "metadata": {},
          "execution_count": 58
        }
      ]
    },
    {
      "cell_type": "code",
      "metadata": {
        "id": "NONPm8JIQxfn",
        "colab": {
          "base_uri": "https://localhost:8080/"
        },
        "outputId": "e2944840-f48a-44d5-9ffa-2ef15114217f"
      },
      "source": [
        "### Simple regret minimization: run number = 5\n",
        "\n",
        "approx_output_5 = np.append(np.min(approx_5.GP.y[0:n_init]),approx_5.GP.y[n_init:(n_init+iters)]) \n",
        "exact_output_5 = np.append(np.min(exact_5.GP.y[0:n_init]),exact_5.GP.y[n_init:(n_init+iters)]) \n",
        "\n",
        "regret_approx_5 = np.log(-approx_output_5 + y_global_orig)\n",
        "regret_exact_5 = np.log(-exact_output_5 + y_global_orig)\n",
        "\n",
        "simple_regret_approx_5 = min_max_array(regret_approx_5)\n",
        "simple_regret_exact_5 = min_max_array(regret_exact_5)\n",
        "\n",
        "min_simple_regret_approx_5 = min(simple_regret_approx_5)\n",
        "min_simple_regret_exact_5 = min(simple_regret_exact_5)\n",
        "\n",
        "min_simple_regret_approx_5, min_simple_regret_exact_5"
      ],
      "execution_count": 59,
      "outputs": [
        {
          "output_type": "execute_result",
          "data": {
            "text/plain": [
              "(0.8522190672362863, -3.72768202935424)"
            ]
          },
          "metadata": {},
          "execution_count": 59
        }
      ]
    },
    {
      "cell_type": "code",
      "metadata": {
        "id": "CJv3lPuSQxfp",
        "colab": {
          "base_uri": "https://localhost:8080/"
        },
        "outputId": "6a454c8d-0b3e-48bd-ec90-79d001e231e1"
      },
      "source": [
        "### Simple regret minimization: run number = 6\n",
        "\n",
        "approx_output_6 = np.append(np.min(approx_6.GP.y[0:n_init]),approx_6.GP.y[n_init:(n_init+iters)]) \n",
        "exact_output_6 = np.append(np.min(exact_6.GP.y[0:n_init]),exact_6.GP.y[n_init:(n_init+iters)]) \n",
        "\n",
        "regret_approx_6 = np.log(-approx_output_6 + y_global_orig)\n",
        "regret_exact_6 = np.log(-exact_output_6 + y_global_orig)\n",
        "\n",
        "simple_regret_approx_6 = min_max_array(regret_approx_6)\n",
        "simple_regret_exact_6 = min_max_array(regret_exact_6)\n",
        "\n",
        "min_simple_regret_approx_6 = min(simple_regret_approx_6)\n",
        "min_simple_regret_exact_6 = min(simple_regret_exact_6)\n",
        "\n",
        "min_simple_regret_approx_6, min_simple_regret_exact_6"
      ],
      "execution_count": 60,
      "outputs": [
        {
          "output_type": "execute_result",
          "data": {
            "text/plain": [
              "(-1.9052524213952455, -3.7052953812864864)"
            ]
          },
          "metadata": {},
          "execution_count": 60
        }
      ]
    },
    {
      "cell_type": "code",
      "metadata": {
        "id": "quR2ZyApQxfq",
        "colab": {
          "base_uri": "https://localhost:8080/"
        },
        "outputId": "22d865d7-3e7a-4a59-8a27-31c24568fc60"
      },
      "source": [
        "### Simple regret minimization: run number = 7\n",
        "\n",
        "approx_output_7 = np.append(np.min(approx_7.GP.y[0:n_init]),approx_7.GP.y[n_init:(n_init+iters)]) \n",
        "exact_output_7 = np.append(np.min(exact_7.GP.y[0:n_init]),exact_7.GP.y[n_init:(n_init+iters)]) \n",
        "\n",
        "regret_approx_7 = np.log(-approx_output_7 + y_global_orig)\n",
        "regret_exact_7 = np.log(-exact_output_7 + y_global_orig)\n",
        "\n",
        "simple_regret_approx_7 = min_max_array(regret_approx_7)\n",
        "simple_regret_exact_7 = min_max_array(regret_exact_7)\n",
        "\n",
        "min_simple_regret_approx_7 = min(simple_regret_approx_7)\n",
        "min_simple_regret_exact_7 = min(simple_regret_exact_7)\n",
        "\n",
        "min_simple_regret_approx_7, min_simple_regret_exact_7"
      ],
      "execution_count": 61,
      "outputs": [
        {
          "output_type": "execute_result",
          "data": {
            "text/plain": [
              "(0.7868089888471265, 0.8035858166782609)"
            ]
          },
          "metadata": {},
          "execution_count": 61
        }
      ]
    },
    {
      "cell_type": "code",
      "metadata": {
        "id": "99wY5nK6Qxfr",
        "colab": {
          "base_uri": "https://localhost:8080/"
        },
        "outputId": "cdbc6d0a-3f4d-493f-e7a5-93a5b4a88016"
      },
      "source": [
        "### Simple regret minimization: run number = 8\n",
        "\n",
        "approx_output_8 = np.append(np.min(approx_8.GP.y[0:n_init]),approx_8.GP.y[n_init:(n_init+iters)]) \n",
        "exact_output_8 = np.append(np.min(exact_8.GP.y[0:n_init]),exact_8.GP.y[n_init:(n_init+iters)]) \n",
        "\n",
        "regret_approx_8 = np.log(-approx_output_8 + y_global_orig)\n",
        "regret_exact_8 = np.log(-exact_output_8 + y_global_orig)\n",
        "\n",
        "simple_regret_approx_8 = min_max_array(regret_approx_8)\n",
        "simple_regret_exact_8 = min_max_array(regret_exact_8)\n",
        "\n",
        "min_simple_regret_approx_8 = min(simple_regret_approx_8)\n",
        "min_simple_regret_exact_8 = min(simple_regret_exact_8)\n",
        "\n",
        "min_simple_regret_approx_8, min_simple_regret_exact_8"
      ],
      "execution_count": 62,
      "outputs": [
        {
          "output_type": "execute_result",
          "data": {
            "text/plain": [
              "(1.797177111480606, 1.1849445155103453)"
            ]
          },
          "metadata": {},
          "execution_count": 62
        }
      ]
    },
    {
      "cell_type": "code",
      "metadata": {
        "id": "qt0P5t9qQxfs",
        "colab": {
          "base_uri": "https://localhost:8080/"
        },
        "outputId": "64b3a199-4b4b-4a72-86f5-efa3cdadb3f0"
      },
      "source": [
        "### Simple regret minimization: run number = 9\n",
        "\n",
        "approx_output_9 = np.append(np.min(approx_9.GP.y[0:n_init]),approx_9.GP.y[n_init:(n_init+iters)]) \n",
        "exact_output_9 = np.append(np.min(exact_9.GP.y[0:n_init]),exact_9.GP.y[n_init:(n_init+iters)]) \n",
        "\n",
        "regret_approx_9 = np.log(-approx_output_9 + y_global_orig)\n",
        "regret_exact_9 = np.log(-exact_output_9 + y_global_orig)\n",
        "\n",
        "simple_regret_approx_9 = min_max_array(regret_approx_9)\n",
        "simple_regret_exact_9 = min_max_array(regret_exact_9)\n",
        "\n",
        "min_simple_regret_approx_9 = min(simple_regret_approx_9)\n",
        "min_simple_regret_exact_9 = min(simple_regret_exact_9)\n",
        "\n",
        "min_simple_regret_approx_9, min_simple_regret_exact_9"
      ],
      "execution_count": 63,
      "outputs": [
        {
          "output_type": "execute_result",
          "data": {
            "text/plain": [
              "(0.5890523437213153, 0.9209595469246515)"
            ]
          },
          "metadata": {},
          "execution_count": 63
        }
      ]
    },
    {
      "cell_type": "code",
      "metadata": {
        "id": "vx8to9stQxft",
        "colab": {
          "base_uri": "https://localhost:8080/"
        },
        "outputId": "ed574c6c-d0a6-4e9a-8007-56db8f87556a"
      },
      "source": [
        "### Simple regret minimization: run number = 10\n",
        "\n",
        "approx_output_10 = np.append(np.min(approx_10.GP.y[0:n_init]),approx_10.GP.y[n_init:(n_init+iters)]) \n",
        "exact_output_10 = np.append(np.min(exact_10.GP.y[0:n_init]),exact_10.GP.y[n_init:(n_init+iters)]) \n",
        "\n",
        "regret_approx_10 = np.log(-approx_output_10 + y_global_orig)\n",
        "regret_exact_10 = np.log(-exact_output_10 + y_global_orig)\n",
        "\n",
        "simple_regret_approx_10 = min_max_array(regret_approx_10)\n",
        "simple_regret_exact_10 = min_max_array(regret_exact_10)\n",
        "\n",
        "min_simple_regret_approx_10 = min(simple_regret_approx_10)\n",
        "min_simple_regret_exact_10 = min(simple_regret_exact_10)\n",
        "\n",
        "min_simple_regret_approx_10, min_simple_regret_exact_10"
      ],
      "execution_count": 64,
      "outputs": [
        {
          "output_type": "execute_result",
          "data": {
            "text/plain": [
              "(0.606281946201423, 0.44484020623159504)"
            ]
          },
          "metadata": {},
          "execution_count": 64
        }
      ]
    },
    {
      "cell_type": "code",
      "metadata": {
        "id": "d-FGzWyHQxfu",
        "colab": {
          "base_uri": "https://localhost:8080/"
        },
        "outputId": "dc096dff-becd-4133-cbce-76e7ed99ff62"
      },
      "source": [
        "### Simple regret minimization: run number = 11\n",
        "\n",
        "approx_output_11 = np.append(np.min(approx_11.GP.y[0:n_init]),approx_11.GP.y[n_init:(n_init+iters)]) \n",
        "exact_output_11 = np.append(np.min(exact_11.GP.y[0:n_init]),exact_11.GP.y[n_init:(n_init+iters)]) \n",
        "\n",
        "regret_approx_11 = np.log(-approx_output_11 + y_global_orig)\n",
        "regret_exact_11 = np.log(-exact_output_11 + y_global_orig)\n",
        "\n",
        "simple_regret_approx_11 = min_max_array(regret_approx_11)\n",
        "simple_regret_exact_11 = min_max_array(regret_exact_11)\n",
        "\n",
        "min_simple_regret_approx_11 = min(simple_regret_approx_11)\n",
        "min_simple_regret_exact_11 = min(simple_regret_exact_11)\n",
        "\n",
        "min_simple_regret_approx_11, min_simple_regret_exact_11"
      ],
      "execution_count": 65,
      "outputs": [
        {
          "output_type": "execute_result",
          "data": {
            "text/plain": [
              "(-0.5207374833902783, -0.16048063405862376)"
            ]
          },
          "metadata": {},
          "execution_count": 65
        }
      ]
    },
    {
      "cell_type": "code",
      "metadata": {
        "id": "SvtsssyjQxfv",
        "colab": {
          "base_uri": "https://localhost:8080/"
        },
        "outputId": "e9c34dfd-638e-44b8-8426-f4a7ff797f3d"
      },
      "source": [
        "### Simple regret minimization: run number = 12\n",
        "\n",
        "approx_output_12 = np.append(np.min(approx_12.GP.y[0:n_init]),approx_12.GP.y[n_init:(n_init+iters)]) \n",
        "exact_output_12 = np.append(np.min(exact_12.GP.y[0:n_init]),exact_12.GP.y[n_init:(n_init+iters)]) \n",
        "\n",
        "regret_approx_12 = np.log(-approx_output_12 + y_global_orig)\n",
        "regret_exact_12 = np.log(-exact_output_12 + y_global_orig)\n",
        "\n",
        "simple_regret_approx_12 = min_max_array(regret_approx_12)\n",
        "simple_regret_exact_12 = min_max_array(regret_exact_12)\n",
        "\n",
        "min_simple_regret_approx_12 = min(simple_regret_approx_12)\n",
        "min_simple_regret_exact_12 = min(simple_regret_exact_12)\n",
        "\n",
        "min_simple_regret_approx_12, min_simple_regret_exact_12"
      ],
      "execution_count": 66,
      "outputs": [
        {
          "output_type": "execute_result",
          "data": {
            "text/plain": [
              "(-0.06557412435572195, -0.7878397132007233)"
            ]
          },
          "metadata": {},
          "execution_count": 66
        }
      ]
    },
    {
      "cell_type": "code",
      "metadata": {
        "id": "K6OiGcHkQxfw",
        "colab": {
          "base_uri": "https://localhost:8080/"
        },
        "outputId": "9dd58327-22b4-4f2b-dc20-410eef388602"
      },
      "source": [
        "### Simple regret minimization: run number = 13\n",
        "\n",
        "approx_output_13 = np.append(np.min(approx_13.GP.y[0:n_init]),approx_13.GP.y[n_init:(n_init+iters)]) \n",
        "exact_output_13 = np.append(np.min(exact_13.GP.y[0:n_init]),exact_13.GP.y[n_init:(n_init+iters)]) \n",
        "\n",
        "regret_approx_13 = np.log(-approx_output_13 + y_global_orig)\n",
        "regret_exact_13 = np.log(-exact_output_13 + y_global_orig)\n",
        "\n",
        "simple_regret_approx_13 = min_max_array(regret_approx_13)\n",
        "simple_regret_exact_13 = min_max_array(regret_exact_13)\n",
        "\n",
        "min_simple_regret_approx_13 = min(simple_regret_approx_13)\n",
        "min_simple_regret_exact_13 = min(simple_regret_exact_13)\n",
        "\n",
        "min_simple_regret_approx_13, min_simple_regret_exact_13"
      ],
      "execution_count": 67,
      "outputs": [
        {
          "output_type": "execute_result",
          "data": {
            "text/plain": [
              "(0.49339894345476154, -1.8980258931467802)"
            ]
          },
          "metadata": {},
          "execution_count": 67
        }
      ]
    },
    {
      "cell_type": "code",
      "metadata": {
        "id": "ogML73shQxfx",
        "colab": {
          "base_uri": "https://localhost:8080/"
        },
        "outputId": "6a067544-849b-474c-dc00-7e4a3380a770"
      },
      "source": [
        "### Simple regret minimization: run number = 14\n",
        "\n",
        "approx_output_14 = np.append(np.min(approx_14.GP.y[0:n_init]),approx_14.GP.y[n_init:(n_init+iters)]) \n",
        "exact_output_14 = np.append(np.min(exact_14.GP.y[0:n_init]),exact_14.GP.y[n_init:(n_init+iters)]) \n",
        "\n",
        "regret_approx_14 = np.log(-approx_output_14 + y_global_orig)\n",
        "regret_exact_14 = np.log(-exact_output_14 + y_global_orig)\n",
        "\n",
        "simple_regret_approx_14 = min_max_array(regret_approx_14)\n",
        "simple_regret_exact_14 = min_max_array(regret_exact_14)\n",
        "\n",
        "min_simple_regret_approx_14 = min(simple_regret_approx_14)\n",
        "min_simple_regret_exact_14 = min(simple_regret_exact_14)\n",
        "\n",
        "min_simple_regret_approx_14, min_simple_regret_exact_14"
      ],
      "execution_count": 68,
      "outputs": [
        {
          "output_type": "execute_result",
          "data": {
            "text/plain": [
              "(0.4451925414611061, 0.4396088830118035)"
            ]
          },
          "metadata": {},
          "execution_count": 68
        }
      ]
    },
    {
      "cell_type": "code",
      "metadata": {
        "id": "9Eg7gFT9Qxfx",
        "colab": {
          "base_uri": "https://localhost:8080/"
        },
        "outputId": "907bf7d8-16e8-4fe1-e595-8ba050956d10"
      },
      "source": [
        "### Simple regret minimization: run number = 15\n",
        "\n",
        "approx_output_15 = np.append(np.min(approx_15.GP.y[0:n_init]),approx_15.GP.y[n_init:(n_init+iters)]) \n",
        "exact_output_15 = np.append(np.min(exact_15.GP.y[0:n_init]),exact_15.GP.y[n_init:(n_init+iters)]) \n",
        "\n",
        "regret_approx_15 = np.log(-approx_output_15 + y_global_orig)\n",
        "regret_exact_15 = np.log(-exact_output_15 + y_global_orig)\n",
        "\n",
        "simple_regret_approx_15 = min_max_array(regret_approx_15)\n",
        "simple_regret_exact_15 = min_max_array(regret_exact_15)\n",
        "\n",
        "min_simple_regret_approx_15 = min(simple_regret_approx_15)\n",
        "min_simple_regret_exact_15 = min(simple_regret_exact_15)\n",
        "\n",
        "min_simple_regret_approx_15, min_simple_regret_exact_15"
      ],
      "execution_count": 69,
      "outputs": [
        {
          "output_type": "execute_result",
          "data": {
            "text/plain": [
              "(1.118969763010599, 0.8098759117073674)"
            ]
          },
          "metadata": {},
          "execution_count": 69
        }
      ]
    },
    {
      "cell_type": "code",
      "metadata": {
        "id": "lIAC1U7ZQxfy",
        "colab": {
          "base_uri": "https://localhost:8080/"
        },
        "outputId": "084ed147-dbef-426a-85fa-3571336b1378"
      },
      "source": [
        "### Simple regret minimization: run number = 16\n",
        "\n",
        "approx_output_16 = np.append(np.min(approx_16.GP.y[0:n_init]),approx_16.GP.y[n_init:(n_init+iters)]) \n",
        "exact_output_16 = np.append(np.min(exact_16.GP.y[0:n_init]),exact_16.GP.y[n_init:(n_init+iters)]) \n",
        "\n",
        "regret_approx_16 = np.log(-approx_output_16 + y_global_orig)\n",
        "regret_exact_16 = np.log(-exact_output_16 + y_global_orig)\n",
        "\n",
        "simple_regret_approx_16 = min_max_array(regret_approx_16)\n",
        "simple_regret_exact_16 = min_max_array(regret_exact_16)\n",
        "\n",
        "min_simple_regret_approx_16 = min(simple_regret_approx_16)\n",
        "min_simple_regret_exact_16 = min(simple_regret_exact_16)\n",
        "\n",
        "min_simple_regret_approx_16, min_simple_regret_exact_16"
      ],
      "execution_count": 70,
      "outputs": [
        {
          "output_type": "execute_result",
          "data": {
            "text/plain": [
              "(1.2488072837175237, 0.8903627883019071)"
            ]
          },
          "metadata": {},
          "execution_count": 70
        }
      ]
    },
    {
      "cell_type": "code",
      "metadata": {
        "id": "bGott36OQxfz",
        "colab": {
          "base_uri": "https://localhost:8080/"
        },
        "outputId": "a1d42307-8b5b-415a-d205-bc4e2d19d18c"
      },
      "source": [
        "### Simple regret minimization: run number = 17\n",
        "\n",
        "approx_output_17 = np.append(np.min(approx_17.GP.y[0:n_init]),approx_17.GP.y[n_init:(n_init+iters)]) \n",
        "exact_output_17 = np.append(np.min(exact_17.GP.y[0:n_init]),exact_17.GP.y[n_init:(n_init+iters)]) \n",
        "\n",
        "regret_approx_17 = np.log(-approx_output_17 + y_global_orig)\n",
        "regret_exact_17 = np.log(-exact_output_17 + y_global_orig)\n",
        "\n",
        "simple_regret_approx_17 = min_max_array(regret_approx_17)\n",
        "simple_regret_exact_17 = min_max_array(regret_exact_17)\n",
        "\n",
        "min_simple_regret_approx_17 = min(simple_regret_approx_17)\n",
        "min_simple_regret_exact_17 = min(simple_regret_exact_17)\n",
        "\n",
        "min_simple_regret_approx_17, min_simple_regret_exact_17"
      ],
      "execution_count": 71,
      "outputs": [
        {
          "output_type": "execute_result",
          "data": {
            "text/plain": [
              "(0.48248490604152217, 0.3736586777309275)"
            ]
          },
          "metadata": {},
          "execution_count": 71
        }
      ]
    },
    {
      "cell_type": "code",
      "metadata": {
        "id": "Cz9ZYMBMQxfz",
        "colab": {
          "base_uri": "https://localhost:8080/"
        },
        "outputId": "ea3fdc9c-b75f-4a29-e380-a5cd700bb14c"
      },
      "source": [
        "### Simple regret minimization: run number = 18\n",
        "\n",
        "approx_output_18 = np.append(np.min(approx_18.GP.y[0:n_init]),approx_18.GP.y[n_init:(n_init+iters)]) \n",
        "exact_output_18 = np.append(np.min(exact_18.GP.y[0:n_init]),exact_18.GP.y[n_init:(n_init+iters)]) \n",
        "\n",
        "regret_approx_18 = np.log(-approx_output_18 + y_global_orig)\n",
        "regret_exact_18 = np.log(-exact_output_18 + y_global_orig)\n",
        "\n",
        "simple_regret_approx_18 = min_max_array(regret_approx_18)\n",
        "simple_regret_exact_18 = min_max_array(regret_exact_18)\n",
        "\n",
        "min_simple_regret_approx_18 = min(simple_regret_approx_18)\n",
        "min_simple_regret_exact_18 = min(simple_regret_exact_18)\n",
        "\n",
        "min_simple_regret_approx_18, min_simple_regret_exact_18"
      ],
      "execution_count": 72,
      "outputs": [
        {
          "output_type": "execute_result",
          "data": {
            "text/plain": [
              "(1.6933290643071575, 0.9861761147798402)"
            ]
          },
          "metadata": {},
          "execution_count": 72
        }
      ]
    },
    {
      "cell_type": "code",
      "metadata": {
        "id": "OBfpWOHNQxf0",
        "colab": {
          "base_uri": "https://localhost:8080/"
        },
        "outputId": "63640e14-60e1-4713-aba0-38b17518a84f"
      },
      "source": [
        "### Simple regret minimization: run number = 19\n",
        "\n",
        "approx_output_19 = np.append(np.min(approx_19.GP.y[0:n_init]),approx_19.GP.y[n_init:(n_init+iters)]) \n",
        "exact_output_19 = np.append(np.min(exact_19.GP.y[0:n_init]),exact_19.GP.y[n_init:(n_init+iters)]) \n",
        "\n",
        "regret_approx_19 = np.log(-approx_output_19 + y_global_orig)\n",
        "regret_exact_19 = np.log(-exact_output_19 + y_global_orig)\n",
        "\n",
        "simple_regret_approx_19 = min_max_array(regret_approx_19)\n",
        "simple_regret_exact_19 = min_max_array(regret_exact_19)\n",
        "\n",
        "min_simple_regret_approx_19 = min(simple_regret_approx_19)\n",
        "min_simple_regret_exact_19 = min(simple_regret_exact_19)\n",
        "\n",
        "min_simple_regret_approx_19, min_simple_regret_exact_19"
      ],
      "execution_count": 73,
      "outputs": [
        {
          "output_type": "execute_result",
          "data": {
            "text/plain": [
              "(-4.169759561878367, -0.8628145206943092)"
            ]
          },
          "metadata": {},
          "execution_count": 73
        }
      ]
    },
    {
      "cell_type": "code",
      "metadata": {
        "id": "BE1AJ7NsQxf0",
        "colab": {
          "base_uri": "https://localhost:8080/"
        },
        "outputId": "9f837a20-9264-4eba-d69e-4c5e916aae18"
      },
      "source": [
        "### Simple regret minimization: run number = 20\n",
        "\n",
        "approx_output_20 = np.append(np.min(approx_20.GP.y[0:n_init]),approx_20.GP.y[n_init:(n_init+iters)]) \n",
        "exact_output_20 = np.append(np.min(exact_20.GP.y[0:n_init]),exact_20.GP.y[n_init:(n_init+iters)]) \n",
        "\n",
        "regret_approx_20 = np.log(-approx_output_20 + y_global_orig)\n",
        "regret_exact_20 = np.log(-exact_output_20 + y_global_orig)\n",
        "\n",
        "simple_regret_approx_20 = min_max_array(regret_approx_20)\n",
        "simple_regret_exact_20 = min_max_array(regret_exact_20)\n",
        "\n",
        "min_simple_regret_approx_20 = min(simple_regret_approx_20)\n",
        "min_simple_regret_exact_20 = min(simple_regret_exact_20)\n",
        "\n",
        "min_simple_regret_approx_20, min_simple_regret_exact_20"
      ],
      "execution_count": 74,
      "outputs": [
        {
          "output_type": "execute_result",
          "data": {
            "text/plain": [
              "(1.5706871896702388, 0.44085944183399833)"
            ]
          },
          "metadata": {},
          "execution_count": 74
        }
      ]
    },
    {
      "cell_type": "code",
      "metadata": {
        "id": "bpX-bKAHQxf1"
      },
      "source": [
        "# Iteration1 :\n",
        "\n",
        "slice1 = 0\n",
        "\n",
        "approx1 = [simple_regret_approx_1[slice1],\n",
        "       simple_regret_approx_2[slice1],\n",
        "       simple_regret_approx_3[slice1],\n",
        "       simple_regret_approx_4[slice1],\n",
        "       simple_regret_approx_5[slice1],\n",
        "       simple_regret_approx_6[slice1],\n",
        "       simple_regret_approx_7[slice1],\n",
        "       simple_regret_approx_8[slice1],\n",
        "       simple_regret_approx_9[slice1],\n",
        "       simple_regret_approx_10[slice1],\n",
        "       simple_regret_approx_11[slice1],\n",
        "       simple_regret_approx_12[slice1],\n",
        "       simple_regret_approx_13[slice1],\n",
        "       simple_regret_approx_14[slice1],\n",
        "       simple_regret_approx_15[slice1],\n",
        "       simple_regret_approx_16[slice1],\n",
        "       simple_regret_approx_17[slice1],\n",
        "       simple_regret_approx_18[slice1],\n",
        "       simple_regret_approx_19[slice1],\n",
        "       simple_regret_approx_20[slice1]]\n",
        "\n",
        "exact1 = [simple_regret_exact_1[slice1],\n",
        "       simple_regret_exact_2[slice1],\n",
        "       simple_regret_exact_3[slice1],\n",
        "       simple_regret_exact_4[slice1],\n",
        "       simple_regret_exact_5[slice1],\n",
        "       simple_regret_exact_6[slice1],\n",
        "       simple_regret_exact_7[slice1],\n",
        "       simple_regret_exact_8[slice1],\n",
        "       simple_regret_exact_9[slice1],\n",
        "       simple_regret_exact_10[slice1],\n",
        "       simple_regret_exact_11[slice1],\n",
        "       simple_regret_exact_12[slice1],\n",
        "       simple_regret_exact_13[slice1],\n",
        "       simple_regret_exact_14[slice1],\n",
        "       simple_regret_exact_15[slice1],\n",
        "       simple_regret_exact_16[slice1],\n",
        "       simple_regret_exact_17[slice1],\n",
        "       simple_regret_exact_18[slice1],\n",
        "       simple_regret_exact_19[slice1],\n",
        "       simple_regret_exact_20[slice1]]\n",
        "\n",
        "approx1_results = pd.DataFrame(approx1).sort_values(by=[0], ascending=False)\n",
        "exact1_results = pd.DataFrame(exact1).sort_values(by=[0], ascending=False)\n",
        "\n",
        "### Best simple regret minimization IQR - approx:\n",
        "lower_approx1 = np.asarray(approx1_results[4:5][0])[0]\n",
        "median_approx1 = np.asarray(approx1_results[9:10][0])[0]\n",
        "upper_approx1 = np.asarray(approx1_results[14:15][0])[0]\n",
        "\n",
        "lower_exact1 = np.asarray(exact1_results[4:5][0])[0]\n",
        "median_exact1 = np.asarray(exact1_results[9:10][0])[0]\n",
        "upper_exact1 = np.asarray(exact1_results[14:15][0])[0]"
      ],
      "execution_count": 75,
      "outputs": []
    },
    {
      "cell_type": "code",
      "metadata": {
        "id": "CgIkJA1xQxf2"
      },
      "source": [
        "# Iteration11 :\n",
        "\n",
        "slice11 = 10\n",
        "\n",
        "approx11 = [simple_regret_approx_1[slice11],\n",
        "       simple_regret_approx_2[slice11],\n",
        "       simple_regret_approx_3[slice11],\n",
        "       simple_regret_approx_4[slice11],\n",
        "       simple_regret_approx_5[slice11],\n",
        "       simple_regret_approx_6[slice11],\n",
        "       simple_regret_approx_7[slice11],\n",
        "       simple_regret_approx_8[slice11],\n",
        "       simple_regret_approx_9[slice11],\n",
        "       simple_regret_approx_10[slice11],\n",
        "       simple_regret_approx_11[slice11],\n",
        "       simple_regret_approx_12[slice11],\n",
        "       simple_regret_approx_13[slice11],\n",
        "       simple_regret_approx_14[slice11],\n",
        "       simple_regret_approx_15[slice11],\n",
        "       simple_regret_approx_16[slice11],\n",
        "       simple_regret_approx_17[slice11],\n",
        "       simple_regret_approx_18[slice11],\n",
        "       simple_regret_approx_19[slice11],\n",
        "       simple_regret_approx_20[slice11]]\n",
        "\n",
        "exact11 = [simple_regret_exact_1[slice11],\n",
        "       simple_regret_exact_2[slice11],\n",
        "       simple_regret_exact_3[slice11],\n",
        "       simple_regret_exact_4[slice11],\n",
        "       simple_regret_exact_5[slice11],\n",
        "       simple_regret_exact_6[slice11],\n",
        "       simple_regret_exact_7[slice11],\n",
        "       simple_regret_exact_8[slice11],\n",
        "       simple_regret_exact_9[slice11],\n",
        "       simple_regret_exact_10[slice11],\n",
        "       simple_regret_exact_11[slice11],\n",
        "       simple_regret_exact_12[slice11],\n",
        "       simple_regret_exact_13[slice11],\n",
        "       simple_regret_exact_14[slice11],\n",
        "       simple_regret_exact_15[slice11],\n",
        "       simple_regret_exact_16[slice11],\n",
        "       simple_regret_exact_17[slice11],\n",
        "       simple_regret_exact_18[slice11],\n",
        "       simple_regret_exact_19[slice11],\n",
        "       simple_regret_exact_20[slice11]]\n",
        "\n",
        "approx11_results = pd.DataFrame(approx11).sort_values(by=[0], ascending=False)\n",
        "exact11_results = pd.DataFrame(exact11).sort_values(by=[0], ascending=False)\n",
        "\n",
        "### Best simple regret minimization IQR - approx:\n",
        "lower_approx11 = np.asarray(approx11_results[4:5][0])[0]\n",
        "median_approx11 = np.asarray(approx11_results[9:10][0])[0]\n",
        "upper_approx11 = np.asarray(approx11_results[14:15][0])[0]\n",
        "\n",
        "lower_exact11 = np.asarray(exact11_results[4:5][0])[0]\n",
        "median_exact11 = np.asarray(exact11_results[9:10][0])[0]\n",
        "upper_exact11 = np.asarray(exact11_results[14:15][0])[0]"
      ],
      "execution_count": 76,
      "outputs": []
    },
    {
      "cell_type": "code",
      "metadata": {
        "id": "MFePDfGuQxf2"
      },
      "source": [
        "# Iteration21 :\n",
        "\n",
        "slice21 = 20\n",
        "\n",
        "approx21 = [simple_regret_approx_1[slice21],\n",
        "       simple_regret_approx_2[slice21],\n",
        "       simple_regret_approx_3[slice21],\n",
        "       simple_regret_approx_4[slice21],\n",
        "       simple_regret_approx_5[slice21],\n",
        "       simple_regret_approx_6[slice21],\n",
        "       simple_regret_approx_7[slice21],\n",
        "       simple_regret_approx_8[slice21],\n",
        "       simple_regret_approx_9[slice21],\n",
        "       simple_regret_approx_10[slice21],\n",
        "       simple_regret_approx_11[slice21],\n",
        "       simple_regret_approx_12[slice21],\n",
        "       simple_regret_approx_13[slice21],\n",
        "       simple_regret_approx_14[slice21],\n",
        "       simple_regret_approx_15[slice21],\n",
        "       simple_regret_approx_16[slice21],\n",
        "       simple_regret_approx_17[slice21],\n",
        "       simple_regret_approx_18[slice21],\n",
        "       simple_regret_approx_19[slice21],\n",
        "       simple_regret_approx_20[slice21]]\n",
        "\n",
        "exact21 = [simple_regret_exact_1[slice21],\n",
        "       simple_regret_exact_2[slice21],\n",
        "       simple_regret_exact_3[slice21],\n",
        "       simple_regret_exact_4[slice21],\n",
        "       simple_regret_exact_5[slice21],\n",
        "       simple_regret_exact_6[slice21],\n",
        "       simple_regret_exact_7[slice21],\n",
        "       simple_regret_exact_8[slice21],\n",
        "       simple_regret_exact_9[slice21],\n",
        "       simple_regret_exact_10[slice21],\n",
        "       simple_regret_exact_11[slice21],\n",
        "       simple_regret_exact_12[slice21],\n",
        "       simple_regret_exact_13[slice21],\n",
        "       simple_regret_exact_14[slice21],\n",
        "       simple_regret_exact_15[slice21],\n",
        "       simple_regret_exact_16[slice21],\n",
        "       simple_regret_exact_17[slice21],\n",
        "       simple_regret_exact_18[slice21],\n",
        "       simple_regret_exact_19[slice21],\n",
        "       simple_regret_exact_20[slice21]]\n",
        "\n",
        "approx21_results = pd.DataFrame(approx21).sort_values(by=[0], ascending=False)\n",
        "exact21_results = pd.DataFrame(exact21).sort_values(by=[0], ascending=False)\n",
        "\n",
        "### Best simple regret minimization IQR - approx:\n",
        "lower_approx21 = np.asarray(approx21_results[4:5][0])[0]\n",
        "median_approx21 = np.asarray(approx21_results[9:10][0])[0]\n",
        "upper_approx21 = np.asarray(approx21_results[14:15][0])[0]\n",
        "\n",
        "lower_exact21 = np.asarray(exact21_results[4:5][0])[0]\n",
        "median_exact21 = np.asarray(exact21_results[9:10][0])[0]\n",
        "upper_exact21 = np.asarray(exact21_results[14:15][0])[0]"
      ],
      "execution_count": 77,
      "outputs": []
    },
    {
      "cell_type": "code",
      "metadata": {
        "id": "PrRDB1kfQxf3"
      },
      "source": [
        "# Iteration2 :\n",
        "\n",
        "slice2 = 1\n",
        "\n",
        "approx2 = [simple_regret_approx_1[slice2],\n",
        "       simple_regret_approx_2[slice2],\n",
        "       simple_regret_approx_3[slice2],\n",
        "       simple_regret_approx_4[slice2],\n",
        "       simple_regret_approx_5[slice2],\n",
        "       simple_regret_approx_6[slice2],\n",
        "       simple_regret_approx_7[slice2],\n",
        "       simple_regret_approx_8[slice2],\n",
        "       simple_regret_approx_9[slice2],\n",
        "       simple_regret_approx_10[slice2],\n",
        "       simple_regret_approx_11[slice2],\n",
        "       simple_regret_approx_12[slice2],\n",
        "       simple_regret_approx_13[slice2],\n",
        "       simple_regret_approx_14[slice2],\n",
        "       simple_regret_approx_15[slice2],\n",
        "       simple_regret_approx_16[slice2],\n",
        "       simple_regret_approx_17[slice2],\n",
        "       simple_regret_approx_18[slice2],\n",
        "       simple_regret_approx_19[slice2],\n",
        "       simple_regret_approx_20[slice2]]\n",
        "\n",
        "exact2 = [simple_regret_exact_1[slice2],\n",
        "       simple_regret_exact_2[slice2],\n",
        "       simple_regret_exact_3[slice2],\n",
        "       simple_regret_exact_4[slice2],\n",
        "       simple_regret_exact_5[slice2],\n",
        "       simple_regret_exact_6[slice2],\n",
        "       simple_regret_exact_7[slice2],\n",
        "       simple_regret_exact_8[slice2],\n",
        "       simple_regret_exact_9[slice2],\n",
        "       simple_regret_exact_10[slice2],\n",
        "       simple_regret_exact_11[slice2],\n",
        "       simple_regret_exact_12[slice2],\n",
        "       simple_regret_exact_13[slice2],\n",
        "       simple_regret_exact_14[slice2],\n",
        "       simple_regret_exact_15[slice2],\n",
        "       simple_regret_exact_16[slice2],\n",
        "       simple_regret_exact_17[slice2],\n",
        "       simple_regret_exact_18[slice2],\n",
        "       simple_regret_exact_19[slice2],\n",
        "       simple_regret_exact_20[slice2]]\n",
        "\n",
        "approx2_results = pd.DataFrame(approx2).sort_values(by=[0], ascending=False)\n",
        "exact2_results = pd.DataFrame(exact2).sort_values(by=[0], ascending=False)\n",
        "\n",
        "### Best simple regret minimization IQR - approx:\n",
        "lower_approx2 = np.asarray(approx2_results[4:5][0])[0]\n",
        "median_approx2 = np.asarray(approx2_results[9:10][0])[0]\n",
        "upper_approx2 = np.asarray(approx2_results[14:15][0])[0]\n",
        "\n",
        "lower_exact2 = np.asarray(exact2_results[4:5][0])[0]\n",
        "median_exact2 = np.asarray(exact2_results[9:10][0])[0]\n",
        "upper_exact2 = np.asarray(exact2_results[14:15][0])[0]"
      ],
      "execution_count": 78,
      "outputs": []
    },
    {
      "cell_type": "code",
      "metadata": {
        "id": "B8ncJDYeQxf3"
      },
      "source": [
        "# Iteration12 :\n",
        "\n",
        "slice12 = 11\n",
        "\n",
        "approx12 = [simple_regret_approx_1[slice12],\n",
        "       simple_regret_approx_2[slice12],\n",
        "       simple_regret_approx_3[slice12],\n",
        "       simple_regret_approx_4[slice12],\n",
        "       simple_regret_approx_5[slice12],\n",
        "       simple_regret_approx_6[slice12],\n",
        "       simple_regret_approx_7[slice12],\n",
        "       simple_regret_approx_8[slice12],\n",
        "       simple_regret_approx_9[slice12],\n",
        "       simple_regret_approx_10[slice12],\n",
        "       simple_regret_approx_11[slice12],\n",
        "       simple_regret_approx_12[slice12],\n",
        "       simple_regret_approx_13[slice12],\n",
        "       simple_regret_approx_14[slice12],\n",
        "       simple_regret_approx_15[slice12],\n",
        "       simple_regret_approx_16[slice12],\n",
        "       simple_regret_approx_17[slice12],\n",
        "       simple_regret_approx_18[slice12],\n",
        "       simple_regret_approx_19[slice12],\n",
        "       simple_regret_approx_20[slice12]]\n",
        "\n",
        "exact12 = [simple_regret_exact_1[slice12],\n",
        "       simple_regret_exact_2[slice12],\n",
        "       simple_regret_exact_3[slice12],\n",
        "       simple_regret_exact_4[slice12],\n",
        "       simple_regret_exact_5[slice12],\n",
        "       simple_regret_exact_6[slice12],\n",
        "       simple_regret_exact_7[slice12],\n",
        "       simple_regret_exact_8[slice12],\n",
        "       simple_regret_exact_9[slice12],\n",
        "       simple_regret_exact_10[slice12],\n",
        "       simple_regret_exact_11[slice12],\n",
        "       simple_regret_exact_12[slice12],\n",
        "       simple_regret_exact_13[slice12],\n",
        "       simple_regret_exact_14[slice12],\n",
        "       simple_regret_exact_15[slice12],\n",
        "       simple_regret_exact_16[slice12],\n",
        "       simple_regret_exact_17[slice12],\n",
        "       simple_regret_exact_18[slice12],\n",
        "       simple_regret_exact_19[slice12],\n",
        "       simple_regret_exact_20[slice12]]\n",
        "\n",
        "approx12_results = pd.DataFrame(approx12).sort_values(by=[0], ascending=False)\n",
        "exact12_results = pd.DataFrame(exact12).sort_values(by=[0], ascending=False)\n",
        "\n",
        "### Best simple regret minimization IQR - approx:\n",
        "lower_approx12 = np.asarray(approx12_results[4:5][0])[0]\n",
        "median_approx12 = np.asarray(approx12_results[9:10][0])[0]\n",
        "upper_approx12 = np.asarray(approx12_results[14:15][0])[0]\n",
        "\n",
        "lower_exact12 = np.asarray(exact12_results[4:5][0])[0]\n",
        "median_exact12 = np.asarray(exact12_results[9:10][0])[0]\n",
        "upper_exact12 = np.asarray(exact12_results[14:15][0])[0]"
      ],
      "execution_count": 79,
      "outputs": []
    },
    {
      "cell_type": "code",
      "metadata": {
        "id": "Jn4KpGvcQxf4"
      },
      "source": [
        "# Iteration3 :\n",
        "\n",
        "slice3 = 2\n",
        "\n",
        "approx3 = [simple_regret_approx_1[slice3],\n",
        "       simple_regret_approx_2[slice3],\n",
        "       simple_regret_approx_3[slice3],\n",
        "       simple_regret_approx_4[slice3],\n",
        "       simple_regret_approx_5[slice3],\n",
        "       simple_regret_approx_6[slice3],\n",
        "       simple_regret_approx_7[slice3],\n",
        "       simple_regret_approx_8[slice3],\n",
        "       simple_regret_approx_9[slice3],\n",
        "       simple_regret_approx_10[slice3],\n",
        "       simple_regret_approx_11[slice3],\n",
        "       simple_regret_approx_12[slice3],\n",
        "       simple_regret_approx_13[slice3],\n",
        "       simple_regret_approx_14[slice3],\n",
        "       simple_regret_approx_15[slice3],\n",
        "       simple_regret_approx_16[slice3],\n",
        "       simple_regret_approx_17[slice3],\n",
        "       simple_regret_approx_18[slice3],\n",
        "       simple_regret_approx_19[slice3],\n",
        "       simple_regret_approx_20[slice3]]\n",
        "\n",
        "exact3 = [simple_regret_exact_1[slice3],\n",
        "       simple_regret_exact_2[slice3],\n",
        "       simple_regret_exact_3[slice3],\n",
        "       simple_regret_exact_4[slice3],\n",
        "       simple_regret_exact_5[slice3],\n",
        "       simple_regret_exact_6[slice3],\n",
        "       simple_regret_exact_7[slice3],\n",
        "       simple_regret_exact_8[slice3],\n",
        "       simple_regret_exact_9[slice3],\n",
        "       simple_regret_exact_10[slice3],\n",
        "       simple_regret_exact_11[slice3],\n",
        "       simple_regret_exact_12[slice3],\n",
        "       simple_regret_exact_13[slice3],\n",
        "       simple_regret_exact_14[slice3],\n",
        "       simple_regret_exact_15[slice3],\n",
        "       simple_regret_exact_16[slice3],\n",
        "       simple_regret_exact_17[slice3],\n",
        "       simple_regret_exact_18[slice3],\n",
        "       simple_regret_exact_19[slice3],\n",
        "       simple_regret_exact_20[slice3]]\n",
        "\n",
        "approx3_results = pd.DataFrame(approx3).sort_values(by=[0], ascending=False)\n",
        "exact3_results = pd.DataFrame(exact3).sort_values(by=[0], ascending=False)\n",
        "\n",
        "### Best simple regret minimization IQR - approx:\n",
        "lower_approx3 = np.asarray(approx3_results[4:5][0])[0]\n",
        "median_approx3 = np.asarray(approx3_results[9:10][0])[0]\n",
        "upper_approx3 = np.asarray(approx3_results[14:15][0])[0]\n",
        "\n",
        "lower_exact3 = np.asarray(exact3_results[4:5][0])[0]\n",
        "median_exact3 = np.asarray(exact3_results[9:10][0])[0]\n",
        "upper_exact3 = np.asarray(exact3_results[14:15][0])[0]"
      ],
      "execution_count": 80,
      "outputs": []
    },
    {
      "cell_type": "code",
      "metadata": {
        "id": "plf83wxrQxf4"
      },
      "source": [
        "# Iteration13 :\n",
        "\n",
        "slice13 = 12\n",
        "\n",
        "approx13 = [simple_regret_approx_1[slice13],\n",
        "       simple_regret_approx_2[slice13],\n",
        "       simple_regret_approx_3[slice13],\n",
        "       simple_regret_approx_4[slice13],\n",
        "       simple_regret_approx_5[slice13],\n",
        "       simple_regret_approx_6[slice13],\n",
        "       simple_regret_approx_7[slice13],\n",
        "       simple_regret_approx_8[slice13],\n",
        "       simple_regret_approx_9[slice13],\n",
        "       simple_regret_approx_10[slice13],\n",
        "       simple_regret_approx_11[slice13],\n",
        "       simple_regret_approx_12[slice13],\n",
        "       simple_regret_approx_13[slice13],\n",
        "       simple_regret_approx_14[slice13],\n",
        "       simple_regret_approx_15[slice13],\n",
        "       simple_regret_approx_16[slice13],\n",
        "       simple_regret_approx_17[slice13],\n",
        "       simple_regret_approx_18[slice13],\n",
        "       simple_regret_approx_19[slice13],\n",
        "       simple_regret_approx_20[slice13]]\n",
        "\n",
        "exact13 = [simple_regret_exact_1[slice13],\n",
        "       simple_regret_exact_2[slice13],\n",
        "       simple_regret_exact_3[slice13],\n",
        "       simple_regret_exact_4[slice13],\n",
        "       simple_regret_exact_5[slice13],\n",
        "       simple_regret_exact_6[slice13],\n",
        "       simple_regret_exact_7[slice13],\n",
        "       simple_regret_exact_8[slice13],\n",
        "       simple_regret_exact_9[slice13],\n",
        "       simple_regret_exact_10[slice13],\n",
        "       simple_regret_exact_11[slice13],\n",
        "       simple_regret_exact_12[slice13],\n",
        "       simple_regret_exact_13[slice13],\n",
        "       simple_regret_exact_14[slice13],\n",
        "       simple_regret_exact_15[slice13],\n",
        "       simple_regret_exact_16[slice13],\n",
        "       simple_regret_exact_17[slice13],\n",
        "       simple_regret_exact_18[slice13],\n",
        "       simple_regret_exact_19[slice13],\n",
        "       simple_regret_exact_20[slice13]]\n",
        "\n",
        "approx13_results = pd.DataFrame(approx13).sort_values(by=[0], ascending=False)\n",
        "exact13_results = pd.DataFrame(exact13).sort_values(by=[0], ascending=False)\n",
        "\n",
        "### Best simple regret minimization IQR - approx:\n",
        "lower_approx13 = np.asarray(approx13_results[4:5][0])[0]\n",
        "median_approx13 = np.asarray(approx13_results[9:10][0])[0]\n",
        "upper_approx13 = np.asarray(approx13_results[14:15][0])[0]\n",
        "\n",
        "lower_exact13 = np.asarray(exact13_results[4:5][0])[0]\n",
        "median_exact13 = np.asarray(exact13_results[9:10][0])[0]\n",
        "upper_exact13 = np.asarray(exact13_results[14:15][0])[0]"
      ],
      "execution_count": 81,
      "outputs": []
    },
    {
      "cell_type": "code",
      "metadata": {
        "id": "9A7mlVvJQxf5"
      },
      "source": [
        "# Iteration4 :\n",
        "\n",
        "slice4 = 3\n",
        "\n",
        "approx4 = [simple_regret_approx_1[slice4],\n",
        "       simple_regret_approx_2[slice4],\n",
        "       simple_regret_approx_3[slice4],\n",
        "       simple_regret_approx_4[slice4],\n",
        "       simple_regret_approx_5[slice4],\n",
        "       simple_regret_approx_6[slice4],\n",
        "       simple_regret_approx_7[slice4],\n",
        "       simple_regret_approx_8[slice4],\n",
        "       simple_regret_approx_9[slice4],\n",
        "       simple_regret_approx_10[slice4],\n",
        "       simple_regret_approx_11[slice4],\n",
        "       simple_regret_approx_12[slice4],\n",
        "       simple_regret_approx_13[slice4],\n",
        "       simple_regret_approx_14[slice4],\n",
        "       simple_regret_approx_15[slice4],\n",
        "       simple_regret_approx_16[slice4],\n",
        "       simple_regret_approx_17[slice4],\n",
        "       simple_regret_approx_18[slice4],\n",
        "       simple_regret_approx_19[slice4],\n",
        "       simple_regret_approx_20[slice4]]\n",
        "\n",
        "exact4 = [simple_regret_exact_1[slice4],\n",
        "       simple_regret_exact_2[slice4],\n",
        "       simple_regret_exact_3[slice4],\n",
        "       simple_regret_exact_4[slice4],\n",
        "       simple_regret_exact_5[slice4],\n",
        "       simple_regret_exact_6[slice4],\n",
        "       simple_regret_exact_7[slice4],\n",
        "       simple_regret_exact_8[slice4],\n",
        "       simple_regret_exact_9[slice4],\n",
        "       simple_regret_exact_10[slice4],\n",
        "       simple_regret_exact_11[slice4],\n",
        "       simple_regret_exact_12[slice4],\n",
        "       simple_regret_exact_13[slice4],\n",
        "       simple_regret_exact_14[slice4],\n",
        "       simple_regret_exact_15[slice4],\n",
        "       simple_regret_exact_16[slice4],\n",
        "       simple_regret_exact_17[slice4],\n",
        "       simple_regret_exact_18[slice4],\n",
        "       simple_regret_exact_19[slice4],\n",
        "       simple_regret_exact_20[slice4]]\n",
        "\n",
        "approx4_results = pd.DataFrame(approx4).sort_values(by=[0], ascending=False)\n",
        "exact4_results = pd.DataFrame(exact4).sort_values(by=[0], ascending=False)\n",
        "\n",
        "### Best simple regret minimization IQR - approx:\n",
        "lower_approx4 = np.asarray(approx4_results[4:5][0])[0]\n",
        "median_approx4 = np.asarray(approx4_results[9:10][0])[0]\n",
        "upper_approx4 = np.asarray(approx4_results[14:15][0])[0]\n",
        "\n",
        "lower_exact4 = np.asarray(exact4_results[4:5][0])[0]\n",
        "median_exact4 = np.asarray(exact4_results[9:10][0])[0]\n",
        "upper_exact4 = np.asarray(exact4_results[14:15][0])[0]"
      ],
      "execution_count": 82,
      "outputs": []
    },
    {
      "cell_type": "code",
      "metadata": {
        "id": "ijq-rioYQxf5"
      },
      "source": [
        "# Iteration14 :\n",
        "\n",
        "slice14 = 13\n",
        "\n",
        "approx14 = [simple_regret_approx_1[slice14],\n",
        "       simple_regret_approx_2[slice14],\n",
        "       simple_regret_approx_3[slice14],\n",
        "       simple_regret_approx_4[slice14],\n",
        "       simple_regret_approx_5[slice14],\n",
        "       simple_regret_approx_6[slice14],\n",
        "       simple_regret_approx_7[slice14],\n",
        "       simple_regret_approx_8[slice14],\n",
        "       simple_regret_approx_9[slice14],\n",
        "       simple_regret_approx_10[slice14],\n",
        "       simple_regret_approx_11[slice14],\n",
        "       simple_regret_approx_12[slice14],\n",
        "       simple_regret_approx_13[slice14],\n",
        "       simple_regret_approx_14[slice14],\n",
        "       simple_regret_approx_15[slice14],\n",
        "       simple_regret_approx_16[slice14],\n",
        "       simple_regret_approx_17[slice14],\n",
        "       simple_regret_approx_18[slice14],\n",
        "       simple_regret_approx_19[slice14],\n",
        "       simple_regret_approx_20[slice14]]\n",
        "\n",
        "exact14 = [simple_regret_exact_1[slice14],\n",
        "       simple_regret_exact_2[slice14],\n",
        "       simple_regret_exact_3[slice14],\n",
        "       simple_regret_exact_4[slice14],\n",
        "       simple_regret_exact_5[slice14],\n",
        "       simple_regret_exact_6[slice14],\n",
        "       simple_regret_exact_7[slice14],\n",
        "       simple_regret_exact_8[slice14],\n",
        "       simple_regret_exact_9[slice14],\n",
        "       simple_regret_exact_10[slice14],\n",
        "       simple_regret_exact_11[slice14],\n",
        "       simple_regret_exact_12[slice14],\n",
        "       simple_regret_exact_13[slice14],\n",
        "       simple_regret_exact_14[slice14],\n",
        "       simple_regret_exact_15[slice14],\n",
        "       simple_regret_exact_16[slice14],\n",
        "       simple_regret_exact_17[slice14],\n",
        "       simple_regret_exact_18[slice14],\n",
        "       simple_regret_exact_19[slice14],\n",
        "       simple_regret_exact_20[slice14]]\n",
        "\n",
        "approx14_results = pd.DataFrame(approx14).sort_values(by=[0], ascending=False)\n",
        "exact14_results = pd.DataFrame(exact14).sort_values(by=[0], ascending=False)\n",
        "\n",
        "### Best simple regret minimization IQR - approx:\n",
        "lower_approx14 = np.asarray(approx14_results[4:5][0])[0]\n",
        "median_approx14 = np.asarray(approx14_results[9:10][0])[0]\n",
        "upper_approx14 = np.asarray(approx14_results[14:15][0])[0]\n",
        "\n",
        "lower_exact14 = np.asarray(exact14_results[4:5][0])[0]\n",
        "median_exact14 = np.asarray(exact14_results[9:10][0])[0]\n",
        "upper_exact14 = np.asarray(exact14_results[14:15][0])[0]"
      ],
      "execution_count": 83,
      "outputs": []
    },
    {
      "cell_type": "code",
      "metadata": {
        "id": "XINlZjoTd-ZK"
      },
      "source": [
        "# Iteration5 :\n",
        "\n",
        "slice5 = 4\n",
        "\n",
        "approx5 = [simple_regret_approx_1[slice5],\n",
        "       simple_regret_approx_2[slice5],\n",
        "       simple_regret_approx_3[slice5],\n",
        "       simple_regret_approx_4[slice5],\n",
        "       simple_regret_approx_5[slice5],\n",
        "       simple_regret_approx_6[slice5],\n",
        "       simple_regret_approx_7[slice5],\n",
        "       simple_regret_approx_8[slice5],\n",
        "       simple_regret_approx_9[slice5],\n",
        "       simple_regret_approx_10[slice5],\n",
        "       simple_regret_approx_11[slice5],\n",
        "       simple_regret_approx_12[slice5],\n",
        "       simple_regret_approx_13[slice5],\n",
        "       simple_regret_approx_14[slice5],\n",
        "       simple_regret_approx_15[slice5],\n",
        "       simple_regret_approx_16[slice5],\n",
        "       simple_regret_approx_17[slice5],\n",
        "       simple_regret_approx_18[slice5],\n",
        "       simple_regret_approx_19[slice5],\n",
        "       simple_regret_approx_20[slice5]]\n",
        "\n",
        "exact5 = [simple_regret_exact_1[slice5],\n",
        "       simple_regret_exact_2[slice5],\n",
        "       simple_regret_exact_3[slice5],\n",
        "       simple_regret_exact_4[slice5],\n",
        "       simple_regret_exact_5[slice5],\n",
        "       simple_regret_exact_6[slice5],\n",
        "       simple_regret_exact_7[slice5],\n",
        "       simple_regret_exact_8[slice5],\n",
        "       simple_regret_exact_9[slice5],\n",
        "       simple_regret_exact_10[slice5],\n",
        "       simple_regret_exact_11[slice5],\n",
        "       simple_regret_exact_12[slice5],\n",
        "       simple_regret_exact_13[slice5],\n",
        "       simple_regret_exact_14[slice5],\n",
        "       simple_regret_exact_15[slice5],\n",
        "       simple_regret_exact_16[slice5],\n",
        "       simple_regret_exact_17[slice5],\n",
        "       simple_regret_exact_18[slice5],\n",
        "       simple_regret_exact_19[slice5],\n",
        "       simple_regret_exact_20[slice5]]\n",
        "\n",
        "approx5_results = pd.DataFrame(approx5).sort_values(by=[0], ascending=False)\n",
        "exact5_results = pd.DataFrame(exact5).sort_values(by=[0], ascending=False)\n",
        "\n",
        "### Best simple regret minimization IQR - approx:\n",
        "lower_approx5 = np.asarray(approx5_results[4:5][0])[0]\n",
        "median_approx5 = np.asarray(approx5_results[9:10][0])[0]\n",
        "upper_approx5 = np.asarray(approx5_results[14:15][0])[0]\n",
        "\n",
        "lower_exact5 = np.asarray(exact5_results[4:5][0])[0]\n",
        "median_exact5 = np.asarray(exact5_results[9:10][0])[0]\n",
        "upper_exact5 = np.asarray(exact5_results[14:15][0])[0]"
      ],
      "execution_count": 84,
      "outputs": []
    },
    {
      "cell_type": "code",
      "metadata": {
        "id": "4aZ7C8sOQxf6"
      },
      "source": [
        "# Iteration15 :\n",
        "\n",
        "slice15 = 14\n",
        "\n",
        "approx15 = [simple_regret_approx_1[slice15],\n",
        "       simple_regret_approx_2[slice15],\n",
        "       simple_regret_approx_3[slice15],\n",
        "       simple_regret_approx_4[slice15],\n",
        "       simple_regret_approx_5[slice15],\n",
        "       simple_regret_approx_6[slice15],\n",
        "       simple_regret_approx_7[slice15],\n",
        "       simple_regret_approx_8[slice15],\n",
        "       simple_regret_approx_9[slice15],\n",
        "       simple_regret_approx_10[slice15],\n",
        "       simple_regret_approx_11[slice15],\n",
        "       simple_regret_approx_12[slice15],\n",
        "       simple_regret_approx_13[slice15],\n",
        "       simple_regret_approx_14[slice15],\n",
        "       simple_regret_approx_15[slice15],\n",
        "       simple_regret_approx_16[slice15],\n",
        "       simple_regret_approx_17[slice15],\n",
        "       simple_regret_approx_18[slice15],\n",
        "       simple_regret_approx_19[slice15],\n",
        "       simple_regret_approx_20[slice15]]\n",
        "\n",
        "exact15 = [simple_regret_exact_1[slice15],\n",
        "       simple_regret_exact_2[slice15],\n",
        "       simple_regret_exact_3[slice15],\n",
        "       simple_regret_exact_4[slice15],\n",
        "       simple_regret_exact_5[slice15],\n",
        "       simple_regret_exact_6[slice15],\n",
        "       simple_regret_exact_7[slice15],\n",
        "       simple_regret_exact_8[slice15],\n",
        "       simple_regret_exact_9[slice15],\n",
        "       simple_regret_exact_10[slice15],\n",
        "       simple_regret_exact_11[slice15],\n",
        "       simple_regret_exact_12[slice15],\n",
        "       simple_regret_exact_13[slice15],\n",
        "       simple_regret_exact_14[slice15],\n",
        "       simple_regret_exact_15[slice15],\n",
        "       simple_regret_exact_16[slice15],\n",
        "       simple_regret_exact_17[slice15],\n",
        "       simple_regret_exact_18[slice15],\n",
        "       simple_regret_exact_19[slice15],\n",
        "       simple_regret_exact_20[slice15]]\n",
        "\n",
        "approx15_results = pd.DataFrame(approx15).sort_values(by=[0], ascending=False)\n",
        "exact15_results = pd.DataFrame(exact15).sort_values(by=[0], ascending=False)\n",
        "\n",
        "### Best simple regret minimization IQR - approx:\n",
        "lower_approx15 = np.asarray(approx15_results[4:5][0])[0]\n",
        "median_approx15 = np.asarray(approx15_results[9:10][0])[0]\n",
        "upper_approx15 = np.asarray(approx15_results[14:15][0])[0]\n",
        "\n",
        "lower_exact15 = np.asarray(exact15_results[4:5][0])[0]\n",
        "median_exact15 = np.asarray(exact15_results[9:10][0])[0]\n",
        "upper_exact15 = np.asarray(exact15_results[14:15][0])[0]"
      ],
      "execution_count": 85,
      "outputs": []
    },
    {
      "cell_type": "code",
      "metadata": {
        "id": "KJINKhv1Qxf6"
      },
      "source": [
        "# Iteration6 :\n",
        "\n",
        "slice6 = 5\n",
        "\n",
        "approx6 = [simple_regret_approx_1[slice6],\n",
        "       simple_regret_approx_2[slice6],\n",
        "       simple_regret_approx_3[slice6],\n",
        "       simple_regret_approx_4[slice6],\n",
        "       simple_regret_approx_5[slice6],\n",
        "       simple_regret_approx_6[slice6],\n",
        "       simple_regret_approx_7[slice6],\n",
        "       simple_regret_approx_8[slice6],\n",
        "       simple_regret_approx_9[slice6],\n",
        "       simple_regret_approx_10[slice6],\n",
        "       simple_regret_approx_11[slice6],\n",
        "       simple_regret_approx_12[slice6],\n",
        "       simple_regret_approx_13[slice6],\n",
        "       simple_regret_approx_14[slice6],\n",
        "       simple_regret_approx_15[slice6],\n",
        "       simple_regret_approx_16[slice6],\n",
        "       simple_regret_approx_17[slice6],\n",
        "       simple_regret_approx_18[slice6],\n",
        "       simple_regret_approx_19[slice6],\n",
        "       simple_regret_approx_20[slice6]]\n",
        "\n",
        "exact6 = [simple_regret_exact_1[slice6],\n",
        "       simple_regret_exact_2[slice6],\n",
        "       simple_regret_exact_3[slice6],\n",
        "       simple_regret_exact_4[slice6],\n",
        "       simple_regret_exact_5[slice6],\n",
        "       simple_regret_exact_6[slice6],\n",
        "       simple_regret_exact_7[slice6],\n",
        "       simple_regret_exact_8[slice6],\n",
        "       simple_regret_exact_9[slice6],\n",
        "       simple_regret_exact_10[slice6],\n",
        "       simple_regret_exact_11[slice6],\n",
        "       simple_regret_exact_12[slice6],\n",
        "       simple_regret_exact_13[slice6],\n",
        "       simple_regret_exact_14[slice6],\n",
        "       simple_regret_exact_15[slice6],\n",
        "       simple_regret_exact_16[slice6],\n",
        "       simple_regret_exact_17[slice6],\n",
        "       simple_regret_exact_18[slice6],\n",
        "       simple_regret_exact_19[slice6],\n",
        "       simple_regret_exact_20[slice6]]\n",
        "\n",
        "approx6_results = pd.DataFrame(approx6).sort_values(by=[0], ascending=False)\n",
        "exact6_results = pd.DataFrame(exact6).sort_values(by=[0], ascending=False)\n",
        "\n",
        "### Best simple regret minimization IQR - approx:\n",
        "lower_approx6 = np.asarray(approx6_results[4:5][0])[0]\n",
        "median_approx6 = np.asarray(approx6_results[9:10][0])[0]\n",
        "upper_approx6 = np.asarray(approx6_results[14:15][0])[0]\n",
        "\n",
        "lower_exact6 = np.asarray(exact6_results[4:5][0])[0]\n",
        "median_exact6 = np.asarray(exact6_results[9:10][0])[0]\n",
        "upper_exact6 = np.asarray(exact6_results[14:15][0])[0]"
      ],
      "execution_count": 86,
      "outputs": []
    },
    {
      "cell_type": "code",
      "metadata": {
        "id": "nwC5N1FsQxf7"
      },
      "source": [
        "# Iteration16 :\n",
        "\n",
        "slice16 = 15\n",
        "\n",
        "approx16 = [simple_regret_approx_1[slice16],\n",
        "       simple_regret_approx_2[slice16],\n",
        "       simple_regret_approx_3[slice16],\n",
        "       simple_regret_approx_4[slice16],\n",
        "       simple_regret_approx_5[slice16],\n",
        "       simple_regret_approx_6[slice16],\n",
        "       simple_regret_approx_7[slice16],\n",
        "       simple_regret_approx_8[slice16],\n",
        "       simple_regret_approx_9[slice16],\n",
        "       simple_regret_approx_10[slice16],\n",
        "       simple_regret_approx_11[slice16],\n",
        "       simple_regret_approx_12[slice16],\n",
        "       simple_regret_approx_13[slice16],\n",
        "       simple_regret_approx_14[slice16],\n",
        "       simple_regret_approx_15[slice16],\n",
        "       simple_regret_approx_16[slice16],\n",
        "       simple_regret_approx_17[slice16],\n",
        "       simple_regret_approx_18[slice16],\n",
        "       simple_regret_approx_19[slice16],\n",
        "       simple_regret_approx_20[slice16]]\n",
        "\n",
        "exact16 = [simple_regret_exact_1[slice16],\n",
        "       simple_regret_exact_2[slice16],\n",
        "       simple_regret_exact_3[slice16],\n",
        "       simple_regret_exact_4[slice16],\n",
        "       simple_regret_exact_5[slice16],\n",
        "       simple_regret_exact_6[slice16],\n",
        "       simple_regret_exact_7[slice16],\n",
        "       simple_regret_exact_8[slice16],\n",
        "       simple_regret_exact_9[slice16],\n",
        "       simple_regret_exact_10[slice16],\n",
        "       simple_regret_exact_11[slice16],\n",
        "       simple_regret_exact_12[slice16],\n",
        "       simple_regret_exact_13[slice16],\n",
        "       simple_regret_exact_14[slice16],\n",
        "       simple_regret_exact_15[slice16],\n",
        "       simple_regret_exact_16[slice16],\n",
        "       simple_regret_exact_17[slice16],\n",
        "       simple_regret_exact_18[slice16],\n",
        "       simple_regret_exact_19[slice16],\n",
        "       simple_regret_exact_20[slice16]]\n",
        "\n",
        "approx16_results = pd.DataFrame(approx16).sort_values(by=[0], ascending=False)\n",
        "exact16_results = pd.DataFrame(exact16).sort_values(by=[0], ascending=False)\n",
        "\n",
        "### Best simple regret minimization IQR - approx:\n",
        "lower_approx16 = np.asarray(approx16_results[4:5][0])[0]\n",
        "median_approx16 = np.asarray(approx16_results[9:10][0])[0]\n",
        "upper_approx16 = np.asarray(approx16_results[14:15][0])[0]\n",
        "\n",
        "lower_exact16 = np.asarray(exact16_results[4:5][0])[0]\n",
        "median_exact16 = np.asarray(exact16_results[9:10][0])[0]\n",
        "upper_exact16 = np.asarray(exact16_results[14:15][0])[0]"
      ],
      "execution_count": 87,
      "outputs": []
    },
    {
      "cell_type": "code",
      "metadata": {
        "id": "TrPV0AfnQxf7"
      },
      "source": [
        "# Iteration7 :\n",
        "\n",
        "slice7 = 6\n",
        "\n",
        "approx7 = [simple_regret_approx_1[slice7],\n",
        "       simple_regret_approx_2[slice7],\n",
        "       simple_regret_approx_3[slice7],\n",
        "       simple_regret_approx_4[slice7],\n",
        "       simple_regret_approx_5[slice7],\n",
        "       simple_regret_approx_6[slice7],\n",
        "       simple_regret_approx_7[slice7],\n",
        "       simple_regret_approx_8[slice7],\n",
        "       simple_regret_approx_9[slice7],\n",
        "       simple_regret_approx_10[slice7],\n",
        "       simple_regret_approx_11[slice7],\n",
        "       simple_regret_approx_12[slice7],\n",
        "       simple_regret_approx_13[slice7],\n",
        "       simple_regret_approx_14[slice7],\n",
        "       simple_regret_approx_15[slice7],\n",
        "       simple_regret_approx_16[slice7],\n",
        "       simple_regret_approx_17[slice7],\n",
        "       simple_regret_approx_18[slice7],\n",
        "       simple_regret_approx_19[slice7],\n",
        "       simple_regret_approx_20[slice7]]\n",
        "\n",
        "exact7 = [simple_regret_exact_1[slice7],\n",
        "       simple_regret_exact_2[slice7],\n",
        "       simple_regret_exact_3[slice7],\n",
        "       simple_regret_exact_4[slice7],\n",
        "       simple_regret_exact_5[slice7],\n",
        "       simple_regret_exact_6[slice7],\n",
        "       simple_regret_exact_7[slice7],\n",
        "       simple_regret_exact_8[slice7],\n",
        "       simple_regret_exact_9[slice7],\n",
        "       simple_regret_exact_10[slice7],\n",
        "       simple_regret_exact_11[slice7],\n",
        "       simple_regret_exact_12[slice7],\n",
        "       simple_regret_exact_13[slice7],\n",
        "       simple_regret_exact_14[slice7],\n",
        "       simple_regret_exact_15[slice7],\n",
        "       simple_regret_exact_16[slice7],\n",
        "       simple_regret_exact_17[slice7],\n",
        "       simple_regret_exact_18[slice7],\n",
        "       simple_regret_exact_19[slice7],\n",
        "       simple_regret_exact_20[slice7]]\n",
        "\n",
        "approx7_results = pd.DataFrame(approx7).sort_values(by=[0], ascending=False)\n",
        "exact7_results = pd.DataFrame(exact7).sort_values(by=[0], ascending=False)\n",
        "\n",
        "### Best simple regret minimization IQR - approx:\n",
        "lower_approx7 = np.asarray(approx7_results[4:5][0])[0]\n",
        "median_approx7 = np.asarray(approx7_results[9:10][0])[0]\n",
        "upper_approx7 = np.asarray(approx7_results[14:15][0])[0]\n",
        "\n",
        "lower_exact7 = np.asarray(exact7_results[4:5][0])[0]\n",
        "median_exact7 = np.asarray(exact7_results[9:10][0])[0]\n",
        "upper_exact7 = np.asarray(exact7_results[14:15][0])[0]"
      ],
      "execution_count": 88,
      "outputs": []
    },
    {
      "cell_type": "code",
      "metadata": {
        "id": "Ub_-wpK4Qxf8"
      },
      "source": [
        "# Iteration17 :\n",
        "\n",
        "slice17 = 16\n",
        "\n",
        "approx17 = [simple_regret_approx_1[slice17],\n",
        "       simple_regret_approx_2[slice17],\n",
        "       simple_regret_approx_3[slice17],\n",
        "       simple_regret_approx_4[slice17],\n",
        "       simple_regret_approx_5[slice17],\n",
        "       simple_regret_approx_6[slice17],\n",
        "       simple_regret_approx_7[slice17],\n",
        "       simple_regret_approx_8[slice17],\n",
        "       simple_regret_approx_9[slice17],\n",
        "       simple_regret_approx_10[slice17],\n",
        "       simple_regret_approx_11[slice17],\n",
        "       simple_regret_approx_12[slice17],\n",
        "       simple_regret_approx_13[slice17],\n",
        "       simple_regret_approx_14[slice17],\n",
        "       simple_regret_approx_15[slice17],\n",
        "       simple_regret_approx_16[slice17],\n",
        "       simple_regret_approx_17[slice17],\n",
        "       simple_regret_approx_18[slice17],\n",
        "       simple_regret_approx_19[slice17],\n",
        "       simple_regret_approx_20[slice17]]\n",
        "\n",
        "exact17 = [simple_regret_exact_1[slice17],\n",
        "       simple_regret_exact_2[slice17],\n",
        "       simple_regret_exact_3[slice17],\n",
        "       simple_regret_exact_4[slice17],\n",
        "       simple_regret_exact_5[slice17],\n",
        "       simple_regret_exact_6[slice17],\n",
        "       simple_regret_exact_7[slice17],\n",
        "       simple_regret_exact_8[slice17],\n",
        "       simple_regret_exact_9[slice17],\n",
        "       simple_regret_exact_10[slice17],\n",
        "       simple_regret_exact_11[slice17],\n",
        "       simple_regret_exact_12[slice17],\n",
        "       simple_regret_exact_13[slice17],\n",
        "       simple_regret_exact_14[slice17],\n",
        "       simple_regret_exact_15[slice17],\n",
        "       simple_regret_exact_16[slice17],\n",
        "       simple_regret_exact_17[slice17],\n",
        "       simple_regret_exact_18[slice17],\n",
        "       simple_regret_exact_19[slice17],\n",
        "       simple_regret_exact_20[slice17]]\n",
        "\n",
        "approx17_results = pd.DataFrame(approx17).sort_values(by=[0], ascending=False)\n",
        "exact17_results = pd.DataFrame(exact17).sort_values(by=[0], ascending=False)\n",
        "\n",
        "### Best simple regret minimization IQR - approx:\n",
        "lower_approx17 = np.asarray(approx17_results[4:5][0])[0]\n",
        "median_approx17 = np.asarray(approx17_results[9:10][0])[0]\n",
        "upper_approx17 = np.asarray(approx17_results[14:15][0])[0]\n",
        "\n",
        "lower_exact17 = np.asarray(exact17_results[4:5][0])[0]\n",
        "median_exact17 = np.asarray(exact17_results[9:10][0])[0]\n",
        "upper_exact17 = np.asarray(exact17_results[14:15][0])[0]"
      ],
      "execution_count": 89,
      "outputs": []
    },
    {
      "cell_type": "code",
      "metadata": {
        "id": "-6VLo37PQxf8"
      },
      "source": [
        "# Iteration8 :\n",
        "\n",
        "slice8 = 7\n",
        "\n",
        "approx8 = [simple_regret_approx_1[slice8],\n",
        "       simple_regret_approx_2[slice8],\n",
        "       simple_regret_approx_3[slice8],\n",
        "       simple_regret_approx_4[slice8],\n",
        "       simple_regret_approx_5[slice8],\n",
        "       simple_regret_approx_6[slice8],\n",
        "       simple_regret_approx_7[slice8],\n",
        "       simple_regret_approx_8[slice8],\n",
        "       simple_regret_approx_9[slice8],\n",
        "       simple_regret_approx_10[slice8],\n",
        "       simple_regret_approx_11[slice8],\n",
        "       simple_regret_approx_12[slice8],\n",
        "       simple_regret_approx_13[slice8],\n",
        "       simple_regret_approx_14[slice8],\n",
        "       simple_regret_approx_15[slice8],\n",
        "       simple_regret_approx_16[slice8],\n",
        "       simple_regret_approx_17[slice8],\n",
        "       simple_regret_approx_18[slice8],\n",
        "       simple_regret_approx_19[slice8],\n",
        "       simple_regret_approx_20[slice8]]\n",
        "\n",
        "exact8 = [simple_regret_exact_1[slice8],\n",
        "       simple_regret_exact_2[slice8],\n",
        "       simple_regret_exact_3[slice8],\n",
        "       simple_regret_exact_4[slice8],\n",
        "       simple_regret_exact_5[slice8],\n",
        "       simple_regret_exact_6[slice8],\n",
        "       simple_regret_exact_7[slice8],\n",
        "       simple_regret_exact_8[slice8],\n",
        "       simple_regret_exact_9[slice8],\n",
        "       simple_regret_exact_10[slice8],\n",
        "       simple_regret_exact_11[slice8],\n",
        "       simple_regret_exact_12[slice8],\n",
        "       simple_regret_exact_13[slice8],\n",
        "       simple_regret_exact_14[slice8],\n",
        "       simple_regret_exact_15[slice8],\n",
        "       simple_regret_exact_16[slice8],\n",
        "       simple_regret_exact_17[slice8],\n",
        "       simple_regret_exact_18[slice8],\n",
        "       simple_regret_exact_19[slice8],\n",
        "       simple_regret_exact_20[slice8]]\n",
        "\n",
        "approx8_results = pd.DataFrame(approx8).sort_values(by=[0], ascending=False)\n",
        "exact8_results = pd.DataFrame(exact8).sort_values(by=[0], ascending=False)\n",
        "\n",
        "### Best simple regret minimization IQR - approx:\n",
        "lower_approx8 = np.asarray(approx8_results[4:5][0])[0]\n",
        "median_approx8 = np.asarray(approx8_results[9:10][0])[0]\n",
        "upper_approx8 = np.asarray(approx8_results[14:15][0])[0]\n",
        "\n",
        "lower_exact8 = np.asarray(exact8_results[4:5][0])[0]\n",
        "median_exact8 = np.asarray(exact8_results[9:10][0])[0]\n",
        "upper_exact8 = np.asarray(exact8_results[14:15][0])[0]"
      ],
      "execution_count": 90,
      "outputs": []
    },
    {
      "cell_type": "code",
      "metadata": {
        "id": "2Dp-9CC2Qxf9"
      },
      "source": [
        "# Iteration18 :\n",
        "\n",
        "slice18 = 17\n",
        "\n",
        "approx18 = [simple_regret_approx_1[slice18],\n",
        "       simple_regret_approx_2[slice18],\n",
        "       simple_regret_approx_3[slice18],\n",
        "       simple_regret_approx_4[slice18],\n",
        "       simple_regret_approx_5[slice18],\n",
        "       simple_regret_approx_6[slice18],\n",
        "       simple_regret_approx_7[slice18],\n",
        "       simple_regret_approx_8[slice18],\n",
        "       simple_regret_approx_9[slice18],\n",
        "       simple_regret_approx_10[slice18],\n",
        "       simple_regret_approx_11[slice18],\n",
        "       simple_regret_approx_12[slice18],\n",
        "       simple_regret_approx_13[slice18],\n",
        "       simple_regret_approx_14[slice18],\n",
        "       simple_regret_approx_15[slice18],\n",
        "       simple_regret_approx_16[slice18],\n",
        "       simple_regret_approx_17[slice18],\n",
        "       simple_regret_approx_18[slice18],\n",
        "       simple_regret_approx_19[slice18],\n",
        "       simple_regret_approx_20[slice18]]\n",
        "\n",
        "exact18 = [simple_regret_exact_1[slice18],\n",
        "       simple_regret_exact_2[slice18],\n",
        "       simple_regret_exact_3[slice18],\n",
        "       simple_regret_exact_4[slice18],\n",
        "       simple_regret_exact_5[slice18],\n",
        "       simple_regret_exact_6[slice18],\n",
        "       simple_regret_exact_7[slice18],\n",
        "       simple_regret_exact_8[slice18],\n",
        "       simple_regret_exact_9[slice18],\n",
        "       simple_regret_exact_10[slice18],\n",
        "       simple_regret_exact_11[slice18],\n",
        "       simple_regret_exact_12[slice18],\n",
        "       simple_regret_exact_13[slice18],\n",
        "       simple_regret_exact_14[slice18],\n",
        "       simple_regret_exact_15[slice18],\n",
        "       simple_regret_exact_16[slice18],\n",
        "       simple_regret_exact_17[slice18],\n",
        "       simple_regret_exact_18[slice18],\n",
        "       simple_regret_exact_19[slice18],\n",
        "       simple_regret_exact_20[slice18]]\n",
        "\n",
        "approx18_results = pd.DataFrame(approx18).sort_values(by=[0], ascending=False)\n",
        "exact18_results = pd.DataFrame(exact18).sort_values(by=[0], ascending=False)\n",
        "\n",
        "### Best simple regret minimization IQR - approx:\n",
        "lower_approx18 = np.asarray(approx18_results[4:5][0])[0]\n",
        "median_approx18 = np.asarray(approx18_results[9:10][0])[0]\n",
        "upper_approx18 = np.asarray(approx18_results[14:15][0])[0]\n",
        "\n",
        "lower_exact18 = np.asarray(exact18_results[4:5][0])[0]\n",
        "median_exact18 = np.asarray(exact18_results[9:10][0])[0]\n",
        "upper_exact18 = np.asarray(exact18_results[14:15][0])[0]"
      ],
      "execution_count": 91,
      "outputs": []
    },
    {
      "cell_type": "code",
      "metadata": {
        "id": "SqiaOpB7Qxf9"
      },
      "source": [
        "# Iteration9 :\n",
        "\n",
        "slice9 = 8\n",
        "\n",
        "approx9 = [simple_regret_approx_1[slice9],\n",
        "       simple_regret_approx_2[slice9],\n",
        "       simple_regret_approx_3[slice9],\n",
        "       simple_regret_approx_4[slice9],\n",
        "       simple_regret_approx_5[slice9],\n",
        "       simple_regret_approx_6[slice9],\n",
        "       simple_regret_approx_7[slice9],\n",
        "       simple_regret_approx_8[slice9],\n",
        "       simple_regret_approx_9[slice9],\n",
        "       simple_regret_approx_10[slice9],\n",
        "       simple_regret_approx_11[slice9],\n",
        "       simple_regret_approx_12[slice9],\n",
        "       simple_regret_approx_13[slice9],\n",
        "       simple_regret_approx_14[slice9],\n",
        "       simple_regret_approx_15[slice9],\n",
        "       simple_regret_approx_16[slice9],\n",
        "       simple_regret_approx_17[slice9],\n",
        "       simple_regret_approx_18[slice9],\n",
        "       simple_regret_approx_19[slice9],\n",
        "       simple_regret_approx_20[slice9]]\n",
        "\n",
        "exact9 = [simple_regret_exact_1[slice9],\n",
        "       simple_regret_exact_2[slice9],\n",
        "       simple_regret_exact_3[slice9],\n",
        "       simple_regret_exact_4[slice9],\n",
        "       simple_regret_exact_5[slice9],\n",
        "       simple_regret_exact_6[slice9],\n",
        "       simple_regret_exact_7[slice9],\n",
        "       simple_regret_exact_8[slice9],\n",
        "       simple_regret_exact_9[slice9],\n",
        "       simple_regret_exact_10[slice9],\n",
        "       simple_regret_exact_11[slice9],\n",
        "       simple_regret_exact_12[slice9],\n",
        "       simple_regret_exact_13[slice9],\n",
        "       simple_regret_exact_14[slice9],\n",
        "       simple_regret_exact_15[slice9],\n",
        "       simple_regret_exact_16[slice9],\n",
        "       simple_regret_exact_17[slice9],\n",
        "       simple_regret_exact_18[slice9],\n",
        "       simple_regret_exact_19[slice9],\n",
        "       simple_regret_exact_20[slice9]]\n",
        "\n",
        "approx9_results = pd.DataFrame(approx9).sort_values(by=[0], ascending=False)\n",
        "exact9_results = pd.DataFrame(exact9).sort_values(by=[0], ascending=False)\n",
        "\n",
        "### Best simple regret minimization IQR - approx:\n",
        "lower_approx9 = np.asarray(approx9_results[4:5][0])[0]\n",
        "median_approx9 = np.asarray(approx9_results[9:10][0])[0]\n",
        "upper_approx9 = np.asarray(approx9_results[14:15][0])[0]\n",
        "\n",
        "lower_exact9 = np.asarray(exact9_results[4:5][0])[0]\n",
        "median_exact9 = np.asarray(exact9_results[9:10][0])[0]\n",
        "upper_exact9 = np.asarray(exact9_results[14:15][0])[0]"
      ],
      "execution_count": 92,
      "outputs": []
    },
    {
      "cell_type": "code",
      "metadata": {
        "id": "OQkCCOsPQxf9"
      },
      "source": [
        "# Iteration19 :\n",
        "\n",
        "slice19 = 18\n",
        "\n",
        "approx19 = [simple_regret_approx_1[slice19],\n",
        "       simple_regret_approx_2[slice19],\n",
        "       simple_regret_approx_3[slice19],\n",
        "       simple_regret_approx_4[slice19],\n",
        "       simple_regret_approx_5[slice19],\n",
        "       simple_regret_approx_6[slice19],\n",
        "       simple_regret_approx_7[slice19],\n",
        "       simple_regret_approx_8[slice19],\n",
        "       simple_regret_approx_9[slice19],\n",
        "       simple_regret_approx_10[slice19],\n",
        "       simple_regret_approx_11[slice19],\n",
        "       simple_regret_approx_12[slice19],\n",
        "       simple_regret_approx_13[slice19],\n",
        "       simple_regret_approx_14[slice19],\n",
        "       simple_regret_approx_15[slice19],\n",
        "       simple_regret_approx_16[slice19],\n",
        "       simple_regret_approx_17[slice19],\n",
        "       simple_regret_approx_18[slice19],\n",
        "       simple_regret_approx_19[slice19],\n",
        "       simple_regret_approx_20[slice19]]\n",
        "\n",
        "exact19 = [simple_regret_exact_1[slice19],\n",
        "       simple_regret_exact_2[slice19],\n",
        "       simple_regret_exact_3[slice19],\n",
        "       simple_regret_exact_4[slice19],\n",
        "       simple_regret_exact_5[slice19],\n",
        "       simple_regret_exact_6[slice19],\n",
        "       simple_regret_exact_7[slice19],\n",
        "       simple_regret_exact_8[slice19],\n",
        "       simple_regret_exact_9[slice19],\n",
        "       simple_regret_exact_10[slice19],\n",
        "       simple_regret_exact_11[slice19],\n",
        "       simple_regret_exact_12[slice19],\n",
        "       simple_regret_exact_13[slice19],\n",
        "       simple_regret_exact_14[slice19],\n",
        "       simple_regret_exact_15[slice19],\n",
        "       simple_regret_exact_16[slice19],\n",
        "       simple_regret_exact_17[slice19],\n",
        "       simple_regret_exact_18[slice19],\n",
        "       simple_regret_exact_19[slice19],\n",
        "       simple_regret_exact_20[slice19]]\n",
        "\n",
        "approx19_results = pd.DataFrame(approx19).sort_values(by=[0], ascending=False)\n",
        "exact19_results = pd.DataFrame(exact19).sort_values(by=[0], ascending=False)\n",
        "\n",
        "### Best simple regret minimization IQR - approx:\n",
        "lower_approx19 = np.asarray(approx19_results[4:5][0])[0]\n",
        "median_approx19 = np.asarray(approx19_results[9:10][0])[0]\n",
        "upper_approx19 = np.asarray(approx19_results[14:15][0])[0]\n",
        "\n",
        "lower_exact19 = np.asarray(exact19_results[4:5][0])[0]\n",
        "median_exact19 = np.asarray(exact19_results[9:10][0])[0]\n",
        "upper_exact19 = np.asarray(exact19_results[14:15][0])[0]"
      ],
      "execution_count": 93,
      "outputs": []
    },
    {
      "cell_type": "code",
      "metadata": {
        "id": "h4vtWahcQxf-"
      },
      "source": [
        "# Iteration10 :\n",
        "\n",
        "slice10 = 9\n",
        "\n",
        "approx10 = [simple_regret_approx_1[slice10],\n",
        "       simple_regret_approx_2[slice10],\n",
        "       simple_regret_approx_3[slice10],\n",
        "       simple_regret_approx_4[slice10],\n",
        "       simple_regret_approx_5[slice10],\n",
        "       simple_regret_approx_6[slice10],\n",
        "       simple_regret_approx_7[slice10],\n",
        "       simple_regret_approx_8[slice10],\n",
        "       simple_regret_approx_9[slice10],\n",
        "       simple_regret_approx_10[slice10],\n",
        "       simple_regret_approx_11[slice10],\n",
        "       simple_regret_approx_12[slice10],\n",
        "       simple_regret_approx_13[slice10],\n",
        "       simple_regret_approx_14[slice10],\n",
        "       simple_regret_approx_15[slice10],\n",
        "       simple_regret_approx_16[slice10],\n",
        "       simple_regret_approx_17[slice10],\n",
        "       simple_regret_approx_18[slice10],\n",
        "       simple_regret_approx_19[slice10],\n",
        "       simple_regret_approx_20[slice10]]\n",
        "\n",
        "exact10 = [simple_regret_exact_1[slice10],\n",
        "       simple_regret_exact_2[slice10],\n",
        "       simple_regret_exact_3[slice10],\n",
        "       simple_regret_exact_4[slice10],\n",
        "       simple_regret_exact_5[slice10],\n",
        "       simple_regret_exact_6[slice10],\n",
        "       simple_regret_exact_7[slice10],\n",
        "       simple_regret_exact_8[slice10],\n",
        "       simple_regret_exact_9[slice10],\n",
        "       simple_regret_exact_10[slice10],\n",
        "       simple_regret_exact_11[slice10],\n",
        "       simple_regret_exact_12[slice10],\n",
        "       simple_regret_exact_13[slice10],\n",
        "       simple_regret_exact_14[slice10],\n",
        "       simple_regret_exact_15[slice10],\n",
        "       simple_regret_exact_16[slice10],\n",
        "       simple_regret_exact_17[slice10],\n",
        "       simple_regret_exact_18[slice10],\n",
        "       simple_regret_exact_19[slice10],\n",
        "       simple_regret_exact_20[slice10]]\n",
        "\n",
        "approx10_results = pd.DataFrame(approx10).sort_values(by=[0], ascending=False)\n",
        "exact10_results = pd.DataFrame(exact10).sort_values(by=[0], ascending=False)\n",
        "\n",
        "### Best simple regret minimization IQR - approx:\n",
        "lower_approx10 = np.asarray(approx10_results[4:5][0])[0]\n",
        "median_approx10 = np.asarray(approx10_results[9:10][0])[0]\n",
        "upper_approx10 = np.asarray(approx10_results[14:15][0])[0]\n",
        "\n",
        "lower_exact10 = np.asarray(exact10_results[4:5][0])[0]\n",
        "median_exact10 = np.asarray(exact10_results[9:10][0])[0]\n",
        "upper_exact10 = np.asarray(exact10_results[14:15][0])[0]"
      ],
      "execution_count": 94,
      "outputs": []
    },
    {
      "cell_type": "code",
      "metadata": {
        "id": "Rsf240pWQxf-"
      },
      "source": [
        "# Iteration20 :\n",
        "\n",
        "slice20 = 19\n",
        "\n",
        "approx20 = [simple_regret_approx_1[slice20],\n",
        "       simple_regret_approx_2[slice20],\n",
        "       simple_regret_approx_3[slice20],\n",
        "       simple_regret_approx_4[slice20],\n",
        "       simple_regret_approx_5[slice20],\n",
        "       simple_regret_approx_6[slice20],\n",
        "       simple_regret_approx_7[slice20],\n",
        "       simple_regret_approx_8[slice20],\n",
        "       simple_regret_approx_9[slice20],\n",
        "       simple_regret_approx_10[slice20],\n",
        "       simple_regret_approx_11[slice20],\n",
        "       simple_regret_approx_12[slice20],\n",
        "       simple_regret_approx_13[slice20],\n",
        "       simple_regret_approx_14[slice20],\n",
        "       simple_regret_approx_15[slice20],\n",
        "       simple_regret_approx_16[slice20],\n",
        "       simple_regret_approx_17[slice20],\n",
        "       simple_regret_approx_18[slice20],\n",
        "       simple_regret_approx_19[slice20],\n",
        "       simple_regret_approx_20[slice20]]\n",
        "\n",
        "exact20 = [simple_regret_exact_1[slice20],\n",
        "       simple_regret_exact_2[slice20],\n",
        "       simple_regret_exact_3[slice20],\n",
        "       simple_regret_exact_4[slice20],\n",
        "       simple_regret_exact_5[slice20],\n",
        "       simple_regret_exact_6[slice20],\n",
        "       simple_regret_exact_7[slice20],\n",
        "       simple_regret_exact_8[slice20],\n",
        "       simple_regret_exact_9[slice20],\n",
        "       simple_regret_exact_10[slice20],\n",
        "       simple_regret_exact_11[slice20],\n",
        "       simple_regret_exact_12[slice20],\n",
        "       simple_regret_exact_13[slice20],\n",
        "       simple_regret_exact_14[slice20],\n",
        "       simple_regret_exact_15[slice20],\n",
        "       simple_regret_exact_16[slice20],\n",
        "       simple_regret_exact_17[slice20],\n",
        "       simple_regret_exact_18[slice20],\n",
        "       simple_regret_exact_19[slice20],\n",
        "       simple_regret_exact_20[slice20]]\n",
        "\n",
        "approx20_results = pd.DataFrame(approx20).sort_values(by=[0], ascending=False)\n",
        "exact20_results = pd.DataFrame(exact20).sort_values(by=[0], ascending=False)\n",
        "\n",
        "### Best simple regret minimization IQR - approx:\n",
        "lower_approx20 = np.asarray(approx20_results[4:5][0])[0]\n",
        "median_approx20 = np.asarray(approx20_results[9:10][0])[0]\n",
        "upper_approx20 = np.asarray(approx20_results[14:15][0])[0]\n",
        "\n",
        "lower_exact20 = np.asarray(exact20_results[4:5][0])[0]\n",
        "median_exact20 = np.asarray(exact20_results[9:10][0])[0]\n",
        "upper_exact20 = np.asarray(exact20_results[14:15][0])[0]"
      ],
      "execution_count": 95,
      "outputs": []
    },
    {
      "cell_type": "code",
      "metadata": {
        "id": "gn36RejbQxf_"
      },
      "source": [
        "### Summarize arrays: 'Loser'\n",
        "\n",
        "lower_approx = [lower_approx1,\n",
        "            lower_approx2,\n",
        "            lower_approx3,\n",
        "            lower_approx4,\n",
        "            lower_approx5,\n",
        "            lower_approx6,\n",
        "            lower_approx7,\n",
        "            lower_approx8,\n",
        "            lower_approx9,\n",
        "            lower_approx10,\n",
        "            lower_approx11,\n",
        "            lower_approx12,\n",
        "            lower_approx13,\n",
        "            lower_approx14,\n",
        "            lower_approx15,\n",
        "            lower_approx16,\n",
        "            lower_approx17,\n",
        "            lower_approx18,\n",
        "            lower_approx19,\n",
        "            lower_approx20,\n",
        "            lower_approx21]\n",
        "\n",
        "median_approx = [median_approx1,\n",
        "            median_approx2,\n",
        "            median_approx3,\n",
        "            median_approx4,\n",
        "            median_approx5,\n",
        "            median_approx6,\n",
        "            median_approx7,\n",
        "            median_approx8,\n",
        "            median_approx9,\n",
        "            median_approx10,\n",
        "            median_approx11,\n",
        "            median_approx12,\n",
        "            median_approx13,\n",
        "            median_approx14,\n",
        "            median_approx15,\n",
        "            median_approx16,\n",
        "            median_approx17,\n",
        "            median_approx18,\n",
        "            median_approx19,\n",
        "            median_approx20,\n",
        "            median_approx21]\n",
        "\n",
        "upper_approx = [upper_approx1,\n",
        "            upper_approx2,\n",
        "            upper_approx3,\n",
        "            upper_approx4,\n",
        "            upper_approx5,\n",
        "            upper_approx6,\n",
        "            upper_approx7,\n",
        "            upper_approx8,\n",
        "            upper_approx9,\n",
        "            upper_approx10,\n",
        "            upper_approx11,\n",
        "            upper_approx12,\n",
        "            upper_approx13,\n",
        "            upper_approx14,\n",
        "            upper_approx15,\n",
        "            upper_approx16,\n",
        "            upper_approx17,\n",
        "            upper_approx18,\n",
        "            upper_approx19,\n",
        "            upper_approx20,\n",
        "            upper_approx21]"
      ],
      "execution_count": 96,
      "outputs": []
    },
    {
      "cell_type": "code",
      "metadata": {
        "id": "wxtGTOYfQxf_"
      },
      "source": [
        "### Summarize arrays: 'exact'\n",
        "\n",
        "lower_exact = [lower_exact1,\n",
        "            lower_exact2,\n",
        "            lower_exact3,\n",
        "            lower_exact4,\n",
        "            lower_exact5,\n",
        "            lower_exact6,\n",
        "            lower_exact7,\n",
        "            lower_exact8,\n",
        "            lower_exact9,\n",
        "            lower_exact10,\n",
        "            lower_exact11,\n",
        "            lower_exact12,\n",
        "            lower_exact13,\n",
        "            lower_exact14,\n",
        "            lower_exact15,\n",
        "            lower_exact16,\n",
        "            lower_exact17,\n",
        "            lower_exact18,\n",
        "            lower_exact19,\n",
        "            lower_exact20,\n",
        "            lower_exact21]\n",
        "\n",
        "median_exact = [median_exact1,\n",
        "            median_exact2,\n",
        "            median_exact3,\n",
        "            median_exact4,\n",
        "            median_exact5,\n",
        "            median_exact6,\n",
        "            median_exact7,\n",
        "            median_exact8,\n",
        "            median_exact9,\n",
        "            median_exact10,\n",
        "            median_exact11,\n",
        "            median_exact12,\n",
        "            median_exact13,\n",
        "            median_exact14,\n",
        "            median_exact15,\n",
        "            median_exact16,\n",
        "            median_exact17,\n",
        "            median_exact18,\n",
        "            median_exact19,\n",
        "            median_exact20,\n",
        "            median_exact21]\n",
        "\n",
        "upper_exact = [upper_exact1,\n",
        "            upper_exact2,\n",
        "            upper_exact3,\n",
        "            upper_exact4,\n",
        "            upper_exact5,\n",
        "            upper_exact6,\n",
        "            upper_exact7,\n",
        "            upper_exact8,\n",
        "            upper_exact9,\n",
        "            upper_exact10,\n",
        "            upper_exact11,\n",
        "            upper_exact12,\n",
        "            upper_exact13,\n",
        "            upper_exact14,\n",
        "            upper_exact15,\n",
        "            upper_exact16,\n",
        "            upper_exact17,\n",
        "            upper_exact18,\n",
        "            upper_exact19,\n",
        "            upper_exact20,\n",
        "            upper_exact21]"
      ],
      "execution_count": 97,
      "outputs": []
    },
    {
      "cell_type": "code",
      "metadata": {
        "id": "2MONq-BXQxgA",
        "colab": {
          "base_uri": "https://localhost:8080/",
          "height": 299
        },
        "outputId": "3d33bcab-d209-4339-d680-afe5946fb160"
      },
      "source": [
        "### Visualise!\n",
        "\n",
        "title = func\n",
        "plt.figure()\n",
        "\n",
        "plt.plot(median_approx, color = 'Yellow')\n",
        "plt.plot(median_exact, color = 'Red')\n",
        "\n",
        "xstar = np.arange(0, iters+1, step=1)\n",
        "plt.fill_between(xstar, lower_approx, upper_approx, facecolor = 'Yellow', alpha=0.4, label='GP EI Optimization: Approx GP EI gradients')\n",
        "plt.fill_between(xstar, lower_exact, upper_exact, facecolor = 'Red', alpha=0.4, label='GP EI Optimization: Exact GP dEI gradients')\n",
        "\n",
        "plt.title(title, weight = 'bold')\n",
        "plt.xlabel('(Post-initialization) iteration $\\it{k}$', weight = 'bold')\n",
        "plt.ylabel('log(Regret)', weight = 'bold') \n",
        "plt.legend(loc=1) # add plot legend\n",
        "\n",
        "### Make the x-ticks integers, not floats:\n",
        "count = len(xstar)\n",
        "plt.xticks(np.arange(count), np.arange(0, count))\n",
        "plt.show() #visualize!"
      ],
      "execution_count": 98,
      "outputs": [
        {
          "output_type": "display_data",
          "data": {
            "image/png": "[encoded data removed]",
            "text/plain": [
              "<Figure size 432x288 with 1 Axes>"
            ]
          },
          "metadata": {
            "needs_background": "light"
          }
        }
      ]
    },
    {
      "cell_type": "code",
      "metadata": {
        "id": "l5dkR2Id2oiu",
        "colab": {
          "base_uri": "https://localhost:8080/"
        },
        "outputId": "c00517c3-cc74-450f-d91a-1f3d4101b175"
      },
      "source": [
        "time_approx, time_exact\n"
      ],
      "execution_count": 99,
      "outputs": [
        {
          "output_type": "execute_result",
          "data": {
            "text/plain": [
              "(195.82337594032288, 443.2559859752655)"
            ]
          },
          "metadata": {},
          "execution_count": 99
        }
      ]
    },
    {
      "cell_type": "code",
      "metadata": {
        "id": "77BffxK2Fe61"
      },
      "source": [
        ""
      ],
      "execution_count": 99,
      "outputs": []
    }
  ]
}