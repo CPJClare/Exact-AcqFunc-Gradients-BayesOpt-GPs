{
  "nbformat": 4,
  "nbformat_minor": 0,
  "metadata": {
    "colab": {
      "name": "4. SumSquares_GP_dCBM_2D.ipynb",
      "provenance": [],
      "collapsed_sections": []
    },
    "kernelspec": {
      "name": "python3",
      "display_name": "Python 3"
    },
    "language_info": {
      "name": "python"
    }
  },
  "cells": [
    {
      "cell_type": "markdown",
      "metadata": {
        "id": "Dqn4dFx7Z2Ir"
      },
      "source": [
        "\n",
        "SumSquares: 2D\n"
      ]
    },
    {
      "cell_type": "code",
      "metadata": {
        "id": "MJTM_GZZZb5x",
        "colab": {
          "base_uri": "https://localhost:8080/"
        },
        "outputId": "92b509c0-e505-412b-cca1-f7332595fd22"
      },
      "source": [
        "pip install pyGPGO\n"
      ],
      "execution_count": 1,
      "outputs": [
        {
          "output_type": "stream",
          "name": "stdout",
          "text": [
            "Collecting pyGPGO\n",
            "  Downloading pyGPGO-0.5.1.tar.gz (14 kB)\n",
            "Requirement already satisfied: numpy in /usr/local/lib/python3.7/dist-packages (from pyGPGO) (1.21.6)\n",
            "Requirement already satisfied: mkl in /usr/local/lib/python3.7/dist-packages (from pyGPGO) (2019.0)\n",
            "Requirement already satisfied: scipy in /usr/local/lib/python3.7/dist-packages (from pyGPGO) (1.4.1)\n",
            "Requirement already satisfied: joblib in /usr/local/lib/python3.7/dist-packages (from pyGPGO) (1.1.0)\n",
            "Requirement already satisfied: scikit-learn in /usr/local/lib/python3.7/dist-packages (from pyGPGO) (1.0.2)\n",
            "Requirement already satisfied: Theano-PyMC in /usr/local/lib/python3.7/dist-packages (from pyGPGO) (1.1.2)\n",
            "Requirement already satisfied: pyMC3 in /usr/local/lib/python3.7/dist-packages (from pyGPGO) (3.11.4)\n",
            "Requirement already satisfied: intel-openmp in /usr/local/lib/python3.7/dist-packages (from mkl->pyGPGO) (2022.0.2)\n",
            "Requirement already satisfied: fastprogress>=0.2.0 in /usr/local/lib/python3.7/dist-packages (from pyMC3->pyGPGO) (1.0.2)\n",
            "Requirement already satisfied: typing-extensions>=3.7.4 in /usr/local/lib/python3.7/dist-packages (from pyMC3->pyGPGO) (4.2.0)\n",
            "Requirement already satisfied: semver>=2.13.0 in /usr/local/lib/python3.7/dist-packages (from pyMC3->pyGPGO) (2.13.0)\n",
            "Requirement already satisfied: patsy>=0.5.1 in /usr/local/lib/python3.7/dist-packages (from pyMC3->pyGPGO) (0.5.2)\n",
            "Requirement already satisfied: pandas>=0.24.0 in /usr/local/lib/python3.7/dist-packages (from pyMC3->pyGPGO) (1.3.5)\n",
            "Requirement already satisfied: cachetools>=4.2.1 in /usr/local/lib/python3.7/dist-packages (from pyMC3->pyGPGO) (4.2.4)\n",
            "Requirement already satisfied: dill in /usr/local/lib/python3.7/dist-packages (from pyMC3->pyGPGO) (0.3.4)\n",
            "Requirement already satisfied: arviz>=0.11.0 in /usr/local/lib/python3.7/dist-packages (from pyMC3->pyGPGO) (0.12.0)\n",
            "Requirement already satisfied: filelock in /usr/local/lib/python3.7/dist-packages (from Theano-PyMC->pyGPGO) (3.6.0)\n",
            "Requirement already satisfied: xarray>=0.16.1 in /usr/local/lib/python3.7/dist-packages (from arviz>=0.11.0->pyMC3->pyGPGO) (0.18.2)\n",
            "Requirement already satisfied: matplotlib>=3.0 in /usr/local/lib/python3.7/dist-packages (from arviz>=0.11.0->pyMC3->pyGPGO) (3.2.2)\n",
            "Requirement already satisfied: setuptools>=38.4 in /usr/local/lib/python3.7/dist-packages (from arviz>=0.11.0->pyMC3->pyGPGO) (57.4.0)\n",
            "Requirement already satisfied: netcdf4 in /usr/local/lib/python3.7/dist-packages (from arviz>=0.11.0->pyMC3->pyGPGO) (1.5.8)\n",
            "Requirement already satisfied: packaging in /usr/local/lib/python3.7/dist-packages (from arviz>=0.11.0->pyMC3->pyGPGO) (21.3)\n",
            "Requirement already satisfied: python-dateutil>=2.1 in /usr/local/lib/python3.7/dist-packages (from matplotlib>=3.0->arviz>=0.11.0->pyMC3->pyGPGO) (2.8.2)\n",
            "Requirement already satisfied: cycler>=0.10 in /usr/local/lib/python3.7/dist-packages (from matplotlib>=3.0->arviz>=0.11.0->pyMC3->pyGPGO) (0.11.0)\n",
            "Requirement already satisfied: kiwisolver>=1.0.1 in /usr/local/lib/python3.7/dist-packages (from matplotlib>=3.0->arviz>=0.11.0->pyMC3->pyGPGO) (1.4.2)\n",
            "Requirement already satisfied: pyparsing!=2.0.4,!=2.1.2,!=2.1.6,>=2.0.1 in /usr/local/lib/python3.7/dist-packages (from matplotlib>=3.0->arviz>=0.11.0->pyMC3->pyGPGO) (3.0.8)\n",
            "Requirement already satisfied: pytz>=2017.3 in /usr/local/lib/python3.7/dist-packages (from pandas>=0.24.0->pyMC3->pyGPGO) (2022.1)\n",
            "Requirement already satisfied: six in /usr/local/lib/python3.7/dist-packages (from patsy>=0.5.1->pyMC3->pyGPGO) (1.15.0)\n",
            "Requirement already satisfied: cftime in /usr/local/lib/python3.7/dist-packages (from netcdf4->arviz>=0.11.0->pyMC3->pyGPGO) (1.6.0)\n",
            "Requirement already satisfied: threadpoolctl>=2.0.0 in /usr/local/lib/python3.7/dist-packages (from scikit-learn->pyGPGO) (3.1.0)\n",
            "Building wheels for collected packages: pyGPGO\n",
            "  Building wheel for pyGPGO (setup.py) ... \u001b[?25l\u001b[?25hdone\n",
            "  Created wheel for pyGPGO: filename=pyGPGO-0.5.1-py3-none-any.whl size=19879 sha256=a11f97749f4c7f0193ba46d84d68713ab0845c220378c5db3deb691665185313\n",
            "  Stored in directory: /root/.cache/pip/wheels/c8/5d/0b/2160114e2f1b87791c51b66cf07f89831dbb6f49167950316f\n",
            "Successfully built pyGPGO\n",
            "Installing collected packages: pyGPGO\n",
            "Successfully installed pyGPGO-0.5.1\n"
          ]
        }
      ]
    },
    {
      "cell_type": "code",
      "metadata": {
        "id": "ZJSSPbwPaEUB"
      },
      "source": [
        "### Import:\n",
        "\n",
        "import numpy as np\n",
        "import scipy as sp\n",
        "import pandas as pd\n",
        "import matplotlib.pyplot as plt\n",
        "import warnings\n",
        "import itertools\n",
        "\n",
        "from pyGPGO.GPGO import GPGO\n",
        "from pyGPGO.surrogates.GaussianProcess import GaussianProcess\n",
        "from pyGPGO.acquisition import Acquisition\n",
        "from pyGPGO.covfunc import squaredExponential\n",
        "\n",
        "from joblib import Parallel, delayed\n",
        "from numpy.linalg import solve, cholesky\n",
        "from scipy.spatial.distance import cdist\n",
        "from scipy.optimize import minimize\n",
        "from scipy.stats import norm\n",
        "import time\n",
        "\n",
        "warnings.filterwarnings(\"ignore\", category=RuntimeWarning)\n"
      ],
      "execution_count": 2,
      "outputs": []
    },
    {
      "cell_type": "code",
      "metadata": {
        "id": "OeYcTUNoaJWa"
      },
      "source": [
        "### Inputs:\n",
        "\n",
        "func = 'SumSquares'\n",
        "Beta_CBM = 1.5 # Default UCB Acquisition function parameter in pyGPGO https://github.com/josejimenezluna/pyGPGO/blob/master/pyGPGO/acquisition.py#L83\n",
        "n_test = 500\n",
        "eps = 1e-08\n",
        "\n",
        "util_grad_exact = 'dCBM_GP'\n",
        "util_grad_approx = 'CBM'\n",
        "\n",
        "n_init = 5 # random initialisations\n",
        "iters = 20\n",
        "opt = True"
      ],
      "execution_count": 3,
      "outputs": []
    },
    {
      "cell_type": "code",
      "metadata": {
        "id": "xpaEOjdzaPMS"
      },
      "source": [
        "### Objective Function - Sum Squares(x) 2-D:\n",
        "\n",
        "def objfunc(x1_training, x2_training):\n",
        "            return  operator * (  1 * x1_training ** 2\n",
        "                            + 2 * x2_training ** 2\n",
        "                            )\n",
        "        \n",
        "# Constraints:\n",
        "lb = -10\n",
        "ub = +10\n",
        "    \n",
        "# Input array dimension(s):\n",
        "dim = 2\n",
        "\n",
        "# 2-D inputs' parameter bounds:\n",
        "param = {'x1_training': ('cont', [lb, ub]),\n",
        "                 'x2_training': ('cont', [lb, ub])\n",
        "                 }\n",
        "    \n",
        "# True y bounds:\n",
        "y_lb = 0\n",
        "operator = -1 # targets global minimum \n",
        "y_global_orig = y_lb * operator # targets global minimum\n",
        "    \n",
        "# Test data:\n",
        "x1_test = np.linspace(lb, ub, n_test)\n",
        "x2_test = np.linspace(lb, ub, n_test)\n",
        "x_test = np.column_stack((x1_test, x2_test))\n"
      ],
      "execution_count": 4,
      "outputs": []
    },
    {
      "cell_type": "code",
      "metadata": {
        "id": "eYpI3Zm4aGxi"
      },
      "source": [
        "n_start_AcqFunc = iters #multi-start iterations to avoid local optima in AcqFunc optimization\n"
      ],
      "execution_count": 5,
      "outputs": []
    },
    {
      "cell_type": "code",
      "metadata": {
        "id": "oO_GUmOoaV0T"
      },
      "source": [
        "### Cumulative Regret Calculator:\n",
        "\n",
        "def min_max_array(x):\n",
        "    new_list = []\n",
        "    for i, num in enumerate(x):\n",
        "            new_list.append(np.min(x[0:i+1]))\n",
        "    return new_list\n",
        "  "
      ],
      "execution_count": 6,
      "outputs": []
    },
    {
      "cell_type": "code",
      "metadata": {
        "id": "kuuJx0IMam9S"
      },
      "source": [
        "### Surrogate derivatives: \n",
        "\n",
        "cov_func = squaredExponential()\n",
        "\n",
        "def kronDelta(X, Xstar):                     # Kronecker's Delta method\n",
        "    return cdist(X, Xstar) < np.finfo(np.float32).eps\n",
        "\n",
        "def se(X, Xstar, sigmaf, l, sigman):         # S.E. kernel method\n",
        "    return sigmaf * np.exp(-0.5 * cdist(X, Xstar) ** 2 / l ** 2) + sigman * kronDelta(X, Xstar)\n",
        "\n",
        "def delta(X, Xstar):                         # Distance between training X and test Xstar vectors\n",
        "    return (X - Xstar)\n",
        "   \n",
        "def der_covmat(X, Xstar, sigmaf, l, sigman): # Covariance matrix derivative terms (i.e. exact, first-order)\n",
        "    nx = len(X)\n",
        "    ny = len(Xstar)\n",
        "    return np.round(np.array([(delta(np.atleast_2d(i), np.atleast_2d(j))[0] * se(np.atleast_2d(i), np.atleast_2d(j), sigmaf, l, sigman)[0]).sum() for (i, j) in itertools.product(X, Xstar)]).reshape(nx, ny), 8)\n",
        "\n",
        "class dGaussianProcess(GaussianProcess):    # Via inheritance, also optimises hyperparameters when opt = TRUE\n",
        "    \n",
        "    def AcqGrad(self, Xstar):               # Method returning exact, first-order derivatives of the GP's posterior mean and standard deviation\n",
        "        Xstar = np.atleast_2d(Xstar)\n",
        "        Kstar = self.covfunc.K(self.X, Xstar).T\n",
        "        \n",
        "        dKstar = der_covmat(self.X, Xstar, self.covfunc.sigmaf, self.covfunc.l, self.covfunc.sigman).T\n",
        "        alpha_Kstar = np.dot(np.linalg.inv(self.K + (self.covfunc.sigman**2) * np.eye(len(self.X))), Kstar.T)\n",
        "        \n",
        "        dm = np.dot(dKstar, self.alpha)\n",
        "        ds = -2 * np.dot(dKstar, alpha_Kstar)\n",
        "        \n",
        "        return dm, ds           \n",
        "        "
      ],
      "execution_count": 7,
      "outputs": []
    },
    {
      "cell_type": "code",
      "metadata": {
        "id": "_Dc3YVHVaXz7"
      },
      "source": [
        "class Acquisition_new(Acquisition):    \n",
        "    def __init__(self, mode, eps=eps, **params):\n",
        "        \n",
        "        self.params = params\n",
        "        self.eps = eps\n",
        "\n",
        "        mode_dict = {\n",
        "            'CBM': self.CBM,\n",
        "            'dCBM_GP': self.dCBM_GP\n",
        "        }\n",
        "\n",
        "        self.f = mode_dict[mode]\n",
        "\n",
        "    def CBM(self, tau, mean, std):\n",
        "        z = (mean - y_global_orig - self.eps) / (std + self.eps)\n",
        "        return (std + self.eps) * (z + np.sqrt(Beta_CBM))\n",
        "\n",
        "    def dCBM_GP(self, tau, mean, std, ds, dm):\n",
        "        gamma = (mean - y_global_orig - self.eps) / (std + self.eps)\n",
        "        gamma_h = (mean - y_global_orig) / (std + self.eps)\n",
        "        dsdx = ds / (2 * (std + self.eps))\n",
        "        dmdx = (dm - gamma * dsdx) / (std + self.eps)\n",
        "\n",
        "        f = (std + self.eps) * (gamma + np.sqrt(Beta_CBM))\n",
        "        df = dsdx * (gamma + np.sqrt(Beta_CBM)) + (std + self.eps) * dmdx\n",
        "        df_arr = []\n",
        "\n",
        "        for j in range(0, dim):\n",
        "          df_arr.append(df)\n",
        "        return f, np.asarray(df_arr).transpose()\n",
        "        \n",
        "    def d_eval(self, tau, mean, std, ds, dm):\n",
        "    \n",
        "        return self.f(tau, mean, std, ds, dm, **self.params)\n",
        "        "
      ],
      "execution_count": 8,
      "outputs": []
    },
    {
      "cell_type": "code",
      "metadata": {
        "id": "PITEQC8YSl7i"
      },
      "source": [
        "## GPGO_multi: \n",
        "\n",
        "class GPGO_multi(GPGO):\n",
        "    n_start = n_start_AcqFunc\n",
        "\n",
        "    def __init__(self, surrogate, acquisition, f, parameter_dict, n_jobs=1):\n",
        "        self.GP = surrogate\n",
        "        self.A = acquisition\n",
        "        self.f = f\n",
        "        self.parameters = parameter_dict\n",
        "        self.n_jobs = n_jobs\n",
        "\n",
        "        self.parameter_key = list(parameter_dict.keys())\n",
        "        self.parameter_value = list(parameter_dict.values())\n",
        "        self.parameter_type = [p[0] for p in self.parameter_value]\n",
        "        self.parameter_range = [p[1] for p in self.parameter_value]\n",
        "\n",
        "        self.history = []\n",
        "        self.header =   'Evaluation \\t Proposed point \\t  Current eval. \\t  Best eval. \\t         Max AcqFunc.'\n",
        "        self.template = '{:3}\\t {}\\t {:3}\\t {:3}\\t {:3}'\n",
        "\n",
        "    def _optimizeAcq(self, method='L-BFGS-B', n_start=n_start_AcqFunc):\n",
        "        \n",
        "        start_points_dict = [self._sampleParam() for i in range(n_start)]\n",
        "        start_points_arr = np.array([list(s.values())\n",
        "                                     for s in start_points_dict])\n",
        "        x_best = np.empty((n_start, len(self.parameter_key)))\n",
        "        f_best = np.empty((n_start,))\n",
        "        opt = Parallel(n_jobs=self.n_jobs)(delayed(minimize)(self._acqWrapper,\n",
        "                                                                 x0=start_point,\n",
        "                                                                 method=method,\n",
        "                                                                 bounds=self.parameter_range) for start_point in\n",
        "                                               start_points_arr)\n",
        "        x_best = np.array([res.x for res in opt])\n",
        "        f_best = np.array([np.atleast_1d(res.fun)[0] for res in opt])\n",
        "        f_best_min = min(f_best)\n",
        "\n",
        "        self.x_best = x_best\n",
        "        self.f_best = f_best\n",
        "        self.f_best_min = f_best_min\n",
        "        self.best = x_best[np.argmin(f_best)]\n",
        "        self.start_points_arr = start_points_arr\n",
        "        \n",
        "        self.history.append(self.f_best_min)\n",
        "          \n",
        "    def _printInit(self):\n",
        "        print(self.header)\n",
        "        for init_eval in range(self.init_evals):\n",
        "            print(self.template.format('init', self.GP.X[init_eval], self.GP.y[init_eval], self.tau, ''))\n",
        "      \n",
        "    def _printCurrent(self):\n",
        "        OKGREEN = '\\033[92m'\n",
        "        ENDC = '\\033[0m'\n",
        "        BOLD = '\\033[1m'\n",
        "        eval = str(len(self.GP.y) - self.init_evals)\n",
        "        proposed = str(self.best)\n",
        "        curr_eval = str(self.GP.y[-1])\n",
        "        curr_best = str(self.tau)\n",
        "        max_acqfunc = str(self.f_best_min)\n",
        "        if float(curr_eval) >= float(curr_best):\n",
        "            eval = BOLD + OKGREEN + eval + ENDC\n",
        "            proposed = BOLD + OKGREEN + proposed + ENDC\n",
        "            curr_eval = BOLD + OKGREEN + curr_eval + ENDC\n",
        "            curr_best = BOLD + OKGREEN + curr_best + ENDC\n",
        "            max_acqfunc = BOLD + OKGREEN + str(self.f_best_min) + ENDC\n",
        "        print(self.template.format(eval, proposed, curr_eval, curr_best, max_acqfunc))\n",
        "\n",
        "    def run(self, max_iter=10, init_evals=3, resume=False):\n",
        "        \n",
        "        if not resume:\n",
        "            self.init_evals = init_evals\n",
        "            self._firstRun(self.init_evals)\n",
        "            self._printInit()\n",
        "        for iteration in range(max_iter):\n",
        "            self._optimizeAcq()\n",
        "            self.updateGP()\n",
        "            self._printCurrent()\n"
      ],
      "execution_count": 9,
      "outputs": []
    },
    {
      "cell_type": "code",
      "metadata": {
        "id": "b_B-w81BJxKN"
      },
      "source": [
        "## dGPGO:\n",
        "\n",
        "grad = 1\n",
        "\n",
        "class dGPGO(GPGO):\n",
        "    n_start = n_start_AcqFunc\n",
        "\n",
        "    def __init__(self, surrogate, acquisition, f, parameter_dict, n_jobs=1):\n",
        "        self.GP = surrogate\n",
        "        self.A = acquisition\n",
        "        self.f = f\n",
        "        self.parameters = parameter_dict\n",
        "        self.n_jobs = n_jobs\n",
        "\n",
        "        self.parameter_key = list(parameter_dict.keys())\n",
        "        self.parameter_value = list(parameter_dict.values())\n",
        "        self.parameter_type = [p[0] for p in self.parameter_value]\n",
        "        self.parameter_range = [p[1] for p in self.parameter_value]\n",
        "\n",
        "        self.history = []\n",
        "        self.header =   'Evaluation \\t Proposed point \\t  Current eval. \\t  Best eval. \\t         Max AcqFunc.'\n",
        "        self.template = '{:3}\\t {}\\t {:3}\\t {:3}\\t {:3}'\n",
        "\n",
        "    def d_optimizeAcq(self, method='L-BFGS-B', n_start=n_start_AcqFunc):\n",
        "        start_points_dict = [self._sampleParam() for i in range(n_start)]\n",
        "        start_points_arr = np.array([list(s.values())\n",
        "                                     for s in start_points_dict])\n",
        "        x_best = np.empty((n_start, len(self.parameter_key)))\n",
        "        f_best = np.empty((n_start,))\n",
        "        opt = Parallel(n_jobs=self.n_jobs)(delayed(minimize)(self.acqfunc,\n",
        "                                                                 x0=start_point,\n",
        "                                                                 method=method,\n",
        "                                                                 jac = True,\n",
        "                                                                 bounds=self.parameter_range) for start_point in\n",
        "                                               start_points_arr)\n",
        "        x_best = np.array([res.x for res in opt])\n",
        "        f_best = np.array([np.atleast_1d(res.fun)[0] for res in opt])\n",
        "        f_best_min = min(f_best)\n",
        "\n",
        "        self.x_best = x_best\n",
        "        self.f_best = f_best\n",
        "        self.f_best_min = f_best_min\n",
        "        self.best = x_best[np.argmin(f_best)]\n",
        "        self.start_points_arr = start_points_arr\n",
        "\n",
        "        self.history.append(self.f_best_min)\n",
        "\n",
        "    def _printInit(self):\n",
        "        print(self.header)\n",
        "        for init_eval in range(self.init_evals):\n",
        "            print(self.template.format('init', self.GP.X[init_eval], self.GP.y[init_eval], self.tau, ''))\n",
        "      \n",
        "    def _printCurrent(self):\n",
        "        OKGREEN = '\\033[92m'\n",
        "        ENDC = '\\033[0m'\n",
        "        BOLD = '\\033[1m'\n",
        "        eval = str(len(self.GP.y) - self.init_evals)\n",
        "        proposed = str(self.best)\n",
        "        curr_eval = str(self.GP.y[-1])\n",
        "        curr_best = str(self.tau)\n",
        "        max_acqfunc = str(self.f_best_min)\n",
        "        if float(curr_eval) >= float(curr_best):\n",
        "            eval = BOLD + OKGREEN + eval + ENDC\n",
        "            proposed = BOLD + OKGREEN + proposed + ENDC\n",
        "            curr_eval = BOLD + OKGREEN + curr_eval + ENDC\n",
        "            curr_best = BOLD + OKGREEN + curr_best + ENDC\n",
        "            max_acqfunc = BOLD + OKGREEN + str(self.f_best_min) + ENDC\n",
        "        print(self.template.format(eval, proposed, curr_eval, curr_best, max_acqfunc))\n",
        "\n",
        "    def run(self, max_iter=10, init_evals=3, resume=False):\n",
        "        \n",
        "        if not resume:\n",
        "            self.init_evals = init_evals\n",
        "            self._firstRun(self.init_evals)\n",
        "            self._printInit()\n",
        "        for iteration in range(max_iter):\n",
        "            self.d_optimizeAcq()\n",
        "            self.updateGP()\n",
        "            self._printCurrent()\n",
        "\n",
        "    def acqfunc(self, xnew, n_start=n_start_AcqFunc):\n",
        "        new_mean, new_var = self.GP.predict(xnew, return_std=True)\n",
        "        new_std = np.sqrt(new_var + eps)\n",
        "        dm, ds = self.GP.AcqGrad(xnew)\n",
        "        f, df = self.A.d_eval(self.tau, new_mean, new_std, ds=ds, dm=dm)\n",
        "\n",
        "        return -f, -df * grad\n"
      ],
      "execution_count": 10,
      "outputs": []
    },
    {
      "cell_type": "code",
      "metadata": {
        "id": "qXIKGuXVGEg2"
      },
      "source": [
        "###Reproducible set-seeds:\n",
        "\n",
        "run_num_1 = 1\n",
        "run_num_2 = 2\n",
        "run_num_3 = 3\n",
        "run_num_4 = 4\n",
        "run_num_5 = 5\n",
        "run_num_6 = 6\n",
        "run_num_7 = 7\n",
        "run_num_8 = 8\n",
        "run_num_9 = 9\n",
        "run_num_10 = 10\n",
        "run_num_11 = 11\n",
        "run_num_12 = 12\n",
        "run_num_13 = 13\n",
        "run_num_14 = 14\n",
        "run_num_15 = 15\n",
        "run_num_16 = 16\n",
        "run_num_17 = 17\n",
        "run_num_18 = 18\n",
        "run_num_19 = 19\n",
        "run_num_20 = 20\n"
      ],
      "execution_count": 11,
      "outputs": []
    },
    {
      "cell_type": "code",
      "metadata": {
        "colab": {
          "base_uri": "https://localhost:8080/"
        },
        "id": "JEhagQmnTVIK",
        "outputId": "52112b6e-98b0-46ff-cf23-b95195039ae8"
      },
      "source": [
        "start_approx = time.time()\n",
        "start_approx\n"
      ],
      "execution_count": 12,
      "outputs": [
        {
          "output_type": "execute_result",
          "data": {
            "text/plain": [
              "1651589596.2620177"
            ]
          },
          "metadata": {},
          "execution_count": 12
        }
      ]
    },
    {
      "cell_type": "code",
      "metadata": {
        "colab": {
          "base_uri": "https://localhost:8080/"
        },
        "id": "aH0YSTXufD1v",
        "outputId": "1d454c73-24bb-4fc9-9f76-cf5f22cc16c0"
      },
      "source": [
        "### ESTIMATED GP CBM GRADIENTS\n",
        "\n",
        "np.random.seed(run_num_1)\n",
        "surrogate_approx_1 = GaussianProcess(cov_func, optimize=opt)\n",
        "\n",
        "approx_1 = GPGO_multi(surrogate_approx_1, Acquisition_new(util_grad_approx), objfunc, param)\n",
        "approx_1.run(init_evals=n_init, max_iter=iters)\n"
      ],
      "execution_count": 13,
      "outputs": [
        {
          "output_type": "stream",
          "name": "stdout",
          "text": [
            "Evaluation \t Proposed point \t  Current eval. \t  Best eval. \t         Max AcqFunc.\n",
            "init\t [-1.65955991  4.40648987]\t -41.5884450098667\t -5.468172821636052\t    \n",
            "init\t [-9.9977125  -3.95334855]\t -131.21218477957908\t -5.468172821636052\t    \n",
            "init\t [-7.06488218 -8.1532281 ]\t -182.86281732102734\t -5.468172821636052\t    \n",
            "init\t [-6.27479577 -3.08878546]\t -58.4542532110911\t -5.468172821636052\t    \n",
            "init\t [-2.06465052  0.77633468]\t -5.468172821636052\t -5.468172821636052\t    \n",
            "1  \t [ 7.89213327 -8.29911577]\t -200.03641276683908\t -5.468172821636052\t -2.4494900512168254\n",
            "2  \t [7.66612182 2.47344414]\t -71.00527566059496\t -5.468172821636052\t -2.4494900512168254\n",
            "3  \t [1.62717855 9.40039978]\t -179.3827421328839\t -5.468172821636052\t -2.4494900512168254\n",
            "4  \t [-9.56950389  8.95940422]\t -252.11725289788865\t -5.468172821636052\t -2.4494900512168254\n",
            "5  \t [10. 10.]\t -300.0\t -5.468172821636052\t -2.4494900512156157\n",
            "6  \t [ 1.85023738 -3.75460325]\t -31.61746941418768\t -5.468172821636052\t -2.4494900066391505\n",
            "7  \t [  2.07911451 -10.        ]\t -204.3227171618839\t -5.468172821636052\t -2.449488917062748\n",
            "8  \t [-7.81962472  2.67573521]\t -75.4656486076953\t -5.468172821636052\t -2.4494893822827386\n",
            "9  \t [10.         -2.79281795]\t -115.59966424477574\t -5.468172821636052\t -2.449485008835334\n",
            "10 \t [-3.97453425 10.        ]\t -215.79692254207157\t -5.468172821636052\t -2.4494666268280496\n",
            "11 \t [2.62309298 1.3926451 ]\t -10.759537511447125\t -5.468172821636052\t -2.449348793042904\n",
            "12 \t [-2.10410684 -6.59201933]\t -91.33670334530892\t -5.468172821636052\t -2.4491948207937013\n",
            "13 \t [5.89372577 6.89034172]\t -129.68962148087786\t -5.468172821636052\t -2.4483734021114567\n",
            "14 \t [ 5.55920139 -1.64371778]\t -36.30833643184091\t -5.468172821636052\t -2.4446528620571426\n",
            "15 \t [-5.55148563  5.99904913]\t -102.79617363304799\t -5.468172821636052\t -2.424075177654483\n",
            "16 \t [10.         5.6172104]\t -163.10610542035693\t -5.468172821636052\t -2.4164411666197125\n",
            "17 \t [-2.03982448 -2.4721176 ]\t -16.38361479219183\t -5.468172821636052\t -2.41950814676343\n",
            "18 \t [2.19748133 4.94653253]\t -53.765292375640705\t -5.468172821636052\t -2.4156935236482124\n",
            "19 \t [ -3.41085745 -10.        ]\t -211.63394853096725\t -5.468172821636052\t -2.370060800554575\n",
            "20 \t [-4.87714627  0.37792869]\t -24.072215892286845\t -5.468172821636052\t -2.33656390024868\n"
          ]
        }
      ]
    },
    {
      "cell_type": "code",
      "metadata": {
        "colab": {
          "base_uri": "https://localhost:8080/"
        },
        "id": "wTxsSZxFGBB5",
        "outputId": "8639490b-7f6a-48c2-c4ea-01cedae9dc3e"
      },
      "source": [
        "### ESTIMATED GP CBM GRADIENTS\n",
        "\n",
        "np.random.seed(run_num_2)\n",
        "surrogate_approx_2 = GaussianProcess(cov_func, optimize=opt)\n",
        "\n",
        "approx_2 = GPGO_multi(surrogate_approx_2, Acquisition_new(util_grad_approx), objfunc, param)\n",
        "approx_2.run(init_evals=n_init, max_iter=iters)\n"
      ],
      "execution_count": 14,
      "outputs": [
        {
          "output_type": "stream",
          "name": "stdout",
          "text": [
            "Evaluation \t Proposed point \t  Current eval. \t  Best eval. \t         Max AcqFunc.\n",
            "init\t [-1.28010196 -9.48147536]\t -181.43541115584648\t -4.333099000920773\t    \n",
            "init\t [ 0.99324956 -1.29355215]\t -4.333099000920773\t -4.333099000920773\t    \n",
            "init\t [-1.59264396 -3.39330358]\t -25.565533148780872\t -4.333099000920773\t    \n",
            "init\t [-5.90702732  2.38541933]\t -46.27342248166184\t -4.333099000920773\t    \n",
            "init\t [-4.00690653 -4.6634545 ]\t -59.55091562094812\t -4.333099000920773\t    \n",
            "1  \t [4.01504693 9.2910216 ]\t -188.7667666769868\t -4.333099000920773\t -2.4494900512168254\n",
            "2  \t [ 9.4582138 -7.7444757]\t -209.411615827435\t -4.333099000920773\t -2.4494900512168254\n",
            "3  \t [ 9.07319925 -1.03970567]\t -84.48492034594878\t -4.333099000920773\t -2.4494900343839707\n",
            "4  \t [-10. -10.]\t -300.0\t -4.333099000920773\t -2.449490051216515\n",
            "5  \t [-10.  10.]\t -300.0\t -4.333099000920773\t -2.449490051216824\n",
            "6  \t [-3.25263411  9.0402141 ]\t -174.03057068772284\t -4.333099000920773\t -2.4494900384386322\n",
            "7  \t [-9.45655361 -2.32375462]\t -100.22607729527539\t -4.333099000920773\t -2.449488718909059\n",
            "8  \t [10.          9.62733471]\t -285.3711472004717\t -4.333099000920773\t -2.449488564618173\n",
            "9  \t [0.70049772 4.03717099]\t -33.0881962293384\t -4.333099000920773\t -2.449488140516288\n",
            "10 \t [ 3.6459822  -6.15034313]\t -88.9466272899595\t -4.333099000920773\t -2.4494860100878566\n",
            "11 \t [7.07954388 4.2993922 ]\t -87.0894881402514\t -4.333099000920773\t -2.4494815645324257\n",
            "12 \t [-10.           4.74159947]\t -144.96553098529367\t -4.333099000920773\t -2.4490095942310193\n",
            "13 \t [4.52357261 0.33129583]\t -20.682222991646075\t -4.333099000920773\t -2.4471922543849205\n",
            "14 \t [  5.42718056 -10.        ]\t -229.45428887030585\t -4.333099000920773\t -2.441544448337202\n",
            "15 \t [-2.03190886  0.79730748]\t -5.400052050559626\t -4.333099000920773\t -2.4396026264638446\n",
            "16 \t [-5.67387445 -8.6492171 ]\t -181.81076436770311\t -4.333099000920773\t -2.4375467238876687\n",
            "17 \t [ 7.00837131 -4.25806373]\t -85.3794819619149\t -4.333099000920773\t -2.3832630942089517\n",
            "18 \t [-2.98578237  4.83942547]\t -55.75497403548305\t -4.333099000920773\t -2.407229448908722\n",
            "19 \t [-6.65118091  6.87935146]\t -138.88916059283608\t -4.333099000920773\t -2.3870962462339356\n",
            "20 \t [-5.43441108 -1.22797629]\t -32.54867530703643\t -4.333099000920773\t -2.3797644862648175\n"
          ]
        }
      ]
    },
    {
      "cell_type": "code",
      "metadata": {
        "colab": {
          "base_uri": "https://localhost:8080/"
        },
        "id": "-dgzIrUIGCGT",
        "outputId": "3047fdeb-5c76-4ebb-da7d-eca9d3e8b90e"
      },
      "source": [
        "### ESTIMATED GP CBM GRADIENTS\n",
        "\n",
        "np.random.seed(run_num_3)\n",
        "surrogate_approx_3 = GaussianProcess(cov_func, optimize=opt)\n",
        "\n",
        "approx_3 = GPGO_multi(surrogate_approx_3, Acquisition_new(util_grad_approx), objfunc, param)\n",
        "approx_3.run(init_evals=n_init, max_iter=iters)\n"
      ],
      "execution_count": 15,
      "outputs": [
        {
          "output_type": "stream",
          "name": "stdout",
          "text": [
            "Evaluation \t Proposed point \t  Current eval. \t  Best eval. \t         Max AcqFunc.\n",
            "init\t [1.01595805 4.16295645]\t -35.692583610916834\t -17.582120911078754\t    \n",
            "init\t [-4.18190522  0.2165521 ]\t -17.582120911078754\t -17.582120911078754\t    \n",
            "init\t [7.85893909 7.92586178]\t -187.4014934415638\t -17.582120911078754\t    \n",
            "init\t [-7.48829379 -5.85514244]\t -124.63992981683481\t -17.582120911078754\t    \n",
            "init\t [-8.97065593 -1.18380313]\t -83.2754475728413\t -17.582120911078754\t    \n",
            "1  \t [ 5.60629529 -3.87272935]\t -61.42661215628989\t -17.582120911078754\t -2.4494900512168254\n",
            "2  \t [-6.2437035   9.04202486]\t -202.50026057521436\t -17.582120911078754\t -2.449490051216825\n",
            "3  \t [ 0.21747715 10.        ]\t -200.04729631129734\t -17.582120911078754\t -2.4494894777515115\n",
            "4  \t [-0.42169096 -8.75441039]\t -153.45722588114134\t -17.582120911078754\t -2.4494900512168254\n",
            "5  \t [ 6.49032284 -9.62339388]\t -227.34370997575598\t -17.582120911078754\t -2.449488679581663\n",
            "6  \t [-9.21277105  4.93342182]\t -133.55245206852663\t -17.582120911078754\t -2.4494900261425125\n",
            "\u001b[1m\u001b[92m7\u001b[0m\t \u001b[1m\u001b[92m[ 0.69850669 -0.70926041]\u001b[0m\t \u001b[1m\u001b[92m-1.4940122574729555\u001b[0m\t \u001b[1m\u001b[92m-1.4940122574729555\u001b[0m\t \u001b[1m\u001b[92m-2.449490051216825\u001b[0m\n",
            "8  \t [8.49616767 0.98473736]\t -74.12428040932187\t -1.4940122574729555\t -2.44949005121681\n",
            "9  \t [10.         -7.56996183]\t -214.60864414969086\t -1.4940122574729555\t -2.4494900512168254\n",
            "10 \t [-2.31620084 -4.0315076 ]\t -37.87089333640112\t -1.4940122574729555\t -2.4490710627202654\n",
            "11 \t [-4.67617006 -9.97354931]\t -220.80993834112402\t -1.4940122574729555\t -2.4494900491835976\n",
            "12 \t [-10. -10.]\t -300.0\t -1.4940122574729555\t -2.4489182579047304\n",
            "13 \t [-3.68928538  4.72334766]\t -58.23085288084162\t -1.4940122574729555\t -2.44858881301724\n",
            "14 \t [3.96694907 0.75335198]\t -16.871763349659176\t -1.4940122574729555\t -2.4461290830544016\n",
            "15 \t [10.         -3.01206241]\t -118.14503990135323\t -1.4940122574729555\t -2.440754985011779\n",
            "16 \t [5.21698221 4.40333793]\t -65.99567324095962\t -1.4940122574729555\t -2.4357250602273948\n",
            "17 \t [ 1.62604795 -4.73119162]\t -47.41238027589384\t -1.4940122574729555\t -2.432494304429801\n",
            "18 \t [10.          4.49207156]\t -140.35741371339395\t -1.4940122574729555\t -2.3975748594114865\n",
            "19 \t [ 4.34963584 10.        ]\t -218.91933191087787\t -1.4940122574729555\t -2.40679777580932\n",
            "20 \t [-0.98274847  1.18433471]\t -3.771091960121936\t -1.4940122574729555\t -2.355996775286143\n"
          ]
        }
      ]
    },
    {
      "cell_type": "code",
      "metadata": {
        "colab": {
          "base_uri": "https://localhost:8080/"
        },
        "id": "hOtG-2sCGCKS",
        "outputId": "72f9f4f2-4ab8-40ff-ca27-94524a1ba459"
      },
      "source": [
        "### ESTIMATED GP CBM GRADIENTS\n",
        "\n",
        "np.random.seed(run_num_4)\n",
        "surrogate_approx_4 = GaussianProcess(cov_func, optimize=opt)\n",
        "\n",
        "approx_4 = GPGO_multi(surrogate_approx_4, Acquisition_new(util_grad_approx), objfunc, param)\n",
        "approx_4.run(init_evals=n_init, max_iter=iters)\n"
      ],
      "execution_count": 16,
      "outputs": [
        {
          "output_type": "stream",
          "name": "stdout",
          "text": [
            "Evaluation \t Proposed point \t  Current eval. \t  Best eval. \t         Max AcqFunc.\n",
            "init\t [9.34059678 0.94464498]\t -89.0314565014143\t -27.80880071439404\t    \n",
            "init\t [9.4536872  4.29631987]\t -126.28893057280868\t -27.80880071439404\t    \n",
            "init\t [ 3.95457649 -5.67821009]\t -80.12281484649141\t -27.80880071439404\t    \n",
            "init\t [ 9.5254891 -9.8753949]\t -285.78179120922215\t -27.80880071439404\t    \n",
            "init\t [-4.94035275 -1.30416935]\t -27.80880071439404\t -27.80880071439404\t    \n",
            "1  \t [-10. -10.]\t -300.0\t -27.80880071439404\t -2.4494900512168254\n",
            "2  \t [-0.87952816 10.        ]\t -200.77356978665082\t -27.80880071439404\t -2.4494900512168254\n",
            "3  \t [-10.           9.26180986]\t -271.5622437964045\t -27.80880071439404\t -2.4494900512168254\n",
            "\u001b[1m\u001b[92m4\u001b[0m\t \u001b[1m\u001b[92m[0.97610237 1.99594982]\u001b[0m\t \u001b[1m\u001b[92m-8.92040722633793\u001b[0m\t \u001b[1m\u001b[92m-8.92040722633793\u001b[0m\t \u001b[1m\u001b[92m-2.4494900497129177\u001b[0m\n",
            "5  \t [-9.2450964   2.86617043]\t -101.9016732569988\t -8.92040722633793\t -2.44948969716842\n",
            "6  \t [-3.5249608  -7.68742692]\t -130.61841401245684\t -8.92040722633793\t -2.449490035824002\n",
            "7  \t [5.24997409 9.28595067]\t -200.0199876350097\t -8.92040722633793\t -2.4494894750001333\n",
            "8  \t [-10.          -3.87675544]\t -130.0584654117501\t -8.92040722633793\t -2.4494875607690942\n",
            "9  \t [-3.68977543  4.66642094]\t -57.16541158778708\t -8.92040722633793\t -2.449484282121758\n",
            "10 \t [10.         -4.34331118]\t -137.72870407138134\t -8.92040722633793\t -2.449430714464053\n",
            "11 \t [  1.24665487 -10.        ]\t -201.55414835696118\t -8.92040722633793\t -2.4493487443802104\n",
            "12 \t [2.15167653 5.95731077]\t -75.60881516076346\t -8.92040722633793\t -2.4494900512168254\n",
            "13 \t [-0.24151482 -2.74646175]\t -15.144433688177521\t -8.92040722633793\t -2.4493000792848427\n",
            "14 \t [ 4.60096314 -0.70152247]\t -22.153129385460822\t -8.92040722633793\t -2.4490303333105374\n",
            "15 \t [10. 10.]\t -300.0\t -8.92040722633793\t -2.448508383732202\n",
            "16 \t [-5.35819376  8.9179971 ]\t -187.77158499831992\t -8.92040722633793\t -2.4434988316422954\n",
            "17 \t [5.24799059 3.15469902]\t -47.44565709519546\t -8.92040722633793\t -2.432140454669314\n",
            "18 \t [  5.34481921 -10.        ]\t -228.56709242449705\t -8.92040722633793\t -2.4027149776366827\n",
            "19 \t [-6.13152302 -4.74556806]\t -82.63640697082548\t -8.92040722633793\t -2.377196572170346\n",
            "\u001b[1m\u001b[92m20\u001b[0m\t \u001b[1m\u001b[92m[-2.10564454  0.93014902]\u001b[0m\t \u001b[1m\u001b[92m-6.164093316540281\u001b[0m\t \u001b[1m\u001b[92m-6.164093316540281\u001b[0m\t \u001b[1m\u001b[92m-2.3979008855740163\u001b[0m\n"
          ]
        }
      ]
    },
    {
      "cell_type": "code",
      "metadata": {
        "colab": {
          "base_uri": "https://localhost:8080/"
        },
        "id": "JF_SxcEvGCOl",
        "outputId": "04d0fd25-9f7d-4726-9a99-12202c1e8f29"
      },
      "source": [
        "### ESTIMATED GP CBM GRADIENTS\n",
        "\n",
        "np.random.seed(run_num_5)\n",
        "surrogate_approx_5 = GaussianProcess(cov_func, optimize=opt)\n",
        "\n",
        "approx_5 = GPGO_multi(surrogate_approx_5, Acquisition_new(util_grad_approx), objfunc, param)\n",
        "approx_5.run(init_evals=n_init, max_iter=iters)\n"
      ],
      "execution_count": 17,
      "outputs": [
        {
          "output_type": "stream",
          "name": "stdout",
          "text": [
            "Evaluation \t Proposed point \t  Current eval. \t  Best eval. \t         Max AcqFunc.\n",
            "init\t [-5.56013658  7.41464612]\t -140.86907304317228\t -10.04307293518387\t    \n",
            "init\t [-5.86561689  8.37221816]\t -174.59353533361667\t -10.04307293518387\t    \n",
            "init\t [-0.23177622  2.23487726]\t -10.04307293518387\t -10.04307293518387\t    \n",
            "init\t [5.31815713 0.36835976]\t -28.554173077012745\t -10.04307293518387\t    \n",
            "init\t [-4.06398997 -6.24557543]\t -94.53043928694063\t -10.04307293518387\t    \n",
            "1  \t [9.27861058 9.20453431]\t -255.5395178906315\t -10.04307293518387\t -2.4494900512168254\n",
            "2  \t [ 8.87080164 -7.76615146]\t -199.31733862713008\t -10.04307293518387\t -2.4494900512168254\n",
            "3  \t [-10. -10.]\t -300.0\t -10.04307293518387\t -2.4494900503000734\n",
            "4  \t [2.82929545 9.76335526]\t -198.65112458457682\t -10.04307293518387\t -2.449489949669726\n",
            "5  \t [-10.         -2.9247614]\t -117.1084584489048\t -10.04307293518387\t -2.4494900449437194\n",
            "6  \t [ 0.88609862 -9.60960082]\t -185.4740267387391\t -10.04307293518387\t -2.449489263594313\n",
            "7  \t [-5.54592956  1.07766606]\t -33.080062953085296\t -10.04307293518387\t -2.4494871055981626\n",
            "8  \t [ 1.27263388 -3.47064501]\t -25.710350632956935\t -10.04307293518387\t -2.449486176635322\n",
            "9  \t [10.          3.25790694]\t -121.22791521456266\t -10.04307293518387\t -2.4494841703153205\n",
            "10 \t [-10.           4.01816279]\t -132.29126433580828\t -10.04307293518387\t -2.449470230710712\n",
            "11 \t [10.         -2.28762362]\t -110.46644366068092\t -10.04307293518387\t -2.449454030947411\n",
            "12 \t [5.13364928 5.15994612]\t -79.60444285591865\t -10.04307293518387\t -2.449091963797174\n",
            "13 \t [-0.83546561  6.47164788]\t -84.46245526054437\t -10.04307293518387\t -2.4479456201057777\n",
            "14 \t [ 5.54085952 -4.26508164]\t -67.08296701635457\t -10.04307293518387\t -2.4469236167229873\n",
            "15 \t [-10.  10.]\t -300.0\t -10.04307293518387\t -2.4456475167946476\n",
            "16 \t [-2.5449262  -1.84295245]\t -13.26959687598482\t -10.04307293518387\t -2.443570484788017\n",
            "17 \t [  5.19208858 -10.        ]\t -226.957783792122\t -10.04307293518387\t -2.4319296854030386\n",
            "18 \t [ -5.44987969 -10.        ]\t -229.70118866338981\t -10.04307293518387\t -2.4289732983177643\n",
            "19 \t [-5.9903193  -2.70857504]\t -50.556682804369856\t -10.04307293518387\t -2.3932292896158036\n",
            "20 \t [-2.00069629 10.        ]\t -204.00278564237638\t -10.04307293518387\t -2.392185583731411\n"
          ]
        }
      ]
    },
    {
      "cell_type": "code",
      "metadata": {
        "colab": {
          "base_uri": "https://localhost:8080/"
        },
        "id": "-kDxZtJsGCR3",
        "outputId": "ba66043d-e257-4f07-d045-44ae1691ba7d"
      },
      "source": [
        "### ESTIMATED GP CBM GRADIENTS\n",
        "\n",
        "np.random.seed(run_num_6)\n",
        "surrogate_approx_6 = GaussianProcess(cov_func, optimize=opt)\n",
        "\n",
        "approx_6 = GPGO_multi(surrogate_approx_6, Acquisition_new(util_grad_approx), objfunc, param)\n",
        "approx_6.run(init_evals=n_init, max_iter=iters)\n"
      ],
      "execution_count": 18,
      "outputs": [
        {
          "output_type": "stream",
          "name": "stdout",
          "text": [
            "Evaluation \t Proposed point \t  Current eval. \t  Best eval. \t         Max AcqFunc.\n",
            "init\t [ 7.85720303 -3.36040389]\t -84.32026809583151\t -5.629416961321397\t    \n",
            "init\t [ 6.42458246 -9.16606749]\t -209.30884609749882\t -5.629416961321397\t    \n",
            "init\t [-7.8468664   1.90104128]\t -68.80122824744078\t -5.629416961321397\t    \n",
            "init\t [ 0.59634724 -1.62385143]\t -5.629416961321397\t -5.629416961321397\t    \n",
            "init\t [-3.29184301  2.45038864]\t -22.84503944485431\t -5.629416961321397\t    \n",
            "1  \t [10.          7.48434045]\t -212.03070393575945\t -5.629416961321397\t -2.4494900512168254\n",
            "2  \t [-4.96771714 -9.17248997]\t -192.94735819477367\t -5.629416961321397\t -2.4494900512168254\n",
            "3  \t [2.46299902 9.4614501 ]\t -185.1044400841216\t -5.629416961321397\t -2.4494900512168254\n",
            "4  \t [-5.6935267   8.60486508]\t -180.50365249520243\t -5.629416961321397\t -2.44949004682293\n",
            "5  \t [-10.          -5.39645958]\t -158.24355205364782\t -5.629416961321397\t -2.449489806173355\n",
            "6  \t [5.27911136 2.46180165]\t -39.989951438565576\t -5.629416961321397\t -2.449489968325289\n",
            "7  \t [10.          1.12181785]\t -102.51695055523844\t -5.629416961321397\t -2.449489949330609\n",
            "8  \t [-5.2160087  -2.20998074]\t -36.974776478354485\t -5.629416961321397\t -2.4494900511080813\n",
            "9  \t [-1.22868843  4.34354782]\t -39.24249056209099\t -5.629416961321397\t -2.4494900512168254\n",
            "10 \t [ 0.67522672 -7.01768352]\t -98.95169504192557\t -5.629416961321397\t -2.4494868569725514\n",
            "11 \t [-10.           6.23670536]\t -177.79298759070224\t -5.629416961321397\t -2.4486960872889747\n",
            "12 \t [-10. -10.]\t -300.0\t -5.629416961321397\t -2.447294207056326\n",
            "13 \t [-1.2740954 10.       ]\t -201.62331909336027\t -5.629416961321397\t -2.4494900512168254\n",
            "14 \t [ 3.59367199 -3.69023627]\t -40.150165875786094\t -5.629416961321397\t -2.43849476835055\n",
            "15 \t [5.66193215 6.47004403]\t -115.78041509309202\t -5.629416961321397\t -2.431941340086544\n",
            "16 \t [10.         -6.88739091]\t -194.8723070078657\t -5.629416961321397\t -2.4279734219813807\n",
            "17 \t [1.48942601 1.56255999]\t -7.101577298889856\t -5.629416961321397\t -2.4173628804032106\n",
            "18 \t [-10.          -1.28039806]\t -103.27883836352319\t -5.629416961321397\t -2.4113105621075124\n",
            "19 \t [-1.94207247 -3.98006673]\t -35.45350779074613\t -5.629416961321397\t -2.4084189335188677\n",
            "20 \t [-10.  10.]\t -300.0\t -5.629416961321397\t -2.371545086809834\n"
          ]
        }
      ]
    },
    {
      "cell_type": "code",
      "metadata": {
        "colab": {
          "base_uri": "https://localhost:8080/"
        },
        "id": "fKB8MCD_GCVI",
        "outputId": "3ab0e9e6-f132-451b-f439-b80b6ff2e810"
      },
      "source": [
        "### ESTIMATED GP CBM GRADIENTS\n",
        "\n",
        "np.random.seed(run_num_7)\n",
        "surrogate_approx_7 = GaussianProcess(cov_func, optimize=opt)\n",
        "\n",
        "approx_7 = GPGO_multi(surrogate_approx_7, Acquisition_new(util_grad_approx), objfunc, param)\n",
        "approx_7.run(init_evals=n_init, max_iter=iters)\n"
      ],
      "execution_count": 19,
      "outputs": [
        {
          "output_type": "stream",
          "name": "stdout",
          "text": [
            "Evaluation \t Proposed point \t  Current eval. \t  Best eval. \t         Max AcqFunc.\n",
            "init\t [-8.47383421  5.59837584]\t -134.48949046062052\t -21.448213419349443\t    \n",
            "init\t [-1.23181537  4.46930356]\t -41.46671767109191\t -21.448213419349443\t    \n",
            "init\t [9.55979024 0.76991741]\t -92.57513506242564\t -21.448213419349443\t    \n",
            "init\t [ 0.02240927 -8.55897733]\t -146.51268814245697\t -21.448213419349443\t    \n",
            "init\t [-4.63122040e+00 -2.34998349e-03]\t -21.448213419349443\t -21.448213419349443\t    \n",
            "1  \t [ 8.12846538 -6.39096762]\t -147.76088362344177\t -21.448213419349443\t -2.4494900512168254\n",
            "2  \t [ 4.12049415 10.        ]\t -216.97847206013458\t -21.448213419349443\t -2.4494900512168254\n",
            "3  \t [-9.10467478 -9.8356699 ]\t -276.3759076385656\t -21.448213419349443\t -2.4494900512168254\n",
            "4  \t [-7.86246511 -2.61028169]\t -75.44549865130998\t -21.448213419349443\t -2.4494900512168254\n",
            "\u001b[1m\u001b[92m5\u001b[0m\t \u001b[1m\u001b[92m[3.6305103  0.86654451]\u001b[0m\t \u001b[1m\u001b[92m-14.682403790566307\u001b[0m\t \u001b[1m\u001b[92m-14.682403790566307\u001b[0m\t \u001b[1m\u001b[92m-2.449488749990465\u001b[0m\n",
            "6  \t [-3.1694793   9.87485107]\t -205.07096647226032\t -14.682403790566307\t -2.4494886119790076\n",
            "7  \t [10.          7.95034551]\t -226.41598747457036\t -14.682403790566307\t -2.4494896372742083\n",
            "8  \t [-0.09082923 -2.88381972]\t -16.641082332141863\t -14.682403790566307\t -2.4494706597776066\n",
            "9  \t [-4.75331212 -6.60030533]\t -109.7220370429371\t -14.682403790566307\t -2.4492080655109847\n",
            "10 \t [5.7082503  4.95317227]\t -81.65195257895421\t -14.682403790566307\t -2.4490677246391397\n",
            "11 \t [ 5.03539772 -9.99471693]\t -225.14396345541428\t -14.682403790566307\t -2.4494892519380635\n",
            "12 \t [-10.  10.]\t -300.0\t -14.682403790566307\t -2.4481874523320757\n",
            "13 \t [ 4.24056117 -3.55014822]\t -43.18946385424285\t -14.682403790566307\t -2.4478918654684696\n",
            "14 \t [-10.          1.2741839]\t -103.2470892435038\t -14.682403790566307\t -2.445629560765964\n",
            "\u001b[1m\u001b[92m15\u001b[0m\t \u001b[1m\u001b[92m[-0.3307306   0.71453168]\u001b[0m\t \u001b[1m\u001b[92m-1.1304937775218953\u001b[0m\t \u001b[1m\u001b[92m-1.1304937775218953\u001b[0m\t \u001b[1m\u001b[92m-2.4213835032068127\u001b[0m\n",
            "16 \t [-4.83756634  3.4506174 ]\t -47.21556893390472\t -1.1304937775218953\t -2.4494900491898437\n",
            "17 \t [0.6161251  7.74008974]\t -120.19758841525835\t -1.1304937775218953\t -2.4053282553166833\n",
            "18 \t [ 10. -10.]\t -300.0\t -1.1304937775218953\t -2.4299539498658547\n",
            "19 \t [-10.          -5.74573173]\t -166.02686619039912\t -1.1304937775218953\t -2.3997097130382685\n",
            "20 \t [ 7.72211387 -2.46199498]\t -71.75388115529327\t -1.1304937775218953\t -2.345249132789344\n"
          ]
        }
      ]
    },
    {
      "cell_type": "code",
      "metadata": {
        "colab": {
          "base_uri": "https://localhost:8080/"
        },
        "id": "4unvifF-GCXp",
        "outputId": "564e2b97-2217-46e2-bda6-a7bedb290b19"
      },
      "source": [
        "### ESTIMATED GP CBM GRADIENTS\n",
        "\n",
        "np.random.seed(run_num_8)\n",
        "surrogate_approx_8 = GaussianProcess(cov_func, optimize=opt)\n",
        "\n",
        "approx_8 = GPGO_multi(surrogate_approx_8, Acquisition_new(util_grad_approx), objfunc, param)\n",
        "approx_8.run(init_evals=n_init, max_iter=iters)\n"
      ],
      "execution_count": 20,
      "outputs": [
        {
          "output_type": "stream",
          "name": "stdout",
          "text": [
            "Evaluation \t Proposed point \t  Current eval. \t  Best eval. \t         Max AcqFunc.\n",
            "init\t [7.46858806 9.37081326]\t -231.40408972112363\t -0.5791878792948744\t    \n",
            "init\t [7.3838908  0.61711383]\t -55.28350237060649\t -0.5791878792948744\t    \n",
            "init\t [-5.34543344 -9.77202391]\t -219.5585614355461\t -0.5791878792948744\t    \n",
            "init\t [-1.39062363 -1.9529728 ]\t -9.562039601098967\t -0.5791878792948744\t    \n",
            "init\t [ 0.45349343 -0.43216408]\t -0.5791878792948744\t -0.5791878792948744\t    \n",
            "1  \t [ 9.69498875 -9.42535902]\t -271.6675921188219\t -0.5791878792948744\t -2.4494900512168254\n",
            "2  \t [-9.83383251  5.77166529]\t -163.3285022998636\t -0.5791878792948744\t -2.4494900512168254\n",
            "3  \t [-1.86374832  6.75869309]\t -94.83342240463715\t -0.5791878792948744\t -2.4494900512159568\n",
            "4  \t [-9.65586204 -5.07440767]\t -144.73489822426617\t -0.5791878792948744\t -2.4494898875159086\n",
            "5  \t [ 4.95960714 -5.5151507 ]\t -85.43147739534227\t -0.5791878792948744\t -2.449489162961908\n",
            "6  \t [  0.80191989 -10.        ]\t -200.64307551603477\t -0.5791878792948744\t -2.44948906253952\n",
            "7  \t [-6.78114712  0.20829845]\t -46.070732791456884\t -0.5791878792948744\t -2.4494886658297714\n",
            "8  \t [3.52330515 4.69562756]\t -56.51151546373298\t -0.5791878792948744\t -2.4494824466356557\n",
            "9  \t [10.         -3.85285395]\t -129.68896718181887\t -0.5791878792948744\t -2.449392608003997\n",
            "10 \t [ 2.13034281 10.        ]\t -204.5383605025982\t -0.5791878792948744\t -2.4493349582122415\n",
            "11 \t [-6.25789675 10.        ]\t -239.16127168675058\t -0.5791878792948744\t -2.4494562328893688\n",
            "12 \t [-4.6699643  -4.72413046]\t -66.44338385533793\t -0.5791878792948744\t -2.4484743195545278\n",
            "13 \t [10.         4.7951421]\t -145.98677552228457\t -0.5791878792948744\t -2.4492103431166377\n",
            "14 \t [-2.46707612  2.10883492]\t -14.980834017366101\t -0.5791878792948744\t -2.447563618749685\n",
            "15 \t [-10. -10.]\t -300.0\t -0.5791878792948744\t -2.447010099284952\n",
            "16 \t [ 3.28338449 -1.18166689]\t -13.57328697282354\t -0.5791878792948744\t -2.44519581925121\n",
            "17 \t [ 0.33693618 -5.38957591]\t -58.20858298429697\t -0.5791878792948744\t -2.44330215167197\n",
            "18 \t [-5.61434254  4.47089936]\t -71.49872444558689\t -0.5791878792948744\t -2.437071388252917\n",
            "19 \t [  5.23447742 -10.        ]\t -227.39975383726227\t -0.5791878792948744\t -2.436786896963256\n",
            "20 \t [1.05327696 1.7187147 ]\t -7.017352759807874\t -0.5791878792948744\t -2.400076246151978\n"
          ]
        }
      ]
    },
    {
      "cell_type": "code",
      "metadata": {
        "colab": {
          "base_uri": "https://localhost:8080/"
        },
        "id": "85OIXcg7GCaJ",
        "outputId": "f0d4a0b3-402e-40ba-a2e6-f4e36af26e28"
      },
      "source": [
        "### ESTIMATED GP CBM GRADIENTS\n",
        "\n",
        "np.random.seed(run_num_9)\n",
        "surrogate_approx_9 = GaussianProcess(cov_func, optimize=opt)\n",
        "\n",
        "approx_9 = GPGO_multi(surrogate_approx_9, Acquisition_new(util_grad_approx), objfunc, param)\n",
        "approx_9.run(init_evals=n_init, max_iter=iters)\n"
      ],
      "execution_count": 21,
      "outputs": [
        {
          "output_type": "stream",
          "name": "stdout",
          "text": [
            "Evaluation \t Proposed point \t  Current eval. \t  Best eval. \t         Max AcqFunc.\n",
            "init\t [-9.79251692  0.03749184]\t -95.896198949837\t -53.418783741178075\t    \n",
            "init\t [-0.08453414 -7.32340942]\t -107.27179711012016\t -53.418783741178075\t    \n",
            "init\t [-7.15777829 -5.62882649]\t -114.6011653140891\t -53.418783741178075\t    \n",
            "init\t [-1.62983639 -5.03797663]\t -53.418783741178075\t -53.418783741178075\t    \n",
            "init\t [-8.31880698 -3.0900272 ]\t -88.29908569649677\t -53.418783741178075\t    \n",
            "1  \t [6.0747954  9.66718496]\t -223.8120694300478\t -53.418783741178075\t -2.4494900512168254\n",
            "2  \t [-3.94738717  9.4159639 ]\t -192.90261763630335\t -53.418783741178075\t -2.4494900512168254\n",
            "3  \t [ 10. -10.]\t -300.0\t -53.418783741178075\t -2.4494900512168254\n",
            "\u001b[1m\u001b[92m4\u001b[0m\t \u001b[1m\u001b[92m[6.86960633 0.80631353]\u001b[0m\t \u001b[1m\u001b[92m-48.49177417615124\u001b[0m\t \u001b[1m\u001b[92m-48.49177417615124\u001b[0m\t \u001b[1m\u001b[92m-2.4494900512168245\u001b[0m\n",
            "\u001b[1m\u001b[92m5\u001b[0m\t \u001b[1m\u001b[92m[-3.38985889  2.55712881]\u001b[0m\t \u001b[1m\u001b[92m-24.56895874514872\u001b[0m\t \u001b[1m\u001b[92m-24.56895874514872\u001b[0m\t \u001b[1m\u001b[92m-2.4494900436478426\u001b[0m\n",
            "6  \t [-9.43535893  5.95042309]\t -159.84106794164182\t -24.56895874514872\t -2.4494888326693416\n",
            "7  \t [ 5.92627071 -4.9618165 ]\t -84.35993058153018\t -24.56895874514872\t -2.449488963375659\n",
            "8  \t [1.77097037 5.11823208]\t -55.52893523952233\t -24.56895874514872\t -2.4494889428544666\n",
            "9  \t [10.          5.38150481]\t -157.92118795690772\t -24.56895874514872\t -2.449479720589981\n",
            "\u001b[1m\u001b[92m10\u001b[0m\t \u001b[1m\u001b[92m[ 1.46315793 -0.48286593]\u001b[0m\t \u001b[1m\u001b[92m-2.6071501432266673\u001b[0m\t \u001b[1m\u001b[92m-2.6071501432266673\u001b[0m\t \u001b[1m\u001b[92m-2.4494733824685295\u001b[0m\n",
            "11 \t [-10. -10.]\t -300.0\t -2.6071501432266673\t -2.4494190003322136\n",
            "12 \t [  4.44728573 -10.        ]\t -219.77835039892022\t -2.6071501432266673\t -2.4493648218854305\n",
            "13 \t [ -4.457804 -10.      ]\t -219.87201650172528\t -2.6071501432266673\t -2.4492461145352142\n",
            "14 \t [ 1.02966663 10.        ]\t -201.06021336269774\t -2.6071501432266673\t -2.448694681644944\n",
            "15 \t [10.         -2.63920261]\t -113.93078080949567\t -2.6071501432266673\t -2.44830460820322\n",
            "16 \t [-8.47006259 10.        ]\t -271.7419602675501\t -2.6071501432266673\t -2.4327666073447523\n",
            "17 \t [-4.10617952 -1.48385415]\t -21.26435646573323\t -2.6071501432266673\t -2.4428060605719195\n",
            "18 \t [5.74956328 4.9015314 ]\t -81.1074980378641\t -2.6071501432266673\t -2.4269831182091868\n",
            "19 \t [ 2.12794114 -3.47051499]\t -28.61708208822644\t -2.6071501432266673\t -2.4178784665822546\n",
            "20 \t [10. 10.]\t -300.0\t -2.6071501432266673\t -2.3998761966717925\n"
          ]
        }
      ]
    },
    {
      "cell_type": "code",
      "metadata": {
        "colab": {
          "base_uri": "https://localhost:8080/"
        },
        "id": "QQBR-qJPGCcp",
        "outputId": "246339cc-69d2-49dd-f1c9-9fdf6519ba89"
      },
      "source": [
        "### ESTIMATED GP CBM GRADIENTS\n",
        "\n",
        "np.random.seed(run_num_10)\n",
        "surrogate_approx_10 = GaussianProcess(cov_func, optimize=opt)\n",
        "\n",
        "approx_10 = GPGO_multi(surrogate_approx_10, Acquisition_new(util_grad_approx), objfunc, param)\n",
        "approx_10.run(init_evals=n_init, max_iter=iters)\n"
      ],
      "execution_count": 22,
      "outputs": [
        {
          "output_type": "stream",
          "name": "stdout",
          "text": [
            "Evaluation \t Proposed point \t  Current eval. \t  Best eval. \t         Max AcqFunc.\n",
            "init\t [ 5.42641287 -9.58496101]\t -213.18891181932327\t -56.66743785259343\t    \n",
            "init\t [2.6729647  4.97607765]\t -56.66743785259343\t -56.66743785259343\t    \n",
            "init\t [-0.02985975 -5.50406709]\t -60.59040065376497\t -56.66743785259343\t    \n",
            "init\t [-6.0387427   5.21061424]\t -90.76741505398337\t -56.66743785259343\t    \n",
            "init\t [-6.61778327 -8.23320372]\t -179.36634226756874\t -56.66743785259343\t    \n",
            "1  \t [10. 10.]\t -300.0\t -56.66743785259343\t -2.4494900512168254\n",
            "\u001b[1m\u001b[92m2\u001b[0m\t \u001b[1m\u001b[92m[2.11155129 0.26933255]\u001b[0m\t \u001b[1m\u001b[92m-4.603728884330075\u001b[0m\t \u001b[1m\u001b[92m-4.603728884330075\u001b[0m\t \u001b[1m\u001b[92m-2.4494900512168254\u001b[0m\n",
            "3  \t [8.50713746 1.33499849]\t -75.93582966295617\t -4.603728884330075\t -2.4494900512168254\n",
            "4  \t [ 7.31105236 -3.79432586]\t -82.24530415903486\t -4.603728884330075\t -2.449489879784585\n",
            "5  \t [-7.55328158 -0.82551542]\t -58.415013996797406\t -4.603728884330075\t -2.4494898745134797\n",
            "6  \t [-10.           9.95089491]\t -298.0406188589491\t -4.603728884330075\t -2.4494900503163186\n",
            "7  \t [-2.64480589 10.        ]\t -206.994998182845\t -4.603728884330075\t -2.4494885558439523\n",
            "8  \t [ 4.20012198 10.        ]\t -217.6410246448848\t -4.603728884330075\t -2.4494534221818207\n",
            "9  \t [-2.14812871 -0.3122501 ]\t -4.809457217913314\t -4.603728884330075\t -2.4494897680904093\n",
            "10 \t [ -1.69797155 -10.        ]\t -202.88310737169007\t -4.603728884330075\t -2.4490780913143237\n",
            "11 \t [ 10. -10.]\t -300.0\t -4.603728884330075\t -2.449490049869052\n",
            "12 \t [-10.          -4.76300243]\t -145.37238435804755\t -4.603728884330075\t -2.448146570904722\n",
            "13 \t [-10.           3.01617561]\t -118.19463066706757\t -4.603728884330075\t -2.4469774877599706\n",
            "14 \t [6.87185752 5.62144933]\t -110.42381103900419\t -4.603728884330075\t -2.449489259711689\n",
            "15 \t [-1.65668897  3.69238031]\t -30.011963024495248\t -4.603728884330075\t -2.4467567150391303\n",
            "16 \t [-4.29757009 -3.96345952]\t -49.88713148313086\t -4.603728884330075\t -2.446426987305906\n",
            "17 \t [ 8.94060726 -6.77310684]\t -171.6844107414845\t -4.603728884330075\t -2.4494900512167908\n",
            "18 \t [ 3.79354029 -5.54638264]\t -75.91566878291768\t -4.603728884330075\t -2.4029162467461176\n",
            "19 \t [ 4.97866729 -0.55267697]\t -25.39803165140541\t -4.603728884330075\t -2.3956848616968385\n",
            "20 \t [-10. -10.]\t -300.0\t -4.603728884330075\t -2.387630970880432\n"
          ]
        }
      ]
    },
    {
      "cell_type": "code",
      "metadata": {
        "colab": {
          "base_uri": "https://localhost:8080/"
        },
        "id": "JS8ejeQ2GCfi",
        "outputId": "811c2669-a98f-47bc-a40a-b77599825362"
      },
      "source": [
        "### ESTIMATED GP CBM GRADIENTS\n",
        "\n",
        "np.random.seed(run_num_11)\n",
        "surrogate_approx_11 = GaussianProcess(cov_func, optimize=opt)\n",
        "\n",
        "approx_11 = GPGO_multi(surrogate_approx_11, Acquisition_new(util_grad_approx), objfunc, param)\n",
        "approx_11.run(init_evals=n_init, max_iter=iters)\n"
      ],
      "execution_count": 23,
      "outputs": [
        {
          "output_type": "stream",
          "name": "stdout",
          "text": [
            "Evaluation \t Proposed point \t  Current eval. \t  Best eval. \t         Max AcqFunc.\n",
            "init\t [-6.39460622 -9.61049517]\t -225.61422357508457\t -2.716881462565864\t    \n",
            "init\t [-0.73562947  4.49867858]\t -41.01736871863572\t -2.716881462565864\t    \n",
            "init\t [-1.59592791 -0.29145804]\t -2.716881462565864\t -2.716881462565864\t    \n",
            "init\t [-9.74438371 -0.25256785]\t -95.08059489374317\t -2.716881462565864\t    \n",
            "init\t [8.83613305 7.01590179]\t -176.5230030066306\t -2.716881462565864\t    \n",
            "1  \t [ 1.99086793 -8.88652641]\t -161.90425830617428\t -2.716881462565864\t -2.4494900512168254\n",
            "2  \t [ 6.89877062 -3.95670624]\t -78.9040846386408\t -2.716881462565864\t -2.4494900512168254\n",
            "3  \t [ 10. -10.]\t -300.0\t -2.716881462565864\t -2.449490047439652\n",
            "4  \t [-9.61343956  9.53289229]\t -274.1702911788162\t -2.716881462565864\t -2.4494900512168254\n",
            "5  \t [ 4.38485979 10.        ]\t -219.22699538443737\t -2.716881462565864\t -2.449489164443342\n",
            "6  \t [5.24860912 2.85966119]\t -43.90322199383101\t -2.716881462565864\t -2.4494900512165607\n",
            "7  \t [-3.13061386 10.        ]\t -209.80074316382127\t -2.716881462565864\t -2.4494896469353717\n",
            "8  \t [-6.34328739  4.52497194]\t -81.18803709486731\t -2.716881462565864\t -2.4494828648118867\n",
            "9  \t [-5.23681028 -3.85828579]\t -57.19692044875505\t -2.716881462565864\t -2.449480411734734\n",
            "10 \t [9.95727171 0.864619  ]\t -100.64239188267835\t -2.716881462565864\t -2.4494404819397366\n",
            "11 \t [ 1.62632207 -3.43936373]\t -26.30336920364397\t -2.716881462565864\t -2.4493777218681414\n",
            "12 \t [-10.          -5.70474283]\t -165.08818143216394\t -2.716881462565864\t -2.449489956767054\n",
            "13 \t [-2.51773726 -7.25481961]\t -111.60381600439737\t -2.716881462565864\t -2.449489030590748\n",
            "14 \t [-5.07766907  0.40786702]\t -26.11543421372351\t -2.716881462565864\t -2.4393421855958364\n",
            "15 \t [1.67906986 0.75105106]\t -3.947430978107828\t -2.716881462565864\t -2.438745895941131\n",
            "16 \t [ 6.10710956 -8.01287875]\t -165.7092389278263\t -2.716881462565864\t -2.419543651588613\n",
            "17 \t [2.84968497 5.99571389]\t -80.01787460997306\t -2.716881462565864\t -2.418508704313675\n",
            "18 \t [ 4.46807878 -0.86764806]\t -21.469354287187354\t -2.716881462565864\t -2.3971326317742565\n",
            "19 \t [-10.           3.99695223]\t -131.951254266687\t -2.716881462565864\t -2.399858645412131\n",
            "20 \t [10.         -5.81364701]\t -167.59698318957868\t -2.716881462565864\t -2.3648675840836115\n"
          ]
        }
      ]
    },
    {
      "cell_type": "code",
      "metadata": {
        "colab": {
          "base_uri": "https://localhost:8080/"
        },
        "id": "DXwjUVZ4GCii",
        "outputId": "4b8e2591-2a0f-41c2-82c4-491d9e306fd1"
      },
      "source": [
        "### ESTIMATED GP CBM GRADIENTS\n",
        "\n",
        "np.random.seed(run_num_12)\n",
        "surrogate_approx_12 = GaussianProcess(cov_func, optimize=opt)\n",
        "\n",
        "approx_12 = GPGO_multi(surrogate_approx_12, Acquisition_new(util_grad_approx), objfunc, param)\n",
        "approx_12.run(init_evals=n_init, max_iter=iters)\n"
      ],
      "execution_count": 24,
      "outputs": [
        {
          "output_type": "stream",
          "name": "stdout",
          "text": [
            "Evaluation \t Proposed point \t  Current eval. \t  Best eval. \t         Max AcqFunc.\n",
            "init\t [-6.91674315  4.80099393]\t -93.94042127407329\t -23.318590147261595\t    \n",
            "init\t [-4.7336997   0.67478787]\t -23.318590147261595\t -23.318590147261595\t    \n",
            "init\t [-9.70850075  8.37494016]\t -234.53423225249676\t -23.318590147261595\t    \n",
            "init\t [ 8.01429708 -9.33157145]\t -238.38540908259807\t -23.318590147261595\t    \n",
            "init\t [ 9.13898673 -7.25581357]\t -188.8147395776428\t -23.318590147261595\t    \n",
            "1  \t [4.66251955 4.05244711]\t -54.583743654491954\t -23.318590147261595\t -2.4494900512168254\n",
            "2  \t [-3.75432006 -8.6025265 ]\t -162.1018436659056\t -23.318590147261595\t -2.4494900512168254\n",
            "3  \t [ 1.15529981 -4.1835841 ]\t -36.3394694490003\t -23.318590147261595\t -2.449490024030086\n",
            "4  \t [10. 10.]\t -300.0\t -23.318590147261595\t -2.449490051216455\n",
            "5  \t [-10.          -5.06744508]\t -151.35799937625652\t -23.318590147261595\t -2.449490050685761\n",
            "6  \t [ 7.60598726 -1.00341282]\t -59.86471683488458\t -23.318590147261595\t -2.4494889508286595\n",
            "7  \t [2.84326371 9.57059691]\t -191.276799070881\t -23.318590147261595\t -2.449488776052376\n",
            "8  \t [-3.73625415  9.82083157]\t -206.8570605707396\t -23.318590147261595\t -2.449488265067582\n",
            "9  \t [  2.00282095 -10.        ]\t -204.01129174235146\t -23.318590147261595\t -2.44948621793245\n",
            "10 \t [-0.92317029  4.64089155]\t -43.927992059469084\t -23.318590147261595\t -2.449478946705257\n",
            "11 \t [10.         4.0975128]\t -133.57922235595152\t -23.318590147261595\t -2.4494643979596438\n",
            "12 \t [-10.           0.41374173]\t -100.34236444591707\t -23.318590147261595\t -2.4494299120814844\n",
            "13 \t [-10. -10.]\t -300.0\t -23.318590147261595\t -2.449095707000003\n",
            "\u001b[1m\u001b[92m14\u001b[0m\t \u001b[1m\u001b[92m[1.38347474 0.45760799]\u001b[0m\t \u001b[1m\u001b[92m-2.332812503650805\u001b[0m\t \u001b[1m\u001b[92m-2.332812503650805\u001b[0m\t \u001b[1m\u001b[92m-2.448677253854265\u001b[0m\n",
            "15 \t [-3.71627786 -3.68336365]\t -40.94505670065885\t -2.332812503650805\t -2.448404874187015\n",
            "16 \t [ 5.25814821 -4.83722844]\t -74.44568068855351\t -2.332812503650805\t -2.4422981412961033\n",
            "17 \t [-1.2254849  -0.66599462]\t -2.3889108985174063\t -2.332812503650805\t -2.4067619009888976\n",
            "18 \t [6.62168999 7.37492654]\t -152.62586130843584\t -2.332812503650805\t -2.4096875204575645\n",
            "19 \t [ 3.72661094 -0.97730848]\t -15.797892876112286\t -2.332812503650805\t -2.396003856779505\n",
            "20 \t [10.         -3.48600861]\t -124.30451206147058\t -2.332812503650805\t -2.319656452575887\n"
          ]
        }
      ]
    },
    {
      "cell_type": "code",
      "metadata": {
        "colab": {
          "base_uri": "https://localhost:8080/"
        },
        "id": "CphOPndPGClX",
        "outputId": "719ea2e3-10ea-40bf-b576-cc2966e45b5d"
      },
      "source": [
        "### ESTIMATED GP CBM GRADIENTS\n",
        "\n",
        "np.random.seed(run_num_13)\n",
        "surrogate_approx_13 = GaussianProcess(cov_func, optimize=opt)\n",
        "\n",
        "approx_13 = GPGO_multi(surrogate_approx_13, Acquisition_new(util_grad_approx), objfunc, param)\n",
        "approx_13.run(init_evals=n_init, max_iter=iters)\n"
      ],
      "execution_count": 25,
      "outputs": [
        {
          "output_type": "stream",
          "name": "stdout",
          "text": [
            "Evaluation \t Proposed point \t  Current eval. \t  Best eval. \t         Max AcqFunc.\n",
            "init\t [ 5.55404821 -5.2491756 ]\t -85.95514048001408\t -47.45541115581226\t    \n",
            "init\t [6.48557065 9.31498396]\t -215.600479080162\t -47.45541115581226\t    \n",
            "init\t [ 9.45202228 -0.93101505]\t -91.0743031984701\t -47.45541115581226\t    \n",
            "init\t [2.18084926 5.51053029]\t -65.48799167425372\t -47.45541115581226\t    \n",
            "init\t [2.8322669  4.44036459]\t -47.45541115581226\t -47.45541115581226\t    \n",
            "1  \t [-8.69830926  2.59657998]\t -89.14503917528086\t -47.45541115581226\t -2.4494900512168254\n",
            "2  \t [-5.9673185  -6.48540274]\t -119.72978734259729\t -47.45541115581226\t -2.4494900512168254\n",
            "3  \t [ -0.09997355 -10.        ]\t -200.0099947104059\t -47.45541115581226\t -2.4494900469918806\n",
            "4  \t [-10.  10.]\t -300.0\t -47.45541115581226\t -2.4494900511928837\n",
            "\u001b[1m\u001b[92m5\u001b[0m\t \u001b[1m\u001b[92m[ 0.01886313 -1.74696988]\u001b[0m\t \u001b[1m\u001b[92m-6.1041633558475406\u001b[0m\t \u001b[1m\u001b[92m-6.1041633558475406\u001b[0m\t \u001b[1m\u001b[92m-2.4494900288590276\u001b[0m\n",
            "6  \t [ 10. -10.]\t -300.0\t -6.1041633558475406\t -2.4494900236797226\n",
            "7  \t [-2.56400012 10.        ]\t -206.57409661897597\t -6.1041633558475406\t -2.449490035420677\n",
            "8  \t [-2.87275484  2.74181201]\t -23.28778653024679\t -6.1041633558475406\t -2.4494840771300304\n",
            "9  \t [10.          4.72043253]\t -144.56496645463946\t -6.1041633558475406\t -2.4494796611640566\n",
            "10 \t [-10.          -2.74087135]\t -115.0247514658673\t -6.1041633558475406\t -2.449461718955449\n",
            "11 \t [-10. -10.]\t -300.0\t -6.1041633558475406\t -2.449453447516343\n",
            "12 \t [ 4.35937311 -0.21030581]\t -19.092590963792855\t -6.1041633558475406\t -2.449159823957649\n",
            "13 \t [-4.86967195 -1.52062929]\t -28.338331787996683\t -6.1041633558475406\t -2.4490866610291055\n",
            "14 \t [  4.89149847 -10.        ]\t -223.92675732133512\t -6.1041633558475406\t -2.4483447683736257\n",
            "15 \t [-6.05820067  6.53484868]\t -122.11028977820007\t -6.1041633558475406\t -2.448123687511318\n",
            "16 \t [-1.34672111 -5.38598031]\t -59.8312254656866\t -6.1041633558475406\t -2.446022157777092\n",
            "17 \t [10.         -5.31127235]\t -156.41922792820066\t -6.1041633558475406\t -2.4421043380781486\n",
            "18 \t [6.37712373 2.78189297]\t -56.14556407975731\t -6.1041633558475406\t -2.411109587580898\n",
            "19 \t [ 1.98124313 10.        ]\t -203.92532432913964\t -6.1041633558475406\t -2.441578046407282\n",
            "20 \t [ -4.33618757 -10.        ]\t -218.8025226451393\t -6.1041633558475406\t -2.4038871594515077\n"
          ]
        }
      ]
    },
    {
      "cell_type": "code",
      "metadata": {
        "colab": {
          "base_uri": "https://localhost:8080/"
        },
        "id": "ojHTeARNGCoi",
        "outputId": "2c0e438d-b59b-423f-d3f6-854a88823e07"
      },
      "source": [
        "### ESTIMATED GP CBM GRADIENTS\n",
        "\n",
        "np.random.seed(run_num_14)\n",
        "surrogate_approx_14 = GaussianProcess(cov_func, optimize=opt)\n",
        "\n",
        "approx_14 = GPGO_multi(surrogate_approx_14, Acquisition_new(util_grad_approx), objfunc, param)\n",
        "approx_14.run(init_evals=n_init, max_iter=iters)\n"
      ],
      "execution_count": 26,
      "outputs": [
        {
          "output_type": "stream",
          "name": "stdout",
          "text": [
            "Evaluation \t Proposed point \t  Current eval. \t  Best eval. \t         Max AcqFunc.\n",
            "init\t [0.27886688 5.46330104]\t -59.77308327621332\t -26.48525945153859\t    \n",
            "init\t [ 7.40855371 -9.83906103]\t -248.5009120212351\t -26.48525945153859\t    \n",
            "init\t [-3.80528149  9.15207479]\t -182.0011130426615\t -26.48525945153859\t    \n",
            "init\t [ 0.26233425 -3.6343115 ]\t -26.48525945153859\t -26.48525945153859\t    \n",
            "init\t [ 0.78399875 -5.57490115]\t -62.773699734431055\t -26.48525945153859\t    \n",
            "1  \t [ 9.82765998 -0.95725402]\t -98.41557117870066\t -26.48525945153859\t -2.4494900512168254\n",
            "2  \t [-8.1477833   0.47898709]\t -66.84523003287876\t -26.48525945153859\t -2.4494900512168254\n",
            "3  \t [ -7.20695019 -10.        ]\t -251.94013110331883\t -26.48525945153859\t -2.4494900512168254\n",
            "4  \t [10.          9.26137472]\t -271.5461234709518\t -26.48525945153859\t -2.4494900512168254\n",
            "5  \t [-10.  10.]\t -300.0\t -26.48525945153859\t -2.4494897560991653\n",
            "\u001b[1m\u001b[92m6\u001b[0m\t \u001b[1m\u001b[92m[3.92353293 0.90665186]\u001b[0m\t \u001b[1m\u001b[92m-17.038145794849914\u001b[0m\t \u001b[1m\u001b[92m-17.038145794849914\u001b[0m\t \u001b[1m\u001b[92m-2.4494881505458306\u001b[0m\n",
            "7  \t [ 3.76543245 10.        ]\t -214.17848154329914\t -17.038145794849914\t -2.449487350614145\n",
            "8  \t [-10.        -4.843121]\t -146.91164194955422\t -17.038145794849914\t -2.449481519542621\n",
            "9  \t [7.81755744 4.15485202]\t -95.63979494002666\t -17.038145794849914\t -2.4494267446123454\n",
            "\u001b[1m\u001b[92m10\u001b[0m\t \u001b[1m\u001b[92m[-2.65608327  0.81863241]\u001b[0m\t \u001b[1m\u001b[92m-8.39509638357599\u001b[0m\t \u001b[1m\u001b[92m-8.39509638357599\u001b[0m\t \u001b[1m\u001b[92m-2.449464966606912\u001b[0m\n",
            "11 \t [-4.62735707 -4.84375493]\t -68.3363571031647\t -8.39509638357599\t -2.4493977351432847\n",
            "12 \t [ 5.87993154 -4.46829898]\t -74.50498655614541\t -8.39509638357599\t -2.449386317756169\n",
            "13 \t [-7.38007205  5.34790681]\t -111.66567789124814\t -8.39509638357599\t -2.4491060207855515\n",
            "14 \t [ -1.70833791 -10.        ]\t -202.91841840167683\t -8.39509638357599\t -2.4493781624466635\n",
            "15 \t [10.         -5.83558113]\t -168.10801416375094\t -8.39509638357599\t -2.4447155993866456\n",
            "16 \t [  2.83143026 -10.        ]\t -208.0169973329602\t -8.39509638357599\t -2.4424201167115305\n",
            "17 \t [-3.46556377  4.20570808]\t -47.38609317017697\t -8.39509638357599\t -2.41339396978506\n",
            "18 \t [4.1397136  5.62819446]\t -80.49037444202035\t -8.39509638357599\t -2.406555046145455\n",
            "\u001b[1m\u001b[92m19\u001b[0m\t \u001b[1m\u001b[92m[0.51130615 1.30193637]\u001b[0m\t \u001b[1m\u001b[92m-3.651510611844004\u001b[0m\t \u001b[1m\u001b[92m-3.651510611844004\u001b[0m\t \u001b[1m\u001b[92m-2.396298625169614\u001b[0m\n",
            "20 \t [-0.0942958 10.       ]\t -200.00889169701443\t -3.651510611844004\t -2.3212631328859756\n"
          ]
        }
      ]
    },
    {
      "cell_type": "code",
      "metadata": {
        "colab": {
          "base_uri": "https://localhost:8080/"
        },
        "id": "vCJzn4vWGCs3",
        "outputId": "48410098-f56c-4903-9486-0ba69cd790a1"
      },
      "source": [
        "### ESTIMATED GP CBM GRADIENTS\n",
        "\n",
        "np.random.seed(run_num_15)\n",
        "surrogate_approx_15 = GaussianProcess(cov_func, optimize=opt)\n",
        "\n",
        "approx_15 = GPGO_multi(surrogate_approx_15, Acquisition_new(util_grad_approx), objfunc, param)\n",
        "approx_15.run(init_evals=n_init, max_iter=iters)\n"
      ],
      "execution_count": 27,
      "outputs": [
        {
          "output_type": "stream",
          "name": "stdout",
          "text": [
            "Evaluation \t Proposed point \t  Current eval. \t  Best eval. \t         Max AcqFunc.\n",
            "init\t [ 6.97635395 -6.4220815 ]\t -131.15577599697437\t -20.897907943365695\t    \n",
            "init\t [-8.91273571 -2.76923108]\t -94.77413943464936\t -20.897907943365695\t    \n",
            "init\t [-4.49198143  0.6000045 ]\t -20.897907943365695\t -20.897907943365695\t    \n",
            "init\t [-3.88162169 -3.91051282]\t -45.651207890195394\t -20.897907943365695\t    \n",
            "init\t [-7.76517448 -5.00201972]\t -110.33833725681367\t -20.897907943365695\t    \n",
            "1  \t [-1.08003705  9.49213271]\t -181.3676469637466\t -20.897907943365695\t -2.4494900512168254\n",
            "2  \t [10. 10.]\t -300.0\t -20.897907943365695\t -2.4494900512168254\n",
            "3  \t [3.69182439 3.52226735]\t -38.44230185968878\t -20.897907943365695\t -2.449490051198033\n",
            "4  \t [-9.85336983  7.92181089]\t -222.59907269893387\t -20.897907943365695\t -2.449490051216825\n",
            "5  \t [ -2.24037026 -10.        ]\t -205.01925888356232\t -20.897907943365695\t -2.449489998553225\n",
            "6  \t [10.          2.38189307]\t -111.34682918560738\t -20.897907943365695\t -2.449490028247863\n",
            "\u001b[1m\u001b[92m7\u001b[0m\t \u001b[1m\u001b[92m[ 1.86482494 -1.97002997]\u001b[0m\t \u001b[1m\u001b[92m-11.239608221620037\u001b[0m\t \u001b[1m\u001b[92m-11.239608221620037\u001b[0m\t \u001b[1m\u001b[92m-2.4494887891259434\u001b[0m\n",
            "8  \t [-10. -10.]\t -300.0\t -11.239608221620037\t -2.4494732636517123\n",
            "9  \t [4.46644967 8.90559245]\t -178.5683264664385\t -11.239608221620037\t -2.4494483644340077\n",
            "10 \t [-10.           2.43559626]\t -111.86425833036681\t -11.239608221620037\t -2.449423941887756\n",
            "11 \t [-4.85985797  5.58675826]\t -86.04195511854635\t -11.239608221620037\t -2.4493874777868783\n",
            "12 \t [  3.1476386 -10.       ]\t -209.9076287295791\t -11.239608221620037\t -2.4493677245671597\n",
            "13 \t [ 6.45141177 -1.2466238 ]\t -44.72885559751573\t -11.239608221620037\t -2.4491389926038982\n",
            "14 \t [ 10. -10.]\t -300.0\t -11.239608221620037\t -2.448363646790264\n",
            "15 \t [-0.77037696  3.01299217]\t -18.74972424914974\t -11.239608221620037\t -2.44776314294158\n",
            "16 \t [ 0.43149802 -5.87004033]\t -69.1009374172399\t -11.239608221620037\t -2.4470925709871008\n",
            "17 \t [-5.70617698 10.        ]\t -232.56045576075184\t -11.239608221620037\t -2.4435551131265205\n",
            "18 \t [7.63013633 5.88455777]\t -127.47502078703127\t -11.239608221620037\t -2.4335615850736847\n",
            "19 \t [10.         -3.19685548]\t -120.43976987550887\t -11.239608221620037\t -2.439586606178745\n",
            "\u001b[1m\u001b[92m20\u001b[0m\t \u001b[1m\u001b[92m[-1.23782416 -0.83781817]\u001b[0m\t \u001b[1m\u001b[92m-2.936087197988206\u001b[0m\t \u001b[1m\u001b[92m-2.936087197988206\u001b[0m\t \u001b[1m\u001b[92m-2.395544427848396\u001b[0m\n"
          ]
        }
      ]
    },
    {
      "cell_type": "code",
      "metadata": {
        "colab": {
          "base_uri": "https://localhost:8080/"
        },
        "id": "bGGkhp-kGCw6",
        "outputId": "048aaaa7-770d-446a-da08-05d04a35f85a"
      },
      "source": [
        "### ESTIMATED GP CBM GRADIENTS\n",
        "\n",
        "np.random.seed(run_num_16)\n",
        "surrogate_approx_16 = GaussianProcess(cov_func, optimize=opt)\n",
        "\n",
        "approx_16 = GPGO_multi(surrogate_approx_16, Acquisition_new(util_grad_approx), objfunc, param)\n",
        "approx_16.run(init_evals=n_init, max_iter=iters)\n"
      ],
      "execution_count": 28,
      "outputs": [
        {
          "output_type": "stream",
          "name": "stdout",
          "text": [
            "Evaluation \t Proposed point \t  Current eval. \t  Best eval. \t         Max AcqFunc.\n",
            "init\t [-5.53417842  0.46326683]\t -31.056363058280656\t -31.056363058280656\t    \n",
            "init\t [ 1.01402913 -9.087961  ]\t -166.21032525826828\t -31.056363058280656\t    \n",
            "init\t [-2.78542329 -5.53838117]\t -69.10591480510183\t -31.056363058280656\t    \n",
            "init\t [ 3.77452324 -6.7253715 ]\t -104.70826928786903\t -31.056363058280656\t    \n",
            "init\t [-8.59350266  8.8202172 ]\t -229.44075111810224\t -31.056363058280656\t    \n",
            "1  \t [3.97836507 9.61245232]\t -200.62586785623955\t -31.056363058280656\t -2.4494900512168254\n",
            "2  \t [-10. -10.]\t -300.0\t -31.056363058280656\t -2.449490051216817\n",
            "3  \t [ 10. -10.]\t -300.0\t -31.056363058280656\t -2.4494900502747385\n",
            "4  \t [ 8.8300141  -0.10570929]\t -77.99149800000582\t -31.056363058280656\t -2.44949005121678\n",
            "5  \t [-2.22531694  5.42968011]\t -63.91488757640133\t -31.056363058280656\t -2.4494900512168254\n",
            "6  \t [-10.          -3.86254076]\t -129.83844217437115\t -31.056363058280656\t -2.4494889965322812\n",
            "7  \t [9.3858397  6.66247511]\t -176.87113600275023\t -31.056363058280656\t -2.449489469204282\n",
            "\u001b[1m\u001b[92m8\u001b[0m\t \u001b[1m\u001b[92m[3.24030243 1.82730758]\u001b[0m\t \u001b[1m\u001b[92m-17.177665810981885\u001b[0m\t \u001b[1m\u001b[92m-17.177665810981885\u001b[0m\t \u001b[1m\u001b[92m-2.44948904704887\u001b[0m\n",
            "9  \t [-10.           3.23811517]\t -120.9707797385191\t -17.177665810981885\t -2.449467309775157\n",
            "\u001b[1m\u001b[92m10\u001b[0m\t \u001b[1m\u001b[92m[-0.68790861 -0.87160387]\u001b[0m\t \u001b[1m\u001b[92m-1.9926048821287814\u001b[0m\t \u001b[1m\u001b[92m-1.9926048821287814\u001b[0m\t \u001b[1m\u001b[92m-2.4492676527977446\u001b[0m\n",
            "11 \t [ -4.67398325 -10.        ]\t -221.84611942395944\t -1.9926048821287814\t -2.449104690561539\n",
            "12 \t [10.         -4.83877651]\t -146.82751628414385\t -1.9926048821287814\t -2.4489749063445445\n",
            "13 \t [-3.45418285 10.        ]\t -211.93137916056156\t -1.9926048821287814\t -2.4489474181922275\n",
            "14 \t [ 4.60231536 -2.18383512]\t -30.719578294691466\t -1.9926048821287814\t -2.446574327907938\n",
            "15 \t [2.07814109 5.54001838]\t -65.70227768741508\t -1.9926048821287814\t -2.437897110913372\n",
            "16 \t [6.48183785 3.52506711]\t -66.86641817333759\t -1.9926048821287814\t -2.425708665665426\n",
            "17 \t [ 0.86443082 -3.56709504]\t -26.195574726934055\t -1.9926048821287814\t -2.4245906434334032\n",
            "18 \t [-6.18263153  4.94627306]\t -87.15616702320531\t -1.9926048821287814\t -2.424546377671517\n",
            "19 \t [-6.78304033 -6.30748322]\t -125.57832520407602\t -1.9926048821287814\t -2.408224240172033\n",
            "20 \t [-0.54922921  1.89189659]\t -7.460198141769192\t -1.9926048821287814\t -2.4059173586907523\n"
          ]
        }
      ]
    },
    {
      "cell_type": "code",
      "metadata": {
        "id": "Yrs2mp7hGC1Z",
        "colab": {
          "base_uri": "https://localhost:8080/"
        },
        "outputId": "e8b5fe16-7a76-4cba-bc89-6a022c466473"
      },
      "source": [
        "### ESTIMATED GP CBM GRADIENTS\n",
        "\n",
        "np.random.seed(run_num_17)\n",
        "surrogate_approx_17 = GaussianProcess(cov_func, optimize=opt)\n",
        "\n",
        "approx_17 = GPGO_multi(surrogate_approx_17, Acquisition_new(util_grad_approx), objfunc, param)\n",
        "approx_17.run(init_evals=n_init, max_iter=iters)\n"
      ],
      "execution_count": 29,
      "outputs": [
        {
          "output_type": "stream",
          "name": "stdout",
          "text": [
            "Evaluation \t Proposed point \t  Current eval. \t  Best eval. \t         Max AcqFunc.\n",
            "init\t [-4.10669995  0.61173511]\t -17.613424143360255\t -12.137436774523842\t    \n",
            "init\t [-6.16958426 -8.64199284]\t -187.43185031516856\t -12.137436774523842\t    \n",
            "init\t [5.7397092  3.12667044]\t -52.49639772521824\t -12.137436774523842\t    \n",
            "init\t [2.75041792 1.51205788]\t -12.137436774523842\t -12.137436774523842\t    \n",
            "init\t [-9.21874168 -2.84372791]\t -101.1587749488933\t -12.137436774523842\t    \n",
            "1  \t [-10.  10.]\t -300.0\t -12.137436774523842\t -2.4494900512168254\n",
            "2  \t [ 4.54825031 -8.71744454]\t -172.6742595800706\t -12.137436774523842\t -2.4494900512168254\n",
            "3  \t [9.12376544 9.73620918]\t -272.83063435528607\t -12.137436774523842\t -2.4494900511889055\n",
            "4  \t [-0.05385845  7.96254756]\t -126.80722802594437\t -12.137436774523842\t -2.4494900510965807\n",
            "5  \t [ 9.06636127 -2.74323799]\t -97.24961590065784\t -12.137436774523842\t -2.4494900477398445\n",
            "6  \t [ 0.70729256 -3.78878158]\t -29.209994554081746\t -12.137436774523842\t -2.449489167485837\n",
            "7  \t [-10.           3.09949319]\t -119.21371603272738\t -12.137436774523842\t -2.449489236031323\n",
            "8  \t [-1.02859872 -9.21677652]\t -170.95595419028933\t -12.137436774523842\t -2.4494900512168254\n",
            "9  \t [ 10. -10.]\t -300.0\t -12.137436774523842\t -2.4494767145479317\n",
            "10 \t [-5.3824077  6.2752506]\t -107.72785280328094\t -12.137436774523842\t -2.4494667613556977\n",
            "11 \t [ 5.3709798  -3.82423889]\t -58.0970301095971\t -12.137436774523842\t -2.449489463290196\n",
            "12 \t [-4.08047072 -4.0037084 ]\t -48.70960315469181\t -12.137436774523842\t -2.4488574869174053\n",
            "13 \t [10.          4.68999303]\t -143.99206927369764\t -12.137436774523842\t -2.4483303707539905\n",
            "14 \t [4.6671753  7.70064864]\t -140.3825043096074\t -12.137436774523842\t -2.447344586645584\n",
            "15 \t [-0.9890081   3.39634347]\t -24.04843499634902\t -12.137436774523842\t -2.4458669962755955\n",
            "16 \t [-10. -10.]\t -300.0\t -12.137436774523842\t -2.425204315783533\n",
            "\u001b[1m\u001b[92m17\u001b[0m\t \u001b[1m\u001b[92m[-0.5691051  -0.44170958]\u001b[0m\t \u001b[1m\u001b[92m-0.7140953202631145\u001b[0m\t \u001b[1m\u001b[92m-0.7140953202631145\u001b[0m\t \u001b[1m\u001b[92m-2.4494891859957537\u001b[0m\n",
            "18 \t [-3.82736749 10.        ]\t -214.64874187046078\t -0.7140953202631145\t -2.427437320414121\n",
            "19 \t [8.93852462 0.96801892]\t -81.77134370793586\t -0.7140953202631145\t -2.344704920361293\n",
            "20 \t [-7.27419568  0.42525615]\t -53.2756083785993\t -0.7140953202631145\t -2.3149682377496856\n"
          ]
        }
      ]
    },
    {
      "cell_type": "code",
      "metadata": {
        "id": "f0HIEP3PIUEa",
        "colab": {
          "base_uri": "https://localhost:8080/"
        },
        "outputId": "264e66ee-efb8-4bb4-fb05-118d7a6996c0"
      },
      "source": [
        "### ESTIMATED GP CBM GRADIENTS\n",
        "\n",
        "np.random.seed(run_num_18)\n",
        "surrogate_approx_18 = GaussianProcess(cov_func, optimize=opt)\n",
        "\n",
        "approx_18 = GPGO_multi(surrogate_approx_18, Acquisition_new(util_grad_approx), objfunc, param)\n",
        "approx_18.run(init_evals=n_init, max_iter=iters)\n"
      ],
      "execution_count": 30,
      "outputs": [
        {
          "output_type": "stream",
          "name": "stdout",
          "text": [
            "Evaluation \t Proposed point \t  Current eval. \t  Best eval. \t         Max AcqFunc.\n",
            "init\t [3.00748483 0.10906747]\t -9.068756459576363\t -9.068756459576363\t    \n",
            "init\t [ 7.57202942 -6.36319549]\t -138.3161432668939\t -9.068756459576363\t    \n",
            "init\t [7.04466137 5.00272572]\t -99.6817831686958\t -9.068756459576363\t    \n",
            "init\t [3.32203335 9.75790897]\t -201.4694803352836\t -9.068756459576363\t    \n",
            "init\t [-4.86063155 -9.43388149]\t -201.6219791510955\t -9.068756459576363\t    \n",
            "1  \t [-6.1664519   4.28513481]\t -74.74988979878172\t -9.068756459576363\t -2.4494900512168254\n",
            "2  \t [-10.          -2.02144221]\t -108.17245724964353\t -9.068756459576363\t -2.4494900512148043\n",
            "3  \t [-10.  10.]\t -300.0\t -9.068756459576363\t -2.4494900512168254\n",
            "4  \t [-3.21759186  9.95405735]\t -208.5194127196915\t -9.068756459576363\t -2.449490051076426\n",
            "5  \t [ 4.59940623 -9.59713586]\t -205.36457092968183\t -9.068756459576363\t -2.4494900512168254\n",
            "6  \t [-0.88289138 -3.88087663]\t -30.901904052010547\t -9.068756459576363\t -2.4494892251561406\n",
            "7  \t [10.         -0.96291614]\t -101.85441497388237\t -9.068756459576363\t -2.449488352533553\n",
            "8  \t [10. 10.]\t -300.0\t -9.068756459576363\t -2.4494876417544575\n",
            "9  \t [0.02614235 4.71096393]\t -44.38704578153193\t -9.068756459576363\t -2.4494866688471997\n",
            "10 \t [-4.79223236 -0.76190618]\t -24.12649301519592\t -9.068756459576363\t -2.449358431428788\n",
            "11 \t [-10.          -7.56582959]\t -214.48355470857783\t -9.068756459576363\t -2.4494462489967628\n",
            "12 \t [-0.10416986 -8.42549382]\t -141.98874347718308\t -9.068756459576363\t -2.447563623208438\n",
            "13 \t [ 3.4918165  -4.07238652]\t -45.36144642962863\t -9.068756459576363\t -2.4465481139838503\n",
            "14 \t [-5.92218027 -4.81419877]\t -81.42523872838032\t -9.068756459576363\t -2.445531311103644\n",
            "15 \t [-10.           6.03926846]\t -172.9455271018288\t -9.068756459576363\t -2.4494900512168254\n",
            "16 \t [ 10. -10.]\t -300.0\t -9.068756459576363\t -2.4445745964157375\n",
            "\u001b[1m\u001b[92m17\u001b[0m\t \u001b[1m\u001b[92m[-0.88498276  0.50112019]\u001b[0m\t \u001b[1m\u001b[92m-1.2854373711962621\u001b[0m\t \u001b[1m\u001b[92m-1.2854373711962621\u001b[0m\t \u001b[1m\u001b[92m-2.4415853951239908\u001b[0m\n",
            "18 \t [-10.           1.94107668]\t -107.53555735723005\t -1.2854373711962621\t -2.4073989090878545\n",
            "19 \t [ 6.0677922  -1.06604629]\t -39.091011596709784\t -1.2854373711962621\t -2.3972448055782816\n",
            "20 \t [3.42549846 3.91965455]\t -42.461423340168\t -1.2854373711962621\t -2.4494890957965243\n"
          ]
        }
      ]
    },
    {
      "cell_type": "code",
      "metadata": {
        "id": "S3mxRQDLIUPC",
        "colab": {
          "base_uri": "https://localhost:8080/"
        },
        "outputId": "c61add3d-afb3-4e13-b1b0-e8b36539a04a"
      },
      "source": [
        "### ESTIMATED GP CBM GRADIENTS\n",
        "\n",
        "np.random.seed(run_num_19)\n",
        "surrogate_approx_19 = GaussianProcess(cov_func, optimize=opt)\n",
        "\n",
        "approx_19 = GPGO_multi(surrogate_approx_19, Acquisition_new(util_grad_approx), objfunc, param)\n",
        "approx_19.run(init_evals=n_init, max_iter=iters)\n"
      ],
      "execution_count": 31,
      "outputs": [
        {
          "output_type": "stream",
          "name": "stdout",
          "text": [
            "Evaluation \t Proposed point \t  Current eval. \t  Best eval. \t         Max AcqFunc.\n",
            "init\t [-8.04932797  5.22499433]\t -119.39281225846176\t -87.03025225125222\t    \n",
            "init\t [-5.06124054 -7.23736625]\t -130.3750962570555\t -87.03025225125222\t    \n",
            "init\t [-3.37106873 -8.3400087 ]\t -150.4755946408245\t -87.03025225125222\t    \n",
            "init\t [3.43954163 6.13187596]\t -87.03025225125222\t -87.03025225125222\t    \n",
            "init\t [9.65483829 2.7132147 ]\t -107.93897039562282\t -87.03025225125222\t    \n",
            "1  \t [ 10. -10.]\t -300.0\t -87.03025225125222\t -2.4494900512168254\n",
            "\u001b[1m\u001b[92m2\u001b[0m\t \u001b[1m\u001b[92m[ 4.81772344 -2.77685984]\u001b[0m\t \u001b[1m\u001b[92m-38.632360201328204\u001b[0m\t \u001b[1m\u001b[92m-38.632360201328204\u001b[0m\t \u001b[1m\u001b[92m-2.449490051089066\u001b[0m\n",
            "3  \t [10. 10.]\t -300.0\t -38.632360201328204\t -2.449490051055675\n",
            "4  \t [-9.64931371 -1.76781368]\t -99.35958538505903\t -38.632360201328204\t -2.4494900502986052\n",
            "5  \t [ 2.60148425 -9.15315418]\t -174.32818323665992\t -38.632360201328204\t -2.44948912925115\n",
            "\u001b[1m\u001b[92m6\u001b[0m\t \u001b[1m\u001b[92m[-1.7320768   1.94605445]\u001b[0m\t \u001b[1m\u001b[92m-10.574345906063899\u001b[0m\t \u001b[1m\u001b[92m-10.574345906063899\u001b[0m\t \u001b[1m\u001b[92m-2.449490039997568\u001b[0m\n",
            "7  \t [-1.10594833 10.        ]\t -201.2231217130977\t -10.574345906063899\t -2.4494892513515913\n",
            "8  \t [-10. -10.]\t -300.0\t -10.574345906063899\t -2.4494833132353477\n",
            "9  \t [-0.67856604 -3.24670761]\t -21.542672444127792\t -10.574345906063899\t -2.4494751952604696\n",
            "10 \t [10.         -4.05508851]\t -132.88748569362428\t -10.574345906063899\t -2.4494742982949154\n",
            "11 \t [-10.  10.]\t -300.0\t -10.574345906063899\t -2.4493903794819856\n",
            "12 \t [-4.82878946 -1.28643913]\t -26.627058910688945\t -10.574345906063899\t -2.448568544008508\n",
            "13 \t [2.68081927 1.33439512]\t -10.748012604862966\t -10.574345906063899\t -2.4484812703912233\n",
            "14 \t [-3.34859731  5.75737838]\t -77.50791562294509\t -10.574345906063899\t -2.4466579837345446\n",
            "15 \t [ 6.44851269 -6.81215931]\t -134.39434474112778\t -10.574345906063899\t -2.4401521549916736\n",
            "16 \t [ 5.24297217 10.        ]\t -227.48875713418738\t -10.574345906063899\t -2.442837478642679\n",
            "17 \t [-5.50966688 10.        ]\t -230.35642909307813\t -10.574345906063899\t -2.436535561631923\n",
            "18 \t [-9.16329108 -5.756503  ]\t -150.2405571713847\t -10.574345906063899\t -2.416512732865271\n",
            "19 \t [7.60428876 6.23196029]\t -135.49986570022463\t -10.574345906063899\t -2.415765589473262\n",
            "20 \t [6.09133788 0.88190418]\t -38.659907124704105\t -10.574345906063899\t -2.4067468729866346\n"
          ]
        }
      ]
    },
    {
      "cell_type": "code",
      "metadata": {
        "id": "Aawd59dRIUYn",
        "colab": {
          "base_uri": "https://localhost:8080/"
        },
        "outputId": "76675c37-4fbf-4369-e49e-ab7c3670b13d"
      },
      "source": [
        "### ESTIMATED GP CBM GRADIENTS\n",
        "\n",
        "np.random.seed(run_num_20)\n",
        "surrogate_approx_20 = GaussianProcess(cov_func, optimize=opt)\n",
        "\n",
        "approx_20 = GPGO_multi(surrogate_approx_20, Acquisition_new(util_grad_approx), objfunc, param)\n",
        "approx_20.run(init_evals=n_init, max_iter=iters)\n"
      ],
      "execution_count": 32,
      "outputs": [
        {
          "output_type": "stream",
          "name": "stdout",
          "text": [
            "Evaluation \t Proposed point \t  Current eval. \t  Best eval. \t         Max AcqFunc.\n",
            "init\t [1.76261602 7.95427456]\t -129.64778273349407\t -6.161449614183514\t    \n",
            "init\t [7.83061459 6.31674955]\t -141.12117450686426\t -6.161449614183514\t    \n",
            "init\t [-9.28220829  3.83515164]\t -115.57616682517047\t -6.161449614183514\t    \n",
            "init\t [-2.42638116  0.37021891]\t -6.161449614183514\t -6.161449614183514\t    \n",
            "init\t [ 3.15902931 -6.12299564]\t -84.96161746112533\t -6.161449614183514\t    \n",
            "1  \t [-10. -10.]\t -300.0\t -6.161449614183514\t -2.4494900512168254\n",
            "2  \t [-4.01456245 -6.6872889 ]\t -105.55637735489252\t -6.161449614183514\t -2.4494900505944934\n",
            "3  \t [ 10. -10.]\t -300.0\t -6.161449614183514\t -2.449490051215536\n",
            "4  \t [6.75943299 0.83853385]\t -47.096212361777255\t -6.161449614183514\t -2.4494900512168236\n",
            "5  \t [-7.43971571 10.        ]\t -255.34936986894027\t -6.161449614183514\t -2.4494899920724613\n",
            "6  \t [-10.          -3.70511096]\t -127.45569446085743\t -6.161449614183514\t -2.4494899802874506\n",
            "7  \t [-4.09143665  4.94261142]\t -65.59866915067138\t -6.161449614183514\t -2.44948833202073\n",
            "8  \t [10.         -3.99596703]\t -131.93550505393029\t -6.161449614183514\t -2.4494867826104754\n",
            "9  \t [1.83483017 2.51324138]\t -15.99936623573153\t -6.161449614183514\t -2.449399171001879\n",
            "10 \t [ 2.31752264 -1.79953942]\t -11.847595469952807\t -6.161449614183514\t -2.449488848807134\n",
            "11 \t [ -0.08835204 -10.        ]\t -200.0078060823072\t -6.161449614183514\t -2.449273193442028\n",
            "12 \t [-6.52869202 -0.28026205]\t -42.78091312525188\t -6.161449614183514\t -2.4482243008658706\n",
            "13 \t [  5.2529848 -10.       ]\t -227.59384928045654\t -6.161449614183514\t -2.449486133491458\n",
            "14 \t [-2.82611361  9.48028181]\t -187.73840472377\t -6.161449614183514\t -2.4494900472664276\n",
            "15 \t [10. 10.]\t -300.0\t -6.161449614183514\t -2.4418916035783504\n",
            "16 \t [-1.25688364 -3.27945709]\t -23.089434051454635\t -6.161449614183514\t -2.4405827092456285\n",
            "17 \t [ 5.44959024 10.        ]\t -229.69803376940348\t -6.161449614183514\t -2.431076516168658\n",
            "18 \t [ 5.87817104 -3.05679527]\t -53.24088945865211\t -6.161449614183514\t -2.4183938906783915\n",
            "19 \t [10.         2.7318689]\t -114.92621536190653\t -6.161449614183514\t -2.4180625539301026\n",
            "20 \t [ -5.76908918 -10.        ]\t -233.2823900182529\t -6.161449614183514\t -2.3831432564139376\n"
          ]
        }
      ]
    },
    {
      "cell_type": "code",
      "metadata": {
        "id": "xkgzPRbBTHaq",
        "colab": {
          "base_uri": "https://localhost:8080/"
        },
        "outputId": "b3310df1-a3bf-4b29-9780-3511c27f1e98"
      },
      "source": [
        "end_approx = time.time()\n",
        "end_approx\n",
        "\n",
        "time_approx = end_approx - start_approx\n",
        "time_approx\n",
        "\n",
        "start_exact = time.time()\n",
        "start_exact"
      ],
      "execution_count": 33,
      "outputs": [
        {
          "output_type": "execute_result",
          "data": {
            "text/plain": [
              "1651589707.6625547"
            ]
          },
          "metadata": {},
          "execution_count": 33
        }
      ]
    },
    {
      "cell_type": "code",
      "metadata": {
        "id": "7CG3Ndvb16Rb",
        "colab": {
          "base_uri": "https://localhost:8080/"
        },
        "outputId": "20048586-27be-414e-9742-1acf12c487aa"
      },
      "source": [
        "### EXACT GP CBM GRADIENTS\n",
        "\n",
        "np.random.seed(run_num_1)\n",
        "surrogate_exact_1 = dGaussianProcess(cov_func, optimize=opt)\n",
        "\n",
        "exact_1 = dGPGO(surrogate_exact_1, Acquisition_new(util_grad_exact), objfunc, param)\n",
        "exact_1.run(init_evals=n_init, max_iter=iters)\n"
      ],
      "execution_count": 34,
      "outputs": [
        {
          "output_type": "stream",
          "name": "stdout",
          "text": [
            "Evaluation \t Proposed point \t  Current eval. \t  Best eval. \t         Max AcqFunc.\n",
            "init\t [-1.65955991  4.40648987]\t -41.5884450098667\t -5.468172821636052\t    \n",
            "init\t [-9.9977125  -3.95334855]\t -131.21218477957908\t -5.468172821636052\t    \n",
            "init\t [-7.06488218 -8.1532281 ]\t -182.86281732102734\t -5.468172821636052\t    \n",
            "init\t [-6.27479577 -3.08878546]\t -58.4542532110911\t -5.468172821636052\t    \n",
            "init\t [-2.06465052  0.77633468]\t -5.468172821636052\t -5.468172821636052\t    \n",
            "1  \t [ 7.89213327 -8.29911577]\t -200.03641276683908\t -5.468172821636052\t -2.449489748092488\n",
            "2  \t [7.66612182 2.47344414]\t -71.00527566059496\t -5.468172821636052\t -2.449489748092488\n",
            "3  \t [10. 10.]\t -300.0\t -5.468172821636052\t -2.449489748092488\n",
            "4  \t [-9.56950389  8.95940422]\t -252.11725289788865\t -5.468172821636052\t -2.449489748092488\n",
            "5  \t [ 2.56152397 -4.28847437]\t -43.34342980630102\t -5.468172821636052\t -2.4494897262062167\n",
            "6  \t [ 0.66198287 10.        ]\t -200.4382213193613\t -5.468172821636052\t -2.4494895223488755\n",
            "7  \t [  1.7265686 -10.       ]\t -202.9810391208847\t -5.468172821636052\t -2.4494883557679485\n",
            "8  \t [-7.81962472  2.67573521]\t -75.4656486076953\t -5.468172821636052\t -2.4494890791584\n",
            "9  \t [5.42816178 6.9456931 ]\t -125.95024559054582\t -5.468172821636052\t -2.44930615105811\n",
            "10 \t [10.         -2.72724174]\t -114.8756949971664\t -5.468172821636052\t -2.449484660570357\n",
            "11 \t [2.57769149 2.09615852]\t -15.432254525078257\t -5.468172821636052\t -2.4491965426191644\n",
            "12 \t [-1.99690994 -6.9243529 ]\t -99.88097554129577\t -5.468172821636052\t -2.448478987663722\n",
            "13 \t [ 5.04241482 -0.94823822]\t -27.22425865014094\t -5.468172821636052\t -2.4388089055005633\n",
            "14 \t [-4.48543718 10.        ]\t -220.119146662944\t -5.468172821636052\t -2.449133981300707\n",
            "15 \t [-2.18982745 -2.52211165]\t -17.51743855084228\t -5.468172821636052\t -2.428757486250267\n",
            "16 \t [10.          5.64330094]\t -163.69369091853298\t -5.468172821636052\t -2.4220431609146593\n",
            "\u001b[1m\u001b[92m17\u001b[0m\t \u001b[1m\u001b[92m[ 1.29576718 -1.07479163]\u001b[0m\t \u001b[1m\u001b[92m-3.989366671349296\u001b[0m\t \u001b[1m\u001b[92m-3.989366671349296\u001b[0m\t \u001b[1m\u001b[92m-2.3507593278863923\u001b[0m\n",
            "18 \t [ 6.23201251 -4.34209688]\t -76.54559047457671\t -3.989366671349296\t -2.379739494911661\n",
            "19 \t [-5.29824373  5.76154375]\t -94.46215937075246\t -3.989366671349296\t -2.414956754818168\n",
            "20 \t [1.47394329 6.07835183]\t -76.06523071044691\t -3.989366671349296\t -2.359709549233577\n"
          ]
        }
      ]
    },
    {
      "cell_type": "code",
      "metadata": {
        "id": "-ilCPSAu9SAg",
        "colab": {
          "base_uri": "https://localhost:8080/"
        },
        "outputId": "ce00c33d-d4a1-4d66-bc80-ff6168aeca9a"
      },
      "source": [
        "### EXACT GP CBM GRADIENTS\n",
        "\n",
        "np.random.seed(run_num_2)\n",
        "surrogate_exact_2 = dGaussianProcess(cov_func, optimize=opt)\n",
        "\n",
        "exact_2 = dGPGO(surrogate_exact_2, Acquisition_new(util_grad_exact), objfunc, param)\n",
        "exact_2.run(init_evals=n_init, max_iter=iters)\n"
      ],
      "execution_count": 35,
      "outputs": [
        {
          "output_type": "stream",
          "name": "stdout",
          "text": [
            "Evaluation \t Proposed point \t  Current eval. \t  Best eval. \t         Max AcqFunc.\n",
            "init\t [-1.28010196 -9.48147536]\t -181.43541115584648\t -4.333099000920773\t    \n",
            "init\t [ 0.99324956 -1.29355215]\t -4.333099000920773\t -4.333099000920773\t    \n",
            "init\t [-1.59264396 -3.39330358]\t -25.565533148780872\t -4.333099000920773\t    \n",
            "init\t [-5.90702732  2.38541933]\t -46.27342248166184\t -4.333099000920773\t    \n",
            "init\t [-4.00690653 -4.6634545 ]\t -59.55091562094812\t -4.333099000920773\t    \n",
            "1  \t [5.88961714 8.24884114]\t -170.77435028780866\t -4.333099000920773\t -2.449489748092488\n",
            "2  \t [ 9.4582138 -7.7444757]\t -209.411615827435\t -4.333099000920773\t -2.449489748092488\n",
            "3  \t [-10. -10.]\t -300.0\t -4.333099000920773\t -2.449489748092178\n",
            "4  \t [8.51803193 1.4054842 ]\t -76.50763960826586\t -4.333099000920773\t -2.4494897479097006\n",
            "5  \t [0.21792083 5.97963749]\t -71.55961854077546\t -4.333099000920773\t -2.449489074825717\n",
            "6  \t [-8.60678819  8.70307127]\t -225.56370193566426\t -4.333099000920773\t -2.4494897467904004\n",
            "7  \t [ 5.5221699  -3.41645072]\t -53.838631538906455\t -4.333099000920773\t -2.449474115502824\n",
            "8  \t [-2.45678825 10.        ]\t -206.03580850514592\t -4.333099000920773\t -2.4491801839897387\n",
            "9  \t [-9.56265486 -4.0670649 ]\t -124.52640175860672\t -4.333099000920773\t -2.4494817313086283\n",
            "10 \t [ 4.1683583  -9.27831202]\t -189.54935891893678\t -4.333099000920773\t -2.4494304795627837\n",
            "11 \t [3.54021143 2.50529079]\t -25.08606080976817\t -4.333099000920773\t -2.448997581590449\n",
            "12 \t [-1.36912094  1.5384301 ]\t -6.608026508248973\t -4.333099000920773\t -2.445920520063946\n",
            "13 \t [10. 10.]\t -300.0\t -4.333099000920773\t -2.4455384305984684\n",
            "14 \t [-10.           3.64471979]\t -126.56796470738523\t -4.333099000920773\t -2.446959996195722\n",
            "15 \t [-5.70217722 -8.5799618 ]\t -179.74631385715512\t -4.333099000920773\t -2.437438256603194\n",
            "16 \t [ 1.98668046 10.        ]\t -203.94689923397831\t -4.333099000920773\t -2.432788810838452\n",
            "17 \t [ 1.7204875  -5.49036518]\t -63.24829673900661\t -4.333099000920773\t -2.4372883653682953\n",
            "18 \t [-5.08549072  6.50102688]\t -110.38891674426851\t -4.333099000920773\t -2.418585778510382\n",
            "19 \t [-9.3801322  -0.17270205]\t -88.0465321090384\t -4.333099000920773\t -2.38045006056157\n",
            "20 \t [-4.19360394 -0.82149426]\t -18.93601969099865\t -4.333099000920773\t -2.380925491782847\n"
          ]
        }
      ]
    },
    {
      "cell_type": "code",
      "metadata": {
        "id": "XieJ158mIvlP",
        "colab": {
          "base_uri": "https://localhost:8080/"
        },
        "outputId": "d615a2ed-2bf1-453d-c3f7-4f490eabb301"
      },
      "source": [
        "### EXACT GP CBM GRADIENTS\n",
        "\n",
        "np.random.seed(run_num_3)\n",
        "surrogate_exact_3 = dGaussianProcess(cov_func, optimize=opt)\n",
        "\n",
        "exact_3 = dGPGO(surrogate_exact_3, Acquisition_new(util_grad_exact), objfunc, param)\n",
        "exact_3.run(init_evals=n_init, max_iter=iters)\n"
      ],
      "execution_count": 36,
      "outputs": [
        {
          "output_type": "stream",
          "name": "stdout",
          "text": [
            "Evaluation \t Proposed point \t  Current eval. \t  Best eval. \t         Max AcqFunc.\n",
            "init\t [1.01595805 4.16295645]\t -35.692583610916834\t -17.582120911078754\t    \n",
            "init\t [-4.18190522  0.2165521 ]\t -17.582120911078754\t -17.582120911078754\t    \n",
            "init\t [7.85893909 7.92586178]\t -187.4014934415638\t -17.582120911078754\t    \n",
            "init\t [-7.48829379 -5.85514244]\t -124.63992981683481\t -17.582120911078754\t    \n",
            "init\t [-8.97065593 -1.18380313]\t -83.2754475728413\t -17.582120911078754\t    \n",
            "1  \t [ 5.60629529 -3.87272935]\t -61.42661215628989\t -17.582120911078754\t -2.449489748092488\n",
            "2  \t [-6.2437035   9.04202486]\t -202.50026057521436\t -17.582120911078754\t -2.4494897480924878\n",
            "3  \t [10.          1.91076445]\t -107.3020415945788\t -17.582120911078754\t -2.449489616274744\n",
            "4  \t [-0.42169096 -8.75441039]\t -153.45722588114134\t -17.582120911078754\t -2.449489748092488\n",
            "5  \t [ 6.56856688 -9.15868109]\t -210.908949615437\t -17.582120911078754\t -2.449473193144381\n",
            "6  \t [-9.21277105  4.93342182]\t -133.55245206852663\t -17.582120911078754\t -2.449489723018159\n",
            "\u001b[1m\u001b[92m7\u001b[0m\t \u001b[1m\u001b[92m[ 0.69850669 -0.70926041]\u001b[0m\t \u001b[1m\u001b[92m-1.4940122574729555\u001b[0m\t \u001b[1m\u001b[92m-1.4940122574729555\u001b[0m\t \u001b[1m\u001b[92m-2.449489748092488\u001b[0m\n",
            "8  \t [-10. -10.]\t -300.0\t -1.4940122574729555\t -2.4494897477403823\n",
            "9  \t [-1.57247283  7.36334462]\t -110.91035877714175\t -1.4940122574729555\t -2.449489748092488\n",
            "10 \t [10.         -5.23710065]\t -154.8544465004687\t -1.4940122574729555\t -2.4485775419853044\n",
            "11 \t [-4.67617006 -9.97354931]\t -220.80993834112402\t -1.4940122574729555\t -2.449489746190536\n",
            "12 \t [ 2.94018548 10.        ]\t -208.64469067618066\t -1.4940122574729555\t -2.449363928379016\n",
            "13 \t [-2.13556787 -3.99579664]\t -36.49343174536972\t -1.4940122574729555\t -2.4490565497923664\n",
            "14 \t [5.06667611 0.96698592]\t -27.541330355343703\t -1.4940122574729555\t -2.449050976862317\n",
            "15 \t [-3.94916394  4.00909365]\t -47.7415595825159\t -1.4940122574729555\t -2.449482985610357\n",
            "16 \t [ 1.64058075 -3.59559563]\t -28.548121055822566\t -1.4940122574729555\t -2.417156245656923\n",
            "17 \t [5.49074203 4.51213983]\t -70.8670596844159\t -1.4940122574729555\t -2.40845548990904\n",
            "18 \t [ 3.15002774 -6.9458149 ]\t -106.41136394354386\t -1.4940122574729555\t -2.367627374101374\n",
            "19 \t [-7.11337499  2.01492763]\t -58.71997048620048\t -1.4940122574729555\t -2.255126800219863\n",
            "\u001b[1m\u001b[92m20\u001b[0m\t \u001b[1m\u001b[92m[-0.57414054  0.71604613]\u001b[0m\t \u001b[1m\u001b[92m-1.3550814721388451\u001b[0m\t \u001b[1m\u001b[92m-1.3550814721388451\u001b[0m\t \u001b[1m\u001b[92m-2.307416749950637\u001b[0m\n"
          ]
        }
      ]
    },
    {
      "cell_type": "code",
      "metadata": {
        "id": "PhLBVOIfIvol",
        "colab": {
          "base_uri": "https://localhost:8080/"
        },
        "outputId": "fce9ed69-233b-463c-ccb0-80038838cee3"
      },
      "source": [
        "### EXACT GP CBM GRADIENTS\n",
        "\n",
        "np.random.seed(run_num_4)\n",
        "surrogate_exact_4 = dGaussianProcess(cov_func, optimize=opt)\n",
        "\n",
        "exact_4 = dGPGO(surrogate_exact_4, Acquisition_new(util_grad_exact), objfunc, param)\n",
        "exact_4.run(init_evals=n_init, max_iter=iters)\n"
      ],
      "execution_count": 37,
      "outputs": [
        {
          "output_type": "stream",
          "name": "stdout",
          "text": [
            "Evaluation \t Proposed point \t  Current eval. \t  Best eval. \t         Max AcqFunc.\n",
            "init\t [9.34059678 0.94464498]\t -89.0314565014143\t -27.80880071439404\t    \n",
            "init\t [9.4536872  4.29631987]\t -126.28893057280868\t -27.80880071439404\t    \n",
            "init\t [ 3.95457649 -5.67821009]\t -80.12281484649141\t -27.80880071439404\t    \n",
            "init\t [ 9.5254891 -9.8753949]\t -285.78179120922215\t -27.80880071439404\t    \n",
            "init\t [-4.94035275 -1.30416935]\t -27.80880071439404\t -27.80880071439404\t    \n",
            "1  \t [-10. -10.]\t -300.0\t -27.80880071439404\t -2.449489748092488\n",
            "2  \t [-0.24524722  6.20288844]\t -77.01179625821773\t -27.80880071439404\t -2.449489748092488\n",
            "3  \t [-7.30494786  4.8008946 ]\t -99.45944115815726\t -27.80880071439404\t -2.4494897410279033\n",
            "4  \t [-4.2513019  -7.81752317]\t -140.30090476847727\t -27.80880071439404\t -2.449488817529922\n",
            "5  \t [-10.          -3.79206778]\t -128.75955615659214\t -27.80880071439404\t -2.4494873663564554\n",
            "6  \t [ 4.38381412 10.        ]\t -219.21782623856336\t -27.80880071439404\t -2.4494891147779128\n",
            "\u001b[1m\u001b[92m7\u001b[0m\t \u001b[1m\u001b[92m[1.45162335 0.05109036]\u001b[0m\t \u001b[1m\u001b[92m-2.112430794758758\u001b[0m\t \u001b[1m\u001b[92m-2.112430794758758\u001b[0m\t \u001b[1m\u001b[92m-2.4494895552069815\u001b[0m\n",
            "8  \t [10. 10.]\t -300.0\t -2.112430794758758\t -2.4494695500139394\n",
            "9  \t [-4.64384484 10.        ]\t -221.5652949181872\t -2.112430794758758\t -2.449486009362917\n",
            "10 \t [ 9.23545577 -4.31610743]\t -122.55120995180107\t -2.112430794758758\t -2.4494059798910044\n",
            "11 \t [  0.80775122 -10.        ]\t -200.65246203448436\t -2.112430794758758\t -2.449446877369526\n",
            "12 \t [-9.07728468 -0.735896  ]\t -83.48018297218148\t -2.112430794758758\t -2.4494897412878123\n",
            "13 \t [4.27067604 3.47942584]\t -42.451482216693094\t -2.112430794758758\t -2.449327805671227\n",
            "14 \t [-0.53617363 -4.66830893]\t -43.87369865837804\t -2.112430794758758\t -2.4479566569963973\n",
            "15 \t [-1.87035425  1.83097787]\t -10.203184955180676\t -2.112430794758758\t -2.446976316773364\n",
            "16 \t [ 5.52456024 -1.49651438]\t -34.99987642706925\t -2.112430794758758\t -2.444776200649156\n",
            "17 \t [-0.02837471 10.        ]\t -200.00080512443586\t -2.112430794758758\t -2.41254535162079\n",
            "18 \t [ 5.07006435 -9.68457017]\t -213.2873511776092\t -2.112430794758758\t -2.4247587836975364\n",
            "19 \t [-3.90435438  6.0986755 ]\t -89.63166873302416\t -2.112430794758758\t -2.294246995593995\n",
            "20 \t [5.62672654 6.57194119]\t -118.04087353972466\t -2.112430794758758\t -2.2333112356006004\n"
          ]
        }
      ]
    },
    {
      "cell_type": "code",
      "metadata": {
        "id": "arbiPyj2IvsJ",
        "colab": {
          "base_uri": "https://localhost:8080/"
        },
        "outputId": "f6c12803-1794-47ba-f014-4a6947cad397"
      },
      "source": [
        "### EXACT GP CBM GRADIENTS\n",
        "\n",
        "np.random.seed(run_num_5)\n",
        "surrogate_exact_5 = dGaussianProcess(cov_func, optimize=opt)\n",
        "\n",
        "exact_5 = dGPGO(surrogate_exact_5, Acquisition_new(util_grad_exact), objfunc, param)\n",
        "exact_5.run(init_evals=n_init, max_iter=iters)\n"
      ],
      "execution_count": 38,
      "outputs": [
        {
          "output_type": "stream",
          "name": "stdout",
          "text": [
            "Evaluation \t Proposed point \t  Current eval. \t  Best eval. \t         Max AcqFunc.\n",
            "init\t [-5.56013658  7.41464612]\t -140.86907304317228\t -10.04307293518387\t    \n",
            "init\t [-5.86561689  8.37221816]\t -174.59353533361667\t -10.04307293518387\t    \n",
            "init\t [-0.23177622  2.23487726]\t -10.04307293518387\t -10.04307293518387\t    \n",
            "init\t [5.31815713 0.36835976]\t -28.554173077012745\t -10.04307293518387\t    \n",
            "init\t [-4.06398997 -6.24557543]\t -94.53043928694063\t -10.04307293518387\t    \n",
            "1  \t [9.27861058 9.20453431]\t -255.5395178906315\t -10.04307293518387\t -2.449489748092488\n",
            "2  \t [ 8.87080164 -7.76615146]\t -199.31733862713008\t -10.04307293518387\t -2.449489748092488\n",
            "3  \t [-10. -10.]\t -300.0\t -10.04307293518387\t -2.4494897471757366\n",
            "4  \t [2.82929545 9.76335526]\t -198.65112458457682\t -10.04307293518387\t -2.4494896465453895\n",
            "5  \t [-7.37525338  1.74211613]\t -60.4642997241582\t -10.04307293518387\t -2.4494887794904097\n",
            "6  \t [ 2.24805699 -4.75531731]\t -50.279845607581954\t -10.04307293518387\t -2.449489457558506\n",
            "7  \t [-9.27012893 -3.82286792]\t -115.16392860737929\t -10.04307293518387\t -2.449484937331522\n",
            "8  \t [10.          3.25509801]\t -121.19132605332891\t -10.04307293518387\t -2.4494838702827946\n",
            "9  \t [ 9.55558819 -2.07880037]\t -99.9520876453619\t -10.04307293518387\t -2.449355649631765\n",
            "10 \t [-3.57140533 -0.54090244]\t -13.340086909325828\t -10.04307293518387\t -2.447473084854763\n",
            "11 \t [  0.37397425 -10.        ]\t -200.1398567419426\t -10.04307293518387\t -2.4494829554371176\n",
            "12 \t [-10.           5.48443149]\t -160.15797753638998\t -10.04307293518387\t -2.4479991678562323\n",
            "13 \t [3.30601479 4.8425646 ]\t -57.83059757582393\t -10.04307293518387\t -2.4485945958798045\n",
            "14 \t [-1.20366865  7.70925746]\t -120.31411933315876\t -10.04307293518387\t -2.441303819900466\n",
            "15 \t [-1.19384754 -3.11786618]\t -20.86745099069012\t -10.04307293518387\t -2.4118318133257444\n",
            "16 \t [ 4.09171948 -7.82818304]\t -139.30306756971058\t -10.04307293518387\t -2.398056602758736\n",
            "17 \t [-3.51283164  3.47553379]\t -36.49865636264905\t -10.04307293518387\t -2.4297244802937534\n",
            "18 \t [ 5.58655888 -3.17519448]\t -51.37335998047702\t -10.04307293518387\t -2.385435783275953\n",
            "19 \t [ -5.5481279 -10.       ]\t -230.781723182941\t -10.04307293518387\t -2.4283747836822807\n",
            "\u001b[1m\u001b[92m20\u001b[0m\t \u001b[1m\u001b[92m[ 1.57339131 -0.57188012]\u001b[0m\t \u001b[1m\u001b[92m-3.1296539594564723\u001b[0m\t \u001b[1m\u001b[92m-3.1296539594564723\u001b[0m\t \u001b[1m\u001b[92m-2.409829906738087\u001b[0m\n"
          ]
        }
      ]
    },
    {
      "cell_type": "code",
      "metadata": {
        "id": "04KJCEm_Ivvf",
        "colab": {
          "base_uri": "https://localhost:8080/"
        },
        "outputId": "208028c5-aeec-4080-c540-02f319214913"
      },
      "source": [
        "### EXACT GP CBM GRADIENTS\n",
        "\n",
        "np.random.seed(run_num_6)\n",
        "surrogate_exact_6 = dGaussianProcess(cov_func, optimize=opt)\n",
        "\n",
        "exact_6 = dGPGO(surrogate_exact_6, Acquisition_new(util_grad_exact), objfunc, param)\n",
        "exact_6.run(init_evals=n_init, max_iter=iters)\n"
      ],
      "execution_count": 39,
      "outputs": [
        {
          "output_type": "stream",
          "name": "stdout",
          "text": [
            "Evaluation \t Proposed point \t  Current eval. \t  Best eval. \t         Max AcqFunc.\n",
            "init\t [ 7.85720303 -3.36040389]\t -84.32026809583151\t -5.629416961321397\t    \n",
            "init\t [ 6.42458246 -9.16606749]\t -209.30884609749882\t -5.629416961321397\t    \n",
            "init\t [-7.8468664   1.90104128]\t -68.80122824744078\t -5.629416961321397\t    \n",
            "init\t [ 0.59634724 -1.62385143]\t -5.629416961321397\t -5.629416961321397\t    \n",
            "init\t [-3.29184301  2.45038864]\t -22.84503944485431\t -5.629416961321397\t    \n",
            "1  \t [10. 10.]\t -300.0\t -5.629416961321397\t -2.449489748092488\n",
            "2  \t [-4.96771714 -9.17248997]\t -192.94735819477367\t -5.629416961321397\t -2.449489748092488\n",
            "3  \t [2.46299902 9.4614501 ]\t -185.1044400841216\t -5.629416961321397\t -2.449489748092488\n",
            "4  \t [-5.6935267   8.60486508]\t -180.50365249520243\t -5.629416961321397\t -2.449489743698593\n",
            "5  \t [7.35584953 3.03387552]\t -72.51732359276915\t -5.629416961321397\t -2.4494896987714627\n",
            "6  \t [-10.         -3.6046608]\t -125.98715897811034\t -5.629416961321397\t -2.449488861815158\n",
            "7  \t [-10.           6.55015036]\t -185.80893956183948\t -5.629416961321397\t -2.449489137900013\n",
            "8  \t [-10. -10.]\t -300.0\t -5.629416961321397\t -2.449489748067209\n",
            "9  \t [-1.22868843  4.34354782]\t -39.24249056209099\t -5.629416961321397\t -2.449489748092488\n",
            "10 \t [-1.38629601 -7.30554564]\t -108.66381090956986\t -5.629416961321397\t -2.4494897480882565\n",
            "11 \t [-4.1841794  -2.87028656]\t -33.98444710727276\t -5.629416961321397\t -2.449409440297319\n",
            "12 \t [ 3.46589729 -5.52347805]\t -73.03006351690125\t -5.629416961321397\t -2.4473887076950622\n",
            "13 \t [3.23038342 2.46679423]\t -22.605524591559732\t -5.629416961321397\t -2.449489748092488\n",
            "14 \t [  1.91420574 -10.        ]\t -203.66418363099575\t -5.629416961321397\t -2.4399673389172643\n",
            "15 \t [-1.71336926 10.        ]\t -202.9356342326629\t -5.629416961321397\t -2.424045674902238\n",
            "16 \t [6.9594362  6.88288798]\t -143.18204618757892\t -5.629416961321397\t -2.4175710549596032\n",
            "17 \t [ 4.55720404 -1.77341973]\t -27.058143694581492\t -5.629416961321397\t -2.378344701082731\n",
            "18 \t [-5.30019189  4.71436391]\t -72.54248816218018\t -5.629416961321397\t -2.26056205237932\n",
            "19 \t [1.75887074 5.79251967]\t -70.20019445381435\t -5.629416961321397\t -2.269260003560448\n",
            "20 \t [ 9.35959795 -6.43299013]\t -170.36879782345395\t -5.629416961321397\t -2.2943081635524925\n"
          ]
        }
      ]
    },
    {
      "cell_type": "code",
      "metadata": {
        "id": "tAOkme3CIvyO",
        "colab": {
          "base_uri": "https://localhost:8080/"
        },
        "outputId": "483d4084-5726-4b52-c4fc-7732a3cb28cd"
      },
      "source": [
        "### EXACT GP CBM GRADIENTS\n",
        "\n",
        "np.random.seed(run_num_7)\n",
        "surrogate_exact_7 = dGaussianProcess(cov_func, optimize=opt)\n",
        "\n",
        "exact_7 = dGPGO(surrogate_exact_7, Acquisition_new(util_grad_exact), objfunc, param)\n",
        "exact_7.run(init_evals=n_init, max_iter=iters)\n"
      ],
      "execution_count": 40,
      "outputs": [
        {
          "output_type": "stream",
          "name": "stdout",
          "text": [
            "Evaluation \t Proposed point \t  Current eval. \t  Best eval. \t         Max AcqFunc.\n",
            "init\t [-8.47383421  5.59837584]\t -134.48949046062052\t -21.448213419349443\t    \n",
            "init\t [-1.23181537  4.46930356]\t -41.46671767109191\t -21.448213419349443\t    \n",
            "init\t [9.55979024 0.76991741]\t -92.57513506242564\t -21.448213419349443\t    \n",
            "init\t [ 0.02240927 -8.55897733]\t -146.51268814245697\t -21.448213419349443\t    \n",
            "init\t [-4.63122040e+00 -2.34998349e-03]\t -21.448213419349443\t -21.448213419349443\t    \n",
            "1  \t [ 8.12846538 -6.39096762]\t -147.76088362344177\t -21.448213419349443\t -2.449489748092488\n",
            "2  \t [10. 10.]\t -300.0\t -21.448213419349443\t -2.449489748092488\n",
            "3  \t [-9.10467478 -9.8356699 ]\t -276.3759076385656\t -21.448213419349443\t -2.449489748092488\n",
            "4  \t [-7.86246511 -2.61028169]\t -75.44549865130998\t -21.448213419349443\t -2.449489748092488\n",
            "5  \t [ 0.93762965 10.        ]\t -200.8791493663554\t -21.448213419349443\t -2.449489298895144\n",
            "6  \t [5.56833589 5.62526631]\t -94.29360679492842\t -21.448213419349443\t -2.4494889006269953\n",
            "\u001b[1m\u001b[92m7\u001b[0m\t \u001b[1m\u001b[92m[ 1.12936198 -2.58588548]\u001b[0m\t \u001b[1m\u001b[92m-14.649065890613343\u001b[0m\t \u001b[1m\u001b[92m-14.649065890613343\u001b[0m\t \u001b[1m\u001b[92m-2.4494890140897874\u001b[0m\n",
            "8  \t [-4.85839528 10.        ]\t -223.60400467033438\t -14.649065890613343\t -2.449478591533419\n",
            "9  \t [4.54157572 0.51208863]\t -21.150379506512166\t -14.649065890613343\t -2.449100092532951\n",
            "10 \t [  4.7889302 -10.       ]\t -222.93385243621586\t -14.649065890613343\t -2.4487721084575766\n",
            "11 \t [-4.45045914 -7.43675116]\t -130.41712203676437\t -14.649065890613343\t -2.4494873552109495\n",
            "12 \t [-9.78591558  9.99936731]\t -295.7388370406492\t -14.649065890613343\t -2.4471227395538935\n",
            "13 \t [9.90499424 5.31585021]\t -154.62543776924815\t -14.649065890613343\t -2.441796337597123\n",
            "14 \t [5.50419067 9.99886119]\t -230.2505649576852\t -14.649065890613343\t -2.4370868935772134\n",
            "15 \t [-2.49792413 -3.56728608]\t -31.690684825502846\t -14.649065890613343\t -2.4358251443256176\n",
            "\u001b[1m\u001b[92m16\u001b[0m\t \u001b[1m\u001b[92m[-0.8177092   0.71116755]\u001b[0m\t \u001b[1m\u001b[92m-1.680166903504158\u001b[0m\t \u001b[1m\u001b[92m-1.680166903504158\u001b[0m\t \u001b[1m\u001b[92m-2.4494897480301403\u001b[0m\n",
            "17 \t [-9.43422964  1.22343508]\t -91.99827573185267\t -1.680166903504158\t -2.4394238861348554\n",
            "18 \t [ 6.59417597 -2.51401548]\t -56.123704419335674\t -1.680166903504158\t -2.4212814907330453\n",
            "19 \t [-9.96429637 -5.86384022]\t -168.05644650332175\t -1.680166903504158\t -2.392814614540745\n",
            "20 \t [  9.05963282 -10.        ]\t -282.07694685711374\t -1.680166903504158\t -2.3661831981889097\n"
          ]
        }
      ]
    },
    {
      "cell_type": "code",
      "metadata": {
        "id": "69-J3EF4Iv1S",
        "colab": {
          "base_uri": "https://localhost:8080/"
        },
        "outputId": "003f34e9-0d94-457b-db9e-680aebcff01f"
      },
      "source": [
        "### EXACT GP CBM GRADIENTS\n",
        "\n",
        "np.random.seed(run_num_8)\n",
        "surrogate_exact_8 = dGaussianProcess(cov_func, optimize=opt)\n",
        "\n",
        "exact_8 = dGPGO(surrogate_exact_8, Acquisition_new(util_grad_exact), objfunc, param)\n",
        "exact_8.run(init_evals=n_init, max_iter=iters)\n"
      ],
      "execution_count": 41,
      "outputs": [
        {
          "output_type": "stream",
          "name": "stdout",
          "text": [
            "Evaluation \t Proposed point \t  Current eval. \t  Best eval. \t         Max AcqFunc.\n",
            "init\t [7.46858806 9.37081326]\t -231.40408972112363\t -0.5791878792948744\t    \n",
            "init\t [7.3838908  0.61711383]\t -55.28350237060649\t -0.5791878792948744\t    \n",
            "init\t [-5.34543344 -9.77202391]\t -219.5585614355461\t -0.5791878792948744\t    \n",
            "init\t [-1.39062363 -1.9529728 ]\t -9.562039601098967\t -0.5791878792948744\t    \n",
            "init\t [ 0.45349343 -0.43216408]\t -0.5791878792948744\t -0.5791878792948744\t    \n",
            "1  \t [ 9.69498875 -9.42535902]\t -271.6675921188219\t -0.5791878792948744\t -2.449489748092488\n",
            "2  \t [-9.83383251  5.77166529]\t -163.3285022998636\t -0.5791878792948744\t -2.449489748092488\n",
            "3  \t [-3.97152767  9.51013426]\t -196.65833950916016\t -0.5791878792948744\t -2.449489745495122\n",
            "4  \t [-9.65586204 -5.07440767]\t -144.73489822426617\t -0.5791878792948744\t -2.4494895843915714\n",
            "5  \t [1.10947828 5.5318851 ]\t -62.4344475515165\t -0.5791878792948744\t -2.449489656525316\n",
            "6  \t [ 3.77011518 -4.40569277]\t -53.034026014752534\t -0.5791878792948744\t -2.4494889932442208\n",
            "7  \t [  1.54612359 -10.        ]\t -202.39049816800735\t -0.5791878792948744\t -2.449489385136154\n",
            "8  \t [-5.62469613 -2.24151121]\t -41.68595149870927\t -0.5791878792948744\t -2.4485159783496857\n",
            "9  \t [-4.08700342  3.16224076]\t -36.70313019577311\t -0.5791878792948744\t -2.4494836278561745\n",
            "10 \t [-9.96732111  0.24251048]\t -99.4651127430752\t -0.5791878792948744\t -2.449344474293473\n",
            "11 \t [ 2.31617669 10.        ]\t -205.36467447680252\t -0.5791878792948744\t -2.4486296027937757\n",
            "12 \t [-1.88216932 -6.15758663]\t -79.37430759328915\t -0.5791878792948744\t -2.4482930206066227\n",
            "13 \t [ 8.44246187 -3.87630201]\t -101.32659702272667\t -0.5791878792948744\t -2.448406610036495\n",
            "14 \t [10.          4.79618643]\t -146.00680858766998\t -0.5791878792948744\t -2.4492100619332557\n",
            "15 \t [-10. -10.]\t -300.0\t -0.5791878792948744\t -2.447009796864438\n",
            "16 \t [2.80068941 1.48161946]\t -12.234253653782964\t -0.5791878792948744\t -2.4453320253356763\n",
            "17 \t [-0.69277853  1.70303204]\t -6.280578366385077\t -0.5791878792948744\t -2.400186063261481\n",
            "18 \t [5.80569471 4.13644349]\t -67.92642061510574\t -0.5791878792948744\t -2.422144555653217\n",
            "19 \t [ 5.16997378 -7.77965097]\t -147.77456722781085\t -0.5791878792948744\t -2.4024308468863533\n",
            "20 \t [ 3.81376807 -1.02582535]\t -16.64946221794052\t -0.5791878792948744\t -2.1918035308452835\n"
          ]
        }
      ]
    },
    {
      "cell_type": "code",
      "metadata": {
        "id": "vonm9jyuIv4t",
        "colab": {
          "base_uri": "https://localhost:8080/"
        },
        "outputId": "7e03c6b1-4c19-41da-f815-47ddec1c082f"
      },
      "source": [
        "### EXACT GP CBM GRADIENTS\n",
        "\n",
        "np.random.seed(run_num_9)\n",
        "surrogate_exact_9 = dGaussianProcess(cov_func, optimize=opt)\n",
        "\n",
        "exact_9 = dGPGO(surrogate_exact_9, Acquisition_new(util_grad_exact), objfunc, param)\n",
        "exact_9.run(init_evals=n_init, max_iter=iters)\n"
      ],
      "execution_count": 42,
      "outputs": [
        {
          "output_type": "stream",
          "name": "stdout",
          "text": [
            "Evaluation \t Proposed point \t  Current eval. \t  Best eval. \t         Max AcqFunc.\n",
            "init\t [-9.79251692  0.03749184]\t -95.896198949837\t -53.418783741178075\t    \n",
            "init\t [-0.08453414 -7.32340942]\t -107.27179711012016\t -53.418783741178075\t    \n",
            "init\t [-7.15777829 -5.62882649]\t -114.6011653140891\t -53.418783741178075\t    \n",
            "init\t [-1.62983639 -5.03797663]\t -53.418783741178075\t -53.418783741178075\t    \n",
            "init\t [-8.31880698 -3.0900272 ]\t -88.29908569649677\t -53.418783741178075\t    \n",
            "1  \t [6.0747954  9.66718496]\t -223.8120694300478\t -53.418783741178075\t -2.449489748092488\n",
            "2  \t [-3.94738717  9.4159639 ]\t -192.90261763630335\t -53.418783741178075\t -2.449489748092488\n",
            "\u001b[1m\u001b[92m3\u001b[0m\t \u001b[1m\u001b[92m[4.07561386 0.71776482]\u001b[0m\t \u001b[1m\u001b[92m-17.64100099927903\u001b[0m\t \u001b[1m\u001b[92m-17.64100099927903\u001b[0m\t \u001b[1m\u001b[92m-2.449489748092345\u001b[0m\n",
            "4  \t [ 8.66970884 -6.33785621]\t -155.50069423954056\t -17.64100099927903\t -2.4494897480924838\n",
            "5  \t [10.          1.04559498]\t -102.18653772050641\t -17.64100099927903\t -2.4494895482227497\n",
            "6  \t [-9.43535893  5.95042309]\t -159.84106794164182\t -17.64100099927903\t -2.449488529994488\n",
            "\u001b[1m\u001b[92m7\u001b[0m\t \u001b[1m\u001b[92m[-2.00413361  1.08900426]\u001b[0m\t \u001b[1m\u001b[92m-6.388412071319043\u001b[0m\t \u001b[1m\u001b[92m-6.388412071319043\u001b[0m\t \u001b[1m\u001b[92m-2.4494894989026292\u001b[0m\n",
            "8  \t [1.31016571 5.606842  ]\t -64.58988849699723\t -6.388412071319043\t -2.4494876052098404\n",
            "9  \t [-10. -10.]\t -300.0\t -6.388412071319043\t -2.449418697207877\n",
            "10 \t [ -4.47206917 -10.        ]\t -219.9994026932628\t -6.388412071319043\t -2.449245453772641\n",
            "11 \t [ 2.27342026 -2.96840335]\t -22.791276604546496\t -6.388412071319043\t -2.445780991221588\n",
            "12 \t [6.36991198 4.66596403]\t -84.11821925962657\t -6.388412071319043\t -2.4486740109778307\n",
            "13 \t [-4.44393652  4.2993511 ]\t -56.7174115405156\t -6.388412071319043\t -2.4482917214592184\n",
            "14 \t [10.          7.23335299]\t -204.64279086171405\t -6.388412071319043\t -2.4447345064274013\n",
            "15 \t [ 1.14628762 10.        ]\t -201.31397530255921\t -6.388412071319043\t -2.4466851468609523\n",
            "16 \t [ 4.42345329 -8.3965274 ]\t -160.57028375821196\t -6.388412071319043\t -2.4471947953342474\n",
            "17 \t [-4.41497539 -1.46033679]\t -23.75717471398877\t -6.388412071319043\t -2.435933431724746\n",
            "\u001b[1m\u001b[92m18\u001b[0m\t \u001b[1m\u001b[92m[0.91497041 1.35959673]\u001b[0m\t \u001b[1m\u001b[92m-4.5341773833992\u001b[0m\t \u001b[1m\u001b[92m-4.5341773833992\u001b[0m\t \u001b[1m\u001b[92m-2.353577767662799\u001b[0m\n",
            "19 \t [ 7.07392316 -2.3061227 ]\t -60.67679263549936\t -4.5341773833992\t -2.4393858351959934\n",
            "20 \t [-7.78242641  2.9230829 ]\t -77.65498803247596\t -4.5341773833992\t -2.100301332012413\n"
          ]
        }
      ]
    },
    {
      "cell_type": "code",
      "metadata": {
        "id": "6amuYlUdIv7r",
        "colab": {
          "base_uri": "https://localhost:8080/"
        },
        "outputId": "043c3630-54f4-4b67-dd59-aa13c119e8f6"
      },
      "source": [
        "### EXACT GP CBM GRADIENTS\n",
        "\n",
        "np.random.seed(run_num_10)\n",
        "surrogate_exact_10 = dGaussianProcess(cov_func, optimize=opt)\n",
        "\n",
        "exact_10 = dGPGO(surrogate_exact_10, Acquisition_new(util_grad_exact), objfunc, param)\n",
        "exact_10.run(init_evals=n_init, max_iter=iters)\n"
      ],
      "execution_count": 43,
      "outputs": [
        {
          "output_type": "stream",
          "name": "stdout",
          "text": [
            "Evaluation \t Proposed point \t  Current eval. \t  Best eval. \t         Max AcqFunc.\n",
            "init\t [ 5.42641287 -9.58496101]\t -213.18891181932327\t -56.66743785259343\t    \n",
            "init\t [2.6729647  4.97607765]\t -56.66743785259343\t -56.66743785259343\t    \n",
            "init\t [-0.02985975 -5.50406709]\t -60.59040065376497\t -56.66743785259343\t    \n",
            "init\t [-6.0387427   5.21061424]\t -90.76741505398337\t -56.66743785259343\t    \n",
            "init\t [-6.61778327 -8.23320372]\t -179.36634226756874\t -56.66743785259343\t    \n",
            "1  \t [10. 10.]\t -300.0\t -56.66743785259343\t -2.449489748092488\n",
            "\u001b[1m\u001b[92m2\u001b[0m\t \u001b[1m\u001b[92m[2.11155129 0.26933255]\u001b[0m\t \u001b[1m\u001b[92m-4.603728884330075\u001b[0m\t \u001b[1m\u001b[92m-4.603728884330075\u001b[0m\t \u001b[1m\u001b[92m-2.449489748092488\u001b[0m\n",
            "3  \t [8.50713746 1.33499849]\t -75.93582966295617\t -4.603728884330075\t -2.449489748092488\n",
            "4  \t [-10.          -2.68139879]\t -114.37979888989878\t -4.603728884330075\t -2.4494897480752695\n",
            "5  \t [-2.22389033  8.98150291]\t -166.28047723102065\t -4.603728884330075\t -2.44948907977756\n",
            "6  \t [ 6.96012162 -4.09079957]\t -81.91257524640974\t -4.603728884330075\t -2.4494896189167523\n",
            "7  \t [-4.24074133 -2.1000316 ]\t -26.804152421911645\t -4.603728884330075\t -2.449473655519519\n",
            "8  \t [ 4.37467931 10.        ]\t -219.13781910813384\t -4.603728884330075\t -2.44944754855547\n",
            "9  \t [7.49300486 6.07197092]\t -129.8827836443956\t -4.603728884330075\t -2.4494884792000446\n",
            "10 \t [ -1.71623889 -10.        ]\t -202.94547591696588\t -4.603728884330075\t -2.4490772640222427\n",
            "11 \t [-6.83894164  1.46628379]\t -51.07109914370206\t -4.603728884330075\t -2.4494885411783596\n",
            "12 \t [-10.         5.638526]\t -163.58595090780494\t -4.603728884330075\t -2.4332549300239954\n",
            "13 \t [-1.76638891  2.37116301]\t -14.364957815787973\t -4.603728884330075\t -2.449142524911607\n",
            "14 \t [-6.49901299  9.32278417]\t -216.06577929463532\t -4.603728884330075\t -2.432175056407292\n",
            "15 \t [-0.39753311 -1.59153084]\t -5.223973379521565\t -4.603728884330075\t -2.4101459893282553\n",
            "16 \t [-10. -10.]\t -300.0\t -4.603728884330075\t -2.387710934198933\n",
            "17 \t [ 8.94060726 -6.77310684]\t -171.6844107414845\t -4.603728884330075\t -2.449489746810328\n",
            "18 \t [ 4.91286    -0.10280019]\t -24.1573291876953\t -4.603728884330075\t -2.3841965478605776\n",
            "19 \t [-3.85009602 -5.43570852]\t -73.91709354156829\t -4.603728884330075\t -2.3421893798752866\n",
            "20 \t [ 3.14762592 -3.44987576]\t -33.71083445769441\t -4.603728884330075\t -2.3912430288837916\n"
          ]
        }
      ]
    },
    {
      "cell_type": "code",
      "metadata": {
        "id": "VwbLIP9cIv-F",
        "colab": {
          "base_uri": "https://localhost:8080/"
        },
        "outputId": "f31e76a4-ed88-4810-de17-bc7be5897349"
      },
      "source": [
        "### EXACT GP CBM GRADIENTS\n",
        "\n",
        "np.random.seed(run_num_11)\n",
        "surrogate_exact_11 = dGaussianProcess(cov_func, optimize=opt)\n",
        "\n",
        "exact_11 = dGPGO(surrogate_exact_11, Acquisition_new(util_grad_exact), objfunc, param)\n",
        "exact_11.run(init_evals=n_init, max_iter=iters)\n"
      ],
      "execution_count": 44,
      "outputs": [
        {
          "output_type": "stream",
          "name": "stdout",
          "text": [
            "Evaluation \t Proposed point \t  Current eval. \t  Best eval. \t         Max AcqFunc.\n",
            "init\t [-6.39460622 -9.61049517]\t -225.61422357508457\t -2.716881462565864\t    \n",
            "init\t [-0.73562947  4.49867858]\t -41.01736871863572\t -2.716881462565864\t    \n",
            "init\t [-1.59592791 -0.29145804]\t -2.716881462565864\t -2.716881462565864\t    \n",
            "init\t [-9.74438371 -0.25256785]\t -95.08059489374317\t -2.716881462565864\t    \n",
            "init\t [8.83613305 7.01590179]\t -176.5230030066306\t -2.716881462565864\t    \n",
            "1  \t [ 1.99086793 -8.88652641]\t -161.90425830617428\t -2.716881462565864\t -2.449489748092488\n",
            "2  \t [ 4.79903036 -1.6267314 ]\t -28.32320242923278\t -2.716881462565864\t -2.449489748092488\n",
            "3  \t [10.          0.90638328]\t -101.64306131053262\t -2.716881462565864\t -2.449488630837071\n",
            "4  \t [-5.39498866 -3.76996454]\t -57.531167855393136\t -2.716881462565864\t -2.449477083647769\n",
            "5  \t [-7.89611862  5.10567265]\t -114.48447569496835\t -2.716881462565864\t -2.4494896934643373\n",
            "6  \t [-10.          -6.05434207]\t -173.31011584287148\t -2.716881462565864\t -2.449489748037369\n",
            "7  \t [ 8.69087926 -7.76523114]\t -196.12901149535702\t -2.716881462565864\t -2.4494897403278806\n",
            "8  \t [-4.40871928 10.        ]\t -219.43680571465833\t -2.716881462565864\t -2.449488919119708\n",
            "9  \t [ 1.65634961 10.        ]\t -202.74349404310277\t -2.716881462565864\t -2.449488305051949\n",
            "10 \t [4.49411354 3.58053266]\t -45.837484675862\t -2.716881462565864\t -2.449436938545915\n",
            "11 \t [ 0.52446114 -4.04301076]\t -32.96693147824504\t -2.716881462565864\t -2.449058295954432\n",
            "12 \t [-8.75376811  9.2692171 ]\t -248.46522733470792\t -2.716881462565864\t -2.449399937776554\n",
            "13 \t [-4.79091542  0.48000337]\t -23.413677038831807\t -2.716881462565864\t -2.440311213423952\n",
            "14 \t [ 9.42230434 -3.35730946]\t -111.32287263383836\t -2.716881462565864\t -2.4400327808452036\n",
            "15 \t [ 4.55324454 -5.39966645]\t -79.04483132703548\t -2.716881462565864\t -2.4282364674415557\n",
            "16 \t [ 1.64864217 -0.5896628 ]\t -3.413425441171601\t -2.716881462565864\t -2.362473009442896\n",
            "17 \t [-2.18837134 -8.46015847]\t -147.937531956523\t -2.716881462565864\t -2.4291714264639985\n",
            "18 \t [ 6.06534237 10.        ]\t -236.78837802066775\t -2.716881462565864\t -2.421266528941443\n",
            "19 \t [-10. -10.]\t -300.0\t -2.716881462565864\t -2.256120268014829\n",
            "20 \t [-4.04218893  5.68963029]\t -81.08307703710372\t -2.716881462565864\t -2.368626636031439\n"
          ]
        }
      ]
    },
    {
      "cell_type": "code",
      "metadata": {
        "id": "MlUNFjc-JTBY",
        "colab": {
          "base_uri": "https://localhost:8080/"
        },
        "outputId": "e9c2d4d5-a6c5-43d6-f494-7b1d45a49e8d"
      },
      "source": [
        "### EXACT GP CBM GRADIENTS\n",
        "\n",
        "np.random.seed(run_num_12)\n",
        "surrogate_exact_12 = dGaussianProcess(cov_func, optimize=opt)\n",
        "\n",
        "exact_12 = dGPGO(surrogate_exact_12, Acquisition_new(util_grad_exact), objfunc, param)\n",
        "exact_12.run(init_evals=n_init, max_iter=iters)\n"
      ],
      "execution_count": 45,
      "outputs": [
        {
          "output_type": "stream",
          "name": "stdout",
          "text": [
            "Evaluation \t Proposed point \t  Current eval. \t  Best eval. \t         Max AcqFunc.\n",
            "init\t [-6.91674315  4.80099393]\t -93.94042127407329\t -23.318590147261595\t    \n",
            "init\t [-4.7336997   0.67478787]\t -23.318590147261595\t -23.318590147261595\t    \n",
            "init\t [-9.70850075  8.37494016]\t -234.53423225249676\t -23.318590147261595\t    \n",
            "init\t [ 8.01429708 -9.33157145]\t -238.38540908259807\t -23.318590147261595\t    \n",
            "init\t [ 9.13898673 -7.25581357]\t -188.8147395776428\t -23.318590147261595\t    \n",
            "1  \t [4.66251955 4.05244711]\t -54.583743654491954\t -23.318590147261595\t -2.449489748092488\n",
            "2  \t [-3.75432006 -8.6025265 ]\t -162.1018436659056\t -23.318590147261595\t -2.449489748092488\n",
            "\u001b[1m\u001b[92m3\u001b[0m\t \u001b[1m\u001b[92m[ 0.87886819 -1.89091226]\u001b[0m\t \u001b[1m\u001b[92m-7.923507634979323\u001b[0m\t \u001b[1m\u001b[92m-7.923507634979323\u001b[0m\t \u001b[1m\u001b[92m-2.449489684994526\u001b[0m\n",
            "4  \t [10. 10.]\t -300.0\t -7.923507634979323\t -2.449489748092118\n",
            "5  \t [-10. -10.]\t -300.0\t -7.923507634979323\t -2.4494896447944448\n",
            "6  \t [-10.          -1.89916176]\t -107.21363079910743\t -7.923507634979323\t -2.4494893446855506\n",
            "7  \t [2.84326371 9.57059691]\t -191.276799070881\t -7.923507634979323\t -2.4494884729280133\n",
            "8  \t [ 9.70522792 -0.77171928]\t -95.38255028663309\t -7.923507634979323\t -2.449489689963309\n",
            "9  \t [ 2.01732841 -9.52410849]\t -185.48689900394078\t -7.923507634979323\t -2.4494848804004348\n",
            "10 \t [-3.17840795  9.26244188]\t -181.6879361469138\t -7.923507634979323\t -2.449486420181188\n",
            "11 \t [-0.56044277  3.64122478]\t -26.831131923727906\t -7.923507634979323\t -2.449435419108821\n",
            "12 \t [10.          4.50290825]\t -140.55236539515852\t -7.923507634979323\t -2.4493910309826683\n",
            "13 \t [ 5.17700183 -3.60147971]\t -52.74266009016276\t -7.923507634979323\t -2.449324925034713\n",
            "14 \t [-3.36366183 -3.64332198]\t -37.861810937807256\t -7.923507634979323\t -2.448634017471997\n",
            "15 \t [3.85649575 0.17353201]\t -14.932786154310605\t -7.923507634979323\t -2.4243690118559837\n",
            "16 \t [-8.14231654 -5.6810855 ]\t -130.84678354069393\t -7.923507634979323\t -2.4395287223248423\n",
            "\u001b[1m\u001b[92m17\u001b[0m\t \u001b[1m\u001b[92m[-1.4577638   0.32364549]\u001b[0m\t \u001b[1m\u001b[92m-2.3345680980475185\u001b[0m\t \u001b[1m\u001b[92m-2.3345680980475185\u001b[0m\t \u001b[1m\u001b[92m-2.33830311417851\u001b[0m\n",
            "18 \t [-10.           2.24451505]\t -110.07569558196822\t -2.3345680980475185\t -2.424040185162795\n",
            "19 \t [ 2.19399384 -5.6408968 ]\t -68.45304240106188\t -2.3345680980475185\t -2.3609592679029805\n",
            "20 \t [-0.25589099  7.11526503]\t -101.3194731858619\t -2.3345680980475185\t -2.25366513179528\n"
          ]
        }
      ]
    },
    {
      "cell_type": "code",
      "metadata": {
        "id": "9BsKdU9eJTFL",
        "colab": {
          "base_uri": "https://localhost:8080/"
        },
        "outputId": "5ad5f474-b856-4237-8882-0bc4b59e8268"
      },
      "source": [
        "### EXACT GP CBM GRADIENTS\n",
        "\n",
        "np.random.seed(run_num_13)\n",
        "surrogate_exact_13 = dGaussianProcess(cov_func, optimize=opt)\n",
        "\n",
        "exact_13 = dGPGO(surrogate_exact_13, Acquisition_new(util_grad_exact), objfunc, param)\n",
        "exact_13.run(init_evals=n_init, max_iter=iters)\n"
      ],
      "execution_count": 46,
      "outputs": [
        {
          "output_type": "stream",
          "name": "stdout",
          "text": [
            "Evaluation \t Proposed point \t  Current eval. \t  Best eval. \t         Max AcqFunc.\n",
            "init\t [ 5.55404821 -5.2491756 ]\t -85.95514048001408\t -47.45541115581226\t    \n",
            "init\t [6.48557065 9.31498396]\t -215.600479080162\t -47.45541115581226\t    \n",
            "init\t [ 9.45202228 -0.93101505]\t -91.0743031984701\t -47.45541115581226\t    \n",
            "init\t [2.18084926 5.51053029]\t -65.48799167425372\t -47.45541115581226\t    \n",
            "init\t [2.8322669  4.44036459]\t -47.45541115581226\t -47.45541115581226\t    \n",
            "1  \t [-8.69830926  2.59657998]\t -89.14503917528086\t -47.45541115581226\t -2.449489748092488\n",
            "2  \t [ -3.08551419 -10.        ]\t -209.52039779818688\t -47.45541115581226\t -2.449489748092488\n",
            "3  \t [-10. -10.]\t -300.0\t -47.45541115581226\t -2.4494897437437633\n",
            "4  \t [-5.68974606  9.11900061]\t -198.68555458020188\t -47.45541115581226\t -2.4494897478134265\n",
            "\u001b[1m\u001b[92m5\u001b[0m\t \u001b[1m\u001b[92m[-4.36156556 -3.65129573]\u001b[0m\t \u001b[1m\u001b[92m-45.68717513432111\u001b[0m\t \u001b[1m\u001b[92m-45.68717513432111\u001b[0m\t \u001b[1m\u001b[92m-2.4494896659945393\u001b[0m\n",
            "\u001b[1m\u001b[92m6\u001b[0m\t \u001b[1m\u001b[92m[-2.84646599  2.02448875]\u001b[0m\t \u001b[1m\u001b[92m-16.29947808404184\u001b[0m\t \u001b[1m\u001b[92m-16.29947808404184\u001b[0m\t \u001b[1m\u001b[92m-2.4494873211988284\u001b[0m\n",
            "7  \t [-10.          -3.50193256]\t -124.52706336103753\t -16.29947808404184\t -2.4494866652197853\n",
            "8  \t [10.          4.72448806]\t -144.6415749409708\t -16.29947808404184\t -2.4494793512618283\n",
            "\u001b[1m\u001b[92m9\u001b[0m\t \u001b[1m\u001b[92m[ 1.399875   -0.97753975]\u001b[0m\t \u001b[1m\u001b[92m-3.870817922701323\u001b[0m\t \u001b[1m\u001b[92m-3.870817922701323\u001b[0m\t \u001b[1m\u001b[92m-2.4494753239205522\u001b[0m\n",
            "10 \t [ 2.10556066 -9.05787083]\t -168.52343348433442\t -3.870817922701323\t -2.449315534241439\n",
            "11 \t [10.         -6.87149096]\t -194.434776048599\t -3.870817922701323\t -2.4489007419006663\n",
            "12 \t [5.00070402 0.67557329]\t -25.919839247801487\t -3.870817922701323\t -2.446739224037565\n",
            "13 \t [-0.24439632 10.        ]\t -200.05972956263966\t -3.870817922701323\t -2.449401201552477\n",
            "14 \t [-0.04916574 -4.56555995]\t -41.69109254097685\t -3.870817922701323\t -2.4466806239440584\n",
            "15 \t [-9.28189759  6.60964529]\t -173.52844462403453\t -3.870817922701323\t -2.4307947413790933\n",
            "16 \t [-2.70880889  5.99872127]\t -79.30695926514383\t -3.870817922701323\t -2.4357383774340047\n",
            "17 \t [-6.81393182 -6.83881179]\t -139.9683603292676\t -3.870817922701323\t -2.4339652129865645\n",
            "18 \t [0.42403157 1.75865971]\t -6.365570734022167\t -3.870817922701323\t -2.3521398913096085\n",
            "19 \t [-1.67003215 -1.0908998 ]\t -5.16913211122008\t -3.870817922701323\t -2.358234604505964\n",
            "20 \t [6.1283134  5.31412131]\t -94.03599578683618\t -3.870817922701323\t -2.3188434061056875\n"
          ]
        }
      ]
    },
    {
      "cell_type": "code",
      "metadata": {
        "id": "k6GjFBr1JTJf",
        "colab": {
          "base_uri": "https://localhost:8080/"
        },
        "outputId": "f2f245ba-06ba-458f-bca1-046e159f7b65"
      },
      "source": [
        "### EXACT GP CBM GRADIENTS\n",
        "\n",
        "np.random.seed(run_num_14)\n",
        "surrogate_exact_14 = dGaussianProcess(cov_func, optimize=opt)\n",
        "\n",
        "exact_14 = dGPGO(surrogate_exact_14, Acquisition_new(util_grad_exact), objfunc, param)\n",
        "exact_14.run(init_evals=n_init, max_iter=iters)\n"
      ],
      "execution_count": 47,
      "outputs": [
        {
          "output_type": "stream",
          "name": "stdout",
          "text": [
            "Evaluation \t Proposed point \t  Current eval. \t  Best eval. \t         Max AcqFunc.\n",
            "init\t [0.27886688 5.46330104]\t -59.77308327621332\t -26.48525945153859\t    \n",
            "init\t [ 7.40855371 -9.83906103]\t -248.5009120212351\t -26.48525945153859\t    \n",
            "init\t [-3.80528149  9.15207479]\t -182.0011130426615\t -26.48525945153859\t    \n",
            "init\t [ 0.26233425 -3.6343115 ]\t -26.48525945153859\t -26.48525945153859\t    \n",
            "init\t [ 0.78399875 -5.57490115]\t -62.773699734431055\t -26.48525945153859\t    \n",
            "1  \t [-10. -10.]\t -300.0\t -26.48525945153859\t -2.449489748092488\n",
            "2  \t [10. 10.]\t -300.0\t -26.48525945153859\t -2.449489748092488\n",
            "3  \t [-8.40655166 -0.09704184]\t -70.68894507141226\t -26.48525945153859\t -2.449489748092488\n",
            "4  \t [ 7.59696716 -1.03928139]\t -59.874121691821465\t -26.48525945153859\t -2.449489748091595\n",
            "5  \t [ 3.83886216 10.        ]\t -214.73686267179238\t -26.48525945153859\t -2.4494870949600958\n",
            "6  \t [-4.96348562 -6.36426737]\t -105.64398773961763\t -26.48525945153859\t -2.44948729734659\n",
            "7  \t [6.09938165 4.45314171]\t -76.86339871402936\t -26.48525945153859\t -2.449484459490013\n",
            "8  \t [-9.64177644  6.15475675]\t -168.7259141575829\t -26.48525945153859\t -2.4494896535661748\n",
            "9  \t [-4.23114153  2.97789825]\t -35.638314600301705\t -26.48525945153859\t -2.449385702931351\n",
            "10 \t [-10.          -4.75430297]\t -145.20679340639057\t -26.48525945153859\t -2.4490924760982904\n",
            "11 \t [ -1.60602639 -10.        ]\t -202.57932076605778\t -26.48525945153859\t -2.4491372589808122\n",
            "\u001b[1m\u001b[92m12\u001b[0m\t \u001b[1m\u001b[92m[2.56105134 0.66027467]\u001b[0m\t \u001b[1m\u001b[92m-7.4309092488254525\u001b[0m\t \u001b[1m\u001b[92m-7.4309092488254525\u001b[0m\t \u001b[1m\u001b[92m-2.4493119634350546\u001b[0m\n",
            "13 \t [ 5.1948263  -4.84552741]\t -73.94449195541414\t -7.4309092488254525\t -2.446825666346506\n",
            "14 \t [  2.87797975 -10.        ]\t -208.28276745243977\t -7.4309092488254525\t -2.4406530673685083\n",
            "15 \t [-3.37527846 -2.09857023]\t -20.20049869425543\t -7.4309092488254525\t -2.4431424108184574\n",
            "16 \t [10.          3.31895388]\t -122.0309096975516\t -7.4309092488254525\t -2.43932990307438\n",
            "\u001b[1m\u001b[92m17\u001b[0m\t \u001b[1m\u001b[92m[-0.90752186  1.58100541]\u001b[0m\t \u001b[1m\u001b[92m-5.822752140657417\u001b[0m\t \u001b[1m\u001b[92m-5.822752140657417\u001b[0m\t \u001b[1m\u001b[92m-2.4082868686052565\u001b[0m\n",
            "18 \t [ 9.08553583 -4.35425661]\t -120.46606271681873\t -5.822752140657417\t -2.3919371274526684\n",
            "19 \t [ -6.01797236 -10.        ]\t -236.21599136736327\t -5.822752140657417\t -2.348589842074142\n",
            "20 \t [0.11334923 9.06825487]\t -164.47934073706756\t -5.822752140657417\t -2.295717606062574\n"
          ]
        }
      ]
    },
    {
      "cell_type": "code",
      "metadata": {
        "id": "dPS8WB3aJTN6",
        "colab": {
          "base_uri": "https://localhost:8080/"
        },
        "outputId": "c8d9266f-5866-432f-f2ee-d74fc3b127f1"
      },
      "source": [
        "### EXACT GP CBM GRADIENTS\n",
        "\n",
        "np.random.seed(run_num_15)\n",
        "surrogate_exact_15 = dGaussianProcess(cov_func, optimize=opt)\n",
        "\n",
        "exact_15 = dGPGO(surrogate_exact_15, Acquisition_new(util_grad_exact), objfunc, param)\n",
        "exact_15.run(init_evals=n_init, max_iter=iters)\n"
      ],
      "execution_count": 48,
      "outputs": [
        {
          "output_type": "stream",
          "name": "stdout",
          "text": [
            "Evaluation \t Proposed point \t  Current eval. \t  Best eval. \t         Max AcqFunc.\n",
            "init\t [ 6.97635395 -6.4220815 ]\t -131.15577599697437\t -20.897907943365695\t    \n",
            "init\t [-8.91273571 -2.76923108]\t -94.77413943464936\t -20.897907943365695\t    \n",
            "init\t [-4.49198143  0.6000045 ]\t -20.897907943365695\t -20.897907943365695\t    \n",
            "init\t [-3.88162169 -3.91051282]\t -45.651207890195394\t -20.897907943365695\t    \n",
            "init\t [-7.76517448 -5.00201972]\t -110.33833725681367\t -20.897907943365695\t    \n",
            "1  \t [10. 10.]\t -300.0\t -20.897907943365695\t -2.449489748092488\n",
            "2  \t [-9.69991687  7.99454818]\t -221.91398842692476\t -20.897907943365695\t -2.449489748092488\n",
            "3  \t [0.20513286 9.70412013]\t -188.3819746546224\t -20.897907943365695\t -2.449489748092488\n",
            "4  \t [8.17696818 1.09984692]\t -69.28213505909017\t -20.897907943365695\t -2.4494897480759805\n",
            "5  \t [1.2981086  3.27985936]\t -23.200040829137844\t -20.897907943365695\t -2.449489676212509\n",
            "6  \t [-0.62952455 -9.52479128]\t -181.8395990317211\t -20.897907943365695\t -2.4494897316038236\n",
            "\u001b[1m\u001b[92m7\u001b[0m\t \u001b[1m\u001b[92m[ 1.81302714 -2.75509637]\u001b[0m\t \u001b[1m\u001b[92m-18.46817947379217\u001b[0m\t \u001b[1m\u001b[92m-18.46817947379217\u001b[0m\t \u001b[1m\u001b[92m-2.4494884310019684\u001b[0m\n",
            "8  \t [-10. -10.]\t -300.0\t -18.46817947379217\t -2.449472960536004\n",
            "9  \t [5.8331911  6.04684281]\t -107.15473430346299\t -18.46817947379217\t -2.449460036081502\n",
            "10 \t [-4.47913258  7.07452497]\t -120.16043564931512\t -18.46817947379217\t -2.449351085019684\n",
            "11 \t [-10.           2.47553554]\t -112.25655240710273\t -18.46817947379217\t -2.4494362681718487\n",
            "12 \t [ 2.78120048 -6.84846912]\t -101.53813465506656\t -18.46817947379217\t -2.431594925588689\n",
            "13 \t [10.          5.37524131]\t -157.7864382100537\t -18.46817947379217\t -2.438123758881345\n",
            "14 \t [-5.30358385 -8.88421335]\t -185.9864953380137\t -18.46817947379217\t -2.4454148637053468\n",
            "15 \t [ 9.9565529  -2.80559908]\t -114.8757180224454\t -18.46817947379217\t -2.4449065208641816\n",
            "\u001b[1m\u001b[92m16\u001b[0m\t \u001b[1m\u001b[92m[-0.94742047  0.33052608]\u001b[0m\t \u001b[1m\u001b[92m-1.1161005150952463\u001b[0m\t \u001b[1m\u001b[92m-1.1161005150952463\u001b[0m\t \u001b[1m\u001b[92m-2.416819969944444\u001b[0m\n",
            "17 \t [4.26992771 0.03968558]\t -18.235432553641854\t -1.1161005150952463\t -2.430100800293796\n",
            "18 \t [-2.82518288  3.71009237]\t -35.51122910836419\t -1.1161005150952463\t -2.3730584358009774\n",
            "19 \t [ 5.91882291 -2.76135037]\t -50.28257640539943\t -1.1161005150952463\t -2.336876959974589\n",
            "20 \t [ 5.1682549 10.       ]\t -226.7108586710817\t -1.1161005150952463\t -2.430450865933674\n"
          ]
        }
      ]
    },
    {
      "cell_type": "code",
      "metadata": {
        "id": "SHWdp2giJTRm",
        "colab": {
          "base_uri": "https://localhost:8080/"
        },
        "outputId": "609314c2-d7bc-446a-eb41-130b05906a20"
      },
      "source": [
        "### EXACT GP CBM GRADIENTS\n",
        "\n",
        "np.random.seed(run_num_16)\n",
        "surrogate_exact_16 = dGaussianProcess(cov_func, optimize=opt)\n",
        "\n",
        "exact_16 = dGPGO(surrogate_exact_16, Acquisition_new(util_grad_exact), objfunc, param)\n",
        "exact_16.run(init_evals=n_init, max_iter=iters)\n"
      ],
      "execution_count": 49,
      "outputs": [
        {
          "output_type": "stream",
          "name": "stdout",
          "text": [
            "Evaluation \t Proposed point \t  Current eval. \t  Best eval. \t         Max AcqFunc.\n",
            "init\t [-5.53417842  0.46326683]\t -31.056363058280656\t -31.056363058280656\t    \n",
            "init\t [ 1.01402913 -9.087961  ]\t -166.21032525826828\t -31.056363058280656\t    \n",
            "init\t [-2.78542329 -5.53838117]\t -69.10591480510183\t -31.056363058280656\t    \n",
            "init\t [ 3.77452324 -6.7253715 ]\t -104.70826928786903\t -31.056363058280656\t    \n",
            "init\t [-8.59350266  8.8202172 ]\t -229.44075111810224\t -31.056363058280656\t    \n",
            "1  \t [10.          9.77978534]\t -291.28840247255073\t -31.056363058280656\t -2.449489748092488\n",
            "2  \t [-10. -10.]\t -300.0\t -31.056363058280656\t -2.44948974809248\n",
            "3  \t [0.85375082 9.40301345]\t -177.56221418768533\t -31.056363058280656\t -2.449489748092488\n",
            "4  \t [5.7976487  1.62279444]\t -38.87965405424715\t -31.056363058280656\t -2.4494897480924833\n",
            "\u001b[1m\u001b[92m5\u001b[0m\t \u001b[1m\u001b[92m[-0.153885    1.10463608]\u001b[0m\t \u001b[1m\u001b[92m-2.4641223318645973\u001b[0m\t \u001b[1m\u001b[92m-2.4641223318645973\u001b[0m\t \u001b[1m\u001b[92m-2.449489748092488\u001b[0m\n",
            "6  \t [-10.        -3.229127]\t -120.8545223413631\t -2.4641223318645973\t -2.4494889373087294\n",
            "7  \t [ 9.29218152 -4.43054191]\t -125.60404073375271\t -2.4641223318645973\t -2.449488827202922\n",
            "8  \t [-2.73855921  5.0527341 ]\t -58.55995031009219\t -2.4641223318645973\t -2.449452547209203\n",
            "9  \t [9.85482445 4.47560314]\t -137.17961184547136\t -2.4641223318645973\t -2.4492891750276584\n",
            "10 \t [-10.           3.05525472]\t -118.66916274928957\t -2.4641223318645973\t -2.449461789464626\n",
            "11 \t [-5.2030891  -9.39760818]\t -203.70221513293703\t -2.4641223318645973\t -2.447144354218406\n",
            "12 \t [  6.99294665 -10.        ]\t -248.90130278785298\t -2.4641223318645973\t -2.4481053504890533\n",
            "13 \t [5.35534725 7.75769042]\t -149.0432655369618\t -2.4641223318645973\t -2.4481748444071596\n",
            "14 \t [ 2.14481972 -2.04413596]\t -12.95723525556712\t -2.4641223318645973\t -2.448601162647548\n",
            "15 \t [1.77616652 4.54575988]\t -44.48263317435909\t -2.4641223318645973\t -2.446782825275898\n",
            "16 \t [-2.01120948 -1.46722452]\t -8.350459181518556\t -2.4641223318645973\t -2.429198657889368\n",
            "17 \t [-3.68506648  9.21126053]\t -183.27435601057903\t -2.4641223318645973\t -2.4426488372139428\n",
            "18 \t [9.41824552 0.17438936]\t -88.76417194345669\t -2.4641223318645973\t -2.4322532063204907\n",
            "19 \t [-6.51009713  5.01375844]\t -92.65691202631476\t -2.4641223318645973\t -2.39598228431012\n",
            "20 \t [-6.30892761 -2.77162894]\t -55.166421528185765\t -2.4641223318645973\t -2.3264721331787404\n"
          ]
        }
      ]
    },
    {
      "cell_type": "code",
      "metadata": {
        "id": "yU2SflSsJTUs",
        "colab": {
          "base_uri": "https://localhost:8080/"
        },
        "outputId": "fb7ea013-6491-430d-ac8b-d28ac16c6445"
      },
      "source": [
        "### EXACT GP CBM GRADIENTS\n",
        "\n",
        "np.random.seed(run_num_17)\n",
        "surrogate_exact_17 = dGaussianProcess(cov_func, optimize=opt)\n",
        "\n",
        "exact_17 = dGPGO(surrogate_exact_17, Acquisition_new(util_grad_exact), objfunc, param)\n",
        "exact_17.run(init_evals=n_init, max_iter=iters)\n"
      ],
      "execution_count": 50,
      "outputs": [
        {
          "output_type": "stream",
          "name": "stdout",
          "text": [
            "Evaluation \t Proposed point \t  Current eval. \t  Best eval. \t         Max AcqFunc.\n",
            "init\t [-4.10669995  0.61173511]\t -17.613424143360255\t -12.137436774523842\t    \n",
            "init\t [-6.16958426 -8.64199284]\t -187.43185031516856\t -12.137436774523842\t    \n",
            "init\t [5.7397092  3.12667044]\t -52.49639772521824\t -12.137436774523842\t    \n",
            "init\t [2.75041792 1.51205788]\t -12.137436774523842\t -12.137436774523842\t    \n",
            "init\t [-9.21874168 -2.84372791]\t -101.1587749488933\t -12.137436774523842\t    \n",
            "1  \t [-8.64042543  9.21575513]\t -244.5172369008349\t -12.137436774523842\t -2.449489748092488\n",
            "2  \t [ 4.54825031 -8.71744454]\t -172.6742595800706\t -12.137436774523842\t -2.449489748092488\n",
            "3  \t [10. 10.]\t -300.0\t -12.137436774523842\t -2.4494897480923226\n",
            "4  \t [-0.05385845  7.96254756]\t -126.80722802594437\t -12.137436774523842\t -2.4494897479722377\n",
            "5  \t [ 9.06636127 -2.74323799]\t -97.24961590065784\t -12.137436774523842\t -2.4494897446155077\n",
            "6  \t [-1.38956135 -4.95563152]\t -51.04744819972017\t -12.137436774523842\t -2.44948855899965\n",
            "7  \t [-10.           3.28717604]\t -121.61105258781902\t -12.137436774523842\t -2.4494883530634954\n",
            "8  \t [ 3.72738553 -3.7457176 ]\t -41.95420359005249\t -12.137436774523842\t -2.449489748092488\n",
            "9  \t [10.         -8.55405109]\t -246.34358009719287\t -12.137436774523842\t -2.449458331169628\n",
            "10 \t [4.71016279 9.97604887]\t -221.22873559895896\t -12.137436774523842\t -2.4492654567063004\n",
            "11 \t [  0.08434549 -10.        ]\t -200.00711416138893\t -12.137436774523842\t -2.449489747861427\n",
            "12 \t [-4.99150035  5.82924523]\t -92.87527571848531\t -12.137436774523842\t -2.448932962856596\n",
            "13 \t [10.         2.1843396]\t -109.54267901984527\t -12.137436774523842\t -2.447394863046216\n",
            "14 \t [-0.7636909   3.10342765]\t -19.845750196151897\t -12.137436774523842\t -2.4439569555378315\n",
            "\u001b[1m\u001b[92m15\u001b[0m\t \u001b[1m\u001b[92m[-0.44953226 -0.84898582]\u001b[0m\t \u001b[1m\u001b[92m-1.643633091965647\u001b[0m\t \u001b[1m\u001b[92m-1.643633091965647\u001b[0m\t \u001b[1m\u001b[92m-2.436043570204325\u001b[0m\n",
            "16 \t [-10. -10.]\t -300.0\t -1.643633091965647\t -2.4252039880161176\n",
            "17 \t [-5.32439624 -4.27336006]\t -64.8724076299173\t -1.643633091965647\t -2.449489717401337\n",
            "18 \t [7.10379631 6.69953689]\t -140.23151100225977\t -1.643633091965647\t -2.3927998227078864\n",
            "19 \t [-3.59247018  9.77691393]\t -204.08193407420745\t -1.643633091965647\t -2.4186299487021006\n",
            "20 \t [-9.548693  -6.3625568]\t -172.14179613280805\t -1.643633091965647\t -2.449479166721477\n"
          ]
        }
      ]
    },
    {
      "cell_type": "code",
      "metadata": {
        "id": "es0KCh_0JTgY",
        "colab": {
          "base_uri": "https://localhost:8080/"
        },
        "outputId": "c2cd9d18-b6f4-49f7-cd24-95ee25ca554e"
      },
      "source": [
        "### EXACT GP CBM GRADIENTS\n",
        "\n",
        "np.random.seed(run_num_18)\n",
        "surrogate_exact_18 = dGaussianProcess(cov_func, optimize=opt)\n",
        "\n",
        "exact_18 = dGPGO(surrogate_exact_18, Acquisition_new(util_grad_exact), objfunc, param)\n",
        "exact_18.run(init_evals=n_init, max_iter=iters)\n"
      ],
      "execution_count": 51,
      "outputs": [
        {
          "output_type": "stream",
          "name": "stdout",
          "text": [
            "Evaluation \t Proposed point \t  Current eval. \t  Best eval. \t         Max AcqFunc.\n",
            "init\t [3.00748483 0.10906747]\t -9.068756459576363\t -9.068756459576363\t    \n",
            "init\t [ 7.57202942 -6.36319549]\t -138.3161432668939\t -9.068756459576363\t    \n",
            "init\t [7.04466137 5.00272572]\t -99.6817831686958\t -9.068756459576363\t    \n",
            "init\t [3.32203335 9.75790897]\t -201.4694803352836\t -9.068756459576363\t    \n",
            "init\t [-4.86063155 -9.43388149]\t -201.6219791510955\t -9.068756459576363\t    \n",
            "1  \t [-6.1664519   4.28513481]\t -74.74988979878172\t -9.068756459576363\t -2.449489748092488\n",
            "2  \t [-6.07110106 -2.27098711]\t -47.173032968123124\t -9.068756459576363\t -2.4494897468164174\n",
            "3  \t [10. 10.]\t -300.0\t -9.068756459576363\t -2.4494897480888658\n",
            "4  \t [-2.33775535  8.28880862]\t -142.8737966101193\t -9.068756459576363\t -2.4494896713523717\n",
            "5  \t [ 4.59940623 -9.59713586]\t -205.36457092968183\t -9.068756459576363\t -2.449489748092488\n",
            "6  \t [-0.88286482 -3.88085007]\t -30.901444856926933\t -9.068756459576363\t -2.449479701090286\n",
            "7  \t [10.         -0.46426275]\t -100.43107979317242\t -9.068756459576363\t -2.4494894425642313\n",
            "8  \t [-10.          -8.17257801]\t -233.58206276446566\t -9.068756459576363\t -2.449406087831624\n",
            "9  \t [-10.           0.86660307]\t -101.5020017520557\t -9.068756459576363\t -2.4493435843524347\n",
            "10 \t [-7.9295026   9.61072332]\t -247.60901676318807\t -9.068756459576363\t -2.449479427200744\n",
            "11 \t [-1.15610298  3.1504258 ]\t -21.186939607919324\t -9.068756459576363\t -2.449346953895988\n",
            "12 \t [2.48813415 5.04354048]\t -57.06541275333339\t -9.068756459576363\t -2.4445529808165607\n",
            "13 \t [ 6.02624429 -2.35905731]\t -47.44592299817584\t -9.068756459576363\t -2.437209904105107\n",
            "14 \t [-3.11360899  0.15048625]\t -9.739853152983272\t -9.068756459576363\t -2.4158670222036487\n",
            "15 \t [-10.          -4.06424314]\t -133.03614465919145\t -9.068756459576363\t -2.449489748091263\n",
            "16 \t [-0.24595755 -8.14346227]\t -132.69245052712128\t -9.068756459576363\t -2.4467333380896337\n",
            "17 \t [-9.98582791  5.13829227]\t -152.52085408773138\t -9.068756459576363\t -2.425623339405702\n",
            "18 \t [ 2.55943777 -3.58184889]\t -32.21000458645639\t -9.068756459576363\t -2.377876537149261\n",
            "19 \t [5.96903881 1.37510516]\t -39.41125268439308\t -9.068756459576363\t -2.3604006264459683\n",
            "20 \t [10.          3.06879128]\t -118.83495987276297\t -9.068756459576363\t -2.449485713343874\n"
          ]
        }
      ]
    },
    {
      "cell_type": "code",
      "metadata": {
        "id": "Pput2LHPIwBM",
        "colab": {
          "base_uri": "https://localhost:8080/"
        },
        "outputId": "8c32673b-886b-4fc6-f83e-7f2daad702e1"
      },
      "source": [
        "### EXACT GP CBM GRADIENTS\n",
        "\n",
        "np.random.seed(run_num_19)\n",
        "surrogate_exact_19 = dGaussianProcess(cov_func, optimize=opt)\n",
        "\n",
        "exact_19 = dGPGO(surrogate_exact_19, Acquisition_new(util_grad_exact), objfunc, param)\n",
        "exact_19.run(init_evals=n_init, max_iter=iters)\n"
      ],
      "execution_count": 52,
      "outputs": [
        {
          "output_type": "stream",
          "name": "stdout",
          "text": [
            "Evaluation \t Proposed point \t  Current eval. \t  Best eval. \t         Max AcqFunc.\n",
            "init\t [-8.04932797  5.22499433]\t -119.39281225846176\t -87.03025225125222\t    \n",
            "init\t [-5.06124054 -7.23736625]\t -130.3750962570555\t -87.03025225125222\t    \n",
            "init\t [-3.37106873 -8.3400087 ]\t -150.4755946408245\t -87.03025225125222\t    \n",
            "init\t [3.43954163 6.13187596]\t -87.03025225125222\t -87.03025225125222\t    \n",
            "init\t [9.65483829 2.7132147 ]\t -107.93897039562282\t -87.03025225125222\t    \n",
            "1  \t [ 9.42739537 -7.28680447]\t -195.07082209920037\t -87.03025225125222\t -2.449489748092488\n",
            "2  \t [10. 10.]\t -300.0\t -87.03025225125222\t -2.449489747931338\n",
            "\u001b[1m\u001b[92m3\u001b[0m\t \u001b[1m\u001b[92m[-1.52594936 -0.74524869]\u001b[0m\t \u001b[1m\u001b[92m-3.43931266960188\u001b[0m\t \u001b[1m\u001b[92m-3.43931266960188\u001b[0m\t \u001b[1m\u001b[92m-2.4494897480062217\u001b[0m\n",
            "4  \t [-9.64931371 -1.76781368]\t -99.35958538505903\t -3.43931266960188\t -2.449489747174264\n",
            "5  \t [ 4.48566865 -3.08578812]\t -39.165399822366275\t -3.43931266960188\t -2.4494896750680004\n",
            "6  \t [-2.2233185   8.40664734]\t -146.2865841157912\t -3.43931266960188\t -2.449489375918714\n",
            "7  \t [-10. -10.]\t -300.0\t -3.43931266960188\t -2.449483010111015\n",
            "8  \t [  4.00395827 -10.        ]\t -216.03168182901663\t -3.43931266960188\t -2.4494887391298943\n",
            "9  \t [-2.27259765  3.34433047]\t -27.533792716425907\t -3.43931266960188\t -2.4489862510574123\n",
            "10 \t [10.         -2.23566052]\t -109.99635593355174\t -3.43931266960188\t -2.449003382357423\n",
            "11 \t [ 0.13338985 -4.82578085]\t -46.594114557568716\t -3.43931266960188\t -2.4487284841860393\n",
            "12 \t [5.2463833  1.23491043]\t -30.574545246509125\t -3.43931266960188\t -2.447049829894549\n",
            "13 \t [-5.71967693  0.68666777]\t -33.657729390405436\t -3.43931266960188\t -2.447120633003702\n",
            "14 \t [-4.00727889 -3.08821834]\t -35.132469071175805\t -3.43931266960188\t -2.4338987648046557\n",
            "15 \t [-6.95475112 10.        ]\t -248.36856317379934\t -3.43931266960188\t -2.4488397732957865\n",
            "16 \t [ 5.24318389 10.        ]\t -227.49097729722024\t -3.43931266960188\t -2.4428373504738907\n",
            "17 \t [1.29999329 1.7883856 ]\t -8.08662868249059\t -3.43931266960188\t -2.4354887836692973\n",
            "18 \t [-9.72194619 -5.7421385 ]\t -160.46054681887674\t -3.43931266960188\t -2.4140024543856473\n",
            "19 \t [ 1.42492944 -1.31839521]\t -5.50675577802617\t -3.43931266960188\t -2.338963484281339\n",
            "20 \t [ 1.26218684 10.        ]\t -201.59311561095512\t -3.43931266960188\t -2.358740778798718\n"
          ]
        }
      ]
    },
    {
      "cell_type": "code",
      "metadata": {
        "id": "aw3xvSryIwDi",
        "colab": {
          "base_uri": "https://localhost:8080/"
        },
        "outputId": "68391ada-a914-493d-dcac-66f7c8ca707c"
      },
      "source": [
        "### EXACT GP CBM GRADIENTS\n",
        "\n",
        "np.random.seed(run_num_20)\n",
        "surrogate_exact_20 = dGaussianProcess(cov_func, optimize=opt)\n",
        "\n",
        "exact_20 = dGPGO(surrogate_exact_20, Acquisition_new(util_grad_exact), objfunc, param)\n",
        "exact_20.run(init_evals=n_init, max_iter=iters)\n"
      ],
      "execution_count": 53,
      "outputs": [
        {
          "output_type": "stream",
          "name": "stdout",
          "text": [
            "Evaluation \t Proposed point \t  Current eval. \t  Best eval. \t         Max AcqFunc.\n",
            "init\t [1.76261602 7.95427456]\t -129.64778273349407\t -6.161449614183514\t    \n",
            "init\t [7.83061459 6.31674955]\t -141.12117450686426\t -6.161449614183514\t    \n",
            "init\t [-9.28220829  3.83515164]\t -115.57616682517047\t -6.161449614183514\t    \n",
            "init\t [-2.42638116  0.37021891]\t -6.161449614183514\t -6.161449614183514\t    \n",
            "init\t [ 3.15902931 -6.12299564]\t -84.96161746112533\t -6.161449614183514\t    \n",
            "1  \t [-10. -10.]\t -300.0\t -6.161449614183514\t -2.449489748092488\n",
            "2  \t [-4.01456245 -6.6872889 ]\t -105.55637735489252\t -6.161449614183514\t -2.4494897474701567\n",
            "3  \t [-10.          -2.75062699]\t -115.13189768661975\t -6.161449614183514\t -2.4494897326126157\n",
            "4  \t [ 9.03563127 -5.57761678]\t -143.86225043765864\t -6.161449614183514\t -2.449489748092488\n",
            "5  \t [-5.76960333  8.73906351]\t -186.03078463391498\t -6.161449614183514\t -2.449489022704079\n",
            "6  \t [5.91665085 0.59159334]\t -35.70672268351611\t -6.161449614183514\t -2.4494895743338443\n",
            "7  \t [ -0.1128722 -10.       ]\t -200.01274013446803\t -6.161449614183514\t -2.4494838345740138\n",
            "8  \t [  6.42741205 -10.        ]\t -241.3116256304317\t -6.161449614183514\t -2.449243100903534\n",
            "9  \t [1.53618077 2.61824768]\t -16.070293166824644\t -6.161449614183514\t -2.4491964280387206\n",
            "10 \t [10.        -1.2219885]\t -102.98651176736465\t -6.161449614183514\t -2.449488537699775\n",
            "11 \t [10. 10.]\t -300.0\t -6.161449614183514\t -2.441891300248407\n",
            "12 \t [-5.24055363 -2.31440487]\t -38.17634210200953\t -6.161449614183514\t -2.445506698611194\n",
            "13 \t [-3.45708017  4.45495904]\t -51.64472349126419\t -6.161449614183514\t -2.448387580760316\n",
            "14 \t [-0.96760369 -4.14159073]\t -35.24180453924958\t -6.161449614183514\t -2.4494887875349987\n",
            "\u001b[1m\u001b[92m15\u001b[0m\t \u001b[1m\u001b[92m[ 1.31404992 -0.96758852]\u001b[0m\t \u001b[1m\u001b[92m-3.59918227441426\u001b[0m\t \u001b[1m\u001b[92m-3.59918227441426\u001b[0m\t \u001b[1m\u001b[92m-2.4270740802928468\u001b[0m\n",
            "16 \t [-8.1903385  -6.11618394]\t -141.89705673483758\t -3.59918227441426\t -2.387656771162236\n",
            "17 \t [10.          2.89289897]\t -116.73772887529289\t -3.59918227441426\t -2.419250784640313\n",
            "18 \t [ 5.51033619 10.        ]\t -230.36380492171557\t -3.59918227441426\t -2.43065088972831\n",
            "19 \t [-5.67479945  1.25455352]\t -35.35115790087761\t -3.59918227441426\t -2.3928137548770483\n",
            "20 \t [ -5.77823427 -10.        ]\t -233.3879912279669\t -3.59918227441426\t -2.3810806191709917\n"
          ]
        }
      ]
    },
    {
      "cell_type": "code",
      "metadata": {
        "id": "qNqAB3vBTPqb",
        "colab": {
          "base_uri": "https://localhost:8080/"
        },
        "outputId": "c65fdf28-718b-47d8-aa15-3e11d7b2cab0"
      },
      "source": [
        "end_exact = time.time()\n",
        "end_exact\n",
        "\n",
        "time_exact = end_exact - start_exact\n",
        "time_exact"
      ],
      "execution_count": 54,
      "outputs": [
        {
          "output_type": "execute_result",
          "data": {
            "text/plain": [
              "354.0327093601227"
            ]
          },
          "metadata": {},
          "execution_count": 54
        }
      ]
    },
    {
      "cell_type": "code",
      "metadata": {
        "id": "JPQzjdBZQxfg",
        "colab": {
          "base_uri": "https://localhost:8080/"
        },
        "outputId": "abd50a41-31de-4b86-cedb-e206b48a808c"
      },
      "source": [
        "### Simple regret minimization: run number = 1\n",
        "\n",
        "approx_output_1 = np.append(np.min(approx_1.GP.y[0:n_init]),approx_1.GP.y[n_init:(n_init+iters)]) \n",
        "exact_output_1 = np.append(np.min(exact_1.GP.y[0:n_init]),exact_1.GP.y[n_init:(n_init+iters)]) \n",
        "\n",
        "regret_approx_1 = np.log(-approx_output_1 + y_global_orig)\n",
        "regret_exact_1 = np.log(-exact_output_1 + y_global_orig)\n",
        "\n",
        "simple_regret_approx_1 = min_max_array(regret_approx_1)\n",
        "simple_regret_exact_1 = min_max_array(regret_exact_1)\n",
        "\n",
        "min_simple_regret_approx_1 = min(simple_regret_approx_1)\n",
        "min_simple_regret_exact_1 = min(simple_regret_exact_1)\n",
        "\n",
        "min_simple_regret_approx_1, min_simple_regret_exact_1"
      ],
      "execution_count": 55,
      "outputs": [
        {
          "output_type": "execute_result",
          "data": {
            "text/plain": [
              "(2.3757925716023607, 1.3836324893178547)"
            ]
          },
          "metadata": {},
          "execution_count": 55
        }
      ]
    },
    {
      "cell_type": "code",
      "metadata": {
        "id": "94yBw5tqQxfk",
        "colab": {
          "base_uri": "https://localhost:8080/"
        },
        "outputId": "c63b28fa-d6ce-4913-ba8f-690186bd4dad"
      },
      "source": [
        "### Simple regret minimization: run number = 2\n",
        "\n",
        "approx_output_2 = np.append(np.min(approx_2.GP.y[0:n_init]),approx_2.GP.y[n_init:(n_init+iters)]) \n",
        "exact_output_2 = np.append(np.min(exact_2.GP.y[0:n_init]),exact_2.GP.y[n_init:(n_init+iters)]) \n",
        "\n",
        "regret_approx_2 = np.log(-approx_output_2 + y_global_orig)\n",
        "regret_exact_2 = np.log(-exact_output_2 + y_global_orig)\n",
        "\n",
        "simple_regret_approx_2 = min_max_array(regret_approx_2)\n",
        "simple_regret_exact_2 = min_max_array(regret_exact_2)\n",
        "\n",
        "min_simple_regret_approx_2 = min(simple_regret_approx_2)\n",
        "min_simple_regret_exact_2 = min(simple_regret_exact_2)\n",
        "\n",
        "min_simple_regret_approx_2, min_simple_regret_exact_2"
      ],
      "execution_count": 56,
      "outputs": [
        {
          "output_type": "execute_result",
          "data": {
            "text/plain": [
              "(1.6864085925162973, 1.888285047749519)"
            ]
          },
          "metadata": {},
          "execution_count": 56
        }
      ]
    },
    {
      "cell_type": "code",
      "metadata": {
        "id": "Bu6SBWALQxfl",
        "colab": {
          "base_uri": "https://localhost:8080/"
        },
        "outputId": "75cdb47e-1b44-4f6b-ecd6-c5bc86a31f9b"
      },
      "source": [
        "### Simple regret minimization: run number = 3\n",
        "\n",
        "approx_output_3 = np.append(np.min(approx_3.GP.y[0:n_init]),approx_3.GP.y[n_init:(n_init+iters)]) \n",
        "exact_output_3 = np.append(np.min(exact_3.GP.y[0:n_init]),exact_3.GP.y[n_init:(n_init+iters)]) \n",
        "\n",
        "regret_approx_3 = np.log(-approx_output_3 + y_global_orig)\n",
        "regret_exact_3 = np.log(-exact_output_3 + y_global_orig)\n",
        "\n",
        "simple_regret_approx_3 = min_max_array(regret_approx_3)\n",
        "simple_regret_exact_3 = min_max_array(regret_exact_3)\n",
        "\n",
        "min_simple_regret_approx_3 = min(simple_regret_approx_3)\n",
        "min_simple_regret_exact_3 = min(simple_regret_exact_3)\n",
        "\n",
        "min_simple_regret_approx_3, min_simple_regret_exact_3"
      ],
      "execution_count": 57,
      "outputs": [
        {
          "output_type": "execute_result",
          "data": {
            "text/plain": [
              "(0.4014652911434721, 0.3038615795638443)"
            ]
          },
          "metadata": {},
          "execution_count": 57
        }
      ]
    },
    {
      "cell_type": "code",
      "metadata": {
        "id": "AZm0jgxkQxfm",
        "colab": {
          "base_uri": "https://localhost:8080/"
        },
        "outputId": "c6078336-e6ec-4bd2-b72a-d6888ac399d8"
      },
      "source": [
        "### Simple regret minimization: run number = 4\n",
        "\n",
        "approx_output_4 = np.append(np.min(approx_4.GP.y[0:n_init]),approx_4.GP.y[n_init:(n_init+iters)]) \n",
        "exact_output_4 = np.append(np.min(exact_4.GP.y[0:n_init]),exact_4.GP.y[n_init:(n_init+iters)]) \n",
        "\n",
        "regret_approx_4 = np.log(-approx_output_4 + y_global_orig)\n",
        "regret_exact_4 = np.log(-exact_output_4 + y_global_orig)\n",
        "\n",
        "simple_regret_approx_4 = min_max_array(regret_approx_4)\n",
        "simple_regret_exact_4 = min_max_array(regret_exact_4)\n",
        "\n",
        "min_simple_regret_approx_4 = min(simple_regret_approx_4)\n",
        "min_simple_regret_exact_4 = min(simple_regret_exact_4)\n",
        "\n",
        "min_simple_regret_approx_4, min_simple_regret_exact_4"
      ],
      "execution_count": 58,
      "outputs": [
        {
          "output_type": "execute_result",
          "data": {
            "text/plain": [
              "(1.8187410563017905, 0.7478393198350645)"
            ]
          },
          "metadata": {},
          "execution_count": 58
        }
      ]
    },
    {
      "cell_type": "code",
      "metadata": {
        "id": "NONPm8JIQxfn",
        "colab": {
          "base_uri": "https://localhost:8080/"
        },
        "outputId": "d509845b-fb46-43af-d820-6f50540544d1"
      },
      "source": [
        "### Simple regret minimization: run number = 5\n",
        "\n",
        "approx_output_5 = np.append(np.min(approx_5.GP.y[0:n_init]),approx_5.GP.y[n_init:(n_init+iters)]) \n",
        "exact_output_5 = np.append(np.min(exact_5.GP.y[0:n_init]),exact_5.GP.y[n_init:(n_init+iters)]) \n",
        "\n",
        "regret_approx_5 = np.log(-approx_output_5 + y_global_orig)\n",
        "regret_exact_5 = np.log(-exact_output_5 + y_global_orig)\n",
        "\n",
        "simple_regret_approx_5 = min_max_array(regret_approx_5)\n",
        "simple_regret_exact_5 = min_max_array(regret_exact_5)\n",
        "\n",
        "min_simple_regret_approx_5 = min(simple_regret_approx_5)\n",
        "min_simple_regret_exact_5 = min(simple_regret_exact_5)\n",
        "\n",
        "min_simple_regret_approx_5, min_simple_regret_exact_5"
      ],
      "execution_count": 59,
      "outputs": [
        {
          "output_type": "execute_result",
          "data": {
            "text/plain": [
              "(2.585475469283191, 1.1409224423560933)"
            ]
          },
          "metadata": {},
          "execution_count": 59
        }
      ]
    },
    {
      "cell_type": "code",
      "metadata": {
        "id": "CJv3lPuSQxfp",
        "colab": {
          "base_uri": "https://localhost:8080/"
        },
        "outputId": "6e449dac-d176-4fa3-eee8-f06ba5034d2f"
      },
      "source": [
        "### Simple regret minimization: run number = 6\n",
        "\n",
        "approx_output_6 = np.append(np.min(approx_6.GP.y[0:n_init]),approx_6.GP.y[n_init:(n_init+iters)]) \n",
        "exact_output_6 = np.append(np.min(exact_6.GP.y[0:n_init]),exact_6.GP.y[n_init:(n_init+iters)]) \n",
        "\n",
        "regret_approx_6 = np.log(-approx_output_6 + y_global_orig)\n",
        "regret_exact_6 = np.log(-exact_output_6 + y_global_orig)\n",
        "\n",
        "simple_regret_approx_6 = min_max_array(regret_approx_6)\n",
        "simple_regret_exact_6 = min_max_array(regret_exact_6)\n",
        "\n",
        "min_simple_regret_approx_6 = min(simple_regret_approx_6)\n",
        "min_simple_regret_exact_6 = min(simple_regret_exact_6)\n",
        "\n",
        "min_simple_regret_approx_6, min_simple_regret_exact_6"
      ],
      "execution_count": 60,
      "outputs": [
        {
          "output_type": "execute_result",
          "data": {
            "text/plain": [
              "(1.9603169141477712, 3.1181943273589443)"
            ]
          },
          "metadata": {},
          "execution_count": 60
        }
      ]
    },
    {
      "cell_type": "code",
      "metadata": {
        "id": "quR2ZyApQxfq",
        "colab": {
          "base_uri": "https://localhost:8080/"
        },
        "outputId": "6b3f05cd-2f38-4c3d-cf36-bc7d523b417b"
      },
      "source": [
        "### Simple regret minimization: run number = 7\n",
        "\n",
        "approx_output_7 = np.append(np.min(approx_7.GP.y[0:n_init]),approx_7.GP.y[n_init:(n_init+iters)]) \n",
        "exact_output_7 = np.append(np.min(exact_7.GP.y[0:n_init]),exact_7.GP.y[n_init:(n_init+iters)]) \n",
        "\n",
        "regret_approx_7 = np.log(-approx_output_7 + y_global_orig)\n",
        "regret_exact_7 = np.log(-exact_output_7 + y_global_orig)\n",
        "\n",
        "simple_regret_approx_7 = min_max_array(regret_approx_7)\n",
        "simple_regret_exact_7 = min_max_array(regret_exact_7)\n",
        "\n",
        "min_simple_regret_approx_7 = min(simple_regret_approx_7)\n",
        "min_simple_regret_exact_7 = min(simple_regret_exact_7)\n",
        "\n",
        "min_simple_regret_approx_7, min_simple_regret_exact_7"
      ],
      "execution_count": 61,
      "outputs": [
        {
          "output_type": "execute_result",
          "data": {
            "text/plain": [
              "(0.12265450853842653, 0.5188931358044525)"
            ]
          },
          "metadata": {},
          "execution_count": 61
        }
      ]
    },
    {
      "cell_type": "code",
      "metadata": {
        "id": "99wY5nK6Qxfr",
        "colab": {
          "base_uri": "https://localhost:8080/"
        },
        "outputId": "6434f0f1-7b0a-49c2-9d20-24e11f27e1b7"
      },
      "source": [
        "### Simple regret minimization: run number = 8\n",
        "\n",
        "approx_output_8 = np.append(np.min(approx_8.GP.y[0:n_init]),approx_8.GP.y[n_init:(n_init+iters)]) \n",
        "exact_output_8 = np.append(np.min(exact_8.GP.y[0:n_init]),exact_8.GP.y[n_init:(n_init+iters)]) \n",
        "\n",
        "regret_approx_8 = np.log(-approx_output_8 + y_global_orig)\n",
        "regret_exact_8 = np.log(-exact_output_8 + y_global_orig)\n",
        "\n",
        "simple_regret_approx_8 = min_max_array(regret_approx_8)\n",
        "simple_regret_exact_8 = min_max_array(regret_exact_8)\n",
        "\n",
        "min_simple_regret_approx_8 = min(simple_regret_approx_8)\n",
        "min_simple_regret_exact_8 = min(simple_regret_exact_8)\n",
        "\n",
        "min_simple_regret_approx_8, min_simple_regret_exact_8"
      ],
      "execution_count": 62,
      "outputs": [
        {
          "output_type": "execute_result",
          "data": {
            "text/plain": [
              "(1.9483860471752636, 1.837462072797613)"
            ]
          },
          "metadata": {},
          "execution_count": 62
        }
      ]
    },
    {
      "cell_type": "code",
      "metadata": {
        "id": "qt0P5t9qQxfs",
        "colab": {
          "base_uri": "https://localhost:8080/"
        },
        "outputId": "c9ea85d9-6279-4537-f00c-70a87b96aceb"
      },
      "source": [
        "### Simple regret minimization: run number = 9\n",
        "\n",
        "approx_output_9 = np.append(np.min(approx_9.GP.y[0:n_init]),approx_9.GP.y[n_init:(n_init+iters)]) \n",
        "exact_output_9 = np.append(np.min(exact_9.GP.y[0:n_init]),exact_9.GP.y[n_init:(n_init+iters)]) \n",
        "\n",
        "regret_approx_9 = np.log(-approx_output_9 + y_global_orig)\n",
        "regret_exact_9 = np.log(-exact_output_9 + y_global_orig)\n",
        "\n",
        "simple_regret_approx_9 = min_max_array(regret_approx_9)\n",
        "simple_regret_exact_9 = min_max_array(regret_exact_9)\n",
        "\n",
        "min_simple_regret_approx_9 = min(simple_regret_approx_9)\n",
        "min_simple_regret_exact_9 = min(simple_regret_exact_9)\n",
        "\n",
        "min_simple_regret_approx_9, min_simple_regret_exact_9"
      ],
      "execution_count": 63,
      "outputs": [
        {
          "output_type": "execute_result",
          "data": {
            "text/plain": [
              "(0.9582577256315655, 1.511643674257682)"
            ]
          },
          "metadata": {},
          "execution_count": 63
        }
      ]
    },
    {
      "cell_type": "code",
      "metadata": {
        "id": "vx8to9stQxft",
        "colab": {
          "base_uri": "https://localhost:8080/"
        },
        "outputId": "961e77d9-1694-4de8-d1b4-7a0dac893737"
      },
      "source": [
        "### Simple regret minimization: run number = 10\n",
        "\n",
        "approx_output_10 = np.append(np.min(approx_10.GP.y[0:n_init]),approx_10.GP.y[n_init:(n_init+iters)]) \n",
        "exact_output_10 = np.append(np.min(exact_10.GP.y[0:n_init]),exact_10.GP.y[n_init:(n_init+iters)]) \n",
        "\n",
        "regret_approx_10 = np.log(-approx_output_10 + y_global_orig)\n",
        "regret_exact_10 = np.log(-exact_output_10 + y_global_orig)\n",
        "\n",
        "simple_regret_approx_10 = min_max_array(regret_approx_10)\n",
        "simple_regret_exact_10 = min_max_array(regret_exact_10)\n",
        "\n",
        "min_simple_regret_approx_10 = min(simple_regret_approx_10)\n",
        "min_simple_regret_exact_10 = min(simple_regret_exact_10)\n",
        "\n",
        "min_simple_regret_approx_10, min_simple_regret_exact_10"
      ],
      "execution_count": 64,
      "outputs": [
        {
          "output_type": "execute_result",
          "data": {
            "text/plain": [
              "(1.526866602142688, 1.526866602142688)"
            ]
          },
          "metadata": {},
          "execution_count": 64
        }
      ]
    },
    {
      "cell_type": "code",
      "metadata": {
        "id": "d-FGzWyHQxfu",
        "colab": {
          "base_uri": "https://localhost:8080/"
        },
        "outputId": "65285017-97e7-4283-f168-f7ed7ab126e1"
      },
      "source": [
        "### Simple regret minimization: run number = 11\n",
        "\n",
        "approx_output_11 = np.append(np.min(approx_11.GP.y[0:n_init]),approx_11.GP.y[n_init:(n_init+iters)]) \n",
        "exact_output_11 = np.append(np.min(exact_11.GP.y[0:n_init]),exact_11.GP.y[n_init:(n_init+iters)]) \n",
        "\n",
        "regret_approx_11 = np.log(-approx_output_11 + y_global_orig)\n",
        "regret_exact_11 = np.log(-exact_output_11 + y_global_orig)\n",
        "\n",
        "simple_regret_approx_11 = min_max_array(regret_approx_11)\n",
        "simple_regret_exact_11 = min_max_array(regret_exact_11)\n",
        "\n",
        "min_simple_regret_approx_11 = min(simple_regret_approx_11)\n",
        "min_simple_regret_exact_11 = min(simple_regret_exact_11)\n",
        "\n",
        "min_simple_regret_approx_11, min_simple_regret_exact_11"
      ],
      "execution_count": 65,
      "outputs": [
        {
          "output_type": "execute_result",
          "data": {
            "text/plain": [
              "(1.3730649820316114, 1.2277163152974135)"
            ]
          },
          "metadata": {},
          "execution_count": 65
        }
      ]
    },
    {
      "cell_type": "code",
      "metadata": {
        "id": "SvtsssyjQxfv",
        "colab": {
          "base_uri": "https://localhost:8080/"
        },
        "outputId": "26cfa578-803b-4dc6-a8cc-31a61425c02d"
      },
      "source": [
        "### Simple regret minimization: run number = 12\n",
        "\n",
        "approx_output_12 = np.append(np.min(approx_12.GP.y[0:n_init]),approx_12.GP.y[n_init:(n_init+iters)]) \n",
        "exact_output_12 = np.append(np.min(exact_12.GP.y[0:n_init]),exact_12.GP.y[n_init:(n_init+iters)]) \n",
        "\n",
        "regret_approx_12 = np.log(-approx_output_12 + y_global_orig)\n",
        "regret_exact_12 = np.log(-exact_output_12 + y_global_orig)\n",
        "\n",
        "simple_regret_approx_12 = min_max_array(regret_approx_12)\n",
        "simple_regret_exact_12 = min_max_array(regret_exact_12)\n",
        "\n",
        "min_simple_regret_approx_12 = min(simple_regret_approx_12)\n",
        "min_simple_regret_exact_12 = min(simple_regret_exact_12)\n",
        "\n",
        "min_simple_regret_approx_12, min_simple_regret_exact_12"
      ],
      "execution_count": 66,
      "outputs": [
        {
          "output_type": "execute_result",
          "data": {
            "text/plain": [
              "(0.847074622750453, 0.8478269052957718)"
            ]
          },
          "metadata": {},
          "execution_count": 66
        }
      ]
    },
    {
      "cell_type": "code",
      "metadata": {
        "id": "K6OiGcHkQxfw",
        "colab": {
          "base_uri": "https://localhost:8080/"
        },
        "outputId": "de5fe0f3-da67-49a8-e111-7519f59986f4"
      },
      "source": [
        "### Simple regret minimization: run number = 13\n",
        "\n",
        "approx_output_13 = np.append(np.min(approx_13.GP.y[0:n_init]),approx_13.GP.y[n_init:(n_init+iters)]) \n",
        "exact_output_13 = np.append(np.min(exact_13.GP.y[0:n_init]),exact_13.GP.y[n_init:(n_init+iters)]) \n",
        "\n",
        "regret_approx_13 = np.log(-approx_output_13 + y_global_orig)\n",
        "regret_exact_13 = np.log(-exact_output_13 + y_global_orig)\n",
        "\n",
        "simple_regret_approx_13 = min_max_array(regret_approx_13)\n",
        "simple_regret_exact_13 = min_max_array(regret_exact_13)\n",
        "\n",
        "min_simple_regret_approx_13 = min(simple_regret_approx_13)\n",
        "min_simple_regret_exact_13 = min(simple_regret_exact_13)\n",
        "\n",
        "min_simple_regret_approx_13, min_simple_regret_exact_13"
      ],
      "execution_count": 67,
      "outputs": [
        {
          "output_type": "execute_result",
          "data": {
            "text/plain": [
              "(1.8089710557222782, 1.3534658342457495)"
            ]
          },
          "metadata": {},
          "execution_count": 67
        }
      ]
    },
    {
      "cell_type": "code",
      "metadata": {
        "id": "ogML73shQxfx",
        "colab": {
          "base_uri": "https://localhost:8080/"
        },
        "outputId": "786001bd-3873-4898-819b-8361db997690"
      },
      "source": [
        "### Simple regret minimization: run number = 14\n",
        "\n",
        "approx_output_14 = np.append(np.min(approx_14.GP.y[0:n_init]),approx_14.GP.y[n_init:(n_init+iters)]) \n",
        "exact_output_14 = np.append(np.min(exact_14.GP.y[0:n_init]),exact_14.GP.y[n_init:(n_init+iters)]) \n",
        "\n",
        "regret_approx_14 = np.log(-approx_output_14 + y_global_orig)\n",
        "regret_exact_14 = np.log(-exact_output_14 + y_global_orig)\n",
        "\n",
        "simple_regret_approx_14 = min_max_array(regret_approx_14)\n",
        "simple_regret_exact_14 = min_max_array(regret_exact_14)\n",
        "\n",
        "min_simple_regret_approx_14 = min(simple_regret_approx_14)\n",
        "min_simple_regret_exact_14 = min(simple_regret_exact_14)\n",
        "\n",
        "min_simple_regret_approx_14, min_simple_regret_exact_14"
      ],
      "execution_count": 68,
      "outputs": [
        {
          "output_type": "execute_result",
          "data": {
            "text/plain": [
              "(1.2951409482340137, 1.7617730263741533)"
            ]
          },
          "metadata": {},
          "execution_count": 68
        }
      ]
    },
    {
      "cell_type": "code",
      "metadata": {
        "id": "9Eg7gFT9Qxfx",
        "colab": {
          "base_uri": "https://localhost:8080/"
        },
        "outputId": "7ff9f9ac-4edc-43d4-8b0d-22822f24a1c4"
      },
      "source": [
        "### Simple regret minimization: run number = 15\n",
        "\n",
        "approx_output_15 = np.append(np.min(approx_15.GP.y[0:n_init]),approx_15.GP.y[n_init:(n_init+iters)]) \n",
        "exact_output_15 = np.append(np.min(exact_15.GP.y[0:n_init]),exact_15.GP.y[n_init:(n_init+iters)]) \n",
        "\n",
        "regret_approx_15 = np.log(-approx_output_15 + y_global_orig)\n",
        "regret_exact_15 = np.log(-exact_output_15 + y_global_orig)\n",
        "\n",
        "simple_regret_approx_15 = min_max_array(regret_approx_15)\n",
        "simple_regret_exact_15 = min_max_array(regret_exact_15)\n",
        "\n",
        "min_simple_regret_approx_15 = min(simple_regret_approx_15)\n",
        "min_simple_regret_exact_15 = min(simple_regret_exact_15)\n",
        "\n",
        "min_simple_regret_approx_15, min_simple_regret_exact_15"
      ],
      "execution_count": 69,
      "outputs": [
        {
          "output_type": "execute_result",
          "data": {
            "text/plain": [
              "(1.0770778098985088, 0.10984092719295163)"
            ]
          },
          "metadata": {},
          "execution_count": 69
        }
      ]
    },
    {
      "cell_type": "code",
      "metadata": {
        "id": "lIAC1U7ZQxfy",
        "colab": {
          "base_uri": "https://localhost:8080/"
        },
        "outputId": "f53a9afc-38d5-4e2d-b461-52713f6c2946"
      },
      "source": [
        "### Simple regret minimization: run number = 16\n",
        "\n",
        "approx_output_16 = np.append(np.min(approx_16.GP.y[0:n_init]),approx_16.GP.y[n_init:(n_init+iters)]) \n",
        "exact_output_16 = np.append(np.min(exact_16.GP.y[0:n_init]),exact_16.GP.y[n_init:(n_init+iters)]) \n",
        "\n",
        "regret_approx_16 = np.log(-approx_output_16 + y_global_orig)\n",
        "regret_exact_16 = np.log(-exact_output_16 + y_global_orig)\n",
        "\n",
        "simple_regret_approx_16 = min_max_array(regret_approx_16)\n",
        "simple_regret_exact_16 = min_max_array(regret_exact_16)\n",
        "\n",
        "min_simple_regret_approx_16 = min(simple_regret_approx_16)\n",
        "min_simple_regret_exact_16 = min(simple_regret_exact_16)\n",
        "\n",
        "min_simple_regret_approx_16, min_simple_regret_exact_16"
      ],
      "execution_count": 70,
      "outputs": [
        {
          "output_type": "execute_result",
          "data": {
            "text/plain": [
              "(0.6894427687554885, 0.9018356921111887)"
            ]
          },
          "metadata": {},
          "execution_count": 70
        }
      ]
    },
    {
      "cell_type": "code",
      "metadata": {
        "id": "bGott36OQxfz",
        "colab": {
          "base_uri": "https://localhost:8080/"
        },
        "outputId": "a1c4719e-8025-4d75-ae56-b1486987745e"
      },
      "source": [
        "### Simple regret minimization: run number = 17\n",
        "\n",
        "approx_output_17 = np.append(np.min(approx_17.GP.y[0:n_init]),approx_17.GP.y[n_init:(n_init+iters)]) \n",
        "exact_output_17 = np.append(np.min(exact_17.GP.y[0:n_init]),exact_17.GP.y[n_init:(n_init+iters)]) \n",
        "\n",
        "regret_approx_17 = np.log(-approx_output_17 + y_global_orig)\n",
        "regret_exact_17 = np.log(-exact_output_17 + y_global_orig)\n",
        "\n",
        "simple_regret_approx_17 = min_max_array(regret_approx_17)\n",
        "simple_regret_exact_17 = min_max_array(regret_exact_17)\n",
        "\n",
        "min_simple_regret_approx_17 = min(simple_regret_approx_17)\n",
        "min_simple_regret_exact_17 = min(simple_regret_exact_17)\n",
        "\n",
        "min_simple_regret_approx_17, min_simple_regret_exact_17"
      ],
      "execution_count": 71,
      "outputs": [
        {
          "output_type": "execute_result",
          "data": {
            "text/plain": [
              "(-0.33673882378405284, 0.49690909165605257)"
            ]
          },
          "metadata": {},
          "execution_count": 71
        }
      ]
    },
    {
      "cell_type": "code",
      "metadata": {
        "id": "Cz9ZYMBMQxfz",
        "colab": {
          "base_uri": "https://localhost:8080/"
        },
        "outputId": "0da37927-881d-4171-91af-615e406fc499"
      },
      "source": [
        "### Simple regret minimization: run number = 18\n",
        "\n",
        "approx_output_18 = np.append(np.min(approx_18.GP.y[0:n_init]),approx_18.GP.y[n_init:(n_init+iters)]) \n",
        "exact_output_18 = np.append(np.min(exact_18.GP.y[0:n_init]),exact_18.GP.y[n_init:(n_init+iters)]) \n",
        "\n",
        "regret_approx_18 = np.log(-approx_output_18 + y_global_orig)\n",
        "regret_exact_18 = np.log(-exact_output_18 + y_global_orig)\n",
        "\n",
        "simple_regret_approx_18 = min_max_array(regret_approx_18)\n",
        "simple_regret_exact_18 = min_max_array(regret_exact_18)\n",
        "\n",
        "min_simple_regret_approx_18 = min(simple_regret_approx_18)\n",
        "min_simple_regret_exact_18 = min(simple_regret_exact_18)\n",
        "\n",
        "min_simple_regret_approx_18, min_simple_regret_exact_18"
      ],
      "execution_count": 72,
      "outputs": [
        {
          "output_type": "execute_result",
          "data": {
            "text/plain": [
              "(0.2510990271252799, 2.2762260408450268)"
            ]
          },
          "metadata": {},
          "execution_count": 72
        }
      ]
    },
    {
      "cell_type": "code",
      "metadata": {
        "id": "OBfpWOHNQxf0",
        "colab": {
          "base_uri": "https://localhost:8080/"
        },
        "outputId": "0b705e97-bc20-487b-bf0f-c2833e90b704"
      },
      "source": [
        "### Simple regret minimization: run number = 19\n",
        "\n",
        "approx_output_19 = np.append(np.min(approx_19.GP.y[0:n_init]),approx_19.GP.y[n_init:(n_init+iters)]) \n",
        "exact_output_19 = np.append(np.min(exact_19.GP.y[0:n_init]),exact_19.GP.y[n_init:(n_init+iters)]) \n",
        "\n",
        "regret_approx_19 = np.log(-approx_output_19 + y_global_orig)\n",
        "regret_exact_19 = np.log(-exact_output_19 + y_global_orig)\n",
        "\n",
        "simple_regret_approx_19 = min_max_array(regret_approx_19)\n",
        "simple_regret_exact_19 = min_max_array(regret_exact_19)\n",
        "\n",
        "min_simple_regret_approx_19 = min(simple_regret_approx_19)\n",
        "min_simple_regret_exact_19 = min(simple_regret_exact_19)\n",
        "\n",
        "min_simple_regret_approx_19, min_simple_regret_exact_19"
      ],
      "execution_count": 73,
      "outputs": [
        {
          "output_type": "execute_result",
          "data": {
            "text/plain": [
              "(2.3584308701648973, 1.2352716460732684)"
            ]
          },
          "metadata": {},
          "execution_count": 73
        }
      ]
    },
    {
      "cell_type": "code",
      "metadata": {
        "id": "BE1AJ7NsQxf0",
        "colab": {
          "base_uri": "https://localhost:8080/"
        },
        "outputId": "9d3bf0ae-571f-4584-b49e-2796a5ffa2f9"
      },
      "source": [
        "### Simple regret minimization: run number = 20\n",
        "\n",
        "approx_output_20 = np.append(np.min(approx_20.GP.y[0:n_init]),approx_20.GP.y[n_init:(n_init+iters)]) \n",
        "exact_output_20 = np.append(np.min(exact_20.GP.y[0:n_init]),exact_20.GP.y[n_init:(n_init+iters)]) \n",
        "\n",
        "regret_approx_20 = np.log(-approx_output_20 + y_global_orig)\n",
        "regret_exact_20 = np.log(-exact_output_20 + y_global_orig)\n",
        "\n",
        "simple_regret_approx_20 = min_max_array(regret_approx_20)\n",
        "simple_regret_exact_20 = min_max_array(regret_exact_20)\n",
        "\n",
        "min_simple_regret_approx_20 = min(simple_regret_approx_20)\n",
        "min_simple_regret_exact_20 = min(simple_regret_exact_20)\n",
        "\n",
        "min_simple_regret_approx_20, min_simple_regret_exact_20"
      ],
      "execution_count": 74,
      "outputs": [
        {
          "output_type": "execute_result",
          "data": {
            "text/plain": [
              "(2.4721249330632906, 1.2807066736644666)"
            ]
          },
          "metadata": {},
          "execution_count": 74
        }
      ]
    },
    {
      "cell_type": "code",
      "metadata": {
        "id": "bpX-bKAHQxf1"
      },
      "source": [
        "# Iteration1 :\n",
        "\n",
        "slice1 = 0\n",
        "\n",
        "approx1 = [simple_regret_approx_1[slice1],\n",
        "       simple_regret_approx_2[slice1],\n",
        "       simple_regret_approx_3[slice1],\n",
        "       simple_regret_approx_4[slice1],\n",
        "       simple_regret_approx_5[slice1],\n",
        "       simple_regret_approx_6[slice1],\n",
        "       simple_regret_approx_7[slice1],\n",
        "       simple_regret_approx_8[slice1],\n",
        "       simple_regret_approx_9[slice1],\n",
        "       simple_regret_approx_10[slice1],\n",
        "       simple_regret_approx_11[slice1],\n",
        "       simple_regret_approx_12[slice1],\n",
        "       simple_regret_approx_13[slice1],\n",
        "       simple_regret_approx_14[slice1],\n",
        "       simple_regret_approx_15[slice1],\n",
        "       simple_regret_approx_16[slice1],\n",
        "       simple_regret_approx_17[slice1],\n",
        "       simple_regret_approx_18[slice1],\n",
        "       simple_regret_approx_19[slice1],\n",
        "       simple_regret_approx_20[slice1]]\n",
        "\n",
        "exact1 = [simple_regret_exact_1[slice1],\n",
        "       simple_regret_exact_2[slice1],\n",
        "       simple_regret_exact_3[slice1],\n",
        "       simple_regret_exact_4[slice1],\n",
        "       simple_regret_exact_5[slice1],\n",
        "       simple_regret_exact_6[slice1],\n",
        "       simple_regret_exact_7[slice1],\n",
        "       simple_regret_exact_8[slice1],\n",
        "       simple_regret_exact_9[slice1],\n",
        "       simple_regret_exact_10[slice1],\n",
        "       simple_regret_exact_11[slice1],\n",
        "       simple_regret_exact_12[slice1],\n",
        "       simple_regret_exact_13[slice1],\n",
        "       simple_regret_exact_14[slice1],\n",
        "       simple_regret_exact_15[slice1],\n",
        "       simple_regret_exact_16[slice1],\n",
        "       simple_regret_exact_17[slice1],\n",
        "       simple_regret_exact_18[slice1],\n",
        "       simple_regret_exact_19[slice1],\n",
        "       simple_regret_exact_20[slice1]]\n",
        "\n",
        "approx1_results = pd.DataFrame(approx1).sort_values(by=[0], ascending=False)\n",
        "exact1_results = pd.DataFrame(exact1).sort_values(by=[0], ascending=False)\n",
        "\n",
        "### Best simple regret minimization IQR - approx:\n",
        "lower_approx1 = np.asarray(approx1_results[4:5][0])[0]\n",
        "median_approx1 = np.asarray(approx1_results[9:10][0])[0]\n",
        "upper_approx1 = np.asarray(approx1_results[14:15][0])[0]\n",
        "\n",
        "lower_exact1 = np.asarray(exact1_results[4:5][0])[0]\n",
        "median_exact1 = np.asarray(exact1_results[9:10][0])[0]\n",
        "upper_exact1 = np.asarray(exact1_results[14:15][0])[0]"
      ],
      "execution_count": 75,
      "outputs": []
    },
    {
      "cell_type": "code",
      "metadata": {
        "id": "CgIkJA1xQxf2"
      },
      "source": [
        "# Iteration11 :\n",
        "\n",
        "slice11 = 10\n",
        "\n",
        "approx11 = [simple_regret_approx_1[slice11],\n",
        "       simple_regret_approx_2[slice11],\n",
        "       simple_regret_approx_3[slice11],\n",
        "       simple_regret_approx_4[slice11],\n",
        "       simple_regret_approx_5[slice11],\n",
        "       simple_regret_approx_6[slice11],\n",
        "       simple_regret_approx_7[slice11],\n",
        "       simple_regret_approx_8[slice11],\n",
        "       simple_regret_approx_9[slice11],\n",
        "       simple_regret_approx_10[slice11],\n",
        "       simple_regret_approx_11[slice11],\n",
        "       simple_regret_approx_12[slice11],\n",
        "       simple_regret_approx_13[slice11],\n",
        "       simple_regret_approx_14[slice11],\n",
        "       simple_regret_approx_15[slice11],\n",
        "       simple_regret_approx_16[slice11],\n",
        "       simple_regret_approx_17[slice11],\n",
        "       simple_regret_approx_18[slice11],\n",
        "       simple_regret_approx_19[slice11],\n",
        "       simple_regret_approx_20[slice11]]\n",
        "\n",
        "exact11 = [simple_regret_exact_1[slice11],\n",
        "       simple_regret_exact_2[slice11],\n",
        "       simple_regret_exact_3[slice11],\n",
        "       simple_regret_exact_4[slice11],\n",
        "       simple_regret_exact_5[slice11],\n",
        "       simple_regret_exact_6[slice11],\n",
        "       simple_regret_exact_7[slice11],\n",
        "       simple_regret_exact_8[slice11],\n",
        "       simple_regret_exact_9[slice11],\n",
        "       simple_regret_exact_10[slice11],\n",
        "       simple_regret_exact_11[slice11],\n",
        "       simple_regret_exact_12[slice11],\n",
        "       simple_regret_exact_13[slice11],\n",
        "       simple_regret_exact_14[slice11],\n",
        "       simple_regret_exact_15[slice11],\n",
        "       simple_regret_exact_16[slice11],\n",
        "       simple_regret_exact_17[slice11],\n",
        "       simple_regret_exact_18[slice11],\n",
        "       simple_regret_exact_19[slice11],\n",
        "       simple_regret_exact_20[slice11]]\n",
        "\n",
        "approx11_results = pd.DataFrame(approx11).sort_values(by=[0], ascending=False)\n",
        "exact11_results = pd.DataFrame(exact11).sort_values(by=[0], ascending=False)\n",
        "\n",
        "### Best simple regret minimization IQR - approx:\n",
        "lower_approx11 = np.asarray(approx11_results[4:5][0])[0]\n",
        "median_approx11 = np.asarray(approx11_results[9:10][0])[0]\n",
        "upper_approx11 = np.asarray(approx11_results[14:15][0])[0]\n",
        "\n",
        "lower_exact11 = np.asarray(exact11_results[4:5][0])[0]\n",
        "median_exact11 = np.asarray(exact11_results[9:10][0])[0]\n",
        "upper_exact11 = np.asarray(exact11_results[14:15][0])[0]"
      ],
      "execution_count": 76,
      "outputs": []
    },
    {
      "cell_type": "code",
      "metadata": {
        "id": "MFePDfGuQxf2"
      },
      "source": [
        "# Iteration21 :\n",
        "\n",
        "slice21 = 20\n",
        "\n",
        "approx21 = [simple_regret_approx_1[slice21],\n",
        "       simple_regret_approx_2[slice21],\n",
        "       simple_regret_approx_3[slice21],\n",
        "       simple_regret_approx_4[slice21],\n",
        "       simple_regret_approx_5[slice21],\n",
        "       simple_regret_approx_6[slice21],\n",
        "       simple_regret_approx_7[slice21],\n",
        "       simple_regret_approx_8[slice21],\n",
        "       simple_regret_approx_9[slice21],\n",
        "       simple_regret_approx_10[slice21],\n",
        "       simple_regret_approx_11[slice21],\n",
        "       simple_regret_approx_12[slice21],\n",
        "       simple_regret_approx_13[slice21],\n",
        "       simple_regret_approx_14[slice21],\n",
        "       simple_regret_approx_15[slice21],\n",
        "       simple_regret_approx_16[slice21],\n",
        "       simple_regret_approx_17[slice21],\n",
        "       simple_regret_approx_18[slice21],\n",
        "       simple_regret_approx_19[slice21],\n",
        "       simple_regret_approx_20[slice21]]\n",
        "\n",
        "exact21 = [simple_regret_exact_1[slice21],\n",
        "       simple_regret_exact_2[slice21],\n",
        "       simple_regret_exact_3[slice21],\n",
        "       simple_regret_exact_4[slice21],\n",
        "       simple_regret_exact_5[slice21],\n",
        "       simple_regret_exact_6[slice21],\n",
        "       simple_regret_exact_7[slice21],\n",
        "       simple_regret_exact_8[slice21],\n",
        "       simple_regret_exact_9[slice21],\n",
        "       simple_regret_exact_10[slice21],\n",
        "       simple_regret_exact_11[slice21],\n",
        "       simple_regret_exact_12[slice21],\n",
        "       simple_regret_exact_13[slice21],\n",
        "       simple_regret_exact_14[slice21],\n",
        "       simple_regret_exact_15[slice21],\n",
        "       simple_regret_exact_16[slice21],\n",
        "       simple_regret_exact_17[slice21],\n",
        "       simple_regret_exact_18[slice21],\n",
        "       simple_regret_exact_19[slice21],\n",
        "       simple_regret_exact_20[slice21]]\n",
        "\n",
        "approx21_results = pd.DataFrame(approx21).sort_values(by=[0], ascending=False)\n",
        "exact21_results = pd.DataFrame(exact21).sort_values(by=[0], ascending=False)\n",
        "\n",
        "### Best simple regret minimization IQR - approx:\n",
        "lower_approx21 = np.asarray(approx21_results[4:5][0])[0]\n",
        "median_approx21 = np.asarray(approx21_results[9:10][0])[0]\n",
        "upper_approx21 = np.asarray(approx21_results[14:15][0])[0]\n",
        "\n",
        "lower_exact21 = np.asarray(exact21_results[4:5][0])[0]\n",
        "median_exact21 = np.asarray(exact21_results[9:10][0])[0]\n",
        "upper_exact21 = np.asarray(exact21_results[14:15][0])[0]"
      ],
      "execution_count": 77,
      "outputs": []
    },
    {
      "cell_type": "code",
      "metadata": {
        "id": "PrRDB1kfQxf3"
      },
      "source": [
        "# Iteration2 :\n",
        "\n",
        "slice2 = 1\n",
        "\n",
        "approx2 = [simple_regret_approx_1[slice2],\n",
        "       simple_regret_approx_2[slice2],\n",
        "       simple_regret_approx_3[slice2],\n",
        "       simple_regret_approx_4[slice2],\n",
        "       simple_regret_approx_5[slice2],\n",
        "       simple_regret_approx_6[slice2],\n",
        "       simple_regret_approx_7[slice2],\n",
        "       simple_regret_approx_8[slice2],\n",
        "       simple_regret_approx_9[slice2],\n",
        "       simple_regret_approx_10[slice2],\n",
        "       simple_regret_approx_11[slice2],\n",
        "       simple_regret_approx_12[slice2],\n",
        "       simple_regret_approx_13[slice2],\n",
        "       simple_regret_approx_14[slice2],\n",
        "       simple_regret_approx_15[slice2],\n",
        "       simple_regret_approx_16[slice2],\n",
        "       simple_regret_approx_17[slice2],\n",
        "       simple_regret_approx_18[slice2],\n",
        "       simple_regret_approx_19[slice2],\n",
        "       simple_regret_approx_20[slice2]]\n",
        "\n",
        "exact2 = [simple_regret_exact_1[slice2],\n",
        "       simple_regret_exact_2[slice2],\n",
        "       simple_regret_exact_3[slice2],\n",
        "       simple_regret_exact_4[slice2],\n",
        "       simple_regret_exact_5[slice2],\n",
        "       simple_regret_exact_6[slice2],\n",
        "       simple_regret_exact_7[slice2],\n",
        "       simple_regret_exact_8[slice2],\n",
        "       simple_regret_exact_9[slice2],\n",
        "       simple_regret_exact_10[slice2],\n",
        "       simple_regret_exact_11[slice2],\n",
        "       simple_regret_exact_12[slice2],\n",
        "       simple_regret_exact_13[slice2],\n",
        "       simple_regret_exact_14[slice2],\n",
        "       simple_regret_exact_15[slice2],\n",
        "       simple_regret_exact_16[slice2],\n",
        "       simple_regret_exact_17[slice2],\n",
        "       simple_regret_exact_18[slice2],\n",
        "       simple_regret_exact_19[slice2],\n",
        "       simple_regret_exact_20[slice2]]\n",
        "\n",
        "approx2_results = pd.DataFrame(approx2).sort_values(by=[0], ascending=False)\n",
        "exact2_results = pd.DataFrame(exact2).sort_values(by=[0], ascending=False)\n",
        "\n",
        "### Best simple regret minimization IQR - approx:\n",
        "lower_approx2 = np.asarray(approx2_results[4:5][0])[0]\n",
        "median_approx2 = np.asarray(approx2_results[9:10][0])[0]\n",
        "upper_approx2 = np.asarray(approx2_results[14:15][0])[0]\n",
        "\n",
        "lower_exact2 = np.asarray(exact2_results[4:5][0])[0]\n",
        "median_exact2 = np.asarray(exact2_results[9:10][0])[0]\n",
        "upper_exact2 = np.asarray(exact2_results[14:15][0])[0]"
      ],
      "execution_count": 78,
      "outputs": []
    },
    {
      "cell_type": "code",
      "metadata": {
        "id": "B8ncJDYeQxf3"
      },
      "source": [
        "# Iteration12 :\n",
        "\n",
        "slice12 = 11\n",
        "\n",
        "approx12 = [simple_regret_approx_1[slice12],\n",
        "       simple_regret_approx_2[slice12],\n",
        "       simple_regret_approx_3[slice12],\n",
        "       simple_regret_approx_4[slice12],\n",
        "       simple_regret_approx_5[slice12],\n",
        "       simple_regret_approx_6[slice12],\n",
        "       simple_regret_approx_7[slice12],\n",
        "       simple_regret_approx_8[slice12],\n",
        "       simple_regret_approx_9[slice12],\n",
        "       simple_regret_approx_10[slice12],\n",
        "       simple_regret_approx_11[slice12],\n",
        "       simple_regret_approx_12[slice12],\n",
        "       simple_regret_approx_13[slice12],\n",
        "       simple_regret_approx_14[slice12],\n",
        "       simple_regret_approx_15[slice12],\n",
        "       simple_regret_approx_16[slice12],\n",
        "       simple_regret_approx_17[slice12],\n",
        "       simple_regret_approx_18[slice12],\n",
        "       simple_regret_approx_19[slice12],\n",
        "       simple_regret_approx_20[slice12]]\n",
        "\n",
        "exact12 = [simple_regret_exact_1[slice12],\n",
        "       simple_regret_exact_2[slice12],\n",
        "       simple_regret_exact_3[slice12],\n",
        "       simple_regret_exact_4[slice12],\n",
        "       simple_regret_exact_5[slice12],\n",
        "       simple_regret_exact_6[slice12],\n",
        "       simple_regret_exact_7[slice12],\n",
        "       simple_regret_exact_8[slice12],\n",
        "       simple_regret_exact_9[slice12],\n",
        "       simple_regret_exact_10[slice12],\n",
        "       simple_regret_exact_11[slice12],\n",
        "       simple_regret_exact_12[slice12],\n",
        "       simple_regret_exact_13[slice12],\n",
        "       simple_regret_exact_14[slice12],\n",
        "       simple_regret_exact_15[slice12],\n",
        "       simple_regret_exact_16[slice12],\n",
        "       simple_regret_exact_17[slice12],\n",
        "       simple_regret_exact_18[slice12],\n",
        "       simple_regret_exact_19[slice12],\n",
        "       simple_regret_exact_20[slice12]]\n",
        "\n",
        "approx12_results = pd.DataFrame(approx12).sort_values(by=[0], ascending=False)\n",
        "exact12_results = pd.DataFrame(exact12).sort_values(by=[0], ascending=False)\n",
        "\n",
        "### Best simple regret minimization IQR - approx:\n",
        "lower_approx12 = np.asarray(approx12_results[4:5][0])[0]\n",
        "median_approx12 = np.asarray(approx12_results[9:10][0])[0]\n",
        "upper_approx12 = np.asarray(approx12_results[14:15][0])[0]\n",
        "\n",
        "lower_exact12 = np.asarray(exact12_results[4:5][0])[0]\n",
        "median_exact12 = np.asarray(exact12_results[9:10][0])[0]\n",
        "upper_exact12 = np.asarray(exact12_results[14:15][0])[0]"
      ],
      "execution_count": 79,
      "outputs": []
    },
    {
      "cell_type": "code",
      "metadata": {
        "id": "Jn4KpGvcQxf4"
      },
      "source": [
        "# Iteration3 :\n",
        "\n",
        "slice3 = 2\n",
        "\n",
        "approx3 = [simple_regret_approx_1[slice3],\n",
        "       simple_regret_approx_2[slice3],\n",
        "       simple_regret_approx_3[slice3],\n",
        "       simple_regret_approx_4[slice3],\n",
        "       simple_regret_approx_5[slice3],\n",
        "       simple_regret_approx_6[slice3],\n",
        "       simple_regret_approx_7[slice3],\n",
        "       simple_regret_approx_8[slice3],\n",
        "       simple_regret_approx_9[slice3],\n",
        "       simple_regret_approx_10[slice3],\n",
        "       simple_regret_approx_11[slice3],\n",
        "       simple_regret_approx_12[slice3],\n",
        "       simple_regret_approx_13[slice3],\n",
        "       simple_regret_approx_14[slice3],\n",
        "       simple_regret_approx_15[slice3],\n",
        "       simple_regret_approx_16[slice3],\n",
        "       simple_regret_approx_17[slice3],\n",
        "       simple_regret_approx_18[slice3],\n",
        "       simple_regret_approx_19[slice3],\n",
        "       simple_regret_approx_20[slice3]]\n",
        "\n",
        "exact3 = [simple_regret_exact_1[slice3],\n",
        "       simple_regret_exact_2[slice3],\n",
        "       simple_regret_exact_3[slice3],\n",
        "       simple_regret_exact_4[slice3],\n",
        "       simple_regret_exact_5[slice3],\n",
        "       simple_regret_exact_6[slice3],\n",
        "       simple_regret_exact_7[slice3],\n",
        "       simple_regret_exact_8[slice3],\n",
        "       simple_regret_exact_9[slice3],\n",
        "       simple_regret_exact_10[slice3],\n",
        "       simple_regret_exact_11[slice3],\n",
        "       simple_regret_exact_12[slice3],\n",
        "       simple_regret_exact_13[slice3],\n",
        "       simple_regret_exact_14[slice3],\n",
        "       simple_regret_exact_15[slice3],\n",
        "       simple_regret_exact_16[slice3],\n",
        "       simple_regret_exact_17[slice3],\n",
        "       simple_regret_exact_18[slice3],\n",
        "       simple_regret_exact_19[slice3],\n",
        "       simple_regret_exact_20[slice3]]\n",
        "\n",
        "approx3_results = pd.DataFrame(approx3).sort_values(by=[0], ascending=False)\n",
        "exact3_results = pd.DataFrame(exact3).sort_values(by=[0], ascending=False)\n",
        "\n",
        "### Best simple regret minimization IQR - approx:\n",
        "lower_approx3 = np.asarray(approx3_results[4:5][0])[0]\n",
        "median_approx3 = np.asarray(approx3_results[9:10][0])[0]\n",
        "upper_approx3 = np.asarray(approx3_results[14:15][0])[0]\n",
        "\n",
        "lower_exact3 = np.asarray(exact3_results[4:5][0])[0]\n",
        "median_exact3 = np.asarray(exact3_results[9:10][0])[0]\n",
        "upper_exact3 = np.asarray(exact3_results[14:15][0])[0]"
      ],
      "execution_count": 80,
      "outputs": []
    },
    {
      "cell_type": "code",
      "metadata": {
        "id": "plf83wxrQxf4"
      },
      "source": [
        "# Iteration13 :\n",
        "\n",
        "slice13 = 12\n",
        "\n",
        "approx13 = [simple_regret_approx_1[slice13],\n",
        "       simple_regret_approx_2[slice13],\n",
        "       simple_regret_approx_3[slice13],\n",
        "       simple_regret_approx_4[slice13],\n",
        "       simple_regret_approx_5[slice13],\n",
        "       simple_regret_approx_6[slice13],\n",
        "       simple_regret_approx_7[slice13],\n",
        "       simple_regret_approx_8[slice13],\n",
        "       simple_regret_approx_9[slice13],\n",
        "       simple_regret_approx_10[slice13],\n",
        "       simple_regret_approx_11[slice13],\n",
        "       simple_regret_approx_12[slice13],\n",
        "       simple_regret_approx_13[slice13],\n",
        "       simple_regret_approx_14[slice13],\n",
        "       simple_regret_approx_15[slice13],\n",
        "       simple_regret_approx_16[slice13],\n",
        "       simple_regret_approx_17[slice13],\n",
        "       simple_regret_approx_18[slice13],\n",
        "       simple_regret_approx_19[slice13],\n",
        "       simple_regret_approx_20[slice13]]\n",
        "\n",
        "exact13 = [simple_regret_exact_1[slice13],\n",
        "       simple_regret_exact_2[slice13],\n",
        "       simple_regret_exact_3[slice13],\n",
        "       simple_regret_exact_4[slice13],\n",
        "       simple_regret_exact_5[slice13],\n",
        "       simple_regret_exact_6[slice13],\n",
        "       simple_regret_exact_7[slice13],\n",
        "       simple_regret_exact_8[slice13],\n",
        "       simple_regret_exact_9[slice13],\n",
        "       simple_regret_exact_10[slice13],\n",
        "       simple_regret_exact_11[slice13],\n",
        "       simple_regret_exact_12[slice13],\n",
        "       simple_regret_exact_13[slice13],\n",
        "       simple_regret_exact_14[slice13],\n",
        "       simple_regret_exact_15[slice13],\n",
        "       simple_regret_exact_16[slice13],\n",
        "       simple_regret_exact_17[slice13],\n",
        "       simple_regret_exact_18[slice13],\n",
        "       simple_regret_exact_19[slice13],\n",
        "       simple_regret_exact_20[slice13]]\n",
        "\n",
        "approx13_results = pd.DataFrame(approx13).sort_values(by=[0], ascending=False)\n",
        "exact13_results = pd.DataFrame(exact13).sort_values(by=[0], ascending=False)\n",
        "\n",
        "### Best simple regret minimization IQR - approx:\n",
        "lower_approx13 = np.asarray(approx13_results[4:5][0])[0]\n",
        "median_approx13 = np.asarray(approx13_results[9:10][0])[0]\n",
        "upper_approx13 = np.asarray(approx13_results[14:15][0])[0]\n",
        "\n",
        "lower_exact13 = np.asarray(exact13_results[4:5][0])[0]\n",
        "median_exact13 = np.asarray(exact13_results[9:10][0])[0]\n",
        "upper_exact13 = np.asarray(exact13_results[14:15][0])[0]"
      ],
      "execution_count": 81,
      "outputs": []
    },
    {
      "cell_type": "code",
      "metadata": {
        "id": "9A7mlVvJQxf5"
      },
      "source": [
        "# Iteration4 :\n",
        "\n",
        "slice4 = 3\n",
        "\n",
        "approx4 = [simple_regret_approx_1[slice4],\n",
        "       simple_regret_approx_2[slice4],\n",
        "       simple_regret_approx_3[slice4],\n",
        "       simple_regret_approx_4[slice4],\n",
        "       simple_regret_approx_5[slice4],\n",
        "       simple_regret_approx_6[slice4],\n",
        "       simple_regret_approx_7[slice4],\n",
        "       simple_regret_approx_8[slice4],\n",
        "       simple_regret_approx_9[slice4],\n",
        "       simple_regret_approx_10[slice4],\n",
        "       simple_regret_approx_11[slice4],\n",
        "       simple_regret_approx_12[slice4],\n",
        "       simple_regret_approx_13[slice4],\n",
        "       simple_regret_approx_14[slice4],\n",
        "       simple_regret_approx_15[slice4],\n",
        "       simple_regret_approx_16[slice4],\n",
        "       simple_regret_approx_17[slice4],\n",
        "       simple_regret_approx_18[slice4],\n",
        "       simple_regret_approx_19[slice4],\n",
        "       simple_regret_approx_20[slice4]]\n",
        "\n",
        "exact4 = [simple_regret_exact_1[slice4],\n",
        "       simple_regret_exact_2[slice4],\n",
        "       simple_regret_exact_3[slice4],\n",
        "       simple_regret_exact_4[slice4],\n",
        "       simple_regret_exact_5[slice4],\n",
        "       simple_regret_exact_6[slice4],\n",
        "       simple_regret_exact_7[slice4],\n",
        "       simple_regret_exact_8[slice4],\n",
        "       simple_regret_exact_9[slice4],\n",
        "       simple_regret_exact_10[slice4],\n",
        "       simple_regret_exact_11[slice4],\n",
        "       simple_regret_exact_12[slice4],\n",
        "       simple_regret_exact_13[slice4],\n",
        "       simple_regret_exact_14[slice4],\n",
        "       simple_regret_exact_15[slice4],\n",
        "       simple_regret_exact_16[slice4],\n",
        "       simple_regret_exact_17[slice4],\n",
        "       simple_regret_exact_18[slice4],\n",
        "       simple_regret_exact_19[slice4],\n",
        "       simple_regret_exact_20[slice4]]\n",
        "\n",
        "approx4_results = pd.DataFrame(approx4).sort_values(by=[0], ascending=False)\n",
        "exact4_results = pd.DataFrame(exact4).sort_values(by=[0], ascending=False)\n",
        "\n",
        "### Best simple regret minimization IQR - approx:\n",
        "lower_approx4 = np.asarray(approx4_results[4:5][0])[0]\n",
        "median_approx4 = np.asarray(approx4_results[9:10][0])[0]\n",
        "upper_approx4 = np.asarray(approx4_results[14:15][0])[0]\n",
        "\n",
        "lower_exact4 = np.asarray(exact4_results[4:5][0])[0]\n",
        "median_exact4 = np.asarray(exact4_results[9:10][0])[0]\n",
        "upper_exact4 = np.asarray(exact4_results[14:15][0])[0]"
      ],
      "execution_count": 82,
      "outputs": []
    },
    {
      "cell_type": "code",
      "metadata": {
        "id": "ijq-rioYQxf5"
      },
      "source": [
        "# Iteration14 :\n",
        "\n",
        "slice14 = 13\n",
        "\n",
        "approx14 = [simple_regret_approx_1[slice14],\n",
        "       simple_regret_approx_2[slice14],\n",
        "       simple_regret_approx_3[slice14],\n",
        "       simple_regret_approx_4[slice14],\n",
        "       simple_regret_approx_5[slice14],\n",
        "       simple_regret_approx_6[slice14],\n",
        "       simple_regret_approx_7[slice14],\n",
        "       simple_regret_approx_8[slice14],\n",
        "       simple_regret_approx_9[slice14],\n",
        "       simple_regret_approx_10[slice14],\n",
        "       simple_regret_approx_11[slice14],\n",
        "       simple_regret_approx_12[slice14],\n",
        "       simple_regret_approx_13[slice14],\n",
        "       simple_regret_approx_14[slice14],\n",
        "       simple_regret_approx_15[slice14],\n",
        "       simple_regret_approx_16[slice14],\n",
        "       simple_regret_approx_17[slice14],\n",
        "       simple_regret_approx_18[slice14],\n",
        "       simple_regret_approx_19[slice14],\n",
        "       simple_regret_approx_20[slice14]]\n",
        "\n",
        "exact14 = [simple_regret_exact_1[slice14],\n",
        "       simple_regret_exact_2[slice14],\n",
        "       simple_regret_exact_3[slice14],\n",
        "       simple_regret_exact_4[slice14],\n",
        "       simple_regret_exact_5[slice14],\n",
        "       simple_regret_exact_6[slice14],\n",
        "       simple_regret_exact_7[slice14],\n",
        "       simple_regret_exact_8[slice14],\n",
        "       simple_regret_exact_9[slice14],\n",
        "       simple_regret_exact_10[slice14],\n",
        "       simple_regret_exact_11[slice14],\n",
        "       simple_regret_exact_12[slice14],\n",
        "       simple_regret_exact_13[slice14],\n",
        "       simple_regret_exact_14[slice14],\n",
        "       simple_regret_exact_15[slice14],\n",
        "       simple_regret_exact_16[slice14],\n",
        "       simple_regret_exact_17[slice14],\n",
        "       simple_regret_exact_18[slice14],\n",
        "       simple_regret_exact_19[slice14],\n",
        "       simple_regret_exact_20[slice14]]\n",
        "\n",
        "approx14_results = pd.DataFrame(approx14).sort_values(by=[0], ascending=False)\n",
        "exact14_results = pd.DataFrame(exact14).sort_values(by=[0], ascending=False)\n",
        "\n",
        "### Best simple regret minimization IQR - approx:\n",
        "lower_approx14 = np.asarray(approx14_results[4:5][0])[0]\n",
        "median_approx14 = np.asarray(approx14_results[9:10][0])[0]\n",
        "upper_approx14 = np.asarray(approx14_results[14:15][0])[0]\n",
        "\n",
        "lower_exact14 = np.asarray(exact14_results[4:5][0])[0]\n",
        "median_exact14 = np.asarray(exact14_results[9:10][0])[0]\n",
        "upper_exact14 = np.asarray(exact14_results[14:15][0])[0]"
      ],
      "execution_count": 83,
      "outputs": []
    },
    {
      "cell_type": "code",
      "metadata": {
        "id": "XINlZjoTd-ZK"
      },
      "source": [
        "# Iteration5 :\n",
        "\n",
        "slice5 = 4\n",
        "\n",
        "approx5 = [simple_regret_approx_1[slice5],\n",
        "       simple_regret_approx_2[slice5],\n",
        "       simple_regret_approx_3[slice5],\n",
        "       simple_regret_approx_4[slice5],\n",
        "       simple_regret_approx_5[slice5],\n",
        "       simple_regret_approx_6[slice5],\n",
        "       simple_regret_approx_7[slice5],\n",
        "       simple_regret_approx_8[slice5],\n",
        "       simple_regret_approx_9[slice5],\n",
        "       simple_regret_approx_10[slice5],\n",
        "       simple_regret_approx_11[slice5],\n",
        "       simple_regret_approx_12[slice5],\n",
        "       simple_regret_approx_13[slice5],\n",
        "       simple_regret_approx_14[slice5],\n",
        "       simple_regret_approx_15[slice5],\n",
        "       simple_regret_approx_16[slice5],\n",
        "       simple_regret_approx_17[slice5],\n",
        "       simple_regret_approx_18[slice5],\n",
        "       simple_regret_approx_19[slice5],\n",
        "       simple_regret_approx_20[slice5]]\n",
        "\n",
        "exact5 = [simple_regret_exact_1[slice5],\n",
        "       simple_regret_exact_2[slice5],\n",
        "       simple_regret_exact_3[slice5],\n",
        "       simple_regret_exact_4[slice5],\n",
        "       simple_regret_exact_5[slice5],\n",
        "       simple_regret_exact_6[slice5],\n",
        "       simple_regret_exact_7[slice5],\n",
        "       simple_regret_exact_8[slice5],\n",
        "       simple_regret_exact_9[slice5],\n",
        "       simple_regret_exact_10[slice5],\n",
        "       simple_regret_exact_11[slice5],\n",
        "       simple_regret_exact_12[slice5],\n",
        "       simple_regret_exact_13[slice5],\n",
        "       simple_regret_exact_14[slice5],\n",
        "       simple_regret_exact_15[slice5],\n",
        "       simple_regret_exact_16[slice5],\n",
        "       simple_regret_exact_17[slice5],\n",
        "       simple_regret_exact_18[slice5],\n",
        "       simple_regret_exact_19[slice5],\n",
        "       simple_regret_exact_20[slice5]]\n",
        "\n",
        "approx5_results = pd.DataFrame(approx5).sort_values(by=[0], ascending=False)\n",
        "exact5_results = pd.DataFrame(exact5).sort_values(by=[0], ascending=False)\n",
        "\n",
        "### Best simple regret minimization IQR - approx:\n",
        "lower_approx5 = np.asarray(approx5_results[4:5][0])[0]\n",
        "median_approx5 = np.asarray(approx5_results[9:10][0])[0]\n",
        "upper_approx5 = np.asarray(approx5_results[14:15][0])[0]\n",
        "\n",
        "lower_exact5 = np.asarray(exact5_results[4:5][0])[0]\n",
        "median_exact5 = np.asarray(exact5_results[9:10][0])[0]\n",
        "upper_exact5 = np.asarray(exact5_results[14:15][0])[0]"
      ],
      "execution_count": 84,
      "outputs": []
    },
    {
      "cell_type": "code",
      "metadata": {
        "id": "4aZ7C8sOQxf6"
      },
      "source": [
        "# Iteration15 :\n",
        "\n",
        "slice15 = 14\n",
        "\n",
        "approx15 = [simple_regret_approx_1[slice15],\n",
        "       simple_regret_approx_2[slice15],\n",
        "       simple_regret_approx_3[slice15],\n",
        "       simple_regret_approx_4[slice15],\n",
        "       simple_regret_approx_5[slice15],\n",
        "       simple_regret_approx_6[slice15],\n",
        "       simple_regret_approx_7[slice15],\n",
        "       simple_regret_approx_8[slice15],\n",
        "       simple_regret_approx_9[slice15],\n",
        "       simple_regret_approx_10[slice15],\n",
        "       simple_regret_approx_11[slice15],\n",
        "       simple_regret_approx_12[slice15],\n",
        "       simple_regret_approx_13[slice15],\n",
        "       simple_regret_approx_14[slice15],\n",
        "       simple_regret_approx_15[slice15],\n",
        "       simple_regret_approx_16[slice15],\n",
        "       simple_regret_approx_17[slice15],\n",
        "       simple_regret_approx_18[slice15],\n",
        "       simple_regret_approx_19[slice15],\n",
        "       simple_regret_approx_20[slice15]]\n",
        "\n",
        "exact15 = [simple_regret_exact_1[slice15],\n",
        "       simple_regret_exact_2[slice15],\n",
        "       simple_regret_exact_3[slice15],\n",
        "       simple_regret_exact_4[slice15],\n",
        "       simple_regret_exact_5[slice15],\n",
        "       simple_regret_exact_6[slice15],\n",
        "       simple_regret_exact_7[slice15],\n",
        "       simple_regret_exact_8[slice15],\n",
        "       simple_regret_exact_9[slice15],\n",
        "       simple_regret_exact_10[slice15],\n",
        "       simple_regret_exact_11[slice15],\n",
        "       simple_regret_exact_12[slice15],\n",
        "       simple_regret_exact_13[slice15],\n",
        "       simple_regret_exact_14[slice15],\n",
        "       simple_regret_exact_15[slice15],\n",
        "       simple_regret_exact_16[slice15],\n",
        "       simple_regret_exact_17[slice15],\n",
        "       simple_regret_exact_18[slice15],\n",
        "       simple_regret_exact_19[slice15],\n",
        "       simple_regret_exact_20[slice15]]\n",
        "\n",
        "approx15_results = pd.DataFrame(approx15).sort_values(by=[0], ascending=False)\n",
        "exact15_results = pd.DataFrame(exact15).sort_values(by=[0], ascending=False)\n",
        "\n",
        "### Best simple regret minimization IQR - approx:\n",
        "lower_approx15 = np.asarray(approx15_results[4:5][0])[0]\n",
        "median_approx15 = np.asarray(approx15_results[9:10][0])[0]\n",
        "upper_approx15 = np.asarray(approx15_results[14:15][0])[0]\n",
        "\n",
        "lower_exact15 = np.asarray(exact15_results[4:5][0])[0]\n",
        "median_exact15 = np.asarray(exact15_results[9:10][0])[0]\n",
        "upper_exact15 = np.asarray(exact15_results[14:15][0])[0]"
      ],
      "execution_count": 85,
      "outputs": []
    },
    {
      "cell_type": "code",
      "metadata": {
        "id": "KJINKhv1Qxf6"
      },
      "source": [
        "# Iteration6 :\n",
        "\n",
        "slice6 = 5\n",
        "\n",
        "approx6 = [simple_regret_approx_1[slice6],\n",
        "       simple_regret_approx_2[slice6],\n",
        "       simple_regret_approx_3[slice6],\n",
        "       simple_regret_approx_4[slice6],\n",
        "       simple_regret_approx_5[slice6],\n",
        "       simple_regret_approx_6[slice6],\n",
        "       simple_regret_approx_7[slice6],\n",
        "       simple_regret_approx_8[slice6],\n",
        "       simple_regret_approx_9[slice6],\n",
        "       simple_regret_approx_10[slice6],\n",
        "       simple_regret_approx_11[slice6],\n",
        "       simple_regret_approx_12[slice6],\n",
        "       simple_regret_approx_13[slice6],\n",
        "       simple_regret_approx_14[slice6],\n",
        "       simple_regret_approx_15[slice6],\n",
        "       simple_regret_approx_16[slice6],\n",
        "       simple_regret_approx_17[slice6],\n",
        "       simple_regret_approx_18[slice6],\n",
        "       simple_regret_approx_19[slice6],\n",
        "       simple_regret_approx_20[slice6]]\n",
        "\n",
        "exact6 = [simple_regret_exact_1[slice6],\n",
        "       simple_regret_exact_2[slice6],\n",
        "       simple_regret_exact_3[slice6],\n",
        "       simple_regret_exact_4[slice6],\n",
        "       simple_regret_exact_5[slice6],\n",
        "       simple_regret_exact_6[slice6],\n",
        "       simple_regret_exact_7[slice6],\n",
        "       simple_regret_exact_8[slice6],\n",
        "       simple_regret_exact_9[slice6],\n",
        "       simple_regret_exact_10[slice6],\n",
        "       simple_regret_exact_11[slice6],\n",
        "       simple_regret_exact_12[slice6],\n",
        "       simple_regret_exact_13[slice6],\n",
        "       simple_regret_exact_14[slice6],\n",
        "       simple_regret_exact_15[slice6],\n",
        "       simple_regret_exact_16[slice6],\n",
        "       simple_regret_exact_17[slice6],\n",
        "       simple_regret_exact_18[slice6],\n",
        "       simple_regret_exact_19[slice6],\n",
        "       simple_regret_exact_20[slice6]]\n",
        "\n",
        "approx6_results = pd.DataFrame(approx6).sort_values(by=[0], ascending=False)\n",
        "exact6_results = pd.DataFrame(exact6).sort_values(by=[0], ascending=False)\n",
        "\n",
        "### Best simple regret minimization IQR - approx:\n",
        "lower_approx6 = np.asarray(approx6_results[4:5][0])[0]\n",
        "median_approx6 = np.asarray(approx6_results[9:10][0])[0]\n",
        "upper_approx6 = np.asarray(approx6_results[14:15][0])[0]\n",
        "\n",
        "lower_exact6 = np.asarray(exact6_results[4:5][0])[0]\n",
        "median_exact6 = np.asarray(exact6_results[9:10][0])[0]\n",
        "upper_exact6 = np.asarray(exact6_results[14:15][0])[0]"
      ],
      "execution_count": 86,
      "outputs": []
    },
    {
      "cell_type": "code",
      "metadata": {
        "id": "nwC5N1FsQxf7"
      },
      "source": [
        "# Iteration16 :\n",
        "\n",
        "slice16 = 15\n",
        "\n",
        "approx16 = [simple_regret_approx_1[slice16],\n",
        "       simple_regret_approx_2[slice16],\n",
        "       simple_regret_approx_3[slice16],\n",
        "       simple_regret_approx_4[slice16],\n",
        "       simple_regret_approx_5[slice16],\n",
        "       simple_regret_approx_6[slice16],\n",
        "       simple_regret_approx_7[slice16],\n",
        "       simple_regret_approx_8[slice16],\n",
        "       simple_regret_approx_9[slice16],\n",
        "       simple_regret_approx_10[slice16],\n",
        "       simple_regret_approx_11[slice16],\n",
        "       simple_regret_approx_12[slice16],\n",
        "       simple_regret_approx_13[slice16],\n",
        "       simple_regret_approx_14[slice16],\n",
        "       simple_regret_approx_15[slice16],\n",
        "       simple_regret_approx_16[slice16],\n",
        "       simple_regret_approx_17[slice16],\n",
        "       simple_regret_approx_18[slice16],\n",
        "       simple_regret_approx_19[slice16],\n",
        "       simple_regret_approx_20[slice16]]\n",
        "\n",
        "exact16 = [simple_regret_exact_1[slice16],\n",
        "       simple_regret_exact_2[slice16],\n",
        "       simple_regret_exact_3[slice16],\n",
        "       simple_regret_exact_4[slice16],\n",
        "       simple_regret_exact_5[slice16],\n",
        "       simple_regret_exact_6[slice16],\n",
        "       simple_regret_exact_7[slice16],\n",
        "       simple_regret_exact_8[slice16],\n",
        "       simple_regret_exact_9[slice16],\n",
        "       simple_regret_exact_10[slice16],\n",
        "       simple_regret_exact_11[slice16],\n",
        "       simple_regret_exact_12[slice16],\n",
        "       simple_regret_exact_13[slice16],\n",
        "       simple_regret_exact_14[slice16],\n",
        "       simple_regret_exact_15[slice16],\n",
        "       simple_regret_exact_16[slice16],\n",
        "       simple_regret_exact_17[slice16],\n",
        "       simple_regret_exact_18[slice16],\n",
        "       simple_regret_exact_19[slice16],\n",
        "       simple_regret_exact_20[slice16]]\n",
        "\n",
        "approx16_results = pd.DataFrame(approx16).sort_values(by=[0], ascending=False)\n",
        "exact16_results = pd.DataFrame(exact16).sort_values(by=[0], ascending=False)\n",
        "\n",
        "### Best simple regret minimization IQR - approx:\n",
        "lower_approx16 = np.asarray(approx16_results[4:5][0])[0]\n",
        "median_approx16 = np.asarray(approx16_results[9:10][0])[0]\n",
        "upper_approx16 = np.asarray(approx16_results[14:15][0])[0]\n",
        "\n",
        "lower_exact16 = np.asarray(exact16_results[4:5][0])[0]\n",
        "median_exact16 = np.asarray(exact16_results[9:10][0])[0]\n",
        "upper_exact16 = np.asarray(exact16_results[14:15][0])[0]"
      ],
      "execution_count": 87,
      "outputs": []
    },
    {
      "cell_type": "code",
      "metadata": {
        "id": "TrPV0AfnQxf7"
      },
      "source": [
        "# Iteration7 :\n",
        "\n",
        "slice7 = 6\n",
        "\n",
        "approx7 = [simple_regret_approx_1[slice7],\n",
        "       simple_regret_approx_2[slice7],\n",
        "       simple_regret_approx_3[slice7],\n",
        "       simple_regret_approx_4[slice7],\n",
        "       simple_regret_approx_5[slice7],\n",
        "       simple_regret_approx_6[slice7],\n",
        "       simple_regret_approx_7[slice7],\n",
        "       simple_regret_approx_8[slice7],\n",
        "       simple_regret_approx_9[slice7],\n",
        "       simple_regret_approx_10[slice7],\n",
        "       simple_regret_approx_11[slice7],\n",
        "       simple_regret_approx_12[slice7],\n",
        "       simple_regret_approx_13[slice7],\n",
        "       simple_regret_approx_14[slice7],\n",
        "       simple_regret_approx_15[slice7],\n",
        "       simple_regret_approx_16[slice7],\n",
        "       simple_regret_approx_17[slice7],\n",
        "       simple_regret_approx_18[slice7],\n",
        "       simple_regret_approx_19[slice7],\n",
        "       simple_regret_approx_20[slice7]]\n",
        "\n",
        "exact7 = [simple_regret_exact_1[slice7],\n",
        "       simple_regret_exact_2[slice7],\n",
        "       simple_regret_exact_3[slice7],\n",
        "       simple_regret_exact_4[slice7],\n",
        "       simple_regret_exact_5[slice7],\n",
        "       simple_regret_exact_6[slice7],\n",
        "       simple_regret_exact_7[slice7],\n",
        "       simple_regret_exact_8[slice7],\n",
        "       simple_regret_exact_9[slice7],\n",
        "       simple_regret_exact_10[slice7],\n",
        "       simple_regret_exact_11[slice7],\n",
        "       simple_regret_exact_12[slice7],\n",
        "       simple_regret_exact_13[slice7],\n",
        "       simple_regret_exact_14[slice7],\n",
        "       simple_regret_exact_15[slice7],\n",
        "       simple_regret_exact_16[slice7],\n",
        "       simple_regret_exact_17[slice7],\n",
        "       simple_regret_exact_18[slice7],\n",
        "       simple_regret_exact_19[slice7],\n",
        "       simple_regret_exact_20[slice7]]\n",
        "\n",
        "approx7_results = pd.DataFrame(approx7).sort_values(by=[0], ascending=False)\n",
        "exact7_results = pd.DataFrame(exact7).sort_values(by=[0], ascending=False)\n",
        "\n",
        "### Best simple regret minimization IQR - approx:\n",
        "lower_approx7 = np.asarray(approx7_results[4:5][0])[0]\n",
        "median_approx7 = np.asarray(approx7_results[9:10][0])[0]\n",
        "upper_approx7 = np.asarray(approx7_results[14:15][0])[0]\n",
        "\n",
        "lower_exact7 = np.asarray(exact7_results[4:5][0])[0]\n",
        "median_exact7 = np.asarray(exact7_results[9:10][0])[0]\n",
        "upper_exact7 = np.asarray(exact7_results[14:15][0])[0]"
      ],
      "execution_count": 88,
      "outputs": []
    },
    {
      "cell_type": "code",
      "metadata": {
        "id": "Ub_-wpK4Qxf8"
      },
      "source": [
        "# Iteration17 :\n",
        "\n",
        "slice17 = 16\n",
        "\n",
        "approx17 = [simple_regret_approx_1[slice17],\n",
        "       simple_regret_approx_2[slice17],\n",
        "       simple_regret_approx_3[slice17],\n",
        "       simple_regret_approx_4[slice17],\n",
        "       simple_regret_approx_5[slice17],\n",
        "       simple_regret_approx_6[slice17],\n",
        "       simple_regret_approx_7[slice17],\n",
        "       simple_regret_approx_8[slice17],\n",
        "       simple_regret_approx_9[slice17],\n",
        "       simple_regret_approx_10[slice17],\n",
        "       simple_regret_approx_11[slice17],\n",
        "       simple_regret_approx_12[slice17],\n",
        "       simple_regret_approx_13[slice17],\n",
        "       simple_regret_approx_14[slice17],\n",
        "       simple_regret_approx_15[slice17],\n",
        "       simple_regret_approx_16[slice17],\n",
        "       simple_regret_approx_17[slice17],\n",
        "       simple_regret_approx_18[slice17],\n",
        "       simple_regret_approx_19[slice17],\n",
        "       simple_regret_approx_20[slice17]]\n",
        "\n",
        "exact17 = [simple_regret_exact_1[slice17],\n",
        "       simple_regret_exact_2[slice17],\n",
        "       simple_regret_exact_3[slice17],\n",
        "       simple_regret_exact_4[slice17],\n",
        "       simple_regret_exact_5[slice17],\n",
        "       simple_regret_exact_6[slice17],\n",
        "       simple_regret_exact_7[slice17],\n",
        "       simple_regret_exact_8[slice17],\n",
        "       simple_regret_exact_9[slice17],\n",
        "       simple_regret_exact_10[slice17],\n",
        "       simple_regret_exact_11[slice17],\n",
        "       simple_regret_exact_12[slice17],\n",
        "       simple_regret_exact_13[slice17],\n",
        "       simple_regret_exact_14[slice17],\n",
        "       simple_regret_exact_15[slice17],\n",
        "       simple_regret_exact_16[slice17],\n",
        "       simple_regret_exact_17[slice17],\n",
        "       simple_regret_exact_18[slice17],\n",
        "       simple_regret_exact_19[slice17],\n",
        "       simple_regret_exact_20[slice17]]\n",
        "\n",
        "approx17_results = pd.DataFrame(approx17).sort_values(by=[0], ascending=False)\n",
        "exact17_results = pd.DataFrame(exact17).sort_values(by=[0], ascending=False)\n",
        "\n",
        "### Best simple regret minimization IQR - approx:\n",
        "lower_approx17 = np.asarray(approx17_results[4:5][0])[0]\n",
        "median_approx17 = np.asarray(approx17_results[9:10][0])[0]\n",
        "upper_approx17 = np.asarray(approx17_results[14:15][0])[0]\n",
        "\n",
        "lower_exact17 = np.asarray(exact17_results[4:5][0])[0]\n",
        "median_exact17 = np.asarray(exact17_results[9:10][0])[0]\n",
        "upper_exact17 = np.asarray(exact17_results[14:15][0])[0]"
      ],
      "execution_count": 89,
      "outputs": []
    },
    {
      "cell_type": "code",
      "metadata": {
        "id": "-6VLo37PQxf8"
      },
      "source": [
        "# Iteration8 :\n",
        "\n",
        "slice8 = 7\n",
        "\n",
        "approx8 = [simple_regret_approx_1[slice8],\n",
        "       simple_regret_approx_2[slice8],\n",
        "       simple_regret_approx_3[slice8],\n",
        "       simple_regret_approx_4[slice8],\n",
        "       simple_regret_approx_5[slice8],\n",
        "       simple_regret_approx_6[slice8],\n",
        "       simple_regret_approx_7[slice8],\n",
        "       simple_regret_approx_8[slice8],\n",
        "       simple_regret_approx_9[slice8],\n",
        "       simple_regret_approx_10[slice8],\n",
        "       simple_regret_approx_11[slice8],\n",
        "       simple_regret_approx_12[slice8],\n",
        "       simple_regret_approx_13[slice8],\n",
        "       simple_regret_approx_14[slice8],\n",
        "       simple_regret_approx_15[slice8],\n",
        "       simple_regret_approx_16[slice8],\n",
        "       simple_regret_approx_17[slice8],\n",
        "       simple_regret_approx_18[slice8],\n",
        "       simple_regret_approx_19[slice8],\n",
        "       simple_regret_approx_20[slice8]]\n",
        "\n",
        "exact8 = [simple_regret_exact_1[slice8],\n",
        "       simple_regret_exact_2[slice8],\n",
        "       simple_regret_exact_3[slice8],\n",
        "       simple_regret_exact_4[slice8],\n",
        "       simple_regret_exact_5[slice8],\n",
        "       simple_regret_exact_6[slice8],\n",
        "       simple_regret_exact_7[slice8],\n",
        "       simple_regret_exact_8[slice8],\n",
        "       simple_regret_exact_9[slice8],\n",
        "       simple_regret_exact_10[slice8],\n",
        "       simple_regret_exact_11[slice8],\n",
        "       simple_regret_exact_12[slice8],\n",
        "       simple_regret_exact_13[slice8],\n",
        "       simple_regret_exact_14[slice8],\n",
        "       simple_regret_exact_15[slice8],\n",
        "       simple_regret_exact_16[slice8],\n",
        "       simple_regret_exact_17[slice8],\n",
        "       simple_regret_exact_18[slice8],\n",
        "       simple_regret_exact_19[slice8],\n",
        "       simple_regret_exact_20[slice8]]\n",
        "\n",
        "approx8_results = pd.DataFrame(approx8).sort_values(by=[0], ascending=False)\n",
        "exact8_results = pd.DataFrame(exact8).sort_values(by=[0], ascending=False)\n",
        "\n",
        "### Best simple regret minimization IQR - approx:\n",
        "lower_approx8 = np.asarray(approx8_results[4:5][0])[0]\n",
        "median_approx8 = np.asarray(approx8_results[9:10][0])[0]\n",
        "upper_approx8 = np.asarray(approx8_results[14:15][0])[0]\n",
        "\n",
        "lower_exact8 = np.asarray(exact8_results[4:5][0])[0]\n",
        "median_exact8 = np.asarray(exact8_results[9:10][0])[0]\n",
        "upper_exact8 = np.asarray(exact8_results[14:15][0])[0]"
      ],
      "execution_count": 90,
      "outputs": []
    },
    {
      "cell_type": "code",
      "metadata": {
        "id": "2Dp-9CC2Qxf9"
      },
      "source": [
        "# Iteration18 :\n",
        "\n",
        "slice18 = 17\n",
        "\n",
        "approx18 = [simple_regret_approx_1[slice18],\n",
        "       simple_regret_approx_2[slice18],\n",
        "       simple_regret_approx_3[slice18],\n",
        "       simple_regret_approx_4[slice18],\n",
        "       simple_regret_approx_5[slice18],\n",
        "       simple_regret_approx_6[slice18],\n",
        "       simple_regret_approx_7[slice18],\n",
        "       simple_regret_approx_8[slice18],\n",
        "       simple_regret_approx_9[slice18],\n",
        "       simple_regret_approx_10[slice18],\n",
        "       simple_regret_approx_11[slice18],\n",
        "       simple_regret_approx_12[slice18],\n",
        "       simple_regret_approx_13[slice18],\n",
        "       simple_regret_approx_14[slice18],\n",
        "       simple_regret_approx_15[slice18],\n",
        "       simple_regret_approx_16[slice18],\n",
        "       simple_regret_approx_17[slice18],\n",
        "       simple_regret_approx_18[slice18],\n",
        "       simple_regret_approx_19[slice18],\n",
        "       simple_regret_approx_20[slice18]]\n",
        "\n",
        "exact18 = [simple_regret_exact_1[slice18],\n",
        "       simple_regret_exact_2[slice18],\n",
        "       simple_regret_exact_3[slice18],\n",
        "       simple_regret_exact_4[slice18],\n",
        "       simple_regret_exact_5[slice18],\n",
        "       simple_regret_exact_6[slice18],\n",
        "       simple_regret_exact_7[slice18],\n",
        "       simple_regret_exact_8[slice18],\n",
        "       simple_regret_exact_9[slice18],\n",
        "       simple_regret_exact_10[slice18],\n",
        "       simple_regret_exact_11[slice18],\n",
        "       simple_regret_exact_12[slice18],\n",
        "       simple_regret_exact_13[slice18],\n",
        "       simple_regret_exact_14[slice18],\n",
        "       simple_regret_exact_15[slice18],\n",
        "       simple_regret_exact_16[slice18],\n",
        "       simple_regret_exact_17[slice18],\n",
        "       simple_regret_exact_18[slice18],\n",
        "       simple_regret_exact_19[slice18],\n",
        "       simple_regret_exact_20[slice18]]\n",
        "\n",
        "approx18_results = pd.DataFrame(approx18).sort_values(by=[0], ascending=False)\n",
        "exact18_results = pd.DataFrame(exact18).sort_values(by=[0], ascending=False)\n",
        "\n",
        "### Best simple regret minimization IQR - approx:\n",
        "lower_approx18 = np.asarray(approx18_results[4:5][0])[0]\n",
        "median_approx18 = np.asarray(approx18_results[9:10][0])[0]\n",
        "upper_approx18 = np.asarray(approx18_results[14:15][0])[0]\n",
        "\n",
        "lower_exact18 = np.asarray(exact18_results[4:5][0])[0]\n",
        "median_exact18 = np.asarray(exact18_results[9:10][0])[0]\n",
        "upper_exact18 = np.asarray(exact18_results[14:15][0])[0]"
      ],
      "execution_count": 91,
      "outputs": []
    },
    {
      "cell_type": "code",
      "metadata": {
        "id": "SqiaOpB7Qxf9"
      },
      "source": [
        "# Iteration9 :\n",
        "\n",
        "slice9 = 8\n",
        "\n",
        "approx9 = [simple_regret_approx_1[slice9],\n",
        "       simple_regret_approx_2[slice9],\n",
        "       simple_regret_approx_3[slice9],\n",
        "       simple_regret_approx_4[slice9],\n",
        "       simple_regret_approx_5[slice9],\n",
        "       simple_regret_approx_6[slice9],\n",
        "       simple_regret_approx_7[slice9],\n",
        "       simple_regret_approx_8[slice9],\n",
        "       simple_regret_approx_9[slice9],\n",
        "       simple_regret_approx_10[slice9],\n",
        "       simple_regret_approx_11[slice9],\n",
        "       simple_regret_approx_12[slice9],\n",
        "       simple_regret_approx_13[slice9],\n",
        "       simple_regret_approx_14[slice9],\n",
        "       simple_regret_approx_15[slice9],\n",
        "       simple_regret_approx_16[slice9],\n",
        "       simple_regret_approx_17[slice9],\n",
        "       simple_regret_approx_18[slice9],\n",
        "       simple_regret_approx_19[slice9],\n",
        "       simple_regret_approx_20[slice9]]\n",
        "\n",
        "exact9 = [simple_regret_exact_1[slice9],\n",
        "       simple_regret_exact_2[slice9],\n",
        "       simple_regret_exact_3[slice9],\n",
        "       simple_regret_exact_4[slice9],\n",
        "       simple_regret_exact_5[slice9],\n",
        "       simple_regret_exact_6[slice9],\n",
        "       simple_regret_exact_7[slice9],\n",
        "       simple_regret_exact_8[slice9],\n",
        "       simple_regret_exact_9[slice9],\n",
        "       simple_regret_exact_10[slice9],\n",
        "       simple_regret_exact_11[slice9],\n",
        "       simple_regret_exact_12[slice9],\n",
        "       simple_regret_exact_13[slice9],\n",
        "       simple_regret_exact_14[slice9],\n",
        "       simple_regret_exact_15[slice9],\n",
        "       simple_regret_exact_16[slice9],\n",
        "       simple_regret_exact_17[slice9],\n",
        "       simple_regret_exact_18[slice9],\n",
        "       simple_regret_exact_19[slice9],\n",
        "       simple_regret_exact_20[slice9]]\n",
        "\n",
        "approx9_results = pd.DataFrame(approx9).sort_values(by=[0], ascending=False)\n",
        "exact9_results = pd.DataFrame(exact9).sort_values(by=[0], ascending=False)\n",
        "\n",
        "### Best simple regret minimization IQR - approx:\n",
        "lower_approx9 = np.asarray(approx9_results[4:5][0])[0]\n",
        "median_approx9 = np.asarray(approx9_results[9:10][0])[0]\n",
        "upper_approx9 = np.asarray(approx9_results[14:15][0])[0]\n",
        "\n",
        "lower_exact9 = np.asarray(exact9_results[4:5][0])[0]\n",
        "median_exact9 = np.asarray(exact9_results[9:10][0])[0]\n",
        "upper_exact9 = np.asarray(exact9_results[14:15][0])[0]"
      ],
      "execution_count": 92,
      "outputs": []
    },
    {
      "cell_type": "code",
      "metadata": {
        "id": "OQkCCOsPQxf9"
      },
      "source": [
        "# Iteration19 :\n",
        "\n",
        "slice19 = 18\n",
        "\n",
        "approx19 = [simple_regret_approx_1[slice19],\n",
        "       simple_regret_approx_2[slice19],\n",
        "       simple_regret_approx_3[slice19],\n",
        "       simple_regret_approx_4[slice19],\n",
        "       simple_regret_approx_5[slice19],\n",
        "       simple_regret_approx_6[slice19],\n",
        "       simple_regret_approx_7[slice19],\n",
        "       simple_regret_approx_8[slice19],\n",
        "       simple_regret_approx_9[slice19],\n",
        "       simple_regret_approx_10[slice19],\n",
        "       simple_regret_approx_11[slice19],\n",
        "       simple_regret_approx_12[slice19],\n",
        "       simple_regret_approx_13[slice19],\n",
        "       simple_regret_approx_14[slice19],\n",
        "       simple_regret_approx_15[slice19],\n",
        "       simple_regret_approx_16[slice19],\n",
        "       simple_regret_approx_17[slice19],\n",
        "       simple_regret_approx_18[slice19],\n",
        "       simple_regret_approx_19[slice19],\n",
        "       simple_regret_approx_20[slice19]]\n",
        "\n",
        "exact19 = [simple_regret_exact_1[slice19],\n",
        "       simple_regret_exact_2[slice19],\n",
        "       simple_regret_exact_3[slice19],\n",
        "       simple_regret_exact_4[slice19],\n",
        "       simple_regret_exact_5[slice19],\n",
        "       simple_regret_exact_6[slice19],\n",
        "       simple_regret_exact_7[slice19],\n",
        "       simple_regret_exact_8[slice19],\n",
        "       simple_regret_exact_9[slice19],\n",
        "       simple_regret_exact_10[slice19],\n",
        "       simple_regret_exact_11[slice19],\n",
        "       simple_regret_exact_12[slice19],\n",
        "       simple_regret_exact_13[slice19],\n",
        "       simple_regret_exact_14[slice19],\n",
        "       simple_regret_exact_15[slice19],\n",
        "       simple_regret_exact_16[slice19],\n",
        "       simple_regret_exact_17[slice19],\n",
        "       simple_regret_exact_18[slice19],\n",
        "       simple_regret_exact_19[slice19],\n",
        "       simple_regret_exact_20[slice19]]\n",
        "\n",
        "approx19_results = pd.DataFrame(approx19).sort_values(by=[0], ascending=False)\n",
        "exact19_results = pd.DataFrame(exact19).sort_values(by=[0], ascending=False)\n",
        "\n",
        "### Best simple regret minimization IQR - approx:\n",
        "lower_approx19 = np.asarray(approx19_results[4:5][0])[0]\n",
        "median_approx19 = np.asarray(approx19_results[9:10][0])[0]\n",
        "upper_approx19 = np.asarray(approx19_results[14:15][0])[0]\n",
        "\n",
        "lower_exact19 = np.asarray(exact19_results[4:5][0])[0]\n",
        "median_exact19 = np.asarray(exact19_results[9:10][0])[0]\n",
        "upper_exact19 = np.asarray(exact19_results[14:15][0])[0]"
      ],
      "execution_count": 93,
      "outputs": []
    },
    {
      "cell_type": "code",
      "metadata": {
        "id": "h4vtWahcQxf-"
      },
      "source": [
        "# Iteration10 :\n",
        "\n",
        "slice10 = 9\n",
        "\n",
        "approx10 = [simple_regret_approx_1[slice10],\n",
        "       simple_regret_approx_2[slice10],\n",
        "       simple_regret_approx_3[slice10],\n",
        "       simple_regret_approx_4[slice10],\n",
        "       simple_regret_approx_5[slice10],\n",
        "       simple_regret_approx_6[slice10],\n",
        "       simple_regret_approx_7[slice10],\n",
        "       simple_regret_approx_8[slice10],\n",
        "       simple_regret_approx_9[slice10],\n",
        "       simple_regret_approx_10[slice10],\n",
        "       simple_regret_approx_11[slice10],\n",
        "       simple_regret_approx_12[slice10],\n",
        "       simple_regret_approx_13[slice10],\n",
        "       simple_regret_approx_14[slice10],\n",
        "       simple_regret_approx_15[slice10],\n",
        "       simple_regret_approx_16[slice10],\n",
        "       simple_regret_approx_17[slice10],\n",
        "       simple_regret_approx_18[slice10],\n",
        "       simple_regret_approx_19[slice10],\n",
        "       simple_regret_approx_20[slice10]]\n",
        "\n",
        "exact10 = [simple_regret_exact_1[slice10],\n",
        "       simple_regret_exact_2[slice10],\n",
        "       simple_regret_exact_3[slice10],\n",
        "       simple_regret_exact_4[slice10],\n",
        "       simple_regret_exact_5[slice10],\n",
        "       simple_regret_exact_6[slice10],\n",
        "       simple_regret_exact_7[slice10],\n",
        "       simple_regret_exact_8[slice10],\n",
        "       simple_regret_exact_9[slice10],\n",
        "       simple_regret_exact_10[slice10],\n",
        "       simple_regret_exact_11[slice10],\n",
        "       simple_regret_exact_12[slice10],\n",
        "       simple_regret_exact_13[slice10],\n",
        "       simple_regret_exact_14[slice10],\n",
        "       simple_regret_exact_15[slice10],\n",
        "       simple_regret_exact_16[slice10],\n",
        "       simple_regret_exact_17[slice10],\n",
        "       simple_regret_exact_18[slice10],\n",
        "       simple_regret_exact_19[slice10],\n",
        "       simple_regret_exact_20[slice10]]\n",
        "\n",
        "approx10_results = pd.DataFrame(approx10).sort_values(by=[0], ascending=False)\n",
        "exact10_results = pd.DataFrame(exact10).sort_values(by=[0], ascending=False)\n",
        "\n",
        "### Best simple regret minimization IQR - approx:\n",
        "lower_approx10 = np.asarray(approx10_results[4:5][0])[0]\n",
        "median_approx10 = np.asarray(approx10_results[9:10][0])[0]\n",
        "upper_approx10 = np.asarray(approx10_results[14:15][0])[0]\n",
        "\n",
        "lower_exact10 = np.asarray(exact10_results[4:5][0])[0]\n",
        "median_exact10 = np.asarray(exact10_results[9:10][0])[0]\n",
        "upper_exact10 = np.asarray(exact10_results[14:15][0])[0]"
      ],
      "execution_count": 94,
      "outputs": []
    },
    {
      "cell_type": "code",
      "metadata": {
        "id": "Rsf240pWQxf-"
      },
      "source": [
        "# Iteration20 :\n",
        "\n",
        "slice20 = 19\n",
        "\n",
        "approx20 = [simple_regret_approx_1[slice20],\n",
        "       simple_regret_approx_2[slice20],\n",
        "       simple_regret_approx_3[slice20],\n",
        "       simple_regret_approx_4[slice20],\n",
        "       simple_regret_approx_5[slice20],\n",
        "       simple_regret_approx_6[slice20],\n",
        "       simple_regret_approx_7[slice20],\n",
        "       simple_regret_approx_8[slice20],\n",
        "       simple_regret_approx_9[slice20],\n",
        "       simple_regret_approx_10[slice20],\n",
        "       simple_regret_approx_11[slice20],\n",
        "       simple_regret_approx_12[slice20],\n",
        "       simple_regret_approx_13[slice20],\n",
        "       simple_regret_approx_14[slice20],\n",
        "       simple_regret_approx_15[slice20],\n",
        "       simple_regret_approx_16[slice20],\n",
        "       simple_regret_approx_17[slice20],\n",
        "       simple_regret_approx_18[slice20],\n",
        "       simple_regret_approx_19[slice20],\n",
        "       simple_regret_approx_20[slice20]]\n",
        "\n",
        "exact20 = [simple_regret_exact_1[slice20],\n",
        "       simple_regret_exact_2[slice20],\n",
        "       simple_regret_exact_3[slice20],\n",
        "       simple_regret_exact_4[slice20],\n",
        "       simple_regret_exact_5[slice20],\n",
        "       simple_regret_exact_6[slice20],\n",
        "       simple_regret_exact_7[slice20],\n",
        "       simple_regret_exact_8[slice20],\n",
        "       simple_regret_exact_9[slice20],\n",
        "       simple_regret_exact_10[slice20],\n",
        "       simple_regret_exact_11[slice20],\n",
        "       simple_regret_exact_12[slice20],\n",
        "       simple_regret_exact_13[slice20],\n",
        "       simple_regret_exact_14[slice20],\n",
        "       simple_regret_exact_15[slice20],\n",
        "       simple_regret_exact_16[slice20],\n",
        "       simple_regret_exact_17[slice20],\n",
        "       simple_regret_exact_18[slice20],\n",
        "       simple_regret_exact_19[slice20],\n",
        "       simple_regret_exact_20[slice20]]\n",
        "\n",
        "approx20_results = pd.DataFrame(approx20).sort_values(by=[0], ascending=False)\n",
        "exact20_results = pd.DataFrame(exact20).sort_values(by=[0], ascending=False)\n",
        "\n",
        "### Best simple regret minimization IQR - approx:\n",
        "lower_approx20 = np.asarray(approx20_results[4:5][0])[0]\n",
        "median_approx20 = np.asarray(approx20_results[9:10][0])[0]\n",
        "upper_approx20 = np.asarray(approx20_results[14:15][0])[0]\n",
        "\n",
        "lower_exact20 = np.asarray(exact20_results[4:5][0])[0]\n",
        "median_exact20 = np.asarray(exact20_results[9:10][0])[0]\n",
        "upper_exact20 = np.asarray(exact20_results[14:15][0])[0]"
      ],
      "execution_count": 95,
      "outputs": []
    },
    {
      "cell_type": "code",
      "metadata": {
        "id": "gn36RejbQxf_"
      },
      "source": [
        "### Summarize arrays: 'Loser'\n",
        "\n",
        "lower_approx = [lower_approx1,\n",
        "            lower_approx2,\n",
        "            lower_approx3,\n",
        "            lower_approx4,\n",
        "            lower_approx5,\n",
        "            lower_approx6,\n",
        "            lower_approx7,\n",
        "            lower_approx8,\n",
        "            lower_approx9,\n",
        "            lower_approx10,\n",
        "            lower_approx11,\n",
        "            lower_approx12,\n",
        "            lower_approx13,\n",
        "            lower_approx14,\n",
        "            lower_approx15,\n",
        "            lower_approx16,\n",
        "            lower_approx17,\n",
        "            lower_approx18,\n",
        "            lower_approx19,\n",
        "            lower_approx20,\n",
        "            lower_approx21]\n",
        "\n",
        "median_approx = [median_approx1,\n",
        "            median_approx2,\n",
        "            median_approx3,\n",
        "            median_approx4,\n",
        "            median_approx5,\n",
        "            median_approx6,\n",
        "            median_approx7,\n",
        "            median_approx8,\n",
        "            median_approx9,\n",
        "            median_approx10,\n",
        "            median_approx11,\n",
        "            median_approx12,\n",
        "            median_approx13,\n",
        "            median_approx14,\n",
        "            median_approx15,\n",
        "            median_approx16,\n",
        "            median_approx17,\n",
        "            median_approx18,\n",
        "            median_approx19,\n",
        "            median_approx20,\n",
        "            median_approx21]\n",
        "\n",
        "upper_approx = [upper_approx1,\n",
        "            upper_approx2,\n",
        "            upper_approx3,\n",
        "            upper_approx4,\n",
        "            upper_approx5,\n",
        "            upper_approx6,\n",
        "            upper_approx7,\n",
        "            upper_approx8,\n",
        "            upper_approx9,\n",
        "            upper_approx10,\n",
        "            upper_approx11,\n",
        "            upper_approx12,\n",
        "            upper_approx13,\n",
        "            upper_approx14,\n",
        "            upper_approx15,\n",
        "            upper_approx16,\n",
        "            upper_approx17,\n",
        "            upper_approx18,\n",
        "            upper_approx19,\n",
        "            upper_approx20,\n",
        "            upper_approx21]"
      ],
      "execution_count": 96,
      "outputs": []
    },
    {
      "cell_type": "code",
      "metadata": {
        "id": "wxtGTOYfQxf_"
      },
      "source": [
        "### Summarize arrays: 'exact'\n",
        "\n",
        "lower_exact = [lower_exact1,\n",
        "            lower_exact2,\n",
        "            lower_exact3,\n",
        "            lower_exact4,\n",
        "            lower_exact5,\n",
        "            lower_exact6,\n",
        "            lower_exact7,\n",
        "            lower_exact8,\n",
        "            lower_exact9,\n",
        "            lower_exact10,\n",
        "            lower_exact11,\n",
        "            lower_exact12,\n",
        "            lower_exact13,\n",
        "            lower_exact14,\n",
        "            lower_exact15,\n",
        "            lower_exact16,\n",
        "            lower_exact17,\n",
        "            lower_exact18,\n",
        "            lower_exact19,\n",
        "            lower_exact20,\n",
        "            lower_exact21]\n",
        "\n",
        "median_exact = [median_exact1,\n",
        "            median_exact2,\n",
        "            median_exact3,\n",
        "            median_exact4,\n",
        "            median_exact5,\n",
        "            median_exact6,\n",
        "            median_exact7,\n",
        "            median_exact8,\n",
        "            median_exact9,\n",
        "            median_exact10,\n",
        "            median_exact11,\n",
        "            median_exact12,\n",
        "            median_exact13,\n",
        "            median_exact14,\n",
        "            median_exact15,\n",
        "            median_exact16,\n",
        "            median_exact17,\n",
        "            median_exact18,\n",
        "            median_exact19,\n",
        "            median_exact20,\n",
        "            median_exact21]\n",
        "\n",
        "upper_exact = [upper_exact1,\n",
        "            upper_exact2,\n",
        "            upper_exact3,\n",
        "            upper_exact4,\n",
        "            upper_exact5,\n",
        "            upper_exact6,\n",
        "            upper_exact7,\n",
        "            upper_exact8,\n",
        "            upper_exact9,\n",
        "            upper_exact10,\n",
        "            upper_exact11,\n",
        "            upper_exact12,\n",
        "            upper_exact13,\n",
        "            upper_exact14,\n",
        "            upper_exact15,\n",
        "            upper_exact16,\n",
        "            upper_exact17,\n",
        "            upper_exact18,\n",
        "            upper_exact19,\n",
        "            upper_exact20,\n",
        "            upper_exact21]"
      ],
      "execution_count": 97,
      "outputs": []
    },
    {
      "cell_type": "code",
      "metadata": {
        "id": "2MONq-BXQxgA",
        "colab": {
          "base_uri": "https://localhost:8080/",
          "height": 299
        },
        "outputId": "e46d7e10-131f-429e-f042-8244f92747e7"
      },
      "source": [
        "### Visualise!\n",
        "\n",
        "title = func\n",
        "plt.figure()\n",
        "\n",
        "plt.plot(median_approx, color = 'Purple')\n",
        "plt.plot(median_exact, color = 'Orange')\n",
        "\n",
        "xstar = np.arange(0, iters+1, step=1)\n",
        "plt.fill_between(xstar, lower_approx, upper_approx, facecolor = 'Purple', alpha=0.4, label='GP CBM Optimization: Approx GP CBM gradients')\n",
        "plt.fill_between(xstar, lower_exact, upper_exact, facecolor = 'Orange', alpha=0.4, label='GP CBM Optimization: Exact GP dCBM gradients')\n",
        "\n",
        "plt.title(title, weight = 'bold')\n",
        "plt.xlabel('(Post-initialization) iteration $\\it{k}$', weight = 'bold')\n",
        "plt.ylabel('log(Regret)', weight = 'bold') \n",
        "plt.legend(loc=1) # add plot legend\n",
        "\n",
        "### Make the x-ticks integers, not floats:\n",
        "count = len(xstar)\n",
        "plt.xticks(np.arange(count), np.arange(0, count))\n",
        "plt.show() #visualize!"
      ],
      "execution_count": 98,
      "outputs": [
        {
          "output_type": "display_data",
          "data": {
            "text/plain": [
              "<Figure size 432x288 with 1 Axes>"
            ],
            "image/png": "[encoded data removed]"
          },
          "metadata": {
            "needs_background": "light"
          }
        }
      ]
    },
    {
      "cell_type": "code",
      "source": [
        "time_approx, time_exact"
      ],
      "metadata": {
        "colab": {
          "base_uri": "https://localhost:8080/"
        },
        "id": "oFgBoybx0NsP",
        "outputId": "081e9f2c-7d9f-4ef1-c534-badc48360425"
      },
      "execution_count": 99,
      "outputs": [
        {
          "output_type": "execute_result",
          "data": {
            "text/plain": [
              "(111.40043926239014, 354.0327093601227)"
            ]
          },
          "metadata": {},
          "execution_count": 99
        }
      ]
    },
    {
      "cell_type": "code",
      "source": [
        "exact21_results, exact21_results[19:20].index[0]\n"
      ],
      "metadata": {
        "colab": {
          "base_uri": "https://localhost:8080/"
        },
        "id": "0i4IbAcyB7-l",
        "outputId": "92770a22-c664-4017-9567-45ee7324a5b3"
      },
      "execution_count": 100,
      "outputs": [
        {
          "output_type": "execute_result",
          "data": {
            "text/plain": [
              "(           0\n",
              " 5   3.118194\n",
              " 17  2.276226\n",
              " 1   1.888285\n",
              " 7   1.837462\n",
              " 13  1.761773\n",
              " 9   1.526867\n",
              " 8   1.511644\n",
              " 0   1.383632\n",
              " 12  1.353466\n",
              " 19  1.280707\n",
              " 18  1.235272\n",
              " 10  1.227716\n",
              " 4   1.140922\n",
              " 15  0.901836\n",
              " 11  0.847827\n",
              " 3   0.747839\n",
              " 6   0.518893\n",
              " 16  0.496909\n",
              " 2   0.303862\n",
              " 14  0.109841, 14)"
            ]
          },
          "metadata": {},
          "execution_count": 100
        }
      ]
    },
    {
      "cell_type": "code",
      "source": [
        "str_exact = str(exact21_results[19:20].index[0]+1)\n",
        "str_exact\n"
      ],
      "metadata": {
        "colab": {
          "base_uri": "https://localhost:8080/",
          "height": 35
        },
        "id": "12lIvjCoBr7y",
        "outputId": "ff953de2-de3f-4114-cf4d-dab8a81dd1bf"
      },
      "execution_count": 101,
      "outputs": [
        {
          "output_type": "execute_result",
          "data": {
            "text/plain": [
              "'15'"
            ],
            "application/vnd.google.colaboratory.intrinsic+json": {
              "type": "string"
            }
          },
          "metadata": {},
          "execution_count": 101
        }
      ]
    },
    {
      "cell_type": "code",
      "source": [
        "eval_exactMinIQR_vsCorrApproxExperiment = eval('approx_' + str_exact)\n",
        "eval_exactMinIQR_vsCorrApproxExperiment_maxAcqFunc = eval_exactMinIQR_vsCorrApproxExperiment.history[eval_exactMinIQR_vsCorrApproxExperiment.history.index(eval_exactMinIQR_vsCorrApproxExperiment.tau)-1]\n",
        "eval_exactMinIQR_vsCorrApproxExperiment_simpleRegret = np.log(-eval_exactMinIQR_vsCorrApproxExperiment.tau + y_global_orig)\n",
        "\n",
        "eval_exactMinIQR_vsCorrApproxExperiment.tau, eval_exactMinIQR_vsCorrApproxExperiment_maxAcqFunc, eval_exactMinIQR_vsCorrApproxExperiment_simpleRegret\n"
      ],
      "metadata": {
        "colab": {
          "base_uri": "https://localhost:8080/"
        },
        "id": "O3sQFv0hpuNI",
        "outputId": "4a7b87cb-1c84-41de-e382-fc7ee9c26316"
      },
      "execution_count": 102,
      "outputs": [
        {
          "output_type": "execute_result",
          "data": {
            "text/plain": [
              "(-2.936087197988206, -2.395544427848396, 1.0770778098985088)"
            ]
          },
          "metadata": {},
          "execution_count": 102
        }
      ]
    },
    {
      "cell_type": "code",
      "source": [
        "### Final iteration: best \"approx\" experiment results (as above)\n",
        "\n",
        "np.random.seed(int(str_exact))\n",
        "eval_exactMinIQR_vsCorrApproxExperiment.run(init_evals=n_init, max_iter=iters)\n"
      ],
      "metadata": {
        "id": "DKvmmlRoTnvC",
        "colab": {
          "base_uri": "https://localhost:8080/"
        },
        "outputId": "4f3294f4-35e9-477d-8b3e-924a92e25e61"
      },
      "execution_count": 103,
      "outputs": [
        {
          "output_type": "stream",
          "name": "stdout",
          "text": [
            "Evaluation \t Proposed point \t  Current eval. \t  Best eval. \t         Max AcqFunc.\n",
            "init\t [ 6.97635395 -6.4220815 ]\t -131.15577599697437\t -20.897907943365695\t    \n",
            "init\t [-8.91273571 -2.76923108]\t -94.77413943464936\t -20.897907943365695\t    \n",
            "init\t [-4.49198143  0.6000045 ]\t -20.897907943365695\t -20.897907943365695\t    \n",
            "init\t [-3.88162169 -3.91051282]\t -45.651207890195394\t -20.897907943365695\t    \n",
            "init\t [-7.76517448 -5.00201972]\t -110.33833725681367\t -20.897907943365695\t    \n",
            "1  \t [-1.08003705  9.49213271]\t -181.3676469637466\t -20.897907943365695\t -2.4494900512168254\n",
            "2  \t [10. 10.]\t -300.0\t -20.897907943365695\t -2.4494900512168254\n",
            "3  \t [3.69182439 3.52226735]\t -38.44230185968878\t -20.897907943365695\t -2.449490051198033\n",
            "4  \t [-9.85336983  7.92181089]\t -222.59907269893387\t -20.897907943365695\t -2.449490051216825\n",
            "5  \t [ -2.24037026 -10.        ]\t -205.01925888356232\t -20.897907943365695\t -2.449489998553225\n",
            "6  \t [10.          2.38189307]\t -111.34682918560738\t -20.897907943365695\t -2.449490028247863\n",
            "\u001b[1m\u001b[92m7\u001b[0m\t \u001b[1m\u001b[92m[ 1.86482494 -1.97002997]\u001b[0m\t \u001b[1m\u001b[92m-11.239608221620037\u001b[0m\t \u001b[1m\u001b[92m-11.239608221620037\u001b[0m\t \u001b[1m\u001b[92m-2.4494887891259434\u001b[0m\n",
            "8  \t [-10. -10.]\t -300.0\t -11.239608221620037\t -2.4494732636517123\n",
            "9  \t [4.46644967 8.90559245]\t -178.5683264664385\t -11.239608221620037\t -2.4494483644340077\n",
            "10 \t [-10.           2.43559626]\t -111.86425833036681\t -11.239608221620037\t -2.449423941887756\n",
            "11 \t [-4.85985797  5.58675826]\t -86.04195511854635\t -11.239608221620037\t -2.4493874777868783\n",
            "12 \t [  3.1476386 -10.       ]\t -209.9076287295791\t -11.239608221620037\t -2.4493677245671597\n",
            "13 \t [ 6.45141177 -1.2466238 ]\t -44.72885559751573\t -11.239608221620037\t -2.4491389926038982\n",
            "14 \t [ 10. -10.]\t -300.0\t -11.239608221620037\t -2.448363646790264\n",
            "15 \t [-0.77037696  3.01299217]\t -18.74972424914974\t -11.239608221620037\t -2.44776314294158\n",
            "16 \t [ 0.43149802 -5.87004033]\t -69.1009374172399\t -11.239608221620037\t -2.4470925709871008\n",
            "17 \t [-5.70617698 10.        ]\t -232.56045576075184\t -11.239608221620037\t -2.4435551131265205\n",
            "18 \t [7.63013633 5.88455777]\t -127.47502078703127\t -11.239608221620037\t -2.4335615850736847\n",
            "19 \t [10.         -3.19685548]\t -120.43976987550887\t -11.239608221620037\t -2.439586606178745\n",
            "\u001b[1m\u001b[92m20\u001b[0m\t \u001b[1m\u001b[92m[-1.23782416 -0.83781817]\u001b[0m\t \u001b[1m\u001b[92m-2.936087197988206\u001b[0m\t \u001b[1m\u001b[92m-2.936087197988206\u001b[0m\t \u001b[1m\u001b[92m-2.395544427848396\u001b[0m\n"
          ]
        }
      ]
    },
    {
      "cell_type": "code",
      "source": [
        "eval_exactMinIQR_vsCorrApproxExperiment.x_best, np.round(eval_exactMinIQR_vsCorrApproxExperiment.f_best, 2), eval_exactMinIQR_vsCorrApproxExperiment.best, eval_exactMinIQR_vsCorrApproxExperiment.x_best[np.argmin(eval_exactMinIQR_vsCorrApproxExperiment.f_best)] #### i.e. minAcqFunc returned\n"
      ],
      "metadata": {
        "colab": {
          "base_uri": "https://localhost:8080/"
        },
        "id": "tDHS__-Q_WLT",
        "outputId": "6cf782c1-29ca-4eb0-fa09-817b9fa4a111"
      },
      "execution_count": 104,
      "outputs": [
        {
          "output_type": "execute_result",
          "data": {
            "text/plain": [
              "(array([[ -6.57365348,   2.60635001],\n",
              "        [  1.10195303,   6.0963687 ],\n",
              "        [ -6.01772321,  -8.57917205],\n",
              "        [  3.89828579,  -4.23870211],\n",
              "        [  3.8982912 ,  -4.23868699],\n",
              "        [ -6.01771294,  -8.57916685],\n",
              "        [ 10.        ,  -0.38981987],\n",
              "        [ -1.23783021,  -0.83777965],\n",
              "        [-10.        ,  10.        ],\n",
              "        [ -3.2993105 ,   2.86078563],\n",
              "        [  6.5108657 , -10.        ],\n",
              "        [  1.10195661,   6.09637564],\n",
              "        [  6.51086532, -10.        ],\n",
              "        [  1.79381937,  10.        ],\n",
              "        [  9.00589702,  -0.33876231],\n",
              "        [ -1.23784529,  -0.83783183],\n",
              "        [  9.0058974 ,  -0.33876236],\n",
              "        [  6.46685977,   2.0533379 ],\n",
              "        [ -1.23783921,  -0.83788554],\n",
              "        [ -1.23782416,  -0.83781817]]),\n",
              " array([-2.02, -2.38, -2.38, -2.31, -2.31, -2.38, -0.05, -2.4 , 10.27,\n",
              "        -1.36, -1.64, -2.38, -1.64,  0.21, -0.43, -2.4 , -0.43, -2.09,\n",
              "        -2.4 , -2.4 ]),\n",
              " array([-1.23782416, -0.83781817]),\n",
              " array([-1.23782416, -0.83781817]))"
            ]
          },
          "metadata": {},
          "execution_count": 104
        }
      ]
    },
    {
      "cell_type": "code",
      "source": [
        "eval_exactMinIQR = eval('exact_' + str_exact)\n",
        "eval_exactMinIQR_maxAcqFunc = eval_exactMinIQR.history[eval_exactMinIQR.history.index(eval_exactMinIQR.tau)-1]\n",
        "eval_exactMinIQR_simpleRegret  = np.log(-eval_exactMinIQR.tau + y_global_orig)\n",
        "\n",
        "eval_exactMinIQR.tau, eval_exactMinIQR_maxAcqFunc, eval_exactMinIQR_simpleRegret\n"
      ],
      "metadata": {
        "colab": {
          "base_uri": "https://localhost:8080/"
        },
        "id": "M4bxQTTWCXFZ",
        "outputId": "938a0773-bbce-4ee2-b7aa-c09db433b212"
      },
      "execution_count": 105,
      "outputs": [
        {
          "output_type": "execute_result",
          "data": {
            "text/plain": [
              "(-1.1161005150952463, -2.416819969944444, 0.10984092719295163)"
            ]
          },
          "metadata": {},
          "execution_count": 105
        }
      ]
    },
    {
      "cell_type": "code",
      "source": [
        "### Final iteration: best \"exact\" experiment results (as above)\n",
        "\n",
        "np.random.seed(int(str_exact))\n",
        "eval_exactMinIQR.run(init_evals=n_init, max_iter=iters)\n"
      ],
      "metadata": {
        "colab": {
          "base_uri": "https://localhost:8080/"
        },
        "id": "WeKb1o143nLW",
        "outputId": "d0a1dab2-acdc-4b3c-955c-9f91ec7ab038"
      },
      "execution_count": 106,
      "outputs": [
        {
          "output_type": "stream",
          "name": "stdout",
          "text": [
            "Evaluation \t Proposed point \t  Current eval. \t  Best eval. \t         Max AcqFunc.\n",
            "init\t [ 6.97635395 -6.4220815 ]\t -131.15577599697437\t -20.897907943365695\t    \n",
            "init\t [-8.91273571 -2.76923108]\t -94.77413943464936\t -20.897907943365695\t    \n",
            "init\t [-4.49198143  0.6000045 ]\t -20.897907943365695\t -20.897907943365695\t    \n",
            "init\t [-3.88162169 -3.91051282]\t -45.651207890195394\t -20.897907943365695\t    \n",
            "init\t [-7.76517448 -5.00201972]\t -110.33833725681367\t -20.897907943365695\t    \n",
            "1  \t [10. 10.]\t -300.0\t -20.897907943365695\t -2.449489748092488\n",
            "2  \t [-9.69991687  7.99454818]\t -221.91398842692476\t -20.897907943365695\t -2.449489748092488\n",
            "3  \t [0.20513286 9.70412013]\t -188.3819746546224\t -20.897907943365695\t -2.449489748092488\n",
            "4  \t [8.17696818 1.09984692]\t -69.28213505909017\t -20.897907943365695\t -2.4494897480759805\n",
            "5  \t [1.2981086  3.27985936]\t -23.200040829137844\t -20.897907943365695\t -2.449489676212509\n",
            "6  \t [-0.62952455 -9.52479128]\t -181.8395990317211\t -20.897907943365695\t -2.4494897316038236\n",
            "\u001b[1m\u001b[92m7\u001b[0m\t \u001b[1m\u001b[92m[ 1.81302714 -2.75509637]\u001b[0m\t \u001b[1m\u001b[92m-18.46817947379217\u001b[0m\t \u001b[1m\u001b[92m-18.46817947379217\u001b[0m\t \u001b[1m\u001b[92m-2.4494884310019684\u001b[0m\n",
            "8  \t [-10. -10.]\t -300.0\t -18.46817947379217\t -2.449472960536004\n",
            "9  \t [5.8331911  6.04684281]\t -107.15473430346299\t -18.46817947379217\t -2.449460036081502\n",
            "10 \t [-4.47913258  7.07452497]\t -120.16043564931512\t -18.46817947379217\t -2.449351085019684\n",
            "11 \t [-10.           2.47553554]\t -112.25655240710273\t -18.46817947379217\t -2.4494362681718487\n",
            "12 \t [ 2.78120048 -6.84846912]\t -101.53813465506656\t -18.46817947379217\t -2.431594925588689\n",
            "13 \t [10.          5.37524131]\t -157.7864382100537\t -18.46817947379217\t -2.438123758881345\n",
            "14 \t [-5.30358385 -8.88421335]\t -185.9864953380137\t -18.46817947379217\t -2.4454148637053468\n",
            "15 \t [ 9.9565529  -2.80559908]\t -114.8757180224454\t -18.46817947379217\t -2.4449065208641816\n",
            "\u001b[1m\u001b[92m16\u001b[0m\t \u001b[1m\u001b[92m[-0.94742047  0.33052608]\u001b[0m\t \u001b[1m\u001b[92m-1.1161005150952463\u001b[0m\t \u001b[1m\u001b[92m-1.1161005150952463\u001b[0m\t \u001b[1m\u001b[92m-2.416819969944444\u001b[0m\n",
            "17 \t [4.26992771 0.03968558]\t -18.235432553641854\t -1.1161005150952463\t -2.430100800293796\n",
            "18 \t [-2.82518288  3.71009237]\t -35.51122910836419\t -1.1161005150952463\t -2.3730584358009774\n",
            "19 \t [ 5.91882291 -2.76135037]\t -50.28257640539943\t -1.1161005150952463\t -2.336876959974589\n",
            "20 \t [ 5.1682549 10.       ]\t -226.7108586710817\t -1.1161005150952463\t -2.430450865933674\n"
          ]
        }
      ]
    },
    {
      "cell_type": "code",
      "source": [
        "eval_exactMinIQR.x_best, np.round(eval_exactMinIQR.f_best, 2), eval_exactMinIQR.best, eval_exactMinIQR.x_best[np.argmin(eval_exactMinIQR.f_best)] #### i.e. minAcqFunc returned, then multiply by -1 (NB!)\n"
      ],
      "metadata": {
        "colab": {
          "base_uri": "https://localhost:8080/"
        },
        "id": "c0IIOZ-bID_G",
        "outputId": "3f53f867-b2eb-4e20-8bdf-11ad6d8e8c45"
      },
      "execution_count": 107,
      "outputs": [
        {
          "output_type": "execute_result",
          "data": {
            "text/plain": [
              "(array([[ -6.47866869,   3.75120845],\n",
              "        [ -1.453143  ,   6.91427799],\n",
              "        [ -1.32157894,  -1.5619157 ],\n",
              "        [ -0.41489666,  -5.88008218],\n",
              "        [  9.44730402,   0.58846125],\n",
              "        [ -7.80869808,  -7.87803145],\n",
              "        [  9.89827893,   7.49344209],\n",
              "        [ -1.82725737,   1.24632389],\n",
              "        [  8.16443249,   7.48838902],\n",
              "        [ -6.99318186,  -0.16186997],\n",
              "        [  3.16527622, -10.        ],\n",
              "        [ -1.17270962,   1.22704628],\n",
              "        [  2.19306052,  -0.64264765],\n",
              "        [  5.1682549 ,  10.        ],\n",
              "        [  7.53068699,  -1.20571731],\n",
              "        [ -1.62130362,  -1.29662429],\n",
              "        [ -1.08469572,  -1.9285924 ],\n",
              "        [ 10.        ,   2.484394  ],\n",
              "        [ -5.00259217,  -1.81909596],\n",
              "        [  3.13205804,   4.75337474]]),\n",
              " array([-2.33, -1.31, -2.26, -2.13, 11.32,  2.28, 12.34, -1.38,  1.56,\n",
              "        -1.84, -2.06, -1.66, -0.68, -2.43,  2.43, -2.23, -2.24,  1.28,\n",
              "        -0.57, -1.12]),\n",
              " array([ 5.1682549, 10.       ]),\n",
              " array([ 5.1682549, 10.       ]))"
            ]
          },
          "metadata": {},
          "execution_count": 107
        }
      ]
    },
    {
      "cell_type": "code",
      "source": [
        "eval_exactMinIQR.tau > eval_exactMinIQR_vsCorrApproxExperiment.tau # Exact gradients' model: is y-value greater?"
      ],
      "metadata": {
        "colab": {
          "base_uri": "https://localhost:8080/"
        },
        "id": "RRSEL9F33mw_",
        "outputId": "1f636fe5-dabf-4b85-9a6b-088a0bd16f92"
      },
      "execution_count": 108,
      "outputs": [
        {
          "output_type": "execute_result",
          "data": {
            "text/plain": [
              "True"
            ]
          },
          "metadata": {},
          "execution_count": 108
        }
      ]
    },
    {
      "cell_type": "code",
      "source": [
        "eval_exactMinIQR_maxAcqFunc > eval_exactMinIQR_vsCorrApproxExperiment_maxAcqFunc # Exact gradients' model: is best AcqFunc greater?\n"
      ],
      "metadata": {
        "colab": {
          "base_uri": "https://localhost:8080/"
        },
        "id": "srZDKNlWGaUp",
        "outputId": "df57701f-a534-444f-bf0d-0742f373d35b"
      },
      "execution_count": 109,
      "outputs": [
        {
          "output_type": "execute_result",
          "data": {
            "text/plain": [
              "False"
            ]
          },
          "metadata": {},
          "execution_count": 109
        }
      ]
    },
    {
      "cell_type": "code",
      "source": [
        "eval_exactMinIQR_simpleRegret < eval_exactMinIQR_vsCorrApproxExperiment_simpleRegret # Exact gradients' model: simple regret's natural log lower?\n"
      ],
      "metadata": {
        "colab": {
          "base_uri": "https://localhost:8080/"
        },
        "id": "TYkP-rneGab3",
        "outputId": "a72e2c9b-ab4c-4cd9-afea-51aa554c3084"
      },
      "execution_count": 110,
      "outputs": [
        {
          "output_type": "execute_result",
          "data": {
            "text/plain": [
              "True"
            ]
          },
          "metadata": {},
          "execution_count": 110
        }
      ]
    },
    {
      "cell_type": "code",
      "source": [
        "eval_exactMinIQR_maxAcqFunc, eval_exactMinIQR_vsCorrApproxExperiment_maxAcqFunc, eval_exactMinIQR_maxAcqFunc/eval_exactMinIQR_vsCorrApproxExperiment_maxAcqFunc\n"
      ],
      "metadata": {
        "id": "10rcQ55YGajh",
        "colab": {
          "base_uri": "https://localhost:8080/"
        },
        "outputId": "8b65d2bf-7ab5-4012-a1a6-279b1f5c4860"
      },
      "execution_count": 111,
      "outputs": [
        {
          "output_type": "execute_result",
          "data": {
            "text/plain": [
              "(-2.416819969944444, -2.395544427848396, 1.0088812972319436)"
            ]
          },
          "metadata": {},
          "execution_count": 111
        }
      ]
    },
    {
      "cell_type": "code",
      "source": [
        "### MaxAcqFunc Comparison: Approximate Gradients\n",
        "\n",
        "approx_1maxAcqFunc = approx_1.history[:-1][1::2]\n",
        "approx_2maxAcqFunc = approx_2.history[:-1][1::2]\n",
        "approx_3maxAcqFunc = approx_3.history[:-1][1::2]\n",
        "approx_4maxAcqFunc = approx_4.history[:-1][1::2]\n",
        "approx_5maxAcqFunc = approx_5.history[:-1][1::2]\n",
        "approx_6maxAcqFunc = approx_6.history[:-1][1::2]\n",
        "approx_7maxAcqFunc = approx_7.history[:-1][1::2]\n",
        "approx_8maxAcqFunc = approx_8.history[:-1][1::2]\n",
        "approx_9maxAcqFunc = approx_9.history[:-1][1::2]\n",
        "approx_10maxAcqFunc = approx_10.history[:-1][1::2]\n",
        "approx_11maxAcqFunc = approx_11.history[:-1][1::2]\n",
        "approx_12maxAcqFunc = approx_12.history[:-1][1::2]\n",
        "approx_13maxAcqFunc = approx_13.history[:-1][1::2]\n",
        "approx_14maxAcqFunc = approx_14.history[:-1][1::2]\n",
        "approx_15maxAcqFunc = approx_15.history[:-1][1::2]\n",
        "approx_16maxAcqFunc = approx_16.history[:-1][1::2]\n",
        "approx_17maxAcqFunc = approx_17.history[:-1][1::2]\n",
        "approx_18maxAcqFunc = approx_18.history[:-1][1::2]\n",
        "approx_19maxAcqFunc = approx_19.history[:-1][1::2]\n",
        "approx_20maxAcqFunc = approx_20.history[:-1][1::2]\n"
      ],
      "metadata": {
        "id": "rN6LmSIqhYDb"
      },
      "execution_count": 112,
      "outputs": []
    },
    {
      "cell_type": "code",
      "source": [
        "### MaxAcqFunc Comparison: Exact Gradients\n",
        "\n",
        "exact_1maxAcqFunc = exact_1.history[:-1][1::2]\n",
        "exact_2maxAcqFunc = exact_2.history[:-1][1::2]\n",
        "exact_3maxAcqFunc = exact_3.history[:-1][1::2]\n",
        "exact_4maxAcqFunc = exact_4.history[:-1][1::2]\n",
        "exact_5maxAcqFunc = exact_5.history[:-1][1::2]\n",
        "exact_6maxAcqFunc = exact_6.history[:-1][1::2]\n",
        "exact_7maxAcqFunc = exact_7.history[:-1][1::2]\n",
        "exact_8maxAcqFunc = exact_8.history[:-1][1::2]\n",
        "exact_9maxAcqFunc = exact_9.history[:-1][1::2]\n",
        "exact_10maxAcqFunc = exact_10.history[:-1][1::2]\n",
        "exact_11maxAcqFunc = exact_11.history[:-1][1::2]\n",
        "exact_12maxAcqFunc = exact_12.history[:-1][1::2]\n",
        "exact_13maxAcqFunc = exact_13.history[:-1][1::2]\n",
        "exact_14maxAcqFunc = exact_14.history[:-1][1::2]\n",
        "exact_15maxAcqFunc = exact_15.history[:-1][1::2]\n",
        "exact_16maxAcqFunc = exact_16.history[:-1][1::2]\n",
        "exact_17maxAcqFunc = exact_17.history[:-1][1::2]\n",
        "exact_18maxAcqFunc = exact_18.history[:-1][1::2]\n",
        "exact_19maxAcqFunc = exact_19.history[:-1][1::2]\n",
        "exact_20maxAcqFunc = exact_20.history[:-1][1::2]\n"
      ],
      "metadata": {
        "id": "8v_Qb1ZPiK1L"
      },
      "execution_count": 113,
      "outputs": []
    },
    {
      "cell_type": "code",
      "source": [
        "### MaxAcqFunc Comparison: Experiment 1\n",
        "\n",
        "maxAcqFuncApprox1 = np.mean(approx_1maxAcqFunc)\n",
        "maxAcqFuncExact1 = np.mean(exact_1maxAcqFunc)\n",
        "ratio1 = maxAcqFuncApprox1/maxAcqFuncExact1\n",
        "approx_1.tau, exact_1.tau, maxAcqFuncApprox1, maxAcqFuncExact1, ratio1\n"
      ],
      "metadata": {
        "colab": {
          "base_uri": "https://localhost:8080/"
        },
        "id": "lH13qO-JJfok",
        "outputId": "44d05711-10ab-4476-e4c5-d913dd76d7b5"
      },
      "execution_count": 114,
      "outputs": [
        {
          "output_type": "execute_result",
          "data": {
            "text/plain": [
              "(-5.468172821636052,\n",
              " -3.989366671349296,\n",
              " -2.4334391395612616,\n",
              " -2.431814533928937,\n",
              " 1.0006680631313194)"
            ]
          },
          "metadata": {},
          "execution_count": 114
        }
      ]
    },
    {
      "cell_type": "code",
      "source": [
        "### MaxAcqFunc Comparison: Experiment 2\n",
        "\n",
        "maxAcqFuncApprox2 = np.mean(approx_2maxAcqFunc)\n",
        "maxAcqFuncExact2 = np.mean(exact_2maxAcqFunc)\n",
        "ratio2 = maxAcqFuncApprox2/maxAcqFuncExact2\n",
        "approx_2.tau, exact_2.tau, maxAcqFuncApprox2, maxAcqFuncExact2, ratio2\n"
      ],
      "metadata": {
        "colab": {
          "base_uri": "https://localhost:8080/"
        },
        "id": "QWeVwVP_HPQb",
        "outputId": "345ab8b7-7c88-4570-8250-095ee1a915ca"
      },
      "execution_count": 115,
      "outputs": [
        {
          "output_type": "execute_result",
          "data": {
            "text/plain": [
              "(-4.333099000920773,\n",
              " -4.333099000920773,\n",
              " -2.435831109963724,\n",
              " -2.4384698808140137,\n",
              " 0.998917857927608)"
            ]
          },
          "metadata": {},
          "execution_count": 115
        }
      ]
    },
    {
      "cell_type": "code",
      "source": [
        "### MaxAcqFunc Comparison: Experiment 3\n",
        "\n",
        "maxAcqFuncApprox3 = np.mean(approx_3maxAcqFunc)\n",
        "maxAcqFuncExact3 = np.mean(exact_3maxAcqFunc)\n",
        "ratio3 = maxAcqFuncApprox3/maxAcqFuncExact3\n",
        "approx_3.tau, exact_3.tau, maxAcqFuncApprox3, maxAcqFuncExact3, ratio3\n"
      ],
      "metadata": {
        "colab": {
          "base_uri": "https://localhost:8080/"
        },
        "id": "jgGLMx0RHPUA",
        "outputId": "2e766ae9-5f75-491d-f261-0373c7828edf"
      },
      "execution_count": 116,
      "outputs": [
        {
          "output_type": "execute_result",
          "data": {
            "text/plain": [
              "(-1.4940122574729555,\n",
              " -1.3550814721388451,\n",
              " -2.4378474758416386,\n",
              " -2.424809770464892,\n",
              " 1.0053767951348394)"
            ]
          },
          "metadata": {},
          "execution_count": 116
        }
      ]
    },
    {
      "cell_type": "code",
      "source": [
        "### MaxAcqFunc Comparison: Experiment 4\n",
        "\n",
        "maxAcqFuncApprox4 = np.mean(approx_4maxAcqFunc)\n",
        "maxAcqFuncExact4 = np.mean(exact_4maxAcqFunc)\n",
        "ratio4 = maxAcqFuncApprox4/maxAcqFuncExact4\n",
        "approx_4.tau, exact_4.tau, maxAcqFuncApprox4, maxAcqFuncExact4, ratio4\n"
      ],
      "metadata": {
        "colab": {
          "base_uri": "https://localhost:8080/"
        },
        "id": "ml1c1t4SHPXV",
        "outputId": "d745df92-ca03-4588-a8ec-c40eabd44f94"
      },
      "execution_count": 117,
      "outputs": [
        {
          "output_type": "execute_result",
          "data": {
            "text/plain": [
              "(-6.164093316540281,\n",
              " -2.112430794758758,\n",
              " -2.4396980641164068,\n",
              " -2.427381079780621,\n",
              " 1.005074186512527)"
            ]
          },
          "metadata": {},
          "execution_count": 117
        }
      ]
    },
    {
      "cell_type": "code",
      "source": [
        "### MaxAcqFunc Comparison: Experiment 5\n",
        "\n",
        "maxAcqFuncApprox5 = np.mean(approx_5maxAcqFunc)\n",
        "maxAcqFuncExact5 = np.mean(exact_5maxAcqFunc)\n",
        "ratio5 = maxAcqFuncApprox5/maxAcqFuncExact5\n",
        "approx_5.tau, exact_5.tau, maxAcqFuncApprox5, maxAcqFuncExact5, ratio5\n"
      ],
      "metadata": {
        "colab": {
          "base_uri": "https://localhost:8080/"
        },
        "id": "MLbsgyMiHPaf",
        "outputId": "cb4bba6a-e1e1-4af6-c695-14cf891d4725"
      },
      "execution_count": 118,
      "outputs": [
        {
          "output_type": "execute_result",
          "data": {
            "text/plain": [
              "(-10.04307293518387,\n",
              " -3.1296539594564723,\n",
              " -2.441190909221252,\n",
              " -2.4371684289102022,\n",
              " 1.0016504728451814)"
            ]
          },
          "metadata": {},
          "execution_count": 118
        }
      ]
    },
    {
      "cell_type": "code",
      "source": [
        "### MaxAcqFunc Comparison: Experiment 6\n",
        "\n",
        "maxAcqFuncApprox6 = np.mean(approx_6maxAcqFunc)\n",
        "maxAcqFuncExact6 = np.mean(exact_6maxAcqFunc)\n",
        "ratio6 = maxAcqFuncApprox6/maxAcqFuncExact6\n",
        "approx_6.tau, exact_6.tau, maxAcqFuncApprox6, maxAcqFuncExact6, ratio6\n"
      ],
      "metadata": {
        "colab": {
          "base_uri": "https://localhost:8080/"
        },
        "id": "0H912oKjHPfu",
        "outputId": "9768bec1-e122-4c8f-93ab-5fa21beadd83"
      },
      "execution_count": 119,
      "outputs": [
        {
          "output_type": "execute_result",
          "data": {
            "text/plain": [
              "(-5.629416961321397,\n",
              " -5.629416961321397,\n",
              " -2.4373712111210066,\n",
              " -2.416262140807481,\n",
              " 1.0087362500769355)"
            ]
          },
          "metadata": {},
          "execution_count": 119
        }
      ]
    },
    {
      "cell_type": "code",
      "source": [
        "### MaxAcqFunc Comparison: Experiment 7\n",
        "\n",
        "maxAcqFuncApprox7 = np.mean(approx_7maxAcqFunc)\n",
        "maxAcqFuncExact7 = np.mean(exact_7maxAcqFunc)\n",
        "ratio7 = maxAcqFuncApprox7/maxAcqFuncExact7\n",
        "approx_7.tau, exact_7.tau, maxAcqFuncApprox7, maxAcqFuncExact7, ratio7\n"
      ],
      "metadata": {
        "colab": {
          "base_uri": "https://localhost:8080/"
        },
        "id": "qrh-IEZ3HPip",
        "outputId": "f7bbda03-7745-498d-e3b3-6136e66763c6"
      },
      "execution_count": 120,
      "outputs": [
        {
          "output_type": "execute_result",
          "data": {
            "text/plain": [
              "(-1.1304937775218953,\n",
              " -1.680166903504158,\n",
              " -2.4368243193975045,\n",
              " -2.438714420319916,\n",
              " 0.9992249601238002)"
            ]
          },
          "metadata": {},
          "execution_count": 120
        }
      ]
    },
    {
      "cell_type": "code",
      "source": [
        "### MaxAcqFunc Comparison: Experiment 8\n",
        "\n",
        "maxAcqFuncApprox8 = np.mean(approx_8maxAcqFunc)\n",
        "maxAcqFuncExact8 = np.mean(exact_8maxAcqFunc)\n",
        "ratio8 = maxAcqFuncApprox8/maxAcqFuncExact8\n",
        "approx_8.tau, exact_8.tau, maxAcqFuncApprox8, maxAcqFuncExact8, ratio8\n"
      ],
      "metadata": {
        "colab": {
          "base_uri": "https://localhost:8080/"
        },
        "id": "UOp-jaflHPlz",
        "outputId": "fc9313ca-058a-4633-c31d-6a63d735660e"
      },
      "execution_count": 121,
      "outputs": [
        {
          "output_type": "execute_result",
          "data": {
            "text/plain": [
              "(-0.5791878792948744,\n",
              " -0.5791878792948744,\n",
              " -2.4449392030617556,\n",
              " -2.429860852784665,\n",
              " 1.0062054377557508)"
            ]
          },
          "metadata": {},
          "execution_count": 121
        }
      ]
    },
    {
      "cell_type": "code",
      "source": [
        "### MaxAcqFunc Comparison: Experiment 9\n",
        "\n",
        "maxAcqFuncApprox9 = np.mean(approx_9maxAcqFunc)\n",
        "maxAcqFuncExact9 = np.mean(exact_9maxAcqFunc)\n",
        "ratio9 = maxAcqFuncApprox9/maxAcqFuncExact9\n",
        "approx_9.tau, exact_9.tau, maxAcqFuncApprox9, maxAcqFuncExact9, ratio9\n"
      ],
      "metadata": {
        "colab": {
          "base_uri": "https://localhost:8080/"
        },
        "id": "myU75lI6HPo4",
        "outputId": "82ea80ac-d015-4053-d38f-3b4e4c0cb089"
      },
      "execution_count": 122,
      "outputs": [
        {
          "output_type": "execute_result",
          "data": {
            "text/plain": [
              "(-2.6071501432266673,\n",
              " -4.5341773833992,\n",
              " -2.443010488322702,\n",
              " -2.425256893227861,\n",
              " 1.0073202946642126)"
            ]
          },
          "metadata": {},
          "execution_count": 122
        }
      ]
    },
    {
      "cell_type": "code",
      "source": [
        "### MaxAcqFunc Comparison: Experiment 10\n",
        "\n",
        "maxAcqFuncApprox10 = np.mean(approx_10maxAcqFunc)\n",
        "maxAcqFuncExact10 = np.mean(exact_10maxAcqFunc)\n",
        "ratio10 = maxAcqFuncApprox10/maxAcqFuncExact10\n",
        "approx_10.tau, exact_10.tau, maxAcqFuncApprox10, maxAcqFuncExact10, ratio10\n"
      ],
      "metadata": {
        "colab": {
          "base_uri": "https://localhost:8080/"
        },
        "id": "A3mo5UftHPsk",
        "outputId": "d52ed2d0-0835-4993-cb36-b53520226893"
      },
      "execution_count": 123,
      "outputs": [
        {
          "output_type": "execute_result",
          "data": {
            "text/plain": [
              "(-4.603728884330075,\n",
              " -4.603728884330075,\n",
              " -2.4408729498413004,\n",
              " -2.4311730658911372,\n",
              " 1.0039897957435653)"
            ]
          },
          "metadata": {},
          "execution_count": 123
        }
      ]
    },
    {
      "cell_type": "code",
      "source": [
        "### MaxAcqFunc Comparison: Experiment 11\n",
        "\n",
        "maxAcqFuncApprox11 = np.mean(approx_11maxAcqFunc)\n",
        "maxAcqFuncExact11 = np.mean(exact_11maxAcqFunc)\n",
        "ratio11 = maxAcqFuncApprox11/maxAcqFuncExact11\n",
        "approx_11.tau, exact_11.tau, maxAcqFuncApprox11, maxAcqFuncExact11, ratio11\n"
      ],
      "metadata": {
        "colab": {
          "base_uri": "https://localhost:8080/"
        },
        "id": "TaEOW6nLLEcx",
        "outputId": "46855358-56ab-4a3a-99bc-7f9360412848"
      },
      "execution_count": 124,
      "outputs": [
        {
          "output_type": "execute_result",
          "data": {
            "text/plain": [
              "(-2.716881462565864,\n",
              " -2.716881462565864,\n",
              " -2.4360594415053476,\n",
              " -2.4269762559776638,\n",
              " 1.0037425934865707)"
            ]
          },
          "metadata": {},
          "execution_count": 124
        }
      ]
    },
    {
      "cell_type": "code",
      "source": [
        "### MaxAcqFunc Comparison: Experiment 12\n",
        "\n",
        "maxAcqFuncApprox12 = np.mean(approx_12maxAcqFunc)\n",
        "maxAcqFuncExact12 = np.mean(exact_12maxAcqFunc)\n",
        "ratio12 = maxAcqFuncApprox12/maxAcqFuncExact12\n",
        "approx_12.tau, exact_12.tau, maxAcqFuncApprox12, maxAcqFuncExact12, ratio12\n"
      ],
      "metadata": {
        "colab": {
          "base_uri": "https://localhost:8080/"
        },
        "id": "1KjJRPSwLE76",
        "outputId": "3ff8388d-fb6e-409a-be81-b0b737b43b26"
      },
      "execution_count": 125,
      "outputs": [
        {
          "output_type": "execute_result",
          "data": {
            "text/plain": [
              "(-2.332812503650805,\n",
              " -2.3345680980475185,\n",
              " -2.435718070106632,\n",
              " -2.426626910402157,\n",
              " 1.0037464183989324)"
            ]
          },
          "metadata": {},
          "execution_count": 125
        }
      ]
    },
    {
      "cell_type": "code",
      "source": [
        "### MaxAcqFunc Comparison: Experiment 13\n",
        "\n",
        "maxAcqFuncApprox13 = np.mean(approx_13maxAcqFunc)\n",
        "maxAcqFuncExact13 = np.mean(exact_13maxAcqFunc)\n",
        "ratio13 = maxAcqFuncApprox13/maxAcqFuncExact13\n",
        "approx_13.tau, exact_13.tau, maxAcqFuncApprox13, maxAcqFuncExact13, ratio13\n"
      ],
      "metadata": {
        "colab": {
          "base_uri": "https://localhost:8080/"
        },
        "id": "jCoTSHuBLFOJ",
        "outputId": "a909f09d-6d80-42c2-b74d-ed6aebe1643b"
      },
      "execution_count": 126,
      "outputs": [
        {
          "output_type": "execute_result",
          "data": {
            "text/plain": [
              "(-6.1041633558475406,\n",
              " -3.870817922701323,\n",
              " -2.444186271175517,\n",
              " -2.430806543736741,\n",
              " 1.005504233758647)"
            ]
          },
          "metadata": {},
          "execution_count": 126
        }
      ]
    },
    {
      "cell_type": "code",
      "source": [
        "### MaxAcqFunc Comparison: Experiment 14\n",
        "\n",
        "maxAcqFuncApprox14 = np.mean(approx_14maxAcqFunc)\n",
        "maxAcqFuncExact14 = np.mean(exact_14maxAcqFunc)\n",
        "ratio14 = maxAcqFuncApprox14/maxAcqFuncExact14\n",
        "approx_14.tau, exact_14.tau, maxAcqFuncApprox14, maxAcqFuncExact14, ratio14\n"
      ],
      "metadata": {
        "colab": {
          "base_uri": "https://localhost:8080/"
        },
        "id": "9_xSxWT8LFsp",
        "outputId": "f6c383a1-6fb2-4768-e065-1c1c2b7f6e7f"
      },
      "execution_count": 127,
      "outputs": [
        {
          "output_type": "execute_result",
          "data": {
            "text/plain": [
              "(-3.651510611844004,\n",
              " -5.822752140657417,\n",
              " -2.4358356709552136,\n",
              " -2.430365869548997,\n",
              " 1.0022506082210707)"
            ]
          },
          "metadata": {},
          "execution_count": 127
        }
      ]
    },
    {
      "cell_type": "code",
      "source": [
        "### MaxAcqFunc Comparison: Experiment 15\n",
        "\n",
        "maxAcqFuncApprox15 = np.mean(approx_15maxAcqFunc)\n",
        "maxAcqFuncExact15 = np.mean(exact_15maxAcqFunc)\n",
        "ratio15 = maxAcqFuncApprox15/maxAcqFuncExact15\n",
        "approx_15.tau, exact_15.tau, maxAcqFuncApprox15, maxAcqFuncExact15, ratio15\n"
      ],
      "metadata": {
        "colab": {
          "base_uri": "https://localhost:8080/"
        },
        "id": "vj_iCIvOLFeP",
        "outputId": "855b0562-f23a-42dc-e639-c397b4fd7969"
      },
      "execution_count": 128,
      "outputs": [
        {
          "output_type": "execute_result",
          "data": {
            "text/plain": [
              "(-2.936087197988206,\n",
              " -1.1161005150952463,\n",
              " -8.532459959081839,\n",
              " -9.141371680250955,\n",
              " 0.9333894581176903)"
            ]
          },
          "metadata": {},
          "execution_count": 128
        }
      ]
    },
    {
      "cell_type": "code",
      "source": [
        "### MaxAcqFunc Comparison: Experiment 16\n",
        "\n",
        "maxAcqFuncApprox16 = np.mean(approx_16maxAcqFunc)\n",
        "maxAcqFuncExact16 = np.mean(exact_16maxAcqFunc)\n",
        "ratio16 = maxAcqFuncApprox16/maxAcqFuncExact16\n",
        "approx_16.tau, exact_16.tau, maxAcqFuncApprox16, maxAcqFuncExact16, ratio16\n"
      ],
      "metadata": {
        "colab": {
          "base_uri": "https://localhost:8080/"
        },
        "id": "vjFFlps7LF7A",
        "outputId": "6a0b7cce-e5ec-4436-8aab-443c175bea6b"
      },
      "execution_count": 129,
      "outputs": [
        {
          "output_type": "execute_result",
          "data": {
            "text/plain": [
              "(-1.9926048821287814,\n",
              " -2.4641223318645973,\n",
              " -2.440756923502654,\n",
              " -2.4379996836313147,\n",
              " 1.001130943490211)"
            ]
          },
          "metadata": {},
          "execution_count": 129
        }
      ]
    },
    {
      "cell_type": "code",
      "source": [
        "### MaxAcqFunc Comparison: Experiment 17\n",
        "\n",
        "maxAcqFuncApprox17 = np.mean(approx_17maxAcqFunc)\n",
        "maxAcqFuncExact17 = np.mean(exact_17maxAcqFunc)\n",
        "ratio17 = maxAcqFuncApprox17/maxAcqFuncExact17\n",
        "approx_17.tau, exact_17.tau, maxAcqFuncApprox17, maxAcqFuncExact17, ratio17\n"
      ],
      "metadata": {
        "colab": {
          "base_uri": "https://localhost:8080/"
        },
        "id": "jO0-nRLRLGJv",
        "outputId": "d72a6af0-b1d7-4a63-c636-994e47a6f59c"
      },
      "execution_count": 130,
      "outputs": [
        {
          "output_type": "execute_result",
          "data": {
            "text/plain": [
              "(-0.7140953202631145,\n",
              " -1.643633091965647,\n",
              " -2.434827753364188,\n",
              " -2.4428029963975955,\n",
              " 0.9967352082647809)"
            ]
          },
          "metadata": {},
          "execution_count": 130
        }
      ]
    },
    {
      "cell_type": "code",
      "source": [
        "### MaxAcqFunc Comparison: Experiment 18\n",
        "\n",
        "maxAcqFuncApprox18 = np.mean(approx_18maxAcqFunc)\n",
        "maxAcqFuncExact18 = np.mean(exact_18maxAcqFunc)\n",
        "ratio18 = maxAcqFuncApprox18/maxAcqFuncExact18\n",
        "approx_18.tau, exact_18.tau, maxAcqFuncApprox18, maxAcqFuncExact18, ratio18\n"
      ],
      "metadata": {
        "colab": {
          "base_uri": "https://localhost:8080/"
        },
        "id": "5Zo9ub4ULGXh",
        "outputId": "9c44130c-363d-4b11-8d47-149349a2ec46"
      },
      "execution_count": 131,
      "outputs": [
        {
          "output_type": "execute_result",
          "data": {
            "text/plain": [
              "(-1.2854373711962621,\n",
              " -9.068756459576363,\n",
              " -2.4436816363086877,\n",
              " -2.4375616534514477,\n",
              " 1.002510698692923)"
            ]
          },
          "metadata": {},
          "execution_count": 131
        }
      ]
    },
    {
      "cell_type": "code",
      "source": [
        "### MaxAcqFunc Comparison: Experiment 19\n",
        "\n",
        "maxAcqFuncApprox19 = np.mean(approx_19maxAcqFunc)\n",
        "maxAcqFuncExact19 = np.mean(exact_19maxAcqFunc)\n",
        "ratio19 = maxAcqFuncApprox19/maxAcqFuncExact19\n",
        "approx_19.tau, exact_19.tau, maxAcqFuncApprox19, maxAcqFuncExact19, ratio19\n"
      ],
      "metadata": {
        "colab": {
          "base_uri": "https://localhost:8080/"
        },
        "id": "1yJ_PLUFLGmh",
        "outputId": "890332df-7366-45a0-8865-cb3bb49d3ca6"
      },
      "execution_count": 132,
      "outputs": [
        {
          "output_type": "execute_result",
          "data": {
            "text/plain": [
              "(-10.574345906063899,\n",
              " -3.43931266960188,\n",
              " -2.442325499962946,\n",
              " -2.43547848808202,\n",
              " 1.002811362085287)"
            ]
          },
          "metadata": {},
          "execution_count": 132
        }
      ]
    },
    {
      "cell_type": "code",
      "source": [
        "### MaxAcqFunc Comparison: Experiment 20\n",
        "\n",
        "maxAcqFuncApprox20 = np.mean(approx_20maxAcqFunc)\n",
        "maxAcqFuncExact20 = np.mean(exact_20maxAcqFunc)\n",
        "ratio20 = maxAcqFuncApprox20/maxAcqFuncExact20\n",
        "approx_20.tau, exact_20.tau, maxAcqFuncApprox20, maxAcqFuncExact20, ratio20\n"
      ],
      "metadata": {
        "colab": {
          "base_uri": "https://localhost:8080/"
        },
        "id": "Sd9NxsRsLG1P",
        "outputId": "294d5516-10e5-4e92-b469-29ed641fceaa"
      },
      "execution_count": 133,
      "outputs": [
        {
          "output_type": "execute_result",
          "data": {
            "text/plain": [
              "(-6.161449614183514,\n",
              " -3.59918227441426,\n",
              " -2.4412213758062333,\n",
              " -2.435907537077419,\n",
              " 1.0021814615899542)"
            ]
          },
          "metadata": {},
          "execution_count": 133
        }
      ]
    },
    {
      "cell_type": "code",
      "source": [
        "num = [1,2,3,4,5,6,7,8,9,10,11,12,13,14,15,16,17,18,19,20]\n",
        "ApproxTau = [approx_1.tau,approx_2.tau,approx_3.tau,approx_4.tau,approx_5.tau,approx_6.tau,approx_7.tau,approx_8.tau,approx_9.tau,approx_10.tau,approx_11.tau,approx_12.tau,approx_13.tau,approx_14.tau,approx_15.tau,approx_16.tau,approx_17.tau,approx_18.tau,approx_19.tau,approx_20.tau]\n",
        "ExactTau = [exact_1.tau,exact_2.tau,exact_3.tau,exact_4.tau,exact_5.tau,exact_6.tau,exact_7.tau,exact_8.tau,exact_9.tau,exact_10.tau,exact_11.tau,exact_12.tau,exact_13.tau,exact_14.tau,exact_15.tau,exact_16.tau,exact_17.tau,exact_18.tau,exact_19.tau,exact_20.tau]\n",
        "AvgMaxAcqFuncExact = [maxAcqFuncExact1,maxAcqFuncExact2,maxAcqFuncExact3,maxAcqFuncExact4,maxAcqFuncExact5,maxAcqFuncExact6,maxAcqFuncExact7,maxAcqFuncExact8,maxAcqFuncExact9,maxAcqFuncExact10,maxAcqFuncExact11,maxAcqFuncExact12,maxAcqFuncExact13,maxAcqFuncExact14,maxAcqFuncExact15,maxAcqFuncExact16,maxAcqFuncExact17,maxAcqFuncExact18,maxAcqFuncExact19,maxAcqFuncExact20]\n",
        "AvgMaxAcqFuncApprox = [maxAcqFuncApprox1,maxAcqFuncApprox2,maxAcqFuncApprox3,maxAcqFuncApprox4,maxAcqFuncApprox5,maxAcqFuncApprox6,maxAcqFuncApprox7,maxAcqFuncApprox8,maxAcqFuncApprox9,maxAcqFuncApprox10,maxAcqFuncApprox11,maxAcqFuncApprox12,maxAcqFuncApprox13,maxAcqFuncApprox14,maxAcqFuncApprox15,maxAcqFuncApprox16,maxAcqFuncApprox17,maxAcqFuncApprox18,maxAcqFuncApprox19,maxAcqFuncApprox20]\n",
        "ratio = [ratio1,ratio2,ratio3,ratio4,ratio5,ratio6,ratio7,ratio8,ratio9,ratio10,ratio11,ratio12,ratio13,ratio14,ratio15,ratio16,ratio17,ratio18,ratio19,ratio20]\n"
      ],
      "metadata": {
        "id": "_Fbc4r50vHHF"
      },
      "execution_count": 134,
      "outputs": []
    },
    {
      "cell_type": "code",
      "source": [
        "def greaterThan(a, b):\n",
        "  lis =[]\n",
        "  #convert to list\n",
        "  a = list(a)\n",
        "  b = list(b)\n",
        "  c = \"Yes\"\n",
        "  d = \"No\"\n",
        "  e = \"equal\"\n",
        "  for first, first_te in zip(a, b):\n",
        "      if first < first_te:\n",
        "          lis.append(d)\n",
        "      elif first > first_te:\n",
        "          lis.append(c)\n",
        "      else:\n",
        "          lis.append(e)\n",
        "  return lis\n",
        "\n",
        "greaterAcqFunc = greaterThan(AvgMaxAcqFuncExact, AvgMaxAcqFuncApprox)\n"
      ],
      "metadata": {
        "id": "gyTQQeQfknKX"
      },
      "execution_count": 135,
      "outputs": []
    },
    {
      "cell_type": "code",
      "source": [
        "def greaterRatio(a):\n",
        "  lis =[]\n",
        "  #convert to list\n",
        "  a = list(a)\n",
        "  b = \"Yes\"\n",
        "  c = \"No\"\n",
        "  d = \"equal\"\n",
        "  for first, in zip(a):\n",
        "      if first < 1:\n",
        "          lis.append(c)\n",
        "      elif first > 1:\n",
        "          lis.append(b)\n",
        "      else:\n",
        "          lis.append(d)\n",
        "  return lis\n",
        "\n",
        "greaterRatio = greaterRatio(ratio)\n"
      ],
      "metadata": {
        "id": "wO-_fUfpoYyP"
      },
      "execution_count": 136,
      "outputs": []
    },
    {
      "cell_type": "code",
      "source": [
        "df = pd.DataFrame(dict(Experiment=num,\n",
        "                  ExactTau=ExactTau,\n",
        "                  ApproxTau=ApproxTau,\n",
        "                  AvgMaxAcqFuncExact=AvgMaxAcqFuncExact,\n",
        "                  GreaterAcqFunc = greaterAcqFunc,\n",
        "                  AvgMaxAcqFuncApprox=AvgMaxAcqFuncApprox,\n",
        "                  Ratio = ratio,\n",
        "                  GreaterRatio = greaterRatio))\n",
        "df.sort_values(by=['ExactTau'], inplace=True, ascending=False)\n",
        "print(df.to_latex(index=False))\n"
      ],
      "metadata": {
        "colab": {
          "base_uri": "https://localhost:8080/"
        },
        "id": "4EzMdtEQV0yI",
        "outputId": "72cd12fb-dbd1-405c-aef3-1c8a1b180c7c"
      },
      "execution_count": 137,
      "outputs": [
        {
          "output_type": "stream",
          "name": "stdout",
          "text": [
            "\\begin{tabular}{rrrrlrrl}\n",
            "\\toprule\n",
            " Experiment &  ExactTau &  ApproxTau &  AvgMaxAcqFuncExact & GreaterAcqFunc &  AvgMaxAcqFuncApprox &    Ratio & GreaterRatio \\\\\n",
            "\\midrule\n",
            "          8 & -0.579188 &  -0.579188 &           -2.429861 &            Yes &            -2.444939 & 1.006205 &          Yes \\\\\n",
            "         15 & -1.116101 &  -2.936087 &           -9.141372 &             No &            -8.532460 & 0.933389 &           No \\\\\n",
            "          3 & -1.355081 &  -1.494012 &           -2.424810 &            Yes &            -2.437847 & 1.005377 &          Yes \\\\\n",
            "         17 & -1.643633 &  -0.714095 &           -2.442803 &             No &            -2.434828 & 0.996735 &           No \\\\\n",
            "          7 & -1.680167 &  -1.130494 &           -2.438714 &             No &            -2.436824 & 0.999225 &           No \\\\\n",
            "          4 & -2.112431 &  -6.164093 &           -2.427381 &            Yes &            -2.439698 & 1.005074 &          Yes \\\\\n",
            "         12 & -2.334568 &  -2.332813 &           -2.426627 &            Yes &            -2.435718 & 1.003746 &          Yes \\\\\n",
            "         16 & -2.464122 &  -1.992605 &           -2.438000 &            Yes &            -2.440757 & 1.001131 &          Yes \\\\\n",
            "         11 & -2.716881 &  -2.716881 &           -2.426976 &            Yes &            -2.436059 & 1.003743 &          Yes \\\\\n",
            "          5 & -3.129654 & -10.043073 &           -2.437168 &            Yes &            -2.441191 & 1.001650 &          Yes \\\\\n",
            "         19 & -3.439313 & -10.574346 &           -2.435478 &            Yes &            -2.442325 & 1.002811 &          Yes \\\\\n",
            "         20 & -3.599182 &  -6.161450 &           -2.435908 &            Yes &            -2.441221 & 1.002181 &          Yes \\\\\n",
            "         13 & -3.870818 &  -6.104163 &           -2.430807 &            Yes &            -2.444186 & 1.005504 &          Yes \\\\\n",
            "          1 & -3.989367 &  -5.468173 &           -2.431815 &            Yes &            -2.433439 & 1.000668 &          Yes \\\\\n",
            "          2 & -4.333099 &  -4.333099 &           -2.438470 &             No &            -2.435831 & 0.998918 &           No \\\\\n",
            "          9 & -4.534177 &  -2.607150 &           -2.425257 &            Yes &            -2.443010 & 1.007320 &          Yes \\\\\n",
            "         10 & -4.603729 &  -4.603729 &           -2.431173 &            Yes &            -2.440873 & 1.003990 &          Yes \\\\\n",
            "          6 & -5.629417 &  -5.629417 &           -2.416262 &            Yes &            -2.437371 & 1.008736 &          Yes \\\\\n",
            "         14 & -5.822752 &  -3.651511 &           -2.430366 &            Yes &            -2.435836 & 1.002251 &          Yes \\\\\n",
            "         18 & -9.068756 &  -1.285437 &           -2.437562 &            Yes &            -2.443682 & 1.002511 &          Yes \\\\\n",
            "\\bottomrule\n",
            "\\end{tabular}\n",
            "\n"
          ]
        }
      ]
    },
    {
      "cell_type": "code",
      "source": [
        "avg_list = ['ExactTau', 'ApproxTau', 'AvgMaxAcqFuncExact','AvgMaxAcqFuncApprox']\n",
        "avg = df[avg_list].mean()\n",
        "avg.name = 'Average'\n",
        "df = df.append(avg.transpose())\n",
        "df.fillna(value='', inplace=True)\n",
        "df\n"
      ],
      "metadata": {
        "id": "HQ6-zjAHD43j",
        "colab": {
          "base_uri": "https://localhost:8080/",
          "height": 708
        },
        "outputId": "d6e92867-76a1-4710-db77-664541a772b8"
      },
      "execution_count": 138,
      "outputs": [
        {
          "output_type": "execute_result",
          "data": {
            "text/plain": [
              "        Experiment  ExactTau  ApproxTau  AvgMaxAcqFuncExact GreaterAcqFunc  \\\n",
              "7              8.0 -0.579188  -0.579188           -2.429861            Yes   \n",
              "14            15.0 -1.116101  -2.936087           -9.141372             No   \n",
              "2              3.0 -1.355081  -1.494012           -2.424810            Yes   \n",
              "16            17.0 -1.643633  -0.714095           -2.442803             No   \n",
              "6              7.0 -1.680167  -1.130494           -2.438714             No   \n",
              "3              4.0 -2.112431  -6.164093           -2.427381            Yes   \n",
              "11            12.0 -2.334568  -2.332813           -2.426627            Yes   \n",
              "15            16.0 -2.464122  -1.992605           -2.438000            Yes   \n",
              "10            11.0 -2.716881  -2.716881           -2.426976            Yes   \n",
              "4              5.0 -3.129654 -10.043073           -2.437168            Yes   \n",
              "18            19.0 -3.439313 -10.574346           -2.435478            Yes   \n",
              "19            20.0 -3.599182  -6.161450           -2.435908            Yes   \n",
              "12            13.0 -3.870818  -6.104163           -2.430807            Yes   \n",
              "0              1.0 -3.989367  -5.468173           -2.431815            Yes   \n",
              "1              2.0 -4.333099  -4.333099           -2.438470             No   \n",
              "8              9.0 -4.534177  -2.607150           -2.425257            Yes   \n",
              "9             10.0 -4.603729  -4.603729           -2.431173            Yes   \n",
              "5              6.0 -5.629417  -5.629417           -2.416262            Yes   \n",
              "13            14.0 -5.822752  -3.651511           -2.430366            Yes   \n",
              "17            18.0 -9.068756  -1.285437           -2.437562            Yes   \n",
              "Average            -3.401122  -4.026091           -2.767340                  \n",
              "\n",
              "         AvgMaxAcqFuncApprox     Ratio GreaterRatio  \n",
              "7                  -2.444939  1.006205          Yes  \n",
              "14                 -8.532460  0.933389           No  \n",
              "2                  -2.437847  1.005377          Yes  \n",
              "16                 -2.434828  0.996735           No  \n",
              "6                  -2.436824  0.999225           No  \n",
              "3                  -2.439698  1.005074          Yes  \n",
              "11                 -2.435718  1.003746          Yes  \n",
              "15                 -2.440757  1.001131          Yes  \n",
              "10                 -2.436059  1.003743          Yes  \n",
              "4                  -2.441191   1.00165          Yes  \n",
              "18                 -2.442325  1.002811          Yes  \n",
              "19                 -2.441221  1.002181          Yes  \n",
              "12                 -2.444186  1.005504          Yes  \n",
              "0                  -2.433439  1.000668          Yes  \n",
              "1                  -2.435831  0.998918           No  \n",
              "8                  -2.443010   1.00732          Yes  \n",
              "9                  -2.440873   1.00399          Yes  \n",
              "5                  -2.437371  1.008736          Yes  \n",
              "13                 -2.435836  1.002251          Yes  \n",
              "17                 -2.443682  1.002511          Yes  \n",
              "Average            -2.743905                         "
            ],
            "text/html": [
              "\n",
              "  <div id=\"df-a4d544e1-9f28-476b-a38e-9a8f06b8eb01\">\n",
              "    <div class=\"colab-df-container\">\n",
              "      <div>\n",
              "<style scoped>\n",
              "    .dataframe tbody tr th:only-of-type {\n",
              "        vertical-align: middle;\n",
              "    }\n",
              "\n",
              "    .dataframe tbody tr th {\n",
              "        vertical-align: top;\n",
              "    }\n",
              "\n",
              "    .dataframe thead th {\n",
              "        text-align: right;\n",
              "    }\n",
              "</style>\n",
              "<table border=\"1\" class=\"dataframe\">\n",
              "  <thead>\n",
              "    <tr style=\"text-align: right;\">\n",
              "      <th></th>\n",
              "      <th>Experiment</th>\n",
              "      <th>ExactTau</th>\n",
              "      <th>ApproxTau</th>\n",
              "      <th>AvgMaxAcqFuncExact</th>\n",
              "      <th>GreaterAcqFunc</th>\n",
              "      <th>AvgMaxAcqFuncApprox</th>\n",
              "      <th>Ratio</th>\n",
              "      <th>GreaterRatio</th>\n",
              "    </tr>\n",
              "  </thead>\n",
              "  <tbody>\n",
              "    <tr>\n",
              "      <th>7</th>\n",
              "      <td>8.0</td>\n",
              "      <td>-0.579188</td>\n",
              "      <td>-0.579188</td>\n",
              "      <td>-2.429861</td>\n",
              "      <td>Yes</td>\n",
              "      <td>-2.444939</td>\n",
              "      <td>1.006205</td>\n",
              "      <td>Yes</td>\n",
              "    </tr>\n",
              "    <tr>\n",
              "      <th>14</th>\n",
              "      <td>15.0</td>\n",
              "      <td>-1.116101</td>\n",
              "      <td>-2.936087</td>\n",
              "      <td>-9.141372</td>\n",
              "      <td>No</td>\n",
              "      <td>-8.532460</td>\n",
              "      <td>0.933389</td>\n",
              "      <td>No</td>\n",
              "    </tr>\n",
              "    <tr>\n",
              "      <th>2</th>\n",
              "      <td>3.0</td>\n",
              "      <td>-1.355081</td>\n",
              "      <td>-1.494012</td>\n",
              "      <td>-2.424810</td>\n",
              "      <td>Yes</td>\n",
              "      <td>-2.437847</td>\n",
              "      <td>1.005377</td>\n",
              "      <td>Yes</td>\n",
              "    </tr>\n",
              "    <tr>\n",
              "      <th>16</th>\n",
              "      <td>17.0</td>\n",
              "      <td>-1.643633</td>\n",
              "      <td>-0.714095</td>\n",
              "      <td>-2.442803</td>\n",
              "      <td>No</td>\n",
              "      <td>-2.434828</td>\n",
              "      <td>0.996735</td>\n",
              "      <td>No</td>\n",
              "    </tr>\n",
              "    <tr>\n",
              "      <th>6</th>\n",
              "      <td>7.0</td>\n",
              "      <td>-1.680167</td>\n",
              "      <td>-1.130494</td>\n",
              "      <td>-2.438714</td>\n",
              "      <td>No</td>\n",
              "      <td>-2.436824</td>\n",
              "      <td>0.999225</td>\n",
              "      <td>No</td>\n",
              "    </tr>\n",
              "    <tr>\n",
              "      <th>3</th>\n",
              "      <td>4.0</td>\n",
              "      <td>-2.112431</td>\n",
              "      <td>-6.164093</td>\n",
              "      <td>-2.427381</td>\n",
              "      <td>Yes</td>\n",
              "      <td>-2.439698</td>\n",
              "      <td>1.005074</td>\n",
              "      <td>Yes</td>\n",
              "    </tr>\n",
              "    <tr>\n",
              "      <th>11</th>\n",
              "      <td>12.0</td>\n",
              "      <td>-2.334568</td>\n",
              "      <td>-2.332813</td>\n",
              "      <td>-2.426627</td>\n",
              "      <td>Yes</td>\n",
              "      <td>-2.435718</td>\n",
              "      <td>1.003746</td>\n",
              "      <td>Yes</td>\n",
              "    </tr>\n",
              "    <tr>\n",
              "      <th>15</th>\n",
              "      <td>16.0</td>\n",
              "      <td>-2.464122</td>\n",
              "      <td>-1.992605</td>\n",
              "      <td>-2.438000</td>\n",
              "      <td>Yes</td>\n",
              "      <td>-2.440757</td>\n",
              "      <td>1.001131</td>\n",
              "      <td>Yes</td>\n",
              "    </tr>\n",
              "    <tr>\n",
              "      <th>10</th>\n",
              "      <td>11.0</td>\n",
              "      <td>-2.716881</td>\n",
              "      <td>-2.716881</td>\n",
              "      <td>-2.426976</td>\n",
              "      <td>Yes</td>\n",
              "      <td>-2.436059</td>\n",
              "      <td>1.003743</td>\n",
              "      <td>Yes</td>\n",
              "    </tr>\n",
              "    <tr>\n",
              "      <th>4</th>\n",
              "      <td>5.0</td>\n",
              "      <td>-3.129654</td>\n",
              "      <td>-10.043073</td>\n",
              "      <td>-2.437168</td>\n",
              "      <td>Yes</td>\n",
              "      <td>-2.441191</td>\n",
              "      <td>1.00165</td>\n",
              "      <td>Yes</td>\n",
              "    </tr>\n",
              "    <tr>\n",
              "      <th>18</th>\n",
              "      <td>19.0</td>\n",
              "      <td>-3.439313</td>\n",
              "      <td>-10.574346</td>\n",
              "      <td>-2.435478</td>\n",
              "      <td>Yes</td>\n",
              "      <td>-2.442325</td>\n",
              "      <td>1.002811</td>\n",
              "      <td>Yes</td>\n",
              "    </tr>\n",
              "    <tr>\n",
              "      <th>19</th>\n",
              "      <td>20.0</td>\n",
              "      <td>-3.599182</td>\n",
              "      <td>-6.161450</td>\n",
              "      <td>-2.435908</td>\n",
              "      <td>Yes</td>\n",
              "      <td>-2.441221</td>\n",
              "      <td>1.002181</td>\n",
              "      <td>Yes</td>\n",
              "    </tr>\n",
              "    <tr>\n",
              "      <th>12</th>\n",
              "      <td>13.0</td>\n",
              "      <td>-3.870818</td>\n",
              "      <td>-6.104163</td>\n",
              "      <td>-2.430807</td>\n",
              "      <td>Yes</td>\n",
              "      <td>-2.444186</td>\n",
              "      <td>1.005504</td>\n",
              "      <td>Yes</td>\n",
              "    </tr>\n",
              "    <tr>\n",
              "      <th>0</th>\n",
              "      <td>1.0</td>\n",
              "      <td>-3.989367</td>\n",
              "      <td>-5.468173</td>\n",
              "      <td>-2.431815</td>\n",
              "      <td>Yes</td>\n",
              "      <td>-2.433439</td>\n",
              "      <td>1.000668</td>\n",
              "      <td>Yes</td>\n",
              "    </tr>\n",
              "    <tr>\n",
              "      <th>1</th>\n",
              "      <td>2.0</td>\n",
              "      <td>-4.333099</td>\n",
              "      <td>-4.333099</td>\n",
              "      <td>-2.438470</td>\n",
              "      <td>No</td>\n",
              "      <td>-2.435831</td>\n",
              "      <td>0.998918</td>\n",
              "      <td>No</td>\n",
              "    </tr>\n",
              "    <tr>\n",
              "      <th>8</th>\n",
              "      <td>9.0</td>\n",
              "      <td>-4.534177</td>\n",
              "      <td>-2.607150</td>\n",
              "      <td>-2.425257</td>\n",
              "      <td>Yes</td>\n",
              "      <td>-2.443010</td>\n",
              "      <td>1.00732</td>\n",
              "      <td>Yes</td>\n",
              "    </tr>\n",
              "    <tr>\n",
              "      <th>9</th>\n",
              "      <td>10.0</td>\n",
              "      <td>-4.603729</td>\n",
              "      <td>-4.603729</td>\n",
              "      <td>-2.431173</td>\n",
              "      <td>Yes</td>\n",
              "      <td>-2.440873</td>\n",
              "      <td>1.00399</td>\n",
              "      <td>Yes</td>\n",
              "    </tr>\n",
              "    <tr>\n",
              "      <th>5</th>\n",
              "      <td>6.0</td>\n",
              "      <td>-5.629417</td>\n",
              "      <td>-5.629417</td>\n",
              "      <td>-2.416262</td>\n",
              "      <td>Yes</td>\n",
              "      <td>-2.437371</td>\n",
              "      <td>1.008736</td>\n",
              "      <td>Yes</td>\n",
              "    </tr>\n",
              "    <tr>\n",
              "      <th>13</th>\n",
              "      <td>14.0</td>\n",
              "      <td>-5.822752</td>\n",
              "      <td>-3.651511</td>\n",
              "      <td>-2.430366</td>\n",
              "      <td>Yes</td>\n",
              "      <td>-2.435836</td>\n",
              "      <td>1.002251</td>\n",
              "      <td>Yes</td>\n",
              "    </tr>\n",
              "    <tr>\n",
              "      <th>17</th>\n",
              "      <td>18.0</td>\n",
              "      <td>-9.068756</td>\n",
              "      <td>-1.285437</td>\n",
              "      <td>-2.437562</td>\n",
              "      <td>Yes</td>\n",
              "      <td>-2.443682</td>\n",
              "      <td>1.002511</td>\n",
              "      <td>Yes</td>\n",
              "    </tr>\n",
              "    <tr>\n",
              "      <th>Average</th>\n",
              "      <td></td>\n",
              "      <td>-3.401122</td>\n",
              "      <td>-4.026091</td>\n",
              "      <td>-2.767340</td>\n",
              "      <td></td>\n",
              "      <td>-2.743905</td>\n",
              "      <td></td>\n",
              "      <td></td>\n",
              "    </tr>\n",
              "  </tbody>\n",
              "</table>\n",
              "</div>\n",
              "      <button class=\"colab-df-convert\" onclick=\"convertToInteractive('df-a4d544e1-9f28-476b-a38e-9a8f06b8eb01')\"\n",
              "              title=\"Convert this dataframe to an interactive table.\"\n",
              "              style=\"display:none;\">\n",
              "        \n",
              "  <svg xmlns=\"http://www.w3.org/2000/svg\" height=\"24px\"viewBox=\"0 0 24 24\"\n",
              "       width=\"24px\">\n",
              "    <path d=\"M0 0h24v24H0V0z\" fill=\"none\"/>\n",
              "    <path d=\"M18.56 5.44l.94 2.06.94-2.06 2.06-.94-2.06-.94-.94-2.06-.94 2.06-2.06.94zm-11 1L8.5 8.5l.94-2.06 2.06-.94-2.06-.94L8.5 2.5l-.94 2.06-2.06.94zm10 10l.94 2.06.94-2.06 2.06-.94-2.06-.94-.94-2.06-.94 2.06-2.06.94z\"/><path d=\"M17.41 7.96l-1.37-1.37c-.4-.4-.92-.59-1.43-.59-.52 0-1.04.2-1.43.59L10.3 9.45l-7.72 7.72c-.78.78-.78 2.05 0 2.83L4 21.41c.39.39.9.59 1.41.59.51 0 1.02-.2 1.41-.59l7.78-7.78 2.81-2.81c.8-.78.8-2.07 0-2.86zM5.41 20L4 18.59l7.72-7.72 1.47 1.35L5.41 20z\"/>\n",
              "  </svg>\n",
              "      </button>\n",
              "      \n",
              "  <style>\n",
              "    .colab-df-container {\n",
              "      display:flex;\n",
              "      flex-wrap:wrap;\n",
              "      gap: 12px;\n",
              "    }\n",
              "\n",
              "    .colab-df-convert {\n",
              "      background-color: #E8F0FE;\n",
              "      border: none;\n",
              "      border-radius: 50%;\n",
              "      cursor: pointer;\n",
              "      display: none;\n",
              "      fill: #1967D2;\n",
              "      height: 32px;\n",
              "      padding: 0 0 0 0;\n",
              "      width: 32px;\n",
              "    }\n",
              "\n",
              "    .colab-df-convert:hover {\n",
              "      background-color: #E2EBFA;\n",
              "      box-shadow: 0px 1px 2px rgba(60, 64, 67, 0.3), 0px 1px 3px 1px rgba(60, 64, 67, 0.15);\n",
              "      fill: #174EA6;\n",
              "    }\n",
              "\n",
              "    [theme=dark] .colab-df-convert {\n",
              "      background-color: #3B4455;\n",
              "      fill: #D2E3FC;\n",
              "    }\n",
              "\n",
              "    [theme=dark] .colab-df-convert:hover {\n",
              "      background-color: #434B5C;\n",
              "      box-shadow: 0px 1px 3px 1px rgba(0, 0, 0, 0.15);\n",
              "      filter: drop-shadow(0px 1px 2px rgba(0, 0, 0, 0.3));\n",
              "      fill: #FFFFFF;\n",
              "    }\n",
              "  </style>\n",
              "\n",
              "      <script>\n",
              "        const buttonEl =\n",
              "          document.querySelector('#df-a4d544e1-9f28-476b-a38e-9a8f06b8eb01 button.colab-df-convert');\n",
              "        buttonEl.style.display =\n",
              "          google.colab.kernel.accessAllowed ? 'block' : 'none';\n",
              "\n",
              "        async function convertToInteractive(key) {\n",
              "          const element = document.querySelector('#df-a4d544e1-9f28-476b-a38e-9a8f06b8eb01');\n",
              "          const dataTable =\n",
              "            await google.colab.kernel.invokeFunction('convertToInteractive',\n",
              "                                                     [key], {});\n",
              "          if (!dataTable) return;\n",
              "\n",
              "          const docLinkHtml = 'Like what you see? Visit the ' +\n",
              "            '<a target=\"_blank\" href=https://colab.research.google.com/notebooks/data_table.ipynb>data table notebook</a>'\n",
              "            + ' to learn more about interactive tables.';\n",
              "          element.innerHTML = '';\n",
              "          dataTable['output_type'] = 'display_data';\n",
              "          await google.colab.output.renderOutput(dataTable, element);\n",
              "          const docLink = document.createElement('div');\n",
              "          docLink.innerHTML = docLinkHtml;\n",
              "          element.appendChild(docLink);\n",
              "        }\n",
              "      </script>\n",
              "    </div>\n",
              "  </div>\n",
              "  "
            ]
          },
          "metadata": {},
          "execution_count": 138
        }
      ]
    },
    {
      "cell_type": "code",
      "source": [
        "print('Ratio of Average ExactTau to Average ApproxTau:', np.round(avg[1]/avg[0], 5))\n",
        "print('Ratio of Average AvgMaxAcqFuncExact to Average AvgMaxAcqFuncApprox:', np.round(avg[3]/avg[2], 5))\n",
        "print('Number of experiments where AvgMaxAcqFuncExact exceeds AvgMaxAcqFuncApprox:', df['GreaterAcqFunc'].value_counts()['Yes'])\n",
        "print('Number of experiments where Ratio exceeds 1.0:', df['GreaterRatio'].value_counts()['Yes'])\n"
      ],
      "metadata": {
        "id": "u7PPphIXeKUz",
        "colab": {
          "base_uri": "https://localhost:8080/"
        },
        "outputId": "46c5f60e-9e00-46cf-e911-40fdb9255526"
      },
      "execution_count": 139,
      "outputs": [
        {
          "output_type": "stream",
          "name": "stdout",
          "text": [
            "Ratio of Average ExactTau to Average ApproxTau: 1.18375\n",
            "Ratio of Average AvgMaxAcqFuncExact to Average AvgMaxAcqFuncApprox: 0.99153\n",
            "Number of experiments where AvgMaxAcqFuncExact exceeds AvgMaxAcqFuncApprox: 16\n",
            "Number of experiments where Ratio exceeds 1.0: 16\n"
          ]
        }
      ]
    },
    {
      "cell_type": "code",
      "source": [
        ""
      ],
      "metadata": {
        "id": "2GmXuB8wsCOS"
      },
      "execution_count": 139,
      "outputs": []
    }
  ]
}