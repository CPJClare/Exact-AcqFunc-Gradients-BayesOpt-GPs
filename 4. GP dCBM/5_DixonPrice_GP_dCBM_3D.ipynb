{
  "nbformat": 4,
  "nbformat_minor": 0,
  "metadata": {
    "colab": {
      "name": "5. DixonPrice_GP_dCBM_3D.ipynb",
      "provenance": [],
      "collapsed_sections": []
    },
    "kernelspec": {
      "name": "python3",
      "display_name": "Python 3"
    },
    "language_info": {
      "name": "python"
    }
  },
  "cells": [
    {
      "cell_type": "markdown",
      "metadata": {
        "id": "Dqn4dFx7Z2Ir"
      },
      "source": [
        "\n",
        "DixonPrice: 3D\n"
      ]
    },
    {
      "cell_type": "code",
      "metadata": {
        "id": "MJTM_GZZZb5x",
        "colab": {
          "base_uri": "https://localhost:8080/"
        },
        "outputId": "656cbafd-c7d1-4d76-e7ef-a5c78678a31f"
      },
      "source": [
        "pip install pyGPGO\n"
      ],
      "execution_count": 1,
      "outputs": [
        {
          "output_type": "stream",
          "name": "stdout",
          "text": [
            "Collecting pyGPGO\n",
            "  Downloading pyGPGO-0.5.1.tar.gz (14 kB)\n",
            "Requirement already satisfied: numpy in /usr/local/lib/python3.7/dist-packages (from pyGPGO) (1.21.5)\n",
            "Requirement already satisfied: mkl in /usr/local/lib/python3.7/dist-packages (from pyGPGO) (2019.0)\n",
            "Requirement already satisfied: scipy in /usr/local/lib/python3.7/dist-packages (from pyGPGO) (1.4.1)\n",
            "Requirement already satisfied: joblib in /usr/local/lib/python3.7/dist-packages (from pyGPGO) (1.1.0)\n",
            "Requirement already satisfied: scikit-learn in /usr/local/lib/python3.7/dist-packages (from pyGPGO) (1.0.2)\n",
            "Requirement already satisfied: Theano-PyMC in /usr/local/lib/python3.7/dist-packages (from pyGPGO) (1.1.2)\n",
            "Requirement already satisfied: pyMC3 in /usr/local/lib/python3.7/dist-packages (from pyGPGO) (3.11.4)\n",
            "Requirement already satisfied: intel-openmp in /usr/local/lib/python3.7/dist-packages (from mkl->pyGPGO) (2022.0.2)\n",
            "Requirement already satisfied: cachetools>=4.2.1 in /usr/local/lib/python3.7/dist-packages (from pyMC3->pyGPGO) (4.2.4)\n",
            "Requirement already satisfied: pandas>=0.24.0 in /usr/local/lib/python3.7/dist-packages (from pyMC3->pyGPGO) (1.3.5)\n",
            "Requirement already satisfied: typing-extensions>=3.7.4 in /usr/local/lib/python3.7/dist-packages (from pyMC3->pyGPGO) (3.10.0.2)\n",
            "Requirement already satisfied: fastprogress>=0.2.0 in /usr/local/lib/python3.7/dist-packages (from pyMC3->pyGPGO) (1.0.2)\n",
            "Requirement already satisfied: dill in /usr/local/lib/python3.7/dist-packages (from pyMC3->pyGPGO) (0.3.4)\n",
            "Requirement already satisfied: arviz>=0.11.0 in /usr/local/lib/python3.7/dist-packages (from pyMC3->pyGPGO) (0.11.4)\n",
            "Requirement already satisfied: patsy>=0.5.1 in /usr/local/lib/python3.7/dist-packages (from pyMC3->pyGPGO) (0.5.2)\n",
            "Requirement already satisfied: semver>=2.13.0 in /usr/local/lib/python3.7/dist-packages (from pyMC3->pyGPGO) (2.13.0)\n",
            "Requirement already satisfied: filelock in /usr/local/lib/python3.7/dist-packages (from Theano-PyMC->pyGPGO) (3.6.0)\n",
            "Requirement already satisfied: xarray>=0.16.1 in /usr/local/lib/python3.7/dist-packages (from arviz>=0.11.0->pyMC3->pyGPGO) (0.18.2)\n",
            "Requirement already satisfied: netcdf4 in /usr/local/lib/python3.7/dist-packages (from arviz>=0.11.0->pyMC3->pyGPGO) (1.5.8)\n",
            "Requirement already satisfied: matplotlib>=3.0 in /usr/local/lib/python3.7/dist-packages (from arviz>=0.11.0->pyMC3->pyGPGO) (3.2.2)\n",
            "Requirement already satisfied: packaging in /usr/local/lib/python3.7/dist-packages (from arviz>=0.11.0->pyMC3->pyGPGO) (21.3)\n",
            "Requirement already satisfied: setuptools>=38.4 in /usr/local/lib/python3.7/dist-packages (from arviz>=0.11.0->pyMC3->pyGPGO) (57.4.0)\n",
            "Requirement already satisfied: kiwisolver>=1.0.1 in /usr/local/lib/python3.7/dist-packages (from matplotlib>=3.0->arviz>=0.11.0->pyMC3->pyGPGO) (1.3.2)\n",
            "Requirement already satisfied: cycler>=0.10 in /usr/local/lib/python3.7/dist-packages (from matplotlib>=3.0->arviz>=0.11.0->pyMC3->pyGPGO) (0.11.0)\n",
            "Requirement already satisfied: python-dateutil>=2.1 in /usr/local/lib/python3.7/dist-packages (from matplotlib>=3.0->arviz>=0.11.0->pyMC3->pyGPGO) (2.8.2)\n",
            "Requirement already satisfied: pyparsing!=2.0.4,!=2.1.2,!=2.1.6,>=2.0.1 in /usr/local/lib/python3.7/dist-packages (from matplotlib>=3.0->arviz>=0.11.0->pyMC3->pyGPGO) (3.0.7)\n",
            "Requirement already satisfied: pytz>=2017.3 in /usr/local/lib/python3.7/dist-packages (from pandas>=0.24.0->pyMC3->pyGPGO) (2018.9)\n",
            "Requirement already satisfied: six in /usr/local/lib/python3.7/dist-packages (from patsy>=0.5.1->pyMC3->pyGPGO) (1.15.0)\n",
            "Requirement already satisfied: cftime in /usr/local/lib/python3.7/dist-packages (from netcdf4->arviz>=0.11.0->pyMC3->pyGPGO) (1.5.2)\n",
            "Requirement already satisfied: threadpoolctl>=2.0.0 in /usr/local/lib/python3.7/dist-packages (from scikit-learn->pyGPGO) (3.1.0)\n",
            "Building wheels for collected packages: pyGPGO\n",
            "  Building wheel for pyGPGO (setup.py) ... \u001b[?25l\u001b[?25hdone\n",
            "  Created wheel for pyGPGO: filename=pyGPGO-0.5.1-py3-none-any.whl size=19879 sha256=ffef06e2103344470d0a07145de411350eb8161c3a17e93478376d051dd7b77d\n",
            "  Stored in directory: /root/.cache/pip/wheels/c8/5d/0b/2160114e2f1b87791c51b66cf07f89831dbb6f49167950316f\n",
            "Successfully built pyGPGO\n",
            "Installing collected packages: pyGPGO\n",
            "Successfully installed pyGPGO-0.5.1\n"
          ]
        }
      ]
    },
    {
      "cell_type": "code",
      "metadata": {
        "id": "ZJSSPbwPaEUB"
      },
      "source": [
        "### Import:\n",
        "\n",
        "import numpy as np\n",
        "import scipy as sp\n",
        "import pandas as pd\n",
        "import matplotlib.pyplot as plt\n",
        "import warnings\n",
        "import itertools\n",
        "\n",
        "from pyGPGO.GPGO import GPGO\n",
        "from pyGPGO.surrogates.GaussianProcess import GaussianProcess\n",
        "from pyGPGO.acquisition import Acquisition\n",
        "from pyGPGO.covfunc import squaredExponential\n",
        "\n",
        "from joblib import Parallel, delayed\n",
        "from numpy.linalg import solve, cholesky\n",
        "from scipy.spatial.distance import cdist\n",
        "from scipy.optimize import minimize\n",
        "from scipy.stats import norm\n",
        "import time\n",
        "\n",
        "warnings.filterwarnings(\"ignore\", category=RuntimeWarning)\n"
      ],
      "execution_count": 2,
      "outputs": []
    },
    {
      "cell_type": "code",
      "metadata": {
        "id": "OeYcTUNoaJWa"
      },
      "source": [
        "### Inputs:\n",
        "\n",
        "func = 'DixonPrice'\n",
        "Beta_CBM = 1.5 # Default UCB Acquisition function parameter in pyGPGO https://github.com/josejimenezluna/pyGPGO/blob/master/pyGPGO/acquisition.py#L83\n",
        "n_test = 500\n",
        "eps = 1e-08\n",
        "\n",
        "util_grad_exact = 'dCBM_GP'\n",
        "util_grad_approx = 'CBM'\n",
        "\n",
        "n_init = 5 # random initialisations\n",
        "iters = 30\n",
        "opt = True"
      ],
      "execution_count": 3,
      "outputs": []
    },
    {
      "cell_type": "code",
      "metadata": {
        "id": "xpaEOjdzaPMS"
      },
      "source": [
        "### Objective Function - DixonPrice(x) 3-D:\n",
        "\n",
        "def objfunc(x1_training, x2_training, x3_training):\n",
        "            return  operator * ((x1_training - 1)**2\n",
        "                            + 2 * (2 * x2_training ** 2 - x1_training)**2\n",
        "                            + 3 * (2 * x3_training ** 2 - x2_training)**2      \n",
        "                           )\n",
        "        \n",
        "# Constraints:\n",
        "lb = -10\n",
        "ub = +10\n",
        "    \n",
        "# Input array dimension(s):\n",
        "dim = 3\n",
        "\n",
        "# 3-D inputs' parameter bounds:\n",
        "param = {'x1_training': ('cont', [lb, ub]),\n",
        "                 'x2_training': ('cont', [lb, ub]),\n",
        "                'x3_training': ('cont', [lb, ub])\n",
        "                 }\n",
        "    \n",
        "# True y bounds:\n",
        "y_lb = 0\n",
        "operator = -1 # targets global minimum \n",
        "y_global_orig = y_lb * operator # targets global minimum\n",
        "    \n",
        "# Test data:\n",
        "x1_test = np.linspace(lb, ub, n_test)\n",
        "x2_test = np.linspace(lb, ub, n_test)\n",
        "x3_test = np.linspace(lb, ub, n_test)\n",
        "Xstar = np.column_stack((x1_test, x2_test, x3_test))\n"
      ],
      "execution_count": 4,
      "outputs": []
    },
    {
      "cell_type": "code",
      "metadata": {
        "id": "eYpI3Zm4aGxi"
      },
      "source": [
        "n_start_AcqFunc = iters #multi-start iterations to avoid local optima in AcqFunc optimization\n"
      ],
      "execution_count": 5,
      "outputs": []
    },
    {
      "cell_type": "code",
      "metadata": {
        "id": "oO_GUmOoaV0T"
      },
      "source": [
        "### Cumulative Regret Calculator:\n",
        "\n",
        "def min_max_array(x):\n",
        "    new_list = []\n",
        "    for i, num in enumerate(x):\n",
        "            new_list.append(np.min(x[0:i+1]))\n",
        "    return new_list\n",
        "  "
      ],
      "execution_count": 6,
      "outputs": []
    },
    {
      "cell_type": "code",
      "metadata": {
        "id": "kuuJx0IMam9S"
      },
      "source": [
        "### Surrogate derivatives: \n",
        "\n",
        "cov_func = squaredExponential()\n",
        "\n",
        "def kronDelta(X, Xstar):                     # Kronecker's Delta method\n",
        "    return cdist(X, Xstar) < np.finfo(np.float32).eps\n",
        "\n",
        "def se(X, Xstar, sigmaf, l, sigman):         # S.E. kernel method\n",
        "    return sigmaf * np.exp(-0.5 * cdist(X, Xstar) ** 2 / l ** 2) + sigman * kronDelta(X, Xstar)\n",
        "\n",
        "def delta(X, Xstar):                         # Distance between training X and test Xstar vectors\n",
        "    return (X - Xstar)\n",
        "   \n",
        "def der_covmat(X, Xstar, sigmaf, l, sigman): # Covariance matrix derivative terms (i.e. exact, first-order)\n",
        "    nx = len(X)\n",
        "    ny = len(Xstar)\n",
        "    return np.round(np.array([(delta(np.atleast_2d(i), np.atleast_2d(j))[0] * se(np.atleast_2d(i), np.atleast_2d(j), sigmaf, l, sigman)[0]).sum() for (i, j) in itertools.product(X, Xstar)]).reshape(nx, ny), 8)\n",
        "\n",
        "class dGaussianProcess(GaussianProcess):    # Via inheritance, also optimises hyperparameters when opt = TRUE\n",
        "    \n",
        "    def AcqGrad(self, Xstar):               # Method returning exact, first-order derivatives of the GP's posterior mean and standard deviation\n",
        "        Xstar = np.atleast_2d(Xstar)\n",
        "        Kstar = self.covfunc.K(self.X, Xstar).T\n",
        "        \n",
        "        dKstar = der_covmat(self.X, Xstar, self.covfunc.sigmaf, self.covfunc.l, self.covfunc.sigman).T\n",
        "        alpha_Kstar = np.dot(np.linalg.inv(self.K + (self.covfunc.sigman**2) * np.eye(len(self.X))), Kstar.T)\n",
        "        \n",
        "        dm = np.dot(dKstar, self.alpha)\n",
        "        ds = -2 * np.dot(dKstar, alpha_Kstar)\n",
        "        \n",
        "        return dm, ds           \n",
        "        "
      ],
      "execution_count": 7,
      "outputs": []
    },
    {
      "cell_type": "code",
      "metadata": {
        "id": "_Dc3YVHVaXz7"
      },
      "source": [
        "class Acquisition_new(Acquisition):    \n",
        "    def __init__(self, mode, eps=eps, **params):\n",
        "        \n",
        "        self.params = params\n",
        "        self.eps = eps\n",
        "\n",
        "        mode_dict = {\n",
        "            'CBM': self.CBM,\n",
        "            'dCBM_GP': self.dCBM_GP\n",
        "        }\n",
        "\n",
        "        self.f = mode_dict[mode]\n",
        "\n",
        "    def CBM(self, tau, mean, std):\n",
        "        z = (mean - y_global_orig - self.eps) / (std + self.eps)\n",
        "        return (std + self.eps) * (z + np.sqrt(Beta_CBM))\n",
        "\n",
        "    def dCBM_GP(self, tau, mean, std, ds, dm):\n",
        "        gamma = (mean - y_global_orig - self.eps) / (std + self.eps)\n",
        "        gamma_h = (mean - tau) / (std + self.eps)\n",
        "        dsdx = ds / (2 * (std + self.eps))\n",
        "        dmdx = (dm - gamma * dsdx) / (std + self.eps)\n",
        "\n",
        "        f = (std + self.eps) * (gamma + np.sqrt(Beta_CBM))\n",
        "        df = dsdx * (gamma + np.sqrt(Beta_CBM)) + (std + self.eps) * dmdx\n",
        "        df_arr = []\n",
        "\n",
        "        for j in range(0, dim):\n",
        "          df_arr.append(df)\n",
        "        return f, np.asarray(df_arr).transpose()\n",
        "        \n",
        "    def d_eval(self, tau, mean, std, ds, dm):\n",
        "    \n",
        "        return self.f(tau, mean, std, ds, dm, **self.params)\n",
        "        "
      ],
      "execution_count": 8,
      "outputs": []
    },
    {
      "cell_type": "code",
      "metadata": {
        "id": "PITEQC8YSl7i"
      },
      "source": [
        "## GPGO_multi: \n",
        "\n",
        "class GPGO_multi(GPGO):\n",
        "    n_start = n_start_AcqFunc\n",
        "\n",
        "    def __init__(self, surrogate, acquisition, f, parameter_dict, n_jobs=1):\n",
        "        self.GP = surrogate\n",
        "        self.A = acquisition\n",
        "        self.f = f\n",
        "        self.parameters = parameter_dict\n",
        "        self.n_jobs = n_jobs\n",
        "\n",
        "        self.parameter_key = list(parameter_dict.keys())\n",
        "        self.parameter_value = list(parameter_dict.values())\n",
        "        self.parameter_type = [p[0] for p in self.parameter_value]\n",
        "        self.parameter_range = [p[1] for p in self.parameter_value]\n",
        "\n",
        "        self.history = []\n",
        "        self.header =   'Evaluation \\t Proposed point \\t  Current eval. \\t  Best eval. \\t         Max AcqFunc.'\n",
        "        self.template = '{:3}\\t {}\\t {:3}\\t {:3}\\t {:3}'\n",
        "\n",
        "    def _optimizeAcq(self, method='L-BFGS-B', n_start=n_start_AcqFunc):\n",
        "        \n",
        "        start_points_dict = [self._sampleParam() for i in range(n_start)]\n",
        "        start_points_arr = np.array([list(s.values())\n",
        "                                     for s in start_points_dict])\n",
        "        x_best = np.empty((n_start, len(self.parameter_key)))\n",
        "        f_best = np.empty((n_start,))\n",
        "        opt = Parallel(n_jobs=self.n_jobs)(delayed(minimize)(self._acqWrapper,\n",
        "                                                                 x0=start_point,\n",
        "                                                                 method=method,\n",
        "                                                                 bounds=self.parameter_range) for start_point in\n",
        "                                               start_points_arr)\n",
        "        x_best = np.array([res.x for res in opt])\n",
        "        f_best = np.array([np.atleast_1d(res.fun)[0] for res in opt])\n",
        "        f_best_min = min(f_best)\n",
        "\n",
        "        self.x_best = x_best\n",
        "        self.f_best = f_best\n",
        "        self.f_best_min = f_best_min\n",
        "        self.best = x_best[np.argmin(f_best)]\n",
        "        self.start_points_arr = start_points_arr\n",
        "        \n",
        "        self.history.append(self.f_best_min)\n",
        "          \n",
        "    def _printInit(self):\n",
        "        print(self.header)\n",
        "        for init_eval in range(self.init_evals):\n",
        "            print(self.template.format('init', self.GP.X[init_eval], self.GP.y[init_eval], self.tau, ''))\n",
        "      \n",
        "    def _printCurrent(self):\n",
        "        OKGREEN = '\\033[92m'\n",
        "        ENDC = '\\033[0m'\n",
        "        BOLD = '\\033[1m'\n",
        "        eval = str(len(self.GP.y) - self.init_evals)\n",
        "        proposed = str(self.best)\n",
        "        curr_eval = str(self.GP.y[-1])\n",
        "        curr_best = str(self.tau)\n",
        "        max_acqfunc = str(self.f_best_min)\n",
        "        if float(curr_eval) >= float(curr_best):\n",
        "            eval = BOLD + OKGREEN + eval + ENDC\n",
        "            proposed = BOLD + OKGREEN + proposed + ENDC\n",
        "            curr_eval = BOLD + OKGREEN + curr_eval + ENDC\n",
        "            curr_best = BOLD + OKGREEN + curr_best + ENDC\n",
        "            max_acqfunc = BOLD + OKGREEN + str(self.f_best_min) + ENDC\n",
        "        print(self.template.format(eval, proposed, curr_eval, curr_best, max_acqfunc))\n",
        "\n",
        "    def run(self, max_iter=10, init_evals=3, resume=False):\n",
        "        \n",
        "        if not resume:\n",
        "            self.init_evals = init_evals\n",
        "            self._firstRun(self.init_evals)\n",
        "            self._printInit()\n",
        "        for iteration in range(max_iter):\n",
        "            self._optimizeAcq()\n",
        "            self.updateGP()\n",
        "            self._printCurrent()\n"
      ],
      "execution_count": 9,
      "outputs": []
    },
    {
      "cell_type": "code",
      "metadata": {
        "id": "b_B-w81BJxKN"
      },
      "source": [
        "## dGPGO:\n",
        "\n",
        "grad = 1\n",
        "\n",
        "class dGPGO(GPGO):\n",
        "    n_start = n_start_AcqFunc\n",
        "\n",
        "    def __init__(self, surrogate, acquisition, f, parameter_dict, n_jobs=1):\n",
        "        self.GP = surrogate\n",
        "        self.A = acquisition\n",
        "        self.f = f\n",
        "        self.parameters = parameter_dict\n",
        "        self.n_jobs = n_jobs\n",
        "\n",
        "        self.parameter_key = list(parameter_dict.keys())\n",
        "        self.parameter_value = list(parameter_dict.values())\n",
        "        self.parameter_type = [p[0] for p in self.parameter_value]\n",
        "        self.parameter_range = [p[1] for p in self.parameter_value]\n",
        "\n",
        "        self.history = []\n",
        "        self.header =   'Evaluation \\t Proposed point \\t  Current eval. \\t  Best eval. \\t         Max AcqFunc.'\n",
        "        self.template = '{:3}\\t {}\\t {:3}\\t {:3}\\t {:3}'\n",
        "\n",
        "    def d_optimizeAcq(self, method='L-BFGS-B', n_start=n_start_AcqFunc):\n",
        "        start_points_dict = [self._sampleParam() for i in range(n_start)]\n",
        "        start_points_arr = np.array([list(s.values())\n",
        "                                     for s in start_points_dict])\n",
        "        x_best = np.empty((n_start, len(self.parameter_key)))\n",
        "        f_best = np.empty((n_start,))\n",
        "        opt = Parallel(n_jobs=self.n_jobs)(delayed(minimize)(self.acqfunc,\n",
        "                                                                 x0=start_point,\n",
        "                                                                 method=method,\n",
        "                                                                 jac = True,\n",
        "                                                                 bounds=self.parameter_range) for start_point in\n",
        "                                               start_points_arr)\n",
        "        x_best = np.array([res.x for res in opt])\n",
        "        f_best = np.array([np.atleast_1d(res.fun)[0] for res in opt])\n",
        "        f_best_min = min(f_best)\n",
        "\n",
        "        self.x_best = x_best\n",
        "        self.f_best = f_best\n",
        "        self.f_best_min = f_best_min\n",
        "        self.best = x_best[np.argmin(f_best)]\n",
        "        self.start_points_arr = start_points_arr\n",
        "\n",
        "        self.history.append(self.f_best_min)\n",
        "\n",
        "    def _printInit(self):\n",
        "        print(self.header)\n",
        "        for init_eval in range(self.init_evals):\n",
        "            print(self.template.format('init', self.GP.X[init_eval], self.GP.y[init_eval], self.tau, ''))\n",
        "      \n",
        "    def _printCurrent(self):\n",
        "        OKGREEN = '\\033[92m'\n",
        "        ENDC = '\\033[0m'\n",
        "        BOLD = '\\033[1m'\n",
        "        eval = str(len(self.GP.y) - self.init_evals)\n",
        "        proposed = str(self.best)\n",
        "        curr_eval = str(self.GP.y[-1])\n",
        "        curr_best = str(self.tau)\n",
        "        max_acqfunc = str(self.f_best_min)\n",
        "        if float(curr_eval) >= float(curr_best):\n",
        "            eval = BOLD + OKGREEN + eval + ENDC\n",
        "            proposed = BOLD + OKGREEN + proposed + ENDC\n",
        "            curr_eval = BOLD + OKGREEN + curr_eval + ENDC\n",
        "            curr_best = BOLD + OKGREEN + curr_best + ENDC\n",
        "            max_acqfunc = BOLD + OKGREEN + str(self.f_best_min) + ENDC\n",
        "        print(self.template.format(eval, proposed, curr_eval, curr_best, max_acqfunc))\n",
        "\n",
        "    def run(self, max_iter=10, init_evals=3, resume=False):\n",
        "        \n",
        "        if not resume:\n",
        "            self.init_evals = init_evals\n",
        "            self._firstRun(self.init_evals)\n",
        "            self._printInit()\n",
        "        for iteration in range(max_iter):\n",
        "            self.d_optimizeAcq()\n",
        "            self.updateGP()\n",
        "            self._printCurrent()\n",
        "\n",
        "    def acqfunc(self, xnew, n_start=n_start_AcqFunc):\n",
        "        new_mean, new_var = self.GP.predict(xnew, return_std=True)\n",
        "        new_std = np.sqrt(new_var + eps)\n",
        "        dm, ds = self.GP.AcqGrad(xnew)\n",
        "        f, df = self.A.d_eval(self.tau, new_mean, new_std, ds=ds, dm=dm)\n",
        "\n",
        "        return -f, -df * grad\n"
      ],
      "execution_count": 10,
      "outputs": []
    },
    {
      "cell_type": "code",
      "metadata": {
        "id": "qXIKGuXVGEg2"
      },
      "source": [
        "###Reproducible set-seeds:\n",
        "\n",
        "run_num_1 = 1\n",
        "run_num_2 = 2\n",
        "run_num_3 = 3\n",
        "run_num_4 = 4\n",
        "run_num_5 = 5\n",
        "run_num_6 = 6\n",
        "run_num_7 = 7\n",
        "run_num_8 = 8\n",
        "run_num_9 = 9\n",
        "run_num_10 = 10\n",
        "run_num_11 = 11\n",
        "run_num_12 = 12\n",
        "run_num_13 = 13\n",
        "run_num_14 = 14\n",
        "run_num_15 = 15\n",
        "run_num_16 = 16\n",
        "run_num_17 = 17\n",
        "run_num_18 = 18\n",
        "run_num_19 = 19\n",
        "run_num_20 = 20\n"
      ],
      "execution_count": 11,
      "outputs": []
    },
    {
      "cell_type": "code",
      "metadata": {
        "colab": {
          "base_uri": "https://localhost:8080/"
        },
        "id": "JEhagQmnTVIK",
        "outputId": "64b6348b-d683-4c3c-b631-2f5bd3150ed0"
      },
      "source": [
        "start_approx = time.time()\n",
        "start_approx\n"
      ],
      "execution_count": 12,
      "outputs": [
        {
          "output_type": "execute_result",
          "data": {
            "text/plain": [
              "1646051210.089931"
            ]
          },
          "metadata": {},
          "execution_count": 12
        }
      ]
    },
    {
      "cell_type": "code",
      "metadata": {
        "colab": {
          "base_uri": "https://localhost:8080/"
        },
        "id": "aH0YSTXufD1v",
        "outputId": "760e3c08-74c1-44d9-de3e-fc392a53c51f"
      },
      "source": [
        "### ESTIMATED GP CBM GRADIENTS\n",
        "\n",
        "np.random.seed(run_num_1)\n",
        "surrogate_approx_1 = GaussianProcess(cov_func, optimize=opt)\n",
        "\n",
        "approx_1 = GPGO_multi(surrogate_approx_1, Acquisition_new(util_grad_approx), objfunc, param)\n",
        "approx_1.run(init_evals=n_init, max_iter=iters)\n"
      ],
      "execution_count": 13,
      "outputs": [
        {
          "output_type": "stream",
          "name": "stdout",
          "text": [
            "Evaluation \t Proposed point \t  Current eval. \t  Best eval. \t         Max AcqFunc.\n",
            "init\t [-1.65955991  4.40648987 -9.9977125 ]\t -117949.69994259246\t -1743.4541121077734\t    \n",
            "init\t [-3.95334855 -7.06488218 -8.1532281 ]\t -80377.19459880023\t -1743.4541121077734\t    \n",
            "init\t [-6.27479577 -3.08878546 -2.06465052]\t -1743.4541121077734\t -1743.4541121077734\t    \n",
            "init\t [ 0.77633468 -1.61610971  3.70439001]\t -2573.2528931184784\t -1743.4541121077734\t    \n",
            "init\t [-5.91095501  7.56234873 -9.45224814]\t -116840.74897847573\t -1743.4541121077734\t    \n",
            "1  \t [-8.03306332 -1.5778475   9.1577906 ]\t -86415.93772353831\t -1743.4541121077734\t -2.4494900512168254\n",
            "2  \t [-5.34051452  6.14210391 -2.24278712]\t -13140.755438034004\t -1743.4541121077734\t -2.4494900512168254\n",
            "3  \t [ 8.37203556 -9.9919595   9.53518298]\t -183648.52554820437\t -1743.4541121077734\t -2.4494900512168254\n",
            "4  \t [-1.07707536  5.6549883   9.80943567]\t -113140.57286302134\t -1743.4541121077734\t -2.4494900512168254\n",
            "5  \t [9.79910357 4.22244918 4.63600818]\t -5922.444680450715\t -1743.4541121077734\t -2.4494900512168254\n",
            "6  \t [ 5.40299913 -7.39328438 -9.54169737]\t -129326.8620412511\t -1743.4541121077734\t -2.4494900512168254\n",
            "7  \t [-10.  10.  10.]\t -196621.0\t -1743.4541121077734\t -2.4494900512168254\n",
            "8  \t [ 7.14968998  2.39173479 -4.9593384 ]\t -6644.899625650721\t -1743.4541121077734\t -2.4494900512168254\n",
            "9  \t [ 9.90104645 -8.83274708  0.3341272 ]\t -43035.435934238885\t -1743.4541121077734\t -2.449490051216819\n",
            "10 \t [10.         10.         -1.75917473]\t -72324.56221209819\t -1743.4541121077734\t -2.4494900512165176\n",
            "11 \t [-10. -10.  10.]\t -220621.0\t -1743.4541121077734\t -2.449490051215093\n",
            "12 \t [ 10.  10. -10.]\t -180581.0\t -1743.4541121077734\t -2.4494900512168245\n",
            "13 \t [-10. -10. -10.]\t -220621.0\t -1743.4541121077734\t -2.4494900512168254\n",
            "14 \t [-9.79655087 -0.19609376 -9.09035709]\t -82447.81014507987\t -1743.4541121077734\t -2.4494900512138016\n",
            "15 \t [-0.05480801 -6.45799828 10.        ]\t -141809.071441502\t -1743.4541121077734\t -2.449490051198476\n",
            "16 \t [10. 10. 10.]\t -180581.0\t -1743.4541121077734\t -2.4494900511242568\n",
            "17 \t [ 0.10732276 -9.42284869  2.95914124]\t -65170.634371416156\t -1743.4541121077734\t -2.449490036333283\n",
            "18 \t [ 0.36726161 -1.23420577 -4.53137172]\t -5382.8468653683185\t -1743.4541121077734\t -2.449490048308625\n",
            "19 \t [-0.99240715  8.70840228 -2.94641345]\t -46841.83303685055\t -1743.4541121077734\t -2.4494900512168254\n",
            "20 \t [  1.81387797  10.         -10.        ]\t -186856.1403240867\t -1743.4541121077734\t -2.4494900512091915\n",
            "21 \t [-6.5567489  -9.62637988 -0.26099507]\t -73987.44059117726\t -1743.4541121077734\t -2.4494899243238133\n",
            "22 \t [4.72220295 8.68135508 4.83524359]\t -47001.24797567851\t -1743.4541121077734\t -2.4494896428259745\n",
            "\u001b[1m\u001b[92m23\u001b[0m\t \u001b[1m\u001b[92m[-4.42991656  2.29563782  3.30336709]\u001b[0m\t \u001b[1m\u001b[92m-1621.8008277392858\u001b[0m\t \u001b[1m\u001b[92m-1621.8008277392858\u001b[0m\t \u001b[1m\u001b[92m-2.44949005121654\u001b[0m\n",
            "24 \t [-4.76277955  9.66490604  4.77394977]\t -77311.6978131652\t -1621.8008277392858\t -2.449489866059346\n",
            "25 \t [ 9.68535255 -1.88050578 10.        ]\t -122356.30410058911\t -1621.8008277392858\t -2.449490051023707\n",
            "\u001b[1m\u001b[92m26\u001b[0m\t \u001b[1m\u001b[92m[5.80191042 0.29550857 0.62289389]\u001b[0m\t \u001b[1m\u001b[92m-87.08304690748001\u001b[0m\t \u001b[1m\u001b[92m-87.08304690748001\u001b[0m\t \u001b[1m\u001b[92m-2.4494900380337423\u001b[0m\n",
            "27 \t [ 1.29207127 -9.28549557 -4.09623403]\t -64090.66206486654\t -87.08304690748001\t -2.4494879976922204\n",
            "28 \t [ 9.09177769 -4.09364551 -4.60394577]\t -7741.471531750167\t -87.08304690748001\t -2.4494870840068876\n",
            "29 \t [-9.7725606   1.56908898 -1.89380658]\t -642.2422604103616\t -87.08304690748001\t -2.4494900145181995\n",
            "30 \t [-10.           4.84427005   4.95868142]\t -12500.123213358966\t -87.08304690748001\t -2.449487702232584\n"
          ]
        }
      ]
    },
    {
      "cell_type": "code",
      "metadata": {
        "colab": {
          "base_uri": "https://localhost:8080/"
        },
        "id": "wTxsSZxFGBB5",
        "outputId": "16b71b50-d49f-40c4-f75c-2c10df123d21"
      },
      "source": [
        "### ESTIMATED GP CBM GRADIENTS\n",
        "\n",
        "np.random.seed(run_num_2)\n",
        "surrogate_approx_2 = GaussianProcess(cov_func, optimize=opt)\n",
        "\n",
        "approx_2 = GPGO_multi(surrogate_approx_2, Acquisition_new(util_grad_approx), objfunc, param)\n",
        "approx_2.run(init_evals=n_init, max_iter=iters)\n"
      ],
      "execution_count": 14,
      "outputs": [
        {
          "output_type": "stream",
          "name": "stdout",
          "text": [
            "Evaluation \t Proposed point \t  Current eval. \t  Best eval. \t         Max AcqFunc.\n",
            "init\t [-1.28010196 -9.48147536  0.99324956]\t -65976.47275174354\t -579.2546019074869\t    \n",
            "init\t [-1.29355215 -1.59264396 -3.39330358]\t -1905.0058741906205\t -579.2546019074869\t    \n",
            "init\t [-5.90702732  2.38541933 -4.00690653]\t -3296.179887891325\t -579.2546019074869\t    \n",
            "init\t [-4.6634545   2.42267666  0.58284189]\t -579.2546019074869\t -579.2546019074869\t    \n",
            "init\t [-7.30840109  0.27156243 -6.31120269]\t -19089.001096649215\t -579.2546019074869\t    \n",
            "1  \t [ 6.17490542 10.         10.        ]\t -183463.11422352164\t -579.2546019074869\t -2.4494900512168254\n",
            "2  \t [0.98993642 6.90226231 9.77019402]\t -119362.43308455861\t -579.2546019074869\t -2.4494900512168254\n",
            "3  \t [ 9.60970158 -5.07492822  5.80487605]\t -19340.238894145325\t -579.2546019074869\t -2.4494900512168254\n",
            "4  \t [ 2.89052379 -3.76941193  7.60597912]\t -44126.90703116023\t -579.2546019074869\t -2.4494900512168254\n",
            "5  \t [9.47735243 3.96398709 2.5157724 ]\t -1262.1549087902345\t -579.2546019074869\t -2.4494900512168254\n",
            "6  \t [ 8.77937768 -3.87353549 -6.37757103]\t -22749.403915268038\t -579.2546019074869\t -2.4494900512168254\n",
            "7  \t [-10. -10. -10.]\t -220621.0\t -579.2546019074869\t -2.4494900512168254\n",
            "8  \t [-10.  10. -10.]\t -196621.0\t -579.2546019074869\t -2.4494900512168254\n",
            "9  \t [-10.          -4.42398775   6.8913554 ]\t -34595.5226386178\t -579.2546019074869\t -2.4494900512168254\n",
            "10 \t [ 2.90787822  8.64101201 -5.34154591]\t -49919.38480768621\t -579.2546019074869\t -2.4494900512168254\n",
            "11 \t [-7.57429365  8.14400589  8.47455737]\t -94473.47583875206\t -579.2546019074869\t -2.449490051215414\n",
            "12 \t [ 10.  10. -10.]\t -180581.0\t -579.2546019074869\t -2.4494900512145255\n",
            "13 \t [ 1.31216908 -9.4098302  -9.23218389]\t -158862.0710975185\t -579.2546019074869\t -2.4494900512168254\n",
            "14 \t [ -2.46200235   4.74826916 -10.        ]\t -118904.48976759556\t -579.2546019074869\t -2.4494900431285287\n",
            "15 \t [-10.          10.          -0.44021378]\t -88598.19606534562\t -579.2546019074869\t -2.4494900512168214\n",
            "16 \t [-9.06110355 -9.56744783 -1.99396877]\t -74852.34852606223\t -579.2546019074869\t -2.4494900504096244\n",
            "17 \t [ 8.68396904 -9.83826017 -1.64087352]\t -69129.3809603587\t -579.2546019074869\t -2.4494900483569917\n",
            "18 \t [-2.30038092  9.0759962   3.50312086]\t -56538.57476800338\t -579.2546019074869\t -2.4494900512168254\n",
            "19 \t [-3.63001309 -1.45009998  8.27099213]\t -57498.94815657265\t -579.2546019074869\t -2.449489224196877\n",
            "20 \t [ -1.71374144 -10.          10.        ]\t -213684.23136204178\t -579.2546019074869\t -2.4494900511001942\n",
            "21 \t [10.          4.86704143 -4.38729802]\t -6267.833835126321\t -579.2546019074869\t -2.4494900098568833\n",
            "22 \t [ 10. -10. -10.]\t -204581.0\t -579.2546019074869\t -2.449489997167901\n",
            "23 \t [ 4.4671417   2.06590647 -7.08928068]\t -29122.27663633434\t -579.2546019074869\t -2.4494890118012274\n",
            "24 \t [ 3.92694815 -4.57115016 -0.54038502]\t -2955.6414558408273\t -579.2546019074869\t -2.4494895214476933\n",
            "\u001b[1m\u001b[92m25\u001b[0m\t \u001b[1m\u001b[92m[1.47098014 1.67658335 1.74825008]\u001b[0m\t \u001b[1m\u001b[92m-93.72038806214124\u001b[0m\t \u001b[1m\u001b[92m-93.72038806214124\u001b[0m\t \u001b[1m\u001b[92m-2.449489103303741\u001b[0m\n",
            "26 \t [ 9.72738685  0.26963062 10.        ]\t -119936.45752698334\t -93.72038806214124\t -2.4494891430043464\n",
            "27 \t [-1.43900013 -4.3792401   1.62416709]\t -3452.812802264013\t -93.72038806214124\t -2.4494900512168254\n",
            "28 \t [-4.63422584 -6.37474924 -6.6400397 ]\t -41614.431245988075\t -93.72038806214124\t -2.4494886411717314\n",
            "29 \t [4.9287331  0.42158613 7.75499536]\t -43155.31509984878\t -93.72038806214124\t -2.4494900512168254\n",
            "30 \t [4.32021474 6.52301121 4.20921202]\t -15569.258796263552\t -93.72038806214124\t -2.4494900512168254\n"
          ]
        }
      ]
    },
    {
      "cell_type": "code",
      "metadata": {
        "colab": {
          "base_uri": "https://localhost:8080/"
        },
        "id": "-dgzIrUIGCGT",
        "outputId": "a29d8404-9a81-43ac-b576-e2cb0ef989c2"
      },
      "source": [
        "### ESTIMATED GP CBM GRADIENTS\n",
        "\n",
        "np.random.seed(run_num_3)\n",
        "surrogate_approx_3 = GaussianProcess(cov_func, optimize=opt)\n",
        "\n",
        "approx_3 = GPGO_multi(surrogate_approx_3, Acquisition_new(util_grad_approx), objfunc, param)\n",
        "approx_3.run(init_evals=n_init, max_iter=iters)\n"
      ],
      "execution_count": 15,
      "outputs": [
        {
          "output_type": "stream",
          "name": "stdout",
          "text": [
            "Evaluation \t Proposed point \t  Current eval. \t  Best eval. \t         Max AcqFunc.\n",
            "init\t [ 1.01595805  4.16295645 -4.18190522]\t -5112.352385443115\t -5112.352385443115\t    \n",
            "init\t [0.2165521  7.85893909 7.92586178]\t -72027.10255913956\t -5112.352385443115\t    \n",
            "init\t [-7.48829379 -5.85514244 -8.97065593]\t -95107.57411907075\t -5112.352385443115\t    \n",
            "init\t [-1.18380313 -9.40247578 -0.86333551]\t -63726.548838065995\t -5112.352385443115\t    \n",
            "init\t [ 2.98288095 -4.43025435  3.52509804]\t -5207.626899787465\t -5112.352385443115\t    \n",
            "1  \t [9.51990845 3.44767352 8.05668217]\t -48388.97288671367\t -5112.352385443115\t -2.4494900512168254\n",
            "2  \t [-4.79309855  3.83955024  7.91140656]\t -46554.468417027776\t -5112.352385443115\t -2.4494900512168254\n",
            "3  \t [ 9.76225506  9.4244446  -0.36307223]\t -56694.622124347436\t -5112.352385443115\t -2.4494900512168254\n",
            "4  \t [ 1.06865668 -1.61214113  9.66323576]\t -106482.0605763776\t -5112.352385443115\t -2.4494900512168254\n",
            "5  \t [-7.84297806  5.69391695 -0.02389563]\t -10741.453238983686\t -5112.352385443115\t -2.4494900512168254\n",
            "6  \t [ 10. -10. -10.]\t -204581.0\t -5112.352385443115\t -2.4494900512168254\n",
            "7  \t [-10. -10.  10.]\t -220621.0\t -5112.352385443115\t -2.4494900512168254\n",
            "8  \t [ 7.17786075 -7.83402432  1.19325839]\t -27091.47249706207\t -5112.352385443115\t -2.4494900512168254\n",
            "9  \t [-10.          10.          -8.97853768]\t -156930.97587452942\t -5112.352385443115\t -2.4494900512168254\n",
            "10 \t [ 10.  10. -10.]\t -180581.0\t -5112.352385443115\t -2.4494900512168254\n",
            "\u001b[1m\u001b[92m11\u001b[0m\t \u001b[1m\u001b[92m[5.35390255 4.3873483  2.58263819]\u001b[0m\t \u001b[1m\u001b[92m-2456.424548745716\u001b[0m\t \u001b[1m\u001b[92m-2456.424548745716\u001b[0m\t \u001b[1m\u001b[92m-2.4494900512168254\u001b[0m\n",
            "12 \t [-9.50907307 -3.90957298  0.74240852]\t -3398.3859955587673\t -2456.424548745716\t -2.4494900512168254\n",
            "13 \t [-9.48830419  5.80360482  0.06290394]\t -12023.222732258779\t -2456.424548745716\t -2.4494900512168254\n",
            "14 \t [ 10. -10.  10.]\t -204581.0\t -2456.424548745716\t -2.449490051216825\n",
            "15 \t [ 9.69640151 -2.35649489 -5.86950199]\t -15312.967216807909\t -2456.424548745716\t -2.4494900512128543\n",
            "16 \t [ 1.96147151 -7.03234903 -8.53738144]\t -88847.25536077026\t -2456.424548745716\t -2.4494900512106064\n",
            "17 \t [-10.          -0.98446949  10.        ]\t -121590.31982492722\t -2456.424548745716\t -2.4494900210754356\n",
            "18 \t [-0.39121266 10.         -9.63043872]\t -172706.16903724728\t -2456.424548745716\t -2.449490051203247\n",
            "19 \t [ 2.07861159 10.         -0.22336035]\t -78640.95846728804\t -2456.424548745716\t -2.4494900084397955\n",
            "20 \t [-10.  10.  10.]\t -196621.0\t -2456.424548745716\t -2.449490051197262\n",
            "21 \t [-1.81793152 -9.92268212  6.99846349]\t -113914.93438470445\t -2456.424548745716\t -2.4494900503332984\n",
            "22 \t [-6.15425984  2.22536379 -9.33261637]\t -89288.08883023603\t -2456.424548745716\t -2.449490051092159\n",
            "23 \t [  5.90554875   3.92075864 -10.        ]\t -116599.23762200579\t -2456.424548745716\t -2.449489855460154\n",
            "24 \t [ 7.45195168 10.         10.        ]\t -182491.12950708924\t -2456.424548745716\t -2.4494898441593516\n",
            "\u001b[1m\u001b[92m25\u001b[0m\t \u001b[1m\u001b[92m[-3.12970548 -0.64167882  1.01169223]\u001b[0m\t \u001b[1m\u001b[92m-69.99785317554218\u001b[0m\t \u001b[1m\u001b[92m-69.99785317554218\u001b[0m\t \u001b[1m\u001b[92m-2.449490039027931\u001b[0m\n",
            "26 \t [ 8.78881629 -3.71964707  6.77058483]\t -28077.99639878682\t -69.99785317554218\t -2.4494886299499554\n",
            "27 \t [1.00000000e+01 6.95389653e-04 1.12328838e+00]\t -300.09440144010756\t -69.99785317554218\t -2.449488670829097\n",
            "28 \t [ 1.93034684 -2.90128557 -2.93947455]\t -1667.1344340294138\t -69.99785317554218\t -2.4494882552892756\n",
            "29 \t [-10.         -10.          -2.44474931]\t -89766.881447113\t -69.99785317554218\t -2.4494899683189653\n",
            "30 \t [-5.55039919 10.          4.50391329]\t -87348.50181269179\t -69.99785317554218\t -2.4494866202004713\n"
          ]
        }
      ]
    },
    {
      "cell_type": "code",
      "metadata": {
        "colab": {
          "base_uri": "https://localhost:8080/"
        },
        "id": "hOtG-2sCGCKS",
        "outputId": "6d4c583b-b049-44ec-c0f9-657d95a47e31"
      },
      "source": [
        "### ESTIMATED GP CBM GRADIENTS\n",
        "\n",
        "np.random.seed(run_num_4)\n",
        "surrogate_approx_4 = GaussianProcess(cov_func, optimize=opt)\n",
        "\n",
        "approx_4 = GPGO_multi(surrogate_approx_4, Acquisition_new(util_grad_approx), objfunc, param)\n",
        "approx_4.run(init_evals=n_init, max_iter=iters)\n"
      ],
      "execution_count": 16,
      "outputs": [
        {
          "output_type": "stream",
          "name": "stdout",
          "text": [
            "Evaluation \t Proposed point \t  Current eval. \t  Best eval. \t         Max AcqFunc.\n",
            "init\t [9.34059678 0.94464498 9.4536872 ]\t -95022.01065457039\t -12458.30178377884\t    \n",
            "init\t [ 4.29631987  3.95457649 -5.67821009]\t -12458.30178377884\t -12458.30178377884\t    \n",
            "init\t [ 9.5254891  -9.8753949  -4.94035275]\t -79242.42901009263\t -12458.30178377884\t    \n",
            "init\t [-1.30416935  5.58765844 -6.04629851]\t -21812.938480423\t -12458.30178377884\t    \n",
            "init\t [ 7.25986471  9.66801354 -6.72315517]\t -84163.5372919417\t -12458.30178377884\t    \n",
            "1  \t [-7.83613234 -6.83553186  0.90405303]\t -20810.660474524404\t -12458.30178377884\t -2.4494900512168254\n",
            "2  \t [-1.80817221  5.2576358   9.81593637]\t -111937.03674660696\t -12458.30178377884\t -2.4494900512168254\n",
            "3  \t [-10. -10.  10.]\t -220621.0\t -12458.30178377884\t -2.4494900512168254\n",
            "\u001b[1m\u001b[92m4\u001b[0m\t \u001b[1m\u001b[92m[ 1.00294855 -4.92774948  4.0625976 ]\u001b[0m\t \u001b[1m\u001b[92m-8842.060885265299\u001b[0m\t \u001b[1m\u001b[92m-8842.060885265299\u001b[0m\t \u001b[1m\u001b[92m-2.4494900512168254\u001b[0m\n",
            "5  \t [-10.  10. -10.]\t -196621.0\t -8842.060885265299\t -2.4494900512168254\n",
            "6  \t [9.81335626 8.39300429 2.56386853]\t -34505.04579158221\t -8842.060885265299\t -2.4494900512168254\n",
            "\u001b[1m\u001b[92m7\u001b[0m\t \u001b[1m\u001b[92m[-0.44581558  2.04164357  3.82391297]\u001b[0m\t \u001b[1m\u001b[92m-2376.3585358713694\u001b[0m\t \u001b[1m\u001b[92m-2376.3585358713694\u001b[0m\t \u001b[1m\u001b[92m-2.4494900512168254\u001b[0m\n",
            "8  \t [-4.88169358  2.09221169  3.73549934]\t -2405.8476927363427\t -2376.3585358713694\t -2.4494900512168254\n",
            "9  \t [ 9.67631723 -2.81961879 -7.99372919]\t -51336.753667240206\t -2376.3585358713694\t -2.4494900512168254\n",
            "10 \t [-8.80278927  8.86702731  2.17180871]\t -55243.01694824641\t -2376.3585358713694\t -2.4494900512168254\n",
            "11 \t [-10.          -7.88494085 -10.        ]\t -165866.38055288693\t -2376.3585358713694\t -2.4494900512168254\n",
            "12 \t [10. 10. 10.]\t -180581.0\t -2376.3585358713694\t -2.4494900512168254\n",
            "13 \t [ 10. -10.  10.]\t -204581.0\t -2376.3585358713694\t -2.4494900512168254\n",
            "14 \t [-5.43872084 -1.85967035 -7.2845491 ]\t -35331.63269033139\t -2376.3585358713694\t -2.4494900512168254\n",
            "15 \t [  2.48900091 -10.         -10.        ]\t -210323.40664888272\t -2376.3585358713694\t -2.4494900512168254\n",
            "16 \t [ 1.44437514 10.          0.91111731]\t -79057.52311143278\t -2376.3585358713694\t -2.4494900512168254\n",
            "17 \t [-3.30941509 -9.26130841 -4.50582054]\t -68625.66917226328\t -2376.3585358713694\t -2.4494900512166238\n",
            "18 \t [-2.51043559  1.35162156  9.66083615]\t -103109.80608941417\t -2376.3585358713694\t -2.4494900512168254\n",
            "19 \t [ 7.33203662 -5.93822437 -2.31489621]\t -8859.038660403776\t -2376.3585358713694\t -2.4494900512168254\n",
            "20 \t [-7.87097064  4.68615483 -3.69035606]\t -6969.006414387881\t -2376.3585358713694\t -2.4494897558319737\n",
            "21 \t [ -3.10942881 -10.           5.97139358]\t -102360.19553775231\t -2376.3585358713694\t -2.449489653154182\n",
            "22 \t [-7.01501903 10.          9.31053168]\t -165845.9082699499\t -2376.3585358713694\t -2.4494891910838366\n",
            "23 \t [-10.           0.19662683  10.        ]\t -120088.26871459786\t -2376.3585358713694\t -2.449490034735479\n",
            "24 \t [ 1.20154702 -3.44551649 -4.69775462]\t -7808.805083541518\t -2376.3585358713694\t -2.4494898659374837\n",
            "\u001b[1m\u001b[92m25\u001b[0m\t \u001b[1m\u001b[92m[ 9.4488383   1.06500051 -2.25171292]\u001b[0m\t \u001b[1m\u001b[92m-421.5885930260664\u001b[0m\t \u001b[1m\u001b[92m-421.5885930260664\u001b[0m\t \u001b[1m\u001b[92m-2.449488660381666\u001b[0m\n",
            "26 \t [ 3.29815427 -3.12869439 10.        ]\t -124319.11236497364\t -421.5885930260664\t -2.4494884380125006\n",
            "27 \t [10.         -2.47534706  2.89157526]\t -1196.8294201798742\t -421.5885930260664\t -2.4494889749321658\n",
            "28 \t [ 10.         -10.           2.26056708]\t -73507.58487545412\t -421.5885930260664\t -2.449488909665387\n",
            "29 \t [ 10.           3.79561092 -10.        ]\t -116277.3692412417\t -421.5885930260664\t -2.4494888321875203\n",
            "30 \t [-9.96630454  2.70780548 -9.72239082]\t -105503.5846457204\t -421.5885930260664\t -2.449488149935574\n"
          ]
        }
      ]
    },
    {
      "cell_type": "code",
      "metadata": {
        "colab": {
          "base_uri": "https://localhost:8080/"
        },
        "id": "JF_SxcEvGCOl",
        "outputId": "9ed8e5a0-8563-449b-f2c6-7c0ebcbabf4a"
      },
      "source": [
        "### ESTIMATED GP CBM GRADIENTS\n",
        "\n",
        "np.random.seed(run_num_5)\n",
        "surrogate_approx_5 = GaussianProcess(cov_func, optimize=opt)\n",
        "\n",
        "approx_5 = GPGO_multi(surrogate_approx_5, Acquisition_new(util_grad_approx), objfunc, param)\n",
        "approx_5.run(init_evals=n_init, max_iter=iters)\n"
      ],
      "execution_count": 17,
      "outputs": [
        {
          "output_type": "stream",
          "name": "stdout",
          "text": [
            "Evaluation \t Proposed point \t  Current eval. \t  Best eval. \t         Max AcqFunc.\n",
            "init\t [-5.56013658  7.41464612 -5.86561689]\t -38038.55423396639\t -504.37713268919686\t    \n",
            "init\t [ 8.37221816 -0.23177622  2.23487726]\t -504.37713268919686\t -504.37713268919686\t    \n",
            "init\t [ 5.31815713  0.36835976 -4.06398997]\t -3270.33229475548\t -504.37713268919686\t    \n",
            "init\t [-6.24557543 -8.38517462  4.76880592]\t -51898.195262717614\t -504.37713268919686\t    \n",
            "init\t [-1.17381554 -6.83380265  7.59874062]\t -62777.04813872957\t -504.37713268919686\t    \n",
            "1  \t [ 7.40966174  8.45499228 -9.95571575]\t -144842.91560178908\t -504.37713268919686\t -2.4494900512168254\n",
            "2  \t [10. 10. 10.]\t -180581.0\t -504.37713268919686\t -2.4494900512168254\n",
            "3  \t [-1.23662215 -7.47908294 -5.93936038]\t -43859.291409965896\t -504.37713268919686\t -2.4494900512168254\n",
            "4  \t [ 3.14692525  9.50918422 -2.23413701]\t -63161.457005708806\t -504.37713268919686\t -2.4494900512168254\n",
            "5  \t [ 4.56139684 -4.673529    0.23379905]\t -3142.4271112122515\t -504.37713268919686\t -2.4494900512168254\n",
            "6  \t [-8.35759819 -3.57642182 -5.67300392]\t -16239.797542075969\t -504.37713268919686\t -2.4494900512168254\n",
            "7  \t [ 7.14573235 -6.46930749  7.38248289]\t -51761.01237664357\t -504.37713268919686\t -2.4494900512168254\n",
            "8  \t [ 10. -10. -10.]\t -204581.0\t -504.37713268919686\t -2.4494900512168254\n",
            "9  \t [-8.6578006   5.6662416   4.51086648]\t -14394.676915920763\t -504.37713268919686\t -2.4494900512168254\n",
            "10 \t [0.16060364 8.39891606 6.76793435]\t -60491.465260348225\t -504.37713268919686\t -2.4494900512168254\n",
            "11 \t [-0.06367087  0.88414795  2.94086155]\t -814.6043000573765\t -504.37713268919686\t -2.4494900512168254\n",
            "12 \t [  1.83731888  -1.91394915 -10.        ]\t -122368.68976748377\t -504.37713268919686\t -2.4494900512122704\n",
            "13 \t [-10. -10. -10.]\t -220621.0\t -504.37713268919686\t -2.4494900512168254\n",
            "14 \t [-5.38963552 -0.58510017  8.42985244]\t -61212.989894015554\t -504.37713268919686\t -2.4494900512168107\n",
            "15 \t [-10.  10.  10.]\t -196621.0\t -504.37713268919686\t -2.4494900134122646\n",
            "16 \t [10.         -5.9339916  -4.23079147]\t -12608.219497809023\t -504.37713268919686\t -2.449490051216811\n",
            "17 \t [-8.43217072  4.48011232 -2.92997914]\t -5291.089806819518\t -504.37713268919686\t -2.4494900512168254\n",
            "18 \t [-10.           3.58288986 -10.        ]\t -118405.3404850248\t -504.37713268919686\t -2.449489918445148\n",
            "19 \t [-3.48410009 -3.68542923 -6.33751434]\t -23073.672070863027\t -504.37713268919686\t -2.4494900512168254\n",
            "20 \t [-3.86853888 10.          1.40731445]\t -83257.8710616327\t -504.37713268919686\t -2.4494900512168254\n",
            "21 \t [-6.7717526  -1.93591751  1.74873943]\t -662.0209536161964\t -504.37713268919686\t -2.4494888710694847\n",
            "22 \t [ 1.80771312  2.45274399 10.        ]\t -117284.47571959293\t -504.37713268919686\t -2.4494891683229727\n",
            "23 \t [10.          7.48396749  2.64632416]\t -21024.58572623704\t -504.37713268919686\t -2.4494900443143783\n",
            "24 \t [ -0.27472389   9.53931542 -10.        ]\t -175273.4611263615\t -504.37713268919686\t -2.4494897132032185\n",
            "25 \t [8.99112861 1.39379093 9.2623969 ]\t -87010.11142802822\t -504.37713268919686\t -2.44948989111478\n",
            "26 \t [-10. -10.  10.]\t -220621.0\t -504.37713268919686\t -2.449490051216673\n",
            "27 \t [ 10.        -10.          1.9176638]\t -73184.57442330933\t -504.37713268919686\t -2.4494897579242143\n",
            "28 \t [ -0.63291255 -10.           0.44355789]\t -80833.87133124913\t -504.37713268919686\t -2.4494888764171394\n",
            "29 \t [-1.06693756  2.41571423 -3.85562329]\t -2567.2831975087825\t -504.37713268919686\t -2.449489140894517\n",
            "30 \t [-7.77440792 -9.06161368 -4.56757593]\t -66983.04675543586\t -504.37713268919686\t -2.4494900512164755\n"
          ]
        }
      ]
    },
    {
      "cell_type": "code",
      "metadata": {
        "colab": {
          "base_uri": "https://localhost:8080/"
        },
        "id": "-kDxZtJsGCR3",
        "outputId": "64684eea-8bd4-4e4a-f308-2517fd6a3867"
      },
      "source": [
        "### ESTIMATED GP CBM GRADIENTS\n",
        "\n",
        "np.random.seed(run_num_6)\n",
        "surrogate_approx_6 = GaussianProcess(cov_func, optimize=opt)\n",
        "\n",
        "approx_6 = GPGO_multi(surrogate_approx_6, Acquisition_new(util_grad_approx), objfunc, param)\n",
        "approx_6.run(init_evals=n_init, max_iter=iters)\n"
      ],
      "execution_count": 18,
      "outputs": [
        {
          "output_type": "stream",
          "name": "stdout",
          "text": [
            "Evaluation \t Proposed point \t  Current eval. \t  Best eval. \t         Max AcqFunc.\n",
            "init\t [ 7.85720303 -3.36040389  6.42458246]\t -22622.875691874993\t -747.5861078277044\t    \n",
            "init\t [-9.16606749 -7.8468664   1.90104128]\t -35798.39310944817\t -747.5861078277044\t    \n",
            "init\t [ 0.59634724 -1.62385143 -3.29184301]\t -1672.0743189422471\t -747.5861078277044\t    \n",
            "init\t [ 2.45038864 -1.23717148  4.71764213]\t -6281.890680624871\t -747.5861078277044\t    \n",
            "init\t [0.36072824 1.577172   2.90710192]\t -747.5861078277044\t -747.5861078277044\t    \n",
            "1  \t [ 4.34551693  9.88414877 -4.88771889]\t -77317.5102677862\t -747.5861078277044\t -2.4494900512168254\n",
            "2  \t [-1.98503052 -5.08370297  0.47544376]\t -5862.449371750896\t -747.5861078277044\t -2.4494900512168254\n",
            "3  \t [10. 10. 10.]\t -180581.0\t -747.5861078277044\t -2.4494900512168254\n",
            "4  \t [-8.30089272  8.76464152 -3.7028615 ]\t -53579.172270173985\t -747.5861078277044\t -2.4494900512168254\n",
            "5  \t [  9.02513933 -10.         -10.        ]\t -205307.19767899875\t -747.5861078277044\t -2.4494900512168254\n",
            "6  \t [ 6.83055529 -7.02538607 -5.07603057]\t -27205.394503821604\t -747.5861078277044\t -2.4494900512168254\n",
            "7  \t [-9.66056066 -7.16632862  9.74146832]\t -141747.30545515707\t -747.5861078277044\t -2.4494900512168254\n",
            "8  \t [-10.           2.90545791  10.        ]\t -118105.20687340776\t -747.5861078277044\t -2.4494900512168254\n",
            "9  \t [5.95618828 3.62221445 9.57953935]\t -97953.49211296115\t -747.5861078277044\t -2.4494900512168254\n",
            "10 \t [-5.91078796  1.78771313 -3.76759999]\t -2473.4523782297706\t -747.5861078277044\t -2.4494900512168254\n",
            "11 \t [ 10.           2.89652575 -10.        ]\t -116722.26796769333\t -747.5861078277044\t -2.4494900512168254\n",
            "12 \t [-8.12416811  9.77114499 -9.4537219 ]\t -165001.95305563457\t -747.5861078277044\t -2.4494900512168254\n",
            "13 \t [ -7.07445096 -10.         -10.        ]\t -218124.85324272502\t -747.5861078277044\t -2.4494900512168254\n",
            "14 \t [-4.54332593  7.89063632  4.23797005]\t -35704.690751589515\t -747.5861078277044\t -2.4494900512144624\n",
            "15 \t [ 0.19531588 -7.74530203  9.60360643]\t -139524.0237475551\t -747.5861078277044\t -2.4494900512157978\n",
            "16 \t [ 10. -10.  10.]\t -204581.0\t -747.5861078277044\t -2.4494900507065864\n",
            "17 \t [ 10.  10. -10.]\t -180581.0\t -747.5861078277044\t -2.4494900512168254\n",
            "18 \t [8.25944641 8.39097879 2.61493092]\t -35279.52191555824\t -747.5861078277044\t -2.449490043403739\n",
            "19 \t [-8.77555957  1.48716176  2.84256716]\t -1089.8910220348698\t -747.5861078277044\t -2.4494900512168254\n",
            "20 \t [  4.88044066 -10.           2.23554761]\t -77357.78430182885\t -747.5861078277044\t -2.4494900511509092\n",
            "21 \t [-2.0301401  -4.92207598 -4.38926331]\t -10770.98915286436\t -747.5861078277044\t -2.4494900512168254\n",
            "22 \t [-9.86470729 -2.7519171  -8.59919754]\t -69450.25015389195\t -747.5861078277044\t -2.4494900512168254\n",
            "23 \t [-10.  10.  10.]\t -196621.0\t -747.5861078277044\t -2.449489356680329\n",
            "24 \t [-5.84851037 -1.44359974  7.20316242]\t -33457.95909773098\t -747.5861078277044\t -2.4494898726898064\n",
            "\u001b[1m\u001b[92m25\u001b[0m\t \u001b[1m\u001b[92m[ 6.9816647  -2.02454146 -1.14039056]\u001b[0m\t \u001b[1m\u001b[92m-102.92338047686509\u001b[0m\t \u001b[1m\u001b[92m-102.92338047686509\u001b[0m\t \u001b[1m\u001b[92m-2.4494900499813648\u001b[0m\n",
            "26 \t [-2.11505401  4.22621903 10.        ]\t -117855.08680846338\t -102.92338047686509\t -2.4494899471030154\n",
            "27 \t [ 2.83585479  2.61427406 -8.90361819]\t -73184.83908819802\t -102.92338047686509\t -2.449489829808168\n",
            "28 \t [ 5.03767646  3.73224805 -1.70063173]\t -1070.593199145209\t -102.92338047686509\t -2.4494882770760658\n",
            "29 \t [ 1.65725806 10.          1.75904946]\t -78723.70091385016\t -102.92338047686509\t -2.4494882386222834\n",
            "30 \t [ 0.28648475 -8.86414634 -7.37510773]\t -90733.99879843784\t -102.92338047686509\t -2.4494899986440486\n"
          ]
        }
      ]
    },
    {
      "cell_type": "code",
      "metadata": {
        "colab": {
          "base_uri": "https://localhost:8080/"
        },
        "id": "fKB8MCD_GCVI",
        "outputId": "70adf8b6-b533-49c3-e559-23088011d3dc"
      },
      "source": [
        "### ESTIMATED GP CBM GRADIENTS\n",
        "\n",
        "np.random.seed(run_num_7)\n",
        "surrogate_approx_7 = GaussianProcess(cov_func, optimize=opt)\n",
        "\n",
        "approx_7 = GPGO_multi(surrogate_approx_7, Acquisition_new(util_grad_approx), objfunc, param)\n",
        "approx_7.run(init_evals=n_init, max_iter=iters)\n"
      ],
      "execution_count": 19,
      "outputs": [
        {
          "output_type": "stream",
          "name": "stdout",
          "text": [
            "Evaluation \t Proposed point \t  Current eval. \t  Best eval. \t         Max AcqFunc.\n",
            "init\t [-8.47383421  5.59837584 -1.23181537]\t -10236.238023609843\t -10236.238023609843\t    \n",
            "init\t [4.46930356 9.55979024 0.76991741]\t -63811.243249036976\t -10236.238023609843\t    \n",
            "init\t [ 0.02240927 -8.55897733 -4.6312204 ]\t -50862.43407074502\t -10236.238023609843\t    \n",
            "init\t [-2.34998349e-03  3.58459992e+00  6.07478072e+00]\t -16115.196076305741\t -10236.238023609843\t    \n",
            "init\t [-2.38117734 -8.68127306 -4.23708801]\t -52860.9167787799\t -10236.238023609843\t    \n",
            "1  \t [ 10. -10. -10.]\t -204581.0\t -10236.238023609843\t -2.4494900512168254\n",
            "2  \t [-10. -10.  10.]\t -220621.0\t -10236.238023609843\t -2.4494900512168254\n",
            "3  \t [ 6.70937122 -8.01304972  2.92508219]\t -31552.380495254474\t -10236.238023609843\t -2.4494900512168254\n",
            "4  \t [10. 10. 10.]\t -180581.0\t -10236.238023609843\t -2.4494900512168254\n",
            "5  \t [-8.22186059 -2.09445948 -8.51624651]\t -65619.77292042035\t -10236.238023609843\t -2.4494900512168254\n",
            "6  \t [-10.  10. -10.]\t -196621.0\t -10236.238023609843\t -2.4494900512168254\n",
            "7  \t [ 0.64949272  3.16222212 -5.80553909]\t -13131.731745588819\t -10236.238023609843\t -2.4494900512168254\n",
            "\u001b[1m\u001b[92m8\u001b[0m\t \u001b[1m\u001b[92m[ 8.70233855 -0.88933042 -5.32180505]\u001b[0m\t \u001b[1m\u001b[92m-10090.712079055007\u001b[0m\t \u001b[1m\u001b[92m-10090.712079055007\u001b[0m\t \u001b[1m\u001b[92m-2.449490051216812\u001b[0m\n",
            "9  \t [-7.6472347   0.36120503  9.43153837]\t -94768.2672423226\t -10090.712079055007\t -2.449490051216793\n",
            "10 \t [-10.  10.  10.]\t -196621.0\t -10090.712079055007\t -2.4494900512168254\n",
            "11 \t [  0.35198567 -10.          10.        ]\t -212019.07917700073\t -10090.712079055007\t -2.4494900512168254\n",
            "12 \t [ 10.  10. -10.]\t -180581.0\t -10090.712079055007\t -2.4494900512168254\n",
            "13 \t [ 8.12168052 -1.65200659  9.93099537]\t -118750.14092821421\t -10090.712079055007\t -2.449490051216825\n",
            "14 \t [-10. -10. -10.]\t -220621.0\t -10090.712079055007\t -2.449490051156541\n",
            "\u001b[1m\u001b[92m15\u001b[0m\t \u001b[1m\u001b[92m[ 2.12256335 -0.58827357  0.23889405]\u001b[0m\t \u001b[1m\u001b[92m-6.832576058969283\u001b[0m\t \u001b[1m\u001b[92m-6.832576058969283\u001b[0m\t \u001b[1m\u001b[92m-2.4494900227941487\u001b[0m\n",
            "16 \t [-7.45118122 -4.049178    1.83864688]\t -3660.994722864476\t -6.832576058969283\t -2.4494900512159705\n",
            "17 \t [-10.         -10.          -0.74707776]\t -88691.71306697113\t -6.832576058969283\t -2.44948999988237\n",
            "18 \t [-1.82782551 10.         10.        ]\t -189776.93890118017\t -6.832576058969283\t -2.449490050113586\n",
            "19 \t [ 1.43454677 -3.0054087   6.02637618]\t -17717.481254840663\t -6.832576058969283\t -2.4494889760245417\n",
            "20 \t [ 10. -10.  10.]\t -204581.0\t -6.832576058969283\t -2.4494900510774618\n",
            "21 \t [  0.38628571  -2.48888325 -10.        ]\t -123293.75429334346\t -6.832576058969283\t -2.449489939589017\n",
            "22 \t [-1.93099489 -8.50783372  2.7164457 ]\t -44672.80135218479\t -6.832576058969283\t -2.449489260651413\n",
            "23 \t [-1.60658604  9.74308379 -2.65384867]\t -73378.72880608868\t -6.832576058969283\t -2.449489189120267\n",
            "24 \t [6.58473518 1.54987441 3.18278777]\t -1087.7671015998949\t -6.832576058969283\t -2.4494898064904502\n",
            "25 \t [ 8.2548533   5.65616038 -3.60006981]\t -7496.1672587522635\t -6.832576058969283\t -2.449488669982976\n",
            "26 \t [-2.94009506 -1.33487437 -1.96096244]\t -344.51065100922744\t -6.832576058969283\t -2.449487875951196\n",
            "27 \t [-6.08388014 10.          3.53396346]\t -85664.31572933904\t -6.832576058969283\t -2.449489782359259\n",
            "28 \t [ -3.95766886   5.63371984 -10.        ]\t -122454.36164866164\t -6.832576058969283\t -2.4494888153638414\n",
            "29 \t [ 6.96212388 -7.18082381 -3.91687082]\t -22832.654596262913\t -6.832576058969283\t -2.449487827476122\n",
            "30 \t [ 3.10513961  9.40446268 -7.72854299]\t -96742.44455666079\t -6.832576058969283\t -2.4494882632658155\n"
          ]
        }
      ]
    },
    {
      "cell_type": "code",
      "metadata": {
        "colab": {
          "base_uri": "https://localhost:8080/"
        },
        "id": "4unvifF-GCXp",
        "outputId": "a12a2cb3-2c3c-4fe3-b436-1fba76f895f8"
      },
      "source": [
        "### ESTIMATED GP CBM GRADIENTS\n",
        "\n",
        "np.random.seed(run_num_8)\n",
        "surrogate_approx_8 = GaussianProcess(cov_func, optimize=opt)\n",
        "\n",
        "approx_8 = GPGO_multi(surrogate_approx_8, Acquisition_new(util_grad_approx), objfunc, param)\n",
        "approx_8.run(init_evals=n_init, max_iter=iters)\n"
      ],
      "execution_count": 20,
      "outputs": [
        {
          "output_type": "stream",
          "name": "stdout",
          "text": [
            "Evaluation \t Proposed point \t  Current eval. \t  Best eval. \t         Max AcqFunc.\n",
            "init\t [7.46858806 9.37081326 7.3838908 ]\t -86398.56273239222\t -19.158799931573643\t    \n",
            "init\t [ 0.61711383 -5.34543344 -9.77202391]\t -122028.27716628066\t -19.158799931573643\t    \n",
            "init\t [-1.39062363 -1.9529728   0.45349343]\t -185.16317561320295\t -19.158799931573643\t    \n",
            "init\t [-0.43216408  1.10712948  0.86772035]\t -19.158799931573643\t -19.158799931573643\t    \n",
            "init\t [5.21791151 4.24749148 2.39364192]\t -2079.039537100791\t -19.158799931573643\t    \n",
            "1  \t [ 5.91149117 -9.35983687 -0.89104356]\t -57709.74714740788\t -19.158799931573643\t -2.4494900512168254\n",
            "2  \t [-4.01894503  7.30848062  6.93893087]\t -48356.33098205576\t -19.158799931573643\t -2.4494900512168254\n",
            "3  \t [-6.23415159 -2.85576708  4.59444715]\t -7163.787122326564\t -19.158799931573643\t -2.4494900512168254\n",
            "4  \t [-0.33954819  6.5470211  -9.44447867]\t -103413.2661047698\t -19.158799931573643\t -2.4494900512168254\n",
            "5  \t [-10. -10. -10.]\t -220621.0\t -19.158799931573643\t -2.4494900512168254\n",
            "6  \t [10.          8.09337783 -7.63563767]\t -64690.59524605311\t -19.158799931573643\t -2.4494900512168254\n",
            "7  \t [-10. -10.  10.]\t -220621.0\t -19.158799931573643\t -2.4494900512168254\n",
            "8  \t [-9.29486377 -6.88958424  5.69557689]\t -37285.04360880313\t -19.158799931573643\t -2.4494900512168254\n",
            "9  \t [ 9.93191874 -6.48819782  8.25144342]\t -72165.66228753423\t -19.158799931573643\t -2.4494900512168254\n",
            "10 \t [-8.95219212  1.6420083  -8.61750852]\t -65232.57426438632\t -19.158799931573643\t -2.4494900512168254\n",
            "11 \t [-4.47948963  5.99786732 -0.24312572]\t -11816.310068361841\t -19.158799931573643\t -2.4494900512168254\n",
            "12 \t [-10.  10. -10.]\t -196621.0\t -19.158799931573643\t -2.449490051211917\n",
            "13 \t [-8.60558124e+00  1.01479470e+00 -5.03529082e-03]\t -322.84919586402293\t -19.158799931573643\t -2.4494900512168254\n",
            "14 \t [ 9.25705011  0.14402992 -7.94817345]\t -48019.542267675366\t -19.158799931573643\t -2.4494900512168254\n",
            "15 \t [ 8.22100509 -8.64643551 -9.60155389]\t -151761.14913680343\t -19.158799931573643\t -2.4494900512168254\n",
            "16 \t [ 4.50184336 -2.26786091  2.15283875]\t -478.5119793244565\t -19.158799931573643\t -2.4494900512168254\n",
            "17 \t [ 7.42704428 -6.30046155  8.41770504]\t -76125.29945778343\t -19.158799931573643\t -2.4494900512168254\n",
            "18 \t [  0.17457351 -10.          10.        ]\t -212161.08346964853\t -19.158799931573643\t -2.4494900511737034\n",
            "19 \t [-7.97530381 -6.04260086 -1.22141284]\t -13447.41707982804\t -19.158799931573643\t -2.4494896061455296\n",
            "20 \t [-10.  10.  10.]\t -196621.0\t -19.158799931573643\t -2.4494899494431563\n",
            "21 \t [-1.37467809 -1.59573883 10.        ]\t -122011.82047854854\t -19.158799931573643\t -2.4494900457509616\n",
            "22 \t [6.98526465 1.39903925 9.90344793]\t -113846.15867472792\t -19.158799931573643\t -2.4494900496811143\n",
            "23 \t [ -3.61555967 -10.          -5.5442112 ]\t -98266.5896560924\t -19.158799931573643\t -2.4494900057978577\n",
            "24 \t [-10.          10.           0.65049957]\t -88572.37070461309\t -19.158799931573643\t -2.449489733385321\n",
            "25 \t [ 1.34659657 10.         -2.31231042]\t -78927.91259351544\t -19.158799931573643\t -2.4494900410873264\n",
            "26 \t [-7.74995674  1.84659341 10.        ]\t -118295.43583751029\t -19.158799931573643\t -2.4494897291351947\n",
            "27 \t [ 9.84455819  0.91044175 -0.54165771]\t -212.5862144584789\t -19.158799931573643\t -2.4494888060441107\n",
            "28 \t [ 7.89146421 10.          0.16125522]\t -74155.7590469871\t -19.158799931573643\t -2.4494888167546724\n",
            "29 \t [ 3.79882618  1.14352081 -3.14684244]\t -1055.4136917914832\t -19.158799931573643\t -2.449488472665577\n",
            "30 \t [-2.90053905 -1.07733909 -5.48108726]\t -11292.111090651722\t -19.158799931573643\t -2.4494881354308498\n"
          ]
        }
      ]
    },
    {
      "cell_type": "code",
      "metadata": {
        "colab": {
          "base_uri": "https://localhost:8080/"
        },
        "id": "85OIXcg7GCaJ",
        "outputId": "713ea898-78ee-471a-a09f-568d75c884bf"
      },
      "source": [
        "### ESTIMATED GP CBM GRADIENTS\n",
        "\n",
        "np.random.seed(run_num_9)\n",
        "surrogate_approx_9 = GaussianProcess(cov_func, optimize=opt)\n",
        "\n",
        "approx_9 = GPGO_multi(surrogate_approx_9, Acquisition_new(util_grad_approx), objfunc, param)\n",
        "approx_9.run(init_evals=n_init, max_iter=iters)\n"
      ],
      "execution_count": 21,
      "outputs": [
        {
          "output_type": "stream",
          "name": "stdout",
          "text": [
            "Evaluation \t Proposed point \t  Current eval. \t  Best eval. \t         Max AcqFunc.\n",
            "init\t [-9.79251692  0.03749184 -0.08453414]\t -308.3769452572715\t -308.3769452572715\t    \n",
            "init\t [-7.32340942 -7.15777829 -5.62882649]\t -39098.793761550274\t -308.3769452572715\t    \n",
            "init\t [-1.62983639 -5.03797663 -8.31880698]\t -67224.5603542052\t -308.3769452572715\t    \n",
            "init\t [-3.0900272  -6.66447307  7.57118171]\t -61063.84970572342\t -308.3769452572715\t    \n",
            "init\t [ 9.01928063 -9.22503248  3.98214783]\t -57052.59558792292\t -308.3769452572715\t    \n",
            "1  \t [2.99080926 7.21663846 9.41692024]\t -107317.26583764593\t -308.3769452572715\t -2.4494900512168254\n",
            "2  \t [ 6.86233684  2.90237997 -3.94602224]\t -2626.2381369461364\t -308.3769452572715\t -2.4494900512168254\n",
            "3  \t [-9.77584307 -9.02200933  2.98685213]\t -61841.45747865176\t -308.3769452572715\t -2.4494900512168254\n",
            "4  \t [-2.00413361  1.08900426  2.95561752]\t -852.467214273503\t -308.3769452572715\t -2.4494900512168254\n",
            "5  \t [-4.78366291  9.89454735 -5.84814606]\t -90773.6139043633\t -308.3769452572715\t -2.4494900512168254\n",
            "6  \t [ 7.08809023 -0.77927986  8.97599599]\t -78756.71445675654\t -308.3769452572715\t -2.4494900512168254\n",
            "7  \t [ 10.  10. -10.]\t -180581.0\t -308.3769452572715\t -2.4494900512168254\n",
            "8  \t [-8.88335986 10.          9.66066937]\t -180985.353120844\t -308.3769452572715\t -2.4494900512168254\n",
            "9  \t [-10.          -1.00259598   8.35657048]\t -59771.22893435867\t -308.3769452572715\t -2.4494900512168254\n",
            "10 \t [ 6.11629874 -8.74204803 -0.96542318]\t -43423.330956225946\t -308.3769452572715\t -2.4494900512168254\n",
            "11 \t [-3.68375612  9.41134101  3.13351293]\t -65734.97192601097\t -308.3769452572715\t -2.4494900511592097\n",
            "12 \t [3.01277451 9.9078286  1.97878079]\t -74760.19292573501\t -308.3769452572715\t -2.4494900512168254\n",
            "13 \t [-8.22545226  0.94352057 -9.98576062]\t -118476.9822257634\t -308.3769452572715\t -2.4494900512168254\n",
            "14 \t [ 0.44220267  4.50851033 -6.70718937]\t -25146.604153165645\t -308.3769452572715\t -2.4494900512168254\n",
            "15 \t [ 10. -10. -10.]\t -204581.0\t -308.3769452572715\t -2.4494900512168254\n",
            "16 \t [-4.03608807  4.70420508  1.44305851]\t -4691.083547721373\t -308.3769452572715\t -2.4494900512168254\n",
            "17 \t [9.18884834 5.371142   5.62581791]\t -14840.535031823034\t -308.3769452572715\t -2.449489920803468\n",
            "18 \t [-4.52770091  3.38415971 10.        ]\t -117509.03570267023\t -308.3769452572715\t -2.4494898878721263\n",
            "19 \t [-10.  10. -10.]\t -196621.0\t -308.3769452572715\t -2.4494900419612162\n",
            "20 \t [-10. -10.  10.]\t -220621.0\t -308.3769452572715\t -2.449490051193688\n",
            "21 \t [ 2.35781057 -3.41542509  2.50186577]\t -1643.2163196046088\t -308.3769452572715\t -2.449490051168591\n",
            "22 \t [ 3.06768665 -2.09555432 -4.10236406]\t -3904.715636523233\t -308.3769452572715\t -2.4494900450326456\n",
            "23 \t [-1.69895756 -7.46156827 -1.02421355]\t -25841.576477996798\t -308.3769452572715\t -2.449489860914931\n",
            "24 \t [-1.00000000e+01  9.70486034e+00  7.54053247e-03]\t -79103.77181989898\t -308.3769452572715\t -2.4494895326699893\n",
            "25 \t [-4.53023303  0.2275125  -3.51199216]\t -1865.5652621907966\t -308.3769452572715\t -2.4494891193563286\n",
            "26 \t [ 10.           2.88295636 -10.        ]\t -116734.11161981679\t -308.3769452572715\t -2.449489041093546\n",
            "27 \t [10. 10. 10.]\t -180581.0\t -308.3769452572715\t -2.4494900512168254\n",
            "28 \t [ 10. -10.  10.]\t -204581.0\t -308.3769452572715\t -2.449490050675286\n",
            "29 \t [-2.72258482 10.         10.        ]\t -190506.7504323396\t -308.3769452572715\t -2.4494900492444915\n",
            "\u001b[1m\u001b[92m30\u001b[0m\t \u001b[1m\u001b[92m[ 8.46168039 -2.17064711  0.78347425]\u001b[0m\t \u001b[1m\u001b[92m-92.17210284870518\u001b[0m\t \u001b[1m\u001b[92m-92.17210284870518\u001b[0m\t \u001b[1m\u001b[92m-2.4494900512168254\u001b[0m\n"
          ]
        }
      ]
    },
    {
      "cell_type": "code",
      "metadata": {
        "colab": {
          "base_uri": "https://localhost:8080/"
        },
        "id": "QQBR-qJPGCcp",
        "outputId": "96f963ea-7ac2-4c78-9f35-7b2eb77c50bf"
      },
      "source": [
        "### ESTIMATED GP CBM GRADIENTS\n",
        "\n",
        "np.random.seed(run_num_10)\n",
        "surrogate_approx_10 = GaussianProcess(cov_func, optimize=opt)\n",
        "\n",
        "approx_10 = GPGO_multi(surrogate_approx_10, Acquisition_new(util_grad_approx), objfunc, param)\n",
        "approx_10.run(init_evals=n_init, max_iter=iters)\n"
      ],
      "execution_count": 22,
      "outputs": [
        {
          "output_type": "stream",
          "name": "stdout",
          "text": [
            "Evaluation \t Proposed point \t  Current eval. \t  Best eval. \t         Max AcqFunc.\n",
            "init\t [ 5.42641287 -9.58496101  2.6729647 ]\t -65323.138576781035\t -11089.42002600802\t    \n",
            "init\t [ 4.97607765 -0.02985975 -5.50406709]\t -11089.42002600802\t -11089.42002600802\t    \n",
            "init\t [-6.0387427   5.21061424 -6.61778327]\t -27690.457734888914\t -11089.42002600802\t    \n",
            "init\t [-8.23320372  3.70719637  9.06786692]\t -80154.14403008527\t -11089.42002600802\t    \n",
            "init\t [-9.92103467  0.24384527  6.25241923]\t -18545.57155390516\t -11089.42002600802\t    \n",
            "1  \t [6.10446394 0.43294305 8.17297762]\t -53288.212919444646\t -11089.42002600802\t -2.4494900512168254\n",
            "2  \t [10. 10. 10.]\t -180581.0\t -11089.42002600802\t -2.4494900512168254\n",
            "3  \t [-2.9726724  -7.13226058 10.        ]\t -150655.87022522473\t -11089.42002600802\t -2.4494900512168254\n",
            "4  \t [3.25643503 8.71340004 2.25458364]\t -44169.54631375984\t -11089.42002600802\t -2.4494900512168254\n",
            "5  \t [-4.51864821 -4.41820786 -7.58640717]\t -46684.2942823814\t -11089.42002600802\t -2.4494900512168254\n",
            "6  \t [ 8.09627953 -9.91552173 -8.52992239]\t -143623.97605290846\t -11089.42002600802\t -2.4494900512168254\n",
            "7  \t [ 10.  10. -10.]\t -180581.0\t -11089.42002600802\t -2.4494900512168254\n",
            "8  \t [-10. -10. -10.]\t -220621.0\t -11089.42002600802\t -2.4494900512168254\n",
            "\u001b[1m\u001b[92m9\u001b[0m\t \u001b[1m\u001b[92m[-2.62611678  4.02345805  1.06172834]\u001b[0m\t \u001b[1m\u001b[92m-2472.892474081595\u001b[0m\t \u001b[1m\u001b[92m-2472.892474081595\u001b[0m\t \u001b[1m\u001b[92m-2.4494900456599207\u001b[0m\n",
            "10 \t [ 10. -10.  10.]\t -204581.0\t -2472.892474081595\t -2.449490051214934\n",
            "11 \t [-10.         -10.           5.15724651]\t -100301.59016453935\t -2472.892474081595\t -2.449490051216637\n",
            "12 \t [4.46588649 0.41056736 4.72710494]\t -5928.386985062376\t -2472.892474081595\t -2.4494900512168254\n",
            "13 \t [-10.          10.          -0.48182449]\t -88593.78817015109\t -2472.892474081595\t -2.4494900512164475\n",
            "14 \t [-4.47185473  9.81338461  6.19550375]\t -91157.51812623827\t -2472.892474081595\t -2.4494900467990823\n",
            "15 \t [ 0.24009394 -4.2583773  -0.17910105]\t -2652.586112496535\t -2472.892474081595\t -2.449490050609728\n",
            "16 \t [ 0.95530338  8.7616668  -7.43967209]\t -77732.98782373544\t -2472.892474081595\t -2.449490050786024\n",
            "17 \t [-10.  10. -10.]\t -196621.0\t -2472.892474081595\t -2.449489865471009\n",
            "18 \t [10.          5.08994026 -1.53035895]\t -3578.480085972527\t -2472.892474081595\t -2.44949005119973\n",
            "\u001b[1m\u001b[92m19\u001b[0m\t \u001b[1m\u001b[92m[-8.87916609 -0.77879581 -2.17159724]\u001b[0m\t \u001b[1m\u001b[92m-614.0641895215111\u001b[0m\t \u001b[1m\u001b[92m-614.0641895215111\u001b[0m\t \u001b[1m\u001b[92m-2.449490050021116\u001b[0m\n",
            "20 \t [2.85295713 8.88794756 9.47942193]\t -135688.81964229376\t -614.0641895215111\t -2.4494896143257954\n",
            "21 \t [  1.96647323  -4.32296337 -10.        ]\t -127752.22681069486\t -614.0641895215111\t -2.4494888778063895\n",
            "22 \t [-2.32920352 -0.33795702  6.66475247]\t -23881.140729947387\t -614.0641895215111\t -2.449489964416456\n",
            "23 \t [ 10.           2.85676711 -10.        ]\t -116757.30417923987\t -614.0641895215111\t -2.4494892887978823\n",
            "\u001b[1m\u001b[92m24\u001b[0m\t \u001b[1m\u001b[92m[10.         -1.86580669  0.93470227]\u001b[0m\t \u001b[1m\u001b[92m-138.617601843595\u001b[0m\t \u001b[1m\u001b[92m-138.617601843595\u001b[0m\t \u001b[1m\u001b[92m-2.449490011227611\u001b[0m\n",
            "25 \t [-6.41522866 -9.36379388 -1.26693803]\t -66614.69851860056\t -138.617601843595\t -2.4494899786962994\n",
            "26 \t [-2.95326166 10.         -1.39114516]\t -82508.39086418835\t -138.617601843595\t -2.4494883959298277\n",
            "27 \t [  0.34242152 -10.          -5.39724629]\t -93705.23160953849\t -138.617601843595\t -2.4494900046694092\n",
            "28 \t [ -0.47866424   2.4334385  -10.        ]\t -117403.48405176621\t -138.617601843595\t -2.4494884124151595\n",
            "29 \t [ 9.86832269 -7.03646675 -1.16157646]\t -16260.329894886263\t -138.617601843595\t -2.4494900512168254\n",
            "30 \t [-10.           0.37462403 -10.        ]\t -119883.25721831692\t -138.617601843595\t -2.449489898889174\n"
          ]
        }
      ]
    },
    {
      "cell_type": "code",
      "metadata": {
        "colab": {
          "base_uri": "https://localhost:8080/"
        },
        "id": "JS8ejeQ2GCfi",
        "outputId": "f8c56116-5c58-462e-9a65-ef53c98375e7"
      },
      "source": [
        "### ESTIMATED GP CBM GRADIENTS\n",
        "\n",
        "np.random.seed(run_num_11)\n",
        "surrogate_approx_11 = GaussianProcess(cov_func, optimize=opt)\n",
        "\n",
        "approx_11 = GPGO_multi(surrogate_approx_11, Acquisition_new(util_grad_approx), objfunc, param)\n",
        "approx_11.run(init_evals=n_init, max_iter=iters)\n"
      ],
      "execution_count": 23,
      "outputs": [
        {
          "output_type": "stream",
          "name": "stdout",
          "text": [
            "Evaluation \t Proposed point \t  Current eval. \t  Best eval. \t         Max AcqFunc.\n",
            "init\t [-6.39460622 -9.61049517 -0.73562947]\t -73449.7462395723\t -22.303897517794855\t    \n",
            "init\t [ 4.49867858 -1.59592791 -0.29145804]\t -22.303897517794855\t -22.303897517794855\t    \n",
            "init\t [-9.74438371 -0.25256785  8.83613305]\t -73699.8605668882\t -22.303897517794855\t    \n",
            "init\t [ 7.01590179  4.5992894  -7.82527856]\t -44207.59530328671\t -22.303897517794855\t    \n",
            "init\t [ 7.87808341  7.14308494 -6.69826765]\t -38246.569253964415\t -22.303897517794855\t    \n",
            "1  \t [-1.96647039  6.95957995  4.35698359]\t -22430.99927361658\t -22.303897517794855\t -2.4494900512168254\n",
            "2  \t [-3.72641694  8.61531845 -5.23307798]\t -52726.91681995238\t -22.303897517794855\t -2.4494900512168254\n",
            "3  \t [  4.61331014 -10.         -10.        ]\t -208664.97316107762\t -22.303897517794855\t -2.4494900512168254\n",
            "4  \t [8.79978443 9.21187338 4.01322808]\t -53436.69770955808\t -22.303897517794855\t -2.4494900512168254\n",
            "5  \t [ 5.40088552 -8.93292028  7.72280751]\t -96888.8410801737\t -22.303897517794855\t -2.4494900512168254\n",
            "6  \t [-10. -10. -10.]\t -220621.0\t -22.303897517794855\t -2.4494900512168254\n",
            "7  \t [-9.91700398  2.82413986 -1.82953825]\t -1502.4804901611444\t -22.303897517794855\t -2.4494900512168054\n",
            "8  \t [9.19882162 0.03064205 8.95268462]\t -77296.27028686141\t -22.303897517794855\t -2.4494900512168254\n",
            "9  \t [-10.  10.  10.]\t -196621.0\t -22.303897517794855\t -2.4494900512168254\n",
            "10 \t [-1.96545086 -1.97359411 -9.02310706]\t -81682.70067891656\t -22.303897517794855\t -2.4494900512168254\n",
            "11 \t [-10. -10.  10.]\t -220621.0\t -22.303897517794855\t -2.4494900512168254\n",
            "12 \t [ 9.51210692 -3.77811071 -6.62262265]\t -25911.963175652418\t -22.303897517794855\t -2.4494900512081483\n",
            "13 \t [-1.168663   -1.26752222  5.50685239]\t -11544.758109851899\t -22.303897517794855\t -2.4494900512083104\n",
            "14 \t [ 1.3925504  -7.5833256  -1.12331643]\t -26126.11925624919\t -22.303897517794855\t -2.4494900498789685\n",
            "15 \t [ 10.         -10.          -1.28196485]\t -72810.6225621351\t -22.303897517794855\t -2.4494900511878623\n",
            "16 \t [-10.  10. -10.]\t -196621.0\t -22.303897517794855\t -2.449490050882742\n",
            "17 \t [ -2.1130387 -10.         10.       ]\t -214009.05183124507\t -22.303897517794855\t -2.4494900466606744\n",
            "18 \t [  0.12693098   5.15875306 -10.        ]\t -119529.00568049468\t -22.303897517794855\t -2.4494894727834375\n",
            "19 \t [4.32747811 2.91897659 3.41806042]\t -1588.6076203626196\t -22.303897517794855\t -2.4494895913216035\n",
            "20 \t [-10.          10.          -0.21307476]\t -88615.57663222028\t -22.303897517794855\t -2.449490049785457\n",
            "21 \t [-1.20785097  0.31138189 -1.29876097]\t -36.93532149308824\t -22.303897517794855\t -2.4494898131602985\n",
            "22 \t [-6.12631494 -2.78958821 -2.63686625]\t -1827.9303427141288\t -22.303897517794855\t -2.4494891823570186\n",
            "23 \t [-10.           2.77871014  -8.77447127]\t -70003.57003270437\t -22.303897517794855\t -2.4494898058454004\n",
            "24 \t [-3.08867458 -9.33713157 -7.79278504]\t -114315.40037974225\t -22.303897517794855\t -2.44948970195646\n",
            "25 \t [ 2.69741318  0.07454158 -4.85036223]\t -6637.966211909346\t -22.303897517794855\t -2.4494900512168254\n",
            "26 \t [10.          2.19360018 -2.04051875]\t -194.1548421713497\t -22.303897517794855\t -2.4494890916276133\n",
            "27 \t [ 3.62282104  9.9624909  -1.36398564]\t -76079.89040467892\t -22.303897517794855\t -2.4494900075230603\n",
            "28 \t [ 9.40762179 -3.87094739  2.5278871 ]\t -1747.989600048113\t -22.303897517794855\t -2.4494897886811007\n",
            "29 \t [-4.48707248  4.40854495 10.        ]\t -118557.92446558988\t -22.303897517794855\t -2.44948749073205\n",
            "30 \t [-6.73320298 -5.70614097  5.06205742]\t -20117.20691149625\t -22.303897517794855\t -2.4494887665961316\n"
          ]
        }
      ]
    },
    {
      "cell_type": "code",
      "metadata": {
        "colab": {
          "base_uri": "https://localhost:8080/"
        },
        "id": "DXwjUVZ4GCii",
        "outputId": "c0ffeb4b-f9d0-4c53-81b7-2a46b81f84ed"
      },
      "source": [
        "### ESTIMATED GP CBM GRADIENTS\n",
        "\n",
        "np.random.seed(run_num_12)\n",
        "surrogate_approx_12 = GaussianProcess(cov_func, optimize=opt)\n",
        "\n",
        "approx_12 = GPGO_multi(surrogate_approx_12, Acquisition_new(util_grad_approx), objfunc, param)\n",
        "approx_12.run(init_evals=n_init, max_iter=iters)\n"
      ],
      "execution_count": 24,
      "outputs": [
        {
          "output_type": "stream",
          "name": "stdout",
          "text": [
            "Evaluation \t Proposed point \t  Current eval. \t  Best eval. \t         Max AcqFunc.\n",
            "init\t [-6.91674315  4.80099393 -4.7336997 ]\t -10487.591252066548\t -4586.38475927115\t    \n",
            "init\t [ 0.67478787 -9.70850075  8.37494016]\t -138053.19180525147\t -4586.38475927115\t    \n",
            "init\t [ 8.01429708 -9.33157145  9.13898673]\t -148578.70720060062\t -4586.38475927115\t    \n",
            "init\t [-7.25581357 -4.32343294  2.12166369]\t -4586.38475927115\t -4586.38475927115\t    \n",
            "init\t [ 8.88450272  7.05471082 -9.95481533]\t -126104.01453704505\t -4586.38475927115\t    \n",
            "\u001b[1m\u001b[92m1\u001b[0m\t \u001b[1m\u001b[92m[ 4.05244711 -3.44861047 -3.30704942]\u001b[0m\t \u001b[1m\u001b[92m-2711.705028601448\u001b[0m\t \u001b[1m\u001b[92m-2711.705028601448\u001b[0m\t \u001b[1m\u001b[92m-2.4494900512168254\u001b[0m\n",
            "2  \t [-9.8399332  -9.79123196  1.94917609]\t -82290.79401902205\t -2711.705028601448\t -2.4494900512168254\n",
            "3  \t [-9.24117561 -6.89977426 -6.58701988]\t -48252.938906954136\t -2711.705028601448\t -2.4494900512168254\n",
            "4  \t [-9.90274624 -5.05558204  6.5981439 ]\t -33027.813423262836\t -2711.705028601448\t -2.4494900512168254\n",
            "\u001b[1m\u001b[92m5\u001b[0m\t \u001b[1m\u001b[92m[8.11179655 4.25164412 2.83994041]\u001b[0m\t \u001b[1m\u001b[92m-2046.5141241551942\u001b[0m\t \u001b[1m\u001b[92m-2046.5141241551942\u001b[0m\t \u001b[1m\u001b[92m-2.4494900512168254\u001b[0m\n",
            "6  \t [-1.0203127   6.70305372  2.93327516]\t -16854.29441646725\t -2046.5141241551942\t -2.4494900512168254\n",
            "7  \t [-5.42414735 10.         10.        ]\t -192739.4303007897\t -2046.5141241551942\t -2.4494900512168254\n",
            "8  \t [-3.39588922 -3.70052717  9.95424593]\t -124174.59831589606\t -2046.5141241551942\t -2.4494900512168254\n",
            "9  \t [ 9.85622862 10.         10.        ]\t -180687.74037755502\t -2046.5141241551942\t -2.4494900512168254\n",
            "\u001b[1m\u001b[92m10\u001b[0m\t \u001b[1m\u001b[92m[ 1.62129934 -1.02214826  3.1747845 ]\u001b[0m\t \u001b[1m\u001b[92m-1346.6858399430973\u001b[0m\t \u001b[1m\u001b[92m-1346.6858399430973\u001b[0m\t \u001b[1m\u001b[92m-2.449490051216811\u001b[0m\n",
            "11 \t [ 10.          -9.68473645 -10.        ]\t -195059.23228422465\t -1346.6858399430973\t -2.4494900512168254\n",
            "12 \t [ 10.         -1.3108988 -10.       ]\t -121745.38219646411\t -1346.6858399430973\t -2.449490051216823\n",
            "13 \t [-0.1062215   0.88504267 -9.50278409]\t -96905.48414226453\t -1346.6858399430973\t -2.4494900512168254\n",
            "14 \t [-1.52361308  8.92528175 -8.84260182]\t -116980.07166015083\t -1346.6858399430973\t -2.449490051216498\n",
            "15 \t [-0.47370456 -9.97762256  0.31387618]\t -79976.78296998542\t -1346.6858399430973\t -2.449490050949804\n",
            "16 \t [-10.  10. -10.]\t -196621.0\t -1346.6858399430973\t -2.4494900512168254\n",
            "17 \t [-0.16968381 -8.11405766 -9.04896018]\t -123397.5308195758\t -1346.6858399430973\t -2.4494900512168254\n",
            "\u001b[1m\u001b[92m18\u001b[0m\t \u001b[1m\u001b[92m[ 9.98959263 -3.47289247  0.74989442]\u001b[0m\t \u001b[1m\u001b[92m-543.673734881878\u001b[0m\t \u001b[1m\u001b[92m-543.673734881878\u001b[0m\t \u001b[1m\u001b[92m-2.4494900432028723\u001b[0m\n",
            "19 \t [ -7.61479008   0.32084746 -10.        ]\t -119811.83243782865\t -543.673734881878\t -2.449489859238679\n",
            "20 \t [ 4.52874965  8.03034915 -3.11785973]\t -31375.886547675673\t -543.673734881878\t -2.449490051216792\n",
            "21 \t [-0.4303725   4.55837918  9.74714145]\t -106708.8747453606\t -543.673734881878\t -2.449490051216742\n",
            "22 \t [ 6.72999519 -9.85288555  3.98217806]\t -75475.66507226418\t -543.673734881878\t -2.4494900512168254\n",
            "23 \t [-8.10098369  0.61845424  8.65164439]\t -66917.66088073654\t -543.673734881878\t -2.4494900512168254\n",
            "24 \t [ 9.43339296 -1.12600839  6.30586064]\t -19681.365480912948\t -543.673734881878\t -2.4494900512134965\n",
            "25 \t [-10.          10.           0.48148545]\t -88593.82554328408\t -543.673734881878\t -2.449490051216825\n",
            "26 \t [-7.78147157  3.46637642  1.99101335]\t -2160.9739442116324\t -543.673734881878\t -2.449489044955426\n",
            "27 \t [ 7.96251123  2.0367262  -4.0387979 ]\t -2855.4026966014935\t -543.673734881878\t -2.449488909871324\n",
            "28 \t [  5.4015104  -10.          -4.61849672]\t -84076.06793297408\t -543.673734881878\t -2.4494886084884637\n",
            "29 \t [ 0.82655294  0.84917855 -3.31070482]\t -1332.9204930727701\t -543.673734881878\t -2.4494900512168254\n",
            "30 \t [-3.46679318 -3.6233357  -3.78906468]\t -4924.088812815136\t -543.673734881878\t -2.4494900504765007\n"
          ]
        }
      ]
    },
    {
      "cell_type": "code",
      "metadata": {
        "colab": {
          "base_uri": "https://localhost:8080/"
        },
        "id": "CphOPndPGClX",
        "outputId": "031ea482-7155-4c5c-ad53-5e09b6899a26"
      },
      "source": [
        "### ESTIMATED GP CBM GRADIENTS\n",
        "\n",
        "np.random.seed(run_num_13)\n",
        "surrogate_approx_13 = GaussianProcess(cov_func, optimize=opt)\n",
        "\n",
        "approx_13 = GPGO_multi(surrogate_approx_13, Acquisition_new(util_grad_approx), objfunc, param)\n",
        "approx_13.run(init_evals=n_init, max_iter=iters)\n"
      ],
      "execution_count": 25,
      "outputs": [
        {
          "output_type": "stream",
          "name": "stdout",
          "text": [
            "Evaluation \t Proposed point \t  Current eval. \t  Best eval. \t         Max AcqFunc.\n",
            "init\t [ 5.55404821 -5.2491756   6.48557065]\t -28895.231649642476\t -7190.67128147545\t    \n",
            "init\t [ 9.31498396  9.45202228 -0.93101505]\t -57617.86193657745\t -7190.67128147545\t    \n",
            "init\t [2.18084926 5.51053029 2.8322669 ]\t -7190.67128147545\t -7190.67128147545\t    \n",
            "init\t [ 4.44036459 -9.29926952 -4.03101058]\t -62045.794621798595\t -7190.67128147545\t    \n",
            "init\t [-8.82975016  7.14121885 -2.54291944]\t -24761.06708561053\t -7190.67128147545\t    \n",
            "1  \t [ 0.185244   -0.40233217  9.1114829 ]\t -83108.09560590271\t -7190.67128147545\t -2.4494900512168254\n",
            "2  \t [-2.55507975  5.16954611 -8.57852975]\t -66788.32667697628\t -7190.67128147545\t -2.4494900512168254\n",
            "3  \t [-4.04492519 -9.41811807  2.86360578]\t -67871.1485238979\t -7190.67128147545\t -2.4494900512168254\n",
            "4  \t [ 5.82685351 -2.07230908 -7.09410447]\t -31695.800000421277\t -7190.67128147545\t -2.4494900512168254\n",
            "5  \t [-9.72135464 -7.69244795 -6.22844507]\t -54735.99736938843\t -7190.67128147545\t -2.4494900512168254\n",
            "6  \t [ 1.70981611 -7.96842051  6.63640935]\t -59069.60046239685\t -7190.67128147545\t -2.4494900512168254\n",
            "7  \t [10. 10. 10.]\t -180581.0\t -7190.67128147545\t -2.4494900512168254\n",
            "8  \t [-10. -10.  10.]\t -220621.0\t -7190.67128147545\t -2.4494900512168205\n",
            "9  \t [-2.06134886  9.83003215  6.16274698]\t -89428.5811113947\t -7190.67128147545\t -2.4494900512168254\n",
            "10 \t [-9.07950825  4.05883741  9.39334859]\t -92811.09564931945\t -7190.67128147545\t -2.449490051216825\n",
            "11 \t [ 10.  10. -10.]\t -180581.0\t -7190.67128147545\t -2.4494900512167983\n",
            "12 \t [  7.24529481   3.47197157 -10.        ]\t -116477.58237035536\t -7190.67128147545\t -2.4494900512168254\n",
            "\u001b[1m\u001b[92m13\u001b[0m\t \u001b[1m\u001b[92m[-0.82148405 -2.10242859 -4.54051038]\u001b[0m\t \u001b[1m\u001b[92m-5823.762334442238\u001b[0m\t \u001b[1m\u001b[92m-5823.762334442238\u001b[0m\t \u001b[1m\u001b[92m-2.4494900512168254\u001b[0m\n",
            "\u001b[1m\u001b[92m14\u001b[0m\t \u001b[1m\u001b[92m[-8.38082518 -2.64602889  2.11985023]\u001b[0m\t \u001b[1m\u001b[92m-1496.0846497224004\u001b[0m\t \u001b[1m\u001b[92m-1496.0846497224004\u001b[0m\t \u001b[1m\u001b[92m-2.449490050982656\u001b[0m\n",
            "15 \t [ 10. -10. -10.]\t -204581.0\t -1496.0846497224004\t -2.4494900511304407\n",
            "16 \t [ -2.76193825 -10.         -10.        ]\t -214538.95938526784\t -1496.0846497224004\t -2.449490051169514\n",
            "17 \t [-10.  10. -10.]\t -196621.0\t -1496.0846497224004\t -2.4494900511285107\n",
            "18 \t [ 10. -10.  10.]\t -204581.0\t -1496.0846497224004\t -2.4494900319666697\n",
            "19 \t [6.28948877 1.1576258  7.72507096]\t -41964.78613282861\t -1496.0846497224004\t -2.4494900512168254\n",
            "20 \t [4.84759227 0.35590622 3.48973611]\t -1785.1061528226342\t -1496.0846497224004\t -2.4494900512168254\n",
            "21 \t [ -5.28861825  -1.42005135 -10.        ]\t -121923.44652622809\t -1496.0846497224004\t -2.4494899071684704\n",
            "\u001b[1m\u001b[92m22\u001b[0m\t \u001b[1m\u001b[92m[-3.22530397  2.64826847  0.31329859]\u001b[0m\t \u001b[1m\u001b[92m-631.1494169884314\u001b[0m\t \u001b[1m\u001b[92m-631.1494169884314\u001b[0m\t \u001b[1m\u001b[92m-2.4494889057363927\u001b[0m\n",
            "23 \t [ 3.21798739  9.44684592 -4.51345585]\t -64380.7952238696\t -631.1494169884314\t -2.449489652515634\n",
            "24 \t [-5.72607296 -6.87463942  6.90169012]\t -51442.85628267613\t -631.1494169884314\t -2.4494900512168254\n",
            "25 \t [ 9.51650739 -7.45265382  0.55396087]\t -20899.682211133037\t -631.1494169884314\t -2.449489649838553\n",
            "\u001b[1m\u001b[92m26\u001b[0m\t \u001b[1m\u001b[92m[10.          2.0281976  -1.09883716]\u001b[0m\t \u001b[1m\u001b[92m-87.73442932964942\u001b[0m\t \u001b[1m\u001b[92m-87.73442932964942\u001b[0m\t \u001b[1m\u001b[92m-2.449490016855548\u001b[0m\n",
            "27 \t [-0.5812114  -2.86605021  2.53793913]\t -1325.1887255243537\t -87.73442932964942\t -2.4494868351799823\n",
            "28 \t [ 3.08244943  7.20370875 10.        ]\t -131798.31472734787\t -87.73442932964942\t -2.4494882459472693\n",
            "29 \t [-7.53329135  0.39955566 -3.69982415]\t -2379.55497120382\t -87.73442932964942\t -2.449486441476963\n",
            "30 \t [-2.56923486  9.47404909 -0.87632637]\t -66511.27402663742\t -87.73442932964942\t -2.449486451784122\n"
          ]
        }
      ]
    },
    {
      "cell_type": "code",
      "metadata": {
        "colab": {
          "base_uri": "https://localhost:8080/"
        },
        "id": "ojHTeARNGCoi",
        "outputId": "b45c6249-1d67-49c2-f1bb-4c0f4a2b4532"
      },
      "source": [
        "### ESTIMATED GP CBM GRADIENTS\n",
        "\n",
        "np.random.seed(run_num_14)\n",
        "surrogate_approx_14 = GaussianProcess(cov_func, optimize=opt)\n",
        "\n",
        "approx_14 = GPGO_multi(surrogate_approx_14, Acquisition_new(util_grad_approx), objfunc, param)\n",
        "approx_14.run(init_evals=n_init, max_iter=iters)\n"
      ],
      "execution_count": 26,
      "outputs": [
        {
          "output_type": "stream",
          "name": "stdout",
          "text": [
            "Evaluation \t Proposed point \t  Current eval. \t  Best eval. \t         Max AcqFunc.\n",
            "init\t [0.27886688 5.46330104 7.40855371]\t -39702.89936997373\t -1439.5830530376063\t    \n",
            "init\t [-9.83906103 -3.80528149  9.15207479]\t -91186.29991894927\t -1439.5830530376063\t    \n",
            "init\t [ 0.26233425 -3.6343115   0.78399875]\t -1439.5830530376063\t -1439.5830530376063\t    \n",
            "init\t [-5.57490115  6.12962716 -3.15490749]\t -13643.962145478023\t -1439.5830530376063\t    \n",
            "init\t [ 0.77777698 -9.88252429  3.46304956]\t -79141.18744713577\t -1439.5830530376063\t    \n",
            "1  \t [ 7.75074914 -8.33301678  4.9312824 ]\t -44170.557703432896\t -1439.5830530376063\t -2.4494900512168254\n",
            "2  \t [ 2.4133841   6.9805318  -1.42862351]\t -18093.267359135454\t -1439.5830530376063\t -2.4494900512168254\n",
            "3  \t [ 0.20170278 -6.14709147 -9.49686071]\t -115740.3239857176\t -1439.5830530376063\t -2.4494900512168254\n",
            "4  \t [ 9.06294459  1.2992097  -8.82658009]\t -71756.96862893569\t -1439.5830530376063\t -2.4494900512168254\n",
            "5  \t [-10.          -9.67608451  -1.39470707]\t -78490.8175635322\t -1439.5830530376063\t -2.4494900512168254\n",
            "6  \t [10. 10. 10.]\t -180581.0\t -1439.5830530376063\t -2.4494900512168254\n",
            "7  \t [-9.98486983  5.65195322  8.85829998]\t -79698.68163272133\t -1439.5830530376063\t -2.4494900512168254\n",
            "8  \t [-10.  10. -10.]\t -196621.0\t -1439.5830530376063\t -2.4494900512168245\n",
            "9  \t [8.03566973 2.7583499  4.26213982]\t -3534.1471433950155\t -1439.5830530376063\t -2.4494900512168254\n",
            "10 \t [-7.47179403 -0.71296606 -3.68301312]\t -2541.432189840287\t -1439.5830530376063\t -2.4494900512168254\n",
            "11 \t [ 10.  10. -10.]\t -180581.0\t -1439.5830530376063\t -2.4494900512168254\n",
            "12 \t [ 4.41565709 -2.51625723 -4.8900489 ]\t -7750.48116422293\t -1439.5830530376063\t -2.4494900512168254\n",
            "13 \t [-3.36390978  3.12902366  6.11942711]\t -16523.004276481952\t -1439.5830530376063\t -2.4494900512168254\n",
            "14 \t [-1.09561874  1.18907994 -9.15027414]\t -82968.28063735437\t -1439.5830530376063\t -2.449490002774847\n",
            "15 \t [0.89026243 7.74449105 2.59197279]\t -28449.696044348027\t -1439.5830530376063\t -2.4494900512168254\n",
            "16 \t [ 2.85949821 -9.98935033 -4.12664889]\t -83217.46643077736\t -1439.5830530376063\t -2.4494900512168254\n",
            "17 \t [ 10. -10. -10.]\t -204581.0\t -1439.5830530376063\t -2.449490051216814\n",
            "18 \t [ 2.24496432 -3.39912563 -6.205258  ]\t -20269.19299563198\t -1439.5830530376063\t -2.4494900512168254\n",
            "19 \t [  0.01107635  10.         -10.        ]\t -188292.11713851982\t -1439.5830530376063\t -2.449490051216607\n",
            "20 \t [ 9.11704147  8.11686007 -1.28688085]\t -30221.086342978495\t -1439.5830530376063\t -2.4494892320203205\n",
            "21 \t [10.         -6.82480826 -2.25866401]\t -14780.697494427888\t -1439.5830530376063\t -2.4494900455354314\n",
            "22 \t [-10. -10. -10.]\t -220621.0\t -1439.5830530376063\t -2.449490051213728\n",
            "23 \t [ 6.66736482 -2.10806493  8.76035782]\t -72672.14237973142\t -1439.5830530376063\t -2.449489818652453\n",
            "24 \t [-2.95354338 -3.98996586  7.95024535]\t -53451.409707959625\t -1439.5830530376063\t -2.449488933476768\n",
            "25 \t [-10.           2.21371793 -10.        ]\t -118263.40678369\t -1439.5830530376063\t -2.449490042937813\n",
            "26 \t [-5.72171004  9.17409769  3.63315056]\t -61522.030174831045\t -1439.5830530376063\t -2.4494888069085303\n",
            "\u001b[1m\u001b[92m27\u001b[0m\t \u001b[1m\u001b[92m[10.          0.56223309 -2.00688085]\u001b[0m\t \u001b[1m\u001b[92m-424.94193020766966\u001b[0m\t \u001b[1m\u001b[92m-424.94193020766966\u001b[0m\t \u001b[1m\u001b[92m-2.449488480829848\u001b[0m\n",
            "28 \t [-7.53645057 -9.49972259  5.12846309]\t -82350.32743769948\t -424.94193020766966\t -2.44948888898377\n",
            "29 \t [-9.6873172   2.95685055  2.43227052]\t -1827.287947208513\t -424.94193020766966\t -2.4494889174072823\n",
            "30 \t [-6.91957419 -3.02809152  2.34825711]\t -1931.4517648856781\t -424.94193020766966\t -2.449487169839178\n"
          ]
        }
      ]
    },
    {
      "cell_type": "code",
      "metadata": {
        "colab": {
          "base_uri": "https://localhost:8080/"
        },
        "id": "vCJzn4vWGCs3",
        "outputId": "62ef9566-49ca-4045-b944-d3271c4c2d1e"
      },
      "source": [
        "### ESTIMATED GP CBM GRADIENTS\n",
        "\n",
        "np.random.seed(run_num_15)\n",
        "surrogate_approx_15 = GaussianProcess(cov_func, optimize=opt)\n",
        "\n",
        "approx_15 = GPGO_multi(surrogate_approx_15, Acquisition_new(util_grad_approx), objfunc, param)\n",
        "approx_15.run(init_evals=n_init, max_iter=iters)\n"
      ],
      "execution_count": 27,
      "outputs": [
        {
          "output_type": "stream",
          "name": "stdout",
          "text": [
            "Evaluation \t Proposed point \t  Current eval. \t  Best eval. \t         Max AcqFunc.\n",
            "init\t [ 6.97635395 -6.4220815  -8.91273571]\t -93407.31094956005\t -3815.237318891498\t    \n",
            "init\t [-2.76923108 -4.49198143  0.6000045 ]\t -3815.237318891498\t -3815.237318891498\t    \n",
            "init\t [-3.88162169 -3.91051282 -7.76517448]\t -48905.136415868226\t -3815.237318891498\t    \n",
            "init\t [-5.00201972  8.35259796 -4.71706293]\t -45736.265979350435\t -3815.237318891498\t    \n",
            "init\t [4.35547375 7.31430068 6.14158964]\t -35004.84714820178\t -3815.237318891498\t    \n",
            "\u001b[1m\u001b[92m1\u001b[0m\t \u001b[1m\u001b[92m[-4.02002687  0.75490439  3.31255076]\u001b[0m\t \u001b[1m\u001b[92m-1425.6331932181074\u001b[0m\t \u001b[1m\u001b[92m-1425.6331932181074\u001b[0m\t \u001b[1m\u001b[92m-2.4494900512168254\u001b[0m\n",
            "2  \t [ 2.60405856  6.24027381 -8.67997755]\t -73928.10815893668\t -1425.6331932181074\t -2.4494900512168254\n",
            "3  \t [-10. -10.  10.]\t -220621.0\t -1425.6331932181074\t -2.4494900512168254\n",
            "4  \t [ 5.05406978 -4.8669869   5.11668062]\t -13423.651465814419\t -1425.6331932181074\t -2.4494900512168254\n",
            "5  \t [ 9.6912661   3.58725193 -5.40327777]\t -9600.747023774824\t -1425.6331932181074\t -2.4494900512168254\n",
            "\u001b[1m\u001b[92m6\u001b[0m\t \u001b[1m\u001b[92m[ 3.08146014  2.69442923 -0.59029664]\u001b[0m\t \u001b[1m\u001b[92m-277.9785514012049\u001b[0m\t \u001b[1m\u001b[92m-277.9785514012049\u001b[0m\t \u001b[1m\u001b[92m-2.4494900512168236\u001b[0m\n",
            "7  \t [-8.19638088  7.14691904  8.96231951]\t -95126.48688189717\t -277.9785514012049\t -2.4494900512168254\n",
            "8  \t [ 10. -10.  10.]\t -204581.0\t -277.9785514012049\t -2.449490051216822\n",
            "9  \t [-0.25085639  1.02709015  9.44666885]\t -94480.36267714304\t -277.9785514012049\t -2.449490051028193\n",
            "10 \t [ 10.  10. -10.]\t -180581.0\t -277.9785514012049\t -2.4494900512117295\n",
            "11 \t [-3.43726941  9.18570871  2.74089324]\t -59421.984312770335\t -277.9785514012049\t -2.449490051161691\n",
            "12 \t [10.          1.72420506  4.09119014]\t -3138.340869256356\t -277.9785514012049\t -2.449490051213085\n",
            "13 \t [-8.49611629 -0.73181514  8.95868757]\t -78275.97397070796\t -277.9785514012049\t -2.4494900512168254\n",
            "14 \t [-10. -10. -10.]\t -220621.0\t -277.9785514012049\t -2.4494900512168254\n",
            "15 \t [-9.72970835  1.63019389 -8.98385101]\t -77165.35620565368\t -277.9785514012049\t -2.4494900512157622\n",
            "16 \t [-5.32591819 -7.29907843  9.27044003]\t -121391.54496541593\t -277.9785514012049\t -2.4494900512168254\n",
            "17 \t [ 3.18306572 -9.35162255 -2.19739649]\t -60066.07915978792\t -277.9785514012049\t -2.449490051133548\n",
            "18 \t [ 5.11932394 -4.93502407  1.09823596]\t -3979.022555380835\t -277.9785514012049\t -2.4494900512168254\n",
            "19 \t [-10.  10. -10.]\t -196621.0\t -277.9785514012049\t -2.4494900319209822\n",
            "20 \t [9.32039296 9.74034978 2.59587054]\t -65219.95879519922\t -277.9785514012049\t -2.4494900511968325\n",
            "21 \t [10. 10. 10.]\t -180581.0\t -277.9785514012049\t -2.4494899864721384\n",
            "22 \t [-10.         -10.           0.87329387]\t -88719.49653948046\t -277.9785514012049\t -2.4494900512168254\n",
            "23 \t [-10.          -1.90353017   1.09433093]\t -771.343150945805\t -277.9785514012049\t -2.449490019940363\n",
            "24 \t [  4.23741443  -0.24382384 -10.        ]\t -120337.17213266982\t -277.9785514012049\t -2.4494900512168254\n",
            "25 \t [-4.45240261 -9.49992689 -7.44304263]\t -111857.06139021883\t -277.9785514012049\t -2.449490051216822\n",
            "26 \t [-1.64984255 10.         10.        ]\t -189632.33966728605\t -277.9785514012049\t -2.4494897973554717\n",
            "27 \t [-10.           4.29856527   2.79098289]\t -4912.361620669133\t -277.9785514012049\t -2.4494887560712657\n",
            "28 \t [-6.10918142  1.16720444 -2.83596756]\t -874.2763539733423\t -277.9785514012049\t -2.4494884560766272\n",
            "29 \t [ 1.8850632   9.97908401 -2.48241401]\t -77855.43336670086\t -277.9785514012049\t -2.4494898877087947\n",
            "30 \t [ 10.         -10.          -4.11543791]\t -78055.69371826558\t -277.9785514012049\t -2.4494900512085676\n"
          ]
        }
      ]
    },
    {
      "cell_type": "code",
      "metadata": {
        "colab": {
          "base_uri": "https://localhost:8080/"
        },
        "id": "bGGkhp-kGCw6",
        "outputId": "2374476d-ecf9-4945-a9cd-e9f1bd3dd91c"
      },
      "source": [
        "### ESTIMATED GP CBM GRADIENTS\n",
        "\n",
        "np.random.seed(run_num_16)\n",
        "surrogate_approx_16 = GaussianProcess(cov_func, optimize=opt)\n",
        "\n",
        "approx_16 = GPGO_multi(surrogate_approx_16, Acquisition_new(util_grad_approx), objfunc, param)\n",
        "approx_16.run(init_evals=n_init, max_iter=iters)\n"
      ],
      "execution_count": 28,
      "outputs": [
        {
          "output_type": "stream",
          "name": "stdout",
          "text": [
            "Evaluation \t Proposed point \t  Current eval. \t  Best eval. \t         Max AcqFunc.\n",
            "init\t [-5.53417842  0.46326683  1.01402913]\t -121.43529547027163\t -121.43529547027163\t    \n",
            "init\t [-9.087961   -2.78542329 -5.53838117]\t -13651.622350397936\t -121.43529547027163\t    \n",
            "init\t [ 3.77452324 -6.7253715  -8.59350266]\t -86575.28663542298\t -121.43529547027163\t    \n",
            "init\t [ 8.8202172   1.2736276  -8.44015321]\t -59934.59518842736\t -121.43529547027163\t    \n",
            "init\t [ 4.45281022 -6.83095653 -4.99437387]\t -25459.039011491368\t -121.43529547027163\t    \n",
            "1  \t [4.18505664 9.44091052 6.20078235]\t -74267.36337655598\t -121.43529547027163\t -2.4494900512168254\n",
            "2  \t [ 5.46645324 -3.10791558  7.00820468]\t -31211.732976445848\t -121.43529547027163\t -2.4494900512168254\n",
            "3  \t [-10.  10.  10.]\t -196621.0\t -121.43529547027163\t -2.4494900512168254\n",
            "4  \t [-2.61755868 -8.2924165   4.84857415]\t -48472.3424987587\t -121.43529547027163\t -2.4494900512168254\n",
            "5  \t [-3.40441603  9.0441433  -4.42822156]\t -58527.14818017682\t -121.43529547027163\t -2.4494900512168254\n",
            "6  \t [-10. -10.  10.]\t -220621.0\t -121.43529547027163\t -2.449490051216811\n",
            "7  \t [ 10.  10. -10.]\t -180581.0\t -121.43529547027163\t -2.449490051216696\n",
            "8  \t [-10.  10. -10.]\t -196621.0\t -121.43529547027163\t -2.449490051215622\n",
            "9  \t [ 10. -10.  10.]\t -204581.0\t -121.43529547027163\t -2.4494900512165287\n",
            "10 \t [ 9.98852149 -7.93099291 -5.611128  ]\t -41986.637450421564\t -121.43529547027163\t -2.4494900512168254\n",
            "11 \t [-10. -10. -10.]\t -220621.0\t -121.43529547027163\t -2.449490051215758\n",
            "12 \t [-6.70295985 -0.04314245  9.76940108]\t -109506.97739819076\t -121.43529547027163\t -2.4494900512168245\n",
            "13 \t [2.19961654 2.78945804 0.93295817]\t -361.85271982770576\t -121.43529547027163\t -2.449490051215184\n",
            "14 \t [ 0.63794182  2.82092093 -9.10305012]\t -80086.04334971186\t -121.43529547027163\t -2.449490051195188\n",
            "15 \t [-1.41974346 -4.23498454 -1.06925942]\t -2914.5275838549464\t -121.43529547027163\t -2.4494899430452284\n",
            "16 \t [-2.99358121 10.          3.74820622]\t -83411.36036020785\t -121.43529547027163\t -2.4494900410373917\n",
            "17 \t [ 6.28965542 -9.07104084  2.13178207]\t -51121.13321252578\t -121.43529547027163\t -2.449490047968065\n",
            "18 \t [ 5.0665034   9.1123723  -1.44259043]\t -51934.72655193542\t -121.43529547027163\t -2.4494900459324707\n",
            "19 \t [10.          2.65288918 10.        ]\t -116951.86816469861\t -121.43529547027163\t -2.4494900508364927\n",
            "20 \t [10.         -1.29178251 -0.41721447]\t -177.84836480132353\t -121.43529547027163\t -2.4494900512029556\n",
            "21 \t [  2.64372841  10.         -10.        ]\t -186201.69771737047\t -121.43529547027163\t -2.449489867888967\n",
            "22 \t [-10.         -10.           0.68015142]\t -88679.0807648964\t -121.43529547027163\t -2.449490051215418\n",
            "23 \t [ 1.52758579  3.56604812 10.        ]\t -116902.14645194798\t -121.43529547027163\t -2.44949002564562\n",
            "24 \t [-10.           4.720412    -2.88046758]\t -6498.546137643794\t -121.43529547027163\t -2.449490050696025\n",
            "25 \t [ -7.04697402   2.19912608 -10.        ]\t -117999.37994395349\t -121.43529547027163\t -2.4494898849320097\n",
            "26 \t [8.77221009 4.45394018 2.63431738]\t -2236.9023931606534\t -121.43529547027163\t -2.449489874815704\n",
            "27 \t [-9.83301814 -3.39581463  4.42078081]\t -7695.933476633805\t -121.43529547027163\t -2.4494891193735184\n",
            "28 \t [10. 10. 10.]\t -180581.0\t -121.43529547027163\t -2.4494888808213724\n",
            "29 \t [-2.59267698 -3.95096804 -9.49135007]\t -104002.73863938802\t -121.43529547027163\t -2.4494890434032475\n",
            "30 \t [-8.46580847  4.47796165  4.60037073]\t -9105.317358015713\t -121.43529547027163\t -2.4494889585736033\n"
          ]
        }
      ]
    },
    {
      "cell_type": "code",
      "metadata": {
        "id": "Yrs2mp7hGC1Z",
        "colab": {
          "base_uri": "https://localhost:8080/"
        },
        "outputId": "43532a14-fa4b-442c-da4b-8d36fc9988a0"
      },
      "source": [
        "### ESTIMATED GP CBM GRADIENTS\n",
        "\n",
        "np.random.seed(run_num_17)\n",
        "surrogate_approx_17 = GaussianProcess(cov_func, optimize=opt)\n",
        "\n",
        "approx_17 = GPGO_multi(surrogate_approx_17, Acquisition_new(util_grad_approx), objfunc, param)\n",
        "approx_17.run(init_evals=n_init, max_iter=iters)\n"
      ],
      "execution_count": 29,
      "outputs": [
        {
          "output_type": "stream",
          "name": "stdout",
          "text": [
            "Evaluation \t Proposed point \t  Current eval. \t  Best eval. \t         Max AcqFunc.\n",
            "init\t [-4.10669995  0.61173511 -6.16958426]\t -17181.1334683022\t -11774.913131399897\t    \n",
            "init\t [-8.64199284  5.7397092   3.12667044]\t -11774.913131399897\t -11774.913131399897\t    \n",
            "init\t [ 2.75041792  1.51205788 -9.21874168]\t -85144.34017448343\t -11774.913131399897\t    \n",
            "init\t [-2.84372791  8.91366374 -8.79910639]\t -116232.21251957516\t -11774.913131399897\t    \n",
            "init\t [ 7.28084207  7.54581052 -8.97612669]\t -93540.66819534874\t -11774.913131399897\t    \n",
            "1  \t [ 3.53524771 -7.6305547  -1.10007868]\t -25809.301647344466\t -11774.913131399897\t -2.4494900512168254\n",
            "\u001b[1m\u001b[92m2\u001b[0m\t \u001b[1m\u001b[92m[9.06605384 1.70871417 1.66132937]\u001b[0m\t \u001b[1m\u001b[92m-129.46210636737467\u001b[0m\t \u001b[1m\u001b[92m-129.46210636737467\u001b[0m\t \u001b[1m\u001b[92m-2.4494900512168254\u001b[0m\n",
            "3  \t [5.27601463 9.99566767 6.35850193]\t -90783.98305117982\t -129.46210636737467\t -2.4494900512168254\n",
            "4  \t [-8.52512993 -8.03930931 -1.75006035]\t -38662.67579605237\t -129.46210636737467\t -2.4494900512168254\n",
            "\u001b[1m\u001b[92m5\u001b[0m\t \u001b[1m\u001b[92m[0.15625771 0.16541122 1.58122263]\u001b[0m\t \u001b[1m\u001b[92m-70.86764058592647\u001b[0m\t \u001b[1m\u001b[92m-70.86764058592647\u001b[0m\t \u001b[1m\u001b[92m-2.4494900512168254\u001b[0m\n",
            "6  \t [0.77793961 2.17142302 2.23437955]\t -332.9224565238143\t -70.86764058592647\t -2.4494900512168254\n",
            "7  \t [  7.12760616 -10.          10.        ]\t -206737.06817218848\t -70.86764058592647\t -2.4494900512168254\n",
            "8  \t [-6.17878165 -8.81449665  8.90115876]\t -136204.46206638045\t -70.86764058592647\t -2.4494900512168254\n",
            "9  \t [ 5.55941333  5.00707289 -2.04022336]\t -4028.949859384822\t -70.86764058592647\t -2.4494900512168254\n",
            "10 \t [-3.26691993 -8.47611685 -8.60217547]\t -116659.8446216239\t -70.86764058592647\t -2.4494900512157143\n",
            "11 \t [9.00876915 0.79791433 2.81059692]\t -858.903901979533\t -70.86764058592647\t -2.4494900512168254\n",
            "12 \t [-3.773484    1.89286097  9.69074558]\t -103970.0539578572\t -70.86764058592647\t -2.44949005121681\n",
            "13 \t [-10.  10.  10.]\t -196621.0\t -70.86764058592647\t -2.449490051203482\n",
            "14 \t [ 10. -10. -10.]\t -204581.0\t -70.86764058592647\t -2.4494900512168254\n",
            "15 \t [10.         -0.34979152 -8.89290371]\t -75654.50057376301\t -70.86764058592647\t -2.449490024330765\n",
            "16 \t [ 7.99361201  3.35563301 10.        ]\t -116477.99542416609\t -70.86764058592647\t -2.449490050760564\n",
            "17 \t [-8.05501836  9.91462754 -5.73696897]\t -93227.20230280404\t -70.86764058592647\t -2.4494900512168254\n",
            "18 \t [ 2.79486045 -3.78680801  5.85414641]\t -17037.680421919216\t -70.86764058592647\t -2.449490012392088\n",
            "19 \t [ 9.49805404  3.07555425 -0.10628135]\t -277.65198833123293\t -70.86764058592647\t -2.6720729190030656\n",
            "20 \t [10.         10.          0.36946041]\t -72564.8434706622\t -70.86764058592647\t -2.4494900444011902\n",
            "21 \t [-9.29284485 -0.82691655  6.17168679]\t -18123.166948298905\t -70.86764058592647\t -2.44948994688574\n",
            "22 \t [ 10.         -10.           2.74526843]\t -74166.96560682956\t -70.86764058592647\t -2.4494900503118227\n",
            "23 \t [-1.24996559  8.56939438 -0.86602142]\t -44033.47154888341\t -70.86764058592647\t -2.4494900511601263\n",
            "24 \t [-2.98066863  9.63809114  6.10847754]\t -83951.92843069806\t -70.86764058592647\t -2.449490038782064\n",
            "25 \t [-10. -10. -10.]\t -220621.0\t -70.86764058592647\t -2.4494898517329484\n",
            "26 \t [ 4.36173803 -5.28159175 -8.94348639]\t -87227.26767132862\t -70.86764058592647\t -2.449488863792717\n",
            "27 \t [-10.           0.44571651  -1.35260061]\t -368.18546107995206\t -70.86764058592647\t -2.4494899754022685\n",
            "28 \t [-10.           3.63575246  -8.57492336]\t -64486.72502853868\t -70.86764058592647\t -2.4494896608126333\n",
            "29 \t [ 9.46633781 -5.54940548 -3.8498535 ]\t -9221.269094150572\t -70.86764058592647\t -2.4494889008052176\n",
            "30 \t [-2.84991207 -9.58277034  1.26677892]\t -70076.87499312518\t -70.86764058592647\t -2.4494890334985167\n"
          ]
        }
      ]
    },
    {
      "cell_type": "code",
      "metadata": {
        "id": "f0HIEP3PIUEa",
        "colab": {
          "base_uri": "https://localhost:8080/"
        },
        "outputId": "e656f630-a700-44ef-c82b-abbc7aea8c22"
      },
      "source": [
        "### ESTIMATED GP CBM GRADIENTS\n",
        "\n",
        "np.random.seed(run_num_18)\n",
        "surrogate_approx_18 = GaussianProcess(cov_func, optimize=opt)\n",
        "\n",
        "approx_18 = GPGO_multi(surrogate_approx_18, Acquisition_new(util_grad_approx), objfunc, param)\n",
        "approx_18.run(init_evals=n_init, max_iter=iters)\n"
      ],
      "execution_count": 30,
      "outputs": [
        {
          "output_type": "stream",
          "name": "stdout",
          "text": [
            "Evaluation \t Proposed point \t  Current eval. \t  Best eval. \t         Max AcqFunc.\n",
            "init\t [3.00748483 0.10906747 7.57202942]\t -39395.322047969305\t -27664.83628190573\t    \n",
            "init\t [-6.36319549  7.04466137  5.00272572]\t -27913.961335277138\t -27664.83628190573\t    \n",
            "init\t [ 3.32203335  9.75790897 -4.86063155]\t -74244.15287271979\t -27664.83628190573\t    \n",
            "init\t [-9.43388149  2.71438231  6.94624775]\t -27664.83628190573\t -27664.83628190573\t    \n",
            "init\t [ 4.7234925  -9.58385776 -7.76793739]\t -114986.86534587143\t -27664.83628190573\t    \n",
            "\u001b[1m\u001b[92m1\u001b[0m\t \u001b[1m\u001b[92m[-3.60627759 -4.12128051 -3.96163645]\u001b[0m\t \u001b[1m\u001b[92m-6628.123996844119\u001b[0m\t \u001b[1m\u001b[92m-6628.123996844119\u001b[0m\t \u001b[1m\u001b[92m-2.4494900512168254\u001b[0m\n",
            "2  \t [5.67048604 7.63464912 6.38781301]\t -41038.069289207284\t -6628.123996844119\t -2.4494900512168254\n",
            "\u001b[1m\u001b[92m3\u001b[0m\t \u001b[1m\u001b[92m[ 8.98418483 -5.51984113  1.59973658]\u001b[0m\t \u001b[1m\u001b[92m-5801.508998849156\u001b[0m\t \u001b[1m\u001b[92m-5801.508998849156\u001b[0m\t \u001b[1m\u001b[92m-2.4494900512168254\u001b[0m\n",
            "4  \t [-9.82664426 -9.19265651  7.01964259]\t -98908.14619333696\t -5801.508998849156\t -2.4494900512168254\n",
            "5  \t [ 5.61099687  3.24280582 -9.3946128 ]\t -90569.20808162971\t -5801.508998849156\t -2.4494900512168254\n",
            "6  \t [-8.41638891  3.62928904 -8.37899504]\t -58636.25217955298\t -5801.508998849156\t -2.4494900512168254\n",
            "7  \t [4.76859313 6.53506599 3.93926051]\t -14822.442752768635\t -5801.508998849156\t -2.4494900512168254\n",
            "\u001b[1m\u001b[92m8\u001b[0m\t \u001b[1m\u001b[92m[-2.48970949 -2.08372282  3.35998783]\u001b[0m\t \u001b[1m\u001b[92m-2086.6278426367617\u001b[0m\t \u001b[1m\u001b[92m-2086.6278426367617\u001b[0m\t \u001b[1m\u001b[92m-2.4494900512168254\u001b[0m\n",
            "9  \t [ 10. -10.  10.]\t -204581.0\t -2086.6278426367617\t -2.4494900512168254\n",
            "10 \t [-10. -10. -10.]\t -220621.0\t -2086.6278426367617\t -2.4494900512168254\n",
            "11 \t [ 1.25118837 -9.83776577  5.34103365]\t -87391.17353637467\t -2086.6278426367617\t -2.4494900512168134\n",
            "12 \t [-4.74409325  9.6660462  -2.60459944]\t -73506.67877916363\t -2086.6278426367617\t -2.449490051162333\n",
            "13 \t [ 9.33197039 -3.0654831  -6.27616745]\t -20344.818102039768\t -2086.6278426367617\t -2.4494900501501404\n",
            "\u001b[1m\u001b[92m14\u001b[0m\t \u001b[1m\u001b[92m[ 6.57635151  1.69482794 -0.9051947 ]\u001b[0m\t \u001b[1m\u001b[92m-32.4878069678712\u001b[0m\t \u001b[1m\u001b[92m-32.4878069678712\u001b[0m\t \u001b[1m\u001b[92m-2.449489957269904\u001b[0m\n",
            "15 \t [ 10.  10. -10.]\t -180581.0\t -32.4878069678712\t -2.449490050902133\n",
            "16 \t [-9.42592623 -4.04478437 -0.1929319 ]\t -3712.2569125854898\t -32.4878069678712\t -2.449489930839245\n",
            "17 \t [-1.08625363  4.18333996  0.26296217]\t -2657.9711449377596\t -32.4878069678712\t -2.4494897976197567\n",
            "18 \t [-5.07433423 -9.72898178  0.18401387]\t -75892.3869297386\t -32.4878069678712\t -2.4494900071161076\n",
            "19 \t [-0.33935855 10.          9.03018913]\t -150581.89836085314\t -32.4878069678712\t -2.449489505013287\n",
            "20 \t [ -2.52014465  10.         -10.        ]\t -190341.20940017726\t -32.4878069678712\t -2.4494900447483245\n",
            "21 \t [ 2.95303674 -3.28276823 -0.84216068]\t -762.0465278657464\t -32.4878069678712\t -2.4494897681409604\n",
            "22 \t [-5.26627073 -2.63601527 10.        ]\t -123957.80382695743\t -32.4878069678712\t -2.4494900327188134\n",
            "23 \t [-10.  10.  10.]\t -196621.0\t -32.4878069678712\t -2.449489152644059\n",
            "24 \t [-7.3219826   2.31031684 -0.41216998]\t -728.6965488471252\t -32.4878069678712\t -2.4494890007803773\n",
            "25 \t [ 1.72678464 -2.19871603 -7.31861314]\t -35981.17408295852\t -32.4878069678712\t -2.4494900512168254\n",
            "26 \t [ -1.97717129 -10.         -10.        ]\t -213898.41899630363\t -32.4878069678712\t -2.449489272924823\n",
            "27 \t [ 9.24774036  7.99293519 -1.71511777]\t -28178.338201144834\t -32.4878069678712\t -2.4494887203061526\n",
            "28 \t [-10.          -2.94705479  -6.59722376]\t -25915.902628780794\t -32.4878069678712\t -2.449488213170872\n",
            "29 \t [ 8.87101665 -2.66332653  9.92697504]\t -119822.23912981607\t -32.4878069678712\t -2.4494890382727688\n",
            "30 \t [9.67468203 1.2300553  4.13591513]\t -3427.002627787612\t -32.4878069678712\t -2.449488479090719\n"
          ]
        }
      ]
    },
    {
      "cell_type": "code",
      "metadata": {
        "id": "S3mxRQDLIUPC",
        "colab": {
          "base_uri": "https://localhost:8080/"
        },
        "outputId": "32c0ad48-67bd-473c-db94-cca0796fc598"
      },
      "source": [
        "### ESTIMATED GP CBM GRADIENTS\n",
        "\n",
        "np.random.seed(run_num_19)\n",
        "surrogate_approx_19 = GaussianProcess(cov_func, optimize=opt)\n",
        "\n",
        "approx_19 = GPGO_multi(surrogate_approx_19, Acquisition_new(util_grad_approx), objfunc, param)\n",
        "approx_19.run(init_evals=n_init, max_iter=iters)\n"
      ],
      "execution_count": 31,
      "outputs": [
        {
          "output_type": "stream",
          "name": "stdout",
          "text": [
            "Evaluation \t Proposed point \t  Current eval. \t  Best eval. \t         Max AcqFunc.\n",
            "init\t [-8.04932797  5.22499433 -5.06124054]\t -14282.07020620917\t -7826.389573301183\t    \n",
            "init\t [-7.23736625 -3.37106873 -8.3400087 ]\t -62767.56440733103\t -7826.389573301183\t    \n",
            "init\t [3.43954163 6.13187596 9.65483829]\t -107829.21541670273\t -7826.389573301183\t    \n",
            "init\t [ 2.7132147  -5.68153488  0.98054864]\t -7826.389573301183\t -7826.389573301183\t    \n",
            "init\t [ 0.91119916 -5.31847854 -7.72548314]\t -52835.14449570301\t -7826.389573301183\t    \n",
            "\u001b[1m\u001b[92m1\u001b[0m\t \u001b[1m\u001b[92m[-8.70426449  3.79716958  1.04335667]\u001b[0m\t \u001b[1m\u001b[92m-2920.737921781948\u001b[0m\t \u001b[1m\u001b[92m-2920.737921781948\u001b[0m\t \u001b[1m\u001b[92m-2.4494900512168254\u001b[0m\n",
            "2  \t [-10.         -10.           4.74030092]\t -97376.50934755208\t -2920.737921781948\t -2.4494900512168254\n",
            "3  \t [-5.92264612  1.94070459  8.81541711]\t -71080.60419246902\t -2920.737921781948\t -2.4494900512168254\n",
            "4  \t [ 9.93826046 -7.57727549 -3.12538868]\t -24289.940560273273\t -2920.737921781948\t -2.4494900512168254\n",
            "\u001b[1m\u001b[92m5\u001b[0m\t \u001b[1m\u001b[92m[4.34392457 2.27346638 1.2612486 ]\u001b[0m\t \u001b[1m\u001b[92m-85.49645374375444\u001b[0m\t \u001b[1m\u001b[92m-85.49645374375444\u001b[0m\t \u001b[1m\u001b[92m-2.4494900512168254\u001b[0m\n",
            "6  \t [ 10.           5.31607738 -10.        ]\t -118114.96256534685\t -85.49645374375444\t -2.4494900512168254\n",
            "7  \t [8.88477717 1.65383617 9.09628062]\t -80607.08552314134\t -85.49645374375444\t -2.4494900512168254\n",
            "8  \t [ 10. -10.  10.]\t -204581.0\t -85.49645374375444\t -2.4494900512168254\n",
            "9  \t [-0.88364342 -0.53896298  9.12024958]\t -83571.53151095378\t -85.49645374375444\t -2.4494900512168254\n",
            "10 \t [ 0.03019555  8.90705493 -3.30673295]\t -50838.945400386634\t -85.49645374375444\t -2.4494900512168254\n",
            "11 \t [-0.82658611  0.86505746 -3.68328665]\t -2084.1773688952567\t -85.49645374375444\t -2.4494900512167526\n",
            "12 \t [ 0.19609949  8.62619954 -7.40348118]\t -74781.44337676886\t -85.49645374375444\t -2.4494900512168254\n",
            "13 \t [  0.91329603 -10.          10.        ]\t -211571.0389161579\t -85.49645374375444\t -2.4494900512167046\n",
            "14 \t [-10. -10. -10.]\t -220621.0\t -85.49645374375444\t -2.4494900512168254\n",
            "15 \t [-10.  10.  10.]\t -196621.0\t -85.49645374375444\t -2.449490051216791\n",
            "16 \t [-2.98021645  8.48376798  8.10983789]\t -88619.74592585312\t -85.49645374375444\t -2.4494900512168254\n",
            "17 \t [ 4.87354767 -0.83030448 -8.23000576]\t -55769.47006687408\t -85.49645374375444\t -2.4494900512168254\n",
            "18 \t [1.9799272  3.81156677 6.02897636]\t -15702.85164015473\t -85.49645374375444\t -2.4494900512168254\n",
            "19 \t [-7.45233836 -7.0498697  -2.77159179]\t -24413.922608466655\t -85.49645374375444\t -2.4494900512168254\n",
            "20 \t [10. 10. 10.]\t -180581.0\t -85.49645374375444\t -2.449490038297991\n",
            "21 \t [ 10. -10. -10.]\t -204581.0\t -85.49645374375444\t -2.449490016015175\n",
            "22 \t [-10.  10. -10.]\t -196621.0\t -85.49645374375444\t -2.4494899909786625\n",
            "23 \t [9.90535325 7.2819819  0.59760348]\t -18698.03505807946\t -85.49645374375444\t -2.449490051193284\n",
            "24 \t [10.         -4.57618018  4.85980179]\t -10167.33528711327\t -85.49645374375444\t -2.4494899643439183\n",
            "25 \t [10.         -0.22081409 -2.71522449]\t -949.0350371283854\t -85.49645374375444\t -2.4494900200428997\n",
            "26 \t [-6.96155964 -2.80218108  3.0160609 ]\t -2413.3052466190484\t -85.49645374375444\t -2.449489951614\n",
            "27 \t [-6.62667451 -5.04870609  9.28977202]\t -101371.86179171849\t -85.49645374375444\t -2.449489046497198\n",
            "28 \t [-10.          10.          -0.47584991]\t -88594.44328735974\t -85.49645374375444\t -2.4494888481857164\n",
            "29 \t [-2.39219186 -9.12550475  3.59460091]\t -60762.459506337684\t -85.49645374375444\t -2.449488922581714\n",
            "30 \t [ 6.66891628 10.         -4.79421219]\t -78667.24664918768\t -85.49645374375444\t -2.4494878140347436\n"
          ]
        }
      ]
    },
    {
      "cell_type": "code",
      "metadata": {
        "id": "Aawd59dRIUYn",
        "colab": {
          "base_uri": "https://localhost:8080/"
        },
        "outputId": "cf8de24e-9617-4a1b-da5a-7094ed7703e6"
      },
      "source": [
        "### ESTIMATED GP CBM GRADIENTS\n",
        "\n",
        "np.random.seed(run_num_20)\n",
        "surrogate_approx_20 = GaussianProcess(cov_func, optimize=opt)\n",
        "\n",
        "approx_20 = GPGO_multi(surrogate_approx_20, Acquisition_new(util_grad_approx), objfunc, param)\n",
        "approx_20.run(init_evals=n_init, max_iter=iters)\n"
      ],
      "execution_count": 32,
      "outputs": [
        {
          "output_type": "stream",
          "name": "stdout",
          "text": [
            "Evaluation \t Proposed point \t  Current eval. \t  Best eval. \t         Max AcqFunc.\n",
            "init\t [1.76261602 7.95427456 7.83061459]\t -70596.27231718504\t -1177.4786310520467\t    \n",
            "init\t [ 6.31674955 -9.28220829  3.83515164]\t -59634.45116383437\t -1177.4786310520467\t    \n",
            "init\t [-2.42638116  0.37021891  3.15902931]\t -1177.4786310520467\t -1177.4786310520467\t    \n",
            "init\t [-6.12299564 -4.55367196  4.37211867]\t -10072.821243906226\t -1177.4786310520467\t    \n",
            "init\t [5.66007219 7.0065528  5.50489788]\t -25762.190938183892\t -1177.4786310520467\t    \n",
            "1  \t [ 3.58822235  3.01571828 -4.62409523]\t -5172.971057172382\t -1177.4786310520467\t -2.4494900512168254\n",
            "2  \t [ 6.90281047 -9.84449703 -8.45927451]\t -140110.25172511325\t -1177.4786310520467\t -2.4494900512168254\n",
            "3  \t [-2.02505955 -3.84087805 -8.90073734]\t -81008.7373034749\t -1177.4786310520467\t -2.4494900512168254\n",
            "4  \t [-9.03422809  7.69291444  7.37966897]\t -63300.39318700283\t -1177.4786310520467\t -2.4494900512168254\n",
            "5  \t [-10.           3.69602036 -10.        ]\t -118512.49120568803\t -1177.4786310520467\t -2.4494900512168254\n",
            "6  \t [ 10.  10. -10.]\t -180581.0\t -1177.4786310520467\t -2.4494900512168254\n",
            "7  \t [-10. -10. -10.]\t -220621.0\t -1177.4786310520467\t -2.4494900512168254\n",
            "8  \t [-3.18535569  9.23676145 -3.72486711]\t -61473.052744828026\t -1177.4786310520467\t -2.4494900512168245\n",
            "9  \t [-10. -10.  10.]\t -220621.0\t -1177.4786310520467\t -2.4494900512166935\n",
            "10 \t [-3.52149428 -8.89742927  7.42875864]\t -95087.52343618331\t -1177.4786310520467\t -2.4494900512168254\n",
            "11 \t [-0.23723427 -9.19126844 -0.83968818]\t -57593.31830274371\t -1177.4786310520467\t -2.4494900509655606\n",
            "12 \t [ 5.4450004  -2.89162526  8.68121897]\t -71070.3061195951\t -1177.4786310520467\t -2.4494900512168254\n",
            "13 \t [-10.          -1.60444827  10.        ]\t -122513.01529929333\t -1177.4786310520467\t -2.4494900464665497\n",
            "\u001b[1m\u001b[92m14\u001b[0m\t \u001b[1m\u001b[92m[ 9.24622151 -3.35477385 -2.10855021]\u001b[0m\t \u001b[1m\u001b[92m-869.7516226289016\u001b[0m\t \u001b[1m\u001b[92m-869.7516226289016\u001b[0m\t \u001b[1m\u001b[92m-2.4494900512165967\u001b[0m\n",
            "15 \t [-9.00282641 -1.57116883 -3.69009838]\t -2977.855163229338\t -869.7516226289016\t -2.4494900511396676\n",
            "16 \t [ 8.71567352 -9.23552071 -1.77855208]\t -53192.45226100789\t -869.7516226289016\t -2.4494900512168254\n",
            "17 \t [-1.38810201  0.0803476  10.        ]\t -119913.2309582739\t -869.7516226289016\t -2.44949001548472\n",
            "18 \t [ 9.96295485  4.76303122 -2.19254493]\t -2658.6780875775535\t -869.7516226289016\t -2.449490007401565\n",
            "19 \t [-10.          10.          -2.37895629]\t -88326.21822271576\t -869.7516226289016\t -2.4494900512168254\n",
            "20 \t [10.          2.93747854 10.        ]\t -116687.25645649283\t -869.7516226289016\t -2.449490020862465\n",
            "21 \t [ 10.           1.18185895 -10.        ]\t -118770.82457342082\t -869.7516226289016\t -2.449490051215221\n",
            "22 \t [  1.21327208  10.         -10.        ]\t -187332.3718776417\t -869.7516226289016\t -2.4494900471495287\n",
            "23 \t [ 10. -10.  10.]\t -204581.0\t -869.7516226289016\t -2.449489905351426\n",
            "24 \t [-10.           0.64645517   2.74061493]\t -975.7932242007307\t -869.7516226289016\t -2.449488979204426\n",
            "25 \t [-8.03926695 -7.53443312 -0.61714208]\t -29848.96944248592\t -869.7516226289016\t -2.4494900512168254\n",
            "26 \t [10. 10. 10.]\t -180581.0\t -869.7516226289016\t -2.4494887046331906\n",
            "27 \t [-4.32384266  6.26033035  1.14573172]\t -13748.981244274537\t -869.7516226289016\t -2.4494900512168254\n",
            "\u001b[1m\u001b[92m28\u001b[0m\t \u001b[1m\u001b[92m[ 3.54590747 -1.38481704  1.81605529]\u001b[0m\t \u001b[1m\u001b[92m-197.7350606026358\u001b[0m\t \u001b[1m\u001b[92m-197.7350606026358\u001b[0m\t \u001b[1m\u001b[92m-2.4494890180429367\u001b[0m\n",
            "29 \t [ -0.66038337   2.93972205 -10.        ]\t -117145.01318023716\t -197.7350606026358\t -2.449488738257634\n",
            "30 \t [-10.  10. -10.]\t -196621.0\t -197.7350606026358\t -2.449490051128566\n"
          ]
        }
      ]
    },
    {
      "cell_type": "code",
      "metadata": {
        "id": "xkgzPRbBTHaq",
        "colab": {
          "base_uri": "https://localhost:8080/"
        },
        "outputId": "7588ecc8-a8ec-4f16-95be-df6b9c1cb2d8"
      },
      "source": [
        "end_approx = time.time()\n",
        "end_approx\n",
        "\n",
        "time_approx = end_approx - start_approx\n",
        "time_approx\n",
        "\n",
        "start_exact = time.time()\n",
        "start_exact"
      ],
      "execution_count": 33,
      "outputs": [
        {
          "output_type": "execute_result",
          "data": {
            "text/plain": [
              "1646051592.4863424"
            ]
          },
          "metadata": {},
          "execution_count": 33
        }
      ]
    },
    {
      "cell_type": "code",
      "metadata": {
        "id": "7CG3Ndvb16Rb",
        "colab": {
          "base_uri": "https://localhost:8080/"
        },
        "outputId": "0c47e4bf-b1b4-4ab1-ec3e-f54b353b4ff6"
      },
      "source": [
        "### EXACT GP CBM GRADIENTS\n",
        "\n",
        "np.random.seed(run_num_1)\n",
        "surrogate_exact_1 = dGaussianProcess(cov_func, optimize=opt)\n",
        "\n",
        "exact_1 = dGPGO(surrogate_exact_1, Acquisition_new(util_grad_exact), objfunc, param)\n",
        "exact_1.run(init_evals=n_init, max_iter=iters)\n"
      ],
      "execution_count": 34,
      "outputs": [
        {
          "output_type": "stream",
          "name": "stdout",
          "text": [
            "Evaluation \t Proposed point \t  Current eval. \t  Best eval. \t         Max AcqFunc.\n",
            "init\t [-1.65955991  4.40648987 -9.9977125 ]\t -117949.69994259246\t -1743.4541121077734\t    \n",
            "init\t [-3.95334855 -7.06488218 -8.1532281 ]\t -80377.19459880023\t -1743.4541121077734\t    \n",
            "init\t [-6.27479577 -3.08878546 -2.06465052]\t -1743.4541121077734\t -1743.4541121077734\t    \n",
            "init\t [ 0.77633468 -1.61610971  3.70439001]\t -2573.2528931184784\t -1743.4541121077734\t    \n",
            "init\t [-5.91095501  7.56234873 -9.45224814]\t -116840.74897847573\t -1743.4541121077734\t    \n",
            "1  \t [-8.03306332 -1.5778475   9.1577906 ]\t -86415.93772353831\t -1743.4541121077734\t -2.449489748092488\n",
            "2  \t [-5.34051452  6.14210391 -2.24278712]\t -13140.755438034004\t -1743.4541121077734\t -2.449489748092488\n",
            "3  \t [ 8.37203556 -9.9919595   9.53518298]\t -183648.52554820437\t -1743.4541121077734\t -2.449489748092488\n",
            "4  \t [10. 10. 10.]\t -180581.0\t -1743.4541121077734\t -2.449489748092488\n",
            "5  \t [ 8.18586409 -1.98252535 -5.0029864 ]\t -8177.041902082004\t -1743.4541121077734\t -2.449489748092488\n",
            "6  \t [ 5.40299913 -7.39328438 -9.54169737]\t -129326.8620412511\t -1743.4541121077734\t -2.449489748092488\n",
            "7  \t [2.13086831 9.81123338 1.77548925]\t -72534.66622640177\t -1743.4541121077734\t -2.4494897480924864\n",
            "8  \t [1.86047459 5.86193921 8.98412603]\t -81545.74920732516\t -1743.4541121077734\t -2.449489748017822\n",
            "9  \t [ 9.90104645 -8.83274708  0.3341272 ]\t -43035.435934238885\t -1743.4541121077734\t -2.4494897480924425\n",
            "10 \t [-8.47952241  7.48251871  9.02271237]\t -101496.97642440577\t -1743.4541121077734\t -2.4494897480924305\n",
            "11 \t [ -1.12055638 -10.           4.38418734]\t -87943.39256370085\t -1743.4541121077734\t -2.449489748092396\n",
            "12 \t [8.6893678  5.06138454 0.4936253 ]\t -3742.1924958439895\t -1743.4541121077734\t -2.4494897480005795\n",
            "13 \t [-10. -10. -10.]\t -220621.0\t -1743.4541121077734\t -2.449489748092488\n",
            "14 \t [ 9.14789853  9.18941214 -9.24274825]\t -129510.86720024337\t -1743.4541121077734\t -2.449489748092488\n",
            "15 \t [-7.59198246 -9.78601994  1.1453646 ]\t -79836.84452348946\t -1743.4541121077734\t -2.4494895651593294\n",
            "16 \t [9.47037722 2.10844015 9.52476529]\t -96554.32670597042\t -1743.4541121077734\t -2.4494897459830884\n",
            "17 \t [ 1.02596794 -3.66205429 -3.03071128]\t -2787.087259156342\t -1743.4541121077734\t -2.44948972306388\n",
            "\u001b[1m\u001b[92m18\u001b[0m\t \u001b[1m\u001b[92m[ 9.71726647 -2.61263438  3.12122317]\u001b[0m\t \u001b[1m\u001b[92m-1571.7433285425773\u001b[0m\t \u001b[1m\u001b[92m-1571.7433285425773\u001b[0m\t \u001b[1m\u001b[92m-2.4494880202098894\u001b[0m\n",
            "19 \t [ 6.14219803  6.00279369 -4.62127884]\t -12761.411721562929\t -1571.7433285425773\t -2.449489748092488\n",
            "20 \t [-8.5306779  -1.52234292 -8.95815499]\t -79188.38867773395\t -1571.7433285425773\t -2.4494897480924855\n",
            "21 \t [ 3.26313646 -5.2218009   9.97198177]\t -130236.2738174586\t -1571.7433285425773\t -2.44948769316012\n",
            "\u001b[1m\u001b[92m22\u001b[0m\t \u001b[1m\u001b[92m[ 0.22492487  2.64420836 -1.33529246]\u001b[0m\t \u001b[1m\u001b[92m-381.7563526884214\u001b[0m\t \u001b[1m\u001b[92m-381.7563526884214\u001b[0m\t \u001b[1m\u001b[92m-2.4494870002773026\u001b[0m\n",
            "23 \t [-4.42991656  2.29563782  3.30336709]\t -1621.8008277392858\t -381.7563526884214\t -2.4494897480921836\n",
            "24 \t [-10.           0.99750929   0.95547843]\t -410.58116254252724\t -381.7563526884214\t -2.4494835923061857\n",
            "25 \t [ 0.56567625 -9.63503545 -4.12840755]\t -74260.77286061476\t -381.7563526884214\t -2.44946093892321\n",
            "26 \t [-4.97083096 -9.57397737  9.21008946]\t -167309.4059379585\t -381.7563526884214\t -2.449489671587101\n",
            "27 \t [ 3.04445105 -1.70463608 -8.05676259]\t -51917.929970677054\t -381.7563526884214\t -2.4492097007992855\n",
            "28 \t [-10.           4.16593953  -6.14149987]\t -19357.269082086957\t -381.7563526884214\t -2.449278636563805\n",
            "29 \t [10.         10.          2.89846649]\t -72419.8104268961\t -381.7563526884214\t -2.4494894301671755\n",
            "30 \t [-5.00834387  9.35561234  3.56995002]\t -65662.55716470414\t -381.7563526884214\t -2.449480617831272\n"
          ]
        }
      ]
    },
    {
      "cell_type": "code",
      "metadata": {
        "id": "-ilCPSAu9SAg",
        "colab": {
          "base_uri": "https://localhost:8080/"
        },
        "outputId": "524b0396-4d53-445c-a36f-120f7f2f3a04"
      },
      "source": [
        "### EXACT GP CBM GRADIENTS\n",
        "\n",
        "np.random.seed(run_num_2)\n",
        "surrogate_exact_2 = dGaussianProcess(cov_func, optimize=opt)\n",
        "\n",
        "exact_2 = dGPGO(surrogate_exact_2, Acquisition_new(util_grad_exact), objfunc, param)\n",
        "exact_2.run(init_evals=n_init, max_iter=iters)\n"
      ],
      "execution_count": 35,
      "outputs": [
        {
          "output_type": "stream",
          "name": "stdout",
          "text": [
            "Evaluation \t Proposed point \t  Current eval. \t  Best eval. \t         Max AcqFunc.\n",
            "init\t [-1.28010196 -9.48147536  0.99324956]\t -65976.47275174354\t -579.2546019074869\t    \n",
            "init\t [-1.29355215 -1.59264396 -3.39330358]\t -1905.0058741906205\t -579.2546019074869\t    \n",
            "init\t [-5.90702732  2.38541933 -4.00690653]\t -3296.179887891325\t -579.2546019074869\t    \n",
            "init\t [-4.6634545   2.42267666  0.58284189]\t -579.2546019074869\t -579.2546019074869\t    \n",
            "init\t [-7.30840109  0.27156243 -6.31120269]\t -19089.001096649215\t -579.2546019074869\t    \n",
            "1  \t [10. 10. 10.]\t -180581.0\t -579.2546019074869\t -2.449489748092488\n",
            "2  \t [0.98993642 6.90226231 9.77019402]\t -119362.43308455861\t -579.2546019074869\t -2.449489748092488\n",
            "3  \t [ 9.60970158 -5.07492822  5.80487605]\t -19340.238894145325\t -579.2546019074869\t -2.449489748092488\n",
            "4  \t [ 2.89052379 -3.76941193  7.60597912]\t -44126.90703116023\t -579.2546019074869\t -2.449489748092488\n",
            "5  \t [ 3.07223703  7.58573911 -9.9332911 ]\t -133119.51098910294\t -579.2546019074869\t -2.449489748092488\n",
            "6  \t [ 8.77937768 -3.87353549 -6.37757103]\t -22749.403915268038\t -579.2546019074869\t -2.449489748092488\n",
            "7  \t [-10. -10. -10.]\t -220621.0\t -579.2546019074869\t -2.449489748092488\n",
            "8  \t [7.27188361 8.48638872 0.85845817]\t -37596.57677351824\t -579.2546019074869\t -2.4494897480924878\n",
            "9  \t [-5.94698988  9.91314075  4.47886914]\t -84788.26554655223\t -579.2546019074869\t -2.449489748092427\n",
            "10 \t [-8.46628756 -4.10355097  3.85869294]\t -7086.022923350121\t -579.2546019074869\t -2.4494897480919335\n",
            "11 \t [-9.84890447  9.12357594 -7.17635899]\t -88739.44683197467\t -579.2546019074869\t -2.4494897480918563\n",
            "12 \t [  4.19378754 -10.          -8.83086115]\t -159326.69345991244\t -579.2546019074869\t -2.4494897479846913\n",
            "13 \t [-5.11827597 -1.00556372  9.17622357]\t -86240.40370363428\t -579.2546019074869\t -2.4494896702567814\n",
            "14 \t [7.38238986 1.9436134  4.49748171]\t -4490.102233945455\t -579.2546019074869\t -2.449489727973188\n",
            "15 \t [-8.38680915 -8.58455988 -1.39607808]\t -49087.97543554842\t -579.2546019074869\t -2.4494895788596835\n",
            "16 \t [0.29508595 8.1768369  0.25339364]\t -35799.949809037644\t -579.2546019074869\t -2.449489341891733\n",
            "17 \t [-2.52535542 -5.1744771  -9.72940755]\t -119788.92029443628\t -579.2546019074869\t -2.4494897465110617\n",
            "18 \t [-0.47497186 -5.75625501 -3.13046353]\t -10840.434725745177\t -579.2546019074869\t -2.449489748092488\n",
            "19 \t [ 9.73804823  4.72582402 -5.2466766 ]\t -10115.53994504231\t -579.2546019074869\t -2.4494897419373323\n",
            "20 \t [ 9.30278195 -9.3528057  -0.16784675]\t -55212.500290219396\t -579.2546019074869\t -2.4494897305108\n",
            "\u001b[1m\u001b[92m21\u001b[0m\t \u001b[1m\u001b[92m[ 5.07543878 -1.03549207 -1.05217757]\u001b[0m\t \u001b[1m\u001b[92m-65.47077387717245\u001b[0m\t \u001b[1m\u001b[92m-65.47077387717245\u001b[0m\t \u001b[1m\u001b[92m-2.4494891360260618\u001b[0m\n",
            "22 \t [-1.09258745 -9.17420367  8.68013856]\t -134083.09547422078\t -65.47077387717245\t -2.449487726137915\n",
            "23 \t [ 1.17872159  1.1356363  -9.89168626]\t -113559.22402318844\t -65.47077387717245\t -2.449479371612649\n",
            "24 \t [1.03245705 1.0093753  2.87767893]\t -727.6811134402485\t -65.47077387717245\t -2.4494872530292833\n",
            "25 \t [-1.21388474  5.64880195 -5.36393179]\t -16542.362308571024\t -65.47077387717245\t -2.44936955391244\n",
            "26 \t [-8.1539475  -9.22748707  7.87767139]\t -117111.43324479289\t -65.47077387717245\t -2.449486938856307\n",
            "27 \t [ 2.00842262 -9.87438548 -1.49428301]\t -75114.820765863\t -65.47077387717245\t -2.449489748092488\n",
            "28 \t [ 6.90226165  4.2543583  10.        ]\t -116700.51830977616\t -65.47077387717245\t -2.449357537219083\n",
            "29 \t [ 3.45314636  5.67651501 -4.84747046]\t -12568.072361974782\t -65.47077387717245\t -2.449489748092488\n",
            "30 \t [ 5.13632873 -5.28620745  0.50866819]\t -5269.617684439477\t -65.47077387717245\t -2.44948974808777\n"
          ]
        }
      ]
    },
    {
      "cell_type": "code",
      "metadata": {
        "id": "XieJ158mIvlP",
        "colab": {
          "base_uri": "https://localhost:8080/"
        },
        "outputId": "8b70eb1a-98ee-42fa-fee2-63dcfc1cf5a5"
      },
      "source": [
        "### EXACT GP CBM GRADIENTS\n",
        "\n",
        "np.random.seed(run_num_3)\n",
        "surrogate_exact_3 = dGaussianProcess(cov_func, optimize=opt)\n",
        "\n",
        "exact_3 = dGPGO(surrogate_exact_3, Acquisition_new(util_grad_exact), objfunc, param)\n",
        "exact_3.run(init_evals=n_init, max_iter=iters)\n"
      ],
      "execution_count": 36,
      "outputs": [
        {
          "output_type": "stream",
          "name": "stdout",
          "text": [
            "Evaluation \t Proposed point \t  Current eval. \t  Best eval. \t         Max AcqFunc.\n",
            "init\t [ 1.01595805  4.16295645 -4.18190522]\t -5112.352385443115\t -5112.352385443115\t    \n",
            "init\t [0.2165521  7.85893909 7.92586178]\t -72027.10255913956\t -5112.352385443115\t    \n",
            "init\t [-7.48829379 -5.85514244 -8.97065593]\t -95107.57411907075\t -5112.352385443115\t    \n",
            "init\t [-1.18380313 -9.40247578 -0.86333551]\t -63726.548838065995\t -5112.352385443115\t    \n",
            "init\t [ 2.98288095 -4.43025435  3.52509804]\t -5207.626899787465\t -5112.352385443115\t    \n",
            "1  \t [9.51990845 3.44767352 8.05668217]\t -48388.97288671367\t -5112.352385443115\t -2.449489748092488\n",
            "2  \t [-4.79309855  3.83955024  7.91140656]\t -46554.468417027776\t -5112.352385443115\t -2.449489748092488\n",
            "3  \t [ 9.76225506  9.4244446  -0.36307223]\t -56694.622124347436\t -5112.352385443115\t -2.449489748092488\n",
            "4  \t [ 1.06865668 -1.61214113  9.66323576]\t -106482.0605763776\t -5112.352385443115\t -2.449489748092488\n",
            "5  \t [-7.84297806  5.69391695 -0.02389563]\t -10741.453238983686\t -5112.352385443115\t -2.449489748092488\n",
            "6  \t [ 8.83706845 -0.31089701 -6.2913012 ]\t -19158.168049739656\t -5112.352385443115\t -2.449489748092488\n",
            "7  \t [-9.62151318  6.49791858 -9.62921632]\t -113874.85565922041\t -5112.352385443115\t -2.449489748092488\n",
            "8  \t [ 7.17786075 -7.83402432  1.19325839]\t -27091.47249706207\t -5112.352385443115\t -2.449489748092488\n",
            "\u001b[1m\u001b[92m9\u001b[0m\t \u001b[1m\u001b[92m[-5.51678463 -2.50587547 -0.40140231]\u001b[0m\t \u001b[1m\u001b[92m-719.9185587107117\u001b[0m\t \u001b[1m\u001b[92m-719.9185587107117\u001b[0m\t \u001b[1m\u001b[92m-2.449489748083982\u001b[0m\n",
            "10 \t [-4.37393827 -8.80738373  8.15285327]\t -111193.57204036717\t -719.9185587107117\t -2.4494897480924873\n",
            "11 \t [5.35390255 4.3873483  2.58263819]\t -2456.424548745716\t -719.9185587107117\t -2.449489748092488\n",
            "12 \t [  1.52313022  -9.49391909 -10.        ]\t -195563.55164027037\t -719.9185587107117\t -2.449489748092488\n",
            "13 \t [-9.48830419  5.80360482  0.06290394]\t -12023.222732258779\t -719.9185587107117\t -2.449489748092488\n",
            "14 \t [-1.19161282 -3.11433746 -4.97082438]\t -9131.682925339603\t -719.9185587107117\t -2.4494889706452274\n",
            "15 \t [-2.20262391  8.83505218 -8.65271455]\t -109701.73160085574\t -719.9185587107117\t -2.4494897335590307\n",
            "16 \t [-10.          -6.79532023  -1.80507526]\t -21604.793611512974\t -719.9185587107117\t -2.449489151964563\n",
            "17 \t [ 8.52167155  9.23347015 -7.56145408]\t -85688.76307045243\t -719.9185587107117\t -2.449489675892254\n",
            "18 \t [ 0.18675296 10.          1.29530506]\t -79983.7717011373\t -719.9185587107117\t -2.4494887149079294\n",
            "19 \t [10. 10. 10.]\t -180581.0\t -719.9185587107117\t -2.449488196295808\n",
            "20 \t [-10.          -9.94533111   4.1868673 ]\t -92575.02048207143\t -719.9185587107117\t -2.449487042279605\n",
            "21 \t [ 6.42267256 -6.32016529 -6.50000796]\t -35569.0216653407\t -719.9185587107117\t -2.4494739107705907\n",
            "\u001b[1m\u001b[92m22\u001b[0m\t \u001b[1m\u001b[92m[ 9.30385333 -0.18848393  0.43505769]\u001b[0m\t \u001b[1m\u001b[92m-240.40779043244956\u001b[0m\t \u001b[1m\u001b[92m-240.40779043244956\u001b[0m\t \u001b[1m\u001b[92m-2.44948704817339\u001b[0m\n",
            "23 \t [ 8.54131636 -6.29606902  9.6421356 ]\t -120930.98434214697\t -240.40779043244956\t -2.4494897480906155\n",
            "24 \t [-5.93367956  0.72671806 -8.63382954]\t -66177.24579824414\t -240.40779043244956\t -2.4494821832468987\n",
            "25 \t [-1.41797798  1.07004868  2.72341974]\t -601.6864983765788\t -240.40779043244956\t -2.449486271069754\n",
            "26 \t [-10.           0.74030662   4.96003037]\t -7413.378539784183\t -240.40779043244956\t -2.449486479640397\n",
            "27 \t [ -0.54498227   3.11906331 -10.        ]\t -117088.86420517338\t -240.40779043244956\t -2.448651609476493\n",
            "28 \t [ 3.28495473 -9.91998362  7.23908413]\t -114398.76902768364\t -240.40779043244956\t -2.4494842726383332\n",
            "29 \t [ 5.51130927 -2.73029642 -1.82908337]\t -463.27416609268414\t -240.40779043244956\t -2.448683366459686\n",
            "30 \t [-7.88018787 10.          5.33801249]\t -93131.03197771504\t -240.40779043244956\t -2.4494892530775036\n"
          ]
        }
      ]
    },
    {
      "cell_type": "code",
      "metadata": {
        "id": "PhLBVOIfIvol",
        "colab": {
          "base_uri": "https://localhost:8080/"
        },
        "outputId": "2b5a09b5-36e6-412b-b114-19a7ca07ce12"
      },
      "source": [
        "### EXACT GP CBM GRADIENTS\n",
        "\n",
        "np.random.seed(run_num_4)\n",
        "surrogate_exact_4 = dGaussianProcess(cov_func, optimize=opt)\n",
        "\n",
        "exact_4 = dGPGO(surrogate_exact_4, Acquisition_new(util_grad_exact), objfunc, param)\n",
        "exact_4.run(init_evals=n_init, max_iter=iters)\n"
      ],
      "execution_count": 37,
      "outputs": [
        {
          "output_type": "stream",
          "name": "stdout",
          "text": [
            "Evaluation \t Proposed point \t  Current eval. \t  Best eval. \t         Max AcqFunc.\n",
            "init\t [9.34059678 0.94464498 9.4536872 ]\t -95022.01065457039\t -12458.30178377884\t    \n",
            "init\t [ 4.29631987  3.95457649 -5.67821009]\t -12458.30178377884\t -12458.30178377884\t    \n",
            "init\t [ 9.5254891  -9.8753949  -4.94035275]\t -79242.42901009263\t -12458.30178377884\t    \n",
            "init\t [-1.30416935  5.58765844 -6.04629851]\t -21812.938480423\t -12458.30178377884\t    \n",
            "init\t [ 7.25986471  9.66801354 -6.72315517]\t -84163.5372919417\t -12458.30178377884\t    \n",
            "1  \t [-7.83613234 -6.83553186  0.90405303]\t -20810.660474524404\t -12458.30178377884\t -2.449489748092488\n",
            "2  \t [-10. -10. -10.]\t -220621.0\t -12458.30178377884\t -2.449489748092488\n",
            "\u001b[1m\u001b[92m3\u001b[0m\t \u001b[1m\u001b[92m[-1.92379477  1.34737929  2.7226803 ]\u001b[0m\t \u001b[1m\u001b[92m-615.2747034779208\u001b[0m\t \u001b[1m\u001b[92m-615.2747034779208\u001b[0m\t \u001b[1m\u001b[92m-2.449489748092488\u001b[0m\n",
            "4  \t [10. 10. 10.]\t -180581.0\t -615.2747034779208\t -2.449489748092488\n",
            "5  \t [ 5.30486793 -6.47973031  3.69857697]\t -15831.304205760465\t -615.2747034779208\t -2.449489748092488\n",
            "6  \t [-8.44881662  9.55992352  0.68180215]\t -73452.9129380725\t -615.2747034779208\t -2.449489748092488\n",
            "7  \t [-0.44581558  2.04164357  3.82391297]\t -2376.3585358713694\t -615.2747034779208\t -2.449489748092488\n",
            "8  \t [ 0.14181401 -8.90584414 -5.84175498]\t -68096.64715645777\t -615.2747034779208\t -2.449489748092487\n",
            "9  \t [-9.78890738  1.07284078 -8.10797379]\t -51425.66998692605\t -615.2747034779208\t -2.449489748092488\n",
            "10 \t [1.35916665 9.47934171 6.40254989]\t -79393.67140398243\t -615.2747034779208\t -2.449489748084442\n",
            "11 \t [ -2.00834334  -1.83725934 -10.        ]\t -122377.34163000477\t -615.2747034779208\t -2.44948974807598\n",
            "12 \t [-5.98987605 -5.11753455  9.23432524]\t -99435.08280018627\t -615.2747034779208\t -2.4494897480921187\n",
            "\u001b[1m\u001b[92m13\u001b[0m\t \u001b[1m\u001b[92m[10.          0.41497259 -0.98061561]\u001b[0m\t \u001b[1m\u001b[92m-274.2854250523529\u001b[0m\t \u001b[1m\u001b[92m-274.2854250523529\u001b[0m\t \u001b[1m\u001b[92m-2.4494897480759787\u001b[0m\n",
            "14 \t [-9.22271977  2.56168959  0.05392   ]\t -1122.898589970158\t -274.2854250523529\t -2.449489229892106\n",
            "15 \t [6.07604931 4.16527496 3.66679287]\t -3213.656698884325\t -274.2854250523529\t -2.449489597335441\n",
            "16 \t [ 7.37399636 10.          0.64242808]\t -74502.70071949586\t -274.2854250523529\t -2.449489393168045\n",
            "17 \t [-7.5142022   8.75830248 -8.001375  ]\t -94556.61013571819\t -274.2854250523529\t -2.449489703082502\n",
            "18 \t [-9.57253107  4.5253832   9.98588234]\t -119188.57066707758\t -274.2854250523529\t -2.449489748092488\n",
            "19 \t [ 5.32019667 -3.28917742 -2.6288092 ]\t -1429.4676071964914\t -274.2854250523529\t -2.449489000102397\n",
            "20 \t [ 2.05802796 -2.37786644  8.25655677]\t -57901.41574612627\t -274.2854250523529\t -2.44948931111722\n",
            "21 \t [-5.13280662  9.95822881  9.03228786]\t -153250.42574109318\t -274.2854250523529\t -2.4494881889384947\n",
            "22 \t [ 9.64344197 -1.46754663 -8.52386728]\t -64764.91402250952\t -274.2854250523529\t -2.4494897477171804\n",
            "23 \t [-0.98073631 -4.16882575  0.0804629 ]\t -2610.9304946595225\t -274.2854250523529\t -2.449488615798962\n",
            "24 \t [ 0.13477639 -8.76566293  6.96457454]\t -80714.99812348443\t -274.2854250523529\t -2.449482589589748\n",
            "25 \t [-1.87631445  8.89757188  0.46480532]\t -51557.68101986193\t -274.2854250523529\t -2.449473776989862\n",
            "26 \t [-2.07350873  3.06040645 10.        ]\t -117230.8099532914\t -274.2854250523529\t -2.4494882766065307\n",
            "27 \t [ 9.21153356 -7.83173718  9.88606108]\t -149806.92777221845\t -274.2854250523529\t -2.4494897406103795\n",
            "28 \t [-7.36124398 -4.75439089 -6.23759029]\t -26050.20440462134\t -274.2854250523529\t -2.4494763340557415\n",
            "29 \t [-9.8271262  -1.98070784  4.7997095 ]\t -7669.82087608329\t -274.2854250523529\t -2.4494716534873247\n",
            "30 \t [-3.82564588  0.45025053 -4.52041697]\t -4959.956899786828\t -274.2854250523529\t -2.448959342378022\n"
          ]
        }
      ]
    },
    {
      "cell_type": "code",
      "metadata": {
        "id": "arbiPyj2IvsJ",
        "colab": {
          "base_uri": "https://localhost:8080/"
        },
        "outputId": "b24259a7-3000-428d-c4a1-0b40a22dcd88"
      },
      "source": [
        "### EXACT GP CBM GRADIENTS\n",
        "\n",
        "np.random.seed(run_num_5)\n",
        "surrogate_exact_5 = dGaussianProcess(cov_func, optimize=opt)\n",
        "\n",
        "exact_5 = dGPGO(surrogate_exact_5, Acquisition_new(util_grad_exact), objfunc, param)\n",
        "exact_5.run(init_evals=n_init, max_iter=iters)\n"
      ],
      "execution_count": 38,
      "outputs": [
        {
          "output_type": "stream",
          "name": "stdout",
          "text": [
            "Evaluation \t Proposed point \t  Current eval. \t  Best eval. \t         Max AcqFunc.\n",
            "init\t [-5.56013658  7.41464612 -5.86561689]\t -38038.55423396639\t -504.37713268919686\t    \n",
            "init\t [ 8.37221816 -0.23177622  2.23487726]\t -504.37713268919686\t -504.37713268919686\t    \n",
            "init\t [ 5.31815713  0.36835976 -4.06398997]\t -3270.33229475548\t -504.37713268919686\t    \n",
            "init\t [-6.24557543 -8.38517462  4.76880592]\t -51898.195262717614\t -504.37713268919686\t    \n",
            "init\t [-1.17381554 -6.83380265  7.59874062]\t -62777.04813872957\t -504.37713268919686\t    \n",
            "1  \t [-9.96715655  0.30945224  2.79590352]\t -1031.2153586592976\t -504.37713268919686\t -2.449489748092488\n",
            "2  \t [10. 10. 10.]\t -180581.0\t -504.37713268919686\t -2.449489748092488\n",
            "3  \t [-1.23662215 -7.47908294 -5.93936038]\t -43859.291409965896\t -504.37713268919686\t -2.449489748092488\n",
            "4  \t [ 3.14692525  9.50918422 -2.23413701]\t -63161.457005708806\t -504.37713268919686\t -2.449489748092488\n",
            "5  \t [ 4.56139684 -4.673529    0.23379905]\t -3142.4271112122515\t -504.37713268919686\t -2.449489748092488\n",
            "6  \t [-8.35759819 -3.57642182 -5.67300392]\t -16239.797542075969\t -504.37713268919686\t -2.449489748092488\n",
            "7  \t [ 7.14573235 -6.46930749  7.38248289]\t -51761.01237664357\t -504.37713268919686\t -2.449489748092488\n",
            "8  \t [-2.32385405  3.3987878   2.45410745]\t -1528.4362462952065\t -504.37713268919686\t -2.449489748092488\n",
            "9  \t [-10. -10. -10.]\t -220621.0\t -504.37713268919686\t -2.449489748092488\n",
            "10 \t [5.48666037 1.38213046 9.72811181]\t -105933.85056823523\t -504.37713268919686\t -2.4494897480914055\n",
            "11 \t [ 8.93630394  6.87034717 -7.52532124]\t -48629.075116084015\t -504.37713268919686\t -2.449489748092488\n",
            "12 \t [-0.05689065  7.86870677 10.        ]\t -141441.87441770424\t -504.37713268919686\t -2.449489748092488\n",
            "13 \t [-9.54259734 -1.43539662  9.21612098]\t -88525.01266929683\t -504.37713268919686\t -2.4494897480921125\n",
            "14 \t [-4.21223091 -2.44007482 -0.48453707]\t -572.2843344220054\t -504.37713268919686\t -2.4494897480635904\n",
            "15 \t [-0.99166892  1.58387929 -5.06673238]\t -7504.2589961468575\t -504.37713268919686\t -2.449489092355905\n",
            "16 \t [9.86124121 7.95281301 2.49584769]\t -27346.045473023674\t -504.37713268919686\t -2.449489748092488\n",
            "17 \t [-9.35801008  7.98220289  3.79498813]\t -38830.44934073891\t -504.37713268919686\t -2.449489748092488\n",
            "18 \t [ 9.68325583 -7.33158706 -4.72528326]\t -27321.64299464839\t -504.37713268919686\t -2.449489748092488\n",
            "19 \t [-3.48410009 -3.68542923 -6.33751434]\t -23073.672070863027\t -504.37713268919686\t -2.449489748092488\n",
            "20 \t [-9.95161825 -6.74319938 -1.01620669]\t -20711.542485181704\t -504.37713268919686\t -2.4494897480924878\n",
            "21 \t [-3.06738808  0.65969156  9.87954751]\t -113598.09501401136\t -504.37713268919686\t -2.4494866343742894\n",
            "22 \t [ 0.88261995 -9.79369447  1.65682011]\t -73624.81856266232\t -504.37713268919686\t -2.449487391965838\n",
            "23 \t [  3.26371571  -3.16899429 -10.        ]\t -124403.95968685775\t -504.37713268919686\t -2.449489716666518\n",
            "24 \t [  9.49049637 -10.           2.01642409]\t -73646.13137680503\t -504.37713268919686\t -2.449487877656291\n",
            "25 \t [ 1.97625638  5.37142271 -9.72633091]\t -107594.37185634038\t -504.37713268919686\t -2.4494890480168774\n",
            "26 \t [4.86646154 4.20384158 4.02239463]\t -4250.971894688662\t -504.37713268919686\t -2.4494897480816755\n",
            "27 \t [-8.68400786  2.45459882 -9.40917832]\t -92420.25042607819\t -504.37713268919686\t -2.4494884238774306\n",
            "28 \t [ 1.27548043 -1.29415459  5.04703048]\t -8195.4786720953\t -504.37713268919686\t -2.4494658718111575\n",
            "29 \t [ 9.77576107  3.70291481 -2.03646173]\t -763.1190005603877\t -504.37713268919686\t -2.4493572588809753\n",
            "30 \t [-6.06513514 -9.70718285 -3.46823917]\t -79149.17127020574\t -504.37713268919686\t -2.4494897480893614\n"
          ]
        }
      ]
    },
    {
      "cell_type": "code",
      "metadata": {
        "id": "04KJCEm_Ivvf",
        "colab": {
          "base_uri": "https://localhost:8080/"
        },
        "outputId": "4693a083-e0c7-45da-bb39-16848f929f72"
      },
      "source": [
        "### EXACT GP CBM GRADIENTS\n",
        "\n",
        "np.random.seed(run_num_6)\n",
        "surrogate_exact_6 = dGaussianProcess(cov_func, optimize=opt)\n",
        "\n",
        "exact_6 = dGPGO(surrogate_exact_6, Acquisition_new(util_grad_exact), objfunc, param)\n",
        "exact_6.run(init_evals=n_init, max_iter=iters)\n"
      ],
      "execution_count": 39,
      "outputs": [
        {
          "output_type": "stream",
          "name": "stdout",
          "text": [
            "Evaluation \t Proposed point \t  Current eval. \t  Best eval. \t         Max AcqFunc.\n",
            "init\t [ 7.85720303 -3.36040389  6.42458246]\t -22622.875691874993\t -747.5861078277044\t    \n",
            "init\t [-9.16606749 -7.8468664   1.90104128]\t -35798.39310944817\t -747.5861078277044\t    \n",
            "init\t [ 0.59634724 -1.62385143 -3.29184301]\t -1672.0743189422471\t -747.5861078277044\t    \n",
            "init\t [ 2.45038864 -1.23717148  4.71764213]\t -6281.890680624871\t -747.5861078277044\t    \n",
            "init\t [0.36072824 1.577172   2.90710192]\t -747.5861078277044\t -747.5861078277044\t    \n",
            "1  \t [ 4.34551693  9.88414877 -4.88771889]\t -77317.5102677862\t -747.5861078277044\t -2.449489748092488\n",
            "2  \t [-1.98503052 -5.08370297  0.47544376]\t -5862.449371750896\t -747.5861078277044\t -2.449489748092488\n",
            "3  \t [10. 10. 10.]\t -180581.0\t -747.5861078277044\t -2.449489748092488\n",
            "4  \t [-8.30089272  8.76464152 -3.7028615 ]\t -53579.172270173985\t -747.5861078277044\t -2.449489748092488\n",
            "5  \t [-10. -10. -10.]\t -220621.0\t -747.5861078277044\t -2.449489748092488\n",
            "6  \t [ 6.83055529 -7.02538607 -5.07603057]\t -27205.394503821604\t -747.5861078277044\t -2.449489748092488\n",
            "7  \t [-4.96128505 -3.58533201 -5.29378333]\t -12585.40003633736\t -747.5861078277044\t -2.449489748092488\n",
            "8  \t [-9.65070326 -1.84776117  8.53432848]\t -65940.61135244789\t -747.5861078277044\t -2.4494897480924203\n",
            "9  \t [5.95618828 3.62221445 9.57953935]\t -97953.49211296115\t -747.5861078277044\t -2.449489748092488\n",
            "10 \t [ 7.38730476  2.75969053 -4.84511084]\t -6022.272230571803\t -747.5861078277044\t -2.449489748092488\n",
            "11 \t [ -0.01238663  -9.33178521 -10.        ]\t -192135.5409952522\t -747.5861078277044\t -2.4494897480921054\n",
            "12 \t [-8.12416811  9.77114499 -9.4537219 ]\t -165001.95305563457\t -747.5861078277044\t -2.449489748092488\n",
            "13 \t [9.75219822 6.44883881 2.17338585]\t -10885.400270102296\t -747.5861078277044\t -2.449489748079581\n",
            "14 \t [-7.96678077  8.06800073  8.1299731 ]\t -84473.37284877573\t -747.5861078277044\t -2.449489748092488\n",
            "15 \t [ 0.19531588 -7.74530203  9.60360643]\t -139524.0237475551\t -747.5861078277044\t -2.4494897480914606\n",
            "16 \t [-1.18403636  4.12685105 -5.93279379]\t -15664.14172519735\t -747.5861078277044\t -2.4494894024510643\n",
            "17 \t [0.481095   8.96689374 5.8427652 ]\t -61963.86267308981\t -747.5861078277044\t -2.449489748092488\n",
            "18 \t [-5.15221986  2.87901711  0.2296981 ]\t -1005.2862593717405\t -747.5861078277044\t -2.449488622104378\n",
            "19 \t [-7.61533743 -9.87682162  7.95614659]\t -138142.05189911928\t -747.5861078277044\t -2.4494897480924855\n",
            "20 \t [ 6.69505608 -9.64088922  2.91292491]\t -66381.05140331497\t -747.5861078277044\t -2.4494897151879447\n",
            "21 \t [ 9.21548148 -3.60428538 -8.37442747]\t -62722.294732904535\t -747.5861078277044\t -2.449489748092488\n",
            "22 \t [-9.86470729 -2.7519171  -8.59919754]\t -69450.25015389195\t -747.5861078277044\t -2.449489747361703\n",
            "23 \t [-3.54236904  0.96732775 10.        ]\t -118921.2657715943\t -747.5861078277044\t -2.449488055017321\n",
            "24 \t [ -1.3016092   -0.97157361 -10.        ]\t -121194.36367477191\t -747.5861078277044\t -2.4494812593351503\n",
            "\u001b[1m\u001b[92m25\u001b[0m\t \u001b[1m\u001b[92m[-10.          -0.90639411  -1.5830792 ]\u001b[0m\t \u001b[1m\u001b[92m-497.21567344704073\u001b[0m\t \u001b[1m\u001b[92m-497.21567344704073\u001b[0m\t \u001b[1m\u001b[92m-2.449488479825869\u001b[0m\n",
            "26 \t [ 8.54842608  9.65079803 -9.93682527]\t -169071.56755330515\t -497.21567344704073\t -2.44947375986716\n",
            "27 \t [-2.85106929  9.04332904  0.09251774]\t -55646.932493444285\t -497.21567344704073\t -2.4494748110998668\n",
            "28 \t [-0.42377957 -9.22206524 -3.4626987 ]\t -61461.19797876341\t -497.21567344704073\t -2.4493727188192294\n",
            "29 \t [ 4.69758726  0.23212648 -9.25091471]\t -87703.63517536539\t -497.21567344704073\t -2.448445553742328\n",
            "30 \t [-6.54724118  2.48071741 -5.45230111]\t -10506.261254416546\t -497.21567344704073\t -2.449489732542097\n"
          ]
        }
      ]
    },
    {
      "cell_type": "code",
      "metadata": {
        "id": "tAOkme3CIvyO",
        "colab": {
          "base_uri": "https://localhost:8080/"
        },
        "outputId": "13293a1b-ce2f-4962-ddcd-cdecb286f226"
      },
      "source": [
        "### EXACT GP CBM GRADIENTS\n",
        "\n",
        "np.random.seed(run_num_7)\n",
        "surrogate_exact_7 = dGaussianProcess(cov_func, optimize=opt)\n",
        "\n",
        "exact_7 = dGPGO(surrogate_exact_7, Acquisition_new(util_grad_exact), objfunc, param)\n",
        "exact_7.run(init_evals=n_init, max_iter=iters)\n"
      ],
      "execution_count": 40,
      "outputs": [
        {
          "output_type": "stream",
          "name": "stdout",
          "text": [
            "Evaluation \t Proposed point \t  Current eval. \t  Best eval. \t         Max AcqFunc.\n",
            "init\t [-8.47383421  5.59837584 -1.23181537]\t -10236.238023609843\t -10236.238023609843\t    \n",
            "init\t [4.46930356 9.55979024 0.76991741]\t -63811.243249036976\t -10236.238023609843\t    \n",
            "init\t [ 0.02240927 -8.55897733 -4.6312204 ]\t -50862.43407074502\t -10236.238023609843\t    \n",
            "init\t [-2.34998349e-03  3.58459992e+00  6.07478072e+00]\t -16115.196076305741\t -10236.238023609843\t    \n",
            "init\t [-2.38117734 -8.68127306 -4.23708801]\t -52860.9167787799\t -10236.238023609843\t    \n",
            "1  \t [10. 10. 10.]\t -180581.0\t -10236.238023609843\t -2.449489748092488\n",
            "2  \t [-10. -10. -10.]\t -220621.0\t -10236.238023609843\t -2.449489748092488\n",
            "3  \t [ 6.70937122 -8.01304972  2.92508219]\t -31552.380495254474\t -10236.238023609843\t -2.449489748092488\n",
            "4  \t [ 1.15127802  3.13409361 -7.84817735]\t -43922.72435837149\t -10236.238023609843\t -2.449489748092488\n",
            "5  \t [-9.80514994  9.62358704  9.38552191]\t -159410.87903326433\t -10236.238023609843\t -2.449489748092488\n",
            "6  \t [-4.15741444 -7.51659134  5.61460982]\t -42415.46958480921\t -10236.238023609843\t -2.449489748092488\n",
            "\u001b[1m\u001b[92m7\u001b[0m\t \u001b[1m\u001b[92m[-2.07333895 -1.41425248 -0.60022225]\u001b[0m\t \u001b[1m\u001b[92m-96.89358605598336\u001b[0m\t \u001b[1m\u001b[92m-96.89358605598336\u001b[0m\t \u001b[1m\u001b[92m-2.44948974797237\u001b[0m\n",
            "8  \t [10.         -3.60677566 10.        ]\t -124961.28822703588\t -96.89358605598336\t -2.4494897480924305\n",
            "9  \t [ 9.02491218 -0.70469877 -3.36700283]\t -1833.0247693282868\t -96.89358605598336\t -2.449489748092488\n",
            "10 \t [-8.90956519  3.61951594 -9.74008684]\t -106484.73572265934\t -96.89358605598336\t -2.449489748092363\n",
            "11 \t [-9.67318068 -9.02149493 -0.26786193]\t -59842.47996633247\t -96.89358605598336\t -2.4494897480144617\n",
            "12 \t [ 8.65509283  5.49142818 -6.90629918]\t -29642.766167532078\t -96.89358605598336\t -2.4494897400638593\n",
            "13 \t [ 7.10948604 -5.43934334 -7.45668125]\t -46275.668343446414\t -96.89358605598336\t -2.4494892848073193\n",
            "14 \t [-4.41297956  9.8059798   3.59629778]\t -78206.52842403264\t -96.89358605598336\t -2.4494897443288424\n",
            "15 \t [-7.05665284 -2.72922514 -3.75916317]\t -3910.3478037953955\t -96.89358605598336\t -2.4494891713324485\n",
            "16 \t [10.          0.4962185   3.07743703]\t -1282.442577327575\t -96.89358605598336\t -2.4494894819641693\n",
            "17 \t [ 3.64602877 -2.0904341   1.42898987]\t -173.26688140413216\t -96.89358605598336\t -2.4494882074118753\n",
            "18 \t [ 2.48077799 10.         10.        ]\t -186329.878830888\t -96.89358605598336\t -2.449489700210856\n",
            "19 \t [-9.06574853  2.13973655  8.10641238]\t -50911.696189148846\t -96.89358605598336\t -2.4494897296633673\n",
            "20 \t [ 3.58094314 -4.26510054  8.34443614]\t -63956.20114832965\t -96.89358605598336\t -2.449475280437168\n",
            "21 \t [  0.55380268  -4.32240082 -10.        ]\t -127953.44908469553\t -96.89358605598336\t -2.4494880175233127\n",
            "22 \t [-0.495722    8.16477286 -3.64473612]\t -36835.35472107585\t -96.89358605598336\t -2.449483980422045\n",
            "23 \t [-8.85293205 -4.89096697  9.26147383]\t -99919.9913854413\t -96.89358605598336\t -2.4494752598762166\n",
            "24 \t [-10.          -2.99948742   2.73831186]\t -2659.8999089248964\t -96.89358605598336\t -2.449483097665515\n",
            "25 \t [-7.60799721 -3.41682824 -9.9965277 ]\t -125956.60953185262\t -96.89358605598336\t -2.4494821791151904\n",
            "26 \t [5.96937024 3.57557667 9.80494706]\t -107614.2799084398\t -96.89358605598336\t -2.4494893540130143\n",
            "27 \t [4.99237856 3.18091774 2.27150349]\t -633.580255023769\t -96.89358605598336\t -2.449388090259289\n",
            "28 \t [-2.74730107 -1.66551166 10.        ]\t -122158.59738458741\t -96.89358605598336\t -2.44948739489189\n",
            "29 \t [ 3.21321513  0.91872647 -2.54521576]\t -444.25584261451104\t -96.89358605598336\t -2.448941805889526\n",
            "30 \t [-4.67163005  2.30398731  2.17796585]\t -654.4244273071782\t -96.89358605598336\t -2.4493731392966165\n"
          ]
        }
      ]
    },
    {
      "cell_type": "code",
      "metadata": {
        "id": "69-J3EF4Iv1S",
        "colab": {
          "base_uri": "https://localhost:8080/"
        },
        "outputId": "06fd5895-a099-43e4-c184-a71305d71a95"
      },
      "source": [
        "### EXACT GP CBM GRADIENTS\n",
        "\n",
        "np.random.seed(run_num_8)\n",
        "surrogate_exact_8 = dGaussianProcess(cov_func, optimize=opt)\n",
        "\n",
        "exact_8 = dGPGO(surrogate_exact_8, Acquisition_new(util_grad_exact), objfunc, param)\n",
        "exact_8.run(init_evals=n_init, max_iter=iters)\n"
      ],
      "execution_count": 41,
      "outputs": [
        {
          "output_type": "stream",
          "name": "stdout",
          "text": [
            "Evaluation \t Proposed point \t  Current eval. \t  Best eval. \t         Max AcqFunc.\n",
            "init\t [7.46858806 9.37081326 7.3838908 ]\t -86398.56273239222\t -19.158799931573643\t    \n",
            "init\t [ 0.61711383 -5.34543344 -9.77202391]\t -122028.27716628066\t -19.158799931573643\t    \n",
            "init\t [-1.39062363 -1.9529728   0.45349343]\t -185.16317561320295\t -19.158799931573643\t    \n",
            "init\t [-0.43216408  1.10712948  0.86772035]\t -19.158799931573643\t -19.158799931573643\t    \n",
            "init\t [5.21791151 4.24749148 2.39364192]\t -2079.039537100791\t -19.158799931573643\t    \n",
            "1  \t [ 5.91149117 -9.35983687 -0.89104356]\t -57709.74714740788\t -19.158799931573643\t -2.449489748092488\n",
            "2  \t [-4.01894503  7.30848062  6.93893087]\t -48356.33098205576\t -19.158799931573643\t -2.449489748092488\n",
            "3  \t [-6.23415159 -2.85576708  4.59444715]\t -7163.787122326564\t -19.158799931573643\t -2.449489748092488\n",
            "4  \t [-10. -10. -10.]\t -220621.0\t -19.158799931573643\t -2.449489748092488\n",
            "5  \t [ 8.88043753 -3.47867257 -6.48954407]\t -23609.194785088257\t -19.158799931573643\t -2.449489748092488\n",
            "6  \t [ 3.22546284 -3.22818606  7.56495417]\t -42175.11719566289\t -19.158799931573643\t -2.449489748092488\n",
            "7  \t [-8.86376377  2.19322462 -9.29644966]\t -88149.73616258331\t -19.158799931573643\t -2.449489748092488\n",
            "8  \t [-9.29486377 -6.88958424  5.69557689]\t -37285.04360880313\t -19.158799931573643\t -2.449489748092488\n",
            "9  \t [ 9.93191874 -6.48819782  8.25144342]\t -72165.66228753423\t -19.158799931573643\t -2.449489734051835\n",
            "10 \t [ 3.59906412  8.7065713  -7.88671496]\t -83975.78705455337\t -19.158799931573643\t -2.449489748092488\n",
            "11 \t [-4.47948963  5.99786732 -0.24312572]\t -11816.310068361841\t -19.158799931573643\t -2.449489748092488\n",
            "12 \t [-4.25331313 -8.39794342 -3.73089156]\t -46193.60100136861\t -19.158799931573643\t -2.4494897480376725\n",
            "13 \t [-10.          -9.62082539  -0.58354026]\t -76583.45303432847\t -19.158799931573643\t -2.449489748092488\n",
            "14 \t [-3.93170548  7.89380631 -9.48112979]\t -121715.99264395752\t -19.158799931573643\t -2.449489748092488\n",
            "15 \t [ 0.59052587  1.08173618 -5.38117506]\t -9696.04047143286\t -19.158799931573643\t -2.449489748092488\n",
            "16 \t [-3.70740588  1.81466834  9.77653024]\t -107790.26865977739\t -19.158799931573643\t -2.449489748092488\n",
            "17 \t [ 7.42704428 -6.30046155  8.41770504]\t -76125.29945778343\t -19.158799931573643\t -2.449489748092488\n",
            "18 \t [10.        10.        -2.8187055]\t -72385.08341672599\t -19.158799931573643\t -2.4494897480314597\n",
            "19 \t [-8.52814157 -1.00151773 -1.85493511]\t -499.1540868527462\t -19.158799931573643\t -2.4494897048870556\n",
            "20 \t [-10.           3.8065283    0.93529424]\t -3172.467536445472\t -19.158799931573643\t -2.4494088170941724\n",
            "21 \t [ 2.30791983  4.90301779 10.        ]\t -118380.22216675433\t -19.158799931573643\t -2.4494834168728934\n",
            "22 \t [-2.34011278 -9.46975214  8.16615122]\t -127246.84547978008\t -19.158799931573643\t -2.449489747088311\n",
            "23 \t [ 8.60617931 -3.15193681  1.27947868]\t -435.4578114172567\t -19.158799931573643\t -2.449489434072691\n",
            "24 \t [ 0.79794261 10.          0.71066582]\t -79605.41551589864\t -19.158799931573643\t -2.449488630223119\n",
            "25 \t [ 6.79025142  2.56153348 -3.49521625]\t -1548.824836008945\t -19.158799931573643\t -2.4494861846299347\n",
            "26 \t [  7.83258855 -10.          -7.53131609]\t -119616.6826135842\t -19.158799931573643\t -2.4494864515833905\n",
            "27 \t [9.98812669 2.64969448 7.73007522]\t -41081.32918036517\t -19.158799931573643\t -2.4494894818045596\n",
            "28 \t [-4.27131509 -2.51115354 -5.57985691]\t -13187.50540644116\t -19.158799931573643\t -2.4492997841312576\n",
            "29 \t [-9.2643987   0.96089108  7.23542564]\t -32639.39878467581\t -19.158799931573643\t -2.448434678742391\n",
            "30 \t [-8.36298894  6.79788077 -4.78652278]\t -24971.593165449776\t -19.158799931573643\t -2.4493475408741667\n"
          ]
        }
      ]
    },
    {
      "cell_type": "code",
      "metadata": {
        "id": "vonm9jyuIv4t",
        "colab": {
          "base_uri": "https://localhost:8080/"
        },
        "outputId": "ef487067-9007-485c-b623-15e18889622d"
      },
      "source": [
        "### EXACT GP CBM GRADIENTS\n",
        "\n",
        "np.random.seed(run_num_9)\n",
        "surrogate_exact_9 = dGaussianProcess(cov_func, optimize=opt)\n",
        "\n",
        "exact_9 = dGPGO(surrogate_exact_9, Acquisition_new(util_grad_exact), objfunc, param)\n",
        "exact_9.run(init_evals=n_init, max_iter=iters)\n"
      ],
      "execution_count": 42,
      "outputs": [
        {
          "output_type": "stream",
          "name": "stdout",
          "text": [
            "Evaluation \t Proposed point \t  Current eval. \t  Best eval. \t         Max AcqFunc.\n",
            "init\t [-9.79251692  0.03749184 -0.08453414]\t -308.3769452572715\t -308.3769452572715\t    \n",
            "init\t [-7.32340942 -7.15777829 -5.62882649]\t -39098.793761550274\t -308.3769452572715\t    \n",
            "init\t [-1.62983639 -5.03797663 -8.31880698]\t -67224.5603542052\t -308.3769452572715\t    \n",
            "init\t [-3.0900272  -6.66447307  7.57118171]\t -61063.84970572342\t -308.3769452572715\t    \n",
            "init\t [ 9.01928063 -9.22503248  3.98214783]\t -57052.59558792292\t -308.3769452572715\t    \n",
            "1  \t [2.99080926 7.21663846 9.41692024]\t -107317.26583764593\t -308.3769452572715\t -2.449489748092488\n",
            "2  \t [ 6.86233684  2.90237997 -3.94602224]\t -2626.2381369461364\t -308.3769452572715\t -2.449489748092488\n",
            "3  \t [-9.77584307 -9.02200933  2.98685213]\t -61841.45747865176\t -308.3769452572715\t -2.449489748092488\n",
            "4  \t [-2.00413361  1.08900426  2.95561752]\t -852.467214273503\t -308.3769452572715\t -2.449489748092488\n",
            "5  \t [ 0.47363479  9.30843577 -8.60467824]\t -117507.45495400687\t -308.3769452572715\t -2.449489748092488\n",
            "6  \t [ 7.08809023 -0.77927986  8.97599599]\t -78756.71445675654\t -308.3769452572715\t -2.449489748092488\n",
            "7  \t [-8.38555052  3.98138274 -6.84585142]\t -27467.420044115126\t -308.3769452572715\t -2.449489748092488\n",
            "8  \t [-0.07086321 10.          0.66256092]\t -80307.48143312425\t -308.3769452572715\t -2.4494897480924864\n",
            "9  \t [-4.56467949  6.063994    8.45989626]\t -68602.15070762363\t -308.3769452572715\t -2.4494897480828617\n",
            "10 \t [ 6.11629874 -8.74204803 -0.96542318]\t -43423.330956225946\t -308.3769452572715\t -2.449489748092488\n",
            "11 \t [ -1.73025748 -10.           0.5628936 ]\t -81736.8745010119\t -308.3769452572715\t -2.44948974798022\n",
            "12 \t [3.01277451 9.9078286  1.97878079]\t -74760.19292573501\t -308.3769452572715\t -2.449489748092488\n",
            "13 \t [10. 10. 10.]\t -180581.0\t -308.3769452572715\t -2.4494897278912404\n",
            "14 \t [-6.53392799  8.75203271 -2.14925573]\t -51084.86796464418\t -308.3769452572715\t -2.449488989302288\n",
            "15 \t [ 9.79254025 -1.85774879 -8.85408835]\t -75601.1109799682\t -308.3769452572715\t -2.4494897468257935\n",
            "16 \t [4.0013115  2.98116812 3.30227811]\t -1452.0057409288638\t -308.3769452572715\t -2.449488336226935\n",
            "17 \t [-1.86570844  2.0558662  -3.43602118]\t -1615.2340631682002\t -308.3769452572715\t -2.4494893883412976\n",
            "18 \t [ 9.39804768  7.24650959 -9.67349605]\t -115458.18884345451\t -308.3769452572715\t -2.449489747775552\n",
            "19 \t [9.57280278 7.78989989 3.11435569]\t -25472.793162279897\t -308.3769452572715\t -2.4494884440333795\n",
            "20 \t [-6.79810453 -0.5788002   7.42919877]\t -37111.90930656522\t -308.3769452572715\t -2.449488979747537\n",
            "21 \t [ 2.35781057 -3.41542509  2.50186577]\t -1643.2163196046088\t -308.3769452572715\t -2.4494884223973648\n",
            "22 \t [-10.          -1.91609321 -10.        ]\t -123032.87333716905\t -308.3769452572715\t -2.4494889835265194\n",
            "23 \t [-1.45360707  2.0388264  -9.82444564]\t -109640.5489018834\t -308.3769452572715\t -2.4494885718025547\n",
            "24 \t [-9.51909467  9.85552233  4.93670949]\t -87701.16429329028\t -308.3769452572715\t -2.4494895016731886\n",
            "25 \t [ 3.19042774 -5.38724783  7.48189738]\t -47332.24313466123\t -308.3769452572715\t -2.4489519987821704\n",
            "26 \t [-5.20324888 -3.98454613  1.08272538]\t -2890.2146782873165\t -308.3769452572715\t -2.4494862347739312\n",
            "\u001b[1m\u001b[92m27\u001b[0m\t \u001b[1m\u001b[92m[ 8.34698155 -2.35006898 -0.79063013]\u001b[0m\t \u001b[1m\u001b[92m-107.42938065244414\u001b[0m\t \u001b[1m\u001b[92m-107.42938065244414\u001b[0m\t \u001b[1m\u001b[92m-2.449484260933568\u001b[0m\n",
            "28 \t [-0.69104359  0.57603434  9.81411923]\t -110665.16964394524\t -107.42938065244414\t -2.4494831086360733\n",
            "29 \t [-10. -10. -10.]\t -220621.0\t -107.42938065244414\t -2.448810184217549\n",
            "30 \t [ 8.00314051  8.86086346 -3.12875483]\t -44811.52071430472\t -107.42938065244414\t -2.4494698264820283\n"
          ]
        }
      ]
    },
    {
      "cell_type": "code",
      "metadata": {
        "id": "6amuYlUdIv7r",
        "colab": {
          "base_uri": "https://localhost:8080/"
        },
        "outputId": "3b9a6242-83a0-4c43-b02a-f02363ed8550"
      },
      "source": [
        "### EXACT GP CBM GRADIENTS\n",
        "\n",
        "np.random.seed(run_num_10)\n",
        "surrogate_exact_10 = dGaussianProcess(cov_func, optimize=opt)\n",
        "\n",
        "exact_10 = dGPGO(surrogate_exact_10, Acquisition_new(util_grad_exact), objfunc, param)\n",
        "exact_10.run(init_evals=n_init, max_iter=iters)\n"
      ],
      "execution_count": 43,
      "outputs": [
        {
          "output_type": "stream",
          "name": "stdout",
          "text": [
            "Evaluation \t Proposed point \t  Current eval. \t  Best eval. \t         Max AcqFunc.\n",
            "init\t [ 5.42641287 -9.58496101  2.6729647 ]\t -65323.138576781035\t -11089.42002600802\t    \n",
            "init\t [ 4.97607765 -0.02985975 -5.50406709]\t -11089.42002600802\t -11089.42002600802\t    \n",
            "init\t [-6.0387427   5.21061424 -6.61778327]\t -27690.457734888914\t -11089.42002600802\t    \n",
            "init\t [-8.23320372  3.70719637  9.06786692]\t -80154.14403008527\t -11089.42002600802\t    \n",
            "init\t [-9.92103467  0.24384527  6.25241923]\t -18545.57155390516\t -11089.42002600802\t    \n",
            "1  \t [6.10446394 0.43294305 8.17297762]\t -53288.212919444646\t -11089.42002600802\t -2.449489748092488\n",
            "2  \t [-9.70279951  9.55798527  1.46057808]\t -74244.04457503722\t -11089.42002600802\t -2.449489748092488\n",
            "3  \t [0.12741303 7.84580063 2.91229999]\t -30501.12571208984\t -11089.42002600802\t -2.449489748092488\n",
            "4  \t [10. 10. 10.]\t -180581.0\t -11089.42002600802\t -2.449489748092488\n",
            "5  \t [-10. -10. -10.]\t -220621.0\t -11089.42002600802\t -2.449489748092488\n",
            "6  \t [ 8.09627953 -9.91552173 -8.52992239]\t -143623.97605290846\t -11089.42002600802\t -2.449489748092488\n",
            "\u001b[1m\u001b[92m7\u001b[0m\t \u001b[1m\u001b[92m[-6.28170541 -3.74448568 -2.67342067]\u001b[0m\t \u001b[1m\u001b[92m-3385.5036917401885\u001b[0m\t \u001b[1m\u001b[92m-3385.5036917401885\u001b[0m\t \u001b[1m\u001b[92m-2.449489748092488\u001b[0m\n",
            "8  \t [ 9.80335485  7.06202787 -3.11757933]\t -16715.848126851764\t -3385.5036917401885\t -2.449489748092488\n",
            "9  \t [-1.29324474 -9.57071343 -9.69796839]\t -185301.17630055506\t -3385.5036917401885\t -2.4494897480891638\n",
            "10 \t [ 5.579123    5.91926926 -9.91163823]\t -117282.01795041209\t -3385.5036917401885\t -2.4494897422677653\n",
            "11 \t [-3.08865051 -6.01035823  7.87060749]\t -61992.77217562453\t -3385.5036917401885\t -2.4494897480924878\n",
            "12 \t [4.46588649 0.41056736 4.72710494]\t -5928.386985062376\t -3385.5036917401885\t -2.449489748092488\n",
            "13 \t [-3.87299318 -1.5547359  -9.94280554]\t -119305.16718500291\t -3385.5036917401885\t -2.449489747421134\n",
            "\u001b[1m\u001b[92m14\u001b[0m\t \u001b[1m\u001b[92m[-4.79688815  2.70554353  0.46654949]\u001b[0m\t \u001b[1m\u001b[92m-804.6453490772093\u001b[0m\t \u001b[1m\u001b[92m-804.6453490772093\u001b[0m\t \u001b[1m\u001b[92m-2.449489733156914\u001b[0m\n",
            "15 \t [ 0.11777393 10.         -5.13203731]\t -85370.21099852574\t -804.6453490772093\t -2.4494897477451536\n",
            "16 \t [7.4511095  6.57366076 3.47478125]\t -13442.287754215595\t -804.6453490772093\t -2.449489469288697\n",
            "17 \t [-10.          -6.36459463   4.19886477]\t -21886.92474573994\t -804.6453490772093\t -2.4494893776729736\n",
            "18 \t [-0.55560197 -4.68691863  0.34008818]\t -4033.7098736618277\t -804.6453490772093\t -2.4494888688291443\n",
            "19 \t [1.59747035 7.24421495 9.82397699]\t -124905.96094563091\t -804.6453490772093\t -2.449489565247246\n",
            "\u001b[1m\u001b[92m20\u001b[0m\t \u001b[1m\u001b[92m[ 6.44371626 -3.47990326 -0.24285763]\u001b[0m\t \u001b[1m\u001b[92m-700.421556628944\u001b[0m\t \u001b[1m\u001b[92m-700.421556628944\u001b[0m\t \u001b[1m\u001b[92m-2.4494817622988134\u001b[0m\n",
            "21 \t [ 4.32192587  5.11987447 -2.59262289]\t -4846.925755174468\t -700.421556628944\t -2.4494897480917777\n",
            "22 \t [ 2.53496973 -8.24315532 -4.04716215]\t -40617.943111359906\t -700.421556628944\t -2.449484613038405\n",
            "\u001b[1m\u001b[92m23\u001b[0m\t \u001b[1m\u001b[92m[10.          1.29399279  0.80174817]\u001b[0m\t \u001b[1m\u001b[92m-169.47621170777828\u001b[0m\t \u001b[1m\u001b[92m-169.47621170777828\u001b[0m\t \u001b[1m\u001b[92m-2.44947873592338\u001b[0m\n",
            "24 \t [-4.35205961 -9.82623404 -3.5694259 ]\t -81750.90754855686\t -169.47621170777828\t -2.4494820278261358\n",
            "25 \t [-5.47678235  9.92210908  7.8268475 ]\t -119986.07311614908\t -169.47621170777828\t -2.449488032900662\n",
            "26 \t [ 4.15797347 -6.58501569  9.82007944]\t -132988.97661931743\t -169.47621170777828\t -2.449489710411004\n",
            "27 \t [10.         -5.64630471  5.92047071]\t -23075.902582211675\t -169.47621170777828\t -2.449486852909368\n",
            "28 \t [-1.78078272  0.20156639  5.74303313]\t -12989.09917246138\t -169.47621170777828\t -2.449478051243492\n",
            "29 \t [ 9.86832269 -7.03646675 -1.16157646]\t -16260.329894886263\t -169.47621170777828\t -2.449489748092488\n",
            "30 \t [-10.          -0.17022613  -7.32678965]\t -35013.95633513753\t -169.47621170777828\t -2.4494822489409374\n"
          ]
        }
      ]
    },
    {
      "cell_type": "code",
      "metadata": {
        "id": "VwbLIP9cIv-F",
        "colab": {
          "base_uri": "https://localhost:8080/"
        },
        "outputId": "19cf9c79-111a-4390-fbb0-4da2d1e0b6b7"
      },
      "source": [
        "### EXACT GP CBM GRADIENTS\n",
        "\n",
        "np.random.seed(run_num_11)\n",
        "surrogate_exact_11 = dGaussianProcess(cov_func, optimize=opt)\n",
        "\n",
        "exact_11 = dGPGO(surrogate_exact_11, Acquisition_new(util_grad_exact), objfunc, param)\n",
        "exact_11.run(init_evals=n_init, max_iter=iters)\n"
      ],
      "execution_count": 44,
      "outputs": [
        {
          "output_type": "stream",
          "name": "stdout",
          "text": [
            "Evaluation \t Proposed point \t  Current eval. \t  Best eval. \t         Max AcqFunc.\n",
            "init\t [-6.39460622 -9.61049517 -0.73562947]\t -73449.7462395723\t -22.303897517794855\t    \n",
            "init\t [ 4.49867858 -1.59592791 -0.29145804]\t -22.303897517794855\t -22.303897517794855\t    \n",
            "init\t [-9.74438371 -0.25256785  8.83613305]\t -73699.8605668882\t -22.303897517794855\t    \n",
            "init\t [ 7.01590179  4.5992894  -7.82527856]\t -44207.59530328671\t -22.303897517794855\t    \n",
            "init\t [ 7.87808341  7.14308494 -6.69826765]\t -38246.569253964415\t -22.303897517794855\t    \n",
            "1  \t [-1.96647039  6.95957995  4.35698359]\t -22430.99927361658\t -22.303897517794855\t -2.449489748092488\n",
            "2  \t [-3.72641694  8.61531845 -5.23307798]\t -52726.91681995238\t -22.303897517794855\t -2.449489748092488\n",
            "3  \t [-10. -10. -10.]\t -220621.0\t -22.303897517794855\t -2.449489748092488\n",
            "4  \t [ 4.43147963 -5.55301844 -8.46208901]\t -72959.52458628741\t -22.303897517794855\t -2.449489748092488\n",
            "5  \t [ 5.40088552 -8.93292028  7.72280751]\t -96888.8410801737\t -22.303897517794855\t -2.449489748092488\n",
            "6  \t [10. 10. 10.]\t -180581.0\t -22.303897517794855\t -2.449489748092488\n",
            "7  \t [-9.91700398  2.82413986 -1.82953825]\t -1502.4804901611444\t -22.303897517794855\t -2.449489748092468\n",
            "8  \t [9.19882162 0.03064205 8.95268462]\t -77296.27028686141\t -22.303897517794855\t -2.449489748092488\n",
            "9  \t [-0.1949367  -2.43324167  7.75375352]\t -45438.36504414475\t -22.303897517794855\t -2.449489748087337\n",
            "10 \t [-9.59976122  8.38827695  9.33640652]\t -127925.16238139631\t -22.303897517794855\t -2.4494897480905147\n",
            "11 \t [-4.22448519 -2.60381475 -8.59171843]\t -68375.18072103971\t -22.303897517794855\t -2.4494897480924602\n",
            "12 \t [ 1.04446218 -9.57850648  0.42828349]\t -66873.54813740545\t -22.303897517794855\t -2.4494897301493004\n",
            "13 \t [7.26533723 7.55095633 2.35406343]\t -22875.730086457854\t -22.303897517794855\t -2.4494897480708464\n",
            "14 \t [ 1.79125607 10.         10.        ]\t -186874.0384286135\t -22.303897517794855\t -2.4494897363608863\n",
            "15 \t [ 9.09743006 -7.82393094  1.54900137]\t -26231.110519638634\t -22.303897517794855\t -2.449489598702361\n",
            "16 \t [-1.98594366  1.36865199  0.05803444]\t -80.2002113281904\t -22.303897517794855\t -2.4494895705950057\n",
            "17 \t [10.         -3.86726119 -4.22318666]\t -5563.659177290869\t -22.303897517794855\t -2.449489341394454\n",
            "18 \t [-9.52258371 -8.227338    6.13033311]\t -62964.517294875375\t -22.303897517794855\t -2.449489741936654\n",
            "19 \t [ -7.954016     5.84901617 -10.        ]\t -124830.57358861288\t -22.303897517794855\t -2.449488869152886\n",
            "20 \t [10.          1.74618626  0.01400084]\t -120.58940423943857\t -22.303897517794855\t -2.449488838672425\n",
            "21 \t [ 1.70708911  5.48918743 -1.87118991]\t -6864.811041208679\t -22.303897517794855\t -2.449488022649835\n",
            "22 \t [-6.19574959 -2.80454539 -1.01630727]\t -1084.4987423244656\t -22.303897517794855\t -2.449486123158701\n",
            "23 \t [-1.59272553 -9.62998105 -6.41467656]\t -95345.18697633974\t -22.303897517794855\t -2.449489625779606\n",
            "24 \t [ 1.10567738 -0.06503211 -5.15727747]\t -8512.31896108121\t -22.303897517794855\t -2.449484218569237\n",
            "25 \t [-8.66570862 -4.51875792  8.6212623 ]\t -75378.87288437581\t -22.303897517794855\t -2.449489748092488\n",
            "26 \t [-2.57149826 -8.63667448  7.9199581 ]\t -100011.28906927456\t -22.303897517794855\t -2.4494836512421876\n",
            "27 \t [-9.23970021  4.72882153  3.77751002]\t -7629.703935890454\t -22.303897517794855\t -2.4494604289099486\n",
            "28 \t [5.61249509 1.78423169 2.81251817]\t -613.4654699824177\t -22.303897517794855\t -2.4490922462438403\n",
            "29 \t [-5.31070829 -0.2449563   4.2489322 ]\t -4063.171791532048\t -22.303897517794855\t -2.449399604587886\n",
            "30 \t [0.11073315 3.63712565 9.58380533]\t -98655.53777794517\t -22.303897517794855\t -2.4494094620818254\n"
          ]
        }
      ]
    },
    {
      "cell_type": "code",
      "metadata": {
        "id": "MlUNFjc-JTBY",
        "colab": {
          "base_uri": "https://localhost:8080/"
        },
        "outputId": "214b0121-2aed-4a35-be6b-8834a1f07ff2"
      },
      "source": [
        "### EXACT GP CBM GRADIENTS\n",
        "\n",
        "np.random.seed(run_num_12)\n",
        "surrogate_exact_12 = dGaussianProcess(cov_func, optimize=opt)\n",
        "\n",
        "exact_12 = dGPGO(surrogate_exact_12, Acquisition_new(util_grad_exact), objfunc, param)\n",
        "exact_12.run(init_evals=n_init, max_iter=iters)\n"
      ],
      "execution_count": 45,
      "outputs": [
        {
          "output_type": "stream",
          "name": "stdout",
          "text": [
            "Evaluation \t Proposed point \t  Current eval. \t  Best eval. \t         Max AcqFunc.\n",
            "init\t [-6.91674315  4.80099393 -4.7336997 ]\t -10487.591252066548\t -4586.38475927115\t    \n",
            "init\t [ 0.67478787 -9.70850075  8.37494016]\t -138053.19180525147\t -4586.38475927115\t    \n",
            "init\t [ 8.01429708 -9.33157145  9.13898673]\t -148578.70720060062\t -4586.38475927115\t    \n",
            "init\t [-7.25581357 -4.32343294  2.12166369]\t -4586.38475927115\t -4586.38475927115\t    \n",
            "init\t [ 8.88450272  7.05471082 -9.95481533]\t -126104.01453704505\t -4586.38475927115\t    \n",
            "\u001b[1m\u001b[92m1\u001b[0m\t \u001b[1m\u001b[92m[ 4.05244711 -3.44861047 -3.30704942]\u001b[0m\t \u001b[1m\u001b[92m-2711.705028601448\u001b[0m\t \u001b[1m\u001b[92m-2711.705028601448\u001b[0m\t \u001b[1m\u001b[92m-2.449489748092488\u001b[0m\n",
            "2  \t [-9.8399332  -9.79123196  1.94917609]\t -82290.79401902205\t -2711.705028601448\t -2.449489748092488\n",
            "3  \t [-10. -10. -10.]\t -220621.0\t -2711.705028601448\t -2.449489748092488\n",
            "4  \t [-9.90274624 -5.05558204  6.5981439 ]\t -33027.813423262836\t -2711.705028601448\t -2.449489748092488\n",
            "\u001b[1m\u001b[92m5\u001b[0m\t \u001b[1m\u001b[92m[8.11179655 4.25164412 2.83994041]\u001b[0m\t \u001b[1m\u001b[92m-2046.5141241551942\u001b[0m\t \u001b[1m\u001b[92m-2046.5141241551942\u001b[0m\t \u001b[1m\u001b[92m-2.449489748092488\u001b[0m\n",
            "6  \t [-1.0203127   6.70305372  2.93327516]\t -16854.29441646725\t -2046.5141241551942\t -2.449489748092488\n",
            "7  \t [10. 10. 10.]\t -180581.0\t -2046.5141241551942\t -2.449489748092488\n",
            "8  \t [-3.39588922 -3.70052717  9.95424593]\t -124174.59831589606\t -2046.5141241551942\t -2.449489748092488\n",
            "9  \t [ 6.40985755 -0.49866989  9.32343315]\t -91294.49918210965\t -2046.5141241551942\t -2.4494897480924847\n",
            "10 \t [-9.79176428  7.36536448  5.25320924]\t -34963.294709396985\t -2046.5141241551942\t -2.449489748092488\n",
            "\u001b[1m\u001b[92m11\u001b[0m\t \u001b[1m\u001b[92m[-0.53373012 -1.61529331  2.18643426]\u001b[0m\t \u001b[1m\u001b[92m-443.25295788399114\u001b[0m\t \u001b[1m\u001b[92m-443.25295788399114\u001b[0m\t \u001b[1m\u001b[92m-2.449489748092488\u001b[0m\n",
            "12 \t [-4.78025114 -0.42029405 -9.75316969]\t -109150.04266572934\t -443.25295788399114\t -2.4494897480920734\n",
            "13 \t [ 2.42851537  3.41977954 -6.96804723]\t -27212.880860011614\t -443.25295788399114\t -2.44948974718674\n",
            "14 \t [ 2.82957347 -8.84843756 -9.06320387]\t -137211.52228276304\t -443.25295788399114\t -2.449489748092459\n",
            "15 \t [-0.47370456 -9.97762256  0.31387618]\t -79976.78296998542\t -443.25295788399114\t -2.4494897480775775\n",
            "16 \t [ 9.96439472 -4.89952072 -7.88213526]\t -53018.92173962747\t -443.25295788399114\t -2.449489748092488\n",
            "\u001b[1m\u001b[92m17\u001b[0m\t \u001b[1m\u001b[92m[10.         -2.38089429 -0.22197238]\u001b[0m\t \u001b[1m\u001b[92m-103.01965896402494\u001b[0m\t \u001b[1m\u001b[92m-103.01965896402494\u001b[0m\t \u001b[1m\u001b[92m-2.4494897475348707\u001b[0m\n",
            "18 \t [-4.91275795  9.32190388 10.        ]\t -172982.8555918486\t -103.01965896402494\t -2.4494895245065633\n",
            "19 \t [10.          9.72377854 -1.98685371]\t -64247.329467285315\t -103.01965896402494\t -2.4494897476042885\n",
            "20 \t [5.21372908 9.4914711  2.35122249]\t -61248.72903243868\t -103.01965896402494\t -2.4494895416526385\n",
            "21 \t [-0.4303725   4.55837918  9.74714145]\t -106708.8747453606\t -103.01965896402494\t -2.4494897477630517\n",
            "22 \t [ 6.72999519 -9.85288555  3.98217806]\t -75475.66507226418\t -103.01965896402494\t -2.449489748092488\n",
            "23 \t [-8.10098369  0.61845424  8.65164439]\t -66917.66088073654\t -103.01965896402494\t -2.449489748092488\n",
            "24 \t [-3.77860199 -7.84249219 -9.92916617]\t -158271.7982907587\t -103.01965896402494\t -2.449489748088225\n",
            "25 \t [-2.2089945  -2.70458202 -3.08634509]\t -1997.292149448107\t -103.01965896402494\t -2.4494896710664706\n",
            "26 \t [-10.          -1.26304094  -4.68585908]\t -6592.025310839188\t -103.01965896402494\t -2.449489157334542\n",
            "27 \t [-0.24794376  9.14821148 -9.57675165]\t -147320.20240691642\t -103.01965896402494\t -2.449488804483395\n",
            "28 \t [ 5.4127943  -9.38418916 -2.92236921]\t -60406.6152491418\t -103.01965896402494\t -2.449489516779377\n",
            "29 \t [ 0.82655294  0.84917855 -3.31070482]\t -1332.9204930727701\t -103.01965896402494\t -2.449489748092488\n",
            "30 \t [-7.08501051 -7.53334641 -4.67918983]\t -37050.26412975238\t -103.01965896402494\t -2.4494896497428384\n"
          ]
        }
      ]
    },
    {
      "cell_type": "code",
      "metadata": {
        "id": "9BsKdU9eJTFL",
        "colab": {
          "base_uri": "https://localhost:8080/"
        },
        "outputId": "1b671c9d-c924-4b6c-da3a-7d4ccd7ba2cd"
      },
      "source": [
        "### EXACT GP CBM GRADIENTS\n",
        "\n",
        "np.random.seed(run_num_13)\n",
        "surrogate_exact_13 = dGaussianProcess(cov_func, optimize=opt)\n",
        "\n",
        "exact_13 = dGPGO(surrogate_exact_13, Acquisition_new(util_grad_exact), objfunc, param)\n",
        "exact_13.run(init_evals=n_init, max_iter=iters)\n"
      ],
      "execution_count": 46,
      "outputs": [
        {
          "output_type": "stream",
          "name": "stdout",
          "text": [
            "Evaluation \t Proposed point \t  Current eval. \t  Best eval. \t         Max AcqFunc.\n",
            "init\t [ 5.55404821 -5.2491756   6.48557065]\t -28895.231649642476\t -7190.67128147545\t    \n",
            "init\t [ 9.31498396  9.45202228 -0.93101505]\t -57617.86193657745\t -7190.67128147545\t    \n",
            "init\t [2.18084926 5.51053029 2.8322669 ]\t -7190.67128147545\t -7190.67128147545\t    \n",
            "init\t [ 4.44036459 -9.29926952 -4.03101058]\t -62045.794621798595\t -7190.67128147545\t    \n",
            "init\t [-8.82975016  7.14121885 -2.54291944]\t -24761.06708561053\t -7190.67128147545\t    \n",
            "1  \t [ 0.185244   -0.40233217  9.1114829 ]\t -83108.09560590271\t -7190.67128147545\t -2.449489748092488\n",
            "2  \t [-2.55507975  5.16954611 -8.57852975]\t -66788.32667697628\t -7190.67128147545\t -2.449489748092488\n",
            "3  \t [-4.04492519 -9.41811807  2.86360578]\t -67871.1485238979\t -7190.67128147545\t -2.449489748092488\n",
            "4  \t [ 5.82685351 -2.07230908 -7.09410447]\t -31695.800000421277\t -7190.67128147545\t -2.449489748092488\n",
            "5  \t [-9.72135464 -7.69244795 -6.22844507]\t -54735.99736938843\t -7190.67128147545\t -2.449489748092488\n",
            "6  \t [ 1.70981611 -7.96842051  6.63640935]\t -59069.60046239685\t -7190.67128147545\t -2.449489748092488\n",
            "7  \t [10. 10. 10.]\t -180581.0\t -7190.67128147545\t -2.449489748092488\n",
            "8  \t [-4.97792497  8.5929529   4.71687157]\t -50510.666794218574\t -7190.67128147545\t -2.449489748044015\n",
            "9  \t [ 1.6639904   1.75101086 -5.56192983]\t -10883.292818417536\t -7190.67128147545\t -2.449489748092488\n",
            "\u001b[1m\u001b[92m10\u001b[0m\t \u001b[1m\u001b[92m[10.          1.09440217  4.03256774]\u001b[0m\t \u001b[1m\u001b[92m-3159.9678632863906\u001b[0m\t \u001b[1m\u001b[92m-3159.9678632863906\u001b[0m\t \u001b[1m\u001b[92m-2.4494897480259996\u001b[0m\n",
            "11 \t [-7.33037661 -5.43830137  9.80324356]\t -126099.93632971952\t -3159.9678632863906\t -2.449489748090484\n",
            "\u001b[1m\u001b[92m12\u001b[0m\t \u001b[1m\u001b[92m[-1.64339016  0.96729591  0.37985948]\u001b[0m\t \u001b[1m\u001b[92m-33.075865092968336\u001b[0m\t \u001b[1m\u001b[92m-33.075865092968336\u001b[0m\t \u001b[1m\u001b[92m-2.449489748092488\u001b[0m\n",
            "13 \t [ 9.19881135  4.65477876 -5.21407523]\t -9813.385830432926\t -33.075865092968336\t -2.449489748092488\n",
            "14 \t [ -1.78201995  -8.39302126 -10.        ]\t -170998.79978801432\t -33.075865092968336\t -2.4494897480906537\n",
            "15 \t [-9.77923595  1.96271497  5.10732178]\t -8289.709221512083\t -33.075865092968336\t -2.4494897480267097\n",
            "16 \t [-7.45836735 -2.80424236 -0.5315164 ]\t -1180.7733195394433\t -33.075865092968336\t -2.4494897459545113\n",
            "17 \t [1.95014468 7.02128152 9.82838081]\t -122663.04842124794\t -33.075865092968336\t -2.4494897144649235\n",
            "18 \t [ 3.01331026  9.5316291  -4.66296733]\t -67323.51739443763\t -33.075865092968336\t -2.4494896829644732\n",
            "19 \t [6.28948877 1.1576258  7.72507096]\t -41964.78613282861\t -33.075865092968336\t -2.449489748092488\n",
            "20 \t [4.84759227 0.35590622 3.48973611]\t -1785.1061528226342\t -33.075865092968336\t -2.449489748092488\n",
            "21 \t [ -9.21621887   5.70581644 -10.        ]\t -124404.6315792006\t -33.075865092968336\t -2.449487304203689\n",
            "22 \t [-5.73567666 -2.05653257 -6.8350056 ]\t -27803.9982458276\t -33.075865092968336\t -2.4494884847096614\n",
            "23 \t [10.         -2.29023435 -1.86288586]\t -337.1106325599722\t -33.075865092968336\t -2.449486680135685\n",
            "24 \t [-8.28825767  3.87422849  8.50940191]\t -62618.206114882414\t -33.075865092968336\t -2.449489748092488\n",
            "25 \t [ 9.5164644  -7.4526968   0.55391789]\t -20900.21697463535\t -33.075865092968336\t -2.449476150814086\n",
            "26 \t [-1.48686217 -4.03447933  0.55776387]\t -2388.805488728501\t -33.075865092968336\t -2.4493817250702645\n",
            "27 \t [ 9.97158572  9.4654536  -9.10226796]\t -130580.08234503081\t -33.075865092968336\t -2.4494718451436683\n",
            "28 \t [ 0.26686631 -3.93806481 -6.09786342]\t -20287.104444748842\t -33.075865092968336\t -2.4487141471873417\n",
            "29 \t [ 3.62629729 -2.0128615  -1.36441712]\t -145.6927137910754\t -33.075865092968336\t -2.4489618556003148\n",
            "30 \t [8.41359894 6.38373898 5.00500097]\t -16472.799705458696\t -33.075865092968336\t -2.449044130459902\n"
          ]
        }
      ]
    },
    {
      "cell_type": "code",
      "metadata": {
        "id": "k6GjFBr1JTJf",
        "colab": {
          "base_uri": "https://localhost:8080/"
        },
        "outputId": "283a12dc-2d9d-479a-d0f3-a03829fc5dd6"
      },
      "source": [
        "### EXACT GP CBM GRADIENTS\n",
        "\n",
        "np.random.seed(run_num_14)\n",
        "surrogate_exact_14 = dGaussianProcess(cov_func, optimize=opt)\n",
        "\n",
        "exact_14 = dGPGO(surrogate_exact_14, Acquisition_new(util_grad_exact), objfunc, param)\n",
        "exact_14.run(init_evals=n_init, max_iter=iters)\n"
      ],
      "execution_count": 47,
      "outputs": [
        {
          "output_type": "stream",
          "name": "stdout",
          "text": [
            "Evaluation \t Proposed point \t  Current eval. \t  Best eval. \t         Max AcqFunc.\n",
            "init\t [0.27886688 5.46330104 7.40855371]\t -39702.89936997373\t -1439.5830530376063\t    \n",
            "init\t [-9.83906103 -3.80528149  9.15207479]\t -91186.29991894927\t -1439.5830530376063\t    \n",
            "init\t [ 0.26233425 -3.6343115   0.78399875]\t -1439.5830530376063\t -1439.5830530376063\t    \n",
            "init\t [-5.57490115  6.12962716 -3.15490749]\t -13643.962145478023\t -1439.5830530376063\t    \n",
            "init\t [ 0.77777698 -9.88252429  3.46304956]\t -79141.18744713577\t -1439.5830530376063\t    \n",
            "1  \t [ 7.75074914 -8.33301678  4.9312824 ]\t -44170.557703432896\t -1439.5830530376063\t -2.449489748092488\n",
            "2  \t [ 2.4133841   6.9805318  -1.42862351]\t -18093.267359135454\t -1439.5830530376063\t -2.449489748092488\n",
            "3  \t [ 0.20170278 -6.14709147 -9.49686071]\t -115740.3239857176\t -1439.5830530376063\t -2.449489748092488\n",
            "4  \t [ 9.06294459  1.2992097  -8.82658009]\t -71756.96862893569\t -1439.5830530376063\t -2.449489748092488\n",
            "\u001b[1m\u001b[92m5\u001b[0m\t \u001b[1m\u001b[92m[-9.55982645 -2.40648449 -1.49955998]\u001b[0m\t \u001b[1m\u001b[92m-1148.4811474641567\u001b[0m\t \u001b[1m\u001b[92m-1148.4811474641567\u001b[0m\t \u001b[1m\u001b[92m-2.449489748092488\u001b[0m\n",
            "6  \t [-10. -10. -10.]\t -220621.0\t -1148.4811474641567\t -2.449489748092488\n",
            "7  \t [10. 10. 10.]\t -180581.0\t -1148.4811474641567\t -2.449489748092488\n",
            "8  \t [ 7.30055503  1.4986715  10.        ]\t -118263.80483430228\t -1148.4811474641567\t -2.449489748092079\n",
            "9  \t [ 9.96695579  4.95165316 -1.56554003]\t -3133.4657862571175\t -1148.4811474641567\t -2.44948974809166\n",
            "10 \t [-4.76065837 -6.01957255  5.24376667]\t -23130.52422954533\t -1148.4811474641567\t -2.449489748092488\n",
            "11 \t [6.07674427 9.60748687 3.65072101]\t -64644.21910094508\t -1148.4811474641567\t -2.4494897475039408\n",
            "12 \t [ 4.41565709 -2.51625723 -4.8900489 ]\t -7750.48116422293\t -1148.4811474641567\t -2.449489748092488\n",
            "13 \t [-3.36390978  3.12902366  6.11942711]\t -16523.004276481952\t -1148.4811474641567\t -2.449489748092488\n",
            "14 \t [-1.09561874  1.18907994 -9.15027414]\t -82968.28063735437\t -1148.4811474641567\t -2.44948969965061\n",
            "15 \t [0.89026243 7.74449105 2.59197279]\t -28449.696044348027\t -1148.4811474641567\t -2.449489748092488\n",
            "16 \t [-2.55795727 -9.23714405 -2.54682051]\t -61494.23336797105\t -1148.4811474641567\t -2.449489748092488\n",
            "\u001b[1m\u001b[92m17\u001b[0m\t \u001b[1m\u001b[92m[ 9.90614776 -2.19870759  0.40228013]\u001b[0m\t \u001b[1m\u001b[92m-98.51929076584533\u001b[0m\t \u001b[1m\u001b[92m-98.51929076584533\u001b[0m\t \u001b[1m\u001b[92m-2.4494897449291364\u001b[0m\n",
            "18 \t [ 2.24496432 -3.39912563 -6.205258  ]\t -20269.19299563198\t -98.51929076584533\t -2.449489748092488\n",
            "19 \t [-9.00036184  8.51419028  8.16896995]\t -94359.14985585152\t -98.51929076584533\t -2.4494897480280815\n",
            "20 \t [-7.94788601 -1.8344207  -9.09926952]\t -84607.19423939729\t -98.51929076584533\t -2.4494897207085717\n",
            "21 \t [3.75589141 0.59579145 3.99060321]\t -2956.595025650736\t -98.51929076584533\t -2.449486483070608\n",
            "22 \t [ 7.66830049  9.21403994 -6.92660661]\t -75188.31516392285\t -98.51929076584533\t -2.449489740562258\n",
            "23 \t [ 9.45748281 -8.7979638  -6.96320159]\t -75887.34858395637\t -98.51929076584533\t -2.449489748088914\n",
            "24 \t [ -9.3162214  -10.           1.69542113]\t -88477.06959201368\t -98.51929076584533\t -2.4494895066582796\n",
            "25 \t [ 0.91820555  9.36077434 -9.48458808]\t -148047.94497424073\t -98.51929076584533\t -2.4494895679627717\n",
            "26 \t [-3.90324762 -0.2272781  -3.24197365]\t -1410.58757276881\t -98.51929076584533\t -2.4494776047931968\n",
            "27 \t [-10.           4.94445639   2.32703674]\t -7162.238178210418\t -98.51929076584533\t -2.4494877911047888\n",
            "28 \t [-10.           2.87743704  -5.46832837]\t -11254.112481491427\t -98.51929076584533\t -2.449250154586847\n",
            "29 \t [ 0.32505349 -4.69262366 10.        ]\t -129519.9098719542\t -98.51929076584533\t -2.449489606109409\n",
            "30 \t [-8.98154702  8.53099611 -7.90487105]\t -88540.10815241287\t -98.51929076584533\t -2.4494554779355893\n"
          ]
        }
      ]
    },
    {
      "cell_type": "code",
      "metadata": {
        "id": "dPS8WB3aJTN6",
        "colab": {
          "base_uri": "https://localhost:8080/"
        },
        "outputId": "c5a2c5ec-0385-403d-e08c-6e1e1d059df2"
      },
      "source": [
        "### EXACT GP CBM GRADIENTS\n",
        "\n",
        "np.random.seed(run_num_15)\n",
        "surrogate_exact_15 = dGaussianProcess(cov_func, optimize=opt)\n",
        "\n",
        "exact_15 = dGPGO(surrogate_exact_15, Acquisition_new(util_grad_exact), objfunc, param)\n",
        "exact_15.run(init_evals=n_init, max_iter=iters)\n"
      ],
      "execution_count": 48,
      "outputs": [
        {
          "output_type": "stream",
          "name": "stdout",
          "text": [
            "Evaluation \t Proposed point \t  Current eval. \t  Best eval. \t         Max AcqFunc.\n",
            "init\t [ 6.97635395 -6.4220815  -8.91273571]\t -93407.31094956005\t -3815.237318891498\t    \n",
            "init\t [-2.76923108 -4.49198143  0.6000045 ]\t -3815.237318891498\t -3815.237318891498\t    \n",
            "init\t [-3.88162169 -3.91051282 -7.76517448]\t -48905.136415868226\t -3815.237318891498\t    \n",
            "init\t [-5.00201972  8.35259796 -4.71706293]\t -45736.265979350435\t -3815.237318891498\t    \n",
            "init\t [4.35547375 7.31430068 6.14158964]\t -35004.84714820178\t -3815.237318891498\t    \n",
            "\u001b[1m\u001b[92m1\u001b[0m\t \u001b[1m\u001b[92m[-4.02002687  0.75490439  3.31255076]\u001b[0m\t \u001b[1m\u001b[92m-1425.6331932181074\u001b[0m\t \u001b[1m\u001b[92m-1425.6331932181074\u001b[0m\t \u001b[1m\u001b[92m-2.449489748092488\u001b[0m\n",
            "2  \t [ 2.60405856  6.24027381 -8.67997755]\t -73928.10815893668\t -1425.6331932181074\t -2.449489748092488\n",
            "3  \t [-8.34831929 -8.92943781  6.10252726]\t -77285.42186452134\t -1425.6331932181074\t -2.449489748092488\n",
            "4  \t [ 5.05406978 -4.8669869   5.11668062]\t -13423.651465814419\t -1425.6331932181074\t -2.449489748092488\n",
            "5  \t [-10. -10. -10.]\t -220621.0\t -1425.6331932181074\t -2.449489748092488\n",
            "\u001b[1m\u001b[92m6\u001b[0m\t \u001b[1m\u001b[92m[-9.79351252 -2.51545841 -0.23562792]\u001b[0m\t \u001b[1m\u001b[92m-1145.0724111700745\u001b[0m\t \u001b[1m\u001b[92m-1145.0724111700745\u001b[0m\t \u001b[1m\u001b[92m-2.449489748091102\u001b[0m\n",
            "7  \t [-8.19638088  7.14691904  8.96231951]\t -95126.48688189717\t -1145.0724111700745\t -2.449489748092488\n",
            "\u001b[1m\u001b[92m8\u001b[0m\t \u001b[1m\u001b[92m[ 6.80817985  3.39884641 -2.37672372]\u001b[0m\t \u001b[1m\u001b[92m-752.0353264428991\u001b[0m\t \u001b[1m\u001b[92m-752.0353264428991\u001b[0m\t \u001b[1m\u001b[92m-2.449489748089213\u001b[0m\n",
            "9  \t [-0.25085639  1.02709015  9.44666885]\t -94480.36267714304\t -752.0353264428991\t -2.449489747903856\n",
            "10 \t [ 3.88893442 -8.06801926 -1.99385928]\t -32679.999648494555\t -752.0353264428991\t -2.4494897479258766\n",
            "11 \t [10. 10. 10.]\t -180581.0\t -752.0353264428991\t -2.4494897474571307\n",
            "12 \t [-3.1640906   7.88786526  2.87351484]\t -32804.57261390649\t -752.0353264428991\t -2.4494897473307464\n",
            "13 \t [-8.49611629 -0.73181514  8.95868757]\t -78275.97397070796\t -752.0353264428991\t -2.449489748092488\n",
            "14 \t [ 2.07844555 -0.64484122 -5.25481056]\t -9368.947564543949\t -752.0353264428991\t -2.4494897480394404\n",
            "15 \t [-9.72970835  1.63019389 -8.98385101]\t -77165.35620565368\t -752.0353264428991\t -2.4494897480914255\n",
            "16 \t [9.84123371 0.01996946 8.30137879]\t -57243.15970842413\t -752.0353264428991\t -2.449489748092488\n",
            "17 \t [ 9.27301705  2.45876494 -8.4581152 ]\t -59406.83595474484\t -752.0353264428991\t -2.449489699102293\n",
            "18 \t [ 5.11932394 -4.93502407  1.09823596]\t -3979.022555380835\t -752.0353264428991\t -2.449489748092488\n",
            "\u001b[1m\u001b[92m19\u001b[0m\t \u001b[1m\u001b[92m[2.37278555 1.59645167 2.63078398]\u001b[0m\t \u001b[1m\u001b[92m-466.59460741635667\u001b[0m\t \u001b[1m\u001b[92m-466.59460741635667\u001b[0m\t \u001b[1m\u001b[92m-2.449488673696523\u001b[0m\n",
            "20 \t [-0.98950859 -6.03220762  9.56652338]\t -118127.58069071567\t -466.59460741635667\t -2.449489207240197\n",
            "21 \t [ 2.83494992  9.00556716 -2.19579176]\t -50799.330269349455\t -466.59460741635667\t -2.449489143881355\n",
            "22 \t [-1.7743353   3.12405448 -2.01749456]\t -990.0422942507847\t -466.59460741635667\t -2.4494897480924824\n",
            "23 \t [ 9.12453745  9.07129613 -6.29114433]\t -63132.85194056042\t -466.59460741635667\t -2.4494888109193957\n",
            "24 \t [9.4156169  7.15515211 2.28551389]\t -17392.700017122654\t -466.59460741635667\t -2.449489748092488\n",
            "25 \t [-4.45240261 -9.49992689 -7.44304263]\t -111857.06139021883\t -466.59460741635667\t -2.449489748092485\n",
            "26 \t [-9.98603708  8.51627689  1.57796403]\t -48233.00151558623\t -466.59460741635667\t -2.4494892865415396\n",
            "27 \t [ -9.24327367 -10.          -0.71955349]\t -88035.7675442837\t -466.59460741635667\t -2.4494886046555386\n",
            "28 \t [-1.66993146  9.27374794  9.55594893]\t -150492.53784518404\t -466.59460741635667\t -2.4494868959731955\n",
            "29 \t [ -8.21254036   7.76722142 -10.        ]\t -144161.17792886693\t -466.59460741635667\t -2.449344594851907\n",
            "30 \t [ 8.12863329 -9.29028702  9.00961512]\t -142542.27457319596\t -466.59460741635667\t -2.4494880314694063\n"
          ]
        }
      ]
    },
    {
      "cell_type": "code",
      "metadata": {
        "id": "SHWdp2giJTRm",
        "colab": {
          "base_uri": "https://localhost:8080/"
        },
        "outputId": "63429280-b83b-4ab1-9cc7-fdf0993d20e9"
      },
      "source": [
        "### EXACT GP CBM GRADIENTS\n",
        "\n",
        "np.random.seed(run_num_16)\n",
        "surrogate_exact_16 = dGaussianProcess(cov_func, optimize=opt)\n",
        "\n",
        "exact_16 = dGPGO(surrogate_exact_16, Acquisition_new(util_grad_exact), objfunc, param)\n",
        "exact_16.run(init_evals=n_init, max_iter=iters)\n"
      ],
      "execution_count": 49,
      "outputs": [
        {
          "output_type": "stream",
          "name": "stdout",
          "text": [
            "Evaluation \t Proposed point \t  Current eval. \t  Best eval. \t         Max AcqFunc.\n",
            "init\t [-5.53417842  0.46326683  1.01402913]\t -121.43529547027163\t -121.43529547027163\t    \n",
            "init\t [-9.087961   -2.78542329 -5.53838117]\t -13651.622350397936\t -121.43529547027163\t    \n",
            "init\t [ 3.77452324 -6.7253715  -8.59350266]\t -86575.28663542298\t -121.43529547027163\t    \n",
            "init\t [ 8.8202172   1.2736276  -8.44015321]\t -59934.59518842736\t -121.43529547027163\t    \n",
            "init\t [ 4.45281022 -6.83095653 -4.99437387]\t -25459.039011491368\t -121.43529547027163\t    \n",
            "1  \t [4.18505664 9.44091052 6.20078235]\t -74267.36337655598\t -121.43529547027163\t -2.449489748092488\n",
            "2  \t [ 5.46645324 -3.10791558  7.00820468]\t -31211.732976445848\t -121.43529547027163\t -2.449489748092488\n",
            "3  \t [-7.02365822  9.22395096  6.80716026]\t -83746.44219511922\t -121.43529547027163\t -2.449489748092488\n",
            "4  \t [-2.61755868 -8.2924165   4.84857415]\t -48472.3424987587\t -121.43529547027163\t -2.449489748092488\n",
            "5  \t [-3.40441603  9.0441433  -4.42822156]\t -58527.14818017682\t -121.43529547027163\t -2.449489748092488\n",
            "6  \t [-10. -10. -10.]\t -220621.0\t -121.43529547027163\t -2.4494897480914206\n",
            "7  \t [-7.92323047 -1.59321032  9.84617866]\t -115063.9149436472\t -121.43529547027163\t -2.449489748092488\n",
            "8  \t [10.          3.73456645  1.17809052]\t -724.1462781784543\t -121.43529547027163\t -2.4494897480924878\n",
            "9  \t [ 4.59095304  8.93102522 -9.48029099]\t -135562.14140581357\t -121.43529547027163\t -2.4494897480920654\n",
            "10 \t [ 9.98852149 -7.93099291 -5.611128  ]\t -41986.637450421564\t -121.43529547027163\t -2.449489748092488\n",
            "11 \t [-9.64442768 -5.12694362  2.33258491]\t -8623.697730678545\t -121.43529547027163\t -2.449489747041827\n",
            "12 \t [1.2886578  2.86982673 2.08529491]\t -563.0042893522548\t -121.43529547027163\t -2.4494897478955617\n",
            "13 \t [ 0.92740386  0.10886049 -7.53447757]\t -38599.265978728814\t -121.43529547027163\t -2.44948971683374\n",
            "14 \t [-9.22737901  7.91567599 -9.27617181]\t -117172.64391571193\t -121.43529547027163\t -2.4494897428021316\n",
            "15 \t [10.          2.71555168 10.        ]\t -116889.5560440174\t -121.43529547027163\t -2.449489747827918\n",
            "16 \t [-9.88490632  5.27720659 -1.24368567]\t -8734.974493523658\t -121.43529547027163\t -2.4494897445432717\n",
            "17 \t [ 4.07610394 -9.70946194  8.69119197]\t -145622.32190586557\t -121.43529547027163\t -2.4494892514958035\n",
            "18 \t [ 5.0665034   9.1123723  -1.44259043]\t -51934.72655193542\t -121.43529547027163\t -2.4494897425855533\n",
            "19 \t [-10.         -10.          -2.56756553]\t -89933.60283316579\t -121.43529547027163\t -2.449489463899911\n",
            "20 \t [10. 10. 10.]\t -180581.0\t -121.43529547027163\t -2.4494885132294244\n",
            "\u001b[1m\u001b[92m21\u001b[0m\t \u001b[1m\u001b[92m[ 6.24010379 -1.7460885  -0.2186442 ]\u001b[0m\t \u001b[1m\u001b[92m-37.674840270247984\u001b[0m\t \u001b[1m\u001b[92m-37.674840270247984\u001b[0m\t \u001b[1m\u001b[92m-2.4494896204187513\u001b[0m\n",
            "22 \t [ -1.7589456  -10.          -5.03687972]\t -92489.11351563153\t -37.674840270247984\t -2.4494893165351432\n",
            "23 \t [-8.20260538 -9.47655742  9.8984399 ]\t -197242.39770505737\t -37.674840270247984\t -2.4494897404495437\n",
            "24 \t [-1.20505385 -1.84227907  6.11677605]\t -17768.507987177476\t -37.674840270247984\t -2.4494849686134286\n",
            "25 \t [ 9.65754555 -7.537943    3.77797829]\t -25606.345952716118\t -37.674840270247984\t -2.4494890305774715\n",
            "26 \t [-0.94379526  5.37569831  8.92686758]\t -78054.6294477045\t -37.674840270247984\t -2.449489269631161\n",
            "27 \t [ 0.51650825 -2.90294934 -0.81000152]\t -587.3786266420021\t -37.674840270247984\t -2.4494884818227898\n",
            "28 \t [-4.28376877 -3.94940696 -9.80503189]\t -118060.2562430249\t -37.674840270247984\t -2.449485495351006\n",
            "29 \t [ 9.73926179  7.53902562 -5.43983034]\t -29682.614976328467\t -37.674840270247984\t -2.4494298737044913\n",
            "30 \t [-5.57498605  2.82518948 -6.23936862]\t -17861.450836681906\t -37.674840270247984\t -2.4494840048478115\n"
          ]
        }
      ]
    },
    {
      "cell_type": "code",
      "metadata": {
        "id": "yU2SflSsJTUs",
        "colab": {
          "base_uri": "https://localhost:8080/"
        },
        "outputId": "c517d2ad-88af-4857-856b-1463198138a2"
      },
      "source": [
        "### EXACT GP CBM GRADIENTS\n",
        "\n",
        "np.random.seed(run_num_17)\n",
        "surrogate_exact_17 = dGaussianProcess(cov_func, optimize=opt)\n",
        "\n",
        "exact_17 = dGPGO(surrogate_exact_17, Acquisition_new(util_grad_exact), objfunc, param)\n",
        "exact_17.run(init_evals=n_init, max_iter=iters)\n"
      ],
      "execution_count": 50,
      "outputs": [
        {
          "output_type": "stream",
          "name": "stdout",
          "text": [
            "Evaluation \t Proposed point \t  Current eval. \t  Best eval. \t         Max AcqFunc.\n",
            "init\t [-4.10669995  0.61173511 -6.16958426]\t -17181.1334683022\t -11774.913131399897\t    \n",
            "init\t [-8.64199284  5.7397092   3.12667044]\t -11774.913131399897\t -11774.913131399897\t    \n",
            "init\t [ 2.75041792  1.51205788 -9.21874168]\t -85144.34017448343\t -11774.913131399897\t    \n",
            "init\t [-2.84372791  8.91366374 -8.79910639]\t -116232.21251957516\t -11774.913131399897\t    \n",
            "init\t [ 7.28084207  7.54581052 -8.97612669]\t -93540.66819534874\t -11774.913131399897\t    \n",
            "1  \t [ 3.53524771 -7.6305547  -1.10007868]\t -25809.301647344466\t -11774.913131399897\t -2.449489748092488\n",
            "\u001b[1m\u001b[92m2\u001b[0m\t \u001b[1m\u001b[92m[9.06605384 1.70871417 1.66132937]\u001b[0m\t \u001b[1m\u001b[92m-129.46210636737467\u001b[0m\t \u001b[1m\u001b[92m-129.46210636737467\u001b[0m\t \u001b[1m\u001b[92m-2.449489748092488\u001b[0m\n",
            "3  \t [5.27601463 9.99566767 6.35850193]\t -90783.98305117982\t -129.46210636737467\t -2.449489748092488\n",
            "4  \t [-8.52512993 -8.03930931 -1.75006035]\t -38662.67579605237\t -129.46210636737467\t -2.449489748092488\n",
            "\u001b[1m\u001b[92m5\u001b[0m\t \u001b[1m\u001b[92m[0.15625771 0.16541122 1.58122263]\u001b[0m\t \u001b[1m\u001b[92m-70.86764058592647\u001b[0m\t \u001b[1m\u001b[92m-70.86764058592647\u001b[0m\t \u001b[1m\u001b[92m-2.449489748092488\u001b[0m\n",
            "6  \t [0.77793961 2.17142302 2.23437955]\t -332.9224565238143\t -70.86764058592647\t -2.449489748092488\n",
            "7  \t [-10. -10. -10.]\t -220621.0\t -70.86764058592647\t -2.449489748090904\n",
            "8  \t [-6.17878165 -8.81449665  8.90115876]\t -136204.46206638045\t -70.86764058592647\t -2.449489748092488\n",
            "9  \t [ 5.55941333  5.00707289 -2.04022336]\t -4028.949859384822\t -70.86764058592647\t -2.449489748092488\n",
            "10 \t [-1.82688988  9.5824662  -0.97673245]\t -68986.0458031931\t -70.86764058592647\t -2.4494897466617735\n",
            "11 \t [9.00876915 0.79791433 2.81059692]\t -858.903901979533\t -70.86764058592647\t -2.449489748092488\n",
            "12 \t [-3.773484    1.89286097  9.69074558]\t -103970.0539578572\t -70.86764058592647\t -2.4494897480924798\n",
            "13 \t [ 8.75512142 -9.27101119  6.32186279]\t -77166.27358383928\t -70.86764058592647\t -2.449489748092487\n",
            "14 \t [-9.68339094  4.15935608 -9.90703575]\t -114788.85760041163\t -70.86764058592647\t -2.449489747146787\n",
            "15 \t [-10.           0.15190126  -1.69327581]\t -416.3419143914449\t -70.86764058592647\t -2.44948973468598\n",
            "16 \t [10.         10.         -1.93677304]\t -72299.71732053917\t -70.86764058592647\t -2.449489344206794\n",
            "17 \t [-1.55256616 -9.93104392 -7.69587118]\t -128499.72883516757\t -70.86764058592647\t -2.449489748092488\n",
            "18 \t [ 4.56621381 -3.53584463  9.87174413]\t -118981.68168014543\t -70.86764058592647\t -2.4494897473038715\n",
            "19 \t [-2.57615379 -5.45347885  2.75398295]\t -8990.776175813582\t -70.86764058592647\t -2.449489714652317\n",
            "20 \t [-1.1865221   8.01280516  7.77819764]\t -71894.1507886631\t -70.86764058592647\t -2.449485604089531\n",
            "21 \t [ 6.32887019 -8.96357044 -7.95847401]\t -102877.00227230875\t -70.86764058592647\t -2.449489741316428\n",
            "22 \t [-7.52446658 -3.97036624 -8.68341857]\t -74987.6607887865\t -70.86764058592647\t -2.449451486149947\n",
            "23 \t [ 8.78330047 -3.87600677 -2.8555167 ]\t -2187.033919874974\t -70.86764058592647\t -2.4494872228249904\n",
            "24 \t [-9.5654217  -2.27480012  8.77324094]\t -74113.56590220306\t -70.86764058592647\t -2.4494893381045473\n",
            "25 \t [2.99642444 2.88744734 7.94994597]\t -46146.66049703832\t -70.86764058592647\t -2.449473968822739\n",
            "26 \t [ 9.90076057 -0.27061834 -9.57096652]\t -101261.40523007531\t -70.86764058592647\t -2.4494896833320654\n",
            "27 \t [-1.2392634  -4.08770274 -3.81527843]\t -5714.153119907607\t -70.86764058592647\t -2.449340299391585\n",
            "28 \t [-9.6822534   9.32361387 -5.45097465]\t -75020.12074192437\t -70.86764058592647\t -2.449485206736305\n",
            "29 \t [10.          5.68851431 10.        ]\t -119340.06485567369\t -70.86764058592647\t -2.4494897135102454\n",
            "30 \t [-4.88912255 -0.25750902  0.63686652]\t -88.54400053400701\t -70.86764058592647\t -2.449368039773042\n"
          ]
        }
      ]
    },
    {
      "cell_type": "code",
      "metadata": {
        "id": "es0KCh_0JTgY",
        "colab": {
          "base_uri": "https://localhost:8080/"
        },
        "outputId": "14c66d4b-81d0-401d-f033-64659f09f38f"
      },
      "source": [
        "### EXACT GP CBM GRADIENTS\n",
        "\n",
        "np.random.seed(run_num_18)\n",
        "surrogate_exact_18 = dGaussianProcess(cov_func, optimize=opt)\n",
        "\n",
        "exact_18 = dGPGO(surrogate_exact_18, Acquisition_new(util_grad_exact), objfunc, param)\n",
        "exact_18.run(init_evals=n_init, max_iter=iters)\n"
      ],
      "execution_count": 51,
      "outputs": [
        {
          "output_type": "stream",
          "name": "stdout",
          "text": [
            "Evaluation \t Proposed point \t  Current eval. \t  Best eval. \t         Max AcqFunc.\n",
            "init\t [3.00748483 0.10906747 7.57202942]\t -39395.322047969305\t -27664.83628190573\t    \n",
            "init\t [-6.36319549  7.04466137  5.00272572]\t -27913.961335277138\t -27664.83628190573\t    \n",
            "init\t [ 3.32203335  9.75790897 -4.86063155]\t -74244.15287271979\t -27664.83628190573\t    \n",
            "init\t [-9.43388149  2.71438231  6.94624775]\t -27664.83628190573\t -27664.83628190573\t    \n",
            "init\t [ 4.7234925  -9.58385776 -7.76793739]\t -114986.86534587143\t -27664.83628190573\t    \n",
            "\u001b[1m\u001b[92m1\u001b[0m\t \u001b[1m\u001b[92m[-3.60627759 -4.12128051 -3.96163645]\u001b[0m\t \u001b[1m\u001b[92m-6628.123996844119\u001b[0m\t \u001b[1m\u001b[92m-6628.123996844119\u001b[0m\t \u001b[1m\u001b[92m-2.449489748092488\u001b[0m\n",
            "2  \t [ 6.31975365  3.18761398 -5.14286127]\t -7833.7930593098545\t -6628.123996844119\t -2.449489748092488\n",
            "\u001b[1m\u001b[92m3\u001b[0m\t \u001b[1m\u001b[92m[ 8.98418483 -5.51984113  1.59973658]\u001b[0m\t \u001b[1m\u001b[92m-5801.508998849156\u001b[0m\t \u001b[1m\u001b[92m-5801.508998849156\u001b[0m\t \u001b[1m\u001b[92m-2.449489748092488\u001b[0m\n",
            "4  \t [-9.82664426 -9.19265651  7.01964259]\t -98908.14619333696\t -5801.508998849156\t -2.449489748092488\n",
            "5  \t [ 9.64278327 -8.01514669  8.76537572]\t -106741.78906814221\t -5801.508998849156\t -2.449489748092488\n",
            "6  \t [10. 10. 10.]\t -180581.0\t -5801.508998849156\t -2.449489748092488\n",
            "7  \t [4.76859313 6.53506599 3.93926051]\t -14822.442752768635\t -5801.508998849156\t -2.449489748092488\n",
            "8  \t [ 1.54007968 -2.49510305  7.62800693]\t -42627.25456372583\t -5801.508998849156\t -2.449489748092488\n",
            "9  \t [-10. -10. -10.]\t -220621.0\t -5801.508998849156\t -2.449489748092488\n",
            "10 \t [-7.8288346   4.63366488 -9.94486376]\t -117173.67246254408\t -5801.508998849156\t -2.449489748092488\n",
            "11 \t [ 1.25118837 -9.83776577  5.34103365]\t -87391.17353637467\t -5801.508998849156\t -2.449489745174494\n",
            "12 \t [-4.74409325  9.6660462  -2.60459944]\t -73506.67877916363\t -5801.508998849156\t -2.4494897480380167\n",
            "13 \t [-10.         -10.          -1.27387811]\t -88847.33226362774\t -5801.508998849156\t -2.449489748048506\n",
            "\u001b[1m\u001b[92m14\u001b[0m\t \u001b[1m\u001b[92m[-9.51759739  2.95862134 -1.42089742]\u001b[0m\t \u001b[1m\u001b[92m-1574.759184067274\u001b[0m\t \u001b[1m\u001b[92m-1574.759184067274\u001b[0m\t \u001b[1m\u001b[92m-2.449489748023508\u001b[0m\n",
            "15 \t [-1.02841292 10.         10.        ]\t -189128.96005988002\t -1574.759184067274\t -2.449489747650432\n",
            "16 \t [-0.70785873  3.26218305 -6.39763047]\t -19502.71653107923\t -1574.759184067274\t -2.449489711796699\n",
            "\u001b[1m\u001b[92m17\u001b[0m\t \u001b[1m\u001b[92m[-3.11151369  1.43288172  0.3657291 ]\u001b[0m\t \u001b[1m\u001b[92m-125.17245031394503\u001b[0m\t \u001b[1m\u001b[92m-125.17245031394503\u001b[0m\t \u001b[1m\u001b[92m-2.4494896244878506\u001b[0m\n",
            "18 \t [10.          1.09409759  2.34165268]\t -489.1027843307611\t -125.17245031394503\t -2.4494893303566276\n",
            "19 \t [9.92061934 2.26093077 8.72274783]\t -67500.34010287443\t -125.17245031394503\t -2.449489524760907\n",
            "20 \t [ 9.43419314  8.84848633 -1.39422812]\t -43455.46173412186\t -125.17245031394503\t -2.4494892725900415\n",
            "21 \t [-6.5970982  -2.98926167  3.14083934]\t -2803.5874300821724\t -125.17245031394503\t -2.4494895583016203\n",
            "22 \t [ 2.02967376 -5.21873814 -0.60470756]\t -5607.34177524741\t -125.17245031394503\t -2.4494889035827687\n",
            "23 \t [ -4.11552733  -6.0687024  -10.        ]\t -139516.6346191412\t -125.17245031394503\t -2.4494829940196454\n",
            "24 \t [ 6.21006004 -2.47051876 -9.03274795]\t -82420.41724652423\t -125.17245031394503\t -2.449489434720321\n",
            "25 \t [ 1.72678464 -2.19871603 -7.31861314]\t -35981.17408295852\t -125.17245031394503\t -2.449489748092488\n",
            "26 \t [-10.          -3.46850926  -2.13702243]\t -2917.7681096240835\t -125.17245031394503\t -2.4494683959018864\n",
            "\u001b[1m\u001b[92m27\u001b[0m\t \u001b[1m\u001b[92m[3.05510907 1.0092523  0.73658409]\u001b[0m\t \u001b[1m\u001b[92m-6.3130950253689395\u001b[0m\t \u001b[1m\u001b[92m-6.3130950253689395\u001b[0m\t \u001b[1m\u001b[92m-2.4494835467618015\u001b[0m\n",
            "28 \t [-4.57197013 -5.97114446  9.71063395]\t -125112.34320347085\t -6.3130950253689395\t -2.449482248785085\n",
            "29 \t [-2.56008251  3.12970457  8.55153604]\t -62450.665055280464\t -6.3130950253689395\t -2.4494563339298963\n",
            "30 \t [-10.          -1.4254068   -8.33131918]\t -59524.370140115585\t -6.3130950253689395\t -2.4494727935874896\n"
          ]
        }
      ]
    },
    {
      "cell_type": "code",
      "metadata": {
        "id": "Pput2LHPIwBM",
        "colab": {
          "base_uri": "https://localhost:8080/"
        },
        "outputId": "62dc50a4-bbbd-42fc-92cb-7b75883caebb"
      },
      "source": [
        "### EXACT GP CBM GRADIENTS\n",
        "\n",
        "np.random.seed(run_num_19)\n",
        "surrogate_exact_19 = dGaussianProcess(cov_func, optimize=opt)\n",
        "\n",
        "exact_19 = dGPGO(surrogate_exact_19, Acquisition_new(util_grad_exact), objfunc, param)\n",
        "exact_19.run(init_evals=n_init, max_iter=iters)\n"
      ],
      "execution_count": 52,
      "outputs": [
        {
          "output_type": "stream",
          "name": "stdout",
          "text": [
            "Evaluation \t Proposed point \t  Current eval. \t  Best eval. \t         Max AcqFunc.\n",
            "init\t [-8.04932797  5.22499433 -5.06124054]\t -14282.07020620917\t -7826.389573301183\t    \n",
            "init\t [-7.23736625 -3.37106873 -8.3400087 ]\t -62767.56440733103\t -7826.389573301183\t    \n",
            "init\t [3.43954163 6.13187596 9.65483829]\t -107829.21541670273\t -7826.389573301183\t    \n",
            "init\t [ 2.7132147  -5.68153488  0.98054864]\t -7826.389573301183\t -7826.389573301183\t    \n",
            "init\t [ 0.91119916 -5.31847854 -7.72548314]\t -52835.14449570301\t -7826.389573301183\t    \n",
            "\u001b[1m\u001b[92m1\u001b[0m\t \u001b[1m\u001b[92m[-8.70426449  3.79716958  1.04335667]\u001b[0m\t \u001b[1m\u001b[92m-2920.737921781948\u001b[0m\t \u001b[1m\u001b[92m-2920.737921781948\u001b[0m\t \u001b[1m\u001b[92m-2.449489748092488\u001b[0m\n",
            "2  \t [-1.18844207 10.         -1.49737069]\t -81049.63861560945\t -2920.737921781948\t -2.449489748092488\n",
            "3  \t [-5.92264612  1.94070459  8.81541711]\t -71080.60419246902\t -2920.737921781948\t -2.449489748092488\n",
            "4  \t [ 9.93826046 -7.57727549 -3.12538868]\t -24289.940560273273\t -2920.737921781948\t -2.449489748092488\n",
            "5  \t [ 9.17884072e+00  3.81026586e-03 -4.90936423e+00]\t -7205.086830676541\t -2920.737921781948\t -2.449489748092488\n",
            "6  \t [-9.92237825 -6.32468627  8.64527163]\t -89119.20822181233\t -2920.737921781948\t -2.4494897480924873\n",
            "7  \t [8.88477717 1.65383617 9.09628062]\t -80607.08552314134\t -2920.737921781948\t -2.449489748092488\n",
            "8  \t [-4.19864403 -9.87315104  2.37608687]\t -80697.77845602651\t -2920.737921781948\t -2.4494897480861866\n",
            "9  \t [-0.88364342 -0.53896298  9.12024958]\t -83571.53151095378\t -2920.737921781948\t -2.449489748092488\n",
            "10 \t [ 3.35389857 -9.96203876  9.07194342]\t -167573.4372796627\t -2920.737921781948\t -2.449489748092486\n",
            "11 \t [ 1.64498819  5.37434199 -7.63204452]\t -43344.006456290146\t -2920.737921781948\t -2.449489748092488\n",
            "12 \t [-4.44606735  0.16196254 -7.8173877 ]\t -44766.89761417516\t -2920.737921781948\t -2.449489748092488\n",
            "13 \t [10. 10. 10.]\t -180581.0\t -2920.737921781948\t -2.4494897351736236\n",
            "14 \t [-10. -10. -10.]\t -220621.0\t -2920.737921781948\t -2.449489748092488\n",
            "15 \t [6.99038954 9.12191465 1.10626574]\t -51004.265095726165\t -2920.737921781948\t -2.449489748089713\n",
            "16 \t [-4.02103307  8.26866548 -9.05286829]\t -112325.08049172352\t -2920.737921781948\t -2.449489748092488\n",
            "17 \t [2.4601221  4.45109973 2.46207615]\t -2941.129004406835\t -2920.737921781948\t -2.449489748092488\n",
            "18 \t [1.9799272  3.81156677 6.02897636]\t -15702.85164015473\t -2920.737921781948\t -2.449489748092488\n",
            "19 \t [-2.80170194 -9.9231887  -5.5088967 ]\t -94768.58788903577\t -2920.737921781948\t -2.449489748092488\n",
            "\u001b[1m\u001b[92m20\u001b[0m\t \u001b[1m\u001b[92m[-3.84293802 -1.56623446 -0.55735   ]\u001b[0m\t \u001b[1m\u001b[92m-190.903840731915\u001b[0m\t \u001b[1m\u001b[92m-190.903840731915\u001b[0m\t \u001b[1m\u001b[92m-2.449489748092488\u001b[0m\n",
            "21 \t [ 8.79912014 -4.92732913  3.85681935]\t -6829.801865446695\t -190.903840731915\t -2.449489316761669\n",
            "22 \t [-9.55935756 -3.57549329 -1.082564  ]\t -2684.5226051701325\t -190.903840731915\t -2.4494888543828277\n",
            "23 \t [-10.         -10.          -2.38159187]\t -89687.69384890905\t -190.903840731915\t -2.44948912366074\n",
            "24 \t [ 6.35104702 10.         -6.47143963]\t -91349.6652616709\t -190.903840731915\t -2.44948587065823\n",
            "25 \t [ 9.46074003 -6.4828191  -9.6851263 ]\t -124208.17394840925\t -190.903840731915\t -2.4494870509781137\n",
            "\u001b[1m\u001b[92m26\u001b[0m\t \u001b[1m\u001b[92m[10.          2.04185657  1.55094888]\u001b[0m\t \u001b[1m\u001b[92m-109.52467083270713\u001b[0m\t \u001b[1m\u001b[92m-109.52467083270713\u001b[0m\t \u001b[1m\u001b[92m-2.4494894539028187\u001b[0m\n",
            "27 \t [ 2.60812208e+00  1.64443627e-03 -3.71505682e+00]\t -2301.743845466959\t -109.52467083270713\t -2.4494841330545043\n",
            "28 \t [-8.21009289  9.30892026  9.76151762]\t -164556.94048925236\t -109.52467083270713\t -2.4494897453941724\n",
            "29 \t [-4.50622912 -3.55689627  4.47340072]\t -7505.026283633883\t -109.52467083270713\t -2.4494336605159557\n",
            "30 \t [-2.18978247  3.43121621 -0.903067  ]\t -1344.6077687882484\t -109.52467083270713\t -2.4493325649405513\n"
          ]
        }
      ]
    },
    {
      "cell_type": "code",
      "metadata": {
        "id": "aw3xvSryIwDi",
        "colab": {
          "base_uri": "https://localhost:8080/"
        },
        "outputId": "472093e4-e259-43f6-a975-d262733eb7e5"
      },
      "source": [
        "### EXACT GP CBM GRADIENTS\n",
        "\n",
        "np.random.seed(run_num_20)\n",
        "surrogate_exact_20 = dGaussianProcess(cov_func, optimize=opt)\n",
        "\n",
        "exact_20 = dGPGO(surrogate_exact_20, Acquisition_new(util_grad_exact), objfunc, param)\n",
        "exact_20.run(init_evals=n_init, max_iter=iters)\n"
      ],
      "execution_count": 53,
      "outputs": [
        {
          "output_type": "stream",
          "name": "stdout",
          "text": [
            "Evaluation \t Proposed point \t  Current eval. \t  Best eval. \t         Max AcqFunc.\n",
            "init\t [1.76261602 7.95427456 7.83061459]\t -70596.27231718504\t -1177.4786310520467\t    \n",
            "init\t [ 6.31674955 -9.28220829  3.83515164]\t -59634.45116383437\t -1177.4786310520467\t    \n",
            "init\t [-2.42638116  0.37021891  3.15902931]\t -1177.4786310520467\t -1177.4786310520467\t    \n",
            "init\t [-6.12299564 -4.55367196  4.37211867]\t -10072.821243906226\t -1177.4786310520467\t    \n",
            "init\t [5.66007219 7.0065528  5.50489788]\t -25762.190938183892\t -1177.4786310520467\t    \n",
            "1  \t [ 3.58822235  3.01571828 -4.62409523]\t -5172.971057172382\t -1177.4786310520467\t -2.449489748092488\n",
            "2  \t [ 6.90281047 -9.84449703 -8.45927451]\t -140110.25172511325\t -1177.4786310520467\t -2.449489748092488\n",
            "3  \t [-2.02505955 -3.84087805 -8.90073734]\t -81008.7373034749\t -1177.4786310520467\t -2.449489748092488\n",
            "4  \t [-9.03422809  7.69291444  7.37966897]\t -63300.39318700283\t -1177.4786310520467\t -2.449489748092488\n",
            "5  \t [-10. -10. -10.]\t -220621.0\t -1177.4786310520467\t -2.449489748092488\n",
            "6  \t [-9.45784592  0.99639036 -4.976674  ]\t -7439.13499767879\t -1177.4786310520467\t -2.449489748092488\n",
            "7  \t [ 3.4937907  -2.5103687   9.37110948]\t -95379.93666021542\t -1177.4786310520467\t -2.4494897480924736\n",
            "8  \t [-2.46871542  9.76065736 -3.02050331]\t -74733.47554640117\t -1177.4786310520467\t -2.4494897480924873\n",
            "9  \t [ 9.64468651  7.21321542 -9.95696397]\t -127425.73651668694\t -1177.4786310520467\t -2.4494897480924855\n",
            "10 \t [-10.         -10.          -3.56134318]\t -92073.33199297704\t -1177.4786310520467\t -2.449489748092488\n",
            "11 \t [-0.79453519 -8.2563778  -0.17104248]\t -37819.952258434205\t -1177.4786310520467\t -2.4494897479126974\n",
            "\u001b[1m\u001b[92m12\u001b[0m\t \u001b[1m\u001b[92m[ 5.00126639 -3.3363309  -0.45648549]\u001b[0m\t \u001b[1m\u001b[92m-654.1473571166752\u001b[0m\t \u001b[1m\u001b[92m-654.1473571166752\u001b[0m\t \u001b[1m\u001b[92m-2.4494897162601856\u001b[0m\n",
            "13 \t [-0.44089875 -8.58512642  7.64268668]\t -90901.46784126188\t -654.1473571166752\t -2.449489699314387\n",
            "14 \t [ 9.59685045  8.83742447 -0.69841768]\t -43244.382355533104\t -654.1473571166752\t -2.4494897435155307\n",
            "15 \t [10. 10. 10.]\t -180581.0\t -654.1473571166752\t -2.449489262226563\n",
            "16 \t [-6.03894497 -6.83584269  9.7975694 ]\t -138437.49114952623\t -654.1473571166752\t -2.449489748092488\n",
            "17 \t [10.         -0.76456063  4.37113751]\t -4794.88057143477\t -654.1473571166752\t -2.4494897476770006\n",
            "18 \t [-7.79686959  9.40311462 -9.27805181]\t -147730.60879192402\t -654.1473571166752\t -2.4494897480171063\n",
            "19 \t [0.44637533 5.1430217  3.23060613]\t -6245.710366391442\t -654.1473571166752\t -2.449489748092488\n",
            "20 \t [-3.22838833  1.42662881 -2.89623583]\t -831.2710746501587\t -654.1473571166752\t -2.4494856097944613\n",
            "21 \t [ 9.15127116 -3.98373113 -5.8374017 ]\t -16697.014450665974\t -654.1473571166752\t -2.449483468287069\n",
            "22 \t [-3.71538286 -9.98376845 -7.87072314]\t -136266.19319030823\t -654.1473571166752\t -2.4494229042105986\n",
            "23 \t [-5.04804204  2.40957639  9.89761502]\t -112937.01528269825\t -654.1473571166752\t -2.4494893386209604\n",
            "24 \t [-8.33330236  5.91209565  0.92689026]\t -12382.574104556134\t -654.1473571166752\t -2.449485140671993\n",
            "25 \t [ 4.6988903   8.4836705  -4.89698974]\t -43468.20654200078\t -654.1473571166752\t -2.449489748092462\n",
            "26 \t [10.         3.2279321 10.       ]\t -116473.71191623624\t -654.1473571166752\t -2.44947967199877\n",
            "27 \t [-2.40818295  8.39287191 -9.70420994]\t -138221.52245434682\t -654.1473571166752\t -2.449489748092488\n",
            "28 \t [10.          2.50778032 -3.68634594]\t -1920.1939358872817\t -654.1473571166752\t -2.4494871474299607\n",
            "\u001b[1m\u001b[92m29\u001b[0m\t \u001b[1m\u001b[92m[-10.          -0.17390975   2.17171281]\u001b[0m\t \u001b[1m\u001b[92m-600.2861870068676\u001b[0m\t \u001b[1m\u001b[92m-600.2861870068676\u001b[0m\t \u001b[1m\u001b[92m-2.449466643713565\u001b[0m\n",
            "30 \t [ 2.49727051 -6.87644528 -4.65803102]\t -24538.89058200829\t -600.2861870068676\t -2.4494897378017773\n"
          ]
        }
      ]
    },
    {
      "cell_type": "code",
      "metadata": {
        "id": "qNqAB3vBTPqb",
        "colab": {
          "base_uri": "https://localhost:8080/"
        },
        "outputId": "ca3e8c20-bdb6-4cc8-f4fa-8dad794f3205"
      },
      "source": [
        "end_exact = time.time()\n",
        "end_exact\n",
        "\n",
        "time_exact = end_exact - start_exact\n",
        "time_exact"
      ],
      "execution_count": 54,
      "outputs": [
        {
          "output_type": "execute_result",
          "data": {
            "text/plain": [
              "1692.3833870887756"
            ]
          },
          "metadata": {},
          "execution_count": 54
        }
      ]
    },
    {
      "cell_type": "code",
      "metadata": {
        "id": "JPQzjdBZQxfg",
        "colab": {
          "base_uri": "https://localhost:8080/"
        },
        "outputId": "076599bb-2712-401f-9786-8009d47a6134"
      },
      "source": [
        "### Simple regret minimization: run number = 1\n",
        "\n",
        "approx_output_1 = np.append(np.min(approx_1.GP.y[0:n_init]),approx_1.GP.y[n_init:(n_init+iters)]) \n",
        "exact_output_1 = np.append(np.min(exact_1.GP.y[0:n_init]),exact_1.GP.y[n_init:(n_init+iters)]) \n",
        "\n",
        "regret_approx_1 = np.log(-approx_output_1 + y_global_orig)\n",
        "regret_exact_1 = np.log(-exact_output_1 + y_global_orig)\n",
        "\n",
        "simple_regret_approx_1 = min_max_array(regret_approx_1)\n",
        "simple_regret_exact_1 = min_max_array(regret_exact_1)\n",
        "\n",
        "min_simple_regret_approx_1 = min(simple_regret_approx_1)\n",
        "min_simple_regret_exact_1 = min(simple_regret_exact_1)\n",
        "\n",
        "min_simple_regret_approx_1, min_simple_regret_exact_1"
      ],
      "execution_count": 55,
      "outputs": [
        {
          "output_type": "execute_result",
          "data": {
            "text/plain": [
              "(4.466862225504794, 5.944782584925368)"
            ]
          },
          "metadata": {},
          "execution_count": 55
        }
      ]
    },
    {
      "cell_type": "code",
      "metadata": {
        "id": "94yBw5tqQxfk",
        "colab": {
          "base_uri": "https://localhost:8080/"
        },
        "outputId": "3342d756-0bfe-4988-ffc3-71aa2926a5b0"
      },
      "source": [
        "### Simple regret minimization: run number = 2\n",
        "\n",
        "approx_output_2 = np.append(np.min(approx_2.GP.y[0:n_init]),approx_2.GP.y[n_init:(n_init+iters)]) \n",
        "exact_output_2 = np.append(np.min(exact_2.GP.y[0:n_init]),exact_2.GP.y[n_init:(n_init+iters)]) \n",
        "\n",
        "regret_approx_2 = np.log(-approx_output_2 + y_global_orig)\n",
        "regret_exact_2 = np.log(-exact_output_2 + y_global_orig)\n",
        "\n",
        "simple_regret_approx_2 = min_max_array(regret_approx_2)\n",
        "simple_regret_exact_2 = min_max_array(regret_exact_2)\n",
        "\n",
        "min_simple_regret_approx_2 = min(simple_regret_approx_2)\n",
        "min_simple_regret_exact_2 = min(simple_regret_exact_2)\n",
        "\n",
        "min_simple_regret_approx_2, min_simple_regret_exact_2"
      ],
      "execution_count": 56,
      "outputs": [
        {
          "output_type": "execute_result",
          "data": {
            "text/plain": [
              "(4.540315754285539, 4.181603842715696)"
            ]
          },
          "metadata": {},
          "execution_count": 56
        }
      ]
    },
    {
      "cell_type": "code",
      "metadata": {
        "id": "Bu6SBWALQxfl",
        "colab": {
          "base_uri": "https://localhost:8080/"
        },
        "outputId": "ee140228-4411-4ee9-b71d-e7a21a386099"
      },
      "source": [
        "### Simple regret minimization: run number = 3\n",
        "\n",
        "approx_output_3 = np.append(np.min(approx_3.GP.y[0:n_init]),approx_3.GP.y[n_init:(n_init+iters)]) \n",
        "exact_output_3 = np.append(np.min(exact_3.GP.y[0:n_init]),exact_3.GP.y[n_init:(n_init+iters)]) \n",
        "\n",
        "regret_approx_3 = np.log(-approx_output_3 + y_global_orig)\n",
        "regret_exact_3 = np.log(-exact_output_3 + y_global_orig)\n",
        "\n",
        "simple_regret_approx_3 = min_max_array(regret_approx_3)\n",
        "simple_regret_exact_3 = min_max_array(regret_exact_3)\n",
        "\n",
        "min_simple_regret_approx_3 = min(simple_regret_approx_3)\n",
        "min_simple_regret_exact_3 = min(simple_regret_exact_3)\n",
        "\n",
        "min_simple_regret_approx_3, min_simple_regret_exact_3"
      ],
      "execution_count": 57,
      "outputs": [
        {
          "output_type": "execute_result",
          "data": {
            "text/plain": [
              "(4.248464572658232, 5.482336608260984)"
            ]
          },
          "metadata": {},
          "execution_count": 57
        }
      ]
    },
    {
      "cell_type": "code",
      "metadata": {
        "id": "AZm0jgxkQxfm",
        "colab": {
          "base_uri": "https://localhost:8080/"
        },
        "outputId": "d81a836b-5308-45b6-a1d5-780091ea559b"
      },
      "source": [
        "### Simple regret minimization: run number = 4\n",
        "\n",
        "approx_output_4 = np.append(np.min(approx_4.GP.y[0:n_init]),approx_4.GP.y[n_init:(n_init+iters)]) \n",
        "exact_output_4 = np.append(np.min(exact_4.GP.y[0:n_init]),exact_4.GP.y[n_init:(n_init+iters)]) \n",
        "\n",
        "regret_approx_4 = np.log(-approx_output_4 + y_global_orig)\n",
        "regret_exact_4 = np.log(-exact_output_4 + y_global_orig)\n",
        "\n",
        "simple_regret_approx_4 = min_max_array(regret_approx_4)\n",
        "simple_regret_exact_4 = min_max_array(regret_exact_4)\n",
        "\n",
        "min_simple_regret_approx_4 = min(simple_regret_approx_4)\n",
        "min_simple_regret_exact_4 = min(simple_regret_exact_4)\n",
        "\n",
        "min_simple_regret_approx_4, min_simple_regret_exact_4"
      ],
      "execution_count": 58,
      "outputs": [
        {
          "output_type": "execute_result",
          "data": {
            "text/plain": [
              "(6.0440299404713365, 5.6141692614693275)"
            ]
          },
          "metadata": {},
          "execution_count": 58
        }
      ]
    },
    {
      "cell_type": "code",
      "metadata": {
        "id": "NONPm8JIQxfn",
        "colab": {
          "base_uri": "https://localhost:8080/"
        },
        "outputId": "ab486a70-fe37-4ab9-95f6-f8ffbdae1e9d"
      },
      "source": [
        "### Simple regret minimization: run number = 5\n",
        "\n",
        "approx_output_5 = np.append(np.min(approx_5.GP.y[0:n_init]),approx_5.GP.y[n_init:(n_init+iters)]) \n",
        "exact_output_5 = np.append(np.min(exact_5.GP.y[0:n_init]),exact_5.GP.y[n_init:(n_init+iters)]) \n",
        "\n",
        "regret_approx_5 = np.log(-approx_output_5 + y_global_orig)\n",
        "regret_exact_5 = np.log(-exact_output_5 + y_global_orig)\n",
        "\n",
        "simple_regret_approx_5 = min_max_array(regret_approx_5)\n",
        "simple_regret_exact_5 = min_max_array(regret_exact_5)\n",
        "\n",
        "min_simple_regret_approx_5 = min(simple_regret_approx_5)\n",
        "min_simple_regret_exact_5 = min(simple_regret_exact_5)\n",
        "\n",
        "min_simple_regret_approx_5, min_simple_regret_exact_5"
      ],
      "execution_count": 59,
      "outputs": [
        {
          "output_type": "execute_result",
          "data": {
            "text/plain": [
              "(6.495297207424307, 6.34963595602277)"
            ]
          },
          "metadata": {},
          "execution_count": 59
        }
      ]
    },
    {
      "cell_type": "code",
      "metadata": {
        "id": "CJv3lPuSQxfp",
        "colab": {
          "base_uri": "https://localhost:8080/"
        },
        "outputId": "b0fb852d-9a0e-4a35-c22d-29def86b9f7d"
      },
      "source": [
        "### Simple regret minimization: run number = 6\n",
        "\n",
        "approx_output_6 = np.append(np.min(approx_6.GP.y[0:n_init]),approx_6.GP.y[n_init:(n_init+iters)]) \n",
        "exact_output_6 = np.append(np.min(exact_6.GP.y[0:n_init]),exact_6.GP.y[n_init:(n_init+iters)]) \n",
        "\n",
        "regret_approx_6 = np.log(-approx_output_6 + y_global_orig)\n",
        "regret_exact_6 = np.log(-exact_output_6 + y_global_orig)\n",
        "\n",
        "simple_regret_approx_6 = min_max_array(regret_approx_6)\n",
        "simple_regret_exact_6 = min_max_array(regret_exact_6)\n",
        "\n",
        "min_simple_regret_approx_6 = min(simple_regret_approx_6)\n",
        "min_simple_regret_exact_6 = min(simple_regret_exact_6)\n",
        "\n",
        "min_simple_regret_approx_6, min_simple_regret_exact_6"
      ],
      "execution_count": 60,
      "outputs": [
        {
          "output_type": "execute_result",
          "data": {
            "text/plain": [
              "(4.6339848325490784, 6.209023882564966)"
            ]
          },
          "metadata": {},
          "execution_count": 60
        }
      ]
    },
    {
      "cell_type": "code",
      "metadata": {
        "id": "quR2ZyApQxfq",
        "colab": {
          "base_uri": "https://localhost:8080/"
        },
        "outputId": "d3863698-b6df-4650-dc26-2fd29bd8e2d5"
      },
      "source": [
        "### Simple regret minimization: run number = 7\n",
        "\n",
        "approx_output_7 = np.append(np.min(approx_7.GP.y[0:n_init]),approx_7.GP.y[n_init:(n_init+iters)]) \n",
        "exact_output_7 = np.append(np.min(exact_7.GP.y[0:n_init]),exact_7.GP.y[n_init:(n_init+iters)]) \n",
        "\n",
        "regret_approx_7 = np.log(-approx_output_7 + y_global_orig)\n",
        "regret_exact_7 = np.log(-exact_output_7 + y_global_orig)\n",
        "\n",
        "simple_regret_approx_7 = min_max_array(regret_approx_7)\n",
        "simple_regret_exact_7 = min_max_array(regret_exact_7)\n",
        "\n",
        "min_simple_regret_approx_7 = min(simple_regret_approx_7)\n",
        "min_simple_regret_exact_7 = min(simple_regret_exact_7)\n",
        "\n",
        "min_simple_regret_approx_7, min_simple_regret_exact_7"
      ],
      "execution_count": 61,
      "outputs": [
        {
          "output_type": "execute_result",
          "data": {
            "text/plain": [
              "(1.9217017706965507, 4.5736133253332545)"
            ]
          },
          "metadata": {},
          "execution_count": 61
        }
      ]
    },
    {
      "cell_type": "code",
      "metadata": {
        "id": "99wY5nK6Qxfr",
        "colab": {
          "base_uri": "https://localhost:8080/"
        },
        "outputId": "e216c771-6b35-458b-fa95-b60dbca1f82d"
      },
      "source": [
        "### Simple regret minimization: run number = 8\n",
        "\n",
        "approx_output_8 = np.append(np.min(approx_8.GP.y[0:n_init]),approx_8.GP.y[n_init:(n_init+iters)]) \n",
        "exact_output_8 = np.append(np.min(exact_8.GP.y[0:n_init]),exact_8.GP.y[n_init:(n_init+iters)]) \n",
        "\n",
        "regret_approx_8 = np.log(-approx_output_8 + y_global_orig)\n",
        "regret_exact_8 = np.log(-exact_output_8 + y_global_orig)\n",
        "\n",
        "simple_regret_approx_8 = min_max_array(regret_approx_8)\n",
        "simple_regret_exact_8 = min_max_array(regret_exact_8)\n",
        "\n",
        "min_simple_regret_approx_8 = min(simple_regret_approx_8)\n",
        "min_simple_regret_exact_8 = min(simple_regret_exact_8)\n",
        "\n",
        "min_simple_regret_approx_8, min_simple_regret_exact_8"
      ],
      "execution_count": 62,
      "outputs": [
        {
          "output_type": "execute_result",
          "data": {
            "text/plain": [
              "(5.359347621183079, 6.076397917701601)"
            ]
          },
          "metadata": {},
          "execution_count": 62
        }
      ]
    },
    {
      "cell_type": "code",
      "metadata": {
        "id": "qt0P5t9qQxfs",
        "colab": {
          "base_uri": "https://localhost:8080/"
        },
        "outputId": "11985009-c337-472f-b1d6-699113cd9f28"
      },
      "source": [
        "### Simple regret minimization: run number = 9\n",
        "\n",
        "approx_output_9 = np.append(np.min(approx_9.GP.y[0:n_init]),approx_9.GP.y[n_init:(n_init+iters)]) \n",
        "exact_output_9 = np.append(np.min(exact_9.GP.y[0:n_init]),exact_9.GP.y[n_init:(n_init+iters)]) \n",
        "\n",
        "regret_approx_9 = np.log(-approx_output_9 + y_global_orig)\n",
        "regret_exact_9 = np.log(-exact_output_9 + y_global_orig)\n",
        "\n",
        "simple_regret_approx_9 = min_max_array(regret_approx_9)\n",
        "simple_regret_exact_9 = min_max_array(regret_exact_9)\n",
        "\n",
        "min_simple_regret_approx_9 = min(simple_regret_approx_9)\n",
        "min_simple_regret_exact_9 = min(simple_regret_exact_9)\n",
        "\n",
        "min_simple_regret_approx_9, min_simple_regret_exact_9"
      ],
      "execution_count": 63,
      "outputs": [
        {
          "output_type": "execute_result",
          "data": {
            "text/plain": [
              "(4.523657512638506, 4.676833707535184)"
            ]
          },
          "metadata": {},
          "execution_count": 63
        }
      ]
    },
    {
      "cell_type": "code",
      "metadata": {
        "id": "vx8to9stQxft",
        "colab": {
          "base_uri": "https://localhost:8080/"
        },
        "outputId": "f7b1ab7a-febe-488e-98ec-e952586a58fc"
      },
      "source": [
        "### Simple regret minimization: run number = 10\n",
        "\n",
        "approx_output_10 = np.append(np.min(approx_10.GP.y[0:n_init]),approx_10.GP.y[n_init:(n_init+iters)]) \n",
        "exact_output_10 = np.append(np.min(exact_10.GP.y[0:n_init]),exact_10.GP.y[n_init:(n_init+iters)]) \n",
        "\n",
        "regret_approx_10 = np.log(-approx_output_10 + y_global_orig)\n",
        "regret_exact_10 = np.log(-exact_output_10 + y_global_orig)\n",
        "\n",
        "simple_regret_approx_10 = min_max_array(regret_approx_10)\n",
        "simple_regret_exact_10 = min_max_array(regret_exact_10)\n",
        "\n",
        "min_simple_regret_approx_10 = min(simple_regret_approx_10)\n",
        "min_simple_regret_exact_10 = min(simple_regret_exact_10)\n",
        "\n",
        "min_simple_regret_approx_10, min_simple_regret_exact_10"
      ],
      "execution_count": 64,
      "outputs": [
        {
          "output_type": "execute_result",
          "data": {
            "text/plain": [
              "(4.931719076120848, 5.132712573064465)"
            ]
          },
          "metadata": {},
          "execution_count": 64
        }
      ]
    },
    {
      "cell_type": "code",
      "metadata": {
        "id": "d-FGzWyHQxfu",
        "colab": {
          "base_uri": "https://localhost:8080/"
        },
        "outputId": "392c4937-3411-4140-aa29-1c8bb4967fbe"
      },
      "source": [
        "### Simple regret minimization: run number = 11\n",
        "\n",
        "approx_output_11 = np.append(np.min(approx_11.GP.y[0:n_init]),approx_11.GP.y[n_init:(n_init+iters)]) \n",
        "exact_output_11 = np.append(np.min(exact_11.GP.y[0:n_init]),exact_11.GP.y[n_init:(n_init+iters)]) \n",
        "\n",
        "regret_approx_11 = np.log(-approx_output_11 + y_global_orig)\n",
        "regret_exact_11 = np.log(-exact_output_11 + y_global_orig)\n",
        "\n",
        "simple_regret_approx_11 = min_max_array(regret_approx_11)\n",
        "simple_regret_exact_11 = min_max_array(regret_exact_11)\n",
        "\n",
        "min_simple_regret_approx_11 = min(simple_regret_approx_11)\n",
        "min_simple_regret_exact_11 = min(simple_regret_exact_11)\n",
        "\n",
        "min_simple_regret_approx_11, min_simple_regret_exact_11"
      ],
      "execution_count": 65,
      "outputs": [
        {
          "output_type": "execute_result",
          "data": {
            "text/plain": [
              "(3.6091683152365306, 4.38452614988384)"
            ]
          },
          "metadata": {},
          "execution_count": 65
        }
      ]
    },
    {
      "cell_type": "code",
      "metadata": {
        "id": "SvtsssyjQxfv",
        "colab": {
          "base_uri": "https://localhost:8080/"
        },
        "outputId": "9d03e4c8-1ccd-411c-956b-64ae99df449b"
      },
      "source": [
        "### Simple regret minimization: run number = 12\n",
        "\n",
        "approx_output_12 = np.append(np.min(approx_12.GP.y[0:n_init]),approx_12.GP.y[n_init:(n_init+iters)]) \n",
        "exact_output_12 = np.append(np.min(exact_12.GP.y[0:n_init]),exact_12.GP.y[n_init:(n_init+iters)]) \n",
        "\n",
        "regret_approx_12 = np.log(-approx_output_12 + y_global_orig)\n",
        "regret_exact_12 = np.log(-exact_output_12 + y_global_orig)\n",
        "\n",
        "simple_regret_approx_12 = min_max_array(regret_approx_12)\n",
        "simple_regret_exact_12 = min_max_array(regret_exact_12)\n",
        "\n",
        "min_simple_regret_approx_12 = min(simple_regret_approx_12)\n",
        "min_simple_regret_exact_12 = min(simple_regret_exact_12)\n",
        "\n",
        "min_simple_regret_approx_12, min_simple_regret_exact_12"
      ],
      "execution_count": 66,
      "outputs": [
        {
          "output_type": "execute_result",
          "data": {
            "text/plain": [
              "(6.298349314877364, 4.634919833745869)"
            ]
          },
          "metadata": {},
          "execution_count": 66
        }
      ]
    },
    {
      "cell_type": "code",
      "metadata": {
        "id": "K6OiGcHkQxfw",
        "colab": {
          "base_uri": "https://localhost:8080/"
        },
        "outputId": "8c5f219b-c5a6-4d1e-c929-787afef47d0f"
      },
      "source": [
        "### Simple regret minimization: run number = 13\n",
        "\n",
        "approx_output_13 = np.append(np.min(approx_13.GP.y[0:n_init]),approx_13.GP.y[n_init:(n_init+iters)]) \n",
        "exact_output_13 = np.append(np.min(exact_13.GP.y[0:n_init]),exact_13.GP.y[n_init:(n_init+iters)]) \n",
        "\n",
        "regret_approx_13 = np.log(-approx_output_13 + y_global_orig)\n",
        "regret_exact_13 = np.log(-exact_output_13 + y_global_orig)\n",
        "\n",
        "simple_regret_approx_13 = min_max_array(regret_approx_13)\n",
        "simple_regret_exact_13 = min_max_array(regret_exact_13)\n",
        "\n",
        "min_simple_regret_approx_13 = min(simple_regret_approx_13)\n",
        "min_simple_regret_exact_13 = min(simple_regret_exact_13)\n",
        "\n",
        "min_simple_regret_approx_13, min_simple_regret_exact_13"
      ],
      "execution_count": 67,
      "outputs": [
        {
          "output_type": "execute_result",
          "data": {
            "text/plain": [
              "(4.474314403064249, 3.4988038651531)"
            ]
          },
          "metadata": {},
          "execution_count": 67
        }
      ]
    },
    {
      "cell_type": "code",
      "metadata": {
        "id": "ogML73shQxfx",
        "colab": {
          "base_uri": "https://localhost:8080/"
        },
        "outputId": "c99d9e33-9b3a-4af7-db8d-7b5542b19f4a"
      },
      "source": [
        "### Simple regret minimization: run number = 14\n",
        "\n",
        "approx_output_14 = np.append(np.min(approx_14.GP.y[0:n_init]),approx_14.GP.y[n_init:(n_init+iters)]) \n",
        "exact_output_14 = np.append(np.min(exact_14.GP.y[0:n_init]),exact_14.GP.y[n_init:(n_init+iters)]) \n",
        "\n",
        "regret_approx_14 = np.log(-approx_output_14 + y_global_orig)\n",
        "regret_exact_14 = np.log(-exact_output_14 + y_global_orig)\n",
        "\n",
        "simple_regret_approx_14 = min_max_array(regret_approx_14)\n",
        "simple_regret_exact_14 = min_max_array(regret_exact_14)\n",
        "\n",
        "min_simple_regret_approx_14 = min(simple_regret_approx_14)\n",
        "min_simple_regret_exact_14 = min(simple_regret_exact_14)\n",
        "\n",
        "min_simple_regret_approx_14, min_simple_regret_exact_14"
      ],
      "execution_count": 68,
      "outputs": [
        {
          "output_type": "execute_result",
          "data": {
            "text/plain": [
              "(6.051952524783548, 4.59025237434138)"
            ]
          },
          "metadata": {},
          "execution_count": 68
        }
      ]
    },
    {
      "cell_type": "code",
      "metadata": {
        "id": "9Eg7gFT9Qxfx",
        "colab": {
          "base_uri": "https://localhost:8080/"
        },
        "outputId": "cb68c363-6007-4dae-ced2-3812b71cd3f1"
      },
      "source": [
        "### Simple regret minimization: run number = 15\n",
        "\n",
        "approx_output_15 = np.append(np.min(approx_15.GP.y[0:n_init]),approx_15.GP.y[n_init:(n_init+iters)]) \n",
        "exact_output_15 = np.append(np.min(exact_15.GP.y[0:n_init]),exact_15.GP.y[n_init:(n_init+iters)]) \n",
        "\n",
        "regret_approx_15 = np.log(-approx_output_15 + y_global_orig)\n",
        "regret_exact_15 = np.log(-exact_output_15 + y_global_orig)\n",
        "\n",
        "simple_regret_approx_15 = min_max_array(regret_approx_15)\n",
        "simple_regret_exact_15 = min_max_array(regret_exact_15)\n",
        "\n",
        "min_simple_regret_approx_15 = min(simple_regret_approx_15)\n",
        "min_simple_regret_exact_15 = min(simple_regret_exact_15)\n",
        "\n",
        "min_simple_regret_approx_15, min_simple_regret_exact_15"
      ],
      "execution_count": 69,
      "outputs": [
        {
          "output_type": "execute_result",
          "data": {
            "text/plain": [
              "(5.627543957481097, 6.145460802333139)"
            ]
          },
          "metadata": {},
          "execution_count": 69
        }
      ]
    },
    {
      "cell_type": "code",
      "metadata": {
        "id": "lIAC1U7ZQxfy",
        "colab": {
          "base_uri": "https://localhost:8080/"
        },
        "outputId": "4ebfef2f-5e97-4e55-e83e-07fa96d0197a"
      },
      "source": [
        "### Simple regret minimization: run number = 16\n",
        "\n",
        "approx_output_16 = np.append(np.min(approx_16.GP.y[0:n_init]),approx_16.GP.y[n_init:(n_init+iters)]) \n",
        "exact_output_16 = np.append(np.min(exact_16.GP.y[0:n_init]),exact_16.GP.y[n_init:(n_init+iters)]) \n",
        "\n",
        "regret_approx_16 = np.log(-approx_output_16 + y_global_orig)\n",
        "regret_exact_16 = np.log(-exact_output_16 + y_global_orig)\n",
        "\n",
        "simple_regret_approx_16 = min_max_array(regret_approx_16)\n",
        "simple_regret_exact_16 = min_max_array(regret_exact_16)\n",
        "\n",
        "min_simple_regret_approx_16 = min(simple_regret_approx_16)\n",
        "min_simple_regret_exact_16 = min(simple_regret_exact_16)\n",
        "\n",
        "min_simple_regret_approx_16, min_simple_regret_exact_16"
      ],
      "execution_count": 70,
      "outputs": [
        {
          "output_type": "execute_result",
          "data": {
            "text/plain": [
              "(5.180931304094809, 3.6289925048286675)"
            ]
          },
          "metadata": {},
          "execution_count": 70
        }
      ]
    },
    {
      "cell_type": "code",
      "metadata": {
        "id": "bGott36OQxfz",
        "colab": {
          "base_uri": "https://localhost:8080/"
        },
        "outputId": "356059d2-b17b-46ae-fc47-1ff4d16b9168"
      },
      "source": [
        "### Simple regret minimization: run number = 17\n",
        "\n",
        "approx_output_17 = np.append(np.min(approx_17.GP.y[0:n_init]),approx_17.GP.y[n_init:(n_init+iters)]) \n",
        "exact_output_17 = np.append(np.min(exact_17.GP.y[0:n_init]),exact_17.GP.y[n_init:(n_init+iters)]) \n",
        "\n",
        "regret_approx_17 = np.log(-approx_output_17 + y_global_orig)\n",
        "regret_exact_17 = np.log(-exact_output_17 + y_global_orig)\n",
        "\n",
        "simple_regret_approx_17 = min_max_array(regret_approx_17)\n",
        "simple_regret_exact_17 = min_max_array(regret_exact_17)\n",
        "\n",
        "min_simple_regret_approx_17 = min(simple_regret_approx_17)\n",
        "min_simple_regret_exact_17 = min(simple_regret_exact_17)\n",
        "\n",
        "min_simple_regret_approx_17, min_simple_regret_exact_17"
      ],
      "execution_count": 71,
      "outputs": [
        {
          "output_type": "execute_result",
          "data": {
            "text/plain": [
              "(4.260813920126393, 4.260813920126393)"
            ]
          },
          "metadata": {},
          "execution_count": 71
        }
      ]
    },
    {
      "cell_type": "code",
      "metadata": {
        "id": "Cz9ZYMBMQxfz",
        "colab": {
          "base_uri": "https://localhost:8080/"
        },
        "outputId": "a9a284f2-879d-485c-d307-4240abf7fae0"
      },
      "source": [
        "### Simple regret minimization: run number = 18\n",
        "\n",
        "approx_output_18 = np.append(np.min(approx_18.GP.y[0:n_init]),approx_18.GP.y[n_init:(n_init+iters)]) \n",
        "exact_output_18 = np.append(np.min(exact_18.GP.y[0:n_init]),exact_18.GP.y[n_init:(n_init+iters)]) \n",
        "\n",
        "regret_approx_18 = np.log(-approx_output_18 + y_global_orig)\n",
        "regret_exact_18 = np.log(-exact_output_18 + y_global_orig)\n",
        "\n",
        "simple_regret_approx_18 = min_max_array(regret_approx_18)\n",
        "simple_regret_exact_18 = min_max_array(regret_exact_18)\n",
        "\n",
        "min_simple_regret_approx_18 = min(simple_regret_approx_18)\n",
        "min_simple_regret_exact_18 = min(simple_regret_exact_18)\n",
        "\n",
        "min_simple_regret_approx_18, min_simple_regret_exact_18"
      ],
      "execution_count": 72,
      "outputs": [
        {
          "output_type": "execute_result",
          "data": {
            "text/plain": [
              "(3.4808648487223905, 1.8426260516037318)"
            ]
          },
          "metadata": {},
          "execution_count": 72
        }
      ]
    },
    {
      "cell_type": "code",
      "metadata": {
        "id": "OBfpWOHNQxf0",
        "colab": {
          "base_uri": "https://localhost:8080/"
        },
        "outputId": "028bacd8-2581-4b19-dee9-50e9c723844b"
      },
      "source": [
        "### Simple regret minimization: run number = 19\n",
        "\n",
        "approx_output_19 = np.append(np.min(approx_19.GP.y[0:n_init]),approx_19.GP.y[n_init:(n_init+iters)]) \n",
        "exact_output_19 = np.append(np.min(exact_19.GP.y[0:n_init]),exact_19.GP.y[n_init:(n_init+iters)]) \n",
        "\n",
        "regret_approx_19 = np.log(-approx_output_19 + y_global_orig)\n",
        "regret_exact_19 = np.log(-exact_output_19 + y_global_orig)\n",
        "\n",
        "simple_regret_approx_19 = min_max_array(regret_approx_19)\n",
        "simple_regret_exact_19 = min_max_array(regret_exact_19)\n",
        "\n",
        "min_simple_regret_approx_19 = min(simple_regret_approx_19)\n",
        "min_simple_regret_exact_19 = min(simple_regret_exact_19)\n",
        "\n",
        "min_simple_regret_approx_19, min_simple_regret_exact_19"
      ],
      "execution_count": 73,
      "outputs": [
        {
          "output_type": "execute_result",
          "data": {
            "text/plain": [
              "(4.448474898401298, 4.696149828287613)"
            ]
          },
          "metadata": {},
          "execution_count": 73
        }
      ]
    },
    {
      "cell_type": "code",
      "metadata": {
        "id": "BE1AJ7NsQxf0",
        "colab": {
          "base_uri": "https://localhost:8080/"
        },
        "outputId": "c7faa0d1-5762-4679-c189-7a450114b7fa"
      },
      "source": [
        "### Simple regret minimization: run number = 20\n",
        "\n",
        "approx_output_20 = np.append(np.min(approx_20.GP.y[0:n_init]),approx_20.GP.y[n_init:(n_init+iters)]) \n",
        "exact_output_20 = np.append(np.min(exact_20.GP.y[0:n_init]),exact_20.GP.y[n_init:(n_init+iters)]) \n",
        "\n",
        "regret_approx_20 = np.log(-approx_output_20 + y_global_orig)\n",
        "regret_exact_20 = np.log(-exact_output_20 + y_global_orig)\n",
        "\n",
        "simple_regret_approx_20 = min_max_array(regret_approx_20)\n",
        "simple_regret_exact_20 = min_max_array(regret_exact_20)\n",
        "\n",
        "min_simple_regret_approx_20 = min(simple_regret_approx_20)\n",
        "min_simple_regret_exact_20 = min(simple_regret_exact_20)\n",
        "\n",
        "min_simple_regret_approx_20, min_simple_regret_exact_20"
      ],
      "execution_count": 74,
      "outputs": [
        {
          "output_type": "execute_result",
          "data": {
            "text/plain": [
              "(5.286928056904627, 6.397406519842915)"
            ]
          },
          "metadata": {},
          "execution_count": 74
        }
      ]
    },
    {
      "cell_type": "code",
      "metadata": {
        "id": "XHo_0G2fJhBb"
      },
      "source": [
        "# Iteration1 :\n",
        "\n",
        "slice1 = 0\n",
        "\n",
        "approx1 = [simple_regret_approx_1[slice1],\n",
        "       simple_regret_approx_2[slice1],\n",
        "       simple_regret_approx_3[slice1],\n",
        "       simple_regret_approx_4[slice1],\n",
        "       simple_regret_approx_5[slice1],\n",
        "       simple_regret_approx_6[slice1],\n",
        "       simple_regret_approx_7[slice1],\n",
        "       simple_regret_approx_8[slice1],\n",
        "       simple_regret_approx_9[slice1],\n",
        "       simple_regret_approx_10[slice1],\n",
        "       simple_regret_approx_11[slice1],\n",
        "       simple_regret_approx_12[slice1],\n",
        "       simple_regret_approx_13[slice1],\n",
        "       simple_regret_approx_14[slice1],\n",
        "       simple_regret_approx_15[slice1],\n",
        "       simple_regret_approx_16[slice1],\n",
        "       simple_regret_approx_17[slice1],\n",
        "       simple_regret_approx_18[slice1],\n",
        "       simple_regret_approx_19[slice1],\n",
        "       simple_regret_approx_20[slice1]]\n",
        "\n",
        "exact1 = [simple_regret_exact_1[slice1],\n",
        "       simple_regret_exact_2[slice1],\n",
        "       simple_regret_exact_3[slice1],\n",
        "       simple_regret_exact_4[slice1],\n",
        "       simple_regret_exact_5[slice1],\n",
        "       simple_regret_exact_6[slice1],\n",
        "       simple_regret_exact_7[slice1],\n",
        "       simple_regret_exact_8[slice1],\n",
        "       simple_regret_exact_9[slice1],\n",
        "       simple_regret_exact_10[slice1],\n",
        "       simple_regret_exact_11[slice1],\n",
        "       simple_regret_exact_12[slice1],\n",
        "       simple_regret_exact_13[slice1],\n",
        "       simple_regret_exact_14[slice1],\n",
        "       simple_regret_exact_15[slice1],\n",
        "       simple_regret_exact_16[slice1],\n",
        "       simple_regret_exact_17[slice1],\n",
        "       simple_regret_exact_18[slice1],\n",
        "       simple_regret_exact_19[slice1],\n",
        "       simple_regret_exact_20[slice1]]\n",
        "\n",
        "approx1_results = pd.DataFrame(approx1).sort_values(by=[0], ascending=False)\n",
        "exact1_results = pd.DataFrame(exact1).sort_values(by=[0], ascending=False)\n",
        "\n",
        "### Best simple regret minimization IQR - approx:\n",
        "lower_approx1 = np.asarray(approx1_results[4:5][0])[0]\n",
        "median_approx1 = np.asarray(approx1_results[9:10][0])[0]\n",
        "upper_approx1 = np.asarray(approx1_results[14:15][0])[0]\n",
        "\n",
        "lower_exact1 = np.asarray(exact1_results[4:5][0])[0]\n",
        "median_exact1 = np.asarray(exact1_results[9:10][0])[0]\n",
        "upper_exact1 = np.asarray(exact1_results[14:15][0])[0]"
      ],
      "execution_count": 75,
      "outputs": []
    },
    {
      "cell_type": "code",
      "metadata": {
        "id": "IZYT5m85JhBb"
      },
      "source": [
        "# Iteration11 :\n",
        "\n",
        "slice11 = 10\n",
        "\n",
        "approx11 = [simple_regret_approx_1[slice11],\n",
        "       simple_regret_approx_2[slice11],\n",
        "       simple_regret_approx_3[slice11],\n",
        "       simple_regret_approx_4[slice11],\n",
        "       simple_regret_approx_5[slice11],\n",
        "       simple_regret_approx_6[slice11],\n",
        "       simple_regret_approx_7[slice11],\n",
        "       simple_regret_approx_8[slice11],\n",
        "       simple_regret_approx_9[slice11],\n",
        "       simple_regret_approx_10[slice11],\n",
        "       simple_regret_approx_11[slice11],\n",
        "       simple_regret_approx_12[slice11],\n",
        "       simple_regret_approx_13[slice11],\n",
        "       simple_regret_approx_14[slice11],\n",
        "       simple_regret_approx_15[slice11],\n",
        "       simple_regret_approx_16[slice11],\n",
        "       simple_regret_approx_17[slice11],\n",
        "       simple_regret_approx_18[slice11],\n",
        "       simple_regret_approx_19[slice11],\n",
        "       simple_regret_approx_20[slice11]]\n",
        "\n",
        "exact11 = [simple_regret_exact_1[slice11],\n",
        "       simple_regret_exact_2[slice11],\n",
        "       simple_regret_exact_3[slice11],\n",
        "       simple_regret_exact_4[slice11],\n",
        "       simple_regret_exact_5[slice11],\n",
        "       simple_regret_exact_6[slice11],\n",
        "       simple_regret_exact_7[slice11],\n",
        "       simple_regret_exact_8[slice11],\n",
        "       simple_regret_exact_9[slice11],\n",
        "       simple_regret_exact_10[slice11],\n",
        "       simple_regret_exact_11[slice11],\n",
        "       simple_regret_exact_12[slice11],\n",
        "       simple_regret_exact_13[slice11],\n",
        "       simple_regret_exact_14[slice11],\n",
        "       simple_regret_exact_15[slice11],\n",
        "       simple_regret_exact_16[slice11],\n",
        "       simple_regret_exact_17[slice11],\n",
        "       simple_regret_exact_18[slice11],\n",
        "       simple_regret_exact_19[slice11],\n",
        "       simple_regret_exact_20[slice11]]\n",
        "\n",
        "approx11_results = pd.DataFrame(approx11).sort_values(by=[0], ascending=False)\n",
        "exact11_results = pd.DataFrame(exact11).sort_values(by=[0], ascending=False)\n",
        "\n",
        "### Best simple regret minimization IQR - approx:\n",
        "lower_approx11 = np.asarray(approx11_results[4:5][0])[0]\n",
        "median_approx11 = np.asarray(approx11_results[9:10][0])[0]\n",
        "upper_approx11 = np.asarray(approx11_results[14:15][0])[0]\n",
        "\n",
        "lower_exact11 = np.asarray(exact11_results[4:5][0])[0]\n",
        "median_exact11 = np.asarray(exact11_results[9:10][0])[0]\n",
        "upper_exact11 = np.asarray(exact11_results[14:15][0])[0]"
      ],
      "execution_count": 76,
      "outputs": []
    },
    {
      "cell_type": "code",
      "metadata": {
        "id": "R_vbmbaeJhBc"
      },
      "source": [
        "# Iteration21 :\n",
        "\n",
        "slice21 = 20\n",
        "\n",
        "approx21 = [simple_regret_approx_1[slice21],\n",
        "       simple_regret_approx_2[slice21],\n",
        "       simple_regret_approx_3[slice21],\n",
        "       simple_regret_approx_4[slice21],\n",
        "       simple_regret_approx_5[slice21],\n",
        "       simple_regret_approx_6[slice21],\n",
        "       simple_regret_approx_7[slice21],\n",
        "       simple_regret_approx_8[slice21],\n",
        "       simple_regret_approx_9[slice21],\n",
        "       simple_regret_approx_10[slice21],\n",
        "       simple_regret_approx_11[slice21],\n",
        "       simple_regret_approx_12[slice21],\n",
        "       simple_regret_approx_13[slice21],\n",
        "       simple_regret_approx_14[slice21],\n",
        "       simple_regret_approx_15[slice21],\n",
        "       simple_regret_approx_16[slice21],\n",
        "       simple_regret_approx_17[slice21],\n",
        "       simple_regret_approx_18[slice21],\n",
        "       simple_regret_approx_19[slice21],\n",
        "       simple_regret_approx_20[slice21]]\n",
        "\n",
        "exact21 = [simple_regret_exact_1[slice21],\n",
        "       simple_regret_exact_2[slice21],\n",
        "       simple_regret_exact_3[slice21],\n",
        "       simple_regret_exact_4[slice21],\n",
        "       simple_regret_exact_5[slice21],\n",
        "       simple_regret_exact_6[slice21],\n",
        "       simple_regret_exact_7[slice21],\n",
        "       simple_regret_exact_8[slice21],\n",
        "       simple_regret_exact_9[slice21],\n",
        "       simple_regret_exact_10[slice21],\n",
        "       simple_regret_exact_11[slice21],\n",
        "       simple_regret_exact_12[slice21],\n",
        "       simple_regret_exact_13[slice21],\n",
        "       simple_regret_exact_14[slice21],\n",
        "       simple_regret_exact_15[slice21],\n",
        "       simple_regret_exact_16[slice21],\n",
        "       simple_regret_exact_17[slice21],\n",
        "       simple_regret_exact_18[slice21],\n",
        "       simple_regret_exact_19[slice21],\n",
        "       simple_regret_exact_20[slice21]]\n",
        "\n",
        "approx21_results = pd.DataFrame(approx21).sort_values(by=[0], ascending=False)\n",
        "exact21_results = pd.DataFrame(exact21).sort_values(by=[0], ascending=False)\n",
        "\n",
        "### Best simple regret minimization IQR - approx:\n",
        "lower_approx21 = np.asarray(approx21_results[4:5][0])[0]\n",
        "median_approx21 = np.asarray(approx21_results[9:10][0])[0]\n",
        "upper_approx21 = np.asarray(approx21_results[14:15][0])[0]\n",
        "\n",
        "lower_exact21 = np.asarray(exact21_results[4:5][0])[0]\n",
        "median_exact21 = np.asarray(exact21_results[9:10][0])[0]\n",
        "upper_exact21 = np.asarray(exact21_results[14:15][0])[0]"
      ],
      "execution_count": 77,
      "outputs": []
    },
    {
      "cell_type": "code",
      "metadata": {
        "id": "F9FU4ttiaQOJ"
      },
      "source": [
        "# Iteration31 :\n",
        "\n",
        "slice31 = 30\n",
        "\n",
        "approx31 = [simple_regret_approx_1[slice31],\n",
        "       simple_regret_approx_2[slice31],\n",
        "       simple_regret_approx_3[slice31],\n",
        "       simple_regret_approx_4[slice31],\n",
        "       simple_regret_approx_5[slice31],\n",
        "       simple_regret_approx_6[slice31],\n",
        "       simple_regret_approx_7[slice31],\n",
        "       simple_regret_approx_8[slice31],\n",
        "       simple_regret_approx_9[slice31],\n",
        "       simple_regret_approx_10[slice31],\n",
        "       simple_regret_approx_11[slice31],\n",
        "       simple_regret_approx_12[slice31],\n",
        "       simple_regret_approx_13[slice31],\n",
        "       simple_regret_approx_14[slice31],\n",
        "       simple_regret_approx_15[slice31],\n",
        "       simple_regret_approx_16[slice31],\n",
        "       simple_regret_approx_17[slice31],\n",
        "       simple_regret_approx_18[slice31],\n",
        "       simple_regret_approx_19[slice31],\n",
        "       simple_regret_approx_20[slice31]]\n",
        "\n",
        "exact31 = [simple_regret_exact_1[slice31],\n",
        "       simple_regret_exact_2[slice31],\n",
        "       simple_regret_exact_3[slice31],\n",
        "       simple_regret_exact_4[slice31],\n",
        "       simple_regret_exact_5[slice31],\n",
        "       simple_regret_exact_6[slice31],\n",
        "       simple_regret_exact_7[slice31],\n",
        "       simple_regret_exact_8[slice31],\n",
        "       simple_regret_exact_9[slice31],\n",
        "       simple_regret_exact_10[slice31],\n",
        "       simple_regret_exact_11[slice31],\n",
        "       simple_regret_exact_12[slice31],\n",
        "       simple_regret_exact_13[slice31],\n",
        "       simple_regret_exact_14[slice31],\n",
        "       simple_regret_exact_15[slice31],\n",
        "       simple_regret_exact_16[slice31],\n",
        "       simple_regret_exact_17[slice31],\n",
        "       simple_regret_exact_18[slice31],\n",
        "       simple_regret_exact_19[slice31],\n",
        "       simple_regret_exact_20[slice31]]\n",
        "\n",
        "approx31_results = pd.DataFrame(approx31).sort_values(by=[0], ascending=False)\n",
        "exact31_results = pd.DataFrame(exact31).sort_values(by=[0], ascending=False)\n",
        "\n",
        "### Best simple regret minimization IQR - approx:\n",
        "lower_approx31 = np.asarray(approx31_results[4:5][0])[0]\n",
        "median_approx31 = np.asarray(approx31_results[9:10][0])[0]\n",
        "upper_approx31 = np.asarray(approx31_results[14:15][0])[0]\n",
        "\n",
        "lower_exact31 = np.asarray(exact31_results[4:5][0])[0]\n",
        "median_exact31 = np.asarray(exact31_results[9:10][0])[0]\n",
        "upper_exact31 = np.asarray(exact31_results[14:15][0])[0]\n"
      ],
      "execution_count": 78,
      "outputs": []
    },
    {
      "cell_type": "code",
      "metadata": {
        "id": "nAnT4CmSJhBd"
      },
      "source": [
        "# Iteration2 :\n",
        "\n",
        "slice2 = 1\n",
        "\n",
        "approx2 = [simple_regret_approx_1[slice2],\n",
        "       simple_regret_approx_2[slice2],\n",
        "       simple_regret_approx_3[slice2],\n",
        "       simple_regret_approx_4[slice2],\n",
        "       simple_regret_approx_5[slice2],\n",
        "       simple_regret_approx_6[slice2],\n",
        "       simple_regret_approx_7[slice2],\n",
        "       simple_regret_approx_8[slice2],\n",
        "       simple_regret_approx_9[slice2],\n",
        "       simple_regret_approx_10[slice2],\n",
        "       simple_regret_approx_11[slice2],\n",
        "       simple_regret_approx_12[slice2],\n",
        "       simple_regret_approx_13[slice2],\n",
        "       simple_regret_approx_14[slice2],\n",
        "       simple_regret_approx_15[slice2],\n",
        "       simple_regret_approx_16[slice2],\n",
        "       simple_regret_approx_17[slice2],\n",
        "       simple_regret_approx_18[slice2],\n",
        "       simple_regret_approx_19[slice2],\n",
        "       simple_regret_approx_20[slice2]]\n",
        "\n",
        "exact2 = [simple_regret_exact_1[slice2],\n",
        "       simple_regret_exact_2[slice2],\n",
        "       simple_regret_exact_3[slice2],\n",
        "       simple_regret_exact_4[slice2],\n",
        "       simple_regret_exact_5[slice2],\n",
        "       simple_regret_exact_6[slice2],\n",
        "       simple_regret_exact_7[slice2],\n",
        "       simple_regret_exact_8[slice2],\n",
        "       simple_regret_exact_9[slice2],\n",
        "       simple_regret_exact_10[slice2],\n",
        "       simple_regret_exact_11[slice2],\n",
        "       simple_regret_exact_12[slice2],\n",
        "       simple_regret_exact_13[slice2],\n",
        "       simple_regret_exact_14[slice2],\n",
        "       simple_regret_exact_15[slice2],\n",
        "       simple_regret_exact_16[slice2],\n",
        "       simple_regret_exact_17[slice2],\n",
        "       simple_regret_exact_18[slice2],\n",
        "       simple_regret_exact_19[slice2],\n",
        "       simple_regret_exact_20[slice2]]\n",
        "\n",
        "approx2_results = pd.DataFrame(approx2).sort_values(by=[0], ascending=False)\n",
        "exact2_results = pd.DataFrame(exact2).sort_values(by=[0], ascending=False)\n",
        "\n",
        "### Best simple regret minimization IQR - approx:\n",
        "lower_approx2 = np.asarray(approx2_results[4:5][0])[0]\n",
        "median_approx2 = np.asarray(approx2_results[9:10][0])[0]\n",
        "upper_approx2 = np.asarray(approx2_results[14:15][0])[0]\n",
        "\n",
        "lower_exact2 = np.asarray(exact2_results[4:5][0])[0]\n",
        "median_exact2 = np.asarray(exact2_results[9:10][0])[0]\n",
        "upper_exact2 = np.asarray(exact2_results[14:15][0])[0]"
      ],
      "execution_count": 79,
      "outputs": []
    },
    {
      "cell_type": "code",
      "metadata": {
        "id": "ilHQoAhBJhBd"
      },
      "source": [
        "# Iteration12 :\n",
        "\n",
        "slice12 = 11\n",
        "\n",
        "approx12 = [simple_regret_approx_1[slice12],\n",
        "       simple_regret_approx_2[slice12],\n",
        "       simple_regret_approx_3[slice12],\n",
        "       simple_regret_approx_4[slice12],\n",
        "       simple_regret_approx_5[slice12],\n",
        "       simple_regret_approx_6[slice12],\n",
        "       simple_regret_approx_7[slice12],\n",
        "       simple_regret_approx_8[slice12],\n",
        "       simple_regret_approx_9[slice12],\n",
        "       simple_regret_approx_10[slice12],\n",
        "       simple_regret_approx_11[slice12],\n",
        "       simple_regret_approx_12[slice12],\n",
        "       simple_regret_approx_13[slice12],\n",
        "       simple_regret_approx_14[slice12],\n",
        "       simple_regret_approx_15[slice12],\n",
        "       simple_regret_approx_16[slice12],\n",
        "       simple_regret_approx_17[slice12],\n",
        "       simple_regret_approx_18[slice12],\n",
        "       simple_regret_approx_19[slice12],\n",
        "       simple_regret_approx_20[slice12]]\n",
        "\n",
        "exact12 = [simple_regret_exact_1[slice12],\n",
        "       simple_regret_exact_2[slice12],\n",
        "       simple_regret_exact_3[slice12],\n",
        "       simple_regret_exact_4[slice12],\n",
        "       simple_regret_exact_5[slice12],\n",
        "       simple_regret_exact_6[slice12],\n",
        "       simple_regret_exact_7[slice12],\n",
        "       simple_regret_exact_8[slice12],\n",
        "       simple_regret_exact_9[slice12],\n",
        "       simple_regret_exact_10[slice12],\n",
        "       simple_regret_exact_11[slice12],\n",
        "       simple_regret_exact_12[slice12],\n",
        "       simple_regret_exact_13[slice12],\n",
        "       simple_regret_exact_14[slice12],\n",
        "       simple_regret_exact_15[slice12],\n",
        "       simple_regret_exact_16[slice12],\n",
        "       simple_regret_exact_17[slice12],\n",
        "       simple_regret_exact_18[slice12],\n",
        "       simple_regret_exact_19[slice12],\n",
        "       simple_regret_exact_20[slice12]]\n",
        "\n",
        "approx12_results = pd.DataFrame(approx12).sort_values(by=[0], ascending=False)\n",
        "exact12_results = pd.DataFrame(exact12).sort_values(by=[0], ascending=False)\n",
        "\n",
        "### Best simple regret minimization IQR - approx:\n",
        "lower_approx12 = np.asarray(approx12_results[4:5][0])[0]\n",
        "median_approx12 = np.asarray(approx12_results[9:10][0])[0]\n",
        "upper_approx12 = np.asarray(approx12_results[14:15][0])[0]\n",
        "\n",
        "lower_exact12 = np.asarray(exact12_results[4:5][0])[0]\n",
        "median_exact12 = np.asarray(exact12_results[9:10][0])[0]\n",
        "upper_exact12 = np.asarray(exact12_results[14:15][0])[0]"
      ],
      "execution_count": 80,
      "outputs": []
    },
    {
      "cell_type": "code",
      "metadata": {
        "id": "H13IwWE5axxK"
      },
      "source": [
        "# Iteration22 :\n",
        "\n",
        "slice22 = 21\n",
        "\n",
        "approx22 = [simple_regret_approx_1[slice22],\n",
        "       simple_regret_approx_2[slice22],\n",
        "       simple_regret_approx_3[slice22],\n",
        "       simple_regret_approx_4[slice22],\n",
        "       simple_regret_approx_5[slice22],\n",
        "       simple_regret_approx_6[slice22],\n",
        "       simple_regret_approx_7[slice22],\n",
        "       simple_regret_approx_8[slice22],\n",
        "       simple_regret_approx_9[slice22],\n",
        "       simple_regret_approx_10[slice22],\n",
        "       simple_regret_approx_11[slice22],\n",
        "       simple_regret_approx_12[slice22],\n",
        "       simple_regret_approx_13[slice22],\n",
        "       simple_regret_approx_14[slice22],\n",
        "       simple_regret_approx_15[slice22],\n",
        "       simple_regret_approx_16[slice22],\n",
        "       simple_regret_approx_17[slice22],\n",
        "       simple_regret_approx_18[slice22],\n",
        "       simple_regret_approx_19[slice22],\n",
        "       simple_regret_approx_20[slice22]]\n",
        "\n",
        "exact22 = [simple_regret_exact_1[slice22],\n",
        "       simple_regret_exact_2[slice22],\n",
        "       simple_regret_exact_3[slice22],\n",
        "       simple_regret_exact_4[slice22],\n",
        "       simple_regret_exact_5[slice22],\n",
        "       simple_regret_exact_6[slice22],\n",
        "       simple_regret_exact_7[slice22],\n",
        "       simple_regret_exact_8[slice22],\n",
        "       simple_regret_exact_9[slice22],\n",
        "       simple_regret_exact_10[slice22],\n",
        "       simple_regret_exact_11[slice22],\n",
        "       simple_regret_exact_12[slice22],\n",
        "       simple_regret_exact_13[slice22],\n",
        "       simple_regret_exact_14[slice22],\n",
        "       simple_regret_exact_15[slice22],\n",
        "       simple_regret_exact_16[slice22],\n",
        "       simple_regret_exact_17[slice22],\n",
        "       simple_regret_exact_18[slice22],\n",
        "       simple_regret_exact_19[slice22],\n",
        "       simple_regret_exact_20[slice22]]\n",
        "\n",
        "approx22_results = pd.DataFrame(approx22).sort_values(by=[0], ascending=False)\n",
        "exact22_results = pd.DataFrame(exact22).sort_values(by=[0], ascending=False)\n",
        "\n",
        "### Best simple regret minimization IQR - approx:\n",
        "lower_approx22 = np.asarray(approx22_results[4:5][0])[0]\n",
        "median_approx22 = np.asarray(approx22_results[9:10][0])[0]\n",
        "upper_approx22 = np.asarray(approx22_results[14:15][0])[0]\n",
        "\n",
        "lower_exact22 = np.asarray(exact22_results[4:5][0])[0]\n",
        "median_exact22 = np.asarray(exact22_results[9:10][0])[0]\n",
        "upper_exact22 = np.asarray(exact22_results[14:15][0])[0]"
      ],
      "execution_count": 81,
      "outputs": []
    },
    {
      "cell_type": "code",
      "metadata": {
        "id": "bGJ_fhZ7JhBe"
      },
      "source": [
        "# Iteration3 :\n",
        "\n",
        "slice3 = 2\n",
        "\n",
        "approx3 = [simple_regret_approx_1[slice3],\n",
        "       simple_regret_approx_2[slice3],\n",
        "       simple_regret_approx_3[slice3],\n",
        "       simple_regret_approx_4[slice3],\n",
        "       simple_regret_approx_5[slice3],\n",
        "       simple_regret_approx_6[slice3],\n",
        "       simple_regret_approx_7[slice3],\n",
        "       simple_regret_approx_8[slice3],\n",
        "       simple_regret_approx_9[slice3],\n",
        "       simple_regret_approx_10[slice3],\n",
        "       simple_regret_approx_11[slice3],\n",
        "       simple_regret_approx_12[slice3],\n",
        "       simple_regret_approx_13[slice3],\n",
        "       simple_regret_approx_14[slice3],\n",
        "       simple_regret_approx_15[slice3],\n",
        "       simple_regret_approx_16[slice3],\n",
        "       simple_regret_approx_17[slice3],\n",
        "       simple_regret_approx_18[slice3],\n",
        "       simple_regret_approx_19[slice3],\n",
        "       simple_regret_approx_20[slice3]]\n",
        "\n",
        "exact3 = [simple_regret_exact_1[slice3],\n",
        "       simple_regret_exact_2[slice3],\n",
        "       simple_regret_exact_3[slice3],\n",
        "       simple_regret_exact_4[slice3],\n",
        "       simple_regret_exact_5[slice3],\n",
        "       simple_regret_exact_6[slice3],\n",
        "       simple_regret_exact_7[slice3],\n",
        "       simple_regret_exact_8[slice3],\n",
        "       simple_regret_exact_9[slice3],\n",
        "       simple_regret_exact_10[slice3],\n",
        "       simple_regret_exact_11[slice3],\n",
        "       simple_regret_exact_12[slice3],\n",
        "       simple_regret_exact_13[slice3],\n",
        "       simple_regret_exact_14[slice3],\n",
        "       simple_regret_exact_15[slice3],\n",
        "       simple_regret_exact_16[slice3],\n",
        "       simple_regret_exact_17[slice3],\n",
        "       simple_regret_exact_18[slice3],\n",
        "       simple_regret_exact_19[slice3],\n",
        "       simple_regret_exact_20[slice3]]\n",
        "\n",
        "approx3_results = pd.DataFrame(approx3).sort_values(by=[0], ascending=False)\n",
        "exact3_results = pd.DataFrame(exact3).sort_values(by=[0], ascending=False)\n",
        "\n",
        "### Best simple regret minimization IQR - approx:\n",
        "lower_approx3 = np.asarray(approx3_results[4:5][0])[0]\n",
        "median_approx3 = np.asarray(approx3_results[9:10][0])[0]\n",
        "upper_approx3 = np.asarray(approx3_results[14:15][0])[0]\n",
        "\n",
        "lower_exact3 = np.asarray(exact3_results[4:5][0])[0]\n",
        "median_exact3 = np.asarray(exact3_results[9:10][0])[0]\n",
        "upper_exact3 = np.asarray(exact3_results[14:15][0])[0]"
      ],
      "execution_count": 82,
      "outputs": []
    },
    {
      "cell_type": "code",
      "metadata": {
        "id": "jUpV9Q1LJhBe"
      },
      "source": [
        "# Iteration13 :\n",
        "\n",
        "slice13 = 12\n",
        "\n",
        "approx13 = [simple_regret_approx_1[slice13],\n",
        "       simple_regret_approx_2[slice13],\n",
        "       simple_regret_approx_3[slice13],\n",
        "       simple_regret_approx_4[slice13],\n",
        "       simple_regret_approx_5[slice13],\n",
        "       simple_regret_approx_6[slice13],\n",
        "       simple_regret_approx_7[slice13],\n",
        "       simple_regret_approx_8[slice13],\n",
        "       simple_regret_approx_9[slice13],\n",
        "       simple_regret_approx_10[slice13],\n",
        "       simple_regret_approx_11[slice13],\n",
        "       simple_regret_approx_12[slice13],\n",
        "       simple_regret_approx_13[slice13],\n",
        "       simple_regret_approx_14[slice13],\n",
        "       simple_regret_approx_15[slice13],\n",
        "       simple_regret_approx_16[slice13],\n",
        "       simple_regret_approx_17[slice13],\n",
        "       simple_regret_approx_18[slice13],\n",
        "       simple_regret_approx_19[slice13],\n",
        "       simple_regret_approx_20[slice13]]\n",
        "\n",
        "exact13 = [simple_regret_exact_1[slice13],\n",
        "       simple_regret_exact_2[slice13],\n",
        "       simple_regret_exact_3[slice13],\n",
        "       simple_regret_exact_4[slice13],\n",
        "       simple_regret_exact_5[slice13],\n",
        "       simple_regret_exact_6[slice13],\n",
        "       simple_regret_exact_7[slice13],\n",
        "       simple_regret_exact_8[slice13],\n",
        "       simple_regret_exact_9[slice13],\n",
        "       simple_regret_exact_10[slice13],\n",
        "       simple_regret_exact_11[slice13],\n",
        "       simple_regret_exact_12[slice13],\n",
        "       simple_regret_exact_13[slice13],\n",
        "       simple_regret_exact_14[slice13],\n",
        "       simple_regret_exact_15[slice13],\n",
        "       simple_regret_exact_16[slice13],\n",
        "       simple_regret_exact_17[slice13],\n",
        "       simple_regret_exact_18[slice13],\n",
        "       simple_regret_exact_19[slice13],\n",
        "       simple_regret_exact_20[slice13]]\n",
        "\n",
        "approx13_results = pd.DataFrame(approx13).sort_values(by=[0], ascending=False)\n",
        "exact13_results = pd.DataFrame(exact13).sort_values(by=[0], ascending=False)\n",
        "\n",
        "### Best simple regret minimization IQR - approx:\n",
        "lower_approx13 = np.asarray(approx13_results[4:5][0])[0]\n",
        "median_approx13 = np.asarray(approx13_results[9:10][0])[0]\n",
        "upper_approx13 = np.asarray(approx13_results[14:15][0])[0]\n",
        "\n",
        "lower_exact13 = np.asarray(exact13_results[4:5][0])[0]\n",
        "median_exact13 = np.asarray(exact13_results[9:10][0])[0]\n",
        "upper_exact13 = np.asarray(exact13_results[14:15][0])[0]"
      ],
      "execution_count": 83,
      "outputs": []
    },
    {
      "cell_type": "code",
      "metadata": {
        "id": "ql0sW6uwbZ2w"
      },
      "source": [
        "# Iteration23 :\n",
        "\n",
        "slice23 = 22\n",
        "\n",
        "approx23 = [simple_regret_approx_1[slice23],\n",
        "       simple_regret_approx_2[slice23],\n",
        "       simple_regret_approx_3[slice23],\n",
        "       simple_regret_approx_4[slice23],\n",
        "       simple_regret_approx_5[slice23],\n",
        "       simple_regret_approx_6[slice23],\n",
        "       simple_regret_approx_7[slice23],\n",
        "       simple_regret_approx_8[slice23],\n",
        "       simple_regret_approx_9[slice23],\n",
        "       simple_regret_approx_10[slice23],\n",
        "       simple_regret_approx_11[slice23],\n",
        "       simple_regret_approx_12[slice23],\n",
        "       simple_regret_approx_13[slice23],\n",
        "       simple_regret_approx_14[slice23],\n",
        "       simple_regret_approx_15[slice23],\n",
        "       simple_regret_approx_16[slice23],\n",
        "       simple_regret_approx_17[slice23],\n",
        "       simple_regret_approx_18[slice23],\n",
        "       simple_regret_approx_19[slice23],\n",
        "       simple_regret_approx_20[slice23]]\n",
        "\n",
        "exact23 = [simple_regret_exact_1[slice23],\n",
        "       simple_regret_exact_2[slice23],\n",
        "       simple_regret_exact_3[slice23],\n",
        "       simple_regret_exact_4[slice23],\n",
        "       simple_regret_exact_5[slice23],\n",
        "       simple_regret_exact_6[slice23],\n",
        "       simple_regret_exact_7[slice23],\n",
        "       simple_regret_exact_8[slice23],\n",
        "       simple_regret_exact_9[slice23],\n",
        "       simple_regret_exact_10[slice23],\n",
        "       simple_regret_exact_11[slice23],\n",
        "       simple_regret_exact_12[slice23],\n",
        "       simple_regret_exact_13[slice23],\n",
        "       simple_regret_exact_14[slice23],\n",
        "       simple_regret_exact_15[slice23],\n",
        "       simple_regret_exact_16[slice23],\n",
        "       simple_regret_exact_17[slice23],\n",
        "       simple_regret_exact_18[slice23],\n",
        "       simple_regret_exact_19[slice23],\n",
        "       simple_regret_exact_20[slice23]]\n",
        "\n",
        "approx23_results = pd.DataFrame(approx23).sort_values(by=[0], ascending=False)\n",
        "exact23_results = pd.DataFrame(exact23).sort_values(by=[0], ascending=False)\n",
        "\n",
        "### Best simple regret minimization IQR - approx:\n",
        "lower_approx23 = np.asarray(approx23_results[4:5][0])[0]\n",
        "median_approx23 = np.asarray(approx23_results[9:10][0])[0]\n",
        "upper_approx23 = np.asarray(approx23_results[14:15][0])[0]\n",
        "\n",
        "lower_exact23 = np.asarray(exact23_results[4:5][0])[0]\n",
        "median_exact23 = np.asarray(exact23_results[9:10][0])[0]\n",
        "upper_exact23 = np.asarray(exact23_results[14:15][0])[0]"
      ],
      "execution_count": 84,
      "outputs": []
    },
    {
      "cell_type": "code",
      "metadata": {
        "id": "ZD6EnITCJhBf"
      },
      "source": [
        "# Iteration4 :\n",
        "\n",
        "slice4 = 3\n",
        "\n",
        "approx4 = [simple_regret_approx_1[slice4],\n",
        "       simple_regret_approx_2[slice4],\n",
        "       simple_regret_approx_3[slice4],\n",
        "       simple_regret_approx_4[slice4],\n",
        "       simple_regret_approx_5[slice4],\n",
        "       simple_regret_approx_6[slice4],\n",
        "       simple_regret_approx_7[slice4],\n",
        "       simple_regret_approx_8[slice4],\n",
        "       simple_regret_approx_9[slice4],\n",
        "       simple_regret_approx_10[slice4],\n",
        "       simple_regret_approx_11[slice4],\n",
        "       simple_regret_approx_12[slice4],\n",
        "       simple_regret_approx_13[slice4],\n",
        "       simple_regret_approx_14[slice4],\n",
        "       simple_regret_approx_15[slice4],\n",
        "       simple_regret_approx_16[slice4],\n",
        "       simple_regret_approx_17[slice4],\n",
        "       simple_regret_approx_18[slice4],\n",
        "       simple_regret_approx_19[slice4],\n",
        "       simple_regret_approx_20[slice4]]\n",
        "\n",
        "exact4 = [simple_regret_exact_1[slice4],\n",
        "       simple_regret_exact_2[slice4],\n",
        "       simple_regret_exact_3[slice4],\n",
        "       simple_regret_exact_4[slice4],\n",
        "       simple_regret_exact_5[slice4],\n",
        "       simple_regret_exact_6[slice4],\n",
        "       simple_regret_exact_7[slice4],\n",
        "       simple_regret_exact_8[slice4],\n",
        "       simple_regret_exact_9[slice4],\n",
        "       simple_regret_exact_10[slice4],\n",
        "       simple_regret_exact_11[slice4],\n",
        "       simple_regret_exact_12[slice4],\n",
        "       simple_regret_exact_13[slice4],\n",
        "       simple_regret_exact_14[slice4],\n",
        "       simple_regret_exact_15[slice4],\n",
        "       simple_regret_exact_16[slice4],\n",
        "       simple_regret_exact_17[slice4],\n",
        "       simple_regret_exact_18[slice4],\n",
        "       simple_regret_exact_19[slice4],\n",
        "       simple_regret_exact_20[slice4]]\n",
        "\n",
        "approx4_results = pd.DataFrame(approx4).sort_values(by=[0], ascending=False)\n",
        "exact4_results = pd.DataFrame(exact4).sort_values(by=[0], ascending=False)\n",
        "\n",
        "### Best simple regret minimization IQR - approx:\n",
        "lower_approx4 = np.asarray(approx4_results[4:5][0])[0]\n",
        "median_approx4 = np.asarray(approx4_results[9:10][0])[0]\n",
        "upper_approx4 = np.asarray(approx4_results[14:15][0])[0]\n",
        "\n",
        "lower_exact4 = np.asarray(exact4_results[4:5][0])[0]\n",
        "median_exact4 = np.asarray(exact4_results[9:10][0])[0]\n",
        "upper_exact4 = np.asarray(exact4_results[14:15][0])[0]"
      ],
      "execution_count": 85,
      "outputs": []
    },
    {
      "cell_type": "code",
      "metadata": {
        "id": "EpaLyNtBJhBg"
      },
      "source": [
        "# Iteration14 :\n",
        "\n",
        "slice14 = 13\n",
        "\n",
        "approx14 = [simple_regret_approx_1[slice14],\n",
        "       simple_regret_approx_2[slice14],\n",
        "       simple_regret_approx_3[slice14],\n",
        "       simple_regret_approx_4[slice14],\n",
        "       simple_regret_approx_5[slice14],\n",
        "       simple_regret_approx_6[slice14],\n",
        "       simple_regret_approx_7[slice14],\n",
        "       simple_regret_approx_8[slice14],\n",
        "       simple_regret_approx_9[slice14],\n",
        "       simple_regret_approx_10[slice14],\n",
        "       simple_regret_approx_11[slice14],\n",
        "       simple_regret_approx_12[slice14],\n",
        "       simple_regret_approx_13[slice14],\n",
        "       simple_regret_approx_14[slice14],\n",
        "       simple_regret_approx_15[slice14],\n",
        "       simple_regret_approx_16[slice14],\n",
        "       simple_regret_approx_17[slice14],\n",
        "       simple_regret_approx_18[slice14],\n",
        "       simple_regret_approx_19[slice14],\n",
        "       simple_regret_approx_20[slice14]]\n",
        "\n",
        "exact14 = [simple_regret_exact_1[slice14],\n",
        "       simple_regret_exact_2[slice14],\n",
        "       simple_regret_exact_3[slice14],\n",
        "       simple_regret_exact_4[slice14],\n",
        "       simple_regret_exact_5[slice14],\n",
        "       simple_regret_exact_6[slice14],\n",
        "       simple_regret_exact_7[slice14],\n",
        "       simple_regret_exact_8[slice14],\n",
        "       simple_regret_exact_9[slice14],\n",
        "       simple_regret_exact_10[slice14],\n",
        "       simple_regret_exact_11[slice14],\n",
        "       simple_regret_exact_12[slice14],\n",
        "       simple_regret_exact_13[slice14],\n",
        "       simple_regret_exact_14[slice14],\n",
        "       simple_regret_exact_15[slice14],\n",
        "       simple_regret_exact_16[slice14],\n",
        "       simple_regret_exact_17[slice14],\n",
        "       simple_regret_exact_18[slice14],\n",
        "       simple_regret_exact_19[slice14],\n",
        "       simple_regret_exact_20[slice14]]\n",
        "\n",
        "approx14_results = pd.DataFrame(approx14).sort_values(by=[0], ascending=False)\n",
        "exact14_results = pd.DataFrame(exact14).sort_values(by=[0], ascending=False)\n",
        "\n",
        "### Best simple regret minimization IQR - approx:\n",
        "lower_approx14 = np.asarray(approx14_results[4:5][0])[0]\n",
        "median_approx14 = np.asarray(approx14_results[9:10][0])[0]\n",
        "upper_approx14 = np.asarray(approx14_results[14:15][0])[0]\n",
        "\n",
        "lower_exact14 = np.asarray(exact14_results[4:5][0])[0]\n",
        "median_exact14 = np.asarray(exact14_results[9:10][0])[0]\n",
        "upper_exact14 = np.asarray(exact14_results[14:15][0])[0]"
      ],
      "execution_count": 86,
      "outputs": []
    },
    {
      "cell_type": "code",
      "metadata": {
        "id": "R9whJAg4b6L6"
      },
      "source": [
        "# Iteration24 :\n",
        "\n",
        "slice24 = 23\n",
        "\n",
        "approx24 = [simple_regret_approx_1[slice24],\n",
        "       simple_regret_approx_2[slice24],\n",
        "       simple_regret_approx_3[slice24],\n",
        "       simple_regret_approx_4[slice24],\n",
        "       simple_regret_approx_5[slice24],\n",
        "       simple_regret_approx_6[slice24],\n",
        "       simple_regret_approx_7[slice24],\n",
        "       simple_regret_approx_8[slice24],\n",
        "       simple_regret_approx_9[slice24],\n",
        "       simple_regret_approx_10[slice24],\n",
        "       simple_regret_approx_11[slice24],\n",
        "       simple_regret_approx_12[slice24],\n",
        "       simple_regret_approx_13[slice24],\n",
        "       simple_regret_approx_14[slice24],\n",
        "       simple_regret_approx_15[slice24],\n",
        "       simple_regret_approx_16[slice24],\n",
        "       simple_regret_approx_17[slice24],\n",
        "       simple_regret_approx_18[slice24],\n",
        "       simple_regret_approx_19[slice24],\n",
        "       simple_regret_approx_20[slice24]]\n",
        "\n",
        "exact24 = [simple_regret_exact_1[slice24],\n",
        "       simple_regret_exact_2[slice24],\n",
        "       simple_regret_exact_3[slice24],\n",
        "       simple_regret_exact_4[slice24],\n",
        "       simple_regret_exact_5[slice24],\n",
        "       simple_regret_exact_6[slice24],\n",
        "       simple_regret_exact_7[slice24],\n",
        "       simple_regret_exact_8[slice24],\n",
        "       simple_regret_exact_9[slice24],\n",
        "       simple_regret_exact_10[slice24],\n",
        "       simple_regret_exact_11[slice24],\n",
        "       simple_regret_exact_12[slice24],\n",
        "       simple_regret_exact_13[slice24],\n",
        "       simple_regret_exact_14[slice24],\n",
        "       simple_regret_exact_15[slice24],\n",
        "       simple_regret_exact_16[slice24],\n",
        "       simple_regret_exact_17[slice24],\n",
        "       simple_regret_exact_18[slice24],\n",
        "       simple_regret_exact_19[slice24],\n",
        "       simple_regret_exact_20[slice24]]\n",
        "\n",
        "approx24_results = pd.DataFrame(approx24).sort_values(by=[0], ascending=False)\n",
        "exact24_results = pd.DataFrame(exact24).sort_values(by=[0], ascending=False)\n",
        "\n",
        "### Best simple regret minimization IQR - approx:\n",
        "lower_approx24 = np.asarray(approx24_results[4:5][0])[0]\n",
        "median_approx24 = np.asarray(approx24_results[9:10][0])[0]\n",
        "upper_approx24 = np.asarray(approx24_results[14:15][0])[0]\n",
        "\n",
        "lower_exact24 = np.asarray(exact24_results[4:5][0])[0]\n",
        "median_exact24 = np.asarray(exact24_results[9:10][0])[0]\n",
        "upper_exact24 = np.asarray(exact24_results[14:15][0])[0]"
      ],
      "execution_count": 87,
      "outputs": []
    },
    {
      "cell_type": "code",
      "metadata": {
        "id": "WkaNBGB9JhBg"
      },
      "source": [
        "# Iteration5 :\n",
        "\n",
        "slice5 = 4\n",
        "\n",
        "approx5 = [simple_regret_approx_1[slice5],\n",
        "       simple_regret_approx_2[slice5],\n",
        "       simple_regret_approx_3[slice5],\n",
        "       simple_regret_approx_4[slice5],\n",
        "       simple_regret_approx_5[slice5],\n",
        "       simple_regret_approx_6[slice5],\n",
        "       simple_regret_approx_7[slice5],\n",
        "       simple_regret_approx_8[slice5],\n",
        "       simple_regret_approx_9[slice5],\n",
        "       simple_regret_approx_10[slice5],\n",
        "       simple_regret_approx_11[slice5],\n",
        "       simple_regret_approx_12[slice5],\n",
        "       simple_regret_approx_13[slice5],\n",
        "       simple_regret_approx_14[slice5],\n",
        "       simple_regret_approx_15[slice5],\n",
        "       simple_regret_approx_16[slice5],\n",
        "       simple_regret_approx_17[slice5],\n",
        "       simple_regret_approx_18[slice5],\n",
        "       simple_regret_approx_19[slice5],\n",
        "       simple_regret_approx_20[slice5]]\n",
        "\n",
        "exact5 = [simple_regret_exact_1[slice5],\n",
        "       simple_regret_exact_2[slice5],\n",
        "       simple_regret_exact_3[slice5],\n",
        "       simple_regret_exact_4[slice5],\n",
        "       simple_regret_exact_5[slice5],\n",
        "       simple_regret_exact_6[slice5],\n",
        "       simple_regret_exact_7[slice5],\n",
        "       simple_regret_exact_8[slice5],\n",
        "       simple_regret_exact_9[slice5],\n",
        "       simple_regret_exact_10[slice5],\n",
        "       simple_regret_exact_11[slice5],\n",
        "       simple_regret_exact_12[slice5],\n",
        "       simple_regret_exact_13[slice5],\n",
        "       simple_regret_exact_14[slice5],\n",
        "       simple_regret_exact_15[slice5],\n",
        "       simple_regret_exact_16[slice5],\n",
        "       simple_regret_exact_17[slice5],\n",
        "       simple_regret_exact_18[slice5],\n",
        "       simple_regret_exact_19[slice5],\n",
        "       simple_regret_exact_20[slice5]]\n",
        "\n",
        "approx5_results = pd.DataFrame(approx5).sort_values(by=[0], ascending=False)\n",
        "exact5_results = pd.DataFrame(exact5).sort_values(by=[0], ascending=False)\n",
        "\n",
        "### Best simple regret minimization IQR - approx:\n",
        "lower_approx5 = np.asarray(approx5_results[4:5][0])[0]\n",
        "median_approx5 = np.asarray(approx5_results[9:10][0])[0]\n",
        "upper_approx5 = np.asarray(approx5_results[14:15][0])[0]\n",
        "\n",
        "lower_exact5 = np.asarray(exact5_results[4:5][0])[0]\n",
        "median_exact5 = np.asarray(exact5_results[9:10][0])[0]\n",
        "upper_exact5 = np.asarray(exact5_results[14:15][0])[0]"
      ],
      "execution_count": 88,
      "outputs": []
    },
    {
      "cell_type": "code",
      "metadata": {
        "id": "tb9ICEuOJhBh"
      },
      "source": [
        "# Iteration15 :\n",
        "\n",
        "slice15 = 14\n",
        "\n",
        "approx15 = [simple_regret_approx_1[slice15],\n",
        "       simple_regret_approx_2[slice15],\n",
        "       simple_regret_approx_3[slice15],\n",
        "       simple_regret_approx_4[slice15],\n",
        "       simple_regret_approx_5[slice15],\n",
        "       simple_regret_approx_6[slice15],\n",
        "       simple_regret_approx_7[slice15],\n",
        "       simple_regret_approx_8[slice15],\n",
        "       simple_regret_approx_9[slice15],\n",
        "       simple_regret_approx_10[slice15],\n",
        "       simple_regret_approx_11[slice15],\n",
        "       simple_regret_approx_12[slice15],\n",
        "       simple_regret_approx_13[slice15],\n",
        "       simple_regret_approx_14[slice15],\n",
        "       simple_regret_approx_15[slice15],\n",
        "       simple_regret_approx_16[slice15],\n",
        "       simple_regret_approx_17[slice15],\n",
        "       simple_regret_approx_18[slice15],\n",
        "       simple_regret_approx_19[slice15],\n",
        "       simple_regret_approx_20[slice15]]\n",
        "\n",
        "exact15 = [simple_regret_exact_1[slice15],\n",
        "       simple_regret_exact_2[slice15],\n",
        "       simple_regret_exact_3[slice15],\n",
        "       simple_regret_exact_4[slice15],\n",
        "       simple_regret_exact_5[slice15],\n",
        "       simple_regret_exact_6[slice15],\n",
        "       simple_regret_exact_7[slice15],\n",
        "       simple_regret_exact_8[slice15],\n",
        "       simple_regret_exact_9[slice15],\n",
        "       simple_regret_exact_10[slice15],\n",
        "       simple_regret_exact_11[slice15],\n",
        "       simple_regret_exact_12[slice15],\n",
        "       simple_regret_exact_13[slice15],\n",
        "       simple_regret_exact_14[slice15],\n",
        "       simple_regret_exact_15[slice15],\n",
        "       simple_regret_exact_16[slice15],\n",
        "       simple_regret_exact_17[slice15],\n",
        "       simple_regret_exact_18[slice15],\n",
        "       simple_regret_exact_19[slice15],\n",
        "       simple_regret_exact_20[slice15]]\n",
        "\n",
        "approx15_results = pd.DataFrame(approx15).sort_values(by=[0], ascending=False)\n",
        "exact15_results = pd.DataFrame(exact15).sort_values(by=[0], ascending=False)\n",
        "\n",
        "### Best simple regret minimization IQR - approx:\n",
        "lower_approx15 = np.asarray(approx15_results[4:5][0])[0]\n",
        "median_approx15 = np.asarray(approx15_results[9:10][0])[0]\n",
        "upper_approx15 = np.asarray(approx15_results[14:15][0])[0]\n",
        "\n",
        "lower_exact15 = np.asarray(exact15_results[4:5][0])[0]\n",
        "median_exact15 = np.asarray(exact15_results[9:10][0])[0]\n",
        "upper_exact15 = np.asarray(exact15_results[14:15][0])[0]"
      ],
      "execution_count": 89,
      "outputs": []
    },
    {
      "cell_type": "code",
      "metadata": {
        "id": "OiDV2XD6cYAt"
      },
      "source": [
        "# Iteration25 :\n",
        "\n",
        "slice25 = 24\n",
        "\n",
        "approx25 = [simple_regret_approx_1[slice25],\n",
        "       simple_regret_approx_2[slice25],\n",
        "       simple_regret_approx_3[slice25],\n",
        "       simple_regret_approx_4[slice25],\n",
        "       simple_regret_approx_5[slice25],\n",
        "       simple_regret_approx_6[slice25],\n",
        "       simple_regret_approx_7[slice25],\n",
        "       simple_regret_approx_8[slice25],\n",
        "       simple_regret_approx_9[slice25],\n",
        "       simple_regret_approx_10[slice25],\n",
        "       simple_regret_approx_11[slice25],\n",
        "       simple_regret_approx_12[slice25],\n",
        "       simple_regret_approx_13[slice25],\n",
        "       simple_regret_approx_14[slice25],\n",
        "       simple_regret_approx_15[slice25],\n",
        "       simple_regret_approx_16[slice25],\n",
        "       simple_regret_approx_17[slice25],\n",
        "       simple_regret_approx_18[slice25],\n",
        "       simple_regret_approx_19[slice25],\n",
        "       simple_regret_approx_20[slice25]]\n",
        "\n",
        "exact25 = [simple_regret_exact_1[slice25],\n",
        "       simple_regret_exact_2[slice25],\n",
        "       simple_regret_exact_3[slice25],\n",
        "       simple_regret_exact_4[slice25],\n",
        "       simple_regret_exact_5[slice25],\n",
        "       simple_regret_exact_6[slice25],\n",
        "       simple_regret_exact_7[slice25],\n",
        "       simple_regret_exact_8[slice25],\n",
        "       simple_regret_exact_9[slice25],\n",
        "       simple_regret_exact_10[slice25],\n",
        "       simple_regret_exact_11[slice25],\n",
        "       simple_regret_exact_12[slice25],\n",
        "       simple_regret_exact_13[slice25],\n",
        "       simple_regret_exact_14[slice25],\n",
        "       simple_regret_exact_15[slice25],\n",
        "       simple_regret_exact_16[slice25],\n",
        "       simple_regret_exact_17[slice25],\n",
        "       simple_regret_exact_18[slice25],\n",
        "       simple_regret_exact_19[slice25],\n",
        "       simple_regret_exact_20[slice25]]\n",
        "\n",
        "approx25_results = pd.DataFrame(approx25).sort_values(by=[0], ascending=False)\n",
        "exact25_results = pd.DataFrame(exact25).sort_values(by=[0], ascending=False)\n",
        "\n",
        "### Best simple regret minimization IQR - approx:\n",
        "lower_approx25 = np.asarray(approx25_results[4:5][0])[0]\n",
        "median_approx25 = np.asarray(approx25_results[9:10][0])[0]\n",
        "upper_approx25 = np.asarray(approx25_results[14:15][0])[0]\n",
        "\n",
        "lower_exact25 = np.asarray(exact25_results[4:5][0])[0]\n",
        "median_exact25 = np.asarray(exact25_results[9:10][0])[0]\n",
        "upper_exact25 = np.asarray(exact25_results[14:15][0])[0]"
      ],
      "execution_count": 90,
      "outputs": []
    },
    {
      "cell_type": "code",
      "metadata": {
        "id": "tcoCxQrvJhBi"
      },
      "source": [
        "# Iteration6 :\n",
        "\n",
        "slice6 = 5\n",
        "\n",
        "approx6 = [simple_regret_approx_1[slice6],\n",
        "       simple_regret_approx_2[slice6],\n",
        "       simple_regret_approx_3[slice6],\n",
        "       simple_regret_approx_4[slice6],\n",
        "       simple_regret_approx_5[slice6],\n",
        "       simple_regret_approx_6[slice6],\n",
        "       simple_regret_approx_7[slice6],\n",
        "       simple_regret_approx_8[slice6],\n",
        "       simple_regret_approx_9[slice6],\n",
        "       simple_regret_approx_10[slice6],\n",
        "       simple_regret_approx_11[slice6],\n",
        "       simple_regret_approx_12[slice6],\n",
        "       simple_regret_approx_13[slice6],\n",
        "       simple_regret_approx_14[slice6],\n",
        "       simple_regret_approx_15[slice6],\n",
        "       simple_regret_approx_16[slice6],\n",
        "       simple_regret_approx_17[slice6],\n",
        "       simple_regret_approx_18[slice6],\n",
        "       simple_regret_approx_19[slice6],\n",
        "       simple_regret_approx_20[slice6]]\n",
        "\n",
        "exact6 = [simple_regret_exact_1[slice6],\n",
        "       simple_regret_exact_2[slice6],\n",
        "       simple_regret_exact_3[slice6],\n",
        "       simple_regret_exact_4[slice6],\n",
        "       simple_regret_exact_5[slice6],\n",
        "       simple_regret_exact_6[slice6],\n",
        "       simple_regret_exact_7[slice6],\n",
        "       simple_regret_exact_8[slice6],\n",
        "       simple_regret_exact_9[slice6],\n",
        "       simple_regret_exact_10[slice6],\n",
        "       simple_regret_exact_11[slice6],\n",
        "       simple_regret_exact_12[slice6],\n",
        "       simple_regret_exact_13[slice6],\n",
        "       simple_regret_exact_14[slice6],\n",
        "       simple_regret_exact_15[slice6],\n",
        "       simple_regret_exact_16[slice6],\n",
        "       simple_regret_exact_17[slice6],\n",
        "       simple_regret_exact_18[slice6],\n",
        "       simple_regret_exact_19[slice6],\n",
        "       simple_regret_exact_20[slice6]]\n",
        "\n",
        "approx6_results = pd.DataFrame(approx6).sort_values(by=[0], ascending=False)\n",
        "exact6_results = pd.DataFrame(exact6).sort_values(by=[0], ascending=False)\n",
        "\n",
        "### Best simple regret minimization IQR - approx:\n",
        "lower_approx6 = np.asarray(approx6_results[4:5][0])[0]\n",
        "median_approx6 = np.asarray(approx6_results[9:10][0])[0]\n",
        "upper_approx6 = np.asarray(approx6_results[14:15][0])[0]\n",
        "\n",
        "lower_exact6 = np.asarray(exact6_results[4:5][0])[0]\n",
        "median_exact6 = np.asarray(exact6_results[9:10][0])[0]\n",
        "upper_exact6 = np.asarray(exact6_results[14:15][0])[0]"
      ],
      "execution_count": 91,
      "outputs": []
    },
    {
      "cell_type": "code",
      "metadata": {
        "id": "bM_uWU2HJhBi"
      },
      "source": [
        "# Iteration16 :\n",
        "\n",
        "slice16 = 15\n",
        "\n",
        "approx16 = [simple_regret_approx_1[slice16],\n",
        "       simple_regret_approx_2[slice16],\n",
        "       simple_regret_approx_3[slice16],\n",
        "       simple_regret_approx_4[slice16],\n",
        "       simple_regret_approx_5[slice16],\n",
        "       simple_regret_approx_6[slice16],\n",
        "       simple_regret_approx_7[slice16],\n",
        "       simple_regret_approx_8[slice16],\n",
        "       simple_regret_approx_9[slice16],\n",
        "       simple_regret_approx_10[slice16],\n",
        "       simple_regret_approx_11[slice16],\n",
        "       simple_regret_approx_12[slice16],\n",
        "       simple_regret_approx_13[slice16],\n",
        "       simple_regret_approx_14[slice16],\n",
        "       simple_regret_approx_15[slice16],\n",
        "       simple_regret_approx_16[slice16],\n",
        "       simple_regret_approx_17[slice16],\n",
        "       simple_regret_approx_18[slice16],\n",
        "       simple_regret_approx_19[slice16],\n",
        "       simple_regret_approx_20[slice16]]\n",
        "\n",
        "exact16 = [simple_regret_exact_1[slice16],\n",
        "       simple_regret_exact_2[slice16],\n",
        "       simple_regret_exact_3[slice16],\n",
        "       simple_regret_exact_4[slice16],\n",
        "       simple_regret_exact_5[slice16],\n",
        "       simple_regret_exact_6[slice16],\n",
        "       simple_regret_exact_7[slice16],\n",
        "       simple_regret_exact_8[slice16],\n",
        "       simple_regret_exact_9[slice16],\n",
        "       simple_regret_exact_10[slice16],\n",
        "       simple_regret_exact_11[slice16],\n",
        "       simple_regret_exact_12[slice16],\n",
        "       simple_regret_exact_13[slice16],\n",
        "       simple_regret_exact_14[slice16],\n",
        "       simple_regret_exact_15[slice16],\n",
        "       simple_regret_exact_16[slice16],\n",
        "       simple_regret_exact_17[slice16],\n",
        "       simple_regret_exact_18[slice16],\n",
        "       simple_regret_exact_19[slice16],\n",
        "       simple_regret_exact_20[slice16]]\n",
        "\n",
        "approx16_results = pd.DataFrame(approx16).sort_values(by=[0], ascending=False)\n",
        "exact16_results = pd.DataFrame(exact16).sort_values(by=[0], ascending=False)\n",
        "\n",
        "### Best simple regret minimization IQR - approx:\n",
        "lower_approx16 = np.asarray(approx16_results[4:5][0])[0]\n",
        "median_approx16 = np.asarray(approx16_results[9:10][0])[0]\n",
        "upper_approx16 = np.asarray(approx16_results[14:15][0])[0]\n",
        "\n",
        "lower_exact16 = np.asarray(exact16_results[4:5][0])[0]\n",
        "median_exact16 = np.asarray(exact16_results[9:10][0])[0]\n",
        "upper_exact16 = np.asarray(exact16_results[14:15][0])[0]"
      ],
      "execution_count": 92,
      "outputs": []
    },
    {
      "cell_type": "code",
      "metadata": {
        "id": "LJTTDX12cs-4"
      },
      "source": [
        "# Iteration26 :\n",
        "\n",
        "slice26 = 25\n",
        "\n",
        "approx26 = [simple_regret_approx_1[slice26],\n",
        "       simple_regret_approx_2[slice26],\n",
        "       simple_regret_approx_3[slice26],\n",
        "       simple_regret_approx_4[slice26],\n",
        "       simple_regret_approx_5[slice26],\n",
        "       simple_regret_approx_6[slice26],\n",
        "       simple_regret_approx_7[slice26],\n",
        "       simple_regret_approx_8[slice26],\n",
        "       simple_regret_approx_9[slice26],\n",
        "       simple_regret_approx_10[slice26],\n",
        "       simple_regret_approx_11[slice26],\n",
        "       simple_regret_approx_12[slice26],\n",
        "       simple_regret_approx_13[slice26],\n",
        "       simple_regret_approx_14[slice26],\n",
        "       simple_regret_approx_15[slice26],\n",
        "       simple_regret_approx_16[slice26],\n",
        "       simple_regret_approx_17[slice26],\n",
        "       simple_regret_approx_18[slice26],\n",
        "       simple_regret_approx_19[slice26],\n",
        "       simple_regret_approx_20[slice26]]\n",
        "\n",
        "exact26 = [simple_regret_exact_1[slice26],\n",
        "       simple_regret_exact_2[slice26],\n",
        "       simple_regret_exact_3[slice26],\n",
        "       simple_regret_exact_4[slice26],\n",
        "       simple_regret_exact_5[slice26],\n",
        "       simple_regret_exact_6[slice26],\n",
        "       simple_regret_exact_7[slice26],\n",
        "       simple_regret_exact_8[slice26],\n",
        "       simple_regret_exact_9[slice26],\n",
        "       simple_regret_exact_10[slice26],\n",
        "       simple_regret_exact_11[slice26],\n",
        "       simple_regret_exact_12[slice26],\n",
        "       simple_regret_exact_13[slice26],\n",
        "       simple_regret_exact_14[slice26],\n",
        "       simple_regret_exact_15[slice26],\n",
        "       simple_regret_exact_16[slice26],\n",
        "       simple_regret_exact_17[slice26],\n",
        "       simple_regret_exact_18[slice26],\n",
        "       simple_regret_exact_19[slice26],\n",
        "       simple_regret_exact_20[slice26]]\n",
        "\n",
        "approx26_results = pd.DataFrame(approx26).sort_values(by=[0], ascending=False)\n",
        "exact26_results = pd.DataFrame(exact26).sort_values(by=[0], ascending=False)\n",
        "\n",
        "### Best simple regret minimization IQR - approx:\n",
        "lower_approx26 = np.asarray(approx26_results[4:5][0])[0]\n",
        "median_approx26 = np.asarray(approx26_results[9:10][0])[0]\n",
        "upper_approx26 = np.asarray(approx26_results[14:15][0])[0]\n",
        "\n",
        "lower_exact26 = np.asarray(exact26_results[4:5][0])[0]\n",
        "median_exact26 = np.asarray(exact26_results[9:10][0])[0]\n",
        "upper_exact26 = np.asarray(exact26_results[14:15][0])[0]"
      ],
      "execution_count": 93,
      "outputs": []
    },
    {
      "cell_type": "code",
      "metadata": {
        "id": "e7_CnIe5JhBj"
      },
      "source": [
        "# Iteration7 :\n",
        "\n",
        "slice7 = 6\n",
        "\n",
        "approx7 = [simple_regret_approx_1[slice7],\n",
        "       simple_regret_approx_2[slice7],\n",
        "       simple_regret_approx_3[slice7],\n",
        "       simple_regret_approx_4[slice7],\n",
        "       simple_regret_approx_5[slice7],\n",
        "       simple_regret_approx_6[slice7],\n",
        "       simple_regret_approx_7[slice7],\n",
        "       simple_regret_approx_8[slice7],\n",
        "       simple_regret_approx_9[slice7],\n",
        "       simple_regret_approx_10[slice7],\n",
        "       simple_regret_approx_11[slice7],\n",
        "       simple_regret_approx_12[slice7],\n",
        "       simple_regret_approx_13[slice7],\n",
        "       simple_regret_approx_14[slice7],\n",
        "       simple_regret_approx_15[slice7],\n",
        "       simple_regret_approx_16[slice7],\n",
        "       simple_regret_approx_17[slice7],\n",
        "       simple_regret_approx_18[slice7],\n",
        "       simple_regret_approx_19[slice7],\n",
        "       simple_regret_approx_20[slice7]]\n",
        "\n",
        "exact7 = [simple_regret_exact_1[slice7],\n",
        "       simple_regret_exact_2[slice7],\n",
        "       simple_regret_exact_3[slice7],\n",
        "       simple_regret_exact_4[slice7],\n",
        "       simple_regret_exact_5[slice7],\n",
        "       simple_regret_exact_6[slice7],\n",
        "       simple_regret_exact_7[slice7],\n",
        "       simple_regret_exact_8[slice7],\n",
        "       simple_regret_exact_9[slice7],\n",
        "       simple_regret_exact_10[slice7],\n",
        "       simple_regret_exact_11[slice7],\n",
        "       simple_regret_exact_12[slice7],\n",
        "       simple_regret_exact_13[slice7],\n",
        "       simple_regret_exact_14[slice7],\n",
        "       simple_regret_exact_15[slice7],\n",
        "       simple_regret_exact_16[slice7],\n",
        "       simple_regret_exact_17[slice7],\n",
        "       simple_regret_exact_18[slice7],\n",
        "       simple_regret_exact_19[slice7],\n",
        "       simple_regret_exact_20[slice7]]\n",
        "\n",
        "approx7_results = pd.DataFrame(approx7).sort_values(by=[0], ascending=False)\n",
        "exact7_results = pd.DataFrame(exact7).sort_values(by=[0], ascending=False)\n",
        "\n",
        "### Best simple regret minimization IQR - approx:\n",
        "lower_approx7 = np.asarray(approx7_results[4:5][0])[0]\n",
        "median_approx7 = np.asarray(approx7_results[9:10][0])[0]\n",
        "upper_approx7 = np.asarray(approx7_results[14:15][0])[0]\n",
        "\n",
        "lower_exact7 = np.asarray(exact7_results[4:5][0])[0]\n",
        "median_exact7 = np.asarray(exact7_results[9:10][0])[0]\n",
        "upper_exact7 = np.asarray(exact7_results[14:15][0])[0]"
      ],
      "execution_count": 94,
      "outputs": []
    },
    {
      "cell_type": "code",
      "metadata": {
        "id": "GfheCfteJhBk"
      },
      "source": [
        "# Iteration17 :\n",
        "\n",
        "slice17 = 16\n",
        "\n",
        "approx17 = [simple_regret_approx_1[slice17],\n",
        "       simple_regret_approx_2[slice17],\n",
        "       simple_regret_approx_3[slice17],\n",
        "       simple_regret_approx_4[slice17],\n",
        "       simple_regret_approx_5[slice17],\n",
        "       simple_regret_approx_6[slice17],\n",
        "       simple_regret_approx_7[slice17],\n",
        "       simple_regret_approx_8[slice17],\n",
        "       simple_regret_approx_9[slice17],\n",
        "       simple_regret_approx_10[slice17],\n",
        "       simple_regret_approx_11[slice17],\n",
        "       simple_regret_approx_12[slice17],\n",
        "       simple_regret_approx_13[slice17],\n",
        "       simple_regret_approx_14[slice17],\n",
        "       simple_regret_approx_15[slice17],\n",
        "       simple_regret_approx_16[slice17],\n",
        "       simple_regret_approx_17[slice17],\n",
        "       simple_regret_approx_18[slice17],\n",
        "       simple_regret_approx_19[slice17],\n",
        "       simple_regret_approx_20[slice17]]\n",
        "\n",
        "exact17 = [simple_regret_exact_1[slice17],\n",
        "       simple_regret_exact_2[slice17],\n",
        "       simple_regret_exact_3[slice17],\n",
        "       simple_regret_exact_4[slice17],\n",
        "       simple_regret_exact_5[slice17],\n",
        "       simple_regret_exact_6[slice17],\n",
        "       simple_regret_exact_7[slice17],\n",
        "       simple_regret_exact_8[slice17],\n",
        "       simple_regret_exact_9[slice17],\n",
        "       simple_regret_exact_10[slice17],\n",
        "       simple_regret_exact_11[slice17],\n",
        "       simple_regret_exact_12[slice17],\n",
        "       simple_regret_exact_13[slice17],\n",
        "       simple_regret_exact_14[slice17],\n",
        "       simple_regret_exact_15[slice17],\n",
        "       simple_regret_exact_16[slice17],\n",
        "       simple_regret_exact_17[slice17],\n",
        "       simple_regret_exact_18[slice17],\n",
        "       simple_regret_exact_19[slice17],\n",
        "       simple_regret_exact_20[slice17]]\n",
        "\n",
        "approx17_results = pd.DataFrame(approx17).sort_values(by=[0], ascending=False)\n",
        "exact17_results = pd.DataFrame(exact17).sort_values(by=[0], ascending=False)\n",
        "\n",
        "### Best simple regret minimization IQR - approx:\n",
        "lower_approx17 = np.asarray(approx17_results[4:5][0])[0]\n",
        "median_approx17 = np.asarray(approx17_results[9:10][0])[0]\n",
        "upper_approx17 = np.asarray(approx17_results[14:15][0])[0]\n",
        "\n",
        "lower_exact17 = np.asarray(exact17_results[4:5][0])[0]\n",
        "median_exact17 = np.asarray(exact17_results[9:10][0])[0]\n",
        "upper_exact17 = np.asarray(exact17_results[14:15][0])[0]"
      ],
      "execution_count": 95,
      "outputs": []
    },
    {
      "cell_type": "code",
      "metadata": {
        "id": "qLNJO_U1dE_Q"
      },
      "source": [
        "# Iteration27 :\n",
        "\n",
        "slice27 = 26\n",
        "\n",
        "approx27 = [simple_regret_approx_1[slice27],\n",
        "       simple_regret_approx_2[slice27],\n",
        "       simple_regret_approx_3[slice27],\n",
        "       simple_regret_approx_4[slice27],\n",
        "       simple_regret_approx_5[slice27],\n",
        "       simple_regret_approx_6[slice27],\n",
        "       simple_regret_approx_7[slice27],\n",
        "       simple_regret_approx_8[slice27],\n",
        "       simple_regret_approx_9[slice27],\n",
        "       simple_regret_approx_10[slice27],\n",
        "       simple_regret_approx_11[slice27],\n",
        "       simple_regret_approx_12[slice27],\n",
        "       simple_regret_approx_13[slice27],\n",
        "       simple_regret_approx_14[slice27],\n",
        "       simple_regret_approx_15[slice27],\n",
        "       simple_regret_approx_16[slice27],\n",
        "       simple_regret_approx_17[slice27],\n",
        "       simple_regret_approx_18[slice27],\n",
        "       simple_regret_approx_19[slice27],\n",
        "       simple_regret_approx_20[slice27]]\n",
        "\n",
        "exact27 = [simple_regret_exact_1[slice27],\n",
        "       simple_regret_exact_2[slice27],\n",
        "       simple_regret_exact_3[slice27],\n",
        "       simple_regret_exact_4[slice27],\n",
        "       simple_regret_exact_5[slice27],\n",
        "       simple_regret_exact_6[slice27],\n",
        "       simple_regret_exact_7[slice27],\n",
        "       simple_regret_exact_8[slice27],\n",
        "       simple_regret_exact_9[slice27],\n",
        "       simple_regret_exact_10[slice27],\n",
        "       simple_regret_exact_11[slice27],\n",
        "       simple_regret_exact_12[slice27],\n",
        "       simple_regret_exact_13[slice27],\n",
        "       simple_regret_exact_14[slice27],\n",
        "       simple_regret_exact_15[slice27],\n",
        "       simple_regret_exact_16[slice27],\n",
        "       simple_regret_exact_17[slice27],\n",
        "       simple_regret_exact_18[slice27],\n",
        "       simple_regret_exact_19[slice27],\n",
        "       simple_regret_exact_20[slice27]]\n",
        "\n",
        "approx27_results = pd.DataFrame(approx27).sort_values(by=[0], ascending=False)\n",
        "exact27_results = pd.DataFrame(exact27).sort_values(by=[0], ascending=False)\n",
        "\n",
        "### Best simple regret minimization IQR - approx:\n",
        "lower_approx27 = np.asarray(approx27_results[4:5][0])[0]\n",
        "median_approx27 = np.asarray(approx27_results[9:10][0])[0]\n",
        "upper_approx27 = np.asarray(approx27_results[14:15][0])[0]\n",
        "\n",
        "lower_exact27 = np.asarray(exact27_results[4:5][0])[0]\n",
        "median_exact27 = np.asarray(exact27_results[9:10][0])[0]\n",
        "upper_exact27 = np.asarray(exact27_results[14:15][0])[0]"
      ],
      "execution_count": 96,
      "outputs": []
    },
    {
      "cell_type": "code",
      "metadata": {
        "id": "zOm21ADKJhBl"
      },
      "source": [
        "# Iteration8 :\n",
        "\n",
        "slice8 = 7\n",
        "\n",
        "approx8 = [simple_regret_approx_1[slice8],\n",
        "       simple_regret_approx_2[slice8],\n",
        "       simple_regret_approx_3[slice8],\n",
        "       simple_regret_approx_4[slice8],\n",
        "       simple_regret_approx_5[slice8],\n",
        "       simple_regret_approx_6[slice8],\n",
        "       simple_regret_approx_7[slice8],\n",
        "       simple_regret_approx_8[slice8],\n",
        "       simple_regret_approx_9[slice8],\n",
        "       simple_regret_approx_10[slice8],\n",
        "       simple_regret_approx_11[slice8],\n",
        "       simple_regret_approx_12[slice8],\n",
        "       simple_regret_approx_13[slice8],\n",
        "       simple_regret_approx_14[slice8],\n",
        "       simple_regret_approx_15[slice8],\n",
        "       simple_regret_approx_16[slice8],\n",
        "       simple_regret_approx_17[slice8],\n",
        "       simple_regret_approx_18[slice8],\n",
        "       simple_regret_approx_19[slice8],\n",
        "       simple_regret_approx_20[slice8]]\n",
        "\n",
        "exact8 = [simple_regret_exact_1[slice8],\n",
        "       simple_regret_exact_2[slice8],\n",
        "       simple_regret_exact_3[slice8],\n",
        "       simple_regret_exact_4[slice8],\n",
        "       simple_regret_exact_5[slice8],\n",
        "       simple_regret_exact_6[slice8],\n",
        "       simple_regret_exact_7[slice8],\n",
        "       simple_regret_exact_8[slice8],\n",
        "       simple_regret_exact_9[slice8],\n",
        "       simple_regret_exact_10[slice8],\n",
        "       simple_regret_exact_11[slice8],\n",
        "       simple_regret_exact_12[slice8],\n",
        "       simple_regret_exact_13[slice8],\n",
        "       simple_regret_exact_14[slice8],\n",
        "       simple_regret_exact_15[slice8],\n",
        "       simple_regret_exact_16[slice8],\n",
        "       simple_regret_exact_17[slice8],\n",
        "       simple_regret_exact_18[slice8],\n",
        "       simple_regret_exact_19[slice8],\n",
        "       simple_regret_exact_20[slice8]]\n",
        "\n",
        "approx8_results = pd.DataFrame(approx8).sort_values(by=[0], ascending=False)\n",
        "exact8_results = pd.DataFrame(exact8).sort_values(by=[0], ascending=False)\n",
        "\n",
        "### Best simple regret minimization IQR - approx:\n",
        "lower_approx8 = np.asarray(approx8_results[4:5][0])[0]\n",
        "median_approx8 = np.asarray(approx8_results[9:10][0])[0]\n",
        "upper_approx8 = np.asarray(approx8_results[14:15][0])[0]\n",
        "\n",
        "lower_exact8 = np.asarray(exact8_results[4:5][0])[0]\n",
        "median_exact8 = np.asarray(exact8_results[9:10][0])[0]\n",
        "upper_exact8 = np.asarray(exact8_results[14:15][0])[0]"
      ],
      "execution_count": 97,
      "outputs": []
    },
    {
      "cell_type": "code",
      "metadata": {
        "id": "230iMI5jJhBl"
      },
      "source": [
        "# Iteration18 :\n",
        "\n",
        "slice18 = 17\n",
        "\n",
        "approx18 = [simple_regret_approx_1[slice18],\n",
        "       simple_regret_approx_2[slice18],\n",
        "       simple_regret_approx_3[slice18],\n",
        "       simple_regret_approx_4[slice18],\n",
        "       simple_regret_approx_5[slice18],\n",
        "       simple_regret_approx_6[slice18],\n",
        "       simple_regret_approx_7[slice18],\n",
        "       simple_regret_approx_8[slice18],\n",
        "       simple_regret_approx_9[slice18],\n",
        "       simple_regret_approx_10[slice18],\n",
        "       simple_regret_approx_11[slice18],\n",
        "       simple_regret_approx_12[slice18],\n",
        "       simple_regret_approx_13[slice18],\n",
        "       simple_regret_approx_14[slice18],\n",
        "       simple_regret_approx_15[slice18],\n",
        "       simple_regret_approx_16[slice18],\n",
        "       simple_regret_approx_17[slice18],\n",
        "       simple_regret_approx_18[slice18],\n",
        "       simple_regret_approx_19[slice18],\n",
        "       simple_regret_approx_20[slice18]]\n",
        "\n",
        "exact18 = [simple_regret_exact_1[slice18],\n",
        "       simple_regret_exact_2[slice18],\n",
        "       simple_regret_exact_3[slice18],\n",
        "       simple_regret_exact_4[slice18],\n",
        "       simple_regret_exact_5[slice18],\n",
        "       simple_regret_exact_6[slice18],\n",
        "       simple_regret_exact_7[slice18],\n",
        "       simple_regret_exact_8[slice18],\n",
        "       simple_regret_exact_9[slice18],\n",
        "       simple_regret_exact_10[slice18],\n",
        "       simple_regret_exact_11[slice18],\n",
        "       simple_regret_exact_12[slice18],\n",
        "       simple_regret_exact_13[slice18],\n",
        "       simple_regret_exact_14[slice18],\n",
        "       simple_regret_exact_15[slice18],\n",
        "       simple_regret_exact_16[slice18],\n",
        "       simple_regret_exact_17[slice18],\n",
        "       simple_regret_exact_18[slice18],\n",
        "       simple_regret_exact_19[slice18],\n",
        "       simple_regret_exact_20[slice18]]\n",
        "\n",
        "approx18_results = pd.DataFrame(approx18).sort_values(by=[0], ascending=False)\n",
        "exact18_results = pd.DataFrame(exact18).sort_values(by=[0], ascending=False)\n",
        "\n",
        "### Best simple regret minimization IQR - approx:\n",
        "lower_approx18 = np.asarray(approx18_results[4:5][0])[0]\n",
        "median_approx18 = np.asarray(approx18_results[9:10][0])[0]\n",
        "upper_approx18 = np.asarray(approx18_results[14:15][0])[0]\n",
        "\n",
        "lower_exact18 = np.asarray(exact18_results[4:5][0])[0]\n",
        "median_exact18 = np.asarray(exact18_results[9:10][0])[0]\n",
        "upper_exact18 = np.asarray(exact18_results[14:15][0])[0]"
      ],
      "execution_count": 98,
      "outputs": []
    },
    {
      "cell_type": "code",
      "metadata": {
        "id": "5KUd4afKdgT6"
      },
      "source": [
        "# Iteration28 :\n",
        "\n",
        "slice28 = 27\n",
        "\n",
        "approx28 = [simple_regret_approx_1[slice28],\n",
        "       simple_regret_approx_2[slice28],\n",
        "       simple_regret_approx_3[slice28],\n",
        "       simple_regret_approx_4[slice28],\n",
        "       simple_regret_approx_5[slice28],\n",
        "       simple_regret_approx_6[slice28],\n",
        "       simple_regret_approx_7[slice28],\n",
        "       simple_regret_approx_8[slice28],\n",
        "       simple_regret_approx_9[slice28],\n",
        "       simple_regret_approx_10[slice28],\n",
        "       simple_regret_approx_11[slice28],\n",
        "       simple_regret_approx_12[slice28],\n",
        "       simple_regret_approx_13[slice28],\n",
        "       simple_regret_approx_14[slice28],\n",
        "       simple_regret_approx_15[slice28],\n",
        "       simple_regret_approx_16[slice28],\n",
        "       simple_regret_approx_17[slice28],\n",
        "       simple_regret_approx_18[slice28],\n",
        "       simple_regret_approx_19[slice28],\n",
        "       simple_regret_approx_20[slice28]]\n",
        "\n",
        "exact28 = [simple_regret_exact_1[slice28],\n",
        "       simple_regret_exact_2[slice28],\n",
        "       simple_regret_exact_3[slice28],\n",
        "       simple_regret_exact_4[slice28],\n",
        "       simple_regret_exact_5[slice28],\n",
        "       simple_regret_exact_6[slice28],\n",
        "       simple_regret_exact_7[slice28],\n",
        "       simple_regret_exact_8[slice28],\n",
        "       simple_regret_exact_9[slice28],\n",
        "       simple_regret_exact_10[slice28],\n",
        "       simple_regret_exact_11[slice28],\n",
        "       simple_regret_exact_12[slice28],\n",
        "       simple_regret_exact_13[slice28],\n",
        "       simple_regret_exact_14[slice28],\n",
        "       simple_regret_exact_15[slice28],\n",
        "       simple_regret_exact_16[slice28],\n",
        "       simple_regret_exact_17[slice28],\n",
        "       simple_regret_exact_18[slice28],\n",
        "       simple_regret_exact_19[slice28],\n",
        "       simple_regret_exact_20[slice28]]\n",
        "\n",
        "approx28_results = pd.DataFrame(approx28).sort_values(by=[0], ascending=False)\n",
        "exact28_results = pd.DataFrame(exact28).sort_values(by=[0], ascending=False)\n",
        "\n",
        "### Best simple regret minimization IQR - approx:\n",
        "lower_approx28 = np.asarray(approx28_results[4:5][0])[0]\n",
        "median_approx28 = np.asarray(approx28_results[9:10][0])[0]\n",
        "upper_approx28 = np.asarray(approx28_results[14:15][0])[0]\n",
        "\n",
        "lower_exact28 = np.asarray(exact28_results[4:5][0])[0]\n",
        "median_exact28 = np.asarray(exact28_results[9:10][0])[0]\n",
        "upper_exact28 = np.asarray(exact28_results[14:15][0])[0]"
      ],
      "execution_count": 99,
      "outputs": []
    },
    {
      "cell_type": "code",
      "metadata": {
        "id": "AR2mg161JhBm"
      },
      "source": [
        "# Iteration9 :\n",
        "\n",
        "slice9 = 8\n",
        "\n",
        "approx9 = [simple_regret_approx_1[slice9],\n",
        "       simple_regret_approx_2[slice9],\n",
        "       simple_regret_approx_3[slice9],\n",
        "       simple_regret_approx_4[slice9],\n",
        "       simple_regret_approx_5[slice9],\n",
        "       simple_regret_approx_6[slice9],\n",
        "       simple_regret_approx_7[slice9],\n",
        "       simple_regret_approx_8[slice9],\n",
        "       simple_regret_approx_9[slice9],\n",
        "       simple_regret_approx_10[slice9],\n",
        "       simple_regret_approx_11[slice9],\n",
        "       simple_regret_approx_12[slice9],\n",
        "       simple_regret_approx_13[slice9],\n",
        "       simple_regret_approx_14[slice9],\n",
        "       simple_regret_approx_15[slice9],\n",
        "       simple_regret_approx_16[slice9],\n",
        "       simple_regret_approx_17[slice9],\n",
        "       simple_regret_approx_18[slice9],\n",
        "       simple_regret_approx_19[slice9],\n",
        "       simple_regret_approx_20[slice9]]\n",
        "\n",
        "exact9 = [simple_regret_exact_1[slice9],\n",
        "       simple_regret_exact_2[slice9],\n",
        "       simple_regret_exact_3[slice9],\n",
        "       simple_regret_exact_4[slice9],\n",
        "       simple_regret_exact_5[slice9],\n",
        "       simple_regret_exact_6[slice9],\n",
        "       simple_regret_exact_7[slice9],\n",
        "       simple_regret_exact_8[slice9],\n",
        "       simple_regret_exact_9[slice9],\n",
        "       simple_regret_exact_10[slice9],\n",
        "       simple_regret_exact_11[slice9],\n",
        "       simple_regret_exact_12[slice9],\n",
        "       simple_regret_exact_13[slice9],\n",
        "       simple_regret_exact_14[slice9],\n",
        "       simple_regret_exact_15[slice9],\n",
        "       simple_regret_exact_16[slice9],\n",
        "       simple_regret_exact_17[slice9],\n",
        "       simple_regret_exact_18[slice9],\n",
        "       simple_regret_exact_19[slice9],\n",
        "       simple_regret_exact_20[slice9]]\n",
        "\n",
        "approx9_results = pd.DataFrame(approx9).sort_values(by=[0], ascending=False)\n",
        "exact9_results = pd.DataFrame(exact9).sort_values(by=[0], ascending=False)\n",
        "\n",
        "### Best simple regret minimization IQR - approx:\n",
        "lower_approx9 = np.asarray(approx9_results[4:5][0])[0]\n",
        "median_approx9 = np.asarray(approx9_results[9:10][0])[0]\n",
        "upper_approx9 = np.asarray(approx9_results[14:15][0])[0]\n",
        "\n",
        "lower_exact9 = np.asarray(exact9_results[4:5][0])[0]\n",
        "median_exact9 = np.asarray(exact9_results[9:10][0])[0]\n",
        "upper_exact9 = np.asarray(exact9_results[14:15][0])[0]"
      ],
      "execution_count": 100,
      "outputs": []
    },
    {
      "cell_type": "code",
      "metadata": {
        "id": "sAYcBTpTJhBp"
      },
      "source": [
        "# Iteration19 :\n",
        "\n",
        "slice19 = 18\n",
        "\n",
        "approx19 = [simple_regret_approx_1[slice19],\n",
        "       simple_regret_approx_2[slice19],\n",
        "       simple_regret_approx_3[slice19],\n",
        "       simple_regret_approx_4[slice19],\n",
        "       simple_regret_approx_5[slice19],\n",
        "       simple_regret_approx_6[slice19],\n",
        "       simple_regret_approx_7[slice19],\n",
        "       simple_regret_approx_8[slice19],\n",
        "       simple_regret_approx_9[slice19],\n",
        "       simple_regret_approx_10[slice19],\n",
        "       simple_regret_approx_11[slice19],\n",
        "       simple_regret_approx_12[slice19],\n",
        "       simple_regret_approx_13[slice19],\n",
        "       simple_regret_approx_14[slice19],\n",
        "       simple_regret_approx_15[slice19],\n",
        "       simple_regret_approx_16[slice19],\n",
        "       simple_regret_approx_17[slice19],\n",
        "       simple_regret_approx_18[slice19],\n",
        "       simple_regret_approx_19[slice19],\n",
        "       simple_regret_approx_20[slice19]]\n",
        "\n",
        "exact19 = [simple_regret_exact_1[slice19],\n",
        "       simple_regret_exact_2[slice19],\n",
        "       simple_regret_exact_3[slice19],\n",
        "       simple_regret_exact_4[slice19],\n",
        "       simple_regret_exact_5[slice19],\n",
        "       simple_regret_exact_6[slice19],\n",
        "       simple_regret_exact_7[slice19],\n",
        "       simple_regret_exact_8[slice19],\n",
        "       simple_regret_exact_9[slice19],\n",
        "       simple_regret_exact_10[slice19],\n",
        "       simple_regret_exact_11[slice19],\n",
        "       simple_regret_exact_12[slice19],\n",
        "       simple_regret_exact_13[slice19],\n",
        "       simple_regret_exact_14[slice19],\n",
        "       simple_regret_exact_15[slice19],\n",
        "       simple_regret_exact_16[slice19],\n",
        "       simple_regret_exact_17[slice19],\n",
        "       simple_regret_exact_18[slice19],\n",
        "       simple_regret_exact_19[slice19],\n",
        "       simple_regret_exact_20[slice19]]\n",
        "\n",
        "approx19_results = pd.DataFrame(approx19).sort_values(by=[0], ascending=False)\n",
        "exact19_results = pd.DataFrame(exact19).sort_values(by=[0], ascending=False)\n",
        "\n",
        "### Best simple regret minimization IQR - approx:\n",
        "lower_approx19 = np.asarray(approx19_results[4:5][0])[0]\n",
        "median_approx19 = np.asarray(approx19_results[9:10][0])[0]\n",
        "upper_approx19 = np.asarray(approx19_results[14:15][0])[0]\n",
        "\n",
        "lower_exact19 = np.asarray(exact19_results[4:5][0])[0]\n",
        "median_exact19 = np.asarray(exact19_results[9:10][0])[0]\n",
        "upper_exact19 = np.asarray(exact19_results[14:15][0])[0]"
      ],
      "execution_count": 101,
      "outputs": []
    },
    {
      "cell_type": "code",
      "metadata": {
        "id": "yyESs9KHd1vl"
      },
      "source": [
        "# Iteration29 :\n",
        "\n",
        "slice29 = 28\n",
        "\n",
        "approx29 = [simple_regret_approx_1[slice29],\n",
        "       simple_regret_approx_2[slice29],\n",
        "       simple_regret_approx_3[slice29],\n",
        "       simple_regret_approx_4[slice29],\n",
        "       simple_regret_approx_5[slice29],\n",
        "       simple_regret_approx_6[slice29],\n",
        "       simple_regret_approx_7[slice29],\n",
        "       simple_regret_approx_8[slice29],\n",
        "       simple_regret_approx_9[slice29],\n",
        "       simple_regret_approx_10[slice29],\n",
        "       simple_regret_approx_11[slice29],\n",
        "       simple_regret_approx_12[slice29],\n",
        "       simple_regret_approx_13[slice29],\n",
        "       simple_regret_approx_14[slice29],\n",
        "       simple_regret_approx_15[slice29],\n",
        "       simple_regret_approx_16[slice29],\n",
        "       simple_regret_approx_17[slice29],\n",
        "       simple_regret_approx_18[slice29],\n",
        "       simple_regret_approx_19[slice29],\n",
        "       simple_regret_approx_20[slice29]]\n",
        "\n",
        "exact29 = [simple_regret_exact_1[slice29],\n",
        "       simple_regret_exact_2[slice29],\n",
        "       simple_regret_exact_3[slice29],\n",
        "       simple_regret_exact_4[slice29],\n",
        "       simple_regret_exact_5[slice29],\n",
        "       simple_regret_exact_6[slice29],\n",
        "       simple_regret_exact_7[slice29],\n",
        "       simple_regret_exact_8[slice29],\n",
        "       simple_regret_exact_9[slice29],\n",
        "       simple_regret_exact_10[slice29],\n",
        "       simple_regret_exact_11[slice29],\n",
        "       simple_regret_exact_12[slice29],\n",
        "       simple_regret_exact_13[slice29],\n",
        "       simple_regret_exact_14[slice29],\n",
        "       simple_regret_exact_15[slice29],\n",
        "       simple_regret_exact_16[slice29],\n",
        "       simple_regret_exact_17[slice29],\n",
        "       simple_regret_exact_18[slice29],\n",
        "       simple_regret_exact_19[slice29],\n",
        "       simple_regret_exact_20[slice29]]\n",
        "\n",
        "approx29_results = pd.DataFrame(approx29).sort_values(by=[0], ascending=False)\n",
        "exact29_results = pd.DataFrame(exact29).sort_values(by=[0], ascending=False)\n",
        "\n",
        "### Best simple regret minimization IQR - approx:\n",
        "lower_approx29 = np.asarray(approx29_results[4:5][0])[0]\n",
        "median_approx29 = np.asarray(approx29_results[9:10][0])[0]\n",
        "upper_approx29 = np.asarray(approx29_results[14:15][0])[0]\n",
        "\n",
        "lower_exact29 = np.asarray(exact29_results[4:5][0])[0]\n",
        "median_exact29 = np.asarray(exact29_results[9:10][0])[0]\n",
        "upper_exact29 = np.asarray(exact29_results[14:15][0])[0]"
      ],
      "execution_count": 102,
      "outputs": []
    },
    {
      "cell_type": "code",
      "metadata": {
        "id": "WWSn_TIsJhBq"
      },
      "source": [
        "# Iteration10 :\n",
        "\n",
        "slice10 = 9\n",
        "\n",
        "approx10 = [simple_regret_approx_1[slice10],\n",
        "       simple_regret_approx_2[slice10],\n",
        "       simple_regret_approx_3[slice10],\n",
        "       simple_regret_approx_4[slice10],\n",
        "       simple_regret_approx_5[slice10],\n",
        "       simple_regret_approx_6[slice10],\n",
        "       simple_regret_approx_7[slice10],\n",
        "       simple_regret_approx_8[slice10],\n",
        "       simple_regret_approx_9[slice10],\n",
        "       simple_regret_approx_10[slice10],\n",
        "       simple_regret_approx_11[slice10],\n",
        "       simple_regret_approx_12[slice10],\n",
        "       simple_regret_approx_13[slice10],\n",
        "       simple_regret_approx_14[slice10],\n",
        "       simple_regret_approx_15[slice10],\n",
        "       simple_regret_approx_16[slice10],\n",
        "       simple_regret_approx_17[slice10],\n",
        "       simple_regret_approx_18[slice10],\n",
        "       simple_regret_approx_19[slice10],\n",
        "       simple_regret_approx_20[slice10]]\n",
        "\n",
        "exact10 = [simple_regret_exact_1[slice10],\n",
        "       simple_regret_exact_2[slice10],\n",
        "       simple_regret_exact_3[slice10],\n",
        "       simple_regret_exact_4[slice10],\n",
        "       simple_regret_exact_5[slice10],\n",
        "       simple_regret_exact_6[slice10],\n",
        "       simple_regret_exact_7[slice10],\n",
        "       simple_regret_exact_8[slice10],\n",
        "       simple_regret_exact_9[slice10],\n",
        "       simple_regret_exact_10[slice10],\n",
        "       simple_regret_exact_11[slice10],\n",
        "       simple_regret_exact_12[slice10],\n",
        "       simple_regret_exact_13[slice10],\n",
        "       simple_regret_exact_14[slice10],\n",
        "       simple_regret_exact_15[slice10],\n",
        "       simple_regret_exact_16[slice10],\n",
        "       simple_regret_exact_17[slice10],\n",
        "       simple_regret_exact_18[slice10],\n",
        "       simple_regret_exact_19[slice10],\n",
        "       simple_regret_exact_20[slice10]]\n",
        "\n",
        "approx10_results = pd.DataFrame(approx10).sort_values(by=[0], ascending=False)\n",
        "exact10_results = pd.DataFrame(exact10).sort_values(by=[0], ascending=False)\n",
        "\n",
        "### Best simple regret minimization IQR - approx:\n",
        "lower_approx10 = np.asarray(approx10_results[4:5][0])[0]\n",
        "median_approx10 = np.asarray(approx10_results[9:10][0])[0]\n",
        "upper_approx10 = np.asarray(approx10_results[14:15][0])[0]\n",
        "\n",
        "lower_exact10 = np.asarray(exact10_results[4:5][0])[0]\n",
        "median_exact10 = np.asarray(exact10_results[9:10][0])[0]\n",
        "upper_exact10 = np.asarray(exact10_results[14:15][0])[0]"
      ],
      "execution_count": 103,
      "outputs": []
    },
    {
      "cell_type": "code",
      "metadata": {
        "id": "sMLjJRd5JhBq"
      },
      "source": [
        "# Iteration20 :\n",
        "\n",
        "slice20 = 19\n",
        "\n",
        "approx20 = [simple_regret_approx_1[slice20],\n",
        "       simple_regret_approx_2[slice20],\n",
        "       simple_regret_approx_3[slice20],\n",
        "       simple_regret_approx_4[slice20],\n",
        "       simple_regret_approx_5[slice20],\n",
        "       simple_regret_approx_6[slice20],\n",
        "       simple_regret_approx_7[slice20],\n",
        "       simple_regret_approx_8[slice20],\n",
        "       simple_regret_approx_9[slice20],\n",
        "       simple_regret_approx_10[slice20],\n",
        "       simple_regret_approx_11[slice20],\n",
        "       simple_regret_approx_12[slice20],\n",
        "       simple_regret_approx_13[slice20],\n",
        "       simple_regret_approx_14[slice20],\n",
        "       simple_regret_approx_15[slice20],\n",
        "       simple_regret_approx_16[slice20],\n",
        "       simple_regret_approx_17[slice20],\n",
        "       simple_regret_approx_18[slice20],\n",
        "       simple_regret_approx_19[slice20],\n",
        "       simple_regret_approx_20[slice20]]\n",
        "\n",
        "exact20 = [simple_regret_exact_1[slice20],\n",
        "       simple_regret_exact_2[slice20],\n",
        "       simple_regret_exact_3[slice20],\n",
        "       simple_regret_exact_4[slice20],\n",
        "       simple_regret_exact_5[slice20],\n",
        "       simple_regret_exact_6[slice20],\n",
        "       simple_regret_exact_7[slice20],\n",
        "       simple_regret_exact_8[slice20],\n",
        "       simple_regret_exact_9[slice20],\n",
        "       simple_regret_exact_10[slice20],\n",
        "       simple_regret_exact_11[slice20],\n",
        "       simple_regret_exact_12[slice20],\n",
        "       simple_regret_exact_13[slice20],\n",
        "       simple_regret_exact_14[slice20],\n",
        "       simple_regret_exact_15[slice20],\n",
        "       simple_regret_exact_16[slice20],\n",
        "       simple_regret_exact_17[slice20],\n",
        "       simple_regret_exact_18[slice20],\n",
        "       simple_regret_exact_19[slice20],\n",
        "       simple_regret_exact_20[slice20]]\n",
        "\n",
        "approx20_results = pd.DataFrame(approx20).sort_values(by=[0], ascending=False)\n",
        "exact20_results = pd.DataFrame(exact20).sort_values(by=[0], ascending=False)\n",
        "\n",
        "### Best simple regret minimization IQR - approx:\n",
        "lower_approx20 = np.asarray(approx20_results[4:5][0])[0]\n",
        "median_approx20 = np.asarray(approx20_results[9:10][0])[0]\n",
        "upper_approx20 = np.asarray(approx20_results[14:15][0])[0]\n",
        "\n",
        "lower_exact20 = np.asarray(exact20_results[4:5][0])[0]\n",
        "median_exact20 = np.asarray(exact20_results[9:10][0])[0]\n",
        "upper_exact20 = np.asarray(exact20_results[14:15][0])[0]"
      ],
      "execution_count": 104,
      "outputs": []
    },
    {
      "cell_type": "code",
      "metadata": {
        "id": "M0j8Qyp-eKu_"
      },
      "source": [
        "# Iteration30 :\n",
        "\n",
        "slice30 = 29\n",
        "\n",
        "approx30 = [simple_regret_approx_1[slice30],\n",
        "       simple_regret_approx_2[slice30],\n",
        "       simple_regret_approx_3[slice30],\n",
        "       simple_regret_approx_4[slice30],\n",
        "       simple_regret_approx_5[slice30],\n",
        "       simple_regret_approx_6[slice30],\n",
        "       simple_regret_approx_7[slice30],\n",
        "       simple_regret_approx_8[slice30],\n",
        "       simple_regret_approx_9[slice30],\n",
        "       simple_regret_approx_10[slice30],\n",
        "       simple_regret_approx_11[slice30],\n",
        "       simple_regret_approx_12[slice30],\n",
        "       simple_regret_approx_13[slice30],\n",
        "       simple_regret_approx_14[slice30],\n",
        "       simple_regret_approx_15[slice30],\n",
        "       simple_regret_approx_16[slice30],\n",
        "       simple_regret_approx_17[slice30],\n",
        "       simple_regret_approx_18[slice30],\n",
        "       simple_regret_approx_19[slice30],\n",
        "       simple_regret_approx_20[slice30]]\n",
        "\n",
        "exact30 = [simple_regret_exact_1[slice30],\n",
        "       simple_regret_exact_2[slice30],\n",
        "       simple_regret_exact_3[slice30],\n",
        "       simple_regret_exact_4[slice30],\n",
        "       simple_regret_exact_5[slice30],\n",
        "       simple_regret_exact_6[slice30],\n",
        "       simple_regret_exact_7[slice30],\n",
        "       simple_regret_exact_8[slice30],\n",
        "       simple_regret_exact_9[slice30],\n",
        "       simple_regret_exact_10[slice30],\n",
        "       simple_regret_exact_11[slice30],\n",
        "       simple_regret_exact_12[slice30],\n",
        "       simple_regret_exact_13[slice30],\n",
        "       simple_regret_exact_14[slice30],\n",
        "       simple_regret_exact_15[slice30],\n",
        "       simple_regret_exact_16[slice30],\n",
        "       simple_regret_exact_17[slice30],\n",
        "       simple_regret_exact_18[slice30],\n",
        "       simple_regret_exact_19[slice30],\n",
        "       simple_regret_exact_20[slice30]]\n",
        "\n",
        "approx30_results = pd.DataFrame(approx30).sort_values(by=[0], ascending=False)\n",
        "exact30_results = pd.DataFrame(exact30).sort_values(by=[0], ascending=False)\n",
        "\n",
        "### Best simple regret minimization IQR - approx:\n",
        "lower_approx30 = np.asarray(approx30_results[4:5][0])[0]\n",
        "median_approx30 = np.asarray(approx30_results[9:10][0])[0]\n",
        "upper_approx30 = np.asarray(approx30_results[14:15][0])[0]\n",
        "\n",
        "lower_exact30 = np.asarray(exact30_results[4:5][0])[0]\n",
        "median_exact30 = np.asarray(exact30_results[9:10][0])[0]\n",
        "upper_exact30 = np.asarray(exact30_results[14:15][0])[0]"
      ],
      "execution_count": 105,
      "outputs": []
    },
    {
      "cell_type": "code",
      "metadata": {
        "id": "N-MMOUFcJhBr"
      },
      "source": [
        "### Summarize arrays: 'Loser'\n",
        "\n",
        "lower_approx = [lower_approx1,\n",
        "            lower_approx2,\n",
        "            lower_approx3,\n",
        "            lower_approx4,\n",
        "            lower_approx5,\n",
        "            lower_approx6,\n",
        "            lower_approx7,\n",
        "            lower_approx8,\n",
        "            lower_approx9,\n",
        "            lower_approx10,\n",
        "            lower_approx11,\n",
        "            lower_approx12,\n",
        "            lower_approx13,\n",
        "            lower_approx14,\n",
        "            lower_approx15,\n",
        "            lower_approx16,\n",
        "            lower_approx17,\n",
        "            lower_approx18,\n",
        "            lower_approx19,\n",
        "            lower_approx20,\n",
        "            lower_approx21,\n",
        "            lower_approx22,\n",
        "            lower_approx23,\n",
        "            lower_approx24,\n",
        "            lower_approx25,\n",
        "            lower_approx26,\n",
        "            lower_approx27,\n",
        "            lower_approx28,\n",
        "            lower_approx29,\n",
        "            lower_approx30,\n",
        "            lower_approx31]\n",
        "\n",
        "median_approx = [median_approx1,\n",
        "            median_approx2,\n",
        "            median_approx3,\n",
        "            median_approx4,\n",
        "            median_approx5,\n",
        "            median_approx6,\n",
        "            median_approx7,\n",
        "            median_approx8,\n",
        "            median_approx9,\n",
        "            median_approx10,\n",
        "            median_approx11,\n",
        "            median_approx12,\n",
        "            median_approx13,\n",
        "            median_approx14,\n",
        "            median_approx15,\n",
        "            median_approx16,\n",
        "            median_approx17,\n",
        "            median_approx18,\n",
        "            median_approx19,\n",
        "            median_approx20,\n",
        "            median_approx21,\n",
        "            median_approx22,\n",
        "            median_approx23,\n",
        "            median_approx24,\n",
        "            median_approx25,\n",
        "            median_approx26,\n",
        "            median_approx27,\n",
        "            median_approx28,\n",
        "            median_approx29,\n",
        "            median_approx30,\n",
        "            median_approx31]\n",
        "\n",
        "upper_approx = [upper_approx1,\n",
        "            upper_approx2,\n",
        "            upper_approx3,\n",
        "            upper_approx4,\n",
        "            upper_approx5,\n",
        "            upper_approx6,\n",
        "            upper_approx7,\n",
        "            upper_approx8,\n",
        "            upper_approx9,\n",
        "            upper_approx10,\n",
        "            upper_approx11,\n",
        "            upper_approx12,\n",
        "            upper_approx13,\n",
        "            upper_approx14,\n",
        "            upper_approx15,\n",
        "            upper_approx16,\n",
        "            upper_approx17,\n",
        "            upper_approx18,\n",
        "            upper_approx19,\n",
        "            upper_approx20,\n",
        "            upper_approx21,\n",
        "            upper_approx22,\n",
        "            upper_approx23,\n",
        "            upper_approx24,\n",
        "            upper_approx25,\n",
        "            upper_approx26,\n",
        "            upper_approx27,\n",
        "            upper_approx28,\n",
        "            upper_approx29,\n",
        "            upper_approx30,\n",
        "            upper_approx31]"
      ],
      "execution_count": 106,
      "outputs": []
    },
    {
      "cell_type": "code",
      "metadata": {
        "id": "XdKURkqUJhBs"
      },
      "source": [
        "### Summarize arrays: 'exact'\n",
        "\n",
        "lower_exact = [lower_exact1,\n",
        "            lower_exact2,\n",
        "            lower_exact3,\n",
        "            lower_exact4,\n",
        "            lower_exact5,\n",
        "            lower_exact6,\n",
        "            lower_exact7,\n",
        "            lower_exact8,\n",
        "            lower_exact9,\n",
        "            lower_exact10,\n",
        "            lower_exact11,\n",
        "            lower_exact12,\n",
        "            lower_exact13,\n",
        "            lower_exact14,\n",
        "            lower_exact15,\n",
        "            lower_exact16,\n",
        "            lower_exact17,\n",
        "            lower_exact18,\n",
        "            lower_exact19,\n",
        "            lower_exact20,\n",
        "            lower_exact21,\n",
        "            lower_exact22,\n",
        "            lower_exact23,\n",
        "            lower_exact24,\n",
        "            lower_exact25,\n",
        "            lower_exact26,\n",
        "            lower_exact27,\n",
        "            lower_exact28,\n",
        "            lower_exact29,\n",
        "            lower_exact30,\n",
        "            lower_exact31]\n",
        "\n",
        "median_exact = [median_exact1,\n",
        "            median_exact2,\n",
        "            median_exact3,\n",
        "            median_exact4,\n",
        "            median_exact5,\n",
        "            median_exact6,\n",
        "            median_exact7,\n",
        "            median_exact8,\n",
        "            median_exact9,\n",
        "            median_exact10,\n",
        "            median_exact11,\n",
        "            median_exact12,\n",
        "            median_exact13,\n",
        "            median_exact14,\n",
        "            median_exact15,\n",
        "            median_exact16,\n",
        "            median_exact17,\n",
        "            median_exact18,\n",
        "            median_exact19,\n",
        "            median_exact20,\n",
        "            median_exact21,\n",
        "            median_exact22,\n",
        "            median_exact23,\n",
        "            median_exact24,\n",
        "            median_exact25,\n",
        "            median_exact26,\n",
        "            median_exact27,\n",
        "            median_exact28,\n",
        "            median_exact29,\n",
        "            median_exact30,\n",
        "            median_exact31]\n",
        "\n",
        "upper_exact = [upper_exact1,\n",
        "            upper_exact2,\n",
        "            upper_exact3,\n",
        "            upper_exact4,\n",
        "            upper_exact5,\n",
        "            upper_exact6,\n",
        "            upper_exact7,\n",
        "            upper_exact8,\n",
        "            upper_exact9,\n",
        "            upper_exact10,\n",
        "            upper_exact11,\n",
        "            upper_exact12,\n",
        "            upper_exact13,\n",
        "            upper_exact14,\n",
        "            upper_exact15,\n",
        "            upper_exact16,\n",
        "            upper_exact17,\n",
        "            upper_exact18,\n",
        "            upper_exact19,\n",
        "            upper_exact20,\n",
        "            upper_exact21,\n",
        "            upper_exact22,\n",
        "            upper_exact23,\n",
        "            upper_exact24,\n",
        "            upper_exact25,\n",
        "            upper_exact26,\n",
        "            upper_exact27,\n",
        "            upper_exact28,\n",
        "            upper_exact29,\n",
        "            upper_exact30,\n",
        "            upper_exact31]"
      ],
      "execution_count": 107,
      "outputs": []
    },
    {
      "cell_type": "code",
      "metadata": {
        "colab": {
          "base_uri": "https://localhost:8080/",
          "height": 299
        },
        "id": "OQ_7LazBYVn0",
        "outputId": "5b0f9566-b8cb-47d7-8ab7-121f76675f79"
      },
      "source": [
        "### Visualise!\n",
        "\n",
        "title = func\n",
        "plt.figure()\n",
        "\n",
        "plt.plot(median_approx, color = 'Purple')\n",
        "plt.plot(median_exact, color = 'Orange')\n",
        "\n",
        "xstar = np.arange(0, iters+1, step=1)\n",
        "plt.fill_between(xstar, lower_approx, upper_approx, facecolor = 'Purple', alpha=0.4, label='GP CBM Optimization: Approx GP CBM gradients')\n",
        "plt.fill_between(xstar, lower_exact, upper_exact, facecolor = 'Orange', alpha=0.4, label='GP CBM Optimization: Exact GP dCBM gradients')\n",
        "\n",
        "plt.title(title, weight = 'bold')\n",
        "plt.xlabel('(Post-initialization) iteration $\\it{k}$', weight = 'bold')\n",
        "plt.ylabel('log(Regret)', weight = 'bold') \n",
        "plt.legend(loc=1) # add plot legend\n",
        "\n",
        "### Make the x-ticks integers, not floats:\n",
        "count = len(xstar)\n",
        "plt.xticks(np.arange(0, count, 5))\n",
        "plt.show() #visualise!"
      ],
      "execution_count": 108,
      "outputs": [
        {
          "output_type": "display_data",
          "data": {
            "image/png": "[encoded data removed]",
            "text/plain": [
              "<Figure size 432x288 with 1 Axes>"
            ]
          },
          "metadata": {
            "needs_background": "light"
          }
        }
      ]
    },
    {
      "cell_type": "code",
      "metadata": {
        "colab": {
          "base_uri": "https://localhost:8080/"
        },
        "id": "dShUk8k1YVn0",
        "outputId": "33da6058-3f17-40a2-e4f8-68d69c41aa64"
      },
      "source": [
        "time_approx, time_exact\n"
      ],
      "execution_count": 109,
      "outputs": [
        {
          "output_type": "execute_result",
          "data": {
            "text/plain": [
              "(382.3956894874573, 1692.3833870887756)"
            ]
          },
          "metadata": {},
          "execution_count": 109
        }
      ]
    },
    {
      "cell_type": "code",
      "source": [
        "exact31_results, exact31_results[19:20].index[0]\n"
      ],
      "metadata": {
        "colab": {
          "base_uri": "https://localhost:8080/"
        },
        "id": "0i4IbAcyB7-l",
        "outputId": "6245852c-3a37-4a20-ebb5-b9f16fcc0768"
      },
      "execution_count": 110,
      "outputs": [
        {
          "output_type": "execute_result",
          "data": {
            "text/plain": [
              "(           0\n",
              " 19  6.397407\n",
              " 4   6.349636\n",
              " 5   6.209024\n",
              " 14  6.145461\n",
              " 7   6.076398\n",
              " 0   5.944783\n",
              " 3   5.614169\n",
              " 2   5.482337\n",
              " 9   5.132713\n",
              " 18  4.696150\n",
              " 8   4.676834\n",
              " 11  4.634920\n",
              " 13  4.590252\n",
              " 6   4.573613\n",
              " 10  4.384526\n",
              " 16  4.260814\n",
              " 1   4.181604\n",
              " 15  3.628993\n",
              " 12  3.498804\n",
              " 17  1.842626, 17)"
            ]
          },
          "metadata": {},
          "execution_count": 110
        }
      ]
    },
    {
      "cell_type": "code",
      "source": [
        "str_exact = str(exact31_results[19:20].index[0]+1)\n",
        "str_exact"
      ],
      "metadata": {
        "colab": {
          "base_uri": "https://localhost:8080/",
          "height": 35
        },
        "id": "12lIvjCoBr7y",
        "outputId": "4f486c30-0e72-464b-cf55-72cd2bad9322"
      },
      "execution_count": 111,
      "outputs": [
        {
          "output_type": "execute_result",
          "data": {
            "application/vnd.google.colaboratory.intrinsic+json": {
              "type": "string"
            },
            "text/plain": [
              "'18'"
            ]
          },
          "metadata": {},
          "execution_count": 111
        }
      ]
    },
    {
      "cell_type": "code",
      "source": [
        "eval_exactMinIQR_vsCorrApproxExperiment = eval('approx_' + str_exact)\n",
        "eval_exactMinIQR_vsCorrApproxExperiment_minAcqFunc = eval_exactMinIQR_vsCorrApproxExperiment.history[eval_exactMinIQR_vsCorrApproxExperiment.history.index(eval_exactMinIQR_vsCorrApproxExperiment.tau)-1]\n",
        "eval_exactMinIQR_vsCorrApproxExperiment_simpleRegret = np.log(-eval_exactMinIQR_vsCorrApproxExperiment.tau + y_global_orig)\n",
        "\n",
        "eval_exactMinIQR_vsCorrApproxExperiment.tau, eval_exactMinIQR_vsCorrApproxExperiment_minAcqFunc, eval_exactMinIQR_vsCorrApproxExperiment_simpleRegret\n"
      ],
      "metadata": {
        "colab": {
          "base_uri": "https://localhost:8080/"
        },
        "id": "O3sQFv0hpuNI",
        "outputId": "4d76cc7e-a936-43d6-d150-e30806fb4fe5"
      },
      "execution_count": 112,
      "outputs": [
        {
          "output_type": "execute_result",
          "data": {
            "text/plain": [
              "(-32.4878069678712, -2.449489957269904, 3.4808648487223905)"
            ]
          },
          "metadata": {},
          "execution_count": 112
        }
      ]
    },
    {
      "cell_type": "code",
      "source": [
        "### Final iteration: best \"approx\" experiment results (as above)\n",
        "\n",
        "np.random.seed(int(str_exact))\n",
        "eval_exactMinIQR_vsCorrApproxExperiment.run(init_evals=n_init, max_iter=iters)\n"
      ],
      "metadata": {
        "id": "DKvmmlRoTnvC",
        "colab": {
          "base_uri": "https://localhost:8080/"
        },
        "outputId": "3fe1c09f-e9d2-4ac2-b1c9-6cea6ef38182"
      },
      "execution_count": 113,
      "outputs": [
        {
          "output_type": "stream",
          "name": "stdout",
          "text": [
            "Evaluation \t Proposed point \t  Current eval. \t  Best eval. \t         Max AcqFunc.\n",
            "init\t [3.00748483 0.10906747 7.57202942]\t -39395.322047969305\t -27664.83628190573\t    \n",
            "init\t [-6.36319549  7.04466137  5.00272572]\t -27913.961335277138\t -27664.83628190573\t    \n",
            "init\t [ 3.32203335  9.75790897 -4.86063155]\t -74244.15287271979\t -27664.83628190573\t    \n",
            "init\t [-9.43388149  2.71438231  6.94624775]\t -27664.83628190573\t -27664.83628190573\t    \n",
            "init\t [ 4.7234925  -9.58385776 -7.76793739]\t -114986.86534587143\t -27664.83628190573\t    \n",
            "\u001b[1m\u001b[92m1\u001b[0m\t \u001b[1m\u001b[92m[-3.60627759 -4.12128051 -3.96163645]\u001b[0m\t \u001b[1m\u001b[92m-6628.123996844119\u001b[0m\t \u001b[1m\u001b[92m-6628.123996844119\u001b[0m\t \u001b[1m\u001b[92m-2.4494900512168254\u001b[0m\n",
            "2  \t [5.67048604 7.63464912 6.38781301]\t -41038.069289207284\t -6628.123996844119\t -2.4494900512168254\n",
            "\u001b[1m\u001b[92m3\u001b[0m\t \u001b[1m\u001b[92m[ 8.98418483 -5.51984113  1.59973658]\u001b[0m\t \u001b[1m\u001b[92m-5801.508998849156\u001b[0m\t \u001b[1m\u001b[92m-5801.508998849156\u001b[0m\t \u001b[1m\u001b[92m-2.4494900512168254\u001b[0m\n",
            "4  \t [-9.82664426 -9.19265651  7.01964259]\t -98908.14619333696\t -5801.508998849156\t -2.4494900512168254\n",
            "5  \t [ 5.61099687  3.24280582 -9.3946128 ]\t -90569.20808162971\t -5801.508998849156\t -2.4494900512168254\n",
            "6  \t [-8.41638891  3.62928904 -8.37899504]\t -58636.25217955298\t -5801.508998849156\t -2.4494900512168254\n",
            "7  \t [4.76859313 6.53506599 3.93926051]\t -14822.442752768635\t -5801.508998849156\t -2.4494900512168254\n",
            "\u001b[1m\u001b[92m8\u001b[0m\t \u001b[1m\u001b[92m[-2.48970949 -2.08372282  3.35998783]\u001b[0m\t \u001b[1m\u001b[92m-2086.6278426367617\u001b[0m\t \u001b[1m\u001b[92m-2086.6278426367617\u001b[0m\t \u001b[1m\u001b[92m-2.4494900512168254\u001b[0m\n",
            "9  \t [ 10. -10.  10.]\t -204581.0\t -2086.6278426367617\t -2.4494900512168254\n",
            "10 \t [-10. -10. -10.]\t -220621.0\t -2086.6278426367617\t -2.4494900512168254\n",
            "11 \t [ 1.25118837 -9.83776577  5.34103365]\t -87391.17353637467\t -2086.6278426367617\t -2.4494900512168134\n",
            "12 \t [-4.74409325  9.6660462  -2.60459944]\t -73506.67877916363\t -2086.6278426367617\t -2.449490051162333\n",
            "13 \t [ 9.33197039 -3.0654831  -6.27616745]\t -20344.818102039768\t -2086.6278426367617\t -2.4494900501501404\n",
            "\u001b[1m\u001b[92m14\u001b[0m\t \u001b[1m\u001b[92m[ 6.57635151  1.69482794 -0.9051947 ]\u001b[0m\t \u001b[1m\u001b[92m-32.4878069678712\u001b[0m\t \u001b[1m\u001b[92m-32.4878069678712\u001b[0m\t \u001b[1m\u001b[92m-2.449489957269904\u001b[0m\n",
            "15 \t [ 10.  10. -10.]\t -180581.0\t -32.4878069678712\t -2.449490050902133\n",
            "16 \t [-9.42592623 -4.04478437 -0.1929319 ]\t -3712.2569125854898\t -32.4878069678712\t -2.449489930839245\n",
            "17 \t [-1.08625363  4.18333996  0.26296217]\t -2657.9711449377596\t -32.4878069678712\t -2.4494897976197567\n",
            "18 \t [-5.07433423 -9.72898178  0.18401387]\t -75892.3869297386\t -32.4878069678712\t -2.4494900071161076\n",
            "19 \t [-0.33935855 10.          9.03018913]\t -150581.89836085314\t -32.4878069678712\t -2.449489505013287\n",
            "20 \t [ -2.52014465  10.         -10.        ]\t -190341.20940017726\t -32.4878069678712\t -2.4494900447483245\n",
            "21 \t [ 2.95303674 -3.28276823 -0.84216068]\t -762.0465278657464\t -32.4878069678712\t -2.4494897681409604\n",
            "22 \t [-5.26627073 -2.63601527 10.        ]\t -123957.80382695743\t -32.4878069678712\t -2.4494900327188134\n",
            "23 \t [-10.  10.  10.]\t -196621.0\t -32.4878069678712\t -2.449489152644059\n",
            "24 \t [-7.3219826   2.31031684 -0.41216998]\t -728.6965488471252\t -32.4878069678712\t -2.4494890007803773\n",
            "25 \t [ 1.72678464 -2.19871603 -7.31861314]\t -35981.17408295852\t -32.4878069678712\t -2.4494900512168254\n",
            "26 \t [ -1.97717129 -10.         -10.        ]\t -213898.41899630363\t -32.4878069678712\t -2.449489272924823\n",
            "27 \t [ 9.24774036  7.99293519 -1.71511777]\t -28178.338201144834\t -32.4878069678712\t -2.4494887203061526\n",
            "28 \t [-10.          -2.94705479  -6.59722376]\t -25915.902628780794\t -32.4878069678712\t -2.449488213170872\n",
            "29 \t [ 8.87101665 -2.66332653  9.92697504]\t -119822.23912981607\t -32.4878069678712\t -2.4494890382727688\n",
            "30 \t [9.67468203 1.2300553  4.13591513]\t -3427.002627787612\t -32.4878069678712\t -2.449488479090719\n"
          ]
        }
      ]
    },
    {
      "cell_type": "code",
      "source": [
        "eval_exactMinIQR = eval('exact_' + str_exact)\n",
        "eval_exactMinIQR_minAcqFunc = eval_exactMinIQR.history[eval_exactMinIQR.history.index(eval_exactMinIQR.tau)-1]\n",
        "eval_exactMinIQR_simpleRegret  = np.log(-eval_exactMinIQR.tau + y_global_orig)\n",
        "\n",
        "eval_exactMinIQR.tau, eval_exactMinIQR_minAcqFunc, eval_exactMinIQR_simpleRegret\n"
      ],
      "metadata": {
        "colab": {
          "base_uri": "https://localhost:8080/"
        },
        "id": "M4bxQTTWCXFZ",
        "outputId": "34006be0-15eb-46ad-f9b5-b8f7320e5496"
      },
      "execution_count": 114,
      "outputs": [
        {
          "output_type": "execute_result",
          "data": {
            "text/plain": [
              "(-6.3130950253689395, -2.4494835467618015, 1.8426260516037318)"
            ]
          },
          "metadata": {},
          "execution_count": 114
        }
      ]
    },
    {
      "cell_type": "code",
      "source": [
        "### Final iteration: best \"exact\" experiment results (as above)\n",
        "\n",
        "np.random.seed(int(str_exact))\n",
        "eval_exactMinIQR.run(init_evals=n_init, max_iter=iters)\n"
      ],
      "metadata": {
        "colab": {
          "base_uri": "https://localhost:8080/"
        },
        "id": "WeKb1o143nLW",
        "outputId": "e6df9c2a-429a-4fe9-f216-32953e33aef0"
      },
      "execution_count": 115,
      "outputs": [
        {
          "output_type": "stream",
          "name": "stdout",
          "text": [
            "Evaluation \t Proposed point \t  Current eval. \t  Best eval. \t         Max AcqFunc.\n",
            "init\t [3.00748483 0.10906747 7.57202942]\t -39395.322047969305\t -27664.83628190573\t    \n",
            "init\t [-6.36319549  7.04466137  5.00272572]\t -27913.961335277138\t -27664.83628190573\t    \n",
            "init\t [ 3.32203335  9.75790897 -4.86063155]\t -74244.15287271979\t -27664.83628190573\t    \n",
            "init\t [-9.43388149  2.71438231  6.94624775]\t -27664.83628190573\t -27664.83628190573\t    \n",
            "init\t [ 4.7234925  -9.58385776 -7.76793739]\t -114986.86534587143\t -27664.83628190573\t    \n",
            "\u001b[1m\u001b[92m1\u001b[0m\t \u001b[1m\u001b[92m[-3.60627759 -4.12128051 -3.96163645]\u001b[0m\t \u001b[1m\u001b[92m-6628.123996844119\u001b[0m\t \u001b[1m\u001b[92m-6628.123996844119\u001b[0m\t \u001b[1m\u001b[92m-2.449489748092488\u001b[0m\n",
            "2  \t [ 6.31975365  3.18761398 -5.14286127]\t -7833.7930593098545\t -6628.123996844119\t -2.449489748092488\n",
            "\u001b[1m\u001b[92m3\u001b[0m\t \u001b[1m\u001b[92m[ 8.98418483 -5.51984113  1.59973658]\u001b[0m\t \u001b[1m\u001b[92m-5801.508998849156\u001b[0m\t \u001b[1m\u001b[92m-5801.508998849156\u001b[0m\t \u001b[1m\u001b[92m-2.449489748092488\u001b[0m\n",
            "4  \t [-9.82664426 -9.19265651  7.01964259]\t -98908.14619333696\t -5801.508998849156\t -2.449489748092488\n",
            "5  \t [ 9.64278327 -8.01514669  8.76537572]\t -106741.78906814221\t -5801.508998849156\t -2.449489748092488\n",
            "6  \t [10. 10. 10.]\t -180581.0\t -5801.508998849156\t -2.449489748092488\n",
            "7  \t [4.76859313 6.53506599 3.93926051]\t -14822.442752768635\t -5801.508998849156\t -2.449489748092488\n",
            "8  \t [ 1.54007968 -2.49510305  7.62800693]\t -42627.25456372583\t -5801.508998849156\t -2.449489748092488\n",
            "9  \t [-10. -10. -10.]\t -220621.0\t -5801.508998849156\t -2.449489748092488\n",
            "10 \t [-7.8288346   4.63366488 -9.94486376]\t -117173.67246254408\t -5801.508998849156\t -2.449489748092488\n",
            "11 \t [ 1.25118837 -9.83776577  5.34103365]\t -87391.17353637467\t -5801.508998849156\t -2.449489745174494\n",
            "12 \t [-4.74409325  9.6660462  -2.60459944]\t -73506.67877916363\t -5801.508998849156\t -2.4494897480380167\n",
            "13 \t [-10.         -10.          -1.27387811]\t -88847.33226362774\t -5801.508998849156\t -2.449489748048506\n",
            "\u001b[1m\u001b[92m14\u001b[0m\t \u001b[1m\u001b[92m[-9.51759739  2.95862134 -1.42089742]\u001b[0m\t \u001b[1m\u001b[92m-1574.759184067274\u001b[0m\t \u001b[1m\u001b[92m-1574.759184067274\u001b[0m\t \u001b[1m\u001b[92m-2.449489748023508\u001b[0m\n",
            "15 \t [-1.02841292 10.         10.        ]\t -189128.96005988002\t -1574.759184067274\t -2.449489747650432\n",
            "16 \t [-0.70785873  3.26218305 -6.39763047]\t -19502.71653107923\t -1574.759184067274\t -2.449489711796699\n",
            "\u001b[1m\u001b[92m17\u001b[0m\t \u001b[1m\u001b[92m[-3.11151369  1.43288172  0.3657291 ]\u001b[0m\t \u001b[1m\u001b[92m-125.17245031394503\u001b[0m\t \u001b[1m\u001b[92m-125.17245031394503\u001b[0m\t \u001b[1m\u001b[92m-2.4494896244878506\u001b[0m\n",
            "18 \t [10.          1.09409759  2.34165268]\t -489.1027843307611\t -125.17245031394503\t -2.4494893303566276\n",
            "19 \t [9.92061934 2.26093077 8.72274783]\t -67500.34010287443\t -125.17245031394503\t -2.449489524760907\n",
            "20 \t [ 9.43419314  8.84848633 -1.39422812]\t -43455.46173412186\t -125.17245031394503\t -2.4494892725900415\n",
            "21 \t [-6.5970982  -2.98926167  3.14083934]\t -2803.5874300821724\t -125.17245031394503\t -2.4494895583016203\n",
            "22 \t [ 2.02967376 -5.21873814 -0.60470756]\t -5607.34177524741\t -125.17245031394503\t -2.4494889035827687\n",
            "23 \t [ -4.11552733  -6.0687024  -10.        ]\t -139516.6346191412\t -125.17245031394503\t -2.4494829940196454\n",
            "24 \t [ 6.21006004 -2.47051876 -9.03274795]\t -82420.41724652423\t -125.17245031394503\t -2.449489434720321\n",
            "25 \t [ 1.72678464 -2.19871603 -7.31861314]\t -35981.17408295852\t -125.17245031394503\t -2.449489748092488\n",
            "26 \t [-10.          -3.46850926  -2.13702243]\t -2917.7681096240835\t -125.17245031394503\t -2.4494683959018864\n",
            "\u001b[1m\u001b[92m27\u001b[0m\t \u001b[1m\u001b[92m[3.05510907 1.0092523  0.73658409]\u001b[0m\t \u001b[1m\u001b[92m-6.3130950253689395\u001b[0m\t \u001b[1m\u001b[92m-6.3130950253689395\u001b[0m\t \u001b[1m\u001b[92m-2.4494835467618015\u001b[0m\n",
            "28 \t [-4.57197013 -5.97114446  9.71063395]\t -125112.34320347085\t -6.3130950253689395\t -2.449482248785085\n",
            "29 \t [-2.56008251  3.12970457  8.55153604]\t -62450.665055280464\t -6.3130950253689395\t -2.4494563339298963\n",
            "30 \t [-10.          -1.4254068   -8.33131918]\t -59524.370140115585\t -6.3130950253689395\t -2.4494727935874896\n"
          ]
        }
      ]
    },
    {
      "cell_type": "code",
      "source": [
        "eval_exactMinIQR.tau > eval_exactMinIQR_vsCorrApproxExperiment.tau # Exact gradients' model: y-value is greater"
      ],
      "metadata": {
        "colab": {
          "base_uri": "https://localhost:8080/"
        },
        "id": "RRSEL9F33mw_",
        "outputId": "cdfbb194-d636-499a-eff8-9cba7e48877a"
      },
      "execution_count": 116,
      "outputs": [
        {
          "output_type": "execute_result",
          "data": {
            "text/plain": [
              "True"
            ]
          },
          "metadata": {},
          "execution_count": 116
        }
      ]
    },
    {
      "cell_type": "code",
      "source": [
        "eval_exactMinIQR_minAcqFunc > eval_exactMinIQR_vsCorrApproxExperiment_minAcqFunc # Exact gradients' model: best AcqFunc is greater\n"
      ],
      "metadata": {
        "colab": {
          "base_uri": "https://localhost:8080/"
        },
        "id": "srZDKNlWGaUp",
        "outputId": "a8d8a93f-3b55-45f7-e0b9-4954c2e72b34"
      },
      "execution_count": 117,
      "outputs": [
        {
          "output_type": "execute_result",
          "data": {
            "text/plain": [
              "True"
            ]
          },
          "metadata": {},
          "execution_count": 117
        }
      ]
    },
    {
      "cell_type": "code",
      "source": [
        "eval_exactMinIQR_simpleRegret < eval_exactMinIQR_vsCorrApproxExperiment_simpleRegret # Exact gradients' model: simple regret's natural log is lower\n"
      ],
      "metadata": {
        "colab": {
          "base_uri": "https://localhost:8080/"
        },
        "id": "TYkP-rneGab3",
        "outputId": "64660a22-d093-42c5-b4b9-a42ed3573460"
      },
      "execution_count": 118,
      "outputs": [
        {
          "output_type": "execute_result",
          "data": {
            "text/plain": [
              "True"
            ]
          },
          "metadata": {},
          "execution_count": 118
        }
      ]
    },
    {
      "cell_type": "code",
      "source": [
        ""
      ],
      "metadata": {
        "id": "10rcQ55YGajh"
      },
      "execution_count": 118,
      "outputs": []
    }
  ]
}