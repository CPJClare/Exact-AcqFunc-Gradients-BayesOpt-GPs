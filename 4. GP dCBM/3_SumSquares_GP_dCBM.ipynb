{
  "cells": [
    {
      "cell_type": "markdown",
      "metadata": {
        "id": "Dqn4dFx7Z2Ir"
      },
      "source": [
        "\n",
        "SumSquares: 2D\n"
      ]
    },
    {
      "cell_type": "code",
      "execution_count": 1,
      "metadata": {
        "colab": {
          "base_uri": "https://localhost:8080/"
        },
        "id": "MJTM_GZZZb5x",
        "outputId": "32ff1094-2823-4399-f93e-4aa7996f350f"
      },
      "outputs": [
        {
          "output_type": "stream",
          "name": "stdout",
          "text": [
            "Looking in indexes: https://pypi.org/simple, https://us-python.pkg.dev/colab-wheels/public/simple/\n",
            "Collecting pyGPGO\n",
            "  Downloading pyGPGO-0.5.1.tar.gz (14 kB)\n",
            "Requirement already satisfied: numpy in /usr/local/lib/python3.7/dist-packages (from pyGPGO) (1.21.6)\n",
            "Requirement already satisfied: mkl in /usr/local/lib/python3.7/dist-packages (from pyGPGO) (2019.0)\n",
            "Requirement already satisfied: scipy in /usr/local/lib/python3.7/dist-packages (from pyGPGO) (1.7.3)\n",
            "Requirement already satisfied: joblib in /usr/local/lib/python3.7/dist-packages (from pyGPGO) (1.1.0)\n",
            "Requirement already satisfied: scikit-learn in /usr/local/lib/python3.7/dist-packages (from pyGPGO) (1.0.2)\n",
            "Requirement already satisfied: Theano-PyMC in /usr/local/lib/python3.7/dist-packages (from pyGPGO) (1.1.2)\n",
            "Requirement already satisfied: pyMC3 in /usr/local/lib/python3.7/dist-packages (from pyGPGO) (3.11.5)\n",
            "Requirement already satisfied: intel-openmp in /usr/local/lib/python3.7/dist-packages (from mkl->pyGPGO) (2022.1.0)\n",
            "Requirement already satisfied: pandas>=0.24.0 in /usr/local/lib/python3.7/dist-packages (from pyMC3->pyGPGO) (1.3.5)\n",
            "Requirement already satisfied: semver>=2.13.0 in /usr/local/lib/python3.7/dist-packages (from pyMC3->pyGPGO) (2.13.0)\n",
            "Requirement already satisfied: fastprogress>=0.2.0 in /usr/local/lib/python3.7/dist-packages (from pyMC3->pyGPGO) (1.0.3)\n",
            "Requirement already satisfied: deprecat in /usr/local/lib/python3.7/dist-packages (from pyMC3->pyGPGO) (2.1.1)\n",
            "Requirement already satisfied: patsy>=0.5.1 in /usr/local/lib/python3.7/dist-packages (from pyMC3->pyGPGO) (0.5.2)\n",
            "Requirement already satisfied: typing-extensions>=3.7.4 in /usr/local/lib/python3.7/dist-packages (from pyMC3->pyGPGO) (4.1.1)\n",
            "Requirement already satisfied: arviz>=0.11.0 in /usr/local/lib/python3.7/dist-packages (from pyMC3->pyGPGO) (0.12.1)\n",
            "Requirement already satisfied: dill in /usr/local/lib/python3.7/dist-packages (from pyMC3->pyGPGO) (0.3.5.1)\n",
            "Requirement already satisfied: cachetools>=4.2.1 in /usr/local/lib/python3.7/dist-packages (from pyMC3->pyGPGO) (4.2.4)\n",
            "Requirement already satisfied: filelock in /usr/local/lib/python3.7/dist-packages (from Theano-PyMC->pyGPGO) (3.7.1)\n",
            "Requirement already satisfied: netcdf4 in /usr/local/lib/python3.7/dist-packages (from arviz>=0.11.0->pyMC3->pyGPGO) (1.6.0)\n",
            "Requirement already satisfied: xarray-einstats>=0.2 in /usr/local/lib/python3.7/dist-packages (from arviz>=0.11.0->pyMC3->pyGPGO) (0.2.2)\n",
            "Requirement already satisfied: xarray>=0.16.1 in /usr/local/lib/python3.7/dist-packages (from arviz>=0.11.0->pyMC3->pyGPGO) (0.20.2)\n",
            "Requirement already satisfied: packaging in /usr/local/lib/python3.7/dist-packages (from arviz>=0.11.0->pyMC3->pyGPGO) (21.3)\n",
            "Requirement already satisfied: matplotlib>=3.0 in /usr/local/lib/python3.7/dist-packages (from arviz>=0.11.0->pyMC3->pyGPGO) (3.2.2)\n",
            "Requirement already satisfied: setuptools>=38.4 in /usr/local/lib/python3.7/dist-packages (from arviz>=0.11.0->pyMC3->pyGPGO) (57.4.0)\n",
            "Requirement already satisfied: kiwisolver>=1.0.1 in /usr/local/lib/python3.7/dist-packages (from matplotlib>=3.0->arviz>=0.11.0->pyMC3->pyGPGO) (1.4.4)\n",
            "Requirement already satisfied: cycler>=0.10 in /usr/local/lib/python3.7/dist-packages (from matplotlib>=3.0->arviz>=0.11.0->pyMC3->pyGPGO) (0.11.0)\n",
            "Requirement already satisfied: pyparsing!=2.0.4,!=2.1.2,!=2.1.6,>=2.0.1 in /usr/local/lib/python3.7/dist-packages (from matplotlib>=3.0->arviz>=0.11.0->pyMC3->pyGPGO) (3.0.9)\n",
            "Requirement already satisfied: python-dateutil>=2.1 in /usr/local/lib/python3.7/dist-packages (from matplotlib>=3.0->arviz>=0.11.0->pyMC3->pyGPGO) (2.8.2)\n",
            "Requirement already satisfied: pytz>=2017.3 in /usr/local/lib/python3.7/dist-packages (from pandas>=0.24.0->pyMC3->pyGPGO) (2022.1)\n",
            "Requirement already satisfied: six in /usr/local/lib/python3.7/dist-packages (from patsy>=0.5.1->pyMC3->pyGPGO) (1.15.0)\n",
            "Requirement already satisfied: importlib-metadata in /usr/local/lib/python3.7/dist-packages (from xarray>=0.16.1->arviz>=0.11.0->pyMC3->pyGPGO) (4.12.0)\n",
            "Requirement already satisfied: wrapt<2,>=1.10 in /usr/local/lib/python3.7/dist-packages (from deprecat->pyMC3->pyGPGO) (1.14.1)\n",
            "Requirement already satisfied: zipp>=0.5 in /usr/local/lib/python3.7/dist-packages (from importlib-metadata->xarray>=0.16.1->arviz>=0.11.0->pyMC3->pyGPGO) (3.8.1)\n",
            "Requirement already satisfied: cftime in /usr/local/lib/python3.7/dist-packages (from netcdf4->arviz>=0.11.0->pyMC3->pyGPGO) (1.6.1)\n",
            "Requirement already satisfied: threadpoolctl>=2.0.0 in /usr/local/lib/python3.7/dist-packages (from scikit-learn->pyGPGO) (3.1.0)\n",
            "Building wheels for collected packages: pyGPGO\n",
            "  Building wheel for pyGPGO (setup.py) ... \u001b[?25l\u001b[?25hdone\n",
            "  Created wheel for pyGPGO: filename=pyGPGO-0.5.1-py3-none-any.whl size=19879 sha256=a9a1d9b52a40ff43158c239773c94c77becd1800f13e6d48d408be660950086f\n",
            "  Stored in directory: /root/.cache/pip/wheels/c8/5d/0b/2160114e2f1b87791c51b66cf07f89831dbb6f49167950316f\n",
            "Successfully built pyGPGO\n",
            "Installing collected packages: pyGPGO\n",
            "Successfully installed pyGPGO-0.5.1\n"
          ]
        }
      ],
      "source": [
        "pip install pyGPGO\n"
      ]
    },
    {
      "cell_type": "code",
      "execution_count": 2,
      "metadata": {
        "id": "ZJSSPbwPaEUB"
      },
      "outputs": [],
      "source": [
        "### Import:\n",
        "\n",
        "import numpy as np\n",
        "import scipy as sp\n",
        "import pandas as pd\n",
        "import matplotlib.pyplot as plt\n",
        "import warnings\n",
        "import itertools\n",
        "\n",
        "from pyGPGO.GPGO import GPGO\n",
        "from pyGPGO.surrogates.GaussianProcess import GaussianProcess\n",
        "from pyGPGO.acquisition import Acquisition\n",
        "from pyGPGO.covfunc import squaredExponential\n",
        "\n",
        "from joblib import Parallel, delayed\n",
        "from numpy.linalg import solve, cholesky\n",
        "from scipy.spatial.distance import cdist\n",
        "from scipy.optimize import minimize\n",
        "from scipy.stats import norm\n",
        "import time\n",
        "\n",
        "warnings.filterwarnings(\"ignore\", category=RuntimeWarning)\n"
      ]
    },
    {
      "cell_type": "code",
      "execution_count": 3,
      "metadata": {
        "id": "OeYcTUNoaJWa"
      },
      "outputs": [],
      "source": [
        "### Inputs:\n",
        "\n",
        "func = 'SumSquares'\n",
        "n_test = 500\n",
        "eps = 1e-08\n",
        "\n",
        "util = 'CBM'\n",
        "\n",
        "n_init = 5 # random initialisations\n",
        "iters = 20\n",
        "opt = True"
      ]
    },
    {
      "cell_type": "code",
      "execution_count": 4,
      "metadata": {
        "id": "xpaEOjdzaPMS"
      },
      "outputs": [],
      "source": [
        "### Objective Function - Sum Squares(x) 2-D:\n",
        "\n",
        "def objfunc(x1_training, x2_training):\n",
        "            return  operator * (  1 * x1_training ** 2\n",
        "                            + 2 * x2_training ** 2\n",
        "                            )\n",
        "        \n",
        "# Constraints:\n",
        "lb = -5.12\n",
        "ub = +5.12\n",
        "    \n",
        "# Input array dimension(s):\n",
        "dim = 2\n",
        "\n",
        "# 2-D inputs' parameter bounds:\n",
        "param = {'x1_training': ('cont', [lb, ub]),\n",
        "                 'x2_training': ('cont', [lb, ub])\n",
        "                 }\n",
        "    \n",
        "# True y bounds:\n",
        "y_lb = 0\n",
        "operator = -1 # targets global minimum \n",
        "y_global_orig = y_lb * operator # targets global minimum\n",
        "    \n",
        "# Test data:\n",
        "x1_test = np.linspace(lb, ub, n_test)\n",
        "x2_test = np.linspace(lb, ub, n_test)\n",
        "x_test = np.column_stack((x1_test, x2_test))\n"
      ]
    },
    {
      "cell_type": "code",
      "execution_count": 5,
      "metadata": {
        "id": "eYpI3Zm4aGxi"
      },
      "outputs": [],
      "source": [
        "n_start_AcqFunc = iters\n",
        "inverse = -1\n"
      ]
    },
    {
      "cell_type": "code",
      "execution_count": 6,
      "metadata": {
        "id": "oO_GUmOoaV0T"
      },
      "outputs": [],
      "source": [
        "### Cumulative Regret Calculators:\n",
        "\n",
        "def min_max_array(x):\n",
        "    new_list = []\n",
        "    for i, num in enumerate(x):\n",
        "            new_list.append(np.min(x[0:i+1]))\n",
        "    return new_list\n",
        "  \n",
        "def acqFuncExact(x):\n",
        "    new_array = []\n",
        "    x = np.array(x) \n",
        "    for i, num in enumerate(x):\n",
        "            new_array = x[:-2][::-3]\n",
        "    return new_array[::-1]\n",
        "\n",
        "def acqFuncApprox(x):\n",
        "    new_array = []\n",
        "    x = np.array(x) \n",
        "    for i, num in enumerate(x):\n",
        "            new_array = x[:-1][::-3]\n",
        "    return new_array[::-1]\n"
      ]
    },
    {
      "cell_type": "code",
      "execution_count": 7,
      "metadata": {
        "id": "kuuJx0IMam9S"
      },
      "outputs": [],
      "source": [
        "### Surrogate derivatives: \n",
        "\n",
        "cov_func = squaredExponential()\n",
        "\n",
        "def kronDelta(X, Xstar):                     # Kronecker's Delta method\n",
        "    return cdist(X, Xstar) < np.finfo(np.float32).eps\n",
        "\n",
        "def se(X, Xstar, sigmaf, l, sigman):         # S.E. kernel method\n",
        "    return sigmaf * np.exp(-0.5 * cdist(X, Xstar) ** 2 / l ** 2) + sigman * kronDelta(X, Xstar)\n",
        "\n",
        "def delta(X, Xstar):                         # Distance between training X and test Xstar vectors\n",
        "    return (X - Xstar)\n",
        "   \n",
        "def der_covmat(X, Xstar, sigmaf, l, sigman): # Covariance matrix derivative terms (i.e. exact, first-order)\n",
        "    nx = len(X)\n",
        "    ny = len(Xstar)\n",
        "    return np.round(np.array([(delta(np.atleast_2d(i), np.atleast_2d(j))[0] * se(np.atleast_2d(i), np.atleast_2d(j), sigmaf, l, sigman)[0]).sum() for (i, j) in itertools.product(X, Xstar)]).reshape(nx, ny), 8)\n",
        "\n",
        "class dGaussianProcess(GaussianProcess):    # Via inheritance, also optimises hyperparameters when opt = TRUE\n",
        "    \n",
        "    def AcqGrad(self, Xstar):               # Method returning exact, first-order derivatives of the GP's posterior mean and standard deviation\n",
        "        Xstar = np.atleast_2d(Xstar)\n",
        "        Kstar = self.covfunc.K(self.X, Xstar).T\n",
        "        \n",
        "        dKstar = der_covmat(self.X, Xstar, self.covfunc.sigmaf, self.covfunc.l, self.covfunc.sigman).T\n",
        "        alpha_Kstar = np.dot(np.linalg.inv(self.K + (self.covfunc.sigman**2) * np.eye(len(self.X))), Kstar.T)\n",
        "        \n",
        "        dm = np.dot(dKstar, self.alpha)\n",
        "        ds = -2 * np.dot(dKstar, alpha_Kstar)\n",
        "        \n",
        "        return dm, ds           \n"
      ]
    },
    {
      "cell_type": "code",
      "execution_count": 8,
      "metadata": {
        "id": "_Dc3YVHVaXz7"
      },
      "outputs": [],
      "source": [
        "### Add exact acquisition function gradient as attribute:\n",
        "\n",
        "Beta_CBM = dim\n",
        "\n",
        "class Acquisition_grad(Acquisition):    \n",
        "    def __init__(self, mode, eps=eps, **params):\n",
        "        \n",
        "        self.params = params\n",
        "        self.eps = eps\n",
        "\n",
        "        mode_dict = {\n",
        "            'CBM': self.CBM\n",
        "        }\n",
        "\n",
        "        self.f = mode_dict[mode]\n",
        "    \n",
        "    def CBM(self, y_global_orig, mean, std, ds, dm):\n",
        "        gamma = (mean - y_global_orig - self.eps) / (std + self.eps)\n",
        "        gamma_h = (mean - y_global_orig) / (std + self.eps)\n",
        "        dsdx = ds / (2 * (std + self.eps))\n",
        "        dmdx = (dm - gamma * dsdx) / (std + self.eps)\n",
        "\n",
        "        f = (std + self.eps) * (gamma + np.sqrt(Beta_CBM))\n",
        "        df = dsdx * (gamma + np.sqrt(Beta_CBM)) + (std + self.eps) * dmdx\n",
        "        df_arr = []\n",
        "\n",
        "        for j in range(0, dim):\n",
        "          df_arr.append(df)\n",
        "        return f, np.asarray(df_arr).transpose()\n",
        "\n",
        "        for j in range(0, dim):\n",
        "          df_arr.append(df)\n",
        "        return f, np.asarray(df_arr).transpose()\n",
        "        \n",
        "    def d_eval(self, y_global_orig, mean, std, ds, dm):\n",
        "    \n",
        "        return self.f(y_global_orig, mean, std, ds, dm, **self.params)\n",
        "        "
      ]
    },
    {
      "cell_type": "code",
      "execution_count": 9,
      "metadata": {
        "id": "PITEQC8YSl7i"
      },
      "outputs": [],
      "source": [
        "## GPGO_multi: \n",
        "\n",
        "class GPGO_multi(GPGO):\n",
        "    n_start = n_start_AcqFunc\n",
        "\n",
        "    def __init__(self, surrogate, acquisition, f, parameter_dict, n_jobs=1):\n",
        "        self.GP = surrogate\n",
        "        self.A = acquisition\n",
        "        self.f = f\n",
        "        self.parameters = parameter_dict\n",
        "        self.n_jobs = n_jobs\n",
        "\n",
        "        self.parameter_key = list(parameter_dict.keys())\n",
        "        self.parameter_value = list(parameter_dict.values())\n",
        "        self.parameter_type = [p[0] for p in self.parameter_value]\n",
        "        self.parameter_range = [p[1] for p in self.parameter_value]\n",
        "\n",
        "        self.history = []\n",
        "        self.header =   'Evaluation \\t Proposed point \\t  Current eval. \\t  Best eval. \\t        Exact EI: StdDev. x \\t Approx EI: StdDev. x '\n",
        "        self.template = '{:3}\\t {}\\t {:3}\\t {:3}\\t {:3}\\t {:3}'\n",
        " \n",
        "    def acqfuncExact(self, xnew, n_start=n_start_AcqFunc):\n",
        "        new_mean, new_var = self.GP.predict(xnew, return_std=True)\n",
        "        new_std = np.sqrt(new_var + eps)\n",
        "        dm, ds = self.GP.AcqGrad(xnew)\n",
        "        f, df = self.A.d_eval(y_global_orig, new_mean, new_std, ds=ds, dm=dm)\n",
        "\n",
        "        return -f, -df\n",
        "   \n",
        "    def acqfuncApprox(self, xnew, n_start=n_start_AcqFunc):\n",
        "        new_mean, new_var = self.GP.predict(xnew, return_std=True)\n",
        "        new_std = np.sqrt(new_var + eps)\n",
        "        dm, ds = self.GP.AcqGrad(xnew)\n",
        "        f, df = self.A.d_eval(y_global_orig, new_mean, new_std, ds=ds, dm=dm)\n",
        "\n",
        "        return -f\n",
        "   \n",
        "    def _optimizeAcq(self, method='L-BFGS-B', n_start=n_start_AcqFunc):\n",
        "        \n",
        "        start_points_dict = [self._sampleParam() for i in range(n_start)]\n",
        "        start_points_arr = np.array([list(s.values())\n",
        "                                     for s in start_points_dict])\n",
        "        x_best = np.empty((n_start, len(self.parameter_key)))\n",
        "        f_best = np.empty((n_start,))\n",
        "        opt = Parallel(n_jobs=self.n_jobs)(delayed(minimize)(self.acqfuncApprox,\n",
        "                                                                 x0=start_point,\n",
        "                                                                 method=method,\n",
        "                                                                 jac = False,\n",
        "                                                                 bounds=self.parameter_range) for start_point in\n",
        "                                               start_points_arr)\n",
        "        x_best = np.array([res.x for res in opt])\n",
        "        f_best = np.array([np.atleast_1d(res.fun)[0] for res in opt])\n",
        "        f_best_min = min(f_best)\n",
        "\n",
        "        self.x_best = x_best\n",
        "        self.f_best = f_best\n",
        "        self.f_best_min = f_best_min\n",
        "        self.x_best_std = np.std(x_best)\n",
        "        self.best = x_best[np.argmin(f_best)]\n",
        "        self.start_points_arr = start_points_arr        \n",
        "        self.history.append(self.x_best_std)\n",
        "\n",
        "        x_best_exact = np.empty((n_start, len(self.parameter_key)))\n",
        "        f_best_exact = np.empty((n_start,))\n",
        "        opt_exact = Parallel(n_jobs=self.n_jobs)(delayed(minimize)(self.acqfuncExact,\n",
        "                                                                 x0=start_point,\n",
        "                                                                 method=method,\n",
        "                                                                 jac = True,\n",
        "                                                                 bounds=self.parameter_range) for start_point in\n",
        "                                               start_points_arr)\n",
        "        x_best_exact = np.array([res.x for res in opt_exact])\n",
        "        f_best_exact = np.array([np.atleast_1d(res.fun)[0] for res in opt_exact])\n",
        "        f_best_min_exact = min(f_best_exact)\n",
        "\n",
        "        self.x_best_exact = x_best_exact\n",
        "        self.f_best_exact = f_best_exact\n",
        "        self.f_best_min_exact = f_best_min_exact\n",
        "        self.x_best_std_exact = np.std(x_best_exact)\n",
        "        self.best_exact = x_best_exact[np.argmin(f_best_exact)]\n",
        "        self.start_points_arr = start_points_arr\n",
        "        self.history.append(self.x_best_std_exact)\n",
        "\n",
        "    def _printInit(self):\n",
        "        print(self.header)\n",
        "        for init_eval in range(self.init_evals):\n",
        "            print(self.template.format('init', self.GP.X[init_eval], inverse * self.GP.y[init_eval], inverse * self.tau, '', ''))\n",
        "      \n",
        "    def _printCurrent(self):\n",
        "        OKGREEN = '\\033[92m'\n",
        "        ENDC = '\\033[0m'\n",
        "        BOLD = '\\033[1m'\n",
        "        eval = str(len(self.GP.y) - self.init_evals)\n",
        "        proposed = str(self.best)\n",
        "        curr_eval = str(inverse * self.GP.y[-1])\n",
        "        curr_best = str(inverse * self.tau)\n",
        "        min_acqfunc = str(self.f_best_min)\n",
        "        min_acqfunc_exact = str(self.f_best_min_exact)\n",
        "        x_best_std = str(self.x_best_std)\n",
        "        x_best_std_exact = str(self.x_best_std_exact)\n",
        "        if float(curr_eval) <= float(curr_best):\n",
        "            eval = BOLD + OKGREEN + eval + ENDC\n",
        "            proposed = BOLD + OKGREEN + proposed + ENDC\n",
        "            curr_eval = BOLD + OKGREEN + curr_eval + ENDC\n",
        "            curr_best = BOLD + OKGREEN + curr_best + ENDC\n",
        "            x_best_std = BOLD + OKGREEN + x_best_std + ENDC\n",
        "            x_best_std_exact = BOLD + OKGREEN + x_best_std_exact + ENDC\n",
        "        print(self.template.format(eval, proposed, curr_eval, curr_best, x_best_std_exact, x_best_std))\n",
        "        \n",
        "    def run(self, max_iter=10, init_evals=3, resume=False):\n",
        "        \n",
        "        if not resume:\n",
        "            self.init_evals = init_evals\n",
        "            self._firstRun(self.init_evals)\n",
        "            self._printInit()\n",
        "        for iteration in range(max_iter):\n",
        "            self._optimizeAcq()\n",
        "            self.updateGP()\n",
        "            self._printCurrent()\n"
      ]
    },
    {
      "cell_type": "code",
      "execution_count": 10,
      "metadata": {
        "id": "b_B-w81BJxKN"
      },
      "outputs": [],
      "source": [
        "## dGPGO:\n",
        "\n",
        "class dGPGO(GPGO):\n",
        "    n_start = n_start_AcqFunc\n",
        "\n",
        "    def __init__(self, surrogate, acquisition, f, parameter_dict, n_jobs=1):\n",
        "        self.GP = surrogate\n",
        "        self.A = acquisition\n",
        "        self.f = f\n",
        "        self.parameters = parameter_dict\n",
        "        self.n_jobs = n_jobs\n",
        "\n",
        "        self.parameter_key = list(parameter_dict.keys())\n",
        "        self.parameter_value = list(parameter_dict.values())\n",
        "        self.parameter_type = [p[0] for p in self.parameter_value]\n",
        "        self.parameter_range = [p[1] for p in self.parameter_value]\n",
        "\n",
        "        self.history = []\n",
        "        self.header =   'Evaluation \\t Proposed point \\t  Current eval. \\t  Best eval. \\t        Exact EI: StdDev. x \\t Approx EI: StdDev. x '\n",
        "        self.template = '{:3}\\t {}\\t {:3}\\t {:3}\\t {:3}\\t {:3}'\n",
        "\n",
        "    def acqfuncExact(self, xnew, n_start=n_start_AcqFunc):\n",
        "        new_mean, new_var = self.GP.predict(xnew, return_std=True)\n",
        "        new_std = np.sqrt(new_var + eps)\n",
        "        dm, ds = self.GP.AcqGrad(xnew)\n",
        "        f, df = self.A.d_eval(y_global_orig, new_mean, new_std, ds=ds, dm=dm)\n",
        "\n",
        "        return -f, -df\n",
        "   \n",
        "    def acqfuncApprox(self, xnew, n_start=n_start_AcqFunc):\n",
        "        new_mean, new_var = self.GP.predict(xnew, return_std=True)\n",
        "        new_std = np.sqrt(new_var + eps)\n",
        "        dm, ds = self.GP.AcqGrad(xnew)\n",
        "        f, df = self.A.d_eval(y_global_orig, new_mean, new_std, ds=ds, dm=dm)\n",
        "\n",
        "        return -f\n",
        "\n",
        "    def d_optimizeAcq(self, method='L-BFGS-B', n_start=n_start_AcqFunc):\n",
        "        start_points_dict = [self._sampleParam() for i in range(n_start)]\n",
        "        start_points_arr = np.array([list(s.values())\n",
        "                                     for s in start_points_dict])\n",
        "        x_best = np.empty((n_start, len(self.parameter_key)))\n",
        "        f_best = np.empty((n_start,))\n",
        "        opt = Parallel(n_jobs=self.n_jobs)(delayed(minimize)(self.acqfuncExact,\n",
        "                                                                 x0=start_point,\n",
        "                                                                 method=method,\n",
        "                                                                 jac = True,\n",
        "                                                                 bounds=self.parameter_range) for start_point in\n",
        "                                               start_points_arr)\n",
        "        x_best = np.array([res.x for res in opt])\n",
        "        f_best = np.array([np.atleast_1d(res.fun)[0] for res in opt])\n",
        "        f_best_min = min(f_best)\n",
        "\n",
        "        self.x_best = x_best\n",
        "        self.f_best = f_best\n",
        "        self.f_best_min = f_best_min\n",
        "        self.x_best_std = np.std(x_best)\n",
        "        self.best = x_best[np.argmin(f_best)]\n",
        "        self.start_points_arr = start_points_arr\n",
        "        self.history.append(self.x_best_std)\n",
        "\n",
        "        x_best_approx = np.empty((n_start, len(self.parameter_key)))\n",
        "        f_best_approx = np.empty((n_start,))\n",
        "        opt_approx = Parallel(n_jobs=self.n_jobs)(delayed(minimize)(self.acqfuncApprox,\n",
        "                                                                 x0=start_point,\n",
        "                                                                 method=method,\n",
        "                                                                 jac = False,\n",
        "                                                                 bounds=self.parameter_range) for start_point in\n",
        "                                               start_points_arr)\n",
        "        x_best_approx = np.array([res.x for res in opt_approx])\n",
        "        f_best_approx = np.array([np.atleast_1d(res.fun)[0] for res in opt_approx])\n",
        "        f_best_min_approx = min(f_best_approx)\n",
        "\n",
        "        self.x_best_approx = x_best_approx\n",
        "        self.f_best_approx = f_best_approx\n",
        "        self.f_best_min_approx = f_best_min_approx\n",
        "        self.x_best_std_approx = np.std(x_best_approx)\n",
        "        self.best_approx = x_best_approx[np.argmin(f_best_approx)]\n",
        "        self.start_points_arr = start_points_arr\n",
        "        self.history.append(self.x_best_std_approx)\n",
        "    \n",
        "    def _printInit(self):\n",
        "        print(self.header)\n",
        "        for init_eval in range(self.init_evals):\n",
        "            print(self.template.format('init', self.GP.X[init_eval], inverse * self.GP.y[init_eval], inverse * self.tau, '', ''))\n",
        "      \n",
        "    def _printCurrent(self):\n",
        "        OKGREEN = '\\033[92m'\n",
        "        ENDC = '\\033[0m'\n",
        "        BOLD = '\\033[1m'\n",
        "        eval = str(len(self.GP.y) - self.init_evals)\n",
        "        proposed = str(self.best)\n",
        "        curr_eval = str(inverse * self.GP.y[-1])\n",
        "        curr_best = str(inverse * self.tau)\n",
        "        min_acqfunc = str(self.f_best_min)\n",
        "        min_acqfunc_approx = str(self.f_best_min_approx)\n",
        "        x_best_std = str(self.x_best_std)\n",
        "        x_best_std_approx = str(self.x_best_std_approx)\n",
        "        if float(curr_eval) <= float(curr_best):\n",
        "            eval = BOLD + OKGREEN + eval + ENDC\n",
        "            proposed = BOLD + OKGREEN + proposed + ENDC\n",
        "            curr_eval = BOLD + OKGREEN + curr_eval + ENDC\n",
        "            curr_best = BOLD + OKGREEN + curr_best + ENDC\n",
        "            x_best_std = BOLD + OKGREEN + x_best_std + ENDC\n",
        "            x_best_std_approx = BOLD + OKGREEN + x_best_std_approx + ENDC\n",
        "        print(self.template.format(eval, proposed, curr_eval, curr_best, x_best_std, x_best_std_approx))\n",
        "\n",
        "    def run(self, max_iter=10, init_evals=3, resume=False):\n",
        "        \n",
        "        if not resume:\n",
        "            self.init_evals = init_evals\n",
        "            self._firstRun(self.init_evals)\n",
        "            self._printInit()\n",
        "        for iteration in range(max_iter):\n",
        "            self.d_optimizeAcq()\n",
        "            self.updateGP()\n",
        "            self._printCurrent()\n"
      ]
    },
    {
      "cell_type": "code",
      "execution_count": 11,
      "metadata": {
        "id": "qXIKGuXVGEg2"
      },
      "outputs": [],
      "source": [
        "###Reproducible set-seeds:\n",
        "\n",
        "run_num_1 = 1\n",
        "run_num_2 = 2\n",
        "run_num_3 = 3\n",
        "run_num_4 = 4\n",
        "run_num_5 = 5\n",
        "run_num_6 = 6\n",
        "run_num_7 = 7\n",
        "run_num_8 = 8\n",
        "run_num_9 = 9\n",
        "run_num_10 = 10\n",
        "run_num_11 = 11\n",
        "run_num_12 = 12\n",
        "run_num_13 = 13\n",
        "run_num_14 = 14\n",
        "run_num_15 = 15\n",
        "run_num_16 = 16\n",
        "run_num_17 = 17\n",
        "run_num_18 = 18\n",
        "run_num_19 = 19\n",
        "run_num_20 = 20\n"
      ]
    },
    {
      "cell_type": "code",
      "execution_count": 12,
      "metadata": {
        "colab": {
          "base_uri": "https://localhost:8080/"
        },
        "id": "JEhagQmnTVIK",
        "outputId": "63b1e99b-de00-43bc-97a0-d6ba81fd67f9"
      },
      "outputs": [
        {
          "output_type": "execute_result",
          "data": {
            "text/plain": [
              "1659629917.1138906"
            ]
          },
          "metadata": {},
          "execution_count": 12
        }
      ],
      "source": [
        "start_approx = time.time()\n",
        "start_approx\n"
      ]
    },
    {
      "cell_type": "code",
      "execution_count": 13,
      "metadata": {
        "colab": {
          "base_uri": "https://localhost:8080/"
        },
        "id": "aH0YSTXufD1v",
        "outputId": "46c3f3c3-6b82-44f7-99b0-cbf3303fa690"
      },
      "outputs": [
        {
          "output_type": "stream",
          "name": "stdout",
          "text": [
            "Evaluation \t Proposed point \t  Current eval. \t  Best eval. \t        Exact EI: StdDev. x \t Approx EI: StdDev. x \n",
            "init\t [-0.84969467  2.25612281]\t 10.902161328666502\t 1.4334486961549602\t    \t    \n",
            "init\t [-5.1188288  -2.02411446]\t 34.396486966857985\t 1.4334486961549602\t    \t    \n",
            "init\t [-3.61721968 -4.17445279]\t 47.936390383803385\t 1.4334486961549602\t    \t    \n",
            "init\t [-3.21269544 -1.58145816]\t 15.323431753768267\t 1.4334486961549602\t    \t    \n",
            "init\t [-1.05710106  0.39748336]\t 1.4334486961549602\t 1.4334486961549602\t    \t    \n",
            "1  \t [ 4.04077223 -4.24914728]\t 52.43834538835027\t 1.4334486961549602\t 3.7778228547599544\t 4.2224605242478175\n",
            "2  \t [5.12       4.01905686]\t 58.52003605982006\t 1.4334486961549602\t 3.2967915119865627\t 3.45116625989047\n",
            "3  \t [-5.12  5.12]\t 78.64320000000001\t 1.4334486961549602\t 3.2054696931774456\t 3.9779998763653803\n",
            "4  \t [2.7654917  0.06607816]\t 7.65667697564539\t 1.4334486961549602\t 3.7572887494549234\t 3.2815815082299817\n",
            "5  \t [1.15323696 5.12      ]\t 53.75875549302634\t 1.4334486961549602\t 2.671812644634055\t 3.2711522689346695\n",
            "6  \t [ 0.3006292  -2.79005033]\t 15.6591395751074\t 1.4334486961549602\t 2.6107330245790052\t 3.355950283151021\n",
            "7  \t [-5.12        1.44492586]\t 30.390021476635866\t 1.4334486961549602\t 3.3539727673281416\t 3.655042453862107\n",
            "8  \t [ 5.12       -0.83176455]\t 27.598064527019968\t 1.4334486961549602\t 3.4323162908157214\t 3.334611326108188\n",
            "9  \t [-0.42196999 -5.12      ]\t 52.60685867203975\t 1.4334486961549602\t 3.0129338981062053\t 2.9324301659346865\n",
            "10 \t [-1.92868178  5.12      ]\t 56.14861340817589\t 1.4334486961549602\t 2.9672566556407163\t 2.9167139125566495\n",
            "\u001b[1m\u001b[92m11\u001b[0m\t \u001b[1m\u001b[92m[ 0.31848838 -0.08456372]\u001b[0m\t \u001b[1m\u001b[92m0.11573689207141466\u001b[0m\t \u001b[1m\u001b[92m0.11573689207141466\u001b[0m\t \u001b[1m\u001b[92m2.8906106240047755\u001b[0m\t \u001b[1m\u001b[92m2.01930967281368\u001b[0m\n",
            "12 \t [2.08771168 2.13204004]\t 13.449729509764833\t 0.11573689207141466\t 2.9659928013004646\t 2.8403306897648384\n",
            "13 \t [-0.1815401  -0.30305108]\t 0.216636722234287\t 0.11573689207141466\t 2.345632310195281\t 2.4884494955099172\n",
            "\u001b[1m\u001b[92m14\u001b[0m\t \u001b[1m\u001b[92m[ 0.1668675  -0.19818228]\u001b[0m\t \u001b[1m\u001b[92m0.10639719387291073\u001b[0m\t \u001b[1m\u001b[92m0.10639719387291073\u001b[0m\t \u001b[1m\u001b[92m2.98012575642933\u001b[0m\t \u001b[1m\u001b[92m2.341639101872529\u001b[0m\n",
            "15 \t [-0.52556556 -0.38344918]\t 0.5702857112354685\t 0.10639719387291073\t 2.5240936169689374\t 2.1070952140644867\n",
            "16 \t [ 0.33097988 -0.1644412 ]\t 0.16362949586846212\t 0.10639719387291073\t 2.9214920259962676\t 2.8281761834688943\n",
            "17 \t [ 0.27395823 -0.16160341]\t 0.12728444059122004\t 0.10639719387291073\t 3.1024989169912374\t 2.3510793340229053\n",
            "18 \t [ 0.24277874 -0.16215733]\t 0.11153151909335962\t 0.10639719387291073\t 3.2999430469999687\t 3.0929070941178685\n",
            "\u001b[1m\u001b[92m19\u001b[0m\t \u001b[1m\u001b[92m[ 0.22333308 -0.16324825]\u001b[0m\t \u001b[1m\u001b[92m0.10317764447636471\u001b[0m\t \u001b[1m\u001b[92m0.10317764447636471\u001b[0m\t \u001b[1m\u001b[92m3.5191425588177916\u001b[0m\t \u001b[1m\u001b[92m2.9466090118000805\u001b[0m\n",
            "\u001b[1m\u001b[92m20\u001b[0m\t \u001b[1m\u001b[92m[ 0.21031183 -0.16431728]\u001b[0m\t \u001b[1m\u001b[92m0.0982314027641705\u001b[0m\t \u001b[1m\u001b[92m0.0982314027641705\u001b[0m\t \u001b[1m\u001b[92m3.120667937495403\u001b[0m\t \u001b[1m\u001b[92m2.902128734105965\u001b[0m\n"
          ]
        }
      ],
      "source": [
        "### ESTIMATED GP EI GRADIENTS\n",
        "\n",
        "np.random.seed(run_num_1)\n",
        "surrogate_approx_1 = dGaussianProcess(cov_func, optimize=opt)\n",
        "\n",
        "approx_1 = GPGO_multi(surrogate_approx_1, Acquisition_grad(util), objfunc, param)\n",
        "approx_1.run(init_evals=n_init, max_iter=iters)\n"
      ]
    },
    {
      "cell_type": "code",
      "execution_count": 14,
      "metadata": {
        "id": "wTxsSZxFGBB5",
        "colab": {
          "base_uri": "https://localhost:8080/"
        },
        "outputId": "dbd135dd-5dc9-4ee6-b8f2-336c9e51dc12"
      },
      "outputs": [
        {
          "output_type": "stream",
          "name": "stdout",
          "text": [
            "Evaluation \t Proposed point \t  Current eval. \t  Best eval. \t        Exact EI: StdDev. x \t Approx EI: StdDev. x \n",
            "init\t [-0.6554122  -4.85451539]\t 47.562204422038214\t 1.1358959044973735\t    \t    \n",
            "init\t [ 0.50854377 -0.6622987 ]\t 1.1358959044973735\t 1.1358959044973735\t    \t    \n",
            "init\t [-0.81543371 -1.73737143]\t 6.7018511217540135\t 1.1358959044973735\t    \t    \n",
            "init\t [-3.02439799  1.2213347 ]\t 12.13030006303276\t 1.1358959044973735\t    \t    \n",
            "init\t [-2.05153614 -2.3876887 ]\t 15.610915224537823\t 1.1358959044973735\t    \t    \n",
            "1  \t [4.81874241 3.07464552]\t 42.12716849729408\t 1.1358959044973735\t 3.7892388851074554\t 3.7662184520462443\n",
            "2  \t [ 5.01998492 -3.42502876]\t 48.66189257567616\t 1.1358959044973735\t 3.173375003435915\t 4.064796673833242\n",
            "3  \t [-0.02479375  5.12      ]\t 52.429414730073894\t 1.1358959044973735\t 3.8436421359408914\t 3.910155748525467\n",
            "4  \t [-5.12  5.12]\t 78.64320000000001\t 1.1358959044973735\t 3.8103329379343656\t 3.4868249959959936\n",
            "5  \t [-5.12 -5.12]\t 78.64320000000001\t 1.1358959044973735\t 4.333427498587963\t 3.6929654060488097\n",
            "6  \t [ 2.82393256 -0.17372401]\t 8.034955164043764\t 1.1358959044973735\t 3.1574256515433468\t 3.2007149456443833\n",
            "7  \t [-5.12       -1.14882664]\t 28.854005319560507\t 1.1358959044973735\t 2.998038945582709\t 2.9098963903311796\n",
            "8  \t [0.27205206 1.51907797]\t 4.689208070445857\t 1.1358959044973735\t 2.497915135298435\t 2.23576907334458\n",
            "9  \t [ 1.77313037 -2.66219473]\t 17.318552908764385\t 1.1358959044973735\t 2.8347642355066123\t 3.1151044727838872\n",
            "10 \t [ 5.12      -0.1376838]\t 26.252313657484493\t 1.1358959044973735\t 3.2500649559706454\t 3.198598059698614\n",
            "11 \t [ 2.54762131 -5.12      ]\t 58.91917436229804\t 1.1358959044973735\t 3.2052231090408716\t 3.2560974032834658\n",
            "12 \t [1.92866527 2.5626948 ]\t 16.85455901104931\t 1.1358959044973735\t 2.57205546298575\t 2.500084375327467\n",
            "13 \t [3.03043663 5.12      ]\t 61.612346197226124\t 1.1358959044973735\t 3.1425488926085845\t 2.628946857112187\n",
            "14 \t [-5.12        1.92525003]\t 33.62757538247302\t 1.1358959044973735\t 2.8829870861503326\t 3.3285280202805887\n",
            "\u001b[1m\u001b[92m15\u001b[0m\t \u001b[1m\u001b[92m[-0.62146998  0.16180065]\u001b[0m\t \u001b[1m\u001b[92m0.4385838326297693\u001b[0m\t \u001b[1m\u001b[92m0.4385838326297693\u001b[0m\t \u001b[1m\u001b[92m2.363019766435745\u001b[0m\t \u001b[1m\u001b[92m2.2956292361265436\u001b[0m\n",
            "16 \t [-2.28634998  3.37373728]\t 27.99160273440312\t 0.4385838326297693\t 2.6679512305367243\t 2.669028289644541\n",
            "\u001b[1m\u001b[92m17\u001b[0m\t \u001b[1m\u001b[92m[-0.29748059  0.03797043]\u001b[0m\t \u001b[1m\u001b[92m0.09137820661691709\u001b[0m\t \u001b[1m\u001b[92m0.09137820661691709\u001b[0m\t \u001b[1m\u001b[92m3.427373750348073\u001b[0m\t \u001b[1m\u001b[92m2.19072720170393\u001b[0m\n",
            "18 \t [-0.33058634  0.04880414]\t 0.1140510177225085\t 0.09137820661691709\t 2.7719595781326025\t 2.308454917831479\n",
            "19 \t [-0.58338877  0.1361321 ]\t 0.37740634698721587\t 0.09137820661691709\t 2.9671012305382516\t 2.3341280285937422\n",
            "\u001b[1m\u001b[92m20\u001b[0m\t \u001b[1m\u001b[92m[-0.01566884 -0.04587851]\u001b[0m\t \u001b[1m\u001b[92m0.004455188612582734\u001b[0m\t \u001b[1m\u001b[92m0.004455188612582734\u001b[0m\t \u001b[1m\u001b[92m2.8556320597820055\u001b[0m\t \u001b[1m\u001b[92m1.9593922145098934\u001b[0m\n"
          ]
        }
      ],
      "source": [
        "### ESTIMATED GP EI GRADIENTS\n",
        "\n",
        "np.random.seed(run_num_2)\n",
        "surrogate_approx_2 = dGaussianProcess(cov_func, optimize=opt)\n",
        "\n",
        "approx_2 = GPGO_multi(surrogate_approx_2, Acquisition_grad(util), objfunc, param)\n",
        "approx_2.run(init_evals=n_init, max_iter=iters)\n"
      ]
    },
    {
      "cell_type": "code",
      "execution_count": 15,
      "metadata": {
        "id": "-dgzIrUIGCGT",
        "colab": {
          "base_uri": "https://localhost:8080/"
        },
        "outputId": "d84e212a-a0c6-40fe-fd3d-b59453070e8a"
      },
      "outputs": [
        {
          "output_type": "stream",
          "name": "stdout",
          "text": [
            "Evaluation \t Proposed point \t  Current eval. \t  Best eval. \t        Exact EI: StdDev. x \t Approx EI: StdDev. x \n",
            "init\t [0.52017052 2.1314337 ]\t 9.356596638100186\t 4.609047504113831\t    \t    \n",
            "init\t [-2.14113547  0.11087468]\t 4.609047504113831\t 4.609047504113831\t    \t    \n",
            "init\t [4.02377681 4.05804123]\t 49.12617709674532\t 4.609047504113831\t    \t    \n",
            "init\t [-3.83400642 -2.99783293]\t 32.673609761904345\t 4.609047504113831\t    \t    \n",
            "init\t [-4.59297584 -0.6061072 ]\t 21.83015892853491\t 4.609047504113831\t    \t    \n",
            "1  \t [ 4.70196901 -1.79065536]\t 28.521405839425146\t 4.609047504113831\t 2.0215034828088396\t 3.5940793820200065\n",
            "2  \t [-5.12  5.12]\t 78.64320000000001\t 4.609047504113831\t 2.6869487116761723\t 4.193814905113865\n",
            "3  \t [ 0.85700642 -5.12      ]\t 53.1632600066763\t 4.609047504113831\t 3.441274187953067\t 3.923780763092983\n",
            "4  \t [-0.94711892  5.12      ]\t 53.3258342418919\t 4.609047504113831\t 3.1545495168747455\t 2.9494680342737434\n",
            "\u001b[1m\u001b[92m5\u001b[0m\t \u001b[1m\u001b[92m[ 0.8830237  -1.24312558]\u001b[0m\t \u001b[1m\u001b[92m3.8704532591310654\u001b[0m\t \u001b[1m\u001b[92m3.8704532591310654\u001b[0m\t \u001b[1m\u001b[92m3.1846490092361806\u001b[0m\t \u001b[1m\u001b[92m3.1415903492302575\u001b[0m\n",
            "6  \t [ 5.12 -5.12]\t 78.64320000000001\t 3.8704532591310654\t 3.5139016634901394\t 3.2392819399832917\n",
            "7  \t [3.00122458 0.80108243]\t 10.290815091436766\t 3.8704532591310654\t 3.3742791477167065\t 3.144779715967832\n",
            "8  \t [-3.05785163  2.30911775]\t 20.01450620862215\t 3.8704532591310654\t 3.3352178150009926\t 3.3585500843054463\n",
            "9  \t [-0.919492   -2.22410922]\t 10.738789213957196\t 3.8704532591310654\t 3.603618162646363\t 3.121926513652606\n",
            "10 \t [-5.12 -5.12]\t 78.64320000000001\t 3.8704532591310654\t 3.2674788907429404\t 3.267389159312231\n",
            "11 \t [5.12       1.19728232]\t 29.081369905488646\t 3.8704532591310654\t 3.148407773192447\t 3.4102389729890006\n",
            "12 \t [-1.97676547 -5.12      ]\t 56.33640174229074\t 3.8704532591310654\t 2.477530921537628\t 2.128499115050335\n",
            "13 \t [ 2.08324448 -2.37079943]\t 15.58128742882707\t 3.8704532591310654\t 2.786918661413327\t 2.8678615936245984\n",
            "\u001b[1m\u001b[92m14\u001b[0m\t \u001b[1m\u001b[92m[-0.02740721  0.04577425]\u001b[0m\t \u001b[1m\u001b[92m0.00494171967645882\u001b[0m\t \u001b[1m\u001b[92m0.00494171967645882\u001b[0m\t \u001b[1m\u001b[92m2.528428974840598\u001b[0m\t \u001b[1m\u001b[92m2.621537910683409\u001b[0m\n",
            "\u001b[1m\u001b[92m15\u001b[0m\t \u001b[1m\u001b[92m[-0.02732084  0.04573732]\u001b[0m\t \u001b[1m\u001b[92m0.004930233991752203\u001b[0m\t \u001b[1m\u001b[92m0.004930233991752203\u001b[0m\t \u001b[1m\u001b[92m2.687223931786128\u001b[0m\t \u001b[1m\u001b[92m2.8651229297033685\u001b[0m\n",
            "\u001b[1m\u001b[92m16\u001b[0m\t \u001b[1m\u001b[92m[-0.02402812  0.04448042]\u001b[0m\t \u001b[1m\u001b[92m0.0045343658757001646\u001b[0m\t \u001b[1m\u001b[92m0.0045343658757001646\u001b[0m\t \u001b[1m\u001b[92m2.7360875864256298\u001b[0m\t \u001b[1m\u001b[92m2.764005357478359\u001b[0m\n",
            "\u001b[1m\u001b[92m17\u001b[0m\t \u001b[1m\u001b[92m[-0.02133507  0.04347399]\u001b[0m\t \u001b[1m\u001b[92m0.004235160298873868\u001b[0m\t \u001b[1m\u001b[92m0.004235160298873868\u001b[0m\t \u001b[1m\u001b[92m2.6013451606779636\u001b[0m\t \u001b[1m\u001b[92m1.8720157163578406\u001b[0m\n",
            "\u001b[1m\u001b[92m18\u001b[0m\t \u001b[1m\u001b[92m[-0.01949852  0.04276449]\u001b[0m\t \u001b[1m\u001b[92m0.004037796062922724\u001b[0m\t \u001b[1m\u001b[92m0.004037796062922724\u001b[0m\t \u001b[1m\u001b[92m2.924485065292008\u001b[0m\t \u001b[1m\u001b[92m3.109544829683656\u001b[0m\n",
            "\u001b[1m\u001b[92m19\u001b[0m\t \u001b[1m\u001b[92m[-0.01832666  0.04227396]\u001b[0m\t \u001b[1m\u001b[92m0.003910042554641641\u001b[0m\t \u001b[1m\u001b[92m0.003910042554641641\u001b[0m\t \u001b[1m\u001b[92m2.7480199941140326\u001b[0m\t \u001b[1m\u001b[92m2.977125835208189\u001b[0m\n",
            "\u001b[1m\u001b[92m20\u001b[0m\t \u001b[1m\u001b[92m[-0.01760642  0.04193468]\u001b[0m\t \u001b[1m\u001b[92m0.003827020956305681\u001b[0m\t \u001b[1m\u001b[92m0.003827020956305681\u001b[0m\t \u001b[1m\u001b[92m2.543441339261431\u001b[0m\t \u001b[1m\u001b[92m2.209268677518489\u001b[0m\n"
          ]
        }
      ],
      "source": [
        "### ESTIMATED GP EI GRADIENTS\n",
        "\n",
        "np.random.seed(run_num_3)\n",
        "surrogate_approx_3 = dGaussianProcess(cov_func, optimize=opt)\n",
        "\n",
        "approx_3 = GPGO_multi(surrogate_approx_3, Acquisition_grad(util), objfunc, param)\n",
        "approx_3.run(init_evals=n_init, max_iter=iters)\n"
      ]
    },
    {
      "cell_type": "code",
      "execution_count": 16,
      "metadata": {
        "id": "hOtG-2sCGCKS",
        "colab": {
          "base_uri": "https://localhost:8080/"
        },
        "outputId": "6b22ca4b-84e6-4a39-b488-dc0d918a95a0"
      },
      "outputs": [
        {
          "output_type": "stream",
          "name": "stdout",
          "text": [
            "Evaluation \t Proposed point \t  Current eval. \t  Best eval. \t        Exact EI: StdDev. x \t Approx EI: StdDev. x \n",
            "init\t [4.78238555 0.48365823]\t 23.33906213310676\t 7.289910254474112\t    \t    \n",
            "init\t [4.84028785 2.19971578]\t 33.10588541607836\t 7.289910254474112\t    \t    \n",
            "init\t [ 2.02474316 -2.90724357]\t 21.003715175118646\t 7.289910254474112\t    \t    \n",
            "init\t [ 4.87705042 -5.05620219]\t 74.91598187475032\t 7.289910254474112\t    \t    \n",
            "init\t [-2.52946061 -0.66773471]\t 7.289910254474112\t 7.289910254474112\t    \t    \n",
            "1  \t [-2.49680084  4.81753954]\t 52.65138893820949\t 7.289910254474112\t 2.9160797510691396\t 3.9188980578213637\n",
            "2  \t [-5.12 -5.12]\t 78.64320000000001\t 7.289910254474112\t 4.081631122703329\t 3.647167610318119\n",
            "3  \t [1.87210999 5.12      ]\t 55.933595831438744\t 7.289910254474112\t 3.5943608692281512\t 3.5161743739989078\n",
            "\u001b[1m\u001b[92m4\u001b[0m\t \u001b[1m\u001b[92m[0.63487765 1.06616802]\u001b[0m\t \u001b[1m\u001b[92m2.6764981350043673\u001b[0m\t \u001b[1m\u001b[92m2.6764981350043673\u001b[0m\t \u001b[1m\u001b[92m3.2798511699736315\u001b[0m\t \u001b[1m\u001b[92m3.44475983356038\u001b[0m\n",
            "5  \t [-5.12        1.67667609]\t 31.836885437202536\t 2.6764981350043673\t 2.7219592314491385\t 3.132525984720595\n",
            "6  \t [-0.97409088 -5.12      ]\t 53.3776530468582\t 2.6764981350043673\t 3.122243749697894\t 3.2228611140932615\n",
            "7  \t [-5.12       -1.62293633]\t 31.482244657382083\t 2.6764981350043673\t 2.7879543824304585\t 2.5315500452482054\n",
            "8  \t [5.12 5.12]\t 78.64320000000001\t 2.6764981350043673\t 2.792133094559537\t 2.7899940456183607\n",
            "9  \t [-1.38248981  1.707922  ]\t 7.745273174600611\t 2.6764981350043673\t 2.1574869362893603\t 2.2899445377793852\n",
            "\u001b[1m\u001b[92m10\u001b[0m\t \u001b[1m\u001b[92m[-0.12652625 -1.06097717]\u001b[0m\t \u001b[1m\u001b[92m2.2673539826295577\u001b[0m\t \u001b[1m\u001b[92m2.2673539826295577\u001b[0m\t \u001b[1m\u001b[92m2.3310635797508907\u001b[0m\t \u001b[1m\u001b[92m2.9336008609816555\u001b[0m\n",
            "11 \t [1.95828073 0.05026378]\t 3.839916327446486\t 2.2673539826295577\t 2.618521247136959\t 2.950330773680596\n",
            "12 \t [ 5.12       -1.99737043]\t 34.19337724819213\t 2.2673539826295577\t 2.57012741889394\t 2.792174131590495\n",
            "13 \t [1.68459499 2.09070914]\t 11.579989714430411\t 2.2673539826295577\t 2.2712922355304337\t 2.603815855478626\n",
            "14 \t [-5.12  5.12]\t 78.64320000000001\t 2.2673539826295577\t 1.8445058881098466\t 2.073644605038682\n",
            "15 \t [-1.11210092 -2.16792288]\t 10.636547706658584\t 2.2673539826295577\t 2.129125646781308\t 2.3156658269172103\n",
            "\u001b[1m\u001b[92m16\u001b[0m\t \u001b[1m\u001b[92m[ 0.19044229 -0.10795214]\u001b[0m\t \u001b[1m\u001b[92m0.059575592707430486\u001b[0m\t \u001b[1m\u001b[92m0.059575592707430486\u001b[0m\t \u001b[1m\u001b[92m2.4837453292818585\u001b[0m\t \u001b[1m\u001b[92m2.1116086275481885\u001b[0m\n",
            "\u001b[1m\u001b[92m17\u001b[0m\t \u001b[1m\u001b[92m[ 0.18921652 -0.10645337]\u001b[0m\t \u001b[1m\u001b[92m0.05846753399603617\u001b[0m\t \u001b[1m\u001b[92m0.05846753399603617\u001b[0m\t \u001b[1m\u001b[92m2.0481596700141496\u001b[0m\t \u001b[1m\u001b[92m1.6090794203156629\u001b[0m\n",
            "18 \t [ 0.18964201 -0.106941  ]\t 0.05883685037194478\t 0.05846753399603617\t 2.565494401601471\t 2.9109006059805544\n",
            "19 \t [ 0.19023636 -0.10761081]\t 0.05935004576377173\t 0.05846753399603617\t 2.3249072198081837\t 2.686768200765704\n",
            "20 \t [ 0.19076224 -0.10820402]\t 0.059806454130460894\t 0.05846753399603617\t 2.06864130813512\t 2.0094075698210365\n"
          ]
        }
      ],
      "source": [
        "### ESTIMATED GP EI GRADIENTS\n",
        "\n",
        "np.random.seed(run_num_4)\n",
        "surrogate_approx_4 = dGaussianProcess(cov_func, optimize=opt)\n",
        "\n",
        "approx_4= GPGO_multi(surrogate_approx_4, Acquisition_grad(util), objfunc, param)\n",
        "approx_4.run(init_evals=n_init, max_iter=iters)\n"
      ]
    },
    {
      "cell_type": "code",
      "execution_count": 17,
      "metadata": {
        "id": "JF_SxcEvGCOl",
        "colab": {
          "base_uri": "https://localhost:8080/"
        },
        "outputId": "78c45973-e396-466d-e87c-e75934b4e76c"
      },
      "outputs": [
        {
          "output_type": "stream",
          "name": "stdout",
          "text": [
            "Evaluation \t Proposed point \t  Current eval. \t  Best eval. \t        Exact EI: StdDev. x \t Approx EI: StdDev. x \n",
            "init\t [-2.84678993  3.79629882]\t 36.927982283829365\t 2.6327313115208373\t    \t    \n",
            "init\t [-3.00319585  4.2865757 ]\t 45.76864772649561\t 2.6327313115208373\t    \t    \n",
            "init\t [-0.11866943  1.14425716]\t 2.6327313115208373\t 2.6327313115208373\t    \t    \n",
            "init\t [2.72289645 0.1886002 ]\t 7.485305147100433\t 2.6327313115208373\t    \t    \n",
            "init\t [-2.08076286 -3.19773462]\t 24.780587476435763\t 2.6327313115208373\t    \t    \n",
            "1  \t [ 4.32895605 -5.09732646]\t 70.70533460957368\t 2.6327313115208373\t 4.528267201507804\t 4.672920347580683\n",
            "2  \t [5.12 5.12]\t 78.64320000000001\t 2.6327313115208373\t 4.370116786326016\t 3.86437376633164\n",
            "3  \t [-5.12      -0.0409921]\t 26.217760705017266\t 2.6327313115208373\t 3.4800947258720436\t 3.9029657891520517\n",
            "4  \t [0.97507362 5.12      ]\t 53.379568571016904\t 2.6327313115208373\t 3.457311883807681\t 3.4981894571115677\n",
            "5  \t [-5.12 -5.12]\t 78.64320000000001\t 2.6327313115208373\t 3.242215494735351\t 3.5797936501580363\n",
            "6  \t [ 1.35739157 -2.6773024 ]\t 16.178408110090974\t 2.6327313115208373\t 3.033081398847787\t 3.2499593316901496\n",
            "7  \t [ 5.12       -1.37202153]\t 29.97928617771512\t 2.6327313115208373\t 2.336122498340207\t 2.648588582274533\n",
            "8  \t [-1.93660943  0.09363483]\t 3.7679910451240124\t 2.6327313115208373\t 3.1350577216767834\t 3.155977159259174\n",
            "9  \t [5.12       1.74904474]\t 32.3327150023607\t 2.6327313115208373\t 2.914102470941153\t 3.027348672902775\n",
            "10 \t [ 0.27684214 -5.12      ]\t 52.50544157047364\t 2.6327313115208373\t 2.2290876589956374\t 2.769555191993077\n",
            "11 \t [1.6854473  2.15166808]\t 12.100083683654086\t 2.6327313115208373\t 2.4022685142182247\t 2.866634733846918\n",
            "\u001b[1m\u001b[92m12\u001b[0m\t \u001b[1m\u001b[92m[-0.05915417 -0.52274867]\u001b[0m\t \u001b[1m\u001b[92m0.5500315638175441\u001b[0m\t \u001b[1m\u001b[92m0.5500315638175441\u001b[0m\t \u001b[1m\u001b[92m2.0584668438713196\u001b[0m\t \u001b[1m\u001b[92m2.6830191203140084\u001b[0m\n",
            "\u001b[1m\u001b[92m13\u001b[0m\t \u001b[1m\u001b[92m[-0.0435644  -0.49599892]\u001b[0m\t \u001b[1m\u001b[92m0.49392771796767493\u001b[0m\t \u001b[1m\u001b[92m0.49392771796767493\u001b[0m\t \u001b[1m\u001b[92m2.3609837635792665\u001b[0m\t \u001b[1m\u001b[92m2.93236432462588\u001b[0m\n",
            "14 \t [-0.20816732 -0.6054512 ]\t 0.7764759574850754\t 0.49392771796767493\t 2.26249809273904\t 2.837715528522414\n",
            "\u001b[1m\u001b[92m15\u001b[0m\t \u001b[1m\u001b[92m[ 0.29519358 -0.31135562]\u001b[0m\t \u001b[1m\u001b[92m0.28102389151835616\u001b[0m\t \u001b[1m\u001b[92m0.28102389151835616\u001b[0m\t \u001b[1m\u001b[92m1.8400411272977872\u001b[0m\t \u001b[1m\u001b[92m2.2961330289586583\u001b[0m\n",
            "\u001b[1m\u001b[92m16\u001b[0m\t \u001b[1m\u001b[92m[ 0.26648325 -0.32063582]\u001b[0m\t \u001b[1m\u001b[92m0.27662798576197\u001b[0m\t \u001b[1m\u001b[92m0.27662798576197\u001b[0m\t \u001b[1m\u001b[92m2.410534774552601\u001b[0m\t \u001b[1m\u001b[92m2.981321705791347\u001b[0m\n",
            "\u001b[1m\u001b[92m17\u001b[0m\t \u001b[1m\u001b[92m[ 0.24530086 -0.32787654]\u001b[0m\t \u001b[1m\u001b[92m0.2751785617601113\u001b[0m\t \u001b[1m\u001b[92m0.2751785617601113\u001b[0m\t \u001b[1m\u001b[92m2.361286585474213\u001b[0m\t \u001b[1m\u001b[92m2.798100422971422\u001b[0m\n",
            "\u001b[1m\u001b[92m18\u001b[0m\t \u001b[1m\u001b[92m[ 0.22968105 -0.3334832 ]\u001b[0m\t \u001b[1m\u001b[92m0.27517547457532227\u001b[0m\t \u001b[1m\u001b[92m0.27517547457532227\u001b[0m\t \u001b[1m\u001b[92m2.4824643404277342\u001b[0m\t \u001b[1m\u001b[92m2.674263590272549\u001b[0m\n",
            "19 \t [ 0.21787897 -0.33789793]\t 0.2758212728025073\t 0.27517547457532227\t 2.340353633688009\t 2.172107761009737\n",
            "20 \t [ 0.20875075 -0.34143536]\t 0.2767330827362276\t 0.27517547457532227\t 2.64375328966206\t 2.5592144026668455\n"
          ]
        }
      ],
      "source": [
        "### ESTIMATED GP EI GRADIENTS\n",
        "\n",
        "np.random.seed(run_num_5)\n",
        "surrogate_approx_5 = dGaussianProcess(cov_func, optimize=opt)\n",
        "\n",
        "approx_5 = GPGO_multi(surrogate_approx_5, Acquisition_grad(util), objfunc, param)\n",
        "approx_5.run(init_evals=n_init, max_iter=iters)\n"
      ]
    },
    {
      "cell_type": "code",
      "execution_count": 18,
      "metadata": {
        "id": "-kDxZtJsGCR3",
        "colab": {
          "base_uri": "https://localhost:8080/"
        },
        "outputId": "8970cac6-21dc-4c90-b938-a26dfab28914"
      },
      "outputs": [
        {
          "output_type": "stream",
          "name": "stdout",
          "text": [
            "Evaluation \t Proposed point \t  Current eval. \t  Best eval. \t        Exact EI: StdDev. x \t Approx EI: StdDev. x \n",
            "init\t [ 4.02288795 -1.72052679]\t 22.104052359713652\t 1.4757178799086357\t    \t    \n",
            "init\t [ 3.28938622 -4.69302655]\t 54.869058151382724\t 1.4757178799086357\t    \t    \n",
            "init\t [-4.0175956   0.97333314]\t 18.035829177697114\t 1.4757178799086357\t    \t    \n",
            "init\t [ 0.30532979 -0.83141193]\t 1.4757178799086357\t 1.4757178799086357\t    \t    \n",
            "init\t [-1.68542362  1.25459899]\t 5.988690020231891\t 1.4757178799086357\t    \t    \n",
            "1  \t [5.12       4.15747368]\t 60.78357488286436\t 1.4757178799086357\t 3.9307728838856155\t 3.873249744091932\n",
            "2  \t [-2.96407931 -5.12      ]\t 61.21456613033281\t 1.4757178799086357\t 3.778595673259329\t 4.000646254913778\n",
            "3  \t [0.19065892 5.12      ]\t 52.46515082494385\t 1.4757178799086357\t 3.182692094712132\t 3.6307394650937534\n",
            "4  \t [-5.12  5.12]\t 78.64320000000001\t 1.4757178799086357\t 3.0820084089001165\t 3.876790420673657\n",
            "5  \t [2.03534425 1.53075701]\t 8.829060219976466\t 1.4757178799086357\t 2.9917884932404335\t 2.73536603181717\n",
            "6  \t [-5.12       -2.16263651]\t 35.568393368429255\t 1.4757178799086357\t 3.4801140933400783\t 3.3311062182507176\n",
            "7  \t [ 1.40219473e-03 -3.03299029e+00]\t 18.398062121566568\t 1.4757178799086357\t 3.341544538032419\t 3.5336809266457245\n",
            "8  \t [5.12       0.89829259]\t 27.828259163902437\t 1.4757178799086357\t 3.53771468202102\t 3.103368859151537\n",
            "9  \t [-2.04830155 -1.23795746]\t 7.2606165708334665\t 1.4757178799086357\t 2.5455348291860065\t 2.5690664618193204\n",
            "10 \t [-2.35665709  3.40389555]\t 28.726842491377315\t 1.4757178799086357\t 2.8677048243238152\t 3.015596183786873\n",
            "\u001b[1m\u001b[92m11\u001b[0m\t \u001b[1m\u001b[92m[0.17096018 0.21341764]\u001b[0m\t \u001b[1m\u001b[92m0.12032156280248221\u001b[0m\t \u001b[1m\u001b[92m0.12032156280248221\u001b[0m\t \u001b[1m\u001b[92m3.573002167878653\u001b[0m\t \u001b[1m\u001b[92m3.631800775827895\u001b[0m\n",
            "12 \t [ 1.24252926 -0.5389913 ]\t 2.124902198396124\t 0.12032156280248221\t 3.0995810829031565\t 2.5990983936826813\n",
            "13 \t [-0.04769133  0.39020799]\t 0.3067990126222718\t 0.12032156280248221\t 2.81378299613846\t 2.5375280119499393\n",
            "14 \t [-0.03581919  0.31542381]\t 0.2002673710043644\t 0.12032156280248221\t 3.3358600610515055\t 2.5447111654149634\n",
            "15 \t [-0.0295938   0.29683577]\t 0.17709874391806987\t 0.12032156280248221\t 3.2671791589247787\t 2.7187803164732744\n",
            "16 \t [-0.0257262   0.28773609]\t 0.166245946994535\t 0.12032156280248221\t 2.463665095679844\t 3.0649588983105716\n",
            "17 \t [-0.02309857  0.28255728]\t 0.16021078056663574\t 0.12032156280248221\t 3.4699670631996353\t 3.0916950106359513\n",
            "18 \t [-0.02120519  0.27934935]\t 0.15652177810826232\t 0.12032156280248221\t 3.219561624700259\t 2.8948360874925028\n",
            "19 \t [-0.01978249  0.27723949]\t 0.15411482072770943\t 0.12032156280248221\t 3.350391533642386\t 2.8049217900062167\n",
            "20 \t [-0.01867935  0.27579484]\t 0.15247450854800984\t 0.12032156280248221\t 2.8998914645964398\t 2.8144234902666345\n"
          ]
        }
      ],
      "source": [
        "### ESTIMATED GP EI GRADIENTS\n",
        "\n",
        "np.random.seed(run_num_6)\n",
        "surrogate_approx_6 = dGaussianProcess(cov_func, optimize=opt)\n",
        "\n",
        "approx_6 = GPGO_multi(surrogate_approx_6, Acquisition_grad(util), objfunc, param)\n",
        "approx_6.run(init_evals=n_init, max_iter=iters)\n"
      ]
    },
    {
      "cell_type": "code",
      "execution_count": 19,
      "metadata": {
        "id": "fKB8MCD_GCVI",
        "colab": {
          "base_uri": "https://localhost:8080/"
        },
        "outputId": "db751649-bd7e-46ec-88d6-6db3e70b7094"
      },
      "outputs": [
        {
          "output_type": "stream",
          "name": "stdout",
          "text": [
            "Evaluation \t Proposed point \t  Current eval. \t  Best eval. \t        Exact EI: StdDev. x \t Approx EI: StdDev. x \n",
            "init\t [-4.33860312  2.86636843]\t 35.25561298730891\t 5.622520458601941\t    \t    \n",
            "init\t [-0.63068947  2.28828342]\t 10.870251237170722\t 5.622520458601941\t    \t    \n",
            "init\t [4.8946126  0.39419771]\t 24.268016205804518\t 5.622520458601941\t    \t    \n",
            "init\t [ 0.01147355 -4.38219639]\t 38.407422120416236\t 5.622520458601941\t    \t    \n",
            "init\t [-2.37118484e+00 -1.20319155e-03]\t 5.622520458601941\t 5.622520458601941\t    \t    \n",
            "1  \t [-5.12 -5.12]\t 78.64320000000001\t 5.622520458601941\t 3.539344733651757\t 3.477300629387618\n",
            "2  \t [ 5.12 -5.12]\t 78.64320000000001\t 5.622520458601941\t 3.731154161492325\t 3.7520142863972996\n",
            "3  \t [3.47386493 5.12      ]\t 64.4965375826348\t 5.622520458601941\t 3.67690850190424\t 3.6416261264518144\n",
            "4  \t [-4.02558214 -1.33646422]\t 19.777584798449002\t 5.622520458601941\t 2.8894091457083273\t 3.046307140328312\n",
            "\u001b[1m\u001b[92m5\u001b[0m\t \u001b[1m\u001b[92m[ 1.31200277 -0.73519282]\u001b[0m\t \u001b[1m\u001b[92m2.8023682218627366\u001b[0m\t \u001b[1m\u001b[92m2.8023682218627366\u001b[0m\t \u001b[1m\u001b[92m3.172137643359218\u001b[0m\t \u001b[1m\u001b[92m3.077975382236994\u001b[0m\n",
            "6  \t [-1.42357031  5.12      ]\t 54.45535241353553\t 2.8023682218627366\t 2.7243859405316906\t 3.239625948649319\n",
            "7  \t [ 2.96036112 -2.33938356]\t 19.70916881028583\t 2.8023682218627366\t 2.6575714906283503\t 2.303560612301828\n",
            "8  \t [2.10191327 1.78443421]\t 10.78645032503055\t 2.8023682218627366\t 2.9431270649150973\t 3.0158967046609773\n",
            "9  \t [-0.51550864 -1.21770055]\t 3.231338393492709\t 2.8023682218627366\t 3.1408681517325574\t 3.0369577363340947\n",
            "10 \t [-5.12  5.12]\t 78.64320000000001\t 2.8023682218627366\t 3.1602345679979136\t 3.553863975343497\n",
            "11 \t [-2.46828693 -3.28572645]\t 27.684437011675904\t 2.8023682218627366\t 3.031437497672449\t 2.811456893254948\n",
            "12 \t [5.12       2.85368989]\t 42.50149200791653\t 2.8023682218627366\t 3.35067477742116\t 3.3117943086503097\n",
            "\u001b[1m\u001b[92m13\u001b[0m\t \u001b[1m\u001b[92m[0.13950171 0.07255526]\u001b[0m\t \u001b[1m\u001b[92m0.029989258093336774\u001b[0m\t \u001b[1m\u001b[92m0.029989258093336774\u001b[0m\t \u001b[1m\u001b[92m2.766737895213095\u001b[0m\t \u001b[1m\u001b[92m2.991596183435504\u001b[0m\n",
            "14 \t [0.13492213 0.07994964]\t 0.030987870528900462\t 0.029989258093336774\t 2.6494364188837927\t 2.4206576373469386\n",
            "15 \t [0.13453168 0.08052697]\t 0.03106795899811827\t 0.029989258093336774\t 3.1657575212412663\t 3.086313432277027\n",
            "16 \t [0.13477772 0.08017864]\t 0.0310222625634219\t 0.029989258093336774\t 2.613700708132959\t 2.3995627532766357\n",
            "17 \t [0.13511735 0.07970598]\t 0.030962786216375743\t 0.029989258093336774\t 2.046086304646792\t 2.588049180646011\n",
            "18 \t [0.13543526 0.07926534]\t 0.030908697566621637\t 0.029989258093336774\t 3.247126875624771\t 3.447518217527825\n",
            "19 \t [0.13570945 0.07888483]\t 0.03086268655337812\t 0.029989258093336774\t 2.8766767526605586\t 2.6004811049469656\n",
            "20 \t [0.13594    0.07856241]\t 0.03082378601145702\t 0.029989258093336774\t 3.006432165805386\t 2.8639954924670867\n"
          ]
        }
      ],
      "source": [
        "### ESTIMATED GP EI GRADIENTS\n",
        "\n",
        "np.random.seed(run_num_7)\n",
        "surrogate_approx_7 = dGaussianProcess(cov_func, optimize=opt)\n",
        "\n",
        "approx_7 = GPGO_multi(surrogate_approx_7, Acquisition_grad(util), objfunc, param)\n",
        "approx_7.run(init_evals=n_init, max_iter=iters)\n"
      ]
    },
    {
      "cell_type": "code",
      "execution_count": 20,
      "metadata": {
        "id": "4unvifF-GCXp",
        "colab": {
          "base_uri": "https://localhost:8080/"
        },
        "outputId": "8a6bb358-38fb-4e99-d02b-eedd547175a4"
      },
      "outputs": [
        {
          "output_type": "stream",
          "name": "stdout",
          "text": [
            "Evaluation \t Proposed point \t  Current eval. \t  Best eval. \t        Exact EI: StdDev. x \t Approx EI: StdDev. x \n",
            "init\t [3.82391708 4.79785639]\t 60.661193695854244\t 0.1518306274298758\t    \t    \n",
            "init\t [3.78055209 0.31596228]\t 14.492238445440277\t 0.1518306274298758\t    \t    \n",
            "init\t [-2.73686192 -5.00327624]\t 57.555959528959804\t 0.1518306274298758\t    \t    \n",
            "init\t [-0.7119993  -0.99992207]\t 2.506631309190485\t 0.1518306274298758\t    \t    \n",
            "init\t [ 0.23218863 -0.22126801]\t 0.1518306274298758\t 0.1518306274298758\t    \t    \n",
            "1  \t [0.12486595 1.98541063]\t 7.899302274132782\t 0.1518306274298758\t 3.068275642883515\t 3.872615779416303\n",
            "2  \t [-5.03492225  2.95509263]\t 42.81558690689544\t 0.1518306274298758\t 3.188712949805354\t 3.4731488971218893\n",
            "3  \t [ 5.05673503 -5.12      ]\t 77.99936919147791\t 0.1518306274298758\t 2.88793475310065\t 3.5492530349772875\n",
            "4  \t [-5.12       -1.12258897]\t 28.73481197769576\t 0.1518306274298758\t 3.3821198663597882\t 3.3858131610093296\n",
            "5  \t [-1.47733294  5.12      ]\t 54.6113126078822\t 0.1518306274298758\t 2.8254403923789186\t 2.9827423258332506\n",
            "6  \t [ 1.23272718 -3.54689682]\t 26.68057046835855\t 0.1518306274298758\t 3.1281506404065254\t 3.1808271030410764\n",
            "7  \t [-2.37298246  0.74916343]\t 6.753537455132029\t 0.1518306274298758\t 2.94891139373265\t 3.2327775107160615\n",
            "8  \t [ 1.17437735 -0.44373947]\t 1.7729715932151058\t 0.1518306274298758\t 3.9779927173038727\t 3.278375380956763\n",
            "9  \t [ 5.12     -1.851839]\t 33.07301536204278\t 0.1518306274298758\t 2.9351783234947684\t 2.7313786272361846\n",
            "10 \t [-2.12538266 -1.90750154]\t 11.794375749716206\t 0.1518306274298758\t 3.314044333899489\t 2.9631195520086826\n",
            "11 \t [5.12       2.13646393]\t 35.34335621976858\t 0.1518306274298758\t 3.487113624480275\t 3.452373785379238\n",
            "12 \t [ 0.27895291 -0.41741827]\t 0.4262907529674967\t 0.1518306274298758\t 2.9232340074948695\t 2.6455433559986212\n",
            "13 \t [ 0.2833319  -0.40841421]\t 0.413881300600064\t 0.1518306274298758\t 3.4632213940145733\t 3.0554872873867747\n",
            "14 \t [ 0.28696049 -0.40450455]\t 0.409594178817992\t 0.1518306274298758\t 3.381900724635046\t 3.040922138120866\n",
            "15 \t [ 0.28981254 -0.40263268]\t 0.40821745675233706\t 0.1518306274298758\t 2.923459464908753\t 3.197404290890141\n",
            "16 \t [ 0.29198634 -0.40161599]\t 0.40784682147861\t 0.1518306274298758\t 3.283775140630867\t 2.913685689994886\n",
            "17 \t [ 0.29361248 -0.40097208]\t 0.40776550504515324\t 0.1518306274298758\t 3.070166174472184\t 2.843507683132703\n",
            "18 \t [ 0.2948196  -0.40050362]\t 0.4077248982977995\t 0.1518306274298758\t 2.977805455886839\t 3.1005440776290163\n",
            "19 \t [ 0.29571856 -0.40014483]\t 0.4076812325508489\t 0.1518306274298758\t 2.8669117034500253\t 2.9432771989148883\n",
            "20 \t [ 0.29639917 -0.39984881]\t 0.4076106142798864\t 0.1518306274298758\t 3.158701523897487\t 2.73516929714254\n"
          ]
        }
      ],
      "source": [
        "### ESTIMATED GP EI GRADIENTS\n",
        "\n",
        "np.random.seed(run_num_8)\n",
        "surrogate_approx_8 = dGaussianProcess(cov_func, optimize=opt)\n",
        "\n",
        "approx_8 = GPGO_multi(surrogate_approx_8, Acquisition_grad(util), objfunc, param)\n",
        "approx_8.run(init_evals=n_init, max_iter=iters)\n"
      ]
    },
    {
      "cell_type": "code",
      "execution_count": 21,
      "metadata": {
        "id": "85OIXcg7GCaJ",
        "colab": {
          "base_uri": "https://localhost:8080/"
        },
        "outputId": "4d22fda5-e14e-4f7c-e48e-0f58c71c64ee"
      },
      "outputs": [
        {
          "output_type": "stream",
          "name": "stdout",
          "text": [
            "Evaluation \t Proposed point \t  Current eval. \t  Best eval. \t        Exact EI: StdDev. x \t Approx EI: StdDev. x \n",
            "init\t [-5.01376866  0.01919582]\t 25.138613177506063\t 14.00341364504739\t    \t    \n",
            "init\t [-0.04328148 -3.74958562]\t 28.12065798163534\t 14.00341364504739\t    \t    \n",
            "init\t [-3.66478248 -2.88195916]\t 30.04200788009657\t 14.00341364504739\t    \t    \n",
            "init\t [-0.83447623 -2.57944404]\t 14.00341364504739\t 14.00341364504739\t    \t    \n",
            "init\t [-4.25922917 -1.58209393]\t 23.14707552082245\t 14.00341364504739\t    \t    \n",
            "1  \t [3.69491889 4.82146316]\t 60.145439711826235\t 14.00341364504739\t 3.038373123633067\t 3.0192895788417218\n",
            "2  \t [-2.46637815  5.12      ]\t 58.51182117478679\t 14.00341364504739\t 3.1589092245153867\t 4.235869272981776\n",
            "3  \t [ 5.12       -0.85247022]\t 27.667810936905646\t 14.00341364504739\t 3.190730370273702\t 3.4137665292017987\n",
            "4  \t [ 4.49546884 -5.12      ]\t 72.6380401273718\t 14.00341364504739\t 3.2779478223290703\t 3.7749102678700495\n",
            "\u001b[1m\u001b[92m5\u001b[0m\t \u001b[1m\u001b[92m[0.5364639  1.37486448]\u001b[0m\t \u001b[1m\u001b[92m4.068298198578393\u001b[0m\t \u001b[1m\u001b[92m4.068298198578393\u001b[0m\t \u001b[1m\u001b[92m3.6053944283741752\u001b[0m\t \u001b[1m\u001b[92m2.805347252077483\u001b[0m\n",
            "6  \t [-2.0481282   1.42115296]\t 8.23418059821704\t 4.068298198578393\t 2.9025844978486126\t 2.918829887564305\n",
            "7  \t [ 1.86656704 -0.8815518 ]\t 5.038339675064188\t 4.068298198578393\t 3.5010290301528677\t 3.1233871829926203\n",
            "8  \t [-5.12        3.18649114]\t 46.5218516170474\t 4.068298198578393\t 3.4145558872981345\t 2.9039286068436096\n",
            "9  \t [0.55538935 3.75672295]\t 28.53439198057283\t 4.068298198578393\t 3.8111262299127313\t 3.2327430689041745\n",
            "10 \t [3.1649535  1.51178671]\t 14.587928730284734\t 4.068298198578393\t 3.377490783743591\t 2.92255878100424\n",
            "11 \t [-5.12 -5.12]\t 78.64320000000001\t 4.068298198578393\t 2.96844290219255\t 3.4946189120772746\n",
            "\u001b[1m\u001b[92m12\u001b[0m\t \u001b[1m\u001b[92m[-0.4623141  -0.27418402]\u001b[0m\t \u001b[1m\u001b[92m0.3640880745201942\u001b[0m\t \u001b[1m\u001b[92m0.3640880745201942\u001b[0m\t \u001b[1m\u001b[92m1.999518520984288\u001b[0m\t \u001b[1m\u001b[92m2.8957834464446024\u001b[0m\n",
            "13 \t [ 2.63844667 -2.62552337]\t 20.748146721202883\t 0.3640880745201942\t 2.1113983891083\t 2.009722276449768\n",
            "\u001b[1m\u001b[92m14\u001b[0m\t \u001b[1m\u001b[92m[-0.16826443 -0.26666075]\u001b[0m\t \u001b[1m\u001b[92m0.17052883348723993\u001b[0m\t \u001b[1m\u001b[92m0.17052883348723993\u001b[0m\t \u001b[1m\u001b[92m3.028086532884291\u001b[0m\t \u001b[1m\u001b[92m2.654375883665778\u001b[0m\n",
            "15 \t [-0.24704379 -0.26605625]\t 0.20260248759013594\t 0.17052883348723993\t 2.7397701749220382\t 2.620189059518339\n",
            "16 \t [-0.37827958 -0.27221831]\t 0.2913010601799433\t 0.17052883348723993\t 2.779112009975411\t 2.3616848808086726\n",
            "\u001b[1m\u001b[92m17\u001b[0m\t \u001b[1m\u001b[92m[-0.09961409 -0.26361631]\u001b[0m\t \u001b[1m\u001b[92m0.148910083050455\u001b[0m\t \u001b[1m\u001b[92m0.148910083050455\u001b[0m\t \u001b[1m\u001b[92m2.6319118041017395\u001b[0m\t \u001b[1m\u001b[92m2.828173632055306\u001b[0m\n",
            "18 \t [-0.63178223 -0.30705359]\t 0.5877126006773267\t 0.148910083050455\t 2.905599634466641\t 2.9966446830207527\n",
            "\u001b[1m\u001b[92m19\u001b[0m\t \u001b[1m\u001b[92m[ 0.03456274 -0.26161705]\u001b[0m\t \u001b[1m\u001b[92m0.1380815460407721\u001b[0m\t \u001b[1m\u001b[92m0.1380815460407721\u001b[0m\t \u001b[1m\u001b[92m3.281095852233508\u001b[0m\t \u001b[1m\u001b[92m2.953929252410082\u001b[0m\n",
            "\u001b[1m\u001b[92m20\u001b[0m\t \u001b[1m\u001b[92m[ 0.00771495 -0.26044027]\u001b[0m\t \u001b[1m\u001b[92m0.13571778742024138\u001b[0m\t \u001b[1m\u001b[92m0.13571778742024138\u001b[0m\t \u001b[1m\u001b[92m3.261919805470134\u001b[0m\t \u001b[1m\u001b[92m3.13317324742679\u001b[0m\n"
          ]
        }
      ],
      "source": [
        "### ESTIMATED GP EI GRADIENTS\n",
        "\n",
        "np.random.seed(run_num_9)\n",
        "surrogate_approx_9 = dGaussianProcess(cov_func, optimize=opt)\n",
        "\n",
        "approx_9 = GPGO_multi(surrogate_approx_9, Acquisition_grad(util), objfunc, param)\n",
        "approx_9.run(init_evals=n_init, max_iter=iters)\n"
      ]
    },
    {
      "cell_type": "code",
      "execution_count": 22,
      "metadata": {
        "id": "QQBR-qJPGCcp",
        "colab": {
          "base_uri": "https://localhost:8080/"
        },
        "outputId": "3a954a02-6c1a-41d2-dc49-37ccd04d9930"
      },
      "outputs": [
        {
          "output_type": "stream",
          "name": "stdout",
          "text": [
            "Evaluation \t Proposed point \t  Current eval. \t  Best eval. \t        Exact EI: StdDev. x \t Approx EI: StdDev. x \n",
            "init\t [ 2.77832339 -4.90750004]\t 55.886194099964676\t 14.855028828430257\t    \t    \n",
            "init\t [1.36855793 2.54775176]\t 14.855028828430257\t 14.855028828430257\t    \t    \n",
            "init\t [-0.01528819 -2.81808235]\t 15.883409988980564\t 14.855028828430257\t    \t    \n",
            "init\t [-3.09183626  2.66783449]\t 23.79413325191142\t 14.855028828430257\t    \t    \n",
            "init\t [-3.38830503 -4.2154003 ]\t 47.019810427389544\t 14.855028828430257\t    \t    \n",
            "1  \t [ 5.12       -0.36595804]\t 26.48225057490179\t 14.855028828430257\t 3.620958851180413\t 3.7809059221061108\n",
            "2  \t [5.12 5.12]\t 78.64320000000001\t 14.855028828430257\t 3.273527694106236\t 3.5547617633624657\n",
            "3  \t [-5.12       -0.57726346]\t 26.880866212100237\t 14.855028828430257\t 2.7020978289432276\t 3.316184023717277\n",
            "4  \t [-0.64482721  5.12      ]\t 52.84460213250103\t 14.855028828430257\t 3.553435348967032\t 3.613439705817086\n",
            "5  \t [-5.12  5.12]\t 78.64320000000001\t 14.855028828430257\t 3.4714961259540527\t 3.471915981895069\n",
            "\u001b[1m\u001b[92m6\u001b[0m\t \u001b[1m\u001b[92m[-1.00581938  0.12347589]\u001b[0m\t \u001b[1m\u001b[92m1.0421652061401754\u001b[0m\t \u001b[1m\u001b[92m1.0421652061401754\u001b[0m\t \u001b[1m\u001b[92m3.3500415911414514\u001b[0m\t \u001b[1m\u001b[92m3.0364697177187723\u001b[0m\n",
            "7  \t [ 1.86712634 -0.48442821]\t 3.955502149754868\t 1.0421652061401754\t 3.1089377185628564\t 3.1853556278737556\n",
            "8  \t [-2.1274576 -0.7835813]\t 5.754075124656114\t 1.0421652061401754\t 3.4518239984733308\t 3.2136473938810006\n",
            "9  \t [ 5.12       -3.18473819]\t 46.49951472281339\t 1.0421652061401754\t 3.1461264124883597\t 3.2381171175358623\n",
            "10 \t [3.96832918 2.12138986]\t 24.748226353407105\t 1.0421652061401754\t 3.3298300133818364\t 3.6411948678231503\n",
            "11 \t [-0.42883543  0.76003349]\t 1.3392016478923343\t 1.0421652061401754\t 3.0186551237708343\t 2.6066110219163092\n",
            "12 \t [-0.483734 -5.12    ]\t 52.66279858075956\t 1.0421652061401754\t 2.98024811677661\t 2.956671369885735\n",
            "\u001b[1m\u001b[92m13\u001b[0m\t \u001b[1m\u001b[92m[ 0.04536723 -0.04382504]\u001b[0m\t \u001b[1m\u001b[92m0.005899454811362007\u001b[0m\t \u001b[1m\u001b[92m0.005899454811362007\u001b[0m\t \u001b[1m\u001b[92m2.5786181720585124\u001b[0m\t \u001b[1m\u001b[92m3.0885017254521627\u001b[0m\n",
            "14 \t [ 0.0453939  -0.04385263]\t 0.005906711782911257\t 0.005899454811362007\t 3.486727083927522\t 3.300355071455838\n",
            "\u001b[1m\u001b[92m15\u001b[0m\t \u001b[1m\u001b[92m[ 0.04119677 -0.03943005]\u001b[0m\t \u001b[1m\u001b[92m0.004806631592457878\u001b[0m\t \u001b[1m\u001b[92m0.004806631592457878\u001b[0m\t \u001b[1m\u001b[92m3.7926646361556555\u001b[0m\t \u001b[1m\u001b[92m3.301844102359652\u001b[0m\n",
            "\u001b[1m\u001b[92m16\u001b[0m\t \u001b[1m\u001b[92m[ 0.03753303 -0.03555632]\u001b[0m\t \u001b[1m\u001b[92m0.003937232817072811\u001b[0m\t \u001b[1m\u001b[92m0.003937232817072811\u001b[0m\t \u001b[1m\u001b[92m3.318643729474962\u001b[0m\t \u001b[1m\u001b[92m2.8009532566684396\u001b[0m\n",
            "\u001b[1m\u001b[92m17\u001b[0m\t \u001b[1m\u001b[92m[ 0.03467078 -0.03254037]\u001b[0m\t \u001b[1m\u001b[92m0.003319814553761266\u001b[0m\t \u001b[1m\u001b[92m0.003319814553761266\u001b[0m\t \u001b[1m\u001b[92m3.209435541386201\u001b[0m\t \u001b[1m\u001b[92m3.123418553334432\u001b[0m\n",
            "\u001b[1m\u001b[92m18\u001b[0m\t \u001b[1m\u001b[92m[ 0.0324486  -0.03021459]\u001b[0m\t \u001b[1m\u001b[92m0.0028787548176470346\u001b[0m\t \u001b[1m\u001b[92m0.0028787548176470346\u001b[0m\t \u001b[1m\u001b[92m2.824161387556213\u001b[0m\t \u001b[1m\u001b[92m3.0174195686449563\u001b[0m\n",
            "\u001b[1m\u001b[92m19\u001b[0m\t \u001b[1m\u001b[92m[ 0.03070047 -0.02840082]\u001b[0m\t \u001b[1m\u001b[92m0.002555732711373896\u001b[0m\t \u001b[1m\u001b[92m0.002555732711373896\u001b[0m\t \u001b[1m\u001b[92m2.405770981258502\u001b[0m\t \u001b[1m\u001b[92m2.013165684218076\u001b[0m\n",
            "\u001b[1m\u001b[92m20\u001b[0m\t \u001b[1m\u001b[92m[ 0.02930249 -0.0269635 ]\u001b[0m\t \u001b[1m\u001b[92m0.002312696982618645\u001b[0m\t \u001b[1m\u001b[92m0.002312696982618645\u001b[0m\t \u001b[1m\u001b[92m2.9576015056751945\u001b[0m\t \u001b[1m\u001b[92m3.0043901101450476\u001b[0m\n"
          ]
        }
      ],
      "source": [
        "### ESTIMATED GP EI GRADIENTS\n",
        "\n",
        "np.random.seed(run_num_10)\n",
        "surrogate_approx_10 = dGaussianProcess(cov_func, optimize=opt)\n",
        "\n",
        "approx_10 = GPGO_multi(surrogate_approx_10, Acquisition_grad(util), objfunc, param)\n",
        "approx_10.run(init_evals=n_init, max_iter=iters)\n"
      ]
    },
    {
      "cell_type": "code",
      "execution_count": 23,
      "metadata": {
        "id": "JS8ejeQ2GCfi",
        "colab": {
          "base_uri": "https://localhost:8080/"
        },
        "outputId": "fd6e5135-9906-4c9d-83c7-fd2a13612059"
      },
      "outputs": [
        {
          "output_type": "stream",
          "name": "stdout",
          "text": [
            "Evaluation \t Proposed point \t  Current eval. \t  Best eval. \t        Exact EI: StdDev. x \t Approx EI: StdDev. x \n",
            "init\t [-3.27403839 -4.92057353]\t 59.14341502486697\t 0.7122141741228657\t    \t    \n",
            "init\t [-0.37664229  2.30332343]\t 10.752457105378047\t 0.7122141741228657\t    \t    \n",
            "init\t [-0.81711509 -0.14922651]\t 0.7122141741228657\t 0.7122141741228657\t    \t    \n",
            "init\t [-4.98912446 -0.12931474]\t 24.924807467825406\t 0.7122141741228657\t    \t    \n",
            "init\t [4.52410012 3.59214172]\t 46.27444610017016\t 0.7122141741228657\t    \t    \n",
            "1  \t [ 3.03550212 -4.46785095]\t 49.13765732819627\t 0.7122141741228657\t 3.254381789545812\t 3.913987280875641\n",
            "2  \t [-5.12  5.12]\t 78.64320000000001\t 0.7122141741228657\t 2.5610096435674423\t 3.4478908246017754\n",
            "3  \t [ 5.12       -0.69370001]\t 27.176839405458907\t 0.7122141741228657\t 3.1905776753165607\t 3.3585425825702244\n",
            "4  \t [-0.20205328 -2.31433287]\t 10.753098771146849\t 0.7122141741228657\t 2.707379177408252\t 2.5786799940886267\n",
            "5  \t [1.0163951 5.12     ]\t 53.461859004973135\t 0.7122141741228657\t 2.9125085755494635\t 2.4100880386432406\n",
            "6  \t [1.88353941 0.22229053]\t 3.6465468636460634\t 0.7122141741228657\t 2.9564501908583485\t 2.7192626250715586\n",
            "7  \t [-3.06743641  2.29611154]\t 19.95342254253442\t 0.7122141741228657\t 3.459359854068418\t 3.336802202291022\n",
            "8  \t [-0.0472179 -5.12     ]\t 52.43102953009265\t 0.7122141741228657\t 3.5433756705828103\t 2.8475440652367245\n",
            "9  \t [-2.16588582 -0.79065082]\t 5.941318799927339\t 0.7122141741228657\t 3.7145175815409686\t 3.5503759457433945\n",
            "10 \t [-1.96797145  5.12      ]\t 56.30171163632923\t 0.7122141741228657\t 2.941235018580102\t 2.9448898419587706\n",
            "11 \t [ 2.22717332 -1.50794223]\t 9.508080547126116\t 0.7122141741228657\t 3.8002929275689175\t 3.1138882816557176\n",
            "12 \t [-5.12       -2.73732774]\t 41.200326326598244\t 0.7122141741228657\t 3.633486058906807\t 2.9446868624003004\n",
            "13 \t [2.13387066 1.78827314]\t 10.949245678248301\t 0.7122141741228657\t 3.0518003840184575\t 2.091685302238987\n",
            "\u001b[1m\u001b[92m14\u001b[0m\t \u001b[1m\u001b[92m[-0.02439237  0.04460631]\u001b[0m\t \u001b[1m\u001b[92m0.004574433780198403\u001b[0m\t \u001b[1m\u001b[92m0.004574433780198403\u001b[0m\t \u001b[1m\u001b[92m3.625756479359132\u001b[0m\t \u001b[1m\u001b[92m3.2890060112726545\u001b[0m\n",
            "15 \t [-0.03156316  0.04449681]\t 0.004956166268206744\t 0.004574433780198403\t 3.0048180096563737\t 3.0628512374280987\n",
            "16 \t [-0.0388917   0.04444329]\t 0.00546297659247289\t 0.004574433780198403\t 3.7280886815040764\t 3.4654694752319823\n",
            "17 \t [-0.04427747  0.04440915]\t 0.00590484046241596\t 0.004574433780198403\t 2.76019621090057\t 1.9201622409014742\n",
            "18 \t [-0.04818677  0.04437529]\t 0.00626029790698464\t 0.004574433780198403\t 3.189112906395916\t 2.5156259747511993\n",
            "19 \t [-0.051084    0.04433807]\t 0.006541303066148136\t 0.004574433780198403\t 3.1989417551055443\t 2.5727486230528798\n",
            "20 \t [-0.05328416  0.0442989 ]\t 0.0067639872549069505\t 0.004574433780198403\t 3.7220207820406794\t 2.781584411336156\n"
          ]
        }
      ],
      "source": [
        "### ESTIMATED GP EI GRADIENTS\n",
        "\n",
        "np.random.seed(run_num_11)\n",
        "surrogate_approx_11 = dGaussianProcess(cov_func, optimize=opt)\n",
        "\n",
        "approx_11 = GPGO_multi(surrogate_approx_11, Acquisition_grad(util), objfunc, param)\n",
        "approx_11.run(init_evals=n_init, max_iter=iters)\n"
      ]
    },
    {
      "cell_type": "code",
      "execution_count": 24,
      "metadata": {
        "id": "DXwjUVZ4GCii",
        "colab": {
          "base_uri": "https://localhost:8080/"
        },
        "outputId": "e6852150-f984-413a-b8cc-8c16d819b802"
      },
      "outputs": [
        {
          "output_type": "stream",
          "name": "stdout",
          "text": [
            "Evaluation \t Proposed point \t  Current eval. \t  Best eval. \t        Exact EI: StdDev. x \t Approx EI: StdDev. x \n",
            "init\t [-3.54137249  2.45810889]\t 24.62591779447066\t 6.112828495563743\t    \t    \n",
            "init\t [-2.42365424  0.34549139]\t 6.112828495563743\t 6.112828495563743\t    \t    \n",
            "init\t [-4.97075238  4.28796936]\t 61.48174177959852\t 6.112828495563743\t    \t    \n",
            "init\t [ 4.10332011 -4.77776458]\t 62.49130467854858\t 6.112828495563743\t    \t    \n",
            "init\t [ 4.6791612  -3.71497655]\t 49.4966510918416\t 6.112828495563743\t    \t    \n",
            "1  \t [5.12 5.12]\t 78.64320000000001\t 6.112828495563743\t 3.844578738994418\t 3.5638827355856275\n",
            "2  \t [-5.12 -5.12]\t 78.64320000000001\t 6.112828495563743\t 3.641277157046997\t 3.0759541781298547\n",
            "3  \t [2.22863071 0.76754102]\t 6.145033280800452\t 6.112828495563743\t 2.813737097769883\t 2.656842911797133\n",
            "4  \t [0.21514335 5.12      ]\t 52.47508666143106\t 6.112828495563743\t 2.9008848535429546\t 3.1373170288722134\n",
            "5  \t [-0.49943553 -3.56824593]\t 25.71419382465977\t 6.112828495563743\t 2.7282754565691945\t 2.5848754360222985\n",
            "6  \t [-5.12       -1.12892035]\t 28.76332231099814\t 6.112828495563743\t 2.6847372975449684\t 3.201476971422096\n",
            "7  \t [5.12       0.29602942]\t 26.389666832350777\t 6.112828495563743\t 2.4596400606155746\t 3.1731654544676267\n",
            "\u001b[1m\u001b[92m8\u001b[0m\t \u001b[1m\u001b[92m[-0.1704423   1.63845849]\u001b[0m\t \u001b[1m\u001b[92m5.3981430222945095\u001b[0m\t \u001b[1m\u001b[92m5.3981430222945095\u001b[0m\t \u001b[1m\u001b[92m2.4915220211417157\u001b[0m\t \u001b[1m\u001b[92m2.5286520142820796\u001b[0m\n",
            "9  \t [ 1.93651125 -1.67305239]\t 9.34828441294536\t 5.3981430222945095\t 2.364731451295883\t 2.685509059872176\n",
            "10 \t [2.65147062 2.92492227]\t 24.1406370795785\t 5.3981430222945095\t 2.608059311988896\t 3.1592264597000965\n",
            "\u001b[1m\u001b[92m11\u001b[0m\t \u001b[1m\u001b[92m[-0.45937739 -0.64843341]\u001b[0m\t \u001b[1m\u001b[92m1.0519593520944885\u001b[0m\t \u001b[1m\u001b[92m1.0519593520944885\u001b[0m\t \u001b[1m\u001b[92m2.0208782451970735\u001b[0m\t \u001b[1m\u001b[92m2.663173559741876\u001b[0m\n",
            "12 \t [-2.50872968 -1.92336755]\t 13.692410112519235\t 1.0519593520944885\t 2.5865446880627325\t 2.6416395690209624\n",
            "\u001b[1m\u001b[92m13\u001b[0m\t \u001b[1m\u001b[92m[-0.00722807 -0.36182063]\u001b[0m\t \u001b[1m\u001b[92m0.2618805755420366\u001b[0m\t \u001b[1m\u001b[92m0.2618805755420366\u001b[0m\t \u001b[1m\u001b[92m2.4191779845811334\u001b[0m\t \u001b[1m\u001b[92m2.829579416311682\u001b[0m\n",
            "14 \t [-0.01932334 -0.36921231]\t 0.27300885219938936\t 0.2618805755420366\t 2.62698259270475\t 2.890162679548675\n",
            "15 \t [-0.02931869 -0.37531173]\t 0.2825773820868053\t 0.2618805755420366\t 2.710209915921776\t 3.2728651357931895\n",
            "16 \t [-0.03654527 -0.37970837]\t 0.28969244460384247\t 0.2618805755420366\t 2.5720009542092623\t 3.1060423198952614\n",
            "17 \t [-0.0417664  -0.38287493]\t 0.29493085408071346\t 0.2618805755420366\t 2.394926968566117\t 2.409484132948182\n",
            "18 \t [-0.0456092  -0.38519853]\t 0.2988360186782631\t 0.2618805755420366\t 3.0271201043865195\t 2.875846159719447\n",
            "19 \t [-0.0484973  -0.38694028]\t 0.3017975490022207\t 0.2618805755420366\t 2.6369631335127046\t 2.941497149835215\n",
            "20 \t [-0.05071097 -0.38827199]\t 0.30408188637925676\t 0.2618805755420366\t 2.4083480387165115\t 2.7261814964600575\n"
          ]
        }
      ],
      "source": [
        "### ESTIMATED GP EI GRADIENTS\n",
        "\n",
        "np.random.seed(run_num_12)\n",
        "surrogate_approx_12 = dGaussianProcess(cov_func, optimize=opt)\n",
        "\n",
        "approx_12 = GPGO_multi(surrogate_approx_12, Acquisition_grad(util), objfunc, param)\n",
        "approx_12.run(init_evals=n_init, max_iter=iters)\n"
      ]
    },
    {
      "cell_type": "code",
      "execution_count": 25,
      "metadata": {
        "id": "CphOPndPGClX",
        "colab": {
          "base_uri": "https://localhost:8080/"
        },
        "outputId": "ac384c57-da23-4129-d45f-6c54774437c1"
      },
      "outputs": [
        {
          "output_type": "stream",
          "name": "stdout",
          "text": [
            "Evaluation \t Proposed point \t  Current eval. \t  Best eval. \t        Exact EI: StdDev. x \t Approx EI: StdDev. x \n",
            "init\t [ 2.84367268 -2.68757791]\t 22.532624345992815\t 12.440151302029248\t    \t    \n",
            "init\t [3.32061217 4.76927179]\t 56.51837198799\t 12.440151302029248\t    \t    \n",
            "init\t [ 4.83943541 -0.47667971]\t 23.87458213765974\t 12.440151302029248\t    \t    \n",
            "init\t [1.11659482 2.82139151]\t 17.16728408945556\t 12.440151302029248\t    \t    \n",
            "init\t [1.45012065 2.27346667]\t 12.440151302029248\t 12.440151302029248\t    \t    \n",
            "1  \t [-5.12       -2.70365899]\t 40.833943870429835\t 12.440151302029248\t 2.8151834978133445\t 3.1560145999618334\n",
            "2  \t [-5.12  5.12]\t 78.64320000000001\t 12.440151302029248\t 3.614853243454672\t 3.8469605242500577\n",
            "3  \t [-1.05238913 -5.12      ]\t 53.53632288762506\t 12.440151302029248\t 3.0681853616346624\t 3.2178391317240345\n",
            "\u001b[1m\u001b[92m4\u001b[0m\t \u001b[1m\u001b[92m[-2.75789583  1.04655177]\u001b[0m\t \u001b[1m\u001b[92m9.796530582842957\u001b[0m\t \u001b[1m\u001b[92m9.796530582842957\u001b[0m\t \u001b[1m\u001b[92m3.0644980503482473\u001b[0m\t \u001b[1m\u001b[92m3.1115727233761183\u001b[0m\n",
            "5  \t [ 5.12 -5.12]\t 78.64320000000001\t 9.796530582842957\t 3.410466237055647\t 3.970356349729746\n",
            "6  \t [-1.23800419  5.12      ]\t 53.96145437985989\t 9.796530582842957\t 2.9938236714170277\t 2.9558276328514914\n",
            "\u001b[1m\u001b[92m7\u001b[0m\t \u001b[1m\u001b[92m[-0.38792979 -1.17408809]\u001b[0m\t \u001b[1m\u001b[92m2.907455191046557\u001b[0m\t \u001b[1m\u001b[92m2.907455191046557\u001b[0m\t \u001b[1m\u001b[92m3.5326304746873274\u001b[0m\t \u001b[1m\u001b[92m3.4065231485336693\u001b[0m\n",
            "8  \t [5.12       2.30555809]\t 36.84559625071968\t 2.907455191046557\t 3.513745342134474\t 3.310927904974977\n",
            "9  \t [-5.12        1.29760424]\t 29.581953507862487\t 2.907455191046557\t 3.2218194374179787\t 2.7359481781771264\n",
            "10 \t [-2.15100989 -1.81268332]\t 11.198485214163107\t 2.907455191046557\t 3.0446677671915308\t 2.752155581790208\n",
            "\u001b[1m\u001b[92m11\u001b[0m\t \u001b[1m\u001b[92m[ 1.23119692 -0.22944411]\u001b[0m\t \u001b[1m\u001b[92m1.6211350477940583\u001b[0m\t \u001b[1m\u001b[92m1.6211350477940583\u001b[0m\t \u001b[1m\u001b[92m3.4424087751325\u001b[0m\t \u001b[1m\u001b[92m3.011692412622868\u001b[0m\n",
            "12 \t [ 1.88993328 -5.12      ]\t 56.00064778566381\t 1.6211350477940583\t 3.839143227886546\t 2.66404218270882\n",
            "13 \t [-4.1597626 -5.12     ]\t 69.73242489855453\t 1.6211350477940583\t 2.909367065667929\t 2.8128562358045284\n",
            "\u001b[1m\u001b[92m14\u001b[0m\t \u001b[1m\u001b[92m[-0.39635683  0.51939198]\u001b[0m\t \u001b[1m\u001b[92m0.6966348013069965\u001b[0m\t \u001b[1m\u001b[92m0.6966348013069965\u001b[0m\t \u001b[1m\u001b[92m2.5186356370380105\u001b[0m\t \u001b[1m\u001b[92m1.4508704818115756\u001b[0m\n",
            "\u001b[1m\u001b[92m15\u001b[0m\t \u001b[1m\u001b[92m[-0.32835924  0.44302684]\u001b[0m\t \u001b[1m\u001b[92m0.5003653564655597\u001b[0m\t \u001b[1m\u001b[92m0.5003653564655597\u001b[0m\t \u001b[1m\u001b[92m2.6915557397920673\u001b[0m\t \u001b[1m\u001b[92m2.3820789535019133\u001b[0m\n",
            "16 \t [-0.35183086  0.46312925]\t 0.5527623654168027\t 0.5003653564655597\t 2.5013469604540575\t 2.604906264526304\n",
            "\u001b[1m\u001b[92m17\u001b[0m\t \u001b[1m\u001b[92m[0.06593894 0.14915266]\u001b[0m\t \u001b[1m\u001b[92m0.04884097403459512\u001b[0m\t \u001b[1m\u001b[92m0.04884097403459512\u001b[0m\t \u001b[1m\u001b[92m3.2805690918157104\u001b[0m\t \u001b[1m\u001b[92m3.1630330572296304\u001b[0m\n",
            "\u001b[1m\u001b[92m18\u001b[0m\t \u001b[1m\u001b[92m[0.12016945 0.11435141]\u001b[0m\t \u001b[1m\u001b[92m0.04059318926891549\u001b[0m\t \u001b[1m\u001b[92m0.04059318926891549\u001b[0m\t \u001b[1m\u001b[92m2.193364003693982\u001b[0m\t \u001b[1m\u001b[92m1.8756089515042529\u001b[0m\n",
            "\u001b[1m\u001b[92m19\u001b[0m\t \u001b[1m\u001b[92m[0.14231009 0.10009606]\u001b[0m\t \u001b[1m\u001b[92m0.040290606637302315\u001b[0m\t \u001b[1m\u001b[92m0.040290606637302315\u001b[0m\t \u001b[1m\u001b[92m2.7723797270286568\u001b[0m\t \u001b[1m\u001b[92m2.4459722667431936\u001b[0m\n",
            "20 \t [0.15284099 0.09328462]\t 0.0407644066477125\t 0.040290606637302315\t 3.3466531854972192\t 2.379219932882323\n"
          ]
        }
      ],
      "source": [
        "### ESTIMATED GP EI GRADIENTS\n",
        "\n",
        "np.random.seed(run_num_13)\n",
        "surrogate_approx_13 = dGaussianProcess(cov_func, optimize=opt)\n",
        "\n",
        "approx_13 = GPGO_multi(surrogate_approx_13, Acquisition_grad(util), objfunc, param)\n",
        "approx_13.run(init_evals=n_init, max_iter=iters)\n"
      ]
    },
    {
      "cell_type": "code",
      "execution_count": 26,
      "metadata": {
        "id": "ojHTeARNGCoi",
        "colab": {
          "base_uri": "https://localhost:8080/"
        },
        "outputId": "88ea21ae-9513-486d-c949-096827a6f428"
      },
      "outputs": [
        {
          "output_type": "stream",
          "name": "stdout",
          "text": [
            "Evaluation \t Proposed point \t  Current eval. \t  Best eval. \t        Exact EI: StdDev. x \t Approx EI: StdDev. x \n",
            "init\t [0.14277984 2.79721013]\t 15.669155142359655\t 6.942951853664133\t    \t    \n",
            "init\t [ 3.7931795  -5.03759925]\t 65.14302308089468\t 6.942951853664133\t    \t    \n",
            "init\t [-1.94830412  4.68586229]\t 47.71049977745547\t 6.942951853664133\t    \t    \n",
            "init\t [ 0.13431513 -1.86076749]\t 6.942951853664133\t 6.942951853664133\t    \t    \n",
            "init\t [ 0.40140736 -2.85434939]\t 16.455748743182696\t 6.942951853664133\t    \t    \n",
            "1  \t [-5.12 -5.12]\t 78.64320000000001\t 6.942951853664133\t 4.173909664050681\t 4.000919344766778\n",
            "2  \t [5.12 5.12]\t 78.64320000000001\t 6.942951853664133\t 3.9437513730729985\t 3.9856402008446086\n",
            "3  \t [-5.12        0.37185142]\t 26.490946951582295\t 6.942951853664133\t 2.8718273120833717\t 3.6918733073329055\n",
            "4  \t [ 5.12       -0.06587619]\t 26.223079345928134\t 6.942951853664133\t 2.9801362352488243\t 3.337099903886667\n",
            "\u001b[1m\u001b[92m5\u001b[0m\t \u001b[1m\u001b[92m[-1.74275931  0.04616209]\u001b[0m\t \u001b[1m\u001b[92m3.0414719040849496\u001b[0m\t \u001b[1m\u001b[92m3.0414719040849496\u001b[0m\t \u001b[1m\u001b[92m2.5856237586420923\u001b[0m\t \u001b[1m\u001b[92m2.258363553723523\u001b[0m\n",
            "6  \t [-5.12        3.91129691]\t 56.81088699123237\t 3.0414719040849496\t 2.6627057896265596\t 3.514286048701865\n",
            "7  \t [-1.48778 -5.12   ]\t 54.642289342229205\t 3.0414719040849496\t 2.585896814067453\t 2.535735567132455\n",
            "8  \t [1.85963038 0.20670198]\t 3.5436765501821372\t 3.0414719040849496\t 2.8047820198697484\t 2.806057222935128\n",
            "9  \t [-3.07591712 -2.04861384]\t 17.854903447496703\t 3.0414719040849496\t 2.9919476649724617\t 2.8838020035831256\n",
            "10 \t [1.67184744 5.12      ]\t 55.22387386127502\t 3.0414719040849496\t 2.6216702078830254\t 3.043810727823207\n",
            "11 \t [3.19353062 2.16224866]\t 19.549276381035746\t 3.0414719040849496\t 3.037675843493589\t 2.9962919684973253\n",
            "12 \t [ 2.93188833 -1.85453804]\t 15.474591839606575\t 3.0414719040849496\t 2.070387895184195\t 2.825840469858191\n",
            "13 \t [-2.45599443  1.57723519]\t 11.007250330556937\t 3.0414719040849496\t 2.732129798790305\t 3.3121994373280574\n",
            "\u001b[1m\u001b[92m14\u001b[0m\t \u001b[1m\u001b[92m[-0.02708816  0.0885705 ]\u001b[0m\t \u001b[1m\u001b[92m0.016423235433056935\u001b[0m\t \u001b[1m\u001b[92m0.016423235433056935\u001b[0m\t \u001b[1m\u001b[92m2.3853402096652747\u001b[0m\t \u001b[1m\u001b[92m2.5747304294928246\u001b[0m\n",
            "\u001b[1m\u001b[92m15\u001b[0m\t \u001b[1m\u001b[92m[-0.03013447  0.08652163]\u001b[0m\t \u001b[1m\u001b[92m0.015880071176499717\u001b[0m\t \u001b[1m\u001b[92m0.015880071176499717\u001b[0m\t \u001b[1m\u001b[92m1.911595771066284\u001b[0m\t \u001b[1m\u001b[92m2.4903114134005775\u001b[0m\n",
            "\u001b[1m\u001b[92m16\u001b[0m\t \u001b[1m\u001b[92m[-0.03224934  0.08516968]\u001b[0m\t \u001b[1m\u001b[92m0.01554776911915427\u001b[0m\t \u001b[1m\u001b[92m0.01554776911915427\u001b[0m\t \u001b[1m\u001b[92m2.692426766279495\u001b[0m\t \u001b[1m\u001b[92m2.8265872587650653\u001b[0m\n",
            "\u001b[1m\u001b[92m17\u001b[0m\t \u001b[1m\u001b[92m[-0.03352155  0.08435797]\u001b[0m\t \u001b[1m\u001b[92m0.015356229819637529\u001b[0m\t \u001b[1m\u001b[92m0.015356229819637529\u001b[0m\t \u001b[1m\u001b[92m2.729584624190575\u001b[0m\t \u001b[1m\u001b[92m3.3399603590626734\u001b[0m\n",
            "\u001b[1m\u001b[92m18\u001b[0m\t \u001b[1m\u001b[92m[-0.0342889   0.08385558]\u001b[0m\t \u001b[1m\u001b[92m0.015239244044313864\u001b[0m\t \u001b[1m\u001b[92m0.015239244044313864\u001b[0m\t \u001b[1m\u001b[92m1.8567731265945058\u001b[0m\t \u001b[1m\u001b[92m2.430139977786273\u001b[0m\n",
            "\u001b[1m\u001b[92m19\u001b[0m\t \u001b[1m\u001b[92m[-0.03476091  0.0835321 ]\u001b[0m\t \u001b[1m\u001b[92m0.01516354499365397\u001b[0m\t \u001b[1m\u001b[92m0.01516354499365397\u001b[0m\t \u001b[1m\u001b[92m2.816348369858638\u001b[0m\t \u001b[1m\u001b[92m3.0910413520578675\u001b[0m\n",
            "\u001b[1m\u001b[92m20\u001b[0m\t \u001b[1m\u001b[92m[-0.03505823  0.08331575]\u001b[0m\t \u001b[1m\u001b[92m0.015112109207054992\u001b[0m\t \u001b[1m\u001b[92m0.015112109207054992\u001b[0m\t \u001b[1m\u001b[92m2.6866122494842344\u001b[0m\t \u001b[1m\u001b[92m2.6668879143184494\u001b[0m\n"
          ]
        }
      ],
      "source": [
        "### ESTIMATED GP EI GRADIENTS\n",
        "\n",
        "np.random.seed(run_num_14)\n",
        "surrogate_approx_14 = dGaussianProcess(cov_func, optimize=opt)\n",
        "\n",
        "approx_14 = GPGO_multi(surrogate_approx_14, Acquisition_grad(util), objfunc, param)\n",
        "approx_14.run(init_evals=n_init, max_iter=iters)\n"
      ]
    },
    {
      "cell_type": "code",
      "execution_count": 27,
      "metadata": {
        "id": "vCJzn4vWGCs3",
        "colab": {
          "base_uri": "https://localhost:8080/"
        },
        "outputId": "7cff4c24-079b-49ce-c4e6-d710d8ff74fe"
      },
      "outputs": [
        {
          "output_type": "stream",
          "name": "stdout",
          "text": [
            "Evaluation \t Proposed point \t  Current eval. \t  Best eval. \t        Exact EI: StdDev. x \t Approx EI: StdDev. x \n",
            "init\t [ 3.57189322 -3.28810573]\t 34.38169974295086\t 5.478261179905657\t    \t    \n",
            "init\t [-4.56332069 -1.41784631]\t 24.84447200795673\t 5.478261179905657\t    \t    \n",
            "init\t [-2.29989449  0.3072023 ]\t 5.478261179905657\t 5.478261179905657\t    \t    \n",
            "init\t [-1.9873903  -2.00218256]\t 11.967190241167383\t 5.478261179905657\t    \t    \n",
            "init\t [-3.97576933 -2.5610341 ]\t 28.924533081850157\t 5.478261179905657\t    \t    \n",
            "1  \t [1.29468537 5.12      ]\t 54.10501021915943\t 5.478261179905657\t 3.8558754620668605\t 3.7781088597484644\n",
            "2  \t [-5.12        4.90690396]\t 74.3698129463513\t 5.478261179905657\t 3.954279198565845\t 3.906604391192075\n",
            "3  \t [5.12       1.63025262]\t 31.529847230554225\t 5.478261179905657\t 3.888756204990341\t 3.60715387312215\n",
            "4  \t [-0.10796926 -5.12      ]\t 52.44045736208558\t 5.478261179905657\t 3.2511203056799864\t 2.7900702282299332\n",
            "\u001b[1m\u001b[92m5\u001b[0m\t \u001b[1m\u001b[92m[1.25288573 0.46101531]\u001b[0m\t \u001b[1m\u001b[92m1.9947928858571504\u001b[0m\t \u001b[1m\u001b[92m1.9947928858571504\u001b[0m\t \u001b[1m\u001b[92m3.8422274470285998\u001b[0m\t \u001b[1m\u001b[92m2.921582330097816\u001b[0m\n",
            "6  \t [5.12 5.12]\t 78.64320000000001\t 1.9947928858571504\t 4.102095614848544\t 4.001200148799449\n",
            "7  \t [-1.74889548  3.11619061]\t 22.479923238582753\t 1.9947928858571504\t 3.292914093915384\t 3.434222263913218\n",
            "8  \t [-5.12 -5.12]\t 78.64320000000001\t 1.9947928858571504\t 3.420571076111105\t 3.8182429406096006\n",
            "9  \t [-5.12        1.49048242]\t 30.657475713456407\t 1.9947928858571504\t 1.728270994963365\t 2.592719064071948\n",
            "10 \t [ 0.81656228 -1.51951158]\t 5.284604811000203\t 1.9947928858571504\t 1.8647362265449132\t 2.6372048822772185\n",
            "11 \t [1.93139234 1.92969879]\t 11.177751206687246\t 1.9947928858571504\t 2.0174431439472214\t 2.5726452331309786\n",
            "12 \t [ 2.98087532 -0.44096243]\t 9.274513405822518\t 1.9947928858571504\t 2.449048688816216\t 3.2063676759845907\n",
            "\u001b[1m\u001b[92m13\u001b[0m\t \u001b[1m\u001b[92m[-0.15734741  0.4923366 ]\u001b[0m\t \u001b[1m\u001b[92m0.5095488571621267\u001b[0m\t \u001b[1m\u001b[92m0.5095488571621267\u001b[0m\t \u001b[1m\u001b[92m2.651275927044042\u001b[0m\t \u001b[1m\u001b[92m2.6216800489364585\u001b[0m\n",
            "14 \t [ 5.12 -5.12]\t 78.64320000000001\t 0.5095488571621267\t 2.2240993387870005\t 2.899680347627941\n",
            "\u001b[1m\u001b[92m15\u001b[0m\t \u001b[1m\u001b[92m[-0.13074776  0.48597235]\u001b[0m\t \u001b[1m\u001b[92m0.4894332250637836\u001b[0m\t \u001b[1m\u001b[92m0.4894332250637836\u001b[0m\t \u001b[1m\u001b[92m1.8442828979450956\u001b[0m\t \u001b[1m\u001b[92m2.4676136390425563\u001b[0m\n",
            "\u001b[1m\u001b[92m16\u001b[0m\t \u001b[1m\u001b[92m[-0.11928774  0.48334469]\u001b[0m\t \u001b[1m\u001b[92m0.48147373816038824\u001b[0m\t \u001b[1m\u001b[92m0.48147373816038824\u001b[0m\t \u001b[1m\u001b[92m2.766146910711142\u001b[0m\t \u001b[1m\u001b[92m2.3242949369259307\u001b[0m\n",
            "\u001b[1m\u001b[92m17\u001b[0m\t \u001b[1m\u001b[92m[-0.11349566  0.48262736]\u001b[0m\t \u001b[1m\u001b[92m0.47873959805208444\u001b[0m\t \u001b[1m\u001b[92m0.47873959805208444\u001b[0m\t \u001b[1m\u001b[92m2.18772691364706\u001b[0m\t \u001b[1m\u001b[92m2.454398435419879\u001b[0m\n",
            "18 \t [ 5.12       -1.16121996]\t 28.91126359163468\t 0.47873959805208444\t 2.525181696276771\t 2.663612288541831\n",
            "19 \t [-0.12425657  0.48561052]\t 0.48707485551928686\t 0.47873959805208444\t 2.5292175104145067\t 2.249020190889397\n",
            "20 \t [-0.11986882  0.48222932]\t 0.4794587616622395\t 0.47873959805208444\t 2.0193259386493003\t 2.217624229684281\n"
          ]
        }
      ],
      "source": [
        "### ESTIMATED GP EI GRADIENTS\n",
        "\n",
        "np.random.seed(run_num_15)\n",
        "surrogate_approx_15 = dGaussianProcess(cov_func, optimize=opt)\n",
        "\n",
        "approx_15 = GPGO_multi(surrogate_approx_15, Acquisition_grad(util), objfunc, param)\n",
        "approx_15.run(init_evals=n_init, max_iter=iters)\n"
      ]
    },
    {
      "cell_type": "code",
      "execution_count": 28,
      "metadata": {
        "id": "bGGkhp-kGCw6",
        "colab": {
          "base_uri": "https://localhost:8080/"
        },
        "outputId": "a80709ff-e333-4451-c507-d847ee94ba68"
      },
      "outputs": [
        {
          "output_type": "stream",
          "name": "stdout",
          "text": [
            "Evaluation \t Proposed point \t  Current eval. \t  Best eval. \t        Exact EI: StdDev. x \t Approx EI: StdDev. x \n",
            "init\t [-2.83349935  0.23719262]\t 8.141239237549925\t 8.141239237549925\t    \t    \n",
            "init\t [ 0.51918292 -4.65303603]\t 43.571039504503474\t 8.141239237549925\t    \t    \n",
            "init\t [-1.42613673 -2.83565116]\t 18.11570093066862\t 8.141239237549925\t    \t    \n",
            "init\t [ 1.9325559  -3.44339021]\t 27.448644544199137\t 8.141239237549925\t    \t    \n",
            "init\t [-4.39987336  4.51595121]\t 60.146516261103784\t 8.141239237549925\t    \t    \n",
            "1  \t [4.61828866 5.12      ]\t 73.75739013297866\t 8.141239237549925\t 3.9072222393519773\t 4.045643184817515\n",
            "2  \t [5.12      0.0861545]\t 26.229245194744536\t 8.141239237549925\t 3.697197310691242\t 3.687209448990996\n",
            "3  \t [-5.12 -5.12]\t 78.64320000000001\t 8.141239237549925\t 3.646521893917639\t 3.9198312755076112\n",
            "4  \t [0.31466247 3.1429433 ]\t 19.855197587946883\t 8.141239237549925\t 2.5379343312225253\t 3.287076325776277\n",
            "5  \t [ 5.12 -5.12]\t 78.64320000000001\t 8.141239237549925\t 2.3001170580466197\t 2.9720347059379573\n",
            "\u001b[1m\u001b[92m6\u001b[0m\t \u001b[1m\u001b[92m[ 1.28711115 -0.05647492]\u001b[0m\t \u001b[1m\u001b[92m1.6630339380560422\u001b[0m\t \u001b[1m\u001b[92m1.6630339380560422\u001b[0m\t \u001b[1m\u001b[92m3.090488339138722\u001b[0m\t \u001b[1m\u001b[92m3.261112398388274\u001b[0m\n",
            "7  \t [-5.12       -1.36413007]\t 29.936101722657185\t 1.6630339380560422\t 2.9592531377462774\t 2.9162186868442017\n",
            "8  \t [2.89776072 1.98645336]\t 16.289011141878184\t 1.6630339380560422\t 2.3247060017253056\t 2.704118028744154\n",
            "\u001b[1m\u001b[92m9\u001b[0m\t \u001b[1m\u001b[92m[-0.28008743  0.02741895]\u001b[0m\t \u001b[1m\u001b[92m0.0799525638836291\u001b[0m\t \u001b[1m\u001b[92m0.0799525638836291\u001b[0m\t \u001b[1m\u001b[92m2.807769820680016\u001b[0m\t \u001b[1m\u001b[92m2.8107764707080656\u001b[0m\n",
            "10 \t [-1.29040978  5.12      ]\t 54.09395739174146\t 0.0799525638836291\t 2.9533497156430886\t 3.162288530331121\n",
            "11 \t [-5.12        1.53412449]\t 30.921475880155445\t 0.0799525638836291\t 2.746199369978389\t 2.8058487082056383\n",
            "12 \t [-0.30809537  0.12621324]\t 0.12678232260322936\t 0.0799525638836291\t 2.9989811547210685\t 3.028755391853659\n",
            "13 \t [ 0.05038999 -0.47552951]\t 0.454795773871035\t 0.0799525638836291\t 2.4573721754084787\t 2.601138215415476\n",
            "14 \t [-0.47148508  0.44498882]\t 0.6183282755423996\t 0.0799525638836291\t 2.3872387062076\t 2.368657733175431\n",
            "15 \t [-0.12988325 -0.2399581 ]\t 0.13202943709469064\t 0.0799525638836291\t 2.633241213061303\t 2.7554832535440315\n",
            "\u001b[1m\u001b[92m16\u001b[0m\t \u001b[1m\u001b[92m[-0.17897108 -0.13640286]\u001b[0m\t \u001b[1m\u001b[92m0.06924212591568002\u001b[0m\t \u001b[1m\u001b[92m0.06924212591568002\u001b[0m\t \u001b[1m\u001b[92m1.9243498474697331\u001b[0m\t \u001b[1m\u001b[92m2.257789829649678\u001b[0m\n",
            "\u001b[1m\u001b[92m17\u001b[0m\t \u001b[1m\u001b[92m[-0.18318267 -0.1001224 ]\u001b[0m\t \u001b[1m\u001b[92m0.0536048810188829\u001b[0m\t \u001b[1m\u001b[92m0.0536048810188829\u001b[0m\t \u001b[1m\u001b[92m2.9155543703079814\u001b[0m\t \u001b[1m\u001b[92m2.9277140595865054\u001b[0m\n",
            "\u001b[1m\u001b[92m18\u001b[0m\t \u001b[1m\u001b[92m[-0.18542132 -0.0815259 ]\u001b[0m\t \u001b[1m\u001b[92m0.04767401091166132\u001b[0m\t \u001b[1m\u001b[92m0.04767401091166132\u001b[0m\t \u001b[1m\u001b[92m2.3406048011087064\u001b[0m\t \u001b[1m\u001b[92m2.7330306805660154\u001b[0m\n",
            "\u001b[1m\u001b[92m19\u001b[0m\t \u001b[1m\u001b[92m[-0.18763423 -0.07238879]\u001b[0m\t \u001b[1m\u001b[92m0.04568687782660064\u001b[0m\t \u001b[1m\u001b[92m0.04568687782660064\u001b[0m\t \u001b[1m\u001b[92m2.558393268364497\u001b[0m\t \u001b[1m\u001b[92m2.6243231557262043\u001b[0m\n",
            "\u001b[1m\u001b[92m20\u001b[0m\t \u001b[1m\u001b[92m[-0.1897641  -0.06851768]\u001b[0m\t \u001b[1m\u001b[92m0.045399757216188545\u001b[0m\t \u001b[1m\u001b[92m0.045399757216188545\u001b[0m\t \u001b[1m\u001b[92m2.5541137243190786\u001b[0m\t \u001b[1m\u001b[92m2.7385312762623264\u001b[0m\n"
          ]
        }
      ],
      "source": [
        "### ESTIMATED GP EI GRADIENTS\n",
        "\n",
        "np.random.seed(run_num_16)\n",
        "surrogate_approx_16 = dGaussianProcess(cov_func, optimize=opt)\n",
        "\n",
        "approx_16 = GPGO_multi(surrogate_approx_16, Acquisition_grad(util), objfunc, param)\n",
        "approx_16.run(init_evals=n_init, max_iter=iters)\n"
      ]
    },
    {
      "cell_type": "code",
      "execution_count": 29,
      "metadata": {
        "id": "Yrs2mp7hGC1Z",
        "colab": {
          "base_uri": "https://localhost:8080/"
        },
        "outputId": "83d6d15f-cfc4-4d3b-9c7a-872e7e43ebd0"
      },
      "outputs": [
        {
          "output_type": "stream",
          "name": "stdout",
          "text": [
            "Evaluation \t Proposed point \t  Current eval. \t  Best eval. \t        Exact EI: StdDev. x \t Approx EI: StdDev. x \n",
            "init\t [-2.10263037  0.31320838]\t 4.617253458637031\t 3.1817562258207746\t    \t    \n",
            "init\t [-3.15882714 -4.42470033]\t 49.134134969019556\t 3.1817562258207746\t    \t    \n",
            "init\t [2.93873111 1.60085526]\t 13.761615685279608\t 3.1817562258207746\t    \t    \n",
            "init\t [1.40821398 0.77417363]\t 3.1817562258207746\t 3.1817562258207746\t    \t    \n",
            "init\t [-4.71999574 -1.45598869]\t 26.518165900202685\t 3.1817562258207746\t    \t    \n",
            "1  \t [ 4.96008736 -4.44720822]\t 64.15778856025273\t 3.1817562258207746\t 3.208050149663079\t 4.394201464074636\n",
            "2  \t [-4.56666034  5.12      ]\t 73.28318665042795\t 3.1817562258207746\t 3.1678784472003283\t 3.4260369243846656\n",
            "3  \t [0.31411337 5.12      ]\t 52.52746720956474\t 3.1817562258207746\t 3.376972362317286\t 3.210488234147867\n",
            "4  \t [5.12 5.12]\t 78.64320000000001\t 3.1817562258207746\t 4.10049210906929\t 4.063302989526392\n",
            "5  \t [ 0.86764948 -2.75638794]\t 15.948164536440123\t 3.1817562258207746\t 2.6633232823254094\t 2.891419404575611\n",
            "6  \t [ 5.12       -0.69419433]\t 27.178211544469647\t 3.1817562258207746\t 2.7915130756307835\t 2.9145198300907067\n",
            "7  \t [-5.12        1.68082539]\t 31.86474796681046\t 3.1817562258207746\t 2.475761441790632\t 2.744341029913323\n",
            "8  \t [-1.77185289  2.60437903]\t 16.705042893045935\t 3.1817562258207746\t 3.041960051154392\t 2.9265055478292346\n",
            "9  \t [ 0.1413415 -5.12     ]\t 52.44877742047658\t 3.1817562258207746\t 3.2595464187314414\t 3.1019486288339477\n",
            "\u001b[1m\u001b[92m10\u001b[0m\t \u001b[1m\u001b[92m[-0.05828836 -0.18105557]\u001b[0m\t \u001b[1m\u001b[92m0.06895977290832175\u001b[0m\t \u001b[1m\u001b[92m0.06895977290832175\u001b[0m\t \u001b[1m\u001b[92m2.630417759526228\u001b[0m\t \u001b[1m\u001b[92m2.416466934499524\u001b[0m\n",
            "11 \t [-1.41958878 -1.48895186]\t 6.449187575427157\t 0.06895977290832175\t 3.3399793596548513\t 2.867042855282827\n",
            "12 \t [0.14170428 0.33429358]\t 0.2435845045587004\t 0.06895977290832175\t 3.2399778495573215\t 2.7137181467584095\n",
            "13 \t [0.27963009 0.07815066]\t 0.09040804158857242\t 0.06895977290832175\t 2.8516128404145684\t 2.5227062362686596\n",
            "14 \t [0.14745722 0.2728235 ]\t 0.17060895207491358\t 0.06895977290832175\t 3.1284019296546206\t 2.504154977497621\n",
            "15 \t [ 0.3946741  -0.06383481]\t 0.16391741377928362\t 0.06895977290832175\t 2.8758086956839928\t 2.2603549140041097\n",
            "16 \t [0.11703988 0.3181465 ]\t 0.2161327238036578\t 0.06895977290832175\t 2.8592138008341523\t 2.433769723946866\n",
            "17 \t [ 0.32622741 -0.00491066]\t 0.10647254960488121\t 0.06895977290832175\t 2.2574170413311063\t 2.3925494759496884\n",
            "18 \t [0.19140415 0.16554782]\t 0.09144771198638281\t 0.06895977290832175\t 2.9488445772816614\t 2.6404959523949967\n",
            "19 \t [0.2271209  0.11212535]\t 0.07672809028041969\t 0.06895977290832175\t 2.7671146345528004\t 2.4418203537850127\n",
            "20 \t [0.20280205 0.14712731]\t 0.0844215606240744\t 0.06895977290832175\t 3.3513375901934483\t 2.699021389981003\n"
          ]
        }
      ],
      "source": [
        "### ESTIMATED GP EI GRADIENTS\n",
        "\n",
        "np.random.seed(run_num_17)\n",
        "surrogate_approx_17 = dGaussianProcess(cov_func, optimize=opt)\n",
        "\n",
        "approx_17 = GPGO_multi(surrogate_approx_17, Acquisition_grad(util), objfunc, param)\n",
        "approx_17.run(init_evals=n_init, max_iter=iters)\n"
      ]
    },
    {
      "cell_type": "code",
      "execution_count": 30,
      "metadata": {
        "id": "f0HIEP3PIUEa",
        "colab": {
          "base_uri": "https://localhost:8080/"
        },
        "outputId": "47ed8ba5-b5c0-429d-ea28-7bfee23072aa"
      },
      "outputs": [
        {
          "output_type": "stream",
          "name": "stdout",
          "text": [
            "Evaluation \t Proposed point \t  Current eval. \t  Best eval. \t        Exact EI: StdDev. x \t Approx EI: StdDev. x \n",
            "init\t [1.53983224 0.05584255]\t 2.3773200933391867\t 2.3773200933391867\t    \t    \n",
            "init\t [ 3.87687906 -3.25795609]\t 36.25874706055664\t 2.3773200933391867\t    \t    \n",
            "init\t [3.60686662 2.56139557]\t 26.130981366974602\t 2.3773200933391867\t    \t    \n",
            "init\t [1.70088108 4.99604939]\t 52.81401545301259\t 2.3773200933391867\t    \t    \n",
            "init\t [-2.48864335 -4.83014733]\t 52.85399210258478\t 2.3773200933391867\t    \t    \n",
            "1  \t [-5.12        1.99180617]\t 34.14898360450646\t 2.3773200933391867\t 3.293945523757251\t 3.8829831198785225\n",
            "2  \t [-2.56446234  5.12      ]\t 59.00526709787858\t 2.3773200933391867\t 3.258421632712944\t 2.8063817494446153\n",
            "3  \t [-1.82525155 -0.55052257]\t 3.937693404196609\t 2.3773200933391867\t 4.048930078878794\t 3.509925922362524\n",
            "4  \t [-5.12       -1.92689906]\t 33.64028000676264\t 2.3773200933391867\t 3.7087601484843287\t 3.4312721907054984\n",
            "5  \t [ 0.39842698 -2.56625215]\t 13.330044274442272\t 2.3773200933391867\t 3.7920202238792093\t 3.0425741785167304\n",
            "6  \t [-0.53353919  1.93428325]\t 7.767567438687341\t 2.3773200933391867\t 3.613443507500191\t 2.8523963881988954\n",
            "7  \t [ 5.12       -0.21068148]\t 26.303173368802106\t 2.3773200933391867\t 3.244187027046658\t 3.4384698267948433\n",
            "8  \t [5.12 5.12]\t 78.64320000000001\t 2.3773200933391867\t 3.2639125625363063\t 3.226424306187408\n",
            "9  \t [-2.53075489  1.06967421]\t 8.693126171029906\t 2.3773200933391867\t 2.9440267451101825\t 3.189449177125318\n",
            "10 \t [ 1.21648934 -5.12      ]\t 53.90864630862382\t 2.3773200933391867\t 3.2575841216145247\t 3.2915577555938893\n",
            "11 \t [-5.12 -5.12]\t 78.64320000000001\t 2.3773200933391867\t 3.0852485257067426\t 3.0469096749753812\n",
            "12 \t [-5.12  5.12]\t 78.64320000000001\t 2.3773200933391867\t 2.235452473225579\t 2.423085286657284\n",
            "13 \t [ 2.31196897 -0.68116089]\t 6.273160845774498\t 2.3773200933391867\t 2.5075430491814967\t 2.5139626057493856\n",
            "\u001b[1m\u001b[92m14\u001b[0m\t \u001b[1m\u001b[92m[ 0.13732047 -0.06932391]\u001b[0m\t \u001b[1m\u001b[92m0.028468519887171702\u001b[0m\t \u001b[1m\u001b[92m0.028468519887171702\u001b[0m\t \u001b[1m\u001b[92m2.187815965404635\u001b[0m\t \u001b[1m\u001b[92m2.1683051711768906\u001b[0m\n",
            "\u001b[1m\u001b[92m15\u001b[0m\t \u001b[1m\u001b[92m[ 0.13465272 -0.07078807]\u001b[0m\t \u001b[1m\u001b[92m0.028153257370602758\u001b[0m\t \u001b[1m\u001b[92m0.028153257370602758\u001b[0m\t \u001b[1m\u001b[92m2.5062734416093586\u001b[0m\t \u001b[1m\u001b[92m2.177899361153429\u001b[0m\n",
            "16 \t [ 0.13658199 -0.06967972]\t 0.02836516565079497\t 0.028153257370602758\t 1.9255483290817437\t 1.9327469950671103\n",
            "17 \t [ 0.13849934 -0.06856471]\t 0.028584304408705144\t 0.028153257370602758\t 2.57791726329346\t 2.9650521358883664\n",
            "18 \t [ 0.14000798 -0.06768933]\t 0.028765923715747037\t 0.028153257370602758\t 2.902478236681164\t 3.331631783072885\n",
            "19 \t [ 0.14115448 -0.06703091]\t 0.028910872662375225\t 0.028153257370602758\t 2.507907042441212\t 2.426794888895951\n",
            "20 \t [ 0.14202766 -0.06653675]\t 0.02902613424942719\t 0.028153257370602758\t 2.3681521486668875\t 2.425015236015562\n"
          ]
        }
      ],
      "source": [
        "### ESTIMATED GP EI GRADIENTS\n",
        "\n",
        "np.random.seed(run_num_18)\n",
        "surrogate_approx_18 = dGaussianProcess(cov_func, optimize=opt)\n",
        "\n",
        "approx_18 = GPGO_multi(surrogate_approx_18, Acquisition_grad(util), objfunc, param)\n",
        "approx_18.run(init_evals=n_init, max_iter=iters)\n"
      ]
    },
    {
      "cell_type": "code",
      "execution_count": 31,
      "metadata": {
        "id": "S3mxRQDLIUPC",
        "colab": {
          "base_uri": "https://localhost:8080/"
        },
        "outputId": "59b8351f-03d3-4e39-d7ed-f87f55fb0f62"
      },
      "outputs": [
        {
          "output_type": "stream",
          "name": "stdout",
          "text": [
            "Evaluation \t Proposed point \t  Current eval. \t  Best eval. \t        Exact EI: StdDev. x \t Approx EI: StdDev. x \n",
            "init\t [-4.12125592  2.6751971 ]\t 31.298109376682206\t 22.814458446152262\t    \t    \n",
            "init\t [-2.59135515 -3.70553152]\t 34.17704923320956\t 22.814458446152262\t    \t    \n",
            "init\t [-1.72598719 -4.27008445]\t 39.4462742815243\t 22.814458446152262\t    \t    \n",
            "init\t [1.76104531 3.13952049]\t 22.814458446152262\t 22.814458446152262\t    \t    \n",
            "init\t [4.9432772  1.38916592]\t 28.295553455390152\t 22.814458446152262\t    \t    \n",
            "1  \t [ 5.12 -5.12]\t 78.64320000000001\t 22.814458446152262\t 3.4583984911850365\t 4.611085550384882\n",
            "\u001b[1m\u001b[92m2\u001b[0m\t \u001b[1m\u001b[92m[ 1.73292834 -1.56665574]\u001b[0m\t \u001b[1m\u001b[92m7.911861056281374\u001b[0m\t \u001b[1m\u001b[92m7.911861056281374\u001b[0m\t \u001b[1m\u001b[92m3.788158297093436\u001b[0m\t \u001b[1m\u001b[92m3.4981570683623144\u001b[0m\n",
            "3  \t [5.12 5.12]\t 78.64320000000001\t 7.911861056281374\t 4.228904342920545\t 4.062882661466318\n",
            "4  \t [-5.12       -1.02155064]\t 28.30153142239494\t 7.911861056281374\t 2.7853394604590878\t 3.2844380851892545\n",
            "\u001b[1m\u001b[92m5\u001b[0m\t \u001b[1m\u001b[92m[-1.13833095  0.27540304]\u001b[0m\t \u001b[1m\u001b[92m1.4474910325746728\u001b[0m\t \u001b[1m\u001b[92m1.4474910325746728\u001b[0m\t \u001b[1m\u001b[92m2.7951871485162423\u001b[0m\t \u001b[1m\u001b[92m3.27484350441768\u001b[0m\n",
            "6  \t [-1.31657163  5.12      ]\t 54.16216084750024\t 1.4474910325746728\t 3.1343611574925863\t 3.5386928260943185\n",
            "7  \t [ 1.49885712 -5.12      ]\t 54.675372659844065\t 1.4474910325746728\t 3.469712174212009\t 3.490857844986262\n",
            "8  \t [-5.12 -5.12]\t 78.64320000000001\t 1.4474910325746728\t 3.245385733446126\t 3.2470202611882706\n",
            "9  \t [ 5.12       -1.68970109]\t 31.924579522195234\t 1.4474910325746728\t 2.3678731153439077\t 2.8328265870062608\n",
            "10 \t [-5.12  5.12]\t 78.64320000000001\t 1.4474910325746728\t 2.7612948598132503\t 2.916829617457534\n",
            "11 \t [-0.94810766  1.72358888]\t 6.840425414071705\t 1.4474910325746728\t 2.264166204249277\t 2.137701551769849\n",
            "12 \t [-0.99639813 -1.00291724]\t 3.0044951975924783\t 1.4474910325746728\t 2.4626596948269555\t 2.1084195820509364\n",
            "13 \t [-2.46363765 -0.07644264]\t 6.081197431738834\t 1.4474910325746728\t 2.675480567710054\t 2.357387688294688\n",
            "\u001b[1m\u001b[92m14\u001b[0m\t \u001b[1m\u001b[92m[0.89681159 0.41997221]\u001b[0m\t \u001b[1m\u001b[92m1.157024344859851\u001b[0m\t \u001b[1m\u001b[92m1.157024344859851\u001b[0m\t \u001b[1m\u001b[92m2.5062558111774393\u001b[0m\t \u001b[1m\u001b[92m1.592166620224944\u001b[0m\n",
            "15 \t [2.18843141 0.46388553]\t 5.219611623671121\t 1.157024344859851\t 2.450500261395661\t 2.110971180137421\n",
            "\u001b[1m\u001b[92m16\u001b[0m\t \u001b[1m\u001b[92m[ 0.07490106 -0.00696088]\u001b[0m\t \u001b[1m\u001b[92m0.005707076424057846\u001b[0m\t \u001b[1m\u001b[92m0.005707076424057846\u001b[0m\t \u001b[1m\u001b[92m2.4823232451155293\u001b[0m\t \u001b[1m\u001b[92m2.4742493854339482\u001b[0m\n",
            "\u001b[1m\u001b[92m17\u001b[0m\t \u001b[1m\u001b[92m[ 0.07408732 -0.0094974 ]\u001b[0m\t \u001b[1m\u001b[92m0.0056693322205158434\u001b[0m\t \u001b[1m\u001b[92m0.0056693322205158434\u001b[0m\t \u001b[1m\u001b[92m2.5104138355170593\u001b[0m\t \u001b[1m\u001b[92m1.4039452014386322\u001b[0m\n",
            "18 \t [ 0.07426267 -0.00893793]\t 0.005674716866397892\t 0.0056693322205158434\t 2.8709697001459156\t 2.2575592847656405\n",
            "19 \t [ 0.07454685 -0.00803605]\t 0.0056863889468168165\t 0.0056693322205158434\t 1.969646996179129\t 1.6448865795684289\n",
            "20 \t [ 0.0748098  -0.00720944]\t 0.005700457825709366\t 0.0056693322205158434\t 2.457315292970559\t 1.863663580379738\n"
          ]
        }
      ],
      "source": [
        "### ESTIMATED GP EI GRADIENTS\n",
        "\n",
        "np.random.seed(run_num_19)\n",
        "surrogate_approx_19 = dGaussianProcess(cov_func, optimize=opt)\n",
        "\n",
        "approx_19 = GPGO_multi(surrogate_approx_19, Acquisition_grad(util), objfunc, param)\n",
        "approx_19.run(init_evals=n_init, max_iter=iters)\n"
      ]
    },
    {
      "cell_type": "code",
      "execution_count": 32,
      "metadata": {
        "id": "Aawd59dRIUYn",
        "colab": {
          "base_uri": "https://localhost:8080/"
        },
        "outputId": "cc7bfa1a-80ed-4ece-94df-c3c7ccadf331"
      },
      "outputs": [
        {
          "output_type": "stream",
          "name": "stdout",
          "text": [
            "Evaluation \t Proposed point \t  Current eval. \t  Best eval. \t        Exact EI: StdDev. x \t Approx EI: StdDev. x \n",
            "init\t [0.9024594  4.07258857]\t 33.98638835688907\t 1.615187047660523\t    \t    \n",
            "init\t [4.00927467 3.23417577]\t 36.994069169927414\t 1.615187047660523\t    \t    \n",
            "init\t [-4.75249064  1.96359764]\t 30.297598676217497\t 1.615187047660523\t    \t    \n",
            "init\t [-1.24230715  0.18955208]\t 1.615187047660523\t 1.615187047660523\t    \t    \n",
            "init\t [ 1.61742301 -3.13497377]\t 22.27217824772924\t 1.615187047660523\t    \t    \n",
            "1  \t [-5.12 -5.12]\t 78.64320000000001\t 1.615187047660523\t 3.672583466482644\t 3.5090539996326644\n",
            "2  \t [ 5.12 -5.12]\t 78.64320000000001\t 1.615187047660523\t 3.314467264588547\t 3.592812185444764\n",
            "3  \t [ 5.12       -0.73703575]\t 27.30084339654935\t 1.615187047660523\t 2.5167511248527568\t 2.792090461763581\n",
            "4  \t [-2.84861755  5.12      ]\t 60.54342196756161\t 1.615187047660523\t 3.074739298959385\t 3.609614386411995\n",
            "5  \t [-2.15176077 -2.4648738 ]\t 16.78128006578455\t 1.615187047660523\t 2.894491934991687\t 2.673272863153057\n",
            "6  \t [1.43334123 0.38300141]\t 2.347847229959292\t 1.615187047660523\t 3.608293650180067\t 3.6573043888435968\n",
            "7  \t [-5.12       -1.36065372]\t 29.917157081726405\t 1.615187047660523\t 3.7482235307180796\t 3.5646039312477846\n",
            "8  \t [-0.90279768 -5.12      ]\t 53.243843656488195\t 1.615187047660523\t 3.1574924930547943\t 3.337174259285007\n",
            "9  \t [-1.43335997  1.84017005]\t 8.826972403342452\t 1.615187047660523\t 3.1334098674607476\t 3.2661036433348696\n",
            "\u001b[1m\u001b[92m10\u001b[0m\t \u001b[1m\u001b[92m[-0.00819424 -0.60571866]\u001b[0m\t \u001b[1m\u001b[92m0.7338573364253519\u001b[0m\t \u001b[1m\u001b[92m0.7338573364253519\u001b[0m\t \u001b[1m\u001b[92m3.000076521414985\u001b[0m\t \u001b[1m\u001b[92m2.768795199708285\u001b[0m\n",
            "\u001b[1m\u001b[92m11\u001b[0m\t \u001b[1m\u001b[92m[-0.05841154 -0.53112029]\u001b[0m\t \u001b[1m\u001b[92m0.5675894402381855\u001b[0m\t \u001b[1m\u001b[92m0.5675894402381855\u001b[0m\t \u001b[1m\u001b[92m3.0547175978707153\u001b[0m\t \u001b[1m\u001b[92m2.6564411332787867\u001b[0m\n",
            "12 \t [2.59980386 0.46693262]\t 7.195032270037326\t 0.5675894402381855\t 3.094852104358046\t 3.0341782008846483\n",
            "\u001b[1m\u001b[92m13\u001b[0m\t \u001b[1m\u001b[92m[0.18522603 0.00724982]\u001b[0m\t \u001b[1m\u001b[92m0.034413800540246314\u001b[0m\t \u001b[1m\u001b[92m0.034413800540246314\u001b[0m\t \u001b[1m\u001b[92m3.299660272369725\u001b[0m\t \u001b[1m\u001b[92m3.493504014115622\u001b[0m\n",
            "\u001b[1m\u001b[92m14\u001b[0m\t \u001b[1m\u001b[92m[ 0.18200084 -0.01451526]\u001b[0m\t \u001b[1m\u001b[92m0.03354569073509049\u001b[0m\t \u001b[1m\u001b[92m0.03354569073509049\u001b[0m\t \u001b[1m\u001b[92m3.002451977751654\u001b[0m\t \u001b[1m\u001b[92m2.1869949051227167\u001b[0m\n",
            "15 \t [ 0.17840747 -0.04156003]\t 0.03528369593076033\t 0.03354569073509049\t 2.761470929400061\t 3.052532549753526\n",
            "16 \t [ 0.17564801 -0.06394161]\t 0.03902928376952261\t 0.03354569073509049\t 2.937422871570815\t 2.9507498176276497\n",
            "17 \t [ 0.1735426  -0.08127865]\t 0.043329472651767134\t 0.03354569073509049\t 2.878187059967164\t 2.8373248699144265\n",
            "18 \t [ 0.17186045 -0.09438436]\t 0.04735282750335908\t 0.03354569073509049\t 3.608686301867636\t 3.5991599029658956\n",
            "19 \t [ 0.17044526 -0.10411588]\t 0.050731820765998664\t 0.03354569073509049\t 3.600296127250379\t 2.72773317824737\n",
            "20 \t [ 0.16921507 -0.11122478]\t 0.05337564219884263\t 0.03354569073509049\t 3.181666266126385\t 2.81068303718211\n"
          ]
        }
      ],
      "source": [
        "### ESTIMATED GP EI GRADIENTS\n",
        "\n",
        "np.random.seed(run_num_20)\n",
        "surrogate_approx_20 = dGaussianProcess(cov_func, optimize=opt)\n",
        "\n",
        "approx_20 = GPGO_multi(surrogate_approx_20, Acquisition_grad(util), objfunc, param)\n",
        "approx_20.run(init_evals=n_init, max_iter=iters)\n"
      ]
    },
    {
      "cell_type": "code",
      "execution_count": 33,
      "metadata": {
        "id": "xkgzPRbBTHaq",
        "colab": {
          "base_uri": "https://localhost:8080/"
        },
        "outputId": "1b98cc42-1550-442d-8359-bec2c3094b17"
      },
      "outputs": [
        {
          "output_type": "execute_result",
          "data": {
            "text/plain": [
              "1659630720.7481656"
            ]
          },
          "metadata": {},
          "execution_count": 33
        }
      ],
      "source": [
        "end_approx = time.time()\n",
        "end_approx\n",
        "\n",
        "time_approx = end_approx - start_approx\n",
        "time_approx\n",
        "\n",
        "start_exact = time.time()\n",
        "start_exact"
      ]
    },
    {
      "cell_type": "code",
      "execution_count": 34,
      "metadata": {
        "id": "7CG3Ndvb16Rb",
        "colab": {
          "base_uri": "https://localhost:8080/"
        },
        "outputId": "08d69fb7-029d-4fc5-9092-efecfba43632"
      },
      "outputs": [
        {
          "output_type": "stream",
          "name": "stdout",
          "text": [
            "Evaluation \t Proposed point \t  Current eval. \t  Best eval. \t        Exact EI: StdDev. x \t Approx EI: StdDev. x \n",
            "init\t [-0.84969467  2.25612281]\t 10.902161328666502\t 1.4334486961549602\t    \t    \n",
            "init\t [-5.1188288  -2.02411446]\t 34.396486966857985\t 1.4334486961549602\t    \t    \n",
            "init\t [-3.61721968 -4.17445279]\t 47.936390383803385\t 1.4334486961549602\t    \t    \n",
            "init\t [-3.21269544 -1.58145816]\t 15.323431753768267\t 1.4334486961549602\t    \t    \n",
            "init\t [-1.05710106  0.39748336]\t 1.4334486961549602\t 1.4334486961549602\t    \t    \n",
            "1  \t [ 4.04077223 -4.24914728]\t 52.43834538835027\t 1.4334486961549602\t 3.7778228547599544\t 4.2224605242478175\n",
            "2  \t [5.12 5.12]\t 78.64320000000001\t 1.4334486961549602\t 3.2967915119865627\t 3.45116625989047\n",
            "3  \t [4.21548335 0.41872488]\t 18.120960907123376\t 1.4334486961549602\t 3.2875109764287003\t 4.065240147035009\n",
            "4  \t [-4.89975529  4.58704567]\t 66.08957781470292\t 1.4334486961549602\t 3.676897112128914\t 4.408360514968948\n",
            "5  \t [ 0.61948531 -1.98284995]\t 8.2471499372117\t 1.4334486961549602\t 2.657972548430038\t 3.138709389135008\n",
            "6  \t [0.99071869 5.12      ]\t 53.410323531397566\t 1.4334486961549602\t 2.9164876274889524\t 3.2586537749382636\n",
            "7  \t [-4.57329748  1.22076524]\t 23.895585373291713\t 1.4334486961549602\t 3.073601262759465\t 3.510683552388159\n",
            "8  \t [ 0.12937218 -5.12      ]\t 52.445537160921994\t 1.4334486961549602\t 3.112759016601988\t 3.213737475767903\n",
            "9  \t [-1.8909309   4.97599641]\t 53.09670010315622\t 1.4334486961549602\t 2.9948237859929554\t 3.19446837698302\n",
            "10 \t [1.62026995 1.50534206]\t 7.157384118275189\t 1.4334486961549602\t 2.9596497996089233\t 3.018588488033892\n",
            "11 \t [-1.31557631 -0.17689042]\t 1.7933214727569455\t 1.4334486961549602\t 2.7796894213320487\t 2.5269394919502033\n",
            "12 \t [ 2.32631849 -1.12048136]\t 7.9227146826540995\t 1.4334486961549602\t 3.0393994414058825\t 2.976685682085548\n",
            "13 \t [3.06417924 2.86246961]\t 25.77665894912186\t 1.4334486961549602\t 2.288568073493825\t 2.4842600708390243\n",
            "14 \t [ 5.04647377 -1.61013984]\t 30.651998135002202\t 1.4334486961549602\t 2.767348688944578\t 2.8653146974603247\n",
            "\u001b[1m\u001b[92m15\u001b[0m\t \u001b[1m\u001b[92m[ 0.07745293 -0.09267658]\u001b[0m\t \u001b[1m\u001b[92m0.02317685295154518\u001b[0m\t \u001b[1m\u001b[92m0.02317685295154518\u001b[0m\t \u001b[1m\u001b[92m2.442458218536316\u001b[0m\t \u001b[1m\u001b[92m1.761514226148574\u001b[0m\n",
            "16 \t [ 0.77672716 -0.2165147 ]\t 0.6970623049419719\t 0.02317685295154518\t 3.261771885294924\t 2.878000266988877\n",
            "17 \t [-1.82775597  0.34676506]\t 3.5811839091221596\t 0.02317685295154518\t 2.7689270319527304\t 2.713957793175689\n",
            "\u001b[1m\u001b[92m18\u001b[0m\t \u001b[1m\u001b[92m[-0.08744226  0.05367956]\u001b[0m\t \u001b[1m\u001b[92m0.01340914037402093\u001b[0m\t \u001b[1m\u001b[92m0.01340914037402093\u001b[0m\t \u001b[1m\u001b[92m3.09973628215571\u001b[0m\t \u001b[1m\u001b[92m3.0326186893140004\u001b[0m\n",
            "19 \t [-0.22570581  0.13649983]\t 0.08820752103239946\t 0.01340914037402093\t 3.1964570181142977\t 3.1553696731377903\n",
            "20 \t [-0.10554871  0.06565383]\t 0.019761381267375623\t 0.01340914037402093\t 3.1278218542202954\t 2.8353486531462266\n"
          ]
        }
      ],
      "source": [
        "### EXACT GP EI GRADIENTS\n",
        "\n",
        "np.random.seed(run_num_1)\n",
        "surrogate_exact_1 = dGaussianProcess(cov_func, optimize=opt)\n",
        "\n",
        "exact_1 = dGPGO(surrogate_exact_1, Acquisition_grad(util), objfunc, param)\n",
        "exact_1.run(init_evals=n_init, max_iter=iters)\n"
      ]
    },
    {
      "cell_type": "code",
      "execution_count": 35,
      "metadata": {
        "id": "-ilCPSAu9SAg",
        "colab": {
          "base_uri": "https://localhost:8080/"
        },
        "outputId": "5a4630f9-8b0b-4d7a-a8bc-90d0ba0cdfd3"
      },
      "outputs": [
        {
          "output_type": "stream",
          "name": "stdout",
          "text": [
            "Evaluation \t Proposed point \t  Current eval. \t  Best eval. \t        Exact EI: StdDev. x \t Approx EI: StdDev. x \n",
            "init\t [-0.6554122  -4.85451539]\t 47.562204422038214\t 1.1358959044973735\t    \t    \n",
            "init\t [ 0.50854377 -0.6622987 ]\t 1.1358959044973735\t 1.1358959044973735\t    \t    \n",
            "init\t [-0.81543371 -1.73737143]\t 6.7018511217540135\t 1.1358959044973735\t    \t    \n",
            "init\t [-3.02439799  1.2213347 ]\t 12.13030006303276\t 1.1358959044973735\t    \t    \n",
            "init\t [-2.05153614 -2.3876887 ]\t 15.610915224537823\t 1.1358959044973735\t    \t    \n",
            "1  \t [5.12 5.12]\t 78.64320000000001\t 1.1358959044973735\t 3.7892388851074554\t 3.7662184520462443\n",
            "2  \t [ 4.8426335  -3.96514352]\t 54.89582551465308\t 1.1358959044973735\t 2.8446809099494663\t 3.858521070246223\n",
            "3  \t [-0.18410764  5.12      ]\t 52.46269562160627\t 1.1358959044973735\t 3.6173045636857593\t 3.9512150693842507\n",
            "4  \t [4.19077773 0.54915329]\t 18.1657566332978\t 1.1358959044973735\t 3.5606987784108215\t 3.7247671332780388\n",
            "5  \t [-5.12 -5.12]\t 78.64320000000001\t 1.1358959044973735\t 3.5464660610792156\t 3.0893292242496635\n",
            "6  \t [-4.30973902  4.55290902]\t 60.031811574000855\t 1.1358959044973735\t 3.074275271232855\t 3.505588799761379\n",
            "7  \t [0.74380137 1.5270955 ]\t 5.217281801552573\t 1.1358959044973735\t 2.7260787446395134\t 2.813321451450267\n",
            "8  \t [ 1.96783562 -2.12020727]\t 12.862934766599075\t 1.1358959044973735\t 2.172383726385573\t 2.93730522852631\n",
            "9  \t [-5.12      -1.4604006]\t 30.47993980416245\t 1.1358959044973735\t 2.645500876267452\t 3.100838403121027\n",
            "\u001b[1m\u001b[92m10\u001b[0m\t \u001b[1m\u001b[92m[-0.75192286  0.367992  ]\u001b[0m\t \u001b[1m\u001b[92m0.8362242072507466\u001b[0m\t \u001b[1m\u001b[92m0.8362242072507466\u001b[0m\t \u001b[1m\u001b[92m2.7095816325485753\u001b[0m\t \u001b[1m\u001b[92m2.9619564173140605\u001b[0m\n",
            "11 \t [2.34434291 3.27304185]\t 26.92154965477086\t 0.8362242072507466\t 2.673728358459631\t 2.7877608363025588\n",
            "\u001b[1m\u001b[92m12\u001b[0m\t \u001b[1m\u001b[92m[-0.68050191  0.40878421]\u001b[0m\t \u001b[1m\u001b[92m0.7972919058080158\u001b[0m\t \u001b[1m\u001b[92m0.7972919058080158\u001b[0m\t \u001b[1m\u001b[92m2.474058745902141\u001b[0m\t \u001b[1m\u001b[92m2.304035932188047\u001b[0m\n",
            "13 \t [-1.08311419  2.277311  ]\t 11.545427144241138\t 0.7972919058080158\t 2.6285502215672722\t 2.6403945215840703\n",
            "\u001b[1m\u001b[92m14\u001b[0m\t \u001b[1m\u001b[92m[-0.0137397  -0.08129026]\u001b[0m\t \u001b[1m\u001b[92m0.013404992618494156\u001b[0m\t \u001b[1m\u001b[92m0.013404992618494156\u001b[0m\t \u001b[1m\u001b[92m2.5238681827331977\u001b[0m\t \u001b[1m\u001b[92m2.8518726517934176\u001b[0m\n",
            "15 \t [ 0.01816647 -0.08371701]\t 0.014347095257959405\t 0.013404992618494156\t 2.1631081549629316\t 2.6534599393953044\n",
            "16 \t [ 0.0995052  -0.10177433]\t 0.03061731447085577\t 0.013404992618494156\t 2.4520398128044065\t 2.7195499830055176\n",
            "\u001b[1m\u001b[92m17\u001b[0m\t \u001b[1m\u001b[92m[-0.02694138 -0.07366287]\u001b[0m\t \u001b[1m\u001b[92m0.01157827595277437\u001b[0m\t \u001b[1m\u001b[92m0.01157827595277437\u001b[0m\t \u001b[1m\u001b[92m2.650720765248446\u001b[0m\t \u001b[1m\u001b[92m2.55891705001865\u001b[0m\n",
            "18 \t [ 0.19702288 -0.11691972]\t 0.06615845735110404\t 0.01157827595277437\t 2.4600763727158905\t 2.4734719461942025\n",
            "19 \t [ 0.14615705 -0.108689  ]\t 0.044988480908641784\t 0.01157827595277437\t 2.339038025198597\t 2.5366790114374\n",
            "20 \t [-0.30017321 -0.02085525]\t 0.09097383759076434\t 0.01157827595277437\t 2.795798023101101\t 2.8486923229475143\n"
          ]
        }
      ],
      "source": [
        "### EXACT GP EI GRADIENTS\n",
        "\n",
        "np.random.seed(run_num_2)\n",
        "surrogate_exact_2 = dGaussianProcess(cov_func, optimize=opt)\n",
        "\n",
        "exact_2 = dGPGO(surrogate_exact_2, Acquisition_grad(util), objfunc, param)\n",
        "exact_2.run(init_evals=n_init, max_iter=iters)\n"
      ]
    },
    {
      "cell_type": "code",
      "execution_count": 36,
      "metadata": {
        "id": "XieJ158mIvlP",
        "colab": {
          "base_uri": "https://localhost:8080/"
        },
        "outputId": "c1f9ce7e-209a-41d7-b564-9804fb098c86"
      },
      "outputs": [
        {
          "output_type": "stream",
          "name": "stdout",
          "text": [
            "Evaluation \t Proposed point \t  Current eval. \t  Best eval. \t        Exact EI: StdDev. x \t Approx EI: StdDev. x \n",
            "init\t [0.52017052 2.1314337 ]\t 9.356596638100186\t 4.609047504113831\t    \t    \n",
            "init\t [-2.14113547  0.11087468]\t 4.609047504113831\t 4.609047504113831\t    \t    \n",
            "init\t [4.02377681 4.05804123]\t 49.12617709674532\t 4.609047504113831\t    \t    \n",
            "init\t [-3.83400642 -2.99783293]\t 32.673609761904345\t 4.609047504113831\t    \t    \n",
            "init\t [-4.59297584 -0.6061072 ]\t 21.83015892853491\t 4.609047504113831\t    \t    \n",
            "1  \t [ 1.78408864 -3.06917197]\t 22.02260548653085\t 4.609047504113831\t 2.0215034828088396\t 3.5940793820200065\n",
            "2  \t [-3.52883277  4.8553671 ]\t 59.60184005245946\t 4.609047504113831\t 3.2720359591139814\t 4.229416691825365\n",
            "3  \t [ 5.12       -0.36980437]\t 26.487910544875255\t 4.609047504113831\t 3.433064194660835\t 3.5712426893659726\n",
            "4  \t [-1.36753533 -4.89687229]\t 49.82886931111585\t 4.609047504113831\t 3.1916334206843517\t 3.1348039775018925\n",
            "\u001b[1m\u001b[92m5\u001b[0m\t \u001b[1m\u001b[92m[ 1.92126018 -0.03414057]\u001b[0m\t \u001b[1m\u001b[92m3.6935718246895224\u001b[0m\t \u001b[1m\u001b[92m3.6935718246895224\u001b[0m\t \u001b[1m\u001b[92m3.3286738155601303\u001b[0m\t \u001b[1m\u001b[92m3.3055772002716033\u001b[0m\n",
            "6  \t [ 5.12       -4.57451492]\t 68.06677358046802\t 3.6935718246895224\t 3.57040149290501\t 3.466990438988674\n",
            "7  \t [0.63027958 5.12      ]\t 52.826052342986216\t 3.6935718246895224\t 3.7824165486832064\t 3.0400641198647\n",
            "8  \t [-4.99201687  1.99776711]\t 32.9023793201612\t 3.6935718246895224\t 3.2236343957780056\t 3.0835953939497958\n",
            "9  \t [-5.12 -5.12]\t 78.64320000000001\t 3.6935718246895224\t 2.54372107534067\t 3.1573938588444723\n",
            "\u001b[1m\u001b[92m10\u001b[0m\t \u001b[1m\u001b[92m[-0.58340065 -1.02989954]\u001b[0m\t \u001b[1m\u001b[92m2.4617424579944926\u001b[0m\t \u001b[1m\u001b[92m2.4617424579944926\u001b[0m\t \u001b[1m\u001b[92m2.8449314090197597\u001b[0m\t \u001b[1m\u001b[92m2.7859324243127785\u001b[0m\n",
            "11 \t [-1.40116884  1.47317321]\t 6.303752727247676\t 2.4617424579944926\t 3.0773351168744707\t 2.8531808279022526\n",
            "12 \t [-0.86150963 -1.97044603]\t 8.50751395884634\t 2.4617424579944926\t 2.684855844893713\t 2.6416494384767106\n",
            "13 \t [2.67072238 1.48324191]\t 11.532771162261119\t 2.4617424579944926\t 2.961438000954111\t 2.727140457318254\n",
            "\u001b[1m\u001b[92m14\u001b[0m\t \u001b[1m\u001b[92m[ 0.4283739  -0.31844569]\u001b[0m\t \u001b[1m\u001b[92m0.38631951066325015\u001b[0m\t \u001b[1m\u001b[92m0.38631951066325015\u001b[0m\t \u001b[1m\u001b[92m2.4600497253766704\u001b[0m\t \u001b[1m\u001b[92m2.4302557007128387\u001b[0m\n",
            "15 \t [ 0.71731852 -0.53028421]\t 1.0769485613377454\t 0.38631951066325015\t 2.765268334489289\t 2.306999436462304\n",
            "\u001b[1m\u001b[92m16\u001b[0m\t \u001b[1m\u001b[92m[ 0.22734647 -0.1745661 ]\u001b[0m\t \u001b[1m\u001b[92m0.11263306259236658\u001b[0m\t \u001b[1m\u001b[92m0.11263306259236658\u001b[0m\t \u001b[1m\u001b[92m2.6398841483186217\u001b[0m\t \u001b[1m\u001b[92m3.1349496733596793\u001b[0m\n",
            "17 \t [ 0.28937706 -0.21166727]\t 0.1733451468543652\t 0.11263306259236658\t 2.344897922465695\t 2.1964018181462577\n",
            "18 \t [ 0.77658885 -0.5779011 ]\t 1.2710295884459293\t 0.11263306259236658\t 3.0455967784641627\t 2.9721001261758517\n",
            "\u001b[1m\u001b[92m19\u001b[0m\t \u001b[1m\u001b[92m[ 0.19094997 -0.1493437 ]\u001b[0m\t \u001b[1m\u001b[92m0.08106896879516448\u001b[0m\t \u001b[1m\u001b[92m0.08106896879516448\u001b[0m\t \u001b[1m\u001b[92m2.9122041714853037\u001b[0m\t \u001b[1m\u001b[92m2.9263334485835046\u001b[0m\n",
            "20 \t [ 0.25908757 -0.19440873]\t 0.14271587652091294\t 0.08106896879516448\t 2.4705636695976163\t 2.582103794284533\n"
          ]
        }
      ],
      "source": [
        "### EXACT GP EI GRADIENTS\n",
        "\n",
        "np.random.seed(run_num_3)\n",
        "surrogate_exact_3 = dGaussianProcess(cov_func, optimize=opt)\n",
        "\n",
        "exact_3 = dGPGO(surrogate_exact_3, Acquisition_grad(util), objfunc, param)\n",
        "exact_3.run(init_evals=n_init, max_iter=iters)\n"
      ]
    },
    {
      "cell_type": "code",
      "execution_count": 37,
      "metadata": {
        "id": "PhLBVOIfIvol",
        "colab": {
          "base_uri": "https://localhost:8080/"
        },
        "outputId": "6a010dc1-bc3e-4c04-e8ae-b92421f8f7d5"
      },
      "outputs": [
        {
          "output_type": "stream",
          "name": "stdout",
          "text": [
            "Evaluation \t Proposed point \t  Current eval. \t  Best eval. \t        Exact EI: StdDev. x \t Approx EI: StdDev. x \n",
            "init\t [4.78238555 0.48365823]\t 23.33906213310676\t 7.289910254474112\t    \t    \n",
            "init\t [4.84028785 2.19971578]\t 33.10588541607836\t 7.289910254474112\t    \t    \n",
            "init\t [ 2.02474316 -2.90724357]\t 21.003715175118646\t 7.289910254474112\t    \t    \n",
            "init\t [ 4.87705042 -5.05620219]\t 74.91598187475032\t 7.289910254474112\t    \t    \n",
            "init\t [-2.52946061 -0.66773471]\t 7.289910254474112\t 7.289910254474112\t    \t    \n",
            "1  \t [-1.14381625  4.6459615 ]\t 44.478232151417586\t 7.289910254474112\t 2.9160797510691396\t 3.9188980578213637\n",
            "2  \t [-5.12 -5.12]\t 78.64320000000001\t 7.289910254474112\t 3.8902618020720725\t 3.2142627919617084\n",
            "3  \t [-1.00170082 -5.12      ]\t 53.43220453436583\t 7.289910254474112\t 3.565445947241208\t 3.8897097172375745\n",
            "\u001b[1m\u001b[92m4\u001b[0m\t \u001b[1m\u001b[92m[0.61264473 1.13480663]\u001b[0m\t \u001b[1m\u001b[92m2.9509057416763538\u001b[0m\t \u001b[1m\u001b[92m2.9509057416763538\u001b[0m\t \u001b[1m\u001b[92m3.2937003369747035\u001b[0m\t \u001b[1m\u001b[92m3.4723064746683576\u001b[0m\n",
            "5  \t [-5.12        2.43507053]\t 38.0735369258125\t 2.9509057416763538\t 3.311770184345231\t 3.400511145983165\n",
            "6  \t [-5.12       -1.50475773]\t 30.742991639079595\t 2.9509057416763538\t 3.0844769434424144\t 3.456073616673021\n",
            "7  \t [3.5561599 5.12     ]\t 65.07507323873101\t 2.9509057416763538\t 2.76646262251818\t 2.4150851895244014\n",
            "8  \t [-2.09943619  1.73997625]\t 10.462667040378143\t 2.9509057416763538\t 2.700002920969351\t 2.8185689904963116\n",
            "\u001b[1m\u001b[92m9\u001b[0m\t \u001b[1m\u001b[92m[-0.23322033 -0.67702836]\u001b[0m\t \u001b[1m\u001b[92m0.9711265157223116\u001b[0m\t \u001b[1m\u001b[92m0.9711265157223116\u001b[0m\t \u001b[1m\u001b[92m2.7144519997657572\u001b[0m\t \u001b[1m\u001b[92m2.746896610053824\u001b[0m\n",
            "10 \t [1.69680645 2.36223771]\t 14.039486140083298\t 0.9711265157223116\t 3.026657048569516\t 3.4707324990941673\n",
            "11 \t [ 1.30929631 -0.31400162]\t 1.911450860573351\t 0.9711265157223116\t 2.868554053285306\t 3.4357191082715706\n",
            "12 \t [ 5.06235763 -1.97567379]\t 33.434038642726236\t 0.9711265157223116\t 2.769731248871917\t 3.3393427037416874\n",
            "13 \t [-0.78247806 -1.74170383]\t 6.6793363792830736\t 0.9711265157223116\t 2.834970414259265\t 3.2336520003403395\n",
            "14 \t [-3.90683618  4.87422755]\t 62.779557406204546\t 0.9711265157223116\t 2.7297910544175057\t 2.130211492480639\n",
            "\u001b[1m\u001b[92m15\u001b[0m\t \u001b[1m\u001b[92m[-0.30014887  0.3963568 ]\u001b[0m\t \u001b[1m\u001b[92m0.4042867705490464\u001b[0m\t \u001b[1m\u001b[92m0.4042867705490464\u001b[0m\t \u001b[1m\u001b[92m2.7256138099752745\u001b[0m\t \u001b[1m\u001b[92m2.920544435150517\u001b[0m\n",
            "\u001b[1m\u001b[92m16\u001b[0m\t \u001b[1m\u001b[92m[-0.06873576  0.1634983 ]\u001b[0m\t \u001b[1m\u001b[92m0.0581879938808457\u001b[0m\t \u001b[1m\u001b[92m0.0581879938808457\u001b[0m\t \u001b[1m\u001b[92m3.085215733926635\u001b[0m\t \u001b[1m\u001b[92m2.914828055015049\u001b[0m\n",
            "17 \t [-0.30658039  0.40141228]\t 0.4162551708198612\t 0.0581879938808457\t 2.4359720819663964\t 2.2017370981980067\n",
            "18 \t [ 0.70951506 -0.38228903]\t 0.7957014150365209\t 0.0581879938808457\t 3.0244901983475225\t 2.8374977467215126\n",
            "19 \t [ 0.4007625 -0.1984679]\t 0.23938959298050466\t 0.0581879938808457\t 2.820235340157147\t 2.9224552268323403\n",
            "20 \t [-0.45048547  0.6368854 ]\t 1.0141831730303583\t 0.0581879938808457\t 2.2892594451074864\t 2.752687277008709\n"
          ]
        }
      ],
      "source": [
        "### EXACT GP EI GRADIENTS\n",
        "\n",
        "np.random.seed(run_num_4)\n",
        "surrogate_exact_4 = dGaussianProcess(cov_func, optimize=opt)\n",
        "\n",
        "exact_4 = dGPGO(surrogate_exact_4, Acquisition_grad(util), objfunc, param)\n",
        "exact_4.run(init_evals=n_init, max_iter=iters)\n"
      ]
    },
    {
      "cell_type": "code",
      "execution_count": 38,
      "metadata": {
        "id": "arbiPyj2IvsJ",
        "colab": {
          "base_uri": "https://localhost:8080/"
        },
        "outputId": "7e32db87-efbb-49de-dd13-e8d319eca4eb"
      },
      "outputs": [
        {
          "output_type": "stream",
          "name": "stdout",
          "text": [
            "Evaluation \t Proposed point \t  Current eval. \t  Best eval. \t        Exact EI: StdDev. x \t Approx EI: StdDev. x \n",
            "init\t [-2.84678993  3.79629882]\t 36.927982283829365\t 2.6327313115208373\t    \t    \n",
            "init\t [-3.00319585  4.2865757 ]\t 45.76864772649561\t 2.6327313115208373\t    \t    \n",
            "init\t [-0.11866943  1.14425716]\t 2.6327313115208373\t 2.6327313115208373\t    \t    \n",
            "init\t [2.72289645 0.1886002 ]\t 7.485305147100433\t 2.6327313115208373\t    \t    \n",
            "init\t [-2.08076286 -3.19773462]\t 24.780587476435763\t 2.6327313115208373\t    \t    \n",
            "1  \t [ 4.32895605 -5.09732646]\t 70.70533460957368\t 2.6327313115208373\t 4.528267201507804\t 4.672920347580683\n",
            "2  \t [5.12 5.12]\t 78.64320000000001\t 2.6327313115208373\t 4.370116786326016\t 3.86437376633164\n",
            "3  \t [-5.12       -0.28361729]\t 26.375277531204137\t 2.6327313115208373\t 3.4800947258720436\t 3.9029657891520517\n",
            "4  \t [1.04957342 4.74950662]\t 46.217230538970604\t 2.6327313115208373\t 3.4903222942234096\t 3.4489441775969256\n",
            "5  \t [-5.12 -5.12]\t 78.64320000000001\t 2.6327313115208373\t 3.3536955372043855\t 3.674993228425082\n",
            "6  \t [ 1.33360671 -2.63167317]\t 15.62991418016822\t 2.6327313115208373\t 3.0099574004213183\t 3.3733248743748496\n",
            "7  \t [ 5.12      -1.3723607]\t 29.981147765760877\t 2.6327313115208373\t 2.443488867605269\t 2.5889558149843435\n",
            "8  \t [5.08244334 1.80462929]\t 32.34460411148448\t 2.6327313115208373\t 3.033931977856025\t 3.1774845542455323\n",
            "9  \t [-1.94365631  0.12241101]\t 3.8077687572073087\t 2.6327313115208373\t 2.388155927482857\t 2.2757936632858056\n",
            "\u001b[1m\u001b[92m10\u001b[0m\t \u001b[1m\u001b[92m[ 0.24497866 -0.50867097]\u001b[0m\t \u001b[1m\u001b[92m0.5775068607599331\u001b[0m\t \u001b[1m\u001b[92m0.5775068607599331\u001b[0m\t \u001b[1m\u001b[92m2.3090232325629003\u001b[0m\t \u001b[1m\u001b[92m2.5868384922415895\u001b[0m\n",
            "11 \t [-0.39888281 -4.92843472]\t 48.73804501668944\t 0.5775068607599331\t 2.62709004607347\t 2.837381456525069\n",
            "12 \t [-0.08586535 -0.57930118]\t 0.6785525620649605\t 0.5775068607599331\t 2.063435120821974\t 2.5067252931264097\n",
            "13 \t [1.0517168 1.8384303]\t 7.865760166307635\t 0.5775068607599331\t 2.2744344902820357\t 2.6800884153555677\n",
            "14 \t [-0.22448159 -0.67356781]\t 0.957779161492389\t 0.5775068607599331\t 2.116428026660339\t 2.61233050199402\n",
            "\u001b[1m\u001b[92m15\u001b[0m\t \u001b[1m\u001b[92m[ 0.00654842 -0.44762764]\u001b[0m\t \u001b[1m\u001b[92m0.40078388967162304\u001b[0m\t \u001b[1m\u001b[92m0.40078388967162304\u001b[0m\t \u001b[1m\u001b[92m1.956453795156031\u001b[0m\t \u001b[1m\u001b[92m2.563308556698752\u001b[0m\n",
            "16 \t [ 0.10428697 -0.44334131]\t 0.403978813406901\t 0.40078388967162304\t 2.3305220214419435\t 2.6875333690134506\n",
            "\u001b[1m\u001b[92m17\u001b[0m\t \u001b[1m\u001b[92m[-0.12853511 -0.41311551]\u001b[0m\t \u001b[1m\u001b[92m0.3578501198578226\u001b[0m\t \u001b[1m\u001b[92m0.3578501198578226\u001b[0m\t \u001b[1m\u001b[92m2.252448404238107\u001b[0m\t \u001b[1m\u001b[92m2.8732335997787013\u001b[0m\n",
            "\u001b[1m\u001b[92m18\u001b[0m\t \u001b[1m\u001b[92m[ 0.10121909 -0.41454886]\u001b[0m\t \u001b[1m\u001b[92m0.353946819061822\u001b[0m\t \u001b[1m\u001b[92m0.353946819061822\u001b[0m\t \u001b[1m\u001b[92m2.1872749461134973\u001b[0m\t \u001b[1m\u001b[92m2.5498092158089762\u001b[0m\n",
            "19 \t [-0.097861   -0.41875481]\t 0.3602879550222184\t 0.353946819061822\t 2.227052508785352\t 2.0437567444068803\n",
            "20 \t [-5.01733181  2.23134014]\t 35.13137607347477\t 0.353946819061822\t 2.452424634548529\t 2.795654089870074\n"
          ]
        }
      ],
      "source": [
        "### EXACT GP EI GRADIENTS\n",
        "\n",
        "np.random.seed(run_num_5)\n",
        "surrogate_exact_5 = dGaussianProcess(cov_func, optimize=opt)\n",
        "\n",
        "exact_5 = dGPGO(surrogate_exact_5, Acquisition_grad(util), objfunc, param)\n",
        "exact_5.run(init_evals=n_init, max_iter=iters)\n"
      ]
    },
    {
      "cell_type": "code",
      "execution_count": 39,
      "metadata": {
        "id": "04KJCEm_Ivvf",
        "colab": {
          "base_uri": "https://localhost:8080/"
        },
        "outputId": "08fe67e8-fa67-43a9-c769-022038b5930b"
      },
      "outputs": [
        {
          "output_type": "stream",
          "name": "stdout",
          "text": [
            "Evaluation \t Proposed point \t  Current eval. \t  Best eval. \t        Exact EI: StdDev. x \t Approx EI: StdDev. x \n",
            "init\t [ 4.02288795 -1.72052679]\t 22.104052359713652\t 1.4757178799086357\t    \t    \n",
            "init\t [ 3.28938622 -4.69302655]\t 54.869058151382724\t 1.4757178799086357\t    \t    \n",
            "init\t [-4.0175956   0.97333314]\t 18.035829177697114\t 1.4757178799086357\t    \t    \n",
            "init\t [ 0.30532979 -0.83141193]\t 1.4757178799086357\t 1.4757178799086357\t    \t    \n",
            "init\t [-1.68542362  1.25459899]\t 5.988690020231891\t 1.4757178799086357\t    \t    \n",
            "1  \t [5.12 5.12]\t 78.64320000000001\t 1.4757178799086357\t 3.9307728838856155\t 3.873249744091932\n",
            "2  \t [-5.12 -5.12]\t 78.64320000000001\t 1.4757178799086357\t 3.812792528736176\t 3.742347723655255\n",
            "3  \t [0.07208547 5.12      ]\t 52.433996315479796\t 1.4757178799086357\t 3.046519623697188\t 3.39410424261363\n",
            "4  \t [-0.88872987 -4.39263629]\t 39.38034795310127\t 1.4757178799086357\t 3.132317854985749\t 3.951745680010879\n",
            "5  \t [2.37017173 1.77366044]\t 11.909456767828065\t 1.4757178799086357\t 2.2727719219315663\t 3.098132926605094\n",
            "6  \t [-3.69932512  4.46125095]\t 53.49052632571051\t 1.4757178799086357\t 2.5016612536421197\t 3.278736018872242\n",
            "7  \t [-3.03758954 -1.95004976]\t 16.832338306730023\t 1.4757178799086357\t 2.7984365251096506\t 3.218924954784131\n",
            "8  \t [5.04872896 1.48431735]\t 29.89606006190058\t 1.4757178799086357\t 2.5016941758114397\t 2.8900982659741548\n",
            "9  \t [ 1.18177662 -2.02646628]\t 9.609727159109667\t 1.4757178799086357\t 2.456358708838302\t 2.603805290719799\n",
            "10 \t [0.05095904 0.90087003]\t 1.625730457397523\t 1.4757178799086357\t 2.6029461622602685\t 2.872879477219615\n",
            "\u001b[1m\u001b[92m11\u001b[0m\t \u001b[1m\u001b[92m[-0.78158587 -0.44983682]\u001b[0m\t \u001b[1m\u001b[92m1.0155828065727173\u001b[0m\t \u001b[1m\u001b[92m1.0155828065727173\u001b[0m\t \u001b[1m\u001b[92m2.964909443773809\u001b[0m\t \u001b[1m\u001b[92m3.1430619143486274\u001b[0m\n",
            "12 \t [-5.12       -1.47487472]\t 30.564910850449174\t 1.0155828065727173\t 2.6284435201605243\t 2.673086746338046\n",
            "\u001b[1m\u001b[92m13\u001b[0m\t \u001b[1m\u001b[92m[0.32705928 0.04054068]\u001b[0m\t \u001b[1m\u001b[92m0.11025486753108572\u001b[0m\t \u001b[1m\u001b[92m0.11025486753108572\u001b[0m\t \u001b[1m\u001b[92m2.302514409790095\u001b[0m\t \u001b[1m\u001b[92m2.666145839119753\u001b[0m\n",
            "\u001b[1m\u001b[92m14\u001b[0m\t \u001b[1m\u001b[92m[0.12504783 0.1170791 ]\u001b[0m\t \u001b[1m\u001b[92m0.04305199044685566\u001b[0m\t \u001b[1m\u001b[92m0.04305199044685566\u001b[0m\t \u001b[1m\u001b[92m2.3700845567193656\u001b[0m\t \u001b[1m\u001b[92m2.546599118930354\u001b[0m\n",
            "15 \t [-0.03168054  2.11744552]\t 8.968154726705428\t 0.04305199044685566\t 2.9581665178391763\t 2.86464582010492\n",
            "16 \t [ 0.65993423 -0.0622371 ]\t 0.4432601024106867\t 0.04305199044685566\t 2.7473522714747065\t 3.022427734650048\n",
            "17 \t [ 0.69959187 -0.07000469]\t 0.4992301010867649\t 0.04305199044685566\t 2.59633602844746\t 3.27909981391483\n",
            "\u001b[1m\u001b[92m18\u001b[0m\t \u001b[1m\u001b[92m[-0.00421618 -0.13081783]\u001b[0m\t \u001b[1m\u001b[92m0.03424438372766599\u001b[0m\t \u001b[1m\u001b[92m0.03424438372766599\u001b[0m\t \u001b[1m\u001b[92m2.7063191395802524\u001b[0m\t \u001b[1m\u001b[92m2.71171733070452\u001b[0m\n",
            "19 \t [ 0.35682202 -0.11124309]\t 0.15207200202107482\t 0.03424438372766599\t 2.619489073533753\t 3.0991803152941326\n",
            "20 \t [ 0.17138272 -0.13078986]\t 0.06358401422743075\t 0.03424438372766599\t 2.763033266028809\t 2.8463386225754785\n"
          ]
        }
      ],
      "source": [
        "### EXACT GP EI GRADIENTS\n",
        "\n",
        "np.random.seed(run_num_6)\n",
        "surrogate_exact_6 = dGaussianProcess(cov_func, optimize=opt)\n",
        "\n",
        "exact_6 = dGPGO(surrogate_exact_6, Acquisition_grad(util), objfunc, param)\n",
        "exact_6.run(init_evals=n_init, max_iter=iters)\n"
      ]
    },
    {
      "cell_type": "code",
      "execution_count": 40,
      "metadata": {
        "id": "tAOkme3CIvyO",
        "colab": {
          "base_uri": "https://localhost:8080/"
        },
        "outputId": "ed896d4a-ed9d-4c09-f020-31a9c9b009e4"
      },
      "outputs": [
        {
          "output_type": "stream",
          "name": "stdout",
          "text": [
            "Evaluation \t Proposed point \t  Current eval. \t  Best eval. \t        Exact EI: StdDev. x \t Approx EI: StdDev. x \n",
            "init\t [-4.33860312  2.86636843]\t 35.25561298730891\t 5.622520458601941\t    \t    \n",
            "init\t [-0.63068947  2.28828342]\t 10.870251237170722\t 5.622520458601941\t    \t    \n",
            "init\t [4.8946126  0.39419771]\t 24.268016205804518\t 5.622520458601941\t    \t    \n",
            "init\t [ 0.01147355 -4.38219639]\t 38.407422120416236\t 5.622520458601941\t    \t    \n",
            "init\t [-2.37118484e+00 -1.20319155e-03]\t 5.622520458601941\t 5.622520458601941\t    \t    \n",
            "1  \t [-5.12 -5.12]\t 78.64320000000001\t 5.622520458601941\t 3.539344733651757\t 3.477300629387618\n",
            "2  \t [3.47377579 5.12      ]\t 64.49591821064786\t 5.622520458601941\t 3.731154161492325\t 3.7520142863972996\n",
            "3  \t [ 4.60106006 -4.08987531]\t 54.623913747564956\t 5.622520458601941\t 3.3252556393628385\t 3.7957716520997793\n",
            "4  \t [-4.02558214 -1.33646422]\t 19.777584798449002\t 5.622520458601941\t 2.8894091457083273\t 3.046307140328312\n",
            "\u001b[1m\u001b[92m5\u001b[0m\t \u001b[1m\u001b[92m[ 1.26778679 -0.69601852]\u001b[0m\t \u001b[1m\u001b[92m2.576166913998925\u001b[0m\t \u001b[1m\u001b[92m2.576166913998925\u001b[0m\t \u001b[1m\u001b[92m3.166527708942094\u001b[0m\t \u001b[1m\u001b[92m3.2981105328292486\u001b[0m\n",
            "6  \t [-0.99031404  5.12      ]\t 53.40952189923344\t 2.576166913998925\t 2.747149017237302\t 3.3371496823417837\n",
            "7  \t [1.97450773 2.04548443]\t 12.266693897437435\t 2.576166913998925\t 2.5318369317618514\t 2.467463952746392\n",
            "8  \t [-0.45542709 -1.34987722]\t 3.8517508673983363\t 2.576166913998925\t 2.870511059566369\t 3.005881364982135\n",
            "\u001b[1m\u001b[92m9\u001b[0m\t \u001b[1m\u001b[92m[0.1707294  0.10200137]\u001b[0m\t \u001b[1m\u001b[92m0.04995708503436476\u001b[0m\t \u001b[1m\u001b[92m0.04995708503436476\u001b[0m\t \u001b[1m\u001b[92m3.099159223008598\u001b[0m\t \u001b[1m\u001b[92m3.6967406336382393\u001b[0m\n",
            "10 \t [ 2.4742718  -1.78050126]\t 12.462390387083031\t 0.04995708503436476\t 2.776775393564336\t 3.4626036854244453\n",
            "11 \t [-2.39147439 -4.95390557]\t 54.80151049899264\t 0.04995708503436476\t 3.1262658738275264\t 2.9622344028969145\n",
            "12 \t [-5.11292055  5.04211319]\t 76.98776743271776\t 0.04995708503436476\t 3.527375177758181\t 3.7302601804295006\n",
            "13 \t [0.44586571 0.01451468]\t 0.19921757998380282\t 0.04995708503436476\t 3.1903826747562527\t 2.8826066172235127\n",
            "14 \t [0.17401038 0.1408647 ]\t 0.06996533938982154\t 0.04995708503436476\t 2.245220479114842\t 2.3093651357638945\n",
            "15 \t [ 0.81092057 -0.165412  ]\t 0.7123144238690361\t 0.04995708503436476\t 3.1666604505021696\t 3.3234489170681423\n",
            "16 \t [-0.15122815  0.22439993]\t 0.12358061475548518\t 0.04995708503436476\t 2.6393505627479588\t 2.736373975083136\n",
            "17 \t [0.35374204 0.04106775]\t 0.12850654952511442\t 0.04995708503436476\t 2.8740324588205306\t 2.3979043069200485\n",
            "18 \t [-0.35061245  0.28959953]\t 0.29066486506602773\t 0.04995708503436476\t 3.2304339002776365\t 3.4209311068455968\n",
            "19 \t [0.28183041 0.06734554]\t 0.08849922667261542\t 0.04995708503436476\t 2.660623474185894\t 2.758143417073653\n",
            "20 \t [-0.62009771  0.35463207]\t 0.6360489785989412\t 0.04995708503436476\t 2.8870650151754536\t 2.6667260335943515\n"
          ]
        }
      ],
      "source": [
        "### EXACT GP EI GRADIENTS\n",
        "\n",
        "np.random.seed(run_num_7)\n",
        "surrogate_exact_7 = dGaussianProcess(cov_func, optimize=opt)\n",
        "\n",
        "exact_7 = dGPGO(surrogate_exact_7, Acquisition_grad(util), objfunc, param)\n",
        "exact_7.run(init_evals=n_init, max_iter=iters)\n"
      ]
    },
    {
      "cell_type": "code",
      "execution_count": 41,
      "metadata": {
        "id": "69-J3EF4Iv1S",
        "colab": {
          "base_uri": "https://localhost:8080/"
        },
        "outputId": "157d02ad-c594-4881-91d8-a5c64132e775"
      },
      "outputs": [
        {
          "output_type": "stream",
          "name": "stdout",
          "text": [
            "Evaluation \t Proposed point \t  Current eval. \t  Best eval. \t        Exact EI: StdDev. x \t Approx EI: StdDev. x \n",
            "init\t [3.82391708 4.79785639]\t 60.661193695854244\t 0.1518306274298758\t    \t    \n",
            "init\t [3.78055209 0.31596228]\t 14.492238445440277\t 0.1518306274298758\t    \t    \n",
            "init\t [-2.73686192 -5.00327624]\t 57.555959528959804\t 0.1518306274298758\t    \t    \n",
            "init\t [-0.7119993  -0.99992207]\t 2.506631309190485\t 0.1518306274298758\t    \t    \n",
            "init\t [ 0.23218863 -0.22126801]\t 0.1518306274298758\t 0.1518306274298758\t    \t    \n",
            "1  \t [0.03250849 1.99787253]\t 7.984046105282057\t 0.1518306274298758\t 3.068275642883515\t 3.872615779416303\n",
            "2  \t [-5.03492225  2.95509263]\t 42.81558690689544\t 0.1518306274298758\t 3.1196115877785515\t 3.501974172698668\n",
            "3  \t [-4.90184883 -0.99417622]\t 26.00489462317207\t 0.1518306274298758\t 2.889777228485675\t 3.5433506684026783\n",
            "4  \t [ 2.61277115 -4.65789363]\t 50.218519140159096\t 0.1518306274298758\t 3.402312368177738\t 4.114857442220754\n",
            "5  \t [-0.06239824  5.12      ]\t 52.43269354060225\t 0.1518306274298758\t 2.863601726252468\t 3.0216668787539582\n",
            "6  \t [ 1.34281582 -1.39576506]\t 5.699474542019647\t 0.1518306274298758\t 3.149567948189888\t 3.4892804383510665\n",
            "7  \t [-2.3373957   0.88679098]\t 7.036215158272495\t 0.1518306274298758\t 3.4429139305283325\t 3.2071718745815225\n",
            "8  \t [ 5.12       -2.40786896]\t 37.81006582684545\t 0.1518306274298758\t 3.7330544281523053\t 3.872429451207983\n",
            "9  \t [-0.66937403 -2.67458506]\t 14.754872046960143\t 0.1518306274298758\t 3.1564048200784174\t 3.3275019368755365\n",
            "10 \t [0.83323753 0.15037335]\t 0.7395090724131558\t 0.1518306274298758\t 3.3641243460624106\t 3.6132737224505322\n",
            "\u001b[1m\u001b[92m11\u001b[0m\t \u001b[1m\u001b[92m[-0.24577655  0.01822516]\u001b[0m\t \u001b[1m\u001b[92m0.061070426210831044\u001b[0m\t \u001b[1m\u001b[92m0.061070426210831044\u001b[0m\t \u001b[1m\u001b[92m3.4240517227462766\u001b[0m\t \u001b[1m\u001b[92m3.479539865105503\u001b[0m\n",
            "12 \t [5.12       2.13996616]\t 35.373310305898364\t 0.061070426210831044\t 2.644288714299988\t 2.523612876079246\n",
            "13 \t [-2.82008405  4.66120105]\t 51.40646447210946\t 0.061070426210831044\t 3.350475874813046\t 3.189812868178466\n",
            "14 \t [-0.48198519  0.07609048]\t 0.24388925095719868\t 0.061070426210831044\t 3.1130706220294915\t 3.030520380944918\n",
            "15 \t [-5.12       -3.68036204]\t 53.304529423284464\t 0.061070426210831044\t 2.834875413686625\t 3.0468261843868523\n",
            "\u001b[1m\u001b[92m16\u001b[0m\t \u001b[1m\u001b[92m[ 0.0301402  -0.03259817]\u001b[0m\t \u001b[1m\u001b[92m0.0030337126824090833\u001b[0m\t \u001b[1m\u001b[92m0.0030337126824090833\u001b[0m\t \u001b[1m\u001b[92m2.590109568402757\u001b[0m\t \u001b[1m\u001b[92m2.3881308510363244\u001b[0m\n",
            "17 \t [-0.94903785  0.27761717]\t 1.0548154187508723\t 0.0030337126824090833\t 2.868351842560975\t 3.298259494493572\n",
            "18 \t [ 0.43715145 -0.05569691]\t 0.19730568171094603\t 0.0030337126824090833\t 3.478832472328623\t 3.022592925464925\n",
            "19 \t [-0.1546746  0.0093041]\t 0.02409736531142758\t 0.0030337126824090833\t 2.7469349554930567\t 2.884401271003327\n",
            "20 \t [-0.33145431  0.05438944]\t 0.11577838449379944\t 0.0030337126824090833\t 3.1676092238863562\t 2.8838208337944686\n"
          ]
        }
      ],
      "source": [
        "### EXACT GP EI GRADIENTS\n",
        "\n",
        "np.random.seed(run_num_8)\n",
        "surrogate_exact_8 = dGaussianProcess(cov_func, optimize=opt)\n",
        "\n",
        "exact_8 = dGPGO(surrogate_exact_8, Acquisition_grad(util), objfunc, param)\n",
        "exact_8.run(init_evals=n_init, max_iter=iters)\n"
      ]
    },
    {
      "cell_type": "code",
      "execution_count": 42,
      "metadata": {
        "id": "vonm9jyuIv4t",
        "colab": {
          "base_uri": "https://localhost:8080/"
        },
        "outputId": "6b450a64-8ca8-4c0d-c721-965e0ab88cb1"
      },
      "outputs": [
        {
          "output_type": "stream",
          "name": "stdout",
          "text": [
            "Evaluation \t Proposed point \t  Current eval. \t  Best eval. \t        Exact EI: StdDev. x \t Approx EI: StdDev. x \n",
            "init\t [-5.01376866  0.01919582]\t 25.138613177506063\t 14.00341364504739\t    \t    \n",
            "init\t [-0.04328148 -3.74958562]\t 28.12065798163534\t 14.00341364504739\t    \t    \n",
            "init\t [-3.66478248 -2.88195916]\t 30.04200788009657\t 14.00341364504739\t    \t    \n",
            "init\t [-0.83447623 -2.57944404]\t 14.00341364504739\t 14.00341364504739\t    \t    \n",
            "init\t [-4.25922917 -1.58209393]\t 23.14707552082245\t 14.00341364504739\t    \t    \n",
            "1  \t [5.12 5.12]\t 78.64320000000001\t 14.00341364504739\t 3.038373123633067\t 3.0192895788417218\n",
            "2  \t [-0.71921852  4.11475232]\t 34.379648651490584\t 14.00341364504739\t 3.285922674497335\t 3.932335739590392\n",
            "3  \t [ 5.12       -1.23904812]\t 29.28488047450378\t 14.00341364504739\t 3.226773657724961\t 4.031869640994351\n",
            "\u001b[1m\u001b[92m4\u001b[0m\t \u001b[1m\u001b[92m[1.22313087 0.71910039]\u001b[0m\t \u001b[1m\u001b[92m2.530259866855717\u001b[0m\t \u001b[1m\u001b[92m2.530259866855717\u001b[0m\t \u001b[1m\u001b[92m3.251044531764696\u001b[0m\t \u001b[1m\u001b[92m3.7258201356190805\u001b[0m\n",
            "5  \t [3.49381265 1.8275064 ]\t 18.886286109589307\t 2.530259866855717\t 3.743388680923212\t 3.838566605400004\n",
            "6  \t [-4.35068979  3.52683061]\t 43.805569867781905\t 2.530259866855717\t 3.2640919427220663\t 3.762490116140758\n",
            "\u001b[1m\u001b[92m7\u001b[0m\t \u001b[1m\u001b[92m[-1.17644368  0.4072429 ]\u001b[0m\t \u001b[1m\u001b[92m1.7157133069078507\u001b[0m\t \u001b[1m\u001b[92m1.7157133069078507\u001b[0m\t \u001b[1m\u001b[92m2.908867153037835\u001b[0m\t \u001b[1m\u001b[92m3.164830512440284\u001b[0m\n",
            "8  \t [ 2.90527962 -3.39389051]\t 31.477635274503896\t 1.7157133069078507\t 3.273824039202276\t 3.7601058577454087\n",
            "9  \t [-5.12 -5.12]\t 78.64320000000001\t 1.7157133069078507\t 3.72057188388753\t 3.172408973179852\n",
            "10 \t [ 1.10375536 -0.70818308]\t 2.221322459284175\t 1.7157133069078507\t 2.681991297617017\t 3.411071265569057\n",
            "11 \t [1.96037334 5.12      ]\t 56.2718636273791\t 1.7157133069078507\t 2.2733037057950614\t 3.505807864847362\n",
            "12 \t [-2.21642627  1.26964595]\t 8.136547063147155\t 1.7157133069078507\t 1.9487692808649846\t 2.964619211751587\n",
            "\u001b[1m\u001b[92m13\u001b[0m\t \u001b[1m\u001b[92m[-0.29227328  0.24645131]\u001b[0m\t \u001b[1m\u001b[92m0.20690016355045587\u001b[0m\t \u001b[1m\u001b[92m0.20690016355045587\u001b[0m\t \u001b[1m\u001b[92m1.91367890817083\u001b[0m\t \u001b[1m\u001b[92m1.9190049956555546\u001b[0m\n",
            "14 \t [-0.02758537  1.20078288]\t 2.884520001830137\t 0.20690016355045587\t 2.249542530323586\t 2.725351529243388\n",
            "15 \t [-0.32234394 -0.37238345]\t 0.381244479350322\t 0.20690016355045587\t 2.392601923208438\t 3.2863769884836613\n",
            "16 \t [-0.28266585 -0.39400001]\t 0.39037200081361867\t 0.20690016355045587\t 2.7515516466954293\t 3.5440987609382124\n",
            "17 \t [-0.27046328 -0.39888067]\t 0.3913619657748288\t 0.20690016355045587\t 2.590093140428265\t 2.955836099437276\n",
            "18 \t [-0.56598566 -0.33833698]\t 0.549283588848035\t 0.20690016355045587\t 1.8986931100524478\t 3.3357130303942335\n",
            "19 \t [-0.19245272 -0.37343738]\t 0.3159489986213748\t 0.20690016355045587\t 2.9496394355869615\t 3.152033853785174\n",
            "20 \t [-0.92999044 -0.35039617]\t 1.1104371595477764\t 0.20690016355045587\t 2.7532550132752136\t 3.579214636569397\n"
          ]
        }
      ],
      "source": [
        "### EXACT GP EI GRADIENTS\n",
        "\n",
        "np.random.seed(run_num_9)\n",
        "surrogate_exact_9 = dGaussianProcess(cov_func, optimize=opt)\n",
        "\n",
        "exact_9 = dGPGO(surrogate_exact_9, Acquisition_grad(util), objfunc, param)\n",
        "exact_9.run(init_evals=n_init, max_iter=iters)\n"
      ]
    },
    {
      "cell_type": "code",
      "execution_count": 43,
      "metadata": {
        "id": "6amuYlUdIv7r",
        "colab": {
          "base_uri": "https://localhost:8080/"
        },
        "outputId": "2fd48ed0-776f-409e-fa79-d15724211e16"
      },
      "outputs": [
        {
          "output_type": "stream",
          "name": "stdout",
          "text": [
            "Evaluation \t Proposed point \t  Current eval. \t  Best eval. \t        Exact EI: StdDev. x \t Approx EI: StdDev. x \n",
            "init\t [ 2.77832339 -4.90750004]\t 55.886194099964676\t 14.855028828430257\t    \t    \n",
            "init\t [1.36855793 2.54775176]\t 14.855028828430257\t 14.855028828430257\t    \t    \n",
            "init\t [-0.01528819 -2.81808235]\t 15.883409988980564\t 14.855028828430257\t    \t    \n",
            "init\t [-3.09183626  2.66783449]\t 23.79413325191142\t 14.855028828430257\t    \t    \n",
            "init\t [-3.38830503 -4.2154003 ]\t 47.019810427389544\t 14.855028828430257\t    \t    \n",
            "1  \t [ 5.12      -0.3657871]\t 26.482000399224187\t 14.855028828430257\t 3.620958851180413\t 3.7809059221061108\n",
            "2  \t [5.12 5.12]\t 78.64320000000001\t 14.855028828430257\t 3.2734831545303233\t 3.5547622048389935\n",
            "3  \t [-4.19727264 -0.70772147]\t 18.618836936207657\t 14.855028828430257\t 2.7021117025532284\t 3.316180115122098\n",
            "\u001b[1m\u001b[92m4\u001b[0m\t \u001b[1m\u001b[92m[-0.98165001  0.3379261 ]\u001b[0m\t \u001b[1m\u001b[92m1.1920248324229814\u001b[0m\t \u001b[1m\u001b[92m1.1920248324229814\u001b[0m\t \u001b[1m\u001b[92m3.552282697174951\u001b[0m\t \u001b[1m\u001b[92m3.6087337529608963\u001b[0m\n",
            "5  \t [ 2.00323692 -0.65307552]\t 4.865973408912879\t 1.1920248324229814\t 3.6107205775028595\t 3.309025998805472\n",
            "6  \t [0.10579747 5.07144996]\t 51.450402429231396\t 1.1920248324229814\t 3.500582197553211\t 3.4138900001858765\n",
            "7  \t [4.00356046 2.10716637]\t 24.908796558093364\t 1.1920248324229814\t 3.2884825352035607\t 3.7051229337479654\n",
            "8  \t [-0.6446883 -5.12     ]\t 52.84442300745642\t 1.1920248324229814\t 3.273897872803596\t 3.1933014807121767\n",
            "9  \t [-1.39725454 -0.32546921]\t 2.1641806561384684\t 1.1920248324229814\t 3.2276486597165075\t 3.756814622271497\n",
            "10 \t [-0.54793517  1.01327408]\t 2.3536816661616724\t 1.1920248324229814\t 3.306757426841807\t 3.46760564813195\n",
            "\u001b[1m\u001b[92m11\u001b[0m\t \u001b[1m\u001b[92m[ 0.20246586 -0.17550382]\u001b[0m\t \u001b[1m\u001b[92m0.10259560276646154\u001b[0m\t \u001b[1m\u001b[92m0.10259560276646154\u001b[0m\t \u001b[1m\u001b[92m2.9694199408039594\u001b[0m\t \u001b[1m\u001b[92m3.1478759352897616\u001b[0m\n",
            "\u001b[1m\u001b[92m12\u001b[0m\t \u001b[1m\u001b[92m[ 0.16754799 -0.13625829]\u001b[0m\t \u001b[1m\u001b[92m0.06520497518148362\u001b[0m\t \u001b[1m\u001b[92m0.06520497518148362\u001b[0m\t \u001b[1m\u001b[92m3.1575408353497325\u001b[0m\t \u001b[1m\u001b[92m3.5414449793444227\u001b[0m\n",
            "13 \t [ 5.10545488 -3.13381739]\t 45.70729243526897\t 0.06520497518148362\t 2.7515187011750126\t 3.0505147782785107\n",
            "14 \t [-3.08144246  5.01931768]\t 59.88238767946312\t 0.06520497518148362\t 3.1795156396835793\t 3.7410225107581083\n",
            "15 \t [ 0.3347057  -0.27662113]\t 0.2650664093743752\t 0.06520497518148362\t 3.808234571411175\t 3.1424715923248083\n",
            "\u001b[1m\u001b[92m16\u001b[0m\t \u001b[1m\u001b[92m[ 0.12342408 -0.09990629]\u001b[0m\t \u001b[1m\u001b[92m0.03519603653515844\u001b[0m\t \u001b[1m\u001b[92m0.03519603653515844\u001b[0m\t \u001b[1m\u001b[92m3.3286725677373674\u001b[0m\t \u001b[1m\u001b[92m3.0488268978776025\u001b[0m\n",
            "\u001b[1m\u001b[92m17\u001b[0m\t \u001b[1m\u001b[92m[-0.05481902  0.05646727]\u001b[0m\t \u001b[1m\u001b[92m0.009382229577465456\u001b[0m\t \u001b[1m\u001b[92m0.009382229577465456\u001b[0m\t \u001b[1m\u001b[92m3.272810151095007\u001b[0m\t \u001b[1m\u001b[92m3.1033222304064196\u001b[0m\n",
            "18 \t [ 0.1585103  -0.12441654]\t 0.05608446416073765\t 0.009382229577465456\t 2.8493279693837605\t 3.382627739482159\n",
            "\u001b[1m\u001b[92m19\u001b[0m\t \u001b[1m\u001b[92m[-0.04559501  0.04920843]\u001b[0m\t \u001b[1m\u001b[92m0.006921843337815097\u001b[0m\t \u001b[1m\u001b[92m0.006921843337815097\u001b[0m\t \u001b[1m\u001b[92m2.543217732484952\u001b[0m\t \u001b[1m\u001b[92m2.4192085111312425\u001b[0m\n",
            "20 \t [ 0.07317121 -0.05529189]\t 0.011468412592260783\t 0.006921843337815097\t 3.0005984497682427\t 3.3128129806549245\n"
          ]
        }
      ],
      "source": [
        "### EXACT GP EI GRADIENTS\n",
        "\n",
        "np.random.seed(run_num_10)\n",
        "surrogate_exact_10 = dGaussianProcess(cov_func, optimize=opt)\n",
        "\n",
        "exact_10 = dGPGO(surrogate_exact_10, Acquisition_grad(util), objfunc, param)\n",
        "exact_10.run(init_evals=n_init, max_iter=iters)\n"
      ]
    },
    {
      "cell_type": "code",
      "execution_count": 44,
      "metadata": {
        "id": "VwbLIP9cIv-F",
        "colab": {
          "base_uri": "https://localhost:8080/"
        },
        "outputId": "13e850cf-c861-4071-eda2-717a167ecc41"
      },
      "outputs": [
        {
          "output_type": "stream",
          "name": "stdout",
          "text": [
            "Evaluation \t Proposed point \t  Current eval. \t  Best eval. \t        Exact EI: StdDev. x \t Approx EI: StdDev. x \n",
            "init\t [-3.27403839 -4.92057353]\t 59.14341502486697\t 0.7122141741228657\t    \t    \n",
            "init\t [-0.37664229  2.30332343]\t 10.752457105378047\t 0.7122141741228657\t    \t    \n",
            "init\t [-0.81711509 -0.14922651]\t 0.7122141741228657\t 0.7122141741228657\t    \t    \n",
            "init\t [-4.98912446 -0.12931474]\t 24.924807467825406\t 0.7122141741228657\t    \t    \n",
            "init\t [4.52410012 3.59214172]\t 46.27444610017016\t 0.7122141741228657\t    \t    \n",
            "1  \t [ 3.03550212 -4.46785095]\t 49.13765732819627\t 0.7122141741228657\t 3.254381789545812\t 3.913987280875641\n",
            "2  \t [ 2.97957553 -0.30955414]\t 9.06951788457425\t 0.7122141741228657\t 2.5610096435674423\t 3.4478908246017754\n",
            "3  \t [-1.19896852  5.12      ]\t 53.86632550764567\t 0.7122141741228657\t 3.2267661961292857\t 4.175395104947636\n",
            "4  \t [-0.10375752 -2.60231153]\t 13.554816238441074\t 0.7122141741228657\t 2.88046418554187\t 3.1167156330961228\n",
            "5  \t [-3.83094867  2.82596846]\t 30.648363183304134\t 0.7122141741228657\t 3.342110000513518\t 2.969810936188724\n",
            "6  \t [-2.00570621 -0.29849265]\t 4.20105311133308\t 0.7122141741228657\t 3.1366634985372968\t 3.200875288414956\n",
            "7  \t [ 5.12       -1.01933535]\t 28.292489097589097\t 0.7122141741228657\t 3.908585959240459\t 3.5607687600333287\n",
            "8  \t [1.91273983 4.69965463]\t 47.8320809125843\t 0.7122141741228657\t 3.3157619248831214\t 3.0305779760677347\n",
            "9  \t [-0.18109409 -5.12      ]\t 52.461595067950654\t 0.7122141741228657\t 3.6343565796080597\t 3.589577813108247\n",
            "\u001b[1m\u001b[92m10\u001b[0m\t \u001b[1m\u001b[92m[ 0.61521444 -0.08217933]\u001b[0m\t \u001b[1m\u001b[92m0.39199569432466447\u001b[0m\t \u001b[1m\u001b[92m0.39199569432466447\u001b[0m\t \u001b[1m\u001b[92m3.1541135868688257\u001b[0m\t \u001b[1m\u001b[92m3.294332957381779\u001b[0m\n",
            "\u001b[1m\u001b[92m11\u001b[0m\t \u001b[1m\u001b[92m[ 0.53195271 -0.07827956]\u001b[0m\t \u001b[1m\u001b[92m0.29522906130346804\u001b[0m\t \u001b[1m\u001b[92m0.29522906130346804\u001b[0m\t \u001b[1m\u001b[92m3.9041750842403644\u001b[0m\t \u001b[1m\u001b[92m3.731803902129255\u001b[0m\n",
            "12 \t [ 0.91267476 -0.45824335]\t 1.2529491545206377\t 0.29522906130346804\t 3.5645910473721854\t 3.1995242700955426\n",
            "\u001b[1m\u001b[92m13\u001b[0m\t \u001b[1m\u001b[92m[-0.09468095  0.13246595]\u001b[0m\t \u001b[1m\u001b[92m0.044058936184120635\u001b[0m\t \u001b[1m\u001b[92m0.044058936184120635\u001b[0m\t \u001b[1m\u001b[92m3.0052023379597332\u001b[0m\t \u001b[1m\u001b[92m3.1347851619458584\u001b[0m\n",
            "14 \t [-2.93028195 -1.91945588]\t 15.955174060983385\t 0.044058936184120635\t 3.6060137379285626\t 3.726272904040934\n",
            "15 \t [ 0.7419703  -0.24659615]\t 0.6721392583419571\t 0.044058936184120635\t 3.909233349371811\t 3.049965562693539\n",
            "16 \t [-0.74439859  0.29541794]\t 0.7286727784720227\t 0.044058936184120635\t 3.9574455489507923\t 3.4510666855111674\n",
            "17 \t [1.8713618  1.44665072]\t 7.687591595565105\t 0.044058936184120635\t 2.7657305285276714\t 2.170848194979881\n",
            "18 \t [ 0.00766257 -0.15668688]\t 0.049160273489234525\t 0.044058936184120635\t 2.7322702703625636\t 3.2428379011272495\n",
            "19 \t [ 0.02608497 -0.17138938]\t 0.05942906561621742\t 0.044058936184120635\t 3.5762322977535206\t 2.8361189272354204\n",
            "20 \t [-0.8007969   0.30195802]\t 0.8236329584880068\t 0.044058936184120635\t 3.3819193851954084\t 3.0933427305883527\n"
          ]
        }
      ],
      "source": [
        "### EXACT GP EI GRADIENTS\n",
        "\n",
        "np.random.seed(run_num_11)\n",
        "surrogate_exact_11 = dGaussianProcess(cov_func, optimize=opt)\n",
        "\n",
        "exact_11 = dGPGO(surrogate_exact_11, Acquisition_grad(util), objfunc, param)\n",
        "exact_11.run(init_evals=n_init, max_iter=iters)\n"
      ]
    },
    {
      "cell_type": "code",
      "execution_count": 45,
      "metadata": {
        "id": "MlUNFjc-JTBY",
        "colab": {
          "base_uri": "https://localhost:8080/"
        },
        "outputId": "3f29cb9b-36cb-4945-dcc6-375382c39e04"
      },
      "outputs": [
        {
          "output_type": "stream",
          "name": "stdout",
          "text": [
            "Evaluation \t Proposed point \t  Current eval. \t  Best eval. \t        Exact EI: StdDev. x \t Approx EI: StdDev. x \n",
            "init\t [-3.54137249  2.45810889]\t 24.62591779447066\t 6.112828495563743\t    \t    \n",
            "init\t [-2.42365424  0.34549139]\t 6.112828495563743\t 6.112828495563743\t    \t    \n",
            "init\t [-4.97075238  4.28796936]\t 61.48174177959852\t 6.112828495563743\t    \t    \n",
            "init\t [ 4.10332011 -4.77776458]\t 62.49130467854858\t 6.112828495563743\t    \t    \n",
            "init\t [ 4.6791612  -3.71497655]\t 49.4966510918416\t 6.112828495563743\t    \t    \n",
            "1  \t [5.12 5.12]\t 78.64320000000001\t 6.112828495563743\t 3.844578738994418\t 3.5638827355856275\n",
            "2  \t [-5.12 -5.12]\t 78.64320000000001\t 6.112828495563743\t 3.641277157046997\t 3.0759541781298547\n",
            "3  \t [2.21043043 0.79230284]\t 6.141490294364116\t 6.112828495563743\t 2.813737097769883\t 2.656842911797133\n",
            "4  \t [0.42822316 4.67756803]\t 43.942660447484435\t 6.112828495563743\t 2.899032597623214\t 3.137211204131393\n",
            "5  \t [-0.46738349 -4.08945992]\t 33.665812191020365\t 6.112828495563743\t 2.7299389448248466\t 2.74237448216479\n",
            "6  \t [-5.12       -1.14880256]\t 28.85389466336971\t 6.112828495563743\t 2.6429645710144665\t 3.1045357688333364\n",
            "7  \t [5.12       0.30335222]\t 26.398445133900797\t 6.112828495563743\t 2.41912011033415\t 3.086650677245063\n",
            "\u001b[1m\u001b[92m8\u001b[0m\t \u001b[1m\u001b[92m[ 0.45402916 -1.0330619 ]\u001b[0m\t \u001b[1m\u001b[92m2.3405762757912547\u001b[0m\t \u001b[1m\u001b[92m2.3405762757912547\u001b[0m\t \u001b[1m\u001b[92m2.514993952637642\u001b[0m\t \u001b[1m\u001b[92m2.8233088695085673\u001b[0m\n",
            "9  \t [-0.22024666  1.41638685]\t 4.060811997198681\t 2.3405762757912547\t 2.520209148176943\t 2.4958446067326507\n",
            "10 \t [ 2.12073378 -1.7877106 ]\t 10.889330131470203\t 2.3405762757912547\t 2.598059455122337\t 3.0013777488374442\n",
            "11 \t [2.78004739 2.87170944]\t 24.22209370202249\t 2.3405762757912547\t 2.435579154694064\t 2.8347896593091155\n",
            "12 \t [-1.77657845 -1.64318121]\t 8.556319946541725\t 2.3405762757912547\t 2.4572362372978596\t 2.4274165912936185\n",
            "\u001b[1m\u001b[92m13\u001b[0m\t \u001b[1m\u001b[92m[ 0.02435545 -0.11806558]\u001b[0m\t \u001b[1m\u001b[92m0.028472150328764947\u001b[0m\t \u001b[1m\u001b[92m0.028472150328764947\u001b[0m\t \u001b[1m\u001b[92m2.3529605030444083\u001b[0m\t \u001b[1m\u001b[92m2.6101258970843313\u001b[0m\n",
            "14 \t [ 0.16611298 -0.22350563]\t 0.12750305192795205\t 0.028472150328764947\t 2.459090204072161\t 2.625225696366083\n",
            "15 \t [ 0.08060635 -0.15248647]\t 0.053001632563140715\t 0.028472150328764947\t 2.7807048064037643\t 3.129770088486171\n",
            "\u001b[1m\u001b[92m16\u001b[0m\t \u001b[1m\u001b[92m[-0.01081819 -0.09170833]\u001b[0m\t \u001b[1m\u001b[92m0.01693786851228147\u001b[0m\t \u001b[1m\u001b[92m0.01693786851228147\u001b[0m\t \u001b[1m\u001b[92m2.665280942480858\u001b[0m\t \u001b[1m\u001b[92m2.8823527430997498\u001b[0m\n",
            "17 \t [ 0.17489008 -0.2072157 ]\t 0.11646323093349803\t 0.01693786851228147\t 2.491300536832667\t 2.3041141210330376\n",
            "18 \t [-0.19698942  0.02486305]\t 0.0400411739510933\t 0.01693786851228147\t 2.886068950452568\t 3.008655224555872\n",
            "19 \t [ 0.40929112 -0.48014   ]\t 0.6285880660796255\t 0.01693786851228147\t 2.7206150157932067\t 2.939577637424658\n",
            "20 \t [ 0.23740711 -0.29806279]\t 0.23404498492938935\t 0.01693786851228147\t 2.3461471263066196\t 2.554267127446915\n"
          ]
        }
      ],
      "source": [
        "### EXACT GP EI GRADIENTS\n",
        "\n",
        "np.random.seed(run_num_12)\n",
        "surrogate_exact_12 = dGaussianProcess(cov_func, optimize=opt)\n",
        "\n",
        "exact_12 = dGPGO(surrogate_exact_12, Acquisition_grad(util), objfunc, param)\n",
        "exact_12.run(init_evals=n_init, max_iter=iters)\n"
      ]
    },
    {
      "cell_type": "code",
      "execution_count": 46,
      "metadata": {
        "id": "9BsKdU9eJTFL",
        "colab": {
          "base_uri": "https://localhost:8080/"
        },
        "outputId": "9887db6b-b7b3-4ec2-d2d0-da786b352990"
      },
      "outputs": [
        {
          "output_type": "stream",
          "name": "stdout",
          "text": [
            "Evaluation \t Proposed point \t  Current eval. \t  Best eval. \t        Exact EI: StdDev. x \t Approx EI: StdDev. x \n",
            "init\t [ 2.84367268 -2.68757791]\t 22.532624345992815\t 12.440151302029248\t    \t    \n",
            "init\t [3.32061217 4.76927179]\t 56.51837198799\t 12.440151302029248\t    \t    \n",
            "init\t [ 4.83943541 -0.47667971]\t 23.87458213765974\t 12.440151302029248\t    \t    \n",
            "init\t [1.11659482 2.82139151]\t 17.16728408945556\t 12.440151302029248\t    \t    \n",
            "init\t [1.45012065 2.27346667]\t 12.440151302029248\t 12.440151302029248\t    \t    \n",
            "1  \t [-5.12 -5.12]\t 78.64320000000001\t 12.440151302029248\t 2.8151834978133445\t 3.1560145999618334\n",
            "2  \t [-4.39199677  2.07568555]\t 27.9065766872336\t 12.440151302029248\t 2.897478946332486\t 3.9302763376195506\n",
            "\u001b[1m\u001b[92m3\u001b[0m\t \u001b[1m\u001b[92m[-1.87806242 -1.44163556]\u001b[0m\t \u001b[1m\u001b[92m7.683744619418214\u001b[0m\t \u001b[1m\u001b[92m7.683744619418214\u001b[0m\t \u001b[1m\u001b[92m2.9021590135298188\u001b[0m\t \u001b[1m\u001b[92m3.3324957344584223\u001b[0m\n",
            "4  \t [-1.90076453  5.12      ]\t 56.04170581690368\t 7.683744619418214\t 3.051038890329819\t 3.7343138833858855\n",
            "5  \t [-0.53235238 -5.12      ]\t 52.71219905292758\t 7.683744619418214\t 3.426635404222894\t 3.867034666362981\n",
            "6  \t [-5.07732728 -1.44204683]\t 29.938250421020566\t 7.683744619418214\t 2.6503352459994893\t 3.5487741109588886\n",
            "\u001b[1m\u001b[92m7\u001b[0m\t \u001b[1m\u001b[92m[ 0.54789052 -0.35315522]\u001b[0m\t \u001b[1m\u001b[92m0.5496212396187614\u001b[0m\t \u001b[1m\u001b[92m0.5496212396187614\u001b[0m\t \u001b[1m\u001b[92m2.9955209153077806\u001b[0m\t \u001b[1m\u001b[92m3.4858929628604858\u001b[0m\n",
            "8  \t [-1.0876809   0.90369501]\t 2.8163791021764655\t 0.5496212396187614\t 2.659106265272545\t 3.9849361181343834\n",
            "9  \t [ 0.82861505 -0.3886213 ]\t 0.9886559292692981\t 0.5496212396187614\t 3.024670068605028\t 3.8350488204446433\n",
            "10 \t [5.12      2.5965334]\t 39.69837143721914\t 0.5496212396187614\t 2.6623860981201846\t 3.3750610199097633\n",
            "11 \t [ 4.91988657 -3.71857923]\t 51.860946933377946\t 0.5496212396187614\t 2.735693454583685\t 3.247683144963567\n",
            "12 \t [ 1.89447394 -0.12799892]\t 3.6217989513614377\t 0.5496212396187614\t 2.5845749693629663\t 2.8047713937903636\n",
            "13 \t [ 0.5135453 -2.3395386]\t 11.210610497642417\t 0.5496212396187614\t 3.288159456236256\t 3.1702662020943864\n",
            "\u001b[1m\u001b[92m14\u001b[0m\t \u001b[1m\u001b[92m[-0.0564333   0.19276719]\u001b[0m\t \u001b[1m\u001b[92m0.07750309275228376\u001b[0m\t \u001b[1m\u001b[92m0.07750309275228376\u001b[0m\t \u001b[1m\u001b[92m2.4142072459231336\u001b[0m\t \u001b[1m\u001b[92m2.8635974774779904\u001b[0m\n",
            "15 \t [-0.24593356  0.34826482]\t 0.3030600842850133\t 0.07750309275228376\t 2.950167804493859\t 3.0693240041710754\n",
            "\u001b[1m\u001b[92m16\u001b[0m\t \u001b[1m\u001b[92m[0.06009606 0.10465053]\u001b[0m\t \u001b[1m\u001b[92m0.02551500311472941\u001b[0m\t \u001b[1m\u001b[92m0.02551500311472941\u001b[0m\t \u001b[1m\u001b[92m2.504340292995438\u001b[0m\t \u001b[1m\u001b[92m3.0725491378839087\u001b[0m\n",
            "17 \t [-4.90517129  4.63174594]\t 66.96684637711549\t 0.02551500311472941\t 3.5811513048340067\t 3.4872389682225595\n",
            "\u001b[1m\u001b[92m18\u001b[0m\t \u001b[1m\u001b[92m[0.07978345 0.09028808]\u001b[0m\t \u001b[1m\u001b[92m0.022669275061911416\u001b[0m\t \u001b[1m\u001b[92m0.022669275061911416\u001b[0m\t \u001b[1m\u001b[92m2.7450502492294975\u001b[0m\t \u001b[1m\u001b[92m2.5720646617252707\u001b[0m\n",
            "19 \t [-0.07495404  0.20985333]\t 0.0936949510470006\t 0.022669275061911416\t 2.805672707893714\t 3.2044966970406543\n",
            "20 \t [ 0.33558264 -0.0812837 ]\t 0.12582979161795638\t 0.022669275061911416\t 3.167850891360307\t 3.267782727498979\n"
          ]
        }
      ],
      "source": [
        "### EXACT GP EI GRADIENTS\n",
        "\n",
        "np.random.seed(run_num_13)\n",
        "surrogate_exact_13 = dGaussianProcess(cov_func, optimize=opt)\n",
        "\n",
        "exact_13 = dGPGO(surrogate_exact_13, Acquisition_grad(util), objfunc, param)\n",
        "exact_13.run(init_evals=n_init, max_iter=iters)\n"
      ]
    },
    {
      "cell_type": "code",
      "execution_count": 47,
      "metadata": {
        "id": "k6GjFBr1JTJf",
        "colab": {
          "base_uri": "https://localhost:8080/"
        },
        "outputId": "6dce71cb-d591-4475-f646-66b000a228e4"
      },
      "outputs": [
        {
          "output_type": "stream",
          "name": "stdout",
          "text": [
            "Evaluation \t Proposed point \t  Current eval. \t  Best eval. \t        Exact EI: StdDev. x \t Approx EI: StdDev. x \n",
            "init\t [0.14277984 2.79721013]\t 15.669155142359655\t 6.942951853664133\t    \t    \n",
            "init\t [ 3.7931795  -5.03759925]\t 65.14302308089468\t 6.942951853664133\t    \t    \n",
            "init\t [-1.94830412  4.68586229]\t 47.71049977745547\t 6.942951853664133\t    \t    \n",
            "init\t [ 0.13431513 -1.86076749]\t 6.942951853664133\t 6.942951853664133\t    \t    \n",
            "init\t [ 0.40140736 -2.85434939]\t 16.455748743182696\t 6.942951853664133\t    \t    \n",
            "1  \t [-5.12 -5.12]\t 78.64320000000001\t 6.942951853664133\t 4.173909664050681\t 4.000919344766778\n",
            "2  \t [5.12 5.12]\t 78.64320000000001\t 6.942951853664133\t 3.9437513730729985\t 3.9856402008446086\n",
            "3  \t [-5.12        0.36584669]\t 26.482087598538893\t 6.942951853664133\t 2.8718273120833717\t 3.6918733073329055\n",
            "4  \t [4.78912472 0.01214057]\t 22.936010403233993\t 6.942951853664133\t 2.977226463537656\t 3.336902972314584\n",
            "\u001b[1m\u001b[92m5\u001b[0m\t \u001b[1m\u001b[92m[-1.70498912 -0.02304271]\u001b[0m\t \u001b[1m\u001b[92m2.9080498259817866\u001b[0m\t \u001b[1m\u001b[92m2.9080498259817866\u001b[0m\t \u001b[1m\u001b[92m2.873223254021684\u001b[0m\t \u001b[1m\u001b[92m2.5879582297059653\u001b[0m\n",
            "6  \t [-1.7391122 -4.8571515]\t 50.208352538897586\t 2.9080498259817866\t 2.746350794013734\t 3.4020114202961307\n",
            "7  \t [1.73135243 0.07024655]\t 3.007450397205301\t 2.9080498259817866\t 2.3890122937686145\t 2.5916784588878143\n",
            "8  \t [-4.98184869  3.38926629]\t 47.793068406763865\t 2.9080498259817866\t 2.7891256797301445\t 3.3951130821378044\n",
            "9  \t [1.72310687 5.12      ]\t 55.39789728026932\t 2.9080498259817866\t 2.928683552108678\t 3.2432227013772987\n",
            "10 \t [-3.59892789 -1.90449465]\t 20.20648170589771\t 2.9080498259817866\t 2.6300835867402195\t 2.599566631809807\n",
            "11 \t [3.47784788 2.12533405]\t 21.129515509806183\t 2.9080498259817866\t 2.8615251528270456\t 3.1475084220995337\n",
            "12 \t [ 2.92613543 -1.94207018]\t 16.105541742494466\t 2.9080498259817866\t 2.4225322738523265\t 3.065499426819146\n",
            "13 \t [-2.40091656  1.54643111]\t 10.547298703909949\t 2.9080498259817866\t 2.616177261864582\t 3.1216226770453828\n",
            "\u001b[1m\u001b[92m14\u001b[0m\t \u001b[1m\u001b[92m[-0.0191909   0.11160653]\u001b[0m\t \u001b[1m\u001b[92m0.025280325625609106\u001b[0m\t \u001b[1m\u001b[92m0.025280325625609106\u001b[0m\t \u001b[1m\u001b[92m2.3052584121412334\u001b[0m\t \u001b[1m\u001b[92m2.374469614658794\u001b[0m\n",
            "\u001b[1m\u001b[92m15\u001b[0m\t \u001b[1m\u001b[92m[0.04370376 0.07678816]\u001b[0m\t \u001b[1m\u001b[92m0.013702861677080421\u001b[0m\t \u001b[1m\u001b[92m0.013702861677080421\u001b[0m\t \u001b[1m\u001b[92m2.1216390990876186\u001b[0m\t \u001b[1m\u001b[92m2.5654130319695656\u001b[0m\n",
            "16 \t [0.09153316 0.05916795]\t 0.015380012946015039\t 0.013702861677080421\t 2.5629387528629874\t 2.5450151471320743\n",
            "17 \t [-0.37398356  0.30174031]\t 0.3219581297851948\t 0.013702861677080421\t 2.559101367175072\t 3.300494012572464\n",
            "18 \t [-0.25396348  0.2202498 ]\t 0.16151739482228794\t 0.013702861677080421\t 1.8014118862250024\t 2.324213270373001\n",
            "19 \t [-0.03665179  0.12987592]\t 0.03507886337702504\t 0.013702861677080421\t 2.7199339074093856\t 3.03196236485841\n",
            "20 \t [0.21309534 0.04228237]\t 0.04898522115856941\t 0.013702861677080421\t 2.7721550079416386\t 2.6926716012447613\n"
          ]
        }
      ],
      "source": [
        "### EXACT GP EI GRADIENTS\n",
        "\n",
        "np.random.seed(run_num_14)\n",
        "surrogate_exact_14 = dGaussianProcess(cov_func, optimize=opt)\n",
        "\n",
        "exact_14 = dGPGO(surrogate_exact_14, Acquisition_grad(util), objfunc, param)\n",
        "exact_14.run(init_evals=n_init, max_iter=iters)\n"
      ]
    },
    {
      "cell_type": "code",
      "execution_count": 48,
      "metadata": {
        "id": "dPS8WB3aJTN6",
        "colab": {
          "base_uri": "https://localhost:8080/"
        },
        "outputId": "aae85ffd-620a-4637-97c4-f1f0dc880697"
      },
      "outputs": [
        {
          "output_type": "stream",
          "name": "stdout",
          "text": [
            "Evaluation \t Proposed point \t  Current eval. \t  Best eval. \t        Exact EI: StdDev. x \t Approx EI: StdDev. x \n",
            "init\t [ 3.57189322 -3.28810573]\t 34.38169974295086\t 5.478261179905657\t    \t    \n",
            "init\t [-4.56332069 -1.41784631]\t 24.84447200795673\t 5.478261179905657\t    \t    \n",
            "init\t [-2.29989449  0.3072023 ]\t 5.478261179905657\t 5.478261179905657\t    \t    \n",
            "init\t [-1.9873903  -2.00218256]\t 11.967190241167383\t 5.478261179905657\t    \t    \n",
            "init\t [-3.97576933 -2.5610341 ]\t 28.924533081850157\t 5.478261179905657\t    \t    \n",
            "1  \t [3.74846597 5.12      ]\t 66.4797971101931\t 5.478261179905657\t 3.8558754620668605\t 3.7781088597484644\n",
            "2  \t [-1.6219689  5.12     ]\t 55.05958312236552\t 5.478261179905657\t 2.670848706403374\t 3.557330585625552\n",
            "\u001b[1m\u001b[92m3\u001b[0m\t \u001b[1m\u001b[92m[1.72968249 0.93594674]\u001b[0m\t \u001b[1m\u001b[92m4.743794118209054\u001b[0m\t \u001b[1m\u001b[92m4.743794118209054\u001b[0m\t \u001b[1m\u001b[92m3.178993116500891\u001b[0m\t \u001b[1m\u001b[92m3.426327120101726\u001b[0m\n",
            "4  \t [-5.12        2.79513483]\t 41.83995746021066\t 4.743794118209054\t 3.1999504188450016\t 3.5514615513924466\n",
            "5  \t [5.12       0.99002152]\t 28.17468520649762\t 4.743794118209054\t 3.6078247607376324\t 3.779880788067466\n",
            "6  \t [-0.24862669 -5.12      ]\t 52.49061523165139\t 4.743794118209054\t 3.419038937796144\t 3.4360999104234993\n",
            "7  \t [-5.12 -5.12]\t 78.64320000000001\t 4.743794118209054\t 3.1801017517802235\t 3.4682456204860834\n",
            "\u001b[1m\u001b[92m8\u001b[0m\t \u001b[1m\u001b[92m[ 0.73069838 -1.32151491]\u001b[0m\t \u001b[1m\u001b[92m4.026723412180909\u001b[0m\t \u001b[1m\u001b[92m4.026723412180909\u001b[0m\t \u001b[1m\u001b[92m3.1461289498689244\u001b[0m\t \u001b[1m\u001b[92m3.469510510285687\u001b[0m\n",
            "9  \t [0.8092977  3.04644065]\t 19.216564034170908\t 4.026723412180909\t 1.6537534062835566\t 2.961142206854608\n",
            "10 \t [-1.96461892  2.07673503]\t 12.485384271672192\t 4.026723412180909\t 2.410581640091959\t 3.365247391531399\n",
            "\u001b[1m\u001b[92m11\u001b[0m\t \u001b[1m\u001b[92m[-0.24270455  0.23781015]\u001b[0m\t \u001b[1m\u001b[92m0.17201283050527708\u001b[0m\t \u001b[1m\u001b[92m0.17201283050527708\u001b[0m\t \u001b[1m\u001b[92m2.875936788902146\u001b[0m\t \u001b[1m\u001b[92m3.2441649577173712\u001b[0m\n",
            "12 \t [ 2.70750595 -0.57581292]\t 7.9937095234120115\t 0.17201283050527708\t 3.118379107255554\t 3.609330038897954\n",
            "13 \t [-0.38721817  0.44857214]\t 0.5523718424390314\t 0.17201283050527708\t 2.917800193374319\t 3.309570756982492\n",
            "\u001b[1m\u001b[92m14\u001b[0m\t \u001b[1m\u001b[92m[-0.05168682 -0.01149762]\u001b[0m\t \u001b[1m\u001b[92m0.0029359180533647415\u001b[0m\t \u001b[1m\u001b[92m0.0029359180533647415\u001b[0m\t \u001b[1m\u001b[92m2.526957261120663\u001b[0m\t \u001b[1m\u001b[92m3.218045336647009\u001b[0m\n",
            "15 \t [-0.32717593  0.33960729]\t 0.3377103169842901\t 0.0029359180533647415\t 1.9138342063838476\t 2.8699426457851307\n",
            "16 \t [-0.18992435  0.15474659]\t 0.08396427363789905\t 0.0029359180533647415\t 3.0832113489842015\t 3.316528634246577\n",
            "17 \t [-0.26361465  0.25135285]\t 0.19584918780489494\t 0.0029359180533647415\t 2.3074465248201803\t 2.885379238969226\n",
            "18 \t [-0.05049582 -0.03697406]\t 0.005283989385042853\t 0.0029359180533647415\t 2.9861126449768354\t 3.3671140878840533\n",
            "19 \t [-0.21814098  0.18236325]\t 0.11409820036911308\t 0.0029359180533647415\t 3.2314863702855066\t 3.237867999046572\n",
            "20 \t [-0.11921367  0.04702215]\t 0.018634063146816836\t 0.0029359180533647415\t 2.403663971905347\t 2.9723694265862077\n"
          ]
        }
      ],
      "source": [
        "### EXACT GP EI GRADIENTS\n",
        "\n",
        "np.random.seed(run_num_15)\n",
        "surrogate_exact_15 = dGaussianProcess(cov_func, optimize=opt)\n",
        "\n",
        "exact_15 = dGPGO(surrogate_exact_15, Acquisition_grad(util), objfunc, param)\n",
        "exact_15.run(init_evals=n_init, max_iter=iters)\n"
      ]
    },
    {
      "cell_type": "code",
      "execution_count": 49,
      "metadata": {
        "id": "lu8ki9XIQPPN",
        "colab": {
          "base_uri": "https://localhost:8080/"
        },
        "outputId": "58785e70-86ee-4f9a-a844-10b999097391"
      },
      "outputs": [
        {
          "output_type": "stream",
          "name": "stdout",
          "text": [
            "Evaluation \t Proposed point \t  Current eval. \t  Best eval. \t        Exact EI: StdDev. x \t Approx EI: StdDev. x \n",
            "init\t [-2.83349935  0.23719262]\t 8.141239237549925\t 8.141239237549925\t    \t    \n",
            "init\t [ 0.51918292 -4.65303603]\t 43.571039504503474\t 8.141239237549925\t    \t    \n",
            "init\t [-1.42613673 -2.83565116]\t 18.11570093066862\t 8.141239237549925\t    \t    \n",
            "init\t [ 1.9325559  -3.44339021]\t 27.448644544199137\t 8.141239237549925\t    \t    \n",
            "init\t [-4.39987336  4.51595121]\t 60.146516261103784\t 8.141239237549925\t    \t    \n",
            "1  \t [5.12 5.12]\t 78.64320000000001\t 8.141239237549925\t 3.9072222393519773\t 4.045643184817515\n",
            "2  \t [5.12       0.06491765]\t 26.222828601531006\t 8.141239237549925\t 3.7221302792939115\t 3.661536897896313\n",
            "3  \t [0.38911302 3.73092189]\t 27.990965177956515\t 8.141239237549925\t 3.6673696223866847\t 3.992942812683613\n",
            "4  \t [-5.12 -5.12]\t 78.64320000000001\t 8.141239237549925\t 3.4207377343051837\t 3.6172628879717625\n",
            "\u001b[1m\u001b[92m5\u001b[0m\t \u001b[1m\u001b[92m[0.6187243  0.24028994]\u001b[0m\t \u001b[1m\u001b[92m0.4982982675357258\u001b[0m\t \u001b[1m\u001b[92m0.4982982675357258\u001b[0m\t \u001b[1m\u001b[92m2.309279954037143\u001b[0m\t \u001b[1m\u001b[92m3.0518585929174726\u001b[0m\n",
            "6  \t [ 5.12       -3.47090221]\t 50.3087243559504\t 0.4982982675357258\t 3.2515962017173434\t 3.4373619776345623\n",
            "7  \t [1.99916378 0.46840568]\t 4.435463593692191\t 0.4982982675357258\t 2.8727105646155593\t 2.885078042921723\n",
            "8  \t [-5.12       -1.40995294]\t 30.190334568250503\t 0.4982982675357258\t 2.6445665618446172\t 3.0272264486590963\n",
            "\u001b[1m\u001b[92m9\u001b[0m\t \u001b[1m\u001b[92m[-0.24637226 -0.03557869]\u001b[0m\t \u001b[1m\u001b[92m0.06323097429035071\u001b[0m\t \u001b[1m\u001b[92m0.06323097429035071\u001b[0m\t \u001b[1m\u001b[92m2.601475436895923\u001b[0m\t \u001b[1m\u001b[92m2.4761247119637746\u001b[0m\n",
            "10 \t [-0.24427133  0.29188555]\t 0.23006282995011043\t 0.06323097429035071\t 2.6315153165020724\t 3.357352489358953\n",
            "11 \t [3.39626938 2.28222127]\t 21.951713522104075\t 0.06323097429035071\t 2.2196818142021586\t 2.850565571700043\n",
            "12 \t [ 0.1446659  -0.48975615]\t 0.5006504023070322\t 0.06323097429035071\t 3.148231644310604\t 3.5746699983898496\n",
            "13 \t [-1.00883077  1.35233917]\t 4.675381962996031\t 0.06323097429035071\t 2.5969738504049267\t 2.283874845072575\n",
            "14 \t [ 0.29206994 -0.5688906 ]\t 0.7325778823937084\t 0.06323097429035071\t 2.1954632655048014\t 2.246789156553785\n",
            "15 \t [-0.2001087  -0.15332093]\t 0.087058106901643\t 0.06323097429035071\t 2.4617854899997673\t 2.873201745333836\n",
            "16 \t [-0.07661264 -0.26327051]\t 0.1444922190546166\t 0.06323097429035071\t 1.5945330594650167\t 2.234187651856811\n",
            "17 \t [-4.99549288  1.38005484]\t 28.764051856206684\t 0.06323097429035071\t 2.7682620057289795\t 3.144793779752958\n",
            "18 \t [ 0.07850207 -0.36653958]\t 0.27486510141122\t 0.06323097429035071\t 2.147036565455786\t 3.1039694642260436\n",
            "19 \t [-0.1707691  -0.20855745]\t 0.11615450544856869\t 0.06323097429035071\t 2.646647098869096\t 2.522331290427752\n",
            "20 \t [-0.10453564 -0.224246  ]\t 0.1115002338324519\t 0.06323097429035071\t 2.4602074855129406\t 2.907156513694608\n"
          ]
        }
      ],
      "source": [
        "### EXACT GP EI GRADIENTS\n",
        "\n",
        "np.random.seed(run_num_16)\n",
        "surrogate_exact_16 = dGaussianProcess(cov_func, optimize=opt)\n",
        "\n",
        "exact_16 = dGPGO(surrogate_exact_16, Acquisition_grad(util), objfunc, param)\n",
        "exact_16.run(init_evals=n_init, max_iter=iters)\n"
      ]
    },
    {
      "cell_type": "code",
      "execution_count": 50,
      "metadata": {
        "id": "yU2SflSsJTUs",
        "colab": {
          "base_uri": "https://localhost:8080/"
        },
        "outputId": "100dcbb9-9706-476c-9d6c-7dfa80432e64"
      },
      "outputs": [
        {
          "output_type": "stream",
          "name": "stdout",
          "text": [
            "Evaluation \t Proposed point \t  Current eval. \t  Best eval. \t        Exact EI: StdDev. x \t Approx EI: StdDev. x \n",
            "init\t [-2.10263037  0.31320838]\t 4.617253458637031\t 3.1817562258207746\t    \t    \n",
            "init\t [-3.15882714 -4.42470033]\t 49.134134969019556\t 3.1817562258207746\t    \t    \n",
            "init\t [2.93873111 1.60085526]\t 13.761615685279608\t 3.1817562258207746\t    \t    \n",
            "init\t [1.40821398 0.77417363]\t 3.1817562258207746\t 3.1817562258207746\t    \t    \n",
            "init\t [-4.71999574 -1.45598869]\t 26.518165900202685\t 3.1817562258207746\t    \t    \n",
            "1  \t [ 4.96008736 -4.44720822]\t 64.15778856025273\t 3.1817562258207746\t 3.208050149663079\t 4.394201464074636\n",
            "2  \t [-1.2588313  5.12     ]\t 54.01345625212898\t 3.1817562258207746\t 3.1678784472003283\t 3.4260369243846656\n",
            "3  \t [5.12 5.12]\t 78.64320000000001\t 3.1817562258207746\t 3.2680971849471803\t 3.3396349757067294\n",
            "4  \t [ 0.93262888 -3.01505698]\t 19.050933864892244\t 3.1817562258207746\t 3.4139266056535598\t 3.698846079531733\n",
            "5  \t [ 5.12     -0.601041]\t 26.936900568382985\t 3.1817562258207746\t 2.96113206871409\t 3.440528568205297\n",
            "6  \t [-4.96520041  2.67440151]\t 38.958062028018254\t 3.1817562258207746\t 2.713766756016474\t 3.0796971888272386\n",
            "7  \t [-0.36601278  1.98547685]\t 8.01820201677303\t 3.1817562258207746\t 2.4288461213365884\t 2.2077716057870607\n",
            "8  \t [1.85340362 4.80915417]\t 49.6910326567383\t 3.1817562258207746\t 3.193196714684516\t 3.2164682388593833\n",
            "9  \t [-1.64189752 -1.39109182]\t 6.566100387020761\t 3.1817562258207746\t 3.0359907323384943\t 3.0816906649240945\n",
            "\u001b[1m\u001b[92m10\u001b[0m\t \u001b[1m\u001b[92m[ 1.10553119 -0.49840164]\u001b[0m\t \u001b[1m\u001b[92m1.719007598117377\u001b[0m\t \u001b[1m\u001b[92m1.719007598117377\u001b[0m\t \u001b[1m\u001b[92m2.52942608710363\u001b[0m\t \u001b[1m\u001b[92m2.3209781846316684\u001b[0m\n",
            "11 \t [-0.55080066 -5.12      ]\t 52.732181370569116\t 1.719007598117377\t 3.366874094513891\t 3.1578122236030435\n",
            "\u001b[1m\u001b[92m12\u001b[0m\t \u001b[1m\u001b[92m[ 0.37101057 -0.31668939]\u001b[0m\t \u001b[1m\u001b[92m0.33823317468457426\u001b[0m\t \u001b[1m\u001b[92m0.33823317468457426\u001b[0m\t \u001b[1m\u001b[92m2.923915789400608\u001b[0m\t \u001b[1m\u001b[92m3.08629899363454\u001b[0m\n",
            "13 \t [ 2.67463837 -1.38742859]\t 11.003606593627111\t 0.33823317468457426\t 2.568172776701847\t 2.937732417964917\n",
            "\u001b[1m\u001b[92m14\u001b[0m\t \u001b[1m\u001b[92m[-0.11090479  0.0493021 ]\u001b[0m\t \u001b[1m\u001b[92m0.0171612680139871\u001b[0m\t \u001b[1m\u001b[92m0.0171612680139871\u001b[0m\t \u001b[1m\u001b[92m2.670125146361726\u001b[0m\t \u001b[1m\u001b[92m3.0959619532218148\u001b[0m\n",
            "15 \t [ 0.07993911 -0.12458111]\t 0.03743116869187688\t 0.0171612680139871\t 3.0664160861610865\t 2.9414846649365627\n",
            "16 \t [ 0.20559086 -0.24840896]\t 0.1656816236699902\t 0.0171612680139871\t 2.826724734660312\t 2.7352566715972912\n",
            "17 \t [ 0.14311817 -0.18637187]\t 0.08995175858775416\t 0.0171612680139871\t 2.3025754749953786\t 2.7925730881856583\n",
            "18 \t [ 0.07378679 -0.12191716]\t 0.03517207992036345\t 0.0171612680139871\t 2.819879801265613\t 3.4416600440249994\n",
            "19 \t [ 0.59828511 -0.63826659]\t 1.1727135484527893\t 0.0171612680139871\t 2.8791689210985663\t 2.4758581521064813\n",
            "20 \t [ 0.56935223 -0.54220549]\t 0.9121355526464849\t 0.0171612680139871\t 2.891098039670205\t 2.9894490846345048\n"
          ]
        }
      ],
      "source": [
        "### EXACT GP EI GRADIENTS\n",
        "\n",
        "np.random.seed(run_num_17)\n",
        "surrogate_exact_17 = dGaussianProcess(cov_func, optimize=opt)\n",
        "\n",
        "exact_17 = dGPGO(surrogate_exact_17, Acquisition_grad(util), objfunc, param)\n",
        "exact_17.run(init_evals=n_init, max_iter=iters)\n"
      ]
    },
    {
      "cell_type": "code",
      "execution_count": 51,
      "metadata": {
        "id": "eVEhyZ9BQS-1",
        "colab": {
          "base_uri": "https://localhost:8080/"
        },
        "outputId": "9e199315-8752-433d-aed9-fff0bdf64070"
      },
      "outputs": [
        {
          "output_type": "stream",
          "name": "stdout",
          "text": [
            "Evaluation \t Proposed point \t  Current eval. \t  Best eval. \t        Exact EI: StdDev. x \t Approx EI: StdDev. x \n",
            "init\t [1.53983224 0.05584255]\t 2.3773200933391867\t 2.3773200933391867\t    \t    \n",
            "init\t [ 3.87687906 -3.25795609]\t 36.25874706055664\t 2.3773200933391867\t    \t    \n",
            "init\t [3.60686662 2.56139557]\t 26.130981366974602\t 2.3773200933391867\t    \t    \n",
            "init\t [1.70088108 4.99604939]\t 52.81401545301259\t 2.3773200933391867\t    \t    \n",
            "init\t [-2.48864335 -4.83014733]\t 52.85399210258478\t 2.3773200933391867\t    \t    \n",
            "1  \t [-5.00718904  2.9174042 ]\t 42.09443666312248\t 2.3773200933391867\t 3.293945523757251\t 3.8829831198785225\n",
            "2  \t [-2.12753483 -0.3727672 ]\t 4.804315202971479\t 2.3773200933391867\t 3.2744759570198485\t 2.96615782466781\n",
            "3  \t [-1.38387445  2.93403287]\t 19.132206278720762\t 2.3773200933391867\t 4.017641919143601\t 3.687226069783995\n",
            "4  \t [-5.12       -1.70543439]\t 32.03141292602187\t 2.3773200933391867\t 3.825947062417855\t 3.7457382188921473\n",
            "5  \t [ 0.23860927 -2.31579522]\t 10.782749385772885\t 2.3773200933391867\t 3.7451600684949993\t 3.4179850444473647\n",
            "6  \t [ 0.96073993 -5.12      ]\t 53.35182120707265\t 2.3773200933391867\t 3.5843228901281137\t 3.8130619240096326\n",
            "7  \t [5.12 5.12]\t 78.64320000000001\t 2.3773200933391867\t 3.4694431036882163\t 3.5373854831050973\n",
            "8  \t [-5.12 -5.12]\t 78.64320000000001\t 2.3773200933391867\t 2.6459111831865627\t 3.5354625714275585\n",
            "9  \t [ 4.93492927 -0.01104347]\t 24.35377079371238\t 2.3773200933391867\t 2.8387850285472376\t 3.0491225699631133\n",
            "10 \t [-2.01897803  5.12      ]\t 56.5050722862776\t 2.3773200933391867\t 2.8724911890868907\t 3.0756455011738426\n",
            "\u001b[1m\u001b[92m11\u001b[0m\t \u001b[1m\u001b[92m[0.26862289 0.6895097 ]\u001b[0m\t \u001b[1m\u001b[92m1.0230054991383686\u001b[0m\t \u001b[1m\u001b[92m1.0230054991383686\u001b[0m\t \u001b[1m\u001b[92m2.878240194619458\u001b[0m\t \u001b[1m\u001b[92m2.8590421766952496\u001b[0m\n",
            "12 \t [0.87393503 1.57232604]\t 5.708180776453486\t 1.0230054991383686\t 2.309698322100618\t 2.765980382178689\n",
            "\u001b[1m\u001b[92m13\u001b[0m\t \u001b[1m\u001b[92m[-0.36414375  0.08176676]\u001b[0m\t \u001b[1m\u001b[92m0.14597227515794456\u001b[0m\t \u001b[1m\u001b[92m0.14597227515794456\u001b[0m\t \u001b[1m\u001b[92m2.4443062222025285\u001b[0m\t \u001b[1m\u001b[92m2.662232677879911\u001b[0m\n",
            "\u001b[1m\u001b[92m14\u001b[0m\t \u001b[1m\u001b[92m[-0.22984581 -0.02198063]\u001b[0m\t \u001b[1m\u001b[92m0.05379539509140893\u001b[0m\t \u001b[1m\u001b[92m0.05379539509140893\u001b[0m\t \u001b[1m\u001b[92m2.074244615862593\u001b[0m\t \u001b[1m\u001b[92m2.4891988880630183\u001b[0m\n",
            "15 \t [ 0.13780884 -0.21518649]\t 0.11160172808693575\t 0.05379539509140893\t 2.439718120939133\t 2.592543754857167\n",
            "16 \t [-0.28544896  0.02583846]\t 0.08281636260532227\t 0.05379539509140893\t 1.8795469914740721\t 2.484288619615866\n",
            "17 \t [-0.43366094  0.16125463]\t 0.24006792596020743\t 0.05379539509140893\t 2.6814768637728976\t 3.433993298653633\n",
            "18 \t [ 2.34325565 -1.0151356 ]\t 7.551847622475224\t 0.05379539509140893\t 2.7077758820854454\t 3.32779755934309\n",
            "\u001b[1m\u001b[92m19\u001b[0m\t \u001b[1m\u001b[92m[-0.16609278 -0.02582454]\u001b[0m\t \u001b[1m\u001b[92m0.028920625980450126\u001b[0m\t \u001b[1m\u001b[92m0.028920625980450126\u001b[0m\t \u001b[1m\u001b[92m2.5240633272522923\u001b[0m\t \u001b[1m\u001b[92m2.6987235583323383\u001b[0m\n",
            "\u001b[1m\u001b[92m20\u001b[0m\t \u001b[1m\u001b[92m[-0.03523691 -0.10354194]\u001b[0m\t \u001b[1m\u001b[92m0.02268350711084143\u001b[0m\t \u001b[1m\u001b[92m0.02268350711084143\u001b[0m\t \u001b[1m\u001b[92m2.0780329534305415\u001b[0m\t \u001b[1m\u001b[92m2.3461957664550126\u001b[0m\n"
          ]
        }
      ],
      "source": [
        "### EXACT GP EI GRADIENTS\n",
        "\n",
        "np.random.seed(run_num_18)\n",
        "surrogate_exact_18 = dGaussianProcess(cov_func, optimize=opt)\n",
        "\n",
        "exact_18 = dGPGO(surrogate_exact_18, Acquisition_grad(util), objfunc, param)\n",
        "exact_18.run(init_evals=n_init, max_iter=iters)\n"
      ]
    },
    {
      "cell_type": "code",
      "execution_count": 52,
      "metadata": {
        "id": "B6gTz1ojQUxn",
        "colab": {
          "base_uri": "https://localhost:8080/"
        },
        "outputId": "b73891b3-b2aa-4b38-c71e-a54c47f08b12"
      },
      "outputs": [
        {
          "output_type": "stream",
          "name": "stdout",
          "text": [
            "Evaluation \t Proposed point \t  Current eval. \t  Best eval. \t        Exact EI: StdDev. x \t Approx EI: StdDev. x \n",
            "init\t [-4.12125592  2.6751971 ]\t 31.298109376682206\t 22.814458446152262\t    \t    \n",
            "init\t [-2.59135515 -3.70553152]\t 34.17704923320956\t 22.814458446152262\t    \t    \n",
            "init\t [-1.72598719 -4.27008445]\t 39.4462742815243\t 22.814458446152262\t    \t    \n",
            "init\t [1.76104531 3.13952049]\t 22.814458446152262\t 22.814458446152262\t    \t    \n",
            "init\t [4.9432772  1.38916592]\t 28.295553455390152\t 22.814458446152262\t    \t    \n",
            "1  \t [ 4.30065239 -4.25701793]\t 54.740014213612724\t 22.814458446152262\t 3.4583984911850365\t 4.611085550384882\n",
            "\u001b[1m\u001b[92m2\u001b[0m\t \u001b[1m\u001b[92m[-0.88068124  0.08134806]\u001b[0m\t \u001b[1m\u001b[92m0.7888344545206423\u001b[0m\t \u001b[1m\u001b[92m0.7888344545206423\u001b[0m\t \u001b[1m\u001b[92m4.065685716768643\u001b[0m\t \u001b[1m\u001b[92m3.836029767907779\u001b[0m\n",
            "3  \t [5.12 5.12]\t 78.64320000000001\t 0.7888344545206423\t 4.198613791586308\t 4.042060086077244\n",
            "4  \t [ 1.559397   -1.10272209]\t 4.863711017852858\t 0.7888344545206423\t 2.9587833480117114\t 3.3827932131975884\n",
            "5  \t [-1.05286586  4.39036818]\t 39.659192046325145\t 0.7888344545206423\t 2.6705613865518605\t 3.211047253448463\n",
            "6  \t [-5.12       -1.97818563]\t 34.040836792995165\t 0.7888344545206423\t 3.424774674652311\t 3.5629639058023006\n",
            "7  \t [-5.12 -5.12]\t 78.64320000000001\t 0.7888344545206423\t 3.353168945529623\t 3.358132179935028\n",
            "8  \t [-2.34112977 -0.11172627]\t 5.505854105238006\t 0.7888344545206423\t 2.149466582759511\t 2.827904741150671\n",
            "9  \t [-0.22415175  0.92160942]\t 1.7489718518536188\t 0.7888344545206423\t 2.1456586706144627\t 2.493989520481588\n",
            "10 \t [ 1.16021522 -3.4794299 ]\t 25.558964248752595\t 0.7888344545206423\t 2.908753690401024\t 3.0822039557337697\n",
            "11 \t [ 3.96449873 -1.21717069]\t 18.680259141085912\t 0.7888344545206423\t 2.1133023576310594\t 2.6136341313116738\n",
            "12 \t [-0.44734288 -1.01486271]\t 2.260008276013588\t 0.7888344545206423\t 2.4629660376144358\t 3.173611700350452\n",
            "13 \t [1.12886094 0.49681258]\t 1.7679725118737006\t 0.7888344545206423\t 2.412534490240999\t 3.2378575579065725\n",
            "14 \t [-1.56186633  1.6504023 ]\t 7.887081934156257\t 0.7888344545206423\t 2.5260323726784617\t 3.010763771010667\n",
            "\u001b[1m\u001b[92m15\u001b[0m\t \u001b[1m\u001b[92m[0.0506101  0.12591633]\u001b[0m\t \u001b[1m\u001b[92m0.03427122855990575\u001b[0m\t \u001b[1m\u001b[92m0.03427122855990575\u001b[0m\t \u001b[1m\u001b[92m2.578699993870409\u001b[0m\t \u001b[1m\u001b[92m2.784944732684831\u001b[0m\n",
            "16 \t [0.00586283 0.18233922]\t 0.06652955396902901\t 0.03427122855990575\t 2.273014868979219\t 2.474694201052312\n",
            "17 \t [0.04534953 0.13033149]\t 0.03602917638985434\t 0.03427122855990575\t 2.3399305431816475\t 3.0606554562296022\n",
            "18 \t [-0.19122447  1.06555421]\t 2.307378327093887\t 0.03427122855990575\t 2.835604885626734\t 2.969128518452574\n",
            "\u001b[1m\u001b[92m19\u001b[0m\t \u001b[1m\u001b[92m[ 0.05517147 -0.06965626]\u001b[0m\t \u001b[1m\u001b[92m0.012747880847603114\u001b[0m\t \u001b[1m\u001b[92m0.012747880847603114\u001b[0m\t \u001b[1m\u001b[92m2.122506810453009\u001b[0m\t \u001b[1m\u001b[92m2.6276501549733884\u001b[0m\n",
            "20 \t [ 0.33581803 -0.30092568]\t 0.2938862739425694\t 0.012747880847603114\t 2.7765209503227135\t 3.313039861185233\n"
          ]
        }
      ],
      "source": [
        "### EXACT GP EI GRADIENTS\n",
        "\n",
        "np.random.seed(run_num_19)\n",
        "surrogate_exact_19 = dGaussianProcess(cov_func, optimize=opt)\n",
        "\n",
        "exact_19 = dGPGO(surrogate_exact_19, Acquisition_grad(util), objfunc, param)\n",
        "exact_19.run(init_evals=n_init, max_iter=iters)\n"
      ]
    },
    {
      "cell_type": "code",
      "execution_count": 53,
      "metadata": {
        "id": "aw3xvSryIwDi",
        "colab": {
          "base_uri": "https://localhost:8080/"
        },
        "outputId": "2371e933-146d-4d00-ac2b-cae72a056e27"
      },
      "outputs": [
        {
          "output_type": "stream",
          "name": "stdout",
          "text": [
            "Evaluation \t Proposed point \t  Current eval. \t  Best eval. \t        Exact EI: StdDev. x \t Approx EI: StdDev. x \n",
            "init\t [0.9024594  4.07258857]\t 33.98638835688907\t 1.615187047660523\t    \t    \n",
            "init\t [4.00927467 3.23417577]\t 36.994069169927414\t 1.615187047660523\t    \t    \n",
            "init\t [-4.75249064  1.96359764]\t 30.297598676217497\t 1.615187047660523\t    \t    \n",
            "init\t [-1.24230715  0.18955208]\t 1.615187047660523\t 1.615187047660523\t    \t    \n",
            "init\t [ 1.61742301 -3.13497377]\t 22.27217824772924\t 1.615187047660523\t    \t    \n",
            "1  \t [-5.12 -5.12]\t 78.64320000000001\t 1.615187047660523\t 3.672583466482644\t 3.5090539996326644\n",
            "2  \t [ 5.12       -1.00317263]\t 28.227110656820955\t 1.615187047660523\t 3.314467264588547\t 3.592812185444764\n",
            "3  \t [-2.93716141 -1.85326175]\t 15.496075410665163\t 1.615187047660523\t 2.717517928388737\t 3.323250705461711\n",
            "4  \t [-1.3349965 -5.12     ]\t 54.21101564714086\t 1.615187047660523\t 2.739405134738428\t 4.041114520134198\n",
            "5  \t [-2.83493296  5.12      ]\t 60.46564489842326\t 1.615187047660523\t 2.837982399808436\t 3.672619277448106\n",
            "6  \t [ 4.53588891 -4.59026181]\t 62.71529514620701\t 1.615187047660523\t 3.149043467006525\t 4.065573485993986\n",
            "7  \t [1.90045487 0.15021014]\t 3.656854880665523\t 1.615187047660523\t 3.5508009512440815\t 3.553014500201053\n",
            "8  \t [-1.39859989  1.79730102]\t 8.416663574314438\t 1.615187047660523\t 3.3947114718977405\t 3.3366096230612765\n",
            "\u001b[1m\u001b[92m9\u001b[0m\t \u001b[1m\u001b[92m[-0.27472116 -0.67825295]\u001b[0m\t \u001b[1m\u001b[92m0.995525850508258\u001b[0m\t \u001b[1m\u001b[92m0.995525850508258\u001b[0m\t \u001b[1m\u001b[92m2.994813382341955\u001b[0m\t \u001b[1m\u001b[92m3.2725847167892446\u001b[0m\n",
            "10 \t [-5.12       -1.43402823]\t 30.32727391166218\t 0.995525850508258\t 2.992990470792103\t 3.0450441205623506\n",
            "11 \t [-0.31270171 -0.84493336]\t 1.525607134817869\t 0.995525850508258\t 3.0829746212467932\t 2.912725159964271\n",
            "12 \t [0.45103075 1.18744747]\t 3.0234917237785757\t 0.995525850508258\t 3.1288846658110216\t 2.845469601797457\n",
            "13 \t [-0.51088384 -1.46340012]\t 4.544082133187736\t 0.995525850508258\t 3.1385628041087488\t 3.6251668152664918\n",
            "\u001b[1m\u001b[92m14\u001b[0m\t \u001b[1m\u001b[92m[ 0.36925019 -0.27479162]\u001b[0m\t \u001b[1m\u001b[92m0.2873665701326499\u001b[0m\t \u001b[1m\u001b[92m0.2873665701326499\u001b[0m\t \u001b[1m\u001b[92m3.036601815591083\u001b[0m\t \u001b[1m\u001b[92m2.1958015698214353\u001b[0m\n",
            "15 \t [ 0.64047233 -0.43558408]\t 0.7896717882779619\t 0.2873665701326499\t 2.5753223679568977\t 2.934229619547301\n",
            "16 \t [ 0.54367506 -0.3667981 ]\t 0.5646642534892198\t 0.2873665701326499\t 3.0724952320248224\t 3.059110373696208\n",
            "\u001b[1m\u001b[92m17\u001b[0m\t \u001b[1m\u001b[92m[-0.11008579  0.03359638]\u001b[0m\t \u001b[1m\u001b[92m0.014376314021533205\u001b[0m\t \u001b[1m\u001b[92m0.014376314021533205\u001b[0m\t \u001b[1m\u001b[92m3.127094762041791\u001b[0m\t \u001b[1m\u001b[92m2.6996438683782937\u001b[0m\n",
            "18 \t [ 0.3157157  -0.19368262]\t 0.1747023139917717\t 0.014376314021533205\t 3.469021033711194\t 3.6077870839818478\n",
            "\u001b[1m\u001b[92m19\u001b[0m\t \u001b[1m\u001b[92m[-0.0726812   0.03325822]\u001b[0m\t \u001b[1m\u001b[92m0.007494774521327091\u001b[0m\t \u001b[1m\u001b[92m0.007494774521327091\u001b[0m\t \u001b[1m\u001b[92m3.6107536972336076\u001b[0m\t \u001b[1m\u001b[92m3.182635789435095\u001b[0m\n",
            "20 \t [ 0.12145353 -0.0619975 ]\t 0.02243834121995325\t 0.007494774521327091\t 3.076382598755716\t 2.7717596508173807\n"
          ]
        }
      ],
      "source": [
        "### EXACT GP EI GRADIENTS\n",
        "\n",
        "np.random.seed(run_num_20)\n",
        "surrogate_exact_20 = dGaussianProcess(cov_func, optimize=opt)\n",
        "\n",
        "exact_20 = dGPGO(surrogate_exact_20, Acquisition_grad(util), objfunc, param)\n",
        "exact_20.run(init_evals=n_init, max_iter=iters)\n"
      ]
    },
    {
      "cell_type": "code",
      "execution_count": 54,
      "metadata": {
        "id": "5c8szjivRPme",
        "colab": {
          "base_uri": "https://localhost:8080/"
        },
        "outputId": "4e9770f5-401c-4f50-b26f-3aa66da5dbdc"
      },
      "outputs": [
        {
          "output_type": "execute_result",
          "data": {
            "text/plain": [
              "764.5032947063446"
            ]
          },
          "metadata": {},
          "execution_count": 54
        }
      ],
      "source": [
        "end_exact = time.time()\n",
        "end_exact\n",
        "\n",
        "time_exact = end_exact - start_exact\n",
        "time_exact\n"
      ]
    },
    {
      "cell_type": "code",
      "execution_count": 55,
      "metadata": {
        "id": "f6gCKnp6RR8c",
        "colab": {
          "base_uri": "https://localhost:8080/"
        },
        "outputId": "6151f8bd-b200-4c3e-80d9-f507b0468648"
      },
      "outputs": [
        {
          "output_type": "execute_result",
          "data": {
            "text/plain": [
              "(-2.3204293309924515, -4.311818687097402)"
            ]
          },
          "metadata": {},
          "execution_count": 55
        }
      ],
      "source": [
        "### Simple regret minimization: run number = 1\n",
        "\n",
        "approx_output_1 = np.append(np.min(-approx_1.GP.y[0:n_init]),-approx_1.GP.y[n_init:(n_init+iters)]) \n",
        "exact_output_1 = np.append(np.min(-exact_1.GP.y[0:n_init]),-exact_1.GP.y[n_init:(n_init+iters)]) \n",
        "\n",
        "regret_approx_1 = np.log(approx_output_1 - y_global_orig)\n",
        "regret_exact_1 = np.log(exact_output_1 - y_global_orig)\n",
        "\n",
        "simple_regret_approx_1 = min_max_array(regret_approx_1)\n",
        "simple_regret_exact_1 = min_max_array(regret_exact_1)\n",
        "\n",
        "min_simple_regret_approx_1 = min(simple_regret_approx_1)\n",
        "min_simple_regret_exact_1 = min(simple_regret_exact_1)\n",
        "\n",
        "min_simple_regret_approx_1, min_simple_regret_exact_1\n"
      ]
    },
    {
      "cell_type": "code",
      "execution_count": 56,
      "metadata": {
        "id": "94yBw5tqQxfk",
        "colab": {
          "base_uri": "https://localhost:8080/"
        },
        "outputId": "aa3d4f5c-0001-4d1a-ac5a-e57d626efa48"
      },
      "outputs": [
        {
          "output_type": "execute_result",
          "data": {
            "text/plain": [
              "(-5.4136858816754865, -4.458624699374222)"
            ]
          },
          "metadata": {},
          "execution_count": 56
        }
      ],
      "source": [
        "### Simple regret minimization: run number = 2\n",
        "\n",
        "approx_output_2 = np.append(np.min(-approx_2.GP.y[0:n_init]),-approx_2.GP.y[n_init:(n_init+iters)]) \n",
        "exact_output_2 = np.append(np.min(-exact_2.GP.y[0:n_init]),-exact_2.GP.y[n_init:(n_init+iters)]) \n",
        "\n",
        "regret_approx_2 = np.log(approx_output_2 - y_global_orig)\n",
        "regret_exact_2 = np.log(exact_output_2 - y_global_orig)\n",
        "\n",
        "simple_regret_approx_2 = min_max_array(regret_approx_2)\n",
        "simple_regret_exact_2 = min_max_array(regret_exact_2)\n",
        "\n",
        "min_simple_regret_approx_2 = min(simple_regret_approx_2)\n",
        "min_simple_regret_exact_2 = min(simple_regret_exact_2)\n",
        "\n",
        "min_simple_regret_approx_2, min_simple_regret_exact_2\n"
      ]
    },
    {
      "cell_type": "code",
      "execution_count": 57,
      "metadata": {
        "id": "Bu6SBWALQxfl",
        "colab": {
          "base_uri": "https://localhost:8080/"
        },
        "outputId": "2e18aa46-b2a7-4bd2-fda1-2a5eb234696b"
      },
      "outputs": [
        {
          "output_type": "execute_result",
          "data": {
            "text/plain": [
              "(-5.565668596644058, -2.5124550199947824)"
            ]
          },
          "metadata": {},
          "execution_count": 57
        }
      ],
      "source": [
        "### Simple regret minimization: run number = 3\n",
        "\n",
        "approx_output_3 = np.append(np.min(-approx_3.GP.y[0:n_init]),-approx_3.GP.y[n_init:(n_init+iters)]) \n",
        "exact_output_3 = np.append(np.min(-exact_3.GP.y[0:n_init]),-exact_3.GP.y[n_init:(n_init+iters)]) \n",
        "\n",
        "regret_approx_3 = np.log(approx_output_3 - y_global_orig)\n",
        "regret_exact_3 = np.log(exact_output_3 - y_global_orig)\n",
        "\n",
        "simple_regret_approx_3 = min_max_array(regret_approx_3)\n",
        "simple_regret_exact_3 = min_max_array(regret_exact_3)\n",
        "\n",
        "min_simple_regret_approx_3 = min(simple_regret_approx_3)\n",
        "min_simple_regret_exact_3 = min(simple_regret_exact_3)\n",
        "\n",
        "min_simple_regret_approx_3, min_simple_regret_exact_3"
      ]
    },
    {
      "cell_type": "code",
      "execution_count": 58,
      "metadata": {
        "id": "AZm0jgxkQxfm",
        "colab": {
          "base_uri": "https://localhost:8080/"
        },
        "outputId": "378d437e-3cde-4c79-97b3-88a7fcde3d4c"
      },
      "outputs": [
        {
          "output_type": "execute_result",
          "data": {
            "text/plain": [
              "(-2.839283653226366, -2.844076236232718)"
            ]
          },
          "metadata": {},
          "execution_count": 58
        }
      ],
      "source": [
        "### Simple regret minimization: run number = 4\n",
        "\n",
        "approx_output_4 = np.append(np.min(-approx_4.GP.y[0:n_init]),-approx_4.GP.y[n_init:(n_init+iters)]) \n",
        "exact_output_4 = np.append(np.min(-exact_4.GP.y[0:n_init]),-exact_4.GP.y[n_init:(n_init+iters)]) \n",
        "\n",
        "regret_approx_4 = np.log(approx_output_4 - y_global_orig)\n",
        "regret_exact_4 = np.log(exact_output_4 - y_global_orig)\n",
        "\n",
        "simple_regret_approx_4 = min_max_array(regret_approx_4)\n",
        "simple_regret_exact_4 = min_max_array(regret_exact_4)\n",
        "\n",
        "min_simple_regret_approx_4 = min(simple_regret_approx_4)\n",
        "min_simple_regret_exact_4 = min(simple_regret_exact_4)\n",
        "\n",
        "min_simple_regret_approx_4, min_simple_regret_exact_4"
      ]
    },
    {
      "cell_type": "code",
      "execution_count": 59,
      "metadata": {
        "id": "NONPm8JIQxfn",
        "colab": {
          "base_uri": "https://localhost:8080/"
        },
        "outputId": "6e592405-1300-4bf9-c0d1-7d1b30859873"
      },
      "outputs": [
        {
          "output_type": "execute_result",
          "data": {
            "text/plain": [
              "(-1.2903462954432166, -1.0386086057727357)"
            ]
          },
          "metadata": {},
          "execution_count": 59
        }
      ],
      "source": [
        "### Simple regret minimization: run number = 5\n",
        "\n",
        "approx_output_5 = np.append(np.min(-approx_5.GP.y[0:n_init]),-approx_5.GP.y[n_init:(n_init+iters)]) \n",
        "exact_output_5 = np.append(np.min(-exact_5.GP.y[0:n_init]),-exact_5.GP.y[n_init:(n_init+iters)]) \n",
        "\n",
        "regret_approx_5 = np.log(approx_output_5 - y_global_orig)\n",
        "regret_exact_5 = np.log(exact_output_5 - y_global_orig)\n",
        "\n",
        "simple_regret_approx_5 = min_max_array(regret_approx_5)\n",
        "simple_regret_exact_5 = min_max_array(regret_exact_5)\n",
        "\n",
        "min_simple_regret_approx_5 = min(simple_regret_approx_5)\n",
        "min_simple_regret_exact_5 = min(simple_regret_exact_5)\n",
        "\n",
        "min_simple_regret_approx_5, min_simple_regret_exact_5"
      ]
    },
    {
      "cell_type": "code",
      "execution_count": 60,
      "metadata": {
        "id": "CJv3lPuSQxfp",
        "colab": {
          "base_uri": "https://localhost:8080/"
        },
        "outputId": "eeb6e9c4-87be-4621-8135-968c8d5c6ce0"
      },
      "outputs": [
        {
          "output_type": "execute_result",
          "data": {
            "text/plain": [
              "(-2.1175874301475215, -3.3742327064741664)"
            ]
          },
          "metadata": {},
          "execution_count": 60
        }
      ],
      "source": [
        "### Simple regret minimization: run number = 6\n",
        "\n",
        "approx_output_6 = np.append(np.min(-approx_6.GP.y[0:n_init]),-approx_6.GP.y[n_init:(n_init+iters)]) \n",
        "exact_output_6 = np.append(np.min(-exact_6.GP.y[0:n_init]),-exact_6.GP.y[n_init:(n_init+iters)]) \n",
        "\n",
        "regret_approx_6 = np.log(approx_output_6 - y_global_orig)\n",
        "regret_exact_6 = np.log(exact_output_6 - y_global_orig)\n",
        "\n",
        "simple_regret_approx_6 = min_max_array(regret_approx_6)\n",
        "simple_regret_exact_6 = min_max_array(regret_exact_6)\n",
        "\n",
        "min_simple_regret_approx_6 = min(simple_regret_approx_6)\n",
        "min_simple_regret_exact_6 = min(simple_regret_exact_6)\n",
        "\n",
        "min_simple_regret_approx_6, min_simple_regret_exact_6"
      ]
    },
    {
      "cell_type": "code",
      "execution_count": 61,
      "metadata": {
        "id": "quR2ZyApQxfq",
        "colab": {
          "base_uri": "https://localhost:8080/"
        },
        "outputId": "02159452-df0c-43fb-e01e-4273e6270ec1"
      },
      "outputs": [
        {
          "output_type": "execute_result",
          "data": {
            "text/plain": [
              "(-3.506916024995484, -2.99659094141645)"
            ]
          },
          "metadata": {},
          "execution_count": 61
        }
      ],
      "source": [
        "### Simple regret minimization: run number = 7\n",
        "\n",
        "approx_output_7 = np.append(np.min(-approx_7.GP.y[0:n_init]),-approx_7.GP.y[n_init:(n_init+iters)]) \n",
        "exact_output_7 = np.append(np.min(-exact_7.GP.y[0:n_init]),-exact_7.GP.y[n_init:(n_init+iters)]) \n",
        "\n",
        "regret_approx_7 = np.log(approx_output_7 - y_global_orig)\n",
        "regret_exact_7 = np.log(exact_output_7 - y_global_orig)\n",
        "\n",
        "simple_regret_approx_7 = min_max_array(regret_approx_7)\n",
        "simple_regret_exact_7 = min_max_array(regret_exact_7)\n",
        "\n",
        "min_simple_regret_approx_7 = min(simple_regret_approx_7)\n",
        "min_simple_regret_exact_7 = min(simple_regret_exact_7)\n",
        "\n",
        "min_simple_regret_approx_7, min_simple_regret_exact_7"
      ]
    },
    {
      "cell_type": "code",
      "execution_count": 62,
      "metadata": {
        "id": "99wY5nK6Qxfr",
        "colab": {
          "base_uri": "https://localhost:8080/"
        },
        "outputId": "6c8f01ce-bd40-40b8-e7b5-8305cd04d7ba"
      },
      "outputs": [
        {
          "output_type": "execute_result",
          "data": {
            "text/plain": [
              "(-1.88498967264663, -5.797968101811946)"
            ]
          },
          "metadata": {},
          "execution_count": 62
        }
      ],
      "source": [
        "### Simple regret minimization: run number = 8\n",
        "\n",
        "approx_output_8 = np.append(np.min(-approx_8.GP.y[0:n_init]),-approx_8.GP.y[n_init:(n_init+iters)]) \n",
        "exact_output_8 = np.append(np.min(-exact_8.GP.y[0:n_init]),-exact_8.GP.y[n_init:(n_init+iters)]) \n",
        "\n",
        "regret_approx_8 = np.log(approx_output_8 - y_global_orig)\n",
        "regret_exact_8 = np.log(exact_output_8 - y_global_orig)\n",
        "\n",
        "simple_regret_approx_8 = min_max_array(regret_approx_8)\n",
        "simple_regret_exact_8 = min_max_array(regret_exact_8)\n",
        "\n",
        "min_simple_regret_approx_8 = min(simple_regret_approx_8)\n",
        "min_simple_regret_exact_8 = min(simple_regret_exact_8)\n",
        "\n",
        "min_simple_regret_approx_8, min_simple_regret_exact_8"
      ]
    },
    {
      "cell_type": "code",
      "execution_count": 63,
      "metadata": {
        "id": "qt0P5t9qQxfs",
        "colab": {
          "base_uri": "https://localhost:8080/"
        },
        "outputId": "03d43110-3111-4051-c0d3-ecd64ea95721"
      },
      "outputs": [
        {
          "output_type": "execute_result",
          "data": {
            "text/plain": [
              "(-1.997177641731847, -1.5755189037502568)"
            ]
          },
          "metadata": {},
          "execution_count": 63
        }
      ],
      "source": [
        "### Simple regret minimization: run number = 9\n",
        "\n",
        "approx_output_9 = np.append(np.min(-approx_9.GP.y[0:n_init]),-approx_9.GP.y[n_init:(n_init+iters)]) \n",
        "exact_output_9 = np.append(np.min(-exact_9.GP.y[0:n_init]),-exact_9.GP.y[n_init:(n_init+iters)]) \n",
        "\n",
        "regret_approx_9 = np.log(approx_output_9 - y_global_orig)\n",
        "regret_exact_9 = np.log(exact_output_9 - y_global_orig)\n",
        "\n",
        "simple_regret_approx_9 = min_max_array(regret_approx_9)\n",
        "simple_regret_exact_9 = min_max_array(regret_exact_9)\n",
        "\n",
        "min_simple_regret_approx_9 = min(simple_regret_approx_9)\n",
        "min_simple_regret_exact_9 = min(simple_regret_exact_9)\n",
        "\n",
        "min_simple_regret_approx_9, min_simple_regret_exact_9"
      ]
    },
    {
      "cell_type": "code",
      "execution_count": 64,
      "metadata": {
        "id": "vx8to9stQxft",
        "colab": {
          "base_uri": "https://localhost:8080/"
        },
        "outputId": "af108b36-cad1-4957-bd54-9758ade61e97"
      },
      "outputs": [
        {
          "output_type": "execute_result",
          "data": {
            "text/plain": [
              "(-6.069340910532519, -4.973073166527979)"
            ]
          },
          "metadata": {},
          "execution_count": 64
        }
      ],
      "source": [
        "### Simple regret minimization: run number = 10\n",
        "\n",
        "approx_output_10 = np.append(np.min(-approx_10.GP.y[0:n_init]),-approx_10.GP.y[n_init:(n_init+iters)]) \n",
        "exact_output_10 = np.append(np.min(-exact_10.GP.y[0:n_init]),-exact_10.GP.y[n_init:(n_init+iters)]) \n",
        "\n",
        "regret_approx_10 = np.log(approx_output_10 - y_global_orig)\n",
        "regret_exact_10 = np.log(exact_output_10 - y_global_orig)\n",
        "\n",
        "simple_regret_approx_10 = min_max_array(regret_approx_10)\n",
        "simple_regret_exact_10 = min_max_array(regret_exact_10)\n",
        "\n",
        "min_simple_regret_approx_10 = min(simple_regret_approx_10)\n",
        "min_simple_regret_exact_10 = min(simple_regret_exact_10)\n",
        "\n",
        "min_simple_regret_approx_10, min_simple_regret_exact_10"
      ]
    },
    {
      "cell_type": "code",
      "execution_count": 65,
      "metadata": {
        "id": "d-FGzWyHQxfu",
        "colab": {
          "base_uri": "https://localhost:8080/"
        },
        "outputId": "da1160f2-4588-4466-d1a8-19d88391359c"
      },
      "outputs": [
        {
          "output_type": "execute_result",
          "data": {
            "text/plain": [
              "(-5.387272351805094, -3.122227082608447)"
            ]
          },
          "metadata": {},
          "execution_count": 65
        }
      ],
      "source": [
        "### Simple regret minimization: run number = 11\n",
        "\n",
        "approx_output_11 = np.append(np.min(-approx_11.GP.y[0:n_init]),-approx_11.GP.y[n_init:(n_init+iters)]) \n",
        "exact_output_11 = np.append(np.min(-exact_11.GP.y[0:n_init]),-exact_11.GP.y[n_init:(n_init+iters)]) \n",
        "\n",
        "regret_approx_11 = np.log(approx_output_11 - y_global_orig)\n",
        "regret_exact_11 = np.log(exact_output_11 - y_global_orig)\n",
        "\n",
        "simple_regret_approx_11 = min_max_array(regret_approx_11)\n",
        "simple_regret_exact_11 = min_max_array(regret_exact_11)\n",
        "\n",
        "min_simple_regret_approx_11 = min(simple_regret_approx_11)\n",
        "min_simple_regret_exact_11 = min(simple_regret_exact_11)\n",
        "\n",
        "min_simple_regret_approx_11, min_simple_regret_exact_11"
      ]
    },
    {
      "cell_type": "code",
      "execution_count": 66,
      "metadata": {
        "id": "SvtsssyjQxfv",
        "colab": {
          "base_uri": "https://localhost:8080/"
        },
        "outputId": "3b0ce512-02a5-4d94-d888-3c7588f1aae9"
      },
      "outputs": [
        {
          "output_type": "execute_result",
          "data": {
            "text/plain": [
              "(-1.3398666976797362, -4.078203423396232)"
            ]
          },
          "metadata": {},
          "execution_count": 66
        }
      ],
      "source": [
        "### Simple regret minimization: run number = 12\n",
        "\n",
        "approx_output_12 = np.append(np.min(-approx_12.GP.y[0:n_init]),-approx_12.GP.y[n_init:(n_init+iters)]) \n",
        "exact_output_12 = np.append(np.min(-exact_12.GP.y[0:n_init]),-exact_12.GP.y[n_init:(n_init+iters)]) \n",
        "\n",
        "regret_approx_12 = np.log(approx_output_12 - y_global_orig)\n",
        "regret_exact_12 = np.log(exact_output_12 - y_global_orig)\n",
        "\n",
        "simple_regret_approx_12 = min_max_array(regret_approx_12)\n",
        "simple_regret_exact_12 = min_max_array(regret_exact_12)\n",
        "\n",
        "min_simple_regret_approx_12 = min(simple_regret_approx_12)\n",
        "min_simple_regret_exact_12 = min(simple_regret_exact_12)\n",
        "\n",
        "min_simple_regret_approx_12, min_simple_regret_exact_12"
      ]
    },
    {
      "cell_type": "code",
      "execution_count": 67,
      "metadata": {
        "id": "K6OiGcHkQxfw",
        "colab": {
          "base_uri": "https://localhost:8080/"
        },
        "outputId": "7e43ba50-5bd1-4e1e-a5dd-07947ee57d6f"
      },
      "outputs": [
        {
          "output_type": "execute_result",
          "data": {
            "text/plain": [
              "(-3.2116369231212647, -3.7867447928341074)"
            ]
          },
          "metadata": {},
          "execution_count": 67
        }
      ],
      "source": [
        "### Simple regret minimization: run number = 13\n",
        "\n",
        "approx_output_13 = np.append(np.min(-approx_13.GP.y[0:n_init]),-approx_13.GP.y[n_init:(n_init+iters)]) \n",
        "exact_output_13 = np.append(np.min(-exact_13.GP.y[0:n_init]),-exact_13.GP.y[n_init:(n_init+iters)]) \n",
        "\n",
        "regret_approx_13 = np.log(approx_output_13 - y_global_orig)\n",
        "regret_exact_13 = np.log(exact_output_13 - y_global_orig)\n",
        "\n",
        "simple_regret_approx_13 = min_max_array(regret_approx_13)\n",
        "simple_regret_exact_13 = min_max_array(regret_exact_13)\n",
        "\n",
        "min_simple_regret_approx_13 = min(simple_regret_approx_13)\n",
        "min_simple_regret_exact_13 = min(simple_regret_exact_13)\n",
        "\n",
        "min_simple_regret_approx_13, min_simple_regret_exact_13"
      ]
    },
    {
      "cell_type": "code",
      "execution_count": 68,
      "metadata": {
        "id": "ogML73shQxfx",
        "colab": {
          "base_uri": "https://localhost:8080/"
        },
        "outputId": "9155039a-1f3a-4830-ac85-1dd717d16cc5"
      },
      "outputs": [
        {
          "output_type": "execute_result",
          "data": {
            "text/plain": [
              "(-4.192258922296666, -4.290150586422052)"
            ]
          },
          "metadata": {},
          "execution_count": 68
        }
      ],
      "source": [
        "### Simple regret minimization: run number = 14\n",
        "\n",
        "approx_output_14 = np.append(np.min(-approx_14.GP.y[0:n_init]),-approx_14.GP.y[n_init:(n_init+iters)]) \n",
        "exact_output_14 = np.append(np.min(-exact_14.GP.y[0:n_init]),-exact_14.GP.y[n_init:(n_init+iters)]) \n",
        "\n",
        "regret_approx_14 = np.log(approx_output_14 - y_global_orig)\n",
        "regret_exact_14 = np.log(exact_output_14 - y_global_orig)\n",
        "\n",
        "simple_regret_approx_14 = min_max_array(regret_approx_14)\n",
        "simple_regret_exact_14 = min_max_array(regret_exact_14)\n",
        "\n",
        "min_simple_regret_approx_14 = min(simple_regret_approx_14)\n",
        "min_simple_regret_exact_14 = min(simple_regret_exact_14)\n",
        "\n",
        "min_simple_regret_approx_14, min_simple_regret_exact_14"
      ]
    },
    {
      "cell_type": "code",
      "execution_count": 69,
      "metadata": {
        "id": "9Eg7gFT9Qxfx",
        "colab": {
          "base_uri": "https://localhost:8080/"
        },
        "outputId": "2cc0b15a-a1d0-4123-fde5-e1ef532ffe08"
      },
      "outputs": [
        {
          "output_type": "execute_result",
          "data": {
            "text/plain": [
              "(-0.7365984660296737, -5.830735079598698)"
            ]
          },
          "metadata": {},
          "execution_count": 69
        }
      ],
      "source": [
        "### Simple regret minimization: run number = 15\n",
        "\n",
        "approx_output_15 = np.append(np.min(-approx_15.GP.y[0:n_init]),-approx_15.GP.y[n_init:(n_init+iters)]) \n",
        "exact_output_15 = np.append(np.min(-exact_15.GP.y[0:n_init]),-exact_15.GP.y[n_init:(n_init+iters)]) \n",
        "\n",
        "regret_approx_15 = np.log(approx_output_15 - y_global_orig)\n",
        "regret_exact_15 = np.log(exact_output_15 - y_global_orig)\n",
        "\n",
        "simple_regret_approx_15 = min_max_array(regret_approx_15)\n",
        "simple_regret_exact_15 = min_max_array(regret_exact_15)\n",
        "\n",
        "min_simple_regret_approx_15 = min(simple_regret_approx_15)\n",
        "min_simple_regret_exact_15 = min(simple_regret_exact_15)\n",
        "\n",
        "min_simple_regret_approx_15, min_simple_regret_exact_15"
      ]
    },
    {
      "cell_type": "code",
      "execution_count": 70,
      "metadata": {
        "id": "lIAC1U7ZQxfy",
        "colab": {
          "base_uri": "https://localhost:8080/"
        },
        "outputId": "34473be0-125d-4585-c329-d03f1fcceeb7"
      },
      "outputs": [
        {
          "output_type": "execute_result",
          "data": {
            "text/plain": [
              "(-3.0922485216101787, -2.760960998358009)"
            ]
          },
          "metadata": {},
          "execution_count": 70
        }
      ],
      "source": [
        "### Simple regret minimization: run number = 16\n",
        "\n",
        "approx_output_16 = np.append(np.min(-approx_16.GP.y[0:n_init]),-approx_16.GP.y[n_init:(n_init+iters)]) \n",
        "exact_output_16 = np.append(np.min(-exact_16.GP.y[0:n_init]),-exact_16.GP.y[n_init:(n_init+iters)]) \n",
        "\n",
        "regret_approx_16 = np.log(approx_output_16 - y_global_orig)\n",
        "regret_exact_16 = np.log(exact_output_16 - y_global_orig)\n",
        "\n",
        "simple_regret_approx_16 = min_max_array(regret_approx_16)\n",
        "simple_regret_exact_16 = min_max_array(regret_exact_16)\n",
        "\n",
        "min_simple_regret_approx_16 = min(simple_regret_approx_16)\n",
        "min_simple_regret_exact_16 = min(simple_regret_exact_16)\n",
        "\n",
        "min_simple_regret_approx_16, min_simple_regret_exact_16"
      ]
    },
    {
      "cell_type": "code",
      "execution_count": 71,
      "metadata": {
        "id": "bGott36OQxfz",
        "colab": {
          "base_uri": "https://localhost:8080/"
        },
        "outputId": "fa41b486-6cb8-4fa0-a382-02087a6efb63"
      },
      "outputs": [
        {
          "output_type": "execute_result",
          "data": {
            "text/plain": [
              "(-2.6742319457249035, -4.065100294063326)"
            ]
          },
          "metadata": {},
          "execution_count": 71
        }
      ],
      "source": [
        "### Simple regret minimization: run number = 17\n",
        "\n",
        "approx_output_17 = np.append(np.min(-approx_17.GP.y[0:n_init]),-approx_17.GP.y[n_init:(n_init+iters)]) \n",
        "exact_output_17 = np.append(np.min(-exact_17.GP.y[0:n_init]),-exact_17.GP.y[n_init:(n_init+iters)]) \n",
        "\n",
        "regret_approx_17 = np.log(approx_output_17 - y_global_orig)\n",
        "regret_exact_17 = np.log(exact_output_17 - y_global_orig)\n",
        "\n",
        "simple_regret_approx_17 = min_max_array(regret_approx_17)\n",
        "simple_regret_exact_17 = min_max_array(regret_exact_17)\n",
        "\n",
        "min_simple_regret_approx_17 = min(simple_regret_approx_17)\n",
        "min_simple_regret_exact_17 = min(simple_regret_exact_17)\n",
        "\n",
        "min_simple_regret_approx_17, min_simple_regret_exact_17"
      ]
    },
    {
      "cell_type": "code",
      "execution_count": 72,
      "metadata": {
        "id": "Cz9ZYMBMQxfz",
        "colab": {
          "base_uri": "https://localhost:8080/"
        },
        "outputId": "17aea6a3-21b5-41f3-c96f-4a71175ab42d"
      },
      "outputs": [
        {
          "output_type": "execute_result",
          "data": {
            "text/plain": [
              "(-3.5700922163270112, -3.7861171775604525)"
            ]
          },
          "metadata": {},
          "execution_count": 72
        }
      ],
      "source": [
        "### Simple regret minimization: run number = 18\n",
        "\n",
        "approx_output_18 = np.append(np.min(-approx_18.GP.y[0:n_init]),-approx_18.GP.y[n_init:(n_init+iters)]) \n",
        "exact_output_18 = np.append(np.min(-exact_18.GP.y[0:n_init]),-exact_18.GP.y[n_init:(n_init+iters)]) \n",
        "\n",
        "regret_approx_18 = np.log(approx_output_18 - y_global_orig)\n",
        "regret_exact_18 = np.log(exact_output_18 - y_global_orig)\n",
        "\n",
        "simple_regret_approx_18 = min_max_array(regret_approx_18)\n",
        "simple_regret_exact_18 = min_max_array(regret_exact_18)\n",
        "\n",
        "min_simple_regret_approx_18 = min(simple_regret_approx_18)\n",
        "min_simple_regret_exact_18 = min(simple_regret_exact_18)\n",
        "\n",
        "min_simple_regret_approx_18, min_simple_regret_exact_18"
      ]
    },
    {
      "cell_type": "code",
      "execution_count": 73,
      "metadata": {
        "id": "OBfpWOHNQxf0",
        "colab": {
          "base_uri": "https://localhost:8080/"
        },
        "outputId": "ae2eb36f-a93c-4579-e30c-241a71556b73"
      },
      "outputs": [
        {
          "output_type": "execute_result",
          "data": {
            "text/plain": [
              "(-5.17268394233786, -4.362390229222916)"
            ]
          },
          "metadata": {},
          "execution_count": 73
        }
      ],
      "source": [
        "### Simple regret minimization: run number = 19\n",
        "\n",
        "approx_output_19 = np.append(np.min(-approx_19.GP.y[0:n_init]),-approx_19.GP.y[n_init:(n_init+iters)]) \n",
        "exact_output_19 = np.append(np.min(-exact_19.GP.y[0:n_init]),-exact_19.GP.y[n_init:(n_init+iters)]) \n",
        "\n",
        "regret_approx_19 = np.log(approx_output_19 - y_global_orig)\n",
        "regret_exact_19 = np.log(exact_output_19 - y_global_orig)\n",
        "\n",
        "simple_regret_approx_19 = min_max_array(regret_approx_19)\n",
        "simple_regret_exact_19 = min_max_array(regret_exact_19)\n",
        "\n",
        "min_simple_regret_approx_19 = min(simple_regret_approx_19)\n",
        "min_simple_regret_exact_19 = min(simple_regret_exact_19)\n",
        "\n",
        "min_simple_regret_approx_19, min_simple_regret_exact_19"
      ]
    },
    {
      "cell_type": "code",
      "execution_count": 74,
      "metadata": {
        "id": "BE1AJ7NsQxf0",
        "colab": {
          "base_uri": "https://localhost:8080/"
        },
        "outputId": "db148928-a395-4f43-c6e5-a99fc4c51b15"
      },
      "outputs": [
        {
          "output_type": "execute_result",
          "data": {
            "text/plain": [
              "(-3.394846866881311, -4.893549231759079)"
            ]
          },
          "metadata": {},
          "execution_count": 74
        }
      ],
      "source": [
        "### Simple regret minimization: run number = 20\n",
        "\n",
        "approx_output_20 = np.append(np.min(-approx_20.GP.y[0:n_init]),-approx_20.GP.y[n_init:(n_init+iters)]) \n",
        "exact_output_20 = np.append(np.min(-exact_20.GP.y[0:n_init]),-exact_20.GP.y[n_init:(n_init+iters)]) \n",
        "\n",
        "regret_approx_20 = np.log(approx_output_20 - y_global_orig)\n",
        "regret_exact_20 = np.log(exact_output_20 - y_global_orig)\n",
        "\n",
        "simple_regret_approx_20 = min_max_array(regret_approx_20)\n",
        "simple_regret_exact_20 = min_max_array(regret_exact_20)\n",
        "\n",
        "min_simple_regret_approx_20 = min(simple_regret_approx_20)\n",
        "min_simple_regret_exact_20 = min(simple_regret_exact_20)\n",
        "\n",
        "min_simple_regret_approx_20, min_simple_regret_exact_20"
      ]
    },
    {
      "cell_type": "code",
      "execution_count": 75,
      "metadata": {
        "id": "bpX-bKAHQxf1"
      },
      "outputs": [],
      "source": [
        "# Iteration1 :\n",
        "\n",
        "slice1 = 0\n",
        "\n",
        "approx1 = [simple_regret_approx_1[slice1],\n",
        "       simple_regret_approx_2[slice1],\n",
        "       simple_regret_approx_3[slice1],\n",
        "       simple_regret_approx_4[slice1],\n",
        "       simple_regret_approx_5[slice1],\n",
        "       simple_regret_approx_6[slice1],\n",
        "       simple_regret_approx_7[slice1],\n",
        "       simple_regret_approx_8[slice1],\n",
        "       simple_regret_approx_9[slice1],\n",
        "       simple_regret_approx_10[slice1],\n",
        "       simple_regret_approx_11[slice1],\n",
        "       simple_regret_approx_12[slice1],\n",
        "       simple_regret_approx_13[slice1],\n",
        "       simple_regret_approx_14[slice1],\n",
        "       simple_regret_approx_15[slice1],\n",
        "       simple_regret_approx_16[slice1],\n",
        "       simple_regret_approx_17[slice1],\n",
        "       simple_regret_approx_18[slice1],\n",
        "       simple_regret_approx_19[slice1],\n",
        "       simple_regret_approx_20[slice1]]\n",
        "\n",
        "exact1 = [simple_regret_exact_1[slice1],\n",
        "       simple_regret_exact_2[slice1],\n",
        "       simple_regret_exact_3[slice1],\n",
        "       simple_regret_exact_4[slice1],\n",
        "       simple_regret_exact_5[slice1],\n",
        "       simple_regret_exact_6[slice1],\n",
        "       simple_regret_exact_7[slice1],\n",
        "       simple_regret_exact_8[slice1],\n",
        "       simple_regret_exact_9[slice1],\n",
        "       simple_regret_exact_10[slice1],\n",
        "       simple_regret_exact_11[slice1],\n",
        "       simple_regret_exact_12[slice1],\n",
        "       simple_regret_exact_13[slice1],\n",
        "       simple_regret_exact_14[slice1],\n",
        "       simple_regret_exact_15[slice1],\n",
        "       simple_regret_exact_16[slice1],\n",
        "       simple_regret_exact_17[slice1],\n",
        "       simple_regret_exact_18[slice1],\n",
        "       simple_regret_exact_19[slice1],\n",
        "       simple_regret_exact_20[slice1]]\n",
        "\n",
        "approx1_results = pd.DataFrame(approx1).sort_values(by=[0], ascending=False)\n",
        "exact1_results = pd.DataFrame(exact1).sort_values(by=[0], ascending=False)\n",
        "\n",
        "### Best simple regret minimization IQR - approx:\n",
        "lower_approx1 = np.asarray(approx1_results[4:5][0])[0]\n",
        "median_approx1 = np.asarray(approx1_results[9:10][0])[0]\n",
        "upper_approx1 = np.asarray(approx1_results[14:15][0])[0]\n",
        "\n",
        "lower_exact1 = np.asarray(exact1_results[4:5][0])[0]\n",
        "median_exact1 = np.asarray(exact1_results[9:10][0])[0]\n",
        "upper_exact1 = np.asarray(exact1_results[14:15][0])[0]"
      ]
    },
    {
      "cell_type": "code",
      "execution_count": 76,
      "metadata": {
        "id": "CgIkJA1xQxf2"
      },
      "outputs": [],
      "source": [
        "# Iteration11 :\n",
        "\n",
        "slice11 = 10\n",
        "\n",
        "approx11 = [simple_regret_approx_1[slice11],\n",
        "       simple_regret_approx_2[slice11],\n",
        "       simple_regret_approx_3[slice11],\n",
        "       simple_regret_approx_4[slice11],\n",
        "       simple_regret_approx_5[slice11],\n",
        "       simple_regret_approx_6[slice11],\n",
        "       simple_regret_approx_7[slice11],\n",
        "       simple_regret_approx_8[slice11],\n",
        "       simple_regret_approx_9[slice11],\n",
        "       simple_regret_approx_10[slice11],\n",
        "       simple_regret_approx_11[slice11],\n",
        "       simple_regret_approx_12[slice11],\n",
        "       simple_regret_approx_13[slice11],\n",
        "       simple_regret_approx_14[slice11],\n",
        "       simple_regret_approx_15[slice11],\n",
        "       simple_regret_approx_16[slice11],\n",
        "       simple_regret_approx_17[slice11],\n",
        "       simple_regret_approx_18[slice11],\n",
        "       simple_regret_approx_19[slice11],\n",
        "       simple_regret_approx_20[slice11]]\n",
        "\n",
        "exact11 = [simple_regret_exact_1[slice11],\n",
        "       simple_regret_exact_2[slice11],\n",
        "       simple_regret_exact_3[slice11],\n",
        "       simple_regret_exact_4[slice11],\n",
        "       simple_regret_exact_5[slice11],\n",
        "       simple_regret_exact_6[slice11],\n",
        "       simple_regret_exact_7[slice11],\n",
        "       simple_regret_exact_8[slice11],\n",
        "       simple_regret_exact_9[slice11],\n",
        "       simple_regret_exact_10[slice11],\n",
        "       simple_regret_exact_11[slice11],\n",
        "       simple_regret_exact_12[slice11],\n",
        "       simple_regret_exact_13[slice11],\n",
        "       simple_regret_exact_14[slice11],\n",
        "       simple_regret_exact_15[slice11],\n",
        "       simple_regret_exact_16[slice11],\n",
        "       simple_regret_exact_17[slice11],\n",
        "       simple_regret_exact_18[slice11],\n",
        "       simple_regret_exact_19[slice11],\n",
        "       simple_regret_exact_20[slice11]]\n",
        "\n",
        "approx11_results = pd.DataFrame(approx11).sort_values(by=[0], ascending=False)\n",
        "exact11_results = pd.DataFrame(exact11).sort_values(by=[0], ascending=False)\n",
        "\n",
        "### Best simple regret minimization IQR - approx:\n",
        "lower_approx11 = np.asarray(approx11_results[4:5][0])[0]\n",
        "median_approx11 = np.asarray(approx11_results[9:10][0])[0]\n",
        "upper_approx11 = np.asarray(approx11_results[14:15][0])[0]\n",
        "\n",
        "lower_exact11 = np.asarray(exact11_results[4:5][0])[0]\n",
        "median_exact11 = np.asarray(exact11_results[9:10][0])[0]\n",
        "upper_exact11 = np.asarray(exact11_results[14:15][0])[0]"
      ]
    },
    {
      "cell_type": "code",
      "execution_count": 77,
      "metadata": {
        "id": "MFePDfGuQxf2"
      },
      "outputs": [],
      "source": [
        "# Iteration21 :\n",
        "\n",
        "slice21 = 20\n",
        "\n",
        "approx21 = [simple_regret_approx_1[slice21],\n",
        "       simple_regret_approx_2[slice21],\n",
        "       simple_regret_approx_3[slice21],\n",
        "       simple_regret_approx_4[slice21],\n",
        "       simple_regret_approx_5[slice21],\n",
        "       simple_regret_approx_6[slice21],\n",
        "       simple_regret_approx_7[slice21],\n",
        "       simple_regret_approx_8[slice21],\n",
        "       simple_regret_approx_9[slice21],\n",
        "       simple_regret_approx_10[slice21],\n",
        "       simple_regret_approx_11[slice21],\n",
        "       simple_regret_approx_12[slice21],\n",
        "       simple_regret_approx_13[slice21],\n",
        "       simple_regret_approx_14[slice21],\n",
        "       simple_regret_approx_15[slice21],\n",
        "       simple_regret_approx_16[slice21],\n",
        "       simple_regret_approx_17[slice21],\n",
        "       simple_regret_approx_18[slice21],\n",
        "       simple_regret_approx_19[slice21],\n",
        "       simple_regret_approx_20[slice21]]\n",
        "\n",
        "exact21 = [simple_regret_exact_1[slice21],\n",
        "       simple_regret_exact_2[slice21],\n",
        "       simple_regret_exact_3[slice21],\n",
        "       simple_regret_exact_4[slice21],\n",
        "       simple_regret_exact_5[slice21],\n",
        "       simple_regret_exact_6[slice21],\n",
        "       simple_regret_exact_7[slice21],\n",
        "       simple_regret_exact_8[slice21],\n",
        "       simple_regret_exact_9[slice21],\n",
        "       simple_regret_exact_10[slice21],\n",
        "       simple_regret_exact_11[slice21],\n",
        "       simple_regret_exact_12[slice21],\n",
        "       simple_regret_exact_13[slice21],\n",
        "       simple_regret_exact_14[slice21],\n",
        "       simple_regret_exact_15[slice21],\n",
        "       simple_regret_exact_16[slice21],\n",
        "       simple_regret_exact_17[slice21],\n",
        "       simple_regret_exact_18[slice21],\n",
        "       simple_regret_exact_19[slice21],\n",
        "       simple_regret_exact_20[slice21]]\n",
        "\n",
        "approx21_results = pd.DataFrame(approx21).sort_values(by=[0], ascending=False)\n",
        "exact21_results = pd.DataFrame(exact21).sort_values(by=[0], ascending=False)\n",
        "\n",
        "### Best simple regret minimization IQR - approx:\n",
        "lower_approx21 = np.asarray(approx21_results[4:5][0])[0]\n",
        "median_approx21 = np.asarray(approx21_results[9:10][0])[0]\n",
        "upper_approx21 = np.asarray(approx21_results[14:15][0])[0]\n",
        "\n",
        "lower_exact21 = np.asarray(exact21_results[4:5][0])[0]\n",
        "median_exact21 = np.asarray(exact21_results[9:10][0])[0]\n",
        "upper_exact21 = np.asarray(exact21_results[14:15][0])[0]"
      ]
    },
    {
      "cell_type": "code",
      "execution_count": 78,
      "metadata": {
        "id": "PrRDB1kfQxf3"
      },
      "outputs": [],
      "source": [
        "# Iteration2 :\n",
        "\n",
        "slice2 = 1\n",
        "\n",
        "approx2 = [simple_regret_approx_1[slice2],\n",
        "       simple_regret_approx_2[slice2],\n",
        "       simple_regret_approx_3[slice2],\n",
        "       simple_regret_approx_4[slice2],\n",
        "       simple_regret_approx_5[slice2],\n",
        "       simple_regret_approx_6[slice2],\n",
        "       simple_regret_approx_7[slice2],\n",
        "       simple_regret_approx_8[slice2],\n",
        "       simple_regret_approx_9[slice2],\n",
        "       simple_regret_approx_10[slice2],\n",
        "       simple_regret_approx_11[slice2],\n",
        "       simple_regret_approx_12[slice2],\n",
        "       simple_regret_approx_13[slice2],\n",
        "       simple_regret_approx_14[slice2],\n",
        "       simple_regret_approx_15[slice2],\n",
        "       simple_regret_approx_16[slice2],\n",
        "       simple_regret_approx_17[slice2],\n",
        "       simple_regret_approx_18[slice2],\n",
        "       simple_regret_approx_19[slice2],\n",
        "       simple_regret_approx_20[slice2]]\n",
        "\n",
        "exact2 = [simple_regret_exact_1[slice2],\n",
        "       simple_regret_exact_2[slice2],\n",
        "       simple_regret_exact_3[slice2],\n",
        "       simple_regret_exact_4[slice2],\n",
        "       simple_regret_exact_5[slice2],\n",
        "       simple_regret_exact_6[slice2],\n",
        "       simple_regret_exact_7[slice2],\n",
        "       simple_regret_exact_8[slice2],\n",
        "       simple_regret_exact_9[slice2],\n",
        "       simple_regret_exact_10[slice2],\n",
        "       simple_regret_exact_11[slice2],\n",
        "       simple_regret_exact_12[slice2],\n",
        "       simple_regret_exact_13[slice2],\n",
        "       simple_regret_exact_14[slice2],\n",
        "       simple_regret_exact_15[slice2],\n",
        "       simple_regret_exact_16[slice2],\n",
        "       simple_regret_exact_17[slice2],\n",
        "       simple_regret_exact_18[slice2],\n",
        "       simple_regret_exact_19[slice2],\n",
        "       simple_regret_exact_20[slice2]]\n",
        "\n",
        "approx2_results = pd.DataFrame(approx2).sort_values(by=[0], ascending=False)\n",
        "exact2_results = pd.DataFrame(exact2).sort_values(by=[0], ascending=False)\n",
        "\n",
        "### Best simple regret minimization IQR - approx:\n",
        "lower_approx2 = np.asarray(approx2_results[4:5][0])[0]\n",
        "median_approx2 = np.asarray(approx2_results[9:10][0])[0]\n",
        "upper_approx2 = np.asarray(approx2_results[14:15][0])[0]\n",
        "\n",
        "lower_exact2 = np.asarray(exact2_results[4:5][0])[0]\n",
        "median_exact2 = np.asarray(exact2_results[9:10][0])[0]\n",
        "upper_exact2 = np.asarray(exact2_results[14:15][0])[0]"
      ]
    },
    {
      "cell_type": "code",
      "execution_count": 79,
      "metadata": {
        "id": "B8ncJDYeQxf3"
      },
      "outputs": [],
      "source": [
        "# Iteration12 :\n",
        "\n",
        "slice12 = 11\n",
        "\n",
        "approx12 = [simple_regret_approx_1[slice12],\n",
        "       simple_regret_approx_2[slice12],\n",
        "       simple_regret_approx_3[slice12],\n",
        "       simple_regret_approx_4[slice12],\n",
        "       simple_regret_approx_5[slice12],\n",
        "       simple_regret_approx_6[slice12],\n",
        "       simple_regret_approx_7[slice12],\n",
        "       simple_regret_approx_8[slice12],\n",
        "       simple_regret_approx_9[slice12],\n",
        "       simple_regret_approx_10[slice12],\n",
        "       simple_regret_approx_11[slice12],\n",
        "       simple_regret_approx_12[slice12],\n",
        "       simple_regret_approx_13[slice12],\n",
        "       simple_regret_approx_14[slice12],\n",
        "       simple_regret_approx_15[slice12],\n",
        "       simple_regret_approx_16[slice12],\n",
        "       simple_regret_approx_17[slice12],\n",
        "       simple_regret_approx_18[slice12],\n",
        "       simple_regret_approx_19[slice12],\n",
        "       simple_regret_approx_20[slice12]]\n",
        "\n",
        "exact12 = [simple_regret_exact_1[slice12],\n",
        "       simple_regret_exact_2[slice12],\n",
        "       simple_regret_exact_3[slice12],\n",
        "       simple_regret_exact_4[slice12],\n",
        "       simple_regret_exact_5[slice12],\n",
        "       simple_regret_exact_6[slice12],\n",
        "       simple_regret_exact_7[slice12],\n",
        "       simple_regret_exact_8[slice12],\n",
        "       simple_regret_exact_9[slice12],\n",
        "       simple_regret_exact_10[slice12],\n",
        "       simple_regret_exact_11[slice12],\n",
        "       simple_regret_exact_12[slice12],\n",
        "       simple_regret_exact_13[slice12],\n",
        "       simple_regret_exact_14[slice12],\n",
        "       simple_regret_exact_15[slice12],\n",
        "       simple_regret_exact_16[slice12],\n",
        "       simple_regret_exact_17[slice12],\n",
        "       simple_regret_exact_18[slice12],\n",
        "       simple_regret_exact_19[slice12],\n",
        "       simple_regret_exact_20[slice12]]\n",
        "\n",
        "approx12_results = pd.DataFrame(approx12).sort_values(by=[0], ascending=False)\n",
        "exact12_results = pd.DataFrame(exact12).sort_values(by=[0], ascending=False)\n",
        "\n",
        "### Best simple regret minimization IQR - approx:\n",
        "lower_approx12 = np.asarray(approx12_results[4:5][0])[0]\n",
        "median_approx12 = np.asarray(approx12_results[9:10][0])[0]\n",
        "upper_approx12 = np.asarray(approx12_results[14:15][0])[0]\n",
        "\n",
        "lower_exact12 = np.asarray(exact12_results[4:5][0])[0]\n",
        "median_exact12 = np.asarray(exact12_results[9:10][0])[0]\n",
        "upper_exact12 = np.asarray(exact12_results[14:15][0])[0]"
      ]
    },
    {
      "cell_type": "code",
      "execution_count": 80,
      "metadata": {
        "id": "Jn4KpGvcQxf4"
      },
      "outputs": [],
      "source": [
        "# Iteration3 :\n",
        "\n",
        "slice3 = 2\n",
        "\n",
        "approx3 = [simple_regret_approx_1[slice3],\n",
        "       simple_regret_approx_2[slice3],\n",
        "       simple_regret_approx_3[slice3],\n",
        "       simple_regret_approx_4[slice3],\n",
        "       simple_regret_approx_5[slice3],\n",
        "       simple_regret_approx_6[slice3],\n",
        "       simple_regret_approx_7[slice3],\n",
        "       simple_regret_approx_8[slice3],\n",
        "       simple_regret_approx_9[slice3],\n",
        "       simple_regret_approx_10[slice3],\n",
        "       simple_regret_approx_11[slice3],\n",
        "       simple_regret_approx_12[slice3],\n",
        "       simple_regret_approx_13[slice3],\n",
        "       simple_regret_approx_14[slice3],\n",
        "       simple_regret_approx_15[slice3],\n",
        "       simple_regret_approx_16[slice3],\n",
        "       simple_regret_approx_17[slice3],\n",
        "       simple_regret_approx_18[slice3],\n",
        "       simple_regret_approx_19[slice3],\n",
        "       simple_regret_approx_20[slice3]]\n",
        "\n",
        "exact3 = [simple_regret_exact_1[slice3],\n",
        "       simple_regret_exact_2[slice3],\n",
        "       simple_regret_exact_3[slice3],\n",
        "       simple_regret_exact_4[slice3],\n",
        "       simple_regret_exact_5[slice3],\n",
        "       simple_regret_exact_6[slice3],\n",
        "       simple_regret_exact_7[slice3],\n",
        "       simple_regret_exact_8[slice3],\n",
        "       simple_regret_exact_9[slice3],\n",
        "       simple_regret_exact_10[slice3],\n",
        "       simple_regret_exact_11[slice3],\n",
        "       simple_regret_exact_12[slice3],\n",
        "       simple_regret_exact_13[slice3],\n",
        "       simple_regret_exact_14[slice3],\n",
        "       simple_regret_exact_15[slice3],\n",
        "       simple_regret_exact_16[slice3],\n",
        "       simple_regret_exact_17[slice3],\n",
        "       simple_regret_exact_18[slice3],\n",
        "       simple_regret_exact_19[slice3],\n",
        "       simple_regret_exact_20[slice3]]\n",
        "\n",
        "approx3_results = pd.DataFrame(approx3).sort_values(by=[0], ascending=False)\n",
        "exact3_results = pd.DataFrame(exact3).sort_values(by=[0], ascending=False)\n",
        "\n",
        "### Best simple regret minimization IQR - approx:\n",
        "lower_approx3 = np.asarray(approx3_results[4:5][0])[0]\n",
        "median_approx3 = np.asarray(approx3_results[9:10][0])[0]\n",
        "upper_approx3 = np.asarray(approx3_results[14:15][0])[0]\n",
        "\n",
        "lower_exact3 = np.asarray(exact3_results[4:5][0])[0]\n",
        "median_exact3 = np.asarray(exact3_results[9:10][0])[0]\n",
        "upper_exact3 = np.asarray(exact3_results[14:15][0])[0]"
      ]
    },
    {
      "cell_type": "code",
      "execution_count": 81,
      "metadata": {
        "id": "plf83wxrQxf4"
      },
      "outputs": [],
      "source": [
        "# Iteration13 :\n",
        "\n",
        "slice13 = 12\n",
        "\n",
        "approx13 = [simple_regret_approx_1[slice13],\n",
        "       simple_regret_approx_2[slice13],\n",
        "       simple_regret_approx_3[slice13],\n",
        "       simple_regret_approx_4[slice13],\n",
        "       simple_regret_approx_5[slice13],\n",
        "       simple_regret_approx_6[slice13],\n",
        "       simple_regret_approx_7[slice13],\n",
        "       simple_regret_approx_8[slice13],\n",
        "       simple_regret_approx_9[slice13],\n",
        "       simple_regret_approx_10[slice13],\n",
        "       simple_regret_approx_11[slice13],\n",
        "       simple_regret_approx_12[slice13],\n",
        "       simple_regret_approx_13[slice13],\n",
        "       simple_regret_approx_14[slice13],\n",
        "       simple_regret_approx_15[slice13],\n",
        "       simple_regret_approx_16[slice13],\n",
        "       simple_regret_approx_17[slice13],\n",
        "       simple_regret_approx_18[slice13],\n",
        "       simple_regret_approx_19[slice13],\n",
        "       simple_regret_approx_20[slice13]]\n",
        "\n",
        "exact13 = [simple_regret_exact_1[slice13],\n",
        "       simple_regret_exact_2[slice13],\n",
        "       simple_regret_exact_3[slice13],\n",
        "       simple_regret_exact_4[slice13],\n",
        "       simple_regret_exact_5[slice13],\n",
        "       simple_regret_exact_6[slice13],\n",
        "       simple_regret_exact_7[slice13],\n",
        "       simple_regret_exact_8[slice13],\n",
        "       simple_regret_exact_9[slice13],\n",
        "       simple_regret_exact_10[slice13],\n",
        "       simple_regret_exact_11[slice13],\n",
        "       simple_regret_exact_12[slice13],\n",
        "       simple_regret_exact_13[slice13],\n",
        "       simple_regret_exact_14[slice13],\n",
        "       simple_regret_exact_15[slice13],\n",
        "       simple_regret_exact_16[slice13],\n",
        "       simple_regret_exact_17[slice13],\n",
        "       simple_regret_exact_18[slice13],\n",
        "       simple_regret_exact_19[slice13],\n",
        "       simple_regret_exact_20[slice13]]\n",
        "\n",
        "approx13_results = pd.DataFrame(approx13).sort_values(by=[0], ascending=False)\n",
        "exact13_results = pd.DataFrame(exact13).sort_values(by=[0], ascending=False)\n",
        "\n",
        "### Best simple regret minimization IQR - approx:\n",
        "lower_approx13 = np.asarray(approx13_results[4:5][0])[0]\n",
        "median_approx13 = np.asarray(approx13_results[9:10][0])[0]\n",
        "upper_approx13 = np.asarray(approx13_results[14:15][0])[0]\n",
        "\n",
        "lower_exact13 = np.asarray(exact13_results[4:5][0])[0]\n",
        "median_exact13 = np.asarray(exact13_results[9:10][0])[0]\n",
        "upper_exact13 = np.asarray(exact13_results[14:15][0])[0]"
      ]
    },
    {
      "cell_type": "code",
      "execution_count": 82,
      "metadata": {
        "id": "9A7mlVvJQxf5"
      },
      "outputs": [],
      "source": [
        "# Iteration4 :\n",
        "\n",
        "slice4 = 3\n",
        "\n",
        "approx4 = [simple_regret_approx_1[slice4],\n",
        "       simple_regret_approx_2[slice4],\n",
        "       simple_regret_approx_3[slice4],\n",
        "       simple_regret_approx_4[slice4],\n",
        "       simple_regret_approx_5[slice4],\n",
        "       simple_regret_approx_6[slice4],\n",
        "       simple_regret_approx_7[slice4],\n",
        "       simple_regret_approx_8[slice4],\n",
        "       simple_regret_approx_9[slice4],\n",
        "       simple_regret_approx_10[slice4],\n",
        "       simple_regret_approx_11[slice4],\n",
        "       simple_regret_approx_12[slice4],\n",
        "       simple_regret_approx_13[slice4],\n",
        "       simple_regret_approx_14[slice4],\n",
        "       simple_regret_approx_15[slice4],\n",
        "       simple_regret_approx_16[slice4],\n",
        "       simple_regret_approx_17[slice4],\n",
        "       simple_regret_approx_18[slice4],\n",
        "       simple_regret_approx_19[slice4],\n",
        "       simple_regret_approx_20[slice4]]\n",
        "\n",
        "exact4 = [simple_regret_exact_1[slice4],\n",
        "       simple_regret_exact_2[slice4],\n",
        "       simple_regret_exact_3[slice4],\n",
        "       simple_regret_exact_4[slice4],\n",
        "       simple_regret_exact_5[slice4],\n",
        "       simple_regret_exact_6[slice4],\n",
        "       simple_regret_exact_7[slice4],\n",
        "       simple_regret_exact_8[slice4],\n",
        "       simple_regret_exact_9[slice4],\n",
        "       simple_regret_exact_10[slice4],\n",
        "       simple_regret_exact_11[slice4],\n",
        "       simple_regret_exact_12[slice4],\n",
        "       simple_regret_exact_13[slice4],\n",
        "       simple_regret_exact_14[slice4],\n",
        "       simple_regret_exact_15[slice4],\n",
        "       simple_regret_exact_16[slice4],\n",
        "       simple_regret_exact_17[slice4],\n",
        "       simple_regret_exact_18[slice4],\n",
        "       simple_regret_exact_19[slice4],\n",
        "       simple_regret_exact_20[slice4]]\n",
        "\n",
        "approx4_results = pd.DataFrame(approx4).sort_values(by=[0], ascending=False)\n",
        "exact4_results = pd.DataFrame(exact4).sort_values(by=[0], ascending=False)\n",
        "\n",
        "### Best simple regret minimization IQR - approx:\n",
        "lower_approx4 = np.asarray(approx4_results[4:5][0])[0]\n",
        "median_approx4 = np.asarray(approx4_results[9:10][0])[0]\n",
        "upper_approx4 = np.asarray(approx4_results[14:15][0])[0]\n",
        "\n",
        "lower_exact4 = np.asarray(exact4_results[4:5][0])[0]\n",
        "median_exact4 = np.asarray(exact4_results[9:10][0])[0]\n",
        "upper_exact4 = np.asarray(exact4_results[14:15][0])[0]"
      ]
    },
    {
      "cell_type": "code",
      "execution_count": 83,
      "metadata": {
        "id": "ijq-rioYQxf5"
      },
      "outputs": [],
      "source": [
        "# Iteration14 :\n",
        "\n",
        "slice14 = 13\n",
        "\n",
        "approx14 = [simple_regret_approx_1[slice14],\n",
        "       simple_regret_approx_2[slice14],\n",
        "       simple_regret_approx_3[slice14],\n",
        "       simple_regret_approx_4[slice14],\n",
        "       simple_regret_approx_5[slice14],\n",
        "       simple_regret_approx_6[slice14],\n",
        "       simple_regret_approx_7[slice14],\n",
        "       simple_regret_approx_8[slice14],\n",
        "       simple_regret_approx_9[slice14],\n",
        "       simple_regret_approx_10[slice14],\n",
        "       simple_regret_approx_11[slice14],\n",
        "       simple_regret_approx_12[slice14],\n",
        "       simple_regret_approx_13[slice14],\n",
        "       simple_regret_approx_14[slice14],\n",
        "       simple_regret_approx_15[slice14],\n",
        "       simple_regret_approx_16[slice14],\n",
        "       simple_regret_approx_17[slice14],\n",
        "       simple_regret_approx_18[slice14],\n",
        "       simple_regret_approx_19[slice14],\n",
        "       simple_regret_approx_20[slice14]]\n",
        "\n",
        "exact14 = [simple_regret_exact_1[slice14],\n",
        "       simple_regret_exact_2[slice14],\n",
        "       simple_regret_exact_3[slice14],\n",
        "       simple_regret_exact_4[slice14],\n",
        "       simple_regret_exact_5[slice14],\n",
        "       simple_regret_exact_6[slice14],\n",
        "       simple_regret_exact_7[slice14],\n",
        "       simple_regret_exact_8[slice14],\n",
        "       simple_regret_exact_9[slice14],\n",
        "       simple_regret_exact_10[slice14],\n",
        "       simple_regret_exact_11[slice14],\n",
        "       simple_regret_exact_12[slice14],\n",
        "       simple_regret_exact_13[slice14],\n",
        "       simple_regret_exact_14[slice14],\n",
        "       simple_regret_exact_15[slice14],\n",
        "       simple_regret_exact_16[slice14],\n",
        "       simple_regret_exact_17[slice14],\n",
        "       simple_regret_exact_18[slice14],\n",
        "       simple_regret_exact_19[slice14],\n",
        "       simple_regret_exact_20[slice14]]\n",
        "\n",
        "approx14_results = pd.DataFrame(approx14).sort_values(by=[0], ascending=False)\n",
        "exact14_results = pd.DataFrame(exact14).sort_values(by=[0], ascending=False)\n",
        "\n",
        "### Best simple regret minimization IQR - approx:\n",
        "lower_approx14 = np.asarray(approx14_results[4:5][0])[0]\n",
        "median_approx14 = np.asarray(approx14_results[9:10][0])[0]\n",
        "upper_approx14 = np.asarray(approx14_results[14:15][0])[0]\n",
        "\n",
        "lower_exact14 = np.asarray(exact14_results[4:5][0])[0]\n",
        "median_exact14 = np.asarray(exact14_results[9:10][0])[0]\n",
        "upper_exact14 = np.asarray(exact14_results[14:15][0])[0]"
      ]
    },
    {
      "cell_type": "code",
      "execution_count": 84,
      "metadata": {
        "id": "XINlZjoTd-ZK"
      },
      "outputs": [],
      "source": [
        "# Iteration5 :\n",
        "\n",
        "slice5 = 4\n",
        "\n",
        "approx5 = [simple_regret_approx_1[slice5],\n",
        "       simple_regret_approx_2[slice5],\n",
        "       simple_regret_approx_3[slice5],\n",
        "       simple_regret_approx_4[slice5],\n",
        "       simple_regret_approx_5[slice5],\n",
        "       simple_regret_approx_6[slice5],\n",
        "       simple_regret_approx_7[slice5],\n",
        "       simple_regret_approx_8[slice5],\n",
        "       simple_regret_approx_9[slice5],\n",
        "       simple_regret_approx_10[slice5],\n",
        "       simple_regret_approx_11[slice5],\n",
        "       simple_regret_approx_12[slice5],\n",
        "       simple_regret_approx_13[slice5],\n",
        "       simple_regret_approx_14[slice5],\n",
        "       simple_regret_approx_15[slice5],\n",
        "       simple_regret_approx_16[slice5],\n",
        "       simple_regret_approx_17[slice5],\n",
        "       simple_regret_approx_18[slice5],\n",
        "       simple_regret_approx_19[slice5],\n",
        "       simple_regret_approx_20[slice5]]\n",
        "\n",
        "exact5 = [simple_regret_exact_1[slice5],\n",
        "       simple_regret_exact_2[slice5],\n",
        "       simple_regret_exact_3[slice5],\n",
        "       simple_regret_exact_4[slice5],\n",
        "       simple_regret_exact_5[slice5],\n",
        "       simple_regret_exact_6[slice5],\n",
        "       simple_regret_exact_7[slice5],\n",
        "       simple_regret_exact_8[slice5],\n",
        "       simple_regret_exact_9[slice5],\n",
        "       simple_regret_exact_10[slice5],\n",
        "       simple_regret_exact_11[slice5],\n",
        "       simple_regret_exact_12[slice5],\n",
        "       simple_regret_exact_13[slice5],\n",
        "       simple_regret_exact_14[slice5],\n",
        "       simple_regret_exact_15[slice5],\n",
        "       simple_regret_exact_16[slice5],\n",
        "       simple_regret_exact_17[slice5],\n",
        "       simple_regret_exact_18[slice5],\n",
        "       simple_regret_exact_19[slice5],\n",
        "       simple_regret_exact_20[slice5]]\n",
        "\n",
        "approx5_results = pd.DataFrame(approx5).sort_values(by=[0], ascending=False)\n",
        "exact5_results = pd.DataFrame(exact5).sort_values(by=[0], ascending=False)\n",
        "\n",
        "### Best simple regret minimization IQR - approx:\n",
        "lower_approx5 = np.asarray(approx5_results[4:5][0])[0]\n",
        "median_approx5 = np.asarray(approx5_results[9:10][0])[0]\n",
        "upper_approx5 = np.asarray(approx5_results[14:15][0])[0]\n",
        "\n",
        "lower_exact5 = np.asarray(exact5_results[4:5][0])[0]\n",
        "median_exact5 = np.asarray(exact5_results[9:10][0])[0]\n",
        "upper_exact5 = np.asarray(exact5_results[14:15][0])[0]"
      ]
    },
    {
      "cell_type": "code",
      "execution_count": 85,
      "metadata": {
        "id": "4aZ7C8sOQxf6"
      },
      "outputs": [],
      "source": [
        "# Iteration15 :\n",
        "\n",
        "slice15 = 14\n",
        "\n",
        "approx15 = [simple_regret_approx_1[slice15],\n",
        "       simple_regret_approx_2[slice15],\n",
        "       simple_regret_approx_3[slice15],\n",
        "       simple_regret_approx_4[slice15],\n",
        "       simple_regret_approx_5[slice15],\n",
        "       simple_regret_approx_6[slice15],\n",
        "       simple_regret_approx_7[slice15],\n",
        "       simple_regret_approx_8[slice15],\n",
        "       simple_regret_approx_9[slice15],\n",
        "       simple_regret_approx_10[slice15],\n",
        "       simple_regret_approx_11[slice15],\n",
        "       simple_regret_approx_12[slice15],\n",
        "       simple_regret_approx_13[slice15],\n",
        "       simple_regret_approx_14[slice15],\n",
        "       simple_regret_approx_15[slice15],\n",
        "       simple_regret_approx_16[slice15],\n",
        "       simple_regret_approx_17[slice15],\n",
        "       simple_regret_approx_18[slice15],\n",
        "       simple_regret_approx_19[slice15],\n",
        "       simple_regret_approx_20[slice15]]\n",
        "\n",
        "exact15 = [simple_regret_exact_1[slice15],\n",
        "       simple_regret_exact_2[slice15],\n",
        "       simple_regret_exact_3[slice15],\n",
        "       simple_regret_exact_4[slice15],\n",
        "       simple_regret_exact_5[slice15],\n",
        "       simple_regret_exact_6[slice15],\n",
        "       simple_regret_exact_7[slice15],\n",
        "       simple_regret_exact_8[slice15],\n",
        "       simple_regret_exact_9[slice15],\n",
        "       simple_regret_exact_10[slice15],\n",
        "       simple_regret_exact_11[slice15],\n",
        "       simple_regret_exact_12[slice15],\n",
        "       simple_regret_exact_13[slice15],\n",
        "       simple_regret_exact_14[slice15],\n",
        "       simple_regret_exact_15[slice15],\n",
        "       simple_regret_exact_16[slice15],\n",
        "       simple_regret_exact_17[slice15],\n",
        "       simple_regret_exact_18[slice15],\n",
        "       simple_regret_exact_19[slice15],\n",
        "       simple_regret_exact_20[slice15]]\n",
        "\n",
        "approx15_results = pd.DataFrame(approx15).sort_values(by=[0], ascending=False)\n",
        "exact15_results = pd.DataFrame(exact15).sort_values(by=[0], ascending=False)\n",
        "\n",
        "### Best simple regret minimization IQR - approx:\n",
        "lower_approx15 = np.asarray(approx15_results[4:5][0])[0]\n",
        "median_approx15 = np.asarray(approx15_results[9:10][0])[0]\n",
        "upper_approx15 = np.asarray(approx15_results[14:15][0])[0]\n",
        "\n",
        "lower_exact15 = np.asarray(exact15_results[4:5][0])[0]\n",
        "median_exact15 = np.asarray(exact15_results[9:10][0])[0]\n",
        "upper_exact15 = np.asarray(exact15_results[14:15][0])[0]"
      ]
    },
    {
      "cell_type": "code",
      "execution_count": 86,
      "metadata": {
        "id": "KJINKhv1Qxf6"
      },
      "outputs": [],
      "source": [
        "# Iteration6 :\n",
        "\n",
        "slice6 = 5\n",
        "\n",
        "approx6 = [simple_regret_approx_1[slice6],\n",
        "       simple_regret_approx_2[slice6],\n",
        "       simple_regret_approx_3[slice6],\n",
        "       simple_regret_approx_4[slice6],\n",
        "       simple_regret_approx_5[slice6],\n",
        "       simple_regret_approx_6[slice6],\n",
        "       simple_regret_approx_7[slice6],\n",
        "       simple_regret_approx_8[slice6],\n",
        "       simple_regret_approx_9[slice6],\n",
        "       simple_regret_approx_10[slice6],\n",
        "       simple_regret_approx_11[slice6],\n",
        "       simple_regret_approx_12[slice6],\n",
        "       simple_regret_approx_13[slice6],\n",
        "       simple_regret_approx_14[slice6],\n",
        "       simple_regret_approx_15[slice6],\n",
        "       simple_regret_approx_16[slice6],\n",
        "       simple_regret_approx_17[slice6],\n",
        "       simple_regret_approx_18[slice6],\n",
        "       simple_regret_approx_19[slice6],\n",
        "       simple_regret_approx_20[slice6]]\n",
        "\n",
        "exact6 = [simple_regret_exact_1[slice6],\n",
        "       simple_regret_exact_2[slice6],\n",
        "       simple_regret_exact_3[slice6],\n",
        "       simple_regret_exact_4[slice6],\n",
        "       simple_regret_exact_5[slice6],\n",
        "       simple_regret_exact_6[slice6],\n",
        "       simple_regret_exact_7[slice6],\n",
        "       simple_regret_exact_8[slice6],\n",
        "       simple_regret_exact_9[slice6],\n",
        "       simple_regret_exact_10[slice6],\n",
        "       simple_regret_exact_11[slice6],\n",
        "       simple_regret_exact_12[slice6],\n",
        "       simple_regret_exact_13[slice6],\n",
        "       simple_regret_exact_14[slice6],\n",
        "       simple_regret_exact_15[slice6],\n",
        "       simple_regret_exact_16[slice6],\n",
        "       simple_regret_exact_17[slice6],\n",
        "       simple_regret_exact_18[slice6],\n",
        "       simple_regret_exact_19[slice6],\n",
        "       simple_regret_exact_20[slice6]]\n",
        "\n",
        "approx6_results = pd.DataFrame(approx6).sort_values(by=[0], ascending=False)\n",
        "exact6_results = pd.DataFrame(exact6).sort_values(by=[0], ascending=False)\n",
        "\n",
        "### Best simple regret minimization IQR - approx:\n",
        "lower_approx6 = np.asarray(approx6_results[4:5][0])[0]\n",
        "median_approx6 = np.asarray(approx6_results[9:10][0])[0]\n",
        "upper_approx6 = np.asarray(approx6_results[14:15][0])[0]\n",
        "\n",
        "lower_exact6 = np.asarray(exact6_results[4:5][0])[0]\n",
        "median_exact6 = np.asarray(exact6_results[9:10][0])[0]\n",
        "upper_exact6 = np.asarray(exact6_results[14:15][0])[0]"
      ]
    },
    {
      "cell_type": "code",
      "execution_count": 87,
      "metadata": {
        "id": "nwC5N1FsQxf7"
      },
      "outputs": [],
      "source": [
        "# Iteration16 :\n",
        "\n",
        "slice16 = 15\n",
        "\n",
        "approx16 = [simple_regret_approx_1[slice16],\n",
        "       simple_regret_approx_2[slice16],\n",
        "       simple_regret_approx_3[slice16],\n",
        "       simple_regret_approx_4[slice16],\n",
        "       simple_regret_approx_5[slice16],\n",
        "       simple_regret_approx_6[slice16],\n",
        "       simple_regret_approx_7[slice16],\n",
        "       simple_regret_approx_8[slice16],\n",
        "       simple_regret_approx_9[slice16],\n",
        "       simple_regret_approx_10[slice16],\n",
        "       simple_regret_approx_11[slice16],\n",
        "       simple_regret_approx_12[slice16],\n",
        "       simple_regret_approx_13[slice16],\n",
        "       simple_regret_approx_14[slice16],\n",
        "       simple_regret_approx_15[slice16],\n",
        "       simple_regret_approx_16[slice16],\n",
        "       simple_regret_approx_17[slice16],\n",
        "       simple_regret_approx_18[slice16],\n",
        "       simple_regret_approx_19[slice16],\n",
        "       simple_regret_approx_20[slice16]]\n",
        "\n",
        "exact16 = [simple_regret_exact_1[slice16],\n",
        "       simple_regret_exact_2[slice16],\n",
        "       simple_regret_exact_3[slice16],\n",
        "       simple_regret_exact_4[slice16],\n",
        "       simple_regret_exact_5[slice16],\n",
        "       simple_regret_exact_6[slice16],\n",
        "       simple_regret_exact_7[slice16],\n",
        "       simple_regret_exact_8[slice16],\n",
        "       simple_regret_exact_9[slice16],\n",
        "       simple_regret_exact_10[slice16],\n",
        "       simple_regret_exact_11[slice16],\n",
        "       simple_regret_exact_12[slice16],\n",
        "       simple_regret_exact_13[slice16],\n",
        "       simple_regret_exact_14[slice16],\n",
        "       simple_regret_exact_15[slice16],\n",
        "       simple_regret_exact_16[slice16],\n",
        "       simple_regret_exact_17[slice16],\n",
        "       simple_regret_exact_18[slice16],\n",
        "       simple_regret_exact_19[slice16],\n",
        "       simple_regret_exact_20[slice16]]\n",
        "\n",
        "approx16_results = pd.DataFrame(approx16).sort_values(by=[0], ascending=False)\n",
        "exact16_results = pd.DataFrame(exact16).sort_values(by=[0], ascending=False)\n",
        "\n",
        "### Best simple regret minimization IQR - approx:\n",
        "lower_approx16 = np.asarray(approx16_results[4:5][0])[0]\n",
        "median_approx16 = np.asarray(approx16_results[9:10][0])[0]\n",
        "upper_approx16 = np.asarray(approx16_results[14:15][0])[0]\n",
        "\n",
        "lower_exact16 = np.asarray(exact16_results[4:5][0])[0]\n",
        "median_exact16 = np.asarray(exact16_results[9:10][0])[0]\n",
        "upper_exact16 = np.asarray(exact16_results[14:15][0])[0]"
      ]
    },
    {
      "cell_type": "code",
      "execution_count": 88,
      "metadata": {
        "id": "TrPV0AfnQxf7"
      },
      "outputs": [],
      "source": [
        "# Iteration7 :\n",
        "\n",
        "slice7 = 6\n",
        "\n",
        "approx7 = [simple_regret_approx_1[slice7],\n",
        "       simple_regret_approx_2[slice7],\n",
        "       simple_regret_approx_3[slice7],\n",
        "       simple_regret_approx_4[slice7],\n",
        "       simple_regret_approx_5[slice7],\n",
        "       simple_regret_approx_6[slice7],\n",
        "       simple_regret_approx_7[slice7],\n",
        "       simple_regret_approx_8[slice7],\n",
        "       simple_regret_approx_9[slice7],\n",
        "       simple_regret_approx_10[slice7],\n",
        "       simple_regret_approx_11[slice7],\n",
        "       simple_regret_approx_12[slice7],\n",
        "       simple_regret_approx_13[slice7],\n",
        "       simple_regret_approx_14[slice7],\n",
        "       simple_regret_approx_15[slice7],\n",
        "       simple_regret_approx_16[slice7],\n",
        "       simple_regret_approx_17[slice7],\n",
        "       simple_regret_approx_18[slice7],\n",
        "       simple_regret_approx_19[slice7],\n",
        "       simple_regret_approx_20[slice7]]\n",
        "\n",
        "exact7 = [simple_regret_exact_1[slice7],\n",
        "       simple_regret_exact_2[slice7],\n",
        "       simple_regret_exact_3[slice7],\n",
        "       simple_regret_exact_4[slice7],\n",
        "       simple_regret_exact_5[slice7],\n",
        "       simple_regret_exact_6[slice7],\n",
        "       simple_regret_exact_7[slice7],\n",
        "       simple_regret_exact_8[slice7],\n",
        "       simple_regret_exact_9[slice7],\n",
        "       simple_regret_exact_10[slice7],\n",
        "       simple_regret_exact_11[slice7],\n",
        "       simple_regret_exact_12[slice7],\n",
        "       simple_regret_exact_13[slice7],\n",
        "       simple_regret_exact_14[slice7],\n",
        "       simple_regret_exact_15[slice7],\n",
        "       simple_regret_exact_16[slice7],\n",
        "       simple_regret_exact_17[slice7],\n",
        "       simple_regret_exact_18[slice7],\n",
        "       simple_regret_exact_19[slice7],\n",
        "       simple_regret_exact_20[slice7]]\n",
        "\n",
        "approx7_results = pd.DataFrame(approx7).sort_values(by=[0], ascending=False)\n",
        "exact7_results = pd.DataFrame(exact7).sort_values(by=[0], ascending=False)\n",
        "\n",
        "### Best simple regret minimization IQR - approx:\n",
        "lower_approx7 = np.asarray(approx7_results[4:5][0])[0]\n",
        "median_approx7 = np.asarray(approx7_results[9:10][0])[0]\n",
        "upper_approx7 = np.asarray(approx7_results[14:15][0])[0]\n",
        "\n",
        "lower_exact7 = np.asarray(exact7_results[4:5][0])[0]\n",
        "median_exact7 = np.asarray(exact7_results[9:10][0])[0]\n",
        "upper_exact7 = np.asarray(exact7_results[14:15][0])[0]"
      ]
    },
    {
      "cell_type": "code",
      "execution_count": 89,
      "metadata": {
        "id": "Ub_-wpK4Qxf8"
      },
      "outputs": [],
      "source": [
        "# Iteration17 :\n",
        "\n",
        "slice17 = 16\n",
        "\n",
        "approx17 = [simple_regret_approx_1[slice17],\n",
        "       simple_regret_approx_2[slice17],\n",
        "       simple_regret_approx_3[slice17],\n",
        "       simple_regret_approx_4[slice17],\n",
        "       simple_regret_approx_5[slice17],\n",
        "       simple_regret_approx_6[slice17],\n",
        "       simple_regret_approx_7[slice17],\n",
        "       simple_regret_approx_8[slice17],\n",
        "       simple_regret_approx_9[slice17],\n",
        "       simple_regret_approx_10[slice17],\n",
        "       simple_regret_approx_11[slice17],\n",
        "       simple_regret_approx_12[slice17],\n",
        "       simple_regret_approx_13[slice17],\n",
        "       simple_regret_approx_14[slice17],\n",
        "       simple_regret_approx_15[slice17],\n",
        "       simple_regret_approx_16[slice17],\n",
        "       simple_regret_approx_17[slice17],\n",
        "       simple_regret_approx_18[slice17],\n",
        "       simple_regret_approx_19[slice17],\n",
        "       simple_regret_approx_20[slice17]]\n",
        "\n",
        "exact17 = [simple_regret_exact_1[slice17],\n",
        "       simple_regret_exact_2[slice17],\n",
        "       simple_regret_exact_3[slice17],\n",
        "       simple_regret_exact_4[slice17],\n",
        "       simple_regret_exact_5[slice17],\n",
        "       simple_regret_exact_6[slice17],\n",
        "       simple_regret_exact_7[slice17],\n",
        "       simple_regret_exact_8[slice17],\n",
        "       simple_regret_exact_9[slice17],\n",
        "       simple_regret_exact_10[slice17],\n",
        "       simple_regret_exact_11[slice17],\n",
        "       simple_regret_exact_12[slice17],\n",
        "       simple_regret_exact_13[slice17],\n",
        "       simple_regret_exact_14[slice17],\n",
        "       simple_regret_exact_15[slice17],\n",
        "       simple_regret_exact_16[slice17],\n",
        "       simple_regret_exact_17[slice17],\n",
        "       simple_regret_exact_18[slice17],\n",
        "       simple_regret_exact_19[slice17],\n",
        "       simple_regret_exact_20[slice17]]\n",
        "\n",
        "approx17_results = pd.DataFrame(approx17).sort_values(by=[0], ascending=False)\n",
        "exact17_results = pd.DataFrame(exact17).sort_values(by=[0], ascending=False)\n",
        "\n",
        "### Best simple regret minimization IQR - approx:\n",
        "lower_approx17 = np.asarray(approx17_results[4:5][0])[0]\n",
        "median_approx17 = np.asarray(approx17_results[9:10][0])[0]\n",
        "upper_approx17 = np.asarray(approx17_results[14:15][0])[0]\n",
        "\n",
        "lower_exact17 = np.asarray(exact17_results[4:5][0])[0]\n",
        "median_exact17 = np.asarray(exact17_results[9:10][0])[0]\n",
        "upper_exact17 = np.asarray(exact17_results[14:15][0])[0]"
      ]
    },
    {
      "cell_type": "code",
      "execution_count": 90,
      "metadata": {
        "id": "-6VLo37PQxf8"
      },
      "outputs": [],
      "source": [
        "# Iteration8 :\n",
        "\n",
        "slice8 = 7\n",
        "\n",
        "approx8 = [simple_regret_approx_1[slice8],\n",
        "       simple_regret_approx_2[slice8],\n",
        "       simple_regret_approx_3[slice8],\n",
        "       simple_regret_approx_4[slice8],\n",
        "       simple_regret_approx_5[slice8],\n",
        "       simple_regret_approx_6[slice8],\n",
        "       simple_regret_approx_7[slice8],\n",
        "       simple_regret_approx_8[slice8],\n",
        "       simple_regret_approx_9[slice8],\n",
        "       simple_regret_approx_10[slice8],\n",
        "       simple_regret_approx_11[slice8],\n",
        "       simple_regret_approx_12[slice8],\n",
        "       simple_regret_approx_13[slice8],\n",
        "       simple_regret_approx_14[slice8],\n",
        "       simple_regret_approx_15[slice8],\n",
        "       simple_regret_approx_16[slice8],\n",
        "       simple_regret_approx_17[slice8],\n",
        "       simple_regret_approx_18[slice8],\n",
        "       simple_regret_approx_19[slice8],\n",
        "       simple_regret_approx_20[slice8]]\n",
        "\n",
        "exact8 = [simple_regret_exact_1[slice8],\n",
        "       simple_regret_exact_2[slice8],\n",
        "       simple_regret_exact_3[slice8],\n",
        "       simple_regret_exact_4[slice8],\n",
        "       simple_regret_exact_5[slice8],\n",
        "       simple_regret_exact_6[slice8],\n",
        "       simple_regret_exact_7[slice8],\n",
        "       simple_regret_exact_8[slice8],\n",
        "       simple_regret_exact_9[slice8],\n",
        "       simple_regret_exact_10[slice8],\n",
        "       simple_regret_exact_11[slice8],\n",
        "       simple_regret_exact_12[slice8],\n",
        "       simple_regret_exact_13[slice8],\n",
        "       simple_regret_exact_14[slice8],\n",
        "       simple_regret_exact_15[slice8],\n",
        "       simple_regret_exact_16[slice8],\n",
        "       simple_regret_exact_17[slice8],\n",
        "       simple_regret_exact_18[slice8],\n",
        "       simple_regret_exact_19[slice8],\n",
        "       simple_regret_exact_20[slice8]]\n",
        "\n",
        "approx8_results = pd.DataFrame(approx8).sort_values(by=[0], ascending=False)\n",
        "exact8_results = pd.DataFrame(exact8).sort_values(by=[0], ascending=False)\n",
        "\n",
        "### Best simple regret minimization IQR - approx:\n",
        "lower_approx8 = np.asarray(approx8_results[4:5][0])[0]\n",
        "median_approx8 = np.asarray(approx8_results[9:10][0])[0]\n",
        "upper_approx8 = np.asarray(approx8_results[14:15][0])[0]\n",
        "\n",
        "lower_exact8 = np.asarray(exact8_results[4:5][0])[0]\n",
        "median_exact8 = np.asarray(exact8_results[9:10][0])[0]\n",
        "upper_exact8 = np.asarray(exact8_results[14:15][0])[0]"
      ]
    },
    {
      "cell_type": "code",
      "execution_count": 91,
      "metadata": {
        "id": "2Dp-9CC2Qxf9"
      },
      "outputs": [],
      "source": [
        "# Iteration18 :\n",
        "\n",
        "slice18 = 17\n",
        "\n",
        "approx18 = [simple_regret_approx_1[slice18],\n",
        "       simple_regret_approx_2[slice18],\n",
        "       simple_regret_approx_3[slice18],\n",
        "       simple_regret_approx_4[slice18],\n",
        "       simple_regret_approx_5[slice18],\n",
        "       simple_regret_approx_6[slice18],\n",
        "       simple_regret_approx_7[slice18],\n",
        "       simple_regret_approx_8[slice18],\n",
        "       simple_regret_approx_9[slice18],\n",
        "       simple_regret_approx_10[slice18],\n",
        "       simple_regret_approx_11[slice18],\n",
        "       simple_regret_approx_12[slice18],\n",
        "       simple_regret_approx_13[slice18],\n",
        "       simple_regret_approx_14[slice18],\n",
        "       simple_regret_approx_15[slice18],\n",
        "       simple_regret_approx_16[slice18],\n",
        "       simple_regret_approx_17[slice18],\n",
        "       simple_regret_approx_18[slice18],\n",
        "       simple_regret_approx_19[slice18],\n",
        "       simple_regret_approx_20[slice18]]\n",
        "\n",
        "exact18 = [simple_regret_exact_1[slice18],\n",
        "       simple_regret_exact_2[slice18],\n",
        "       simple_regret_exact_3[slice18],\n",
        "       simple_regret_exact_4[slice18],\n",
        "       simple_regret_exact_5[slice18],\n",
        "       simple_regret_exact_6[slice18],\n",
        "       simple_regret_exact_7[slice18],\n",
        "       simple_regret_exact_8[slice18],\n",
        "       simple_regret_exact_9[slice18],\n",
        "       simple_regret_exact_10[slice18],\n",
        "       simple_regret_exact_11[slice18],\n",
        "       simple_regret_exact_12[slice18],\n",
        "       simple_regret_exact_13[slice18],\n",
        "       simple_regret_exact_14[slice18],\n",
        "       simple_regret_exact_15[slice18],\n",
        "       simple_regret_exact_16[slice18],\n",
        "       simple_regret_exact_17[slice18],\n",
        "       simple_regret_exact_18[slice18],\n",
        "       simple_regret_exact_19[slice18],\n",
        "       simple_regret_exact_20[slice18]]\n",
        "\n",
        "approx18_results = pd.DataFrame(approx18).sort_values(by=[0], ascending=False)\n",
        "exact18_results = pd.DataFrame(exact18).sort_values(by=[0], ascending=False)\n",
        "\n",
        "### Best simple regret minimization IQR - approx:\n",
        "lower_approx18 = np.asarray(approx18_results[4:5][0])[0]\n",
        "median_approx18 = np.asarray(approx18_results[9:10][0])[0]\n",
        "upper_approx18 = np.asarray(approx18_results[14:15][0])[0]\n",
        "\n",
        "lower_exact18 = np.asarray(exact18_results[4:5][0])[0]\n",
        "median_exact18 = np.asarray(exact18_results[9:10][0])[0]\n",
        "upper_exact18 = np.asarray(exact18_results[14:15][0])[0]"
      ]
    },
    {
      "cell_type": "code",
      "execution_count": 92,
      "metadata": {
        "id": "SqiaOpB7Qxf9"
      },
      "outputs": [],
      "source": [
        "# Iteration9 :\n",
        "\n",
        "slice9 = 8\n",
        "\n",
        "approx9 = [simple_regret_approx_1[slice9],\n",
        "       simple_regret_approx_2[slice9],\n",
        "       simple_regret_approx_3[slice9],\n",
        "       simple_regret_approx_4[slice9],\n",
        "       simple_regret_approx_5[slice9],\n",
        "       simple_regret_approx_6[slice9],\n",
        "       simple_regret_approx_7[slice9],\n",
        "       simple_regret_approx_8[slice9],\n",
        "       simple_regret_approx_9[slice9],\n",
        "       simple_regret_approx_10[slice9],\n",
        "       simple_regret_approx_11[slice9],\n",
        "       simple_regret_approx_12[slice9],\n",
        "       simple_regret_approx_13[slice9],\n",
        "       simple_regret_approx_14[slice9],\n",
        "       simple_regret_approx_15[slice9],\n",
        "       simple_regret_approx_16[slice9],\n",
        "       simple_regret_approx_17[slice9],\n",
        "       simple_regret_approx_18[slice9],\n",
        "       simple_regret_approx_19[slice9],\n",
        "       simple_regret_approx_20[slice9]]\n",
        "\n",
        "exact9 = [simple_regret_exact_1[slice9],\n",
        "       simple_regret_exact_2[slice9],\n",
        "       simple_regret_exact_3[slice9],\n",
        "       simple_regret_exact_4[slice9],\n",
        "       simple_regret_exact_5[slice9],\n",
        "       simple_regret_exact_6[slice9],\n",
        "       simple_regret_exact_7[slice9],\n",
        "       simple_regret_exact_8[slice9],\n",
        "       simple_regret_exact_9[slice9],\n",
        "       simple_regret_exact_10[slice9],\n",
        "       simple_regret_exact_11[slice9],\n",
        "       simple_regret_exact_12[slice9],\n",
        "       simple_regret_exact_13[slice9],\n",
        "       simple_regret_exact_14[slice9],\n",
        "       simple_regret_exact_15[slice9],\n",
        "       simple_regret_exact_16[slice9],\n",
        "       simple_regret_exact_17[slice9],\n",
        "       simple_regret_exact_18[slice9],\n",
        "       simple_regret_exact_19[slice9],\n",
        "       simple_regret_exact_20[slice9]]\n",
        "\n",
        "approx9_results = pd.DataFrame(approx9).sort_values(by=[0], ascending=False)\n",
        "exact9_results = pd.DataFrame(exact9).sort_values(by=[0], ascending=False)\n",
        "\n",
        "### Best simple regret minimization IQR - approx:\n",
        "lower_approx9 = np.asarray(approx9_results[4:5][0])[0]\n",
        "median_approx9 = np.asarray(approx9_results[9:10][0])[0]\n",
        "upper_approx9 = np.asarray(approx9_results[14:15][0])[0]\n",
        "\n",
        "lower_exact9 = np.asarray(exact9_results[4:5][0])[0]\n",
        "median_exact9 = np.asarray(exact9_results[9:10][0])[0]\n",
        "upper_exact9 = np.asarray(exact9_results[14:15][0])[0]"
      ]
    },
    {
      "cell_type": "code",
      "execution_count": 93,
      "metadata": {
        "id": "OQkCCOsPQxf9"
      },
      "outputs": [],
      "source": [
        "# Iteration19 :\n",
        "\n",
        "slice19 = 18\n",
        "\n",
        "approx19 = [simple_regret_approx_1[slice19],\n",
        "       simple_regret_approx_2[slice19],\n",
        "       simple_regret_approx_3[slice19],\n",
        "       simple_regret_approx_4[slice19],\n",
        "       simple_regret_approx_5[slice19],\n",
        "       simple_regret_approx_6[slice19],\n",
        "       simple_regret_approx_7[slice19],\n",
        "       simple_regret_approx_8[slice19],\n",
        "       simple_regret_approx_9[slice19],\n",
        "       simple_regret_approx_10[slice19],\n",
        "       simple_regret_approx_11[slice19],\n",
        "       simple_regret_approx_12[slice19],\n",
        "       simple_regret_approx_13[slice19],\n",
        "       simple_regret_approx_14[slice19],\n",
        "       simple_regret_approx_15[slice19],\n",
        "       simple_regret_approx_16[slice19],\n",
        "       simple_regret_approx_17[slice19],\n",
        "       simple_regret_approx_18[slice19],\n",
        "       simple_regret_approx_19[slice19],\n",
        "       simple_regret_approx_20[slice19]]\n",
        "\n",
        "exact19 = [simple_regret_exact_1[slice19],\n",
        "       simple_regret_exact_2[slice19],\n",
        "       simple_regret_exact_3[slice19],\n",
        "       simple_regret_exact_4[slice19],\n",
        "       simple_regret_exact_5[slice19],\n",
        "       simple_regret_exact_6[slice19],\n",
        "       simple_regret_exact_7[slice19],\n",
        "       simple_regret_exact_8[slice19],\n",
        "       simple_regret_exact_9[slice19],\n",
        "       simple_regret_exact_10[slice19],\n",
        "       simple_regret_exact_11[slice19],\n",
        "       simple_regret_exact_12[slice19],\n",
        "       simple_regret_exact_13[slice19],\n",
        "       simple_regret_exact_14[slice19],\n",
        "       simple_regret_exact_15[slice19],\n",
        "       simple_regret_exact_16[slice19],\n",
        "       simple_regret_exact_17[slice19],\n",
        "       simple_regret_exact_18[slice19],\n",
        "       simple_regret_exact_19[slice19],\n",
        "       simple_regret_exact_20[slice19]]\n",
        "\n",
        "approx19_results = pd.DataFrame(approx19).sort_values(by=[0], ascending=False)\n",
        "exact19_results = pd.DataFrame(exact19).sort_values(by=[0], ascending=False)\n",
        "\n",
        "### Best simple regret minimization IQR - approx:\n",
        "lower_approx19 = np.asarray(approx19_results[4:5][0])[0]\n",
        "median_approx19 = np.asarray(approx19_results[9:10][0])[0]\n",
        "upper_approx19 = np.asarray(approx19_results[14:15][0])[0]\n",
        "\n",
        "lower_exact19 = np.asarray(exact19_results[4:5][0])[0]\n",
        "median_exact19 = np.asarray(exact19_results[9:10][0])[0]\n",
        "upper_exact19 = np.asarray(exact19_results[14:15][0])[0]"
      ]
    },
    {
      "cell_type": "code",
      "execution_count": 94,
      "metadata": {
        "id": "h4vtWahcQxf-"
      },
      "outputs": [],
      "source": [
        "# Iteration10 :\n",
        "\n",
        "slice10 = 9\n",
        "\n",
        "approx10 = [simple_regret_approx_1[slice10],\n",
        "       simple_regret_approx_2[slice10],\n",
        "       simple_regret_approx_3[slice10],\n",
        "       simple_regret_approx_4[slice10],\n",
        "       simple_regret_approx_5[slice10],\n",
        "       simple_regret_approx_6[slice10],\n",
        "       simple_regret_approx_7[slice10],\n",
        "       simple_regret_approx_8[slice10],\n",
        "       simple_regret_approx_9[slice10],\n",
        "       simple_regret_approx_10[slice10],\n",
        "       simple_regret_approx_11[slice10],\n",
        "       simple_regret_approx_12[slice10],\n",
        "       simple_regret_approx_13[slice10],\n",
        "       simple_regret_approx_14[slice10],\n",
        "       simple_regret_approx_15[slice10],\n",
        "       simple_regret_approx_16[slice10],\n",
        "       simple_regret_approx_17[slice10],\n",
        "       simple_regret_approx_18[slice10],\n",
        "       simple_regret_approx_19[slice10],\n",
        "       simple_regret_approx_20[slice10]]\n",
        "\n",
        "exact10 = [simple_regret_exact_1[slice10],\n",
        "       simple_regret_exact_2[slice10],\n",
        "       simple_regret_exact_3[slice10],\n",
        "       simple_regret_exact_4[slice10],\n",
        "       simple_regret_exact_5[slice10],\n",
        "       simple_regret_exact_6[slice10],\n",
        "       simple_regret_exact_7[slice10],\n",
        "       simple_regret_exact_8[slice10],\n",
        "       simple_regret_exact_9[slice10],\n",
        "       simple_regret_exact_10[slice10],\n",
        "       simple_regret_exact_11[slice10],\n",
        "       simple_regret_exact_12[slice10],\n",
        "       simple_regret_exact_13[slice10],\n",
        "       simple_regret_exact_14[slice10],\n",
        "       simple_regret_exact_15[slice10],\n",
        "       simple_regret_exact_16[slice10],\n",
        "       simple_regret_exact_17[slice10],\n",
        "       simple_regret_exact_18[slice10],\n",
        "       simple_regret_exact_19[slice10],\n",
        "       simple_regret_exact_20[slice10]]\n",
        "\n",
        "approx10_results = pd.DataFrame(approx10).sort_values(by=[0], ascending=False)\n",
        "exact10_results = pd.DataFrame(exact10).sort_values(by=[0], ascending=False)\n",
        "\n",
        "### Best simple regret minimization IQR - approx:\n",
        "lower_approx10 = np.asarray(approx10_results[4:5][0])[0]\n",
        "median_approx10 = np.asarray(approx10_results[9:10][0])[0]\n",
        "upper_approx10 = np.asarray(approx10_results[14:15][0])[0]\n",
        "\n",
        "lower_exact10 = np.asarray(exact10_results[4:5][0])[0]\n",
        "median_exact10 = np.asarray(exact10_results[9:10][0])[0]\n",
        "upper_exact10 = np.asarray(exact10_results[14:15][0])[0]"
      ]
    },
    {
      "cell_type": "code",
      "execution_count": 95,
      "metadata": {
        "id": "Rsf240pWQxf-"
      },
      "outputs": [],
      "source": [
        "# Iteration20 :\n",
        "\n",
        "slice20 = 19\n",
        "\n",
        "approx20 = [simple_regret_approx_1[slice20],\n",
        "       simple_regret_approx_2[slice20],\n",
        "       simple_regret_approx_3[slice20],\n",
        "       simple_regret_approx_4[slice20],\n",
        "       simple_regret_approx_5[slice20],\n",
        "       simple_regret_approx_6[slice20],\n",
        "       simple_regret_approx_7[slice20],\n",
        "       simple_regret_approx_8[slice20],\n",
        "       simple_regret_approx_9[slice20],\n",
        "       simple_regret_approx_10[slice20],\n",
        "       simple_regret_approx_11[slice20],\n",
        "       simple_regret_approx_12[slice20],\n",
        "       simple_regret_approx_13[slice20],\n",
        "       simple_regret_approx_14[slice20],\n",
        "       simple_regret_approx_15[slice20],\n",
        "       simple_regret_approx_16[slice20],\n",
        "       simple_regret_approx_17[slice20],\n",
        "       simple_regret_approx_18[slice20],\n",
        "       simple_regret_approx_19[slice20],\n",
        "       simple_regret_approx_20[slice20]]\n",
        "\n",
        "exact20 = [simple_regret_exact_1[slice20],\n",
        "       simple_regret_exact_2[slice20],\n",
        "       simple_regret_exact_3[slice20],\n",
        "       simple_regret_exact_4[slice20],\n",
        "       simple_regret_exact_5[slice20],\n",
        "       simple_regret_exact_6[slice20],\n",
        "       simple_regret_exact_7[slice20],\n",
        "       simple_regret_exact_8[slice20],\n",
        "       simple_regret_exact_9[slice20],\n",
        "       simple_regret_exact_10[slice20],\n",
        "       simple_regret_exact_11[slice20],\n",
        "       simple_regret_exact_12[slice20],\n",
        "       simple_regret_exact_13[slice20],\n",
        "       simple_regret_exact_14[slice20],\n",
        "       simple_regret_exact_15[slice20],\n",
        "       simple_regret_exact_16[slice20],\n",
        "       simple_regret_exact_17[slice20],\n",
        "       simple_regret_exact_18[slice20],\n",
        "       simple_regret_exact_19[slice20],\n",
        "       simple_regret_exact_20[slice20]]\n",
        "\n",
        "approx20_results = pd.DataFrame(approx20).sort_values(by=[0], ascending=False)\n",
        "exact20_results = pd.DataFrame(exact20).sort_values(by=[0], ascending=False)\n",
        "\n",
        "### Best simple regret minimization IQR - approx:\n",
        "lower_approx20 = np.asarray(approx20_results[4:5][0])[0]\n",
        "median_approx20 = np.asarray(approx20_results[9:10][0])[0]\n",
        "upper_approx20 = np.asarray(approx20_results[14:15][0])[0]\n",
        "\n",
        "lower_exact20 = np.asarray(exact20_results[4:5][0])[0]\n",
        "median_exact20 = np.asarray(exact20_results[9:10][0])[0]\n",
        "upper_exact20 = np.asarray(exact20_results[14:15][0])[0]"
      ]
    },
    {
      "cell_type": "code",
      "execution_count": 96,
      "metadata": {
        "id": "gn36RejbQxf_"
      },
      "outputs": [],
      "source": [
        "### Summarize arrays: 'Loser'\n",
        "\n",
        "lower_approx = [lower_approx1,\n",
        "            lower_approx2,\n",
        "            lower_approx3,\n",
        "            lower_approx4,\n",
        "            lower_approx5,\n",
        "            lower_approx6,\n",
        "            lower_approx7,\n",
        "            lower_approx8,\n",
        "            lower_approx9,\n",
        "            lower_approx10,\n",
        "            lower_approx11,\n",
        "            lower_approx12,\n",
        "            lower_approx13,\n",
        "            lower_approx14,\n",
        "            lower_approx15,\n",
        "            lower_approx16,\n",
        "            lower_approx17,\n",
        "            lower_approx18,\n",
        "            lower_approx19,\n",
        "            lower_approx20,\n",
        "            lower_approx21]\n",
        "\n",
        "median_approx = [median_approx1,\n",
        "            median_approx2,\n",
        "            median_approx3,\n",
        "            median_approx4,\n",
        "            median_approx5,\n",
        "            median_approx6,\n",
        "            median_approx7,\n",
        "            median_approx8,\n",
        "            median_approx9,\n",
        "            median_approx10,\n",
        "            median_approx11,\n",
        "            median_approx12,\n",
        "            median_approx13,\n",
        "            median_approx14,\n",
        "            median_approx15,\n",
        "            median_approx16,\n",
        "            median_approx17,\n",
        "            median_approx18,\n",
        "            median_approx19,\n",
        "            median_approx20,\n",
        "            median_approx21]\n",
        "\n",
        "upper_approx = [upper_approx1,\n",
        "            upper_approx2,\n",
        "            upper_approx3,\n",
        "            upper_approx4,\n",
        "            upper_approx5,\n",
        "            upper_approx6,\n",
        "            upper_approx7,\n",
        "            upper_approx8,\n",
        "            upper_approx9,\n",
        "            upper_approx10,\n",
        "            upper_approx11,\n",
        "            upper_approx12,\n",
        "            upper_approx13,\n",
        "            upper_approx14,\n",
        "            upper_approx15,\n",
        "            upper_approx16,\n",
        "            upper_approx17,\n",
        "            upper_approx18,\n",
        "            upper_approx19,\n",
        "            upper_approx20,\n",
        "            upper_approx21]"
      ]
    },
    {
      "cell_type": "code",
      "execution_count": 97,
      "metadata": {
        "id": "wxtGTOYfQxf_"
      },
      "outputs": [],
      "source": [
        "### Summarize arrays: 'exact'\n",
        "\n",
        "lower_exact = [lower_exact1,\n",
        "            lower_exact2,\n",
        "            lower_exact3,\n",
        "            lower_exact4,\n",
        "            lower_exact5,\n",
        "            lower_exact6,\n",
        "            lower_exact7,\n",
        "            lower_exact8,\n",
        "            lower_exact9,\n",
        "            lower_exact10,\n",
        "            lower_exact11,\n",
        "            lower_exact12,\n",
        "            lower_exact13,\n",
        "            lower_exact14,\n",
        "            lower_exact15,\n",
        "            lower_exact16,\n",
        "            lower_exact17,\n",
        "            lower_exact18,\n",
        "            lower_exact19,\n",
        "            lower_exact20,\n",
        "            lower_exact21]\n",
        "\n",
        "median_exact = [median_exact1,\n",
        "            median_exact2,\n",
        "            median_exact3,\n",
        "            median_exact4,\n",
        "            median_exact5,\n",
        "            median_exact6,\n",
        "            median_exact7,\n",
        "            median_exact8,\n",
        "            median_exact9,\n",
        "            median_exact10,\n",
        "            median_exact11,\n",
        "            median_exact12,\n",
        "            median_exact13,\n",
        "            median_exact14,\n",
        "            median_exact15,\n",
        "            median_exact16,\n",
        "            median_exact17,\n",
        "            median_exact18,\n",
        "            median_exact19,\n",
        "            median_exact20,\n",
        "            median_exact21]\n",
        "\n",
        "upper_exact = [upper_exact1,\n",
        "            upper_exact2,\n",
        "            upper_exact3,\n",
        "            upper_exact4,\n",
        "            upper_exact5,\n",
        "            upper_exact6,\n",
        "            upper_exact7,\n",
        "            upper_exact8,\n",
        "            upper_exact9,\n",
        "            upper_exact10,\n",
        "            upper_exact11,\n",
        "            upper_exact12,\n",
        "            upper_exact13,\n",
        "            upper_exact14,\n",
        "            upper_exact15,\n",
        "            upper_exact16,\n",
        "            upper_exact17,\n",
        "            upper_exact18,\n",
        "            upper_exact19,\n",
        "            upper_exact20,\n",
        "            upper_exact21]"
      ]
    },
    {
      "cell_type": "code",
      "execution_count": 98,
      "metadata": {
        "id": "2MONq-BXQxgA",
        "colab": {
          "base_uri": "https://localhost:8080/",
          "height": 299
        },
        "outputId": "0b4ae1f6-a42a-4c45-d714-9328f28471a0"
      },
      "outputs": [
        {
          "output_type": "display_data",
          "data": {
            "text/plain": [
              "<Figure size 432x288 with 1 Axes>"
            ],
            "image/png": "[encoded data removed]"
          },
          "metadata": {
            "needs_background": "light"
          }
        }
      ],
      "source": [
        "### Visualise!\n",
        "\n",
        "title = func\n",
        "plt.figure()\n",
        "\n",
        "plt.plot(median_approx, color = 'Purple')\n",
        "plt.plot(median_exact, color = 'Orange')\n",
        "\n",
        "xstar = np.arange(0, iters+1, step=1)\n",
        "plt.fill_between(xstar, lower_approx, upper_approx, facecolor = 'Purple', alpha=0.4, label='GP CBM Optimization: Approx GP CBM gradients')\n",
        "plt.fill_between(xstar, lower_exact, upper_exact, facecolor = 'Orange', alpha=0.4, label='GP CBM Optimization: Exact GP dCBM gradients')\n",
        "\n",
        "plt.title(title, weight = 'bold')\n",
        "plt.xlabel('(Post-initialization) iteration $\\it{k}$', weight = 'bold')\n",
        "plt.ylabel('log(Regret)', weight = 'bold') \n",
        "plt.legend(loc=0) # add plot legend\n",
        "\n",
        "### Make the x-ticks integers, not floats:\n",
        "count = len(xstar)\n",
        "plt.xticks(np.arange(count), np.arange(0, count))\n",
        "plt.show() #visualize!"
      ]
    },
    {
      "cell_type": "code",
      "execution_count": 99,
      "metadata": {
        "id": "l5dkR2Id2oiu",
        "colab": {
          "base_uri": "https://localhost:8080/"
        },
        "outputId": "1cdd7536-b7d6-4cd0-afdb-b661f6e43f4c"
      },
      "outputs": [
        {
          "output_type": "execute_result",
          "data": {
            "text/plain": [
              "(803.6341755390167, 764.5032947063446)"
            ]
          },
          "metadata": {},
          "execution_count": 99
        }
      ],
      "source": [
        "time_approx, time_exact\n"
      ]
    },
    {
      "cell_type": "code",
      "source": [
        "### acqFunc attribute x, stddev: run number = 1\n",
        "\n",
        "acqFuncApprox_exact_1 = acqFuncApprox(exact_1.history)\n",
        "acqFuncExact_exact_1 = acqFuncExact(exact_1.history)\n",
        "\n",
        "e1 = np.mean(acqFuncExact_exact_1)\n",
        "a1 = np.mean(acqFuncApprox_exact_1)\n",
        "\n",
        "e1, a1\n"
      ],
      "metadata": {
        "colab": {
          "base_uri": "https://localhost:8080/"
        },
        "id": "uwxv4dmfGsLr",
        "outputId": "8775a377-79e7-43e4-e8ee-d75b42c0e377"
      },
      "execution_count": 100,
      "outputs": [
        {
          "output_type": "execute_result",
          "data": {
            "text/plain": [
              "(3.0263247205818526, 3.135603887381737)"
            ]
          },
          "metadata": {},
          "execution_count": 100
        }
      ]
    },
    {
      "cell_type": "code",
      "source": [
        "### acqFunc attribute x, stddev: run number = 2\n",
        "\n",
        "acqFuncApprox_exact_2 = acqFuncApprox(exact_2.history)\n",
        "acqFuncExact_exact_2 = acqFuncExact(exact_2.history)\n",
        "\n",
        "e2 = np.mean(acqFuncExact_exact_2)\n",
        "a2 = np.mean(acqFuncApprox_exact_2)\n",
        "\n",
        "e2, a2\n"
      ],
      "metadata": {
        "colab": {
          "base_uri": "https://localhost:8080/"
        },
        "id": "0YSV00_pGsXe",
        "outputId": "0cd7a2c3-03e9-4d92-e7b4-aca960c25f55"
      },
      "execution_count": 101,
      "outputs": [
        {
          "output_type": "execute_result",
          "data": {
            "text/plain": [
              "(2.792359805600015, 3.0041947722122075)"
            ]
          },
          "metadata": {},
          "execution_count": 101
        }
      ]
    },
    {
      "cell_type": "code",
      "source": [
        "### acqFunc attribute x, stddev: run number = 3\n",
        "\n",
        "acqFuncApprox_exact_3 = acqFuncApprox(exact_3.history)\n",
        "acqFuncExact_exact_3 = acqFuncExact(exact_3.history)\n",
        "\n",
        "e3 = np.mean(acqFuncExact_exact_3)\n",
        "a3 = np.mean(acqFuncApprox_exact_3)\n",
        "\n",
        "e3, a3\n"
      ],
      "metadata": {
        "colab": {
          "base_uri": "https://localhost:8080/"
        },
        "id": "HHVmsd2UGsjT",
        "outputId": "c6079c0e-5972-4fe9-bf48-71238fbf1284"
      },
      "execution_count": 102,
      "outputs": [
        {
          "output_type": "execute_result",
          "data": {
            "text/plain": [
              "(2.9287054753737225, 3.0070105449183724)"
            ]
          },
          "metadata": {},
          "execution_count": 102
        }
      ]
    },
    {
      "cell_type": "code",
      "source": [
        "### acqFunc attribute x, stddev: run number = 4\n",
        "\n",
        "acqFuncApprox_exact_4 = acqFuncApprox(exact_4.history)\n",
        "acqFuncExact_exact_4 = acqFuncExact(exact_4.history)\n",
        "\n",
        "e4 = np.mean(acqFuncExact_exact_4)\n",
        "a4 = np.mean(acqFuncApprox_exact_4)\n",
        "\n",
        "e4, a4\n"
      ],
      "metadata": {
        "colab": {
          "base_uri": "https://localhost:8080/"
        },
        "id": "r7O19S2eGsu7",
        "outputId": "6c75c6ee-00ba-4cf9-9646-3948f7c2efed"
      },
      "execution_count": 103,
      "outputs": [
        {
          "output_type": "execute_result",
          "data": {
            "text/plain": [
              "(2.9426571468641014, 3.0745860118637136)"
            ]
          },
          "metadata": {},
          "execution_count": 103
        }
      ]
    },
    {
      "cell_type": "code",
      "source": [
        "### acqFunc attribute x, stddev: run number = 5\n",
        "\n",
        "acqFuncApprox_exact_5 = acqFuncApprox(exact_5.history)\n",
        "acqFuncExact_exact_5 = acqFuncExact(exact_5.history)\n",
        "\n",
        "e5 = np.mean(acqFuncExact_exact_5)\n",
        "a5 = np.mean(acqFuncApprox_exact_5)\n",
        "\n",
        "e5, a5\n"
      ],
      "metadata": {
        "colab": {
          "base_uri": "https://localhost:8080/"
        },
        "id": "sdb9o6NuGs5m",
        "outputId": "f89fba25-83c6-4218-be76-256ca6118cbe"
      },
      "execution_count": 104,
      "outputs": [
        {
          "output_type": "execute_result",
          "data": {
            "text/plain": [
              "(2.7447308972591653, 2.9858207975398203)"
            ]
          },
          "metadata": {},
          "execution_count": 104
        }
      ]
    },
    {
      "cell_type": "code",
      "source": [
        "### acqFunc attribute x, stddev: run number = 6\n",
        "\n",
        "acqFuncApprox_exact_6 = acqFuncApprox(exact_6.history)\n",
        "acqFuncExact_exact_6 = acqFuncExact(exact_6.history)\n",
        "\n",
        "e6 = np.mean(acqFuncExact_exact_6)\n",
        "a6 = np.mean(acqFuncApprox_exact_6)\n",
        "\n",
        "e6, a6\n"
      ],
      "metadata": {
        "colab": {
          "base_uri": "https://localhost:8080/"
        },
        "id": "COQl7LZ8GtE0",
        "outputId": "91ff021b-426c-478c-efd1-03d44690eea6"
      },
      "execution_count": 105,
      "outputs": [
        {
          "output_type": "execute_result",
          "data": {
            "text/plain": [
              "(2.785645993312301, 3.088816379026372)"
            ]
          },
          "metadata": {},
          "execution_count": 105
        }
      ]
    },
    {
      "cell_type": "code",
      "source": [
        "### acqFunc attribute x, stddev: run number = 7\n",
        "\n",
        "acqFuncApprox_exact_7 = acqFuncApprox(exact_7.history)\n",
        "acqFuncExact_exact_7 = acqFuncExact(exact_7.history)\n",
        "\n",
        "e7 = np.mean(acqFuncExact_exact_7)\n",
        "a7 = np.mean(acqFuncApprox_exact_7)\n",
        "\n",
        "e7, a7\n"
      ],
      "metadata": {
        "colab": {
          "base_uri": "https://localhost:8080/"
        },
        "id": "2gy9EtTzGtP7",
        "outputId": "3eae2d94-2c17-47d0-d102-78e6f791ada9"
      },
      "execution_count": 106,
      "outputs": [
        {
          "output_type": "execute_result",
          "data": {
            "text/plain": [
              "(3.011226654073112, 3.1263668826537003)"
            ]
          },
          "metadata": {},
          "execution_count": 106
        }
      ]
    },
    {
      "cell_type": "code",
      "source": [
        "### acqFunc attribute x, stddev: run number = 8\n",
        "\n",
        "acqFuncApprox_exact_8 = acqFuncApprox(exact_8.history)\n",
        "acqFuncExact_exact_8 = acqFuncExact(exact_8.history)\n",
        "\n",
        "e8 = np.mean(acqFuncExact_exact_8)\n",
        "a8 = np.mean(acqFuncApprox_exact_8)\n",
        "\n",
        "e8, a8\n"
      ],
      "metadata": {
        "colab": {
          "base_uri": "https://localhost:8080/"
        },
        "id": "S7mn0qoMGtbM",
        "outputId": "d3ed32d1-ab99-496b-b4bf-a102c8679040"
      },
      "execution_count": 107,
      "outputs": [
        {
          "output_type": "execute_result",
          "data": {
            "text/plain": [
              "(3.120412221841825, 3.2655819957723304)"
            ]
          },
          "metadata": {},
          "execution_count": 107
        }
      ]
    },
    {
      "cell_type": "code",
      "source": [
        "### acqFunc attribute x, stddev: run number = 9\n",
        "\n",
        "acqFuncApprox_exact_9 = acqFuncApprox(exact_9.history)\n",
        "acqFuncExact_exact_9 = acqFuncExact(exact_9.history)\n",
        "\n",
        "e9 = np.mean(acqFuncExact_exact_9)\n",
        "a9 = np.mean(acqFuncApprox_exact_9)\n",
        "\n",
        "e9, a9\n"
      ],
      "metadata": {
        "colab": {
          "base_uri": "https://localhost:8080/"
        },
        "id": "BhljmkNxGtms",
        "outputId": "70dcece4-38d0-496c-cbf2-db251abd7142"
      },
      "execution_count": 108,
      "outputs": [
        {
          "output_type": "execute_result",
          "data": {
            "text/plain": [
              "(2.8057988839705605, 3.339342269831338)"
            ]
          },
          "metadata": {},
          "execution_count": 108
        }
      ]
    },
    {
      "cell_type": "code",
      "source": [
        "### acqFunc attribute x, stddev: run number = 10\n",
        "\n",
        "acqFuncApprox_exact_10 = acqFuncApprox(exact_10.history)\n",
        "acqFuncExact_exact_10 = acqFuncExact(exact_10.history)\n",
        "\n",
        "e10 = np.mean(acqFuncExact_exact_10)\n",
        "a10 = np.mean(acqFuncApprox_exact_10)\n",
        "\n",
        "e10, a10\n"
      ],
      "metadata": {
        "colab": {
          "base_uri": "https://localhost:8080/"
        },
        "id": "W5GZo6k3Gtx8",
        "outputId": "2526fa4c-3f8c-4a3f-e085-d7f07349ad03"
      },
      "execution_count": 109,
      "outputs": [
        {
          "output_type": "execute_result",
          "data": {
            "text/plain": [
              "(3.210889111697662, 3.3498235417215505)"
            ]
          },
          "metadata": {},
          "execution_count": 109
        }
      ]
    },
    {
      "cell_type": "code",
      "source": [
        "### acqFunc attribute x, stddev: run number = 11\n",
        "\n",
        "acqFuncApprox_exact_11 = acqFuncApprox(exact_11.history)\n",
        "acqFuncExact_exact_11 = acqFuncExact(exact_11.history)\n",
        "\n",
        "e11 = np.mean(acqFuncExact_exact_11)\n",
        "a11 = np.mean(acqFuncApprox_exact_11)\n",
        "\n",
        "e11, a11\n"
      ],
      "metadata": {
        "colab": {
          "base_uri": "https://localhost:8080/"
        },
        "id": "isKNhDk5Gt9D",
        "outputId": "0aff0216-862f-4f45-e8a4-d55132e552b4"
      },
      "execution_count": 110,
      "outputs": [
        {
          "output_type": "execute_result",
          "data": {
            "text/plain": [
              "(3.3408513476049153, 3.296824940753157)"
            ]
          },
          "metadata": {},
          "execution_count": 110
        }
      ]
    },
    {
      "cell_type": "code",
      "source": [
        "### acqFunc attribute x, stddev: run number = 12\n",
        "\n",
        "acqFuncApprox_exact_12 = acqFuncApprox(exact_12.history)\n",
        "acqFuncExact_exact_12 = acqFuncExact(exact_12.history)\n",
        "\n",
        "e12 = np.mean(acqFuncExact_exact_12)\n",
        "a12 = np.mean(acqFuncApprox_exact_12)\n",
        "\n",
        "e12, a12\n"
      ],
      "metadata": {
        "colab": {
          "base_uri": "https://localhost:8080/"
        },
        "id": "8ts-wrSuGuIm",
        "outputId": "439d9bb9-74b4-4d0d-f207-69995c6970ff"
      },
      "execution_count": 111,
      "outputs": [
        {
          "output_type": "execute_result",
          "data": {
            "text/plain": [
              "(2.710944762546154, 2.85021389845327)"
            ]
          },
          "metadata": {},
          "execution_count": 111
        }
      ]
    },
    {
      "cell_type": "code",
      "source": [
        "### acqFunc attribute x, stddev: run number = 13\n",
        "\n",
        "acqFuncApprox_exact_13 = acqFuncApprox(exact_13.history)\n",
        "acqFuncExact_exact_13 = acqFuncExact(exact_13.history)\n",
        "\n",
        "e13 = np.mean(acqFuncExact_exact_13)\n",
        "a13 = np.mean(acqFuncApprox_exact_13)\n",
        "\n",
        "e13, a13\n"
      ],
      "metadata": {
        "colab": {
          "base_uri": "https://localhost:8080/"
        },
        "id": "n0drhEe3GuUL",
        "outputId": "0a980f91-4057-4f70-e793-5750f1ffffa8"
      },
      "execution_count": 112,
      "outputs": [
        {
          "output_type": "execute_result",
          "data": {
            "text/plain": [
              "(2.893069136122313, 3.3504811334482794)"
            ]
          },
          "metadata": {},
          "execution_count": 112
        }
      ]
    },
    {
      "cell_type": "code",
      "source": [
        "### acqFunc attribute x, stddev: run number = 14\n",
        "\n",
        "acqFuncApprox_exact_14 = acqFuncApprox(exact_14.history)\n",
        "acqFuncExact_exact_14 = acqFuncExact(exact_14.history)\n",
        "\n",
        "e14 = np.mean(acqFuncExact_exact_14)\n",
        "a14 = np.mean(acqFuncApprox_exact_14)\n",
        "\n",
        "e14, a14\n"
      ],
      "metadata": {
        "colab": {
          "base_uri": "https://localhost:8080/"
        },
        "id": "R0W3MZaVGues",
        "outputId": "717738fe-1d75-4068-8991-7b03a1187c6f"
      },
      "execution_count": 113,
      "outputs": [
        {
          "output_type": "execute_result",
          "data": {
            "text/plain": [
              "(2.7532933547257343, 3.0501877959123416)"
            ]
          },
          "metadata": {},
          "execution_count": 113
        }
      ]
    },
    {
      "cell_type": "code",
      "source": [
        "### acqFunc attribute x, stddev: run number = 15\n",
        "\n",
        "acqFuncApprox_exact_15 = acqFuncApprox(exact_15.history)\n",
        "acqFuncExact_exact_15 = acqFuncExact(exact_15.history)\n",
        "\n",
        "e15 = np.mean(acqFuncExact_exact_15)\n",
        "a15 = np.mean(acqFuncApprox_exact_15)\n",
        "\n",
        "e15, a15\n"
      ],
      "metadata": {
        "colab": {
          "base_uri": "https://localhost:8080/"
        },
        "id": "DoXdDFHoGup-",
        "outputId": "aac9607b-d659-4208-9315-a144d0ae54ae"
      },
      "execution_count": 114,
      "outputs": [
        {
          "output_type": "execute_result",
          "data": {
            "text/plain": [
              "(2.884396278419158, 3.341183383363976)"
            ]
          },
          "metadata": {},
          "execution_count": 114
        }
      ]
    },
    {
      "cell_type": "code",
      "source": [
        "### acqFunc attribute x, stddev: run number = 16\n",
        "\n",
        "acqFuncApprox_exact_16 = acqFuncApprox(exact_16.history)\n",
        "acqFuncExact_exact_16 = acqFuncExact(exact_16.history)\n",
        "\n",
        "e16 = np.mean(acqFuncExact_exact_16)\n",
        "a16 = np.mean(acqFuncApprox_exact_16)\n",
        "\n",
        "e16, a16\n"
      ],
      "metadata": {
        "colab": {
          "base_uri": "https://localhost:8080/"
        },
        "id": "K_wAeqSoGu2j",
        "outputId": "80c54472-381a-4a78-ea3e-d7a6aec8e74c"
      },
      "execution_count": 115,
      "outputs": [
        {
          "output_type": "execute_result",
          "data": {
            "text/plain": [
              "(2.763371309520225, 3.0646964031916526)"
            ]
          },
          "metadata": {},
          "execution_count": 115
        }
      ]
    },
    {
      "cell_type": "code",
      "source": [
        "### acqFunc attribute x, stddev: run number = 17\n",
        "\n",
        "acqFuncApprox_exact_17 = acqFuncApprox(exact_17.history)\n",
        "acqFuncExact_exact_17 = acqFuncExact(exact_17.history)\n",
        "\n",
        "e17 = np.mean(acqFuncExact_exact_17)\n",
        "a17 = np.mean(acqFuncApprox_exact_17)\n",
        "\n",
        "e17, a17\n"
      ],
      "metadata": {
        "colab": {
          "base_uri": "https://localhost:8080/"
        },
        "id": "n6zy78fjGvBT",
        "outputId": "08788914-93e6-4273-b970-9bafe8289e53"
      },
      "execution_count": 116,
      "outputs": [
        {
          "output_type": "execute_result",
          "data": {
            "text/plain": [
              "(2.911763086624359, 3.0929970594421166)"
            ]
          },
          "metadata": {},
          "execution_count": 116
        }
      ]
    },
    {
      "cell_type": "code",
      "source": [
        "### acqFunc attribute x, stddev: run number = 18\n",
        "\n",
        "acqFuncApprox_exact_18 = acqFuncApprox(exact_18.history)\n",
        "acqFuncExact_exact_18 = acqFuncExact(exact_18.history)\n",
        "\n",
        "e18 = np.mean(acqFuncExact_exact_18)\n",
        "a18 = np.mean(acqFuncApprox_exact_18)\n",
        "\n",
        "e18, a18\n"
      ],
      "metadata": {
        "colab": {
          "base_uri": "https://localhost:8080/"
        },
        "id": "s_6_2K4iGvM-",
        "outputId": "7e0890e4-6d0b-44ce-9a22-301d9c9c1c9d"
      },
      "execution_count": 117,
      "outputs": [
        {
          "output_type": "execute_result",
          "data": {
            "text/plain": [
              "(2.8792613709605077, 3.1185382504711527)"
            ]
          },
          "metadata": {},
          "execution_count": 117
        }
      ]
    },
    {
      "cell_type": "code",
      "source": [
        "### acqFunc attribute x, stddev: run number = 19\n",
        "\n",
        "acqFuncApprox_exact_19 = acqFuncApprox(exact_19.history)\n",
        "acqFuncExact_exact_19 = acqFuncExact(exact_19.history)\n",
        "\n",
        "e19 = np.mean(acqFuncExact_exact_19)\n",
        "a19 = np.mean(acqFuncApprox_exact_19)\n",
        "\n",
        "e19, a19\n"
      ],
      "metadata": {
        "colab": {
          "base_uri": "https://localhost:8080/"
        },
        "id": "o8oO8pdBGvYk",
        "outputId": "8241872c-7224-4633-85b5-effc3a8fd974"
      },
      "execution_count": 118,
      "outputs": [
        {
          "output_type": "execute_result",
          "data": {
            "text/plain": [
              "(2.788748930432959, 3.183709512963831)"
            ]
          },
          "metadata": {},
          "execution_count": 118
        }
      ]
    },
    {
      "cell_type": "code",
      "source": [
        "### acqFunc attribute x, stddev: run number = 20\n",
        "\n",
        "acqFuncApprox_exact_20 = acqFuncApprox(exact_20.history)\n",
        "acqFuncExact_exact_20 = acqFuncExact(exact_20.history)\n",
        "\n",
        "e20 = np.mean(acqFuncExact_exact_20)\n",
        "a20 = np.mean(acqFuncApprox_exact_20)\n",
        "\n",
        "e20, a20\n"
      ],
      "metadata": {
        "colab": {
          "base_uri": "https://localhost:8080/"
        },
        "id": "b2w8oLc0IMzU",
        "outputId": "29bbb3f8-8276-4a70-e94d-688cbb9f468c"
      },
      "execution_count": 119,
      "outputs": [
        {
          "output_type": "execute_result",
          "data": {
            "text/plain": [
              "(3.1341204767885436, 3.262300333371757)"
            ]
          },
          "metadata": {},
          "execution_count": 119
        }
      ]
    },
    {
      "cell_type": "code",
      "source": [
        "### Summarize arrays: \n",
        "\n",
        "exact_stddev = np.sort([e1,e2,e3,e4,e5,e6,e7,e8,e9,e10,e11,e12,e13,e14,e15,e16,e17,e18,e19,e20])\n",
        "approx_stddev = np.sort([a1,a2,a3,a4,a5,a6,a7,a8,a9,a10,a11,a12,a13,a14,a15,a16,a17,a18,a19,a20])\n",
        "\n",
        "np.mean(exact_stddev), np.mean(approx_stddev)\n"
      ],
      "metadata": {
        "colab": {
          "base_uri": "https://localhost:8080/"
        },
        "id": "qAZs3yxMIZul",
        "outputId": "0edbd0ca-7d5a-485d-df4f-1e2c6c377072"
      },
      "execution_count": 120,
      "outputs": [
        {
          "output_type": "execute_result",
          "data": {
            "text/plain": [
              "(2.9214285482159594, 3.1494139897146334)"
            ]
          },
          "metadata": {},
          "execution_count": 120
        }
      ]
    },
    {
      "cell_type": "code",
      "source": [
        "### Visualise!\n",
        "\n",
        "title = func\n",
        "plt.figure()\n",
        "\n",
        "plt.plot(approx_stddev, color = 'Purple', ls='-', label='Average $\\sigma$, attribute $\\mathbf{x}$: Approx GP CBM gradients')\n",
        "plt.plot(exact_stddev, color = 'Orange', ls='-.', label='Average $\\sigma$, attribute $\\mathbf{x}$: Exact GP dCBM gradients')\n",
        "\n",
        "plt.title(title, weight = 'bold')\n",
        "plt.xlabel('Function evaluations: iteration $\\it{k}$', weight = 'bold')\n",
        "plt.ylabel('GP CBM: Average $\\sigma$, attribute $\\mathbf{x}$', weight = 'bold') \n",
        "plt.legend(loc=0) # add plot legend\n",
        "\n",
        "### Make the x-ticks integers, not floats:\n",
        "count = len(xstar)\n",
        "plt.xticks(np.arange(count), np.arange(1, count))\n",
        "plt.show() #visualize!\n"
      ],
      "metadata": {
        "colab": {
          "base_uri": "https://localhost:8080/",
          "height": 297
        },
        "id": "e_kpqYcMIZxu",
        "outputId": "0b1f2a99-7979-4714-ca0c-5666a682fa3e"
      },
      "execution_count": 121,
      "outputs": [
        {
          "output_type": "display_data",
          "data": {
            "text/plain": [
              "<Figure size 432x288 with 1 Axes>"
            ],
            "image/png": "[encoded data removed]"
          },
          "metadata": {
            "needs_background": "light"
          }
        }
      ]
    },
    {
      "cell_type": "code",
      "source": [
        ""
      ],
      "metadata": {
        "id": "LToGd4vZIZ3I"
      },
      "execution_count": 121,
      "outputs": []
    }
  ],
  "metadata": {
    "colab": {
      "collapsed_sections": [],
      "name": "3_SumSquares_GP_dCBM.ipynb",
      "provenance": []
    },
    "kernelspec": {
      "display_name": "Python 3",
      "name": "python3"
    },
    "language_info": {
      "name": "python"
    }
  },
  "nbformat": 4,
  "nbformat_minor": 0
}