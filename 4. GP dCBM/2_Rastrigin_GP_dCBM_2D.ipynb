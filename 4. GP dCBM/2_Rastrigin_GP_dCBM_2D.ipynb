{
  "nbformat": 4,
  "nbformat_minor": 0,
  "metadata": {
    "colab": {
      "name": "2. Rastrigin_GP_dCBM_2D.ipynb",
      "provenance": [],
      "collapsed_sections": []
    },
    "kernelspec": {
      "name": "python3",
      "display_name": "Python 3"
    },
    "language_info": {
      "name": "python"
    }
  },
  "cells": [
    {
      "cell_type": "markdown",
      "metadata": {
        "id": "Dqn4dFx7Z2Ir"
      },
      "source": [
        "\n",
        "Rastrigin: 2D\n"
      ]
    },
    {
      "cell_type": "code",
      "metadata": {
        "id": "MJTM_GZZZb5x",
        "colab": {
          "base_uri": "https://localhost:8080/"
        },
        "outputId": "4e765f9d-c476-4553-8f2d-eddba954ffa9"
      },
      "source": [
        "pip install pyGPGO\n"
      ],
      "execution_count": 1,
      "outputs": [
        {
          "output_type": "stream",
          "name": "stdout",
          "text": [
            "Collecting pyGPGO\n",
            "  Downloading pyGPGO-0.5.1.tar.gz (14 kB)\n",
            "Requirement already satisfied: numpy in /usr/local/lib/python3.7/dist-packages (from pyGPGO) (1.21.5)\n",
            "Requirement already satisfied: mkl in /usr/local/lib/python3.7/dist-packages (from pyGPGO) (2019.0)\n",
            "Requirement already satisfied: scipy in /usr/local/lib/python3.7/dist-packages (from pyGPGO) (1.4.1)\n",
            "Requirement already satisfied: joblib in /usr/local/lib/python3.7/dist-packages (from pyGPGO) (1.1.0)\n",
            "Requirement already satisfied: scikit-learn in /usr/local/lib/python3.7/dist-packages (from pyGPGO) (1.0.2)\n",
            "Requirement already satisfied: Theano-PyMC in /usr/local/lib/python3.7/dist-packages (from pyGPGO) (1.1.2)\n",
            "Requirement already satisfied: pyMC3 in /usr/local/lib/python3.7/dist-packages (from pyGPGO) (3.11.4)\n",
            "Requirement already satisfied: intel-openmp in /usr/local/lib/python3.7/dist-packages (from mkl->pyGPGO) (2022.0.2)\n",
            "Requirement already satisfied: typing-extensions>=3.7.4 in /usr/local/lib/python3.7/dist-packages (from pyMC3->pyGPGO) (3.10.0.2)\n",
            "Requirement already satisfied: fastprogress>=0.2.0 in /usr/local/lib/python3.7/dist-packages (from pyMC3->pyGPGO) (1.0.2)\n",
            "Requirement already satisfied: pandas>=0.24.0 in /usr/local/lib/python3.7/dist-packages (from pyMC3->pyGPGO) (1.3.5)\n",
            "Requirement already satisfied: semver>=2.13.0 in /usr/local/lib/python3.7/dist-packages (from pyMC3->pyGPGO) (2.13.0)\n",
            "Requirement already satisfied: cachetools>=4.2.1 in /usr/local/lib/python3.7/dist-packages (from pyMC3->pyGPGO) (4.2.4)\n",
            "Requirement already satisfied: dill in /usr/local/lib/python3.7/dist-packages (from pyMC3->pyGPGO) (0.3.4)\n",
            "Requirement already satisfied: patsy>=0.5.1 in /usr/local/lib/python3.7/dist-packages (from pyMC3->pyGPGO) (0.5.2)\n",
            "Requirement already satisfied: arviz>=0.11.0 in /usr/local/lib/python3.7/dist-packages (from pyMC3->pyGPGO) (0.11.4)\n",
            "Requirement already satisfied: filelock in /usr/local/lib/python3.7/dist-packages (from Theano-PyMC->pyGPGO) (3.6.0)\n",
            "Requirement already satisfied: packaging in /usr/local/lib/python3.7/dist-packages (from arviz>=0.11.0->pyMC3->pyGPGO) (21.3)\n",
            "Requirement already satisfied: xarray>=0.16.1 in /usr/local/lib/python3.7/dist-packages (from arviz>=0.11.0->pyMC3->pyGPGO) (0.18.2)\n",
            "Requirement already satisfied: setuptools>=38.4 in /usr/local/lib/python3.7/dist-packages (from arviz>=0.11.0->pyMC3->pyGPGO) (57.4.0)\n",
            "Requirement already satisfied: netcdf4 in /usr/local/lib/python3.7/dist-packages (from arviz>=0.11.0->pyMC3->pyGPGO) (1.5.8)\n",
            "Requirement already satisfied: matplotlib>=3.0 in /usr/local/lib/python3.7/dist-packages (from arviz>=0.11.0->pyMC3->pyGPGO) (3.2.2)\n",
            "Requirement already satisfied: pyparsing!=2.0.4,!=2.1.2,!=2.1.6,>=2.0.1 in /usr/local/lib/python3.7/dist-packages (from matplotlib>=3.0->arviz>=0.11.0->pyMC3->pyGPGO) (3.0.7)\n",
            "Requirement already satisfied: cycler>=0.10 in /usr/local/lib/python3.7/dist-packages (from matplotlib>=3.0->arviz>=0.11.0->pyMC3->pyGPGO) (0.11.0)\n",
            "Requirement already satisfied: kiwisolver>=1.0.1 in /usr/local/lib/python3.7/dist-packages (from matplotlib>=3.0->arviz>=0.11.0->pyMC3->pyGPGO) (1.4.0)\n",
            "Requirement already satisfied: python-dateutil>=2.1 in /usr/local/lib/python3.7/dist-packages (from matplotlib>=3.0->arviz>=0.11.0->pyMC3->pyGPGO) (2.8.2)\n",
            "Requirement already satisfied: pytz>=2017.3 in /usr/local/lib/python3.7/dist-packages (from pandas>=0.24.0->pyMC3->pyGPGO) (2018.9)\n",
            "Requirement already satisfied: six in /usr/local/lib/python3.7/dist-packages (from patsy>=0.5.1->pyMC3->pyGPGO) (1.15.0)\n",
            "Requirement already satisfied: cftime in /usr/local/lib/python3.7/dist-packages (from netcdf4->arviz>=0.11.0->pyMC3->pyGPGO) (1.6.0)\n",
            "Requirement already satisfied: threadpoolctl>=2.0.0 in /usr/local/lib/python3.7/dist-packages (from scikit-learn->pyGPGO) (3.1.0)\n",
            "Building wheels for collected packages: pyGPGO\n",
            "  Building wheel for pyGPGO (setup.py) ... \u001b[?25l\u001b[?25hdone\n",
            "  Created wheel for pyGPGO: filename=pyGPGO-0.5.1-py3-none-any.whl size=19879 sha256=3109461b4ba28e9b03208a962912179d07141c9b69b126bf5a1befeedee06671\n",
            "  Stored in directory: /root/.cache/pip/wheels/c8/5d/0b/2160114e2f1b87791c51b66cf07f89831dbb6f49167950316f\n",
            "Successfully built pyGPGO\n",
            "Installing collected packages: pyGPGO\n",
            "Successfully installed pyGPGO-0.5.1\n"
          ]
        }
      ]
    },
    {
      "cell_type": "code",
      "metadata": {
        "id": "ZJSSPbwPaEUB"
      },
      "source": [
        "### Import:\n",
        "\n",
        "import numpy as np\n",
        "import scipy as sp\n",
        "import pandas as pd\n",
        "import matplotlib.pyplot as plt\n",
        "import warnings\n",
        "import itertools\n",
        "\n",
        "from pyGPGO.GPGO import GPGO\n",
        "from pyGPGO.surrogates.GaussianProcess import GaussianProcess\n",
        "from pyGPGO.acquisition import Acquisition\n",
        "from pyGPGO.covfunc import squaredExponential\n",
        "\n",
        "from joblib import Parallel, delayed\n",
        "from numpy.linalg import solve, cholesky\n",
        "from scipy.spatial.distance import cdist\n",
        "from scipy.optimize import minimize\n",
        "from scipy.stats import norm\n",
        "import time\n",
        "\n",
        "warnings.filterwarnings(\"ignore\", category=RuntimeWarning)\n"
      ],
      "execution_count": 2,
      "outputs": []
    },
    {
      "cell_type": "code",
      "metadata": {
        "id": "OeYcTUNoaJWa"
      },
      "source": [
        "### Inputs:\n",
        "\n",
        "func = 'Rastrigin'\n",
        "Beta_CBM = 1.5 # Default UCB Acquisition function parameter in pyGPGO https://github.com/josejimenezluna/pyGPGO/blob/master/pyGPGO/acquisition.py#L83\n",
        "n_test = 500\n",
        "eps = 1e-08\n",
        "\n",
        "util_grad_exact = 'dCBM_GP'\n",
        "util_grad_approx = 'CBM'\n",
        "\n",
        "n_init = 5 # random initialisations\n",
        "iters = 20\n",
        "opt = True"
      ],
      "execution_count": 3,
      "outputs": []
    },
    {
      "cell_type": "code",
      "metadata": {
        "id": "xpaEOjdzaPMS"
      },
      "source": [
        "### Objective Function - Rastrigin(x) 2-D:\n",
        "\n",
        "def objfunc(x1_training, x2_training):\n",
        "        return  operator * (10 * dim + x1_training** 2 - 10 * np.cos(2 * np.pi * x1_training)\n",
        "                                    + x2_training** 2 - 10 * np.cos(2 * np.pi * x2_training)\n",
        "                          )\n",
        "        \n",
        "def objfunc_der(x1_training, x2_training):\n",
        "        return  operator * (2 * x1_training + 20 * np.pi * np.sin(2 * np.pi * x1_training)\n",
        "                                    + 2 * x2_training + 20 * np.pi * np.sin(2 * np.pi * x2_training)\n",
        "                          )\n",
        "    \n",
        "# Constraints:\n",
        "lb = -5.12 \n",
        "ub = +5.12\n",
        "    \n",
        "# Input array dimension(s):\n",
        "dim = 2\n",
        "\n",
        "# 2-D inputs' parameter bounds:\n",
        "param = {'x1_training': ('cont', [lb, ub]),\n",
        "             'x2_training': ('cont', [lb, ub])}\n",
        "\n",
        "# True y bounds:\n",
        "operator = -1\n",
        "y_global_orig = 0 # targets global minimum\n",
        "\n",
        "# Test data:\n",
        "x1_test = np.linspace(lb, ub, n_test) \n",
        "x2_test = np.linspace(lb, ub, n_test)\n",
        "  \n",
        "x_test = np.column_stack((x1_test,x2_test))\n"
      ],
      "execution_count": 4,
      "outputs": []
    },
    {
      "cell_type": "code",
      "metadata": {
        "id": "eYpI3Zm4aGxi"
      },
      "source": [
        "n_start_AcqFunc = iters\n"
      ],
      "execution_count": 5,
      "outputs": []
    },
    {
      "cell_type": "code",
      "metadata": {
        "id": "oO_GUmOoaV0T"
      },
      "source": [
        "### Cumulative Regret Calculator:\n",
        "\n",
        "def min_max_array(x):\n",
        "    new_list = []\n",
        "    for i, num in enumerate(x):\n",
        "            new_list.append(np.min(x[0:i+1]))\n",
        "    return new_list\n",
        "  "
      ],
      "execution_count": 6,
      "outputs": []
    },
    {
      "cell_type": "code",
      "metadata": {
        "id": "kuuJx0IMam9S"
      },
      "source": [
        "### Surrogate derivatives: \n",
        "\n",
        "cov_func = squaredExponential()\n",
        "\n",
        "def kronDelta(X, Xstar):                     # Kronecker's Delta method\n",
        "    return cdist(X, Xstar) < np.finfo(np.float32).eps\n",
        "\n",
        "def se(X, Xstar, sigmaf, l, sigman):         # S.E. kernel method\n",
        "    return sigmaf * np.exp(-0.5 * cdist(X, Xstar) ** 2 / l ** 2) + sigman * kronDelta(X, Xstar)\n",
        "\n",
        "def delta(X, Xstar):                         # Distance between training X and test Xstar vectors\n",
        "    return (X - Xstar)\n",
        "   \n",
        "def der_covmat(X, Xstar, sigmaf, l, sigman): # Covariance matrix derivative terms (i.e. exact, first-order)\n",
        "    nx = len(X)\n",
        "    ny = len(Xstar)\n",
        "    return np.round(np.array([(delta(np.atleast_2d(i), np.atleast_2d(j))[0] * se(np.atleast_2d(i), np.atleast_2d(j), sigmaf, l, sigman)[0]).sum() for (i, j) in itertools.product(X, Xstar)]).reshape(nx, ny), 8)\n",
        "\n",
        "class dGaussianProcess(GaussianProcess):    # Via inheritance, also optimises hyperparameters when opt = TRUE\n",
        "    \n",
        "    def AcqGrad(self, Xstar):               # Method returning exact, first-order derivatives of the GP's posterior mean and standard deviation\n",
        "        Xstar = np.atleast_2d(Xstar)\n",
        "        Kstar = self.covfunc.K(self.X, Xstar).T\n",
        "        \n",
        "        dKstar = der_covmat(self.X, Xstar, self.covfunc.sigmaf, self.covfunc.l, self.covfunc.sigman).T\n",
        "        alpha_Kstar = np.dot(np.linalg.inv(self.K + (self.covfunc.sigman**2) * np.eye(len(self.X))), Kstar.T)\n",
        "        \n",
        "        dm = np.dot(dKstar, self.alpha)\n",
        "        ds = -2 * np.dot(dKstar, alpha_Kstar)\n",
        "        \n",
        "        return dm, ds           \n",
        "        "
      ],
      "execution_count": 7,
      "outputs": []
    },
    {
      "cell_type": "code",
      "metadata": {
        "id": "_Dc3YVHVaXz7"
      },
      "source": [
        "class Acquisition_new(Acquisition):    \n",
        "    def __init__(self, mode, eps=eps, **params):\n",
        "        \n",
        "        self.params = params\n",
        "        self.eps = eps\n",
        "\n",
        "        mode_dict = {\n",
        "            'CBM': self.CBM,\n",
        "            'dCBM_GP': self.dCBM_GP\n",
        "        }\n",
        "\n",
        "        self.f = mode_dict[mode]\n",
        "\n",
        "    def CBM(self, tau, mean, std):\n",
        "        z = (mean - y_global_orig - self.eps) / (std + self.eps)\n",
        "        return (std + self.eps) * (z + np.sqrt(Beta_CBM))\n",
        "\n",
        "    def dCBM_GP(self, tau, mean, std, ds, dm):\n",
        "        gamma = (mean - y_global_orig - self.eps) / (std + self.eps)\n",
        "        gamma_h = (mean - y_global_orig) / (std + self.eps)\n",
        "        dsdx = ds / (2 * (std + self.eps))\n",
        "        dmdx = (dm - gamma * dsdx) / (std + self.eps)\n",
        "\n",
        "        f = (std + self.eps) * (gamma + np.sqrt(Beta_CBM))\n",
        "        df = dsdx * (gamma + np.sqrt(Beta_CBM)) + (std + self.eps) * dmdx\n",
        "        df_arr = []\n",
        "\n",
        "        for j in range(0, dim):\n",
        "          df_arr.append(df)\n",
        "        return f, np.asarray(df_arr).transpose()\n",
        "        \n",
        "    def d_eval(self, tau, mean, std, ds, dm):\n",
        "    \n",
        "        return self.f(tau, mean, std, ds, dm, **self.params)\n",
        "        "
      ],
      "execution_count": 8,
      "outputs": []
    },
    {
      "cell_type": "code",
      "metadata": {
        "id": "PITEQC8YSl7i"
      },
      "source": [
        "## GPGO_multi: \n",
        "\n",
        "class GPGO_multi(GPGO):\n",
        "    n_start = n_start_AcqFunc\n",
        "\n",
        "    def __init__(self, surrogate, acquisition, f, parameter_dict, n_jobs=1):\n",
        "        self.GP = surrogate\n",
        "        self.A = acquisition\n",
        "        self.f = f\n",
        "        self.parameters = parameter_dict\n",
        "        self.n_jobs = n_jobs\n",
        "\n",
        "        self.parameter_key = list(parameter_dict.keys())\n",
        "        self.parameter_value = list(parameter_dict.values())\n",
        "        self.parameter_type = [p[0] for p in self.parameter_value]\n",
        "        self.parameter_range = [p[1] for p in self.parameter_value]\n",
        "\n",
        "        self.history = []\n",
        "        self.header =   'Evaluation \\t Proposed point \\t  Current eval. \\t  Best eval. \\t         Max AcqFunc.'\n",
        "        self.template = '{:3}\\t {}\\t {:3}\\t {:3}\\t {:3}'\n",
        "\n",
        "    def _optimizeAcq(self, method='L-BFGS-B', n_start=n_start_AcqFunc):\n",
        "        \n",
        "        start_points_dict = [self._sampleParam() for i in range(n_start)]\n",
        "        start_points_arr = np.array([list(s.values())\n",
        "                                     for s in start_points_dict])\n",
        "        x_best = np.empty((n_start, len(self.parameter_key)))\n",
        "        f_best = np.empty((n_start,))\n",
        "        opt = Parallel(n_jobs=self.n_jobs)(delayed(minimize)(self._acqWrapper,\n",
        "                                                                 x0=start_point,\n",
        "                                                                 method=method,\n",
        "                                                                 bounds=self.parameter_range) for start_point in\n",
        "                                               start_points_arr)\n",
        "        x_best = np.array([res.x for res in opt])\n",
        "        f_best = np.array([np.atleast_1d(res.fun)[0] for res in opt])\n",
        "        f_best_min = min(f_best)\n",
        "\n",
        "        self.x_best = x_best\n",
        "        self.f_best = f_best\n",
        "        self.f_best_min = f_best_min\n",
        "        self.best = x_best[np.argmin(f_best)]\n",
        "        self.start_points_arr = start_points_arr\n",
        "        \n",
        "        self.history.append(self.f_best_min)\n",
        "          \n",
        "    def _printInit(self):\n",
        "        print(self.header)\n",
        "        for init_eval in range(self.init_evals):\n",
        "            print(self.template.format('init', self.GP.X[init_eval], self.GP.y[init_eval], self.tau, ''))\n",
        "      \n",
        "    def _printCurrent(self):\n",
        "        OKGREEN = '\\033[92m'\n",
        "        ENDC = '\\033[0m'\n",
        "        BOLD = '\\033[1m'\n",
        "        eval = str(len(self.GP.y) - self.init_evals)\n",
        "        proposed = str(self.best)\n",
        "        curr_eval = str(self.GP.y[-1])\n",
        "        curr_best = str(self.tau)\n",
        "        max_acqfunc = str(self.f_best_min)\n",
        "        if float(curr_eval) >= float(curr_best):\n",
        "            eval = BOLD + OKGREEN + eval + ENDC\n",
        "            proposed = BOLD + OKGREEN + proposed + ENDC\n",
        "            curr_eval = BOLD + OKGREEN + curr_eval + ENDC\n",
        "            curr_best = BOLD + OKGREEN + curr_best + ENDC\n",
        "            max_acqfunc = BOLD + OKGREEN + str(self.f_best_min) + ENDC\n",
        "        print(self.template.format(eval, proposed, curr_eval, curr_best, max_acqfunc))\n",
        "\n",
        "    def run(self, max_iter=10, init_evals=3, resume=False):\n",
        "        \n",
        "        if not resume:\n",
        "            self.init_evals = init_evals\n",
        "            self._firstRun(self.init_evals)\n",
        "            self._printInit()\n",
        "        for iteration in range(max_iter):\n",
        "            self._optimizeAcq()\n",
        "            self.updateGP()\n",
        "            self._printCurrent()\n"
      ],
      "execution_count": 9,
      "outputs": []
    },
    {
      "cell_type": "code",
      "metadata": {
        "id": "b_B-w81BJxKN"
      },
      "source": [
        "## dGPGO:\n",
        "\n",
        "grad = 1\n",
        "\n",
        "class dGPGO(GPGO):\n",
        "    n_start = n_start_AcqFunc\n",
        "\n",
        "    def __init__(self, surrogate, acquisition, f, parameter_dict, n_jobs=1):\n",
        "        self.GP = surrogate\n",
        "        self.A = acquisition\n",
        "        self.f = f\n",
        "        self.parameters = parameter_dict\n",
        "        self.n_jobs = n_jobs\n",
        "\n",
        "        self.parameter_key = list(parameter_dict.keys())\n",
        "        self.parameter_value = list(parameter_dict.values())\n",
        "        self.parameter_type = [p[0] for p in self.parameter_value]\n",
        "        self.parameter_range = [p[1] for p in self.parameter_value]\n",
        "\n",
        "        self.history = []\n",
        "        self.header =   'Evaluation \\t Proposed point \\t  Current eval. \\t  Best eval. \\t         Max AcqFunc.'\n",
        "        self.template = '{:3}\\t {}\\t {:3}\\t {:3}\\t {:3}'\n",
        "\n",
        "    def d_optimizeAcq(self, method='L-BFGS-B', n_start=n_start_AcqFunc):\n",
        "        start_points_dict = [self._sampleParam() for i in range(n_start)]\n",
        "        start_points_arr = np.array([list(s.values())\n",
        "                                     for s in start_points_dict])\n",
        "        x_best = np.empty((n_start, len(self.parameter_key)))\n",
        "        f_best = np.empty((n_start,))\n",
        "        opt = Parallel(n_jobs=self.n_jobs)(delayed(minimize)(self.acqfunc,\n",
        "                                                                 x0=start_point,\n",
        "                                                                 method=method,\n",
        "                                                                 jac = True,\n",
        "                                                                 bounds=self.parameter_range) for start_point in\n",
        "                                               start_points_arr)\n",
        "        x_best = np.array([res.x for res in opt])\n",
        "        f_best = np.array([np.atleast_1d(res.fun)[0] for res in opt])\n",
        "        f_best_min = min(f_best)\n",
        "\n",
        "        self.x_best = x_best\n",
        "        self.f_best = f_best\n",
        "        self.f_best_min = f_best_min\n",
        "        self.best = x_best[np.argmin(f_best)]\n",
        "        self.start_points_arr = start_points_arr\n",
        "\n",
        "        self.history.append(self.f_best_min)\n",
        "\n",
        "    def _printInit(self):\n",
        "        print(self.header)\n",
        "        for init_eval in range(self.init_evals):\n",
        "            print(self.template.format('init', self.GP.X[init_eval], self.GP.y[init_eval], self.tau, ''))\n",
        "      \n",
        "    def _printCurrent(self):\n",
        "        OKGREEN = '\\033[92m'\n",
        "        ENDC = '\\033[0m'\n",
        "        BOLD = '\\033[1m'\n",
        "        eval = str(len(self.GP.y) - self.init_evals)\n",
        "        proposed = str(self.best)\n",
        "        curr_eval = str(self.GP.y[-1])\n",
        "        curr_best = str(self.tau)\n",
        "        max_acqfunc = str(self.f_best_min)\n",
        "        if float(curr_eval) >= float(curr_best):\n",
        "            eval = BOLD + OKGREEN + eval + ENDC\n",
        "            proposed = BOLD + OKGREEN + proposed + ENDC\n",
        "            curr_eval = BOLD + OKGREEN + curr_eval + ENDC\n",
        "            curr_best = BOLD + OKGREEN + curr_best + ENDC\n",
        "            max_acqfunc = BOLD + OKGREEN + str(self.f_best_min) + ENDC\n",
        "        print(self.template.format(eval, proposed, curr_eval, curr_best, max_acqfunc))\n",
        "\n",
        "    def run(self, max_iter=10, init_evals=3, resume=False):\n",
        "        \n",
        "        if not resume:\n",
        "            self.init_evals = init_evals\n",
        "            self._firstRun(self.init_evals)\n",
        "            self._printInit()\n",
        "        for iteration in range(max_iter):\n",
        "            self.d_optimizeAcq()\n",
        "            self.updateGP()\n",
        "            self._printCurrent()\n",
        "\n",
        "    def acqfunc(self, xnew, n_start=n_start_AcqFunc):\n",
        "        new_mean, new_var = self.GP.predict(xnew, return_std=True)\n",
        "        new_std = np.sqrt(new_var + eps)\n",
        "        dm, ds = self.GP.AcqGrad(xnew)\n",
        "        f, df = self.A.d_eval(self.tau, new_mean, new_std, ds=ds, dm=dm)\n",
        "\n",
        "        return -f, -df * grad\n"
      ],
      "execution_count": 10,
      "outputs": []
    },
    {
      "cell_type": "code",
      "metadata": {
        "id": "qXIKGuXVGEg2"
      },
      "source": [
        "###Reproducible set-seeds:\n",
        "\n",
        "run_num_1 = 1\n",
        "run_num_2 = 2\n",
        "run_num_3 = 3\n",
        "run_num_4 = 4\n",
        "run_num_5 = 5\n",
        "run_num_6 = 6\n",
        "run_num_7 = 7\n",
        "run_num_8 = 8\n",
        "run_num_9 = 9\n",
        "run_num_10 = 10\n",
        "run_num_11 = 11\n",
        "run_num_12 = 12\n",
        "run_num_13 = 13\n",
        "run_num_14 = 14\n",
        "run_num_15 = 15\n",
        "run_num_16 = 16\n",
        "run_num_17 = 17\n",
        "run_num_18 = 18\n",
        "run_num_19 = 19\n",
        "run_num_20 = 20\n"
      ],
      "execution_count": 11,
      "outputs": []
    },
    {
      "cell_type": "code",
      "metadata": {
        "colab": {
          "base_uri": "https://localhost:8080/"
        },
        "id": "JEhagQmnTVIK",
        "outputId": "c4597a15-3ac7-49ef-cc77-3e95cadd9d99"
      },
      "source": [
        "start_approx = time.time()\n",
        "start_approx\n"
      ],
      "execution_count": 12,
      "outputs": [
        {
          "output_type": "execute_result",
          "data": {
            "text/plain": [
              "1649238001.5160835"
            ]
          },
          "metadata": {},
          "execution_count": 12
        }
      ]
    },
    {
      "cell_type": "code",
      "metadata": {
        "colab": {
          "base_uri": "https://localhost:8080/"
        },
        "id": "aH0YSTXufD1v",
        "outputId": "cefca962-c61f-4ee2-c147-63f6e98f6c4b"
      },
      "source": [
        "### ESTIMATED GP CBM GRADIENTS\n",
        "\n",
        "np.random.seed(run_num_1)\n",
        "surrogate_approx_1 = GaussianProcess(cov_func, optimize=opt)\n",
        "\n",
        "approx_1 = GPGO_multi(surrogate_approx_1, Acquisition_new(util_grad_approx), objfunc, param)\n",
        "approx_1.run(init_evals=n_init, max_iter=iters)\n"
      ],
      "execution_count": 13,
      "outputs": [
        {
          "output_type": "stream",
          "name": "stdout",
          "text": [
            "Evaluation \t Proposed point \t  Current eval. \t  Best eval. \t         Max AcqFunc.\n",
            "init\t [-0.84969467  2.25612281]\t -20.33436270766351\t -19.908403246996286\t    \n",
            "init\t [-5.1188288  -2.02411446]\t -33.07414982069084\t -19.908403246996286\t    \n",
            "init\t [-3.61721968 -4.17445279]\t -53.347974723929894\t -19.908403246996286\t    \n",
            "init\t [-3.21269544 -1.58145816]\t -39.218472310354045\t -19.908403246996286\t    \n",
            "init\t [-1.05710106  0.39748336]\t -19.908403246996286\t -19.908403246996286\t    \n",
            "1  \t [ 5.12 -5.12]\t -57.849427451571785\t -19.908403246996286\t -2.4494900512168134\n",
            "2  \t [4.59572391 5.12      ]\t -68.29054609461346\t -19.908403246996286\t -2.44948999466181\n",
            "3  \t [-5.12  5.12]\t -57.849427451571785\t -19.908403246996286\t -2.4494729739933323\n",
            "4  \t [ 4.14133522 -0.05944136]\t -21.534187073779243\t -19.908403246996286\t -2.4493812628684952\n",
            "5  \t [ 0.90016241 -3.6892466 ]\t -30.049886475201713\t -19.908403246996286\t -2.446409838297879\n",
            "6  \t [0.71631189 5.12      ]\t -41.538732225184575\t -19.908403246996286\t -2.3854508221244055\n",
            "7  \t [-5.12        1.53252725]\t -51.065234215477545\t -19.908403246996286\t -2.3516284569478607\n",
            "8  \t [2.30276276 2.20951524]\t -30.923074484557297\t -19.908403246996286\t -2.1061166061055077\n",
            "9  \t [ 1.42564014 -0.86725185]\t -24.99424353478284\t -19.908403246996286\t -1.729513843246808\n",
            "10 \t [-2.15335136  5.12      ]\t -37.85543008627289\t -19.908403246996286\t -1.6911343818939824\n",
            "11 \t [ 5.12       -2.24274972]\t -43.499249248443334\t -19.908403246996286\t -1.3788781366079297\n",
            "12 \t [5.12       2.17224321]\t -38.94980304546303\t -19.908403246996286\t -1.2622607623436555\n",
            "13 \t [-1.04411034 -5.12      ]\t -30.39649804538073\t -19.908403246996286\t -1.024591326143502\n",
            "14 \t [ 2.49568424 -5.12      ]\t -55.14947716209616\t -19.908403246996286\t -0.02595545065558122\n",
            "\u001b[1m\u001b[92m15\u001b[0m\t \u001b[1m\u001b[92m[-0.83034662 -2.11906192]\u001b[0m\t \u001b[1m\u001b[92m-13.013381391915768\u001b[0m\t \u001b[1m\u001b[92m-13.013381391915768\u001b[0m\t \u001b[1m\u001b[92m0.3543568528981165\u001b[0m\n",
            "16 \t [-2.91299486  2.67562137]\t -31.60696623729085\t -13.013381391915768\t 0.6706454291644175\n",
            "17 \t [ 2.82520237 -2.40423664]\t -37.45464278659905\t -13.013381391915768\t 2.290199658689531\n",
            "18 \t [-5.12 -5.12]\t -57.849427451571785\t -13.013381391915768\t 3.0659336379686604\n",
            "\u001b[1m\u001b[92m19\u001b[0m\t \u001b[1m\u001b[92m[0.73460526 0.9710762 ]\u001b[0m\t \u001b[1m\u001b[92m-12.61308775224328\u001b[0m\t \u001b[1m\u001b[92m-12.61308775224328\u001b[0m\t \u001b[1m\u001b[92m3.8373024879342745\u001b[0m\n",
            "20 \t [-2.88007253  0.485456  ]\t -31.195955318807687\t -12.61308775224328\t 3.964219774740407\n"
          ]
        }
      ]
    },
    {
      "cell_type": "code",
      "metadata": {
        "id": "wTxsSZxFGBB5",
        "colab": {
          "base_uri": "https://localhost:8080/"
        },
        "outputId": "08608dc2-9767-47a6-c8bd-fdfc8f83088b"
      },
      "source": [
        "### ESTIMATED GP CBM GRADIENTS\n",
        "\n",
        "np.random.seed(run_num_2)\n",
        "surrogate_approx_2 = GaussianProcess(cov_func, optimize=opt)\n",
        "\n",
        "approx_2 = GPGO_multi(surrogate_approx_2, Acquisition_new(util_grad_approx), objfunc, param)\n",
        "approx_2.run(init_evals=n_init, max_iter=iters)\n"
      ],
      "execution_count": 14,
      "outputs": [
        {
          "output_type": "stream",
          "name": "stdout",
          "text": [
            "Evaluation \t Proposed point \t  Current eval. \t  Best eval. \t         Max AcqFunc.\n",
            "init\t [-0.6554122  -4.85451539]\t -43.490296251903594\t -18.964539418712707\t    \n",
            "init\t [ 0.50854377 -0.6622987 ]\t -35.91861667536101\t -18.964539418712707\t    \n",
            "init\t [-0.81543371 -1.73737143]\t -20.479562046739524\t -18.964539418712707\t    \n",
            "init\t [-3.02439799  1.2213347 ]\t -18.964539418712707\t -18.964539418712707\t    \n",
            "init\t [-2.05153614 -2.3876887 ]\t -28.041315668371354\t -18.964539418712707\t    \n",
            "1  \t [ 5.12 -5.12]\t -57.849427451571785\t -18.964539418712707\t -2.449488838640522\n",
            "2  \t [5.12 5.12]\t -57.849427451571785\t -18.964539418712707\t -2.4494900511940085\n",
            "3  \t [-0.09248709  5.12      ]\t -30.57474857107387\t -18.964539418712707\t -2.4493883916068424\n",
            "4  \t [5.12       0.07743718]\t -30.091207554895554\t -18.964539418712707\t -2.4490475461012404\n",
            "5  \t [-5.12  5.12]\t -57.849427451571785\t -18.964539418712707\t -2.4489129418449025\n",
            "6  \t [-5.12 -5.12]\t -57.849427451571785\t -18.964539418712707\t -2.445774015575452\n",
            "7  \t [2.34206313 2.48299702]\t -47.06078703585544\t -18.964539418712707\t -2.3658322366132167\n",
            "8  \t [-5.12       -1.23378976]\t -39.43019163062743\t -18.964539418712707\t -2.3233341404032295\n",
            "9  \t [ 2.61403827 -2.99771258]\t -33.361444292051374\t -18.964539418712707\t -2.1634280593301867\n",
            "10 \t [-0.74502729  2.31294181]\t -30.06962588727058\t -18.964539418712707\t -1.5299837606072726\n",
            "11 \t [-5.12        2.08277217]\t -34.58482390831418\t -18.964539418712707\t -1.3791644165883783\n",
            "12 \t [-2.5261383   4.36575665]\t -61.955353514900835\t -18.964539418712707\t -0.6482653332573611\n",
            "13 \t [ 5.12       -2.32629576]\t -48.948660687665324\t -18.964539418712707\t -0.4571122756585748\n",
            "14 \t [2.36275703 5.12      ]\t -51.01408702378127\t -18.964539418712707\t -0.36065016864459176\n",
            "15 \t [5.12       2.42974798]\t -53.869905936668886\t -18.964539418712707\t -0.2753553391583501\n",
            "16 \t [ 2.01419526 -5.12      ]\t -33.02144543843591\t -18.964539418712707\t -0.20343972540838173\n",
            "17 \t [ 2.83804482 -0.24293374]\t -22.415532366797084\t -18.964539418712707\t 0.6322359721308748\n",
            "18 \t [-2.80461066 -5.12      ]\t -43.4262024597202\t -18.964539418712707\t 1.8179441445090814\n",
            "19 \t [-2.25255952 -0.20499932]\t -22.486909269976707\t -18.964539418712707\t 2.33395830948411\n",
            "20 \t [-4.00126216 -2.95302893]\t -25.163143815403856\t -18.964539418712707\t 3.929171616806083\n"
          ]
        }
      ]
    },
    {
      "cell_type": "code",
      "metadata": {
        "id": "-dgzIrUIGCGT",
        "colab": {
          "base_uri": "https://localhost:8080/"
        },
        "outputId": "08ea04a0-e6ee-41cd-fc90-29a36e1841d6"
      },
      "source": [
        "### ESTIMATED GP CBM GRADIENTS\n",
        "\n",
        "np.random.seed(run_num_3)\n",
        "surrogate_approx_3 = GaussianProcess(cov_func, optimize=opt)\n",
        "\n",
        "approx_3 = GPGO_multi(surrogate_approx_3, Acquisition_new(util_grad_approx), objfunc, param)\n",
        "approx_3.run(init_evals=n_init, max_iter=iters)\n"
      ],
      "execution_count": 15,
      "outputs": [
        {
          "output_type": "stream",
          "name": "stdout",
          "text": [
            "Evaluation \t Proposed point \t  Current eval. \t  Best eval. \t         Max AcqFunc.\n",
            "init\t [0.52017052 2.1314337 ]\t -27.953858411008774\t -10.607662635789808\t    \n",
            "init\t [-2.14113547  0.11087468]\t -10.607662635789808\t -10.607662635789808\t    \n",
            "init\t [4.02377681 4.05804123]\t -33.42749829480097\t -10.607662635789808\t    \n",
            "init\t [-3.83400642 -2.99783293]\t -28.650953928965198\t -10.607662635789808\t    \n",
            "init\t [-4.59297584 -0.6061072 ]\t -57.6631355589384\t -10.607662635789808\t    \n",
            "1  \t [ 5.12       -3.42389633]\t -59.52614893420009\t -10.607662635789808\t -2.449490051139756\n",
            "2  \t [-5.12  5.12]\t -57.849427451571785\t -10.607662635789808\t -2.4494879539152925\n",
            "3  \t [ 0.45636433 -5.12      ]\t -48.75948187977113\t -10.607662635789808\t -2.4492109399261133\n",
            "4  \t [5.12      0.4862525]\t -49.12387254887017\t -10.607662635789808\t -2.4196016673335365\n",
            "5  \t [ 1.48047481 -1.42688943]\t -43.11599323396843\t -10.607662635789808\t -2.4053719054859046\n",
            "6  \t [-1.23868611  5.12      ]\t -39.74878321505804\t -10.607662635789808\t -2.399823623400617\n",
            "7  \t [-3.18954348  2.5054749 ]\t -42.73677578223722\t -10.607662635789808\t -1.9529600937952734\n",
            "8  \t [-5.12 -5.12]\t -57.849427451571785\t -10.607662635789808\t -1.8169253121971238\n",
            "9  \t [1.5748676 5.12     ]\t -50.31876056659644\t -10.607662635789808\t -1.5054453325614552\n",
            "10 \t [-1.23265279 -2.44344252]\t -35.77725243989112\t -10.607662635789808\t -1.452639294778751\n",
            "11 \t [ 3.11498419 -5.12      ]\t -41.12607250731189\t -10.607662635789808\t -0.787049889528178\n",
            "12 \t [-2.25226283 -5.12      ]\t -44.13957480756033\t -10.607662635789808\t -0.6935180604122274\n",
            "13 \t [2.71005705 1.42055488]\t -40.625621267849944\t -10.607662635789808\t -0.19957663275439277\n",
            "14 \t [-0.65295991  0.21802729]\t -24.204859692534576\t -10.607662635789808\t 1.1026165517243331\n",
            "15 \t [-5.12        2.00363343]\t -32.941866489885705\t -10.607662635789808\t 1.501311538691083\n",
            "16 \t [5.12 5.12]\t -57.849427451571785\t -10.607662635789808\t 2.6905011058439112\n",
            "17 \t [ 2.82081972 -2.84657724]\t -26.053165989267633\t -10.607662635789808\t 4.032248984001442\n",
            "18 \t [-1.08466134  2.87164309]\t -13.884229403974544\t -10.607662635789808\t 4.224789675284994\n",
            "19 \t [5.12       2.59534771]\t -53.91904953708378\t -10.607662635789808\t 4.090291073002357\n",
            "20 \t [ 3.87669651 -1.19475887]\t -25.908556023002888\t -10.607662635789808\t 4.160679554198683\n"
          ]
        }
      ]
    },
    {
      "cell_type": "code",
      "metadata": {
        "id": "hOtG-2sCGCKS",
        "colab": {
          "base_uri": "https://localhost:8080/"
        },
        "outputId": "c61e756d-09a8-4ab5-e759-65a52dabf41d"
      },
      "source": [
        "### ESTIMATED GP CBM GRADIENTS\n",
        "\n",
        "np.random.seed(run_num_4)\n",
        "surrogate_approx_4 = GaussianProcess(cov_func, optimize=opt)\n",
        "\n",
        "approx_4 = GPGO_multi(surrogate_approx_4, Acquisition_new(util_grad_approx), objfunc, param)\n",
        "approx_4.run(init_evals=n_init, max_iter=iters)\n"
      ],
      "execution_count": 16,
      "outputs": [
        {
          "output_type": "stream",
          "name": "stdout",
          "text": [
            "Evaluation \t Proposed point \t  Current eval. \t  Best eval. \t         Max AcqFunc.\n",
            "init\t [4.78238555 0.48365823]\t -51.03163809010808\t -14.323038259018315\t    \n",
            "init\t [4.84028785 2.19971578]\t -39.78645699016559\t -14.323038259018315\t    \n",
            "init\t [ 2.02474316 -2.90724357]\t -14.323038259018315\t -14.323038259018315\t    \n",
            "init\t [ 4.87705042 -5.05620219]\t -52.80627247106233\t -14.323038259018315\t    \n",
            "init\t [-2.52946061 -0.66773471]\t -41.61497868486559\t -14.323038259018315\t    \n",
            "1  \t [-5.12  5.12]\t -57.849427451571785\t -14.323038259018315\t -2.4494900125804304\n",
            "2  \t [0.36023876 5.12      ]\t -45.440277277828315\t -14.323038259018315\t -2.449470702648422\n",
            "3  \t [-5.12 -5.12]\t -57.849427451571785\t -14.323038259018315\t -2.449454032346059\n",
            "4  \t [-0.95956808 -5.12      ]\t -30.1664377367294\t -14.323038259018315\t -2.436960247269063\n",
            "\u001b[1m\u001b[92m5\u001b[0m\t \u001b[1m\u001b[92m[0.85382962 1.14538762]\u001b[0m\t \u001b[1m\u001b[92m-9.860329751054289\u001b[0m\t \u001b[1m\u001b[92m-9.860329751054289\u001b[0m\t \u001b[1m\u001b[92m-2.415987008527711\u001b[0m\n",
            "6  \t [-5.12        1.50099559]\t -51.17750582579479\t -9.860329751054289\t -2.3389421685692775\n",
            "7  \t [3.91383831 5.12      ]\t -45.67280829404412\t -9.860329751054289\t -2.2504805190396397\n",
            "8  \t [-1.97866256  2.8254844 ]\t -17.421200514476805\t -9.860329751054289\t -2.1905175950385933\n",
            "9  \t [ 0.30811533 -1.28283787]\t -27.36015304939459\t -9.860329751054289\t -1.4785367122747393\n",
            "10 \t [-5.12       -1.96195673]\t -33.05831397404748\t -9.860329751054289\t -1.876395341081644\n",
            "11 \t [ 5.12       -2.25321718]\t -44.20382874015346\t -9.860329751054289\t -1.3730763846876626\n",
            "12 \t [ 1.82457856 -5.12      ]\t -37.73750505344154\t -9.860329751054289\t -1.3187416208203853\n",
            "13 \t [2.02943544 2.73179717]\t -22.893091993481885\t -9.860329751054289\t -0.9094618461956192\n",
            "14 \t [-2.35581721  5.12      ]\t -50.64414975513709\t -9.860329751054289\t -0.6733313373679419\n",
            "15 \t [-2.6480144  -3.36986819]\t -51.185748169218655\t -9.860329751054289\t -0.5476628671788503\n",
            "16 \t [ 2.44713115 -0.46088728]\t -45.3537346630891\t -9.860329751054289\t 0.26691184907196414\n",
            "17 \t [-0.61875152  1.36136114]\t -36.019220081123194\t -9.860329751054289\t 0.48638206026333863\n",
            "18 \t [ 0.06843205 -3.22325229]\t -19.631553218745854\t -9.860329751054289\t 2.862479084151379\n",
            "19 \t [-3.41447328  2.84899296]\t -42.53936991967133\t -9.860329751054289\t 4.062933194645452\n",
            "20 \t [ 3.07740266 -3.10296017]\t -22.278799481495557\t -9.860329751054289\t 4.819138244836871\n"
          ]
        }
      ]
    },
    {
      "cell_type": "code",
      "metadata": {
        "id": "JF_SxcEvGCOl",
        "colab": {
          "base_uri": "https://localhost:8080/"
        },
        "outputId": "0dc8d5c1-16b2-4e4a-c772-7105db466cf7"
      },
      "source": [
        "### ESTIMATED GP CBM GRADIENTS\n",
        "\n",
        "np.random.seed(run_num_5)\n",
        "surrogate_approx_5 = GaussianProcess(cov_func, optimize=opt)\n",
        "\n",
        "approx_5 = GPGO_multi(surrogate_approx_5, Acquisition_new(util_grad_approx), objfunc, param)\n",
        "approx_5.run(init_evals=n_init, max_iter=iters)\n"
      ],
      "execution_count": 17,
      "outputs": [
        {
          "output_type": "stream",
          "name": "stdout",
          "text": [
            "Evaluation \t Proposed point \t  Current eval. \t  Best eval. \t         Max AcqFunc.\n",
            "init\t [-2.84678993  3.79629882]\t -33.93442008827236\t -7.8108627039749745\t    \n",
            "init\t [-3.00319585  4.2865757 ]\t -39.673876075575784\t -7.8108627039749745\t    \n",
            "init\t [-0.11866943  1.14425716]\t -7.8108627039749745\t -7.8108627039749745\t    \n",
            "init\t [2.72289645 0.1886002 ]\t -25.38160395721669\t -7.8108627039749745\t    \n",
            "init\t [-2.08076286 -3.19773462]\t -22.589982116319675\t -7.8108627039749745\t    \n",
            "1  \t [ 5.12       -4.99290081]\t -53.8637188578435\t -7.8108627039749745\t -2.449488991838044\n",
            "2  \t [5.12 5.12]\t -57.849427451571785\t -7.8108627039749745\t -2.4494862976392664\n",
            "3  \t [-5.12       -0.04631954]\t -29.34738315471541\t -7.8108627039749745\t -2.44808818573155\n",
            "4  \t [1.00367689 5.12      ]\t -29.93474956994232\t -7.8108627039749745\t -2.4365558660663273\n",
            "5  \t [-5.12 -5.12]\t -57.849427451571785\t -7.8108627039749745\t -2.4318843627648055\n",
            "6  \t [ 1.11157381 -5.12      ]\t -32.51858516907849\t -7.8108627039749745\t -2.429941399045183\n",
            "7  \t [ 5.12       -1.57442534]\t -50.32992821382665\t -7.8108627039749745\t -2.2199592991122494\n",
            "8  \t [ 0.59867459 -1.87852379]\t -24.800221530130223\t -7.8108627039749745\t -2.0581954792057435\n",
            "9  \t [5.12       1.88575229]\t -34.94848973256809\t -7.8108627039749745\t -2.0650082185533534\n",
            "10 \t [-2.1986416   0.01892513]\t -11.733768160841574\t -7.8108627039749745\t -1.9009601372298932\n",
            "11 \t [2.18802424 2.78695553]\t -26.457013939240554\t -7.8108627039749745\t -1.3474147217486303\n",
            "12 \t [-5.12        2.61669696]\t -53.20199114859157\t -7.8108627039749745\t -1.233363071790458\n",
            "13 \t [-5.12       -2.41248292]\t -53.27062833002169\t -7.8108627039749745\t -0.7551798854717631\n",
            "14 \t [ 2.80960728 -3.10603138]\t -26.021366324284\t -7.8108627039749745\t -0.5404080104440291\n",
            "15 \t [-1.67907689 -5.12      ]\t -46.05421442814636\t -7.8108627039749745\t -0.42105886749511917\n",
            "16 \t [-0.55195942  2.79813995]\t -34.62723627099075\t -7.8108627039749745\t -0.3162661184742698\n",
            "17 \t [-5.12  5.12]\t -57.849427451571785\t -7.8108627039749745\t 0.12823830895310673\n",
            "\u001b[1m\u001b[92m18\u001b[0m\t \u001b[1m\u001b[92m[-0.08396364  0.16739715]\u001b[0m\t \u001b[1m\u001b[92m-6.434488325731507\u001b[0m\t \u001b[1m\u001b[92m-6.434488325731507\u001b[0m\t \u001b[1m\u001b[92m1.1608544539670869\u001b[0m\n",
            "19 \t [-2.74681948  1.3293661 ]\t -34.29465184437664\t -6.434488325731507\t 1.7813214402215873\n",
            "20 \t [-1.85631616 -1.20400596]\t -15.85150296314354\t -6.434488325731507\t 1.2431027783281898\n"
          ]
        }
      ]
    },
    {
      "cell_type": "code",
      "metadata": {
        "id": "-kDxZtJsGCR3",
        "colab": {
          "base_uri": "https://localhost:8080/"
        },
        "outputId": "21f4d2eb-bccb-4f4d-c246-a1034ca53f71"
      },
      "source": [
        "### ESTIMATED GP CBM GRADIENTS\n",
        "\n",
        "np.random.seed(run_num_6)\n",
        "surrogate_approx_6 = GaussianProcess(cov_func, optimize=opt)\n",
        "\n",
        "approx_6 = GPGO_multi(surrogate_approx_6, Acquisition_new(util_grad_approx), objfunc, param)\n",
        "approx_6.run(init_evals=n_init, max_iter=iters)\n"
      ],
      "execution_count": 18,
      "outputs": [
        {
          "output_type": "stream",
          "name": "stdout",
          "text": [
            "Evaluation \t Proposed point \t  Current eval. \t  Best eval. \t         Max AcqFunc.\n",
            "init\t [ 4.02288795 -1.72052679]\t -31.08835710146886\t -17.28954482757088\t    \n",
            "init\t [ 3.28938622 -4.69302655]\t -58.797867722203385\t -17.28954482757088\t    \n",
            "init\t [-4.0175956   0.97333314]\t -17.28954482757088\t -17.28954482757088\t    \n",
            "init\t [ 0.30532979 -0.83141193]\t -19.296253155889353\t -17.28954482757088\t    \n",
            "init\t [-1.68542362  1.25459899]\t -28.650630936276173\t -17.28954482757088\t    \n",
            "1  \t [5.12 5.12]\t -57.849427451571785\t -17.28954482757088\t -2.4494900506317085\n",
            "2  \t [-4.81397128 -4.71436888]\t -63.70763215223161\t -17.28954482757088\t -2.449489474704894\n",
            "3  \t [-5.12  5.12]\t -57.849427451571785\t -17.28954482757088\t -2.448643693044207\n",
            "4  \t [0.39539431 5.12      ]\t -46.99776126387555\t -17.28954482757088\t -2.4481568388621384\n",
            "5  \t [-0.7527619 -5.12     ]\t -39.317837371138246\t -17.28954482757088\t -2.433665705020466\n",
            "6  \t [2.84227944 1.91251932]\t -17.730606596758697\t -17.28954482757088\t -2.4103224301978137\n",
            "7  \t [-2.70490327 -2.01013296]\t -24.173144137338703\t -17.28954482757088\t -2.205264904808498\n",
            "8  \t [5.12       1.12144661]\t -32.955190678950714\t -17.28954482757088\t -1.8066809743816843\n",
            "9  \t [-2.34758304  4.04003217]\t -37.901998051031406\t -17.28954482757088\t -1.5483533213647689\n",
            "10 \t [-5.12       -1.34940344]\t -46.59309037707619\t -17.28954482757088\t -1.5216860998709183\n",
            "\u001b[1m\u001b[92m11\u001b[0m\t \u001b[1m\u001b[92m[ 0.98862995 -2.97123822]\u001b[0m\t \u001b[1m\u001b[92m-9.994000077126026\u001b[0m\t \u001b[1m\u001b[92m-9.994000077126026\u001b[0m\t \u001b[1m\u001b[92m-0.7062141396581355\u001b[0m\n",
            "12 \t [0.64320721 2.21258243]\t -29.197505457435394\t -9.994000077126026\t -0.6926261859914133\n",
            "13 \t [-5.12        2.42907205]\t -53.84839665426533\t -9.994000077126026\t -0.05980404475660144\n",
            "14 \t [2.74676325 4.14103138]\t -38.57203151681122\t -9.994000077126026\t 0.4279434034509502\n",
            "15 \t [ 2.28576695 -0.11444212]\t -19.942017375651456\t -9.994000077126026\t 0.68459925978497\n",
            "16 \t [-0.72214395 -2.66668512]\t -34.37302205906926\t -9.994000077126026\t 1.7217080498592023\n",
            "17 \t [ 5.12       -3.46239943]\t -60.635145590663086\t -9.994000077126026\t 1.941427883841512\n",
            "18 \t [ 1.87447812 -2.44800675]\t -31.92968102749371\t -9.994000077126026\t 2.7424559390350485\n",
            "19 \t [ 1.17616383 -5.12      ]\t -35.83344622485944\t -9.994000077126026\t 3.566200031893961\n",
            "20 \t [-2.60240286 -4.28254835]\t -55.14407857477931\t -9.994000077126026\t 3.9190787012690063\n"
          ]
        }
      ]
    },
    {
      "cell_type": "code",
      "metadata": {
        "id": "fKB8MCD_GCVI",
        "colab": {
          "base_uri": "https://localhost:8080/"
        },
        "outputId": "073a5971-41d9-4767-9228-2e18fd5c7e7e"
      },
      "source": [
        "### ESTIMATED GP CBM GRADIENTS\n",
        "\n",
        "np.random.seed(run_num_7)\n",
        "surrogate_approx_7 = GaussianProcess(cov_func, optimize=opt)\n",
        "\n",
        "approx_7 = GPGO_multi(surrogate_approx_7, Acquisition_new(util_grad_approx), objfunc, param)\n",
        "approx_7.run(init_evals=n_init, max_iter=iters)\n"
      ],
      "execution_count": 19,
      "outputs": [
        {
          "output_type": "stream",
          "name": "stdout",
          "text": [
            "Evaluation \t Proposed point \t  Current eval. \t  Best eval. \t         Max AcqFunc.\n",
            "init\t [-4.33860312  2.86636843]\t -45.646133072936244\t -22.52235437888213\t    \n",
            "init\t [-0.63068947  2.28828342]\t -34.83012662845338\t -22.52235437888213\t    \n",
            "init\t [4.8946126  0.39419771]\t -44.09657005662876\t -22.52235437888213\t    \n",
            "init\t [ 0.01147355 -4.38219639]\t -36.613209822404315\t -22.52235437888213\t    \n",
            "init\t [-2.37118484e+00 -1.20319155e-03]\t -22.52235437888213\t -22.52235437888213\t    \n",
            "1  \t [-5.12 -5.12]\t -57.849427451571785\t -22.52235437888213\t -2.449462834923144\n",
            "2  \t [ 5.12 -5.12]\t -57.849427451571785\t -22.52235437888213\t -2.4494546585718004\n",
            "3  \t [3.59501824 5.12      ]\t -60.11903135913032\t -22.52235437888213\t -2.4493144137642164\n",
            "4  \t [-4.02558214 -1.33646422]\t -33.289738493146906\t -22.52235437888213\t -2.4494900512168254\n",
            "\u001b[1m\u001b[92m5\u001b[0m\t \u001b[1m\u001b[92m[ 1.40596254 -0.96124855]\u001b[0m\t \u001b[1m\u001b[92m-21.500334735340815\u001b[0m\t \u001b[1m\u001b[92m-21.500334735340815\u001b[0m\t \u001b[1m\u001b[92m-2.3932889081639472\u001b[0m\n",
            "6  \t [-1.80775721  5.12      ]\t -38.64283859090712\t -21.500334735340815\t -2.2190707699535923\n",
            "7  \t [2.33777699 2.13198101]\t -28.496153039399328\t -21.500334735340815\t -1.8411326702064819\n",
            "8  \t [ 3.57945116 -2.53926573]\t -57.737170595899904\t -21.500334735340815\t -1.7121798430493727\n",
            "9  \t [-2.52339006 -3.63387047]\t -56.13090142203897\t -21.500334735340815\t -1.1771044855644737\n",
            "10 \t [-5.12  5.12]\t -57.849427451571785\t -21.500334735340815\t -1.0446132850256407\n",
            "11 \t [0.80789421 5.12      ]\t -36.01949897363042\t -21.500334735340815\t -1.0451873926515\n",
            "12 \t [5.12       2.99319143]\t -37.893057712280374\t -21.500334735340815\t -0.5473966120713457\n",
            "13 \t [ 2.3216687 -5.12     ]\t -48.66728544259506\t -21.500334735340815\t -0.46656360159106275\n",
            "14 \t [-0.64343032 -1.53135331]\t -38.77233104903961\t -21.500334735340815\t 0.16151514654608734\n",
            "15 \t [-5.12        0.58573786]\t -47.85153064321398\t -21.500334735340815\t 0.30872843242439896\n",
            "16 \t [-5.12       -2.74155413]\t -46.97125346702336\t -21.500334735340815\t 3.0232452425739766\n",
            "17 \t [0.74679227 0.65279009]\t -26.92049794404347\t -21.500334735340815\t 3.362176835026598\n",
            "\u001b[1m\u001b[92m18\u001b[0m\t \u001b[1m\u001b[92m[ 2.81908435 -0.03329178]\u001b[0m\t \u001b[1m\u001b[92m-13.960660037331387\u001b[0m\t \u001b[1m\u001b[92m-13.960660037331387\u001b[0m\t \u001b[1m\u001b[92m4.901766236295853\u001b[0m\n",
            "19 \t [-2.50686299  1.83552479]\t -34.525449222809804\t -13.960660037331387\t 4.711815497453295\n",
            "20 \t [ 1.24821642 -2.7288406 ]\t -30.218123609701347\t -13.960660037331387\t 5.356516086987038\n"
          ]
        }
      ]
    },
    {
      "cell_type": "code",
      "metadata": {
        "id": "4unvifF-GCXp",
        "colab": {
          "base_uri": "https://localhost:8080/"
        },
        "outputId": "39316b98-9cb4-428e-caef-de75c1775ba5"
      },
      "source": [
        "### ESTIMATED GP CBM GRADIENTS\n",
        "\n",
        "np.random.seed(run_num_8)\n",
        "surrogate_approx_8 = GaussianProcess(cov_func, optimize=opt)\n",
        "\n",
        "approx_8 = GPGO_multi(surrogate_approx_8, Acquisition_new(util_grad_approx), objfunc, param)\n",
        "approx_8.run(init_evals=n_init, max_iter=iters)\n"
      ],
      "execution_count": 20,
      "outputs": [
        {
          "output_type": "stream",
          "name": "stdout",
          "text": [
            "Evaluation \t Proposed point \t  Current eval. \t  Best eval. \t         Max AcqFunc.\n",
            "init\t [3.82391708 4.79785639]\t -50.20079446939181\t -13.871821018360485\t    \n",
            "init\t [3.78055209 0.31596228]\t -36.5114251593508\t -13.871821018360485\t    \n",
            "init\t [-2.73686192 -5.00327624]\t -43.34985765011677\t -13.871821018360485\t    \n",
            "init\t [-0.7119993  -0.99992207]\t -13.871821018360485\t -13.871821018360485\t    \n",
            "init\t [ 0.23218863 -0.22126801]\t -17.190590355445654\t -13.871821018360485\t    \n",
            "1  \t [-5.12  5.12]\t -57.849427451571785\t -13.871821018360485\t -2.449490051211691\n",
            "2  \t [ 5.12 -5.12]\t -57.849427451571785\t -13.871821018360485\t -2.4494871997029084\n",
            "3  \t [-5.12       -0.06205146]\t -29.67902052940042\t -13.871821018360485\t -2.449234635663399\n",
            "4  \t [-0.66935056  4.17606515]\t -38.26063237466914\t -13.871821018360485\t -2.447391695791785\n",
            "5  \t [ 1.18397129 -4.40964139]\t -45.24719436967881\t -13.871821018360485\t -2.4281227523355176\n",
            "6  \t [-2.62583563  1.70380959]\t -39.693482266656645\t -13.871821018360485\t -2.132798114228419\n",
            "7  \t [1.62784954 2.34350602]\t -40.62820403868013\t -13.871821018360485\t -1.7477672636434636\n",
            "8  \t [-5.12       -3.12923163]\t -41.83622007612452\t -13.871821018360485\t -2.0970056360808442\n",
            "9  \t [ 5.12       -2.11129883]\t -35.729438890554285\t -13.871821018360485\t -1.7471889055063115\n",
            "10 \t [-2.59764475 -1.83819541]\t -33.04079418437101\t -13.871821018360485\t -1.1118999874750033\n",
            "11 \t [5.12       2.44928072]\t -54.42019222243294\t -13.871821018360485\t -0.9660255084214009\n",
            "12 \t [ 2.13339856 -1.86172339]\t -14.871845005031505\t -13.871821018360485\t -0.9028198451123449\n",
            "13 \t [-5.12       2.4341359]\t -54.00558004022222\t -13.871821018360485\t -0.34434855051237734\n",
            "14 \t [1.38497375 5.12      ]\t -48.34288599797641\t -13.871821018360485\t 0.6315726514775463\n",
            "15 \t [-2.63587399  5.12      ]\t -52.444372755307924\t -13.871821018360485\t 0.6273008920457599\n",
            "16 \t [-0.68467736 -3.04862667]\t -24.216107762707193\t -13.871821018360485\t 1.3947920893693184\n",
            "17 \t [-5.12 -5.12]\t -57.849427451571785\t -13.871821018360485\t 1.6444882098208637\n",
            "18 \t [ 3.23797889 -3.37921782]\t -48.40498511470113\t -13.871821018360485\t 2.7147049807838366\n",
            "19 \t [-0.47294097  1.44220017]\t -41.50719819037714\t -13.871821018360485\t 2.870692224727795\n",
            "20 \t [ 1.67558944 -0.56156792]\t -36.89088184946366\t -13.871821018360485\t 3.5236502760200756\n"
          ]
        }
      ]
    },
    {
      "cell_type": "code",
      "metadata": {
        "id": "85OIXcg7GCaJ",
        "colab": {
          "base_uri": "https://localhost:8080/"
        },
        "outputId": "2c86f3bd-5bd9-4fc5-c6ed-51b76e34e62b"
      },
      "source": [
        "### ESTIMATED GP CBM GRADIENTS\n",
        "\n",
        "np.random.seed(run_num_9)\n",
        "surrogate_approx_9 = GaussianProcess(cov_func, optimize=opt)\n",
        "\n",
        "approx_9 = GPGO_multi(surrogate_approx_9, Acquisition_new(util_grad_approx), objfunc, param)\n",
        "approx_9.run(init_evals=n_init, max_iter=iters)\n"
      ],
      "execution_count": 21,
      "outputs": [
        {
          "output_type": "stream",
          "name": "stdout",
          "text": [
            "Evaluation \t Proposed point \t  Current eval. \t  Best eval. \t         Max AcqFunc.\n",
            "init\t [-5.01376866  0.01919582]\t -25.248289026162446\t -24.454800313488693\t    \n",
            "init\t [-0.04328148 -3.74958562]\t -24.454800313488693\t -24.454800313488693\t    \n",
            "init\t [-3.66478248 -2.88195916]\t -39.46509426509438\t -24.454800313488693\t    \n",
            "init\t [-0.83447623 -2.57944404]\t -31.06766397812992\t -24.454800313488693\t    \n",
            "init\t [-4.25922917 -1.58209393]\t -49.922543556206975\t -24.454800313488693\t    \n",
            "1  \t [3.58383911 5.12      ]\t -60.412937380611055\t -24.454800313488693\t -2.4494900512168254\n",
            "2  \t [ 5.12       -0.51448477]\t -49.14802234086253\t -24.454800313488693\t -2.449488749456329\n",
            "3  \t [-2.38963438  5.12      ]\t -52.32553514908594\t -24.454800313488693\t -2.449488767914829\n",
            "4  \t [ 4.6971802 -5.12     ]\t -64.24639358917474\t -24.454800313488693\t -2.4488829016337\n",
            "5  \t [0.65435751 1.54698846]\t -38.042864795141966\t -24.454800313488693\t -2.447316387036284\n",
            "6  \t [-5.12       3.2212506]\t -47.50459899670015\t -24.454800313488693\t -2.284284746069765\n",
            "\u001b[1m\u001b[92m7\u001b[0m\t \u001b[1m\u001b[92m[ 2.30082765 -1.89159369]\u001b[0m\t \u001b[1m\u001b[92m-24.242946512489585\u001b[0m\t \u001b[1m\u001b[92m-24.242946512489585\u001b[0m\t \u001b[1m\u001b[92m-2.057757656174599\u001b[0m\n",
            "8  \t [-5.12 -5.12]\t -57.849427451571785\t -24.242946512489585\t -1.973680336165129\n",
            "9  \t [-2.33806213  1.37437821]\t -39.65390643555229\t -24.242946512489585\t -1.9639557059116812\n",
            "10 \t [5.12       2.50029872]\t -55.17618980056042\t -24.242946512489585\t -1.8879816437759422\n",
            "11 \t [0.57006506 5.12      ]\t -48.296217216639896\t -24.242946512489585\t -1.7697599374819906\n",
            "12 \t [ 1.77957805 -5.12      ]\t -40.243847656015824\t -24.242946512489585\t -1.201418416964956\n",
            "13 \t [-2.03866275 -5.12      ]\t -33.37447467585265\t -24.242946512489585\t -1.1092638961874681\n",
            "\u001b[1m\u001b[92m14\u001b[0m\t \u001b[1m\u001b[92m[2.85666372 0.79142618]\u001b[0m\t \u001b[1m\u001b[92m-20.001957952774852\u001b[0m\t \u001b[1m\u001b[92m-20.001957952774852\u001b[0m\t \u001b[1m\u001b[92m0.3811506337686298\u001b[0m\n",
            "15 \t [-0.44177166 -0.52947337]\t -39.64268965249197\t -20.001957952774852\t 0.9906799241436987\n",
            "16 \t [ 5.12       -2.77498163]\t -45.062031923016534\t -20.001957952774852\t 1.4626779033177586\n",
            "17 \t [-5.12  5.12]\t -57.849427451571785\t -20.001957952774852\t 2.0802344558601877\n",
            "18 \t [2.34638121 2.97098579]\t -30.190369617357142\t -20.001957952774852\t 2.2163199482929232\n",
            "\u001b[1m\u001b[92m19\u001b[0m\t \u001b[1m\u001b[92m[-0.94165583  3.17021841]\u001b[0m\t \u001b[1m\u001b[92m-16.795933872106065\u001b[0m\t \u001b[1m\u001b[92m-16.795933872106065\u001b[0m\t \u001b[1m\u001b[92m2.871429084873387\u001b[0m\n",
            "20 \t [ 2.77632588 -3.32604249]\t -41.7221423585314\t -16.795933872106065\t 5.987354934478656\n"
          ]
        }
      ]
    },
    {
      "cell_type": "code",
      "metadata": {
        "id": "QQBR-qJPGCcp",
        "colab": {
          "base_uri": "https://localhost:8080/"
        },
        "outputId": "a7420ebf-c2cd-4be3-82fd-574e1d99561f"
      },
      "source": [
        "### ESTIMATED GP CBM GRADIENTS\n",
        "\n",
        "np.random.seed(run_num_10)\n",
        "surrogate_approx_10 = GaussianProcess(cov_func, optimize=opt)\n",
        "\n",
        "approx_10 = GPGO_multi(surrogate_approx_10, Acquisition_new(util_grad_approx), objfunc, param)\n",
        "approx_10.run(init_evals=n_init, max_iter=iters)\n"
      ],
      "execution_count": 22,
      "outputs": [
        {
          "output_type": "stream",
          "name": "stdout",
          "text": [
            "Evaluation \t Proposed point \t  Current eval. \t  Best eval. \t         Max AcqFunc.\n",
            "init\t [ 2.77832339 -4.90750004]\t -41.674330194390116\t -13.839458310244165\t    \n",
            "init\t [1.36855793 2.54775176]\t -44.69639719065837\t -13.839458310244165\t    \n",
            "init\t [-0.01528819 -2.81808235]\t -13.839458310244165\t -13.839458310244165\t    \n",
            "init\t [-3.09183626  2.66783449]\t -33.23221510904937\t -13.839458310244165\t    \n",
            "init\t [-3.38830503 -4.2154003 ]\t -54.73014366983691\t -13.839458310244165\t    \n",
            "1  \t [ 5.12       -0.56839694]\t -48.338485446448274\t -13.839458310244165\t -2.449226496008614\n",
            "2  \t [5.12 5.12]\t -57.849427451571785\t -13.839458310244165\t -2.4487691474051565\n",
            "3  \t [-5.12       -0.60617906]\t -47.148094957294475\t -13.839458310244165\t -2.4304331932016843\n",
            "4  \t [-5.12  5.12]\t -57.849427451571785\t -13.839458310244165\t -2.344431158463675\n",
            "5  \t [-0.8379314  5.12     ]\t -34.378765124855526\t -13.839458310244165\t -2.3103814121912167\n",
            "\u001b[1m\u001b[92m6\u001b[0m\t \u001b[1m\u001b[92m[-1.23134441 -0.10550153]\u001b[0m\t \u001b[1m\u001b[92m-12.475659995438487\u001b[0m\t \u001b[1m\u001b[92m-12.475659995438487\u001b[0m\t \u001b[1m\u001b[92m-2.270209576564117\u001b[0m\n",
            "7  \t [ 1.89652894 -0.79260334]\t -13.619985056782841\t -12.475659995438487\t -2.0645215973213333\n",
            "8  \t [-0.38448333 -5.12      ]\t -46.552144160234164\t -12.475659995438487\t -1.6642586295001216\n",
            "9  \t [ 5.12       -3.59873661]\t -60.01219255067879\t -12.475659995438487\t -1.6355257187478376\n",
            "10 \t [4.53170009 2.23137113]\t -54.149803413375096\t -12.475659995438487\t -1.5287057452265116\n",
            "11 \t [2.14104485 5.12      ]\t -37.18526803443079\t -12.475659995438487\t -1.2797869859060937\n",
            "12 \t [-2.40673409 -1.64770618]\t -42.832698225912566\t -12.475659995438487\t -0.3545533628935738\n",
            "13 \t [-5.12        2.04146862]\t -33.42983636232159\t -12.475659995438487\t 0.24253949003629616\n",
            "14 \t [-0.94151054  1.58222701]\t -22.752400746048842\t -12.475659995438487\t 0.5219662910894567\n",
            "15 \t [ 2.34488995 -2.44582663]\t -46.52196441887972\t -12.475659995438487\t 0.7489219489935561\n",
            "16 \t [ 0.44736031 -0.29619149]\t -32.60759065747223\t -12.475659995438487\t 1.2862589536355855\n",
            "17 \t [-5.12 -5.12]\t -57.849427451571785\t -12.475659995438487\t 1.5693752594266075\n",
            "18 \t [2.74365283 0.35065471]\t -33.96037107093235\t -12.475659995438487\t 2.120542941683774\n",
            "19 \t [-2.80850556  5.12      ]\t -43.218637100211915\t -12.475659995438487\t 2.7357818849660442\n",
            "20 \t [-2.84970191  0.56685664]\t -31.71003102655157\t -12.475659995438487\t 3.4135959517908643\n"
          ]
        }
      ]
    },
    {
      "cell_type": "code",
      "metadata": {
        "id": "JS8ejeQ2GCfi",
        "colab": {
          "base_uri": "https://localhost:8080/"
        },
        "outputId": "b12ab6f7-0ec3-464d-e58d-439b1980c276"
      },
      "source": [
        "### ESTIMATED GP CBM GRADIENTS\n",
        "\n",
        "np.random.seed(run_num_11)\n",
        "surrogate_approx_11 = GaussianProcess(cov_func, optimize=opt)\n",
        "\n",
        "approx_11 = GPGO_multi(surrogate_approx_11, Acquisition_new(util_grad_approx), objfunc, param)\n",
        "approx_11.run(init_evals=n_init, max_iter=iters)\n"
      ],
      "execution_count": 23,
      "outputs": [
        {
          "output_type": "stream",
          "name": "stdout",
          "text": [
            "Evaluation \t Proposed point \t  Current eval. \t  Best eval. \t         Max AcqFunc.\n",
            "init\t [-3.27403839 -4.92057353]\t -47.655641290890955\t -10.679755252484755\t    \n",
            "init\t [-0.37664229  2.30332343]\t -35.87889240695259\t -10.679755252484755\t    \n",
            "init\t [-0.81711509 -0.14922651]\t -10.679755252484755\t -10.679755252484755\t    \n",
            "init\t [-4.98912446 -0.12931474]\t -28.05462905574235\t -10.679755252484755\t    \n",
            "init\t [4.52410012 3.59214172]\t -71.62694632141611\t -10.679755252484755\t    \n",
            "1  \t [ 5.12       -4.33857962]\t -63.030690231802616\t -10.679755252484755\t -2.4494900511992403\n",
            "2  \t [-5.12  5.12]\t -57.849427451571785\t -10.679755252484755\t -2.4494712150326596\n",
            "3  \t [ 0.92374253 -5.12      ]\t -30.904095757722793\t -10.679755252484755\t -2.442516277930775\n",
            "4  \t [ 3.11975237 -0.55671113]\t -32.1142995948097\t -10.679755252484755\t -2.4410429421342648\n",
            "5  \t [1.20983666 5.12      ]\t -37.89158023754207\t -10.679755252484755\t -2.3076728624944525\n",
            "6  \t [-1.93527609  5.12      ]\t -33.48558535159314\t -10.679755252484755\t -2.033801504465361\n",
            "7  \t [-0.92792572 -2.63061687]\t -25.606345297333093\t -10.679755252484755\t -1.9862502389580603\n",
            "8  \t [-5.12       -2.82039048]\t -42.5993366736242\t -10.679755252484755\t -1.5978220876656504\n",
            "9  \t [-3.48563605  2.26811023]\t -48.3887290815247\t -10.679755252484755\t -1.834935429830368\n",
            "10 \t [5.12       0.67890477]\t -43.70558315802893\t -10.679755252484755\t -1.0056375217270104\n",
            "11 \t [ 2.1886153  -2.90103667]\t -21.31576802060226\t -10.679755252484755\t -0.9709452267348263\n",
            "12 \t [2.11324269 1.88152453]\t -13.07733550580506\t -10.679755252484755\t -0.6155018638913713\n",
            "13 \t [-2.70174052 -0.91529696]\t -22.506246736019072\t -10.679755252484755\t -0.2280876628852927\n",
            "14 \t [ 0.74693765 -0.51303863]\t -30.979986939711594\t -10.679755252484755\t 0.4314631149349414\n",
            "15 \t [ 5.12       -1.82445784]\t -37.74383349984226\t -10.679755252484755\t 0.7737433805945563\n",
            "16 \t [ 2.92892738 -5.12      ]\t -38.48395923330407\t -10.679755252484755\t 2.314841955672905\n",
            "17 \t [-1.03073452 -5.12      ]\t -30.173007263698402\t -10.679755252484755\t 2.071520592683353\n",
            "18 \t [-1.68883189  0.54920824]\t -36.42898954366744\t -10.679755252484755\t 4.046316153345412\n",
            "19 \t [-5.12 -5.12]\t -57.849427451571785\t -10.679755252484755\t 3.1640964775699163\n",
            "20 \t [1.92833161 3.05429387]\t -14.620289186554036\t -10.679755252484755\t 4.052758041571827\n"
          ]
        }
      ]
    },
    {
      "cell_type": "code",
      "metadata": {
        "id": "DXwjUVZ4GCii",
        "colab": {
          "base_uri": "https://localhost:8080/"
        },
        "outputId": "11fd91eb-be04-46a3-b71b-28d0c83b8e3d"
      },
      "source": [
        "### ESTIMATED GP CBM GRADIENTS\n",
        "\n",
        "np.random.seed(run_num_12)\n",
        "surrogate_approx_12 = GaussianProcess(cov_func, optimize=opt)\n",
        "\n",
        "approx_12 = GPGO_multi(surrogate_approx_12, Acquisition_new(util_grad_approx), objfunc, param)\n",
        "approx_12.run(init_evals=n_init, max_iter=iters)\n"
      ],
      "execution_count": 24,
      "outputs": [
        {
          "output_type": "stream",
          "name": "stdout",
          "text": [
            "Evaluation \t Proposed point \t  Current eval. \t  Best eval. \t         Max AcqFunc.\n",
            "init\t [-3.54137249  2.45810889]\t -57.903242869085595\t -40.51116653209555\t    \n",
            "init\t [-2.42365424  0.34549139]\t -40.51116653209555\t -40.51116653209555\t    \n",
            "init\t [-4.97075238  4.28796936]\t -55.62655915398208\t -40.51116653209555\t    \n",
            "init\t [ 4.10332011 -4.77776458]\t -49.962803461970296\t -40.51116653209555\t    \n",
            "init\t [ 4.6791612  -3.71497655]\t -62.183891474990624\t -40.51116653209555\t    \n",
            "1  \t [5.12 5.12]\t -57.849427451571785\t -40.51116653209555\t -2.449490051216825\n",
            "2  \t [-5.12 -5.12]\t -57.849427451571785\t -40.51116653209555\t -2.4494898837172765\n",
            "\u001b[1m\u001b[92m3\u001b[0m\t \u001b[1m\u001b[92m[2.51295487 0.83223602]\u001b[0m\t \u001b[1m\u001b[92m-32.03427674075663\u001b[0m\t \u001b[1m\u001b[92m-32.03427674075663\u001b[0m\t \u001b[1m\u001b[92m-2.449220011735657\u001b[0m\n",
            "4  \t [0.33251366 5.12      ]\t -43.990611193811134\t -32.03427674075663\t -2.4485757302857105\n",
            "5  \t [-0.48603629 -4.11887754]\t -39.82513640353719\t -32.03427674075663\t -2.4485299207104476\n",
            "6  \t [-5.12       -1.54445981]\t -50.922420692482035\t -32.03427674075663\t -2.3123263090170068\n",
            "7  \t [ 5.12       -0.37880152]\t -46.30613607593919\t -32.03427674075663\t -2.0990302828314187\n",
            "\u001b[1m\u001b[92m8\u001b[0m\t \u001b[1m\u001b[92m[ 1.63843441 -1.98165848]\u001b[0m\t \u001b[1m\u001b[92m-23.127493900902003\u001b[0m\t \u001b[1m\u001b[92m-23.127493900902003\u001b[0m\t \u001b[1m\u001b[92m-1.9397070832620844\u001b[0m\n",
            "\u001b[1m\u001b[92m9\u001b[0m\t \u001b[1m\u001b[92m[-0.04371903  2.14293328]\u001b[0m\t \u001b[1m\u001b[92m-8.737836661316548\u001b[0m\t \u001b[1m\u001b[92m-8.737836661316548\u001b[0m\t \u001b[1m\u001b[92m-1.6658879037116743\u001b[0m\n",
            "10 \t [2.70824859 3.49158267]\t -52.10511122360994\t -8.737836661316548\t -1.1963325832109917\n",
            "11 \t [-2.63777476 -2.7222984 ]\t -42.581875801327215\t -8.737836661316548\t -0.87944412206667\n",
            "12 \t [-2.28801959  5.12      ]\t -46.52593342872945\t -8.737836661316548\t -0.8594796416049145\n",
            "13 \t [5.12       2.25431795]\t -44.27793435805719\t -8.737836661316548\t -0.4254730427337258\n",
            "14 \t [ 0.00306581 -0.32777996]\t -14.8041408811459\t -8.737836661316548\t -0.31442020478427585\n",
            "15 \t [ 1.66605081 -5.12      ]\t -46.73391250034781\t -8.737836661316548\t -0.19828941032024905\n",
            "16 \t [-2.5473777 -5.12     ]\t -54.974033664622\t -8.737836661316548\t 1.1283393051572583\n",
            "17 \t [-5.12        0.84430446]\t -34.052928908350054\t -8.737836661316548\t 1.6621851962467278\n",
            "18 \t [-0.82767445  2.72151344]\t -25.18302006038467\t -8.737836661316548\t 2.091038208820364\n",
            "19 \t [0.4791028  1.37080748]\t -38.904944129339206\t -8.737836661316548\t 3.197751158083301\n",
            "20 \t [-0.52428581 -1.61602042]\t -40.22875843652906\t -8.737836661316548\t 2.8642297080618135\n"
          ]
        }
      ]
    },
    {
      "cell_type": "code",
      "metadata": {
        "id": "CphOPndPGClX",
        "colab": {
          "base_uri": "https://localhost:8080/"
        },
        "outputId": "5246cef3-55f0-4c44-d097-84bc3317c255"
      },
      "source": [
        "### ESTIMATED GP CBM GRADIENTS\n",
        "\n",
        "np.random.seed(run_num_13)\n",
        "surrogate_approx_13 = GaussianProcess(cov_func, optimize=opt)\n",
        "\n",
        "approx_13 = GPGO_multi(surrogate_approx_13, Acquisition_new(util_grad_approx), objfunc, param)\n",
        "approx_13.run(init_evals=n_init, max_iter=iters)\n"
      ],
      "execution_count": 25,
      "outputs": [
        {
          "output_type": "stream",
          "name": "stdout",
          "text": [
            "Evaluation \t Proposed point \t  Current eval. \t  Best eval. \t         Max AcqFunc.\n",
            "init\t [ 2.84367268 -2.68757791]\t -33.58019830007169\t -17.435826639425656\t    \n",
            "init\t [3.32061217 4.76927179]\t -56.857057997503354\t -17.435826639425656\t    \n",
            "init\t [ 4.83943541 -0.47667971]\t -48.211919361679726\t -17.435826639425656\t    \n",
            "init\t [1.11659482 2.82139151]\t -17.435826639425656\t -17.435826639425656\t    \n",
            "init\t [1.45012065 2.27346667]\t -38.25352329493884\t -17.435826639425656\t    \n",
            "1  \t [-5.12      -2.7263396]\t -47.838798104556766\t -17.435826639425656\t -2.4494900512165136\n",
            "2  \t [-5.12  5.12]\t -57.849427451571785\t -17.435826639425656\t -2.4494900508369923\n",
            "3  \t [-1.07703786 -5.12      ]\t -31.2335179062638\t -17.435826639425656\t -2.448708475120341\n",
            "\u001b[1m\u001b[92m4\u001b[0m\t \u001b[1m\u001b[92m[-2.85644989  1.12650973]\u001b[0m\t \u001b[1m\u001b[92m-16.22385717899008\u001b[0m\t \u001b[1m\u001b[92m-16.22385717899008\u001b[0m\t \u001b[1m\u001b[92m-2.446627810565369\u001b[0m\n",
            "5  \t [-1.1550448  5.12     ]\t -34.640336780741485\t -16.22385717899008\t -2.420476713261133\n",
            "6  \t [-0.62077913 -1.40888254]\t -38.03185440349279\t -16.22385717899008\t -2.3872132200723173\n",
            "7  \t [ 5.12 -5.12]\t -57.849427451571785\t -16.22385717899008\t -2.3842747132652584\n",
            "8  \t [5.12       2.46277266]\t -54.717647098880825\t -16.22385717899008\t -1.7275166930409822\n",
            "9  \t [-5.12        1.74020618]\t -42.56800672767479\t -16.22385717899008\t -1.8350663710356265\n",
            "10 \t [ 1.73842818 -5.12      ]\t -42.673284605411276\t -16.22385717899008\t -1.589128212295217\n",
            "11 \t [-3.90840138 -5.12      ]\t -45.81128149165568\t -16.22385717899008\t -1.5148481680967145\n",
            "12 \t [-1.25632837  2.43365602]\t -37.04224350664756\t -16.22385717899008\t -0.55953880967485\n",
            "\u001b[1m\u001b[92m13\u001b[0m\t \u001b[1m\u001b[92m[ 1.88152967 -0.24381204]\u001b[0m\t \u001b[1m\u001b[92m-15.855753460551497\u001b[0m\t \u001b[1m\u001b[92m-15.855753460551497\u001b[0m\t \u001b[1m\u001b[92m-0.49472862092620645\u001b[0m\n",
            "14 \t [-3.23716014 -0.94587922]\t -21.140639246836567\t -15.855753460551497\t -0.26961093602436215\n",
            "15 \t [0.95685487 5.12      ]\t -30.205486025573663\t -15.855753460551497\t 1.3705962328312657\n",
            "16 \t [-2.30320152 -3.07811036]\t -29.240698095102612\t -15.855753460551497\t 1.3994755058587889\n",
            "17 \t [ 5.12       -2.74097515]\t -47.004402820532\t -15.855753460551497\t 2.236977651971985\n",
            "18 \t [-3.20419861  3.62548722]\t -47.62220537426309\t -15.855753460551497\t 1.8353388890715354\n",
            "19 \t [-5.12       -0.42361851]\t -47.97448926063823\t -15.855753460551497\t 2.6923909979147527\n",
            "20 \t [ 0.51105006 -3.18085584]\t -36.14584786013372\t -15.855753460551497\t 2.898492408981287\n"
          ]
        }
      ]
    },
    {
      "cell_type": "code",
      "metadata": {
        "id": "ojHTeARNGCoi",
        "colab": {
          "base_uri": "https://localhost:8080/"
        },
        "outputId": "d71309aa-cc92-40e7-e255-805d37ec57c5"
      },
      "source": [
        "### ESTIMATED GP CBM GRADIENTS\n",
        "\n",
        "np.random.seed(run_num_14)\n",
        "surrogate_approx_14 = GaussianProcess(cov_func, optimize=opt)\n",
        "\n",
        "approx_14 = GPGO_multi(surrogate_approx_14, Acquisition_new(util_grad_approx), objfunc, param)\n",
        "approx_14.run(init_evals=n_init, max_iter=iters)\n"
      ],
      "execution_count": 26,
      "outputs": [
        {
          "output_type": "stream",
          "name": "stdout",
          "text": [
            "Evaluation \t Proposed point \t  Current eval. \t  Best eval. \t         Max AcqFunc.\n",
            "init\t [0.14277984 2.79721013]\t -18.683085263052178\t -10.423838604848608\t    \n",
            "init\t [ 3.7931795  -5.03759925]\t -47.36348784446708\t -10.423838604848608\t    \n",
            "init\t [-1.94830412  4.68586229]\t -40.19779334078636\t -10.423838604848608\t    \n",
            "init\t [ 0.13431513 -1.86076749]\t -10.423838604848608\t -10.423838604848608\t    \n",
            "init\t [ 0.40140736 -2.85434939]\t -30.353548735049138\t -10.423838604848608\t    \n",
            "1  \t [-5.12 -5.12]\t -57.84942745157173\t -10.423838604848608\t -2.4494897720008515\n",
            "2  \t [5.12 5.12]\t -57.849427451571785\t -10.423838604848608\t -2.4494874768147765\n",
            "3  \t [-5.12        0.35464195]\t -45.161763503151406\t -10.423838604848608\t -2.4494694883895622\n",
            "4  \t [ 5.12       -0.06384334]\t -29.722623401519847\t -10.423838604848608\t -2.4494003325638354\n",
            "5  \t [-5.12  5.12]\t -57.849427451571785\t -10.423838604848608\t -2.330103990245339\n",
            "6  \t [-1.64800672  0.0436926 ]\t -19.07101600581196\t -10.423838604848608\t -2.3007168851603192\n",
            "7  \t [-1.68585679 -5.12      ]\t -45.6888420664379\t -10.423838604848608\t -2.2391141187375956\n",
            "8  \t [1.91911646 0.23790568]\t -14.244242449293225\t -10.423838604848608\t -2.2230055116105603\n",
            "9  \t [1.75635726 5.12      ]\t -41.610172360881755\t -10.423838604848608\t -2.162487949524877\n",
            "10 \t [-3.36871002 -2.32588314]\t -48.13337848683512\t -10.423838604848608\t -1.9366276762833405\n",
            "11 \t [3.48303258 2.41600081]\t -56.55106171939758\t -10.423838604848608\t -1.7300104699605026\n",
            "12 \t [ 3.28694428 -2.13869383]\t -31.241241739476017\t -10.423838604848608\t -1.4812537778650268\n",
            "13 \t [-3.14497415  2.2806999 ]\t -30.87909238486235\t -10.423838604848608\t -1.0517049775283223\n",
            "14 \t [ 1.13113731 -5.12      ]\t -33.41098026635529\t -10.423838604848608\t -0.4494833848166783\n",
            "15 \t [ 5.12       -2.95340408]\t -38.07283056574916\t -10.423838604848608\t 0.9086994180798602\n",
            "16 \t [0.27431577 0.00503868]\t -11.602153967632658\t -10.423838604848608\t 1.2084702882229765\n",
            "17 \t [-0.81863852  1.58423692]\t -27.631468263746775\t -10.423838604848608\t 3.728786869712402\n",
            "18 \t [-5.12       2.7300868]\t -47.62600895199226\t -10.423838604848608\t 2.4276983156258707\n",
            "19 \t [-1.07693868 -1.54602983]\t -24.280584000400708\t -10.423838604848608\t 3.49807722474889\n",
            "20 \t [ 1.28755246 -1.02505334]\t -15.169825601779113\t -10.423838604848608\t 3.7624852911016857\n"
          ]
        }
      ]
    },
    {
      "cell_type": "code",
      "metadata": {
        "id": "vCJzn4vWGCs3",
        "colab": {
          "base_uri": "https://localhost:8080/"
        },
        "outputId": "2c8b3470-6dff-41e3-a0f0-60837e890f80"
      },
      "source": [
        "### ESTIMATED GP CBM GRADIENTS\n",
        "\n",
        "np.random.seed(run_num_15)\n",
        "surrogate_approx_15 = GaussianProcess(cov_func, optimize=opt)\n",
        "\n",
        "approx_15 = GPGO_multi(surrogate_approx_15, Acquisition_new(util_grad_approx), objfunc, param)\n",
        "approx_15.run(init_evals=n_init, max_iter=iters)\n"
      ],
      "execution_count": 27,
      "outputs": [
        {
          "output_type": "stream",
          "name": "stdout",
          "text": [
            "Evaluation \t Proposed point \t  Current eval. \t  Best eval. \t         Max AcqFunc.\n",
            "init\t [ 3.57189322 -3.28810573]\t -54.938487770767075\t -7.990765314336182\t    \n",
            "init\t [-4.56332069 -1.41784631]\t -60.750198753157726\t -7.990765314336182\t    \n",
            "init\t [-2.29989449  0.3072023 ]\t -31.984997246800887\t -7.990765314336182\t    \n",
            "init\t [-1.9873903  -2.00218256]\t -7.990765314336182\t -7.990765314336182\t    \n",
            "init\t [-3.97576933 -2.5610341 ]\t -41.754957769694336\t -7.990765314336182\t    \n",
            "1  \t [4.71600276 5.12      ]\t -63.28529747371073\t -7.990765314336182\t -2.449490051216816\n",
            "2  \t [-5.12  5.12]\t -57.849427451571785\t -7.990765314336182\t -2.4494872981616354\n",
            "3  \t [-0.20716529  5.12      ]\t -36.30862131458308\t -7.990765314336182\t -2.4491350039330837\n",
            "4  \t [2.26851359 1.12541793]\t -20.520865854642437\t -7.990765314336182\t -2.4476338211623383\n",
            "5  \t [-0.33201688 -5.12      ]\t -43.963145259098255\t -7.990765314336182\t -2.441927609819419\n",
            "6  \t [5.12      0.0460292]\t -29.342137609402968\t -7.990765314336182\t -2.3191436261351077\n",
            "7  \t [ 0.5893448  -1.57455758]\t -40.21447595851881\t -7.990765314336182\t -2.1703388022100096\n",
            "8  \t [-5.12 -5.12]\t -57.849427451571785\t -7.990765314336182\t -2.132877691995494\n",
            "9  \t [-5.12        1.87030495]\t -35.563328284584884\t -7.990765314336182\t -2.111469605507599\n",
            "10 \t [-2.34489259  3.25074469]\t -41.72790331883954\t -7.990765314336182\t -1.671069195297484\n",
            "11 \t [2.09741771 3.61925525]\t -36.63533968484967\t -7.990765314336182\t -1.259883283278553\n",
            "12 \t [ 5.12 -5.12]\t -57.849427451571785\t -7.990765314336182\t -0.9027498914817712\n",
            "13 \t [5.12       2.42124091]\t -53.587482911169936\t -7.990765314336182\t -0.6541341020272322\n",
            "14 \t [-0.03021265  1.63433484]\t -19.49601357706676\t -7.990765314336182\t -0.5833756826405296\n",
            "15 \t [-2.63569142 -5.12      ]\t -52.4520520959086\t -7.990765314336182\t 0.6544100003163246\n",
            "16 \t [ 2.03131211 -5.12      ]\t -33.24385183299909\t -7.990765314336182\t 0.6160800957426855\n",
            "17 \t [ 3.00153853 -0.79640246]\t -16.76953578717397\t -7.990765314336182\t 1.5413190094462719\n",
            "18 \t [-1.43130162 -2.71600345]\t -40.62794750106297\t -7.990765314336182\t 2.276301101232866\n",
            "19 \t [ 5.12       -1.87545507]\t -35.350788260655335\t -7.990765314336182\t 3.1444556249595785\n",
            "20 \t [-2.63271827  5.12      ]\t -52.575894428449175\t -7.990765314336182\t 3.221674873700785\n"
          ]
        }
      ]
    },
    {
      "cell_type": "code",
      "metadata": {
        "id": "bGGkhp-kGCw6",
        "colab": {
          "base_uri": "https://localhost:8080/"
        },
        "outputId": "0f474fc4-3f96-421b-8bff-372d92365307"
      },
      "source": [
        "### ESTIMATED GP CBM GRADIENTS\n",
        "\n",
        "np.random.seed(run_num_16)\n",
        "surrogate_approx_16 = GaussianProcess(cov_func, optimize=opt)\n",
        "\n",
        "approx_16 = GPGO_multi(surrogate_approx_16, Acquisition_new(util_grad_approx), objfunc, param)\n",
        "approx_16.run(init_evals=n_init, max_iter=iters)\n"
      ],
      "execution_count": 28,
      "outputs": [
        {
          "output_type": "stream",
          "name": "stdout",
          "text": [
            "Evaluation \t Proposed point \t  Current eval. \t  Best eval. \t         Max AcqFunc.\n",
            "init\t [-2.83349935  0.23719262]\t -22.27210456874814\t -22.27210456874814\t    \n",
            "init\t [ 0.51918292 -4.65303603]\t -57.57021076017139\t -22.27210456874814\t    \n",
            "init\t [-1.42613673 -2.83565116]\t -33.89145899403749\t -22.27210456874814\t    \n",
            "init\t [ 1.9325559  -3.44339021]\t -35.85029586225333\t -22.27210456874814\t    \n",
            "init\t [-4.39987336  4.51595121]\t -77.78800881964571\t -22.27210456874814\t    \n",
            "1  \t [5.12 5.12]\t -57.849427451571785\t -22.27210456874814\t -2.4494900512168254\n",
            "2  \t [5.12       0.13352717]\t -32.26029320716705\t -22.27210456874814\t -2.4492141322535903\n",
            "3  \t [0.53982093 3.56715505]\t -51.82755583913017\t -22.27210456874814\t -2.448976110228115\n",
            "4  \t [-5.12 -5.12]\t -57.849427451571785\t -22.27210456874814\t -2.448162901207399\n",
            "5  \t [ 5.12 -5.12]\t -57.849427451571785\t -22.27210456874814\t -2.425220777409935\n",
            "\u001b[1m\u001b[92m6\u001b[0m\t \u001b[1m\u001b[92m[1.26304623 0.01625575]\u001b[0m\t \u001b[1m\u001b[92m-12.466466547233672\u001b[0m\t \u001b[1m\u001b[92m-12.466466547233672\u001b[0m\t \u001b[1m\u001b[92m-2.362016252809615\u001b[0m\n",
            "7  \t [-5.12       -1.65401443]\t -47.33242017699497\t -12.466466547233672\t -2.233222271787537\n",
            "8  \t [3.37863915 2.40327769]\t -52.631330870100456\t -12.466466547233672\t -1.7490986033981772\n",
            "9  \t [-5.12        1.50309053]\t -51.18210956727327\t -12.466466547233672\t -1.6067068389226802\n",
            "10 \t [ 5.12       -2.35335961]\t -50.5103213109824\t -12.466466547233672\t -1.0434632253639782\n",
            "11 \t [-1.58308123  5.12      ]\t -50.099023043823095\t -12.466466547233672\t -1.0258296089216359\n",
            "12 \t [-0.67958393  1.00982751]\t -15.782076725401025\t -12.466466547233672\t -0.6362669957372058\n",
            "13 \t [-2.37082344 -5.12      ]\t -51.42861258557919\t -12.466466547233672\t -0.6350699884690766\n",
            "14 \t [2.42533924 5.12      ]\t -53.72670607787259\t -12.466466547233672\t 0.019002895164980025\n",
            "15 \t [ 2.69195449 -0.96364612]\t -22.001765251852056\t -12.466466547233672\t 0.4004650209997534\n",
            "16 \t [-2.26893402  2.47977206]\t -42.403527957166766\t -12.466466547233672\t 0.5681878136353523\n",
            "\u001b[1m\u001b[92m17\u001b[0m\t \u001b[1m\u001b[92m[-0.07386982 -1.03456288]\u001b[0m\t \u001b[1m\u001b[92m-2.368576320081349\u001b[0m\t \u001b[1m\u001b[92m-2.368576320081349\u001b[0m\t \u001b[1m\u001b[92m1.0385220978960235\u001b[0m\n",
            "18 \t [-0.07410751 -1.03469279]\t -2.3773376757648066\t -2.368576320081349\t 0.8123227668189351\n",
            "19 \t [-0.07398909 -1.03463239]\t -2.3730369079673928\t -2.368576320081349\t 0.7491858791338674\n",
            "20 \t [-0.07388426 -1.03457956]\t -2.3692448333928766\t -2.368576320081349\t 0.7189962890413605\n"
          ]
        }
      ]
    },
    {
      "cell_type": "code",
      "metadata": {
        "id": "Yrs2mp7hGC1Z",
        "colab": {
          "base_uri": "https://localhost:8080/"
        },
        "outputId": "451ef7d7-95e5-4b98-edf3-9f027213238e"
      },
      "source": [
        "### ESTIMATED GP CBM GRADIENTS\n",
        "\n",
        "np.random.seed(run_num_17)\n",
        "surrogate_approx_17 = GaussianProcess(cov_func, optimize=opt)\n",
        "\n",
        "approx_17 = GPGO_multi(surrogate_approx_17, Acquisition_new(util_grad_approx), objfunc, param)\n",
        "approx_17.run(init_evals=n_init, max_iter=iters)\n"
      ],
      "execution_count": 29,
      "outputs": [
        {
          "output_type": "stream",
          "name": "stdout",
          "text": [
            "Evaluation \t Proposed point \t  Current eval. \t  Best eval. \t         Max AcqFunc.\n",
            "init\t [-2.10263037  0.31320838]\t -20.395145364684023\t -20.395145364684023\t    \n",
            "init\t [-3.15882714 -4.42470033]\t -53.03732051200137\t -20.395145364684023\t    \n",
            "init\t [2.93873111 1.60085526]\t -29.989224812583537\t -20.395145364684023\t    \n",
            "init\t [1.40821398 0.77417363]\t -29.451989415882437\t -20.395145364684023\t    \n",
            "init\t [-4.71999574 -1.45598869]\t -55.89242173757483\t -20.395145364684023\t    \n",
            "1  \t [ 5.12 -5.12]\t -57.849427451571785\t -20.395145364684023\t -2.44949005063664\n",
            "2  \t [-5.12        5.05158176]\t -54.963807772552855\t -20.395145364684023\t -2.449488617578953\n",
            "3  \t [-0.25096492  5.12      ]\t -39.04832465800216\t -20.395145364684023\t -2.4488420110824194\n",
            "4  \t [5.12 5.12]\t -57.849427451571785\t -20.395145364684023\t -2.446912988233613\n",
            "5  \t [ 1.07732507 -3.5143834 ]\t -34.62791676441402\t -20.395145364684023\t -2.443701543173175\n",
            "6  \t [ 5.12       -1.25380915]\t -40.73606452608816\t -20.395145364684023\t -2.4096437615021427\n",
            "7  \t [-5.12       1.8068869]\t -38.69086727390665\t -20.395145364684023\t -2.1469508858869792\n",
            "8  \t [-2.31172209  3.10296838]\t -30.774961374747114\t -20.395145364684023\t -1.7016814450825413\n",
            "\u001b[1m\u001b[92m9\u001b[0m\t \u001b[1m\u001b[92m[-1.18630154 -1.98992001]\u001b[0m\t \u001b[1m\u001b[92m-11.490847962876344\u001b[0m\t \u001b[1m\u001b[92m-11.490847962876344\u001b[0m\t \u001b[1m\u001b[92m-1.3196782315515494\u001b[0m\n",
            "10 \t [2.32530644 4.36417336]\t -55.58418071752794\t -11.490847962876344\t -1.2232761422875795\n",
            "11 \t [5.12       2.01252209]\t -33.00589458460007\t -11.490847962876344\t -0.9490014554597852\n",
            "12 \t [-0.58827674 -5.12      ]\t -47.77158354400011\t -11.490847962876344\t -0.46515247988156266\n",
            "13 \t [ 2.51489072 -1.52785241]\t -48.462533927427955\t -11.490847962876344\t -0.3727351187330317\n",
            "14 \t [ 2.5472101 -5.12     ]\t -54.976263289971754\t -11.490847962876344\t 0.30126984368036613\n",
            "15 \t [-0.09023768  2.36599505]\t -23.83069460509013\t -11.490847962876344\t 0.5812823892723201\n",
            "16 \t [-5.12 -5.12]\t -57.849427451571785\t -11.490847962876344\t 0.5842307898141103\n",
            "\u001b[1m\u001b[92m17\u001b[0m\t \u001b[1m\u001b[92m[-0.16716341 -0.82243219]\u001b[0m\t \u001b[1m\u001b[92m-11.335827303531488\u001b[0m\t \u001b[1m\u001b[92m-11.335827303531488\u001b[0m\t \u001b[1m\u001b[92m1.6646764841575612\u001b[0m\n",
            "18 \t [-2.64889283  5.12      ]\t -51.87533635309205\t -11.335827303531488\t 1.7427709649245737\n",
            "19 \t [-2.25498957 -2.03624014]\t -19.802830378143153\t -11.335827303531488\t 3.1813406390678756\n",
            "20 \t [-0.15647201 -1.74837619]\t -17.639229306929952\t -11.335827303531488\t 4.937364378954615\n"
          ]
        }
      ]
    },
    {
      "cell_type": "code",
      "metadata": {
        "id": "f0HIEP3PIUEa",
        "colab": {
          "base_uri": "https://localhost:8080/"
        },
        "outputId": "6cb03916-20f8-46f3-aa6d-b53e7442b7d9"
      },
      "source": [
        "### ESTIMATED GP CBM GRADIENTS\n",
        "\n",
        "np.random.seed(run_num_18)\n",
        "surrogate_approx_18 = GaussianProcess(cov_func, optimize=opt)\n",
        "\n",
        "approx_18 = GPGO_multi(surrogate_approx_18, Acquisition_new(util_grad_approx), objfunc, param)\n",
        "approx_18.run(init_evals=n_init, max_iter=iters)\n"
      ],
      "execution_count": 30,
      "outputs": [
        {
          "output_type": "stream",
          "name": "stdout",
          "text": [
            "Evaluation \t Proposed point \t  Current eval. \t  Best eval. \t         Max AcqFunc.\n",
            "init\t [1.53983224 0.05584255]\t -22.67190580753611\t -22.67190580753611\t    \n",
            "init\t [ 3.87687906 -3.25795609]\t -38.990099416711985\t -22.67190580753611\t    \n",
            "init\t [3.60686662 2.56139557]\t -56.66448698782129\t -22.67190580753611\t    \n",
            "init\t [1.70088108 4.99604939]\t -40.894059318256296\t -22.67190580753611\t    \n",
            "init\t [-2.48864335 -4.83014733]\t -54.6725749848372\t -22.67190580753611\t    \n",
            "1  \t [-5.12        2.22636855]\t -42.4020726587362\t -22.67190580753611\t -2.4494900509193176\n",
            "2  \t [-2.37391628  5.12      ]\t -51.5829480074582\t -22.67190580753611\t -2.4370622272852853\n",
            "3  \t [-5.12       -1.79644078]\t -39.27518551518237\t -22.67190580753611\t -2.4343967654334304\n",
            "\u001b[1m\u001b[92m4\u001b[0m\t \u001b[1m\u001b[92m[-1.9078547   0.24187531]\u001b[0m\t \u001b[1m\u001b[92m-14.817856959947829\u001b[0m\t \u001b[1m\u001b[92m-14.817856959947829\u001b[0m\t \u001b[1m\u001b[92m-2.38909743604242\u001b[0m\n",
            "5  \t [ 1.04802886 -5.12      ]\t -30.474971484328066\t -14.817856959947829\t -2.336085078509165\n",
            "6  \t [5.12 5.12]\t -57.849427451571785\t -14.817856959947829\t -2.0508170985313736\n",
            "7  \t [ 5.12       -0.35046897]\t -44.94920775170895\t -14.817856959947829\t -2.1724611109824337\n",
            "8  \t [-0.36682372 -2.25804684]\t -32.43735407509623\t -14.817856959947829\t -2.0251771911860916\n",
            "9  \t [-0.32721768  2.52247854]\t -41.03400968176938\t -14.817856959947829\t -1.9583375870035913\n",
            "10 \t [-5.12 -5.12]\t -57.849427451571785\t -14.817856959947829\t -1.5500904227050127\n",
            "11 \t [-5.12  5.12]\t -57.849427451571785\t -14.817856959947829\t -1.5340539160328441\n",
            "12 \t [-2.72635499 -1.8258683 ]\t -27.658559703112864\t -14.817856959947829\t 0.46041145346812673\n",
            "13 \t [ 5.12 -5.12]\t -57.849427451571785\t -14.817856959947829\t -0.8614684416363002\n",
            "14 \t [-2.76220499  2.17501364]\t -27.05520907072846\t -14.817856959947829\t 0.8772752748572135\n",
            "\u001b[1m\u001b[92m15\u001b[0m\t \u001b[1m\u001b[92m[ 1.95261026 -2.10530595]\u001b[0m\t \u001b[1m\u001b[92m-10.795281642008712\u001b[0m\t \u001b[1m\u001b[92m-10.795281642008712\u001b[0m\t \u001b[1m\u001b[92m1.2066400827622288\u001b[0m\n",
            "16 \t [-0.40045941  0.0436923 ]\t -18.643843865831826\t -10.795281642008712\t 3.373977442134629\n",
            "17 \t [-3.98132217  0.18284199]\t -21.85759113674901\t -10.795281642008712\t 2.4262896547932127\n",
            "\u001b[1m\u001b[92m18\u001b[0m\t \u001b[1m\u001b[92m[ 2.93605692 -1.03446499]\u001b[0m\t \u001b[1m\u001b[92m-10.720385034438747\u001b[0m\t \u001b[1m\u001b[92m-10.720385034438747\u001b[0m\t \u001b[1m\u001b[92m3.7091102280739134\u001b[0m\n",
            "19 \t [-0.25818436  5.12      ]\t -39.50538471704368\t -10.720385034438747\t 3.8962089702001625\n",
            "20 \t [ 1.61118163 -3.13491334]\t -33.46398141378937\t -10.720385034438747\t 4.268446516260876\n"
          ]
        }
      ]
    },
    {
      "cell_type": "code",
      "metadata": {
        "id": "S3mxRQDLIUPC",
        "colab": {
          "base_uri": "https://localhost:8080/"
        },
        "outputId": "56fabbf0-4e52-43cd-f5fd-a1f56fd155e7"
      },
      "source": [
        "### ESTIMATED GP CBM GRADIENTS\n",
        "\n",
        "np.random.seed(run_num_19)\n",
        "surrogate_approx_19 = GaussianProcess(cov_func, optimize=opt)\n",
        "\n",
        "approx_19 = GPGO_multi(surrogate_approx_19, Acquisition_new(util_grad_approx), objfunc, param)\n",
        "approx_19.run(init_evals=n_init, max_iter=iters)\n"
      ],
      "execution_count": 31,
      "outputs": [
        {
          "output_type": "stream",
          "name": "stdout",
          "text": [
            "Evaluation \t Proposed point \t  Current eval. \t  Best eval. \t         Max AcqFunc.\n",
            "init\t [-4.12125592  2.6751971 ]\t -41.43485596167127\t -25.867003842388073\t    \n",
            "init\t [-2.59135515 -3.70553152]\t -51.60126035043229\t -25.867003842388073\t    \n",
            "init\t [-1.72598719 -4.27008445]\t -43.97430127029199\t -25.867003842388073\t    \n",
            "init\t [1.76104531 3.13952049]\t -25.867003842388073\t -25.867003842388073\t    \n",
            "init\t [4.9432772  1.38916592]\t -44.66580306903559\t -25.867003842388073\t    \n",
            "1  \t [ 5.12 -5.12]\t -57.849427451571785\t -25.867003842388073\t -2.4494900366289403\n",
            "2  \t [ 1.77638486 -1.68662986]\t -28.227324808808422\t -25.867003842388073\t -2.446355882164541\n",
            "3  \t [5.12 5.12]\t -57.849427451571785\t -25.867003842388073\t -2.4221723481964457\n",
            "4  \t [-1.28670402  5.12      ]\t -42.866114606104645\t -25.867003842388073\t -2.413241292080429\n",
            "5  \t [-5.12       -0.97841025]\t -29.97386718318932\t -25.867003842388073\t -2.412379625929092\n",
            "\u001b[1m\u001b[92m6\u001b[0m\t \u001b[1m\u001b[92m[-1.20044469  0.35640288]\u001b[0m\t \u001b[1m\u001b[92m-24.702985938591134\u001b[0m\t \u001b[1m\u001b[92m-24.702985938591134\u001b[0m\t \u001b[1m\u001b[92m-2.400039288514409\u001b[0m\n",
            "7  \t [ 1.54014751 -5.12      ]\t -50.980290533066025\t -24.702985938591134\t -2.3093970901486873\n",
            "8  \t [ 5.12       -1.82150883]\t -37.89922770610248\t -24.702985938591134\t -2.144940575451581\n",
            "9  \t [-5.12 -5.12]\t -57.849427451571785\t -24.702985938591134\t -2.093619914634814\n",
            "10 \t [-5.12  5.12]\t -57.849427451571785\t -24.702985938591134\t -1.802430793905113\n",
            "\u001b[1m\u001b[92m11\u001b[0m\t \u001b[1m\u001b[92m[1.81521671 0.74301196]\u001b[0m\t \u001b[1m\u001b[92m-20.302037188491035\u001b[0m\t \u001b[1m\u001b[92m-20.302037188491035\u001b[0m\t \u001b[1m\u001b[92m-0.7261600248823843\u001b[0m\n",
            "12 \t [2.02909122 5.12      ]\t -33.20851307194773\t -20.302037188491035\t -0.39708999921618543\n",
            "13 \t [-0.86402916  2.59118169]\t -29.296792285889047\t -20.302037188491035\t -0.2183430145714458\n",
            "14 \t [-0.58560785 -1.8562976 ]\t -26.183405287171915\t -20.302037188491035\t 0.2159349779391221\n",
            "\u001b[1m\u001b[92m15\u001b[0m\t \u001b[1m\u001b[92m[-2.98563388 -0.74670483]\u001b[0m\t \u001b[1m\u001b[92m-19.719315515292898\u001b[0m\t \u001b[1m\u001b[92m-19.719315515292898\u001b[0m\t \u001b[1m\u001b[92m0.9545840175279015\u001b[0m\n",
            "16 \t [ 3.23958905 -3.27964654]\t -42.44933893799179\t -19.719315515292898\t 1.9715772943264527\n",
            "17 \t [-5.12       -2.81504088]\t -42.87533271956318\t -19.719315515292898\t 2.964380763156552\n",
            "18 \t [-5.12        0.90343063]\t -31.525921269234885\t -19.719315515292898\t 2.5423838498588363\n",
            "19 \t [ 3.38332457 -0.29224023]\t -41.58635323350194\t -19.719315515292898\t 3.548446282397511\n",
            "20 \t [3.66558765 3.14366961]\t -42.182884118962725\t -19.719315515292898\t 3.602171242590528\n"
          ]
        }
      ]
    },
    {
      "cell_type": "code",
      "metadata": {
        "id": "Aawd59dRIUYn",
        "colab": {
          "base_uri": "https://localhost:8080/"
        },
        "outputId": "5e088cd1-0e36-4bf2-fb7f-8a1b0d4bcb78"
      },
      "source": [
        "### ESTIMATED GP CBM GRADIENTS\n",
        "\n",
        "np.random.seed(run_num_20)\n",
        "surrogate_approx_20 = GaussianProcess(cov_func, optimize=opt)\n",
        "\n",
        "approx_20 = GPGO_multi(surrogate_approx_20, Acquisition_new(util_grad_approx), objfunc, param)\n",
        "approx_20.run(init_evals=n_init, max_iter=iters)\n"
      ],
      "execution_count": 32,
      "outputs": [
        {
          "output_type": "stream",
          "name": "stdout",
          "text": [
            "Evaluation \t Proposed point \t  Current eval. \t  Best eval. \t         Max AcqFunc.\n",
            "init\t [0.9024594  4.07258857]\t -20.24255447774017\t -17.388691338534382\t    \n",
            "init\t [4.00927467 3.23417577]\t -35.55852254546393\t -17.388691338534382\t    \n",
            "init\t [-4.75249064  1.96359764]\t -36.54582989269194\t -17.388691338534382\t    \n",
            "init\t [-1.24230715  0.18955208]\t -17.388691338534382\t -17.388691338534382\t    \n",
            "init\t [ 1.61742301 -3.13497377]\t -33.22932870179905\t -17.388691338534382\t    \n",
            "1  \t [-5.12 -5.12]\t -57.849427451571785\t -17.388691338534382\t -2.449490047111669\n",
            "2  \t [ 5.12      -0.9264602]\t -30.831700356502196\t -17.388691338534382\t -2.444678408277677\n",
            "3  \t [ 5.12 -5.12]\t -57.849427451571785\t -17.388691338534382\t -2.442128519048078\n",
            "4  \t [-2.70369427  5.12      ]\t -49.10327650362562\t -17.388691338534382\t -2.425367756112288\n",
            "5  \t [-1.34011945 -5.12      ]\t -46.085237404752505\t -17.388691338534382\t -2.3974435467827493\n",
            "6  \t [-5.12       -1.49922745]\t -51.172278865049485\t -17.388691338534382\t -2.364686086459179\n",
            "7  \t [1.91188429 0.46609646]\t -25.14038737874554\t -17.388691338534382\t -2.281646114901808\n",
            "8  \t [-2.03090565 -2.26146425]\t -20.14644450117214\t -17.388691338534382\t -1.6492497300355284\n",
            "9  \t [-1.34726428  2.54284862]\t -43.658900020394114\t -17.388691338534382\t -1.26396953788927\n",
            "10 \t [-5.12  5.12]\t -57.849427451571785\t -17.388691338534382\t -1.0149380755900812\n",
            "11 \t [2.81167366 5.12      ]\t -43.05140771598822\t -17.388691338534382\t -0.06730272964274889\n",
            "12 \t [ 2.24324932 -5.12      ]\t -43.53285071801163\t -17.388691338534382\t -0.04636574200412924\n",
            "13 \t [5.12       1.32212653]\t -45.0510390256122\t -17.388691338534382\t 0.3008250233544955\n",
            "14 \t [5.12 5.12]\t -57.849427451571785\t -17.388691338534382\t 0.4518833605390157\n",
            "15 \t [ 0.18671922 -1.30748313]\t -21.406021206428772\t -17.388691338534382\t 0.6356400285832113\n",
            "16 \t [ 3.91011492 -2.66570121]\t -39.000257628425096\t -17.388691338534382\t 1.026252559876917\n",
            "\u001b[1m\u001b[92m17\u001b[0m\t \u001b[1m\u001b[92m[-3.10451984  0.11553445]\u001b[0m\t \u001b[1m\u001b[92m-14.25252504417292\u001b[0m\t \u001b[1m\u001b[92m-14.25252504417292\u001b[0m\t \u001b[1m\u001b[92m1.1639168821950021\u001b[0m\n",
            "18 \t [-0.2893229  5.12     ]\t -41.454091108852964\t -14.25252504417292\t 1.9809334229462334\n",
            "19 \t [1.45121412 2.39106555]\t -45.10471365393141\t -14.25252504417292\t 1.7241963677355314\n",
            "20 \t [-3.35183702 -3.47084044]\t -59.085013521238864\t -14.25252504417292\t 2.554170105922692\n"
          ]
        }
      ]
    },
    {
      "cell_type": "code",
      "metadata": {
        "id": "xkgzPRbBTHaq",
        "colab": {
          "base_uri": "https://localhost:8080/"
        },
        "outputId": "68ba211d-7805-4d48-8297-4672b8182b98"
      },
      "source": [
        "end_approx = time.time()\n",
        "end_approx\n",
        "\n",
        "time_approx = end_approx - start_approx\n",
        "time_approx\n",
        "\n",
        "start_exact = time.time()\n",
        "start_exact"
      ],
      "execution_count": 33,
      "outputs": [
        {
          "output_type": "execute_result",
          "data": {
            "text/plain": [
              "1649238087.2476625"
            ]
          },
          "metadata": {},
          "execution_count": 33
        }
      ]
    },
    {
      "cell_type": "code",
      "metadata": {
        "id": "7CG3Ndvb16Rb",
        "colab": {
          "base_uri": "https://localhost:8080/"
        },
        "outputId": "8739a97e-f1fb-4b54-ba58-ba9d85050e6e"
      },
      "source": [
        "### EXACT GP CBM GRADIENTS\n",
        "\n",
        "np.random.seed(run_num_1)\n",
        "surrogate_exact_1 = dGaussianProcess(cov_func, optimize=opt)\n",
        "\n",
        "exact_1 = dGPGO(surrogate_exact_1, Acquisition_new(util_grad_exact), objfunc, param)\n",
        "exact_1.run(init_evals=n_init, max_iter=iters)\n"
      ],
      "execution_count": 34,
      "outputs": [
        {
          "output_type": "stream",
          "name": "stdout",
          "text": [
            "Evaluation \t Proposed point \t  Current eval. \t  Best eval. \t         Max AcqFunc.\n",
            "init\t [-0.84969467  2.25612281]\t -20.33436270766351\t -19.908403246996286\t    \n",
            "init\t [-5.1188288  -2.02411446]\t -33.07414982069084\t -19.908403246996286\t    \n",
            "init\t [-3.61721968 -4.17445279]\t -53.347974723929894\t -19.908403246996286\t    \n",
            "init\t [-3.21269544 -1.58145816]\t -39.218472310354045\t -19.908403246996286\t    \n",
            "init\t [-1.05710106  0.39748336]\t -19.908403246996286\t -19.908403246996286\t    \n",
            "1  \t [ 4.04077223 -4.24914728]\t -44.655863836006326\t -19.908403246996286\t -2.4494897476658344\n",
            "2  \t [5.12 5.12]\t -57.849427451571785\t -19.908403246996286\t -2.449489745255193\n",
            "3  \t [4.33475417 0.43297623]\t -53.180980499532076\t -19.908403246996286\t -2.448750864179886\n",
            "4  \t [-5.12        4.36680096]\t -64.69123843795754\t -19.908403246996286\t -2.4493778203046968\n",
            "5  \t [ 0.15770233 -5.09604231]\t -32.281101249494625\t -19.908403246996286\t -2.4273022143109206\n",
            "6  \t [1.14888935 5.12      ]\t -34.31049495059831\t -19.908403246996286\t -2.417502141640906\n",
            "7  \t [ 1.31215544 -1.72457878]\t -30.093227607524224\t -19.908403246996286\t -2.313812891967618\n",
            "8  \t [-4.10738278  1.26624151]\t -31.683767492126037\t -19.908403246996286\t -1.954778369306419\n",
            "9  \t [-1.80311813  5.01676022]\t -35.198621402830796\t -19.908403246996286\t -1.991642442118592\n",
            "10 \t [1.44238201 2.67763643]\t -42.993712043666534\t -19.908403246996286\t -0.9404791541561687\n",
            "11 \t [-1.02395583 -2.45593407]\t -26.812308828097155\t -19.908403246996286\t 0.026150526494314968\n",
            "12 \t [ 4.99921021 -1.83467786]\t -33.28528684457644\t -19.908403246996286\t -0.03846926219258574\n",
            "13 \t [3.99838921 2.92178198]\t -25.70798242415452\t -19.908403246996286\t 0.8375697066581458\n",
            "14 \t [1.35947516 0.39851402]\t -36.390720746678085\t -19.908403246996286\t 1.5694406216102859\n",
            "15 \t [-2.47626773  2.64959602]\t -48.9396599879645\t -19.908403246996286\t 2.5704372079978177\n",
            "16 \t [ 1.67563499 -3.61166579]\t -47.99419806642764\t -19.908403246996286\t 2.703845364246758\n",
            "17 \t [-5.12 -5.12]\t -57.849427451571785\t -19.908403246996286\t 3.0891329659783944\n",
            "18 \t [-1.73514101 -5.12      ]\t -42.86768997022405\t -19.908403246996286\t 2.9773239361193826\n",
            "19 \t [2.95154008 5.00048796]\t -34.17649388474131\t -19.908403246996286\t 4.6924193276473485\n",
            "20 \t [-4.75119855 -0.2707928 ]\t -43.87464738822641\t -19.908403246996286\t 6.485950318365984\n"
          ]
        }
      ]
    },
    {
      "cell_type": "code",
      "metadata": {
        "id": "-ilCPSAu9SAg",
        "colab": {
          "base_uri": "https://localhost:8080/"
        },
        "outputId": "89f03784-8b86-48b2-fbab-df2ade7e227a"
      },
      "source": [
        "### EXACT GP CBM GRADIENTS\n",
        "\n",
        "np.random.seed(run_num_2)\n",
        "surrogate_exact_2 = dGaussianProcess(cov_func, optimize=opt)\n",
        "\n",
        "exact_2 = dGPGO(surrogate_exact_2, Acquisition_new(util_grad_exact), objfunc, param)\n",
        "exact_2.run(init_evals=n_init, max_iter=iters)\n"
      ],
      "execution_count": 35,
      "outputs": [
        {
          "output_type": "stream",
          "name": "stdout",
          "text": [
            "Evaluation \t Proposed point \t  Current eval. \t  Best eval. \t         Max AcqFunc.\n",
            "init\t [-0.6554122  -4.85451539]\t -43.490296251903594\t -18.964539418712707\t    \n",
            "init\t [ 0.50854377 -0.6622987 ]\t -35.91861667536101\t -18.964539418712707\t    \n",
            "init\t [-0.81543371 -1.73737143]\t -20.479562046739524\t -18.964539418712707\t    \n",
            "init\t [-3.02439799  1.2213347 ]\t -18.964539418712707\t -18.964539418712707\t    \n",
            "init\t [-2.05153614 -2.3876887 ]\t -28.041315668371354\t -18.964539418712707\t    \n",
            "1  \t [5.12       3.80451147]\t -50.04053833990521\t -18.964539418712707\t -2.449489728774618\n",
            "2  \t [ 4.8426374  -3.96513962]\t -43.91494982239938\t -18.964539418712707\t -2.4494795787208776\n",
            "3  \t [0.07189404 5.12      ]\t -29.932921716725147\t -18.964539418712707\t -2.449418798186937\n",
            "4  \t [-5.12 -5.12]\t -57.849427451571785\t -18.964539418712707\t -2.445773712031007\n",
            "5  \t [ 4.59822198 -0.06266717]\t -40.06813077177487\t -18.964539418712707\t -2.423267163050551\n",
            "6  \t [-3.91741982  4.88362669]\t -43.06840046786972\t -18.964539418712707\t -2.4366186274911636\n",
            "7  \t [-5.12       -1.26588348]\t -41.52350765005101\t -18.964539418712707\t -2.32311754657535\n",
            "8  \t [1.21966562 2.47437228]\t -35.586292294195815\t -18.964539418712707\t -2.109340366047549\n",
            "9  \t [2.93241512 4.7693364 ]\t -41.021836144466036\t -18.964539418712707\t -0.4881289308856703\n",
            "10 \t [ 1.96093986 -3.20070251]\t -21.34127269177578\t -18.964539418712707\t -1.7240072792795538\n",
            "11 \t [-1.721214    3.19709588]\t -31.719646284576534\t -18.964539418712707\t -0.768826895100943\n",
            "12 \t [ 2.89732231 -1.49414026]\t -32.630016455930445\t -18.964539418712707\t 1.6632336614834469\n",
            "13 \t [ 1.89090041 -4.71320429]\t -40.34012963843834\t -18.964539418712707\t 1.614988352346936\n",
            "14 \t [-5.12        2.17241085]\t -38.95983461575299\t -18.964539418712707\t -1.467785696899281\n",
            "15 \t [-2.93346297 -4.40688867]\t -47.224031847994354\t -18.964539418712707\t 2.1873878271475076\n",
            "\u001b[1m\u001b[92m16\u001b[0m\t \u001b[1m\u001b[92m[-1.22609684  0.86595972]\u001b[0m\t \u001b[1m\u001b[92m-14.098729008015335\u001b[0m\t \u001b[1m\u001b[92m-14.098729008015335\u001b[0m\t \u001b[1m\u001b[92m1.6198423198154555\u001b[0m\n",
            "17 \t [3.60809206 1.70668682]\t -46.40007760985867\t -14.098729008015335\t 1.8691791338642232\n",
            "18 \t [-2.85927271 -0.45293529]\t -31.607563838274608\t -14.098729008015335\t 2.921538139324352\n",
            "19 \t [-0.78403556  1.64973154]\t -27.105561699444003\t -14.098729008015335\t 6.4091310767235985\n",
            "20 \t [ 0.24519779 -2.78076607]\t -25.570023733181092\t -14.098729008015335\t 5.79501494287065\n"
          ]
        }
      ]
    },
    {
      "cell_type": "code",
      "metadata": {
        "id": "XieJ158mIvlP",
        "colab": {
          "base_uri": "https://localhost:8080/"
        },
        "outputId": "4c311365-49e6-4f51-85b4-ec6396c099a3"
      },
      "source": [
        "### EXACT GP CBM GRADIENTS\n",
        "\n",
        "np.random.seed(run_num_3)\n",
        "surrogate_exact_3 = dGaussianProcess(cov_func, optimize=opt)\n",
        "\n",
        "exact_3 = dGPGO(surrogate_exact_3, Acquisition_new(util_grad_exact), objfunc, param)\n",
        "exact_3.run(init_evals=n_init, max_iter=iters)\n"
      ],
      "execution_count": 36,
      "outputs": [
        {
          "output_type": "stream",
          "name": "stdout",
          "text": [
            "Evaluation \t Proposed point \t  Current eval. \t  Best eval. \t         Max AcqFunc.\n",
            "init\t [0.52017052 2.1314337 ]\t -27.953858411008774\t -10.607662635789808\t    \n",
            "init\t [-2.14113547  0.11087468]\t -10.607662635789808\t -10.607662635789808\t    \n",
            "init\t [4.02377681 4.05804123]\t -33.42749829480097\t -10.607662635789808\t    \n",
            "init\t [-3.83400642 -2.99783293]\t -28.650953928965198\t -10.607662635789808\t    \n",
            "init\t [-4.59297584 -0.6061072 ]\t -57.6631355589384\t -10.607662635789808\t    \n",
            "1  \t [ 1.67759363 -3.17566699]\t -32.7907642079921\t -10.607662635789808\t -2.4494663387765687\n",
            "2  \t [-3.5586837   4.82551617]\t -60.708950458775234\t -10.607662635789808\t -2.4493670308790456\n",
            "3  \t [ 5.12       -0.35056886]\t -44.954343597875784\t -10.607662635789808\t -2.4481119780658616\n",
            "4  \t [-1.57260703 -5.10194399]\t -49.46246710132813\t -10.607662635789808\t -2.320217691802906\n",
            "5  \t [ 4.60147279 -3.45087817]\t -70.64501486031446\t -10.607662635789808\t -2.0690921628321632\n",
            "6  \t [-5.12 -5.12]\t -57.849427451571785\t -10.607662635789808\t -1.7761208569161486\n",
            "7  \t [0.29061674 5.12      ]\t -41.53358556278821\t -10.607662635789808\t -2.266517339647572\n",
            "8  \t [ 1.77493007 -0.25189728]\t -21.773030851598104\t -10.607662635789808\t -1.7684576785338255\n",
            "9  \t [-0.7359554  -2.15894735]\t -20.66999307193039\t -10.607662635789808\t -1.411762109051528\n",
            "10 \t [3.26056335 1.71895742]\t -36.18743514165025\t -10.607662635789808\t -0.37680772348934655\n",
            "11 \t [-3.3651969   2.06330749]\t -32.98492074816173\t -10.607662635789808\t -1.0821149277249495\n",
            "12 \t [ 2.14794243 -5.08668423]\t -35.95299337399227\t -10.607662635789808\t 0.33344926813818493\n",
            "13 \t [-1.35535102  3.17557749]\t -33.56020626292794\t -10.607662635789808\t 1.5545906596460368\n",
            "14 \t [-0.32438618 -0.19081087]\t -21.013315292869265\t -10.607662635789808\t 1.4010435308451543\n",
            "15 \t [5.12 5.12]\t -57.849427451571785\t -10.607662635789808\t 2.673052465152973\n",
            "16 \t [2.4046344 5.12     ]\t -52.964852386611796\t -10.607662635789808\t 2.336655378113055\n",
            "17 \t [5.12       2.53456642]\t -55.11381483428393\t -10.607662635789808\t 2.832760329246783\n",
            "18 \t [-5.02047511  2.39476211]\t -48.91507466256391\t -10.607662635789808\t 2.0966875575394104\n",
            "19 \t [-2.07318393 -2.41347759]\t -29.720012447144367\t -10.607662635789808\t 4.725722060777295\n",
            "20 \t [ 2.71753454 -1.07392347]\t -21.623483979619195\t -10.607662635789808\t 4.645758121654676\n"
          ]
        }
      ]
    },
    {
      "cell_type": "code",
      "metadata": {
        "id": "PhLBVOIfIvol",
        "colab": {
          "base_uri": "https://localhost:8080/"
        },
        "outputId": "9a4f9614-3ddd-4a71-a397-0e15276ae988"
      },
      "source": [
        "### EXACT GP CBM GRADIENTS\n",
        "\n",
        "np.random.seed(run_num_4)\n",
        "surrogate_exact_4 = dGaussianProcess(cov_func, optimize=opt)\n",
        "\n",
        "exact_4 = dGPGO(surrogate_exact_4, Acquisition_new(util_grad_exact), objfunc, param)\n",
        "exact_4.run(init_evals=n_init, max_iter=iters)\n"
      ],
      "execution_count": 37,
      "outputs": [
        {
          "output_type": "stream",
          "name": "stdout",
          "text": [
            "Evaluation \t Proposed point \t  Current eval. \t  Best eval. \t         Max AcqFunc.\n",
            "init\t [4.78238555 0.48365823]\t -51.03163809010808\t -14.323038259018315\t    \n",
            "init\t [4.84028785 2.19971578]\t -39.78645699016559\t -14.323038259018315\t    \n",
            "init\t [ 2.02474316 -2.90724357]\t -14.323038259018315\t -14.323038259018315\t    \n",
            "init\t [ 4.87705042 -5.05620219]\t -52.80627247106233\t -14.323038259018315\t    \n",
            "init\t [-2.52946061 -0.66773471]\t -41.61497868486559\t -14.323038259018315\t    \n",
            "1  \t [-2.37593932  5.12      ]\t -51.68247856493545\t -14.323038259018315\t -2.4494886538051936\n",
            "2  \t [-5.12 -5.12]\t -57.849427451571785\t -14.323038259018315\t -2.449453729222836\n",
            "3  \t [1.96075057 5.12      ]\t -33.07180450648749\t -14.323038259018315\t -2.443520898139463\n",
            "4  \t [0.79127676 1.31343866]\t -23.667976802215463\t -14.323038259018315\t -2.4221756700202883\n",
            "5  \t [-1.110264   -4.91495882]\t -29.088855050017802\t -14.323038259018315\t -2.4324475861752144\n",
            "6  \t [5.12 5.12]\t -57.849427451571785\t -14.323038259018315\t -2.1039140531714358\n",
            "7  \t [-5.12       -1.84855697]\t -36.53761669572389\t -14.323038259018315\t -1.950676662420389\n",
            "8  \t [-3.13615968  2.10864947]\t -19.964669672862776\t -14.323038259018315\t -1.8727159836479361\n",
            "9  \t [-5.05769234  0.74720437]\t -36.964050308012574\t -14.323038259018315\t -0.9136486703985448\n",
            "\u001b[1m\u001b[92m10\u001b[0m\t \u001b[1m\u001b[92m[ 0.08300918 -1.79711605]\u001b[0m\t \u001b[1m\u001b[92m-11.648760076640748\u001b[0m\t \u001b[1m\u001b[92m-11.648760076640748\u001b[0m\t \u001b[1m\u001b[92m-1.378620620885746\u001b[0m\n",
            "11 \t [ 5.02991635 -2.20289245]\t -37.41211175870085\t -11.648760076640748\t -1.3247765159001688\n",
            "12 \t [ 1.38821255 -4.9510036 ]\t -44.54276845153296\t -11.648760076640748\t -1.0384167875376433\n",
            "13 \t [-0.13939812  3.35415623]\t -30.95355656282372\t -11.648760076640748\t -0.6195655729086431\n",
            "14 \t [ 1.87102712 -0.39237526]\t -24.56172894502854\t -11.648760076640748\t -0.07558252668033089\n",
            "15 \t [-3.10799163 -3.10179767]\t -23.472543429194694\t -11.648760076640748\t 0.3933477365221212\n",
            "16 \t [2.62081557 2.53258764]\t -50.328296471744025\t -11.648760076640748\t 0.9915763222454514\n",
            "17 \t [-4.19006618  3.50284976]\t -56.147629225292015\t -11.648760076640748\t 1.1613128813756732\n",
            "18 \t [-1.51865063  1.56828314]\t -43.790901671910575\t -11.648760076640748\t 1.9746347984016772\n",
            "19 \t [-1.09625472 -2.42106293]\t -27.632129123843065\t -11.648760076640748\t 2.95086175935992\n",
            "20 \t [ 2.85603856 -1.98042515]\t -15.974079456483196\t -11.648760076640748\t 4.181685761398667\n"
          ]
        }
      ]
    },
    {
      "cell_type": "code",
      "metadata": {
        "id": "arbiPyj2IvsJ",
        "colab": {
          "base_uri": "https://localhost:8080/"
        },
        "outputId": "f4204f5c-2002-4463-f8f2-c63e3ae5bad0"
      },
      "source": [
        "### EXACT GP CBM GRADIENTS\n",
        "\n",
        "np.random.seed(run_num_5)\n",
        "surrogate_exact_5 = dGaussianProcess(cov_func, optimize=opt)\n",
        "\n",
        "exact_5 = dGPGO(surrogate_exact_5, Acquisition_new(util_grad_exact), objfunc, param)\n",
        "exact_5.run(init_evals=n_init, max_iter=iters)\n"
      ],
      "execution_count": 38,
      "outputs": [
        {
          "output_type": "stream",
          "name": "stdout",
          "text": [
            "Evaluation \t Proposed point \t  Current eval. \t  Best eval. \t         Max AcqFunc.\n",
            "init\t [-2.84678993  3.79629882]\t -33.93442008827236\t -7.8108627039749745\t    \n",
            "init\t [-3.00319585  4.2865757 ]\t -39.673876075575784\t -7.8108627039749745\t    \n",
            "init\t [-0.11866943  1.14425716]\t -7.8108627039749745\t -7.8108627039749745\t    \n",
            "init\t [2.72289645 0.1886002 ]\t -25.38160395721669\t -7.8108627039749745\t    \n",
            "init\t [-2.08076286 -3.19773462]\t -22.589982116319675\t -7.8108627039749745\t    \n",
            "1  \t [ 4.32894502 -5.09733749]\t -61.29459455724834\t -7.8108627039749745\t -2.449486758368113\n",
            "2  \t [5.12 5.12]\t -57.849427451571785\t -7.8108627039749745\t -2.4494859945156664\n",
            "3  \t [-5.12      -0.3119565]\t -42.81729278062776\t -7.8108627039749745\t -2.4475429256393397\n",
            "4  \t [1.09394271 4.84389409]\t -30.788829932896668\t -7.8108627039749745\t -2.4335661573771743\n",
            "5  \t [-5.12 -5.12]\t -57.849427451571785\t -7.8108627039749745\t -2.4317190462250307\n",
            "6  \t [ 0.42044077 -5.0968539 ]\t -46.72629248166599\t -7.8108627039749745\t -2.353364166913274\n",
            "7  \t [ 5.1033548  -1.67483923]\t -45.43373636735657\t -7.8108627039749745\t -2.2532157560168393\n",
            "8  \t [ 0.34880931 -1.58335741]\t -37.10534958131333\t -7.8108627039749745\t -2.002460536285808\n",
            "9  \t [5.12       1.85627419]\t -36.178334601211894\t -7.8108627039749745\t -2.0893073909527886\n",
            "10 \t [-2.50161414  0.99247778]\t -27.253738289658806\t -7.8108627039749745\t -1.6798220385650928\n",
            "11 \t [1.00431884 2.42383613]\t -25.76394739229481\t -7.8108627039749745\t -0.5970056784468786\n",
            "12 \t [-5.07900692  2.23787897]\t -41.25060711395268\t -7.8108627039749745\t -0.9355936099086514\n",
            "13 \t [ 2.57005437 -2.97221331]\t -34.638066667499466\t -7.8108627039749745\t -0.4564067376454697\n",
            "14 \t [-4.6669212  -2.59545198]\t -61.757477704849656\t -7.8108627039749745\t 0.3512451900030391\n",
            "15 \t [3.01383221 3.53238669]\t -41.392352928091626\t -7.8108627039749745\t 0.8492586172968554\n",
            "16 \t [-0.79764699  5.12      ]\t -36.611724839202324\t -7.8108627039749745\t 1.4039005795111956\n",
            "17 \t [-2.77784951 -5.05444176]\t -42.10227804094891\t -7.8108627039749745\t 1.2476646370123263\n",
            "18 \t [-2.26821971 -1.01091208]\t -17.332538169738633\t -7.8108627039749745\t 1.3779544451629837\n",
            "19 \t [-0.92423036  2.34107748]\t -22.86214425556727\t -7.8108627039749745\t 2.7423699041150873\n",
            "20 \t [-0.06064101  0.49129559]\t -20.947233707061773\t -7.8108627039749745\t 3.0484767567036055\n"
          ]
        }
      ]
    },
    {
      "cell_type": "code",
      "metadata": {
        "id": "04KJCEm_Ivvf",
        "colab": {
          "base_uri": "https://localhost:8080/"
        },
        "outputId": "94f46a0e-94f5-41d4-bd32-b23dd334daa2"
      },
      "source": [
        "### EXACT GP CBM GRADIENTS\n",
        "\n",
        "np.random.seed(run_num_6)\n",
        "surrogate_exact_6 = dGaussianProcess(cov_func, optimize=opt)\n",
        "\n",
        "exact_6 = dGPGO(surrogate_exact_6, Acquisition_new(util_grad_exact), objfunc, param)\n",
        "exact_6.run(init_evals=n_init, max_iter=iters)\n"
      ],
      "execution_count": 39,
      "outputs": [
        {
          "output_type": "stream",
          "name": "stdout",
          "text": [
            "Evaluation \t Proposed point \t  Current eval. \t  Best eval. \t         Max AcqFunc.\n",
            "init\t [ 4.02288795 -1.72052679]\t -31.08835710146886\t -17.28954482757088\t    \n",
            "init\t [ 3.28938622 -4.69302655]\t -58.797867722203385\t -17.28954482757088\t    \n",
            "init\t [-4.0175956   0.97333314]\t -17.28954482757088\t -17.28954482757088\t    \n",
            "init\t [ 0.30532979 -0.83141193]\t -19.296253155889353\t -17.28954482757088\t    \n",
            "init\t [-1.68542362  1.25459899]\t -28.650630936276173\t -17.28954482757088\t    \n",
            "1  \t [5.12 5.12]\t -57.849427451571785\t -17.28954482757088\t -2.449489747507372\n",
            "2  \t [-5.12 -5.12]\t -57.849427451571785\t -17.28954482757088\t -2.449489708952214\n",
            "3  \t [0.39229911 5.12      ]\t -46.87501812311753\t -17.28954482757088\t -2.44816377766472\n",
            "4  \t [-0.9541143  -4.92165476]\t -26.73307634452152\t -17.28954482757088\t -2.4401386745757825\n",
            "5  \t [3.88132972 1.66847902]\t -35.402978861430384\t -17.28954482757088\t -2.364972843209478\n",
            "6  \t [-3.50139591  4.65918015]\t -69.36903863640266\t -17.28954482757088\t -2.4225002208876547\n",
            "7  \t [-2.93975795 -2.20160705]\t -21.203113034033485\t -17.28954482757088\t -2.300336886684599\n",
            "\u001b[1m\u001b[92m8\u001b[0m\t \u001b[1m\u001b[92m[1.07467011 2.06734169]\u001b[0m\t \u001b[1m\u001b[92m-7.391239680589717\u001b[0m\t \u001b[1m\u001b[92m-7.391239680589717\u001b[0m\t \u001b[1m\u001b[92m-1.626817206511786\u001b[0m\n",
            "9  \t [-5.12     -2.469623]\t -54.84215789635678\t -7.391239680589717\t -0.6291726644696131\n",
            "10 \t [ 0.39733451 -2.89245942]\t -28.71208571575681\t -7.391239680589717\t -0.5017627394532816\n",
            "11 \t [2.85049773 3.56770303]\t -44.05949369160418\t -7.391239680589717\t 0.4844641557639034\n",
            "\u001b[1m\u001b[92m12\u001b[0m\t \u001b[1m\u001b[92m[2.07088946 0.06513255]\u001b[0m\t \u001b[1m\u001b[92m-6.09425576597569\u001b[0m\t \u001b[1m\u001b[92m-6.09425576597569\u001b[0m\t \u001b[1m\u001b[92m0.43860040469487427\u001b[0m\n",
            "13 \t [-0.38118455  2.86315249]\t -29.157776693048532\t -6.09425576597569\t 1.3561294119433738\n",
            "14 \t [-4.92387962  2.40349912]\t -49.36094525988084\t -6.09425576597569\t 0.54374416590729\n",
            "15 \t [5.12      0.3859696]\t -46.61494592415669\t -6.09425576597569\t 1.8922988510211525\n",
            "16 \t [1.19556423 1.16286368]\t -14.222134705370582\t -6.09425576597569\t 1.4942547599957468\n",
            "17 \t [-2.78600174 -5.12      ]\t -44.44370507803498\t -6.09425576597569\t 2.004263543057753\n",
            "18 \t [-1.6547054  -0.99558394]\t -19.36922005293088\t -6.09425576597569\t 2.1453166732341247\n",
            "19 \t [ 0.83059518 -5.12      ]\t -34.76432832189903\t -6.09425576597569\t 2.146536511092009\n",
            "20 \t [-4.90705936 -0.18429704]\t -31.75838014474175\t -6.09425576597569\t 2.3775723807595774\n"
          ]
        }
      ]
    },
    {
      "cell_type": "code",
      "metadata": {
        "id": "tAOkme3CIvyO",
        "colab": {
          "base_uri": "https://localhost:8080/"
        },
        "outputId": "07d9bb83-eea7-482f-aece-8aacd0875bc3"
      },
      "source": [
        "### EXACT GP CBM GRADIENTS\n",
        "\n",
        "np.random.seed(run_num_7)\n",
        "surrogate_exact_7 = dGaussianProcess(cov_func, optimize=opt)\n",
        "\n",
        "exact_7 = dGPGO(surrogate_exact_7, Acquisition_new(util_grad_exact), objfunc, param)\n",
        "exact_7.run(init_evals=n_init, max_iter=iters)\n"
      ],
      "execution_count": 40,
      "outputs": [
        {
          "output_type": "stream",
          "name": "stdout",
          "text": [
            "Evaluation \t Proposed point \t  Current eval. \t  Best eval. \t         Max AcqFunc.\n",
            "init\t [-4.33860312  2.86636843]\t -45.646133072936244\t -22.52235437888213\t    \n",
            "init\t [-0.63068947  2.28828342]\t -34.83012662845338\t -22.52235437888213\t    \n",
            "init\t [4.8946126  0.39419771]\t -44.09657005662876\t -22.52235437888213\t    \n",
            "init\t [ 0.01147355 -4.38219639]\t -36.613209822404315\t -22.52235437888213\t    \n",
            "init\t [-2.37118484e+00 -1.20319155e-03]\t -22.52235437888213\t -22.52235437888213\t    \n",
            "1  \t [-5.12 -5.12]\t -57.849427451571785\t -22.52235437888213\t -2.4494625317988077\n",
            "2  \t [3.6046884 5.12     ]\t -59.83202676539142\t -22.52235437888213\t -2.449314092543103\n",
            "3  \t [ 4.52828435 -4.16265102]\t -62.4586303924803\t -22.52235437888213\t -2.4481874593205983\n",
            "4  \t [-4.02558214 -1.33646422]\t -33.289738493146906\t -22.52235437888213\t -2.449489748092488\n",
            "\u001b[1m\u001b[92m5\u001b[0m\t \u001b[1m\u001b[92m[ 1.30561198 -0.85934458]\u001b[0m\t \u001b[1m\u001b[92m-19.52417325094436\u001b[0m\t \u001b[1m\u001b[92m-19.52417325094436\u001b[0m\t \u001b[1m\u001b[92m-2.389721413506355\u001b[0m\n",
            "6  \t [3.78708475e-03 5.12000000e+00]\t -28.927558933697078\t -19.52417325094436\t -2.1465844961180855\n",
            "7  \t [2.2289761 2.2999528]\t -32.028334516753844\t -19.52417325094436\t -1.7747051549172135\n",
            "8  \t [-2.52808769 -3.6109306 ]\t -56.94245445660132\t -19.52417325094436\t -1.1762498268232595\n",
            "9  \t [-2.57162681  4.91319487]\t -51.20789308199179\t -19.52417325094436\t -1.2688359240255136\n",
            "10 \t [5.12       3.00166614]\t -37.935261319846425\t -19.52417325094436\t -0.5402351684975335\n",
            "11 \t [-0.41467768 -1.82081923]\t -27.780122831850964\t -19.52417325094436\t 0.4774445340285529\n",
            "12 \t [-5.11292055  5.04211319]\t -54.3260309744776\t -19.52417325094436\t 0.09701753449885563\n",
            "13 \t [ 3.14510493 -1.76265095]\t -26.080717466935013\t -19.52417325094436\t -0.2049592914756149\n",
            "14 \t [-4.44123626  0.60948649]\t -57.14779040300689\t -19.52417325094436\t 2.406292072356436\n",
            "15 \t [-5.12       -2.73207306]\t -47.51293934800054\t -19.52417325094436\t 2.871927107123158\n",
            "16 \t [ 2.04816046 -4.18745252]\t -28.354483982529125\t -19.52417325094436\t 1.5797358910860102\n",
            "17 \t [1.16788118 0.48938839]\t -26.647459630201368\t -19.52417325094436\t 3.6286751063269205\n",
            "18 \t [1.535331 5.12    ]\t -51.03656474358206\t -19.52417325094436\t 5.6078677735648625\n",
            "19 \t [-1.33817453  0.61643651]\t -34.87289715462725\t -19.52417325094436\t 6.464651115264531\n",
            "\u001b[1m\u001b[92m20\u001b[0m\t \u001b[1m\u001b[92m[2.94372377 0.15710211]\u001b[0m\t \u001b[1m\u001b[92m-13.797741817806676\u001b[0m\t \u001b[1m\u001b[92m-13.797741817806676\u001b[0m\t \u001b[1m\u001b[92m6.728494395455857\u001b[0m\n"
          ]
        }
      ]
    },
    {
      "cell_type": "code",
      "metadata": {
        "id": "69-J3EF4Iv1S",
        "colab": {
          "base_uri": "https://localhost:8080/"
        },
        "outputId": "7c7f7896-91b7-4dbc-c246-6880a24d3f65"
      },
      "source": [
        "### EXACT GP CBM GRADIENTS\n",
        "\n",
        "np.random.seed(run_num_8)\n",
        "surrogate_exact_8 = dGaussianProcess(cov_func, optimize=opt)\n",
        "\n",
        "exact_8 = dGPGO(surrogate_exact_8, Acquisition_new(util_grad_exact), objfunc, param)\n",
        "exact_8.run(init_evals=n_init, max_iter=iters)\n"
      ],
      "execution_count": 41,
      "outputs": [
        {
          "output_type": "stream",
          "name": "stdout",
          "text": [
            "Evaluation \t Proposed point \t  Current eval. \t  Best eval. \t         Max AcqFunc.\n",
            "init\t [3.82391708 4.79785639]\t -50.20079446939181\t -13.871821018360485\t    \n",
            "init\t [3.78055209 0.31596228]\t -36.5114251593508\t -13.871821018360485\t    \n",
            "init\t [-2.73686192 -5.00327624]\t -43.34985765011677\t -13.871821018360485\t    \n",
            "init\t [-0.7119993  -0.99992207]\t -13.871821018360485\t -13.871821018360485\t    \n",
            "init\t [ 0.23218863 -0.22126801]\t -17.190590355445654\t -13.871821018360485\t    \n",
            "1  \t [ 4.96376909 -4.82584897]\t -53.59844872912349\t -13.871821018360485\t -2.4494732919908127\n",
            "2  \t [-5.03492225  2.95509263]\t -34.71822332027364\t -13.871821018360485\t -2.4494895208420493\n",
            "3  \t [-0.88346773  5.12      ]\t -32.26813282256628\t -13.871821018360485\t -2.44881812936696\n",
            "4  \t [ 1.08441138 -4.79070869]\t -32.97064673029292\t -13.871821018360485\t -2.4198030693054466\n",
            "5  \t [-5.12       -1.44672638]\t -50.46272787164517\t -13.871821018360485\t -2.445861810921401\n",
            "\u001b[1m\u001b[92m6\u001b[0m\t \u001b[1m\u001b[92m[-1.95157666  1.92941829]\u001b[0m\t \u001b[1m\u001b[92m-8.957947895158993\u001b[0m\t \u001b[1m\u001b[92m-8.957947895158993\u001b[0m\t \u001b[1m\u001b[92m-2.2042158486006853\u001b[0m\n",
            "7  \t [1.43804491 2.43209479]\t -46.33842771584016\t -8.957947895158993\t -2.087499876770425\n",
            "8  \t [ 3.44126221 -2.56256762]\t -56.972874109909725\t -8.957947895158993\t -1.4391393905372092\n",
            "9  \t [-5.12 -5.12]\t -57.849427451571785\t -8.957947895158993\t -1.1610239082613136\n",
            "10 \t [-2.97715355  0.30525579]\t -22.46197501106592\t -8.957947895158993\t -0.9407636815010655\n",
            "11 \t [-1.99919525 -2.49266209]\t -30.199647065676224\t -8.957947895158993\t -0.7351586064101695\n",
            "12 \t [ 0.77810818 -2.45748969]\t -34.533189015334784\t -8.957947895158993\t 0.6713706475986405\n",
            "13 \t [5.12       2.56670283]\t -54.6472073171834\t -8.957947895158993\t -0.9432194536597521\n",
            "14 \t [-3.51141919  5.08224091]\t -59.439139874821706\t -8.957947895158993\t -1.366887997428933\n",
            "15 \t [-1.06486497  2.49845777]\t -28.19484669359143\t -8.957947895158993\t 1.4361436033982364\n",
            "16 \t [1.49448644 0.14438358]\t -26.088708344658997\t -8.957947895158993\t 4.167830660960377\n",
            "17 \t [1.45426082 5.12      ]\t -50.629464019440135\t -8.957947895158993\t 0.588353525531475\n",
            "18 \t [-5.12        0.88736622]\t -32.11353453128702\t -8.957947895158993\t 2.0947129293009796\n",
            "19 \t [-2.81837201  2.1842384 ]\t -24.533750201028493\t -8.957947895158993\t 3.739234835744639\n",
            "20 \t [-1.28276883  0.63179714]\t -30.85179649139491\t -8.957947895158993\t 3.9560548586539936\n"
          ]
        }
      ]
    },
    {
      "cell_type": "code",
      "metadata": {
        "id": "vonm9jyuIv4t",
        "colab": {
          "base_uri": "https://localhost:8080/"
        },
        "outputId": "ad9a22a1-52ab-499f-ea6d-548c588d952a"
      },
      "source": [
        "### EXACT GP CBM GRADIENTS\n",
        "\n",
        "np.random.seed(run_num_9)\n",
        "surrogate_exact_9 = dGaussianProcess(cov_func, optimize=opt)\n",
        "\n",
        "exact_9 = dGPGO(surrogate_exact_9, Acquisition_new(util_grad_exact), objfunc, param)\n",
        "exact_9.run(init_evals=n_init, max_iter=iters)\n"
      ],
      "execution_count": 42,
      "outputs": [
        {
          "output_type": "stream",
          "name": "stdout",
          "text": [
            "Evaluation \t Proposed point \t  Current eval. \t  Best eval. \t         Max AcqFunc.\n",
            "init\t [-5.01376866  0.01919582]\t -25.248289026162446\t -24.454800313488693\t    \n",
            "init\t [-0.04328148 -3.74958562]\t -24.454800313488693\t -24.454800313488693\t    \n",
            "init\t [-3.66478248 -2.88195916]\t -39.46509426509438\t -24.454800313488693\t    \n",
            "init\t [-0.83447623 -2.57944404]\t -31.06766397812992\t -24.454800313488693\t    \n",
            "init\t [-4.25922917 -1.58209393]\t -49.922543556206975\t -24.454800313488693\t    \n",
            "1  \t [5.12 5.12]\t -57.849427451571785\t -24.454800313488693\t -2.449489748092488\n",
            "2  \t [ 5.03440896 -1.04940511]\t -27.157274210864554\t -24.454800313488693\t -2.449488812746501\n",
            "3  \t [-1.47691506  4.45110811]\t -61.42048237139477\t -24.454800313488693\t -2.449488650847006\n",
            "4  \t [1.55214118 1.27521028]\t -35.08082861460935\t -24.454800313488693\t -2.44484592885011\n",
            "5  \t [-2.25497862  1.29081783]\t -29.600541604094882\t -24.454800313488693\t -2.130947101748851\n",
            "6  \t [1.83249056 5.12      ]\t -37.328663947571414\t -24.454800313488693\t -2.2062928852106265\n",
            "7  \t [ 2.90309839 -3.37435011]\t -38.65329574732621\t -24.454800313488693\t -2.2282475273020776\n",
            "8  \t [4.95029078 1.94615406]\t -29.343576774665422\t -24.454800313488693\t -2.068511157469953\n",
            "9  \t [-5.12 -5.12]\t -57.849427451571785\t -24.454800313488693\t -1.9736401385521802\n",
            "10 \t [-2.04954349 -5.12      ]\t -33.60595245216597\t -24.454800313488693\t -1.087224124659952\n",
            "11 \t [-4.99090626  3.24310081]\t -45.00981390089704\t -24.454800313488693\t -2.3099719411355792\n",
            "12 \t [-0.31026592 -0.33511968]\t -29.00223079414647\t -24.454800313488693\t -0.03003169155581105\n",
            "\u001b[1m\u001b[92m13\u001b[0m\t \u001b[1m\u001b[92m[ 2.32722144 -0.9572656 ]\u001b[0m\t \u001b[1m\u001b[92m-21.354462236011248\u001b[0m\t \u001b[1m\u001b[92m-21.354462236011248\u001b[0m\t \u001b[1m\u001b[92m0.2063127157231887\u001b[0m\n",
            "14 \t [0.56957879 2.94597304]\t -28.633342922916704\t -21.354462236011248\t 2.2542144022612147\n",
            "15 \t [3.16861453 3.11857503]\t -27.521308083441383\t -21.354462236011248\t 1.8348199381870678\n",
            "16 \t [ 4.42502545 -4.27957668]\t -68.65409759302828\t -21.354462236011248\t 1.59080887101902\n",
            "17 \t [-3.71993262  4.75680045]\t -57.915865790557476\t -21.354462236011248\t 3.0967381480751777\n",
            "18 \t [ 0.84859728 -4.40252137]\t -42.47825906850564\t -21.354462236011248\t 4.645570087744731\n",
            "19 \t [3.57740971 0.49941258]\t -51.887514572660834\t -21.354462236011248\t 4.2147545004046965\n",
            "20 \t [-2.304166   -0.64584132]\t -35.151537472734624\t -21.354462236011248\t 4.920308494948905\n"
          ]
        }
      ]
    },
    {
      "cell_type": "code",
      "metadata": {
        "id": "6amuYlUdIv7r",
        "colab": {
          "base_uri": "https://localhost:8080/"
        },
        "outputId": "2716fed4-a8b7-4485-93d0-42b4dbc2cfc1"
      },
      "source": [
        "### EXACT GP CBM GRADIENTS\n",
        "\n",
        "np.random.seed(run_num_10)\n",
        "surrogate_exact_10 = dGaussianProcess(cov_func, optimize=opt)\n",
        "\n",
        "exact_10 = dGPGO(surrogate_exact_10, Acquisition_new(util_grad_exact), objfunc, param)\n",
        "exact_10.run(init_evals=n_init, max_iter=iters)\n"
      ],
      "execution_count": 43,
      "outputs": [
        {
          "output_type": "stream",
          "name": "stdout",
          "text": [
            "Evaluation \t Proposed point \t  Current eval. \t  Best eval. \t         Max AcqFunc.\n",
            "init\t [ 2.77832339 -4.90750004]\t -41.674330194390116\t -13.839458310244165\t    \n",
            "init\t [1.36855793 2.54775176]\t -44.69639719065837\t -13.839458310244165\t    \n",
            "init\t [-0.01528819 -2.81808235]\t -13.839458310244165\t -13.839458310244165\t    \n",
            "init\t [-3.09183626  2.66783449]\t -33.23221510904937\t -13.839458310244165\t    \n",
            "init\t [-3.38830503 -4.2154003 ]\t -54.73014366983691\t -13.839458310244165\t    \n",
            "1  \t [ 5.12      -0.5383034]\t -48.926275596809745\t -13.839458310244165\t -2.449224747404672\n",
            "2  \t [5.12 5.12]\t -57.849427451571785\t -13.839458310244165\t -2.44876838836928\n",
            "3  \t [-4.22754268 -0.73799151]\t -37.76419130208299\t -13.839458310244165\t -2.377440773372147\n",
            "4  \t [ 1.6857887  -0.65019156]\t -33.05869431933419\t -13.839458310244165\t -2.0989729415242535\n",
            "5  \t [-4.5050859   5.00650982]\t -65.36419794062027\t -13.839458310244165\t -2.052345227016331\n",
            "6  \t [0.10579747 5.07144996]\t -28.85095188801787\t -13.839458310244165\t -2.027120437341305\n",
            "\u001b[1m\u001b[92m7\u001b[0m\t \u001b[1m\u001b[92m[-1.1944929  -0.09844952]\u001b[0m\t \u001b[1m\u001b[92m-9.872118292093525\u001b[0m\t \u001b[1m\u001b[92m-9.872118292093525\u001b[0m\t \u001b[1m\u001b[92m-1.9063254022249112\u001b[0m\n",
            "8  \t [2.6064236 5.0825019]\t -51.78542522795482\t -9.872118292093525\t -0.18247078123467536\n",
            "9  \t [-0.44055421 -5.12      ]\t -48.42932906250702\t -9.872118292093525\t -1.6673358007382446\n",
            "10 \t [5.12       2.26937833]\t -45.289361622585126\t -9.872118292093525\t -1.4470047304411917\n",
            "11 \t [-1.64291746 -2.02088713]\t -23.101090433891166\t -9.872118292093525\t 0.32259984425899463\n",
            "12 \t [ 3.6277016  -2.61355669]\t -54.50169644521135\t -9.872118292093525\t -0.11457280744404301\n",
            "13 \t [-5.12 -5.12]\t -57.849427451571785\t -9.872118292093525\t 1.5838482613128397\n",
            "14 \t [-5.12       1.6852717]\t -45.7206602120041\t -9.872118292093525\t -0.39174976328502226\n",
            "15 \t [-1.03389874  1.70785616]\t -16.828830124395232\t -9.872118292093525\t 0.419507881107301\n",
            "16 \t [-1.77654022  4.62631374]\t -49.91148034880287\t -9.872118292093525\t 1.4233834115039026\n",
            "17 \t [-5.12       -2.51301684]\t -55.20654025796053\t -9.872118292093525\t 2.3567904655787357\n",
            "18 \t [2.91866706 1.44197696]\t -31.218275866739905\t -9.872118292093525\t 3.693905134787168\n",
            "19 \t [-2.24663417  0.28150145]\t -26.881538606758603\t -9.872118292093525\t 3.3452577687718277\n",
            "20 \t [-0.20231763 -0.15025936]\t -11.247496426316163\t -9.872118292093525\t 3.2392491035662667\n"
          ]
        }
      ]
    },
    {
      "cell_type": "code",
      "metadata": {
        "id": "VwbLIP9cIv-F",
        "colab": {
          "base_uri": "https://localhost:8080/"
        },
        "outputId": "f04b090f-ca7d-409a-b386-70245f479f84"
      },
      "source": [
        "### EXACT GP CBM GRADIENTS\n",
        "\n",
        "np.random.seed(run_num_11)\n",
        "surrogate_exact_11 = dGaussianProcess(cov_func, optimize=opt)\n",
        "\n",
        "exact_11 = dGPGO(surrogate_exact_11, Acquisition_new(util_grad_exact), objfunc, param)\n",
        "exact_11.run(init_evals=n_init, max_iter=iters)\n"
      ],
      "execution_count": 44,
      "outputs": [
        {
          "output_type": "stream",
          "name": "stdout",
          "text": [
            "Evaluation \t Proposed point \t  Current eval. \t  Best eval. \t         Max AcqFunc.\n",
            "init\t [-3.27403839 -4.92057353]\t -47.655641290890955\t -10.679755252484755\t    \n",
            "init\t [-0.37664229  2.30332343]\t -35.87889240695259\t -10.679755252484755\t    \n",
            "init\t [-0.81711509 -0.14922651]\t -10.679755252484755\t -10.679755252484755\t    \n",
            "init\t [-4.98912446 -0.12931474]\t -28.05462905574235\t -10.679755252484755\t    \n",
            "init\t [4.52410012 3.59214172]\t -71.62694632141611\t -10.679755252484755\t    \n",
            "1  \t [ 3.03550212 -4.46785095]\t -49.22040431745476\t -10.679755252484755\t -2.449489435906896\n",
            "2  \t [ 4.25323565 -0.5528833 ]\t -48.05200627346154\t -10.679755252484755\t -2.437548387085586\n",
            "3  \t [-1.00998464  5.12      ]\t -29.9644548738855\t -10.679755252484755\t -2.1731977411938357\n",
            "4  \t [-0.1498654  -3.28114116]\t -26.84785009433122\t -10.679755252484755\t -2.2967053037974803\n",
            "5  \t [-3.75487238  2.90204475]\t -34.04982141734267\t -10.679755252484755\t -2.304102951511026\n",
            "6  \t [-2.84197049 -1.78968062]\t -23.349905392528232\t -10.679755252484755\t -1.654244322963048\n",
            "7  \t [2.016742   5.04395687]\t -29.943010013445118\t -10.679755252484755\t -1.735781551073234\n",
            "8  \t [1.43768096 0.04169533]\t -21.653013427141325\t -10.679755252484755\t -1.4205207845672025\n",
            "9  \t [-5.12       -3.07678063]\t -39.53257677309465\t -10.679755252484755\t -1.111582357458422\n",
            "10 \t [-2.59792259  0.72451433]\t -37.03480083696787\t -10.679755252484755\t 0.40490036031036936\n",
            "11 \t [2.59514752 1.77516512]\t -36.57700308585357\t -10.679755252484755\t 0.44972993561736263\n",
            "12 \t [-3.81411931  5.12      ]\t -49.55158595728944\t -10.679755252484755\t -0.744954299443534\n",
            "13 \t [ 2.79894981 -2.37267572]\t -37.40341554452888\t -10.679755252484755\t 2.1163072945349235\n",
            "14 \t [-0.06943092 -1.27779251]\t -14.31153075914257\t -10.679755252484755\t 2.3693658082795186\n",
            "15 \t [-0.52800307 -5.02017958]\t -45.40687329487062\t -10.679755252484755\t 0.7945555496006993\n",
            "16 \t [-5.12 -5.12]\t -57.849427451571785\t -10.679755252484755\t 4.082153798504269\n",
            "17 \t [5.01371875 1.60198797]\t -45.756990106066866\t -10.679755252484755\t 4.507103164888131\n",
            "18 \t [ 5.08776403 -3.1549947 ]\t -41.70050361148627\t -10.679755252484755\t 0.19462419803321482\n",
            "19 \t [-5.03561433  1.61581663]\t -45.684680307628504\t -10.679755252484755\t 4.1077910037248175\n",
            "20 \t [1.29464325 3.38725556]\t -43.512056352889324\t -10.679755252484755\t 5.185360363655139\n"
          ]
        }
      ]
    },
    {
      "cell_type": "code",
      "metadata": {
        "id": "MlUNFjc-JTBY",
        "colab": {
          "base_uri": "https://localhost:8080/"
        },
        "outputId": "c02b3a4c-aa04-40fc-c180-69a862e21cc0"
      },
      "source": [
        "### EXACT GP CBM GRADIENTS\n",
        "\n",
        "np.random.seed(run_num_12)\n",
        "surrogate_exact_12 = dGaussianProcess(cov_func, optimize=opt)\n",
        "\n",
        "exact_12 = dGPGO(surrogate_exact_12, Acquisition_new(util_grad_exact), objfunc, param)\n",
        "exact_12.run(init_evals=n_init, max_iter=iters)\n"
      ],
      "execution_count": 45,
      "outputs": [
        {
          "output_type": "stream",
          "name": "stdout",
          "text": [
            "Evaluation \t Proposed point \t  Current eval. \t  Best eval. \t         Max AcqFunc.\n",
            "init\t [-3.54137249  2.45810889]\t -57.903242869085595\t -40.51116653209555\t    \n",
            "init\t [-2.42365424  0.34549139]\t -40.51116653209555\t -40.51116653209555\t    \n",
            "init\t [-4.97075238  4.28796936]\t -55.62655915398208\t -40.51116653209555\t    \n",
            "init\t [ 4.10332011 -4.77776458]\t -49.962803461970296\t -40.51116653209555\t    \n",
            "init\t [ 4.6791612  -3.71497655]\t -62.183891474990624\t -40.51116653209555\t    \n",
            "1  \t [5.12 5.12]\t -57.849427451571785\t -40.51116653209555\t -2.4494897480924878\n",
            "2  \t [-5.12 -5.12]\t -57.849427451571785\t -40.51116653209555\t -2.4494895805929398\n",
            "\u001b[1m\u001b[92m3\u001b[0m\t \u001b[1m\u001b[92m[2.3912107  0.97308311]\u001b[0m\t \u001b[1m\u001b[92m-24.56085142111143\u001b[0m\t \u001b[1m\u001b[92m-24.56085142111143\u001b[0m\t \u001b[1m\u001b[92m-2.4491798164653296\u001b[0m\n",
            "4  \t [-0.46882319 -4.42580331]\t -58.549145121093275\t -24.56085142111143\t -2.4484602828832895\n",
            "5  \t [0.89212895 4.54028969]\t -43.30170734350933\t -24.56085142111143\t -2.4392077931320775\n",
            "6  \t [-5.12       -1.70147252]\t -44.82176875961964\t -24.56085142111143\t -2.3010206818615875\n",
            "7  \t [5.12       0.41287364]\t -47.633823037738246\t -24.56085142111143\t -2.1906204527567184\n",
            "8  \t [ 0.70318698 -1.40849759]\t -33.769779471042966\t -24.56085142111143\t -2.0917353793431555\n",
            "\u001b[1m\u001b[92m9\u001b[0m\t \u001b[1m\u001b[92m[0.03301279 1.66964629]\u001b[0m\t \u001b[1m\u001b[92m-17.84016481948981\u001b[0m\t \u001b[1m\u001b[92m-17.84016481948981\u001b[0m\t \u001b[1m\u001b[92m-1.0799907182372257\u001b[0m\n",
            "10 \t [-1.6867034   4.81100345]\t -46.12395751937345\t -17.84016481948981\t -1.2702575290281888\n",
            "11 \t [-2.54855296 -2.81579371]\t -39.94488597501806\t -17.84016481948981\t -0.8535742788880566\n",
            "12 \t [3.15323986 3.25534844]\t -35.16424665297945\t -17.84016481948981\t -0.26599357893020564\n",
            "13 \t [ 3.20678366 -1.60760831]\t -37.98579589370231\t -17.84016481948981\t 0.10537136722489897\n",
            "14 \t [ 1.85173165 -3.98158614]\t -23.383267344062155\t -17.84016481948981\t 1.599437208643696\n",
            "15 \t [-2.99107427 -5.12      ]\t -37.88696084892116\t -17.84016481948981\t 2.714203440903029\n",
            "16 \t [4.9203304  2.65441107]\t -48.13390033491702\t -17.84016481948981\t 3.7819691697378266\n",
            "17 \t [-5.12        0.70522286]\t -42.19851433864632\t -17.84016481948981\t 0.9911206815590077\n",
            "18 \t [-0.60493472  2.31193608]\t -37.409133675433424\t -17.84016481948981\t 5.22587374830991\n",
            "19 \t [0.77842543 0.33981771]\t -24.29347350137864\t -17.84016481948981\t 5.613456182932363\n",
            "20 \t [2.83866033 5.12      ]\t -41.69569769800479\t -17.84016481948981\t 4.877070043333265\n"
          ]
        }
      ]
    },
    {
      "cell_type": "code",
      "metadata": {
        "id": "9BsKdU9eJTFL",
        "colab": {
          "base_uri": "https://localhost:8080/"
        },
        "outputId": "adde8a3c-ec9d-4cff-b512-efaca3cd0b26"
      },
      "source": [
        "### EXACT GP CBM GRADIENTS\n",
        "\n",
        "np.random.seed(run_num_13)\n",
        "surrogate_exact_13 = dGaussianProcess(cov_func, optimize=opt)\n",
        "\n",
        "exact_13 = dGPGO(surrogate_exact_13, Acquisition_new(util_grad_exact), objfunc, param)\n",
        "exact_13.run(init_evals=n_init, max_iter=iters)\n"
      ],
      "execution_count": 46,
      "outputs": [
        {
          "output_type": "stream",
          "name": "stdout",
          "text": [
            "Evaluation \t Proposed point \t  Current eval. \t  Best eval. \t         Max AcqFunc.\n",
            "init\t [ 2.84367268 -2.68757791]\t -33.58019830007169\t -17.435826639425656\t    \n",
            "init\t [3.32061217 4.76927179]\t -56.857057997503354\t -17.435826639425656\t    \n",
            "init\t [ 4.83943541 -0.47667971]\t -48.211919361679726\t -17.435826639425656\t    \n",
            "init\t [1.11659482 2.82139151]\t -17.435826639425656\t -17.435826639425656\t    \n",
            "init\t [1.45012065 2.27346667]\t -38.25352329493884\t -17.435826639425656\t    \n",
            "1  \t [-5.12 -5.12]\t -57.849427451571785\t -17.435826639425656\t -2.4494897480924736\n",
            "2  \t [-4.47999344  1.98768889]\t -43.97224621034277\t -17.435826639425656\t -2.449489228862192\n",
            "3  \t [-2.01225182 -1.58963993]\t -25.061108045106813\t -17.435826639425656\t -2.4471976183555015\n",
            "4  \t [-1.67908196  5.12      ]\t -46.05394415768511\t -17.435826639425656\t -2.442389278899868\n",
            "5  \t [-0.44763868 -5.12      ]\t -48.588766654898436\t -17.435826639425656\t -2.4378809652118916\n",
            "6  \t [-5.06500451 -1.83011041]\t -35.002526374257776\t -17.435826639425656\t -2.1926550570118457\n",
            "7  \t [-1.4896226   1.53997816]\t -44.255431270763665\t -17.435826639425656\t -1.900721196701256\n",
            "8  \t [5.12       2.47380586]\t -54.90929744675367\t -17.435826639425656\t -1.7273618197953016\n",
            "\u001b[1m\u001b[92m9\u001b[0m\t \u001b[1m\u001b[92m[ 0.84754106 -0.82359423]\u001b[0m\t \u001b[1m\u001b[92m-11.183441244042932\u001b[0m\t \u001b[1m\u001b[92m-11.183441244042932\u001b[0m\t \u001b[1m\u001b[92m-1.670171211697515\u001b[0m\n",
            "10 \t [-2.73304583 -3.90067848]\t -35.63292637943343\t -11.183441244042932\t -0.011448400086818246\n",
            "11 \t [ 5.03053651 -3.6079293 ]\t -56.29436190400824\t -11.183441244042932\t -1.280740256772755\n",
            "12 \t [ 0.12373709 -2.47598968]\t -28.90530152470943\t -11.183441244042932\t 0.5130628957872393\n",
            "13 \t [-3.94966153  4.28677918]\t -46.76272060142958\t -11.183441244042932\t 0.16342231312390146\n",
            "\u001b[1m\u001b[92m14\u001b[0m\t \u001b[1m\u001b[92m[2.09882483 0.12714322]\u001b[0m\t \u001b[1m\u001b[92m-9.312672020533597\u001b[0m\t \u001b[1m\u001b[92m-9.312672020533597\u001b[0m\t \u001b[1m\u001b[92m1.020572893658205\u001b[0m\n",
            "15 \t [0.76309114 4.74414317]\t -42.635501441273625\t -9.312672020533597\t 0.506886946557191\n",
            "16 \t [-3.28265578 -0.30161739]\t -36.09091737922861\t -9.312672020533597\t 2.476136232390324\n",
            "17 \t [ 2.07701169 -5.11700724]\t -34.228656663874204\t -9.312672020533597\t -0.6836448340868297\n",
            "18 \t [5.12 5.12]\t -57.849427451571785\t -9.312672020533597\t 3.557685795755383\n",
            "19 \t [ 2.39498381 -0.16982639]\t -28.83862204298727\t -9.312672020533597\t 3.8531063792828575\n",
            "20 \t [-0.21143067  0.17180234]\t -12.956494098101942\t -9.312672020533597\t 3.910627074874317\n"
          ]
        }
      ]
    },
    {
      "cell_type": "code",
      "metadata": {
        "id": "k6GjFBr1JTJf",
        "colab": {
          "base_uri": "https://localhost:8080/"
        },
        "outputId": "22d063c5-9d63-425d-8f17-656ecc6b30dc"
      },
      "source": [
        "### EXACT GP CBM GRADIENTS\n",
        "\n",
        "np.random.seed(run_num_14)\n",
        "surrogate_exact_14 = dGaussianProcess(cov_func, optimize=opt)\n",
        "\n",
        "exact_14 = dGPGO(surrogate_exact_14, Acquisition_new(util_grad_exact), objfunc, param)\n",
        "exact_14.run(init_evals=n_init, max_iter=iters)\n"
      ],
      "execution_count": 47,
      "outputs": [
        {
          "output_type": "stream",
          "name": "stdout",
          "text": [
            "Evaluation \t Proposed point \t  Current eval. \t  Best eval. \t         Max AcqFunc.\n",
            "init\t [0.14277984 2.79721013]\t -18.683085263052178\t -10.423838604848608\t    \n",
            "init\t [ 3.7931795  -5.03759925]\t -47.36348784446708\t -10.423838604848608\t    \n",
            "init\t [-1.94830412  4.68586229]\t -40.19779334078636\t -10.423838604848608\t    \n",
            "init\t [ 0.13431513 -1.86076749]\t -10.423838604848608\t -10.423838604848608\t    \n",
            "init\t [ 0.40140736 -2.85434939]\t -30.353548735049138\t -10.423838604848608\t    \n",
            "1  \t [-5.12 -5.12]\t -57.849427451571785\t -10.423838604848608\t -2.449489468876515\n",
            "2  \t [5.12 5.12]\t -57.849427451571785\t -10.423838604848608\t -2.4494871736904393\n",
            "3  \t [-4.95963276  0.2443801 ]\t -34.62457561811984\t -10.423838604848608\t -2.4494614027041384\n",
            "4  \t [4.80685716 0.029873  ]\t -29.78546726011794\t -10.423838604848608\t -2.449366556437026\n",
            "5  \t [-1.55693718  0.01376852]\t -21.828521431680493\t -10.423838604848608\t -2.282645177873138\n",
            "6  \t [-1.71669875 -5.12      ]\t -43.94891311635857\t -10.423838604848608\t -2.2384101153448706\n",
            "7  \t [1.90322156 5.01332188]\t -30.58317788802243\t -10.423838604848608\t -2.1088227981842795\n",
            "8  \t [-5.02212901  3.42080828]\t -55.80763490049989\t -10.423838604848608\t -2.2583624518083023\n",
            "9  \t [1.52758037 0.61638927]\t -40.00676061171078\t -10.423838604848608\t -1.963385777169463\n",
            "10 \t [-3.00917551 -2.47977464]\t -35.140395694171985\t -10.423838604848608\t -1.7890198555814685\n",
            "11 \t [ 3.49959718 -2.27891361]\t -49.24731496931736\t -10.423838604848608\t -1.3563854832570088\n",
            "12 \t [3.70838838 2.55399884]\t -52.28983368384504\t -10.423838604848608\t -1.2857556974773006\n",
            "13 \t [ 1.09670408 -5.11241264]\t -31.521749361664742\t -10.423838604848608\t -0.47981629346504606\n",
            "14 \t [-2.3671267   1.95271009]\t -26.56732056834192\t -10.423838604848608\t -0.15867064197844497\n",
            "15 \t [-0.53806891 -0.76215677]\t -29.822604029459047\t -10.423838604848608\t 4.460581346181122\n",
            "16 \t [-5.00696431 -2.83089715]\t -38.22638588103906\t -10.423838604848608\t 2.003194142667307\n",
            "17 \t [0.12004421 5.12      ]\t -31.651339736317524\t -10.423838604848608\t 3.3100060080727305\n",
            "18 \t [-3.19055099 -0.0368308 ]\t -16.798508202427733\t -10.423838604848608\t 5.300064825953227\n",
            "19 \t [1.61161541 2.7872641 ]\t -35.686145746961046\t -10.423838604848608\t 6.311174038751891\n",
            "20 \t [ 5.03376033 -3.23972603]\t -45.413620889403695\t -10.423838604848608\t 4.450051278678273\n"
          ]
        }
      ]
    },
    {
      "cell_type": "code",
      "metadata": {
        "id": "dPS8WB3aJTN6",
        "colab": {
          "base_uri": "https://localhost:8080/"
        },
        "outputId": "ac4fdae1-ffb4-4f35-f347-7f9bb55b7e4c"
      },
      "source": [
        "### EXACT GP CBM GRADIENTS\n",
        "\n",
        "np.random.seed(run_num_15)\n",
        "surrogate_exact_15 = dGaussianProcess(cov_func, optimize=opt)\n",
        "\n",
        "exact_15 = dGPGO(surrogate_exact_15, Acquisition_new(util_grad_exact), objfunc, param)\n",
        "exact_15.run(init_evals=n_init, max_iter=iters)\n"
      ],
      "execution_count": 48,
      "outputs": [
        {
          "output_type": "stream",
          "name": "stdout",
          "text": [
            "Evaluation \t Proposed point \t  Current eval. \t  Best eval. \t         Max AcqFunc.\n",
            "init\t [ 3.57189322 -3.28810573]\t -54.938487770767075\t -7.990765314336182\t    \n",
            "init\t [-4.56332069 -1.41784631]\t -60.750198753157726\t -7.990765314336182\t    \n",
            "init\t [-2.29989449  0.3072023 ]\t -31.984997246800887\t -7.990765314336182\t    \n",
            "init\t [-1.9873903  -2.00218256]\t -7.990765314336182\t -7.990765314336182\t    \n",
            "init\t [-3.97576933 -2.5610341 ]\t -41.754957769694336\t -7.990765314336182\t    \n",
            "1  \t [5.12 5.12]\t -57.849427451571785\t -7.990765314336182\t -2.449489748092484\n",
            "2  \t [-0.3517064  5.12     ]\t -45.0126640376181\t -7.990765314336182\t -2.4494587152065357\n",
            "3  \t [2.59308727 1.16950193]\t -31.58465744363692\t -7.990765314336182\t -2.447991430601713\n",
            "4  \t [-5.09479233  4.00341422]\t -43.708402484060926\t -7.990765314336182\t -2.4489826100369303\n",
            "5  \t [-1.61688397 -5.12      ]\t -48.96133288911461\t -7.990765314336182\t -2.3985521070100964\n",
            "6  \t [ 0.44189922 -1.25734852]\t -31.578788152019204\t -7.990765314336182\t -2.1480108015814783\n",
            "7  \t [-5.12 -5.12]\t -57.849427451571785\t -7.990765314336182\t -2.0807146945848602\n",
            "8  \t [5.12       0.89154547]\t -31.952902067596405\t -7.990765314336182\t -1.8215882436281323\n",
            "9  \t [-0.25142484  2.24018802]\t -24.55506648550937\t -7.990765314336182\t -1.6197372350411374\n",
            "10 \t [2.55403265 3.80547503]\t -47.01849858765742\t -7.990765314336182\t -1.3045191053103642\n",
            "11 \t [ 0.95593741 -4.3363827 ]\t -35.26382906693809\t -7.990765314336182\t -1.1537982905856066\n",
            "12 \t [-2.6742369  4.0173575]\t -37.932689798848614\t -7.990765314336182\t -0.3167477839367659\n",
            "13 \t [-5.12        1.31469384]\t -44.6069507933743\t -7.990765314336182\t -1.117796784720478\n",
            "14 \t [ 4.93127057 -1.21662103]\t -34.63370188513507\t -7.990765314336182\t 0.5483538323504251\n",
            "15 \t [-1.65383996 -2.20922417]\t -30.762741408825544\t -7.990765314336182\t 2.750933406569057\n",
            "16 \t [ 2.40792891 -0.87266313]\t -27.966016327655222\t -7.990765314336182\t 2.889785949585627\n",
            "17 \t [0.44588295 0.60100559]\t -38.040345132295144\t -7.990765314336182\t 4.686459843425189\n",
            "18 \t [5.12       2.79052101]\t -44.1931281449442\t -7.990765314336182\t 2.5777471087669026\n",
            "19 \t [-2.80373138  2.10417443]\t -21.042947980233734\t -7.990765314336182\t 4.852427359054385\n",
            "20 \t [0.27923821 3.42872523]\t -42.67478337546821\t -7.990765314336182\t 8.386904970560895\n"
          ]
        }
      ]
    },
    {
      "cell_type": "code",
      "metadata": {
        "id": "SHWdp2giJTRm",
        "colab": {
          "base_uri": "https://localhost:8080/"
        },
        "outputId": "41588a89-bf51-423b-d00d-f2f8e27c6cd0"
      },
      "source": [
        "### EXACT GP CBM GRADIENTS\n",
        "\n",
        "np.random.seed(run_num_16)\n",
        "surrogate_exact_16 = dGaussianProcess(cov_func, optimize=opt)\n",
        "\n",
        "exact_16 = dGPGO(surrogate_exact_16, Acquisition_new(util_grad_exact), objfunc, param)\n",
        "exact_16.run(init_evals=n_init, max_iter=iters)\n"
      ],
      "execution_count": 49,
      "outputs": [
        {
          "output_type": "stream",
          "name": "stdout",
          "text": [
            "Evaluation \t Proposed point \t  Current eval. \t  Best eval. \t         Max AcqFunc.\n",
            "init\t [-2.83349935  0.23719262]\t -22.27210456874814\t -22.27210456874814\t    \n",
            "init\t [ 0.51918292 -4.65303603]\t -57.57021076017139\t -22.27210456874814\t    \n",
            "init\t [-1.42613673 -2.83565116]\t -33.89145899403749\t -22.27210456874814\t    \n",
            "init\t [ 1.9325559  -3.44339021]\t -35.85029586225333\t -22.27210456874814\t    \n",
            "init\t [-4.39987336  4.51595121]\t -77.78800881964571\t -22.27210456874814\t    \n",
            "1  \t [5.12 5.12]\t -57.849427451571785\t -22.27210456874814\t -2.449489748092488\n",
            "2  \t [5.12       0.13571646]\t -32.36384852723622\t -22.27210456874814\t -2.4492138166203437\n",
            "3  \t [0.43755246 3.98750252]\t -35.36249906528404\t -22.27210456874814\t -2.44889848344717\n",
            "4  \t [-5.12 -5.12]\t -57.849427451571785\t -22.27210456874814\t -2.4481625980949278\n",
            "5  \t [0.83155422 0.43908501]\t -25.257844782959424\t -22.27210456874814\t -2.393941908958801\n",
            "6  \t [ 5.12       -3.28383331]\t -51.81810925355856\t -22.27210456874814\t -2.3073043915029503\n",
            "7  \t [3.32469888 2.36934628]\t -48.00593497654238\t -22.27210456874814\t -1.8908023010443171\n",
            "8  \t [-5.12       -1.66608216]\t -46.732315263473765\t -22.27210456874814\t -2.233217936007948\n",
            "9  \t [-1.70825537  2.40991958]\t -39.75934146567449\t -22.27210456874814\t -1.2066919893976529\n",
            "10 \t [-5.01628872  1.40792296]\t -45.57036109767412\t -22.27210456874814\t -1.4501214712843167\n",
            "\u001b[1m\u001b[92m11\u001b[0m\t \u001b[1m\u001b[92m[ 2.75741147 -0.9816599 ]\u001b[0m\t \u001b[1m\u001b[92m-18.167787561630117\u001b[0m\t \u001b[1m\u001b[92m-18.167787561630117\u001b[0m\t \u001b[1m\u001b[92m-0.4937602781970637\u001b[0m\n",
            "12 \t [2.71137559 4.95352974]\t -44.7153512839582\t -18.167787561630117\t 0.6349915391153773\n",
            "13 \t [-2.86729696 -4.42691125]\t -50.06219118690835\t -18.167787561630117\t 1.1254592537399883\n",
            "14 \t [-0.5711505  -0.92089004]\t -21.401636397991133\t -18.167787561630117\t 1.5894115954693024\n",
            "15 \t [5.10979919 2.62493275]\t -52.361205583686214\t -18.167787561630117\t 4.221661783855071\n",
            "\u001b[1m\u001b[92m16\u001b[0m\t \u001b[1m\u001b[92m[0.89601372 2.07582209]\u001b[0m\t \u001b[1m\u001b[92m-8.28495359904246\u001b[0m\t \u001b[1m\u001b[92m-8.28495359904246\u001b[0m\t \u001b[1m\u001b[92m4.840930718700032\u001b[0m\n",
            "17 \t [-1.32037548  4.66089097]\t -53.05734133966767\t -8.28495359904246\t 2.1811750251139146\n",
            "18 \t [-2.96980362 -1.40089917]\t -29.08494770619214\t -8.28495359904246\t 4.688173621355537\n",
            "19 \t [ 1.12946806 -1.73820899]\t -18.16744536800541\t -8.28495359904246\t 4.889461096929945\n",
            "20 \t [ 3.42637115 -4.61977825]\t -69.33043360969954\t -8.28495359904246\t 2.9229847020604622\n"
          ]
        }
      ]
    },
    {
      "cell_type": "code",
      "metadata": {
        "id": "yU2SflSsJTUs",
        "colab": {
          "base_uri": "https://localhost:8080/"
        },
        "outputId": "642666fb-7ef0-4e1b-acb6-b4e7256dc8f5"
      },
      "source": [
        "### EXACT GP CBM GRADIENTS\n",
        "\n",
        "np.random.seed(run_num_17)\n",
        "surrogate_exact_17 = dGaussianProcess(cov_func, optimize=opt)\n",
        "\n",
        "exact_17 = dGPGO(surrogate_exact_17, Acquisition_new(util_grad_exact), objfunc, param)\n",
        "exact_17.run(init_evals=n_init, max_iter=iters)\n"
      ],
      "execution_count": 50,
      "outputs": [
        {
          "output_type": "stream",
          "name": "stdout",
          "text": [
            "Evaluation \t Proposed point \t  Current eval. \t  Best eval. \t         Max AcqFunc.\n",
            "init\t [-2.10263037  0.31320838]\t -20.395145364684023\t -20.395145364684023\t    \n",
            "init\t [-3.15882714 -4.42470033]\t -53.03732051200137\t -20.395145364684023\t    \n",
            "init\t [2.93873111 1.60085526]\t -29.989224812583537\t -20.395145364684023\t    \n",
            "init\t [1.40821398 0.77417363]\t -29.451989415882437\t -20.395145364684023\t    \n",
            "init\t [-4.71999574 -1.45598869]\t -55.89242173757483\t -20.395145364684023\t    \n",
            "1  \t [ 4.96008736 -4.44720822]\t -64.14783177084814\t -20.395145364684023\t -2.449489699115889\n",
            "2  \t [-1.516385  5.12    ]\t -51.17119047788117\t -20.395145364684023\t -2.4493921735536537\n",
            "3  \t [5.12 5.12]\t -57.849427451571785\t -20.395145364684023\t -2.4469232867713924\n",
            "4  \t [ 0.77482007 -3.17286579]\t -24.45527185571842\t -20.395145364684023\t -2.4371084967022436\n",
            "5  \t [ 5.12       -0.62326114]\t -46.4610677499605\t -20.395145364684023\t -2.317486589787148\n",
            "6  \t [-4.62701383  2.47156644]\t -64.33976860834052\t -20.395145364684023\t -2.390403620808205\n",
            "7  \t [1.79896853 5.12      ]\t -39.13253320248952\t -20.395145364684023\t -2.2126701602568537\n",
            "8  \t [-0.52645917  2.45016835]\t -45.6564390694374\t -20.395145364684023\t -1.1433198750618725\n",
            "9  \t [-0.38575201 -5.12      ]\t -46.60579246044026\t -20.395145364684023\t -1.0668860767375714\n",
            "\u001b[1m\u001b[92m10\u001b[0m\t \u001b[1m\u001b[92m[-1.21489643 -1.99395143]\u001b[0m\t \u001b[1m\u001b[92m-13.271253619274697\u001b[0m\t \u001b[1m\u001b[92m-13.271253619274697\u001b[0m\t \u001b[1m\u001b[92m-0.8178140474507208\u001b[0m\n",
            "11 \t [ 2.65067102 -1.79285712]\t -33.423717459981816\t -13.271253619274697\t -0.8225969474192257\n",
            "12 \t [-5.12 -5.12]\t -57.849427451571785\t -13.271253619274697\t 0.599324937192527\n",
            "13 \t [4.54403522 2.7378391 ]\t -58.5270400784804\t -13.271253619274697\t 1.0429071343019436\n",
            "14 \t [-0.30460238 -0.52702764]\t -33.59055605179657\t -13.271253619274697\t 2.0365576108864274\n",
            "15 \t [-1.78724492 -2.60965462]\t -35.404621964202825\t -13.271253619274697\t 4.097876258163835\n",
            "16 \t [-3.62479388  4.34479577]\t -64.70681642293474\t -13.271253619274697\t 2.985065863379319\n",
            "17 \t [ 2.33383507 -5.12      ]\t -49.39877673898907\t -13.271253619274697\t -0.5495874606920548\n",
            "18 \t [1.66389056 3.14814735]\t -31.858028021747106\t -13.271253619274697\t 4.573226752241635\n",
            "19 \t [-3.64244248  0.55012075]\t -49.33348475374599\t -13.271253619274697\t 5.282941495166111\n",
            "20 \t [ 5.09990325 -2.34835064]\t -49.223720317720975\t -13.271253619274697\t 6.915316934821377\n"
          ]
        }
      ]
    },
    {
      "cell_type": "code",
      "metadata": {
        "id": "es0KCh_0JTgY",
        "colab": {
          "base_uri": "https://localhost:8080/"
        },
        "outputId": "44e18459-16b1-41a5-f0fe-bd0c239c93ad"
      },
      "source": [
        "### EXACT GP CBM GRADIENTS\n",
        "\n",
        "np.random.seed(run_num_18)\n",
        "surrogate_exact_18 = dGaussianProcess(cov_func, optimize=opt)\n",
        "\n",
        "exact_18 = dGPGO(surrogate_exact_18, Acquisition_new(util_grad_exact), objfunc, param)\n",
        "exact_18.run(init_evals=n_init, max_iter=iters)\n"
      ],
      "execution_count": 51,
      "outputs": [
        {
          "output_type": "stream",
          "name": "stdout",
          "text": [
            "Evaluation \t Proposed point \t  Current eval. \t  Best eval. \t         Max AcqFunc.\n",
            "init\t [1.53983224 0.05584255]\t -22.67190580753611\t -22.67190580753611\t    \n",
            "init\t [ 3.87687906 -3.25795609]\t -38.990099416711985\t -22.67190580753611\t    \n",
            "init\t [3.60686662 2.56139557]\t -56.66448698782129\t -22.67190580753611\t    \n",
            "init\t [1.70088108 4.99604939]\t -40.894059318256296\t -22.67190580753611\t    \n",
            "init\t [-2.48864335 -4.83014733]\t -54.6725749848372\t -22.67190580753611\t    \n",
            "1  \t [-5.00718904  2.9174042 ]\t -34.91005808676357\t -22.67190580753611\t -2.449489747603107\n",
            "2  \t [-2.51728811 -0.57162977]\t -45.608758197849326\t -22.67190580753611\t -2.4420850988272913\n",
            "\u001b[1m\u001b[92m3\u001b[0m\t \u001b[1m\u001b[92m[-1.16209189  2.8435501 ]\u001b[0m\t \u001b[1m\u001b[92m-18.644148049560222\u001b[0m\t \u001b[1m\u001b[92m-18.644148049560222\u001b[0m\t \u001b[1m\u001b[92m-2.3724741943337717\u001b[0m\n",
            "4  \t [ 0.94304294 -5.09915178]\t -29.402853384030077\t -18.644148049560222\t -2.3280086932419537\n",
            "5  \t [-5.12       -3.24646935]\t -49.24245781171351\t -18.644148049560222\t -2.1834370156216645\n",
            "6  \t [5.12 5.12]\t -57.849427451571785\t -18.644148049560222\t -2.0508300350023525\n",
            "7  \t [ 5.12       -0.33264071]\t -43.99762807867131\t -18.644148049560222\t -2.172107116060727\n",
            "\u001b[1m\u001b[92m8\u001b[0m\t \u001b[1m\u001b[92m[-0.25332947 -2.14066822]\u001b[0m\t \u001b[1m\u001b[92m-18.513984356101403\u001b[0m\t \u001b[1m\u001b[92m-18.513984356101403\u001b[0m\t \u001b[1m\u001b[92m-1.5822560996013884\u001b[0m\n",
            "9  \t [-2.05931647  4.63332738]\t -43.086601890136585\t -18.513984356101403\t -1.1246058433725445\n",
            "\u001b[1m\u001b[92m10\u001b[0m\t \u001b[1m\u001b[92m[-3.05813152  1.84055914]\u001b[0m\t \u001b[1m\u001b[92m-18.011587787958355\u001b[0m\t \u001b[1m\u001b[92m-18.011587787958355\u001b[0m\t \u001b[1m\u001b[92m1.1314873513198294\u001b[0m\n",
            "11 \t [-5.0055793  -0.76699731]\t -34.58430959235494\t -18.011587787958355\t -0.26794932020409545\n",
            "12 \t [-0.24295967  1.2117072 ]\t -18.7021896327053\t -18.011587787958355\t 0.5368422258625777\n",
            "13 \t [ 1.75181082 -2.61110327]\t -37.43368758194468\t -18.011587787958355\t 1.0453647199368383\n",
            "14 \t [-5.12 -5.12]\t -57.849427451571785\t -18.011587787958355\t 2.548923812679978\n",
            "15 \t [-4.93311462  4.65004427]\t -62.70427715056073\t -18.011587787958355\t 1.7321972087782818\n",
            "16 \t [0.61368515 3.05390687]\t -27.82659328413463\t -18.011587787958355\t 2.19269889339456\n",
            "17 \t [ 2.78367072 -5.12      ]\t -44.57368860241996\t -18.011587787958355\t 2.446075672483476\n",
            "18 \t [-1.53691088 -2.83602281]\t -34.9917699956587\t -18.011587787958355\t 3.8322305962161933\n",
            "\u001b[1m\u001b[92m19\u001b[0m\t \u001b[1m\u001b[92m[ 2.98125242 -0.12710366]\u001b[0m\t \u001b[1m\u001b[92m-11.996329088881167\u001b[0m\t \u001b[1m\u001b[92m-11.996329088881167\u001b[0m\t \u001b[1m\u001b[92m4.527103781485471\u001b[0m\n",
            "20 \t [-4.8656341   1.08302561]\t -29.53448285725463\t -11.996329088881167\t 4.514256601483459\n"
          ]
        }
      ]
    },
    {
      "cell_type": "code",
      "metadata": {
        "id": "Pput2LHPIwBM",
        "colab": {
          "base_uri": "https://localhost:8080/"
        },
        "outputId": "5ce5e842-3d4b-458f-c610-33a5df2f1d11"
      },
      "source": [
        "### EXACT GP CBM GRADIENTS\n",
        "\n",
        "np.random.seed(run_num_19)\n",
        "surrogate_exact_19 = dGaussianProcess(cov_func, optimize=opt)\n",
        "\n",
        "exact_19 = dGPGO(surrogate_exact_19, Acquisition_new(util_grad_exact), objfunc, param)\n",
        "exact_19.run(init_evals=n_init, max_iter=iters)\n"
      ],
      "execution_count": 52,
      "outputs": [
        {
          "output_type": "stream",
          "name": "stdout",
          "text": [
            "Evaluation \t Proposed point \t  Current eval. \t  Best eval. \t         Max AcqFunc.\n",
            "init\t [-4.12125592  2.6751971 ]\t -41.43485596167127\t -25.867003842388073\t    \n",
            "init\t [-2.59135515 -3.70553152]\t -51.60126035043229\t -25.867003842388073\t    \n",
            "init\t [-1.72598719 -4.27008445]\t -43.97430127029199\t -25.867003842388073\t    \n",
            "init\t [1.76104531 3.13952049]\t -25.867003842388073\t -25.867003842388073\t    \n",
            "init\t [4.9432772  1.38916592]\t -44.66580306903559\t -25.867003842388073\t    \n",
            "1  \t [ 4.23957591 -4.3180944 ]\t -60.11460004389352\t -25.867003842388073\t -2.449487979038283\n",
            "\u001b[1m\u001b[92m2\u001b[0m\t \u001b[1m\u001b[92m[-0.8522331  0.1097962]\u001b[0m\t \u001b[1m\u001b[92m-7.034284559434696\u001b[0m\t \u001b[1m\u001b[92m-7.034284559434696\u001b[0m\t \u001b[1m\u001b[92m-2.43752941549335\u001b[0m\n",
            "3  \t [5.12 5.12]\t -57.849427451571785\t -7.034284559434696\t -2.422171921281958\n",
            "4  \t [-5.11258145 -1.10557084]\t -31.880524619679164\t -7.034284559434696\t -2.408944585107038\n",
            "5  \t [ 2.12840218 -1.35523672]\t -25.58926950497882\t -7.034284559434696\t -2.384709827892259\n",
            "6  \t [-1.01625331  4.44665747]\t -40.30120687312824\t -7.034284559434696\t -2.298265373385901\n",
            "7  \t [-5.12 -5.12]\t -57.849427451571785\t -7.034284559434696\t -2.0915451233829074\n",
            "8  \t [ 1.05470177 -4.74488643]\t -34.532444286947474\t -7.034284559434696\t -1.9426326453821272\n",
            "9  \t [-2.66639284  0.04808145]\t -22.57973141610737\t -7.034284559434696\t -1.109075640505153\n",
            "10 \t [ 4.96678077 -1.40582799]\t -45.16223511971381\t -7.034284559434696\t -1.4421551484279918\n",
            "11 \t [0.64605637 0.8661167 ]\t -20.578450666798126\t -7.034284559434696\t -0.9140048065551525\n",
            "12 \t [-0.49408006 -1.6528379 ]\t -38.7017406009281\t -7.034284559434696\t -0.7885799573997623\n",
            "13 \t [2.21263953 5.12      ]\t -41.49455912843075\t -7.034284559434696\t -0.3302534691353359\n",
            "14 \t [-1.31897373  1.8932949 ]\t -21.68818185722772\t -7.034284559434696\t 0.18627175796904086\n",
            "15 \t [-3.26116372  4.61010814]\t -60.289948031311184\t -7.034284559434696\t 1.3555210034879692\n",
            "16 \t [2.52176694 1.23303662]\t -36.72248531909966\t -7.034284559434696\t 2.0703538694013814\n",
            "17 \t [-5.12       -2.88557921]\t -39.72615326637445\t -7.034284559434696\t 3.8068539176029055\n",
            "18 \t [-4.51025712  0.53869432]\t -60.31775820025432\t -7.034284559434696\t 4.183037006440475\n",
            "19 \t [4.26128929 3.10282759]\t -40.51038664932392\t -7.034284559434696\t 5.519145898783602\n",
            "20 \t [-2.94254613 -1.46233013]\t -31.16272461059289\t -7.034284559434696\t 5.417855814668607\n"
          ]
        }
      ]
    },
    {
      "cell_type": "code",
      "metadata": {
        "id": "aw3xvSryIwDi",
        "colab": {
          "base_uri": "https://localhost:8080/"
        },
        "outputId": "0b040f34-c9d0-41c0-fe27-93712b342b60"
      },
      "source": [
        "### EXACT GP CBM GRADIENTS\n",
        "\n",
        "np.random.seed(run_num_20)\n",
        "surrogate_exact_20 = dGaussianProcess(cov_func, optimize=opt)\n",
        "\n",
        "exact_20 = dGPGO(surrogate_exact_20, Acquisition_new(util_grad_exact), objfunc, param)\n",
        "exact_20.run(init_evals=n_init, max_iter=iters)\n"
      ],
      "execution_count": 53,
      "outputs": [
        {
          "output_type": "stream",
          "name": "stdout",
          "text": [
            "Evaluation \t Proposed point \t  Current eval. \t  Best eval. \t         Max AcqFunc.\n",
            "init\t [0.9024594  4.07258857]\t -20.24255447774017\t -17.388691338534382\t    \n",
            "init\t [4.00927467 3.23417577]\t -35.55852254546393\t -17.388691338534382\t    \n",
            "init\t [-4.75249064  1.96359764]\t -36.54582989269194\t -17.388691338534382\t    \n",
            "init\t [-1.24230715  0.18955208]\t -17.388691338534382\t -17.388691338534382\t    \n",
            "init\t [ 1.61742301 -3.13497377]\t -33.22932870179905\t -17.388691338534382\t    \n",
            "1  \t [-5.12 -5.12]\t -57.849427451571785\t -17.388691338534382\t -2.4494897439873324\n",
            "2  \t [ 5.12       -0.90740925]\t -31.3931634996558\t -17.388691338534382\t -2.4446708533078523\n",
            "3  \t [-2.3233602   4.69581862]\t -55.23551883301417\t -17.388691338534382\t -2.380799750743602\n",
            "4  \t [-1.42211964 -5.12      ]\t -49.77358600104105\t -17.388691338534382\t -2.395605300698754\n",
            "5  \t [-4.99247735 -1.5188041 ]\t -47.173048884724054\t -17.388691338534382\t -2.3625876755303006\n",
            "6  \t [ 4.69080964 -4.43534108]\t -74.49588153721578\t -17.388691338534382\t -2.357757214971905\n",
            "7  \t [ 2.28957729 -0.05470922]\t -18.291341208455872\t -17.388691338534382\t -2.1008789204973577\n",
            "8  \t [-2.37913052 -1.83093934]\t -31.395608403645895\t -17.388691338534382\t -1.0431002234767395\n",
            "9  \t [5.12 5.12]\t -57.849427451571785\t -17.388691338534382\t -0.8282656404392752\n",
            "\u001b[1m\u001b[92m10\u001b[0m\t \u001b[1m\u001b[92m[0.23853766 1.87655059]\u001b[0m\t \u001b[1m\u001b[92m-15.719143058044459\u001b[0m\t \u001b[1m\u001b[92m-15.719143058044459\u001b[0m\t \u001b[1m\u001b[92m-0.8728772341209688\u001b[0m\n",
            "11 \t [ 1.39500373 -5.12      ]\t -48.77244291159316\t -15.719143058044459\t 0.3983780639523467\n",
            "12 \t [-4.45972891  4.76447717]\t -71.36263247821208\t -15.719143058044459\t 0.7082330525558652\n",
            "\u001b[1m\u001b[92m13\u001b[0m\t \u001b[1m\u001b[92m[-2.11483397  1.93613011]\u001b[0m\t \u001b[1m\u001b[92m-11.507601989263824\u001b[0m\t \u001b[1m\u001b[92m-11.507601989263824\u001b[0m\t \u001b[1m\u001b[92m0.3516901769261157\u001b[0m\n",
            "14 \t [ 0.33319  -1.443944]\t -36.57431392687273\t -11.507601989263824\t 0.6021540874766305\n",
            "15 \t [5.12       1.51783442]\t -51.165816916560765\t -11.507601989263824\t 0.504556460820092\n",
            "16 \t [1.93409898 2.23036486]\t -18.329765573838145\t -11.507601989263824\t 1.9382584003562287\n",
            "17 \t [-3.19092639  0.41990404]\t -35.491426612187595\t -11.507601989263824\t 2.540617230809974\n",
            "18 \t [2.45764771 5.07374406]\t -52.485316887067555\t -11.507601989263824\t 1.0043380558811672\n",
            "19 \t [ 3.38751222 -1.9956094 ]\t -33.066058991540515\t -11.507601989263824\t 2.5993979477400257\n",
            "20 \t [-3.33312244 -3.59538665]\t -57.28215663152196\t -11.507601989263824\t 3.2453495937532457\n"
          ]
        }
      ]
    },
    {
      "cell_type": "code",
      "metadata": {
        "id": "qNqAB3vBTPqb",
        "colab": {
          "base_uri": "https://localhost:8080/"
        },
        "outputId": "afcc732f-45a0-4f5d-f3a5-2adfc4767205"
      },
      "source": [
        "end_exact = time.time()\n",
        "end_exact\n",
        "\n",
        "time_exact = end_exact - start_exact\n",
        "time_exact"
      ],
      "execution_count": 54,
      "outputs": [
        {
          "output_type": "execute_result",
          "data": {
            "text/plain": [
              "473.3104135990143"
            ]
          },
          "metadata": {},
          "execution_count": 54
        }
      ]
    },
    {
      "cell_type": "code",
      "metadata": {
        "id": "JPQzjdBZQxfg",
        "colab": {
          "base_uri": "https://localhost:8080/"
        },
        "outputId": "15099778-5767-4161-d901-f24e581ae9df"
      },
      "source": [
        "### Simple regret minimization: run number = 1\n",
        "\n",
        "approx_output_1 = np.append(np.min(approx_1.GP.y[0:n_init]),approx_1.GP.y[n_init:(n_init+iters)]) \n",
        "exact_output_1 = np.append(np.min(exact_1.GP.y[0:n_init]),exact_1.GP.y[n_init:(n_init+iters)]) \n",
        "\n",
        "regret_approx_1 = np.log(-approx_output_1 + y_global_orig)\n",
        "regret_exact_1 = np.log(-exact_output_1 + y_global_orig)\n",
        "\n",
        "simple_regret_approx_1 = min_max_array(regret_approx_1)\n",
        "simple_regret_exact_1 = min_max_array(regret_exact_1)\n",
        "\n",
        "min_simple_regret_approx_1 = min(simple_regret_approx_1)\n",
        "min_simple_regret_exact_1 = min(simple_regret_exact_1)\n",
        "\n",
        "min_simple_regret_approx_1, min_simple_regret_exact_1"
      ],
      "execution_count": 55,
      "outputs": [
        {
          "output_type": "execute_result",
          "data": {
            "text/plain": [
              "(2.534734985366455, 3.2468015438365843)"
            ]
          },
          "metadata": {},
          "execution_count": 55
        }
      ]
    },
    {
      "cell_type": "code",
      "metadata": {
        "id": "94yBw5tqQxfk",
        "colab": {
          "base_uri": "https://localhost:8080/"
        },
        "outputId": "b4b3f078-aeea-414e-dcbc-7b2143d6b526"
      },
      "source": [
        "### Simple regret minimization: run number = 2\n",
        "\n",
        "approx_output_2 = np.append(np.min(approx_2.GP.y[0:n_init]),approx_2.GP.y[n_init:(n_init+iters)]) \n",
        "exact_output_2 = np.append(np.min(exact_2.GP.y[0:n_init]),exact_2.GP.y[n_init:(n_init+iters)]) \n",
        "\n",
        "regret_approx_2 = np.log(-approx_output_2 + y_global_orig)\n",
        "regret_exact_2 = np.log(-exact_output_2 + y_global_orig)\n",
        "\n",
        "simple_regret_approx_2 = min_max_array(regret_approx_2)\n",
        "simple_regret_exact_2 = min_max_array(regret_exact_2)\n",
        "\n",
        "min_simple_regret_approx_2 = min(simple_regret_approx_2)\n",
        "min_simple_regret_exact_2 = min(simple_regret_exact_2)\n",
        "\n",
        "min_simple_regret_approx_2, min_simple_regret_exact_2"
      ],
      "execution_count": 56,
      "outputs": [
        {
          "output_type": "execute_result",
          "data": {
            "text/plain": [
              "(3.1097541277959015, 2.6460846520456456)"
            ]
          },
          "metadata": {},
          "execution_count": 56
        }
      ]
    },
    {
      "cell_type": "code",
      "metadata": {
        "id": "Bu6SBWALQxfl",
        "colab": {
          "base_uri": "https://localhost:8080/"
        },
        "outputId": "f5859c1b-6627-449d-85a3-98e16eed4e0b"
      },
      "source": [
        "### Simple regret minimization: run number = 3\n",
        "\n",
        "approx_output_3 = np.append(np.min(approx_3.GP.y[0:n_init]),approx_3.GP.y[n_init:(n_init+iters)]) \n",
        "exact_output_3 = np.append(np.min(exact_3.GP.y[0:n_init]),exact_3.GP.y[n_init:(n_init+iters)]) \n",
        "\n",
        "regret_approx_3 = np.log(-approx_output_3 + y_global_orig)\n",
        "regret_exact_3 = np.log(-exact_output_3 + y_global_orig)\n",
        "\n",
        "simple_regret_approx_3 = min_max_array(regret_approx_3)\n",
        "simple_regret_exact_3 = min_max_array(regret_exact_3)\n",
        "\n",
        "min_simple_regret_approx_3 = min(simple_regret_approx_3)\n",
        "min_simple_regret_exact_3 = min(simple_regret_exact_3)\n",
        "\n",
        "min_simple_regret_approx_3, min_simple_regret_exact_3"
      ],
      "execution_count": 57,
      "outputs": [
        {
          "output_type": "execute_result",
          "data": {
            "text/plain": [
              "(2.630753620765267, 3.0286830385185066)"
            ]
          },
          "metadata": {},
          "execution_count": 57
        }
      ]
    },
    {
      "cell_type": "code",
      "metadata": {
        "id": "AZm0jgxkQxfm",
        "colab": {
          "base_uri": "https://localhost:8080/"
        },
        "outputId": "f0dd07ea-cd5c-4594-fd89-27698cf36ae7"
      },
      "source": [
        "### Simple regret minimization: run number = 4\n",
        "\n",
        "approx_output_4 = np.append(np.min(approx_4.GP.y[0:n_init]),approx_4.GP.y[n_init:(n_init+iters)]) \n",
        "exact_output_4 = np.append(np.min(exact_4.GP.y[0:n_init]),exact_4.GP.y[n_init:(n_init+iters)]) \n",
        "\n",
        "regret_approx_4 = np.log(-approx_output_4 + y_global_orig)\n",
        "regret_exact_4 = np.log(-exact_output_4 + y_global_orig)\n",
        "\n",
        "simple_regret_approx_4 = min_max_array(regret_approx_4)\n",
        "simple_regret_exact_4 = min_max_array(regret_exact_4)\n",
        "\n",
        "min_simple_regret_approx_4 = min(simple_regret_approx_4)\n",
        "min_simple_regret_exact_4 = min(simple_regret_exact_4)\n",
        "\n",
        "min_simple_regret_approx_4, min_simple_regret_exact_4"
      ],
      "execution_count": 58,
      "outputs": [
        {
          "output_type": "execute_result",
          "data": {
            "text/plain": [
              "(2.288519611367123, 2.4551997431578734)"
            ]
          },
          "metadata": {},
          "execution_count": 58
        }
      ]
    },
    {
      "cell_type": "code",
      "metadata": {
        "id": "NONPm8JIQxfn",
        "colab": {
          "base_uri": "https://localhost:8080/"
        },
        "outputId": "27deab04-f9a7-47b4-df32-47a7595546ad"
      },
      "source": [
        "### Simple regret minimization: run number = 5\n",
        "\n",
        "approx_output_5 = np.append(np.min(approx_5.GP.y[0:n_init]),approx_5.GP.y[n_init:(n_init+iters)]) \n",
        "exact_output_5 = np.append(np.min(exact_5.GP.y[0:n_init]),exact_5.GP.y[n_init:(n_init+iters)]) \n",
        "\n",
        "regret_approx_5 = np.log(-approx_output_5 + y_global_orig)\n",
        "regret_exact_5 = np.log(-exact_output_5 + y_global_orig)\n",
        "\n",
        "simple_regret_approx_5 = min_max_array(regret_approx_5)\n",
        "simple_regret_exact_5 = min_max_array(regret_exact_5)\n",
        "\n",
        "min_simple_regret_approx_5 = min(simple_regret_approx_5)\n",
        "min_simple_regret_exact_5 = min(simple_regret_exact_5)\n",
        "\n",
        "min_simple_regret_approx_5, min_simple_regret_exact_5"
      ],
      "execution_count": 59,
      "outputs": [
        {
          "output_type": "execute_result",
          "data": {
            "text/plain": [
              "(1.8616723236258255, 2.8525855540382645)"
            ]
          },
          "metadata": {},
          "execution_count": 59
        }
      ]
    },
    {
      "cell_type": "code",
      "metadata": {
        "id": "CJv3lPuSQxfp",
        "colab": {
          "base_uri": "https://localhost:8080/"
        },
        "outputId": "cf30eb3d-ce13-4264-d1b6-b5cba88afc49"
      },
      "source": [
        "### Simple regret minimization: run number = 6\n",
        "\n",
        "approx_output_6 = np.append(np.min(approx_6.GP.y[0:n_init]),approx_6.GP.y[n_init:(n_init+iters)]) \n",
        "exact_output_6 = np.append(np.min(exact_6.GP.y[0:n_init]),exact_6.GP.y[n_init:(n_init+iters)]) \n",
        "\n",
        "regret_approx_6 = np.log(-approx_output_6 + y_global_orig)\n",
        "regret_exact_6 = np.log(-exact_output_6 + y_global_orig)\n",
        "\n",
        "simple_regret_approx_6 = min_max_array(regret_approx_6)\n",
        "simple_regret_exact_6 = min_max_array(regret_exact_6)\n",
        "\n",
        "min_simple_regret_approx_6 = min(simple_regret_approx_6)\n",
        "min_simple_regret_exact_6 = min(simple_regret_exact_6)\n",
        "\n",
        "min_simple_regret_approx_6, min_simple_regret_exact_6"
      ],
      "execution_count": 60,
      "outputs": [
        {
          "output_type": "execute_result",
          "data": {
            "text/plain": [
              "(2.301984920639246, 1.8073466498133655)"
            ]
          },
          "metadata": {},
          "execution_count": 60
        }
      ]
    },
    {
      "cell_type": "code",
      "metadata": {
        "id": "quR2ZyApQxfq",
        "colab": {
          "base_uri": "https://localhost:8080/"
        },
        "outputId": "3e8b1833-afdd-43cf-85f1-9d3a11784d64"
      },
      "source": [
        "### Simple regret minimization: run number = 7\n",
        "\n",
        "approx_output_7 = np.append(np.min(approx_7.GP.y[0:n_init]),approx_7.GP.y[n_init:(n_init+iters)]) \n",
        "exact_output_7 = np.append(np.min(exact_7.GP.y[0:n_init]),exact_7.GP.y[n_init:(n_init+iters)]) \n",
        "\n",
        "regret_approx_7 = np.log(-approx_output_7 + y_global_orig)\n",
        "regret_exact_7 = np.log(-exact_output_7 + y_global_orig)\n",
        "\n",
        "simple_regret_approx_7 = min_max_array(regret_approx_7)\n",
        "simple_regret_exact_7 = min_max_array(regret_exact_7)\n",
        "\n",
        "min_simple_regret_approx_7 = min(simple_regret_approx_7)\n",
        "min_simple_regret_exact_7 = min(simple_regret_exact_7)\n",
        "\n",
        "min_simple_regret_approx_7, min_simple_regret_exact_7"
      ],
      "execution_count": 61,
      "outputs": [
        {
          "output_type": "execute_result",
          "data": {
            "text/plain": [
              "(2.6362433768276645, 2.6245049423824436)"
            ]
          },
          "metadata": {},
          "execution_count": 61
        }
      ]
    },
    {
      "cell_type": "code",
      "metadata": {
        "id": "99wY5nK6Qxfr",
        "colab": {
          "base_uri": "https://localhost:8080/"
        },
        "outputId": "ea9e7c11-7cac-428e-8755-92547f5a972f"
      },
      "source": [
        "### Simple regret minimization: run number = 8\n",
        "\n",
        "approx_output_8 = np.append(np.min(approx_8.GP.y[0:n_init]),approx_8.GP.y[n_init:(n_init+iters)]) \n",
        "exact_output_8 = np.append(np.min(exact_8.GP.y[0:n_init]),exact_8.GP.y[n_init:(n_init+iters)]) \n",
        "\n",
        "regret_approx_8 = np.log(-approx_output_8 + y_global_orig)\n",
        "regret_exact_8 = np.log(-exact_output_8 + y_global_orig)\n",
        "\n",
        "simple_regret_approx_8 = min_max_array(regret_approx_8)\n",
        "simple_regret_exact_8 = min_max_array(regret_exact_8)\n",
        "\n",
        "min_simple_regret_approx_8 = min(simple_regret_approx_8)\n",
        "min_simple_regret_exact_8 = min(simple_regret_exact_8)\n",
        "\n",
        "min_simple_regret_approx_8, min_simple_regret_exact_8"
      ],
      "execution_count": 62,
      "outputs": [
        {
          "output_type": "execute_result",
          "data": {
            "text/plain": [
              "(2.6994698284331173, 2.1925411711974165)"
            ]
          },
          "metadata": {},
          "execution_count": 62
        }
      ]
    },
    {
      "cell_type": "code",
      "metadata": {
        "id": "qt0P5t9qQxfs",
        "colab": {
          "base_uri": "https://localhost:8080/"
        },
        "outputId": "fc78e85f-c8bd-456b-891d-759763b4f81d"
      },
      "source": [
        "### Simple regret minimization: run number = 9\n",
        "\n",
        "approx_output_9 = np.append(np.min(approx_9.GP.y[0:n_init]),approx_9.GP.y[n_init:(n_init+iters)]) \n",
        "exact_output_9 = np.append(np.min(exact_9.GP.y[0:n_init]),exact_9.GP.y[n_init:(n_init+iters)]) \n",
        "\n",
        "regret_approx_9 = np.log(-approx_output_9 + y_global_orig)\n",
        "regret_exact_9 = np.log(-exact_output_9 + y_global_orig)\n",
        "\n",
        "simple_regret_approx_9 = min_max_array(regret_approx_9)\n",
        "simple_regret_exact_9 = min_max_array(regret_exact_9)\n",
        "\n",
        "min_simple_regret_approx_9 = min(simple_regret_approx_9)\n",
        "min_simple_regret_exact_9 = min(simple_regret_exact_9)\n",
        "\n",
        "min_simple_regret_approx_9, min_simple_regret_exact_9"
      ],
      "execution_count": 63,
      "outputs": [
        {
          "output_type": "execute_result",
          "data": {
            "text/plain": [
              "(2.8211368256926237, 3.061260721864964)"
            ]
          },
          "metadata": {},
          "execution_count": 63
        }
      ]
    },
    {
      "cell_type": "code",
      "metadata": {
        "id": "vx8to9stQxft",
        "colab": {
          "base_uri": "https://localhost:8080/"
        },
        "outputId": "0b4ad472-da9c-4b2a-8803-9f67ca568846"
      },
      "source": [
        "### Simple regret minimization: run number = 10\n",
        "\n",
        "approx_output_10 = np.append(np.min(approx_10.GP.y[0:n_init]),approx_10.GP.y[n_init:(n_init+iters)]) \n",
        "exact_output_10 = np.append(np.min(exact_10.GP.y[0:n_init]),exact_10.GP.y[n_init:(n_init+iters)]) \n",
        "\n",
        "regret_approx_10 = np.log(-approx_output_10 + y_global_orig)\n",
        "regret_exact_10 = np.log(-exact_output_10 + y_global_orig)\n",
        "\n",
        "simple_regret_approx_10 = min_max_array(regret_approx_10)\n",
        "simple_regret_exact_10 = min_max_array(regret_exact_10)\n",
        "\n",
        "min_simple_regret_approx_10 = min(simple_regret_approx_10)\n",
        "min_simple_regret_exact_10 = min(simple_regret_exact_10)\n",
        "\n",
        "min_simple_regret_approx_10, min_simple_regret_exact_10"
      ],
      "execution_count": 64,
      "outputs": [
        {
          "output_type": "execute_result",
          "data": {
            "text/plain": [
              "(2.5237795456841097, 2.2897144496777004)"
            ]
          },
          "metadata": {},
          "execution_count": 64
        }
      ]
    },
    {
      "cell_type": "code",
      "metadata": {
        "id": "d-FGzWyHQxfu",
        "colab": {
          "base_uri": "https://localhost:8080/"
        },
        "outputId": "27393cf4-31c5-447d-d985-bfc23cd0667c"
      },
      "source": [
        "### Simple regret minimization: run number = 11\n",
        "\n",
        "approx_output_11 = np.append(np.min(approx_11.GP.y[0:n_init]),approx_11.GP.y[n_init:(n_init+iters)]) \n",
        "exact_output_11 = np.append(np.min(exact_11.GP.y[0:n_init]),exact_11.GP.y[n_init:(n_init+iters)]) \n",
        "\n",
        "regret_approx_11 = np.log(-approx_output_11 + y_global_orig)\n",
        "regret_exact_11 = np.log(-exact_output_11 + y_global_orig)\n",
        "\n",
        "simple_regret_approx_11 = min_max_array(regret_approx_11)\n",
        "simple_regret_exact_11 = min_max_array(regret_exact_11)\n",
        "\n",
        "min_simple_regret_approx_11 = min(simple_regret_approx_11)\n",
        "min_simple_regret_exact_11 = min(simple_regret_exact_11)\n",
        "\n",
        "min_simple_regret_approx_11, min_simple_regret_exact_11"
      ],
      "execution_count": 65,
      "outputs": [
        {
          "output_type": "execute_result",
          "data": {
            "text/plain": [
              "(2.5708806177706016, 2.6610655591361283)"
            ]
          },
          "metadata": {},
          "execution_count": 65
        }
      ]
    },
    {
      "cell_type": "code",
      "metadata": {
        "id": "SvtsssyjQxfv",
        "colab": {
          "base_uri": "https://localhost:8080/"
        },
        "outputId": "fab579b8-ecea-4bde-bc5f-3b1d3ebb29bc"
      },
      "source": [
        "### Simple regret minimization: run number = 12\n",
        "\n",
        "approx_output_12 = np.append(np.min(approx_12.GP.y[0:n_init]),approx_12.GP.y[n_init:(n_init+iters)]) \n",
        "exact_output_12 = np.append(np.min(exact_12.GP.y[0:n_init]),exact_12.GP.y[n_init:(n_init+iters)]) \n",
        "\n",
        "regret_approx_12 = np.log(-approx_output_12 + y_global_orig)\n",
        "regret_exact_12 = np.log(-exact_output_12 + y_global_orig)\n",
        "\n",
        "simple_regret_approx_12 = min_max_array(regret_approx_12)\n",
        "simple_regret_exact_12 = min_max_array(regret_exact_12)\n",
        "\n",
        "min_simple_regret_approx_12 = min(simple_regret_approx_12)\n",
        "min_simple_regret_exact_12 = min(simple_regret_exact_12)\n",
        "\n",
        "min_simple_regret_approx_12, min_simple_regret_exact_12"
      ],
      "execution_count": 66,
      "outputs": [
        {
          "output_type": "execute_result",
          "data": {
            "text/plain": [
              "(2.167662637440424, 2.881452365869826)"
            ]
          },
          "metadata": {},
          "execution_count": 66
        }
      ]
    },
    {
      "cell_type": "code",
      "metadata": {
        "id": "K6OiGcHkQxfw",
        "colab": {
          "base_uri": "https://localhost:8080/"
        },
        "outputId": "0e3e6c34-97ad-4752-c957-7b33d37ef791"
      },
      "source": [
        "### Simple regret minimization: run number = 13\n",
        "\n",
        "approx_output_13 = np.append(np.min(approx_13.GP.y[0:n_init]),approx_13.GP.y[n_init:(n_init+iters)]) \n",
        "exact_output_13 = np.append(np.min(exact_13.GP.y[0:n_init]),exact_13.GP.y[n_init:(n_init+iters)]) \n",
        "\n",
        "regret_approx_13 = np.log(-approx_output_13 + y_global_orig)\n",
        "regret_exact_13 = np.log(-exact_output_13 + y_global_orig)\n",
        "\n",
        "simple_regret_approx_13 = min_max_array(regret_approx_13)\n",
        "simple_regret_exact_13 = min_max_array(regret_exact_13)\n",
        "\n",
        "min_simple_regret_approx_13 = min(simple_regret_approx_13)\n",
        "min_simple_regret_exact_13 = min(simple_regret_exact_13)\n",
        "\n",
        "min_simple_regret_approx_13, min_simple_regret_exact_13"
      ],
      "execution_count": 67,
      "outputs": [
        {
          "output_type": "execute_result",
          "data": {
            "text/plain": [
              "(2.7635324288133383, 2.2313760555386803)"
            ]
          },
          "metadata": {},
          "execution_count": 67
        }
      ]
    },
    {
      "cell_type": "code",
      "metadata": {
        "id": "ogML73shQxfx",
        "colab": {
          "base_uri": "https://localhost:8080/"
        },
        "outputId": "ce81d246-c217-4f62-9571-44baf4ded9d1"
      },
      "source": [
        "### Simple regret minimization: run number = 14\n",
        "\n",
        "approx_output_14 = np.append(np.min(approx_14.GP.y[0:n_init]),approx_14.GP.y[n_init:(n_init+iters)]) \n",
        "exact_output_14 = np.append(np.min(exact_14.GP.y[0:n_init]),exact_14.GP.y[n_init:(n_init+iters)]) \n",
        "\n",
        "regret_approx_14 = np.log(-approx_output_14 + y_global_orig)\n",
        "regret_exact_14 = np.log(-exact_output_14 + y_global_orig)\n",
        "\n",
        "simple_regret_approx_14 = min_max_array(regret_approx_14)\n",
        "simple_regret_exact_14 = min_max_array(regret_exact_14)\n",
        "\n",
        "min_simple_regret_approx_14 = min(simple_regret_approx_14)\n",
        "min_simple_regret_exact_14 = min(simple_regret_exact_14)\n",
        "\n",
        "min_simple_regret_approx_14, min_simple_regret_exact_14"
      ],
      "execution_count": 68,
      "outputs": [
        {
          "output_type": "execute_result",
          "data": {
            "text/plain": [
              "(2.451190767739531, 2.8212900849919444)"
            ]
          },
          "metadata": {},
          "execution_count": 68
        }
      ]
    },
    {
      "cell_type": "code",
      "metadata": {
        "id": "9Eg7gFT9Qxfx",
        "colab": {
          "base_uri": "https://localhost:8080/"
        },
        "outputId": "76bd7036-a343-454a-aabb-6d00e661ff4b"
      },
      "source": [
        "### Simple regret minimization: run number = 15\n",
        "\n",
        "approx_output_15 = np.append(np.min(approx_15.GP.y[0:n_init]),approx_15.GP.y[n_init:(n_init+iters)]) \n",
        "exact_output_15 = np.append(np.min(exact_15.GP.y[0:n_init]),exact_15.GP.y[n_init:(n_init+iters)]) \n",
        "\n",
        "regret_approx_15 = np.log(-approx_output_15 + y_global_orig)\n",
        "regret_exact_15 = np.log(-exact_output_15 + y_global_orig)\n",
        "\n",
        "simple_regret_approx_15 = min_max_array(regret_approx_15)\n",
        "simple_regret_exact_15 = min_max_array(regret_exact_15)\n",
        "\n",
        "min_simple_regret_approx_15 = min(simple_regret_approx_15)\n",
        "min_simple_regret_exact_15 = min(simple_regret_exact_15)\n",
        "\n",
        "min_simple_regret_approx_15, min_simple_regret_exact_15"
      ],
      "execution_count": 69,
      "outputs": [
        {
          "output_type": "execute_result",
          "data": {
            "text/plain": [
              "(2.8195638943055337, 3.046565491183561)"
            ]
          },
          "metadata": {},
          "execution_count": 69
        }
      ]
    },
    {
      "cell_type": "code",
      "metadata": {
        "id": "lIAC1U7ZQxfy",
        "colab": {
          "base_uri": "https://localhost:8080/"
        },
        "outputId": "a7c52fd2-f9cb-4f85-c990-f80eabac6d20"
      },
      "source": [
        "### Simple regret minimization: run number = 16\n",
        "\n",
        "approx_output_16 = np.append(np.min(approx_16.GP.y[0:n_init]),approx_16.GP.y[n_init:(n_init+iters)]) \n",
        "exact_output_16 = np.append(np.min(exact_16.GP.y[0:n_init]),exact_16.GP.y[n_init:(n_init+iters)]) \n",
        "\n",
        "regret_approx_16 = np.log(-approx_output_16 + y_global_orig)\n",
        "regret_exact_16 = np.log(-exact_output_16 + y_global_orig)\n",
        "\n",
        "simple_regret_approx_16 = min_max_array(regret_approx_16)\n",
        "simple_regret_exact_16 = min_max_array(regret_exact_16)\n",
        "\n",
        "min_simple_regret_approx_16 = min(simple_regret_approx_16)\n",
        "min_simple_regret_exact_16 = min(simple_regret_exact_16)\n",
        "\n",
        "min_simple_regret_approx_16, min_simple_regret_exact_16"
      ],
      "execution_count": 70,
      "outputs": [
        {
          "output_type": "execute_result",
          "data": {
            "text/plain": [
              "(0.8622890658227697, 2.1144410502644675)"
            ]
          },
          "metadata": {},
          "execution_count": 70
        }
      ]
    },
    {
      "cell_type": "code",
      "metadata": {
        "id": "bGott36OQxfz",
        "colab": {
          "base_uri": "https://localhost:8080/"
        },
        "outputId": "fb68e397-b10d-41e1-b6aa-17d9485f02ac"
      },
      "source": [
        "### Simple regret minimization: run number = 17\n",
        "\n",
        "approx_output_17 = np.append(np.min(approx_17.GP.y[0:n_init]),approx_17.GP.y[n_init:(n_init+iters)]) \n",
        "exact_output_17 = np.append(np.min(exact_17.GP.y[0:n_init]),exact_17.GP.y[n_init:(n_init+iters)]) \n",
        "\n",
        "regret_approx_17 = np.log(-approx_output_17 + y_global_orig)\n",
        "regret_exact_17 = np.log(-exact_output_17 + y_global_orig)\n",
        "\n",
        "simple_regret_approx_17 = min_max_array(regret_approx_17)\n",
        "simple_regret_exact_17 = min_max_array(regret_exact_17)\n",
        "\n",
        "min_simple_regret_approx_17 = min(simple_regret_approx_17)\n",
        "min_simple_regret_exact_17 = min(simple_regret_exact_17)\n",
        "\n",
        "min_simple_regret_approx_17, min_simple_regret_exact_17"
      ],
      "execution_count": 71,
      "outputs": [
        {
          "output_type": "execute_result",
          "data": {
            "text/plain": [
              "(2.4279682679331938, 2.585600314061042)"
            ]
          },
          "metadata": {},
          "execution_count": 71
        }
      ]
    },
    {
      "cell_type": "code",
      "metadata": {
        "id": "Cz9ZYMBMQxfz",
        "colab": {
          "base_uri": "https://localhost:8080/"
        },
        "outputId": "22603e82-7d6a-49f7-8208-d19235cf973e"
      },
      "source": [
        "### Simple regret minimization: run number = 18\n",
        "\n",
        "approx_output_18 = np.append(np.min(approx_18.GP.y[0:n_init]),approx_18.GP.y[n_init:(n_init+iters)]) \n",
        "exact_output_18 = np.append(np.min(exact_18.GP.y[0:n_init]),exact_18.GP.y[n_init:(n_init+iters)]) \n",
        "\n",
        "regret_approx_18 = np.log(-approx_output_18 + y_global_orig)\n",
        "regret_exact_18 = np.log(-exact_output_18 + y_global_orig)\n",
        "\n",
        "simple_regret_approx_18 = min_max_array(regret_approx_18)\n",
        "simple_regret_exact_18 = min_max_array(regret_exact_18)\n",
        "\n",
        "min_simple_regret_approx_18 = min(simple_regret_approx_18)\n",
        "min_simple_regret_exact_18 = min(simple_regret_exact_18)\n",
        "\n",
        "min_simple_regret_approx_18, min_simple_regret_exact_18"
      ],
      "execution_count": 72,
      "outputs": [
        {
          "output_type": "execute_result",
          "data": {
            "text/plain": [
              "(2.372147072389316, 2.484600693728315)"
            ]
          },
          "metadata": {},
          "execution_count": 72
        }
      ]
    },
    {
      "cell_type": "code",
      "metadata": {
        "id": "OBfpWOHNQxf0",
        "colab": {
          "base_uri": "https://localhost:8080/"
        },
        "outputId": "63213981-3c6c-4c3d-f608-5c7727273bba"
      },
      "source": [
        "### Simple regret minimization: run number = 19\n",
        "\n",
        "approx_output_19 = np.append(np.min(approx_19.GP.y[0:n_init]),approx_19.GP.y[n_init:(n_init+iters)]) \n",
        "exact_output_19 = np.append(np.min(exact_19.GP.y[0:n_init]),exact_19.GP.y[n_init:(n_init+iters)]) \n",
        "\n",
        "regret_approx_19 = np.log(-approx_output_19 + y_global_orig)\n",
        "regret_exact_19 = np.log(-exact_output_19 + y_global_orig)\n",
        "\n",
        "simple_regret_approx_19 = min_max_array(regret_approx_19)\n",
        "simple_regret_exact_19 = min_max_array(regret_exact_19)\n",
        "\n",
        "min_simple_regret_approx_19 = min(simple_regret_approx_19)\n",
        "min_simple_regret_exact_19 = min(simple_regret_exact_19)\n",
        "\n",
        "min_simple_regret_approx_19, min_simple_regret_exact_19"
      ],
      "execution_count": 73,
      "outputs": [
        {
          "output_type": "execute_result",
          "data": {
            "text/plain": [
              "(2.981598638394232, 1.9507959880863297)"
            ]
          },
          "metadata": {},
          "execution_count": 73
        }
      ]
    },
    {
      "cell_type": "code",
      "metadata": {
        "id": "BE1AJ7NsQxf0",
        "colab": {
          "base_uri": "https://localhost:8080/"
        },
        "outputId": "4a1f8219-44ee-4460-f191-c8d5ae19601d"
      },
      "source": [
        "### Simple regret minimization: run number = 20\n",
        "\n",
        "approx_output_20 = np.append(np.min(approx_20.GP.y[0:n_init]),approx_20.GP.y[n_init:(n_init+iters)]) \n",
        "exact_output_20 = np.append(np.min(exact_20.GP.y[0:n_init]),exact_20.GP.y[n_init:(n_init+iters)]) \n",
        "\n",
        "regret_approx_20 = np.log(-approx_output_20 + y_global_orig)\n",
        "regret_exact_20 = np.log(-exact_output_20 + y_global_orig)\n",
        "\n",
        "simple_regret_approx_20 = min_max_array(regret_approx_20)\n",
        "simple_regret_exact_20 = min_max_array(regret_exact_20)\n",
        "\n",
        "min_simple_regret_approx_20 = min(simple_regret_approx_20)\n",
        "min_simple_regret_exact_20 = min(simple_regret_exact_20)\n",
        "\n",
        "min_simple_regret_approx_20, min_simple_regret_exact_20"
      ],
      "execution_count": 74,
      "outputs": [
        {
          "output_type": "execute_result",
          "data": {
            "text/plain": [
              "(2.6569340870995983, 2.443007859521501)"
            ]
          },
          "metadata": {},
          "execution_count": 74
        }
      ]
    },
    {
      "cell_type": "code",
      "metadata": {
        "id": "bpX-bKAHQxf1"
      },
      "source": [
        "# Iteration1 :\n",
        "\n",
        "slice1 = 0\n",
        "\n",
        "approx1 = [simple_regret_approx_1[slice1],\n",
        "       simple_regret_approx_2[slice1],\n",
        "       simple_regret_approx_3[slice1],\n",
        "       simple_regret_approx_4[slice1],\n",
        "       simple_regret_approx_5[slice1],\n",
        "       simple_regret_approx_6[slice1],\n",
        "       simple_regret_approx_7[slice1],\n",
        "       simple_regret_approx_8[slice1],\n",
        "       simple_regret_approx_9[slice1],\n",
        "       simple_regret_approx_10[slice1],\n",
        "       simple_regret_approx_11[slice1],\n",
        "       simple_regret_approx_12[slice1],\n",
        "       simple_regret_approx_13[slice1],\n",
        "       simple_regret_approx_14[slice1],\n",
        "       simple_regret_approx_15[slice1],\n",
        "       simple_regret_approx_16[slice1],\n",
        "       simple_regret_approx_17[slice1],\n",
        "       simple_regret_approx_18[slice1],\n",
        "       simple_regret_approx_19[slice1],\n",
        "       simple_regret_approx_20[slice1]]\n",
        "\n",
        "exact1 = [simple_regret_exact_1[slice1],\n",
        "       simple_regret_exact_2[slice1],\n",
        "       simple_regret_exact_3[slice1],\n",
        "       simple_regret_exact_4[slice1],\n",
        "       simple_regret_exact_5[slice1],\n",
        "       simple_regret_exact_6[slice1],\n",
        "       simple_regret_exact_7[slice1],\n",
        "       simple_regret_exact_8[slice1],\n",
        "       simple_regret_exact_9[slice1],\n",
        "       simple_regret_exact_10[slice1],\n",
        "       simple_regret_exact_11[slice1],\n",
        "       simple_regret_exact_12[slice1],\n",
        "       simple_regret_exact_13[slice1],\n",
        "       simple_regret_exact_14[slice1],\n",
        "       simple_regret_exact_15[slice1],\n",
        "       simple_regret_exact_16[slice1],\n",
        "       simple_regret_exact_17[slice1],\n",
        "       simple_regret_exact_18[slice1],\n",
        "       simple_regret_exact_19[slice1],\n",
        "       simple_regret_exact_20[slice1]]\n",
        "\n",
        "approx1_results = pd.DataFrame(approx1).sort_values(by=[0], ascending=False)\n",
        "exact1_results = pd.DataFrame(exact1).sort_values(by=[0], ascending=False)\n",
        "\n",
        "### Best simple regret minimization IQR - approx:\n",
        "lower_approx1 = np.asarray(approx1_results[4:5][0])[0]\n",
        "median_approx1 = np.asarray(approx1_results[9:10][0])[0]\n",
        "upper_approx1 = np.asarray(approx1_results[14:15][0])[0]\n",
        "\n",
        "lower_exact1 = np.asarray(exact1_results[4:5][0])[0]\n",
        "median_exact1 = np.asarray(exact1_results[9:10][0])[0]\n",
        "upper_exact1 = np.asarray(exact1_results[14:15][0])[0]"
      ],
      "execution_count": 75,
      "outputs": []
    },
    {
      "cell_type": "code",
      "metadata": {
        "id": "CgIkJA1xQxf2"
      },
      "source": [
        "# Iteration11 :\n",
        "\n",
        "slice11 = 10\n",
        "\n",
        "approx11 = [simple_regret_approx_1[slice11],\n",
        "       simple_regret_approx_2[slice11],\n",
        "       simple_regret_approx_3[slice11],\n",
        "       simple_regret_approx_4[slice11],\n",
        "       simple_regret_approx_5[slice11],\n",
        "       simple_regret_approx_6[slice11],\n",
        "       simple_regret_approx_7[slice11],\n",
        "       simple_regret_approx_8[slice11],\n",
        "       simple_regret_approx_9[slice11],\n",
        "       simple_regret_approx_10[slice11],\n",
        "       simple_regret_approx_11[slice11],\n",
        "       simple_regret_approx_12[slice11],\n",
        "       simple_regret_approx_13[slice11],\n",
        "       simple_regret_approx_14[slice11],\n",
        "       simple_regret_approx_15[slice11],\n",
        "       simple_regret_approx_16[slice11],\n",
        "       simple_regret_approx_17[slice11],\n",
        "       simple_regret_approx_18[slice11],\n",
        "       simple_regret_approx_19[slice11],\n",
        "       simple_regret_approx_20[slice11]]\n",
        "\n",
        "exact11 = [simple_regret_exact_1[slice11],\n",
        "       simple_regret_exact_2[slice11],\n",
        "       simple_regret_exact_3[slice11],\n",
        "       simple_regret_exact_4[slice11],\n",
        "       simple_regret_exact_5[slice11],\n",
        "       simple_regret_exact_6[slice11],\n",
        "       simple_regret_exact_7[slice11],\n",
        "       simple_regret_exact_8[slice11],\n",
        "       simple_regret_exact_9[slice11],\n",
        "       simple_regret_exact_10[slice11],\n",
        "       simple_regret_exact_11[slice11],\n",
        "       simple_regret_exact_12[slice11],\n",
        "       simple_regret_exact_13[slice11],\n",
        "       simple_regret_exact_14[slice11],\n",
        "       simple_regret_exact_15[slice11],\n",
        "       simple_regret_exact_16[slice11],\n",
        "       simple_regret_exact_17[slice11],\n",
        "       simple_regret_exact_18[slice11],\n",
        "       simple_regret_exact_19[slice11],\n",
        "       simple_regret_exact_20[slice11]]\n",
        "\n",
        "approx11_results = pd.DataFrame(approx11).sort_values(by=[0], ascending=False)\n",
        "exact11_results = pd.DataFrame(exact11).sort_values(by=[0], ascending=False)\n",
        "\n",
        "### Best simple regret minimization IQR - approx:\n",
        "lower_approx11 = np.asarray(approx11_results[4:5][0])[0]\n",
        "median_approx11 = np.asarray(approx11_results[9:10][0])[0]\n",
        "upper_approx11 = np.asarray(approx11_results[14:15][0])[0]\n",
        "\n",
        "lower_exact11 = np.asarray(exact11_results[4:5][0])[0]\n",
        "median_exact11 = np.asarray(exact11_results[9:10][0])[0]\n",
        "upper_exact11 = np.asarray(exact11_results[14:15][0])[0]"
      ],
      "execution_count": 76,
      "outputs": []
    },
    {
      "cell_type": "code",
      "metadata": {
        "id": "MFePDfGuQxf2"
      },
      "source": [
        "# Iteration21 :\n",
        "\n",
        "slice21 = 20\n",
        "\n",
        "approx21 = [simple_regret_approx_1[slice21],\n",
        "       simple_regret_approx_2[slice21],\n",
        "       simple_regret_approx_3[slice21],\n",
        "       simple_regret_approx_4[slice21],\n",
        "       simple_regret_approx_5[slice21],\n",
        "       simple_regret_approx_6[slice21],\n",
        "       simple_regret_approx_7[slice21],\n",
        "       simple_regret_approx_8[slice21],\n",
        "       simple_regret_approx_9[slice21],\n",
        "       simple_regret_approx_10[slice21],\n",
        "       simple_regret_approx_11[slice21],\n",
        "       simple_regret_approx_12[slice21],\n",
        "       simple_regret_approx_13[slice21],\n",
        "       simple_regret_approx_14[slice21],\n",
        "       simple_regret_approx_15[slice21],\n",
        "       simple_regret_approx_16[slice21],\n",
        "       simple_regret_approx_17[slice21],\n",
        "       simple_regret_approx_18[slice21],\n",
        "       simple_regret_approx_19[slice21],\n",
        "       simple_regret_approx_20[slice21]]\n",
        "\n",
        "exact21 = [simple_regret_exact_1[slice21],\n",
        "       simple_regret_exact_2[slice21],\n",
        "       simple_regret_exact_3[slice21],\n",
        "       simple_regret_exact_4[slice21],\n",
        "       simple_regret_exact_5[slice21],\n",
        "       simple_regret_exact_6[slice21],\n",
        "       simple_regret_exact_7[slice21],\n",
        "       simple_regret_exact_8[slice21],\n",
        "       simple_regret_exact_9[slice21],\n",
        "       simple_regret_exact_10[slice21],\n",
        "       simple_regret_exact_11[slice21],\n",
        "       simple_regret_exact_12[slice21],\n",
        "       simple_regret_exact_13[slice21],\n",
        "       simple_regret_exact_14[slice21],\n",
        "       simple_regret_exact_15[slice21],\n",
        "       simple_regret_exact_16[slice21],\n",
        "       simple_regret_exact_17[slice21],\n",
        "       simple_regret_exact_18[slice21],\n",
        "       simple_regret_exact_19[slice21],\n",
        "       simple_regret_exact_20[slice21]]\n",
        "\n",
        "approx21_results = pd.DataFrame(approx21).sort_values(by=[0], ascending=False)\n",
        "exact21_results = pd.DataFrame(exact21).sort_values(by=[0], ascending=False)\n",
        "\n",
        "### Best simple regret minimization IQR - approx:\n",
        "lower_approx21 = np.asarray(approx21_results[4:5][0])[0]\n",
        "median_approx21 = np.asarray(approx21_results[9:10][0])[0]\n",
        "upper_approx21 = np.asarray(approx21_results[14:15][0])[0]\n",
        "\n",
        "lower_exact21 = np.asarray(exact21_results[4:5][0])[0]\n",
        "median_exact21 = np.asarray(exact21_results[9:10][0])[0]\n",
        "upper_exact21 = np.asarray(exact21_results[14:15][0])[0]"
      ],
      "execution_count": 77,
      "outputs": []
    },
    {
      "cell_type": "code",
      "metadata": {
        "id": "PrRDB1kfQxf3"
      },
      "source": [
        "# Iteration2 :\n",
        "\n",
        "slice2 = 1\n",
        "\n",
        "approx2 = [simple_regret_approx_1[slice2],\n",
        "       simple_regret_approx_2[slice2],\n",
        "       simple_regret_approx_3[slice2],\n",
        "       simple_regret_approx_4[slice2],\n",
        "       simple_regret_approx_5[slice2],\n",
        "       simple_regret_approx_6[slice2],\n",
        "       simple_regret_approx_7[slice2],\n",
        "       simple_regret_approx_8[slice2],\n",
        "       simple_regret_approx_9[slice2],\n",
        "       simple_regret_approx_10[slice2],\n",
        "       simple_regret_approx_11[slice2],\n",
        "       simple_regret_approx_12[slice2],\n",
        "       simple_regret_approx_13[slice2],\n",
        "       simple_regret_approx_14[slice2],\n",
        "       simple_regret_approx_15[slice2],\n",
        "       simple_regret_approx_16[slice2],\n",
        "       simple_regret_approx_17[slice2],\n",
        "       simple_regret_approx_18[slice2],\n",
        "       simple_regret_approx_19[slice2],\n",
        "       simple_regret_approx_20[slice2]]\n",
        "\n",
        "exact2 = [simple_regret_exact_1[slice2],\n",
        "       simple_regret_exact_2[slice2],\n",
        "       simple_regret_exact_3[slice2],\n",
        "       simple_regret_exact_4[slice2],\n",
        "       simple_regret_exact_5[slice2],\n",
        "       simple_regret_exact_6[slice2],\n",
        "       simple_regret_exact_7[slice2],\n",
        "       simple_regret_exact_8[slice2],\n",
        "       simple_regret_exact_9[slice2],\n",
        "       simple_regret_exact_10[slice2],\n",
        "       simple_regret_exact_11[slice2],\n",
        "       simple_regret_exact_12[slice2],\n",
        "       simple_regret_exact_13[slice2],\n",
        "       simple_regret_exact_14[slice2],\n",
        "       simple_regret_exact_15[slice2],\n",
        "       simple_regret_exact_16[slice2],\n",
        "       simple_regret_exact_17[slice2],\n",
        "       simple_regret_exact_18[slice2],\n",
        "       simple_regret_exact_19[slice2],\n",
        "       simple_regret_exact_20[slice2]]\n",
        "\n",
        "approx2_results = pd.DataFrame(approx2).sort_values(by=[0], ascending=False)\n",
        "exact2_results = pd.DataFrame(exact2).sort_values(by=[0], ascending=False)\n",
        "\n",
        "### Best simple regret minimization IQR - approx:\n",
        "lower_approx2 = np.asarray(approx2_results[4:5][0])[0]\n",
        "median_approx2 = np.asarray(approx2_results[9:10][0])[0]\n",
        "upper_approx2 = np.asarray(approx2_results[14:15][0])[0]\n",
        "\n",
        "lower_exact2 = np.asarray(exact2_results[4:5][0])[0]\n",
        "median_exact2 = np.asarray(exact2_results[9:10][0])[0]\n",
        "upper_exact2 = np.asarray(exact2_results[14:15][0])[0]"
      ],
      "execution_count": 78,
      "outputs": []
    },
    {
      "cell_type": "code",
      "metadata": {
        "id": "B8ncJDYeQxf3"
      },
      "source": [
        "# Iteration12 :\n",
        "\n",
        "slice12 = 11\n",
        "\n",
        "approx12 = [simple_regret_approx_1[slice12],\n",
        "       simple_regret_approx_2[slice12],\n",
        "       simple_regret_approx_3[slice12],\n",
        "       simple_regret_approx_4[slice12],\n",
        "       simple_regret_approx_5[slice12],\n",
        "       simple_regret_approx_6[slice12],\n",
        "       simple_regret_approx_7[slice12],\n",
        "       simple_regret_approx_8[slice12],\n",
        "       simple_regret_approx_9[slice12],\n",
        "       simple_regret_approx_10[slice12],\n",
        "       simple_regret_approx_11[slice12],\n",
        "       simple_regret_approx_12[slice12],\n",
        "       simple_regret_approx_13[slice12],\n",
        "       simple_regret_approx_14[slice12],\n",
        "       simple_regret_approx_15[slice12],\n",
        "       simple_regret_approx_16[slice12],\n",
        "       simple_regret_approx_17[slice12],\n",
        "       simple_regret_approx_18[slice12],\n",
        "       simple_regret_approx_19[slice12],\n",
        "       simple_regret_approx_20[slice12]]\n",
        "\n",
        "exact12 = [simple_regret_exact_1[slice12],\n",
        "       simple_regret_exact_2[slice12],\n",
        "       simple_regret_exact_3[slice12],\n",
        "       simple_regret_exact_4[slice12],\n",
        "       simple_regret_exact_5[slice12],\n",
        "       simple_regret_exact_6[slice12],\n",
        "       simple_regret_exact_7[slice12],\n",
        "       simple_regret_exact_8[slice12],\n",
        "       simple_regret_exact_9[slice12],\n",
        "       simple_regret_exact_10[slice12],\n",
        "       simple_regret_exact_11[slice12],\n",
        "       simple_regret_exact_12[slice12],\n",
        "       simple_regret_exact_13[slice12],\n",
        "       simple_regret_exact_14[slice12],\n",
        "       simple_regret_exact_15[slice12],\n",
        "       simple_regret_exact_16[slice12],\n",
        "       simple_regret_exact_17[slice12],\n",
        "       simple_regret_exact_18[slice12],\n",
        "       simple_regret_exact_19[slice12],\n",
        "       simple_regret_exact_20[slice12]]\n",
        "\n",
        "approx12_results = pd.DataFrame(approx12).sort_values(by=[0], ascending=False)\n",
        "exact12_results = pd.DataFrame(exact12).sort_values(by=[0], ascending=False)\n",
        "\n",
        "### Best simple regret minimization IQR - approx:\n",
        "lower_approx12 = np.asarray(approx12_results[4:5][0])[0]\n",
        "median_approx12 = np.asarray(approx12_results[9:10][0])[0]\n",
        "upper_approx12 = np.asarray(approx12_results[14:15][0])[0]\n",
        "\n",
        "lower_exact12 = np.asarray(exact12_results[4:5][0])[0]\n",
        "median_exact12 = np.asarray(exact12_results[9:10][0])[0]\n",
        "upper_exact12 = np.asarray(exact12_results[14:15][0])[0]"
      ],
      "execution_count": 79,
      "outputs": []
    },
    {
      "cell_type": "code",
      "metadata": {
        "id": "Jn4KpGvcQxf4"
      },
      "source": [
        "# Iteration3 :\n",
        "\n",
        "slice3 = 2\n",
        "\n",
        "approx3 = [simple_regret_approx_1[slice3],\n",
        "       simple_regret_approx_2[slice3],\n",
        "       simple_regret_approx_3[slice3],\n",
        "       simple_regret_approx_4[slice3],\n",
        "       simple_regret_approx_5[slice3],\n",
        "       simple_regret_approx_6[slice3],\n",
        "       simple_regret_approx_7[slice3],\n",
        "       simple_regret_approx_8[slice3],\n",
        "       simple_regret_approx_9[slice3],\n",
        "       simple_regret_approx_10[slice3],\n",
        "       simple_regret_approx_11[slice3],\n",
        "       simple_regret_approx_12[slice3],\n",
        "       simple_regret_approx_13[slice3],\n",
        "       simple_regret_approx_14[slice3],\n",
        "       simple_regret_approx_15[slice3],\n",
        "       simple_regret_approx_16[slice3],\n",
        "       simple_regret_approx_17[slice3],\n",
        "       simple_regret_approx_18[slice3],\n",
        "       simple_regret_approx_19[slice3],\n",
        "       simple_regret_approx_20[slice3]]\n",
        "\n",
        "exact3 = [simple_regret_exact_1[slice3],\n",
        "       simple_regret_exact_2[slice3],\n",
        "       simple_regret_exact_3[slice3],\n",
        "       simple_regret_exact_4[slice3],\n",
        "       simple_regret_exact_5[slice3],\n",
        "       simple_regret_exact_6[slice3],\n",
        "       simple_regret_exact_7[slice3],\n",
        "       simple_regret_exact_8[slice3],\n",
        "       simple_regret_exact_9[slice3],\n",
        "       simple_regret_exact_10[slice3],\n",
        "       simple_regret_exact_11[slice3],\n",
        "       simple_regret_exact_12[slice3],\n",
        "       simple_regret_exact_13[slice3],\n",
        "       simple_regret_exact_14[slice3],\n",
        "       simple_regret_exact_15[slice3],\n",
        "       simple_regret_exact_16[slice3],\n",
        "       simple_regret_exact_17[slice3],\n",
        "       simple_regret_exact_18[slice3],\n",
        "       simple_regret_exact_19[slice3],\n",
        "       simple_regret_exact_20[slice3]]\n",
        "\n",
        "approx3_results = pd.DataFrame(approx3).sort_values(by=[0], ascending=False)\n",
        "exact3_results = pd.DataFrame(exact3).sort_values(by=[0], ascending=False)\n",
        "\n",
        "### Best simple regret minimization IQR - approx:\n",
        "lower_approx3 = np.asarray(approx3_results[4:5][0])[0]\n",
        "median_approx3 = np.asarray(approx3_results[9:10][0])[0]\n",
        "upper_approx3 = np.asarray(approx3_results[14:15][0])[0]\n",
        "\n",
        "lower_exact3 = np.asarray(exact3_results[4:5][0])[0]\n",
        "median_exact3 = np.asarray(exact3_results[9:10][0])[0]\n",
        "upper_exact3 = np.asarray(exact3_results[14:15][0])[0]"
      ],
      "execution_count": 80,
      "outputs": []
    },
    {
      "cell_type": "code",
      "metadata": {
        "id": "plf83wxrQxf4"
      },
      "source": [
        "# Iteration13 :\n",
        "\n",
        "slice13 = 12\n",
        "\n",
        "approx13 = [simple_regret_approx_1[slice13],\n",
        "       simple_regret_approx_2[slice13],\n",
        "       simple_regret_approx_3[slice13],\n",
        "       simple_regret_approx_4[slice13],\n",
        "       simple_regret_approx_5[slice13],\n",
        "       simple_regret_approx_6[slice13],\n",
        "       simple_regret_approx_7[slice13],\n",
        "       simple_regret_approx_8[slice13],\n",
        "       simple_regret_approx_9[slice13],\n",
        "       simple_regret_approx_10[slice13],\n",
        "       simple_regret_approx_11[slice13],\n",
        "       simple_regret_approx_12[slice13],\n",
        "       simple_regret_approx_13[slice13],\n",
        "       simple_regret_approx_14[slice13],\n",
        "       simple_regret_approx_15[slice13],\n",
        "       simple_regret_approx_16[slice13],\n",
        "       simple_regret_approx_17[slice13],\n",
        "       simple_regret_approx_18[slice13],\n",
        "       simple_regret_approx_19[slice13],\n",
        "       simple_regret_approx_20[slice13]]\n",
        "\n",
        "exact13 = [simple_regret_exact_1[slice13],\n",
        "       simple_regret_exact_2[slice13],\n",
        "       simple_regret_exact_3[slice13],\n",
        "       simple_regret_exact_4[slice13],\n",
        "       simple_regret_exact_5[slice13],\n",
        "       simple_regret_exact_6[slice13],\n",
        "       simple_regret_exact_7[slice13],\n",
        "       simple_regret_exact_8[slice13],\n",
        "       simple_regret_exact_9[slice13],\n",
        "       simple_regret_exact_10[slice13],\n",
        "       simple_regret_exact_11[slice13],\n",
        "       simple_regret_exact_12[slice13],\n",
        "       simple_regret_exact_13[slice13],\n",
        "       simple_regret_exact_14[slice13],\n",
        "       simple_regret_exact_15[slice13],\n",
        "       simple_regret_exact_16[slice13],\n",
        "       simple_regret_exact_17[slice13],\n",
        "       simple_regret_exact_18[slice13],\n",
        "       simple_regret_exact_19[slice13],\n",
        "       simple_regret_exact_20[slice13]]\n",
        "\n",
        "approx13_results = pd.DataFrame(approx13).sort_values(by=[0], ascending=False)\n",
        "exact13_results = pd.DataFrame(exact13).sort_values(by=[0], ascending=False)\n",
        "\n",
        "### Best simple regret minimization IQR - approx:\n",
        "lower_approx13 = np.asarray(approx13_results[4:5][0])[0]\n",
        "median_approx13 = np.asarray(approx13_results[9:10][0])[0]\n",
        "upper_approx13 = np.asarray(approx13_results[14:15][0])[0]\n",
        "\n",
        "lower_exact13 = np.asarray(exact13_results[4:5][0])[0]\n",
        "median_exact13 = np.asarray(exact13_results[9:10][0])[0]\n",
        "upper_exact13 = np.asarray(exact13_results[14:15][0])[0]"
      ],
      "execution_count": 81,
      "outputs": []
    },
    {
      "cell_type": "code",
      "metadata": {
        "id": "9A7mlVvJQxf5"
      },
      "source": [
        "# Iteration4 :\n",
        "\n",
        "slice4 = 3\n",
        "\n",
        "approx4 = [simple_regret_approx_1[slice4],\n",
        "       simple_regret_approx_2[slice4],\n",
        "       simple_regret_approx_3[slice4],\n",
        "       simple_regret_approx_4[slice4],\n",
        "       simple_regret_approx_5[slice4],\n",
        "       simple_regret_approx_6[slice4],\n",
        "       simple_regret_approx_7[slice4],\n",
        "       simple_regret_approx_8[slice4],\n",
        "       simple_regret_approx_9[slice4],\n",
        "       simple_regret_approx_10[slice4],\n",
        "       simple_regret_approx_11[slice4],\n",
        "       simple_regret_approx_12[slice4],\n",
        "       simple_regret_approx_13[slice4],\n",
        "       simple_regret_approx_14[slice4],\n",
        "       simple_regret_approx_15[slice4],\n",
        "       simple_regret_approx_16[slice4],\n",
        "       simple_regret_approx_17[slice4],\n",
        "       simple_regret_approx_18[slice4],\n",
        "       simple_regret_approx_19[slice4],\n",
        "       simple_regret_approx_20[slice4]]\n",
        "\n",
        "exact4 = [simple_regret_exact_1[slice4],\n",
        "       simple_regret_exact_2[slice4],\n",
        "       simple_regret_exact_3[slice4],\n",
        "       simple_regret_exact_4[slice4],\n",
        "       simple_regret_exact_5[slice4],\n",
        "       simple_regret_exact_6[slice4],\n",
        "       simple_regret_exact_7[slice4],\n",
        "       simple_regret_exact_8[slice4],\n",
        "       simple_regret_exact_9[slice4],\n",
        "       simple_regret_exact_10[slice4],\n",
        "       simple_regret_exact_11[slice4],\n",
        "       simple_regret_exact_12[slice4],\n",
        "       simple_regret_exact_13[slice4],\n",
        "       simple_regret_exact_14[slice4],\n",
        "       simple_regret_exact_15[slice4],\n",
        "       simple_regret_exact_16[slice4],\n",
        "       simple_regret_exact_17[slice4],\n",
        "       simple_regret_exact_18[slice4],\n",
        "       simple_regret_exact_19[slice4],\n",
        "       simple_regret_exact_20[slice4]]\n",
        "\n",
        "approx4_results = pd.DataFrame(approx4).sort_values(by=[0], ascending=False)\n",
        "exact4_results = pd.DataFrame(exact4).sort_values(by=[0], ascending=False)\n",
        "\n",
        "### Best simple regret minimization IQR - approx:\n",
        "lower_approx4 = np.asarray(approx4_results[4:5][0])[0]\n",
        "median_approx4 = np.asarray(approx4_results[9:10][0])[0]\n",
        "upper_approx4 = np.asarray(approx4_results[14:15][0])[0]\n",
        "\n",
        "lower_exact4 = np.asarray(exact4_results[4:5][0])[0]\n",
        "median_exact4 = np.asarray(exact4_results[9:10][0])[0]\n",
        "upper_exact4 = np.asarray(exact4_results[14:15][0])[0]"
      ],
      "execution_count": 82,
      "outputs": []
    },
    {
      "cell_type": "code",
      "metadata": {
        "id": "ijq-rioYQxf5"
      },
      "source": [
        "# Iteration14 :\n",
        "\n",
        "slice14 = 13\n",
        "\n",
        "approx14 = [simple_regret_approx_1[slice14],\n",
        "       simple_regret_approx_2[slice14],\n",
        "       simple_regret_approx_3[slice14],\n",
        "       simple_regret_approx_4[slice14],\n",
        "       simple_regret_approx_5[slice14],\n",
        "       simple_regret_approx_6[slice14],\n",
        "       simple_regret_approx_7[slice14],\n",
        "       simple_regret_approx_8[slice14],\n",
        "       simple_regret_approx_9[slice14],\n",
        "       simple_regret_approx_10[slice14],\n",
        "       simple_regret_approx_11[slice14],\n",
        "       simple_regret_approx_12[slice14],\n",
        "       simple_regret_approx_13[slice14],\n",
        "       simple_regret_approx_14[slice14],\n",
        "       simple_regret_approx_15[slice14],\n",
        "       simple_regret_approx_16[slice14],\n",
        "       simple_regret_approx_17[slice14],\n",
        "       simple_regret_approx_18[slice14],\n",
        "       simple_regret_approx_19[slice14],\n",
        "       simple_regret_approx_20[slice14]]\n",
        "\n",
        "exact14 = [simple_regret_exact_1[slice14],\n",
        "       simple_regret_exact_2[slice14],\n",
        "       simple_regret_exact_3[slice14],\n",
        "       simple_regret_exact_4[slice14],\n",
        "       simple_regret_exact_5[slice14],\n",
        "       simple_regret_exact_6[slice14],\n",
        "       simple_regret_exact_7[slice14],\n",
        "       simple_regret_exact_8[slice14],\n",
        "       simple_regret_exact_9[slice14],\n",
        "       simple_regret_exact_10[slice14],\n",
        "       simple_regret_exact_11[slice14],\n",
        "       simple_regret_exact_12[slice14],\n",
        "       simple_regret_exact_13[slice14],\n",
        "       simple_regret_exact_14[slice14],\n",
        "       simple_regret_exact_15[slice14],\n",
        "       simple_regret_exact_16[slice14],\n",
        "       simple_regret_exact_17[slice14],\n",
        "       simple_regret_exact_18[slice14],\n",
        "       simple_regret_exact_19[slice14],\n",
        "       simple_regret_exact_20[slice14]]\n",
        "\n",
        "approx14_results = pd.DataFrame(approx14).sort_values(by=[0], ascending=False)\n",
        "exact14_results = pd.DataFrame(exact14).sort_values(by=[0], ascending=False)\n",
        "\n",
        "### Best simple regret minimization IQR - approx:\n",
        "lower_approx14 = np.asarray(approx14_results[4:5][0])[0]\n",
        "median_approx14 = np.asarray(approx14_results[9:10][0])[0]\n",
        "upper_approx14 = np.asarray(approx14_results[14:15][0])[0]\n",
        "\n",
        "lower_exact14 = np.asarray(exact14_results[4:5][0])[0]\n",
        "median_exact14 = np.asarray(exact14_results[9:10][0])[0]\n",
        "upper_exact14 = np.asarray(exact14_results[14:15][0])[0]"
      ],
      "execution_count": 83,
      "outputs": []
    },
    {
      "cell_type": "code",
      "metadata": {
        "id": "XINlZjoTd-ZK"
      },
      "source": [
        "# Iteration5 :\n",
        "\n",
        "slice5 = 4\n",
        "\n",
        "approx5 = [simple_regret_approx_1[slice5],\n",
        "       simple_regret_approx_2[slice5],\n",
        "       simple_regret_approx_3[slice5],\n",
        "       simple_regret_approx_4[slice5],\n",
        "       simple_regret_approx_5[slice5],\n",
        "       simple_regret_approx_6[slice5],\n",
        "       simple_regret_approx_7[slice5],\n",
        "       simple_regret_approx_8[slice5],\n",
        "       simple_regret_approx_9[slice5],\n",
        "       simple_regret_approx_10[slice5],\n",
        "       simple_regret_approx_11[slice5],\n",
        "       simple_regret_approx_12[slice5],\n",
        "       simple_regret_approx_13[slice5],\n",
        "       simple_regret_approx_14[slice5],\n",
        "       simple_regret_approx_15[slice5],\n",
        "       simple_regret_approx_16[slice5],\n",
        "       simple_regret_approx_17[slice5],\n",
        "       simple_regret_approx_18[slice5],\n",
        "       simple_regret_approx_19[slice5],\n",
        "       simple_regret_approx_20[slice5]]\n",
        "\n",
        "exact5 = [simple_regret_exact_1[slice5],\n",
        "       simple_regret_exact_2[slice5],\n",
        "       simple_regret_exact_3[slice5],\n",
        "       simple_regret_exact_4[slice5],\n",
        "       simple_regret_exact_5[slice5],\n",
        "       simple_regret_exact_6[slice5],\n",
        "       simple_regret_exact_7[slice5],\n",
        "       simple_regret_exact_8[slice5],\n",
        "       simple_regret_exact_9[slice5],\n",
        "       simple_regret_exact_10[slice5],\n",
        "       simple_regret_exact_11[slice5],\n",
        "       simple_regret_exact_12[slice5],\n",
        "       simple_regret_exact_13[slice5],\n",
        "       simple_regret_exact_14[slice5],\n",
        "       simple_regret_exact_15[slice5],\n",
        "       simple_regret_exact_16[slice5],\n",
        "       simple_regret_exact_17[slice5],\n",
        "       simple_regret_exact_18[slice5],\n",
        "       simple_regret_exact_19[slice5],\n",
        "       simple_regret_exact_20[slice5]]\n",
        "\n",
        "approx5_results = pd.DataFrame(approx5).sort_values(by=[0], ascending=False)\n",
        "exact5_results = pd.DataFrame(exact5).sort_values(by=[0], ascending=False)\n",
        "\n",
        "### Best simple regret minimization IQR - approx:\n",
        "lower_approx5 = np.asarray(approx5_results[4:5][0])[0]\n",
        "median_approx5 = np.asarray(approx5_results[9:10][0])[0]\n",
        "upper_approx5 = np.asarray(approx5_results[14:15][0])[0]\n",
        "\n",
        "lower_exact5 = np.asarray(exact5_results[4:5][0])[0]\n",
        "median_exact5 = np.asarray(exact5_results[9:10][0])[0]\n",
        "upper_exact5 = np.asarray(exact5_results[14:15][0])[0]"
      ],
      "execution_count": 84,
      "outputs": []
    },
    {
      "cell_type": "code",
      "metadata": {
        "id": "4aZ7C8sOQxf6"
      },
      "source": [
        "# Iteration15 :\n",
        "\n",
        "slice15 = 14\n",
        "\n",
        "approx15 = [simple_regret_approx_1[slice15],\n",
        "       simple_regret_approx_2[slice15],\n",
        "       simple_regret_approx_3[slice15],\n",
        "       simple_regret_approx_4[slice15],\n",
        "       simple_regret_approx_5[slice15],\n",
        "       simple_regret_approx_6[slice15],\n",
        "       simple_regret_approx_7[slice15],\n",
        "       simple_regret_approx_8[slice15],\n",
        "       simple_regret_approx_9[slice15],\n",
        "       simple_regret_approx_10[slice15],\n",
        "       simple_regret_approx_11[slice15],\n",
        "       simple_regret_approx_12[slice15],\n",
        "       simple_regret_approx_13[slice15],\n",
        "       simple_regret_approx_14[slice15],\n",
        "       simple_regret_approx_15[slice15],\n",
        "       simple_regret_approx_16[slice15],\n",
        "       simple_regret_approx_17[slice15],\n",
        "       simple_regret_approx_18[slice15],\n",
        "       simple_regret_approx_19[slice15],\n",
        "       simple_regret_approx_20[slice15]]\n",
        "\n",
        "exact15 = [simple_regret_exact_1[slice15],\n",
        "       simple_regret_exact_2[slice15],\n",
        "       simple_regret_exact_3[slice15],\n",
        "       simple_regret_exact_4[slice15],\n",
        "       simple_regret_exact_5[slice15],\n",
        "       simple_regret_exact_6[slice15],\n",
        "       simple_regret_exact_7[slice15],\n",
        "       simple_regret_exact_8[slice15],\n",
        "       simple_regret_exact_9[slice15],\n",
        "       simple_regret_exact_10[slice15],\n",
        "       simple_regret_exact_11[slice15],\n",
        "       simple_regret_exact_12[slice15],\n",
        "       simple_regret_exact_13[slice15],\n",
        "       simple_regret_exact_14[slice15],\n",
        "       simple_regret_exact_15[slice15],\n",
        "       simple_regret_exact_16[slice15],\n",
        "       simple_regret_exact_17[slice15],\n",
        "       simple_regret_exact_18[slice15],\n",
        "       simple_regret_exact_19[slice15],\n",
        "       simple_regret_exact_20[slice15]]\n",
        "\n",
        "approx15_results = pd.DataFrame(approx15).sort_values(by=[0], ascending=False)\n",
        "exact15_results = pd.DataFrame(exact15).sort_values(by=[0], ascending=False)\n",
        "\n",
        "### Best simple regret minimization IQR - approx:\n",
        "lower_approx15 = np.asarray(approx15_results[4:5][0])[0]\n",
        "median_approx15 = np.asarray(approx15_results[9:10][0])[0]\n",
        "upper_approx15 = np.asarray(approx15_results[14:15][0])[0]\n",
        "\n",
        "lower_exact15 = np.asarray(exact15_results[4:5][0])[0]\n",
        "median_exact15 = np.asarray(exact15_results[9:10][0])[0]\n",
        "upper_exact15 = np.asarray(exact15_results[14:15][0])[0]"
      ],
      "execution_count": 85,
      "outputs": []
    },
    {
      "cell_type": "code",
      "metadata": {
        "id": "KJINKhv1Qxf6"
      },
      "source": [
        "# Iteration6 :\n",
        "\n",
        "slice6 = 5\n",
        "\n",
        "approx6 = [simple_regret_approx_1[slice6],\n",
        "       simple_regret_approx_2[slice6],\n",
        "       simple_regret_approx_3[slice6],\n",
        "       simple_regret_approx_4[slice6],\n",
        "       simple_regret_approx_5[slice6],\n",
        "       simple_regret_approx_6[slice6],\n",
        "       simple_regret_approx_7[slice6],\n",
        "       simple_regret_approx_8[slice6],\n",
        "       simple_regret_approx_9[slice6],\n",
        "       simple_regret_approx_10[slice6],\n",
        "       simple_regret_approx_11[slice6],\n",
        "       simple_regret_approx_12[slice6],\n",
        "       simple_regret_approx_13[slice6],\n",
        "       simple_regret_approx_14[slice6],\n",
        "       simple_regret_approx_15[slice6],\n",
        "       simple_regret_approx_16[slice6],\n",
        "       simple_regret_approx_17[slice6],\n",
        "       simple_regret_approx_18[slice6],\n",
        "       simple_regret_approx_19[slice6],\n",
        "       simple_regret_approx_20[slice6]]\n",
        "\n",
        "exact6 = [simple_regret_exact_1[slice6],\n",
        "       simple_regret_exact_2[slice6],\n",
        "       simple_regret_exact_3[slice6],\n",
        "       simple_regret_exact_4[slice6],\n",
        "       simple_regret_exact_5[slice6],\n",
        "       simple_regret_exact_6[slice6],\n",
        "       simple_regret_exact_7[slice6],\n",
        "       simple_regret_exact_8[slice6],\n",
        "       simple_regret_exact_9[slice6],\n",
        "       simple_regret_exact_10[slice6],\n",
        "       simple_regret_exact_11[slice6],\n",
        "       simple_regret_exact_12[slice6],\n",
        "       simple_regret_exact_13[slice6],\n",
        "       simple_regret_exact_14[slice6],\n",
        "       simple_regret_exact_15[slice6],\n",
        "       simple_regret_exact_16[slice6],\n",
        "       simple_regret_exact_17[slice6],\n",
        "       simple_regret_exact_18[slice6],\n",
        "       simple_regret_exact_19[slice6],\n",
        "       simple_regret_exact_20[slice6]]\n",
        "\n",
        "approx6_results = pd.DataFrame(approx6).sort_values(by=[0], ascending=False)\n",
        "exact6_results = pd.DataFrame(exact6).sort_values(by=[0], ascending=False)\n",
        "\n",
        "### Best simple regret minimization IQR - approx:\n",
        "lower_approx6 = np.asarray(approx6_results[4:5][0])[0]\n",
        "median_approx6 = np.asarray(approx6_results[9:10][0])[0]\n",
        "upper_approx6 = np.asarray(approx6_results[14:15][0])[0]\n",
        "\n",
        "lower_exact6 = np.asarray(exact6_results[4:5][0])[0]\n",
        "median_exact6 = np.asarray(exact6_results[9:10][0])[0]\n",
        "upper_exact6 = np.asarray(exact6_results[14:15][0])[0]"
      ],
      "execution_count": 86,
      "outputs": []
    },
    {
      "cell_type": "code",
      "metadata": {
        "id": "nwC5N1FsQxf7"
      },
      "source": [
        "# Iteration16 :\n",
        "\n",
        "slice16 = 15\n",
        "\n",
        "approx16 = [simple_regret_approx_1[slice16],\n",
        "       simple_regret_approx_2[slice16],\n",
        "       simple_regret_approx_3[slice16],\n",
        "       simple_regret_approx_4[slice16],\n",
        "       simple_regret_approx_5[slice16],\n",
        "       simple_regret_approx_6[slice16],\n",
        "       simple_regret_approx_7[slice16],\n",
        "       simple_regret_approx_8[slice16],\n",
        "       simple_regret_approx_9[slice16],\n",
        "       simple_regret_approx_10[slice16],\n",
        "       simple_regret_approx_11[slice16],\n",
        "       simple_regret_approx_12[slice16],\n",
        "       simple_regret_approx_13[slice16],\n",
        "       simple_regret_approx_14[slice16],\n",
        "       simple_regret_approx_15[slice16],\n",
        "       simple_regret_approx_16[slice16],\n",
        "       simple_regret_approx_17[slice16],\n",
        "       simple_regret_approx_18[slice16],\n",
        "       simple_regret_approx_19[slice16],\n",
        "       simple_regret_approx_20[slice16]]\n",
        "\n",
        "exact16 = [simple_regret_exact_1[slice16],\n",
        "       simple_regret_exact_2[slice16],\n",
        "       simple_regret_exact_3[slice16],\n",
        "       simple_regret_exact_4[slice16],\n",
        "       simple_regret_exact_5[slice16],\n",
        "       simple_regret_exact_6[slice16],\n",
        "       simple_regret_exact_7[slice16],\n",
        "       simple_regret_exact_8[slice16],\n",
        "       simple_regret_exact_9[slice16],\n",
        "       simple_regret_exact_10[slice16],\n",
        "       simple_regret_exact_11[slice16],\n",
        "       simple_regret_exact_12[slice16],\n",
        "       simple_regret_exact_13[slice16],\n",
        "       simple_regret_exact_14[slice16],\n",
        "       simple_regret_exact_15[slice16],\n",
        "       simple_regret_exact_16[slice16],\n",
        "       simple_regret_exact_17[slice16],\n",
        "       simple_regret_exact_18[slice16],\n",
        "       simple_regret_exact_19[slice16],\n",
        "       simple_regret_exact_20[slice16]]\n",
        "\n",
        "approx16_results = pd.DataFrame(approx16).sort_values(by=[0], ascending=False)\n",
        "exact16_results = pd.DataFrame(exact16).sort_values(by=[0], ascending=False)\n",
        "\n",
        "### Best simple regret minimization IQR - approx:\n",
        "lower_approx16 = np.asarray(approx16_results[4:5][0])[0]\n",
        "median_approx16 = np.asarray(approx16_results[9:10][0])[0]\n",
        "upper_approx16 = np.asarray(approx16_results[14:15][0])[0]\n",
        "\n",
        "lower_exact16 = np.asarray(exact16_results[4:5][0])[0]\n",
        "median_exact16 = np.asarray(exact16_results[9:10][0])[0]\n",
        "upper_exact16 = np.asarray(exact16_results[14:15][0])[0]"
      ],
      "execution_count": 87,
      "outputs": []
    },
    {
      "cell_type": "code",
      "metadata": {
        "id": "TrPV0AfnQxf7"
      },
      "source": [
        "# Iteration7 :\n",
        "\n",
        "slice7 = 6\n",
        "\n",
        "approx7 = [simple_regret_approx_1[slice7],\n",
        "       simple_regret_approx_2[slice7],\n",
        "       simple_regret_approx_3[slice7],\n",
        "       simple_regret_approx_4[slice7],\n",
        "       simple_regret_approx_5[slice7],\n",
        "       simple_regret_approx_6[slice7],\n",
        "       simple_regret_approx_7[slice7],\n",
        "       simple_regret_approx_8[slice7],\n",
        "       simple_regret_approx_9[slice7],\n",
        "       simple_regret_approx_10[slice7],\n",
        "       simple_regret_approx_11[slice7],\n",
        "       simple_regret_approx_12[slice7],\n",
        "       simple_regret_approx_13[slice7],\n",
        "       simple_regret_approx_14[slice7],\n",
        "       simple_regret_approx_15[slice7],\n",
        "       simple_regret_approx_16[slice7],\n",
        "       simple_regret_approx_17[slice7],\n",
        "       simple_regret_approx_18[slice7],\n",
        "       simple_regret_approx_19[slice7],\n",
        "       simple_regret_approx_20[slice7]]\n",
        "\n",
        "exact7 = [simple_regret_exact_1[slice7],\n",
        "       simple_regret_exact_2[slice7],\n",
        "       simple_regret_exact_3[slice7],\n",
        "       simple_regret_exact_4[slice7],\n",
        "       simple_regret_exact_5[slice7],\n",
        "       simple_regret_exact_6[slice7],\n",
        "       simple_regret_exact_7[slice7],\n",
        "       simple_regret_exact_8[slice7],\n",
        "       simple_regret_exact_9[slice7],\n",
        "       simple_regret_exact_10[slice7],\n",
        "       simple_regret_exact_11[slice7],\n",
        "       simple_regret_exact_12[slice7],\n",
        "       simple_regret_exact_13[slice7],\n",
        "       simple_regret_exact_14[slice7],\n",
        "       simple_regret_exact_15[slice7],\n",
        "       simple_regret_exact_16[slice7],\n",
        "       simple_regret_exact_17[slice7],\n",
        "       simple_regret_exact_18[slice7],\n",
        "       simple_regret_exact_19[slice7],\n",
        "       simple_regret_exact_20[slice7]]\n",
        "\n",
        "approx7_results = pd.DataFrame(approx7).sort_values(by=[0], ascending=False)\n",
        "exact7_results = pd.DataFrame(exact7).sort_values(by=[0], ascending=False)\n",
        "\n",
        "### Best simple regret minimization IQR - approx:\n",
        "lower_approx7 = np.asarray(approx7_results[4:5][0])[0]\n",
        "median_approx7 = np.asarray(approx7_results[9:10][0])[0]\n",
        "upper_approx7 = np.asarray(approx7_results[14:15][0])[0]\n",
        "\n",
        "lower_exact7 = np.asarray(exact7_results[4:5][0])[0]\n",
        "median_exact7 = np.asarray(exact7_results[9:10][0])[0]\n",
        "upper_exact7 = np.asarray(exact7_results[14:15][0])[0]"
      ],
      "execution_count": 88,
      "outputs": []
    },
    {
      "cell_type": "code",
      "metadata": {
        "id": "Ub_-wpK4Qxf8"
      },
      "source": [
        "# Iteration17 :\n",
        "\n",
        "slice17 = 16\n",
        "\n",
        "approx17 = [simple_regret_approx_1[slice17],\n",
        "       simple_regret_approx_2[slice17],\n",
        "       simple_regret_approx_3[slice17],\n",
        "       simple_regret_approx_4[slice17],\n",
        "       simple_regret_approx_5[slice17],\n",
        "       simple_regret_approx_6[slice17],\n",
        "       simple_regret_approx_7[slice17],\n",
        "       simple_regret_approx_8[slice17],\n",
        "       simple_regret_approx_9[slice17],\n",
        "       simple_regret_approx_10[slice17],\n",
        "       simple_regret_approx_11[slice17],\n",
        "       simple_regret_approx_12[slice17],\n",
        "       simple_regret_approx_13[slice17],\n",
        "       simple_regret_approx_14[slice17],\n",
        "       simple_regret_approx_15[slice17],\n",
        "       simple_regret_approx_16[slice17],\n",
        "       simple_regret_approx_17[slice17],\n",
        "       simple_regret_approx_18[slice17],\n",
        "       simple_regret_approx_19[slice17],\n",
        "       simple_regret_approx_20[slice17]]\n",
        "\n",
        "exact17 = [simple_regret_exact_1[slice17],\n",
        "       simple_regret_exact_2[slice17],\n",
        "       simple_regret_exact_3[slice17],\n",
        "       simple_regret_exact_4[slice17],\n",
        "       simple_regret_exact_5[slice17],\n",
        "       simple_regret_exact_6[slice17],\n",
        "       simple_regret_exact_7[slice17],\n",
        "       simple_regret_exact_8[slice17],\n",
        "       simple_regret_exact_9[slice17],\n",
        "       simple_regret_exact_10[slice17],\n",
        "       simple_regret_exact_11[slice17],\n",
        "       simple_regret_exact_12[slice17],\n",
        "       simple_regret_exact_13[slice17],\n",
        "       simple_regret_exact_14[slice17],\n",
        "       simple_regret_exact_15[slice17],\n",
        "       simple_regret_exact_16[slice17],\n",
        "       simple_regret_exact_17[slice17],\n",
        "       simple_regret_exact_18[slice17],\n",
        "       simple_regret_exact_19[slice17],\n",
        "       simple_regret_exact_20[slice17]]\n",
        "\n",
        "approx17_results = pd.DataFrame(approx17).sort_values(by=[0], ascending=False)\n",
        "exact17_results = pd.DataFrame(exact17).sort_values(by=[0], ascending=False)\n",
        "\n",
        "### Best simple regret minimization IQR - approx:\n",
        "lower_approx17 = np.asarray(approx17_results[4:5][0])[0]\n",
        "median_approx17 = np.asarray(approx17_results[9:10][0])[0]\n",
        "upper_approx17 = np.asarray(approx17_results[14:15][0])[0]\n",
        "\n",
        "lower_exact17 = np.asarray(exact17_results[4:5][0])[0]\n",
        "median_exact17 = np.asarray(exact17_results[9:10][0])[0]\n",
        "upper_exact17 = np.asarray(exact17_results[14:15][0])[0]"
      ],
      "execution_count": 89,
      "outputs": []
    },
    {
      "cell_type": "code",
      "metadata": {
        "id": "-6VLo37PQxf8"
      },
      "source": [
        "# Iteration8 :\n",
        "\n",
        "slice8 = 7\n",
        "\n",
        "approx8 = [simple_regret_approx_1[slice8],\n",
        "       simple_regret_approx_2[slice8],\n",
        "       simple_regret_approx_3[slice8],\n",
        "       simple_regret_approx_4[slice8],\n",
        "       simple_regret_approx_5[slice8],\n",
        "       simple_regret_approx_6[slice8],\n",
        "       simple_regret_approx_7[slice8],\n",
        "       simple_regret_approx_8[slice8],\n",
        "       simple_regret_approx_9[slice8],\n",
        "       simple_regret_approx_10[slice8],\n",
        "       simple_regret_approx_11[slice8],\n",
        "       simple_regret_approx_12[slice8],\n",
        "       simple_regret_approx_13[slice8],\n",
        "       simple_regret_approx_14[slice8],\n",
        "       simple_regret_approx_15[slice8],\n",
        "       simple_regret_approx_16[slice8],\n",
        "       simple_regret_approx_17[slice8],\n",
        "       simple_regret_approx_18[slice8],\n",
        "       simple_regret_approx_19[slice8],\n",
        "       simple_regret_approx_20[slice8]]\n",
        "\n",
        "exact8 = [simple_regret_exact_1[slice8],\n",
        "       simple_regret_exact_2[slice8],\n",
        "       simple_regret_exact_3[slice8],\n",
        "       simple_regret_exact_4[slice8],\n",
        "       simple_regret_exact_5[slice8],\n",
        "       simple_regret_exact_6[slice8],\n",
        "       simple_regret_exact_7[slice8],\n",
        "       simple_regret_exact_8[slice8],\n",
        "       simple_regret_exact_9[slice8],\n",
        "       simple_regret_exact_10[slice8],\n",
        "       simple_regret_exact_11[slice8],\n",
        "       simple_regret_exact_12[slice8],\n",
        "       simple_regret_exact_13[slice8],\n",
        "       simple_regret_exact_14[slice8],\n",
        "       simple_regret_exact_15[slice8],\n",
        "       simple_regret_exact_16[slice8],\n",
        "       simple_regret_exact_17[slice8],\n",
        "       simple_regret_exact_18[slice8],\n",
        "       simple_regret_exact_19[slice8],\n",
        "       simple_regret_exact_20[slice8]]\n",
        "\n",
        "approx8_results = pd.DataFrame(approx8).sort_values(by=[0], ascending=False)\n",
        "exact8_results = pd.DataFrame(exact8).sort_values(by=[0], ascending=False)\n",
        "\n",
        "### Best simple regret minimization IQR - approx:\n",
        "lower_approx8 = np.asarray(approx8_results[4:5][0])[0]\n",
        "median_approx8 = np.asarray(approx8_results[9:10][0])[0]\n",
        "upper_approx8 = np.asarray(approx8_results[14:15][0])[0]\n",
        "\n",
        "lower_exact8 = np.asarray(exact8_results[4:5][0])[0]\n",
        "median_exact8 = np.asarray(exact8_results[9:10][0])[0]\n",
        "upper_exact8 = np.asarray(exact8_results[14:15][0])[0]"
      ],
      "execution_count": 90,
      "outputs": []
    },
    {
      "cell_type": "code",
      "metadata": {
        "id": "2Dp-9CC2Qxf9"
      },
      "source": [
        "# Iteration18 :\n",
        "\n",
        "slice18 = 17\n",
        "\n",
        "approx18 = [simple_regret_approx_1[slice18],\n",
        "       simple_regret_approx_2[slice18],\n",
        "       simple_regret_approx_3[slice18],\n",
        "       simple_regret_approx_4[slice18],\n",
        "       simple_regret_approx_5[slice18],\n",
        "       simple_regret_approx_6[slice18],\n",
        "       simple_regret_approx_7[slice18],\n",
        "       simple_regret_approx_8[slice18],\n",
        "       simple_regret_approx_9[slice18],\n",
        "       simple_regret_approx_10[slice18],\n",
        "       simple_regret_approx_11[slice18],\n",
        "       simple_regret_approx_12[slice18],\n",
        "       simple_regret_approx_13[slice18],\n",
        "       simple_regret_approx_14[slice18],\n",
        "       simple_regret_approx_15[slice18],\n",
        "       simple_regret_approx_16[slice18],\n",
        "       simple_regret_approx_17[slice18],\n",
        "       simple_regret_approx_18[slice18],\n",
        "       simple_regret_approx_19[slice18],\n",
        "       simple_regret_approx_20[slice18]]\n",
        "\n",
        "exact18 = [simple_regret_exact_1[slice18],\n",
        "       simple_regret_exact_2[slice18],\n",
        "       simple_regret_exact_3[slice18],\n",
        "       simple_regret_exact_4[slice18],\n",
        "       simple_regret_exact_5[slice18],\n",
        "       simple_regret_exact_6[slice18],\n",
        "       simple_regret_exact_7[slice18],\n",
        "       simple_regret_exact_8[slice18],\n",
        "       simple_regret_exact_9[slice18],\n",
        "       simple_regret_exact_10[slice18],\n",
        "       simple_regret_exact_11[slice18],\n",
        "       simple_regret_exact_12[slice18],\n",
        "       simple_regret_exact_13[slice18],\n",
        "       simple_regret_exact_14[slice18],\n",
        "       simple_regret_exact_15[slice18],\n",
        "       simple_regret_exact_16[slice18],\n",
        "       simple_regret_exact_17[slice18],\n",
        "       simple_regret_exact_18[slice18],\n",
        "       simple_regret_exact_19[slice18],\n",
        "       simple_regret_exact_20[slice18]]\n",
        "\n",
        "approx18_results = pd.DataFrame(approx18).sort_values(by=[0], ascending=False)\n",
        "exact18_results = pd.DataFrame(exact18).sort_values(by=[0], ascending=False)\n",
        "\n",
        "### Best simple regret minimization IQR - approx:\n",
        "lower_approx18 = np.asarray(approx18_results[4:5][0])[0]\n",
        "median_approx18 = np.asarray(approx18_results[9:10][0])[0]\n",
        "upper_approx18 = np.asarray(approx18_results[14:15][0])[0]\n",
        "\n",
        "lower_exact18 = np.asarray(exact18_results[4:5][0])[0]\n",
        "median_exact18 = np.asarray(exact18_results[9:10][0])[0]\n",
        "upper_exact18 = np.asarray(exact18_results[14:15][0])[0]"
      ],
      "execution_count": 91,
      "outputs": []
    },
    {
      "cell_type": "code",
      "metadata": {
        "id": "SqiaOpB7Qxf9"
      },
      "source": [
        "# Iteration9 :\n",
        "\n",
        "slice9 = 8\n",
        "\n",
        "approx9 = [simple_regret_approx_1[slice9],\n",
        "       simple_regret_approx_2[slice9],\n",
        "       simple_regret_approx_3[slice9],\n",
        "       simple_regret_approx_4[slice9],\n",
        "       simple_regret_approx_5[slice9],\n",
        "       simple_regret_approx_6[slice9],\n",
        "       simple_regret_approx_7[slice9],\n",
        "       simple_regret_approx_8[slice9],\n",
        "       simple_regret_approx_9[slice9],\n",
        "       simple_regret_approx_10[slice9],\n",
        "       simple_regret_approx_11[slice9],\n",
        "       simple_regret_approx_12[slice9],\n",
        "       simple_regret_approx_13[slice9],\n",
        "       simple_regret_approx_14[slice9],\n",
        "       simple_regret_approx_15[slice9],\n",
        "       simple_regret_approx_16[slice9],\n",
        "       simple_regret_approx_17[slice9],\n",
        "       simple_regret_approx_18[slice9],\n",
        "       simple_regret_approx_19[slice9],\n",
        "       simple_regret_approx_20[slice9]]\n",
        "\n",
        "exact9 = [simple_regret_exact_1[slice9],\n",
        "       simple_regret_exact_2[slice9],\n",
        "       simple_regret_exact_3[slice9],\n",
        "       simple_regret_exact_4[slice9],\n",
        "       simple_regret_exact_5[slice9],\n",
        "       simple_regret_exact_6[slice9],\n",
        "       simple_regret_exact_7[slice9],\n",
        "       simple_regret_exact_8[slice9],\n",
        "       simple_regret_exact_9[slice9],\n",
        "       simple_regret_exact_10[slice9],\n",
        "       simple_regret_exact_11[slice9],\n",
        "       simple_regret_exact_12[slice9],\n",
        "       simple_regret_exact_13[slice9],\n",
        "       simple_regret_exact_14[slice9],\n",
        "       simple_regret_exact_15[slice9],\n",
        "       simple_regret_exact_16[slice9],\n",
        "       simple_regret_exact_17[slice9],\n",
        "       simple_regret_exact_18[slice9],\n",
        "       simple_regret_exact_19[slice9],\n",
        "       simple_regret_exact_20[slice9]]\n",
        "\n",
        "approx9_results = pd.DataFrame(approx9).sort_values(by=[0], ascending=False)\n",
        "exact9_results = pd.DataFrame(exact9).sort_values(by=[0], ascending=False)\n",
        "\n",
        "### Best simple regret minimization IQR - approx:\n",
        "lower_approx9 = np.asarray(approx9_results[4:5][0])[0]\n",
        "median_approx9 = np.asarray(approx9_results[9:10][0])[0]\n",
        "upper_approx9 = np.asarray(approx9_results[14:15][0])[0]\n",
        "\n",
        "lower_exact9 = np.asarray(exact9_results[4:5][0])[0]\n",
        "median_exact9 = np.asarray(exact9_results[9:10][0])[0]\n",
        "upper_exact9 = np.asarray(exact9_results[14:15][0])[0]"
      ],
      "execution_count": 92,
      "outputs": []
    },
    {
      "cell_type": "code",
      "metadata": {
        "id": "OQkCCOsPQxf9"
      },
      "source": [
        "# Iteration19 :\n",
        "\n",
        "slice19 = 18\n",
        "\n",
        "approx19 = [simple_regret_approx_1[slice19],\n",
        "       simple_regret_approx_2[slice19],\n",
        "       simple_regret_approx_3[slice19],\n",
        "       simple_regret_approx_4[slice19],\n",
        "       simple_regret_approx_5[slice19],\n",
        "       simple_regret_approx_6[slice19],\n",
        "       simple_regret_approx_7[slice19],\n",
        "       simple_regret_approx_8[slice19],\n",
        "       simple_regret_approx_9[slice19],\n",
        "       simple_regret_approx_10[slice19],\n",
        "       simple_regret_approx_11[slice19],\n",
        "       simple_regret_approx_12[slice19],\n",
        "       simple_regret_approx_13[slice19],\n",
        "       simple_regret_approx_14[slice19],\n",
        "       simple_regret_approx_15[slice19],\n",
        "       simple_regret_approx_16[slice19],\n",
        "       simple_regret_approx_17[slice19],\n",
        "       simple_regret_approx_18[slice19],\n",
        "       simple_regret_approx_19[slice19],\n",
        "       simple_regret_approx_20[slice19]]\n",
        "\n",
        "exact19 = [simple_regret_exact_1[slice19],\n",
        "       simple_regret_exact_2[slice19],\n",
        "       simple_regret_exact_3[slice19],\n",
        "       simple_regret_exact_4[slice19],\n",
        "       simple_regret_exact_5[slice19],\n",
        "       simple_regret_exact_6[slice19],\n",
        "       simple_regret_exact_7[slice19],\n",
        "       simple_regret_exact_8[slice19],\n",
        "       simple_regret_exact_9[slice19],\n",
        "       simple_regret_exact_10[slice19],\n",
        "       simple_regret_exact_11[slice19],\n",
        "       simple_regret_exact_12[slice19],\n",
        "       simple_regret_exact_13[slice19],\n",
        "       simple_regret_exact_14[slice19],\n",
        "       simple_regret_exact_15[slice19],\n",
        "       simple_regret_exact_16[slice19],\n",
        "       simple_regret_exact_17[slice19],\n",
        "       simple_regret_exact_18[slice19],\n",
        "       simple_regret_exact_19[slice19],\n",
        "       simple_regret_exact_20[slice19]]\n",
        "\n",
        "approx19_results = pd.DataFrame(approx19).sort_values(by=[0], ascending=False)\n",
        "exact19_results = pd.DataFrame(exact19).sort_values(by=[0], ascending=False)\n",
        "\n",
        "### Best simple regret minimization IQR - approx:\n",
        "lower_approx19 = np.asarray(approx19_results[4:5][0])[0]\n",
        "median_approx19 = np.asarray(approx19_results[9:10][0])[0]\n",
        "upper_approx19 = np.asarray(approx19_results[14:15][0])[0]\n",
        "\n",
        "lower_exact19 = np.asarray(exact19_results[4:5][0])[0]\n",
        "median_exact19 = np.asarray(exact19_results[9:10][0])[0]\n",
        "upper_exact19 = np.asarray(exact19_results[14:15][0])[0]"
      ],
      "execution_count": 93,
      "outputs": []
    },
    {
      "cell_type": "code",
      "metadata": {
        "id": "h4vtWahcQxf-"
      },
      "source": [
        "# Iteration10 :\n",
        "\n",
        "slice10 = 9\n",
        "\n",
        "approx10 = [simple_regret_approx_1[slice10],\n",
        "       simple_regret_approx_2[slice10],\n",
        "       simple_regret_approx_3[slice10],\n",
        "       simple_regret_approx_4[slice10],\n",
        "       simple_regret_approx_5[slice10],\n",
        "       simple_regret_approx_6[slice10],\n",
        "       simple_regret_approx_7[slice10],\n",
        "       simple_regret_approx_8[slice10],\n",
        "       simple_regret_approx_9[slice10],\n",
        "       simple_regret_approx_10[slice10],\n",
        "       simple_regret_approx_11[slice10],\n",
        "       simple_regret_approx_12[slice10],\n",
        "       simple_regret_approx_13[slice10],\n",
        "       simple_regret_approx_14[slice10],\n",
        "       simple_regret_approx_15[slice10],\n",
        "       simple_regret_approx_16[slice10],\n",
        "       simple_regret_approx_17[slice10],\n",
        "       simple_regret_approx_18[slice10],\n",
        "       simple_regret_approx_19[slice10],\n",
        "       simple_regret_approx_20[slice10]]\n",
        "\n",
        "exact10 = [simple_regret_exact_1[slice10],\n",
        "       simple_regret_exact_2[slice10],\n",
        "       simple_regret_exact_3[slice10],\n",
        "       simple_regret_exact_4[slice10],\n",
        "       simple_regret_exact_5[slice10],\n",
        "       simple_regret_exact_6[slice10],\n",
        "       simple_regret_exact_7[slice10],\n",
        "       simple_regret_exact_8[slice10],\n",
        "       simple_regret_exact_9[slice10],\n",
        "       simple_regret_exact_10[slice10],\n",
        "       simple_regret_exact_11[slice10],\n",
        "       simple_regret_exact_12[slice10],\n",
        "       simple_regret_exact_13[slice10],\n",
        "       simple_regret_exact_14[slice10],\n",
        "       simple_regret_exact_15[slice10],\n",
        "       simple_regret_exact_16[slice10],\n",
        "       simple_regret_exact_17[slice10],\n",
        "       simple_regret_exact_18[slice10],\n",
        "       simple_regret_exact_19[slice10],\n",
        "       simple_regret_exact_20[slice10]]\n",
        "\n",
        "approx10_results = pd.DataFrame(approx10).sort_values(by=[0], ascending=False)\n",
        "exact10_results = pd.DataFrame(exact10).sort_values(by=[0], ascending=False)\n",
        "\n",
        "### Best simple regret minimization IQR - approx:\n",
        "lower_approx10 = np.asarray(approx10_results[4:5][0])[0]\n",
        "median_approx10 = np.asarray(approx10_results[9:10][0])[0]\n",
        "upper_approx10 = np.asarray(approx10_results[14:15][0])[0]\n",
        "\n",
        "lower_exact10 = np.asarray(exact10_results[4:5][0])[0]\n",
        "median_exact10 = np.asarray(exact10_results[9:10][0])[0]\n",
        "upper_exact10 = np.asarray(exact10_results[14:15][0])[0]"
      ],
      "execution_count": 94,
      "outputs": []
    },
    {
      "cell_type": "code",
      "metadata": {
        "id": "Rsf240pWQxf-"
      },
      "source": [
        "# Iteration20 :\n",
        "\n",
        "slice20 = 19\n",
        "\n",
        "approx20 = [simple_regret_approx_1[slice20],\n",
        "       simple_regret_approx_2[slice20],\n",
        "       simple_regret_approx_3[slice20],\n",
        "       simple_regret_approx_4[slice20],\n",
        "       simple_regret_approx_5[slice20],\n",
        "       simple_regret_approx_6[slice20],\n",
        "       simple_regret_approx_7[slice20],\n",
        "       simple_regret_approx_8[slice20],\n",
        "       simple_regret_approx_9[slice20],\n",
        "       simple_regret_approx_10[slice20],\n",
        "       simple_regret_approx_11[slice20],\n",
        "       simple_regret_approx_12[slice20],\n",
        "       simple_regret_approx_13[slice20],\n",
        "       simple_regret_approx_14[slice20],\n",
        "       simple_regret_approx_15[slice20],\n",
        "       simple_regret_approx_16[slice20],\n",
        "       simple_regret_approx_17[slice20],\n",
        "       simple_regret_approx_18[slice20],\n",
        "       simple_regret_approx_19[slice20],\n",
        "       simple_regret_approx_20[slice20]]\n",
        "\n",
        "exact20 = [simple_regret_exact_1[slice20],\n",
        "       simple_regret_exact_2[slice20],\n",
        "       simple_regret_exact_3[slice20],\n",
        "       simple_regret_exact_4[slice20],\n",
        "       simple_regret_exact_5[slice20],\n",
        "       simple_regret_exact_6[slice20],\n",
        "       simple_regret_exact_7[slice20],\n",
        "       simple_regret_exact_8[slice20],\n",
        "       simple_regret_exact_9[slice20],\n",
        "       simple_regret_exact_10[slice20],\n",
        "       simple_regret_exact_11[slice20],\n",
        "       simple_regret_exact_12[slice20],\n",
        "       simple_regret_exact_13[slice20],\n",
        "       simple_regret_exact_14[slice20],\n",
        "       simple_regret_exact_15[slice20],\n",
        "       simple_regret_exact_16[slice20],\n",
        "       simple_regret_exact_17[slice20],\n",
        "       simple_regret_exact_18[slice20],\n",
        "       simple_regret_exact_19[slice20],\n",
        "       simple_regret_exact_20[slice20]]\n",
        "\n",
        "approx20_results = pd.DataFrame(approx20).sort_values(by=[0], ascending=False)\n",
        "exact20_results = pd.DataFrame(exact20).sort_values(by=[0], ascending=False)\n",
        "\n",
        "### Best simple regret minimization IQR - approx:\n",
        "lower_approx20 = np.asarray(approx20_results[4:5][0])[0]\n",
        "median_approx20 = np.asarray(approx20_results[9:10][0])[0]\n",
        "upper_approx20 = np.asarray(approx20_results[14:15][0])[0]\n",
        "\n",
        "lower_exact20 = np.asarray(exact20_results[4:5][0])[0]\n",
        "median_exact20 = np.asarray(exact20_results[9:10][0])[0]\n",
        "upper_exact20 = np.asarray(exact20_results[14:15][0])[0]"
      ],
      "execution_count": 95,
      "outputs": []
    },
    {
      "cell_type": "code",
      "metadata": {
        "id": "gn36RejbQxf_"
      },
      "source": [
        "### Summarize arrays: 'Loser'\n",
        "\n",
        "lower_approx = [lower_approx1,\n",
        "            lower_approx2,\n",
        "            lower_approx3,\n",
        "            lower_approx4,\n",
        "            lower_approx5,\n",
        "            lower_approx6,\n",
        "            lower_approx7,\n",
        "            lower_approx8,\n",
        "            lower_approx9,\n",
        "            lower_approx10,\n",
        "            lower_approx11,\n",
        "            lower_approx12,\n",
        "            lower_approx13,\n",
        "            lower_approx14,\n",
        "            lower_approx15,\n",
        "            lower_approx16,\n",
        "            lower_approx17,\n",
        "            lower_approx18,\n",
        "            lower_approx19,\n",
        "            lower_approx20,\n",
        "            lower_approx21]\n",
        "\n",
        "median_approx = [median_approx1,\n",
        "            median_approx2,\n",
        "            median_approx3,\n",
        "            median_approx4,\n",
        "            median_approx5,\n",
        "            median_approx6,\n",
        "            median_approx7,\n",
        "            median_approx8,\n",
        "            median_approx9,\n",
        "            median_approx10,\n",
        "            median_approx11,\n",
        "            median_approx12,\n",
        "            median_approx13,\n",
        "            median_approx14,\n",
        "            median_approx15,\n",
        "            median_approx16,\n",
        "            median_approx17,\n",
        "            median_approx18,\n",
        "            median_approx19,\n",
        "            median_approx20,\n",
        "            median_approx21]\n",
        "\n",
        "upper_approx = [upper_approx1,\n",
        "            upper_approx2,\n",
        "            upper_approx3,\n",
        "            upper_approx4,\n",
        "            upper_approx5,\n",
        "            upper_approx6,\n",
        "            upper_approx7,\n",
        "            upper_approx8,\n",
        "            upper_approx9,\n",
        "            upper_approx10,\n",
        "            upper_approx11,\n",
        "            upper_approx12,\n",
        "            upper_approx13,\n",
        "            upper_approx14,\n",
        "            upper_approx15,\n",
        "            upper_approx16,\n",
        "            upper_approx17,\n",
        "            upper_approx18,\n",
        "            upper_approx19,\n",
        "            upper_approx20,\n",
        "            upper_approx21]"
      ],
      "execution_count": 96,
      "outputs": []
    },
    {
      "cell_type": "code",
      "metadata": {
        "id": "wxtGTOYfQxf_"
      },
      "source": [
        "### Summarize arrays: 'exact'\n",
        "\n",
        "lower_exact = [lower_exact1,\n",
        "            lower_exact2,\n",
        "            lower_exact3,\n",
        "            lower_exact4,\n",
        "            lower_exact5,\n",
        "            lower_exact6,\n",
        "            lower_exact7,\n",
        "            lower_exact8,\n",
        "            lower_exact9,\n",
        "            lower_exact10,\n",
        "            lower_exact11,\n",
        "            lower_exact12,\n",
        "            lower_exact13,\n",
        "            lower_exact14,\n",
        "            lower_exact15,\n",
        "            lower_exact16,\n",
        "            lower_exact17,\n",
        "            lower_exact18,\n",
        "            lower_exact19,\n",
        "            lower_exact20,\n",
        "            lower_exact21]\n",
        "\n",
        "median_exact = [median_exact1,\n",
        "            median_exact2,\n",
        "            median_exact3,\n",
        "            median_exact4,\n",
        "            median_exact5,\n",
        "            median_exact6,\n",
        "            median_exact7,\n",
        "            median_exact8,\n",
        "            median_exact9,\n",
        "            median_exact10,\n",
        "            median_exact11,\n",
        "            median_exact12,\n",
        "            median_exact13,\n",
        "            median_exact14,\n",
        "            median_exact15,\n",
        "            median_exact16,\n",
        "            median_exact17,\n",
        "            median_exact18,\n",
        "            median_exact19,\n",
        "            median_exact20,\n",
        "            median_exact21]\n",
        "\n",
        "upper_exact = [upper_exact1,\n",
        "            upper_exact2,\n",
        "            upper_exact3,\n",
        "            upper_exact4,\n",
        "            upper_exact5,\n",
        "            upper_exact6,\n",
        "            upper_exact7,\n",
        "            upper_exact8,\n",
        "            upper_exact9,\n",
        "            upper_exact10,\n",
        "            upper_exact11,\n",
        "            upper_exact12,\n",
        "            upper_exact13,\n",
        "            upper_exact14,\n",
        "            upper_exact15,\n",
        "            upper_exact16,\n",
        "            upper_exact17,\n",
        "            upper_exact18,\n",
        "            upper_exact19,\n",
        "            upper_exact20,\n",
        "            upper_exact21]"
      ],
      "execution_count": 97,
      "outputs": []
    },
    {
      "cell_type": "code",
      "metadata": {
        "id": "2MONq-BXQxgA",
        "colab": {
          "base_uri": "https://localhost:8080/",
          "height": 299
        },
        "outputId": "81e75ecd-4212-465f-90dc-f5c3f4115c1c"
      },
      "source": [
        "### Visualise!\n",
        "\n",
        "title = func\n",
        "plt.figure()\n",
        "\n",
        "plt.plot(median_approx, color = 'Purple')\n",
        "plt.plot(median_exact, color = 'Orange')\n",
        "\n",
        "xstar = np.arange(0, iters+1, step=1)\n",
        "plt.fill_between(xstar, lower_approx, upper_approx, facecolor = 'Purple', alpha=0.4, label='GP CBM Optimization: Approx GP CBM gradients')\n",
        "plt.fill_between(xstar, lower_exact, upper_exact, facecolor = 'Orange', alpha=0.4, label='GP CBM Optimization: Exact GP dCBM gradients')\n",
        "\n",
        "plt.title(title, weight = 'bold')\n",
        "plt.xlabel('(Post-initialization) iteration $\\it{k}$', weight = 'bold')\n",
        "plt.ylabel('log(Regret)', weight = 'bold') \n",
        "plt.legend(loc=1) # add plot legend\n",
        "\n",
        "### Make the x-ticks integers, not floats:\n",
        "count = len(xstar)\n",
        "plt.xticks(np.arange(count), np.arange(0, count))\n",
        "plt.show() #visualize!"
      ],
      "execution_count": 98,
      "outputs": [
        {
          "output_type": "display_data",
          "data": {
            "text/plain": [
              "<Figure size 432x288 with 1 Axes>"
            ],
            "image/png": "[encoded data removed]"
          },
          "metadata": {
            "needs_background": "light"
          }
        }
      ]
    },
    {
      "cell_type": "code",
      "metadata": {
        "id": "l5dkR2Id2oiu",
        "colab": {
          "base_uri": "https://localhost:8080/"
        },
        "outputId": "5d37b64e-632c-4d4a-c9c0-f926fb64ecfc"
      },
      "source": [
        "time_approx, time_exact\n"
      ],
      "execution_count": 99,
      "outputs": [
        {
          "output_type": "execute_result",
          "data": {
            "text/plain": [
              "(85.73149418830872, 473.3104135990143)"
            ]
          },
          "metadata": {},
          "execution_count": 99
        }
      ]
    },
    {
      "cell_type": "code",
      "source": [
        "exact21_results, exact21_results[19:20].index[0]\n"
      ],
      "metadata": {
        "colab": {
          "base_uri": "https://localhost:8080/"
        },
        "id": "0i4IbAcyB7-l",
        "outputId": "a7206007-fd4a-438e-eddd-dd0c6edbc1f7"
      },
      "execution_count": 100,
      "outputs": [
        {
          "output_type": "execute_result",
          "data": {
            "text/plain": [
              "(           0\n",
              " 0   3.246802\n",
              " 8   3.061261\n",
              " 14  3.046565\n",
              " 2   3.028683\n",
              " 11  2.881452\n",
              " 4   2.852586\n",
              " 13  2.821290\n",
              " 10  2.661066\n",
              " 1   2.646085\n",
              " 6   2.624505\n",
              " 16  2.585600\n",
              " 17  2.484601\n",
              " 3   2.455200\n",
              " 19  2.443008\n",
              " 9   2.289714\n",
              " 12  2.231376\n",
              " 7   2.192541\n",
              " 15  2.114441\n",
              " 18  1.950796\n",
              " 5   1.807347, 5)"
            ]
          },
          "metadata": {},
          "execution_count": 100
        }
      ]
    },
    {
      "cell_type": "code",
      "source": [
        "str_exact = str(exact21_results[19:20].index[0]+1)\n",
        "str_exact\n"
      ],
      "metadata": {
        "colab": {
          "base_uri": "https://localhost:8080/",
          "height": 35
        },
        "id": "12lIvjCoBr7y",
        "outputId": "131c58e1-7541-43ce-e9b7-5c7cdbf84813"
      },
      "execution_count": 101,
      "outputs": [
        {
          "output_type": "execute_result",
          "data": {
            "text/plain": [
              "'6'"
            ],
            "application/vnd.google.colaboratory.intrinsic+json": {
              "type": "string"
            }
          },
          "metadata": {},
          "execution_count": 101
        }
      ]
    },
    {
      "cell_type": "code",
      "source": [
        "eval_exactMinIQR_vsCorrApproxExperiment = eval('approx_' + str_exact)\n",
        "eval_exactMinIQR_vsCorrApproxExperiment_minAcqFunc = eval_exactMinIQR_vsCorrApproxExperiment.history[eval_exactMinIQR_vsCorrApproxExperiment.history.index(eval_exactMinIQR_vsCorrApproxExperiment.tau)-1]\n",
        "eval_exactMinIQR_vsCorrApproxExperiment_simpleRegret = np.log(-eval_exactMinIQR_vsCorrApproxExperiment.tau + y_global_orig)\n",
        "\n",
        "eval_exactMinIQR_vsCorrApproxExperiment.tau, eval_exactMinIQR_vsCorrApproxExperiment_minAcqFunc, eval_exactMinIQR_vsCorrApproxExperiment_simpleRegret\n"
      ],
      "metadata": {
        "colab": {
          "base_uri": "https://localhost:8080/"
        },
        "id": "O3sQFv0hpuNI",
        "outputId": "8cdde5c4-b75d-4d3a-a28b-07995420964d"
      },
      "execution_count": 102,
      "outputs": [
        {
          "output_type": "execute_result",
          "data": {
            "text/plain": [
              "(-9.994000077126026, -0.7062141396581355, 2.301984920639246)"
            ]
          },
          "metadata": {},
          "execution_count": 102
        }
      ]
    },
    {
      "cell_type": "code",
      "source": [
        "### Final iteration: best \"approx\" experiment results (as above)\n",
        "\n",
        "np.random.seed(int(str_exact))\n",
        "eval_exactMinIQR_vsCorrApproxExperiment.run(init_evals=n_init, max_iter=iters)\n"
      ],
      "metadata": {
        "id": "DKvmmlRoTnvC",
        "colab": {
          "base_uri": "https://localhost:8080/"
        },
        "outputId": "c98d537b-65b3-464d-aca1-0df0e791bb7d"
      },
      "execution_count": 103,
      "outputs": [
        {
          "output_type": "stream",
          "name": "stdout",
          "text": [
            "Evaluation \t Proposed point \t  Current eval. \t  Best eval. \t         Max AcqFunc.\n",
            "init\t [ 4.02288795 -1.72052679]\t -31.08835710146886\t -17.28954482757088\t    \n",
            "init\t [ 3.28938622 -4.69302655]\t -58.797867722203385\t -17.28954482757088\t    \n",
            "init\t [-4.0175956   0.97333314]\t -17.28954482757088\t -17.28954482757088\t    \n",
            "init\t [ 0.30532979 -0.83141193]\t -19.296253155889353\t -17.28954482757088\t    \n",
            "init\t [-1.68542362  1.25459899]\t -28.650630936276173\t -17.28954482757088\t    \n",
            "1  \t [5.12 5.12]\t -57.849427451571785\t -17.28954482757088\t -2.4494900506317085\n",
            "2  \t [-4.81397128 -4.71436888]\t -63.70763215223161\t -17.28954482757088\t -2.449489474704894\n",
            "3  \t [-5.12  5.12]\t -57.849427451571785\t -17.28954482757088\t -2.448643693044207\n",
            "4  \t [0.39539431 5.12      ]\t -46.99776126387555\t -17.28954482757088\t -2.4481568388621384\n",
            "5  \t [-0.7527619 -5.12     ]\t -39.317837371138246\t -17.28954482757088\t -2.433665705020466\n",
            "6  \t [2.84227944 1.91251932]\t -17.730606596758697\t -17.28954482757088\t -2.4103224301978137\n",
            "7  \t [-2.70490327 -2.01013296]\t -24.173144137338703\t -17.28954482757088\t -2.205264904808498\n",
            "8  \t [5.12       1.12144661]\t -32.955190678950714\t -17.28954482757088\t -1.8066809743816843\n",
            "9  \t [-2.34758304  4.04003217]\t -37.901998051031406\t -17.28954482757088\t -1.5483533213647689\n",
            "10 \t [-5.12       -1.34940344]\t -46.59309037707619\t -17.28954482757088\t -1.5216860998709183\n",
            "\u001b[1m\u001b[92m11\u001b[0m\t \u001b[1m\u001b[92m[ 0.98862995 -2.97123822]\u001b[0m\t \u001b[1m\u001b[92m-9.994000077126026\u001b[0m\t \u001b[1m\u001b[92m-9.994000077126026\u001b[0m\t \u001b[1m\u001b[92m-0.7062141396581355\u001b[0m\n",
            "12 \t [0.64320721 2.21258243]\t -29.197505457435394\t -9.994000077126026\t -0.6926261859914133\n",
            "13 \t [-5.12        2.42907205]\t -53.84839665426533\t -9.994000077126026\t -0.05980404475660144\n",
            "14 \t [2.74676325 4.14103138]\t -38.57203151681122\t -9.994000077126026\t 0.4279434034509502\n",
            "15 \t [ 2.28576695 -0.11444212]\t -19.942017375651456\t -9.994000077126026\t 0.68459925978497\n",
            "16 \t [-0.72214395 -2.66668512]\t -34.37302205906926\t -9.994000077126026\t 1.7217080498592023\n",
            "17 \t [ 5.12       -3.46239943]\t -60.635145590663086\t -9.994000077126026\t 1.941427883841512\n",
            "18 \t [ 1.87447812 -2.44800675]\t -31.92968102749371\t -9.994000077126026\t 2.7424559390350485\n",
            "19 \t [ 1.17616383 -5.12      ]\t -35.83344622485944\t -9.994000077126026\t 3.566200031893961\n",
            "20 \t [-2.60240286 -4.28254835]\t -55.14407857477931\t -9.994000077126026\t 3.9190787012690063\n"
          ]
        }
      ]
    },
    {
      "cell_type": "code",
      "source": [
        "eval_exactMinIQR_vsCorrApproxExperiment.x_best, np.round(eval_exactMinIQR_vsCorrApproxExperiment.f_best, 2), eval_exactMinIQR_vsCorrApproxExperiment.best, eval_exactMinIQR_vsCorrApproxExperiment.x_best[np.argmin(eval_exactMinIQR_vsCorrApproxExperiment.f_best)] #### i.e. minAcqFunc returned\n"
      ],
      "metadata": {
        "colab": {
          "base_uri": "https://localhost:8080/"
        },
        "id": "tDHS__-Q_WLT",
        "outputId": "b979fd1f-ea57-40d5-c40f-9a22e30b539b"
      },
      "execution_count": 104,
      "outputs": [
        {
          "output_type": "execute_result",
          "data": {
            "text/plain": [
              "(array([[ 5.12      , -0.67302167],\n",
              "        [-2.64297161, -0.30172283],\n",
              "        [ 5.12      ,  2.91440431],\n",
              "        [-2.64297149, -0.30172268],\n",
              "        [ 5.12      , -0.67302169],\n",
              "        [ 3.5529612 ,  0.19343112],\n",
              "        [-0.75041846,  3.07754816],\n",
              "        [ 5.12      ,  2.9144043 ],\n",
              "        [-2.60240327, -4.28254759],\n",
              "        [-2.60240288, -4.28254862],\n",
              "        [-2.64297122, -0.30172318],\n",
              "        [-2.60240288, -4.28254848],\n",
              "        [ 5.12      ,  2.91440431],\n",
              "        [-2.64297132, -0.30172288],\n",
              "        [-2.64297121, -0.30172281],\n",
              "        [-2.60240286, -4.28254835],\n",
              "        [-2.95383299,  2.12924561],\n",
              "        [-1.63199567,  5.12      ],\n",
              "        [-2.64297152, -0.30172281],\n",
              "        [-2.95383304,  2.12924556]]),\n",
              " array([5.63, 4.41, 4.13, 4.41, 5.63, 7.39, 7.55, 4.13, 3.92, 3.92, 4.41,\n",
              "        3.92, 4.13, 4.41, 4.41, 3.92, 8.22, 8.6 , 4.41, 8.22]),\n",
              " array([-2.60240286, -4.28254835]),\n",
              " array([-2.60240286, -4.28254835]))"
            ]
          },
          "metadata": {},
          "execution_count": 104
        }
      ]
    },
    {
      "cell_type": "code",
      "source": [
        "eval_exactMinIQR = eval('exact_' + str_exact)\n",
        "eval_exactMinIQR_minAcqFunc = eval_exactMinIQR.history[eval_exactMinIQR.history.index(eval_exactMinIQR.tau)-1]\n",
        "eval_exactMinIQR_simpleRegret  = np.log(-eval_exactMinIQR.tau + y_global_orig)\n",
        "\n",
        "eval_exactMinIQR.tau, eval_exactMinIQR_minAcqFunc, eval_exactMinIQR_simpleRegret\n"
      ],
      "metadata": {
        "colab": {
          "base_uri": "https://localhost:8080/"
        },
        "id": "M4bxQTTWCXFZ",
        "outputId": "da15149d-0e60-474d-8baf-3cd9a7bd356d"
      },
      "execution_count": 105,
      "outputs": [
        {
          "output_type": "execute_result",
          "data": {
            "text/plain": [
              "(-6.09425576597569, 0.43860040469487427, 1.8073466498133655)"
            ]
          },
          "metadata": {},
          "execution_count": 105
        }
      ]
    },
    {
      "cell_type": "code",
      "source": [
        "### Final iteration: best \"exact\" experiment results (as above)\n",
        "\n",
        "np.random.seed(int(str_exact))\n",
        "eval_exactMinIQR.run(init_evals=n_init, max_iter=iters)\n"
      ],
      "metadata": {
        "colab": {
          "base_uri": "https://localhost:8080/"
        },
        "id": "WeKb1o143nLW",
        "outputId": "2f9f42d1-89f8-4a09-9b80-19873eda16bc"
      },
      "execution_count": 106,
      "outputs": [
        {
          "output_type": "stream",
          "name": "stdout",
          "text": [
            "Evaluation \t Proposed point \t  Current eval. \t  Best eval. \t         Max AcqFunc.\n",
            "init\t [ 4.02288795 -1.72052679]\t -31.08835710146886\t -17.28954482757088\t    \n",
            "init\t [ 3.28938622 -4.69302655]\t -58.797867722203385\t -17.28954482757088\t    \n",
            "init\t [-4.0175956   0.97333314]\t -17.28954482757088\t -17.28954482757088\t    \n",
            "init\t [ 0.30532979 -0.83141193]\t -19.296253155889353\t -17.28954482757088\t    \n",
            "init\t [-1.68542362  1.25459899]\t -28.650630936276173\t -17.28954482757088\t    \n",
            "1  \t [5.12 5.12]\t -57.849427451571785\t -17.28954482757088\t -2.449489747507372\n",
            "2  \t [-5.12 -5.12]\t -57.849427451571785\t -17.28954482757088\t -2.449489708952214\n",
            "3  \t [0.39229911 5.12      ]\t -46.87501812311753\t -17.28954482757088\t -2.44816377766472\n",
            "4  \t [-0.9541143  -4.92165476]\t -26.73307634452152\t -17.28954482757088\t -2.4401386745757825\n",
            "5  \t [3.88132972 1.66847902]\t -35.402978861430384\t -17.28954482757088\t -2.364972843209478\n",
            "6  \t [-3.50139591  4.65918015]\t -69.36903863640266\t -17.28954482757088\t -2.4225002208876547\n",
            "7  \t [-2.93975795 -2.20160705]\t -21.203113034033485\t -17.28954482757088\t -2.300336886684599\n",
            "\u001b[1m\u001b[92m8\u001b[0m\t \u001b[1m\u001b[92m[1.07467011 2.06734169]\u001b[0m\t \u001b[1m\u001b[92m-7.391239680589717\u001b[0m\t \u001b[1m\u001b[92m-7.391239680589717\u001b[0m\t \u001b[1m\u001b[92m-1.626817206511786\u001b[0m\n",
            "9  \t [-5.12     -2.469623]\t -54.84215789635678\t -7.391239680589717\t -0.6291726644696131\n",
            "10 \t [ 0.39733451 -2.89245942]\t -28.71208571575681\t -7.391239680589717\t -0.5017627394532816\n",
            "11 \t [2.85049773 3.56770303]\t -44.05949369160418\t -7.391239680589717\t 0.4844641557639034\n",
            "\u001b[1m\u001b[92m12\u001b[0m\t \u001b[1m\u001b[92m[2.07088946 0.06513255]\u001b[0m\t \u001b[1m\u001b[92m-6.09425576597569\u001b[0m\t \u001b[1m\u001b[92m-6.09425576597569\u001b[0m\t \u001b[1m\u001b[92m0.43860040469487427\u001b[0m\n",
            "13 \t [-0.38118455  2.86315249]\t -29.157776693048532\t -6.09425576597569\t 1.3561294119433738\n",
            "14 \t [-4.92387962  2.40349912]\t -49.36094525988084\t -6.09425576597569\t 0.54374416590729\n",
            "15 \t [5.12      0.3859696]\t -46.61494592415669\t -6.09425576597569\t 1.8922988510211525\n",
            "16 \t [1.19556423 1.16286368]\t -14.222134705370582\t -6.09425576597569\t 1.4942547599957468\n",
            "17 \t [-2.78600174 -5.12      ]\t -44.44370507803498\t -6.09425576597569\t 2.004263543057753\n",
            "18 \t [-1.6547054  -0.99558394]\t -19.36922005293088\t -6.09425576597569\t 2.1453166732341247\n",
            "19 \t [ 0.83059518 -5.12      ]\t -34.76432832189903\t -6.09425576597569\t 2.146536511092009\n",
            "20 \t [-4.90705936 -0.18429704]\t -31.75838014474175\t -6.09425576597569\t 2.3775723807595774\n"
          ]
        }
      ]
    },
    {
      "cell_type": "code",
      "source": [
        "eval_exactMinIQR.x_best, np.round(eval_exactMinIQR.f_best, 2), eval_exactMinIQR.best, eval_exactMinIQR.x_best[np.argmin(eval_exactMinIQR.f_best)] #### i.e. minAcqFunc returned\n"
      ],
      "metadata": {
        "colab": {
          "base_uri": "https://localhost:8080/"
        },
        "id": "c0IIOZ-bID_G",
        "outputId": "a382995c-ddeb-42bd-b8c4-db1f9098d84e"
      },
      "execution_count": 107,
      "outputs": [
        {
          "output_type": "execute_result",
          "data": {
            "text/plain": [
              "(array([[ 4.9340119 , -3.15179319],\n",
              "        [-2.70186969, -0.90331021],\n",
              "        [ 2.66343726,  5.12      ],\n",
              "        [-1.42250807,  5.12      ],\n",
              "        [ 1.83984817,  0.30652122],\n",
              "        [-1.88319753, -2.67095951],\n",
              "        [-2.37728054,  2.75206257],\n",
              "        [ 4.34181992,  3.60727995],\n",
              "        [-2.62884858, -0.94365962],\n",
              "        [-4.90705936, -0.18429704],\n",
              "        [-2.51769924, -1.0096488 ],\n",
              "        [-1.04218704, -3.47826009],\n",
              "        [-2.39895786,  2.76665415],\n",
              "        [ 1.01109396,  2.60072218],\n",
              "        [ 1.82641165,  0.33737376],\n",
              "        [ 1.19701725,  2.10364571],\n",
              "        [-2.8819426 ,  2.94051291],\n",
              "        [ 3.54483819,  4.87153079],\n",
              "        [ 1.58280257,  1.28062998],\n",
              "        [ 0.48298345,  3.42814719]]),\n",
              " array([ 3.39,  7.22,  6.87,  6.14,  4.18,  6.16,  6.81, 13.26,  7.6 ,\n",
              "         2.38,  8.16,  7.71,  6.82,  7.33,  4.26,  6.22,  9.09, 12.87,\n",
              "         5.77, 12.18]),\n",
              " array([-4.90705936, -0.18429704]),\n",
              " array([-4.90705936, -0.18429704]))"
            ]
          },
          "metadata": {},
          "execution_count": 107
        }
      ]
    },
    {
      "cell_type": "code",
      "source": [
        "eval_exactMinIQR.tau > eval_exactMinIQR_vsCorrApproxExperiment.tau # Exact gradients' model: y-value is greater"
      ],
      "metadata": {
        "colab": {
          "base_uri": "https://localhost:8080/"
        },
        "id": "RRSEL9F33mw_",
        "outputId": "448db1fc-ebe3-46cb-bd8b-7385b12792e0"
      },
      "execution_count": 108,
      "outputs": [
        {
          "output_type": "execute_result",
          "data": {
            "text/plain": [
              "True"
            ]
          },
          "metadata": {},
          "execution_count": 108
        }
      ]
    },
    {
      "cell_type": "code",
      "source": [
        "eval_exactMinIQR_minAcqFunc > eval_exactMinIQR_vsCorrApproxExperiment_minAcqFunc # Exact gradients' model: best AcqFunc is greater\n"
      ],
      "metadata": {
        "colab": {
          "base_uri": "https://localhost:8080/"
        },
        "id": "srZDKNlWGaUp",
        "outputId": "46e7e02a-ed12-4525-e1c8-368adb3651e3"
      },
      "execution_count": 109,
      "outputs": [
        {
          "output_type": "execute_result",
          "data": {
            "text/plain": [
              "True"
            ]
          },
          "metadata": {},
          "execution_count": 109
        }
      ]
    },
    {
      "cell_type": "code",
      "source": [
        "eval_exactMinIQR_simpleRegret < eval_exactMinIQR_vsCorrApproxExperiment_simpleRegret # Exact gradients' model: simple regret's natural log is lower\n"
      ],
      "metadata": {
        "colab": {
          "base_uri": "https://localhost:8080/"
        },
        "id": "TYkP-rneGab3",
        "outputId": "f12ed6d0-7154-4631-b2df-b02c7da45356"
      },
      "execution_count": 110,
      "outputs": [
        {
          "output_type": "execute_result",
          "data": {
            "text/plain": [
              "True"
            ]
          },
          "metadata": {},
          "execution_count": 110
        }
      ]
    },
    {
      "cell_type": "code",
      "source": [
        "eval_exactMinIQR_minAcqFunc, eval_exactMinIQR_vsCorrApproxExperiment_minAcqFunc, eval_exactMinIQR_minAcqFunc/eval_exactMinIQR_vsCorrApproxExperiment_minAcqFunc\n"
      ],
      "metadata": {
        "id": "10rcQ55YGajh",
        "colab": {
          "base_uri": "https://localhost:8080/"
        },
        "outputId": "e3860b81-4759-4dfd-e66e-581444a5077b"
      },
      "execution_count": 111,
      "outputs": [
        {
          "output_type": "execute_result",
          "data": {
            "text/plain": [
              "(0.43860040469487427, -0.7062141396581355, -0.6210586563831647)"
            ]
          },
          "metadata": {},
          "execution_count": 111
        }
      ]
    },
    {
      "cell_type": "code",
      "source": [
        "### MinAcqFunc Comparison: Approximate Gradients\n",
        "\n",
        "approx_1minAcqFunc = approx_1.history[:-1][1::2]\n",
        "approx_2minAcqFunc = approx_2.history[:-1][1::2]\n",
        "approx_3minAcqFunc = approx_3.history[:-1][1::2]\n",
        "approx_4minAcqFunc = approx_4.history[:-1][1::2]\n",
        "approx_5minAcqFunc = approx_5.history[:-1][1::2]\n",
        "approx_6minAcqFunc = approx_6.history[:-1][1::2]\n",
        "approx_7minAcqFunc = approx_7.history[:-1][1::2]\n",
        "approx_8minAcqFunc = approx_8.history[:-1][1::2]\n",
        "approx_9minAcqFunc = approx_9.history[:-1][1::2]\n",
        "approx_10minAcqFunc = approx_10.history[:-1][1::2]\n",
        "approx_11minAcqFunc = approx_11.history[:-1][1::2]\n",
        "approx_12minAcqFunc = approx_12.history[:-1][1::2]\n",
        "approx_13minAcqFunc = approx_13.history[:-1][1::2]\n",
        "approx_14minAcqFunc = approx_14.history[:-1][1::2]\n",
        "approx_15minAcqFunc = approx_15.history[:-1][1::2]\n",
        "approx_16minAcqFunc = approx_16.history[:-1][1::2]\n",
        "approx_17minAcqFunc = approx_17.history[:-1][1::2]\n",
        "approx_18minAcqFunc = approx_18.history[:-1][1::2]\n",
        "approx_19minAcqFunc = approx_19.history[:-1][1::2]\n",
        "approx_20minAcqFunc = approx_20.history[:-1][1::2]\n"
      ],
      "metadata": {
        "id": "rN6LmSIqhYDb"
      },
      "execution_count": 112,
      "outputs": []
    },
    {
      "cell_type": "code",
      "source": [
        "### MinAcqFunc Comparison: Exact Gradients\n",
        "\n",
        "exact_1minAcqFunc = exact_1.history[:-1][1::2]\n",
        "exact_2minAcqFunc = exact_2.history[:-1][1::2]\n",
        "exact_3minAcqFunc = exact_3.history[:-1][1::2]\n",
        "exact_4minAcqFunc = exact_4.history[:-1][1::2]\n",
        "exact_5minAcqFunc = exact_5.history[:-1][1::2]\n",
        "exact_6minAcqFunc = exact_6.history[:-1][1::2]\n",
        "exact_7minAcqFunc = exact_7.history[:-1][1::2]\n",
        "exact_8minAcqFunc = exact_8.history[:-1][1::2]\n",
        "exact_9minAcqFunc = exact_9.history[:-1][1::2]\n",
        "exact_10minAcqFunc = exact_10.history[:-1][1::2]\n",
        "exact_11minAcqFunc = exact_11.history[:-1][1::2]\n",
        "exact_12minAcqFunc = exact_12.history[:-1][1::2]\n",
        "exact_13minAcqFunc = exact_13.history[:-1][1::2]\n",
        "exact_14minAcqFunc = exact_14.history[:-1][1::2]\n",
        "exact_15minAcqFunc = exact_15.history[:-1][1::2]\n",
        "exact_16minAcqFunc = exact_16.history[:-1][1::2]\n",
        "exact_17minAcqFunc = exact_17.history[:-1][1::2]\n",
        "exact_18minAcqFunc = exact_18.history[:-1][1::2]\n",
        "exact_19minAcqFunc = exact_19.history[:-1][1::2]\n",
        "exact_20minAcqFunc = exact_20.history[:-1][1::2]\n"
      ],
      "metadata": {
        "id": "8v_Qb1ZPiK1L"
      },
      "execution_count": 113,
      "outputs": []
    },
    {
      "cell_type": "code",
      "source": [
        "### MinAcqFunc Comparison: Experiment 1\n",
        "\n",
        "minAcqFuncApprox1 = np.mean(approx_1minAcqFunc)\n",
        "minAcqFuncExact1 = np.mean(exact_1minAcqFunc)\n",
        "ratio1 = minAcqFuncApprox1/minAcqFuncExact1\n",
        "approx_1.tau, exact_1.tau, minAcqFuncApprox1, minAcqFuncExact1, ratio1\n"
      ],
      "metadata": {
        "colab": {
          "base_uri": "https://localhost:8080/"
        },
        "id": "lH13qO-JJfok",
        "outputId": "ec6fb70b-f1ac-4a28-a7c3-0e52034341d5"
      },
      "execution_count": 114,
      "outputs": [
        {
          "output_type": "execute_result",
          "data": {
            "text/plain": [
              "(-12.61308775224328,\n",
              " -19.908403246996286,\n",
              " -0.600855803285608,\n",
              " 0.1535587661009806,\n",
              " -3.912872045940274)"
            ]
          },
          "metadata": {},
          "execution_count": 114
        }
      ]
    },
    {
      "cell_type": "code",
      "source": [
        "### MinAcqFunc Comparison: Experiment 2\n",
        "\n",
        "minAcqFuncApprox2 = np.mean(approx_2minAcqFunc)\n",
        "minAcqFuncExact2 = np.mean(exact_2minAcqFunc)\n",
        "ratio2 = minAcqFuncApprox2/minAcqFuncExact2\n",
        "approx_2.tau, exact_2.tau, minAcqFuncApprox2, minAcqFuncExact2, ratio2\n"
      ],
      "metadata": {
        "colab": {
          "base_uri": "https://localhost:8080/"
        },
        "id": "QWeVwVP_HPQb",
        "outputId": "aacb39f5-e75c-48e3-ffe8-405d55812bbf"
      },
      "execution_count": 115,
      "outputs": [
        {
          "output_type": "execute_result",
          "data": {
            "text/plain": [
              "(-18.964539418712707,\n",
              " -14.098729008015335,\n",
              " -0.8842678598851181,\n",
              " 0.027253056526633523,\n",
              " -32.446557288755926)"
            ]
          },
          "metadata": {},
          "execution_count": 115
        }
      ]
    },
    {
      "cell_type": "code",
      "source": [
        "### MinAcqFunc Comparison: Experiment 3\n",
        "\n",
        "minAcqFuncApprox3 = np.mean(approx_3minAcqFunc)\n",
        "minAcqFuncExact3 = np.mean(exact_3minAcqFunc)\n",
        "ratio3 = minAcqFuncApprox3/minAcqFuncExact3\n",
        "approx_3.tau, exact_3.tau, minAcqFuncApprox3, minAcqFuncExact3, ratio3\n"
      ],
      "metadata": {
        "colab": {
          "base_uri": "https://localhost:8080/"
        },
        "id": "jgGLMx0RHPUA",
        "outputId": "91e5158c-1647-4e66-d1b9-c9d39e10efdd"
      },
      "execution_count": 116,
      "outputs": [
        {
          "output_type": "execute_result",
          "data": {
            "text/plain": [
              "(-10.607662635789808,\n",
              " -10.607662635789808,\n",
              " -0.05893311372409098,\n",
              " 0.10908417666968266,\n",
              " -0.5402535502701377)"
            ]
          },
          "metadata": {},
          "execution_count": 116
        }
      ]
    },
    {
      "cell_type": "code",
      "source": [
        "### MinAcqFunc Comparison: Experiment 4\n",
        "\n",
        "minAcqFuncApprox4 = np.mean(approx_4minAcqFunc)\n",
        "minAcqFuncExact4 = np.mean(exact_4minAcqFunc)\n",
        "ratio4 = minAcqFuncApprox4/minAcqFuncExact4\n",
        "approx_4.tau, exact_4.tau, minAcqFuncApprox4, minAcqFuncExact4, ratio4\n"
      ],
      "metadata": {
        "colab": {
          "base_uri": "https://localhost:8080/"
        },
        "id": "ml1c1t4SHPXV",
        "outputId": "5eba81c2-f6b6-45f1-a33a-69abb802194c"
      },
      "execution_count": 117,
      "outputs": [
        {
          "output_type": "execute_result",
          "data": {
            "text/plain": [
              "(-9.860329751054289,\n",
              " -11.648760076640748,\n",
              " -0.7330331981328518,\n",
              " -0.5910792335805163,\n",
              " 1.2401606358126245)"
            ]
          },
          "metadata": {},
          "execution_count": 117
        }
      ]
    },
    {
      "cell_type": "code",
      "source": [
        "### MinAcqFunc Comparison: Experiment 5\n",
        "\n",
        "minAcqFuncApprox5 = np.mean(approx_5minAcqFunc)\n",
        "minAcqFuncExact5 = np.mean(exact_5minAcqFunc)\n",
        "ratio5 = minAcqFuncApprox5/minAcqFuncExact5\n",
        "approx_5.tau, exact_5.tau, minAcqFuncApprox5, minAcqFuncExact5, ratio5\n"
      ],
      "metadata": {
        "colab": {
          "base_uri": "https://localhost:8080/"
        },
        "id": "MLbsgyMiHPaf",
        "outputId": "c03b9f9e-fd48-45be-dc49-1bdc7dcf4486"
      },
      "execution_count": 118,
      "outputs": [
        {
          "output_type": "execute_result",
          "data": {
            "text/plain": [
              "(-6.434488325731507,\n",
              " -7.8108627039749745,\n",
              " -1.1594870965570356,\n",
              " -0.6779053333527515,\n",
              " 1.7103967759369885)"
            ]
          },
          "metadata": {},
          "execution_count": 118
        }
      ]
    },
    {
      "cell_type": "code",
      "source": [
        "### MinAcqFunc Comparison: Experiment 6\n",
        "\n",
        "minAcqFuncApprox6 = np.mean(approx_6minAcqFunc)\n",
        "minAcqFuncExact6 = np.mean(exact_6minAcqFunc)\n",
        "ratio6 = minAcqFuncApprox6/minAcqFuncExact6\n",
        "approx_6.tau, exact_6.tau, minAcqFuncApprox6, minAcqFuncExact6, ratio6\n"
      ],
      "metadata": {
        "colab": {
          "base_uri": "https://localhost:8080/"
        },
        "id": "0H912oKjHPfu",
        "outputId": "cf37ed13-3810-4028-a8be-f391de972a65"
      },
      "execution_count": 119,
      "outputs": [
        {
          "output_type": "execute_result",
          "data": {
            "text/plain": [
              "(-9.994000077126026,\n",
              " -6.09425576597569,\n",
              " -7.207699459789312,\n",
              " -5.534625677079452,\n",
              " 1.3022921296445686)"
            ]
          },
          "metadata": {},
          "execution_count": 119
        }
      ]
    },
    {
      "cell_type": "code",
      "source": [
        "### MinAcqFunc Comparison: Experiment 7\n",
        "\n",
        "minAcqFuncApprox7 = np.mean(approx_7minAcqFunc)\n",
        "minAcqFuncExact7 = np.mean(exact_7minAcqFunc)\n",
        "ratio7 = minAcqFuncApprox7/minAcqFuncExact7\n",
        "approx_7.tau, exact_7.tau, minAcqFuncApprox7, minAcqFuncExact7, ratio7\n"
      ],
      "metadata": {
        "colab": {
          "base_uri": "https://localhost:8080/"
        },
        "id": "qrh-IEZ3HPip",
        "outputId": "3c147a99-368d-4243-c791-31b2a06c60b2"
      },
      "execution_count": 120,
      "outputs": [
        {
          "output_type": "execute_result",
          "data": {
            "text/plain": [
              "(-13.960660037331387,\n",
              " -13.797741817806676,\n",
              " -0.020924802472307748,\n",
              " 0.5282180211293305,\n",
              " -0.03961395036763514)"
            ]
          },
          "metadata": {},
          "execution_count": 120
        }
      ]
    },
    {
      "cell_type": "code",
      "source": [
        "### MinAcqFunc Comparison: Experiment 8\n",
        "\n",
        "minAcqFuncApprox8 = np.mean(approx_8minAcqFunc)\n",
        "minAcqFuncExact8 = np.mean(exact_8minAcqFunc)\n",
        "ratio8 = minAcqFuncApprox8/minAcqFuncExact8\n",
        "approx_8.tau, exact_8.tau, minAcqFuncApprox8, minAcqFuncExact8, ratio8\n"
      ],
      "metadata": {
        "colab": {
          "base_uri": "https://localhost:8080/"
        },
        "id": "UOp-jaflHPlz",
        "outputId": "50b93bed-205a-4522-db42-e2e240d61e86"
      },
      "execution_count": 121,
      "outputs": [
        {
          "output_type": "execute_result",
          "data": {
            "text/plain": [
              "(-13.871821018360485,\n",
              " -8.957947895158993,\n",
              " -0.4933189410720136,\n",
              " -0.321882676220394,\n",
              " 1.5326048200687776)"
            ]
          },
          "metadata": {},
          "execution_count": 121
        }
      ]
    },
    {
      "cell_type": "code",
      "source": [
        "### MinAcqFunc Comparison: Experiment 9\n",
        "\n",
        "minAcqFuncApprox9 = np.mean(approx_9minAcqFunc)\n",
        "minAcqFuncExact9 = np.mean(exact_9minAcqFunc)\n",
        "ratio9 = minAcqFuncApprox9/minAcqFuncExact9\n",
        "approx_9.tau, exact_9.tau, minAcqFuncApprox9, minAcqFuncExact9, ratio9\n"
      ],
      "metadata": {
        "colab": {
          "base_uri": "https://localhost:8080/"
        },
        "id": "myU75lI6HPo4",
        "outputId": "4fa192cd-9aa4-49cb-d2ef-cbf8602dd686"
      },
      "execution_count": 122,
      "outputs": [
        {
          "output_type": "execute_result",
          "data": {
            "text/plain": [
              "(-16.795933872106065,\n",
              " -21.354462236011248,\n",
              " -0.5251461155627128,\n",
              " -0.05323262749035669,\n",
              " 9.865117322225833)"
            ]
          },
          "metadata": {},
          "execution_count": 122
        }
      ]
    },
    {
      "cell_type": "code",
      "source": [
        "### MinAcqFunc Comparison: Experiment 10\n",
        "\n",
        "minAcqFuncApprox10 = np.mean(approx_10minAcqFunc)\n",
        "minAcqFuncExact10 = np.mean(exact_10minAcqFunc)\n",
        "ratio10 = minAcqFuncApprox10/minAcqFuncExact10\n",
        "approx_10.tau, exact_10.tau, minAcqFuncApprox10, minAcqFuncExact10, ratio10\n"
      ],
      "metadata": {
        "colab": {
          "base_uri": "https://localhost:8080/"
        },
        "id": "A3mo5UftHPsk",
        "outputId": "4c22323f-f3d9-4670-c098-141a324ceedc"
      },
      "execution_count": 123,
      "outputs": [
        {
          "output_type": "execute_result",
          "data": {
            "text/plain": [
              "(-12.475659995438487,\n",
              " -9.872118292093525,\n",
              " -0.5070910150903876,\n",
              " -0.138939496475452,\n",
              " 3.649725441318128)"
            ]
          },
          "metadata": {},
          "execution_count": 123
        }
      ]
    },
    {
      "cell_type": "code",
      "source": [
        "### MinAcqFunc Comparison: Experiment 11\n",
        "\n",
        "minAcqFuncApprox11 = np.mean(approx_11minAcqFunc)\n",
        "minAcqFuncExact11 = np.mean(exact_11minAcqFunc)\n",
        "ratio11 = minAcqFuncApprox11/minAcqFuncExact11\n",
        "approx_11.tau, exact_11.tau, minAcqFuncApprox11, minAcqFuncExact11, ratio11\n"
      ],
      "metadata": {
        "colab": {
          "base_uri": "https://localhost:8080/"
        },
        "id": "TaEOW6nLLEcx",
        "outputId": "5a44c1d1-fb5f-471a-80b5-39fb01dd9884"
      },
      "execution_count": 124,
      "outputs": [
        {
          "output_type": "execute_result",
          "data": {
            "text/plain": [
              "(-10.679755252484755,\n",
              " -10.679755252484755,\n",
              " -0.27542175842882116,\n",
              " 0.29418821710740894,\n",
              " -0.9362093463052054)"
            ]
          },
          "metadata": {},
          "execution_count": 124
        }
      ]
    },
    {
      "cell_type": "code",
      "source": [
        "### MinAcqFunc Comparison: Experiment 12\n",
        "\n",
        "minAcqFuncApprox12 = np.mean(approx_12minAcqFunc)\n",
        "minAcqFuncExact12 = np.mean(exact_12minAcqFunc)\n",
        "ratio12 = minAcqFuncApprox12/minAcqFuncExact12\n",
        "approx_12.tau, exact_12.tau, minAcqFuncApprox12, minAcqFuncExact12, ratio12\n"
      ],
      "metadata": {
        "colab": {
          "base_uri": "https://localhost:8080/"
        },
        "id": "1KjJRPSwLE76",
        "outputId": "e65aa38b-779a-47bc-f0a4-0bb44798fe8f"
      },
      "execution_count": 125,
      "outputs": [
        {
          "output_type": "execute_result",
          "data": {
            "text/plain": [
              "(-8.737836661316548,\n",
              " -17.84016481948981,\n",
              " -0.659607630241973,\n",
              " 0.13097410012163663,\n",
              " -5.03616844574149)"
            ]
          },
          "metadata": {},
          "execution_count": 125
        }
      ]
    },
    {
      "cell_type": "code",
      "source": [
        "### MinAcqFunc Comparison: Experiment 13\n",
        "\n",
        "minAcqFuncApprox13 = np.mean(approx_13minAcqFunc)\n",
        "minAcqFuncExact13 = np.mean(exact_13minAcqFunc)\n",
        "ratio13 = minAcqFuncApprox13/minAcqFuncExact13\n",
        "approx_13.tau, exact_13.tau, minAcqFuncApprox13, minAcqFuncExact13, ratio13\n"
      ],
      "metadata": {
        "colab": {
          "base_uri": "https://localhost:8080/"
        },
        "id": "jCoTSHuBLFOJ",
        "outputId": "119e2c27-245d-4e1c-aa8d-bf467a32bd30"
      },
      "execution_count": 126,
      "outputs": [
        {
          "output_type": "execute_result",
          "data": {
            "text/plain": [
              "(-15.855753460551497,\n",
              " -9.312672020533597,\n",
              " -0.6271723579401133,\n",
              " -0.2845844542072416,\n",
              " 2.203818053544803)"
            ]
          },
          "metadata": {},
          "execution_count": 126
        }
      ]
    },
    {
      "cell_type": "code",
      "source": [
        "### MinAcqFunc Comparison: Experiment 14\n",
        "\n",
        "minAcqFuncApprox14 = np.mean(approx_14minAcqFunc)\n",
        "minAcqFuncExact14 = np.mean(exact_14minAcqFunc)\n",
        "ratio14 = minAcqFuncApprox14/minAcqFuncExact14\n",
        "approx_14.tau, exact_14.tau, minAcqFuncApprox14, minAcqFuncExact14, ratio14\n"
      ],
      "metadata": {
        "colab": {
          "base_uri": "https://localhost:8080/"
        },
        "id": "9_xSxWT8LFsp",
        "outputId": "847f61d5-e515-43f5-8208-0e463a0e8a60"
      },
      "execution_count": 127,
      "outputs": [
        {
          "output_type": "execute_result",
          "data": {
            "text/plain": [
              "(-10.423838604848608,\n",
              " -10.423838604848608,\n",
              " -0.6084069202004951,\n",
              " 0.005799637322855577,\n",
              " -104.90430458519306)"
            ]
          },
          "metadata": {},
          "execution_count": 127
        }
      ]
    },
    {
      "cell_type": "code",
      "source": [
        "### MinAcqFunc Comparison: Experiment 15\n",
        "\n",
        "minAcqFuncApprox15 = np.mean(approx_15minAcqFunc)\n",
        "minAcqFuncExact15 = np.mean(exact_15minAcqFunc)\n",
        "ratio15 = minAcqFuncApprox15/minAcqFuncExact15\n",
        "approx_15.tau, exact_15.tau, minAcqFuncApprox15, minAcqFuncExact15, ratio15\n"
      ],
      "metadata": {
        "colab": {
          "base_uri": "https://localhost:8080/"
        },
        "id": "vj_iCIvOLFeP",
        "outputId": "3d36b613-1102-44fa-d1c4-551ba0aa01c8"
      },
      "execution_count": 128,
      "outputs": [
        {
          "output_type": "execute_result",
          "data": {
            "text/plain": [
              "(-7.990765314336182,\n",
              " -7.990765314336182,\n",
              " -0.729423747973428,\n",
              " 0.1467612459987951,\n",
              " -4.97013869710139)"
            ]
          },
          "metadata": {},
          "execution_count": 128
        }
      ]
    },
    {
      "cell_type": "code",
      "source": [
        "### MinAcqFunc Comparison: Experiment 16\n",
        "\n",
        "minAcqFuncApprox16 = np.mean(approx_16minAcqFunc)\n",
        "minAcqFuncExact16 = np.mean(exact_16minAcqFunc)\n",
        "ratio16 = minAcqFuncApprox16/minAcqFuncExact16\n",
        "approx_16.tau, exact_16.tau, minAcqFuncApprox16, minAcqFuncExact16, ratio16\n"
      ],
      "metadata": {
        "colab": {
          "base_uri": "https://localhost:8080/"
        },
        "id": "vjFFlps7LF7A",
        "outputId": "27806748-cf44-447c-f1e3-790d086560f5"
      },
      "execution_count": 129,
      "outputs": [
        {
          "output_type": "execute_result",
          "data": {
            "text/plain": [
              "(-2.368576320081349,\n",
              " -8.28495359904246,\n",
              " -0.9603027497517749,\n",
              " 0.26613222068458253,\n",
              " -3.6083671014413428)"
            ]
          },
          "metadata": {},
          "execution_count": 129
        }
      ]
    },
    {
      "cell_type": "code",
      "source": [
        "### MinAcqFunc Comparison: Experiment 17\n",
        "\n",
        "minAcqFuncApprox17 = np.mean(approx_17minAcqFunc)\n",
        "minAcqFuncExact17 = np.mean(exact_17minAcqFunc)\n",
        "ratio17 = minAcqFuncApprox17/minAcqFuncExact17\n",
        "approx_17.tau, exact_17.tau, minAcqFuncApprox17, minAcqFuncExact17, ratio17\n"
      ],
      "metadata": {
        "colab": {
          "base_uri": "https://localhost:8080/"
        },
        "id": "jO0-nRLRLGJv",
        "outputId": "54cfad90-17c7-415c-d031-fa56e19def0f"
      },
      "execution_count": 130,
      "outputs": [
        {
          "output_type": "execute_result",
          "data": {
            "text/plain": [
              "(-11.335827303531488,\n",
              " -13.271253619274697,\n",
              " -0.49168096206092765,\n",
              " 0.3214769275898173,\n",
              " -1.5294440125055542)"
            ]
          },
          "metadata": {},
          "execution_count": 130
        }
      ]
    },
    {
      "cell_type": "code",
      "source": [
        "### MinAcqFunc Comparison: Experiment 18\n",
        "\n",
        "minAcqFuncApprox18 = np.mean(approx_18minAcqFunc)\n",
        "minAcqFuncExact18 = np.mean(exact_18minAcqFunc)\n",
        "ratio18 = minAcqFuncApprox18/minAcqFuncExact18\n",
        "approx_18.tau, exact_18.tau, minAcqFuncApprox18, minAcqFuncExact18, ratio18\n"
      ],
      "metadata": {
        "colab": {
          "base_uri": "https://localhost:8080/"
        },
        "id": "5Zo9ub4ULGXh",
        "outputId": "35015f64-1f0b-49d7-f7fe-d381215e519c"
      },
      "execution_count": 131,
      "outputs": [
        {
          "output_type": "execute_result",
          "data": {
            "text/plain": [
              "(-10.720385034438747,\n",
              " -11.996329088881167,\n",
              " -0.19900888518584509,\n",
              " 0.2766968849885886,\n",
              " -0.7192306671397928)"
            ]
          },
          "metadata": {},
          "execution_count": 131
        }
      ]
    },
    {
      "cell_type": "code",
      "source": [
        "### MinAcqFunc Comparison: Experiment 19\n",
        "\n",
        "minAcqFuncApprox19 = np.mean(approx_19minAcqFunc)\n",
        "minAcqFuncExact19 = np.mean(exact_19minAcqFunc)\n",
        "ratio19 = minAcqFuncApprox19/minAcqFuncExact19\n",
        "approx_19.tau, exact_19.tau, minAcqFuncApprox19, minAcqFuncExact19, ratio19\n"
      ],
      "metadata": {
        "colab": {
          "base_uri": "https://localhost:8080/"
        },
        "id": "1yJ_PLUFLGmh",
        "outputId": "6febd394-38ae-473b-eefb-136dc7c7a6ff"
      },
      "execution_count": 132,
      "outputs": [
        {
          "output_type": "execute_result",
          "data": {
            "text/plain": [
              "(-19.719315515292898,\n",
              " -7.034284559434696,\n",
              " -0.4218090729263584,\n",
              " -0.024015831231661844,\n",
              " 17.563792352531873)"
            ]
          },
          "metadata": {},
          "execution_count": 132
        }
      ]
    },
    {
      "cell_type": "code",
      "source": [
        "### MinAcqFunc Comparison: Experiment 20\n",
        "\n",
        "minAcqFuncApprox20 = np.mean(approx_20minAcqFunc)\n",
        "minAcqFuncExact20 = np.mean(exact_20minAcqFunc)\n",
        "ratio20 = minAcqFuncApprox20/minAcqFuncExact20\n",
        "approx_20.tau, exact_20.tau, minAcqFuncApprox20, minAcqFuncExact20, ratio20\n"
      ],
      "metadata": {
        "colab": {
          "base_uri": "https://localhost:8080/"
        },
        "id": "Sd9NxsRsLG1P",
        "outputId": "bc08d2a7-6f52-4c9c-c305-20c82e7e1ce6"
      },
      "execution_count": 133,
      "outputs": [
        {
          "output_type": "execute_result",
          "data": {
            "text/plain": [
              "(-14.25252504417292,\n",
              " -11.507601989263824,\n",
              " -0.5504724271351054,\n",
              " -0.26715297437511976,\n",
              " 2.0605139374647794)"
            ]
          },
          "metadata": {},
          "execution_count": 133
        }
      ]
    },
    {
      "cell_type": "code",
      "source": [
        "num = [1,2,3,4,5,6,7,8,9,10,11,12,13,14,15,16,17,18,19,20]\n",
        "ApproxTau = [approx_1.tau,approx_2.tau,approx_3.tau,approx_4.tau,approx_5.tau,approx_6.tau,approx_7.tau,approx_8.tau,approx_9.tau,approx_10.tau,approx_11.tau,approx_12.tau,approx_13.tau,approx_14.tau,approx_15.tau,approx_16.tau,approx_17.tau,approx_18.tau,approx_19.tau,approx_20.tau]\n",
        "ExactTau = [exact_1.tau,exact_2.tau,exact_3.tau,exact_4.tau,exact_5.tau,exact_6.tau,exact_7.tau,exact_8.tau,exact_9.tau,exact_10.tau,exact_11.tau,exact_12.tau,exact_13.tau,exact_14.tau,exact_15.tau,exact_16.tau,exact_17.tau,exact_18.tau,exact_19.tau,exact_20.tau]\n",
        "AvgMinAcqFuncExact = [minAcqFuncExact1,minAcqFuncExact2,minAcqFuncExact3,minAcqFuncExact4,minAcqFuncExact5,minAcqFuncExact6,minAcqFuncExact7,minAcqFuncExact8,minAcqFuncExact9,minAcqFuncExact10,minAcqFuncExact11,minAcqFuncExact12,minAcqFuncExact13,minAcqFuncExact14,minAcqFuncExact15,minAcqFuncExact16,minAcqFuncExact17,minAcqFuncExact18,minAcqFuncExact19,minAcqFuncExact20]\n",
        "AvgMinAcqFuncApprox = [minAcqFuncApprox1,minAcqFuncApprox2,minAcqFuncApprox3,minAcqFuncApprox4,minAcqFuncApprox5,minAcqFuncApprox6,minAcqFuncApprox7,minAcqFuncApprox8,minAcqFuncApprox9,minAcqFuncApprox10,minAcqFuncApprox11,minAcqFuncApprox12,minAcqFuncApprox13,minAcqFuncApprox14,minAcqFuncApprox15,minAcqFuncApprox16,minAcqFuncApprox17,minAcqFuncApprox18,minAcqFuncApprox19,minAcqFuncApprox20]\n",
        "ratio = [ratio1,ratio2,ratio3,ratio4,ratio5,ratio6,ratio7,ratio8,ratio9,ratio10,ratio11,ratio12,ratio13,ratio14,ratio15,ratio16,ratio17,ratio18,ratio19,ratio20]\n"
      ],
      "metadata": {
        "id": "_Fbc4r50vHHF"
      },
      "execution_count": 134,
      "outputs": []
    },
    {
      "cell_type": "code",
      "source": [
        "def greaterThan(a, b):\n",
        "  lis =[]\n",
        "  #convert to list\n",
        "  a = list(a)\n",
        "  b = list(b)\n",
        "  c = \"Yes\"\n",
        "  d = \"No\"\n",
        "  e = \"equal\"\n",
        "  for first, first_te in zip(a, b):\n",
        "      if first < first_te:\n",
        "          lis.append(d)\n",
        "      elif first > first_te:\n",
        "          lis.append(c)\n",
        "      else:\n",
        "          lis.append(e)\n",
        "  return lis\n",
        "\n",
        "greaterAcqFunc = greaterThan(AvgMinAcqFuncExact, AvgMinAcqFuncApprox)\n"
      ],
      "metadata": {
        "id": "gyTQQeQfknKX"
      },
      "execution_count": 135,
      "outputs": []
    },
    {
      "cell_type": "code",
      "source": [
        "def greaterRatio(a):\n",
        "  lis =[]\n",
        "  #convert to list\n",
        "  a = list(a)\n",
        "  b = \"Yes\"\n",
        "  c = \"No\"\n",
        "  d = \"equal\"\n",
        "  for first, in zip(a):\n",
        "      if first < 1:\n",
        "          lis.append(c)\n",
        "      elif first > 1:\n",
        "          lis.append(b)\n",
        "      else:\n",
        "          lis.append(d)\n",
        "  return lis\n",
        "\n",
        "greaterRatio = greaterRatio(ratio)\n"
      ],
      "metadata": {
        "id": "wO-_fUfpoYyP"
      },
      "execution_count": 136,
      "outputs": []
    },
    {
      "cell_type": "code",
      "source": [
        "df = pd.DataFrame(dict(Experiment=num,\n",
        "                  ExactTau=ExactTau,\n",
        "                  ApproxTau=ApproxTau,\n",
        "                  AvgMinAcqFuncExact=AvgMinAcqFuncExact,\n",
        "                  GreaterAcqFunc = greaterAcqFunc,\n",
        "                  AvgMinAcqFuncApprox=AvgMinAcqFuncApprox,\n",
        "                  Ratio = ratio,\n",
        "                  GreaterRatio = greaterRatio))\n",
        "df.sort_values(by=['ExactTau'], inplace=True, ascending=False)\n",
        "print(df.to_latex(index=False))\n"
      ],
      "metadata": {
        "colab": {
          "base_uri": "https://localhost:8080/"
        },
        "id": "4EzMdtEQV0yI",
        "outputId": "c3c95afd-5a16-4f06-dfee-469a83e287b2"
      },
      "execution_count": 137,
      "outputs": [
        {
          "output_type": "stream",
          "name": "stdout",
          "text": [
            "\\begin{tabular}{rrrrlrrl}\n",
            "\\toprule\n",
            " Experiment &   ExactTau &  ApproxTau &  AvgMinAcqFuncExact & GreaterAcqFunc &  AvgMinAcqFuncApprox &       Ratio & GreaterRatio \\\\\n",
            "\\midrule\n",
            "          6 &  -6.094256 &  -9.994000 &           -5.534626 &            Yes &            -7.207699 &    1.302292 &          Yes \\\\\n",
            "         19 &  -7.034285 & -19.719316 &           -0.024016 &            Yes &            -0.421809 &   17.563792 &          Yes \\\\\n",
            "          5 &  -7.810863 &  -6.434488 &           -0.677905 &            Yes &            -1.159487 &    1.710397 &          Yes \\\\\n",
            "         15 &  -7.990765 &  -7.990765 &            0.146761 &            Yes &            -0.729424 &   -4.970139 &           No \\\\\n",
            "         16 &  -8.284954 &  -2.368576 &            0.266132 &            Yes &            -0.960303 &   -3.608367 &           No \\\\\n",
            "          8 &  -8.957948 & -13.871821 &           -0.321883 &            Yes &            -0.493319 &    1.532605 &          Yes \\\\\n",
            "         13 &  -9.312672 & -15.855753 &           -0.284584 &            Yes &            -0.627172 &    2.203818 &          Yes \\\\\n",
            "         10 &  -9.872118 & -12.475660 &           -0.138939 &            Yes &            -0.507091 &    3.649725 &          Yes \\\\\n",
            "         14 & -10.423839 & -10.423839 &            0.005800 &            Yes &            -0.608407 & -104.904305 &           No \\\\\n",
            "          3 & -10.607663 & -10.607663 &            0.109084 &            Yes &            -0.058933 &   -0.540254 &           No \\\\\n",
            "         11 & -10.679755 & -10.679755 &            0.294188 &            Yes &            -0.275422 &   -0.936209 &           No \\\\\n",
            "         20 & -11.507602 & -14.252525 &           -0.267153 &            Yes &            -0.550472 &    2.060514 &          Yes \\\\\n",
            "          4 & -11.648760 &  -9.860330 &           -0.591079 &            Yes &            -0.733033 &    1.240161 &          Yes \\\\\n",
            "         18 & -11.996329 & -10.720385 &            0.276697 &            Yes &            -0.199009 &   -0.719231 &           No \\\\\n",
            "         17 & -13.271254 & -11.335827 &            0.321477 &            Yes &            -0.491681 &   -1.529444 &           No \\\\\n",
            "          7 & -13.797742 & -13.960660 &            0.528218 &            Yes &            -0.020925 &   -0.039614 &           No \\\\\n",
            "          2 & -14.098729 & -18.964539 &            0.027253 &            Yes &            -0.884268 &  -32.446557 &           No \\\\\n",
            "         12 & -17.840165 &  -8.737837 &            0.130974 &            Yes &            -0.659608 &   -5.036168 &           No \\\\\n",
            "          1 & -19.908403 & -12.613088 &            0.153559 &            Yes &            -0.600856 &   -3.912872 &           No \\\\\n",
            "          9 & -21.354462 & -16.795934 &           -0.053233 &            Yes &            -0.525146 &    9.865117 &          Yes \\\\\n",
            "\\bottomrule\n",
            "\\end{tabular}\n",
            "\n"
          ]
        }
      ]
    },
    {
      "cell_type": "code",
      "source": [
        "avg_list = ['ExactTau', 'ApproxTau', 'AvgMinAcqFuncExact','AvgMinAcqFuncApprox']\n",
        "avg = df[avg_list].mean()\n",
        "avg.name = 'Average'\n",
        "df = df.append(avg.transpose())\n",
        "df.fillna(value='', inplace=True)\n",
        "df\n"
      ],
      "metadata": {
        "id": "HQ6-zjAHD43j",
        "colab": {
          "base_uri": "https://localhost:8080/",
          "height": 708
        },
        "outputId": "7d40ce61-09e5-4d7e-f552-457f3d4f98a4"
      },
      "execution_count": 138,
      "outputs": [
        {
          "output_type": "execute_result",
          "data": {
            "text/plain": [
              "        Experiment   ExactTau  ApproxTau  AvgMinAcqFuncExact GreaterAcqFunc  \\\n",
              "5              6.0  -6.094256  -9.994000           -5.534626            Yes   \n",
              "18            19.0  -7.034285 -19.719316           -0.024016            Yes   \n",
              "4              5.0  -7.810863  -6.434488           -0.677905            Yes   \n",
              "14            15.0  -7.990765  -7.990765            0.146761            Yes   \n",
              "15            16.0  -8.284954  -2.368576            0.266132            Yes   \n",
              "7              8.0  -8.957948 -13.871821           -0.321883            Yes   \n",
              "12            13.0  -9.312672 -15.855753           -0.284584            Yes   \n",
              "9             10.0  -9.872118 -12.475660           -0.138939            Yes   \n",
              "13            14.0 -10.423839 -10.423839            0.005800            Yes   \n",
              "2              3.0 -10.607663 -10.607663            0.109084            Yes   \n",
              "10            11.0 -10.679755 -10.679755            0.294188            Yes   \n",
              "19            20.0 -11.507602 -14.252525           -0.267153            Yes   \n",
              "3              4.0 -11.648760  -9.860330           -0.591079            Yes   \n",
              "17            18.0 -11.996329 -10.720385            0.276697            Yes   \n",
              "16            17.0 -13.271254 -11.335827            0.321477            Yes   \n",
              "6              7.0 -13.797742 -13.960660            0.528218            Yes   \n",
              "1              2.0 -14.098729 -18.964539            0.027253            Yes   \n",
              "11            12.0 -17.840165  -8.737837            0.130974            Yes   \n",
              "0              1.0 -19.908403 -12.613088            0.153559            Yes   \n",
              "8              9.0 -21.354462 -16.795934           -0.053233            Yes   \n",
              "Average            -11.624628 -11.883138           -0.281664                  \n",
              "\n",
              "         AvgMinAcqFuncApprox       Ratio GreaterRatio  \n",
              "5                  -7.207699    1.302292          Yes  \n",
              "18                 -0.421809   17.563792          Yes  \n",
              "4                  -1.159487    1.710397          Yes  \n",
              "14                 -0.729424   -4.970139           No  \n",
              "15                 -0.960303   -3.608367           No  \n",
              "7                  -0.493319    1.532605          Yes  \n",
              "12                 -0.627172    2.203818          Yes  \n",
              "9                  -0.507091    3.649725          Yes  \n",
              "13                 -0.608407 -104.904305           No  \n",
              "2                  -0.058933   -0.540254           No  \n",
              "10                 -0.275422   -0.936209           No  \n",
              "19                 -0.550472    2.060514          Yes  \n",
              "3                  -0.733033    1.240161          Yes  \n",
              "17                 -0.199009   -0.719231           No  \n",
              "16                 -0.491681   -1.529444           No  \n",
              "6                  -0.020925   -0.039614           No  \n",
              "1                  -0.884268  -32.446557           No  \n",
              "11                 -0.659608   -5.036168           No  \n",
              "0                  -0.600856   -3.912872           No  \n",
              "8                  -0.525146    9.865117          Yes  \n",
              "Average            -0.885703                           "
            ],
            "text/html": [
              "\n",
              "  <div id=\"df-9ba5a3c1-36cc-4d4d-be57-c032fd7ad8c8\">\n",
              "    <div class=\"colab-df-container\">\n",
              "      <div>\n",
              "<style scoped>\n",
              "    .dataframe tbody tr th:only-of-type {\n",
              "        vertical-align: middle;\n",
              "    }\n",
              "\n",
              "    .dataframe tbody tr th {\n",
              "        vertical-align: top;\n",
              "    }\n",
              "\n",
              "    .dataframe thead th {\n",
              "        text-align: right;\n",
              "    }\n",
              "</style>\n",
              "<table border=\"1\" class=\"dataframe\">\n",
              "  <thead>\n",
              "    <tr style=\"text-align: right;\">\n",
              "      <th></th>\n",
              "      <th>Experiment</th>\n",
              "      <th>ExactTau</th>\n",
              "      <th>ApproxTau</th>\n",
              "      <th>AvgMinAcqFuncExact</th>\n",
              "      <th>GreaterAcqFunc</th>\n",
              "      <th>AvgMinAcqFuncApprox</th>\n",
              "      <th>Ratio</th>\n",
              "      <th>GreaterRatio</th>\n",
              "    </tr>\n",
              "  </thead>\n",
              "  <tbody>\n",
              "    <tr>\n",
              "      <th>5</th>\n",
              "      <td>6.0</td>\n",
              "      <td>-6.094256</td>\n",
              "      <td>-9.994000</td>\n",
              "      <td>-5.534626</td>\n",
              "      <td>Yes</td>\n",
              "      <td>-7.207699</td>\n",
              "      <td>1.302292</td>\n",
              "      <td>Yes</td>\n",
              "    </tr>\n",
              "    <tr>\n",
              "      <th>18</th>\n",
              "      <td>19.0</td>\n",
              "      <td>-7.034285</td>\n",
              "      <td>-19.719316</td>\n",
              "      <td>-0.024016</td>\n",
              "      <td>Yes</td>\n",
              "      <td>-0.421809</td>\n",
              "      <td>17.563792</td>\n",
              "      <td>Yes</td>\n",
              "    </tr>\n",
              "    <tr>\n",
              "      <th>4</th>\n",
              "      <td>5.0</td>\n",
              "      <td>-7.810863</td>\n",
              "      <td>-6.434488</td>\n",
              "      <td>-0.677905</td>\n",
              "      <td>Yes</td>\n",
              "      <td>-1.159487</td>\n",
              "      <td>1.710397</td>\n",
              "      <td>Yes</td>\n",
              "    </tr>\n",
              "    <tr>\n",
              "      <th>14</th>\n",
              "      <td>15.0</td>\n",
              "      <td>-7.990765</td>\n",
              "      <td>-7.990765</td>\n",
              "      <td>0.146761</td>\n",
              "      <td>Yes</td>\n",
              "      <td>-0.729424</td>\n",
              "      <td>-4.970139</td>\n",
              "      <td>No</td>\n",
              "    </tr>\n",
              "    <tr>\n",
              "      <th>15</th>\n",
              "      <td>16.0</td>\n",
              "      <td>-8.284954</td>\n",
              "      <td>-2.368576</td>\n",
              "      <td>0.266132</td>\n",
              "      <td>Yes</td>\n",
              "      <td>-0.960303</td>\n",
              "      <td>-3.608367</td>\n",
              "      <td>No</td>\n",
              "    </tr>\n",
              "    <tr>\n",
              "      <th>7</th>\n",
              "      <td>8.0</td>\n",
              "      <td>-8.957948</td>\n",
              "      <td>-13.871821</td>\n",
              "      <td>-0.321883</td>\n",
              "      <td>Yes</td>\n",
              "      <td>-0.493319</td>\n",
              "      <td>1.532605</td>\n",
              "      <td>Yes</td>\n",
              "    </tr>\n",
              "    <tr>\n",
              "      <th>12</th>\n",
              "      <td>13.0</td>\n",
              "      <td>-9.312672</td>\n",
              "      <td>-15.855753</td>\n",
              "      <td>-0.284584</td>\n",
              "      <td>Yes</td>\n",
              "      <td>-0.627172</td>\n",
              "      <td>2.203818</td>\n",
              "      <td>Yes</td>\n",
              "    </tr>\n",
              "    <tr>\n",
              "      <th>9</th>\n",
              "      <td>10.0</td>\n",
              "      <td>-9.872118</td>\n",
              "      <td>-12.475660</td>\n",
              "      <td>-0.138939</td>\n",
              "      <td>Yes</td>\n",
              "      <td>-0.507091</td>\n",
              "      <td>3.649725</td>\n",
              "      <td>Yes</td>\n",
              "    </tr>\n",
              "    <tr>\n",
              "      <th>13</th>\n",
              "      <td>14.0</td>\n",
              "      <td>-10.423839</td>\n",
              "      <td>-10.423839</td>\n",
              "      <td>0.005800</td>\n",
              "      <td>Yes</td>\n",
              "      <td>-0.608407</td>\n",
              "      <td>-104.904305</td>\n",
              "      <td>No</td>\n",
              "    </tr>\n",
              "    <tr>\n",
              "      <th>2</th>\n",
              "      <td>3.0</td>\n",
              "      <td>-10.607663</td>\n",
              "      <td>-10.607663</td>\n",
              "      <td>0.109084</td>\n",
              "      <td>Yes</td>\n",
              "      <td>-0.058933</td>\n",
              "      <td>-0.540254</td>\n",
              "      <td>No</td>\n",
              "    </tr>\n",
              "    <tr>\n",
              "      <th>10</th>\n",
              "      <td>11.0</td>\n",
              "      <td>-10.679755</td>\n",
              "      <td>-10.679755</td>\n",
              "      <td>0.294188</td>\n",
              "      <td>Yes</td>\n",
              "      <td>-0.275422</td>\n",
              "      <td>-0.936209</td>\n",
              "      <td>No</td>\n",
              "    </tr>\n",
              "    <tr>\n",
              "      <th>19</th>\n",
              "      <td>20.0</td>\n",
              "      <td>-11.507602</td>\n",
              "      <td>-14.252525</td>\n",
              "      <td>-0.267153</td>\n",
              "      <td>Yes</td>\n",
              "      <td>-0.550472</td>\n",
              "      <td>2.060514</td>\n",
              "      <td>Yes</td>\n",
              "    </tr>\n",
              "    <tr>\n",
              "      <th>3</th>\n",
              "      <td>4.0</td>\n",
              "      <td>-11.648760</td>\n",
              "      <td>-9.860330</td>\n",
              "      <td>-0.591079</td>\n",
              "      <td>Yes</td>\n",
              "      <td>-0.733033</td>\n",
              "      <td>1.240161</td>\n",
              "      <td>Yes</td>\n",
              "    </tr>\n",
              "    <tr>\n",
              "      <th>17</th>\n",
              "      <td>18.0</td>\n",
              "      <td>-11.996329</td>\n",
              "      <td>-10.720385</td>\n",
              "      <td>0.276697</td>\n",
              "      <td>Yes</td>\n",
              "      <td>-0.199009</td>\n",
              "      <td>-0.719231</td>\n",
              "      <td>No</td>\n",
              "    </tr>\n",
              "    <tr>\n",
              "      <th>16</th>\n",
              "      <td>17.0</td>\n",
              "      <td>-13.271254</td>\n",
              "      <td>-11.335827</td>\n",
              "      <td>0.321477</td>\n",
              "      <td>Yes</td>\n",
              "      <td>-0.491681</td>\n",
              "      <td>-1.529444</td>\n",
              "      <td>No</td>\n",
              "    </tr>\n",
              "    <tr>\n",
              "      <th>6</th>\n",
              "      <td>7.0</td>\n",
              "      <td>-13.797742</td>\n",
              "      <td>-13.960660</td>\n",
              "      <td>0.528218</td>\n",
              "      <td>Yes</td>\n",
              "      <td>-0.020925</td>\n",
              "      <td>-0.039614</td>\n",
              "      <td>No</td>\n",
              "    </tr>\n",
              "    <tr>\n",
              "      <th>1</th>\n",
              "      <td>2.0</td>\n",
              "      <td>-14.098729</td>\n",
              "      <td>-18.964539</td>\n",
              "      <td>0.027253</td>\n",
              "      <td>Yes</td>\n",
              "      <td>-0.884268</td>\n",
              "      <td>-32.446557</td>\n",
              "      <td>No</td>\n",
              "    </tr>\n",
              "    <tr>\n",
              "      <th>11</th>\n",
              "      <td>12.0</td>\n",
              "      <td>-17.840165</td>\n",
              "      <td>-8.737837</td>\n",
              "      <td>0.130974</td>\n",
              "      <td>Yes</td>\n",
              "      <td>-0.659608</td>\n",
              "      <td>-5.036168</td>\n",
              "      <td>No</td>\n",
              "    </tr>\n",
              "    <tr>\n",
              "      <th>0</th>\n",
              "      <td>1.0</td>\n",
              "      <td>-19.908403</td>\n",
              "      <td>-12.613088</td>\n",
              "      <td>0.153559</td>\n",
              "      <td>Yes</td>\n",
              "      <td>-0.600856</td>\n",
              "      <td>-3.912872</td>\n",
              "      <td>No</td>\n",
              "    </tr>\n",
              "    <tr>\n",
              "      <th>8</th>\n",
              "      <td>9.0</td>\n",
              "      <td>-21.354462</td>\n",
              "      <td>-16.795934</td>\n",
              "      <td>-0.053233</td>\n",
              "      <td>Yes</td>\n",
              "      <td>-0.525146</td>\n",
              "      <td>9.865117</td>\n",
              "      <td>Yes</td>\n",
              "    </tr>\n",
              "    <tr>\n",
              "      <th>Average</th>\n",
              "      <td></td>\n",
              "      <td>-11.624628</td>\n",
              "      <td>-11.883138</td>\n",
              "      <td>-0.281664</td>\n",
              "      <td></td>\n",
              "      <td>-0.885703</td>\n",
              "      <td></td>\n",
              "      <td></td>\n",
              "    </tr>\n",
              "  </tbody>\n",
              "</table>\n",
              "</div>\n",
              "      <button class=\"colab-df-convert\" onclick=\"convertToInteractive('df-9ba5a3c1-36cc-4d4d-be57-c032fd7ad8c8')\"\n",
              "              title=\"Convert this dataframe to an interactive table.\"\n",
              "              style=\"display:none;\">\n",
              "        \n",
              "  <svg xmlns=\"http://www.w3.org/2000/svg\" height=\"24px\"viewBox=\"0 0 24 24\"\n",
              "       width=\"24px\">\n",
              "    <path d=\"M0 0h24v24H0V0z\" fill=\"none\"/>\n",
              "    <path d=\"M18.56 5.44l.94 2.06.94-2.06 2.06-.94-2.06-.94-.94-2.06-.94 2.06-2.06.94zm-11 1L8.5 8.5l.94-2.06 2.06-.94-2.06-.94L8.5 2.5l-.94 2.06-2.06.94zm10 10l.94 2.06.94-2.06 2.06-.94-2.06-.94-.94-2.06-.94 2.06-2.06.94z\"/><path d=\"M17.41 7.96l-1.37-1.37c-.4-.4-.92-.59-1.43-.59-.52 0-1.04.2-1.43.59L10.3 9.45l-7.72 7.72c-.78.78-.78 2.05 0 2.83L4 21.41c.39.39.9.59 1.41.59.51 0 1.02-.2 1.41-.59l7.78-7.78 2.81-2.81c.8-.78.8-2.07 0-2.86zM5.41 20L4 18.59l7.72-7.72 1.47 1.35L5.41 20z\"/>\n",
              "  </svg>\n",
              "      </button>\n",
              "      \n",
              "  <style>\n",
              "    .colab-df-container {\n",
              "      display:flex;\n",
              "      flex-wrap:wrap;\n",
              "      gap: 12px;\n",
              "    }\n",
              "\n",
              "    .colab-df-convert {\n",
              "      background-color: #E8F0FE;\n",
              "      border: none;\n",
              "      border-radius: 50%;\n",
              "      cursor: pointer;\n",
              "      display: none;\n",
              "      fill: #1967D2;\n",
              "      height: 32px;\n",
              "      padding: 0 0 0 0;\n",
              "      width: 32px;\n",
              "    }\n",
              "\n",
              "    .colab-df-convert:hover {\n",
              "      background-color: #E2EBFA;\n",
              "      box-shadow: 0px 1px 2px rgba(60, 64, 67, 0.3), 0px 1px 3px 1px rgba(60, 64, 67, 0.15);\n",
              "      fill: #174EA6;\n",
              "    }\n",
              "\n",
              "    [theme=dark] .colab-df-convert {\n",
              "      background-color: #3B4455;\n",
              "      fill: #D2E3FC;\n",
              "    }\n",
              "\n",
              "    [theme=dark] .colab-df-convert:hover {\n",
              "      background-color: #434B5C;\n",
              "      box-shadow: 0px 1px 3px 1px rgba(0, 0, 0, 0.15);\n",
              "      filter: drop-shadow(0px 1px 2px rgba(0, 0, 0, 0.3));\n",
              "      fill: #FFFFFF;\n",
              "    }\n",
              "  </style>\n",
              "\n",
              "      <script>\n",
              "        const buttonEl =\n",
              "          document.querySelector('#df-9ba5a3c1-36cc-4d4d-be57-c032fd7ad8c8 button.colab-df-convert');\n",
              "        buttonEl.style.display =\n",
              "          google.colab.kernel.accessAllowed ? 'block' : 'none';\n",
              "\n",
              "        async function convertToInteractive(key) {\n",
              "          const element = document.querySelector('#df-9ba5a3c1-36cc-4d4d-be57-c032fd7ad8c8');\n",
              "          const dataTable =\n",
              "            await google.colab.kernel.invokeFunction('convertToInteractive',\n",
              "                                                     [key], {});\n",
              "          if (!dataTable) return;\n",
              "\n",
              "          const docLinkHtml = 'Like what you see? Visit the ' +\n",
              "            '<a target=\"_blank\" href=https://colab.research.google.com/notebooks/data_table.ipynb>data table notebook</a>'\n",
              "            + ' to learn more about interactive tables.';\n",
              "          element.innerHTML = '';\n",
              "          dataTable['output_type'] = 'display_data';\n",
              "          await google.colab.output.renderOutput(dataTable, element);\n",
              "          const docLink = document.createElement('div');\n",
              "          docLink.innerHTML = docLinkHtml;\n",
              "          element.appendChild(docLink);\n",
              "        }\n",
              "      </script>\n",
              "    </div>\n",
              "  </div>\n",
              "  "
            ]
          },
          "metadata": {},
          "execution_count": 138
        }
      ]
    },
    {
      "cell_type": "code",
      "source": [
        "print('Ratio of Average ExactTau to Average ApproxTau:', np.round(avg[1]/avg[0], 5))\n",
        "print('Ratio of Average AvgMinAcqFuncExact to Average AvgMinAcqFuncApprox:', np.round(avg[3]/avg[2], 5))\n",
        "print('Number of experiments where AvgMinAcqFuncExact exceeds AvgMinAcqFuncApprox:', df['GreaterAcqFunc'].value_counts()['Yes'])\n",
        "print('Number of experiments where Ratio exceeds 1.0:', df['GreaterRatio'].value_counts()['Yes'])\n"
      ],
      "metadata": {
        "colab": {
          "base_uri": "https://localhost:8080/"
        },
        "outputId": "f9b9ad5d-8041-45fd-ce0c-109129fce3bb",
        "id": "S0Tbm8pIKLkU"
      },
      "execution_count": 139,
      "outputs": [
        {
          "output_type": "stream",
          "name": "stdout",
          "text": [
            "Ratio of Average ExactTau to Average ApproxTau: 1.02224\n",
            "Ratio of Average AvgMinAcqFuncExact to Average AvgMinAcqFuncApprox: 3.14454\n",
            "Number of experiments where AvgMinAcqFuncExact exceeds AvgMinAcqFuncApprox: 20\n",
            "Number of experiments where Ratio exceeds 1.0: 9\n"
          ]
        }
      ]
    },
    {
      "cell_type": "code",
      "source": [
        ""
      ],
      "metadata": {
        "id": "mJ5IBplCPgWq"
      },
      "execution_count": 139,
      "outputs": []
    }
  ]
}