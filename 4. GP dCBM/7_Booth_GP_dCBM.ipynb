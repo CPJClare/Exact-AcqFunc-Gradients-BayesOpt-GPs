{
  "cells": [
    {
      "cell_type": "markdown",
      "metadata": {
        "id": "Dqn4dFx7Z2Ir"
      },
      "source": [
        "\n",
        "Booth: 2D\n"
      ]
    },
    {
      "cell_type": "code",
      "execution_count": 1,
      "metadata": {
        "colab": {
          "base_uri": "https://localhost:8080/"
        },
        "id": "MJTM_GZZZb5x",
        "outputId": "c7390094-14c7-4727-9646-7d775712fd6d"
      },
      "outputs": [
        {
          "output_type": "stream",
          "name": "stdout",
          "text": [
            "Looking in indexes: https://pypi.org/simple, https://us-python.pkg.dev/colab-wheels/public/simple/\n",
            "Collecting pyGPGO\n",
            "  Downloading pyGPGO-0.5.1.tar.gz (14 kB)\n",
            "Requirement already satisfied: numpy in /usr/local/lib/python3.7/dist-packages (from pyGPGO) (1.21.6)\n",
            "Requirement already satisfied: mkl in /usr/local/lib/python3.7/dist-packages (from pyGPGO) (2019.0)\n",
            "Requirement already satisfied: scipy in /usr/local/lib/python3.7/dist-packages (from pyGPGO) (1.7.3)\n",
            "Requirement already satisfied: joblib in /usr/local/lib/python3.7/dist-packages (from pyGPGO) (1.1.0)\n",
            "Requirement already satisfied: scikit-learn in /usr/local/lib/python3.7/dist-packages (from pyGPGO) (1.0.2)\n",
            "Requirement already satisfied: Theano-PyMC in /usr/local/lib/python3.7/dist-packages (from pyGPGO) (1.1.2)\n",
            "Requirement already satisfied: pyMC3 in /usr/local/lib/python3.7/dist-packages (from pyGPGO) (3.11.5)\n",
            "Requirement already satisfied: intel-openmp in /usr/local/lib/python3.7/dist-packages (from mkl->pyGPGO) (2022.1.0)\n",
            "Requirement already satisfied: typing-extensions>=3.7.4 in /usr/local/lib/python3.7/dist-packages (from pyMC3->pyGPGO) (4.1.1)\n",
            "Requirement already satisfied: cachetools>=4.2.1 in /usr/local/lib/python3.7/dist-packages (from pyMC3->pyGPGO) (4.2.4)\n",
            "Requirement already satisfied: semver>=2.13.0 in /usr/local/lib/python3.7/dist-packages (from pyMC3->pyGPGO) (2.13.0)\n",
            "Requirement already satisfied: dill in /usr/local/lib/python3.7/dist-packages (from pyMC3->pyGPGO) (0.3.5.1)\n",
            "Requirement already satisfied: arviz>=0.11.0 in /usr/local/lib/python3.7/dist-packages (from pyMC3->pyGPGO) (0.12.1)\n",
            "Requirement already satisfied: fastprogress>=0.2.0 in /usr/local/lib/python3.7/dist-packages (from pyMC3->pyGPGO) (1.0.3)\n",
            "Requirement already satisfied: pandas>=0.24.0 in /usr/local/lib/python3.7/dist-packages (from pyMC3->pyGPGO) (1.3.5)\n",
            "Requirement already satisfied: deprecat in /usr/local/lib/python3.7/dist-packages (from pyMC3->pyGPGO) (2.1.1)\n",
            "Requirement already satisfied: patsy>=0.5.1 in /usr/local/lib/python3.7/dist-packages (from pyMC3->pyGPGO) (0.5.2)\n",
            "Requirement already satisfied: filelock in /usr/local/lib/python3.7/dist-packages (from Theano-PyMC->pyGPGO) (3.7.1)\n",
            "Requirement already satisfied: netcdf4 in /usr/local/lib/python3.7/dist-packages (from arviz>=0.11.0->pyMC3->pyGPGO) (1.6.0)\n",
            "Requirement already satisfied: packaging in /usr/local/lib/python3.7/dist-packages (from arviz>=0.11.0->pyMC3->pyGPGO) (21.3)\n",
            "Requirement already satisfied: matplotlib>=3.0 in /usr/local/lib/python3.7/dist-packages (from arviz>=0.11.0->pyMC3->pyGPGO) (3.2.2)\n",
            "Requirement already satisfied: xarray>=0.16.1 in /usr/local/lib/python3.7/dist-packages (from arviz>=0.11.0->pyMC3->pyGPGO) (0.20.2)\n",
            "Requirement already satisfied: setuptools>=38.4 in /usr/local/lib/python3.7/dist-packages (from arviz>=0.11.0->pyMC3->pyGPGO) (57.4.0)\n",
            "Requirement already satisfied: xarray-einstats>=0.2 in /usr/local/lib/python3.7/dist-packages (from arviz>=0.11.0->pyMC3->pyGPGO) (0.2.2)\n",
            "Requirement already satisfied: kiwisolver>=1.0.1 in /usr/local/lib/python3.7/dist-packages (from matplotlib>=3.0->arviz>=0.11.0->pyMC3->pyGPGO) (1.4.4)\n",
            "Requirement already satisfied: cycler>=0.10 in /usr/local/lib/python3.7/dist-packages (from matplotlib>=3.0->arviz>=0.11.0->pyMC3->pyGPGO) (0.11.0)\n",
            "Requirement already satisfied: python-dateutil>=2.1 in /usr/local/lib/python3.7/dist-packages (from matplotlib>=3.0->arviz>=0.11.0->pyMC3->pyGPGO) (2.8.2)\n",
            "Requirement already satisfied: pyparsing!=2.0.4,!=2.1.2,!=2.1.6,>=2.0.1 in /usr/local/lib/python3.7/dist-packages (from matplotlib>=3.0->arviz>=0.11.0->pyMC3->pyGPGO) (3.0.9)\n",
            "Requirement already satisfied: pytz>=2017.3 in /usr/local/lib/python3.7/dist-packages (from pandas>=0.24.0->pyMC3->pyGPGO) (2022.1)\n",
            "Requirement already satisfied: six in /usr/local/lib/python3.7/dist-packages (from patsy>=0.5.1->pyMC3->pyGPGO) (1.15.0)\n",
            "Requirement already satisfied: importlib-metadata in /usr/local/lib/python3.7/dist-packages (from xarray>=0.16.1->arviz>=0.11.0->pyMC3->pyGPGO) (4.12.0)\n",
            "Requirement already satisfied: wrapt<2,>=1.10 in /usr/local/lib/python3.7/dist-packages (from deprecat->pyMC3->pyGPGO) (1.14.1)\n",
            "Requirement already satisfied: zipp>=0.5 in /usr/local/lib/python3.7/dist-packages (from importlib-metadata->xarray>=0.16.1->arviz>=0.11.0->pyMC3->pyGPGO) (3.8.1)\n",
            "Requirement already satisfied: cftime in /usr/local/lib/python3.7/dist-packages (from netcdf4->arviz>=0.11.0->pyMC3->pyGPGO) (1.6.1)\n",
            "Requirement already satisfied: threadpoolctl>=2.0.0 in /usr/local/lib/python3.7/dist-packages (from scikit-learn->pyGPGO) (3.1.0)\n",
            "Building wheels for collected packages: pyGPGO\n",
            "  Building wheel for pyGPGO (setup.py) ... \u001b[?25l\u001b[?25hdone\n",
            "  Created wheel for pyGPGO: filename=pyGPGO-0.5.1-py3-none-any.whl size=19879 sha256=4426f1ac23ba620465ee4f85ff066bfaf9d27b0e9dcbc836bee5552d262fbb12\n",
            "  Stored in directory: /root/.cache/pip/wheels/c8/5d/0b/2160114e2f1b87791c51b66cf07f89831dbb6f49167950316f\n",
            "Successfully built pyGPGO\n",
            "Installing collected packages: pyGPGO\n",
            "Successfully installed pyGPGO-0.5.1\n"
          ]
        }
      ],
      "source": [
        "pip install pyGPGO\n"
      ]
    },
    {
      "cell_type": "code",
      "execution_count": 2,
      "metadata": {
        "id": "ZJSSPbwPaEUB"
      },
      "outputs": [],
      "source": [
        "### Import:\n",
        "\n",
        "import numpy as np\n",
        "import scipy as sp\n",
        "import pandas as pd\n",
        "import matplotlib.pyplot as plt\n",
        "import warnings\n",
        "import itertools\n",
        "\n",
        "from pyGPGO.GPGO import GPGO\n",
        "from pyGPGO.surrogates.GaussianProcess import GaussianProcess\n",
        "from pyGPGO.acquisition import Acquisition\n",
        "from pyGPGO.covfunc import squaredExponential\n",
        "\n",
        "from joblib import Parallel, delayed\n",
        "from numpy.linalg import solve, cholesky\n",
        "from scipy.spatial.distance import cdist\n",
        "from scipy.optimize import minimize\n",
        "from scipy.stats import norm\n",
        "import time\n",
        "\n",
        "warnings.filterwarnings(\"ignore\", category=RuntimeWarning)\n"
      ]
    },
    {
      "cell_type": "code",
      "execution_count": 3,
      "metadata": {
        "id": "OeYcTUNoaJWa"
      },
      "outputs": [],
      "source": [
        "### Inputs:\n",
        "\n",
        "func = 'Booth'\n",
        "n_test = 500\n",
        "eps = 1e-08\n",
        "\n",
        "util = 'CBM'\n",
        "\n",
        "n_init = 5 # random initialisations\n",
        "iters = 20\n",
        "opt = True"
      ]
    },
    {
      "cell_type": "code",
      "execution_count": 4,
      "metadata": {
        "id": "xpaEOjdzaPMS"
      },
      "outputs": [],
      "source": [
        "### Objective Function - Booth(x) 2-D:\n",
        "\n",
        "def objfunc(x1_training, x2_training):\n",
        "            return  operator * ( (x1_training + 2 * x2_training -7) ** 2 +\n",
        "                                 (2 * x1_training + x2_training -5) ** 2\n",
        "                            )\n",
        "        \n",
        "# Constraints:\n",
        "lb = -10\n",
        "ub = +10\n",
        "    \n",
        "# Input array dimension(s):\n",
        "dim = 2\n",
        "\n",
        "# 2-D inputs' parameter bounds:\n",
        "param = {'x1_training': ('cont', [lb, ub]),\n",
        "                 'x2_training': ('cont', [lb, ub])\n",
        "                 }\n",
        "    \n",
        "# True y bounds:\n",
        "y_lb = 0\n",
        "operator = -1 # targets global minimum \n",
        "y_global_orig = y_lb * operator # targets global minimum\n",
        "    \n",
        "# Test data:\n",
        "x1_test = np.linspace(lb, ub, n_test)\n",
        "x2_test = np.linspace(lb, ub, n_test)\n",
        "x_test = np.column_stack((x1_test, x2_test))\n"
      ]
    },
    {
      "cell_type": "code",
      "execution_count": 5,
      "metadata": {
        "id": "eYpI3Zm4aGxi"
      },
      "outputs": [],
      "source": [
        "n_start_AcqFunc = iters\n",
        "inverse = -1\n"
      ]
    },
    {
      "cell_type": "code",
      "execution_count": 6,
      "metadata": {
        "id": "oO_GUmOoaV0T"
      },
      "outputs": [],
      "source": [
        "### Cumulative Regret Calculators:\n",
        "\n",
        "def min_max_array(x):\n",
        "    new_list = []\n",
        "    for i, num in enumerate(x):\n",
        "            new_list.append(np.min(x[0:i+1]))\n",
        "    return new_list\n",
        "  \n",
        "def acqFuncExact(x):\n",
        "    new_array = []\n",
        "    x = np.array(x) \n",
        "    for i, num in enumerate(x):\n",
        "            new_array = x[:-2][::-3]\n",
        "    return new_array[::-1]\n",
        "\n",
        "def acqFuncApprox(x):\n",
        "    new_array = []\n",
        "    x = np.array(x) \n",
        "    for i, num in enumerate(x):\n",
        "            new_array = x[:-1][::-3]\n",
        "    return new_array[::-1]\n"
      ]
    },
    {
      "cell_type": "code",
      "execution_count": 7,
      "metadata": {
        "id": "kuuJx0IMam9S"
      },
      "outputs": [],
      "source": [
        "### Surrogate derivatives: \n",
        "\n",
        "cov_func = squaredExponential()\n",
        "\n",
        "def kronDelta(X, Xstar):                     # Kronecker's Delta method\n",
        "    return cdist(X, Xstar) < np.finfo(np.float32).eps\n",
        "\n",
        "def se(X, Xstar, sigmaf, l, sigman):         # S.E. kernel method\n",
        "    return sigmaf * np.exp(-0.5 * cdist(X, Xstar) ** 2 / l ** 2) + sigman * kronDelta(X, Xstar)\n",
        "\n",
        "def delta(X, Xstar):                         # Distance between training X and test Xstar vectors\n",
        "    return (X - Xstar)\n",
        "   \n",
        "def der_covmat(X, Xstar, sigmaf, l, sigman): # Covariance matrix derivative terms (i.e. exact, first-order)\n",
        "    nx = len(X)\n",
        "    ny = len(Xstar)\n",
        "    return np.round(np.array([(delta(np.atleast_2d(i), np.atleast_2d(j))[0] * se(np.atleast_2d(i), np.atleast_2d(j), sigmaf, l, sigman)[0]).sum() for (i, j) in itertools.product(X, Xstar)]).reshape(nx, ny), 8)\n",
        "\n",
        "class dGaussianProcess(GaussianProcess):    # Via inheritance, also optimises hyperparameters when opt = TRUE\n",
        "    \n",
        "    def AcqGrad(self, Xstar):               # Method returning exact, first-order derivatives of the GP's posterior mean and standard deviation\n",
        "        Xstar = np.atleast_2d(Xstar)\n",
        "        Kstar = self.covfunc.K(self.X, Xstar).T\n",
        "        \n",
        "        dKstar = der_covmat(self.X, Xstar, self.covfunc.sigmaf, self.covfunc.l, self.covfunc.sigman).T\n",
        "        alpha_Kstar = np.dot(np.linalg.inv(self.K + (self.covfunc.sigman**2) * np.eye(len(self.X))), Kstar.T)\n",
        "        \n",
        "        dm = np.dot(dKstar, self.alpha)\n",
        "        ds = -2 * np.dot(dKstar, alpha_Kstar)\n",
        "        \n",
        "        return dm, ds           \n"
      ]
    },
    {
      "cell_type": "code",
      "execution_count": 8,
      "metadata": {
        "id": "_Dc3YVHVaXz7"
      },
      "outputs": [],
      "source": [
        "### Add exact acquisition function gradient as attribute:\n",
        "\n",
        "Beta_CBM = dim\n",
        "\n",
        "class Acquisition_grad(Acquisition):    \n",
        "    def __init__(self, mode, eps=eps, **params):\n",
        "        \n",
        "        self.params = params\n",
        "        self.eps = eps\n",
        "\n",
        "        mode_dict = {\n",
        "            'CBM': self.CBM\n",
        "        }\n",
        "\n",
        "        self.f = mode_dict[mode]\n",
        "    \n",
        "    def CBM(self, y_global_orig, mean, std, ds, dm):\n",
        "        gamma = (mean - y_global_orig - self.eps) / (std + self.eps)\n",
        "        gamma_h = (mean - y_global_orig) / (std + self.eps)\n",
        "        dsdx = ds / (2 * (std + self.eps))\n",
        "        dmdx = (dm - gamma * dsdx) / (std + self.eps)\n",
        "\n",
        "        f = (std + self.eps) * (gamma + np.sqrt(Beta_CBM))\n",
        "        df = dsdx * (gamma + np.sqrt(Beta_CBM)) + (std + self.eps) * dmdx\n",
        "        df_arr = []\n",
        "\n",
        "        for j in range(0, dim):\n",
        "          df_arr.append(df)\n",
        "        return f, np.asarray(df_arr).transpose()\n",
        "\n",
        "        for j in range(0, dim):\n",
        "          df_arr.append(df)\n",
        "        return f, np.asarray(df_arr).transpose()\n",
        "        \n",
        "    def d_eval(self, y_global_orig, mean, std, ds, dm):\n",
        "    \n",
        "        return self.f(y_global_orig, mean, std, ds, dm, **self.params)\n",
        "        "
      ]
    },
    {
      "cell_type": "code",
      "execution_count": 9,
      "metadata": {
        "id": "PITEQC8YSl7i"
      },
      "outputs": [],
      "source": [
        "## GPGO_multi: \n",
        "\n",
        "class GPGO_multi(GPGO):\n",
        "    n_start = n_start_AcqFunc\n",
        "\n",
        "    def __init__(self, surrogate, acquisition, f, parameter_dict, n_jobs=1):\n",
        "        self.GP = surrogate\n",
        "        self.A = acquisition\n",
        "        self.f = f\n",
        "        self.parameters = parameter_dict\n",
        "        self.n_jobs = n_jobs\n",
        "\n",
        "        self.parameter_key = list(parameter_dict.keys())\n",
        "        self.parameter_value = list(parameter_dict.values())\n",
        "        self.parameter_type = [p[0] for p in self.parameter_value]\n",
        "        self.parameter_range = [p[1] for p in self.parameter_value]\n",
        "\n",
        "        self.history = []\n",
        "        self.header =   'Evaluation \\t Proposed point \\t  Current eval. \\t  Best eval. \\t        Exact EI: StdDev. x \\t Approx EI: StdDev. x '\n",
        "        self.template = '{:3}\\t {}\\t {:3}\\t {:3}\\t {:3}\\t {:3}'\n",
        " \n",
        "    def acqfuncExact(self, xnew, n_start=n_start_AcqFunc):\n",
        "        new_mean, new_var = self.GP.predict(xnew, return_std=True)\n",
        "        new_std = np.sqrt(new_var + eps)\n",
        "        dm, ds = self.GP.AcqGrad(xnew)\n",
        "        f, df = self.A.d_eval(y_global_orig, new_mean, new_std, ds=ds, dm=dm)\n",
        "\n",
        "        return -f, -df\n",
        "   \n",
        "    def acqfuncApprox(self, xnew, n_start=n_start_AcqFunc):\n",
        "        new_mean, new_var = self.GP.predict(xnew, return_std=True)\n",
        "        new_std = np.sqrt(new_var + eps)\n",
        "        dm, ds = self.GP.AcqGrad(xnew)\n",
        "        f, df = self.A.d_eval(y_global_orig, new_mean, new_std, ds=ds, dm=dm)\n",
        "\n",
        "        return -f\n",
        "   \n",
        "    def _optimizeAcq(self, method='L-BFGS-B', n_start=n_start_AcqFunc):\n",
        "        \n",
        "        start_points_dict = [self._sampleParam() for i in range(n_start)]\n",
        "        start_points_arr = np.array([list(s.values())\n",
        "                                     for s in start_points_dict])\n",
        "        x_best = np.empty((n_start, len(self.parameter_key)))\n",
        "        f_best = np.empty((n_start,))\n",
        "        opt = Parallel(n_jobs=self.n_jobs)(delayed(minimize)(self.acqfuncApprox,\n",
        "                                                                 x0=start_point,\n",
        "                                                                 method=method,\n",
        "                                                                 jac = False,\n",
        "                                                                 bounds=self.parameter_range) for start_point in\n",
        "                                               start_points_arr)\n",
        "        x_best = np.array([res.x for res in opt])\n",
        "        f_best = np.array([np.atleast_1d(res.fun)[0] for res in opt])\n",
        "        f_best_min = min(f_best)\n",
        "\n",
        "        self.x_best = x_best\n",
        "        self.f_best = f_best\n",
        "        self.f_best_min = f_best_min\n",
        "        self.x_best_std = np.std(x_best)\n",
        "        self.best = x_best[np.argmin(f_best)]\n",
        "        self.start_points_arr = start_points_arr        \n",
        "        self.history.append(self.x_best_std)\n",
        "\n",
        "        x_best_exact = np.empty((n_start, len(self.parameter_key)))\n",
        "        f_best_exact = np.empty((n_start,))\n",
        "        opt_exact = Parallel(n_jobs=self.n_jobs)(delayed(minimize)(self.acqfuncExact,\n",
        "                                                                 x0=start_point,\n",
        "                                                                 method=method,\n",
        "                                                                 jac = True,\n",
        "                                                                 bounds=self.parameter_range) for start_point in\n",
        "                                               start_points_arr)\n",
        "        x_best_exact = np.array([res.x for res in opt_exact])\n",
        "        f_best_exact = np.array([np.atleast_1d(res.fun)[0] for res in opt_exact])\n",
        "        f_best_min_exact = min(f_best_exact)\n",
        "\n",
        "        self.x_best_exact = x_best_exact\n",
        "        self.f_best_exact = f_best_exact\n",
        "        self.f_best_min_exact = f_best_min_exact\n",
        "        self.x_best_std_exact = np.std(x_best_exact)\n",
        "        self.best_exact = x_best_exact[np.argmin(f_best_exact)]\n",
        "        self.start_points_arr = start_points_arr\n",
        "        self.history.append(self.x_best_std_exact)\n",
        "\n",
        "    def _printInit(self):\n",
        "        print(self.header)\n",
        "        for init_eval in range(self.init_evals):\n",
        "            print(self.template.format('init', self.GP.X[init_eval], inverse * self.GP.y[init_eval], inverse * self.tau, '', ''))\n",
        "      \n",
        "    def _printCurrent(self):\n",
        "        OKGREEN = '\\033[92m'\n",
        "        ENDC = '\\033[0m'\n",
        "        BOLD = '\\033[1m'\n",
        "        eval = str(len(self.GP.y) - self.init_evals)\n",
        "        proposed = str(self.best)\n",
        "        curr_eval = str(inverse * self.GP.y[-1])\n",
        "        curr_best = str(inverse * self.tau)\n",
        "        min_acqfunc = str(self.f_best_min)\n",
        "        min_acqfunc_exact = str(self.f_best_min_exact)\n",
        "        x_best_std = str(self.x_best_std)\n",
        "        x_best_std_exact = str(self.x_best_std_exact)\n",
        "        if float(curr_eval) <= float(curr_best):\n",
        "            eval = BOLD + OKGREEN + eval + ENDC\n",
        "            proposed = BOLD + OKGREEN + proposed + ENDC\n",
        "            curr_eval = BOLD + OKGREEN + curr_eval + ENDC\n",
        "            curr_best = BOLD + OKGREEN + curr_best + ENDC\n",
        "            x_best_std = BOLD + OKGREEN + x_best_std + ENDC\n",
        "            x_best_std_exact = BOLD + OKGREEN + x_best_std_exact + ENDC\n",
        "        print(self.template.format(eval, proposed, curr_eval, curr_best, x_best_std_exact, x_best_std))\n",
        "        \n",
        "    def run(self, max_iter=10, init_evals=3, resume=False):\n",
        "        \n",
        "        if not resume:\n",
        "            self.init_evals = init_evals\n",
        "            self._firstRun(self.init_evals)\n",
        "            self._printInit()\n",
        "        for iteration in range(max_iter):\n",
        "            self._optimizeAcq()\n",
        "            self.updateGP()\n",
        "            self._printCurrent()\n"
      ]
    },
    {
      "cell_type": "code",
      "execution_count": 10,
      "metadata": {
        "id": "b_B-w81BJxKN"
      },
      "outputs": [],
      "source": [
        "## dGPGO:\n",
        "\n",
        "class dGPGO(GPGO):\n",
        "    n_start = n_start_AcqFunc\n",
        "\n",
        "    def __init__(self, surrogate, acquisition, f, parameter_dict, n_jobs=1):\n",
        "        self.GP = surrogate\n",
        "        self.A = acquisition\n",
        "        self.f = f\n",
        "        self.parameters = parameter_dict\n",
        "        self.n_jobs = n_jobs\n",
        "\n",
        "        self.parameter_key = list(parameter_dict.keys())\n",
        "        self.parameter_value = list(parameter_dict.values())\n",
        "        self.parameter_type = [p[0] for p in self.parameter_value]\n",
        "        self.parameter_range = [p[1] for p in self.parameter_value]\n",
        "\n",
        "        self.history = []\n",
        "        self.header =   'Evaluation \\t Proposed point \\t  Current eval. \\t  Best eval. \\t        Exact EI: StdDev. x \\t Approx EI: StdDev. x '\n",
        "        self.template = '{:3}\\t {}\\t {:3}\\t {:3}\\t {:3}\\t {:3}'\n",
        "\n",
        "    def acqfuncExact(self, xnew, n_start=n_start_AcqFunc):\n",
        "        new_mean, new_var = self.GP.predict(xnew, return_std=True)\n",
        "        new_std = np.sqrt(new_var + eps)\n",
        "        dm, ds = self.GP.AcqGrad(xnew)\n",
        "        f, df = self.A.d_eval(y_global_orig, new_mean, new_std, ds=ds, dm=dm)\n",
        "\n",
        "        return -f, -df\n",
        "   \n",
        "    def acqfuncApprox(self, xnew, n_start=n_start_AcqFunc):\n",
        "        new_mean, new_var = self.GP.predict(xnew, return_std=True)\n",
        "        new_std = np.sqrt(new_var + eps)\n",
        "        dm, ds = self.GP.AcqGrad(xnew)\n",
        "        f, df = self.A.d_eval(y_global_orig, new_mean, new_std, ds=ds, dm=dm)\n",
        "\n",
        "        return -f\n",
        "\n",
        "    def d_optimizeAcq(self, method='L-BFGS-B', n_start=n_start_AcqFunc):\n",
        "        start_points_dict = [self._sampleParam() for i in range(n_start)]\n",
        "        start_points_arr = np.array([list(s.values())\n",
        "                                     for s in start_points_dict])\n",
        "        x_best = np.empty((n_start, len(self.parameter_key)))\n",
        "        f_best = np.empty((n_start,))\n",
        "        opt = Parallel(n_jobs=self.n_jobs)(delayed(minimize)(self.acqfuncExact,\n",
        "                                                                 x0=start_point,\n",
        "                                                                 method=method,\n",
        "                                                                 jac = True,\n",
        "                                                                 bounds=self.parameter_range) for start_point in\n",
        "                                               start_points_arr)\n",
        "        x_best = np.array([res.x for res in opt])\n",
        "        f_best = np.array([np.atleast_1d(res.fun)[0] for res in opt])\n",
        "        f_best_min = min(f_best)\n",
        "\n",
        "        self.x_best = x_best\n",
        "        self.f_best = f_best\n",
        "        self.f_best_min = f_best_min\n",
        "        self.x_best_std = np.std(x_best)\n",
        "        self.best = x_best[np.argmin(f_best)]\n",
        "        self.start_points_arr = start_points_arr\n",
        "        self.history.append(self.x_best_std)\n",
        "\n",
        "        x_best_approx = np.empty((n_start, len(self.parameter_key)))\n",
        "        f_best_approx = np.empty((n_start,))\n",
        "        opt_approx = Parallel(n_jobs=self.n_jobs)(delayed(minimize)(self.acqfuncApprox,\n",
        "                                                                 x0=start_point,\n",
        "                                                                 method=method,\n",
        "                                                                 jac = False,\n",
        "                                                                 bounds=self.parameter_range) for start_point in\n",
        "                                               start_points_arr)\n",
        "        x_best_approx = np.array([res.x for res in opt_approx])\n",
        "        f_best_approx = np.array([np.atleast_1d(res.fun)[0] for res in opt_approx])\n",
        "        f_best_min_approx = min(f_best_approx)\n",
        "\n",
        "        self.x_best_approx = x_best_approx\n",
        "        self.f_best_approx = f_best_approx\n",
        "        self.f_best_min_approx = f_best_min_approx\n",
        "        self.x_best_std_approx = np.std(x_best_approx)\n",
        "        self.best_approx = x_best_approx[np.argmin(f_best_approx)]\n",
        "        self.start_points_arr = start_points_arr\n",
        "        self.history.append(self.x_best_std_approx)\n",
        "    \n",
        "    def _printInit(self):\n",
        "        print(self.header)\n",
        "        for init_eval in range(self.init_evals):\n",
        "            print(self.template.format('init', self.GP.X[init_eval], inverse * self.GP.y[init_eval], inverse * self.tau, '', ''))\n",
        "      \n",
        "    def _printCurrent(self):\n",
        "        OKGREEN = '\\033[92m'\n",
        "        ENDC = '\\033[0m'\n",
        "        BOLD = '\\033[1m'\n",
        "        eval = str(len(self.GP.y) - self.init_evals)\n",
        "        proposed = str(self.best)\n",
        "        curr_eval = str(inverse * self.GP.y[-1])\n",
        "        curr_best = str(inverse * self.tau)\n",
        "        min_acqfunc = str(self.f_best_min)\n",
        "        min_acqfunc_approx = str(self.f_best_min_approx)\n",
        "        x_best_std = str(self.x_best_std)\n",
        "        x_best_std_approx = str(self.x_best_std_approx)\n",
        "        if float(curr_eval) <= float(curr_best):\n",
        "            eval = BOLD + OKGREEN + eval + ENDC\n",
        "            proposed = BOLD + OKGREEN + proposed + ENDC\n",
        "            curr_eval = BOLD + OKGREEN + curr_eval + ENDC\n",
        "            curr_best = BOLD + OKGREEN + curr_best + ENDC\n",
        "            x_best_std = BOLD + OKGREEN + x_best_std + ENDC\n",
        "            x_best_std_approx = BOLD + OKGREEN + x_best_std_approx + ENDC\n",
        "        print(self.template.format(eval, proposed, curr_eval, curr_best, x_best_std, x_best_std_approx))\n",
        "\n",
        "    def run(self, max_iter=10, init_evals=3, resume=False):\n",
        "        \n",
        "        if not resume:\n",
        "            self.init_evals = init_evals\n",
        "            self._firstRun(self.init_evals)\n",
        "            self._printInit()\n",
        "        for iteration in range(max_iter):\n",
        "            self.d_optimizeAcq()\n",
        "            self.updateGP()\n",
        "            self._printCurrent()\n"
      ]
    },
    {
      "cell_type": "code",
      "execution_count": 11,
      "metadata": {
        "id": "qXIKGuXVGEg2"
      },
      "outputs": [],
      "source": [
        "###Reproducible set-seeds:\n",
        "\n",
        "run_num_1 = 1\n",
        "run_num_2 = 2\n",
        "run_num_3 = 3\n",
        "run_num_4 = 4\n",
        "run_num_5 = 5\n",
        "run_num_6 = 6\n",
        "run_num_7 = 7\n",
        "run_num_8 = 8\n",
        "run_num_9 = 9\n",
        "run_num_10 = 10\n",
        "run_num_11 = 11\n",
        "run_num_12 = 12\n",
        "run_num_13 = 13\n",
        "run_num_14 = 14\n",
        "run_num_15 = 15\n",
        "run_num_16 = 16\n",
        "run_num_17 = 17\n",
        "run_num_18 = 18\n",
        "run_num_19 = 19\n",
        "run_num_20 = 20\n"
      ]
    },
    {
      "cell_type": "code",
      "execution_count": 12,
      "metadata": {
        "colab": {
          "base_uri": "https://localhost:8080/"
        },
        "id": "JEhagQmnTVIK",
        "outputId": "1c317129-691b-4f7f-fa3a-5451ce927271"
      },
      "outputs": [
        {
          "output_type": "execute_result",
          "data": {
            "text/plain": [
              "1659636671.202201"
            ]
          },
          "metadata": {},
          "execution_count": 12
        }
      ],
      "source": [
        "start_approx = time.time()\n",
        "start_approx\n"
      ]
    },
    {
      "cell_type": "code",
      "execution_count": 13,
      "metadata": {
        "colab": {
          "base_uri": "https://localhost:8080/"
        },
        "id": "aH0YSTXufD1v",
        "outputId": "a47da395-5070-49e6-ef24-8cb5197a8e36"
      },
      "outputs": [
        {
          "output_type": "stream",
          "name": "stdout",
          "text": [
            "Evaluation \t Proposed point \t  Current eval. \t  Best eval. \t        Exact EI: StdDev. x \t Approx EI: StdDev. x \n",
            "init\t [-1.65955991  4.40648987]\t 15.332210716052247\t 15.332210716052247\t    \t    \n",
            "init\t [-9.9977125  -3.95334855]\t 1458.2611077633842\t 15.332210716052247\t    \t    \n",
            "init\t [-7.06488218 -8.1532281 ]\t 1666.779874000304\t 15.332210716052247\t    \t    \n",
            "init\t [-6.27479577 -3.08878546]\t 804.3371752309802\t 15.332210716052247\t    \t    \n",
            "init\t [-2.06465052  0.77633468]\t 126.2019077328938\t 15.332210716052247\t    \t    \n",
            "1  \t [ 7.89213327 -8.29911577]\t 252.857497365554\t 15.332210716052247\t 6.855643078739564\t 7.083629143988551\n",
            "2  \t [7.66612182 2.47344414]\t 195.49152221204983\t 15.332210716052247\t 6.97539869764475\t 6.3242773174779625\n",
            "3  \t [1.62717855 9.40039978]\t 238.9058988758153\t 15.332210716052247\t 6.607602996202339\t 6.7324673173320795\n",
            "4  \t [-9.56950389  8.95940422]\t 232.24098716076017\t 15.332210716052247\t 8.3423953415851\t 8.241048195296298\n",
            "5  \t [10. 10.]\t 1154.0\t 15.332210716052247\t 6.776988840627882\t 6.9658341877695005\n",
            "6  \t [ 0.39326621 -9.75901719]\t 877.7338427417164\t 15.332210716052247\t 5.753341233986789\t 5.825283983233141\n",
            "7  \t [ 2.90627054 -2.50608875]\t 85.78564551452243\t 15.332210716052247\t 7.14409584682716\t 7.399553065589375\n",
            "8  \t [-9.3742585   2.84686148]\t 550.9530425066065\t 15.332210716052247\t 6.143146950894205\t 7.86096040153642\n",
            "9  \t [10.         -2.84681436]\t 154.95555682088252\t 15.332210716052247\t 6.228445468484695\t 6.961859844568758\n",
            "10 \t [2.89219525 4.2033995 ]\t 43.359400722171685\t 15.332210716052247\t 6.719834291147987\t 6.776799085930343\n",
            "11 \t [-4.00778073 10.        ]\t 89.95361833534794\t 15.332210716052247\t 5.5294383942571494\t 6.179029586868437\n",
            "12 \t [-1.33169843 -4.75871616]\t 472.9003595636051\t 15.332210716052247\t 6.607116340923885\t 6.236708315672959\n",
            "13 \t [-5.52491962  5.78256839]\t 106.33803368433038\t 15.332210716052247\t 5.9554951623330235\t 5.759100735569717\n",
            "14 \t [5.94828579 7.15112535]\t 372.91450611947744\t 15.332210716052247\t 6.4965074743216435\t 7.204101963336548\n",
            "15 \t [ 3.84416146 -6.53528708]\t 278.09560224674135\t 15.332210716052247\t 5.90717229707666\t 5.530384960277473\n",
            "16 \t [10.         5.5713602]\t 623.1974004515562\t 15.332210716052247\t 7.085528290783285\t 7.126858660885319\n",
            "17 \t [ 6.3941537  -1.34236395]\t 52.37806544622891\t 15.332210716052247\t 6.549985707145785\t 6.83800713400745\n",
            "\u001b[1m\u001b[92m18\u001b[0m\t \u001b[1m\u001b[92m[1.81136291 0.96280122]\u001b[0m\t \u001b[1m\u001b[92m10.819183036593387\u001b[0m\t \u001b[1m\u001b[92m10.819183036593387\u001b[0m\t \u001b[1m\u001b[92m6.725823421352443\u001b[0m\t \u001b[1m\u001b[92m7.158606666538287\u001b[0m\n",
            "19 \t [-1.6419717   7.31571347]\t 36.81104318598997\t 10.819183036593387\t 6.622262770673618\t 7.975959929366284\n",
            "20 \t [-5.64736338  1.31626469]\t 324.65122554744437\t 10.819183036593387\t 6.591182135827607\t 7.177684629988971\n"
          ]
        }
      ],
      "source": [
        "### ESTIMATED GP EI GRADIENTS\n",
        "\n",
        "np.random.seed(run_num_1)\n",
        "surrogate_approx_1 = dGaussianProcess(cov_func, optimize=opt)\n",
        "\n",
        "approx_1 = GPGO_multi(surrogate_approx_1, Acquisition_grad(util), objfunc, param)\n",
        "approx_1.run(init_evals=n_init, max_iter=iters)\n"
      ]
    },
    {
      "cell_type": "code",
      "execution_count": 14,
      "metadata": {
        "id": "wTxsSZxFGBB5",
        "colab": {
          "base_uri": "https://localhost:8080/"
        },
        "outputId": "4f830070-44d0-40b7-8cfb-e577616cfbfc"
      },
      "outputs": [
        {
          "output_type": "stream",
          "name": "stdout",
          "text": [
            "Evaluation \t Proposed point \t  Current eval. \t  Best eval. \t        Exact EI: StdDev. x \t Approx EI: StdDev. x \n",
            "init\t [-1.28010196 -9.48147536]\t 1032.6027521517153\t 92.40504507724606\t    \t    \n",
            "init\t [ 0.99324956 -1.29355215]\t 92.40504507724606\t 92.40504507724606\t    \t    \n",
            "init\t [-1.59264396 -3.39330358]\t 370.5851459944721\t 92.40504507724606\t    \t    \n",
            "init\t [-5.90702732  2.38541933]\t 274.38308294748543\t 92.40504507724606\t    \t    \n",
            "init\t [-4.00690653 -4.6634545 ]\t 725.9498417670716\t 92.40504507724606\t    \t    \n",
            "1  \t [4.01504693 9.2910216 ]\t 395.07910702982895\t 92.40504507724606\t 6.690849344124817\t 6.7798262062392345\n",
            "2  \t [10.         -9.54137454]\t 288.45140973300323\t 92.40504507724606\t 6.036255681802138\t 6.752291776089584\n",
            "3  \t [10.        -0.2196058]\t 225.01769004369226\t 92.40504507724606\t 7.293147757977203\t 7.024010139006706\n",
            "4  \t [-10.  10.]\t 234.0\t 92.40504507724606\t 6.977689498827288\t 7.18247459864395\n",
            "5  \t [-10. -10.]\t 2594.0\t 92.40504507724606\t 7.921667175245936\t 7.030175692317227\n",
            "\u001b[1m\u001b[92m6\u001b[0m\t \u001b[1m\u001b[92m[-3.25263411  9.0402141 ]\u001b[0m\t \u001b[1m\u001b[92m67.3508521501691\u001b[0m\t \u001b[1m\u001b[92m67.3508521501691\u001b[0m\t \u001b[1m\u001b[92m6.9093656183524335\u001b[0m\t \u001b[1m\u001b[92m7.018333890096217\u001b[0m\n",
            "7  \t [-9.99919239 -2.80406774]\t 1284.067640425134\t 67.3508521501691\t 6.887326464056898\t 6.014531637598044\n",
            "8  \t [ 4.28559483 -6.32470425]\t 243.62861292329924\t 67.3508521501691\t 5.135392700150116\t 4.864415115882721\n",
            "9  \t [10.          6.33170679]\t 700.3842397283349\t 67.3508521501691\t 6.035424754224667\t 6.346458045292619\n",
            "10 \t [4.7234096  3.17326286]\t 74.63002412373208\t 67.3508521501691\t 6.591897420387493\t 6.55621970720582\n",
            "\u001b[1m\u001b[92m11\u001b[0m\t \u001b[1m\u001b[92m[-0.54884462  4.30701578]\u001b[0m\t \u001b[1m\u001b[92m4.3411346464545435\u001b[0m\t \u001b[1m\u001b[92m4.3411346464545435\u001b[0m\t \u001b[1m\u001b[92m6.736637282404681\u001b[0m\t \u001b[1m\u001b[92m6.633601830902451\u001b[0m\n",
            "12 \t [-10.           5.03079443]\t 446.91072020363356\t 4.3411346464545435\t 5.766111017699774\t 6.798303759149754\n",
            "13 \t [ 8.98963875 -4.83711047]\t 125.34768744260147\t 4.3411346464545435\t 6.842300168314141\t 6.7924843974145865\n",
            "14 \t [ 5.47633794 -1.53113011]\t 40.58075014452699\t 4.3411346464545435\t 6.407569875989964\t 6.206694210576671\n",
            "15 \t [-1.80675983  1.44547363]\t 86.37772204349099\t 4.3411346464545435\t 6.254367972744381\t 6.245239848508804\n",
            "16 \t [0.23445846 7.21042853]\t 65.7827480202024\t 4.3411346464545435\t 7.3695830777466105\t 6.756074103514024\n",
            "17 \t [  5.76581572 -10.        ]\t 462.9201622936071\t 4.3411346464545435\t 6.725983366653419\t 6.630610599485668\n",
            "18 \t [-6.1507608   6.77672105]\t 110.93357903024256\t 4.3411346464545435\t 7.0893088287907355\t 6.605049544495087\n",
            "19 \t [-5.60605414 -8.82453966]\t 1542.2068407182674\t 4.3411346464545435\t 6.782530143102916\t 5.880876541119786\n",
            "20 \t [ 8.12521174 10.        ]\t 897.855069630147\t 4.3411346464545435\t 6.644938951070499\t 6.103818995619767\n"
          ]
        }
      ],
      "source": [
        "### ESTIMATED GP EI GRADIENTS\n",
        "\n",
        "np.random.seed(run_num_2)\n",
        "surrogate_approx_2 = dGaussianProcess(cov_func, optimize=opt)\n",
        "\n",
        "approx_2 = GPGO_multi(surrogate_approx_2, Acquisition_grad(util), objfunc, param)\n",
        "approx_2.run(init_evals=n_init, max_iter=iters)\n"
      ]
    },
    {
      "cell_type": "code",
      "execution_count": 15,
      "metadata": {
        "id": "-dgzIrUIGCGT",
        "colab": {
          "base_uri": "https://localhost:8080/"
        },
        "outputId": "e19eebeb-8f24-4665-a733-ea5c2e4b9950"
      },
      "outputs": [
        {
          "output_type": "stream",
          "name": "stdout",
          "text": [
            "Evaluation \t Proposed point \t  Current eval. \t  Best eval. \t        Exact EI: StdDev. x \t Approx EI: StdDev. x \n",
            "init\t [1.01595805 4.16295645]\t 6.912079999083602\t 6.912079999083602\t    \t    \n",
            "init\t [-4.18190522  0.2165521 ]\t 288.3871250813255\t 6.912079999083602\t    \t    \n",
            "init\t [7.85893909 7.92586178]\t 626.8352854305291\t 6.912079999083602\t    \t    \n",
            "init\t [-7.48829379 -5.85514244]\t 1353.6437998345716\t 6.912079999083602\t    \t    \n",
            "init\t [-8.97065593 -1.18380313]\t 918.3130335940459\t 6.912079999083602\t    \t    \n",
            "1  \t [ 5.60629529 -3.87272935]\t 88.9992584872525\t 6.912079999083602\t 4.717150437873575\t 4.717150437873575\n",
            "2  \t [-10.  10.]\t 234.0\t 6.912079999083602\t 6.980877953321163\t 7.198471279153146\n",
            "3  \t [-4.31685796  6.38598311]\t 54.646970889521505\t 6.912079999083602\t 6.41028360071764\t 6.726143800478463\n",
            "4  \t [-0.42169096 -8.75441039]\t 834.625955715487\t 6.912079999083602\t 6.9814811461156205\t 6.8739399779141355\n",
            "5  \t [ 6.77012877 -9.69061691]\t 385.9187674414475\t 6.912079999083602\t 6.10837133640696\t 6.4713234588699\n",
            "6  \t [10.          2.02351651]\t 339.46078845623197\t 6.912079999083602\t 6.611621348888381\t 6.200943660785041\n",
            "7  \t [ 0.69850669 -0.70926041]\t 78.19409262167642\t 6.912079999083602\t 6.140106728386236\t 6.0118176345707\n",
            "8  \t [-9.43411856  4.82714338]\t 408.5293700359781\t 6.912079999083602\t 6.984488853734739\t 6.568780337256594\n",
            "9  \t [0.64643093 8.52019085]\t 137.3734405217867\t 6.912079999083602\t 5.684171308255739\t 5.880133998155115\n",
            "10 \t [5.25204843 3.19327887]\t 97.16101190690118\t 6.912079999083602\t 6.784729089808787\t 6.724593665430674\n",
            "11 \t [-4.67617006 -9.97354931]\t 1591.7800200785114\t 6.912079999083602\t 6.004275156642657\t 6.447503462709977\n",
            "12 \t [10.         -5.62212526]\t 155.91220129803872\t 6.912079999083602\t 7.807285169668291\t 7.467432778853804\n",
            "13 \t [-2.44613536 -4.22452611]\t 519.5216915194836\t 6.912079999083602\t 8.222925554974882\t 7.3356035519517935\n",
            "14 \t [-10. -10.]\t 2594.0\t 6.912079999083602\t 7.215365398793553\t 6.561988753882952\n",
            "15 \t [-5.78232836 10.        ]\t 95.18950173511573\t 6.912079999083602\t 5.745064507169165\t 5.95591370631527\n",
            "16 \t [ 1.90510847 -4.85209539]\t 255.51713208953808\t 6.912079999083602\t 5.324397751989657\t 7.726873157796864\n",
            "17 \t [ 4.18330689 10.        ]\t 473.9323993434299\t 6.912079999083602\t 6.372407229963145\t 7.065090002372217\n",
            "18 \t [ 6.60042079 -0.35985243]\t 62.733907620316536\t 6.912079999083602\t 6.117278090998203\t 6.513724275649222\n",
            "19 \t [-1.85326818  3.60798242]\t 28.676014443210867\t 6.912079999083602\t 5.911338375612067\t 6.901921060804922\n",
            "20 \t [3.32532387 6.02972598]\t 129.29260636417177\t 6.912079999083602\t 5.945633658285563\t 6.668100069923635\n"
          ]
        }
      ],
      "source": [
        "### ESTIMATED GP EI GRADIENTS\n",
        "\n",
        "np.random.seed(run_num_3)\n",
        "surrogate_approx_3 = dGaussianProcess(cov_func, optimize=opt)\n",
        "\n",
        "approx_3 = GPGO_multi(surrogate_approx_3, Acquisition_grad(util), objfunc, param)\n",
        "approx_3.run(init_evals=n_init, max_iter=iters)\n"
      ]
    },
    {
      "cell_type": "code",
      "execution_count": 16,
      "metadata": {
        "id": "hOtG-2sCGCKS",
        "colab": {
          "base_uri": "https://localhost:8080/"
        },
        "outputId": "1ec3f8b5-298a-416a-bcc7-d1146ebcf261"
      },
      "outputs": [
        {
          "output_type": "stream",
          "name": "stdout",
          "text": [
            "Evaluation \t Proposed point \t  Current eval. \t  Best eval. \t        Exact EI: StdDev. x \t Approx EI: StdDev. x \n",
            "init\t [9.34059678 0.94464498]\t 231.80709501196006\t 215.08077877054313\t    \t    \n",
            "init\t [9.4536872  4.29631987]\t 453.3958241553961\t 215.08077877054313\t    \t    \n",
            "init\t [ 3.95457649 -5.67821009]\t 215.08077877054313\t 215.08077877054313\t    \t    \n",
            "init\t [ 9.5254891 -9.8753949]\t 314.14647993232734\t 215.08077877054313\t    \t    \n",
            "init\t [-4.94035275 -1.30416935]\t 473.61459720928724\t 215.08077877054313\t    \t    \n",
            "1  \t [-10. -10.]\t 2594.0\t 215.08077877054313\t 6.35970044517773\t 6.078586521826298\n",
            "\u001b[1m\u001b[92m2\u001b[0m\t \u001b[1m\u001b[92m[0.20487259 8.53441386]\u001b[0m\t \u001b[1m\u001b[92m121.10530867890083\u001b[0m\t \u001b[1m\u001b[92m121.10530867890083\u001b[0m\t \u001b[1m\u001b[92m5.789093286080517\u001b[0m\t \u001b[1m\u001b[92m6.10916288972485\u001b[0m\n",
            "3  \t [-10.  10.]\t 234.0\t 121.10530867890083\t 6.922084184698262\t 7.541282506522133\n",
            "\u001b[1m\u001b[92m4\u001b[0m\t \u001b[1m\u001b[92m[0.97610237 1.99594982]\u001b[0m\t \u001b[1m\u001b[92m5.2353946583457915\u001b[0m\t \u001b[1m\u001b[92m5.2353946583457915\u001b[0m\t \u001b[1m\u001b[92m6.712709202040228\u001b[0m\t \u001b[1m\u001b[92m6.462115424721464\u001b[0m\n",
            "5  \t [ -0.55221036 -10.        ]\t 1018.4766620111367\t 5.2353946583457915\t 5.4834238590353905\t 5.819782859553335\n",
            "6  \t [6.53881853 9.77584536]\t 683.1943781876097\t 5.2353946583457915\t 7.200907409595355\t 6.059303571887793\n",
            "7  \t [-6.05579337  5.41063095]\t 141.9054973740614\t 5.2353946583457915\t 5.101170167380764\t 5.148765275046783\n",
            "8  \t [-10.           1.42748297]\t 755.7455472345009\t 5.2353946583457915\t 6.642627326131291\t 6.107535342633092\n",
            "9  \t [10.         -4.42460014]\t 146.0522261166419\t 5.2353946583457915\t 5.310981585632922\t 5.627105746069643\n",
            "10 \t [-10.          -4.18325189]\t 1495.1217046778474\t 5.2353946583457915\t 6.081655319042322\t 6.983063495329225\n",
            "11 \t [-5.02594801 -6.82103991]\t 1137.2729795254277\t 5.2353946583457915\t 6.412019056669284\t 6.624095395085718\n",
            "12 \t [ 4.37036868 -0.24169957]\t 21.93422413786942\t 5.2353946583457915\t 6.414806472452549\t 5.617595715252207\n",
            "13 \t [4.1059525  4.94258914]\t 115.37168428894586\t 5.2353946583457915\t 6.491106280130498\t 6.280338329109263\n",
            "14 \t [ 0.10618867 -2.43326114]\t 190.44660906090292\t 5.2353946583457915\t 6.633708392004595\t 6.528989162394449\n",
            "15 \t [  4.73439223 -10.        ]\t 526.3516350332394\t 5.2353946583457915\t 6.414759014805476\t 5.844415402998944\n",
            "16 \t [-4.55937006 10.        ]\t 88.20825396178012\t 5.2353946583457915\t 6.192772820472916\t 6.552041947674682\n",
            "17 \t [-1.71711872  4.35965826]\t 16.602200247392926\t 5.2353946583457915\t 5.4565292986923435\t 5.826808484594383\n",
            "18 \t [ 6.66861065 -2.54310263]\t 62.92214259733211\t 5.2353946583457915\t 6.195906298240239\t 6.143525405225169\n",
            "19 \t [-0.72493516 -5.9225227 ]\t 536.0602481635551\t 5.2353946583457915\t 5.724294975762194\t 5.494950425296752\n",
            "20 \t [ 7.38684143 -6.77724578]\t 182.3656452702185\t 5.2353946583457915\t 6.243148992054958\t 5.860557382615133\n"
          ]
        }
      ],
      "source": [
        "### ESTIMATED GP EI GRADIENTS\n",
        "\n",
        "np.random.seed(run_num_4)\n",
        "surrogate_approx_4 = dGaussianProcess(cov_func, optimize=opt)\n",
        "\n",
        "approx_4= GPGO_multi(surrogate_approx_4, Acquisition_grad(util), objfunc, param)\n",
        "approx_4.run(init_evals=n_init, max_iter=iters)\n"
      ]
    },
    {
      "cell_type": "code",
      "execution_count": 17,
      "metadata": {
        "id": "JF_SxcEvGCOl",
        "colab": {
          "base_uri": "https://localhost:8080/"
        },
        "outputId": "197877df-1aa3-4fc6-d1a3-decaa24381aa"
      },
      "outputs": [
        {
          "output_type": "stream",
          "name": "stdout",
          "text": [
            "Evaluation \t Proposed point \t  Current eval. \t  Best eval. \t        Exact EI: StdDev. x \t Approx EI: StdDev. x \n",
            "init\t [-5.56013658  7.41464612]\t 80.93700948496809\t 18.053107398965345\t    \t    \n",
            "init\t [-5.86561689  8.37221816]\t 84.91838238990834\t 18.053107398965345\t    \t    \n",
            "init\t [-0.23177622  2.23487726]\t 18.053107398965345\t 18.053107398965345\t    \t    \n",
            "init\t [5.31815713 0.36835976]\t 36.94936820355582\t 18.053107398965345\t    \t    \n",
            "init\t [-4.06398997 -6.24557543]\t 930.179306576812\t 18.053107398965345\t    \t    \n",
            "1  \t [9.27861058 9.20453431]\t 946.0775823883291\t 18.053107398965345\t 7.56784677838032\t 7.354863051209063\n",
            "2  \t [ 8.87080164 -7.76615146]\t 211.3917378701312\t 18.053107398965345\t 6.577930085393062\t 6.981410865496397\n",
            "3  \t [-10. -10.]\t 2594.0\t 18.053107398965345\t 6.930153161508706\t 7.017126535582615\n",
            "4  \t [2.06845041 7.95318917]\t 170.71624249171745\t 18.053107398965345\t 5.86833541228398\t 6.038098705728464\n",
            "5  \t [-10.         -3.4981393]\t 1387.9653308113602\t 18.053107398965345\t 5.82720595581398\t 6.655894501778208\n",
            "6  \t [ 2.82133446 -7.08607231]\t 378.26968076903836\t 18.053107398965345\t 5.465390750095867\t 6.880730791500174\n",
            "7  \t [-10.           2.87729191]\t 615.8735978511781\t 18.053107398965345\t 4.802119270794499\t 5.585753413274113\n",
            "8  \t [10.         -2.12233474]\t 167.38346457669448\t 18.053107398965345\t 6.227778874915503\t 6.99012119033934\n",
            "9  \t [-4.86128563 -0.21229669]\t 373.9931041321072\t 18.053107398965345\t 5.387633759332545\t 6.789361281933968\n",
            "10 \t [10.          3.40810632]\t 435.21640873458165\t 18.053107398965345\t 6.075542085804452\t 6.407518968759477\n",
            "11 \t [ 0.25535681 -2.43413136]\t 182.7932967480346\t 18.053107398965345\t 5.662219620106296\t 6.609243574911076\n",
            "12 \t [-10.  10.]\t 234.0\t 18.053107398965345\t 5.576942626300245\t 6.852809036817348\n",
            "13 \t [5.33765125 4.74945633]\t 170.08733029638304\t 18.053107398965345\t 6.23974575185141\t 6.316564011374533\n",
            "14 \t [ -0.92318893 -10.        ]\t 1063.5049265558982\t 18.053107398965345\t 5.329694718498904\t 6.357152011003386\n",
            "15 \t [-1.88014904 10.        ]\t 125.18794625348164\t 18.053107398965345\t 4.568797694161842\t 6.548589716111912\n",
            "16 \t [ 5.88650923 -3.7312426 ]\t 82.79976431627874\t 18.053107398965345\t 5.196210062445143\t 5.682129387228532\n",
            "\u001b[1m\u001b[92m17\u001b[0m\t \u001b[1m\u001b[92m[-1.87580841  5.55670062]\u001b[0m\t \u001b[1m\u001b[92m15.214311173766022\u001b[0m\t \u001b[1m\u001b[92m15.214311173766022\u001b[0m\t \u001b[1m\u001b[92m5.201937826648328\u001b[0m\t \u001b[1m\u001b[92m5.401015706364545\u001b[0m\n",
            "18 \t [-5.47752172  3.82870476]\t 170.2815713469414\t 15.214311173766022\t 5.363879949771161\t 6.841395131747744\n",
            "19 \t [  5.62915908 -10.        ]\t 470.7130248730883\t 15.214311173766022\t 4.704183567247015\t 6.48440105589869\n",
            "20 \t [ 5.14871946 10.        ]\t 563.3876553511665\t 15.214311173766022\t 5.468872634009188\t 5.420853771793245\n"
          ]
        }
      ],
      "source": [
        "### ESTIMATED GP EI GRADIENTS\n",
        "\n",
        "np.random.seed(run_num_5)\n",
        "surrogate_approx_5 = dGaussianProcess(cov_func, optimize=opt)\n",
        "\n",
        "approx_5 = GPGO_multi(surrogate_approx_5, Acquisition_grad(util), objfunc, param)\n",
        "approx_5.run(init_evals=n_init, max_iter=iters)\n"
      ]
    },
    {
      "cell_type": "code",
      "execution_count": 18,
      "metadata": {
        "id": "-kDxZtJsGCR3",
        "colab": {
          "base_uri": "https://localhost:8080/"
        },
        "outputId": "f488c0bf-0dd5-4511-a1f8-feebbc4f2eda"
      },
      "outputs": [
        {
          "output_type": "stream",
          "name": "stdout",
          "text": [
            "Evaluation \t Proposed point \t  Current eval. \t  Best eval. \t        Exact EI: StdDev. x \t Approx EI: StdDev. x \n",
            "init\t [ 7.85720303 -3.36040389]\t 88.46320859272592\t 88.46320859272592\t    \t    \n",
            "init\t [ 6.42458246 -9.16606749]\t 359.2297742730208\t 88.46320859272592\t    \t    \n",
            "init\t [-7.8468664   1.90104128]\t 475.1525044254979\t 88.46320859272592\t    \t    \n",
            "init\t [ 0.59634724 -1.62385143]\t 122.64613090496854\t 88.46320859272592\t    \t    \n",
            "init\t [-3.29184301  2.45038864]\t 112.48071079498652\t 88.46320859272592\t    \t    \n",
            "1  \t [10.          7.94939855]\t 883.8394251907665\t 88.46320859272592\t 6.615643573932389\t 6.536111641716334\n",
            "2  \t [-4.96771714 -9.17248997]\t 1500.0516160468933\t 88.46320859272592\t 7.327082413418701\t 7.335496185273801\n",
            "3  \t [2.46299902 9.4614501 ]\t 295.07827894539565\t 88.46320859272592\t 6.3489495178905955\t 6.331481120666289\n",
            "4  \t [-10.  10.]\t 234.0\t 88.46320859272592\t 6.468366677301998\t 6.605622057356396\n",
            "\u001b[1m\u001b[92m5\u001b[0m\t \u001b[1m\u001b[92m[4.67154765 2.91359217]\u001b[0m\t \u001b[1m\u001b[92m64.90063886063355\u001b[0m\t \u001b[1m\u001b[92m64.90063886063355\u001b[0m\t \u001b[1m\u001b[92m5.875201902344636\u001b[0m\t \u001b[1m\u001b[92m6.044795808157039\u001b[0m\n",
            "6  \t [-3.65323144 10.        ]\t 92.68185357219842\t 64.90063886063355\t 6.547095151829416\t 6.750637707574698\n",
            "7  \t [-10.          -5.43722218]\t 1703.4091428339766\t 64.90063886063355\t 6.502915198296263\t 6.8368578480166375\n",
            "8  \t [-5.2160087  -2.20998074]\t 587.9956019453816\t 64.90063886063355\t 7.01649975400703\t 6.84390210515276\n",
            "\u001b[1m\u001b[92m9\u001b[0m\t \u001b[1m\u001b[92m[-1.22868843  4.34354782]\u001b[0m\t \u001b[1m\u001b[92m9.906068482791387\u001b[0m\t \u001b[1m\u001b[92m9.906068482791387\u001b[0m\t \u001b[1m\u001b[92m6.055835931887434\u001b[0m\t \u001b[1m\u001b[92m5.303254287678394\u001b[0m\n",
            "10 \t [-10. -10.]\t 2594.0\t 9.906068482791387\t 5.969148501330693\t 6.002692277706086\n",
            "11 \t [ 0.85569149 -7.38095326]\t 550.9095570332512\t 9.906068482791387\t 6.54920023840785\t 7.125702336251115\n",
            "12 \t [-6.56507265  6.56687466]\t 133.89526779839102\t 9.906068482791387\t 6.112517563260187\t 6.255497303260867\n",
            "13 \t [ 5.21347435 -0.8833208 ]\t 33.269551998031815\t 9.906068482791387\t 5.258541720755559\t 5.97974696327885\n",
            "14 \t [10.          1.86902696]\t 329.9654413868593\t 9.906068482791387\t 5.979757243793126\t 6.72782340098268\n",
            "15 \t [10.        -6.7906348]\t 179.35694341633587\t 9.906068482791387\t 6.612452760095739\t 7.05492906400317\n",
            "16 \t [5.6735876  6.65256439]\t 312.48287570378454\t 9.906068482791387\t 5.994863185771667\t 6.015909416424503\n",
            "17 \t [ 4.09964106 -4.52715361]\t 144.67728587787064\t 9.906068482791387\t 6.856199696884436\t 7.053010186918287\n",
            "18 \t [-1.02797455  7.28449631]\t 42.83715136670547\t 9.906068482791387\t 6.050932237284075\t 6.487371445227411\n",
            "19 \t [-10.           5.49573881]\t 416.5185457169681\t 9.906068482791387\t 6.147383280831748\t 6.803001911412419\n",
            "\u001b[1m\u001b[92m20\u001b[0m\t \u001b[1m\u001b[92m[1.02246432 2.28358377]\u001b[0m\t \u001b[1m\u001b[92m2.440033900868709\u001b[0m\t \u001b[1m\u001b[92m2.440033900868709\u001b[0m\t \u001b[1m\u001b[92m6.187648217921782\u001b[0m\t \u001b[1m\u001b[92m6.744236677881386\u001b[0m\n"
          ]
        }
      ],
      "source": [
        "### ESTIMATED GP EI GRADIENTS\n",
        "\n",
        "np.random.seed(run_num_6)\n",
        "surrogate_approx_6 = dGaussianProcess(cov_func, optimize=opt)\n",
        "\n",
        "approx_6 = GPGO_multi(surrogate_approx_6, Acquisition_grad(util), objfunc, param)\n",
        "approx_6.run(init_evals=n_init, max_iter=iters)\n"
      ]
    },
    {
      "cell_type": "code",
      "execution_count": 19,
      "metadata": {
        "id": "fKB8MCD_GCVI",
        "colab": {
          "base_uri": "https://localhost:8080/"
        },
        "outputId": "ff90000a-e197-4989-e956-6537a33886be"
      },
      "outputs": [
        {
          "output_type": "stream",
          "name": "stdout",
          "text": [
            "Evaluation \t Proposed point \t  Current eval. \t  Best eval. \t        Exact EI: StdDev. x \t Approx EI: StdDev. x \n",
            "init\t [-8.47383421  5.59837584]\t 285.59280278210764\t 9.465549861932052\t    \t    \n",
            "init\t [-1.23181537  4.46930356]\t 9.465549861932052\t 9.465549861932052\t    \t    \n",
            "init\t [9.55979024 0.76991741]\t 238.50407296157155\t 9.465549861932052\t    \t    \n",
            "init\t [ 0.02240927 -8.55897733]\t 763.2277954619568\t 9.465549861932052\t    \t    \n",
            "init\t [-4.63122040e+00 -2.34998349e-03]\t 338.87889871968287\t 9.465549861932052\t    \t    \n",
            "1  \t [10. 10.]\t 1154.0\t 9.465549861932052\t 5.54510510741412\t 5.669096700449602\n",
            "2  \t [ 10. -10.]\t 314.0\t 9.465549861932052\t 6.542028153394399\t 6.670561085038643\n",
            "3  \t [-9.10467478 -9.8356699 ]\t 2371.896530806677\t 9.465549861932052\t 6.874821712902164\t 7.071229325387867\n",
            "4  \t [-7.86246511 -2.61028169]\t 947.860148457175\t 9.465549861932052\t 5.617081126279104\t 5.606623930498399\n",
            "5  \t [ 2.7210911  -2.58059722]\t 93.68836993295116\t 9.465549861932052\t 5.798740185557683\t 6.141993326292459\n",
            "6  \t [-2.83910659  9.73460949]\t 93.62945264221003\t 9.465549861932052\t 5.972367229353395\t 7.072512524194873\n",
            "7  \t [4.68081355 6.15825904]\t 210.61464437185288\t 9.465549861932052\t 5.820933757442806\t 6.129435244945357\n",
            "8  \t [10.         -4.57937249]\t 146.5196174356264\t 9.465549861932052\t 5.813097583882469\t 6.683736523975297\n",
            "9  \t [ 5.37442009 -7.17884078]\t 257.5095488271112\t 9.465549861932052\t 5.730379477923652\t 6.4447668419494715\n",
            "10 \t [-4.68748706 -6.66940666]\t 1069.1816736619253\t 9.465549861932052\t 5.624312036693429\t 6.716206116890811\n",
            "11 \t [ 1.85736524 10.        ]\t 296.68782910437994\t 9.465549861932052\t 5.355815213477775\t 5.689889304944258\n",
            "\u001b[1m\u001b[92m12\u001b[0m\t \u001b[1m\u001b[92m[2.14629507 2.00285826]\u001b[0m\t \u001b[1m\u001b[92m2.397270917316033\u001b[0m\t \u001b[1m\u001b[92m2.397270917316033\u001b[0m\t \u001b[1m\u001b[92m5.707786948110239\u001b[0m\t \u001b[1m\u001b[92m6.283415159942851\u001b[0m\n",
            "13 \t [9.46460323 5.21853666]\t 533.0893245039778\t 2.397270917316033\t 5.8562544901674265\t 5.833883093607878\n",
            "14 \t [-10.  10.]\t 234.0\t 2.397270917316033\t 4.442840840565496\t 5.799328874647671\n",
            "15 \t [5.17628731 1.22999371]\t 43.73505131377072\t 2.397270917316033\t 5.056604159754858\t 5.528998069790493\n",
            "16 \t [-9.37942742  1.15616257]\t 708.7650639669623\t 2.397270917316033\t 5.135675196909018\t 4.959017321355578\n",
            "17 \t [-1.37879238 -3.22306915]\t 340.35333022043085\t 2.397270917316033\t 4.151624236405902\t 4.993276710203517\n",
            "18 \t [-4.23596461  5.81690664]\t 58.75765423935026\t 2.397270917316033\t 6.144213523694136\t 6.741586645407526\n",
            "19 \t [-0.40874627  1.06871208]\t 50.33775251456382\t 2.397270917316033\t 5.653719418373175\t 6.058101106780225\n",
            "20 \t [ 6.60868557 -2.45799629]\t 61.33790632297929\t 2.397270917316033\t 5.601398575200228\t 5.879208661051214\n"
          ]
        }
      ],
      "source": [
        "### ESTIMATED GP EI GRADIENTS\n",
        "\n",
        "np.random.seed(run_num_7)\n",
        "surrogate_approx_7 = dGaussianProcess(cov_func, optimize=opt)\n",
        "\n",
        "approx_7 = GPGO_multi(surrogate_approx_7, Acquisition_grad(util), objfunc, param)\n",
        "approx_7.run(init_evals=n_init, max_iter=iters)\n"
      ]
    },
    {
      "cell_type": "code",
      "execution_count": 20,
      "metadata": {
        "id": "4unvifF-GCXp",
        "colab": {
          "base_uri": "https://localhost:8080/"
        },
        "outputId": "93df8dd0-b3b8-4c95-f09d-ab332b010661"
      },
      "outputs": [
        {
          "output_type": "stream",
          "name": "stdout",
          "text": [
            "Evaluation \t Proposed point \t  Current eval. \t  Best eval. \t        Exact EI: StdDev. x \t Approx EI: StdDev. x \n",
            "init\t [7.46858806 9.37081326]\t 741.8307972128058\t 75.39770051777191\t    \t    \n",
            "init\t [7.3838908  0.61711383]\t 110.46436066448925\t 75.39770051777191\t    \t    \n",
            "init\t [-5.34543344 -9.77202391]\t 1665.297823285088\t 75.39770051777191\t    \t    \n",
            "init\t [-1.39062363 -1.9529728 ]\t 245.96065521704543\t 75.39770051777191\t    \t    \n",
            "init\t [ 0.45349343 -0.43216408]\t 75.39770051777191\t 75.39770051777191\t    \t    \n",
            "1  \t [ 9.69498875 -9.42535902]\t 285.65502563735186\t 75.39770051777191\t 6.595567545789981\t 6.7634085473079235\n",
            "2  \t [-9.83383251  5.77166529]\t 385.04821658618386\t 75.39770051777191\t 6.32607096363995\t 6.044501204718944\n",
            "3  \t [-3.97152767  9.51013426]\t 76.56717653580492\t 75.39770051777191\t 6.793323175236624\t 6.461921610545841\n",
            "4  \t [-7.40611524 -1.03334714]\t 705.8915593901952\t 75.39770051777191\t 7.55822158185777\t 7.210667014700621\n",
            "\u001b[1m\u001b[92m5\u001b[0m\t \u001b[1m\u001b[92m[1.10947828 5.5318851 ]\u001b[0m\t \u001b[1m\u001b[92m34.329629696240445\u001b[0m\t \u001b[1m\u001b[92m34.329629696240445\u001b[0m\t \u001b[1m\u001b[92m6.899623640082394\u001b[0m\t \u001b[1m\u001b[92m6.537538397340172\u001b[0m\n",
            "6  \t [ 4.8534636  -5.35004944]\t 165.44964411197049\t 34.329629696240445\t 6.9084843187246125\t 6.914378977287999\n",
            "7  \t [  1.14390864 -10.        ]\t 830.1370501836127\t 34.329629696240445\t 6.56455844105832\t 7.100313209905455\n",
            "8  \t [-4.06263829  3.87033316]\t 96.68947579879142\t 34.329629696240445\t 7.2148135827371895\t 6.959241740257245\n",
            "9  \t [10.         -3.92111662]\t 146.1888796851145\t 34.329629696240445\t 7.775970994910091\t 7.780893934193379\n",
            "10 \t [-10.          -6.19966754]\t 1837.7401584159595\t 34.329629696240445\t 7.032770674584794\t 7.313604462406286\n",
            "11 \t [ 1.9782475 10.       ]\t 304.56670061319323\t 34.329629696240445\t 7.254691578943207\t 6.773212886001906\n",
            "12 \t [10.          4.73814408]\t 545.2520983778215\t 34.329629696240445\t 6.96270537030659\t 6.61464569363063\n",
            "13 \t [-8.31007864 10.        ]\t 157.02341746239327\t 34.329629696240445\t 8.259835748851506\t 6.754318762659051\n",
            "\u001b[1m\u001b[92m14\u001b[0m\t \u001b[1m\u001b[92m[3.61893204 2.51255807]\u001b[0m\t \u001b[1m\u001b[92m25.26940506932613\u001b[0m\t \u001b[1m\u001b[92m25.26940506932613\u001b[0m\t \u001b[1m\u001b[92m7.316537480270517\u001b[0m\t \u001b[1m\u001b[92m7.507465065906108\u001b[0m\n",
            "15 \t [5.14853012 5.6481984 ]\t 209.00533128327854\t 25.26940506932613\t 6.089048985392307\t 6.082967048448146\n",
            "16 \t [-4.71551708 -4.96516925]\t 844.7557707130934\t 25.26940506932613\t 6.706559204509328\t 6.290487568709563\n",
            "17 \t [ 0.58279921 -5.58090733]\t 397.66982615745377\t 25.26940506932613\t 7.637872533045748\t 6.729704582743152\n",
            "18 \t [ 4.06453441 -1.42278026]\t 36.3316834397517\t 25.26940506932613\t 7.844599093744622\t 7.5663867400248765\n",
            "19 \t [  5.57298238 -10.        ]\t 473.97067150850523\t 25.26940506932613\t 7.168308748999566\t 6.411338904969102\n",
            "20 \t [-10.           1.92752836]\t 705.1284817102046\t 25.26940506932613\t 8.42276908194638\t 8.006081371382338\n"
          ]
        }
      ],
      "source": [
        "### ESTIMATED GP EI GRADIENTS\n",
        "\n",
        "np.random.seed(run_num_8)\n",
        "surrogate_approx_8 = dGaussianProcess(cov_func, optimize=opt)\n",
        "\n",
        "approx_8 = GPGO_multi(surrogate_approx_8, Acquisition_grad(util), objfunc, param)\n",
        "approx_8.run(init_evals=n_init, max_iter=iters)\n"
      ]
    },
    {
      "cell_type": "code",
      "execution_count": 21,
      "metadata": {
        "id": "85OIXcg7GCaJ",
        "colab": {
          "base_uri": "https://localhost:8080/"
        },
        "outputId": "9154464e-00be-487b-f4fa-014df958a5d8"
      },
      "outputs": [
        {
          "output_type": "stream",
          "name": "stdout",
          "text": [
            "Evaluation \t Proposed point \t  Current eval. \t  Best eval. \t        Exact EI: StdDev. x \t Approx EI: StdDev. x \n",
            "init\t [-9.79251692  0.03749184]\t 882.0577358281939\t 526.7340464177141\t    \t    \n",
            "init\t [-0.08453414 -7.32340942]\t 628.3137012668271\t 526.7340464177141\t    \t    \n",
            "init\t [-7.15777829 -5.62882649]\t 1268.1663931377898\t 526.7340464177141\t    \t    \n",
            "init\t [-1.62983639 -5.03797663]\t 526.7340464177141\t 526.7340464177141\t    \t    \n",
            "init\t [-8.31880698 -3.0900272 ]\t 1073.657277368356\t 526.7340464177141\t    \t    \n",
            "1  \t [6.0747954  9.66718496]\t 621.7013152481403\t 526.7340464177141\t 6.232699916204608\t 5.993179869750004\n",
            "\u001b[1m\u001b[92m2\u001b[0m\t \u001b[1m\u001b[92m[-3.94738717  9.4159639 ]\u001b[0m\t \u001b[1m\u001b[92m74.26810293779924\u001b[0m\t \u001b[1m\u001b[92m74.26810293779924\u001b[0m\t \u001b[1m\u001b[92m6.854359759411069\u001b[0m\t \u001b[1m\u001b[92m6.675335795107524\u001b[0m\n",
            "3  \t [ 10. -10.]\t 314.0\t 74.26810293779924\t 6.369161797495058\t 6.100081525553851\n",
            "4  \t [6.84670744 1.06159955]\t 99.0408382795621\t 74.26810293779924\t 6.421843486577525\t 5.7501443084782045\n",
            "\u001b[1m\u001b[92m5\u001b[0m\t \u001b[1m\u001b[92m[-0.52696617  1.32475557]\u001b[0m\t \u001b[1m\u001b[92m46.15468066876127\u001b[0m\t \u001b[1m\u001b[92m46.15468066876127\u001b[0m\t \u001b[1m\u001b[92m7.475766972696814\u001b[0m\t \u001b[1m\u001b[92m7.257166999273937\u001b[0m\n",
            "6  \t [-10.  10.]\t 234.0\t 46.15468066876127\t 6.627245640904305\t 6.83791176219391\n",
            "7  \t [ 5.72077326 -4.99632199]\t 129.14374369080053\t 46.15468066876127\t 6.88462092553767\t 7.02017596138416\n",
            "8  \t [0.9757323  6.60932155]\t 64.43823559198827\t 46.15468066876127\t 7.134070982052742\t 6.966596515241116\n",
            "9  \t [-5.36043136  4.05701934]\t 154.07709311719938\t 46.15468066876127\t 7.717737054254697\t 6.971000223188514\n",
            "10 \t [10.          5.47327089]\t 613.6608487175228\t 46.15468066876127\t 7.7155165784795345\t 7.2362091946127265\n",
            "11 \t [  4.62920463 -10.        ]\t 533.4183498431366\t 46.15468066876127\t 8.33361153530217\t 7.553575070612055\n",
            "12 \t [10.         -2.69465272]\t 157.13035224103226\t 46.15468066876127\t 7.891327606017442\t 6.675818135895488\n",
            "13 \t [-10. -10.]\t 2594.0\t 46.15468066876127\t 6.840961417137051\t 5.881856551818512\n",
            "14 \t [ -4.38411904 -10.        ]\t 1549.8920687881593\t 46.15468066876127\t 6.218021119248084\t 5.945813563115845\n",
            "15 \t [-10.           5.17766643]\t 437.0765094496106\t 46.15468066876127\t 5.808567904065325\t 5.540036366988032\n",
            "16 \t [ 2.68224742 -1.5751663 ]\t 57.23802162523623\t 46.15468066876127\t 6.1780790652841295\t 5.508687557890884\n",
            "17 \t [4.90531744 4.93213992]\t 155.2883027383349\t 46.15468066876127\t 5.814670244966603\t 4.614174798861746\n",
            "18 \t [-4.17377093 -0.58304519]\t 346.3334331008631\t 46.15468066876127\t 5.837006615183541\t 6.807121483106097\n",
            "19 \t [ 1.56544169 10.        ]\t 278.2633564029843\t 46.15468066876127\t 7.010994156887524\t 6.137695539375355\n",
            "20 \t [10. 10.]\t 1154.0\t 46.15468066876127\t 7.086208895124228\t 6.601743735122575\n"
          ]
        }
      ],
      "source": [
        "### ESTIMATED GP EI GRADIENTS\n",
        "\n",
        "np.random.seed(run_num_9)\n",
        "surrogate_approx_9 = dGaussianProcess(cov_func, optimize=opt)\n",
        "\n",
        "approx_9 = GPGO_multi(surrogate_approx_9, Acquisition_grad(util), objfunc, param)\n",
        "approx_9.run(init_evals=n_init, max_iter=iters)\n"
      ]
    },
    {
      "cell_type": "code",
      "execution_count": 22,
      "metadata": {
        "id": "QQBR-qJPGCcp",
        "colab": {
          "base_uri": "https://localhost:8080/"
        },
        "outputId": "02d2bc96-d61f-4ae2-93db-704abeeba83b"
      },
      "outputs": [
        {
          "output_type": "stream",
          "name": "stdout",
          "text": [
            "Evaluation \t Proposed point \t  Current eval. \t  Best eval. \t        Exact EI: StdDev. x \t Approx EI: StdDev. x \n",
            "init\t [ 5.42641287 -9.58496101]\t 444.22200604720473\t 59.96573403226766\t    \t    \n",
            "init\t [2.6729647  4.97607765]\t 59.96573403226766\t 59.96573403226766\t    \t    \n",
            "init\t [-0.02985975 -5.50406709]\t 436.96281238949786\t 59.96573403226766\t    \t    \n",
            "init\t [-6.0387427   5.21061424]\t 147.67401193720747\t 59.96573403226766\t    \t    \n",
            "init\t [-6.61778327 -8.23320372]\t 1605.6543289416081\t 59.96573403226766\t    \t    \n",
            "1  \t [10. 10.]\t 1154.0\t 59.96573403226766\t 5.812535099307392\t 6.059337487249753\n",
            "\u001b[1m\u001b[92m2\u001b[0m\t \u001b[1m\u001b[92m[2.11155129 0.26933255]\u001b[0m\t \u001b[1m\u001b[92m19.17823960765822\u001b[0m\t \u001b[1m\u001b[92m19.17823960765822\u001b[0m\t \u001b[1m\u001b[92m5.072770470317418\u001b[0m\t \u001b[1m\u001b[92m5.067298490199191\u001b[0m\n",
            "3  \t [9.55798527 1.46057808]\t 272.6498576127984\t 19.17823960765822\t 5.423375634734044\t 6.636654180636832\n",
            "4  \t [-10.         -0.9861922]\t 1035.2335550087473\t 19.17823960765822\t 6.843870500553017\t 7.348092508168195\n",
            "5  \t [-10.  10.]\t 234.0\t 19.17823960765822\t 5.942671149105483\t 6.122252021288816\n",
            "6  \t [0.20663569 9.9051757 ]\t 197.72783206478573\t 19.17823960765822\t 6.685783711570542\t 6.556055781443969\n",
            "7  \t [-3.34939057 -0.34134246]\t 266.67126571159764\t 19.17823960765822\t 6.048321276352138\t 5.944856983761693\n",
            "8  \t [ 9.75331279 -4.62332818]\t 139.8430781787904\t 19.17823960765822\t 6.68107071769397\t 6.894792213426916\n",
            "9  \t [-5.32422076 10.        ]\t 90.82247851663352\t 19.17823960765822\t 6.720869112469707\t 6.214080390985886\n",
            "10 \t [ 4.88481276 -3.49731983]\t 84.60770789858024\t 19.17823960765822\t 6.799535250936287\t 7.415986285030908\n",
            "11 \t [ 10. -10.]\t 314.0\t 19.17823960765822\t 6.431339648272613\t 6.851538395681251\n",
            "12 \t [4.94349777 9.12471981]\t 458.5393886815699\t 19.17823960765822\t 6.026676179605172\t 5.70156309675525\n",
            "\u001b[1m\u001b[92m13\u001b[0m\t \u001b[1m\u001b[92m[-1.58016046  4.20132874]\u001b[0m\t \u001b[1m\u001b[92m15.705126413641455\u001b[0m\t \u001b[1m\u001b[92m15.705126413641455\u001b[0m\t \u001b[1m\u001b[92m6.675330358623753\u001b[0m\t \u001b[1m\u001b[92m5.452382865470951\u001b[0m\n",
            "14 \t [ -2.36098831 -10.        ]\t 1251.0239964484695\t 15.705126413641455\t 6.106469803076038\t 6.554014049735831\n",
            "15 \t [7.74694577 5.49773669]\t 393.6165809214815\t 15.705126413641455\t 6.857575666783099\t 6.7318953496512535\n",
            "16 \t [-6.10162264 -3.59988698]\t 844.9170158352323\t 15.705126413641455\t 6.149989722189025\t 6.109675175979254\n",
            "17 \t [-10. -10.]\t 2594.0\t 15.705126413641455\t 6.40806722434305\t 6.166684149886891\n",
            "18 \t [-2.65430041  7.22911058]\t 32.560914707729225\t 15.705126413641455\t 5.182968186180177\t 6.0417872258633025\n",
            "19 \t [-10.           3.90573742]\t 529.3969085604607\t 15.705126413641455\t 4.724497706538148\t 5.400685490975753\n",
            "20 \t [5.30704976 1.63801679]\t 55.09934400070305\t 15.705126413641455\t 5.325079329706308\t 5.437698358889092\n"
          ]
        }
      ],
      "source": [
        "### ESTIMATED GP EI GRADIENTS\n",
        "\n",
        "np.random.seed(run_num_10)\n",
        "surrogate_approx_10 = dGaussianProcess(cov_func, optimize=opt)\n",
        "\n",
        "approx_10 = GPGO_multi(surrogate_approx_10, Acquisition_grad(util), objfunc, param)\n",
        "approx_10.run(init_evals=n_init, max_iter=iters)\n"
      ]
    },
    {
      "cell_type": "code",
      "execution_count": 23,
      "metadata": {
        "id": "JS8ejeQ2GCfi",
        "colab": {
          "base_uri": "https://localhost:8080/"
        },
        "outputId": "31007153-7a49-4ee1-e4ea-4f09e2203c52"
      },
      "outputs": [
        {
          "output_type": "stream",
          "name": "stdout",
          "text": [
            "Evaluation \t Proposed point \t  Current eval. \t  Best eval. \t        Exact EI: StdDev. x \t Approx EI: StdDev. x \n",
            "init\t [-6.39460622 -9.61049517]\t 1814.521116554919\t 5.483030044782123\t    \t    \n",
            "init\t [-0.73562947  4.49867858]\t 5.483030044782123\t 5.483030044782123\t    \t    \n",
            "init\t [-1.59592791 -0.29145804]\t 156.21779076814232\t 5.483030044782123\t    \t    \n",
            "init\t [-9.74438371 -0.25256785]\t 909.6795910034871\t 5.483030044782123\t    \t    \n",
            "init\t [8.83613305 7.01590179]\t 639.4153671589368\t 5.483030044782123\t    \t    \n",
            "1  \t [ 1.99086793 -8.88652641]\t 617.1328244256196\t 5.483030044782123\t 6.270102132332414\t 6.287304721342657\n",
            "2  \t [ 6.89877062 -3.95670624]\t 87.66816772781804\t 5.483030044782123\t 5.032888648794192\t 4.938428590740407\n",
            "3  \t [-10.  10.]\t 234.0\t 5.483030044782123\t 6.6995512066033065\t 7.134361249999058\n",
            "4  \t [ 10. -10.]\t 314.0\t 5.483030044782123\t 6.670832197829847\t 6.404825164485498\n",
            "5  \t [0.01587447 9.33945203]\t 155.87524245722562\t 5.483030044782123\t 6.421910855961901\t 5.846867732471166\n",
            "6  \t [5.24860912 2.85966119]\t 85.58191439419369\t 5.483030044782123\t 6.451646379746685\t 5.835218322059003\n",
            "7  \t [-6.14421734  5.01172923]\t 160.45663280110236\t 5.483030044782123\t 6.974520421951203\t 6.471962891544061\n",
            "8  \t [10.         0.4552155]\t 254.15515679287867\t 5.483030044782123\t 6.693687804968427\t 6.443740021703902\n",
            "9  \t [-5.41975143 -3.96496337]\t 806.3262842953679\t 5.483030044782123\t 7.276507416176529\t 7.127616466178682\n",
            "10 \t [-4.91470247 10.        ]\t 88.69518821233737\t 5.483030044782123\t 7.520891159510825\t 6.576406091815165\n",
            "11 \t [ 2.05560638 -3.5881874 ]\t 166.95632940568044\t 5.483030044782123\t 7.1224532177964655\t 6.490908015615062\n",
            "12 \t [ 4.8980302 10.       ]\t 539.2628884825327\t 5.483030044782123\t 7.4038252553514985\t 6.672428070988697\n",
            "13 \t [-9.90761361 -5.16936478]\t 1641.4389747977596\t 5.483030044782123\t 6.303085098141813\t 6.059164936745701\n",
            "14 \t [2.51854704 5.86603547]\t 87.4183996706031\t 5.483030044782123\t 8.456889057162595\t 7.473153357916656\n",
            "15 \t [-2.12656886 -7.14316698]\t 817.0028266853956\t 5.483030044782123\t 8.423559406529174\t 7.207561508315059\n",
            "16 \t [-10.           5.49350733]\t 416.65924926629646\t 5.483030044782123\t 8.616777041596144\t 6.737663255390199\n",
            "17 \t [ 6.29617173 -7.91704274]\t 273.6080203945068\t 5.483030044782123\t 8.927508715797751\t 6.989249393592269\n",
            "18 \t [-5.41666993  0.94682781]\t 332.34207133147027\t 5.483030044782123\t 5.455664101051359\t 5.778524784778416\n",
            "19 \t [2.29962237 0.54643388]\t 13.035349779594986\t 5.483030044782123\t 8.760331120304297\t 5.372177117339102\n",
            "20 \t [10.         -5.78416356]\t 158.34787099911478\t 5.483030044782123\t 8.578201285046028\t 6.764893304287785\n"
          ]
        }
      ],
      "source": [
        "### ESTIMATED GP EI GRADIENTS\n",
        "\n",
        "np.random.seed(run_num_11)\n",
        "surrogate_approx_11 = dGaussianProcess(cov_func, optimize=opt)\n",
        "\n",
        "approx_11 = GPGO_multi(surrogate_approx_11, Acquisition_grad(util), objfunc, param)\n",
        "approx_11.run(init_evals=n_init, max_iter=iters)\n"
      ]
    },
    {
      "cell_type": "code",
      "execution_count": 24,
      "metadata": {
        "id": "DXwjUVZ4GCii",
        "colab": {
          "base_uri": "https://localhost:8080/"
        },
        "outputId": "2309521d-abe2-45b6-ce41-5a913bb5090d"
      },
      "outputs": [
        {
          "output_type": "stream",
          "name": "stdout",
          "text": [
            "Evaluation \t Proposed point \t  Current eval. \t  Best eval. \t        Exact EI: StdDev. x \t Approx EI: StdDev. x \n",
            "init\t [-6.91674315  4.80099393]\t 215.5279554685742\t 189.34864056663108\t    \t    \n",
            "init\t [-4.7336997   0.67478787]\t 298.0661631184378\t 189.34864056663108\t    \t    \n",
            "init\t [-9.70850075  8.37494016]\t 257.3494442600599\t 189.34864056663108\t    \t    \n",
            "init\t [ 8.01429708 -9.33157145]\t 314.3616446198572\t 189.34864056663108\t    \t    \n",
            "init\t [ 9.13898673 -7.25581357]\t 189.34864056663108\t 189.34864056663108\t    \t    \n",
            "\u001b[1m\u001b[92m1\u001b[0m\t \u001b[1m\u001b[92m[4.66251955 4.05244711]\u001b[0m\t \u001b[1m\u001b[92m103.44533669968575\u001b[0m\t \u001b[1m\u001b[92m103.44533669968575\u001b[0m\t \u001b[1m\u001b[92m6.224759087255188\u001b[0m\t \u001b[1m\u001b[92m5.897982927942297\u001b[0m\n",
            "2  \t [-3.75432006 -8.6025265 ]\t 1227.4078991356632\t 103.44533669968575\t 6.792277811667454\t 6.015930219819051\n",
            "3  \t [10. 10.]\t 1154.0\t 103.44533669968575\t 7.998257587708679\t 7.104176518292004\n",
            "4  \t [0.62006076 8.91956245]\t 157.93527468112498\t 103.44533669968575\t 6.581075741157471\t 6.01378672606955\n",
            "5  \t [ 8.15269188 -0.957369  ]\t 107.66212394211308\t 103.44533669968575\t 5.691453961878488\t 5.706523840384254\n",
            "6  \t [-10.          -6.02712928]\t 1806.8326913147719\t 103.44533669968575\t 6.448636452889989\t 6.561213671165508\n",
            "7  \t [ 0.84580721 -1.97409776]\t 129.96287973559808\t 103.44533669968575\t 6.438890310480047\t 6.16882225027666\n",
            "8  \t [ 2.30542808 -8.19791516]\t 518.5426488862732\t 103.44533669968575\t 6.699658423691355\t 7.029080820584995\n",
            "9  \t [10.         4.1386778]\t 493.4677372827309\t 103.44533669968575\t 5.9432323593636776\t 6.465581008610535\n",
            "\u001b[1m\u001b[92m10\u001b[0m\t \u001b[1m\u001b[92m[-4.56265418 10.        ]\u001b[0m\t \u001b[1m\u001b[92m88.20697355080614\u001b[0m\t \u001b[1m\u001b[92m88.20697355080614\u001b[0m\t \u001b[1m\u001b[92m5.93604813198151\u001b[0m\t \u001b[1m\u001b[92m6.401013380335969\u001b[0m\n",
            "11 \t [-10.          -0.07498528]\t 922.8763768074127\t 88.20697355080614\t 6.519644427898875\t 5.871076923740768\n",
            "\u001b[1m\u001b[92m12\u001b[0m\t \u001b[1m\u001b[92m[-0.46774289  3.77581267]\u001b[0m\t \u001b[1m\u001b[92m4.671224227560899\u001b[0m\t \u001b[1m\u001b[92m4.671224227560899\u001b[0m\t \u001b[1m\u001b[92m6.0301164252296156\u001b[0m\t \u001b[1m\u001b[92m6.393901390544264\u001b[0m\n",
            "13 \t [ 5.10012424 -4.23889419]\t 108.6201149135012\t 4.671224227560899\t 6.226398197107423\t 6.942399294042779\n",
            "14 \t [5.17626864 8.75717613]\t 445.2795967995944\t 4.671224227560899\t 6.192150812865068\t 6.42970708125255\n",
            "15 \t [-3.42864235 -3.72972245]\t 562.9384568428111\t 4.671224227560899\t 6.492801615387699\t 6.910468180996874\n",
            "16 \t [-2.76311161  6.14102511]\t 25.575014223973305\t 4.671224227560899\t 7.154746260016992\t 7.198257768144299\n",
            "17 \t [4.27012799 0.09720713]\t 19.659683839869178\t 4.671224227560899\t 6.722316177509569\t 7.06037775151326\n",
            "18 \t [ -8.04878373 -10.        ]\t 2195.475942298505\t 4.671224227560899\t 6.349289245078746\t 7.072373722707477\n",
            "\u001b[1m\u001b[92m19\u001b[0m\t \u001b[1m\u001b[92m[1.35350461 1.87721188]\u001b[0m\t \u001b[1m\u001b[92m3.7528071516876906\u001b[0m\t \u001b[1m\u001b[92m3.7528071516876906\u001b[0m\t \u001b[1m\u001b[92m5.5786456355035\u001b[0m\t \u001b[1m\u001b[92m6.838418573416331\u001b[0m\n",
            "20 \t [1.35286164 5.32690901]\t 34.26369997720229\t 3.7528071516876906\t 5.207419981754627\t 6.820067869259185\n"
          ]
        }
      ],
      "source": [
        "### ESTIMATED GP EI GRADIENTS\n",
        "\n",
        "np.random.seed(run_num_12)\n",
        "surrogate_approx_12 = dGaussianProcess(cov_func, optimize=opt)\n",
        "\n",
        "approx_12 = GPGO_multi(surrogate_approx_12, Acquisition_grad(util), objfunc, param)\n",
        "approx_12.run(init_evals=n_init, max_iter=iters)\n"
      ]
    },
    {
      "cell_type": "code",
      "execution_count": 25,
      "metadata": {
        "id": "CphOPndPGClX",
        "colab": {
          "base_uri": "https://localhost:8080/"
        },
        "outputId": "b37a0718-29ea-4422-cd17-dbcf476c930c"
      },
      "outputs": [
        {
          "output_type": "stream",
          "name": "stdout",
          "text": [
            "Evaluation \t Proposed point \t  Current eval. \t  Best eval. \t        Exact EI: StdDev. x \t Approx EI: StdDev. x \n",
            "init\t [ 5.55404821 -5.2491756 ]\t 143.4041188295949\t 48.27231948835582\t    \t    \n",
            "init\t [6.48557065 9.31498396]\t 626.9828646177026\t 48.27231948835582\t    \t    \n",
            "init\t [ 9.45202228 -0.93101505]\t 168.64758529203058\t 48.27231948835582\t    \t    \n",
            "init\t [2.18084926 5.51053029]\t 62.202299160666314\t 48.27231948835582\t    \t    \n",
            "init\t [2.8322669  4.44036459]\t 48.27231948835582\t 48.27231948835582\t    \t    \n",
            "1  \t [-8.69830926  2.59657998]\t 502.3996877395562\t 48.27231948835582\t 5.854603360217185\t 6.217278588546162\n",
            "2  \t [-5.9673185  -6.48540274]\t 1221.284536050755\t 48.27231948835582\t 6.518758468010503\t 6.679640216468617\n",
            "3  \t [-3.72162145 10.        ]\t 92.05774437813479\t 48.27231948835582\t 7.753765025931937\t 7.4404210334776275\n",
            "4  \t [ 10. -10.]\t 314.0\t 48.27231948835582\t 7.009821181244518\t 7.343814131374386\n",
            "5  \t [-1.23988008 -0.98009132]\t 175.61036659193405\t 48.27231948835582\t 7.1037926496468815\t 6.946592137647965\n",
            "6  \t [-9.62589206  9.52653498]\t 222.72415491537225\t 48.27231948835582\t 6.964347498902407\t 6.981753445631745\n",
            "7  \t [-0.51100019 -9.89756821]\t 999.0577600411966\t 48.27231948835582\t 8.062181957434579\t 7.249020459880046\n",
            "8  \t [10.          4.67003307]\t 539.1874337515414\t 48.27231948835582\t 8.165825440830629\t 7.151480177264227\n",
            "9  \t [-3.16252382  4.43214839]\t 49.19745338093134\t 48.27231948835582\t 7.27927381219812\t 6.980184218031602\n",
            "10 \t [-10.          -2.68396695]\t 1266.7264923747698\t 48.27231948835582\t 7.359396590663287\t 6.587224066762002\n",
            "\u001b[1m\u001b[92m11\u001b[0m\t \u001b[1m\u001b[92m[ 4.10869871 -0.26946729]\u001b[0m\t \u001b[1m\u001b[92m20.45681020504568\u001b[0m\t \u001b[1m\u001b[92m20.45681020504568\u001b[0m\t \u001b[1m\u001b[92m8.119272477670817\u001b[0m\t \u001b[1m\u001b[92m7.644291724260852\u001b[0m\n",
            "12 \t [-10. -10.]\t 2594.0\t 20.45681020504568\t 8.994067691275681\t 6.923665458191553\n",
            "13 \t [ 1.15130581 10.        ]\t 253.5875928739195\t 20.45681020504568\t 6.7925506943076455\t 6.699835705448602\n",
            "14 \t [  4.82460689 -10.        ]\t 520.378973062836\t 20.45681020504568\t 5.669914628700806\t 5.05423149938807\n",
            "15 \t [ 0.90382351 -5.07677384]\t 332.4319937196195\t 20.45681020504568\t 5.787205525655176\t 5.40235690587944\n",
            "16 \t [-5.52860836 -0.92328208]\t 494.9829243955958\t 20.45681020504568\t 6.414452305089001\t 5.777896350028905\n",
            "17 \t [10.         -5.37937382]\t 152.7546130573066\t 20.45681020504568\t 7.624184757595276\t 7.7348588391758275\n",
            "18 \t [6.19278457 2.55657897]\t 117.38744984208623\t 20.45681020504568\t 6.098551993554371\t 6.250368128012486\n",
            "19 \t [-6.42607608  6.64337259]\t 125.6561527656911\t 20.45681020504568\t 5.945029244570392\t 5.340063731338991\n",
            "20 \t [-1.24188689  7.05675817]\t 34.658374761796736\t 20.45681020504568\t 7.666225858407458\t 7.2320554312390035\n"
          ]
        }
      ],
      "source": [
        "### ESTIMATED GP EI GRADIENTS\n",
        "\n",
        "np.random.seed(run_num_13)\n",
        "surrogate_approx_13 = dGaussianProcess(cov_func, optimize=opt)\n",
        "\n",
        "approx_13 = GPGO_multi(surrogate_approx_13, Acquisition_grad(util), objfunc, param)\n",
        "approx_13.run(init_evals=n_init, max_iter=iters)\n"
      ]
    },
    {
      "cell_type": "code",
      "execution_count": 26,
      "metadata": {
        "id": "ojHTeARNGCoi",
        "colab": {
          "base_uri": "https://localhost:8080/"
        },
        "outputId": "f33d3087-42e2-4949-ba89-aee54eb6369e"
      },
      "outputs": [
        {
          "output_type": "stream",
          "name": "stdout",
          "text": [
            "Evaluation \t Proposed point \t  Current eval. \t  Best eval. \t        Exact EI: StdDev. x \t Approx EI: StdDev. x \n",
            "init\t [0.27886688 5.46330104]\t 18.728481209446468\t 18.728481209446468\t    \t    \n",
            "init\t [ 7.40855371 -9.83906103]\t 371.31674613664467\t 18.728481209446468\t    \t    \n",
            "init\t [-3.80528149  9.15207479]\t 68.19416312981014\t 18.728481209446468\t    \t    \n",
            "init\t [ 0.26233425 -3.6343115 ]\t 261.94243460125864\t 18.728481209446468\t    \t    \n",
            "init\t [ 0.78399875 -5.57490115]\t 382.6954465291845\t 18.728481209446468\t    \t    \n",
            "1  \t [ 9.82765998 -0.95725402]\t 188.47085669712428\t 18.728481209446468\t 6.64569165448788\t 6.688568240948922\n",
            "2  \t [10.        8.825497]\t 994.1178609811359\t 18.728481209446468\t 6.831900998178225\t 6.269333049523629\n",
            "3  \t [-10. -10.]\t 2594.0\t 18.728481209446468\t 5.858755749360661\t 5.961994419786452\n",
            "4  \t [-9.81870638 -1.67969232]\t 1099.7453771846324\t 18.728481209446468\t 5.074788477062174\t 5.814700621843037\n",
            "5  \t [-10.  10.]\t 234.0\t 18.728481209446468\t 5.217370781057797\t 6.2300592954926755\n",
            "6  \t [-4.42994472  1.66956922]\t 214.0650531218119\t 18.728481209446468\t 5.144508984962803\t 5.34132267421484\n",
            "7  \t [ 3.53227321 10.        ]\t 418.869337432306\t 18.728481209446468\t 5.09329008314492\t 5.254908408527883\n",
            "8  \t [ -3.43703663 -10.        ]\t 1404.8882803857678\t 18.728481209446468\t 5.666783573443335\t 6.813982868942157\n",
            "9  \t [5.83389891 3.53174811]\t 138.8100061695795\t 18.728481209446468\t 5.747170429917045\t 6.323700668802312\n",
            "10 \t [-10.           4.29707854]\t 499.2691521056272\t 18.728481209446468\t 5.256178059969653\t 6.454666685532475\n",
            "11 \t [-5.02972011 -4.52802985]\t 828.2790938182786\t 18.728481209446468\t 5.786374627734901\t 6.587857151250228\n",
            "12 \t [ 6.05992512 -4.55196898]\t 107.47620798263988\t 18.728481209446468\t 5.579229043674496\t 5.442150366792423\n",
            "\u001b[1m\u001b[92m13\u001b[0m\t \u001b[1m\u001b[92m[1.44595535 1.17300964]\u001b[0m\t \u001b[1m\u001b[92m11.16580068373734\u001b[0m\t \u001b[1m\u001b[92m11.16580068373734\u001b[0m\t \u001b[1m\u001b[92m5.971008778590571\u001b[0m\t \u001b[1m\u001b[92m6.69738429711799\u001b[0m\n",
            "14 \t [  2.45907366 -10.        ]\t 703.9008193029897\t 11.16580068373734\t 5.77567687410531\t 5.963265169873518\n",
            "15 \t [ 4.65687417 -0.63077046]\t 26.557948448824593\t 11.16580068373734\t 5.716312180902888\t 5.865244797716074\n",
            "16 \t [10.        -5.9617237]\t 161.31835191572407\t 11.16580068373734\t 6.266525110335386\t 6.337255429592763\n",
            "17 \t [10.          3.80457711]\t 466.16627371522236\t 11.16580068373734\t 5.660916168814857\t 6.350525115964643\n",
            "18 \t [-5.76439532  5.77141258]\t 117.21341639511547\t 11.16580068373734\t 5.0301480040085265\t 5.585578066568749\n",
            "19 \t [-0.31771402  8.80107166]\t 115.79078573508652\t 11.16580068373734\t 5.6495419901392765\t 5.957327007792448\n",
            "20 \t [-1.14840759 -0.09177238]\t 124.01265634082728\t 11.16580068373734\t 5.346222495743041\t 5.550803302056496\n"
          ]
        }
      ],
      "source": [
        "### ESTIMATED GP EI GRADIENTS\n",
        "\n",
        "np.random.seed(run_num_14)\n",
        "surrogate_approx_14 = dGaussianProcess(cov_func, optimize=opt)\n",
        "\n",
        "approx_14 = GPGO_multi(surrogate_approx_14, Acquisition_grad(util), objfunc, param)\n",
        "approx_14.run(init_evals=n_init, max_iter=iters)\n"
      ]
    },
    {
      "cell_type": "code",
      "execution_count": 27,
      "metadata": {
        "id": "vCJzn4vWGCs3",
        "colab": {
          "base_uri": "https://localhost:8080/"
        },
        "outputId": "3b78521e-3455-44cb-d59e-15bf074f077e"
      },
      "outputs": [
        {
          "output_type": "stream",
          "name": "stdout",
          "text": [
            "Evaluation \t Proposed point \t  Current eval. \t  Best eval. \t        Exact EI: StdDev. x \t Approx EI: StdDev. x \n",
            "init\t [ 6.97635395 -6.4220815 ]\t 171.98457986923216\t 171.98457986923216\t    \t    \n",
            "init\t [-8.91273571 -2.76923108]\t 1115.2426864421157\t 171.98457986923216\t    \t    \n",
            "init\t [-4.49198143  0.6000045 ]\t 285.0550378664367\t 171.98457986923216\t    \t    \n",
            "init\t [-3.88162169 -3.91051282]\t 627.8031621427792\t 171.98457986923216\t    \t    \n",
            "init\t [-7.76517448 -5.00201972]\t 1265.415808453521\t 171.98457986923216\t    \t    \n",
            "1  \t [ 6.52494734 10.        ]\t 707.0222660873726\t 171.98457986923216\t 7.510601596938228\t 7.2255644359892095\n",
            "2  \t [-10.  10.]\t 234.0\t 171.98457986923216\t 6.334905969825309\t 6.856577732797072\n",
            "\u001b[1m\u001b[92m3\u001b[0m\t \u001b[1m\u001b[92m[-2.5883102   8.30084972]\u001b[0m\t \u001b[1m\u001b[92m52.70614424722144\u001b[0m\t \u001b[1m\u001b[92m52.70614424722144\u001b[0m\t \u001b[1m\u001b[92m7.3682552244495705\u001b[0m\t \u001b[1m\u001b[92m6.881782253045182\u001b[0m\n",
            "4  \t [8.17696818 1.09984692]\t 166.4985641578168\t 52.70614424722144\t 6.654794522133039\t 6.701606465144032\n",
            "5  \t [  0.49324359 -10.        ]\t 898.9866773151921\t 52.70614424722144\t 7.810744634512376\t 7.362850201035619\n",
            "6  \t [ 2.80683711 -1.99958333]\t 69.03500732014656\t 52.70614424722144\t 7.541590702065545\t 7.585483942801648\n",
            "7  \t [2.33369306 5.22290027]\t 57.31744705779738\t 52.70614424722144\t 7.870373191910096\t 7.427698772505392\n",
            "8  \t [-10.           3.85084111]\t 533.7456353778489\t 52.70614424722144\t 8.03020169169056\t 8.23782121164063\n",
            "9  \t [ -5.20537374 -10.        ]\t 1682.8921847019924\t 52.70614424722144\t 7.503183236242986\t 6.766622283044743\n",
            "10 \t [ 10. -10.]\t 314.0\t 52.70614424722144\t 7.9934118309357425\t 7.894030020176761\n",
            "11 \t [ 1.49888487 10.        ]\t 274.1819830107014\t 52.70614424722144\t 6.945192376720202\t 6.724448340557608\n",
            "12 \t [10.         -3.07282645]\t 152.15260110381715\t 52.70614424722144\t 7.596144759649756\t 6.6236508884417455\n",
            "13 \t [10.          5.89667069]\t 655.5137950106925\t 52.70614424722144\t 6.346764964761893\t 6.743655814783408\n",
            "\u001b[1m\u001b[92m14\u001b[0m\t \u001b[1m\u001b[92m[0.11479597 1.50509453]\u001b[0m\t \u001b[1m\u001b[92m25.678013541617737\u001b[0m\t \u001b[1m\u001b[92m25.678013541617737\u001b[0m\t \u001b[1m\u001b[92m7.422636709092604\u001b[0m\t \u001b[1m\u001b[92m7.057581629103555\u001b[0m\n",
            "15 \t [-10. -10.]\t 2594.0\t 25.678013541617737\t 6.715125825761211\t 5.881440425396682\n",
            "16 \t [-5.4374953   5.24436001]\t 116.80803175691864\t 25.678013541617737\t 6.58436830795673\t 6.085686042900826\n",
            "17 \t [ 0.58865809 -5.35477496]\t 377.35068632741707\t 25.678013541617737\t 6.315464924128657\t 6.2552261513667\n",
            "18 \t [  5.10080961 -10.        ]\t 502.5989977158357\t 25.678013541617737\t 6.295117769321131\t 6.396912995048198\n",
            "\u001b[1m\u001b[92m19\u001b[0m\t \u001b[1m\u001b[92m[4.08626677 1.78162248]\u001b[0m\t \u001b[1m\u001b[92m24.9655273419675\u001b[0m\t \u001b[1m\u001b[92m24.9655273419675\u001b[0m\t \u001b[1m\u001b[92m6.2804770838920065\u001b[0m\t \u001b[1m\u001b[92m5.724445110683294\u001b[0m\n",
            "\u001b[1m\u001b[92m20\u001b[0m\t \u001b[1m\u001b[92m[-1.50061203  4.62761798]\u001b[0m\t \u001b[1m\u001b[92m11.950675236044674\u001b[0m\t \u001b[1m\u001b[92m11.950675236044674\u001b[0m\t \u001b[1m\u001b[92m4.607489315162894\u001b[0m\t \u001b[1m\u001b[92m5.642779016064453\u001b[0m\n"
          ]
        }
      ],
      "source": [
        "### ESTIMATED GP EI GRADIENTS\n",
        "\n",
        "np.random.seed(run_num_15)\n",
        "surrogate_approx_15 = dGaussianProcess(cov_func, optimize=opt)\n",
        "\n",
        "approx_15 = GPGO_multi(surrogate_approx_15, Acquisition_grad(util), objfunc, param)\n",
        "approx_15.run(init_evals=n_init, max_iter=iters)\n"
      ]
    },
    {
      "cell_type": "code",
      "execution_count": 28,
      "metadata": {
        "id": "bGGkhp-kGCw6",
        "colab": {
          "base_uri": "https://localhost:8080/"
        },
        "outputId": "2185d6b5-4725-45a4-bf35-e6da0e098491"
      },
      "outputs": [
        {
          "output_type": "stream",
          "name": "stdout",
          "text": [
            "Evaluation \t Proposed point \t  Current eval. \t  Best eval. \t        Exact EI: StdDev. x \t Approx EI: StdDev. x \n",
            "init\t [-5.53417842  0.46326683]\t 378.2562509858209\t 182.86095429406956\t    \t    \n",
            "init\t [ 1.01402913 -9.087961  ]\t 729.2383206820605\t 182.86095429406956\t    \t    \n",
            "init\t [-2.78542329 -5.53838117]\t 694.7380078426447\t 182.86095429406956\t    \t    \n",
            "init\t [ 3.77452324 -6.7253715 ]\t 295.53799633399245\t 182.86095429406956\t    \t    \n",
            "init\t [-8.59350266  8.8202172 ]\t 182.86095429406956\t 182.86095429406956\t    \t    \n",
            "1  \t [ 4.30444077 10.        ]\t 484.6453275506867\t 182.86095429406956\t 7.384193310212943\t 6.969005326219662\n",
            "2  \t [10.         -0.20158791]\t 225.7364960973156\t 182.86095429406956\t 8.125140979046916\t 7.589226347901228\n",
            "3  \t [-10. -10.]\t 2594.0\t 182.86095429406956\t 8.164114810028702\t 7.358307183473653\n",
            "4  \t [ 10. -10.]\t 314.0\t 182.86095429406956\t 6.3021464607590305\t 6.76458499118474\n",
            "\u001b[1m\u001b[92m5\u001b[0m\t \u001b[1m\u001b[92m[-2.22531694  5.42968011]\u001b[0m\t \u001b[1m\u001b[92m18.838166667692633\u001b[0m\t \u001b[1m\u001b[92m18.838166667692633\u001b[0m\t \u001b[1m\u001b[92m5.464581937544593\u001b[0m\t \u001b[1m\u001b[92m5.883009955242034\u001b[0m\n",
            "6  \t [4.4400632  2.12543757]\t 38.92607104020663\t 18.838166667692633\t 7.458205898414818\t 7.687660705728758\n",
            "7  \t [10.          5.85942912]\t 651.760571526817\t 18.838166667692633\t 6.422177210340228\t 6.846825409673652\n",
            "8  \t [-10.          -3.59552472]\t 1402.9109067893733\t 18.838166667692633\t 5.8192655801229725\t 6.021781014472624\n",
            "9  \t [ 0.06529642 -0.56308731]\t 94.48975331178039\t 18.838166667692633\t 6.585369953607447\t 6.428072786452064\n",
            "10 \t [-10.           3.59201353]\t 554.6552091869116\t 18.838166667692633\t 7.0509583784533465\t 7.656130553150253\n",
            "11 \t [-1.33497102 10.        ]\t 141.5020710838472\t 18.838166667692633\t 6.644898186185763\t 6.789617994555663\n",
            "12 \t [ 8.70829865 -5.04654499]\t 124.62239666981763\t 18.838166667692633\t 7.046380764614847\t 6.739432907959324\n",
            "13 \t [ -4.69189554 -10.        ]\t 1598.9455106935877\t 18.838166667692633\t 5.487922394778196\t 4.877882101806776\n",
            "14 \t [1.93078489 5.68226225]\t 60.27732962070852\t 18.838166667692633\t 5.498785306218411\t 5.472591003601422\n",
            "15 \t [ 5.00722536 -2.09721554]\t 46.791775623029054\t 18.838166667692633\t 6.507090126897669\t 6.464076407686668\n",
            "16 \t [10. 10.]\t 1154.0\t 18.838166667692633\t 5.725051896257073\t 5.7858740990900035\n",
            "17 \t [-5.82365582  5.4071933 ]\t 130.37742294437368\t 18.838166667692633\t 4.98295854821219\t 6.419566341001363\n",
            "18 \t [-5.02925675 10.        ]\t 89.12130676687795\t 18.838166667692633\t 4.971763347214886\t 6.178613852730908\n",
            "19 \t [5.68830412 5.73813601]\t 250.08563577408964\t 18.838166667692633\t 4.8272528223951285\t 5.427003302014282\n",
            "20 \t [  5.92017009 -10.        ]\t 454.34267897781865\t 18.838166667692633\t 4.939417169517797\t 5.338407268969357\n"
          ]
        }
      ],
      "source": [
        "### ESTIMATED GP EI GRADIENTS\n",
        "\n",
        "np.random.seed(run_num_16)\n",
        "surrogate_approx_16 = dGaussianProcess(cov_func, optimize=opt)\n",
        "\n",
        "approx_16 = GPGO_multi(surrogate_approx_16, Acquisition_grad(util), objfunc, param)\n",
        "approx_16.run(init_evals=n_init, max_iter=iters)\n"
      ]
    },
    {
      "cell_type": "code",
      "execution_count": 29,
      "metadata": {
        "id": "Yrs2mp7hGC1Z",
        "colab": {
          "base_uri": "https://localhost:8080/"
        },
        "outputId": "e65a4266-4dcb-4317-c744-6e13a8ff7061"
      },
      "outputs": [
        {
          "output_type": "stream",
          "name": "stdout",
          "text": [
            "Evaluation \t Proposed point \t  Current eval. \t  Best eval. \t        Exact EI: StdDev. x \t Approx EI: StdDev. x \n",
            "init\t [-4.10669995  0.61173511]\t 256.4801849765532\t 5.553508838684786\t    \t    \n",
            "init\t [-6.16958426 -8.64199284]\t 1602.4406672130797\t 5.553508838684786\t    \t    \n",
            "init\t [5.7397092  3.12667044]\t 117.20749172761734\t 5.553508838684786\t    \t    \n",
            "init\t [2.75041792 1.51205788]\t 5.553508838684786\t 5.553508838684786\t    \t    \n",
            "init\t [-9.21874168 -2.84372791]\t 1170.583554210921\t 5.553508838684786\t    \t    \n",
            "1  \t [-10.  10.]\t 234.0\t 5.553508838684786\t 6.883815702566379\t 7.481909305120746\n",
            "2  \t [ 4.54825031 -8.71744454]\t 416.8315243674168\t 5.553508838684786\t 5.687232404747948\t 5.9670728287021655\n",
            "3  \t [10. 10.]\t 1154.0\t 5.553508838684786\t 5.805728970863189\t 7.110231495492799\n",
            "4  \t [-0.05385845  7.96254756]\t 86.84889828641981\t 5.553508838684786\t 6.497604684073922\t 7.054686551861252\n",
            "5  \t [10.         -3.17332623]\t 151.07029515099444\t 5.553508838684786\t 5.495023664111348\t 6.095096560433641\n",
            "6  \t [-10.           3.90923317]\t 529.1210056525503\t 5.553508838684786\t 6.028970282631169\t 6.721129905712382\n",
            "7  \t [-0.36217255 -4.17330109]\t 344.7290043152468\t 5.553508838684786\t 5.415508607688464\t 5.62232445237938\n",
            "8  \t [-5.57224913  7.95450333]\t 78.20996789613113\t 5.553508838684786\t 6.257373482712489\t 6.920312727055914\n",
            "9  \t [ 10. -10.]\t 314.0\t 5.553508838684786\t 7.358288129688609\t 6.83409871112295\n",
            "10 \t [4.81702228 7.51546319]\t 312.6803227761734\t 5.553508838684786\t 5.47794005291668\t 4.661864775875288\n",
            "11 \t [ 5.63106758 -3.04769832]\t 66.04881251250691\t 5.553508838684786\t 6.662208737259443\t 5.947993172310765\n",
            "12 \t [ -0.6905132 -10.       ]\t 1035.1025477894527\t 5.553508838684786\t 6.627956250397937\t 5.173289059892281\n",
            "13 \t [10.          4.73763739]\t 545.2068105914199\t 5.553508838684786\t 6.721722767328355\t 6.416036587368062\n",
            "14 \t [-0.43858473  3.54608296]\t 5.55397030246307\t 5.553508838684786\t 5.920817784238568\t 6.44941771657663\n",
            "15 \t [-4.70647674 -3.97463111]\t 724.4513409561438\t 5.553508838684786\t 6.21835038544898\t 5.092456173164717\n",
            "16 \t [0.10167494 0.09892285]\t 66.965064986951\t 5.553508838684786\t 6.597974935033624\t 5.756566601275974\n",
            "17 \t [-10. -10.]\t 2594.0\t 5.553508838684786\t 5.72781600817951\t 6.36713820135777\n",
            "18 \t [-3.29968373  4.83901475]\t 46.088822844503355\t 5.553508838684786\t 5.378914868014435\t 6.354868738366026\n",
            "19 \t [8.75040006 0.53549399]\t 177.90519459915342\t 5.553508838684786\t 5.203119471382069\t 5.82769585870787\n",
            "20 \t [ 7.74095276 -6.14747558]\t 152.28216180815403\t 5.553508838684786\t 5.552787254946907\t 6.193203415543455\n"
          ]
        }
      ],
      "source": [
        "### ESTIMATED GP EI GRADIENTS\n",
        "\n",
        "np.random.seed(run_num_17)\n",
        "surrogate_approx_17 = dGaussianProcess(cov_func, optimize=opt)\n",
        "\n",
        "approx_17 = GPGO_multi(surrogate_approx_17, Acquisition_grad(util), objfunc, param)\n",
        "approx_17.run(init_evals=n_init, max_iter=iters)\n"
      ]
    },
    {
      "cell_type": "code",
      "execution_count": 30,
      "metadata": {
        "id": "f0HIEP3PIUEa",
        "colab": {
          "base_uri": "https://localhost:8080/"
        },
        "outputId": "d195a6c2-63af-4cbd-97c3-8cf8a27d5404"
      },
      "outputs": [
        {
          "output_type": "stream",
          "name": "stdout",
          "text": [
            "Evaluation \t Proposed point \t  Current eval. \t  Best eval. \t        Exact EI: StdDev. x \t Approx EI: StdDev. x \n",
            "init\t [3.00748483 0.10906747]\t 15.509405515253864\t 15.509405515253864\t    \t    \n",
            "init\t [ 7.57202942 -6.36319549]\t 162.0234327224751\t 15.509405515253864\t    \t    \n",
            "init\t [7.04466137 5.00272572]\t 299.59059770472754\t 15.509405515253864\t    \t    \n",
            "init\t [3.32203335 9.75790897]\t 380.8425822546991\t 15.509405515253864\t    \t    \n",
            "init\t [-4.86063155 -9.43388149]\t 1527.7052410059514\t 15.509405515253864\t    \t    \n",
            "1  \t [-6.1664519   4.28513481]\t 191.3691670751314\t 15.509405515253864\t 6.770364757915974\t 6.805032292386347\n",
            "2  \t [-10.  10.]\t 234.0\t 15.509405515253864\t 6.11212195544192\t 5.9894318329021505\n",
            "3  \t [10.         -1.06008041]\t 195.09547511900672\t 15.509405515253864\t 6.267660991612919\t 6.865221162163331\n",
            "4  \t [-9.3627557  -3.30908189]\t 1258.9918941057435\t 15.509405515253864\t 6.637531009285708\t 6.4179900281857085\n",
            "5  \t [ 4.59940623 -9.59713586]\t 495.48011107282537\t 15.509405515253864\t 6.04105382145917\t 5.68574676214302\n",
            "6  \t [-0.4273141  -4.84084222]\t 407.11091797592996\t 15.509405515253864\t 7.053410650459748\t 6.305245867685388\n",
            "7  \t [-3.85819306 10.        ]\t 90.95138764616004\t 15.509405515253864\t 6.827470634070431\t 6.999199938746345\n",
            "\u001b[1m\u001b[92m8\u001b[0m\t \u001b[1m\u001b[92m[-0.18722735  4.7539606 ]\u001b[0m\t \u001b[1m\u001b[92m5.770632849569183\u001b[0m\t \u001b[1m\u001b[92m5.770632849569183\u001b[0m\t \u001b[1m\u001b[92m7.227509556807887\u001b[0m\t \u001b[1m\u001b[92m6.1122653933320485\u001b[0m\n",
            "9  \t [10. 10.]\t 1154.0\t 5.770632849569183\t 7.152964809325865\t 6.521087834439807\n",
            "10 \t [-2.39379543  0.35937017]\t 164.14792645054106\t 5.770632849569183\t 6.15767679583195\t 5.330815556427756\n",
            "11 \t [-10. -10.]\t 2594.0\t 5.770632849569183\t 6.692505146605384\t 7.383505425749364\n",
            "12 \t [-10.           1.76941714]\t 720.8629627597776\t 5.770632849569183\t 5.056875908548064\t 5.921977624209547\n",
            "13 \t [ 10. -10.]\t 314.0\t 5.770632849569183\t 5.473339541603901\t 6.017863631507508\n",
            "14 \t [ 4.15766714 -3.57346808]\t 99.85212871096635\t 5.770632849569183\t 4.595338637952236\t 4.875770788747455\n",
            "15 \t [-5.27531845 -4.17316076]\t 814.2802292238769\t 5.770632849569183\t 5.451570376234606\t 5.446349383078453\n",
            "16 \t [ -0.01420228 -10.        ]\t 955.6200686992362\t 5.770632849569183\t 4.903812373537339\t 5.319746377042006\n",
            "17 \t [2.87396672 3.80384262]\t 32.84056568410767\t 5.770632849569183\t 5.6426332311822955\t 5.628377547484482\n",
            "18 \t [6.317483   0.74483881]\t 70.87263684349091\t 5.770632849569183\t 6.491476187485295\t 5.1827930202328885\n",
            "19 \t [-0.58213217  7.82857555]\t 67.97586259734432\t 5.770632849569183\t 4.808779004009807\t 4.616268367052745\n",
            "20 \t [-10.           6.04693199]\t 383.28895748765376\t 5.770632849569183\t 4.345527804769628\t 5.358882795099946\n"
          ]
        }
      ],
      "source": [
        "### ESTIMATED GP EI GRADIENTS\n",
        "\n",
        "np.random.seed(run_num_18)\n",
        "surrogate_approx_18 = dGaussianProcess(cov_func, optimize=opt)\n",
        "\n",
        "approx_18 = GPGO_multi(surrogate_approx_18, Acquisition_grad(util), objfunc, param)\n",
        "approx_18.run(init_evals=n_init, max_iter=iters)\n"
      ]
    },
    {
      "cell_type": "code",
      "execution_count": 31,
      "metadata": {
        "id": "S3mxRQDLIUPC",
        "colab": {
          "base_uri": "https://localhost:8080/"
        },
        "outputId": "2543f8b7-ddaf-4d1a-ea80-7ec714955ed3"
      },
      "outputs": [
        {
          "output_type": "stream",
          "name": "stdout",
          "text": [
            "Evaluation \t Proposed point \t  Current eval. \t  Best eval. \t        Exact EI: StdDev. x \t Approx EI: StdDev. x \n",
            "init\t [-8.04932797  5.22499433]\t 273.1270544592675\t 139.9227861892117\t    \t    \n",
            "init\t [-5.06124054 -7.23736625]\t 1204.1206373978957\t 139.9227861892117\t    \t    \n",
            "init\t [-3.37106873 -8.3400087 ]\t 1135.0538557997047\t 139.9227861892117\t    \t    \n",
            "init\t [3.43954163 6.13187596]\t 139.9227861892117\t 139.9227861892117\t    \t    \n",
            "init\t [9.65483829 2.7132147 ]\t 355.08571481298065\t 139.9227861892117\t    \t    \n",
            "1  \t [ 10. -10.]\t 314.0\t 139.9227861892117\t 7.179041779760691\t 7.386649887985332\n",
            "\u001b[1m\u001b[92m2\u001b[0m\t \u001b[1m\u001b[92m[ 4.81772344 -2.77685984]\u001b[0m\t \u001b[1m\u001b[92m63.29998354966632\u001b[0m\t \u001b[1m\u001b[92m63.29998354966632\u001b[0m\t \u001b[1m\u001b[92m7.330621756399445\u001b[0m\t \u001b[1m\u001b[92m6.780020833522823\u001b[0m\n",
            "3  \t [10. 10.]\t 1154.0\t 63.29998354966632\t 7.591384630318743\t 7.527324719307642\n",
            "4  \t [-9.64931371 -1.76781368]\t 1086.8911967373488\t 63.29998354966632\t 5.576244318548791\t 5.606269468701003\n",
            "5  \t [-2.72827984  0.77291488]\t 160.72546601818013\t 63.29998354966632\t 5.888387231036387\t 6.081361670452164\n",
            "\u001b[1m\u001b[92m6\u001b[0m\t \u001b[1m\u001b[92m[-2.2233185   8.40664734]\u001b[0m\t \u001b[1m\u001b[92m58.68931693407148\u001b[0m\t \u001b[1m\u001b[92m58.68931693407148\u001b[0m\t \u001b[1m\u001b[92m6.681791547765187\u001b[0m\t \u001b[1m\u001b[92m6.258160531916592\u001b[0m\n",
            "7  \t [  3.85915747 -10.        ]\t 588.5215300354321\t 58.68931693407148\t 6.414949562969501\t 6.952493124018729\n",
            "8  \t [10.         -4.11812615]\t 145.83351663268868\t 58.68931693407148\t 5.606437007535262\t 5.44743899088908\n",
            "9  \t [-10. -10.]\t 2594.0\t 58.68931693407148\t 6.7461950461152\t 7.417532389581324\n",
            "10 \t [-10.  10.]\t 234.0\t 58.68931693407148\t 6.352940487054831\t 6.020694643576459\n",
            "11 \t [-0.10065302 -3.81108157]\t 297.9844462129444\t 58.68931693407148\t 5.26294787887306\t 4.910208553966517\n",
            "\u001b[1m\u001b[92m12\u001b[0m\t \u001b[1m\u001b[92m[2.30104616 1.30352516]\u001b[0m\t \u001b[1m\u001b[92m5.196203362290944\u001b[0m\t \u001b[1m\u001b[92m5.196203362290944\u001b[0m\t \u001b[1m\u001b[92m5.64392773035231\u001b[0m\t \u001b[1m\u001b[92m5.652736159357829\u001b[0m\n",
            "13 \t [ 5.09190584 10.        ]\t 557.8651945334578\t 5.196203362290944\t 5.347721095705105\t 6.249853852150927\n",
            "\u001b[1m\u001b[92m14\u001b[0m\t \u001b[1m\u001b[92m[-0.61683538  4.54929576]\u001b[0m\t \u001b[1m\u001b[92m5.032720380677592\u001b[0m\t \u001b[1m\u001b[92m5.032720380677592\u001b[0m\t \u001b[1m\u001b[92m5.11670587915971\u001b[0m\t \u001b[1m\u001b[92m5.284241595792201\u001b[0m\n",
            "15 \t [5.48503299 1.42899595]\t 56.549833148238896\t 5.032720380677592\t 5.490564624724853\t 5.775608287909095\n",
            "16 \t [ 6.62201069 -6.50921626]\t 182.47366663023445\t 5.032720380677592\t 4.64492185327986\t 5.358046856641427\n",
            "17 \t [-5.74576733 10.        ]\t 94.76391389804574\t 5.032720380677592\t 4.539110959072488\t 5.061690653628298\n",
            "18 \t [-5.03379279 -2.63333638]\t 612.6287468478499\t 5.032720380677592\t 5.468124435547538\t 6.098241007233752\n",
            "19 \t [-3.84470178  4.81694213]\t 63.44172821142033\t 5.032720380677592\t 4.54844890580455\t 4.802798965489821\n",
            "20 \t [ 0.91046792 10.        ]\t 240.02628346092294\t 5.032720380677592\t 5.471638071895503\t 6.005258836662809\n"
          ]
        }
      ],
      "source": [
        "### ESTIMATED GP EI GRADIENTS\n",
        "\n",
        "np.random.seed(run_num_19)\n",
        "surrogate_approx_19 = dGaussianProcess(cov_func, optimize=opt)\n",
        "\n",
        "approx_19 = GPGO_multi(surrogate_approx_19, Acquisition_grad(util), objfunc, param)\n",
        "approx_19.run(init_evals=n_init, max_iter=iters)\n"
      ]
    },
    {
      "cell_type": "code",
      "execution_count": 32,
      "metadata": {
        "id": "Aawd59dRIUYn",
        "colab": {
          "base_uri": "https://localhost:8080/"
        },
        "outputId": "591dd053-d300-41b6-cfb9-945acd095c66"
      },
      "outputs": [
        {
          "output_type": "stream",
          "name": "stdout",
          "text": [
            "Evaluation \t Proposed point \t  Current eval. \t  Best eval. \t        Exact EI: StdDev. x \t Approx EI: StdDev. x \n",
            "init\t [1.76261602 7.95427456]\t 155.85777119682857\t 155.85777119682857\t    \t    \n",
            "init\t [7.83061459 6.31674955]\t 469.53411882784934\t 155.85777119682857\t    \t    \n",
            "init\t [-9.28220829  3.83515164]\t 463.4088031056881\t 155.85777119682857\t    \t    \n",
            "init\t [-2.42638116  0.37021891]\t 165.36424127801376\t 155.85777119682857\t    \t    \n",
            "init\t [ 3.15902931 -6.12299564]\t 281.877765303078\t 155.85777119682857\t    \t    \n",
            "1  \t [-10. -10.]\t 2594.0\t 155.85777119682857\t 6.916504168431247\t 5.745398717452983\n",
            "2  \t [ 10. -10.]\t 314.0\t 155.85777119682857\t 6.400830724536593\t 6.755924691682176\n",
            "3  \t [ 9.88828737 -1.29422693]\t 181.86360257831257\t 155.85777119682857\t 5.734527545671384\t 5.568650479938202\n",
            "4  \t [-8.85439562 10.        ]\t 178.69941048268154\t 155.85777119682857\t 5.42256457095491\t 6.245676938566079\n",
            "5  \t [-3.20635175 -7.44511953]\t 985.4563588643152\t 155.85777119682857\t 6.393637464949421\t 6.41317314973719\n",
            "6  \t [-10.          -3.45258743]\t 1381.0071170931524\t 155.85777119682857\t 6.373016958439001\t 7.018668438846678\n",
            "\u001b[1m\u001b[92m7\u001b[0m\t \u001b[1m\u001b[92m[2.94582586 0.56969197]\u001b[0m\t \u001b[1m\u001b[92m10.631527321572644\u001b[0m\t \u001b[1m\u001b[92m10.631527321572644\u001b[0m\t \u001b[1m\u001b[92m7.141286144882796\u001b[0m\t \u001b[1m\u001b[92m7.392940494545005\u001b[0m\n",
            "8  \t [-3.73418232  6.36605836]\t 41.229883747756716\t 10.631527321572644\t 6.261342682300104\t 6.3902571413437474\n",
            "9  \t [ 7.98268848 -5.59558386]\t 133.04772635319637\t 10.631527321572644\t 7.260034235505417\t 7.056041990239496\n",
            "10 \t [-5.17880431 -3.12389699]\t 681.1055736776195\t 10.631527321572644\t 6.038215523263694\t 6.333399637234259\n",
            "11 \t [  0.93904527 -10.        ]\t 851.3578690927534\t 10.631527321572644\t 6.237998974964704\t 6.725061961605216\n",
            "12 \t [6.54115172 1.76102117]\t 106.27419704407123\t 10.631527321572644\t 6.58512911219602\t 6.385415641889798\n",
            "\u001b[1m\u001b[92m13\u001b[0m\t \u001b[1m\u001b[92m[0.57449603 3.6998891 ]\u001b[0m\t \u001b[1m\u001b[92m0.9720471989286187\u001b[0m\t \u001b[1m\u001b[92m0.9720471989286187\u001b[0m\t \u001b[1m\u001b[92m7.442791520615282\u001b[0m\t \u001b[1m\u001b[92m7.623946017593412\u001b[0m\n",
            "14 \t [10. 10.]\t 1154.0\t 0.9720471989286187\t 6.3982813989119\t 6.521166893564416\n",
            "15 \t [-2.22497882 10.        ]\t 116.40362791236076\t 0.9720471989286187\t 3.983392429509316\t 6.225164669542596\n",
            "16 \t [-0.24815332 -3.33775341]\t 271.9089291754368\t 0.9720471989286187\t 5.006455449378784\t 5.488500956861911\n",
            "17 \t [  5.61026417 -10.        ]\t 471.8052047028536\t 0.9720471989286187\t 5.218819474527053\t 5.721687935382837\n",
            "18 \t [ 5.27352228 -2.24199401]\t 49.493243820666095\t 0.9720471989286187\t 5.98245112316438\t 6.757439335714463\n",
            "19 \t [ 5.28825428 10.        ]\t 577.0878631460905\t 0.9720471989286187\t 5.706563736830858\t 5.9865184062314905\n",
            "20 \t [3.33905367 4.18253528]\t 56.47591690900538\t 0.9720471989286187\t 4.6943860902452625\t 5.6628946285737864\n"
          ]
        }
      ],
      "source": [
        "### ESTIMATED GP EI GRADIENTS\n",
        "\n",
        "np.random.seed(run_num_20)\n",
        "surrogate_approx_20 = dGaussianProcess(cov_func, optimize=opt)\n",
        "\n",
        "approx_20 = GPGO_multi(surrogate_approx_20, Acquisition_grad(util), objfunc, param)\n",
        "approx_20.run(init_evals=n_init, max_iter=iters)\n"
      ]
    },
    {
      "cell_type": "code",
      "execution_count": 33,
      "metadata": {
        "id": "xkgzPRbBTHaq",
        "colab": {
          "base_uri": "https://localhost:8080/"
        },
        "outputId": "87664706-6b7c-4546-938f-2084ded35f51"
      },
      "outputs": [
        {
          "output_type": "execute_result",
          "data": {
            "text/plain": [
              "1659637207.388642"
            ]
          },
          "metadata": {},
          "execution_count": 33
        }
      ],
      "source": [
        "end_approx = time.time()\n",
        "end_approx\n",
        "\n",
        "time_approx = end_approx - start_approx\n",
        "time_approx\n",
        "\n",
        "start_exact = time.time()\n",
        "start_exact"
      ]
    },
    {
      "cell_type": "code",
      "execution_count": 34,
      "metadata": {
        "id": "7CG3Ndvb16Rb",
        "colab": {
          "base_uri": "https://localhost:8080/"
        },
        "outputId": "7530dc7b-9698-4070-91bc-f5e6913c4304"
      },
      "outputs": [
        {
          "output_type": "stream",
          "name": "stdout",
          "text": [
            "Evaluation \t Proposed point \t  Current eval. \t  Best eval. \t        Exact EI: StdDev. x \t Approx EI: StdDev. x \n",
            "init\t [-1.65955991  4.40648987]\t 15.332210716052247\t 15.332210716052247\t    \t    \n",
            "init\t [-9.9977125  -3.95334855]\t 1458.2611077633842\t 15.332210716052247\t    \t    \n",
            "init\t [-7.06488218 -8.1532281 ]\t 1666.779874000304\t 15.332210716052247\t    \t    \n",
            "init\t [-6.27479577 -3.08878546]\t 804.3371752309802\t 15.332210716052247\t    \t    \n",
            "init\t [-2.06465052  0.77633468]\t 126.2019077328938\t 15.332210716052247\t    \t    \n",
            "1  \t [ 7.89213327 -8.29911577]\t 252.857497365554\t 15.332210716052247\t 6.855643078739564\t 7.083629143988551\n",
            "2  \t [7.66612182 2.47344414]\t 195.49152221204983\t 15.332210716052247\t 6.97539869764475\t 6.3242773174779625\n",
            "3  \t [1.62717855 9.40039978]\t 238.9058988758153\t 15.332210716052247\t 6.607602996202339\t 6.7324673173320795\n",
            "4  \t [-9.56950389  8.95940422]\t 232.24098716076017\t 15.332210716052247\t 8.3423953415851\t 8.241048195296298\n",
            "5  \t [10. 10.]\t 1154.0\t 15.332210716052247\t 6.776988840627882\t 6.9658341877695005\n",
            "6  \t [ 1.78838508 -8.61943951]\t 604.8798856572375\t 15.332210716052247\t 5.753341233986789\t 5.825283983233141\n",
            "7  \t [ 3.40804887 -2.52307265]\t 75.11652364316544\t 15.332210716052247\t 7.156878140245541\t 7.469798334907399\n",
            "8  \t [-10.           2.83309237]\t 619.8271619975483\t 15.332210716052247\t 6.31059407300761\t 7.772727352743698\n",
            "9  \t [-3.95901616  9.10867987]\t 67.194717578712\t 15.332210716052247\t 6.2342301022366025\t 7.2985554483561765\n",
            "10 \t [ 9.99056437 -2.74991249]\t 155.89903987298285\t 15.332210716052247\t 7.149692759315846\t 7.185894275184393\n",
            "\u001b[1m\u001b[92m11\u001b[0m\t \u001b[1m\u001b[92m[2.64560066 2.87016236]\u001b[0m\t \u001b[1m\u001b[92m11.915009455610525\u001b[0m\t \u001b[1m\u001b[92m11.915009455610525\u001b[0m\t \u001b[1m\u001b[92m5.664081310721814\u001b[0m\t \u001b[1m\u001b[92m5.412586649638496\u001b[0m\n",
            "12 \t [-5.74523677  5.10634005]\t 136.01233868411683\t 11.915009455610525\t 6.851502733864395\t 6.5018482039557846\n",
            "13 \t [-1.17206543 -4.22166816]\t 409.83928286907417\t 11.915009455610525\t 5.928169858268409\t 6.226862009618106\n",
            "14 \t [9.58657755 5.78337128]\t 598.5794150537877\t 11.915009455610525\t 6.818416179432688\t 7.230970922531096\n",
            "15 \t [4.83215846 6.15466681]\t 219.90027046965895\t 11.915009455610525\t 6.216312765203427\t 6.287400744579718\n",
            "16 \t [-2.57417062 -8.52294707]\t 1057.2448557972289\t 11.915009455610525\t 6.567675337323608\t 7.457312022803602\n",
            "17 \t [0.69276074 5.82525315]\t 33.43802727481489\t 11.915009455610525\t 6.2130046632226135\t 6.3281042774377045\n",
            "18 \t [-5.94842921  1.19344455]\t 358.14333706037934\t 11.915009455610525\t 7.092563149082204\t 7.2941732933450645\n",
            "19 \t [ 6.62306906 -1.24975919]\t 57.223278782142444\t 11.915009455610525\t 6.787625187347865\t 8.024498003822947\n",
            "20 \t [5.96128211 9.63012516]\t 606.0157695367154\t 11.915009455610525\t 6.64152279591059\t 7.163423070429994\n"
          ]
        }
      ],
      "source": [
        "### EXACT GP EI GRADIENTS\n",
        "\n",
        "np.random.seed(run_num_1)\n",
        "surrogate_exact_1 = dGaussianProcess(cov_func, optimize=opt)\n",
        "\n",
        "exact_1 = dGPGO(surrogate_exact_1, Acquisition_grad(util), objfunc, param)\n",
        "exact_1.run(init_evals=n_init, max_iter=iters)\n"
      ]
    },
    {
      "cell_type": "code",
      "execution_count": 35,
      "metadata": {
        "id": "-ilCPSAu9SAg",
        "colab": {
          "base_uri": "https://localhost:8080/"
        },
        "outputId": "827da727-b837-49c4-88e6-d88373539ece"
      },
      "outputs": [
        {
          "output_type": "stream",
          "name": "stdout",
          "text": [
            "Evaluation \t Proposed point \t  Current eval. \t  Best eval. \t        Exact EI: StdDev. x \t Approx EI: StdDev. x \n",
            "init\t [-1.28010196 -9.48147536]\t 1032.6027521517153\t 92.40504507724606\t    \t    \n",
            "init\t [ 0.99324956 -1.29355215]\t 92.40504507724606\t 92.40504507724606\t    \t    \n",
            "init\t [-1.59264396 -3.39330358]\t 370.5851459944721\t 92.40504507724606\t    \t    \n",
            "init\t [-5.90702732  2.38541933]\t 274.38308294748543\t 92.40504507724606\t    \t    \n",
            "init\t [-4.00690653 -4.6634545 ]\t 725.9498417670716\t 92.40504507724606\t    \t    \n",
            "1  \t [10. 10.]\t 1154.0\t 92.40504507724606\t 6.690849344124817\t 6.7798262062392345\n",
            "2  \t [ 9.4582138 -7.7444757]\t 207.8931124700012\t 92.40504507724606\t 5.968542568165221\t 6.389038447148093\n",
            "\u001b[1m\u001b[92m3\u001b[0m\t \u001b[1m\u001b[92m[0.98993642 6.90226231]\u001b[0m\t \u001b[1m\u001b[92m75.82459634014478\u001b[0m\t \u001b[1m\u001b[92m75.82459634014478\u001b[0m\t \u001b[1m\u001b[92m6.23917441097717\u001b[0m\t \u001b[1m\u001b[92m6.453231766868169\u001b[0m\n",
            "4  \t [8.51803193 1.4054842 ]\t 199.41545789668123\t 75.82459634014478\t 6.7092505508239135\t 7.3413380143532025\n",
            "5  \t [-10. -10.]\t 2594.0\t 75.82459634014478\t 7.066014705552952\t 6.815906588074089\n",
            "6  \t [-8.60678819  8.70307127]\t 185.77142455141157\t 75.82459634014478\t 6.400263559961059\t 7.0474356942169285\n",
            "7  \t [  4.46681324 -10.        ]\t 544.5453931361269\t 75.82459634014478\t 5.957619886232456\t 6.714429829641378\n",
            "8  \t [-3.11882181  9.96750808]\t 97.97091569229501\t 75.82459634014478\t 5.545726310360892\t 5.726414685345446\n",
            "9  \t [-9.65411523 -4.0695854 ]\t 1420.0074660514215\t 75.82459634014478\t 5.365897036530871\t 6.48162985023182\n",
            "10 \t [ 5.6929608  -4.38837196]\t 105.67288654911044\t 75.82459634014478\t 5.605808363425229\t 6.855364385610684\n",
            "11 \t [ 4.62114415 10.        ]\t 513.3474973005284\t 75.82459634014478\t 5.707447209772836\t 6.042478979925095\n",
            "\u001b[1m\u001b[92m12\u001b[0m\t \u001b[1m\u001b[92m[3.78441738 2.73875609]\u001b[0m\t \u001b[1m\u001b[92m33.28684597215753\u001b[0m\t \u001b[1m\u001b[92m33.28684597215753\u001b[0m\t \u001b[1m\u001b[92m4.672755058395857\u001b[0m\t \u001b[1m\u001b[92m6.7207056161333725\u001b[0m\n",
            "\u001b[1m\u001b[92m13\u001b[0m\t \u001b[1m\u001b[92m[-1.3658355   3.23691316]\u001b[0m\t \u001b[1m\u001b[92m23.782546762007172\u001b[0m\t \u001b[1m\u001b[92m23.782546762007172\u001b[0m\t \u001b[1m\u001b[92m5.3449522754355385\u001b[0m\t \u001b[1m\u001b[92m7.00150846914291\u001b[0m\n",
            "14 \t [-9.99599357  0.65469791]\t 838.372996679921\t 23.782546762007172\t 5.5292033645303365\t 6.909930235858071\n",
            "15 \t [6.77687037 5.83602531]\t 338.1431588765779\t 23.782546762007172\t 5.366302119741286\t 7.043366713423037\n",
            "16 \t [-5.57415135 -8.95669194]\t 1559.7505596476776\t 23.782546762007172\t 5.198619669865768\t 6.39036400725125\n",
            "17 \t [ 1.82034754 -5.39050513]\t 300.30268973162794\t 23.782546762007172\t 5.516074761897568\t 6.870816878479114\n",
            "18 \t [-5.22807549  6.63546241]\t 78.89208151905922\t 23.782546762007172\t 5.26404940024474\t 6.400333786439352\n",
            "19 \t [ 4.83727171 -0.58124769]\t 27.812182404749045\t 23.782546762007172\t 4.680458676020809\t 6.703935139576494\n",
            "20 \t [-2.72990174  0.3681233 ]\t 182.72784142778147\t 23.782546762007172\t 5.554782043364108\t 7.556673892416\n"
          ]
        }
      ],
      "source": [
        "### EXACT GP EI GRADIENTS\n",
        "\n",
        "np.random.seed(run_num_2)\n",
        "surrogate_exact_2 = dGaussianProcess(cov_func, optimize=opt)\n",
        "\n",
        "exact_2 = dGPGO(surrogate_exact_2, Acquisition_grad(util), objfunc, param)\n",
        "exact_2.run(init_evals=n_init, max_iter=iters)\n"
      ]
    },
    {
      "cell_type": "code",
      "execution_count": 36,
      "metadata": {
        "id": "XieJ158mIvlP",
        "colab": {
          "base_uri": "https://localhost:8080/"
        },
        "outputId": "80bac5d9-cd18-4811-dbee-2b08ff5fb707"
      },
      "outputs": [
        {
          "output_type": "stream",
          "name": "stdout",
          "text": [
            "Evaluation \t Proposed point \t  Current eval. \t  Best eval. \t        Exact EI: StdDev. x \t Approx EI: StdDev. x \n",
            "init\t [1.01595805 4.16295645]\t 6.912079999083602\t 6.912079999083602\t    \t    \n",
            "init\t [-4.18190522  0.2165521 ]\t 288.3871250813255\t 6.912079999083602\t    \t    \n",
            "init\t [7.85893909 7.92586178]\t 626.8352854305291\t 6.912079999083602\t    \t    \n",
            "init\t [-7.48829379 -5.85514244]\t 1353.6437998345716\t 6.912079999083602\t    \t    \n",
            "init\t [-8.97065593 -1.18380313]\t 918.3130335940459\t 6.912079999083602\t    \t    \n",
            "1  \t [ 5.60629529 -3.87272935]\t 88.9992584872525\t 6.912079999083602\t 4.717150437873575\t 4.717150437873575\n",
            "2  \t [-6.2437035   9.04202486]\t 94.75343105833329\t 6.912079999083602\t 6.980877953321163\t 7.198471279153146\n",
            "3  \t [9.34799526 1.89271829]\t 280.626828539062\t 6.912079999083602\t 6.471960790673293\t 7.180412536589664\n",
            "4  \t [-0.42169096 -8.75441039]\t 834.625955715487\t 6.912079999083602\t 6.28236140083362\t 6.487677566356759\n",
            "5  \t [ 6.00284742 -9.72440056]\t 425.4283830314529\t 6.912079999083602\t 6.142916241925617\t 7.168055619387817\n",
            "6  \t [-9.21277105  4.93342182]\t 382.22930688812016\t 6.912079999083602\t 6.21649777369533\t 5.888932061510864\n",
            "7  \t [ 0.69850669 -0.70926041]\t 78.19409262167642\t 6.912079999083602\t 6.059518988473897\t 6.03552560692843\n",
            "8  \t [-10. -10.]\t 2594.0\t 6.912079999083602\t 7.498451310292436\t 7.618178511665968\n",
            "9  \t [-1.57247283  7.36334462]\t 38.48527983691483\t 6.912079999083602\t 5.6409796766300655\t 5.653666174488222\n",
            "10 \t [3.28897556 8.07151613]\t 247.66703645375645\t 6.912079999083602\t 5.782930963640199\t 6.680051389174287\n",
            "11 \t [-2.0501903  -3.99996382]\t 462.3255453402903\t 6.912079999083602\t 5.771822571506544\t 5.929067910720504\n",
            "12 \t [10.         -6.17110846]\t 165.2263427586591\t 6.912079999083602\t 6.719936610750403\t 7.070435678245702\n",
            "13 \t [4.49389271 2.17459494]\t 41.37188509401504\t 6.912079999083602\t 7.341997992746924\t 8.064515786278957\n",
            "14 \t [-4.81057     5.07207389]\t 93.9616264337028\t 6.912079999083602\t 5.759346762479841\t 6.386053632321933\n",
            "15 \t [-5.23170374 -9.80028459]\t 1651.5477355181924\t 6.912079999083602\t 6.070190489023238\t 6.9177891179802655\n",
            "16 \t [ 3.00890862 -6.33823286]\t 306.1142822027024\t 6.912079999083602\t 5.296461533771553\t 7.748911456059649\n",
            "17 \t [-0.65243955  2.26134217]\t 26.14555845954375\t 6.912079999083602\t 6.371638818618196\t 7.1892547227605075\n",
            "18 \t [ 9.32621191 -2.21182355]\t 135.2865689369908\t 6.912079999083602\t 5.914732677338505\t 7.81538631038939\n",
            "19 \t [ 0.01719631 10.        ]\t 194.79250867981995\t 6.912079999083602\t 6.22673427397563\t 7.988628170119467\n",
            "20 \t [ 4.17901136 -0.89873687]\t 27.37828171084375\t 6.912079999083602\t 5.587487623386855\t 6.172156042625928\n"
          ]
        }
      ],
      "source": [
        "### EXACT GP EI GRADIENTS\n",
        "\n",
        "np.random.seed(run_num_3)\n",
        "surrogate_exact_3 = dGaussianProcess(cov_func, optimize=opt)\n",
        "\n",
        "exact_3 = dGPGO(surrogate_exact_3, Acquisition_grad(util), objfunc, param)\n",
        "exact_3.run(init_evals=n_init, max_iter=iters)\n"
      ]
    },
    {
      "cell_type": "code",
      "execution_count": 37,
      "metadata": {
        "id": "PhLBVOIfIvol",
        "colab": {
          "base_uri": "https://localhost:8080/"
        },
        "outputId": "53d9b387-cae7-4990-81e7-3e1799db9065"
      },
      "outputs": [
        {
          "output_type": "stream",
          "name": "stdout",
          "text": [
            "Evaluation \t Proposed point \t  Current eval. \t  Best eval. \t        Exact EI: StdDev. x \t Approx EI: StdDev. x \n",
            "init\t [9.34059678 0.94464498]\t 231.80709501196006\t 215.08077877054313\t    \t    \n",
            "init\t [9.4536872  4.29631987]\t 453.3958241553961\t 215.08077877054313\t    \t    \n",
            "init\t [ 3.95457649 -5.67821009]\t 215.08077877054313\t 215.08077877054313\t    \t    \n",
            "init\t [ 9.5254891 -9.8753949]\t 314.14647993232734\t 215.08077877054313\t    \t    \n",
            "init\t [-4.94035275 -1.30416935]\t 473.61459720928724\t 215.08077877054313\t    \t    \n",
            "1  \t [-10. -10.]\t 2594.0\t 215.08077877054313\t 6.35970044517773\t 6.078586521826298\n",
            "\u001b[1m\u001b[92m2\u001b[0m\t \u001b[1m\u001b[92m[0.20487259 8.53441386]\u001b[0m\t \u001b[1m\u001b[92m121.10530867890083\u001b[0m\t \u001b[1m\u001b[92m121.10530867890083\u001b[0m\t \u001b[1m\u001b[92m5.789093286080517\u001b[0m\t \u001b[1m\u001b[92m6.10916288972485\u001b[0m\n",
            "3  \t [ -2.69316301 -10.        ]\t 1297.2862183512113\t 121.10530867890083\t 6.922084184698262\t 7.541282506522133\n",
            "\u001b[1m\u001b[92m4\u001b[0m\t \u001b[1m\u001b[92m[0.97610237 1.99594982]\u001b[0m\t \u001b[1m\u001b[92m5.2353946583457915\u001b[0m\t \u001b[1m\u001b[92m5.2353946583457915\u001b[0m\t \u001b[1m\u001b[92m6.730166023078827\u001b[0m\t \u001b[1m\u001b[92m7.194075302385681\u001b[0m\n",
            "5  \t [-9.64932657  7.77405162]\t 274.2751483651856\t 5.2353946583457915\t 5.603169707525886\t 6.783270843519665\n",
            "6  \t [10. 10.]\t 1154.0\t 5.2353946583457915\t 6.430929089663223\t 7.388977621805265\n",
            "7  \t [-3.59628604  4.37690711]\t 64.4793213450369\t 5.2353946583457915\t 4.678245636792513\t 5.397337490296481\n",
            "8  \t [-9.11031524 -4.51936263]\t 1401.9814557883037\t 5.2353946583457915\t 5.436373331988562\t 6.198395331980652\n",
            "9  \t [-10.          1.8446737]\t 713.3426087545802\t 5.2353946583457915\t 5.188933137441876\t 5.956777808939996\n",
            "10 \t [ 9.19761312 -4.35395008]\t 124.12851191082513\t 5.2353946583457915\t 5.68435576604325\t 6.559812028637748\n",
            "11 \t [-4.68780895  9.68730255]\t 81.06713585593317\t 5.2353946583457915\t 5.331444147360202\t 6.266018931343065\n",
            "12 \t [5.18240124 7.57603737]\t 345.2735851018143\t 5.2353946583457915\t 5.816857051702019\t 5.918508543042547\n",
            "13 \t [-1.04375731 -4.64692484]\t 438.28968586495824\t 5.2353946583457915\t 5.162150180458678\t 5.685508166779494\n",
            "14 \t [ 4.38664138 -0.09152995]\t 21.3752603252164\t 5.2353946583457915\t 4.855550857362665\t 6.31246246688214\n",
            "15 \t [3.61899873 3.62414525]\t 49.320643066016274\t 5.2353946583457915\t 5.106454230457601\t 6.512352460126651\n",
            "16 \t [-0.73299797 -0.27941581]\t 114.25501746982778\t 5.2353946583457915\t 4.8689154343094465\t 6.4278833834917375\n",
            "\u001b[1m\u001b[92m17\u001b[0m\t \u001b[1m\u001b[92m[0.29230128 4.36777819]\u001b[0m\t \u001b[1m\u001b[92m4.114474274036012\u001b[0m\t \u001b[1m\u001b[92m4.114474274036012\u001b[0m\t \u001b[1m\u001b[92m5.0044592556392145\u001b[0m\t \u001b[1m\u001b[92m6.234555246161463\u001b[0m\n",
            "18 \t [  4.6438059 -10.       ]\t 532.4307937174023\t 4.114474274036012\t 5.046371388129705\t 6.956130325797925\n",
            "19 \t [-4.67021843 -6.48759972]\t 1041.2037294729948\t 4.114474274036012\t 5.486379345362919\t 6.5535816400617355\n",
            "20 \t [ 6.37477769 -2.7687327 ]\t 62.78731437157291\t 4.114474274036012\t 5.467548621399158\t 6.295027908011729\n"
          ]
        }
      ],
      "source": [
        "### EXACT GP EI GRADIENTS\n",
        "\n",
        "np.random.seed(run_num_4)\n",
        "surrogate_exact_4 = dGaussianProcess(cov_func, optimize=opt)\n",
        "\n",
        "exact_4 = dGPGO(surrogate_exact_4, Acquisition_grad(util), objfunc, param)\n",
        "exact_4.run(init_evals=n_init, max_iter=iters)\n"
      ]
    },
    {
      "cell_type": "code",
      "execution_count": 38,
      "metadata": {
        "id": "arbiPyj2IvsJ",
        "colab": {
          "base_uri": "https://localhost:8080/"
        },
        "outputId": "26f6cb4a-9be4-4191-d4a6-734c1095ce1f"
      },
      "outputs": [
        {
          "output_type": "stream",
          "name": "stdout",
          "text": [
            "Evaluation \t Proposed point \t  Current eval. \t  Best eval. \t        Exact EI: StdDev. x \t Approx EI: StdDev. x \n",
            "init\t [-5.56013658  7.41464612]\t 80.93700948496809\t 18.053107398965345\t    \t    \n",
            "init\t [-5.86561689  8.37221816]\t 84.91838238990834\t 18.053107398965345\t    \t    \n",
            "init\t [-0.23177622  2.23487726]\t 18.053107398965345\t 18.053107398965345\t    \t    \n",
            "init\t [5.31815713 0.36835976]\t 36.94936820355582\t 18.053107398965345\t    \t    \n",
            "init\t [-4.06398997 -6.24557543]\t 930.179306576812\t 18.053107398965345\t    \t    \n",
            "1  \t [9.27861058 9.20453431]\t 946.0775823883291\t 18.053107398965345\t 7.56784677838032\t 7.354863051209063\n",
            "2  \t [ 8.87080164 -7.76615146]\t 211.3917378701312\t 18.053107398965345\t 6.577930085393062\t 6.981410865496397\n",
            "3  \t [-10. -10.]\t 2594.0\t 18.053107398965345\t 6.930153161508706\t 7.017126535582615\n",
            "4  \t [ 2.49508934 -6.80638133]\t 374.71070519582787\t 18.053107398965345\t 5.86833541228398\t 6.038098705728464\n",
            "5  \t [2.68428552 8.77105868]\t 258.4705647495647\t 18.053107398965345\t 5.794895634343283\t 6.578829469261938\n",
            "6  \t [-8.62367183  0.50898962]\t 685.8822920729167\t 18.053107398965345\t 6.021303818353671\t 6.9463440046850735\n",
            "7  \t [10.          3.20366026]\t 419.87092609259594\t 18.053107398965345\t 4.909810449573542\t 5.604422893051739\n",
            "8  \t [ 9.48541522 -2.29063118]\t 140.81963011727362\t 18.053107398965345\t 6.005778624770043\t 7.0245481242164365\n",
            "9  \t [-0.07654907 -2.32919753]\t 193.6936619885928\t 18.053107398965345\t 5.320407973883768\t 6.213451083121433\n",
            "10 \t [-8.95822167 -4.75447986]\t 1414.257319125799\t 18.053107398965345\t 6.126834826727582\t 6.044632925919461\n",
            "11 \t [-9.69270313  5.35013192]\t 398.2509984100267\t 18.053107398965345\t 5.804500103922651\t 6.621888088667155\n",
            "12 \t [-3.82227118  0.28958839]\t 257.5658705803265\t 18.053107398965345\t 5.205084850621652\t 5.752189309473229\n",
            "13 \t [-1.74903682 10.        ]\t 128.8399552472144\t 18.053107398965345\t 5.8610063277069155\t 6.85405387070873\n",
            "14 \t [5.17264625 4.77295431]\t 161.9550075547645\t 18.053107398965345\t 5.6652601471469985\t 7.05680481200876\n",
            "15 \t [ -1.69849549 -10.        ]\t 1162.0529204077175\t 18.053107398965345\t 4.309833955098946\t 6.545513913992979\n",
            "\u001b[1m\u001b[92m16\u001b[0m\t \u001b[1m\u001b[92m[-0.86854764  5.79175648]\u001b[0m\t \u001b[1m\u001b[92m14.694632756835835\u001b[0m\t \u001b[1m\u001b[92m14.694632756835835\u001b[0m\t \u001b[1m\u001b[92m4.664346193622085\u001b[0m\t \u001b[1m\u001b[92m7.0985361745639715\u001b[0m\n",
            "17 \t [ 5.38747515 -3.51193397]\t 79.70852326833383\t 14.694632756835835\t 5.225138869696433\t 6.994483682610881\n",
            "18 \t [-5.71781885  3.88616846]\t 181.94696983264313\t 14.694632756835835\t 5.492690754495096\t 6.729372475793797\n",
            "\u001b[1m\u001b[92m19\u001b[0m\t \u001b[1m\u001b[92m[2.57730845 1.95056272]\u001b[0m\t \u001b[1m\u001b[92m4.703812450562488\u001b[0m\t \u001b[1m\u001b[92m4.703812450562488\u001b[0m\t \u001b[1m\u001b[92m5.096759519738772\u001b[0m\t \u001b[1m\u001b[92m6.482044579419685\u001b[0m\n",
            "20 \t [  4.18859985 -10.        ]\t 564.2214602918348\t 4.703812450562488\t 5.384814294358467\t 7.0914450924981525\n"
          ]
        }
      ],
      "source": [
        "### EXACT GP EI GRADIENTS\n",
        "\n",
        "np.random.seed(run_num_5)\n",
        "surrogate_exact_5 = dGaussianProcess(cov_func, optimize=opt)\n",
        "\n",
        "exact_5 = dGPGO(surrogate_exact_5, Acquisition_grad(util), objfunc, param)\n",
        "exact_5.run(init_evals=n_init, max_iter=iters)\n"
      ]
    },
    {
      "cell_type": "code",
      "execution_count": 39,
      "metadata": {
        "id": "04KJCEm_Ivvf",
        "colab": {
          "base_uri": "https://localhost:8080/"
        },
        "outputId": "5e704f57-dca7-420d-e394-dc4ad084f9df"
      },
      "outputs": [
        {
          "output_type": "stream",
          "name": "stdout",
          "text": [
            "Evaluation \t Proposed point \t  Current eval. \t  Best eval. \t        Exact EI: StdDev. x \t Approx EI: StdDev. x \n",
            "init\t [ 7.85720303 -3.36040389]\t 88.46320859272592\t 88.46320859272592\t    \t    \n",
            "init\t [ 6.42458246 -9.16606749]\t 359.2297742730208\t 88.46320859272592\t    \t    \n",
            "init\t [-7.8468664   1.90104128]\t 475.1525044254979\t 88.46320859272592\t    \t    \n",
            "init\t [ 0.59634724 -1.62385143]\t 122.64613090496854\t 88.46320859272592\t    \t    \n",
            "init\t [-3.29184301  2.45038864]\t 112.48071079498652\t 88.46320859272592\t    \t    \n",
            "1  \t [10. 10.]\t 1154.0\t 88.46320859272592\t 6.615643573932389\t 6.536111641716334\n",
            "2  \t [-4.96771714 -9.17248997]\t 1500.0516160468933\t 88.46320859272592\t 7.39100118187362\t 7.274909854241221\n",
            "3  \t [2.46299902 9.4614501 ]\t 295.07827894539565\t 88.46320859272592\t 6.215068928568645\t 6.260792907467945\n",
            "\u001b[1m\u001b[92m4\u001b[0m\t \u001b[1m\u001b[92m[-5.6935267   8.60486508]\u001b[0m\t \u001b[1m\u001b[92m80.95854876086956\u001b[0m\t \u001b[1m\u001b[92m80.95854876086956\u001b[0m\t \u001b[1m\u001b[92m6.520882094865069\u001b[0m\t \u001b[1m\u001b[92m6.626036677146941\u001b[0m\n",
            "5  \t [7.35584953 3.03387552]\t 203.71231541478778\t 80.95854876086956\t 6.0150756624368\t 6.420767536395306\n",
            "6  \t [  0.85734494 -10.        ]\t 859.9378790656217\t 80.95854876086956\t 6.502879723418987\t 7.060686052883081\n",
            "7  \t [-8.36917733 -4.79039395]\t 1326.2752690543525\t 80.95854876086956\t 6.124481981801631\t 6.510635898343044\n",
            "8  \t [-10. -10.]\t 2594.0\t 80.95854876086956\t 6.814025960252963\t 7.5695955752972\n",
            "\u001b[1m\u001b[92m9\u001b[0m\t \u001b[1m\u001b[92m[-1.22868843  4.34354782]\u001b[0m\t \u001b[1m\u001b[92m9.906068482791387\u001b[0m\t \u001b[1m\u001b[92m9.906068482791387\u001b[0m\t \u001b[1m\u001b[92m5.386149958534395\u001b[0m\t \u001b[1m\u001b[92m5.29978051971386\u001b[0m\n",
            "10 \t [-4.18641541 -5.41933373]\t 838.2497236318545\t 9.906068482791387\t 5.5925081014599005\t 6.4842502091738385\n",
            "11 \t [2.70714862 3.84742971]\t 29.73597528302779\t 9.906068482791387\t 5.813754695225948\t 6.403151930949233\n",
            "12 \t [ 2.36118312 -5.39919906]\t 270.5340383270323\t 9.906068482791387\t 5.335393872524089\t 6.848511831983454\n",
            "13 \t [ 5.21347435 -0.8833208 ]\t 33.269551998031815\t 9.906068482791387\t 5.11684808125494\t 6.298839653563054\n",
            "14 \t [6.31328434 7.06418307]\t 396.4961544707329\t 9.906068482791387\t 5.0322083715127865\t 6.237655887771114\n",
            "15 \t [-10.           6.42891168]\t 362.04294878542294\t 9.906068482791387\t 5.483080171780149\t 7.195285167412215\n",
            "16 \t [-1.82460832  9.81528007]\t 118.12829854456272\t 9.906068482791387\t 5.027415720213012\t 7.823072378315063\n",
            "17 \t [-10.          -1.12336162]\t 1052.8663784151895\t 9.906068482791387\t 6.1001649918272784\t 7.042056364854357\n",
            "18 \t [-3.68547237 -1.22858077]\t 357.67591993666633\t 9.906068482791387\t 5.000015870589835\t 6.808002262844805\n",
            "19 \t [-2.98490365  6.21690831]\t 28.587223550271016\t 9.906068482791387\t 5.2987241610216085\t 6.773493520714474\n",
            "20 \t [ 9.44846526 -6.34412282]\t 161.89800645413214\t 9.906068482791387\t 5.499858246390809\t 6.73221469199913\n"
          ]
        }
      ],
      "source": [
        "### EXACT GP EI GRADIENTS\n",
        "\n",
        "np.random.seed(run_num_6)\n",
        "surrogate_exact_6 = dGaussianProcess(cov_func, optimize=opt)\n",
        "\n",
        "exact_6 = dGPGO(surrogate_exact_6, Acquisition_grad(util), objfunc, param)\n",
        "exact_6.run(init_evals=n_init, max_iter=iters)\n"
      ]
    },
    {
      "cell_type": "code",
      "execution_count": 40,
      "metadata": {
        "id": "tAOkme3CIvyO",
        "colab": {
          "base_uri": "https://localhost:8080/"
        },
        "outputId": "f31f7885-d8f8-4ba2-e46a-eb7d13eee3bc"
      },
      "outputs": [
        {
          "output_type": "stream",
          "name": "stdout",
          "text": [
            "Evaluation \t Proposed point \t  Current eval. \t  Best eval. \t        Exact EI: StdDev. x \t Approx EI: StdDev. x \n",
            "init\t [-8.47383421  5.59837584]\t 285.59280278210764\t 9.465549861932052\t    \t    \n",
            "init\t [-1.23181537  4.46930356]\t 9.465549861932052\t 9.465549861932052\t    \t    \n",
            "init\t [9.55979024 0.76991741]\t 238.50407296157155\t 9.465549861932052\t    \t    \n",
            "init\t [ 0.02240927 -8.55897733]\t 763.2277954619568\t 9.465549861932052\t    \t    \n",
            "init\t [-4.63122040e+00 -2.34998349e-03]\t 338.87889871968287\t 9.465549861932052\t    \t    \n",
            "1  \t [10. 10.]\t 1154.0\t 9.465549861932052\t 5.54510510741412\t 5.669096700449602\n",
            "2  \t [-10.          -6.20962625]\t 1839.5331891343903\t 9.465549861932052\t 6.542028153394399\t 6.670561085038643\n",
            "3  \t [ 7.45254366 -9.52193948]\t 345.78455019200885\t 9.465549861932052\t 6.851094097521958\t 7.180487761790326\n",
            "4  \t [-7.86246511 -2.61028169]\t 947.860148457175\t 9.465549861932052\t 5.617081126279104\t 5.606623930498399\n",
            "5  \t [ 1.23945695 10.        ]\t 258.69628744429417\t 9.465549861932052\t 6.600501300616679\t 6.722744554729145\n",
            "6  \t [ 3.6157742  -0.65873521]\t 24.579688744688124\t 9.465549861932052\t 6.7460486314894785\t 7.822926750491689\n",
            "7  \t [4.76565855 4.90428491]\t 146.39952046763\t 9.465549861932052\t 5.873390116425865\t 7.130128343904943\n",
            "8  \t [-4.35387606  9.51915008]\t 76.59476083817303\t 9.465549861932052\t 6.155083182135583\t 7.480582522828326\n",
            "9  \t [10.         -4.65580045]\t 146.83877023273084\t 9.465549861932052\t 6.497563400744953\t 7.154707073593935\n",
            "10 \t [-5.59824286 -9.57728618]\t 1672.5285911912256\t 9.465549861932052\t 6.285219734674975\t 7.348285487990367\n",
            "11 \t [-0.23712468 -3.26530699]\t 265.93047332844833\t 9.465549861932052\t 6.573439971901881\t 7.3232188615918155\n",
            "12 \t [ 4.30064635 -4.94273517]\t 160.17726307526505\t 9.465549861932052\t 6.6528323869676385\t 6.753200017158256\n",
            "13 \t [9.89355962 5.20872551]\t 577.0168120219361\t 9.465549861932052\t 6.842081484115252\t 7.317018604737498\n",
            "14 \t [-0.20025643  1.29716637]\t 38.05198543884471\t 9.465549861932052\t 5.792592977652488\t 6.606300577914562\n",
            "15 \t [-8.99498441 10.        ]\t 184.7794398031262\t 9.465549861932052\t 6.745101257324481\t 8.068608313239075\n",
            "16 \t [6.03696783 9.81139302]\t 633.3007391232597\t 9.465549861932052\t 5.972761549808093\t 6.298557957433146\n",
            "17 \t [-4.19156513 -4.80225711]\t 763.1852296631075\t 9.465549861932052\t 6.189925988343706\t 6.690880113485996\n",
            "18 \t [ 7.06682527 -2.29990899]\t 67.24804640354978\t 9.465549861932052\t 6.412891096857999\t 7.745402035965573\n",
            "19 \t [-4.54670625  5.95382787]\t 66.38312235081425\t 9.465549861932052\t 6.092800532974901\t 6.396332805197464\n",
            "20 \t [1.27618924 5.48405805]\t 36.72268530744109\t 9.465549861932052\t 5.509444270733709\t 6.820194611962553\n"
          ]
        }
      ],
      "source": [
        "### EXACT GP EI GRADIENTS\n",
        "\n",
        "np.random.seed(run_num_7)\n",
        "surrogate_exact_7 = dGaussianProcess(cov_func, optimize=opt)\n",
        "\n",
        "exact_7 = dGPGO(surrogate_exact_7, Acquisition_grad(util), objfunc, param)\n",
        "exact_7.run(init_evals=n_init, max_iter=iters)\n"
      ]
    },
    {
      "cell_type": "code",
      "execution_count": 41,
      "metadata": {
        "id": "69-J3EF4Iv1S",
        "colab": {
          "base_uri": "https://localhost:8080/"
        },
        "outputId": "37cf7f08-7204-4edd-9420-c09c7a5e279a"
      },
      "outputs": [
        {
          "output_type": "stream",
          "name": "stdout",
          "text": [
            "Evaluation \t Proposed point \t  Current eval. \t  Best eval. \t        Exact EI: StdDev. x \t Approx EI: StdDev. x \n",
            "init\t [7.46858806 9.37081326]\t 741.8307972128058\t 75.39770051777191\t    \t    \n",
            "init\t [7.3838908  0.61711383]\t 110.46436066448925\t 75.39770051777191\t    \t    \n",
            "init\t [-5.34543344 -9.77202391]\t 1665.297823285088\t 75.39770051777191\t    \t    \n",
            "init\t [-1.39062363 -1.9529728 ]\t 245.96065521704543\t 75.39770051777191\t    \t    \n",
            "init\t [ 0.45349343 -0.43216408]\t 75.39770051777191\t 75.39770051777191\t    \t    \n",
            "1  \t [ 9.69498875 -9.42535902]\t 285.65502563735186\t 75.39770051777191\t 6.595567545789981\t 6.7634085473079235\n",
            "2  \t [-9.83383251  5.77166529]\t 385.04821658618386\t 75.39770051777191\t 6.32607096363995\t 6.044501204718944\n",
            "3  \t [-3.97152767  9.51013426]\t 76.56717653580492\t 75.39770051777191\t 6.793323175236624\t 6.461921610545841\n",
            "4  \t [-9.65586204 -5.07440767]\t 1582.0354694335447\t 75.39770051777191\t 7.55822158185777\t 7.210667014700621\n",
            "\u001b[1m\u001b[92m5\u001b[0m\t \u001b[1m\u001b[92m[1.10947828 5.5318851 ]\u001b[0m\t \u001b[1m\u001b[92m34.329629696240445\u001b[0m\t \u001b[1m\u001b[92m34.329629696240445\u001b[0m\t \u001b[1m\u001b[92m6.265522423760873\u001b[0m\t \u001b[1m\u001b[92m6.15043000910398\u001b[0m\n",
            "6  \t [  3.58537733 -10.        ]\t 609.5416375171629\t 34.329629696240445\t 6.930928904467989\t 7.096275613647104\n",
            "7  \t [-4.26808846  3.62314135]\t 114.44319567206949\t 34.329629696240445\t 5.545239943969419\t 5.839792927515625\n",
            "8  \t [ 6.95598853 -4.77024161]\t 109.01651111902164\t 34.329629696240445\t 7.272365468826312\t 7.1434359915058945\n",
            "9  \t [-1.94249101 -6.2943041 ]\t 693.9989603417939\t 34.329629696240445\t 7.715455404560855\t 7.5451546643651985\n",
            "10 \t [-10.           0.47908844]\t 858.6151929337154\t 34.329629696240445\t 7.6074404165561615\t 7.396560125547858\n",
            "11 \t [ 1.97830476 10.        ]\t 304.5704676068514\t 34.329629696240445\t 7.145692780738796\t 6.346508790844088\n",
            "12 \t [9.76776495 4.8806263 ]\t 533.9634025046453\t 34.329629696240445\t 6.682966451812694\t 6.004550247935825\n",
            "13 \t [ 2.62656326 -4.74800154]\t 212.56526229568433\t 34.329629696240445\t 7.528014962994058\t 6.736799071913504\n",
            "14 \t [-8.30691296 10.        ]\t 156.90601839462838\t 34.329629696240445\t 7.487390926297738\t 8.02439774618255\n",
            "15 \t [5.0161232  4.53561615]\t 141.77460203321323\t 34.329629696240445\t 6.640739879580831\t 6.149123650507667\n",
            "16 \t [-10. -10.]\t 2594.0\t 34.329629696240445\t 7.346580520547465\t 6.672494714258879\n",
            "17 \t [-5.57257536 -0.34530986]\t 447.84763347769615\t 34.329629696240445\t 5.9489956603991585\t 7.451687984679013\n",
            "18 \t [10.         -2.11380926]\t 167.56095892870707\t 34.329629696240445\t 6.372256347265576\t 7.203657888943242\n",
            "\u001b[1m\u001b[92m19\u001b[0m\t \u001b[1m\u001b[92m[ 4.0355935  -0.93836472]\u001b[0m\t \u001b[1m\u001b[92m27.985528051397004\u001b[0m\t \u001b[1m\u001b[92m27.985528051397004\u001b[0m\t \u001b[1m\u001b[92m5.817211096555363\u001b[0m\t \u001b[1m\u001b[92m5.208379727819546\u001b[0m\n",
            "\u001b[1m\u001b[92m20\u001b[0m\t \u001b[1m\u001b[92m[0.96438928 2.67278869]\u001b[0m\t \u001b[1m\u001b[92m0.634894693511018\u001b[0m\t \u001b[1m\u001b[92m0.634894693511018\u001b[0m\t \u001b[1m\u001b[92m6.367616039034267\u001b[0m\t \u001b[1m\u001b[92m7.530446676811099\u001b[0m\n"
          ]
        }
      ],
      "source": [
        "### EXACT GP EI GRADIENTS\n",
        "\n",
        "np.random.seed(run_num_8)\n",
        "surrogate_exact_8 = dGaussianProcess(cov_func, optimize=opt)\n",
        "\n",
        "exact_8 = dGPGO(surrogate_exact_8, Acquisition_grad(util), objfunc, param)\n",
        "exact_8.run(init_evals=n_init, max_iter=iters)\n"
      ]
    },
    {
      "cell_type": "code",
      "execution_count": 42,
      "metadata": {
        "id": "vonm9jyuIv4t",
        "colab": {
          "base_uri": "https://localhost:8080/"
        },
        "outputId": "94842d17-24be-455e-c4e8-7e6792a244f4"
      },
      "outputs": [
        {
          "output_type": "stream",
          "name": "stdout",
          "text": [
            "Evaluation \t Proposed point \t  Current eval. \t  Best eval. \t        Exact EI: StdDev. x \t Approx EI: StdDev. x \n",
            "init\t [-9.79251692  0.03749184]\t 882.0577358281939\t 526.7340464177141\t    \t    \n",
            "init\t [-0.08453414 -7.32340942]\t 628.3137012668271\t 526.7340464177141\t    \t    \n",
            "init\t [-7.15777829 -5.62882649]\t 1268.1663931377898\t 526.7340464177141\t    \t    \n",
            "init\t [-1.62983639 -5.03797663]\t 526.7340464177141\t 526.7340464177141\t    \t    \n",
            "init\t [-8.31880698 -3.0900272 ]\t 1073.657277368356\t 526.7340464177141\t    \t    \n",
            "1  \t [6.0747954  9.66718496]\t 621.7013152481403\t 526.7340464177141\t 6.232699916204608\t 5.993179869750004\n",
            "\u001b[1m\u001b[92m2\u001b[0m\t \u001b[1m\u001b[92m[-3.94738717  9.4159639 ]\u001b[0m\t \u001b[1m\u001b[92m74.26810293779924\u001b[0m\t \u001b[1m\u001b[92m74.26810293779924\u001b[0m\t \u001b[1m\u001b[92m6.854359759411069\u001b[0m\t \u001b[1m\u001b[92m6.675335795107524\u001b[0m\n",
            "\u001b[1m\u001b[92m3\u001b[0m\t \u001b[1m\u001b[92m[4.07561386 0.71776482]\u001b[0m\t \u001b[1m\u001b[92m17.18579694471387\u001b[0m\t \u001b[1m\u001b[92m17.18579694471387\u001b[0m\t \u001b[1m\u001b[92m6.369161797495058\u001b[0m\t \u001b[1m\u001b[92m6.100081525553851\u001b[0m\n",
            "4  \t [ 8.66970884 -6.33785621]\t 157.1508550483091\t 17.18579694471387\t 6.458102590139502\t 6.368778762579628\n",
            "5  \t [10.          0.20016993]\t 242.60747707102988\t 17.18579694471387\t 7.670363075909011\t 7.309904148124228\n",
            "6  \t [1.21502141 5.7403459 ]\t 42.49251363739729\t 17.18579694471387\t 6.4509991988010205\t 6.2519860045558255\n",
            "7  \t [-3.88386438  2.26398005]\t 150.72625653680774\t 17.18579694471387\t 6.028010655397422\t 6.322809686433549\n",
            "8  \t [6.86671704 4.44622324]\t 250.4263125779816\t 17.18579694471387\t 7.823314332548907\t 7.166101455156034\n",
            "9  \t [-8.00330663  5.62491327]\t 250.6853076386244\t 17.18579694471387\t 7.477928751457553\t 7.605980202271734\n",
            "10 \t [ 4.09459654 -3.90243852]\t 115.21882731734831\t 17.18579694471387\t 8.075005589997192\t 7.106473995706152\n",
            "11 \t [-10. -10.]\t 2594.0\t 17.18579694471387\t 8.497780535577627\t 7.8174551233383225\n",
            "12 \t [ 1.03887532 10.        ]\t 247.18457424293237\t 17.18579694471387\t 5.594487983593225\t 6.784723695854086\n",
            "13 \t [ 0.04760276 -0.32236103]\t 85.03937630596337\t 17.18579694471387\t 5.737202476407456\t 6.519094224239831\n",
            "14 \t [10.          7.50062197]\t 830.3227727809742\t 17.18579694471387\t 5.4536790230271635\t 5.495405761587814\n",
            "15 \t [-2.35166211  5.89492302]\t 20.44866054769922\t 17.18579694471387\t 5.610488658840494\t 6.572545319040247\n",
            "16 \t [ 4.6238611 -9.4513422]\t 479.865981852952\t 17.18579694471387\t 6.142740335845711\t 7.9403222391942885\n",
            "17 \t [-7.4759046   9.51329039]\t 129.67132874259855\t 17.18579694471387\t 5.215646333493317\t 7.451790255861618\n",
            "18 \t [-5.30467141 -9.57354862]\t 1623.39177252413\t 17.18579694471387\t 5.862464558030514\t 6.8382159868564925\n",
            "19 \t [ 7.6660502  -2.79647064]\t 81.0599714959382\t 17.18579694471387\t 6.320495443483878\t 7.519404178465607\n",
            "20 \t [3.70721258 2.93531745]\t 35.26504362665106\t 17.18579694471387\t 6.889615773203583\t 7.586539613172914\n"
          ]
        }
      ],
      "source": [
        "### EXACT GP EI GRADIENTS\n",
        "\n",
        "np.random.seed(run_num_9)\n",
        "surrogate_exact_9 = dGaussianProcess(cov_func, optimize=opt)\n",
        "\n",
        "exact_9 = dGPGO(surrogate_exact_9, Acquisition_grad(util), objfunc, param)\n",
        "exact_9.run(init_evals=n_init, max_iter=iters)\n"
      ]
    },
    {
      "cell_type": "code",
      "execution_count": 43,
      "metadata": {
        "id": "6amuYlUdIv7r",
        "colab": {
          "base_uri": "https://localhost:8080/"
        },
        "outputId": "fe968b2c-d0bf-49c7-f4e2-bf298d6598c8"
      },
      "outputs": [
        {
          "output_type": "stream",
          "name": "stdout",
          "text": [
            "Evaluation \t Proposed point \t  Current eval. \t  Best eval. \t        Exact EI: StdDev. x \t Approx EI: StdDev. x \n",
            "init\t [ 5.42641287 -9.58496101]\t 444.22200604720473\t 59.96573403226766\t    \t    \n",
            "init\t [2.6729647  4.97607765]\t 59.96573403226766\t 59.96573403226766\t    \t    \n",
            "init\t [-0.02985975 -5.50406709]\t 436.96281238949786\t 59.96573403226766\t    \t    \n",
            "init\t [-6.0387427   5.21061424]\t 147.67401193720747\t 59.96573403226766\t    \t    \n",
            "init\t [-6.61778327 -8.23320372]\t 1605.6543289416081\t 59.96573403226766\t    \t    \n",
            "1  \t [10. 10.]\t 1154.0\t 59.96573403226766\t 5.812535099307392\t 6.059337487249753\n",
            "\u001b[1m\u001b[92m2\u001b[0m\t \u001b[1m\u001b[92m[2.11155129 0.26933255]\u001b[0m\t \u001b[1m\u001b[92m19.17823960765822\u001b[0m\t \u001b[1m\u001b[92m19.17823960765822\u001b[0m\t \u001b[1m\u001b[92m5.072770470317418\u001b[0m\t \u001b[1m\u001b[92m5.067298490199191\u001b[0m\n",
            "3  \t [9.55798527 1.46057808]\t 272.6498576127984\t 19.17823960765822\t 5.423375634734044\t 6.636654180636832\n",
            "4  \t [-10.          -2.13839802]\t 1189.1946964333092\t 19.17823960765822\t 6.843870500553017\t 7.348092508168195\n",
            "5  \t [ 7.52198711 -3.60971668]\t 86.25545632163207\t 19.17823960765822\t 5.942152689725314\t 6.320947294937361\n",
            "6  \t [0.20663569 9.9051757 ]\t 197.72783206478573\t 19.17823960765822\t 6.784844120673168\t 6.702695224309424\n",
            "7  \t [-4.06245637 -1.92174664]\t 448.58929393611163\t 19.17823960765822\t 6.0835229707125835\t 6.988484518571396\n",
            "8  \t [-1.71952633  3.43858085]\t 28.39902584541884\t 19.17823960765822\t 7.133630659674044\t 7.2826057081886395\n",
            "9  \t [7.36192431 5.94089036]\t 395.29236038048265\t 19.17823960765822\t 7.282646913819433\t 7.507807503867704\n",
            "10 \t [-10.           2.99852062]\t 605.1301959924567\t 19.17823960765822\t 6.486625440618714\t 7.358732957338114\n",
            "11 \t [-6.06716473  9.22601338]\t 91.5382023829747\t 19.17823960765822\t 5.627450847332876\t 6.556428979024589\n",
            "12 \t [-1.52515675  6.53426421]\t 22.940631645810512\t 19.17823960765822\t 7.192472742026592\t 8.208481431871489\n",
            "13 \t [ -1.67599778 -10.        ]\t 1159.108589654886\t 19.17823960765822\t 6.835326642338081\t 7.756810145932309\n",
            "14 \t [ 4.83629608 10.        ]\t 533.4184189542636\t 19.17823960765822\t 6.669255570781432\t 7.976117328129717\n",
            "15 \t [ 3.25690034 -2.7062275 ]\t 85.24606291184018\t 19.17823960765822\t 6.363447347853682\t 7.56318229204429\n",
            "16 \t [5.55434913 0.63855617]\t 45.55384760352775\t 19.17823960765822\t 5.65017180711112\t 7.091002390577829\n",
            "17 \t [ 8.94060726 -6.77310684]\t 171.99907987558424\t 19.17823960765822\t 5.539871266964691\t 6.244057773499522\n",
            "18 \t [-4.81025522  1.8497346 ]\t 228.87756549276816\t 19.17823960765822\t 5.926426483029624\t 7.5216549241415676\n",
            "19 \t [-0.55247713 -0.388794  ]\t 111.55875174484005\t 19.17823960765822\t 6.268581414957075\t 7.9278144612472925\n",
            "20 \t [ 3.7960723  -5.91055207]\t 236.7634097695779\t 19.17823960765822\t 6.369360814710147\t 7.532199978305254\n"
          ]
        }
      ],
      "source": [
        "### EXACT GP EI GRADIENTS\n",
        "\n",
        "np.random.seed(run_num_10)\n",
        "surrogate_exact_10 = dGaussianProcess(cov_func, optimize=opt)\n",
        "\n",
        "exact_10 = dGPGO(surrogate_exact_10, Acquisition_grad(util), objfunc, param)\n",
        "exact_10.run(init_evals=n_init, max_iter=iters)\n"
      ]
    },
    {
      "cell_type": "code",
      "execution_count": 44,
      "metadata": {
        "id": "VwbLIP9cIv-F",
        "colab": {
          "base_uri": "https://localhost:8080/"
        },
        "outputId": "7fe9640a-5a31-4bcb-94b7-98bc60d7cdd5"
      },
      "outputs": [
        {
          "output_type": "stream",
          "name": "stdout",
          "text": [
            "Evaluation \t Proposed point \t  Current eval. \t  Best eval. \t        Exact EI: StdDev. x \t Approx EI: StdDev. x \n",
            "init\t [-6.39460622 -9.61049517]\t 1814.521116554919\t 5.483030044782123\t    \t    \n",
            "init\t [-0.73562947  4.49867858]\t 5.483030044782123\t 5.483030044782123\t    \t    \n",
            "init\t [-1.59592791 -0.29145804]\t 156.21779076814232\t 5.483030044782123\t    \t    \n",
            "init\t [-9.74438371 -0.25256785]\t 909.6795910034871\t 5.483030044782123\t    \t    \n",
            "init\t [8.83613305 7.01590179]\t 639.4153671589368\t 5.483030044782123\t    \t    \n",
            "1  \t [ 1.99086793 -8.88652641]\t 617.1328244256196\t 5.483030044782123\t 6.270102132332414\t 6.287304721342657\n",
            "2  \t [ 6.89877062 -3.95670624]\t 87.66816772781804\t 5.483030044782123\t 5.032888648794192\t 4.938428590740407\n",
            "3  \t [-3.72641694  8.61531845]\t 57.03140194376866\t 5.483030044782123\t 6.6995512066033065\t 7.134361249999058\n",
            "4  \t [3.75874792 1.3661396 ]\t 15.341677588869363\t 5.483030044782123\t 6.678055084115068\t 6.701467858200382\n",
            "5  \t [-7.89611862  5.10567265]\t 268.0154091266694\t 5.483030044782123\t 6.2702652432565555\t 6.350459214426785\n",
            "6  \t [-10.          -5.95341045]\t 1793.7179138814909\t 5.483030044782123\t 6.677871301784275\t 6.656265217696326\n",
            "7  \t [ 1.99094726 10.        ]\t 305.402929195244\t 5.483030044782123\t 7.316797250481877\t 7.782027129948762\n",
            "8  \t [9.62914458 1.07592365]\t 257.9959656761417\t 5.483030044782123\t 6.946419643913136\t 6.755125983424313\n",
            "9  \t [-2.89708983 -5.22853454]\t 671.0191550007513\t 5.483030044782123\t 7.324387973412055\t 8.0640485068207\n",
            "10 \t [2.94669675 5.48246917]\t 88.42232449349416\t 5.483030044782123\t 7.699540019701685\t 7.75026376862929\n",
            "11 \t [ 7.77538209 -9.30467159]\t 319.60291469854417\t 5.483030044782123\t 7.025609371361459\t 7.079905397930655\n",
            "12 \t [-8.02298521 10.        ]\t 146.7841385807778\t 5.483030044782123\t 7.200693268714975\t 7.591005311275872\n",
            "13 \t [-5.70520558  1.58416066]\t 310.76986566721035\t 5.483030044782123\t 5.224336208812248\t 6.540964968885809\n",
            "14 \t [ 2.02461962 -1.49837144]\t 69.55299800937279\t 5.483030044782123\t 8.123438689733733\t 6.961763682118968\n",
            "15 \t [-2.05444445 -9.84061362]\t 1184.8224731495782\t 5.483030044782123\t 9.161636968168525\t 8.718830094194605\n",
            "16 \t [ 6.48861668 10.        ]\t 702.9870989515255\t 5.483030044782123\t 8.596469801891304\t 7.873183935555884\n",
            "17 \t [-6.33086671 -2.64041872]\t 758.5729125500113\t 5.483030044782123\t 7.220849979571601\t 6.603763822801297\n",
            "18 \t [10.         -2.84192705]\t 155.0218107263359\t 5.483030044782123\t 7.023658493373635\t 7.682885842438546\n",
            "19 \t [6.23241079 3.57437306]\t 162.58298210691012\t 5.483030044782123\t 7.839356473008049\t 7.9251905496525366\n",
            "20 \t [-3.17403795  4.62688646]\t 46.02127533030522\t 5.483030044782123\t 8.161972006532359\t 8.14249749116208\n"
          ]
        }
      ],
      "source": [
        "### EXACT GP EI GRADIENTS\n",
        "\n",
        "np.random.seed(run_num_11)\n",
        "surrogate_exact_11 = dGaussianProcess(cov_func, optimize=opt)\n",
        "\n",
        "exact_11 = dGPGO(surrogate_exact_11, Acquisition_grad(util), objfunc, param)\n",
        "exact_11.run(init_evals=n_init, max_iter=iters)\n"
      ]
    },
    {
      "cell_type": "code",
      "execution_count": 45,
      "metadata": {
        "id": "MlUNFjc-JTBY",
        "colab": {
          "base_uri": "https://localhost:8080/"
        },
        "outputId": "b0d9e159-48cd-456b-c16e-9eb453c8d1e4"
      },
      "outputs": [
        {
          "output_type": "stream",
          "name": "stdout",
          "text": [
            "Evaluation \t Proposed point \t  Current eval. \t  Best eval. \t        Exact EI: StdDev. x \t Approx EI: StdDev. x \n",
            "init\t [-6.91674315  4.80099393]\t 215.5279554685742\t 189.34864056663108\t    \t    \n",
            "init\t [-4.7336997   0.67478787]\t 298.0661631184378\t 189.34864056663108\t    \t    \n",
            "init\t [-9.70850075  8.37494016]\t 257.3494442600599\t 189.34864056663108\t    \t    \n",
            "init\t [ 8.01429708 -9.33157145]\t 314.3616446198572\t 189.34864056663108\t    \t    \n",
            "init\t [ 9.13898673 -7.25581357]\t 189.34864056663108\t 189.34864056663108\t    \t    \n",
            "\u001b[1m\u001b[92m1\u001b[0m\t \u001b[1m\u001b[92m[4.66251955 4.05244711]\u001b[0m\t \u001b[1m\u001b[92m103.44533669968575\u001b[0m\t \u001b[1m\u001b[92m103.44533669968575\u001b[0m\t \u001b[1m\u001b[92m6.224759087255188\u001b[0m\t \u001b[1m\u001b[92m5.897982927942297\u001b[0m\n",
            "2  \t [-3.75432006 -8.6025265 ]\t 1227.4078991356632\t 103.44533669968575\t 6.792277811667454\t 6.015930219819051\n",
            "3  \t [10. 10.]\t 1154.0\t 103.44533669968575\t 7.998257587708679\t 7.104176518292004\n",
            "4  \t [ 1.57065243 -2.22406659]\t 114.2335692907157\t 103.44533669968575\t 6.581075741157471\t 6.01378672606955\n",
            "5  \t [-10.          -4.19938352]\t 1497.7013650612012\t 103.44533669968575\t 5.823679698099446\t 6.016283136485365\n",
            "\u001b[1m\u001b[92m6\u001b[0m\t \u001b[1m\u001b[92m[-1.37916335  7.44043215]\u001b[0m\t \u001b[1m\u001b[92m42.37317210685721\u001b[0m\t \u001b[1m\u001b[92m42.37317210685721\u001b[0m\t \u001b[1m\u001b[92m7.645526939999448\u001b[0m\t \u001b[1m\u001b[92m6.937690047276251\u001b[0m\n",
            "7  \t [ 9.05271415 -1.24572354]\t 140.84508355123\t 42.37317210685721\t 6.374471822463599\t 6.423671541558243\n",
            "8  \t [ 3.71322379 10.        ]\t 433.7484485596968\t 42.37317210685721\t 6.599153392589665\t 7.4905852332517435\n",
            "9  \t [  2.13003115 -10.        ]\t 733.861612338394\t 42.37317210685721\t 5.555288209936517\t 6.558464608347549\n",
            "10 \t [-10. -10.]\t 2594.0\t 42.37317210685721\t 5.817416079456367\t 6.504677044950968\n",
            "11 \t [10.          4.15980161]\t 495.23141507520586\t 42.37317210685721\t 4.975551434090336\t 5.544892152935538\n",
            "\u001b[1m\u001b[92m12\u001b[0m\t \u001b[1m\u001b[92m[-0.20911667  2.95896967]\u001b[0m\t \u001b[1m\u001b[92m7.715116601091312\u001b[0m\t \u001b[1m\u001b[92m7.715116601091312\u001b[0m\t \u001b[1m\u001b[92m4.808483402175413\u001b[0m\t \u001b[1m\u001b[92m5.7689357397577945\u001b[0m\n",
            "13 \t [-9.32760489  0.65561446]\t 754.4729331291496\t 7.715116601091312\t 5.333163550323086\t 6.266637467311885\n",
            "14 \t [-2.89002835 -3.65100219]\t 503.82144965974294\t 7.715116601091312\t 5.015501858131485\t 5.744466577548235\n",
            "15 \t [ 5.07868392 -6.45874268]\t 221.88360451494353\t 7.715116601091312\t 5.040042546885224\t 5.966819797689079\n",
            "16 \t [-4.96790721  9.1898078 ]\t 74.12659652735542\t 7.715116601091312\t 5.2683664773027825\t 7.032643036453781\n",
            "17 \t [4.85970273 0.1144016 ]\t 27.019500193652682\t 7.715116601091312\t 4.443307766233232\t 5.37002152495885\n",
            "18 \t [ 6.06366382 -3.03611015]\t 65.85792456194898\t 7.715116601091312\t 5.456761005663047\t 5.827992658849296\n",
            "19 \t [ 0.67599511 -6.01747639]\t 430.47294993362726\t 7.715116601091312\t 5.330480691721722\t 6.114009204077572\n",
            "20 \t [-2.7774935   4.21748888]\t 41.96623087179377\t 7.715116601091312\t 5.22670462603888\t 5.742332900719929\n"
          ]
        }
      ],
      "source": [
        "### EXACT GP EI GRADIENTS\n",
        "\n",
        "np.random.seed(run_num_12)\n",
        "surrogate_exact_12 = dGaussianProcess(cov_func, optimize=opt)\n",
        "\n",
        "exact_12 = dGPGO(surrogate_exact_12, Acquisition_grad(util), objfunc, param)\n",
        "exact_12.run(init_evals=n_init, max_iter=iters)\n"
      ]
    },
    {
      "cell_type": "code",
      "execution_count": 46,
      "metadata": {
        "id": "9BsKdU9eJTFL",
        "colab": {
          "base_uri": "https://localhost:8080/"
        },
        "outputId": "700d139d-a557-44a7-a6b0-ea270c8041a6"
      },
      "outputs": [
        {
          "output_type": "stream",
          "name": "stdout",
          "text": [
            "Evaluation \t Proposed point \t  Current eval. \t  Best eval. \t        Exact EI: StdDev. x \t Approx EI: StdDev. x \n",
            "init\t [ 5.55404821 -5.2491756 ]\t 143.4041188295949\t 48.27231948835582\t    \t    \n",
            "init\t [6.48557065 9.31498396]\t 626.9828646177026\t 48.27231948835582\t    \t    \n",
            "init\t [ 9.45202228 -0.93101505]\t 168.64758529203058\t 48.27231948835582\t    \t    \n",
            "init\t [2.18084926 5.51053029]\t 62.202299160666314\t 48.27231948835582\t    \t    \n",
            "init\t [2.8322669  4.44036459]\t 48.27231948835582\t 48.27231948835582\t    \t    \n",
            "1  \t [-8.69830926  2.59657998]\t 502.3996877395562\t 48.27231948835582\t 5.854603360217185\t 6.217278588546162\n",
            "2  \t [-10. -10.]\t 2594.0\t 48.27231948835582\t 6.518758468010503\t 6.679640216468617\n",
            "3  \t [-2.15602907 -6.60875043]\t 754.0469861276626\t 48.27231948835582\t 6.2944005722742205\t 6.725444864145426\n",
            "4  \t [-5.68974606  9.11900061]\t 83.49787226161779\t 48.27231948835582\t 6.23461368249958\t 7.1740692561822375\n",
            "5  \t [-1.12055944 -0.41028962]\t 138.4880126071945\t 48.27231948835582\t 7.565187549146756\t 7.550796006985453\n",
            "6  \t [-8.51175416 -3.60810124]\t 1173.5394222599975\t 48.27231948835582\t 6.0075571678511706\t 6.878163756535393\n",
            "7  \t [-0.34959545 10.        ]\t 178.52969414600796\t 48.27231948835582\t 6.648558512135566\t 7.052043692290084\n",
            "8  \t [8.62368957 4.29947631]\t 378.30083865719695\t 48.27231948835582\t 6.319649369502721\t 7.360103571160829\n",
            "9  \t [  2.68893695 -10.        ]\t 683.6130969300818\t 48.27231948835582\t 6.973762189690225\t 7.061576546701861\n",
            "\u001b[1m\u001b[92m10\u001b[0m\t \u001b[1m\u001b[92m[-3.01165597  4.52805736]\u001b[0m\t \u001b[1m\u001b[92m43.1013910614462\u001b[0m\t \u001b[1m\u001b[92m43.1013910614462\u001b[0m\t \u001b[1m\u001b[92m5.854212859278421\u001b[0m\t \u001b[1m\u001b[92m6.9292223004706655\u001b[0m\n",
            "11 \t [10.         -6.87200353]\t 181.49801431374408\t 43.1013910614462\t 6.6952595330966735\t 7.747028975898569\n",
            "\u001b[1m\u001b[92m12\u001b[0m\t \u001b[1m\u001b[92m[ 3.91180796 -0.09936299]\u001b[0m\t \u001b[1m\u001b[92m18.225384070144667\u001b[0m\t \u001b[1m\u001b[92m18.225384070144667\u001b[0m\t \u001b[1m\u001b[92m6.329372066073576\u001b[0m\t \u001b[1m\u001b[92m8.135402004237784\u001b[0m\n",
            "13 \t [-9.76887889  7.24237765]\t 304.34739479263897\t 18.225384070144667\t 6.695325003377498\t 7.082564641897779\n",
            "14 \t [-5.04355395 -0.68222191]\t 428.4461669264004\t 18.225384070144667\t 6.312719329766247\t 5.927009964886182\n",
            "15 \t [-5.73767528 -8.7369949 ]\t 1548.4070713707056\t 18.225384070144667\t 6.010015038497217\t 6.77150073200311\n",
            "16 \t [ 1.79227449 -4.83840815]\t 260.66033945524464\t 18.225384070144667\t 6.47635269983363\t 7.513137814974045\n",
            "17 \t [6.43731523 1.10558004]\t 83.36165141516105\t 18.225384070144667\t 7.12742847948944\t 8.656673687146968\n",
            "\u001b[1m\u001b[92m18\u001b[0m\t \u001b[1m\u001b[92m[0.33431916 2.64007923]\u001b[0m\t \u001b[1m\u001b[92m4.780108628038588\u001b[0m\t \u001b[1m\u001b[92m4.780108628038588\u001b[0m\t \u001b[1m\u001b[92m5.344602815676465\u001b[0m\t \u001b[1m\u001b[92m6.745031077424361\u001b[0m\n",
            "19 \t [10. 10.]\t 1154.0\t 4.780108628038588\t 5.646882710537138\t 6.874804909018548\n",
            "20 \t [ 2.91699595 10.        ]\t 370.72614061103815\t 4.780108628038588\t 6.155973485029211\t 7.805951752070446\n"
          ]
        }
      ],
      "source": [
        "### EXACT GP EI GRADIENTS\n",
        "\n",
        "np.random.seed(run_num_13)\n",
        "surrogate_exact_13 = dGaussianProcess(cov_func, optimize=opt)\n",
        "\n",
        "exact_13 = dGPGO(surrogate_exact_13, Acquisition_grad(util), objfunc, param)\n",
        "exact_13.run(init_evals=n_init, max_iter=iters)\n"
      ]
    },
    {
      "cell_type": "code",
      "execution_count": 47,
      "metadata": {
        "id": "k6GjFBr1JTJf",
        "colab": {
          "base_uri": "https://localhost:8080/"
        },
        "outputId": "771fafa0-ef83-40fc-e87f-74399d94a1ed"
      },
      "outputs": [
        {
          "output_type": "stream",
          "name": "stdout",
          "text": [
            "Evaluation \t Proposed point \t  Current eval. \t  Best eval. \t        Exact EI: StdDev. x \t Approx EI: StdDev. x \n",
            "init\t [0.27886688 5.46330104]\t 18.728481209446468\t 18.728481209446468\t    \t    \n",
            "init\t [ 7.40855371 -9.83906103]\t 371.31674613664467\t 18.728481209446468\t    \t    \n",
            "init\t [-3.80528149  9.15207479]\t 68.19416312981014\t 18.728481209446468\t    \t    \n",
            "init\t [ 0.26233425 -3.6343115 ]\t 261.94243460125864\t 18.728481209446468\t    \t    \n",
            "init\t [ 0.78399875 -5.57490115]\t 382.6954465291845\t 18.728481209446468\t    \t    \n",
            "1  \t [10.          6.84950759]\t 756.2580904472044\t 18.728481209446468\t 6.64569165448788\t 6.688568240948922\n",
            "2  \t [-8.1477833   0.47898709]\t 634.6806661127735\t 18.728481209446468\t 6.738906584980326\t 6.161113468441543\n",
            "3  \t [-10. -10.]\t 2594.0\t 18.728481209446468\t 7.065158694080239\t 6.812645340564284\n",
            "4  \t [ 7.59696716 -1.03928139]\t 86.00279589103185\t 18.728481209446468\t 6.271520009872305\t 6.754379388273743\n",
            "5  \t [ 3.70842048 10.        ]\t 433.34925404388684\t 18.728481209446468\t 6.040017620723358\t 6.1807163741423015\n",
            "6  \t [-9.18491486  6.55773959]\t 292.0678095450918\t 18.728481209446468\t 5.920026325261779\t 6.499888594681997\n",
            "7  \t [-3.78433444 -9.46531242]\t 1368.4751373249896\t 18.728481209446468\t 5.483844050846337\t 5.859215884062247\n",
            "8  \t [-4.42155595  4.3242776 ]\t 98.2977395138404\t 18.728481209446468\t 6.925008306877783\t 7.1398012364425805\n",
            "9  \t [-1.06931084  1.15462722]\t 68.98643935175244\t 18.728481209446468\t 6.524116915410062\t 7.643782434041154\n",
            "10 \t [-5.16944247 -4.05218382]\t 787.0409241417482\t 18.728481209446468\t 7.048573670951066\t 7.273789544176243\n",
            "11 \t [ 9.72550235 -5.17887576]\t 144.22360245886637\t 18.728481209446468\t 7.085012926540582\t 7.4594907009613625\n",
            "12 \t [5.04434367 3.75170433]\t 108.93008073325697\t 18.728481209446468\t 5.691877434095849\t 7.809598990109658\n",
            "13 \t [  2.34038296 -10.        ]\t 714.5833041078312\t 18.728481209446468\t 6.053320104177513\t 7.851499016156571\n",
            "\u001b[1m\u001b[92m14\u001b[0m\t \u001b[1m\u001b[92m[2.56913351 0.70981771]\u001b[0m\t \u001b[1m\u001b[92m9.786760259062364\u001b[0m\t \u001b[1m\u001b[92m9.786760259062364\u001b[0m\t \u001b[1m\u001b[92m4.632969416887782\u001b[0m\t \u001b[1m\u001b[92m5.5936351306565815\u001b[0m\n",
            "15 \t [ 5.45717716 -5.78077106]\t 171.7422256647205\t 9.786760259062364\t 5.945110291817466\t 6.85476270303625\n",
            "16 \t [10.          2.26259025]\t 354.62536351084736\t 9.786760259062364\t 6.322406149656779\t 7.1534059229050655\n",
            "17 \t [-0.36333084 10.        ]\t 177.9468279766937\t 9.786760259062364\t 6.597674508178462\t 7.702584070132704\n",
            "18 \t [-9.94825204 -4.92439308]\t 1607.3671640298176\t 9.786760259062364\t 7.443256004278768\t 7.600876136622227\n",
            "19 \t [ 3.35289063 -1.45309503]\t 43.00958363091936\t 9.786760259062364\t 5.793049997301008\t 7.263630143350136\n",
            "20 \t [-1.83664366  6.28735417]\t 19.665804498875975\t 9.786760259062364\t 6.193284611498668\t 6.071823448804339\n"
          ]
        }
      ],
      "source": [
        "### EXACT GP EI GRADIENTS\n",
        "\n",
        "np.random.seed(run_num_14)\n",
        "surrogate_exact_14 = dGaussianProcess(cov_func, optimize=opt)\n",
        "\n",
        "exact_14 = dGPGO(surrogate_exact_14, Acquisition_grad(util), objfunc, param)\n",
        "exact_14.run(init_evals=n_init, max_iter=iters)\n"
      ]
    },
    {
      "cell_type": "code",
      "execution_count": 48,
      "metadata": {
        "id": "dPS8WB3aJTN6",
        "colab": {
          "base_uri": "https://localhost:8080/"
        },
        "outputId": "ab175eb5-deed-454c-dd43-238dfba3de05"
      },
      "outputs": [
        {
          "output_type": "stream",
          "name": "stdout",
          "text": [
            "Evaluation \t Proposed point \t  Current eval. \t  Best eval. \t        Exact EI: StdDev. x \t Approx EI: StdDev. x \n",
            "init\t [ 6.97635395 -6.4220815 ]\t 171.98457986923216\t 171.98457986923216\t    \t    \n",
            "init\t [-8.91273571 -2.76923108]\t 1115.2426864421157\t 171.98457986923216\t    \t    \n",
            "init\t [-4.49198143  0.6000045 ]\t 285.0550378664367\t 171.98457986923216\t    \t    \n",
            "init\t [-3.88162169 -3.91051282]\t 627.8031621427792\t 171.98457986923216\t    \t    \n",
            "init\t [-7.76517448 -5.00201972]\t 1265.415808453521\t 171.98457986923216\t    \t    \n",
            "1  \t [10. 10.]\t 1154.0\t 171.98457986923216\t 7.510601596938228\t 7.2255644359892095\n",
            "2  \t [-9.69991687  7.99454818]\t 269.63866043864715\t 171.98457986923216\t 5.653701885830906\t 6.297839501702428\n",
            "\u001b[1m\u001b[92m3\u001b[0m\t \u001b[1m\u001b[92m[1.73681759 5.94770992]\u001b[0m\t \u001b[1m\u001b[92m63.534865648721514\u001b[0m\t \u001b[1m\u001b[92m63.534865648721514\u001b[0m\t \u001b[1m\u001b[92m6.395444656825072\u001b[0m\t \u001b[1m\u001b[92m6.748811268016064\u001b[0m\n",
            "4  \t [8.17696818 1.09984692]\t 166.4985641578168\t 63.534865648721514\t 5.496499992585135\t 6.377648079618062\n",
            "5  \t [-3.75847586  9.68745749]\t 82.24906084807945\t 63.534865648721514\t 7.082371748085737\t 6.793636784797552\n",
            "6  \t [-0.62952455 -9.52479128]\t 960.9043734412453\t 63.534865648721514\t 7.218269258983034\t 7.716295259279908\n",
            "\u001b[1m\u001b[92m7\u001b[0m\t \u001b[1m\u001b[92m[ 2.51740625 -1.0397919 ]\u001b[0m\t \u001b[1m\u001b[92m44.07215785007243\u001b[0m\t \u001b[1m\u001b[92m44.07215785007243\u001b[0m\t \u001b[1m\u001b[92m6.399388779755841\u001b[0m\t \u001b[1m\u001b[92m6.459591719387404\u001b[0m\n",
            "8  \t [-10. -10.]\t 2594.0\t 44.07215785007243\t 6.714182824093285\t 7.092306781277364\n",
            "9  \t [6.81525159 5.72133593]\t 332.7161261817095\t 44.07215785007243\t 4.965133556572709\t 6.453890398997372\n",
            "\u001b[1m\u001b[92m10\u001b[0m\t \u001b[1m\u001b[92m[-2.77129351  5.12197592]\u001b[0m\t \u001b[1m\u001b[92m29.606430599415685\u001b[0m\t \u001b[1m\u001b[92m29.606430599415685\u001b[0m\t \u001b[1m\u001b[92m4.958182194557433\u001b[0m\t \u001b[1m\u001b[92m6.618825135806911\u001b[0m\n",
            "11 \t [-10.           2.68714754]\t 633.020399539913\t 29.606430599415685\t 4.282082383171688\t 5.762579295781978\n",
            "12 \t [ 4.10892908 10.        ]\t 467.4272288406215\t 29.606430599415685\t 5.485583925286971\t 6.426710874777543\n",
            "13 \t [ 2.76297952 -6.17377267]\t 306.94562177727795\t 29.606430599415685\t 6.025817488311073\t 6.427101620285242\n",
            "14 \t [ 9.80643766 -2.88010785]\t 146.38263722984235\t 29.606430599415685\t 5.5644240558760565\t 6.419125072408951\n",
            "\u001b[1m\u001b[92m15\u001b[0m\t \u001b[1m\u001b[92m[-0.13543374  2.11699413]\u001b[0m\t \u001b[1m\u001b[92m18.36530308160701\u001b[0m\t \u001b[1m\u001b[92m18.36530308160701\u001b[0m\t \u001b[1m\u001b[92m4.6311375609059695\u001b[0m\t \u001b[1m\u001b[92m6.809130684739385\u001b[0m\n",
            "16 \t [-5.20887524 -9.61031096]\t 1614.2171516909862\t 18.36530308160701\t 5.396089357072347\t 6.642725215194535\n",
            "17 \t [3.67492741 2.62331245]\t 28.424755972921236\t 18.36530308160701\t 4.487152286501653\t 6.658064959355662\n",
            "18 \t [-6.0185784   4.38627639]\t 178.07350894781553\t 18.36530308160701\t 5.24775230384217\t 6.792443115883443\n",
            "19 \t [-0.05362866  9.60584262]\t 168.05560944374662\t 18.36530308160701\t 5.041425321230608\t 5.606390392810913\n",
            "20 \t [-0.84589708 -1.08623384]\t 160.86535161013566\t 18.36530308160701\t 4.743654548383949\t 6.664970609664076\n"
          ]
        }
      ],
      "source": [
        "### EXACT GP EI GRADIENTS\n",
        "\n",
        "np.random.seed(run_num_15)\n",
        "surrogate_exact_15 = dGaussianProcess(cov_func, optimize=opt)\n",
        "\n",
        "exact_15 = dGPGO(surrogate_exact_15, Acquisition_grad(util), objfunc, param)\n",
        "exact_15.run(init_evals=n_init, max_iter=iters)\n"
      ]
    },
    {
      "cell_type": "code",
      "execution_count": 49,
      "metadata": {
        "id": "lu8ki9XIQPPN",
        "colab": {
          "base_uri": "https://localhost:8080/"
        },
        "outputId": "1d473b76-50bf-4802-eb44-b93df8eff9a4"
      },
      "outputs": [
        {
          "output_type": "stream",
          "name": "stdout",
          "text": [
            "Evaluation \t Proposed point \t  Current eval. \t  Best eval. \t        Exact EI: StdDev. x \t Approx EI: StdDev. x \n",
            "init\t [-5.53417842  0.46326683]\t 378.2562509858209\t 182.86095429406956\t    \t    \n",
            "init\t [ 1.01402913 -9.087961  ]\t 729.2383206820605\t 182.86095429406956\t    \t    \n",
            "init\t [-2.78542329 -5.53838117]\t 694.7380078426447\t 182.86095429406956\t    \t    \n",
            "init\t [ 3.77452324 -6.7253715 ]\t 295.53799633399245\t 182.86095429406956\t    \t    \n",
            "init\t [-8.59350266  8.8202172 ]\t 182.86095429406956\t 182.86095429406956\t    \t    \n",
            "1  \t [10. 10.]\t 1154.0\t 182.86095429406956\t 7.384193310212943\t 6.969005326219662\n",
            "2  \t [ 0.50732984 10.        ]\t 218.62409061389124\t 182.86095429406956\t 7.173386690035086\t 7.069673200541454\n",
            "3  \t [-10. -10.]\t 2594.0\t 182.86095429406956\t 6.950788461953754\t 7.506469056531989\n",
            "\u001b[1m\u001b[92m4\u001b[0m\t \u001b[1m\u001b[92m[5.7976487  1.62279444]\u001b[0m\t \u001b[1m\u001b[92m71.71185334713266\u001b[0m\t \u001b[1m\u001b[92m71.71185334713266\u001b[0m\t \u001b[1m\u001b[92m5.594703988652256\u001b[0m\t \u001b[1m\u001b[92m6.469180047037609\u001b[0m\n",
            "\u001b[1m\u001b[92m5\u001b[0m\t \u001b[1m\u001b[92m[-2.22531694  5.42968011]\u001b[0m\t \u001b[1m\u001b[92m18.838166667692633\u001b[0m\t \u001b[1m\u001b[92m18.838166667692633\u001b[0m\t \u001b[1m\u001b[92m5.209222827828442\u001b[0m\t \u001b[1m\u001b[92m5.6833528089876335\u001b[0m\n",
            "6  \t [ 9.808689   -7.09213596]\t 186.0331545597152\t 18.838166667692633\t 6.673109906360138\t 7.463571427884262\n",
            "7  \t [ 0.72786413 -0.69127845]\t 76.53420672574083\t 18.838166667692633\t 5.666274413580601\t 7.1815106840488285\n",
            "8  \t [-8.81894628 -4.15233756]\t 1299.6655388549011\t 18.838166667692633\t 5.348768767701907\t 6.744354077492908\n",
            "9  \t [4.92359555 7.17070197]\t 294.8599661063762\t 18.838166667692633\t 5.412602518958823\t 6.3677044458057\n",
            "10 \t [10.         -0.21281506]\t 225.288218670653\t 18.838166667692633\t 5.7845721862711175\t 7.507852722005905\n",
            "11 \t [10.          4.73936492]\t 545.3612255521333\t 18.838166667692633\t 5.147445358574631\t 7.113366115221269\n",
            "12 \t [-10.          2.6383971]\t 637.4748382197099\t 18.838166667692633\t 5.88405154663041\t 7.610695795878423\n",
            "13 \t [-3.98833373  9.06700354]\t 66.34611959213136\t 18.838166667692633\t 4.9675431694992\t 5.850639318390056\n",
            "14 \t [-4.89344598 -9.95166007]\t 1623.0302916080193\t 18.838166667692633\t 4.540314865016982\t 5.925618310761455\n",
            "\u001b[1m\u001b[92m15\u001b[0m\t \u001b[1m\u001b[92m[1.35707066 4.12666402]\u001b[0m\t \u001b[1m\u001b[92m10.202745790489566\u001b[0m\t \u001b[1m\u001b[92m10.202745790489566\u001b[0m\t \u001b[1m\u001b[92m4.9642135533585385\u001b[0m\t \u001b[1m\u001b[92m6.904217994896602\u001b[0m\n",
            "16 \t [ 6.73150637 -3.27777936]\t 73.45433573182248\t 10.202745790489566\t 4.8273954419108245\t 5.066983273220765\n",
            "17 \t [-5.63810162  4.75373807]\t 142.56801923995621\t 10.202745790489566\t 5.69143233464697\t 7.15947030000125\n",
            "18 \t [-1.53176679  2.09508081]\t 54.471964099200974\t 10.202745790489566\t 4.503898630491138\t 6.366001092506193\n",
            "19 \t [ 3.51739619 -3.06370866]\t 93.4111746421007\t 10.202745790489566\t 4.685774353038622\t 6.506822495942991\n",
            "20 \t [  5.76768047 -10.        ]\t 462.8151163290602\t 10.202745790489566\t 5.018664544988428\t 5.94920538497312\n"
          ]
        }
      ],
      "source": [
        "### EXACT GP EI GRADIENTS\n",
        "\n",
        "np.random.seed(run_num_16)\n",
        "surrogate_exact_16 = dGaussianProcess(cov_func, optimize=opt)\n",
        "\n",
        "exact_16 = dGPGO(surrogate_exact_16, Acquisition_grad(util), objfunc, param)\n",
        "exact_16.run(init_evals=n_init, max_iter=iters)\n"
      ]
    },
    {
      "cell_type": "code",
      "execution_count": 50,
      "metadata": {
        "id": "yU2SflSsJTUs",
        "colab": {
          "base_uri": "https://localhost:8080/"
        },
        "outputId": "31e81047-6869-4f1e-a8d8-7d9200312eb8"
      },
      "outputs": [
        {
          "output_type": "stream",
          "name": "stdout",
          "text": [
            "Evaluation \t Proposed point \t  Current eval. \t  Best eval. \t        Exact EI: StdDev. x \t Approx EI: StdDev. x \n",
            "init\t [-4.10669995  0.61173511]\t 256.4801849765532\t 5.553508838684786\t    \t    \n",
            "init\t [-6.16958426 -8.64199284]\t 1602.4406672130797\t 5.553508838684786\t    \t    \n",
            "init\t [5.7397092  3.12667044]\t 117.20749172761734\t 5.553508838684786\t    \t    \n",
            "init\t [2.75041792 1.51205788]\t 5.553508838684786\t 5.553508838684786\t    \t    \n",
            "init\t [-9.21874168 -2.84372791]\t 1170.583554210921\t 5.553508838684786\t    \t    \n",
            "1  \t [-8.64042543  9.21575513]\t 178.4868811929342\t 5.553508838684786\t 6.883815702566379\t 7.481909305120746\n",
            "2  \t [ 4.54825031 -8.71744454]\t 416.8315243674168\t 5.553508838684786\t 5.684241673553595\t 5.9647821349516725\n",
            "3  \t [10. 10.]\t 1154.0\t 5.553508838684786\t 5.894445791065492\t 7.154301376971256\n",
            "4  \t [-0.05385845  7.96254756]\t 86.84889828641981\t 5.553508838684786\t 6.575005328453555\t 7.0917506107832065\n",
            "5  \t [ 9.06636127 -2.74323799]\t 119.63857371103694\t 5.553508838684786\t 5.478543278153945\t 6.124637996557191\n",
            "6  \t [-0.87274446 -4.27699933]\t 391.3331366019863\t 5.553508838684786\t 6.075007452530379\t 6.785527613158412\n",
            "7  \t [-10.           3.39224917]\t 571.2513701844507\t 5.553508838684786\t 5.77082665157431\t 7.13598114418625\n",
            "8  \t [ 4.89572486 10.        ]\t 539.0439535249463\t 5.553508838684786\t 6.435422378483871\t 6.544049177417018\n",
            "9  \t [10.         -8.43836648]\t 235.61875203171928\t 5.553508838684786\t 6.988327546700654\t 6.9657314029862425\n",
            "10 \t [ -0.96055053 -10.        ]\t 1068.1160472842669\t 5.553508838684786\t 5.550684525818503\t 5.228740067075888\n",
            "11 \t [-5.34307141  5.91978222]\t 95.63531874971927\t 5.553508838684786\t 6.531185655874204\t 6.929081786489034\n",
            "12 \t [ 3.48593661 -2.09524843]\t 59.37547010189296\t 5.553508838684786\t 6.58164930045747\t 6.409534574912329\n",
            "13 \t [10.          3.08548004]\t 411.19109676986125\t 5.553508838684786\t 6.427483616387789\t 6.539876933495511\n",
            "14 \t [-0.52208434  3.60261811]\t 6.061561877584948\t 5.553508838684786\t 5.752214199027742\t 6.692230371760641\n",
            "15 \t [ 0.22789882 -0.17155474]\t 72.86458791180767\t 5.553508838684786\t 6.471334401583851\t 6.339180188242708\n",
            "16 \t [2.39563937 4.34938292]\t 33.909232965061975\t 5.553508838684786\t 7.174098672892779\t 7.456151490936052\n",
            "17 \t [-4.98002136 -4.07882594]\t 768.0044029817816\t 5.553508838684786\t 6.012130995719322\t 6.814761643422061\n",
            "18 \t [-3.44615049  9.43533625]\t 77.00924669232722\t 5.553508838684786\t 6.652143138650976\t 7.546611722300459\n",
            "19 \t [-10. -10.]\t 2594.0\t 5.553508838684786\t 6.197777818684404\t 6.4849104884981426\n",
            "20 \t [8.14315209 6.23228245]\t 492.0708393319369\t 5.553508838684786\t 4.950056795304223\t 6.054436190616583\n"
          ]
        }
      ],
      "source": [
        "### EXACT GP EI GRADIENTS\n",
        "\n",
        "np.random.seed(run_num_17)\n",
        "surrogate_exact_17 = dGaussianProcess(cov_func, optimize=opt)\n",
        "\n",
        "exact_17 = dGPGO(surrogate_exact_17, Acquisition_grad(util), objfunc, param)\n",
        "exact_17.run(init_evals=n_init, max_iter=iters)\n"
      ]
    },
    {
      "cell_type": "code",
      "execution_count": 51,
      "metadata": {
        "id": "eVEhyZ9BQS-1",
        "colab": {
          "base_uri": "https://localhost:8080/"
        },
        "outputId": "bdfb1e80-3cd8-491f-b22b-946e9c3d7340"
      },
      "outputs": [
        {
          "output_type": "stream",
          "name": "stdout",
          "text": [
            "Evaluation \t Proposed point \t  Current eval. \t  Best eval. \t        Exact EI: StdDev. x \t Approx EI: StdDev. x \n",
            "init\t [3.00748483 0.10906747]\t 15.509405515253864\t 15.509405515253864\t    \t    \n",
            "init\t [ 7.57202942 -6.36319549]\t 162.0234327224751\t 15.509405515253864\t    \t    \n",
            "init\t [7.04466137 5.00272572]\t 299.59059770472754\t 15.509405515253864\t    \t    \n",
            "init\t [3.32203335 9.75790897]\t 380.8425822546991\t 15.509405515253864\t    \t    \n",
            "init\t [-4.86063155 -9.43388149]\t 1527.7052410059514\t 15.509405515253864\t    \t    \n",
            "1  \t [-6.1664519   4.28513481]\t 191.3691670751314\t 15.509405515253864\t 6.770364757915974\t 6.805032292386347\n",
            "2  \t [-6.07110106 -2.27098711]\t 687.0923366704285\t 15.509405515253864\t 6.11212195544192\t 5.9894318329021505\n",
            "3  \t [10. 10.]\t 1154.0\t 15.509405515253864\t 6.251572075602154\t 6.948514816786847\n",
            "4  \t [-2.33775535  8.28880862]\t 54.33854275473706\t 15.509405515253864\t 6.804042535991252\t 6.831045380095514\n",
            "5  \t [ 4.59940623 -9.59713586]\t 495.48011107282537\t 15.509405515253864\t 5.9589124986065345\t 6.339751460357472\n",
            "6  \t [-10.         -6.6502266]\t 1919.8543086168208\t 15.509405515253864\t 6.144459960669766\t 6.129945421013761\n",
            "7  \t [ 0.04557979 -4.65601014]\t 356.08345240721144\t 15.509405515253864\t 5.38813664573569\t 6.596264604290321\n",
            "8  \t [ 7.73981272 -0.29757357]\t 103.69510858031133\t 15.509405515253864\t 5.556524422699471\t 7.08925697254364\n",
            "9  \t [-10.           1.09358123]\t 790.9370144768775\t 15.509405515253864\t 5.7603543896363165\t 7.372418108558738\n",
            "10 \t [-7.66581633  9.87440958]\t 135.19043243556945\t 15.509405515253864\t 6.110466458847696\t 7.291080722230901\n",
            "\u001b[1m\u001b[92m11\u001b[0m\t \u001b[1m\u001b[92m[-0.87666939  3.42985939]\u001b[0m\t \u001b[1m\u001b[92m12.07970378617026\u001b[0m\t \u001b[1m\u001b[92m12.07970378617026\u001b[0m\t \u001b[1m\u001b[92m6.727442109659464\u001b[0m\t \u001b[1m\u001b[92m7.412813947134451\u001b[0m\n",
            "12 \t [-1.62717647 -0.26313153]\t 156.33299704894773\t 12.07970378617026\t 6.720440577937119\t 6.835167309857656\n",
            "13 \t [2.87983576 3.71129285]\t 30.895509817971252\t 12.07970378617026\t 6.527527003197787\t 7.702723226077736\n",
            "14 \t [ 3.16956711 -2.47258399]\t 78.29587908669536\t 12.07970378617026\t 5.827756390259499\t 7.549853288810268\n",
            "15 \t [0.62158635 6.70569552]\t 58.15859477046837\t 12.07970378617026\t 5.833953139677885\t 6.244615116587988\n",
            "16 \t [-10.           6.23446577]\t 372.67585632172086\t 12.07970378617026\t 6.353844107339466\t 7.167287531186272\n",
            "17 \t [10.          2.54256671]\t 373.1110293682718\t 12.07970378617026\t 6.448587513495024\t 7.1448775190194285\n",
            "18 \t [-0.04551262 -9.38035423]\t 875.3818708022702\t 12.07970378617026\t 6.757117297691364\t 7.405865051585208\n",
            "19 \t [10.         -3.00357125]\t 152.95720880267055\t 12.07970378617026\t 6.1777207383264345\t 6.946275457415099\n",
            "20 \t [-2.74842696  5.14801009]\t 28.909988689206244\t 12.07970378617026\t 6.220713835475516\t 7.661403284604033\n"
          ]
        }
      ],
      "source": [
        "### EXACT GP EI GRADIENTS\n",
        "\n",
        "np.random.seed(run_num_18)\n",
        "surrogate_exact_18 = dGaussianProcess(cov_func, optimize=opt)\n",
        "\n",
        "exact_18 = dGPGO(surrogate_exact_18, Acquisition_grad(util), objfunc, param)\n",
        "exact_18.run(init_evals=n_init, max_iter=iters)\n"
      ]
    },
    {
      "cell_type": "code",
      "execution_count": 52,
      "metadata": {
        "id": "B6gTz1ojQUxn",
        "colab": {
          "base_uri": "https://localhost:8080/"
        },
        "outputId": "aaa6f7c3-5344-428d-826b-2ca34adfff1b"
      },
      "outputs": [
        {
          "output_type": "stream",
          "name": "stdout",
          "text": [
            "Evaluation \t Proposed point \t  Current eval. \t  Best eval. \t        Exact EI: StdDev. x \t Approx EI: StdDev. x \n",
            "init\t [-8.04932797  5.22499433]\t 273.1270544592675\t 139.9227861892117\t    \t    \n",
            "init\t [-5.06124054 -7.23736625]\t 1204.1206373978957\t 139.9227861892117\t    \t    \n",
            "init\t [-3.37106873 -8.3400087 ]\t 1135.0538557997047\t 139.9227861892117\t    \t    \n",
            "init\t [3.43954163 6.13187596]\t 139.9227861892117\t 139.9227861892117\t    \t    \n",
            "init\t [9.65483829 2.7132147 ]\t 355.08571481298065\t 139.9227861892117\t    \t    \n",
            "1  \t [ 9.42739537 -7.28680447]\t 190.6689475777885\t 139.9227861892117\t 7.179041779760691\t 7.386649887985332\n",
            "2  \t [10. 10.]\t 1154.0\t 139.9227861892117\t 7.272457104983888\t 7.006156591871696\n",
            "3  \t [ 1.19601233 -3.03912179]\t 173.07712550836953\t 139.9227861892117\t 5.45546389803577\t 6.144623253023467\n",
            "4  \t [-9.64931371 -1.76781368]\t 1086.8911967373488\t 139.9227861892117\t 5.697349623451839\t 5.859356153356049\n",
            "\u001b[1m\u001b[92m5\u001b[0m\t \u001b[1m\u001b[92m[-2.65957069  8.24430873]\u001b[0m\t \u001b[1m\u001b[92m50.94081039113579\u001b[0m\t \u001b[1m\u001b[92m50.94081039113579\u001b[0m\t \u001b[1m\u001b[92m5.945836102262568\u001b[0m\t \u001b[1m\u001b[92m7.014676099256668\u001b[0m\n",
            "6  \t [ 3.80187541 -9.669944  ]\t 557.8930974929724\t 50.94081039113579\t 6.797184359235833\t 6.715193984919624\n",
            "\u001b[1m\u001b[92m7\u001b[0m\t \u001b[1m\u001b[92m[-1.37096316  2.2010964 ]\u001b[0m\t \u001b[1m\u001b[92m46.45193458196294\u001b[0m\t \u001b[1m\u001b[92m46.45193458196294\u001b[0m\t \u001b[1m\u001b[92m6.371001645881202\u001b[0m\t \u001b[1m\u001b[92m6.92146973449516\u001b[0m\n",
            "8  \t [-10. -10.]\t 2594.0\t 46.45193458196294\t 5.834084757582704\t 7.1066364598346095\n",
            "\u001b[1m\u001b[92m9\u001b[0m\t \u001b[1m\u001b[92m[4.50453663 0.98893112]\u001b[0m\t \u001b[1m\u001b[92m25.247958719575873\u001b[0m\t \u001b[1m\u001b[92m25.247958719575873\u001b[0m\t \u001b[1m\u001b[92m5.332567090507002\u001b[0m\t \u001b[1m\u001b[92m5.988446209201245\u001b[0m\n",
            "10 \t [ 7.58977655 -2.4213564 ]\t 78.27708268102887\t 25.247958719575873\t 6.4060140292910726\t 6.562698588318655\n",
            "11 \t [-4.05195051 -1.82928113]\t 439.3991150504417\t 25.247958719575873\t 5.034269512204195\t 7.544482234404416\n",
            "12 \t [ 4.60250506 -5.08560622]\t 158.74785460347232\t 25.247958719575873\t 5.348058093938699\t 6.500857851080013\n",
            "13 \t [-5.24573825  2.36297381]\t 228.90483385712918\t 25.247958719575873\t 5.223278834519823\t 6.264729183060489\n",
            "14 \t [ 1.80363402 10.        ]\t 293.23264357245074\t 25.247958719575873\t 5.250079465710002\t 6.91483927817686\n",
            "15 \t [-6.48545071  9.60029998]\t 102.72989933720213\t 25.247958719575873\t 5.9368424763003675\t 6.840789712051493\n",
            "16 \t [7.62899838 6.15364243]\t 436.689324567836\t 25.247958719575873\t 5.050718456160043\t 5.971666296885345\n",
            "17 \t [5.75749419 9.94227451]\t 618.3672770534632\t 25.247958719575873\t 5.457705023241816\t 5.892755185600512\n",
            "\u001b[1m\u001b[92m18\u001b[0m\t \u001b[1m\u001b[92m[-0.27924473  5.47618794]\u001b[0m\t \u001b[1m\u001b[92m13.49866604230524\u001b[0m\t \u001b[1m\u001b[92m13.49866604230524\u001b[0m\t \u001b[1m\u001b[92m5.356027182449579\u001b[0m\t \u001b[1m\u001b[92m7.5086543442567075\u001b[0m\n",
            "\u001b[1m\u001b[92m19\u001b[0m\t \u001b[1m\u001b[92m[1.81378538 2.82650771]\u001b[0m\t \u001b[1m\u001b[92m2.332247214074766\u001b[0m\t \u001b[1m\u001b[92m2.332247214074766\u001b[0m\t \u001b[1m\u001b[92m4.361633506928177\u001b[0m\t \u001b[1m\u001b[92m5.851972656286127\u001b[0m\n",
            "20 \t [ 0.53900392 -8.29704818]\t 680.8422338703152\t 2.332247214074766\t 4.8354841190055415\t 5.867016469818503\n"
          ]
        }
      ],
      "source": [
        "### EXACT GP EI GRADIENTS\n",
        "\n",
        "np.random.seed(run_num_19)\n",
        "surrogate_exact_19 = dGaussianProcess(cov_func, optimize=opt)\n",
        "\n",
        "exact_19 = dGPGO(surrogate_exact_19, Acquisition_grad(util), objfunc, param)\n",
        "exact_19.run(init_evals=n_init, max_iter=iters)\n"
      ]
    },
    {
      "cell_type": "code",
      "execution_count": 53,
      "metadata": {
        "id": "aw3xvSryIwDi",
        "colab": {
          "base_uri": "https://localhost:8080/"
        },
        "outputId": "28589943-b769-4aa8-c600-05ed15023449"
      },
      "outputs": [
        {
          "output_type": "stream",
          "name": "stdout",
          "text": [
            "Evaluation \t Proposed point \t  Current eval. \t  Best eval. \t        Exact EI: StdDev. x \t Approx EI: StdDev. x \n",
            "init\t [1.76261602 7.95427456]\t 155.85777119682857\t 155.85777119682857\t    \t    \n",
            "init\t [7.83061459 6.31674955]\t 469.53411882784934\t 155.85777119682857\t    \t    \n",
            "init\t [-9.28220829  3.83515164]\t 463.4088031056881\t 155.85777119682857\t    \t    \n",
            "init\t [-2.42638116  0.37021891]\t 165.36424127801376\t 155.85777119682857\t    \t    \n",
            "init\t [ 3.15902931 -6.12299564]\t 281.877765303078\t 155.85777119682857\t    \t    \n",
            "1  \t [-10. -10.]\t 2594.0\t 155.85777119682857\t 6.916504168431247\t 5.745398717452983\n",
            "\u001b[1m\u001b[92m2\u001b[0m\t \u001b[1m\u001b[92m[ 8.26563602 -1.19494232]\u001b[0m\t \u001b[1m\u001b[92m108.10364707182816\u001b[0m\t \u001b[1m\u001b[92m108.10364707182816\u001b[0m\t \u001b[1m\u001b[92m6.400830724536593\u001b[0m\t \u001b[1m\u001b[92m6.755924691682176\u001b[0m\n",
            "\u001b[1m\u001b[92m3\u001b[0m\t \u001b[1m\u001b[92m[-4.56172279  9.14761084]\u001b[0m\t \u001b[1m\u001b[92m70.09893873088411\u001b[0m\t \u001b[1m\u001b[92m70.09893873088411\u001b[0m\t \u001b[1m\u001b[92m5.7905815011176545\u001b[0m\t \u001b[1m\u001b[92m6.679796094900316\u001b[0m\n",
            "4  \t [ 9.03563127 -5.57761678]\t 139.32187278779242\t 70.09893873088411\t 5.497095684487346\t 6.894873799284543\n",
            "5  \t [-3.65831626 -8.20326819]\t 1153.5725723050691\t 70.09893873088411\t 6.716703709171653\t 7.278403638131543\n",
            "\u001b[1m\u001b[92m6\u001b[0m\t \u001b[1m\u001b[92m[2.74458089 2.52810431]\u001b[0m\t \u001b[1m\u001b[92m9.745158471724908\u001b[0m\t \u001b[1m\u001b[92m9.745158471724908\u001b[0m\t \u001b[1m\u001b[92m6.707351518517344\u001b[0m\t \u001b[1m\u001b[92m7.312032974303041\u001b[0m\n",
            "7  \t [-7.81286775 -2.54055851]\t 932.4478071574504\t 9.745158471724908\t 7.534845558952682\t 8.142682024353775\n",
            "8  \t [  6.58856852 -10.        ]\t 419.94936455664936\t 9.745158471724908\t 6.322746478408267\t 7.097948503417758\n",
            "9  \t [  0.72436832 -10.        ]\t 874.0455592746016\t 9.745158471724908\t 7.239877465113286\t 8.03132749687791\n",
            "10 \t [ 1.77298045 -1.4485168 ]\t 74.42507019370676\t 9.745158471724908\t 6.055410036447182\t 6.911921037421658\n",
            "\u001b[1m\u001b[92m11\u001b[0m\t \u001b[1m\u001b[92m[-1.24388806  4.65297695]\u001b[0m\t \u001b[1m\u001b[92m9.164070221695642\u001b[0m\t \u001b[1m\u001b[92m9.164070221695642\u001b[0m\t \u001b[1m\u001b[92m6.825982600984535\u001b[0m\t \u001b[1m\u001b[92m7.62067472946987\u001b[0m\n",
            "12 \t [-9.16629763  8.84972986]\t 212.1039763147721\t 9.164070221695642\t 7.0413240153667305\t 7.5081235044761305\n",
            "13 \t [10. 10.]\t 1154.0\t 9.164070221695642\t 7.064536912132599\t 8.593731466763774\n",
            "14 \t [-1.15559223 -4.04540428]\t 392.91764700861563\t 9.164070221695642\t 5.425023621082959\t 5.964221149776631\n",
            "15 \t [-4.71676517  4.14653763]\t 117.54387179088418\t 9.164070221695642\t 4.691570036419258\t 5.957010857608009\n",
            "16 \t [4.19207564 4.77071994]\t 111.84215600206073\t 9.164070221695642\t 5.589336555622397\t 6.360659278409216\n",
            "17 \t [10.          2.48104186]\t 368.9816016033595\t 9.164070221695642\t 4.707208260276225\t 6.81364852915827\n",
            "18 \t [ 5.28841814 10.        ]\t 577.1040663344095\t 9.164070221695642\t 6.293535457344317\t 6.553526010949745\n",
            "19 \t [5.03723452e+00 3.97669309e-03]\t 29.611901437729834\t 9.164070221695642\t 5.844339416960322\t 6.265317738494145\n",
            "20 \t [-10.          -5.84125111]\t 1773.8687039354513\t 9.164070221695642\t 5.031252464820649\t 6.462853286003076\n"
          ]
        }
      ],
      "source": [
        "### EXACT GP EI GRADIENTS\n",
        "\n",
        "np.random.seed(run_num_20)\n",
        "surrogate_exact_20 = dGaussianProcess(cov_func, optimize=opt)\n",
        "\n",
        "exact_20 = dGPGO(surrogate_exact_20, Acquisition_grad(util), objfunc, param)\n",
        "exact_20.run(init_evals=n_init, max_iter=iters)\n"
      ]
    },
    {
      "cell_type": "code",
      "execution_count": 54,
      "metadata": {
        "id": "5c8szjivRPme",
        "colab": {
          "base_uri": "https://localhost:8080/"
        },
        "outputId": "809adcbd-0e48-41ff-b5c3-f7308034145a"
      },
      "outputs": [
        {
          "output_type": "execute_result",
          "data": {
            "text/plain": [
              "490.2149543762207"
            ]
          },
          "metadata": {},
          "execution_count": 54
        }
      ],
      "source": [
        "end_exact = time.time()\n",
        "end_exact\n",
        "\n",
        "time_exact = end_exact - start_exact\n",
        "time_exact\n"
      ]
    },
    {
      "cell_type": "code",
      "execution_count": 55,
      "metadata": {
        "id": "f6gCKnp6RR8c",
        "colab": {
          "base_uri": "https://localhost:8080/"
        },
        "outputId": "13d87915-f72a-4aa7-c206-c317cf35554e"
      },
      "outputs": [
        {
          "output_type": "execute_result",
          "data": {
            "text/plain": [
              "(2.381320765631778, 2.4777989041391884)"
            ]
          },
          "metadata": {},
          "execution_count": 55
        }
      ],
      "source": [
        "### Simple regret minimization: run number = 1\n",
        "\n",
        "approx_output_1 = np.append(np.min(-approx_1.GP.y[0:n_init]),-approx_1.GP.y[n_init:(n_init+iters)]) \n",
        "exact_output_1 = np.append(np.min(-exact_1.GP.y[0:n_init]),-exact_1.GP.y[n_init:(n_init+iters)]) \n",
        "\n",
        "regret_approx_1 = np.log(approx_output_1 - y_global_orig)\n",
        "regret_exact_1 = np.log(exact_output_1 - y_global_orig)\n",
        "\n",
        "simple_regret_approx_1 = min_max_array(regret_approx_1)\n",
        "simple_regret_exact_1 = min_max_array(regret_exact_1)\n",
        "\n",
        "min_simple_regret_approx_1 = min(simple_regret_approx_1)\n",
        "min_simple_regret_exact_1 = min(simple_regret_exact_1)\n",
        "\n",
        "min_simple_regret_approx_1, min_simple_regret_exact_1\n"
      ]
    },
    {
      "cell_type": "code",
      "execution_count": 56,
      "metadata": {
        "id": "94yBw5tqQxfk",
        "colab": {
          "base_uri": "https://localhost:8080/"
        },
        "outputId": "d6881f15-c591-42a1-9551-c28095698076"
      },
      "outputs": [
        {
          "output_type": "execute_result",
          "data": {
            "text/plain": [
              "(1.468135753218262, 3.168951982332521)"
            ]
          },
          "metadata": {},
          "execution_count": 56
        }
      ],
      "source": [
        "### Simple regret minimization: run number = 2\n",
        "\n",
        "approx_output_2 = np.append(np.min(-approx_2.GP.y[0:n_init]),-approx_2.GP.y[n_init:(n_init+iters)]) \n",
        "exact_output_2 = np.append(np.min(-exact_2.GP.y[0:n_init]),-exact_2.GP.y[n_init:(n_init+iters)]) \n",
        "\n",
        "regret_approx_2 = np.log(approx_output_2 - y_global_orig)\n",
        "regret_exact_2 = np.log(exact_output_2 - y_global_orig)\n",
        "\n",
        "simple_regret_approx_2 = min_max_array(regret_approx_2)\n",
        "simple_regret_exact_2 = min_max_array(regret_exact_2)\n",
        "\n",
        "min_simple_regret_approx_2 = min(simple_regret_approx_2)\n",
        "min_simple_regret_exact_2 = min(simple_regret_exact_2)\n",
        "\n",
        "min_simple_regret_approx_2, min_simple_regret_exact_2\n"
      ]
    },
    {
      "cell_type": "code",
      "execution_count": 57,
      "metadata": {
        "id": "Bu6SBWALQxfl",
        "colab": {
          "base_uri": "https://localhost:8080/"
        },
        "outputId": "d4500504-7bd7-47e4-ca2a-de61316c38cd"
      },
      "outputs": [
        {
          "output_type": "execute_result",
          "data": {
            "text/plain": [
              "(1.9332706053762703, 1.9332706053762703)"
            ]
          },
          "metadata": {},
          "execution_count": 57
        }
      ],
      "source": [
        "### Simple regret minimization: run number = 3\n",
        "\n",
        "approx_output_3 = np.append(np.min(-approx_3.GP.y[0:n_init]),-approx_3.GP.y[n_init:(n_init+iters)]) \n",
        "exact_output_3 = np.append(np.min(-exact_3.GP.y[0:n_init]),-exact_3.GP.y[n_init:(n_init+iters)]) \n",
        "\n",
        "regret_approx_3 = np.log(approx_output_3 - y_global_orig)\n",
        "regret_exact_3 = np.log(exact_output_3 - y_global_orig)\n",
        "\n",
        "simple_regret_approx_3 = min_max_array(regret_approx_3)\n",
        "simple_regret_exact_3 = min_max_array(regret_exact_3)\n",
        "\n",
        "min_simple_regret_approx_3 = min(simple_regret_approx_3)\n",
        "min_simple_regret_exact_3 = min(simple_regret_exact_3)\n",
        "\n",
        "min_simple_regret_approx_3, min_simple_regret_exact_3"
      ]
    },
    {
      "cell_type": "code",
      "execution_count": 58,
      "metadata": {
        "id": "AZm0jgxkQxfm",
        "colab": {
          "base_uri": "https://localhost:8080/"
        },
        "outputId": "feb436b7-6181-4044-a74d-b36f53a65f77"
      },
      "outputs": [
        {
          "output_type": "execute_result",
          "data": {
            "text/plain": [
              "(1.6554422298946503, 1.414511067531266)"
            ]
          },
          "metadata": {},
          "execution_count": 58
        }
      ],
      "source": [
        "### Simple regret minimization: run number = 4\n",
        "\n",
        "approx_output_4 = np.append(np.min(-approx_4.GP.y[0:n_init]),-approx_4.GP.y[n_init:(n_init+iters)]) \n",
        "exact_output_4 = np.append(np.min(-exact_4.GP.y[0:n_init]),-exact_4.GP.y[n_init:(n_init+iters)]) \n",
        "\n",
        "regret_approx_4 = np.log(approx_output_4 - y_global_orig)\n",
        "regret_exact_4 = np.log(exact_output_4 - y_global_orig)\n",
        "\n",
        "simple_regret_approx_4 = min_max_array(regret_approx_4)\n",
        "simple_regret_exact_4 = min_max_array(regret_exact_4)\n",
        "\n",
        "min_simple_regret_approx_4 = min(simple_regret_approx_4)\n",
        "min_simple_regret_exact_4 = min(simple_regret_exact_4)\n",
        "\n",
        "min_simple_regret_approx_4, min_simple_regret_exact_4"
      ]
    },
    {
      "cell_type": "code",
      "execution_count": 59,
      "metadata": {
        "id": "NONPm8JIQxfn",
        "colab": {
          "base_uri": "https://localhost:8080/"
        },
        "outputId": "dd0e2cc5-9838-4292-8561-ec629f300f96"
      },
      "outputs": [
        {
          "output_type": "execute_result",
          "data": {
            "text/plain": [
              "(2.722236509485838, 1.5483733395979353)"
            ]
          },
          "metadata": {},
          "execution_count": 59
        }
      ],
      "source": [
        "### Simple regret minimization: run number = 5\n",
        "\n",
        "approx_output_5 = np.append(np.min(-approx_5.GP.y[0:n_init]),-approx_5.GP.y[n_init:(n_init+iters)]) \n",
        "exact_output_5 = np.append(np.min(-exact_5.GP.y[0:n_init]),-exact_5.GP.y[n_init:(n_init+iters)]) \n",
        "\n",
        "regret_approx_5 = np.log(approx_output_5 - y_global_orig)\n",
        "regret_exact_5 = np.log(exact_output_5 - y_global_orig)\n",
        "\n",
        "simple_regret_approx_5 = min_max_array(regret_approx_5)\n",
        "simple_regret_exact_5 = min_max_array(regret_exact_5)\n",
        "\n",
        "min_simple_regret_approx_5 = min(simple_regret_approx_5)\n",
        "min_simple_regret_exact_5 = min(simple_regret_exact_5)\n",
        "\n",
        "min_simple_regret_approx_5, min_simple_regret_exact_5"
      ]
    },
    {
      "cell_type": "code",
      "execution_count": 60,
      "metadata": {
        "id": "CJv3lPuSQxfp",
        "colab": {
          "base_uri": "https://localhost:8080/"
        },
        "outputId": "38ed346e-d9c9-4f77-e2e1-bfd0327e4880"
      },
      "outputs": [
        {
          "output_type": "execute_result",
          "data": {
            "text/plain": [
              "(0.8920119330072438, 2.293147547405968)"
            ]
          },
          "metadata": {},
          "execution_count": 60
        }
      ],
      "source": [
        "### Simple regret minimization: run number = 6\n",
        "\n",
        "approx_output_6 = np.append(np.min(-approx_6.GP.y[0:n_init]),-approx_6.GP.y[n_init:(n_init+iters)]) \n",
        "exact_output_6 = np.append(np.min(-exact_6.GP.y[0:n_init]),-exact_6.GP.y[n_init:(n_init+iters)]) \n",
        "\n",
        "regret_approx_6 = np.log(approx_output_6 - y_global_orig)\n",
        "regret_exact_6 = np.log(exact_output_6 - y_global_orig)\n",
        "\n",
        "simple_regret_approx_6 = min_max_array(regret_approx_6)\n",
        "simple_regret_exact_6 = min_max_array(regret_exact_6)\n",
        "\n",
        "min_simple_regret_approx_6 = min(simple_regret_approx_6)\n",
        "min_simple_regret_exact_6 = min(simple_regret_exact_6)\n",
        "\n",
        "min_simple_regret_approx_6, min_simple_regret_exact_6"
      ]
    },
    {
      "cell_type": "code",
      "execution_count": 61,
      "metadata": {
        "id": "quR2ZyApQxfq",
        "colab": {
          "base_uri": "https://localhost:8080/"
        },
        "outputId": "928d1ea0-1a46-4a51-e4b3-1543f1fa25a7"
      },
      "outputs": [
        {
          "output_type": "execute_result",
          "data": {
            "text/plain": [
              "(0.8743309725599552, 2.2476588772086465)"
            ]
          },
          "metadata": {},
          "execution_count": 61
        }
      ],
      "source": [
        "### Simple regret minimization: run number = 7\n",
        "\n",
        "approx_output_7 = np.append(np.min(-approx_7.GP.y[0:n_init]),-approx_7.GP.y[n_init:(n_init+iters)]) \n",
        "exact_output_7 = np.append(np.min(-exact_7.GP.y[0:n_init]),-exact_7.GP.y[n_init:(n_init+iters)]) \n",
        "\n",
        "regret_approx_7 = np.log(approx_output_7 - y_global_orig)\n",
        "regret_exact_7 = np.log(exact_output_7 - y_global_orig)\n",
        "\n",
        "simple_regret_approx_7 = min_max_array(regret_approx_7)\n",
        "simple_regret_exact_7 = min_max_array(regret_exact_7)\n",
        "\n",
        "min_simple_regret_approx_7 = min(simple_regret_approx_7)\n",
        "min_simple_regret_exact_7 = min(simple_regret_exact_7)\n",
        "\n",
        "min_simple_regret_approx_7, min_simple_regret_exact_7"
      ]
    },
    {
      "cell_type": "code",
      "execution_count": 62,
      "metadata": {
        "id": "99wY5nK6Qxfr",
        "colab": {
          "base_uri": "https://localhost:8080/"
        },
        "outputId": "6d4c0ea0-dfb2-46e7-c4b3-8580572c7788"
      },
      "outputs": [
        {
          "output_type": "execute_result",
          "data": {
            "text/plain": [
              "(3.2295943781600083, -0.4542961308324424)"
            ]
          },
          "metadata": {},
          "execution_count": 62
        }
      ],
      "source": [
        "### Simple regret minimization: run number = 8\n",
        "\n",
        "approx_output_8 = np.append(np.min(-approx_8.GP.y[0:n_init]),-approx_8.GP.y[n_init:(n_init+iters)]) \n",
        "exact_output_8 = np.append(np.min(-exact_8.GP.y[0:n_init]),-exact_8.GP.y[n_init:(n_init+iters)]) \n",
        "\n",
        "regret_approx_8 = np.log(approx_output_8 - y_global_orig)\n",
        "regret_exact_8 = np.log(exact_output_8 - y_global_orig)\n",
        "\n",
        "simple_regret_approx_8 = min_max_array(regret_approx_8)\n",
        "simple_regret_exact_8 = min_max_array(regret_exact_8)\n",
        "\n",
        "min_simple_regret_approx_8 = min(simple_regret_approx_8)\n",
        "min_simple_regret_exact_8 = min(simple_regret_exact_8)\n",
        "\n",
        "min_simple_regret_approx_8, min_simple_regret_exact_8"
      ]
    },
    {
      "cell_type": "code",
      "execution_count": 63,
      "metadata": {
        "id": "qt0P5t9qQxfs",
        "colab": {
          "base_uri": "https://localhost:8080/"
        },
        "outputId": "fec696f3-d7f2-4285-928c-a98cc5e0065d"
      },
      "outputs": [
        {
          "output_type": "execute_result",
          "data": {
            "text/plain": [
              "(3.8319983787476417, 2.8440832836643524)"
            ]
          },
          "metadata": {},
          "execution_count": 63
        }
      ],
      "source": [
        "### Simple regret minimization: run number = 9\n",
        "\n",
        "approx_output_9 = np.append(np.min(-approx_9.GP.y[0:n_init]),-approx_9.GP.y[n_init:(n_init+iters)]) \n",
        "exact_output_9 = np.append(np.min(-exact_9.GP.y[0:n_init]),-exact_9.GP.y[n_init:(n_init+iters)]) \n",
        "\n",
        "regret_approx_9 = np.log(approx_output_9 - y_global_orig)\n",
        "regret_exact_9 = np.log(exact_output_9 - y_global_orig)\n",
        "\n",
        "simple_regret_approx_9 = min_max_array(regret_approx_9)\n",
        "simple_regret_exact_9 = min_max_array(regret_exact_9)\n",
        "\n",
        "min_simple_regret_approx_9 = min(simple_regret_approx_9)\n",
        "min_simple_regret_exact_9 = min(simple_regret_exact_9)\n",
        "\n",
        "min_simple_regret_approx_9, min_simple_regret_exact_9"
      ]
    },
    {
      "cell_type": "code",
      "execution_count": 64,
      "metadata": {
        "id": "vx8to9stQxft",
        "colab": {
          "base_uri": "https://localhost:8080/"
        },
        "outputId": "28db6587-5f56-4ec5-9b36-b0bcee0beadf"
      },
      "outputs": [
        {
          "output_type": "execute_result",
          "data": {
            "text/plain": [
              "(2.7539871822190523, 2.9537762825348794)"
            ]
          },
          "metadata": {},
          "execution_count": 64
        }
      ],
      "source": [
        "### Simple regret minimization: run number = 10\n",
        "\n",
        "approx_output_10 = np.append(np.min(-approx_10.GP.y[0:n_init]),-approx_10.GP.y[n_init:(n_init+iters)]) \n",
        "exact_output_10 = np.append(np.min(-exact_10.GP.y[0:n_init]),-exact_10.GP.y[n_init:(n_init+iters)]) \n",
        "\n",
        "regret_approx_10 = np.log(approx_output_10 - y_global_orig)\n",
        "regret_exact_10 = np.log(exact_output_10 - y_global_orig)\n",
        "\n",
        "simple_regret_approx_10 = min_max_array(regret_approx_10)\n",
        "simple_regret_exact_10 = min_max_array(regret_exact_10)\n",
        "\n",
        "min_simple_regret_approx_10 = min(simple_regret_approx_10)\n",
        "min_simple_regret_exact_10 = min(simple_regret_exact_10)\n",
        "\n",
        "min_simple_regret_approx_10, min_simple_regret_exact_10"
      ]
    },
    {
      "cell_type": "code",
      "execution_count": 65,
      "metadata": {
        "id": "d-FGzWyHQxfu",
        "colab": {
          "base_uri": "https://localhost:8080/"
        },
        "outputId": "6465ef10-11aa-40d6-a475-3acfb6a1464b"
      },
      "outputs": [
        {
          "output_type": "execute_result",
          "data": {
            "text/plain": [
              "(1.7016578760315788, 1.7016578760315788)"
            ]
          },
          "metadata": {},
          "execution_count": 65
        }
      ],
      "source": [
        "### Simple regret minimization: run number = 11\n",
        "\n",
        "approx_output_11 = np.append(np.min(-approx_11.GP.y[0:n_init]),-approx_11.GP.y[n_init:(n_init+iters)]) \n",
        "exact_output_11 = np.append(np.min(-exact_11.GP.y[0:n_init]),-exact_11.GP.y[n_init:(n_init+iters)]) \n",
        "\n",
        "regret_approx_11 = np.log(approx_output_11 - y_global_orig)\n",
        "regret_exact_11 = np.log(exact_output_11 - y_global_orig)\n",
        "\n",
        "simple_regret_approx_11 = min_max_array(regret_approx_11)\n",
        "simple_regret_exact_11 = min_max_array(regret_exact_11)\n",
        "\n",
        "min_simple_regret_approx_11 = min(simple_regret_approx_11)\n",
        "min_simple_regret_exact_11 = min(simple_regret_exact_11)\n",
        "\n",
        "min_simple_regret_approx_11, min_simple_regret_exact_11"
      ]
    },
    {
      "cell_type": "code",
      "execution_count": 66,
      "metadata": {
        "id": "SvtsssyjQxfv",
        "colab": {
          "base_uri": "https://localhost:8080/"
        },
        "outputId": "fcc5c906-6d31-42a9-d887-a095d696d683"
      },
      "outputs": [
        {
          "output_type": "execute_result",
          "data": {
            "text/plain": [
              "(1.3225041337240948, 2.0431815992577933)"
            ]
          },
          "metadata": {},
          "execution_count": 66
        }
      ],
      "source": [
        "### Simple regret minimization: run number = 12\n",
        "\n",
        "approx_output_12 = np.append(np.min(-approx_12.GP.y[0:n_init]),-approx_12.GP.y[n_init:(n_init+iters)]) \n",
        "exact_output_12 = np.append(np.min(-exact_12.GP.y[0:n_init]),-exact_12.GP.y[n_init:(n_init+iters)]) \n",
        "\n",
        "regret_approx_12 = np.log(approx_output_12 - y_global_orig)\n",
        "regret_exact_12 = np.log(exact_output_12 - y_global_orig)\n",
        "\n",
        "simple_regret_approx_12 = min_max_array(regret_approx_12)\n",
        "simple_regret_exact_12 = min_max_array(regret_exact_12)\n",
        "\n",
        "min_simple_regret_approx_12 = min(simple_regret_approx_12)\n",
        "min_simple_regret_exact_12 = min(simple_regret_exact_12)\n",
        "\n",
        "min_simple_regret_approx_12, min_simple_regret_exact_12"
      ]
    },
    {
      "cell_type": "code",
      "execution_count": 67,
      "metadata": {
        "id": "K6OiGcHkQxfw",
        "colab": {
          "base_uri": "https://localhost:8080/"
        },
        "outputId": "6670e2ff-a30d-4644-d475-b730632c4ed7"
      },
      "outputs": [
        {
          "output_type": "execute_result",
          "data": {
            "text/plain": [
              "(3.018315844412484, 1.564463271776229)"
            ]
          },
          "metadata": {},
          "execution_count": 67
        }
      ],
      "source": [
        "### Simple regret minimization: run number = 13\n",
        "\n",
        "approx_output_13 = np.append(np.min(-approx_13.GP.y[0:n_init]),-approx_13.GP.y[n_init:(n_init+iters)]) \n",
        "exact_output_13 = np.append(np.min(-exact_13.GP.y[0:n_init]),-exact_13.GP.y[n_init:(n_init+iters)]) \n",
        "\n",
        "regret_approx_13 = np.log(approx_output_13 - y_global_orig)\n",
        "regret_exact_13 = np.log(exact_output_13 - y_global_orig)\n",
        "\n",
        "simple_regret_approx_13 = min_max_array(regret_approx_13)\n",
        "simple_regret_exact_13 = min_max_array(regret_exact_13)\n",
        "\n",
        "min_simple_regret_approx_13 = min(simple_regret_approx_13)\n",
        "min_simple_regret_exact_13 = min(simple_regret_exact_13)\n",
        "\n",
        "min_simple_regret_approx_13, min_simple_regret_exact_13"
      ]
    },
    {
      "cell_type": "code",
      "execution_count": 68,
      "metadata": {
        "id": "ogML73shQxfx",
        "colab": {
          "base_uri": "https://localhost:8080/"
        },
        "outputId": "12d39430-1181-4603-fe7d-352cd20beeb5"
      },
      "outputs": [
        {
          "output_type": "execute_result",
          "data": {
            "text/plain": [
              "(2.41285559644561, 2.2810304782881685)"
            ]
          },
          "metadata": {},
          "execution_count": 68
        }
      ],
      "source": [
        "### Simple regret minimization: run number = 14\n",
        "\n",
        "approx_output_14 = np.append(np.min(-approx_14.GP.y[0:n_init]),-approx_14.GP.y[n_init:(n_init+iters)]) \n",
        "exact_output_14 = np.append(np.min(-exact_14.GP.y[0:n_init]),-exact_14.GP.y[n_init:(n_init+iters)]) \n",
        "\n",
        "regret_approx_14 = np.log(approx_output_14 - y_global_orig)\n",
        "regret_exact_14 = np.log(exact_output_14 - y_global_orig)\n",
        "\n",
        "simple_regret_approx_14 = min_max_array(regret_approx_14)\n",
        "simple_regret_exact_14 = min_max_array(regret_exact_14)\n",
        "\n",
        "min_simple_regret_approx_14 = min(simple_regret_approx_14)\n",
        "min_simple_regret_exact_14 = min(simple_regret_exact_14)\n",
        "\n",
        "min_simple_regret_approx_14, min_simple_regret_exact_14"
      ]
    },
    {
      "cell_type": "code",
      "execution_count": 69,
      "metadata": {
        "id": "9Eg7gFT9Qxfx",
        "colab": {
          "base_uri": "https://localhost:8080/"
        },
        "outputId": "7eafc05a-b4bb-40c3-8ca4-7c04b8f0ec2b"
      },
      "outputs": [
        {
          "output_type": "execute_result",
          "data": {
            "text/plain": [
              "(2.480787781889507, 2.9104631823539138)"
            ]
          },
          "metadata": {},
          "execution_count": 69
        }
      ],
      "source": [
        "### Simple regret minimization: run number = 15\n",
        "\n",
        "approx_output_15 = np.append(np.min(-approx_15.GP.y[0:n_init]),-approx_15.GP.y[n_init:(n_init+iters)]) \n",
        "exact_output_15 = np.append(np.min(-exact_15.GP.y[0:n_init]),-exact_15.GP.y[n_init:(n_init+iters)]) \n",
        "\n",
        "regret_approx_15 = np.log(approx_output_15 - y_global_orig)\n",
        "regret_exact_15 = np.log(exact_output_15 - y_global_orig)\n",
        "\n",
        "simple_regret_approx_15 = min_max_array(regret_approx_15)\n",
        "simple_regret_exact_15 = min_max_array(regret_exact_15)\n",
        "\n",
        "min_simple_regret_approx_15 = min(simple_regret_approx_15)\n",
        "min_simple_regret_exact_15 = min(simple_regret_exact_15)\n",
        "\n",
        "min_simple_regret_approx_15, min_simple_regret_exact_15"
      ]
    },
    {
      "cell_type": "code",
      "execution_count": 70,
      "metadata": {
        "id": "lIAC1U7ZQxfy",
        "colab": {
          "base_uri": "https://localhost:8080/"
        },
        "outputId": "dba48b48-e082-47fe-a187-bd2329eaaf6f"
      },
      "outputs": [
        {
          "output_type": "execute_result",
          "data": {
            "text/plain": [
              "(2.9358849537812044, 2.3226568792097493)"
            ]
          },
          "metadata": {},
          "execution_count": 70
        }
      ],
      "source": [
        "### Simple regret minimization: run number = 16\n",
        "\n",
        "approx_output_16 = np.append(np.min(-approx_16.GP.y[0:n_init]),-approx_16.GP.y[n_init:(n_init+iters)]) \n",
        "exact_output_16 = np.append(np.min(-exact_16.GP.y[0:n_init]),-exact_16.GP.y[n_init:(n_init+iters)]) \n",
        "\n",
        "regret_approx_16 = np.log(approx_output_16 - y_global_orig)\n",
        "regret_exact_16 = np.log(exact_output_16 - y_global_orig)\n",
        "\n",
        "simple_regret_approx_16 = min_max_array(regret_approx_16)\n",
        "simple_regret_exact_16 = min_max_array(regret_exact_16)\n",
        "\n",
        "min_simple_regret_approx_16 = min(simple_regret_approx_16)\n",
        "min_simple_regret_exact_16 = min(simple_regret_exact_16)\n",
        "\n",
        "min_simple_regret_approx_16, min_simple_regret_exact_16"
      ]
    },
    {
      "cell_type": "code",
      "execution_count": 71,
      "metadata": {
        "id": "bGott36OQxfz",
        "colab": {
          "base_uri": "https://localhost:8080/"
        },
        "outputId": "1d9b8ef7-ddc4-4017-9bac-445715e16cea"
      },
      "outputs": [
        {
          "output_type": "execute_result",
          "data": {
            "text/plain": [
              "(1.714429951175907, 1.714429951175907)"
            ]
          },
          "metadata": {},
          "execution_count": 71
        }
      ],
      "source": [
        "### Simple regret minimization: run number = 17\n",
        "\n",
        "approx_output_17 = np.append(np.min(-approx_17.GP.y[0:n_init]),-approx_17.GP.y[n_init:(n_init+iters)]) \n",
        "exact_output_17 = np.append(np.min(-exact_17.GP.y[0:n_init]),-exact_17.GP.y[n_init:(n_init+iters)]) \n",
        "\n",
        "regret_approx_17 = np.log(approx_output_17 - y_global_orig)\n",
        "regret_exact_17 = np.log(exact_output_17 - y_global_orig)\n",
        "\n",
        "simple_regret_approx_17 = min_max_array(regret_approx_17)\n",
        "simple_regret_exact_17 = min_max_array(regret_exact_17)\n",
        "\n",
        "min_simple_regret_approx_17 = min(simple_regret_approx_17)\n",
        "min_simple_regret_exact_17 = min(simple_regret_exact_17)\n",
        "\n",
        "min_simple_regret_approx_17, min_simple_regret_exact_17"
      ]
    },
    {
      "cell_type": "code",
      "execution_count": 72,
      "metadata": {
        "id": "Cz9ZYMBMQxfz",
        "colab": {
          "base_uri": "https://localhost:8080/"
        },
        "outputId": "b7ff4d42-7d3f-41bd-f949-69d4933eaa54"
      },
      "outputs": [
        {
          "output_type": "execute_result",
          "data": {
            "text/plain": [
              "(1.7527817538070916, 2.491526671193628)"
            ]
          },
          "metadata": {},
          "execution_count": 72
        }
      ],
      "source": [
        "### Simple regret minimization: run number = 18\n",
        "\n",
        "approx_output_18 = np.append(np.min(-approx_18.GP.y[0:n_init]),-approx_18.GP.y[n_init:(n_init+iters)]) \n",
        "exact_output_18 = np.append(np.min(-exact_18.GP.y[0:n_init]),-exact_18.GP.y[n_init:(n_init+iters)]) \n",
        "\n",
        "regret_approx_18 = np.log(approx_output_18 - y_global_orig)\n",
        "regret_exact_18 = np.log(exact_output_18 - y_global_orig)\n",
        "\n",
        "simple_regret_approx_18 = min_max_array(regret_approx_18)\n",
        "simple_regret_exact_18 = min_max_array(regret_exact_18)\n",
        "\n",
        "min_simple_regret_approx_18 = min(simple_regret_approx_18)\n",
        "min_simple_regret_exact_18 = min(simple_regret_exact_18)\n",
        "\n",
        "min_simple_regret_approx_18, min_simple_regret_exact_18"
      ]
    },
    {
      "cell_type": "code",
      "execution_count": 73,
      "metadata": {
        "id": "OBfpWOHNQxf0",
        "colab": {
          "base_uri": "https://localhost:8080/"
        },
        "outputId": "e2b1108d-39b1-4ed0-a291-fb7c9ca98ca3"
      },
      "outputs": [
        {
          "output_type": "execute_result",
          "data": {
            "text/plain": [
              "(1.6159606690638182, 0.8468322723356628)"
            ]
          },
          "metadata": {},
          "execution_count": 73
        }
      ],
      "source": [
        "### Simple regret minimization: run number = 19\n",
        "\n",
        "approx_output_19 = np.append(np.min(-approx_19.GP.y[0:n_init]),-approx_19.GP.y[n_init:(n_init+iters)]) \n",
        "exact_output_19 = np.append(np.min(-exact_19.GP.y[0:n_init]),-exact_19.GP.y[n_init:(n_init+iters)]) \n",
        "\n",
        "regret_approx_19 = np.log(approx_output_19 - y_global_orig)\n",
        "regret_exact_19 = np.log(exact_output_19 - y_global_orig)\n",
        "\n",
        "simple_regret_approx_19 = min_max_array(regret_approx_19)\n",
        "simple_regret_exact_19 = min_max_array(regret_exact_19)\n",
        "\n",
        "min_simple_regret_approx_19 = min(simple_regret_approx_19)\n",
        "min_simple_regret_exact_19 = min(simple_regret_exact_19)\n",
        "\n",
        "min_simple_regret_approx_19, min_simple_regret_exact_19"
      ]
    },
    {
      "cell_type": "code",
      "execution_count": 74,
      "metadata": {
        "id": "BE1AJ7NsQxf0",
        "colab": {
          "base_uri": "https://localhost:8080/"
        },
        "outputId": "d5c2d77c-0aab-433b-8207-371ca4e8844d"
      },
      "outputs": [
        {
          "output_type": "execute_result",
          "data": {
            "text/plain": [
              "(-0.02835091713208936, 2.2152904273396774)"
            ]
          },
          "metadata": {},
          "execution_count": 74
        }
      ],
      "source": [
        "### Simple regret minimization: run number = 20\n",
        "\n",
        "approx_output_20 = np.append(np.min(-approx_20.GP.y[0:n_init]),-approx_20.GP.y[n_init:(n_init+iters)]) \n",
        "exact_output_20 = np.append(np.min(-exact_20.GP.y[0:n_init]),-exact_20.GP.y[n_init:(n_init+iters)]) \n",
        "\n",
        "regret_approx_20 = np.log(approx_output_20 - y_global_orig)\n",
        "regret_exact_20 = np.log(exact_output_20 - y_global_orig)\n",
        "\n",
        "simple_regret_approx_20 = min_max_array(regret_approx_20)\n",
        "simple_regret_exact_20 = min_max_array(regret_exact_20)\n",
        "\n",
        "min_simple_regret_approx_20 = min(simple_regret_approx_20)\n",
        "min_simple_regret_exact_20 = min(simple_regret_exact_20)\n",
        "\n",
        "min_simple_regret_approx_20, min_simple_regret_exact_20"
      ]
    },
    {
      "cell_type": "code",
      "execution_count": 75,
      "metadata": {
        "id": "bpX-bKAHQxf1"
      },
      "outputs": [],
      "source": [
        "# Iteration1 :\n",
        "\n",
        "slice1 = 0\n",
        "\n",
        "approx1 = [simple_regret_approx_1[slice1],\n",
        "       simple_regret_approx_2[slice1],\n",
        "       simple_regret_approx_3[slice1],\n",
        "       simple_regret_approx_4[slice1],\n",
        "       simple_regret_approx_5[slice1],\n",
        "       simple_regret_approx_6[slice1],\n",
        "       simple_regret_approx_7[slice1],\n",
        "       simple_regret_approx_8[slice1],\n",
        "       simple_regret_approx_9[slice1],\n",
        "       simple_regret_approx_10[slice1],\n",
        "       simple_regret_approx_11[slice1],\n",
        "       simple_regret_approx_12[slice1],\n",
        "       simple_regret_approx_13[slice1],\n",
        "       simple_regret_approx_14[slice1],\n",
        "       simple_regret_approx_15[slice1],\n",
        "       simple_regret_approx_16[slice1],\n",
        "       simple_regret_approx_17[slice1],\n",
        "       simple_regret_approx_18[slice1],\n",
        "       simple_regret_approx_19[slice1],\n",
        "       simple_regret_approx_20[slice1]]\n",
        "\n",
        "exact1 = [simple_regret_exact_1[slice1],\n",
        "       simple_regret_exact_2[slice1],\n",
        "       simple_regret_exact_3[slice1],\n",
        "       simple_regret_exact_4[slice1],\n",
        "       simple_regret_exact_5[slice1],\n",
        "       simple_regret_exact_6[slice1],\n",
        "       simple_regret_exact_7[slice1],\n",
        "       simple_regret_exact_8[slice1],\n",
        "       simple_regret_exact_9[slice1],\n",
        "       simple_regret_exact_10[slice1],\n",
        "       simple_regret_exact_11[slice1],\n",
        "       simple_regret_exact_12[slice1],\n",
        "       simple_regret_exact_13[slice1],\n",
        "       simple_regret_exact_14[slice1],\n",
        "       simple_regret_exact_15[slice1],\n",
        "       simple_regret_exact_16[slice1],\n",
        "       simple_regret_exact_17[slice1],\n",
        "       simple_regret_exact_18[slice1],\n",
        "       simple_regret_exact_19[slice1],\n",
        "       simple_regret_exact_20[slice1]]\n",
        "\n",
        "approx1_results = pd.DataFrame(approx1).sort_values(by=[0], ascending=False)\n",
        "exact1_results = pd.DataFrame(exact1).sort_values(by=[0], ascending=False)\n",
        "\n",
        "### Best simple regret minimization IQR - approx:\n",
        "lower_approx1 = np.asarray(approx1_results[4:5][0])[0]\n",
        "median_approx1 = np.asarray(approx1_results[9:10][0])[0]\n",
        "upper_approx1 = np.asarray(approx1_results[14:15][0])[0]\n",
        "\n",
        "lower_exact1 = np.asarray(exact1_results[4:5][0])[0]\n",
        "median_exact1 = np.asarray(exact1_results[9:10][0])[0]\n",
        "upper_exact1 = np.asarray(exact1_results[14:15][0])[0]"
      ]
    },
    {
      "cell_type": "code",
      "execution_count": 76,
      "metadata": {
        "id": "CgIkJA1xQxf2"
      },
      "outputs": [],
      "source": [
        "# Iteration11 :\n",
        "\n",
        "slice11 = 10\n",
        "\n",
        "approx11 = [simple_regret_approx_1[slice11],\n",
        "       simple_regret_approx_2[slice11],\n",
        "       simple_regret_approx_3[slice11],\n",
        "       simple_regret_approx_4[slice11],\n",
        "       simple_regret_approx_5[slice11],\n",
        "       simple_regret_approx_6[slice11],\n",
        "       simple_regret_approx_7[slice11],\n",
        "       simple_regret_approx_8[slice11],\n",
        "       simple_regret_approx_9[slice11],\n",
        "       simple_regret_approx_10[slice11],\n",
        "       simple_regret_approx_11[slice11],\n",
        "       simple_regret_approx_12[slice11],\n",
        "       simple_regret_approx_13[slice11],\n",
        "       simple_regret_approx_14[slice11],\n",
        "       simple_regret_approx_15[slice11],\n",
        "       simple_regret_approx_16[slice11],\n",
        "       simple_regret_approx_17[slice11],\n",
        "       simple_regret_approx_18[slice11],\n",
        "       simple_regret_approx_19[slice11],\n",
        "       simple_regret_approx_20[slice11]]\n",
        "\n",
        "exact11 = [simple_regret_exact_1[slice11],\n",
        "       simple_regret_exact_2[slice11],\n",
        "       simple_regret_exact_3[slice11],\n",
        "       simple_regret_exact_4[slice11],\n",
        "       simple_regret_exact_5[slice11],\n",
        "       simple_regret_exact_6[slice11],\n",
        "       simple_regret_exact_7[slice11],\n",
        "       simple_regret_exact_8[slice11],\n",
        "       simple_regret_exact_9[slice11],\n",
        "       simple_regret_exact_10[slice11],\n",
        "       simple_regret_exact_11[slice11],\n",
        "       simple_regret_exact_12[slice11],\n",
        "       simple_regret_exact_13[slice11],\n",
        "       simple_regret_exact_14[slice11],\n",
        "       simple_regret_exact_15[slice11],\n",
        "       simple_regret_exact_16[slice11],\n",
        "       simple_regret_exact_17[slice11],\n",
        "       simple_regret_exact_18[slice11],\n",
        "       simple_regret_exact_19[slice11],\n",
        "       simple_regret_exact_20[slice11]]\n",
        "\n",
        "approx11_results = pd.DataFrame(approx11).sort_values(by=[0], ascending=False)\n",
        "exact11_results = pd.DataFrame(exact11).sort_values(by=[0], ascending=False)\n",
        "\n",
        "### Best simple regret minimization IQR - approx:\n",
        "lower_approx11 = np.asarray(approx11_results[4:5][0])[0]\n",
        "median_approx11 = np.asarray(approx11_results[9:10][0])[0]\n",
        "upper_approx11 = np.asarray(approx11_results[14:15][0])[0]\n",
        "\n",
        "lower_exact11 = np.asarray(exact11_results[4:5][0])[0]\n",
        "median_exact11 = np.asarray(exact11_results[9:10][0])[0]\n",
        "upper_exact11 = np.asarray(exact11_results[14:15][0])[0]"
      ]
    },
    {
      "cell_type": "code",
      "execution_count": 77,
      "metadata": {
        "id": "MFePDfGuQxf2"
      },
      "outputs": [],
      "source": [
        "# Iteration21 :\n",
        "\n",
        "slice21 = 20\n",
        "\n",
        "approx21 = [simple_regret_approx_1[slice21],\n",
        "       simple_regret_approx_2[slice21],\n",
        "       simple_regret_approx_3[slice21],\n",
        "       simple_regret_approx_4[slice21],\n",
        "       simple_regret_approx_5[slice21],\n",
        "       simple_regret_approx_6[slice21],\n",
        "       simple_regret_approx_7[slice21],\n",
        "       simple_regret_approx_8[slice21],\n",
        "       simple_regret_approx_9[slice21],\n",
        "       simple_regret_approx_10[slice21],\n",
        "       simple_regret_approx_11[slice21],\n",
        "       simple_regret_approx_12[slice21],\n",
        "       simple_regret_approx_13[slice21],\n",
        "       simple_regret_approx_14[slice21],\n",
        "       simple_regret_approx_15[slice21],\n",
        "       simple_regret_approx_16[slice21],\n",
        "       simple_regret_approx_17[slice21],\n",
        "       simple_regret_approx_18[slice21],\n",
        "       simple_regret_approx_19[slice21],\n",
        "       simple_regret_approx_20[slice21]]\n",
        "\n",
        "exact21 = [simple_regret_exact_1[slice21],\n",
        "       simple_regret_exact_2[slice21],\n",
        "       simple_regret_exact_3[slice21],\n",
        "       simple_regret_exact_4[slice21],\n",
        "       simple_regret_exact_5[slice21],\n",
        "       simple_regret_exact_6[slice21],\n",
        "       simple_regret_exact_7[slice21],\n",
        "       simple_regret_exact_8[slice21],\n",
        "       simple_regret_exact_9[slice21],\n",
        "       simple_regret_exact_10[slice21],\n",
        "       simple_regret_exact_11[slice21],\n",
        "       simple_regret_exact_12[slice21],\n",
        "       simple_regret_exact_13[slice21],\n",
        "       simple_regret_exact_14[slice21],\n",
        "       simple_regret_exact_15[slice21],\n",
        "       simple_regret_exact_16[slice21],\n",
        "       simple_regret_exact_17[slice21],\n",
        "       simple_regret_exact_18[slice21],\n",
        "       simple_regret_exact_19[slice21],\n",
        "       simple_regret_exact_20[slice21]]\n",
        "\n",
        "approx21_results = pd.DataFrame(approx21).sort_values(by=[0], ascending=False)\n",
        "exact21_results = pd.DataFrame(exact21).sort_values(by=[0], ascending=False)\n",
        "\n",
        "### Best simple regret minimization IQR - approx:\n",
        "lower_approx21 = np.asarray(approx21_results[4:5][0])[0]\n",
        "median_approx21 = np.asarray(approx21_results[9:10][0])[0]\n",
        "upper_approx21 = np.asarray(approx21_results[14:15][0])[0]\n",
        "\n",
        "lower_exact21 = np.asarray(exact21_results[4:5][0])[0]\n",
        "median_exact21 = np.asarray(exact21_results[9:10][0])[0]\n",
        "upper_exact21 = np.asarray(exact21_results[14:15][0])[0]"
      ]
    },
    {
      "cell_type": "code",
      "execution_count": 78,
      "metadata": {
        "id": "PrRDB1kfQxf3"
      },
      "outputs": [],
      "source": [
        "# Iteration2 :\n",
        "\n",
        "slice2 = 1\n",
        "\n",
        "approx2 = [simple_regret_approx_1[slice2],\n",
        "       simple_regret_approx_2[slice2],\n",
        "       simple_regret_approx_3[slice2],\n",
        "       simple_regret_approx_4[slice2],\n",
        "       simple_regret_approx_5[slice2],\n",
        "       simple_regret_approx_6[slice2],\n",
        "       simple_regret_approx_7[slice2],\n",
        "       simple_regret_approx_8[slice2],\n",
        "       simple_regret_approx_9[slice2],\n",
        "       simple_regret_approx_10[slice2],\n",
        "       simple_regret_approx_11[slice2],\n",
        "       simple_regret_approx_12[slice2],\n",
        "       simple_regret_approx_13[slice2],\n",
        "       simple_regret_approx_14[slice2],\n",
        "       simple_regret_approx_15[slice2],\n",
        "       simple_regret_approx_16[slice2],\n",
        "       simple_regret_approx_17[slice2],\n",
        "       simple_regret_approx_18[slice2],\n",
        "       simple_regret_approx_19[slice2],\n",
        "       simple_regret_approx_20[slice2]]\n",
        "\n",
        "exact2 = [simple_regret_exact_1[slice2],\n",
        "       simple_regret_exact_2[slice2],\n",
        "       simple_regret_exact_3[slice2],\n",
        "       simple_regret_exact_4[slice2],\n",
        "       simple_regret_exact_5[slice2],\n",
        "       simple_regret_exact_6[slice2],\n",
        "       simple_regret_exact_7[slice2],\n",
        "       simple_regret_exact_8[slice2],\n",
        "       simple_regret_exact_9[slice2],\n",
        "       simple_regret_exact_10[slice2],\n",
        "       simple_regret_exact_11[slice2],\n",
        "       simple_regret_exact_12[slice2],\n",
        "       simple_regret_exact_13[slice2],\n",
        "       simple_regret_exact_14[slice2],\n",
        "       simple_regret_exact_15[slice2],\n",
        "       simple_regret_exact_16[slice2],\n",
        "       simple_regret_exact_17[slice2],\n",
        "       simple_regret_exact_18[slice2],\n",
        "       simple_regret_exact_19[slice2],\n",
        "       simple_regret_exact_20[slice2]]\n",
        "\n",
        "approx2_results = pd.DataFrame(approx2).sort_values(by=[0], ascending=False)\n",
        "exact2_results = pd.DataFrame(exact2).sort_values(by=[0], ascending=False)\n",
        "\n",
        "### Best simple regret minimization IQR - approx:\n",
        "lower_approx2 = np.asarray(approx2_results[4:5][0])[0]\n",
        "median_approx2 = np.asarray(approx2_results[9:10][0])[0]\n",
        "upper_approx2 = np.asarray(approx2_results[14:15][0])[0]\n",
        "\n",
        "lower_exact2 = np.asarray(exact2_results[4:5][0])[0]\n",
        "median_exact2 = np.asarray(exact2_results[9:10][0])[0]\n",
        "upper_exact2 = np.asarray(exact2_results[14:15][0])[0]"
      ]
    },
    {
      "cell_type": "code",
      "execution_count": 79,
      "metadata": {
        "id": "B8ncJDYeQxf3"
      },
      "outputs": [],
      "source": [
        "# Iteration12 :\n",
        "\n",
        "slice12 = 11\n",
        "\n",
        "approx12 = [simple_regret_approx_1[slice12],\n",
        "       simple_regret_approx_2[slice12],\n",
        "       simple_regret_approx_3[slice12],\n",
        "       simple_regret_approx_4[slice12],\n",
        "       simple_regret_approx_5[slice12],\n",
        "       simple_regret_approx_6[slice12],\n",
        "       simple_regret_approx_7[slice12],\n",
        "       simple_regret_approx_8[slice12],\n",
        "       simple_regret_approx_9[slice12],\n",
        "       simple_regret_approx_10[slice12],\n",
        "       simple_regret_approx_11[slice12],\n",
        "       simple_regret_approx_12[slice12],\n",
        "       simple_regret_approx_13[slice12],\n",
        "       simple_regret_approx_14[slice12],\n",
        "       simple_regret_approx_15[slice12],\n",
        "       simple_regret_approx_16[slice12],\n",
        "       simple_regret_approx_17[slice12],\n",
        "       simple_regret_approx_18[slice12],\n",
        "       simple_regret_approx_19[slice12],\n",
        "       simple_regret_approx_20[slice12]]\n",
        "\n",
        "exact12 = [simple_regret_exact_1[slice12],\n",
        "       simple_regret_exact_2[slice12],\n",
        "       simple_regret_exact_3[slice12],\n",
        "       simple_regret_exact_4[slice12],\n",
        "       simple_regret_exact_5[slice12],\n",
        "       simple_regret_exact_6[slice12],\n",
        "       simple_regret_exact_7[slice12],\n",
        "       simple_regret_exact_8[slice12],\n",
        "       simple_regret_exact_9[slice12],\n",
        "       simple_regret_exact_10[slice12],\n",
        "       simple_regret_exact_11[slice12],\n",
        "       simple_regret_exact_12[slice12],\n",
        "       simple_regret_exact_13[slice12],\n",
        "       simple_regret_exact_14[slice12],\n",
        "       simple_regret_exact_15[slice12],\n",
        "       simple_regret_exact_16[slice12],\n",
        "       simple_regret_exact_17[slice12],\n",
        "       simple_regret_exact_18[slice12],\n",
        "       simple_regret_exact_19[slice12],\n",
        "       simple_regret_exact_20[slice12]]\n",
        "\n",
        "approx12_results = pd.DataFrame(approx12).sort_values(by=[0], ascending=False)\n",
        "exact12_results = pd.DataFrame(exact12).sort_values(by=[0], ascending=False)\n",
        "\n",
        "### Best simple regret minimization IQR - approx:\n",
        "lower_approx12 = np.asarray(approx12_results[4:5][0])[0]\n",
        "median_approx12 = np.asarray(approx12_results[9:10][0])[0]\n",
        "upper_approx12 = np.asarray(approx12_results[14:15][0])[0]\n",
        "\n",
        "lower_exact12 = np.asarray(exact12_results[4:5][0])[0]\n",
        "median_exact12 = np.asarray(exact12_results[9:10][0])[0]\n",
        "upper_exact12 = np.asarray(exact12_results[14:15][0])[0]"
      ]
    },
    {
      "cell_type": "code",
      "execution_count": 80,
      "metadata": {
        "id": "Jn4KpGvcQxf4"
      },
      "outputs": [],
      "source": [
        "# Iteration3 :\n",
        "\n",
        "slice3 = 2\n",
        "\n",
        "approx3 = [simple_regret_approx_1[slice3],\n",
        "       simple_regret_approx_2[slice3],\n",
        "       simple_regret_approx_3[slice3],\n",
        "       simple_regret_approx_4[slice3],\n",
        "       simple_regret_approx_5[slice3],\n",
        "       simple_regret_approx_6[slice3],\n",
        "       simple_regret_approx_7[slice3],\n",
        "       simple_regret_approx_8[slice3],\n",
        "       simple_regret_approx_9[slice3],\n",
        "       simple_regret_approx_10[slice3],\n",
        "       simple_regret_approx_11[slice3],\n",
        "       simple_regret_approx_12[slice3],\n",
        "       simple_regret_approx_13[slice3],\n",
        "       simple_regret_approx_14[slice3],\n",
        "       simple_regret_approx_15[slice3],\n",
        "       simple_regret_approx_16[slice3],\n",
        "       simple_regret_approx_17[slice3],\n",
        "       simple_regret_approx_18[slice3],\n",
        "       simple_regret_approx_19[slice3],\n",
        "       simple_regret_approx_20[slice3]]\n",
        "\n",
        "exact3 = [simple_regret_exact_1[slice3],\n",
        "       simple_regret_exact_2[slice3],\n",
        "       simple_regret_exact_3[slice3],\n",
        "       simple_regret_exact_4[slice3],\n",
        "       simple_regret_exact_5[slice3],\n",
        "       simple_regret_exact_6[slice3],\n",
        "       simple_regret_exact_7[slice3],\n",
        "       simple_regret_exact_8[slice3],\n",
        "       simple_regret_exact_9[slice3],\n",
        "       simple_regret_exact_10[slice3],\n",
        "       simple_regret_exact_11[slice3],\n",
        "       simple_regret_exact_12[slice3],\n",
        "       simple_regret_exact_13[slice3],\n",
        "       simple_regret_exact_14[slice3],\n",
        "       simple_regret_exact_15[slice3],\n",
        "       simple_regret_exact_16[slice3],\n",
        "       simple_regret_exact_17[slice3],\n",
        "       simple_regret_exact_18[slice3],\n",
        "       simple_regret_exact_19[slice3],\n",
        "       simple_regret_exact_20[slice3]]\n",
        "\n",
        "approx3_results = pd.DataFrame(approx3).sort_values(by=[0], ascending=False)\n",
        "exact3_results = pd.DataFrame(exact3).sort_values(by=[0], ascending=False)\n",
        "\n",
        "### Best simple regret minimization IQR - approx:\n",
        "lower_approx3 = np.asarray(approx3_results[4:5][0])[0]\n",
        "median_approx3 = np.asarray(approx3_results[9:10][0])[0]\n",
        "upper_approx3 = np.asarray(approx3_results[14:15][0])[0]\n",
        "\n",
        "lower_exact3 = np.asarray(exact3_results[4:5][0])[0]\n",
        "median_exact3 = np.asarray(exact3_results[9:10][0])[0]\n",
        "upper_exact3 = np.asarray(exact3_results[14:15][0])[0]"
      ]
    },
    {
      "cell_type": "code",
      "execution_count": 81,
      "metadata": {
        "id": "plf83wxrQxf4"
      },
      "outputs": [],
      "source": [
        "# Iteration13 :\n",
        "\n",
        "slice13 = 12\n",
        "\n",
        "approx13 = [simple_regret_approx_1[slice13],\n",
        "       simple_regret_approx_2[slice13],\n",
        "       simple_regret_approx_3[slice13],\n",
        "       simple_regret_approx_4[slice13],\n",
        "       simple_regret_approx_5[slice13],\n",
        "       simple_regret_approx_6[slice13],\n",
        "       simple_regret_approx_7[slice13],\n",
        "       simple_regret_approx_8[slice13],\n",
        "       simple_regret_approx_9[slice13],\n",
        "       simple_regret_approx_10[slice13],\n",
        "       simple_regret_approx_11[slice13],\n",
        "       simple_regret_approx_12[slice13],\n",
        "       simple_regret_approx_13[slice13],\n",
        "       simple_regret_approx_14[slice13],\n",
        "       simple_regret_approx_15[slice13],\n",
        "       simple_regret_approx_16[slice13],\n",
        "       simple_regret_approx_17[slice13],\n",
        "       simple_regret_approx_18[slice13],\n",
        "       simple_regret_approx_19[slice13],\n",
        "       simple_regret_approx_20[slice13]]\n",
        "\n",
        "exact13 = [simple_regret_exact_1[slice13],\n",
        "       simple_regret_exact_2[slice13],\n",
        "       simple_regret_exact_3[slice13],\n",
        "       simple_regret_exact_4[slice13],\n",
        "       simple_regret_exact_5[slice13],\n",
        "       simple_regret_exact_6[slice13],\n",
        "       simple_regret_exact_7[slice13],\n",
        "       simple_regret_exact_8[slice13],\n",
        "       simple_regret_exact_9[slice13],\n",
        "       simple_regret_exact_10[slice13],\n",
        "       simple_regret_exact_11[slice13],\n",
        "       simple_regret_exact_12[slice13],\n",
        "       simple_regret_exact_13[slice13],\n",
        "       simple_regret_exact_14[slice13],\n",
        "       simple_regret_exact_15[slice13],\n",
        "       simple_regret_exact_16[slice13],\n",
        "       simple_regret_exact_17[slice13],\n",
        "       simple_regret_exact_18[slice13],\n",
        "       simple_regret_exact_19[slice13],\n",
        "       simple_regret_exact_20[slice13]]\n",
        "\n",
        "approx13_results = pd.DataFrame(approx13).sort_values(by=[0], ascending=False)\n",
        "exact13_results = pd.DataFrame(exact13).sort_values(by=[0], ascending=False)\n",
        "\n",
        "### Best simple regret minimization IQR - approx:\n",
        "lower_approx13 = np.asarray(approx13_results[4:5][0])[0]\n",
        "median_approx13 = np.asarray(approx13_results[9:10][0])[0]\n",
        "upper_approx13 = np.asarray(approx13_results[14:15][0])[0]\n",
        "\n",
        "lower_exact13 = np.asarray(exact13_results[4:5][0])[0]\n",
        "median_exact13 = np.asarray(exact13_results[9:10][0])[0]\n",
        "upper_exact13 = np.asarray(exact13_results[14:15][0])[0]"
      ]
    },
    {
      "cell_type": "code",
      "execution_count": 82,
      "metadata": {
        "id": "9A7mlVvJQxf5"
      },
      "outputs": [],
      "source": [
        "# Iteration4 :\n",
        "\n",
        "slice4 = 3\n",
        "\n",
        "approx4 = [simple_regret_approx_1[slice4],\n",
        "       simple_regret_approx_2[slice4],\n",
        "       simple_regret_approx_3[slice4],\n",
        "       simple_regret_approx_4[slice4],\n",
        "       simple_regret_approx_5[slice4],\n",
        "       simple_regret_approx_6[slice4],\n",
        "       simple_regret_approx_7[slice4],\n",
        "       simple_regret_approx_8[slice4],\n",
        "       simple_regret_approx_9[slice4],\n",
        "       simple_regret_approx_10[slice4],\n",
        "       simple_regret_approx_11[slice4],\n",
        "       simple_regret_approx_12[slice4],\n",
        "       simple_regret_approx_13[slice4],\n",
        "       simple_regret_approx_14[slice4],\n",
        "       simple_regret_approx_15[slice4],\n",
        "       simple_regret_approx_16[slice4],\n",
        "       simple_regret_approx_17[slice4],\n",
        "       simple_regret_approx_18[slice4],\n",
        "       simple_regret_approx_19[slice4],\n",
        "       simple_regret_approx_20[slice4]]\n",
        "\n",
        "exact4 = [simple_regret_exact_1[slice4],\n",
        "       simple_regret_exact_2[slice4],\n",
        "       simple_regret_exact_3[slice4],\n",
        "       simple_regret_exact_4[slice4],\n",
        "       simple_regret_exact_5[slice4],\n",
        "       simple_regret_exact_6[slice4],\n",
        "       simple_regret_exact_7[slice4],\n",
        "       simple_regret_exact_8[slice4],\n",
        "       simple_regret_exact_9[slice4],\n",
        "       simple_regret_exact_10[slice4],\n",
        "       simple_regret_exact_11[slice4],\n",
        "       simple_regret_exact_12[slice4],\n",
        "       simple_regret_exact_13[slice4],\n",
        "       simple_regret_exact_14[slice4],\n",
        "       simple_regret_exact_15[slice4],\n",
        "       simple_regret_exact_16[slice4],\n",
        "       simple_regret_exact_17[slice4],\n",
        "       simple_regret_exact_18[slice4],\n",
        "       simple_regret_exact_19[slice4],\n",
        "       simple_regret_exact_20[slice4]]\n",
        "\n",
        "approx4_results = pd.DataFrame(approx4).sort_values(by=[0], ascending=False)\n",
        "exact4_results = pd.DataFrame(exact4).sort_values(by=[0], ascending=False)\n",
        "\n",
        "### Best simple regret minimization IQR - approx:\n",
        "lower_approx4 = np.asarray(approx4_results[4:5][0])[0]\n",
        "median_approx4 = np.asarray(approx4_results[9:10][0])[0]\n",
        "upper_approx4 = np.asarray(approx4_results[14:15][0])[0]\n",
        "\n",
        "lower_exact4 = np.asarray(exact4_results[4:5][0])[0]\n",
        "median_exact4 = np.asarray(exact4_results[9:10][0])[0]\n",
        "upper_exact4 = np.asarray(exact4_results[14:15][0])[0]"
      ]
    },
    {
      "cell_type": "code",
      "execution_count": 83,
      "metadata": {
        "id": "ijq-rioYQxf5"
      },
      "outputs": [],
      "source": [
        "# Iteration14 :\n",
        "\n",
        "slice14 = 13\n",
        "\n",
        "approx14 = [simple_regret_approx_1[slice14],\n",
        "       simple_regret_approx_2[slice14],\n",
        "       simple_regret_approx_3[slice14],\n",
        "       simple_regret_approx_4[slice14],\n",
        "       simple_regret_approx_5[slice14],\n",
        "       simple_regret_approx_6[slice14],\n",
        "       simple_regret_approx_7[slice14],\n",
        "       simple_regret_approx_8[slice14],\n",
        "       simple_regret_approx_9[slice14],\n",
        "       simple_regret_approx_10[slice14],\n",
        "       simple_regret_approx_11[slice14],\n",
        "       simple_regret_approx_12[slice14],\n",
        "       simple_regret_approx_13[slice14],\n",
        "       simple_regret_approx_14[slice14],\n",
        "       simple_regret_approx_15[slice14],\n",
        "       simple_regret_approx_16[slice14],\n",
        "       simple_regret_approx_17[slice14],\n",
        "       simple_regret_approx_18[slice14],\n",
        "       simple_regret_approx_19[slice14],\n",
        "       simple_regret_approx_20[slice14]]\n",
        "\n",
        "exact14 = [simple_regret_exact_1[slice14],\n",
        "       simple_regret_exact_2[slice14],\n",
        "       simple_regret_exact_3[slice14],\n",
        "       simple_regret_exact_4[slice14],\n",
        "       simple_regret_exact_5[slice14],\n",
        "       simple_regret_exact_6[slice14],\n",
        "       simple_regret_exact_7[slice14],\n",
        "       simple_regret_exact_8[slice14],\n",
        "       simple_regret_exact_9[slice14],\n",
        "       simple_regret_exact_10[slice14],\n",
        "       simple_regret_exact_11[slice14],\n",
        "       simple_regret_exact_12[slice14],\n",
        "       simple_regret_exact_13[slice14],\n",
        "       simple_regret_exact_14[slice14],\n",
        "       simple_regret_exact_15[slice14],\n",
        "       simple_regret_exact_16[slice14],\n",
        "       simple_regret_exact_17[slice14],\n",
        "       simple_regret_exact_18[slice14],\n",
        "       simple_regret_exact_19[slice14],\n",
        "       simple_regret_exact_20[slice14]]\n",
        "\n",
        "approx14_results = pd.DataFrame(approx14).sort_values(by=[0], ascending=False)\n",
        "exact14_results = pd.DataFrame(exact14).sort_values(by=[0], ascending=False)\n",
        "\n",
        "### Best simple regret minimization IQR - approx:\n",
        "lower_approx14 = np.asarray(approx14_results[4:5][0])[0]\n",
        "median_approx14 = np.asarray(approx14_results[9:10][0])[0]\n",
        "upper_approx14 = np.asarray(approx14_results[14:15][0])[0]\n",
        "\n",
        "lower_exact14 = np.asarray(exact14_results[4:5][0])[0]\n",
        "median_exact14 = np.asarray(exact14_results[9:10][0])[0]\n",
        "upper_exact14 = np.asarray(exact14_results[14:15][0])[0]"
      ]
    },
    {
      "cell_type": "code",
      "execution_count": 84,
      "metadata": {
        "id": "XINlZjoTd-ZK"
      },
      "outputs": [],
      "source": [
        "# Iteration5 :\n",
        "\n",
        "slice5 = 4\n",
        "\n",
        "approx5 = [simple_regret_approx_1[slice5],\n",
        "       simple_regret_approx_2[slice5],\n",
        "       simple_regret_approx_3[slice5],\n",
        "       simple_regret_approx_4[slice5],\n",
        "       simple_regret_approx_5[slice5],\n",
        "       simple_regret_approx_6[slice5],\n",
        "       simple_regret_approx_7[slice5],\n",
        "       simple_regret_approx_8[slice5],\n",
        "       simple_regret_approx_9[slice5],\n",
        "       simple_regret_approx_10[slice5],\n",
        "       simple_regret_approx_11[slice5],\n",
        "       simple_regret_approx_12[slice5],\n",
        "       simple_regret_approx_13[slice5],\n",
        "       simple_regret_approx_14[slice5],\n",
        "       simple_regret_approx_15[slice5],\n",
        "       simple_regret_approx_16[slice5],\n",
        "       simple_regret_approx_17[slice5],\n",
        "       simple_regret_approx_18[slice5],\n",
        "       simple_regret_approx_19[slice5],\n",
        "       simple_regret_approx_20[slice5]]\n",
        "\n",
        "exact5 = [simple_regret_exact_1[slice5],\n",
        "       simple_regret_exact_2[slice5],\n",
        "       simple_regret_exact_3[slice5],\n",
        "       simple_regret_exact_4[slice5],\n",
        "       simple_regret_exact_5[slice5],\n",
        "       simple_regret_exact_6[slice5],\n",
        "       simple_regret_exact_7[slice5],\n",
        "       simple_regret_exact_8[slice5],\n",
        "       simple_regret_exact_9[slice5],\n",
        "       simple_regret_exact_10[slice5],\n",
        "       simple_regret_exact_11[slice5],\n",
        "       simple_regret_exact_12[slice5],\n",
        "       simple_regret_exact_13[slice5],\n",
        "       simple_regret_exact_14[slice5],\n",
        "       simple_regret_exact_15[slice5],\n",
        "       simple_regret_exact_16[slice5],\n",
        "       simple_regret_exact_17[slice5],\n",
        "       simple_regret_exact_18[slice5],\n",
        "       simple_regret_exact_19[slice5],\n",
        "       simple_regret_exact_20[slice5]]\n",
        "\n",
        "approx5_results = pd.DataFrame(approx5).sort_values(by=[0], ascending=False)\n",
        "exact5_results = pd.DataFrame(exact5).sort_values(by=[0], ascending=False)\n",
        "\n",
        "### Best simple regret minimization IQR - approx:\n",
        "lower_approx5 = np.asarray(approx5_results[4:5][0])[0]\n",
        "median_approx5 = np.asarray(approx5_results[9:10][0])[0]\n",
        "upper_approx5 = np.asarray(approx5_results[14:15][0])[0]\n",
        "\n",
        "lower_exact5 = np.asarray(exact5_results[4:5][0])[0]\n",
        "median_exact5 = np.asarray(exact5_results[9:10][0])[0]\n",
        "upper_exact5 = np.asarray(exact5_results[14:15][0])[0]"
      ]
    },
    {
      "cell_type": "code",
      "execution_count": 85,
      "metadata": {
        "id": "4aZ7C8sOQxf6"
      },
      "outputs": [],
      "source": [
        "# Iteration15 :\n",
        "\n",
        "slice15 = 14\n",
        "\n",
        "approx15 = [simple_regret_approx_1[slice15],\n",
        "       simple_regret_approx_2[slice15],\n",
        "       simple_regret_approx_3[slice15],\n",
        "       simple_regret_approx_4[slice15],\n",
        "       simple_regret_approx_5[slice15],\n",
        "       simple_regret_approx_6[slice15],\n",
        "       simple_regret_approx_7[slice15],\n",
        "       simple_regret_approx_8[slice15],\n",
        "       simple_regret_approx_9[slice15],\n",
        "       simple_regret_approx_10[slice15],\n",
        "       simple_regret_approx_11[slice15],\n",
        "       simple_regret_approx_12[slice15],\n",
        "       simple_regret_approx_13[slice15],\n",
        "       simple_regret_approx_14[slice15],\n",
        "       simple_regret_approx_15[slice15],\n",
        "       simple_regret_approx_16[slice15],\n",
        "       simple_regret_approx_17[slice15],\n",
        "       simple_regret_approx_18[slice15],\n",
        "       simple_regret_approx_19[slice15],\n",
        "       simple_regret_approx_20[slice15]]\n",
        "\n",
        "exact15 = [simple_regret_exact_1[slice15],\n",
        "       simple_regret_exact_2[slice15],\n",
        "       simple_regret_exact_3[slice15],\n",
        "       simple_regret_exact_4[slice15],\n",
        "       simple_regret_exact_5[slice15],\n",
        "       simple_regret_exact_6[slice15],\n",
        "       simple_regret_exact_7[slice15],\n",
        "       simple_regret_exact_8[slice15],\n",
        "       simple_regret_exact_9[slice15],\n",
        "       simple_regret_exact_10[slice15],\n",
        "       simple_regret_exact_11[slice15],\n",
        "       simple_regret_exact_12[slice15],\n",
        "       simple_regret_exact_13[slice15],\n",
        "       simple_regret_exact_14[slice15],\n",
        "       simple_regret_exact_15[slice15],\n",
        "       simple_regret_exact_16[slice15],\n",
        "       simple_regret_exact_17[slice15],\n",
        "       simple_regret_exact_18[slice15],\n",
        "       simple_regret_exact_19[slice15],\n",
        "       simple_regret_exact_20[slice15]]\n",
        "\n",
        "approx15_results = pd.DataFrame(approx15).sort_values(by=[0], ascending=False)\n",
        "exact15_results = pd.DataFrame(exact15).sort_values(by=[0], ascending=False)\n",
        "\n",
        "### Best simple regret minimization IQR - approx:\n",
        "lower_approx15 = np.asarray(approx15_results[4:5][0])[0]\n",
        "median_approx15 = np.asarray(approx15_results[9:10][0])[0]\n",
        "upper_approx15 = np.asarray(approx15_results[14:15][0])[0]\n",
        "\n",
        "lower_exact15 = np.asarray(exact15_results[4:5][0])[0]\n",
        "median_exact15 = np.asarray(exact15_results[9:10][0])[0]\n",
        "upper_exact15 = np.asarray(exact15_results[14:15][0])[0]"
      ]
    },
    {
      "cell_type": "code",
      "execution_count": 86,
      "metadata": {
        "id": "KJINKhv1Qxf6"
      },
      "outputs": [],
      "source": [
        "# Iteration6 :\n",
        "\n",
        "slice6 = 5\n",
        "\n",
        "approx6 = [simple_regret_approx_1[slice6],\n",
        "       simple_regret_approx_2[slice6],\n",
        "       simple_regret_approx_3[slice6],\n",
        "       simple_regret_approx_4[slice6],\n",
        "       simple_regret_approx_5[slice6],\n",
        "       simple_regret_approx_6[slice6],\n",
        "       simple_regret_approx_7[slice6],\n",
        "       simple_regret_approx_8[slice6],\n",
        "       simple_regret_approx_9[slice6],\n",
        "       simple_regret_approx_10[slice6],\n",
        "       simple_regret_approx_11[slice6],\n",
        "       simple_regret_approx_12[slice6],\n",
        "       simple_regret_approx_13[slice6],\n",
        "       simple_regret_approx_14[slice6],\n",
        "       simple_regret_approx_15[slice6],\n",
        "       simple_regret_approx_16[slice6],\n",
        "       simple_regret_approx_17[slice6],\n",
        "       simple_regret_approx_18[slice6],\n",
        "       simple_regret_approx_19[slice6],\n",
        "       simple_regret_approx_20[slice6]]\n",
        "\n",
        "exact6 = [simple_regret_exact_1[slice6],\n",
        "       simple_regret_exact_2[slice6],\n",
        "       simple_regret_exact_3[slice6],\n",
        "       simple_regret_exact_4[slice6],\n",
        "       simple_regret_exact_5[slice6],\n",
        "       simple_regret_exact_6[slice6],\n",
        "       simple_regret_exact_7[slice6],\n",
        "       simple_regret_exact_8[slice6],\n",
        "       simple_regret_exact_9[slice6],\n",
        "       simple_regret_exact_10[slice6],\n",
        "       simple_regret_exact_11[slice6],\n",
        "       simple_regret_exact_12[slice6],\n",
        "       simple_regret_exact_13[slice6],\n",
        "       simple_regret_exact_14[slice6],\n",
        "       simple_regret_exact_15[slice6],\n",
        "       simple_regret_exact_16[slice6],\n",
        "       simple_regret_exact_17[slice6],\n",
        "       simple_regret_exact_18[slice6],\n",
        "       simple_regret_exact_19[slice6],\n",
        "       simple_regret_exact_20[slice6]]\n",
        "\n",
        "approx6_results = pd.DataFrame(approx6).sort_values(by=[0], ascending=False)\n",
        "exact6_results = pd.DataFrame(exact6).sort_values(by=[0], ascending=False)\n",
        "\n",
        "### Best simple regret minimization IQR - approx:\n",
        "lower_approx6 = np.asarray(approx6_results[4:5][0])[0]\n",
        "median_approx6 = np.asarray(approx6_results[9:10][0])[0]\n",
        "upper_approx6 = np.asarray(approx6_results[14:15][0])[0]\n",
        "\n",
        "lower_exact6 = np.asarray(exact6_results[4:5][0])[0]\n",
        "median_exact6 = np.asarray(exact6_results[9:10][0])[0]\n",
        "upper_exact6 = np.asarray(exact6_results[14:15][0])[0]"
      ]
    },
    {
      "cell_type": "code",
      "execution_count": 87,
      "metadata": {
        "id": "nwC5N1FsQxf7"
      },
      "outputs": [],
      "source": [
        "# Iteration16 :\n",
        "\n",
        "slice16 = 15\n",
        "\n",
        "approx16 = [simple_regret_approx_1[slice16],\n",
        "       simple_regret_approx_2[slice16],\n",
        "       simple_regret_approx_3[slice16],\n",
        "       simple_regret_approx_4[slice16],\n",
        "       simple_regret_approx_5[slice16],\n",
        "       simple_regret_approx_6[slice16],\n",
        "       simple_regret_approx_7[slice16],\n",
        "       simple_regret_approx_8[slice16],\n",
        "       simple_regret_approx_9[slice16],\n",
        "       simple_regret_approx_10[slice16],\n",
        "       simple_regret_approx_11[slice16],\n",
        "       simple_regret_approx_12[slice16],\n",
        "       simple_regret_approx_13[slice16],\n",
        "       simple_regret_approx_14[slice16],\n",
        "       simple_regret_approx_15[slice16],\n",
        "       simple_regret_approx_16[slice16],\n",
        "       simple_regret_approx_17[slice16],\n",
        "       simple_regret_approx_18[slice16],\n",
        "       simple_regret_approx_19[slice16],\n",
        "       simple_regret_approx_20[slice16]]\n",
        "\n",
        "exact16 = [simple_regret_exact_1[slice16],\n",
        "       simple_regret_exact_2[slice16],\n",
        "       simple_regret_exact_3[slice16],\n",
        "       simple_regret_exact_4[slice16],\n",
        "       simple_regret_exact_5[slice16],\n",
        "       simple_regret_exact_6[slice16],\n",
        "       simple_regret_exact_7[slice16],\n",
        "       simple_regret_exact_8[slice16],\n",
        "       simple_regret_exact_9[slice16],\n",
        "       simple_regret_exact_10[slice16],\n",
        "       simple_regret_exact_11[slice16],\n",
        "       simple_regret_exact_12[slice16],\n",
        "       simple_regret_exact_13[slice16],\n",
        "       simple_regret_exact_14[slice16],\n",
        "       simple_regret_exact_15[slice16],\n",
        "       simple_regret_exact_16[slice16],\n",
        "       simple_regret_exact_17[slice16],\n",
        "       simple_regret_exact_18[slice16],\n",
        "       simple_regret_exact_19[slice16],\n",
        "       simple_regret_exact_20[slice16]]\n",
        "\n",
        "approx16_results = pd.DataFrame(approx16).sort_values(by=[0], ascending=False)\n",
        "exact16_results = pd.DataFrame(exact16).sort_values(by=[0], ascending=False)\n",
        "\n",
        "### Best simple regret minimization IQR - approx:\n",
        "lower_approx16 = np.asarray(approx16_results[4:5][0])[0]\n",
        "median_approx16 = np.asarray(approx16_results[9:10][0])[0]\n",
        "upper_approx16 = np.asarray(approx16_results[14:15][0])[0]\n",
        "\n",
        "lower_exact16 = np.asarray(exact16_results[4:5][0])[0]\n",
        "median_exact16 = np.asarray(exact16_results[9:10][0])[0]\n",
        "upper_exact16 = np.asarray(exact16_results[14:15][0])[0]"
      ]
    },
    {
      "cell_type": "code",
      "execution_count": 88,
      "metadata": {
        "id": "TrPV0AfnQxf7"
      },
      "outputs": [],
      "source": [
        "# Iteration7 :\n",
        "\n",
        "slice7 = 6\n",
        "\n",
        "approx7 = [simple_regret_approx_1[slice7],\n",
        "       simple_regret_approx_2[slice7],\n",
        "       simple_regret_approx_3[slice7],\n",
        "       simple_regret_approx_4[slice7],\n",
        "       simple_regret_approx_5[slice7],\n",
        "       simple_regret_approx_6[slice7],\n",
        "       simple_regret_approx_7[slice7],\n",
        "       simple_regret_approx_8[slice7],\n",
        "       simple_regret_approx_9[slice7],\n",
        "       simple_regret_approx_10[slice7],\n",
        "       simple_regret_approx_11[slice7],\n",
        "       simple_regret_approx_12[slice7],\n",
        "       simple_regret_approx_13[slice7],\n",
        "       simple_regret_approx_14[slice7],\n",
        "       simple_regret_approx_15[slice7],\n",
        "       simple_regret_approx_16[slice7],\n",
        "       simple_regret_approx_17[slice7],\n",
        "       simple_regret_approx_18[slice7],\n",
        "       simple_regret_approx_19[slice7],\n",
        "       simple_regret_approx_20[slice7]]\n",
        "\n",
        "exact7 = [simple_regret_exact_1[slice7],\n",
        "       simple_regret_exact_2[slice7],\n",
        "       simple_regret_exact_3[slice7],\n",
        "       simple_regret_exact_4[slice7],\n",
        "       simple_regret_exact_5[slice7],\n",
        "       simple_regret_exact_6[slice7],\n",
        "       simple_regret_exact_7[slice7],\n",
        "       simple_regret_exact_8[slice7],\n",
        "       simple_regret_exact_9[slice7],\n",
        "       simple_regret_exact_10[slice7],\n",
        "       simple_regret_exact_11[slice7],\n",
        "       simple_regret_exact_12[slice7],\n",
        "       simple_regret_exact_13[slice7],\n",
        "       simple_regret_exact_14[slice7],\n",
        "       simple_regret_exact_15[slice7],\n",
        "       simple_regret_exact_16[slice7],\n",
        "       simple_regret_exact_17[slice7],\n",
        "       simple_regret_exact_18[slice7],\n",
        "       simple_regret_exact_19[slice7],\n",
        "       simple_regret_exact_20[slice7]]\n",
        "\n",
        "approx7_results = pd.DataFrame(approx7).sort_values(by=[0], ascending=False)\n",
        "exact7_results = pd.DataFrame(exact7).sort_values(by=[0], ascending=False)\n",
        "\n",
        "### Best simple regret minimization IQR - approx:\n",
        "lower_approx7 = np.asarray(approx7_results[4:5][0])[0]\n",
        "median_approx7 = np.asarray(approx7_results[9:10][0])[0]\n",
        "upper_approx7 = np.asarray(approx7_results[14:15][0])[0]\n",
        "\n",
        "lower_exact7 = np.asarray(exact7_results[4:5][0])[0]\n",
        "median_exact7 = np.asarray(exact7_results[9:10][0])[0]\n",
        "upper_exact7 = np.asarray(exact7_results[14:15][0])[0]"
      ]
    },
    {
      "cell_type": "code",
      "execution_count": 89,
      "metadata": {
        "id": "Ub_-wpK4Qxf8"
      },
      "outputs": [],
      "source": [
        "# Iteration17 :\n",
        "\n",
        "slice17 = 16\n",
        "\n",
        "approx17 = [simple_regret_approx_1[slice17],\n",
        "       simple_regret_approx_2[slice17],\n",
        "       simple_regret_approx_3[slice17],\n",
        "       simple_regret_approx_4[slice17],\n",
        "       simple_regret_approx_5[slice17],\n",
        "       simple_regret_approx_6[slice17],\n",
        "       simple_regret_approx_7[slice17],\n",
        "       simple_regret_approx_8[slice17],\n",
        "       simple_regret_approx_9[slice17],\n",
        "       simple_regret_approx_10[slice17],\n",
        "       simple_regret_approx_11[slice17],\n",
        "       simple_regret_approx_12[slice17],\n",
        "       simple_regret_approx_13[slice17],\n",
        "       simple_regret_approx_14[slice17],\n",
        "       simple_regret_approx_15[slice17],\n",
        "       simple_regret_approx_16[slice17],\n",
        "       simple_regret_approx_17[slice17],\n",
        "       simple_regret_approx_18[slice17],\n",
        "       simple_regret_approx_19[slice17],\n",
        "       simple_regret_approx_20[slice17]]\n",
        "\n",
        "exact17 = [simple_regret_exact_1[slice17],\n",
        "       simple_regret_exact_2[slice17],\n",
        "       simple_regret_exact_3[slice17],\n",
        "       simple_regret_exact_4[slice17],\n",
        "       simple_regret_exact_5[slice17],\n",
        "       simple_regret_exact_6[slice17],\n",
        "       simple_regret_exact_7[slice17],\n",
        "       simple_regret_exact_8[slice17],\n",
        "       simple_regret_exact_9[slice17],\n",
        "       simple_regret_exact_10[slice17],\n",
        "       simple_regret_exact_11[slice17],\n",
        "       simple_regret_exact_12[slice17],\n",
        "       simple_regret_exact_13[slice17],\n",
        "       simple_regret_exact_14[slice17],\n",
        "       simple_regret_exact_15[slice17],\n",
        "       simple_regret_exact_16[slice17],\n",
        "       simple_regret_exact_17[slice17],\n",
        "       simple_regret_exact_18[slice17],\n",
        "       simple_regret_exact_19[slice17],\n",
        "       simple_regret_exact_20[slice17]]\n",
        "\n",
        "approx17_results = pd.DataFrame(approx17).sort_values(by=[0], ascending=False)\n",
        "exact17_results = pd.DataFrame(exact17).sort_values(by=[0], ascending=False)\n",
        "\n",
        "### Best simple regret minimization IQR - approx:\n",
        "lower_approx17 = np.asarray(approx17_results[4:5][0])[0]\n",
        "median_approx17 = np.asarray(approx17_results[9:10][0])[0]\n",
        "upper_approx17 = np.asarray(approx17_results[14:15][0])[0]\n",
        "\n",
        "lower_exact17 = np.asarray(exact17_results[4:5][0])[0]\n",
        "median_exact17 = np.asarray(exact17_results[9:10][0])[0]\n",
        "upper_exact17 = np.asarray(exact17_results[14:15][0])[0]"
      ]
    },
    {
      "cell_type": "code",
      "execution_count": 90,
      "metadata": {
        "id": "-6VLo37PQxf8"
      },
      "outputs": [],
      "source": [
        "# Iteration8 :\n",
        "\n",
        "slice8 = 7\n",
        "\n",
        "approx8 = [simple_regret_approx_1[slice8],\n",
        "       simple_regret_approx_2[slice8],\n",
        "       simple_regret_approx_3[slice8],\n",
        "       simple_regret_approx_4[slice8],\n",
        "       simple_regret_approx_5[slice8],\n",
        "       simple_regret_approx_6[slice8],\n",
        "       simple_regret_approx_7[slice8],\n",
        "       simple_regret_approx_8[slice8],\n",
        "       simple_regret_approx_9[slice8],\n",
        "       simple_regret_approx_10[slice8],\n",
        "       simple_regret_approx_11[slice8],\n",
        "       simple_regret_approx_12[slice8],\n",
        "       simple_regret_approx_13[slice8],\n",
        "       simple_regret_approx_14[slice8],\n",
        "       simple_regret_approx_15[slice8],\n",
        "       simple_regret_approx_16[slice8],\n",
        "       simple_regret_approx_17[slice8],\n",
        "       simple_regret_approx_18[slice8],\n",
        "       simple_regret_approx_19[slice8],\n",
        "       simple_regret_approx_20[slice8]]\n",
        "\n",
        "exact8 = [simple_regret_exact_1[slice8],\n",
        "       simple_regret_exact_2[slice8],\n",
        "       simple_regret_exact_3[slice8],\n",
        "       simple_regret_exact_4[slice8],\n",
        "       simple_regret_exact_5[slice8],\n",
        "       simple_regret_exact_6[slice8],\n",
        "       simple_regret_exact_7[slice8],\n",
        "       simple_regret_exact_8[slice8],\n",
        "       simple_regret_exact_9[slice8],\n",
        "       simple_regret_exact_10[slice8],\n",
        "       simple_regret_exact_11[slice8],\n",
        "       simple_regret_exact_12[slice8],\n",
        "       simple_regret_exact_13[slice8],\n",
        "       simple_regret_exact_14[slice8],\n",
        "       simple_regret_exact_15[slice8],\n",
        "       simple_regret_exact_16[slice8],\n",
        "       simple_regret_exact_17[slice8],\n",
        "       simple_regret_exact_18[slice8],\n",
        "       simple_regret_exact_19[slice8],\n",
        "       simple_regret_exact_20[slice8]]\n",
        "\n",
        "approx8_results = pd.DataFrame(approx8).sort_values(by=[0], ascending=False)\n",
        "exact8_results = pd.DataFrame(exact8).sort_values(by=[0], ascending=False)\n",
        "\n",
        "### Best simple regret minimization IQR - approx:\n",
        "lower_approx8 = np.asarray(approx8_results[4:5][0])[0]\n",
        "median_approx8 = np.asarray(approx8_results[9:10][0])[0]\n",
        "upper_approx8 = np.asarray(approx8_results[14:15][0])[0]\n",
        "\n",
        "lower_exact8 = np.asarray(exact8_results[4:5][0])[0]\n",
        "median_exact8 = np.asarray(exact8_results[9:10][0])[0]\n",
        "upper_exact8 = np.asarray(exact8_results[14:15][0])[0]"
      ]
    },
    {
      "cell_type": "code",
      "execution_count": 91,
      "metadata": {
        "id": "2Dp-9CC2Qxf9"
      },
      "outputs": [],
      "source": [
        "# Iteration18 :\n",
        "\n",
        "slice18 = 17\n",
        "\n",
        "approx18 = [simple_regret_approx_1[slice18],\n",
        "       simple_regret_approx_2[slice18],\n",
        "       simple_regret_approx_3[slice18],\n",
        "       simple_regret_approx_4[slice18],\n",
        "       simple_regret_approx_5[slice18],\n",
        "       simple_regret_approx_6[slice18],\n",
        "       simple_regret_approx_7[slice18],\n",
        "       simple_regret_approx_8[slice18],\n",
        "       simple_regret_approx_9[slice18],\n",
        "       simple_regret_approx_10[slice18],\n",
        "       simple_regret_approx_11[slice18],\n",
        "       simple_regret_approx_12[slice18],\n",
        "       simple_regret_approx_13[slice18],\n",
        "       simple_regret_approx_14[slice18],\n",
        "       simple_regret_approx_15[slice18],\n",
        "       simple_regret_approx_16[slice18],\n",
        "       simple_regret_approx_17[slice18],\n",
        "       simple_regret_approx_18[slice18],\n",
        "       simple_regret_approx_19[slice18],\n",
        "       simple_regret_approx_20[slice18]]\n",
        "\n",
        "exact18 = [simple_regret_exact_1[slice18],\n",
        "       simple_regret_exact_2[slice18],\n",
        "       simple_regret_exact_3[slice18],\n",
        "       simple_regret_exact_4[slice18],\n",
        "       simple_regret_exact_5[slice18],\n",
        "       simple_regret_exact_6[slice18],\n",
        "       simple_regret_exact_7[slice18],\n",
        "       simple_regret_exact_8[slice18],\n",
        "       simple_regret_exact_9[slice18],\n",
        "       simple_regret_exact_10[slice18],\n",
        "       simple_regret_exact_11[slice18],\n",
        "       simple_regret_exact_12[slice18],\n",
        "       simple_regret_exact_13[slice18],\n",
        "       simple_regret_exact_14[slice18],\n",
        "       simple_regret_exact_15[slice18],\n",
        "       simple_regret_exact_16[slice18],\n",
        "       simple_regret_exact_17[slice18],\n",
        "       simple_regret_exact_18[slice18],\n",
        "       simple_regret_exact_19[slice18],\n",
        "       simple_regret_exact_20[slice18]]\n",
        "\n",
        "approx18_results = pd.DataFrame(approx18).sort_values(by=[0], ascending=False)\n",
        "exact18_results = pd.DataFrame(exact18).sort_values(by=[0], ascending=False)\n",
        "\n",
        "### Best simple regret minimization IQR - approx:\n",
        "lower_approx18 = np.asarray(approx18_results[4:5][0])[0]\n",
        "median_approx18 = np.asarray(approx18_results[9:10][0])[0]\n",
        "upper_approx18 = np.asarray(approx18_results[14:15][0])[0]\n",
        "\n",
        "lower_exact18 = np.asarray(exact18_results[4:5][0])[0]\n",
        "median_exact18 = np.asarray(exact18_results[9:10][0])[0]\n",
        "upper_exact18 = np.asarray(exact18_results[14:15][0])[0]"
      ]
    },
    {
      "cell_type": "code",
      "execution_count": 92,
      "metadata": {
        "id": "SqiaOpB7Qxf9"
      },
      "outputs": [],
      "source": [
        "# Iteration9 :\n",
        "\n",
        "slice9 = 8\n",
        "\n",
        "approx9 = [simple_regret_approx_1[slice9],\n",
        "       simple_regret_approx_2[slice9],\n",
        "       simple_regret_approx_3[slice9],\n",
        "       simple_regret_approx_4[slice9],\n",
        "       simple_regret_approx_5[slice9],\n",
        "       simple_regret_approx_6[slice9],\n",
        "       simple_regret_approx_7[slice9],\n",
        "       simple_regret_approx_8[slice9],\n",
        "       simple_regret_approx_9[slice9],\n",
        "       simple_regret_approx_10[slice9],\n",
        "       simple_regret_approx_11[slice9],\n",
        "       simple_regret_approx_12[slice9],\n",
        "       simple_regret_approx_13[slice9],\n",
        "       simple_regret_approx_14[slice9],\n",
        "       simple_regret_approx_15[slice9],\n",
        "       simple_regret_approx_16[slice9],\n",
        "       simple_regret_approx_17[slice9],\n",
        "       simple_regret_approx_18[slice9],\n",
        "       simple_regret_approx_19[slice9],\n",
        "       simple_regret_approx_20[slice9]]\n",
        "\n",
        "exact9 = [simple_regret_exact_1[slice9],\n",
        "       simple_regret_exact_2[slice9],\n",
        "       simple_regret_exact_3[slice9],\n",
        "       simple_regret_exact_4[slice9],\n",
        "       simple_regret_exact_5[slice9],\n",
        "       simple_regret_exact_6[slice9],\n",
        "       simple_regret_exact_7[slice9],\n",
        "       simple_regret_exact_8[slice9],\n",
        "       simple_regret_exact_9[slice9],\n",
        "       simple_regret_exact_10[slice9],\n",
        "       simple_regret_exact_11[slice9],\n",
        "       simple_regret_exact_12[slice9],\n",
        "       simple_regret_exact_13[slice9],\n",
        "       simple_regret_exact_14[slice9],\n",
        "       simple_regret_exact_15[slice9],\n",
        "       simple_regret_exact_16[slice9],\n",
        "       simple_regret_exact_17[slice9],\n",
        "       simple_regret_exact_18[slice9],\n",
        "       simple_regret_exact_19[slice9],\n",
        "       simple_regret_exact_20[slice9]]\n",
        "\n",
        "approx9_results = pd.DataFrame(approx9).sort_values(by=[0], ascending=False)\n",
        "exact9_results = pd.DataFrame(exact9).sort_values(by=[0], ascending=False)\n",
        "\n",
        "### Best simple regret minimization IQR - approx:\n",
        "lower_approx9 = np.asarray(approx9_results[4:5][0])[0]\n",
        "median_approx9 = np.asarray(approx9_results[9:10][0])[0]\n",
        "upper_approx9 = np.asarray(approx9_results[14:15][0])[0]\n",
        "\n",
        "lower_exact9 = np.asarray(exact9_results[4:5][0])[0]\n",
        "median_exact9 = np.asarray(exact9_results[9:10][0])[0]\n",
        "upper_exact9 = np.asarray(exact9_results[14:15][0])[0]"
      ]
    },
    {
      "cell_type": "code",
      "execution_count": 93,
      "metadata": {
        "id": "OQkCCOsPQxf9"
      },
      "outputs": [],
      "source": [
        "# Iteration19 :\n",
        "\n",
        "slice19 = 18\n",
        "\n",
        "approx19 = [simple_regret_approx_1[slice19],\n",
        "       simple_regret_approx_2[slice19],\n",
        "       simple_regret_approx_3[slice19],\n",
        "       simple_regret_approx_4[slice19],\n",
        "       simple_regret_approx_5[slice19],\n",
        "       simple_regret_approx_6[slice19],\n",
        "       simple_regret_approx_7[slice19],\n",
        "       simple_regret_approx_8[slice19],\n",
        "       simple_regret_approx_9[slice19],\n",
        "       simple_regret_approx_10[slice19],\n",
        "       simple_regret_approx_11[slice19],\n",
        "       simple_regret_approx_12[slice19],\n",
        "       simple_regret_approx_13[slice19],\n",
        "       simple_regret_approx_14[slice19],\n",
        "       simple_regret_approx_15[slice19],\n",
        "       simple_regret_approx_16[slice19],\n",
        "       simple_regret_approx_17[slice19],\n",
        "       simple_regret_approx_18[slice19],\n",
        "       simple_regret_approx_19[slice19],\n",
        "       simple_regret_approx_20[slice19]]\n",
        "\n",
        "exact19 = [simple_regret_exact_1[slice19],\n",
        "       simple_regret_exact_2[slice19],\n",
        "       simple_regret_exact_3[slice19],\n",
        "       simple_regret_exact_4[slice19],\n",
        "       simple_regret_exact_5[slice19],\n",
        "       simple_regret_exact_6[slice19],\n",
        "       simple_regret_exact_7[slice19],\n",
        "       simple_regret_exact_8[slice19],\n",
        "       simple_regret_exact_9[slice19],\n",
        "       simple_regret_exact_10[slice19],\n",
        "       simple_regret_exact_11[slice19],\n",
        "       simple_regret_exact_12[slice19],\n",
        "       simple_regret_exact_13[slice19],\n",
        "       simple_regret_exact_14[slice19],\n",
        "       simple_regret_exact_15[slice19],\n",
        "       simple_regret_exact_16[slice19],\n",
        "       simple_regret_exact_17[slice19],\n",
        "       simple_regret_exact_18[slice19],\n",
        "       simple_regret_exact_19[slice19],\n",
        "       simple_regret_exact_20[slice19]]\n",
        "\n",
        "approx19_results = pd.DataFrame(approx19).sort_values(by=[0], ascending=False)\n",
        "exact19_results = pd.DataFrame(exact19).sort_values(by=[0], ascending=False)\n",
        "\n",
        "### Best simple regret minimization IQR - approx:\n",
        "lower_approx19 = np.asarray(approx19_results[4:5][0])[0]\n",
        "median_approx19 = np.asarray(approx19_results[9:10][0])[0]\n",
        "upper_approx19 = np.asarray(approx19_results[14:15][0])[0]\n",
        "\n",
        "lower_exact19 = np.asarray(exact19_results[4:5][0])[0]\n",
        "median_exact19 = np.asarray(exact19_results[9:10][0])[0]\n",
        "upper_exact19 = np.asarray(exact19_results[14:15][0])[0]"
      ]
    },
    {
      "cell_type": "code",
      "execution_count": 94,
      "metadata": {
        "id": "h4vtWahcQxf-"
      },
      "outputs": [],
      "source": [
        "# Iteration10 :\n",
        "\n",
        "slice10 = 9\n",
        "\n",
        "approx10 = [simple_regret_approx_1[slice10],\n",
        "       simple_regret_approx_2[slice10],\n",
        "       simple_regret_approx_3[slice10],\n",
        "       simple_regret_approx_4[slice10],\n",
        "       simple_regret_approx_5[slice10],\n",
        "       simple_regret_approx_6[slice10],\n",
        "       simple_regret_approx_7[slice10],\n",
        "       simple_regret_approx_8[slice10],\n",
        "       simple_regret_approx_9[slice10],\n",
        "       simple_regret_approx_10[slice10],\n",
        "       simple_regret_approx_11[slice10],\n",
        "       simple_regret_approx_12[slice10],\n",
        "       simple_regret_approx_13[slice10],\n",
        "       simple_regret_approx_14[slice10],\n",
        "       simple_regret_approx_15[slice10],\n",
        "       simple_regret_approx_16[slice10],\n",
        "       simple_regret_approx_17[slice10],\n",
        "       simple_regret_approx_18[slice10],\n",
        "       simple_regret_approx_19[slice10],\n",
        "       simple_regret_approx_20[slice10]]\n",
        "\n",
        "exact10 = [simple_regret_exact_1[slice10],\n",
        "       simple_regret_exact_2[slice10],\n",
        "       simple_regret_exact_3[slice10],\n",
        "       simple_regret_exact_4[slice10],\n",
        "       simple_regret_exact_5[slice10],\n",
        "       simple_regret_exact_6[slice10],\n",
        "       simple_regret_exact_7[slice10],\n",
        "       simple_regret_exact_8[slice10],\n",
        "       simple_regret_exact_9[slice10],\n",
        "       simple_regret_exact_10[slice10],\n",
        "       simple_regret_exact_11[slice10],\n",
        "       simple_regret_exact_12[slice10],\n",
        "       simple_regret_exact_13[slice10],\n",
        "       simple_regret_exact_14[slice10],\n",
        "       simple_regret_exact_15[slice10],\n",
        "       simple_regret_exact_16[slice10],\n",
        "       simple_regret_exact_17[slice10],\n",
        "       simple_regret_exact_18[slice10],\n",
        "       simple_regret_exact_19[slice10],\n",
        "       simple_regret_exact_20[slice10]]\n",
        "\n",
        "approx10_results = pd.DataFrame(approx10).sort_values(by=[0], ascending=False)\n",
        "exact10_results = pd.DataFrame(exact10).sort_values(by=[0], ascending=False)\n",
        "\n",
        "### Best simple regret minimization IQR - approx:\n",
        "lower_approx10 = np.asarray(approx10_results[4:5][0])[0]\n",
        "median_approx10 = np.asarray(approx10_results[9:10][0])[0]\n",
        "upper_approx10 = np.asarray(approx10_results[14:15][0])[0]\n",
        "\n",
        "lower_exact10 = np.asarray(exact10_results[4:5][0])[0]\n",
        "median_exact10 = np.asarray(exact10_results[9:10][0])[0]\n",
        "upper_exact10 = np.asarray(exact10_results[14:15][0])[0]"
      ]
    },
    {
      "cell_type": "code",
      "execution_count": 95,
      "metadata": {
        "id": "Rsf240pWQxf-"
      },
      "outputs": [],
      "source": [
        "# Iteration20 :\n",
        "\n",
        "slice20 = 19\n",
        "\n",
        "approx20 = [simple_regret_approx_1[slice20],\n",
        "       simple_regret_approx_2[slice20],\n",
        "       simple_regret_approx_3[slice20],\n",
        "       simple_regret_approx_4[slice20],\n",
        "       simple_regret_approx_5[slice20],\n",
        "       simple_regret_approx_6[slice20],\n",
        "       simple_regret_approx_7[slice20],\n",
        "       simple_regret_approx_8[slice20],\n",
        "       simple_regret_approx_9[slice20],\n",
        "       simple_regret_approx_10[slice20],\n",
        "       simple_regret_approx_11[slice20],\n",
        "       simple_regret_approx_12[slice20],\n",
        "       simple_regret_approx_13[slice20],\n",
        "       simple_regret_approx_14[slice20],\n",
        "       simple_regret_approx_15[slice20],\n",
        "       simple_regret_approx_16[slice20],\n",
        "       simple_regret_approx_17[slice20],\n",
        "       simple_regret_approx_18[slice20],\n",
        "       simple_regret_approx_19[slice20],\n",
        "       simple_regret_approx_20[slice20]]\n",
        "\n",
        "exact20 = [simple_regret_exact_1[slice20],\n",
        "       simple_regret_exact_2[slice20],\n",
        "       simple_regret_exact_3[slice20],\n",
        "       simple_regret_exact_4[slice20],\n",
        "       simple_regret_exact_5[slice20],\n",
        "       simple_regret_exact_6[slice20],\n",
        "       simple_regret_exact_7[slice20],\n",
        "       simple_regret_exact_8[slice20],\n",
        "       simple_regret_exact_9[slice20],\n",
        "       simple_regret_exact_10[slice20],\n",
        "       simple_regret_exact_11[slice20],\n",
        "       simple_regret_exact_12[slice20],\n",
        "       simple_regret_exact_13[slice20],\n",
        "       simple_regret_exact_14[slice20],\n",
        "       simple_regret_exact_15[slice20],\n",
        "       simple_regret_exact_16[slice20],\n",
        "       simple_regret_exact_17[slice20],\n",
        "       simple_regret_exact_18[slice20],\n",
        "       simple_regret_exact_19[slice20],\n",
        "       simple_regret_exact_20[slice20]]\n",
        "\n",
        "approx20_results = pd.DataFrame(approx20).sort_values(by=[0], ascending=False)\n",
        "exact20_results = pd.DataFrame(exact20).sort_values(by=[0], ascending=False)\n",
        "\n",
        "### Best simple regret minimization IQR - approx:\n",
        "lower_approx20 = np.asarray(approx20_results[4:5][0])[0]\n",
        "median_approx20 = np.asarray(approx20_results[9:10][0])[0]\n",
        "upper_approx20 = np.asarray(approx20_results[14:15][0])[0]\n",
        "\n",
        "lower_exact20 = np.asarray(exact20_results[4:5][0])[0]\n",
        "median_exact20 = np.asarray(exact20_results[9:10][0])[0]\n",
        "upper_exact20 = np.asarray(exact20_results[14:15][0])[0]"
      ]
    },
    {
      "cell_type": "code",
      "execution_count": 96,
      "metadata": {
        "id": "gn36RejbQxf_"
      },
      "outputs": [],
      "source": [
        "### Summarize arrays: 'Loser'\n",
        "\n",
        "lower_approx = [lower_approx1,\n",
        "            lower_approx2,\n",
        "            lower_approx3,\n",
        "            lower_approx4,\n",
        "            lower_approx5,\n",
        "            lower_approx6,\n",
        "            lower_approx7,\n",
        "            lower_approx8,\n",
        "            lower_approx9,\n",
        "            lower_approx10,\n",
        "            lower_approx11,\n",
        "            lower_approx12,\n",
        "            lower_approx13,\n",
        "            lower_approx14,\n",
        "            lower_approx15,\n",
        "            lower_approx16,\n",
        "            lower_approx17,\n",
        "            lower_approx18,\n",
        "            lower_approx19,\n",
        "            lower_approx20,\n",
        "            lower_approx21]\n",
        "\n",
        "median_approx = [median_approx1,\n",
        "            median_approx2,\n",
        "            median_approx3,\n",
        "            median_approx4,\n",
        "            median_approx5,\n",
        "            median_approx6,\n",
        "            median_approx7,\n",
        "            median_approx8,\n",
        "            median_approx9,\n",
        "            median_approx10,\n",
        "            median_approx11,\n",
        "            median_approx12,\n",
        "            median_approx13,\n",
        "            median_approx14,\n",
        "            median_approx15,\n",
        "            median_approx16,\n",
        "            median_approx17,\n",
        "            median_approx18,\n",
        "            median_approx19,\n",
        "            median_approx20,\n",
        "            median_approx21]\n",
        "\n",
        "upper_approx = [upper_approx1,\n",
        "            upper_approx2,\n",
        "            upper_approx3,\n",
        "            upper_approx4,\n",
        "            upper_approx5,\n",
        "            upper_approx6,\n",
        "            upper_approx7,\n",
        "            upper_approx8,\n",
        "            upper_approx9,\n",
        "            upper_approx10,\n",
        "            upper_approx11,\n",
        "            upper_approx12,\n",
        "            upper_approx13,\n",
        "            upper_approx14,\n",
        "            upper_approx15,\n",
        "            upper_approx16,\n",
        "            upper_approx17,\n",
        "            upper_approx18,\n",
        "            upper_approx19,\n",
        "            upper_approx20,\n",
        "            upper_approx21]"
      ]
    },
    {
      "cell_type": "code",
      "execution_count": 97,
      "metadata": {
        "id": "wxtGTOYfQxf_"
      },
      "outputs": [],
      "source": [
        "### Summarize arrays: 'exact'\n",
        "\n",
        "lower_exact = [lower_exact1,\n",
        "            lower_exact2,\n",
        "            lower_exact3,\n",
        "            lower_exact4,\n",
        "            lower_exact5,\n",
        "            lower_exact6,\n",
        "            lower_exact7,\n",
        "            lower_exact8,\n",
        "            lower_exact9,\n",
        "            lower_exact10,\n",
        "            lower_exact11,\n",
        "            lower_exact12,\n",
        "            lower_exact13,\n",
        "            lower_exact14,\n",
        "            lower_exact15,\n",
        "            lower_exact16,\n",
        "            lower_exact17,\n",
        "            lower_exact18,\n",
        "            lower_exact19,\n",
        "            lower_exact20,\n",
        "            lower_exact21]\n",
        "\n",
        "median_exact = [median_exact1,\n",
        "            median_exact2,\n",
        "            median_exact3,\n",
        "            median_exact4,\n",
        "            median_exact5,\n",
        "            median_exact6,\n",
        "            median_exact7,\n",
        "            median_exact8,\n",
        "            median_exact9,\n",
        "            median_exact10,\n",
        "            median_exact11,\n",
        "            median_exact12,\n",
        "            median_exact13,\n",
        "            median_exact14,\n",
        "            median_exact15,\n",
        "            median_exact16,\n",
        "            median_exact17,\n",
        "            median_exact18,\n",
        "            median_exact19,\n",
        "            median_exact20,\n",
        "            median_exact21]\n",
        "\n",
        "upper_exact = [upper_exact1,\n",
        "            upper_exact2,\n",
        "            upper_exact3,\n",
        "            upper_exact4,\n",
        "            upper_exact5,\n",
        "            upper_exact6,\n",
        "            upper_exact7,\n",
        "            upper_exact8,\n",
        "            upper_exact9,\n",
        "            upper_exact10,\n",
        "            upper_exact11,\n",
        "            upper_exact12,\n",
        "            upper_exact13,\n",
        "            upper_exact14,\n",
        "            upper_exact15,\n",
        "            upper_exact16,\n",
        "            upper_exact17,\n",
        "            upper_exact18,\n",
        "            upper_exact19,\n",
        "            upper_exact20,\n",
        "            upper_exact21]"
      ]
    },
    {
      "cell_type": "code",
      "execution_count": 98,
      "metadata": {
        "id": "2MONq-BXQxgA",
        "colab": {
          "base_uri": "https://localhost:8080/",
          "height": 299
        },
        "outputId": "a0e507b6-4aa0-45ea-d4c6-6ee8248978f1"
      },
      "outputs": [
        {
          "output_type": "display_data",
          "data": {
            "text/plain": [
              "<Figure size 432x288 with 1 Axes>"
            ],
            "image/png": "[encoded data removed]"
          },
          "metadata": {
            "needs_background": "light"
          }
        }
      ],
      "source": [
        "### Visualise!\n",
        "\n",
        "title = func\n",
        "plt.figure()\n",
        "\n",
        "plt.plot(median_approx, color = 'Purple')\n",
        "plt.plot(median_exact, color = 'Orange')\n",
        "\n",
        "xstar = np.arange(0, iters+1, step=1)\n",
        "plt.fill_between(xstar, lower_approx, upper_approx, facecolor = 'Purple', alpha=0.4, label='GP CBM Optimization: Approx GP CBM gradients')\n",
        "plt.fill_between(xstar, lower_exact, upper_exact, facecolor = 'Orange', alpha=0.4, label='GP CBM Optimization: Exact GP dCBM gradients')\n",
        "\n",
        "plt.title(title, weight = 'bold')\n",
        "plt.xlabel('(Post-initialization) iteration $\\it{k}$', weight = 'bold')\n",
        "plt.ylabel('log(Regret)', weight = 'bold') \n",
        "plt.legend(loc=0) # add plot legend\n",
        "\n",
        "### Make the x-ticks integers, not floats:\n",
        "count = len(xstar)\n",
        "plt.xticks(np.arange(count), np.arange(0, count))\n",
        "plt.show() #visualize!"
      ]
    },
    {
      "cell_type": "code",
      "execution_count": 99,
      "metadata": {
        "id": "l5dkR2Id2oiu",
        "colab": {
          "base_uri": "https://localhost:8080/"
        },
        "outputId": "86f68d7d-0f3c-4852-809a-cd9f8124e1a2"
      },
      "outputs": [
        {
          "output_type": "execute_result",
          "data": {
            "text/plain": [
              "(536.1863675117493, 490.2149543762207)"
            ]
          },
          "metadata": {},
          "execution_count": 99
        }
      ],
      "source": [
        "time_approx, time_exact\n"
      ]
    },
    {
      "cell_type": "code",
      "source": [
        "### acqFunc attribute x, stddev: run number = 1\n",
        "\n",
        "acqFuncApprox_exact_1 = acqFuncApprox(exact_1.history)\n",
        "acqFuncExact_exact_1 = acqFuncExact(exact_1.history)\n",
        "\n",
        "e1 = np.mean(acqFuncExact_exact_1)\n",
        "a1 = np.mean(acqFuncApprox_exact_1)\n",
        "\n",
        "e1, a1\n"
      ],
      "metadata": {
        "colab": {
          "base_uri": "https://localhost:8080/"
        },
        "id": "uwxv4dmfGsLr",
        "outputId": "4f12d536-fa9a-457e-bfd9-5a116bfb91e6"
      },
      "execution_count": 100,
      "outputs": [
        {
          "output_type": "execute_result",
          "data": {
            "text/plain": [
              "(6.647181962198483, 6.9413347377225865)"
            ]
          },
          "metadata": {},
          "execution_count": 100
        }
      ]
    },
    {
      "cell_type": "code",
      "source": [
        "### acqFunc attribute x, stddev: run number = 2\n",
        "\n",
        "acqFuncApprox_exact_2 = acqFuncApprox(exact_2.history)\n",
        "acqFuncExact_exact_2 = acqFuncExact(exact_2.history)\n",
        "\n",
        "e2 = np.mean(acqFuncExact_exact_2)\n",
        "a2 = np.mean(acqFuncApprox_exact_2)\n",
        "\n",
        "e2, a2\n"
      ],
      "metadata": {
        "colab": {
          "base_uri": "https://localhost:8080/"
        },
        "id": "0YSV00_pGsXe",
        "outputId": "511b73df-3305-4a34-ff8c-ad3f12e756f8"
      },
      "execution_count": 101,
      "outputs": [
        {
          "output_type": "execute_result",
          "data": {
            "text/plain": [
              "(5.719189565771172, 6.712236459318687)"
            ]
          },
          "metadata": {},
          "execution_count": 101
        }
      ]
    },
    {
      "cell_type": "code",
      "source": [
        "### acqFunc attribute x, stddev: run number = 3\n",
        "\n",
        "acqFuncApprox_exact_3 = acqFuncApprox(exact_3.history)\n",
        "acqFuncExact_exact_3 = acqFuncExact(exact_3.history)\n",
        "\n",
        "e3 = np.mean(acqFuncExact_exact_3)\n",
        "a3 = np.mean(acqFuncApprox_exact_3)\n",
        "\n",
        "e3, a3\n"
      ],
      "metadata": {
        "colab": {
          "base_uri": "https://localhost:8080/"
        },
        "id": "HHVmsd2UGsjT",
        "outputId": "d76664f4-87ab-4dfa-c551-9264b2c01115"
      },
      "execution_count": 102,
      "outputs": [
        {
          "output_type": "execute_result",
          "data": {
            "text/plain": [
              "(6.142699744547844, 6.795516000531551)"
            ]
          },
          "metadata": {},
          "execution_count": 102
        }
      ]
    },
    {
      "cell_type": "code",
      "source": [
        "### acqFunc attribute x, stddev: run number = 4\n",
        "\n",
        "acqFuncApprox_exact_4 = acqFuncApprox(exact_4.history)\n",
        "acqFuncExact_exact_4 = acqFuncExact(exact_4.history)\n",
        "\n",
        "e4 = np.mean(acqFuncExact_exact_4)\n",
        "a4 = np.mean(acqFuncApprox_exact_4)\n",
        "\n",
        "e4, a4\n"
      ],
      "metadata": {
        "colab": {
          "base_uri": "https://localhost:8080/"
        },
        "id": "r7O19S2eGsu7",
        "outputId": "9dd1d4c0-8491-4328-dae7-d3b302e6c14a"
      },
      "execution_count": 103,
      "outputs": [
        {
          "output_type": "execute_result",
          "data": {
            "text/plain": [
              "(5.548459056033613, 6.418485370866863)"
            ]
          },
          "metadata": {},
          "execution_count": 103
        }
      ]
    },
    {
      "cell_type": "code",
      "source": [
        "### acqFunc attribute x, stddev: run number = 5\n",
        "\n",
        "acqFuncApprox_exact_5 = acqFuncApprox(exact_5.history)\n",
        "acqFuncExact_exact_5 = acqFuncExact(exact_5.history)\n",
        "\n",
        "e5 = np.mean(acqFuncExact_exact_5)\n",
        "a5 = np.mean(acqFuncApprox_exact_5)\n",
        "\n",
        "e5, a5\n"
      ],
      "metadata": {
        "colab": {
          "base_uri": "https://localhost:8080/"
        },
        "id": "sdb9o6NuGs5m",
        "outputId": "ecfa8106-fea3-40b7-bcb9-4f318c7dcd4e"
      },
      "execution_count": 104,
      "outputs": [
        {
          "output_type": "execute_result",
          "data": {
            "text/plain": [
              "(5.691636589081299, 6.651502982900498)"
            ]
          },
          "metadata": {},
          "execution_count": 104
        }
      ]
    },
    {
      "cell_type": "code",
      "source": [
        "### acqFunc attribute x, stddev: run number = 6\n",
        "\n",
        "acqFuncApprox_exact_6 = acqFuncApprox(exact_6.history)\n",
        "acqFuncExact_exact_6 = acqFuncExact(exact_6.history)\n",
        "\n",
        "e6 = np.mean(acqFuncExact_exact_6)\n",
        "a6 = np.mean(acqFuncApprox_exact_6)\n",
        "\n",
        "e6, a6\n"
      ],
      "metadata": {
        "colab": {
          "base_uri": "https://localhost:8080/"
        },
        "id": "COQl7LZ8GtE0",
        "outputId": "fcecb66a-84b4-4258-8ce1-cc77cfe93e73"
      },
      "execution_count": 105,
      "outputs": [
        {
          "output_type": "execute_result",
          "data": {
            "text/plain": [
              "(5.844259067474243, 6.710292528139284)"
            ]
          },
          "metadata": {},
          "execution_count": 105
        }
      ]
    },
    {
      "cell_type": "code",
      "source": [
        "### acqFunc attribute x, stddev: run number = 7\n",
        "\n",
        "acqFuncApprox_exact_7 = acqFuncApprox(exact_7.history)\n",
        "acqFuncExact_exact_7 = acqFuncExact(exact_7.history)\n",
        "\n",
        "e7 = np.mean(acqFuncExact_exact_7)\n",
        "a7 = np.mean(acqFuncApprox_exact_7)\n",
        "\n",
        "e7, a7\n"
      ],
      "metadata": {
        "colab": {
          "base_uri": "https://localhost:8080/"
        },
        "id": "2gy9EtTzGtP7",
        "outputId": "1f546973-0243-43a8-c1e4-1f77923b52ad"
      },
      "execution_count": 106,
      "outputs": [
        {
          "output_type": "execute_result",
          "data": {
            "text/plain": [
              "(6.274849318368863, 6.940292905500067)"
            ]
          },
          "metadata": {},
          "execution_count": 106
        }
      ]
    },
    {
      "cell_type": "code",
      "source": [
        "### acqFunc attribute x, stddev: run number = 8\n",
        "\n",
        "acqFuncApprox_exact_8 = acqFuncApprox(exact_8.history)\n",
        "acqFuncExact_exact_8 = acqFuncExact(exact_8.history)\n",
        "\n",
        "e8 = np.mean(acqFuncExact_exact_8)\n",
        "a8 = np.mean(acqFuncApprox_exact_8)\n",
        "\n",
        "e8, a8\n"
      ],
      "metadata": {
        "colab": {
          "base_uri": "https://localhost:8080/"
        },
        "id": "S7mn0qoMGtbM",
        "outputId": "276d8d9d-0bab-4fcc-bb14-d52b522e7e74"
      },
      "execution_count": 107,
      "outputs": [
        {
          "output_type": "execute_result",
          "data": {
            "text/plain": [
              "(6.797380024694594, 6.749009710442721)"
            ]
          },
          "metadata": {},
          "execution_count": 107
        }
      ]
    },
    {
      "cell_type": "code",
      "source": [
        "### acqFunc attribute x, stddev: run number = 9\n",
        "\n",
        "acqFuncApprox_exact_9 = acqFuncApprox(exact_9.history)\n",
        "acqFuncExact_exact_9 = acqFuncExact(exact_9.history)\n",
        "\n",
        "e9 = np.mean(acqFuncExact_exact_9)\n",
        "a9 = np.mean(acqFuncApprox_exact_9)\n",
        "\n",
        "e9, a9\n"
      ],
      "metadata": {
        "colab": {
          "base_uri": "https://localhost:8080/"
        },
        "id": "BhljmkNxGtms",
        "outputId": "79be0962-5488-4e68-848f-b9f80304837a"
      },
      "execution_count": 108,
      "outputs": [
        {
          "output_type": "execute_result",
          "data": {
            "text/plain": [
              "(6.538227339443215, 6.871306392142488)"
            ]
          },
          "metadata": {},
          "execution_count": 108
        }
      ]
    },
    {
      "cell_type": "code",
      "source": [
        "### acqFunc attribute x, stddev: run number = 10\n",
        "\n",
        "acqFuncApprox_exact_10 = acqFuncApprox(exact_10.history)\n",
        "acqFuncExact_exact_10 = acqFuncExact(exact_10.history)\n",
        "\n",
        "e10 = np.mean(acqFuncExact_exact_10)\n",
        "a10 = np.mean(acqFuncApprox_exact_10)\n",
        "\n",
        "e10, a10\n"
      ],
      "metadata": {
        "colab": {
          "base_uri": "https://localhost:8080/"
        },
        "id": "W5GZo6k3Gtx8",
        "outputId": "f01aaf40-09fb-4315-b69f-16132eb83d66"
      },
      "execution_count": 109,
      "outputs": [
        {
          "output_type": "execute_result",
          "data": {
            "text/plain": [
              "(6.265416971862022, 7.082520278912023)"
            ]
          },
          "metadata": {},
          "execution_count": 109
        }
      ]
    },
    {
      "cell_type": "code",
      "source": [
        "### acqFunc attribute x, stddev: run number = 11\n",
        "\n",
        "acqFuncApprox_exact_11 = acqFuncApprox(exact_11.history)\n",
        "acqFuncExact_exact_11 = acqFuncExact(exact_11.history)\n",
        "\n",
        "e11 = np.mean(acqFuncExact_exact_11)\n",
        "a11 = np.mean(acqFuncApprox_exact_11)\n",
        "\n",
        "e11, a11\n"
      ],
      "metadata": {
        "colab": {
          "base_uri": "https://localhost:8080/"
        },
        "id": "isKNhDk5Gt9D",
        "outputId": "7bda35a7-5976-4a52-c5dd-328382f4308d"
      },
      "execution_count": 110,
      "outputs": [
        {
          "output_type": "execute_result",
          "data": {
            "text/plain": [
              "(7.124694988278122, 7.176987166862247)"
            ]
          },
          "metadata": {},
          "execution_count": 110
        }
      ]
    },
    {
      "cell_type": "code",
      "source": [
        "### acqFunc attribute x, stddev: run number = 12\n",
        "\n",
        "acqFuncApprox_exact_12 = acqFuncApprox(exact_12.history)\n",
        "acqFuncExact_exact_12 = acqFuncExact(exact_12.history)\n",
        "\n",
        "e12 = np.mean(acqFuncExact_exact_12)\n",
        "a12 = np.mean(acqFuncApprox_exact_12)\n",
        "\n",
        "e12, a12\n"
      ],
      "metadata": {
        "colab": {
          "base_uri": "https://localhost:8080/"
        },
        "id": "8ts-wrSuGuIm",
        "outputId": "ec744f59-a262-4c91-ee1f-5f25f0d283de"
      },
      "execution_count": 111,
      "outputs": [
        {
          "output_type": "execute_result",
          "data": {
            "text/plain": [
              "(5.815513486444952, 6.217099953214749)"
            ]
          },
          "metadata": {},
          "execution_count": 111
        }
      ]
    },
    {
      "cell_type": "code",
      "source": [
        "### acqFunc attribute x, stddev: run number = 13\n",
        "\n",
        "acqFuncApprox_exact_13 = acqFuncApprox(exact_13.history)\n",
        "acqFuncExact_exact_13 = acqFuncExact(exact_13.history)\n",
        "\n",
        "e13 = np.mean(acqFuncExact_exact_13)\n",
        "a13 = np.mean(acqFuncApprox_exact_13)\n",
        "\n",
        "e13, a13\n"
      ],
      "metadata": {
        "colab": {
          "base_uri": "https://localhost:8080/"
        },
        "id": "n0drhEe3GuUL",
        "outputId": "96bb0121-3801-4b16-efd4-55ff6caa18dc"
      },
      "execution_count": 112,
      "outputs": [
        {
          "output_type": "execute_result",
          "data": {
            "text/plain": [
              "(6.353261744599172, 7.144372217952226)"
            ]
          },
          "metadata": {},
          "execution_count": 112
        }
      ]
    },
    {
      "cell_type": "code",
      "source": [
        "### acqFunc attribute x, stddev: run number = 14\n",
        "\n",
        "acqFuncApprox_exact_14 = acqFuncApprox(exact_14.history)\n",
        "acqFuncExact_exact_14 = acqFuncExact(exact_14.history)\n",
        "\n",
        "e14 = np.mean(acqFuncExact_exact_14)\n",
        "a14 = np.mean(acqFuncApprox_exact_14)\n",
        "\n",
        "e14, a14\n"
      ],
      "metadata": {
        "colab": {
          "base_uri": "https://localhost:8080/"
        },
        "id": "R0W3MZaVGues",
        "outputId": "0cd8d850-55c0-446f-fc75-b1754882f0de"
      },
      "execution_count": 113,
      "outputs": [
        {
          "output_type": "execute_result",
          "data": {
            "text/plain": [
              "(6.3210412638962, 6.918760338425495)"
            ]
          },
          "metadata": {},
          "execution_count": 113
        }
      ]
    },
    {
      "cell_type": "code",
      "source": [
        "### acqFunc attribute x, stddev: run number = 15\n",
        "\n",
        "acqFuncApprox_exact_15 = acqFuncApprox(exact_15.history)\n",
        "acqFuncExact_exact_15 = acqFuncExact(exact_15.history)\n",
        "\n",
        "e15 = np.mean(acqFuncExact_exact_15)\n",
        "a15 = np.mean(acqFuncApprox_exact_15)\n",
        "\n",
        "e15, a15\n"
      ],
      "metadata": {
        "colab": {
          "base_uri": "https://localhost:8080/"
        },
        "id": "DoXdDFHoGup-",
        "outputId": "f79653b3-0c2c-4075-887d-2975278f75c0"
      },
      "execution_count": 114,
      "outputs": [
        {
          "output_type": "execute_result",
          "data": {
            "text/plain": [
              "(5.664944786240493, 6.5996825602887)"
            ]
          },
          "metadata": {},
          "execution_count": 114
        }
      ]
    },
    {
      "cell_type": "code",
      "source": [
        "### acqFunc attribute x, stddev: run number = 16\n",
        "\n",
        "acqFuncApprox_exact_16 = acqFuncApprox(exact_16.history)\n",
        "acqFuncExact_exact_16 = acqFuncExact(exact_16.history)\n",
        "\n",
        "e16 = np.mean(acqFuncExact_exact_16)\n",
        "a16 = np.mean(acqFuncApprox_exact_16)\n",
        "\n",
        "e16, a16\n"
      ],
      "metadata": {
        "colab": {
          "base_uri": "https://localhost:8080/"
        },
        "id": "K_wAeqSoGu2j",
        "outputId": "7c462938-21c3-4a96-fb95-30fb203a0211"
      },
      "execution_count": 115,
      "outputs": [
        {
          "output_type": "execute_result",
          "data": {
            "text/plain": [
              "(5.57141784348554, 6.670784693917403)"
            ]
          },
          "metadata": {},
          "execution_count": 115
        }
      ]
    },
    {
      "cell_type": "code",
      "source": [
        "### acqFunc attribute x, stddev: run number = 17\n",
        "\n",
        "acqFuncApprox_exact_17 = acqFuncApprox(exact_17.history)\n",
        "acqFuncExact_exact_17 = acqFuncExact(exact_17.history)\n",
        "\n",
        "e17 = np.mean(acqFuncExact_exact_17)\n",
        "a17 = np.mean(acqFuncApprox_exact_17)\n",
        "\n",
        "e17, a17\n"
      ],
      "metadata": {
        "colab": {
          "base_uri": "https://localhost:8080/"
        },
        "id": "n6zy78fjGvBT",
        "outputId": "e406bcd4-b13b-4fd7-fa19-ba0e3555ac82"
      },
      "execution_count": 116,
      "outputs": [
        {
          "output_type": "execute_result",
          "data": {
            "text/plain": [
              "(6.204319746174172, 6.687209310994069)"
            ]
          },
          "metadata": {},
          "execution_count": 116
        }
      ]
    },
    {
      "cell_type": "code",
      "source": [
        "### acqFunc attribute x, stddev: run number = 18\n",
        "\n",
        "acqFuncApprox_exact_18 = acqFuncApprox(exact_18.history)\n",
        "acqFuncExact_exact_18 = acqFuncExact(exact_18.history)\n",
        "\n",
        "e18 = np.mean(acqFuncExact_exact_18)\n",
        "a18 = np.mean(acqFuncApprox_exact_18)\n",
        "\n",
        "e18, a18\n"
      ],
      "metadata": {
        "colab": {
          "base_uri": "https://localhost:8080/"
        },
        "id": "s_6_2K4iGvM-",
        "outputId": "88c9ddff-4a08-415f-eafd-c1a60e7b3bc6"
      },
      "execution_count": 117,
      "outputs": [
        {
          "output_type": "execute_result",
          "data": {
            "text/plain": [
              "(6.222602920710317, 6.973181167172191)"
            ]
          },
          "metadata": {},
          "execution_count": 117
        }
      ]
    },
    {
      "cell_type": "code",
      "source": [
        "### acqFunc attribute x, stddev: run number = 19\n",
        "\n",
        "acqFuncApprox_exact_19 = acqFuncApprox(exact_19.history)\n",
        "acqFuncExact_exact_19 = acqFuncExact(exact_19.history)\n",
        "\n",
        "e19 = np.mean(acqFuncExact_exact_19)\n",
        "a19 = np.mean(acqFuncApprox_exact_19)\n",
        "\n",
        "e19, a19\n"
      ],
      "metadata": {
        "colab": {
          "base_uri": "https://localhost:8080/"
        },
        "id": "o8oO8pdBGvYk",
        "outputId": "0532a78b-4f44-45b6-f088-2679ee1be9c5"
      },
      "execution_count": 118,
      "outputs": [
        {
          "output_type": "execute_result",
          "data": {
            "text/plain": [
              "(5.70725485307254, 6.593183508694149)"
            ]
          },
          "metadata": {},
          "execution_count": 118
        }
      ]
    },
    {
      "cell_type": "code",
      "source": [
        "### acqFunc attribute x, stddev: run number = 20\n",
        "\n",
        "acqFuncApprox_exact_20 = acqFuncApprox(exact_20.history)\n",
        "acqFuncExact_exact_20 = acqFuncExact(exact_20.history)\n",
        "\n",
        "e20 = np.mean(acqFuncExact_exact_20)\n",
        "a20 = np.mean(acqFuncApprox_exact_20)\n",
        "\n",
        "e20, a20\n"
      ],
      "metadata": {
        "colab": {
          "base_uri": "https://localhost:8080/"
        },
        "id": "b2w8oLc0IMzU",
        "outputId": "e2887a94-0ab7-4565-a52a-5936a3d44e68"
      },
      "execution_count": 119,
      "outputs": [
        {
          "output_type": "execute_result",
          "data": {
            "text/plain": [
              "(6.184802809309662, 6.9475037764467285)"
            ]
          },
          "metadata": {},
          "execution_count": 119
        }
      ]
    },
    {
      "cell_type": "code",
      "source": [
        "### Summarize arrays: \n",
        "\n",
        "exact_stddev = np.sort([e1,e2,e3,e4,e5,e6,e7,e8,e9,e10,e11,e12,e13,e14,e15,e16,e17,e18,e19,e20])\n",
        "approx_stddev = np.sort([a1,a2,a3,a4,a5,a6,a7,a8,a9,a10,a11,a12,a13,a14,a15,a16,a17,a18,a19,a20])\n",
        "\n",
        "np.mean(exact_stddev), np.mean(approx_stddev)\n"
      ],
      "metadata": {
        "colab": {
          "base_uri": "https://localhost:8080/"
        },
        "id": "qAZs3yxMIZul",
        "outputId": "4d80575e-8d6c-4118-a014-371e92e67ad2"
      },
      "execution_count": 120,
      "outputs": [
        {
          "output_type": "execute_result",
          "data": {
            "text/plain": [
              "(6.131957704084327, 6.790063103022237)"
            ]
          },
          "metadata": {},
          "execution_count": 120
        }
      ]
    },
    {
      "cell_type": "code",
      "source": [
        "### Visualise!\n",
        "\n",
        "title = func\n",
        "plt.figure()\n",
        "\n",
        "plt.plot(approx_stddev, color = 'Purple', ls='-', label='Average $\\sigma$, attribute $\\mathbf{x}$: Approx GP CBM gradients')\n",
        "plt.plot(exact_stddev, color = 'Orange', ls='-.', label='Average $\\sigma$, attribute $\\mathbf{x}$: Exact GP dCBM gradients')\n",
        "\n",
        "plt.title(title, weight = 'bold')\n",
        "plt.xlabel('Function evaluations: iteration $\\it{k}$', weight = 'bold')\n",
        "plt.ylabel('GP CBM: Average $\\sigma$, attribute $\\mathbf{x}$', weight = 'bold') \n",
        "plt.legend(loc=0) # add plot legend\n",
        "\n",
        "### Make the x-ticks integers, not floats:\n",
        "count = len(xstar)\n",
        "plt.xticks(np.arange(count), np.arange(1, count))\n",
        "plt.show() #visualize!\n"
      ],
      "metadata": {
        "colab": {
          "base_uri": "https://localhost:8080/",
          "height": 297
        },
        "id": "e_kpqYcMIZxu",
        "outputId": "16151258-6c1d-42c2-ad11-8f5238bdba3a"
      },
      "execution_count": 121,
      "outputs": [
        {
          "output_type": "display_data",
          "data": {
            "text/plain": [
              "<Figure size 432x288 with 1 Axes>"
            ],
            "image/png": "[encoded data removed]"
          },
          "metadata": {
            "needs_background": "light"
          }
        }
      ]
    },
    {
      "cell_type": "code",
      "source": [
        ""
      ],
      "metadata": {
        "id": "LToGd4vZIZ3I"
      },
      "execution_count": 121,
      "outputs": []
    }
  ],
  "metadata": {
    "colab": {
      "collapsed_sections": [],
      "name": "7_Booth_GP_dCBM.ipynb",
      "provenance": []
    },
    "kernelspec": {
      "display_name": "Python 3",
      "name": "python3"
    },
    "language_info": {
      "name": "python"
    }
  },
  "nbformat": 4,
  "nbformat_minor": 0
}