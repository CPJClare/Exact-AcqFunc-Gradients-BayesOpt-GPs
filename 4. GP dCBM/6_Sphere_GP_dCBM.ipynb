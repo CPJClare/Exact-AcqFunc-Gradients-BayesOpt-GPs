{
  "cells": [
    {
      "cell_type": "markdown",
      "metadata": {
        "id": "Dqn4dFx7Z2Ir"
      },
      "source": [
        "\n",
        "Sphere: 2D\n"
      ]
    },
    {
      "cell_type": "code",
      "execution_count": 1,
      "metadata": {
        "colab": {
          "base_uri": "https://localhost:8080/"
        },
        "id": "MJTM_GZZZb5x",
        "outputId": "2a7c72ab-2f6e-4700-b9fb-2b079a265100"
      },
      "outputs": [
        {
          "output_type": "stream",
          "name": "stdout",
          "text": [
            "Looking in indexes: https://pypi.org/simple, https://us-python.pkg.dev/colab-wheels/public/simple/\n",
            "Collecting pyGPGO\n",
            "  Downloading pyGPGO-0.5.1.tar.gz (14 kB)\n",
            "Requirement already satisfied: numpy in /usr/local/lib/python3.7/dist-packages (from pyGPGO) (1.21.6)\n",
            "Requirement already satisfied: mkl in /usr/local/lib/python3.7/dist-packages (from pyGPGO) (2019.0)\n",
            "Requirement already satisfied: scipy in /usr/local/lib/python3.7/dist-packages (from pyGPGO) (1.7.3)\n",
            "Requirement already satisfied: joblib in /usr/local/lib/python3.7/dist-packages (from pyGPGO) (1.1.0)\n",
            "Requirement already satisfied: scikit-learn in /usr/local/lib/python3.7/dist-packages (from pyGPGO) (1.0.2)\n",
            "Requirement already satisfied: Theano-PyMC in /usr/local/lib/python3.7/dist-packages (from pyGPGO) (1.1.2)\n",
            "Requirement already satisfied: pyMC3 in /usr/local/lib/python3.7/dist-packages (from pyGPGO) (3.11.5)\n",
            "Requirement already satisfied: intel-openmp in /usr/local/lib/python3.7/dist-packages (from mkl->pyGPGO) (2022.1.0)\n",
            "Requirement already satisfied: pandas>=0.24.0 in /usr/local/lib/python3.7/dist-packages (from pyMC3->pyGPGO) (1.3.5)\n",
            "Requirement already satisfied: cachetools>=4.2.1 in /usr/local/lib/python3.7/dist-packages (from pyMC3->pyGPGO) (4.2.4)\n",
            "Requirement already satisfied: dill in /usr/local/lib/python3.7/dist-packages (from pyMC3->pyGPGO) (0.3.5.1)\n",
            "Requirement already satisfied: deprecat in /usr/local/lib/python3.7/dist-packages (from pyMC3->pyGPGO) (2.1.1)\n",
            "Requirement already satisfied: fastprogress>=0.2.0 in /usr/local/lib/python3.7/dist-packages (from pyMC3->pyGPGO) (1.0.3)\n",
            "Requirement already satisfied: semver>=2.13.0 in /usr/local/lib/python3.7/dist-packages (from pyMC3->pyGPGO) (2.13.0)\n",
            "Requirement already satisfied: patsy>=0.5.1 in /usr/local/lib/python3.7/dist-packages (from pyMC3->pyGPGO) (0.5.2)\n",
            "Requirement already satisfied: typing-extensions>=3.7.4 in /usr/local/lib/python3.7/dist-packages (from pyMC3->pyGPGO) (4.1.1)\n",
            "Requirement already satisfied: arviz>=0.11.0 in /usr/local/lib/python3.7/dist-packages (from pyMC3->pyGPGO) (0.12.1)\n",
            "Requirement already satisfied: filelock in /usr/local/lib/python3.7/dist-packages (from Theano-PyMC->pyGPGO) (3.7.1)\n",
            "Requirement already satisfied: setuptools>=38.4 in /usr/local/lib/python3.7/dist-packages (from arviz>=0.11.0->pyMC3->pyGPGO) (57.4.0)\n",
            "Requirement already satisfied: xarray>=0.16.1 in /usr/local/lib/python3.7/dist-packages (from arviz>=0.11.0->pyMC3->pyGPGO) (0.20.2)\n",
            "Requirement already satisfied: matplotlib>=3.0 in /usr/local/lib/python3.7/dist-packages (from arviz>=0.11.0->pyMC3->pyGPGO) (3.2.2)\n",
            "Requirement already satisfied: packaging in /usr/local/lib/python3.7/dist-packages (from arviz>=0.11.0->pyMC3->pyGPGO) (21.3)\n",
            "Requirement already satisfied: xarray-einstats>=0.2 in /usr/local/lib/python3.7/dist-packages (from arviz>=0.11.0->pyMC3->pyGPGO) (0.2.2)\n",
            "Requirement already satisfied: netcdf4 in /usr/local/lib/python3.7/dist-packages (from arviz>=0.11.0->pyMC3->pyGPGO) (1.6.0)\n",
            "Requirement already satisfied: cycler>=0.10 in /usr/local/lib/python3.7/dist-packages (from matplotlib>=3.0->arviz>=0.11.0->pyMC3->pyGPGO) (0.11.0)\n",
            "Requirement already satisfied: python-dateutil>=2.1 in /usr/local/lib/python3.7/dist-packages (from matplotlib>=3.0->arviz>=0.11.0->pyMC3->pyGPGO) (2.8.2)\n",
            "Requirement already satisfied: pyparsing!=2.0.4,!=2.1.2,!=2.1.6,>=2.0.1 in /usr/local/lib/python3.7/dist-packages (from matplotlib>=3.0->arviz>=0.11.0->pyMC3->pyGPGO) (3.0.9)\n",
            "Requirement already satisfied: kiwisolver>=1.0.1 in /usr/local/lib/python3.7/dist-packages (from matplotlib>=3.0->arviz>=0.11.0->pyMC3->pyGPGO) (1.4.4)\n",
            "Requirement already satisfied: pytz>=2017.3 in /usr/local/lib/python3.7/dist-packages (from pandas>=0.24.0->pyMC3->pyGPGO) (2022.1)\n",
            "Requirement already satisfied: six in /usr/local/lib/python3.7/dist-packages (from patsy>=0.5.1->pyMC3->pyGPGO) (1.15.0)\n",
            "Requirement already satisfied: importlib-metadata in /usr/local/lib/python3.7/dist-packages (from xarray>=0.16.1->arviz>=0.11.0->pyMC3->pyGPGO) (4.12.0)\n",
            "Requirement already satisfied: wrapt<2,>=1.10 in /usr/local/lib/python3.7/dist-packages (from deprecat->pyMC3->pyGPGO) (1.14.1)\n",
            "Requirement already satisfied: zipp>=0.5 in /usr/local/lib/python3.7/dist-packages (from importlib-metadata->xarray>=0.16.1->arviz>=0.11.0->pyMC3->pyGPGO) (3.8.1)\n",
            "Requirement already satisfied: cftime in /usr/local/lib/python3.7/dist-packages (from netcdf4->arviz>=0.11.0->pyMC3->pyGPGO) (1.6.1)\n",
            "Requirement already satisfied: threadpoolctl>=2.0.0 in /usr/local/lib/python3.7/dist-packages (from scikit-learn->pyGPGO) (3.1.0)\n",
            "Building wheels for collected packages: pyGPGO\n",
            "  Building wheel for pyGPGO (setup.py) ... \u001b[?25l\u001b[?25hdone\n",
            "  Created wheel for pyGPGO: filename=pyGPGO-0.5.1-py3-none-any.whl size=19879 sha256=4195fc6fecf2613b45a5c2d5291f0a5b765acbb3477737d57651b072ae2453e4\n",
            "  Stored in directory: /root/.cache/pip/wheels/c8/5d/0b/2160114e2f1b87791c51b66cf07f89831dbb6f49167950316f\n",
            "Successfully built pyGPGO\n",
            "Installing collected packages: pyGPGO\n",
            "Successfully installed pyGPGO-0.5.1\n"
          ]
        }
      ],
      "source": [
        "pip install pyGPGO\n"
      ]
    },
    {
      "cell_type": "code",
      "execution_count": 2,
      "metadata": {
        "id": "ZJSSPbwPaEUB"
      },
      "outputs": [],
      "source": [
        "### Import:\n",
        "\n",
        "import numpy as np\n",
        "import scipy as sp\n",
        "import pandas as pd\n",
        "import matplotlib.pyplot as plt\n",
        "import warnings\n",
        "import itertools\n",
        "\n",
        "from pyGPGO.GPGO import GPGO\n",
        "from pyGPGO.surrogates.GaussianProcess import GaussianProcess\n",
        "from pyGPGO.acquisition import Acquisition\n",
        "from pyGPGO.covfunc import squaredExponential\n",
        "\n",
        "from joblib import Parallel, delayed\n",
        "from numpy.linalg import solve, cholesky\n",
        "from scipy.spatial.distance import cdist\n",
        "from scipy.optimize import minimize\n",
        "from scipy.stats import norm\n",
        "import time\n",
        "\n",
        "warnings.filterwarnings(\"ignore\", category=RuntimeWarning)\n"
      ]
    },
    {
      "cell_type": "code",
      "execution_count": 3,
      "metadata": {
        "id": "OeYcTUNoaJWa"
      },
      "outputs": [],
      "source": [
        "### Inputs:\n",
        "\n",
        "func = 'Sphere'\n",
        "n_test = 500\n",
        "eps = 1e-08\n",
        "\n",
        "util = 'CBM'\n",
        "\n",
        "n_init = 5 # random initialisations\n",
        "iters = 20\n",
        "opt = True"
      ]
    },
    {
      "cell_type": "code",
      "execution_count": 4,
      "metadata": {
        "id": "xpaEOjdzaPMS"
      },
      "outputs": [],
      "source": [
        "### Objective Function - Sphere(x) 2-D:\n",
        "\n",
        "def objfunc(x1_training, x2_training):\n",
        "            return  operator * ( x1_training ** 2\n",
        "                            + x2_training ** 2\n",
        "                            )\n",
        "        \n",
        "# Constraints:\n",
        "lb = -5.12\n",
        "ub = +5.12\n",
        "    \n",
        "# Input array dimension(s):\n",
        "dim = 2\n",
        "\n",
        "# 2-D inputs' parameter bounds:\n",
        "param = {'x1_training': ('cont', [lb, ub]),\n",
        "                 'x2_training': ('cont', [lb, ub])\n",
        "                 }\n",
        "    \n",
        "# True y bounds:\n",
        "y_lb = 0\n",
        "operator = -1 # targets global minimum \n",
        "y_global_orig = y_lb * operator # targets global minimum\n",
        "    \n",
        "# Test data:\n",
        "x1_test = np.linspace(lb, ub, n_test)\n",
        "x2_test = np.linspace(lb, ub, n_test)\n",
        "x_test = np.column_stack((x1_test, x2_test))\n"
      ]
    },
    {
      "cell_type": "code",
      "execution_count": 5,
      "metadata": {
        "id": "eYpI3Zm4aGxi"
      },
      "outputs": [],
      "source": [
        "n_start_AcqFunc = iters\n",
        "inverse = -1\n"
      ]
    },
    {
      "cell_type": "code",
      "execution_count": 6,
      "metadata": {
        "id": "oO_GUmOoaV0T"
      },
      "outputs": [],
      "source": [
        "### Cumulative Regret Calculators:\n",
        "\n",
        "def min_max_array(x):\n",
        "    new_list = []\n",
        "    for i, num in enumerate(x):\n",
        "            new_list.append(np.min(x[0:i+1]))\n",
        "    return new_list\n",
        "  \n",
        "def acqFuncExact(x):\n",
        "    new_array = []\n",
        "    x = np.array(x) \n",
        "    for i, num in enumerate(x):\n",
        "            new_array = x[:-2][::-3]\n",
        "    return new_array[::-1]\n",
        "\n",
        "def acqFuncApprox(x):\n",
        "    new_array = []\n",
        "    x = np.array(x) \n",
        "    for i, num in enumerate(x):\n",
        "            new_array = x[:-1][::-3]\n",
        "    return new_array[::-1]\n"
      ]
    },
    {
      "cell_type": "code",
      "execution_count": 7,
      "metadata": {
        "id": "kuuJx0IMam9S"
      },
      "outputs": [],
      "source": [
        "### Surrogate derivatives: \n",
        "\n",
        "cov_func = squaredExponential()\n",
        "\n",
        "def kronDelta(X, Xstar):                     # Kronecker's Delta method\n",
        "    return cdist(X, Xstar) < np.finfo(np.float32).eps\n",
        "\n",
        "def se(X, Xstar, sigmaf, l, sigman):         # S.E. kernel method\n",
        "    return sigmaf * np.exp(-0.5 * cdist(X, Xstar) ** 2 / l ** 2) + sigman * kronDelta(X, Xstar)\n",
        "\n",
        "def delta(X, Xstar):                         # Distance between training X and test Xstar vectors\n",
        "    return (X - Xstar)\n",
        "   \n",
        "def der_covmat(X, Xstar, sigmaf, l, sigman): # Covariance matrix derivative terms (i.e. exact, first-order)\n",
        "    nx = len(X)\n",
        "    ny = len(Xstar)\n",
        "    return np.round(np.array([(delta(np.atleast_2d(i), np.atleast_2d(j))[0] * se(np.atleast_2d(i), np.atleast_2d(j), sigmaf, l, sigman)[0]).sum() for (i, j) in itertools.product(X, Xstar)]).reshape(nx, ny), 8)\n",
        "\n",
        "class dGaussianProcess(GaussianProcess):    # Via inheritance, also optimises hyperparameters when opt = TRUE\n",
        "    \n",
        "    def AcqGrad(self, Xstar):               # Method returning exact, first-order derivatives of the GP's posterior mean and standard deviation\n",
        "        Xstar = np.atleast_2d(Xstar)\n",
        "        Kstar = self.covfunc.K(self.X, Xstar).T\n",
        "        \n",
        "        dKstar = der_covmat(self.X, Xstar, self.covfunc.sigmaf, self.covfunc.l, self.covfunc.sigman).T\n",
        "        alpha_Kstar = np.dot(np.linalg.inv(self.K + (self.covfunc.sigman**2) * np.eye(len(self.X))), Kstar.T)\n",
        "        \n",
        "        dm = np.dot(dKstar, self.alpha)\n",
        "        ds = -2 * np.dot(dKstar, alpha_Kstar)\n",
        "        \n",
        "        return dm, ds           \n"
      ]
    },
    {
      "cell_type": "code",
      "execution_count": 8,
      "metadata": {
        "id": "_Dc3YVHVaXz7"
      },
      "outputs": [],
      "source": [
        "### Add exact acquisition function gradient as attribute:\n",
        "\n",
        "Beta_CBM = dim\n",
        "\n",
        "class Acquisition_grad(Acquisition):    \n",
        "    def __init__(self, mode, eps=eps, **params):\n",
        "        \n",
        "        self.params = params\n",
        "        self.eps = eps\n",
        "\n",
        "        mode_dict = {\n",
        "            'CBM': self.CBM\n",
        "        }\n",
        "\n",
        "        self.f = mode_dict[mode]\n",
        "    \n",
        "    def CBM(self, y_global_orig, mean, std, ds, dm):\n",
        "        gamma = (mean - y_global_orig - self.eps) / (std + self.eps)\n",
        "        gamma_h = (mean - y_global_orig) / (std + self.eps)\n",
        "        dsdx = ds / (2 * (std + self.eps))\n",
        "        dmdx = (dm - gamma * dsdx) / (std + self.eps)\n",
        "\n",
        "        f = (std + self.eps) * (gamma + np.sqrt(Beta_CBM))\n",
        "        df = dsdx * (gamma + np.sqrt(Beta_CBM)) + (std + self.eps) * dmdx\n",
        "        df_arr = []\n",
        "\n",
        "        for j in range(0, dim):\n",
        "          df_arr.append(df)\n",
        "        return f, np.asarray(df_arr).transpose()\n",
        "\n",
        "        for j in range(0, dim):\n",
        "          df_arr.append(df)\n",
        "        return f, np.asarray(df_arr).transpose()\n",
        "        \n",
        "    def d_eval(self, y_global_orig, mean, std, ds, dm):\n",
        "    \n",
        "        return self.f(y_global_orig, mean, std, ds, dm, **self.params)\n",
        "        "
      ]
    },
    {
      "cell_type": "code",
      "execution_count": 9,
      "metadata": {
        "id": "PITEQC8YSl7i"
      },
      "outputs": [],
      "source": [
        "## GPGO_multi: \n",
        "\n",
        "class GPGO_multi(GPGO):\n",
        "    n_start = n_start_AcqFunc\n",
        "\n",
        "    def __init__(self, surrogate, acquisition, f, parameter_dict, n_jobs=1):\n",
        "        self.GP = surrogate\n",
        "        self.A = acquisition\n",
        "        self.f = f\n",
        "        self.parameters = parameter_dict\n",
        "        self.n_jobs = n_jobs\n",
        "\n",
        "        self.parameter_key = list(parameter_dict.keys())\n",
        "        self.parameter_value = list(parameter_dict.values())\n",
        "        self.parameter_type = [p[0] for p in self.parameter_value]\n",
        "        self.parameter_range = [p[1] for p in self.parameter_value]\n",
        "\n",
        "        self.history = []\n",
        "        self.header =   'Evaluation \\t Proposed point \\t  Current eval. \\t  Best eval. \\t        Exact EI: StdDev. x \\t Approx EI: StdDev. x '\n",
        "        self.template = '{:3}\\t {}\\t {:3}\\t {:3}\\t {:3}\\t {:3}'\n",
        " \n",
        "    def acqfuncExact(self, xnew, n_start=n_start_AcqFunc):\n",
        "        new_mean, new_var = self.GP.predict(xnew, return_std=True)\n",
        "        new_std = np.sqrt(new_var + eps)\n",
        "        dm, ds = self.GP.AcqGrad(xnew)\n",
        "        f, df = self.A.d_eval(y_global_orig, new_mean, new_std, ds=ds, dm=dm)\n",
        "\n",
        "        return -f, -df\n",
        "   \n",
        "    def acqfuncApprox(self, xnew, n_start=n_start_AcqFunc):\n",
        "        new_mean, new_var = self.GP.predict(xnew, return_std=True)\n",
        "        new_std = np.sqrt(new_var + eps)\n",
        "        dm, ds = self.GP.AcqGrad(xnew)\n",
        "        f, df = self.A.d_eval(y_global_orig, new_mean, new_std, ds=ds, dm=dm)\n",
        "\n",
        "        return -f\n",
        "   \n",
        "    def _optimizeAcq(self, method='L-BFGS-B', n_start=n_start_AcqFunc):\n",
        "        \n",
        "        start_points_dict = [self._sampleParam() for i in range(n_start)]\n",
        "        start_points_arr = np.array([list(s.values())\n",
        "                                     for s in start_points_dict])\n",
        "        x_best = np.empty((n_start, len(self.parameter_key)))\n",
        "        f_best = np.empty((n_start,))\n",
        "        opt = Parallel(n_jobs=self.n_jobs)(delayed(minimize)(self.acqfuncApprox,\n",
        "                                                                 x0=start_point,\n",
        "                                                                 method=method,\n",
        "                                                                 jac = False,\n",
        "                                                                 bounds=self.parameter_range) for start_point in\n",
        "                                               start_points_arr)\n",
        "        x_best = np.array([res.x for res in opt])\n",
        "        f_best = np.array([np.atleast_1d(res.fun)[0] for res in opt])\n",
        "        f_best_min = min(f_best)\n",
        "\n",
        "        self.x_best = x_best\n",
        "        self.f_best = f_best\n",
        "        self.f_best_min = f_best_min\n",
        "        self.x_best_std = np.std(x_best)\n",
        "        self.best = x_best[np.argmin(f_best)]\n",
        "        self.start_points_arr = start_points_arr        \n",
        "        self.history.append(self.x_best_std)\n",
        "\n",
        "        x_best_exact = np.empty((n_start, len(self.parameter_key)))\n",
        "        f_best_exact = np.empty((n_start,))\n",
        "        opt_exact = Parallel(n_jobs=self.n_jobs)(delayed(minimize)(self.acqfuncExact,\n",
        "                                                                 x0=start_point,\n",
        "                                                                 method=method,\n",
        "                                                                 jac = True,\n",
        "                                                                 bounds=self.parameter_range) for start_point in\n",
        "                                               start_points_arr)\n",
        "        x_best_exact = np.array([res.x for res in opt_exact])\n",
        "        f_best_exact = np.array([np.atleast_1d(res.fun)[0] for res in opt_exact])\n",
        "        f_best_min_exact = min(f_best_exact)\n",
        "\n",
        "        self.x_best_exact = x_best_exact\n",
        "        self.f_best_exact = f_best_exact\n",
        "        self.f_best_min_exact = f_best_min_exact\n",
        "        self.x_best_std_exact = np.std(x_best_exact)\n",
        "        self.best_exact = x_best_exact[np.argmin(f_best_exact)]\n",
        "        self.start_points_arr = start_points_arr\n",
        "        self.history.append(self.x_best_std_exact)\n",
        "\n",
        "    def _printInit(self):\n",
        "        print(self.header)\n",
        "        for init_eval in range(self.init_evals):\n",
        "            print(self.template.format('init', self.GP.X[init_eval], inverse * self.GP.y[init_eval], inverse * self.tau, '', ''))\n",
        "      \n",
        "    def _printCurrent(self):\n",
        "        OKGREEN = '\\033[92m'\n",
        "        ENDC = '\\033[0m'\n",
        "        BOLD = '\\033[1m'\n",
        "        eval = str(len(self.GP.y) - self.init_evals)\n",
        "        proposed = str(self.best)\n",
        "        curr_eval = str(inverse * self.GP.y[-1])\n",
        "        curr_best = str(inverse * self.tau)\n",
        "        min_acqfunc = str(self.f_best_min)\n",
        "        min_acqfunc_exact = str(self.f_best_min_exact)\n",
        "        x_best_std = str(self.x_best_std)\n",
        "        x_best_std_exact = str(self.x_best_std_exact)\n",
        "        if float(curr_eval) <= float(curr_best):\n",
        "            eval = BOLD + OKGREEN + eval + ENDC\n",
        "            proposed = BOLD + OKGREEN + proposed + ENDC\n",
        "            curr_eval = BOLD + OKGREEN + curr_eval + ENDC\n",
        "            curr_best = BOLD + OKGREEN + curr_best + ENDC\n",
        "            x_best_std = BOLD + OKGREEN + x_best_std + ENDC\n",
        "            x_best_std_exact = BOLD + OKGREEN + x_best_std_exact + ENDC\n",
        "        print(self.template.format(eval, proposed, curr_eval, curr_best, x_best_std_exact, x_best_std))\n",
        "        \n",
        "    def run(self, max_iter=10, init_evals=3, resume=False):\n",
        "        \n",
        "        if not resume:\n",
        "            self.init_evals = init_evals\n",
        "            self._firstRun(self.init_evals)\n",
        "            self._printInit()\n",
        "        for iteration in range(max_iter):\n",
        "            self._optimizeAcq()\n",
        "            self.updateGP()\n",
        "            self._printCurrent()\n"
      ]
    },
    {
      "cell_type": "code",
      "execution_count": 10,
      "metadata": {
        "id": "b_B-w81BJxKN"
      },
      "outputs": [],
      "source": [
        "## dGPGO:\n",
        "\n",
        "class dGPGO(GPGO):\n",
        "    n_start = n_start_AcqFunc\n",
        "\n",
        "    def __init__(self, surrogate, acquisition, f, parameter_dict, n_jobs=1):\n",
        "        self.GP = surrogate\n",
        "        self.A = acquisition\n",
        "        self.f = f\n",
        "        self.parameters = parameter_dict\n",
        "        self.n_jobs = n_jobs\n",
        "\n",
        "        self.parameter_key = list(parameter_dict.keys())\n",
        "        self.parameter_value = list(parameter_dict.values())\n",
        "        self.parameter_type = [p[0] for p in self.parameter_value]\n",
        "        self.parameter_range = [p[1] for p in self.parameter_value]\n",
        "\n",
        "        self.history = []\n",
        "        self.header =   'Evaluation \\t Proposed point \\t  Current eval. \\t  Best eval. \\t        Exact EI: StdDev. x \\t Approx EI: StdDev. x '\n",
        "        self.template = '{:3}\\t {}\\t {:3}\\t {:3}\\t {:3}\\t {:3}'\n",
        "\n",
        "    def acqfuncExact(self, xnew, n_start=n_start_AcqFunc):\n",
        "        new_mean, new_var = self.GP.predict(xnew, return_std=True)\n",
        "        new_std = np.sqrt(new_var + eps)\n",
        "        dm, ds = self.GP.AcqGrad(xnew)\n",
        "        f, df = self.A.d_eval(y_global_orig, new_mean, new_std, ds=ds, dm=dm)\n",
        "\n",
        "        return -f, -df\n",
        "   \n",
        "    def acqfuncApprox(self, xnew, n_start=n_start_AcqFunc):\n",
        "        new_mean, new_var = self.GP.predict(xnew, return_std=True)\n",
        "        new_std = np.sqrt(new_var + eps)\n",
        "        dm, ds = self.GP.AcqGrad(xnew)\n",
        "        f, df = self.A.d_eval(y_global_orig, new_mean, new_std, ds=ds, dm=dm)\n",
        "\n",
        "        return -f\n",
        "\n",
        "    def d_optimizeAcq(self, method='L-BFGS-B', n_start=n_start_AcqFunc):\n",
        "        start_points_dict = [self._sampleParam() for i in range(n_start)]\n",
        "        start_points_arr = np.array([list(s.values())\n",
        "                                     for s in start_points_dict])\n",
        "        x_best = np.empty((n_start, len(self.parameter_key)))\n",
        "        f_best = np.empty((n_start,))\n",
        "        opt = Parallel(n_jobs=self.n_jobs)(delayed(minimize)(self.acqfuncExact,\n",
        "                                                                 x0=start_point,\n",
        "                                                                 method=method,\n",
        "                                                                 jac = True,\n",
        "                                                                 bounds=self.parameter_range) for start_point in\n",
        "                                               start_points_arr)\n",
        "        x_best = np.array([res.x for res in opt])\n",
        "        f_best = np.array([np.atleast_1d(res.fun)[0] for res in opt])\n",
        "        f_best_min = min(f_best)\n",
        "\n",
        "        self.x_best = x_best\n",
        "        self.f_best = f_best\n",
        "        self.f_best_min = f_best_min\n",
        "        self.x_best_std = np.std(x_best)\n",
        "        self.best = x_best[np.argmin(f_best)]\n",
        "        self.start_points_arr = start_points_arr\n",
        "        self.history.append(self.x_best_std)\n",
        "\n",
        "        x_best_approx = np.empty((n_start, len(self.parameter_key)))\n",
        "        f_best_approx = np.empty((n_start,))\n",
        "        opt_approx = Parallel(n_jobs=self.n_jobs)(delayed(minimize)(self.acqfuncApprox,\n",
        "                                                                 x0=start_point,\n",
        "                                                                 method=method,\n",
        "                                                                 jac = False,\n",
        "                                                                 bounds=self.parameter_range) for start_point in\n",
        "                                               start_points_arr)\n",
        "        x_best_approx = np.array([res.x for res in opt_approx])\n",
        "        f_best_approx = np.array([np.atleast_1d(res.fun)[0] for res in opt_approx])\n",
        "        f_best_min_approx = min(f_best_approx)\n",
        "\n",
        "        self.x_best_approx = x_best_approx\n",
        "        self.f_best_approx = f_best_approx\n",
        "        self.f_best_min_approx = f_best_min_approx\n",
        "        self.x_best_std_approx = np.std(x_best_approx)\n",
        "        self.best_approx = x_best_approx[np.argmin(f_best_approx)]\n",
        "        self.start_points_arr = start_points_arr\n",
        "        self.history.append(self.x_best_std_approx)\n",
        "    \n",
        "    def _printInit(self):\n",
        "        print(self.header)\n",
        "        for init_eval in range(self.init_evals):\n",
        "            print(self.template.format('init', self.GP.X[init_eval], inverse * self.GP.y[init_eval], inverse * self.tau, '', ''))\n",
        "      \n",
        "    def _printCurrent(self):\n",
        "        OKGREEN = '\\033[92m'\n",
        "        ENDC = '\\033[0m'\n",
        "        BOLD = '\\033[1m'\n",
        "        eval = str(len(self.GP.y) - self.init_evals)\n",
        "        proposed = str(self.best)\n",
        "        curr_eval = str(inverse * self.GP.y[-1])\n",
        "        curr_best = str(inverse * self.tau)\n",
        "        min_acqfunc = str(self.f_best_min)\n",
        "        min_acqfunc_approx = str(self.f_best_min_approx)\n",
        "        x_best_std = str(self.x_best_std)\n",
        "        x_best_std_approx = str(self.x_best_std_approx)\n",
        "        if float(curr_eval) <= float(curr_best):\n",
        "            eval = BOLD + OKGREEN + eval + ENDC\n",
        "            proposed = BOLD + OKGREEN + proposed + ENDC\n",
        "            curr_eval = BOLD + OKGREEN + curr_eval + ENDC\n",
        "            curr_best = BOLD + OKGREEN + curr_best + ENDC\n",
        "            x_best_std = BOLD + OKGREEN + x_best_std + ENDC\n",
        "            x_best_std_approx = BOLD + OKGREEN + x_best_std_approx + ENDC\n",
        "        print(self.template.format(eval, proposed, curr_eval, curr_best, x_best_std, x_best_std_approx))\n",
        "\n",
        "    def run(self, max_iter=10, init_evals=3, resume=False):\n",
        "        \n",
        "        if not resume:\n",
        "            self.init_evals = init_evals\n",
        "            self._firstRun(self.init_evals)\n",
        "            self._printInit()\n",
        "        for iteration in range(max_iter):\n",
        "            self.d_optimizeAcq()\n",
        "            self.updateGP()\n",
        "            self._printCurrent()\n"
      ]
    },
    {
      "cell_type": "code",
      "execution_count": 11,
      "metadata": {
        "id": "qXIKGuXVGEg2"
      },
      "outputs": [],
      "source": [
        "###Reproducible set-seeds:\n",
        "\n",
        "run_num_1 = 1\n",
        "run_num_2 = 2\n",
        "run_num_3 = 3\n",
        "run_num_4 = 4\n",
        "run_num_5 = 5\n",
        "run_num_6 = 6\n",
        "run_num_7 = 7\n",
        "run_num_8 = 8\n",
        "run_num_9 = 9\n",
        "run_num_10 = 10\n",
        "run_num_11 = 11\n",
        "run_num_12 = 12\n",
        "run_num_13 = 13\n",
        "run_num_14 = 14\n",
        "run_num_15 = 15\n",
        "run_num_16 = 16\n",
        "run_num_17 = 17\n",
        "run_num_18 = 18\n",
        "run_num_19 = 19\n",
        "run_num_20 = 20\n"
      ]
    },
    {
      "cell_type": "code",
      "execution_count": 12,
      "metadata": {
        "colab": {
          "base_uri": "https://localhost:8080/"
        },
        "id": "JEhagQmnTVIK",
        "outputId": "2a239b5f-0622-4ecb-e233-01d8a6654531"
      },
      "outputs": [
        {
          "output_type": "execute_result",
          "data": {
            "text/plain": [
              "1659634784.9155078"
            ]
          },
          "metadata": {},
          "execution_count": 12
        }
      ],
      "source": [
        "start_approx = time.time()\n",
        "start_approx\n"
      ]
    },
    {
      "cell_type": "code",
      "execution_count": 13,
      "metadata": {
        "colab": {
          "base_uri": "https://localhost:8080/"
        },
        "id": "aH0YSTXufD1v",
        "outputId": "0ffdfc4c-5ab1-4980-d0a4-078a690a7faf"
      },
      "outputs": [
        {
          "output_type": "stream",
          "name": "stdout",
          "text": [
            "Evaluation \t Proposed point \t  Current eval. \t  Best eval. \t        Exact EI: StdDev. x \t Approx EI: StdDev. x \n",
            "init\t [-0.84969467  2.25612281]\t 5.812071182014687\t 1.275455677703416\t    \t    \n",
            "init\t [-5.1188288  -2.02411446]\t 30.299447634857913\t 1.275455677703416\t    \t    \n",
            "init\t [-3.61721968 -4.17445279]\t 30.510334291475417\t 1.275455677703416\t    \t    \n",
            "init\t [-3.21269544 -1.58145816]\t 12.822421857501787\t 1.275455677703416\t    \t    \n",
            "init\t [-1.05710106  0.39748336]\t 1.275455677703416\t 1.275455677703416\t    \t    \n",
            "1  \t [ 4.04077223 -4.24914728]\t 34.383092818836786\t 1.275455677703416\t 3.691785971903543\t 4.210350150347429\n",
            "2  \t [4.5988851 5.12     ]\t 47.36414416975239\t 1.275455677703416\t 3.203911494720302\t 3.5519473993112305\n",
            "3  \t [-5.12  5.12]\t 52.4288\t 1.275455677703416\t 3.336983928256136\t 3.858661566198433\n",
            "4  \t [5.12       0.34960602]\t 26.33662436715262\t 1.275455677703416\t 3.5966569341686987\t 3.6281886384274196\n",
            "5  \t [ 0.66573509 -2.04884232]\t 4.640958055089854\t 1.275455677703416\t 2.7245929693121216\t 2.8186583955034736\n",
            "6  \t [0.53844792 5.12      ]\t 26.504326158929132\t 1.275455677703416\t 3.02434716456847\t 3.2066215821847757\n",
            "7  \t [ 0.13275115 -5.12      ]\t 26.232022868612376\t 1.275455677703416\t 3.1319425855671517\t 3.152570284991756\n",
            "8  \t [-5.12        1.48760954]\t 28.42738214751791\t 1.275455677703416\t 3.271223078503151\t 3.3685873087211196\n",
            "9  \t [1.84457013 1.21731221]\t 4.88428796230712\t 1.275455677703416\t 3.087196359754338\t 2.9711104205664483\n",
            "10 \t [ 2.68021448 -1.32375456]\t 8.935875805079071\t 1.275455677703416\t 3.0893123812127814\t 3.1949043888137747\n",
            "11 \t [-2.26466953  4.01155339]\t 21.22128872111108\t 1.275455677703416\t 2.7325317267611102\t 2.6522375606230564\n",
            "\u001b[1m\u001b[92m12\u001b[0m\t \u001b[1m\u001b[92m[-0.68428061 -0.61600804]\u001b[0m\t \u001b[1m\u001b[92m0.8477058585586745\u001b[0m\t \u001b[1m\u001b[92m0.8477058585586745\u001b[0m\t \u001b[1m\u001b[92m2.85598154270905\u001b[0m\t \u001b[1m\u001b[92m2.696569792292235\u001b[0m\n",
            "13 \t [2.7140534  2.81420251]\t 15.285821637065117\t 0.8477058585586745\t 2.3607729324100952\t 2.483070141707792\n",
            "\u001b[1m\u001b[92m14\u001b[0m\t \u001b[1m\u001b[92m[0.1822553 0.0957557]\u001b[0m\t \u001b[1m\u001b[92m0.04238614774566802\u001b[0m\t \u001b[1m\u001b[92m0.04238614774566802\u001b[0m\t \u001b[1m\u001b[92m3.105122434725074\u001b[0m\t \u001b[1m\u001b[92m2.6202344368294868\u001b[0m\n",
            "\u001b[1m\u001b[92m15\u001b[0m\t \u001b[1m\u001b[92m[0.15402863 0.08374192]\u001b[0m\t \u001b[1m\u001b[92m0.03073752885382062\u001b[0m\t \u001b[1m\u001b[92m0.03073752885382062\u001b[0m\t \u001b[1m\u001b[92m2.4443221892616602\u001b[0m\t \u001b[1m\u001b[92m1.8793789016033149\u001b[0m\n",
            "\u001b[1m\u001b[92m16\u001b[0m\t \u001b[1m\u001b[92m[0.13374502 0.07471912]\u001b[0m\t \u001b[1m\u001b[92m0.023470677868539406\u001b[0m\t \u001b[1m\u001b[92m0.023470677868539406\u001b[0m\t \u001b[1m\u001b[92m2.746523400288935\u001b[0m\t \u001b[1m\u001b[92m2.7011946744807176\u001b[0m\n",
            "\u001b[1m\u001b[92m17\u001b[0m\t \u001b[1m\u001b[92m[0.12026905 0.06865033]\u001b[0m\t \u001b[1m\u001b[92m0.01917751231161806\u001b[0m\t \u001b[1m\u001b[92m0.01917751231161806\u001b[0m\t \u001b[1m\u001b[92m2.9574919631014454\u001b[0m\t \u001b[1m\u001b[92m2.621099564675461\u001b[0m\n",
            "\u001b[1m\u001b[92m18\u001b[0m\t \u001b[1m\u001b[92m[0.11117882 0.06458751]\u001b[0m\t \u001b[1m\u001b[92m0.016532277285071416\u001b[0m\t \u001b[1m\u001b[92m0.016532277285071416\u001b[0m\t \u001b[1m\u001b[92m3.0077457228886297\u001b[0m\t \u001b[1m\u001b[92m2.5328645876865714\u001b[0m\n",
            "\u001b[1m\u001b[92m19\u001b[0m\t \u001b[1m\u001b[92m[0.1049009  0.06183054]\u001b[0m\t \u001b[1m\u001b[92m0.014827213732772225\u001b[0m\t \u001b[1m\u001b[92m0.014827213732772225\u001b[0m\t \u001b[1m\u001b[92m3.1079343671045483\u001b[0m\t \u001b[1m\u001b[92m3.1365170380146608\u001b[0m\n",
            "\u001b[1m\u001b[92m20\u001b[0m\t \u001b[1m\u001b[92m[0.10046247 0.05993846]\u001b[0m\t \u001b[1m\u001b[92m0.013685327081014463\u001b[0m\t \u001b[1m\u001b[92m0.013685327081014463\u001b[0m\t \u001b[1m\u001b[92m2.6796147345812247\u001b[0m\t \u001b[1m\u001b[92m2.3856184922726222\u001b[0m\n"
          ]
        }
      ],
      "source": [
        "### ESTIMATED GP EI GRADIENTS\n",
        "\n",
        "np.random.seed(run_num_1)\n",
        "surrogate_approx_1 = dGaussianProcess(cov_func, optimize=opt)\n",
        "\n",
        "approx_1 = GPGO_multi(surrogate_approx_1, Acquisition_grad(util), objfunc, param)\n",
        "approx_1.run(init_evals=n_init, max_iter=iters)\n"
      ]
    },
    {
      "cell_type": "code",
      "execution_count": 14,
      "metadata": {
        "id": "wTxsSZxFGBB5",
        "colab": {
          "base_uri": "https://localhost:8080/"
        },
        "outputId": "524c1ed6-8dc9-416b-a364-465994294788"
      },
      "outputs": [
        {
          "output_type": "stream",
          "name": "stdout",
          "text": [
            "Evaluation \t Proposed point \t  Current eval. \t  Best eval. \t        Exact EI: StdDev. x \t Approx EI: StdDev. x \n",
            "init\t [-0.6554122  -4.85451539]\t 23.995884788327533\t 0.6972563370202991\t    \t    \n",
            "init\t [ 0.50854377 -0.6622987 ]\t 0.6972563370202991\t 0.6972563370202991\t    \t    \n",
            "init\t [-0.81543371 -1.73737143]\t 3.683391625826377\t 0.6972563370202991\t    \t    \n",
            "init\t [-3.02439799  1.2213347 ]\t 10.638641624769724\t 0.6972563370202991\t    \t    \n",
            "init\t [-2.05153614 -2.3876887 ]\t 9.90985788235879\t 0.6972563370202991\t    \t    \n",
            "1  \t [4.81874241 3.07464552]\t 32.673723450709105\t 0.6972563370202991\t 3.7392471818164985\t 3.803265468944183\n",
            "2  \t [ 5.12       -4.88716149]\t 50.09874746146686\t 0.6972563370202991\t 3.059133412075313\t 3.969792722960523\n",
            "3  \t [-0.00756968  5.12      ]\t 26.214457300112368\t 0.6972563370202991\t 3.544780390813184\t 3.808979970221521\n",
            "4  \t [-5.12  5.12]\t 52.4288\t 0.6972563370202991\t 3.508404587947239\t 3.6184250168505763\n",
            "5  \t [-5.12 -5.12]\t 52.4288\t 0.6972563370202991\t 3.99416827448979\t 3.3439515898087775\n",
            "6  \t [ 3.52409155 -0.91464385]\t 13.25579459154452\t 0.6972563370202991\t 3.103261537249058\t 3.0510852693819226\n",
            "7  \t [0.89194721 1.59553119]\t 3.3412896244455537\t 0.6972563370202991\t 2.801572100685598\t 2.8898877792098\n",
            "8  \t [-5.12       -1.21274345]\t 27.685146672938316\t 0.6972563370202991\t 3.1626931713366377\t 2.84336461572515\n",
            "9  \t [ 1.97940224 -3.34886744]\t 15.132946382298918\t 0.6972563370202991\t 2.7597850019173293\t 2.865164566727687\n",
            "\u001b[1m\u001b[92m10\u001b[0m\t \u001b[1m\u001b[92m[-0.56873103  0.26833379]\u001b[0m\t \u001b[1m\u001b[92m0.39545800211312665\u001b[0m\t \u001b[1m\u001b[92m0.39545800211312665\u001b[0m\t \u001b[1m\u001b[92m3.1058772224594957\u001b[0m\t \u001b[1m\u001b[92m2.9783396887256277\u001b[0m\n",
            "11 \t [2.87539121 5.12      ]\t 34.48227460858636\t 0.39545800211312665\t 2.94443716477875\t 3.0445477533619223\n",
            "12 \t [-2.31313417  3.54488071]\t 17.91676894772641\t 0.39545800211312665\t 2.5830726889486906\t 2.4173440258500802\n",
            "13 \t [-5.12        1.94595971]\t 30.001159182486045\t 0.39545800211312665\t 3.152674674353079\t 3.006907827411958\n",
            "\u001b[1m\u001b[92m14\u001b[0m\t \u001b[1m\u001b[92m[-0.55935137  0.19189127]\u001b[0m\t \u001b[1m\u001b[92m0.34969621861018585\u001b[0m\t \u001b[1m\u001b[92m0.34969621861018585\u001b[0m\t \u001b[1m\u001b[92m3.234286867240011\u001b[0m\t \u001b[1m\u001b[92m2.900785548068761\u001b[0m\n",
            "15 \t [ 0.68421597 -0.24455055]\t 0.5279564597222487\t 0.34969621861018585\t 2.5203031891957917\t 2.187583062580218\n",
            "16 \t [-0.60995743  0.25565374]\t 0.43740689849037334\t 0.34969621861018585\t 3.0008585475537823\t 2.652658356577253\n",
            "\u001b[1m\u001b[92m17\u001b[0m\t \u001b[1m\u001b[92m[-0.06823967 -0.13992769]\u001b[0m\t \u001b[1m\u001b[92m0.02423641232251451\u001b[0m\t \u001b[1m\u001b[92m0.02423641232251451\u001b[0m\t \u001b[1m\u001b[92m2.734516044702427\u001b[0m\t \u001b[1m\u001b[92m2.6355905430614386\u001b[0m\n",
            "\u001b[1m\u001b[92m18\u001b[0m\t \u001b[1m\u001b[92m[-0.07301021 -0.13550222]\u001b[0m\t \u001b[1m\u001b[92m0.02369134224714307\u001b[0m\t \u001b[1m\u001b[92m0.02369134224714307\u001b[0m\t \u001b[1m\u001b[92m2.2769929761265564\u001b[0m\t \u001b[1m\u001b[92m2.3017371294626234\u001b[0m\n",
            "\u001b[1m\u001b[92m19\u001b[0m\t \u001b[1m\u001b[92m[-0.07845789 -0.13074311]\u001b[0m\t \u001b[1m\u001b[92m0.02324940050357468\u001b[0m\t \u001b[1m\u001b[92m0.02324940050357468\u001b[0m\t \u001b[1m\u001b[92m2.8011542983471016\u001b[0m\t \u001b[1m\u001b[92m2.1389766691383065\u001b[0m\n",
            "\u001b[1m\u001b[92m20\u001b[0m\t \u001b[1m\u001b[92m[-0.08372713 -0.12636359]\u001b[0m\t \u001b[1m\u001b[92m0.022977991033568887\u001b[0m\t \u001b[1m\u001b[92m0.022977991033568887\u001b[0m\t \u001b[1m\u001b[92m2.620912218646335\u001b[0m\t \u001b[1m\u001b[92m2.518652469729642\u001b[0m\n"
          ]
        }
      ],
      "source": [
        "### ESTIMATED GP EI GRADIENTS\n",
        "\n",
        "np.random.seed(run_num_2)\n",
        "surrogate_approx_2 = dGaussianProcess(cov_func, optimize=opt)\n",
        "\n",
        "approx_2 = GPGO_multi(surrogate_approx_2, Acquisition_grad(util), objfunc, param)\n",
        "approx_2.run(init_evals=n_init, max_iter=iters)\n"
      ]
    },
    {
      "cell_type": "code",
      "execution_count": 15,
      "metadata": {
        "id": "-dgzIrUIGCGT",
        "colab": {
          "base_uri": "https://localhost:8080/"
        },
        "outputId": "034d5ea4-ba13-4413-a9e4-d659e298cbed"
      },
      "outputs": [
        {
          "output_type": "stream",
          "name": "stdout",
          "text": [
            "Evaluation \t Proposed point \t  Current eval. \t  Best eval. \t        Exact EI: StdDev. x \t Approx EI: StdDev. x \n",
            "init\t [0.52017052 2.1314337 ]\t 4.813587005218131\t 4.59675431006429\t    \t    \n",
            "init\t [-2.14113547  0.11087468]\t 4.59675431006429\t 4.59675431006429\t    \t    \n",
            "init\t [4.02377681 4.05804123]\t 32.65847846685941\t 4.59675431006429\t    \t    \n",
            "init\t [-3.83400642 -2.99783293]\t 23.686607498512902\t 4.59675431006429\t    \t    \n",
            "init\t [-4.59297584 -0.6061072 ]\t 21.462792989409664\t 4.59675431006429\t    \t    \n",
            "1  \t [ 4.62620661 -1.72679436]\t 24.38360633802604\t 4.59675431006429\t 2.215013408667592\t 3.5171310798317847\n",
            "2  \t [-4.45081374  5.12      ]\t 46.02414292291322\t 4.59675431006429\t 2.8365036797514\t 4.058360810581519\n",
            "3  \t [ 0.82902811 -5.12      ]\t 26.901687613919048\t 4.59675431006429\t 3.199158923462809\t 3.4974170760526233\n",
            "4  \t [-0.32997453  5.12      ]\t 26.323283189989358\t 4.59675431006429\t 3.065409022560519\t 2.9432161304785622\n",
            "\u001b[1m\u001b[92m5\u001b[0m\t \u001b[1m\u001b[92m[ 0.82867679 -1.27970313]\u001b[0m\t \u001b[1m\u001b[92m2.324345319775305\u001b[0m\t \u001b[1m\u001b[92m2.324345319775305\u001b[0m\t \u001b[1m\u001b[92m3.2746163044060888\u001b[0m\t \u001b[1m\u001b[92m3.3107410339424943\u001b[0m\n",
            "6  \t [ 5.12 -5.12]\t 52.4288\t 2.324345319775305\t 2.855612054677122\t 2.9759818260300985\n",
            "7  \t [2.813975   0.86166033]\t 8.660913825286528\t 2.324345319775305\t 3.4694497908519124\t 3.2199116347844696\n",
            "8  \t [-2.45855654  2.4520434 ]\t 12.057017115177903\t 2.324345319775305\t 3.2427375704084893\t 3.1266068561857\n",
            "9  \t [-0.8580904  -2.37143894]\t 6.360041758389119\t 2.324345319775305\t 2.82959110263673\t 2.6420759979333996\n",
            "10 \t [-2.15765071 -5.12      ]\t 30.869856571376626\t 2.324345319775305\t 2.9556146569568083\t 2.6385666183073653\n",
            "11 \t [5.12       1.25051233]\t 27.778181093867747\t 2.324345319775305\t 3.714389180996154\t 3.2167346131528896\n",
            "12 \t [-5.12        2.10061114]\t 30.626967166971923\t 2.324345319775305\t 2.9665395150958656\t 2.5180897794057353\n",
            "13 \t [-5.12 -5.12]\t 52.4288\t 2.324345319775305\t 3.4005705003544686\t 2.7933994002961957\n",
            "14 \t [ 1.95873039 -2.47334927]\t 9.954081349412167\t 2.324345319775305\t 2.2962686338559974\t 2.165084966850952\n",
            "\u001b[1m\u001b[92m15\u001b[0m\t \u001b[1m\u001b[92m[0.09906621 0.02328521]\u001b[0m\t \u001b[1m\u001b[92m0.010356315341967261\u001b[0m\t \u001b[1m\u001b[92m0.010356315341967261\u001b[0m\t \u001b[1m\u001b[92m2.737148443737079\u001b[0m\t \u001b[1m\u001b[92m2.3496922874757193\u001b[0m\n",
            "16 \t [0.11484122 0.01097812]\t 0.01330902397144901\t 0.010356315341967261\t 2.890085564845756\t 2.4613395779431118\n",
            "17 \t [0.12384195 0.00409535]\t 0.015353599559237627\t 0.010356315341967261\t 2.20412024058852\t 1.6563758733894505\n",
            "18 \t [0.12750706 0.00024968]\t 0.01625811370298686\t 0.010356315341967261\t 2.7965204676234343\t 2.454910395488148\n",
            "19 \t [ 0.1283006  -0.00196171]\t 0.016464892261788443\t 0.010356315341967261\t 2.938188480696316\t 2.6753048518095848\n",
            "20 \t [ 0.12826798 -0.00331216]\t 0.016463644407719403\t 0.010356315341967261\t 2.1474474337186162\t 1.218226644386571\n"
          ]
        }
      ],
      "source": [
        "### ESTIMATED GP EI GRADIENTS\n",
        "\n",
        "np.random.seed(run_num_3)\n",
        "surrogate_approx_3 = dGaussianProcess(cov_func, optimize=opt)\n",
        "\n",
        "approx_3 = GPGO_multi(surrogate_approx_3, Acquisition_grad(util), objfunc, param)\n",
        "approx_3.run(init_evals=n_init, max_iter=iters)\n"
      ]
    },
    {
      "cell_type": "code",
      "execution_count": 16,
      "metadata": {
        "id": "hOtG-2sCGCKS",
        "colab": {
          "base_uri": "https://localhost:8080/"
        },
        "outputId": "43a6c7d1-35a3-4209-dc08-da559e9062d9"
      },
      "outputs": [
        {
          "output_type": "stream",
          "name": "stdout",
          "text": [
            "Evaluation \t Proposed point \t  Current eval. \t  Best eval. \t        Exact EI: StdDev. x \t Approx EI: StdDev. x \n",
            "init\t [4.78238555 0.48365823]\t 23.1051368481516\t 6.844040613967918\t    \t    \n",
            "init\t [4.84028785 2.19971578]\t 28.267135924302462\t 6.844040613967918\t    \t    \n",
            "init\t [ 2.02474316 -2.90724357]\t 12.551650027390728\t 6.844040613967918\t    \t    \n",
            "init\t [ 4.87705042 -5.05620219]\t 49.3508013219099\t 6.844040613967918\t    \t    \n",
            "init\t [-2.52946061 -0.66773471]\t 6.844040613967918\t 6.844040613967918\t    \t    \n",
            "1  \t [-5.12        4.13896292]\t 43.345414074890286\t 6.844040613967918\t 2.9144395930511804\t 3.9081554543960904\n",
            "2  \t [-5.12 -5.12]\t 52.4288\t 6.844040613967918\t 3.7903581136872613\t 4.199794314463703\n",
            "3  \t [0.30990389 5.12      ]\t 26.310440419430538\t 6.844040613967918\t 3.27561430614555\t 3.641025597434746\n",
            "4  \t [-0.95720958 -5.12      ]\t 27.13065018759924\t 6.844040613967918\t 3.2225781931339115\t 3.1589772281928346\n",
            "\u001b[1m\u001b[92m5\u001b[0m\t \u001b[1m\u001b[92m[0.70233408 1.02862293]\u001b[0m\t \u001b[1m\u001b[92m1.5513383070776192\u001b[0m\t \u001b[1m\u001b[92m1.5513383070776192\u001b[0m\t \u001b[1m\u001b[92m3.1086169003271573\u001b[0m\t \u001b[1m\u001b[92m3.012512479144109\u001b[0m\n",
            "6  \t [-5.12        0.39159677]\t 26.36774802710785\t 1.5513383070776192\t 2.9170106070966773\t 2.9898499474663764\n",
            "7  \t [-1.78910455  2.34280556]\t 8.689632973990259\t 1.5513383070776192\t 2.697173129634214\t 2.766812249114243\n",
            "8  \t [3.78075043 5.12      ]\t 40.5084738137723\t 1.5513383070776192\t 2.738319541718894\t 2.580950942671581\n",
            "\u001b[1m\u001b[92m9\u001b[0m\t \u001b[1m\u001b[92m[ 0.05984915 -0.88684651]\u001b[0m\t \u001b[1m\u001b[92m0.7900786506310848\u001b[0m\t \u001b[1m\u001b[92m0.7900786506310848\u001b[0m\t \u001b[1m\u001b[92m2.5369240577269743\u001b[0m\t \u001b[1m\u001b[92m2.8406663121062254\u001b[0m\n",
            "10 \t [1.68627297 2.27166056]\t 8.003958224011946\t 0.7900786506310848\t 3.2366532080563553\t 3.0693541739321875\n",
            "11 \t [ 1.62658668 -0.28499449]\t 2.727006097007241\t 0.7900786506310848\t 3.0782945848730523\t 3.0842582122948836\n",
            "12 \t [-0.70133909 -2.10941748]\t 4.941518609399909\t 0.7900786506310848\t 2.647270048452829\t 3.2483140494486746\n",
            "13 \t [ 5.12       -2.08936791]\t 30.57985824964434\t 0.7900786506310848\t 2.884487772392564\t 3.1928257795414905\n",
            "14 \t [-3.32050678 -2.67765345]\t 18.195593240308483\t 0.7900786506310848\t 2.131988390884807\t 2.3173467225693534\n",
            "\u001b[1m\u001b[92m15\u001b[0m\t \u001b[1m\u001b[92m[-0.29486219  0.24280724]\u001b[0m\t \u001b[1m\u001b[92m0.14589906706906272\u001b[0m\t \u001b[1m\u001b[92m0.14589906706906272\u001b[0m\t \u001b[1m\u001b[92m2.716789094318707\u001b[0m\t \u001b[1m\u001b[92m2.310725805686766\u001b[0m\n",
            "16 \t [-2.41182387  5.12      ]\t 32.0312943844214\t 0.14589906706906272\t 2.7667399674297433\t 2.646655811830912\n",
            "\u001b[1m\u001b[92m17\u001b[0m\t \u001b[1m\u001b[92m[-0.25792232  0.22631216]\u001b[0m\t \u001b[1m\u001b[92m0.11774112020918412\u001b[0m\t \u001b[1m\u001b[92m0.11774112020918412\u001b[0m\t \u001b[1m\u001b[92m2.495624053576376\u001b[0m\t \u001b[1m\u001b[92m2.185254388564392\u001b[0m\n",
            "\u001b[1m\u001b[92m18\u001b[0m\t \u001b[1m\u001b[92m[-0.23515684  0.21112869]\u001b[0m\t \u001b[1m\u001b[92m0.09987406715075162\u001b[0m\t \u001b[1m\u001b[92m0.09987406715075162\u001b[0m\t \u001b[1m\u001b[92m3.0318191330169406\u001b[0m\t \u001b[1m\u001b[92m2.333493553383958\u001b[0m\n",
            "\u001b[1m\u001b[92m19\u001b[0m\t \u001b[1m\u001b[92m[-0.22391488  0.20344613]\u001b[0m\t \u001b[1m\u001b[92m0.091528202501004\u001b[0m\t \u001b[1m\u001b[92m0.091528202501004\u001b[0m\t \u001b[1m\u001b[92m2.41327216369613\u001b[0m\t \u001b[1m\u001b[92m2.5120550238391126\u001b[0m\n",
            "\u001b[1m\u001b[92m20\u001b[0m\t \u001b[1m\u001b[92m[-0.21793508  0.19940011]\u001b[0m\t \u001b[1m\u001b[92m0.08725610419923191\u001b[0m\t \u001b[1m\u001b[92m0.08725610419923191\u001b[0m\t \u001b[1m\u001b[92m2.0381708477332148\u001b[0m\t \u001b[1m\u001b[92m2.0658568501816457\u001b[0m\n"
          ]
        }
      ],
      "source": [
        "### ESTIMATED GP EI GRADIENTS\n",
        "\n",
        "np.random.seed(run_num_4)\n",
        "surrogate_approx_4 = dGaussianProcess(cov_func, optimize=opt)\n",
        "\n",
        "approx_4= GPGO_multi(surrogate_approx_4, Acquisition_grad(util), objfunc, param)\n",
        "approx_4.run(init_evals=n_init, max_iter=iters)\n"
      ]
    },
    {
      "cell_type": "code",
      "execution_count": 17,
      "metadata": {
        "id": "JF_SxcEvGCOl",
        "colab": {
          "base_uri": "https://localhost:8080/"
        },
        "outputId": "2d4a98bd-412c-4d49-ce15-d54f0ea6f480"
      },
      "outputs": [
        {
          "output_type": "stream",
          "name": "stdout",
          "text": [
            "Evaluation \t Proposed point \t  Current eval. \t  Best eval. \t        Exact EI: StdDev. x \t Approx EI: StdDev. x \n",
            "init\t [-2.84678993  3.79629882]\t 22.516097589112718\t 1.3234068721819314\t    \t    \n",
            "init\t [-3.00319585  4.2865757 ]\t 27.393916517947076\t 1.3234068721819314\t    \t    \n",
            "init\t [-0.11866943  1.14425716]\t 1.3234068721819314\t 1.3234068721819314\t    \t    \n",
            "init\t [2.72289645 0.1886002 ]\t 7.449735113237491\t 1.3234068721819314\t    \t    \n",
            "init\t [-2.08076286 -3.19773462]\t 14.555080786026249\t 1.3234068721819314\t    \t    \n",
            "1  \t [ 4.32895605 -5.09732646]\t 44.722597532365825\t 1.3234068721819314\t 4.461640564215958\t 4.5162802315012724\n",
            "2  \t [5.12 5.12]\t 52.4288\t 1.3234068721819314\t 4.391281755178421\t 3.8702485725789155\n",
            "3  \t [-5.12       -0.04786262]\t 26.216690830110842\t 1.3234068721819314\t 3.4846160222615885\t 3.7682679141532147\n",
            "4  \t [0.96168922 5.12      ]\t 27.139246154188132\t 1.3234068721819314\t 3.4659666235692446\t 3.403111477980042\n",
            "5  \t [-5.12 -5.12]\t 52.4288\t 1.3234068721819314\t 3.3028160943592826\t 3.568238611268766\n",
            "6  \t [ 0.60989644 -5.12      ]\t 26.58637366568212\t 1.3234068721819314\t 3.0061534759517485\t 3.2968429160553763\n",
            "7  \t [ 5.12       -1.48591666]\t 28.4223483237751\t 1.3234068721819314\t 2.1977717971923973\t 2.3414254461771566\n",
            "8  \t [ 0.48001389 -1.4751263 ]\t 2.4064109314105804\t 1.3234068721819314\t 2.8479121870071684\t 3.224952979581171\n",
            "9  \t [-1.86094138  0.18929399]\t 3.4989350335640856\t 1.3234068721819314\t 2.7551038041516285\t 2.786551382303158\n",
            "10 \t [5.12       1.77109443]\t 29.351175486226193\t 1.3234068721819314\t 2.53991409245615\t 2.7904703170007505\n",
            "11 \t [1.23424754 2.17004226]\t 6.232450397233965\t 1.3234068721819314\t 2.46958418068851\t 2.936454850865563\n",
            "12 \t [ 2.14535536 -2.48148074]\t 10.760296278188033\t 1.3234068721819314\t 2.0720948206704315\t 2.4867292026427097\n",
            "13 \t [-5.12        2.70420392]\t 33.52711882540197\t 1.3234068721819314\t 2.55074571592212\t 2.5827057447902617\n",
            "\u001b[1m\u001b[92m14\u001b[0m\t \u001b[1m\u001b[92m[ 0.01495887 -0.1575316 ]\u001b[0m\t \u001b[1m\u001b[92m0.025039973865022033\u001b[0m\t \u001b[1m\u001b[92m0.025039973865022033\u001b[0m\t \u001b[1m\u001b[92m2.4332451820191263\u001b[0m\t \u001b[1m\u001b[92m2.7525774371988185\u001b[0m\n",
            "\u001b[1m\u001b[92m15\u001b[0m\t \u001b[1m\u001b[92m[ 0.01718651 -0.1528736 ]\u001b[0m\t \u001b[1m\u001b[92m0.02366571341879693\u001b[0m\t \u001b[1m\u001b[92m0.02366571341879693\u001b[0m\t \u001b[1m\u001b[92m2.0343243438321026\u001b[0m\t \u001b[1m\u001b[92m1.8057724292090616\u001b[0m\n",
            "\u001b[1m\u001b[92m16\u001b[0m\t \u001b[1m\u001b[92m[ 0.01889429 -0.14930759]\u001b[0m\t \u001b[1m\u001b[92m0.022649751957982075\u001b[0m\t \u001b[1m\u001b[92m0.022649751957982075\u001b[0m\t \u001b[1m\u001b[92m2.4603396064097804\u001b[0m\t \u001b[1m\u001b[92m1.7440757713287784\u001b[0m\n",
            "\u001b[1m\u001b[92m17\u001b[0m\t \u001b[1m\u001b[92m[ 0.01976027 -0.14708333]\u001b[0m\t \u001b[1m\u001b[92m0.02202397538866633\u001b[0m\t \u001b[1m\u001b[92m0.02202397538866633\u001b[0m\t \u001b[1m\u001b[92m2.4993714345257176\u001b[0m\t \u001b[1m\u001b[92m2.2290897080130296\u001b[0m\n",
            "\u001b[1m\u001b[92m18\u001b[0m\t \u001b[1m\u001b[92m[ 0.02004674 -0.14578286]\u001b[0m\t \u001b[1m\u001b[92m0.021654513211181427\u001b[0m\t \u001b[1m\u001b[92m0.021654513211181427\u001b[0m\t \u001b[1m\u001b[92m2.454979540614299\u001b[0m\t \u001b[1m\u001b[92m2.4840686319985155\u001b[0m\n",
            "\u001b[1m\u001b[92m19\u001b[0m\t \u001b[1m\u001b[92m[ 0.02002542 -0.1450373 ]\u001b[0m\t \u001b[1m\u001b[92m0.021436835365267533\u001b[0m\t \u001b[1m\u001b[92m0.021436835365267533\u001b[0m\t \u001b[1m\u001b[92m2.1970261989751636\u001b[0m\t \u001b[1m\u001b[92m2.220417694304776\u001b[0m\n",
            "20 \t [-0.31872007 -0.53719191]\t 0.39015763114675917\t 0.021436835365267533\t 2.4617830644872414\t 3.099588206094689\n"
          ]
        }
      ],
      "source": [
        "### ESTIMATED GP EI GRADIENTS\n",
        "\n",
        "np.random.seed(run_num_5)\n",
        "surrogate_approx_5 = dGaussianProcess(cov_func, optimize=opt)\n",
        "\n",
        "approx_5 = GPGO_multi(surrogate_approx_5, Acquisition_grad(util), objfunc, param)\n",
        "approx_5.run(init_evals=n_init, max_iter=iters)\n"
      ]
    },
    {
      "cell_type": "code",
      "execution_count": 18,
      "metadata": {
        "id": "-kDxZtJsGCR3",
        "colab": {
          "base_uri": "https://localhost:8080/"
        },
        "outputId": "8116ec93-745b-4604-8251-28e6257b196c"
      },
      "outputs": [
        {
          "output_type": "stream",
          "name": "stdout",
          "text": [
            "Evaluation \t Proposed point \t  Current eval. \t  Best eval. \t        Exact EI: StdDev. x \t Approx EI: StdDev. x \n",
            "init\t [ 4.02288795 -1.72052679]\t 19.143839911819178\t 0.7844720799352826\t    \t    \n",
            "init\t [ 3.28938622 -4.69302655]\t 32.84455992822337\t 0.7844720799352826\t    \t    \n",
            "init\t [-4.0175956   0.97333314]\t 17.088451781196223\t 0.7844720799352826\t    \t    \n",
            "init\t [ 0.30532979 -0.83141193]\t 0.7844720799352826\t 0.7844720799352826\t    \t    \n",
            "init\t [-1.68542362  1.25459899]\t 4.414671405342624\t 0.7844720799352826\t    \t    \n",
            "1  \t [2.60017104 5.12      ]\t 32.975289420104396\t 0.7844720799352826\t 4.036164788475474\t 3.818096236562348\n",
            "2  \t [-5.12       -4.58808044]\t 47.26488208477529\t 0.7844720799352826\t 3.822748992279807\t 3.7228720759576994\n",
            "3  \t [-5.12  5.12]\t 52.4288\t 0.7844720799352826\t 3.4369903913606836\t 3.6518337176588265\n",
            "4  \t [-0.87293392 -4.16934755]\t 18.1454726334986\t 0.7844720799352826\t 3.3122512521775977\t 3.326448555419518\n",
            "5  \t [5.12       2.02293344]\t 30.30665972131474\t 0.7844720799352826\t 2.914864704881846\t 2.774900361659937\n",
            "6  \t [-1.19383516  5.12      ]\t 27.639642396227597\t 0.7844720799352826\t 2.94274478678419\t 3.1414742229156616\n",
            "7  \t [1.41605704 1.45059497]\t 4.109443330061852\t 0.7844720799352826\t 3.231247505727956\t 3.0305233377673266\n",
            "8  \t [-2.76716017 -1.77017744]\t 10.79070357906189\t 0.7844720799352826\t 2.7636804656314924\t 3.2722699821643744\n",
            "9  \t [ 1.06790353 -1.90948192]\t 4.7865391408727325\t 0.7844720799352826\t 2.721978343154164\t 2.8069000325926976\n",
            "\u001b[1m\u001b[92m10\u001b[0m\t \u001b[1m\u001b[92m[-0.35884231 -0.2032912 ]\u001b[0m\t \u001b[1m\u001b[92m0.1700951194615499\u001b[0m\t \u001b[1m\u001b[92m0.1700951194615499\u001b[0m\t \u001b[1m\u001b[92m3.0538191198426987\u001b[0m\t \u001b[1m\u001b[92m3.158846450309929\u001b[0m\n",
            "11 \t [-5.12       -1.43040092]\t 28.26044677838999\t 0.1700951194615499\t 3.501046356246075\t 3.236463634600746\n",
            "12 \t [-0.46985336 -0.39265815]\t 0.37494260210002406\t 0.1700951194615499\t 2.5256879924216866\t 2.260885253415581\n",
            "13 \t [5.12 5.12]\t 52.4288\t 0.1700951194615499\t 2.659736930783529\t 2.7199413260671625\n",
            "\u001b[1m\u001b[92m14\u001b[0m\t \u001b[1m\u001b[92m[0.02804003 0.05165754]\u001b[0m\t \u001b[1m\u001b[92m0.003454744811854379\u001b[0m\t \u001b[1m\u001b[92m0.003454744811854379\u001b[0m\t \u001b[1m\u001b[92m2.4688915789315993\u001b[0m\t \u001b[1m\u001b[92m2.7819619959450037\u001b[0m\n",
            "\u001b[1m\u001b[92m15\u001b[0m\t \u001b[1m\u001b[92m[-0.01876921  0.00539465]\u001b[0m\t \u001b[1m\u001b[92m0.0003813853812082677\u001b[0m\t \u001b[1m\u001b[92m0.0003813853812082677\u001b[0m\t \u001b[1m\u001b[92m2.6980930516972927\u001b[0m\t \u001b[1m\u001b[92m2.943928421809729\u001b[0m\n",
            "16 \t [-0.05787743 -0.03151013]\t 0.004342684674767322\t 0.0003813853812082677\t 2.7166915871249913\t 2.9004474966147304\n",
            "17 \t [-0.09075702 -0.06230945]\t 0.01211930429344999\t 0.0003813853812082677\t 2.8041024574081357\t 2.7848122239551545\n",
            "18 \t [-0.11770198 -0.08802361]\t 0.02160191058456975\t 0.0003813853812082677\t 2.6575446546566477\t 2.932934065859391\n",
            "19 \t [-0.13598583 -0.10667435]\t 0.02987156320266227\t 0.0003813853812082677\t 2.792111817965792\t 2.8755430395372645\n",
            "20 \t [-0.14005214 -0.11363206]\t 0.032526846217272115\t 0.0003813853812082677\t 2.3544449755829517\t 2.64483604491026\n"
          ]
        }
      ],
      "source": [
        "### ESTIMATED GP EI GRADIENTS\n",
        "\n",
        "np.random.seed(run_num_6)\n",
        "surrogate_approx_6 = dGaussianProcess(cov_func, optimize=opt)\n",
        "\n",
        "approx_6 = GPGO_multi(surrogate_approx_6, Acquisition_grad(util), objfunc, param)\n",
        "approx_6.run(init_evals=n_init, max_iter=iters)\n"
      ]
    },
    {
      "cell_type": "code",
      "execution_count": 19,
      "metadata": {
        "id": "fKB8MCD_GCVI",
        "colab": {
          "base_uri": "https://localhost:8080/"
        },
        "outputId": "48ddb3d9-b879-4937-858d-8bc0763dc0fd"
      },
      "outputs": [
        {
          "output_type": "stream",
          "name": "stdout",
          "text": [
            "Evaluation \t Proposed point \t  Current eval. \t  Best eval. \t        Exact EI: StdDev. x \t Approx EI: StdDev. x \n",
            "init\t [-4.33860312  2.86636843]\t 27.039544996254122\t 5.622519010932044\t    \t    \n",
            "init\t [-0.63068947  2.28828342]\t 5.634010222398341\t 5.622519010932044\t    \t    \n",
            "init\t [4.8946126  0.39419771]\t 24.112624368867845\t 5.622519010932044\t    \t    \n",
            "init\t [ 0.01147355 -4.38219639]\t 19.20377688135857\t 5.622519010932044\t    \t    \n",
            "init\t [-2.37118484e+00 -1.20319155e-03]\t 5.622519010932044\t 5.622519010932044\t    \t    \n",
            "1  \t [-5.12 -5.12]\t 52.4288\t 5.622519010932044\t 2.868484661406735\t 3.2175181065107923\n",
            "2  \t [ 5.12 -5.12]\t 52.4288\t 5.622519010932044\t 3.7611921575874034\t 3.746379589748004\n",
            "3  \t [3.33004618 5.12      ]\t 37.30360754787367\t 5.622519010932044\t 3.801170643170861\t 3.5227089156304867\n",
            "4  \t [-4.02558214 -1.33646422]\t 17.991448177385568\t 5.622519010932044\t 2.8894091467469694\t 3.046307140328312\n",
            "\u001b[1m\u001b[92m5\u001b[0m\t \u001b[1m\u001b[92m[ 1.22347344 -0.77273501]\u001b[0m\t \u001b[1m\u001b[92m2.094006650627022\u001b[0m\t \u001b[1m\u001b[92m2.094006650627022\u001b[0m\t \u001b[1m\u001b[92m3.1885882983186855\u001b[0m\t \u001b[1m\u001b[92m3.135126590890328\u001b[0m\n",
            "6  \t [-1.25688582  5.12      ]\t 27.794161954286444\t 2.094006650627022\t 3.0097983748508286\t 3.4758227803989454\n",
            "7  \t [ 2.8709389  -2.43103664]\t 14.15222931981408\t 2.094006650627022\t 2.5674349210830236\t 2.666092474399664\n",
            "8  \t [1.98229175 1.82457213]\t 7.258544026016379\t 2.094006650627022\t 2.8453998836641436\t 2.9425392729556092\n",
            "9  \t [-0.55652307 -1.45410088]\t 2.4241273067930322\t 2.094006650627022\t 3.2062666304489\t 3.385319320723187\n",
            "10 \t [-5.12  5.12]\t 52.4288\t 2.094006650627022\t 2.9330638760890473\t 3.191534110144867\n",
            "11 \t [-2.41133875 -3.47534413]\t 17.892571414127396\t 2.094006650627022\t 3.0332786621324828\t 2.9099393738471955\n",
            "\u001b[1m\u001b[92m12\u001b[0m\t \u001b[1m\u001b[92m[0.01706441 0.15618297]\u001b[0m\t \u001b[1m\u001b[92m0.024684312930125893\u001b[0m\t \u001b[1m\u001b[92m0.024684312930125893\u001b[0m\t \u001b[1m\u001b[92m3.234149352945411\u001b[0m\t \u001b[1m\u001b[92m2.7969670261475974\u001b[0m\n",
            "13 \t [5.12       3.05542112]\t 35.54999824158014\t 0.024684312930125893\t 3.3628063373014734\t 3.177184892855403\n",
            "\u001b[1m\u001b[92m14\u001b[0m\t \u001b[1m\u001b[92m[0.02672236 0.14960305]\u001b[0m\t \u001b[1m\u001b[92m0.023095156599320675\u001b[0m\t \u001b[1m\u001b[92m0.023095156599320675\u001b[0m\t \u001b[1m\u001b[92m2.1818598446698845\u001b[0m\t \u001b[1m\u001b[92m2.45697074165631\u001b[0m\n",
            "\u001b[1m\u001b[92m15\u001b[0m\t \u001b[1m\u001b[92m[0.03158296 0.14373546]\u001b[0m\t \u001b[1m\u001b[92m0.02165736688374332\u001b[0m\t \u001b[1m\u001b[92m0.02165736688374332\u001b[0m\t \u001b[1m\u001b[92m3.2161605000136015\u001b[0m\t \u001b[1m\u001b[92m2.847524714971961\u001b[0m\n",
            "\u001b[1m\u001b[92m16\u001b[0m\t \u001b[1m\u001b[92m[0.03455717 0.14004503]\u001b[0m\t \u001b[1m\u001b[92m0.02080680730114741\u001b[0m\t \u001b[1m\u001b[92m0.02080680730114741\u001b[0m\t \u001b[1m\u001b[92m2.308289711846114\u001b[0m\t \u001b[1m\u001b[92m2.217344406762879\u001b[0m\n",
            "\u001b[1m\u001b[92m17\u001b[0m\t \u001b[1m\u001b[92m[0.03632611 0.13765307]\u001b[0m\t \u001b[1m\u001b[92m0.020267953002602663\u001b[0m\t \u001b[1m\u001b[92m0.020267953002602663\u001b[0m\t \u001b[1m\u001b[92m2.4584667338588835\u001b[0m\t \u001b[1m\u001b[92m2.3963689272335387\u001b[0m\n",
            "\u001b[1m\u001b[92m18\u001b[0m\t \u001b[1m\u001b[92m[0.03737917 0.13604681]\u001b[0m\t \u001b[1m\u001b[92m0.019905937315749453\u001b[0m\t \u001b[1m\u001b[92m0.019905937315749453\u001b[0m\t \u001b[1m\u001b[92m3.3614005969857343\u001b[0m\t \u001b[1m\u001b[92m3.357403866587168\u001b[0m\n",
            "\u001b[1m\u001b[92m19\u001b[0m\t \u001b[1m\u001b[92m[0.03800789 0.13492874]\u001b[0m\t \u001b[1m\u001b[92m0.019650366248867568\u001b[0m\t \u001b[1m\u001b[92m0.019650366248867568\u001b[0m\t \u001b[1m\u001b[92m2.917123402471836\u001b[0m\t \u001b[1m\u001b[92m2.6515023235166453\u001b[0m\n",
            "\u001b[1m\u001b[92m20\u001b[0m\t \u001b[1m\u001b[92m[0.03838704 0.13412597]\u001b[0m\t \u001b[1m\u001b[92m0.019463340428131828\u001b[0m\t \u001b[1m\u001b[92m0.019463340428131828\u001b[0m\t \u001b[1m\u001b[92m2.965461077333413\u001b[0m\t \u001b[1m\u001b[92m2.5560571490289927\u001b[0m\n"
          ]
        }
      ],
      "source": [
        "### ESTIMATED GP EI GRADIENTS\n",
        "\n",
        "np.random.seed(run_num_7)\n",
        "surrogate_approx_7 = dGaussianProcess(cov_func, optimize=opt)\n",
        "\n",
        "approx_7 = GPGO_multi(surrogate_approx_7, Acquisition_grad(util), objfunc, param)\n",
        "approx_7.run(init_evals=n_init, max_iter=iters)\n"
      ]
    },
    {
      "cell_type": "code",
      "execution_count": 20,
      "metadata": {
        "id": "4unvifF-GCXp",
        "colab": {
          "base_uri": "https://localhost:8080/"
        },
        "outputId": "1b54da74-fcb4-42e2-c5c6-7b0cc9ca1a44"
      },
      "outputs": [
        {
          "output_type": "stream",
          "name": "stdout",
          "text": [
            "Evaluation \t Proposed point \t  Current eval. \t  Best eval. \t        Exact EI: StdDev. x \t Approx EI: StdDev. x \n",
            "init\t [3.82391708 4.79785639]\t 37.641767782829874\t 0.10287109474532606\t    \t    \n",
            "init\t [3.78055209 0.31596228]\t 14.392406282091054\t 0.10287109474532606\t    \t    \n",
            "init\t [-2.73686192 -5.00327624]\t 32.52318635319257\t 0.10287109474532606\t    \t    \n",
            "init\t [-0.7119993  -0.99992207]\t 1.5067871566831337\t 0.10287109474532606\t    \t    \n",
            "init\t [ 0.23218863 -0.22126801]\t 0.10287109474532606\t 0.10287109474532606\t    \t    \n",
            "1  \t [-0.07607243  2.20183427]\t 4.853861179069208\t 0.10287109474532606\t 3.0250315318051917\t 3.7897315966540193\n",
            "2  \t [ 5.12 -5.12]\t 52.4288\t 0.10287109474532606\t 3.3605606456210233\t 4.199805511354719\n",
            "3  \t [-4.61584642  5.12      ]\t 47.52043815253764\t 0.10287109474532606\t 2.800038456751072\t 3.515214329893685\n",
            "4  \t [-5.12      -0.2129158]\t 26.25973313957643\t 0.10287109474532606\t 3.2298891845518387\t 3.432808037725922\n",
            "5  \t [ 1.22698383 -3.60609281]\t 14.509394669677787\t 0.10287109474532606\t 3.1629248314594216\t 3.049816089988113\n",
            "6  \t [-0.49509998  5.12      ]\t 26.459523985281802\t 0.10287109474532606\t 3.3787712437043704\t 3.101269771490205\n",
            "7  \t [-2.72013246  2.01602298]\t 11.463469261650264\t 0.10287109474532606\t 3.4911664244953973\t 3.069275802748794\n",
            "8  \t [-2.38251372 -1.78711661]\t 8.870157426472286\t 0.10287109474532606\t 3.5461559047665627\t 3.0573183048635055\n",
            "9  \t [-5.12       -3.31028574]\t 37.17239165248693\t 0.10287109474532606\t 2.7200461711579913\t 2.663166787589966\n",
            "10 \t [ 1.09962308 -0.59145861]\t 1.5589942010075797\t 0.10287109474532606\t 2.751168554398827\t 2.947494391767959\n",
            "11 \t [ 5.12       -1.93524452]\t 29.95957135914752\t 0.10287109474532606\t 3.0316956630384517\t 3.0551504365453055\n",
            "12 \t [1.97081084 2.31012597]\t 9.22077737041985\t 0.10287109474532606\t 2.5040438575001085\t 1.9778634834461317\n",
            "13 \t [-0.492028    0.18377737]\t 0.2758656716551784\t 0.10287109474532606\t 2.8586323945771577\t 2.0925967953717133\n",
            "14 \t [5.12       2.26517259]\t 31.345406855114742\t 0.10287109474532606\t 2.940930305188715\t 2.668329182663552\n",
            "\u001b[1m\u001b[92m15\u001b[0m\t \u001b[1m\u001b[92m[-0.25514813  0.08912218]\u001b[0m\t \u001b[1m\u001b[92m0.07304333302562609\u001b[0m\t \u001b[1m\u001b[92m0.07304333302562609\u001b[0m\t \u001b[1m\u001b[92m2.4053650826122586\u001b[0m\t \u001b[1m\u001b[92m2.108704075999152\u001b[0m\n",
            "\u001b[1m\u001b[92m16\u001b[0m\t \u001b[1m\u001b[92m[-0.22401955  0.06320708]\u001b[0m\t \u001b[1m\u001b[92m0.05417989217771978\u001b[0m\t \u001b[1m\u001b[92m0.05417989217771978\u001b[0m\t \u001b[1m\u001b[92m2.6329585628969445\u001b[0m\t \u001b[1m\u001b[92m1.9597148039696237\u001b[0m\n",
            "\u001b[1m\u001b[92m17\u001b[0m\t \u001b[1m\u001b[92m[-0.21001464  0.04825749]\u001b[0m\t \u001b[1m\u001b[92m0.046434935128272285\u001b[0m\t \u001b[1m\u001b[92m0.046434935128272285\u001b[0m\t \u001b[1m\u001b[92m2.9528459946262164\u001b[0m\t \u001b[1m\u001b[92m2.5324629214055148\u001b[0m\n",
            "\u001b[1m\u001b[92m18\u001b[0m\t \u001b[1m\u001b[92m[-0.20524912  0.0394022 ]\u001b[0m\t \u001b[1m\u001b[92m0.043679735836547946\u001b[0m\t \u001b[1m\u001b[92m0.043679735836547946\u001b[0m\t \u001b[1m\u001b[92m2.8312076740429077\u001b[0m\t \u001b[1m\u001b[92m2.305418395273914\u001b[0m\n",
            "19 \t [-0.51783842  0.1212064 ]\t 0.28284761739798353\t 0.043679735836547946\t 2.2772819802860687\t 1.929298025159084\n",
            "\u001b[1m\u001b[92m20\u001b[0m\t \u001b[1m\u001b[92m[ 0.0248436  -0.01180174]\u001b[0m\t \u001b[1m\u001b[92m0.0007564858596676536\u001b[0m\t \u001b[1m\u001b[92m0.0007564858596676536\u001b[0m\t \u001b[1m\u001b[92m3.0853982904071584\u001b[0m\t \u001b[1m\u001b[92m2.5948249457564905\u001b[0m\n"
          ]
        }
      ],
      "source": [
        "### ESTIMATED GP EI GRADIENTS\n",
        "\n",
        "np.random.seed(run_num_8)\n",
        "surrogate_approx_8 = dGaussianProcess(cov_func, optimize=opt)\n",
        "\n",
        "approx_8 = GPGO_multi(surrogate_approx_8, Acquisition_grad(util), objfunc, param)\n",
        "approx_8.run(init_evals=n_init, max_iter=iters)\n"
      ]
    },
    {
      "cell_type": "code",
      "execution_count": 21,
      "metadata": {
        "id": "85OIXcg7GCaJ",
        "colab": {
          "base_uri": "https://localhost:8080/"
        },
        "outputId": "1486bf7a-db45-48a7-afdb-470aab186e4a"
      },
      "outputs": [
        {
          "output_type": "stream",
          "name": "stdout",
          "text": [
            "Evaluation \t Proposed point \t  Current eval. \t  Best eval. \t        Exact EI: StdDev. x \t Approx EI: StdDev. x \n",
            "init\t [-5.01376866  0.01919582]\t 25.138244697862262\t 7.349882113053805\t    \t    \n",
            "init\t [-0.04328148 -3.74958562]\t 14.061265633999861\t 7.349882113053805\t    \t    \n",
            "init\t [-3.66478248 -2.88195916]\t 21.736319271030034\t 7.349882113053805\t    \t    \n",
            "init\t [-0.83447623 -2.57944404]\t 7.349882113053805\t 7.349882113053805\t    \t    \n",
            "init\t [-4.25922917 -1.58209393]\t 20.64405433050371\t 7.349882113053805\t    \t    \n",
            "1  \t [3.69491889 4.82146316]\t 36.89893267190826\t 7.349882113053805\t 2.9784999898365063\t 3.032243567761824\n",
            "2  \t [-2.28574161  5.12      ]\t 31.43901470320111\t 7.349882113053805\t 3.40788216900173\t 4.124920513044523\n",
            "3  \t [ 4.86862469 -0.97259356]\t 24.649444608191978\t 7.349882113053805\t 3.1907313451108346\t 3.50599529535483\n",
            "\u001b[1m\u001b[92m4\u001b[0m\t \u001b[1m\u001b[92m[0.53970267 1.34076621]\u001b[0m\t \u001b[1m\u001b[92m2.088932992660779\u001b[0m\t \u001b[1m\u001b[92m2.088932992660779\u001b[0m\t \u001b[1m\u001b[92m3.0547336453824574\u001b[0m\t \u001b[1m\u001b[92m3.5783348109604463\u001b[0m\n",
            "5  \t [ 4.23301191 -5.12      ]\t 44.132789832665836\t 2.088932992660779\t 3.3190923873347393\t 3.464364385271146\n",
            "6  \t [-5.12        3.43847287]\t 38.03749569805601\t 2.088932992660779\t 3.132059980461013\t 2.7486624341017487\n",
            "7  \t [-1.84111755  1.33656858]\t 5.176129421424533\t 2.088932992660779\t 3.218511433256555\t 2.4743005397399283\n",
            "8  \t [ 1.56118253 -0.80965868]\t 3.09283806058818\t 2.088932992660779\t 3.324737990610864\t 1.9615119940620545\n",
            "9  \t [0.62240755 3.57869231]\t 13.194429768909645\t 2.088932992660779\t 3.6024014445336032\t 3.247322154763477\n",
            "10 \t [5.12       2.03830208]\t 30.36907535728569\t 2.088932992660779\t 3.168056938326389\t 2.721483204837224\n",
            "11 \t [-5.12 -5.12]\t 52.4288\t 2.088932992660779\t 2.9834724225936164\t 3.018695704740536\n",
            "12 \t [2.24907688 1.1600006 ]\t 6.403948196720474\t 2.088932992660779\t 2.3366854685995193\t 3.0066373723541786\n",
            "\u001b[1m\u001b[92m13\u001b[0m\t \u001b[1m\u001b[92m[-0.51910107 -0.35662765]\u001b[0m\t \u001b[1m\u001b[92m0.39664920514599944\u001b[0m\t \u001b[1m\u001b[92m0.39664920514599944\u001b[0m\t \u001b[1m\u001b[92m2.076193574602128\u001b[0m\t \u001b[1m\u001b[92m1.7245000954670686\u001b[0m\n",
            "14 \t [ 2.36907715 -2.59482264]\t 12.345631045236214\t 0.39664920514599944\t 2.6318221920792384\t 2.4033593043922887\n",
            "15 \t [-1.95326115 -5.12      ]\t 30.029629126129144\t 0.39664920514599944\t 2.998382350401017\t 2.8163849416216835\n",
            "\u001b[1m\u001b[92m16\u001b[0m\t \u001b[1m\u001b[92m[-0.17103329 -0.25670514]\u001b[0m\t \u001b[1m\u001b[92m0.09514991433084773\u001b[0m\t \u001b[1m\u001b[92m0.09514991433084773\u001b[0m\t \u001b[1m\u001b[92m2.718509314914306\u001b[0m\t \u001b[1m\u001b[92m2.322951270126587\u001b[0m\n",
            "17 \t [-1.17764976 -0.55970652]\t 1.700130340798351\t 0.09514991433084773\t 2.230639177498668\t 1.9872915818466566\n",
            "\u001b[1m\u001b[92m18\u001b[0m\t \u001b[1m\u001b[92m[ 0.08792726 -0.10754253]\u001b[0m\t \u001b[1m\u001b[92m0.019296597904206014\u001b[0m\t \u001b[1m\u001b[92m0.019296597904206014\u001b[0m\t \u001b[1m\u001b[92m2.5963231854144495\u001b[0m\t \u001b[1m\u001b[92m2.4581542069778517\u001b[0m\n",
            "19 \t [ 0.07613362 -0.11851639]\t 0.019842464100659127\t 0.019296597904206014\t 3.0486103812854193\t 2.9622421817116886\n",
            "20 \t [ 0.06784475 -0.12645617]\t 0.020594074431628546\t 0.019296597904206014\t 3.0255270478348355\t 2.7570200435189514\n"
          ]
        }
      ],
      "source": [
        "### ESTIMATED GP EI GRADIENTS\n",
        "\n",
        "np.random.seed(run_num_9)\n",
        "surrogate_approx_9 = dGaussianProcess(cov_func, optimize=opt)\n",
        "\n",
        "approx_9 = GPGO_multi(surrogate_approx_9, Acquisition_grad(util), objfunc, param)\n",
        "approx_9.run(init_evals=n_init, max_iter=iters)\n"
      ]
    },
    {
      "cell_type": "code",
      "execution_count": 22,
      "metadata": {
        "id": "QQBR-qJPGCcp",
        "colab": {
          "base_uri": "https://localhost:8080/"
        },
        "outputId": "ff767f8b-95a5-49cc-f632-42f1dd0acdcd"
      },
      "outputs": [
        {
          "output_type": "stream",
          "name": "stdout",
          "text": [
            "Evaluation \t Proposed point \t  Current eval. \t  Best eval. \t        Exact EI: StdDev. x \t Approx EI: StdDev. x \n",
            "init\t [ 2.77832339 -4.90750004]\t 31.80263747150094\t 7.941821858928501\t    \t    \n",
            "init\t [1.36855793 2.54775176]\t 8.363989812138083\t 7.941821858928501\t    \t    \n",
            "init\t [-0.01528819 -2.81808235]\t 7.941821858928501\t 7.941821858928501\t    \t    \n",
            "init\t [-3.09183626  2.66783449]\t 16.67679237031191\t 7.941821858928501\t    \t    \n",
            "init\t [-3.38830503 -4.2154003 ]\t 29.25021071405309\t 7.941821858928501\t    \t    \n",
            "1  \t [ 5.12       -0.36550721]\t 26.347995520869706\t 7.941821858928501\t 3.47683395514817\t 3.4016687789658735\n",
            "2  \t [5.12 5.12]\t 52.4288\t 7.941821858928501\t 2.971245135127575\t 3.1152588863290793\n",
            "3  \t [-5.12       -0.59619261]\t 26.569845626551412\t 7.941821858928501\t 2.6464990514811295\t 3.2812283968944174\n",
            "4  \t [-0.58335554  5.12      ]\t 26.554703691363564\t 7.941821858928501\t 3.516214653471013\t 3.475431062807869\n",
            "5  \t [-5.12  5.12]\t 52.4288\t 7.941821858928501\t 3.338564242010751\t 3.4038867054613546\n",
            "\u001b[1m\u001b[92m6\u001b[0m\t \u001b[1m\u001b[92m[-0.91609674  0.09831845]\u001b[0m\t \u001b[1m\u001b[92m0.8488997574464887\u001b[0m\t \u001b[1m\u001b[92m0.8488997574464887\u001b[0m\t \u001b[1m\u001b[92m3.358225064864844\u001b[0m\t \u001b[1m\u001b[92m2.855881462460409\u001b[0m\n",
            "7  \t [ 1.72255871 -0.47344894]\t 3.191362411430966\t 0.8488997574464887\t 3.118881825958162\t 3.2267296196912176\n",
            "8  \t [-2.04293641 -0.93710377]\t 5.051752661968623\t 0.8488997574464887\t 3.150835024331878\t 3.0021903653769386\n",
            "9  \t [ 5.12       -3.33979349]\t 37.368620522484676\t 0.8488997574464887\t 3.2320043353777193\t 3.1758411051394417\n",
            "10 \t [-0.45021835 -5.12      ]\t 26.417096558973515\t 0.8488997574464887\t 3.3374897431969828\t 3.453632791693669\n",
            "11 \t [3.82891026 2.20905399]\t 19.540473362648928\t 0.8488997574464887\t 2.729558357654864\t 2.5327158993315315\n",
            "12 \t [-0.58181171  1.12334741]\t 1.6004142740716167\t 0.8488997574464887\t 3.1437852679248666\t 2.6657736189248213\n",
            "13 \t [2.13832539 5.12      ]\t 30.786835469623437\t 0.8488997574464887\t 2.761675218389467\t 2.7841708737763984\n",
            "\u001b[1m\u001b[92m14\u001b[0m\t \u001b[1m\u001b[92m[ 0.07092088 -0.09148559]\u001b[0m\t \u001b[1m\u001b[92m0.013399383881541285\u001b[0m\t \u001b[1m\u001b[92m0.013399383881541285\u001b[0m\t \u001b[1m\u001b[92m3.0599577374657856\u001b[0m\t \u001b[1m\u001b[92m2.8973349603545104\u001b[0m\n",
            "\u001b[1m\u001b[92m15\u001b[0m\t \u001b[1m\u001b[92m[ 0.06051717 -0.07581718]\u001b[0m\t \u001b[1m\u001b[92m0.009410572975010223\u001b[0m\t \u001b[1m\u001b[92m0.009410572975010223\u001b[0m\t \u001b[1m\u001b[92m3.38607674128408\u001b[0m\t \u001b[1m\u001b[92m2.934642871251308\u001b[0m\n",
            "\u001b[1m\u001b[92m16\u001b[0m\t \u001b[1m\u001b[92m[ 0.05281368 -0.06308569]\u001b[0m\t \u001b[1m\u001b[92m0.006769088080208395\u001b[0m\t \u001b[1m\u001b[92m0.006769088080208395\u001b[0m\t \u001b[1m\u001b[92m2.8639237456948723\u001b[0m\t \u001b[1m\u001b[92m2.0748206344650786\u001b[0m\n",
            "\u001b[1m\u001b[92m17\u001b[0m\t \u001b[1m\u001b[92m[ 0.04737705 -0.0552886 ]\u001b[0m\t \u001b[1m\u001b[92m0.005301413627321396\u001b[0m\t \u001b[1m\u001b[92m0.005301413627321396\u001b[0m\t \u001b[1m\u001b[92m3.1230867953304275\u001b[0m\t \u001b[1m\u001b[92m2.7146601779278767\u001b[0m\n",
            "\u001b[1m\u001b[92m18\u001b[0m\t \u001b[1m\u001b[92m[ 0.04334702 -0.05105858]\u001b[0m\t \u001b[1m\u001b[92m0.004485942721955276\u001b[0m\t \u001b[1m\u001b[92m0.004485942721955276\u001b[0m\t \u001b[1m\u001b[92m3.169170535395613\u001b[0m\t \u001b[1m\u001b[92m2.3983107484555553\u001b[0m\n",
            "\u001b[1m\u001b[92m19\u001b[0m\t \u001b[1m\u001b[92m[ 0.04026504 -0.04893026]\u001b[0m\t \u001b[1m\u001b[92m0.004015443924736595\u001b[0m\t \u001b[1m\u001b[92m0.004015443924736595\u001b[0m\t \u001b[1m\u001b[92m2.372752681151963\u001b[0m\t \u001b[1m\u001b[92m1.962701981799326\u001b[0m\n",
            "\u001b[1m\u001b[92m20\u001b[0m\t \u001b[1m\u001b[92m[ 0.03787402 -0.04786673]\u001b[0m\t \u001b[1m\u001b[92m0.0037256656211806204\u001b[0m\t \u001b[1m\u001b[92m0.0037256656211806204\u001b[0m\t \u001b[1m\u001b[92m2.8816464730462648\u001b[0m\t \u001b[1m\u001b[92m2.5937923307840647\u001b[0m\n"
          ]
        }
      ],
      "source": [
        "### ESTIMATED GP EI GRADIENTS\n",
        "\n",
        "np.random.seed(run_num_10)\n",
        "surrogate_approx_10 = dGaussianProcess(cov_func, optimize=opt)\n",
        "\n",
        "approx_10 = GPGO_multi(surrogate_approx_10, Acquisition_grad(util), objfunc, param)\n",
        "approx_10.run(init_evals=n_init, max_iter=iters)\n"
      ]
    },
    {
      "cell_type": "code",
      "execution_count": 23,
      "metadata": {
        "id": "JS8ejeQ2GCfi",
        "colab": {
          "base_uri": "https://localhost:8080/"
        },
        "outputId": "2d2cee0f-2753-4f6c-cf9a-f137f38cd61a"
      },
      "outputs": [
        {
          "output_type": "stream",
          "name": "stdout",
          "text": [
            "Evaluation \t Proposed point \t  Current eval. \t  Best eval. \t        Exact EI: StdDev. x \t Approx EI: StdDev. x \n",
            "init\t [-3.27403839 -4.92057353]\t 34.93137118861299\t 0.6899456214148796\t    \t    \n",
            "init\t [-0.37664229  2.30332343]\t 5.447158259491397\t 0.6899456214148796\t    \t    \n",
            "init\t [-0.81711509 -0.14922651]\t 0.6899456214148796\t 0.6899456214148796\t    \t    \n",
            "init\t [-4.98912446 -0.12931474]\t 24.908085165573997\t 0.6899456214148796\t    \t    \n",
            "init\t [4.52410012 3.59214172]\t 33.37096399795931\t 0.6899456214148796\t    \t    \n",
            "1  \t [ 3.03550212 -4.46785095]\t 29.17596522689979\t 0.6899456214148796\t 3.3075201942963486\t 3.9465008881109287\n",
            "2  \t [-5.12  5.12]\t 52.4288\t 0.6899456214148796\t 2.6325333916114477\t 3.5019931319669944\n",
            "3  \t [ 5.12       -0.71940624]\t 26.731945333526454\t 0.6899456214148796\t 3.260652369843474\t 3.362874848331494\n",
            "4  \t [0.92504221 5.12      ]\t 27.070103093759652\t 0.6899456214148796\t 2.542967950764835\t 2.4028411793281035\n",
            "5  \t [-0.19914441 -2.48361726]\t 6.2080131906150955\t 0.6899456214148796\t 2.7392056021585023\t 2.1517149234839565\n",
            "6  \t [1.75675665 0.18644251]\t 3.120954746109585\t 0.6899456214148796\t 2.7848965051336325\t 2.7587760651754523\n",
            "7  \t [-2.93890445  2.40750407]\t 14.433235222043564\t 0.6899456214148796\t 3.2073537707691773\t 3.28905535902145\n",
            "8  \t [-0.04522795 -5.12      ]\t 26.216445567244698\t 0.6899456214148796\t 3.27392302400547\t 2.7942203555883003\n",
            "9  \t [-2.28258502 -1.33992566]\t 7.005595158287859\t 0.6899456214148796\t 3.2990319438900664\t 2.926342118148795\n",
            "10 \t [-1.94696792  5.12      ]\t 30.005084067959192\t 0.6899456214148796\t 2.8318640429669917\t 2.6925245006217495\n",
            "11 \t [ 2.09423949 -1.64216954]\t 7.082559835055669\t 0.6899456214148796\t 3.3659320847739536\t 2.993271344886602\n",
            "12 \t [1.98787243 1.97318544]\t 7.845097566027837\t 0.6899456214148796\t 3.2942422846217903\t 2.654697859179146\n",
            "13 \t [-5.12       -2.87735721]\t 34.493584517777194\t 0.6899456214148796\t 2.9145344218328733\t 2.0876947665509955\n",
            "\u001b[1m\u001b[92m14\u001b[0m\t \u001b[1m\u001b[92m[-0.13158246  0.0930603 ]\u001b[0m\t \u001b[1m\u001b[92m0.025974163548832002\u001b[0m\t \u001b[1m\u001b[92m0.025974163548832002\u001b[0m\t \u001b[1m\u001b[92m2.878276814348159\u001b[0m\t \u001b[1m\u001b[92m2.62653402186661\u001b[0m\n",
            "15 \t [-0.16940268  0.09685   ]\t 0.038077189967808955\t 0.025974163548832002\t 3.2446316149586907\t 2.838376070820086\n",
            "16 \t [-0.19657123  0.10106201]\t 0.04885377725037927\t 0.025974163548832002\t 3.2477358906524625\t 2.869993709022637\n",
            "17 \t [-0.2141807  0.1031752]\t 0.05651849613419596\t 0.025974163548832002\t 2.476679708554369\t 1.8229938503471457\n",
            "18 \t [-0.22397486  0.10263716]\t 0.06069912688038091\t 0.025974163548832002\t 3.136466973638094\t 2.6173359858143046\n",
            "19 \t [-0.22847613  0.10033953]\t 0.0622693633970751\t 0.025974163548832002\t 2.8216010311820954\t 2.248040659966472\n",
            "20 \t [-0.23081223  0.09799281]\t 0.0628768774976041\t 0.025974163548832002\t 2.9943967855190534\t 2.556831452560487\n"
          ]
        }
      ],
      "source": [
        "### ESTIMATED GP EI GRADIENTS\n",
        "\n",
        "np.random.seed(run_num_11)\n",
        "surrogate_approx_11 = dGaussianProcess(cov_func, optimize=opt)\n",
        "\n",
        "approx_11 = GPGO_multi(surrogate_approx_11, Acquisition_grad(util), objfunc, param)\n",
        "approx_11.run(init_evals=n_init, max_iter=iters)\n"
      ]
    },
    {
      "cell_type": "code",
      "execution_count": 24,
      "metadata": {
        "id": "DXwjUVZ4GCii",
        "colab": {
          "base_uri": "https://localhost:8080/"
        },
        "outputId": "b3f23184-17d0-442d-be56-727ca0f3aa2a"
      },
      "outputs": [
        {
          "output_type": "stream",
          "name": "stdout",
          "text": [
            "Evaluation \t Proposed point \t  Current eval. \t  Best eval. \t        Exact EI: StdDev. x \t Approx EI: StdDev. x \n",
            "init\t [-3.54137249  2.45810889]\t 18.583618467979093\t 5.993464196233534\t    \t    \n",
            "init\t [-2.42365424  0.34549139]\t 5.993464196233534\t 5.993464196233534\t    \t    \n",
            "init\t [-4.97075238  4.28796936]\t 43.09506052206225\t 5.993464196233534\t    \t    \n",
            "init\t [ 4.10332011 -4.77776458]\t 39.66427028607538\t 5.993464196233534\t    \t    \n",
            "init\t [ 4.6791612  -3.71497655]\t 35.6956003298903\t 5.993464196233534\t    \t    \n",
            "1  \t [5.12 5.12]\t 52.4288\t 5.993464196233534\t 3.9259317917913807\t 3.769262607483161\n",
            "2  \t [-5.12 -5.12]\t 52.4288\t 5.993464196233534\t 3.5575374340024064\t 3.233169577106097\n",
            "\u001b[1m\u001b[92m3\u001b[0m\t \u001b[1m\u001b[92m[2.28109108 0.77883167]\u001b[0m\t \u001b[1m\u001b[92m5.809955277797381\u001b[0m\t \u001b[1m\u001b[92m5.809955277797381\u001b[0m\t \u001b[1m\u001b[92m2.836259385400842\u001b[0m\t \u001b[1m\u001b[92m2.773248456464121\u001b[0m\n",
            "4  \t [0.22738663 5.12      ]\t 26.26610468015496\t 5.809955277797381\t 2.939769492267899\t 3.106941953316595\n",
            "5  \t [-0.48979339 -3.66845669]\t 13.697472042083964\t 5.809955277797381\t 2.8884453174320557\t 2.5670719883956115\n",
            "6  \t [-5.12       -1.19106688]\t 27.633040317749934\t 5.809955277797381\t 2.8615675269297998\t 3.075650049401583\n",
            "7  \t [5.12       0.15931523]\t 26.23978134401284\t 5.809955277797381\t 2.5460600104684605\t 2.93356881846319\n",
            "\u001b[1m\u001b[92m8\u001b[0m\t \u001b[1m\u001b[92m[ 0.11830853 -0.69080315]\u001b[0m\t \u001b[1m\u001b[92m0.49120589503559875\u001b[0m\t \u001b[1m\u001b[92m0.49120589503559875\u001b[0m\t \u001b[1m\u001b[92m2.3861726723825787\u001b[0m\t \u001b[1m\u001b[92m2.616253821758746\u001b[0m\n",
            "9  \t [-0.14899991  1.84913638]\t 3.4415063354817725\t 0.49120589503559875\t 2.4935529914736017\t 2.436202214896711\n",
            "10 \t [ 1.85495533 -1.81370814]\t 6.7303964821871824\t 0.49120589503559875\t 2.6205095597237293\t 3.0102298508142398\n",
            "11 \t [2.57944763 3.08147815]\t 16.14905769496568\t 0.49120589503559875\t 2.480368106370046\t 2.7186922400835494\n",
            "12 \t [-0.79337939 -0.9934905 ]\t 1.6164742327881318\t 0.49120589503559875\t 2.6331143458921282\t 2.9482535580140135\n",
            "13 \t [-2.72150338 -2.65065653]\t 14.432560674487537\t 0.49120589503559875\t 2.5159183670041068\t 3.0313444965190914\n",
            "14 \t [ 1.27604607 -5.12      ]\t 27.84269358460852\t 0.49120589503559875\t 2.763684481113855\t 2.468432429232618\n",
            "\u001b[1m\u001b[92m15\u001b[0m\t \u001b[1m\u001b[92m[ 0.05328304 -0.02081961]\u001b[0m\t \u001b[1m\u001b[92m0.0032725389437844735\u001b[0m\t \u001b[1m\u001b[92m0.0032725389437844735\u001b[0m\t \u001b[1m\u001b[92m2.7598631554274564\u001b[0m\t \u001b[1m\u001b[92m3.321013916651263\u001b[0m\n",
            "16 \t [ 0.05036195 -0.04355293]\t 0.004433183506330476\t 0.0032725389437844735\t 2.394476776727738\t 2.8261609885216057\n",
            "17 \t [ 0.04805135 -0.06059953]\t 0.005981235074471112\t 0.0032725389437844735\t 2.555008522656314\t 2.4150749302553356\n",
            "18 \t [ 0.04637747 -0.07249571]\t 0.00740649734639911\t 0.0032725389437844735\t 2.9277961797874177\t 2.5396587372318624\n",
            "19 \t [ 0.04515985 -0.08094236]\t 0.00859107798982122\t 0.0032725389437844735\t 2.615668048982487\t 3.0510030836353383\n",
            "20 \t [ 0.04425591 -0.08710065]\t 0.009545109250275557\t 0.0032725389437844735\t 2.6815180922869524\t 2.398815817095907\n"
          ]
        }
      ],
      "source": [
        "### ESTIMATED GP EI GRADIENTS\n",
        "\n",
        "np.random.seed(run_num_12)\n",
        "surrogate_approx_12 = dGaussianProcess(cov_func, optimize=opt)\n",
        "\n",
        "approx_12 = GPGO_multi(surrogate_approx_12, Acquisition_grad(util), objfunc, param)\n",
        "approx_12.run(init_evals=n_init, max_iter=iters)\n"
      ]
    },
    {
      "cell_type": "code",
      "execution_count": 25,
      "metadata": {
        "id": "CphOPndPGClX",
        "colab": {
          "base_uri": "https://localhost:8080/"
        },
        "outputId": "8598f456-e1ba-478b-e05f-a1ef1fa26a38"
      },
      "outputs": [
        {
          "output_type": "stream",
          "name": "stdout",
          "text": [
            "Evaluation \t Proposed point \t  Current eval. \t  Best eval. \t        Exact EI: StdDev. x \t Approx EI: StdDev. x \n",
            "init\t [ 2.84367268 -2.68757791]\t 15.30954934064491\t 7.271500601275535\t    \t    \n",
            "init\t [3.32061217 4.76927179]\t 33.772418600555795\t 7.271500601275535\t    \t    \n",
            "init\t [ 4.83943541 -0.47667971]\t 23.647358595121606\t 7.271500601275535\t    \t    \n",
            "init\t [1.11659482 2.82139151]\t 9.20703403927425\t 7.271500601275535\t    \t    \n",
            "init\t [1.45012065 2.27346667]\t 7.271500601275535\t 7.271500601275535\t    \t    \n",
            "1  \t [-4.10876704 -2.60547476]\t 23.670465283396044\t 7.271500601275535\t 2.770317080339137\t 3.1094977193260593\n",
            "2  \t [-5.12  5.12]\t 52.4288\t 7.271500601275535\t 3.6630280566058726\t 3.675853659950238\n",
            "3  \t [-0.59460557 -5.12      ]\t 26.56795578299085\t 7.271500601275535\t 3.4551915379173566\t 3.1059779149241207\n",
            "4  \t [-2.6637204   1.37398066]\t 8.98322925524812\t 7.271500601275535\t 3.0953239145825195\t 3.04036888689647\n",
            "5  \t [ 5.12 -5.12]\t 52.4288\t 7.271500601275535\t 3.455850873263659\t 3.9394059219950295\n",
            "6  \t [-1.18977418  5.12      ]\t 27.629962598454927\t 7.271500601275535\t 2.8113450423454096\t 3.017598856290096\n",
            "\u001b[1m\u001b[92m7\u001b[0m\t \u001b[1m\u001b[92m[-0.34371394 -1.10227733]\u001b[0m\t \u001b[1m\u001b[92m1.3331545845010455\u001b[0m\t \u001b[1m\u001b[92m1.3331545845010455\u001b[0m\t \u001b[1m\u001b[92m3.4230330851737145\u001b[0m\t \u001b[1m\u001b[92m3.205291557753255\u001b[0m\n",
            "8  \t [-5.12 -5.12]\t 52.4288\t 1.3331545845010455\t 3.12845079448351\t 3.0867914802879666\n",
            "9  \t [-5.12        0.59642702]\t 26.57012518590549\t 1.3331545845010455\t 3.0457850050752926\t 3.0881540181195843\n",
            "10 \t [ 1.25855078 -0.18418274]\t 1.617873346403437\t 1.3331545845010455\t 2.899620394433415\t 2.62444271162583\n",
            "11 \t [5.12      2.4188998]\t 32.065476233302874\t 1.3331545845010455\t 2.8340179802571495\t 2.6669930753849393\n",
            "12 \t [-1.18927292 -2.07868441]\t 5.735298939625459\t 1.3331545845010455\t 2.466590596107655\t 1.7397163285601118\n",
            "\u001b[1m\u001b[92m13\u001b[0m\t \u001b[1m\u001b[92m[-0.37355731  0.36886952]\u001b[0m\t \u001b[1m\u001b[92m0.2756097833928014\u001b[0m\t \u001b[1m\u001b[92m0.2756097833928014\u001b[0m\t \u001b[1m\u001b[92m2.9229089536828594\u001b[0m\t \u001b[1m\u001b[92m2.211655258934349\u001b[0m\n",
            "\u001b[1m\u001b[92m14\u001b[0m\t \u001b[1m\u001b[92m[-0.34711216  0.29152733]\u001b[0m\t \u001b[1m\u001b[92m0.20547503734062494\u001b[0m\t \u001b[1m\u001b[92m0.20547503734062494\u001b[0m\t \u001b[1m\u001b[92m2.5024187293586833\u001b[0m\t \u001b[1m\u001b[92m1.731551304951083\u001b[0m\n",
            "\u001b[1m\u001b[92m15\u001b[0m\t \u001b[1m\u001b[92m[-0.33406643  0.26522832]\u001b[0m\t \u001b[1m\u001b[92m0.18194644374770322\u001b[0m\t \u001b[1m\u001b[92m0.18194644374770322\u001b[0m\t \u001b[1m\u001b[92m2.8387121506731523\u001b[0m\t \u001b[1m\u001b[92m2.363515995568068\u001b[0m\n",
            "\u001b[1m\u001b[92m16\u001b[0m\t \u001b[1m\u001b[92m[-0.33095686  0.25788687]\u001b[0m\t \u001b[1m\u001b[92m0.17603807653176962\u001b[0m\t \u001b[1m\u001b[92m0.17603807653176962\u001b[0m\t \u001b[1m\u001b[92m2.735922150973514\u001b[0m\t \u001b[1m\u001b[92m2.446183519588968\u001b[0m\n",
            "17 \t [ 2.07685112 -5.12      ]\t 30.527710569810466\t 0.17603807653176962\t 3.29872118441031\t 3.405214878716179\n",
            "18 \t [-0.34131136  0.26344279]\t 0.18589554691510085\t 0.17603807653176962\t 2.114385578512714\t 1.7506936207890993\n",
            "19 \t [-0.3967172   0.65922658]\t 0.5919642191316576\t 0.17603807653176962\t 2.7921030683579398\t 2.04568232444987\n",
            "\u001b[1m\u001b[92m20\u001b[0m\t \u001b[1m\u001b[92m[ 0.03548206 -0.0783417 ]\u001b[0m\t \u001b[1m\u001b[92m0.007396398383360641\u001b[0m\t \u001b[1m\u001b[92m0.007396398383360641\u001b[0m\t \u001b[1m\u001b[92m3.1299302609045934\u001b[0m\t \u001b[1m\u001b[92m2.5958995807238665\u001b[0m\n"
          ]
        }
      ],
      "source": [
        "### ESTIMATED GP EI GRADIENTS\n",
        "\n",
        "np.random.seed(run_num_13)\n",
        "surrogate_approx_13 = dGaussianProcess(cov_func, optimize=opt)\n",
        "\n",
        "approx_13 = GPGO_multi(surrogate_approx_13, Acquisition_grad(util), objfunc, param)\n",
        "approx_13.run(init_evals=n_init, max_iter=iters)\n"
      ]
    },
    {
      "cell_type": "code",
      "execution_count": 26,
      "metadata": {
        "id": "ojHTeARNGCoi",
        "colab": {
          "base_uri": "https://localhost:8080/"
        },
        "outputId": "89832f78-20e3-47d7-b976-26a25e96d993"
      },
      "outputs": [
        {
          "output_type": "stream",
          "name": "stdout",
          "text": [
            "Evaluation \t Proposed point \t  Current eval. \t  Best eval. \t        Exact EI: StdDev. x \t Approx EI: StdDev. x \n",
            "init\t [0.14277984 2.79721013]\t 7.844770612568215\t 3.480496204392171\t    \t    \n",
            "init\t [ 3.7931795  -5.03759925]\t 39.765616906968944\t 3.480496204392171\t    \t    \n",
            "init\t [-1.94830412  4.68586229]\t 25.753194366239512\t 3.480496204392171\t    \t    \n",
            "init\t [ 0.13431513 -1.86076749]\t 3.480496204392171\t 3.480496204392171\t    \t    \n",
            "init\t [ 0.40140736 -2.85434939]\t 8.308438305616814\t 3.480496204392171\t    \t    \n",
            "1  \t [-5.05057017 -1.15674792]\t 26.84632475762311\t 3.480496204392171\t 3.9627000432958677\t 3.889387374310076\n",
            "2  \t [5.10672577 5.12      ]\t 52.29304813571929\t 3.480496204392171\t 3.814918691994709\t 3.6221385684734466\n",
            "3  \t [ 5.12       -0.07516403]\t 26.220049631965622\t 3.480496204392171\t 2.9198416564403677\t 3.212926440582003\n",
            "4  \t [-3.19710519 -5.12      ]\t 36.43588159203407\t 3.480496204392171\t 2.7390905684360605\t 3.134845063102557\n",
            "\u001b[1m\u001b[92m5\u001b[0m\t \u001b[1m\u001b[92m[-1.75117779  0.23577509]\u001b[0m\t \u001b[1m\u001b[92m3.122213540862005\u001b[0m\t \u001b[1m\u001b[92m3.122213540862005\u001b[0m\t \u001b[1m\u001b[92m2.659429590523398\u001b[0m\t \u001b[1m\u001b[92m2.1447001894778803\u001b[0m\n",
            "6  \t [-5.12        2.75755219]\t 33.81849407886141\t 3.122213540862005\t 3.0286808922288717\t 2.978935192715852\n",
            "\u001b[1m\u001b[92m7\u001b[0m\t \u001b[1m\u001b[92m[1.70439843 0.20127803]\u001b[0m\t \u001b[1m\u001b[92m2.9454868424251885\u001b[0m\t \u001b[1m\u001b[92m2.9454868424251885\u001b[0m\t \u001b[1m\u001b[92m2.6475581242180146\u001b[0m\t \u001b[1m\u001b[92m2.1466276933973574\u001b[0m\n",
            "8  \t [1.60987789 5.12      ]\t 28.806106831896763\t 2.9454868424251885\t 3.0687276518934445\t 3.1192121109714273\n",
            "9  \t [3.0772682  2.24325961]\t 14.501793243022014\t 2.9454868424251885\t 3.1355067460876147\t 3.20527905730355\n",
            "10 \t [ 0.22994828 -5.12      ]\t 26.267276210796993\t 2.9454868424251885\t 2.5175410161099436\t 2.7956455113392327\n",
            "11 \t [ 2.79120275 -1.94441989]\t 11.571581499478219\t 2.9454868424251885\t 2.746713324564587\t 3.07947077846923\n",
            "12 \t [-2.09955007 -2.03100672]\t 8.533098820903895\t 2.9454868424251885\t 2.954971890680395\t 2.763929887375669\n",
            "\u001b[1m\u001b[92m13\u001b[0m\t \u001b[1m\u001b[92m[0.04372007 0.16589907]\u001b[0m\t \u001b[1m\u001b[92m0.029433947065655934\u001b[0m\t \u001b[1m\u001b[92m0.029433947065655934\u001b[0m\t \u001b[1m\u001b[92m2.6914835532112003\u001b[0m\t \u001b[1m\u001b[92m3.206442856165898\u001b[0m\n",
            "\u001b[1m\u001b[92m14\u001b[0m\t \u001b[1m\u001b[92m[0.04711599 0.15932448]\u001b[0m\t \u001b[1m\u001b[92m0.027604205056747776\u001b[0m\t \u001b[1m\u001b[92m0.027604205056747776\u001b[0m\t \u001b[1m\u001b[92m2.869016372135542\u001b[0m\t \u001b[1m\u001b[92m2.4143187700231836\u001b[0m\n",
            "\u001b[1m\u001b[92m15\u001b[0m\t \u001b[1m\u001b[92m[0.04919647 0.15522764]\u001b[0m\t \u001b[1m\u001b[92m0.02651591361455999\u001b[0m\t \u001b[1m\u001b[92m0.02651591361455999\u001b[0m\t \u001b[1m\u001b[92m2.688568200685516\u001b[0m\t \u001b[1m\u001b[92m2.645608556241815\u001b[0m\n",
            "\u001b[1m\u001b[92m16\u001b[0m\t \u001b[1m\u001b[92m[0.05021159 0.15455062]\u001b[0m\t \u001b[1m\u001b[92m0.026407098788121523\u001b[0m\t \u001b[1m\u001b[92m0.026407098788121523\u001b[0m\t \u001b[1m\u001b[92m2.8284750410575263\u001b[0m\t \u001b[1m\u001b[92m2.6975936336733484\u001b[0m\n",
            "17 \t [0.05056992 0.15621399]\t 0.02696012747907151\t 0.026407098788121523\t 3.016852707095273\t 3.3514171239269657\n",
            "18 \t [0.02782161 0.30449703]\t 0.09349248295703967\t 0.026407098788121523\t 2.2199018927986196\t 2.5078486287992665\n",
            "\u001b[1m\u001b[92m19\u001b[0m\t \u001b[1m\u001b[92m[ 0.078221  -0.0583249]\u001b[0m\t \u001b[1m\u001b[92m0.009520319635850268\u001b[0m\t \u001b[1m\u001b[92m0.009520319635850268\u001b[0m\t \u001b[1m\u001b[92m2.9417499276457124\u001b[0m\t \u001b[1m\u001b[92m2.541493009741118\u001b[0m\n",
            "\u001b[1m\u001b[92m20\u001b[0m\t \u001b[1m\u001b[92m[0.06915363 0.01852205]\u001b[0m\t \u001b[1m\u001b[92m0.005125290329440374\u001b[0m\t \u001b[1m\u001b[92m0.005125290329440374\u001b[0m\t \u001b[1m\u001b[92m2.3003393415507007\u001b[0m\t \u001b[1m\u001b[92m2.434484433699337\u001b[0m\n"
          ]
        }
      ],
      "source": [
        "### ESTIMATED GP EI GRADIENTS\n",
        "\n",
        "np.random.seed(run_num_14)\n",
        "surrogate_approx_14 = dGaussianProcess(cov_func, optimize=opt)\n",
        "\n",
        "approx_14 = GPGO_multi(surrogate_approx_14, Acquisition_grad(util), objfunc, param)\n",
        "approx_14.run(init_evals=n_init, max_iter=iters)\n"
      ]
    },
    {
      "cell_type": "code",
      "execution_count": 27,
      "metadata": {
        "id": "vCJzn4vWGCs3",
        "colab": {
          "base_uri": "https://localhost:8080/"
        },
        "outputId": "a1a5061c-23e1-43eb-f347-9708538cf0d9"
      },
      "outputs": [
        {
          "output_type": "stream",
          "name": "stdout",
          "text": [
            "Evaluation \t Proposed point \t  Current eval. \t  Best eval. \t        Exact EI: StdDev. x \t Approx EI: StdDev. x \n",
            "init\t [ 3.57189322 -3.28810573]\t 23.57006045912445\t 5.383887924980681\t    \t    \n",
            "init\t [-4.56332069 -1.41784631]\t 22.834183843344235\t 5.383887924980681\t    \t    \n",
            "init\t [-2.29989449  0.3072023 ]\t 5.383887924980681\t 5.383887924980681\t    \t    \n",
            "init\t [-1.9873903  -2.00218256]\t 7.958455228543059\t 5.383887924980681\t    \t    \n",
            "init\t [-3.97576933 -2.5610341 ]\t 22.365637431409507\t 5.383887924980681\t    \t    \n",
            "1  \t [2.7754098  2.98802689]\t 16.631204280641075\t 5.383887924980681\t 3.835248702533781\t 3.7471618644492906\n",
            "2  \t [-5.12       4.9245729]\t 50.46581827179171\t 5.383887924980681\t 3.1152043809272696\t 3.677762936930484\n",
            "3  \t [-0.71672187  5.12      ]\t 26.728090234593502\t 5.383887924980681\t 3.9083882443005993\t 3.8141200233022894\n",
            "4  \t [-0.11957232 -5.12      ]\t 26.228697539157473\t 5.383887924980681\t 3.0090317859064006\t 2.924081027639689\n",
            "5  \t [5.12       0.18687093]\t 26.24932074312874\t 5.383887924980681\t 3.5486521020738233\t 3.4463263682613445\n",
            "\u001b[1m\u001b[92m6\u001b[0m\t \u001b[1m\u001b[92m[ 1.08688131 -0.33544982]\u001b[0m\t \u001b[1m\u001b[92m1.2938375725041915\u001b[0m\t \u001b[1m\u001b[92m1.2938375725041915\u001b[0m\t \u001b[1m\u001b[92m3.791632432601668\u001b[0m\t \u001b[1m\u001b[92m3.713627022266383\u001b[0m\n",
            "7  \t [5.12 5.12]\t 52.4288\t 1.2938375725041915\t 3.618704099799568\t 3.526724002942775\n",
            "8  \t [-5.12 -5.12]\t 52.4288\t 1.2938375725041915\t 3.321727500214585\t 3.5165929578104476\n",
            "9  \t [-5.12        1.57235392]\t 28.686696861349674\t 1.2938375725041915\t 2.301579443161002\t 2.8694802771159442\n",
            "10 \t [-0.13658095  1.74830255]\t 3.0752161682630392\t 1.2938375725041915\t 2.0836285570997237\t 2.2243276782686667\n",
            "11 \t [ 0.69475943 -1.96888441]\t 4.3591964813339255\t 1.2938375725041915\t 2.0536915267906855\t 3.048963758934856\n",
            "12 \t [-2.30496051  2.70080624]\t 12.607197271057\t 1.2938375725041915\t 2.386411476637374\t 3.038793024605156\n",
            "13 \t [2.15066786 0.13063069]\t 4.642436624986671\t 1.2938375725041915\t 2.514965255162114\t 3.452320784063948\n",
            "14 \t [ 5.12 -5.12]\t 52.4288\t 1.2938375725041915\t 2.343381948887223\t 3.104893883194836\n",
            "\u001b[1m\u001b[92m15\u001b[0m\t \u001b[1m\u001b[92m[-0.1249598 -0.0479619]\u001b[0m\t \u001b[1m\u001b[92m0.017915293928675226\u001b[0m\t \u001b[1m\u001b[92m0.017915293928675226\u001b[0m\t \u001b[1m\u001b[92m1.9524195997247584\u001b[0m\t \u001b[1m\u001b[92m2.5297721955714128\u001b[0m\n",
            "\u001b[1m\u001b[92m16\u001b[0m\t \u001b[1m\u001b[92m[-0.11188412 -0.04439139]\u001b[0m\t \u001b[1m\u001b[92m0.014488651622163638\u001b[0m\t \u001b[1m\u001b[92m0.014488651622163638\u001b[0m\t \u001b[1m\u001b[92m2.7274866843639027\u001b[0m\t \u001b[1m\u001b[92m2.8206121389738095\u001b[0m\n",
            "\u001b[1m\u001b[92m17\u001b[0m\t \u001b[1m\u001b[92m[-0.10309071 -0.04188273]\u001b[0m\t \u001b[1m\u001b[92m0.01238185731007887\u001b[0m\t \u001b[1m\u001b[92m0.01238185731007887\u001b[0m\t \u001b[1m\u001b[92m2.1910369952100686\u001b[0m\t \u001b[1m\u001b[92m2.5256591271904596\u001b[0m\n",
            "\u001b[1m\u001b[92m18\u001b[0m\t \u001b[1m\u001b[92m[-0.09762229 -0.04047727]\u001b[0m\t \u001b[1m\u001b[92m0.011168521800087032\u001b[0m\t \u001b[1m\u001b[92m0.011168521800087032\u001b[0m\t \u001b[1m\u001b[92m2.3374469020055595\u001b[0m\t \u001b[1m\u001b[92m2.642891471915906\u001b[0m\n",
            "\u001b[1m\u001b[92m19\u001b[0m\t \u001b[1m\u001b[92m[-0.0941095  -0.03974532]\u001b[0m\t \u001b[1m\u001b[92m0.010436288737932585\u001b[0m\t \u001b[1m\u001b[92m0.010436288737932585\u001b[0m\t \u001b[1m\u001b[92m2.2822883725621446\u001b[0m\t \u001b[1m\u001b[92m2.929148304885831\u001b[0m\n",
            "\u001b[1m\u001b[92m20\u001b[0m\t \u001b[1m\u001b[92m[-0.09175982 -0.0393939 ]\u001b[0m\t \u001b[1m\u001b[92m0.009971743468054284\u001b[0m\t \u001b[1m\u001b[92m0.009971743468054284\u001b[0m\t \u001b[1m\u001b[92m2.175609319836948\u001b[0m\t \u001b[1m\u001b[92m2.529142934586633\u001b[0m\n"
          ]
        }
      ],
      "source": [
        "### ESTIMATED GP EI GRADIENTS\n",
        "\n",
        "np.random.seed(run_num_15)\n",
        "surrogate_approx_15 = dGaussianProcess(cov_func, optimize=opt)\n",
        "\n",
        "approx_15 = GPGO_multi(surrogate_approx_15, Acquisition_grad(util), objfunc, param)\n",
        "approx_15.run(init_evals=n_init, max_iter=iters)\n"
      ]
    },
    {
      "cell_type": "code",
      "execution_count": 28,
      "metadata": {
        "id": "bGGkhp-kGCw6",
        "colab": {
          "base_uri": "https://localhost:8080/"
        },
        "outputId": "407d4354-2717-4b2b-f099-5513336a1116"
      },
      "outputs": [
        {
          "output_type": "stream",
          "name": "stdout",
          "text": [
            "Evaluation \t Proposed point \t  Current eval. \t  Best eval. \t        Exact EI: StdDev. x \t Approx EI: StdDev. x \n",
            "init\t [-2.83349935  0.23719262]\t 8.084978900492077\t 8.084978900492077\t    \t    \n",
            "init\t [ 0.51918292 -4.65303603]\t 21.92029520206884\t 8.084978900492077\t    \t    \n",
            "init\t [-1.42613673 -2.83565116]\t 10.074783446012654\t 8.084978900492077\t    \t    \n",
            "init\t [ 1.9325559  -3.44339021]\t 15.591708419712269\t 8.084978900492077\t    \t    \n",
            "init\t [-4.39987336  4.51595121]\t 39.75270093978162\t 8.084978900492077\t    \t    \n",
            "1  \t [2.2651866 5.12     ]\t 31.345470322053288\t 8.084978900492077\t 3.826570898006818\t 3.922062868327192\n",
            "2  \t [5.12       0.61270613]\t 26.58980880569518\t 8.084978900492077\t 3.479085810942014\t 3.2772858037401433\n",
            "3  \t [-5.12 -5.12]\t 52.4288\t 8.084978900492077\t 3.5462103173001607\t 3.8082650422202167\n",
            "\u001b[1m\u001b[92m4\u001b[0m\t \u001b[1m\u001b[92m[0.93917899 0.95035012]\u001b[0m\t \u001b[1m\u001b[92m1.7852225112602405\u001b[0m\t \u001b[1m\u001b[92m1.7852225112602405\u001b[0m\t \u001b[1m\u001b[92m2.794147837538308\u001b[0m\t \u001b[1m\u001b[92m3.0665142536610337\u001b[0m\n",
            "5  \t [ 5.12 -5.12]\t 52.4288\t 1.7852225112602405\t 2.983586471555195\t 3.244943756305142\n",
            "6  \t [-0.89411261  3.1809395 ]\t 10.917813452225527\t 1.7852225112602405\t 3.7432745677977\t 3.461436620693881\n",
            "7  \t [-5.12       -1.45584192]\t 28.333875703752696\t 1.7852225112602405\t 2.9710321286676358\t 2.8632063391530234\n",
            "8  \t [5.12       3.97218439]\t 41.9926488616107\t 1.7852225112602405\t 2.527124917054282\t 2.6993477537172126\n",
            "9  \t [ 2.0872074  -0.56834791]\t 4.679454068347149\t 1.7852225112602405\t 2.7977590943879056\t 2.568303086878108\n",
            "10 \t [-5.12        1.57248195]\t 28.6870994922738\t 1.7852225112602405\t 2.9730094595499454\t 3.308683479945856\n",
            "\u001b[1m\u001b[92m11\u001b[0m\t \u001b[1m\u001b[92m[-0.3460091  -0.29692168]\u001b[0m\t \u001b[1m\u001b[92m0.20788477926445198\u001b[0m\t \u001b[1m\u001b[92m0.20788477926445198\u001b[0m\t \u001b[1m\u001b[92m2.8705534948205496\u001b[0m\t \u001b[1m\u001b[92m2.878179312925546\u001b[0m\n",
            "12 \t [ 5.12       -2.11540549]\t 30.689340378347573\t 0.20788477926445198\t 2.8575520389813103\t 3.1570590643662997\n",
            "13 \t [2.2182024  2.02932945]\t 9.03859991210335\t 0.20788477926445198\t 2.458005753106029\t 2.317056214891212\n",
            "14 \t [-0.32837464  0.37295977]\t 0.24692889583505606\t 0.20788477926445198\t 2.3819023886945208\t 2.2736232407665535\n",
            "15 \t [-0.0902259  -0.55770593]\t 0.31917661569425776\t 0.20788477926445198\t 2.471052092527159\t 2.4563865643501774\n",
            "\u001b[1m\u001b[92m16\u001b[0m\t \u001b[1m\u001b[92m[-0.30925025  0.30332132]\u001b[0m\t \u001b[1m\u001b[92m0.1876395417149174\u001b[0m\t \u001b[1m\u001b[92m0.1876395417149174\u001b[0m\t \u001b[1m\u001b[92m2.0659671001179096\u001b[0m\t \u001b[1m\u001b[92m2.3317932764326517\u001b[0m\n",
            "\u001b[1m\u001b[92m17\u001b[0m\t \u001b[1m\u001b[92m[-0.25899075 -0.12479562]\u001b[0m\t \u001b[1m\u001b[92m0.0826501536122545\u001b[0m\t \u001b[1m\u001b[92m0.0826501536122545\u001b[0m\t \u001b[1m\u001b[92m2.518065175343624\u001b[0m\t \u001b[1m\u001b[92m2.0899602011921203\u001b[0m\n",
            "18 \t [-0.26988356  0.15371343]\t 0.09646495181170635\t 0.0826501536122545\t 2.4617407855436593\t 2.6435814531154223\n",
            "19 \t [-0.23988503 -0.34750204]\t 0.17830249461916003\t 0.0826501536122545\t 2.9722366714998536\t 2.6978300114747404\n",
            "20 \t [-2.13889789 -5.12      ]\t 30.789284187318763\t 0.0826501536122545\t 2.9892906000686854\t 2.7277958175817116\n"
          ]
        }
      ],
      "source": [
        "### ESTIMATED GP EI GRADIENTS\n",
        "\n",
        "np.random.seed(run_num_16)\n",
        "surrogate_approx_16 = dGaussianProcess(cov_func, optimize=opt)\n",
        "\n",
        "approx_16 = GPGO_multi(surrogate_approx_16, Acquisition_grad(util), objfunc, param)\n",
        "approx_16.run(init_evals=n_init, max_iter=iters)\n"
      ]
    },
    {
      "cell_type": "code",
      "execution_count": 29,
      "metadata": {
        "id": "Yrs2mp7hGC1Z",
        "colab": {
          "base_uri": "https://localhost:8080/"
        },
        "outputId": "d651ea9e-e845-4296-c66a-029d0252caba"
      },
      "outputs": [
        {
          "output_type": "stream",
          "name": "stdout",
          "text": [
            "Evaluation \t Proposed point \t  Current eval. \t  Best eval. \t        Exact EI: StdDev. x \t Approx EI: StdDev. x \n",
            "init\t [-2.10263037  0.31320838]\t 4.519153970964611\t 2.5824114132885994\t    \t    \n",
            "init\t [-3.15882714 -4.42470033]\t 29.556161939946307\t 2.5824114132885994\t    \t    \n",
            "init\t [2.93873111 1.60085526]\t 11.198878112253603\t 2.5824114132885994\t    \t    \n",
            "init\t [1.40821398 0.77417363]\t 2.5824114132885994\t 2.5824114132885994\t    \t    \n",
            "init\t [-4.71999574 -1.45598869]\t 24.39826283453718\t 2.5824114132885994\t    \t    \n",
            "1  \t [ 4.96008736 -4.44720822]\t 44.38012757656366\t 2.5824114132885994\t 3.1994548844576527\t 4.450626685862143\n",
            "2  \t [-3.74909815  5.12      ]\t 40.2701369582173\t 2.5824114132885994\t 3.1500683088109938\t 3.3687244221994854\n",
            "3  \t [5.12 5.12]\t 52.4288\t 2.5824114132885994\t 3.4631119631347342\t 3.36251768140345\n",
            "4  \t [0.61519743 5.12      ]\t 26.592867874994994\t 2.5824114132885994\t 3.5252996202275315\t 3.784390665774973\n",
            "5  \t [ 0.85278936 -2.81548154]\t 8.65418597667288\t 2.5824114132885994\t 2.6006972059774123\t 2.8360849776912564\n",
            "6  \t [ 5.12       -0.72478296]\t 26.73971033916259\t 2.5824114132885994\t 2.8714927964131878\t 2.8302404842012505\n",
            "7  \t [-5.12        1.90435169]\t 29.840955356561704\t 2.5824114132885994\t 2.489101831721968\t 2.6321160094466918\n",
            "8  \t [-0.96940786  2.41348863]\t 6.7646789805728345\t 2.5824114132885994\t 3.237351511781479\t 2.6978869823723097\n",
            "9  \t [ 0.12836077 -5.12      ]\t 26.230876487882544\t 2.5824114132885994\t 3.1342196581046164\t 3.2321113256645595\n",
            "\u001b[1m\u001b[92m10\u001b[0m\t \u001b[1m\u001b[92m[ 0.05334656 -0.44577607]\u001b[0m\t \u001b[1m\u001b[92m0.20156216111729844\u001b[0m\t \u001b[1m\u001b[92m0.20156216111729844\u001b[0m\t \u001b[1m\u001b[92m2.3624960202152807\u001b[0m\t \u001b[1m\u001b[92m2.1713271750008762\u001b[0m\n",
            "11 \t [-1.35541008 -1.69909581]\t 4.724063057077508\t 0.20156216111729844\t 3.4205513667810514\t 3.038227940822591\n",
            "12 \t [ 1.97638634 -0.9062649 ]\t 4.727419035910105\t 0.20156216111729844\t 2.8795820887524735\t 2.7641567092667643\n",
            "\u001b[1m\u001b[92m13\u001b[0m\t \u001b[1m\u001b[92m[0.06594431 0.23558936]\u001b[0m\t \u001b[1m\u001b[92m0.05985099660505825\u001b[0m\t \u001b[1m\u001b[92m0.05985099660505825\u001b[0m\t \u001b[1m\u001b[92m2.7820734348876135\u001b[0m\t \u001b[1m\u001b[92m2.5573403944442097\u001b[0m\n",
            "\u001b[1m\u001b[92m14\u001b[0m\t \u001b[1m\u001b[92m[0.06971526 0.19016164]\u001b[0m\t \u001b[1m\u001b[92m0.04102166489216902\u001b[0m\t \u001b[1m\u001b[92m0.04102166489216902\u001b[0m\t \u001b[1m\u001b[92m2.8379403360265627\u001b[0m\t \u001b[1m\u001b[92m2.516305391153313\u001b[0m\n",
            "\u001b[1m\u001b[92m15\u001b[0m\t \u001b[1m\u001b[92m[0.07142886 0.16580278]\u001b[0m\t \u001b[1m\u001b[92m0.03259264382895699\u001b[0m\t \u001b[1m\u001b[92m0.03259264382895699\u001b[0m\t \u001b[1m\u001b[92m2.565221860866584\u001b[0m\t \u001b[1m\u001b[92m2.207219583411709\u001b[0m\n",
            "\u001b[1m\u001b[92m16\u001b[0m\t \u001b[1m\u001b[92m[0.07241957 0.15171626]\u001b[0m\t \u001b[1m\u001b[92m0.028262416457463788\u001b[0m\t \u001b[1m\u001b[92m0.028262416457463788\u001b[0m\t \u001b[1m\u001b[92m2.530874254122456\u001b[0m\t \u001b[1m\u001b[92m2.486616841168442\u001b[0m\n",
            "\u001b[1m\u001b[92m17\u001b[0m\t \u001b[1m\u001b[92m[0.07308145 0.14302323]\u001b[0m\t \u001b[1m\u001b[92m0.025796542392927967\u001b[0m\t \u001b[1m\u001b[92m0.025796542392927967\u001b[0m\t \u001b[1m\u001b[92m2.3645232949313955\u001b[0m\t \u001b[1m\u001b[92m2.678775527716852\u001b[0m\n",
            "\u001b[1m\u001b[92m18\u001b[0m\t \u001b[1m\u001b[92m[0.07356334 0.13737791]\u001b[0m\t \u001b[1m\u001b[92m0.024284253983898982\u001b[0m\t \u001b[1m\u001b[92m0.024284253983898982\u001b[0m\t \u001b[1m\u001b[92m3.0971841489717553\u001b[0m\t \u001b[1m\u001b[92m2.8096953382826793\u001b[0m\n",
            "\u001b[1m\u001b[92m19\u001b[0m\t \u001b[1m\u001b[92m[0.07393354 0.13356211]\u001b[0m\t \u001b[1m\u001b[92m0.023305006497317565\u001b[0m\t \u001b[1m\u001b[92m0.023305006497317565\u001b[0m\t \u001b[1m\u001b[92m2.830745757032441\u001b[0m\t \u001b[1m\u001b[92m2.5120088996146106\u001b[0m\n",
            "\u001b[1m\u001b[92m20\u001b[0m\t \u001b[1m\u001b[92m[0.07422809 0.1308969 ]\u001b[0m\t \u001b[1m\u001b[92m0.022643808553033263\u001b[0m\t \u001b[1m\u001b[92m0.022643808553033263\u001b[0m\t \u001b[1m\u001b[92m3.0620498613717837\u001b[0m\t \u001b[1m\u001b[92m2.569403062385213\u001b[0m\n"
          ]
        }
      ],
      "source": [
        "### ESTIMATED GP EI GRADIENTS\n",
        "\n",
        "np.random.seed(run_num_17)\n",
        "surrogate_approx_17 = dGaussianProcess(cov_func, optimize=opt)\n",
        "\n",
        "approx_17 = GPGO_multi(surrogate_approx_17, Acquisition_grad(util), objfunc, param)\n",
        "approx_17.run(init_evals=n_init, max_iter=iters)\n"
      ]
    },
    {
      "cell_type": "code",
      "execution_count": 30,
      "metadata": {
        "id": "f0HIEP3PIUEa",
        "colab": {
          "base_uri": "https://localhost:8080/"
        },
        "outputId": "0d4e4012-b965-440b-eed6-1a5ff3644105"
      },
      "outputs": [
        {
          "output_type": "stream",
          "name": "stdout",
          "text": [
            "Evaluation \t Proposed point \t  Current eval. \t  Best eval. \t        Exact EI: StdDev. x \t Approx EI: StdDev. x \n",
            "init\t [1.53983224 0.05584255]\t 2.3742017032787373\t 2.3742017032787373\t    \t    \n",
            "init\t [ 3.87687906 -3.25795609]\t 25.644469161882945\t 2.3742017032787373\t    \t    \n",
            "init\t [3.60686662 2.56139557]\t 19.570234102364928\t 2.3742017032787373\t    \t    \n",
            "init\t [1.70088108 4.99604939]\t 27.853505942237412\t 2.3742017032787373\t    \t    \n",
            "init\t [-2.48864335 -4.83014733]\t 29.523668919355142\t 2.3742017032787373\t    \t    \n",
            "1  \t [-5.00718904  2.9174042 ]\t 33.58318939621877\t 2.3742017032787373\t 3.0184732290730483\t 3.7135233877559344\n",
            "2  \t [-5.12       -1.45226112]\t 28.32346236598542\t 2.3742017032787373\t 3.168242883437177\t 3.065445087320609\n",
            "3  \t [-1.55294272  0.80609186]\t 3.061415178523301\t 2.3742017032787373\t 3.8418911610676623\t 3.270216261433105\n",
            "4  \t [-2.01803779  5.12      ]\t 30.286876519444945\t 2.3742017032787373\t 3.63925556520413\t 3.5883615582869077\n",
            "5  \t [ 0.15333067 -2.3835037 ]\t 5.704600171057983\t 2.3742017032787373\t 3.224326137554419\t 2.8008895329575507\n",
            "6  \t [ 1.08056263 -5.12      ]\t 27.382015591526432\t 2.3742017032787373\t 3.584477856501773\t 3.213549996113099\n",
            "7  \t [ 5.12       -0.22283474]\t 26.26405532148624\t 2.3742017032787373\t 3.124467056183216\t 3.442511767855322\n",
            "8  \t [5.12 5.12]\t 52.4288\t 2.3742017032787373\t 2.872728749208026\t 3.0102400678754573\n",
            "9  \t [0.18599376 2.17250387]\t 4.754366763501621\t 2.3742017032787373\t 2.739819805159683\t 2.9388325117957166\n",
            "10 \t [-2.03685667 -1.36087644]\t 6.000769763165449\t 2.3742017032787373\t 2.9244399390708895\t 2.8260980273931637\n",
            "11 \t [-5.12 -5.12]\t 52.4288\t 2.3742017032787373\t 3.0080192431748043\t 2.961391390534703\n",
            "12 \t [-3.11495264  0.81502325]\t 10.367192819533988\t 2.3742017032787373\t 2.1513021245063335\t 2.5241129160358193\n",
            "\u001b[1m\u001b[92m13\u001b[0m\t \u001b[1m\u001b[92m[-0.0357298  -0.06556529]\u001b[0m\t \u001b[1m\u001b[92m0.005575425186785347\u001b[0m\t \u001b[1m\u001b[92m0.005575425186785347\u001b[0m\t \u001b[1m\u001b[92m2.564669014304524\u001b[0m\t \u001b[1m\u001b[92m2.317834079556217\u001b[0m\n",
            "\u001b[1m\u001b[92m14\u001b[0m\t \u001b[1m\u001b[92m[-0.03395416 -0.06393496]\u001b[0m\t \u001b[1m\u001b[92m0.005240564798206881\u001b[0m\t \u001b[1m\u001b[92m0.005240564798206881\u001b[0m\t \u001b[1m\u001b[92m1.8703814848847908\u001b[0m\t \u001b[1m\u001b[92m2.2673067968754967\u001b[0m\n",
            "\u001b[1m\u001b[92m15\u001b[0m\t \u001b[1m\u001b[92m[-0.0323718  -0.06251877]\u001b[0m\t \u001b[1m\u001b[92m0.004956530200572285\u001b[0m\t \u001b[1m\u001b[92m0.004956530200572285\u001b[0m\t \u001b[1m\u001b[92m2.2375674443471762\u001b[0m\t \u001b[1m\u001b[92m2.697833155447628\u001b[0m\n",
            "\u001b[1m\u001b[92m16\u001b[0m\t \u001b[1m\u001b[92m[-0.03130718 -0.06161054]\u001b[0m\t \u001b[1m\u001b[92m0.0047759985118667496\u001b[0m\t \u001b[1m\u001b[92m0.0047759985118667496\u001b[0m\t \u001b[1m\u001b[92m2.0427585900977925\u001b[0m\t \u001b[1m\u001b[92m2.318945514784259\u001b[0m\n",
            "\u001b[1m\u001b[92m17\u001b[0m\t \u001b[1m\u001b[92m[-0.03058555 -0.06102412]\u001b[0m\t \u001b[1m\u001b[92m0.004659418576045812\u001b[0m\t \u001b[1m\u001b[92m0.004659418576045812\u001b[0m\t \u001b[1m\u001b[92m2.4946416156225326\u001b[0m\t \u001b[1m\u001b[92m3.455819295348614\u001b[0m\n",
            "\u001b[1m\u001b[92m18\u001b[0m\t \u001b[1m\u001b[92m[-0.03008082 -0.06063178]\u001b[0m\t \u001b[1m\u001b[92m0.004581069061763443\u001b[0m\t \u001b[1m\u001b[92m0.004581069061763443\u001b[0m\t \u001b[1m\u001b[92m2.8986317003674036\u001b[0m\t \u001b[1m\u001b[92m3.103315037418174\u001b[0m\n",
            "\u001b[1m\u001b[92m19\u001b[0m\t \u001b[1m\u001b[92m[-0.02971672 -0.06036081]\u001b[0m\t \u001b[1m\u001b[92m0.004526510535224046\u001b[0m\t \u001b[1m\u001b[92m0.004526510535224046\u001b[0m\t \u001b[1m\u001b[92m2.416794082055213\u001b[0m\t \u001b[1m\u001b[92m2.8097764890356043\u001b[0m\n",
            "\u001b[1m\u001b[92m20\u001b[0m\t \u001b[1m\u001b[92m[-0.02944674 -0.06016582]\u001b[0m\t \u001b[1m\u001b[92m0.004487036246347282\u001b[0m\t \u001b[1m\u001b[92m0.004487036246347282\u001b[0m\t \u001b[1m\u001b[92m2.0448663292917244\u001b[0m\t \u001b[1m\u001b[92m2.507772661019011\u001b[0m\n"
          ]
        }
      ],
      "source": [
        "### ESTIMATED GP EI GRADIENTS\n",
        "\n",
        "np.random.seed(run_num_18)\n",
        "surrogate_approx_18 = dGaussianProcess(cov_func, optimize=opt)\n",
        "\n",
        "approx_18 = GPGO_multi(surrogate_approx_18, Acquisition_grad(util), objfunc, param)\n",
        "approx_18.run(init_evals=n_init, max_iter=iters)\n"
      ]
    },
    {
      "cell_type": "code",
      "execution_count": 31,
      "metadata": {
        "id": "S3mxRQDLIUPC",
        "colab": {
          "base_uri": "https://localhost:8080/"
        },
        "outputId": "bb82cb8d-4225-472e-8d0b-b49f40f9b82e"
      },
      "outputs": [
        {
          "output_type": "stream",
          "name": "stdout",
          "text": [
            "Evaluation \t Proposed point \t  Current eval. \t  Best eval. \t        Exact EI: StdDev. x \t Approx EI: StdDev. x \n",
            "init\t [-4.12125592  2.6751971 ]\t 24.141429859518958\t 12.957869519084127\t    \t    \n",
            "init\t [-2.59135515 -3.70553152]\t 20.446085385698954\t 12.957869519084127\t    \t    \n",
            "init\t [-1.72598719 -4.27008445]\t 21.212653034418548\t 12.957869519084127\t    \t    \n",
            "init\t [1.76104531 3.13952049]\t 12.957869519084127\t 12.957869519084127\t    \t    \n",
            "init\t [4.9432772  1.38916592]\t 26.36577149009895\t 12.957869519084127\t    \t    \n",
            "1  \t [ 4.75301553 -5.12      ]\t 48.805556653491244\t 12.957869519084127\t 3.392851680753163\t 4.65283246792334\n",
            "\u001b[1m\u001b[92m2\u001b[0m\t \u001b[1m\u001b[92m[ 1.50915116 -1.41210432]\u001b[0m\t \u001b[1m\u001b[92m4.271575848279678\u001b[0m\t \u001b[1m\u001b[92m4.271575848279678\u001b[0m\t \u001b[1m\u001b[92m3.354642608563725\u001b[0m\t \u001b[1m\u001b[92m3.367036098068793\u001b[0m\n",
            "3  \t [5.12 5.12]\t 52.4288\t 4.271575848279678\t 4.022898689865994\t 3.8286261954330514\n",
            "4  \t [-5.12       -1.05767361]\t 27.333073470281633\t 4.271575848279678\t 2.829824675396934\t 3.131661947827292\n",
            "5  \t [-1.2576106  5.12     ]\t 27.79598442958272\t 4.271575848279678\t 2.891807909822642\t 3.264665331942447\n",
            "\u001b[1m\u001b[92m6\u001b[0m\t \u001b[1m\u001b[92m[-1.16823415  0.34129737]\u001b[0m\t \u001b[1m\u001b[92m1.481254929675213\u001b[0m\t \u001b[1m\u001b[92m1.481254929675213\u001b[0m\t \u001b[1m\u001b[92m3.361393775747934\u001b[0m\t \u001b[1m\u001b[92m2.940902961444745\u001b[0m\n",
            "7  \t [ 1.27356288 -5.12      ]\t 27.836362418752547\t 1.481254929675213\t 3.21297094103899\t 3.556458224181796\n",
            "8  \t [-5.12 -5.12]\t 52.4288\t 1.481254929675213\t 3.019446325687845\t 2.44946853571248\n",
            "9  \t [ 5.12       -1.77024431]\t 29.348164919339137\t 1.481254929675213\t 1.9845779146234637\t 2.874753699718991\n",
            "10 \t [-5.12  5.12]\t 52.4288\t 1.481254929675213\t 2.9261410094549616\t 2.872321212887997\n",
            "11 \t [-0.87860395  1.92568936]\t 4.4802244178254735\t 1.481254929675213\t 2.2001482554442706\t 2.382933558267016\n",
            "12 \t [-1.04128611 -1.13901294]\t 2.381627243422132\t 1.481254929675213\t 2.6669394679519227\t 2.044128323464486\n",
            "13 \t [1.61504389 0.54342043]\t 2.9036725201885965\t 1.481254929675213\t 2.6321728370773543\t 2.341931595353503\n",
            "14 \t [-2.46693034  0.05147658]\t 6.08839515653955\t 1.481254929675213\t 2.516309647975187\t 2.105382245256623\n",
            "\u001b[1m\u001b[92m15\u001b[0m\t \u001b[1m\u001b[92m[0.0001584  0.07308406]\u001b[0m\t \u001b[1m\u001b[92m0.005341304311154656\u001b[0m\t \u001b[1m\u001b[92m0.005341304311154656\u001b[0m\t \u001b[1m\u001b[92m2.388254306240092\u001b[0m\t \u001b[1m\u001b[92m2.664091041878231\u001b[0m\n",
            "\u001b[1m\u001b[92m16\u001b[0m\t \u001b[1m\u001b[92m[-0.00161876  0.07282672]\u001b[0m\t \u001b[1m\u001b[92m0.005306352018406716\u001b[0m\t \u001b[1m\u001b[92m0.005306352018406716\u001b[0m\t \u001b[1m\u001b[92m2.362907369345876\u001b[0m\t \u001b[1m\u001b[92m2.3647414001483362\u001b[0m\n",
            "\u001b[1m\u001b[92m17\u001b[0m\t \u001b[1m\u001b[92m[-0.00469249  0.07226709]\u001b[0m\t \u001b[1m\u001b[92m0.00524455128234358\u001b[0m\t \u001b[1m\u001b[92m0.00524455128234358\u001b[0m\t \u001b[1m\u001b[92m2.3180606039334455\u001b[0m\t \u001b[1m\u001b[92m2.01007469353294\u001b[0m\n",
            "\u001b[1m\u001b[92m18\u001b[0m\t \u001b[1m\u001b[92m[-0.00704679  0.07181444]\u001b[0m\t \u001b[1m\u001b[92m0.005206970866385027\u001b[0m\t \u001b[1m\u001b[92m0.005206970866385027\u001b[0m\t \u001b[1m\u001b[92m2.98741198579505\u001b[0m\t \u001b[1m\u001b[92m2.310817941286106\u001b[0m\n",
            "\u001b[1m\u001b[92m19\u001b[0m\t \u001b[1m\u001b[92m[-0.00877528  0.07149515]\u001b[0m\t \u001b[1m\u001b[92m0.005188562189505458\u001b[0m\t \u001b[1m\u001b[92m0.005188562189505458\u001b[0m\t \u001b[1m\u001b[92m1.9793224759000192\u001b[0m\t \u001b[1m\u001b[92m1.628489482994457\u001b[0m\n",
            "\u001b[1m\u001b[92m20\u001b[0m\t \u001b[1m\u001b[92m[-0.01006251  0.0712806 ]\u001b[0m\t \u001b[1m\u001b[92m0.005182178804794725\u001b[0m\t \u001b[1m\u001b[92m0.005182178804794725\u001b[0m\t \u001b[1m\u001b[92m2.569451406420216\u001b[0m\t \u001b[1m\u001b[92m2.020025184174127\u001b[0m\n"
          ]
        }
      ],
      "source": [
        "### ESTIMATED GP EI GRADIENTS\n",
        "\n",
        "np.random.seed(run_num_19)\n",
        "surrogate_approx_19 = dGaussianProcess(cov_func, optimize=opt)\n",
        "\n",
        "approx_19 = GPGO_multi(surrogate_approx_19, Acquisition_grad(util), objfunc, param)\n",
        "approx_19.run(init_evals=n_init, max_iter=iters)\n"
      ]
    },
    {
      "cell_type": "code",
      "execution_count": 32,
      "metadata": {
        "id": "Aawd59dRIUYn",
        "colab": {
          "base_uri": "https://localhost:8080/"
        },
        "outputId": "9ba5e595-5ef6-4e14-fe26-26dbe9e0e079"
      },
      "outputs": [
        {
          "output_type": "stream",
          "name": "stdout",
          "text": [
            "Evaluation \t Proposed point \t  Current eval. \t  Best eval. \t        Exact EI: StdDev. x \t Approx EI: StdDev. x \n",
            "init\t [0.9024594  4.07258857]\t 17.400410665504328\t 1.579257056101869\t    \t    \n",
            "init\t [4.00927467 3.23417577]\t 26.53417627399789\t 1.579257056101869\t    \t    \n",
            "init\t [-4.75249064  1.96359764]\t 26.44188299535699\t 1.579257056101869\t    \t    \n",
            "init\t [-1.24230715  0.18955208]\t 1.579257056101869\t 1.579257056101869\t    \t    \n",
            "init\t [ 1.61742301 -3.13497377]\t 12.44411771617229\t 1.579257056101869\t    \t    \n",
            "1  \t [-3.7715933  -4.66916893]\t 36.02605452946127\t 1.579257056101869\t 3.427626503925378\t 3.269252587931521\n",
            "2  \t [ 5.12 -5.12]\t 52.4288\t 1.579257056101869\t 2.861980520228427\t 3.6267550088564637\n",
            "3  \t [ 5.12       -0.75178267]\t 26.779577180703768\t 1.579257056101869\t 2.903416134234634\t 2.9106682153634598\n",
            "4  \t [-2.73894408  5.12      ]\t 33.71621469401172\t 1.579257056101869\t 3.093833465677091\t 3.573537958910844\n",
            "5  \t [1.47319363 0.3917278 ]\t 2.323750146559797\t 1.579257056101869\t 3.261244088326723\t 2.6808642527445876\n",
            "6  \t [-5.12       -1.44121113]\t 28.291489533480714\t 1.579257056101869\t 3.3749233687253843\t 3.4056682091860675\n",
            "7  \t [-1.38315971 -2.10930678]\t 6.362305871876286\t 1.579257056101869\t 3.925184962256419\t 3.2794885079055476\n",
            "8  \t [-0.42339223 -5.12      ]\t 26.393660982249273\t 1.579257056101869\t 3.09259061039491\t 3.247175323693732\n",
            "9  \t [-1.3570249   1.97655152]\t 5.748272498318782\t 1.579257056101869\t 3.0669113043456626\t 3.200789645376526\n",
            "\u001b[1m\u001b[92m10\u001b[0m\t \u001b[1m\u001b[92m[ 0.27923843 -0.53229991]\u001b[0m\t \u001b[1m\u001b[92m0.36131729902126475\u001b[0m\t \u001b[1m\u001b[92m0.36131729902126475\u001b[0m\t \u001b[1m\u001b[92m2.9901269843364373\u001b[0m\t \u001b[1m\u001b[92m2.705010743770993\u001b[0m\n",
            "11 \t [-2.52795154 -0.0964873 ]\t 6.399848767226101\t 0.36131729902126475\t 3.3071088801235966\t 2.4302899611453928\n",
            "\u001b[1m\u001b[92m12\u001b[0m\t \u001b[1m\u001b[92m[0.00371097 0.04988734]\u001b[0m\t \u001b[1m\u001b[92m0.0025025178141064803\u001b[0m\t \u001b[1m\u001b[92m0.0025025178141064803\u001b[0m\t \u001b[1m\u001b[92m3.3367922910821353\u001b[0m\t \u001b[1m\u001b[92m3.212281751291052\u001b[0m\n",
            "\u001b[1m\u001b[92m13\u001b[0m\t \u001b[1m\u001b[92m[ 0.00699167 -0.03451842]\u001b[0m\t \u001b[1m\u001b[92m0.0012404049911176537\u001b[0m\t \u001b[1m\u001b[92m0.0012404049911176537\u001b[0m\t \u001b[1m\u001b[92m3.198516629469814\u001b[0m\t \u001b[1m\u001b[92m3.450248549203576\u001b[0m\n",
            "14 \t [ 0.01390831 -0.0881517 ]\t 0.007964162621174824\t 0.0012404049911176537\t 3.136665026130438\t 2.35783042426353\n",
            "15 \t [ 0.01969121 -0.11355826]\t 0.013283221424197552\t 0.0012404049911176537\t 2.699547375277729\t 2.8155742940805863\n",
            "16 \t [ 0.0218376  -0.11477882]\t 0.013651057751651872\t 0.0012404049911176537\t 3.2339650199737564\t 2.7268349186049345\n",
            "\u001b[1m\u001b[92m17\u001b[0m\t \u001b[1m\u001b[92m[0.0126267  0.03171816]\u001b[0m\t \u001b[1m\u001b[92m0.001165475144071748\u001b[0m\t \u001b[1m\u001b[92m0.001165475144071748\u001b[0m\t \u001b[1m\u001b[92m3.2906553796745053\u001b[0m\t \u001b[1m\u001b[92m2.9243951521320346\u001b[0m\n",
            "18 \t [ 0.09610176 -0.33287876]\t 0.12004382009803177\t 0.001165475144071748\t 3.660656811427721\t 3.18228609486719\n",
            "19 \t [0.03199471 0.2307023 ]\t 0.054247214688515\t 0.001165475144071748\t 3.2729251839005418\t 2.281708191908098\n",
            "20 \t [ 0.01067163 -0.07394948]\t 0.0055824097338744985\t 0.001165475144071748\t 3.2013535288592325\t 2.412638781897568\n"
          ]
        }
      ],
      "source": [
        "### ESTIMATED GP EI GRADIENTS\n",
        "\n",
        "np.random.seed(run_num_20)\n",
        "surrogate_approx_20 = dGaussianProcess(cov_func, optimize=opt)\n",
        "\n",
        "approx_20 = GPGO_multi(surrogate_approx_20, Acquisition_grad(util), objfunc, param)\n",
        "approx_20.run(init_evals=n_init, max_iter=iters)\n"
      ]
    },
    {
      "cell_type": "code",
      "execution_count": 33,
      "metadata": {
        "id": "xkgzPRbBTHaq",
        "colab": {
          "base_uri": "https://localhost:8080/"
        },
        "outputId": "de768292-851a-4552-bb08-d326e1e2c664"
      },
      "outputs": [
        {
          "output_type": "execute_result",
          "data": {
            "text/plain": [
              "1659635602.4195282"
            ]
          },
          "metadata": {},
          "execution_count": 33
        }
      ],
      "source": [
        "end_approx = time.time()\n",
        "end_approx\n",
        "\n",
        "time_approx = end_approx - start_approx\n",
        "time_approx\n",
        "\n",
        "start_exact = time.time()\n",
        "start_exact"
      ]
    },
    {
      "cell_type": "code",
      "execution_count": 34,
      "metadata": {
        "id": "7CG3Ndvb16Rb",
        "colab": {
          "base_uri": "https://localhost:8080/"
        },
        "outputId": "8b003d1c-9106-4da2-fcd8-09c790fb1e06"
      },
      "outputs": [
        {
          "output_type": "stream",
          "name": "stdout",
          "text": [
            "Evaluation \t Proposed point \t  Current eval. \t  Best eval. \t        Exact EI: StdDev. x \t Approx EI: StdDev. x \n",
            "init\t [-0.84969467  2.25612281]\t 5.812071182014687\t 1.275455677703416\t    \t    \n",
            "init\t [-5.1188288  -2.02411446]\t 30.299447634857913\t 1.275455677703416\t    \t    \n",
            "init\t [-3.61721968 -4.17445279]\t 30.510334291475417\t 1.275455677703416\t    \t    \n",
            "init\t [-3.21269544 -1.58145816]\t 12.822421857501787\t 1.275455677703416\t    \t    \n",
            "init\t [-1.05710106  0.39748336]\t 1.275455677703416\t 1.275455677703416\t    \t    \n",
            "1  \t [ 4.04077223 -4.24914728]\t 34.383092818836786\t 1.275455677703416\t 3.691785971903543\t 4.210350150347429\n",
            "2  \t [5.09038263 4.7298859 ]\t 48.28381601639272\t 1.275455677703416\t 3.203911494720302\t 3.5519473993112305\n",
            "3  \t [3.00335905 0.42811141]\t 9.203444954634248\t 1.275455677703416\t 3.333347591924856\t 3.838709013770147\n",
            "4  \t [-4.89967556  4.5871254 ]\t 45.04853999879627\t 1.275455677703416\t 3.730459237769259\t 4.306288549276068\n",
            "5  \t [0.96939003 5.12      ]\t 27.154117031593465\t 1.275455677703416\t 2.7884862137244957\t 3.135905474870433\n",
            "6  \t [ 0.17995317 -5.12      ]\t 26.246783145186246\t 1.275455677703416\t 2.5929537764135207\t 3.210409819722218\n",
            "7  \t [ 1.11153647 -1.92519775]\t 4.941899690594369\t 1.275455677703416\t 3.1686657563206886\t 3.2957408131980017\n",
            "8  \t [-4.04326804  1.33035625]\t 18.11786417533424\t 1.275455677703416\t 3.1294877812334683\t 3.592499360298182\n",
            "9  \t [5.12       1.48660952]\t 28.42440787332314\t 1.275455677703416\t 3.219735421059749\t 3.1501305993922073\n",
            "10 \t [ 5.0462078  -1.37779155]\t 27.36252271876917\t 1.275455677703416\t 2.909399301110144\t 3.1406595022903687\n",
            "\u001b[1m\u001b[92m11\u001b[0m\t \u001b[1m\u001b[92m[-0.65877028 -0.8398634 ]\u001b[0m\t \u001b[1m\u001b[92m1.139348809445437\u001b[0m\t \u001b[1m\u001b[92m1.139348809445437\u001b[0m\t \u001b[1m\u001b[92m2.655648605471138\u001b[0m\t \u001b[1m\u001b[92m3.058033336072842\u001b[0m\n",
            "12 \t [-1.8438254   4.93086067]\t 27.713079052411036\t 1.139348809445437\t 2.9751093247960383\t 3.361562264487634\n",
            "13 \t [1.43540042 2.27316292]\t 7.227644018244683\t 1.139348809445437\t 2.3469731187316754\t 1.6441653964691054\n",
            "14 \t [-0.87845333 -2.40641845]\t 6.562530002296954\t 1.139348809445437\t 2.9441375658900895\t 2.4710011455673113\n",
            "\u001b[1m\u001b[92m15\u001b[0m\t \u001b[1m\u001b[92m[0.17349548 0.00336596]\u001b[0m\t \u001b[1m\u001b[92m0.03011200972054851\u001b[0m\t \u001b[1m\u001b[92m0.03011200972054851\u001b[0m\t \u001b[1m\u001b[92m2.91544350229281\u001b[0m\t \u001b[1m\u001b[92m1.7756960038069043\u001b[0m\n",
            "16 \t [ 0.76116018 -0.23208167]\t 0.6332267266206447\t 0.03011200972054851\t 2.715153892045548\t 2.415418473878812\n",
            "17 \t [ 0.86995157 -0.34377454]\t 0.8749966653906537\t 0.03011200972054851\t 2.865669129098744\t 2.581270756601687\n",
            "\u001b[1m\u001b[92m18\u001b[0m\t \u001b[1m\u001b[92m[-0.11641308  0.09072118]\u001b[0m\t \u001b[1m\u001b[92m0.021782336939642453\u001b[0m\t \u001b[1m\u001b[92m0.021782336939642453\u001b[0m\t \u001b[1m\u001b[92m3.127284856584945\u001b[0m\t \u001b[1m\u001b[92m2.506246426117315\u001b[0m\n",
            "19 \t [ 0.6813297  -0.27156121]\t 0.5379556494420928\t 0.021782336939642453\t 2.9608184403969937\t 3.0587988758714437\n",
            "\u001b[1m\u001b[92m20\u001b[0m\t \u001b[1m\u001b[92m[-0.09588059  0.07532195]\u001b[0m\t \u001b[1m\u001b[92m0.014866484153432627\u001b[0m\t \u001b[1m\u001b[92m0.014866484153432627\u001b[0m\t \u001b[1m\u001b[92m2.8570675145515607\u001b[0m\t \u001b[1m\u001b[92m1.8228903215410281\u001b[0m\n"
          ]
        }
      ],
      "source": [
        "### EXACT GP EI GRADIENTS\n",
        "\n",
        "np.random.seed(run_num_1)\n",
        "surrogate_exact_1 = dGaussianProcess(cov_func, optimize=opt)\n",
        "\n",
        "exact_1 = dGPGO(surrogate_exact_1, Acquisition_grad(util), objfunc, param)\n",
        "exact_1.run(init_evals=n_init, max_iter=iters)\n"
      ]
    },
    {
      "cell_type": "code",
      "execution_count": 35,
      "metadata": {
        "id": "-ilCPSAu9SAg",
        "colab": {
          "base_uri": "https://localhost:8080/"
        },
        "outputId": "766fa9d5-e7bf-40a6-aeca-cf12f1aa18f6"
      },
      "outputs": [
        {
          "output_type": "stream",
          "name": "stdout",
          "text": [
            "Evaluation \t Proposed point \t  Current eval. \t  Best eval. \t        Exact EI: StdDev. x \t Approx EI: StdDev. x \n",
            "init\t [-0.6554122  -4.85451539]\t 23.995884788327533\t 0.6972563370202991\t    \t    \n",
            "init\t [ 0.50854377 -0.6622987 ]\t 0.6972563370202991\t 0.6972563370202991\t    \t    \n",
            "init\t [-0.81543371 -1.73737143]\t 3.683391625826377\t 0.6972563370202991\t    \t    \n",
            "init\t [-3.02439799  1.2213347 ]\t 10.638641624769724\t 0.6972563370202991\t    \t    \n",
            "init\t [-2.05153614 -2.3876887 ]\t 9.90985788235879\t 0.6972563370202991\t    \t    \n",
            "1  \t [4.81874241 3.07464552]\t 32.673723450709105\t 0.6972563370202991\t 3.7392471818164985\t 3.803265468944183\n",
            "2  \t [ 4.84261962 -3.9651574 ]\t 39.17343798926941\t 0.6972563370202991\t 3.059133412075313\t 3.969792722960523\n",
            "3  \t [1.81916914e-03 5.12000000e+00]\t 26.21440330937637\t 0.6972563370202991\t 3.641573247019779\t 3.8545554488340668\n",
            "4  \t [-5.12 -5.12]\t 52.4288\t 0.6972563370202991\t 3.3871924672206783\t 3.4876343506627427\n",
            "5  \t [ 3.35003283 -0.51212335]\t 11.484990311875338\t 0.6972563370202991\t 3.062377085613091\t 3.0879318089460317\n",
            "6  \t [-4.076606    4.78604205]\t 39.524914920539615\t 0.6972563370202991\t 2.9742589024216985\t 3.452183434307101\n",
            "7  \t [0.75890911 1.54220324]\t 2.954333881761095\t 0.6972563370202991\t 2.617292641046532\t 2.758253636928446\n",
            "8  \t [-5.12       -1.21613749]\t 27.693390401321327\t 0.6972563370202991\t 3.2123030855847654\t 2.622833462933434\n",
            "9  \t [ 1.05347769 -1.99784461]\t 5.101198328853768\t 0.6972563370202991\t 2.843792779855494\t 2.964106792047897\n",
            "\u001b[1m\u001b[92m10\u001b[0m\t \u001b[1m\u001b[92m[-0.69569561  0.42421925]\u001b[0m\t \u001b[1m\u001b[92m0.6639543509507873\u001b[0m\t \u001b[1m\u001b[92m0.6639543509507873\u001b[0m\t \u001b[1m\u001b[92m3.2185894160931223\u001b[0m\t \u001b[1m\u001b[92m3.142804254248528\u001b[0m\n",
            "11 \t [ 1.96751334 -4.44052732]\t 23.589391612911946\t 0.6639543509507873\t 3.005102682485366\t 3.0592926486006347\n",
            "12 \t [3.35286804 5.12      ]\t 37.45612406938278\t 0.6639543509507873\t 2.5090693067954484\t 2.250592444397676\n",
            "13 \t [-0.7343731   2.17191203]\t 5.256505693835767\t 0.6639543509507873\t 2.666758269532711\t 2.1506396480929486\n",
            "14 \t [-5.12        1.94178154]\t 29.98491553980479\t 0.6639543509507873\t 2.707797240177399\t 3.1259108304676904\n",
            "\u001b[1m\u001b[92m15\u001b[0m\t \u001b[1m\u001b[92m[-0.02460767 -0.12649115]\u001b[0m\t \u001b[1m\u001b[92m0.01660554819832467\u001b[0m\t \u001b[1m\u001b[92m0.01660554819832467\u001b[0m\t \u001b[1m\u001b[92m2.331094298594893\u001b[0m\t \u001b[1m\u001b[92m2.7099274878956394\u001b[0m\n",
            "16 \t [-0.7319195   0.01490162]\t 0.5359282170808489\t 0.01660554819832467\t 3.0326401786554316\t 2.56797304872042\n",
            "17 \t [ 0.66843255 -0.1550889 ]\t 0.47085464035251173\t 0.01660554819832467\t 2.7691633438432905\t 2.566032280551525\n",
            "18 \t [2.16445013 1.85050753]\t 8.109222454558452\t 0.01660554819832467\t 2.3488515433734567\t 2.029264817880777\n",
            "19 \t [ 0.15174263 -0.10310342]\t 0.03365614122517149\t 0.01660554819832467\t 2.5134026279035804\t 2.6207832317609654\n",
            "20 \t [-0.25388482  0.02543314]\t 0.06510434435108738\t 0.01660554819832467\t 2.659065444098061\t 2.422304660648452\n"
          ]
        }
      ],
      "source": [
        "### EXACT GP EI GRADIENTS\n",
        "\n",
        "np.random.seed(run_num_2)\n",
        "surrogate_exact_2 = dGaussianProcess(cov_func, optimize=opt)\n",
        "\n",
        "exact_2 = dGPGO(surrogate_exact_2, Acquisition_grad(util), objfunc, param)\n",
        "exact_2.run(init_evals=n_init, max_iter=iters)\n"
      ]
    },
    {
      "cell_type": "code",
      "execution_count": 36,
      "metadata": {
        "id": "XieJ158mIvlP",
        "colab": {
          "base_uri": "https://localhost:8080/"
        },
        "outputId": "b6d1b11a-f775-4b50-ac18-10f8b96d83b9"
      },
      "outputs": [
        {
          "output_type": "stream",
          "name": "stdout",
          "text": [
            "Evaluation \t Proposed point \t  Current eval. \t  Best eval. \t        Exact EI: StdDev. x \t Approx EI: StdDev. x \n",
            "init\t [0.52017052 2.1314337 ]\t 4.813587005218131\t 4.59675431006429\t    \t    \n",
            "init\t [-2.14113547  0.11087468]\t 4.59675431006429\t 4.59675431006429\t    \t    \n",
            "init\t [4.02377681 4.05804123]\t 32.65847846685941\t 4.59675431006429\t    \t    \n",
            "init\t [-3.83400642 -2.99783293]\t 23.686607498512902\t 4.59675431006429\t    \t    \n",
            "init\t [-4.59297584 -0.6061072 ]\t 21.462792989409664\t 4.59675431006429\t    \t    \n",
            "1  \t [ 1.83377975 -2.95605019]\t 12.100980895049556\t 4.59675431006429\t 2.215013408667592\t 3.5171310798317847\n",
            "2  \t [-3.33183818  5.05236168]\t 36.62750426873441\t 4.59675431006429\t 3.229835850000944\t 4.186453035322514\n",
            "3  \t [ 5.12       -0.35003239]\t 26.336922676042715\t 4.59675431006429\t 3.2316887560462964\t 3.3056285772606913\n",
            "4  \t [-1.03201102 -5.12      ]\t 27.279446738975928\t 4.59675431006429\t 3.174444703829873\t 2.892666624366455\n",
            "\u001b[1m\u001b[92m5\u001b[0m\t \u001b[1m\u001b[92m[ 1.69181282 -0.01788526]\u001b[0m\t \u001b[1m\u001b[92m2.8625505026639892\u001b[0m\t \u001b[1m\u001b[92m2.8625505026639892\u001b[0m\t \u001b[1m\u001b[92m3.3436812573882797\u001b[0m\t \u001b[1m\u001b[92m3.3283562292189894\u001b[0m\n",
            "6  \t [ 5.12       -4.57451492]\t 47.140586790233925\t 2.8625505026639892\t 3.1321096037298997\t 3.608321691408131\n",
            "7  \t [0.44559522 5.12      ]\t 26.41295510443099\t 2.8625505026639892\t 3.399022142930009\t 3.0143461638315174\n",
            "8  \t [-5.08174528  2.25771144]\t 30.921396059596177\t 2.8625505026639892\t 3.3941906702931144\t 3.519664529063961\n",
            "9  \t [-5.12 -5.12]\t 52.4288\t 2.8625505026639892\t 2.68752518476276\t 2.0461705106563786\n",
            "10 \t [-0.38670381 -2.19612355]\t 4.972498485758064\t 2.8625505026639892\t 2.772752977871904\t 2.8590500920868984\n",
            "11 \t [-1.2193327   1.65500935]\t 4.2258281749398865\t 2.8625505026639892\t 3.181279921473716\t 2.749241572370108\n",
            "12 \t [2.99899328 1.1686834 ]\t 10.359781545474336\t 2.8625505026639892\t 2.420486387539752\t 2.137368972679656\n",
            "\u001b[1m\u001b[92m13\u001b[0m\t \u001b[1m\u001b[92m[ 0.13937896 -0.222667  ]\u001b[0m\t \u001b[1m\u001b[92m0.06900708636853053\u001b[0m\t \u001b[1m\u001b[92m0.06900708636853053\u001b[0m\t \u001b[1m\u001b[92m3.2488787723604773\u001b[0m\t \u001b[1m\u001b[92m2.9216448070828536\u001b[0m\n",
            "\u001b[1m\u001b[92m14\u001b[0m\t \u001b[1m\u001b[92m[ 0.05243209 -0.17004646]\u001b[0m\t \u001b[1m\u001b[92m0.03166492214855747\u001b[0m\t \u001b[1m\u001b[92m0.03166492214855747\u001b[0m\t \u001b[1m\u001b[92m2.778448725398403\u001b[0m\t \u001b[1m\u001b[92m2.2774576235043997\u001b[0m\n",
            "15 \t [ 1.22564731 -0.87856672]\t 2.274090820921912\t 0.03166492214855747\t 2.932429516529662\t 2.1086537982338007\n",
            "16 \t [ 0.12346827 -0.2693103 ]\t 0.08777245099385361\t 0.03166492214855747\t 2.6721909705131517\t 2.959567945232938\n",
            "\u001b[1m\u001b[92m17\u001b[0m\t \u001b[1m\u001b[92m[-0.16400328 -0.03504525]\u001b[0m\t \u001b[1m\u001b[92m0.028125244481436884\u001b[0m\t \u001b[1m\u001b[92m0.028125244481436884\u001b[0m\t \u001b[1m\u001b[92m2.3590845719889746\u001b[0m\t \u001b[1m\u001b[92m2.4817002445772363\u001b[0m\n",
            "18 \t [ 0.64411277 -0.68539144]\t 0.8846426806129706\t 0.028125244481436884\t 3.039680449306396\t 3.221896416822309\n",
            "\u001b[1m\u001b[92m19\u001b[0m\t \u001b[1m\u001b[92m[-0.15389527 -0.05100957]\u001b[0m\t \u001b[1m\u001b[92m0.026285729897695526\u001b[0m\t \u001b[1m\u001b[92m0.026285729897695526\u001b[0m\t \u001b[1m\u001b[92m3.0138004774616336\u001b[0m\t \u001b[1m\u001b[92m2.9710084373013554\u001b[0m\n",
            "20 \t [ 0.10716749 -0.26159605]\t 0.07991736375351133\t 0.026285729897695526\t 2.1744688800354344\t 2.416347709363123\n"
          ]
        }
      ],
      "source": [
        "### EXACT GP EI GRADIENTS\n",
        "\n",
        "np.random.seed(run_num_3)\n",
        "surrogate_exact_3 = dGaussianProcess(cov_func, optimize=opt)\n",
        "\n",
        "exact_3 = dGPGO(surrogate_exact_3, Acquisition_grad(util), objfunc, param)\n",
        "exact_3.run(init_evals=n_init, max_iter=iters)\n"
      ]
    },
    {
      "cell_type": "code",
      "execution_count": 37,
      "metadata": {
        "id": "PhLBVOIfIvol",
        "colab": {
          "base_uri": "https://localhost:8080/"
        },
        "outputId": "4fcf14b8-0051-4673-9fbe-8a97fecef8ab"
      },
      "outputs": [
        {
          "output_type": "stream",
          "name": "stdout",
          "text": [
            "Evaluation \t Proposed point \t  Current eval. \t  Best eval. \t        Exact EI: StdDev. x \t Approx EI: StdDev. x \n",
            "init\t [4.78238555 0.48365823]\t 23.1051368481516\t 6.844040613967918\t    \t    \n",
            "init\t [4.84028785 2.19971578]\t 28.267135924302462\t 6.844040613967918\t    \t    \n",
            "init\t [ 2.02474316 -2.90724357]\t 12.551650027390728\t 6.844040613967918\t    \t    \n",
            "init\t [ 4.87705042 -5.05620219]\t 49.3508013219099\t 6.844040613967918\t    \t    \n",
            "init\t [-2.52946061 -0.66773471]\t 6.844040613967918\t 6.844040613967918\t    \t    \n",
            "1  \t [-1.14361995  4.64615781]\t 22.89464894080344\t 6.844040613967918\t 2.9144395930511804\t 3.9081554543960904\n",
            "2  \t [-5.12 -5.12]\t 52.4288\t 6.844040613967918\t 3.9273347184536607\t 3.421996763016359\n",
            "3  \t [-0.97092589 -5.12      ]\t 27.15709707632272\t 6.844040613967918\t 3.3006712722065794\t 3.691598736015993\n",
            "\u001b[1m\u001b[92m4\u001b[0m\t \u001b[1m\u001b[92m[0.65713872 1.17930062]\u001b[0m\t \u001b[1m\u001b[92m1.822581246462247\u001b[0m\t \u001b[1m\u001b[92m1.822581246462247\u001b[0m\t \u001b[1m\u001b[92m2.942250668320863\u001b[0m\t \u001b[1m\u001b[92m3.312802730219831\u001b[0m\n",
            "5  \t [-5.12       2.7052626]\t 33.53284574993995\t 1.822581246462247\t 2.8168078603834776\t 3.687909785690261\n",
            "6  \t [3.46620569 5.12      ]\t 38.22898189284976\t 1.822581246462247\t 3.404561359960485\t 3.476756892180534\n",
            "7  \t [-5.12       -1.58061822]\t 28.712753967913038\t 1.822581246462247\t 2.181917575588676\t 2.3320485934333304\n",
            "8  \t [-2.01164204  1.82777041]\t 7.387448347360998\t 1.822581246462247\t 2.707484759605126\t 2.2893075419572786\n",
            "\u001b[1m\u001b[92m9\u001b[0m\t \u001b[1m\u001b[92m[-0.09505786 -0.53886589]\u001b[0m\t \u001b[1m\u001b[92m0.29941244716194876\u001b[0m\t \u001b[1m\u001b[92m0.29941244716194876\u001b[0m\t \u001b[1m\u001b[92m2.6121360809794982\u001b[0m\t \u001b[1m\u001b[92m2.892035844476644\u001b[0m\n",
            "10 \t [1.35004244 2.74560811]\t 9.36097850068397\t 0.29941244716194876\t 2.787762598599802\t 2.937652211093217\n",
            "11 \t [ 1.99447683 -0.37605102]\t 4.1193522005928305\t 0.29941244716194876\t 2.9215512230481036\t 3.2132974885951078\n",
            "12 \t [ 5.06377703 -2.05595368]\t 29.86878330076259\t 0.29941244716194876\t 2.6125264371276455\t 3.1352470082329975\n",
            "13 \t [-0.45474435 -1.41397012]\t 2.206103938786727\t 0.29941244716194876\t 2.8017032088042724\t 3.130301687853584\n",
            "\u001b[1m\u001b[92m14\u001b[0m\t \u001b[1m\u001b[92m[ 0.13480544 -0.0681822 ]\u001b[0m\t \u001b[1m\u001b[92m0.022821318877486986\u001b[0m\t \u001b[1m\u001b[92m0.022821318877486986\u001b[0m\t \u001b[1m\u001b[92m2.7585423121345203\u001b[0m\t \u001b[1m\u001b[92m2.4227092504581447\u001b[0m\n",
            "15 \t [-0.28121147  0.41725028]\t 0.2531776928844214\t 0.022821318877486986\t 2.722568273670803\t 2.797681804392145\n",
            "16 \t [-0.05496913  0.17726493]\t 0.03444446168498428\t 0.022821318877486986\t 3.089473264302861\t 2.5983962073543694\n",
            "17 \t [-0.27135879  0.44181453]\t 0.26883566809845605\t 0.022821318877486986\t 2.5738123617882285\t 2.6211878544864784\n",
            "18 \t [-2.4080277  -2.84694163]\t 13.903674011182394\t 0.022821318877486986\t 3.2281156581518022\t 3.0309203951219468\n",
            "19 \t [ 0.26567859 -0.33355181]\t 0.181841921076337\t 0.022821318877486986\t 2.9397530123103057\t 3.050484309045941\n",
            "20 \t [-0.10955811  0.17108202]\t 0.041272036011141856\t 0.022821318877486986\t 2.258088030505549\t 2.863057065806463\n"
          ]
        }
      ],
      "source": [
        "### EXACT GP EI GRADIENTS\n",
        "\n",
        "np.random.seed(run_num_4)\n",
        "surrogate_exact_4 = dGaussianProcess(cov_func, optimize=opt)\n",
        "\n",
        "exact_4 = dGPGO(surrogate_exact_4, Acquisition_grad(util), objfunc, param)\n",
        "exact_4.run(init_evals=n_init, max_iter=iters)\n"
      ]
    },
    {
      "cell_type": "code",
      "execution_count": 38,
      "metadata": {
        "id": "arbiPyj2IvsJ",
        "colab": {
          "base_uri": "https://localhost:8080/"
        },
        "outputId": "0e241f18-5565-41b1-d3f8-65cee560654e"
      },
      "outputs": [
        {
          "output_type": "stream",
          "name": "stdout",
          "text": [
            "Evaluation \t Proposed point \t  Current eval. \t  Best eval. \t        Exact EI: StdDev. x \t Approx EI: StdDev. x \n",
            "init\t [-2.84678993  3.79629882]\t 22.516097589112718\t 1.3234068721819314\t    \t    \n",
            "init\t [-3.00319585  4.2865757 ]\t 27.393916517947076\t 1.3234068721819314\t    \t    \n",
            "init\t [-0.11866943  1.14425716]\t 1.3234068721819314\t 1.3234068721819314\t    \t    \n",
            "init\t [2.72289645 0.1886002 ]\t 7.449735113237491\t 1.3234068721819314\t    \t    \n",
            "init\t [-2.08076286 -3.19773462]\t 14.555080786026249\t 1.3234068721819314\t    \t    \n",
            "1  \t [ 4.32895605 -5.09732646]\t 44.722597532365825\t 1.3234068721819314\t 4.461640564215958\t 4.5162802315012724\n",
            "2  \t [5.12 5.12]\t 52.4288\t 1.3234068721819314\t 4.391281755178421\t 3.8702485725789155\n",
            "3  \t [-5.12      -0.2720871]\t 26.288431390445176\t 1.3234068721819314\t 3.4846160222615885\t 3.7682679141532147\n",
            "4  \t [1.0359417  4.73281627]\t 23.472725051060333\t 1.3234068721819314\t 3.4979771917049467\t 3.403779401627839\n",
            "5  \t [-5.12 -5.12]\t 52.4288\t 1.3234068721819314\t 3.4220347924289576\t 3.385452066364523\n",
            "6  \t [ 0.59988623 -5.12      ]\t 26.57426348858202\t 1.3234068721819314\t 2.9785326536396006\t 3.428741247070335\n",
            "7  \t [ 5.12       -1.44571887]\t 28.30450305648057\t 1.3234068721819314\t 2.212895920342618\t 2.5297282884203547\n",
            "8  \t [ 0.75903717 -1.73532982]\t 3.587506996082641\t 1.3234068721819314\t 2.7842002128404895\t 2.794137254141325\n",
            "9  \t [-1.85244378  0.21362354]\t 3.4771829665631704\t 1.3234068721819314\t 2.769011106085136\t 2.919001454368464\n",
            "10 \t [4.70162059 1.93385134]\t 25.845017200603987\t 1.3234068721819314\t 2.575053643934547\t 2.6903013820303956\n",
            "11 \t [1.11812334 1.76913359]\t 4.380033464517391\t 1.3234068721819314\t 2.359499479949167\t 2.8515777193035907\n",
            "12 \t [-5.12        2.50444012]\t 32.48662032703303\t 1.3234068721819314\t 2.1047596485526\t 2.5128918648421914\n",
            "13 \t [-0.87684158  1.97259264]\t 4.659972898688388\t 1.3234068721819314\t 2.4405448381600654\t 2.4043260929069556\n",
            "\u001b[1m\u001b[92m14\u001b[0m\t \u001b[1m\u001b[92m[ 0.15334812 -0.2957381 ]\u001b[0m\t \u001b[1m\u001b[92m0.11097666872589011\u001b[0m\t \u001b[1m\u001b[92m0.11097666872589011\u001b[0m\t \u001b[1m\u001b[92m2.4089825456580733\u001b[0m\t \u001b[1m\u001b[92m2.6351479969731804\u001b[0m\n",
            "15 \t [ 2.42082889 -2.6685863 ]\t 12.981765372197597\t 0.11097666872589011\t 2.026638585724002\t 1.8114607669000382\n",
            "16 \t [ 0.08869468 -0.45893361]\t 0.21848680633726208\t 0.11097666872589011\t 2.77123348704741\t 2.304160781067567\n",
            "17 \t [-0.1133605 -0.3979409]\t 0.17120756557210712\t 0.11097666872589011\t 2.1794966575190386\t 2.1959397734736408\n",
            "18 \t [-0.30661478 -0.82238273]\t 0.7703259834876507\t 0.11097666872589011\t 2.423439332404789\t 2.5046944467642636\n",
            "\u001b[1m\u001b[92m19\u001b[0m\t \u001b[1m\u001b[92m[ 0.16919843 -0.06363963]\u001b[0m\t \u001b[1m\u001b[92m0.03267810964261743\u001b[0m\t \u001b[1m\u001b[92m0.03267810964261743\u001b[0m\t \u001b[1m\u001b[92m2.2909653762014535\u001b[0m\t \u001b[1m\u001b[92m1.9260093047921325\u001b[0m\n",
            "\u001b[1m\u001b[92m20\u001b[0m\t \u001b[1m\u001b[92m[-0.06645293  0.04276477]\u001b[0m\t \u001b[1m\u001b[92m0.006244816995647581\u001b[0m\t \u001b[1m\u001b[92m0.006244816995647581\u001b[0m\t \u001b[1m\u001b[92m2.388471865704526\u001b[0m\t \u001b[1m\u001b[92m2.5749688628921414\u001b[0m\n"
          ]
        }
      ],
      "source": [
        "### EXACT GP EI GRADIENTS\n",
        "\n",
        "np.random.seed(run_num_5)\n",
        "surrogate_exact_5 = dGaussianProcess(cov_func, optimize=opt)\n",
        "\n",
        "exact_5 = dGPGO(surrogate_exact_5, Acquisition_grad(util), objfunc, param)\n",
        "exact_5.run(init_evals=n_init, max_iter=iters)\n"
      ]
    },
    {
      "cell_type": "code",
      "execution_count": 39,
      "metadata": {
        "id": "04KJCEm_Ivvf",
        "colab": {
          "base_uri": "https://localhost:8080/"
        },
        "outputId": "18af28c8-de14-4773-bf15-7e859505a20d"
      },
      "outputs": [
        {
          "output_type": "stream",
          "name": "stdout",
          "text": [
            "Evaluation \t Proposed point \t  Current eval. \t  Best eval. \t        Exact EI: StdDev. x \t Approx EI: StdDev. x \n",
            "init\t [ 4.02288795 -1.72052679]\t 19.143839911819178\t 0.7844720799352826\t    \t    \n",
            "init\t [ 3.28938622 -4.69302655]\t 32.84455992822337\t 0.7844720799352826\t    \t    \n",
            "init\t [-4.0175956   0.97333314]\t 17.088451781196223\t 0.7844720799352826\t    \t    \n",
            "init\t [ 0.30532979 -0.83141193]\t 0.7844720799352826\t 0.7844720799352826\t    \t    \n",
            "init\t [-1.68542362  1.25459899]\t 4.414671405342624\t 0.7844720799352826\t    \t    \n",
            "1  \t [5.12 5.12]\t 52.4288\t 0.7844720799352826\t 4.036164788475474\t 3.818096236562348\n",
            "2  \t [-5.12 -5.12]\t 52.4288\t 0.7844720799352826\t 3.734459716347911\t 3.6319953041675106\n",
            "3  \t [0.09006709 5.12      ]\t 26.22251208042997\t 0.7844720799352826\t 3.070248757511774\t 3.2901867048373976\n",
            "4  \t [-0.87300913 -4.37691554]\t 19.919534623969444\t 0.7844720799352826\t 3.158561220486378\t 3.940848801661554\n",
            "5  \t [1.59347471 1.91404708]\t 6.202737861784824\t 0.7844720799352826\t 2.3273509708966897\t 3.004105899111705\n",
            "6  \t [-3.6021354   4.55844066]\t 33.75476071705376\t 0.7844720799352826\t 2.932959068557843\t 3.7272713138277758\n",
            "7  \t [5.12      1.4382011]\t 28.282822416146637\t 0.7844720799352826\t 2.9963920455844724\t 3.2242173614814686\n",
            "8  \t [-3.20202957 -2.01215268]\t 14.301751769217384\t 0.7844720799352826\t 2.5415360790892727\t 3.19698935786431\n",
            "9  \t [ 1.09667892 -2.11156398]\t 5.661407101126367\t 0.7844720799352826\t 2.2689962428024875\t 2.615105814276311\n",
            "10 \t [-0.37610866 -1.00736284]\t 1.1562376266816943\t 0.7844720799352826\t 2.707979933418567\t 2.7643401600191893\n",
            "\u001b[1m\u001b[92m11\u001b[0m\t \u001b[1m\u001b[92m[-0.08928303  0.2958893 ]\u001b[0m\t \u001b[1m\u001b[92m0.0955219349599826\u001b[0m\t \u001b[1m\u001b[92m0.0955219349599826\u001b[0m\t \u001b[1m\u001b[92m3.1197835937039304\u001b[0m\t \u001b[1m\u001b[92m3.1471799118618238\u001b[0m\n",
            "12 \t [0.61342451 0.01640801]\t 0.3765588493533442\t 0.0955219349599826\t 2.7103420817475987\t 2.502907596150832\n",
            "\u001b[1m\u001b[92m13\u001b[0m\t \u001b[1m\u001b[92m[-0.09429202  0.13453407]\u001b[0m\t \u001b[1m\u001b[92m0.0269904020746842\u001b[0m\t \u001b[1m\u001b[92m0.0269904020746842\u001b[0m\t \u001b[1m\u001b[92m2.6975201158864572\u001b[0m\t \u001b[1m\u001b[92m2.2597903127141064\u001b[0m\n",
            "\u001b[1m\u001b[92m14\u001b[0m\t \u001b[1m\u001b[92m[0.03071498 0.08173152]\u001b[0m\t \u001b[1m\u001b[92m0.007623452138526785\u001b[0m\t \u001b[1m\u001b[92m0.007623452138526785\u001b[0m\t \u001b[1m\u001b[92m2.6517587350620104\u001b[0m\t \u001b[1m\u001b[92m2.6254079992491297\u001b[0m\n",
            "15 \t [-0.26710314  0.9793814 ]\t 1.0305320063342738\t 0.007623452138526785\t 3.0522461204406555\t 2.748649673327893\n",
            "16 \t [ 0.66960718 -0.05256416]\t 0.4511367613281599\t 0.007623452138526785\t 2.9565469217677505\t 2.9462870464894184\n",
            "17 \t [ 0.68686839 -0.08272817]\t 0.4786321371328734\t 0.007623452138526785\t 2.845658732859872\t 3.1405386692088446\n",
            "18 \t [-0.07197995 -0.20015251]\t 0.0452421404972656\t 0.007623452138526785\t 2.974592007997375\t 2.9535770412362705\n",
            "19 \t [ 1.53837485 -0.08938228]\t 2.3745863686562143\t 0.007623452138526785\t 2.964516648240283\t 3.049825914557081\n",
            "20 \t [-0.03644819 -0.33862077]\t 0.1159924994661636\t 0.007623452138526785\t 2.9650412041669485\t 2.9285409067131907\n"
          ]
        }
      ],
      "source": [
        "### EXACT GP EI GRADIENTS\n",
        "\n",
        "np.random.seed(run_num_6)\n",
        "surrogate_exact_6 = dGaussianProcess(cov_func, optimize=opt)\n",
        "\n",
        "exact_6 = dGPGO(surrogate_exact_6, Acquisition_grad(util), objfunc, param)\n",
        "exact_6.run(init_evals=n_init, max_iter=iters)\n"
      ]
    },
    {
      "cell_type": "code",
      "execution_count": 40,
      "metadata": {
        "id": "tAOkme3CIvyO",
        "colab": {
          "base_uri": "https://localhost:8080/"
        },
        "outputId": "70a256e8-2e18-48ab-88c3-0edfd687edfb"
      },
      "outputs": [
        {
          "output_type": "stream",
          "name": "stdout",
          "text": [
            "Evaluation \t Proposed point \t  Current eval. \t  Best eval. \t        Exact EI: StdDev. x \t Approx EI: StdDev. x \n",
            "init\t [-4.33860312  2.86636843]\t 27.039544996254122\t 5.622519010932044\t    \t    \n",
            "init\t [-0.63068947  2.28828342]\t 5.634010222398341\t 5.622519010932044\t    \t    \n",
            "init\t [4.8946126  0.39419771]\t 24.112624368867845\t 5.622519010932044\t    \t    \n",
            "init\t [ 0.01147355 -4.38219639]\t 19.20377688135857\t 5.622519010932044\t    \t    \n",
            "init\t [-2.37118484e+00 -1.20319155e-03]\t 5.622519010932044\t 5.622519010932044\t    \t    \n",
            "1  \t [-5.12 -5.12]\t 52.4288\t 5.622519010932044\t 2.868484661406735\t 3.2175181065107923\n",
            "2  \t [3.33153055 5.12      ]\t 37.313495812505\t 5.622519010932044\t 3.7611921575874034\t 3.746379589748004\n",
            "3  \t [ 4.52357055 -4.16736482]\t 37.8296200448288\t 5.622519010932044\t 3.511749026108728\t 3.821955454411549\n",
            "4  \t [-4.02558214 -1.33646422]\t 17.991448177385568\t 5.622519010932044\t 2.8894091467469694\t 3.046307140328312\n",
            "\u001b[1m\u001b[92m5\u001b[0m\t \u001b[1m\u001b[92m[ 1.20810674 -0.75569857]\u001b[0m\t \u001b[1m\u001b[92m2.030602231941464\u001b[0m\t \u001b[1m\u001b[92m2.030602231941464\u001b[0m\t \u001b[1m\u001b[92m3.3234207839882566\u001b[0m\t \u001b[1m\u001b[92m3.134105564969273\u001b[0m\n",
            "6  \t [-0.94007511  5.12      ]\t 27.098141221178707\t 2.030602231941464\t 3.0301026456266253\t 3.564102558943389\n",
            "7  \t [1.91757897 1.98855567]\t 7.63146278944823\t 2.030602231941464\t 2.6785879369394165\t 2.8500572460693117\n",
            "8  \t [-2.38477635 -3.29478603]\t 16.54277321052529\t 2.030602231941464\t 3.023154789022183\t 3.050963242705072\n",
            "\u001b[1m\u001b[92m9\u001b[0m\t \u001b[1m\u001b[92m[-0.39098428 -0.4597123 ]\u001b[0m\t \u001b[1m\u001b[92m0.3642041075103026\u001b[0m\t \u001b[1m\u001b[92m0.3642041075103026\u001b[0m\t \u001b[1m\u001b[92m3.1215486725637107\u001b[0m\t \u001b[1m\u001b[92m3.43367223261693\u001b[0m\n",
            "10 \t [ 2.28875308 -1.94141988]\t 9.007501788630695\t 0.3642041075103026\t 2.655116433050843\t 2.7125913096536967\n",
            "11 \t [5.12       3.08791497]\t 35.74961884993017\t 0.3642041075103026\t 2.98775482124647\t 3.1307565969062465\n",
            "12 \t [-0.36006388 -1.1497021 ]\t 1.4514609152929692\t 0.3642041075103026\t 2.9729530388438747\t 3.04411185309919\n",
            "\u001b[1m\u001b[92m13\u001b[0m\t \u001b[1m\u001b[92m[ 0.32418041 -0.06869492]\u001b[0m\t \u001b[1m\u001b[92m0.10981192860493866\u001b[0m\t \u001b[1m\u001b[92m0.10981192860493866\u001b[0m\t \u001b[1m\u001b[92m2.9659226966847765\u001b[0m\t \u001b[1m\u001b[92m2.9306980463332604\u001b[0m\n",
            "\u001b[1m\u001b[92m14\u001b[0m\t \u001b[1m\u001b[92m[0.13228121 0.09913552]\u001b[0m\t \u001b[1m\u001b[92m0.027326170656291796\u001b[0m\t \u001b[1m\u001b[92m0.027326170656291796\u001b[0m\t \u001b[1m\u001b[92m2.34334345210258\u001b[0m\t \u001b[1m\u001b[92m2.6092668427636663\u001b[0m\n",
            "15 \t [0.28512922 0.03537554]\t 0.08255009948181428\t 0.027326170656291796\t 3.029985602392798\t 3.16733721433816\n",
            "16 \t [-0.124101    0.25152709]\t 0.07866693310495204\t 0.027326170656291796\t 2.2283501138919677\t 2.336927261433681\n",
            "17 \t [0.31577361 0.00309932]\t 0.0997225816553951\t 0.027326170656291796\t 2.310377047212325\t 2.3414270123255356\n",
            "18 \t [-0.0450504   0.17892688]\t 0.03404436814822834\t 0.027326170656291796\t 3.2182929444599546\t 3.1221577098582\n",
            "19 \t [0.24548851 0.03100364]\t 0.061225833321508466\t 0.027326170656291796\t 2.6929821446663653\t 2.9822203700453667\n",
            "20 \t [ 0.30645124 -0.01302951]\t 0.09408212812189813\t 0.027326170656291796\t 3.0628365456951823\t 2.910690199660011\n"
          ]
        }
      ],
      "source": [
        "### EXACT GP EI GRADIENTS\n",
        "\n",
        "np.random.seed(run_num_7)\n",
        "surrogate_exact_7 = dGaussianProcess(cov_func, optimize=opt)\n",
        "\n",
        "exact_7 = dGPGO(surrogate_exact_7, Acquisition_grad(util), objfunc, param)\n",
        "exact_7.run(init_evals=n_init, max_iter=iters)\n"
      ]
    },
    {
      "cell_type": "code",
      "execution_count": 41,
      "metadata": {
        "id": "69-J3EF4Iv1S",
        "colab": {
          "base_uri": "https://localhost:8080/"
        },
        "outputId": "ddb036ab-a6c4-49fd-eb85-0def7feaa936"
      },
      "outputs": [
        {
          "output_type": "stream",
          "name": "stdout",
          "text": [
            "Evaluation \t Proposed point \t  Current eval. \t  Best eval. \t        Exact EI: StdDev. x \t Approx EI: StdDev. x \n",
            "init\t [3.82391708 4.79785639]\t 37.641767782829874\t 0.10287109474532606\t    \t    \n",
            "init\t [3.78055209 0.31596228]\t 14.392406282091054\t 0.10287109474532606\t    \t    \n",
            "init\t [-2.73686192 -5.00327624]\t 32.52318635319257\t 0.10287109474532606\t    \t    \n",
            "init\t [-0.7119993  -0.99992207]\t 1.5067871566831337\t 0.10287109474532606\t    \t    \n",
            "init\t [ 0.23218863 -0.22126801]\t 0.10287109474532606\t 0.10287109474532606\t    \t    \n",
            "1  \t [-0.10522724  2.15793299]\t 4.667747547858372\t 0.10287109474532606\t 3.0250315318051917\t 3.7897315966540193\n",
            "2  \t [ 2.80805062 -4.94324048]\t 32.320774667618174\t 0.10287109474532606\t 3.3604065854973353\t 4.20954711774455\n",
            "3  \t [-5.12        0.67964193]\t 26.67631315818064\t 0.10287109474532606\t 2.917863327887236\t 3.541630650113821\n",
            "4  \t [-1.66085899  5.12      ]\t 28.97285256988505\t 0.10287109474532606\t 3.3761551431474373\t 3.947902559180855\n",
            "5  \t [ 1.40982162 -1.88822   ]\t 5.55297176426385\t 0.10287109474532606\t 3.1816969273569327\t 2.9236344466716337\n",
            "6  \t [-5.12       -2.84771117]\t 34.3238588887943\t 0.10287109474532606\t 3.104990886400937\t 3.440965107479325\n",
            "7  \t [-4.30525808  3.56504466]\t 31.24479061909792\t 0.10287109474532606\t 3.175361037753157\t 3.375346478839794\n",
            "8  \t [ 5.11875715 -2.22884207]\t 31.16941176688382\t 0.10287109474532606\t 3.0141088148963195\t 3.4599110982659256\n",
            "9  \t [-1.82894103 -1.99565027]\t 7.327645263223307\t 0.10287109474532606\t 3.151286520329403\t 2.653887394532575\n",
            "10 \t [-1.66916489  0.51035255]\t 3.046571151386683\t 0.10287109474532606\t 3.0600508573063143\t 2.4160426289577868\n",
            "11 \t [1.02535029 0.31919584]\t 1.15322920126087\t 0.10287109474532606\t 3.496583108728688\t 2.548980059795618\n",
            "12 \t [2.01697512 2.28718499]\t 9.299403830144332\t 0.10287109474532606\t 2.6338489244209904\t 2.059556027146984\n",
            "13 \t [-0.2121519  -3.37652352]\t 11.445919511262366\t 0.10287109474532606\t 2.979394697152631\t 2.7006030809010064\n",
            "14 \t [5.11860196 2.27117782]\t 31.35833470135911\t 0.10287109474532606\t 2.8549254652954126\t 3.4502329216654557\n",
            "15 \t [1.09140763 5.12      ]\t 27.405570614052582\t 0.10287109474532606\t 2.616726203625123\t 2.52967058683242\n",
            "16 \t [ 0.4075069  -0.26785692]\t 0.2378091993670913\t 0.10287109474532606\t 2.8107166301410427\t 2.1190083034913973\n",
            "17 \t [-2.17061126  2.18590212]\t 9.489721320204755\t 0.10287109474532606\t 2.8506170675076974\t 2.879331852408349\n",
            "18 \t [ 0.27401203 -0.21883633]\t 0.12297193346814575\t 0.10287109474532606\t 2.682619573981727\t 2.3809688499552673\n",
            "\u001b[1m\u001b[92m19\u001b[0m\t \u001b[1m\u001b[92m[ 0.07380859 -0.10611563]\u001b[0m\t \u001b[1m\u001b[92m0.01670823486903297\u001b[0m\t \u001b[1m\u001b[92m0.01670823486903297\u001b[0m\t \u001b[1m\u001b[92m2.5603949459323294\u001b[0m\t \u001b[1m\u001b[92m1.5810940474141615\u001b[0m\n",
            "20 \t [-0.25397607  0.13186768]\t 0.08189293104577092\t 0.01670823486903297\t 3.1609175130618534\t 2.545388703951676\n"
          ]
        }
      ],
      "source": [
        "### EXACT GP EI GRADIENTS\n",
        "\n",
        "np.random.seed(run_num_8)\n",
        "surrogate_exact_8 = dGaussianProcess(cov_func, optimize=opt)\n",
        "\n",
        "exact_8 = dGPGO(surrogate_exact_8, Acquisition_grad(util), objfunc, param)\n",
        "exact_8.run(init_evals=n_init, max_iter=iters)\n"
      ]
    },
    {
      "cell_type": "code",
      "execution_count": 42,
      "metadata": {
        "id": "vonm9jyuIv4t",
        "colab": {
          "base_uri": "https://localhost:8080/"
        },
        "outputId": "733a44cf-ef97-4c99-ee8d-3f8e21fbd7ad"
      },
      "outputs": [
        {
          "output_type": "stream",
          "name": "stdout",
          "text": [
            "Evaluation \t Proposed point \t  Current eval. \t  Best eval. \t        Exact EI: StdDev. x \t Approx EI: StdDev. x \n",
            "init\t [-5.01376866  0.01919582]\t 25.138244697862262\t 7.349882113053805\t    \t    \n",
            "init\t [-0.04328148 -3.74958562]\t 14.061265633999861\t 7.349882113053805\t    \t    \n",
            "init\t [-3.66478248 -2.88195916]\t 21.736319271030034\t 7.349882113053805\t    \t    \n",
            "init\t [-0.83447623 -2.57944404]\t 7.349882113053805\t 7.349882113053805\t    \t    \n",
            "init\t [-4.25922917 -1.58209393]\t 20.64405433050371\t 7.349882113053805\t    \t    \n",
            "1  \t [5.12 5.12]\t 52.4288\t 7.349882113053805\t 2.9784999898365063\t 3.032243567761824\n",
            "2  \t [-0.67683284  4.157138  ]\t 17.739899051817385\t 7.349882113053805\t 3.3354499838101637\t 3.588536234038563\n",
            "3  \t [ 5.12       -1.53415824]\t 28.56804150750456\t 7.349882113053805\t 3.049893890377064\t 3.7881140062624485\n",
            "\u001b[1m\u001b[92m4\u001b[0m\t \u001b[1m\u001b[92m[1.23335774 0.72932725]\u001b[0m\t \u001b[1m\u001b[92m2.0530895479974305\u001b[0m\t \u001b[1m\u001b[92m2.0530895479974305\u001b[0m\t \u001b[1m\u001b[92m3.0751198047528283\u001b[0m\t \u001b[1m\u001b[92m3.5662661918809495\u001b[0m\n",
            "5  \t [3.80051028 1.69397977]\t 17.31344586814809\t 2.0530895479974305\t 3.4305790964487506\t 3.9456841583856375\n",
            "6  \t [-4.24075089  3.6367695 ]\t 31.210060526178438\t 2.0530895479974305\t 3.243163945492811\t 3.574257602935818\n",
            "\u001b[1m\u001b[92m7\u001b[0m\t \u001b[1m\u001b[92m[-1.18737351  0.39631308]\u001b[0m\t \u001b[1m\u001b[92m1.5669199027368437\u001b[0m\t \u001b[1m\u001b[92m1.5669199027368437\u001b[0m\t \u001b[1m\u001b[92m2.615303662267426\u001b[0m\t \u001b[1m\u001b[92m3.246663960931216\u001b[0m\n",
            "8  \t [ 2.71464575 -3.58452438]\t 20.21811659698287\t 1.5669199027368437\t 2.943960870970597\t 3.3065785564800034\n",
            "9  \t [-5.12 -5.12]\t 52.4288\t 1.5669199027368437\t 3.5651286151959796\t 3.4260404899669425\n",
            "10 \t [2.09449799 3.97613052]\t 20.19653573782175\t 1.5669199027368437\t 2.646575539621169\t 2.860368007807161\n",
            "11 \t [ 1.7600092  -0.92380449]\t 3.9510471259334605\t 1.5669199027368437\t 2.3792478250257867\t 3.4945120773564438\n",
            "12 \t [-2.06320425  1.42286796]\t 6.2813650271231065\t 1.5669199027368437\t 2.355226393623699\t 2.8876396330321437\n",
            "\u001b[1m\u001b[92m13\u001b[0m\t \u001b[1m\u001b[92m[-0.27593543 -0.41474075]\u001b[0m\t \u001b[1m\u001b[92m0.24815025133490765\u001b[0m\t \u001b[1m\u001b[92m0.24815025133490765\u001b[0m\t \u001b[1m\u001b[92m2.205628565106262\u001b[0m\t \u001b[1m\u001b[92m2.354176536267155\u001b[0m\n",
            "14 \t [-1.96696122 -5.12      ]\t 30.083336452574596\t 0.24815025133490765\t 2.4097603681533477\t 2.5893904338740117\n",
            "15 \t [-0.3516608 -0.4017003]\t 0.2850284457482934\t 0.24815025133490765\t 2.5884863474840496\t 2.7759328170767232\n",
            "16 \t [-0.29436897 -0.40570314]\t 0.25124812747612685\t 0.24815025133490765\t 2.800591727386349\t 3.2135954633452015\n",
            "17 \t [0.13207641 1.10951034]\t 1.2484573616886314\t 0.24815025133490765\t 2.50981438213784\t 2.4223186326685373\n",
            "18 \t [-1.30573736 -0.57600207]\t 2.0367284455066983\t 0.24815025133490765\t 2.3112944467356358\t 2.652306426489035\n",
            "\u001b[1m\u001b[92m19\u001b[0m\t \u001b[1m\u001b[92m[-0.02737579 -0.20836044]\u001b[0m\t \u001b[1m\u001b[92m0.04416350831746153\u001b[0m\t \u001b[1m\u001b[92m0.04416350831746153\u001b[0m\t \u001b[1m\u001b[92m2.90719529167468\u001b[0m\t \u001b[1m\u001b[92m2.6710187533248306\u001b[0m\n",
            "20 \t [ 0.06105285 -0.33415746]\t 0.11538865646950855\t 0.04416350831746153\t 2.9209622658562466\t 3.098329991324678\n"
          ]
        }
      ],
      "source": [
        "### EXACT GP EI GRADIENTS\n",
        "\n",
        "np.random.seed(run_num_9)\n",
        "surrogate_exact_9 = dGaussianProcess(cov_func, optimize=opt)\n",
        "\n",
        "exact_9 = dGPGO(surrogate_exact_9, Acquisition_grad(util), objfunc, param)\n",
        "exact_9.run(init_evals=n_init, max_iter=iters)\n"
      ]
    },
    {
      "cell_type": "code",
      "execution_count": 43,
      "metadata": {
        "id": "6amuYlUdIv7r",
        "colab": {
          "base_uri": "https://localhost:8080/"
        },
        "outputId": "e9e016b1-bc49-429f-ea99-126858c9047e"
      },
      "outputs": [
        {
          "output_type": "stream",
          "name": "stdout",
          "text": [
            "Evaluation \t Proposed point \t  Current eval. \t  Best eval. \t        Exact EI: StdDev. x \t Approx EI: StdDev. x \n",
            "init\t [ 2.77832339 -4.90750004]\t 31.80263747150094\t 7.941821858928501\t    \t    \n",
            "init\t [1.36855793 2.54775176]\t 8.363989812138083\t 7.941821858928501\t    \t    \n",
            "init\t [-0.01528819 -2.81808235]\t 7.941821858928501\t 7.941821858928501\t    \t    \n",
            "init\t [-3.09183626  2.66783449]\t 16.67679237031191\t 7.941821858928501\t    \t    \n",
            "init\t [-3.38830503 -4.2154003 ]\t 29.25021071405309\t 7.941821858928501\t    \t    \n",
            "1  \t [ 5.12       -0.27137041]\t 26.288041898087062\t 7.941821858928501\t 3.47683395514817\t 3.4016687789658735\n",
            "2  \t [5.12 5.12]\t 52.4288\t 7.941821858928501\t 2.9517167839825103\t 3.192202721862711\n",
            "3  \t [-4.2170615  -0.72751033]\t 18.312878996259908\t 7.941821858928501\t 2.649820220993946\t 3.362962180448652\n",
            "4  \t [0.74567789 5.12      ]\t 26.770435510049882\t 7.941821858928501\t 3.6836015273148184\t 3.3901242828644462\n",
            "\u001b[1m\u001b[92m5\u001b[0m\t \u001b[1m\u001b[92m[ 0.09924042 -0.03856958]\u001b[0m\t \u001b[1m\u001b[92m0.011336272623869258\u001b[0m\t \u001b[1m\u001b[92m0.011336272623869258\u001b[0m\t \u001b[1m\u001b[92m3.08241247099577\u001b[0m\t \u001b[1m\u001b[92m3.3201626278105114\u001b[0m\n",
            "6  \t [ 2.01713816 -0.93447821]\t 4.942095901552804\t 0.011336272623869258\t 3.392276132605668\t 3.1582006855306406\n",
            "7  \t [-0.87338347  0.22265991]\t 0.8123761231636811\t 0.011336272623869258\t 3.1360971478494086\t 3.67212854621926\n",
            "8  \t [-0.45654731 -5.12      ]\t 26.422835443487536\t 0.011336272623869258\t 3.1133181967052863\t 3.11815961964711\n",
            "9  \t [3.64944976 2.33630388]\t 18.77679938202613\t 0.011336272623869258\t 3.2592086729107406\t 3.6164914748074293\n",
            "10 \t [-0.50831253  1.05289671]\t 1.3669731197358892\t 0.011336272623869258\t 3.226440494488911\t 3.9219985566139934\n",
            "11 \t [-1.94600101  4.99845975]\t 28.77151982262244\t 0.011336272623869258\t 2.8296580674347473\t 3.6713833155557354\n",
            "12 \t [-0.63376324 -0.63078009]\t 0.7995393597123693\t 0.011336272623869258\t 2.975339962930207\t 3.4354687660599916\n",
            "13 \t [ 5.10555348 -3.17257589]\t 36.131914074912295\t 0.011336272623869258\t 2.7343577015889236\t 3.4084616790391227\n",
            "14 \t [0.38256437 0.12372269]\t 0.16166279966588273\t 0.011336272623869258\t 3.0782152119187645\t 3.4399808302276744\n",
            "15 \t [-0.1270796   0.30429882]\t 0.10874699884126719\t 0.011336272623869258\t 3.58007930527222\t 3.1417992539658552\n",
            "16 \t [-1.49756854 -1.20242289]\t 3.688532334837575\t 0.011336272623869258\t 3.084525321651331\t 2.941972649958333\n",
            "17 \t [0.12126275 0.23254904]\t 0.06878371169444282\t 0.011336272623869258\t 3.2371601101161303\t 3.0808159580358407\n",
            "18 \t [0.29416959 0.01897867]\t 0.08689593847272659\t 0.011336272623869258\t 3.188841579486185\t 2.587879448934596\n",
            "19 \t [0.12182066 0.2166241 ]\t 0.061766273311966026\t 0.011336272623869258\t 2.6618923822790284\t 2.0726036324918167\n",
            "20 \t [0.20838474 0.07992164]\t 0.049811670101934546\t 0.011336272623869258\t 3.0965416763200553\t 3.5378152876735216\n"
          ]
        }
      ],
      "source": [
        "### EXACT GP EI GRADIENTS\n",
        "\n",
        "np.random.seed(run_num_10)\n",
        "surrogate_exact_10 = dGaussianProcess(cov_func, optimize=opt)\n",
        "\n",
        "exact_10 = dGPGO(surrogate_exact_10, Acquisition_grad(util), objfunc, param)\n",
        "exact_10.run(init_evals=n_init, max_iter=iters)\n"
      ]
    },
    {
      "cell_type": "code",
      "execution_count": 44,
      "metadata": {
        "id": "VwbLIP9cIv-F",
        "colab": {
          "base_uri": "https://localhost:8080/"
        },
        "outputId": "975916e8-d534-4214-e510-bd3e70654b29"
      },
      "outputs": [
        {
          "output_type": "stream",
          "name": "stdout",
          "text": [
            "Evaluation \t Proposed point \t  Current eval. \t  Best eval. \t        Exact EI: StdDev. x \t Approx EI: StdDev. x \n",
            "init\t [-3.27403839 -4.92057353]\t 34.93137118861299\t 0.6899456214148796\t    \t    \n",
            "init\t [-0.37664229  2.30332343]\t 5.447158259491397\t 0.6899456214148796\t    \t    \n",
            "init\t [-0.81711509 -0.14922651]\t 0.6899456214148796\t 0.6899456214148796\t    \t    \n",
            "init\t [-4.98912446 -0.12931474]\t 24.908085165573997\t 0.6899456214148796\t    \t    \n",
            "init\t [4.52410012 3.59214172]\t 33.37096399795931\t 0.6899456214148796\t    \t    \n",
            "1  \t [ 3.03550212 -4.46785095]\t 29.17596522689979\t 0.6899456214148796\t 3.3075201942963486\t 3.9465008881109287\n",
            "2  \t [ 4.72023378 -0.58668015]\t 22.62480054231176\t 0.6899456214148796\t 2.6325333916114477\t 3.5019931319669944\n",
            "3  \t [-0.2494569  -2.42522162]\t 5.943928660055336\t 0.6899456214148796\t 3.5669025282017026\t 4.189042391764775\n",
            "4  \t [1.48958714 0.26457168]\t 2.288868026551726\t 0.6899456214148796\t 2.706669410222892\t 3.444740294765445\n",
            "5  \t [-3.32376873  3.3331484 ]\t 22.157316827454476\t 0.6899456214148796\t 2.919073327495562\t 3.464179551600544\n",
            "6  \t [1.2625626 5.12     ]\t 27.808464331441485\t 0.6899456214148796\t 3.0728401940316363\t 3.1011817797084786\n",
            "7  \t [-0.28866946 -4.80563478]\t 23.177455707896794\t 0.6899456214148796\t 3.374959706421974\t 3.784226176628204\n",
            "8  \t [-2.00332199 -0.02405233]\t 4.0138775227046715\t 0.6899456214148796\t 2.7166992735204785\t 2.9174981406402587\n",
            "9  \t [ 1.72767998 -1.38406743]\t 4.900520777886437\t 0.6899456214148796\t 3.5370012019652073\t 2.8126110766553327\n",
            "10 \t [2.32271146 1.53436429]\t 7.7492623367365585\t 0.6899456214148796\t 2.7501014809490414\t 3.2235954142630687\n",
            "11 \t [-5.12       -3.03844351]\t 35.44653893682389\t 0.6899456214148796\t 3.1549014446735426\t 3.653939089076381\n",
            "12 \t [-1.31122589  5.0384935 ]\t 27.105730070837208\t 0.6899456214148796\t 3.3078422844515907\t 2.8180136427678173\n",
            "\u001b[1m\u001b[92m13\u001b[0m\t \u001b[1m\u001b[92m[-0.10532646  0.12182043]\u001b[0m\t \u001b[1m\u001b[92m0.025933881360590903\u001b[0m\t \u001b[1m\u001b[92m0.025933881360590903\u001b[0m\t \u001b[1m\u001b[92m2.5909032670818264\u001b[0m\t \u001b[1m\u001b[92m3.266694597015861\u001b[0m\n",
            "14 \t [-0.44549225  0.55283135]\t 0.5040858426307422\t 0.025933881360590903\t 3.0375101496860824\t 2.97883131222069\n",
            "15 \t [ 0.47060353 -0.51796293]\t 0.4897532772905021\t 0.025933881360590903\t 3.0178433078000775\t 2.7399391723411277\n",
            "16 \t [-0.49325287  0.54656366]\t 0.5420302269399428\t 0.025933881360590903\t 3.125491483040671\t 3.226372874197223\n",
            "17 \t [ 0.19107697 -0.2336341 ]\t 0.0910953040329114\t 0.025933881360590903\t 2.69880591782769\t 2.224127521714014\n",
            "\u001b[1m\u001b[92m18\u001b[0m\t \u001b[1m\u001b[92m[0.0060266 0.0313839]\u001b[0m\t \u001b[1m\u001b[92m0.0010212691857463194\u001b[0m\t \u001b[1m\u001b[92m0.0010212691857463194\u001b[0m\t \u001b[1m\u001b[92m3.1468249783909807\u001b[0m\t \u001b[1m\u001b[92m2.673026206407671\u001b[0m\n",
            "19 \t [ 0.09087496 -0.1065994 ]\t 0.019621689675986702\t 0.0010212691857463194\t 2.7510143774210896\t 2.3510134597958188\n",
            "20 \t [-2.59408    -1.49132508]\t 8.953301524692828\t 0.0010212691857463194\t 3.194251916706991\t 2.543566413664592\n"
          ]
        }
      ],
      "source": [
        "### EXACT GP EI GRADIENTS\n",
        "\n",
        "np.random.seed(run_num_11)\n",
        "surrogate_exact_11 = dGaussianProcess(cov_func, optimize=opt)\n",
        "\n",
        "exact_11 = dGPGO(surrogate_exact_11, Acquisition_grad(util), objfunc, param)\n",
        "exact_11.run(init_evals=n_init, max_iter=iters)\n"
      ]
    },
    {
      "cell_type": "code",
      "execution_count": 45,
      "metadata": {
        "id": "MlUNFjc-JTBY",
        "colab": {
          "base_uri": "https://localhost:8080/"
        },
        "outputId": "d03ecff7-8640-483c-9f8d-dbbb0f550830"
      },
      "outputs": [
        {
          "output_type": "stream",
          "name": "stdout",
          "text": [
            "Evaluation \t Proposed point \t  Current eval. \t  Best eval. \t        Exact EI: StdDev. x \t Approx EI: StdDev. x \n",
            "init\t [-3.54137249  2.45810889]\t 18.583618467979093\t 5.993464196233534\t    \t    \n",
            "init\t [-2.42365424  0.34549139]\t 5.993464196233534\t 5.993464196233534\t    \t    \n",
            "init\t [-4.97075238  4.28796936]\t 43.09506052206225\t 5.993464196233534\t    \t    \n",
            "init\t [ 4.10332011 -4.77776458]\t 39.66427028607538\t 5.993464196233534\t    \t    \n",
            "init\t [ 4.6791612  -3.71497655]\t 35.6956003298903\t 5.993464196233534\t    \t    \n",
            "1  \t [5.12 5.12]\t 52.4288\t 5.993464196233534\t 3.9259317917913807\t 3.769262607483161\n",
            "2  \t [-5.12 -5.12]\t 52.4288\t 5.993464196233534\t 3.5575374340024064\t 3.233169577106097\n",
            "\u001b[1m\u001b[92m3\u001b[0m\t \u001b[1m\u001b[92m[2.24183838 0.82371079]\u001b[0m\t \u001b[1m\u001b[92m5.704338807646411\u001b[0m\t \u001b[1m\u001b[92m5.704338807646411\u001b[0m\t \u001b[1m\u001b[92m2.836259385400842\u001b[0m\t \u001b[1m\u001b[92m2.773248456464121\u001b[0m\n",
            "4  \t [-0.45836603 -4.41534615]\t 19.705381038420658\t 5.704338807646411\t 2.9261050172843963\t 3.106985200628437\n",
            "5  \t [0.67165118 4.31105957]\t 19.03634991003064\t 5.704338807646411\t 2.924611951959464\t 3.1782222285404758\n",
            "6  \t [-5.12      -1.2134714]\t 27.68691283804282\t 5.704338807646411\t 2.8567390845969123\t 2.803035506983985\n",
            "7  \t [5.12      0.4189927]\t 26.38995488357375\t 5.704338807646411\t 2.4973908255883233\t 3.157561188398175\n",
            "\u001b[1m\u001b[92m8\u001b[0m\t \u001b[1m\u001b[92m[ 0.27357297 -1.21351809]\u001b[0m\t \u001b[1m\u001b[92m1.547468335229316\u001b[0m\t \u001b[1m\u001b[92m1.547468335229316\u001b[0m\t \u001b[1m\u001b[92m2.624019522681631\u001b[0m\t \u001b[1m\u001b[92m2.566153312883408\u001b[0m\n",
            "9  \t [ 2.00364662 -1.987739  ]\t 7.965706122493989\t 1.547468335229316\t 2.368401928756906\t 2.346744555749832\n",
            "\u001b[1m\u001b[92m10\u001b[0m\t \u001b[1m\u001b[92m[-0.1169956   1.12367014]\u001b[0m\t \u001b[1m\u001b[92m1.2763225531502214\u001b[0m\t \u001b[1m\u001b[92m1.2763225531502214\u001b[0m\t \u001b[1m\u001b[92m2.5892053294391135\u001b[0m\t \u001b[1m\u001b[92m2.9440425894749342\u001b[0m\n",
            "11 \t [-1.77538255 -2.01604865]\t 7.216435344836\t 1.2763225531502214\t 2.393385802185209\t 2.986890533102686\n",
            "12 \t [-0.7029746   1.98837074]\t 4.44779149931067\t 1.2763225531502214\t 2.8450224539707762\t 2.542980940037438\n",
            "\u001b[1m\u001b[92m13\u001b[0m\t \u001b[1m\u001b[92m[ 0.0686384  -0.07378263]\u001b[0m\t \u001b[1m\u001b[92m0.01015510606250657\u001b[0m\t \u001b[1m\u001b[92m0.01015510606250657\u001b[0m\t \u001b[1m\u001b[92m2.2604531643010426\u001b[0m\t \u001b[1m\u001b[92m3.0433972064870165\u001b[0m\n",
            "14 \t [-1.89466991  5.09657391]\t 29.564839730275764\t 0.01015510606250657\t 2.9593986171725093\t 2.7465462376104943\n",
            "15 \t [3.13021232 2.76043519]\t 17.41823155336644\t 0.01015510606250657\t 3.156915990194872\t 2.9278441827048383\n",
            "16 \t [-3.09834114 -3.17923128]\t 19.707229323979817\t 0.01015510606250657\t 3.014598492513587\t 2.7966588318474797\n",
            "17 \t [ 0.14321685 -0.13915449]\t 0.0398750387972735\t 0.01015510606250657\t 2.544158293742154\t 2.454830220503037\n",
            "18 \t [-0.14999143  0.07186103]\t 0.027661438666138634\t 0.01015510606250657\t 3.029318636892763\t 2.445994421237969\n",
            "19 \t [ 0.22929003 -0.2093177 ]\t 0.09638781520727169\t 0.01015510606250657\t 2.591553445024329\t 2.4282639419323817\n",
            "20 \t [ 0.33937585 -0.19609405]\t 0.15362884259534043\t 0.01015510606250657\t 2.459696392711423\t 2.1734216401670716\n"
          ]
        }
      ],
      "source": [
        "### EXACT GP EI GRADIENTS\n",
        "\n",
        "np.random.seed(run_num_12)\n",
        "surrogate_exact_12 = dGaussianProcess(cov_func, optimize=opt)\n",
        "\n",
        "exact_12 = dGPGO(surrogate_exact_12, Acquisition_grad(util), objfunc, param)\n",
        "exact_12.run(init_evals=n_init, max_iter=iters)\n"
      ]
    },
    {
      "cell_type": "code",
      "execution_count": 46,
      "metadata": {
        "id": "9BsKdU9eJTFL",
        "colab": {
          "base_uri": "https://localhost:8080/"
        },
        "outputId": "baf2fde9-ab1e-4c97-94a5-88c0cbf7def4"
      },
      "outputs": [
        {
          "output_type": "stream",
          "name": "stdout",
          "text": [
            "Evaluation \t Proposed point \t  Current eval. \t  Best eval. \t        Exact EI: StdDev. x \t Approx EI: StdDev. x \n",
            "init\t [ 2.84367268 -2.68757791]\t 15.30954934064491\t 7.271500601275535\t    \t    \n",
            "init\t [3.32061217 4.76927179]\t 33.772418600555795\t 7.271500601275535\t    \t    \n",
            "init\t [ 4.83943541 -0.47667971]\t 23.647358595121606\t 7.271500601275535\t    \t    \n",
            "init\t [1.11659482 2.82139151]\t 9.20703403927425\t 7.271500601275535\t    \t    \n",
            "init\t [1.45012065 2.27346667]\t 7.271500601275535\t 7.271500601275535\t    \t    \n",
            "1  \t [-5.12       -4.49089954]\t 46.382578643535034\t 7.271500601275535\t 2.770317080339137\t 3.1094977193260593\n",
            "2  \t [-4.28216005  2.18552227]\t 23.11340233342493\t 7.271500601275535\t 2.825919674114535\t 4.169763739009419\n",
            "\u001b[1m\u001b[92m3\u001b[0m\t \u001b[1m\u001b[92m[-1.65780332 -1.18801059]\u001b[0m\t \u001b[1m\u001b[92m4.159680992672419\u001b[0m\t \u001b[1m\u001b[92m4.159680992672419\u001b[0m\t \u001b[1m\u001b[92m2.812324772024518\u001b[0m\t \u001b[1m\u001b[92m3.1473510280146284\u001b[0m\n",
            "4  \t [-1.68752669  5.12      ]\t 29.06214631283505\t 4.159680992672419\t 2.9443068079686086\t 3.7200131268611956\n",
            "5  \t [-0.60335518 -5.12      ]\t 26.57843747498599\t 4.159680992672419\t 3.423461859263658\t 3.923786463340755\n",
            "6  \t [-4.71688326 -1.08160282]\t 23.41885236166611\t 4.159680992672419\t 2.6572733692540904\t 3.6629731781721637\n",
            "\u001b[1m\u001b[92m7\u001b[0m\t \u001b[1m\u001b[92m[ 0.53306046 -0.17419986]\u001b[0m\t \u001b[1m\u001b[92m0.31449904702699505\u001b[0m\t \u001b[1m\u001b[92m0.31449904702699505\u001b[0m\t \u001b[1m\u001b[92m3.1657281602218688\u001b[0m\t \u001b[1m\u001b[92m3.359685985058959\u001b[0m\n",
            "8  \t [-0.98971111  1.0016648 ]\t 1.9828604656580193\t 0.31449904702699505\t 2.5150443758959633\t 3.1975194734236188\n",
            "9  \t [ 0.93887675 -0.2783596 ]\t 0.958973613074892\t 0.31449904702699505\t 3.009474777570926\t 3.6914745670818774\n",
            "10 \t [ 0.19694869 -1.35750332]\t 1.8816040523505677\t 0.31449904702699505\t 2.7550976971030114\t 3.5237287283017413\n",
            "11 \t [5.12       2.74296927]\t 33.73828038947775\t 0.31449904702699505\t 2.8725575610433127\t 3.618778914089569\n",
            "12 \t [1.86975147 0.02157923]\t 3.496436236644575\t 0.31449904702699505\t 2.5700678969133532\t 2.57176372375902\n",
            "13 \t [-2.37778551 -2.94528269]\t 14.328554010246869\t 0.31449904702699505\t 2.88169233043094\t 3.395798820109671\n",
            "14 \t [ 2.05208411 -5.05797599]\t 29.794170279704808\t 0.31449904702699505\t 2.3453794670863584\t 2.8853265724664947\n",
            "15 \t [-4.30819533  4.66802438]\t 40.35099856199351\t 0.31449904702699505\t 2.8610325849169413\t 3.3150395148003717\n",
            "\u001b[1m\u001b[92m16\u001b[0m\t \u001b[1m\u001b[92m[-0.00908458  0.03546989]\u001b[0m\t \u001b[1m\u001b[92m0.001340643007438657\u001b[0m\t \u001b[1m\u001b[92m0.001340643007438657\u001b[0m\t \u001b[1m\u001b[92m2.6682038943844333\u001b[0m\t \u001b[1m\u001b[92m2.80754016231881\u001b[0m\n",
            "17 \t [-1.70098557  2.45104289]\t 8.900963159789608\t 0.001340643007438657\t 3.4270658705958494\t 3.528949773165745\n",
            "18 \t [-0.2549359   0.24683927]\t 0.12592193698775397\t 0.001340643007438657\t 2.3693763028600325\t 2.43759763448091\n",
            "19 \t [-0.13295922  0.14857359]\t 0.03975226565622492\t 0.001340643007438657\t 3.0046703119438276\t 2.410197840710536\n",
            "\u001b[1m\u001b[92m20\u001b[0m\t \u001b[1m\u001b[92m[-0.019104    0.01712962]\u001b[0m\t \u001b[1m\u001b[92m0.0006583867541852396\u001b[0m\t \u001b[1m\u001b[92m0.0006583867541852396\u001b[0m\t \u001b[1m\u001b[92m3.201087147188513\u001b[0m\t \u001b[1m\u001b[92m3.1785556269976225\u001b[0m\n"
          ]
        }
      ],
      "source": [
        "### EXACT GP EI GRADIENTS\n",
        "\n",
        "np.random.seed(run_num_13)\n",
        "surrogate_exact_13 = dGaussianProcess(cov_func, optimize=opt)\n",
        "\n",
        "exact_13 = dGPGO(surrogate_exact_13, Acquisition_grad(util), objfunc, param)\n",
        "exact_13.run(init_evals=n_init, max_iter=iters)\n"
      ]
    },
    {
      "cell_type": "code",
      "execution_count": 47,
      "metadata": {
        "id": "k6GjFBr1JTJf",
        "colab": {
          "base_uri": "https://localhost:8080/"
        },
        "outputId": "7795a2ed-8a73-476c-a2ee-7d3ea643f796"
      },
      "outputs": [
        {
          "output_type": "stream",
          "name": "stdout",
          "text": [
            "Evaluation \t Proposed point \t  Current eval. \t  Best eval. \t        Exact EI: StdDev. x \t Approx EI: StdDev. x \n",
            "init\t [0.14277984 2.79721013]\t 7.844770612568215\t 3.480496204392171\t    \t    \n",
            "init\t [ 3.7931795  -5.03759925]\t 39.765616906968944\t 3.480496204392171\t    \t    \n",
            "init\t [-1.94830412  4.68586229]\t 25.753194366239512\t 3.480496204392171\t    \t    \n",
            "init\t [ 0.13431513 -1.86076749]\t 3.480496204392171\t 3.480496204392171\t    \t    \n",
            "init\t [ 0.40140736 -2.85434939]\t 8.308438305616814\t 3.480496204392171\t    \t    \n",
            "1  \t [-5.12       -0.20573052]\t 26.256725047249272\t 3.480496204392171\t 3.9627000432958677\t 3.889387374310076\n",
            "2  \t [5.12 5.12]\t 52.4288\t 3.480496204392171\t 4.086936464341358\t 3.8468234187866703\n",
            "3  \t [-4.14991067 -5.12      ]\t 43.43615857355198\t 3.480496204392171\t 2.7975791437331203\t 3.2514452677636627\n",
            "4  \t [ 4.91780919 -0.01884161]\t 24.185202214686477\t 3.480496204392171\t 2.859702992538294\t 3.224475095637311\n",
            "\u001b[1m\u001b[92m5\u001b[0m\t \u001b[1m\u001b[92m[-1.73528793  0.36105645]\u001b[0m\t \u001b[1m\u001b[92m3.14158594706688\u001b[0m\t \u001b[1m\u001b[92m3.14158594706688\u001b[0m\t \u001b[1m\u001b[92m2.6556959969224705\u001b[0m\t \u001b[1m\u001b[92m2.3142243860379783\u001b[0m\n",
            "\u001b[1m\u001b[92m6\u001b[0m\t \u001b[1m\u001b[92m[1.53131221 0.23317663]\u001b[0m\t \u001b[1m\u001b[92m2.39928843401986\u001b[0m\t \u001b[1m\u001b[92m2.39928843401986\u001b[0m\t \u001b[1m\u001b[92m2.749170766125667\u001b[0m\t \u001b[1m\u001b[92m3.1205764874270505\u001b[0m\n",
            "7  \t [1.78016273 5.07901391]\t 28.965361605433067\t 2.39928843401986\t 2.443034879095927\t 2.8845470046526214\n",
            "8  \t [-5.12        3.42179702]\t 37.923094866360564\t 2.39928843401986\t 2.769200038750867\t 3.292464759786198\n",
            "9  \t [-0.77957216 -5.12      ]\t 26.822132752775655\t 2.39928843401986\t 2.996577800072215\t 2.8485311072488266\n",
            "10 \t [-2.6088917  -1.95889498]\t 10.64358546019025\t 2.39928843401986\t 2.377743829166261\t 2.653089569253401\n",
            "11 \t [ 2.8400042  -2.04360164]\t 12.24193150521724\t 2.39928843401986\t 2.778200506189541\t 2.627766407767742\n",
            "12 \t [2.87270958 2.21087824]\t 13.140442927970405\t 2.39928843401986\t 2.771704245675838\t 3.0544841665732654\n",
            "13 \t [-2.63347702  1.81673739]\t 10.235735963277556\t 2.39928843401986\t 2.5661202633580067\t 3.104625249827139\n",
            "\u001b[1m\u001b[92m14\u001b[0m\t \u001b[1m\u001b[92m[-0.08963132  0.04116611]\u001b[0m\t \u001b[1m\u001b[92m0.009728421900627459\u001b[0m\t \u001b[1m\u001b[92m0.009728421900627459\u001b[0m\t \u001b[1m\u001b[92m2.6176540990589716\u001b[0m\t \u001b[1m\u001b[92m2.6916717705225497\u001b[0m\n",
            "\u001b[1m\u001b[92m15\u001b[0m\t \u001b[1m\u001b[92m[-0.04940323 -0.01631883]\u001b[0m\t \u001b[1m\u001b[92m0.0027069837011900397\u001b[0m\t \u001b[1m\u001b[92m0.0027069837011900397\u001b[0m\t \u001b[1m\u001b[92m2.313857080149625\u001b[0m\t \u001b[1m\u001b[92m2.4660360428852948\u001b[0m\n",
            "16 \t [-0.0331382  -0.06550341]\t 0.005388837690580194\t 0.0027069837011900397\t 2.869493038551318\t 2.3690321704085653\n",
            "17 \t [ 0.11701356 -0.20569489]\t 0.05600256004009241\t 0.0027069837011900397\t 2.598857822063175\t 3.2489632874146137\n",
            "18 \t [-0.13454167  0.33967161]\t 0.13347826261650586\t 0.0027069837011900397\t 2.075166037611575\t 2.198053699846081\n",
            "19 \t [-0.12352478  0.04015702]\t 0.01687095761127436\t 0.0027069837011900397\t 2.5445417665078573\t 2.7883573183343615\n",
            "20 \t [ 0.01103214 -0.15978083]\t 0.0256516216478236\t 0.0027069837011900397\t 2.4695942926361214\t 2.3299558546151147\n"
          ]
        }
      ],
      "source": [
        "### EXACT GP EI GRADIENTS\n",
        "\n",
        "np.random.seed(run_num_14)\n",
        "surrogate_exact_14 = dGaussianProcess(cov_func, optimize=opt)\n",
        "\n",
        "exact_14 = dGPGO(surrogate_exact_14, Acquisition_grad(util), objfunc, param)\n",
        "exact_14.run(init_evals=n_init, max_iter=iters)\n"
      ]
    },
    {
      "cell_type": "code",
      "execution_count": 48,
      "metadata": {
        "id": "dPS8WB3aJTN6",
        "colab": {
          "base_uri": "https://localhost:8080/"
        },
        "outputId": "fe482ed5-ec9c-44d7-bc2e-3ce57341d331"
      },
      "outputs": [
        {
          "output_type": "stream",
          "name": "stdout",
          "text": [
            "Evaluation \t Proposed point \t  Current eval. \t  Best eval. \t        Exact EI: StdDev. x \t Approx EI: StdDev. x \n",
            "init\t [ 3.57189322 -3.28810573]\t 23.57006045912445\t 5.383887924980681\t    \t    \n",
            "init\t [-4.56332069 -1.41784631]\t 22.834183843344235\t 5.383887924980681\t    \t    \n",
            "init\t [-2.29989449  0.3072023 ]\t 5.383887924980681\t 5.383887924980681\t    \t    \n",
            "init\t [-1.9873903  -2.00218256]\t 7.958455228543059\t 5.383887924980681\t    \t    \n",
            "init\t [-3.97576933 -2.5610341 ]\t 22.365637431409507\t 5.383887924980681\t    \t    \n",
            "1  \t [5.12       4.52980016]\t 46.733489444894914\t 5.383887924980681\t 3.835248702533781\t 3.7471618644492906\n",
            "2  \t [-0.5478704  5.12     ]\t 26.51456197423583\t 5.383887924980681\t 2.6859249016515943\t 3.4315431058548276\n",
            "3  \t [-5.12        3.56609153]\t 38.931408770036384\t 5.383887924980681\t 3.0566283542517474\t 3.532918308183908\n",
            "4  \t [2.52610034 0.80301001]\t 7.026008011791001\t 5.383887924980681\t 2.7210176998352837\t 2.7059859406326345\n",
            "5  \t [-1.01051201 -5.12      ]\t 27.23553452965658\t 5.383887924980681\t 3.339426607605775\t 3.363054129105095\n",
            "6  \t [5.12       0.39397175]\t 26.36961374240824\t 5.383887924980681\t 3.3958085008007504\t 3.4912109263292708\n",
            "\u001b[1m\u001b[92m7\u001b[0m\t \u001b[1m\u001b[92m[ 0.77474139 -1.56413785]\u001b[0m\t \u001b[1m\u001b[92m3.0467514272031644\u001b[0m\t \u001b[1m\u001b[92m3.0467514272031644\u001b[0m\t \u001b[1m\u001b[92m2.871240007383927\u001b[0m\t \u001b[1m\u001b[92m2.843057756046703\u001b[0m\n",
            "8  \t [-5.12 -5.12]\t 52.4288\t 3.0467514272031644\t 3.181621690184768\t 3.2961050704488226\n",
            "\u001b[1m\u001b[92m9\u001b[0m\t \u001b[1m\u001b[92m[0.02965109 1.70149628]\u001b[0m\t \u001b[1m\u001b[92m2.8959687870248594\u001b[0m\t \u001b[1m\u001b[92m2.8959687870248594\u001b[0m\t \u001b[1m\u001b[92m2.3693614649109067\u001b[0m\t \u001b[1m\u001b[92m2.1631695428502957\u001b[0m\n",
            "10 \t [2.05571867 4.36286026]\t 23.260528889171198\t 2.8959687870248594\t 2.3220114110960974\t 2.9396906987174116\n",
            "11 \t [-2.37682423  2.96031015]\t 14.41272958688199\t 2.8959687870248594\t 1.842345730108439\t 3.0648907072266063\n",
            "\u001b[1m\u001b[92m12\u001b[0m\t \u001b[1m\u001b[92m[ 0.04079849 -0.07393456]\u001b[0m\t \u001b[1m\u001b[92m0.007130835704888332\u001b[0m\t \u001b[1m\u001b[92m0.007130835704888332\u001b[0m\t \u001b[1m\u001b[92m2.4172254788339442\u001b[0m\t \u001b[1m\u001b[92m2.805274942529428\u001b[0m\n",
            "\u001b[1m\u001b[92m13\u001b[0m\t \u001b[1m\u001b[92m[-0.06538121  0.00716017]\u001b[0m\t \u001b[1m\u001b[92m0.004325970650736174\u001b[0m\t \u001b[1m\u001b[92m0.004325970650736174\u001b[0m\t \u001b[1m\u001b[92m2.5028984048900704\u001b[0m\t \u001b[1m\u001b[92m3.5167608803435866\u001b[0m\n",
            "\u001b[1m\u001b[92m14\u001b[0m\t \u001b[1m\u001b[92m[-0.04226873 -0.01680723]\u001b[0m\t \u001b[1m\u001b[92m0.00206912840730585\u001b[0m\t \u001b[1m\u001b[92m0.00206912840730585\u001b[0m\t \u001b[1m\u001b[92m2.5432057302068554\u001b[0m\t \u001b[1m\u001b[92m3.1844018012792117\u001b[0m\n",
            "15 \t [ 0.15042743 -0.14566693]\t 0.043847266132934326\t 0.00206912840730585\t 2.0775993439921248\t 2.4759275636115943\n",
            "16 \t [-0.13364072  0.05018934]\t 0.020378810746099943\t 0.00206912840730585\t 2.7763553007023147\t 2.9380972287688367\n",
            "17 \t [-0.11946657  0.03565607]\t 0.015543616003826173\t 0.00206912840730585\t 2.347233454826056\t 2.957180096412485\n",
            "18 \t [-0.03935433 -0.02583257]\t 0.002216084574903895\t 0.00206912840730585\t 2.317835570448375\t 2.6543777284600347\n",
            "\u001b[1m\u001b[92m19\u001b[0m\t \u001b[1m\u001b[92m[-0.03800022 -0.02165623]\u001b[0m\t \u001b[1m\u001b[92m0.0019130095713073354\u001b[0m\t \u001b[1m\u001b[92m0.0019130095713073354\u001b[0m\t \u001b[1m\u001b[92m2.663568649804115\u001b[0m\t \u001b[1m\u001b[92m3.0822348603054404\u001b[0m\n",
            "20 \t [ 0.03397051 -0.06389574]\t 0.005236661149401222\t 0.0019130095713073354\t 2.045978370707118\t 2.657240696162165\n"
          ]
        }
      ],
      "source": [
        "### EXACT GP EI GRADIENTS\n",
        "\n",
        "np.random.seed(run_num_15)\n",
        "surrogate_exact_15 = dGaussianProcess(cov_func, optimize=opt)\n",
        "\n",
        "exact_15 = dGPGO(surrogate_exact_15, Acquisition_grad(util), objfunc, param)\n",
        "exact_15.run(init_evals=n_init, max_iter=iters)\n"
      ]
    },
    {
      "cell_type": "code",
      "execution_count": 49,
      "metadata": {
        "id": "lu8ki9XIQPPN",
        "colab": {
          "base_uri": "https://localhost:8080/"
        },
        "outputId": "217e46aa-bce8-4342-e0c5-a90a1fd6a8bd"
      },
      "outputs": [
        {
          "output_type": "stream",
          "name": "stdout",
          "text": [
            "Evaluation \t Proposed point \t  Current eval. \t  Best eval. \t        Exact EI: StdDev. x \t Approx EI: StdDev. x \n",
            "init\t [-2.83349935  0.23719262]\t 8.084978900492077\t 8.084978900492077\t    \t    \n",
            "init\t [ 0.51918292 -4.65303603]\t 21.92029520206884\t 8.084978900492077\t    \t    \n",
            "init\t [-1.42613673 -2.83565116]\t 10.074783446012654\t 8.084978900492077\t    \t    \n",
            "init\t [ 1.9325559  -3.44339021]\t 15.591708419712269\t 8.084978900492077\t    \t    \n",
            "init\t [-4.39987336  4.51595121]\t 39.75270093978162\t 8.084978900492077\t    \t    \n",
            "1  \t [3.07523458 5.12      ]\t 35.67146771295724\t 8.084978900492077\t 3.826570898006818\t 3.922062868327192\n",
            "2  \t [5.12       0.36360257]\t 26.34660682702725\t 8.084978900492077\t 3.673768685896399\t 3.3409480646890555\n",
            "3  \t [-5.12 -5.12]\t 52.4288\t 8.084978900492077\t 3.472767146377818\t 3.674184777425383\n",
            "\u001b[1m\u001b[92m4\u001b[0m\t \u001b[1m\u001b[92m[0.87301974 1.36264836]\u001b[0m\t \u001b[1m\u001b[92m2.6189740179195704\u001b[0m\t \u001b[1m\u001b[92m2.6189740179195704\u001b[0m\t \u001b[1m\u001b[92m2.7384164062077527\u001b[0m\t \u001b[1m\u001b[92m3.3106661445546934\u001b[0m\n",
            "5  \t [-0.37060264  3.54875585]\t 12.731014390572904\t 2.6189740179195704\t 2.771903314444701\t 3.4739531383525892\n",
            "6  \t [ 5.12       -3.30593342]\t 37.143595759925226\t 2.6189740179195704\t 3.372431463104981\t 3.8372504454638205\n",
            "7  \t [-4.77580636 -1.77241015]\t 25.949764100432674\t 2.6189740179195704\t 3.0116095189217837\t 2.965486092548518\n",
            "\u001b[1m\u001b[92m8\u001b[0m\t \u001b[1m\u001b[92m[ 0.8969878  -0.67496572]\u001b[0m\t \u001b[1m\u001b[92m1.2601658453962303\u001b[0m\t \u001b[1m\u001b[92m1.2601658453962303\u001b[0m\t \u001b[1m\u001b[92m2.3202389181439287\u001b[0m\t \u001b[1m\u001b[92m2.75329687510212\u001b[0m\n",
            "9  \t [ 2.34164961 -0.53158973]\t 5.7659105454531945\t 1.2601658453962303\t 2.733893716896885\t 2.9328342370319196\n",
            "\u001b[1m\u001b[92m10\u001b[0m\t \u001b[1m\u001b[92m[-0.47363424  0.06252264]\u001b[0m\t \u001b[1m\u001b[92m0.22823847396811095\u001b[0m\t \u001b[1m\u001b[92m0.22823847396811095\u001b[0m\t \u001b[1m\u001b[92m3.0306348260874008\u001b[0m\t \u001b[1m\u001b[92m3.3673580079563865\u001b[0m\n",
            "11 \t [5.12       3.22571258]\t 36.61962161947818\t 0.22823847396811095\t 2.9015167538591897\t 3.0107953375183696\n",
            "12 \t [-5.08515885  1.11606568]\t 27.10444311151008\t 0.22823847396811095\t 2.900294387379219\t 3.0983389896715465\n",
            "13 \t [-0.48614081 -0.00847592]\t 0.23640472832998705\t 0.22823847396811095\t 2.525380996161052\t 2.45578512363456\n",
            "14 \t [-0.22492367 -0.63026305]\t 0.44782216797247093\t 0.22823847396811095\t 2.330964332344747\t 2.3297518889226523\n",
            "15 \t [-0.69265194  0.72537986]\t 1.0059426519993073\t 0.22823847396811095\t 2.916639782954081\t 2.5362456378323617\n",
            "16 \t [2.37587013 1.87591068]\t 9.163799721321121\t 0.22823847396811095\t 2.5231115850762995\t 2.431182935121081\n",
            "\u001b[1m\u001b[92m17\u001b[0m\t \u001b[1m\u001b[92m[-0.28156755 -0.02542129]\u001b[0m\t \u001b[1m\u001b[92m0.0799265247333665\u001b[0m\t \u001b[1m\u001b[92m0.0799265247333665\u001b[0m\t \u001b[1m\u001b[92m2.90776128103788\u001b[0m\t \u001b[1m\u001b[92m2.6448276525523307\u001b[0m\n",
            "18 \t [-0.11453887 -0.55958052]\t 0.32624951548862013\t 0.0799265247333665\t 2.660978377655294\t 3.0205646131139443\n",
            "19 \t [-2.28995704 -5.10709837]\t 31.326356958389656\t 0.0799265247333665\t 2.9696136882874735\t 2.533555944713049\n",
            "20 \t [-0.04491841 -0.74295163]\t 0.5539947931918572\t 0.0799265247333665\t 2.5545733381621956\t 2.740056118664169\n"
          ]
        }
      ],
      "source": [
        "### EXACT GP EI GRADIENTS\n",
        "\n",
        "np.random.seed(run_num_16)\n",
        "surrogate_exact_16 = dGaussianProcess(cov_func, optimize=opt)\n",
        "\n",
        "exact_16 = dGPGO(surrogate_exact_16, Acquisition_grad(util), objfunc, param)\n",
        "exact_16.run(init_evals=n_init, max_iter=iters)\n"
      ]
    },
    {
      "cell_type": "code",
      "execution_count": 50,
      "metadata": {
        "id": "yU2SflSsJTUs",
        "colab": {
          "base_uri": "https://localhost:8080/"
        },
        "outputId": "0ff9702c-61bc-4791-8327-c638ec7272a0"
      },
      "outputs": [
        {
          "output_type": "stream",
          "name": "stdout",
          "text": [
            "Evaluation \t Proposed point \t  Current eval. \t  Best eval. \t        Exact EI: StdDev. x \t Approx EI: StdDev. x \n",
            "init\t [-2.10263037  0.31320838]\t 4.519153970964611\t 2.5824114132885994\t    \t    \n",
            "init\t [-3.15882714 -4.42470033]\t 29.556161939946307\t 2.5824114132885994\t    \t    \n",
            "init\t [2.93873111 1.60085526]\t 11.198878112253603\t 2.5824114132885994\t    \t    \n",
            "init\t [1.40821398 0.77417363]\t 2.5824114132885994\t 2.5824114132885994\t    \t    \n",
            "init\t [-4.71999574 -1.45598869]\t 24.39826283453718\t 2.5824114132885994\t    \t    \n",
            "1  \t [ 4.96008736 -4.44720822]\t 44.38012757656366\t 2.5824114132885994\t 3.1994548844576527\t 4.450626685862143\n",
            "2  \t [-1.21860665  5.12      ]\t 27.69940216230365\t 2.5824114132885994\t 3.1500683088109938\t 3.3687244221994854\n",
            "3  \t [5.12 5.12]\t 52.4288\t 2.5824114132885994\t 3.402117583300204\t 3.4232607819470626\n",
            "4  \t [ 0.90859396 -3.03909191]\t 10.061622616517566\t 2.5824114132885994\t 3.538445314018484\t 3.8344214855659833\n",
            "5  \t [ 5.12       -0.69476328]\t 26.69709601607087\t 2.5824114132885994\t 2.988262823771641\t 3.520274741606563\n",
            "6  \t [-5.12        2.94923502]\t 34.91238718954903\t 2.5824114132885994\t 3.012260948497755\t 2.8285108133567904\n",
            "7  \t [-0.24738113  2.1041085 ]\t 4.488470022245515\t 2.5824114132885994\t 2.4683815643099503\t 2.2677633030950948\n",
            "8  \t [1.83658248 4.84904681]\t 26.886290194929014\t 2.5824114132885994\t 3.3890098637946253\t 2.9699111352472447\n",
            "9  \t [-0.13523641 -5.12      ]\t 26.23268888746345\t 2.5824114132885994\t 3.032767503894019\t 3.2488046952802145\n",
            "\u001b[1m\u001b[92m10\u001b[0m\t \u001b[1m\u001b[92m[-0.172655   -0.52138828]\u001b[0m\t \u001b[1m\u001b[92m0.30165548179150475\u001b[0m\t \u001b[1m\u001b[92m0.30165548179150475\u001b[0m\t \u001b[1m\u001b[92m2.3239039594034425\u001b[0m\t \u001b[1m\u001b[92m2.061719559618599\u001b[0m\n",
            "11 \t [-0.98660447 -1.9651469 ]\t 4.835190704357336\t 0.30165548179150475\t 3.2637139781627247\t 2.833181751414527\n",
            "12 \t [ 1.41156779 -0.71351352]\t 2.5016251615497946\t 0.30165548179150475\t 2.7937724342796972\t 3.0819653689791933\n",
            "13 \t [-2.18025859  2.18153219]\t 9.512610216995437\t 0.30165548179150475\t 2.7422401210934164\t 2.9541133433124704\n",
            "\u001b[1m\u001b[92m14\u001b[0m\t \u001b[1m\u001b[92m[-0.03604477  0.01282426]\u001b[0m\t \u001b[1m\u001b[92m0.0014636874572169227\u001b[0m\t \u001b[1m\u001b[92m0.0014636874572169227\u001b[0m\t \u001b[1m\u001b[92m2.613291358797627\u001b[0m\t \u001b[1m\u001b[92m2.984156789064777\u001b[0m\n",
            "15 \t [ 0.08296281 -0.12155741]\t 0.021659032841456566\t 0.0014636874572169227\t 3.086625673581523\t 2.5147053866250197\n",
            "\u001b[1m\u001b[92m16\u001b[0m\t \u001b[1m\u001b[92m[-0.03602751  0.00327583]\u001b[0m\t \u001b[1m\u001b[92m0.0013087127667782469\u001b[0m\t \u001b[1m\u001b[92m0.0013087127667782469\u001b[0m\t \u001b[1m\u001b[92m2.6398809214814563\u001b[0m\t \u001b[1m\u001b[92m2.5028396000727375\u001b[0m\n",
            "17 \t [ 0.03174307 -0.05742579]\t 0.004305344396078695\t 0.0013087127667782469\t 2.3161809061849046\t 2.8853850846162215\n",
            "18 \t [ 0.09948064 -0.09947866]\t 0.01979240071572446\t 0.0013087127667782469\t 3.1316115916130784\t 2.844694432484348\n",
            "19 \t [ 2.6795919  -1.79043971]\t 10.385887091743141\t 0.0013087127667782469\t 2.8826441293045804\t 2.568997003472258\n",
            "20 \t [ 0.57906655 -0.53249117]\t 0.6188649150135921\t 0.0013087127667782469\t 3.1953403600342782\t 3.2851166207849984\n"
          ]
        }
      ],
      "source": [
        "### EXACT GP EI GRADIENTS\n",
        "\n",
        "np.random.seed(run_num_17)\n",
        "surrogate_exact_17 = dGaussianProcess(cov_func, optimize=opt)\n",
        "\n",
        "exact_17 = dGPGO(surrogate_exact_17, Acquisition_grad(util), objfunc, param)\n",
        "exact_17.run(init_evals=n_init, max_iter=iters)\n"
      ]
    },
    {
      "cell_type": "code",
      "execution_count": 51,
      "metadata": {
        "id": "eVEhyZ9BQS-1",
        "colab": {
          "base_uri": "https://localhost:8080/"
        },
        "outputId": "409ca569-6380-40d7-ec5e-0cc3a855b7c4"
      },
      "outputs": [
        {
          "output_type": "stream",
          "name": "stdout",
          "text": [
            "Evaluation \t Proposed point \t  Current eval. \t  Best eval. \t        Exact EI: StdDev. x \t Approx EI: StdDev. x \n",
            "init\t [1.53983224 0.05584255]\t 2.3742017032787373\t 2.3742017032787373\t    \t    \n",
            "init\t [ 3.87687906 -3.25795609]\t 25.644469161882945\t 2.3742017032787373\t    \t    \n",
            "init\t [3.60686662 2.56139557]\t 19.570234102364928\t 2.3742017032787373\t    \t    \n",
            "init\t [1.70088108 4.99604939]\t 27.853505942237412\t 2.3742017032787373\t    \t    \n",
            "init\t [-2.48864335 -4.83014733]\t 29.523668919355142\t 2.3742017032787373\t    \t    \n",
            "1  \t [-5.00718904  2.9174042 ]\t 33.58318939621877\t 2.3742017032787373\t 3.0184732290730483\t 3.7135233877559344\n",
            "2  \t [-2.20629523 -0.4515276 ]\t 5.07161579635752\t 2.3742017032787373\t 3.168242883437177\t 3.065445087320609\n",
            "3  \t [-1.33222855  2.98567876]\t 10.68911060027898\t 2.3742017032787373\t 3.787453396625627\t 3.256818157417347\n",
            "4  \t [-5.12       -1.93527137]\t 29.959675294794472\t 2.3742017032787373\t 3.389899678001269\t 3.5059129194987264\n",
            "5  \t [ 0.90377736 -5.06841274]\t 26.505621238983494\t 2.3742017032787373\t 3.0641901159571048\t 3.0808450051951493\n",
            "6  \t [5.12 5.12]\t 52.4288\t 2.3742017032787373\t 3.301703333494454\t 3.238560759352717\n",
            "7  \t [ 0.08414225 -1.86349584]\t 3.47969666561732\t 2.3742017032787373\t 2.4828455582924795\t 3.079706007591407\n",
            "8  \t [-5.12 -5.12]\t 52.4288\t 2.3742017032787373\t 2.5814438925505065\t 3.1878389515294803\n",
            "9  \t [ 4.93316036 -0.02024543]\t 24.336480967672102\t 2.3742017032787373\t 2.421842298182449\t 3.114743644816538\n",
            "\u001b[1m\u001b[92m10\u001b[0m\t \u001b[1m\u001b[92m[0.62384912 1.23342671]\u001b[0m\t \u001b[1m\u001b[92m1.9105291678603016\u001b[0m\t \u001b[1m\u001b[92m1.9105291678603016\u001b[0m\t \u001b[1m\u001b[92m2.8012832520523077\u001b[0m\t \u001b[1m\u001b[92m2.9295760273559006\u001b[0m\n",
            "11 \t [-1.30170293  5.12      ]\t 27.908830529025746\t 1.9105291678603016\t 2.861541497172658\t 2.872259551720458\n",
            "\u001b[1m\u001b[92m12\u001b[0m\t \u001b[1m\u001b[92m[-0.34404863  0.35434237]\u001b[0m\t \u001b[1m\u001b[92m0.24392797936412114\u001b[0m\t \u001b[1m\u001b[92m0.24392797936412114\u001b[0m\t \u001b[1m\u001b[92m2.2963065974478525\u001b[0m\t \u001b[1m\u001b[92m2.207290514372337\u001b[0m\n",
            "\u001b[1m\u001b[92m13\u001b[0m\t \u001b[1m\u001b[92m[-0.31608194  0.27381541]\u001b[0m\t \u001b[1m\u001b[92m0.17488267403911245\u001b[0m\t \u001b[1m\u001b[92m0.17488267403911245\u001b[0m\t \u001b[1m\u001b[92m2.5291339445110257\u001b[0m\t \u001b[1m\u001b[92m2.593184845136628\u001b[0m\n",
            "14 \t [-0.63361249  0.66971818]\t 0.8499872206592769\t 0.17488267403911245\t 1.8577551559439778\t 2.2837899095393586\n",
            "15 \t [ 1.9721045  -1.41137034]\t 5.8811623973238865\t 0.17488267403911245\t 2.2976683028795626\t 2.6778239542244813\n",
            "\u001b[1m\u001b[92m16\u001b[0m\t \u001b[1m\u001b[92m[-0.1909528   0.12033462]\u001b[0m\t \u001b[1m\u001b[92m0.05094339468489957\u001b[0m\t \u001b[1m\u001b[92m0.05094339468489957\u001b[0m\t \u001b[1m\u001b[92m2.0958955035144755\u001b[0m\t \u001b[1m\u001b[92m2.2409963429856457\u001b[0m\n",
            "\u001b[1m\u001b[92m17\u001b[0m\t \u001b[1m\u001b[92m[ 0.02256137 -0.1874963 ]\u001b[0m\t \u001b[1m\u001b[92m0.03566387932032172\u001b[0m\t \u001b[1m\u001b[92m0.03566387932032172\u001b[0m\t \u001b[1m\u001b[92m2.577567587029647\u001b[0m\t \u001b[1m\u001b[92m3.120375929436084\u001b[0m\n",
            "18 \t [-3.1836188   0.86239374]\t 10.879151618163434\t 0.03566387932032172\t 2.8940782837458054\t 3.1732263250630464\n",
            "19 \t [-0.20215866 -0.06189042]\t 0.04469854619975478\t 0.03566387932032172\t 2.5420086456694033\t 2.9138659034932846\n",
            "20 \t [-0.10372336 -0.17202839]\t 0.040352302727114694\t 0.03566387932032172\t 2.2225883696733897\t 2.570948108228367\n"
          ]
        }
      ],
      "source": [
        "### EXACT GP EI GRADIENTS\n",
        "\n",
        "np.random.seed(run_num_18)\n",
        "surrogate_exact_18 = dGaussianProcess(cov_func, optimize=opt)\n",
        "\n",
        "exact_18 = dGPGO(surrogate_exact_18, Acquisition_grad(util), objfunc, param)\n",
        "exact_18.run(init_evals=n_init, max_iter=iters)\n"
      ]
    },
    {
      "cell_type": "code",
      "execution_count": 52,
      "metadata": {
        "id": "B6gTz1ojQUxn",
        "colab": {
          "base_uri": "https://localhost:8080/"
        },
        "outputId": "eaaed82a-a3ef-461a-8e65-7f4f8fcb2a26"
      },
      "outputs": [
        {
          "output_type": "stream",
          "name": "stdout",
          "text": [
            "Evaluation \t Proposed point \t  Current eval. \t  Best eval. \t        Exact EI: StdDev. x \t Approx EI: StdDev. x \n",
            "init\t [-4.12125592  2.6751971 ]\t 24.141429859518958\t 12.957869519084127\t    \t    \n",
            "init\t [-2.59135515 -3.70553152]\t 20.446085385698954\t 12.957869519084127\t    \t    \n",
            "init\t [-1.72598719 -4.27008445]\t 21.212653034418548\t 12.957869519084127\t    \t    \n",
            "init\t [1.76104531 3.13952049]\t 12.957869519084127\t 12.957869519084127\t    \t    \n",
            "init\t [4.9432772  1.38916592]\t 26.36577149009895\t 12.957869519084127\t    \t    \n",
            "1  \t [ 4.31277115 -4.24489917]\t 36.61916391891194\t 12.957869519084127\t 3.392851680753163\t 4.65283246792334\n",
            "\u001b[1m\u001b[92m2\u001b[0m\t \u001b[1m\u001b[92m[-0.64703261 -0.05256687]\u001b[0m\t \u001b[1m\u001b[92m0.42141447497566265\u001b[0m\t \u001b[1m\u001b[92m0.42141447497566265\u001b[0m\t \u001b[1m\u001b[92m3.549484880024515\u001b[0m\t \u001b[1m\u001b[92m3.663416758991657\u001b[0m\n",
            "3  \t [5.12 5.12]\t 52.4288\t 0.42141447497566265\t 4.011474873888966\t 3.8799921464470235\n",
            "4  \t [-5.12       -1.18838053]\t 27.626648283050066\t 0.42141447497566265\t 2.9589530562409005\t 3.2258602726535544\n",
            "5  \t [ 1.50132809 -0.80717035]\t 2.9055100065315305\t 0.42141447497566265\t 2.740035591741287\t 2.613346767122893\n",
            "6  \t [-0.98652996  4.45601255]\t 20.829289188284886\t 0.42141447497566265\t 3.287744917841526\t 3.3376474453327876\n",
            "7  \t [-5.12 -5.12]\t 52.4288\t 0.42141447497566265\t 3.1871404675868518\t 3.408427138442121\n",
            "8  \t [-1.88610223 -0.09793918]\t 3.566973716699266\t 0.42141447497566265\t 2.4249876792016587\t 2.463000540297429\n",
            "9  \t [ 0.79069331 -2.73834011]\t 8.12370247731082\t 0.42141447497566265\t 2.098392238032533\t 2.8131029639495804\n",
            "10 \t [0.02106984 0.98159701]\t 0.9639766302909158\t 0.42141447497566265\t 2.920426125206714\t 3.054192372115482\n",
            "11 \t [ 4.12054247 -1.33696572]\t 18.76634762250218\t 0.42141447497566265\t 1.8163017463474178\t 2.7904781008411135\n",
            "\u001b[1m\u001b[92m12\u001b[0m\t \u001b[1m\u001b[92m[0.30407986 0.25146323]\u001b[0m\t \u001b[1m\u001b[92m0.15569831949117335\u001b[0m\t \u001b[1m\u001b[92m0.15569831949117335\u001b[0m\t \u001b[1m\u001b[92m2.55274200183921\u001b[0m\t \u001b[1m\u001b[92m2.747000999408953\u001b[0m\n",
            "13 \t [-0.98170849  1.58180973]\t 3.465873577309843\t 0.15569831949117335\t 2.5988049182668336\t 2.98074764962771\n",
            "14 \t [0.86395095 0.61616985]\t 1.1260765398008086\t 0.15569831949117335\t 2.589400588603697\t 2.584246654690744\n",
            "\u001b[1m\u001b[92m15\u001b[0m\t \u001b[1m\u001b[92m[-0.24420304 -0.1345825 ]\u001b[0m\t \u001b[1m\u001b[92m0.0777475768219035\u001b[0m\t \u001b[1m\u001b[92m0.0777475768219035\u001b[0m\t \u001b[1m\u001b[92m2.6259120918220944\u001b[0m\t \u001b[1m\u001b[92m2.8837867634067447\u001b[0m\n",
            "16 \t [ 0.02199928 -0.73338297]\t 0.5383345435633494\t 0.0777475768219035\t 2.345636767147579\t 2.7681229545215564\n",
            "17 \t [-0.11073246 -0.38292301]\t 0.15889170734778493\t 0.0777475768219035\t 2.4273251278962236\t 2.9665456678737083\n",
            "18 \t [ 1.20684128 -5.1091892 ]\t 27.560280117603963\t 0.0777475768219035\t 3.048729866737147\t 3.1282798175635373\n",
            "19 \t [-0.09793157 -0.3361047 ]\t 0.12255696000105806\t 0.0777475768219035\t 1.9855341008728322\t 1.691158928542182\n",
            "20 \t [1.94718902 5.12      ]\t 30.005945086574894\t 0.0777475768219035\t 2.400607800637509\t 2.9395880181962193\n"
          ]
        }
      ],
      "source": [
        "### EXACT GP EI GRADIENTS\n",
        "\n",
        "np.random.seed(run_num_19)\n",
        "surrogate_exact_19 = dGaussianProcess(cov_func, optimize=opt)\n",
        "\n",
        "exact_19 = dGPGO(surrogate_exact_19, Acquisition_grad(util), objfunc, param)\n",
        "exact_19.run(init_evals=n_init, max_iter=iters)\n"
      ]
    },
    {
      "cell_type": "code",
      "execution_count": 53,
      "metadata": {
        "id": "aw3xvSryIwDi",
        "colab": {
          "base_uri": "https://localhost:8080/"
        },
        "outputId": "c6afcdd3-116f-432f-8b67-2b7abb088507"
      },
      "outputs": [
        {
          "output_type": "stream",
          "name": "stdout",
          "text": [
            "Evaluation \t Proposed point \t  Current eval. \t  Best eval. \t        Exact EI: StdDev. x \t Approx EI: StdDev. x \n",
            "init\t [0.9024594  4.07258857]\t 17.400410665504328\t 1.579257056101869\t    \t    \n",
            "init\t [4.00927467 3.23417577]\t 26.53417627399789\t 1.579257056101869\t    \t    \n",
            "init\t [-4.75249064  1.96359764]\t 26.44188299535699\t 1.579257056101869\t    \t    \n",
            "init\t [-1.24230715  0.18955208]\t 1.579257056101869\t 1.579257056101869\t    \t    \n",
            "init\t [ 1.61742301 -3.13497377]\t 12.44411771617229\t 1.579257056101869\t    \t    \n",
            "1  \t [-5.12 -5.12]\t 52.4288\t 1.579257056101869\t 3.427626503925378\t 3.269252587931521\n",
            "2  \t [ 5.12       -1.04604676]\t 27.30861383418941\t 1.579257056101869\t 3.1099770567750276\t 3.6486511145617317\n",
            "3  \t [-2.70544907 -2.08828803]\t 11.680401570842946\t 1.579257056101869\t 2.796150732451176\t 3.113827609578339\n",
            "4  \t [-1.10837321 -5.12      ]\t 27.442891171638696\t 1.579257056101869\t 3.0915674817855603\t 3.204097253257676\n",
            "5  \t [-2.72224889  5.12      ]\t 33.62503902023204\t 1.579257056101869\t 2.8469190489511003\t 3.490385485736178\n",
            "6  \t [ 4.3401426  -4.78600812]\t 41.74271151924994\t 1.579257056101869\t 3.2299548488028202\t 3.7009833184028857\n",
            "7  \t [1.85094074 0.10069601]\t 3.43612131426913\t 1.579257056101869\t 3.646556087358859\t 3.3282039009952773\n",
            "8  \t [-1.27632825  1.91957266]\t 5.313773004728605\t 1.579257056101869\t 3.0795392924840996\t 3.273748598956042\n",
            "\u001b[1m\u001b[92m9\u001b[0m\t \u001b[1m\u001b[92m[-0.26197023 -0.66550202]\u001b[0m\t \u001b[1m\u001b[92m0.511521337047265\u001b[0m\t \u001b[1m\u001b[92m0.511521337047265\u001b[0m\t \u001b[1m\u001b[92m3.021442920915064\u001b[0m\t \u001b[1m\u001b[92m2.768809569150325\u001b[0m\n",
            "10 \t [-5.09429969 -1.28452422]\t 27.601891792850473\t 0.511521337047265\t 3.2685850861122887\t 3.2685267749390357\n",
            "11 \t [-0.26018697 -0.79241862]\t 0.6956245316807985\t 0.511521337047265\t 3.103152365555905\t 2.792657546140216\n",
            "12 \t [0.61356515 1.32383967]\t 2.129013657226481\t 0.511521337047265\t 2.9491356213274025\t 2.9648152538324064\n",
            "13 \t [-0.21354153 -1.43618596]\t 2.108230094457994\t 0.511521337047265\t 3.1181509186574607\t 3.3857859047071726\n",
            "14 \t [5.12 5.12]\t 52.4288\t 0.511521337047265\t 3.0308552887006353\t 1.9943008573202277\n",
            "\u001b[1m\u001b[92m15\u001b[0m\t \u001b[1m\u001b[92m[ 0.16947809 -0.40397056]\u001b[0m\t \u001b[1m\u001b[92m0.19191504150599872\u001b[0m\t \u001b[1m\u001b[92m0.19191504150599872\u001b[0m\t \u001b[1m\u001b[92m2.075817721651722\u001b[0m\t \u001b[1m\u001b[92m2.473342845127053\u001b[0m\n",
            "16 \t [ 0.40084663 -0.50962652]\t 0.42039721307009414\t 0.19191504150599872\t 2.4016322511498642\t 2.6397235589441044\n",
            "\u001b[1m\u001b[92m17\u001b[0m\t \u001b[1m\u001b[92m[-0.18823722 -0.04455505]\u001b[0m\t \u001b[1m\u001b[92m0.03741840418551349\u001b[0m\t \u001b[1m\u001b[92m0.03741840418551349\u001b[0m\t \u001b[1m\u001b[92m2.536156820365157\u001b[0m\t \u001b[1m\u001b[92m2.1003950971465284\u001b[0m\n",
            "18 \t [ 0.19881108 -0.31058723]\t 0.1359902757904421\t 0.03741840418551349\t 3.022532917095928\t 2.8815470139129116\n",
            "19 \t [-0.43440892  0.10924456]\t 0.20064548362990076\t 0.03741840418551349\t 2.989731250456861\t 2.5363992122682397\n",
            "20 \t [ 0.36586125 -0.48214487]\t 0.3663181287721603\t 0.03741840418551349\t 2.492695232020078\t 2.490804256434567\n"
          ]
        }
      ],
      "source": [
        "### EXACT GP EI GRADIENTS\n",
        "\n",
        "np.random.seed(run_num_20)\n",
        "surrogate_exact_20 = dGaussianProcess(cov_func, optimize=opt)\n",
        "\n",
        "exact_20 = dGPGO(surrogate_exact_20, Acquisition_grad(util), objfunc, param)\n",
        "exact_20.run(init_evals=n_init, max_iter=iters)\n"
      ]
    },
    {
      "cell_type": "code",
      "execution_count": 54,
      "metadata": {
        "id": "5c8szjivRPme",
        "colab": {
          "base_uri": "https://localhost:8080/"
        },
        "outputId": "ca42e5e4-0c4e-4aab-9952-cc084cbd007c"
      },
      "outputs": [
        {
          "output_type": "execute_result",
          "data": {
            "text/plain": [
              "777.8232190608978"
            ]
          },
          "metadata": {},
          "execution_count": 54
        }
      ],
      "source": [
        "end_exact = time.time()\n",
        "end_exact\n",
        "\n",
        "time_exact = end_exact - start_exact\n",
        "time_exact\n"
      ]
    },
    {
      "cell_type": "code",
      "execution_count": 55,
      "metadata": {
        "id": "f6gCKnp6RR8c",
        "colab": {
          "base_uri": "https://localhost:8080/"
        },
        "outputId": "2e199855-6127-478c-d435-a5e6a7859dfe"
      },
      "outputs": [
        {
          "output_type": "execute_result",
          "data": {
            "text/plain": [
              "(-4.291431036079864, -4.208645985374523)"
            ]
          },
          "metadata": {},
          "execution_count": 55
        }
      ],
      "source": [
        "### Simple regret minimization: run number = 1\n",
        "\n",
        "approx_output_1 = np.append(np.min(-approx_1.GP.y[0:n_init]),-approx_1.GP.y[n_init:(n_init+iters)]) \n",
        "exact_output_1 = np.append(np.min(-exact_1.GP.y[0:n_init]),-exact_1.GP.y[n_init:(n_init+iters)]) \n",
        "\n",
        "regret_approx_1 = np.log(approx_output_1 - y_global_orig)\n",
        "regret_exact_1 = np.log(exact_output_1 - y_global_orig)\n",
        "\n",
        "simple_regret_approx_1 = min_max_array(regret_approx_1)\n",
        "simple_regret_exact_1 = min_max_array(regret_exact_1)\n",
        "\n",
        "min_simple_regret_approx_1 = min(simple_regret_approx_1)\n",
        "min_simple_regret_exact_1 = min(simple_regret_exact_1)\n",
        "\n",
        "min_simple_regret_approx_1, min_simple_regret_exact_1\n"
      ]
    },
    {
      "cell_type": "code",
      "execution_count": 56,
      "metadata": {
        "id": "94yBw5tqQxfk",
        "colab": {
          "base_uri": "https://localhost:8080/"
        },
        "outputId": "436e2a7e-5b07-4b43-f80a-228380c75b2e"
      },
      "outputs": [
        {
          "output_type": "execute_result",
          "data": {
            "text/plain": [
              "(-3.773218432769123, -4.098018410646908)"
            ]
          },
          "metadata": {},
          "execution_count": 56
        }
      ],
      "source": [
        "### Simple regret minimization: run number = 2\n",
        "\n",
        "approx_output_2 = np.append(np.min(-approx_2.GP.y[0:n_init]),-approx_2.GP.y[n_init:(n_init+iters)]) \n",
        "exact_output_2 = np.append(np.min(-exact_2.GP.y[0:n_init]),-exact_2.GP.y[n_init:(n_init+iters)]) \n",
        "\n",
        "regret_approx_2 = np.log(approx_output_2 - y_global_orig)\n",
        "regret_exact_2 = np.log(exact_output_2 - y_global_orig)\n",
        "\n",
        "simple_regret_approx_2 = min_max_array(regret_approx_2)\n",
        "simple_regret_exact_2 = min_max_array(regret_exact_2)\n",
        "\n",
        "min_simple_regret_approx_2 = min(simple_regret_approx_2)\n",
        "min_simple_regret_exact_2 = min(simple_regret_exact_2)\n",
        "\n",
        "min_simple_regret_approx_2, min_simple_regret_exact_2\n"
      ]
    },
    {
      "cell_type": "code",
      "execution_count": 57,
      "metadata": {
        "id": "Bu6SBWALQxfl",
        "colab": {
          "base_uri": "https://localhost:8080/"
        },
        "outputId": "14384690-6794-449d-b65f-0dd263a076d3"
      },
      "outputs": [
        {
          "output_type": "execute_result",
          "data": {
            "text/plain": [
              "(-4.5701587673857915, -3.638729076494572)"
            ]
          },
          "metadata": {},
          "execution_count": 57
        }
      ],
      "source": [
        "### Simple regret minimization: run number = 3\n",
        "\n",
        "approx_output_3 = np.append(np.min(-approx_3.GP.y[0:n_init]),-approx_3.GP.y[n_init:(n_init+iters)]) \n",
        "exact_output_3 = np.append(np.min(-exact_3.GP.y[0:n_init]),-exact_3.GP.y[n_init:(n_init+iters)]) \n",
        "\n",
        "regret_approx_3 = np.log(approx_output_3 - y_global_orig)\n",
        "regret_exact_3 = np.log(exact_output_3 - y_global_orig)\n",
        "\n",
        "simple_regret_approx_3 = min_max_array(regret_approx_3)\n",
        "simple_regret_exact_3 = min_max_array(regret_exact_3)\n",
        "\n",
        "min_simple_regret_approx_3 = min(simple_regret_approx_3)\n",
        "min_simple_regret_exact_3 = min(simple_regret_exact_3)\n",
        "\n",
        "min_simple_regret_approx_3, min_simple_regret_exact_3"
      ]
    },
    {
      "cell_type": "code",
      "execution_count": 58,
      "metadata": {
        "id": "AZm0jgxkQxfm",
        "colab": {
          "base_uri": "https://localhost:8080/"
        },
        "outputId": "77e7ef50-d9a1-4f29-d6c2-414605a0971d"
      },
      "outputs": [
        {
          "output_type": "execute_result",
          "data": {
            "text/plain": [
              "(-2.438907758177992, -3.7800601414116466)"
            ]
          },
          "metadata": {},
          "execution_count": 58
        }
      ],
      "source": [
        "### Simple regret minimization: run number = 4\n",
        "\n",
        "approx_output_4 = np.append(np.min(-approx_4.GP.y[0:n_init]),-approx_4.GP.y[n_init:(n_init+iters)]) \n",
        "exact_output_4 = np.append(np.min(-exact_4.GP.y[0:n_init]),-exact_4.GP.y[n_init:(n_init+iters)]) \n",
        "\n",
        "regret_approx_4 = np.log(approx_output_4 - y_global_orig)\n",
        "regret_exact_4 = np.log(exact_output_4 - y_global_orig)\n",
        "\n",
        "simple_regret_approx_4 = min_max_array(regret_approx_4)\n",
        "simple_regret_exact_4 = min_max_array(regret_exact_4)\n",
        "\n",
        "min_simple_regret_approx_4 = min(simple_regret_approx_4)\n",
        "min_simple_regret_exact_4 = min(simple_regret_exact_4)\n",
        "\n",
        "min_simple_regret_approx_4, min_simple_regret_exact_4"
      ]
    },
    {
      "cell_type": "code",
      "execution_count": 59,
      "metadata": {
        "id": "NONPm8JIQxfn",
        "colab": {
          "base_uri": "https://localhost:8080/"
        },
        "outputId": "f6989478-75ab-4339-d057-a6eeb1a5b75b"
      },
      "outputs": [
        {
          "output_type": "execute_result",
          "data": {
            "text/plain": [
              "(-3.8426445579060373, -5.076003439973669)"
            ]
          },
          "metadata": {},
          "execution_count": 59
        }
      ],
      "source": [
        "### Simple regret minimization: run number = 5\n",
        "\n",
        "approx_output_5 = np.append(np.min(-approx_5.GP.y[0:n_init]),-approx_5.GP.y[n_init:(n_init+iters)]) \n",
        "exact_output_5 = np.append(np.min(-exact_5.GP.y[0:n_init]),-exact_5.GP.y[n_init:(n_init+iters)]) \n",
        "\n",
        "regret_approx_5 = np.log(approx_output_5 - y_global_orig)\n",
        "regret_exact_5 = np.log(exact_output_5 - y_global_orig)\n",
        "\n",
        "simple_regret_approx_5 = min_max_array(regret_approx_5)\n",
        "simple_regret_exact_5 = min_max_array(regret_exact_5)\n",
        "\n",
        "min_simple_regret_approx_5 = min(simple_regret_approx_5)\n",
        "min_simple_regret_exact_5 = min(simple_regret_exact_5)\n",
        "\n",
        "min_simple_regret_approx_5, min_simple_regret_exact_5"
      ]
    },
    {
      "cell_type": "code",
      "execution_count": 60,
      "metadata": {
        "id": "CJv3lPuSQxfp",
        "colab": {
          "base_uri": "https://localhost:8080/"
        },
        "outputId": "d223a408-a4b2-416b-83a2-17f7e04147c8"
      },
      "outputs": [
        {
          "output_type": "execute_result",
          "data": {
            "text/plain": [
              "(-7.871700194823921, -4.876525975321586)"
            ]
          },
          "metadata": {},
          "execution_count": 60
        }
      ],
      "source": [
        "### Simple regret minimization: run number = 6\n",
        "\n",
        "approx_output_6 = np.append(np.min(-approx_6.GP.y[0:n_init]),-approx_6.GP.y[n_init:(n_init+iters)]) \n",
        "exact_output_6 = np.append(np.min(-exact_6.GP.y[0:n_init]),-exact_6.GP.y[n_init:(n_init+iters)]) \n",
        "\n",
        "regret_approx_6 = np.log(approx_output_6 - y_global_orig)\n",
        "regret_exact_6 = np.log(exact_output_6 - y_global_orig)\n",
        "\n",
        "simple_regret_approx_6 = min_max_array(regret_approx_6)\n",
        "simple_regret_exact_6 = min_max_array(regret_exact_6)\n",
        "\n",
        "min_simple_regret_approx_6 = min(simple_regret_approx_6)\n",
        "min_simple_regret_exact_6 = min(simple_regret_exact_6)\n",
        "\n",
        "min_simple_regret_approx_6, min_simple_regret_exact_6"
      ]
    },
    {
      "cell_type": "code",
      "execution_count": 61,
      "metadata": {
        "id": "quR2ZyApQxfq",
        "colab": {
          "base_uri": "https://localhost:8080/"
        },
        "outputId": "34b42703-f928-411a-f08c-2f763c85d46a"
      },
      "outputs": [
        {
          "output_type": "execute_result",
          "data": {
            "text/plain": [
              "(-3.939222560833622, -3.5999104038869305)"
            ]
          },
          "metadata": {},
          "execution_count": 61
        }
      ],
      "source": [
        "### Simple regret minimization: run number = 7\n",
        "\n",
        "approx_output_7 = np.append(np.min(-approx_7.GP.y[0:n_init]),-approx_7.GP.y[n_init:(n_init+iters)]) \n",
        "exact_output_7 = np.append(np.min(-exact_7.GP.y[0:n_init]),-exact_7.GP.y[n_init:(n_init+iters)]) \n",
        "\n",
        "regret_approx_7 = np.log(approx_output_7 - y_global_orig)\n",
        "regret_exact_7 = np.log(exact_output_7 - y_global_orig)\n",
        "\n",
        "simple_regret_approx_7 = min_max_array(regret_approx_7)\n",
        "simple_regret_exact_7 = min_max_array(regret_exact_7)\n",
        "\n",
        "min_simple_regret_approx_7 = min(simple_regret_approx_7)\n",
        "min_simple_regret_exact_7 = min(simple_regret_exact_7)\n",
        "\n",
        "min_simple_regret_approx_7, min_simple_regret_exact_7"
      ]
    },
    {
      "cell_type": "code",
      "execution_count": 62,
      "metadata": {
        "id": "99wY5nK6Qxfr",
        "colab": {
          "base_uri": "https://localhost:8080/"
        },
        "outputId": "8ab47947-3ba8-44da-e648-36079ffa9838"
      },
      "outputs": [
        {
          "output_type": "execute_result",
          "data": {
            "text/plain": [
              "(-7.186826716691583, -4.091853575166087)"
            ]
          },
          "metadata": {},
          "execution_count": 62
        }
      ],
      "source": [
        "### Simple regret minimization: run number = 8\n",
        "\n",
        "approx_output_8 = np.append(np.min(-approx_8.GP.y[0:n_init]),-approx_8.GP.y[n_init:(n_init+iters)]) \n",
        "exact_output_8 = np.append(np.min(-exact_8.GP.y[0:n_init]),-exact_8.GP.y[n_init:(n_init+iters)]) \n",
        "\n",
        "regret_approx_8 = np.log(approx_output_8 - y_global_orig)\n",
        "regret_exact_8 = np.log(exact_output_8 - y_global_orig)\n",
        "\n",
        "simple_regret_approx_8 = min_max_array(regret_approx_8)\n",
        "simple_regret_exact_8 = min_max_array(regret_exact_8)\n",
        "\n",
        "min_simple_regret_approx_8 = min(simple_regret_approx_8)\n",
        "min_simple_regret_exact_8 = min(simple_regret_exact_8)\n",
        "\n",
        "min_simple_regret_approx_8, min_simple_regret_exact_8"
      ]
    },
    {
      "cell_type": "code",
      "execution_count": 63,
      "metadata": {
        "id": "qt0P5t9qQxfs",
        "colab": {
          "base_uri": "https://localhost:8080/"
        },
        "outputId": "3a626825-89a6-43a4-cd3c-91d2c044d7af"
      },
      "outputs": [
        {
          "output_type": "execute_result",
          "data": {
            "text/plain": [
              "(-3.947826473002925, -3.119856434574241)"
            ]
          },
          "metadata": {},
          "execution_count": 63
        }
      ],
      "source": [
        "### Simple regret minimization: run number = 9\n",
        "\n",
        "approx_output_9 = np.append(np.min(-approx_9.GP.y[0:n_init]),-approx_9.GP.y[n_init:(n_init+iters)]) \n",
        "exact_output_9 = np.append(np.min(-exact_9.GP.y[0:n_init]),-exact_9.GP.y[n_init:(n_init+iters)]) \n",
        "\n",
        "regret_approx_9 = np.log(approx_output_9 - y_global_orig)\n",
        "regret_exact_9 = np.log(exact_output_9 - y_global_orig)\n",
        "\n",
        "simple_regret_approx_9 = min_max_array(regret_approx_9)\n",
        "simple_regret_exact_9 = min_max_array(regret_exact_9)\n",
        "\n",
        "min_simple_regret_approx_9 = min(simple_regret_approx_9)\n",
        "min_simple_regret_exact_9 = min(simple_regret_exact_9)\n",
        "\n",
        "min_simple_regret_approx_9, min_simple_regret_exact_9"
      ]
    },
    {
      "cell_type": "code",
      "execution_count": 64,
      "metadata": {
        "id": "vx8to9stQxft",
        "colab": {
          "base_uri": "https://localhost:8080/"
        },
        "outputId": "b2741eda-7202-4245-ad98-85dac2ec7e9a"
      },
      "outputs": [
        {
          "output_type": "execute_result",
          "data": {
            "text/plain": [
              "(-5.592509752863984, -4.479747727494332)"
            ]
          },
          "metadata": {},
          "execution_count": 64
        }
      ],
      "source": [
        "### Simple regret minimization: run number = 10\n",
        "\n",
        "approx_output_10 = np.append(np.min(-approx_10.GP.y[0:n_init]),-approx_10.GP.y[n_init:(n_init+iters)]) \n",
        "exact_output_10 = np.append(np.min(-exact_10.GP.y[0:n_init]),-exact_10.GP.y[n_init:(n_init+iters)]) \n",
        "\n",
        "regret_approx_10 = np.log(approx_output_10 - y_global_orig)\n",
        "regret_exact_10 = np.log(exact_output_10 - y_global_orig)\n",
        "\n",
        "simple_regret_approx_10 = min_max_array(regret_approx_10)\n",
        "simple_regret_exact_10 = min_max_array(regret_exact_10)\n",
        "\n",
        "min_simple_regret_approx_10 = min(simple_regret_approx_10)\n",
        "min_simple_regret_exact_10 = min(simple_regret_exact_10)\n",
        "\n",
        "min_simple_regret_approx_10, min_simple_regret_exact_10"
      ]
    },
    {
      "cell_type": "code",
      "execution_count": 65,
      "metadata": {
        "id": "d-FGzWyHQxfu",
        "colab": {
          "base_uri": "https://localhost:8080/"
        },
        "outputId": "12d1572f-b9fd-4e42-91a7-c0fad86fabc7"
      },
      "outputs": [
        {
          "output_type": "execute_result",
          "data": {
            "text/plain": [
              "(-3.6506529446777334, -6.886709125434023)"
            ]
          },
          "metadata": {},
          "execution_count": 65
        }
      ],
      "source": [
        "### Simple regret minimization: run number = 11\n",
        "\n",
        "approx_output_11 = np.append(np.min(-approx_11.GP.y[0:n_init]),-approx_11.GP.y[n_init:(n_init+iters)]) \n",
        "exact_output_11 = np.append(np.min(-exact_11.GP.y[0:n_init]),-exact_11.GP.y[n_init:(n_init+iters)]) \n",
        "\n",
        "regret_approx_11 = np.log(approx_output_11 - y_global_orig)\n",
        "regret_exact_11 = np.log(exact_output_11 - y_global_orig)\n",
        "\n",
        "simple_regret_approx_11 = min_max_array(regret_approx_11)\n",
        "simple_regret_exact_11 = min_max_array(regret_exact_11)\n",
        "\n",
        "min_simple_regret_approx_11 = min(simple_regret_approx_11)\n",
        "min_simple_regret_exact_11 = min(simple_regret_exact_11)\n",
        "\n",
        "min_simple_regret_approx_11, min_simple_regret_exact_11"
      ]
    },
    {
      "cell_type": "code",
      "execution_count": 66,
      "metadata": {
        "id": "SvtsssyjQxfv",
        "colab": {
          "base_uri": "https://localhost:8080/"
        },
        "outputId": "7d8122c1-67f8-4c98-eaab-d3e788114e0c"
      },
      "outputs": [
        {
          "output_type": "execute_result",
          "data": {
            "text/plain": [
              "(-5.722189159934916, -4.589778639641301)"
            ]
          },
          "metadata": {},
          "execution_count": 66
        }
      ],
      "source": [
        "### Simple regret minimization: run number = 12\n",
        "\n",
        "approx_output_12 = np.append(np.min(-approx_12.GP.y[0:n_init]),-approx_12.GP.y[n_init:(n_init+iters)]) \n",
        "exact_output_12 = np.append(np.min(-exact_12.GP.y[0:n_init]),-exact_12.GP.y[n_init:(n_init+iters)]) \n",
        "\n",
        "regret_approx_12 = np.log(approx_output_12 - y_global_orig)\n",
        "regret_exact_12 = np.log(exact_output_12 - y_global_orig)\n",
        "\n",
        "simple_regret_approx_12 = min_max_array(regret_approx_12)\n",
        "simple_regret_exact_12 = min_max_array(regret_exact_12)\n",
        "\n",
        "min_simple_regret_approx_12 = min(simple_regret_approx_12)\n",
        "min_simple_regret_exact_12 = min(simple_regret_exact_12)\n",
        "\n",
        "min_simple_regret_approx_12, min_simple_regret_exact_12"
      ]
    },
    {
      "cell_type": "code",
      "execution_count": 67,
      "metadata": {
        "id": "K6OiGcHkQxfw",
        "colab": {
          "base_uri": "https://localhost:8080/"
        },
        "outputId": "5ed078b6-69f0-4213-fab8-a039a5e0aa6b"
      },
      "outputs": [
        {
          "output_type": "execute_result",
          "data": {
            "text/plain": [
              "(-4.906762102202577, -7.3257180269914555)"
            ]
          },
          "metadata": {},
          "execution_count": 67
        }
      ],
      "source": [
        "### Simple regret minimization: run number = 13\n",
        "\n",
        "approx_output_13 = np.append(np.min(-approx_13.GP.y[0:n_init]),-approx_13.GP.y[n_init:(n_init+iters)]) \n",
        "exact_output_13 = np.append(np.min(-exact_13.GP.y[0:n_init]),-exact_13.GP.y[n_init:(n_init+iters)]) \n",
        "\n",
        "regret_approx_13 = np.log(approx_output_13 - y_global_orig)\n",
        "regret_exact_13 = np.log(exact_output_13 - y_global_orig)\n",
        "\n",
        "simple_regret_approx_13 = min_max_array(regret_approx_13)\n",
        "simple_regret_exact_13 = min_max_array(regret_exact_13)\n",
        "\n",
        "min_simple_regret_approx_13 = min(simple_regret_approx_13)\n",
        "min_simple_regret_exact_13 = min(simple_regret_exact_13)\n",
        "\n",
        "min_simple_regret_approx_13, min_simple_regret_exact_13"
      ]
    },
    {
      "cell_type": "code",
      "execution_count": 68,
      "metadata": {
        "id": "ogML73shQxfx",
        "colab": {
          "base_uri": "https://localhost:8080/"
        },
        "outputId": "8e568136-b8e4-4a22-b1d6-b8983d02dde3"
      },
      "outputs": [
        {
          "output_type": "execute_result",
          "data": {
            "text/plain": [
              "(-5.2735681059152935, -5.911920289354416)"
            ]
          },
          "metadata": {},
          "execution_count": 68
        }
      ],
      "source": [
        "### Simple regret minimization: run number = 14\n",
        "\n",
        "approx_output_14 = np.append(np.min(-approx_14.GP.y[0:n_init]),-approx_14.GP.y[n_init:(n_init+iters)]) \n",
        "exact_output_14 = np.append(np.min(-exact_14.GP.y[0:n_init]),-exact_14.GP.y[n_init:(n_init+iters)]) \n",
        "\n",
        "regret_approx_14 = np.log(approx_output_14 - y_global_orig)\n",
        "regret_exact_14 = np.log(exact_output_14 - y_global_orig)\n",
        "\n",
        "simple_regret_approx_14 = min_max_array(regret_approx_14)\n",
        "simple_regret_exact_14 = min_max_array(regret_exact_14)\n",
        "\n",
        "min_simple_regret_approx_14 = min(simple_regret_approx_14)\n",
        "min_simple_regret_exact_14 = min(simple_regret_exact_14)\n",
        "\n",
        "min_simple_regret_approx_14, min_simple_regret_exact_14"
      ]
    },
    {
      "cell_type": "code",
      "execution_count": 69,
      "metadata": {
        "id": "9Eg7gFT9Qxfx",
        "colab": {
          "base_uri": "https://localhost:8080/"
        },
        "outputId": "b06cbc9e-1163-489e-d3e4-d2424b737b84"
      },
      "outputs": [
        {
          "output_type": "execute_result",
          "data": {
            "text/plain": [
              "(-4.607999838876927, -6.259077585239447)"
            ]
          },
          "metadata": {},
          "execution_count": 69
        }
      ],
      "source": [
        "### Simple regret minimization: run number = 15\n",
        "\n",
        "approx_output_15 = np.append(np.min(-approx_15.GP.y[0:n_init]),-approx_15.GP.y[n_init:(n_init+iters)]) \n",
        "exact_output_15 = np.append(np.min(-exact_15.GP.y[0:n_init]),-exact_15.GP.y[n_init:(n_init+iters)]) \n",
        "\n",
        "regret_approx_15 = np.log(approx_output_15 - y_global_orig)\n",
        "regret_exact_15 = np.log(exact_output_15 - y_global_orig)\n",
        "\n",
        "simple_regret_approx_15 = min_max_array(regret_approx_15)\n",
        "simple_regret_exact_15 = min_max_array(regret_exact_15)\n",
        "\n",
        "min_simple_regret_approx_15 = min(simple_regret_approx_15)\n",
        "min_simple_regret_exact_15 = min(simple_regret_exact_15)\n",
        "\n",
        "min_simple_regret_approx_15, min_simple_regret_exact_15"
      ]
    },
    {
      "cell_type": "code",
      "execution_count": 70,
      "metadata": {
        "id": "lIAC1U7ZQxfy",
        "colab": {
          "base_uri": "https://localhost:8080/"
        },
        "outputId": "3208449e-7b81-46e0-8868-ccd0b9a9ff60"
      },
      "outputs": [
        {
          "output_type": "execute_result",
          "data": {
            "text/plain": [
              "(-2.4931385961293597, -2.526647507166379)"
            ]
          },
          "metadata": {},
          "execution_count": 70
        }
      ],
      "source": [
        "### Simple regret minimization: run number = 16\n",
        "\n",
        "approx_output_16 = np.append(np.min(-approx_16.GP.y[0:n_init]),-approx_16.GP.y[n_init:(n_init+iters)]) \n",
        "exact_output_16 = np.append(np.min(-exact_16.GP.y[0:n_init]),-exact_16.GP.y[n_init:(n_init+iters)]) \n",
        "\n",
        "regret_approx_16 = np.log(approx_output_16 - y_global_orig)\n",
        "regret_exact_16 = np.log(exact_output_16 - y_global_orig)\n",
        "\n",
        "simple_regret_approx_16 = min_max_array(regret_approx_16)\n",
        "simple_regret_exact_16 = min_max_array(regret_exact_16)\n",
        "\n",
        "min_simple_regret_approx_16 = min(simple_regret_approx_16)\n",
        "min_simple_regret_exact_16 = min(simple_regret_exact_16)\n",
        "\n",
        "min_simple_regret_approx_16, min_simple_regret_exact_16"
      ]
    },
    {
      "cell_type": "code",
      "execution_count": 71,
      "metadata": {
        "id": "bGott36OQxfz",
        "colab": {
          "base_uri": "https://localhost:8080/"
        },
        "outputId": "81632f4c-08ae-4bea-df89-36f3ea758797"
      },
      "outputs": [
        {
          "output_type": "execute_result",
          "data": {
            "text/plain": [
              "(-3.7878688174878175, -6.638711245637327)"
            ]
          },
          "metadata": {},
          "execution_count": 71
        }
      ],
      "source": [
        "### Simple regret minimization: run number = 17\n",
        "\n",
        "approx_output_17 = np.append(np.min(-approx_17.GP.y[0:n_init]),-approx_17.GP.y[n_init:(n_init+iters)]) \n",
        "exact_output_17 = np.append(np.min(-exact_17.GP.y[0:n_init]),-exact_17.GP.y[n_init:(n_init+iters)]) \n",
        "\n",
        "regret_approx_17 = np.log(approx_output_17 - y_global_orig)\n",
        "regret_exact_17 = np.log(exact_output_17 - y_global_orig)\n",
        "\n",
        "simple_regret_approx_17 = min_max_array(regret_approx_17)\n",
        "simple_regret_exact_17 = min_max_array(regret_exact_17)\n",
        "\n",
        "min_simple_regret_approx_17 = min(simple_regret_approx_17)\n",
        "min_simple_regret_exact_17 = min(simple_regret_exact_17)\n",
        "\n",
        "min_simple_regret_approx_17, min_simple_regret_exact_17"
      ]
    },
    {
      "cell_type": "code",
      "execution_count": 72,
      "metadata": {
        "id": "Cz9ZYMBMQxfz",
        "colab": {
          "base_uri": "https://localhost:8080/"
        },
        "outputId": "ec25671e-e4f4-40ac-c6a4-5855d09abc47"
      },
      "outputs": [
        {
          "output_type": "execute_result",
          "data": {
            "text/plain": [
              "(-5.406562873940401, -3.333616886139725)"
            ]
          },
          "metadata": {},
          "execution_count": 72
        }
      ],
      "source": [
        "### Simple regret minimization: run number = 18\n",
        "\n",
        "approx_output_18 = np.append(np.min(-approx_18.GP.y[0:n_init]),-approx_18.GP.y[n_init:(n_init+iters)]) \n",
        "exact_output_18 = np.append(np.min(-exact_18.GP.y[0:n_init]),-exact_18.GP.y[n_init:(n_init+iters)]) \n",
        "\n",
        "regret_approx_18 = np.log(approx_output_18 - y_global_orig)\n",
        "regret_exact_18 = np.log(exact_output_18 - y_global_orig)\n",
        "\n",
        "simple_regret_approx_18 = min_max_array(regret_approx_18)\n",
        "simple_regret_exact_18 = min_max_array(regret_exact_18)\n",
        "\n",
        "min_simple_regret_approx_18 = min(simple_regret_approx_18)\n",
        "min_simple_regret_exact_18 = min(simple_regret_exact_18)\n",
        "\n",
        "min_simple_regret_approx_18, min_simple_regret_exact_18"
      ]
    },
    {
      "cell_type": "code",
      "execution_count": 73,
      "metadata": {
        "id": "OBfpWOHNQxf0",
        "colab": {
          "base_uri": "https://localhost:8080/"
        },
        "outputId": "bb109cb5-6570-444c-c268-2e61b740a4f0"
      },
      "outputs": [
        {
          "output_type": "execute_result",
          "data": {
            "text/plain": [
              "(-5.262529692459747, -2.5542878946862406)"
            ]
          },
          "metadata": {},
          "execution_count": 73
        }
      ],
      "source": [
        "### Simple regret minimization: run number = 19\n",
        "\n",
        "approx_output_19 = np.append(np.min(-approx_19.GP.y[0:n_init]),-approx_19.GP.y[n_init:(n_init+iters)]) \n",
        "exact_output_19 = np.append(np.min(-exact_19.GP.y[0:n_init]),-exact_19.GP.y[n_init:(n_init+iters)]) \n",
        "\n",
        "regret_approx_19 = np.log(approx_output_19 - y_global_orig)\n",
        "regret_exact_19 = np.log(exact_output_19 - y_global_orig)\n",
        "\n",
        "simple_regret_approx_19 = min_max_array(regret_approx_19)\n",
        "simple_regret_exact_19 = min_max_array(regret_exact_19)\n",
        "\n",
        "min_simple_regret_approx_19 = min(simple_regret_approx_19)\n",
        "min_simple_regret_exact_19 = min(simple_regret_exact_19)\n",
        "\n",
        "min_simple_regret_approx_19, min_simple_regret_exact_19"
      ]
    },
    {
      "cell_type": "code",
      "execution_count": 74,
      "metadata": {
        "id": "BE1AJ7NsQxf0",
        "colab": {
          "base_uri": "https://localhost:8080/"
        },
        "outputId": "21ac2205-db23-404f-c209-a177de166107"
      },
      "outputs": [
        {
          "output_type": "execute_result",
          "data": {
            "text/plain": [
              "(-6.7546264261236395, -3.285592605076735)"
            ]
          },
          "metadata": {},
          "execution_count": 74
        }
      ],
      "source": [
        "### Simple regret minimization: run number = 20\n",
        "\n",
        "approx_output_20 = np.append(np.min(-approx_20.GP.y[0:n_init]),-approx_20.GP.y[n_init:(n_init+iters)]) \n",
        "exact_output_20 = np.append(np.min(-exact_20.GP.y[0:n_init]),-exact_20.GP.y[n_init:(n_init+iters)]) \n",
        "\n",
        "regret_approx_20 = np.log(approx_output_20 - y_global_orig)\n",
        "regret_exact_20 = np.log(exact_output_20 - y_global_orig)\n",
        "\n",
        "simple_regret_approx_20 = min_max_array(regret_approx_20)\n",
        "simple_regret_exact_20 = min_max_array(regret_exact_20)\n",
        "\n",
        "min_simple_regret_approx_20 = min(simple_regret_approx_20)\n",
        "min_simple_regret_exact_20 = min(simple_regret_exact_20)\n",
        "\n",
        "min_simple_regret_approx_20, min_simple_regret_exact_20"
      ]
    },
    {
      "cell_type": "code",
      "execution_count": 75,
      "metadata": {
        "id": "bpX-bKAHQxf1"
      },
      "outputs": [],
      "source": [
        "# Iteration1 :\n",
        "\n",
        "slice1 = 0\n",
        "\n",
        "approx1 = [simple_regret_approx_1[slice1],\n",
        "       simple_regret_approx_2[slice1],\n",
        "       simple_regret_approx_3[slice1],\n",
        "       simple_regret_approx_4[slice1],\n",
        "       simple_regret_approx_5[slice1],\n",
        "       simple_regret_approx_6[slice1],\n",
        "       simple_regret_approx_7[slice1],\n",
        "       simple_regret_approx_8[slice1],\n",
        "       simple_regret_approx_9[slice1],\n",
        "       simple_regret_approx_10[slice1],\n",
        "       simple_regret_approx_11[slice1],\n",
        "       simple_regret_approx_12[slice1],\n",
        "       simple_regret_approx_13[slice1],\n",
        "       simple_regret_approx_14[slice1],\n",
        "       simple_regret_approx_15[slice1],\n",
        "       simple_regret_approx_16[slice1],\n",
        "       simple_regret_approx_17[slice1],\n",
        "       simple_regret_approx_18[slice1],\n",
        "       simple_regret_approx_19[slice1],\n",
        "       simple_regret_approx_20[slice1]]\n",
        "\n",
        "exact1 = [simple_regret_exact_1[slice1],\n",
        "       simple_regret_exact_2[slice1],\n",
        "       simple_regret_exact_3[slice1],\n",
        "       simple_regret_exact_4[slice1],\n",
        "       simple_regret_exact_5[slice1],\n",
        "       simple_regret_exact_6[slice1],\n",
        "       simple_regret_exact_7[slice1],\n",
        "       simple_regret_exact_8[slice1],\n",
        "       simple_regret_exact_9[slice1],\n",
        "       simple_regret_exact_10[slice1],\n",
        "       simple_regret_exact_11[slice1],\n",
        "       simple_regret_exact_12[slice1],\n",
        "       simple_regret_exact_13[slice1],\n",
        "       simple_regret_exact_14[slice1],\n",
        "       simple_regret_exact_15[slice1],\n",
        "       simple_regret_exact_16[slice1],\n",
        "       simple_regret_exact_17[slice1],\n",
        "       simple_regret_exact_18[slice1],\n",
        "       simple_regret_exact_19[slice1],\n",
        "       simple_regret_exact_20[slice1]]\n",
        "\n",
        "approx1_results = pd.DataFrame(approx1).sort_values(by=[0], ascending=False)\n",
        "exact1_results = pd.DataFrame(exact1).sort_values(by=[0], ascending=False)\n",
        "\n",
        "### Best simple regret minimization IQR - approx:\n",
        "lower_approx1 = np.asarray(approx1_results[4:5][0])[0]\n",
        "median_approx1 = np.asarray(approx1_results[9:10][0])[0]\n",
        "upper_approx1 = np.asarray(approx1_results[14:15][0])[0]\n",
        "\n",
        "lower_exact1 = np.asarray(exact1_results[4:5][0])[0]\n",
        "median_exact1 = np.asarray(exact1_results[9:10][0])[0]\n",
        "upper_exact1 = np.asarray(exact1_results[14:15][0])[0]"
      ]
    },
    {
      "cell_type": "code",
      "execution_count": 76,
      "metadata": {
        "id": "CgIkJA1xQxf2"
      },
      "outputs": [],
      "source": [
        "# Iteration11 :\n",
        "\n",
        "slice11 = 10\n",
        "\n",
        "approx11 = [simple_regret_approx_1[slice11],\n",
        "       simple_regret_approx_2[slice11],\n",
        "       simple_regret_approx_3[slice11],\n",
        "       simple_regret_approx_4[slice11],\n",
        "       simple_regret_approx_5[slice11],\n",
        "       simple_regret_approx_6[slice11],\n",
        "       simple_regret_approx_7[slice11],\n",
        "       simple_regret_approx_8[slice11],\n",
        "       simple_regret_approx_9[slice11],\n",
        "       simple_regret_approx_10[slice11],\n",
        "       simple_regret_approx_11[slice11],\n",
        "       simple_regret_approx_12[slice11],\n",
        "       simple_regret_approx_13[slice11],\n",
        "       simple_regret_approx_14[slice11],\n",
        "       simple_regret_approx_15[slice11],\n",
        "       simple_regret_approx_16[slice11],\n",
        "       simple_regret_approx_17[slice11],\n",
        "       simple_regret_approx_18[slice11],\n",
        "       simple_regret_approx_19[slice11],\n",
        "       simple_regret_approx_20[slice11]]\n",
        "\n",
        "exact11 = [simple_regret_exact_1[slice11],\n",
        "       simple_regret_exact_2[slice11],\n",
        "       simple_regret_exact_3[slice11],\n",
        "       simple_regret_exact_4[slice11],\n",
        "       simple_regret_exact_5[slice11],\n",
        "       simple_regret_exact_6[slice11],\n",
        "       simple_regret_exact_7[slice11],\n",
        "       simple_regret_exact_8[slice11],\n",
        "       simple_regret_exact_9[slice11],\n",
        "       simple_regret_exact_10[slice11],\n",
        "       simple_regret_exact_11[slice11],\n",
        "       simple_regret_exact_12[slice11],\n",
        "       simple_regret_exact_13[slice11],\n",
        "       simple_regret_exact_14[slice11],\n",
        "       simple_regret_exact_15[slice11],\n",
        "       simple_regret_exact_16[slice11],\n",
        "       simple_regret_exact_17[slice11],\n",
        "       simple_regret_exact_18[slice11],\n",
        "       simple_regret_exact_19[slice11],\n",
        "       simple_regret_exact_20[slice11]]\n",
        "\n",
        "approx11_results = pd.DataFrame(approx11).sort_values(by=[0], ascending=False)\n",
        "exact11_results = pd.DataFrame(exact11).sort_values(by=[0], ascending=False)\n",
        "\n",
        "### Best simple regret minimization IQR - approx:\n",
        "lower_approx11 = np.asarray(approx11_results[4:5][0])[0]\n",
        "median_approx11 = np.asarray(approx11_results[9:10][0])[0]\n",
        "upper_approx11 = np.asarray(approx11_results[14:15][0])[0]\n",
        "\n",
        "lower_exact11 = np.asarray(exact11_results[4:5][0])[0]\n",
        "median_exact11 = np.asarray(exact11_results[9:10][0])[0]\n",
        "upper_exact11 = np.asarray(exact11_results[14:15][0])[0]"
      ]
    },
    {
      "cell_type": "code",
      "execution_count": 77,
      "metadata": {
        "id": "MFePDfGuQxf2"
      },
      "outputs": [],
      "source": [
        "# Iteration21 :\n",
        "\n",
        "slice21 = 20\n",
        "\n",
        "approx21 = [simple_regret_approx_1[slice21],\n",
        "       simple_regret_approx_2[slice21],\n",
        "       simple_regret_approx_3[slice21],\n",
        "       simple_regret_approx_4[slice21],\n",
        "       simple_regret_approx_5[slice21],\n",
        "       simple_regret_approx_6[slice21],\n",
        "       simple_regret_approx_7[slice21],\n",
        "       simple_regret_approx_8[slice21],\n",
        "       simple_regret_approx_9[slice21],\n",
        "       simple_regret_approx_10[slice21],\n",
        "       simple_regret_approx_11[slice21],\n",
        "       simple_regret_approx_12[slice21],\n",
        "       simple_regret_approx_13[slice21],\n",
        "       simple_regret_approx_14[slice21],\n",
        "       simple_regret_approx_15[slice21],\n",
        "       simple_regret_approx_16[slice21],\n",
        "       simple_regret_approx_17[slice21],\n",
        "       simple_regret_approx_18[slice21],\n",
        "       simple_regret_approx_19[slice21],\n",
        "       simple_regret_approx_20[slice21]]\n",
        "\n",
        "exact21 = [simple_regret_exact_1[slice21],\n",
        "       simple_regret_exact_2[slice21],\n",
        "       simple_regret_exact_3[slice21],\n",
        "       simple_regret_exact_4[slice21],\n",
        "       simple_regret_exact_5[slice21],\n",
        "       simple_regret_exact_6[slice21],\n",
        "       simple_regret_exact_7[slice21],\n",
        "       simple_regret_exact_8[slice21],\n",
        "       simple_regret_exact_9[slice21],\n",
        "       simple_regret_exact_10[slice21],\n",
        "       simple_regret_exact_11[slice21],\n",
        "       simple_regret_exact_12[slice21],\n",
        "       simple_regret_exact_13[slice21],\n",
        "       simple_regret_exact_14[slice21],\n",
        "       simple_regret_exact_15[slice21],\n",
        "       simple_regret_exact_16[slice21],\n",
        "       simple_regret_exact_17[slice21],\n",
        "       simple_regret_exact_18[slice21],\n",
        "       simple_regret_exact_19[slice21],\n",
        "       simple_regret_exact_20[slice21]]\n",
        "\n",
        "approx21_results = pd.DataFrame(approx21).sort_values(by=[0], ascending=False)\n",
        "exact21_results = pd.DataFrame(exact21).sort_values(by=[0], ascending=False)\n",
        "\n",
        "### Best simple regret minimization IQR - approx:\n",
        "lower_approx21 = np.asarray(approx21_results[4:5][0])[0]\n",
        "median_approx21 = np.asarray(approx21_results[9:10][0])[0]\n",
        "upper_approx21 = np.asarray(approx21_results[14:15][0])[0]\n",
        "\n",
        "lower_exact21 = np.asarray(exact21_results[4:5][0])[0]\n",
        "median_exact21 = np.asarray(exact21_results[9:10][0])[0]\n",
        "upper_exact21 = np.asarray(exact21_results[14:15][0])[0]"
      ]
    },
    {
      "cell_type": "code",
      "execution_count": 78,
      "metadata": {
        "id": "PrRDB1kfQxf3"
      },
      "outputs": [],
      "source": [
        "# Iteration2 :\n",
        "\n",
        "slice2 = 1\n",
        "\n",
        "approx2 = [simple_regret_approx_1[slice2],\n",
        "       simple_regret_approx_2[slice2],\n",
        "       simple_regret_approx_3[slice2],\n",
        "       simple_regret_approx_4[slice2],\n",
        "       simple_regret_approx_5[slice2],\n",
        "       simple_regret_approx_6[slice2],\n",
        "       simple_regret_approx_7[slice2],\n",
        "       simple_regret_approx_8[slice2],\n",
        "       simple_regret_approx_9[slice2],\n",
        "       simple_regret_approx_10[slice2],\n",
        "       simple_regret_approx_11[slice2],\n",
        "       simple_regret_approx_12[slice2],\n",
        "       simple_regret_approx_13[slice2],\n",
        "       simple_regret_approx_14[slice2],\n",
        "       simple_regret_approx_15[slice2],\n",
        "       simple_regret_approx_16[slice2],\n",
        "       simple_regret_approx_17[slice2],\n",
        "       simple_regret_approx_18[slice2],\n",
        "       simple_regret_approx_19[slice2],\n",
        "       simple_regret_approx_20[slice2]]\n",
        "\n",
        "exact2 = [simple_regret_exact_1[slice2],\n",
        "       simple_regret_exact_2[slice2],\n",
        "       simple_regret_exact_3[slice2],\n",
        "       simple_regret_exact_4[slice2],\n",
        "       simple_regret_exact_5[slice2],\n",
        "       simple_regret_exact_6[slice2],\n",
        "       simple_regret_exact_7[slice2],\n",
        "       simple_regret_exact_8[slice2],\n",
        "       simple_regret_exact_9[slice2],\n",
        "       simple_regret_exact_10[slice2],\n",
        "       simple_regret_exact_11[slice2],\n",
        "       simple_regret_exact_12[slice2],\n",
        "       simple_regret_exact_13[slice2],\n",
        "       simple_regret_exact_14[slice2],\n",
        "       simple_regret_exact_15[slice2],\n",
        "       simple_regret_exact_16[slice2],\n",
        "       simple_regret_exact_17[slice2],\n",
        "       simple_regret_exact_18[slice2],\n",
        "       simple_regret_exact_19[slice2],\n",
        "       simple_regret_exact_20[slice2]]\n",
        "\n",
        "approx2_results = pd.DataFrame(approx2).sort_values(by=[0], ascending=False)\n",
        "exact2_results = pd.DataFrame(exact2).sort_values(by=[0], ascending=False)\n",
        "\n",
        "### Best simple regret minimization IQR - approx:\n",
        "lower_approx2 = np.asarray(approx2_results[4:5][0])[0]\n",
        "median_approx2 = np.asarray(approx2_results[9:10][0])[0]\n",
        "upper_approx2 = np.asarray(approx2_results[14:15][0])[0]\n",
        "\n",
        "lower_exact2 = np.asarray(exact2_results[4:5][0])[0]\n",
        "median_exact2 = np.asarray(exact2_results[9:10][0])[0]\n",
        "upper_exact2 = np.asarray(exact2_results[14:15][0])[0]"
      ]
    },
    {
      "cell_type": "code",
      "execution_count": 79,
      "metadata": {
        "id": "B8ncJDYeQxf3"
      },
      "outputs": [],
      "source": [
        "# Iteration12 :\n",
        "\n",
        "slice12 = 11\n",
        "\n",
        "approx12 = [simple_regret_approx_1[slice12],\n",
        "       simple_regret_approx_2[slice12],\n",
        "       simple_regret_approx_3[slice12],\n",
        "       simple_regret_approx_4[slice12],\n",
        "       simple_regret_approx_5[slice12],\n",
        "       simple_regret_approx_6[slice12],\n",
        "       simple_regret_approx_7[slice12],\n",
        "       simple_regret_approx_8[slice12],\n",
        "       simple_regret_approx_9[slice12],\n",
        "       simple_regret_approx_10[slice12],\n",
        "       simple_regret_approx_11[slice12],\n",
        "       simple_regret_approx_12[slice12],\n",
        "       simple_regret_approx_13[slice12],\n",
        "       simple_regret_approx_14[slice12],\n",
        "       simple_regret_approx_15[slice12],\n",
        "       simple_regret_approx_16[slice12],\n",
        "       simple_regret_approx_17[slice12],\n",
        "       simple_regret_approx_18[slice12],\n",
        "       simple_regret_approx_19[slice12],\n",
        "       simple_regret_approx_20[slice12]]\n",
        "\n",
        "exact12 = [simple_regret_exact_1[slice12],\n",
        "       simple_regret_exact_2[slice12],\n",
        "       simple_regret_exact_3[slice12],\n",
        "       simple_regret_exact_4[slice12],\n",
        "       simple_regret_exact_5[slice12],\n",
        "       simple_regret_exact_6[slice12],\n",
        "       simple_regret_exact_7[slice12],\n",
        "       simple_regret_exact_8[slice12],\n",
        "       simple_regret_exact_9[slice12],\n",
        "       simple_regret_exact_10[slice12],\n",
        "       simple_regret_exact_11[slice12],\n",
        "       simple_regret_exact_12[slice12],\n",
        "       simple_regret_exact_13[slice12],\n",
        "       simple_regret_exact_14[slice12],\n",
        "       simple_regret_exact_15[slice12],\n",
        "       simple_regret_exact_16[slice12],\n",
        "       simple_regret_exact_17[slice12],\n",
        "       simple_regret_exact_18[slice12],\n",
        "       simple_regret_exact_19[slice12],\n",
        "       simple_regret_exact_20[slice12]]\n",
        "\n",
        "approx12_results = pd.DataFrame(approx12).sort_values(by=[0], ascending=False)\n",
        "exact12_results = pd.DataFrame(exact12).sort_values(by=[0], ascending=False)\n",
        "\n",
        "### Best simple regret minimization IQR - approx:\n",
        "lower_approx12 = np.asarray(approx12_results[4:5][0])[0]\n",
        "median_approx12 = np.asarray(approx12_results[9:10][0])[0]\n",
        "upper_approx12 = np.asarray(approx12_results[14:15][0])[0]\n",
        "\n",
        "lower_exact12 = np.asarray(exact12_results[4:5][0])[0]\n",
        "median_exact12 = np.asarray(exact12_results[9:10][0])[0]\n",
        "upper_exact12 = np.asarray(exact12_results[14:15][0])[0]"
      ]
    },
    {
      "cell_type": "code",
      "execution_count": 80,
      "metadata": {
        "id": "Jn4KpGvcQxf4"
      },
      "outputs": [],
      "source": [
        "# Iteration3 :\n",
        "\n",
        "slice3 = 2\n",
        "\n",
        "approx3 = [simple_regret_approx_1[slice3],\n",
        "       simple_regret_approx_2[slice3],\n",
        "       simple_regret_approx_3[slice3],\n",
        "       simple_regret_approx_4[slice3],\n",
        "       simple_regret_approx_5[slice3],\n",
        "       simple_regret_approx_6[slice3],\n",
        "       simple_regret_approx_7[slice3],\n",
        "       simple_regret_approx_8[slice3],\n",
        "       simple_regret_approx_9[slice3],\n",
        "       simple_regret_approx_10[slice3],\n",
        "       simple_regret_approx_11[slice3],\n",
        "       simple_regret_approx_12[slice3],\n",
        "       simple_regret_approx_13[slice3],\n",
        "       simple_regret_approx_14[slice3],\n",
        "       simple_regret_approx_15[slice3],\n",
        "       simple_regret_approx_16[slice3],\n",
        "       simple_regret_approx_17[slice3],\n",
        "       simple_regret_approx_18[slice3],\n",
        "       simple_regret_approx_19[slice3],\n",
        "       simple_regret_approx_20[slice3]]\n",
        "\n",
        "exact3 = [simple_regret_exact_1[slice3],\n",
        "       simple_regret_exact_2[slice3],\n",
        "       simple_regret_exact_3[slice3],\n",
        "       simple_regret_exact_4[slice3],\n",
        "       simple_regret_exact_5[slice3],\n",
        "       simple_regret_exact_6[slice3],\n",
        "       simple_regret_exact_7[slice3],\n",
        "       simple_regret_exact_8[slice3],\n",
        "       simple_regret_exact_9[slice3],\n",
        "       simple_regret_exact_10[slice3],\n",
        "       simple_regret_exact_11[slice3],\n",
        "       simple_regret_exact_12[slice3],\n",
        "       simple_regret_exact_13[slice3],\n",
        "       simple_regret_exact_14[slice3],\n",
        "       simple_regret_exact_15[slice3],\n",
        "       simple_regret_exact_16[slice3],\n",
        "       simple_regret_exact_17[slice3],\n",
        "       simple_regret_exact_18[slice3],\n",
        "       simple_regret_exact_19[slice3],\n",
        "       simple_regret_exact_20[slice3]]\n",
        "\n",
        "approx3_results = pd.DataFrame(approx3).sort_values(by=[0], ascending=False)\n",
        "exact3_results = pd.DataFrame(exact3).sort_values(by=[0], ascending=False)\n",
        "\n",
        "### Best simple regret minimization IQR - approx:\n",
        "lower_approx3 = np.asarray(approx3_results[4:5][0])[0]\n",
        "median_approx3 = np.asarray(approx3_results[9:10][0])[0]\n",
        "upper_approx3 = np.asarray(approx3_results[14:15][0])[0]\n",
        "\n",
        "lower_exact3 = np.asarray(exact3_results[4:5][0])[0]\n",
        "median_exact3 = np.asarray(exact3_results[9:10][0])[0]\n",
        "upper_exact3 = np.asarray(exact3_results[14:15][0])[0]"
      ]
    },
    {
      "cell_type": "code",
      "execution_count": 81,
      "metadata": {
        "id": "plf83wxrQxf4"
      },
      "outputs": [],
      "source": [
        "# Iteration13 :\n",
        "\n",
        "slice13 = 12\n",
        "\n",
        "approx13 = [simple_regret_approx_1[slice13],\n",
        "       simple_regret_approx_2[slice13],\n",
        "       simple_regret_approx_3[slice13],\n",
        "       simple_regret_approx_4[slice13],\n",
        "       simple_regret_approx_5[slice13],\n",
        "       simple_regret_approx_6[slice13],\n",
        "       simple_regret_approx_7[slice13],\n",
        "       simple_regret_approx_8[slice13],\n",
        "       simple_regret_approx_9[slice13],\n",
        "       simple_regret_approx_10[slice13],\n",
        "       simple_regret_approx_11[slice13],\n",
        "       simple_regret_approx_12[slice13],\n",
        "       simple_regret_approx_13[slice13],\n",
        "       simple_regret_approx_14[slice13],\n",
        "       simple_regret_approx_15[slice13],\n",
        "       simple_regret_approx_16[slice13],\n",
        "       simple_regret_approx_17[slice13],\n",
        "       simple_regret_approx_18[slice13],\n",
        "       simple_regret_approx_19[slice13],\n",
        "       simple_regret_approx_20[slice13]]\n",
        "\n",
        "exact13 = [simple_regret_exact_1[slice13],\n",
        "       simple_regret_exact_2[slice13],\n",
        "       simple_regret_exact_3[slice13],\n",
        "       simple_regret_exact_4[slice13],\n",
        "       simple_regret_exact_5[slice13],\n",
        "       simple_regret_exact_6[slice13],\n",
        "       simple_regret_exact_7[slice13],\n",
        "       simple_regret_exact_8[slice13],\n",
        "       simple_regret_exact_9[slice13],\n",
        "       simple_regret_exact_10[slice13],\n",
        "       simple_regret_exact_11[slice13],\n",
        "       simple_regret_exact_12[slice13],\n",
        "       simple_regret_exact_13[slice13],\n",
        "       simple_regret_exact_14[slice13],\n",
        "       simple_regret_exact_15[slice13],\n",
        "       simple_regret_exact_16[slice13],\n",
        "       simple_regret_exact_17[slice13],\n",
        "       simple_regret_exact_18[slice13],\n",
        "       simple_regret_exact_19[slice13],\n",
        "       simple_regret_exact_20[slice13]]\n",
        "\n",
        "approx13_results = pd.DataFrame(approx13).sort_values(by=[0], ascending=False)\n",
        "exact13_results = pd.DataFrame(exact13).sort_values(by=[0], ascending=False)\n",
        "\n",
        "### Best simple regret minimization IQR - approx:\n",
        "lower_approx13 = np.asarray(approx13_results[4:5][0])[0]\n",
        "median_approx13 = np.asarray(approx13_results[9:10][0])[0]\n",
        "upper_approx13 = np.asarray(approx13_results[14:15][0])[0]\n",
        "\n",
        "lower_exact13 = np.asarray(exact13_results[4:5][0])[0]\n",
        "median_exact13 = np.asarray(exact13_results[9:10][0])[0]\n",
        "upper_exact13 = np.asarray(exact13_results[14:15][0])[0]"
      ]
    },
    {
      "cell_type": "code",
      "execution_count": 82,
      "metadata": {
        "id": "9A7mlVvJQxf5"
      },
      "outputs": [],
      "source": [
        "# Iteration4 :\n",
        "\n",
        "slice4 = 3\n",
        "\n",
        "approx4 = [simple_regret_approx_1[slice4],\n",
        "       simple_regret_approx_2[slice4],\n",
        "       simple_regret_approx_3[slice4],\n",
        "       simple_regret_approx_4[slice4],\n",
        "       simple_regret_approx_5[slice4],\n",
        "       simple_regret_approx_6[slice4],\n",
        "       simple_regret_approx_7[slice4],\n",
        "       simple_regret_approx_8[slice4],\n",
        "       simple_regret_approx_9[slice4],\n",
        "       simple_regret_approx_10[slice4],\n",
        "       simple_regret_approx_11[slice4],\n",
        "       simple_regret_approx_12[slice4],\n",
        "       simple_regret_approx_13[slice4],\n",
        "       simple_regret_approx_14[slice4],\n",
        "       simple_regret_approx_15[slice4],\n",
        "       simple_regret_approx_16[slice4],\n",
        "       simple_regret_approx_17[slice4],\n",
        "       simple_regret_approx_18[slice4],\n",
        "       simple_regret_approx_19[slice4],\n",
        "       simple_regret_approx_20[slice4]]\n",
        "\n",
        "exact4 = [simple_regret_exact_1[slice4],\n",
        "       simple_regret_exact_2[slice4],\n",
        "       simple_regret_exact_3[slice4],\n",
        "       simple_regret_exact_4[slice4],\n",
        "       simple_regret_exact_5[slice4],\n",
        "       simple_regret_exact_6[slice4],\n",
        "       simple_regret_exact_7[slice4],\n",
        "       simple_regret_exact_8[slice4],\n",
        "       simple_regret_exact_9[slice4],\n",
        "       simple_regret_exact_10[slice4],\n",
        "       simple_regret_exact_11[slice4],\n",
        "       simple_regret_exact_12[slice4],\n",
        "       simple_regret_exact_13[slice4],\n",
        "       simple_regret_exact_14[slice4],\n",
        "       simple_regret_exact_15[slice4],\n",
        "       simple_regret_exact_16[slice4],\n",
        "       simple_regret_exact_17[slice4],\n",
        "       simple_regret_exact_18[slice4],\n",
        "       simple_regret_exact_19[slice4],\n",
        "       simple_regret_exact_20[slice4]]\n",
        "\n",
        "approx4_results = pd.DataFrame(approx4).sort_values(by=[0], ascending=False)\n",
        "exact4_results = pd.DataFrame(exact4).sort_values(by=[0], ascending=False)\n",
        "\n",
        "### Best simple regret minimization IQR - approx:\n",
        "lower_approx4 = np.asarray(approx4_results[4:5][0])[0]\n",
        "median_approx4 = np.asarray(approx4_results[9:10][0])[0]\n",
        "upper_approx4 = np.asarray(approx4_results[14:15][0])[0]\n",
        "\n",
        "lower_exact4 = np.asarray(exact4_results[4:5][0])[0]\n",
        "median_exact4 = np.asarray(exact4_results[9:10][0])[0]\n",
        "upper_exact4 = np.asarray(exact4_results[14:15][0])[0]"
      ]
    },
    {
      "cell_type": "code",
      "execution_count": 83,
      "metadata": {
        "id": "ijq-rioYQxf5"
      },
      "outputs": [],
      "source": [
        "# Iteration14 :\n",
        "\n",
        "slice14 = 13\n",
        "\n",
        "approx14 = [simple_regret_approx_1[slice14],\n",
        "       simple_regret_approx_2[slice14],\n",
        "       simple_regret_approx_3[slice14],\n",
        "       simple_regret_approx_4[slice14],\n",
        "       simple_regret_approx_5[slice14],\n",
        "       simple_regret_approx_6[slice14],\n",
        "       simple_regret_approx_7[slice14],\n",
        "       simple_regret_approx_8[slice14],\n",
        "       simple_regret_approx_9[slice14],\n",
        "       simple_regret_approx_10[slice14],\n",
        "       simple_regret_approx_11[slice14],\n",
        "       simple_regret_approx_12[slice14],\n",
        "       simple_regret_approx_13[slice14],\n",
        "       simple_regret_approx_14[slice14],\n",
        "       simple_regret_approx_15[slice14],\n",
        "       simple_regret_approx_16[slice14],\n",
        "       simple_regret_approx_17[slice14],\n",
        "       simple_regret_approx_18[slice14],\n",
        "       simple_regret_approx_19[slice14],\n",
        "       simple_regret_approx_20[slice14]]\n",
        "\n",
        "exact14 = [simple_regret_exact_1[slice14],\n",
        "       simple_regret_exact_2[slice14],\n",
        "       simple_regret_exact_3[slice14],\n",
        "       simple_regret_exact_4[slice14],\n",
        "       simple_regret_exact_5[slice14],\n",
        "       simple_regret_exact_6[slice14],\n",
        "       simple_regret_exact_7[slice14],\n",
        "       simple_regret_exact_8[slice14],\n",
        "       simple_regret_exact_9[slice14],\n",
        "       simple_regret_exact_10[slice14],\n",
        "       simple_regret_exact_11[slice14],\n",
        "       simple_regret_exact_12[slice14],\n",
        "       simple_regret_exact_13[slice14],\n",
        "       simple_regret_exact_14[slice14],\n",
        "       simple_regret_exact_15[slice14],\n",
        "       simple_regret_exact_16[slice14],\n",
        "       simple_regret_exact_17[slice14],\n",
        "       simple_regret_exact_18[slice14],\n",
        "       simple_regret_exact_19[slice14],\n",
        "       simple_regret_exact_20[slice14]]\n",
        "\n",
        "approx14_results = pd.DataFrame(approx14).sort_values(by=[0], ascending=False)\n",
        "exact14_results = pd.DataFrame(exact14).sort_values(by=[0], ascending=False)\n",
        "\n",
        "### Best simple regret minimization IQR - approx:\n",
        "lower_approx14 = np.asarray(approx14_results[4:5][0])[0]\n",
        "median_approx14 = np.asarray(approx14_results[9:10][0])[0]\n",
        "upper_approx14 = np.asarray(approx14_results[14:15][0])[0]\n",
        "\n",
        "lower_exact14 = np.asarray(exact14_results[4:5][0])[0]\n",
        "median_exact14 = np.asarray(exact14_results[9:10][0])[0]\n",
        "upper_exact14 = np.asarray(exact14_results[14:15][0])[0]"
      ]
    },
    {
      "cell_type": "code",
      "execution_count": 84,
      "metadata": {
        "id": "XINlZjoTd-ZK"
      },
      "outputs": [],
      "source": [
        "# Iteration5 :\n",
        "\n",
        "slice5 = 4\n",
        "\n",
        "approx5 = [simple_regret_approx_1[slice5],\n",
        "       simple_regret_approx_2[slice5],\n",
        "       simple_regret_approx_3[slice5],\n",
        "       simple_regret_approx_4[slice5],\n",
        "       simple_regret_approx_5[slice5],\n",
        "       simple_regret_approx_6[slice5],\n",
        "       simple_regret_approx_7[slice5],\n",
        "       simple_regret_approx_8[slice5],\n",
        "       simple_regret_approx_9[slice5],\n",
        "       simple_regret_approx_10[slice5],\n",
        "       simple_regret_approx_11[slice5],\n",
        "       simple_regret_approx_12[slice5],\n",
        "       simple_regret_approx_13[slice5],\n",
        "       simple_regret_approx_14[slice5],\n",
        "       simple_regret_approx_15[slice5],\n",
        "       simple_regret_approx_16[slice5],\n",
        "       simple_regret_approx_17[slice5],\n",
        "       simple_regret_approx_18[slice5],\n",
        "       simple_regret_approx_19[slice5],\n",
        "       simple_regret_approx_20[slice5]]\n",
        "\n",
        "exact5 = [simple_regret_exact_1[slice5],\n",
        "       simple_regret_exact_2[slice5],\n",
        "       simple_regret_exact_3[slice5],\n",
        "       simple_regret_exact_4[slice5],\n",
        "       simple_regret_exact_5[slice5],\n",
        "       simple_regret_exact_6[slice5],\n",
        "       simple_regret_exact_7[slice5],\n",
        "       simple_regret_exact_8[slice5],\n",
        "       simple_regret_exact_9[slice5],\n",
        "       simple_regret_exact_10[slice5],\n",
        "       simple_regret_exact_11[slice5],\n",
        "       simple_regret_exact_12[slice5],\n",
        "       simple_regret_exact_13[slice5],\n",
        "       simple_regret_exact_14[slice5],\n",
        "       simple_regret_exact_15[slice5],\n",
        "       simple_regret_exact_16[slice5],\n",
        "       simple_regret_exact_17[slice5],\n",
        "       simple_regret_exact_18[slice5],\n",
        "       simple_regret_exact_19[slice5],\n",
        "       simple_regret_exact_20[slice5]]\n",
        "\n",
        "approx5_results = pd.DataFrame(approx5).sort_values(by=[0], ascending=False)\n",
        "exact5_results = pd.DataFrame(exact5).sort_values(by=[0], ascending=False)\n",
        "\n",
        "### Best simple regret minimization IQR - approx:\n",
        "lower_approx5 = np.asarray(approx5_results[4:5][0])[0]\n",
        "median_approx5 = np.asarray(approx5_results[9:10][0])[0]\n",
        "upper_approx5 = np.asarray(approx5_results[14:15][0])[0]\n",
        "\n",
        "lower_exact5 = np.asarray(exact5_results[4:5][0])[0]\n",
        "median_exact5 = np.asarray(exact5_results[9:10][0])[0]\n",
        "upper_exact5 = np.asarray(exact5_results[14:15][0])[0]"
      ]
    },
    {
      "cell_type": "code",
      "execution_count": 85,
      "metadata": {
        "id": "4aZ7C8sOQxf6"
      },
      "outputs": [],
      "source": [
        "# Iteration15 :\n",
        "\n",
        "slice15 = 14\n",
        "\n",
        "approx15 = [simple_regret_approx_1[slice15],\n",
        "       simple_regret_approx_2[slice15],\n",
        "       simple_regret_approx_3[slice15],\n",
        "       simple_regret_approx_4[slice15],\n",
        "       simple_regret_approx_5[slice15],\n",
        "       simple_regret_approx_6[slice15],\n",
        "       simple_regret_approx_7[slice15],\n",
        "       simple_regret_approx_8[slice15],\n",
        "       simple_regret_approx_9[slice15],\n",
        "       simple_regret_approx_10[slice15],\n",
        "       simple_regret_approx_11[slice15],\n",
        "       simple_regret_approx_12[slice15],\n",
        "       simple_regret_approx_13[slice15],\n",
        "       simple_regret_approx_14[slice15],\n",
        "       simple_regret_approx_15[slice15],\n",
        "       simple_regret_approx_16[slice15],\n",
        "       simple_regret_approx_17[slice15],\n",
        "       simple_regret_approx_18[slice15],\n",
        "       simple_regret_approx_19[slice15],\n",
        "       simple_regret_approx_20[slice15]]\n",
        "\n",
        "exact15 = [simple_regret_exact_1[slice15],\n",
        "       simple_regret_exact_2[slice15],\n",
        "       simple_regret_exact_3[slice15],\n",
        "       simple_regret_exact_4[slice15],\n",
        "       simple_regret_exact_5[slice15],\n",
        "       simple_regret_exact_6[slice15],\n",
        "       simple_regret_exact_7[slice15],\n",
        "       simple_regret_exact_8[slice15],\n",
        "       simple_regret_exact_9[slice15],\n",
        "       simple_regret_exact_10[slice15],\n",
        "       simple_regret_exact_11[slice15],\n",
        "       simple_regret_exact_12[slice15],\n",
        "       simple_regret_exact_13[slice15],\n",
        "       simple_regret_exact_14[slice15],\n",
        "       simple_regret_exact_15[slice15],\n",
        "       simple_regret_exact_16[slice15],\n",
        "       simple_regret_exact_17[slice15],\n",
        "       simple_regret_exact_18[slice15],\n",
        "       simple_regret_exact_19[slice15],\n",
        "       simple_regret_exact_20[slice15]]\n",
        "\n",
        "approx15_results = pd.DataFrame(approx15).sort_values(by=[0], ascending=False)\n",
        "exact15_results = pd.DataFrame(exact15).sort_values(by=[0], ascending=False)\n",
        "\n",
        "### Best simple regret minimization IQR - approx:\n",
        "lower_approx15 = np.asarray(approx15_results[4:5][0])[0]\n",
        "median_approx15 = np.asarray(approx15_results[9:10][0])[0]\n",
        "upper_approx15 = np.asarray(approx15_results[14:15][0])[0]\n",
        "\n",
        "lower_exact15 = np.asarray(exact15_results[4:5][0])[0]\n",
        "median_exact15 = np.asarray(exact15_results[9:10][0])[0]\n",
        "upper_exact15 = np.asarray(exact15_results[14:15][0])[0]"
      ]
    },
    {
      "cell_type": "code",
      "execution_count": 86,
      "metadata": {
        "id": "KJINKhv1Qxf6"
      },
      "outputs": [],
      "source": [
        "# Iteration6 :\n",
        "\n",
        "slice6 = 5\n",
        "\n",
        "approx6 = [simple_regret_approx_1[slice6],\n",
        "       simple_regret_approx_2[slice6],\n",
        "       simple_regret_approx_3[slice6],\n",
        "       simple_regret_approx_4[slice6],\n",
        "       simple_regret_approx_5[slice6],\n",
        "       simple_regret_approx_6[slice6],\n",
        "       simple_regret_approx_7[slice6],\n",
        "       simple_regret_approx_8[slice6],\n",
        "       simple_regret_approx_9[slice6],\n",
        "       simple_regret_approx_10[slice6],\n",
        "       simple_regret_approx_11[slice6],\n",
        "       simple_regret_approx_12[slice6],\n",
        "       simple_regret_approx_13[slice6],\n",
        "       simple_regret_approx_14[slice6],\n",
        "       simple_regret_approx_15[slice6],\n",
        "       simple_regret_approx_16[slice6],\n",
        "       simple_regret_approx_17[slice6],\n",
        "       simple_regret_approx_18[slice6],\n",
        "       simple_regret_approx_19[slice6],\n",
        "       simple_regret_approx_20[slice6]]\n",
        "\n",
        "exact6 = [simple_regret_exact_1[slice6],\n",
        "       simple_regret_exact_2[slice6],\n",
        "       simple_regret_exact_3[slice6],\n",
        "       simple_regret_exact_4[slice6],\n",
        "       simple_regret_exact_5[slice6],\n",
        "       simple_regret_exact_6[slice6],\n",
        "       simple_regret_exact_7[slice6],\n",
        "       simple_regret_exact_8[slice6],\n",
        "       simple_regret_exact_9[slice6],\n",
        "       simple_regret_exact_10[slice6],\n",
        "       simple_regret_exact_11[slice6],\n",
        "       simple_regret_exact_12[slice6],\n",
        "       simple_regret_exact_13[slice6],\n",
        "       simple_regret_exact_14[slice6],\n",
        "       simple_regret_exact_15[slice6],\n",
        "       simple_regret_exact_16[slice6],\n",
        "       simple_regret_exact_17[slice6],\n",
        "       simple_regret_exact_18[slice6],\n",
        "       simple_regret_exact_19[slice6],\n",
        "       simple_regret_exact_20[slice6]]\n",
        "\n",
        "approx6_results = pd.DataFrame(approx6).sort_values(by=[0], ascending=False)\n",
        "exact6_results = pd.DataFrame(exact6).sort_values(by=[0], ascending=False)\n",
        "\n",
        "### Best simple regret minimization IQR - approx:\n",
        "lower_approx6 = np.asarray(approx6_results[4:5][0])[0]\n",
        "median_approx6 = np.asarray(approx6_results[9:10][0])[0]\n",
        "upper_approx6 = np.asarray(approx6_results[14:15][0])[0]\n",
        "\n",
        "lower_exact6 = np.asarray(exact6_results[4:5][0])[0]\n",
        "median_exact6 = np.asarray(exact6_results[9:10][0])[0]\n",
        "upper_exact6 = np.asarray(exact6_results[14:15][0])[0]"
      ]
    },
    {
      "cell_type": "code",
      "execution_count": 87,
      "metadata": {
        "id": "nwC5N1FsQxf7"
      },
      "outputs": [],
      "source": [
        "# Iteration16 :\n",
        "\n",
        "slice16 = 15\n",
        "\n",
        "approx16 = [simple_regret_approx_1[slice16],\n",
        "       simple_regret_approx_2[slice16],\n",
        "       simple_regret_approx_3[slice16],\n",
        "       simple_regret_approx_4[slice16],\n",
        "       simple_regret_approx_5[slice16],\n",
        "       simple_regret_approx_6[slice16],\n",
        "       simple_regret_approx_7[slice16],\n",
        "       simple_regret_approx_8[slice16],\n",
        "       simple_regret_approx_9[slice16],\n",
        "       simple_regret_approx_10[slice16],\n",
        "       simple_regret_approx_11[slice16],\n",
        "       simple_regret_approx_12[slice16],\n",
        "       simple_regret_approx_13[slice16],\n",
        "       simple_regret_approx_14[slice16],\n",
        "       simple_regret_approx_15[slice16],\n",
        "       simple_regret_approx_16[slice16],\n",
        "       simple_regret_approx_17[slice16],\n",
        "       simple_regret_approx_18[slice16],\n",
        "       simple_regret_approx_19[slice16],\n",
        "       simple_regret_approx_20[slice16]]\n",
        "\n",
        "exact16 = [simple_regret_exact_1[slice16],\n",
        "       simple_regret_exact_2[slice16],\n",
        "       simple_regret_exact_3[slice16],\n",
        "       simple_regret_exact_4[slice16],\n",
        "       simple_regret_exact_5[slice16],\n",
        "       simple_regret_exact_6[slice16],\n",
        "       simple_regret_exact_7[slice16],\n",
        "       simple_regret_exact_8[slice16],\n",
        "       simple_regret_exact_9[slice16],\n",
        "       simple_regret_exact_10[slice16],\n",
        "       simple_regret_exact_11[slice16],\n",
        "       simple_regret_exact_12[slice16],\n",
        "       simple_regret_exact_13[slice16],\n",
        "       simple_regret_exact_14[slice16],\n",
        "       simple_regret_exact_15[slice16],\n",
        "       simple_regret_exact_16[slice16],\n",
        "       simple_regret_exact_17[slice16],\n",
        "       simple_regret_exact_18[slice16],\n",
        "       simple_regret_exact_19[slice16],\n",
        "       simple_regret_exact_20[slice16]]\n",
        "\n",
        "approx16_results = pd.DataFrame(approx16).sort_values(by=[0], ascending=False)\n",
        "exact16_results = pd.DataFrame(exact16).sort_values(by=[0], ascending=False)\n",
        "\n",
        "### Best simple regret minimization IQR - approx:\n",
        "lower_approx16 = np.asarray(approx16_results[4:5][0])[0]\n",
        "median_approx16 = np.asarray(approx16_results[9:10][0])[0]\n",
        "upper_approx16 = np.asarray(approx16_results[14:15][0])[0]\n",
        "\n",
        "lower_exact16 = np.asarray(exact16_results[4:5][0])[0]\n",
        "median_exact16 = np.asarray(exact16_results[9:10][0])[0]\n",
        "upper_exact16 = np.asarray(exact16_results[14:15][0])[0]"
      ]
    },
    {
      "cell_type": "code",
      "execution_count": 88,
      "metadata": {
        "id": "TrPV0AfnQxf7"
      },
      "outputs": [],
      "source": [
        "# Iteration7 :\n",
        "\n",
        "slice7 = 6\n",
        "\n",
        "approx7 = [simple_regret_approx_1[slice7],\n",
        "       simple_regret_approx_2[slice7],\n",
        "       simple_regret_approx_3[slice7],\n",
        "       simple_regret_approx_4[slice7],\n",
        "       simple_regret_approx_5[slice7],\n",
        "       simple_regret_approx_6[slice7],\n",
        "       simple_regret_approx_7[slice7],\n",
        "       simple_regret_approx_8[slice7],\n",
        "       simple_regret_approx_9[slice7],\n",
        "       simple_regret_approx_10[slice7],\n",
        "       simple_regret_approx_11[slice7],\n",
        "       simple_regret_approx_12[slice7],\n",
        "       simple_regret_approx_13[slice7],\n",
        "       simple_regret_approx_14[slice7],\n",
        "       simple_regret_approx_15[slice7],\n",
        "       simple_regret_approx_16[slice7],\n",
        "       simple_regret_approx_17[slice7],\n",
        "       simple_regret_approx_18[slice7],\n",
        "       simple_regret_approx_19[slice7],\n",
        "       simple_regret_approx_20[slice7]]\n",
        "\n",
        "exact7 = [simple_regret_exact_1[slice7],\n",
        "       simple_regret_exact_2[slice7],\n",
        "       simple_regret_exact_3[slice7],\n",
        "       simple_regret_exact_4[slice7],\n",
        "       simple_regret_exact_5[slice7],\n",
        "       simple_regret_exact_6[slice7],\n",
        "       simple_regret_exact_7[slice7],\n",
        "       simple_regret_exact_8[slice7],\n",
        "       simple_regret_exact_9[slice7],\n",
        "       simple_regret_exact_10[slice7],\n",
        "       simple_regret_exact_11[slice7],\n",
        "       simple_regret_exact_12[slice7],\n",
        "       simple_regret_exact_13[slice7],\n",
        "       simple_regret_exact_14[slice7],\n",
        "       simple_regret_exact_15[slice7],\n",
        "       simple_regret_exact_16[slice7],\n",
        "       simple_regret_exact_17[slice7],\n",
        "       simple_regret_exact_18[slice7],\n",
        "       simple_regret_exact_19[slice7],\n",
        "       simple_regret_exact_20[slice7]]\n",
        "\n",
        "approx7_results = pd.DataFrame(approx7).sort_values(by=[0], ascending=False)\n",
        "exact7_results = pd.DataFrame(exact7).sort_values(by=[0], ascending=False)\n",
        "\n",
        "### Best simple regret minimization IQR - approx:\n",
        "lower_approx7 = np.asarray(approx7_results[4:5][0])[0]\n",
        "median_approx7 = np.asarray(approx7_results[9:10][0])[0]\n",
        "upper_approx7 = np.asarray(approx7_results[14:15][0])[0]\n",
        "\n",
        "lower_exact7 = np.asarray(exact7_results[4:5][0])[0]\n",
        "median_exact7 = np.asarray(exact7_results[9:10][0])[0]\n",
        "upper_exact7 = np.asarray(exact7_results[14:15][0])[0]"
      ]
    },
    {
      "cell_type": "code",
      "execution_count": 89,
      "metadata": {
        "id": "Ub_-wpK4Qxf8"
      },
      "outputs": [],
      "source": [
        "# Iteration17 :\n",
        "\n",
        "slice17 = 16\n",
        "\n",
        "approx17 = [simple_regret_approx_1[slice17],\n",
        "       simple_regret_approx_2[slice17],\n",
        "       simple_regret_approx_3[slice17],\n",
        "       simple_regret_approx_4[slice17],\n",
        "       simple_regret_approx_5[slice17],\n",
        "       simple_regret_approx_6[slice17],\n",
        "       simple_regret_approx_7[slice17],\n",
        "       simple_regret_approx_8[slice17],\n",
        "       simple_regret_approx_9[slice17],\n",
        "       simple_regret_approx_10[slice17],\n",
        "       simple_regret_approx_11[slice17],\n",
        "       simple_regret_approx_12[slice17],\n",
        "       simple_regret_approx_13[slice17],\n",
        "       simple_regret_approx_14[slice17],\n",
        "       simple_regret_approx_15[slice17],\n",
        "       simple_regret_approx_16[slice17],\n",
        "       simple_regret_approx_17[slice17],\n",
        "       simple_regret_approx_18[slice17],\n",
        "       simple_regret_approx_19[slice17],\n",
        "       simple_regret_approx_20[slice17]]\n",
        "\n",
        "exact17 = [simple_regret_exact_1[slice17],\n",
        "       simple_regret_exact_2[slice17],\n",
        "       simple_regret_exact_3[slice17],\n",
        "       simple_regret_exact_4[slice17],\n",
        "       simple_regret_exact_5[slice17],\n",
        "       simple_regret_exact_6[slice17],\n",
        "       simple_regret_exact_7[slice17],\n",
        "       simple_regret_exact_8[slice17],\n",
        "       simple_regret_exact_9[slice17],\n",
        "       simple_regret_exact_10[slice17],\n",
        "       simple_regret_exact_11[slice17],\n",
        "       simple_regret_exact_12[slice17],\n",
        "       simple_regret_exact_13[slice17],\n",
        "       simple_regret_exact_14[slice17],\n",
        "       simple_regret_exact_15[slice17],\n",
        "       simple_regret_exact_16[slice17],\n",
        "       simple_regret_exact_17[slice17],\n",
        "       simple_regret_exact_18[slice17],\n",
        "       simple_regret_exact_19[slice17],\n",
        "       simple_regret_exact_20[slice17]]\n",
        "\n",
        "approx17_results = pd.DataFrame(approx17).sort_values(by=[0], ascending=False)\n",
        "exact17_results = pd.DataFrame(exact17).sort_values(by=[0], ascending=False)\n",
        "\n",
        "### Best simple regret minimization IQR - approx:\n",
        "lower_approx17 = np.asarray(approx17_results[4:5][0])[0]\n",
        "median_approx17 = np.asarray(approx17_results[9:10][0])[0]\n",
        "upper_approx17 = np.asarray(approx17_results[14:15][0])[0]\n",
        "\n",
        "lower_exact17 = np.asarray(exact17_results[4:5][0])[0]\n",
        "median_exact17 = np.asarray(exact17_results[9:10][0])[0]\n",
        "upper_exact17 = np.asarray(exact17_results[14:15][0])[0]"
      ]
    },
    {
      "cell_type": "code",
      "execution_count": 90,
      "metadata": {
        "id": "-6VLo37PQxf8"
      },
      "outputs": [],
      "source": [
        "# Iteration8 :\n",
        "\n",
        "slice8 = 7\n",
        "\n",
        "approx8 = [simple_regret_approx_1[slice8],\n",
        "       simple_regret_approx_2[slice8],\n",
        "       simple_regret_approx_3[slice8],\n",
        "       simple_regret_approx_4[slice8],\n",
        "       simple_regret_approx_5[slice8],\n",
        "       simple_regret_approx_6[slice8],\n",
        "       simple_regret_approx_7[slice8],\n",
        "       simple_regret_approx_8[slice8],\n",
        "       simple_regret_approx_9[slice8],\n",
        "       simple_regret_approx_10[slice8],\n",
        "       simple_regret_approx_11[slice8],\n",
        "       simple_regret_approx_12[slice8],\n",
        "       simple_regret_approx_13[slice8],\n",
        "       simple_regret_approx_14[slice8],\n",
        "       simple_regret_approx_15[slice8],\n",
        "       simple_regret_approx_16[slice8],\n",
        "       simple_regret_approx_17[slice8],\n",
        "       simple_regret_approx_18[slice8],\n",
        "       simple_regret_approx_19[slice8],\n",
        "       simple_regret_approx_20[slice8]]\n",
        "\n",
        "exact8 = [simple_regret_exact_1[slice8],\n",
        "       simple_regret_exact_2[slice8],\n",
        "       simple_regret_exact_3[slice8],\n",
        "       simple_regret_exact_4[slice8],\n",
        "       simple_regret_exact_5[slice8],\n",
        "       simple_regret_exact_6[slice8],\n",
        "       simple_regret_exact_7[slice8],\n",
        "       simple_regret_exact_8[slice8],\n",
        "       simple_regret_exact_9[slice8],\n",
        "       simple_regret_exact_10[slice8],\n",
        "       simple_regret_exact_11[slice8],\n",
        "       simple_regret_exact_12[slice8],\n",
        "       simple_regret_exact_13[slice8],\n",
        "       simple_regret_exact_14[slice8],\n",
        "       simple_regret_exact_15[slice8],\n",
        "       simple_regret_exact_16[slice8],\n",
        "       simple_regret_exact_17[slice8],\n",
        "       simple_regret_exact_18[slice8],\n",
        "       simple_regret_exact_19[slice8],\n",
        "       simple_regret_exact_20[slice8]]\n",
        "\n",
        "approx8_results = pd.DataFrame(approx8).sort_values(by=[0], ascending=False)\n",
        "exact8_results = pd.DataFrame(exact8).sort_values(by=[0], ascending=False)\n",
        "\n",
        "### Best simple regret minimization IQR - approx:\n",
        "lower_approx8 = np.asarray(approx8_results[4:5][0])[0]\n",
        "median_approx8 = np.asarray(approx8_results[9:10][0])[0]\n",
        "upper_approx8 = np.asarray(approx8_results[14:15][0])[0]\n",
        "\n",
        "lower_exact8 = np.asarray(exact8_results[4:5][0])[0]\n",
        "median_exact8 = np.asarray(exact8_results[9:10][0])[0]\n",
        "upper_exact8 = np.asarray(exact8_results[14:15][0])[0]"
      ]
    },
    {
      "cell_type": "code",
      "execution_count": 91,
      "metadata": {
        "id": "2Dp-9CC2Qxf9"
      },
      "outputs": [],
      "source": [
        "# Iteration18 :\n",
        "\n",
        "slice18 = 17\n",
        "\n",
        "approx18 = [simple_regret_approx_1[slice18],\n",
        "       simple_regret_approx_2[slice18],\n",
        "       simple_regret_approx_3[slice18],\n",
        "       simple_regret_approx_4[slice18],\n",
        "       simple_regret_approx_5[slice18],\n",
        "       simple_regret_approx_6[slice18],\n",
        "       simple_regret_approx_7[slice18],\n",
        "       simple_regret_approx_8[slice18],\n",
        "       simple_regret_approx_9[slice18],\n",
        "       simple_regret_approx_10[slice18],\n",
        "       simple_regret_approx_11[slice18],\n",
        "       simple_regret_approx_12[slice18],\n",
        "       simple_regret_approx_13[slice18],\n",
        "       simple_regret_approx_14[slice18],\n",
        "       simple_regret_approx_15[slice18],\n",
        "       simple_regret_approx_16[slice18],\n",
        "       simple_regret_approx_17[slice18],\n",
        "       simple_regret_approx_18[slice18],\n",
        "       simple_regret_approx_19[slice18],\n",
        "       simple_regret_approx_20[slice18]]\n",
        "\n",
        "exact18 = [simple_regret_exact_1[slice18],\n",
        "       simple_regret_exact_2[slice18],\n",
        "       simple_regret_exact_3[slice18],\n",
        "       simple_regret_exact_4[slice18],\n",
        "       simple_regret_exact_5[slice18],\n",
        "       simple_regret_exact_6[slice18],\n",
        "       simple_regret_exact_7[slice18],\n",
        "       simple_regret_exact_8[slice18],\n",
        "       simple_regret_exact_9[slice18],\n",
        "       simple_regret_exact_10[slice18],\n",
        "       simple_regret_exact_11[slice18],\n",
        "       simple_regret_exact_12[slice18],\n",
        "       simple_regret_exact_13[slice18],\n",
        "       simple_regret_exact_14[slice18],\n",
        "       simple_regret_exact_15[slice18],\n",
        "       simple_regret_exact_16[slice18],\n",
        "       simple_regret_exact_17[slice18],\n",
        "       simple_regret_exact_18[slice18],\n",
        "       simple_regret_exact_19[slice18],\n",
        "       simple_regret_exact_20[slice18]]\n",
        "\n",
        "approx18_results = pd.DataFrame(approx18).sort_values(by=[0], ascending=False)\n",
        "exact18_results = pd.DataFrame(exact18).sort_values(by=[0], ascending=False)\n",
        "\n",
        "### Best simple regret minimization IQR - approx:\n",
        "lower_approx18 = np.asarray(approx18_results[4:5][0])[0]\n",
        "median_approx18 = np.asarray(approx18_results[9:10][0])[0]\n",
        "upper_approx18 = np.asarray(approx18_results[14:15][0])[0]\n",
        "\n",
        "lower_exact18 = np.asarray(exact18_results[4:5][0])[0]\n",
        "median_exact18 = np.asarray(exact18_results[9:10][0])[0]\n",
        "upper_exact18 = np.asarray(exact18_results[14:15][0])[0]"
      ]
    },
    {
      "cell_type": "code",
      "execution_count": 92,
      "metadata": {
        "id": "SqiaOpB7Qxf9"
      },
      "outputs": [],
      "source": [
        "# Iteration9 :\n",
        "\n",
        "slice9 = 8\n",
        "\n",
        "approx9 = [simple_regret_approx_1[slice9],\n",
        "       simple_regret_approx_2[slice9],\n",
        "       simple_regret_approx_3[slice9],\n",
        "       simple_regret_approx_4[slice9],\n",
        "       simple_regret_approx_5[slice9],\n",
        "       simple_regret_approx_6[slice9],\n",
        "       simple_regret_approx_7[slice9],\n",
        "       simple_regret_approx_8[slice9],\n",
        "       simple_regret_approx_9[slice9],\n",
        "       simple_regret_approx_10[slice9],\n",
        "       simple_regret_approx_11[slice9],\n",
        "       simple_regret_approx_12[slice9],\n",
        "       simple_regret_approx_13[slice9],\n",
        "       simple_regret_approx_14[slice9],\n",
        "       simple_regret_approx_15[slice9],\n",
        "       simple_regret_approx_16[slice9],\n",
        "       simple_regret_approx_17[slice9],\n",
        "       simple_regret_approx_18[slice9],\n",
        "       simple_regret_approx_19[slice9],\n",
        "       simple_regret_approx_20[slice9]]\n",
        "\n",
        "exact9 = [simple_regret_exact_1[slice9],\n",
        "       simple_regret_exact_2[slice9],\n",
        "       simple_regret_exact_3[slice9],\n",
        "       simple_regret_exact_4[slice9],\n",
        "       simple_regret_exact_5[slice9],\n",
        "       simple_regret_exact_6[slice9],\n",
        "       simple_regret_exact_7[slice9],\n",
        "       simple_regret_exact_8[slice9],\n",
        "       simple_regret_exact_9[slice9],\n",
        "       simple_regret_exact_10[slice9],\n",
        "       simple_regret_exact_11[slice9],\n",
        "       simple_regret_exact_12[slice9],\n",
        "       simple_regret_exact_13[slice9],\n",
        "       simple_regret_exact_14[slice9],\n",
        "       simple_regret_exact_15[slice9],\n",
        "       simple_regret_exact_16[slice9],\n",
        "       simple_regret_exact_17[slice9],\n",
        "       simple_regret_exact_18[slice9],\n",
        "       simple_regret_exact_19[slice9],\n",
        "       simple_regret_exact_20[slice9]]\n",
        "\n",
        "approx9_results = pd.DataFrame(approx9).sort_values(by=[0], ascending=False)\n",
        "exact9_results = pd.DataFrame(exact9).sort_values(by=[0], ascending=False)\n",
        "\n",
        "### Best simple regret minimization IQR - approx:\n",
        "lower_approx9 = np.asarray(approx9_results[4:5][0])[0]\n",
        "median_approx9 = np.asarray(approx9_results[9:10][0])[0]\n",
        "upper_approx9 = np.asarray(approx9_results[14:15][0])[0]\n",
        "\n",
        "lower_exact9 = np.asarray(exact9_results[4:5][0])[0]\n",
        "median_exact9 = np.asarray(exact9_results[9:10][0])[0]\n",
        "upper_exact9 = np.asarray(exact9_results[14:15][0])[0]"
      ]
    },
    {
      "cell_type": "code",
      "execution_count": 93,
      "metadata": {
        "id": "OQkCCOsPQxf9"
      },
      "outputs": [],
      "source": [
        "# Iteration19 :\n",
        "\n",
        "slice19 = 18\n",
        "\n",
        "approx19 = [simple_regret_approx_1[slice19],\n",
        "       simple_regret_approx_2[slice19],\n",
        "       simple_regret_approx_3[slice19],\n",
        "       simple_regret_approx_4[slice19],\n",
        "       simple_regret_approx_5[slice19],\n",
        "       simple_regret_approx_6[slice19],\n",
        "       simple_regret_approx_7[slice19],\n",
        "       simple_regret_approx_8[slice19],\n",
        "       simple_regret_approx_9[slice19],\n",
        "       simple_regret_approx_10[slice19],\n",
        "       simple_regret_approx_11[slice19],\n",
        "       simple_regret_approx_12[slice19],\n",
        "       simple_regret_approx_13[slice19],\n",
        "       simple_regret_approx_14[slice19],\n",
        "       simple_regret_approx_15[slice19],\n",
        "       simple_regret_approx_16[slice19],\n",
        "       simple_regret_approx_17[slice19],\n",
        "       simple_regret_approx_18[slice19],\n",
        "       simple_regret_approx_19[slice19],\n",
        "       simple_regret_approx_20[slice19]]\n",
        "\n",
        "exact19 = [simple_regret_exact_1[slice19],\n",
        "       simple_regret_exact_2[slice19],\n",
        "       simple_regret_exact_3[slice19],\n",
        "       simple_regret_exact_4[slice19],\n",
        "       simple_regret_exact_5[slice19],\n",
        "       simple_regret_exact_6[slice19],\n",
        "       simple_regret_exact_7[slice19],\n",
        "       simple_regret_exact_8[slice19],\n",
        "       simple_regret_exact_9[slice19],\n",
        "       simple_regret_exact_10[slice19],\n",
        "       simple_regret_exact_11[slice19],\n",
        "       simple_regret_exact_12[slice19],\n",
        "       simple_regret_exact_13[slice19],\n",
        "       simple_regret_exact_14[slice19],\n",
        "       simple_regret_exact_15[slice19],\n",
        "       simple_regret_exact_16[slice19],\n",
        "       simple_regret_exact_17[slice19],\n",
        "       simple_regret_exact_18[slice19],\n",
        "       simple_regret_exact_19[slice19],\n",
        "       simple_regret_exact_20[slice19]]\n",
        "\n",
        "approx19_results = pd.DataFrame(approx19).sort_values(by=[0], ascending=False)\n",
        "exact19_results = pd.DataFrame(exact19).sort_values(by=[0], ascending=False)\n",
        "\n",
        "### Best simple regret minimization IQR - approx:\n",
        "lower_approx19 = np.asarray(approx19_results[4:5][0])[0]\n",
        "median_approx19 = np.asarray(approx19_results[9:10][0])[0]\n",
        "upper_approx19 = np.asarray(approx19_results[14:15][0])[0]\n",
        "\n",
        "lower_exact19 = np.asarray(exact19_results[4:5][0])[0]\n",
        "median_exact19 = np.asarray(exact19_results[9:10][0])[0]\n",
        "upper_exact19 = np.asarray(exact19_results[14:15][0])[0]"
      ]
    },
    {
      "cell_type": "code",
      "execution_count": 94,
      "metadata": {
        "id": "h4vtWahcQxf-"
      },
      "outputs": [],
      "source": [
        "# Iteration10 :\n",
        "\n",
        "slice10 = 9\n",
        "\n",
        "approx10 = [simple_regret_approx_1[slice10],\n",
        "       simple_regret_approx_2[slice10],\n",
        "       simple_regret_approx_3[slice10],\n",
        "       simple_regret_approx_4[slice10],\n",
        "       simple_regret_approx_5[slice10],\n",
        "       simple_regret_approx_6[slice10],\n",
        "       simple_regret_approx_7[slice10],\n",
        "       simple_regret_approx_8[slice10],\n",
        "       simple_regret_approx_9[slice10],\n",
        "       simple_regret_approx_10[slice10],\n",
        "       simple_regret_approx_11[slice10],\n",
        "       simple_regret_approx_12[slice10],\n",
        "       simple_regret_approx_13[slice10],\n",
        "       simple_regret_approx_14[slice10],\n",
        "       simple_regret_approx_15[slice10],\n",
        "       simple_regret_approx_16[slice10],\n",
        "       simple_regret_approx_17[slice10],\n",
        "       simple_regret_approx_18[slice10],\n",
        "       simple_regret_approx_19[slice10],\n",
        "       simple_regret_approx_20[slice10]]\n",
        "\n",
        "exact10 = [simple_regret_exact_1[slice10],\n",
        "       simple_regret_exact_2[slice10],\n",
        "       simple_regret_exact_3[slice10],\n",
        "       simple_regret_exact_4[slice10],\n",
        "       simple_regret_exact_5[slice10],\n",
        "       simple_regret_exact_6[slice10],\n",
        "       simple_regret_exact_7[slice10],\n",
        "       simple_regret_exact_8[slice10],\n",
        "       simple_regret_exact_9[slice10],\n",
        "       simple_regret_exact_10[slice10],\n",
        "       simple_regret_exact_11[slice10],\n",
        "       simple_regret_exact_12[slice10],\n",
        "       simple_regret_exact_13[slice10],\n",
        "       simple_regret_exact_14[slice10],\n",
        "       simple_regret_exact_15[slice10],\n",
        "       simple_regret_exact_16[slice10],\n",
        "       simple_regret_exact_17[slice10],\n",
        "       simple_regret_exact_18[slice10],\n",
        "       simple_regret_exact_19[slice10],\n",
        "       simple_regret_exact_20[slice10]]\n",
        "\n",
        "approx10_results = pd.DataFrame(approx10).sort_values(by=[0], ascending=False)\n",
        "exact10_results = pd.DataFrame(exact10).sort_values(by=[0], ascending=False)\n",
        "\n",
        "### Best simple regret minimization IQR - approx:\n",
        "lower_approx10 = np.asarray(approx10_results[4:5][0])[0]\n",
        "median_approx10 = np.asarray(approx10_results[9:10][0])[0]\n",
        "upper_approx10 = np.asarray(approx10_results[14:15][0])[0]\n",
        "\n",
        "lower_exact10 = np.asarray(exact10_results[4:5][0])[0]\n",
        "median_exact10 = np.asarray(exact10_results[9:10][0])[0]\n",
        "upper_exact10 = np.asarray(exact10_results[14:15][0])[0]"
      ]
    },
    {
      "cell_type": "code",
      "execution_count": 95,
      "metadata": {
        "id": "Rsf240pWQxf-"
      },
      "outputs": [],
      "source": [
        "# Iteration20 :\n",
        "\n",
        "slice20 = 19\n",
        "\n",
        "approx20 = [simple_regret_approx_1[slice20],\n",
        "       simple_regret_approx_2[slice20],\n",
        "       simple_regret_approx_3[slice20],\n",
        "       simple_regret_approx_4[slice20],\n",
        "       simple_regret_approx_5[slice20],\n",
        "       simple_regret_approx_6[slice20],\n",
        "       simple_regret_approx_7[slice20],\n",
        "       simple_regret_approx_8[slice20],\n",
        "       simple_regret_approx_9[slice20],\n",
        "       simple_regret_approx_10[slice20],\n",
        "       simple_regret_approx_11[slice20],\n",
        "       simple_regret_approx_12[slice20],\n",
        "       simple_regret_approx_13[slice20],\n",
        "       simple_regret_approx_14[slice20],\n",
        "       simple_regret_approx_15[slice20],\n",
        "       simple_regret_approx_16[slice20],\n",
        "       simple_regret_approx_17[slice20],\n",
        "       simple_regret_approx_18[slice20],\n",
        "       simple_regret_approx_19[slice20],\n",
        "       simple_regret_approx_20[slice20]]\n",
        "\n",
        "exact20 = [simple_regret_exact_1[slice20],\n",
        "       simple_regret_exact_2[slice20],\n",
        "       simple_regret_exact_3[slice20],\n",
        "       simple_regret_exact_4[slice20],\n",
        "       simple_regret_exact_5[slice20],\n",
        "       simple_regret_exact_6[slice20],\n",
        "       simple_regret_exact_7[slice20],\n",
        "       simple_regret_exact_8[slice20],\n",
        "       simple_regret_exact_9[slice20],\n",
        "       simple_regret_exact_10[slice20],\n",
        "       simple_regret_exact_11[slice20],\n",
        "       simple_regret_exact_12[slice20],\n",
        "       simple_regret_exact_13[slice20],\n",
        "       simple_regret_exact_14[slice20],\n",
        "       simple_regret_exact_15[slice20],\n",
        "       simple_regret_exact_16[slice20],\n",
        "       simple_regret_exact_17[slice20],\n",
        "       simple_regret_exact_18[slice20],\n",
        "       simple_regret_exact_19[slice20],\n",
        "       simple_regret_exact_20[slice20]]\n",
        "\n",
        "approx20_results = pd.DataFrame(approx20).sort_values(by=[0], ascending=False)\n",
        "exact20_results = pd.DataFrame(exact20).sort_values(by=[0], ascending=False)\n",
        "\n",
        "### Best simple regret minimization IQR - approx:\n",
        "lower_approx20 = np.asarray(approx20_results[4:5][0])[0]\n",
        "median_approx20 = np.asarray(approx20_results[9:10][0])[0]\n",
        "upper_approx20 = np.asarray(approx20_results[14:15][0])[0]\n",
        "\n",
        "lower_exact20 = np.asarray(exact20_results[4:5][0])[0]\n",
        "median_exact20 = np.asarray(exact20_results[9:10][0])[0]\n",
        "upper_exact20 = np.asarray(exact20_results[14:15][0])[0]"
      ]
    },
    {
      "cell_type": "code",
      "execution_count": 96,
      "metadata": {
        "id": "gn36RejbQxf_"
      },
      "outputs": [],
      "source": [
        "### Summarize arrays: 'Loser'\n",
        "\n",
        "lower_approx = [lower_approx1,\n",
        "            lower_approx2,\n",
        "            lower_approx3,\n",
        "            lower_approx4,\n",
        "            lower_approx5,\n",
        "            lower_approx6,\n",
        "            lower_approx7,\n",
        "            lower_approx8,\n",
        "            lower_approx9,\n",
        "            lower_approx10,\n",
        "            lower_approx11,\n",
        "            lower_approx12,\n",
        "            lower_approx13,\n",
        "            lower_approx14,\n",
        "            lower_approx15,\n",
        "            lower_approx16,\n",
        "            lower_approx17,\n",
        "            lower_approx18,\n",
        "            lower_approx19,\n",
        "            lower_approx20,\n",
        "            lower_approx21]\n",
        "\n",
        "median_approx = [median_approx1,\n",
        "            median_approx2,\n",
        "            median_approx3,\n",
        "            median_approx4,\n",
        "            median_approx5,\n",
        "            median_approx6,\n",
        "            median_approx7,\n",
        "            median_approx8,\n",
        "            median_approx9,\n",
        "            median_approx10,\n",
        "            median_approx11,\n",
        "            median_approx12,\n",
        "            median_approx13,\n",
        "            median_approx14,\n",
        "            median_approx15,\n",
        "            median_approx16,\n",
        "            median_approx17,\n",
        "            median_approx18,\n",
        "            median_approx19,\n",
        "            median_approx20,\n",
        "            median_approx21]\n",
        "\n",
        "upper_approx = [upper_approx1,\n",
        "            upper_approx2,\n",
        "            upper_approx3,\n",
        "            upper_approx4,\n",
        "            upper_approx5,\n",
        "            upper_approx6,\n",
        "            upper_approx7,\n",
        "            upper_approx8,\n",
        "            upper_approx9,\n",
        "            upper_approx10,\n",
        "            upper_approx11,\n",
        "            upper_approx12,\n",
        "            upper_approx13,\n",
        "            upper_approx14,\n",
        "            upper_approx15,\n",
        "            upper_approx16,\n",
        "            upper_approx17,\n",
        "            upper_approx18,\n",
        "            upper_approx19,\n",
        "            upper_approx20,\n",
        "            upper_approx21]"
      ]
    },
    {
      "cell_type": "code",
      "execution_count": 97,
      "metadata": {
        "id": "wxtGTOYfQxf_"
      },
      "outputs": [],
      "source": [
        "### Summarize arrays: 'exact'\n",
        "\n",
        "lower_exact = [lower_exact1,\n",
        "            lower_exact2,\n",
        "            lower_exact3,\n",
        "            lower_exact4,\n",
        "            lower_exact5,\n",
        "            lower_exact6,\n",
        "            lower_exact7,\n",
        "            lower_exact8,\n",
        "            lower_exact9,\n",
        "            lower_exact10,\n",
        "            lower_exact11,\n",
        "            lower_exact12,\n",
        "            lower_exact13,\n",
        "            lower_exact14,\n",
        "            lower_exact15,\n",
        "            lower_exact16,\n",
        "            lower_exact17,\n",
        "            lower_exact18,\n",
        "            lower_exact19,\n",
        "            lower_exact20,\n",
        "            lower_exact21]\n",
        "\n",
        "median_exact = [median_exact1,\n",
        "            median_exact2,\n",
        "            median_exact3,\n",
        "            median_exact4,\n",
        "            median_exact5,\n",
        "            median_exact6,\n",
        "            median_exact7,\n",
        "            median_exact8,\n",
        "            median_exact9,\n",
        "            median_exact10,\n",
        "            median_exact11,\n",
        "            median_exact12,\n",
        "            median_exact13,\n",
        "            median_exact14,\n",
        "            median_exact15,\n",
        "            median_exact16,\n",
        "            median_exact17,\n",
        "            median_exact18,\n",
        "            median_exact19,\n",
        "            median_exact20,\n",
        "            median_exact21]\n",
        "\n",
        "upper_exact = [upper_exact1,\n",
        "            upper_exact2,\n",
        "            upper_exact3,\n",
        "            upper_exact4,\n",
        "            upper_exact5,\n",
        "            upper_exact6,\n",
        "            upper_exact7,\n",
        "            upper_exact8,\n",
        "            upper_exact9,\n",
        "            upper_exact10,\n",
        "            upper_exact11,\n",
        "            upper_exact12,\n",
        "            upper_exact13,\n",
        "            upper_exact14,\n",
        "            upper_exact15,\n",
        "            upper_exact16,\n",
        "            upper_exact17,\n",
        "            upper_exact18,\n",
        "            upper_exact19,\n",
        "            upper_exact20,\n",
        "            upper_exact21]"
      ]
    },
    {
      "cell_type": "code",
      "execution_count": 98,
      "metadata": {
        "id": "2MONq-BXQxgA",
        "colab": {
          "base_uri": "https://localhost:8080/",
          "height": 299
        },
        "outputId": "90e21e72-753e-4430-d5bc-19505651ccad"
      },
      "outputs": [
        {
          "output_type": "display_data",
          "data": {
            "text/plain": [
              "<Figure size 432x288 with 1 Axes>"
            ],
            "image/png": "[encoded data removed]"
          },
          "metadata": {
            "needs_background": "light"
          }
        }
      ],
      "source": [
        "### Visualise!\n",
        "\n",
        "title = func\n",
        "plt.figure()\n",
        "\n",
        "plt.plot(median_approx, color = 'Purple')\n",
        "plt.plot(median_exact, color = 'Orange')\n",
        "\n",
        "xstar = np.arange(0, iters+1, step=1)\n",
        "plt.fill_between(xstar, lower_approx, upper_approx, facecolor = 'Purple', alpha=0.4, label='GP CBM Optimization: Approx GP CBM gradients')\n",
        "plt.fill_between(xstar, lower_exact, upper_exact, facecolor = 'Orange', alpha=0.4, label='GP CBM Optimization: Exact GP dCBM gradients')\n",
        "\n",
        "plt.title(title, weight = 'bold')\n",
        "plt.xlabel('(Post-initialization) iteration $\\it{k}$', weight = 'bold')\n",
        "plt.ylabel('log(Regret)', weight = 'bold') \n",
        "plt.legend(loc=0) # add plot legend\n",
        "\n",
        "### Make the x-ticks integers, not floats:\n",
        "count = len(xstar)\n",
        "plt.xticks(np.arange(count), np.arange(0, count))\n",
        "plt.show() #visualize!"
      ]
    },
    {
      "cell_type": "code",
      "execution_count": 99,
      "metadata": {
        "id": "l5dkR2Id2oiu",
        "colab": {
          "base_uri": "https://localhost:8080/"
        },
        "outputId": "3fe8b937-eb39-4912-f13d-e1cccacf710b"
      },
      "outputs": [
        {
          "output_type": "execute_result",
          "data": {
            "text/plain": [
              "(817.5039193630219, 777.8232190608978)"
            ]
          },
          "metadata": {},
          "execution_count": 99
        }
      ],
      "source": [
        "time_approx, time_exact\n"
      ]
    },
    {
      "cell_type": "code",
      "source": [
        "### acqFunc attribute x, stddev: run number = 1\n",
        "\n",
        "acqFuncApprox_exact_1 = acqFuncApprox(exact_1.history)\n",
        "acqFuncExact_exact_1 = acqFuncExact(exact_1.history)\n",
        "\n",
        "e1 = np.mean(acqFuncExact_exact_1)\n",
        "a1 = np.mean(acqFuncApprox_exact_1)\n",
        "\n",
        "e1, a1\n"
      ],
      "metadata": {
        "colab": {
          "base_uri": "https://localhost:8080/"
        },
        "id": "uwxv4dmfGsLr",
        "outputId": "b466f6a0-dffa-4efe-915c-99f46bacaae3"
      },
      "execution_count": 100,
      "outputs": [
        {
          "output_type": "execute_result",
          "data": {
            "text/plain": [
              "(3.0065769248019776, 3.0063861841445187)"
            ]
          },
          "metadata": {},
          "execution_count": 100
        }
      ]
    },
    {
      "cell_type": "code",
      "source": [
        "### acqFunc attribute x, stddev: run number = 2\n",
        "\n",
        "acqFuncApprox_exact_2 = acqFuncApprox(exact_2.history)\n",
        "acqFuncExact_exact_2 = acqFuncExact(exact_2.history)\n",
        "\n",
        "e2 = np.mean(acqFuncExact_exact_2)\n",
        "a2 = np.mean(acqFuncApprox_exact_2)\n",
        "\n",
        "e2, a2\n"
      ],
      "metadata": {
        "colab": {
          "base_uri": "https://localhost:8080/"
        },
        "id": "0YSV00_pGsXe",
        "outputId": "e72c79c1-9fd1-4462-c2fa-066789f50d56"
      },
      "execution_count": 101,
      "outputs": [
        {
          "output_type": "execute_result",
          "data": {
            "text/plain": [
              "(2.9149352577103302, 2.932304123991484)"
            ]
          },
          "metadata": {},
          "execution_count": 101
        }
      ]
    },
    {
      "cell_type": "code",
      "source": [
        "### acqFunc attribute x, stddev: run number = 3\n",
        "\n",
        "acqFuncApprox_exact_3 = acqFuncApprox(exact_3.history)\n",
        "acqFuncExact_exact_3 = acqFuncExact(exact_3.history)\n",
        "\n",
        "e3 = np.mean(acqFuncExact_exact_3)\n",
        "a3 = np.mean(acqFuncApprox_exact_3)\n",
        "\n",
        "e3, a3\n"
      ],
      "metadata": {
        "colab": {
          "base_uri": "https://localhost:8080/"
        },
        "id": "HHVmsd2UGsjT",
        "outputId": "b4f11bf5-c7ce-40e5-bdf3-65331ac34100"
      },
      "execution_count": 102,
      "outputs": [
        {
          "output_type": "execute_result",
          "data": {
            "text/plain": [
              "(2.9200506614064135, 2.9261338030107553)"
            ]
          },
          "metadata": {},
          "execution_count": 102
        }
      ]
    },
    {
      "cell_type": "code",
      "source": [
        "### acqFunc attribute x, stddev: run number = 4\n",
        "\n",
        "acqFuncApprox_exact_4 = acqFuncApprox(exact_4.history)\n",
        "acqFuncExact_exact_4 = acqFuncExact(exact_4.history)\n",
        "\n",
        "e4 = np.mean(acqFuncExact_exact_4)\n",
        "a4 = np.mean(acqFuncApprox_exact_4)\n",
        "\n",
        "e4, a4\n"
      ],
      "metadata": {
        "colab": {
          "base_uri": "https://localhost:8080/"
        },
        "id": "r7O19S2eGsu7",
        "outputId": "03ff3445-def9-443b-a21e-6c7224f7de29"
      },
      "execution_count": 103,
      "outputs": [
        {
          "output_type": "execute_result",
          "data": {
            "text/plain": [
              "(2.8750750134496714, 3.040677381191336)"
            ]
          },
          "metadata": {},
          "execution_count": 103
        }
      ]
    },
    {
      "cell_type": "code",
      "source": [
        "### acqFunc attribute x, stddev: run number = 5\n",
        "\n",
        "acqFuncApprox_exact_5 = acqFuncApprox(exact_5.history)\n",
        "acqFuncExact_exact_5 = acqFuncExact(exact_5.history)\n",
        "\n",
        "e5 = np.mean(acqFuncExact_exact_5)\n",
        "a5 = np.mean(acqFuncApprox_exact_5)\n",
        "\n",
        "e5, a5\n"
      ],
      "metadata": {
        "colab": {
          "base_uri": "https://localhost:8080/"
        },
        "id": "sdb9o6NuGs5m",
        "outputId": "66e4be7a-b9ee-42a6-f732-7245ef2b4012"
      },
      "execution_count": 104,
      "outputs": [
        {
          "output_type": "execute_result",
          "data": {
            "text/plain": [
              "(2.798563783977669, 2.851355771108617)"
            ]
          },
          "metadata": {},
          "execution_count": 104
        }
      ]
    },
    {
      "cell_type": "code",
      "source": [
        "### acqFunc attribute x, stddev: run number = 6\n",
        "\n",
        "acqFuncApprox_exact_6 = acqFuncApprox(exact_6.history)\n",
        "acqFuncExact_exact_6 = acqFuncExact(exact_6.history)\n",
        "\n",
        "e6 = np.mean(acqFuncExact_exact_6)\n",
        "a6 = np.mean(acqFuncApprox_exact_6)\n",
        "\n",
        "e6, a6\n"
      ],
      "metadata": {
        "colab": {
          "base_uri": "https://localhost:8080/"
        },
        "id": "COQl7LZ8GtE0",
        "outputId": "2cf56ecc-6b4d-4378-a0e0-f566072138b3"
      },
      "execution_count": 105,
      "outputs": [
        {
          "output_type": "execute_result",
          "data": {
            "text/plain": [
              "(2.9356327492521874, 3.0757931012659077)"
            ]
          },
          "metadata": {},
          "execution_count": 105
        }
      ]
    },
    {
      "cell_type": "code",
      "source": [
        "### acqFunc attribute x, stddev: run number = 7\n",
        "\n",
        "acqFuncApprox_exact_7 = acqFuncApprox(exact_7.history)\n",
        "acqFuncExact_exact_7 = acqFuncExact(exact_7.history)\n",
        "\n",
        "e7 = np.mean(acqFuncExact_exact_7)\n",
        "a7 = np.mean(acqFuncApprox_exact_7)\n",
        "\n",
        "e7, a7\n"
      ],
      "metadata": {
        "colab": {
          "base_uri": "https://localhost:8080/"
        },
        "id": "2gy9EtTzGtP7",
        "outputId": "a1a749b5-4a6d-42d4-d900-6f0d30001cba"
      },
      "execution_count": 106,
      "outputs": [
        {
          "output_type": "execute_result",
          "data": {
            "text/plain": [
              "(2.9337782330118585, 3.0576622776359828)"
            ]
          },
          "metadata": {},
          "execution_count": 106
        }
      ]
    },
    {
      "cell_type": "code",
      "source": [
        "### acqFunc attribute x, stddev: run number = 8\n",
        "\n",
        "acqFuncApprox_exact_8 = acqFuncApprox(exact_8.history)\n",
        "acqFuncExact_exact_8 = acqFuncExact(exact_8.history)\n",
        "\n",
        "e8 = np.mean(acqFuncExact_exact_8)\n",
        "a8 = np.mean(acqFuncApprox_exact_8)\n",
        "\n",
        "e8, a8\n"
      ],
      "metadata": {
        "colab": {
          "base_uri": "https://localhost:8080/"
        },
        "id": "S7mn0qoMGtbM",
        "outputId": "e7bed2bd-7fce-404d-8a28-114b0b021f86"
      },
      "execution_count": 107,
      "outputs": [
        {
          "output_type": "execute_result",
          "data": {
            "text/plain": [
              "(3.0006847881113883, 2.927671675600131)"
            ]
          },
          "metadata": {},
          "execution_count": 107
        }
      ]
    },
    {
      "cell_type": "code",
      "source": [
        "### acqFunc attribute x, stddev: run number = 9\n",
        "\n",
        "acqFuncApprox_exact_9 = acqFuncApprox(exact_9.history)\n",
        "acqFuncExact_exact_9 = acqFuncExact(exact_9.history)\n",
        "\n",
        "e9 = np.mean(acqFuncExact_exact_9)\n",
        "a9 = np.mean(acqFuncApprox_exact_9)\n",
        "\n",
        "e9, a9\n"
      ],
      "metadata": {
        "colab": {
          "base_uri": "https://localhost:8080/"
        },
        "id": "BhljmkNxGtms",
        "outputId": "bd82aa4c-9988-4706-8fec-0abe222d8f69"
      },
      "execution_count": 108,
      "outputs": [
        {
          "output_type": "execute_result",
          "data": {
            "text/plain": [
              "(2.8135941505978597, 3.124698677060466)"
            ]
          },
          "metadata": {},
          "execution_count": 108
        }
      ]
    },
    {
      "cell_type": "code",
      "source": [
        "### acqFunc attribute x, stddev: run number = 10\n",
        "\n",
        "acqFuncApprox_exact_10 = acqFuncApprox(exact_10.history)\n",
        "acqFuncExact_exact_10 = acqFuncExact(exact_10.history)\n",
        "\n",
        "e10 = np.mean(acqFuncExact_exact_10)\n",
        "a10 = np.mean(acqFuncApprox_exact_10)\n",
        "\n",
        "e10, a10\n"
      ],
      "metadata": {
        "colab": {
          "base_uri": "https://localhost:8080/"
        },
        "id": "W5GZo6k3Gtx8",
        "outputId": "2c0bb4cd-5241-4268-c242-9160a5dac430"
      },
      "execution_count": 109,
      "outputs": [
        {
          "output_type": "execute_result",
          "data": {
            "text/plain": [
              "(3.121916846099641, 3.2736140148356556)"
            ]
          },
          "metadata": {},
          "execution_count": 109
        }
      ]
    },
    {
      "cell_type": "code",
      "source": [
        "### acqFunc attribute x, stddev: run number = 11\n",
        "\n",
        "acqFuncApprox_exact_11 = acqFuncApprox(exact_11.history)\n",
        "acqFuncExact_exact_11 = acqFuncExact(exact_11.history)\n",
        "\n",
        "e11 = np.mean(acqFuncExact_exact_11)\n",
        "a11 = np.mean(acqFuncApprox_exact_11)\n",
        "\n",
        "e11, a11\n"
      ],
      "metadata": {
        "colab": {
          "base_uri": "https://localhost:8080/"
        },
        "id": "isKNhDk5Gt9D",
        "outputId": "235cfe20-9774-4635-c69d-383590ee12c3"
      },
      "execution_count": 110,
      "outputs": [
        {
          "output_type": "execute_result",
          "data": {
            "text/plain": [
              "(3.0304844917898413, 3.143054656765261)"
            ]
          },
          "metadata": {},
          "execution_count": 110
        }
      ]
    },
    {
      "cell_type": "code",
      "source": [
        "### acqFunc attribute x, stddev: run number = 12\n",
        "\n",
        "acqFuncApprox_exact_12 = acqFuncApprox(exact_12.history)\n",
        "acqFuncExact_exact_12 = acqFuncExact(exact_12.history)\n",
        "\n",
        "e12 = np.mean(acqFuncExact_exact_12)\n",
        "a12 = np.mean(acqFuncApprox_exact_12)\n",
        "\n",
        "e12, a12\n"
      ],
      "metadata": {
        "colab": {
          "base_uri": "https://localhost:8080/"
        },
        "id": "8ts-wrSuGuIm",
        "outputId": "0b10a54e-3b17-4ce2-9f83-db6a2d9809d4"
      },
      "execution_count": 111,
      "outputs": [
        {
          "output_type": "execute_result",
          "data": {
            "text/plain": [
              "(2.8180351780105024, 2.8212626689671514)"
            ]
          },
          "metadata": {},
          "execution_count": 111
        }
      ]
    },
    {
      "cell_type": "code",
      "source": [
        "### acqFunc attribute x, stddev: run number = 13\n",
        "\n",
        "acqFuncApprox_exact_13 = acqFuncApprox(exact_13.history)\n",
        "acqFuncExact_exact_13 = acqFuncExact(exact_13.history)\n",
        "\n",
        "e13 = np.mean(acqFuncExact_exact_13)\n",
        "a13 = np.mean(acqFuncApprox_exact_13)\n",
        "\n",
        "e13, a13\n"
      ],
      "metadata": {
        "colab": {
          "base_uri": "https://localhost:8080/"
        },
        "id": "n0drhEe3GuUL",
        "outputId": "2cbc0ba0-fff0-4526-9d8c-6d8c8ee58b50"
      },
      "execution_count": 112,
      "outputs": [
        {
          "output_type": "execute_result",
          "data": {
            "text/plain": [
              "(2.8540040970559937, 3.2827671295744585)"
            ]
          },
          "metadata": {},
          "execution_count": 112
        }
      ]
    },
    {
      "cell_type": "code",
      "source": [
        "### acqFunc attribute x, stddev: run number = 14\n",
        "\n",
        "acqFuncApprox_exact_14 = acqFuncApprox(exact_14.history)\n",
        "acqFuncExact_exact_14 = acqFuncExact(exact_14.history)\n",
        "\n",
        "e14 = np.mean(acqFuncExact_exact_14)\n",
        "a14 = np.mean(acqFuncApprox_exact_14)\n",
        "\n",
        "e14, a14\n"
      ],
      "metadata": {
        "colab": {
          "base_uri": "https://localhost:8080/"
        },
        "id": "R0W3MZaVGues",
        "outputId": "cdcf200a-5c3e-4777-9492-123a5c92ef23"
      },
      "execution_count": 113,
      "outputs": [
        {
          "output_type": "execute_result",
          "data": {
            "text/plain": [
              "(2.7651765552922036, 2.9102255219549256)"
            ]
          },
          "metadata": {},
          "execution_count": 113
        }
      ]
    },
    {
      "cell_type": "code",
      "source": [
        "### acqFunc attribute x, stddev: run number = 15\n",
        "\n",
        "acqFuncApprox_exact_15 = acqFuncApprox(exact_15.history)\n",
        "acqFuncExact_exact_15 = acqFuncExact(exact_15.history)\n",
        "\n",
        "e15 = np.mean(acqFuncExact_exact_15)\n",
        "a15 = np.mean(acqFuncApprox_exact_15)\n",
        "\n",
        "e15, a15\n"
      ],
      "metadata": {
        "colab": {
          "base_uri": "https://localhost:8080/"
        },
        "id": "DoXdDFHoGup-",
        "outputId": "4e43d890-f7e6-4fbe-d84e-af7cbf28363e"
      },
      "execution_count": 114,
      "outputs": [
        {
          "output_type": "execute_result",
          "data": {
            "text/plain": [
              "(2.665626768738702, 3.0425141923858825)"
            ]
          },
          "metadata": {},
          "execution_count": 114
        }
      ]
    },
    {
      "cell_type": "code",
      "source": [
        "### acqFunc attribute x, stddev: run number = 16\n",
        "\n",
        "acqFuncApprox_exact_16 = acqFuncApprox(exact_16.history)\n",
        "acqFuncExact_exact_16 = acqFuncExact(exact_16.history)\n",
        "\n",
        "e16 = np.mean(acqFuncExact_exact_16)\n",
        "a16 = np.mean(acqFuncApprox_exact_16)\n",
        "\n",
        "e16, a16\n"
      ],
      "metadata": {
        "colab": {
          "base_uri": "https://localhost:8080/"
        },
        "id": "K_wAeqSoGu2j",
        "outputId": "a05e60e1-f582-4071-8ba0-4510c6697b16"
      },
      "execution_count": 115,
      "outputs": [
        {
          "output_type": "execute_result",
          "data": {
            "text/plain": [
              "(2.907153470850295, 3.018957244659787)"
            ]
          },
          "metadata": {},
          "execution_count": 115
        }
      ]
    },
    {
      "cell_type": "code",
      "source": [
        "### acqFunc attribute x, stddev: run number = 17\n",
        "\n",
        "acqFuncApprox_exact_17 = acqFuncApprox(exact_17.history)\n",
        "acqFuncExact_exact_17 = acqFuncExact(exact_17.history)\n",
        "\n",
        "e17 = np.mean(acqFuncExact_exact_17)\n",
        "a17 = np.mean(acqFuncApprox_exact_17)\n",
        "\n",
        "e17, a17\n"
      ],
      "metadata": {
        "colab": {
          "base_uri": "https://localhost:8080/"
        },
        "id": "n6zy78fjGvBT",
        "outputId": "58b06592-4885-45ba-db84-dc04d533e1cb"
      },
      "execution_count": 116,
      "outputs": [
        {
          "output_type": "execute_result",
          "data": {
            "text/plain": [
              "(2.958498711439603, 3.021458650230286)"
            ]
          },
          "metadata": {},
          "execution_count": 116
        }
      ]
    },
    {
      "cell_type": "code",
      "source": [
        "### acqFunc attribute x, stddev: run number = 18\n",
        "\n",
        "acqFuncApprox_exact_18 = acqFuncApprox(exact_18.history)\n",
        "acqFuncExact_exact_18 = acqFuncExact(exact_18.history)\n",
        "\n",
        "e18 = np.mean(acqFuncExact_exact_18)\n",
        "a18 = np.mean(acqFuncApprox_exact_18)\n",
        "\n",
        "e18, a18\n"
      ],
      "metadata": {
        "colab": {
          "base_uri": "https://localhost:8080/"
        },
        "id": "s_6_2K4iGvM-",
        "outputId": "d768e26b-3640-4d58-a390-95262d7ec2b2"
      },
      "execution_count": 117,
      "outputs": [
        {
          "output_type": "execute_result",
          "data": {
            "text/plain": [
              "(2.7095960762627107, 2.9413365666016746)"
            ]
          },
          "metadata": {},
          "execution_count": 117
        }
      ]
    },
    {
      "cell_type": "code",
      "source": [
        "### acqFunc attribute x, stddev: run number = 19\n",
        "\n",
        "acqFuncApprox_exact_19 = acqFuncApprox(exact_19.history)\n",
        "acqFuncExact_exact_19 = acqFuncExact(exact_19.history)\n",
        "\n",
        "e19 = np.mean(acqFuncExact_exact_19)\n",
        "a19 = np.mean(acqFuncApprox_exact_19)\n",
        "\n",
        "e19, a19\n"
      ],
      "metadata": {
        "colab": {
          "base_uri": "https://localhost:8080/"
        },
        "id": "o8oO8pdBGvYk",
        "outputId": "f360efda-6b4e-4a7e-9fcd-c7a5eb3d504b"
      },
      "execution_count": 118,
      "outputs": [
        {
          "output_type": "execute_result",
          "data": {
            "text/plain": [
              "(2.748124326034433, 3.029588721397417)"
            ]
          },
          "metadata": {},
          "execution_count": 118
        }
      ]
    },
    {
      "cell_type": "code",
      "source": [
        "### acqFunc attribute x, stddev: run number = 20\n",
        "\n",
        "acqFuncApprox_exact_20 = acqFuncApprox(exact_20.history)\n",
        "acqFuncExact_exact_20 = acqFuncExact(exact_20.history)\n",
        "\n",
        "e20 = np.mean(acqFuncExact_exact_20)\n",
        "a20 = np.mean(acqFuncApprox_exact_20)\n",
        "\n",
        "e20, a20\n"
      ],
      "metadata": {
        "colab": {
          "base_uri": "https://localhost:8080/"
        },
        "id": "b2w8oLc0IMzU",
        "outputId": "20ac3a52-bd71-4c9e-839f-279b1cf38179"
      },
      "execution_count": 119,
      "outputs": [
        {
          "output_type": "execute_result",
          "data": {
            "text/plain": [
              "(2.9619089723271195, 2.9663128879671223)"
            ]
          },
          "metadata": {},
          "execution_count": 119
        }
      ]
    },
    {
      "cell_type": "code",
      "source": [
        "### Summarize arrays: \n",
        "\n",
        "exact_stddev = np.sort([e1,e2,e3,e4,e5,e6,e7,e8,e9,e10,e11,e12,e13,e14,e15,e16,e17,e18,e19,e20])\n",
        "approx_stddev = np.sort([a1,a2,a3,a4,a5,a6,a7,a8,a9,a10,a11,a12,a13,a14,a15,a16,a17,a18,a19,a20])\n",
        "\n",
        "np.mean(exact_stddev), np.mean(approx_stddev)\n"
      ],
      "metadata": {
        "colab": {
          "base_uri": "https://localhost:8080/"
        },
        "id": "qAZs3yxMIZul",
        "outputId": "721819e5-be41-4da8-f4f3-555fab4cc3fd"
      },
      "execution_count": 120,
      "outputs": [
        {
          "output_type": "execute_result",
          "data": {
            "text/plain": [
              "(2.8869708528110203, 3.0196887625174407)"
            ]
          },
          "metadata": {},
          "execution_count": 120
        }
      ]
    },
    {
      "cell_type": "code",
      "source": [
        "### Visualise!\n",
        "\n",
        "title = func\n",
        "plt.figure()\n",
        "\n",
        "plt.plot(approx_stddev, color = 'Purple', ls='-', label='Average $\\sigma$, attribute $\\mathbf{x}$: Approx GP CBM gradients')\n",
        "plt.plot(exact_stddev, color = 'Orange', ls='-.', label='Average $\\sigma$, attribute $\\mathbf{x}$: Exact GP dCBM gradients')\n",
        "\n",
        "plt.title(title, weight = 'bold')\n",
        "plt.xlabel('Function evaluations: iteration $\\it{k}$', weight = 'bold')\n",
        "plt.ylabel('GP CBM: Average $\\sigma$, attribute $\\mathbf{x}$', weight = 'bold') \n",
        "plt.legend(loc=0) # add plot legend\n",
        "\n",
        "### Make the x-ticks integers, not floats:\n",
        "count = len(xstar)\n",
        "plt.xticks(np.arange(count), np.arange(1, count))\n",
        "plt.show() #visualize!\n"
      ],
      "metadata": {
        "colab": {
          "base_uri": "https://localhost:8080/",
          "height": 297
        },
        "id": "e_kpqYcMIZxu",
        "outputId": "168582d5-d458-43a3-df91-b5850bd1ee9c"
      },
      "execution_count": 121,
      "outputs": [
        {
          "output_type": "display_data",
          "data": {
            "text/plain": [
              "<Figure size 432x288 with 1 Axes>"
            ],
            "image/png": "[encoded data removed]"
          },
          "metadata": {
            "needs_background": "light"
          }
        }
      ]
    },
    {
      "cell_type": "code",
      "source": [
        ""
      ],
      "metadata": {
        "id": "LToGd4vZIZ3I"
      },
      "execution_count": 121,
      "outputs": []
    }
  ],
  "metadata": {
    "colab": {
      "collapsed_sections": [],
      "name": "6_Sphere_GP_dCBM.ipynb",
      "provenance": []
    },
    "kernelspec": {
      "display_name": "Python 3",
      "name": "python3"
    },
    "language_info": {
      "name": "python"
    }
  },
  "nbformat": 4,
  "nbformat_minor": 0
}