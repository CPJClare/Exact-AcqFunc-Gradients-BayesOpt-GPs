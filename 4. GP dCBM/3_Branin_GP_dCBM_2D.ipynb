{
  "nbformat": 4,
  "nbformat_minor": 0,
  "metadata": {
    "colab": {
      "name": "3. Branin_GP_dCBM_2D.ipynb",
      "provenance": [],
      "collapsed_sections": []
    },
    "kernelspec": {
      "name": "python3",
      "display_name": "Python 3"
    },
    "language_info": {
      "name": "python"
    }
  },
  "cells": [
    {
      "cell_type": "markdown",
      "metadata": {
        "id": "Dqn4dFx7Z2Ir"
      },
      "source": [
        "\n",
        "Branin: 2D\n"
      ]
    },
    {
      "cell_type": "code",
      "metadata": {
        "id": "MJTM_GZZZb5x",
        "colab": {
          "base_uri": "https://localhost:8080/"
        },
        "outputId": "1036d616-99ec-427a-afcb-ce9470085825"
      },
      "source": [
        "pip install pyGPGO\n"
      ],
      "execution_count": 1,
      "outputs": [
        {
          "output_type": "stream",
          "name": "stdout",
          "text": [
            "Collecting pyGPGO\n",
            "  Downloading pyGPGO-0.5.1.tar.gz (14 kB)\n",
            "Requirement already satisfied: numpy in /usr/local/lib/python3.7/dist-packages (from pyGPGO) (1.21.5)\n",
            "Requirement already satisfied: mkl in /usr/local/lib/python3.7/dist-packages (from pyGPGO) (2019.0)\n",
            "Requirement already satisfied: scipy in /usr/local/lib/python3.7/dist-packages (from pyGPGO) (1.4.1)\n",
            "Requirement already satisfied: joblib in /usr/local/lib/python3.7/dist-packages (from pyGPGO) (1.1.0)\n",
            "Requirement already satisfied: scikit-learn in /usr/local/lib/python3.7/dist-packages (from pyGPGO) (1.0.2)\n",
            "Requirement already satisfied: Theano-PyMC in /usr/local/lib/python3.7/dist-packages (from pyGPGO) (1.1.2)\n",
            "Requirement already satisfied: pyMC3 in /usr/local/lib/python3.7/dist-packages (from pyGPGO) (3.11.4)\n",
            "Requirement already satisfied: intel-openmp in /usr/local/lib/python3.7/dist-packages (from mkl->pyGPGO) (2022.0.2)\n",
            "Requirement already satisfied: patsy>=0.5.1 in /usr/local/lib/python3.7/dist-packages (from pyMC3->pyGPGO) (0.5.2)\n",
            "Requirement already satisfied: fastprogress>=0.2.0 in /usr/local/lib/python3.7/dist-packages (from pyMC3->pyGPGO) (1.0.2)\n",
            "Requirement already satisfied: arviz>=0.11.0 in /usr/local/lib/python3.7/dist-packages (from pyMC3->pyGPGO) (0.11.4)\n",
            "Requirement already satisfied: semver>=2.13.0 in /usr/local/lib/python3.7/dist-packages (from pyMC3->pyGPGO) (2.13.0)\n",
            "Requirement already satisfied: typing-extensions>=3.7.4 in /usr/local/lib/python3.7/dist-packages (from pyMC3->pyGPGO) (3.10.0.2)\n",
            "Requirement already satisfied: dill in /usr/local/lib/python3.7/dist-packages (from pyMC3->pyGPGO) (0.3.4)\n",
            "Requirement already satisfied: pandas>=0.24.0 in /usr/local/lib/python3.7/dist-packages (from pyMC3->pyGPGO) (1.3.5)\n",
            "Requirement already satisfied: cachetools>=4.2.1 in /usr/local/lib/python3.7/dist-packages (from pyMC3->pyGPGO) (4.2.4)\n",
            "Requirement already satisfied: filelock in /usr/local/lib/python3.7/dist-packages (from Theano-PyMC->pyGPGO) (3.6.0)\n",
            "Requirement already satisfied: packaging in /usr/local/lib/python3.7/dist-packages (from arviz>=0.11.0->pyMC3->pyGPGO) (21.3)\n",
            "Requirement already satisfied: netcdf4 in /usr/local/lib/python3.7/dist-packages (from arviz>=0.11.0->pyMC3->pyGPGO) (1.5.8)\n",
            "Requirement already satisfied: xarray>=0.16.1 in /usr/local/lib/python3.7/dist-packages (from arviz>=0.11.0->pyMC3->pyGPGO) (0.18.2)\n",
            "Requirement already satisfied: setuptools>=38.4 in /usr/local/lib/python3.7/dist-packages (from arviz>=0.11.0->pyMC3->pyGPGO) (57.4.0)\n",
            "Requirement already satisfied: matplotlib>=3.0 in /usr/local/lib/python3.7/dist-packages (from arviz>=0.11.0->pyMC3->pyGPGO) (3.2.2)\n",
            "Requirement already satisfied: kiwisolver>=1.0.1 in /usr/local/lib/python3.7/dist-packages (from matplotlib>=3.0->arviz>=0.11.0->pyMC3->pyGPGO) (1.4.0)\n",
            "Requirement already satisfied: cycler>=0.10 in /usr/local/lib/python3.7/dist-packages (from matplotlib>=3.0->arviz>=0.11.0->pyMC3->pyGPGO) (0.11.0)\n",
            "Requirement already satisfied: pyparsing!=2.0.4,!=2.1.2,!=2.1.6,>=2.0.1 in /usr/local/lib/python3.7/dist-packages (from matplotlib>=3.0->arviz>=0.11.0->pyMC3->pyGPGO) (3.0.7)\n",
            "Requirement already satisfied: python-dateutil>=2.1 in /usr/local/lib/python3.7/dist-packages (from matplotlib>=3.0->arviz>=0.11.0->pyMC3->pyGPGO) (2.8.2)\n",
            "Requirement already satisfied: pytz>=2017.3 in /usr/local/lib/python3.7/dist-packages (from pandas>=0.24.0->pyMC3->pyGPGO) (2018.9)\n",
            "Requirement already satisfied: six in /usr/local/lib/python3.7/dist-packages (from patsy>=0.5.1->pyMC3->pyGPGO) (1.15.0)\n",
            "Requirement already satisfied: cftime in /usr/local/lib/python3.7/dist-packages (from netcdf4->arviz>=0.11.0->pyMC3->pyGPGO) (1.6.0)\n",
            "Requirement already satisfied: threadpoolctl>=2.0.0 in /usr/local/lib/python3.7/dist-packages (from scikit-learn->pyGPGO) (3.1.0)\n",
            "Building wheels for collected packages: pyGPGO\n",
            "  Building wheel for pyGPGO (setup.py) ... \u001b[?25l\u001b[?25hdone\n",
            "  Created wheel for pyGPGO: filename=pyGPGO-0.5.1-py3-none-any.whl size=19879 sha256=40bf4e805b17be4cdb932bbdea671ccf766fe2183222d77073baf0d142eb8166\n",
            "  Stored in directory: /root/.cache/pip/wheels/c8/5d/0b/2160114e2f1b87791c51b66cf07f89831dbb6f49167950316f\n",
            "Successfully built pyGPGO\n",
            "Installing collected packages: pyGPGO\n",
            "Successfully installed pyGPGO-0.5.1\n"
          ]
        }
      ]
    },
    {
      "cell_type": "code",
      "metadata": {
        "id": "ZJSSPbwPaEUB"
      },
      "source": [
        "### Import:\n",
        "\n",
        "import numpy as np\n",
        "import scipy as sp\n",
        "import pandas as pd\n",
        "import matplotlib.pyplot as plt\n",
        "import warnings\n",
        "import itertools\n",
        "\n",
        "from pyGPGO.GPGO import GPGO\n",
        "from pyGPGO.surrogates.GaussianProcess import GaussianProcess\n",
        "from pyGPGO.acquisition import Acquisition\n",
        "from pyGPGO.covfunc import squaredExponential\n",
        "\n",
        "from joblib import Parallel, delayed\n",
        "from numpy.linalg import solve, cholesky\n",
        "from scipy.spatial.distance import cdist\n",
        "from scipy.optimize import minimize\n",
        "from scipy.stats import norm\n",
        "import time\n",
        "\n",
        "warnings.filterwarnings(\"ignore\", category=RuntimeWarning)\n"
      ],
      "execution_count": 2,
      "outputs": []
    },
    {
      "cell_type": "code",
      "metadata": {
        "id": "OeYcTUNoaJWa"
      },
      "source": [
        "### Inputs:\n",
        "\n",
        "func = 'Branin'\n",
        "Beta_CBM = 1.5 # Default UCB Acquisition function parameter in pyGPGO https://github.com/josejimenezluna/pyGPGO/blob/master/pyGPGO/acquisition.py#L83\n",
        "n_test = 500\n",
        "eps = 1e-08\n",
        "\n",
        "util_grad_exact = 'dCBM_GP'\n",
        "util_grad_approx = 'CBM'\n",
        "\n",
        "n_init = 5 # random initialisations\n",
        "iters = 20\n",
        "opt = True"
      ],
      "execution_count": 3,
      "outputs": []
    },
    {
      "cell_type": "code",
      "metadata": {
        "id": "xpaEOjdzaPMS"
      },
      "source": [
        "### Objective Function - Branin(x) 2-D:\n",
        "\n",
        "def objfunc(x1_training, x2_training, a = 1, b = (5.1 / (4 * (np.pi) ** 2)), c = (5 / (np.pi)), r = 6, s = 10, t = (1 / (8 * np.pi))):\n",
        "        return operator * ((a * (x2_training - b * x1_training ** 2 + c * x1_training - r) ** 2) + \n",
        "                 s * (1 - t) * np.cos(x1_training) + s)\n",
        "        \n",
        "# Constraints:\n",
        "lb_x1 = -5 \n",
        "ub_x1 = +10\n",
        "lb_x2 = +0 \n",
        "ub_x2 = +15\n",
        "\n",
        "# Input array dimension(s):\n",
        "dim = 2\n",
        "\n",
        "# 2-D inputs' parameter bounds:\n",
        "param = {'x1_training': ('cont', [lb_x1, ub_x1]),\n",
        "             'x2_training': ('cont', [lb_x2, ub_x2])}\n",
        "\n",
        "# True y bounds:\n",
        "operator = -1\n",
        "y_lb = 0.397887 # targets global minimum\n",
        "y_global_orig = y_lb * operator # targets global minimum\n",
        "\n",
        "\n",
        "# Test data:\n",
        "x1_test = np.linspace(lb_x1, ub_x1, n_test)\n",
        "x2_test = np.linspace(lb_x2, ub_x2, n_test)\n",
        "  \n",
        "x_test = np.column_stack((x1_test,x2_test))\n"
      ],
      "execution_count": 4,
      "outputs": []
    },
    {
      "cell_type": "code",
      "metadata": {
        "id": "eYpI3Zm4aGxi"
      },
      "source": [
        "n_start_AcqFunc = iters\n"
      ],
      "execution_count": 5,
      "outputs": []
    },
    {
      "cell_type": "code",
      "metadata": {
        "id": "oO_GUmOoaV0T"
      },
      "source": [
        "### Cumulative Regret Calculator:\n",
        "\n",
        "def min_max_array(x):\n",
        "    new_list = []\n",
        "    for i, num in enumerate(x):\n",
        "            new_list.append(np.min(x[0:i+1]))\n",
        "    return new_list\n",
        "  "
      ],
      "execution_count": 6,
      "outputs": []
    },
    {
      "cell_type": "code",
      "metadata": {
        "id": "kuuJx0IMam9S"
      },
      "source": [
        "### Surrogate derivatives: \n",
        "\n",
        "cov_func = squaredExponential()\n",
        "\n",
        "def kronDelta(X, Xstar):                     # Kronecker's Delta method\n",
        "    return cdist(X, Xstar) < np.finfo(np.float32).eps\n",
        "\n",
        "def se(X, Xstar, sigmaf, l, sigman):         # S.E. kernel method\n",
        "    return sigmaf * np.exp(-0.5 * cdist(X, Xstar) ** 2 / l ** 2) + sigman * kronDelta(X, Xstar)\n",
        "\n",
        "def delta(X, Xstar):                         # Distance between training X and test Xstar vectors\n",
        "    return (X - Xstar)\n",
        "   \n",
        "def der_covmat(X, Xstar, sigmaf, l, sigman): # Covariance matrix derivative terms (i.e. exact, first-order)\n",
        "    nx = len(X)\n",
        "    ny = len(Xstar)\n",
        "    return np.round(np.array([(delta(np.atleast_2d(i), np.atleast_2d(j))[0] * se(np.atleast_2d(i), np.atleast_2d(j), sigmaf, l, sigman)[0]).sum() for (i, j) in itertools.product(X, Xstar)]).reshape(nx, ny), 8)\n",
        "\n",
        "class dGaussianProcess(GaussianProcess):    # Via inheritance, also optimises hyperparameters when opt = TRUE\n",
        "    \n",
        "    def AcqGrad(self, Xstar):               # Method returning exact, first-order derivatives of the GP's posterior mean and standard deviation\n",
        "        Xstar = np.atleast_2d(Xstar)\n",
        "        Kstar = self.covfunc.K(self.X, Xstar).T\n",
        "        \n",
        "        dKstar = der_covmat(self.X, Xstar, self.covfunc.sigmaf, self.covfunc.l, self.covfunc.sigman).T\n",
        "        alpha_Kstar = np.dot(np.linalg.inv(self.K + (self.covfunc.sigman**2) * np.eye(len(self.X))), Kstar.T)\n",
        "        \n",
        "        dm = np.dot(dKstar, self.alpha)\n",
        "        ds = -2 * np.dot(dKstar, alpha_Kstar)\n",
        "        \n",
        "        return dm, ds           \n",
        "        "
      ],
      "execution_count": 7,
      "outputs": []
    },
    {
      "cell_type": "code",
      "metadata": {
        "id": "_Dc3YVHVaXz7"
      },
      "source": [
        "class Acquisition_new(Acquisition):    \n",
        "    def __init__(self, mode, eps=eps, **params):\n",
        "        \n",
        "        self.params = params\n",
        "        self.eps = eps\n",
        "\n",
        "        mode_dict = {\n",
        "            'CBM': self.CBM,\n",
        "            'dCBM_GP': self.dCBM_GP\n",
        "        }\n",
        "\n",
        "        self.f = mode_dict[mode]\n",
        "\n",
        "    def CBM(self, tau, mean, std):\n",
        "        z = (mean - y_global_orig - self.eps) / (std + self.eps)\n",
        "        return (std + self.eps) * (z + np.sqrt(Beta_CBM))\n",
        "\n",
        "    def dCBM_GP(self, tau, mean, std, ds, dm):\n",
        "        gamma = (mean - y_global_orig - self.eps) / (std + self.eps)\n",
        "        gamma_h = (mean - y_global_orig) / (std + self.eps)\n",
        "        dsdx = ds / (2 * (std + self.eps))\n",
        "        dmdx = (dm - gamma * dsdx) / (std + self.eps)\n",
        "\n",
        "        f = (std + self.eps) * (gamma + np.sqrt(Beta_CBM))\n",
        "        df = dsdx * (gamma + np.sqrt(Beta_CBM)) + (std + self.eps) * dmdx\n",
        "        df_arr = []\n",
        "\n",
        "        for j in range(0, dim):\n",
        "          df_arr.append(df)\n",
        "        return f, np.asarray(df_arr).transpose()\n",
        "        \n",
        "    def d_eval(self, tau, mean, std, ds, dm):\n",
        "    \n",
        "        return self.f(tau, mean, std, ds, dm, **self.params)\n",
        "        "
      ],
      "execution_count": 8,
      "outputs": []
    },
    {
      "cell_type": "code",
      "metadata": {
        "id": "PITEQC8YSl7i"
      },
      "source": [
        "## GPGO_multi: \n",
        "\n",
        "class GPGO_multi(GPGO):\n",
        "    n_start = n_start_AcqFunc\n",
        "\n",
        "    def __init__(self, surrogate, acquisition, f, parameter_dict, n_jobs=1):\n",
        "        self.GP = surrogate\n",
        "        self.A = acquisition\n",
        "        self.f = f\n",
        "        self.parameters = parameter_dict\n",
        "        self.n_jobs = n_jobs\n",
        "\n",
        "        self.parameter_key = list(parameter_dict.keys())\n",
        "        self.parameter_value = list(parameter_dict.values())\n",
        "        self.parameter_type = [p[0] for p in self.parameter_value]\n",
        "        self.parameter_range = [p[1] for p in self.parameter_value]\n",
        "\n",
        "        self.history = []\n",
        "        self.header =   'Evaluation \\t Proposed point \\t  Current eval. \\t  Best eval. \\t         Max AcqFunc.'\n",
        "        self.template = '{:3}\\t {}\\t {:3}\\t {:3}\\t {:3}'\n",
        "\n",
        "    def _optimizeAcq(self, method='L-BFGS-B', n_start=n_start_AcqFunc):\n",
        "        \n",
        "        start_points_dict = [self._sampleParam() for i in range(n_start)]\n",
        "        start_points_arr = np.array([list(s.values())\n",
        "                                     for s in start_points_dict])\n",
        "        x_best = np.empty((n_start, len(self.parameter_key)))\n",
        "        f_best = np.empty((n_start,))\n",
        "        opt = Parallel(n_jobs=self.n_jobs)(delayed(minimize)(self._acqWrapper,\n",
        "                                                                 x0=start_point,\n",
        "                                                                 method=method,\n",
        "                                                                 bounds=self.parameter_range) for start_point in\n",
        "                                               start_points_arr)\n",
        "        x_best = np.array([res.x for res in opt])\n",
        "        f_best = np.array([np.atleast_1d(res.fun)[0] for res in opt])\n",
        "        f_best_min = min(f_best)\n",
        "\n",
        "        self.x_best = x_best\n",
        "        self.f_best = f_best\n",
        "        self.f_best_min = f_best_min\n",
        "        self.best = x_best[np.argmin(f_best)]\n",
        "        self.start_points_arr = start_points_arr\n",
        "        \n",
        "        self.history.append(self.f_best_min)\n",
        "          \n",
        "    def _printInit(self):\n",
        "        print(self.header)\n",
        "        for init_eval in range(self.init_evals):\n",
        "            print(self.template.format('init', self.GP.X[init_eval], self.GP.y[init_eval], self.tau, ''))\n",
        "      \n",
        "    def _printCurrent(self):\n",
        "        OKGREEN = '\\033[92m'\n",
        "        ENDC = '\\033[0m'\n",
        "        BOLD = '\\033[1m'\n",
        "        eval = str(len(self.GP.y) - self.init_evals)\n",
        "        proposed = str(self.best)\n",
        "        curr_eval = str(self.GP.y[-1])\n",
        "        curr_best = str(self.tau)\n",
        "        max_acqfunc = str(self.f_best_min)\n",
        "        if float(curr_eval) >= float(curr_best):\n",
        "            eval = BOLD + OKGREEN + eval + ENDC\n",
        "            proposed = BOLD + OKGREEN + proposed + ENDC\n",
        "            curr_eval = BOLD + OKGREEN + curr_eval + ENDC\n",
        "            curr_best = BOLD + OKGREEN + curr_best + ENDC\n",
        "            max_acqfunc = BOLD + OKGREEN + str(self.f_best_min) + ENDC\n",
        "        print(self.template.format(eval, proposed, curr_eval, curr_best, max_acqfunc))\n",
        "\n",
        "    def run(self, max_iter=10, init_evals=3, resume=False):\n",
        "        \n",
        "        if not resume:\n",
        "            self.init_evals = init_evals\n",
        "            self._firstRun(self.init_evals)\n",
        "            self._printInit()\n",
        "        for iteration in range(max_iter):\n",
        "            self._optimizeAcq()\n",
        "            self.updateGP()\n",
        "            self._printCurrent()\n"
      ],
      "execution_count": 9,
      "outputs": []
    },
    {
      "cell_type": "code",
      "metadata": {
        "id": "b_B-w81BJxKN"
      },
      "source": [
        "## dGPGO:\n",
        "\n",
        "grad = 1\n",
        "\n",
        "class dGPGO(GPGO):\n",
        "    n_start = n_start_AcqFunc\n",
        "\n",
        "    def __init__(self, surrogate, acquisition, f, parameter_dict, n_jobs=1):\n",
        "        self.GP = surrogate\n",
        "        self.A = acquisition\n",
        "        self.f = f\n",
        "        self.parameters = parameter_dict\n",
        "        self.n_jobs = n_jobs\n",
        "\n",
        "        self.parameter_key = list(parameter_dict.keys())\n",
        "        self.parameter_value = list(parameter_dict.values())\n",
        "        self.parameter_type = [p[0] for p in self.parameter_value]\n",
        "        self.parameter_range = [p[1] for p in self.parameter_value]\n",
        "\n",
        "        self.history = []\n",
        "        self.header =   'Evaluation \\t Proposed point \\t  Current eval. \\t  Best eval. \\t         Max AcqFunc.'\n",
        "        self.template = '{:3}\\t {}\\t {:3}\\t {:3}\\t {:3}'\n",
        "\n",
        "    def d_optimizeAcq(self, method='L-BFGS-B', n_start=n_start_AcqFunc):\n",
        "        start_points_dict = [self._sampleParam() for i in range(n_start)]\n",
        "        start_points_arr = np.array([list(s.values())\n",
        "                                     for s in start_points_dict])\n",
        "        x_best = np.empty((n_start, len(self.parameter_key)))\n",
        "        f_best = np.empty((n_start,))\n",
        "        opt = Parallel(n_jobs=self.n_jobs)(delayed(minimize)(self.acqfunc,\n",
        "                                                                 x0=start_point,\n",
        "                                                                 method=method,\n",
        "                                                                 jac = True,\n",
        "                                                                 bounds=self.parameter_range) for start_point in\n",
        "                                               start_points_arr)\n",
        "        x_best = np.array([res.x for res in opt])\n",
        "        f_best = np.array([np.atleast_1d(res.fun)[0] for res in opt])\n",
        "        f_best_min = min(f_best)\n",
        "\n",
        "        self.x_best = x_best\n",
        "        self.f_best = f_best\n",
        "        self.f_best_min = f_best_min\n",
        "        self.best = x_best[np.argmin(f_best)]\n",
        "        self.start_points_arr = start_points_arr\n",
        "\n",
        "        self.history.append(self.f_best_min)\n",
        "\n",
        "    def _printInit(self):\n",
        "        print(self.header)\n",
        "        for init_eval in range(self.init_evals):\n",
        "            print(self.template.format('init', self.GP.X[init_eval], self.GP.y[init_eval], self.tau, ''))\n",
        "      \n",
        "    def _printCurrent(self):\n",
        "        OKGREEN = '\\033[92m'\n",
        "        ENDC = '\\033[0m'\n",
        "        BOLD = '\\033[1m'\n",
        "        eval = str(len(self.GP.y) - self.init_evals)\n",
        "        proposed = str(self.best)\n",
        "        curr_eval = str(self.GP.y[-1])\n",
        "        curr_best = str(self.tau)\n",
        "        max_acqfunc = str(self.f_best_min)\n",
        "        if float(curr_eval) >= float(curr_best):\n",
        "            eval = BOLD + OKGREEN + eval + ENDC\n",
        "            proposed = BOLD + OKGREEN + proposed + ENDC\n",
        "            curr_eval = BOLD + OKGREEN + curr_eval + ENDC\n",
        "            curr_best = BOLD + OKGREEN + curr_best + ENDC\n",
        "            max_acqfunc = BOLD + OKGREEN + str(self.f_best_min) + ENDC\n",
        "        print(self.template.format(eval, proposed, curr_eval, curr_best, max_acqfunc))\n",
        "\n",
        "    def run(self, max_iter=10, init_evals=3, resume=False):\n",
        "        \n",
        "        if not resume:\n",
        "            self.init_evals = init_evals\n",
        "            self._firstRun(self.init_evals)\n",
        "            self._printInit()\n",
        "        for iteration in range(max_iter):\n",
        "            self.d_optimizeAcq()\n",
        "            self.updateGP()\n",
        "            self._printCurrent()\n",
        "\n",
        "    def acqfunc(self, xnew, n_start=n_start_AcqFunc):\n",
        "        new_mean, new_var = self.GP.predict(xnew, return_std=True)\n",
        "        new_std = np.sqrt(new_var + eps)\n",
        "        dm, ds = self.GP.AcqGrad(xnew)\n",
        "        f, df = self.A.d_eval(self.tau, new_mean, new_std, ds=ds, dm=dm)\n",
        "\n",
        "        return -f, -df * grad\n"
      ],
      "execution_count": 10,
      "outputs": []
    },
    {
      "cell_type": "code",
      "metadata": {
        "id": "qXIKGuXVGEg2"
      },
      "source": [
        "###Reproducible set-seeds:\n",
        "\n",
        "run_num_1 = 1\n",
        "run_num_2 = 2\n",
        "run_num_3 = 3\n",
        "run_num_4 = 4\n",
        "run_num_5 = 5\n",
        "run_num_6 = 6\n",
        "run_num_7 = 7\n",
        "run_num_8 = 8\n",
        "run_num_9 = 9\n",
        "run_num_10 = 10\n",
        "run_num_11 = 11\n",
        "run_num_12 = 12\n",
        "run_num_13 = 13\n",
        "run_num_14 = 14\n",
        "run_num_15 = 15\n",
        "run_num_16 = 16\n",
        "run_num_17 = 17\n",
        "run_num_18 = 18\n",
        "run_num_19 = 19\n",
        "run_num_20 = 20\n"
      ],
      "execution_count": 11,
      "outputs": []
    },
    {
      "cell_type": "code",
      "metadata": {
        "colab": {
          "base_uri": "https://localhost:8080/"
        },
        "id": "JEhagQmnTVIK",
        "outputId": "43c7699b-d934-4308-9ea7-621761341cc4"
      },
      "source": [
        "start_approx = time.time()\n",
        "start_approx\n"
      ],
      "execution_count": 12,
      "outputs": [
        {
          "output_type": "execute_result",
          "data": {
            "text/plain": [
              "1649238031.7063482"
            ]
          },
          "metadata": {},
          "execution_count": 12
        }
      ]
    },
    {
      "cell_type": "code",
      "metadata": {
        "colab": {
          "base_uri": "https://localhost:8080/"
        },
        "id": "aH0YSTXufD1v",
        "outputId": "c1426cfa-8e50-4077-e456-4d458b2624c6"
      },
      "source": [
        "### ESTIMATED GP CBM GRADIENTS\n",
        "\n",
        "np.random.seed(run_num_1)\n",
        "surrogate_approx_1 = GaussianProcess(cov_func, optimize=opt)\n",
        "\n",
        "approx_1 = GPGO_multi(surrogate_approx_1, Acquisition_new(util_grad_approx), objfunc, param)\n",
        "approx_1.run(init_evals=n_init, max_iter=iters)\n"
      ],
      "execution_count": 13,
      "outputs": [
        {
          "output_type": "stream",
          "name": "stdout",
          "text": [
            "Evaluation \t Proposed point \t  Current eval. \t  Best eval. \t         Max AcqFunc.\n",
            "init\t [ 1.25533007 10.8048674 ]\t -56.52874004692151\t -27.68166689936483\t    \n",
            "init\t [-4.99828438  4.53498859]\t -172.66531086516164\t -27.68166689936483\t    \n",
            "init\t [-2.79866164  1.38507892]\t -102.58290348816024\t -27.68166689936483\t    \n",
            "init\t [-2.20609683  5.18341091]\t -28.868064601155666\t -27.68166689936483\t    \n",
            "init\t [0.95151211 8.08225101]\t -27.68166689936483\t -27.68166689936483\t    \n",
            "\u001b[1m\u001b[92m1\u001b[0m\t \u001b[1m\u001b[92m[8.41909995 1.27566317]\u001b[0m\t \u001b[1m\u001b[92m-5.089934878453152\u001b[0m\t \u001b[1m\u001b[92m-5.089934878453152\u001b[0m\t \u001b[1m\u001b[92m-2.8473770512168253\u001b[0m\n",
            "2  \t [10. 15.]\t -145.87219087939556\t -5.089934878453152\t -2.8473770512168253\n",
            "3  \t [9.50914495 8.52150693]\t -36.125759150808236\t -5.089934878453152\t -2.847377001464547\n",
            "4  \t [-4.67712792 14.21955317]\t -13.865244792739254\t -5.089934878453152\t -2.847377049335111\n",
            "5  \t [2.91798554 0.        ]\t -6.668098871164484\t -5.089934878453152\t -2.8473751752160017\n",
            "6  \t [5.22042962 5.01372513]\t -29.123618723851983\t -5.089934878453152\t -2.8473447636910953\n",
            "7  \t [ 4.44845215 15.        ]\t -190.3809585852207\t -5.089934878453152\t -2.847336350663199\n",
            "8  \t [-4.53464384  9.66118279]\t -46.895504250018554\t -5.089934878453152\t -2.846971442118059\n",
            "9  \t [-0.51480761 15.        ]\t -84.7217315492721\t -5.089934878453152\t -2.845182161928031\n",
            "10 \t [ 5.62622726 10.25362857]\t -100.75570690933071\t -5.089934878453152\t -2.842869537463701\n",
            "\u001b[1m\u001b[92m11\u001b[0m\t \u001b[1m\u001b[92m[10.          4.43630295]\u001b[0m\t \u001b[1m\u001b[92m-3.997622415457755\u001b[0m\t \u001b[1m\u001b[92m-3.997622415457755\u001b[0m\t \u001b[1m\u001b[92m-2.8384948511284005\u001b[0m\n",
            "12 \t [1.442578   3.41812335]\t -11.535576456661872\t -3.997622415457755\t -2.8361288327375056\n",
            "13 \t [5.89520246 0.        ]\t -20.11408907963102\t -3.997622415457755\t -2.7609377364269254\n",
            "14 \t [0.40997929 0.        ]\t -47.63480797254571\t -3.997622415457755\t -2.581912834990541\n",
            "15 \t [-2.12546061 11.86555552]\t -8.549848839783204\t -3.997622415457755\t -2.5792105426945837\n",
            "16 \t [ 9.02848369 11.61450005]\t -90.51062806171741\t -3.997622415457755\t -2.503925869973956\n",
            "17 \t [10.  0.]\t -10.960889035651505\t -3.997622415457755\t -2.5287438730694065\n",
            "18 \t [7.87946589 3.53665272]\t -13.985194585594094\t -3.997622415457755\t -2.4158784716121233\n",
            "\u001b[1m\u001b[92m19\u001b[0m\t \u001b[1m\u001b[92m[3.98686047 2.26547132]\u001b[0m\t \u001b[1m\u001b[92m-3.9393532964678366\u001b[0m\t \u001b[1m\u001b[92m-3.9393532964678366\u001b[0m\t \u001b[1m\u001b[92m-2.3258720058391753\u001b[0m\n",
            "20 \t [-1.87495345  8.25698604]\t -8.519592375039622\t -3.9393532964678366\t -2.2176162332234455\n"
          ]
        }
      ]
    },
    {
      "cell_type": "code",
      "metadata": {
        "colab": {
          "base_uri": "https://localhost:8080/"
        },
        "id": "wTxsSZxFGBB5",
        "outputId": "0e729c5d-d3b6-4b1a-f1d7-c5e0f6240610"
      },
      "source": [
        "### ESTIMATED GP CBM GRADIENTS\n",
        "\n",
        "np.random.seed(run_num_2)\n",
        "surrogate_approx_2 = GaussianProcess(cov_func, optimize=opt)\n",
        "\n",
        "approx_2 = GPGO_multi(surrogate_approx_2, Acquisition_new(util_grad_approx), objfunc, param)\n",
        "approx_2.run(init_evals=n_init, max_iter=iters)\n"
      ],
      "execution_count": 14,
      "outputs": [
        {
          "output_type": "stream",
          "name": "stdout",
          "text": [
            "Evaluation \t Proposed point \t  Current eval. \t  Best eval. \t         Max AcqFunc.\n",
            "init\t [1.53992353 0.38889348]\t -22.31361308916297\t -6.692051508754487\t    \n",
            "init\t [3.24493717 6.52983589]\t -19.233109967858276\t -6.692051508754487\t    \n",
            "init\t [1.30551703 4.95502232]\t -13.177851563387286\t -6.692051508754487\t    \n",
            "init\t [-1.93027049  9.2890645 ]\t -6.692051508754487\t -6.692051508754487\t    \n",
            "init\t [-0.50517989  4.00240913]\t -26.437522758780958\t -6.692051508754487\t    \n",
            "1  \t [ 9.5587047  12.00387527]\t -89.09951357262268\t -6.692051508754487\t -2.8473770512168186\n",
            "\u001b[1m\u001b[92m2\u001b[0m\t \u001b[1m\u001b[92m[9.59366035 1.69164323]\u001b[0m\t \u001b[1m\u001b[92m-1.3984593420568778\u001b[0m\t \u001b[1m\u001b[92m-1.3984593420568778\u001b[0m\t \u001b[1m\u001b[92m-2.847377051216647\u001b[0m\n",
            "3  \t [ 3.24245232 12.67669673]\t -110.25694222671481\t -1.3984593420568778\t -2.847376898105965\n",
            "4  \t [-5. 15.]\t -17.508299515778166\t -1.3984593420568778\t -2.847377048727457\n",
            "5  \t [-5.         0.6245187]\t -287.05146421775174\t -1.3984593420568778\t -2.8473752881367145\n",
            "6  \t [8.75640422 6.43445553]\t -22.404955756659547\t -1.3984593420568778\t -2.8473622956605498\n",
            "7  \t [-5.          6.03048116]\t -137.1996991542947\t -1.3984593420568778\t -2.847096038991567\n",
            "8  \t [5.71779459 2.45894435]\t -19.89177390958391\t -1.3984593420568778\t -2.846711786530057\n",
            "9  \t [-0.7680019 15.       ]\t -76.21975739477949\t -1.3984593420568778\t -2.845053472139686\n",
            "10 \t [-5.         11.02475047]\t -50.7015110916168\t -1.3984593420568778\t -2.8372036349252165\n",
            "11 \t [6.05733845 9.3536485 ]\t -87.49087766573048\t -1.3984593420568778\t -2.832771014971668\n",
            "12 \t [1.14244325 9.2874734 ]\t -38.36361169472967\t -1.3984593420568778\t -2.774377941372822\n",
            "13 \t [ 6.75312895 15.        ]\t -210.56408719233787\t -1.3984593420568778\t -2.8297782438830197\n",
            "14 \t [10.  0.]\t -10.960889035651505\t -1.3984593420568778\t -2.678952415501548\n",
            "15 \t [7.12228272 0.        ]\t -17.89821502776588\t -1.3984593420568778\t -2.578615065305543\n",
            "16 \t [-1.32003259  0.        ]\t -81.70497029991823\t -1.3984593420568778\t -2.535650555833516\n",
            "17 \t [10.          3.36012835]\t -2.0707123211219267\t -1.3984593420568778\t -2.7530346650557247\n",
            "18 \t [-1.41677213 11.72351621]\t -21.773035464273796\t -1.3984593420568778\t -2.4859590533867886\n",
            "19 \t [-1.34792812  6.91154322]\t -14.278731078116266\t -1.3984593420568778\t -2.430915551135857\n",
            "20 \t [5.96029142 5.42086327]\t -37.74818174603252\t -1.3984593420568778\t -2.4463071587241596\n"
          ]
        }
      ]
    },
    {
      "cell_type": "code",
      "metadata": {
        "colab": {
          "base_uri": "https://localhost:8080/"
        },
        "id": "-dgzIrUIGCGT",
        "outputId": "c16a67b9-a8eb-4ef4-da17-6851cbd4e5d5"
      },
      "source": [
        "### ESTIMATED GP CBM GRADIENTS\n",
        "\n",
        "np.random.seed(run_num_3)\n",
        "surrogate_approx_3 = GaussianProcess(cov_func, optimize=opt)\n",
        "\n",
        "approx_3 = GPGO_multi(surrogate_approx_3, Acquisition_new(util_grad_approx), objfunc, param)\n",
        "approx_3.run(init_evals=n_init, max_iter=iters)\n"
      ],
      "execution_count": 15,
      "outputs": [
        {
          "output_type": "stream",
          "name": "stdout",
          "text": [
            "Evaluation \t Proposed point \t  Current eval. \t  Best eval. \t         Max AcqFunc.\n",
            "init\t [ 3.26196854 10.62221734]\t -71.68783452098575\t -18.07886746449891\t    \n",
            "init\t [-0.63642892  7.66241408]\t -18.07886746449891\t -18.07886746449891\t    \n",
            "init\t [ 8.39420432 13.44439633]\t -141.98653529865882\t -18.07886746449891\t    \n",
            "init\t [-3.11622034  3.10864317]\t -83.31045707266176\t -18.07886746449891\t    \n",
            "init\t [-4.22799195  6.61214765]\t -76.5294170688398\t -18.07886746449891\t    \n",
            "1  \t [6.70472147 4.59545299]\t -30.726791812855225\t -18.07886746449891\t -2.8473770512168253\n",
            "\u001b[1m\u001b[92m2\u001b[0m\t \u001b[1m\u001b[92m[-5. 15.]\u001b[0m\t \u001b[1m\u001b[92m-17.508299515778166\u001b[0m\t \u001b[1m\u001b[92m-17.508299515778166\u001b[0m\t \u001b[1m\u001b[92m-2.847377051216809\u001b[0m\n",
            "3  \t [1.86538268 0.        ]\t -19.327136716488127\t -17.508299515778166\t -2.8473756921472106\n",
            "\u001b[1m\u001b[92m4\u001b[0m\t \u001b[1m\u001b[92m[10.  0.]\u001b[0m\t \u001b[1m\u001b[92m-10.960889035651505\u001b[0m\t \u001b[1m\u001b[92m-10.960889035651505\u001b[0m\t \u001b[1m\u001b[92m-2.8473753023395934\u001b[0m\n",
            "5  \t [ 0.1807228 15.       ]\t -105.6274342934098\t -10.960889035651505\t -2.8473426115275973\n",
            "6  \t [10.          8.34459301]\t -30.476220183048035\t -10.960889035651505\t -2.8472732811576495\n",
            "7  \t [-0.6195202  11.33294215]\t -36.28496106529289\t -10.960889035651505\t -2.847377008326592\n",
            "\u001b[1m\u001b[92m8\u001b[0m\t \u001b[1m\u001b[92m[2.1850523  4.38639273]\u001b[0m\t \u001b[1m\u001b[92m-6.02138880294799\u001b[0m\t \u001b[1m\u001b[92m-6.02138880294799\u001b[0m\t \u001b[1m\u001b[92m-2.8454154999303283\u001b[0m\n",
            "9  \t [4.73967877 1.19419096]\t -10.289050421610593\t -6.02138880294799\t -2.8473770511809047\n",
            "10 \t [-5.         10.94934314]\t -51.636609164136125\t -6.02138880294799\t -2.8414984325776325\n",
            "11 \t [6.32120093 8.30884589]\t -71.54249788303613\t -6.02138880294799\t -2.7924563944655185\n",
            "12 \t [ 4.41216028 15.        ]\t -189.60786642309583\t -6.02138880294799\t -2.83163921052411\n",
            "\u001b[1m\u001b[92m13\u001b[0m\t \u001b[1m\u001b[92m[10.          3.50637025]\u001b[0m\t \u001b[1m\u001b[92m-2.1965659616786537\u001b[0m\t \u001b[1m\u001b[92m-2.1965659616786537\u001b[0m\t \u001b[1m\u001b[92m-2.7983318267966237\u001b[0m\n",
            "14 \t [2.76950995 7.00620865]\t -20.61920815783167\t -2.1965659616786537\t -2.668932153269558\n",
            "15 \t [-5.  0.]\t -308.12909601160663\t -2.1965659616786537\t -2.7910872511694507\n",
            "16 \t [7.1957342 0.       ]\t -17.403155575726913\t -2.1965659616786537\t -2.6167203809350092\n",
            "17 \t [-1.08405943  0.        ]\t -76.54082271581727\t -2.1965659616786537\t -2.6087422779836142\n",
            "18 \t [10.          5.30847159]\t -7.258540018440546\t -2.1965659616786537\t -2.4194980845559497\n",
            "19 \t [-0.12259687  4.64369492]\t -21.942988137846683\t -2.1965659616786537\t -2.413454066238848\n",
            "\u001b[1m\u001b[92m20\u001b[0m\t \u001b[1m\u001b[92m[8.84987839 2.40581175]\u001b[0m\t \u001b[1m\u001b[92m-2.0806266220955276\u001b[0m\t \u001b[1m\u001b[92m-2.0806266220955276\u001b[0m\t \u001b[1m\u001b[92m-2.174126830135325\u001b[0m\n"
          ]
        }
      ]
    },
    {
      "cell_type": "code",
      "metadata": {
        "colab": {
          "base_uri": "https://localhost:8080/"
        },
        "id": "hOtG-2sCGCKS",
        "outputId": "f7cfc320-a154-4128-abad-262f08705230"
      },
      "source": [
        "### ESTIMATED GP CBM GRADIENTS\n",
        "\n",
        "np.random.seed(run_num_4)\n",
        "surrogate_approx_4 = GaussianProcess(cov_func, optimize=opt)\n",
        "\n",
        "approx_4 = GPGO_multi(surrogate_approx_4, Acquisition_new(util_grad_approx), objfunc, param)\n",
        "approx_4.run(init_evals=n_init, max_iter=iters)\n"
      ],
      "execution_count": 16,
      "outputs": [
        {
          "output_type": "stream",
          "name": "stdout",
          "text": [
            "Evaluation \t Proposed point \t  Current eval. \t  Best eval. \t         Max AcqFunc.\n",
            "init\t [9.50544759 8.20848374]\t -32.51676744781521\t -7.247126865776948\t    \n",
            "init\t [ 9.5902654  10.72223991]\t -66.20566674364716\t -7.247126865776948\t    \n",
            "init\t [5.46593237 3.24134243]\t -20.90089401680587\t -7.247126865776948\t    \n",
            "init\t [9.64411682 0.09345383]\t -7.247126865776948\t -7.247126865776948\t    \n",
            "init\t [-1.20526456  6.52187299]\t -15.941376982363263\t -7.247126865776948\t    \n",
            "1  \t [ 1.25164457 13.57001383]\t -100.61648848019335\t -7.247126865776948\t -2.847377051210462\n",
            "2  \t [-5.  0.]\t -308.12909601160663\t -7.247126865776948\t -2.8473770512133716\n",
            "3  \t [-5. 15.]\t -17.508299515778166\t -7.247126865776948\t -2.8473769922205285\n",
            "4  \t [1.01926178 0.        ]\t -35.389633841314506\t -7.247126865776948\t -2.8473721805893892\n",
            "5  \t [3.93231679 8.53261622]\t -49.398151424617986\t -7.247126865776948\t -2.847365139359574\n",
            "6  \t [-5.         9.8507739]\t -66.54925015720153\t -7.247126865776948\t -2.8473384049487755\n",
            "7  \t [ 6.50955712 15.        ]\t -212.18297479744726\t -7.247126865776948\t -2.8473288159996097\n",
            "8  \t [-5.          4.94723101]\t -162.54451105751957\t -7.247126865776948\t -2.8447081825217464\n",
            "\u001b[1m\u001b[92m9\u001b[0m\t \u001b[1m\u001b[92m[10.          3.97110118]\u001b[0m\t \u001b[1m\u001b[92m-2.880444587974087\u001b[0m\t \u001b[1m\u001b[92m-2.880444587974087\u001b[0m\t \u001b[1m\u001b[92m-2.843516326204867\u001b[0m\n",
            "10 \t [1.68875191 4.12304745]\t -9.065684656876009\t -2.880444587974087\t -2.8319218429872044\n",
            "11 \t [-0.84455183 10.09561447]\t -23.44845202861286\t -2.880444587974087\t -2.815606268443066\n",
            "12 \t [6.17240673 0.        ]\t -20.74898870960277\t -2.880444587974087\t -2.7960422953904494\n",
            "13 \t [-1.49676275  2.73277056]\t -45.9797321957325\t -2.880444587974087\t -2.789839937972255\n",
            "14 \t [6.81332432 6.18176113]\t -43.570705740188615\t -2.880444587974087\t -2.712953292946734\n",
            "15 \t [-2.55469453 13.0299874 ]\t -6.503096454264268\t -2.880444587974087\t -2.705746026805658\n",
            "16 \t [ 5.95281122 11.207675  ]\t -121.17549611802099\t -2.880444587974087\t -2.6499236862706828\n",
            "17 \t [-1.8547496 15.       ]\t -38.711027456554184\t -2.880444587974087\t -2.278404695549811\n",
            "18 \t [10.         14.42820719]\t -132.47949147955686\t -2.880444587974087\t -2.612198442900959\n",
            "19 \t [8.45729422 2.50572049]\t -5.078938606431645\t -2.880444587974087\t -2.4678922488713266\n",
            "20 \t [1.45732101 6.74092463]\t -18.848855643554955\t -2.880444587974087\t -2.2466456581495917\n"
          ]
        }
      ]
    },
    {
      "cell_type": "code",
      "metadata": {
        "colab": {
          "base_uri": "https://localhost:8080/"
        },
        "id": "JF_SxcEvGCOl",
        "outputId": "61a5f879-accf-496d-cad4-ac30cfd3ce39"
      },
      "source": [
        "### ESTIMATED GP CBM GRADIENTS\n",
        "\n",
        "np.random.seed(run_num_5)\n",
        "surrogate_approx_5 = GaussianProcess(cov_func, optimize=opt)\n",
        "\n",
        "approx_5 = GPGO_multi(surrogate_approx_5, Acquisition_new(util_grad_approx), objfunc, param)\n",
        "approx_5.run(init_evals=n_init, max_iter=iters)\n"
      ],
      "execution_count": 17,
      "outputs": [
        {
          "output_type": "stream",
          "name": "stdout",
          "text": [
            "Evaluation \t Proposed point \t  Current eval. \t  Best eval. \t         Max AcqFunc.\n",
            "init\t [-1.67010243 13.06098459]\t -25.390690545664548\t -25.311309190989615\t    \n",
            "init\t [-1.89921267 13.77916362]\t -25.311309190989615\t -25.311309190989615\t    \n",
            "init\t [2.32616783 9.17615794]\t -41.60147975414021\t -25.311309190989615\t    \n",
            "init\t [6.48861785 7.77626982]\t -63.81281921768236\t -25.311309190989615\t    \n",
            "init\t [-0.54799248  2.81581843]\t -34.966203644931994\t -25.311309190989615\t    \n",
            "\u001b[1m\u001b[92m1\u001b[0m\t \u001b[1m\u001b[92m[8.84124421 0.03321319]\u001b[0m\t \u001b[1m\u001b[92m-5.96108856337545\u001b[0m\t \u001b[1m\u001b[92m-5.96108856337545\u001b[0m\t \u001b[1m\u001b[92m-2.8473770512166334\u001b[0m\n",
            "2  \t [10. 15.]\t -145.87219087939556\t -5.96108856337545\t -2.8473770512165126\n",
            "3  \t [-5.          7.84461928]\t -100.01055830053753\t -5.96108856337545\t -2.847377002114669\n",
            "4  \t [ 3.78202473 15.        ]\t -175.7880604630515\t -5.96108856337545\t -2.8473755251137405\n",
            "5  \t [-5.  0.]\t -308.12909601160663\t -5.96108856337545\t -2.84736057128645\n",
            "6  \t [3.90428005 0.        ]\t -6.13912298557537\t -5.96108856337545\t -2.8473454065512223\n",
            "\u001b[1m\u001b[92m7\u001b[0m\t \u001b[1m\u001b[92m[10.          4.33708631]\u001b[0m\t \u001b[1m\u001b[92m-3.7230427422933214\u001b[0m\t \u001b[1m\u001b[92m-3.7230427422933214\u001b[0m\t \u001b[1m\u001b[92m-2.847051196401318\u001b[0m\n",
            "8  \t [3.79840134 4.09269811]\t -7.5675807032843\t -3.7230427422933214\t -2.845076504011119\n",
            "9  \t [10.         10.33723463]\t -55.734774849728105\t -3.7230427422933214\t -2.8434653903173728\n",
            "10 \t [-0.88392371  6.80161921]\t -16.58752236380544\t -3.7230427422933214\t -2.8282505366576087\n",
            "11 \t [6.99598615 2.92358063]\t -20.27542624470412\t -3.7230427422933214\t -2.819433507450823\n",
            "12 \t [-5. 15.]\t -17.508299515778166\t -3.7230427422933214\t -2.806273807214112\n",
            "13 \t [ 6.33732627 11.77278684]\t -133.45155740187198\t -3.7230427422933214\t -2.8053956003146174\n",
            "14 \t [-4.14120613  4.09189831]\t -119.60928135524131\t -3.7230427422933214\t -2.779258967771764\n",
            "15 \t [-5.         11.64297918]\t -43.463913587522676\t -3.7230427422933214\t -2.7585021052509564\n",
            "16 \t [1.04639729 0.        ]\t -34.842797685233194\t -3.7230427422933214\t -2.702605102119902\n",
            "17 \t [-1.44071618  9.88982631]\t -13.010999761401559\t -3.7230427422933214\t -2.6913300453043827\n",
            "18 \t [10.          6.79299315]\t -16.307517710910325\t -3.7230427422933214\t -2.662882532262393\n",
            "19 \t [ 1.28328031 12.25890285]\t -78.14776140253579\t -3.7230427422933214\t -2.539478751337046\n",
            "20 \t [1.880095   5.74760535]\t -12.29036226736724\t -3.7230427422933214\t -2.525755872497848\n"
          ]
        }
      ]
    },
    {
      "cell_type": "code",
      "metadata": {
        "colab": {
          "base_uri": "https://localhost:8080/"
        },
        "id": "-kDxZtJsGCR3",
        "outputId": "4981d755-65d7-47d8-b4da-9dc71ae92d28"
      },
      "source": [
        "### ESTIMATED GP CBM GRADIENTS\n",
        "\n",
        "np.random.seed(run_num_6)\n",
        "surrogate_approx_6 = GaussianProcess(cov_func, optimize=opt)\n",
        "\n",
        "approx_6 = GPGO_multi(surrogate_approx_6, Acquisition_new(util_grad_approx), objfunc, param)\n",
        "approx_6.run(init_evals=n_init, max_iter=iters)\n"
      ],
      "execution_count": 18,
      "outputs": [
        {
          "output_type": "stream",
          "name": "stdout",
          "text": [
            "Evaluation \t Proposed point \t  Current eval. \t  Best eval. \t         Max AcqFunc.\n",
            "init\t [8.39290227 4.97969708]\t -15.553860636684597\t -15.31731051317483\t    \n",
            "init\t [7.31843685 0.62544939]\t -15.31731051317483\t -15.31731051317483\t    \n",
            "init\t [-3.3851498   8.92578096]\t -16.222288919361837\t -15.31731051317483\t    \n",
            "init\t [2.94726043 6.28211143]\t -15.406373581304088\t -15.31731051317483\t    \n",
            "init\t [0.03111774 9.33779148]\t -31.07053245856209\t -15.31731051317483\t    \n",
            "1  \t [ 9.64829531 12.55362889]\t -98.32295673962142\t -15.31731051317483\t -2.847377051215589\n",
            "2  \t [-5.  0.]\t -308.12909601160663\t -15.31731051317483\t -2.8473770512168253\n",
            "3  \t [ 4.34724927 14.59608757]\t -177.48889452505895\t -15.31731051317483\t -2.8473770512168253\n",
            "\u001b[1m\u001b[92m4\u001b[0m\t \u001b[1m\u001b[92m[-2.66634827 14.57178188]\u001b[0m\t \u001b[1m\u001b[92m-13.088248431900183\u001b[0m\t \u001b[1m\u001b[92m-13.088248431900183\u001b[0m\t \u001b[1m\u001b[92m-2.8473758422141406\u001b[0m\n",
            "5  \t [1.71048885 0.25070046]\t -20.25660691280801\t -13.088248431900183\t -2.84737592294861\n",
            "6  \t [-1.58091427  4.26573161]\t -30.817382485197125\t -13.088248431900183\t -2.8472358174909673\n",
            "7  \t [5.85689078 9.56334924]\t -90.20345076787629\t -13.088248431900183\t -2.846339688677737\n",
            "8  \t [10.          8.30384662]\t -30.04257566178819\t -13.088248431900183\t -2.829500819485448\n",
            "9  \t [ 0.18638758 12.6865283 ]\t -68.1378550124482\t -13.088248431900183\t -2.8473770380461763\n",
            "10 \t [-4.16324154  5.82721902]\t -86.67147208021338\t -13.088248431900183\t -2.8473765960355237\n",
            "\u001b[1m\u001b[92m11\u001b[0m\t \u001b[1m\u001b[92m[4.52525483 2.99704903]\u001b[0m\t \u001b[1m\u001b[92m-10.627831602340947\u001b[0m\t \u001b[1m\u001b[92m-10.627831602340947\u001b[0m\t \u001b[1m\u001b[92m-2.8229626156740464\u001b[0m\n",
            "12 \t [-5.         12.07745916]\t -38.83484165314421\t -10.627831602340947\t -2.8132667827867452\n",
            "13 \t [2.97040559 9.60903162]\t -52.33136407379438\t -10.627831602340947\t -2.8473770497825828\n",
            "\u001b[1m\u001b[92m14\u001b[0m\t \u001b[1m\u001b[92m[10.          2.12146061]\u001b[0m\t \u001b[1m\u001b[92m-2.7201758564125145\u001b[0m\t \u001b[1m\u001b[92m-2.7201758564125145\u001b[0m\t \u001b[1m\u001b[92m-2.74278097244795\u001b[0m\n",
            "15 \t [-1.22170027  0.84737403]\t -66.42611013023745\t -2.7201758564125145\t -2.6054214008164363\n",
            "16 \t [1.59741866 3.51169949]\t -9.820341580601069\t -2.7201758564125145\t -2.5778644149027876\n",
            "17 \t [1.00000000e+01 2.22044605e-16]\t -10.960889035651505\t -2.7201758564125145\t -2.5333391799217178\n",
            "18 \t [4.60510704 0.        ]\t -10.960962043789603\t -2.7201758564125145\t -2.4850498141836086\n",
            "19 \t [5.76186802 5.89843293]\t -41.17422414396722\t -2.7201758564125145\t -2.461236083847939\n",
            "20 \t [ 7.77175008 15.        ]\t -194.83502714483367\t -2.7201758564125145\t -2.1909640656318685\n"
          ]
        }
      ]
    },
    {
      "cell_type": "code",
      "metadata": {
        "colab": {
          "base_uri": "https://localhost:8080/"
        },
        "id": "fKB8MCD_GCVI",
        "outputId": "757d176a-e11a-4b2c-b900-4f44d63328ca"
      },
      "source": [
        "### ESTIMATED GP CBM GRADIENTS\n",
        "\n",
        "np.random.seed(run_num_7)\n",
        "surrogate_approx_7 = GaussianProcess(cov_func, optimize=opt)\n",
        "\n",
        "approx_7 = GPGO_multi(surrogate_approx_7, Acquisition_new(util_grad_approx), objfunc, param)\n",
        "approx_7.run(init_evals=n_init, max_iter=iters)\n"
      ],
      "execution_count": 19,
      "outputs": [
        {
          "output_type": "stream",
          "name": "stdout",
          "text": [
            "Evaluation \t Proposed point \t  Current eval. \t  Best eval. \t         Max AcqFunc.\n",
            "init\t [-3.85537566 11.69878188]\t -8.299317850233932\t -5.211335324193094\t    \n",
            "init\t [ 1.57613847 10.85197767]\t -59.50408380701259\t -5.211335324193094\t    \n",
            "init\t [9.66984268 8.07743806]\t -29.714921414987273\t -5.211335324193094\t    \n",
            "init\t [2.51680695 1.080767  ]\t -5.211335324193094\t -5.211335324193094\t    \n",
            "init\t [-0.9734153   7.49823751]\t -15.431057204948033\t -5.211335324193094\t    \n",
            "1  \t [-4.97859679  1.38393519]\t -260.3293952774437\t -5.211335324193094\t -2.8473770512168253\n",
            "2  \t [ 8.70402646 15.        ]\t -173.5025357042583\t -5.211335324193094\t -2.8473770508509366\n",
            "3  \t [10.  0.]\t -10.960889035651505\t -5.211335324193094\t -2.847377051215724\n",
            "4  \t [-3.39684884  5.54228873]\t -54.79871094423047\t -5.211335324193094\t -2.8473770512168253\n",
            "5  \t [4.57368472 5.89737599]\t -28.691444366574665\t -5.211335324193094\t -2.8473690104680456\n",
            "6  \t [-0.88738335 15.        ]\t -72.10277514017764\t -5.211335324193094\t -2.846896270970343\n",
            "7  \t [ 3.85002788 15.        ]\t -177.28231517139972\t -5.211335324193094\t -2.8458192320367726\n",
            "8  \t [ 6.160441   10.64004703]\t -110.5797824529793\t -5.211335324193094\t -2.844637700094158\n",
            "9  \t [8.49310383 3.79925042]\t -8.26444090768174\t -5.211335324193094\t -2.844563419840389\n",
            "10 \t [6.06153452 0.        ]\t -20.57564677097819\t -5.211335324193094\t -2.842156743573343\n",
            "11 \t [-0.72229512  0.        ]\t -69.28896039120097\t -5.211335324193094\t -2.833916305361064\n",
            "12 \t [-5. 15.]\t -17.508299515778166\t -5.211335324193094\t -2.830449717637479\n",
            "13 \t [0.81128614 4.14171056]\t -17.036945095054683\t -5.211335324193094\t -2.830271751855831\n",
            "14 \t [-5.          8.85109285]\t -82.21710430763227\t -5.211335324193094\t -2.7774032835121942\n",
            "15 \t [10.         11.40022214]\t -72.45720915453313\t -5.211335324193094\t -2.707487659958366\n",
            "16 \t [2.01349296 7.84280519]\t -26.350032164730845\t -5.211335324193094\t -2.8473756447440115\n",
            "17 \t [4.7906938  2.78142126]\t -12.828083667641682\t -5.211335324193094\t -2.5935701688166097\n",
            "18 \t [-1.66534651 10.49543667]\t -11.303681342671423\t -5.211335324193094\t -2.418045395411714\n",
            "19 \t [7.46226589 6.17272665]\t -37.24268629048416\t -5.211335324193094\t -2.277187784486104\n",
            "20 \t [-1.60605131  3.04256869]\t -43.846150096194584\t -5.211335324193094\t -2.014043194432961\n"
          ]
        }
      ]
    },
    {
      "cell_type": "code",
      "metadata": {
        "colab": {
          "base_uri": "https://localhost:8080/"
        },
        "id": "4unvifF-GCXp",
        "outputId": "0a755634-fcf7-43ac-ae6f-246cb4894abb"
      },
      "source": [
        "### ESTIMATED GP CBM GRADIENTS\n",
        "\n",
        "np.random.seed(run_num_8)\n",
        "surrogate_approx_8 = GaussianProcess(cov_func, optimize=opt)\n",
        "\n",
        "approx_8 = GPGO_multi(surrogate_approx_8, Acquisition_new(util_grad_approx), objfunc, param)\n",
        "approx_8.run(init_evals=n_init, max_iter=iters)\n"
      ],
      "execution_count": 20,
      "outputs": [
        {
          "output_type": "stream",
          "name": "stdout",
          "text": [
            "Evaluation \t Proposed point \t  Current eval. \t  Best eval. \t         Max AcqFunc.\n",
            "init\t [ 8.10144104 14.52810994]\t -175.17297136347514\t -15.416245468470875\t    \n",
            "init\t [8.0379181  7.96283537]\t -49.32173799887473\t -15.416245468470875\t    \n",
            "init\t [-1.50907508  0.17098206]\t -83.26753461673219\t -15.416245468470875\t    \n",
            "init\t [1.45703227 6.0352704 ]\t -15.416245468470875\t -15.416245468470875\t    \n",
            "init\t [2.84012007 7.17587694]\t -22.49093277852639\t -15.416245468470875\t    \n",
            "1  \t [-5. 15.]\t -17.508299515778166\t -15.416245468470875\t -2.8473770512168253\n",
            "2  \t [5.85370643 0.        ]\t -19.962526235744473\t -15.416245468470875\t -2.8473770511414385\n",
            "3  \t [-5.          8.29302276]\t -91.83298920420266\t -15.416245468470875\t -2.847377049263821\n",
            "4  \t [ 1.60764803 12.7356586 ]\t -89.93550276313384\t -15.416245468470875\t -2.847376077457441\n",
            "\u001b[1m\u001b[92m5\u001b[0m\t \u001b[1m\u001b[92m[10.          2.96068055]\u001b[0m\t \u001b[1m\u001b[92m-1.944927928026269\u001b[0m\t \u001b[1m\u001b[92m-1.944927928026269\u001b[0m\t \u001b[1m\u001b[92m-2.847340740132387\u001b[0m\n",
            "6  \t [-5.          3.41984367]\t -202.26825886390554\t -1.944927928026269\t -2.846577119154717\n",
            "7  \t [5.85553098 4.11676862]\t -27.7779322381497\t -1.944927928026269\t -2.842692530776343\n",
            "8  \t [2.31409265 2.06269467]\t -4.397175836955418\t -1.944927928026269\t -2.83552767732522\n",
            "9  \t [-2.59547677 11.86928912]\t -2.5483167241742626\t -1.944927928026269\t -2.834995975092075\n",
            "10 \t [10.  0.]\t -10.960889035651505\t -1.944927928026269\t -2.8333461268688986\n",
            "11 \t [ 5.35597511 10.93534249]\t -110.89842120016122\t -1.944927928026269\t -2.8277483709053355\n",
            "12 \t [-0.78387739  9.06675452]\t -19.826925876720274\t -1.944927928026269\t -2.826813910032714\n",
            "13 \t [-1.5293813 15.       ]\t -49.63212939578273\t -1.944927928026269\t -2.795623386494958\n",
            "14 \t [10.         11.01213027]\t -66.0900034596637\t -1.944927928026269\t -2.781935378712308\n",
            "15 \t [-0.99894796  4.06553154]\t -28.542823110956178\t -1.944927928026269\t -2.753247183629555\n",
            "16 \t [ 4.31706772 15.        ]\t -187.5600824342663\t -1.944927928026269\t -2.690007251544185\n",
            "17 \t [10.          5.15726331]\t -6.584178040479915\t -1.944927928026269\t -2.689212231461231\n",
            "18 \t [-5.         11.91958232]\t -40.473236750346274\t -1.944927928026269\t -2.639617337470675\n",
            "19 \t [-5.  0.]\t -308.12909601160663\t -1.944927928026269\t -2.4628056257067534\n",
            "20 \t [2.43828539 0.        ]\t -11.013364449284555\t -1.944927928026269\t -2.5381450138165214\n"
          ]
        }
      ]
    },
    {
      "cell_type": "code",
      "metadata": {
        "colab": {
          "base_uri": "https://localhost:8080/"
        },
        "id": "85OIXcg7GCaJ",
        "outputId": "1255d11d-a0f5-48ca-867c-7a2d537c1c19"
      },
      "source": [
        "### ESTIMATED GP CBM GRADIENTS\n",
        "\n",
        "np.random.seed(run_num_9)\n",
        "surrogate_approx_9 = GaussianProcess(cov_func, optimize=opt)\n",
        "\n",
        "approx_9 = GPGO_multi(surrogate_approx_9, Acquisition_new(util_grad_approx), objfunc, param)\n",
        "approx_9.run(init_evals=n_init, max_iter=iters)\n"
      ],
      "execution_count": 21,
      "outputs": [
        {
          "output_type": "stream",
          "name": "stdout",
          "text": [
            "Evaluation \t Proposed point \t  Current eval. \t  Best eval. \t         Max AcqFunc.\n",
            "init\t [-4.84438769  7.52811888]\t -96.15564306553264\t -3.4640248583909496\t    \n",
            "init\t [2.4365994  2.00744293]\t -3.4640248583909496\t -3.4640248583909496\t    \n",
            "init\t [-2.86833372  3.27838013]\t -70.46930174488207\t -3.4640248583909496\t    \n",
            "init\t [1.27762271 3.72151753]\t -12.982825924833865\t -3.4640248583909496\t    \n",
            "init\t [-3.73910523  5.1824796 ]\t -75.58547400560856\t -3.4640248583909496\t    \n",
            "1  \t [ 7.05609655 14.75038872]\t -200.4388688685465\t -3.4640248583909496\t -2.8473770512168253\n",
            "2  \t [10.  0.]\t -10.960889035651505\t -3.4640248583909496\t -2.847377051216757\n",
            "3  \t [-1.80690587 15.        ]\t -40.27172713578756\t -3.4640248583909496\t -2.8473770512164696\n",
            "4  \t [3.43036515 8.84763891]\t -46.859765164237196\t -3.4640248583909496\t -2.847375804397941\n",
            "5  \t [9.37190346 7.21625023]\t -23.312219561078063\t -3.4640248583909496\t -2.8473769174879133\n",
            "6  \t [6.56809544 3.27574489]\t -23.864175113609654\t -3.4640248583909496\t -2.8470848008187497\n",
            "7  \t [-0.96929033 10.42137719]\t -23.03656811452561\t -3.4640248583909496\t -2.8461572036332656\n",
            "8  \t [ 2.41814478 13.47871062]\t -114.56825090735167\t -3.4640248583909496\t -2.844927209808027\n",
            "9  \t [-5.         12.15681842]\t -38.03010368782678\t -3.4640248583909496\t -2.8434145351983275\n",
            "10 \t [10.         11.26672851]\t -70.23306680733438\t -3.4640248583909496\t -2.8417109453819265\n",
            "11 \t [-0.29887337  0.        ]\t -61.26034875475541\t -3.4640248583909496\t -2.835587572238041\n",
            "12 \t [-5.  0.]\t -308.12909601160663\t -3.4640248583909496\t -2.8309639836245\n",
            "13 \t [4.86772788 0.        ]\t -13.211577338520216\t -3.4640248583909496\t -2.825077443808641\n",
            "14 \t [-0.04949577  6.90606692]\t -20.27424171064481\t -3.4640248583909496\t -2.796644104551174\n",
            "\u001b[1m\u001b[92m15\u001b[0m\t \u001b[1m\u001b[92m[10.          3.55919687]\u001b[0m\t \u001b[1m\u001b[92m-2.2525438944736456\u001b[0m\t \u001b[1m\u001b[92m-2.2525438944736456\u001b[0m\t \u001b[1m\u001b[92m-2.793978876217235\u001b[0m\n",
            "16 \t [ 6.38943185 10.66167279]\t -110.88101676962627\t -2.2525438944736456\t -2.7279016540671868\n",
            "17 \t [4.04014567 5.39218307]\t -17.811361914010305\t -2.2525438944736456\t -2.709003096289641\n",
            "18 \t [6.46757846 6.88954811]\t -52.83948506410663\t -2.2525438944736456\t -2.436864237354744\n",
            "19 \t [-5. 15.]\t -17.508299515778166\t -2.2525438944736456\t -2.390300377544247\n",
            "20 \t [7.4893381 0.       ]\t -15.183424360441197\t -2.2525438944736456\t -2.363422668136993\n"
          ]
        }
      ]
    },
    {
      "cell_type": "code",
      "metadata": {
        "colab": {
          "base_uri": "https://localhost:8080/"
        },
        "id": "QQBR-qJPGCcp",
        "outputId": "91761f66-7abf-4202-a5b2-b493b41c2f63"
      },
      "source": [
        "### ESTIMATED GP CBM GRADIENTS\n",
        "\n",
        "np.random.seed(run_num_10)\n",
        "surrogate_approx_10 = GaussianProcess(cov_func, optimize=opt)\n",
        "\n",
        "approx_10 = GPGO_multi(surrogate_approx_10, Acquisition_new(util_grad_approx), objfunc, param)\n",
        "approx_10.run(init_evals=n_init, max_iter=iters)\n"
      ],
      "execution_count": 22,
      "outputs": [
        {
          "output_type": "stream",
          "name": "stdout",
          "text": [
            "Evaluation \t Proposed point \t  Current eval. \t  Best eval. \t         Max AcqFunc.\n",
            "init\t [6.56980965 0.31127924]\t -19.863985024602144\t -2.710610964564512\t    \n",
            "init\t [ 4.50472352 11.23205824]\t -103.66999147252169\t -2.710610964564512\t    \n",
            "init\t [2.47760518 3.37194968]\t -2.710610964564512\t -2.710610964564512\t    \n",
            "init\t [-2.02905703 11.40796068]\t -8.463930835255017\t -2.710610964564512\t    \n",
            "init\t [-2.46333745  1.32509721]\t -90.49481266026973\t -2.710610964564512\t    \n",
            "1  \t [ 9.16391068 14.81438212]\t -158.2412724465548\t -2.710610964564512\t -2.8473770512166174\n",
            "2  \t [9.65621089 6.61160737]\t -16.1339423373336\t -2.710610964564512\t -2.8473770512168253\n",
            "3  \t [-3.43070383  6.59407857]\t -41.58407101130534\t -2.710610964564512\t -2.8473770503508353\n",
            "4  \t [-5. 15.]\t -17.508299515778166\t -2.710610964564512\t -2.8473758493306116\n",
            "5  \t [ 0.92489393 15.        ]\t -123.14050887243366\t -2.710610964564512\t -2.847221120847047\n",
            "6  \t [1.30826136 7.43227029]\t -23.338037089038178\t -2.710610964564512\t -2.8467672700098827\n",
            "7  \t [5.49117201 5.83983278]\t -38.68458519874011\t -2.710610964564512\t -2.8451273809189632\n",
            "\u001b[1m\u001b[92m8\u001b[0m\t \u001b[1m\u001b[92m[10.          2.46598834]\u001b[0m\t \u001b[1m\u001b[92m-2.2314755828908606\u001b[0m\t \u001b[1m\u001b[92m-2.2314755828908606\u001b[0m\t \u001b[1m\u001b[92m-2.843249405411772\u001b[0m\n",
            "9  \t [2.04094225 0.        ]\t -16.473202224472306\t -2.2314755828908606\t -2.8421352106827644\n",
            "10 \t [10.         10.45460586]\t -57.47021727382362\t -2.2314755828908606\t -2.8384861768141834\n",
            "11 \t [-5.         10.22156604]\t -61.246040116644465\t -2.2314755828908606\t -2.813479515663879\n",
            "12 \t [ 5.05864584 15.        ]\t -202.19110932261793\t -2.2314755828908606\t -2.7816250693284172\n",
            "13 \t [10.  0.]\t -10.960889035651505\t -2.2314755828908606\t -2.767069361329313\n",
            "14 \t [7.92128968 3.43651945]\t -13.10896691877538\t -2.2314755828908606\t -2.6753470401105575\n",
            "15 \t [ 0.78122642 10.84692011]\t -52.95536397016297\t -2.2314755828908606\t -2.6913871553633157\n",
            "16 \t [-0.21751829  4.37730203]\t -23.276479018011294\t -2.2314755828908606\t -2.7470632756408064\n",
            "17 \t [-5.          3.69147738]\t -194.8626008364452\t -2.2314755828908606\t -2.6472008988609614\n",
            "18 \t [7.0840316  8.68884982]\t -72.6419794630983\t -2.2314755828908606\t -2.5599883019669583\n",
            "19 \t [4.4710603  2.50539867]\t -8.784402046882061\t -2.2314755828908606\t -2.5550468716093\n",
            "20 \t [-2.42931955 14.00615835]\t -14.139077421792367\t -2.2314755828908606\t -2.3895218741600535\n"
          ]
        }
      ]
    },
    {
      "cell_type": "code",
      "metadata": {
        "colab": {
          "base_uri": "https://localhost:8080/"
        },
        "id": "JS8ejeQ2GCfi",
        "outputId": "a3d7a500-8c38-42e2-f945-1716d9c58940"
      },
      "source": [
        "### ESTIMATED GP CBM GRADIENTS\n",
        "\n",
        "np.random.seed(run_num_11)\n",
        "surrogate_approx_11 = GaussianProcess(cov_func, optimize=opt)\n",
        "\n",
        "approx_11 = GPGO_multi(surrogate_approx_11, Acquisition_new(util_grad_approx), objfunc, param)\n",
        "approx_11.run(init_evals=n_init, max_iter=iters)\n"
      ],
      "execution_count": 23,
      "outputs": [
        {
          "output_type": "stream",
          "name": "stdout",
          "text": [
            "Evaluation \t Proposed point \t  Current eval. \t  Best eval. \t         Max AcqFunc.\n",
            "init\t [-2.29595467  0.29212862]\t -104.49282729548965\t -22.37435843952312\t    \n",
            "init\t [ 1.9482779  10.87400894]\t -62.47758067812407\t -22.37435843952312\t    \n",
            "init\t [1.30305407 7.28140647]\t -22.37435843952312\t -22.37435843952312\t    \n",
            "init\t [-4.80828778  7.31057411]\t -97.94503054415523\t -22.37435843952312\t    \n",
            "init\t [ 9.12709979 12.76192634]\t -111.62900800771942\t -22.37435843952312\t    \n",
            "\u001b[1m\u001b[92m1\u001b[0m\t \u001b[1m\u001b[92m[6.94653631 0.95529646]\u001b[0m\t \u001b[1m\u001b[92m-17.615403152614682\u001b[0m\t \u001b[1m\u001b[92m-17.615403152614682\u001b[0m\t \u001b[1m\u001b[92m-2.8473770512168226\u001b[0m\n",
            "\u001b[1m\u001b[92m2\u001b[0m\t \u001b[1m\u001b[92m[9.97354527 6.82177788]\u001b[0m\t \u001b[1m\u001b[92m-16.591636306719263\u001b[0m\t \u001b[1m\u001b[92m-16.591636306719263\u001b[0m\t \u001b[1m\u001b[92m-2.847376198908649\u001b[0m\n",
            "3  \t [-5. 15.]\t -17.508299515778166\t -16.591636306719263\t -2.8473770512096586\n",
            "\u001b[1m\u001b[92m4\u001b[0m\t \u001b[1m\u001b[92m[2.40807019 2.49005727]\u001b[0m\t \u001b[1m\u001b[92m-3.0492497293932592\u001b[0m\t \u001b[1m\u001b[92m-3.0492497293932592\u001b[0m\t \u001b[1m\u001b[92m-2.8471498254473793\u001b[0m\n",
            "5  \t [ 4.54221227 15.        ]\t -192.3521262626726\t -3.0492497293932592\t -2.8470355861173093\n",
            "6  \t [5.60664481 5.5314235 ]\t -36.79292392122641\t -3.0492497293932592\t -2.8466949608421976\n",
            "7  \t [-0.54242919 15.        ]\t -83.81253376364037\t -3.0492497293932592\t -2.8464366360249747\n",
            "\u001b[1m\u001b[92m8\u001b[0m\t \u001b[1m\u001b[92m[-2.8095832  11.22748833]\u001b[0m\t \u001b[1m\u001b[92m-0.991884226559316\u001b[0m\t \u001b[1m\u001b[92m-0.991884226559316\u001b[0m\t \u001b[1m\u001b[92m-2.8406724807357717\u001b[0m\n",
            "9  \t [6.09902289 9.61712857]\t -92.0064442111922\t -0.991884226559316\t -2.8367684361763335\n",
            "10 \t [-1.43282944  4.48387686]\t -27.818451514743288\t -0.991884226559316\t -2.8334285455054173\n",
            "11 \t [10.          2.99607123]\t -1.943188071230745\t -0.991884226559316\t -2.8314545005827383\n",
            "12 \t [-5.          3.20437227]\t -208.24769893551266\t -0.991884226559316\t -2.8068727420521697\n",
            "13 \t [10.  0.]\t -10.960889035651505\t -0.991884226559316\t -2.78376536725476\n",
            "14 \t [3.44198452 0.        ]\t -5.040183714423267\t -0.991884226559316\t -2.7949621080011284\n",
            "15 \t [-5.        11.4208771]\t -45.976079944331325\t -0.991884226559316\t -2.7762545318335223\n",
            "16 \t [-1.72248972 10.59735934]\t -10.71768642635217\t -0.991884226559316\t -2.909589912319938\n",
            "17 \t [1.148136 0.      ]\t -32.80012985157755\t -0.991884226559316\t -2.5027314683953925\n",
            "18 \t [8.39067416 3.94520377]\t -9.94961682022589\t -0.991884226559316\t -2.49275053179831\n",
            "19 \t [2.32300269 4.46112548]\t -5.574375850993203\t -0.991884226559316\t -2.4667310888722414\n",
            "20 \t [10.          9.50136129]\t -44.172404106420004\t -0.991884226559316\t -2.40856725268388\n"
          ]
        }
      ]
    },
    {
      "cell_type": "code",
      "metadata": {
        "colab": {
          "base_uri": "https://localhost:8080/"
        },
        "id": "DXwjUVZ4GCii",
        "outputId": "d464a617-7fe0-4233-efaa-dce67b0c987f"
      },
      "source": [
        "### ESTIMATED GP CBM GRADIENTS\n",
        "\n",
        "np.random.seed(run_num_12)\n",
        "surrogate_approx_12 = GaussianProcess(cov_func, optimize=opt)\n",
        "\n",
        "approx_12 = GPGO_multi(surrogate_approx_12, Acquisition_new(util_grad_approx), objfunc, param)\n",
        "approx_12.run(init_evals=n_init, max_iter=iters)\n"
      ],
      "execution_count": 24,
      "outputs": [
        {
          "output_type": "stream",
          "name": "stdout",
          "text": [
            "Evaluation \t Proposed point \t  Current eval. \t  Best eval. \t         Max AcqFunc.\n",
            "init\t [-2.68755736 11.10074545]\t -1.3827702760021356\t -0.5499315281120278\t    \n",
            "init\t [-1.05027477  8.0060909 ]\t -14.81231853080056\t -0.5499315281120278\t    \n",
            "init\t [-4.78137556 13.78120512]\t -18.401131000214548\t -0.5499315281120278\t    \n",
            "init\t [8.51072281 0.50132141]\t -5.855172364344769\t -0.5499315281120278\t    \n",
            "init\t [9.35424004 2.05813982]\t -0.5499315281120278\t -0.5499315281120278\t    \n",
            "1  \t [10.          4.60208124]\t -4.500340253848261\t -0.5499315281120278\t -2.8478240139278994\n",
            "2  \t [ 8.50155249 13.79797306]\t -148.00655208378976\t -0.5499315281120278\t -2.8473770512168253\n",
            "3  \t [-4.8799499   0.15657603]\t -290.0404981832191\t -0.5499315281120278\t -2.847377051216825\n",
            "4  \t [4.56965095 8.82974475]\t -63.4677424125194\t -0.5499315281120278\t -2.8473761780441262\n",
            "5  \t [2.38981509 3.30967373]\t -3.126798202388212\t -0.5499315281120278\t -2.847376014161961\n",
            "6  \t [ 1.56871034 14.06557454]\t -114.9667494156698\t -0.5499315281120278\t -2.8473756771737153\n",
            "7  \t [-5.         5.5537476]\t -148.064691027743\t -0.5499315281120278\t -2.847158988033869\n",
            "8  \t [10.          8.92973539]\t -37.06984740816321\t -0.5499315281120278\t -2.8469996558352224\n",
            "9  \t [0.25004611 0.        ]\t -50.77690122577614\t -0.5499315281120278\t -2.8464380879222477\n",
            "10 \t [6.09820667 4.21795574]\t -29.16910514174086\t -0.5499315281120278\t -2.844913270323862\n",
            "11 \t [-0.89659503  4.04199976]\t -28.166243150379785\t -0.5499315281120278\t -2.8302128317235726\n",
            "12 \t [4.67486824 0.        ]\t -11.552398727393253\t -0.5499315281120278\t -2.843107659149779\n",
            "13 \t [-5.          9.79953359]\t -67.30373358311977\t -0.5499315281120278\t -2.81444409029657\n",
            "14 \t [2.01406383 6.16552695]\t -13.98700142447343\t -0.5499315281120278\t -2.754027949840975\n",
            "15 \t [ 1.10436544 10.30078827]\t -49.13851522469138\t -0.5499315281120278\t -2.7245109652107597\n",
            "16 \t [ 4.95173362 12.44876758]\t -136.86960128401927\t -0.5499315281120278\t -2.6981144303601954\n",
            "17 \t [-1.98022064 15.        ]\t -34.71254633198264\t -0.5499315281120278\t -2.692418283305555\n",
            "18 \t [-1.80675174 11.8297205 ]\t -14.168760274542013\t -0.5499315281120278\t -2.3952703693989235\n",
            "19 \t [7.60560949 6.89843076]\t -42.94597677155483\t -0.5499315281120278\t -2.526392554153864\n",
            "20 \t [10.          2.37272062]\t -2.3403380640637144\t -0.5499315281120278\t -2.356193028774406\n"
          ]
        }
      ]
    },
    {
      "cell_type": "code",
      "metadata": {
        "colab": {
          "base_uri": "https://localhost:8080/"
        },
        "id": "CphOPndPGClX",
        "outputId": "50612111-14b8-4ceb-b1b4-f41acd443fb1"
      },
      "source": [
        "### ESTIMATED GP CBM GRADIENTS\n",
        "\n",
        "np.random.seed(run_num_13)\n",
        "surrogate_approx_13 = GaussianProcess(cov_func, optimize=opt)\n",
        "\n",
        "approx_13 = GPGO_multi(surrogate_approx_13, Acquisition_new(util_grad_approx), objfunc, param)\n",
        "approx_13.run(init_evals=n_init, max_iter=iters)\n"
      ],
      "execution_count": 25,
      "outputs": [
        {
          "output_type": "stream",
          "name": "stdout",
          "text": [
            "Evaluation \t Proposed point \t  Current eval. \t  Best eval. \t         Max AcqFunc.\n",
            "init\t [6.66553616 3.5631183 ]\t -24.823670200298267\t -18.038943061558626\t    \n",
            "init\t [ 7.36417799 14.48623797]\t -188.7803334745195\t -18.038943061558626\t    \n",
            "init\t [9.58901671 6.80173871]\t -18.038943061558626\t -18.038943061558626\t    \n",
            "init\t [ 4.13563694 11.63289772]\t -104.87319703906111\t -18.038943061558626\t    \n",
            "init\t [ 4.62420017 10.83027344]\t -98.03271225790056\t -18.038943061558626\t    \n",
            "1  \t [-5.         10.51946345]\t -57.184599140945984\t -18.038943061558626\t -2.8473770512168253\n",
            "2  \t [-3.36042638  1.3238031 ]\t -132.49290788011677\t -18.038943061558626\t -2.8473770512168253\n",
            "3  \t [-0.52937954  6.69565279]\t -18.32130064442849\t -18.038943061558626\t -2.847375509465239\n",
            "4  \t [-1.0750808 15.       ]\t -65.54187531088525\t -18.038943061558626\t -2.847376306524673\n",
            "\u001b[1m\u001b[92m5\u001b[0m\t \u001b[1m\u001b[92m[2.37016123 0.        ]\u001b[0m\t \u001b[1m\u001b[92m-11.8391983338604\u001b[0m\t \u001b[1m\u001b[92m-11.8391983338604\u001b[0m\t \u001b[1m\u001b[92m-2.8473728707581154\u001b[0m\n",
            "\u001b[1m\u001b[92m6\u001b[0m\t \u001b[1m\u001b[92m[10.  0.]\u001b[0m\t \u001b[1m\u001b[92m-10.960889035651505\u001b[0m\t \u001b[1m\u001b[92m-10.960889035651505\u001b[0m\t \u001b[1m\u001b[92m-2.847293378514678\u001b[0m\n",
            "7  \t [-5.          5.85333506]\t -141.1838748867405\t -10.960889035651505\t -2.8459426325870423\n",
            "8  \t [3.59278426 6.39317213]\t -21.10560893229995\t -10.960889035651505\t -2.8424174771891653\n",
            "9  \t [10.         10.78932306]\t -62.570643201070425\t -10.960889035651505\t -2.8412839257972484\n",
            "10 \t [-0.377526   10.70513048]\t -35.62023617710589\t -10.960889035651505\t -2.84013575210038\n",
            "11 \t [-5. 15.]\t -17.508299515778166\t -10.960889035651505\t -2.831324527982425\n",
            "12 \t [0.81374171 3.21958271]\t -19.06214247488379\t -10.960889035651505\t -2.8253963268254307\n",
            "13 \t [ 2.74350288 15.        ]\t -154.7617983931619\t -10.960889035651505\t -2.7685041452380195\n",
            "14 \t [6.09901036 0.        ]\t -20.64646378630232\t -10.960889035651505\t -2.8204997093499524\n",
            "\u001b[1m\u001b[92m15\u001b[0m\t \u001b[1m\u001b[92m[10.          3.30746271]\u001b[0m\t \u001b[1m\u001b[92m-2.0358646317013793\u001b[0m\t \u001b[1m\u001b[92m-2.0358646317013793\u001b[0m\t \u001b[1m\u001b[92m-2.7595480583416063\u001b[0m\n",
            "16 \t [6.62315475 7.73991298]\t -62.79965179413853\t -2.0358646317013793\t -2.6877618988196876\n",
            "17 \t [3.75886303 2.69960741]\t -2.903900911321185\t -2.0358646317013793\t -2.525932723400787\n",
            "18 \t [1.8414443  8.61563132]\t -33.5278233004446\t -2.0358646317013793\t -2.3019785207943237\n",
            "19 \t [-0.2005071  0.       ]\t -59.406645425007575\t -2.0358646317013793\t -2.4110766619790236\n",
            "20 \t [-2.57985698  8.49492096]\t -7.978562290886628\t -2.0358646317013793\t -2.1780229441415524\n"
          ]
        }
      ]
    },
    {
      "cell_type": "code",
      "metadata": {
        "colab": {
          "base_uri": "https://localhost:8080/"
        },
        "id": "ojHTeARNGCoi",
        "outputId": "d59efeb3-8d38-4950-eb1d-22e972cbf665"
      },
      "source": [
        "### ESTIMATED GP CBM GRADIENTS\n",
        "\n",
        "np.random.seed(run_num_14)\n",
        "surrogate_approx_14 = GaussianProcess(cov_func, optimize=opt)\n",
        "\n",
        "approx_14 = GPGO_multi(surrogate_approx_14, Acquisition_new(util_grad_approx), objfunc, param)\n",
        "approx_14.run(init_evals=n_init, max_iter=iters)\n"
      ],
      "execution_count": 26,
      "outputs": [
        {
          "output_type": "stream",
          "name": "stdout",
          "text": [
            "Evaluation \t Proposed point \t  Current eval. \t  Best eval. \t         Max AcqFunc.\n",
            "init\t [ 2.70915016 11.59747578]\t -81.58264375064097\t -1.4149920024014744\t    \n",
            "init\t [8.05641529 0.12070423]\t -10.148649076616518\t -1.4149920024014744\t    \n",
            "init\t [-0.35396112 14.36405609]\t -79.6056658956529\t -1.4149920024014744\t    \n",
            "init\t [2.69675068 4.77426637]\t -5.855607664288365\t -1.4149920024014744\t    \n",
            "init\t [3.08799906 3.31882414]\t -1.4149920024014744\t -1.4149920024014744\t    \n",
            "1  \t [-5.  0.]\t -308.12909601160663\t -1.4149920024014744\t -2.8473770512168253\n",
            "2  \t [-3.61083748  7.85924032]\t -32.481990179851884\t -1.4149920024014744\t -2.8473770509494076\n",
            "3  \t [ 9.80864634 15.        ]\t -149.50179513340765\t -1.4149920024014744\t -2.847377051215407\n",
            "4  \t [8.19772537 6.72053896]\t -32.63212233587686\t -1.4149920024014744\t -2.8473769310747072\n",
            "5  \t [-1.38326805  3.62221139]\t -35.085366370323804\t -1.4149920024014744\t -2.846518624005215\n",
            "6  \t [1.7550873 0.       ]\t -21.23372345057521\t -1.4149920024014744\t -2.8467687756668116\n",
            "7  \t [-5.        12.6430554]\t -33.37445946807843\t -1.4149920024014744\t -2.847124679982247\n",
            "8  \t [ 7.31826326 10.99979341]\t -109.54401566188571\t -1.4149920024014744\t -2.844247697714269\n",
            "9  \t [0.54918229 7.79301389]\t -25.0970602546776\t -1.4149920024014744\t -2.83822339566232\n",
            "10 \t [ 5.21989342 15.        ]\t -204.7697847839964\t -1.4149920024014744\t -2.837997387405907\n",
            "11 \t [10.          3.18160833]\t -1.975057102985165\t -1.4149920024014744\t -2.834153934530104\n",
            "12 \t [6.03733804 3.21303614]\t -23.77838702383294\t -1.4149920024014744\t -2.831788993247037\n",
            "13 \t [4.45680466 7.72207503]\t -46.62615925446548\t -1.4149920024014744\t -2.815101677614832\n",
            "14 \t [-1.55918761 10.77812353]\t -14.04194371902221\t -1.4149920024014744\t -2.7614844068284183\n",
            "15 \t [4.9924161 0.       ]\t -14.27729619331163\t -1.4149920024014744\t -2.705491270924967\n",
            "16 \t [-5.          4.40881127]\t -176.01506102000764\t -1.4149920024014744\t -2.8034464740893785\n",
            "17 \t [-1.18612324  0.        ]\t -78.72043620751079\t -1.4149920024014744\t -2.575890387384463\n",
            "18 \t [10.          1.43597407]\t -4.398574913915114\t -1.4149920024014744\t -2.296635773813985\n",
            "19 \t [10.          9.08782272]\t -38.968736320561185\t -1.4149920024014744\t -2.410710144668928\n",
            "20 \t [-3.59912644 15.        ]\t -3.940378036193122\t -1.4149920024014744\t -2.290162454482863\n"
          ]
        }
      ]
    },
    {
      "cell_type": "code",
      "metadata": {
        "colab": {
          "base_uri": "https://localhost:8080/"
        },
        "id": "vCJzn4vWGCs3",
        "outputId": "e4ea892b-6a2d-4307-e788-415cd4cc8526"
      },
      "source": [
        "### ESTIMATED GP CBM GRADIENTS\n",
        "\n",
        "np.random.seed(run_num_15)\n",
        "surrogate_approx_15 = GaussianProcess(cov_func, optimize=opt)\n",
        "\n",
        "approx_15 = GPGO_multi(surrogate_approx_15, Acquisition_new(util_grad_approx), objfunc, param)\n",
        "approx_15.run(init_evals=n_init, max_iter=iters)\n"
      ],
      "execution_count": 27,
      "outputs": [
        {
          "output_type": "stream",
          "name": "stdout",
          "text": [
            "Evaluation \t Proposed point \t  Current eval. \t  Best eval. \t         Max AcqFunc.\n",
            "init\t [7.73226546 2.68343887]\t -12.768724532005583\t -12.768724532005583\t    \n",
            "init\t [-4.18455179  5.42307669]\t -95.39334176626551\t -12.768724532005583\t    \n",
            "init\t [-0.86898607  7.95000337]\t -16.419487782111716\t -12.768724532005583\t    \n",
            "init\t [-0.41121626  4.56711539]\t -23.250362743740954\t -12.768724532005583\t    \n",
            "init\t [-3.32388086  3.74848521]\t -80.99796277938532\t -12.768724532005583\t    \n",
            "1  \t [ 6.5655417  11.87699252]\t -134.95011349993544\t -12.768724532005583\t -2.8473770512168217\n",
            "2  \t [-4.77493765 13.49591113]\t -19.896906503438096\t -12.768724532005583\t -2.8473770503818865\n",
            "3  \t [ 0.71010374 15.        ]\t -118.58594019355895\t -12.768724532005583\t -2.8473760919506104\n",
            "\u001b[1m\u001b[92m4\u001b[0m\t \u001b[1m\u001b[92m[2.88491581 0.        ]\u001b[0m\t \u001b[1m\u001b[92m-6.881143164645278\u001b[0m\t \u001b[1m\u001b[92m-6.881143164645278\u001b[0m\t \u001b[1m\u001b[92m-2.8473741981905034\u001b[0m\n",
            "5  \t [10.          7.39120702]\t -21.199882361694122\t -6.881143164645278\t -2.847361627139609\n",
            "6  \t [4.43794958 6.687894  ]\t -34.50821074360853\t -6.881143164645278\t -2.847343968148904\n",
            "7  \t [10. 15.]\t -145.87219087939556\t -6.881143164645278\t -2.8459648161792908\n",
            "8  \t [ 2.15402106 10.62148151]\t -60.219227562392774\t -6.881143164645278\t -2.8411688083203144\n",
            "9  \t [-1.06508551  0.        ]\t -76.14355481477831\t -6.881143164645278\t -2.8431554196148\n",
            "10 \t [-5.          9.62123854]\t -69.96994844965977\t -6.881143164645278\t -2.8368880052820655\n",
            "11 \t [10.  0.]\t -10.960889035651505\t -6.881143164645278\t -2.8340476536513255\n",
            "12 \t [-5.  0.]\t -308.12909601160663\t -6.881143164645278\t -2.8228340153681977\n",
            "\u001b[1m\u001b[92m13\u001b[0m\t \u001b[1m\u001b[92m[3.81940242 3.03938151]\u001b[0m\t \u001b[1m\u001b[92m-4.042288574091694\u001b[0m\t \u001b[1m\u001b[92m-4.042288574091694\u001b[0m\t \u001b[1m\u001b[92m-2.803853042213698\u001b[0m\n",
            "14 \t [-1.62541802 11.64426726]\t -16.852600150835283\t -4.042288574091694\t -2.7848943548188836\n",
            "15 \t [6.03799971 0.        ]\t -20.52485086405617\t -4.042288574091694\t -2.7782937737586617\n",
            "16 \t [ 4.5601194 15.       ]\t -192.72381945200559\t -4.042288574091694\t -2.742542123024173\n",
            "17 \t [10.         10.71317169]\t -61.390557315143916\t -4.042288574091694\t -2.7033128613018858\n",
            "18 \t [7.5148461  5.59226801]\t -31.317183169876028\t -4.042288574091694\t -2.5785568019445195\n",
            "\u001b[1m\u001b[92m19\u001b[0m\t \u001b[1m\u001b[92m[10.          3.77980052]\u001b[0m\t \u001b[1m\u001b[92m-2.5466271288448024\u001b[0m\t \u001b[1m\u001b[92m-2.5466271288448024\u001b[0m\t \u001b[1m\u001b[92m-2.4288428122958376\u001b[0m\n",
            "20 \t [1.61434791 2.35492223]\t -11.57691337828341\t -2.5466271288448024\t -2.419573000470256\n"
          ]
        }
      ]
    },
    {
      "cell_type": "code",
      "metadata": {
        "colab": {
          "base_uri": "https://localhost:8080/"
        },
        "id": "bGGkhp-kGCw6",
        "outputId": "7b2a6cda-70d8-4606-99f9-eec40f6a1c1f"
      },
      "source": [
        "### ESTIMATED GP CBM GRADIENTS\n",
        "\n",
        "np.random.seed(run_num_16)\n",
        "surrogate_approx_16 = GaussianProcess(cov_func, optimize=opt)\n",
        "\n",
        "approx_16 = GPGO_multi(surrogate_approx_16, Acquisition_new(util_grad_approx), objfunc, param)\n",
        "approx_16.run(init_evals=n_init, max_iter=iters)\n"
      ],
      "execution_count": 28,
      "outputs": [
        {
          "output_type": "stream",
          "name": "stdout",
          "text": [
            "Evaluation \t Proposed point \t  Current eval. \t  Best eval. \t         Max AcqFunc.\n",
            "init\t [-1.65063381  7.84745012]\t -10.514702126319445\t -2.715864006988424\t    \n",
            "init\t [3.26052185 0.68402925]\t -2.715864006988424\t -2.715864006988424\t    \n",
            "init\t [0.41093253 3.34621413]\t -22.889515127492515\t -2.715864006988424\t    \n",
            "init\t [5.33089243 2.45597138]\t -17.178157611778595\t -2.715864006988424\t    \n",
            "init\t [-3.945127  14.1151629]\t -3.3649224341694195\t -2.715864006988424\t    \n",
            "1  \t [ 5.63879248 14.58068289]\t -198.51319639462758\t -2.715864006988424\t -2.8473770512168253\n",
            "2  \t [-5.  0.]\t -308.12909601160663\t -2.715864006988424\t -2.847377032618006\n",
            "3  \t [10.          6.95575223]\t -17.567733903384873\t -2.715864006988424\t -2.8473770448717395\n",
            "4  \t [4.53433465 8.53854217]\t -58.69656742138316\t -2.715864006988424\t -2.8473755144716546\n",
            "5  \t [10.  0.]\t -10.960889035651505\t -2.715864006988424\t -2.8473692981066963\n",
            "6  \t [ 0.51031474 12.44773389]\t -70.59787620725493\t -2.715864006988424\t -2.8473194967007354\n",
            "7  \t [10.         11.76751916]\t -78.76069736358895\t -2.715864006988424\t -2.8471539344307164\n",
            "8  \t [-5.          5.15162115]\t -157.5827630037354\t -2.715864006988424\t -2.84660122154998\n",
            "9  \t [-5.        10.3287768]\t -59.76391813251671\t -2.715864006988424\t -2.8456276150311677\n",
            "\u001b[1m\u001b[92m10\u001b[0m\t \u001b[1m\u001b[92m[9.04859189 3.42636458]\u001b[0m\t \u001b[1m\u001b[92m-2.6328484200030067\u001b[0m\t \u001b[1m\u001b[92m-2.6328484200030067\u001b[0m\t \u001b[1m\u001b[92m-2.8211769305591847\u001b[0m\n",
            "11 \t [-0.50697267  0.        ]\t -65.18097253271553\t -2.6328484200030067\t -2.8123765283120616\n",
            "12 \t [6.81927044 5.53712587]\t -37.46520502153988\t -2.6328484200030067\t -2.766792682701055\n",
            "13 \t [1.37549129 6.66504252]\t -18.67444990254002\t -2.6328484200030067\t -2.7569469871646186\n",
            "14 \t [6.99035224 0.        ]\t -18.708816459674345\t -2.6328484200030067\t -2.6811208682814285\n",
            "15 \t [-1.76225063 15.        ]\t -41.744497193623424\t -2.6328484200030067\t -2.6388422567015994\n",
            "16 \t [10. 15.]\t -145.87219087939556\t -2.6328484200030067\t -2.6286390721427986\n",
            "17 \t [7.8015498  9.14007198]\t -69.69955379302402\t -2.6328484200030067\t -2.5293776970980555\n",
            "18 \t [3.48288099 4.66759912]\t -7.940893002097255\t -2.6328484200030067\t -2.475337533309644\n",
            "19 \t [ 3.68920247 11.57440018]\t -95.65389675605515\t -2.6328484200030067\t -2.3271034397370878\n",
            "20 \t [-5. 15.]\t -17.508299515778166\t -2.6328484200030067\t -2.292373423164624\n"
          ]
        }
      ]
    },
    {
      "cell_type": "code",
      "metadata": {
        "id": "Yrs2mp7hGC1Z",
        "colab": {
          "base_uri": "https://localhost:8080/"
        },
        "outputId": "748a7251-0342-4d26-b024-32123109f449"
      },
      "source": [
        "### ESTIMATED GP CBM GRADIENTS\n",
        "\n",
        "np.random.seed(run_num_17)\n",
        "surrogate_approx_17 = GaussianProcess(cov_func, optimize=opt)\n",
        "\n",
        "approx_17 = GPGO_multi(surrogate_approx_17, Acquisition_new(util_grad_approx), objfunc, param)\n",
        "approx_17.run(init_evals=n_init, max_iter=iters)\n"
      ],
      "execution_count": 29,
      "outputs": [
        {
          "output_type": "stream",
          "name": "stdout",
          "text": [
            "Evaluation \t Proposed point \t  Current eval. \t  Best eval. \t         Max AcqFunc.\n",
            "init\t [-0.58002496  7.95880133]\t -19.016141117164256\t -19.016141117164256\t    \n",
            "init\t [-2.1271882   1.01850537]\t -85.05949339404415\t -19.016141117164256\t    \n",
            "init\t [6.8047819  9.84500283]\t -93.89792695202516\t -19.016141117164256\t    \n",
            "init\t [4.56281344 8.63404341]\t -60.50217141122736\t -19.016141117164256\t    \n",
            "init\t [-4.41405626  5.36720407]\t -110.70834086593878\t -19.016141117164256\t    \n",
            "\u001b[1m\u001b[92m1\u001b[0m\t \u001b[1m\u001b[92m[10.  0.]\u001b[0m\t \u001b[1m\u001b[92m-10.960889035651505\u001b[0m\t \u001b[1m\u001b[92m-10.960889035651505\u001b[0m\t \u001b[1m\u001b[92m-2.8473770512168253\u001b[0m\n",
            "2  \t [-0.36591853 14.49945231]\t -81.3728947682288\t -10.960889035651505\t -2.8473770464414754\n",
            "\u001b[1m\u001b[92m3\u001b[0m\t \u001b[1m\u001b[92m[3.74599703 2.35814314]\u001b[0m\t \u001b[1m\u001b[92m-2.3563457989420957\u001b[0m\t \u001b[1m\u001b[92m-2.3563457989420957\u001b[0m\t \u001b[1m\u001b[92m-2.847376430525541\u001b[0m\n",
            "4  \t [10. 15.]\t -145.87219087939556\t -2.3563457989420957\t -2.847376573803581\n",
            "5  \t [-5.         11.22319518]\t -48.29501682409004\t -2.3563457989420957\t -2.847368617038573\n",
            "6  \t [10.          5.23911523]\t -6.943546076241257\t -2.3563457989420957\t -2.847364049010961\n",
            "7  \t [ 4.74100093 15.        ]\t -196.37464685201172\t -2.3563457989420957\t -2.8472177291905685\n",
            "8  \t [7.11032096 2.78525717]\t -18.96711896340353\t -2.3563457989420957\t -2.8392550244139776\n",
            "9  \t [0.96992678 4.29387183]\t -15.509290423414221\t -2.3563457989420957\t -2.838454921718824\n",
            "10 \t [-5. 15.]\t -17.508299515778166\t -2.3563457989420957\t -2.8273029751266283\n",
            "11 \t [ 1.56702356 11.08010094]\t -62.69847158601568\t -2.3563457989420957\t -2.8050480836172462\n",
            "12 \t [1.95078691 0.        ]\t -17.909195310667165\t -2.3563457989420957\t -2.8264151309765584\n",
            "13 \t [4.44872339 4.98402116]\t -19.801274300774082\t -2.3563457989420957\t -2.743782204031327\n",
            "14 \t [10.          8.21937708]\t -29.1541832463897\t -2.3563457989420957\t -2.731373648538666\n",
            "15 \t [5.48123101 0.        ]\t -18.01631687133967\t -2.3563457989420957\t -2.7641926471177736\n",
            "16 \t [10.         11.40932122]\t -72.61010667417952\t -2.3563457989420957\t -2.559307032070544\n",
            "17 \t [-5.  0.]\t -308.12909601160663\t -2.3563457989420957\t -2.4387231514054983\n",
            "18 \t [-1.80646162 10.96306351]\t -10.534966560430888\t -2.3563457989420957\t -2.522985620979864\n",
            "19 \t [7.36520934 6.08055748]\t -37.499371155530305\t -2.3563457989420957\t -2.555684805869716\n",
            "\u001b[1m\u001b[92m20\u001b[0m\t \u001b[1m\u001b[92m[10.          2.73034148]\u001b[0m\t \u001b[1m\u001b[92m-2.0174596679345003\u001b[0m\t \u001b[1m\u001b[92m-2.0174596679345003\u001b[0m\t \u001b[1m\u001b[92m-2.431593294585042\u001b[0m\n"
          ]
        }
      ]
    },
    {
      "cell_type": "code",
      "metadata": {
        "id": "f0HIEP3PIUEa",
        "colab": {
          "base_uri": "https://localhost:8080/"
        },
        "outputId": "fad93574-dd4d-4a92-f396-b78b9107e594"
      },
      "source": [
        "### ESTIMATED GP CBM GRADIENTS\n",
        "\n",
        "np.random.seed(run_num_18)\n",
        "surrogate_approx_18 = GaussianProcess(cov_func, optimize=opt)\n",
        "\n",
        "approx_18 = GPGO_multi(surrogate_approx_18, Acquisition_new(util_grad_approx), objfunc, param)\n",
        "approx_18.run(init_evals=n_init, max_iter=iters)\n"
      ],
      "execution_count": 30,
      "outputs": [
        {
          "output_type": "stream",
          "name": "stdout",
          "text": [
            "Evaluation \t Proposed point \t  Current eval. \t  Best eval. \t         Max AcqFunc.\n",
            "init\t [4.75561363 7.58180061]\t -49.215059064668324\t -8.150075223157177\t    \n",
            "init\t [8.17902206 2.72760338]\t -8.150075223157177\t -8.150075223157177\t    \n",
            "init\t [ 7.78349603 11.25204429]\t -106.98107856533271\t -8.150075223157177\t    \n",
            "init\t [ 4.99152501 14.81843172]\t -196.08601750690153\t -8.150075223157177\t    \n",
            "init\t [-1.14547366  0.42458888]\t -71.23649635555944\t -8.150075223157177\t    \n",
            "1  \t [-5. 15.]\t -17.508299515778166\t -8.150075223157177\t -2.8473770512168253\n",
            "2  \t [-5.          8.24670356]\t -92.6590917675077\t -8.150075223157177\t -2.8473770501234292\n",
            "3  \t [-0.08253875  7.96057769]\t -22.91222525837584\t -8.150075223157177\t -2.8473770144906188\n",
            "\u001b[1m\u001b[92m4\u001b[0m\t \u001b[1m\u001b[92m[4.17737045 0.        ]\u001b[0m\t \u001b[1m\u001b[92m-7.682995064699815\u001b[0m\t \u001b[1m\u001b[92m-7.682995064699815\u001b[0m\t \u001b[1m\u001b[92m-2.847321220639254\u001b[0m\n",
            "5  \t [10. 15.]\t -145.87219087939556\t -7.682995064699815\t -2.847377051185865\n",
            "6  \t [-0.29192071 13.15484626]\t -63.808004571714285\t -7.682995064699815\t -2.847315682600239\n",
            "7  \t [10.          6.76717211]\t -16.112458993647476\t -7.682995064699815\t -2.846939427125684\n",
            "8  \t [-5.          3.28173369]\t -206.09019596344632\t -7.682995064699815\t -2.8468143618095922\n",
            "\u001b[1m\u001b[92m9\u001b[0m\t \u001b[1m\u001b[92m[2.10859564 3.81559459]\u001b[0m\t \u001b[1m\u001b[92m-5.437934953462138\u001b[0m\t \u001b[1m\u001b[92m-5.437934953462138\u001b[0m\t \u001b[1m\u001b[92m-2.8456870742735303\u001b[0m\n",
            "10 \t [10.  0.]\t -10.960889035651505\t -5.437934953462138\t -2.8285547406625438\n",
            "11 \t [ 2.98527748 10.96611116]\t -73.8921856450585\t -5.437934953462138\t -2.807621408965199\n",
            "12 \t [-1.01193385  4.50968051]\t -25.544501217090843\t -5.437934953462138\t -2.7861891470854077\n",
            "13 \t [5.14765112 3.59592117]\t -19.64426012491787\t -5.437934953462138\t -2.781529913474766\n",
            "14 \t [6.96766659 0.        ]\t -18.83707206262235\t -5.437934953462138\t -2.664047401670488\n",
            "15 \t [7.26092352 5.61352949]\t -34.36671561744252\t -5.437934953462138\t -2.8473755635049844\n",
            "16 \t [-3.88066858 11.85479815]\t -8.042193675183482\t -5.437934953462138\t -2.755327464476363\n",
            "17 \t [2.10276386 1.36746242]\t -8.578301114651445\t -5.437934953462138\t -2.4182993795905423\n",
            "18 \t [-1.93852607 10.16496519]\t -6.901187797530838\t -5.437934953462138\t -2.3600974015126823\n",
            "19 \t [-5.  0.]\t -308.12909601160663\t -5.437934953462138\t -2.355550464014671\n",
            "\u001b[1m\u001b[92m20\u001b[0m\t \u001b[1m\u001b[92m[10.          3.83686235]\u001b[0m\t \u001b[1m\u001b[92m-2.6385394536208198\u001b[0m\t \u001b[1m\u001b[92m-2.6385394536208198\u001b[0m\t \u001b[1m\u001b[92m-2.249212118159995\u001b[0m\n"
          ]
        }
      ]
    },
    {
      "cell_type": "code",
      "metadata": {
        "id": "S3mxRQDLIUPC",
        "colab": {
          "base_uri": "https://localhost:8080/"
        },
        "outputId": "c17199d3-e89b-4ce0-83bb-7e1e068793dd"
      },
      "source": [
        "### ESTIMATED GP CBM GRADIENTS\n",
        "\n",
        "np.random.seed(run_num_19)\n",
        "surrogate_approx_19 = GaussianProcess(cov_func, optimize=opt)\n",
        "\n",
        "approx_19 = GPGO_multi(surrogate_approx_19, Acquisition_new(util_grad_approx), objfunc, param)\n",
        "approx_19.run(init_evals=n_init, max_iter=iters)\n"
      ],
      "execution_count": 31,
      "outputs": [
        {
          "output_type": "stream",
          "name": "stdout",
          "text": [
            "Evaluation \t Proposed point \t  Current eval. \t  Best eval. \t         Max AcqFunc.\n",
            "init\t [-3.53699597 11.41874575]\t -4.475608269502271\t -4.475608269502271\t    \n",
            "init\t [-1.2959304   2.07197531]\t -51.13947793770689\t -4.475608269502271\t    \n",
            "init\t [-0.02830155  1.24499348]\t -42.63973921760034\t -4.475608269502271\t    \n",
            "init\t [ 5.07965622 12.09890697]\t -131.17235664506808\t -4.475608269502271\t    \n",
            "init\t [9.74112872 9.53491102]\t -46.84458913925112\t -4.475608269502271\t    \n",
            "1  \t [10.  0.]\t -10.960889035651505\t -4.475608269502271\t -2.8473770512168253\n",
            "2  \t [0.6378428  7.96848264]\t -26.305414214274926\t -4.475608269502271\t -2.8473753220475087\n",
            "3  \t [5.93239799 5.14502448]\t -35.34134315736167\t -4.475608269502271\t -2.8473757634600303\n",
            "4  \t [-5.          6.34905249]\t -130.19266343837452\t -4.475608269502271\t -2.847372049968666\n",
            "5  \t [ 0.05608876 15.        ]\t -102.19441838704896\t -4.475608269502271\t -2.8473680477809595\n",
            "6  \t [10. 15.]\t -145.87219087939556\t -4.475608269502271\t -2.847364249847389\n",
            "7  \t [5.01005761 0.        ]\t -14.426241038847635\t -4.475608269502271\t -2.8473098779805324\n",
            "8  \t [-5. 15.]\t -17.508299515778166\t -4.475608269502271\t -2.845974317378508\n",
            "9  \t [-5.  0.]\t -308.12909601160663\t -4.475608269502271\t -2.8445523072948715\n",
            "\u001b[1m\u001b[92m10\u001b[0m\t \u001b[1m\u001b[92m[10.          4.24795296]\u001b[0m\t \u001b[1m\u001b[92m-3.493156577100068\u001b[0m\t \u001b[1m\u001b[92m-3.493156577100068\u001b[0m\t \u001b[1m\u001b[92m-2.843678469321333\u001b[0m\n",
            "11 \t [2.17257206 4.45008313]\t -6.249184656387538\t -3.493156577100068\t -2.8147189535066546\n",
            "12 \t [-0.46560641 11.19561032]\t -38.17447463080904\t -3.493156577100068\t -2.7565581252560714\n",
            "13 \t [4.20276788 8.25326847]\t -49.67606470273404\t -3.493156577100068\t -2.7661191218895387\n",
            "14 \t [7.68178594 2.09160941]\t -12.127467597203056\t -3.493156577100068\t -2.7349439275807224\n",
            "15 \t [-1.31483536  5.46221898]\t -20.574846581029952\t -3.493156577100068\t -2.635806378281165\n",
            "16 \t [9.07992539 6.32716596]\t -18.001061385386556\t -3.493156577100068\t -2.543602552669088\n",
            "\u001b[1m\u001b[92m17\u001b[0m\t \u001b[1m\u001b[92m[3.48266081 2.35009651]\u001b[0m\t \u001b[1m\u001b[92m-1.0573002879318558\u001b[0m\t \u001b[1m\u001b[92m-1.0573002879318558\u001b[0m\t \u001b[1m\u001b[92m-2.5208985132932225\u001b[0m\n",
            "18 \t [-5.          9.93498511]\t -65.32069610910393\t -1.0573002879318558\t -2.492560492587076\n",
            "19 \t [-3.04600582 13.05762346]\t -1.46416739774833\t -1.0573002879318558\t -2.3456649232197364\n",
            "20 \t [ 3.51349901 15.        ]\t -169.98066131425745\t -1.0573002879318558\t -2.4316255891202245\n"
          ]
        }
      ]
    },
    {
      "cell_type": "code",
      "metadata": {
        "id": "Aawd59dRIUYn",
        "colab": {
          "base_uri": "https://localhost:8080/"
        },
        "outputId": "31916402-9f20-4af1-cc0f-048b28bbf670"
      },
      "source": [
        "### ESTIMATED GP CBM GRADIENTS\n",
        "\n",
        "np.random.seed(run_num_20)\n",
        "surrogate_approx_20 = GaussianProcess(cov_func, optimize=opt)\n",
        "\n",
        "approx_20 = GPGO_multi(surrogate_approx_20, Acquisition_new(util_grad_approx), objfunc, param)\n",
        "approx_20.run(init_evals=n_init, max_iter=iters)\n"
      ],
      "execution_count": 32,
      "outputs": [
        {
          "output_type": "stream",
          "name": "stdout",
          "text": [
            "Evaluation \t Proposed point \t  Current eval. \t  Best eval. \t         Max AcqFunc.\n",
            "init\t [ 3.82196202 13.46570592]\t -138.5264349938869\t -14.042667401507376\t    \n",
            "init\t [ 8.37296094 12.23756216]\t -115.63178540512689\t -14.042667401507376\t    \n",
            "init\t [-4.46165622 10.37636373]\t -35.66708529307584\t -14.042667401507376\t    \n",
            "init\t [0.68021413 7.77766418]\t -25.307769914281764\t -14.042667401507376\t    \n",
            "init\t [4.86927198 2.90775327]\t -14.042667401507376\t -14.042667401507376\t    \n",
            "1  \t [-5.          1.73691361]\t -251.44004619140125\t -14.042667401507376\t -2.8473770512168093\n",
            "\u001b[1m\u001b[92m2\u001b[0m\t \u001b[1m\u001b[92m[10.          6.11805294]\u001b[0m\t \u001b[1m\u001b[92m-11.64696581321603\u001b[0m\t \u001b[1m\u001b[92m-11.64696581321603\u001b[0m\t \u001b[1m\u001b[92m-2.8473768595909754\u001b[0m\n",
            "\u001b[1m\u001b[92m3\u001b[0m\t \u001b[1m\u001b[92m[10.  0.]\u001b[0m\t \u001b[1m\u001b[92m-10.960889035651505\u001b[0m\t \u001b[1m\u001b[92m-10.960889035651505\u001b[0m\t \u001b[1m\u001b[92m-2.84737681097678\u001b[0m\n",
            "\u001b[1m\u001b[92m4\u001b[0m\t \u001b[1m\u001b[92m[-2.94821551 14.99444112]\u001b[0m\t \u001b[1m\u001b[92m-10.685077715866617\u001b[0m\t \u001b[1m\u001b[92m-10.685077715866617\u001b[0m\t \u001b[1m\u001b[92m-2.847377046701627\u001b[0m\n",
            "5  \t [0.52674414 0.        ]\t -45.31458039652851\t -10.685077715866617\t -2.847362338254577\n",
            "6  \t [5.54520368 7.81716947]\t -61.59686858569169\t -10.685077715866617\t -2.847122802536983\n",
            "7  \t [-3.33820477  6.17152638]\t -43.89209291179071\t -10.685077715866617\t -2.843222194638277\n",
            "8  \t [-0.43388992 11.87155975]\t -45.30372566741973\t -10.685077715866617\t -2.8400717356738685\n",
            "9  \t [0.89329634 3.96721325]\t -16.529063831515455\t -10.685077715866617\t -2.828851181795812\n",
            "10 \t [6.51223338 0.        ]\t -20.592482034781874\t -10.685077715866617\t -2.8082990045080973\n",
            "\u001b[1m\u001b[92m11\u001b[0m\t \u001b[1m\u001b[92m[8.49391322 3.16340015]\u001b[0m\t \u001b[1m\u001b[92m-6.12031983199115\u001b[0m\t \u001b[1m\u001b[92m-6.12031983199115\u001b[0m\t \u001b[1m\u001b[92m-2.7925382374626797\u001b[0m\n",
            "12 \t [10.         9.0007218]\t -37.916328020398375\t -6.12031983199115\t -2.673614844352952\n",
            "13 \t [2.82444641 9.99785365]\t -56.566115277998776\t -6.12031983199115\t -2.5464210867189996\n",
            "14 \t [ 0.3441207 15.       ]\t -109.90557015835587\t -6.12031983199115\t -2.647935714724574\n",
            "15 \t [10. 15.]\t -145.87219087939556\t -6.12031983199115\t -2.5084950738545695\n",
            "16 \t [-5.         13.54428596]\t -25.995743831726273\t -6.12031983199115\t -2.5223818816038914\n",
            "\u001b[1m\u001b[92m17\u001b[0m\t \u001b[1m\u001b[92m[3.6464968 0.       ]\u001b[0m\t \u001b[1m\u001b[92m-5.2601106565883144\u001b[0m\t \u001b[1m\u001b[92m-5.2601106565883144\u001b[0m\t \u001b[1m\u001b[92m-2.4551413521216223\u001b[0m\n",
            "18 \t [3.27121937 5.4732725 ]\t -11.349924679159363\t -5.2601106565883144\t -2.4372259045807145\n",
            "19 \t [-1.56392023  2.90019152]\t -44.93304551474701\t -5.2601106565883144\t -2.38630151342333\n",
            "20 \t [7.08641141 4.98891954]\t -30.95604358767131\t -5.2601106565883144\t -2.3463051838798332\n"
          ]
        }
      ]
    },
    {
      "cell_type": "code",
      "metadata": {
        "id": "xkgzPRbBTHaq",
        "colab": {
          "base_uri": "https://localhost:8080/"
        },
        "outputId": "042aa324-d006-4609-a62e-0e8c228aeec0"
      },
      "source": [
        "end_approx = time.time()\n",
        "end_approx\n",
        "\n",
        "time_approx = end_approx - start_approx\n",
        "time_approx\n",
        "\n",
        "start_exact = time.time()\n",
        "start_exact"
      ],
      "execution_count": 33,
      "outputs": [
        {
          "output_type": "execute_result",
          "data": {
            "text/plain": [
              "1649238140.9758105"
            ]
          },
          "metadata": {},
          "execution_count": 33
        }
      ]
    },
    {
      "cell_type": "code",
      "metadata": {
        "id": "7CG3Ndvb16Rb",
        "colab": {
          "base_uri": "https://localhost:8080/"
        },
        "outputId": "e95e95e8-ebb7-4b0b-ea07-5858a2dd8dd9"
      },
      "source": [
        "### EXACT GP CBM GRADIENTS\n",
        "\n",
        "np.random.seed(run_num_1)\n",
        "surrogate_exact_1 = dGaussianProcess(cov_func, optimize=opt)\n",
        "\n",
        "exact_1 = dGPGO(surrogate_exact_1, Acquisition_new(util_grad_exact), objfunc, param)\n",
        "exact_1.run(init_evals=n_init, max_iter=iters)\n"
      ],
      "execution_count": 34,
      "outputs": [
        {
          "output_type": "stream",
          "name": "stdout",
          "text": [
            "Evaluation \t Proposed point \t  Current eval. \t  Best eval. \t         Max AcqFunc.\n",
            "init\t [ 1.25533007 10.8048674 ]\t -56.52874004692151\t -27.68166689936483\t    \n",
            "init\t [-4.99828438  4.53498859]\t -172.66531086516164\t -27.68166689936483\t    \n",
            "init\t [-2.79866164  1.38507892]\t -102.58290348816024\t -27.68166689936483\t    \n",
            "init\t [-2.20609683  5.18341091]\t -28.868064601155666\t -27.68166689936483\t    \n",
            "init\t [0.95151211 8.08225101]\t -27.68166689936483\t -27.68166689936483\t    \n",
            "\u001b[1m\u001b[92m1\u001b[0m\t \u001b[1m\u001b[92m[8.41909995 1.27566317]\u001b[0m\t \u001b[1m\u001b[92m-5.089934878453152\u001b[0m\t \u001b[1m\u001b[92m-5.089934878453152\u001b[0m\t \u001b[1m\u001b[92m-2.8473767480924885\u001b[0m\n",
            "2  \t [10. 15.]\t -145.87219087939556\t -5.089934878453152\t -2.8473767480924885\n",
            "3  \t [9.50914495 8.52150693]\t -36.125759150808236\t -5.089934878453152\t -2.8473766983402102\n",
            "4  \t [-4.67712792 14.21955317]\t -13.865244792739254\t -5.089934878453152\t -2.847376746210774\n",
            "5  \t [3.17290627 0.        ]\t -5.468274171940525\t -5.089934878453152\t -2.847375202541199\n",
            "6  \t [ 4.4491542 15.       ]\t -190.3958619890571\t -5.089934878453152\t -2.8473360476941223\n",
            "7  \t [5.17153207 5.72319093]\t -34.49586545986997\t -5.089934878453152\t -2.8472329248791297\n",
            "8  \t [-5.          9.65121568]\t -69.51722563885082\t -5.089934878453152\t -2.8469919574886857\n",
            "9  \t [-0.22627397 14.85117899]\t -91.34304334507411\t -5.089934878453152\t -2.842795197827197\n",
            "\u001b[1m\u001b[92m10\u001b[0m\t \u001b[1m\u001b[92m[10.          4.45546277]\u001b[0m\t \u001b[1m\u001b[92m-4.052914831613599\u001b[0m\t \u001b[1m\u001b[92m-4.052914831613599\u001b[0m\t \u001b[1m\u001b[92m-2.83854408270521\u001b[0m\n",
            "11 \t [ 5.4820644  10.65048568]\t -106.80062705149444\t -4.052914831613599\t -2.838687504296341\n",
            "12 \t [1.86395434 3.16837212]\t -7.323732476823112\t -4.052914831613599\t -2.8362189097754436\n",
            "13 \t [5.8411287  0.42820128]\t -19.145548528904982\t -4.052914831613599\t -2.7120890019336743\n",
            "14 \t [0.51813966 0.36528872]\t -41.81334606954543\t -4.052914831613599\t -2.6216935809382016\n",
            "15 \t [-2.00394395 11.35056802]\t -8.667231288214188\t -4.052914831613599\t -2.6111409151979132\n",
            "16 \t [ 9.49549897 11.53671569]\t -81.4473598924314\t -4.052914831613599\t -2.4845815812449836\n",
            "17 \t [7.6594806 3.5801829]\t -16.65930343667597\t -4.052914831613599\t -2.537924169803799\n",
            "18 \t [4.42428535 2.67761399]\t -8.68872794253015\t -4.052914831613599\t -2.263953083783674\n",
            "19 \t [-2.06812772  8.80419184]\t -6.500350925617107\t -4.052914831613599\t -2.2087145317146186\n",
            "20 \t [1.52956594 5.32640855]\t -12.5231603319656\t -4.052914831613599\t -2.2298675909216095\n"
          ]
        }
      ]
    },
    {
      "cell_type": "code",
      "metadata": {
        "id": "-ilCPSAu9SAg",
        "colab": {
          "base_uri": "https://localhost:8080/"
        },
        "outputId": "8f1c1444-cb33-4cec-88ef-da0272e443c7"
      },
      "source": [
        "### EXACT GP CBM GRADIENTS\n",
        "\n",
        "np.random.seed(run_num_2)\n",
        "surrogate_exact_2 = dGaussianProcess(cov_func, optimize=opt)\n",
        "\n",
        "exact_2 = dGPGO(surrogate_exact_2, Acquisition_new(util_grad_exact), objfunc, param)\n",
        "exact_2.run(init_evals=n_init, max_iter=iters)\n"
      ],
      "execution_count": 35,
      "outputs": [
        {
          "output_type": "stream",
          "name": "stdout",
          "text": [
            "Evaluation \t Proposed point \t  Current eval. \t  Best eval. \t         Max AcqFunc.\n",
            "init\t [1.53992353 0.38889348]\t -22.31361308916297\t -6.692051508754487\t    \n",
            "init\t [3.24493717 6.52983589]\t -19.233109967858276\t -6.692051508754487\t    \n",
            "init\t [1.30551703 4.95502232]\t -13.177851563387286\t -6.692051508754487\t    \n",
            "init\t [-1.93027049  9.2890645 ]\t -6.692051508754487\t -6.692051508754487\t    \n",
            "init\t [-0.50517989  4.00240913]\t -26.437522758780958\t -6.692051508754487\t    \n",
            "1  \t [ 9.5587047  12.00387527]\t -89.09951357262268\t -6.692051508754487\t -2.847376748092482\n",
            "\u001b[1m\u001b[92m2\u001b[0m\t \u001b[1m\u001b[92m[9.59366035 1.69164323]\u001b[0m\t \u001b[1m\u001b[92m-1.3984593420568778\u001b[0m\t \u001b[1m\u001b[92m-1.3984593420568778\u001b[0m\t \u001b[1m\u001b[92m-2.8473767480923105\u001b[0m\n",
            "3  \t [ 3.24245232 12.67669673]\t -110.25694222671481\t -1.3984593420568778\t -2.847376594981628\n",
            "4  \t [-5.  0.]\t -308.12909601160663\t -1.3984593420568778\t -2.8473765673572666\n",
            "5  \t [9.05889406 6.41696544]\t -18.954319031462738\t -1.3984593420568778\t -2.8473611721871683\n",
            "6  \t [-3.95507557 14.02731903]\t -3.4866594349213953\t -1.3984593420568778\t -2.8473710057979\n",
            "7  \t [6.11009795 0.        ]\t -20.665031701205514\t -1.3984593420568778\t -2.846687902199178\n",
            "8  \t [-5.          5.34886049]\t -152.8738242477934\t -1.3984593420568778\t -2.8470562683105127\n",
            "9  \t [-0.48009484 15.        ]\t -85.85716536441575\t -1.3984593420568778\t -2.8411508118724838\n",
            "10 \t [6.31744986 3.7564503 ]\t -26.646605738693733\t -1.3984593420568778\t -2.8300266924419324\n",
            "11 \t [6.03297798 9.36791443]\t -87.65948733374663\t -1.3984593420568778\t -2.8351836461677355\n",
            "12 \t [1.06574151 9.3880002 ]\t -39.02446731449483\t -1.3984593420568778\t -2.7714435476214008\n",
            "13 \t [10.          3.50503453]\t -2.195222905812753\t -1.3984593420568778\t -2.61214279483435\n",
            "14 \t [-5.         10.72486094]\t -54.48764878523014\t -1.3984593420568778\t -2.8327034698374067\n",
            "15 \t [ 6.76698638 15.        ]\t -210.44347693858464\t -1.3984593420568778\t -2.8297630196049335\n",
            "16 \t [-1.27658086  0.        ]\t -80.71949315750611\t -1.3984593420568778\t -2.497797952435096\n",
            "\u001b[1m\u001b[92m17\u001b[0m\t \u001b[1m\u001b[92m[3.30495519 2.89681569]\u001b[0m\t \u001b[1m\u001b[92m-1.0818997200294582\u001b[0m\t \u001b[1m\u001b[92m-1.0818997200294582\u001b[0m\t \u001b[1m\u001b[92m-2.538942804495894\u001b[0m\n",
            "18 \t [-1.6153565 11.7992457]\t -17.931509385820913\t -1.0818997200294582\t -2.493992315076173\n",
            "19 \t [-1.26814953  6.83777525]\t -14.789271486921596\t -1.0818997200294582\t -2.4457953973246624\n",
            "20 \t [4.05929613 1.70346747]\t -4.166567394001356\t -1.0818997200294582\t -2.0489309259679778\n"
          ]
        }
      ]
    },
    {
      "cell_type": "code",
      "metadata": {
        "id": "XieJ158mIvlP",
        "colab": {
          "base_uri": "https://localhost:8080/"
        },
        "outputId": "b7b7c417-aee5-4811-ec11-c7668541d3ac"
      },
      "source": [
        "### EXACT GP CBM GRADIENTS\n",
        "\n",
        "np.random.seed(run_num_3)\n",
        "surrogate_exact_3 = dGaussianProcess(cov_func, optimize=opt)\n",
        "\n",
        "exact_3 = dGPGO(surrogate_exact_3, Acquisition_new(util_grad_exact), objfunc, param)\n",
        "exact_3.run(init_evals=n_init, max_iter=iters)\n"
      ],
      "execution_count": 36,
      "outputs": [
        {
          "output_type": "stream",
          "name": "stdout",
          "text": [
            "Evaluation \t Proposed point \t  Current eval. \t  Best eval. \t         Max AcqFunc.\n",
            "init\t [ 3.26196854 10.62221734]\t -71.68783452098575\t -18.07886746449891\t    \n",
            "init\t [-0.63642892  7.66241408]\t -18.07886746449891\t -18.07886746449891\t    \n",
            "init\t [ 8.39420432 13.44439633]\t -141.98653529865882\t -18.07886746449891\t    \n",
            "init\t [-3.11622034  3.10864317]\t -83.31045707266176\t -18.07886746449891\t    \n",
            "init\t [-4.22799195  6.61214765]\t -76.5294170688398\t -18.07886746449891\t    \n",
            "1  \t [6.70472147 4.59545299]\t -30.726791812855225\t -18.07886746449891\t -2.8473767480924885\n",
            "\u001b[1m\u001b[92m2\u001b[0m\t \u001b[1m\u001b[92m[-3.89564496 13.38589781]\u001b[0m\t \u001b[1m\u001b[92m-3.6010193697779265\u001b[0m\t \u001b[1m\u001b[92m-3.6010193697779265\u001b[0m\t \u001b[1m\u001b[92m-2.8473767407213812\u001b[0m\n",
            "3  \t [ 0.48751429 15.        ]\t -113.45238517136083\t -3.6010193697779265\t -2.8472911660964693\n",
            "4  \t [3.11163178 0.        ]\t -5.6852126882187255\t -3.6010193697779265\t -2.847376119795797\n",
            "5  \t [9.41659787 8.55226347]\t -37.415149533824646\t -3.6010193697779265\t -2.8469544550050734\n",
            "6  \t [9.93676432 0.73581472]\t -6.490807728825344\t -3.6010193697779265\t -2.847328515186572\n",
            "7  \t [-0.6195202  11.33294215]\t -36.28496106529289\t -3.6010193697779265\t -2.847376720810775\n",
            "8  \t [1.56051567 4.20042447]\t -10.235223093670438\t -3.6010193697779265\t -2.8448024854826883\n",
            "9  \t [ 4.20992373 14.44295021]\t -170.5922077560847\t -3.6010193697779265\t -2.847376748092487\n",
            "10 \t [6.54538254 0.        ]\t -20.52213550818928\t -3.6010193697779265\t -2.831281715171955\n",
            "11 \t [-0.99832103  0.        ]\t -74.76338943486786\t -3.6010193697779265\t -2.8115044936693714\n",
            "12 \t [-4.45070544 10.40403212]\t -34.9574640643454\t -3.6010193697779265\t -2.7933615652199784\n",
            "13 \t [3.57604174 6.8365684 ]\t -25.06522582468711\t -3.6010193697779265\t -2.789998130179447\n",
            "14 \t [-5.  0.]\t -308.12909601160663\t -3.6010193697779265\t -2.7786580870971953\n",
            "15 \t [10.          4.56330823]\t -4.377837869885029\t -3.6010193697779265\t -2.772386337406751\n",
            "16 \t [4.15206366 2.48341758]\t -5.644271008012676\t -3.6010193697779265\t -2.6402076905430163\n",
            "17 \t [6.29791937 9.17696759]\t -84.83044691292977\t -3.6010193697779265\t -2.5816371657545956\n",
            "18 \t [8.48715685 2.47785723]\t -4.781017070674162\t -3.6010193697779265\t -2.1138304092713787\n",
            "19 \t [-0.30587541  4.19564755]\t -24.461400649257737\t -3.6010193697779265\t -1.4780805164408723\n",
            "20 \t [3.58598037 4.3190413 ]\t -6.924151101108901\t -3.6010193697779265\t -1.2409072353252482\n"
          ]
        }
      ]
    },
    {
      "cell_type": "code",
      "metadata": {
        "id": "PhLBVOIfIvol",
        "colab": {
          "base_uri": "https://localhost:8080/"
        },
        "outputId": "f171ff6d-ebf9-4f2f-df5e-d0a81ff77e3c"
      },
      "source": [
        "### EXACT GP CBM GRADIENTS\n",
        "\n",
        "np.random.seed(run_num_4)\n",
        "surrogate_exact_4 = dGaussianProcess(cov_func, optimize=opt)\n",
        "\n",
        "exact_4 = dGPGO(surrogate_exact_4, Acquisition_new(util_grad_exact), objfunc, param)\n",
        "exact_4.run(init_evals=n_init, max_iter=iters)\n"
      ],
      "execution_count": 37,
      "outputs": [
        {
          "output_type": "stream",
          "name": "stdout",
          "text": [
            "Evaluation \t Proposed point \t  Current eval. \t  Best eval. \t         Max AcqFunc.\n",
            "init\t [9.50544759 8.20848374]\t -32.51676744781521\t -7.247126865776948\t    \n",
            "init\t [ 9.5902654  10.72223991]\t -66.20566674364716\t -7.247126865776948\t    \n",
            "init\t [5.46593237 3.24134243]\t -20.90089401680587\t -7.247126865776948\t    \n",
            "init\t [9.64411682 0.09345383]\t -7.247126865776948\t -7.247126865776948\t    \n",
            "init\t [-1.20526456  6.52187299]\t -15.941376982363263\t -7.247126865776948\t    \n",
            "1  \t [-5.  0.]\t -308.12909601160663\t -7.247126865776948\t -2.847376748089035\n",
            "2  \t [ 1.1294018  14.15696259]\t -109.93986979623045\t -7.247126865776948\t -2.8473767480923735\n",
            "3  \t [1.02030897 0.        ]\t -35.36851882149287\t -7.247126865776948\t -2.8473718776238535\n",
            "4  \t [3.39276244 9.15764804]\t -50.689386596790726\t -7.247126865776948\t -2.8473543900066325\n",
            "5  \t [-4.71937748 12.72601018]\t -23.480112175997423\t -7.247126865776948\t -2.8473760113569893\n",
            "6  \t [-5.          7.86028819]\t -99.71802265919952\t -7.247126865776948\t -2.8448652726556847\n",
            "7  \t [ 6.52813185 15.        ]\t -212.09350505598456\t -7.247126865776948\t -2.847326632561421\n",
            "\u001b[1m\u001b[92m8\u001b[0m\t \u001b[1m\u001b[92m[9.02535225 4.41775766]\u001b[0m\t \u001b[1m\u001b[92m-6.25712672757184\u001b[0m\t \u001b[1m\u001b[92m-6.25712672757184\u001b[0m\t \u001b[1m\u001b[92m-2.827323174038471\u001b[0m\n",
            "9  \t [-1.60945183 10.85910117]\t -13.48208218075788\t -6.25712672757184\t -2.8230422387231933\n",
            "10 \t [-3.21108872  3.79645834]\t -75.17751646157919\t -6.25712672757184\t -2.79572304710569\n",
            "11 \t [1.71542967 4.31448526]\t -9.057645094289597\t -6.25712672757184\t -2.830995331277962\n",
            "12 \t [6.16765707 6.69922025]\t -50.91124907511291\t -6.25712672757184\t -2.7775038914281933\n",
            "13 \t [4.98610633 0.        ]\t -14.223883873978622\t -6.25712672757184\t -2.79190669202121\n",
            "14 \t [-2.3203254  14.88091703]\t -23.640573885592037\t -6.25712672757184\t -2.670805651838226\n",
            "15 \t [10. 15.]\t -145.87219087939556\t -6.25712672757184\t -2.5882947519792596\n",
            "16 \t [ 6.16425115 11.03700374]\t -118.3172491156643\t -6.25712672757184\t -2.624441768200708\n",
            "17 \t [0.45683705 8.51344473]\t -28.944422060058116\t -6.25712672757184\t -2.2472882774201977\n",
            "18 \t [-1.52676573  0.5202387 ]\t -77.84013772718933\t -6.25712672757184\t -1.8788146151541025\n",
            "19 \t [8.12532172 1.7523105 ]\t -7.450530567409699\t -6.25712672757184\t -2.3860438369938644\n",
            "\u001b[1m\u001b[92m20\u001b[0m\t \u001b[1m\u001b[92m[2.59617615 2.45199293]\u001b[0m\t \u001b[1m\u001b[92m-1.8732910330740964\u001b[0m\t \u001b[1m\u001b[92m-1.8732910330740964\u001b[0m\t \u001b[1m\u001b[92m-1.912884685898289\u001b[0m\n"
          ]
        }
      ]
    },
    {
      "cell_type": "code",
      "metadata": {
        "id": "arbiPyj2IvsJ",
        "colab": {
          "base_uri": "https://localhost:8080/"
        },
        "outputId": "b662c526-fa8a-4a3d-c58d-f14faa324805"
      },
      "source": [
        "### EXACT GP CBM GRADIENTS\n",
        "\n",
        "np.random.seed(run_num_5)\n",
        "surrogate_exact_5 = dGaussianProcess(cov_func, optimize=opt)\n",
        "\n",
        "exact_5 = dGPGO(surrogate_exact_5, Acquisition_new(util_grad_exact), objfunc, param)\n",
        "exact_5.run(init_evals=n_init, max_iter=iters)\n"
      ],
      "execution_count": 38,
      "outputs": [
        {
          "output_type": "stream",
          "name": "stdout",
          "text": [
            "Evaluation \t Proposed point \t  Current eval. \t  Best eval. \t         Max AcqFunc.\n",
            "init\t [-1.67010243 13.06098459]\t -25.390690545664548\t -25.311309190989615\t    \n",
            "init\t [-1.89921267 13.77916362]\t -25.311309190989615\t -25.311309190989615\t    \n",
            "init\t [2.32616783 9.17615794]\t -41.60147975414021\t -25.311309190989615\t    \n",
            "init\t [6.48861785 7.77626982]\t -63.81281921768236\t -25.311309190989615\t    \n",
            "init\t [-0.54799248  2.81581843]\t -34.966203644931994\t -25.311309190989615\t    \n",
            "\u001b[1m\u001b[92m1\u001b[0m\t \u001b[1m\u001b[92m[8.84124421 0.03321319]\u001b[0m\t \u001b[1m\u001b[92m-5.96108856337545\u001b[0m\t \u001b[1m\u001b[92m-5.96108856337545\u001b[0m\t \u001b[1m\u001b[92m-2.8473767480922967\u001b[0m\n",
            "2  \t [10. 15.]\t -145.87219087939556\t -5.96108856337545\t -2.8473767480921754\n",
            "3  \t [-4.17848153  7.92295338]\t -53.87339575885963\t -5.96108856337545\t -2.8473759293919056\n",
            "4  \t [ 3.7818635 15.       ]\t -175.78452573831194\t -5.96108856337545\t -2.847375221383917\n",
            "5  \t [-5.  0.]\t -308.12909601160663\t -5.96108856337545\t -2.8473602681638663\n",
            "\u001b[1m\u001b[92m6\u001b[0m\t \u001b[1m\u001b[92m[3.8282869  0.09047414]\u001b[0m\t \u001b[1m\u001b[92m-5.498063312453172\u001b[0m\t \u001b[1m\u001b[92m-5.498063312453172\u001b[0m\t \u001b[1m\u001b[92m-2.847336775906803\u001b[0m\n",
            "\u001b[1m\u001b[92m7\u001b[0m\t \u001b[1m\u001b[92m[10.          4.34393824]\u001b[0m\t \u001b[1m\u001b[92m-3.7413724132910167\u001b[0m\t \u001b[1m\u001b[92m-3.7413724132910167\u001b[0m\t \u001b[1m\u001b[92m-2.847050785579783\u001b[0m\n",
            "8  \t [3.41349553 4.51820544]\t -6.732105263040458\t -3.7413724132910167\t -2.8440104229675467\n",
            "9  \t [ 9.92551138 10.49756703]\t -58.84828080834035\t -3.7413724132910167\t -2.8423524692248963\n",
            "10 \t [-0.56739681  6.70548036]\t -18.154681692257178\t -3.7413724132910167\t -2.804341936858574\n",
            "11 \t [6.77907607 2.7763985 ]\t -21.098632704303462\t -3.7413724132910167\t -2.8324228314424587\n",
            "12 \t [-5.         11.79097313]\t -41.84474624951956\t -3.7413724132910167\t -2.810018283295384\n",
            "13 \t [-4.82430558  4.20324279]\t -166.86044800286516\t -3.7413724132910167\t -2.8028710934674166\n",
            "14 \t [0.72030141 0.        ]\t -41.42961441131499\t -3.7413724132910167\t -2.6770455128341917\n",
            "15 \t [ 5.97950773 11.67948196]\t -131.0406494964065\t -3.7413724132910167\t -2.7945807807107723\n",
            "16 \t [ 1.1985131 12.3014078]\t -77.86661850381996\t -3.7413724132910167\t -2.543159828614209\n",
            "17 \t [10.          6.87958142]\t -16.97136058788028\t -3.7413724132910167\t -2.6850779881536617\n",
            "18 \t [-1.33608388  9.79081749]\t -14.288778782928134\t -3.7413724132910167\t -2.5724455821744403\n",
            "\u001b[1m\u001b[92m19\u001b[0m\t \u001b[1m\u001b[92m[3.4300014  2.22228407]\u001b[0m\t \u001b[1m\u001b[92m-0.8205451233143162\u001b[0m\t \u001b[1m\u001b[92m-0.8205451233143162\u001b[0m\t \u001b[1m\u001b[92m-2.265526431111606\u001b[0m\n",
            "20 \t [9.95196409 2.34966586]\t -2.068754771840913\t -0.8205451233143162\t -2.4373080622258723\n"
          ]
        }
      ]
    },
    {
      "cell_type": "code",
      "metadata": {
        "id": "04KJCEm_Ivvf",
        "colab": {
          "base_uri": "https://localhost:8080/"
        },
        "outputId": "2174c3c5-a623-4057-e705-3d26b4556fe5"
      },
      "source": [
        "### EXACT GP CBM GRADIENTS\n",
        "\n",
        "np.random.seed(run_num_6)\n",
        "surrogate_exact_6 = dGaussianProcess(cov_func, optimize=opt)\n",
        "\n",
        "exact_6 = dGPGO(surrogate_exact_6, Acquisition_new(util_grad_exact), objfunc, param)\n",
        "exact_6.run(init_evals=n_init, max_iter=iters)\n"
      ],
      "execution_count": 39,
      "outputs": [
        {
          "output_type": "stream",
          "name": "stdout",
          "text": [
            "Evaluation \t Proposed point \t  Current eval. \t  Best eval. \t         Max AcqFunc.\n",
            "init\t [8.39290227 4.97969708]\t -15.553860636684597\t -15.31731051317483\t    \n",
            "init\t [7.31843685 0.62544939]\t -15.31731051317483\t -15.31731051317483\t    \n",
            "init\t [-3.3851498   8.92578096]\t -16.222288919361837\t -15.31731051317483\t    \n",
            "init\t [2.94726043 6.28211143]\t -15.406373581304088\t -15.31731051317483\t    \n",
            "init\t [0.03111774 9.33779148]\t -31.07053245856209\t -15.31731051317483\t    \n",
            "1  \t [10. 15.]\t -145.87219087939556\t -15.31731051317483\t -2.8473767480924885\n",
            "2  \t [-2.78694371  0.        ]\t -131.84483310259563\t -15.31731051317483\t -2.8473767480924868\n",
            "3  \t [ 4.34724927 14.59608757]\t -177.48889452505895\t -15.31731051317483\t -2.8473767480924885\n",
            "4  \t [-1.30746846 14.41632538]\t -49.88755947574416\t -15.31731051317483\t -2.8473506374798347\n",
            "5  \t [8.13676755 9.89528704]\t -76.08522797236792\t -15.31731051317483\t -2.84730481099856\n",
            "6  \t [-5.          4.57464602]\t -171.8043072513009\t -15.31731051317483\t -2.847044061334047\n",
            "\u001b[1m\u001b[92m7\u001b[0m\t \u001b[1m\u001b[92m[2.49837941 0.        ]\u001b[0m\t \u001b[1m\u001b[92m-10.325905016294854\u001b[0m\t \u001b[1m\u001b[92m-10.325905016294854\u001b[0m\t \u001b[1m\u001b[92m-2.847263308029461\u001b[0m\n",
            "8  \t [-0.66222659  5.02069425]\t -21.940254515768697\t -10.325905016294854\t -2.834627434647361\n",
            "9  \t [5.57672442 8.22374038]\t -67.45521325732554\t -10.325905016294854\t -2.8473757891397535\n",
            "10 \t [ 2.57781638 10.78807937]\t -66.40257076057856\t -10.325905016294854\t -2.8473754770897806\n",
            "\u001b[1m\u001b[92m11\u001b[0m\t \u001b[1m\u001b[92m[4.01614602 3.10691279]\u001b[0m\t \u001b[1m\u001b[92m-5.84439293706081\u001b[0m\t \u001b[1m\u001b[92m-5.84439293706081\u001b[0m\t \u001b[1m\u001b[92m-2.8048096172841723\u001b[0m\n",
            "12 \t [0.73367564 2.09927476]\t -24.98612762701744\t -5.84439293706081\t -2.6462225811612465\n",
            "13 \t [-2.58310154  2.75209293]\t -69.44193424778474\t -5.84439293706081\t -2.8473767325481063\n",
            "14 \t [-4.03052649 11.96247915]\t -10.455575801052458\t -5.84439293706081\t -2.751757629347944\n",
            "15 \t [5.82184687 4.35961658]\t -29.140037471089016\t -5.84439293706081\t -2.311258121697702\n",
            "\u001b[1m\u001b[92m16\u001b[0m\t \u001b[1m\u001b[92m[9.74752871 2.70855637]\u001b[0m\t \u001b[1m\u001b[92m-0.8963970717347785\u001b[0m\t \u001b[1m\u001b[92m-0.8963970717347785\u001b[0m\t \u001b[1m\u001b[92m-2.570654319020159\u001b[0m\n",
            "17 \t [10.          7.65752454]\t -23.60814334418874\t -0.8963970717347785\t -2.2420424416632385\n",
            "18 \t [4.72859585 0.84867291]\t -10.41986021610927\t -0.8963970717347785\t -2.1383479616639445\n",
            "19 \t [-4.47116432 14.34058366]\t -9.550467054186178\t -0.8963970717347785\t -2.4016109207505467\n",
            "\u001b[1m\u001b[92m20\u001b[0m\t \u001b[1m\u001b[92m[9.7275565  2.88311544]\u001b[0m\t \u001b[1m\u001b[92m-0.8545162706160028\u001b[0m\t \u001b[1m\u001b[92m-0.8545162706160028\u001b[0m\t \u001b[1m\u001b[92m-1.8462124472930306\u001b[0m\n"
          ]
        }
      ]
    },
    {
      "cell_type": "code",
      "metadata": {
        "id": "tAOkme3CIvyO",
        "colab": {
          "base_uri": "https://localhost:8080/"
        },
        "outputId": "99772aa5-5407-44fd-b01c-3d74168ae9c8"
      },
      "source": [
        "### EXACT GP CBM GRADIENTS\n",
        "\n",
        "np.random.seed(run_num_7)\n",
        "surrogate_exact_7 = dGaussianProcess(cov_func, optimize=opt)\n",
        "\n",
        "exact_7 = dGPGO(surrogate_exact_7, Acquisition_new(util_grad_exact), objfunc, param)\n",
        "exact_7.run(init_evals=n_init, max_iter=iters)\n"
      ],
      "execution_count": 40,
      "outputs": [
        {
          "output_type": "stream",
          "name": "stdout",
          "text": [
            "Evaluation \t Proposed point \t  Current eval. \t  Best eval. \t         Max AcqFunc.\n",
            "init\t [-3.85537566 11.69878188]\t -8.299317850233932\t -5.211335324193094\t    \n",
            "init\t [ 1.57613847 10.85197767]\t -59.50408380701259\t -5.211335324193094\t    \n",
            "init\t [9.66984268 8.07743806]\t -29.714921414987273\t -5.211335324193094\t    \n",
            "init\t [2.51680695 1.080767  ]\t -5.211335324193094\t -5.211335324193094\t    \n",
            "init\t [-0.9734153   7.49823751]\t -15.431057204948033\t -5.211335324193094\t    \n",
            "1  \t [-4.97859679  1.38393519]\t -260.3293952774437\t -5.211335324193094\t -2.8473767480924885\n",
            "2  \t [ 7.94032419 14.86492688]\t -187.59272741315385\t -5.211335324193094\t -2.8473767477473615\n",
            "3  \t [8.08940775 0.35854539]\t -9.249625108410735\t -5.211335324193094\t -2.8473763855236585\n",
            "4  \t [-3.39684884  5.54228873]\t -54.79871094423047\t -5.211335324193094\t -2.8473767480924885\n",
            "5  \t [4.94036921 5.50210757]\t -29.910372547610834\t -5.211335324193094\t -2.8473612439916685\n",
            "6  \t [-0.87933936 15.        ]\t -72.38184926532884\t -5.211335324193094\t -2.846895872153274\n",
            "\u001b[1m\u001b[92m7\u001b[0m\t \u001b[1m\u001b[92m[10.          3.83465737]\u001b[0m\t \u001b[1m\u001b[92m-2.634866817492126\u001b[0m\t \u001b[1m\u001b[92m-2.634866817492126\u001b[0m\t \u001b[1m\u001b[92m-2.843858753276682\u001b[0m\n",
            "8  \t [5.99385027 9.68362058]\t -92.85398377129937\t -2.634866817492126\t -2.8403574263807725\n",
            "9  \t [ 3.52665592 14.68892029]\t -162.2655727762467\t -2.634866817492126\t -2.8370108886725394\n",
            "10 \t [-8.21115273e-01  3.16315984e-17]\t -71.21336332298847\t -2.634866817492126\t -2.833027026295333\n",
            "11 \t [1.2951542  4.02401747]\t -12.630617964276535\t -2.634866817492126\t -2.8221361940938756\n",
            "12 \t [-4.9983151  14.87722261]\t -18.022551484939235\t -2.634866817492126\t -2.8261194563267673\n",
            "13 \t [10.         11.51353997]\t -74.3731698494087\t -2.634866817492126\t -2.7652059749278837\n",
            "14 \t [2.28479434 7.23624109]\t -21.33704254884005\t -2.634866817492126\t -2.6550362867235737\n",
            "15 \t [-5.          8.65309872]\t -85.55736983730652\t -2.634866817492126\t -2.765472480294475\n",
            "16 \t [7.85460364 5.55739543]\t -26.708822380812286\t -2.634866817492126\t -2.8473738185226236\n",
            "17 \t [5.39146587 1.8809195 ]\t -16.530103353145357\t -2.634866817492126\t -2.7595780727320025\n",
            "18 \t [3.95087938 0.        ]\t -6.362039235610215\t -2.634866817492126\t -1.8374876815740606\n",
            "19 \t [-1.5977422  11.39922546]\t -16.124799960906437\t -2.634866817492126\t -2.3293636742792634\n",
            "\u001b[1m\u001b[92m20\u001b[0m\t \u001b[1m\u001b[92m[9.96922833 2.14306071]\u001b[0m\t \u001b[1m\u001b[92m-2.4742876767432787\u001b[0m\t \u001b[1m\u001b[92m-2.4742876767432787\u001b[0m\t \u001b[1m\u001b[92m-2.386757555567827\u001b[0m\n"
          ]
        }
      ]
    },
    {
      "cell_type": "code",
      "metadata": {
        "id": "69-J3EF4Iv1S",
        "colab": {
          "base_uri": "https://localhost:8080/"
        },
        "outputId": "9088f8f1-f463-463d-e7b2-a7630c96a578"
      },
      "source": [
        "### EXACT GP CBM GRADIENTS\n",
        "\n",
        "np.random.seed(run_num_8)\n",
        "surrogate_exact_8 = dGaussianProcess(cov_func, optimize=opt)\n",
        "\n",
        "exact_8 = dGPGO(surrogate_exact_8, Acquisition_new(util_grad_exact), objfunc, param)\n",
        "exact_8.run(init_evals=n_init, max_iter=iters)\n"
      ],
      "execution_count": 41,
      "outputs": [
        {
          "output_type": "stream",
          "name": "stdout",
          "text": [
            "Evaluation \t Proposed point \t  Current eval. \t  Best eval. \t         Max AcqFunc.\n",
            "init\t [ 8.10144104 14.52810994]\t -175.17297136347514\t -15.416245468470875\t    \n",
            "init\t [8.0379181  7.96283537]\t -49.32173799887473\t -15.416245468470875\t    \n",
            "init\t [-1.50907508  0.17098206]\t -83.26753461673219\t -15.416245468470875\t    \n",
            "init\t [1.45703227 6.0352704 ]\t -15.416245468470875\t -15.416245468470875\t    \n",
            "init\t [2.84012007 7.17587694]\t -22.49093277852639\t -15.416245468470875\t    \n",
            "\u001b[1m\u001b[92m1\u001b[0m\t \u001b[1m\u001b[92m[9.77124156 0.43098073]\u001b[0m\t \u001b[1m\u001b[92m-6.499298445992174\u001b[0m\t \u001b[1m\u001b[92m-6.499298445992174\u001b[0m\t \u001b[1m\u001b[92m-2.8473767480898515\u001b[0m\n",
            "2  \t [-4.87537438 11.82874897]\t -36.57081146531108\t -6.499298445992174\t -2.8473767480924876\n",
            "3  \t [-0.06122276 15.        ]\t -98.83109297567441\t -6.499298445992174\t -2.8473756371935077\n",
            "4  \t [4.45925512 0.85312221]\t -7.977897424673638\t -6.499298445992174\t -2.847373809241556\n",
            "5  \t [-5.          6.10144593]\t -135.6212445423813\t -6.499298445992174\t -2.8473753727477247\n",
            "6  \t [-0.59957441 10.08547678]\t -27.44316459823272\t -6.499298445992174\t -2.8460693233992655\n",
            "7  \t [ 3.81405723 11.86671134]\t -103.64612017752054\t -6.499298445992174\t -2.8466413482290185\n",
            "8  \t [7.40380899 3.60913638]\t -19.519893655673634\t -6.499298445992174\t -2.8433971812781675\n",
            "9  \t [-5.          1.68745364]\t -252.9708498543794\t -6.499298445992174\t -2.8136191859382813\n",
            "10 \t [10.        11.2219933]\t -69.49570485429678\t -6.499298445992174\t -2.7684903224478195\n",
            "11 \t [1.41118659 2.76212254]\t -13.086513488247853\t -6.499298445992174\t -2.7892527201435335\n",
            "12 \t [-1.32818868  3.98360652]\t -31.30035339303793\t -6.499298445992174\t -2.710364258596606\n",
            "13 \t [4.39137044 3.86044684]\t -12.531880661215693\t -6.499298445992174\t -2.640059932712076\n",
            "\u001b[1m\u001b[92m14\u001b[0m\t \u001b[1m\u001b[92m[-3.67326877 14.97377798]\u001b[0m\t \u001b[1m\u001b[92m-3.640259073013138\u001b[0m\t \u001b[1m\u001b[92m-3.640259073013138\u001b[0m\t \u001b[1m\u001b[92m-2.7116616973183723\u001b[0m\n",
            "15 \t [10.          5.11340337]\t -6.3971261953815235\t -3.640259073013138\t -2.677348802414565\n",
            "16 \t [ 4.23169457 15.        ]\t -185.69973225396643\t -3.640259073013138\t -2.4479708826068287\n",
            "17 \t [1.84646858 0.        ]\t -19.64827800684618\t -3.640259073013138\t -2.480964247996629\n",
            "18 \t [-1.32550227  7.10333568]\t -13.852668843890491\t -3.640259073013138\t -2.476077651775573\n",
            "19 \t [6.8586944  0.60283247]\t -18.367029185980726\t -3.640259073013138\t -2.4985043837015724\n",
            "20 \t [-3.3324949   9.09053982]\t -13.879878320755685\t -3.640259073013138\t -2.198237300163367\n"
          ]
        }
      ]
    },
    {
      "cell_type": "code",
      "metadata": {
        "id": "vonm9jyuIv4t",
        "colab": {
          "base_uri": "https://localhost:8080/"
        },
        "outputId": "5bd4e6e1-e8f1-4b2b-ad3c-c0d9b4b7c7f4"
      },
      "source": [
        "### EXACT GP CBM GRADIENTS\n",
        "\n",
        "np.random.seed(run_num_9)\n",
        "surrogate_exact_9 = dGaussianProcess(cov_func, optimize=opt)\n",
        "\n",
        "exact_9 = dGPGO(surrogate_exact_9, Acquisition_new(util_grad_exact), objfunc, param)\n",
        "exact_9.run(init_evals=n_init, max_iter=iters)\n"
      ],
      "execution_count": 42,
      "outputs": [
        {
          "output_type": "stream",
          "name": "stdout",
          "text": [
            "Evaluation \t Proposed point \t  Current eval. \t  Best eval. \t         Max AcqFunc.\n",
            "init\t [-4.84438769  7.52811888]\t -96.15564306553264\t -3.4640248583909496\t    \n",
            "init\t [2.4365994  2.00744293]\t -3.4640248583909496\t -3.4640248583909496\t    \n",
            "init\t [-2.86833372  3.27838013]\t -70.46930174488207\t -3.4640248583909496\t    \n",
            "init\t [1.27762271 3.72151753]\t -12.982825924833865\t -3.4640248583909496\t    \n",
            "init\t [-3.73910523  5.1824796 ]\t -75.58547400560856\t -3.4640248583909496\t    \n",
            "1  \t [ 7.05609655 14.75038872]\t -200.4388688685465\t -3.4640248583909496\t -2.8473767480924885\n",
            "2  \t [-0.46054038 14.56197292]\t -79.4666617606301\t -3.4640248583909496\t -2.8473767480394083\n",
            "3  \t [8.28747407 1.2035024 ]\t -6.196385269800155\t -3.4640248583909496\t -2.847376711935635\n",
            "4  \t [4.5652329 9.1595724]\t -68.39116463197296\t -3.4640248583909496\t -2.8473760021540158\n",
            "5  \t [10.          6.40988916]\t -13.550330122374906\t -3.4640248583909496\t -2.8473755178894193\n",
            "6  \t [5.8903437  4.49008485]\t -30.31301319237378\t -3.4640248583909496\t -2.8458197965457597\n",
            "7  \t [-0.2565407   9.35434262]\t -27.917030336955758\t -3.4640248583909496\t -2.846771848723152\n",
            "8  \t [-0.34325861  0.        ]\t -62.09568746137127\t -3.4640248583909496\t -2.835526811845581\n",
            "9  \t [10.         10.80542403]\t -62.82163863624534\t -3.4640248583909496\t -2.8463923016533728\n",
            "10 \t [4.93240827 0.        ]\t -13.76675383511008\t -3.4640248583909496\t -2.8337717063876253\n",
            "11 \t [-5.         12.64510482]\t -33.35583728402807\t -3.4640248583909496\t -2.8470671092186413\n",
            "12 \t [-5.  0.]\t -308.12909601160663\t -3.4640248583909496\t -2.830843419771779\n",
            "13 \t [ 3.16834548 14.71486381]\t -155.6687425330733\t -3.4640248583909496\t -2.7408004168267284\n",
            "14 \t [1.91503394 6.65935527]\t -17.214757484467572\t -3.4640248583909496\t -2.69711483822749\n",
            "15 \t [-2.26920887 11.53574783]\t -5.410843011275401\t -3.4640248583909496\t -2.3803584199253995\n",
            "\u001b[1m\u001b[92m16\u001b[0m\t \u001b[1m\u001b[92m[10.          3.29685074]\u001b[0m\t \u001b[1m\u001b[92m-2.029514423533607\u001b[0m\t \u001b[1m\u001b[92m-2.029514423533607\u001b[0m\t \u001b[1m\u001b[92m-2.712561697421773\u001b[0m\n",
            "17 \t [ 2.1504655  11.23441063]\t -69.69711862954622\t -2.029514423533607\t -2.386719331571314\n",
            "18 \t [-1.00904005  6.67670599]\t -16.240005643557886\t -2.029514423533607\t -2.1185119141217914\n",
            "19 \t [7.66526095 8.22477091]\t -58.505188332477964\t -2.029514423533607\t -2.5049978995134277\n",
            "20 \t [8.52319826 4.48960382]\t -11.1725453456495\t -2.029514423533607\t -1.825420952150734\n"
          ]
        }
      ]
    },
    {
      "cell_type": "code",
      "metadata": {
        "id": "6amuYlUdIv7r",
        "colab": {
          "base_uri": "https://localhost:8080/"
        },
        "outputId": "ecce5b79-65c8-48c9-d5fb-ea16fcfd6ddd"
      },
      "source": [
        "### EXACT GP CBM GRADIENTS\n",
        "\n",
        "np.random.seed(run_num_10)\n",
        "surrogate_exact_10 = dGaussianProcess(cov_func, optimize=opt)\n",
        "\n",
        "exact_10 = dGPGO(surrogate_exact_10, Acquisition_new(util_grad_exact), objfunc, param)\n",
        "exact_10.run(init_evals=n_init, max_iter=iters)\n"
      ],
      "execution_count": 43,
      "outputs": [
        {
          "output_type": "stream",
          "name": "stdout",
          "text": [
            "Evaluation \t Proposed point \t  Current eval. \t  Best eval. \t         Max AcqFunc.\n",
            "init\t [6.56980965 0.31127924]\t -19.863985024602144\t -2.710610964564512\t    \n",
            "init\t [ 4.50472352 11.23205824]\t -103.66999147252169\t -2.710610964564512\t    \n",
            "init\t [2.47760518 3.37194968]\t -2.710610964564512\t -2.710610964564512\t    \n",
            "init\t [-2.02905703 11.40796068]\t -8.463930835255017\t -2.710610964564512\t    \n",
            "init\t [-2.46333745  1.32509721]\t -90.49481266026973\t -2.710610964564512\t    \n",
            "1  \t [10. 15.]\t -145.87219087939556\t -2.710610964564512\t -2.8473767480924885\n",
            "2  \t [9.65621089 6.61160737]\t -16.1339423373336\t -2.710610964564512\t -2.8473767480924885\n",
            "3  \t [-3.43070383  6.59407857]\t -41.58407101130534\t -2.710610964564512\t -2.8473767472264986\n",
            "4  \t [ 1.02271483 15.        ]\t -125.09744840225237\t -2.710610964564512\t -2.8473752926435965\n",
            "5  \t [5.26563535 6.20099661]\t -40.041725857592425\t -2.710610964564512\t -2.8462612651436787\n",
            "6  \t [1.95187418 0.        ]\t -17.891495057529326\t -2.710610964564512\t -2.8420551575609907\n",
            "7  \t [1.01070359 7.61623589]\t -24.667021320714085\t -2.710610964564512\t -2.8456181546798875\n",
            "8  \t [ 5.7353408 15.       ]\t -210.81420060739705\t -2.710610964564512\t -2.8181554719041317\n",
            "9  \t [ 8.5602371  11.02767784]\t -88.13953350568032\t -2.710610964564512\t -2.823085698401731\n",
            "10 \t [-5.          9.95371068]\t -65.04943699933966\t -2.710610964564512\t -2.8080774055869\n",
            "11 \t [-0.11817465  4.32815883]\t -23.001166626569443\t -2.710610964564512\t -2.750245183808963\n",
            "12 \t [8.18727038 3.46107081]\t -10.215228374285672\t -2.710610964564512\t -2.8028092768966824\n",
            "13 \t [-3.01830275 14.35043808]\t -6.086580940627797\t -2.710610964564512\t -2.799022699284294\n",
            "14 \t [4.05387544 3.30871238]\t -6.805960805778499\t -2.710610964564512\t -2.314701336713607\n",
            "15 \t [ 0.94716614 10.75667951]\t -53.40843614042386\t -2.710610964564512\t -2.6282531894781185\n",
            "16 \t [-5.  0.]\t -308.12909601160663\t -2.710610964564512\t -2.0939348421765756\n",
            "17 \t [-4.88310523  3.85410019]\t -180.57854121111413\t -2.710610964564512\t -2.4907839459591314\n",
            "18 \t [7.39929636 8.08836984]\t -60.34719215711608\t -2.710610964564512\t -1.9844239657985225\n",
            "19 \t [-1.622864    8.88837454]\t -9.501472071929909\t -2.710610964564512\t -2.0032495406479067\n",
            "20 \t [5.74232597 3.46235769]\t -23.71552036634054\t -2.710610964564512\t -1.3408804359864623\n"
          ]
        }
      ]
    },
    {
      "cell_type": "code",
      "metadata": {
        "id": "VwbLIP9cIv-F",
        "colab": {
          "base_uri": "https://localhost:8080/"
        },
        "outputId": "08a74b09-97c4-460f-aabb-037285c896f9"
      },
      "source": [
        "### EXACT GP CBM GRADIENTS\n",
        "\n",
        "np.random.seed(run_num_11)\n",
        "surrogate_exact_11 = dGaussianProcess(cov_func, optimize=opt)\n",
        "\n",
        "exact_11 = dGPGO(surrogate_exact_11, Acquisition_new(util_grad_exact), objfunc, param)\n",
        "exact_11.run(init_evals=n_init, max_iter=iters)\n"
      ],
      "execution_count": 44,
      "outputs": [
        {
          "output_type": "stream",
          "name": "stdout",
          "text": [
            "Evaluation \t Proposed point \t  Current eval. \t  Best eval. \t         Max AcqFunc.\n",
            "init\t [-2.29595467  0.29212862]\t -104.49282729548965\t -22.37435843952312\t    \n",
            "init\t [ 1.9482779  10.87400894]\t -62.47758067812407\t -22.37435843952312\t    \n",
            "init\t [1.30305407 7.28140647]\t -22.37435843952312\t -22.37435843952312\t    \n",
            "init\t [-4.80828778  7.31057411]\t -97.94503054415523\t -22.37435843952312\t    \n",
            "init\t [ 9.12709979 12.76192634]\t -111.62900800771942\t -22.37435843952312\t    \n",
            "\u001b[1m\u001b[92m1\u001b[0m\t \u001b[1m\u001b[92m[6.94653631 0.95529646]\u001b[0m\t \u001b[1m\u001b[92m-17.615403152614682\u001b[0m\t \u001b[1m\u001b[92m-17.615403152614682\u001b[0m\t \u001b[1m\u001b[92m-2.8473767480924854\u001b[0m\n",
            "\u001b[1m\u001b[92m2\u001b[0m\t \u001b[1m\u001b[92m[9.28757863 6.14597098]\u001b[0m\t \u001b[1m\u001b[92m-14.808817058454768\u001b[0m\t \u001b[1m\u001b[92m-14.808817058454768\u001b[0m\t \u001b[1m\u001b[92m-2.847375928862046\u001b[0m\n",
            "\u001b[1m\u001b[92m3\u001b[0m\t \u001b[1m\u001b[92m[2.53972956 0.18000683]\u001b[0m\t \u001b[1m\u001b[92m-8.90329212294862\u001b[0m\t \u001b[1m\u001b[92m-8.90329212294862\u001b[0m\t \u001b[1m\u001b[92m-2.846546958824737\u001b[0m\n",
            "4  \t [5.05957105 5.47274133]\t -31.060923010105455\t -8.90329212294862\t -2.844669947162841\n",
            "\u001b[1m\u001b[92m5\u001b[0m\t \u001b[1m\u001b[92m[-2.78848114 11.96286231]\u001b[0m\t \u001b[1m\u001b[92m-1.261106804892382\u001b[0m\t \u001b[1m\u001b[92m-1.261106804892382\u001b[0m\t \u001b[1m\u001b[92m-2.8470178320196236\u001b[0m\n",
            "6  \t [ 4.67332332 15.        ]\t -195.03246816477423\t -1.261106804892382\t -2.8469987413599527\n",
            "7  \t [-0.10011342 14.77227555]\t -93.71446835725953\t -1.261106804892382\t -2.8440556415720484\n",
            "8  \t [6.37461384 9.32971302]\t -87.2245246379199\t -1.261106804892382\t -2.8388289905750157\n",
            "9  \t [0.35746719 3.60888366]\t -22.37593270984904\t -1.261106804892382\t -2.831452809746502\n",
            "10 \t [-4.6136512   3.14358182]\t -176.7317281613643\t -1.261106804892382\t -2.7780850289133183\n",
            "11 \t [-5.         13.36925696]\t -27.301666173994235\t -1.261106804892382\t -2.827017559096142\n",
            "\u001b[1m\u001b[92m12\u001b[0m\t \u001b[1m\u001b[92m[9.49287327 3.02994137]\u001b[0m\t \u001b[1m\u001b[92m-0.6670532171930699\u001b[0m\t \u001b[1m\u001b[92m-0.6670532171930699\u001b[0m\t \u001b[1m\u001b[92m-2.7508288148731146\u001b[0m\n",
            "13 \t [9.94075777 9.35512529]\t -42.74239592532096\t -0.6670532171930699\t -2.6162058057685567\n",
            "14 \t [-1.66317919  9.63778954]\t -9.515401288845803\t -0.6670532171930699\t -2.779581432970954\n",
            "15 \t [-1.60124742  6.22979146]\t -16.72962660324329\t -0.6670532171930699\t -2.5180219432290336\n",
            "16 \t [3.32236175 2.88914701]\t -1.1181978283765996\t -0.6670532171930699\t -2.53352489647159\n",
            "17 \t [7.40569192 4.03925906]\t -21.673523465185173\t -0.6670532171930699\t -2.267570399356061\n",
            "18 \t [9.94720983 1.8640597 ]\t -2.8600415406395783\t -0.6670532171930699\t -2.7119035609052755\n",
            "19 \t [4.33199066 2.27580685]\t -6.991477306555138\t -0.6670532171930699\t -2.257817311424177\n",
            "20 \t [-4.63470045 10.58251627]\t -40.26608400222515\t -0.6670532171930699\t -2.2960668040465957\n"
          ]
        }
      ]
    },
    {
      "cell_type": "code",
      "metadata": {
        "id": "MlUNFjc-JTBY",
        "colab": {
          "base_uri": "https://localhost:8080/"
        },
        "outputId": "9cc2602b-7304-4fc4-94f2-bc8281b9e71f"
      },
      "source": [
        "### EXACT GP CBM GRADIENTS\n",
        "\n",
        "np.random.seed(run_num_12)\n",
        "surrogate_exact_12 = dGaussianProcess(cov_func, optimize=opt)\n",
        "\n",
        "exact_12 = dGPGO(surrogate_exact_12, Acquisition_new(util_grad_exact), objfunc, param)\n",
        "exact_12.run(init_evals=n_init, max_iter=iters)\n"
      ],
      "execution_count": 45,
      "outputs": [
        {
          "output_type": "stream",
          "name": "stdout",
          "text": [
            "Evaluation \t Proposed point \t  Current eval. \t  Best eval. \t         Max AcqFunc.\n",
            "init\t [-2.68755736 11.10074545]\t -1.3827702760021356\t -0.5499315281120278\t    \n",
            "init\t [-1.05027477  8.0060909 ]\t -14.81231853080056\t -0.5499315281120278\t    \n",
            "init\t [-4.78137556 13.78120512]\t -18.401131000214548\t -0.5499315281120278\t    \n",
            "init\t [8.51072281 0.50132141]\t -5.855172364344769\t -0.5499315281120278\t    \n",
            "init\t [9.35424004 2.05813982]\t -0.5499315281120278\t -0.5499315281120278\t    \n",
            "1  \t [10.          4.43193296]\t -3.9851140862090073\t -0.5499315281120278\t -2.8477076023925645\n",
            "2  \t [10. 15.]\t -145.87219087939556\t -0.5499315281120278\t -2.8473767480924885\n",
            "3  \t [-5.  0.]\t -308.12909601160663\t -0.5499315281120278\t -2.8473767480924885\n",
            "4  \t [ 2.96504557 14.18967184]\t -139.14981054237984\t -0.5499315281120278\t -2.847376746485342\n",
            "5  \t [2.96670497 0.        ]\t -6.378219500199166\t -0.5499315281120278\t -2.847376199983023\n",
            "6  \t [4.5654606  8.05555546]\t -52.53872862319815\t -0.5499315281120278\t -2.8473755670734855\n",
            "7  \t [9.48677249 9.67407491]\t -51.48571871273853\t -0.5499315281120278\t -2.8472915425900878\n",
            "8  \t [-5.          5.40217699]\t -151.61429197539675\t -0.5499315281120278\t -2.8472036089580217\n",
            "9  \t [0.23167413 3.34930165]\t -24.584691153337857\t -0.5499315281120278\t -2.8470243471516166\n",
            "10 \t [5.55709099 3.45487228]\t -22.51573441497485\t -0.5499315281120278\t -2.8461568501365035\n",
            "11 \t [-1.17329938 14.80771131]\t -59.44860270767352\t -0.5499315281120278\t -2.828081658832424\n",
            "12 \t [-0.64810504  0.        ]\t -67.86299254771905\t -0.5499315281120278\t -2.8002555649084724\n",
            "13 \t [-5.          9.64595082]\t -69.59660697154334\t -0.5499315281120278\t -2.8194563355215996\n",
            "14 \t [ 1.04074638 10.6561336 ]\t -52.955670636636306\t -0.5499315281120278\t -2.798834355825098\n",
            "15 \t [5.63914593e+00 1.66179179e-04]\t -18.962089806655246\t -0.5499315281120278\t -2.687442061639513\n",
            "16 \t [ 6.46383861 11.62395474]\t -129.9898039726051\t -0.5499315281120278\t -2.7938908781652\n",
            "17 \t [1.67573199 6.20343946]\t -15.282751343875422\t -0.5499315281120278\t -2.664717853071858\n",
            "18 \t [8.26112063 5.74767309]\t -22.83852297479238\t -0.5499315281120278\t -2.6313636016559605\n",
            "\u001b[1m\u001b[92m19\u001b[0m\t \u001b[1m\u001b[92m[3.05906293 2.18289495]\u001b[0m\t \u001b[1m\u001b[92m-0.45532746368099275\u001b[0m\t \u001b[1m\u001b[92m-0.45532746368099275\u001b[0m\t \u001b[1m\u001b[92m-2.1960600225843354\u001b[0m\n",
            "20 \t [8.92174705 2.70595356]\t -1.9749531236201001\t -0.45532746368099275\t -2.1817190000108604\n"
          ]
        }
      ]
    },
    {
      "cell_type": "code",
      "metadata": {
        "id": "9BsKdU9eJTFL",
        "colab": {
          "base_uri": "https://localhost:8080/"
        },
        "outputId": "812099df-2424-4bb1-ff3a-a69495225040"
      },
      "source": [
        "### EXACT GP CBM GRADIENTS\n",
        "\n",
        "np.random.seed(run_num_13)\n",
        "surrogate_exact_13 = dGaussianProcess(cov_func, optimize=opt)\n",
        "\n",
        "exact_13 = dGPGO(surrogate_exact_13, Acquisition_new(util_grad_exact), objfunc, param)\n",
        "exact_13.run(init_evals=n_init, max_iter=iters)\n"
      ],
      "execution_count": 46,
      "outputs": [
        {
          "output_type": "stream",
          "name": "stdout",
          "text": [
            "Evaluation \t Proposed point \t  Current eval. \t  Best eval. \t         Max AcqFunc.\n",
            "init\t [6.66553616 3.5631183 ]\t -24.823670200298267\t -18.038943061558626\t    \n",
            "init\t [ 7.36417799 14.48623797]\t -188.7803334745195\t -18.038943061558626\t    \n",
            "init\t [9.58901671 6.80173871]\t -18.038943061558626\t -18.038943061558626\t    \n",
            "init\t [ 4.13563694 11.63289772]\t -104.87319703906111\t -18.038943061558626\t    \n",
            "init\t [ 4.62420017 10.83027344]\t -98.03271225790056\t -18.038943061558626\t    \n",
            "1  \t [-5.  0.]\t -308.12909601160663\t -18.038943061558626\t -2.8473767480924885\n",
            "\u001b[1m\u001b[92m2\u001b[0m\t \u001b[1m\u001b[92m[-3.06562888 11.40851515]\u001b[0m\t \u001b[1m\u001b[92m-0.8943531028899869\u001b[0m\t \u001b[1m\u001b[92m-0.8943531028899869\u001b[0m\t \u001b[1m\u001b[92m-2.847376747869373\u001b[0m\n",
            "3  \t [-0.28623387  5.35477483]\t -20.446572446805522\t -0.8943531028899869\t -2.8473767464693593\n",
            "4  \t [-0.24399172 15.        ]\t -93.34626094888586\t -0.8943531028899869\t -2.8473538468791664\n",
            "5  \t [2.11328455 0.        ]\t -15.369554436739383\t -0.8943531028899869\t -2.847375718265522\n",
            "6  \t [-5.          5.30429629]\t -153.9309565511198\t -0.8943531028899869\t -2.847104237001326\n",
            "7  \t [3.71263908 6.46404139]\t -23.010167066996914\t -0.8943531028899869\t -2.8413788225494345\n",
            "8  \t [0.08167925 9.47076438]\t -32.52937369408575\t -0.8943531028899869\t -2.843173633241119\n",
            "9  \t [ 9.6765547  10.83917022]\t -67.01888285468736\t -0.8943531028899869\t -2.83625063394977\n",
            "10 \t [-3.59190074  9.03099709]\t -20.298450999988738\t -0.8943531028899869\t -2.7790717399931286\n",
            "11 \t [10.          2.34599735]\t -2.3747361223132977\t -0.8943531028899869\t -2.8241821329200394\n",
            "12 \t [7.038224 0.      ]\t -18.42712714420488\t -0.8943531028899869\t -2.826136050933744\n",
            "13 \t [-4.44881058 13.30963182]\t -12.916383736183098\t -0.8943531028899869\t -2.8326546438156743\n",
            "14 \t [-1.71177172  2.41565082]\t -53.37013140476889\t -0.8943531028899869\t -2.7551387559933143\n",
            "15 \t [2.1257813  3.45246158]\t -5.0038424414177385\t -0.8943531028899869\t -2.6915069685053274\n",
            "16 \t [ 3.43503228 15.        ]\t -168.32228057901642\t -0.8943531028899869\t -2.643492014079395\n",
            "17 \t [6.72833236 7.72953098]\t -62.09133554312263\t -0.8943531028899869\t -2.6563740340699096\n",
            "18 \t [4.028916   2.15973231]\t -4.161996361781696\t -0.8943531028899869\t -2.4008530138402606\n",
            "19 \t [-1.60227664 11.74804213]\t -17.91336502630466\t -0.8943531028899869\t -2.367416478616324\n",
            "20 \t [-0.69425667  0.        ]\t -68.74840243645161\t -0.8943531028899869\t -1.8252278413950225\n"
          ]
        }
      ]
    },
    {
      "cell_type": "code",
      "metadata": {
        "id": "k6GjFBr1JTJf",
        "colab": {
          "base_uri": "https://localhost:8080/"
        },
        "outputId": "b0ac99c6-cb24-4161-bb68-d501b165954a"
      },
      "source": [
        "### EXACT GP CBM GRADIENTS\n",
        "\n",
        "np.random.seed(run_num_14)\n",
        "surrogate_exact_14 = dGaussianProcess(cov_func, optimize=opt)\n",
        "\n",
        "exact_14 = dGPGO(surrogate_exact_14, Acquisition_new(util_grad_exact), objfunc, param)\n",
        "exact_14.run(init_evals=n_init, max_iter=iters)\n"
      ],
      "execution_count": 47,
      "outputs": [
        {
          "output_type": "stream",
          "name": "stdout",
          "text": [
            "Evaluation \t Proposed point \t  Current eval. \t  Best eval. \t         Max AcqFunc.\n",
            "init\t [ 2.70915016 11.59747578]\t -81.58264375064097\t -1.4149920024014744\t    \n",
            "init\t [8.05641529 0.12070423]\t -10.148649076616518\t -1.4149920024014744\t    \n",
            "init\t [-0.35396112 14.36405609]\t -79.6056658956529\t -1.4149920024014744\t    \n",
            "init\t [2.69675068 4.77426637]\t -5.855607664288365\t -1.4149920024014744\t    \n",
            "init\t [3.08799906 3.31882414]\t -1.4149920024014744\t -1.4149920024014744\t    \n",
            "1  \t [-5.  0.]\t -308.12909601160663\t -1.4149920024014744\t -2.8473767480924885\n",
            "2  \t [-3.61083748  7.85924032]\t -32.481990179851884\t -1.4149920024014744\t -2.847376747825071\n",
            "3  \t [10. 15.]\t -145.87219087939556\t -1.4149920024014744\t -2.8473767480921306\n",
            "4  \t [8.19772537 6.72053896]\t -32.63212233587686\t -1.4149920024014744\t -2.8473766279503785\n",
            "5  \t [-0.56619123  2.26229038]\t -40.008388322741176\t -1.4149920024014744\t -2.84595833560158\n",
            "6  \t [ 7.65260133 10.94698247]\t -103.33589477632434\t -1.4149920024014744\t -2.844098032018024\n",
            "7  \t [ 5.37779634 15.        ]\t -207.00135229981157\t -1.4149920024014744\t -2.841098594342973\n",
            "8  \t [-5.         12.62856852]\t -33.50633497548\t -1.4149920024014744\t -2.8471242172631586\n",
            "9  \t [0.90418654 7.57214009]\t -24.379636565238904\t -1.4149920024014744\t -2.8327966720492763\n",
            "10 \t [3.40464636 0.        ]\t -5.049581918057046\t -1.4149920024014744\t -2.8457351094994343\n",
            "11 \t [-5.          4.32129501]\t -178.25938160724067\t -1.4149920024014744\t -2.8218263797653806\n",
            "12 \t [10.         3.2151156]\t -1.9881520999022122\t -1.4149920024014744\t -2.834080602923486\n",
            "13 \t [5.92583991 3.39557463]\t -24.24170927221908\t -1.4149920024014744\t -2.829127484213972\n",
            "14 \t [4.49019498 8.09570813]\t -51.94007564339905\t -1.4149920024014744\t -2.797178263190047\n",
            "15 \t [-1.52222203 10.74362139]\t -14.553052986860921\t -1.4149920024014744\t -2.775589955471453\n",
            "16 \t [-1.26250005  5.40840445]\t -20.791945169559277\t -1.4149920024014744\t -2.5264337277280613\n",
            "17 \t [5.46321236 0.19463721]\t -17.48434297902927\t -1.4149920024014744\t -2.3050481562257206\n",
            "\u001b[1m\u001b[92m18\u001b[0m\t \u001b[1m\u001b[92m[2.88152931 1.95093532]\u001b[0m\t \u001b[1m\u001b[92m-1.0076539784961298\u001b[0m\t \u001b[1m\u001b[92m-1.0076539784961298\u001b[0m\t \u001b[1m\u001b[92m-2.2753800314252755\u001b[0m\n",
            "19 \t [0.73262896 0.        ]\t -41.18097555754393\t -1.0076539784961298\t -2.121363774024808\n",
            "20 \t [9.82941218 1.93975295]\t -1.9791856445007419\t -1.0076539784961298\t -2.1590654305801587\n"
          ]
        }
      ]
    },
    {
      "cell_type": "code",
      "metadata": {
        "id": "dPS8WB3aJTN6",
        "colab": {
          "base_uri": "https://localhost:8080/"
        },
        "outputId": "8056abc3-352e-40ec-af2f-a74a66bd0c4f"
      },
      "source": [
        "### EXACT GP CBM GRADIENTS\n",
        "\n",
        "np.random.seed(run_num_15)\n",
        "surrogate_exact_15 = dGaussianProcess(cov_func, optimize=opt)\n",
        "\n",
        "exact_15 = dGPGO(surrogate_exact_15, Acquisition_new(util_grad_exact), objfunc, param)\n",
        "exact_15.run(init_evals=n_init, max_iter=iters)\n"
      ],
      "execution_count": 48,
      "outputs": [
        {
          "output_type": "stream",
          "name": "stdout",
          "text": [
            "Evaluation \t Proposed point \t  Current eval. \t  Best eval. \t         Max AcqFunc.\n",
            "init\t [7.73226546 2.68343887]\t -12.768724532005583\t -12.768724532005583\t    \n",
            "init\t [-4.18455179  5.42307669]\t -95.39334176626551\t -12.768724532005583\t    \n",
            "init\t [-0.86898607  7.95000337]\t -16.419487782111716\t -12.768724532005583\t    \n",
            "init\t [-0.41121626  4.56711539]\t -23.250362743740954\t -12.768724532005583\t    \n",
            "init\t [-3.32388086  3.74848521]\t -80.99796277938532\t -12.768724532005583\t    \n",
            "1  \t [10. 15.]\t -145.87219087939556\t -12.768724532005583\t -2.8473767480924885\n",
            "2  \t [-4.77493765 13.49591113]\t -19.896906503438096\t -12.768724532005583\t -2.8473767472575493\n",
            "3  \t [ 3.80261319 11.96078244]\t -105.3381651976412\t -12.768724532005583\t -2.847376696814521\n",
            "4  \t [8.63272613 8.32488519]\t -44.68998814179533\t -12.768724532005583\t -2.847375610113785\n",
            "\u001b[1m\u001b[92m5\u001b[0m\t \u001b[1m\u001b[92m[2.6105921 0.       ]\u001b[0m\t \u001b[1m\u001b[92m-9.14860824105746\u001b[0m\t \u001b[1m\u001b[92m-9.14860824105746\u001b[0m\t \u001b[1m\u001b[92m-2.8473728875993247\u001b[0m\n",
            "6  \t [4.00175236 6.51261993]\t -26.899842487862394\t -9.14860824105746\t -2.8471368564393282\n",
            "7  \t [-1.44124683  0.        ]\t -84.55099887049779\t -9.14860824105746\t -2.840394984158124\n",
            "8  \t [-0.2545725 15.       ]\t -93.0199969367811\t -9.14860824105746\t -2.84712094250863\n",
            "\u001b[1m\u001b[92m9\u001b[0m\t \u001b[1m\u001b[92m[3.61081769 3.02879213]\u001b[0m\t \u001b[1m\u001b[92m-2.6265827515982885\u001b[0m\t \u001b[1m\u001b[92m-2.6265827515982885\u001b[0m\t \u001b[1m\u001b[92m-2.7879991926357293\u001b[0m\n",
            "10 \t [-4.03070389  9.5798263 ]\t -28.29447457691622\t -2.6265827515982885\t -2.8214036683595056\n",
            "11 \t [-5.  0.]\t -308.12909601160663\t -2.6265827515982885\t -2.764214440696974\n",
            "12 \t [-0.6649103  11.26540274]\t -34.77952610157084\t -2.6265827515982885\t -2.7605476655524663\n",
            "13 \t [ 7.99616362 11.67798611]\t -111.54809561274108\t -2.6265827515982885\t -2.7343407891073586\n",
            "14 \t [10.          5.13192447]\t -6.475644822400171\t -2.6265827515982885\t -2.7695814751859253\n",
            "15 \t [ 6.15989964 14.95908206]\t -211.65774090558992\t -2.6265827515982885\t -2.7176569216079476\n",
            "16 \t [2.28564737 8.62041355]\t -34.878456096740635\t -2.6265827515982885\t -2.3980392798523873\n",
            "17 \t [7.51168929 5.15181216]\t -27.798058765509083\t -2.6265827515982885\t -2.317090962919601\n",
            "18 \t [5.45179933 0.60013412]\t -16.78703157275401\t -2.6265827515982885\t -2.7161256625094032\n",
            "19 \t [5.42826698 9.15805164]\t -80.15528719265228\t -2.6265827515982885\t -2.1404163541394765\n",
            "20 \t [4.8356712  3.76238442]\t -17.123546280234553\t -2.6265827515982885\t -1.906411283889504\n"
          ]
        }
      ]
    },
    {
      "cell_type": "code",
      "metadata": {
        "id": "SHWdp2giJTRm",
        "colab": {
          "base_uri": "https://localhost:8080/"
        },
        "outputId": "7c3d4002-29d4-48d0-c6a8-71e94abe4292"
      },
      "source": [
        "### EXACT GP CBM GRADIENTS\n",
        "\n",
        "np.random.seed(run_num_16)\n",
        "surrogate_exact_16 = dGaussianProcess(cov_func, optimize=opt)\n",
        "\n",
        "exact_16 = dGPGO(surrogate_exact_16, Acquisition_new(util_grad_exact), objfunc, param)\n",
        "exact_16.run(init_evals=n_init, max_iter=iters)\n"
      ],
      "execution_count": 49,
      "outputs": [
        {
          "output_type": "stream",
          "name": "stdout",
          "text": [
            "Evaluation \t Proposed point \t  Current eval. \t  Best eval. \t         Max AcqFunc.\n",
            "init\t [-1.65063381  7.84745012]\t -10.514702126319445\t -2.715864006988424\t    \n",
            "init\t [3.26052185 0.68402925]\t -2.715864006988424\t -2.715864006988424\t    \n",
            "init\t [0.41093253 3.34621413]\t -22.889515127492515\t -2.715864006988424\t    \n",
            "init\t [5.33089243 2.45597138]\t -17.178157611778595\t -2.715864006988424\t    \n",
            "init\t [-3.945127  14.1151629]\t -3.3649224341694195\t -2.715864006988424\t    \n",
            "1  \t [ 5.63879248 14.58068289]\t -198.51319639462758\t -2.715864006988424\t -2.8473767480924885\n",
            "2  \t [10.          8.56760215]\t -32.908420696771365\t -2.715864006988424\t -2.847376747987709\n",
            "3  \t [-5.  0.]\t -308.12909601160663\t -2.715864006988424\t -2.8473767294936696\n",
            "4  \t [4.01460596 8.70226771]\t -52.96545588321293\t -2.715864006988424\t -2.8473752309201874\n",
            "5  \t [-5.          5.06670901]\t -159.63393380213685\t -2.715864006988424\t -2.846561885398117\n",
            "6  \t [ 0.45315665 12.63524817]\t -72.36100568868069\t -2.715864006988424\t -2.847293176928173\n",
            "7  \t [10.          1.69402392]\t -3.656445434353972\t -2.715864006988424\t -2.8472583957686775\n",
            "8  \t [10. 15.]\t -145.87219087939556\t -2.715864006988424\t -2.8406406054518563\n",
            "9  \t [7.19518593 5.75147226]\t -36.2632465063632\t -2.715864006988424\t -2.8324843918328617\n",
            "10 \t [-5.         10.29762751]\t -60.19216846781867\t -2.715864006988424\t -2.845667561047228\n",
            "11 \t [-0.52367242  0.        ]\t -65.49679351543918\t -2.715864006988424\t -2.8123578338691217\n",
            "12 \t [7.38810573 0.        ]\t -15.984875044059576\t -2.715864006988424\t -2.7821918243238426\n",
            "13 \t [ 7.72697107 10.81841221]\t -99.63585688511847\t -2.715864006988424\t -2.735442383908184\n",
            "14 \t [3.28631225 5.14459549]\t -9.377178987551341\t -2.715864006988424\t -2.7390877317661055\n",
            "15 \t [9.99970528 4.50217145]\t -4.190123419075401\t -2.715864006988424\t -2.6454606616155396\n",
            "16 \t [0.99999586 6.68940451]\t -19.818165002628284\t -2.715864006988424\t -2.5911470927374998\n",
            "17 \t [-1.46411536 15.        ]\t -51.89112777309767\t -2.715864006988424\t -2.4433237298545167\n",
            "18 \t [-1.67201126 10.27589169]\t -10.6014249204893\t -2.715864006988424\t -2.2229121676985364\n",
            "19 \t [8.5819129  2.55115948]\t -4.0949821951435466\t -2.715864006988424\t -2.032323197179651\n",
            "20 \t [ 3.73346778 11.6521959 ]\t -97.94427452986271\t -2.715864006988424\t -2.1828507780485316\n"
          ]
        }
      ]
    },
    {
      "cell_type": "code",
      "metadata": {
        "id": "yU2SflSsJTUs",
        "colab": {
          "base_uri": "https://localhost:8080/"
        },
        "outputId": "90f94f33-e6c0-4df4-b45c-8f39b32329df"
      },
      "source": [
        "### EXACT GP CBM GRADIENTS\n",
        "\n",
        "np.random.seed(run_num_17)\n",
        "surrogate_exact_17 = dGaussianProcess(cov_func, optimize=opt)\n",
        "\n",
        "exact_17 = dGPGO(surrogate_exact_17, Acquisition_new(util_grad_exact), objfunc, param)\n",
        "exact_17.run(init_evals=n_init, max_iter=iters)\n"
      ],
      "execution_count": 50,
      "outputs": [
        {
          "output_type": "stream",
          "name": "stdout",
          "text": [
            "Evaluation \t Proposed point \t  Current eval. \t  Best eval. \t         Max AcqFunc.\n",
            "init\t [-0.58002496  7.95880133]\t -19.016141117164256\t -19.016141117164256\t    \n",
            "init\t [-2.1271882   1.01850537]\t -85.05949339404415\t -19.016141117164256\t    \n",
            "init\t [6.8047819  9.84500283]\t -93.89792695202516\t -19.016141117164256\t    \n",
            "init\t [4.56281344 8.63404341]\t -60.50217141122736\t -19.016141117164256\t    \n",
            "init\t [-4.41405626  5.36720407]\t -110.70834086593878\t -19.016141117164256\t    \n",
            "\u001b[1m\u001b[92m1\u001b[0m\t \u001b[1m\u001b[92m[9.76575296 0.98553483]\u001b[0m\t \u001b[1m\u001b[92m-4.1623278326263815\u001b[0m\t \u001b[1m\u001b[92m-4.1623278326263815\u001b[0m\t \u001b[1m\u001b[92m-2.8473767480924885\u001b[0m\n",
            "2  \t [-0.36591853 14.49945231]\t -81.3728947682288\t -4.1623278326263815\t -2.847376743317139\n",
            "3  \t [10. 15.]\t -145.87219087939556\t -4.1623278326263815\t -2.847376270679244\n",
            "4  \t [4.44311288 0.        ]\t -9.632453251447934\t -4.1623278326263815\t -2.847375834768157\n",
            "5  \t [9.4020545  5.54485506]\t -9.942015943776575\t -4.1623278326263815\t -2.847161536078728\n",
            "6  \t [-5.         11.18075677]\t -48.8030372509816\t -4.1623278326263815\t -2.8473679943504107\n",
            "7  \t [ 4.77196933 14.8636526 ]\t -193.27369220309183\t -4.1623278326263815\t -2.8472022614235177\n",
            "8  \t [1.62612802 4.24253658]\t -9.708089025909693\t -4.1623278326263815\t -2.846298163902577\n",
            "9  \t [6.56794216 3.06762737]\t -23.01048293426704\t -4.1623278326263815\t -2.8372047933888123\n",
            "10 \t [ 1.82420609 10.91733607]\t -62.21601385853446\t -4.1623278326263815\t -2.7831379121137556\n",
            "11 \t [10.         11.16648766]\t -68.58637991205657\t -4.1623278326263815\t -2.682874301247864\n",
            "\u001b[1m\u001b[92m12\u001b[0m\t \u001b[1m\u001b[92m[-3.5879242  13.98635333]\u001b[0m\t \u001b[1m\u001b[92m-1.7142823734413355\u001b[0m\t \u001b[1m\u001b[92m-1.7142823734413355\u001b[0m\t \u001b[1m\u001b[92m-2.4728844926829323\u001b[0m\n",
            "13 \t [-1.85985893 11.39691639]\t -11.222981040995666\t -1.7142823734413355\t -2.518948990003316\n",
            "14 \t [1.50285138 0.47664216]\t -22.370669048512163\t -1.7142823734413355\t -2.735826647791325\n",
            "15 \t [4.57592798 5.04315791]\t -21.80512884550864\t -1.7142823734413355\t -2.530591643846349\n",
            "16 \t [-5.  0.]\t -308.12909601160663\t -1.7142823734413355\t -2.438778780801946\n",
            "17 \t [7.25012664 0.04400269]\t -16.910472971386106\t -1.7142823734413355\t -2.6050354425476745\n",
            "18 \t [-0.88847814  4.31388572]\t -26.308788945659145\t -1.7142823734413355\t -2.483270231762903\n",
            "19 \t [10.          7.98976248]\t -26.811373457939396\t -1.7142823734413355\t -2.367213338633457\n",
            "20 \t [9.98813569 3.25435027]\t -1.950979026974581\t -1.7142823734413355\t -2.3783573237140523\n"
          ]
        }
      ]
    },
    {
      "cell_type": "code",
      "metadata": {
        "id": "es0KCh_0JTgY",
        "colab": {
          "base_uri": "https://localhost:8080/"
        },
        "outputId": "c6a8b2b9-7e49-4aef-f3f7-206e2fe0e87c"
      },
      "source": [
        "### EXACT GP CBM GRADIENTS\n",
        "\n",
        "np.random.seed(run_num_18)\n",
        "surrogate_exact_18 = dGaussianProcess(cov_func, optimize=opt)\n",
        "\n",
        "exact_18 = dGPGO(surrogate_exact_18, Acquisition_new(util_grad_exact), objfunc, param)\n",
        "exact_18.run(init_evals=n_init, max_iter=iters)\n"
      ],
      "execution_count": 51,
      "outputs": [
        {
          "output_type": "stream",
          "name": "stdout",
          "text": [
            "Evaluation \t Proposed point \t  Current eval. \t  Best eval. \t         Max AcqFunc.\n",
            "init\t [4.75561363 7.58180061]\t -49.215059064668324\t -8.150075223157177\t    \n",
            "init\t [8.17902206 2.72760338]\t -8.150075223157177\t -8.150075223157177\t    \n",
            "init\t [ 7.78349603 11.25204429]\t -106.98107856533271\t -8.150075223157177\t    \n",
            "init\t [ 4.99152501 14.81843172]\t -196.08601750690153\t -8.150075223157177\t    \n",
            "init\t [-1.14547366  0.42458888]\t -71.23649635555944\t -8.150075223157177\t    \n",
            "1  \t [-4.83474958 11.77354131]\t -35.58412906267954\t -8.150075223157177\t -2.8473767480924885\n",
            "2  \t [-1.30953502  6.26092538]\t -16.661427790675774\t -8.150075223157177\t -2.8473752235149443\n",
            "3  \t [9.44036637 6.65614494]\t -17.770981150571824\t -8.150075223157177\t -2.847375650861921\n",
            "4  \t [-0.63256279 15.        ]\t -80.81252337739869\t -8.150075223157177\t -2.847349395045733\n",
            "5  \t [-0.12756076 10.65515995]\t -39.32694072953375\t -8.150075223157177\t -2.847376748074023\n",
            "\u001b[1m\u001b[92m6\u001b[0m\t \u001b[1m\u001b[92m[4.16876697 0.        ]\u001b[0m\t \u001b[1m\u001b[92m-7.626314157364926\u001b[0m\t \u001b[1m\u001b[92m-7.626314157364926\u001b[0m\t \u001b[1m\u001b[92m-2.8473209664995816\u001b[0m\n",
            "7  \t [-5.          3.36337487]\t -203.82631802506646\t -7.626314157364926\t -2.8469568073120692\n",
            "8  \t [10. 15.]\t -145.87219087939556\t -7.626314157364926\t -2.8429477974612674\n",
            "\u001b[1m\u001b[92m9\u001b[0m\t \u001b[1m\u001b[92m[4.04312492 3.52252815]\u001b[0m\t \u001b[1m\u001b[92m-7.449003758683091\u001b[0m\t \u001b[1m\u001b[92m-7.449003758683091\u001b[0m\t \u001b[1m\u001b[92m-2.8341118000184347\u001b[0m\n",
            "10 \t [-4.31220964  7.46518431]\t -67.10098562641267\t -7.449003758683091\t -2.783583761615768\n",
            "11 \t [1.29815304 3.10971733]\t -13.67121404253598\t -7.449003758683091\t -2.7170077987884\n",
            "12 \t [ 3.29900606 11.23513875]\t -82.95752261053467\t -7.449003758683091\t -2.7492928794126503\n",
            "\u001b[1m\u001b[92m13\u001b[0m\t \u001b[1m\u001b[92m[9.03261402 0.        ]\u001b[0m\t \u001b[1m\u001b[92m-5.8100342341003515\u001b[0m\t \u001b[1m\u001b[92m-5.8100342341003515\u001b[0m\t \u001b[1m\u001b[92m-2.7786733107110817\u001b[0m\n",
            "14 \t [1.57550613 6.68173082]\t -18.183426266181222\t -5.8100342341003515\t -2.6111106485210414\n",
            "15 \t [-5.  0.]\t -308.12909601160663\t -5.8100342341003515\t -2.847376700541767\n",
            "16 \t [6.59865775 0.11836926]\t -20.137326645650372\t -5.8100342341003515\t -2.4617208321554647\n",
            "\u001b[1m\u001b[92m17\u001b[0m\t \u001b[1m\u001b[92m[-3.84860752 14.60136893]\u001b[0m\t \u001b[1m\u001b[92m-3.016066911981773\u001b[0m\t \u001b[1m\u001b[92m-3.016066911981773\u001b[0m\t \u001b[1m\u001b[92m-2.4347740943739624\u001b[0m\n",
            "\u001b[1m\u001b[92m18\u001b[0m\t \u001b[1m\u001b[92m[10.          3.91914278]\u001b[0m\t \u001b[1m\u001b[92m-2.782537762660029\u001b[0m\t \u001b[1m\u001b[92m-2.782537762660029\u001b[0m\t \u001b[1m\u001b[92m-2.289168903005773\u001b[0m\n",
            "19 \t [7.37451686 4.59244228]\t -25.344886836585147\t -2.782537762660029\t -2.1689876016391447\n",
            "20 \t [-1.2183823   3.56453789]\t -34.165827823294904\t -2.782537762660029\t -2.0384747778066887\n"
          ]
        }
      ]
    },
    {
      "cell_type": "code",
      "metadata": {
        "id": "Pput2LHPIwBM",
        "colab": {
          "base_uri": "https://localhost:8080/"
        },
        "outputId": "4e4c28eb-39d9-46dc-cd5b-d6d1bdb7be36"
      },
      "source": [
        "### EXACT GP CBM GRADIENTS\n",
        "\n",
        "np.random.seed(run_num_19)\n",
        "surrogate_exact_19 = dGaussianProcess(cov_func, optimize=opt)\n",
        "\n",
        "exact_19 = dGPGO(surrogate_exact_19, Acquisition_new(util_grad_exact), objfunc, param)\n",
        "exact_19.run(init_evals=n_init, max_iter=iters)\n"
      ],
      "execution_count": 52,
      "outputs": [
        {
          "output_type": "stream",
          "name": "stdout",
          "text": [
            "Evaluation \t Proposed point \t  Current eval. \t  Best eval. \t         Max AcqFunc.\n",
            "init\t [-3.53699597 11.41874575]\t -4.475608269502271\t -4.475608269502271\t    \n",
            "init\t [-1.2959304   2.07197531]\t -51.13947793770689\t -4.475608269502271\t    \n",
            "init\t [-0.02830155  1.24499348]\t -42.63973921760034\t -4.475608269502271\t    \n",
            "init\t [ 5.07965622 12.09890697]\t -131.17235664506808\t -4.475608269502271\t    \n",
            "init\t [9.74112872 9.53491102]\t -46.84458913925112\t -4.475608269502271\t    \n",
            "\u001b[1m\u001b[92m1\u001b[0m\t \u001b[1m\u001b[92m[9.57054653 2.03489665]\u001b[0m\t \u001b[1m\u001b[92m-0.8198597583535783\u001b[0m\t \u001b[1m\u001b[92m-0.8198597583535783\u001b[0m\t \u001b[1m\u001b[92m-2.8473767480784042\u001b[0m\n",
            "2  \t [5.42521611 5.04173547]\t -31.28704188683422\t -0.8198597583535783\t -2.847375827206759\n",
            "3  \t [0.55933473 7.98196985]\t -26.15771016201193\t -0.8198597583535783\t -2.8473732563650773\n",
            "4  \t [ 0.0862411 15.       ]\t -103.03833434926992\t -0.8198597583535783\t -2.8473678130564624\n",
            "5  \t [-5.          6.29699488]\t -131.32380621405628\t -0.8198597583535783\t -2.8473714150971507\n",
            "6  \t [10. 15.]\t -145.87219087939556\t -0.8198597583535783\t -2.8473639467229486\n",
            "7  \t [-5.  0.]\t -308.12909601160663\t -0.8198597583535783\t -2.8445519582122194\n",
            "8  \t [5.24302404 0.        ]\t -16.3154766282924\t -0.8198597583535783\t -2.847318268838068\n",
            "9  \t [2.27142145 3.87274428]\t -4.484117765250321\t -0.8198597583535783\t -2.7444183276723972\n",
            "10 \t [10.          5.23018328]\t -6.90367932958529\t -0.8198597583535783\t -2.84251755234689\n",
            "11 \t [3.51094624 8.83330024]\t -47.67686779197902\t -0.8198597583535783\t -2.6360386299860754\n",
            "12 \t [8.96840809 0.        ]\t -5.862054073008646\t -0.8198597583535783\t -2.7939537370695353\n",
            "13 \t [-0.18195221 11.21337903]\t -43.64524403907984\t -0.8198597583535783\t -2.746414077072144\n",
            "14 \t [7.58154876 2.75543446]\t -14.533440132558194\t -0.8198597583535783\t -2.659878027999447\n",
            "15 \t [-3.65196144 14.1154811 ]\t -1.9582782708966384\t -0.8198597583535783\t -2.7566266313854615\n",
            "16 \t [6.76268438 8.141464  ]\t -67.47024426906754\t -0.8198597583535783\t -2.5888696929318\n",
            "17 \t [-1.47504503  5.61682541]\t -19.989286299138765\t -0.8198597583535783\t -2.6006991065604494\n",
            "\u001b[1m\u001b[92m18\u001b[0m\t \u001b[1m\u001b[92m[3.16285039 1.9894735 ]\u001b[0m\t \u001b[1m\u001b[92m-0.4724215101045601\u001b[0m\t \u001b[1m\u001b[92m-0.4724215101045601\u001b[0m\t \u001b[1m\u001b[92m-2.3687027948262673\u001b[0m\n",
            "19 \t [2.65091509 5.59342161]\t -9.967849097386544\t -0.4724215101045601\t -1.9133059658428053\n",
            "20 \t [ 6.56834555 15.        ]\t -211.88035742274323\t -0.4724215101045601\t -2.323169299389261\n"
          ]
        }
      ]
    },
    {
      "cell_type": "code",
      "metadata": {
        "id": "aw3xvSryIwDi",
        "colab": {
          "base_uri": "https://localhost:8080/"
        },
        "outputId": "5bd3bb35-1213-4bb4-8ee6-9959be3db75e"
      },
      "source": [
        "### EXACT GP CBM GRADIENTS\n",
        "\n",
        "np.random.seed(run_num_20)\n",
        "surrogate_exact_20 = dGaussianProcess(cov_func, optimize=opt)\n",
        "\n",
        "exact_20 = dGPGO(surrogate_exact_20, Acquisition_new(util_grad_exact), objfunc, param)\n",
        "exact_20.run(init_evals=n_init, max_iter=iters)\n"
      ],
      "execution_count": 53,
      "outputs": [
        {
          "output_type": "stream",
          "name": "stdout",
          "text": [
            "Evaluation \t Proposed point \t  Current eval. \t  Best eval. \t         Max AcqFunc.\n",
            "init\t [ 3.82196202 13.46570592]\t -138.5264349938869\t -14.042667401507376\t    \n",
            "init\t [ 8.37296094 12.23756216]\t -115.63178540512689\t -14.042667401507376\t    \n",
            "init\t [-4.46165622 10.37636373]\t -35.66708529307584\t -14.042667401507376\t    \n",
            "init\t [0.68021413 7.77766418]\t -25.307769914281764\t -14.042667401507376\t    \n",
            "init\t [4.86927198 2.90775327]\t -14.042667401507376\t -14.042667401507376\t    \n",
            "1  \t [-5.  0.]\t -308.12909601160663\t -14.042667401507376\t -2.8473767480924885\n",
            "\u001b[1m\u001b[92m2\u001b[0m\t \u001b[1m\u001b[92m[10.          5.49819641]\u001b[0m\t \u001b[1m\u001b[92m-8.169362323719605\u001b[0m\t \u001b[1m\u001b[92m-8.169362323719605\u001b[0m\t \u001b[1m\u001b[92m-2.847376274991362\u001b[0m\n",
            "3  \t [0.6112268  0.18049545]\t -41.82432945710168\t -8.169362323719605\t -2.8473350021847152\n",
            "4  \t [-1.25509775 15.        ]\t -59.206981970028615\t -8.169362323719605\t -2.847376747833043\n",
            "5  \t [5.21175733 8.38584794]\t -66.03079803066842\t -8.169362323719605\t -2.84670822776211\n",
            "\u001b[1m\u001b[92m6\u001b[0m\t \u001b[1m\u001b[92m[9.09543772 0.72705287]\u001b[0m\t \u001b[1m\u001b[92m-3.116656052111841\u001b[0m\t \u001b[1m\u001b[92m-3.116656052111841\u001b[0m\t \u001b[1m\u001b[92m-2.847259633109385\u001b[0m\n",
            "7  \t [-3.68424065  5.26999128]\t -71.45240718308352\t -3.116656052111841\t -2.8472478061256834\n",
            "8  \t [-0.33045712 11.25610744]\t -41.32381702917414\t -3.116656052111841\t -2.8085413299313315\n",
            "9  \t [0.97356858 4.05858635]\t -15.66435332701085\t -3.116656052111841\t -2.822580038007026\n",
            "10 \t [5.55724611 0.        ]\t -18.492151482084378\t -3.116656052111841\t -2.7641140533344215\n",
            "11 \t [9.59351364 8.60741471]\t -36.37129632902507\t -3.116656052111841\t -2.7774948920903837\n",
            "12 \t [-4.50962165 13.64607982]\t -12.72497100847345\t -3.116656052111841\t -2.702906389921092\n",
            "13 \t [8.02336654 3.30833329]\t -11.485045108763913\t -3.116656052111841\t -2.717868312389193\n",
            "14 \t [-1.74094537  2.31563401]\t -55.25152948674354\t -3.116656052111841\t -2.548848720865476\n",
            "15 \t [10. 15.]\t -145.87219087939556\t -3.116656052111841\t -2.50845192551263\n",
            "16 \t [6.01512615 5.39406169]\t -37.6917148605564\t -3.116656052111841\t -2.323567605080196\n",
            "17 \t [-2.12414855  8.16515382]\t -8.18798173042188\t -3.116656052111841\t -2.3221393082058763\n",
            "18 \t [ 6.67592209 15.        ]\t -211.18064045216812\t -3.116656052111841\t -1.8930508910685915\n",
            "19 \t [3.27503878 4.90314042]\t -7.935660847448283\t -3.116656052111841\t -1.7997381360102838\n",
            "\u001b[1m\u001b[92m20\u001b[0m\t \u001b[1m\u001b[92m[2.69596371 2.06730607]\u001b[0m\t \u001b[1m\u001b[92m-1.6730488424284289\u001b[0m\t \u001b[1m\u001b[92m-1.6730488424284289\u001b[0m\t \u001b[1m\u001b[92m-1.693126835153491\u001b[0m\n"
          ]
        }
      ]
    },
    {
      "cell_type": "code",
      "metadata": {
        "id": "qNqAB3vBTPqb",
        "colab": {
          "base_uri": "https://localhost:8080/"
        },
        "outputId": "ad44fc84-352b-4d3a-e418-80d75fd79c5b"
      },
      "source": [
        "end_exact = time.time()\n",
        "end_exact\n",
        "\n",
        "time_exact = end_exact - start_exact\n",
        "time_exact"
      ],
      "execution_count": 54,
      "outputs": [
        {
          "output_type": "execute_result",
          "data": {
            "text/plain": [
              "472.86798906326294"
            ]
          },
          "metadata": {},
          "execution_count": 54
        }
      ]
    },
    {
      "cell_type": "code",
      "metadata": {
        "id": "JPQzjdBZQxfg",
        "colab": {
          "base_uri": "https://localhost:8080/"
        },
        "outputId": "59be4cc5-7e84-4145-a403-01f3bcc99ac8"
      },
      "source": [
        "### Simple regret minimization: run number = 1\n",
        "\n",
        "approx_output_1 = np.append(np.min(approx_1.GP.y[0:n_init]),approx_1.GP.y[n_init:(n_init+iters)]) \n",
        "exact_output_1 = np.append(np.min(exact_1.GP.y[0:n_init]),exact_1.GP.y[n_init:(n_init+iters)]) \n",
        "\n",
        "regret_approx_1 = np.log(-approx_output_1 + y_global_orig)\n",
        "regret_exact_1 = np.log(-exact_output_1 + y_global_orig)\n",
        "\n",
        "simple_regret_approx_1 = min_max_array(regret_approx_1)\n",
        "simple_regret_exact_1 = min_max_array(regret_exact_1)\n",
        "\n",
        "min_simple_regret_approx_1 = min(simple_regret_approx_1)\n",
        "min_simple_regret_exact_1 = min(simple_regret_exact_1)\n",
        "\n",
        "min_simple_regret_approx_1, min_simple_regret_exact_1"
      ],
      "execution_count": 55,
      "outputs": [
        {
          "output_type": "execute_result",
          "data": {
            "text/plain": [
              "(1.264540849426975, 1.2961037078413138)"
            ]
          },
          "metadata": {},
          "execution_count": 55
        }
      ]
    },
    {
      "cell_type": "code",
      "metadata": {
        "id": "94yBw5tqQxfk",
        "colab": {
          "base_uri": "https://localhost:8080/"
        },
        "outputId": "50ec76e7-3126-4119-f4ce-461906399a30"
      },
      "source": [
        "### Simple regret minimization: run number = 2\n",
        "\n",
        "approx_output_2 = np.append(np.min(approx_2.GP.y[0:n_init]),approx_2.GP.y[n_init:(n_init+iters)]) \n",
        "exact_output_2 = np.append(np.min(exact_2.GP.y[0:n_init]),exact_2.GP.y[n_init:(n_init+iters)]) \n",
        "\n",
        "regret_approx_2 = np.log(-approx_output_2 + y_global_orig)\n",
        "regret_exact_2 = np.log(-exact_output_2 + y_global_orig)\n",
        "\n",
        "simple_regret_approx_2 = min_max_array(regret_approx_2)\n",
        "simple_regret_exact_2 = min_max_array(regret_exact_2)\n",
        "\n",
        "min_simple_regret_approx_2 = min(simple_regret_approx_2)\n",
        "min_simple_regret_exact_2 = min(simple_regret_exact_2)\n",
        "\n",
        "min_simple_regret_approx_2, min_simple_regret_exact_2"
      ],
      "execution_count": 56,
      "outputs": [
        {
          "output_type": "execute_result",
          "data": {
            "text/plain": [
              "(0.0005721783316311656, -0.37977876499820434)"
            ]
          },
          "metadata": {},
          "execution_count": 56
        }
      ]
    },
    {
      "cell_type": "code",
      "metadata": {
        "id": "Bu6SBWALQxfl",
        "colab": {
          "base_uri": "https://localhost:8080/"
        },
        "outputId": "e30f72a4-6033-4d08-c96c-4b811f8bb351"
      },
      "source": [
        "### Simple regret minimization: run number = 3\n",
        "\n",
        "approx_output_3 = np.append(np.min(approx_3.GP.y[0:n_init]),approx_3.GP.y[n_init:(n_init+iters)]) \n",
        "exact_output_3 = np.append(np.min(exact_3.GP.y[0:n_init]),exact_3.GP.y[n_init:(n_init+iters)]) \n",
        "\n",
        "regret_approx_3 = np.log(-approx_output_3 + y_global_orig)\n",
        "regret_exact_3 = np.log(-exact_output_3 + y_global_orig)\n",
        "\n",
        "simple_regret_approx_3 = min_max_array(regret_approx_3)\n",
        "simple_regret_exact_3 = min_max_array(regret_exact_3)\n",
        "\n",
        "min_simple_regret_approx_3 = min(simple_regret_approx_3)\n",
        "min_simple_regret_exact_3 = min(simple_regret_exact_3)\n",
        "\n",
        "min_simple_regret_approx_3, min_simple_regret_exact_3"
      ],
      "execution_count": 57,
      "outputs": [
        {
          "output_type": "execute_result",
          "data": {
            "text/plain": [
              "(0.5204231926607438, 1.164129196584808)"
            ]
          },
          "metadata": {},
          "execution_count": 57
        }
      ]
    },
    {
      "cell_type": "code",
      "metadata": {
        "id": "AZm0jgxkQxfm",
        "colab": {
          "base_uri": "https://localhost:8080/"
        },
        "outputId": "43bb7b61-5975-4170-f788-23e471a4ead8"
      },
      "source": [
        "### Simple regret minimization: run number = 4\n",
        "\n",
        "approx_output_4 = np.append(np.min(approx_4.GP.y[0:n_init]),approx_4.GP.y[n_init:(n_init+iters)]) \n",
        "exact_output_4 = np.append(np.min(exact_4.GP.y[0:n_init]),exact_4.GP.y[n_init:(n_init+iters)]) \n",
        "\n",
        "regret_approx_4 = np.log(-approx_output_4 + y_global_orig)\n",
        "regret_exact_4 = np.log(-exact_output_4 + y_global_orig)\n",
        "\n",
        "simple_regret_approx_4 = min_max_array(regret_approx_4)\n",
        "simple_regret_exact_4 = min_max_array(regret_exact_4)\n",
        "\n",
        "min_simple_regret_approx_4 = min(simple_regret_approx_4)\n",
        "min_simple_regret_exact_4 = min(simple_regret_exact_4)\n",
        "\n",
        "min_simple_regret_approx_4, min_simple_regret_exact_4"
      ],
      "execution_count": 58,
      "outputs": [
        {
          "output_type": "execute_result",
          "data": {
            "text/plain": [
              "(0.9092893142407744, 0.3889318730105511)"
            ]
          },
          "metadata": {},
          "execution_count": 58
        }
      ]
    },
    {
      "cell_type": "code",
      "metadata": {
        "id": "NONPm8JIQxfn",
        "colab": {
          "base_uri": "https://localhost:8080/"
        },
        "outputId": "181971b2-7edb-4612-8877-f7e5296f5ce3"
      },
      "source": [
        "### Simple regret minimization: run number = 5\n",
        "\n",
        "approx_output_5 = np.append(np.min(approx_5.GP.y[0:n_init]),approx_5.GP.y[n_init:(n_init+iters)]) \n",
        "exact_output_5 = np.append(np.min(exact_5.GP.y[0:n_init]),exact_5.GP.y[n_init:(n_init+iters)]) \n",
        "\n",
        "regret_approx_5 = np.log(-approx_output_5 + y_global_orig)\n",
        "regret_exact_5 = np.log(-exact_output_5 + y_global_orig)\n",
        "\n",
        "simple_regret_approx_5 = min_max_array(regret_approx_5)\n",
        "simple_regret_exact_5 = min_max_array(regret_exact_5)\n",
        "\n",
        "min_simple_regret_approx_5 = min(simple_regret_approx_5)\n",
        "min_simple_regret_exact_5 = min(simple_regret_exact_5)\n",
        "\n",
        "min_simple_regret_approx_5, min_simple_regret_exact_5"
      ],
      "execution_count": 59,
      "outputs": [
        {
          "output_type": "execute_result",
          "data": {
            "text/plain": [
              "(1.201516512798334, -0.8611916458361077)"
            ]
          },
          "metadata": {},
          "execution_count": 59
        }
      ]
    },
    {
      "cell_type": "code",
      "metadata": {
        "id": "CJv3lPuSQxfp",
        "colab": {
          "base_uri": "https://localhost:8080/"
        },
        "outputId": "cc126ac0-1f1c-421c-f35b-2cb0a77a3639"
      },
      "source": [
        "### Simple regret minimization: run number = 6\n",
        "\n",
        "approx_output_6 = np.append(np.min(approx_6.GP.y[0:n_init]),approx_6.GP.y[n_init:(n_init+iters)]) \n",
        "exact_output_6 = np.append(np.min(exact_6.GP.y[0:n_init]),exact_6.GP.y[n_init:(n_init+iters)]) \n",
        "\n",
        "regret_approx_6 = np.log(-approx_output_6 + y_global_orig)\n",
        "regret_exact_6 = np.log(-exact_output_6 + y_global_orig)\n",
        "\n",
        "simple_regret_approx_6 = min_max_array(regret_approx_6)\n",
        "simple_regret_exact_6 = min_max_array(regret_exact_6)\n",
        "\n",
        "min_simple_regret_approx_6 = min(simple_regret_approx_6)\n",
        "min_simple_regret_exact_6 = min(simple_regret_exact_6)\n",
        "\n",
        "min_simple_regret_approx_6, min_simple_regret_exact_6"
      ],
      "execution_count": 60,
      "outputs": [
        {
          "output_type": "execute_result",
          "data": {
            "text/plain": [
              "(0.8425532753718065, -0.7838834413432143)"
            ]
          },
          "metadata": {},
          "execution_count": 60
        }
      ]
    },
    {
      "cell_type": "code",
      "metadata": {
        "id": "quR2ZyApQxfq",
        "colab": {
          "base_uri": "https://localhost:8080/"
        },
        "outputId": "b3a7f0c8-132c-4c4c-cee9-0a0fcdf53f82"
      },
      "source": [
        "### Simple regret minimization: run number = 7\n",
        "\n",
        "approx_output_7 = np.append(np.min(approx_7.GP.y[0:n_init]),approx_7.GP.y[n_init:(n_init+iters)]) \n",
        "exact_output_7 = np.append(np.min(exact_7.GP.y[0:n_init]),exact_7.GP.y[n_init:(n_init+iters)]) \n",
        "\n",
        "regret_approx_7 = np.log(-approx_output_7 + y_global_orig)\n",
        "regret_exact_7 = np.log(-exact_output_7 + y_global_orig)\n",
        "\n",
        "simple_regret_approx_7 = min_max_array(regret_approx_7)\n",
        "simple_regret_exact_7 = min_max_array(regret_exact_7)\n",
        "\n",
        "min_simple_regret_approx_7 = min(simple_regret_approx_7)\n",
        "min_simple_regret_exact_7 = min(simple_regret_exact_7)\n",
        "\n",
        "min_simple_regret_approx_7, min_simple_regret_exact_7"
      ],
      "execution_count": 61,
      "outputs": [
        {
          "output_type": "execute_result",
          "data": {
            "text/plain": [
              "(2.062620089491455, 0.7306359508923241)"
            ]
          },
          "metadata": {},
          "execution_count": 61
        }
      ]
    },
    {
      "cell_type": "code",
      "metadata": {
        "id": "99wY5nK6Qxfr",
        "colab": {
          "base_uri": "https://localhost:8080/"
        },
        "outputId": "b1583fbf-f367-4202-e2c9-f25c45555ce4"
      },
      "source": [
        "### Simple regret minimization: run number = 8\n",
        "\n",
        "approx_output_8 = np.append(np.min(approx_8.GP.y[0:n_init]),approx_8.GP.y[n_init:(n_init+iters)]) \n",
        "exact_output_8 = np.append(np.min(exact_8.GP.y[0:n_init]),exact_8.GP.y[n_init:(n_init+iters)]) \n",
        "\n",
        "regret_approx_8 = np.log(-approx_output_8 + y_global_orig)\n",
        "regret_exact_8 = np.log(-exact_output_8 + y_global_orig)\n",
        "\n",
        "simple_regret_approx_8 = min_max_array(regret_approx_8)\n",
        "simple_regret_exact_8 = min_max_array(regret_exact_8)\n",
        "\n",
        "min_simple_regret_approx_8 = min(simple_regret_approx_8)\n",
        "min_simple_regret_exact_8 = min(simple_regret_exact_8)\n",
        "\n",
        "min_simple_regret_approx_8, min_simple_regret_exact_8"
      ],
      "execution_count": 62,
      "outputs": [
        {
          "output_type": "execute_result",
          "data": {
            "text/plain": [
              "(0.43634402762510804, 1.1763051832345244)"
            ]
          },
          "metadata": {},
          "execution_count": 62
        }
      ]
    },
    {
      "cell_type": "code",
      "metadata": {
        "id": "qt0P5t9qQxfs",
        "colab": {
          "base_uri": "https://localhost:8080/"
        },
        "outputId": "c64fc3be-31d1-4411-a112-deb1a6c547fe"
      },
      "source": [
        "### Simple regret minimization: run number = 9\n",
        "\n",
        "approx_output_9 = np.append(np.min(approx_9.GP.y[0:n_init]),approx_9.GP.y[n_init:(n_init+iters)]) \n",
        "exact_output_9 = np.append(np.min(exact_9.GP.y[0:n_init]),exact_9.GP.y[n_init:(n_init+iters)]) \n",
        "\n",
        "regret_approx_9 = np.log(-approx_output_9 + y_global_orig)\n",
        "regret_exact_9 = np.log(-exact_output_9 + y_global_orig)\n",
        "\n",
        "simple_regret_approx_9 = min_max_array(regret_approx_9)\n",
        "simple_regret_exact_9 = min_max_array(regret_exact_9)\n",
        "\n",
        "min_simple_regret_approx_9 = min(simple_regret_approx_9)\n",
        "min_simple_regret_exact_9 = min(simple_regret_exact_9)\n",
        "\n",
        "min_simple_regret_approx_9, min_simple_regret_exact_9"
      ],
      "execution_count": 63,
      "outputs": [
        {
          "output_type": "execute_result",
          "data": {
            "text/plain": [
              "(0.6176997164038169, 0.4895779360753542)"
            ]
          },
          "metadata": {},
          "execution_count": 63
        }
      ]
    },
    {
      "cell_type": "code",
      "metadata": {
        "id": "vx8to9stQxft",
        "colab": {
          "base_uri": "https://localhost:8080/"
        },
        "outputId": "47bc4dda-f99f-40a3-e93c-9fee6b9d3a0c"
      },
      "source": [
        "### Simple regret minimization: run number = 10\n",
        "\n",
        "approx_output_10 = np.append(np.min(approx_10.GP.y[0:n_init]),approx_10.GP.y[n_init:(n_init+iters)]) \n",
        "exact_output_10 = np.append(np.min(exact_10.GP.y[0:n_init]),exact_10.GP.y[n_init:(n_init+iters)]) \n",
        "\n",
        "regret_approx_10 = np.log(-approx_output_10 + y_global_orig)\n",
        "regret_exact_10 = np.log(-exact_output_10 + y_global_orig)\n",
        "\n",
        "simple_regret_approx_10 = min_max_array(regret_approx_10)\n",
        "simple_regret_exact_10 = min_max_array(regret_exact_10)\n",
        "\n",
        "min_simple_regret_approx_10 = min(simple_regret_approx_10)\n",
        "min_simple_regret_exact_10 = min(simple_regret_exact_10)\n",
        "\n",
        "min_simple_regret_approx_10, min_simple_regret_exact_10"
      ],
      "execution_count": 64,
      "outputs": [
        {
          "output_type": "execute_result",
          "data": {
            "text/plain": [
              "(0.6062750209105104, 1.7384806858730528)"
            ]
          },
          "metadata": {},
          "execution_count": 64
        }
      ]
    },
    {
      "cell_type": "code",
      "metadata": {
        "id": "d-FGzWyHQxfu",
        "colab": {
          "base_uri": "https://localhost:8080/"
        },
        "outputId": "565ce0ca-fdd2-4ada-a803-036beb972f1d"
      },
      "source": [
        "### Simple regret minimization: run number = 11\n",
        "\n",
        "approx_output_11 = np.append(np.min(approx_11.GP.y[0:n_init]),approx_11.GP.y[n_init:(n_init+iters)]) \n",
        "exact_output_11 = np.append(np.min(exact_11.GP.y[0:n_init]),exact_11.GP.y[n_init:(n_init+iters)]) \n",
        "\n",
        "regret_approx_11 = np.log(-approx_output_11 + y_global_orig)\n",
        "regret_exact_11 = np.log(-exact_output_11 + y_global_orig)\n",
        "\n",
        "simple_regret_approx_11 = min_max_array(regret_approx_11)\n",
        "simple_regret_exact_11 = min_max_array(regret_exact_11)\n",
        "\n",
        "min_simple_regret_approx_11 = min(simple_regret_approx_11)\n",
        "min_simple_regret_exact_11 = min(simple_regret_exact_11)\n",
        "\n",
        "min_simple_regret_approx_11, min_simple_regret_exact_11"
      ],
      "execution_count": 65,
      "outputs": [
        {
          "output_type": "execute_result",
          "data": {
            "text/plain": [
              "(-0.520880628722453, -1.3124261824257772)"
            ]
          },
          "metadata": {},
          "execution_count": 65
        }
      ]
    },
    {
      "cell_type": "code",
      "metadata": {
        "id": "SvtsssyjQxfv",
        "colab": {
          "base_uri": "https://localhost:8080/"
        },
        "outputId": "aed1828f-b82c-4a19-ec27-ea52ddce4c16"
      },
      "source": [
        "### Simple regret minimization: run number = 12\n",
        "\n",
        "approx_output_12 = np.append(np.min(approx_12.GP.y[0:n_init]),approx_12.GP.y[n_init:(n_init+iters)]) \n",
        "exact_output_12 = np.append(np.min(exact_12.GP.y[0:n_init]),exact_12.GP.y[n_init:(n_init+iters)]) \n",
        "\n",
        "regret_approx_12 = np.log(-approx_output_12 + y_global_orig)\n",
        "regret_exact_12 = np.log(-exact_output_12 + y_global_orig)\n",
        "\n",
        "simple_regret_approx_12 = min_max_array(regret_approx_12)\n",
        "simple_regret_exact_12 = min_max_array(regret_exact_12)\n",
        "\n",
        "min_simple_regret_approx_12 = min(simple_regret_approx_12)\n",
        "min_simple_regret_exact_12 = min(simple_regret_exact_12)\n",
        "\n",
        "min_simple_regret_approx_12, min_simple_regret_exact_12"
      ],
      "execution_count": 66,
      "outputs": [
        {
          "output_type": "execute_result",
          "data": {
            "text/plain": [
              "(0.6639506106971435, -2.8570062818340687)"
            ]
          },
          "metadata": {},
          "execution_count": 66
        }
      ]
    },
    {
      "cell_type": "code",
      "metadata": {
        "id": "K6OiGcHkQxfw",
        "colab": {
          "base_uri": "https://localhost:8080/"
        },
        "outputId": "3c3e45c3-c2a7-4c9f-8aae-48fa952b6ed9"
      },
      "source": [
        "### Simple regret minimization: run number = 13\n",
        "\n",
        "approx_output_13 = np.append(np.min(approx_13.GP.y[0:n_init]),approx_13.GP.y[n_init:(n_init+iters)]) \n",
        "exact_output_13 = np.append(np.min(exact_13.GP.y[0:n_init]),exact_13.GP.y[n_init:(n_init+iters)]) \n",
        "\n",
        "regret_approx_13 = np.log(-approx_output_13 + y_global_orig)\n",
        "regret_exact_13 = np.log(-exact_output_13 + y_global_orig)\n",
        "\n",
        "simple_regret_approx_13 = min_max_array(regret_approx_13)\n",
        "simple_regret_exact_13 = min_max_array(regret_exact_13)\n",
        "\n",
        "min_simple_regret_approx_13 = min(simple_regret_approx_13)\n",
        "min_simple_regret_exact_13 = min(simple_regret_exact_13)\n",
        "\n",
        "min_simple_regret_approx_13, min_simple_regret_exact_13"
      ],
      "execution_count": 67,
      "outputs": [
        {
          "output_type": "execute_result",
          "data": {
            "text/plain": [
              "(0.4934623294776719, -0.7002400699524578)"
            ]
          },
          "metadata": {},
          "execution_count": 67
        }
      ]
    },
    {
      "cell_type": "code",
      "metadata": {
        "id": "ogML73shQxfx",
        "colab": {
          "base_uri": "https://localhost:8080/"
        },
        "outputId": "60534347-9e82-40f9-b469-eb40fcae2a36"
      },
      "source": [
        "### Simple regret minimization: run number = 14\n",
        "\n",
        "approx_output_14 = np.append(np.min(approx_14.GP.y[0:n_init]),approx_14.GP.y[n_init:(n_init+iters)]) \n",
        "exact_output_14 = np.append(np.min(exact_14.GP.y[0:n_init]),exact_14.GP.y[n_init:(n_init+iters)]) \n",
        "\n",
        "regret_approx_14 = np.log(-approx_output_14 + y_global_orig)\n",
        "regret_exact_14 = np.log(-exact_output_14 + y_global_orig)\n",
        "\n",
        "simple_regret_approx_14 = min_max_array(regret_approx_14)\n",
        "simple_regret_exact_14 = min_max_array(regret_exact_14)\n",
        "\n",
        "min_simple_regret_approx_14 = min(simple_regret_approx_14)\n",
        "min_simple_regret_exact_14 = min(simple_regret_exact_14)\n",
        "\n",
        "min_simple_regret_approx_14, min_simple_regret_exact_14"
      ],
      "execution_count": 68,
      "outputs": [
        {
          "output_type": "execute_result",
          "data": {
            "text/plain": [
              "(0.4556321670879095, -0.4946783972616695)"
            ]
          },
          "metadata": {},
          "execution_count": 68
        }
      ]
    },
    {
      "cell_type": "code",
      "metadata": {
        "id": "9Eg7gFT9Qxfx",
        "colab": {
          "base_uri": "https://localhost:8080/"
        },
        "outputId": "41fd5e80-db50-4c9a-c2ad-f51e4de35860"
      },
      "source": [
        "### Simple regret minimization: run number = 15\n",
        "\n",
        "approx_output_15 = np.append(np.min(approx_15.GP.y[0:n_init]),approx_15.GP.y[n_init:(n_init+iters)]) \n",
        "exact_output_15 = np.append(np.min(exact_15.GP.y[0:n_init]),exact_15.GP.y[n_init:(n_init+iters)]) \n",
        "\n",
        "regret_approx_15 = np.log(-approx_output_15 + y_global_orig)\n",
        "regret_exact_15 = np.log(-exact_output_15 + y_global_orig)\n",
        "\n",
        "simple_regret_approx_15 = min_max_array(regret_approx_15)\n",
        "simple_regret_exact_15 = min_max_array(regret_exact_15)\n",
        "\n",
        "min_simple_regret_approx_15 = min(simple_regret_approx_15)\n",
        "min_simple_regret_exact_15 = min(simple_regret_exact_15)\n",
        "\n",
        "min_simple_regret_approx_15, min_simple_regret_exact_15"
      ],
      "execution_count": 69,
      "outputs": [
        {
          "output_type": "execute_result",
          "data": {
            "text/plain": [
              "(0.7648816837985188, 0.8014165496177895)"
            ]
          },
          "metadata": {},
          "execution_count": 69
        }
      ]
    },
    {
      "cell_type": "code",
      "metadata": {
        "id": "lIAC1U7ZQxfy",
        "colab": {
          "base_uri": "https://localhost:8080/"
        },
        "outputId": "674364fc-a5d1-477f-ee0d-f3bb2e6f8ac4"
      },
      "source": [
        "### Simple regret minimization: run number = 16\n",
        "\n",
        "approx_output_16 = np.append(np.min(approx_16.GP.y[0:n_init]),approx_16.GP.y[n_init:(n_init+iters)]) \n",
        "exact_output_16 = np.append(np.min(exact_16.GP.y[0:n_init]),exact_16.GP.y[n_init:(n_init+iters)]) \n",
        "\n",
        "regret_approx_16 = np.log(-approx_output_16 + y_global_orig)\n",
        "regret_exact_16 = np.log(-exact_output_16 + y_global_orig)\n",
        "\n",
        "simple_regret_approx_16 = min_max_array(regret_approx_16)\n",
        "simple_regret_exact_16 = min_max_array(regret_exact_16)\n",
        "\n",
        "min_simple_regret_approx_16 = min(simple_regret_approx_16)\n",
        "min_simple_regret_exact_16 = min(simple_regret_exact_16)\n",
        "\n",
        "min_simple_regret_approx_16, min_simple_regret_exact_16"
      ],
      "execution_count": 70,
      "outputs": [
        {
          "output_type": "execute_result",
          "data": {
            "text/plain": [
              "(0.8042239661729255, 1.1812848995292975)"
            ]
          },
          "metadata": {},
          "execution_count": 70
        }
      ]
    },
    {
      "cell_type": "code",
      "metadata": {
        "id": "bGott36OQxfz",
        "colab": {
          "base_uri": "https://localhost:8080/"
        },
        "outputId": "d68971ca-297c-4963-d622-c42cae8c14e0"
      },
      "source": [
        "### Simple regret minimization: run number = 17\n",
        "\n",
        "approx_output_17 = np.append(np.min(approx_17.GP.y[0:n_init]),approx_17.GP.y[n_init:(n_init+iters)]) \n",
        "exact_output_17 = np.append(np.min(exact_17.GP.y[0:n_init]),exact_17.GP.y[n_init:(n_init+iters)]) \n",
        "\n",
        "regret_approx_17 = np.log(-approx_output_17 + y_global_orig)\n",
        "regret_exact_17 = np.log(-exact_output_17 + y_global_orig)\n",
        "\n",
        "simple_regret_approx_17 = min_max_array(regret_approx_17)\n",
        "simple_regret_exact_17 = min_max_array(regret_exact_17)\n",
        "\n",
        "min_simple_regret_approx_17 = min(simple_regret_approx_17)\n",
        "min_simple_regret_exact_17 = min(simple_regret_exact_17)\n",
        "\n",
        "min_simple_regret_approx_17, min_simple_regret_exact_17"
      ],
      "execution_count": 71,
      "outputs": [
        {
          "output_type": "execute_result",
          "data": {
            "text/plain": [
              "(0.48216232922123353, 0.2748972235270398)"
            ]
          },
          "metadata": {},
          "execution_count": 71
        }
      ]
    },
    {
      "cell_type": "code",
      "metadata": {
        "id": "Cz9ZYMBMQxfz",
        "colab": {
          "base_uri": "https://localhost:8080/"
        },
        "outputId": "c9a1e227-9012-41a5-8ed5-32590c919606"
      },
      "source": [
        "### Simple regret minimization: run number = 18\n",
        "\n",
        "approx_output_18 = np.append(np.min(approx_18.GP.y[0:n_init]),approx_18.GP.y[n_init:(n_init+iters)]) \n",
        "exact_output_18 = np.append(np.min(exact_18.GP.y[0:n_init]),exact_18.GP.y[n_init:(n_init+iters)]) \n",
        "\n",
        "regret_approx_18 = np.log(-approx_output_18 + y_global_orig)\n",
        "regret_exact_18 = np.log(-exact_output_18 + y_global_orig)\n",
        "\n",
        "simple_regret_approx_18 = min_max_array(regret_approx_18)\n",
        "simple_regret_exact_18 = min_max_array(regret_exact_18)\n",
        "\n",
        "min_simple_regret_approx_18 = min(simple_regret_approx_18)\n",
        "min_simple_regret_exact_18 = min(simple_regret_exact_18)\n",
        "\n",
        "min_simple_regret_approx_18, min_simple_regret_exact_18"
      ],
      "execution_count": 72,
      "outputs": [
        {
          "output_type": "execute_result",
          "data": {
            "text/plain": [
              "(0.8067670973927965, 0.8690526828677636)"
            ]
          },
          "metadata": {},
          "execution_count": 72
        }
      ]
    },
    {
      "cell_type": "code",
      "metadata": {
        "id": "OBfpWOHNQxf0",
        "colab": {
          "base_uri": "https://localhost:8080/"
        },
        "outputId": "ea2801f9-5da2-44db-cc17-74ce6eabcea5"
      },
      "source": [
        "### Simple regret minimization: run number = 19\n",
        "\n",
        "approx_output_19 = np.append(np.min(approx_19.GP.y[0:n_init]),approx_19.GP.y[n_init:(n_init+iters)]) \n",
        "exact_output_19 = np.append(np.min(exact_19.GP.y[0:n_init]),exact_19.GP.y[n_init:(n_init+iters)]) \n",
        "\n",
        "regret_approx_19 = np.log(-approx_output_19 + y_global_orig)\n",
        "regret_exact_19 = np.log(-exact_output_19 + y_global_orig)\n",
        "\n",
        "simple_regret_approx_19 = min_max_array(regret_approx_19)\n",
        "simple_regret_exact_19 = min_max_array(regret_exact_19)\n",
        "\n",
        "min_simple_regret_approx_19 = min(simple_regret_approx_19)\n",
        "min_simple_regret_exact_19 = min(simple_regret_exact_19)\n",
        "\n",
        "min_simple_regret_approx_19, min_simple_regret_exact_19"
      ],
      "execution_count": 73,
      "outputs": [
        {
          "output_type": "execute_result",
          "data": {
            "text/plain": [
              "(-0.4164047969978709, -2.596493037971219)"
            ]
          },
          "metadata": {},
          "execution_count": 73
        }
      ]
    },
    {
      "cell_type": "code",
      "metadata": {
        "id": "BE1AJ7NsQxf0",
        "colab": {
          "base_uri": "https://localhost:8080/"
        },
        "outputId": "319b73e3-7e00-4667-9281-b392f160d00c"
      },
      "source": [
        "### Simple regret minimization: run number = 20\n",
        "\n",
        "approx_output_20 = np.append(np.min(approx_20.GP.y[0:n_init]),approx_20.GP.y[n_init:(n_init+iters)]) \n",
        "exact_output_20 = np.append(np.min(exact_20.GP.y[0:n_init]),exact_20.GP.y[n_init:(n_init+iters)]) \n",
        "\n",
        "regret_approx_20 = np.log(-approx_output_20 + y_global_orig)\n",
        "regret_exact_20 = np.log(-exact_output_20 + y_global_orig)\n",
        "\n",
        "simple_regret_approx_20 = min_max_array(regret_approx_20)\n",
        "simple_regret_exact_20 = min_max_array(regret_exact_20)\n",
        "\n",
        "min_simple_regret_approx_20 = min(simple_regret_approx_20)\n",
        "min_simple_regret_exact_20 = min(simple_regret_exact_20)\n",
        "\n",
        "min_simple_regret_approx_20, min_simple_regret_exact_20"
      ],
      "execution_count": 74,
      "outputs": [
        {
          "output_type": "execute_result",
          "data": {
            "text/plain": [
              "(1.58149587577963, 0.24307310579277736)"
            ]
          },
          "metadata": {},
          "execution_count": 74
        }
      ]
    },
    {
      "cell_type": "code",
      "metadata": {
        "id": "bpX-bKAHQxf1"
      },
      "source": [
        "# Iteration1 :\n",
        "\n",
        "slice1 = 0\n",
        "\n",
        "approx1 = [simple_regret_approx_1[slice1],\n",
        "       simple_regret_approx_2[slice1],\n",
        "       simple_regret_approx_3[slice1],\n",
        "       simple_regret_approx_4[slice1],\n",
        "       simple_regret_approx_5[slice1],\n",
        "       simple_regret_approx_6[slice1],\n",
        "       simple_regret_approx_7[slice1],\n",
        "       simple_regret_approx_8[slice1],\n",
        "       simple_regret_approx_9[slice1],\n",
        "       simple_regret_approx_10[slice1],\n",
        "       simple_regret_approx_11[slice1],\n",
        "       simple_regret_approx_12[slice1],\n",
        "       simple_regret_approx_13[slice1],\n",
        "       simple_regret_approx_14[slice1],\n",
        "       simple_regret_approx_15[slice1],\n",
        "       simple_regret_approx_16[slice1],\n",
        "       simple_regret_approx_17[slice1],\n",
        "       simple_regret_approx_18[slice1],\n",
        "       simple_regret_approx_19[slice1],\n",
        "       simple_regret_approx_20[slice1]]\n",
        "\n",
        "exact1 = [simple_regret_exact_1[slice1],\n",
        "       simple_regret_exact_2[slice1],\n",
        "       simple_regret_exact_3[slice1],\n",
        "       simple_regret_exact_4[slice1],\n",
        "       simple_regret_exact_5[slice1],\n",
        "       simple_regret_exact_6[slice1],\n",
        "       simple_regret_exact_7[slice1],\n",
        "       simple_regret_exact_8[slice1],\n",
        "       simple_regret_exact_9[slice1],\n",
        "       simple_regret_exact_10[slice1],\n",
        "       simple_regret_exact_11[slice1],\n",
        "       simple_regret_exact_12[slice1],\n",
        "       simple_regret_exact_13[slice1],\n",
        "       simple_regret_exact_14[slice1],\n",
        "       simple_regret_exact_15[slice1],\n",
        "       simple_regret_exact_16[slice1],\n",
        "       simple_regret_exact_17[slice1],\n",
        "       simple_regret_exact_18[slice1],\n",
        "       simple_regret_exact_19[slice1],\n",
        "       simple_regret_exact_20[slice1]]\n",
        "\n",
        "approx1_results = pd.DataFrame(approx1).sort_values(by=[0], ascending=False)\n",
        "exact1_results = pd.DataFrame(exact1).sort_values(by=[0], ascending=False)\n",
        "\n",
        "### Best simple regret minimization IQR - approx:\n",
        "lower_approx1 = np.asarray(approx1_results[4:5][0])[0]\n",
        "median_approx1 = np.asarray(approx1_results[9:10][0])[0]\n",
        "upper_approx1 = np.asarray(approx1_results[14:15][0])[0]\n",
        "\n",
        "lower_exact1 = np.asarray(exact1_results[4:5][0])[0]\n",
        "median_exact1 = np.asarray(exact1_results[9:10][0])[0]\n",
        "upper_exact1 = np.asarray(exact1_results[14:15][0])[0]"
      ],
      "execution_count": 75,
      "outputs": []
    },
    {
      "cell_type": "code",
      "metadata": {
        "id": "CgIkJA1xQxf2"
      },
      "source": [
        "# Iteration11 :\n",
        "\n",
        "slice11 = 10\n",
        "\n",
        "approx11 = [simple_regret_approx_1[slice11],\n",
        "       simple_regret_approx_2[slice11],\n",
        "       simple_regret_approx_3[slice11],\n",
        "       simple_regret_approx_4[slice11],\n",
        "       simple_regret_approx_5[slice11],\n",
        "       simple_regret_approx_6[slice11],\n",
        "       simple_regret_approx_7[slice11],\n",
        "       simple_regret_approx_8[slice11],\n",
        "       simple_regret_approx_9[slice11],\n",
        "       simple_regret_approx_10[slice11],\n",
        "       simple_regret_approx_11[slice11],\n",
        "       simple_regret_approx_12[slice11],\n",
        "       simple_regret_approx_13[slice11],\n",
        "       simple_regret_approx_14[slice11],\n",
        "       simple_regret_approx_15[slice11],\n",
        "       simple_regret_approx_16[slice11],\n",
        "       simple_regret_approx_17[slice11],\n",
        "       simple_regret_approx_18[slice11],\n",
        "       simple_regret_approx_19[slice11],\n",
        "       simple_regret_approx_20[slice11]]\n",
        "\n",
        "exact11 = [simple_regret_exact_1[slice11],\n",
        "       simple_regret_exact_2[slice11],\n",
        "       simple_regret_exact_3[slice11],\n",
        "       simple_regret_exact_4[slice11],\n",
        "       simple_regret_exact_5[slice11],\n",
        "       simple_regret_exact_6[slice11],\n",
        "       simple_regret_exact_7[slice11],\n",
        "       simple_regret_exact_8[slice11],\n",
        "       simple_regret_exact_9[slice11],\n",
        "       simple_regret_exact_10[slice11],\n",
        "       simple_regret_exact_11[slice11],\n",
        "       simple_regret_exact_12[slice11],\n",
        "       simple_regret_exact_13[slice11],\n",
        "       simple_regret_exact_14[slice11],\n",
        "       simple_regret_exact_15[slice11],\n",
        "       simple_regret_exact_16[slice11],\n",
        "       simple_regret_exact_17[slice11],\n",
        "       simple_regret_exact_18[slice11],\n",
        "       simple_regret_exact_19[slice11],\n",
        "       simple_regret_exact_20[slice11]]\n",
        "\n",
        "approx11_results = pd.DataFrame(approx11).sort_values(by=[0], ascending=False)\n",
        "exact11_results = pd.DataFrame(exact11).sort_values(by=[0], ascending=False)\n",
        "\n",
        "### Best simple regret minimization IQR - approx:\n",
        "lower_approx11 = np.asarray(approx11_results[4:5][0])[0]\n",
        "median_approx11 = np.asarray(approx11_results[9:10][0])[0]\n",
        "upper_approx11 = np.asarray(approx11_results[14:15][0])[0]\n",
        "\n",
        "lower_exact11 = np.asarray(exact11_results[4:5][0])[0]\n",
        "median_exact11 = np.asarray(exact11_results[9:10][0])[0]\n",
        "upper_exact11 = np.asarray(exact11_results[14:15][0])[0]"
      ],
      "execution_count": 76,
      "outputs": []
    },
    {
      "cell_type": "code",
      "metadata": {
        "id": "MFePDfGuQxf2"
      },
      "source": [
        "# Iteration21 :\n",
        "\n",
        "slice21 = 20\n",
        "\n",
        "approx21 = [simple_regret_approx_1[slice21],\n",
        "       simple_regret_approx_2[slice21],\n",
        "       simple_regret_approx_3[slice21],\n",
        "       simple_regret_approx_4[slice21],\n",
        "       simple_regret_approx_5[slice21],\n",
        "       simple_regret_approx_6[slice21],\n",
        "       simple_regret_approx_7[slice21],\n",
        "       simple_regret_approx_8[slice21],\n",
        "       simple_regret_approx_9[slice21],\n",
        "       simple_regret_approx_10[slice21],\n",
        "       simple_regret_approx_11[slice21],\n",
        "       simple_regret_approx_12[slice21],\n",
        "       simple_regret_approx_13[slice21],\n",
        "       simple_regret_approx_14[slice21],\n",
        "       simple_regret_approx_15[slice21],\n",
        "       simple_regret_approx_16[slice21],\n",
        "       simple_regret_approx_17[slice21],\n",
        "       simple_regret_approx_18[slice21],\n",
        "       simple_regret_approx_19[slice21],\n",
        "       simple_regret_approx_20[slice21]]\n",
        "\n",
        "exact21 = [simple_regret_exact_1[slice21],\n",
        "       simple_regret_exact_2[slice21],\n",
        "       simple_regret_exact_3[slice21],\n",
        "       simple_regret_exact_4[slice21],\n",
        "       simple_regret_exact_5[slice21],\n",
        "       simple_regret_exact_6[slice21],\n",
        "       simple_regret_exact_7[slice21],\n",
        "       simple_regret_exact_8[slice21],\n",
        "       simple_regret_exact_9[slice21],\n",
        "       simple_regret_exact_10[slice21],\n",
        "       simple_regret_exact_11[slice21],\n",
        "       simple_regret_exact_12[slice21],\n",
        "       simple_regret_exact_13[slice21],\n",
        "       simple_regret_exact_14[slice21],\n",
        "       simple_regret_exact_15[slice21],\n",
        "       simple_regret_exact_16[slice21],\n",
        "       simple_regret_exact_17[slice21],\n",
        "       simple_regret_exact_18[slice21],\n",
        "       simple_regret_exact_19[slice21],\n",
        "       simple_regret_exact_20[slice21]]\n",
        "\n",
        "approx21_results = pd.DataFrame(approx21).sort_values(by=[0], ascending=False)\n",
        "exact21_results = pd.DataFrame(exact21).sort_values(by=[0], ascending=False)\n",
        "\n",
        "### Best simple regret minimization IQR - approx:\n",
        "lower_approx21 = np.asarray(approx21_results[4:5][0])[0]\n",
        "median_approx21 = np.asarray(approx21_results[9:10][0])[0]\n",
        "upper_approx21 = np.asarray(approx21_results[14:15][0])[0]\n",
        "\n",
        "lower_exact21 = np.asarray(exact21_results[4:5][0])[0]\n",
        "median_exact21 = np.asarray(exact21_results[9:10][0])[0]\n",
        "upper_exact21 = np.asarray(exact21_results[14:15][0])[0]"
      ],
      "execution_count": 77,
      "outputs": []
    },
    {
      "cell_type": "code",
      "metadata": {
        "id": "PrRDB1kfQxf3"
      },
      "source": [
        "# Iteration2 :\n",
        "\n",
        "slice2 = 1\n",
        "\n",
        "approx2 = [simple_regret_approx_1[slice2],\n",
        "       simple_regret_approx_2[slice2],\n",
        "       simple_regret_approx_3[slice2],\n",
        "       simple_regret_approx_4[slice2],\n",
        "       simple_regret_approx_5[slice2],\n",
        "       simple_regret_approx_6[slice2],\n",
        "       simple_regret_approx_7[slice2],\n",
        "       simple_regret_approx_8[slice2],\n",
        "       simple_regret_approx_9[slice2],\n",
        "       simple_regret_approx_10[slice2],\n",
        "       simple_regret_approx_11[slice2],\n",
        "       simple_regret_approx_12[slice2],\n",
        "       simple_regret_approx_13[slice2],\n",
        "       simple_regret_approx_14[slice2],\n",
        "       simple_regret_approx_15[slice2],\n",
        "       simple_regret_approx_16[slice2],\n",
        "       simple_regret_approx_17[slice2],\n",
        "       simple_regret_approx_18[slice2],\n",
        "       simple_regret_approx_19[slice2],\n",
        "       simple_regret_approx_20[slice2]]\n",
        "\n",
        "exact2 = [simple_regret_exact_1[slice2],\n",
        "       simple_regret_exact_2[slice2],\n",
        "       simple_regret_exact_3[slice2],\n",
        "       simple_regret_exact_4[slice2],\n",
        "       simple_regret_exact_5[slice2],\n",
        "       simple_regret_exact_6[slice2],\n",
        "       simple_regret_exact_7[slice2],\n",
        "       simple_regret_exact_8[slice2],\n",
        "       simple_regret_exact_9[slice2],\n",
        "       simple_regret_exact_10[slice2],\n",
        "       simple_regret_exact_11[slice2],\n",
        "       simple_regret_exact_12[slice2],\n",
        "       simple_regret_exact_13[slice2],\n",
        "       simple_regret_exact_14[slice2],\n",
        "       simple_regret_exact_15[slice2],\n",
        "       simple_regret_exact_16[slice2],\n",
        "       simple_regret_exact_17[slice2],\n",
        "       simple_regret_exact_18[slice2],\n",
        "       simple_regret_exact_19[slice2],\n",
        "       simple_regret_exact_20[slice2]]\n",
        "\n",
        "approx2_results = pd.DataFrame(approx2).sort_values(by=[0], ascending=False)\n",
        "exact2_results = pd.DataFrame(exact2).sort_values(by=[0], ascending=False)\n",
        "\n",
        "### Best simple regret minimization IQR - approx:\n",
        "lower_approx2 = np.asarray(approx2_results[4:5][0])[0]\n",
        "median_approx2 = np.asarray(approx2_results[9:10][0])[0]\n",
        "upper_approx2 = np.asarray(approx2_results[14:15][0])[0]\n",
        "\n",
        "lower_exact2 = np.asarray(exact2_results[4:5][0])[0]\n",
        "median_exact2 = np.asarray(exact2_results[9:10][0])[0]\n",
        "upper_exact2 = np.asarray(exact2_results[14:15][0])[0]"
      ],
      "execution_count": 78,
      "outputs": []
    },
    {
      "cell_type": "code",
      "metadata": {
        "id": "B8ncJDYeQxf3"
      },
      "source": [
        "# Iteration12 :\n",
        "\n",
        "slice12 = 11\n",
        "\n",
        "approx12 = [simple_regret_approx_1[slice12],\n",
        "       simple_regret_approx_2[slice12],\n",
        "       simple_regret_approx_3[slice12],\n",
        "       simple_regret_approx_4[slice12],\n",
        "       simple_regret_approx_5[slice12],\n",
        "       simple_regret_approx_6[slice12],\n",
        "       simple_regret_approx_7[slice12],\n",
        "       simple_regret_approx_8[slice12],\n",
        "       simple_regret_approx_9[slice12],\n",
        "       simple_regret_approx_10[slice12],\n",
        "       simple_regret_approx_11[slice12],\n",
        "       simple_regret_approx_12[slice12],\n",
        "       simple_regret_approx_13[slice12],\n",
        "       simple_regret_approx_14[slice12],\n",
        "       simple_regret_approx_15[slice12],\n",
        "       simple_regret_approx_16[slice12],\n",
        "       simple_regret_approx_17[slice12],\n",
        "       simple_regret_approx_18[slice12],\n",
        "       simple_regret_approx_19[slice12],\n",
        "       simple_regret_approx_20[slice12]]\n",
        "\n",
        "exact12 = [simple_regret_exact_1[slice12],\n",
        "       simple_regret_exact_2[slice12],\n",
        "       simple_regret_exact_3[slice12],\n",
        "       simple_regret_exact_4[slice12],\n",
        "       simple_regret_exact_5[slice12],\n",
        "       simple_regret_exact_6[slice12],\n",
        "       simple_regret_exact_7[slice12],\n",
        "       simple_regret_exact_8[slice12],\n",
        "       simple_regret_exact_9[slice12],\n",
        "       simple_regret_exact_10[slice12],\n",
        "       simple_regret_exact_11[slice12],\n",
        "       simple_regret_exact_12[slice12],\n",
        "       simple_regret_exact_13[slice12],\n",
        "       simple_regret_exact_14[slice12],\n",
        "       simple_regret_exact_15[slice12],\n",
        "       simple_regret_exact_16[slice12],\n",
        "       simple_regret_exact_17[slice12],\n",
        "       simple_regret_exact_18[slice12],\n",
        "       simple_regret_exact_19[slice12],\n",
        "       simple_regret_exact_20[slice12]]\n",
        "\n",
        "approx12_results = pd.DataFrame(approx12).sort_values(by=[0], ascending=False)\n",
        "exact12_results = pd.DataFrame(exact12).sort_values(by=[0], ascending=False)\n",
        "\n",
        "### Best simple regret minimization IQR - approx:\n",
        "lower_approx12 = np.asarray(approx12_results[4:5][0])[0]\n",
        "median_approx12 = np.asarray(approx12_results[9:10][0])[0]\n",
        "upper_approx12 = np.asarray(approx12_results[14:15][0])[0]\n",
        "\n",
        "lower_exact12 = np.asarray(exact12_results[4:5][0])[0]\n",
        "median_exact12 = np.asarray(exact12_results[9:10][0])[0]\n",
        "upper_exact12 = np.asarray(exact12_results[14:15][0])[0]"
      ],
      "execution_count": 79,
      "outputs": []
    },
    {
      "cell_type": "code",
      "metadata": {
        "id": "Jn4KpGvcQxf4"
      },
      "source": [
        "# Iteration3 :\n",
        "\n",
        "slice3 = 2\n",
        "\n",
        "approx3 = [simple_regret_approx_1[slice3],\n",
        "       simple_regret_approx_2[slice3],\n",
        "       simple_regret_approx_3[slice3],\n",
        "       simple_regret_approx_4[slice3],\n",
        "       simple_regret_approx_5[slice3],\n",
        "       simple_regret_approx_6[slice3],\n",
        "       simple_regret_approx_7[slice3],\n",
        "       simple_regret_approx_8[slice3],\n",
        "       simple_regret_approx_9[slice3],\n",
        "       simple_regret_approx_10[slice3],\n",
        "       simple_regret_approx_11[slice3],\n",
        "       simple_regret_approx_12[slice3],\n",
        "       simple_regret_approx_13[slice3],\n",
        "       simple_regret_approx_14[slice3],\n",
        "       simple_regret_approx_15[slice3],\n",
        "       simple_regret_approx_16[slice3],\n",
        "       simple_regret_approx_17[slice3],\n",
        "       simple_regret_approx_18[slice3],\n",
        "       simple_regret_approx_19[slice3],\n",
        "       simple_regret_approx_20[slice3]]\n",
        "\n",
        "exact3 = [simple_regret_exact_1[slice3],\n",
        "       simple_regret_exact_2[slice3],\n",
        "       simple_regret_exact_3[slice3],\n",
        "       simple_regret_exact_4[slice3],\n",
        "       simple_regret_exact_5[slice3],\n",
        "       simple_regret_exact_6[slice3],\n",
        "       simple_regret_exact_7[slice3],\n",
        "       simple_regret_exact_8[slice3],\n",
        "       simple_regret_exact_9[slice3],\n",
        "       simple_regret_exact_10[slice3],\n",
        "       simple_regret_exact_11[slice3],\n",
        "       simple_regret_exact_12[slice3],\n",
        "       simple_regret_exact_13[slice3],\n",
        "       simple_regret_exact_14[slice3],\n",
        "       simple_regret_exact_15[slice3],\n",
        "       simple_regret_exact_16[slice3],\n",
        "       simple_regret_exact_17[slice3],\n",
        "       simple_regret_exact_18[slice3],\n",
        "       simple_regret_exact_19[slice3],\n",
        "       simple_regret_exact_20[slice3]]\n",
        "\n",
        "approx3_results = pd.DataFrame(approx3).sort_values(by=[0], ascending=False)\n",
        "exact3_results = pd.DataFrame(exact3).sort_values(by=[0], ascending=False)\n",
        "\n",
        "### Best simple regret minimization IQR - approx:\n",
        "lower_approx3 = np.asarray(approx3_results[4:5][0])[0]\n",
        "median_approx3 = np.asarray(approx3_results[9:10][0])[0]\n",
        "upper_approx3 = np.asarray(approx3_results[14:15][0])[0]\n",
        "\n",
        "lower_exact3 = np.asarray(exact3_results[4:5][0])[0]\n",
        "median_exact3 = np.asarray(exact3_results[9:10][0])[0]\n",
        "upper_exact3 = np.asarray(exact3_results[14:15][0])[0]"
      ],
      "execution_count": 80,
      "outputs": []
    },
    {
      "cell_type": "code",
      "metadata": {
        "id": "plf83wxrQxf4"
      },
      "source": [
        "# Iteration13 :\n",
        "\n",
        "slice13 = 12\n",
        "\n",
        "approx13 = [simple_regret_approx_1[slice13],\n",
        "       simple_regret_approx_2[slice13],\n",
        "       simple_regret_approx_3[slice13],\n",
        "       simple_regret_approx_4[slice13],\n",
        "       simple_regret_approx_5[slice13],\n",
        "       simple_regret_approx_6[slice13],\n",
        "       simple_regret_approx_7[slice13],\n",
        "       simple_regret_approx_8[slice13],\n",
        "       simple_regret_approx_9[slice13],\n",
        "       simple_regret_approx_10[slice13],\n",
        "       simple_regret_approx_11[slice13],\n",
        "       simple_regret_approx_12[slice13],\n",
        "       simple_regret_approx_13[slice13],\n",
        "       simple_regret_approx_14[slice13],\n",
        "       simple_regret_approx_15[slice13],\n",
        "       simple_regret_approx_16[slice13],\n",
        "       simple_regret_approx_17[slice13],\n",
        "       simple_regret_approx_18[slice13],\n",
        "       simple_regret_approx_19[slice13],\n",
        "       simple_regret_approx_20[slice13]]\n",
        "\n",
        "exact13 = [simple_regret_exact_1[slice13],\n",
        "       simple_regret_exact_2[slice13],\n",
        "       simple_regret_exact_3[slice13],\n",
        "       simple_regret_exact_4[slice13],\n",
        "       simple_regret_exact_5[slice13],\n",
        "       simple_regret_exact_6[slice13],\n",
        "       simple_regret_exact_7[slice13],\n",
        "       simple_regret_exact_8[slice13],\n",
        "       simple_regret_exact_9[slice13],\n",
        "       simple_regret_exact_10[slice13],\n",
        "       simple_regret_exact_11[slice13],\n",
        "       simple_regret_exact_12[slice13],\n",
        "       simple_regret_exact_13[slice13],\n",
        "       simple_regret_exact_14[slice13],\n",
        "       simple_regret_exact_15[slice13],\n",
        "       simple_regret_exact_16[slice13],\n",
        "       simple_regret_exact_17[slice13],\n",
        "       simple_regret_exact_18[slice13],\n",
        "       simple_regret_exact_19[slice13],\n",
        "       simple_regret_exact_20[slice13]]\n",
        "\n",
        "approx13_results = pd.DataFrame(approx13).sort_values(by=[0], ascending=False)\n",
        "exact13_results = pd.DataFrame(exact13).sort_values(by=[0], ascending=False)\n",
        "\n",
        "### Best simple regret minimization IQR - approx:\n",
        "lower_approx13 = np.asarray(approx13_results[4:5][0])[0]\n",
        "median_approx13 = np.asarray(approx13_results[9:10][0])[0]\n",
        "upper_approx13 = np.asarray(approx13_results[14:15][0])[0]\n",
        "\n",
        "lower_exact13 = np.asarray(exact13_results[4:5][0])[0]\n",
        "median_exact13 = np.asarray(exact13_results[9:10][0])[0]\n",
        "upper_exact13 = np.asarray(exact13_results[14:15][0])[0]"
      ],
      "execution_count": 81,
      "outputs": []
    },
    {
      "cell_type": "code",
      "metadata": {
        "id": "9A7mlVvJQxf5"
      },
      "source": [
        "# Iteration4 :\n",
        "\n",
        "slice4 = 3\n",
        "\n",
        "approx4 = [simple_regret_approx_1[slice4],\n",
        "       simple_regret_approx_2[slice4],\n",
        "       simple_regret_approx_3[slice4],\n",
        "       simple_regret_approx_4[slice4],\n",
        "       simple_regret_approx_5[slice4],\n",
        "       simple_regret_approx_6[slice4],\n",
        "       simple_regret_approx_7[slice4],\n",
        "       simple_regret_approx_8[slice4],\n",
        "       simple_regret_approx_9[slice4],\n",
        "       simple_regret_approx_10[slice4],\n",
        "       simple_regret_approx_11[slice4],\n",
        "       simple_regret_approx_12[slice4],\n",
        "       simple_regret_approx_13[slice4],\n",
        "       simple_regret_approx_14[slice4],\n",
        "       simple_regret_approx_15[slice4],\n",
        "       simple_regret_approx_16[slice4],\n",
        "       simple_regret_approx_17[slice4],\n",
        "       simple_regret_approx_18[slice4],\n",
        "       simple_regret_approx_19[slice4],\n",
        "       simple_regret_approx_20[slice4]]\n",
        "\n",
        "exact4 = [simple_regret_exact_1[slice4],\n",
        "       simple_regret_exact_2[slice4],\n",
        "       simple_regret_exact_3[slice4],\n",
        "       simple_regret_exact_4[slice4],\n",
        "       simple_regret_exact_5[slice4],\n",
        "       simple_regret_exact_6[slice4],\n",
        "       simple_regret_exact_7[slice4],\n",
        "       simple_regret_exact_8[slice4],\n",
        "       simple_regret_exact_9[slice4],\n",
        "       simple_regret_exact_10[slice4],\n",
        "       simple_regret_exact_11[slice4],\n",
        "       simple_regret_exact_12[slice4],\n",
        "       simple_regret_exact_13[slice4],\n",
        "       simple_regret_exact_14[slice4],\n",
        "       simple_regret_exact_15[slice4],\n",
        "       simple_regret_exact_16[slice4],\n",
        "       simple_regret_exact_17[slice4],\n",
        "       simple_regret_exact_18[slice4],\n",
        "       simple_regret_exact_19[slice4],\n",
        "       simple_regret_exact_20[slice4]]\n",
        "\n",
        "approx4_results = pd.DataFrame(approx4).sort_values(by=[0], ascending=False)\n",
        "exact4_results = pd.DataFrame(exact4).sort_values(by=[0], ascending=False)\n",
        "\n",
        "### Best simple regret minimization IQR - approx:\n",
        "lower_approx4 = np.asarray(approx4_results[4:5][0])[0]\n",
        "median_approx4 = np.asarray(approx4_results[9:10][0])[0]\n",
        "upper_approx4 = np.asarray(approx4_results[14:15][0])[0]\n",
        "\n",
        "lower_exact4 = np.asarray(exact4_results[4:5][0])[0]\n",
        "median_exact4 = np.asarray(exact4_results[9:10][0])[0]\n",
        "upper_exact4 = np.asarray(exact4_results[14:15][0])[0]"
      ],
      "execution_count": 82,
      "outputs": []
    },
    {
      "cell_type": "code",
      "metadata": {
        "id": "ijq-rioYQxf5"
      },
      "source": [
        "# Iteration14 :\n",
        "\n",
        "slice14 = 13\n",
        "\n",
        "approx14 = [simple_regret_approx_1[slice14],\n",
        "       simple_regret_approx_2[slice14],\n",
        "       simple_regret_approx_3[slice14],\n",
        "       simple_regret_approx_4[slice14],\n",
        "       simple_regret_approx_5[slice14],\n",
        "       simple_regret_approx_6[slice14],\n",
        "       simple_regret_approx_7[slice14],\n",
        "       simple_regret_approx_8[slice14],\n",
        "       simple_regret_approx_9[slice14],\n",
        "       simple_regret_approx_10[slice14],\n",
        "       simple_regret_approx_11[slice14],\n",
        "       simple_regret_approx_12[slice14],\n",
        "       simple_regret_approx_13[slice14],\n",
        "       simple_regret_approx_14[slice14],\n",
        "       simple_regret_approx_15[slice14],\n",
        "       simple_regret_approx_16[slice14],\n",
        "       simple_regret_approx_17[slice14],\n",
        "       simple_regret_approx_18[slice14],\n",
        "       simple_regret_approx_19[slice14],\n",
        "       simple_regret_approx_20[slice14]]\n",
        "\n",
        "exact14 = [simple_regret_exact_1[slice14],\n",
        "       simple_regret_exact_2[slice14],\n",
        "       simple_regret_exact_3[slice14],\n",
        "       simple_regret_exact_4[slice14],\n",
        "       simple_regret_exact_5[slice14],\n",
        "       simple_regret_exact_6[slice14],\n",
        "       simple_regret_exact_7[slice14],\n",
        "       simple_regret_exact_8[slice14],\n",
        "       simple_regret_exact_9[slice14],\n",
        "       simple_regret_exact_10[slice14],\n",
        "       simple_regret_exact_11[slice14],\n",
        "       simple_regret_exact_12[slice14],\n",
        "       simple_regret_exact_13[slice14],\n",
        "       simple_regret_exact_14[slice14],\n",
        "       simple_regret_exact_15[slice14],\n",
        "       simple_regret_exact_16[slice14],\n",
        "       simple_regret_exact_17[slice14],\n",
        "       simple_regret_exact_18[slice14],\n",
        "       simple_regret_exact_19[slice14],\n",
        "       simple_regret_exact_20[slice14]]\n",
        "\n",
        "approx14_results = pd.DataFrame(approx14).sort_values(by=[0], ascending=False)\n",
        "exact14_results = pd.DataFrame(exact14).sort_values(by=[0], ascending=False)\n",
        "\n",
        "### Best simple regret minimization IQR - approx:\n",
        "lower_approx14 = np.asarray(approx14_results[4:5][0])[0]\n",
        "median_approx14 = np.asarray(approx14_results[9:10][0])[0]\n",
        "upper_approx14 = np.asarray(approx14_results[14:15][0])[0]\n",
        "\n",
        "lower_exact14 = np.asarray(exact14_results[4:5][0])[0]\n",
        "median_exact14 = np.asarray(exact14_results[9:10][0])[0]\n",
        "upper_exact14 = np.asarray(exact14_results[14:15][0])[0]"
      ],
      "execution_count": 83,
      "outputs": []
    },
    {
      "cell_type": "code",
      "metadata": {
        "id": "XINlZjoTd-ZK"
      },
      "source": [
        "# Iteration5 :\n",
        "\n",
        "slice5 = 4\n",
        "\n",
        "approx5 = [simple_regret_approx_1[slice5],\n",
        "       simple_regret_approx_2[slice5],\n",
        "       simple_regret_approx_3[slice5],\n",
        "       simple_regret_approx_4[slice5],\n",
        "       simple_regret_approx_5[slice5],\n",
        "       simple_regret_approx_6[slice5],\n",
        "       simple_regret_approx_7[slice5],\n",
        "       simple_regret_approx_8[slice5],\n",
        "       simple_regret_approx_9[slice5],\n",
        "       simple_regret_approx_10[slice5],\n",
        "       simple_regret_approx_11[slice5],\n",
        "       simple_regret_approx_12[slice5],\n",
        "       simple_regret_approx_13[slice5],\n",
        "       simple_regret_approx_14[slice5],\n",
        "       simple_regret_approx_15[slice5],\n",
        "       simple_regret_approx_16[slice5],\n",
        "       simple_regret_approx_17[slice5],\n",
        "       simple_regret_approx_18[slice5],\n",
        "       simple_regret_approx_19[slice5],\n",
        "       simple_regret_approx_20[slice5]]\n",
        "\n",
        "exact5 = [simple_regret_exact_1[slice5],\n",
        "       simple_regret_exact_2[slice5],\n",
        "       simple_regret_exact_3[slice5],\n",
        "       simple_regret_exact_4[slice5],\n",
        "       simple_regret_exact_5[slice5],\n",
        "       simple_regret_exact_6[slice5],\n",
        "       simple_regret_exact_7[slice5],\n",
        "       simple_regret_exact_8[slice5],\n",
        "       simple_regret_exact_9[slice5],\n",
        "       simple_regret_exact_10[slice5],\n",
        "       simple_regret_exact_11[slice5],\n",
        "       simple_regret_exact_12[slice5],\n",
        "       simple_regret_exact_13[slice5],\n",
        "       simple_regret_exact_14[slice5],\n",
        "       simple_regret_exact_15[slice5],\n",
        "       simple_regret_exact_16[slice5],\n",
        "       simple_regret_exact_17[slice5],\n",
        "       simple_regret_exact_18[slice5],\n",
        "       simple_regret_exact_19[slice5],\n",
        "       simple_regret_exact_20[slice5]]\n",
        "\n",
        "approx5_results = pd.DataFrame(approx5).sort_values(by=[0], ascending=False)\n",
        "exact5_results = pd.DataFrame(exact5).sort_values(by=[0], ascending=False)\n",
        "\n",
        "### Best simple regret minimization IQR - approx:\n",
        "lower_approx5 = np.asarray(approx5_results[4:5][0])[0]\n",
        "median_approx5 = np.asarray(approx5_results[9:10][0])[0]\n",
        "upper_approx5 = np.asarray(approx5_results[14:15][0])[0]\n",
        "\n",
        "lower_exact5 = np.asarray(exact5_results[4:5][0])[0]\n",
        "median_exact5 = np.asarray(exact5_results[9:10][0])[0]\n",
        "upper_exact5 = np.asarray(exact5_results[14:15][0])[0]"
      ],
      "execution_count": 84,
      "outputs": []
    },
    {
      "cell_type": "code",
      "metadata": {
        "id": "4aZ7C8sOQxf6"
      },
      "source": [
        "# Iteration15 :\n",
        "\n",
        "slice15 = 14\n",
        "\n",
        "approx15 = [simple_regret_approx_1[slice15],\n",
        "       simple_regret_approx_2[slice15],\n",
        "       simple_regret_approx_3[slice15],\n",
        "       simple_regret_approx_4[slice15],\n",
        "       simple_regret_approx_5[slice15],\n",
        "       simple_regret_approx_6[slice15],\n",
        "       simple_regret_approx_7[slice15],\n",
        "       simple_regret_approx_8[slice15],\n",
        "       simple_regret_approx_9[slice15],\n",
        "       simple_regret_approx_10[slice15],\n",
        "       simple_regret_approx_11[slice15],\n",
        "       simple_regret_approx_12[slice15],\n",
        "       simple_regret_approx_13[slice15],\n",
        "       simple_regret_approx_14[slice15],\n",
        "       simple_regret_approx_15[slice15],\n",
        "       simple_regret_approx_16[slice15],\n",
        "       simple_regret_approx_17[slice15],\n",
        "       simple_regret_approx_18[slice15],\n",
        "       simple_regret_approx_19[slice15],\n",
        "       simple_regret_approx_20[slice15]]\n",
        "\n",
        "exact15 = [simple_regret_exact_1[slice15],\n",
        "       simple_regret_exact_2[slice15],\n",
        "       simple_regret_exact_3[slice15],\n",
        "       simple_regret_exact_4[slice15],\n",
        "       simple_regret_exact_5[slice15],\n",
        "       simple_regret_exact_6[slice15],\n",
        "       simple_regret_exact_7[slice15],\n",
        "       simple_regret_exact_8[slice15],\n",
        "       simple_regret_exact_9[slice15],\n",
        "       simple_regret_exact_10[slice15],\n",
        "       simple_regret_exact_11[slice15],\n",
        "       simple_regret_exact_12[slice15],\n",
        "       simple_regret_exact_13[slice15],\n",
        "       simple_regret_exact_14[slice15],\n",
        "       simple_regret_exact_15[slice15],\n",
        "       simple_regret_exact_16[slice15],\n",
        "       simple_regret_exact_17[slice15],\n",
        "       simple_regret_exact_18[slice15],\n",
        "       simple_regret_exact_19[slice15],\n",
        "       simple_regret_exact_20[slice15]]\n",
        "\n",
        "approx15_results = pd.DataFrame(approx15).sort_values(by=[0], ascending=False)\n",
        "exact15_results = pd.DataFrame(exact15).sort_values(by=[0], ascending=False)\n",
        "\n",
        "### Best simple regret minimization IQR - approx:\n",
        "lower_approx15 = np.asarray(approx15_results[4:5][0])[0]\n",
        "median_approx15 = np.asarray(approx15_results[9:10][0])[0]\n",
        "upper_approx15 = np.asarray(approx15_results[14:15][0])[0]\n",
        "\n",
        "lower_exact15 = np.asarray(exact15_results[4:5][0])[0]\n",
        "median_exact15 = np.asarray(exact15_results[9:10][0])[0]\n",
        "upper_exact15 = np.asarray(exact15_results[14:15][0])[0]"
      ],
      "execution_count": 85,
      "outputs": []
    },
    {
      "cell_type": "code",
      "metadata": {
        "id": "KJINKhv1Qxf6"
      },
      "source": [
        "# Iteration6 :\n",
        "\n",
        "slice6 = 5\n",
        "\n",
        "approx6 = [simple_regret_approx_1[slice6],\n",
        "       simple_regret_approx_2[slice6],\n",
        "       simple_regret_approx_3[slice6],\n",
        "       simple_regret_approx_4[slice6],\n",
        "       simple_regret_approx_5[slice6],\n",
        "       simple_regret_approx_6[slice6],\n",
        "       simple_regret_approx_7[slice6],\n",
        "       simple_regret_approx_8[slice6],\n",
        "       simple_regret_approx_9[slice6],\n",
        "       simple_regret_approx_10[slice6],\n",
        "       simple_regret_approx_11[slice6],\n",
        "       simple_regret_approx_12[slice6],\n",
        "       simple_regret_approx_13[slice6],\n",
        "       simple_regret_approx_14[slice6],\n",
        "       simple_regret_approx_15[slice6],\n",
        "       simple_regret_approx_16[slice6],\n",
        "       simple_regret_approx_17[slice6],\n",
        "       simple_regret_approx_18[slice6],\n",
        "       simple_regret_approx_19[slice6],\n",
        "       simple_regret_approx_20[slice6]]\n",
        "\n",
        "exact6 = [simple_regret_exact_1[slice6],\n",
        "       simple_regret_exact_2[slice6],\n",
        "       simple_regret_exact_3[slice6],\n",
        "       simple_regret_exact_4[slice6],\n",
        "       simple_regret_exact_5[slice6],\n",
        "       simple_regret_exact_6[slice6],\n",
        "       simple_regret_exact_7[slice6],\n",
        "       simple_regret_exact_8[slice6],\n",
        "       simple_regret_exact_9[slice6],\n",
        "       simple_regret_exact_10[slice6],\n",
        "       simple_regret_exact_11[slice6],\n",
        "       simple_regret_exact_12[slice6],\n",
        "       simple_regret_exact_13[slice6],\n",
        "       simple_regret_exact_14[slice6],\n",
        "       simple_regret_exact_15[slice6],\n",
        "       simple_regret_exact_16[slice6],\n",
        "       simple_regret_exact_17[slice6],\n",
        "       simple_regret_exact_18[slice6],\n",
        "       simple_regret_exact_19[slice6],\n",
        "       simple_regret_exact_20[slice6]]\n",
        "\n",
        "approx6_results = pd.DataFrame(approx6).sort_values(by=[0], ascending=False)\n",
        "exact6_results = pd.DataFrame(exact6).sort_values(by=[0], ascending=False)\n",
        "\n",
        "### Best simple regret minimization IQR - approx:\n",
        "lower_approx6 = np.asarray(approx6_results[4:5][0])[0]\n",
        "median_approx6 = np.asarray(approx6_results[9:10][0])[0]\n",
        "upper_approx6 = np.asarray(approx6_results[14:15][0])[0]\n",
        "\n",
        "lower_exact6 = np.asarray(exact6_results[4:5][0])[0]\n",
        "median_exact6 = np.asarray(exact6_results[9:10][0])[0]\n",
        "upper_exact6 = np.asarray(exact6_results[14:15][0])[0]"
      ],
      "execution_count": 86,
      "outputs": []
    },
    {
      "cell_type": "code",
      "metadata": {
        "id": "nwC5N1FsQxf7"
      },
      "source": [
        "# Iteration16 :\n",
        "\n",
        "slice16 = 15\n",
        "\n",
        "approx16 = [simple_regret_approx_1[slice16],\n",
        "       simple_regret_approx_2[slice16],\n",
        "       simple_regret_approx_3[slice16],\n",
        "       simple_regret_approx_4[slice16],\n",
        "       simple_regret_approx_5[slice16],\n",
        "       simple_regret_approx_6[slice16],\n",
        "       simple_regret_approx_7[slice16],\n",
        "       simple_regret_approx_8[slice16],\n",
        "       simple_regret_approx_9[slice16],\n",
        "       simple_regret_approx_10[slice16],\n",
        "       simple_regret_approx_11[slice16],\n",
        "       simple_regret_approx_12[slice16],\n",
        "       simple_regret_approx_13[slice16],\n",
        "       simple_regret_approx_14[slice16],\n",
        "       simple_regret_approx_15[slice16],\n",
        "       simple_regret_approx_16[slice16],\n",
        "       simple_regret_approx_17[slice16],\n",
        "       simple_regret_approx_18[slice16],\n",
        "       simple_regret_approx_19[slice16],\n",
        "       simple_regret_approx_20[slice16]]\n",
        "\n",
        "exact16 = [simple_regret_exact_1[slice16],\n",
        "       simple_regret_exact_2[slice16],\n",
        "       simple_regret_exact_3[slice16],\n",
        "       simple_regret_exact_4[slice16],\n",
        "       simple_regret_exact_5[slice16],\n",
        "       simple_regret_exact_6[slice16],\n",
        "       simple_regret_exact_7[slice16],\n",
        "       simple_regret_exact_8[slice16],\n",
        "       simple_regret_exact_9[slice16],\n",
        "       simple_regret_exact_10[slice16],\n",
        "       simple_regret_exact_11[slice16],\n",
        "       simple_regret_exact_12[slice16],\n",
        "       simple_regret_exact_13[slice16],\n",
        "       simple_regret_exact_14[slice16],\n",
        "       simple_regret_exact_15[slice16],\n",
        "       simple_regret_exact_16[slice16],\n",
        "       simple_regret_exact_17[slice16],\n",
        "       simple_regret_exact_18[slice16],\n",
        "       simple_regret_exact_19[slice16],\n",
        "       simple_regret_exact_20[slice16]]\n",
        "\n",
        "approx16_results = pd.DataFrame(approx16).sort_values(by=[0], ascending=False)\n",
        "exact16_results = pd.DataFrame(exact16).sort_values(by=[0], ascending=False)\n",
        "\n",
        "### Best simple regret minimization IQR - approx:\n",
        "lower_approx16 = np.asarray(approx16_results[4:5][0])[0]\n",
        "median_approx16 = np.asarray(approx16_results[9:10][0])[0]\n",
        "upper_approx16 = np.asarray(approx16_results[14:15][0])[0]\n",
        "\n",
        "lower_exact16 = np.asarray(exact16_results[4:5][0])[0]\n",
        "median_exact16 = np.asarray(exact16_results[9:10][0])[0]\n",
        "upper_exact16 = np.asarray(exact16_results[14:15][0])[0]"
      ],
      "execution_count": 87,
      "outputs": []
    },
    {
      "cell_type": "code",
      "metadata": {
        "id": "TrPV0AfnQxf7"
      },
      "source": [
        "# Iteration7 :\n",
        "\n",
        "slice7 = 6\n",
        "\n",
        "approx7 = [simple_regret_approx_1[slice7],\n",
        "       simple_regret_approx_2[slice7],\n",
        "       simple_regret_approx_3[slice7],\n",
        "       simple_regret_approx_4[slice7],\n",
        "       simple_regret_approx_5[slice7],\n",
        "       simple_regret_approx_6[slice7],\n",
        "       simple_regret_approx_7[slice7],\n",
        "       simple_regret_approx_8[slice7],\n",
        "       simple_regret_approx_9[slice7],\n",
        "       simple_regret_approx_10[slice7],\n",
        "       simple_regret_approx_11[slice7],\n",
        "       simple_regret_approx_12[slice7],\n",
        "       simple_regret_approx_13[slice7],\n",
        "       simple_regret_approx_14[slice7],\n",
        "       simple_regret_approx_15[slice7],\n",
        "       simple_regret_approx_16[slice7],\n",
        "       simple_regret_approx_17[slice7],\n",
        "       simple_regret_approx_18[slice7],\n",
        "       simple_regret_approx_19[slice7],\n",
        "       simple_regret_approx_20[slice7]]\n",
        "\n",
        "exact7 = [simple_regret_exact_1[slice7],\n",
        "       simple_regret_exact_2[slice7],\n",
        "       simple_regret_exact_3[slice7],\n",
        "       simple_regret_exact_4[slice7],\n",
        "       simple_regret_exact_5[slice7],\n",
        "       simple_regret_exact_6[slice7],\n",
        "       simple_regret_exact_7[slice7],\n",
        "       simple_regret_exact_8[slice7],\n",
        "       simple_regret_exact_9[slice7],\n",
        "       simple_regret_exact_10[slice7],\n",
        "       simple_regret_exact_11[slice7],\n",
        "       simple_regret_exact_12[slice7],\n",
        "       simple_regret_exact_13[slice7],\n",
        "       simple_regret_exact_14[slice7],\n",
        "       simple_regret_exact_15[slice7],\n",
        "       simple_regret_exact_16[slice7],\n",
        "       simple_regret_exact_17[slice7],\n",
        "       simple_regret_exact_18[slice7],\n",
        "       simple_regret_exact_19[slice7],\n",
        "       simple_regret_exact_20[slice7]]\n",
        "\n",
        "approx7_results = pd.DataFrame(approx7).sort_values(by=[0], ascending=False)\n",
        "exact7_results = pd.DataFrame(exact7).sort_values(by=[0], ascending=False)\n",
        "\n",
        "### Best simple regret minimization IQR - approx:\n",
        "lower_approx7 = np.asarray(approx7_results[4:5][0])[0]\n",
        "median_approx7 = np.asarray(approx7_results[9:10][0])[0]\n",
        "upper_approx7 = np.asarray(approx7_results[14:15][0])[0]\n",
        "\n",
        "lower_exact7 = np.asarray(exact7_results[4:5][0])[0]\n",
        "median_exact7 = np.asarray(exact7_results[9:10][0])[0]\n",
        "upper_exact7 = np.asarray(exact7_results[14:15][0])[0]"
      ],
      "execution_count": 88,
      "outputs": []
    },
    {
      "cell_type": "code",
      "metadata": {
        "id": "Ub_-wpK4Qxf8"
      },
      "source": [
        "# Iteration17 :\n",
        "\n",
        "slice17 = 16\n",
        "\n",
        "approx17 = [simple_regret_approx_1[slice17],\n",
        "       simple_regret_approx_2[slice17],\n",
        "       simple_regret_approx_3[slice17],\n",
        "       simple_regret_approx_4[slice17],\n",
        "       simple_regret_approx_5[slice17],\n",
        "       simple_regret_approx_6[slice17],\n",
        "       simple_regret_approx_7[slice17],\n",
        "       simple_regret_approx_8[slice17],\n",
        "       simple_regret_approx_9[slice17],\n",
        "       simple_regret_approx_10[slice17],\n",
        "       simple_regret_approx_11[slice17],\n",
        "       simple_regret_approx_12[slice17],\n",
        "       simple_regret_approx_13[slice17],\n",
        "       simple_regret_approx_14[slice17],\n",
        "       simple_regret_approx_15[slice17],\n",
        "       simple_regret_approx_16[slice17],\n",
        "       simple_regret_approx_17[slice17],\n",
        "       simple_regret_approx_18[slice17],\n",
        "       simple_regret_approx_19[slice17],\n",
        "       simple_regret_approx_20[slice17]]\n",
        "\n",
        "exact17 = [simple_regret_exact_1[slice17],\n",
        "       simple_regret_exact_2[slice17],\n",
        "       simple_regret_exact_3[slice17],\n",
        "       simple_regret_exact_4[slice17],\n",
        "       simple_regret_exact_5[slice17],\n",
        "       simple_regret_exact_6[slice17],\n",
        "       simple_regret_exact_7[slice17],\n",
        "       simple_regret_exact_8[slice17],\n",
        "       simple_regret_exact_9[slice17],\n",
        "       simple_regret_exact_10[slice17],\n",
        "       simple_regret_exact_11[slice17],\n",
        "       simple_regret_exact_12[slice17],\n",
        "       simple_regret_exact_13[slice17],\n",
        "       simple_regret_exact_14[slice17],\n",
        "       simple_regret_exact_15[slice17],\n",
        "       simple_regret_exact_16[slice17],\n",
        "       simple_regret_exact_17[slice17],\n",
        "       simple_regret_exact_18[slice17],\n",
        "       simple_regret_exact_19[slice17],\n",
        "       simple_regret_exact_20[slice17]]\n",
        "\n",
        "approx17_results = pd.DataFrame(approx17).sort_values(by=[0], ascending=False)\n",
        "exact17_results = pd.DataFrame(exact17).sort_values(by=[0], ascending=False)\n",
        "\n",
        "### Best simple regret minimization IQR - approx:\n",
        "lower_approx17 = np.asarray(approx17_results[4:5][0])[0]\n",
        "median_approx17 = np.asarray(approx17_results[9:10][0])[0]\n",
        "upper_approx17 = np.asarray(approx17_results[14:15][0])[0]\n",
        "\n",
        "lower_exact17 = np.asarray(exact17_results[4:5][0])[0]\n",
        "median_exact17 = np.asarray(exact17_results[9:10][0])[0]\n",
        "upper_exact17 = np.asarray(exact17_results[14:15][0])[0]"
      ],
      "execution_count": 89,
      "outputs": []
    },
    {
      "cell_type": "code",
      "metadata": {
        "id": "-6VLo37PQxf8"
      },
      "source": [
        "# Iteration8 :\n",
        "\n",
        "slice8 = 7\n",
        "\n",
        "approx8 = [simple_regret_approx_1[slice8],\n",
        "       simple_regret_approx_2[slice8],\n",
        "       simple_regret_approx_3[slice8],\n",
        "       simple_regret_approx_4[slice8],\n",
        "       simple_regret_approx_5[slice8],\n",
        "       simple_regret_approx_6[slice8],\n",
        "       simple_regret_approx_7[slice8],\n",
        "       simple_regret_approx_8[slice8],\n",
        "       simple_regret_approx_9[slice8],\n",
        "       simple_regret_approx_10[slice8],\n",
        "       simple_regret_approx_11[slice8],\n",
        "       simple_regret_approx_12[slice8],\n",
        "       simple_regret_approx_13[slice8],\n",
        "       simple_regret_approx_14[slice8],\n",
        "       simple_regret_approx_15[slice8],\n",
        "       simple_regret_approx_16[slice8],\n",
        "       simple_regret_approx_17[slice8],\n",
        "       simple_regret_approx_18[slice8],\n",
        "       simple_regret_approx_19[slice8],\n",
        "       simple_regret_approx_20[slice8]]\n",
        "\n",
        "exact8 = [simple_regret_exact_1[slice8],\n",
        "       simple_regret_exact_2[slice8],\n",
        "       simple_regret_exact_3[slice8],\n",
        "       simple_regret_exact_4[slice8],\n",
        "       simple_regret_exact_5[slice8],\n",
        "       simple_regret_exact_6[slice8],\n",
        "       simple_regret_exact_7[slice8],\n",
        "       simple_regret_exact_8[slice8],\n",
        "       simple_regret_exact_9[slice8],\n",
        "       simple_regret_exact_10[slice8],\n",
        "       simple_regret_exact_11[slice8],\n",
        "       simple_regret_exact_12[slice8],\n",
        "       simple_regret_exact_13[slice8],\n",
        "       simple_regret_exact_14[slice8],\n",
        "       simple_regret_exact_15[slice8],\n",
        "       simple_regret_exact_16[slice8],\n",
        "       simple_regret_exact_17[slice8],\n",
        "       simple_regret_exact_18[slice8],\n",
        "       simple_regret_exact_19[slice8],\n",
        "       simple_regret_exact_20[slice8]]\n",
        "\n",
        "approx8_results = pd.DataFrame(approx8).sort_values(by=[0], ascending=False)\n",
        "exact8_results = pd.DataFrame(exact8).sort_values(by=[0], ascending=False)\n",
        "\n",
        "### Best simple regret minimization IQR - approx:\n",
        "lower_approx8 = np.asarray(approx8_results[4:5][0])[0]\n",
        "median_approx8 = np.asarray(approx8_results[9:10][0])[0]\n",
        "upper_approx8 = np.asarray(approx8_results[14:15][0])[0]\n",
        "\n",
        "lower_exact8 = np.asarray(exact8_results[4:5][0])[0]\n",
        "median_exact8 = np.asarray(exact8_results[9:10][0])[0]\n",
        "upper_exact8 = np.asarray(exact8_results[14:15][0])[0]"
      ],
      "execution_count": 90,
      "outputs": []
    },
    {
      "cell_type": "code",
      "metadata": {
        "id": "2Dp-9CC2Qxf9"
      },
      "source": [
        "# Iteration18 :\n",
        "\n",
        "slice18 = 17\n",
        "\n",
        "approx18 = [simple_regret_approx_1[slice18],\n",
        "       simple_regret_approx_2[slice18],\n",
        "       simple_regret_approx_3[slice18],\n",
        "       simple_regret_approx_4[slice18],\n",
        "       simple_regret_approx_5[slice18],\n",
        "       simple_regret_approx_6[slice18],\n",
        "       simple_regret_approx_7[slice18],\n",
        "       simple_regret_approx_8[slice18],\n",
        "       simple_regret_approx_9[slice18],\n",
        "       simple_regret_approx_10[slice18],\n",
        "       simple_regret_approx_11[slice18],\n",
        "       simple_regret_approx_12[slice18],\n",
        "       simple_regret_approx_13[slice18],\n",
        "       simple_regret_approx_14[slice18],\n",
        "       simple_regret_approx_15[slice18],\n",
        "       simple_regret_approx_16[slice18],\n",
        "       simple_regret_approx_17[slice18],\n",
        "       simple_regret_approx_18[slice18],\n",
        "       simple_regret_approx_19[slice18],\n",
        "       simple_regret_approx_20[slice18]]\n",
        "\n",
        "exact18 = [simple_regret_exact_1[slice18],\n",
        "       simple_regret_exact_2[slice18],\n",
        "       simple_regret_exact_3[slice18],\n",
        "       simple_regret_exact_4[slice18],\n",
        "       simple_regret_exact_5[slice18],\n",
        "       simple_regret_exact_6[slice18],\n",
        "       simple_regret_exact_7[slice18],\n",
        "       simple_regret_exact_8[slice18],\n",
        "       simple_regret_exact_9[slice18],\n",
        "       simple_regret_exact_10[slice18],\n",
        "       simple_regret_exact_11[slice18],\n",
        "       simple_regret_exact_12[slice18],\n",
        "       simple_regret_exact_13[slice18],\n",
        "       simple_regret_exact_14[slice18],\n",
        "       simple_regret_exact_15[slice18],\n",
        "       simple_regret_exact_16[slice18],\n",
        "       simple_regret_exact_17[slice18],\n",
        "       simple_regret_exact_18[slice18],\n",
        "       simple_regret_exact_19[slice18],\n",
        "       simple_regret_exact_20[slice18]]\n",
        "\n",
        "approx18_results = pd.DataFrame(approx18).sort_values(by=[0], ascending=False)\n",
        "exact18_results = pd.DataFrame(exact18).sort_values(by=[0], ascending=False)\n",
        "\n",
        "### Best simple regret minimization IQR - approx:\n",
        "lower_approx18 = np.asarray(approx18_results[4:5][0])[0]\n",
        "median_approx18 = np.asarray(approx18_results[9:10][0])[0]\n",
        "upper_approx18 = np.asarray(approx18_results[14:15][0])[0]\n",
        "\n",
        "lower_exact18 = np.asarray(exact18_results[4:5][0])[0]\n",
        "median_exact18 = np.asarray(exact18_results[9:10][0])[0]\n",
        "upper_exact18 = np.asarray(exact18_results[14:15][0])[0]"
      ],
      "execution_count": 91,
      "outputs": []
    },
    {
      "cell_type": "code",
      "metadata": {
        "id": "SqiaOpB7Qxf9"
      },
      "source": [
        "# Iteration9 :\n",
        "\n",
        "slice9 = 8\n",
        "\n",
        "approx9 = [simple_regret_approx_1[slice9],\n",
        "       simple_regret_approx_2[slice9],\n",
        "       simple_regret_approx_3[slice9],\n",
        "       simple_regret_approx_4[slice9],\n",
        "       simple_regret_approx_5[slice9],\n",
        "       simple_regret_approx_6[slice9],\n",
        "       simple_regret_approx_7[slice9],\n",
        "       simple_regret_approx_8[slice9],\n",
        "       simple_regret_approx_9[slice9],\n",
        "       simple_regret_approx_10[slice9],\n",
        "       simple_regret_approx_11[slice9],\n",
        "       simple_regret_approx_12[slice9],\n",
        "       simple_regret_approx_13[slice9],\n",
        "       simple_regret_approx_14[slice9],\n",
        "       simple_regret_approx_15[slice9],\n",
        "       simple_regret_approx_16[slice9],\n",
        "       simple_regret_approx_17[slice9],\n",
        "       simple_regret_approx_18[slice9],\n",
        "       simple_regret_approx_19[slice9],\n",
        "       simple_regret_approx_20[slice9]]\n",
        "\n",
        "exact9 = [simple_regret_exact_1[slice9],\n",
        "       simple_regret_exact_2[slice9],\n",
        "       simple_regret_exact_3[slice9],\n",
        "       simple_regret_exact_4[slice9],\n",
        "       simple_regret_exact_5[slice9],\n",
        "       simple_regret_exact_6[slice9],\n",
        "       simple_regret_exact_7[slice9],\n",
        "       simple_regret_exact_8[slice9],\n",
        "       simple_regret_exact_9[slice9],\n",
        "       simple_regret_exact_10[slice9],\n",
        "       simple_regret_exact_11[slice9],\n",
        "       simple_regret_exact_12[slice9],\n",
        "       simple_regret_exact_13[slice9],\n",
        "       simple_regret_exact_14[slice9],\n",
        "       simple_regret_exact_15[slice9],\n",
        "       simple_regret_exact_16[slice9],\n",
        "       simple_regret_exact_17[slice9],\n",
        "       simple_regret_exact_18[slice9],\n",
        "       simple_regret_exact_19[slice9],\n",
        "       simple_regret_exact_20[slice9]]\n",
        "\n",
        "approx9_results = pd.DataFrame(approx9).sort_values(by=[0], ascending=False)\n",
        "exact9_results = pd.DataFrame(exact9).sort_values(by=[0], ascending=False)\n",
        "\n",
        "### Best simple regret minimization IQR - approx:\n",
        "lower_approx9 = np.asarray(approx9_results[4:5][0])[0]\n",
        "median_approx9 = np.asarray(approx9_results[9:10][0])[0]\n",
        "upper_approx9 = np.asarray(approx9_results[14:15][0])[0]\n",
        "\n",
        "lower_exact9 = np.asarray(exact9_results[4:5][0])[0]\n",
        "median_exact9 = np.asarray(exact9_results[9:10][0])[0]\n",
        "upper_exact9 = np.asarray(exact9_results[14:15][0])[0]"
      ],
      "execution_count": 92,
      "outputs": []
    },
    {
      "cell_type": "code",
      "metadata": {
        "id": "OQkCCOsPQxf9"
      },
      "source": [
        "# Iteration19 :\n",
        "\n",
        "slice19 = 18\n",
        "\n",
        "approx19 = [simple_regret_approx_1[slice19],\n",
        "       simple_regret_approx_2[slice19],\n",
        "       simple_regret_approx_3[slice19],\n",
        "       simple_regret_approx_4[slice19],\n",
        "       simple_regret_approx_5[slice19],\n",
        "       simple_regret_approx_6[slice19],\n",
        "       simple_regret_approx_7[slice19],\n",
        "       simple_regret_approx_8[slice19],\n",
        "       simple_regret_approx_9[slice19],\n",
        "       simple_regret_approx_10[slice19],\n",
        "       simple_regret_approx_11[slice19],\n",
        "       simple_regret_approx_12[slice19],\n",
        "       simple_regret_approx_13[slice19],\n",
        "       simple_regret_approx_14[slice19],\n",
        "       simple_regret_approx_15[slice19],\n",
        "       simple_regret_approx_16[slice19],\n",
        "       simple_regret_approx_17[slice19],\n",
        "       simple_regret_approx_18[slice19],\n",
        "       simple_regret_approx_19[slice19],\n",
        "       simple_regret_approx_20[slice19]]\n",
        "\n",
        "exact19 = [simple_regret_exact_1[slice19],\n",
        "       simple_regret_exact_2[slice19],\n",
        "       simple_regret_exact_3[slice19],\n",
        "       simple_regret_exact_4[slice19],\n",
        "       simple_regret_exact_5[slice19],\n",
        "       simple_regret_exact_6[slice19],\n",
        "       simple_regret_exact_7[slice19],\n",
        "       simple_regret_exact_8[slice19],\n",
        "       simple_regret_exact_9[slice19],\n",
        "       simple_regret_exact_10[slice19],\n",
        "       simple_regret_exact_11[slice19],\n",
        "       simple_regret_exact_12[slice19],\n",
        "       simple_regret_exact_13[slice19],\n",
        "       simple_regret_exact_14[slice19],\n",
        "       simple_regret_exact_15[slice19],\n",
        "       simple_regret_exact_16[slice19],\n",
        "       simple_regret_exact_17[slice19],\n",
        "       simple_regret_exact_18[slice19],\n",
        "       simple_regret_exact_19[slice19],\n",
        "       simple_regret_exact_20[slice19]]\n",
        "\n",
        "approx19_results = pd.DataFrame(approx19).sort_values(by=[0], ascending=False)\n",
        "exact19_results = pd.DataFrame(exact19).sort_values(by=[0], ascending=False)\n",
        "\n",
        "### Best simple regret minimization IQR - approx:\n",
        "lower_approx19 = np.asarray(approx19_results[4:5][0])[0]\n",
        "median_approx19 = np.asarray(approx19_results[9:10][0])[0]\n",
        "upper_approx19 = np.asarray(approx19_results[14:15][0])[0]\n",
        "\n",
        "lower_exact19 = np.asarray(exact19_results[4:5][0])[0]\n",
        "median_exact19 = np.asarray(exact19_results[9:10][0])[0]\n",
        "upper_exact19 = np.asarray(exact19_results[14:15][0])[0]"
      ],
      "execution_count": 93,
      "outputs": []
    },
    {
      "cell_type": "code",
      "metadata": {
        "id": "h4vtWahcQxf-"
      },
      "source": [
        "# Iteration10 :\n",
        "\n",
        "slice10 = 9\n",
        "\n",
        "approx10 = [simple_regret_approx_1[slice10],\n",
        "       simple_regret_approx_2[slice10],\n",
        "       simple_regret_approx_3[slice10],\n",
        "       simple_regret_approx_4[slice10],\n",
        "       simple_regret_approx_5[slice10],\n",
        "       simple_regret_approx_6[slice10],\n",
        "       simple_regret_approx_7[slice10],\n",
        "       simple_regret_approx_8[slice10],\n",
        "       simple_regret_approx_9[slice10],\n",
        "       simple_regret_approx_10[slice10],\n",
        "       simple_regret_approx_11[slice10],\n",
        "       simple_regret_approx_12[slice10],\n",
        "       simple_regret_approx_13[slice10],\n",
        "       simple_regret_approx_14[slice10],\n",
        "       simple_regret_approx_15[slice10],\n",
        "       simple_regret_approx_16[slice10],\n",
        "       simple_regret_approx_17[slice10],\n",
        "       simple_regret_approx_18[slice10],\n",
        "       simple_regret_approx_19[slice10],\n",
        "       simple_regret_approx_20[slice10]]\n",
        "\n",
        "exact10 = [simple_regret_exact_1[slice10],\n",
        "       simple_regret_exact_2[slice10],\n",
        "       simple_regret_exact_3[slice10],\n",
        "       simple_regret_exact_4[slice10],\n",
        "       simple_regret_exact_5[slice10],\n",
        "       simple_regret_exact_6[slice10],\n",
        "       simple_regret_exact_7[slice10],\n",
        "       simple_regret_exact_8[slice10],\n",
        "       simple_regret_exact_9[slice10],\n",
        "       simple_regret_exact_10[slice10],\n",
        "       simple_regret_exact_11[slice10],\n",
        "       simple_regret_exact_12[slice10],\n",
        "       simple_regret_exact_13[slice10],\n",
        "       simple_regret_exact_14[slice10],\n",
        "       simple_regret_exact_15[slice10],\n",
        "       simple_regret_exact_16[slice10],\n",
        "       simple_regret_exact_17[slice10],\n",
        "       simple_regret_exact_18[slice10],\n",
        "       simple_regret_exact_19[slice10],\n",
        "       simple_regret_exact_20[slice10]]\n",
        "\n",
        "approx10_results = pd.DataFrame(approx10).sort_values(by=[0], ascending=False)\n",
        "exact10_results = pd.DataFrame(exact10).sort_values(by=[0], ascending=False)\n",
        "\n",
        "### Best simple regret minimization IQR - approx:\n",
        "lower_approx10 = np.asarray(approx10_results[4:5][0])[0]\n",
        "median_approx10 = np.asarray(approx10_results[9:10][0])[0]\n",
        "upper_approx10 = np.asarray(approx10_results[14:15][0])[0]\n",
        "\n",
        "lower_exact10 = np.asarray(exact10_results[4:5][0])[0]\n",
        "median_exact10 = np.asarray(exact10_results[9:10][0])[0]\n",
        "upper_exact10 = np.asarray(exact10_results[14:15][0])[0]"
      ],
      "execution_count": 94,
      "outputs": []
    },
    {
      "cell_type": "code",
      "metadata": {
        "id": "Rsf240pWQxf-"
      },
      "source": [
        "# Iteration20 :\n",
        "\n",
        "slice20 = 19\n",
        "\n",
        "approx20 = [simple_regret_approx_1[slice20],\n",
        "       simple_regret_approx_2[slice20],\n",
        "       simple_regret_approx_3[slice20],\n",
        "       simple_regret_approx_4[slice20],\n",
        "       simple_regret_approx_5[slice20],\n",
        "       simple_regret_approx_6[slice20],\n",
        "       simple_regret_approx_7[slice20],\n",
        "       simple_regret_approx_8[slice20],\n",
        "       simple_regret_approx_9[slice20],\n",
        "       simple_regret_approx_10[slice20],\n",
        "       simple_regret_approx_11[slice20],\n",
        "       simple_regret_approx_12[slice20],\n",
        "       simple_regret_approx_13[slice20],\n",
        "       simple_regret_approx_14[slice20],\n",
        "       simple_regret_approx_15[slice20],\n",
        "       simple_regret_approx_16[slice20],\n",
        "       simple_regret_approx_17[slice20],\n",
        "       simple_regret_approx_18[slice20],\n",
        "       simple_regret_approx_19[slice20],\n",
        "       simple_regret_approx_20[slice20]]\n",
        "\n",
        "exact20 = [simple_regret_exact_1[slice20],\n",
        "       simple_regret_exact_2[slice20],\n",
        "       simple_regret_exact_3[slice20],\n",
        "       simple_regret_exact_4[slice20],\n",
        "       simple_regret_exact_5[slice20],\n",
        "       simple_regret_exact_6[slice20],\n",
        "       simple_regret_exact_7[slice20],\n",
        "       simple_regret_exact_8[slice20],\n",
        "       simple_regret_exact_9[slice20],\n",
        "       simple_regret_exact_10[slice20],\n",
        "       simple_regret_exact_11[slice20],\n",
        "       simple_regret_exact_12[slice20],\n",
        "       simple_regret_exact_13[slice20],\n",
        "       simple_regret_exact_14[slice20],\n",
        "       simple_regret_exact_15[slice20],\n",
        "       simple_regret_exact_16[slice20],\n",
        "       simple_regret_exact_17[slice20],\n",
        "       simple_regret_exact_18[slice20],\n",
        "       simple_regret_exact_19[slice20],\n",
        "       simple_regret_exact_20[slice20]]\n",
        "\n",
        "approx20_results = pd.DataFrame(approx20).sort_values(by=[0], ascending=False)\n",
        "exact20_results = pd.DataFrame(exact20).sort_values(by=[0], ascending=False)\n",
        "\n",
        "### Best simple regret minimization IQR - approx:\n",
        "lower_approx20 = np.asarray(approx20_results[4:5][0])[0]\n",
        "median_approx20 = np.asarray(approx20_results[9:10][0])[0]\n",
        "upper_approx20 = np.asarray(approx20_results[14:15][0])[0]\n",
        "\n",
        "lower_exact20 = np.asarray(exact20_results[4:5][0])[0]\n",
        "median_exact20 = np.asarray(exact20_results[9:10][0])[0]\n",
        "upper_exact20 = np.asarray(exact20_results[14:15][0])[0]"
      ],
      "execution_count": 95,
      "outputs": []
    },
    {
      "cell_type": "code",
      "metadata": {
        "id": "gn36RejbQxf_"
      },
      "source": [
        "### Summarize arrays: 'Loser'\n",
        "\n",
        "lower_approx = [lower_approx1,\n",
        "            lower_approx2,\n",
        "            lower_approx3,\n",
        "            lower_approx4,\n",
        "            lower_approx5,\n",
        "            lower_approx6,\n",
        "            lower_approx7,\n",
        "            lower_approx8,\n",
        "            lower_approx9,\n",
        "            lower_approx10,\n",
        "            lower_approx11,\n",
        "            lower_approx12,\n",
        "            lower_approx13,\n",
        "            lower_approx14,\n",
        "            lower_approx15,\n",
        "            lower_approx16,\n",
        "            lower_approx17,\n",
        "            lower_approx18,\n",
        "            lower_approx19,\n",
        "            lower_approx20,\n",
        "            lower_approx21]\n",
        "\n",
        "median_approx = [median_approx1,\n",
        "            median_approx2,\n",
        "            median_approx3,\n",
        "            median_approx4,\n",
        "            median_approx5,\n",
        "            median_approx6,\n",
        "            median_approx7,\n",
        "            median_approx8,\n",
        "            median_approx9,\n",
        "            median_approx10,\n",
        "            median_approx11,\n",
        "            median_approx12,\n",
        "            median_approx13,\n",
        "            median_approx14,\n",
        "            median_approx15,\n",
        "            median_approx16,\n",
        "            median_approx17,\n",
        "            median_approx18,\n",
        "            median_approx19,\n",
        "            median_approx20,\n",
        "            median_approx21]\n",
        "\n",
        "upper_approx = [upper_approx1,\n",
        "            upper_approx2,\n",
        "            upper_approx3,\n",
        "            upper_approx4,\n",
        "            upper_approx5,\n",
        "            upper_approx6,\n",
        "            upper_approx7,\n",
        "            upper_approx8,\n",
        "            upper_approx9,\n",
        "            upper_approx10,\n",
        "            upper_approx11,\n",
        "            upper_approx12,\n",
        "            upper_approx13,\n",
        "            upper_approx14,\n",
        "            upper_approx15,\n",
        "            upper_approx16,\n",
        "            upper_approx17,\n",
        "            upper_approx18,\n",
        "            upper_approx19,\n",
        "            upper_approx20,\n",
        "            upper_approx21]"
      ],
      "execution_count": 96,
      "outputs": []
    },
    {
      "cell_type": "code",
      "metadata": {
        "id": "wxtGTOYfQxf_"
      },
      "source": [
        "### Summarize arrays: 'exact'\n",
        "\n",
        "lower_exact = [lower_exact1,\n",
        "            lower_exact2,\n",
        "            lower_exact3,\n",
        "            lower_exact4,\n",
        "            lower_exact5,\n",
        "            lower_exact6,\n",
        "            lower_exact7,\n",
        "            lower_exact8,\n",
        "            lower_exact9,\n",
        "            lower_exact10,\n",
        "            lower_exact11,\n",
        "            lower_exact12,\n",
        "            lower_exact13,\n",
        "            lower_exact14,\n",
        "            lower_exact15,\n",
        "            lower_exact16,\n",
        "            lower_exact17,\n",
        "            lower_exact18,\n",
        "            lower_exact19,\n",
        "            lower_exact20,\n",
        "            lower_exact21]\n",
        "\n",
        "median_exact = [median_exact1,\n",
        "            median_exact2,\n",
        "            median_exact3,\n",
        "            median_exact4,\n",
        "            median_exact5,\n",
        "            median_exact6,\n",
        "            median_exact7,\n",
        "            median_exact8,\n",
        "            median_exact9,\n",
        "            median_exact10,\n",
        "            median_exact11,\n",
        "            median_exact12,\n",
        "            median_exact13,\n",
        "            median_exact14,\n",
        "            median_exact15,\n",
        "            median_exact16,\n",
        "            median_exact17,\n",
        "            median_exact18,\n",
        "            median_exact19,\n",
        "            median_exact20,\n",
        "            median_exact21]\n",
        "\n",
        "upper_exact = [upper_exact1,\n",
        "            upper_exact2,\n",
        "            upper_exact3,\n",
        "            upper_exact4,\n",
        "            upper_exact5,\n",
        "            upper_exact6,\n",
        "            upper_exact7,\n",
        "            upper_exact8,\n",
        "            upper_exact9,\n",
        "            upper_exact10,\n",
        "            upper_exact11,\n",
        "            upper_exact12,\n",
        "            upper_exact13,\n",
        "            upper_exact14,\n",
        "            upper_exact15,\n",
        "            upper_exact16,\n",
        "            upper_exact17,\n",
        "            upper_exact18,\n",
        "            upper_exact19,\n",
        "            upper_exact20,\n",
        "            upper_exact21]"
      ],
      "execution_count": 97,
      "outputs": []
    },
    {
      "cell_type": "code",
      "metadata": {
        "id": "2MONq-BXQxgA",
        "colab": {
          "base_uri": "https://localhost:8080/",
          "height": 299
        },
        "outputId": "45f4b7ea-3dd8-47b4-a197-3ee4955c5cec"
      },
      "source": [
        "### Visualise!\n",
        "\n",
        "title = func\n",
        "plt.figure()\n",
        "\n",
        "plt.plot(median_approx, color = 'Purple')\n",
        "plt.plot(median_exact, color = 'Orange')\n",
        "\n",
        "xstar = np.arange(0, iters+1, step=1)\n",
        "plt.fill_between(xstar, lower_approx, upper_approx, facecolor = 'Purple', alpha=0.4, label='GP CBM Optimization: Approx GP CBM gradients')\n",
        "plt.fill_between(xstar, lower_exact, upper_exact, facecolor = 'Orange', alpha=0.4, label='GP CBM Optimization: Exact GP dCBM gradients')\n",
        "\n",
        "plt.title(title, weight = 'bold')\n",
        "plt.xlabel('(Post-initialization) iteration $\\it{k}$', weight = 'bold')\n",
        "plt.ylabel('log(Regret)', weight = 'bold') \n",
        "plt.legend(loc=1) # add plot legend\n",
        "\n",
        "### Make the x-ticks integers, not floats:\n",
        "count = len(xstar)\n",
        "plt.xticks(np.arange(count), np.arange(0, count))\n",
        "plt.show() #visualize!"
      ],
      "execution_count": 98,
      "outputs": [
        {
          "output_type": "display_data",
          "data": {
            "text/plain": [
              "<Figure size 432x288 with 1 Axes>"
            ],
            "image/png": "[encoded data removed]"
          },
          "metadata": {
            "needs_background": "light"
          }
        }
      ]
    },
    {
      "cell_type": "code",
      "metadata": {
        "id": "l5dkR2Id2oiu",
        "colab": {
          "base_uri": "https://localhost:8080/"
        },
        "outputId": "b2e8b02f-6285-4f50-84aa-5b4d2beec6c5"
      },
      "source": [
        "time_approx, time_exact\n"
      ],
      "execution_count": 99,
      "outputs": [
        {
          "output_type": "execute_result",
          "data": {
            "text/plain": [
              "(109.26935911178589, 472.86798906326294)"
            ]
          },
          "metadata": {},
          "execution_count": 99
        }
      ]
    },
    {
      "cell_type": "code",
      "source": [
        "exact21_results, exact21_results[19:20].index[0]\n"
      ],
      "metadata": {
        "colab": {
          "base_uri": "https://localhost:8080/"
        },
        "id": "0i4IbAcyB7-l",
        "outputId": "0212c9c2-9024-4f17-8cc9-b088f9645c74"
      },
      "execution_count": 100,
      "outputs": [
        {
          "output_type": "execute_result",
          "data": {
            "text/plain": [
              "(           0\n",
              " 9   1.738481\n",
              " 0   1.296104\n",
              " 15  1.181285\n",
              " 7   1.176305\n",
              " 2   1.164129\n",
              " 17  0.869053\n",
              " 14  0.801417\n",
              " 6   0.730636\n",
              " 8   0.489578\n",
              " 3   0.388932\n",
              " 16  0.274897\n",
              " 19  0.243073\n",
              " 1  -0.379779\n",
              " 13 -0.494678\n",
              " 12 -0.700240\n",
              " 5  -0.783883\n",
              " 4  -0.861192\n",
              " 10 -1.312426\n",
              " 18 -2.596493\n",
              " 11 -2.857006, 11)"
            ]
          },
          "metadata": {},
          "execution_count": 100
        }
      ]
    },
    {
      "cell_type": "code",
      "source": [
        "str_exact = str(exact21_results[19:20].index[0]+1)\n",
        "str_exact\n"
      ],
      "metadata": {
        "colab": {
          "base_uri": "https://localhost:8080/",
          "height": 35
        },
        "id": "12lIvjCoBr7y",
        "outputId": "b4b0f0bf-6196-45d0-ed0b-043f11dd498d"
      },
      "execution_count": 101,
      "outputs": [
        {
          "output_type": "execute_result",
          "data": {
            "text/plain": [
              "'12'"
            ],
            "application/vnd.google.colaboratory.intrinsic+json": {
              "type": "string"
            }
          },
          "metadata": {},
          "execution_count": 101
        }
      ]
    },
    {
      "cell_type": "code",
      "source": [
        "eval_exactMinIQR_vsCorrApproxExperiment = eval('approx_' + str_exact)\n",
        "eval_exactMinIQR_vsCorrApproxExperiment_minAcqFunc = eval_exactMinIQR_vsCorrApproxExperiment.history[eval_exactMinIQR_vsCorrApproxExperiment.history.index(eval_exactMinIQR_vsCorrApproxExperiment.tau)-1]\n",
        "eval_exactMinIQR_vsCorrApproxExperiment_simpleRegret = np.log(-eval_exactMinIQR_vsCorrApproxExperiment.tau + y_global_orig)\n",
        "\n",
        "eval_exactMinIQR_vsCorrApproxExperiment.tau, eval_exactMinIQR_vsCorrApproxExperiment_minAcqFunc, eval_exactMinIQR_vsCorrApproxExperiment_simpleRegret\n"
      ],
      "metadata": {
        "colab": {
          "base_uri": "https://localhost:8080/"
        },
        "id": "O3sQFv0hpuNI",
        "outputId": "64a64b3c-6939-4272-bb18-a78eed2f7521"
      },
      "execution_count": 102,
      "outputs": [
        {
          "output_type": "execute_result",
          "data": {
            "text/plain": [
              "(-0.5499315281120278, -0.5499315281120278, -1.8835818529313322)"
            ]
          },
          "metadata": {},
          "execution_count": 102
        }
      ]
    },
    {
      "cell_type": "code",
      "source": [
        "### Final iteration: best \"approx\" experiment results (as above)\n",
        "\n",
        "np.random.seed(int(str_exact))\n",
        "eval_exactMinIQR_vsCorrApproxExperiment.run(init_evals=n_init, max_iter=iters)\n"
      ],
      "metadata": {
        "id": "DKvmmlRoTnvC",
        "colab": {
          "base_uri": "https://localhost:8080/"
        },
        "outputId": "7ab74572-86f8-4c98-8594-7b8570884f37"
      },
      "execution_count": 103,
      "outputs": [
        {
          "output_type": "stream",
          "name": "stdout",
          "text": [
            "Evaluation \t Proposed point \t  Current eval. \t  Best eval. \t         Max AcqFunc.\n",
            "init\t [-2.68755736 11.10074545]\t -1.3827702760021356\t -0.5499315281120278\t    \n",
            "init\t [-1.05027477  8.0060909 ]\t -14.81231853080056\t -0.5499315281120278\t    \n",
            "init\t [-4.78137556 13.78120512]\t -18.401131000214548\t -0.5499315281120278\t    \n",
            "init\t [8.51072281 0.50132141]\t -5.855172364344769\t -0.5499315281120278\t    \n",
            "init\t [9.35424004 2.05813982]\t -0.5499315281120278\t -0.5499315281120278\t    \n",
            "1  \t [10.          4.60208124]\t -4.500340253848261\t -0.5499315281120278\t -2.8478240139278994\n",
            "2  \t [ 8.50155249 13.79797306]\t -148.00655208378976\t -0.5499315281120278\t -2.8473770512168253\n",
            "3  \t [-4.8799499   0.15657603]\t -290.0404981832191\t -0.5499315281120278\t -2.847377051216825\n",
            "4  \t [4.56965095 8.82974475]\t -63.4677424125194\t -0.5499315281120278\t -2.8473761780441262\n",
            "5  \t [2.38981509 3.30967373]\t -3.126798202388212\t -0.5499315281120278\t -2.847376014161961\n",
            "6  \t [ 1.56871034 14.06557454]\t -114.9667494156698\t -0.5499315281120278\t -2.8473756771737153\n",
            "7  \t [-5.         5.5537476]\t -148.064691027743\t -0.5499315281120278\t -2.847158988033869\n",
            "8  \t [10.          8.92973539]\t -37.06984740816321\t -0.5499315281120278\t -2.8469996558352224\n",
            "9  \t [0.25004611 0.        ]\t -50.77690122577614\t -0.5499315281120278\t -2.8464380879222477\n",
            "10 \t [6.09820667 4.21795574]\t -29.16910514174086\t -0.5499315281120278\t -2.844913270323862\n",
            "11 \t [-0.89659503  4.04199976]\t -28.166243150379785\t -0.5499315281120278\t -2.8302128317235726\n",
            "12 \t [4.67486824 0.        ]\t -11.552398727393253\t -0.5499315281120278\t -2.843107659149779\n",
            "13 \t [-5.          9.79953359]\t -67.30373358311977\t -0.5499315281120278\t -2.81444409029657\n",
            "14 \t [2.01406383 6.16552695]\t -13.98700142447343\t -0.5499315281120278\t -2.754027949840975\n",
            "15 \t [ 1.10436544 10.30078827]\t -49.13851522469138\t -0.5499315281120278\t -2.7245109652107597\n",
            "16 \t [ 4.95173362 12.44876758]\t -136.86960128401927\t -0.5499315281120278\t -2.6981144303601954\n",
            "17 \t [-1.98022064 15.        ]\t -34.71254633198264\t -0.5499315281120278\t -2.692418283305555\n",
            "18 \t [-1.80675174 11.8297205 ]\t -14.168760274542013\t -0.5499315281120278\t -2.3952703693989235\n",
            "19 \t [7.60560949 6.89843076]\t -42.94597677155483\t -0.5499315281120278\t -2.526392554153864\n",
            "20 \t [10.          2.37272062]\t -2.3403380640637144\t -0.5499315281120278\t -2.356193028774406\n"
          ]
        }
      ]
    },
    {
      "cell_type": "code",
      "source": [
        "eval_exactMinIQR_vsCorrApproxExperiment.x_best, np.round(eval_exactMinIQR_vsCorrApproxExperiment.f_best, 2), eval_exactMinIQR_vsCorrApproxExperiment.best, eval_exactMinIQR_vsCorrApproxExperiment.x_best[np.argmin(eval_exactMinIQR_vsCorrApproxExperiment.f_best)] #### i.e. minAcqFunc returned\n"
      ],
      "metadata": {
        "colab": {
          "base_uri": "https://localhost:8080/"
        },
        "id": "tDHS__-Q_WLT",
        "outputId": "d8345776-d2c3-4010-a18f-2612cc496727"
      },
      "execution_count": 104,
      "outputs": [
        {
          "output_type": "execute_result",
          "data": {
            "text/plain": [
              "(array([[ 3.66003292,  2.23769766],\n",
              "        [ 6.71172733,  1.45481884],\n",
              "        [ 3.66005056,  2.23770706],\n",
              "        [10.        ,  2.37272062],\n",
              "        [-0.69735016, 12.55060291],\n",
              "        [-5.        , 15.        ],\n",
              "        [10.        ,  2.37272268],\n",
              "        [ 2.87894776,  0.        ],\n",
              "        [ 4.11310475,  5.71257444],\n",
              "        [ 3.66004226,  2.23769904],\n",
              "        [10.        ,  2.37272107],\n",
              "        [ 4.11309984,  5.7125677 ],\n",
              "        [ 3.66004998,  2.23770723],\n",
              "        [-2.01579184,  1.87660843],\n",
              "        [-3.50387736, 12.03347361],\n",
              "        [ 1.06259586,  7.64869291],\n",
              "        [ 2.87894673,  0.        ],\n",
              "        [ 7.55579028, 10.31514622],\n",
              "        [10.        , 11.29869828],\n",
              "        [10.        ,  0.        ]]),\n",
              " array([-2.06, -1.96, -2.06, -2.36,  2.37,  1.63, -2.36, -0.88, -1.23,\n",
              "        -2.06, -2.36, -1.23, -2.06, -1.24, -0.03,  0.14, -0.88, -1.96,\n",
              "        -0.67, -1.97]),\n",
              " array([10.        ,  2.37272062]),\n",
              " array([10.        ,  2.37272062]))"
            ]
          },
          "metadata": {},
          "execution_count": 104
        }
      ]
    },
    {
      "cell_type": "code",
      "source": [
        "eval_exactMinIQR = eval('exact_' + str_exact)\n",
        "eval_exactMinIQR_minAcqFunc = eval_exactMinIQR.history[eval_exactMinIQR.history.index(eval_exactMinIQR.tau)-1]\n",
        "eval_exactMinIQR_simpleRegret  = np.log(-eval_exactMinIQR.tau + y_global_orig)\n",
        "\n",
        "eval_exactMinIQR.tau, eval_exactMinIQR_minAcqFunc, eval_exactMinIQR_simpleRegret\n"
      ],
      "metadata": {
        "colab": {
          "base_uri": "https://localhost:8080/"
        },
        "id": "M4bxQTTWCXFZ",
        "outputId": "ad67e49e-f2d1-4631-9812-76223fe60264"
      },
      "execution_count": 105,
      "outputs": [
        {
          "output_type": "execute_result",
          "data": {
            "text/plain": [
              "(-0.45532746368099275, -2.1960600225843354, -2.8570062818340687)"
            ]
          },
          "metadata": {},
          "execution_count": 105
        }
      ]
    },
    {
      "cell_type": "code",
      "source": [
        "### Final iteration: best \"exact\" experiment results (as above)\n",
        "\n",
        "np.random.seed(int(str_exact))\n",
        "eval_exactMinIQR.run(init_evals=n_init, max_iter=iters)\n"
      ],
      "metadata": {
        "colab": {
          "base_uri": "https://localhost:8080/"
        },
        "id": "WeKb1o143nLW",
        "outputId": "856df500-782a-4b0f-f44b-b6724ce38cac"
      },
      "execution_count": 106,
      "outputs": [
        {
          "output_type": "stream",
          "name": "stdout",
          "text": [
            "Evaluation \t Proposed point \t  Current eval. \t  Best eval. \t         Max AcqFunc.\n",
            "init\t [-2.68755736 11.10074545]\t -1.3827702760021356\t -0.5499315281120278\t    \n",
            "init\t [-1.05027477  8.0060909 ]\t -14.81231853080056\t -0.5499315281120278\t    \n",
            "init\t [-4.78137556 13.78120512]\t -18.401131000214548\t -0.5499315281120278\t    \n",
            "init\t [8.51072281 0.50132141]\t -5.855172364344769\t -0.5499315281120278\t    \n",
            "init\t [9.35424004 2.05813982]\t -0.5499315281120278\t -0.5499315281120278\t    \n",
            "1  \t [10.          4.43193296]\t -3.9851140862090073\t -0.5499315281120278\t -2.8477076023925645\n",
            "2  \t [10. 15.]\t -145.87219087939556\t -0.5499315281120278\t -2.8473767480924885\n",
            "3  \t [-5.  0.]\t -308.12909601160663\t -0.5499315281120278\t -2.8473767480924885\n",
            "4  \t [ 2.96504557 14.18967184]\t -139.14981054237984\t -0.5499315281120278\t -2.847376746485342\n",
            "5  \t [2.96670497 0.        ]\t -6.378219500199166\t -0.5499315281120278\t -2.847376199983023\n",
            "6  \t [4.5654606  8.05555546]\t -52.53872862319815\t -0.5499315281120278\t -2.8473755670734855\n",
            "7  \t [9.48677249 9.67407491]\t -51.48571871273853\t -0.5499315281120278\t -2.8472915425900878\n",
            "8  \t [-5.          5.40217699]\t -151.61429197539675\t -0.5499315281120278\t -2.8472036089580217\n",
            "9  \t [0.23167413 3.34930165]\t -24.584691153337857\t -0.5499315281120278\t -2.8470243471516166\n",
            "10 \t [5.55709099 3.45487228]\t -22.51573441497485\t -0.5499315281120278\t -2.8461568501365035\n",
            "11 \t [-1.17329938 14.80771131]\t -59.44860270767352\t -0.5499315281120278\t -2.828081658832424\n",
            "12 \t [-0.64810504  0.        ]\t -67.86299254771905\t -0.5499315281120278\t -2.8002555649084724\n",
            "13 \t [-5.          9.64595082]\t -69.59660697154334\t -0.5499315281120278\t -2.8194563355215996\n",
            "14 \t [ 1.04074638 10.6561336 ]\t -52.955670636636306\t -0.5499315281120278\t -2.798834355825098\n",
            "15 \t [5.63914593e+00 1.66179179e-04]\t -18.962089806655246\t -0.5499315281120278\t -2.687442061639513\n",
            "16 \t [ 6.46383861 11.62395474]\t -129.9898039726051\t -0.5499315281120278\t -2.7938908781652\n",
            "17 \t [1.67573199 6.20343946]\t -15.282751343875422\t -0.5499315281120278\t -2.664717853071858\n",
            "18 \t [8.26112063 5.74767309]\t -22.83852297479238\t -0.5499315281120278\t -2.6313636016559605\n",
            "\u001b[1m\u001b[92m19\u001b[0m\t \u001b[1m\u001b[92m[3.05906293 2.18289495]\u001b[0m\t \u001b[1m\u001b[92m-0.45532746368099275\u001b[0m\t \u001b[1m\u001b[92m-0.45532746368099275\u001b[0m\t \u001b[1m\u001b[92m-2.1960600225843354\u001b[0m\n",
            "20 \t [8.92174705 2.70595356]\t -1.9749531236201001\t -0.45532746368099275\t -2.1817190000108604\n"
          ]
        }
      ]
    },
    {
      "cell_type": "code",
      "source": [
        "eval_exactMinIQR.x_best, np.round(eval_exactMinIQR.f_best, 2), eval_exactMinIQR.best, eval_exactMinIQR.x_best[np.argmin(eval_exactMinIQR.f_best)] #### i.e. minAcqFunc returned\n"
      ],
      "metadata": {
        "colab": {
          "base_uri": "https://localhost:8080/"
        },
        "id": "c0IIOZ-bID_G",
        "outputId": "e8fb3ebc-3fc2-4d96-d89d-7f7b4ee369e3"
      },
      "execution_count": 107,
      "outputs": [
        {
          "output_type": "execute_result",
          "data": {
            "text/plain": [
              "(array([[ 2.91712001,  2.84820312],\n",
              "        [ 8.92174705,  2.70595356],\n",
              "        [ 4.39413082,  1.04025019],\n",
              "        [ 9.49707463,  7.36685158],\n",
              "        [ 0.50449429, 12.66079896],\n",
              "        [ 0.83095519, 14.97704374],\n",
              "        [ 8.00931705,  3.13068165],\n",
              "        [ 1.45512491, 12.30610954],\n",
              "        [ 2.62080609,  4.67462995],\n",
              "        [ 2.8139307 ,  4.48521186],\n",
              "        [ 7.58056318,  3.70529879],\n",
              "        [ 2.57270825,  4.69223832],\n",
              "        [ 2.91566777,  2.61607524],\n",
              "        [ 2.6255014 ,  6.89892054],\n",
              "        [-1.53729719,  9.71736692],\n",
              "        [ 1.86837164,  8.06856409],\n",
              "        [ 0.6837595 ,  8.23903538],\n",
              "        [ 6.95207603,  8.65215785],\n",
              "        [ 2.05318069, 12.05644048],\n",
              "        [ 9.93719649,  7.31143326]]),\n",
              " array([-2.07, -2.18,  0.65,  0.39,  2.  ,  6.33, -1.79,  7.21, -0.96,\n",
              "        -1.55, -0.25, -0.83, -2.06,  3.07, -0.57, -0.08,  0.69, -0.19,\n",
              "         7.84, -0.58]),\n",
              " array([8.92174705, 2.70595356]),\n",
              " array([8.92174705, 2.70595356]))"
            ]
          },
          "metadata": {},
          "execution_count": 107
        }
      ]
    },
    {
      "cell_type": "code",
      "source": [
        "eval_exactMinIQR.tau > eval_exactMinIQR_vsCorrApproxExperiment.tau # Exact gradients' model: y-value is greater"
      ],
      "metadata": {
        "colab": {
          "base_uri": "https://localhost:8080/"
        },
        "id": "RRSEL9F33mw_",
        "outputId": "e1f3ffbf-e9e3-4157-90f8-c89f1ced48f1"
      },
      "execution_count": 108,
      "outputs": [
        {
          "output_type": "execute_result",
          "data": {
            "text/plain": [
              "True"
            ]
          },
          "metadata": {},
          "execution_count": 108
        }
      ]
    },
    {
      "cell_type": "code",
      "source": [
        "eval_exactMinIQR_minAcqFunc > eval_exactMinIQR_vsCorrApproxExperiment_minAcqFunc # Exact gradients' model: best AcqFunc is greater\n"
      ],
      "metadata": {
        "colab": {
          "base_uri": "https://localhost:8080/"
        },
        "id": "srZDKNlWGaUp",
        "outputId": "03d74ec4-9bef-4e88-bd8e-a14a62be38d9"
      },
      "execution_count": 109,
      "outputs": [
        {
          "output_type": "execute_result",
          "data": {
            "text/plain": [
              "False"
            ]
          },
          "metadata": {},
          "execution_count": 109
        }
      ]
    },
    {
      "cell_type": "code",
      "source": [
        "eval_exactMinIQR_simpleRegret < eval_exactMinIQR_vsCorrApproxExperiment_simpleRegret # Exact gradients' model: simple regret's natural log is lower\n"
      ],
      "metadata": {
        "colab": {
          "base_uri": "https://localhost:8080/"
        },
        "id": "TYkP-rneGab3",
        "outputId": "f9d2320d-1ce7-4a51-ffd3-2d9705953f6c"
      },
      "execution_count": 110,
      "outputs": [
        {
          "output_type": "execute_result",
          "data": {
            "text/plain": [
              "True"
            ]
          },
          "metadata": {},
          "execution_count": 110
        }
      ]
    },
    {
      "cell_type": "code",
      "source": [
        "eval_exactMinIQR_minAcqFunc, eval_exactMinIQR_vsCorrApproxExperiment_minAcqFunc, eval_exactMinIQR_minAcqFunc/eval_exactMinIQR_vsCorrApproxExperiment_minAcqFunc\n"
      ],
      "metadata": {
        "id": "10rcQ55YGajh",
        "colab": {
          "base_uri": "https://localhost:8080/"
        },
        "outputId": "50e4c6d8-12f5-49f1-dd4c-88667535726d"
      },
      "execution_count": 111,
      "outputs": [
        {
          "output_type": "execute_result",
          "data": {
            "text/plain": [
              "(-2.1960600225843354, -0.5499315281120278, 3.9933335521308226)"
            ]
          },
          "metadata": {},
          "execution_count": 111
        }
      ]
    },
    {
      "cell_type": "code",
      "source": [
        "### MinAcqFunc Comparison: Approximate Gradients\n",
        "\n",
        "approx_1minAcqFunc = approx_1.history[:-1][1::2]\n",
        "approx_2minAcqFunc = approx_2.history[:-1][1::2]\n",
        "approx_3minAcqFunc = approx_3.history[:-1][1::2]\n",
        "approx_4minAcqFunc = approx_4.history[:-1][1::2]\n",
        "approx_5minAcqFunc = approx_5.history[:-1][1::2]\n",
        "approx_6minAcqFunc = approx_6.history[:-1][1::2]\n",
        "approx_7minAcqFunc = approx_7.history[:-1][1::2]\n",
        "approx_8minAcqFunc = approx_8.history[:-1][1::2]\n",
        "approx_9minAcqFunc = approx_9.history[:-1][1::2]\n",
        "approx_10minAcqFunc = approx_10.history[:-1][1::2]\n",
        "approx_11minAcqFunc = approx_11.history[:-1][1::2]\n",
        "approx_12minAcqFunc = approx_12.history[:-1][1::2]\n",
        "approx_13minAcqFunc = approx_13.history[:-1][1::2]\n",
        "approx_14minAcqFunc = approx_14.history[:-1][1::2]\n",
        "approx_15minAcqFunc = approx_15.history[:-1][1::2]\n",
        "approx_16minAcqFunc = approx_16.history[:-1][1::2]\n",
        "approx_17minAcqFunc = approx_17.history[:-1][1::2]\n",
        "approx_18minAcqFunc = approx_18.history[:-1][1::2]\n",
        "approx_19minAcqFunc = approx_19.history[:-1][1::2]\n",
        "approx_20minAcqFunc = approx_20.history[:-1][1::2]\n"
      ],
      "metadata": {
        "id": "rN6LmSIqhYDb"
      },
      "execution_count": 112,
      "outputs": []
    },
    {
      "cell_type": "code",
      "source": [
        "### MinAcqFunc Comparison: Exact Gradients\n",
        "\n",
        "exact_1minAcqFunc = exact_1.history[:-1][1::2]\n",
        "exact_2minAcqFunc = exact_2.history[:-1][1::2]\n",
        "exact_3minAcqFunc = exact_3.history[:-1][1::2]\n",
        "exact_4minAcqFunc = exact_4.history[:-1][1::2]\n",
        "exact_5minAcqFunc = exact_5.history[:-1][1::2]\n",
        "exact_6minAcqFunc = exact_6.history[:-1][1::2]\n",
        "exact_7minAcqFunc = exact_7.history[:-1][1::2]\n",
        "exact_8minAcqFunc = exact_8.history[:-1][1::2]\n",
        "exact_9minAcqFunc = exact_9.history[:-1][1::2]\n",
        "exact_10minAcqFunc = exact_10.history[:-1][1::2]\n",
        "exact_11minAcqFunc = exact_11.history[:-1][1::2]\n",
        "exact_12minAcqFunc = exact_12.history[:-1][1::2]\n",
        "exact_13minAcqFunc = exact_13.history[:-1][1::2]\n",
        "exact_14minAcqFunc = exact_14.history[:-1][1::2]\n",
        "exact_15minAcqFunc = exact_15.history[:-1][1::2]\n",
        "exact_16minAcqFunc = exact_16.history[:-1][1::2]\n",
        "exact_17minAcqFunc = exact_17.history[:-1][1::2]\n",
        "exact_18minAcqFunc = exact_18.history[:-1][1::2]\n",
        "exact_19minAcqFunc = exact_19.history[:-1][1::2]\n",
        "exact_20minAcqFunc = exact_20.history[:-1][1::2]\n"
      ],
      "metadata": {
        "id": "8v_Qb1ZPiK1L"
      },
      "execution_count": 113,
      "outputs": []
    },
    {
      "cell_type": "code",
      "source": [
        "### MinAcqFunc Comparison: Experiment 1\n",
        "\n",
        "minAcqFuncApprox1 = np.mean(approx_1minAcqFunc)\n",
        "minAcqFuncExact1 = np.mean(exact_1minAcqFunc)\n",
        "ratio1 = minAcqFuncApprox1/minAcqFuncExact1\n",
        "approx_1.tau, exact_1.tau, minAcqFuncApprox1, minAcqFuncExact1, ratio1\n"
      ],
      "metadata": {
        "colab": {
          "base_uri": "https://localhost:8080/"
        },
        "id": "lH13qO-JJfok",
        "outputId": "193a7c9d-b7ee-47bc-e2c7-f3608d1709cc"
      },
      "execution_count": 114,
      "outputs": [
        {
          "output_type": "execute_result",
          "data": {
            "text/plain": [
              "(-3.9393532964678366,\n",
              " -4.052914831613599,\n",
              " -2.702765441800473,\n",
              " -2.6902326611740883,\n",
              " 1.0046586233255064)"
            ]
          },
          "metadata": {},
          "execution_count": 114
        }
      ]
    },
    {
      "cell_type": "code",
      "source": [
        "### MinAcqFunc Comparison: Experiment 2\n",
        "\n",
        "minAcqFuncApprox2 = np.mean(approx_2minAcqFunc)\n",
        "minAcqFuncExact2 = np.mean(exact_2minAcqFunc)\n",
        "ratio2 = minAcqFuncApprox2/minAcqFuncExact2\n",
        "approx_2.tau, exact_2.tau, minAcqFuncApprox2, minAcqFuncExact2, ratio2\n"
      ],
      "metadata": {
        "colab": {
          "base_uri": "https://localhost:8080/"
        },
        "id": "QWeVwVP_HPQb",
        "outputId": "f971d838-1e60-43bf-b665-95047bc3c885"
      },
      "execution_count": 115,
      "outputs": [
        {
          "output_type": "execute_result",
          "data": {
            "text/plain": [
              "(-1.3984593420568778,\n",
              " -1.0818997200294582,\n",
              " -2.740333611541066,\n",
              " -2.717792819234925,\n",
              " 1.008293786099739)"
            ]
          },
          "metadata": {},
          "execution_count": 115
        }
      ]
    },
    {
      "cell_type": "code",
      "source": [
        "### MinAcqFunc Comparison: Experiment 3\n",
        "\n",
        "minAcqFuncApprox3 = np.mean(approx_3minAcqFunc)\n",
        "minAcqFuncExact3 = np.mean(exact_3minAcqFunc)\n",
        "ratio3 = minAcqFuncApprox3/minAcqFuncExact3\n",
        "approx_3.tau, exact_3.tau, minAcqFuncApprox3, minAcqFuncExact3, ratio3\n"
      ],
      "metadata": {
        "colab": {
          "base_uri": "https://localhost:8080/"
        },
        "id": "jgGLMx0RHPUA",
        "outputId": "6ff293a3-b022-44ce-c234-b80529a9ffc4"
      },
      "execution_count": 116,
      "outputs": [
        {
          "output_type": "execute_result",
          "data": {
            "text/plain": [
              "(-2.0806266220955276,\n",
              " -3.6010193697779265,\n",
              " -2.7290388728847574,\n",
              " -2.6227556522681765,\n",
              " 1.0405234931148337)"
            ]
          },
          "metadata": {},
          "execution_count": 116
        }
      ]
    },
    {
      "cell_type": "code",
      "source": [
        "### MinAcqFunc Comparison: Experiment 4\n",
        "\n",
        "minAcqFuncApprox4 = np.mean(approx_4minAcqFunc)\n",
        "minAcqFuncExact4 = np.mean(exact_4minAcqFunc)\n",
        "ratio4 = minAcqFuncApprox4/minAcqFuncExact4\n",
        "approx_4.tau, exact_4.tau, minAcqFuncApprox4, minAcqFuncExact4, ratio4\n"
      ],
      "metadata": {
        "colab": {
          "base_uri": "https://localhost:8080/"
        },
        "id": "ml1c1t4SHPXV",
        "outputId": "72855d61-f12a-4dc0-b7dc-af309da176b5"
      },
      "execution_count": 117,
      "outputs": [
        {
          "output_type": "execute_result",
          "data": {
            "text/plain": [
              "(-2.880444587974087,\n",
              " -1.8732910330740964,\n",
              " -2.7263467270278032,\n",
              " -2.6542057821232676,\n",
              " 1.0271798612565848)"
            ]
          },
          "metadata": {},
          "execution_count": 117
        }
      ]
    },
    {
      "cell_type": "code",
      "source": [
        "### MinAcqFunc Comparison: Experiment 5\n",
        "\n",
        "minAcqFuncApprox5 = np.mean(approx_5minAcqFunc)\n",
        "minAcqFuncExact5 = np.mean(exact_5minAcqFunc)\n",
        "ratio5 = minAcqFuncApprox5/minAcqFuncExact5\n",
        "approx_5.tau, exact_5.tau, minAcqFuncApprox5, minAcqFuncExact5, ratio5\n"
      ],
      "metadata": {
        "colab": {
          "base_uri": "https://localhost:8080/"
        },
        "id": "MLbsgyMiHPaf",
        "outputId": "2df5a5ee-d659-491f-d3bf-1592d799723c"
      },
      "execution_count": 118,
      "outputs": [
        {
          "output_type": "execute_result",
          "data": {
            "text/plain": [
              "(-3.7230427422933214,\n",
              " -0.8205451233143162,\n",
              " -2.7769486263205243,\n",
              " -2.742120684984589,\n",
              " 1.0127010971933685)"
            ]
          },
          "metadata": {},
          "execution_count": 118
        }
      ]
    },
    {
      "cell_type": "code",
      "source": [
        "### MinAcqFunc Comparison: Experiment 6\n",
        "\n",
        "minAcqFuncApprox6 = np.mean(approx_6minAcqFunc)\n",
        "minAcqFuncExact6 = np.mean(exact_6minAcqFunc)\n",
        "ratio6 = minAcqFuncApprox6/minAcqFuncExact6\n",
        "approx_6.tau, exact_6.tau, minAcqFuncApprox6, minAcqFuncExact6, ratio6\n"
      ],
      "metadata": {
        "colab": {
          "base_uri": "https://localhost:8080/"
        },
        "id": "0H912oKjHPfu",
        "outputId": "646aa2b9-9066-4978-aceb-e0792118136e"
      },
      "execution_count": 119,
      "outputs": [
        {
          "output_type": "execute_result",
          "data": {
            "text/plain": [
              "(-2.7201758564125145,\n",
              " -0.8545162706160028,\n",
              " -2.7267487629271763,\n",
              " -2.6510382267713175,\n",
              " 1.0285588247620503)"
            ]
          },
          "metadata": {},
          "execution_count": 119
        }
      ]
    },
    {
      "cell_type": "code",
      "source": [
        "### MinAcqFunc Comparison: Experiment 7\n",
        "\n",
        "minAcqFuncApprox7 = np.mean(approx_7minAcqFunc)\n",
        "minAcqFuncExact7 = np.mean(exact_7minAcqFunc)\n",
        "ratio7 = minAcqFuncApprox7/minAcqFuncExact7\n",
        "approx_7.tau, exact_7.tau, minAcqFuncApprox7, minAcqFuncExact7, ratio7\n"
      ],
      "metadata": {
        "colab": {
          "base_uri": "https://localhost:8080/"
        },
        "id": "qrh-IEZ3HPip",
        "outputId": "45d53485-bf66-4eb0-fcb1-f2bd8528bad0"
      },
      "execution_count": 120,
      "outputs": [
        {
          "output_type": "execute_result",
          "data": {
            "text/plain": [
              "(-5.211335324193094,\n",
              " -2.4742876767432787,\n",
              " -2.7295350743849847,\n",
              " -2.721627451763431,\n",
              " 1.0029054757720166)"
            ]
          },
          "metadata": {},
          "execution_count": 120
        }
      ]
    },
    {
      "cell_type": "code",
      "source": [
        "### MinAcqFunc Comparison: Experiment 8\n",
        "\n",
        "minAcqFuncApprox8 = np.mean(approx_8minAcqFunc)\n",
        "minAcqFuncExact8 = np.mean(exact_8minAcqFunc)\n",
        "ratio8 = minAcqFuncApprox8/minAcqFuncExact8\n",
        "approx_8.tau, exact_8.tau, minAcqFuncApprox8, minAcqFuncExact8, ratio8\n"
      ],
      "metadata": {
        "colab": {
          "base_uri": "https://localhost:8080/"
        },
        "id": "UOp-jaflHPlz",
        "outputId": "8677ff29-bc5c-4a5d-b02d-2a1a33a9cda9"
      },
      "execution_count": 121,
      "outputs": [
        {
          "output_type": "execute_result",
          "data": {
            "text/plain": [
              "(-1.944927928026269,\n",
              " -3.640259073013138,\n",
              " -2.77175715441017,\n",
              " -2.69927687770434,\n",
              " 1.0268517384431761)"
            ]
          },
          "metadata": {},
          "execution_count": 121
        }
      ]
    },
    {
      "cell_type": "code",
      "source": [
        "### MinAcqFunc Comparison: Experiment 9\n",
        "\n",
        "minAcqFuncApprox9 = np.mean(approx_9minAcqFunc)\n",
        "minAcqFuncExact9 = np.mean(exact_9minAcqFunc)\n",
        "ratio9 = minAcqFuncApprox9/minAcqFuncExact9\n",
        "approx_9.tau, exact_9.tau, minAcqFuncApprox9, minAcqFuncExact9, ratio9\n"
      ],
      "metadata": {
        "colab": {
          "base_uri": "https://localhost:8080/"
        },
        "id": "myU75lI6HPo4",
        "outputId": "f8a193c8-400e-4603-9bf6-5414ddd11e99"
      },
      "execution_count": 122,
      "outputs": [
        {
          "output_type": "execute_result",
          "data": {
            "text/plain": [
              "(-2.2525438944736456,\n",
              " -2.029514423533607,\n",
              " -2.7584961292104304,\n",
              " -2.6744780096007768,\n",
              " 1.0314147730166587)"
            ]
          },
          "metadata": {},
          "execution_count": 122
        }
      ]
    },
    {
      "cell_type": "code",
      "source": [
        "### MinAcqFunc Comparison: Experiment 10\n",
        "\n",
        "minAcqFuncApprox10 = np.mean(approx_10minAcqFunc)\n",
        "minAcqFuncExact10 = np.mean(exact_10minAcqFunc)\n",
        "ratio10 = minAcqFuncApprox10/minAcqFuncExact10\n",
        "approx_10.tau, exact_10.tau, minAcqFuncApprox10, minAcqFuncExact10, ratio10\n"
      ],
      "metadata": {
        "colab": {
          "base_uri": "https://localhost:8080/"
        },
        "id": "A3mo5UftHPsk",
        "outputId": "4e729bf4-f990-452d-c534-c82d6fe58c02"
      },
      "execution_count": 123,
      "outputs": [
        {
          "output_type": "execute_result",
          "data": {
            "text/plain": [
              "(-2.2314755828908606,\n",
              " -2.710610964564512,\n",
              " -2.7540111465416532,\n",
              " -2.5790531553041327,\n",
              " 1.0678380710679416)"
            ]
          },
          "metadata": {},
          "execution_count": 123
        }
      ]
    },
    {
      "cell_type": "code",
      "source": [
        "### MinAcqFunc Comparison: Experiment 11\n",
        "\n",
        "minAcqFuncApprox11 = np.mean(approx_11minAcqFunc)\n",
        "minAcqFuncExact11 = np.mean(exact_11minAcqFunc)\n",
        "ratio11 = minAcqFuncApprox11/minAcqFuncExact11\n",
        "approx_11.tau, exact_11.tau, minAcqFuncApprox11, minAcqFuncExact11, ratio11\n"
      ],
      "metadata": {
        "colab": {
          "base_uri": "https://localhost:8080/"
        },
        "id": "TaEOW6nLLEcx",
        "outputId": "bf106010-b3f6-48b2-925d-ac568dc1bbe1"
      },
      "execution_count": 124,
      "outputs": [
        {
          "output_type": "execute_result",
          "data": {
            "text/plain": [
              "(-0.991884226559316,\n",
              " -0.6670532171930699,\n",
              " -2.76069981379893,\n",
              " -2.6965473577635035,\n",
              " 1.0237905912724758)"
            ]
          },
          "metadata": {},
          "execution_count": 124
        }
      ]
    },
    {
      "cell_type": "code",
      "source": [
        "### MinAcqFunc Comparison: Experiment 12\n",
        "\n",
        "minAcqFuncApprox12 = np.mean(approx_12minAcqFunc)\n",
        "minAcqFuncExact12 = np.mean(exact_12minAcqFunc)\n",
        "ratio12 = minAcqFuncApprox12/minAcqFuncExact12\n",
        "approx_12.tau, exact_12.tau, minAcqFuncApprox12, minAcqFuncExact12, ratio12\n"
      ],
      "metadata": {
        "colab": {
          "base_uri": "https://localhost:8080/"
        },
        "id": "1KjJRPSwLE76",
        "outputId": "1e9eb61e-b829-4634-a4c2-92a5afffd430"
      },
      "execution_count": 125,
      "outputs": [
        {
          "output_type": "execute_result",
          "data": {
            "text/plain": [
              "(-0.5499315281120278,\n",
              " -0.45532746368099275,\n",
              " -1.652588467807793,\n",
              " -1.6444528447745117,\n",
              " 1.0049473130586464)"
            ]
          },
          "metadata": {},
          "execution_count": 125
        }
      ]
    },
    {
      "cell_type": "code",
      "source": [
        "### MinAcqFunc Comparison: Experiment 13\n",
        "\n",
        "minAcqFuncApprox13 = np.mean(approx_13minAcqFunc)\n",
        "minAcqFuncExact13 = np.mean(exact_13minAcqFunc)\n",
        "ratio13 = minAcqFuncApprox13/minAcqFuncExact13\n",
        "approx_13.tau, exact_13.tau, minAcqFuncApprox13, minAcqFuncExact13, ratio13\n"
      ],
      "metadata": {
        "colab": {
          "base_uri": "https://localhost:8080/"
        },
        "id": "jCoTSHuBLFOJ",
        "outputId": "78eee018-d76e-4945-c3de-161292d79a17"
      },
      "execution_count": 126,
      "outputs": [
        {
          "output_type": "execute_result",
          "data": {
            "text/plain": [
              "(-2.0358646317013793,\n",
              " -0.8943531028899869,\n",
              " -2.7281998736121498,\n",
              " -2.7103410404239847,\n",
              " 1.0065891461339387)"
            ]
          },
          "metadata": {},
          "execution_count": 126
        }
      ]
    },
    {
      "cell_type": "code",
      "source": [
        "### MinAcqFunc Comparison: Experiment 14\n",
        "\n",
        "minAcqFuncApprox14 = np.mean(approx_14minAcqFunc)\n",
        "minAcqFuncExact14 = np.mean(exact_14minAcqFunc)\n",
        "ratio14 = minAcqFuncApprox14/minAcqFuncExact14\n",
        "approx_14.tau, exact_14.tau, minAcqFuncApprox14, minAcqFuncExact14, ratio14\n"
      ],
      "metadata": {
        "colab": {
          "base_uri": "https://localhost:8080/"
        },
        "id": "9_xSxWT8LFsp",
        "outputId": "b33dccce-9876-4981-ffe2-c1b11b541715"
      },
      "execution_count": 127,
      "outputs": [
        {
          "output_type": "execute_result",
          "data": {
            "text/plain": [
              "(-1.4149920024014744,\n",
              " -1.0076539784961298,\n",
              " -2.7387627081239043,\n",
              " -2.6945705819141437,\n",
              " 1.0164004337115444)"
            ]
          },
          "metadata": {},
          "execution_count": 127
        }
      ]
    },
    {
      "cell_type": "code",
      "source": [
        "### MinAcqFunc Comparison: Experiment 15\n",
        "\n",
        "minAcqFuncApprox15 = np.mean(approx_15minAcqFunc)\n",
        "minAcqFuncExact15 = np.mean(exact_15minAcqFunc)\n",
        "ratio15 = minAcqFuncApprox15/minAcqFuncExact15\n",
        "approx_15.tau, exact_15.tau, minAcqFuncApprox15, minAcqFuncExact15, ratio15\n"
      ],
      "metadata": {
        "colab": {
          "base_uri": "https://localhost:8080/"
        },
        "id": "vj_iCIvOLFeP",
        "outputId": "2b735167-4de3-4a22-d35b-bafa9edb6ddc"
      },
      "execution_count": 128,
      "outputs": [
        {
          "output_type": "execute_result",
          "data": {
            "text/plain": [
              "(-2.5466271288448024,\n",
              " -2.6265827515982885,\n",
              " -2.767406873763613,\n",
              " -2.6802679584720015,\n",
              " 1.0325112700079766)"
            ]
          },
          "metadata": {},
          "execution_count": 128
        }
      ]
    },
    {
      "cell_type": "code",
      "source": [
        "### MinAcqFunc Comparison: Experiment 16\n",
        "\n",
        "minAcqFuncApprox16 = np.mean(approx_16minAcqFunc)\n",
        "minAcqFuncExact16 = np.mean(exact_16minAcqFunc)\n",
        "ratio16 = minAcqFuncApprox16/minAcqFuncExact16\n",
        "approx_16.tau, exact_16.tau, minAcqFuncApprox16, minAcqFuncExact16, ratio16\n"
      ],
      "metadata": {
        "colab": {
          "base_uri": "https://localhost:8080/"
        },
        "id": "vjFFlps7LF7A",
        "outputId": "0be57195-8fea-4644-f109-2e207ea709bf"
      },
      "execution_count": 129,
      "outputs": [
        {
          "output_type": "execute_result",
          "data": {
            "text/plain": [
              "(-2.6328484200030067,\n",
              " -2.715864006988424,\n",
              " -2.7176832814084837,\n",
              " -2.681825443696125,\n",
              " 1.0133706829415934)"
            ]
          },
          "metadata": {},
          "execution_count": 129
        }
      ]
    },
    {
      "cell_type": "code",
      "source": [
        "### MinAcqFunc Comparison: Experiment 17\n",
        "\n",
        "minAcqFuncApprox17 = np.mean(approx_17minAcqFunc)\n",
        "minAcqFuncExact17 = np.mean(exact_17minAcqFunc)\n",
        "ratio17 = minAcqFuncApprox17/minAcqFuncExact17\n",
        "approx_17.tau, exact_17.tau, minAcqFuncApprox17, minAcqFuncExact17, ratio17\n"
      ],
      "metadata": {
        "colab": {
          "base_uri": "https://localhost:8080/"
        },
        "id": "jO0-nRLRLGJv",
        "outputId": "a7c16b35-e494-4ead-b607-93ee4a73354e"
      },
      "execution_count": 130,
      "outputs": [
        {
          "output_type": "execute_result",
          "data": {
            "text/plain": [
              "(-2.0174596679345003,\n",
              " -1.7142823734413355,\n",
              " -2.74077880188396,\n",
              " -2.6805829725573327,\n",
              " 1.022456245504387)"
            ]
          },
          "metadata": {},
          "execution_count": 130
        }
      ]
    },
    {
      "cell_type": "code",
      "source": [
        "### MinAcqFunc Comparison: Experiment 18\n",
        "\n",
        "minAcqFuncApprox18 = np.mean(approx_18minAcqFunc)\n",
        "minAcqFuncExact18 = np.mean(exact_18minAcqFunc)\n",
        "ratio18 = minAcqFuncApprox18/minAcqFuncExact18\n",
        "approx_18.tau, exact_18.tau, minAcqFuncApprox18, minAcqFuncExact18, ratio18\n"
      ],
      "metadata": {
        "colab": {
          "base_uri": "https://localhost:8080/"
        },
        "id": "5Zo9ub4ULGXh",
        "outputId": "cb3e119a-e2b9-4917-d6a8-bd6ef8726f07"
      },
      "execution_count": 131,
      "outputs": [
        {
          "output_type": "execute_result",
          "data": {
            "text/plain": [
              "(-2.6385394536208198,\n",
              " -2.782537762660029,\n",
              " -2.723869546829134,\n",
              " -2.6744181222726104,\n",
              " 1.0184905359953595)"
            ]
          },
          "metadata": {},
          "execution_count": 131
        }
      ]
    },
    {
      "cell_type": "code",
      "source": [
        "### MinAcqFunc Comparison: Experiment 19\n",
        "\n",
        "minAcqFuncApprox19 = np.mean(approx_19minAcqFunc)\n",
        "minAcqFuncExact19 = np.mean(exact_19minAcqFunc)\n",
        "ratio19 = minAcqFuncApprox19/minAcqFuncExact19\n",
        "approx_19.tau, exact_19.tau, minAcqFuncApprox19, minAcqFuncExact19, ratio19\n"
      ],
      "metadata": {
        "colab": {
          "base_uri": "https://localhost:8080/"
        },
        "id": "1yJ_PLUFLGmh",
        "outputId": "f9a4a00d-46b3-4887-f849-f4027438b61c"
      },
      "execution_count": 132,
      "outputs": [
        {
          "output_type": "execute_result",
          "data": {
            "text/plain": [
              "(-1.0573002879318558,\n",
              " -0.4724215101045601,\n",
              " -2.7254123016850063,\n",
              " -2.687534653832981,\n",
              " 1.0140938267709418)"
            ]
          },
          "metadata": {},
          "execution_count": 132
        }
      ]
    },
    {
      "cell_type": "code",
      "source": [
        "### MinAcqFunc Comparison: Experiment 20\n",
        "\n",
        "minAcqFuncApprox20 = np.mean(approx_20minAcqFunc)\n",
        "minAcqFuncExact20 = np.mean(exact_20minAcqFunc)\n",
        "ratio20 = minAcqFuncApprox20/minAcqFuncExact20\n",
        "approx_20.tau, exact_20.tau, minAcqFuncApprox20, minAcqFuncExact20, ratio20\n"
      ],
      "metadata": {
        "colab": {
          "base_uri": "https://localhost:8080/"
        },
        "id": "Sd9NxsRsLG1P",
        "outputId": "eaef7bdc-41e0-4d8c-c476-65bf03b7b396"
      },
      "execution_count": 133,
      "outputs": [
        {
          "output_type": "execute_result",
          "data": {
            "text/plain": [
              "(-5.2601106565883144,\n",
              " -1.6730488424284289,\n",
              " -2.6860398909308487,\n",
              " -2.580655443883439,\n",
              " 1.0408363105183946)"
            ]
          },
          "metadata": {},
          "execution_count": 133
        }
      ]
    },
    {
      "cell_type": "code",
      "source": [
        "num = [1,2,3,4,5,6,7,8,9,10,11,12,13,14,15,16,17,18,19,20]\n",
        "ApproxTau = [approx_1.tau,approx_2.tau,approx_3.tau,approx_4.tau,approx_5.tau,approx_6.tau,approx_7.tau,approx_8.tau,approx_9.tau,approx_10.tau,approx_11.tau,approx_12.tau,approx_13.tau,approx_14.tau,approx_15.tau,approx_16.tau,approx_17.tau,approx_18.tau,approx_19.tau,approx_20.tau]\n",
        "ExactTau = [exact_1.tau,exact_2.tau,exact_3.tau,exact_4.tau,exact_5.tau,exact_6.tau,exact_7.tau,exact_8.tau,exact_9.tau,exact_10.tau,exact_11.tau,exact_12.tau,exact_13.tau,exact_14.tau,exact_15.tau,exact_16.tau,exact_17.tau,exact_18.tau,exact_19.tau,exact_20.tau]\n",
        "AvgMinAcqFuncExact = [minAcqFuncExact1,minAcqFuncExact2,minAcqFuncExact3,minAcqFuncExact4,minAcqFuncExact5,minAcqFuncExact6,minAcqFuncExact7,minAcqFuncExact8,minAcqFuncExact9,minAcqFuncExact10,minAcqFuncExact11,minAcqFuncExact12,minAcqFuncExact13,minAcqFuncExact14,minAcqFuncExact15,minAcqFuncExact16,minAcqFuncExact17,minAcqFuncExact18,minAcqFuncExact19,minAcqFuncExact20]\n",
        "AvgMinAcqFuncApprox = [minAcqFuncApprox1,minAcqFuncApprox2,minAcqFuncApprox3,minAcqFuncApprox4,minAcqFuncApprox5,minAcqFuncApprox6,minAcqFuncApprox7,minAcqFuncApprox8,minAcqFuncApprox9,minAcqFuncApprox10,minAcqFuncApprox11,minAcqFuncApprox12,minAcqFuncApprox13,minAcqFuncApprox14,minAcqFuncApprox15,minAcqFuncApprox16,minAcqFuncApprox17,minAcqFuncApprox18,minAcqFuncApprox19,minAcqFuncApprox20]\n",
        "ratio = [ratio1,ratio2,ratio3,ratio4,ratio5,ratio6,ratio7,ratio8,ratio9,ratio10,ratio11,ratio12,ratio13,ratio14,ratio15,ratio16,ratio17,ratio18,ratio19,ratio20]\n"
      ],
      "metadata": {
        "id": "_Fbc4r50vHHF"
      },
      "execution_count": 134,
      "outputs": []
    },
    {
      "cell_type": "code",
      "source": [
        "def greaterThan(a, b):\n",
        "  lis =[]\n",
        "  #convert to list\n",
        "  a = list(a)\n",
        "  b = list(b)\n",
        "  c = \"Yes\"\n",
        "  d = \"No\"\n",
        "  e = \"equal\"\n",
        "  for first, first_te in zip(a, b):\n",
        "      if first < first_te:\n",
        "          lis.append(d)\n",
        "      elif first > first_te:\n",
        "          lis.append(c)\n",
        "      else:\n",
        "          lis.append(e)\n",
        "  return lis\n",
        "\n",
        "greaterAcqFunc = greaterThan(AvgMinAcqFuncExact, AvgMinAcqFuncApprox)\n"
      ],
      "metadata": {
        "id": "gyTQQeQfknKX"
      },
      "execution_count": 135,
      "outputs": []
    },
    {
      "cell_type": "code",
      "source": [
        "def greaterRatio(a):\n",
        "  lis =[]\n",
        "  #convert to list\n",
        "  a = list(a)\n",
        "  b = \"Yes\"\n",
        "  c = \"No\"\n",
        "  d = \"equal\"\n",
        "  for first, in zip(a):\n",
        "      if first < 1:\n",
        "          lis.append(c)\n",
        "      elif first > 1:\n",
        "          lis.append(b)\n",
        "      else:\n",
        "          lis.append(d)\n",
        "  return lis\n",
        "\n",
        "greaterRatio = greaterRatio(ratio)\n"
      ],
      "metadata": {
        "id": "wO-_fUfpoYyP"
      },
      "execution_count": 136,
      "outputs": []
    },
    {
      "cell_type": "code",
      "source": [
        "df = pd.DataFrame(dict(Experiment=num,\n",
        "                  ExactTau=ExactTau,\n",
        "                  ApproxTau=ApproxTau,\n",
        "                  AvgMinAcqFuncExact=AvgMinAcqFuncExact,\n",
        "                  GreaterAcqFunc = greaterAcqFunc,\n",
        "                  AvgMinAcqFuncApprox=AvgMinAcqFuncApprox,\n",
        "                  Ratio = ratio,\n",
        "                  GreaterRatio = greaterRatio))\n",
        "df.sort_values(by=['ExactTau'], inplace=True, ascending=False)\n",
        "print(df.to_latex(index=False))\n"
      ],
      "metadata": {
        "colab": {
          "base_uri": "https://localhost:8080/"
        },
        "id": "4EzMdtEQV0yI",
        "outputId": "139ab03e-7051-4aab-9793-11abb4ac302f"
      },
      "execution_count": 137,
      "outputs": [
        {
          "output_type": "stream",
          "name": "stdout",
          "text": [
            "\\begin{tabular}{rrrrlrrl}\n",
            "\\toprule\n",
            " Experiment &  ExactTau &  ApproxTau &  AvgMinAcqFuncExact & GreaterAcqFunc &  AvgMinAcqFuncApprox &    Ratio & GreaterRatio \\\\\n",
            "\\midrule\n",
            "         12 & -0.455327 &  -0.549932 &           -1.644453 &            Yes &            -1.652588 & 1.004947 &          Yes \\\\\n",
            "         19 & -0.472422 &  -1.057300 &           -2.687535 &            Yes &            -2.725412 & 1.014094 &          Yes \\\\\n",
            "         11 & -0.667053 &  -0.991884 &           -2.696547 &            Yes &            -2.760700 & 1.023791 &          Yes \\\\\n",
            "          5 & -0.820545 &  -3.723043 &           -2.742121 &            Yes &            -2.776949 & 1.012701 &          Yes \\\\\n",
            "          6 & -0.854516 &  -2.720176 &           -2.651038 &            Yes &            -2.726749 & 1.028559 &          Yes \\\\\n",
            "         13 & -0.894353 &  -2.035865 &           -2.710341 &            Yes &            -2.728200 & 1.006589 &          Yes \\\\\n",
            "         14 & -1.007654 &  -1.414992 &           -2.694571 &            Yes &            -2.738763 & 1.016400 &          Yes \\\\\n",
            "          2 & -1.081900 &  -1.398459 &           -2.717793 &            Yes &            -2.740334 & 1.008294 &          Yes \\\\\n",
            "         20 & -1.673049 &  -5.260111 &           -2.580655 &            Yes &            -2.686040 & 1.040836 &          Yes \\\\\n",
            "         17 & -1.714282 &  -2.017460 &           -2.680583 &            Yes &            -2.740779 & 1.022456 &          Yes \\\\\n",
            "          4 & -1.873291 &  -2.880445 &           -2.654206 &            Yes &            -2.726347 & 1.027180 &          Yes \\\\\n",
            "          9 & -2.029514 &  -2.252544 &           -2.674478 &            Yes &            -2.758496 & 1.031415 &          Yes \\\\\n",
            "          7 & -2.474288 &  -5.211335 &           -2.721627 &            Yes &            -2.729535 & 1.002905 &          Yes \\\\\n",
            "         15 & -2.626583 &  -2.546627 &           -2.680268 &            Yes &            -2.767407 & 1.032511 &          Yes \\\\\n",
            "         10 & -2.710611 &  -2.231476 &           -2.579053 &            Yes &            -2.754011 & 1.067838 &          Yes \\\\\n",
            "         16 & -2.715864 &  -2.632848 &           -2.681825 &            Yes &            -2.717683 & 1.013371 &          Yes \\\\\n",
            "         18 & -2.782538 &  -2.638539 &           -2.674418 &            Yes &            -2.723870 & 1.018491 &          Yes \\\\\n",
            "          3 & -3.601019 &  -2.080627 &           -2.622756 &            Yes &            -2.729039 & 1.040523 &          Yes \\\\\n",
            "          8 & -3.640259 &  -1.944928 &           -2.699277 &            Yes &            -2.771757 & 1.026852 &          Yes \\\\\n",
            "          1 & -4.052915 &  -3.939353 &           -2.690233 &            Yes &            -2.702765 & 1.004659 &          Yes \\\\\n",
            "\\bottomrule\n",
            "\\end{tabular}\n",
            "\n"
          ]
        }
      ]
    },
    {
      "cell_type": "code",
      "source": [
        "avg_list = ['ExactTau', 'ApproxTau', 'AvgMinAcqFuncExact','AvgMinAcqFuncApprox']\n",
        "avg = df[avg_list].mean()\n",
        "avg.name = 'Average'\n",
        "df = df.append(avg.transpose())\n",
        "df.fillna(value='', inplace=True)\n",
        "df\n"
      ],
      "metadata": {
        "id": "HQ6-zjAHD43j",
        "colab": {
          "base_uri": "https://localhost:8080/",
          "height": 708
        },
        "outputId": "c89b0110-42b9-430c-9ead-05124a09adb2"
      },
      "execution_count": 138,
      "outputs": [
        {
          "output_type": "execute_result",
          "data": {
            "text/plain": [
              "        Experiment  ExactTau  ApproxTau  AvgMinAcqFuncExact GreaterAcqFunc  \\\n",
              "11            12.0 -0.455327  -0.549932           -1.644453            Yes   \n",
              "18            19.0 -0.472422  -1.057300           -2.687535            Yes   \n",
              "10            11.0 -0.667053  -0.991884           -2.696547            Yes   \n",
              "4              5.0 -0.820545  -3.723043           -2.742121            Yes   \n",
              "5              6.0 -0.854516  -2.720176           -2.651038            Yes   \n",
              "12            13.0 -0.894353  -2.035865           -2.710341            Yes   \n",
              "13            14.0 -1.007654  -1.414992           -2.694571            Yes   \n",
              "1              2.0 -1.081900  -1.398459           -2.717793            Yes   \n",
              "19            20.0 -1.673049  -5.260111           -2.580655            Yes   \n",
              "16            17.0 -1.714282  -2.017460           -2.680583            Yes   \n",
              "3              4.0 -1.873291  -2.880445           -2.654206            Yes   \n",
              "8              9.0 -2.029514  -2.252544           -2.674478            Yes   \n",
              "6              7.0 -2.474288  -5.211335           -2.721627            Yes   \n",
              "14            15.0 -2.626583  -2.546627           -2.680268            Yes   \n",
              "9             10.0 -2.710611  -2.231476           -2.579053            Yes   \n",
              "15            16.0 -2.715864  -2.632848           -2.681825            Yes   \n",
              "17            18.0 -2.782538  -2.638539           -2.674418            Yes   \n",
              "2              3.0 -3.601019  -2.080627           -2.622756            Yes   \n",
              "7              8.0 -3.640259  -1.944928           -2.699277            Yes   \n",
              "0              1.0 -4.052915  -3.939353           -2.690233            Yes   \n",
              "Average            -1.907399  -2.476397           -2.624189                  \n",
              "\n",
              "         AvgMinAcqFuncApprox     Ratio GreaterRatio  \n",
              "11                 -1.652588  1.004947          Yes  \n",
              "18                 -2.725412  1.014094          Yes  \n",
              "10                 -2.760700  1.023791          Yes  \n",
              "4                  -2.776949  1.012701          Yes  \n",
              "5                  -2.726749  1.028559          Yes  \n",
              "12                 -2.728200  1.006589          Yes  \n",
              "13                 -2.738763    1.0164          Yes  \n",
              "1                  -2.740334  1.008294          Yes  \n",
              "19                 -2.686040  1.040836          Yes  \n",
              "16                 -2.740779  1.022456          Yes  \n",
              "3                  -2.726347   1.02718          Yes  \n",
              "8                  -2.758496  1.031415          Yes  \n",
              "6                  -2.729535  1.002905          Yes  \n",
              "14                 -2.767407  1.032511          Yes  \n",
              "9                  -2.754011  1.067838          Yes  \n",
              "15                 -2.717683  1.013371          Yes  \n",
              "17                 -2.723870  1.018491          Yes  \n",
              "2                  -2.729039  1.040523          Yes  \n",
              "7                  -2.771757  1.026852          Yes  \n",
              "0                  -2.702765  1.004659          Yes  \n",
              "Average            -2.682871                         "
            ],
            "text/html": [
              "\n",
              "  <div id=\"df-6c6961f1-eeab-40d7-b8c9-8383c9f5b643\">\n",
              "    <div class=\"colab-df-container\">\n",
              "      <div>\n",
              "<style scoped>\n",
              "    .dataframe tbody tr th:only-of-type {\n",
              "        vertical-align: middle;\n",
              "    }\n",
              "\n",
              "    .dataframe tbody tr th {\n",
              "        vertical-align: top;\n",
              "    }\n",
              "\n",
              "    .dataframe thead th {\n",
              "        text-align: right;\n",
              "    }\n",
              "</style>\n",
              "<table border=\"1\" class=\"dataframe\">\n",
              "  <thead>\n",
              "    <tr style=\"text-align: right;\">\n",
              "      <th></th>\n",
              "      <th>Experiment</th>\n",
              "      <th>ExactTau</th>\n",
              "      <th>ApproxTau</th>\n",
              "      <th>AvgMinAcqFuncExact</th>\n",
              "      <th>GreaterAcqFunc</th>\n",
              "      <th>AvgMinAcqFuncApprox</th>\n",
              "      <th>Ratio</th>\n",
              "      <th>GreaterRatio</th>\n",
              "    </tr>\n",
              "  </thead>\n",
              "  <tbody>\n",
              "    <tr>\n",
              "      <th>11</th>\n",
              "      <td>12.0</td>\n",
              "      <td>-0.455327</td>\n",
              "      <td>-0.549932</td>\n",
              "      <td>-1.644453</td>\n",
              "      <td>Yes</td>\n",
              "      <td>-1.652588</td>\n",
              "      <td>1.004947</td>\n",
              "      <td>Yes</td>\n",
              "    </tr>\n",
              "    <tr>\n",
              "      <th>18</th>\n",
              "      <td>19.0</td>\n",
              "      <td>-0.472422</td>\n",
              "      <td>-1.057300</td>\n",
              "      <td>-2.687535</td>\n",
              "      <td>Yes</td>\n",
              "      <td>-2.725412</td>\n",
              "      <td>1.014094</td>\n",
              "      <td>Yes</td>\n",
              "    </tr>\n",
              "    <tr>\n",
              "      <th>10</th>\n",
              "      <td>11.0</td>\n",
              "      <td>-0.667053</td>\n",
              "      <td>-0.991884</td>\n",
              "      <td>-2.696547</td>\n",
              "      <td>Yes</td>\n",
              "      <td>-2.760700</td>\n",
              "      <td>1.023791</td>\n",
              "      <td>Yes</td>\n",
              "    </tr>\n",
              "    <tr>\n",
              "      <th>4</th>\n",
              "      <td>5.0</td>\n",
              "      <td>-0.820545</td>\n",
              "      <td>-3.723043</td>\n",
              "      <td>-2.742121</td>\n",
              "      <td>Yes</td>\n",
              "      <td>-2.776949</td>\n",
              "      <td>1.012701</td>\n",
              "      <td>Yes</td>\n",
              "    </tr>\n",
              "    <tr>\n",
              "      <th>5</th>\n",
              "      <td>6.0</td>\n",
              "      <td>-0.854516</td>\n",
              "      <td>-2.720176</td>\n",
              "      <td>-2.651038</td>\n",
              "      <td>Yes</td>\n",
              "      <td>-2.726749</td>\n",
              "      <td>1.028559</td>\n",
              "      <td>Yes</td>\n",
              "    </tr>\n",
              "    <tr>\n",
              "      <th>12</th>\n",
              "      <td>13.0</td>\n",
              "      <td>-0.894353</td>\n",
              "      <td>-2.035865</td>\n",
              "      <td>-2.710341</td>\n",
              "      <td>Yes</td>\n",
              "      <td>-2.728200</td>\n",
              "      <td>1.006589</td>\n",
              "      <td>Yes</td>\n",
              "    </tr>\n",
              "    <tr>\n",
              "      <th>13</th>\n",
              "      <td>14.0</td>\n",
              "      <td>-1.007654</td>\n",
              "      <td>-1.414992</td>\n",
              "      <td>-2.694571</td>\n",
              "      <td>Yes</td>\n",
              "      <td>-2.738763</td>\n",
              "      <td>1.0164</td>\n",
              "      <td>Yes</td>\n",
              "    </tr>\n",
              "    <tr>\n",
              "      <th>1</th>\n",
              "      <td>2.0</td>\n",
              "      <td>-1.081900</td>\n",
              "      <td>-1.398459</td>\n",
              "      <td>-2.717793</td>\n",
              "      <td>Yes</td>\n",
              "      <td>-2.740334</td>\n",
              "      <td>1.008294</td>\n",
              "      <td>Yes</td>\n",
              "    </tr>\n",
              "    <tr>\n",
              "      <th>19</th>\n",
              "      <td>20.0</td>\n",
              "      <td>-1.673049</td>\n",
              "      <td>-5.260111</td>\n",
              "      <td>-2.580655</td>\n",
              "      <td>Yes</td>\n",
              "      <td>-2.686040</td>\n",
              "      <td>1.040836</td>\n",
              "      <td>Yes</td>\n",
              "    </tr>\n",
              "    <tr>\n",
              "      <th>16</th>\n",
              "      <td>17.0</td>\n",
              "      <td>-1.714282</td>\n",
              "      <td>-2.017460</td>\n",
              "      <td>-2.680583</td>\n",
              "      <td>Yes</td>\n",
              "      <td>-2.740779</td>\n",
              "      <td>1.022456</td>\n",
              "      <td>Yes</td>\n",
              "    </tr>\n",
              "    <tr>\n",
              "      <th>3</th>\n",
              "      <td>4.0</td>\n",
              "      <td>-1.873291</td>\n",
              "      <td>-2.880445</td>\n",
              "      <td>-2.654206</td>\n",
              "      <td>Yes</td>\n",
              "      <td>-2.726347</td>\n",
              "      <td>1.02718</td>\n",
              "      <td>Yes</td>\n",
              "    </tr>\n",
              "    <tr>\n",
              "      <th>8</th>\n",
              "      <td>9.0</td>\n",
              "      <td>-2.029514</td>\n",
              "      <td>-2.252544</td>\n",
              "      <td>-2.674478</td>\n",
              "      <td>Yes</td>\n",
              "      <td>-2.758496</td>\n",
              "      <td>1.031415</td>\n",
              "      <td>Yes</td>\n",
              "    </tr>\n",
              "    <tr>\n",
              "      <th>6</th>\n",
              "      <td>7.0</td>\n",
              "      <td>-2.474288</td>\n",
              "      <td>-5.211335</td>\n",
              "      <td>-2.721627</td>\n",
              "      <td>Yes</td>\n",
              "      <td>-2.729535</td>\n",
              "      <td>1.002905</td>\n",
              "      <td>Yes</td>\n",
              "    </tr>\n",
              "    <tr>\n",
              "      <th>14</th>\n",
              "      <td>15.0</td>\n",
              "      <td>-2.626583</td>\n",
              "      <td>-2.546627</td>\n",
              "      <td>-2.680268</td>\n",
              "      <td>Yes</td>\n",
              "      <td>-2.767407</td>\n",
              "      <td>1.032511</td>\n",
              "      <td>Yes</td>\n",
              "    </tr>\n",
              "    <tr>\n",
              "      <th>9</th>\n",
              "      <td>10.0</td>\n",
              "      <td>-2.710611</td>\n",
              "      <td>-2.231476</td>\n",
              "      <td>-2.579053</td>\n",
              "      <td>Yes</td>\n",
              "      <td>-2.754011</td>\n",
              "      <td>1.067838</td>\n",
              "      <td>Yes</td>\n",
              "    </tr>\n",
              "    <tr>\n",
              "      <th>15</th>\n",
              "      <td>16.0</td>\n",
              "      <td>-2.715864</td>\n",
              "      <td>-2.632848</td>\n",
              "      <td>-2.681825</td>\n",
              "      <td>Yes</td>\n",
              "      <td>-2.717683</td>\n",
              "      <td>1.013371</td>\n",
              "      <td>Yes</td>\n",
              "    </tr>\n",
              "    <tr>\n",
              "      <th>17</th>\n",
              "      <td>18.0</td>\n",
              "      <td>-2.782538</td>\n",
              "      <td>-2.638539</td>\n",
              "      <td>-2.674418</td>\n",
              "      <td>Yes</td>\n",
              "      <td>-2.723870</td>\n",
              "      <td>1.018491</td>\n",
              "      <td>Yes</td>\n",
              "    </tr>\n",
              "    <tr>\n",
              "      <th>2</th>\n",
              "      <td>3.0</td>\n",
              "      <td>-3.601019</td>\n",
              "      <td>-2.080627</td>\n",
              "      <td>-2.622756</td>\n",
              "      <td>Yes</td>\n",
              "      <td>-2.729039</td>\n",
              "      <td>1.040523</td>\n",
              "      <td>Yes</td>\n",
              "    </tr>\n",
              "    <tr>\n",
              "      <th>7</th>\n",
              "      <td>8.0</td>\n",
              "      <td>-3.640259</td>\n",
              "      <td>-1.944928</td>\n",
              "      <td>-2.699277</td>\n",
              "      <td>Yes</td>\n",
              "      <td>-2.771757</td>\n",
              "      <td>1.026852</td>\n",
              "      <td>Yes</td>\n",
              "    </tr>\n",
              "    <tr>\n",
              "      <th>0</th>\n",
              "      <td>1.0</td>\n",
              "      <td>-4.052915</td>\n",
              "      <td>-3.939353</td>\n",
              "      <td>-2.690233</td>\n",
              "      <td>Yes</td>\n",
              "      <td>-2.702765</td>\n",
              "      <td>1.004659</td>\n",
              "      <td>Yes</td>\n",
              "    </tr>\n",
              "    <tr>\n",
              "      <th>Average</th>\n",
              "      <td></td>\n",
              "      <td>-1.907399</td>\n",
              "      <td>-2.476397</td>\n",
              "      <td>-2.624189</td>\n",
              "      <td></td>\n",
              "      <td>-2.682871</td>\n",
              "      <td></td>\n",
              "      <td></td>\n",
              "    </tr>\n",
              "  </tbody>\n",
              "</table>\n",
              "</div>\n",
              "      <button class=\"colab-df-convert\" onclick=\"convertToInteractive('df-6c6961f1-eeab-40d7-b8c9-8383c9f5b643')\"\n",
              "              title=\"Convert this dataframe to an interactive table.\"\n",
              "              style=\"display:none;\">\n",
              "        \n",
              "  <svg xmlns=\"http://www.w3.org/2000/svg\" height=\"24px\"viewBox=\"0 0 24 24\"\n",
              "       width=\"24px\">\n",
              "    <path d=\"M0 0h24v24H0V0z\" fill=\"none\"/>\n",
              "    <path d=\"M18.56 5.44l.94 2.06.94-2.06 2.06-.94-2.06-.94-.94-2.06-.94 2.06-2.06.94zm-11 1L8.5 8.5l.94-2.06 2.06-.94-2.06-.94L8.5 2.5l-.94 2.06-2.06.94zm10 10l.94 2.06.94-2.06 2.06-.94-2.06-.94-.94-2.06-.94 2.06-2.06.94z\"/><path d=\"M17.41 7.96l-1.37-1.37c-.4-.4-.92-.59-1.43-.59-.52 0-1.04.2-1.43.59L10.3 9.45l-7.72 7.72c-.78.78-.78 2.05 0 2.83L4 21.41c.39.39.9.59 1.41.59.51 0 1.02-.2 1.41-.59l7.78-7.78 2.81-2.81c.8-.78.8-2.07 0-2.86zM5.41 20L4 18.59l7.72-7.72 1.47 1.35L5.41 20z\"/>\n",
              "  </svg>\n",
              "      </button>\n",
              "      \n",
              "  <style>\n",
              "    .colab-df-container {\n",
              "      display:flex;\n",
              "      flex-wrap:wrap;\n",
              "      gap: 12px;\n",
              "    }\n",
              "\n",
              "    .colab-df-convert {\n",
              "      background-color: #E8F0FE;\n",
              "      border: none;\n",
              "      border-radius: 50%;\n",
              "      cursor: pointer;\n",
              "      display: none;\n",
              "      fill: #1967D2;\n",
              "      height: 32px;\n",
              "      padding: 0 0 0 0;\n",
              "      width: 32px;\n",
              "    }\n",
              "\n",
              "    .colab-df-convert:hover {\n",
              "      background-color: #E2EBFA;\n",
              "      box-shadow: 0px 1px 2px rgba(60, 64, 67, 0.3), 0px 1px 3px 1px rgba(60, 64, 67, 0.15);\n",
              "      fill: #174EA6;\n",
              "    }\n",
              "\n",
              "    [theme=dark] .colab-df-convert {\n",
              "      background-color: #3B4455;\n",
              "      fill: #D2E3FC;\n",
              "    }\n",
              "\n",
              "    [theme=dark] .colab-df-convert:hover {\n",
              "      background-color: #434B5C;\n",
              "      box-shadow: 0px 1px 3px 1px rgba(0, 0, 0, 0.15);\n",
              "      filter: drop-shadow(0px 1px 2px rgba(0, 0, 0, 0.3));\n",
              "      fill: #FFFFFF;\n",
              "    }\n",
              "  </style>\n",
              "\n",
              "      <script>\n",
              "        const buttonEl =\n",
              "          document.querySelector('#df-6c6961f1-eeab-40d7-b8c9-8383c9f5b643 button.colab-df-convert');\n",
              "        buttonEl.style.display =\n",
              "          google.colab.kernel.accessAllowed ? 'block' : 'none';\n",
              "\n",
              "        async function convertToInteractive(key) {\n",
              "          const element = document.querySelector('#df-6c6961f1-eeab-40d7-b8c9-8383c9f5b643');\n",
              "          const dataTable =\n",
              "            await google.colab.kernel.invokeFunction('convertToInteractive',\n",
              "                                                     [key], {});\n",
              "          if (!dataTable) return;\n",
              "\n",
              "          const docLinkHtml = 'Like what you see? Visit the ' +\n",
              "            '<a target=\"_blank\" href=https://colab.research.google.com/notebooks/data_table.ipynb>data table notebook</a>'\n",
              "            + ' to learn more about interactive tables.';\n",
              "          element.innerHTML = '';\n",
              "          dataTable['output_type'] = 'display_data';\n",
              "          await google.colab.output.renderOutput(dataTable, element);\n",
              "          const docLink = document.createElement('div');\n",
              "          docLink.innerHTML = docLinkHtml;\n",
              "          element.appendChild(docLink);\n",
              "        }\n",
              "      </script>\n",
              "    </div>\n",
              "  </div>\n",
              "  "
            ]
          },
          "metadata": {},
          "execution_count": 138
        }
      ]
    },
    {
      "cell_type": "code",
      "source": [
        "print('Ratio of Average ExactTau to Average ApproxTau:', np.round(avg[1]/avg[0], 5))\n",
        "print('Ratio of Average AvgMinAcqFuncExact to Average AvgMinAcqFuncApprox:', np.round(avg[3]/avg[2], 5))\n",
        "print('Number of experiments where AvgMinAcqFuncExact exceeds AvgMinAcqFuncApprox:', df['GreaterAcqFunc'].value_counts()['Yes'])\n",
        "print('Number of experiments where Ratio exceeds 1.0:', df['GreaterRatio'].value_counts()['Yes'])\n"
      ],
      "metadata": {
        "colab": {
          "base_uri": "https://localhost:8080/"
        },
        "outputId": "59104a4b-551c-4700-bd09-279fa00f5f93",
        "id": "S0Tbm8pIKLkU"
      },
      "execution_count": 139,
      "outputs": [
        {
          "output_type": "stream",
          "name": "stdout",
          "text": [
            "Ratio of Average ExactTau to Average ApproxTau: 1.29831\n",
            "Ratio of Average AvgMinAcqFuncExact to Average AvgMinAcqFuncApprox: 1.02236\n",
            "Number of experiments where AvgMinAcqFuncExact exceeds AvgMinAcqFuncApprox: 20\n",
            "Number of experiments where Ratio exceeds 1.0: 20\n"
          ]
        }
      ]
    },
    {
      "cell_type": "code",
      "source": [
        ""
      ],
      "metadata": {
        "id": "Q-RGcXmoPsxE"
      },
      "execution_count": 139,
      "outputs": []
    }
  ]
}