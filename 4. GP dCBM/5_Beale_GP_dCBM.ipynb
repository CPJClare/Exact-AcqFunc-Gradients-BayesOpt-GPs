{
  "cells": [
    {
      "cell_type": "markdown",
      "metadata": {
        "id": "Dqn4dFx7Z2Ir"
      },
      "source": [
        "\n",
        "Beale: 2D\n"
      ]
    },
    {
      "cell_type": "code",
      "execution_count": 1,
      "metadata": {
        "colab": {
          "base_uri": "https://localhost:8080/"
        },
        "id": "MJTM_GZZZb5x",
        "outputId": "099c9e55-5f00-4732-84cf-d801a24872b2"
      },
      "outputs": [
        {
          "output_type": "stream",
          "name": "stdout",
          "text": [
            "Looking in indexes: https://pypi.org/simple, https://us-python.pkg.dev/colab-wheels/public/simple/\n",
            "Collecting pyGPGO\n",
            "  Downloading pyGPGO-0.5.1.tar.gz (14 kB)\n",
            "Requirement already satisfied: numpy in /usr/local/lib/python3.7/dist-packages (from pyGPGO) (1.21.6)\n",
            "Requirement already satisfied: mkl in /usr/local/lib/python3.7/dist-packages (from pyGPGO) (2019.0)\n",
            "Requirement already satisfied: scipy in /usr/local/lib/python3.7/dist-packages (from pyGPGO) (1.7.3)\n",
            "Requirement already satisfied: joblib in /usr/local/lib/python3.7/dist-packages (from pyGPGO) (1.1.0)\n",
            "Requirement already satisfied: scikit-learn in /usr/local/lib/python3.7/dist-packages (from pyGPGO) (1.0.2)\n",
            "Requirement already satisfied: Theano-PyMC in /usr/local/lib/python3.7/dist-packages (from pyGPGO) (1.1.2)\n",
            "Requirement already satisfied: pyMC3 in /usr/local/lib/python3.7/dist-packages (from pyGPGO) (3.11.5)\n",
            "Requirement already satisfied: intel-openmp in /usr/local/lib/python3.7/dist-packages (from mkl->pyGPGO) (2022.1.0)\n",
            "Requirement already satisfied: arviz>=0.11.0 in /usr/local/lib/python3.7/dist-packages (from pyMC3->pyGPGO) (0.12.1)\n",
            "Requirement already satisfied: patsy>=0.5.1 in /usr/local/lib/python3.7/dist-packages (from pyMC3->pyGPGO) (0.5.2)\n",
            "Requirement already satisfied: fastprogress>=0.2.0 in /usr/local/lib/python3.7/dist-packages (from pyMC3->pyGPGO) (1.0.3)\n",
            "Requirement already satisfied: pandas>=0.24.0 in /usr/local/lib/python3.7/dist-packages (from pyMC3->pyGPGO) (1.3.5)\n",
            "Requirement already satisfied: deprecat in /usr/local/lib/python3.7/dist-packages (from pyMC3->pyGPGO) (2.1.1)\n",
            "Requirement already satisfied: semver>=2.13.0 in /usr/local/lib/python3.7/dist-packages (from pyMC3->pyGPGO) (2.13.0)\n",
            "Requirement already satisfied: cachetools>=4.2.1 in /usr/local/lib/python3.7/dist-packages (from pyMC3->pyGPGO) (4.2.4)\n",
            "Requirement already satisfied: typing-extensions>=3.7.4 in /usr/local/lib/python3.7/dist-packages (from pyMC3->pyGPGO) (4.1.1)\n",
            "Requirement already satisfied: dill in /usr/local/lib/python3.7/dist-packages (from pyMC3->pyGPGO) (0.3.5.1)\n",
            "Requirement already satisfied: filelock in /usr/local/lib/python3.7/dist-packages (from Theano-PyMC->pyGPGO) (3.7.1)\n",
            "Requirement already satisfied: packaging in /usr/local/lib/python3.7/dist-packages (from arviz>=0.11.0->pyMC3->pyGPGO) (21.3)\n",
            "Requirement already satisfied: matplotlib>=3.0 in /usr/local/lib/python3.7/dist-packages (from arviz>=0.11.0->pyMC3->pyGPGO) (3.2.2)\n",
            "Requirement already satisfied: xarray-einstats>=0.2 in /usr/local/lib/python3.7/dist-packages (from arviz>=0.11.0->pyMC3->pyGPGO) (0.2.2)\n",
            "Requirement already satisfied: setuptools>=38.4 in /usr/local/lib/python3.7/dist-packages (from arviz>=0.11.0->pyMC3->pyGPGO) (57.4.0)\n",
            "Requirement already satisfied: netcdf4 in /usr/local/lib/python3.7/dist-packages (from arviz>=0.11.0->pyMC3->pyGPGO) (1.6.0)\n",
            "Requirement already satisfied: xarray>=0.16.1 in /usr/local/lib/python3.7/dist-packages (from arviz>=0.11.0->pyMC3->pyGPGO) (0.20.2)\n",
            "Requirement already satisfied: cycler>=0.10 in /usr/local/lib/python3.7/dist-packages (from matplotlib>=3.0->arviz>=0.11.0->pyMC3->pyGPGO) (0.11.0)\n",
            "Requirement already satisfied: kiwisolver>=1.0.1 in /usr/local/lib/python3.7/dist-packages (from matplotlib>=3.0->arviz>=0.11.0->pyMC3->pyGPGO) (1.4.4)\n",
            "Requirement already satisfied: python-dateutil>=2.1 in /usr/local/lib/python3.7/dist-packages (from matplotlib>=3.0->arviz>=0.11.0->pyMC3->pyGPGO) (2.8.2)\n",
            "Requirement already satisfied: pyparsing!=2.0.4,!=2.1.2,!=2.1.6,>=2.0.1 in /usr/local/lib/python3.7/dist-packages (from matplotlib>=3.0->arviz>=0.11.0->pyMC3->pyGPGO) (3.0.9)\n",
            "Requirement already satisfied: pytz>=2017.3 in /usr/local/lib/python3.7/dist-packages (from pandas>=0.24.0->pyMC3->pyGPGO) (2022.1)\n",
            "Requirement already satisfied: six in /usr/local/lib/python3.7/dist-packages (from patsy>=0.5.1->pyMC3->pyGPGO) (1.15.0)\n",
            "Requirement already satisfied: importlib-metadata in /usr/local/lib/python3.7/dist-packages (from xarray>=0.16.1->arviz>=0.11.0->pyMC3->pyGPGO) (4.12.0)\n",
            "Requirement already satisfied: wrapt<2,>=1.10 in /usr/local/lib/python3.7/dist-packages (from deprecat->pyMC3->pyGPGO) (1.14.1)\n",
            "Requirement already satisfied: zipp>=0.5 in /usr/local/lib/python3.7/dist-packages (from importlib-metadata->xarray>=0.16.1->arviz>=0.11.0->pyMC3->pyGPGO) (3.8.1)\n",
            "Requirement already satisfied: cftime in /usr/local/lib/python3.7/dist-packages (from netcdf4->arviz>=0.11.0->pyMC3->pyGPGO) (1.6.1)\n",
            "Requirement already satisfied: threadpoolctl>=2.0.0 in /usr/local/lib/python3.7/dist-packages (from scikit-learn->pyGPGO) (3.1.0)\n",
            "Building wheels for collected packages: pyGPGO\n",
            "  Building wheel for pyGPGO (setup.py) ... \u001b[?25l\u001b[?25hdone\n",
            "  Created wheel for pyGPGO: filename=pyGPGO-0.5.1-py3-none-any.whl size=19879 sha256=50fc760d6027b48852e14b3b4186a1c1fdbc0f7bbc41db4b58a3ad7306505340\n",
            "  Stored in directory: /root/.cache/pip/wheels/c8/5d/0b/2160114e2f1b87791c51b66cf07f89831dbb6f49167950316f\n",
            "Successfully built pyGPGO\n",
            "Installing collected packages: pyGPGO\n",
            "Successfully installed pyGPGO-0.5.1\n"
          ]
        }
      ],
      "source": [
        "pip install pyGPGO\n"
      ]
    },
    {
      "cell_type": "code",
      "execution_count": 2,
      "metadata": {
        "id": "ZJSSPbwPaEUB"
      },
      "outputs": [],
      "source": [
        "### Import:\n",
        "\n",
        "import numpy as np\n",
        "import scipy as sp\n",
        "import pandas as pd\n",
        "import matplotlib.pyplot as plt\n",
        "import warnings\n",
        "import itertools\n",
        "\n",
        "from pyGPGO.GPGO import GPGO\n",
        "from pyGPGO.surrogates.GaussianProcess import GaussianProcess\n",
        "from pyGPGO.acquisition import Acquisition\n",
        "from pyGPGO.covfunc import squaredExponential\n",
        "\n",
        "from joblib import Parallel, delayed\n",
        "from numpy.linalg import solve, cholesky\n",
        "from scipy.spatial.distance import cdist\n",
        "from scipy.optimize import minimize\n",
        "from scipy.stats import norm\n",
        "import time\n",
        "\n",
        "warnings.filterwarnings(\"ignore\", category=RuntimeWarning)\n"
      ]
    },
    {
      "cell_type": "code",
      "execution_count": 3,
      "metadata": {
        "id": "OeYcTUNoaJWa"
      },
      "outputs": [],
      "source": [
        "### Inputs:\n",
        "\n",
        "func = 'Beale'\n",
        "n_test = 500\n",
        "eps = 1e-08\n",
        "\n",
        "util = 'CBM'\n",
        "\n",
        "n_init = 5 # random initialisations\n",
        "iters = 20\n",
        "opt = True"
      ]
    },
    {
      "cell_type": "code",
      "execution_count": 4,
      "metadata": {
        "id": "xpaEOjdzaPMS"
      },
      "outputs": [],
      "source": [
        "### Objective Function - Beale(x) 2-D:\n",
        "\n",
        "def objfunc(x1_training, x2_training):\n",
        "            return  operator * (\n",
        "                (1.500 - x1_training + x1_training * x2_training)**2 +\n",
        "                (2.250 - x1_training + x1_training * x2_training**2)**2 +\n",
        "                (2.625 - x1_training + x1_training * x2_training**3)**2 \n",
        "                )\n",
        "       \n",
        "# Constraints:\n",
        "lb = -4.5\n",
        "ub = +4.5\n",
        "\n",
        "# Input array dimension(s):\n",
        "dim = 2\n",
        "\n",
        "# 2-D inputs' parameter bounds:\n",
        "param = {'x1_training': ('cont', [lb, ub]),\n",
        "             'x2_training': ('cont', [lb, ub])}\n",
        "\n",
        "# True y bounds:\n",
        "operator = -1\n",
        "y_lb = 0 # targets global minimum\n",
        "y_global_orig = y_lb * operator # targets global minimum\n",
        "\n",
        "# Test data:\n",
        "x1_test = np.linspace(lb, ub, n_test)\n",
        "x2_test = np.linspace(lb, ub, n_test)\n",
        "  \n",
        "x_test = np.column_stack((x1_test,x2_test))\n"
      ]
    },
    {
      "cell_type": "code",
      "execution_count": 5,
      "metadata": {
        "id": "eYpI3Zm4aGxi"
      },
      "outputs": [],
      "source": [
        "n_start_AcqFunc = iters\n",
        "inverse = -1\n"
      ]
    },
    {
      "cell_type": "code",
      "execution_count": 6,
      "metadata": {
        "id": "oO_GUmOoaV0T"
      },
      "outputs": [],
      "source": [
        "### Cumulative Regret Calculators:\n",
        "\n",
        "def min_max_array(x):\n",
        "    new_list = []\n",
        "    for i, num in enumerate(x):\n",
        "            new_list.append(np.min(x[0:i+1]))\n",
        "    return new_list\n",
        "  \n",
        "def acqFuncExact(x):\n",
        "    new_array = []\n",
        "    x = np.array(x) \n",
        "    for i, num in enumerate(x):\n",
        "            new_array = x[:-2][::-3]\n",
        "    return new_array[::-1]\n",
        "\n",
        "def acqFuncApprox(x):\n",
        "    new_array = []\n",
        "    x = np.array(x) \n",
        "    for i, num in enumerate(x):\n",
        "            new_array = x[:-1][::-3]\n",
        "    return new_array[::-1]\n"
      ]
    },
    {
      "cell_type": "code",
      "execution_count": 7,
      "metadata": {
        "id": "kuuJx0IMam9S"
      },
      "outputs": [],
      "source": [
        "### Surrogate derivatives: \n",
        "\n",
        "cov_func = squaredExponential()\n",
        "\n",
        "def kronDelta(X, Xstar):                     # Kronecker's Delta method\n",
        "    return cdist(X, Xstar) < np.finfo(np.float32).eps\n",
        "\n",
        "def se(X, Xstar, sigmaf, l, sigman):         # S.E. kernel method\n",
        "    return sigmaf * np.exp(-0.5 * cdist(X, Xstar) ** 2 / l ** 2) + sigman * kronDelta(X, Xstar)\n",
        "\n",
        "def delta(X, Xstar):                         # Distance between training X and test Xstar vectors\n",
        "    return (X - Xstar)\n",
        "   \n",
        "def der_covmat(X, Xstar, sigmaf, l, sigman): # Covariance matrix derivative terms (i.e. exact, first-order)\n",
        "    nx = len(X)\n",
        "    ny = len(Xstar)\n",
        "    return np.round(np.array([(delta(np.atleast_2d(i), np.atleast_2d(j))[0] * se(np.atleast_2d(i), np.atleast_2d(j), sigmaf, l, sigman)[0]).sum() for (i, j) in itertools.product(X, Xstar)]).reshape(nx, ny), 8)\n",
        "\n",
        "class dGaussianProcess(GaussianProcess):    # Via inheritance, also optimises hyperparameters when opt = TRUE\n",
        "    \n",
        "    def AcqGrad(self, Xstar):               # Method returning exact, first-order derivatives of the GP's posterior mean and standard deviation\n",
        "        Xstar = np.atleast_2d(Xstar)\n",
        "        Kstar = self.covfunc.K(self.X, Xstar).T\n",
        "        \n",
        "        dKstar = der_covmat(self.X, Xstar, self.covfunc.sigmaf, self.covfunc.l, self.covfunc.sigman).T\n",
        "        alpha_Kstar = np.dot(np.linalg.inv(self.K + (self.covfunc.sigman**2) * np.eye(len(self.X))), Kstar.T)\n",
        "        \n",
        "        dm = np.dot(dKstar, self.alpha)\n",
        "        ds = -2 * np.dot(dKstar, alpha_Kstar)\n",
        "        \n",
        "        return dm, ds           \n"
      ]
    },
    {
      "cell_type": "code",
      "execution_count": 8,
      "metadata": {
        "id": "_Dc3YVHVaXz7"
      },
      "outputs": [],
      "source": [
        "### Add exact acquisition function gradient as attribute:\n",
        "\n",
        "Beta_CBM = dim\n",
        "\n",
        "class Acquisition_grad(Acquisition):    \n",
        "    def __init__(self, mode, eps=eps, **params):\n",
        "        \n",
        "        self.params = params\n",
        "        self.eps = eps\n",
        "\n",
        "        mode_dict = {\n",
        "            'CBM': self.CBM\n",
        "        }\n",
        "\n",
        "        self.f = mode_dict[mode]\n",
        "    \n",
        "    def CBM(self, y_global_orig, mean, std, ds, dm):\n",
        "        gamma = (mean - y_global_orig - self.eps) / (std + self.eps)\n",
        "        gamma_h = (mean - y_global_orig) / (std + self.eps)\n",
        "        dsdx = ds / (2 * (std + self.eps))\n",
        "        dmdx = (dm - gamma * dsdx) / (std + self.eps)\n",
        "\n",
        "        f = (std + self.eps) * (gamma + np.sqrt(Beta_CBM))\n",
        "        df = dsdx * (gamma + np.sqrt(Beta_CBM)) + (std + self.eps) * dmdx\n",
        "        df_arr = []\n",
        "\n",
        "        for j in range(0, dim):\n",
        "          df_arr.append(df)\n",
        "        return f, np.asarray(df_arr).transpose()\n",
        "\n",
        "        for j in range(0, dim):\n",
        "          df_arr.append(df)\n",
        "        return f, np.asarray(df_arr).transpose()\n",
        "        \n",
        "    def d_eval(self, y_global_orig, mean, std, ds, dm):\n",
        "    \n",
        "        return self.f(y_global_orig, mean, std, ds, dm, **self.params)\n",
        "        "
      ]
    },
    {
      "cell_type": "code",
      "execution_count": 9,
      "metadata": {
        "id": "PITEQC8YSl7i"
      },
      "outputs": [],
      "source": [
        "## GPGO_multi: \n",
        "\n",
        "class GPGO_multi(GPGO):\n",
        "    n_start = n_start_AcqFunc\n",
        "\n",
        "    def __init__(self, surrogate, acquisition, f, parameter_dict, n_jobs=1):\n",
        "        self.GP = surrogate\n",
        "        self.A = acquisition\n",
        "        self.f = f\n",
        "        self.parameters = parameter_dict\n",
        "        self.n_jobs = n_jobs\n",
        "\n",
        "        self.parameter_key = list(parameter_dict.keys())\n",
        "        self.parameter_value = list(parameter_dict.values())\n",
        "        self.parameter_type = [p[0] for p in self.parameter_value]\n",
        "        self.parameter_range = [p[1] for p in self.parameter_value]\n",
        "\n",
        "        self.history = []\n",
        "        self.header =   'Evaluation \\t Proposed point \\t  Current eval. \\t  Best eval. \\t        Exact EI: StdDev. x \\t Approx EI: StdDev. x '\n",
        "        self.template = '{:3}\\t {}\\t {:3}\\t {:3}\\t {:3}\\t {:3}'\n",
        " \n",
        "    def acqfuncExact(self, xnew, n_start=n_start_AcqFunc):\n",
        "        new_mean, new_var = self.GP.predict(xnew, return_std=True)\n",
        "        new_std = np.sqrt(new_var + eps)\n",
        "        dm, ds = self.GP.AcqGrad(xnew)\n",
        "        f, df = self.A.d_eval(y_global_orig, new_mean, new_std, ds=ds, dm=dm)\n",
        "\n",
        "        return -f, -df\n",
        "   \n",
        "    def acqfuncApprox(self, xnew, n_start=n_start_AcqFunc):\n",
        "        new_mean, new_var = self.GP.predict(xnew, return_std=True)\n",
        "        new_std = np.sqrt(new_var + eps)\n",
        "        dm, ds = self.GP.AcqGrad(xnew)\n",
        "        f, df = self.A.d_eval(y_global_orig, new_mean, new_std, ds=ds, dm=dm)\n",
        "\n",
        "        return -f\n",
        "   \n",
        "    def _optimizeAcq(self, method='L-BFGS-B', n_start=n_start_AcqFunc):\n",
        "        \n",
        "        start_points_dict = [self._sampleParam() for i in range(n_start)]\n",
        "        start_points_arr = np.array([list(s.values())\n",
        "                                     for s in start_points_dict])\n",
        "        x_best = np.empty((n_start, len(self.parameter_key)))\n",
        "        f_best = np.empty((n_start,))\n",
        "        opt = Parallel(n_jobs=self.n_jobs)(delayed(minimize)(self.acqfuncApprox,\n",
        "                                                                 x0=start_point,\n",
        "                                                                 method=method,\n",
        "                                                                 jac = False,\n",
        "                                                                 bounds=self.parameter_range) for start_point in\n",
        "                                               start_points_arr)\n",
        "        x_best = np.array([res.x for res in opt])\n",
        "        f_best = np.array([np.atleast_1d(res.fun)[0] for res in opt])\n",
        "        f_best_min = min(f_best)\n",
        "\n",
        "        self.x_best = x_best\n",
        "        self.f_best = f_best\n",
        "        self.f_best_min = f_best_min\n",
        "        self.x_best_std = np.std(x_best)\n",
        "        self.best = x_best[np.argmin(f_best)]\n",
        "        self.start_points_arr = start_points_arr        \n",
        "        self.history.append(self.x_best_std)\n",
        "\n",
        "        x_best_exact = np.empty((n_start, len(self.parameter_key)))\n",
        "        f_best_exact = np.empty((n_start,))\n",
        "        opt_exact = Parallel(n_jobs=self.n_jobs)(delayed(minimize)(self.acqfuncExact,\n",
        "                                                                 x0=start_point,\n",
        "                                                                 method=method,\n",
        "                                                                 jac = True,\n",
        "                                                                 bounds=self.parameter_range) for start_point in\n",
        "                                               start_points_arr)\n",
        "        x_best_exact = np.array([res.x for res in opt_exact])\n",
        "        f_best_exact = np.array([np.atleast_1d(res.fun)[0] for res in opt_exact])\n",
        "        f_best_min_exact = min(f_best_exact)\n",
        "\n",
        "        self.x_best_exact = x_best_exact\n",
        "        self.f_best_exact = f_best_exact\n",
        "        self.f_best_min_exact = f_best_min_exact\n",
        "        self.x_best_std_exact = np.std(x_best_exact)\n",
        "        self.best_exact = x_best_exact[np.argmin(f_best_exact)]\n",
        "        self.start_points_arr = start_points_arr\n",
        "        self.history.append(self.x_best_std_exact)\n",
        "\n",
        "    def _printInit(self):\n",
        "        print(self.header)\n",
        "        for init_eval in range(self.init_evals):\n",
        "            print(self.template.format('init', self.GP.X[init_eval], inverse * self.GP.y[init_eval], inverse * self.tau, '', ''))\n",
        "      \n",
        "    def _printCurrent(self):\n",
        "        OKGREEN = '\\033[92m'\n",
        "        ENDC = '\\033[0m'\n",
        "        BOLD = '\\033[1m'\n",
        "        eval = str(len(self.GP.y) - self.init_evals)\n",
        "        proposed = str(self.best)\n",
        "        curr_eval = str(inverse * self.GP.y[-1])\n",
        "        curr_best = str(inverse * self.tau)\n",
        "        min_acqfunc = str(self.f_best_min)\n",
        "        min_acqfunc_exact = str(self.f_best_min_exact)\n",
        "        x_best_std = str(self.x_best_std)\n",
        "        x_best_std_exact = str(self.x_best_std_exact)\n",
        "        if float(curr_eval) <= float(curr_best):\n",
        "            eval = BOLD + OKGREEN + eval + ENDC\n",
        "            proposed = BOLD + OKGREEN + proposed + ENDC\n",
        "            curr_eval = BOLD + OKGREEN + curr_eval + ENDC\n",
        "            curr_best = BOLD + OKGREEN + curr_best + ENDC\n",
        "            x_best_std = BOLD + OKGREEN + x_best_std + ENDC\n",
        "            x_best_std_exact = BOLD + OKGREEN + x_best_std_exact + ENDC\n",
        "        print(self.template.format(eval, proposed, curr_eval, curr_best, x_best_std_exact, x_best_std))\n",
        "        \n",
        "    def run(self, max_iter=10, init_evals=3, resume=False):\n",
        "        \n",
        "        if not resume:\n",
        "            self.init_evals = init_evals\n",
        "            self._firstRun(self.init_evals)\n",
        "            self._printInit()\n",
        "        for iteration in range(max_iter):\n",
        "            self._optimizeAcq()\n",
        "            self.updateGP()\n",
        "            self._printCurrent()\n"
      ]
    },
    {
      "cell_type": "code",
      "execution_count": 10,
      "metadata": {
        "id": "b_B-w81BJxKN"
      },
      "outputs": [],
      "source": [
        "## dGPGO:\n",
        "\n",
        "class dGPGO(GPGO):\n",
        "    n_start = n_start_AcqFunc\n",
        "\n",
        "    def __init__(self, surrogate, acquisition, f, parameter_dict, n_jobs=1):\n",
        "        self.GP = surrogate\n",
        "        self.A = acquisition\n",
        "        self.f = f\n",
        "        self.parameters = parameter_dict\n",
        "        self.n_jobs = n_jobs\n",
        "\n",
        "        self.parameter_key = list(parameter_dict.keys())\n",
        "        self.parameter_value = list(parameter_dict.values())\n",
        "        self.parameter_type = [p[0] for p in self.parameter_value]\n",
        "        self.parameter_range = [p[1] for p in self.parameter_value]\n",
        "\n",
        "        self.history = []\n",
        "        self.header =   'Evaluation \\t Proposed point \\t  Current eval. \\t  Best eval. \\t        Exact EI: StdDev. x \\t Approx EI: StdDev. x '\n",
        "        self.template = '{:3}\\t {}\\t {:3}\\t {:3}\\t {:3}\\t {:3}'\n",
        "\n",
        "    def acqfuncExact(self, xnew, n_start=n_start_AcqFunc):\n",
        "        new_mean, new_var = self.GP.predict(xnew, return_std=True)\n",
        "        new_std = np.sqrt(new_var + eps)\n",
        "        dm, ds = self.GP.AcqGrad(xnew)\n",
        "        f, df = self.A.d_eval(y_global_orig, new_mean, new_std, ds=ds, dm=dm)\n",
        "\n",
        "        return -f, -df\n",
        "   \n",
        "    def acqfuncApprox(self, xnew, n_start=n_start_AcqFunc):\n",
        "        new_mean, new_var = self.GP.predict(xnew, return_std=True)\n",
        "        new_std = np.sqrt(new_var + eps)\n",
        "        dm, ds = self.GP.AcqGrad(xnew)\n",
        "        f, df = self.A.d_eval(y_global_orig, new_mean, new_std, ds=ds, dm=dm)\n",
        "\n",
        "        return -f\n",
        "\n",
        "    def d_optimizeAcq(self, method='L-BFGS-B', n_start=n_start_AcqFunc):\n",
        "        start_points_dict = [self._sampleParam() for i in range(n_start)]\n",
        "        start_points_arr = np.array([list(s.values())\n",
        "                                     for s in start_points_dict])\n",
        "        x_best = np.empty((n_start, len(self.parameter_key)))\n",
        "        f_best = np.empty((n_start,))\n",
        "        opt = Parallel(n_jobs=self.n_jobs)(delayed(minimize)(self.acqfuncExact,\n",
        "                                                                 x0=start_point,\n",
        "                                                                 method=method,\n",
        "                                                                 jac = True,\n",
        "                                                                 bounds=self.parameter_range) for start_point in\n",
        "                                               start_points_arr)\n",
        "        x_best = np.array([res.x for res in opt])\n",
        "        f_best = np.array([np.atleast_1d(res.fun)[0] for res in opt])\n",
        "        f_best_min = min(f_best)\n",
        "\n",
        "        self.x_best = x_best\n",
        "        self.f_best = f_best\n",
        "        self.f_best_min = f_best_min\n",
        "        self.x_best_std = np.std(x_best)\n",
        "        self.best = x_best[np.argmin(f_best)]\n",
        "        self.start_points_arr = start_points_arr\n",
        "        self.history.append(self.x_best_std)\n",
        "\n",
        "        x_best_approx = np.empty((n_start, len(self.parameter_key)))\n",
        "        f_best_approx = np.empty((n_start,))\n",
        "        opt_approx = Parallel(n_jobs=self.n_jobs)(delayed(minimize)(self.acqfuncApprox,\n",
        "                                                                 x0=start_point,\n",
        "                                                                 method=method,\n",
        "                                                                 jac = False,\n",
        "                                                                 bounds=self.parameter_range) for start_point in\n",
        "                                               start_points_arr)\n",
        "        x_best_approx = np.array([res.x for res in opt_approx])\n",
        "        f_best_approx = np.array([np.atleast_1d(res.fun)[0] for res in opt_approx])\n",
        "        f_best_min_approx = min(f_best_approx)\n",
        "\n",
        "        self.x_best_approx = x_best_approx\n",
        "        self.f_best_approx = f_best_approx\n",
        "        self.f_best_min_approx = f_best_min_approx\n",
        "        self.x_best_std_approx = np.std(x_best_approx)\n",
        "        self.best_approx = x_best_approx[np.argmin(f_best_approx)]\n",
        "        self.start_points_arr = start_points_arr\n",
        "        self.history.append(self.x_best_std_approx)\n",
        "    \n",
        "    def _printInit(self):\n",
        "        print(self.header)\n",
        "        for init_eval in range(self.init_evals):\n",
        "            print(self.template.format('init', self.GP.X[init_eval], inverse * self.GP.y[init_eval], inverse * self.tau, '', ''))\n",
        "      \n",
        "    def _printCurrent(self):\n",
        "        OKGREEN = '\\033[92m'\n",
        "        ENDC = '\\033[0m'\n",
        "        BOLD = '\\033[1m'\n",
        "        eval = str(len(self.GP.y) - self.init_evals)\n",
        "        proposed = str(self.best)\n",
        "        curr_eval = str(inverse * self.GP.y[-1])\n",
        "        curr_best = str(inverse * self.tau)\n",
        "        min_acqfunc = str(self.f_best_min)\n",
        "        min_acqfunc_approx = str(self.f_best_min_approx)\n",
        "        x_best_std = str(self.x_best_std)\n",
        "        x_best_std_approx = str(self.x_best_std_approx)\n",
        "        if float(curr_eval) <= float(curr_best):\n",
        "            eval = BOLD + OKGREEN + eval + ENDC\n",
        "            proposed = BOLD + OKGREEN + proposed + ENDC\n",
        "            curr_eval = BOLD + OKGREEN + curr_eval + ENDC\n",
        "            curr_best = BOLD + OKGREEN + curr_best + ENDC\n",
        "            x_best_std = BOLD + OKGREEN + x_best_std + ENDC\n",
        "            x_best_std_approx = BOLD + OKGREEN + x_best_std_approx + ENDC\n",
        "        print(self.template.format(eval, proposed, curr_eval, curr_best, x_best_std, x_best_std_approx))\n",
        "\n",
        "    def run(self, max_iter=10, init_evals=3, resume=False):\n",
        "        \n",
        "        if not resume:\n",
        "            self.init_evals = init_evals\n",
        "            self._firstRun(self.init_evals)\n",
        "            self._printInit()\n",
        "        for iteration in range(max_iter):\n",
        "            self.d_optimizeAcq()\n",
        "            self.updateGP()\n",
        "            self._printCurrent()\n"
      ]
    },
    {
      "cell_type": "code",
      "execution_count": 11,
      "metadata": {
        "id": "qXIKGuXVGEg2"
      },
      "outputs": [],
      "source": [
        "###Reproducible set-seeds:\n",
        "\n",
        "run_num_1 = 1\n",
        "run_num_2 = 2\n",
        "run_num_3 = 3\n",
        "run_num_4 = 4\n",
        "run_num_5 = 5\n",
        "run_num_6 = 6\n",
        "run_num_7 = 7\n",
        "run_num_8 = 8\n",
        "run_num_9 = 9\n",
        "run_num_10 = 10\n",
        "run_num_11 = 11\n",
        "run_num_12 = 12\n",
        "run_num_13 = 13\n",
        "run_num_14 = 14\n",
        "run_num_15 = 15\n",
        "run_num_16 = 16\n",
        "run_num_17 = 17\n",
        "run_num_18 = 18\n",
        "run_num_19 = 19\n",
        "run_num_20 = 20\n"
      ]
    },
    {
      "cell_type": "code",
      "execution_count": 12,
      "metadata": {
        "colab": {
          "base_uri": "https://localhost:8080/"
        },
        "id": "JEhagQmnTVIK",
        "outputId": "281db071-1665-490a-96ae-1eb3abb752b6"
      },
      "outputs": [
        {
          "output_type": "execute_result",
          "data": {
            "text/plain": [
              "1659632581.0825388"
            ]
          },
          "metadata": {},
          "execution_count": 12
        }
      ],
      "source": [
        "start_approx = time.time()\n",
        "start_approx\n"
      ]
    },
    {
      "cell_type": "code",
      "execution_count": 13,
      "metadata": {
        "colab": {
          "base_uri": "https://localhost:8080/"
        },
        "id": "aH0YSTXufD1v",
        "outputId": "0f664667-dd09-42fe-82b7-fc88149bf1d7"
      },
      "outputs": [
        {
          "output_type": "stream",
          "name": "stdout",
          "text": [
            "Evaluation \t Proposed point \t  Current eval. \t  Best eval. \t        Exact EI: StdDev. x \t Approx EI: StdDev. x \n",
            "init\t [-0.74680196  1.98292044]\t 6.597029498756062\t 6.597029498756062\t    \t    \n",
            "init\t [-4.49897063 -1.77900685]\t 1305.4710589552556\t 6.597029498756062\t    \t    \n",
            "init\t [-3.17919698 -3.66895265]\t 28173.776013477825\t 6.597029498756062\t    \t    \n",
            "init\t [-2.8236581  -1.38995346]\t 237.9931764117774\t 6.597029498756062\t    \t    \n",
            "init\t [-0.92909273  0.34935061]\t 26.1790631757263\t 6.597029498756062\t    \t    \n",
            "1  \t [-2.52377985 -0.50196281]\t 75.01150654185074\t 6.597029498756062\t 3.5373601487973314\t 3.699840160494858\n",
            "2  \t [4.5 4.5]\t 174813.36328125\t 6.597029498756062\t 2.4153221173397013\t 3.369250230222737\n",
            "3  \t [-2.50791041 -0.55066228]\t 75.84107707871384\t 6.597029498756062\t 2.6952347730946316\t 3.6936070617293884\n",
            "4  \t [ 4.5 -4.5]\t 178131.83203125\t 6.597029498756062\t 2.833750087245909\t 3.904474022127665\n",
            "5  \t [-4.5  4.5]\t 169680.83203125\t 6.597029498756062\t 2.22096631314422\t 3.1742299351920717\n",
            "\u001b[1m\u001b[92m6\u001b[0m\t \u001b[1m\u001b[92m[ 1.96143235 -0.01633148]\u001b[0m\t \u001b[1m\u001b[92m0.7673923310919034\u001b[0m\t \u001b[1m\u001b[92m0.7673923310919034\u001b[0m\t \u001b[1m\u001b[92m2.395868033930016\u001b[0m\t \u001b[1m\u001b[92m2.030996878883584\u001b[0m\n",
            "7  \t [ 0.85471956 -1.25701066]\t 7.728845249178292\t 0.7673923310919034\t 2.4052879544689523\t 1.9107759943277698\n",
            "8  \t [2.71604958 0.0376513 ]\t 1.4624128117003434\t 0.7673923310919034\t 2.8765046479808625\t 2.4315261359323843\n",
            "9  \t [1.36269095 0.85309971]\t 9.665534535592862\t 0.7673923310919034\t 2.5820975603699527\t 2.1522467373701275\n",
            "10 \t [ 3.00132722 -0.03710299]\t 3.3007929702093417\t 0.7673923310919034\t 2.7635550661313544\t 2.715614885152446\n",
            "11 \t [0.02068822 3.19575801]\t 19.10018433918117\t 0.7673923310919034\t 1.9178541017095765\t 1.843627408084243\n",
            "12 \t [ 2.59449153 -0.13436662]\t 2.171732450280984\t 0.7673923310919034\t 2.592046539691555\t 1.6781018321770038\n",
            "13 \t [ 2.64501819 -0.10370346]\t 2.1493601186012987\t 0.7673923310919034\t 1.8045926061479471\t 1.764079102212682\n",
            "14 \t [ 2.65654976 -0.09481871]\t 2.1312808888904407\t 0.7673923310919034\t 2.4942790938425805\t 2.0099353196247898\n",
            "15 \t [4.50000000e+00 2.40932671e-03]\t 17.513072943446105\t 0.7673923310919034\t 2.215468416543162\t 2.099991610226632\n",
            "16 \t [ 2.26992978 -0.27115749]\t 2.0370240693401827\t 0.7673923310919034\t 1.6467522123712217\t 1.6116392054251576\n",
            "17 \t [ 2.30200994 -0.23895488]\t 1.91946691919907\t 0.7673923310919034\t 2.3132306781679706\t 2.0643979603240936\n",
            "18 \t [ 2.31788319 -0.22306332]\t 1.8634378382557713\t 0.7673923310919034\t 2.5905077825959255\t 2.4139622914181578\n",
            "19 \t [ 2.32724296 -0.21362192]\t 1.8305190772802495\t 0.7673923310919034\t 2.6502985376615973\t 1.8003254444312624\n",
            "20 \t [ 2.33327219 -0.20773289]\t 1.8106860640329296\t 0.7673923310919034\t 2.3673479238287807\t 1.6001437381965937\n"
          ]
        }
      ],
      "source": [
        "### ESTIMATED GP EI GRADIENTS\n",
        "\n",
        "np.random.seed(run_num_1)\n",
        "surrogate_approx_1 = dGaussianProcess(cov_func, optimize=opt)\n",
        "\n",
        "approx_1 = GPGO_multi(surrogate_approx_1, Acquisition_grad(util), objfunc, param)\n",
        "approx_1.run(init_evals=n_init, max_iter=iters)\n"
      ]
    },
    {
      "cell_type": "code",
      "execution_count": 14,
      "metadata": {
        "id": "wTxsSZxFGBB5",
        "colab": {
          "base_uri": "https://localhost:8080/"
        },
        "outputId": "b1b5de6e-8feb-42d7-934b-a9008de4d144"
      },
      "outputs": [
        {
          "output_type": "stream",
          "name": "stdout",
          "text": [
            "Evaluation \t Proposed point \t  Current eval. \t  Best eval. \t        Exact EI: StdDev. x \t Approx EI: StdDev. x \n",
            "init\t [-0.57604588 -4.26666391]\t 2377.8441741808733\t 8.81624267140378\t    \t    \n",
            "init\t [ 0.4469623  -0.58209847]\t 8.81624267140378\t 8.81624267140378\t    \t    \n",
            "init\t [-0.71668978 -1.52698661]\t 47.3742628518178\t 8.81624267140378\t    \t    \n",
            "init\t [-2.65816229  1.0734387 ]\t 9.08861590265506\t 8.81624267140378\t    \t    \n",
            "init\t [-1.80310794 -2.09855452]\t 510.2220943696988\t 8.81624267140378\t    \t    \n",
            "1  \t [ 0.24449309 -0.612067  ]\t 11.023805243478565\t 8.81624267140378\t 3.6019591153847283\t 3.5664030485542684\n",
            "2  \t [4.5 4.5]\t 174813.36328125\t 8.81624267140378\t 2.296275788546573\t 3.1141739421976644\n",
            "3  \t [ 4.5        -2.33052086]\t 4135.928364499358\t 8.81624267140378\t 2.9626648182479673\t 3.9592094631074644\n",
            "4  \t [-4.5  4.5]\t 169680.83203125\t 8.81624267140378\t 2.462123078848682\t 3.5616811319462665\n",
            "5  \t [-1.99029267  0.75765933]\t 27.585677604005745\t 8.81624267140378\t 2.4744030874968685\t 2.6123585163786904\n",
            "6  \t [-4.5        -0.29169891]\t 146.3844691899787\t 8.81624267140378\t 3.118103738079498\t 3.1244563141240107\n",
            "7  \t [-4.5 -4.5]\t 181853.61328125\t 8.81624267140378\t 2.815922985960922\t 3.104790660771462\n",
            "8  \t [0.06735138 2.23810005]\t 19.83168590214691\t 8.81624267140378\t 1.5064585049635657\t 2.119765479442205\n",
            "\u001b[1m\u001b[92m9\u001b[0m\t \u001b[1m\u001b[92m[1.65678454 0.55907255]\u001b[0m\t \u001b[1m\u001b[92m3.4084439658775905\u001b[0m\t \u001b[1m\u001b[92m3.4084439658775905\u001b[0m\t \u001b[1m\u001b[92m1.4363818662489245\u001b[0m\t \u001b[1m\u001b[92m1.8632317372578453\u001b[0m\n",
            "10 \t [1.65500392 0.55841488]\t 3.409126759135454\t 3.4084439658775905\t 1.9184741650580988\t 2.0020934272501836\n",
            "11 \t [1.65423059 0.55812361]\t 3.4093714875615557\t 3.4084439658775905\t 1.470445812315655\t 2.3580984567669514\n",
            "12 \t [1.65380146 0.55795835]\t 3.4094711436895464\t 3.4084439658775905\t 1.3417301835870565\t 2.0333113207740277\n",
            "13 \t [1.65353031 0.55785173]\t 3.4095117288347137\t 3.4084439658775905\t 1.6783484504057302\t 2.5121207446045726\n",
            "14 \t [1.65334434 0.55777716]\t 3.409524794697891\t 3.4084439658775905\t 1.6807871529994822\t 2.737877111299542\n",
            "15 \t [1.6532094  0.55772213]\t 3.409524728509421\t 3.4084439658775905\t 1.5739265689371793\t 2.281144668067389\n",
            "16 \t [1.65310722 0.55767984]\t 3.4095182276685083\t 3.4084439658775905\t 1.3204995442202312\t 2.380288475688493\n",
            "17 \t [1.6530274  0.55764635]\t 3.409508463484145\t 3.4084439658775905\t 1.7355454726989084\t 1.8460592938288187\n",
            "18 \t [1.65296345 0.55761911]\t 3.4094963591370337\t 3.4084439658775905\t 1.3857776468876084\t 1.8312498140207036\n",
            "19 \t [1.65291116 0.5575966 ]\t 3.4094840511024365\t 3.4084439658775905\t 1.5190169175236499\t 2.590223443593772\n",
            "20 \t [1.6528671  0.55757761]\t 3.4094734071413724\t 3.4084439658775905\t 1.9033039571629318\t 2.944650093056814\n"
          ]
        }
      ],
      "source": [
        "### ESTIMATED GP EI GRADIENTS\n",
        "\n",
        "np.random.seed(run_num_2)\n",
        "surrogate_approx_2 = dGaussianProcess(cov_func, optimize=opt)\n",
        "\n",
        "approx_2 = GPGO_multi(surrogate_approx_2, Acquisition_grad(util), objfunc, param)\n",
        "approx_2.run(init_evals=n_init, max_iter=iters)\n"
      ]
    },
    {
      "cell_type": "code",
      "execution_count": 15,
      "metadata": {
        "id": "-dgzIrUIGCGT",
        "colab": {
          "base_uri": "https://localhost:8080/"
        },
        "outputId": "51bbd69b-4d2a-4c19-af8f-6e342b26eaff"
      },
      "outputs": [
        {
          "output_type": "stream",
          "name": "stdout",
          "text": [
            "Evaluation \t Proposed point \t  Current eval. \t  Best eval. \t        Exact EI: StdDev. x \t Approx EI: StdDev. x \n",
            "init\t [0.45718112 1.8733304 ]\t 41.912714742005974\t 41.912714742005974\t    \t    \n",
            "init\t [-1.88185735  0.09744845]\t 47.451188393399434\t 41.912714742005974\t    \t    \n",
            "init\t [3.53652259 3.5666378 ]\t 27475.816689924115\t 41.912714742005974\t    \t    \n",
            "init\t [-3.36973221 -2.6348141 ]\t 5079.048973002421\t 41.912714742005974\t    \t    \n",
            "init\t [-4.03679517 -0.53271141]\t 138.4086524103332\t 41.912714742005974\t    \t    \n",
            "\u001b[1m\u001b[92m1\u001b[0m\t \u001b[1m\u001b[92m[-4.5         1.09809205]\u001b[0m\t \u001b[1m\u001b[92m4.23422618144049\u001b[0m\t \u001b[1m\u001b[92m4.23422618144049\u001b[0m\t \u001b[1m\u001b[92m2.1353816192907713\u001b[0m\t \u001b[1m\u001b[92m3.559211542537148\u001b[0m\n",
            "2  \t [ 4.5 -4.5]\t 178131.83203125\t 4.23422618144049\t 2.5932551846041108\t 3.906181648246937\n",
            "3  \t [-2.98861817  4.5       ]\t 74278.06793091736\t 4.23422618144049\t 2.8684884813001115\t 3.581846912879928\n",
            "4  \t [-4.5         0.64766001]\t 68.00291134363937\t 4.23422618144049\t 2.3439898166601205\t 2.306788858391285\n",
            "5  \t [ 0.9495748  -1.21564971]\t 7.67570683958641\t 4.23422618144049\t 3.109921858285748\t 2.4914283247640423\n",
            "6  \t [-0.06155224 -4.5       ]\t 73.33001372194924\t 4.23422618144049\t 2.8099733762221146\t 2.5858241350773334\n",
            "\u001b[1m\u001b[92m7\u001b[0m\t \u001b[1m\u001b[92m[ 2.46076492 -0.43319239]\u001b[0m\t \u001b[1m\u001b[92m4.172002327531293\u001b[0m\t \u001b[1m\u001b[92m4.172002327531293\u001b[0m\t \u001b[1m\u001b[92m2.577658807540084\u001b[0m\t \u001b[1m\u001b[92m2.0775436783158305\u001b[0m\n",
            "8  \t [ 4.5        -0.20375921]\t 23.25873475898492\t 4.172002327531293\t 2.974726342242056\t 2.8079220370511155\n",
            "\u001b[1m\u001b[92m9\u001b[0m\t \u001b[1m\u001b[92m[ 1.91299243 -0.36520652]\u001b[0m\t \u001b[1m\u001b[92m1.9693135329392144\u001b[0m\t \u001b[1m\u001b[92m1.9693135329392144\u001b[0m\t \u001b[1m\u001b[92m2.554561793902261\u001b[0m\t \u001b[1m\u001b[92m1.9394614662196787\u001b[0m\n",
            "\u001b[1m\u001b[92m10\u001b[0m\t \u001b[1m\u001b[92m[ 1.91030435 -0.36165364]\u001b[0m\t \u001b[1m\u001b[92m1.949945538783971\u001b[0m\t \u001b[1m\u001b[92m1.949945538783971\u001b[0m\t \u001b[1m\u001b[92m3.2455092635312637\u001b[0m\t \u001b[1m\u001b[92m2.6852651896747277\u001b[0m\n",
            "11 \t [ 1.91080016 -0.36476275]\t 1.965579482495023\t 1.949945538783971\t 2.8124779009180876\t 2.230316843924332\n",
            "12 \t [ 1.91281886 -0.36583171]\t 1.9722930319028957\t 1.949945538783971\t 2.853998440069124\t 2.580236705067005\n",
            "13 \t [ 1.91459103 -0.36785073]\t 1.983647053136613\t 1.949945538783971\t 2.6228411247125734\t 2.3468820993123303\n",
            "14 \t [ 1.91681936 -0.36677516]\t 1.979926479459631\t 1.949945538783971\t 2.297126081813692\t 2.4868694526314656\n",
            "15 \t [ 1.91819385 -0.3676836 ]\t 1.9855261422110535\t 1.949945538783971\t 3.1960218335497426\t 2.1379781169514787\n",
            "16 \t [ 1.91952746 -0.36781935]\t 1.9872393773265844\t 1.949945538783971\t 2.9241780995607947\t 2.7212591124191645\n",
            "17 \t [ 1.92080628 -0.36707441]\t 1.9844842292991844\t 1.949945538783971\t 2.4401651068127777\t 2.170879540273954\n",
            "18 \t [ 1.92171753 -0.36702961]\t 1.9849740891208136\t 1.949945538783971\t 3.1911803756897594\t 2.0399128217909817\n",
            "19 \t [ 1.92227419 -0.36814851]\t 1.9910692806092232\t 1.949945538783971\t 3.025623697336089\t 2.452783946388075\n",
            "20 \t [ 1.92167326 -0.3730335 ]\t 2.015434363961336\t 1.949945538783971\t 2.4440547367688827\t 2.0691779537992003\n"
          ]
        }
      ],
      "source": [
        "### ESTIMATED GP EI GRADIENTS\n",
        "\n",
        "np.random.seed(run_num_3)\n",
        "surrogate_approx_3 = dGaussianProcess(cov_func, optimize=opt)\n",
        "\n",
        "approx_3 = GPGO_multi(surrogate_approx_3, Acquisition_grad(util), objfunc, param)\n",
        "approx_3.run(init_evals=n_init, max_iter=iters)\n"
      ]
    },
    {
      "cell_type": "code",
      "execution_count": 16,
      "metadata": {
        "id": "hOtG-2sCGCKS",
        "colab": {
          "base_uri": "https://localhost:8080/"
        },
        "outputId": "ed4e2a22-4612-4d72-9af8-dd09a6087980"
      },
      "outputs": [
        {
          "output_type": "stream",
          "name": "stdout",
          "text": [
            "Evaluation \t Proposed point \t  Current eval. \t  Best eval. \t        Exact EI: StdDev. x \t Approx EI: StdDev. x \n",
            "init\t [4.20326855 0.42509024]\t 3.8409856613776237\t 3.8409856613776237\t    \t    \n",
            "init\t [4.25415924 1.93334394]\t 1070.6518137934977\t 3.8409856613776237\t    \t    \n",
            "init\t [ 1.77955942 -2.55519454]\t 1001.3529311398922\t 3.8409856613776237\t    \t    \n",
            "init\t [ 4.28647009 -4.4439277 ]\t 150069.47442764963\t 3.8409856613776237\t    \t    \n",
            "init\t [-2.22315874 -0.58687621]\t 67.08861688517413\t 3.8409856613776237\t    \t    \n",
            "1  \t [-4.5  4.5]\t 169680.83203125\t 3.8409856613776237\t 3.3802726320167187\t 4.015189705403431\n",
            "2  \t [ 4.10053857 -0.28327088]\t 18.929337909342156\t 3.8409856613776237\t 3.952399360380248\t 2.932935685277535\n",
            "3  \t [-4.5 -4.5]\t 181853.61328125\t 3.8409856613776237\t 4.094948026115957\t 3.150831196118048\n",
            "4  \t [0.88261034 4.5       ]\t 7143.198445746991\t 3.8409856613776237\t 1.5443698480443202\t 2.3639791821659943\n",
            "5  \t [0.31779761 0.44253227]\t 11.178712852002011\t 3.8409856613776237\t 3.1250875951606893\t 2.1469710901622103\n",
            "6  \t [ 4.5        -0.28020638]\t 25.649593646859927\t 3.8409856613776237\t 2.9163912525799565\t 1.9601339155328625\n",
            "7  \t [1.09158996 0.46370574]\t 5.47425531133179\t 3.8409856613776237\t 2.342850905264927\t 1.7205237301180938\n",
            "8  \t [1.10553362 0.46315144]\t 5.3852140077771296\t 3.8409856613776237\t 2.9607424166395813\t 2.0563331251300982\n",
            "9  \t [1.1113605  0.46289118]\t 5.34798840567051\t 3.8409856613776237\t 2.7949555732832145\t 1.1239680450523126\n",
            "10 \t [1.114623   0.46273741]\t 5.327136418808626\t 3.8409856613776237\t 2.6412500687811047\t 2.514078128087646\n",
            "11 \t [1.11675467 0.46263356]\t 5.313506510673284\t 3.8409856613776237\t 2.9724769217941702\t 2.0250581490368713\n",
            "12 \t [1.1182847  0.46255738]\t 5.303720909090485\t 3.8409856613776237\t 2.964567505978567\t 2.320599424184546\n",
            "13 \t [1.11945347 0.46249816]\t 5.2962435687540275\t 3.8409856613776237\t 2.803136474861385\t 1.7300931034415603\n",
            "14 \t [1.1203863  0.46245023]\t 5.290274176221778\t 3.8409856613776237\t 2.8606556056318797\t 2.4333580714161154\n",
            "15 \t [1.1211558  0.46241026]\t 5.2853489573160495\t 3.8409856613776237\t 2.649244433410011\t 1.5938501607176427\n",
            "16 \t [1.12180621 0.46237611]\t 5.281184854825867\t 3.8409856613776237\t 2.7939940922660353\t 1.907843153577785\n",
            "17 \t [1.12236698 0.46234644]\t 5.2775941413779694\t 3.8409856613776237\t 2.654428277087571\t 1.9476103469333088\n",
            "18 \t [1.12285811 0.46232025]\t 5.274448720125034\t 3.8409856613776237\t 2.71919479145724\t 2.1449089084159585\n",
            "19 \t [1.12329409 0.46229687]\t 5.271656237784377\t 3.8409856613776237\t 2.9007185815079874\t 2.320309202026572\n",
            "20 \t [1.12368502 0.46227575]\t 5.269151687053617\t 3.8409856613776237\t 2.577771987724267\t 1.6219709429532962\n"
          ]
        }
      ],
      "source": [
        "### ESTIMATED GP EI GRADIENTS\n",
        "\n",
        "np.random.seed(run_num_4)\n",
        "surrogate_approx_4 = dGaussianProcess(cov_func, optimize=opt)\n",
        "\n",
        "approx_4= GPGO_multi(surrogate_approx_4, Acquisition_grad(util), objfunc, param)\n",
        "approx_4.run(init_evals=n_init, max_iter=iters)\n"
      ]
    },
    {
      "cell_type": "code",
      "execution_count": 17,
      "metadata": {
        "id": "JF_SxcEvGCOl",
        "colab": {
          "base_uri": "https://localhost:8080/"
        },
        "outputId": "268b4333-fab8-420b-b1c4-51820e89089f"
      },
      "outputs": [
        {
          "output_type": "stream",
          "name": "stdout",
          "text": [
            "Evaluation \t Proposed point \t  Current eval. \t  Best eval. \t        Exact EI: StdDev. x \t Approx EI: StdDev. x \n",
            "init\t [-2.50206146  3.33659076]\t 8263.905568073349\t 0.311397019260738\t    \t    \n",
            "init\t [-2.6395276   3.76749817]\t 19560.15202528338\t 0.311397019260738\t    \t    \n",
            "init\t [-0.1042993   1.00569477]\t 14.186578993925806\t 0.311397019260738\t    \t    \n",
            "init\t [2.39317071 0.16576189]\t 0.311397019260738\t 0.311397019260738\t    \t    \n",
            "init\t [-1.82879549 -2.81050894]\t 2208.9823086257425\t 0.311397019260738\t    \t    \n",
            "1  \t [ 4.5 -4.5]\t 178131.83203125\t 0.311397019260738\t 3.7017287673178116\t 3.9794454816578075\n",
            "2  \t [4.5 4.5]\t 174813.36328125\t 0.311397019260738\t 3.9480046557243655\t 3.2626946886869916\n",
            "3  \t [-4.5       -0.0309332]\t 133.96168122835144\t 0.311397019260738\t 3.3916747944171717\t 3.579128039644266\n",
            "4  \t [ 4.50000000e+00 -7.70981099e-04]\t 17.59894149741398\t 0.311397019260738\t 3.094327192166009\t 3.203924924586672\n",
            "5  \t [ 1.58638848 -1.20583515]\t 15.857350171770749\t 0.311397019260738\t 3.199935639451972\t 3.0141280984201804\n",
            "6  \t [2.21741992 1.04131946]\t 16.948525234545045\t 0.311397019260738\t 3.156825919036387\t 3.022900729003072\n",
            "7  \t [-4.5 -4.5]\t 181853.61328125\t 0.311397019260738\t 2.6216191744111565\t 2.785873685177691\n",
            "8  \t [1.76914367 0.35152106]\t 1.4836133069561939\t 0.311397019260738\t 1.491484870802732\t 2.8725781670407877\n",
            "9  \t [1.84926158 0.31549317]\t 1.0920732381291856\t 0.311397019260738\t 1.5756233261645858\t 2.0526458031690105\n",
            "10 \t [1.85712732 0.31214015]\t 1.0583519524681866\t 0.311397019260738\t 1.6758407289162607\t 1.6262461889356745\n",
            "11 \t [1.86102351 0.31048775]\t 1.0419392257638924\t 0.311397019260738\t 1.6213108192244243\t 2.5275300363271405\n",
            "12 \t [1.86333996 0.30950944]\t 1.0322764296878284\t 0.311397019260738\t 1.7176240173846546\t 1.538060735822191\n",
            "13 \t [1.86485954 0.30887014]\t 1.0259784853282212\t 0.311397019260738\t 1.7564513406828324\t 2.00839006761859\n",
            "14 \t [1.86592236 0.30842461]\t 1.0215941302986162\t 0.311397019260738\t 1.7465892801900982\t 1.7438313195198867\n",
            "15 \t [1.86670105 0.30809928]\t 1.0183932659219368\t 0.311397019260738\t 1.4644496266279758\t 1.1612305181849212\n",
            "16 \t [1.86729131 0.30785347]\t 1.0159738857582563\t 0.311397019260738\t 1.9860285312949846\t 1.831156776211683\n",
            "17 \t [1.8677516  0.30766233]\t 1.0140915734532163\t 0.311397019260738\t 1.3758562239707954\t 1.2832552440356537\n",
            "18 \t [1.86811843 0.30751042]\t 1.0125944117673105\t 0.311397019260738\t 1.2974802831404675\t 1.6366522067046927\n",
            "19 \t [1.86841683 0.30738719]\t 1.0113786522916244\t 0.311397019260738\t 1.4018741825897156\t 1.7446352619516794\n",
            "20 \t [1.86866276 0.30728583]\t 1.010378016008929\t 0.311397019260738\t 1.9450169948305098\t 2.2421497417189347\n"
          ]
        }
      ],
      "source": [
        "### ESTIMATED GP EI GRADIENTS\n",
        "\n",
        "np.random.seed(run_num_5)\n",
        "surrogate_approx_5 = dGaussianProcess(cov_func, optimize=opt)\n",
        "\n",
        "approx_5 = GPGO_multi(surrogate_approx_5, Acquisition_grad(util), objfunc, param)\n",
        "approx_5.run(init_evals=n_init, max_iter=iters)\n"
      ]
    },
    {
      "cell_type": "code",
      "execution_count": 18,
      "metadata": {
        "id": "-kDxZtJsGCR3",
        "colab": {
          "base_uri": "https://localhost:8080/"
        },
        "outputId": "75500c01-717e-4869-d841-bd0563a12954"
      },
      "outputs": [
        {
          "output_type": "stream",
          "name": "stdout",
          "text": [
            "Evaluation \t Proposed point \t  Current eval. \t  Best eval. \t        Exact EI: StdDev. x \t Approx EI: StdDev. x \n",
            "init\t [ 3.53574136 -1.51218175]\t 273.3122030790333\t 10.038000709758428\t    \t    \n",
            "init\t [ 2.89106211 -4.12473037]\t 43803.250406689425\t 10.038000709758428\t    \t    \n",
            "init\t [-3.53108988  0.85546858]\t 29.828433746298536\t 10.038000709758428\t    \t    \n",
            "init\t [ 0.26835626 -0.73073314]\t 10.658925295067505\t 10.038000709758428\t    \t    \n",
            "init\t [-1.48132936  1.10267489]\t 10.038000709758428\t 10.038000709758428\t    \t    \n",
            "1  \t [4.28897718 3.03217734]\t 15404.22494396136\t 10.038000709758428\t 3.6294104516320145\t 3.6650924014878554\n",
            "2  \t [-4.5 -4.5]\t 181853.61328125\t 10.038000709758428\t 3.2639538536955364\t 3.9467175070786626\n",
            "3  \t [-4.5  4.5]\t 169680.83203125\t 10.038000709758428\t 2.746301821334601\t 3.5109462697271097\n",
            "4  \t [0.25898618 4.5       ]\t 732.383120490537\t 10.038000709758428\t 2.6089430033415395\t 2.8540627565568464\n",
            "5  \t [-1.66608115 -0.91386594]\t 59.30055887532697\t 10.038000709758428\t 2.2242910628069685\t 1.9539344710070485\n",
            "6  \t [0.73156086 0.96193086]\t 13.461774743754471\t 10.038000709758428\t 2.4116741818668332\t 2.8086289373975983\n",
            "\u001b[1m\u001b[92m7\u001b[0m\t \u001b[1m\u001b[92m[ 1.98165815 -0.13362122]\u001b[0m\t \u001b[1m\u001b[92m1.0572631924675384\u001b[0m\t \u001b[1m\u001b[92m1.0572631924675384\u001b[0m\t \u001b[1m\u001b[92m2.745970582104652\u001b[0m\t \u001b[1m\u001b[92m2.8643528459774963\u001b[0m\n",
            "8  \t [ 1.98556436 -0.13444388]\t 1.0591989491603182\t 1.0572631924675384\t 2.233387373990746\t 2.287864219078224\n",
            "9  \t [ 1.98578094 -0.13441189]\t 1.05906409803259\t 1.0572631924675384\t 2.1132246957073186\t 2.2605524442049467\n",
            "10 \t [-0.6987537  -3.97162644]\t 2308.24004958227\t 1.0572631924675384\t 2.511834633347903\t 2.913394675176825\n",
            "11 \t [ 3.8314009  -0.65378927]\t 28.57847820771122\t 1.0572631924675384\t 2.694714857568815\t 2.919000730314794\n",
            "12 \t [ 3.72270287 -0.65015282]\t 26.06556289518365\t 1.0572631924675384\t 2.2023962690221874\t 2.5641087778623395\n",
            "13 \t [-3.52853025  0.15732791]\t 90.09793281025324\t 1.0572631924675384\t 2.191736010833473\t 2.4446163771046794\n",
            "14 \t [ 3.8000098 -0.6751133]\t 29.20132653177267\t 1.0572631924675384\t 2.089939320650401\t 2.4218046942341975\n",
            "15 \t [ 2.67077864 -0.4262554 ]\t 5.400439787243914\t 1.0572631924675384\t 2.2706935280163063\t 2.418301506847667\n",
            "16 \t [ 1.96309455 -0.27407306]\t 1.5771769317065476\t 1.0572631924675384\t 2.0238565600236167\t 2.1652805981476293\n",
            "17 \t [ 4.5        -0.83985446]\t 67.43217991657517\t 1.0572631924675384\t 2.3901476332387235\t 2.529826291708625\n",
            "18 \t [ 2.81638086 -0.4609409 ]\t 7.055257143909508\t 1.0572631924675384\t 1.972491180719597\t 1.6859169811852528\n",
            "19 \t [ 2.78825118 -0.45458811]\t 6.714113004195546\t 1.0572631924675384\t 2.39949244844553\t 2.660742534075287\n",
            "20 \t [ 2.75945185 -0.44805796]\t 6.377663513829056\t 1.0572631924675384\t 2.3636711854714316\t 1.9103176515664986\n"
          ]
        }
      ],
      "source": [
        "### ESTIMATED GP EI GRADIENTS\n",
        "\n",
        "np.random.seed(run_num_6)\n",
        "surrogate_approx_6 = dGaussianProcess(cov_func, optimize=opt)\n",
        "\n",
        "approx_6 = GPGO_multi(surrogate_approx_6, Acquisition_grad(util), objfunc, param)\n",
        "approx_6.run(init_evals=n_init, max_iter=iters)\n"
      ]
    },
    {
      "cell_type": "code",
      "execution_count": 19,
      "metadata": {
        "id": "fKB8MCD_GCVI",
        "colab": {
          "base_uri": "https://localhost:8080/"
        },
        "outputId": "5369dea7-02fa-4f00-843c-38d26b887b07"
      },
      "outputs": [
        {
          "output_type": "stream",
          "name": "stdout",
          "text": [
            "Evaluation \t Proposed point \t  Current eval. \t  Best eval. \t        Exact EI: StdDev. x \t Approx EI: StdDev. x \n",
            "init\t [-3.8132254   2.51926913]\t 3321.1422834954587\t 2.9676923934097053\t    \t    \n",
            "init\t [-0.55431692  2.0111866 ]\t 2.9676923934097053\t 2.9676923934097053\t    \t    \n",
            "init\t [4.30190561 0.34646283]\t 6.32173172477085\t 2.9676923934097053\t    \t    \n",
            "init\t [ 0.01008417 -3.8515398 ]\t 11.971894461559128\t 2.9676923934097053\t    \t    \n",
            "init\t [-2.08404918e+00 -1.05749257e-03]\t 53.820317186435204\t 2.9676923934097053\t    \t    \n",
            "1  \t [0.37889368 2.10025002]\t 49.358120474219646\t 2.9676923934097053\t 3.114879731613999\t 3.7304074054439957\n",
            "2  \t [-4.5 -4.5]\t 181853.61328125\t 2.9676923934097053\t 4.199078945271438\t 4.430790544397555\n",
            "3  \t [ 4.5 -4.5]\t 178131.83203125\t 2.9676923934097053\t 2.4016205589248223\t 3.278572034604168\n",
            "4  \t [4.5 4.5]\t 174813.36328125\t 2.9676923934097053\t 2.7986402580914604\t 2.800019293494256\n",
            "\u001b[1m\u001b[92m5\u001b[0m\t \u001b[1m\u001b[92m[ 2.65201333e+00 -6.95726760e-04]\u001b[0m\t \u001b[1m\u001b[92m1.4937326431484028\u001b[0m\t \u001b[1m\u001b[92m1.4937326431484028\u001b[0m\t \u001b[1m\u001b[92m2.160371664909503\u001b[0m\t \u001b[1m\u001b[92m2.5069681089820923\u001b[0m\n",
            "6  \t [ 0.65414283 -1.08893351]\t 6.910302652548998\t 1.4937326431484028\t 2.316589906213198\t 2.916670409543372\n",
            "7  \t [2.96752339 0.01481324]\t 2.657758037008481\t 1.4937326431484028\t 1.9220108263076068\t 2.5051653236364633\n",
            "8  \t [-0.46582238  4.5       ]\t 1594.128670309091\t 1.4937326431484028\t 1.6256192894701222\t 2.556038874040225\n",
            "9  \t [-0.33659574  1.08744813]\t 13.346913503705203\t 1.4937326431484028\t 1.976036845931483\t 2.4689057574830686\n",
            "\u001b[1m\u001b[92m10\u001b[0m\t \u001b[1m\u001b[92m[2.65200816 0.01710459]\u001b[0m\t \u001b[1m\u001b[92m1.386382854346321\u001b[0m\t \u001b[1m\u001b[92m1.386382854346321\u001b[0m\t \u001b[1m\u001b[92m1.9699517030049154\u001b[0m\t \u001b[1m\u001b[92m2.4781067668002525\u001b[0m\n",
            "11 \t [2.71656826 0.01729695]\t 1.5932275430211023\t 1.386382854346321\t 1.6309180716097122\t 2.3348447209339898\n",
            "12 \t [2.77121523 0.01735235]\t 1.7882132503907346\t 1.386382854346321\t 2.1453117192932494\t 2.844736996775437\n",
            "13 \t [2.74769488 0.01729453]\t 1.7023528817026838\t 1.386382854346321\t 2.039299738946442\t 2.8221566946168797\n",
            "14 \t [2.84256698 0.01732904]\t 2.0700992734880614\t 1.386382854346321\t 1.6473585451239219\t 2.2345498068027356\n",
            "\u001b[1m\u001b[92m15\u001b[0m\t \u001b[1m\u001b[92m[2.4736417  0.01442869]\u001b[0m\t \u001b[1m\u001b[92m0.95244784819833\u001b[0m\t \u001b[1m\u001b[92m0.95244784819833\u001b[0m\t \u001b[1m\u001b[92m1.824198475061207\u001b[0m\t \u001b[1m\u001b[92m2.3001984502531565\u001b[0m\n",
            "16 \t [-1.2926865   2.26610121]\t 133.3710527181311\t 0.95244784819833\t 2.5308864337120536\t 2.7574869559643123\n",
            "\u001b[1m\u001b[92m17\u001b[0m\t \u001b[1m\u001b[92m[2.33873442 0.01325281]\u001b[0m\t \u001b[1m\u001b[92m0.7421954536649686\u001b[0m\t \u001b[1m\u001b[92m0.7421954536649686\u001b[0m\t \u001b[1m\u001b[92m1.804331302200949\u001b[0m\t \u001b[1m\u001b[92m2.53585734330886\u001b[0m\n",
            "\u001b[1m\u001b[92m18\u001b[0m\t \u001b[1m\u001b[92m[2.26709901 0.01079692]\u001b[0m\t \u001b[1m\u001b[92m0.6798650085481781\u001b[0m\t \u001b[1m\u001b[92m0.6798650085481781\u001b[0m\t \u001b[1m\u001b[92m1.8944122083614598\u001b[0m\t \u001b[1m\u001b[92m2.760276557509194\u001b[0m\n",
            "\u001b[1m\u001b[92m19\u001b[0m\t \u001b[1m\u001b[92m[2.21927318 0.00865668]\u001b[0m\t \u001b[1m\u001b[92m0.6556561102661066\u001b[0m\t \u001b[1m\u001b[92m0.6556561102661066\u001b[0m\t \u001b[1m\u001b[92m1.7469982191906739\u001b[0m\t \u001b[1m\u001b[92m2.35691091618741\u001b[0m\n",
            "\u001b[1m\u001b[92m20\u001b[0m\t \u001b[1m\u001b[92m[2.18725679 0.00695728]\u001b[0m\t \u001b[1m\u001b[92m0.6472067709955482\u001b[0m\t \u001b[1m\u001b[92m0.6472067709955482\u001b[0m\t \u001b[1m\u001b[92m1.9573435457018709\u001b[0m\t \u001b[1m\u001b[92m2.370723124410447\u001b[0m\n"
          ]
        }
      ],
      "source": [
        "### ESTIMATED GP EI GRADIENTS\n",
        "\n",
        "np.random.seed(run_num_7)\n",
        "surrogate_approx_7 = dGaussianProcess(cov_func, optimize=opt)\n",
        "\n",
        "approx_7 = GPGO_multi(surrogate_approx_7, Acquisition_grad(util), objfunc, param)\n",
        "approx_7.run(init_evals=n_init, max_iter=iters)\n"
      ]
    },
    {
      "cell_type": "code",
      "execution_count": 20,
      "metadata": {
        "id": "4unvifF-GCXp",
        "colab": {
          "base_uri": "https://localhost:8080/"
        },
        "outputId": "e9af4f2f-a033-4ddf-f528-42fcc2d05e45"
      },
      "outputs": [
        {
          "output_type": "stream",
          "name": "stdout",
          "text": [
            "Evaluation \t Proposed point \t  Current eval. \t  Best eval. \t        Exact EI: StdDev. x \t Approx EI: StdDev. x \n",
            "init\t [3.36086463 4.21686597]\t 66731.07602386779\t 1.8693348557707412\t    \t    \n",
            "init\t [3.32275086 0.27770122]\t 1.8693348557707412\t 1.8693348557707412\t    \t    \n",
            "init\t [-2.40544505 -4.39741076]\t 45883.361726150484\t 1.8693348557707412\t    \t    \n",
            "init\t [-0.62578064 -0.87883776]\t 26.39306084619828\t 1.8693348557707412\t    \t    \n",
            "init\t [ 0.20407204 -0.19447384]\t 11.649230998110728\t 1.8693348557707412\t    \t    \n",
            "1  \t [ 3.3414405  -0.43516187]\t 12.05441528400405\t 1.8693348557707412\t 2.427867271779839\t 3.4332266302877117\n",
            "2  \t [-4.5  4.5]\t 169680.83203125\t 1.8693348557707412\t 2.3687811653868147\t 4.1046921767316125\n",
            "3  \t [ 4.5 -4.5]\t 178131.83203125\t 1.8693348557707412\t 2.42602105979432\t 3.7256421827620927\n",
            "4  \t [-4.5        -0.29334425]\t 146.46518104554238\t 1.8693348557707412\t 2.9865414537107267\t 2.879360962918486\n",
            "\u001b[1m\u001b[92m5\u001b[0m\t \u001b[1m\u001b[92m[ 2.39298259 -0.17184859]\u001b[0m\t \u001b[1m\u001b[92m1.7545456213927004\u001b[0m\t \u001b[1m\u001b[92m1.7545456213927004\u001b[0m\t \u001b[1m\u001b[92m1.9990965114262917\u001b[0m\t \u001b[1m\u001b[92m1.3294924434068276\u001b[0m\n",
            "6  \t [ 2.50888956 -0.15997564]\t 2.037910013061312\t 1.7545456213927004\t 2.7355952400388284\t 1.784538766803024\n",
            "7  \t [ 2.57445645 -0.15319412]\t 2.2289352772345308\t 1.7545456213927004\t 2.5186177603370545\t 1.7051242493662733\n",
            "8  \t [-0.59966924  1.48416373]\t 5.398600401931842\t 1.7545456213927004\t 2.7848015928929106\t 1.9597509791731986\n",
            "9  \t [ 2.60983111 -0.14960218]\t 2.341698655932179\t 1.7545456213927004\t 2.4739572454584025\t 2.3221965378257217\n",
            "10 \t [ 2.63557475 -0.14692018]\t 2.427293043477659\t 1.7545456213927004\t 2.7637077210164813\t 2.203632845787271\n",
            "11 \t [ 2.65108419 -0.14531276]\t 2.4805488246632623\t 1.7545456213927004\t 2.6386765758060022\t 2.3232749418209124\n",
            "12 \t [ 2.66013911 -0.14438421]\t 2.512281219455432\t 1.7545456213927004\t 1.9695505994173712\t 1.5577683050352669\n",
            "13 \t [ 2.66523316 -0.14387184]\t 2.53039303942092\t 1.7545456213927004\t 2.287864515928639\t 2.232195934562718\n",
            "14 \t [ 2.66798578 -0.14360423]\t 2.5403065771984465\t 1.7545456213927004\t 2.4740407226420937\t 1.4711477233142876\n",
            "15 \t [ 2.66941313 -0.14347411]\t 2.545529491886555\t 1.7545456213927004\t 2.3022455126781254\t 1.7050015053191407\n",
            "16 \t [ 2.67012078 -0.14341751]\t 2.548184163164969\t 1.7545456213927004\t 1.962669861401828\t 1.5296146666177506\n",
            "17 \t [ 2.67045556 -0.1433979 ]\t 2.549496521738201\t 1.7545456213927004\t 2.6895393652465267\t 1.4626485736355779\n",
            "18 \t [ 2.67060712 -0.14339568]\t 2.5501424676074778\t 1.7545456213927004\t 2.6619152506825645\t 1.5153157495502356\n",
            "19 \t [ 2.6706716  -0.14340074]\t 2.5504639537574834\t 1.7545456213927004\t 2.1388203628846503\t 1.4190313833564239\n",
            "20 \t [ 2.67069743 -0.14340848]\t 2.550637024589304\t 1.7545456213927004\t 2.3927386194375715\t 1.4864516742300256\n"
          ]
        }
      ],
      "source": [
        "### ESTIMATED GP EI GRADIENTS\n",
        "\n",
        "np.random.seed(run_num_8)\n",
        "surrogate_approx_8 = dGaussianProcess(cov_func, optimize=opt)\n",
        "\n",
        "approx_8 = GPGO_multi(surrogate_approx_8, Acquisition_grad(util), objfunc, param)\n",
        "approx_8.run(init_evals=n_init, max_iter=iters)\n"
      ]
    },
    {
      "cell_type": "code",
      "execution_count": 21,
      "metadata": {
        "id": "85OIXcg7GCaJ",
        "colab": {
          "base_uri": "https://localhost:8080/"
        },
        "outputId": "d1c05691-3c18-4246-9f41-96a6ffdeaaea"
      },
      "outputs": [
        {
          "output_type": "stream",
          "name": "stdout",
          "text": [
            "Evaluation \t Proposed point \t  Current eval. \t  Best eval. \t        Exact EI: StdDev. x \t Approx EI: StdDev. x \n",
            "init\t [-4.40663262  0.01687133]\t 127.7531900635415\t 22.479204656276803\t    \t    \n",
            "init\t [-0.03804036 -3.29553424]\t 22.479204656276803\t 22.479204656276803\t    \t    \n",
            "init\t [-3.22100023 -2.53297192]\t 3783.0538402600087\t 22.479204656276803\t    \t    \n",
            "init\t [-0.73342638 -2.26708948]\t 157.51337782244087\t 22.479204656276803\t    \t    \n",
            "init\t [-3.74346314 -1.39051224]\t 380.7730677650304\t 22.479204656276803\t    \t    \n",
            "1  \t [2.73365793 4.35023323]\t 53339.37070055468\t 22.479204656276803\t 2.7506560430560656\t 2.6618674734592296\n",
            "2  \t [ 4.5 -4.5]\t 178131.83203125\t 22.479204656276803\t 2.842043853332855\t 3.390192261958232\n",
            "3  \t [-4.5  4.5]\t 169680.83203125\t 22.479204656276803\t 2.7627591570906325\t 2.8827401982409517\n",
            "\u001b[1m\u001b[92m4\u001b[0m\t \u001b[1m\u001b[92m[4.5        0.17478993]\u001b[0m\t \u001b[1m\u001b[92m12.788161556203752\u001b[0m\t \u001b[1m\u001b[92m12.788161556203752\u001b[0m\t \u001b[1m\u001b[92m3.0766099956221353\u001b[0m\t \u001b[1m\u001b[92m2.61348601868817\u001b[0m\n",
            "\u001b[1m\u001b[92m5\u001b[0m\t \u001b[1m\u001b[92m[-0.82213139  1.56355938]\u001b[0m\t \u001b[1m\u001b[92m2.2958453477708645\u001b[0m\t \u001b[1m\u001b[92m2.2958453477708645\u001b[0m\t \u001b[1m\u001b[92m2.7534859480450913\u001b[0m\t \u001b[1m\u001b[92m2.4189305233082017\u001b[0m\n",
            "\u001b[1m\u001b[92m6\u001b[0m\t \u001b[1m\u001b[92m[1.55144617 0.23376777]\u001b[0m\t \u001b[1m\u001b[92m1.9059460717675591\u001b[0m\t \u001b[1m\u001b[92m1.9059460717675591\u001b[0m\t \u001b[1m\u001b[92m2.930497576802313\u001b[0m\t \u001b[1m\u001b[92m2.506898457713894\u001b[0m\n",
            "7  \t [ 2.12735458 -1.42944401]\t 66.10450676720701\t 1.9059460717675591\t 3.0017851351251426\t 2.268671656698164\n",
            "8  \t [-0.82226938  3.44608246]\t 957.28528487122\t 1.9059460717675591\t 2.7104577626378594\t 2.2389203793274555\n",
            "9  \t [-0.77563134  0.64873329]\t 20.596158062250655\t 1.9059460717675591\t 3.2174506503718723\t 1.9787740407391234\n",
            "10 \t [-0.97150925  0.72079267]\t 20.968497101355638\t 1.9059460717675591\t 2.5196004726763768\t 1.5266432706522741\n",
            "11 \t [1.10111267 0.15267666]\t 4.035260331662783\t 1.9059460717675591\t 2.8924975233592205\t 2.600264629993569\n",
            "12 \t [1.17410569 0.12600411]\t 3.5344449981005486\t 1.9059460717675591\t 3.0983179914598074\t 2.4580328358038903\n",
            "13 \t [1.19098355 0.12091585]\t 3.4263783889650656\t 1.9059460717675591\t 2.5977370814670424\t 2.0312004408188247\n",
            "14 \t [1.19831781 0.11891351]\t 3.3804334298622143\t 1.9059460717675591\t 2.954597485549581\t 1.9008881425943462\n",
            "15 \t [1.20224768 0.11792718]\t 3.3561252002785107\t 1.9059460717675591\t 2.892466545054648\t 2.0181724032653507\n",
            "16 \t [1.20462063 0.11737764]\t 3.3415808166680927\t 1.9059460717675591\t 3.1379218003109313\t 2.1381506533550216\n",
            "17 \t [1.20617184 0.11704624]\t 3.3321431044853758\t 1.9059460717675591\t 2.8890106942173333\t 1.6244482603593107\n",
            "18 \t [1.20724545 0.11683513]\t 3.3256529837834004\t 1.9059460717675591\t 2.412701927784358\t 2.667256962426772\n",
            "19 \t [1.20802144 0.11669513]\t 3.32098908862871\t 1.9059460717675591\t 2.978665839515759\t 2.001752691465486\n",
            "20 \t [1.20860156 0.11659973]\t 3.3175213704355535\t 1.9059460717675591\t 3.1292352282009164\t 2.3065080924979853\n"
          ]
        }
      ],
      "source": [
        "### ESTIMATED GP EI GRADIENTS\n",
        "\n",
        "np.random.seed(run_num_9)\n",
        "surrogate_approx_9 = dGaussianProcess(cov_func, optimize=opt)\n",
        "\n",
        "approx_9 = GPGO_multi(surrogate_approx_9, Acquisition_grad(util), objfunc, param)\n",
        "approx_9.run(init_evals=n_init, max_iter=iters)\n"
      ]
    },
    {
      "cell_type": "code",
      "execution_count": 22,
      "metadata": {
        "id": "QQBR-qJPGCcp",
        "colab": {
          "base_uri": "https://localhost:8080/"
        },
        "outputId": "2056c788-af50-49d7-f18a-63571c4cba4a"
      },
      "outputs": [
        {
          "output_type": "stream",
          "name": "stdout",
          "text": [
            "Evaluation \t Proposed point \t  Current eval. \t  Best eval. \t        Exact EI: StdDev. x \t Approx EI: StdDev. x \n",
            "init\t [ 2.44188579 -4.31323246]\t 40500.708995062356\t 15.229523981513257\t    \t    \n",
            "init\t [1.20283411 2.23923494]\t 281.8768699287936\t 15.229523981513257\t    \t    \n",
            "init\t [-0.01343689 -2.47683019]\t 15.229523981513257\t 15.229523981513257\t    \t    \n",
            "init\t [-2.71743422  2.34477641]\t 985.5637470908332\t 15.229523981513257\t    \t    \n",
            "init\t [-2.97800247 -3.70494167]\t 26177.1461164703\t 15.229523981513257\t    \t    \n",
            "1  \t [4.5 4.5]\t 174813.36328125\t 15.229523981513257\t 2.9269597086586647\t 3.632339634901059\n",
            "\u001b[1m\u001b[92m2\u001b[0m\t \u001b[1m\u001b[92m[-0.01600834 -1.48100765]\u001b[0m\t \u001b[1m\u001b[92m14.599927919242504\u001b[0m\t \u001b[1m\u001b[92m14.599927919242504\u001b[0m\t \u001b[1m\u001b[92m2.027028718780238\u001b[0m\t \u001b[1m\u001b[92m3.3279957212505598\u001b[0m\n",
            "3  \t [ 4.5        -0.27586201]\t 25.506853019297655\t 14.599927919242504\t 2.0796172170730625\t 3.484812683857749\n",
            "4  \t [-4.5        -0.20883464]\t 142.4631381453376\t 14.599927919242504\t 2.478839824409959\t 2.910248229995444\n",
            "5  \t [-0.41654545  4.5       ]\t 1252.4154944854772\t 14.599927919242504\t 2.7061325982114095\t 3.4801825912981283\n",
            "\u001b[1m\u001b[92m6\u001b[0m\t \u001b[1m\u001b[92m[ 2.34399006 -0.27494731]\u001b[0m\t \u001b[1m\u001b[92m2.2764065755522083\u001b[0m\t \u001b[1m\u001b[92m2.2764065755522083\u001b[0m\t \u001b[1m\u001b[92m2.3805525765853526\u001b[0m\t \u001b[1m\u001b[92m3.0837362630742664\u001b[0m\n",
            "7  \t [-0.03727228 -1.63013619]\t 15.315489663088545\t 2.2764065755522083\t 2.319770084212926\t 3.505953736419083\n",
            "8  \t [ 2.35597358 -0.27758145]\t 2.333454344478351\t 2.2764065755522083\t 2.608891049949508\t 2.9546907829290285\n",
            "9  \t [ 2.36134806 -0.27425844]\t 2.3275738231173295\t 2.2764065755522083\t 2.6854569879004413\t 3.2613919779417584\n",
            "10 \t [ 2.36677351 -0.27098775]\t 2.3223140371513136\t 2.2764065755522083\t 2.54184231282213\t 3.0620092284390736\n",
            "11 \t [ 2.35440581 -0.27710129]\t 2.324943782528504\t 2.2764065755522083\t 2.021835951264638\t 3.539871634372795\n",
            "12 \t [ 2.35852648 -0.27510384]\t 2.324297630290904\t 2.2764065755522083\t 2.4600207346881553\t 3.1061318336933947\n",
            "13 \t [ 2.35874771 -0.27495315]\t 2.3239575915948745\t 2.2764065755522083\t 2.1031392428028757\t 2.675798489195453\n",
            "14 \t [ 2.35711496 -0.27572522]\t 2.3240699765997124\t 2.2764065755522083\t 2.025498039311859\t 3.0774533537449567\n",
            "15 \t [ 2.35732944 -0.2756265 ]\t 2.3240738205094615\t 2.2764065755522083\t 2.3153275742602015\t 2.660144668117776\n",
            "16 \t [ 2.35413148 -0.27716912]\t 2.324528957889599\t 2.2764065755522083\t 2.3697522613944426\t 2.6876781840934023\n",
            "17 \t [ 2.34856137 -0.27985314]\t 2.3253720819434642\t 2.2764065755522083\t 2.248413073381399\t 2.477179968348245\n",
            "18 \t [ 2.35848339 -0.27530536]\t 2.325579479696099\t 2.2764065755522083\t 2.253040971423659\t 3.172720295246104\n",
            "19 \t [ 2.36166692 -0.27373268]\t 2.3249054823442696\t 2.2764065755522083\t 1.8834206617656601\t 2.3142136055713394\n",
            "20 \t [ 2.3507467  -0.27882699]\t 2.3252200882003846\t 2.2764065755522083\t 2.4669841297472206\t 3.4539119830295686\n"
          ]
        }
      ],
      "source": [
        "### ESTIMATED GP EI GRADIENTS\n",
        "\n",
        "np.random.seed(run_num_10)\n",
        "surrogate_approx_10 = dGaussianProcess(cov_func, optimize=opt)\n",
        "\n",
        "approx_10 = GPGO_multi(surrogate_approx_10, Acquisition_grad(util), objfunc, param)\n",
        "approx_10.run(init_evals=n_init, max_iter=iters)\n"
      ]
    },
    {
      "cell_type": "code",
      "execution_count": 23,
      "metadata": {
        "id": "JS8ejeQ2GCfi",
        "colab": {
          "base_uri": "https://localhost:8080/"
        },
        "outputId": "73980d14-6bf3-43fd-f0d2-37081cced857"
      },
      "outputs": [
        {
          "output_type": "stream",
          "name": "stdout",
          "text": [
            "Evaluation \t Proposed point \t  Current eval. \t  Best eval. \t        Exact EI: StdDev. x \t Approx EI: StdDev. x \n",
            "init\t [-2.8775728  -4.32472283]\t 59421.14819100274\t 2.8907294990196846\t    \t    \n",
            "init\t [-0.33103326  2.02440536]\t 2.8907294990196846\t 2.8907294990196846\t    \t    \n",
            "init\t [-0.71816756 -0.13115612]\t 25.271447350027046\t 2.8907294990196846\t    \t    \n",
            "init\t [-4.38497267 -0.11365553]\t 133.2515796886641\t 2.8907294990196846\t    \t    \n",
            "init\t [3.97625987 3.1571558 ]\t 16859.81677190551\t 2.8907294990196846\t    \t    \n",
            "1  \t [ 4.5 -4.5]\t 178131.83203125\t 2.8907294990196846\t 2.455105632029821\t 4.1377703901666445\n",
            "2  \t [-4.5  4.5]\t 169680.83203125\t 2.8907294990196846\t 1.853445523972142\t 3.294692105293733\n",
            "3  \t [ 1.48444216 -0.58493479]\t 3.06030792206648\t 2.8907294990196846\t 2.405586859063898\t 1.7265798947805988\n",
            "4  \t [ 1.48324702 -0.58513947]\t 3.062401149855675\t 2.8907294990196846\t 1.6806035161184354\t 1.2414008731935897\n",
            "5  \t [-0.23466565  2.1266165 ]\t 3.9160993625338407\t 2.8907294990196846\t 2.0277031926245663\t 1.4781184590067904\n",
            "6  \t [0.32180481 4.5       ]\t 1078.5200032120947\t 2.8907294990196846\t 2.458130962697395\t 2.6682157490871963\n",
            "7  \t [-0.40581387  1.45661168]\t 8.106158608990661\t 2.8907294990196846\t 2.592182780927102\t 1.2933405085121708\n",
            "8  \t [-0.40646824  1.50131252]\t 7.451356999466669\t 2.8907294990196846\t 2.4648987114108736\t 1.7036949567351334\n",
            "9  \t [-0.39979118  1.51890092]\t 7.291631831262534\t 2.8907294990196846\t 2.6220180021243604\t 0.9995719882813907\n",
            "10 \t [ 1.49028349 -0.60229825]\t 3.1338495614374056\t 2.8907294990196846\t 2.4942216056667506\t 1.3106866738246488\n",
            "11 \t [ 1.49017428 -0.60126115]\t 3.1290798397763773\t 2.8907294990196846\t 2.724542041958681\t 1.533305176244162\n",
            "12 \t [-0.40099559  1.52979465]\t 7.119948135119639\t 2.8907294990196846\t 2.613716034032685\t 1.605427546472754\n",
            "13 \t [ 1.48942529 -0.60484894]\t 3.1465181672338294\t 2.8907294990196846\t 2.526249935896006\t 1.1709238141548297\n",
            "14 \t [ 1.48959532 -0.60413594]\t 3.1430244085463377\t 2.8907294990196846\t 2.2745115264472835\t 1.286369303789177\n",
            "15 \t [ 1.48967991 -0.60367141]\t 3.1407715153281788\t 2.8907294990196846\t 2.1097064542958504\t 1.2867199571780772\n",
            "16 \t [ 1.48972342 -0.60334797]\t 3.1392164152985416\t 2.8907294990196846\t 2.552901401000646\t 1.2832138713795285\n",
            "17 \t [ 1.48974438 -0.60311384]\t 3.138099810271852\t 2.8907294990196846\t 1.7720737393892638\t 1.518571589833398\n",
            "18 \t [ 1.48975305 -0.60293776]\t 3.137266077116001\t 2.8907294990196846\t 2.592020900804527\t 1.0778810111966362\n",
            "19 \t [ 1.48975491 -0.60280131]\t 3.136624100450546\t 2.8907294990196846\t 1.8213168574447833\t 1.4381306484786347\n",
            "20 \t [ 1.4897526  -0.60269332]\t 3.1361191938201127\t 2.8907294990196846\t 2.146146197656587\t 1.0782481213031028\n"
          ]
        }
      ],
      "source": [
        "### ESTIMATED GP EI GRADIENTS\n",
        "\n",
        "np.random.seed(run_num_11)\n",
        "surrogate_approx_11 = dGaussianProcess(cov_func, optimize=opt)\n",
        "\n",
        "approx_11 = GPGO_multi(surrogate_approx_11, Acquisition_grad(util), objfunc, param)\n",
        "approx_11.run(init_evals=n_init, max_iter=iters)\n"
      ]
    },
    {
      "cell_type": "code",
      "execution_count": 24,
      "metadata": {
        "id": "DXwjUVZ4GCii",
        "colab": {
          "base_uri": "https://localhost:8080/"
        },
        "outputId": "b0c0737e-acff-44f4-ba7c-55a13d646805"
      },
      "outputs": [
        {
          "output_type": "stream",
          "name": "stdout",
          "text": [
            "Evaluation \t Proposed point \t  Current eval. \t  Best eval. \t        Exact EI: StdDev. x \t Approx EI: StdDev. x \n",
            "init\t [-3.11253442  2.16044727]\t 746.3412720881302\t 48.45196617039589\t    \t    \n",
            "init\t [-2.13016486  0.30365454]\t 48.45196617039589\t 48.45196617039589\t    \t    \n",
            "init\t [-4.36882534  3.76872307]\t 54651.235607336355\t 48.45196617039589\t    \t    \n",
            "init\t [ 3.60643369 -4.19920715]\t 76007.68460600567\t 48.45196617039589\t    \t    \n",
            "init\t [ 4.11254403 -3.26511611]\t 22941.17826205435\t 48.45196617039589\t    \t    \n",
            "\u001b[1m\u001b[92m1\u001b[0m\t \u001b[1m\u001b[92m[-2.4833778  1.4131619]\u001b[0m\t \u001b[1m\u001b[92m3.8857782976664486\u001b[0m\t \u001b[1m\u001b[92m3.8857782976664486\u001b[0m\t \u001b[1m\u001b[92m3.8082563701107652\u001b[0m\t \u001b[1m\u001b[92m3.5197027813463433\u001b[0m\n",
            "\u001b[1m\u001b[92m2\u001b[0m\t \u001b[1m\u001b[92m[-2.53263176  1.3854747 ]\u001b[0m\t \u001b[1m\u001b[92m2.770086931308196\u001b[0m\t \u001b[1m\u001b[92m2.770086931308196\u001b[0m\t \u001b[1m\u001b[92m4.098022220239013\u001b[0m\t \u001b[1m\u001b[92m3.654008311980887\u001b[0m\n",
            "3  \t [-2.53492335  1.38769888]\t 2.8823535204547692\t 2.770086931308196\t 4.2412964943911815\t 3.739499873436196\n",
            "4  \t [-2.53573216  1.38927587]\t 2.959972179338336\t 2.770086931308196\t 3.228001614038034\t 2.303679692846371\n",
            "5  \t [-2.53626735  1.39023967]\t 3.008488037292221\t 2.770086931308196\t 3.2905241530290907\t 2.3528601656107915\n",
            "6  \t [-2.53664518  1.39088338]\t 3.041370219456639\t 2.770086931308196\t 2.8008413069883646\t 2.792762686449934\n",
            "7  \t [-2.53692342  1.39134089]\t 3.064974899917286\t 2.770086931308196\t 3.243597044872049\t 2.565804130054576\n",
            "8  \t [-2.53713541  1.39168094]\t 3.0826463494651417\t 2.770086931308196\t 2.764643914511075\t 2.7072400098349654\n",
            "9  \t [-2.53730049  1.39194396]\t 3.0963786887819325\t 2.770086931308196\t 3.0385511541034305\t 2.0662155630558745\n",
            "10 \t [-2.53743416  1.39215108]\t 3.1072482227318274\t 2.770086931308196\t 3.24741828217822\t 2.7150074557431227\n",
            "11 \t [-2.53754245  1.39231957]\t 3.1161112794946733\t 2.770086931308196\t 2.9976666136985455\t 2.671989336120035\n",
            "12 \t [-2.53763265  1.39245829]\t 3.123429904240932\t 2.770086931308196\t 2.8609432461179405\t 2.7597880291187344\n",
            "13 \t [-2.53771004  1.39257334]\t 3.1295249546479673\t 2.770086931308196\t 3.21753175303792\t 2.7365039092902532\n",
            "14 \t [-2.53777449  1.39267221]\t 3.134758757275039\t 2.770086931308196\t 2.8933934881077294\t 2.2862827077766177\n",
            "15 \t [-2.53783055  1.39275641]\t 3.1392287050937955\t 2.770086931308196\t 3.2585043706647214\t 2.648183658212802\n",
            "16 \t [-2.53787901  1.3928295 ]\t 3.1431118670945697\t 2.770086931308196\t 2.881114166601196\t 2.6703762174643284\n",
            "17 \t [-2.53792143  1.39289353]\t 3.1465163323531162\t 2.770086931308196\t 2.968663456380163\t 2.3486180916372463\n",
            "18 \t [-2.53795975  1.39294915]\t 3.149484858831477\t 2.770086931308196\t 3.108216173241704\t 2.538308343439071\n",
            "19 \t [-2.53799251  1.39299966]\t 3.152171207748975\t 2.770086931308196\t 3.1927978914145156\t 2.631034076904768\n",
            "20 \t [-2.53802287  1.39304336]\t 3.154507706599226\t 2.770086931308196\t 3.2770509122251332\t 2.440900527920463\n"
          ]
        }
      ],
      "source": [
        "### ESTIMATED GP EI GRADIENTS\n",
        "\n",
        "np.random.seed(run_num_12)\n",
        "surrogate_approx_12 = dGaussianProcess(cov_func, optimize=opt)\n",
        "\n",
        "approx_12 = GPGO_multi(surrogate_approx_12, Acquisition_grad(util), objfunc, param)\n",
        "approx_12.run(init_evals=n_init, max_iter=iters)\n"
      ]
    },
    {
      "cell_type": "code",
      "execution_count": 25,
      "metadata": {
        "id": "CphOPndPGClX",
        "colab": {
          "base_uri": "https://localhost:8080/"
        },
        "outputId": "9aff363d-a04f-47b5-8377-6b805a3c720f"
      },
      "outputs": [
        {
          "output_type": "stream",
          "name": "stdout",
          "text": [
            "Evaluation \t Proposed point \t  Current eval. \t  Best eval. \t        Exact EI: StdDev. x \t Approx EI: StdDev. x \n",
            "init\t [ 2.4993217  -2.36212902]\t 1312.0597023727128\t 25.917758071459016\t    \t    \n",
            "init\t [2.91850679 4.19174278]\t 48757.43948599124\t 25.917758071459016\t    \t    \n",
            "init\t [ 4.25341003 -0.41895677]\t 25.917758071459016\t 25.917758071459016\t    \t    \n",
            "init\t [0.98138216 2.47973863]\t 337.8750512678324\t 25.917758071459016\t    \t    \n",
            "init\t [1.2745201  1.99816407]\t 177.1374160884886\t 25.917758071459016\t    \t    \n",
            "\u001b[1m\u001b[92m1\u001b[0m\t \u001b[1m\u001b[92m[0.68616842 0.87186966]\u001b[0m\t \u001b[1m\u001b[92m12.072275472989498\u001b[0m\t \u001b[1m\u001b[92m12.072275472989498\u001b[0m\t \u001b[1m\u001b[92m2.531708257480907\u001b[0m\t \u001b[1m\u001b[92m2.9136523807450487\u001b[0m\n",
            "2  \t [-4.5 -4.5]\t 181853.61328125\t 12.072275472989498\t 2.7601944770250575\t 3.1140406318509384\n",
            "3  \t [-4.5  4.5]\t 169680.83203125\t 12.072275472989498\t 2.131234333634702\t 3.3583763730801515\n",
            "4  \t [-2.31140172 -0.01986105]\t 60.04513904147849\t 12.072275472989498\t 2.333858135427483\t 3.6082333525742256\n",
            "5  \t [-0.80203043 -2.08631944]\t 130.70889459807964\t 12.072275472989498\t 2.789643809806441\t 3.809126075918896\n",
            "6  \t [-0.79703954  2.10035333]\t 16.31406537600974\t 12.072275472989498\t 2.2997725562609594\t 3.082834717700788\n",
            "7  \t [-4.5         0.01059353]\t 131.75145323571806\t 12.072275472989498\t 2.5144376047948707\t 3.195198229476112\n",
            "8  \t [ 4.5 -4.5]\t 178131.83203125\t 12.072275472989498\t 1.9881958689022263\t 2.6473428765929663\n",
            "9  \t [0.44257609 1.78020763]\t 35.60530165933125\t 12.072275472989498\t 2.020897729531121\t 1.5587175113184506\n",
            "10 \t [0.5634889  1.68475893]\t 36.9745994519645\t 12.072275472989498\t 2.023542054712649\t 1.738296274543475\n",
            "11 \t [0.63105759 1.6300871 ]\t 36.81078356901081\t 12.072275472989498\t 2.1202691633559363\t 1.7522902816858579\n",
            "12 \t [0.32254689 1.93818516]\t 34.734240986155164\t 12.072275472989498\t 1.9288548770039682\t 1.9235528631006829\n",
            "13 \t [1.26746777 1.04031654]\t 15.702243869615675\t 12.072275472989498\t 2.3482831593961038\t 1.6621604934435283\n",
            "14 \t [0.80602487 1.46896526]\t 32.791291611211626\t 12.072275472989498\t 2.0337321236905357\t 1.2648208583072647\n",
            "\u001b[1m\u001b[92m15\u001b[0m\t \u001b[1m\u001b[92m[-0.16514829  2.43698548]\u001b[0m\t \u001b[1m\u001b[92m3.8116943562073473\u001b[0m\t \u001b[1m\u001b[92m3.8116943562073473\u001b[0m\t \u001b[1m\u001b[92m1.966464175665169\u001b[0m\t \u001b[1m\u001b[92m2.0058300761879337\u001b[0m\n",
            "16 \t [-0.09162129  2.35794077]\t 7.545922702891765\t 3.8116943562073473\t 2.023193069597656\t 2.2350614047347546\n",
            "17 \t [0.10861122 2.15390996]\t 22.61145019501387\t 3.8116943562073473\t 2.5834765092022502\t 2.077235054784336\n",
            "18 \t [1.14564286 1.14925464]\t 20.001339104796557\t 3.8116943562073473\t 1.9680889837168087\t 1.8431531038080813\n",
            "19 \t [0.60493103 1.6646054 ]\t 37.78761377595537\t 3.8116943562073473\t 2.007467893952717\t 2.052927086486178\n",
            "20 \t [-0.30147993  2.57784331]\t 6.358303925598486\t 3.8116943562073473\t 2.1951439249413185\t 1.8664052914262428\n"
          ]
        }
      ],
      "source": [
        "### ESTIMATED GP EI GRADIENTS\n",
        "\n",
        "np.random.seed(run_num_13)\n",
        "surrogate_approx_13 = dGaussianProcess(cov_func, optimize=opt)\n",
        "\n",
        "approx_13 = GPGO_multi(surrogate_approx_13, Acquisition_grad(util), objfunc, param)\n",
        "approx_13.run(init_evals=n_init, max_iter=iters)\n"
      ]
    },
    {
      "cell_type": "code",
      "execution_count": 26,
      "metadata": {
        "id": "ojHTeARNGCoi",
        "colab": {
          "base_uri": "https://localhost:8080/"
        },
        "outputId": "0b494450-3154-45a7-dd0c-39632768e1ad"
      },
      "outputs": [
        {
          "output_type": "stream",
          "name": "stdout",
          "text": [
            "Evaluation \t Proposed point \t  Current eval. \t  Best eval. \t        Exact EI: StdDev. x \t Approx EI: StdDev. x \n",
            "init\t [0.12549009 2.45848547]\t 30.19066754742359\t 11.367015527968295\t    \t    \n",
            "init\t [ 3.33384917 -4.42757746]\t 88548.3950659154\t 11.367015527968295\t    \t    \n",
            "init\t [-1.71237667  4.11843365]\t 13933.414320383567\t 11.367015527968295\t    \t    \n",
            "init\t [ 0.11805041 -1.63544018]\t 11.367015527968295\t 11.367015527968295\t    \t    \n",
            "init\t [ 0.35279944 -2.50870552]\t 27.90050047415725\t 11.367015527968295\t    \t    \n",
            "1  \t [0.94626416 1.71864441]\t 63.573494457705195\t 11.367015527968295\t 3.5372783728108756\t 3.446158852177882\n",
            "2  \t [-4.5 -4.5]\t 181853.61328125\t 11.367015527968295\t 3.8871604768600805\t 3.6667137879264176\n",
            "3  \t [4.5 4.5]\t 174813.36328125\t 11.367015527968295\t 3.1444036065666388\t 3.6015635224547218\n",
            "4  \t [-4.5       0.439094]\t 96.27764669160831\t 11.367015527968295\t 2.1655426618976845\t 3.5535665195088852\n",
            "5  \t [ 4.19389567 -0.6362805 ]\t 35.83422151565863\t 11.367015527968295\t 2.383791983958732\t 2.481734359064929\n",
            "6  \t [-1.56108916  0.08545141]\t 40.524213645488025\t 11.367015527968295\t 2.087627637330681\t 2.216762860876416\n",
            "7  \t [-0.58138566 -4.5       ]\t 3258.792738161919\t 11.367015527968295\t 2.1382069532338495\t 2.3730126144532777\n",
            "8  \t [0.57466624 1.8163506 ]\t 46.81465353803695\t 11.367015527968295\t 1.7860219722875226\t 1.9668493018009017\n",
            "\u001b[1m\u001b[92m9\u001b[0m\t \u001b[1m\u001b[92m[ 0.30555886 -1.57255613]\u001b[0m\t \u001b[1m\u001b[92m9.079624462094538\u001b[0m\t \u001b[1m\u001b[92m9.079624462094538\u001b[0m\t \u001b[1m\u001b[92m2.24451706498082\u001b[0m\t \u001b[1m\u001b[92m2.491728083758349\u001b[0m\n",
            "10 \t [ 0.28499435 -1.59369323]\t 9.216342656102007\t 9.079624462094538\t 1.8507182431356162\t 2.17323208859416\n",
            "11 \t [ 0.27659853 -1.60330246]\t 9.274689655406606\t 9.079624462094538\t 2.0534397447986006\t 2.666883247911886\n",
            "12 \t [ 0.27231826 -1.60869802]\t 9.30473616527818\t 9.079624462094538\t 1.7985561265178507\t 2.355549595476616\n",
            "13 \t [ 0.26983652 -1.61210661]\t 9.322115684109948\t 9.079624462094538\t 2.0684201330445555\t 2.4005569185015454\n",
            "14 \t [0.6662617  1.92835386]\t 66.35957791203751\t 9.079624462094538\t 1.952056640725161\t 2.488143830505992\n",
            "15 \t [ 0.26825835 -1.61453703]\t 9.332997156197793\t 9.079624462094538\t 1.6825268647943143\t 1.7657601670842222\n",
            "16 \t [ 0.26720798 -1.61620546]\t 9.3402188692809\t 9.079624462094538\t 1.8729347159117289\t 2.201954469536951\n",
            "17 \t [ 0.26646918 -1.61745638]\t 9.34523730921071\t 9.079624462094538\t 2.1962862763466404\t 2.448508762979537\n",
            "18 \t [ 0.26593035 -1.61842428]\t 9.348849906611537\t 9.079624462094538\t 1.6372131599747706\t 1.9402199248341174\n",
            "19 \t [ 0.26552566 -1.6191923 ]\t 9.351526410937833\t 9.079624462094538\t 2.0642650466012213\t 2.870692106648653\n",
            "20 \t [ 0.26521438 -1.61981439]\t 9.353556415353323\t 9.079624462094538\t 1.902733848164415\t 2.0353308199267564\n"
          ]
        }
      ],
      "source": [
        "### ESTIMATED GP EI GRADIENTS\n",
        "\n",
        "np.random.seed(run_num_14)\n",
        "surrogate_approx_14 = dGaussianProcess(cov_func, optimize=opt)\n",
        "\n",
        "approx_14 = GPGO_multi(surrogate_approx_14, Acquisition_grad(util), objfunc, param)\n",
        "approx_14.run(init_evals=n_init, max_iter=iters)\n"
      ]
    },
    {
      "cell_type": "code",
      "execution_count": 27,
      "metadata": {
        "id": "vCJzn4vWGCs3",
        "colab": {
          "base_uri": "https://localhost:8080/"
        },
        "outputId": "60a6f30f-b5b5-432f-fd1c-4899fdf5fb84"
      },
      "outputs": [
        {
          "output_type": "stream",
          "name": "stdout",
          "text": [
            "Evaluation \t Proposed point \t  Current eval. \t  Best eval. \t        Exact EI: StdDev. x \t Approx EI: StdDev. x \n",
            "init\t [ 3.13935928 -2.88993668]\t 6575.875821208801\t 47.082686538130915\t    \t    \n",
            "init\t [-4.01073107 -1.24615399]\t 317.710908287677\t 47.082686538130915\t    \t    \n",
            "init\t [-2.02139164  0.27000202]\t 47.082686538130915\t 47.082686538130915\t    \t    \n",
            "init\t [-1.74672976 -1.75973077]\t 234.8792968363759\t 47.082686538130915\t    \t    \n",
            "init\t [-3.49432851 -2.25090888]\t 2421.671033348018\t 47.082686538130915\t    \t    \n",
            "1  \t [-4.5         0.13268606]\t 124.30664120362431\t 47.082686538130915\t 3.5332361186755303\t 3.7866446114655297\n",
            "2  \t [4.5 4.5]\t 174813.36328125\t 47.082686538130915\t 2.9948682299812677\t 3.43807429958509\n",
            "3  \t [-3.1079408  4.4833607]\t 78615.80801546226\t 47.082686538130915\t 3.081741203768947\t 3.5331408921993885\n",
            "\u001b[1m\u001b[92m4\u001b[0m\t \u001b[1m\u001b[92m[1.39440951 1.04205491]\u001b[0m\t \u001b[1m\u001b[92m15.932343159668203\u001b[0m\t \u001b[1m\u001b[92m15.932343159668203\u001b[0m\t \u001b[1m\u001b[92m2.9593956395455767\u001b[0m\t \u001b[1m\u001b[92m2.771223162496095\u001b[0m\n",
            "5  \t [-0.29631915 -4.5       ]\t 917.1364582353075\t 15.932343159668203\t 3.151605297793842\t 3.55067370045757\n",
            "\u001b[1m\u001b[92m6\u001b[0m\t \u001b[1m\u001b[92m[4.5        0.41819037]\u001b[0m\t \u001b[1m\u001b[92m5.780479664235018\u001b[0m\t \u001b[1m\u001b[92m5.780479664235018\u001b[0m\t \u001b[1m\u001b[92m3.3941494689378615\u001b[0m\t \u001b[1m\u001b[92m3.3197266871301387\u001b[0m\n",
            "7  \t [0.62318314 3.35486642]\t 735.3974923469378\t 5.780479664235018\t 3.192528353019042\t 3.079156906684926\n",
            "8  \t [ 0.2911221  -0.05348244]\t 10.711227774432134\t 5.780479664235018\t 2.289909466954258\t 3.0453975529547828\n",
            "\u001b[1m\u001b[92m9\u001b[0m\t \u001b[1m\u001b[92m[1.51213003 0.47948544]\u001b[0m\t \u001b[1m\u001b[92m3.3238760279767887\u001b[0m\t \u001b[1m\u001b[92m3.3238760279767887\u001b[0m\t \u001b[1m\u001b[92m2.6560749185997206\u001b[0m\t \u001b[1m\u001b[92m2.6932937248606486\u001b[0m\n",
            "\u001b[1m\u001b[92m10\u001b[0m\t \u001b[1m\u001b[92m[1.54200111 0.48544424]\u001b[0m\t \u001b[1m\u001b[92m3.233166016070683\u001b[0m\t \u001b[1m\u001b[92m3.233166016070683\u001b[0m\t \u001b[1m\u001b[92m2.784023978436881\u001b[0m\t \u001b[1m\u001b[92m3.0836973359037563\u001b[0m\n",
            "\u001b[1m\u001b[92m11\u001b[0m\t \u001b[1m\u001b[92m[1.55696291 0.48851297]\u001b[0m\t \u001b[1m\u001b[92m3.189844291448928\u001b[0m\t \u001b[1m\u001b[92m3.189844291448928\u001b[0m\t \u001b[1m\u001b[92m2.4906418414237756\u001b[0m\t \u001b[1m\u001b[92m2.687593010370248\u001b[0m\n",
            "\u001b[1m\u001b[92m12\u001b[0m\t \u001b[1m\u001b[92m[1.56650212 0.49055523]\u001b[0m\t \u001b[1m\u001b[92m3.163430660797636\u001b[0m\t \u001b[1m\u001b[92m3.163430660797636\u001b[0m\t \u001b[1m\u001b[92m2.979461930060124\u001b[0m\t \u001b[1m\u001b[92m3.4392301760450423\u001b[0m\n",
            "\u001b[1m\u001b[92m13\u001b[0m\t \u001b[1m\u001b[92m[1.5733315  0.49207161]\u001b[0m\t \u001b[1m\u001b[92m3.145214189429394\u001b[0m\t \u001b[1m\u001b[92m3.145214189429394\u001b[0m\t \u001b[1m\u001b[92m2.2719053075633906\u001b[0m\t \u001b[1m\u001b[92m3.026386238766149\u001b[0m\n",
            "\u001b[1m\u001b[92m14\u001b[0m\t \u001b[1m\u001b[92m[1.57856969 0.49326948]\u001b[0m\t \u001b[1m\u001b[92m3.1316722585933867\u001b[0m\t \u001b[1m\u001b[92m3.1316722585933867\u001b[0m\t \u001b[1m\u001b[92m2.9881853203293938\u001b[0m\t \u001b[1m\u001b[92m3.3245976263755153\u001b[0m\n",
            "\u001b[1m\u001b[92m15\u001b[0m\t \u001b[1m\u001b[92m[1.58277595 0.4942548 ]\u001b[0m\t \u001b[1m\u001b[92m3.1210835194697086\u001b[0m\t \u001b[1m\u001b[92m3.1210835194697086\u001b[0m\t \u001b[1m\u001b[92m2.853058641050454\u001b[0m\t \u001b[1m\u001b[92m2.8143482584887485\u001b[0m\n",
            "\u001b[1m\u001b[92m16\u001b[0m\t \u001b[1m\u001b[92m[1.58626566 0.49508869]\u001b[0m\t \u001b[1m\u001b[92m3.112497774551837\u001b[0m\t \u001b[1m\u001b[92m3.112497774551837\u001b[0m\t \u001b[1m\u001b[92m2.5388155619880575\u001b[0m\t \u001b[1m\u001b[92m3.180292718417248\u001b[0m\n",
            "\u001b[1m\u001b[92m17\u001b[0m\t \u001b[1m\u001b[92m[1.58923276 0.49580966]\u001b[0m\t \u001b[1m\u001b[92m3.1053426094878116\u001b[0m\t \u001b[1m\u001b[92m3.1053426094878116\u001b[0m\t \u001b[1m\u001b[92m2.8618428316981848\u001b[0m\t \u001b[1m\u001b[92m3.2060740729617603\u001b[0m\n",
            "\u001b[1m\u001b[92m18\u001b[0m\t \u001b[1m\u001b[92m[1.59180378 0.49644338]\u001b[0m\t \u001b[1m\u001b[92m3.0992516422719247\u001b[0m\t \u001b[1m\u001b[92m3.0992516422719247\u001b[0m\t \u001b[1m\u001b[92m2.9631361305413484\u001b[0m\t \u001b[1m\u001b[92m3.1605744751132923\u001b[0m\n",
            "\u001b[1m\u001b[92m19\u001b[0m\t \u001b[1m\u001b[92m[1.59406607 0.49700798]\u001b[0m\t \u001b[1m\u001b[92m3.093976762024204\u001b[0m\t \u001b[1m\u001b[92m3.093976762024204\u001b[0m\t \u001b[1m\u001b[92m2.835540591876681\u001b[0m\t \u001b[1m\u001b[92m3.0684089605742884\u001b[0m\n",
            "\u001b[1m\u001b[92m20\u001b[0m\t \u001b[1m\u001b[92m[1.59608124 0.49751637]\u001b[0m\t \u001b[1m\u001b[92m3.0893448807284702\u001b[0m\t \u001b[1m\u001b[92m3.0893448807284702\u001b[0m\t \u001b[1m\u001b[92m2.792892766123217\u001b[0m\t \u001b[1m\u001b[92m3.0426599334810134\u001b[0m\n"
          ]
        }
      ],
      "source": [
        "### ESTIMATED GP EI GRADIENTS\n",
        "\n",
        "np.random.seed(run_num_15)\n",
        "surrogate_approx_15 = dGaussianProcess(cov_func, optimize=opt)\n",
        "\n",
        "approx_15 = GPGO_multi(surrogate_approx_15, Acquisition_grad(util), objfunc, param)\n",
        "approx_15.run(init_evals=n_init, max_iter=iters)\n"
      ]
    },
    {
      "cell_type": "code",
      "execution_count": 28,
      "metadata": {
        "id": "bGGkhp-kGCw6",
        "colab": {
          "base_uri": "https://localhost:8080/"
        },
        "outputId": "fe6aea60-a068-4a46-9c8a-3575361ee61a"
      },
      "outputs": [
        {
          "output_type": "stream",
          "name": "stdout",
          "text": [
            "Evaluation \t Proposed point \t  Current eval. \t  Best eval. \t        Exact EI: StdDev. x \t Approx EI: StdDev. x \n",
            "init\t [-2.49038029  0.20847007]\t 59.442894178636664\t 59.442894178636664\t    \t    \n",
            "init\t [ 0.45631311 -4.08958245]\t 932.9374489641153\t 59.442894178636664\t    \t    \n",
            "init\t [-1.25344048 -2.49227152]\t 594.9494957841517\t 59.442894178636664\t    \t    \n",
            "init\t [ 1.69853546 -3.02641717]\t 2418.389440420566\t 59.442894178636664\t    \t    \n",
            "init\t [-3.8670762   3.96909774]\t 58473.38862292419\t 59.442894178636664\t    \t    \n",
            "1  \t [4.5 4.5]\t 174813.36328125\t 59.442894178636664\t 4.216285180438469\t 4.043068697224983\n",
            "2  \t [-4.5 -4.5]\t 181853.61328125\t 59.442894178636664\t 3.2064983254071913\t 3.6453921216535257\n",
            "\u001b[1m\u001b[92m3\u001b[0m\t \u001b[1m\u001b[92m[0.53451699 1.22562439]\u001b[0m\t \u001b[1m\u001b[92m18.421719455198662\u001b[0m\t \u001b[1m\u001b[92m18.421719455198662\u001b[0m\t \u001b[1m\u001b[92m2.3729603782243776\u001b[0m\t \u001b[1m\u001b[92m3.0657699469361814\u001b[0m\n",
            "4  \t [ 4.5        -0.44434267]\t 32.00110061512063\t 18.421719455198662\t 1.59686943875836\t 2.9087373213186547\n",
            "\u001b[1m\u001b[92m5\u001b[0m\t \u001b[1m\u001b[92m[1.9367717 0.551071 ]\u001b[0m\t \u001b[1m\u001b[92m2.2349023606759797\u001b[0m\t \u001b[1m\u001b[92m2.2349023606759797\u001b[0m\t \u001b[1m\u001b[92m1.6302454339748544\u001b[0m\t \u001b[1m\u001b[92m2.57142135082966\u001b[0m\n",
            "\u001b[1m\u001b[92m6\u001b[0m\t \u001b[1m\u001b[92m[1.94870057 0.54666883]\u001b[0m\t \u001b[1m\u001b[92m2.1503932143912716\u001b[0m\t \u001b[1m\u001b[92m2.1503932143912716\u001b[0m\t \u001b[1m\u001b[92m2.2723355346018463\u001b[0m\t \u001b[1m\u001b[92m2.9147073216576826\u001b[0m\n",
            "\u001b[1m\u001b[92m7\u001b[0m\t \u001b[1m\u001b[92m[1.95298983 0.54509522]\u001b[0m\t \u001b[1m\u001b[92m2.120462252908755\u001b[0m\t \u001b[1m\u001b[92m2.120462252908755\u001b[0m\t \u001b[1m\u001b[92m2.0203414029534703\u001b[0m\t \u001b[1m\u001b[92m2.4173253076247403\u001b[0m\n",
            "\u001b[1m\u001b[92m8\u001b[0m\t \u001b[1m\u001b[92m[1.95527156 0.54426138]\u001b[0m\t \u001b[1m\u001b[92m2.1046500922250235\u001b[0m\t \u001b[1m\u001b[92m2.1046500922250235\u001b[0m\t \u001b[1m\u001b[92m1.1275000245656712\u001b[0m\t \u001b[1m\u001b[92m2.6198137208069294\u001b[0m\n",
            "\u001b[1m\u001b[92m9\u001b[0m\t \u001b[1m\u001b[92m[1.95671555 0.54373519]\u001b[0m\t \u001b[1m\u001b[92m2.0946858763997835\u001b[0m\t \u001b[1m\u001b[92m2.0946858763997835\u001b[0m\t \u001b[1m\u001b[92m1.9471699377293554\u001b[0m\t \u001b[1m\u001b[92m2.6718972494969266\u001b[0m\n",
            "\u001b[1m\u001b[92m10\u001b[0m\t \u001b[1m\u001b[92m[1.95772445 0.54336839]\u001b[0m\t \u001b[1m\u001b[92m2.08774504712828\u001b[0m\t \u001b[1m\u001b[92m2.08774504712828\u001b[0m\t \u001b[1m\u001b[92m2.337110953044002\u001b[0m\t \u001b[1m\u001b[92m2.9482985201342466\u001b[0m\n",
            "\u001b[1m\u001b[92m11\u001b[0m\t \u001b[1m\u001b[92m[1.95847587 0.54309569]\u001b[0m\t \u001b[1m\u001b[92m2.082587079704254\u001b[0m\t \u001b[1m\u001b[92m2.082587079704254\u001b[0m\t \u001b[1m\u001b[92m1.7769043844050625\u001b[0m\t \u001b[1m\u001b[92m2.056508388534532\u001b[0m\n",
            "\u001b[1m\u001b[92m12\u001b[0m\t \u001b[1m\u001b[92m[1.9590614  0.54288352]\u001b[0m\t \u001b[1m\u001b[92m2.0785749983224666\u001b[0m\t \u001b[1m\u001b[92m2.0785749983224666\u001b[0m\t \u001b[1m\u001b[92m2.589490983746166\u001b[0m\t \u001b[1m\u001b[92m3.3338441822893508\u001b[0m\n",
            "\u001b[1m\u001b[92m13\u001b[0m\t \u001b[1m\u001b[92m[1.95953294 0.5427129 ]\u001b[0m\t \u001b[1m\u001b[92m2.0753488822036164\u001b[0m\t \u001b[1m\u001b[92m2.0753488822036164\u001b[0m\t \u001b[1m\u001b[92m1.5251593121900608\u001b[0m\t \u001b[1m\u001b[92m2.126110170570748\u001b[0m\n",
            "\u001b[1m\u001b[92m14\u001b[0m\t \u001b[1m\u001b[92m[1.9599225 0.5425721]\u001b[0m\t \u001b[1m\u001b[92m2.072686860835134\u001b[0m\t \u001b[1m\u001b[92m2.072686860835134\u001b[0m\t \u001b[1m\u001b[92m1.501819151321478\u001b[0m\t \u001b[1m\u001b[92m2.1265781585789276\u001b[0m\n",
            "\u001b[1m\u001b[92m15\u001b[0m\t \u001b[1m\u001b[92m[1.96025086 0.54245353]\u001b[0m\t \u001b[1m\u001b[92m2.0704453843492088\u001b[0m\t \u001b[1m\u001b[92m2.0704453843492088\u001b[0m\t \u001b[1m\u001b[92m2.0830171206222285\u001b[0m\t \u001b[1m\u001b[92m2.965784427854185\u001b[0m\n",
            "\u001b[1m\u001b[92m16\u001b[0m\t \u001b[1m\u001b[92m[1.96053232 0.54235202]\u001b[0m\t \u001b[1m\u001b[92m2.068526040441975\u001b[0m\t \u001b[1m\u001b[92m2.068526040441975\u001b[0m\t \u001b[1m\u001b[92m1.2973274087181152\u001b[0m\t \u001b[1m\u001b[92m2.068854980437765\u001b[0m\n",
            "\u001b[1m\u001b[92m17\u001b[0m\t \u001b[1m\u001b[92m[1.96077681 0.5422639 ]\u001b[0m\t \u001b[1m\u001b[92m2.0668600974062086\u001b[0m\t \u001b[1m\u001b[92m2.0668600974062086\u001b[0m\t \u001b[1m\u001b[92m2.0712917165191462\u001b[0m\t \u001b[1m\u001b[92m2.598106438172961\u001b[0m\n",
            "\u001b[1m\u001b[92m18\u001b[0m\t \u001b[1m\u001b[92m[1.96099157 0.54218655]\u001b[0m\t \u001b[1m\u001b[92m2.065397673921976\u001b[0m\t \u001b[1m\u001b[92m2.065397673921976\u001b[0m\t \u001b[1m\u001b[92m1.3852704173871517\u001b[0m\t \u001b[1m\u001b[92m2.409111564485399\u001b[0m\n",
            "\u001b[1m\u001b[92m19\u001b[0m\t \u001b[1m\u001b[92m[1.96118218 0.54211796]\u001b[0m\t \u001b[1m\u001b[92m2.064100666334034\u001b[0m\t \u001b[1m\u001b[92m2.064100666334034\u001b[0m\t \u001b[1m\u001b[92m1.8346928946006025\u001b[0m\t \u001b[1m\u001b[92m2.0641869448448564\u001b[0m\n",
            "\u001b[1m\u001b[92m20\u001b[0m\t \u001b[1m\u001b[92m[1.9613527  0.54205663]\u001b[0m\t \u001b[1m\u001b[92m2.0629410339083623\u001b[0m\t \u001b[1m\u001b[92m2.0629410339083623\u001b[0m\t \u001b[1m\u001b[92m1.5555318331503267\u001b[0m\t \u001b[1m\u001b[92m2.6126465991681354\u001b[0m\n"
          ]
        }
      ],
      "source": [
        "### ESTIMATED GP EI GRADIENTS\n",
        "\n",
        "np.random.seed(run_num_16)\n",
        "surrogate_approx_16 = dGaussianProcess(cov_func, optimize=opt)\n",
        "\n",
        "approx_16 = GPGO_multi(surrogate_approx_16, Acquisition_grad(util), objfunc, param)\n",
        "approx_16.run(init_evals=n_init, max_iter=iters)\n"
      ]
    },
    {
      "cell_type": "code",
      "execution_count": 29,
      "metadata": {
        "id": "Yrs2mp7hGC1Z",
        "colab": {
          "base_uri": "https://localhost:8080/"
        },
        "outputId": "f9071179-a244-4ace-c33e-483b46563102"
      },
      "outputs": [
        {
          "output_type": "stream",
          "name": "stdout",
          "text": [
            "Evaluation \t Proposed point \t  Current eval. \t  Best eval. \t        Exact EI: StdDev. x \t Approx EI: StdDev. x \n",
            "init\t [-1.84801498  0.2752808 ]\t 43.39160388622011\t 6.891623366037299\t    \t    \n",
            "init\t [-2.77631292 -3.88889678]\t 30048.58268621874\t 6.891623366037299\t    \t    \n",
            "init\t [2.58286914 1.4070017 ]\t 81.72560623465196\t 6.891623366037299\t    \t    \n",
            "init\t [1.23768806 0.68042604]\t 6.891623366037299\t 6.891623366037299\t    \t    \n",
            "init\t [-4.14843375 -1.27967756]\t 359.4343933746243\t 6.891623366037299\t    \t    \n",
            "1  \t [ 4.5 -4.5]\t 178131.83203125\t 6.891623366037299\t 2.6799258046172674\t 4.217868333316554\n",
            "2  \t [-4.5  4.5]\t 169680.83203125\t 6.891623366037299\t 2.820358055338222\t 3.53624921175949\n",
            "3  \t [4.5 4.5]\t 174813.36328125\t 6.891623366037299\t 3.0973838009010977\t 2.236084803206534\n",
            "\u001b[1m\u001b[92m4\u001b[0m\t \u001b[1m\u001b[92m[2.427441   0.42261093]\u001b[0m\t \u001b[1m\u001b[92m0.22026610216518208\u001b[0m\t \u001b[1m\u001b[92m0.22026610216518208\u001b[0m\t \u001b[1m\u001b[92m2.854179654952655\u001b[0m\t \u001b[1m\u001b[92m2.002609683619905\u001b[0m\n",
            "5  \t [2.33370467 0.49285547]\t 0.6592839647121023\t 0.22026610216518208\t 2.6465160247998236\t 1.9408455684126222\n",
            "6  \t [2.29526899 0.52213004]\t 0.930401463381831\t 0.22026610216518208\t 2.370623395217937\t 2.435063332523057\n",
            "7  \t [2.27918987 0.53509913]\t 1.0656474260107838\t 0.22026610216518208\t 2.399912282485841\t 1.8074308572180502\n",
            "8  \t [2.45293253 4.01434402]\t 26860.44714850753\t 0.22026610216518208\t 2.718938322108052\t 2.718938322108052\n",
            "9  \t [2.76814484 0.5822664 ]\t 0.4574507747322289\t 0.22026610216518208\t 2.9147285709164357\t 2.1185164525259617\n",
            "10 \t [2.65702513 0.60111906]\t 0.7967804632733257\t 0.22026610216518208\t 2.0833660046672597\t 1.7557526238361476\n",
            "11 \t [2.60050132 0.60902894]\t 0.9851180579483512\t 0.22026610216518208\t 2.8127981247761054\t 1.9292542179605932\n",
            "12 \t [2.56779565 0.61296933]\t 1.0955185235886131\t 0.22026610216518208\t 2.401951565944835\t 2.1350052427123023\n",
            "13 \t [2.5475931  0.61509001]\t 1.1629213703055945\t 0.22026610216518208\t 2.3192180834698655\t 2.5448614768094124\n",
            "14 \t [2.53457536 0.61627284]\t 1.205285676437644\t 0.22026610216518208\t 2.386040190864827\t 2.4509004141122968\n",
            "15 \t [2.52591994 0.6169378 ]\t 1.2324869340921216\t 0.22026610216518208\t 1.9194264934526506\t 1.600996810004459\n",
            "16 \t [2.52001764 0.61730396]\t 1.2502263892165284\t 0.22026610216518208\t 1.713981311957135\t 1.7953596590185597\n",
            "17 \t [2.5159053  0.61749275]\t 1.2619191661682736\t 0.22026610216518208\t 2.0983524494716033\t 2.0408541928779096\n",
            "18 \t [2.51298554 0.61757454]\t 1.2696721027458735\t 0.22026610216518208\t 2.4430039392687393\t 2.085930543130471\n",
            "19 \t [2.51087755 0.61759125]\t 1.27481377978894\t 0.22026610216518208\t 2.38726918725102\t 1.0386956410906187\n",
            "20 \t [2.50933197 0.61756869]\t 1.2782039363583395\t 0.22026610216518208\t 2.2774365784724746\t 1.6086585349948141\n"
          ]
        }
      ],
      "source": [
        "### ESTIMATED GP EI GRADIENTS\n",
        "\n",
        "np.random.seed(run_num_17)\n",
        "surrogate_approx_17 = dGaussianProcess(cov_func, optimize=opt)\n",
        "\n",
        "approx_17 = GPGO_multi(surrogate_approx_17, Acquisition_grad(util), objfunc, param)\n",
        "approx_17.run(init_evals=n_init, max_iter=iters)\n"
      ]
    },
    {
      "cell_type": "code",
      "execution_count": 30,
      "metadata": {
        "id": "f0HIEP3PIUEa",
        "colab": {
          "base_uri": "https://localhost:8080/"
        },
        "outputId": "e6111e60-1826-46d1-c366-a6d1b9f236ea"
      },
      "outputs": [
        {
          "output_type": "stream",
          "name": "stdout",
          "text": [
            "Evaluation \t Proposed point \t  Current eval. \t  Best eval. \t        Exact EI: StdDev. x \t Approx EI: StdDev. x \n",
            "init\t [1.35336818 0.04908036]\t 2.472652645883837\t 2.472652645883837\t    \t    \n",
            "init\t [ 3.40741324 -2.86343797]\t 7379.017314590048\t 2.472652645883837\t    \t    \n",
            "init\t [3.17009762 2.25122657]\t 1528.3101419799655\t 2.472652645883837\t    \t    \n",
            "init\t [1.49491501 4.39105903]\t 17224.913295283764\t 2.472652645883837\t    \t    \n",
            "init\t [-2.1872842  -4.24524667]\t 31030.348242396165\t 2.472652645883837\t    \t    \n",
            "1  \t [ 0.35252652 -0.06916658]\t 10.031746297677731\t 2.472652645883837\t 3.2194249712749947\t 3.669924558120487\n",
            "2  \t [-4.5         2.12043089]\t 1474.3828612911184\t 2.472652645883837\t 2.7882307590629023\t 3.7089859842027755\n",
            "3  \t [-1.15383438  0.45523655]\t 28.01494419052816\t 2.472652645883837\t 2.9604656140431245\t 3.432253316326474\n",
            "4  \t [ 0.69649249 -0.10223112]\t 6.688596239460429\t 2.472652645883837\t 3.3406766476464393\t 3.5769321208973324\n",
            "5  \t [ 0.69950875 -0.09689409]\t 6.666366127663695\t 2.472652645883837\t 3.170722942877611\t 3.3853840756817\n",
            "6  \t [ 0.70107866 -0.09421559]\t 6.654788772708756\t 2.472652645883837\t 3.8129743399737195\t 3.8107081495904174\n",
            "7  \t [ 0.70202267 -0.0926415 ]\t 6.647821205874581\t 2.472652645883837\t 2.911864468425436\t 3.2818782098403094\n",
            "8  \t [ 0.70264436 -0.09162114]\t 6.643229200869859\t 2.472652645883837\t 3.6773665111434446\t 3.647974919838574\n",
            "9  \t [ 0.70308035 -0.09091406]\t 6.640006444392444\t 2.472652645883837\t 3.05255933674097\t 3.17842150816364\n",
            "10 \t [ 0.70340066 -0.09039992]\t 6.637636949633176\t 2.472652645883837\t 3.340340351525792\t 3.5944042006435013\n",
            "11 \t [ 0.70364404 -0.09001095]\t 6.635836413742295\t 2.472652645883837\t 3.195886442484481\t 3.2875394130712143\n",
            "12 \t [ 0.70383464 -0.08970871]\t 6.634425267100223\t 2.472652645883837\t 3.4591120730666693\t 3.3591382130060854\n",
            "13 \t [ 0.70398718 -0.08946802]\t 6.633295476967685\t 2.472652645883837\t 3.726134330077047\t 3.8733072521322445\n",
            "14 \t [ 0.70411164 -0.0892725 ]\t 6.632373322576268\t 2.472652645883837\t 3.3797772292896906\t 3.4758532130229867\n",
            "15 \t [ 0.70421479 -0.08911103]\t 6.6316088342387385\t 2.472652645883837\t 2.9465334667012053\t 3.306963260982187\n",
            "16 \t [ 0.70430147 -0.08897582]\t 6.630966178225847\t 2.472652645883837\t 2.8170034360897738\t 2.9595205343289486\n",
            "17 \t [ 0.70437494 -0.08886111]\t 6.630421626518324\t 2.472652645883837\t 3.5108882618314308\t 3.464756480762281\n",
            "18 \t [ 0.70443851 -0.08876297]\t 6.629949776640101\t 2.472652645883837\t 3.605242744831959\t 3.4826719096700622\n",
            "19 \t [ 0.70449333 -0.08867806]\t 6.629543092007255\t 2.472652645883837\t 3.297549606176801\t 3.2477607408469935\n",
            "20 \t [ 0.70454127 -0.08860408]\t 6.629187253455401\t 2.472652645883837\t 3.092769576592462\t 3.3235879122744825\n"
          ]
        }
      ],
      "source": [
        "### ESTIMATED GP EI GRADIENTS\n",
        "\n",
        "np.random.seed(run_num_18)\n",
        "surrogate_approx_18 = dGaussianProcess(cov_func, optimize=opt)\n",
        "\n",
        "approx_18 = GPGO_multi(surrogate_approx_18, Acquisition_grad(util), objfunc, param)\n",
        "approx_18.run(init_evals=n_init, max_iter=iters)\n"
      ]
    },
    {
      "cell_type": "code",
      "execution_count": 31,
      "metadata": {
        "id": "S3mxRQDLIUPC",
        "colab": {
          "base_uri": "https://localhost:8080/"
        },
        "outputId": "af0d0e70-a0c9-4212-e099-d9ef09451338"
      },
      "outputs": [
        {
          "output_type": "stream",
          "name": "stdout",
          "text": [
            "Evaluation \t Proposed point \t  Current eval. \t  Best eval. \t        Exact EI: StdDev. x \t Approx EI: StdDev. x \n",
            "init\t [-3.62219758  2.35124745]\t 1879.409018573639\t 63.544086067314716\t    \t    \n",
            "init\t [-2.27755824 -3.25681481]\t 7496.243410303341\t 63.544086067314716\t    \t    \n",
            "init\t [-1.51698093 -3.75300391]\t 7497.407542620609\t 63.544086067314716\t    \t    \n",
            "init\t [1.54779373 2.75934418]\t 1302.4341957421634\t 63.544086067314716\t    \t    \n",
            "init\t [4.34467723 1.22094661]\t 63.544086067314716\t 63.544086067314716\t    \t    \n",
            "1  \t [ 4.5 -4.5]\t 178131.83203125\t 63.544086067314716\t 2.8969894633831896\t 4.292726406376255\n",
            "2  \t [4.5 4.5]\t 174813.36328125\t 63.544086067314716\t 3.753982040199124\t 3.909597066390331\n",
            "\u001b[1m\u001b[92m3\u001b[0m\t \u001b[1m\u001b[92m[4.32863904 0.45326749]\u001b[0m\t \u001b[1m\u001b[92m3.8568730643505535\u001b[0m\t \u001b[1m\u001b[92m3.8568730643505535\u001b[0m\t \u001b[1m\u001b[92m2.441545183332005\u001b[0m\t \u001b[1m\u001b[92m3.7334427700986486\u001b[0m\n",
            "\u001b[1m\u001b[92m4\u001b[0m\t \u001b[1m\u001b[92m[4.32759509 0.48570429]\u001b[0m\t \u001b[1m\u001b[92m3.0993562520778477\u001b[0m\t \u001b[1m\u001b[92m3.0993562520778477\u001b[0m\t \u001b[1m\u001b[92m2.5273079096521895\u001b[0m\t \u001b[1m\u001b[92m3.0939614579529224\u001b[0m\n",
            "\u001b[1m\u001b[92m5\u001b[0m\t \u001b[1m\u001b[92m[4.32778115 0.49746442]\u001b[0m\t \u001b[1m\u001b[92m2.8379432051188616\u001b[0m\t \u001b[1m\u001b[92m2.8379432051188616\u001b[0m\t \u001b[1m\u001b[92m2.7803901172801653\u001b[0m\t \u001b[1m\u001b[92m3.3819888956904753\u001b[0m\n",
            "\u001b[1m\u001b[92m6\u001b[0m\t \u001b[1m\u001b[92m[4.32791465 0.50342782]\u001b[0m\t \u001b[1m\u001b[92m2.7079801217109987\u001b[0m\t \u001b[1m\u001b[92m2.7079801217109987\u001b[0m\t \u001b[1m\u001b[92m2.9245510667457357\u001b[0m\t \u001b[1m\u001b[92m3.4502061668321695\u001b[0m\n",
            "7  \t [ 1.29220599 -0.74239924]\t 4.000215490541804\t 2.7079801217109987\t 2.84197075072134\t 3.47148090325499\n",
            "\u001b[1m\u001b[92m8\u001b[0m\t \u001b[1m\u001b[92m[4.32833214 0.50698483]\u001b[0m\t \u001b[1m\u001b[92m2.6326511278655804\u001b[0m\t \u001b[1m\u001b[92m2.6326511278655804\u001b[0m\t \u001b[1m\u001b[92m2.55437020778581\u001b[0m\t \u001b[1m\u001b[92m3.4857985273952825\u001b[0m\n",
            "9  \t [ 1.2856539  -0.74278666]\t 4.009823885565976\t 2.6326511278655804\t 2.6883556028631546\t 3.163728553051996\n",
            "\u001b[1m\u001b[92m10\u001b[0m\t \u001b[1m\u001b[92m[4.32826834 0.50933386]\u001b[0m\t \u001b[1m\u001b[92m2.5818706854760345\u001b[0m\t \u001b[1m\u001b[92m2.5818706854760345\u001b[0m\t \u001b[1m\u001b[92m3.0570708104580433\u001b[0m\t \u001b[1m\u001b[92m4.017353035417661\u001b[0m\n",
            "11 \t [ 1.28113691 -0.74302825]\t 4.016551614876613\t 2.5818706854760345\t 2.391772581624443\t 2.830395430636032\n",
            "\u001b[1m\u001b[92m12\u001b[0m\t \u001b[1m\u001b[92m[4.3282668  0.51098374]\u001b[0m\t \u001b[1m\u001b[92m2.546552153845221\u001b[0m\t \u001b[1m\u001b[92m2.546552153845221\u001b[0m\t \u001b[1m\u001b[92m2.8740491429188366\u001b[0m\t \u001b[1m\u001b[92m3.3711763949331766\u001b[0m\n",
            "\u001b[1m\u001b[92m13\u001b[0m\t \u001b[1m\u001b[92m[4.32823866 0.51220106]\u001b[0m\t \u001b[1m\u001b[92m2.5204802565302\u001b[0m\t \u001b[1m\u001b[92m2.5204802565302\u001b[0m\t \u001b[1m\u001b[92m2.6349802317983513\u001b[0m\t \u001b[1m\u001b[92m2.744074540123213\u001b[0m\n",
            "\u001b[1m\u001b[92m14\u001b[0m\t \u001b[1m\u001b[92m[4.32825523 0.51313141]\u001b[0m\t \u001b[1m\u001b[92m2.5007581621610995\u001b[0m\t \u001b[1m\u001b[92m2.5007581621610995\u001b[0m\t \u001b[1m\u001b[92m2.7952491945641356\u001b[0m\t \u001b[1m\u001b[92m3.1637884031853223\u001b[0m\n",
            "\u001b[1m\u001b[92m15\u001b[0m\t \u001b[1m\u001b[92m[4.32827478 0.51386319]\u001b[0m\t \u001b[1m\u001b[92m2.4853033447325954\u001b[0m\t \u001b[1m\u001b[92m2.4853033447325954\u001b[0m\t \u001b[1m\u001b[92m2.7816920235348537\u001b[0m\t \u001b[1m\u001b[92m3.335297388921214\u001b[0m\n",
            "16 \t [ 1.27099293 -0.74336156]\t 4.031365681227674\t 2.4853033447325954\t 2.6158738628425082\t 2.876452114736641\n",
            "17 \t [ 1.27180155 -0.74348568]\t 4.03085339117351\t 2.4853033447325954\t 2.6707288502669253\t 3.004508598361992\n",
            "\u001b[1m\u001b[92m18\u001b[0m\t \u001b[1m\u001b[92m[4.3283798  0.51445168]\u001b[0m\t \u001b[1m\u001b[92m2.473241962954688\u001b[0m\t \u001b[1m\u001b[92m2.473241962954688\u001b[0m\t \u001b[1m\u001b[92m3.121343856400548\u001b[0m\t \u001b[1m\u001b[92m3.6883752610910925\u001b[0m\n",
            "19 \t [ 1.270767   -0.74358352]\t 4.032708276488629\t 2.473241962954688\t 2.5798811009862903\t 2.9418661523866745\n",
            "20 \t [ 1.27118888 -0.74364647]\t 4.032431571124382\t 2.473241962954688\t 2.5842285433745973\t 3.2504976035870548\n"
          ]
        }
      ],
      "source": [
        "### ESTIMATED GP EI GRADIENTS\n",
        "\n",
        "np.random.seed(run_num_19)\n",
        "surrogate_approx_19 = dGaussianProcess(cov_func, optimize=opt)\n",
        "\n",
        "approx_19 = GPGO_multi(surrogate_approx_19, Acquisition_grad(util), objfunc, param)\n",
        "approx_19.run(init_evals=n_init, max_iter=iters)\n"
      ]
    },
    {
      "cell_type": "code",
      "execution_count": 32,
      "metadata": {
        "id": "Aawd59dRIUYn",
        "colab": {
          "base_uri": "https://localhost:8080/"
        },
        "outputId": "0757b1b5-9d14-4aaa-9bd3-6baab2be3d63"
      },
      "outputs": [
        {
          "output_type": "stream",
          "name": "stdout",
          "text": [
            "Evaluation \t Proposed point \t  Current eval. \t  Best eval. \t        Exact EI: StdDev. x \t Approx EI: StdDev. x \n",
            "init\t [0.79317721 3.57942355]\t 1607.3829986954497\t 30.55204392634667\t    \t    \n",
            "init\t [3.52377657 2.8425373 ]\t 7209.150060592592\t 30.55204392634667\t    \t    \n",
            "init\t [-4.17699373  1.72581824]\t 253.68900136908488\t 30.55204392634667\t    \t    \n",
            "init\t [-1.09187152  0.16659851]\t 30.55204392634667\t 30.55204392634667\t    \t    \n",
            "init\t [ 1.42156319 -2.75534804]\t 963.9362838324588\t 30.55204392634667\t    \t    \n",
            "1  \t [-4.5 -4.5]\t 181853.61328125\t 30.55204392634667\t 2.5490117828035403\t 3.827436636657222\n",
            "2  \t [ 4.5 -4.5]\t 178131.83203125\t 30.55204392634667\t 2.5321540790964066\t 3.4983174097186733\n",
            "3  \t [-4.5  4.5]\t 169680.83203125\t 30.55204392634667\t 2.452061550777846\t 3.461850429814911\n",
            "\u001b[1m\u001b[92m4\u001b[0m\t \u001b[1m\u001b[92m[-4.08134064  0.88543396]\u001b[0m\t \u001b[1m\u001b[92m28.679797022538555\u001b[0m\t \u001b[1m\u001b[92m28.679797022538555\u001b[0m\t \u001b[1m\u001b[92m2.7410424770902484\u001b[0m\t \u001b[1m\u001b[92m3.1634045227687717\u001b[0m\n",
            "5  \t [-1.72839512 -4.0053318 ]\t 13987.39747203397\t 28.679797022538555\t 2.4363917031561906\t 2.3360667292430755\n",
            "\u001b[1m\u001b[92m6\u001b[0m\t \u001b[1m\u001b[92m[-4.08397152  0.93516961]\u001b[0m\t \u001b[1m\u001b[92m22.094649548950716\u001b[0m\t \u001b[1m\u001b[92m22.094649548950716\u001b[0m\t \u001b[1m\u001b[92m2.814024932551808\u001b[0m\t \u001b[1m\u001b[92m2.5692021370775917\u001b[0m\n",
            "\u001b[1m\u001b[92m7\u001b[0m\t \u001b[1m\u001b[92m[-4.08692165  0.94636933]\u001b[0m\t \u001b[1m\u001b[92m20.668829774830375\u001b[0m\t \u001b[1m\u001b[92m20.668829774830375\u001b[0m\t \u001b[1m\u001b[92m3.0327002952985618\u001b[0m\t \u001b[1m\u001b[92m3.3182289717843156\u001b[0m\n",
            "\u001b[1m\u001b[92m8\u001b[0m\t \u001b[1m\u001b[92m[-4.08740311  0.95212024]\u001b[0m\t \u001b[1m\u001b[92m19.94375127835974\u001b[0m\t \u001b[1m\u001b[92m19.94375127835974\u001b[0m\t \u001b[1m\u001b[92m2.5837708541103073\u001b[0m\t \u001b[1m\u001b[92m2.8541144926858832\u001b[0m\n",
            "\u001b[1m\u001b[92m9\u001b[0m\t \u001b[1m\u001b[92m[-4.08782754  0.95551549]\u001b[0m\t \u001b[1m\u001b[92m19.519019075868435\u001b[0m\t \u001b[1m\u001b[92m19.519019075868435\u001b[0m\t \u001b[1m\u001b[92m2.767479553229682\u001b[0m\t \u001b[1m\u001b[92m2.7723544396839706\u001b[0m\n",
            "\u001b[1m\u001b[92m10\u001b[0m\t \u001b[1m\u001b[92m[-4.08808066  0.95774337]\u001b[0m\t \u001b[1m\u001b[92m19.241580240272626\u001b[0m\t \u001b[1m\u001b[92m19.241580240272626\u001b[0m\t \u001b[1m\u001b[92m2.4931802211559977\u001b[0m\t \u001b[1m\u001b[92m2.6235595736641635\u001b[0m\n",
            "\u001b[1m\u001b[92m11\u001b[0m\t \u001b[1m\u001b[92m[-4.08826364  0.95930415]\u001b[0m\t \u001b[1m\u001b[92m19.04784957992493\u001b[0m\t \u001b[1m\u001b[92m19.04784957992493\u001b[0m\t \u001b[1m\u001b[92m2.5268332094472825\u001b[0m\t \u001b[1m\u001b[92m2.6565957616394242\u001b[0m\n",
            "\u001b[1m\u001b[92m12\u001b[0m\t \u001b[1m\u001b[92m[-4.08839682  0.96045254]\u001b[0m\t \u001b[1m\u001b[92m18.90563826053674\u001b[0m\t \u001b[1m\u001b[92m18.90563826053674\u001b[0m\t \u001b[1m\u001b[92m2.716884800919556\u001b[0m\t \u001b[1m\u001b[92m3.056971430318692\u001b[0m\n",
            "\u001b[1m\u001b[92m13\u001b[0m\t \u001b[1m\u001b[92m[-4.08849888  0.96132891]\u001b[0m\t \u001b[1m\u001b[92m18.797306886743463\u001b[0m\t \u001b[1m\u001b[92m18.797306886743463\u001b[0m\t \u001b[1m\u001b[92m2.771681036964823\u001b[0m\t \u001b[1m\u001b[92m2.9163678368230563\u001b[0m\n",
            "\u001b[1m\u001b[92m14\u001b[0m\t \u001b[1m\u001b[92m[-4.08857889  0.96201727]\u001b[0m\t \u001b[1m\u001b[92m18.71233282059661\u001b[0m\t \u001b[1m\u001b[92m18.71233282059661\u001b[0m\t \u001b[1m\u001b[92m2.587800407705903\u001b[0m\t \u001b[1m\u001b[92m2.9046064144049994\u001b[0m\n",
            "\u001b[1m\u001b[92m15\u001b[0m\t \u001b[1m\u001b[92m[-4.08864363  0.96257062]\u001b[0m\t \u001b[1m\u001b[92m18.644100375789805\u001b[0m\t \u001b[1m\u001b[92m18.644100375789805\u001b[0m\t \u001b[1m\u001b[92m2.290227251846092\u001b[0m\t \u001b[1m\u001b[92m2.437607681890229\u001b[0m\n",
            "\u001b[1m\u001b[92m16\u001b[0m\t \u001b[1m\u001b[92m[-4.08869611  0.96302414]\u001b[0m\t \u001b[1m\u001b[92m18.588228315405793\u001b[0m\t \u001b[1m\u001b[92m18.588228315405793\u001b[0m\t \u001b[1m\u001b[92m2.48749395029622\u001b[0m\t \u001b[1m\u001b[92m2.875484925397908\u001b[0m\n",
            "\u001b[1m\u001b[92m17\u001b[0m\t \u001b[1m\u001b[92m[-4.08873984  0.96340177]\u001b[0m\t \u001b[1m\u001b[92m18.541740823841106\u001b[0m\t \u001b[1m\u001b[92m18.541740823841106\u001b[0m\t \u001b[1m\u001b[92m2.501567413262611\u001b[0m\t \u001b[1m\u001b[92m2.43270935249278\u001b[0m\n",
            "\u001b[1m\u001b[92m18\u001b[0m\t \u001b[1m\u001b[92m[-4.08877759  0.96372044]\u001b[0m\t \u001b[1m\u001b[92m18.50253608388187\u001b[0m\t \u001b[1m\u001b[92m18.50253608388187\u001b[0m\t \u001b[1m\u001b[92m2.3592483549183974\u001b[0m\t \u001b[1m\u001b[92m3.243789773418686\u001b[0m\n",
            "\u001b[1m\u001b[92m19\u001b[0m\t \u001b[1m\u001b[92m[-4.08880845  0.96399275]\u001b[0m\t \u001b[1m\u001b[92m18.469052206433176\u001b[0m\t \u001b[1m\u001b[92m18.469052206433176\u001b[0m\t \u001b[1m\u001b[92m2.5214834284795153\u001b[0m\t \u001b[1m\u001b[92m2.6538322244513095\u001b[0m\n",
            "\u001b[1m\u001b[92m20\u001b[0m\t \u001b[1m\u001b[92m[-4.08883685  0.96422752]\u001b[0m\t \u001b[1m\u001b[92m18.440199790220866\u001b[0m\t \u001b[1m\u001b[92m18.440199790220866\u001b[0m\t \u001b[1m\u001b[92m2.278362209561417\u001b[0m\t \u001b[1m\u001b[92m2.5828509517051867\u001b[0m\n"
          ]
        }
      ],
      "source": [
        "### ESTIMATED GP EI GRADIENTS\n",
        "\n",
        "np.random.seed(run_num_20)\n",
        "surrogate_approx_20 = dGaussianProcess(cov_func, optimize=opt)\n",
        "\n",
        "approx_20 = GPGO_multi(surrogate_approx_20, Acquisition_grad(util), objfunc, param)\n",
        "approx_20.run(init_evals=n_init, max_iter=iters)\n"
      ]
    },
    {
      "cell_type": "code",
      "execution_count": 33,
      "metadata": {
        "id": "xkgzPRbBTHaq",
        "colab": {
          "base_uri": "https://localhost:8080/"
        },
        "outputId": "eb0d97eb-b856-4795-987f-6ce4eb7f9f26"
      },
      "outputs": [
        {
          "output_type": "execute_result",
          "data": {
            "text/plain": [
              "1659633559.9020026"
            ]
          },
          "metadata": {},
          "execution_count": 33
        }
      ],
      "source": [
        "end_approx = time.time()\n",
        "end_approx\n",
        "\n",
        "time_approx = end_approx - start_approx\n",
        "time_approx\n",
        "\n",
        "start_exact = time.time()\n",
        "start_exact"
      ]
    },
    {
      "cell_type": "code",
      "execution_count": 34,
      "metadata": {
        "id": "7CG3Ndvb16Rb",
        "colab": {
          "base_uri": "https://localhost:8080/"
        },
        "outputId": "09efb31e-5d77-40fc-bcad-2322dab18e5f"
      },
      "outputs": [
        {
          "output_type": "stream",
          "name": "stdout",
          "text": [
            "Evaluation \t Proposed point \t  Current eval. \t  Best eval. \t        Exact EI: StdDev. x \t Approx EI: StdDev. x \n",
            "init\t [-0.74680196  1.98292044]\t 6.597029498756062\t 6.597029498756062\t    \t    \n",
            "init\t [-4.49897063 -1.77900685]\t 1305.4710589552556\t 6.597029498756062\t    \t    \n",
            "init\t [-3.17919698 -3.66895265]\t 28173.776013477825\t 6.597029498756062\t    \t    \n",
            "init\t [-2.8236581  -1.38995346]\t 237.9931764117774\t 6.597029498756062\t    \t    \n",
            "init\t [-0.92909273  0.34935061]\t 26.1790631757263\t 6.597029498756062\t    \t    \n",
            "1  \t [-2.37692771 -0.56982307]\t 71.84140373366913\t 6.597029498756062\t 3.5373601487973314\t 3.699840160494858\n",
            "2  \t [-2.12706247 -0.67114504]\t 66.34554837758206\t 6.597029498756062\t 2.4378406102390566\t 3.3125146015597777\n",
            "3  \t [4.5 4.5]\t 174813.36328125\t 6.597029498756062\t 3.5958586017944714\t 3.84608743671144\n",
            "4  \t [-3.32380768 -0.09698206]\t 92.62714101197979\t 6.597029498756062\t 2.809847764232406\t 3.828615098757116\n",
            "5  \t [ 3.767416   -4.49638178]\t 124016.78275863834\t 6.597029498756062\t 2.0354777586150776\t 3.706830231147524\n",
            "6  \t [-0.93274485  4.5       ]\t 6882.021868197424\t 6.597029498756062\t 2.4738594685675954\t 3.1901474636677047\n",
            "7  \t [-0.21531211  1.25657522]\t 12.427480857237775\t 6.597029498756062\t 2.492635856591679\t 2.1387865406586197\n",
            "\u001b[1m\u001b[92m8\u001b[0m\t \u001b[1m\u001b[92m[-1.36280357  1.43463322]\u001b[0m\t \u001b[1m\u001b[92m1.4779250297682343\u001b[0m\t \u001b[1m\u001b[92m1.4779250297682343\u001b[0m\t \u001b[1m\u001b[92m2.8332408908776525\u001b[0m\t \u001b[1m\u001b[92m3.2401555787342597\u001b[0m\n",
            "9  \t [-0.5435514   1.29596506]\t 9.272108845013936\t 1.4779250297682343\t 2.4596940589096388\t 2.6298067942233745\n",
            "10 \t [-0.59011071  1.30114173]\t 8.806063878701629\t 1.4779250297682343\t 2.703763618400703\t 2.923826923095764\n",
            "\u001b[1m\u001b[92m11\u001b[0m\t \u001b[1m\u001b[92m[2.33208524 0.08778563]\u001b[0m\t \u001b[1m\u001b[92m0.4844189907029142\u001b[0m\t \u001b[1m\u001b[92m0.4844189907029142\u001b[0m\t \u001b[1m\u001b[92m1.8440259508019352\u001b[0m\t \u001b[1m\u001b[92m2.353044455032751\u001b[0m\n",
            "\u001b[1m\u001b[92m12\u001b[0m\t \u001b[1m\u001b[92m[2.12859477 0.14732864]\u001b[0m\t \u001b[1m\u001b[92m0.3805347773590996\u001b[0m\t \u001b[1m\u001b[92m0.3805347773590996\u001b[0m\t \u001b[1m\u001b[92m2.5872208337773013\u001b[0m\t \u001b[1m\u001b[92m2.9110479484226977\u001b[0m\n",
            "13 \t [-0.47213872  1.28845125]\t 9.973746834541641\t 0.3805347773590996\t 1.9196754651111798\t 2.3644326537789064\n",
            "14 \t [-4.5        2.4577481]\t 4005.073613899899\t 0.3805347773590996\t 2.352020380956838\t 2.6651172471457576\n",
            "15 \t [-0.68277221  1.30130148]\t 8.082953953601812\t 0.3805347773590996\t 2.0983596058185667\t 2.472197204881908\n",
            "16 \t [2.28896901 0.11823287]\t 0.3841961513723296\t 0.3805347773590996\t 1.964819593489448\t 2.4306261208247437\n",
            "17 \t [2.34764961 0.09872278]\t 0.4630837303461242\t 0.3805347773590996\t 2.1054131725500143\t 2.418509233575385\n",
            "18 \t [3.32433341 0.00910371]\t 4.86135002359072\t 0.3805347773590996\t 2.620855220889972\t 2.809805108147306\n",
            "19 \t [1.817384   0.09108917]\t 0.8779505406136813\t 0.3805347773590996\t 2.2725832704004785\t 2.506850275787512\n",
            "20 \t [ 1.84744617 -0.01196573]\t 0.9034164811278734\t 0.3805347773590996\t 2.2324868041500374\t 2.102373230163964\n"
          ]
        }
      ],
      "source": [
        "### EXACT GP EI GRADIENTS\n",
        "\n",
        "np.random.seed(run_num_1)\n",
        "surrogate_exact_1 = dGaussianProcess(cov_func, optimize=opt)\n",
        "\n",
        "exact_1 = dGPGO(surrogate_exact_1, Acquisition_grad(util), objfunc, param)\n",
        "exact_1.run(init_evals=n_init, max_iter=iters)\n"
      ]
    },
    {
      "cell_type": "code",
      "execution_count": 35,
      "metadata": {
        "id": "-ilCPSAu9SAg",
        "colab": {
          "base_uri": "https://localhost:8080/"
        },
        "outputId": "02fea13e-8f33-4bc3-8116-d56e7ed64be3"
      },
      "outputs": [
        {
          "output_type": "stream",
          "name": "stdout",
          "text": [
            "Evaluation \t Proposed point \t  Current eval. \t  Best eval. \t        Exact EI: StdDev. x \t Approx EI: StdDev. x \n",
            "init\t [-0.57604588 -4.26666391]\t 2377.8441741808733\t 8.81624267140378\t    \t    \n",
            "init\t [ 0.4469623  -0.58209847]\t 8.81624267140378\t 8.81624267140378\t    \t    \n",
            "init\t [-0.71668978 -1.52698661]\t 47.3742628518178\t 8.81624267140378\t    \t    \n",
            "init\t [-2.65816229  1.0734387 ]\t 9.08861590265506\t 8.81624267140378\t    \t    \n",
            "init\t [-1.80310794 -2.09855452]\t 510.2220943696988\t 8.81624267140378\t    \t    \n",
            "1  \t [4.5 4.5]\t 174813.36328125\t 8.81624267140378\t 3.6019591153847283\t 3.5664030485542684\n",
            "2  \t [ 0.27392553 -0.64399514]\t 10.65745224764512\t 8.81624267140378\t 2.95615882243448\t 3.761366092574945\n",
            "3  \t [ 4.5        -2.33235285]\t 4153.69518109042\t 8.81624267140378\t 2.962376411594058\t 3.9607489326921472\n",
            "4  \t [-1.38335231  4.5       ]\t 15501.640111665465\t 8.81624267140378\t 2.460746089534834\t 3.561682774414814\n",
            "5  \t [-4.5 -4.5]\t 181853.61328125\t 8.81624267140378\t 1.8692320013497603\t 2.3862045672637002\n",
            "6  \t [-4.11114281  0.72396243]\t 51.429136248861155\t 8.81624267140378\t 1.6660254104735828\t 2.6794914294732917\n",
            "7  \t [1.14254554 0.92470719]\t 12.036518743859148\t 8.81624267140378\t 1.8369462948455242\t 2.783076208564229\n",
            "8  \t [-0.78898787  0.37814341]\t 23.890938315739653\t 8.81624267140378\t 1.571288443831965\t 2.3769311821271537\n",
            "\u001b[1m\u001b[92m9\u001b[0m\t \u001b[1m\u001b[92m[ 0.94780394 -1.08736712]\u001b[0m\t \u001b[1m\u001b[92m6.3094216506335705\u001b[0m\t \u001b[1m\u001b[92m6.3094216506335705\u001b[0m\t \u001b[1m\u001b[92m1.4272033621889881\u001b[0m\t \u001b[1m\u001b[92m1.4614247436963785\u001b[0m\n",
            "10 \t [ 0.4575767  -0.75212222]\t 8.586986881095598\t 6.3094216506335705\t 1.9410663930708196\t 2.829469771579544\n",
            "11 \t [ 0.71103704 -0.91599975]\t 6.449571557670833\t 6.3094216506335705\t 1.6389655829273806\t 1.8830747237990253\n",
            "\u001b[1m\u001b[92m12\u001b[0m\t \u001b[1m\u001b[92m[1.56756863 0.69323177]\u001b[0m\t \u001b[1m\u001b[92m5.595337342699237\u001b[0m\t \u001b[1m\u001b[92m5.595337342699237\u001b[0m\t \u001b[1m\u001b[92m1.5388609744737933\u001b[0m\t \u001b[1m\u001b[92m1.830980274267022\u001b[0m\n",
            "\u001b[1m\u001b[92m13\u001b[0m\t \u001b[1m\u001b[92m[1.7057685  0.57898986]\u001b[0m\t \u001b[1m\u001b[92m3.4201536000180353\u001b[0m\t \u001b[1m\u001b[92m3.4201536000180353\u001b[0m\t \u001b[1m\u001b[92m1.682729746292949\u001b[0m\t \u001b[1m\u001b[92m2.436487359556923\u001b[0m\n",
            "\u001b[1m\u001b[92m14\u001b[0m\t \u001b[1m\u001b[92m[2.07053584 0.31588354]\u001b[0m\t \u001b[1m\u001b[92m0.5400833637684155\u001b[0m\t \u001b[1m\u001b[92m0.5400833637684155\u001b[0m\t \u001b[1m\u001b[92m2.0047626298146706\u001b[0m\t \u001b[1m\u001b[92m3.161085004141845\u001b[0m\n",
            "15 \t [1.74703977 0.57206806]\t 3.173171259009864\t 0.5400833637684155\t 1.5841284061111272\t 2.1081948567367794\n",
            "16 \t [1.52771626 0.75898855]\t 6.964563006908531\t 0.5400833637684155\t 1.47144448562966\t 2.4461823635495197\n",
            "17 \t [1.87009428 0.4717707 ]\t 1.8010386398848721\t 0.5400833637684155\t 1.791673277397102\t 2.303513372184483\n",
            "18 \t [1.67103785 0.63603255]\t 4.285454761822071\t 0.5400833637684155\t 1.4753538747277366\t 1.4254841042881152\n",
            "19 \t [1.89942698 0.44604222]\t 1.5306637785764188\t 0.5400833637684155\t 1.6306482657435195\t 1.9428839090476702\n",
            "20 \t [1.42309856 0.86695873]\t 9.848258429724126\t 0.5400833637684155\t 1.904721156280318\t 2.4945023533969857\n"
          ]
        }
      ],
      "source": [
        "### EXACT GP EI GRADIENTS\n",
        "\n",
        "np.random.seed(run_num_2)\n",
        "surrogate_exact_2 = dGaussianProcess(cov_func, optimize=opt)\n",
        "\n",
        "exact_2 = dGPGO(surrogate_exact_2, Acquisition_grad(util), objfunc, param)\n",
        "exact_2.run(init_evals=n_init, max_iter=iters)\n"
      ]
    },
    {
      "cell_type": "code",
      "execution_count": 36,
      "metadata": {
        "id": "XieJ158mIvlP",
        "colab": {
          "base_uri": "https://localhost:8080/"
        },
        "outputId": "a4363170-7adc-4da2-eb56-25726cf5aad4"
      },
      "outputs": [
        {
          "output_type": "stream",
          "name": "stdout",
          "text": [
            "Evaluation \t Proposed point \t  Current eval. \t  Best eval. \t        Exact EI: StdDev. x \t Approx EI: StdDev. x \n",
            "init\t [0.45718112 1.8733304 ]\t 41.912714742005974\t 41.912714742005974\t    \t    \n",
            "init\t [-1.88185735  0.09744845]\t 47.451188393399434\t 41.912714742005974\t    \t    \n",
            "init\t [3.53652259 3.5666378 ]\t 27475.816689924115\t 41.912714742005974\t    \t    \n",
            "init\t [-3.36973221 -2.6348141 ]\t 5079.048973002421\t 41.912714742005974\t    \t    \n",
            "init\t [-4.03679517 -0.53271141]\t 138.4086524103332\t 41.912714742005974\t    \t    \n",
            "1  \t [ 2.05653946 -2.20902163]\t 597.1984874719438\t 41.912714742005974\t 2.1353816192907713\t 3.559211542537148\n",
            "2  \t [-2.92639628  4.44252938]\t 65853.81904458928\t 41.912714742005974\t 2.795543589318059\t 4.073223630412792\n",
            "\u001b[1m\u001b[92m3\u001b[0m\t \u001b[1m\u001b[92m[ 0.19483346 -0.02719373]\u001b[0m\t \u001b[1m\u001b[92m11.81964967274547\u001b[0m\t \u001b[1m\u001b[92m11.81964967274547\u001b[0m\t \u001b[1m\u001b[92m2.467677603629977\u001b[0m\t \u001b[1m\u001b[92m3.739401353026657\u001b[0m\n",
            "4  \t [-0.18976093 -3.93948468]\t 214.03278005054008\t 11.81964967274547\t 2.4951238774760585\t 3.2565454738590986\n",
            "5  \t [0.04355071 0.22413747]\t 13.694264241593597\t 11.81964967274547\t 2.97752497666805\t 3.7999202985729927\n",
            "6  \t [ 4.46207675 -4.05849301]\t 95598.74424276894\t 11.81964967274547\t 2.7101474009565414\t 2.9595550327269207\n",
            "\u001b[1m\u001b[92m7\u001b[0m\t \u001b[1m\u001b[92m[0.78572514 0.15222994]\u001b[0m\t \u001b[1m\u001b[92m6.286258058624451\u001b[0m\t \u001b[1m\u001b[92m6.286258058624451\u001b[0m\t \u001b[1m\u001b[92m2.7244595321368026\u001b[0m\t \u001b[1m\u001b[92m1.8310651246492704\u001b[0m\n",
            "\u001b[1m\u001b[92m8\u001b[0m\t \u001b[1m\u001b[92m[0.83304474 0.14043385]\u001b[0m\t \u001b[1m\u001b[92m5.888534800621182\u001b[0m\t \u001b[1m\u001b[92m5.888534800621182\u001b[0m\t \u001b[1m\u001b[92m3.005539608243898\u001b[0m\t \u001b[1m\u001b[92m2.7127372705244586\u001b[0m\n",
            "9  \t [0.35555982 0.53711139]\t 11.17486389947542\t 5.888534800621182\t 2.6738899357244925\t 1.9682629855063019\n",
            "\u001b[1m\u001b[92m10\u001b[0m\t \u001b[1m\u001b[92m[ 1.1253056 -0.0021775]\u001b[0m\t \u001b[1m\u001b[92m3.6525983693220594\u001b[0m\t \u001b[1m\u001b[92m3.6525983693220594\u001b[0m\t \u001b[1m\u001b[92m3.358264018513919\u001b[0m\t \u001b[1m\u001b[92m3.0499853724418946\u001b[0m\n",
            "11 \t [-4.35848157  0.44476289]\t 91.94671359301374\t 3.6525983693220594\t 2.929450034500135\t 2.344459985620888\n",
            "\u001b[1m\u001b[92m12\u001b[0m\t \u001b[1m\u001b[92m[ 1.21287353 -0.02430051]\u001b[0m\t \u001b[1m\u001b[92m3.1375545386504937\u001b[0m\t \u001b[1m\u001b[92m3.1375545386504937\u001b[0m\t \u001b[1m\u001b[92m2.877540921534319\u001b[0m\t \u001b[1m\u001b[92m2.666017929583335\u001b[0m\n",
            "13 \t [1.1475059  0.01156574]\t 3.5326104537614595\t 3.1375545386504937\t 2.7466527405488548\t 2.5474804340157373\n",
            "\u001b[1m\u001b[92m14\u001b[0m\t \u001b[1m\u001b[92m[ 1.64406797 -0.14471791]\u001b[0m\t \u001b[1m\u001b[92m1.5084623775297898\u001b[0m\t \u001b[1m\u001b[92m1.5084623775297898\u001b[0m\t \u001b[1m\u001b[92m2.425017241170282\u001b[0m\t \u001b[1m\u001b[92m2.780947709924646\u001b[0m\n",
            "15 \t [0.92038834 0.1660729 ]\t 5.292607803872771\t 1.5084623775297898\t 3.346081159212619\t 2.329841981172452\n",
            "16 \t [ 1.45374901 -0.07944276]\t 2.02362678531692\t 1.5084623775297898\t 3.0812143609902756\t 2.7462388025708173\n",
            "17 \t [1.05986155 0.09660968]\t 4.187064483104949\t 1.5084623775297898\t 2.7062184752544387\t 2.2693478460856853\n",
            "18 \t [1.25128052e+00 5.88125999e-04]\t 2.9467746576574\t 1.5084623775297898\t 3.474021464535852\t 2.3729936459460426\n",
            "19 \t [1.03721116 0.110595  ]\t 4.360825728737904\t 1.5084623775297898\t 3.408431614297736\t 2.8275600177977718\n",
            "20 \t [1.14395691 0.05549888]\t 3.6012126025827143\t 1.5084623775297898\t 2.670103673311838\t 2.1293816206848266\n"
          ]
        }
      ],
      "source": [
        "### EXACT GP EI GRADIENTS\n",
        "\n",
        "np.random.seed(run_num_3)\n",
        "surrogate_exact_3 = dGaussianProcess(cov_func, optimize=opt)\n",
        "\n",
        "exact_3 = dGPGO(surrogate_exact_3, Acquisition_grad(util), objfunc, param)\n",
        "exact_3.run(init_evals=n_init, max_iter=iters)\n"
      ]
    },
    {
      "cell_type": "code",
      "execution_count": 37,
      "metadata": {
        "id": "PhLBVOIfIvol",
        "colab": {
          "base_uri": "https://localhost:8080/"
        },
        "outputId": "ce2bf953-dab4-40a0-8e43-0d27ef73a5e2"
      },
      "outputs": [
        {
          "output_type": "stream",
          "name": "stdout",
          "text": [
            "Evaluation \t Proposed point \t  Current eval. \t  Best eval. \t        Exact EI: StdDev. x \t Approx EI: StdDev. x \n",
            "init\t [4.20326855 0.42509024]\t 3.8409856613776237\t 3.8409856613776237\t    \t    \n",
            "init\t [4.25415924 1.93334394]\t 1070.6518137934977\t 3.8409856613776237\t    \t    \n",
            "init\t [ 1.77955942 -2.55519454]\t 1001.3529311398922\t 3.8409856613776237\t    \t    \n",
            "init\t [ 4.28647009 -4.4439277 ]\t 150069.47442764963\t 3.8409856613776237\t    \t    \n",
            "init\t [-2.22315874 -0.58687621]\t 67.08861688517413\t 3.8409856613776237\t    \t    \n",
            "1  \t [-1.15543263  4.5       ]\t 10710.103503665621\t 3.8409856613776237\t 3.3802726320167187\t 4.015189705403431\n",
            "2  \t [-4.5 -4.5]\t 181853.61328125\t 3.8409856613776237\t 3.6984824702376407\t 3.287938624042071\n",
            "3  \t [0.86406273 0.58800356]\t 7.897350235387864\t 3.8409856613776237\t 3.1772666174675726\t 3.72787692016528\n",
            "4  \t [0.0758383  0.53476965]\t 13.524645534627005\t 3.8409856613776237\t 2.3071602470961445\t 3.710620568161993\n",
            "\u001b[1m\u001b[92m5\u001b[0m\t \u001b[1m\u001b[92m[-4.5         1.20236766]\u001b[0m\t \u001b[1m\u001b[92m0.8930351751661896\u001b[0m\t \u001b[1m\u001b[92m0.8930351751661896\u001b[0m\t \u001b[1m\u001b[92m3.1551717969314246\u001b[0m\t \u001b[1m\u001b[92m3.4474478445227956\u001b[0m\n",
            "6  \t [ 3.31573992 -0.21048328]\t 7.683487987002781\t 0.8930351751661896\t 2.9172602473103444\t 3.5270630694000586\n",
            "7  \t [-4.10136574  0.33830991]\t 95.48653467322826\t 0.8930351751661896\t 2.2638162995096276\t 3.070845651493927\n",
            "8  \t [1.59663873 0.3273023 ]\t 2.036872880954297\t 0.8930351751661896\t 2.956207489121138\t 3.3149047741634265\n",
            "9  \t [1.12057663 0.7387722 ]\t 8.315569356046607\t 0.8930351751661896\t 2.865780664225672\t 2.976796163196276\n",
            "10 \t [1.43460654 0.42651027]\t 3.311674935450316\t 0.8930351751661896\t 2.8231279389635215\t 3.4711667497403464\n",
            "11 \t [1.16314694 0.65695615]\t 6.9466473323406\t 0.8930351751661896\t 2.8616092313069057\t 3.174746562822758\n",
            "12 \t [ 3.27014309 -0.2033955 ]\t 7.166011324762497\t 0.8930351751661896\t 3.0031257563317375\t 3.303291496893706\n",
            "13 \t [1.28579638 0.52836773]\t 4.886669917388536\t 0.8930351751661896\t 2.9605552626617664\t 2.8827330766144166\n",
            "14 \t [0.97237039 0.8572213 ]\t 10.952295686899317\t 0.8930351751661896\t 2.889454166709213\t 2.714042724287176\n",
            "15 \t [1.1093462  0.65840456]\t 7.243434661685377\t 0.8930351751661896\t 2.7474976208483244\t 3.041254758426488\n",
            "16 \t [1.22708256 0.55331932]\t 5.440747343843933\t 0.8930351751661896\t 2.7420239806792983\t 2.9772288376896565\n",
            "17 \t [1.3627252  0.45343869]\t 3.8634855805787014\t 0.8930351751661896\t 2.7865517475409933\t 2.660692000711374\n",
            "18 \t [1.23602847 0.54614944]\t 5.322642131728039\t 0.8930351751661896\t 2.876308016894149\t 3.0608203102215077\n",
            "19 \t [1.10147325 0.66438213]\t 7.359679809783343\t 0.8930351751661896\t 2.928946438064719\t 3.1377330097681\n",
            "20 \t [1.07750224 0.68542559]\t 7.755147662701452\t 0.8930351751661896\t 2.9187670705166235\t 2.8571272633058427\n"
          ]
        }
      ],
      "source": [
        "### EXACT GP EI GRADIENTS\n",
        "\n",
        "np.random.seed(run_num_4)\n",
        "surrogate_exact_4 = dGaussianProcess(cov_func, optimize=opt)\n",
        "\n",
        "exact_4 = dGPGO(surrogate_exact_4, Acquisition_grad(util), objfunc, param)\n",
        "exact_4.run(init_evals=n_init, max_iter=iters)\n"
      ]
    },
    {
      "cell_type": "code",
      "execution_count": 38,
      "metadata": {
        "id": "arbiPyj2IvsJ",
        "colab": {
          "base_uri": "https://localhost:8080/"
        },
        "outputId": "f16a286d-7d9b-4d6a-86ef-6a4386cc6105"
      },
      "outputs": [
        {
          "output_type": "stream",
          "name": "stdout",
          "text": [
            "Evaluation \t Proposed point \t  Current eval. \t  Best eval. \t        Exact EI: StdDev. x \t Approx EI: StdDev. x \n",
            "init\t [-2.50206146  3.33659076]\t 8263.905568073349\t 0.311397019260738\t    \t    \n",
            "init\t [-2.6395276   3.76749817]\t 19560.15202528338\t 0.311397019260738\t    \t    \n",
            "init\t [-0.1042993   1.00569477]\t 14.186578993925806\t 0.311397019260738\t    \t    \n",
            "init\t [2.39317071 0.16576189]\t 0.311397019260738\t 0.311397019260738\t    \t    \n",
            "init\t [-1.82879549 -2.81050894]\t 2208.9823086257425\t 0.311397019260738\t    \t    \n",
            "1  \t [4.5 4.5]\t 174813.36328125\t 0.311397019260738\t 3.7017287673178116\t 3.9794454816578075\n",
            "2  \t [ 3.99186074 -3.49476816]\t 31979.10114120547\t 0.311397019260738\t 3.234483246354721\t 3.7587366035718897\n",
            "3  \t [4.5        0.36097961]\t 7.426554661060713\t 0.311397019260738\t 3.3939105894405666\t 3.4244678934678148\n",
            "4  \t [-4.5 -4.5]\t 181853.61328125\t 0.311397019260738\t 3.12483347279382\t 3.2583776142419674\n",
            "5  \t [1.65110254 0.44036941]\t 2.4194908313349597\t 0.311397019260738\t 1.5255820180668422\t 1.8731045730235087\n",
            "6  \t [1.86642515 0.38722561]\t 1.3186860762119905\t 0.311397019260738\t 1.975458913278744\t 2.3665846902057734\n",
            "7  \t [1.80603482 0.40154255]\t 1.5920622603084476\t 0.311397019260738\t 1.669810375982397\t 1.9903258953579448\n",
            "8  \t [1.70181084 0.42943148]\t 2.1422014653581347\t 0.311397019260738\t 2.012369871156484\t 2.903804052901814\n",
            "9  \t [1.84989567 0.39877808]\t 1.4288243347099583\t 0.311397019260738\t 1.588970347374153\t 2.2738027264904166\n",
            "10 \t [1.71740125 0.42896527]\t 2.0780169643969453\t 0.311397019260738\t 1.8142689466009962\t 2.2908592539671937\n",
            "11 \t [1.86556267 0.39820775]\t 1.3746634535153164\t 0.311397019260738\t 1.764227025847846\t 2.448742505904375\n",
            "12 \t [1.55102665 0.47931099]\t 3.1425268620735722\t 0.311397019260738\t 1.771699870166426\t 1.9202288096161342\n",
            "13 \t [1.95561893 0.3903728 ]\t 1.0630340871776185\t 0.311397019260738\t 2.057947160074529\t 2.3935590490864835\n",
            "14 \t [1.95406627 0.39120646]\t 1.0711731994680251\t 0.311397019260738\t 1.7713588763470631\t 2.474910477870192\n",
            "15 \t [1.9290938  0.39683397]\t 1.170038981263258\t 0.311397019260738\t 1.7494406972872167\t 2.503237031721661\n",
            "16 \t [1.94761095 0.39382435]\t 1.1015662296365125\t 0.311397019260738\t 2.008040110341495\t 2.394807276120598\n",
            "17 \t [2.045839   0.37569493]\t 0.7654616736626391\t 0.311397019260738\t 1.5925121199244034\t 2.0115830594670774\n",
            "18 \t [2.06328004 0.37405001]\t 0.7179729992611559\t 0.311397019260738\t 1.5682602617261836\t 2.103359816825386\n",
            "19 \t [2.0136773 0.3846608]\t 0.8804994258747898\t 0.311397019260738\t 1.5512259483505013\t 2.4049811560622665\n",
            "20 \t [1.90972594 0.40670066]\t 1.2770981866022453\t 0.311397019260738\t 2.0930818546464636\t 2.4150937953916616\n"
          ]
        }
      ],
      "source": [
        "### EXACT GP EI GRADIENTS\n",
        "\n",
        "np.random.seed(run_num_5)\n",
        "surrogate_exact_5 = dGaussianProcess(cov_func, optimize=opt)\n",
        "\n",
        "exact_5 = dGPGO(surrogate_exact_5, Acquisition_grad(util), objfunc, param)\n",
        "exact_5.run(init_evals=n_init, max_iter=iters)\n"
      ]
    },
    {
      "cell_type": "code",
      "execution_count": 39,
      "metadata": {
        "id": "04KJCEm_Ivvf",
        "colab": {
          "base_uri": "https://localhost:8080/"
        },
        "outputId": "4cee5b01-a0d0-434e-addb-a1e141e596e8"
      },
      "outputs": [
        {
          "output_type": "stream",
          "name": "stdout",
          "text": [
            "Evaluation \t Proposed point \t  Current eval. \t  Best eval. \t        Exact EI: StdDev. x \t Approx EI: StdDev. x \n",
            "init\t [ 3.53574136 -1.51218175]\t 273.3122030790333\t 10.038000709758428\t    \t    \n",
            "init\t [ 2.89106211 -4.12473037]\t 43803.250406689425\t 10.038000709758428\t    \t    \n",
            "init\t [-3.53108988  0.85546858]\t 29.828433746298536\t 10.038000709758428\t    \t    \n",
            "init\t [ 0.26835626 -0.73073314]\t 10.658925295067505\t 10.038000709758428\t    \t    \n",
            "init\t [-1.48132936  1.10267489]\t 10.038000709758428\t 10.038000709758428\t    \t    \n",
            "1  \t [4.28897718 3.03217734]\t 15404.22494396136\t 10.038000709758428\t 3.6294104516320145\t 3.6650924014878554\n",
            "2  \t [-4.5 -4.5]\t 181853.61328125\t 10.038000709758428\t 3.2639538536955364\t 3.9467175070786626\n",
            "3  \t [-0.74348897  4.5       ]\t 4291.745230766945\t 10.038000709758428\t 2.746301821334601\t 3.5109462697271097\n",
            "4  \t [-1.3742943  -1.20173895]\t 63.93213569104667\t 10.038000709758428\t 2.20530188131943\t 2.793306716272817\n",
            "\u001b[1m\u001b[92m5\u001b[0m\t \u001b[1m\u001b[92m[0.99957275 0.62874138]\u001b[0m\t \u001b[1m\u001b[92m7.493727093622575\u001b[0m\t \u001b[1m\u001b[92m7.493727093622575\u001b[0m\t \u001b[1m\u001b[92m2.1831257617662314\u001b[0m\t \u001b[1m\u001b[92m2.6214715708427243\u001b[0m\n",
            "6  \t [0.21632944 0.98500729]\t 14.114246334147326\t 7.493727093622575\t 2.403685795406681\t 2.9194354820684953\n",
            "7  \t [-4.4395459   3.31311648]\t 25680.532058952806\t 7.493727093622575\t 2.6509994448258367\t 3.18220739539115\n",
            "8  \t [-3.10265572  0.19752067]\t 75.82107727201375\t 7.493727093622575\t 2.408426587147963\t 2.316789134178952\n",
            "\u001b[1m\u001b[92m9\u001b[0m\t \u001b[1m\u001b[92m[1.65505376 0.09885229]\u001b[0m\t \u001b[1m\u001b[92m1.3174392342668555\u001b[0m\t \u001b[1m\u001b[92m1.3174392342668555\u001b[0m\t \u001b[1m\u001b[92m2.2564440054869324\u001b[0m\t \u001b[1m\u001b[92m2.2691388928021063\u001b[0m\n",
            "10 \t [1.33789427 0.64168205]\t 5.873551809769937\t 1.3174392342668555\t 2.445468886433362\t 2.8718207903501374\n",
            "\u001b[1m\u001b[92m11\u001b[0m\t \u001b[1m\u001b[92m[ 1.80121812 -0.04553001]\u001b[0m\t \u001b[1m\u001b[92m1.0299704465555775\u001b[0m\t \u001b[1m\u001b[92m1.0299704465555775\u001b[0m\t \u001b[1m\u001b[92m2.6677705364227218\u001b[0m\t \u001b[1m\u001b[92m2.811514607978707\u001b[0m\n",
            "12 \t [-4.32917937 -0.10262032]\t 130.46955295924366\t 1.0299704465555775\t 2.614996904777755\t 2.7286373401654678\n",
            "13 \t [ 2.17960912 -0.20002954]\t 1.4525290300535658\t 1.0299704465555775\t 2.331875510505181\t 2.0693800972660585\n",
            "14 \t [1.3412416  0.64419221]\t 5.8905127969580535\t 1.0299704465555775\t 2.492851804799358\t 2.5921557463999836\n",
            "15 \t [1.61118007 0.14385576]\t 1.5039255734131811\t 1.0299704465555775\t 2.504559345985891\t 2.712340753285652\n",
            "16 \t [1.37933679 0.51526813]\t 4.278476718738001\t 1.0299704465555775\t 1.987980365655049\t 1.9345292247750505\n",
            "17 \t [ 1.76209698 -0.01847648]\t 1.0700403222991286\t 1.0299704465555775\t 2.6958335942826563\t 2.8239913633384504\n",
            "18 \t [ 2.10863213 -0.18190859]\t 1.2827518140114882\t 1.0299704465555775\t 2.4685786885389756\t 2.3414535085409995\n",
            "19 \t [ 2.18576456 -0.19361467]\t 1.4304033038141986\t 1.0299704465555775\t 2.6665696312569396\t 2.6263251469538713\n",
            "20 \t [1.63641281 0.14541635]\t 1.4177421031154316\t 1.0299704465555775\t 2.518979815947393\t 2.5237763702546396\n"
          ]
        }
      ],
      "source": [
        "### EXACT GP EI GRADIENTS\n",
        "\n",
        "np.random.seed(run_num_6)\n",
        "surrogate_exact_6 = dGaussianProcess(cov_func, optimize=opt)\n",
        "\n",
        "exact_6 = dGPGO(surrogate_exact_6, Acquisition_grad(util), objfunc, param)\n",
        "exact_6.run(init_evals=n_init, max_iter=iters)\n"
      ]
    },
    {
      "cell_type": "code",
      "execution_count": 40,
      "metadata": {
        "id": "tAOkme3CIvyO",
        "colab": {
          "base_uri": "https://localhost:8080/"
        },
        "outputId": "d90f4c28-dbd0-48df-e9e0-eb5d1831417f"
      },
      "outputs": [
        {
          "output_type": "stream",
          "name": "stdout",
          "text": [
            "Evaluation \t Proposed point \t  Current eval. \t  Best eval. \t        Exact EI: StdDev. x \t Approx EI: StdDev. x \n",
            "init\t [-3.8132254   2.51926913]\t 3321.1422834954587\t 2.9676923934097053\t    \t    \n",
            "init\t [-0.55431692  2.0111866 ]\t 2.9676923934097053\t 2.9676923934097053\t    \t    \n",
            "init\t [4.30190561 0.34646283]\t 6.32173172477085\t 2.9676923934097053\t    \t    \n",
            "init\t [ 0.01008417 -3.8515398 ]\t 11.971894461559128\t 2.9676923934097053\t    \t    \n",
            "init\t [-2.08404918e+00 -1.05749257e-03]\t 53.820317186435204\t 2.9676923934097053\t    \t    \n",
            "1  \t [0.27507967 2.60885041]\t 70.90858013977379\t 2.9676923934097053\t 3.114879731613999\t 3.7304074054439957\n",
            "2  \t [-4.5 -4.5]\t 181853.61328125\t 2.9676923934097053\t 4.065971188689763\t 4.242895253903198\n",
            "3  \t [4.5 4.5]\t 174813.36328125\t 2.9676923934097053\t 2.3693660231338165\t 2.9882631122975987\n",
            "4  \t [ 2.3497627  -2.80773064]\t 3071.4431889655943\t 2.9676923934097053\t 2.5513404685288874\t 2.5369831083078993\n",
            "5  \t [-1.46669149  4.3669769 ]\t 14537.036444724683\t 2.9676923934097053\t 2.760415531102288\t 2.841573733523448\n",
            "6  \t [0.19195803 1.56576528]\t 19.029968730620546\t 2.9676923934097053\t 2.327430862468157\t 3.448207523297829\n",
            "7  \t [0.3519338  1.59519806]\t 24.42877506274177\t 2.9676923934097053\t 2.085998036766838\t 2.539743388174928\n",
            "8  \t [-0.24853323  1.37041695]\t 11.10064394459895\t 2.9676923934097053\t 1.777199365402898\t 2.867010496207837\n",
            "9  \t [0.68069148 1.93944675]\t 69.38050916582972\t 2.9676923934097053\t 2.205595859869404\t 3.002800566388881\n",
            "10 \t [-0.50919612  1.26011618]\t 10.149841093014253\t 2.9676923934097053\t 2.327292114703926\t 3.1936495896356694\n",
            "11 \t [-0.26315885  1.33554696]\t 11.283180856171601\t 2.9676923934097053\t 1.9348347036514362\t 3.2672697411028326\n",
            "12 \t [-0.53255194  1.31612657]\t 9.010146776461957\t 2.9676923934097053\t 2.3241940312217313\t 3.521063636666152\n",
            "13 \t [-0.23825037  1.40380597]\t 10.904190268455583\t 2.9676923934097053\t 2.197607065703722\t 2.75585973650888\n",
            "14 \t [-0.3913499   1.36336402]\t 9.60573703660871\t 2.9676923934097053\t 1.8366371078631678\t 2.586120628380297\n",
            "15 \t [-0.96759783 -1.43557992]\t 58.04172711341627\t 2.9676923934097053\t 2.063565301588662\t 3.117529687793757\n",
            "16 \t [-0.1402411   1.46483267]\t 11.826982345271468\t 2.9676923934097053\t 1.925211350608028\t 2.8158873333545764\n",
            "17 \t [-0.32237358  1.39147427]\t 10.004371529785399\t 2.9676923934097053\t 1.9530431669481982\t 3.4286126407227018\n",
            "18 \t [-0.21382446 -4.5       ]\t 508.98571723452324\t 2.9676923934097053\t 2.1358602079603126\t 3.3519436655511075\n",
            "19 \t [-0.41311403  1.36506739]\t 9.354238318026937\t 2.9676923934097053\t 2.021206219819042\t 3.070255013071259\n",
            "20 \t [3.7113641  0.17013626]\t 5.470112412850691\t 2.9676923934097053\t 2.2745744421904606\t 2.8374987924495914\n"
          ]
        }
      ],
      "source": [
        "### EXACT GP EI GRADIENTS\n",
        "\n",
        "np.random.seed(run_num_7)\n",
        "surrogate_exact_7 = dGaussianProcess(cov_func, optimize=opt)\n",
        "\n",
        "exact_7 = dGPGO(surrogate_exact_7, Acquisition_grad(util), objfunc, param)\n",
        "exact_7.run(init_evals=n_init, max_iter=iters)\n"
      ]
    },
    {
      "cell_type": "code",
      "execution_count": 41,
      "metadata": {
        "id": "69-J3EF4Iv1S",
        "colab": {
          "base_uri": "https://localhost:8080/"
        },
        "outputId": "5c5d23b0-b9b9-46b4-94be-0df43bdcddb6"
      },
      "outputs": [
        {
          "output_type": "stream",
          "name": "stdout",
          "text": [
            "Evaluation \t Proposed point \t  Current eval. \t  Best eval. \t        Exact EI: StdDev. x \t Approx EI: StdDev. x \n",
            "init\t [3.36086463 4.21686597]\t 66731.07602386779\t 1.8693348557707412\t    \t    \n",
            "init\t [3.32275086 0.27770122]\t 1.8693348557707412\t 1.8693348557707412\t    \t    \n",
            "init\t [-2.40544505 -4.39741076]\t 45883.361726150484\t 1.8693348557707412\t    \t    \n",
            "init\t [-0.62578064 -0.87883776]\t 26.39306084619828\t 1.8693348557707412\t    \t    \n",
            "init\t [ 0.20407204 -0.19447384]\t 11.649230998110728\t 1.8693348557707412\t    \t    \n",
            "1  \t [ 3.92493446 -0.61661457]\t 28.437322297441813\t 1.8693348557707412\t 2.427867271779839\t 3.4332266302877117\n",
            "2  \t [-4.42522463  2.59724938]\t 5535.695265667181\t 1.8693348557707412\t 2.339553487988304\t 3.9059138132401645\n",
            "\u001b[1m\u001b[92m3\u001b[0m\t \u001b[1m\u001b[92m[1.83744656 0.01248332]\u001b[0m\t \u001b[1m\u001b[92m0.8895987133679991\u001b[0m\t \u001b[1m\u001b[92m0.8895987133679991\u001b[0m\t \u001b[1m\u001b[92m2.4124385279528324\u001b[0m\t \u001b[1m\u001b[92m3.3809018137139866\u001b[0m\n",
            "4  \t [ 2.24604686 -3.10880729]\t 5034.18547193708\t 0.8895987133679991\t 2.8503620314327143\t 3.7881110646896077\n",
            "5  \t [0.84136871 0.54822588]\t 7.709856928950154\t 0.8895987133679991\t 2.07252473874594\t 2.742274554377139\n",
            "6  \t [ 4.31253146 -0.00688888]\t 15.179287122194992\t 0.8895987133679991\t 2.673161897946117\t 3.402249684403418\n",
            "7  \t [-0.46358148  1.36801098]\t 8.79164233368197\t 0.8895987133679991\t 2.3044796258143525\t 3.028392927301416\n",
            "8  \t [1.15898919 0.4354865 ]\t 4.87249772711356\t 0.8895987133679991\t 2.5762869138077327\t 2.963409759742551\n",
            "9  \t [1.43150664 0.36870146]\t 2.9827615618276146\t 0.8895987133679991\t 2.5204527221448294\t 2.8470856056366416\n",
            "10 \t [0.91251219 0.5035126 ]\t 6.902479021140333\t 0.8895987133679991\t 2.775003520614223\t 3.3239582241977113\n",
            "11 \t [-1.06995384  4.45461851]\t 8585.640623360367\t 0.8895987133679991\t 2.673271778044305\t 2.8854153460336884\n",
            "12 \t [-0.80278426  0.65321807]\t 20.773883232915093\t 0.8895987133679991\t 2.0362157977591875\t 2.517816321414242\n",
            "13 \t [1.51123819 0.35616321]\t 2.540723094499396\t 0.8895987133679991\t 2.294852978048957\t 2.8933260606855256\n",
            "14 \t [0.77010481 0.5719337 ]\t 8.364725589233403\t 0.8895987133679991\t 2.3919813803645527\t 3.490116475335598\n",
            "15 \t [0.71025355 0.59643239]\t 8.951019230958545\t 0.8895987133679991\t 2.086089103150882\t 3.1467468544819117\n",
            "16 \t [1.48794345 0.36742956]\t 2.705665053581985\t 0.8895987133679991\t 1.7425600090500408\t 2.5481267987041\n",
            "17 \t [1.88573217 0.29290751]\t 0.9233204725228705\t 0.8895987133679991\t 2.370333916136593\t 3.0692166949715127\n",
            "18 \t [1.64466477 0.33975678]\t 1.8955056101373238\t 0.8895987133679991\t 2.5071159654511646\t 3.225823685621228\n",
            "19 \t [1.44579813 0.38408238]\t 2.997199013853698\t 0.8895987133679991\t 1.8270228231732164\t 3.1328267172331334\n",
            "20 \t [1.71585165 0.32651858]\t 1.5715512790298054\t 0.8895987133679991\t 2.3435978660132397\t 2.977714221040118\n"
          ]
        }
      ],
      "source": [
        "### EXACT GP EI GRADIENTS\n",
        "\n",
        "np.random.seed(run_num_8)\n",
        "surrogate_exact_8 = dGaussianProcess(cov_func, optimize=opt)\n",
        "\n",
        "exact_8 = dGPGO(surrogate_exact_8, Acquisition_grad(util), objfunc, param)\n",
        "exact_8.run(init_evals=n_init, max_iter=iters)\n"
      ]
    },
    {
      "cell_type": "code",
      "execution_count": 42,
      "metadata": {
        "id": "vonm9jyuIv4t",
        "colab": {
          "base_uri": "https://localhost:8080/"
        },
        "outputId": "d11d9d5d-1b76-4c6a-d370-e31abbbefdf5"
      },
      "outputs": [
        {
          "output_type": "stream",
          "name": "stdout",
          "text": [
            "Evaluation \t Proposed point \t  Current eval. \t  Best eval. \t        Exact EI: StdDev. x \t Approx EI: StdDev. x \n",
            "init\t [-4.40663262  0.01687133]\t 127.7531900635415\t 22.479204656276803\t    \t    \n",
            "init\t [-0.03804036 -3.29553424]\t 22.479204656276803\t 22.479204656276803\t    \t    \n",
            "init\t [-3.22100023 -2.53297192]\t 3783.0538402600087\t 22.479204656276803\t    \t    \n",
            "init\t [-0.73342638 -2.26708948]\t 157.51337782244087\t 22.479204656276803\t    \t    \n",
            "init\t [-3.74346314 -1.39051224]\t 380.7730677650304\t 22.479204656276803\t    \t    \n",
            "1  \t [2.73365793 4.35023323]\t 53339.37070055468\t 22.479204656276803\t 2.7506560430560656\t 2.6618674734592296\n",
            "2  \t [ 3.50741804 -1.83968417]\t 700.4390000396309\t 22.479204656276803\t 2.842043853332855\t 3.390192261958232\n",
            "3  \t [-1.95598389  3.25419272]\t 4227.873594059571\t 22.479204656276803\t 2.6659361057731576\t 3.2557353725175737\n",
            "\u001b[1m\u001b[92m4\u001b[0m\t \u001b[1m\u001b[92m[0.88803893 0.6504013 ]\u001b[0m\t \u001b[1m\u001b[92m8.359851479153592\u001b[0m\t \u001b[1m\u001b[92m8.359851479153592\u001b[0m\t \u001b[1m\u001b[92m2.653097714721396\u001b[0m\t \u001b[1m\u001b[92m3.369895607229596\u001b[0m\n",
            "5  \t [4.5        1.10816645]\t 32.73339912296956\t 8.359851479153592\t 3.1373768583232207\t 3.8726339981250124\n",
            "6  \t [-0.42941065  0.00972974]\t 20.21496616297301\t 8.359851479153592\t 2.491390497065939\t 3.6204719224325856\n",
            "7  \t [ 1.45855124 -4.05873748]\t 9934.567528568585\t 8.359851479153592\t 3.133831465416515\t 3.668204958539664\n",
            "8  \t [-2.13732036  0.34206726]\t 47.43497699637366\t 8.359851479153592\t 3.4128722409478094\t 3.488447719892538\n",
            "9  \t [2.48647753 1.00363019]\t 14.45541833784528\t 8.359851479153592\t 3.7686461312270048\t 4.150643409230329\n",
            "10 \t [0.77574904 1.93961718]\t 80.66311179575474\t 8.359851479153592\t 2.647433015547147\t 3.6974449501915667\n",
            "11 \t [-0.84791264 -3.39442944]\t 1414.0028143911072\t 8.359851479153592\t 2.497083768421926\t 3.5178086403294175\n",
            "12 \t [-4.5 -4.5]\t 181853.61328125\t 8.359851479153592\t 3.2989354754872826\t 3.682087805147425\n",
            "13 \t [ 0.14426162 -1.53914903]\t 11.096453620545413\t 8.359851479153592\t 1.7020884872222393\t 2.8969047384881463\n",
            "\u001b[1m\u001b[92m14\u001b[0m\t \u001b[1m\u001b[92m[2.0544589  0.49368348]\u001b[0m\t \u001b[1m\u001b[92m1.3648848083416272\u001b[0m\t \u001b[1m\u001b[92m1.3648848083416272\u001b[0m\t \u001b[1m\u001b[92m2.081253451342077\u001b[0m\t \u001b[1m\u001b[92m3.0923040524521275\u001b[0m\n",
            "15 \t [ 0.0209703  -1.37364406]\t 13.750537598819651\t 1.3648848083416272\t 2.056630526449672\t 3.358044374319602\n",
            "16 \t [1.57590952 0.60239124]\t 4.257270150947276\t 1.3648848083416272\t 2.2720213536449925\t 3.533029465346963\n",
            "17 \t [1.37831936 0.66309903]\t 5.973954041998563\t 1.3648848083416272\t 2.157106030340656\t 3.1347014232188966\n",
            "\u001b[1m\u001b[92m18\u001b[0m\t \u001b[1m\u001b[92m[2.15055404 0.50730193]\u001b[0m\t \u001b[1m\u001b[92m1.1906070321894475\u001b[0m\t \u001b[1m\u001b[92m1.1906070321894475\u001b[0m\t \u001b[1m\u001b[92m2.003999949224571\u001b[0m\t \u001b[1m\u001b[92m2.8654482200806024\u001b[0m\n",
            "19 \t [1.78855564 0.56753854]\t 2.957813655234145\t 1.1906070321894475\t 2.0551709564039236\t 2.8681787421623492\n",
            "20 \t [1.98332283 0.53012699]\t 1.8800706179210902\t 1.1906070321894475\t 2.0681323502989346\t 2.9009156889839955\n"
          ]
        }
      ],
      "source": [
        "### EXACT GP EI GRADIENTS\n",
        "\n",
        "np.random.seed(run_num_9)\n",
        "surrogate_exact_9 = dGaussianProcess(cov_func, optimize=opt)\n",
        "\n",
        "exact_9 = dGPGO(surrogate_exact_9, Acquisition_grad(util), objfunc, param)\n",
        "exact_9.run(init_evals=n_init, max_iter=iters)\n"
      ]
    },
    {
      "cell_type": "code",
      "execution_count": 43,
      "metadata": {
        "id": "6amuYlUdIv7r",
        "colab": {
          "base_uri": "https://localhost:8080/"
        },
        "outputId": "a36c0324-3eb6-4a5a-b666-25fdef6dc644"
      },
      "outputs": [
        {
          "output_type": "stream",
          "name": "stdout",
          "text": [
            "Evaluation \t Proposed point \t  Current eval. \t  Best eval. \t        Exact EI: StdDev. x \t Approx EI: StdDev. x \n",
            "init\t [ 2.44188579 -4.31323246]\t 40500.708995062356\t 15.229523981513257\t    \t    \n",
            "init\t [1.20283411 2.23923494]\t 281.8768699287936\t 15.229523981513257\t    \t    \n",
            "init\t [-0.01343689 -2.47683019]\t 15.229523981513257\t 15.229523981513257\t    \t    \n",
            "init\t [-2.71743422  2.34477641]\t 985.5637470908332\t 15.229523981513257\t    \t    \n",
            "init\t [-2.97800247 -3.70494167]\t 26177.1461164703\t 15.229523981513257\t    \t    \n",
            "1  \t [4.5 4.5]\t 174813.36328125\t 15.229523981513257\t 2.9269597086586647\t 3.632339634901059\n",
            "\u001b[1m\u001b[92m2\u001b[0m\t \u001b[1m\u001b[92m[ 0.01402937 -1.53989402]\u001b[0m\t \u001b[1m\u001b[92m13.846092285589684\u001b[0m\t \u001b[1m\u001b[92m13.846092285589684\u001b[0m\t \u001b[1m\u001b[92m2.027028718780238\u001b[0m\t \u001b[1m\u001b[92m3.3279957212505598\u001b[0m\n",
            "\u001b[1m\u001b[92m3\u001b[0m\t \u001b[1m\u001b[92m[ 3.66507578 -0.05479117]\u001b[0m\t \u001b[1m\u001b[92m8.651866336069574\u001b[0m\t \u001b[1m\u001b[92m8.651866336069574\u001b[0m\t \u001b[1m\u001b[92m2.0793526475357367\u001b[0m\t \u001b[1m\u001b[92m3.4830328366347127\u001b[0m\n",
            "4  \t [-0.077379  4.5     ]\t 21.001065483025844\t 8.651866336069574\t 2.9241387529204266\t 3.592942891075928\n",
            "5  \t [-4.5        -0.46080522]\t 155.99321245625993\t 8.651866336069574\t 3.0849347089846364\t 3.6998844568166143\n",
            "\u001b[1m\u001b[92m6\u001b[0m\t \u001b[1m\u001b[92m[ 2.14866112 -0.44553296]\u001b[0m\t \u001b[1m\u001b[92m2.9397082542016966\u001b[0m\t \u001b[1m\u001b[92m2.9397082542016966\u001b[0m\t \u001b[1m\u001b[92m2.462553653273556\u001b[0m\t \u001b[1m\u001b[92m3.386179056188564\u001b[0m\n",
            "7  \t [-0.25659423  0.35012211]\t 17.144624120581746\t 2.9397082542016966\t 2.821983738336129\t 3.4883258721974513\n",
            "\u001b[1m\u001b[92m8\u001b[0m\t \u001b[1m\u001b[92m[ 2.03674137 -0.42872692]\u001b[0m\t \u001b[1m\u001b[92m2.516231328698404\u001b[0m\t \u001b[1m\u001b[92m2.516231328698404\u001b[0m\t \u001b[1m\u001b[92m2.6524044393230573\u001b[0m\t \u001b[1m\u001b[92m3.464680540092799\u001b[0m\n",
            "9  \t [ 4.29615895 -0.46156327]\t 28.502007980652117\t 2.516231328698404\t 2.6867308955464906\t 3.610650816434889\n",
            "\u001b[1m\u001b[92m10\u001b[0m\t \u001b[1m\u001b[92m[ 2.1664809  -0.35870371]\u001b[0m\t \u001b[1m\u001b[92m2.343783763953438\u001b[0m\t \u001b[1m\u001b[92m2.343783763953438\u001b[0m\t \u001b[1m\u001b[92m2.5379918802108103\u001b[0m\t \u001b[1m\u001b[92m3.0171528447572302\u001b[0m\n",
            "11 \t [ 2.27854951 -0.36576089]\t 2.7299288788090688\t 2.343783763953438\t 2.0884474806010584\t 3.8326607207260186\n",
            "\u001b[1m\u001b[92m12\u001b[0m\t \u001b[1m\u001b[92m[ 2.00034672 -0.39353148]\u001b[0m\t \u001b[1m\u001b[92m2.2234988312714603\u001b[0m\t \u001b[1m\u001b[92m2.2234988312714603\u001b[0m\t \u001b[1m\u001b[92m2.2543554137842987\u001b[0m\t \u001b[1m\u001b[92m3.14631654894728\u001b[0m\n",
            "\u001b[1m\u001b[92m13\u001b[0m\t \u001b[1m\u001b[92m[ 1.95222617 -0.39754714]\u001b[0m\t \u001b[1m\u001b[92m2.1790302267111716\u001b[0m\t \u001b[1m\u001b[92m2.1790302267111716\u001b[0m\t \u001b[1m\u001b[92m2.0921837928850504\u001b[0m\t \u001b[1m\u001b[92m2.86329659979027\u001b[0m\n",
            "14 \t [ 2.06553754 -0.3803864 ]\t 2.25817654027227\t 2.1790302267111716\t 2.00836665969684\t 3.3458913089297244\n",
            "15 \t [ 1.88184229 -0.41651928]\t 2.209954869096459\t 2.1790302267111716\t 2.653756286466618\t 3.4316489163048423\n",
            "16 \t [ 2.29404641 -0.36594954]\t 2.7855038540708037\t 2.1790302267111716\t 2.402637072735678\t 2.8946703923148087\n",
            "17 \t [-1.63116069 -0.27453496]\t 45.3366051659206\t 2.1790302267111716\t 2.3120122112193173\t 2.8896058797177657\n",
            "18 \t [ 2.21871468 -0.36784123]\t 2.5531816090792216\t 2.1790302267111716\t 2.2969625489685788\t 3.1747027776826076\n",
            "19 \t [ 1.57608386 -0.44691707]\t 2.411555904106031\t 2.1790302267111716\t 2.008215483781799\t 2.6201386657381676\n",
            "20 \t [ 1.77566236 -0.4293146 ]\t 2.222429948063598\t 2.1790302267111716\t 2.522920026073738\t 3.5748583032211667\n"
          ]
        }
      ],
      "source": [
        "### EXACT GP EI GRADIENTS\n",
        "\n",
        "np.random.seed(run_num_10)\n",
        "surrogate_exact_10 = dGaussianProcess(cov_func, optimize=opt)\n",
        "\n",
        "exact_10 = dGPGO(surrogate_exact_10, Acquisition_grad(util), objfunc, param)\n",
        "exact_10.run(init_evals=n_init, max_iter=iters)\n"
      ]
    },
    {
      "cell_type": "code",
      "execution_count": 44,
      "metadata": {
        "id": "VwbLIP9cIv-F",
        "colab": {
          "base_uri": "https://localhost:8080/"
        },
        "outputId": "5f9be8e0-200b-4cc1-a166-2bd202f4f315"
      },
      "outputs": [
        {
          "output_type": "stream",
          "name": "stdout",
          "text": [
            "Evaluation \t Proposed point \t  Current eval. \t  Best eval. \t        Exact EI: StdDev. x \t Approx EI: StdDev. x \n",
            "init\t [-2.8775728  -4.32472283]\t 59421.14819100274\t 2.8907294990196846\t    \t    \n",
            "init\t [-0.33103326  2.02440536]\t 2.8907294990196846\t 2.8907294990196846\t    \t    \n",
            "init\t [-0.71816756 -0.13115612]\t 25.271447350027046\t 2.8907294990196846\t    \t    \n",
            "init\t [-4.38497267 -0.11365553]\t 133.2515796886641\t 2.8907294990196846\t    \t    \n",
            "init\t [3.97625987 3.1571558 ]\t 16859.81677190551\t 2.8907294990196846\t    \t    \n",
            "1  \t [ 3.4996477  -3.09509621]\t 12155.612868527114\t 2.8907294990196846\t 2.455105632029821\t 4.1377703901666445\n",
            "2  \t [-2.52577225  2.64575515]\t 1906.4289015048719\t 2.8907294990196846\t 1.8762026709288153\t 3.3721214680062883\n",
            "3  \t [0.72885467 4.11957768]\t 3000.58154961047\t 2.8907294990196846\t 2.8793314709706155\t 3.3754000023982855\n",
            "4  \t [0.18892759 0.98374863]\t 14.119058104166566\t 2.8907294990196846\t 2.1694726306500587\t 3.186572467078351\n",
            "5  \t [-0.05265548  1.16821956]\t 13.927261807144017\t 2.8907294990196846\t 2.123758684735581\t 3.1367503461874833\n",
            "6  \t [1.01602492 0.15184798]\t 4.588693003002577\t 2.8907294990196846\t 2.4100642838767654\t 2.724303034645256\n",
            "7  \t [0.76485801 0.46936246]\t 7.69227549526569\t 2.8907294990196846\t 2.5571876022716946\t 2.8754842623123804\n",
            "8  \t [0.45432467 0.78195754]\t 11.964010579127553\t 2.8907294990196846\t 2.4341522108685782\t 3.0705404727987133\n",
            "9  \t [0.08211911 1.05936698]\t 14.344726977820997\t 2.8907294990196846\t 2.2246573430190977\t 2.9825317119787726\n",
            "10 \t [0.11820822 1.03540099]\t 14.322536661882253\t 2.8907294990196846\t 2.5050272437619876\t 3.422826095754943\n",
            "\u001b[1m\u001b[92m11\u001b[0m\t \u001b[1m\u001b[92m[ 1.56689805 -0.09400841]\u001b[0m\t \u001b[1m\u001b[92m1.6484467224841415\u001b[0m\t \u001b[1m\u001b[92m1.6484467224841415\u001b[0m\t \u001b[1m\u001b[92m2.661583388218001\u001b[0m\t \u001b[1m\u001b[92m3.487386408378209\u001b[0m\n",
            "12 \t [-0.04052935  1.16484762]\t 13.995274069046118\t 1.6484467224841415\t 2.6355508613179963\t 3.3494072848994674\n",
            "13 \t [1.17948679 0.06842158]\t 3.4094260808822714\t 1.6484467224841415\t 2.3623188266526247\t 2.793566291914889\n",
            "14 \t [1.11496803 0.12016747]\t 3.880525483264118\t 1.6484467224841415\t 2.4028390475987176\t 2.7171157199490468\n",
            "15 \t [1.04998561 0.18112837]\t 4.434111101704069\t 1.6484467224841415\t 2.143359554927758\t 2.744751436862565\n",
            "16 \t [1.18123466 0.06459716]\t 3.394277581051813\t 1.6484467224841415\t 2.641753933422011\t 3.4362122895904297\n",
            "17 \t [0.2719295  0.92632372]\t 13.681483153073717\t 1.6484467224841415\t 1.9468756893962726\t 2.5510413849985256\n",
            "18 \t [ 1.35109286 -0.03288984]\t 2.444294657591728\t 1.6484467224841415\t 2.681864709729753\t 2.8626420268985333\n",
            "19 \t [ 1.37049648 -0.03938579]\t 2.356543667839455\t 1.6484467224841415\t 1.928996860443766\t 2.4049770566478426\n",
            "20 \t [ 0.40287893 -1.1102796 ]\t 8.706747874783362\t 1.6484467224841415\t 2.068052923035176\t 3.239520267275698\n"
          ]
        }
      ],
      "source": [
        "### EXACT GP EI GRADIENTS\n",
        "\n",
        "np.random.seed(run_num_11)\n",
        "surrogate_exact_11 = dGaussianProcess(cov_func, optimize=opt)\n",
        "\n",
        "exact_11 = dGPGO(surrogate_exact_11, Acquisition_grad(util), objfunc, param)\n",
        "exact_11.run(init_evals=n_init, max_iter=iters)\n"
      ]
    },
    {
      "cell_type": "code",
      "execution_count": 45,
      "metadata": {
        "id": "MlUNFjc-JTBY",
        "colab": {
          "base_uri": "https://localhost:8080/"
        },
        "outputId": "04babe9c-7921-4c9a-8fd6-e853d84b9b8c"
      },
      "outputs": [
        {
          "output_type": "stream",
          "name": "stdout",
          "text": [
            "Evaluation \t Proposed point \t  Current eval. \t  Best eval. \t        Exact EI: StdDev. x \t Approx EI: StdDev. x \n",
            "init\t [-3.11253442  2.16044727]\t 746.3412720881302\t 48.45196617039589\t    \t    \n",
            "init\t [-2.13016486  0.30365454]\t 48.45196617039589\t 48.45196617039589\t    \t    \n",
            "init\t [-4.36882534  3.76872307]\t 54651.235607336355\t 48.45196617039589\t    \t    \n",
            "init\t [ 3.60643369 -4.19920715]\t 76007.68460600567\t 48.45196617039589\t    \t    \n",
            "init\t [ 4.11254403 -3.26511611]\t 22941.17826205435\t 48.45196617039589\t    \t    \n",
            "\u001b[1m\u001b[92m1\u001b[0m\t \u001b[1m\u001b[92m[-2.42428211  1.38920984]\u001b[0m\t \u001b[1m\u001b[92m2.413075988674313\u001b[0m\t \u001b[1m\u001b[92m2.413075988674313\u001b[0m\t \u001b[1m\u001b[92m3.8082563701107652\u001b[0m\t \u001b[1m\u001b[92m3.5197027813463433\u001b[0m\n",
            "2  \t [0.50980017 2.79915778]\t 215.51881132023405\t 2.413075988674313\t 4.196834573169873\t 3.7668896757338146\n",
            "3  \t [-4.5 -4.5]\t 181853.61328125\t 2.413075988674313\t 4.382903756364095\t 3.705522459387209\n",
            "4  \t [-2.39686042  0.83948966]\t 25.287617783827848\t 2.413075988674313\t 2.69013643748823\t 2.407959596316361\n",
            "5  \t [-2.52438949  1.41928097]\t 4.5668227325255675\t 2.413075988674313\t 2.758397389070337\t 2.65452275595387\n",
            "6  \t [-2.63364279  1.2018699 ]\t 2.573877956439941\t 2.413075988674313\t 2.651598493013301\t 2.938066210334988\n",
            "7  \t [-1.51355131  1.5403012 ]\t 2.4345106101772322\t 2.413075988674313\t 2.2440306494984537\t 2.645488130935922\n",
            "\u001b[1m\u001b[92m8\u001b[0m\t \u001b[1m\u001b[92m[-2.23870886  1.27018409]\u001b[0m\t \u001b[1m\u001b[92m1.6462982193166698\u001b[0m\t \u001b[1m\u001b[92m1.6462982193166698\u001b[0m\t \u001b[1m\u001b[92m2.087800327016848\u001b[0m\t \u001b[1m\u001b[92m2.8272595517224337\u001b[0m\n",
            "9  \t [-2.59265529  1.2113891 ]\t 2.354296775778666\t 1.6462982193166698\t 2.634139915571804\t 2.898369445131892\n",
            "10 \t [-3.90105626  0.6076996 ]\t 63.30006189602926\t 1.6462982193166698\t 2.932402107152614\t 2.500977486934441\n",
            "11 \t [4.5 4.5]\t 174813.36328125\t 1.6462982193166698\t 2.7505555977044014\t 2.6419012785082927\n",
            "12 \t [-2.35419462  1.5326513 ]\t 13.142863082036655\t 1.6462982193166698\t 1.4218269128204613\t 1.4356767807285267\n",
            "13 \t [-0.61005469 -1.27217351]\t 32.00701201359447\t 1.6462982193166698\t 1.989660148395952\t 1.5483180725114536\n",
            "14 \t [-2.07566738  1.68363608]\t 29.530644971068703\t 1.6462982193166698\t 2.051972120666643\t 1.8987682046134315\n",
            "\u001b[1m\u001b[92m15\u001b[0m\t \u001b[1m\u001b[92m[-2.3668049   1.33888862]\u001b[0m\t \u001b[1m\u001b[92m1.1014438078542483\u001b[0m\t \u001b[1m\u001b[92m1.1014438078542483\u001b[0m\t \u001b[1m\u001b[92m1.9404364367829374\u001b[0m\t \u001b[1m\u001b[92m2.2594053435795005\u001b[0m\n",
            "\u001b[1m\u001b[92m16\u001b[0m\t \u001b[1m\u001b[92m[2.66711104 0.15674556]\u001b[0m\t \u001b[1m\u001b[92m0.6857046592943817\u001b[0m\t \u001b[1m\u001b[92m0.6857046592943817\u001b[0m\t \u001b[1m\u001b[92m2.0795154137214316\u001b[0m\t \u001b[1m\u001b[92m1.733855757489375\u001b[0m\n",
            "17 \t [-2.67501647  1.32449018]\t 1.2913895834324332\t 0.6857046592943817\t 1.692813301296204\t 1.7276683356591582\n",
            "18 \t [-2.83223644  1.29808295]\t 1.0702356282196839\t 0.6857046592943817\t 2.123252224306863\t 1.8865041739961743\n",
            "19 \t [-2.3916489   1.31524051]\t 0.9914931993969797\t 0.6857046592943817\t 1.8394836907594845\t 1.6736167141567524\n",
            "20 \t [-1.61562403  1.9504416 ]\t 65.22085575759237\t 0.6857046592943817\t 2.012403589278068\t 2.079177972214661\n"
          ]
        }
      ],
      "source": [
        "### EXACT GP EI GRADIENTS\n",
        "\n",
        "np.random.seed(run_num_12)\n",
        "surrogate_exact_12 = dGaussianProcess(cov_func, optimize=opt)\n",
        "\n",
        "exact_12 = dGPGO(surrogate_exact_12, Acquisition_grad(util), objfunc, param)\n",
        "exact_12.run(init_evals=n_init, max_iter=iters)\n"
      ]
    },
    {
      "cell_type": "code",
      "execution_count": 46,
      "metadata": {
        "id": "9BsKdU9eJTFL",
        "colab": {
          "base_uri": "https://localhost:8080/"
        },
        "outputId": "c9f0424e-5979-4698-fe62-2ad39d52c150"
      },
      "outputs": [
        {
          "output_type": "stream",
          "name": "stdout",
          "text": [
            "Evaluation \t Proposed point \t  Current eval. \t  Best eval. \t        Exact EI: StdDev. x \t Approx EI: StdDev. x \n",
            "init\t [ 2.4993217  -2.36212902]\t 1312.0597023727128\t 25.917758071459016\t    \t    \n",
            "init\t [2.91850679 4.19174278]\t 48757.43948599124\t 25.917758071459016\t    \t    \n",
            "init\t [ 4.25341003 -0.41895677]\t 25.917758071459016\t 25.917758071459016\t    \t    \n",
            "init\t [0.98138216 2.47973863]\t 337.8750512678324\t 25.917758071459016\t    \t    \n",
            "init\t [1.2745201  1.99816407]\t 177.1374160884886\t 25.917758071459016\t    \t    \n",
            "\u001b[1m\u001b[92m1\u001b[0m\t \u001b[1m\u001b[92m[0.87423532 0.76395651]\u001b[0m\t \u001b[1m\u001b[92m9.812473118272274\u001b[0m\t \u001b[1m\u001b[92m9.812473118272274\u001b[0m\t \u001b[1m\u001b[92m2.531708257480907\u001b[0m\t \u001b[1m\u001b[92m2.9136523807450487\u001b[0m\n",
            "2  \t [-4.5 -4.5]\t 181853.61328125\t 9.812473118272274\t 2.762490581365666\t 3.0974178089493725\n",
            "3  \t [-4.39134166  2.03240886]\t 1032.4296897782574\t 9.812473118272274\t 2.1001068479451592\t 3.3736050172556054\n",
            "4  \t [-1.40325875 -0.78951685]\t 46.07729720564123\t 9.812473118272274\t 2.0753273993945127\t 3.3132947577732303\n",
            "5  \t [-1.23562441  3.30553786]\t 1764.1546257814955\t 9.812473118272274\t 2.81554430664641\t 3.7317845203964626\n",
            "6  \t [-0.40538425 -3.49688799]\t 431.06981971231147\t 9.812473118272274\t 2.2185735431072553\t 3.468332521165023\n",
            "\u001b[1m\u001b[92m7\u001b[0m\t \u001b[1m\u001b[92m[1.16682681 0.69043686]\u001b[0m\t \u001b[1m\u001b[92m7.37824840981607\u001b[0m\t \u001b[1m\u001b[92m7.37824840981607\u001b[0m\t \u001b[1m\u001b[92m2.450570139198063\u001b[0m\t \u001b[1m\u001b[92m3.413026486982091\u001b[0m\n",
            "\u001b[1m\u001b[92m8\u001b[0m\t \u001b[1m\u001b[92m[1.24964264 0.65242911]\u001b[0m\t \u001b[1m\u001b[92m6.4501996451240196\u001b[0m\t \u001b[1m\u001b[92m6.4501996451240196\u001b[0m\t \u001b[1m\u001b[92m2.1316143943695605\u001b[0m\t \u001b[1m\u001b[92m3.1340903359200407\u001b[0m\n",
            "9  \t [0.9382641  0.76652063]\t 9.5607876113002\t 6.4501996451240196\t 2.2141548819658254\t 3.2943965712587566\n",
            "10 \t [-3.11375189 -0.61309693]\t 101.81497050489983\t 6.4501996451240196\t 2.289236624040319\t 3.4746317667541304\n",
            "\u001b[1m\u001b[92m11\u001b[0m\t \u001b[1m\u001b[92m[4.5       0.6839282]\u001b[0m\t \u001b[1m\u001b[92m0.21665158641992194\u001b[0m\t \u001b[1m\u001b[92m0.21665158641992194\u001b[0m\t \u001b[1m\u001b[92m2.49258293878466\u001b[0m\t \u001b[1m\u001b[92m3.248519819691466\u001b[0m\n",
            "\u001b[1m\u001b[92m12\u001b[0m\t \u001b[1m\u001b[92m[4.49337713 0.69979381]\u001b[0m\t \u001b[1m\u001b[92m0.13258033766493665\u001b[0m\t \u001b[1m\u001b[92m0.13258033766493665\u001b[0m\t \u001b[1m\u001b[92m1.8530769764710973\u001b[0m\t \u001b[1m\u001b[92m3.267306905683037\u001b[0m\n",
            "13 \t [4.14385007 0.59287837]\t 0.6555738782223959\t 0.13258033766493665\t 2.5293130336244736\t 3.3013875037515135\n",
            "14 \t [3.57089055 0.52753487]\t 0.3198220200445938\t 0.13258033766493665\t 2.0591915134548726\t 3.511014037711647\n",
            "15 \t [4.20225571 0.59468462]\t 0.7394951659420468\t 0.13258033766493665\t 2.246327459417888\t 3.5918645035002945\n",
            "16 \t [2.08555213 0.52652486]\t 1.5263063282416889\t 0.13258033766493665\t 1.8868332631176086\t 3.2564243740604693\n",
            "17 \t [3.66624907 0.51391113]\t 0.5758227900640345\t 0.13258033766493665\t 2.7187977363514384\t 3.772345880675959\n",
            "18 \t [3.82274952 0.53199138]\t 0.7116268399701807\t 0.13258033766493665\t 2.0552894544398033\t 3.744381989576381\n",
            "19 \t [3.75078824 0.52015543]\t 0.6835563931055753\t 0.13258033766493665\t 2.056790213697802\t 3.550186156555965\n",
            "20 \t [4.27310472 0.60981913]\t 0.6774755754674552\t 0.13258033766493665\t 2.407944082630163\t 3.734827998100678\n"
          ]
        }
      ],
      "source": [
        "### EXACT GP EI GRADIENTS\n",
        "\n",
        "np.random.seed(run_num_13)\n",
        "surrogate_exact_13 = dGaussianProcess(cov_func, optimize=opt)\n",
        "\n",
        "exact_13 = dGPGO(surrogate_exact_13, Acquisition_grad(util), objfunc, param)\n",
        "exact_13.run(init_evals=n_init, max_iter=iters)\n"
      ]
    },
    {
      "cell_type": "code",
      "execution_count": 47,
      "metadata": {
        "id": "k6GjFBr1JTJf",
        "colab": {
          "base_uri": "https://localhost:8080/"
        },
        "outputId": "5cb332ea-dbee-4e34-8654-5e7ea8d81cf3"
      },
      "outputs": [
        {
          "output_type": "stream",
          "name": "stdout",
          "text": [
            "Evaluation \t Proposed point \t  Current eval. \t  Best eval. \t        Exact EI: StdDev. x \t Approx EI: StdDev. x \n",
            "init\t [0.12549009 2.45848547]\t 30.19066754742359\t 11.367015527968295\t    \t    \n",
            "init\t [ 3.33384917 -4.42757746]\t 88548.3950659154\t 11.367015527968295\t    \t    \n",
            "init\t [-1.71237667  4.11843365]\t 13933.414320383567\t 11.367015527968295\t    \t    \n",
            "init\t [ 0.11805041 -1.63544018]\t 11.367015527968295\t 11.367015527968295\t    \t    \n",
            "init\t [ 0.35279944 -2.50870552]\t 27.90050047415725\t 11.367015527968295\t    \t    \n",
            "1  \t [1.53263805 1.11685225]\t 20.14836096096381\t 11.367015527968295\t 3.5372783728108756\t 3.446158852177882\n",
            "2  \t [-4.5 -4.5]\t 181853.61328125\t 11.367015527968295\t 3.809129158642842\t 3.7509495275290505\n",
            "3  \t [-3.78294825 -0.04366883]\t 107.05759771102394\t 11.367015527968295\t 2.5187471164054336\t 2.7949020991335565\n",
            "4  \t [4.5 4.5]\t 174813.36328125\t 11.367015527968295\t 3.2799304201084847\t 3.618571577357239\n",
            "5  \t [ 4.19389567 -0.6362805 ]\t 35.83422151565863\t 11.367015527968295\t 2.3807166526818593\t 2.585769217532213\n",
            "6  \t [-1.125913    0.58940173]\t 25.152560788760947\t 11.367015527968295\t 2.004161408492554\t 2.217324026517228\n",
            "7  \t [-1.58443235 -1.88256329]\t 258.4484994693635\t 11.367015527968295\t 1.9902559812125318\t 2.83248952956313\n",
            "\u001b[1m\u001b[92m8\u001b[0m\t \u001b[1m\u001b[92m[ 1.20626323 -0.83523908]\u001b[0m\t \u001b[1m\u001b[92m4.576137986340748\u001b[0m\t \u001b[1m\u001b[92m4.576137986340748\u001b[0m\t \u001b[1m\u001b[92m2.362385812164202\u001b[0m\t \u001b[1m\u001b[92m2.579836127859966\u001b[0m\n",
            "9  \t [1.08845274 2.78816543]\t 735.9250579127861\t 4.576137986340748\t 2.3562786896338253\t 2.8539560115775706\n",
            "10 \t [ 1.64264341 -3.74519701]\t 7876.4713664709525\t 4.576137986340748\t 2.4012072863375655\t 2.604631387843841\n",
            "11 \t [-0.18656368  1.27202681]\t 12.550373902853917\t 4.576137986340748\t 1.9955811613732548\t 2.3684543842530084\n",
            "\u001b[1m\u001b[92m12\u001b[0m\t \u001b[1m\u001b[92m[1.48247004 0.06778002]\u001b[0m\t \u001b[1m\u001b[92m1.9199599683218307\u001b[0m\t \u001b[1m\u001b[92m1.9199599683218307\u001b[0m\t \u001b[1m\u001b[92m1.636635126732837\u001b[0m\t \u001b[1m\u001b[92m2.2783723737387693\u001b[0m\n",
            "13 \t [0.09472765 1.03598458]\t 14.300396567376485\t 1.9199599683218307\t 1.917717641701722\t 2.2827678597036765\n",
            "14 \t [-0.0352658   1.16489568]\t 14.022117772827986\t 1.9199599683218307\t 1.972942322497831\t 2.5366260766650637\n",
            "\u001b[1m\u001b[92m15\u001b[0m\t \u001b[1m\u001b[92m[1.86943255 0.1136556 ]\u001b[0m\t \u001b[1m\u001b[92m0.7634690360573768\u001b[0m\t \u001b[1m\u001b[92m0.7634690360573768\u001b[0m\t \u001b[1m\u001b[92m1.4966902429088136\u001b[0m\t \u001b[1m\u001b[92m2.031982244915068\u001b[0m\n",
            "\u001b[1m\u001b[92m16\u001b[0m\t \u001b[1m\u001b[92m[1.89409855 0.09532719]\u001b[0m\t \u001b[1m\u001b[92m0.7214310198502174\u001b[0m\t \u001b[1m\u001b[92m0.7214310198502174\u001b[0m\t \u001b[1m\u001b[92m1.8850423234144305\u001b[0m\t \u001b[1m\u001b[92m2.141479852522194\u001b[0m\n",
            "17 \t [1.88715504 0.08932539]\t 0.7369912723468358\t 0.7214310198502174\t 1.842328234076444\t 2.2353475165758714\n",
            "\u001b[1m\u001b[92m18\u001b[0m\t \u001b[1m\u001b[92m[2.07118501 0.07004527]\u001b[0m\t \u001b[1m\u001b[92m0.5247805187914095\u001b[0m\t \u001b[1m\u001b[92m0.5247805187914095\u001b[0m\t \u001b[1m\u001b[92m1.3553858493349678\u001b[0m\t \u001b[1m\u001b[92m1.6747724486578548\u001b[0m\n",
            "19 \t [-0.07370791  1.19390716]\t 13.751429231358891\t 0.5247805187914095\t 1.9956902522591586\t 2.818761149833483\n",
            "20 \t [0.0643217  1.06858142]\t 14.33207630413839\t 0.5247805187914095\t 1.4685938981472342\t 1.9481420278066162\n"
          ]
        }
      ],
      "source": [
        "### EXACT GP EI GRADIENTS\n",
        "\n",
        "np.random.seed(run_num_14)\n",
        "surrogate_exact_14 = dGaussianProcess(cov_func, optimize=opt)\n",
        "\n",
        "exact_14 = dGPGO(surrogate_exact_14, Acquisition_grad(util), objfunc, param)\n",
        "exact_14.run(init_evals=n_init, max_iter=iters)\n"
      ]
    },
    {
      "cell_type": "code",
      "execution_count": 48,
      "metadata": {
        "id": "dPS8WB3aJTN6",
        "colab": {
          "base_uri": "https://localhost:8080/"
        },
        "outputId": "f74adabe-5015-42ed-d3ac-a7ba960ac73d"
      },
      "outputs": [
        {
          "output_type": "stream",
          "name": "stdout",
          "text": [
            "Evaluation \t Proposed point \t  Current eval. \t  Best eval. \t        Exact EI: StdDev. x \t Approx EI: StdDev. x \n",
            "init\t [ 3.13935928 -2.88993668]\t 6575.875821208801\t 47.082686538130915\t    \t    \n",
            "init\t [-4.01073107 -1.24615399]\t 317.710908287677\t 47.082686538130915\t    \t    \n",
            "init\t [-2.02139164  0.27000202]\t 47.082686538130915\t 47.082686538130915\t    \t    \n",
            "init\t [-1.74672976 -1.75973077]\t 234.8792968363759\t 47.082686538130915\t    \t    \n",
            "init\t [-3.49432851 -2.25090888]\t 2421.671033348018\t 47.082686538130915\t    \t    \n",
            "1  \t [-4.5         0.10304177]\t 126.2660067466509\t 47.082686538130915\t 3.5332361186755303\t 3.7866446114655297\n",
            "2  \t [4.5 4.5]\t 174813.36328125\t 47.082686538130915\t 2.998084897327266\t 3.4381783778724166\n",
            "3  \t [-0.84005034  4.43307196]\t 5042.791924079783\t 47.082686538130915\t 3.084754176848405\t 3.5350516679197326\n",
            "\u001b[1m\u001b[92m4\u001b[0m\t \u001b[1m\u001b[92m[1.0889446  1.14695378]\u001b[0m\t \u001b[1m\u001b[92m19.58879933008774\u001b[0m\t \u001b[1m\u001b[92m19.58879933008774\u001b[0m\t \u001b[1m\u001b[92m2.876210853811807\u001b[0m\t \u001b[1m\u001b[92m3.433105063928993\u001b[0m\n",
            "5  \t [-4.49134313  3.28866665]\t 25123.62220491183\t 19.58879933008774\t 3.184505350190512\t 3.461494221153836\n",
            "6  \t [-0.77603639 -4.48699848]\t 5595.023941442723\t 19.58879933008774\t 2.932107646716672\t 3.0884567281167534\n",
            "\u001b[1m\u001b[92m7\u001b[0m\t \u001b[1m\u001b[92m[-0.39224428  0.15589782]\u001b[0m\t \u001b[1m\u001b[92m19.37887086935072\u001b[0m\t \u001b[1m\u001b[92m19.37887086935072\u001b[0m\t \u001b[1m\u001b[92m3.066515033629954\u001b[0m\t \u001b[1m\u001b[92m2.731482870905814\u001b[0m\n",
            "\u001b[1m\u001b[92m8\u001b[0m\t \u001b[1m\u001b[92m[1.77104882 0.64242394]\u001b[0m\t \u001b[1m\u001b[92m3.966695445827842\u001b[0m\t \u001b[1m\u001b[92m3.966695445827842\u001b[0m\t \u001b[1m\u001b[92m2.4421332415022396\u001b[0m\t \u001b[1m\u001b[92m3.4811241469802887\u001b[0m\n",
            "\u001b[1m\u001b[92m9\u001b[0m\t \u001b[1m\u001b[92m[2.00993225 0.58759393]\u001b[0m\t \u001b[1m\u001b[92m2.368970031845289\u001b[0m\t \u001b[1m\u001b[92m2.368970031845289\u001b[0m\t \u001b[1m\u001b[92m2.706653823880459\u001b[0m\t \u001b[1m\u001b[92m2.6593319563708397\u001b[0m\n",
            "10 \t [1.54067168 0.74067792]\t 6.552990099803718\t 2.368970031845289\t 2.657362668044592\t 3.0914960336290354\n",
            "11 \t [1.71242405 0.67802043]\t 4.746860350230417\t 2.368970031845289\t 2.423850447480429\t 2.9519672212388595\n",
            "12 \t [1.39766055 0.80583621]\t 8.443486751977488\t 2.368970031845289\t 2.93511287273228\t 3.138900006897425\n",
            "13 \t [1.3775408  0.82271842]\t 8.893047198714553\t 2.368970031845289\t 2.632407557641721\t 3.378616509154342\n",
            "14 \t [1.5859839  0.73666963]\t 6.295340715007002\t 2.368970031845289\t 2.9469426456506604\t 2.8871709486388526\n",
            "15 \t [1.38803944 0.82409946]\t 8.889302482651466\t 2.368970031845289\t 2.629129158140507\t 2.8966163613069096\n",
            "16 \t [1.42370734 0.81193827]\t 8.487951301836453\t 2.368970031845289\t 2.5468020832820653\t 3.3178291175080785\n",
            "17 \t [1.77444517 0.67224844]\t 4.406481437619801\t 2.368970031845289\t 2.6079389333152587\t 2.9244166191167986\n",
            "18 \t [-0.38864441 -0.47177836]\t 20.136297788206026\t 2.368970031845289\t 2.454744540507119\t 2.7855194947819886\n",
            "19 \t [2.0062613  0.60912277]\t 2.6382811207999444\t 2.368970031845289\t 2.9706797989260934\t 3.090671479614754\n",
            "\u001b[1m\u001b[92m20\u001b[0m\t \u001b[1m\u001b[92m[2.36280855 0.53016385]\u001b[0m\t \u001b[1m\u001b[92m0.8332912504459549\u001b[0m\t \u001b[1m\u001b[92m0.8332912504459549\u001b[0m\t \u001b[1m\u001b[92m2.863203328260036\u001b[0m\t \u001b[1m\u001b[92m3.101653817351213\u001b[0m\n"
          ]
        }
      ],
      "source": [
        "### EXACT GP EI GRADIENTS\n",
        "\n",
        "np.random.seed(run_num_15)\n",
        "surrogate_exact_15 = dGaussianProcess(cov_func, optimize=opt)\n",
        "\n",
        "exact_15 = dGPGO(surrogate_exact_15, Acquisition_grad(util), objfunc, param)\n",
        "exact_15.run(init_evals=n_init, max_iter=iters)\n"
      ]
    },
    {
      "cell_type": "code",
      "execution_count": 49,
      "metadata": {
        "id": "lu8ki9XIQPPN",
        "colab": {
          "base_uri": "https://localhost:8080/"
        },
        "outputId": "dbe1f372-def1-4fb2-a895-19daa833cdae"
      },
      "outputs": [
        {
          "output_type": "stream",
          "name": "stdout",
          "text": [
            "Evaluation \t Proposed point \t  Current eval. \t  Best eval. \t        Exact EI: StdDev. x \t Approx EI: StdDev. x \n",
            "init\t [-2.49038029  0.20847007]\t 59.442894178636664\t 59.442894178636664\t    \t    \n",
            "init\t [ 0.45631311 -4.08958245]\t 932.9374489641153\t 59.442894178636664\t    \t    \n",
            "init\t [-1.25344048 -2.49227152]\t 594.9494957841517\t 59.442894178636664\t    \t    \n",
            "init\t [ 1.69853546 -3.02641717]\t 2418.389440420566\t 59.442894178636664\t    \t    \n",
            "init\t [-3.8670762   3.96909774]\t 58473.38862292419\t 59.442894178636664\t    \t    \n",
            "1  \t [4.5 4.5]\t 174813.36328125\t 59.442894178636664\t 4.216285180438469\t 4.043068697224983\n",
            "2  \t [-4.5 -4.5]\t 181853.61328125\t 59.442894178636664\t 3.2064983254071913\t 3.6453921216535257\n",
            "\u001b[1m\u001b[92m3\u001b[0m\t \u001b[1m\u001b[92m[0.3946209  1.41724868]\u001b[0m\t \u001b[1m\u001b[92m21.03059920954412\u001b[0m\t \u001b[1m\u001b[92m21.03059920954412\u001b[0m\t \u001b[1m\u001b[92m2.3729603782243776\u001b[0m\t \u001b[1m\u001b[92m3.0657699469361814\u001b[0m\n",
            "\u001b[1m\u001b[92m4\u001b[0m\t \u001b[1m\u001b[92m[ 3.86043051 -0.12479708]\u001b[0m\t \u001b[1m\u001b[92m12.0264423508692\u001b[0m\t \u001b[1m\u001b[92m12.0264423508692\u001b[0m\t \u001b[1m\u001b[92m1.5953158191060062\u001b[0m\t \u001b[1m\u001b[92m2.9358216060840543\u001b[0m\n",
            "\u001b[1m\u001b[92m5\u001b[0m\t \u001b[1m\u001b[92m[1.87967556 0.56172795]\u001b[0m\t \u001b[1m\u001b[92m2.548581274361718\u001b[0m\t \u001b[1m\u001b[92m2.548581274361718\u001b[0m\t \u001b[1m\u001b[92m1.607483390914379\u001b[0m\t \u001b[1m\u001b[92m2.6648914851402816\u001b[0m\n",
            "6  \t [1.6369724  0.67022606]\t 4.9329673230721625\t 2.548581274361718\t 2.2713725377812657\t 3.1314766833159893\n",
            "\u001b[1m\u001b[92m7\u001b[0m\t \u001b[1m\u001b[92m[1.88650882 0.56052215]\u001b[0m\t \u001b[1m\u001b[92m2.510902614949937\u001b[0m\t \u001b[1m\u001b[92m2.510902614949937\u001b[0m\t \u001b[1m\u001b[92m2.0231833286690137\u001b[0m\t \u001b[1m\u001b[92m2.6103339497617695\u001b[0m\n",
            "\u001b[1m\u001b[92m8\u001b[0m\t \u001b[1m\u001b[92m[1.91105737 0.55093199]\u001b[0m\t \u001b[1m\u001b[92m2.324622852744087\u001b[0m\t \u001b[1m\u001b[92m2.324622852744087\u001b[0m\t \u001b[1m\u001b[92m1.1689134238798289\u001b[0m\t \u001b[1m\u001b[92m2.6152757942641616\u001b[0m\n",
            "\u001b[1m\u001b[92m9\u001b[0m\t \u001b[1m\u001b[92m[1.92587818 0.54546148]\u001b[0m\t \u001b[1m\u001b[92m2.218458202168451\u001b[0m\t \u001b[1m\u001b[92m2.218458202168451\u001b[0m\t \u001b[1m\u001b[92m1.9568406308094923\u001b[0m\t \u001b[1m\u001b[92m2.7298456738182164\u001b[0m\n",
            "10 \t [1.6035955  0.69401465]\t 5.45733546101234\t 2.218458202168451\t 2.335946932355236\t 3.0805983044009664\n",
            "11 \t [1.60412766 0.69707236]\t 5.506668529855094\t 2.218458202168451\t 1.7766690095250959\t 2.383069695324418\n",
            "12 \t [1.75301354 0.62858454]\t 3.845095538702489\t 2.218458202168451\t 2.5512968732866073\t 3.3274058195018927\n",
            "\u001b[1m\u001b[92m13\u001b[0m\t \u001b[1m\u001b[92m[2.01548662 0.51255818]\u001b[0m\t \u001b[1m\u001b[92m1.627601044054574\u001b[0m\t \u001b[1m\u001b[92m1.627601044054574\u001b[0m\t \u001b[1m\u001b[92m1.5354695944900048\u001b[0m\t \u001b[1m\u001b[92m2.433823723530049\u001b[0m\n",
            "\u001b[1m\u001b[92m14\u001b[0m\t \u001b[1m\u001b[92m[2.02627285 0.51137883]\u001b[0m\t \u001b[1m\u001b[92m1.5843316545890667\u001b[0m\t \u001b[1m\u001b[92m1.5843316545890667\u001b[0m\t \u001b[1m\u001b[92m1.497064813208308\u001b[0m\t \u001b[1m\u001b[92m2.5750623135819577\u001b[0m\n",
            "\u001b[1m\u001b[92m15\u001b[0m\t \u001b[1m\u001b[92m[2.41511008 0.35483553]\u001b[0m\t \u001b[1m\u001b[92m0.12368382912929625\u001b[0m\t \u001b[1m\u001b[92m0.12368382912929625\u001b[0m\t \u001b[1m\u001b[92m2.0520098551151573\u001b[0m\t \u001b[1m\u001b[92m3.2203924244183386\u001b[0m\n",
            "16 \t [2.41052566 0.36144732]\t 0.13316035989269057\t 0.12368382912929625\t 1.322492897073941\t 2.3362169009568112\n",
            "17 \t [1.84229106 0.61525576]\t 3.315603691281715\t 0.12368382912929625\t 2.0738428618703346\t 3.010881868362726\n",
            "18 \t [2.04228941 0.52301304]\t 1.6292752154676926\t 0.12368382912929625\t 1.4088193185722826\t 2.958631941536158\n",
            "19 \t [2.21712441 0.44656567]\t 0.666564799759739\t 0.12368382912929625\t 1.8351506483129423\t 2.5527778595677524\n",
            "20 \t [2.17037283 0.46680605]\t 0.878987370707337\t 0.12368382912929625\t 1.565722646036984\t 2.947260180283098\n"
          ]
        }
      ],
      "source": [
        "### EXACT GP EI GRADIENTS\n",
        "\n",
        "np.random.seed(run_num_16)\n",
        "surrogate_exact_16 = dGaussianProcess(cov_func, optimize=opt)\n",
        "\n",
        "exact_16 = dGPGO(surrogate_exact_16, Acquisition_grad(util), objfunc, param)\n",
        "exact_16.run(init_evals=n_init, max_iter=iters)\n"
      ]
    },
    {
      "cell_type": "code",
      "execution_count": 50,
      "metadata": {
        "id": "yU2SflSsJTUs",
        "colab": {
          "base_uri": "https://localhost:8080/"
        },
        "outputId": "03db0bd3-30af-44b2-a794-f7da9c289e17"
      },
      "outputs": [
        {
          "output_type": "stream",
          "name": "stdout",
          "text": [
            "Evaluation \t Proposed point \t  Current eval. \t  Best eval. \t        Exact EI: StdDev. x \t Approx EI: StdDev. x \n",
            "init\t [-1.84801498  0.2752808 ]\t 43.39160388622011\t 6.891623366037299\t    \t    \n",
            "init\t [-2.77631292 -3.88889678]\t 30048.58268621874\t 6.891623366037299\t    \t    \n",
            "init\t [2.58286914 1.4070017 ]\t 81.72560623465196\t 6.891623366037299\t    \t    \n",
            "init\t [1.23768806 0.68042604]\t 6.891623366037299\t 6.891623366037299\t    \t    \n",
            "init\t [-4.14843375 -1.27967756]\t 359.4343933746243\t 6.891623366037299\t    \t    \n",
            "1  \t [ 4.35943058 -3.9087003 ]\t 73234.0134422737\t 6.891623366037299\t 2.6799258046172674\t 4.217868333316554\n",
            "2  \t [-1.01297907  4.5       ]\t 8164.0635553569955\t 6.891623366037299\t 2.5369098736947677\t 3.4794810782387815\n",
            "3  \t [4.5 4.5]\t 174813.36328125\t 6.891623366037299\t 3.2970170383163557\t 3.7557278574421384\n",
            "\u001b[1m\u001b[92m4\u001b[0m\t \u001b[1m\u001b[92m[2.02747481 0.70277174]\u001b[0m\t \u001b[1m\u001b[92m3.9963783446286643\u001b[0m\t \u001b[1m\u001b[92m3.9963783446286643\u001b[0m\t \u001b[1m\u001b[92m2.8692211152601272\u001b[0m\t \u001b[1m\u001b[92m2.928291047000055\u001b[0m\n",
            "\u001b[1m\u001b[92m5\u001b[0m\t \u001b[1m\u001b[92m[2.55360823 0.38576468]\u001b[0m\t \u001b[1m\u001b[92m0.058050878696490685\u001b[0m\t \u001b[1m\u001b[92m0.058050878696490685\u001b[0m\t \u001b[1m\u001b[92m2.539278770947087\u001b[0m\t \u001b[1m\u001b[92m3.3600596355712624\u001b[0m\n",
            "6  \t [2.09389062 0.66244455]\t 3.083898775120654\t 0.058050878696490685\t 2.377798072348351\t 2.8147893604600496\n",
            "7  \t [2.87485142 0.26368597]\t 0.5998925252528542\t 0.058050878696490685\t 2.206420434332327\t 2.728512806566393\n",
            "8  \t [ 1.67732349 -1.68557292]\t 87.72101248544331\t 0.058050878696490685\t 2.966920148036574\t 3.035001490430337\n",
            "9  \t [2.52179845 0.42106137]\t 0.11727898135738796\t 0.058050878696490685\t 2.7729693615029496\t 3.2880248864979653\n",
            "10 \t [2.29047442 0.54548841]\t 1.1204759034822618\t 0.058050878696490685\t 2.065317444444391\t 3.042183944913615\n",
            "11 \t [2.36445385 0.50340567]\t 0.6571851268193085\t 0.058050878696490685\t 2.595150126768475\t 3.390691017465436\n",
            "12 \t [1.9599066 0.7529971]\t 5.25153086507757\t 0.058050878696490685\t 2.1038708712917855\t 2.8587841399885128\n",
            "13 \t [2.48672843 0.44129246]\t 0.19740110437260056\t 0.058050878696490685\t 2.096122199637909\t 2.675244059889859\n",
            "14 \t [2.53314812 0.41691616]\t 0.1010853487795375\t 0.058050878696490685\t 2.319190876359112\t 3.2694359814257075\n",
            "15 \t [2.43683744 0.46829697]\t 0.35476523639214264\t 0.058050878696490685\t 1.9791174260583375\t 2.940670142403117\n",
            "16 \t [2.36758308 0.50735017]\t 0.6742512805855602\t 0.058050878696490685\t 1.6041758074928854\t 2.359828357664238\n",
            "17 \t [2.69941611 0.33916874]\t 0.10082059659938118\t 0.058050878696490685\t 2.1135450404929688\t 2.9143181802074323\n",
            "18 \t [2.54864998 0.40957267]\t 0.07986499276373593\t 0.058050878696490685\t 2.3383152537198124\t 3.2322703421131957\n",
            "19 \t [2.48090385 0.44481211]\t 0.2139814011061404\t 0.058050878696490685\t 2.2571363578578136\t 3.2134797922604696\n",
            "20 \t [2.21289815 0.59893001]\t 1.8532472727307034\t 0.058050878696490685\t 2.0515766852946533\t 3.0878663720466712\n"
          ]
        }
      ],
      "source": [
        "### EXACT GP EI GRADIENTS\n",
        "\n",
        "np.random.seed(run_num_17)\n",
        "surrogate_exact_17 = dGaussianProcess(cov_func, optimize=opt)\n",
        "\n",
        "exact_17 = dGPGO(surrogate_exact_17, Acquisition_grad(util), objfunc, param)\n",
        "exact_17.run(init_evals=n_init, max_iter=iters)\n"
      ]
    },
    {
      "cell_type": "code",
      "execution_count": 51,
      "metadata": {
        "id": "eVEhyZ9BQS-1",
        "colab": {
          "base_uri": "https://localhost:8080/"
        },
        "outputId": "8c2b6ed3-cf24-45e5-d80d-17b8267fda8b"
      },
      "outputs": [
        {
          "output_type": "stream",
          "name": "stdout",
          "text": [
            "Evaluation \t Proposed point \t  Current eval. \t  Best eval. \t        Exact EI: StdDev. x \t Approx EI: StdDev. x \n",
            "init\t [1.35336818 0.04908036]\t 2.472652645883837\t 2.472652645883837\t    \t    \n",
            "init\t [ 3.40741324 -2.86343797]\t 7379.017314590048\t 2.472652645883837\t    \t    \n",
            "init\t [3.17009762 2.25122657]\t 1528.3101419799655\t 2.472652645883837\t    \t    \n",
            "init\t [1.49491501 4.39105903]\t 17224.913295283764\t 2.472652645883837\t    \t    \n",
            "init\t [-2.1872842  -4.24524667]\t 31030.348242396165\t 2.472652645883837\t    \t    \n",
            "1  \t [ 0.60106853 -0.24928069]\t 7.463390370915068\t 2.472652645883837\t 3.2194249712749947\t 3.669924558120487\n",
            "2  \t [-4.5         1.98128724]\t 904.589845338126\t 2.472652645883837\t 2.7963605585580265\t 3.621436672344966\n",
            "3  \t [-1.15067147  0.67519839]\t 23.489270628934804\t 2.472652645883837\t 2.9631043275664566\t 3.4251722430877947\n",
            "4  \t [-2.45501342  4.21929054]\t 33719.38593776349\t 2.472652645883837\t 3.338640834233526\t 3.562201348308079\n",
            "5  \t [0.30651363 0.07344417]\t 10.638161834807\t 2.472652645883837\t 3.217567178721986\t 3.0137695574284287\n",
            "6  \t [0.0825531  0.16729946]\t 13.22234898645944\t 2.472652645883837\t 3.776666572686927\t 3.860183777594376\n",
            "7  \t [0.50738239 0.01889526]\t 8.526080714430481\t 2.472652645883837\t 3.0554932884932113\t 2.946217543188534\n",
            "8  \t [ 0.56958029 -0.02501571]\t 7.889091747372041\t 2.472652645883837\t 3.757235280310692\t 3.7819055746370305\n",
            "9  \t [ 0.64589011 -0.07862328]\t 7.146962989612749\t 2.472652645883837\t 3.599625191253708\t 3.3687315182798567\n",
            "10 \t [-1.79363605 -0.05216242]\t 47.31124189985033\t 2.472652645883837\t 4.005941096325318\t 3.764273347038977\n",
            "11 \t [ 0.63961782 -0.01065194]\t 7.263883863172312\t 2.472652645883837\t 3.2003770915677805\t 3.1391695949895193\n",
            "12 \t [ 0.7531093  -0.11179629]\t 6.208151940990966\t 2.472652645883837\t 3.60140274030408\t 3.4601858469723754\n",
            "13 \t [0.57230145 0.04475396]\t 7.9411043752570745\t 2.472652645883837\t 3.712242387273471\t 3.360698787911532\n",
            "14 \t [0.24502684 0.30045961]\t 11.570220206243981\t 2.472652645883837\t 3.6135876446223363\t 3.548488016224868\n",
            "15 \t [ 0.62198041 -0.00761519]\t 7.425274965637245\t 2.472652645883837\t 3.4469343288356717\t 3.345000996620907\n",
            "16 \t [ 0.85635841 -0.20778403]\t 5.364514739315544\t 2.472652645883837\t 2.916440020021837\t 2.956153096593657\n",
            "17 \t [ 0.64612975 -0.03270036]\t 7.183913128969046\t 2.472652645883837\t 3.892495948477052\t 3.7141795664883634\n",
            "18 \t [ 0.81360649 -0.17400884]\t 5.697067408698678\t 2.472652645883837\t 3.8153962251137044\t 3.656952829862209\n",
            "19 \t [ 0.85553994 -0.20934051]\t 5.370323929351899\t 2.472652645883837\t 3.2278761837645122\t 3.203220738099935\n",
            "20 \t [ 0.78702635 -0.15302021]\t 5.913448058271786\t 2.472652645883837\t 3.3542283393855556\t 3.258048982533013\n"
          ]
        }
      ],
      "source": [
        "### EXACT GP EI GRADIENTS\n",
        "\n",
        "np.random.seed(run_num_18)\n",
        "surrogate_exact_18 = dGaussianProcess(cov_func, optimize=opt)\n",
        "\n",
        "exact_18 = dGPGO(surrogate_exact_18, Acquisition_grad(util), objfunc, param)\n",
        "exact_18.run(init_evals=n_init, max_iter=iters)\n"
      ]
    },
    {
      "cell_type": "code",
      "execution_count": 52,
      "metadata": {
        "id": "B6gTz1ojQUxn",
        "colab": {
          "base_uri": "https://localhost:8080/"
        },
        "outputId": "f27a3c6c-03e2-44c7-de9e-90d24a488152"
      },
      "outputs": [
        {
          "output_type": "stream",
          "name": "stdout",
          "text": [
            "Evaluation \t Proposed point \t  Current eval. \t  Best eval. \t        Exact EI: StdDev. x \t Approx EI: StdDev. x \n",
            "init\t [-3.62219758  2.35124745]\t 1879.409018573639\t 63.544086067314716\t    \t    \n",
            "init\t [-2.27755824 -3.25681481]\t 7496.243410303341\t 63.544086067314716\t    \t    \n",
            "init\t [-1.51698093 -3.75300391]\t 7497.407542620609\t 63.544086067314716\t    \t    \n",
            "init\t [1.54779373 2.75934418]\t 1302.4341957421634\t 63.544086067314716\t    \t    \n",
            "init\t [4.34467723 1.22094661]\t 63.544086067314716\t 63.544086067314716\t    \t    \n",
            "1  \t [ 4.0737797  -3.44761023]\t 30801.174676634437\t 63.544086067314716\t 2.8969894633831896\t 4.292726406376255\n",
            "2  \t [4.5 4.5]\t 174813.36328125\t 63.544086067314716\t 3.753982040412077\t 4.06268939080378\n",
            "\u001b[1m\u001b[92m3\u001b[0m\t \u001b[1m\u001b[92m[ 0.73815607 -0.45254326]\u001b[0m\t \u001b[1m\u001b[92m6.255325163246354\u001b[0m\t \u001b[1m\u001b[92m6.255325163246354\u001b[0m\t \u001b[1m\u001b[92m2.4821639143399103\u001b[0m\t \u001b[1m\u001b[92m3.239710873161531\u001b[0m\n",
            "\u001b[1m\u001b[92m4\u001b[0m\t \u001b[1m\u001b[92m[2.70858543 0.48147811]\u001b[0m\t \u001b[1m\u001b[92m0.08564409994387304\u001b[0m\t \u001b[1m\u001b[92m0.08564409994387304\u001b[0m\t \u001b[1m\u001b[92m2.6276365430623683\u001b[0m\t \u001b[1m\u001b[92m3.027993060193282\u001b[0m\n",
            "\u001b[1m\u001b[92m5\u001b[0m\t \u001b[1m\u001b[92m[3.53726651 0.57627567]\u001b[0m\t \u001b[1m\u001b[92m0.06804412343644688\u001b[0m\t \u001b[1m\u001b[92m0.06804412343644688\u001b[0m\t \u001b[1m\u001b[92m2.822940744267005\u001b[0m\t \u001b[1m\u001b[92m3.4891216751732115\u001b[0m\n",
            "6  \t [ 0.88841907 -0.50204645]\t 5.179135715118789\t 0.06804412343644688\t 2.883466253721882\t 3.421225182712053\n",
            "\u001b[1m\u001b[92m7\u001b[0m\t \u001b[1m\u001b[92m[3.4728705  0.58037464]\u001b[0m\t \u001b[1m\u001b[92m0.03318791579881186\u001b[0m\t \u001b[1m\u001b[92m0.03318791579881186\u001b[0m\t \u001b[1m\u001b[92m2.850249227322915\u001b[0m\t \u001b[1m\u001b[92m3.4517298808677603\u001b[0m\n",
            "8  \t [-0.46829931  0.18687361]\t 20.3874704877296\t 0.03318791579881186\t 2.650757144511223\t 3.496624247339308\n",
            "9  \t [ 1.33200296 -0.62566341]\t 3.4492931658295816\t 0.03318791579881186\t 2.711127795589601\t 3.410819763465128\n",
            "10 \t [4.5        0.50897307]\t 3.3218552832402066\t 0.03318791579881186\t 3.1935095831740203\t 4.02743839483085\n",
            "11 \t [3.73299755 0.55500437]\t 0.357669230827831\t 0.03318791579881186\t 2.445948486781562\t 2.9224337365880277\n",
            "12 \t [4.5        0.52844638]\t 2.8399633037931205\t 0.03318791579881186\t 2.869349056764072\t 3.3810000505213074\n",
            "13 \t [ 1.38965633 -0.54796242]\t 3.06969865816114\t 0.03318791579881186\t 2.7005263799915786\t 2.9588026555751776\n",
            "14 \t [4.49998909 0.52553447]\t 2.9105787737114466\t 0.03318791579881186\t 2.802825975008645\t 3.082312743608646\n",
            "15 \t [4.28250772 0.54005557]\t 1.8006679983719036\t 0.03318791579881186\t 2.865139720762029\t 3.5211064417525897\n",
            "16 \t [4.4067992  0.53649449]\t 2.2965453273586554\t 0.03318791579881186\t 2.596666575649949\t 2.8979672896254685\n",
            "17 \t [3.85495285 0.55695901]\t 0.5286312276480342\t 0.03318791579881186\t 2.6962485359766424\t 3.0812719284617853\n",
            "18 \t [4.17544248 0.54847452]\t 1.338736432486622\t 0.03318791579881186\t 3.255543669057243\t 3.942289080751559\n",
            "19 \t [4.5        0.53388395]\t 2.70942568404266\t 0.03318791579881186\t 2.5942228370950926\t 2.877519534115158\n",
            "20 \t [ 1.26736351 -0.48169559]\t 3.251361584983579\t 0.03318791579881186\t 2.630706134192677\t 3.363679204840612\n"
          ]
        }
      ],
      "source": [
        "### EXACT GP EI GRADIENTS\n",
        "\n",
        "np.random.seed(run_num_19)\n",
        "surrogate_exact_19 = dGaussianProcess(cov_func, optimize=opt)\n",
        "\n",
        "exact_19 = dGPGO(surrogate_exact_19, Acquisition_grad(util), objfunc, param)\n",
        "exact_19.run(init_evals=n_init, max_iter=iters)\n"
      ]
    },
    {
      "cell_type": "code",
      "execution_count": 53,
      "metadata": {
        "id": "aw3xvSryIwDi",
        "colab": {
          "base_uri": "https://localhost:8080/"
        },
        "outputId": "aa6ded4a-2707-4be2-c6d7-067c3ddbb9c6"
      },
      "outputs": [
        {
          "output_type": "stream",
          "name": "stdout",
          "text": [
            "Evaluation \t Proposed point \t  Current eval. \t  Best eval. \t        Exact EI: StdDev. x \t Approx EI: StdDev. x \n",
            "init\t [0.79317721 3.57942355]\t 1607.3829986954497\t 30.55204392634667\t    \t    \n",
            "init\t [3.52377657 2.8425373 ]\t 7209.150060592592\t 30.55204392634667\t    \t    \n",
            "init\t [-4.17699373  1.72581824]\t 253.68900136908488\t 30.55204392634667\t    \t    \n",
            "init\t [-1.09187152  0.16659851]\t 30.55204392634667\t 30.55204392634667\t    \t    \n",
            "init\t [ 1.42156319 -2.75534804]\t 963.9362838324588\t 30.55204392634667\t    \t    \n",
            "1  \t [-4.5 -4.5]\t 181853.61328125\t 30.55204392634667\t 2.5490117828035403\t 3.827436636657222\n",
            "2  \t [ 3.86516515 -0.82468515]\t 43.47455753323474\t 30.55204392634667\t 2.5321540790964066\t 3.4983174097186733\n",
            "3  \t [-1.71337418 -0.79986062]\t 56.43028644630533\t 30.55204392634667\t 2.353314876219819\t 3.7287013661710997\n",
            "4  \t [-2.52524865  3.68345403]\t 15551.102714808436\t 30.55204392634667\t 2.408063348169676\t 3.574058638737486\n",
            "5  \t [-3.48000272 -0.04731685]\t 96.48684606034361\t 30.55204392634667\t 2.7725263866357275\t 3.4020525509104225\n",
            "\u001b[1m\u001b[92m6\u001b[0m\t \u001b[1m\u001b[92m[0.30851433 0.2343143 ]\u001b[0m\t \u001b[1m\u001b[92m10.817061659090715\u001b[0m\t \u001b[1m\u001b[92m10.817061659090715\u001b[0m\t \u001b[1m\u001b[92m2.88694982628931\u001b[0m\t \u001b[1m\u001b[92m3.5937323884879873\u001b[0m\n",
            "\u001b[1m\u001b[92m7\u001b[0m\t \u001b[1m\u001b[92m[ 1.83652729 -0.16961843]\u001b[0m\t \u001b[1m\u001b[92m1.2450327980019407\u001b[0m\t \u001b[1m\u001b[92m1.2450327980019407\u001b[0m\t \u001b[1m\u001b[92m3.314388475506692\u001b[0m\t \u001b[1m\u001b[92m3.533230339592754\u001b[0m\n",
            "8  \t [0.87315853 0.16097446]\t 5.629131216110375\t 1.2450327980019407\t 2.6129794570615528\t 3.078243875314845\n",
            "9  \t [0.84294602 0.16908682]\t 5.877795083548357\t 1.2450327980019407\t 2.713992461373391\t 3.083385638486805\n",
            "10 \t [0.9283148  0.14383313]\t 5.183425984474202\t 1.2450327980019407\t 2.7826268755624928\t 3.132030178518353\n",
            "11 \t [ 4.49399087 -4.28987798]\t 134172.8399423507\t 1.2450327980019407\t 2.7585307950552913\t 3.624311992387935\n",
            "12 \t [ 2.90614779 -0.38549516]\t 6.6336426155544395\t 1.2450327980019407\t 2.9035662189904863\t 2.829922006396962\n",
            "13 \t [ 3.58633243 -0.37394092]\t 13.763978457503068\t 1.2450327980019407\t 3.057855705938028\t 3.4010022431020692\n",
            "14 \t [ 3.26958211 -0.40240235]\t 10.494658443735853\t 1.2450327980019407\t 2.547195833628273\t 2.725660293889577\n",
            "15 \t [ 3.33459395 -0.39826959]\t 11.158050813664909\t 1.2450327980019407\t 2.404508557125288\t 2.3567633978153313\n",
            "16 \t [0.64189844 0.18654988]\t 7.563758530355228\t 1.2450327980019407\t 2.8305393185046275\t 2.700899626395892\n",
            "17 \t [0.66518006 0.18112425]\t 7.35029851377067\t 1.2450327980019407\t 2.5942597430777745\t 2.928887398996533\n",
            "18 \t [0.60980319 0.19521573]\t 7.864907602040848\t 1.2450327980019407\t 2.9866490395404894\t 2.834478070426515\n",
            "19 \t [0.84681116 0.13190283]\t 5.764423306504783\t 1.2450327980019407\t 2.981968208196639\t 2.7583941548239896\n",
            "20 \t [0.84594412 0.1322717 ]\t 5.771842603400099\t 1.2450327980019407\t 2.329550932044488\t 2.457220197984359\n"
          ]
        }
      ],
      "source": [
        "### EXACT GP EI GRADIENTS\n",
        "\n",
        "np.random.seed(run_num_20)\n",
        "surrogate_exact_20 = dGaussianProcess(cov_func, optimize=opt)\n",
        "\n",
        "exact_20 = dGPGO(surrogate_exact_20, Acquisition_grad(util), objfunc, param)\n",
        "exact_20.run(init_evals=n_init, max_iter=iters)\n"
      ]
    },
    {
      "cell_type": "code",
      "execution_count": 54,
      "metadata": {
        "id": "5c8szjivRPme",
        "colab": {
          "base_uri": "https://localhost:8080/"
        },
        "outputId": "19e2afaf-a4f9-4d84-c17e-68d3d34cce3b"
      },
      "outputs": [
        {
          "output_type": "execute_result",
          "data": {
            "text/plain": [
              "858.5483753681183"
            ]
          },
          "metadata": {},
          "execution_count": 54
        }
      ],
      "source": [
        "end_exact = time.time()\n",
        "end_exact\n",
        "\n",
        "time_exact = end_exact - start_exact\n",
        "time_exact\n"
      ]
    },
    {
      "cell_type": "code",
      "execution_count": 55,
      "metadata": {
        "id": "f6gCKnp6RR8c",
        "colab": {
          "base_uri": "https://localhost:8080/"
        },
        "outputId": "61409de4-2267-48c3-8395-10750fc5b5b4"
      },
      "outputs": [
        {
          "output_type": "execute_result",
          "data": {
            "text/plain": [
              "(-0.2647570945839527, -0.9661777067529677)"
            ]
          },
          "metadata": {},
          "execution_count": 55
        }
      ],
      "source": [
        "### Simple regret minimization: run number = 1\n",
        "\n",
        "approx_output_1 = np.append(np.min(-approx_1.GP.y[0:n_init]),-approx_1.GP.y[n_init:(n_init+iters)]) \n",
        "exact_output_1 = np.append(np.min(-exact_1.GP.y[0:n_init]),-exact_1.GP.y[n_init:(n_init+iters)]) \n",
        "\n",
        "regret_approx_1 = np.log(approx_output_1 - y_global_orig)\n",
        "regret_exact_1 = np.log(exact_output_1 - y_global_orig)\n",
        "\n",
        "simple_regret_approx_1 = min_max_array(regret_approx_1)\n",
        "simple_regret_exact_1 = min_max_array(regret_exact_1)\n",
        "\n",
        "min_simple_regret_approx_1 = min(simple_regret_approx_1)\n",
        "min_simple_regret_exact_1 = min(simple_regret_exact_1)\n",
        "\n",
        "min_simple_regret_approx_1, min_simple_regret_exact_1\n"
      ]
    },
    {
      "cell_type": "code",
      "execution_count": 56,
      "metadata": {
        "id": "94yBw5tqQxfk",
        "colab": {
          "base_uri": "https://localhost:8080/"
        },
        "outputId": "b7ac7637-b6a9-4f8a-e1b5-73d034cae872"
      },
      "outputs": [
        {
          "output_type": "execute_result",
          "data": {
            "text/plain": [
              "(1.226255872160148, -0.6160317739898561)"
            ]
          },
          "metadata": {},
          "execution_count": 56
        }
      ],
      "source": [
        "### Simple regret minimization: run number = 2\n",
        "\n",
        "approx_output_2 = np.append(np.min(-approx_2.GP.y[0:n_init]),-approx_2.GP.y[n_init:(n_init+iters)]) \n",
        "exact_output_2 = np.append(np.min(-exact_2.GP.y[0:n_init]),-exact_2.GP.y[n_init:(n_init+iters)]) \n",
        "\n",
        "regret_approx_2 = np.log(approx_output_2 - y_global_orig)\n",
        "regret_exact_2 = np.log(exact_output_2 - y_global_orig)\n",
        "\n",
        "simple_regret_approx_2 = min_max_array(regret_approx_2)\n",
        "simple_regret_exact_2 = min_max_array(regret_exact_2)\n",
        "\n",
        "min_simple_regret_approx_2 = min(simple_regret_approx_2)\n",
        "min_simple_regret_exact_2 = min(simple_regret_exact_2)\n",
        "\n",
        "min_simple_regret_approx_2, min_simple_regret_exact_2\n"
      ]
    },
    {
      "cell_type": "code",
      "execution_count": 57,
      "metadata": {
        "id": "Bu6SBWALQxfl",
        "colab": {
          "base_uri": "https://localhost:8080/"
        },
        "outputId": "61684b1d-5235-4852-ade0-512168a2f3bc"
      },
      "outputs": [
        {
          "output_type": "execute_result",
          "data": {
            "text/plain": [
              "(0.6678014433569056, 0.4110908389876276)"
            ]
          },
          "metadata": {},
          "execution_count": 57
        }
      ],
      "source": [
        "### Simple regret minimization: run number = 3\n",
        "\n",
        "approx_output_3 = np.append(np.min(-approx_3.GP.y[0:n_init]),-approx_3.GP.y[n_init:(n_init+iters)]) \n",
        "exact_output_3 = np.append(np.min(-exact_3.GP.y[0:n_init]),-exact_3.GP.y[n_init:(n_init+iters)]) \n",
        "\n",
        "regret_approx_3 = np.log(approx_output_3 - y_global_orig)\n",
        "regret_exact_3 = np.log(exact_output_3 - y_global_orig)\n",
        "\n",
        "simple_regret_approx_3 = min_max_array(regret_approx_3)\n",
        "simple_regret_exact_3 = min_max_array(regret_exact_3)\n",
        "\n",
        "min_simple_regret_approx_3 = min(simple_regret_approx_3)\n",
        "min_simple_regret_exact_3 = min(simple_regret_exact_3)\n",
        "\n",
        "min_simple_regret_approx_3, min_simple_regret_exact_3"
      ]
    },
    {
      "cell_type": "code",
      "execution_count": 58,
      "metadata": {
        "id": "AZm0jgxkQxfm",
        "colab": {
          "base_uri": "https://localhost:8080/"
        },
        "outputId": "94cf0160-4da3-43c7-a2a1-7e37e784dd3d"
      },
      "outputs": [
        {
          "output_type": "execute_result",
          "data": {
            "text/plain": [
              "(1.345729016312703, -0.11312930899764818)"
            ]
          },
          "metadata": {},
          "execution_count": 58
        }
      ],
      "source": [
        "### Simple regret minimization: run number = 4\n",
        "\n",
        "approx_output_4 = np.append(np.min(-approx_4.GP.y[0:n_init]),-approx_4.GP.y[n_init:(n_init+iters)]) \n",
        "exact_output_4 = np.append(np.min(-exact_4.GP.y[0:n_init]),-exact_4.GP.y[n_init:(n_init+iters)]) \n",
        "\n",
        "regret_approx_4 = np.log(approx_output_4 - y_global_orig)\n",
        "regret_exact_4 = np.log(exact_output_4 - y_global_orig)\n",
        "\n",
        "simple_regret_approx_4 = min_max_array(regret_approx_4)\n",
        "simple_regret_exact_4 = min_max_array(regret_exact_4)\n",
        "\n",
        "min_simple_regret_approx_4 = min(simple_regret_approx_4)\n",
        "min_simple_regret_exact_4 = min(simple_regret_exact_4)\n",
        "\n",
        "min_simple_regret_approx_4, min_simple_regret_exact_4"
      ]
    },
    {
      "cell_type": "code",
      "execution_count": 59,
      "metadata": {
        "id": "NONPm8JIQxfn",
        "colab": {
          "base_uri": "https://localhost:8080/"
        },
        "outputId": "8a492acd-a314-454d-c7a8-49acd44bafdd"
      },
      "outputs": [
        {
          "output_type": "execute_result",
          "data": {
            "text/plain": [
              "(-1.1666865916873388, -1.1666865916873388)"
            ]
          },
          "metadata": {},
          "execution_count": 59
        }
      ],
      "source": [
        "### Simple regret minimization: run number = 5\n",
        "\n",
        "approx_output_5 = np.append(np.min(-approx_5.GP.y[0:n_init]),-approx_5.GP.y[n_init:(n_init+iters)]) \n",
        "exact_output_5 = np.append(np.min(-exact_5.GP.y[0:n_init]),-exact_5.GP.y[n_init:(n_init+iters)]) \n",
        "\n",
        "regret_approx_5 = np.log(approx_output_5 - y_global_orig)\n",
        "regret_exact_5 = np.log(exact_output_5 - y_global_orig)\n",
        "\n",
        "simple_regret_approx_5 = min_max_array(regret_approx_5)\n",
        "simple_regret_exact_5 = min_max_array(regret_exact_5)\n",
        "\n",
        "min_simple_regret_approx_5 = min(simple_regret_approx_5)\n",
        "min_simple_regret_exact_5 = min(simple_regret_exact_5)\n",
        "\n",
        "min_simple_regret_approx_5, min_simple_regret_exact_5"
      ]
    },
    {
      "cell_type": "code",
      "execution_count": 60,
      "metadata": {
        "id": "CJv3lPuSQxfp",
        "colab": {
          "base_uri": "https://localhost:8080/"
        },
        "outputId": "738a15de-def7-47ba-9e11-38c5fe96f325"
      },
      "outputs": [
        {
          "output_type": "execute_result",
          "data": {
            "text/plain": [
              "(0.05568367538912315, 0.029530109165414126)"
            ]
          },
          "metadata": {},
          "execution_count": 60
        }
      ],
      "source": [
        "### Simple regret minimization: run number = 6\n",
        "\n",
        "approx_output_6 = np.append(np.min(-approx_6.GP.y[0:n_init]),-approx_6.GP.y[n_init:(n_init+iters)]) \n",
        "exact_output_6 = np.append(np.min(-exact_6.GP.y[0:n_init]),-exact_6.GP.y[n_init:(n_init+iters)]) \n",
        "\n",
        "regret_approx_6 = np.log(approx_output_6 - y_global_orig)\n",
        "regret_exact_6 = np.log(exact_output_6 - y_global_orig)\n",
        "\n",
        "simple_regret_approx_6 = min_max_array(regret_approx_6)\n",
        "simple_regret_exact_6 = min_max_array(regret_exact_6)\n",
        "\n",
        "min_simple_regret_approx_6 = min(simple_regret_approx_6)\n",
        "min_simple_regret_exact_6 = min(simple_regret_exact_6)\n",
        "\n",
        "min_simple_regret_approx_6, min_simple_regret_exact_6"
      ]
    },
    {
      "cell_type": "code",
      "execution_count": 61,
      "metadata": {
        "id": "quR2ZyApQxfq",
        "colab": {
          "base_uri": "https://localhost:8080/"
        },
        "outputId": "07f9da5d-a4ca-4764-cc08-70ac8447a4c2"
      },
      "outputs": [
        {
          "output_type": "execute_result",
          "data": {
            "text/plain": [
              "(-0.4350894513093485, 1.087784678899565)"
            ]
          },
          "metadata": {},
          "execution_count": 61
        }
      ],
      "source": [
        "### Simple regret minimization: run number = 7\n",
        "\n",
        "approx_output_7 = np.append(np.min(-approx_7.GP.y[0:n_init]),-approx_7.GP.y[n_init:(n_init+iters)]) \n",
        "exact_output_7 = np.append(np.min(-exact_7.GP.y[0:n_init]),-exact_7.GP.y[n_init:(n_init+iters)]) \n",
        "\n",
        "regret_approx_7 = np.log(approx_output_7 - y_global_orig)\n",
        "regret_exact_7 = np.log(exact_output_7 - y_global_orig)\n",
        "\n",
        "simple_regret_approx_7 = min_max_array(regret_approx_7)\n",
        "simple_regret_exact_7 = min_max_array(regret_exact_7)\n",
        "\n",
        "min_simple_regret_approx_7 = min(simple_regret_approx_7)\n",
        "min_simple_regret_exact_7 = min(simple_regret_exact_7)\n",
        "\n",
        "min_simple_regret_approx_7, min_simple_regret_exact_7"
      ]
    },
    {
      "cell_type": "code",
      "execution_count": 62,
      "metadata": {
        "id": "99wY5nK6Qxfr",
        "colab": {
          "base_uri": "https://localhost:8080/"
        },
        "outputId": "18c8ad24-7cb1-413b-fd57-64b8e8be5218"
      },
      "outputs": [
        {
          "output_type": "execute_result",
          "data": {
            "text/plain": [
              "(0.56220991820675, -0.11698480179082285)"
            ]
          },
          "metadata": {},
          "execution_count": 62
        }
      ],
      "source": [
        "### Simple regret minimization: run number = 8\n",
        "\n",
        "approx_output_8 = np.append(np.min(-approx_8.GP.y[0:n_init]),-approx_8.GP.y[n_init:(n_init+iters)]) \n",
        "exact_output_8 = np.append(np.min(-exact_8.GP.y[0:n_init]),-exact_8.GP.y[n_init:(n_init+iters)]) \n",
        "\n",
        "regret_approx_8 = np.log(approx_output_8 - y_global_orig)\n",
        "regret_exact_8 = np.log(exact_output_8 - y_global_orig)\n",
        "\n",
        "simple_regret_approx_8 = min_max_array(regret_approx_8)\n",
        "simple_regret_exact_8 = min_max_array(regret_exact_8)\n",
        "\n",
        "min_simple_regret_approx_8 = min(simple_regret_approx_8)\n",
        "min_simple_regret_exact_8 = min(simple_regret_exact_8)\n",
        "\n",
        "min_simple_regret_approx_8, min_simple_regret_exact_8"
      ]
    },
    {
      "cell_type": "code",
      "execution_count": 63,
      "metadata": {
        "id": "qt0P5t9qQxfs",
        "colab": {
          "base_uri": "https://localhost:8080/"
        },
        "outputId": "f8f22bed-0259-48b4-ff54-b3ebcebf64bd"
      },
      "outputs": [
        {
          "output_type": "execute_result",
          "data": {
            "text/plain": [
              "(0.6449785109007532, 0.17446328814457754)"
            ]
          },
          "metadata": {},
          "execution_count": 63
        }
      ],
      "source": [
        "### Simple regret minimization: run number = 9\n",
        "\n",
        "approx_output_9 = np.append(np.min(-approx_9.GP.y[0:n_init]),-approx_9.GP.y[n_init:(n_init+iters)]) \n",
        "exact_output_9 = np.append(np.min(-exact_9.GP.y[0:n_init]),-exact_9.GP.y[n_init:(n_init+iters)]) \n",
        "\n",
        "regret_approx_9 = np.log(approx_output_9 - y_global_orig)\n",
        "regret_exact_9 = np.log(exact_output_9 - y_global_orig)\n",
        "\n",
        "simple_regret_approx_9 = min_max_array(regret_approx_9)\n",
        "simple_regret_exact_9 = min_max_array(regret_exact_9)\n",
        "\n",
        "min_simple_regret_approx_9 = min(simple_regret_approx_9)\n",
        "min_simple_regret_exact_9 = min(simple_regret_exact_9)\n",
        "\n",
        "min_simple_regret_approx_9, min_simple_regret_exact_9"
      ]
    },
    {
      "cell_type": "code",
      "execution_count": 64,
      "metadata": {
        "id": "vx8to9stQxft",
        "colab": {
          "base_uri": "https://localhost:8080/"
        },
        "outputId": "abb0e7c7-20a1-469e-fa98-107221c3129a"
      },
      "outputs": [
        {
          "output_type": "execute_result",
          "data": {
            "text/plain": [
              "(0.8225981363176942, 0.7788799276933336)"
            ]
          },
          "metadata": {},
          "execution_count": 64
        }
      ],
      "source": [
        "### Simple regret minimization: run number = 10\n",
        "\n",
        "approx_output_10 = np.append(np.min(-approx_10.GP.y[0:n_init]),-approx_10.GP.y[n_init:(n_init+iters)]) \n",
        "exact_output_10 = np.append(np.min(-exact_10.GP.y[0:n_init]),-exact_10.GP.y[n_init:(n_init+iters)]) \n",
        "\n",
        "regret_approx_10 = np.log(approx_output_10 - y_global_orig)\n",
        "regret_exact_10 = np.log(exact_output_10 - y_global_orig)\n",
        "\n",
        "simple_regret_approx_10 = min_max_array(regret_approx_10)\n",
        "simple_regret_exact_10 = min_max_array(regret_exact_10)\n",
        "\n",
        "min_simple_regret_approx_10 = min(simple_regret_approx_10)\n",
        "min_simple_regret_exact_10 = min(simple_regret_exact_10)\n",
        "\n",
        "min_simple_regret_approx_10, min_simple_regret_exact_10"
      ]
    },
    {
      "cell_type": "code",
      "execution_count": 65,
      "metadata": {
        "id": "d-FGzWyHQxfu",
        "colab": {
          "base_uri": "https://localhost:8080/"
        },
        "outputId": "0e69a70e-2f4c-41d7-8402-a4f2fba33a2c"
      },
      "outputs": [
        {
          "output_type": "execute_result",
          "data": {
            "text/plain": [
              "(1.061508892077436, 0.49983346422312197)"
            ]
          },
          "metadata": {},
          "execution_count": 65
        }
      ],
      "source": [
        "### Simple regret minimization: run number = 11\n",
        "\n",
        "approx_output_11 = np.append(np.min(-approx_11.GP.y[0:n_init]),-approx_11.GP.y[n_init:(n_init+iters)]) \n",
        "exact_output_11 = np.append(np.min(-exact_11.GP.y[0:n_init]),-exact_11.GP.y[n_init:(n_init+iters)]) \n",
        "\n",
        "regret_approx_11 = np.log(approx_output_11 - y_global_orig)\n",
        "regret_exact_11 = np.log(exact_output_11 - y_global_orig)\n",
        "\n",
        "simple_regret_approx_11 = min_max_array(regret_approx_11)\n",
        "simple_regret_exact_11 = min_max_array(regret_exact_11)\n",
        "\n",
        "min_simple_regret_approx_11 = min(simple_regret_approx_11)\n",
        "min_simple_regret_exact_11 = min(simple_regret_exact_11)\n",
        "\n",
        "min_simple_regret_approx_11, min_simple_regret_exact_11"
      ]
    },
    {
      "cell_type": "code",
      "execution_count": 66,
      "metadata": {
        "id": "SvtsssyjQxfv",
        "colab": {
          "base_uri": "https://localhost:8080/"
        },
        "outputId": "fc2dd14e-f66b-4801-c6e4-f384d7508603"
      },
      "outputs": [
        {
          "output_type": "execute_result",
          "data": {
            "text/plain": [
              "(1.0188787028505597, -0.37730826976903575)"
            ]
          },
          "metadata": {},
          "execution_count": 66
        }
      ],
      "source": [
        "### Simple regret minimization: run number = 12\n",
        "\n",
        "approx_output_12 = np.append(np.min(-approx_12.GP.y[0:n_init]),-approx_12.GP.y[n_init:(n_init+iters)]) \n",
        "exact_output_12 = np.append(np.min(-exact_12.GP.y[0:n_init]),-exact_12.GP.y[n_init:(n_init+iters)]) \n",
        "\n",
        "regret_approx_12 = np.log(approx_output_12 - y_global_orig)\n",
        "regret_exact_12 = np.log(exact_output_12 - y_global_orig)\n",
        "\n",
        "simple_regret_approx_12 = min_max_array(regret_approx_12)\n",
        "simple_regret_exact_12 = min_max_array(regret_exact_12)\n",
        "\n",
        "min_simple_regret_approx_12 = min(simple_regret_approx_12)\n",
        "min_simple_regret_exact_12 = min(simple_regret_exact_12)\n",
        "\n",
        "min_simple_regret_approx_12, min_simple_regret_exact_12"
      ]
    },
    {
      "cell_type": "code",
      "execution_count": 67,
      "metadata": {
        "id": "K6OiGcHkQxfw",
        "colab": {
          "base_uri": "https://localhost:8080/"
        },
        "outputId": "58290343-5129-4d63-951f-e99960dd2966"
      },
      "outputs": [
        {
          "output_type": "execute_result",
          "data": {
            "text/plain": [
              "(1.3380738031984425, -2.0205664952952556)"
            ]
          },
          "metadata": {},
          "execution_count": 67
        }
      ],
      "source": [
        "### Simple regret minimization: run number = 13\n",
        "\n",
        "approx_output_13 = np.append(np.min(-approx_13.GP.y[0:n_init]),-approx_13.GP.y[n_init:(n_init+iters)]) \n",
        "exact_output_13 = np.append(np.min(-exact_13.GP.y[0:n_init]),-exact_13.GP.y[n_init:(n_init+iters)]) \n",
        "\n",
        "regret_approx_13 = np.log(approx_output_13 - y_global_orig)\n",
        "regret_exact_13 = np.log(exact_output_13 - y_global_orig)\n",
        "\n",
        "simple_regret_approx_13 = min_max_array(regret_approx_13)\n",
        "simple_regret_exact_13 = min_max_array(regret_exact_13)\n",
        "\n",
        "min_simple_regret_approx_13 = min(simple_regret_approx_13)\n",
        "min_simple_regret_exact_13 = min(simple_regret_exact_13)\n",
        "\n",
        "min_simple_regret_approx_13, min_simple_regret_exact_13"
      ]
    },
    {
      "cell_type": "code",
      "execution_count": 68,
      "metadata": {
        "id": "ogML73shQxfx",
        "colab": {
          "base_uri": "https://localhost:8080/"
        },
        "outputId": "c2161315-22cc-498e-8f56-60d1e178c804"
      },
      "outputs": [
        {
          "output_type": "execute_result",
          "data": {
            "text/plain": [
              "(2.2060328329577423, -0.6447751632466602)"
            ]
          },
          "metadata": {},
          "execution_count": 68
        }
      ],
      "source": [
        "### Simple regret minimization: run number = 14\n",
        "\n",
        "approx_output_14 = np.append(np.min(-approx_14.GP.y[0:n_init]),-approx_14.GP.y[n_init:(n_init+iters)]) \n",
        "exact_output_14 = np.append(np.min(-exact_14.GP.y[0:n_init]),-exact_14.GP.y[n_init:(n_init+iters)]) \n",
        "\n",
        "regret_approx_14 = np.log(approx_output_14 - y_global_orig)\n",
        "regret_exact_14 = np.log(exact_output_14 - y_global_orig)\n",
        "\n",
        "simple_regret_approx_14 = min_max_array(regret_approx_14)\n",
        "simple_regret_exact_14 = min_max_array(regret_exact_14)\n",
        "\n",
        "min_simple_regret_approx_14 = min(simple_regret_approx_14)\n",
        "min_simple_regret_exact_14 = min(simple_regret_exact_14)\n",
        "\n",
        "min_simple_regret_approx_14, min_simple_regret_exact_14"
      ]
    },
    {
      "cell_type": "code",
      "execution_count": 69,
      "metadata": {
        "id": "9Eg7gFT9Qxfx",
        "colab": {
          "base_uri": "https://localhost:8080/"
        },
        "outputId": "af5e8b4a-00b6-4731-8486-cad673873194"
      },
      "outputs": [
        {
          "output_type": "execute_result",
          "data": {
            "text/plain": [
              "(1.1279590557225496, -0.1823720575339497)"
            ]
          },
          "metadata": {},
          "execution_count": 69
        }
      ],
      "source": [
        "### Simple regret minimization: run number = 15\n",
        "\n",
        "approx_output_15 = np.append(np.min(-approx_15.GP.y[0:n_init]),-approx_15.GP.y[n_init:(n_init+iters)]) \n",
        "exact_output_15 = np.append(np.min(-exact_15.GP.y[0:n_init]),-exact_15.GP.y[n_init:(n_init+iters)]) \n",
        "\n",
        "regret_approx_15 = np.log(approx_output_15 - y_global_orig)\n",
        "regret_exact_15 = np.log(exact_output_15 - y_global_orig)\n",
        "\n",
        "simple_regret_approx_15 = min_max_array(regret_approx_15)\n",
        "simple_regret_exact_15 = min_max_array(regret_exact_15)\n",
        "\n",
        "min_simple_regret_approx_15 = min(simple_regret_approx_15)\n",
        "min_simple_regret_exact_15 = min(simple_regret_exact_15)\n",
        "\n",
        "min_simple_regret_approx_15, min_simple_regret_exact_15"
      ]
    },
    {
      "cell_type": "code",
      "execution_count": 70,
      "metadata": {
        "id": "lIAC1U7ZQxfy",
        "colab": {
          "base_uri": "https://localhost:8080/"
        },
        "outputId": "89c7f169-7e68-4582-e2ec-dd578405b313"
      },
      "outputs": [
        {
          "output_type": "execute_result",
          "data": {
            "text/plain": [
              "(0.7241326509895711, -2.0900267346506043)"
            ]
          },
          "metadata": {},
          "execution_count": 70
        }
      ],
      "source": [
        "### Simple regret minimization: run number = 16\n",
        "\n",
        "approx_output_16 = np.append(np.min(-approx_16.GP.y[0:n_init]),-approx_16.GP.y[n_init:(n_init+iters)]) \n",
        "exact_output_16 = np.append(np.min(-exact_16.GP.y[0:n_init]),-exact_16.GP.y[n_init:(n_init+iters)]) \n",
        "\n",
        "regret_approx_16 = np.log(approx_output_16 - y_global_orig)\n",
        "regret_exact_16 = np.log(exact_output_16 - y_global_orig)\n",
        "\n",
        "simple_regret_approx_16 = min_max_array(regret_approx_16)\n",
        "simple_regret_exact_16 = min_max_array(regret_exact_16)\n",
        "\n",
        "min_simple_regret_approx_16 = min(simple_regret_approx_16)\n",
        "min_simple_regret_exact_16 = min(simple_regret_exact_16)\n",
        "\n",
        "min_simple_regret_approx_16, min_simple_regret_exact_16"
      ]
    },
    {
      "cell_type": "code",
      "execution_count": 71,
      "metadata": {
        "id": "bGott36OQxfz",
        "colab": {
          "base_uri": "https://localhost:8080/"
        },
        "outputId": "75aef960-d935-4373-ccca-b9f62bc76f59"
      },
      "outputs": [
        {
          "output_type": "execute_result",
          "data": {
            "text/plain": [
              "(-1.5129189082561658, -2.846435434062347)"
            ]
          },
          "metadata": {},
          "execution_count": 71
        }
      ],
      "source": [
        "### Simple regret minimization: run number = 17\n",
        "\n",
        "approx_output_17 = np.append(np.min(-approx_17.GP.y[0:n_init]),-approx_17.GP.y[n_init:(n_init+iters)]) \n",
        "exact_output_17 = np.append(np.min(-exact_17.GP.y[0:n_init]),-exact_17.GP.y[n_init:(n_init+iters)]) \n",
        "\n",
        "regret_approx_17 = np.log(approx_output_17 - y_global_orig)\n",
        "regret_exact_17 = np.log(exact_output_17 - y_global_orig)\n",
        "\n",
        "simple_regret_approx_17 = min_max_array(regret_approx_17)\n",
        "simple_regret_exact_17 = min_max_array(regret_exact_17)\n",
        "\n",
        "min_simple_regret_approx_17 = min(simple_regret_approx_17)\n",
        "min_simple_regret_exact_17 = min(simple_regret_exact_17)\n",
        "\n",
        "min_simple_regret_approx_17, min_simple_regret_exact_17"
      ]
    },
    {
      "cell_type": "code",
      "execution_count": 72,
      "metadata": {
        "id": "Cz9ZYMBMQxfz",
        "colab": {
          "base_uri": "https://localhost:8080/"
        },
        "outputId": "53aef061-b0eb-451e-c576-740a07f89623"
      },
      "outputs": [
        {
          "output_type": "execute_result",
          "data": {
            "text/plain": [
              "(0.9052915200747084, 0.9052915200747084)"
            ]
          },
          "metadata": {},
          "execution_count": 72
        }
      ],
      "source": [
        "### Simple regret minimization: run number = 18\n",
        "\n",
        "approx_output_18 = np.append(np.min(-approx_18.GP.y[0:n_init]),-approx_18.GP.y[n_init:(n_init+iters)]) \n",
        "exact_output_18 = np.append(np.min(-exact_18.GP.y[0:n_init]),-exact_18.GP.y[n_init:(n_init+iters)]) \n",
        "\n",
        "regret_approx_18 = np.log(approx_output_18 - y_global_orig)\n",
        "regret_exact_18 = np.log(exact_output_18 - y_global_orig)\n",
        "\n",
        "simple_regret_approx_18 = min_max_array(regret_approx_18)\n",
        "simple_regret_exact_18 = min_max_array(regret_exact_18)\n",
        "\n",
        "min_simple_regret_approx_18 = min(simple_regret_approx_18)\n",
        "min_simple_regret_exact_18 = min(simple_regret_exact_18)\n",
        "\n",
        "min_simple_regret_approx_18, min_simple_regret_exact_18"
      ]
    },
    {
      "cell_type": "code",
      "execution_count": 73,
      "metadata": {
        "id": "OBfpWOHNQxf0",
        "colab": {
          "base_uri": "https://localhost:8080/"
        },
        "outputId": "1ffb15d0-ff51-4685-c384-751b98c03cfb"
      },
      "outputs": [
        {
          "output_type": "execute_result",
          "data": {
            "text/plain": [
              "(0.9055298256271908, -3.4055694512807055)"
            ]
          },
          "metadata": {},
          "execution_count": 73
        }
      ],
      "source": [
        "### Simple regret minimization: run number = 19\n",
        "\n",
        "approx_output_19 = np.append(np.min(-approx_19.GP.y[0:n_init]),-approx_19.GP.y[n_init:(n_init+iters)]) \n",
        "exact_output_19 = np.append(np.min(-exact_19.GP.y[0:n_init]),-exact_19.GP.y[n_init:(n_init+iters)]) \n",
        "\n",
        "regret_approx_19 = np.log(approx_output_19 - y_global_orig)\n",
        "regret_exact_19 = np.log(exact_output_19 - y_global_orig)\n",
        "\n",
        "simple_regret_approx_19 = min_max_array(regret_approx_19)\n",
        "simple_regret_exact_19 = min_max_array(regret_exact_19)\n",
        "\n",
        "min_simple_regret_approx_19 = min(simple_regret_approx_19)\n",
        "min_simple_regret_exact_19 = min(simple_regret_exact_19)\n",
        "\n",
        "min_simple_regret_approx_19, min_simple_regret_exact_19"
      ]
    },
    {
      "cell_type": "code",
      "execution_count": 74,
      "metadata": {
        "id": "BE1AJ7NsQxf0",
        "colab": {
          "base_uri": "https://localhost:8080/"
        },
        "outputId": "0d8c4a53-a21b-4a0e-ec4d-0a3d4731538a"
      },
      "outputs": [
        {
          "output_type": "execute_result",
          "data": {
            "text/plain": [
              "(2.91453305268043, 0.2191618733463389)"
            ]
          },
          "metadata": {},
          "execution_count": 74
        }
      ],
      "source": [
        "### Simple regret minimization: run number = 20\n",
        "\n",
        "approx_output_20 = np.append(np.min(-approx_20.GP.y[0:n_init]),-approx_20.GP.y[n_init:(n_init+iters)]) \n",
        "exact_output_20 = np.append(np.min(-exact_20.GP.y[0:n_init]),-exact_20.GP.y[n_init:(n_init+iters)]) \n",
        "\n",
        "regret_approx_20 = np.log(approx_output_20 - y_global_orig)\n",
        "regret_exact_20 = np.log(exact_output_20 - y_global_orig)\n",
        "\n",
        "simple_regret_approx_20 = min_max_array(regret_approx_20)\n",
        "simple_regret_exact_20 = min_max_array(regret_exact_20)\n",
        "\n",
        "min_simple_regret_approx_20 = min(simple_regret_approx_20)\n",
        "min_simple_regret_exact_20 = min(simple_regret_exact_20)\n",
        "\n",
        "min_simple_regret_approx_20, min_simple_regret_exact_20"
      ]
    },
    {
      "cell_type": "code",
      "execution_count": 75,
      "metadata": {
        "id": "bpX-bKAHQxf1"
      },
      "outputs": [],
      "source": [
        "# Iteration1 :\n",
        "\n",
        "slice1 = 0\n",
        "\n",
        "approx1 = [simple_regret_approx_1[slice1],\n",
        "       simple_regret_approx_2[slice1],\n",
        "       simple_regret_approx_3[slice1],\n",
        "       simple_regret_approx_4[slice1],\n",
        "       simple_regret_approx_5[slice1],\n",
        "       simple_regret_approx_6[slice1],\n",
        "       simple_regret_approx_7[slice1],\n",
        "       simple_regret_approx_8[slice1],\n",
        "       simple_regret_approx_9[slice1],\n",
        "       simple_regret_approx_10[slice1],\n",
        "       simple_regret_approx_11[slice1],\n",
        "       simple_regret_approx_12[slice1],\n",
        "       simple_regret_approx_13[slice1],\n",
        "       simple_regret_approx_14[slice1],\n",
        "       simple_regret_approx_15[slice1],\n",
        "       simple_regret_approx_16[slice1],\n",
        "       simple_regret_approx_17[slice1],\n",
        "       simple_regret_approx_18[slice1],\n",
        "       simple_regret_approx_19[slice1],\n",
        "       simple_regret_approx_20[slice1]]\n",
        "\n",
        "exact1 = [simple_regret_exact_1[slice1],\n",
        "       simple_regret_exact_2[slice1],\n",
        "       simple_regret_exact_3[slice1],\n",
        "       simple_regret_exact_4[slice1],\n",
        "       simple_regret_exact_5[slice1],\n",
        "       simple_regret_exact_6[slice1],\n",
        "       simple_regret_exact_7[slice1],\n",
        "       simple_regret_exact_8[slice1],\n",
        "       simple_regret_exact_9[slice1],\n",
        "       simple_regret_exact_10[slice1],\n",
        "       simple_regret_exact_11[slice1],\n",
        "       simple_regret_exact_12[slice1],\n",
        "       simple_regret_exact_13[slice1],\n",
        "       simple_regret_exact_14[slice1],\n",
        "       simple_regret_exact_15[slice1],\n",
        "       simple_regret_exact_16[slice1],\n",
        "       simple_regret_exact_17[slice1],\n",
        "       simple_regret_exact_18[slice1],\n",
        "       simple_regret_exact_19[slice1],\n",
        "       simple_regret_exact_20[slice1]]\n",
        "\n",
        "approx1_results = pd.DataFrame(approx1).sort_values(by=[0], ascending=False)\n",
        "exact1_results = pd.DataFrame(exact1).sort_values(by=[0], ascending=False)\n",
        "\n",
        "### Best simple regret minimization IQR - approx:\n",
        "lower_approx1 = np.asarray(approx1_results[4:5][0])[0]\n",
        "median_approx1 = np.asarray(approx1_results[9:10][0])[0]\n",
        "upper_approx1 = np.asarray(approx1_results[14:15][0])[0]\n",
        "\n",
        "lower_exact1 = np.asarray(exact1_results[4:5][0])[0]\n",
        "median_exact1 = np.asarray(exact1_results[9:10][0])[0]\n",
        "upper_exact1 = np.asarray(exact1_results[14:15][0])[0]"
      ]
    },
    {
      "cell_type": "code",
      "execution_count": 76,
      "metadata": {
        "id": "CgIkJA1xQxf2"
      },
      "outputs": [],
      "source": [
        "# Iteration11 :\n",
        "\n",
        "slice11 = 10\n",
        "\n",
        "approx11 = [simple_regret_approx_1[slice11],\n",
        "       simple_regret_approx_2[slice11],\n",
        "       simple_regret_approx_3[slice11],\n",
        "       simple_regret_approx_4[slice11],\n",
        "       simple_regret_approx_5[slice11],\n",
        "       simple_regret_approx_6[slice11],\n",
        "       simple_regret_approx_7[slice11],\n",
        "       simple_regret_approx_8[slice11],\n",
        "       simple_regret_approx_9[slice11],\n",
        "       simple_regret_approx_10[slice11],\n",
        "       simple_regret_approx_11[slice11],\n",
        "       simple_regret_approx_12[slice11],\n",
        "       simple_regret_approx_13[slice11],\n",
        "       simple_regret_approx_14[slice11],\n",
        "       simple_regret_approx_15[slice11],\n",
        "       simple_regret_approx_16[slice11],\n",
        "       simple_regret_approx_17[slice11],\n",
        "       simple_regret_approx_18[slice11],\n",
        "       simple_regret_approx_19[slice11],\n",
        "       simple_regret_approx_20[slice11]]\n",
        "\n",
        "exact11 = [simple_regret_exact_1[slice11],\n",
        "       simple_regret_exact_2[slice11],\n",
        "       simple_regret_exact_3[slice11],\n",
        "       simple_regret_exact_4[slice11],\n",
        "       simple_regret_exact_5[slice11],\n",
        "       simple_regret_exact_6[slice11],\n",
        "       simple_regret_exact_7[slice11],\n",
        "       simple_regret_exact_8[slice11],\n",
        "       simple_regret_exact_9[slice11],\n",
        "       simple_regret_exact_10[slice11],\n",
        "       simple_regret_exact_11[slice11],\n",
        "       simple_regret_exact_12[slice11],\n",
        "       simple_regret_exact_13[slice11],\n",
        "       simple_regret_exact_14[slice11],\n",
        "       simple_regret_exact_15[slice11],\n",
        "       simple_regret_exact_16[slice11],\n",
        "       simple_regret_exact_17[slice11],\n",
        "       simple_regret_exact_18[slice11],\n",
        "       simple_regret_exact_19[slice11],\n",
        "       simple_regret_exact_20[slice11]]\n",
        "\n",
        "approx11_results = pd.DataFrame(approx11).sort_values(by=[0], ascending=False)\n",
        "exact11_results = pd.DataFrame(exact11).sort_values(by=[0], ascending=False)\n",
        "\n",
        "### Best simple regret minimization IQR - approx:\n",
        "lower_approx11 = np.asarray(approx11_results[4:5][0])[0]\n",
        "median_approx11 = np.asarray(approx11_results[9:10][0])[0]\n",
        "upper_approx11 = np.asarray(approx11_results[14:15][0])[0]\n",
        "\n",
        "lower_exact11 = np.asarray(exact11_results[4:5][0])[0]\n",
        "median_exact11 = np.asarray(exact11_results[9:10][0])[0]\n",
        "upper_exact11 = np.asarray(exact11_results[14:15][0])[0]"
      ]
    },
    {
      "cell_type": "code",
      "execution_count": 77,
      "metadata": {
        "id": "MFePDfGuQxf2"
      },
      "outputs": [],
      "source": [
        "# Iteration21 :\n",
        "\n",
        "slice21 = 20\n",
        "\n",
        "approx21 = [simple_regret_approx_1[slice21],\n",
        "       simple_regret_approx_2[slice21],\n",
        "       simple_regret_approx_3[slice21],\n",
        "       simple_regret_approx_4[slice21],\n",
        "       simple_regret_approx_5[slice21],\n",
        "       simple_regret_approx_6[slice21],\n",
        "       simple_regret_approx_7[slice21],\n",
        "       simple_regret_approx_8[slice21],\n",
        "       simple_regret_approx_9[slice21],\n",
        "       simple_regret_approx_10[slice21],\n",
        "       simple_regret_approx_11[slice21],\n",
        "       simple_regret_approx_12[slice21],\n",
        "       simple_regret_approx_13[slice21],\n",
        "       simple_regret_approx_14[slice21],\n",
        "       simple_regret_approx_15[slice21],\n",
        "       simple_regret_approx_16[slice21],\n",
        "       simple_regret_approx_17[slice21],\n",
        "       simple_regret_approx_18[slice21],\n",
        "       simple_regret_approx_19[slice21],\n",
        "       simple_regret_approx_20[slice21]]\n",
        "\n",
        "exact21 = [simple_regret_exact_1[slice21],\n",
        "       simple_regret_exact_2[slice21],\n",
        "       simple_regret_exact_3[slice21],\n",
        "       simple_regret_exact_4[slice21],\n",
        "       simple_regret_exact_5[slice21],\n",
        "       simple_regret_exact_6[slice21],\n",
        "       simple_regret_exact_7[slice21],\n",
        "       simple_regret_exact_8[slice21],\n",
        "       simple_regret_exact_9[slice21],\n",
        "       simple_regret_exact_10[slice21],\n",
        "       simple_regret_exact_11[slice21],\n",
        "       simple_regret_exact_12[slice21],\n",
        "       simple_regret_exact_13[slice21],\n",
        "       simple_regret_exact_14[slice21],\n",
        "       simple_regret_exact_15[slice21],\n",
        "       simple_regret_exact_16[slice21],\n",
        "       simple_regret_exact_17[slice21],\n",
        "       simple_regret_exact_18[slice21],\n",
        "       simple_regret_exact_19[slice21],\n",
        "       simple_regret_exact_20[slice21]]\n",
        "\n",
        "approx21_results = pd.DataFrame(approx21).sort_values(by=[0], ascending=False)\n",
        "exact21_results = pd.DataFrame(exact21).sort_values(by=[0], ascending=False)\n",
        "\n",
        "### Best simple regret minimization IQR - approx:\n",
        "lower_approx21 = np.asarray(approx21_results[4:5][0])[0]\n",
        "median_approx21 = np.asarray(approx21_results[9:10][0])[0]\n",
        "upper_approx21 = np.asarray(approx21_results[14:15][0])[0]\n",
        "\n",
        "lower_exact21 = np.asarray(exact21_results[4:5][0])[0]\n",
        "median_exact21 = np.asarray(exact21_results[9:10][0])[0]\n",
        "upper_exact21 = np.asarray(exact21_results[14:15][0])[0]"
      ]
    },
    {
      "cell_type": "code",
      "execution_count": 78,
      "metadata": {
        "id": "PrRDB1kfQxf3"
      },
      "outputs": [],
      "source": [
        "# Iteration2 :\n",
        "\n",
        "slice2 = 1\n",
        "\n",
        "approx2 = [simple_regret_approx_1[slice2],\n",
        "       simple_regret_approx_2[slice2],\n",
        "       simple_regret_approx_3[slice2],\n",
        "       simple_regret_approx_4[slice2],\n",
        "       simple_regret_approx_5[slice2],\n",
        "       simple_regret_approx_6[slice2],\n",
        "       simple_regret_approx_7[slice2],\n",
        "       simple_regret_approx_8[slice2],\n",
        "       simple_regret_approx_9[slice2],\n",
        "       simple_regret_approx_10[slice2],\n",
        "       simple_regret_approx_11[slice2],\n",
        "       simple_regret_approx_12[slice2],\n",
        "       simple_regret_approx_13[slice2],\n",
        "       simple_regret_approx_14[slice2],\n",
        "       simple_regret_approx_15[slice2],\n",
        "       simple_regret_approx_16[slice2],\n",
        "       simple_regret_approx_17[slice2],\n",
        "       simple_regret_approx_18[slice2],\n",
        "       simple_regret_approx_19[slice2],\n",
        "       simple_regret_approx_20[slice2]]\n",
        "\n",
        "exact2 = [simple_regret_exact_1[slice2],\n",
        "       simple_regret_exact_2[slice2],\n",
        "       simple_regret_exact_3[slice2],\n",
        "       simple_regret_exact_4[slice2],\n",
        "       simple_regret_exact_5[slice2],\n",
        "       simple_regret_exact_6[slice2],\n",
        "       simple_regret_exact_7[slice2],\n",
        "       simple_regret_exact_8[slice2],\n",
        "       simple_regret_exact_9[slice2],\n",
        "       simple_regret_exact_10[slice2],\n",
        "       simple_regret_exact_11[slice2],\n",
        "       simple_regret_exact_12[slice2],\n",
        "       simple_regret_exact_13[slice2],\n",
        "       simple_regret_exact_14[slice2],\n",
        "       simple_regret_exact_15[slice2],\n",
        "       simple_regret_exact_16[slice2],\n",
        "       simple_regret_exact_17[slice2],\n",
        "       simple_regret_exact_18[slice2],\n",
        "       simple_regret_exact_19[slice2],\n",
        "       simple_regret_exact_20[slice2]]\n",
        "\n",
        "approx2_results = pd.DataFrame(approx2).sort_values(by=[0], ascending=False)\n",
        "exact2_results = pd.DataFrame(exact2).sort_values(by=[0], ascending=False)\n",
        "\n",
        "### Best simple regret minimization IQR - approx:\n",
        "lower_approx2 = np.asarray(approx2_results[4:5][0])[0]\n",
        "median_approx2 = np.asarray(approx2_results[9:10][0])[0]\n",
        "upper_approx2 = np.asarray(approx2_results[14:15][0])[0]\n",
        "\n",
        "lower_exact2 = np.asarray(exact2_results[4:5][0])[0]\n",
        "median_exact2 = np.asarray(exact2_results[9:10][0])[0]\n",
        "upper_exact2 = np.asarray(exact2_results[14:15][0])[0]"
      ]
    },
    {
      "cell_type": "code",
      "execution_count": 79,
      "metadata": {
        "id": "B8ncJDYeQxf3"
      },
      "outputs": [],
      "source": [
        "# Iteration12 :\n",
        "\n",
        "slice12 = 11\n",
        "\n",
        "approx12 = [simple_regret_approx_1[slice12],\n",
        "       simple_regret_approx_2[slice12],\n",
        "       simple_regret_approx_3[slice12],\n",
        "       simple_regret_approx_4[slice12],\n",
        "       simple_regret_approx_5[slice12],\n",
        "       simple_regret_approx_6[slice12],\n",
        "       simple_regret_approx_7[slice12],\n",
        "       simple_regret_approx_8[slice12],\n",
        "       simple_regret_approx_9[slice12],\n",
        "       simple_regret_approx_10[slice12],\n",
        "       simple_regret_approx_11[slice12],\n",
        "       simple_regret_approx_12[slice12],\n",
        "       simple_regret_approx_13[slice12],\n",
        "       simple_regret_approx_14[slice12],\n",
        "       simple_regret_approx_15[slice12],\n",
        "       simple_regret_approx_16[slice12],\n",
        "       simple_regret_approx_17[slice12],\n",
        "       simple_regret_approx_18[slice12],\n",
        "       simple_regret_approx_19[slice12],\n",
        "       simple_regret_approx_20[slice12]]\n",
        "\n",
        "exact12 = [simple_regret_exact_1[slice12],\n",
        "       simple_regret_exact_2[slice12],\n",
        "       simple_regret_exact_3[slice12],\n",
        "       simple_regret_exact_4[slice12],\n",
        "       simple_regret_exact_5[slice12],\n",
        "       simple_regret_exact_6[slice12],\n",
        "       simple_regret_exact_7[slice12],\n",
        "       simple_regret_exact_8[slice12],\n",
        "       simple_regret_exact_9[slice12],\n",
        "       simple_regret_exact_10[slice12],\n",
        "       simple_regret_exact_11[slice12],\n",
        "       simple_regret_exact_12[slice12],\n",
        "       simple_regret_exact_13[slice12],\n",
        "       simple_regret_exact_14[slice12],\n",
        "       simple_regret_exact_15[slice12],\n",
        "       simple_regret_exact_16[slice12],\n",
        "       simple_regret_exact_17[slice12],\n",
        "       simple_regret_exact_18[slice12],\n",
        "       simple_regret_exact_19[slice12],\n",
        "       simple_regret_exact_20[slice12]]\n",
        "\n",
        "approx12_results = pd.DataFrame(approx12).sort_values(by=[0], ascending=False)\n",
        "exact12_results = pd.DataFrame(exact12).sort_values(by=[0], ascending=False)\n",
        "\n",
        "### Best simple regret minimization IQR - approx:\n",
        "lower_approx12 = np.asarray(approx12_results[4:5][0])[0]\n",
        "median_approx12 = np.asarray(approx12_results[9:10][0])[0]\n",
        "upper_approx12 = np.asarray(approx12_results[14:15][0])[0]\n",
        "\n",
        "lower_exact12 = np.asarray(exact12_results[4:5][0])[0]\n",
        "median_exact12 = np.asarray(exact12_results[9:10][0])[0]\n",
        "upper_exact12 = np.asarray(exact12_results[14:15][0])[0]"
      ]
    },
    {
      "cell_type": "code",
      "execution_count": 80,
      "metadata": {
        "id": "Jn4KpGvcQxf4"
      },
      "outputs": [],
      "source": [
        "# Iteration3 :\n",
        "\n",
        "slice3 = 2\n",
        "\n",
        "approx3 = [simple_regret_approx_1[slice3],\n",
        "       simple_regret_approx_2[slice3],\n",
        "       simple_regret_approx_3[slice3],\n",
        "       simple_regret_approx_4[slice3],\n",
        "       simple_regret_approx_5[slice3],\n",
        "       simple_regret_approx_6[slice3],\n",
        "       simple_regret_approx_7[slice3],\n",
        "       simple_regret_approx_8[slice3],\n",
        "       simple_regret_approx_9[slice3],\n",
        "       simple_regret_approx_10[slice3],\n",
        "       simple_regret_approx_11[slice3],\n",
        "       simple_regret_approx_12[slice3],\n",
        "       simple_regret_approx_13[slice3],\n",
        "       simple_regret_approx_14[slice3],\n",
        "       simple_regret_approx_15[slice3],\n",
        "       simple_regret_approx_16[slice3],\n",
        "       simple_regret_approx_17[slice3],\n",
        "       simple_regret_approx_18[slice3],\n",
        "       simple_regret_approx_19[slice3],\n",
        "       simple_regret_approx_20[slice3]]\n",
        "\n",
        "exact3 = [simple_regret_exact_1[slice3],\n",
        "       simple_regret_exact_2[slice3],\n",
        "       simple_regret_exact_3[slice3],\n",
        "       simple_regret_exact_4[slice3],\n",
        "       simple_regret_exact_5[slice3],\n",
        "       simple_regret_exact_6[slice3],\n",
        "       simple_regret_exact_7[slice3],\n",
        "       simple_regret_exact_8[slice3],\n",
        "       simple_regret_exact_9[slice3],\n",
        "       simple_regret_exact_10[slice3],\n",
        "       simple_regret_exact_11[slice3],\n",
        "       simple_regret_exact_12[slice3],\n",
        "       simple_regret_exact_13[slice3],\n",
        "       simple_regret_exact_14[slice3],\n",
        "       simple_regret_exact_15[slice3],\n",
        "       simple_regret_exact_16[slice3],\n",
        "       simple_regret_exact_17[slice3],\n",
        "       simple_regret_exact_18[slice3],\n",
        "       simple_regret_exact_19[slice3],\n",
        "       simple_regret_exact_20[slice3]]\n",
        "\n",
        "approx3_results = pd.DataFrame(approx3).sort_values(by=[0], ascending=False)\n",
        "exact3_results = pd.DataFrame(exact3).sort_values(by=[0], ascending=False)\n",
        "\n",
        "### Best simple regret minimization IQR - approx:\n",
        "lower_approx3 = np.asarray(approx3_results[4:5][0])[0]\n",
        "median_approx3 = np.asarray(approx3_results[9:10][0])[0]\n",
        "upper_approx3 = np.asarray(approx3_results[14:15][0])[0]\n",
        "\n",
        "lower_exact3 = np.asarray(exact3_results[4:5][0])[0]\n",
        "median_exact3 = np.asarray(exact3_results[9:10][0])[0]\n",
        "upper_exact3 = np.asarray(exact3_results[14:15][0])[0]"
      ]
    },
    {
      "cell_type": "code",
      "execution_count": 81,
      "metadata": {
        "id": "plf83wxrQxf4"
      },
      "outputs": [],
      "source": [
        "# Iteration13 :\n",
        "\n",
        "slice13 = 12\n",
        "\n",
        "approx13 = [simple_regret_approx_1[slice13],\n",
        "       simple_regret_approx_2[slice13],\n",
        "       simple_regret_approx_3[slice13],\n",
        "       simple_regret_approx_4[slice13],\n",
        "       simple_regret_approx_5[slice13],\n",
        "       simple_regret_approx_6[slice13],\n",
        "       simple_regret_approx_7[slice13],\n",
        "       simple_regret_approx_8[slice13],\n",
        "       simple_regret_approx_9[slice13],\n",
        "       simple_regret_approx_10[slice13],\n",
        "       simple_regret_approx_11[slice13],\n",
        "       simple_regret_approx_12[slice13],\n",
        "       simple_regret_approx_13[slice13],\n",
        "       simple_regret_approx_14[slice13],\n",
        "       simple_regret_approx_15[slice13],\n",
        "       simple_regret_approx_16[slice13],\n",
        "       simple_regret_approx_17[slice13],\n",
        "       simple_regret_approx_18[slice13],\n",
        "       simple_regret_approx_19[slice13],\n",
        "       simple_regret_approx_20[slice13]]\n",
        "\n",
        "exact13 = [simple_regret_exact_1[slice13],\n",
        "       simple_regret_exact_2[slice13],\n",
        "       simple_regret_exact_3[slice13],\n",
        "       simple_regret_exact_4[slice13],\n",
        "       simple_regret_exact_5[slice13],\n",
        "       simple_regret_exact_6[slice13],\n",
        "       simple_regret_exact_7[slice13],\n",
        "       simple_regret_exact_8[slice13],\n",
        "       simple_regret_exact_9[slice13],\n",
        "       simple_regret_exact_10[slice13],\n",
        "       simple_regret_exact_11[slice13],\n",
        "       simple_regret_exact_12[slice13],\n",
        "       simple_regret_exact_13[slice13],\n",
        "       simple_regret_exact_14[slice13],\n",
        "       simple_regret_exact_15[slice13],\n",
        "       simple_regret_exact_16[slice13],\n",
        "       simple_regret_exact_17[slice13],\n",
        "       simple_regret_exact_18[slice13],\n",
        "       simple_regret_exact_19[slice13],\n",
        "       simple_regret_exact_20[slice13]]\n",
        "\n",
        "approx13_results = pd.DataFrame(approx13).sort_values(by=[0], ascending=False)\n",
        "exact13_results = pd.DataFrame(exact13).sort_values(by=[0], ascending=False)\n",
        "\n",
        "### Best simple regret minimization IQR - approx:\n",
        "lower_approx13 = np.asarray(approx13_results[4:5][0])[0]\n",
        "median_approx13 = np.asarray(approx13_results[9:10][0])[0]\n",
        "upper_approx13 = np.asarray(approx13_results[14:15][0])[0]\n",
        "\n",
        "lower_exact13 = np.asarray(exact13_results[4:5][0])[0]\n",
        "median_exact13 = np.asarray(exact13_results[9:10][0])[0]\n",
        "upper_exact13 = np.asarray(exact13_results[14:15][0])[0]"
      ]
    },
    {
      "cell_type": "code",
      "execution_count": 82,
      "metadata": {
        "id": "9A7mlVvJQxf5"
      },
      "outputs": [],
      "source": [
        "# Iteration4 :\n",
        "\n",
        "slice4 = 3\n",
        "\n",
        "approx4 = [simple_regret_approx_1[slice4],\n",
        "       simple_regret_approx_2[slice4],\n",
        "       simple_regret_approx_3[slice4],\n",
        "       simple_regret_approx_4[slice4],\n",
        "       simple_regret_approx_5[slice4],\n",
        "       simple_regret_approx_6[slice4],\n",
        "       simple_regret_approx_7[slice4],\n",
        "       simple_regret_approx_8[slice4],\n",
        "       simple_regret_approx_9[slice4],\n",
        "       simple_regret_approx_10[slice4],\n",
        "       simple_regret_approx_11[slice4],\n",
        "       simple_regret_approx_12[slice4],\n",
        "       simple_regret_approx_13[slice4],\n",
        "       simple_regret_approx_14[slice4],\n",
        "       simple_regret_approx_15[slice4],\n",
        "       simple_regret_approx_16[slice4],\n",
        "       simple_regret_approx_17[slice4],\n",
        "       simple_regret_approx_18[slice4],\n",
        "       simple_regret_approx_19[slice4],\n",
        "       simple_regret_approx_20[slice4]]\n",
        "\n",
        "exact4 = [simple_regret_exact_1[slice4],\n",
        "       simple_regret_exact_2[slice4],\n",
        "       simple_regret_exact_3[slice4],\n",
        "       simple_regret_exact_4[slice4],\n",
        "       simple_regret_exact_5[slice4],\n",
        "       simple_regret_exact_6[slice4],\n",
        "       simple_regret_exact_7[slice4],\n",
        "       simple_regret_exact_8[slice4],\n",
        "       simple_regret_exact_9[slice4],\n",
        "       simple_regret_exact_10[slice4],\n",
        "       simple_regret_exact_11[slice4],\n",
        "       simple_regret_exact_12[slice4],\n",
        "       simple_regret_exact_13[slice4],\n",
        "       simple_regret_exact_14[slice4],\n",
        "       simple_regret_exact_15[slice4],\n",
        "       simple_regret_exact_16[slice4],\n",
        "       simple_regret_exact_17[slice4],\n",
        "       simple_regret_exact_18[slice4],\n",
        "       simple_regret_exact_19[slice4],\n",
        "       simple_regret_exact_20[slice4]]\n",
        "\n",
        "approx4_results = pd.DataFrame(approx4).sort_values(by=[0], ascending=False)\n",
        "exact4_results = pd.DataFrame(exact4).sort_values(by=[0], ascending=False)\n",
        "\n",
        "### Best simple regret minimization IQR - approx:\n",
        "lower_approx4 = np.asarray(approx4_results[4:5][0])[0]\n",
        "median_approx4 = np.asarray(approx4_results[9:10][0])[0]\n",
        "upper_approx4 = np.asarray(approx4_results[14:15][0])[0]\n",
        "\n",
        "lower_exact4 = np.asarray(exact4_results[4:5][0])[0]\n",
        "median_exact4 = np.asarray(exact4_results[9:10][0])[0]\n",
        "upper_exact4 = np.asarray(exact4_results[14:15][0])[0]"
      ]
    },
    {
      "cell_type": "code",
      "execution_count": 83,
      "metadata": {
        "id": "ijq-rioYQxf5"
      },
      "outputs": [],
      "source": [
        "# Iteration14 :\n",
        "\n",
        "slice14 = 13\n",
        "\n",
        "approx14 = [simple_regret_approx_1[slice14],\n",
        "       simple_regret_approx_2[slice14],\n",
        "       simple_regret_approx_3[slice14],\n",
        "       simple_regret_approx_4[slice14],\n",
        "       simple_regret_approx_5[slice14],\n",
        "       simple_regret_approx_6[slice14],\n",
        "       simple_regret_approx_7[slice14],\n",
        "       simple_regret_approx_8[slice14],\n",
        "       simple_regret_approx_9[slice14],\n",
        "       simple_regret_approx_10[slice14],\n",
        "       simple_regret_approx_11[slice14],\n",
        "       simple_regret_approx_12[slice14],\n",
        "       simple_regret_approx_13[slice14],\n",
        "       simple_regret_approx_14[slice14],\n",
        "       simple_regret_approx_15[slice14],\n",
        "       simple_regret_approx_16[slice14],\n",
        "       simple_regret_approx_17[slice14],\n",
        "       simple_regret_approx_18[slice14],\n",
        "       simple_regret_approx_19[slice14],\n",
        "       simple_regret_approx_20[slice14]]\n",
        "\n",
        "exact14 = [simple_regret_exact_1[slice14],\n",
        "       simple_regret_exact_2[slice14],\n",
        "       simple_regret_exact_3[slice14],\n",
        "       simple_regret_exact_4[slice14],\n",
        "       simple_regret_exact_5[slice14],\n",
        "       simple_regret_exact_6[slice14],\n",
        "       simple_regret_exact_7[slice14],\n",
        "       simple_regret_exact_8[slice14],\n",
        "       simple_regret_exact_9[slice14],\n",
        "       simple_regret_exact_10[slice14],\n",
        "       simple_regret_exact_11[slice14],\n",
        "       simple_regret_exact_12[slice14],\n",
        "       simple_regret_exact_13[slice14],\n",
        "       simple_regret_exact_14[slice14],\n",
        "       simple_regret_exact_15[slice14],\n",
        "       simple_regret_exact_16[slice14],\n",
        "       simple_regret_exact_17[slice14],\n",
        "       simple_regret_exact_18[slice14],\n",
        "       simple_regret_exact_19[slice14],\n",
        "       simple_regret_exact_20[slice14]]\n",
        "\n",
        "approx14_results = pd.DataFrame(approx14).sort_values(by=[0], ascending=False)\n",
        "exact14_results = pd.DataFrame(exact14).sort_values(by=[0], ascending=False)\n",
        "\n",
        "### Best simple regret minimization IQR - approx:\n",
        "lower_approx14 = np.asarray(approx14_results[4:5][0])[0]\n",
        "median_approx14 = np.asarray(approx14_results[9:10][0])[0]\n",
        "upper_approx14 = np.asarray(approx14_results[14:15][0])[0]\n",
        "\n",
        "lower_exact14 = np.asarray(exact14_results[4:5][0])[0]\n",
        "median_exact14 = np.asarray(exact14_results[9:10][0])[0]\n",
        "upper_exact14 = np.asarray(exact14_results[14:15][0])[0]"
      ]
    },
    {
      "cell_type": "code",
      "execution_count": 84,
      "metadata": {
        "id": "XINlZjoTd-ZK"
      },
      "outputs": [],
      "source": [
        "# Iteration5 :\n",
        "\n",
        "slice5 = 4\n",
        "\n",
        "approx5 = [simple_regret_approx_1[slice5],\n",
        "       simple_regret_approx_2[slice5],\n",
        "       simple_regret_approx_3[slice5],\n",
        "       simple_regret_approx_4[slice5],\n",
        "       simple_regret_approx_5[slice5],\n",
        "       simple_regret_approx_6[slice5],\n",
        "       simple_regret_approx_7[slice5],\n",
        "       simple_regret_approx_8[slice5],\n",
        "       simple_regret_approx_9[slice5],\n",
        "       simple_regret_approx_10[slice5],\n",
        "       simple_regret_approx_11[slice5],\n",
        "       simple_regret_approx_12[slice5],\n",
        "       simple_regret_approx_13[slice5],\n",
        "       simple_regret_approx_14[slice5],\n",
        "       simple_regret_approx_15[slice5],\n",
        "       simple_regret_approx_16[slice5],\n",
        "       simple_regret_approx_17[slice5],\n",
        "       simple_regret_approx_18[slice5],\n",
        "       simple_regret_approx_19[slice5],\n",
        "       simple_regret_approx_20[slice5]]\n",
        "\n",
        "exact5 = [simple_regret_exact_1[slice5],\n",
        "       simple_regret_exact_2[slice5],\n",
        "       simple_regret_exact_3[slice5],\n",
        "       simple_regret_exact_4[slice5],\n",
        "       simple_regret_exact_5[slice5],\n",
        "       simple_regret_exact_6[slice5],\n",
        "       simple_regret_exact_7[slice5],\n",
        "       simple_regret_exact_8[slice5],\n",
        "       simple_regret_exact_9[slice5],\n",
        "       simple_regret_exact_10[slice5],\n",
        "       simple_regret_exact_11[slice5],\n",
        "       simple_regret_exact_12[slice5],\n",
        "       simple_regret_exact_13[slice5],\n",
        "       simple_regret_exact_14[slice5],\n",
        "       simple_regret_exact_15[slice5],\n",
        "       simple_regret_exact_16[slice5],\n",
        "       simple_regret_exact_17[slice5],\n",
        "       simple_regret_exact_18[slice5],\n",
        "       simple_regret_exact_19[slice5],\n",
        "       simple_regret_exact_20[slice5]]\n",
        "\n",
        "approx5_results = pd.DataFrame(approx5).sort_values(by=[0], ascending=False)\n",
        "exact5_results = pd.DataFrame(exact5).sort_values(by=[0], ascending=False)\n",
        "\n",
        "### Best simple regret minimization IQR - approx:\n",
        "lower_approx5 = np.asarray(approx5_results[4:5][0])[0]\n",
        "median_approx5 = np.asarray(approx5_results[9:10][0])[0]\n",
        "upper_approx5 = np.asarray(approx5_results[14:15][0])[0]\n",
        "\n",
        "lower_exact5 = np.asarray(exact5_results[4:5][0])[0]\n",
        "median_exact5 = np.asarray(exact5_results[9:10][0])[0]\n",
        "upper_exact5 = np.asarray(exact5_results[14:15][0])[0]"
      ]
    },
    {
      "cell_type": "code",
      "execution_count": 85,
      "metadata": {
        "id": "4aZ7C8sOQxf6"
      },
      "outputs": [],
      "source": [
        "# Iteration15 :\n",
        "\n",
        "slice15 = 14\n",
        "\n",
        "approx15 = [simple_regret_approx_1[slice15],\n",
        "       simple_regret_approx_2[slice15],\n",
        "       simple_regret_approx_3[slice15],\n",
        "       simple_regret_approx_4[slice15],\n",
        "       simple_regret_approx_5[slice15],\n",
        "       simple_regret_approx_6[slice15],\n",
        "       simple_regret_approx_7[slice15],\n",
        "       simple_regret_approx_8[slice15],\n",
        "       simple_regret_approx_9[slice15],\n",
        "       simple_regret_approx_10[slice15],\n",
        "       simple_regret_approx_11[slice15],\n",
        "       simple_regret_approx_12[slice15],\n",
        "       simple_regret_approx_13[slice15],\n",
        "       simple_regret_approx_14[slice15],\n",
        "       simple_regret_approx_15[slice15],\n",
        "       simple_regret_approx_16[slice15],\n",
        "       simple_regret_approx_17[slice15],\n",
        "       simple_regret_approx_18[slice15],\n",
        "       simple_regret_approx_19[slice15],\n",
        "       simple_regret_approx_20[slice15]]\n",
        "\n",
        "exact15 = [simple_regret_exact_1[slice15],\n",
        "       simple_regret_exact_2[slice15],\n",
        "       simple_regret_exact_3[slice15],\n",
        "       simple_regret_exact_4[slice15],\n",
        "       simple_regret_exact_5[slice15],\n",
        "       simple_regret_exact_6[slice15],\n",
        "       simple_regret_exact_7[slice15],\n",
        "       simple_regret_exact_8[slice15],\n",
        "       simple_regret_exact_9[slice15],\n",
        "       simple_regret_exact_10[slice15],\n",
        "       simple_regret_exact_11[slice15],\n",
        "       simple_regret_exact_12[slice15],\n",
        "       simple_regret_exact_13[slice15],\n",
        "       simple_regret_exact_14[slice15],\n",
        "       simple_regret_exact_15[slice15],\n",
        "       simple_regret_exact_16[slice15],\n",
        "       simple_regret_exact_17[slice15],\n",
        "       simple_regret_exact_18[slice15],\n",
        "       simple_regret_exact_19[slice15],\n",
        "       simple_regret_exact_20[slice15]]\n",
        "\n",
        "approx15_results = pd.DataFrame(approx15).sort_values(by=[0], ascending=False)\n",
        "exact15_results = pd.DataFrame(exact15).sort_values(by=[0], ascending=False)\n",
        "\n",
        "### Best simple regret minimization IQR - approx:\n",
        "lower_approx15 = np.asarray(approx15_results[4:5][0])[0]\n",
        "median_approx15 = np.asarray(approx15_results[9:10][0])[0]\n",
        "upper_approx15 = np.asarray(approx15_results[14:15][0])[0]\n",
        "\n",
        "lower_exact15 = np.asarray(exact15_results[4:5][0])[0]\n",
        "median_exact15 = np.asarray(exact15_results[9:10][0])[0]\n",
        "upper_exact15 = np.asarray(exact15_results[14:15][0])[0]"
      ]
    },
    {
      "cell_type": "code",
      "execution_count": 86,
      "metadata": {
        "id": "KJINKhv1Qxf6"
      },
      "outputs": [],
      "source": [
        "# Iteration6 :\n",
        "\n",
        "slice6 = 5\n",
        "\n",
        "approx6 = [simple_regret_approx_1[slice6],\n",
        "       simple_regret_approx_2[slice6],\n",
        "       simple_regret_approx_3[slice6],\n",
        "       simple_regret_approx_4[slice6],\n",
        "       simple_regret_approx_5[slice6],\n",
        "       simple_regret_approx_6[slice6],\n",
        "       simple_regret_approx_7[slice6],\n",
        "       simple_regret_approx_8[slice6],\n",
        "       simple_regret_approx_9[slice6],\n",
        "       simple_regret_approx_10[slice6],\n",
        "       simple_regret_approx_11[slice6],\n",
        "       simple_regret_approx_12[slice6],\n",
        "       simple_regret_approx_13[slice6],\n",
        "       simple_regret_approx_14[slice6],\n",
        "       simple_regret_approx_15[slice6],\n",
        "       simple_regret_approx_16[slice6],\n",
        "       simple_regret_approx_17[slice6],\n",
        "       simple_regret_approx_18[slice6],\n",
        "       simple_regret_approx_19[slice6],\n",
        "       simple_regret_approx_20[slice6]]\n",
        "\n",
        "exact6 = [simple_regret_exact_1[slice6],\n",
        "       simple_regret_exact_2[slice6],\n",
        "       simple_regret_exact_3[slice6],\n",
        "       simple_regret_exact_4[slice6],\n",
        "       simple_regret_exact_5[slice6],\n",
        "       simple_regret_exact_6[slice6],\n",
        "       simple_regret_exact_7[slice6],\n",
        "       simple_regret_exact_8[slice6],\n",
        "       simple_regret_exact_9[slice6],\n",
        "       simple_regret_exact_10[slice6],\n",
        "       simple_regret_exact_11[slice6],\n",
        "       simple_regret_exact_12[slice6],\n",
        "       simple_regret_exact_13[slice6],\n",
        "       simple_regret_exact_14[slice6],\n",
        "       simple_regret_exact_15[slice6],\n",
        "       simple_regret_exact_16[slice6],\n",
        "       simple_regret_exact_17[slice6],\n",
        "       simple_regret_exact_18[slice6],\n",
        "       simple_regret_exact_19[slice6],\n",
        "       simple_regret_exact_20[slice6]]\n",
        "\n",
        "approx6_results = pd.DataFrame(approx6).sort_values(by=[0], ascending=False)\n",
        "exact6_results = pd.DataFrame(exact6).sort_values(by=[0], ascending=False)\n",
        "\n",
        "### Best simple regret minimization IQR - approx:\n",
        "lower_approx6 = np.asarray(approx6_results[4:5][0])[0]\n",
        "median_approx6 = np.asarray(approx6_results[9:10][0])[0]\n",
        "upper_approx6 = np.asarray(approx6_results[14:15][0])[0]\n",
        "\n",
        "lower_exact6 = np.asarray(exact6_results[4:5][0])[0]\n",
        "median_exact6 = np.asarray(exact6_results[9:10][0])[0]\n",
        "upper_exact6 = np.asarray(exact6_results[14:15][0])[0]"
      ]
    },
    {
      "cell_type": "code",
      "execution_count": 87,
      "metadata": {
        "id": "nwC5N1FsQxf7"
      },
      "outputs": [],
      "source": [
        "# Iteration16 :\n",
        "\n",
        "slice16 = 15\n",
        "\n",
        "approx16 = [simple_regret_approx_1[slice16],\n",
        "       simple_regret_approx_2[slice16],\n",
        "       simple_regret_approx_3[slice16],\n",
        "       simple_regret_approx_4[slice16],\n",
        "       simple_regret_approx_5[slice16],\n",
        "       simple_regret_approx_6[slice16],\n",
        "       simple_regret_approx_7[slice16],\n",
        "       simple_regret_approx_8[slice16],\n",
        "       simple_regret_approx_9[slice16],\n",
        "       simple_regret_approx_10[slice16],\n",
        "       simple_regret_approx_11[slice16],\n",
        "       simple_regret_approx_12[slice16],\n",
        "       simple_regret_approx_13[slice16],\n",
        "       simple_regret_approx_14[slice16],\n",
        "       simple_regret_approx_15[slice16],\n",
        "       simple_regret_approx_16[slice16],\n",
        "       simple_regret_approx_17[slice16],\n",
        "       simple_regret_approx_18[slice16],\n",
        "       simple_regret_approx_19[slice16],\n",
        "       simple_regret_approx_20[slice16]]\n",
        "\n",
        "exact16 = [simple_regret_exact_1[slice16],\n",
        "       simple_regret_exact_2[slice16],\n",
        "       simple_regret_exact_3[slice16],\n",
        "       simple_regret_exact_4[slice16],\n",
        "       simple_regret_exact_5[slice16],\n",
        "       simple_regret_exact_6[slice16],\n",
        "       simple_regret_exact_7[slice16],\n",
        "       simple_regret_exact_8[slice16],\n",
        "       simple_regret_exact_9[slice16],\n",
        "       simple_regret_exact_10[slice16],\n",
        "       simple_regret_exact_11[slice16],\n",
        "       simple_regret_exact_12[slice16],\n",
        "       simple_regret_exact_13[slice16],\n",
        "       simple_regret_exact_14[slice16],\n",
        "       simple_regret_exact_15[slice16],\n",
        "       simple_regret_exact_16[slice16],\n",
        "       simple_regret_exact_17[slice16],\n",
        "       simple_regret_exact_18[slice16],\n",
        "       simple_regret_exact_19[slice16],\n",
        "       simple_regret_exact_20[slice16]]\n",
        "\n",
        "approx16_results = pd.DataFrame(approx16).sort_values(by=[0], ascending=False)\n",
        "exact16_results = pd.DataFrame(exact16).sort_values(by=[0], ascending=False)\n",
        "\n",
        "### Best simple regret minimization IQR - approx:\n",
        "lower_approx16 = np.asarray(approx16_results[4:5][0])[0]\n",
        "median_approx16 = np.asarray(approx16_results[9:10][0])[0]\n",
        "upper_approx16 = np.asarray(approx16_results[14:15][0])[0]\n",
        "\n",
        "lower_exact16 = np.asarray(exact16_results[4:5][0])[0]\n",
        "median_exact16 = np.asarray(exact16_results[9:10][0])[0]\n",
        "upper_exact16 = np.asarray(exact16_results[14:15][0])[0]"
      ]
    },
    {
      "cell_type": "code",
      "execution_count": 88,
      "metadata": {
        "id": "TrPV0AfnQxf7"
      },
      "outputs": [],
      "source": [
        "# Iteration7 :\n",
        "\n",
        "slice7 = 6\n",
        "\n",
        "approx7 = [simple_regret_approx_1[slice7],\n",
        "       simple_regret_approx_2[slice7],\n",
        "       simple_regret_approx_3[slice7],\n",
        "       simple_regret_approx_4[slice7],\n",
        "       simple_regret_approx_5[slice7],\n",
        "       simple_regret_approx_6[slice7],\n",
        "       simple_regret_approx_7[slice7],\n",
        "       simple_regret_approx_8[slice7],\n",
        "       simple_regret_approx_9[slice7],\n",
        "       simple_regret_approx_10[slice7],\n",
        "       simple_regret_approx_11[slice7],\n",
        "       simple_regret_approx_12[slice7],\n",
        "       simple_regret_approx_13[slice7],\n",
        "       simple_regret_approx_14[slice7],\n",
        "       simple_regret_approx_15[slice7],\n",
        "       simple_regret_approx_16[slice7],\n",
        "       simple_regret_approx_17[slice7],\n",
        "       simple_regret_approx_18[slice7],\n",
        "       simple_regret_approx_19[slice7],\n",
        "       simple_regret_approx_20[slice7]]\n",
        "\n",
        "exact7 = [simple_regret_exact_1[slice7],\n",
        "       simple_regret_exact_2[slice7],\n",
        "       simple_regret_exact_3[slice7],\n",
        "       simple_regret_exact_4[slice7],\n",
        "       simple_regret_exact_5[slice7],\n",
        "       simple_regret_exact_6[slice7],\n",
        "       simple_regret_exact_7[slice7],\n",
        "       simple_regret_exact_8[slice7],\n",
        "       simple_regret_exact_9[slice7],\n",
        "       simple_regret_exact_10[slice7],\n",
        "       simple_regret_exact_11[slice7],\n",
        "       simple_regret_exact_12[slice7],\n",
        "       simple_regret_exact_13[slice7],\n",
        "       simple_regret_exact_14[slice7],\n",
        "       simple_regret_exact_15[slice7],\n",
        "       simple_regret_exact_16[slice7],\n",
        "       simple_regret_exact_17[slice7],\n",
        "       simple_regret_exact_18[slice7],\n",
        "       simple_regret_exact_19[slice7],\n",
        "       simple_regret_exact_20[slice7]]\n",
        "\n",
        "approx7_results = pd.DataFrame(approx7).sort_values(by=[0], ascending=False)\n",
        "exact7_results = pd.DataFrame(exact7).sort_values(by=[0], ascending=False)\n",
        "\n",
        "### Best simple regret minimization IQR - approx:\n",
        "lower_approx7 = np.asarray(approx7_results[4:5][0])[0]\n",
        "median_approx7 = np.asarray(approx7_results[9:10][0])[0]\n",
        "upper_approx7 = np.asarray(approx7_results[14:15][0])[0]\n",
        "\n",
        "lower_exact7 = np.asarray(exact7_results[4:5][0])[0]\n",
        "median_exact7 = np.asarray(exact7_results[9:10][0])[0]\n",
        "upper_exact7 = np.asarray(exact7_results[14:15][0])[0]"
      ]
    },
    {
      "cell_type": "code",
      "execution_count": 89,
      "metadata": {
        "id": "Ub_-wpK4Qxf8"
      },
      "outputs": [],
      "source": [
        "# Iteration17 :\n",
        "\n",
        "slice17 = 16\n",
        "\n",
        "approx17 = [simple_regret_approx_1[slice17],\n",
        "       simple_regret_approx_2[slice17],\n",
        "       simple_regret_approx_3[slice17],\n",
        "       simple_regret_approx_4[slice17],\n",
        "       simple_regret_approx_5[slice17],\n",
        "       simple_regret_approx_6[slice17],\n",
        "       simple_regret_approx_7[slice17],\n",
        "       simple_regret_approx_8[slice17],\n",
        "       simple_regret_approx_9[slice17],\n",
        "       simple_regret_approx_10[slice17],\n",
        "       simple_regret_approx_11[slice17],\n",
        "       simple_regret_approx_12[slice17],\n",
        "       simple_regret_approx_13[slice17],\n",
        "       simple_regret_approx_14[slice17],\n",
        "       simple_regret_approx_15[slice17],\n",
        "       simple_regret_approx_16[slice17],\n",
        "       simple_regret_approx_17[slice17],\n",
        "       simple_regret_approx_18[slice17],\n",
        "       simple_regret_approx_19[slice17],\n",
        "       simple_regret_approx_20[slice17]]\n",
        "\n",
        "exact17 = [simple_regret_exact_1[slice17],\n",
        "       simple_regret_exact_2[slice17],\n",
        "       simple_regret_exact_3[slice17],\n",
        "       simple_regret_exact_4[slice17],\n",
        "       simple_regret_exact_5[slice17],\n",
        "       simple_regret_exact_6[slice17],\n",
        "       simple_regret_exact_7[slice17],\n",
        "       simple_regret_exact_8[slice17],\n",
        "       simple_regret_exact_9[slice17],\n",
        "       simple_regret_exact_10[slice17],\n",
        "       simple_regret_exact_11[slice17],\n",
        "       simple_regret_exact_12[slice17],\n",
        "       simple_regret_exact_13[slice17],\n",
        "       simple_regret_exact_14[slice17],\n",
        "       simple_regret_exact_15[slice17],\n",
        "       simple_regret_exact_16[slice17],\n",
        "       simple_regret_exact_17[slice17],\n",
        "       simple_regret_exact_18[slice17],\n",
        "       simple_regret_exact_19[slice17],\n",
        "       simple_regret_exact_20[slice17]]\n",
        "\n",
        "approx17_results = pd.DataFrame(approx17).sort_values(by=[0], ascending=False)\n",
        "exact17_results = pd.DataFrame(exact17).sort_values(by=[0], ascending=False)\n",
        "\n",
        "### Best simple regret minimization IQR - approx:\n",
        "lower_approx17 = np.asarray(approx17_results[4:5][0])[0]\n",
        "median_approx17 = np.asarray(approx17_results[9:10][0])[0]\n",
        "upper_approx17 = np.asarray(approx17_results[14:15][0])[0]\n",
        "\n",
        "lower_exact17 = np.asarray(exact17_results[4:5][0])[0]\n",
        "median_exact17 = np.asarray(exact17_results[9:10][0])[0]\n",
        "upper_exact17 = np.asarray(exact17_results[14:15][0])[0]"
      ]
    },
    {
      "cell_type": "code",
      "execution_count": 90,
      "metadata": {
        "id": "-6VLo37PQxf8"
      },
      "outputs": [],
      "source": [
        "# Iteration8 :\n",
        "\n",
        "slice8 = 7\n",
        "\n",
        "approx8 = [simple_regret_approx_1[slice8],\n",
        "       simple_regret_approx_2[slice8],\n",
        "       simple_regret_approx_3[slice8],\n",
        "       simple_regret_approx_4[slice8],\n",
        "       simple_regret_approx_5[slice8],\n",
        "       simple_regret_approx_6[slice8],\n",
        "       simple_regret_approx_7[slice8],\n",
        "       simple_regret_approx_8[slice8],\n",
        "       simple_regret_approx_9[slice8],\n",
        "       simple_regret_approx_10[slice8],\n",
        "       simple_regret_approx_11[slice8],\n",
        "       simple_regret_approx_12[slice8],\n",
        "       simple_regret_approx_13[slice8],\n",
        "       simple_regret_approx_14[slice8],\n",
        "       simple_regret_approx_15[slice8],\n",
        "       simple_regret_approx_16[slice8],\n",
        "       simple_regret_approx_17[slice8],\n",
        "       simple_regret_approx_18[slice8],\n",
        "       simple_regret_approx_19[slice8],\n",
        "       simple_regret_approx_20[slice8]]\n",
        "\n",
        "exact8 = [simple_regret_exact_1[slice8],\n",
        "       simple_regret_exact_2[slice8],\n",
        "       simple_regret_exact_3[slice8],\n",
        "       simple_regret_exact_4[slice8],\n",
        "       simple_regret_exact_5[slice8],\n",
        "       simple_regret_exact_6[slice8],\n",
        "       simple_regret_exact_7[slice8],\n",
        "       simple_regret_exact_8[slice8],\n",
        "       simple_regret_exact_9[slice8],\n",
        "       simple_regret_exact_10[slice8],\n",
        "       simple_regret_exact_11[slice8],\n",
        "       simple_regret_exact_12[slice8],\n",
        "       simple_regret_exact_13[slice8],\n",
        "       simple_regret_exact_14[slice8],\n",
        "       simple_regret_exact_15[slice8],\n",
        "       simple_regret_exact_16[slice8],\n",
        "       simple_regret_exact_17[slice8],\n",
        "       simple_regret_exact_18[slice8],\n",
        "       simple_regret_exact_19[slice8],\n",
        "       simple_regret_exact_20[slice8]]\n",
        "\n",
        "approx8_results = pd.DataFrame(approx8).sort_values(by=[0], ascending=False)\n",
        "exact8_results = pd.DataFrame(exact8).sort_values(by=[0], ascending=False)\n",
        "\n",
        "### Best simple regret minimization IQR - approx:\n",
        "lower_approx8 = np.asarray(approx8_results[4:5][0])[0]\n",
        "median_approx8 = np.asarray(approx8_results[9:10][0])[0]\n",
        "upper_approx8 = np.asarray(approx8_results[14:15][0])[0]\n",
        "\n",
        "lower_exact8 = np.asarray(exact8_results[4:5][0])[0]\n",
        "median_exact8 = np.asarray(exact8_results[9:10][0])[0]\n",
        "upper_exact8 = np.asarray(exact8_results[14:15][0])[0]"
      ]
    },
    {
      "cell_type": "code",
      "execution_count": 91,
      "metadata": {
        "id": "2Dp-9CC2Qxf9"
      },
      "outputs": [],
      "source": [
        "# Iteration18 :\n",
        "\n",
        "slice18 = 17\n",
        "\n",
        "approx18 = [simple_regret_approx_1[slice18],\n",
        "       simple_regret_approx_2[slice18],\n",
        "       simple_regret_approx_3[slice18],\n",
        "       simple_regret_approx_4[slice18],\n",
        "       simple_regret_approx_5[slice18],\n",
        "       simple_regret_approx_6[slice18],\n",
        "       simple_regret_approx_7[slice18],\n",
        "       simple_regret_approx_8[slice18],\n",
        "       simple_regret_approx_9[slice18],\n",
        "       simple_regret_approx_10[slice18],\n",
        "       simple_regret_approx_11[slice18],\n",
        "       simple_regret_approx_12[slice18],\n",
        "       simple_regret_approx_13[slice18],\n",
        "       simple_regret_approx_14[slice18],\n",
        "       simple_regret_approx_15[slice18],\n",
        "       simple_regret_approx_16[slice18],\n",
        "       simple_regret_approx_17[slice18],\n",
        "       simple_regret_approx_18[slice18],\n",
        "       simple_regret_approx_19[slice18],\n",
        "       simple_regret_approx_20[slice18]]\n",
        "\n",
        "exact18 = [simple_regret_exact_1[slice18],\n",
        "       simple_regret_exact_2[slice18],\n",
        "       simple_regret_exact_3[slice18],\n",
        "       simple_regret_exact_4[slice18],\n",
        "       simple_regret_exact_5[slice18],\n",
        "       simple_regret_exact_6[slice18],\n",
        "       simple_regret_exact_7[slice18],\n",
        "       simple_regret_exact_8[slice18],\n",
        "       simple_regret_exact_9[slice18],\n",
        "       simple_regret_exact_10[slice18],\n",
        "       simple_regret_exact_11[slice18],\n",
        "       simple_regret_exact_12[slice18],\n",
        "       simple_regret_exact_13[slice18],\n",
        "       simple_regret_exact_14[slice18],\n",
        "       simple_regret_exact_15[slice18],\n",
        "       simple_regret_exact_16[slice18],\n",
        "       simple_regret_exact_17[slice18],\n",
        "       simple_regret_exact_18[slice18],\n",
        "       simple_regret_exact_19[slice18],\n",
        "       simple_regret_exact_20[slice18]]\n",
        "\n",
        "approx18_results = pd.DataFrame(approx18).sort_values(by=[0], ascending=False)\n",
        "exact18_results = pd.DataFrame(exact18).sort_values(by=[0], ascending=False)\n",
        "\n",
        "### Best simple regret minimization IQR - approx:\n",
        "lower_approx18 = np.asarray(approx18_results[4:5][0])[0]\n",
        "median_approx18 = np.asarray(approx18_results[9:10][0])[0]\n",
        "upper_approx18 = np.asarray(approx18_results[14:15][0])[0]\n",
        "\n",
        "lower_exact18 = np.asarray(exact18_results[4:5][0])[0]\n",
        "median_exact18 = np.asarray(exact18_results[9:10][0])[0]\n",
        "upper_exact18 = np.asarray(exact18_results[14:15][0])[0]"
      ]
    },
    {
      "cell_type": "code",
      "execution_count": 92,
      "metadata": {
        "id": "SqiaOpB7Qxf9"
      },
      "outputs": [],
      "source": [
        "# Iteration9 :\n",
        "\n",
        "slice9 = 8\n",
        "\n",
        "approx9 = [simple_regret_approx_1[slice9],\n",
        "       simple_regret_approx_2[slice9],\n",
        "       simple_regret_approx_3[slice9],\n",
        "       simple_regret_approx_4[slice9],\n",
        "       simple_regret_approx_5[slice9],\n",
        "       simple_regret_approx_6[slice9],\n",
        "       simple_regret_approx_7[slice9],\n",
        "       simple_regret_approx_8[slice9],\n",
        "       simple_regret_approx_9[slice9],\n",
        "       simple_regret_approx_10[slice9],\n",
        "       simple_regret_approx_11[slice9],\n",
        "       simple_regret_approx_12[slice9],\n",
        "       simple_regret_approx_13[slice9],\n",
        "       simple_regret_approx_14[slice9],\n",
        "       simple_regret_approx_15[slice9],\n",
        "       simple_regret_approx_16[slice9],\n",
        "       simple_regret_approx_17[slice9],\n",
        "       simple_regret_approx_18[slice9],\n",
        "       simple_regret_approx_19[slice9],\n",
        "       simple_regret_approx_20[slice9]]\n",
        "\n",
        "exact9 = [simple_regret_exact_1[slice9],\n",
        "       simple_regret_exact_2[slice9],\n",
        "       simple_regret_exact_3[slice9],\n",
        "       simple_regret_exact_4[slice9],\n",
        "       simple_regret_exact_5[slice9],\n",
        "       simple_regret_exact_6[slice9],\n",
        "       simple_regret_exact_7[slice9],\n",
        "       simple_regret_exact_8[slice9],\n",
        "       simple_regret_exact_9[slice9],\n",
        "       simple_regret_exact_10[slice9],\n",
        "       simple_regret_exact_11[slice9],\n",
        "       simple_regret_exact_12[slice9],\n",
        "       simple_regret_exact_13[slice9],\n",
        "       simple_regret_exact_14[slice9],\n",
        "       simple_regret_exact_15[slice9],\n",
        "       simple_regret_exact_16[slice9],\n",
        "       simple_regret_exact_17[slice9],\n",
        "       simple_regret_exact_18[slice9],\n",
        "       simple_regret_exact_19[slice9],\n",
        "       simple_regret_exact_20[slice9]]\n",
        "\n",
        "approx9_results = pd.DataFrame(approx9).sort_values(by=[0], ascending=False)\n",
        "exact9_results = pd.DataFrame(exact9).sort_values(by=[0], ascending=False)\n",
        "\n",
        "### Best simple regret minimization IQR - approx:\n",
        "lower_approx9 = np.asarray(approx9_results[4:5][0])[0]\n",
        "median_approx9 = np.asarray(approx9_results[9:10][0])[0]\n",
        "upper_approx9 = np.asarray(approx9_results[14:15][0])[0]\n",
        "\n",
        "lower_exact9 = np.asarray(exact9_results[4:5][0])[0]\n",
        "median_exact9 = np.asarray(exact9_results[9:10][0])[0]\n",
        "upper_exact9 = np.asarray(exact9_results[14:15][0])[0]"
      ]
    },
    {
      "cell_type": "code",
      "execution_count": 93,
      "metadata": {
        "id": "OQkCCOsPQxf9"
      },
      "outputs": [],
      "source": [
        "# Iteration19 :\n",
        "\n",
        "slice19 = 18\n",
        "\n",
        "approx19 = [simple_regret_approx_1[slice19],\n",
        "       simple_regret_approx_2[slice19],\n",
        "       simple_regret_approx_3[slice19],\n",
        "       simple_regret_approx_4[slice19],\n",
        "       simple_regret_approx_5[slice19],\n",
        "       simple_regret_approx_6[slice19],\n",
        "       simple_regret_approx_7[slice19],\n",
        "       simple_regret_approx_8[slice19],\n",
        "       simple_regret_approx_9[slice19],\n",
        "       simple_regret_approx_10[slice19],\n",
        "       simple_regret_approx_11[slice19],\n",
        "       simple_regret_approx_12[slice19],\n",
        "       simple_regret_approx_13[slice19],\n",
        "       simple_regret_approx_14[slice19],\n",
        "       simple_regret_approx_15[slice19],\n",
        "       simple_regret_approx_16[slice19],\n",
        "       simple_regret_approx_17[slice19],\n",
        "       simple_regret_approx_18[slice19],\n",
        "       simple_regret_approx_19[slice19],\n",
        "       simple_regret_approx_20[slice19]]\n",
        "\n",
        "exact19 = [simple_regret_exact_1[slice19],\n",
        "       simple_regret_exact_2[slice19],\n",
        "       simple_regret_exact_3[slice19],\n",
        "       simple_regret_exact_4[slice19],\n",
        "       simple_regret_exact_5[slice19],\n",
        "       simple_regret_exact_6[slice19],\n",
        "       simple_regret_exact_7[slice19],\n",
        "       simple_regret_exact_8[slice19],\n",
        "       simple_regret_exact_9[slice19],\n",
        "       simple_regret_exact_10[slice19],\n",
        "       simple_regret_exact_11[slice19],\n",
        "       simple_regret_exact_12[slice19],\n",
        "       simple_regret_exact_13[slice19],\n",
        "       simple_regret_exact_14[slice19],\n",
        "       simple_regret_exact_15[slice19],\n",
        "       simple_regret_exact_16[slice19],\n",
        "       simple_regret_exact_17[slice19],\n",
        "       simple_regret_exact_18[slice19],\n",
        "       simple_regret_exact_19[slice19],\n",
        "       simple_regret_exact_20[slice19]]\n",
        "\n",
        "approx19_results = pd.DataFrame(approx19).sort_values(by=[0], ascending=False)\n",
        "exact19_results = pd.DataFrame(exact19).sort_values(by=[0], ascending=False)\n",
        "\n",
        "### Best simple regret minimization IQR - approx:\n",
        "lower_approx19 = np.asarray(approx19_results[4:5][0])[0]\n",
        "median_approx19 = np.asarray(approx19_results[9:10][0])[0]\n",
        "upper_approx19 = np.asarray(approx19_results[14:15][0])[0]\n",
        "\n",
        "lower_exact19 = np.asarray(exact19_results[4:5][0])[0]\n",
        "median_exact19 = np.asarray(exact19_results[9:10][0])[0]\n",
        "upper_exact19 = np.asarray(exact19_results[14:15][0])[0]"
      ]
    },
    {
      "cell_type": "code",
      "execution_count": 94,
      "metadata": {
        "id": "h4vtWahcQxf-"
      },
      "outputs": [],
      "source": [
        "# Iteration10 :\n",
        "\n",
        "slice10 = 9\n",
        "\n",
        "approx10 = [simple_regret_approx_1[slice10],\n",
        "       simple_regret_approx_2[slice10],\n",
        "       simple_regret_approx_3[slice10],\n",
        "       simple_regret_approx_4[slice10],\n",
        "       simple_regret_approx_5[slice10],\n",
        "       simple_regret_approx_6[slice10],\n",
        "       simple_regret_approx_7[slice10],\n",
        "       simple_regret_approx_8[slice10],\n",
        "       simple_regret_approx_9[slice10],\n",
        "       simple_regret_approx_10[slice10],\n",
        "       simple_regret_approx_11[slice10],\n",
        "       simple_regret_approx_12[slice10],\n",
        "       simple_regret_approx_13[slice10],\n",
        "       simple_regret_approx_14[slice10],\n",
        "       simple_regret_approx_15[slice10],\n",
        "       simple_regret_approx_16[slice10],\n",
        "       simple_regret_approx_17[slice10],\n",
        "       simple_regret_approx_18[slice10],\n",
        "       simple_regret_approx_19[slice10],\n",
        "       simple_regret_approx_20[slice10]]\n",
        "\n",
        "exact10 = [simple_regret_exact_1[slice10],\n",
        "       simple_regret_exact_2[slice10],\n",
        "       simple_regret_exact_3[slice10],\n",
        "       simple_regret_exact_4[slice10],\n",
        "       simple_regret_exact_5[slice10],\n",
        "       simple_regret_exact_6[slice10],\n",
        "       simple_regret_exact_7[slice10],\n",
        "       simple_regret_exact_8[slice10],\n",
        "       simple_regret_exact_9[slice10],\n",
        "       simple_regret_exact_10[slice10],\n",
        "       simple_regret_exact_11[slice10],\n",
        "       simple_regret_exact_12[slice10],\n",
        "       simple_regret_exact_13[slice10],\n",
        "       simple_regret_exact_14[slice10],\n",
        "       simple_regret_exact_15[slice10],\n",
        "       simple_regret_exact_16[slice10],\n",
        "       simple_regret_exact_17[slice10],\n",
        "       simple_regret_exact_18[slice10],\n",
        "       simple_regret_exact_19[slice10],\n",
        "       simple_regret_exact_20[slice10]]\n",
        "\n",
        "approx10_results = pd.DataFrame(approx10).sort_values(by=[0], ascending=False)\n",
        "exact10_results = pd.DataFrame(exact10).sort_values(by=[0], ascending=False)\n",
        "\n",
        "### Best simple regret minimization IQR - approx:\n",
        "lower_approx10 = np.asarray(approx10_results[4:5][0])[0]\n",
        "median_approx10 = np.asarray(approx10_results[9:10][0])[0]\n",
        "upper_approx10 = np.asarray(approx10_results[14:15][0])[0]\n",
        "\n",
        "lower_exact10 = np.asarray(exact10_results[4:5][0])[0]\n",
        "median_exact10 = np.asarray(exact10_results[9:10][0])[0]\n",
        "upper_exact10 = np.asarray(exact10_results[14:15][0])[0]"
      ]
    },
    {
      "cell_type": "code",
      "execution_count": 95,
      "metadata": {
        "id": "Rsf240pWQxf-"
      },
      "outputs": [],
      "source": [
        "# Iteration20 :\n",
        "\n",
        "slice20 = 19\n",
        "\n",
        "approx20 = [simple_regret_approx_1[slice20],\n",
        "       simple_regret_approx_2[slice20],\n",
        "       simple_regret_approx_3[slice20],\n",
        "       simple_regret_approx_4[slice20],\n",
        "       simple_regret_approx_5[slice20],\n",
        "       simple_regret_approx_6[slice20],\n",
        "       simple_regret_approx_7[slice20],\n",
        "       simple_regret_approx_8[slice20],\n",
        "       simple_regret_approx_9[slice20],\n",
        "       simple_regret_approx_10[slice20],\n",
        "       simple_regret_approx_11[slice20],\n",
        "       simple_regret_approx_12[slice20],\n",
        "       simple_regret_approx_13[slice20],\n",
        "       simple_regret_approx_14[slice20],\n",
        "       simple_regret_approx_15[slice20],\n",
        "       simple_regret_approx_16[slice20],\n",
        "       simple_regret_approx_17[slice20],\n",
        "       simple_regret_approx_18[slice20],\n",
        "       simple_regret_approx_19[slice20],\n",
        "       simple_regret_approx_20[slice20]]\n",
        "\n",
        "exact20 = [simple_regret_exact_1[slice20],\n",
        "       simple_regret_exact_2[slice20],\n",
        "       simple_regret_exact_3[slice20],\n",
        "       simple_regret_exact_4[slice20],\n",
        "       simple_regret_exact_5[slice20],\n",
        "       simple_regret_exact_6[slice20],\n",
        "       simple_regret_exact_7[slice20],\n",
        "       simple_regret_exact_8[slice20],\n",
        "       simple_regret_exact_9[slice20],\n",
        "       simple_regret_exact_10[slice20],\n",
        "       simple_regret_exact_11[slice20],\n",
        "       simple_regret_exact_12[slice20],\n",
        "       simple_regret_exact_13[slice20],\n",
        "       simple_regret_exact_14[slice20],\n",
        "       simple_regret_exact_15[slice20],\n",
        "       simple_regret_exact_16[slice20],\n",
        "       simple_regret_exact_17[slice20],\n",
        "       simple_regret_exact_18[slice20],\n",
        "       simple_regret_exact_19[slice20],\n",
        "       simple_regret_exact_20[slice20]]\n",
        "\n",
        "approx20_results = pd.DataFrame(approx20).sort_values(by=[0], ascending=False)\n",
        "exact20_results = pd.DataFrame(exact20).sort_values(by=[0], ascending=False)\n",
        "\n",
        "### Best simple regret minimization IQR - approx:\n",
        "lower_approx20 = np.asarray(approx20_results[4:5][0])[0]\n",
        "median_approx20 = np.asarray(approx20_results[9:10][0])[0]\n",
        "upper_approx20 = np.asarray(approx20_results[14:15][0])[0]\n",
        "\n",
        "lower_exact20 = np.asarray(exact20_results[4:5][0])[0]\n",
        "median_exact20 = np.asarray(exact20_results[9:10][0])[0]\n",
        "upper_exact20 = np.asarray(exact20_results[14:15][0])[0]"
      ]
    },
    {
      "cell_type": "code",
      "execution_count": 96,
      "metadata": {
        "id": "gn36RejbQxf_"
      },
      "outputs": [],
      "source": [
        "### Summarize arrays: 'Loser'\n",
        "\n",
        "lower_approx = [lower_approx1,\n",
        "            lower_approx2,\n",
        "            lower_approx3,\n",
        "            lower_approx4,\n",
        "            lower_approx5,\n",
        "            lower_approx6,\n",
        "            lower_approx7,\n",
        "            lower_approx8,\n",
        "            lower_approx9,\n",
        "            lower_approx10,\n",
        "            lower_approx11,\n",
        "            lower_approx12,\n",
        "            lower_approx13,\n",
        "            lower_approx14,\n",
        "            lower_approx15,\n",
        "            lower_approx16,\n",
        "            lower_approx17,\n",
        "            lower_approx18,\n",
        "            lower_approx19,\n",
        "            lower_approx20,\n",
        "            lower_approx21]\n",
        "\n",
        "median_approx = [median_approx1,\n",
        "            median_approx2,\n",
        "            median_approx3,\n",
        "            median_approx4,\n",
        "            median_approx5,\n",
        "            median_approx6,\n",
        "            median_approx7,\n",
        "            median_approx8,\n",
        "            median_approx9,\n",
        "            median_approx10,\n",
        "            median_approx11,\n",
        "            median_approx12,\n",
        "            median_approx13,\n",
        "            median_approx14,\n",
        "            median_approx15,\n",
        "            median_approx16,\n",
        "            median_approx17,\n",
        "            median_approx18,\n",
        "            median_approx19,\n",
        "            median_approx20,\n",
        "            median_approx21]\n",
        "\n",
        "upper_approx = [upper_approx1,\n",
        "            upper_approx2,\n",
        "            upper_approx3,\n",
        "            upper_approx4,\n",
        "            upper_approx5,\n",
        "            upper_approx6,\n",
        "            upper_approx7,\n",
        "            upper_approx8,\n",
        "            upper_approx9,\n",
        "            upper_approx10,\n",
        "            upper_approx11,\n",
        "            upper_approx12,\n",
        "            upper_approx13,\n",
        "            upper_approx14,\n",
        "            upper_approx15,\n",
        "            upper_approx16,\n",
        "            upper_approx17,\n",
        "            upper_approx18,\n",
        "            upper_approx19,\n",
        "            upper_approx20,\n",
        "            upper_approx21]"
      ]
    },
    {
      "cell_type": "code",
      "execution_count": 97,
      "metadata": {
        "id": "wxtGTOYfQxf_"
      },
      "outputs": [],
      "source": [
        "### Summarize arrays: 'exact'\n",
        "\n",
        "lower_exact = [lower_exact1,\n",
        "            lower_exact2,\n",
        "            lower_exact3,\n",
        "            lower_exact4,\n",
        "            lower_exact5,\n",
        "            lower_exact6,\n",
        "            lower_exact7,\n",
        "            lower_exact8,\n",
        "            lower_exact9,\n",
        "            lower_exact10,\n",
        "            lower_exact11,\n",
        "            lower_exact12,\n",
        "            lower_exact13,\n",
        "            lower_exact14,\n",
        "            lower_exact15,\n",
        "            lower_exact16,\n",
        "            lower_exact17,\n",
        "            lower_exact18,\n",
        "            lower_exact19,\n",
        "            lower_exact20,\n",
        "            lower_exact21]\n",
        "\n",
        "median_exact = [median_exact1,\n",
        "            median_exact2,\n",
        "            median_exact3,\n",
        "            median_exact4,\n",
        "            median_exact5,\n",
        "            median_exact6,\n",
        "            median_exact7,\n",
        "            median_exact8,\n",
        "            median_exact9,\n",
        "            median_exact10,\n",
        "            median_exact11,\n",
        "            median_exact12,\n",
        "            median_exact13,\n",
        "            median_exact14,\n",
        "            median_exact15,\n",
        "            median_exact16,\n",
        "            median_exact17,\n",
        "            median_exact18,\n",
        "            median_exact19,\n",
        "            median_exact20,\n",
        "            median_exact21]\n",
        "\n",
        "upper_exact = [upper_exact1,\n",
        "            upper_exact2,\n",
        "            upper_exact3,\n",
        "            upper_exact4,\n",
        "            upper_exact5,\n",
        "            upper_exact6,\n",
        "            upper_exact7,\n",
        "            upper_exact8,\n",
        "            upper_exact9,\n",
        "            upper_exact10,\n",
        "            upper_exact11,\n",
        "            upper_exact12,\n",
        "            upper_exact13,\n",
        "            upper_exact14,\n",
        "            upper_exact15,\n",
        "            upper_exact16,\n",
        "            upper_exact17,\n",
        "            upper_exact18,\n",
        "            upper_exact19,\n",
        "            upper_exact20,\n",
        "            upper_exact21]"
      ]
    },
    {
      "cell_type": "code",
      "execution_count": 98,
      "metadata": {
        "id": "2MONq-BXQxgA",
        "colab": {
          "base_uri": "https://localhost:8080/",
          "height": 299
        },
        "outputId": "ffde029c-a969-46d5-a91c-7ac80c3bfd45"
      },
      "outputs": [
        {
          "output_type": "display_data",
          "data": {
            "text/plain": [
              "<Figure size 432x288 with 1 Axes>"
            ],
            "image/png": "[encoded data removed]"
          },
          "metadata": {
            "needs_background": "light"
          }
        }
      ],
      "source": [
        "### Visualise!\n",
        "\n",
        "title = func\n",
        "plt.figure()\n",
        "\n",
        "plt.plot(median_approx, color = 'Purple')\n",
        "plt.plot(median_exact, color = 'Orange')\n",
        "\n",
        "xstar = np.arange(0, iters+1, step=1)\n",
        "plt.fill_between(xstar, lower_approx, upper_approx, facecolor = 'Purple', alpha=0.4, label='GP CBM Optimization: Approx GP CBM gradients')\n",
        "plt.fill_between(xstar, lower_exact, upper_exact, facecolor = 'Orange', alpha=0.4, label='GP CBM Optimization: Exact GP dCBM gradients')\n",
        "\n",
        "plt.title(title, weight = 'bold')\n",
        "plt.xlabel('(Post-initialization) iteration $\\it{k}$', weight = 'bold')\n",
        "plt.ylabel('log(Regret)', weight = 'bold') \n",
        "plt.legend(loc=0) # add plot legend\n",
        "\n",
        "### Make the x-ticks integers, not floats:\n",
        "count = len(xstar)\n",
        "plt.xticks(np.arange(count), np.arange(0, count))\n",
        "plt.show() #visualize!"
      ]
    },
    {
      "cell_type": "code",
      "execution_count": 99,
      "metadata": {
        "id": "l5dkR2Id2oiu",
        "colab": {
          "base_uri": "https://localhost:8080/"
        },
        "outputId": "0322d3bb-65c4-4488-c66c-03c1709e1084"
      },
      "outputs": [
        {
          "output_type": "execute_result",
          "data": {
            "text/plain": [
              "(978.8193647861481, 858.5483753681183)"
            ]
          },
          "metadata": {},
          "execution_count": 99
        }
      ],
      "source": [
        "time_approx, time_exact\n"
      ]
    },
    {
      "cell_type": "code",
      "source": [
        "### acqFunc attribute x, stddev: run number = 1\n",
        "\n",
        "acqFuncApprox_exact_1 = acqFuncApprox(exact_1.history)\n",
        "acqFuncExact_exact_1 = acqFuncExact(exact_1.history)\n",
        "\n",
        "e1 = np.mean(acqFuncExact_exact_1)\n",
        "a1 = np.mean(acqFuncApprox_exact_1)\n",
        "\n",
        "e1, a1\n"
      ],
      "metadata": {
        "colab": {
          "base_uri": "https://localhost:8080/"
        },
        "id": "uwxv4dmfGsLr",
        "outputId": "49ee107f-ddaf-458e-af68-c5f58fd600ec"
      },
      "execution_count": 100,
      "outputs": [
        {
          "output_type": "execute_result",
          "data": {
            "text/plain": [
              "(2.4688519537485694, 2.8775307153405683)"
            ]
          },
          "metadata": {},
          "execution_count": 100
        }
      ]
    },
    {
      "cell_type": "code",
      "source": [
        "### acqFunc attribute x, stddev: run number = 2\n",
        "\n",
        "acqFuncApprox_exact_2 = acqFuncApprox(exact_2.history)\n",
        "acqFuncExact_exact_2 = acqFuncExact(exact_2.history)\n",
        "\n",
        "e2 = np.mean(acqFuncExact_exact_2)\n",
        "a2 = np.mean(acqFuncApprox_exact_2)\n",
        "\n",
        "e2, a2\n"
      ],
      "metadata": {
        "colab": {
          "base_uri": "https://localhost:8080/"
        },
        "id": "0YSV00_pGsXe",
        "outputId": "b094398e-882d-46d9-baf1-932def3af383"
      },
      "execution_count": 101,
      "outputs": [
        {
          "output_type": "execute_result",
          "data": {
            "text/plain": [
              "(1.9508145372053498, 2.5699593535954426)"
            ]
          },
          "metadata": {},
          "execution_count": 101
        }
      ]
    },
    {
      "cell_type": "code",
      "source": [
        "### acqFunc attribute x, stddev: run number = 3\n",
        "\n",
        "acqFuncApprox_exact_3 = acqFuncApprox(exact_3.history)\n",
        "acqFuncExact_exact_3 = acqFuncExact(exact_3.history)\n",
        "\n",
        "e3 = np.mean(acqFuncExact_exact_3)\n",
        "a3 = np.mean(acqFuncApprox_exact_3)\n",
        "\n",
        "e3, a3\n"
      ],
      "metadata": {
        "colab": {
          "base_uri": "https://localhost:8080/"
        },
        "id": "HHVmsd2UGsjT",
        "outputId": "19addfe4-5633-4f90-d8f1-35dcc6f45e6d"
      },
      "execution_count": 102,
      "outputs": [
        {
          "output_type": "execute_result",
          "data": {
            "text/plain": [
              "(2.850414192365746, 2.7982089028829864)"
            ]
          },
          "metadata": {},
          "execution_count": 102
        }
      ]
    },
    {
      "cell_type": "code",
      "source": [
        "### acqFunc attribute x, stddev: run number = 4\n",
        "\n",
        "acqFuncApprox_exact_4 = acqFuncApprox(exact_4.history)\n",
        "acqFuncExact_exact_4 = acqFuncExact(exact_4.history)\n",
        "\n",
        "e4 = np.mean(acqFuncExact_exact_4)\n",
        "a4 = np.mean(acqFuncApprox_exact_4)\n",
        "\n",
        "e4, a4\n"
      ],
      "metadata": {
        "colab": {
          "base_uri": "https://localhost:8080/"
        },
        "id": "r7O19S2eGsu7",
        "outputId": "c79c60c6-4f90-415f-ad19-f6a99f744286"
      },
      "execution_count": 103,
      "outputs": [
        {
          "output_type": "execute_result",
          "data": {
            "text/plain": [
              "(2.912969284721677, 3.217976005551531)"
            ]
          },
          "metadata": {},
          "execution_count": 103
        }
      ]
    },
    {
      "cell_type": "code",
      "source": [
        "### acqFunc attribute x, stddev: run number = 5\n",
        "\n",
        "acqFuncApprox_exact_5 = acqFuncApprox(exact_5.history)\n",
        "acqFuncExact_exact_5 = acqFuncExact(exact_5.history)\n",
        "\n",
        "e5 = np.mean(acqFuncExact_exact_5)\n",
        "a5 = np.mean(acqFuncApprox_exact_5)\n",
        "\n",
        "e5, a5\n"
      ],
      "metadata": {
        "colab": {
          "base_uri": "https://localhost:8080/"
        },
        "id": "sdb9o6NuGs5m",
        "outputId": "369da2cc-61da-44c1-9ce4-fe761520d758"
      },
      "execution_count": 104,
      "outputs": [
        {
          "output_type": "execute_result",
          "data": {
            "text/plain": [
              "(2.098460523653933, 2.559500588147599)"
            ]
          },
          "metadata": {},
          "execution_count": 104
        }
      ]
    },
    {
      "cell_type": "code",
      "source": [
        "### acqFunc attribute x, stddev: run number = 6\n",
        "\n",
        "acqFuncApprox_exact_6 = acqFuncApprox(exact_6.history)\n",
        "acqFuncExact_exact_6 = acqFuncExact(exact_6.history)\n",
        "\n",
        "e6 = np.mean(acqFuncExact_exact_6)\n",
        "a6 = np.mean(acqFuncApprox_exact_6)\n",
        "\n",
        "e6, a6\n"
      ],
      "metadata": {
        "colab": {
          "base_uri": "https://localhost:8080/"
        },
        "id": "COQl7LZ8GtE0",
        "outputId": "2dc32d62-a4e3-41cc-e2a5-83e0c4f89d8a"
      },
      "execution_count": 105,
      "outputs": [
        {
          "output_type": "execute_result",
          "data": {
            "text/plain": [
              "(2.557155734361026, 2.7630515159579447)"
            ]
          },
          "metadata": {},
          "execution_count": 105
        }
      ]
    },
    {
      "cell_type": "code",
      "source": [
        "### acqFunc attribute x, stddev: run number = 7\n",
        "\n",
        "acqFuncApprox_exact_7 = acqFuncApprox(exact_7.history)\n",
        "acqFuncExact_exact_7 = acqFuncExact(exact_7.history)\n",
        "\n",
        "e7 = np.mean(acqFuncExact_exact_7)\n",
        "a7 = np.mean(acqFuncApprox_exact_7)\n",
        "\n",
        "e7, a7\n"
      ],
      "metadata": {
        "colab": {
          "base_uri": "https://localhost:8080/"
        },
        "id": "2gy9EtTzGtP7",
        "outputId": "f0a87ae6-06b3-4956-d271-c9c26007b93b"
      },
      "execution_count": 106,
      "outputs": [
        {
          "output_type": "execute_result",
          "data": {
            "text/plain": [
              "(2.3126111389917368, 3.1071787526391224)"
            ]
          },
          "metadata": {},
          "execution_count": 106
        }
      ]
    },
    {
      "cell_type": "code",
      "source": [
        "### acqFunc attribute x, stddev: run number = 8\n",
        "\n",
        "acqFuncApprox_exact_8 = acqFuncApprox(exact_8.history)\n",
        "acqFuncExact_exact_8 = acqFuncExact(exact_8.history)\n",
        "\n",
        "e8 = np.mean(acqFuncExact_exact_8)\n",
        "a8 = np.mean(acqFuncApprox_exact_8)\n",
        "\n",
        "e8, a8\n"
      ],
      "metadata": {
        "colab": {
          "base_uri": "https://localhost:8080/"
        },
        "id": "S7mn0qoMGtbM",
        "outputId": "6e004871-d59e-4f52-c29f-120c25691412"
      },
      "execution_count": 107,
      "outputs": [
        {
          "output_type": "execute_result",
          "data": {
            "text/plain": [
              "(2.361258617770951, 3.1351326626555704)"
            ]
          },
          "metadata": {},
          "execution_count": 107
        }
      ]
    },
    {
      "cell_type": "code",
      "source": [
        "### acqFunc attribute x, stddev: run number = 9\n",
        "\n",
        "acqFuncApprox_exact_9 = acqFuncApprox(exact_9.history)\n",
        "acqFuncExact_exact_9 = acqFuncExact(exact_9.history)\n",
        "\n",
        "e9 = np.mean(acqFuncExact_exact_9)\n",
        "a9 = np.mean(acqFuncApprox_exact_9)\n",
        "\n",
        "e9, a9\n"
      ],
      "metadata": {
        "colab": {
          "base_uri": "https://localhost:8080/"
        },
        "id": "BhljmkNxGtms",
        "outputId": "2565e05b-4061-4bd2-848e-b69d809925b3"
      },
      "execution_count": 108,
      "outputs": [
        {
          "output_type": "execute_result",
          "data": {
            "text/plain": [
              "(2.584785313712369, 3.351248041205293)"
            ]
          },
          "metadata": {},
          "execution_count": 108
        }
      ]
    },
    {
      "cell_type": "code",
      "source": [
        "### acqFunc attribute x, stddev: run number = 10\n",
        "\n",
        "acqFuncApprox_exact_10 = acqFuncApprox(exact_10.history)\n",
        "acqFuncExact_exact_10 = acqFuncExact(exact_10.history)\n",
        "\n",
        "e10 = np.mean(acqFuncExact_exact_10)\n",
        "a10 = np.mean(acqFuncApprox_exact_10)\n",
        "\n",
        "e10, a10\n"
      ],
      "metadata": {
        "colab": {
          "base_uri": "https://localhost:8080/"
        },
        "id": "W5GZo6k3Gtx8",
        "outputId": "16174649-1c30-46c5-d1ca-185e3accbc6c"
      },
      "execution_count": 109,
      "outputs": [
        {
          "output_type": "execute_result",
          "data": {
            "text/plain": [
              "(2.4421968059891364, 3.323848739186123)"
            ]
          },
          "metadata": {},
          "execution_count": 109
        }
      ]
    },
    {
      "cell_type": "code",
      "source": [
        "### acqFunc attribute x, stddev: run number = 11\n",
        "\n",
        "acqFuncApprox_exact_11 = acqFuncApprox(exact_11.history)\n",
        "acqFuncExact_exact_11 = acqFuncExact(exact_11.history)\n",
        "\n",
        "e11 = np.mean(acqFuncExact_exact_11)\n",
        "a11 = np.mean(acqFuncApprox_exact_11)\n",
        "\n",
        "e11, a11\n"
      ],
      "metadata": {
        "colab": {
          "base_uri": "https://localhost:8080/"
        },
        "id": "isKNhDk5Gt9D",
        "outputId": "fbbdffcc-3d04-4b3b-c720-31d9e28fb644"
      },
      "execution_count": 110,
      "outputs": [
        {
          "output_type": "execute_result",
          "data": {
            "text/plain": [
              "(2.3554077783927543, 3.093546020937117)"
            ]
          },
          "metadata": {},
          "execution_count": 110
        }
      ]
    },
    {
      "cell_type": "code",
      "source": [
        "### acqFunc attribute x, stddev: run number = 12\n",
        "\n",
        "acqFuncApprox_exact_12 = acqFuncApprox(exact_12.history)\n",
        "acqFuncExact_exact_12 = acqFuncExact(exact_12.history)\n",
        "\n",
        "e12 = np.mean(acqFuncExact_exact_12)\n",
        "a12 = np.mean(acqFuncApprox_exact_12)\n",
        "\n",
        "e12, a12\n"
      ],
      "metadata": {
        "colab": {
          "base_uri": "https://localhost:8080/"
        },
        "id": "8ts-wrSuGuIm",
        "outputId": "e4d289e0-1de5-4be5-bfb2-95f753aecf55"
      },
      "execution_count": 111,
      "outputs": [
        {
          "output_type": "execute_result",
          "data": {
            "text/plain": [
              "(2.514420972709438, 2.43748253636273)"
            ]
          },
          "metadata": {},
          "execution_count": 111
        }
      ]
    },
    {
      "cell_type": "code",
      "source": [
        "### acqFunc attribute x, stddev: run number = 13\n",
        "\n",
        "acqFuncApprox_exact_13 = acqFuncApprox(exact_13.history)\n",
        "acqFuncExact_exact_13 = acqFuncExact(exact_13.history)\n",
        "\n",
        "e13 = np.mean(acqFuncExact_exact_13)\n",
        "a13 = np.mean(acqFuncApprox_exact_13)\n",
        "\n",
        "e13, a13\n"
      ],
      "metadata": {
        "colab": {
          "base_uri": "https://localhost:8080/"
        },
        "id": "n0drhEe3GuUL",
        "outputId": "ed7680e0-002b-4ee6-bd52-192bc6d4028a"
      },
      "execution_count": 112,
      "outputs": [
        {
          "output_type": "execute_result",
          "data": {
            "text/plain": [
              "(2.2947736823751748, 3.4096245668253586)"
            ]
          },
          "metadata": {},
          "execution_count": 112
        }
      ]
    },
    {
      "cell_type": "code",
      "source": [
        "### acqFunc attribute x, stddev: run number = 14\n",
        "\n",
        "acqFuncApprox_exact_14 = acqFuncApprox(exact_14.history)\n",
        "acqFuncExact_exact_14 = acqFuncExact(exact_14.history)\n",
        "\n",
        "e14 = np.mean(acqFuncExact_exact_14)\n",
        "a14 = np.mean(acqFuncApprox_exact_14)\n",
        "\n",
        "e14, a14\n"
      ],
      "metadata": {
        "colab": {
          "base_uri": "https://localhost:8080/"
        },
        "id": "R0W3MZaVGues",
        "outputId": "9b3ab478-cae5-48c2-e5d3-1735f1da1a78"
      },
      "execution_count": 113,
      "outputs": [
        {
          "output_type": "execute_result",
          "data": {
            "text/plain": [
              "(2.210334897546843, 2.5800647145881643)"
            ]
          },
          "metadata": {},
          "execution_count": 113
        }
      ]
    },
    {
      "cell_type": "code",
      "source": [
        "### acqFunc attribute x, stddev: run number = 15\n",
        "\n",
        "acqFuncApprox_exact_15 = acqFuncApprox(exact_15.history)\n",
        "acqFuncExact_exact_15 = acqFuncExact(exact_15.history)\n",
        "\n",
        "e15 = np.mean(acqFuncExact_exact_15)\n",
        "a15 = np.mean(acqFuncApprox_exact_15)\n",
        "\n",
        "e15, a15\n"
      ],
      "metadata": {
        "colab": {
          "base_uri": "https://localhost:8080/"
        },
        "id": "DoXdDFHoGup-",
        "outputId": "f946ae25-09a3-4b11-f6a3-2038b5c95bd4"
      },
      "execution_count": 114,
      "outputs": [
        {
          "output_type": "execute_result",
          "data": {
            "text/plain": [
              "(2.8246187588281804, 3.1589863626976227)"
            ]
          },
          "metadata": {},
          "execution_count": 114
        }
      ]
    },
    {
      "cell_type": "code",
      "source": [
        "### acqFunc attribute x, stddev: run number = 16\n",
        "\n",
        "acqFuncApprox_exact_16 = acqFuncApprox(exact_16.history)\n",
        "acqFuncExact_exact_16 = acqFuncExact(exact_16.history)\n",
        "\n",
        "e16 = np.mean(acqFuncExact_exact_16)\n",
        "a16 = np.mean(acqFuncApprox_exact_16)\n",
        "\n",
        "e16, a16\n"
      ],
      "metadata": {
        "colab": {
          "base_uri": "https://localhost:8080/"
        },
        "id": "K_wAeqSoGu2j",
        "outputId": "b6b36e40-fc99-43ee-db4b-48c1af30a633"
      },
      "execution_count": 115,
      "outputs": [
        {
          "output_type": "execute_result",
          "data": {
            "text/plain": [
              "(2.0186669232538454, 2.9133998494831665)"
            ]
          },
          "metadata": {},
          "execution_count": 115
        }
      ]
    },
    {
      "cell_type": "code",
      "source": [
        "### acqFunc attribute x, stddev: run number = 17\n",
        "\n",
        "acqFuncApprox_exact_17 = acqFuncApprox(exact_17.history)\n",
        "acqFuncExact_exact_17 = acqFuncExact(exact_17.history)\n",
        "\n",
        "e17 = np.mean(acqFuncExact_exact_17)\n",
        "a17 = np.mean(acqFuncApprox_exact_17)\n",
        "\n",
        "e17, a17\n"
      ],
      "metadata": {
        "colab": {
          "base_uri": "https://localhost:8080/"
        },
        "id": "n6zy78fjGvBT",
        "outputId": "eb10ece5-d486-4ad9-c570-198ed1c197f7"
      },
      "execution_count": 116,
      "outputs": [
        {
          "output_type": "execute_result",
          "data": {
            "text/plain": [
              "(2.3884989354236974, 3.12962644129509)"
            ]
          },
          "metadata": {},
          "execution_count": 116
        }
      ]
    },
    {
      "cell_type": "code",
      "source": [
        "### acqFunc attribute x, stddev: run number = 18\n",
        "\n",
        "acqFuncApprox_exact_18 = acqFuncApprox(exact_18.history)\n",
        "acqFuncExact_exact_18 = acqFuncExact(exact_18.history)\n",
        "\n",
        "e18 = np.mean(acqFuncExact_exact_18)\n",
        "a18 = np.mean(acqFuncApprox_exact_18)\n",
        "\n",
        "e18, a18\n"
      ],
      "metadata": {
        "colab": {
          "base_uri": "https://localhost:8080/"
        },
        "id": "s_6_2K4iGvM-",
        "outputId": "0514a757-cb70-4544-974a-45b3bf41c1f1"
      },
      "execution_count": 117,
      "outputs": [
        {
          "output_type": "execute_result",
          "data": {
            "text/plain": [
              "(3.4255520104395423, 3.4327957298162453)"
            ]
          },
          "metadata": {},
          "execution_count": 117
        }
      ]
    },
    {
      "cell_type": "code",
      "source": [
        "### acqFunc attribute x, stddev: run number = 19\n",
        "\n",
        "acqFuncApprox_exact_19 = acqFuncApprox(exact_19.history)\n",
        "acqFuncExact_exact_19 = acqFuncExact(exact_19.history)\n",
        "\n",
        "e19 = np.mean(acqFuncExact_exact_19)\n",
        "a19 = np.mean(acqFuncApprox_exact_19)\n",
        "\n",
        "e19, a19\n"
      ],
      "metadata": {
        "colab": {
          "base_uri": "https://localhost:8080/"
        },
        "id": "o8oO8pdBGvYk",
        "outputId": "3485f2dd-0af7-44a0-a52d-9d6efda82987"
      },
      "execution_count": 118,
      "outputs": [
        {
          "output_type": "execute_result",
          "data": {
            "text/plain": [
              "(2.816500004053184, 3.3974230770381744)"
            ]
          },
          "metadata": {},
          "execution_count": 118
        }
      ]
    },
    {
      "cell_type": "code",
      "source": [
        "### acqFunc attribute x, stddev: run number = 20\n",
        "\n",
        "acqFuncApprox_exact_20 = acqFuncApprox(exact_20.history)\n",
        "acqFuncExact_exact_20 = acqFuncExact(exact_20.history)\n",
        "\n",
        "e20 = np.mean(acqFuncExact_exact_20)\n",
        "a20 = np.mean(acqFuncApprox_exact_20)\n",
        "\n",
        "e20, a20\n"
      ],
      "metadata": {
        "colab": {
          "base_uri": "https://localhost:8080/"
        },
        "id": "b2w8oLc0IMzU",
        "outputId": "34eeaa60-1aa9-4a02-ee15-f3f893e45619"
      },
      "execution_count": 119,
      "outputs": [
        {
          "output_type": "execute_result",
          "data": {
            "text/plain": [
              "(2.7160315960409998, 3.15343642024074)"
            ]
          },
          "metadata": {},
          "execution_count": 119
        }
      ]
    },
    {
      "cell_type": "code",
      "source": [
        "### Summarize arrays: \n",
        "\n",
        "exact_stddev = np.sort([e1,e2,e3,e4,e5,e6,e7,e8,e9,e10,e11,e12,e13,e14,e15,e16,e17,e18,e19,e20])\n",
        "approx_stddev = np.sort([a1,a2,a3,a4,a5,a6,a7,a8,a9,a10,a11,a12,a13,a14,a15,a16,a17,a18,a19,a20])\n",
        "\n",
        "np.mean(exact_stddev), np.mean(approx_stddev)\n"
      ],
      "metadata": {
        "colab": {
          "base_uri": "https://localhost:8080/"
        },
        "id": "qAZs3yxMIZul",
        "outputId": "4b4c9381-5cda-40a6-a830-b62d1aada5fd"
      },
      "execution_count": 120,
      "outputs": [
        {
          "output_type": "execute_result",
          "data": {
            "text/plain": [
              "(2.505216183079208, 3.0205010498223297)"
            ]
          },
          "metadata": {},
          "execution_count": 120
        }
      ]
    },
    {
      "cell_type": "code",
      "source": [
        "### Visualise!\n",
        "\n",
        "title = func\n",
        "plt.figure()\n",
        "\n",
        "plt.plot(approx_stddev, color = 'Purple', ls='-', label='Average $\\sigma$, attribute $\\mathbf{x}$: Approx GP CBM gradients')\n",
        "plt.plot(exact_stddev, color = 'Orange', ls='-.', label='Average $\\sigma$, attribute $\\mathbf{x}$: Exact GP dCBM gradients')\n",
        "\n",
        "plt.title(title, weight = 'bold')\n",
        "plt.xlabel('Function evaluations: iteration $\\it{k}$', weight = 'bold')\n",
        "plt.ylabel('GP CBM: Average $\\sigma$, attribute $\\mathbf{x}$', weight = 'bold') \n",
        "plt.legend(loc=0) # add plot legend\n",
        "\n",
        "### Make the x-ticks integers, not floats:\n",
        "count = len(xstar)\n",
        "plt.xticks(np.arange(count), np.arange(1, count))\n",
        "plt.show() #visualize!\n"
      ],
      "metadata": {
        "colab": {
          "base_uri": "https://localhost:8080/",
          "height": 297
        },
        "id": "e_kpqYcMIZxu",
        "outputId": "c521e5af-16d1-48d1-ac1a-a630b274d174"
      },
      "execution_count": 121,
      "outputs": [
        {
          "output_type": "display_data",
          "data": {
            "text/plain": [
              "<Figure size 432x288 with 1 Axes>"
            ],
            "image/png": "[encoded data removed]"
          },
          "metadata": {
            "needs_background": "light"
          }
        }
      ]
    },
    {
      "cell_type": "code",
      "source": [
        ""
      ],
      "metadata": {
        "id": "LToGd4vZIZ3I"
      },
      "execution_count": 121,
      "outputs": []
    }
  ],
  "metadata": {
    "colab": {
      "collapsed_sections": [],
      "name": "5_Beale_GP_dCBM.ipynb",
      "provenance": []
    },
    "kernelspec": {
      "display_name": "Python 3",
      "name": "python3"
    },
    "language_info": {
      "name": "python"
    }
  },
  "nbformat": 4,
  "nbformat_minor": 0
}