{
  "cells": [
    {
      "cell_type": "markdown",
      "metadata": {
        "id": "Dqn4dFx7Z2Ir"
      },
      "source": [
        "\n",
        "Rastrigin: 2D\n"
      ]
    },
    {
      "cell_type": "code",
      "execution_count": 1,
      "metadata": {
        "colab": {
          "base_uri": "https://localhost:8080/"
        },
        "id": "MJTM_GZZZb5x",
        "outputId": "9b420f06-369f-4b6d-9832-eafed2e81465"
      },
      "outputs": [
        {
          "output_type": "stream",
          "name": "stdout",
          "text": [
            "Looking in indexes: https://pypi.org/simple, https://us-python.pkg.dev/colab-wheels/public/simple/\n",
            "Collecting pyGPGO\n",
            "  Downloading pyGPGO-0.5.1.tar.gz (14 kB)\n",
            "Requirement already satisfied: numpy in /usr/local/lib/python3.7/dist-packages (from pyGPGO) (1.21.6)\n",
            "Requirement already satisfied: mkl in /usr/local/lib/python3.7/dist-packages (from pyGPGO) (2019.0)\n",
            "Requirement already satisfied: scipy in /usr/local/lib/python3.7/dist-packages (from pyGPGO) (1.7.3)\n",
            "Requirement already satisfied: joblib in /usr/local/lib/python3.7/dist-packages (from pyGPGO) (1.1.0)\n",
            "Requirement already satisfied: scikit-learn in /usr/local/lib/python3.7/dist-packages (from pyGPGO) (1.0.2)\n",
            "Requirement already satisfied: Theano-PyMC in /usr/local/lib/python3.7/dist-packages (from pyGPGO) (1.1.2)\n",
            "Requirement already satisfied: pyMC3 in /usr/local/lib/python3.7/dist-packages (from pyGPGO) (3.11.5)\n",
            "Requirement already satisfied: intel-openmp in /usr/local/lib/python3.7/dist-packages (from mkl->pyGPGO) (2022.1.0)\n",
            "Requirement already satisfied: deprecat in /usr/local/lib/python3.7/dist-packages (from pyMC3->pyGPGO) (2.1.1)\n",
            "Requirement already satisfied: semver>=2.13.0 in /usr/local/lib/python3.7/dist-packages (from pyMC3->pyGPGO) (2.13.0)\n",
            "Requirement already satisfied: patsy>=0.5.1 in /usr/local/lib/python3.7/dist-packages (from pyMC3->pyGPGO) (0.5.2)\n",
            "Requirement already satisfied: dill in /usr/local/lib/python3.7/dist-packages (from pyMC3->pyGPGO) (0.3.5.1)\n",
            "Requirement already satisfied: pandas>=0.24.0 in /usr/local/lib/python3.7/dist-packages (from pyMC3->pyGPGO) (1.3.5)\n",
            "Requirement already satisfied: arviz>=0.11.0 in /usr/local/lib/python3.7/dist-packages (from pyMC3->pyGPGO) (0.12.1)\n",
            "Requirement already satisfied: typing-extensions>=3.7.4 in /usr/local/lib/python3.7/dist-packages (from pyMC3->pyGPGO) (4.1.1)\n",
            "Requirement already satisfied: fastprogress>=0.2.0 in /usr/local/lib/python3.7/dist-packages (from pyMC3->pyGPGO) (1.0.3)\n",
            "Requirement already satisfied: cachetools>=4.2.1 in /usr/local/lib/python3.7/dist-packages (from pyMC3->pyGPGO) (4.2.4)\n",
            "Requirement already satisfied: filelock in /usr/local/lib/python3.7/dist-packages (from Theano-PyMC->pyGPGO) (3.7.1)\n",
            "Requirement already satisfied: setuptools>=38.4 in /usr/local/lib/python3.7/dist-packages (from arviz>=0.11.0->pyMC3->pyGPGO) (57.4.0)\n",
            "Requirement already satisfied: packaging in /usr/local/lib/python3.7/dist-packages (from arviz>=0.11.0->pyMC3->pyGPGO) (21.3)\n",
            "Requirement already satisfied: netcdf4 in /usr/local/lib/python3.7/dist-packages (from arviz>=0.11.0->pyMC3->pyGPGO) (1.6.0)\n",
            "Requirement already satisfied: xarray>=0.16.1 in /usr/local/lib/python3.7/dist-packages (from arviz>=0.11.0->pyMC3->pyGPGO) (0.20.2)\n",
            "Requirement already satisfied: xarray-einstats>=0.2 in /usr/local/lib/python3.7/dist-packages (from arviz>=0.11.0->pyMC3->pyGPGO) (0.2.2)\n",
            "Requirement already satisfied: matplotlib>=3.0 in /usr/local/lib/python3.7/dist-packages (from arviz>=0.11.0->pyMC3->pyGPGO) (3.2.2)\n",
            "Requirement already satisfied: cycler>=0.10 in /usr/local/lib/python3.7/dist-packages (from matplotlib>=3.0->arviz>=0.11.0->pyMC3->pyGPGO) (0.11.0)\n",
            "Requirement already satisfied: python-dateutil>=2.1 in /usr/local/lib/python3.7/dist-packages (from matplotlib>=3.0->arviz>=0.11.0->pyMC3->pyGPGO) (2.8.2)\n",
            "Requirement already satisfied: pyparsing!=2.0.4,!=2.1.2,!=2.1.6,>=2.0.1 in /usr/local/lib/python3.7/dist-packages (from matplotlib>=3.0->arviz>=0.11.0->pyMC3->pyGPGO) (3.0.9)\n",
            "Requirement already satisfied: kiwisolver>=1.0.1 in /usr/local/lib/python3.7/dist-packages (from matplotlib>=3.0->arviz>=0.11.0->pyMC3->pyGPGO) (1.4.4)\n",
            "Requirement already satisfied: pytz>=2017.3 in /usr/local/lib/python3.7/dist-packages (from pandas>=0.24.0->pyMC3->pyGPGO) (2022.1)\n",
            "Requirement already satisfied: six in /usr/local/lib/python3.7/dist-packages (from patsy>=0.5.1->pyMC3->pyGPGO) (1.15.0)\n",
            "Requirement already satisfied: importlib-metadata in /usr/local/lib/python3.7/dist-packages (from xarray>=0.16.1->arviz>=0.11.0->pyMC3->pyGPGO) (4.12.0)\n",
            "Requirement already satisfied: wrapt<2,>=1.10 in /usr/local/lib/python3.7/dist-packages (from deprecat->pyMC3->pyGPGO) (1.14.1)\n",
            "Requirement already satisfied: zipp>=0.5 in /usr/local/lib/python3.7/dist-packages (from importlib-metadata->xarray>=0.16.1->arviz>=0.11.0->pyMC3->pyGPGO) (3.8.1)\n",
            "Requirement already satisfied: cftime in /usr/local/lib/python3.7/dist-packages (from netcdf4->arviz>=0.11.0->pyMC3->pyGPGO) (1.6.1)\n",
            "Requirement already satisfied: threadpoolctl>=2.0.0 in /usr/local/lib/python3.7/dist-packages (from scikit-learn->pyGPGO) (3.1.0)\n",
            "Building wheels for collected packages: pyGPGO\n",
            "  Building wheel for pyGPGO (setup.py) ... \u001b[?25l\u001b[?25hdone\n",
            "  Created wheel for pyGPGO: filename=pyGPGO-0.5.1-py3-none-any.whl size=19879 sha256=f70c2194995d95a30079e44f2c055a88f90cff4656787d0e1c184af34b8ce9f4\n",
            "  Stored in directory: /root/.cache/pip/wheels/c8/5d/0b/2160114e2f1b87791c51b66cf07f89831dbb6f49167950316f\n",
            "Successfully built pyGPGO\n",
            "Installing collected packages: pyGPGO\n",
            "Successfully installed pyGPGO-0.5.1\n"
          ]
        }
      ],
      "source": [
        "pip install pyGPGO\n"
      ]
    },
    {
      "cell_type": "code",
      "execution_count": 2,
      "metadata": {
        "id": "ZJSSPbwPaEUB"
      },
      "outputs": [],
      "source": [
        "### Import:\n",
        "\n",
        "import numpy as np\n",
        "import scipy as sp\n",
        "import pandas as pd\n",
        "import matplotlib.pyplot as plt\n",
        "import warnings\n",
        "import itertools\n",
        "\n",
        "from pyGPGO.GPGO import GPGO\n",
        "from pyGPGO.surrogates.GaussianProcess import GaussianProcess\n",
        "from pyGPGO.acquisition import Acquisition\n",
        "from pyGPGO.covfunc import squaredExponential\n",
        "\n",
        "from joblib import Parallel, delayed\n",
        "from numpy.linalg import solve, cholesky\n",
        "from scipy.spatial.distance import cdist\n",
        "from scipy.optimize import minimize\n",
        "from scipy.stats import norm\n",
        "import time\n",
        "\n",
        "warnings.filterwarnings(\"ignore\", category=RuntimeWarning)\n"
      ]
    },
    {
      "cell_type": "code",
      "execution_count": 3,
      "metadata": {
        "id": "OeYcTUNoaJWa"
      },
      "outputs": [],
      "source": [
        "### Inputs:\n",
        "\n",
        "func = 'Rastrigin'\n",
        "n_test = 500\n",
        "eps = 1e-08\n",
        "\n",
        "util = 'CBM'\n",
        "\n",
        "n_init = 5 # random initialisations\n",
        "iters = 20\n",
        "opt = True"
      ]
    },
    {
      "cell_type": "code",
      "execution_count": 4,
      "metadata": {
        "id": "xpaEOjdzaPMS"
      },
      "outputs": [],
      "source": [
        "### Objective Function - Rastrigin(x) 2-D:\n",
        "\n",
        "def objfunc(x1_training, x2_training):\n",
        "        return  operator * (10 * dim + x1_training** 2 - 10 * np.cos(2 * np.pi * x1_training)\n",
        "                                    + x2_training** 2 - 10 * np.cos(2 * np.pi * x2_training)\n",
        "                          )\n",
        "            \n",
        "# Constraints:\n",
        "lb = -5.12 \n",
        "ub = +5.12\n",
        "    \n",
        "# Input array dimension(s):\n",
        "dim = 2\n",
        "\n",
        "# 2-D inputs' parameter bounds:\n",
        "param = {'x1_training': ('cont', [lb, ub]),\n",
        "             'x2_training': ('cont', [lb, ub])}\n",
        "\n",
        "# True y bounds:\n",
        "operator = -1\n",
        "y_global_orig = 0 # targets global minimum\n",
        "\n",
        "# Test data:\n",
        "x1_test = np.linspace(lb, ub, n_test) \n",
        "x2_test = np.linspace(lb, ub, n_test)\n",
        "  \n",
        "x_test = np.column_stack((x1_test,x2_test))\n"
      ]
    },
    {
      "cell_type": "code",
      "execution_count": 5,
      "metadata": {
        "id": "eYpI3Zm4aGxi"
      },
      "outputs": [],
      "source": [
        "n_start_AcqFunc = iters\n",
        "inverse = -1\n"
      ]
    },
    {
      "cell_type": "code",
      "execution_count": 6,
      "metadata": {
        "id": "oO_GUmOoaV0T"
      },
      "outputs": [],
      "source": [
        "### Cumulative Regret Calculators:\n",
        "\n",
        "def min_max_array(x):\n",
        "    new_list = []\n",
        "    for i, num in enumerate(x):\n",
        "            new_list.append(np.min(x[0:i+1]))\n",
        "    return new_list\n",
        "  \n",
        "def acqFuncExact(x):\n",
        "    new_array = []\n",
        "    x = np.array(x) \n",
        "    for i, num in enumerate(x):\n",
        "            new_array = x[:-2][::-3]\n",
        "    return new_array[::-1]\n",
        "\n",
        "def acqFuncApprox(x):\n",
        "    new_array = []\n",
        "    x = np.array(x) \n",
        "    for i, num in enumerate(x):\n",
        "            new_array = x[:-1][::-3]\n",
        "    return new_array[::-1]\n"
      ]
    },
    {
      "cell_type": "code",
      "execution_count": 7,
      "metadata": {
        "id": "kuuJx0IMam9S"
      },
      "outputs": [],
      "source": [
        "### Surrogate derivatives: \n",
        "\n",
        "cov_func = squaredExponential()\n",
        "\n",
        "def kronDelta(X, Xstar):                     # Kronecker's Delta method\n",
        "    return cdist(X, Xstar) < np.finfo(np.float32).eps\n",
        "\n",
        "def se(X, Xstar, sigmaf, l, sigman):         # S.E. kernel method\n",
        "    return sigmaf * np.exp(-0.5 * cdist(X, Xstar) ** 2 / l ** 2) + sigman * kronDelta(X, Xstar)\n",
        "\n",
        "def delta(X, Xstar):                         # Distance between training X and test Xstar vectors\n",
        "    return (X - Xstar)\n",
        "   \n",
        "def der_covmat(X, Xstar, sigmaf, l, sigman): # Covariance matrix derivative terms (i.e. exact, first-order)\n",
        "    nx = len(X)\n",
        "    ny = len(Xstar)\n",
        "    return np.round(np.array([(delta(np.atleast_2d(i), np.atleast_2d(j))[0] * se(np.atleast_2d(i), np.atleast_2d(j), sigmaf, l, sigman)[0]).sum() for (i, j) in itertools.product(X, Xstar)]).reshape(nx, ny), 8)\n",
        "\n",
        "class dGaussianProcess(GaussianProcess):    # Via inheritance, also optimises hyperparameters when opt = TRUE\n",
        "    \n",
        "    def AcqGrad(self, Xstar):               # Method returning exact, first-order derivatives of the GP's posterior mean and standard deviation\n",
        "        Xstar = np.atleast_2d(Xstar)\n",
        "        Kstar = self.covfunc.K(self.X, Xstar).T\n",
        "        \n",
        "        dKstar = der_covmat(self.X, Xstar, self.covfunc.sigmaf, self.covfunc.l, self.covfunc.sigman).T\n",
        "        alpha_Kstar = np.dot(np.linalg.inv(self.K + (self.covfunc.sigman**2) * np.eye(len(self.X))), Kstar.T)\n",
        "        \n",
        "        dm = np.dot(dKstar, self.alpha)\n",
        "        ds = -2 * np.dot(dKstar, alpha_Kstar)\n",
        "        \n",
        "        return dm, ds           \n"
      ]
    },
    {
      "cell_type": "code",
      "execution_count": 8,
      "metadata": {
        "id": "_Dc3YVHVaXz7"
      },
      "outputs": [],
      "source": [
        "### Add exact acquisition function gradient as attribute:\n",
        "\n",
        "Beta_CBM = dim\n",
        "\n",
        "class Acquisition_grad(Acquisition):    \n",
        "    def __init__(self, mode, eps=eps, **params):\n",
        "        \n",
        "        self.params = params\n",
        "        self.eps = eps\n",
        "\n",
        "        mode_dict = {\n",
        "            'CBM': self.CBM\n",
        "        }\n",
        "\n",
        "        self.f = mode_dict[mode]\n",
        "    \n",
        "    def CBM(self, y_global_orig, mean, std, ds, dm):\n",
        "        gamma = (mean - y_global_orig - self.eps) / (std + self.eps)\n",
        "        gamma_h = (mean - y_global_orig) / (std + self.eps)\n",
        "        dsdx = ds / (2 * (std + self.eps))\n",
        "        dmdx = (dm - gamma * dsdx) / (std + self.eps)\n",
        "\n",
        "        f = (std + self.eps) * (gamma + np.sqrt(Beta_CBM))\n",
        "        df = dsdx * (gamma + np.sqrt(Beta_CBM)) + (std + self.eps) * dmdx\n",
        "        df_arr = []\n",
        "\n",
        "        for j in range(0, dim):\n",
        "          df_arr.append(df)\n",
        "        return f, np.asarray(df_arr).transpose()\n",
        "\n",
        "        for j in range(0, dim):\n",
        "          df_arr.append(df)\n",
        "        return f, np.asarray(df_arr).transpose()\n",
        "        \n",
        "    def d_eval(self, y_global_orig, mean, std, ds, dm):\n",
        "    \n",
        "        return self.f(y_global_orig, mean, std, ds, dm, **self.params)\n",
        "        "
      ]
    },
    {
      "cell_type": "code",
      "execution_count": 9,
      "metadata": {
        "id": "PITEQC8YSl7i"
      },
      "outputs": [],
      "source": [
        "## GPGO_multi: \n",
        "\n",
        "class GPGO_multi(GPGO):\n",
        "    n_start = n_start_AcqFunc\n",
        "\n",
        "    def __init__(self, surrogate, acquisition, f, parameter_dict, n_jobs=1):\n",
        "        self.GP = surrogate\n",
        "        self.A = acquisition\n",
        "        self.f = f\n",
        "        self.parameters = parameter_dict\n",
        "        self.n_jobs = n_jobs\n",
        "\n",
        "        self.parameter_key = list(parameter_dict.keys())\n",
        "        self.parameter_value = list(parameter_dict.values())\n",
        "        self.parameter_type = [p[0] for p in self.parameter_value]\n",
        "        self.parameter_range = [p[1] for p in self.parameter_value]\n",
        "\n",
        "        self.history = []\n",
        "        self.header =   'Evaluation \\t Proposed point \\t  Current eval. \\t  Best eval. \\t        Exact EI: StdDev. x \\t Approx EI: StdDev. x '\n",
        "        self.template = '{:3}\\t {}\\t {:3}\\t {:3}\\t {:3}\\t {:3}'\n",
        " \n",
        "    def acqfuncExact(self, xnew, n_start=n_start_AcqFunc):\n",
        "        new_mean, new_var = self.GP.predict(xnew, return_std=True)\n",
        "        new_std = np.sqrt(new_var + eps)\n",
        "        dm, ds = self.GP.AcqGrad(xnew)\n",
        "        f, df = self.A.d_eval(y_global_orig, new_mean, new_std, ds=ds, dm=dm)\n",
        "\n",
        "        return -f, -df\n",
        "   \n",
        "    def acqfuncApprox(self, xnew, n_start=n_start_AcqFunc):\n",
        "        new_mean, new_var = self.GP.predict(xnew, return_std=True)\n",
        "        new_std = np.sqrt(new_var + eps)\n",
        "        dm, ds = self.GP.AcqGrad(xnew)\n",
        "        f, df = self.A.d_eval(y_global_orig, new_mean, new_std, ds=ds, dm=dm)\n",
        "\n",
        "        return -f\n",
        "   \n",
        "    def _optimizeAcq(self, method='L-BFGS-B', n_start=n_start_AcqFunc):\n",
        "        \n",
        "        start_points_dict = [self._sampleParam() for i in range(n_start)]\n",
        "        start_points_arr = np.array([list(s.values())\n",
        "                                     for s in start_points_dict])\n",
        "        x_best = np.empty((n_start, len(self.parameter_key)))\n",
        "        f_best = np.empty((n_start,))\n",
        "        opt = Parallel(n_jobs=self.n_jobs)(delayed(minimize)(self.acqfuncApprox,\n",
        "                                                                 x0=start_point,\n",
        "                                                                 method=method,\n",
        "                                                                 jac = False,\n",
        "                                                                 bounds=self.parameter_range) for start_point in\n",
        "                                               start_points_arr)\n",
        "        x_best = np.array([res.x for res in opt])\n",
        "        f_best = np.array([np.atleast_1d(res.fun)[0] for res in opt])\n",
        "        f_best_min = min(f_best)\n",
        "\n",
        "        self.x_best = x_best\n",
        "        self.f_best = f_best\n",
        "        self.f_best_min = f_best_min\n",
        "        self.x_best_std = np.std(x_best)\n",
        "        self.best = x_best[np.argmin(f_best)]\n",
        "        self.start_points_arr = start_points_arr        \n",
        "        self.history.append(self.x_best_std)\n",
        "\n",
        "        x_best_exact = np.empty((n_start, len(self.parameter_key)))\n",
        "        f_best_exact = np.empty((n_start,))\n",
        "        opt_exact = Parallel(n_jobs=self.n_jobs)(delayed(minimize)(self.acqfuncExact,\n",
        "                                                                 x0=start_point,\n",
        "                                                                 method=method,\n",
        "                                                                 jac = True,\n",
        "                                                                 bounds=self.parameter_range) for start_point in\n",
        "                                               start_points_arr)\n",
        "        x_best_exact = np.array([res.x for res in opt_exact])\n",
        "        f_best_exact = np.array([np.atleast_1d(res.fun)[0] for res in opt_exact])\n",
        "        f_best_min_exact = min(f_best_exact)\n",
        "\n",
        "        self.x_best_exact = x_best_exact\n",
        "        self.f_best_exact = f_best_exact\n",
        "        self.f_best_min_exact = f_best_min_exact\n",
        "        self.x_best_std_exact = np.std(x_best_exact)\n",
        "        self.best_exact = x_best_exact[np.argmin(f_best_exact)]\n",
        "        self.start_points_arr = start_points_arr\n",
        "        self.history.append(self.x_best_std_exact)\n",
        "\n",
        "    def _printInit(self):\n",
        "        print(self.header)\n",
        "        for init_eval in range(self.init_evals):\n",
        "            print(self.template.format('init', self.GP.X[init_eval], inverse * self.GP.y[init_eval], inverse * self.tau, '', ''))\n",
        "      \n",
        "    def _printCurrent(self):\n",
        "        OKGREEN = '\\033[92m'\n",
        "        ENDC = '\\033[0m'\n",
        "        BOLD = '\\033[1m'\n",
        "        eval = str(len(self.GP.y) - self.init_evals)\n",
        "        proposed = str(self.best)\n",
        "        curr_eval = str(inverse * self.GP.y[-1])\n",
        "        curr_best = str(inverse * self.tau)\n",
        "        min_acqfunc = str(self.f_best_min)\n",
        "        min_acqfunc_exact = str(self.f_best_min_exact)\n",
        "        x_best_std = str(self.x_best_std)\n",
        "        x_best_std_exact = str(self.x_best_std_exact)\n",
        "        if float(curr_eval) <= float(curr_best):\n",
        "            eval = BOLD + OKGREEN + eval + ENDC\n",
        "            proposed = BOLD + OKGREEN + proposed + ENDC\n",
        "            curr_eval = BOLD + OKGREEN + curr_eval + ENDC\n",
        "            curr_best = BOLD + OKGREEN + curr_best + ENDC\n",
        "            x_best_std = BOLD + OKGREEN + x_best_std + ENDC\n",
        "            x_best_std_exact = BOLD + OKGREEN + x_best_std_exact + ENDC\n",
        "        print(self.template.format(eval, proposed, curr_eval, curr_best, x_best_std_exact, x_best_std))\n",
        "        \n",
        "    def run(self, max_iter=10, init_evals=3, resume=False):\n",
        "        \n",
        "        if not resume:\n",
        "            self.init_evals = init_evals\n",
        "            self._firstRun(self.init_evals)\n",
        "            self._printInit()\n",
        "        for iteration in range(max_iter):\n",
        "            self._optimizeAcq()\n",
        "            self.updateGP()\n",
        "            self._printCurrent()\n"
      ]
    },
    {
      "cell_type": "code",
      "execution_count": 10,
      "metadata": {
        "id": "b_B-w81BJxKN"
      },
      "outputs": [],
      "source": [
        "## dGPGO:\n",
        "\n",
        "class dGPGO(GPGO):\n",
        "    n_start = n_start_AcqFunc\n",
        "\n",
        "    def __init__(self, surrogate, acquisition, f, parameter_dict, n_jobs=1):\n",
        "        self.GP = surrogate\n",
        "        self.A = acquisition\n",
        "        self.f = f\n",
        "        self.parameters = parameter_dict\n",
        "        self.n_jobs = n_jobs\n",
        "\n",
        "        self.parameter_key = list(parameter_dict.keys())\n",
        "        self.parameter_value = list(parameter_dict.values())\n",
        "        self.parameter_type = [p[0] for p in self.parameter_value]\n",
        "        self.parameter_range = [p[1] for p in self.parameter_value]\n",
        "\n",
        "        self.history = []\n",
        "        self.header =   'Evaluation \\t Proposed point \\t  Current eval. \\t  Best eval. \\t        Exact EI: StdDev. x \\t Approx EI: StdDev. x '\n",
        "        self.template = '{:3}\\t {}\\t {:3}\\t {:3}\\t {:3}\\t {:3}'\n",
        "\n",
        "    def acqfuncExact(self, xnew, n_start=n_start_AcqFunc):\n",
        "        new_mean, new_var = self.GP.predict(xnew, return_std=True)\n",
        "        new_std = np.sqrt(new_var + eps)\n",
        "        dm, ds = self.GP.AcqGrad(xnew)\n",
        "        f, df = self.A.d_eval(y_global_orig, new_mean, new_std, ds=ds, dm=dm)\n",
        "\n",
        "        return -f, -df\n",
        "   \n",
        "    def acqfuncApprox(self, xnew, n_start=n_start_AcqFunc):\n",
        "        new_mean, new_var = self.GP.predict(xnew, return_std=True)\n",
        "        new_std = np.sqrt(new_var + eps)\n",
        "        dm, ds = self.GP.AcqGrad(xnew)\n",
        "        f, df = self.A.d_eval(y_global_orig, new_mean, new_std, ds=ds, dm=dm)\n",
        "\n",
        "        return -f\n",
        "\n",
        "    def d_optimizeAcq(self, method='L-BFGS-B', n_start=n_start_AcqFunc):\n",
        "        start_points_dict = [self._sampleParam() for i in range(n_start)]\n",
        "        start_points_arr = np.array([list(s.values())\n",
        "                                     for s in start_points_dict])\n",
        "        x_best = np.empty((n_start, len(self.parameter_key)))\n",
        "        f_best = np.empty((n_start,))\n",
        "        opt = Parallel(n_jobs=self.n_jobs)(delayed(minimize)(self.acqfuncExact,\n",
        "                                                                 x0=start_point,\n",
        "                                                                 method=method,\n",
        "                                                                 jac = True,\n",
        "                                                                 bounds=self.parameter_range) for start_point in\n",
        "                                               start_points_arr)\n",
        "        x_best = np.array([res.x for res in opt])\n",
        "        f_best = np.array([np.atleast_1d(res.fun)[0] for res in opt])\n",
        "        f_best_min = min(f_best)\n",
        "\n",
        "        self.x_best = x_best\n",
        "        self.f_best = f_best\n",
        "        self.f_best_min = f_best_min\n",
        "        self.x_best_std = np.std(x_best)\n",
        "        self.best = x_best[np.argmin(f_best)]\n",
        "        self.start_points_arr = start_points_arr\n",
        "        self.history.append(self.x_best_std)\n",
        "\n",
        "        x_best_approx = np.empty((n_start, len(self.parameter_key)))\n",
        "        f_best_approx = np.empty((n_start,))\n",
        "        opt_approx = Parallel(n_jobs=self.n_jobs)(delayed(minimize)(self.acqfuncApprox,\n",
        "                                                                 x0=start_point,\n",
        "                                                                 method=method,\n",
        "                                                                 jac = False,\n",
        "                                                                 bounds=self.parameter_range) for start_point in\n",
        "                                               start_points_arr)\n",
        "        x_best_approx = np.array([res.x for res in opt_approx])\n",
        "        f_best_approx = np.array([np.atleast_1d(res.fun)[0] for res in opt_approx])\n",
        "        f_best_min_approx = min(f_best_approx)\n",
        "\n",
        "        self.x_best_approx = x_best_approx\n",
        "        self.f_best_approx = f_best_approx\n",
        "        self.f_best_min_approx = f_best_min_approx\n",
        "        self.x_best_std_approx = np.std(x_best_approx)\n",
        "        self.best_approx = x_best_approx[np.argmin(f_best_approx)]\n",
        "        self.start_points_arr = start_points_arr\n",
        "        self.history.append(self.x_best_std_approx)\n",
        "    \n",
        "    def _printInit(self):\n",
        "        print(self.header)\n",
        "        for init_eval in range(self.init_evals):\n",
        "            print(self.template.format('init', self.GP.X[init_eval], inverse * self.GP.y[init_eval], inverse * self.tau, '', ''))\n",
        "      \n",
        "    def _printCurrent(self):\n",
        "        OKGREEN = '\\033[92m'\n",
        "        ENDC = '\\033[0m'\n",
        "        BOLD = '\\033[1m'\n",
        "        eval = str(len(self.GP.y) - self.init_evals)\n",
        "        proposed = str(self.best)\n",
        "        curr_eval = str(inverse * self.GP.y[-1])\n",
        "        curr_best = str(inverse * self.tau)\n",
        "        min_acqfunc = str(self.f_best_min)\n",
        "        min_acqfunc_approx = str(self.f_best_min_approx)\n",
        "        x_best_std = str(self.x_best_std)\n",
        "        x_best_std_approx = str(self.x_best_std_approx)\n",
        "        if float(curr_eval) <= float(curr_best):\n",
        "            eval = BOLD + OKGREEN + eval + ENDC\n",
        "            proposed = BOLD + OKGREEN + proposed + ENDC\n",
        "            curr_eval = BOLD + OKGREEN + curr_eval + ENDC\n",
        "            curr_best = BOLD + OKGREEN + curr_best + ENDC\n",
        "            x_best_std = BOLD + OKGREEN + x_best_std + ENDC\n",
        "            x_best_std_approx = BOLD + OKGREEN + x_best_std_approx + ENDC\n",
        "        print(self.template.format(eval, proposed, curr_eval, curr_best, x_best_std, x_best_std_approx))\n",
        "\n",
        "    def run(self, max_iter=10, init_evals=3, resume=False):\n",
        "        \n",
        "        if not resume:\n",
        "            self.init_evals = init_evals\n",
        "            self._firstRun(self.init_evals)\n",
        "            self._printInit()\n",
        "        for iteration in range(max_iter):\n",
        "            self.d_optimizeAcq()\n",
        "            self.updateGP()\n",
        "            self._printCurrent()\n"
      ]
    },
    {
      "cell_type": "code",
      "execution_count": 11,
      "metadata": {
        "id": "qXIKGuXVGEg2"
      },
      "outputs": [],
      "source": [
        "###Reproducible set-seeds:\n",
        "\n",
        "run_num_1 = 1\n",
        "run_num_2 = 2\n",
        "run_num_3 = 3\n",
        "run_num_4 = 4\n",
        "run_num_5 = 5\n",
        "run_num_6 = 6\n",
        "run_num_7 = 7\n",
        "run_num_8 = 8\n",
        "run_num_9 = 9\n",
        "run_num_10 = 10\n",
        "run_num_11 = 11\n",
        "run_num_12 = 12\n",
        "run_num_13 = 13\n",
        "run_num_14 = 14\n",
        "run_num_15 = 15\n",
        "run_num_16 = 16\n",
        "run_num_17 = 17\n",
        "run_num_18 = 18\n",
        "run_num_19 = 19\n",
        "run_num_20 = 20\n"
      ]
    },
    {
      "cell_type": "code",
      "execution_count": 12,
      "metadata": {
        "colab": {
          "base_uri": "https://localhost:8080/"
        },
        "id": "JEhagQmnTVIK",
        "outputId": "e426b6af-4b06-464b-8ffa-5b93ce2a2c3b"
      },
      "outputs": [
        {
          "output_type": "execute_result",
          "data": {
            "text/plain": [
              "1659628018.071399"
            ]
          },
          "metadata": {},
          "execution_count": 12
        }
      ],
      "source": [
        "start_approx = time.time()\n",
        "start_approx\n"
      ]
    },
    {
      "cell_type": "code",
      "execution_count": 13,
      "metadata": {
        "colab": {
          "base_uri": "https://localhost:8080/"
        },
        "id": "aH0YSTXufD1v",
        "outputId": "a6db23e2-ee7e-4c8d-fe51-386ee2a904bb"
      },
      "outputs": [
        {
          "output_type": "stream",
          "name": "stdout",
          "text": [
            "Evaluation \t Proposed point \t  Current eval. \t  Best eval. \t        Exact EI: StdDev. x \t Approx EI: StdDev. x \n",
            "init\t [-0.84969467  2.25612281]\t 20.33436270766351\t 19.908403246996286\t    \t    \n",
            "init\t [-5.1188288  -2.02411446]\t 33.07414982069084\t 19.908403246996286\t    \t    \n",
            "init\t [-3.61721968 -4.17445279]\t 53.347974723929894\t 19.908403246996286\t    \t    \n",
            "init\t [-3.21269544 -1.58145816]\t 39.218472310354045\t 19.908403246996286\t    \t    \n",
            "init\t [-1.05710106  0.39748336]\t 19.908403246996286\t 19.908403246996286\t    \t    \n",
            "1  \t [ 5.12 -5.12]\t 57.849427451571785\t 19.908403246996286\t 3.9761379307136067\t 4.416824073979648\n",
            "2  \t [4.59394822 5.12      ]\t 68.33684417028886\t 19.908403246996286\t 3.6221068700095436\t 3.691127793971507\n",
            "3  \t [-5.12  5.12]\t 57.849427451571785\t 19.908403246996286\t 3.462542007561263\t 4.063255479029302\n",
            "4  \t [ 4.14528593 -0.05919396]\t 21.755745329140865\t 19.908403246996286\t 3.6522126255608103\t 3.6793768536408855\n",
            "5  \t [ 0.90020685 -3.68907863]\t 30.056880728903238\t 19.908403246996286\t 3.0248389697847586\t 3.1809395564161154\n",
            "6  \t [0.71475953 5.12      ]\t 41.63177027237618\t 19.908403246996286\t 2.6949292619688405\t 3.5473313656712726\n",
            "7  \t [-5.12        1.53252774]\t 51.06522952946261\t 19.908403246996286\t 3.3694173064552877\t 3.5376402722913594\n",
            "8  \t [2.30117011 2.20921596]\t 30.80144374828164\t 19.908403246996286\t 3.4449058037392435\t 3.5606132782312265\n",
            "9  \t [ 1.42550374 -0.86684874]\t 25.008073894007726\t 19.908403246996286\t 2.9130299253863488\t 3.6588299889315996\n",
            "10 \t [-2.15449206  5.12      ]\t 37.91934866261714\t 19.908403246996286\t 3.660986709954993\t 3.710234691378296\n",
            "11 \t [ 5.12       -2.24614713]\t 43.7278311565232\t 19.908403246996286\t 2.714550489547571\t 3.3274610542869256\n",
            "12 \t [5.12       2.17617344]\t 39.18635600959819\t 19.908403246996286\t 3.193950837892107\t 3.218092951306541\n",
            "13 \t [-1.04416006 -5.12      ]\t 30.397457068039564\t 19.908403246996286\t 2.452874661137139\t 2.616329043251572\n",
            "14 \t [ 2.49582906 -5.12      ]\t 55.150442614668776\t 19.908403246996286\t 2.9877730150232034\t 3.1435290144001207\n",
            "\u001b[1m\u001b[92m15\u001b[0m\t \u001b[1m\u001b[92m[-0.83054326 -2.11911638]\u001b[0m\t \u001b[1m\u001b[92m13.005456785525656\u001b[0m\t \u001b[1m\u001b[92m13.005456785525656\u001b[0m\t \u001b[1m\u001b[92m3.073965017206515\u001b[0m\t \u001b[1m\u001b[92m2.8009862314659895\u001b[0m\n",
            "16 \t [-2.91305305  2.67469773]\t 31.652198406578982\t 13.005456785525656\t 3.274409762481895\t 2.992553443585045\n",
            "17 \t [ 2.8231677  -2.40409753]\t 37.55173347997516\t 13.005456785525656\t 2.779908893402816\t 2.4244873790092925\n",
            "18 \t [-5.12 -5.12]\t 57.849427451571785\t 13.005456785525656\t 3.5993623794530487\t 3.198000815432522\n",
            "\u001b[1m\u001b[92m19\u001b[0m\t \u001b[1m\u001b[92m[0.73549165 0.97238856]\u001b[0m\t \u001b[1m\u001b[92m12.546924950217713\u001b[0m\t \u001b[1m\u001b[92m12.546924950217713\u001b[0m\t \u001b[1m\u001b[92m2.7666126000217255\u001b[0m\t \u001b[1m\u001b[92m2.5327514717611845\u001b[0m\n",
            "20 \t [-2.88108813  0.48465478]\t 31.152796614876316\t 12.546924950217713\t 2.7023560455903457\t 3.083337725044421\n"
          ]
        }
      ],
      "source": [
        "### ESTIMATED GP EI GRADIENTS\n",
        "\n",
        "np.random.seed(run_num_1)\n",
        "surrogate_approx_1 = dGaussianProcess(cov_func, optimize=opt)\n",
        "\n",
        "approx_1 = GPGO_multi(surrogate_approx_1, Acquisition_grad(util), objfunc, param)\n",
        "approx_1.run(init_evals=n_init, max_iter=iters)\n"
      ]
    },
    {
      "cell_type": "code",
      "execution_count": 14,
      "metadata": {
        "id": "wTxsSZxFGBB5",
        "colab": {
          "base_uri": "https://localhost:8080/"
        },
        "outputId": "3a4eaa17-6c93-40bf-9f26-aa05cf67cff7"
      },
      "outputs": [
        {
          "output_type": "stream",
          "name": "stdout",
          "text": [
            "Evaluation \t Proposed point \t  Current eval. \t  Best eval. \t        Exact EI: StdDev. x \t Approx EI: StdDev. x \n",
            "init\t [-0.6554122  -4.85451539]\t 43.490296251903594\t 18.964539418712707\t    \t    \n",
            "init\t [ 0.50854377 -0.6622987 ]\t 35.91861667536101\t 18.964539418712707\t    \t    \n",
            "init\t [-0.81543371 -1.73737143]\t 20.479562046739524\t 18.964539418712707\t    \t    \n",
            "init\t [-3.02439799  1.2213347 ]\t 18.964539418712707\t 18.964539418712707\t    \t    \n",
            "init\t [-2.05153614 -2.3876887 ]\t 28.041315668371354\t 18.964539418712707\t    \t    \n",
            "1  \t [ 5.12 -5.12]\t 57.849427451571785\t 18.964539418712707\t 4.1050546592081405\t 4.484021420452111\n",
            "2  \t [5.12 5.12]\t 57.849427451571785\t 18.964539418712707\t 3.6832691030712525\t 3.53974813171363\n",
            "3  \t [-0.0946425  5.12     ]\t 30.650260360686417\t 18.964539418712707\t 3.6036586724254835\t 4.0358727579311715\n",
            "4  \t [5.12       0.07753239]\t 30.09402107420199\t 18.964539418712707\t 3.668276331069636\t 4.1794630937127035\n",
            "5  \t [-5.12  5.12]\t 57.849427451571785\t 18.964539418712707\t 3.6946431140493767\t 3.631671091252216\n",
            "6  \t [-5.12 -5.12]\t 57.849427451571785\t 18.964539418712707\t 3.3290176650906274\t 3.4865245659024424\n",
            "7  \t [2.34176101 2.4833454 ]\t 47.04750789871114\t 18.964539418712707\t 3.0022028218364487\t 3.2181766225271144\n",
            "8  \t [-5.12       -1.23379878]\t 39.43077735022714\t 18.964539418712707\t 2.7852783087362516\t 3.2455786631530046\n",
            "9  \t [ 2.61406616 -2.99768657]\t 33.36030687229024\t 18.964539418712707\t 3.1247202210492206\t 3.037744091411326\n",
            "10 \t [-0.74455842  2.31158021]\t 30.012985568511706\t 18.964539418712707\t 2.8947312620170917\t 3.307044933310165\n",
            "11 \t [-5.12        2.08293299]\t 34.590519921542345\t 18.964539418712707\t 2.965741282024903\t 3.490063337697398\n",
            "12 \t [-2.52829404  4.35773846]\t 61.48866084304967\t 18.964539418712707\t 3.0522285616370106\t 3.107031835231327\n",
            "13 \t [ 5.12       -2.32633808]\t 48.95121652520781\t 18.964539418712707\t 3.0682478304988847\t 3.356320584806262\n",
            "14 \t [2.36253412 5.12      ]\t 51.00239148757802\t 18.964539418712707\t 3.4629674346299684\t 3.4291376488240095\n",
            "15 \t [5.12       2.42988904]\t 53.87437436587362\t 18.964539418712707\t 2.7253957131841613\t 2.893793492339722\n",
            "16 \t [ 2.0141502 -5.12     ]\t 33.02101219216746\t 18.964539418712707\t 2.5886993354484407\t 2.9149222187514017\n",
            "17 \t [ 2.83795629 -0.24257162]\t 22.39685853023921\t 18.964539418712707\t 2.4965843023245147\t 2.4374980807154323\n",
            "18 \t [-2.80466408 -5.12      ]\t 43.42334128052512\t 18.964539418712707\t 2.4445907711806023\t 2.7224472591255577\n",
            "19 \t [-2.25233749 -0.20567447]\t 22.512999148598624\t 18.964539418712707\t 2.2256663805946864\t 2.2563033088409923\n",
            "20 \t [-4.00153955 -2.95327794]\t 25.162448763317887\t 18.964539418712707\t 2.7344536257389533\t 2.7043478355075345\n"
          ]
        }
      ],
      "source": [
        "### ESTIMATED GP EI GRADIENTS\n",
        "\n",
        "np.random.seed(run_num_2)\n",
        "surrogate_approx_2 = dGaussianProcess(cov_func, optimize=opt)\n",
        "\n",
        "approx_2 = GPGO_multi(surrogate_approx_2, Acquisition_grad(util), objfunc, param)\n",
        "approx_2.run(init_evals=n_init, max_iter=iters)\n"
      ]
    },
    {
      "cell_type": "code",
      "execution_count": 15,
      "metadata": {
        "id": "-dgzIrUIGCGT",
        "colab": {
          "base_uri": "https://localhost:8080/"
        },
        "outputId": "c39a778e-f4df-4585-fb56-142f32eddad5"
      },
      "outputs": [
        {
          "output_type": "stream",
          "name": "stdout",
          "text": [
            "Evaluation \t Proposed point \t  Current eval. \t  Best eval. \t        Exact EI: StdDev. x \t Approx EI: StdDev. x \n",
            "init\t [0.52017052 2.1314337 ]\t 27.953858411008774\t 10.607662635789808\t    \t    \n",
            "init\t [-2.14113547  0.11087468]\t 10.607662635789808\t 10.607662635789808\t    \t    \n",
            "init\t [4.02377681 4.05804123]\t 33.42749829480097\t 10.607662635789808\t    \t    \n",
            "init\t [-3.83400642 -2.99783293]\t 28.650953928965198\t 10.607662635789808\t    \t    \n",
            "init\t [-4.59297584 -0.6061072 ]\t 57.6631355589384\t 10.607662635789808\t    \t    \n",
            "1  \t [ 5.12       -3.43858851]\t 60.0133564977301\t 10.607662635789808\t 2.6573005929159668\t 3.8554081240475573\n",
            "2  \t [-5.12  5.12]\t 57.849427451571785\t 10.607662635789808\t 3.270469260381876\t 4.150968746937335\n",
            "3  \t [ 0.45250054 -5.12      ]\t 48.68741063509678\t 10.607662635789808\t 3.219083907482148\t 3.7300801150739185\n",
            "4  \t [5.12       0.47968842]\t 49.073489003631465\t 10.607662635789808\t 3.850428225694925\t 3.373544826560725\n",
            "5  \t [ 1.48148454 -1.42819346]\t 43.16629817283544\t 10.607662635789808\t 3.7463452904628416\t 3.5703097687228547\n",
            "6  \t [-1.23868109  5.12      ]\t 39.74845606121573\t 10.607662635789808\t 4.270830919235159\t 3.6897043457763288\n",
            "7  \t [-3.18963064  2.50554935]\t 42.74262968748607\t 10.607662635789808\t 3.6193691081324313\t 3.795363128867563\n",
            "8  \t [-5.12 -5.12]\t 57.849427451571785\t 10.607662635789808\t 3.9574417509801894\t 3.554673430190359\n",
            "9  \t [1.57484762 5.12      ]\t 50.319266466211516\t 10.607662635789808\t 3.027790181748628\t 3.3617969335874083\n",
            "10 \t [-1.23292716 -2.44156191]\t 35.74411527295635\t 10.607662635789808\t 2.9817942862301017\t 3.4451066632738603\n",
            "11 \t [ 3.10358877 -5.12      ]\t 40.60139150266974\t 10.607662635789808\t 3.666858271034356\t 3.764476900800898\n",
            "12 \t [-2.25361456 -5.12      ]\t 44.23058259404222\t 10.607662635789808\t 3.2826760241100983\t 3.2044076517859463\n",
            "13 \t [2.7125263  1.42275067]\t 40.55988031253596\t 10.607662635789808\t 3.395756797704921\t 2.8982055784692284\n",
            "14 \t [-0.64886447  0.2174465 ]\t 24.372567490888457\t 10.607662635789808\t 3.1173597369590533\t 3.005848847653035\n",
            "15 \t [-5.12       2.0033437]\t 32.94030653068777\t 10.607662635789808\t 3.516845614725156\t 3.453323377954113\n",
            "16 \t [5.12 5.12]\t 57.849427451571785\t 10.607662635789808\t 3.2168874133384775\t 3.278688199838478\n",
            "17 \t [ 3.71218091 -1.47048213]\t 48.125052815679865\t 10.607662635789808\t 2.6480768624836926\t 2.8130869206875793\n",
            "18 \t [5.12       2.58439022]\t 54.230646821854805\t 10.607662635789808\t 2.8216398527209736\t 3.167384454940067\n",
            "19 \t [-1.08543598  2.87267166]\t 13.870100899969614\t 10.607662635789808\t 2.5088986100264647\t 2.810797112272007\n",
            "20 \t [ 1.85788861 -3.37834952]\t 35.81183767810919\t 10.607662635789808\t 2.595527316514868\t 2.8091348571829178\n"
          ]
        }
      ],
      "source": [
        "### ESTIMATED GP EI GRADIENTS\n",
        "\n",
        "np.random.seed(run_num_3)\n",
        "surrogate_approx_3 = dGaussianProcess(cov_func, optimize=opt)\n",
        "\n",
        "approx_3 = GPGO_multi(surrogate_approx_3, Acquisition_grad(util), objfunc, param)\n",
        "approx_3.run(init_evals=n_init, max_iter=iters)\n"
      ]
    },
    {
      "cell_type": "code",
      "execution_count": 16,
      "metadata": {
        "id": "hOtG-2sCGCKS",
        "colab": {
          "base_uri": "https://localhost:8080/"
        },
        "outputId": "04e47e64-88f6-4c66-aa78-16063511d20c"
      },
      "outputs": [
        {
          "output_type": "stream",
          "name": "stdout",
          "text": [
            "Evaluation \t Proposed point \t  Current eval. \t  Best eval. \t        Exact EI: StdDev. x \t Approx EI: StdDev. x \n",
            "init\t [4.78238555 0.48365823]\t 51.03163809010808\t 14.323038259018315\t    \t    \n",
            "init\t [4.84028785 2.19971578]\t 39.78645699016559\t 14.323038259018315\t    \t    \n",
            "init\t [ 2.02474316 -2.90724357]\t 14.323038259018315\t 14.323038259018315\t    \t    \n",
            "init\t [ 4.87705042 -5.05620219]\t 52.80627247106233\t 14.323038259018315\t    \t    \n",
            "init\t [-2.52946061 -0.66773471]\t 41.61497868486559\t 14.323038259018315\t    \t    \n",
            "1  \t [-5.12  5.12]\t 57.849427451571785\t 14.323038259018315\t 3.4046308044637925\t 4.1040976529906095\n",
            "2  \t [0.36079965 5.12      ]\t 45.46776273002728\t 14.323038259018315\t 3.7429545581384973\t 3.8207742721824247\n",
            "3  \t [-5.12 -5.12]\t 57.849427451571785\t 14.323038259018315\t 4.182944529952163\t 3.6618899014069126\n",
            "4  \t [-0.95957016 -5.12      ]\t 30.16640879074393\t 14.323038259018315\t 3.3442557824000207\t 3.335115452862523\n",
            "\u001b[1m\u001b[92m5\u001b[0m\t \u001b[1m\u001b[92m[0.85385955 1.14520467]\u001b[0m\t \u001b[1m\u001b[92m9.84937163219871\u001b[0m\t \u001b[1m\u001b[92m9.84937163219871\u001b[0m\t \u001b[1m\u001b[92m3.311101280253324\u001b[0m\t \u001b[1m\u001b[92m3.370500701758666\u001b[0m\n",
            "6  \t [-5.12        1.50099774]\t 51.17751144661109\t 9.84937163219871\t 3.1813098395040655\t 2.9836585728441287\n",
            "7  \t [3.91460637 5.12      ]\t 45.654052606825466\t 9.84937163219871\t 3.0417715839578805\t 3.009064273387923\n",
            "8  \t [-1.97853119  2.82550562]\t 17.420721303431367\t 9.84937163219871\t 2.677282287514473\t 2.8255394688266255\n",
            "9  \t [ 0.30802392 -1.28261865]\t 27.340685197316805\t 9.84937163219871\t 2.5319714167741068\t 2.8368988510025126\n",
            "10 \t [-5.12      -1.9619624]\t 33.05825187775791\t 9.84937163219871\t 3.1387008687594635\t 3.544518163278077\n",
            "11 \t [ 5.12       -2.25322141]\t 44.20411410857056\t 9.84937163219871\t 3.5239577991169533\t 3.528373019344665\n",
            "12 \t [ 1.82455963 -5.12      ]\t 37.73849733760643\t 9.84937163219871\t 2.8346368348011444\t 3.0517873259790025\n",
            "13 \t [2.03003441 2.73213331]\t 22.883365778685494\t 9.84937163219871\t 3.062045276368049\t 2.503765267299336\n",
            "14 \t [-2.3557046  5.12     ]\t 50.638049445817686\t 9.84937163219871\t 2.518404029107108\t 2.717445189070534\n",
            "15 \t [-2.64807207 -3.36983645]\t 51.1814794654896\t 9.84937163219871\t 3.33385428480488\t 2.8308163763163785\n",
            "16 \t [ 2.44715248 -0.46104349]\t 45.356803191434636\t 9.84937163219871\t 3.0292759938091507\t 2.5121816212249857\n",
            "17 \t [-0.62122936  1.36038184]\t 35.865865236374546\t 9.84937163219871\t 2.33808102436037\t 2.135387441243178\n",
            "18 \t [ 0.0678619  -3.22299707]\t 19.59914792312393\t 9.84937163219871\t 3.1583258859644108\t 3.203781363303234\n",
            "19 \t [-3.41846924  2.8526244 ]\t 42.52927397006172\t 9.84937163219871\t 3.4839996707937693\t 3.184404128083066\n",
            "20 \t [ 3.0811188  -3.10529606]\t 22.517036560761824\t 9.84937163219871\t 3.116134977583299\t 2.9842970290185327\n"
          ]
        }
      ],
      "source": [
        "### ESTIMATED GP EI GRADIENTS\n",
        "\n",
        "np.random.seed(run_num_4)\n",
        "surrogate_approx_4 = dGaussianProcess(cov_func, optimize=opt)\n",
        "\n",
        "approx_4= GPGO_multi(surrogate_approx_4, Acquisition_grad(util), objfunc, param)\n",
        "approx_4.run(init_evals=n_init, max_iter=iters)\n"
      ]
    },
    {
      "cell_type": "code",
      "execution_count": 17,
      "metadata": {
        "id": "JF_SxcEvGCOl",
        "colab": {
          "base_uri": "https://localhost:8080/"
        },
        "outputId": "47038fd4-f5bb-4c17-98b2-b40ee42d2f69"
      },
      "outputs": [
        {
          "output_type": "stream",
          "name": "stdout",
          "text": [
            "Evaluation \t Proposed point \t  Current eval. \t  Best eval. \t        Exact EI: StdDev. x \t Approx EI: StdDev. x \n",
            "init\t [-2.84678993  3.79629882]\t 33.93442008827236\t 7.8108627039749745\t    \t    \n",
            "init\t [-3.00319585  4.2865757 ]\t 39.673876075575784\t 7.8108627039749745\t    \t    \n",
            "init\t [-0.11866943  1.14425716]\t 7.8108627039749745\t 7.8108627039749745\t    \t    \n",
            "init\t [2.72289645 0.1886002 ]\t 25.38160395721669\t 7.8108627039749745\t    \t    \n",
            "init\t [-2.08076286 -3.19773462]\t 22.589982116319675\t 7.8108627039749745\t    \t    \n",
            "1  \t [ 5.12       -4.99348566]\t 53.86798827811522\t 7.8108627039749745\t 4.55242772226513\t 4.710018824156584\n",
            "2  \t [5.12 5.12]\t 57.849427451571785\t 7.8108627039749745\t 4.434809273697844\t 4.187851755067109\n",
            "3  \t [-5.12       -0.04631171]\t 29.3472411035695\t 7.8108627039749745\t 3.644674768419678\t 3.855856226620207\n",
            "4  \t [1.00367692 5.12      ]\t 29.934749666894966\t 7.8108627039749745\t 3.5150503169972205\t 3.6170919683053646\n",
            "5  \t [-5.12 -5.12]\t 57.849427451571785\t 7.8108627039749745\t 3.5421083271238394\t 3.6968431116384277\n",
            "6  \t [ 1.1115517 -5.12     ]\t 32.517640296259664\t 7.8108627039749745\t 3.0332184546961574\t 3.5366460332325786\n",
            "7  \t [ 5.12       -1.57484812]\t 50.31925387396289\t 7.8108627039749745\t 2.326013199301863\t 2.4384029982302606\n",
            "8  \t [ 0.59870971 -1.87856591]\t 24.79731022187208\t 7.8108627039749745\t 2.7662165613786467\t 3.2760984142755065\n",
            "9  \t [5.12       1.88562589]\t 34.95323955272072\t 7.8108627039749745\t 3.006209036194936\t 3.2696258053203935\n",
            "10 \t [-2.19883108  0.0184043 ]\t 11.742045716126897\t 7.8108627039749745\t 2.463212305482669\t 3.05475359335452\n",
            "11 \t [2.18819132 2.78704019]\t 26.462754986343484\t 7.8108627039749745\t 2.7207148348368477\t 3.247923126965301\n",
            "12 \t [-5.12        2.61670679]\t 53.2016294389721\t 7.8108627039749745\t 2.7540647611609708\t 3.328400986359491\n",
            "13 \t [-5.12       -2.41255573]\t 53.2733694044678\t 7.8108627039749745\t 3.1809738833716272\t 2.862489960219724\n",
            "14 \t [ 2.80971502 -3.10622927]\t 26.024591868170777\t 7.8108627039749745\t 2.664464652336292\t 2.811894320762888\n",
            "15 \t [-1.67868445 -5.12      ]\t 46.0751333735805\t 7.8108627039749745\t 2.507440700334348\t 2.2234411492622734\n",
            "16 \t [-0.55158342  2.80092379]\t 34.48344928312775\t 7.8108627039749745\t 2.426273373726052\t 2.2977110544693002\n",
            "\u001b[1m\u001b[92m17\u001b[0m\t \u001b[1m\u001b[92m[-0.09261693  0.1594147 ]\u001b[0m\t \u001b[1m\u001b[92m6.290671055434733\u001b[0m\t \u001b[1m\u001b[92m6.290671055434733\u001b[0m\t \u001b[1m\u001b[92m2.2932230799600504\u001b[0m\t \u001b[1m\u001b[92m2.47957897192899\u001b[0m\n",
            "18 \t [-2.7393537   1.32708468]\t 34.589860312386726\t 6.290671055434733\t 2.6063370642180668\t 2.4074226242676775\n",
            "19 \t [-5.12  5.12]\t 57.849427451571785\t 6.290671055434733\t 2.3829002981864247\t 2.518915687175787\n",
            "20 \t [-1.84756666 -1.20493989]\t 16.31836612919644\t 6.290671055434733\t 2.7892681507929766\t 2.555866794935411\n"
          ]
        }
      ],
      "source": [
        "### ESTIMATED GP EI GRADIENTS\n",
        "\n",
        "np.random.seed(run_num_5)\n",
        "surrogate_approx_5 = dGaussianProcess(cov_func, optimize=opt)\n",
        "\n",
        "approx_5 = GPGO_multi(surrogate_approx_5, Acquisition_grad(util), objfunc, param)\n",
        "approx_5.run(init_evals=n_init, max_iter=iters)\n"
      ]
    },
    {
      "cell_type": "code",
      "execution_count": 18,
      "metadata": {
        "id": "-kDxZtJsGCR3",
        "colab": {
          "base_uri": "https://localhost:8080/"
        },
        "outputId": "ee35657d-237c-425d-ceb9-b3f87d0a5b65"
      },
      "outputs": [
        {
          "output_type": "stream",
          "name": "stdout",
          "text": [
            "Evaluation \t Proposed point \t  Current eval. \t  Best eval. \t        Exact EI: StdDev. x \t Approx EI: StdDev. x \n",
            "init\t [ 4.02288795 -1.72052679]\t 31.08835710146886\t 17.28954482757088\t    \t    \n",
            "init\t [ 3.28938622 -4.69302655]\t 58.797867722203385\t 17.28954482757088\t    \t    \n",
            "init\t [-4.0175956   0.97333314]\t 17.28954482757088\t 17.28954482757088\t    \t    \n",
            "init\t [ 0.30532979 -0.83141193]\t 19.296253155889353\t 17.28954482757088\t    \t    \n",
            "init\t [-1.68542362  1.25459899]\t 28.650630936276173\t 17.28954482757088\t    \t    \n",
            "1  \t [5.12 5.12]\t 57.849427451571785\t 17.28954482757088\t 4.489952463590457\t 4.414035674139899\n",
            "2  \t [-4.81573136 -4.7143685 ]\t 63.623066462542184\t 17.28954482757088\t 3.97984536510217\t 4.251906732612083\n",
            "3  \t [-5.12  5.12]\t 57.849427451571785\t 17.28954482757088\t 3.126535337246546\t 3.6869333320602466\n",
            "4  \t [0.39538883 5.12      ]\t 46.99754661517302\t 17.28954482757088\t 3.1381538874150183\t 3.560138728164811\n",
            "5  \t [-0.75382892 -5.12      ]\t 39.252416868176454\t 17.28954482757088\t 2.9126939415838264\t 3.2397139406998807\n",
            "6  \t [2.84227882 1.91252165]\t 17.730568009423898\t 17.28954482757088\t 2.720088760445028\t 3.2983026561572153\n",
            "7  \t [-2.70548941 -2.01072477]\t 24.14575111379581\t 17.28954482757088\t 3.1342776037984574\t 3.3150244740828816\n",
            "8  \t [5.12       1.12125254]\t 32.946333165819595\t 17.28954482757088\t 2.393507283161663\t 3.328451414255479\n",
            "9  \t [-2.34758787  4.04005354]\t 37.902775649294846\t 17.28954482757088\t 2.4631119025074644\t 3.4392853105863836\n",
            "10 \t [-5.12       -1.34949007]\t 46.59773874275585\t 17.28954482757088\t 3.0610977726093695\t 3.3868194918933274\n",
            "\u001b[1m\u001b[92m11\u001b[0m\t \u001b[1m\u001b[92m[ 0.98767927 -2.97228026]\u001b[0m\t \u001b[1m\u001b[92m9.991199399044294\u001b[0m\t \u001b[1m\u001b[92m9.991199399044294\u001b[0m\t \u001b[1m\u001b[92m3.005966991115099\u001b[0m\t \u001b[1m\u001b[92m3.134168073221052\u001b[0m\n",
            "12 \t [0.64297608 2.21276257]\t 29.220381676413563\t 9.991199399044294\t 2.7166311590177874\t 2.863511570924931\n",
            "13 \t [-5.12        2.42975632]\t 53.87017032944023\t 9.991199399044294\t 2.7808677254795073\t 2.842372142294007\n",
            "14 \t [2.74674759 4.14149672]\t 38.599459040792496\t 9.991199399044294\t 2.9376406699390447\t 2.9535004706673815\n",
            "15 \t [ 2.28591573 -0.1147057 ]\t 19.962789188778466\t 9.991199399044294\t 2.631030226961478\t 2.253356078606284\n",
            "16 \t [-0.72438434 -2.66698084]\t 34.222953948677336\t 9.991199399044294\t 2.5725585469340326\t 2.7377314977832157\n",
            "17 \t [ 5.12       -3.46267375]\t 60.64106514202859\t 9.991199399044294\t 2.887515298072789\t 3.3473424585887686\n",
            "18 \t [ 1.8774523 -2.4438721]\t 31.70272701123572\t 9.991199399044294\t 3.0464476923715527\t 2.92322256733641\n",
            "19 \t [ 1.17547984 -5.12      ]\t 35.79344562630084\t 9.991199399044294\t 2.9855536865533288\t 3.291639395886652\n",
            "20 \t [-2.64446274 -5.12      ]\t 52.073605588260776\t 9.991199399044294\t 2.827644770598554\t 3.1129698071398084\n"
          ]
        }
      ],
      "source": [
        "### ESTIMATED GP EI GRADIENTS\n",
        "\n",
        "np.random.seed(run_num_6)\n",
        "surrogate_approx_6 = dGaussianProcess(cov_func, optimize=opt)\n",
        "\n",
        "approx_6 = GPGO_multi(surrogate_approx_6, Acquisition_grad(util), objfunc, param)\n",
        "approx_6.run(init_evals=n_init, max_iter=iters)\n"
      ]
    },
    {
      "cell_type": "code",
      "execution_count": 19,
      "metadata": {
        "id": "fKB8MCD_GCVI",
        "colab": {
          "base_uri": "https://localhost:8080/"
        },
        "outputId": "37404628-834a-4d38-cb78-cac39063e37c"
      },
      "outputs": [
        {
          "output_type": "stream",
          "name": "stdout",
          "text": [
            "Evaluation \t Proposed point \t  Current eval. \t  Best eval. \t        Exact EI: StdDev. x \t Approx EI: StdDev. x \n",
            "init\t [-4.33860312  2.86636843]\t 45.646133072936244\t 22.52235437888213\t    \t    \n",
            "init\t [-0.63068947  2.28828342]\t 34.83012662845338\t 22.52235437888213\t    \t    \n",
            "init\t [4.8946126  0.39419771]\t 44.09657005662876\t 22.52235437888213\t    \t    \n",
            "init\t [ 0.01147355 -4.38219639]\t 36.613209822404315\t 22.52235437888213\t    \t    \n",
            "init\t [-2.37118484e+00 -1.20319155e-03]\t 22.52235437888213\t 22.52235437888213\t    \t    \n",
            "1  \t [-5.12 -5.12]\t 57.849427451571785\t 22.52235437888213\t 3.8025131145856026\t 3.851273964329224\n",
            "2  \t [ 5.12 -5.12]\t 57.849427451571785\t 22.52235437888213\t 3.8663027613624097\t 4.1156129375154995\n",
            "3  \t [3.59418225 5.12      ]\t 60.14243642826932\t 22.52235437888213\t 3.9262509879781784\t 3.892500544167532\n",
            "4  \t [-4.02558214 -1.33646422]\t 33.289738493146906\t 22.52235437888213\t 2.8824208447363557\t 3.046307140328312\n",
            "\u001b[1m\u001b[92m5\u001b[0m\t \u001b[1m\u001b[92m[ 1.40596271 -0.96124825]\u001b[0m\t \u001b[1m\u001b[92m21.500345018256677\u001b[0m\t \u001b[1m\u001b[92m21.500345018256677\u001b[0m\t \u001b[1m\u001b[92m3.1333873175207003\u001b[0m\t \u001b[1m\u001b[92m3.1657072712181535\u001b[0m\n",
            "6  \t [-1.80777259  5.12      ]\t 38.64199062559305\t 21.500345018256677\t 2.951189476889458\t 3.8949639960867835\n",
            "7  \t [2.33770863 2.13162799]\t 28.474329288517616\t 21.500345018256677\t 2.758155647352476\t 3.1379560412119236\n",
            "8  \t [ 3.57955853 -2.53923519]\t 57.735021192819346\t 21.500345018256677\t 3.068393783841481\t 3.8175764072846508\n",
            "9  \t [-2.52341779 -3.63390286]\t 56.129504187807996\t 21.500345018256677\t 3.510501176024962\t 3.4223794142303112\n",
            "10 \t [-5.12  5.12]\t 57.849427451571785\t 21.500345018256677\t 3.3221435280452574\t 3.3288719901596986\n",
            "11 \t [0.80740003 5.12      ]\t 36.047736768615906\t 21.500345018256677\t 3.5217337162727587\t 3.016125507600734\n",
            "12 \t [5.12       2.99342538]\t 37.8938404155374\t 21.500345018256677\t 3.217951102070225\t 3.468223716614164\n",
            "13 \t [ 2.32173807 -5.12      ]\t 48.671530842078155\t 21.500345018256677\t 3.569942645754559\t 3.4268075820671053\n",
            "14 \t [-0.64359927 -1.53165734]\t 38.761396003741694\t 21.500345018256677\t 3.1060555345048573\t 2.9970233854762807\n",
            "15 \t [-5.12       0.5858216]\t 47.84892822505632\t 21.500345018256677\t 3.044708291873285\t 3.215401614024345\n",
            "16 \t [-5.12       -2.74195533]\t 46.94827935958209\t 21.500345018256677\t 3.068027461908775\t 2.4881081759851615\n",
            "17 \t [0.74591765 0.65310795]\t 26.958174950256506\t 21.500345018256677\t 2.847471857613549\t 2.279775513965471\n",
            "\u001b[1m\u001b[92m18\u001b[0m\t \u001b[1m\u001b[92m[ 2.81964411 -0.03282287]\u001b[0m\t \u001b[1m\u001b[92m13.92582660816437\u001b[0m\t \u001b[1m\u001b[92m13.92582660816437\u001b[0m\t \u001b[1m\u001b[92m3.5952982825397233\u001b[0m\t \u001b[1m\u001b[92m3.3345328511578156\u001b[0m\n",
            "19 \t [-2.50692348  1.83659126]\t 34.47205576021551\t 13.92582660816437\t 3.528311275724583\t 3.3160693399406616\n",
            "20 \t [ 1.24837053 -2.72933426]\t 30.20013425567922\t 13.92582660816437\t 3.587076431528374\t 2.8816607908214253\n"
          ]
        }
      ],
      "source": [
        "### ESTIMATED GP EI GRADIENTS\n",
        "\n",
        "np.random.seed(run_num_7)\n",
        "surrogate_approx_7 = dGaussianProcess(cov_func, optimize=opt)\n",
        "\n",
        "approx_7 = GPGO_multi(surrogate_approx_7, Acquisition_grad(util), objfunc, param)\n",
        "approx_7.run(init_evals=n_init, max_iter=iters)\n"
      ]
    },
    {
      "cell_type": "code",
      "execution_count": 20,
      "metadata": {
        "id": "4unvifF-GCXp",
        "colab": {
          "base_uri": "https://localhost:8080/"
        },
        "outputId": "d851ace1-cca6-4582-d78d-b65f0111de17"
      },
      "outputs": [
        {
          "output_type": "stream",
          "name": "stdout",
          "text": [
            "Evaluation \t Proposed point \t  Current eval. \t  Best eval. \t        Exact EI: StdDev. x \t Approx EI: StdDev. x \n",
            "init\t [3.82391708 4.79785639]\t 50.20079446939181\t 13.871821018360485\t    \t    \n",
            "init\t [3.78055209 0.31596228]\t 36.5114251593508\t 13.871821018360485\t    \t    \n",
            "init\t [-2.73686192 -5.00327624]\t 43.34985765011677\t 13.871821018360485\t    \t    \n",
            "init\t [-0.7119993  -0.99992207]\t 13.871821018360485\t 13.871821018360485\t    \t    \n",
            "init\t [ 0.23218863 -0.22126801]\t 17.190590355445654\t 13.871821018360485\t    \t    \n",
            "1  \t [-5.12  5.12]\t 57.849427451571785\t 13.871821018360485\t 3.387052777709809\t 4.193993050097452\n",
            "2  \t [ 5.12 -5.12]\t 57.849427451571785\t 13.871821018360485\t 3.5623331827904545\t 3.934547235762731\n",
            "3  \t [-5.12       -0.06036529]\t 29.63906635160361\t 13.871821018360485\t 3.3577435285772435\t 3.4894657130020916\n",
            "4  \t [-0.66935348  4.17606048]\t 38.2601742198282\t 13.871821018360485\t 3.623097318309984\t 3.4448231160629343\n",
            "5  \t [ 1.18397155 -4.40964527]\t 45.247375319578204\t 13.871821018360485\t 3.593587373101423\t 3.465115026171786\n",
            "6  \t [-2.62494153  1.70320608]\t 39.76286510911228\t 13.871821018360485\t 3.81765540802896\t 3.4706038805340853\n",
            "7  \t [1.62789166 2.34354852]\t 40.628857345684416\t 13.871821018360485\t 3.6322985233646676\t 3.4875386943638893\n",
            "8  \t [-5.12       -3.12776598]\t 41.760516654090836\t 13.871821018360485\t 4.076134561970691\t 3.5238139106014623\n",
            "9  \t [ 5.12       -2.11131516]\t 35.73016837552196\t 13.871821018360485\t 3.9876946725687574\t 3.6091062099021785\n",
            "10 \t [-2.59860666 -1.83797003]\t 33.022064325563534\t 13.871821018360485\t 4.351447729674239\t 3.6076393473449073\n",
            "11 \t [5.12       2.44931334]\t 54.42099391901827\t 13.871821018360485\t 4.211679938147498\t 3.955670693786898\n",
            "12 \t [ 2.13351697 -1.86180767]\t 14.874153860136975\t 13.871821018360485\t 2.9378422953656806\t 2.6903690736104635\n",
            "13 \t [-5.12        2.43461525]\t 54.01998363142981\t 13.871821018360485\t 3.8658253984702675\t 3.01892271008208\n",
            "14 \t [1.38502294 5.12      ]\t 48.34506623785078\t 13.871821018360485\t 4.077258592204316\t 3.306305521945535\n",
            "15 \t [-2.63596164  5.12      ]\t 52.440682663663424\t 13.871821018360485\t 3.6081797822160446\t 3.180544379826631\n",
            "16 \t [-0.6858197  -3.04957518]\t 24.175636807822702\t 13.871821018360485\t 3.3021354114199215\t 2.9668591946768057\n",
            "17 \t [-5.12 -5.12]\t 57.849427451571785\t 13.871821018360485\t 3.5014271969550625\t 2.816221309566994\n",
            "18 \t [ 3.2383528  -3.38030517]\t 48.485028544720755\t 13.871821018360485\t 2.7472935292479415\t 2.5474930111565417\n",
            "19 \t [-0.47172603  1.44333567]\t 41.52123013951785\t 13.871821018360485\t 2.532331613087308\t 2.4969653189958243\n",
            "20 \t [ 1.67745828 -0.55692705]\t 36.89288426467401\t 13.871821018360485\t 2.8077034706165978\t 2.872336353899689\n"
          ]
        }
      ],
      "source": [
        "### ESTIMATED GP EI GRADIENTS\n",
        "\n",
        "np.random.seed(run_num_8)\n",
        "surrogate_approx_8 = dGaussianProcess(cov_func, optimize=opt)\n",
        "\n",
        "approx_8 = GPGO_multi(surrogate_approx_8, Acquisition_grad(util), objfunc, param)\n",
        "approx_8.run(init_evals=n_init, max_iter=iters)\n"
      ]
    },
    {
      "cell_type": "code",
      "execution_count": 21,
      "metadata": {
        "id": "85OIXcg7GCaJ",
        "colab": {
          "base_uri": "https://localhost:8080/"
        },
        "outputId": "98a6f5f5-cb6b-49b8-e644-8cef7600017c"
      },
      "outputs": [
        {
          "output_type": "stream",
          "name": "stdout",
          "text": [
            "Evaluation \t Proposed point \t  Current eval. \t  Best eval. \t        Exact EI: StdDev. x \t Approx EI: StdDev. x \n",
            "init\t [-5.01376866  0.01919582]\t 25.248289026162446\t 24.454800313488693\t    \t    \n",
            "init\t [-0.04328148 -3.74958562]\t 24.454800313488693\t 24.454800313488693\t    \t    \n",
            "init\t [-3.66478248 -2.88195916]\t 39.46509426509438\t 24.454800313488693\t    \t    \n",
            "init\t [-0.83447623 -2.57944404]\t 31.06766397812992\t 24.454800313488693\t    \t    \n",
            "init\t [-4.25922917 -1.58209393]\t 49.922543556206975\t 24.454800313488693\t    \t    \n",
            "1  \t [3.59513825 5.12      ]\t 60.11565291494631\t 24.454800313488693\t 3.043380568355621\t 3.316977016880765\n",
            "2  \t [ 5.02366062 -0.99912099]\t 26.3458629449246\t 24.454800313488693\t 3.426836849205813\t 4.105635855588194\n",
            "3  \t [-2.34941206  5.12      ]\t 50.29237682909016\t 24.454800313488693\t 3.06729180366108\t 4.313255140496028\n",
            "4  \t [0.73925637 1.51325413]\t 33.47631144138143\t 24.454800313488693\t 3.2066358986063066\t 3.6479996149577616\n",
            "5  \t [ 4.26355085 -5.12      ]\t 57.95297627893923\t 24.454800313488693\t 3.861283678222741\t 4.0808588865968245\n",
            "6  \t [-5.12        3.25648408]\t 49.93669619620061\t 24.454800313488693\t 3.6828951027776644\t 3.359109573068388\n",
            "7  \t [5.12       2.12173416]\t 36.21180292133656\t 24.454800313488693\t 3.7775013145890717\t 3.4877970754174603\n",
            "8  \t [-2.26875627  1.37749515]\t 35.40156410141451\t 24.454800313488693\t 3.5833647045053745\t 2.8682706530198425\n",
            "9  \t [ 2.14141055 -1.52498305]\t 30.482560723728888\t 24.454800313488693\t 3.3309062871704502\t 3.5925478087341642\n",
            "10 \t [-5.12 -5.12]\t 57.849427451571785\t 24.454800313488693\t 4.282008036665352\t 3.564845887639567\n",
            "11 \t [0.58825064 5.12      ]\t 47.77241614262435\t 24.454800313488693\t 3.52923452796333\t 4.004913185394347\n",
            "12 \t [-2.04490184 -5.12      ]\t 33.501681493618484\t 24.454800313488693\t 3.103063289646414\t 3.508936804143898\n",
            "13 \t [ 1.52042289 -5.12      ]\t 51.15418124010927\t 24.454800313488693\t 3.014721149093739\t 2.307204599670372\n",
            "\u001b[1m\u001b[92m14\u001b[0m\t \u001b[1m\u001b[92m[3.04882491 0.90944536]\u001b[0m\t \u001b[1m\u001b[92m12.164747879304825\u001b[0m\t \u001b[1m\u001b[92m12.164747879304825\u001b[0m\t \u001b[1m\u001b[92m2.8501037867090533\u001b[0m\t \u001b[1m\u001b[92m2.787360913551268\u001b[0m\n",
            "15 \t [-0.64283709 -0.46209868]\t 36.58043975602211\t 12.164747879304825\t 2.762805777713174\t 2.837340622449263\n",
            "16 \t [ 5.12       -2.93103199]\t 38.43997381570299\t 12.164747879304825\t 3.1436787876448093\t 3.284789442064639\n",
            "17 \t [2.53385135 2.82871929]\t 39.44984687633912\t 12.164747879304825\t 3.1356068961608603\t 3.095701666613328\n",
            "18 \t [-0.86732866  3.11760834]\t 16.35785436452414\t 12.164747879304825\t 3.2839311892794596\t 3.4074645835732746\n",
            "19 \t [-5.12  5.12]\t 57.849427451571785\t 12.164747879304825\t 3.6807423333619336\t 3.4346379709567842\n",
            "20 \t [3.4541138  0.19620869]\t 38.24082547702669\t 12.164747879304825\t 3.4247173185416124\t 3.2711390393467012\n"
          ]
        }
      ],
      "source": [
        "### ESTIMATED GP EI GRADIENTS\n",
        "\n",
        "np.random.seed(run_num_9)\n",
        "surrogate_approx_9 = dGaussianProcess(cov_func, optimize=opt)\n",
        "\n",
        "approx_9 = GPGO_multi(surrogate_approx_9, Acquisition_grad(util), objfunc, param)\n",
        "approx_9.run(init_evals=n_init, max_iter=iters)\n"
      ]
    },
    {
      "cell_type": "code",
      "execution_count": 22,
      "metadata": {
        "id": "QQBR-qJPGCcp",
        "colab": {
          "base_uri": "https://localhost:8080/"
        },
        "outputId": "2a331b2b-e120-4d79-fbe0-30749dffcc72"
      },
      "outputs": [
        {
          "output_type": "stream",
          "name": "stdout",
          "text": [
            "Evaluation \t Proposed point \t  Current eval. \t  Best eval. \t        Exact EI: StdDev. x \t Approx EI: StdDev. x \n",
            "init\t [ 2.77832339 -4.90750004]\t 41.674330194390116\t 13.839458310244165\t    \t    \n",
            "init\t [1.36855793 2.54775176]\t 44.69639719065837\t 13.839458310244165\t    \t    \n",
            "init\t [-0.01528819 -2.81808235]\t 13.839458310244165\t 13.839458310244165\t    \t    \n",
            "init\t [-3.09183626  2.66783449]\t 33.23221510904937\t 13.839458310244165\t    \t    \n",
            "init\t [-3.38830503 -4.2154003 ]\t 54.73014366983691\t 13.839458310244165\t    \t    \n",
            "1  \t [ 5.12      -0.5683994]\t 48.33842400030083\t 13.839458310244165\t 3.9623328748725384\t 4.220880397495866\n",
            "2  \t [5.12 5.12]\t 57.849427451571785\t 13.839458310244165\t 3.6039457835364463\t 3.342421162210299\n",
            "3  \t [-5.12       -0.60617957]\t 47.14807554218429\t 13.839458310244165\t 3.149957354896473\t 3.5310142816281664\n",
            "4  \t [-5.12  5.12]\t 57.849427451571785\t 13.839458310244165\t 3.854823683009149\t 3.965183583511098\n",
            "5  \t [-0.8379295  5.12     ]\t 34.3788636391152\t 13.839458310244165\t 3.342770953910296\t 3.608037434731317\n",
            "\u001b[1m\u001b[92m6\u001b[0m\t \u001b[1m\u001b[92m[-1.23134994 -0.10547287]\u001b[0m\t \u001b[1m\u001b[92m12.474904213808314\u001b[0m\t \u001b[1m\u001b[92m12.474904213808314\u001b[0m\t \u001b[1m\u001b[92m3.618742457188082\u001b[0m\t \u001b[1m\u001b[92m3.5449506119115073\u001b[0m\n",
            "7  \t [ 1.89655137 -0.79254092]\t 13.622900374520334\t 12.474904213808314\t 3.055790480810774\t 3.613532987222597\n",
            "8  \t [-0.38454478 -5.12      ]\t 46.554753291140486\t 12.474904213808314\t 3.9044417256430886\t 3.4446074004439993\n",
            "9  \t [ 5.12       -3.59871192]\t 60.012916651002875\t 12.474904213808314\t 3.223412388647535\t 3.353689266025045\n",
            "10 \t [4.53169073 2.23137466]\t 54.15007121669981\t 12.474904213808314\t 3.5479016079426655\t 3.719824819625179\n",
            "11 \t [2.14105864 5.12      ]\t 37.18599810500684\t 12.474904213808314\t 2.8110003038239952\t 2.744576401720738\n",
            "12 \t [-2.40725854 -1.64813095]\t 42.8334166671473\t 12.474904213808314\t 3.0222029592036037\t 2.80367560044326\n",
            "13 \t [-5.12        2.04138154]\t 33.42807275650833\t 12.474904213808314\t 3.024821557059176\t 3.4663346455579527\n",
            "14 \t [-0.94161246  1.58512334]\t 22.668139665190655\t 12.474904213808314\t 3.2979705127249344\t 3.42841683400689\n",
            "15 \t [ 2.34510009 -2.4468541 ]\t 46.560253951541114\t 12.474904213808314\t 3.554462864315054\t 3.4060681848801813\n",
            "16 \t [ 0.44728678 -0.29323143]\t 32.42558624746077\t 12.474904213808314\t 3.3735259204021375\t 3.5714073811073255\n",
            "17 \t [-5.12 -5.12]\t 57.849427451571785\t 12.474904213808314\t 3.5958427270125526\t 3.3939569002159127\n",
            "18 \t [2.74415684 0.35270418]\t 34.036307337581576\t 12.474904213808314\t 2.509127533581383\t 3.288545613024149\n",
            "19 \t [-2.80868762  5.12      ]\t 43.20898756239302\t 12.474904213808314\t 2.2356689197589072\t 3.0857560515521256\n",
            "20 \t [-2.84975169  0.56733932]\t 31.695918134412253\t 12.474904213808314\t 2.7358148312875477\t 3.3037200256819474\n"
          ]
        }
      ],
      "source": [
        "### ESTIMATED GP EI GRADIENTS\n",
        "\n",
        "np.random.seed(run_num_10)\n",
        "surrogate_approx_10 = dGaussianProcess(cov_func, optimize=opt)\n",
        "\n",
        "approx_10 = GPGO_multi(surrogate_approx_10, Acquisition_grad(util), objfunc, param)\n",
        "approx_10.run(init_evals=n_init, max_iter=iters)\n"
      ]
    },
    {
      "cell_type": "code",
      "execution_count": 23,
      "metadata": {
        "id": "JS8ejeQ2GCfi",
        "colab": {
          "base_uri": "https://localhost:8080/"
        },
        "outputId": "a9c9a1ed-6d02-4afc-fd6b-9954d29d50c1"
      },
      "outputs": [
        {
          "output_type": "stream",
          "name": "stdout",
          "text": [
            "Evaluation \t Proposed point \t  Current eval. \t  Best eval. \t        Exact EI: StdDev. x \t Approx EI: StdDev. x \n",
            "init\t [-3.27403839 -4.92057353]\t 47.655641290890955\t 10.679755252484755\t    \t    \n",
            "init\t [-0.37664229  2.30332343]\t 35.87889240695259\t 10.679755252484755\t    \t    \n",
            "init\t [-0.81711509 -0.14922651]\t 10.679755252484755\t 10.679755252484755\t    \t    \n",
            "init\t [-4.98912446 -0.12931474]\t 28.05462905574235\t 10.679755252484755\t    \t    \n",
            "init\t [4.52410012 3.59214172]\t 71.62694632141611\t 10.679755252484755\t    \t    \n",
            "1  \t [ 5.12       -4.34713938]\t 63.55383452768194\t 10.679755252484755\t 3.176352698044778\t 4.315383283922617\n",
            "2  \t [-5.12  5.12]\t 57.849427451571785\t 10.679755252484755\t 2.9742468113925837\t 3.8753380101659207\n",
            "3  \t [ 0.92186084 -5.12      ]\t 30.955748009029804\t 10.679755252484755\t 3.6264485371668567\t 3.0171788245073587\n",
            "4  \t [ 3.12197632 -0.55933972]\t 32.16843212681745\t 10.679755252484755\t 3.0145106008395404\t 2.97174001739596\n",
            "5  \t [1.20984342 5.12      ]\t 37.89200781686341\t 10.679755252484755\t 3.4391376894834984\t 2.9650885111009266\n",
            "6  \t [-1.93527752  5.12      ]\t 33.48555537671635\t 10.679755252484755\t 3.4340127222921555\t 3.294952380299581\n",
            "7  \t [-0.92968093 -2.63006138]\t 25.5844723145528\t 10.679755252484755\t 3.675768526552948\t 3.133993117377157\n",
            "8  \t [-5.12       -2.82041714]\t 42.59797290986526\t 10.679755252484755\t 3.865092250641149\t 3.197360145178634\n",
            "9  \t [-3.4856289   2.26813292]\t 48.39015835264195\t 10.679755252484755\t 3.2575296979011736\t 3.0301460106612494\n",
            "10 \t [5.12       0.68067665]\t 43.60731988978826\t 10.679755252484755\t 3.531275910947782\t 2.9775000843545443\n",
            "11 \t [ 2.18790764 -2.90219334]\t 21.236104720530907\t 10.679755252484755\t 3.441547180211806\t 3.014129978788857\n",
            "12 \t [2.11343121 1.87958217]\t 13.161800133098406\t 10.679755252484755\t 3.6745103491675657\t 3.219292449655869\n",
            "13 \t [-2.70236577 -0.91489718]\t 22.48415105165905\t 10.679755252484755\t 2.835766789093419\t 2.8714200716163174\n",
            "14 \t [ 0.74877776 -0.51689002]\t 30.848380776300495\t 10.679755252484755\t 3.202288809599054\t 3.195551060126801\n",
            "15 \t [ 5.12      -1.8267687]\t 37.62315658347363\t 10.679755252484755\t 4.188809137404824\t 3.7848403288199686\n",
            "16 \t [-1.05438118 -5.12      ]\t 30.61452628874556\t 10.679755252484755\t 4.04546742392041\t 3.5092894706659576\n",
            "17 \t [ 2.90692333 -5.12      ]\t 39.03679094306325\t 10.679755252484755\t 3.2683514184439746\t 2.801694607588703\n",
            "18 \t [-5.12 -5.12]\t 57.849427451571785\t 10.679755252484755\t 3.978691471616891\t 3.3357880439703944\n",
            "19 \t [-1.69265225  0.55271095]\t 36.15291101909616\t 10.679755252484755\t 2.99302974038151\t 2.9359456456485264\n",
            "20 \t [1.92768039 3.06208701]\t 14.858377556943964\t 10.679755252484755\t 2.5925585721699593\t 2.594854844204884\n"
          ]
        }
      ],
      "source": [
        "### ESTIMATED GP EI GRADIENTS\n",
        "\n",
        "np.random.seed(run_num_11)\n",
        "surrogate_approx_11 = dGaussianProcess(cov_func, optimize=opt)\n",
        "\n",
        "approx_11 = GPGO_multi(surrogate_approx_11, Acquisition_grad(util), objfunc, param)\n",
        "approx_11.run(init_evals=n_init, max_iter=iters)\n"
      ]
    },
    {
      "cell_type": "code",
      "execution_count": 24,
      "metadata": {
        "id": "DXwjUVZ4GCii",
        "colab": {
          "base_uri": "https://localhost:8080/"
        },
        "outputId": "ce0f072f-804c-4fba-c37b-8e33c75d7050"
      },
      "outputs": [
        {
          "output_type": "stream",
          "name": "stdout",
          "text": [
            "Evaluation \t Proposed point \t  Current eval. \t  Best eval. \t        Exact EI: StdDev. x \t Approx EI: StdDev. x \n",
            "init\t [-3.54137249  2.45810889]\t 57.903242869085595\t 40.51116653209555\t    \t    \n",
            "init\t [-2.42365424  0.34549139]\t 40.51116653209555\t 40.51116653209555\t    \t    \n",
            "init\t [-4.97075238  4.28796936]\t 55.62655915398208\t 40.51116653209555\t    \t    \n",
            "init\t [ 4.10332011 -4.77776458]\t 49.962803461970296\t 40.51116653209555\t    \t    \n",
            "init\t [ 4.6791612  -3.71497655]\t 62.183891474990624\t 40.51116653209555\t    \t    \n",
            "1  \t [5.12 5.12]\t 57.849427451571785\t 40.51116653209555\t 3.997567604985732\t 4.0801075110967275\n",
            "2  \t [-5.12 -5.12]\t 57.849427451571785\t 40.51116653209555\t 3.7284175150110275\t 3.512780681811885\n",
            "\u001b[1m\u001b[92m3\u001b[0m\t \u001b[1m\u001b[92m[2.5128286  0.83219708]\u001b[0m\t \u001b[1m\u001b[92m32.03634649500421\u001b[0m\t \u001b[1m\u001b[92m32.03634649500421\u001b[0m\t \u001b[1m\u001b[92m2.867693465177461\u001b[0m\t \u001b[1m\u001b[92m3.038611278592502\u001b[0m\n",
            "4  \t [0.33251012 5.12      ]\t 43.99041589164562\t 32.03634649500421\t 3.008371944268828\t 3.3576865860459955\n",
            "5  \t [-0.48614537 -4.11930517]\t 39.847644248246034\t 32.03634649500421\t 2.5640039085038384\t 2.7316660617644977\n",
            "6  \t [-5.12       -1.54446292]\t 50.9223764263463\t 32.03634649500421\t 2.914622734201667\t 3.053926104461864\n",
            "7  \t [ 5.12       -0.37875243]\t 46.30397042732278\t 32.03634649500421\t 2.56054294767952\t 3.1138950796178513\n",
            "\u001b[1m\u001b[92m8\u001b[0m\t \u001b[1m\u001b[92m[ 1.63833672 -1.98175688]\u001b[0m\t \u001b[1m\u001b[92m23.1315441812136\u001b[0m\t \u001b[1m\u001b[92m23.1315441812136\u001b[0m\t \u001b[1m\u001b[92m2.5308874860469484\u001b[0m\t \u001b[1m\u001b[92m3.1971466430634186\u001b[0m\n",
            "\u001b[1m\u001b[92m9\u001b[0m\t \u001b[1m\u001b[92m[-0.04380336  2.1430011 ]\u001b[0m\t \u001b[1m\u001b[92m8.742906818289487\u001b[0m\t \u001b[1m\u001b[92m8.742906818289487\u001b[0m\t \u001b[1m\u001b[92m2.7601723099384903\u001b[0m\t \u001b[1m\u001b[92m2.799612372479979\u001b[0m\n",
            "10 \t [2.70828081 3.49160863]\t 52.103597755767844\t 8.742906818289487\t 2.7518319374076294\t 3.5257160418888707\n",
            "11 \t [-2.63756285 -2.72180642]\t 42.618649526867735\t 8.742906818289487\t 2.6543258820311713\t 3.3335255869218874\n",
            "12 \t [-2.28804073  5.12      ]\t 46.527320616905236\t 8.742906818289487\t 2.750566924683009\t 3.5500181727068223\n",
            "13 \t [5.12       2.25433407]\t 44.27901957859541\t 8.742906818289487\t 2.589384927313027\t 3.080885967828601\n",
            "14 \t [ 0.00295762 -0.32784013]\t 14.807388900727046\t 8.742906818289487\t 2.6609617307162643\t 2.987217311067747\n",
            "15 \t [ 1.66628667 -5.12      ]\t 46.72188775774288\t 8.742906818289487\t 2.5665992341498507\t 3.1215574889814004\n",
            "16 \t [-2.54784345 -5.12      ]\t 54.96778264750827\t 8.742906818289487\t 2.6739450530981714\t 2.7863546154813688\n",
            "17 \t [-5.12        0.84428573]\t 34.05387334120463\t 8.742906818289487\t 2.309563141523063\t 2.976547692032863\n",
            "18 \t [-0.83430026  2.72710853]\t 24.51401579278206\t 8.742906818289487\t 2.7093450200390743\t 2.644157424994976\n",
            "19 \t [0.47383633 1.37196013]\t 38.906705318519954\t 8.742906818289487\t 2.7774351143289695\t 2.5000182150484926\n",
            "20 \t [-0.52416814 -1.61821069]\t 40.144467501076655\t 8.742906818289487\t 2.5166096784573018\t 2.4149702701185745\n"
          ]
        }
      ],
      "source": [
        "### ESTIMATED GP EI GRADIENTS\n",
        "\n",
        "np.random.seed(run_num_12)\n",
        "surrogate_approx_12 = dGaussianProcess(cov_func, optimize=opt)\n",
        "\n",
        "approx_12 = GPGO_multi(surrogate_approx_12, Acquisition_grad(util), objfunc, param)\n",
        "approx_12.run(init_evals=n_init, max_iter=iters)\n"
      ]
    },
    {
      "cell_type": "code",
      "execution_count": 25,
      "metadata": {
        "id": "CphOPndPGClX",
        "colab": {
          "base_uri": "https://localhost:8080/"
        },
        "outputId": "471999d9-2727-4a1b-fe38-08e121210449"
      },
      "outputs": [
        {
          "output_type": "stream",
          "name": "stdout",
          "text": [
            "Evaluation \t Proposed point \t  Current eval. \t  Best eval. \t        Exact EI: StdDev. x \t Approx EI: StdDev. x \n",
            "init\t [ 2.84367268 -2.68757791]\t 33.58019830007169\t 17.435826639425656\t    \t    \n",
            "init\t [3.32061217 4.76927179]\t 56.857057997503354\t 17.435826639425656\t    \t    \n",
            "init\t [ 4.83943541 -0.47667971]\t 48.211919361679726\t 17.435826639425656\t    \t    \n",
            "init\t [1.11659482 2.82139151]\t 17.435826639425656\t 17.435826639425656\t    \t    \n",
            "init\t [1.45012065 2.27346667]\t 38.25352329493884\t 17.435826639425656\t    \t    \n",
            "1  \t [-5.12       -2.72629493]\t 47.84133050898975\t 17.435826639425656\t 3.470515195135488\t 3.4849224408722663\n",
            "2  \t [-5.12  5.12]\t 57.849427451571785\t 17.435826639425656\t 3.7940740524020686\t 3.853709782957535\n",
            "3  \t [-1.07704741 -5.12      ]\t 31.233817738703507\t 17.435826639425656\t 3.7868360914235404\t 3.2344376809646254\n",
            "\u001b[1m\u001b[92m4\u001b[0m\t \u001b[1m\u001b[92m[-2.85645778  1.1265673 ]\u001b[0m\t \u001b[1m\u001b[92m16.226225560872805\u001b[0m\t \u001b[1m\u001b[92m16.226225560872805\u001b[0m\t \u001b[1m\u001b[92m3.4376927665404327\u001b[0m\t \u001b[1m\u001b[92m3.0618311847162296\u001b[0m\n",
            "5  \t [-1.15506842  5.12      ]\t 34.64161933320644\t 16.226225560872805\t 3.666012305562494\t 4.025087142001083\n",
            "6  \t [-0.62077737 -1.40888708]\t 38.03209549437671\t 16.226225560872805\t 3.1842645637191134\t 3.1861887920480347\n",
            "7  \t [ 5.12 -5.12]\t 57.849427451571785\t 16.226225560872805\t 3.975936041282313\t 4.005796852482808\n",
            "8  \t [5.12       2.46277357]\t 54.717664929956186\t 16.226225560872805\t 3.5198961232524013\t 3.5392132375074894\n",
            "9  \t [-5.12        1.74059237]\t 42.54513042534077\t 16.226225560872805\t 3.9642705848394657\t 3.615557770417831\n",
            "10 \t [ 1.73842762 -5.12      ]\t 42.673317962565974\t 16.226225560872805\t 3.891305212543545\t 3.5087949936406924\n",
            "11 \t [-3.90843306 -5.12      ]\t 45.81044591582956\t 16.226225560872805\t 4.015130682608117\t 3.313355766535668\n",
            "12 \t [-1.2560631   2.43402881]\t 37.036195577455\t 16.226225560872805\t 3.7820373048636675\t 3.072510296868057\n",
            "\u001b[1m\u001b[92m13\u001b[0m\t \u001b[1m\u001b[92m[ 1.88153855 -0.24382118]\u001b[0m\t \u001b[1m\u001b[92m15.855986739157157\u001b[0m\t \u001b[1m\u001b[92m15.855986739157157\u001b[0m\t \u001b[1m\u001b[92m3.513492415894271\u001b[0m\t \u001b[1m\u001b[92m2.874191671249023\u001b[0m\n",
            "14 \t [-3.23704639 -0.94638438]\t 21.123196038406352\t 15.855986739157157\t 2.7162326799528933\t 2.8093456961464405\n",
            "15 \t [0.95696913 5.12      ]\t 30.203784683734717\t 15.855986739157157\t 3.754850594086196\t 3.294525866869734\n",
            "16 \t [-2.30322854 -3.07818285]\t 29.24502022810387\t 15.855986739157157\t 3.162224789534247\t 2.3666706229686976\n",
            "17 \t [ 5.12       -2.74100462]\t 47.00271530600156\t 15.855986739157157\t 3.6205672261723945\t 3.713451536203504\n",
            "18 \t [-3.20424295  3.62544953]\t 47.626567210651785\t 15.855986739157157\t 2.9185806417206672\t 2.564783470493146\n",
            "19 \t [-5.12       -0.42321689]\t 47.96246991717211\t 15.855986739157157\t 4.0108319485134025\t 2.54097116764288\n",
            "20 \t [ 0.51104097 -3.18096025]\t 36.15249419164287\t 15.855986739157157\t 4.212784051214206\t 3.2436190243119025\n"
          ]
        }
      ],
      "source": [
        "### ESTIMATED GP EI GRADIENTS\n",
        "\n",
        "np.random.seed(run_num_13)\n",
        "surrogate_approx_13 = dGaussianProcess(cov_func, optimize=opt)\n",
        "\n",
        "approx_13 = GPGO_multi(surrogate_approx_13, Acquisition_grad(util), objfunc, param)\n",
        "approx_13.run(init_evals=n_init, max_iter=iters)\n"
      ]
    },
    {
      "cell_type": "code",
      "execution_count": 26,
      "metadata": {
        "id": "ojHTeARNGCoi",
        "colab": {
          "base_uri": "https://localhost:8080/"
        },
        "outputId": "a4953005-0d92-41a9-b31f-b99058737e83"
      },
      "outputs": [
        {
          "output_type": "stream",
          "name": "stdout",
          "text": [
            "Evaluation \t Proposed point \t  Current eval. \t  Best eval. \t        Exact EI: StdDev. x \t Approx EI: StdDev. x \n",
            "init\t [0.14277984 2.79721013]\t 18.683085263052178\t 10.423838604848608\t    \t    \n",
            "init\t [ 3.7931795  -5.03759925]\t 47.36348784446708\t 10.423838604848608\t    \t    \n",
            "init\t [-1.94830412  4.68586229]\t 40.19779334078636\t 10.423838604848608\t    \t    \n",
            "init\t [ 0.13431513 -1.86076749]\t 10.423838604848608\t 10.423838604848608\t    \t    \n",
            "init\t [ 0.40140736 -2.85434939]\t 30.353548735049138\t 10.423838604848608\t    \t    \n",
            "1  \t [-5.12 -5.12]\t 57.849427451571785\t 10.423838604848608\t 4.455638515783688\t 4.024080613518249\n",
            "2  \t [5.12 5.12]\t 57.849427451571785\t 10.423838604848608\t 3.9746175702667017\t 3.989923881132954\n",
            "3  \t [-5.12        0.35590568]\t 45.22531797811073\t 10.423838604848608\t 2.875533328151242\t 3.721414629218412\n",
            "4  \t [ 5.12       -0.06382104]\t 29.722073468810862\t 10.423838604848608\t 2.898070564161656\t 3.509586889750381\n",
            "5  \t [-5.12  5.12]\t 57.849427451571785\t 10.423838604848608\t 2.4815791432176697\t 2.927851996441848\n",
            "6  \t [-1.64799567  0.04393557]\t 19.075707191001072\t 10.423838604848608\t 2.7523747762598596\t 2.8682667207622874\n",
            "7  \t [-1.68586631 -5.12      ]\t 45.68832431761156\t 10.423838604848608\t 2.380782169200442\t 2.810617219097518\n",
            "8  \t [1.91922796 0.23805381]\t 14.250614280802122\t 10.423838604848608\t 2.788806942795786\t 3.156270515697615\n",
            "9  \t [1.75638743 5.12      ]\t 41.60838405988309\t 10.423838604848608\t 2.665239052909233\t 3.130423952007223\n",
            "10 \t [-3.36906635 -2.32569465]\t 48.14080420437415\t 10.423838604848608\t 2.620757523466393\t 3.0424819832340857\n",
            "11 \t [3.48324863 2.41614094]\t 56.55910986211592\t 10.423838604848608\t 3.194319924078996\t 3.250603706228605\n",
            "12 \t [ 3.28701946 -2.13876597]\t 31.25011028359833\t 10.423838604848608\t 1.8912031595145187\t 3.1986027377666937\n",
            "13 \t [-3.1437574   2.28083971]\t 30.82047878341242\t 10.423838604848608\t 2.7395769960706153\t 3.341777821477847\n",
            "14 \t [ 1.13115033 -5.12      ]\t 33.411609781719264\t 10.423838604848608\t 2.5793228284801235\t 2.946734627981584\n",
            "15 \t [ 5.12       -2.95375097]\t 38.06861209831544\t 10.423838604848608\t 2.612611822315591\t 2.8045076304091463\n",
            "16 \t [0.27302661 0.01371056]\t 11.553576753985643\t 10.423838604848608\t 2.6289479526731454\t 3.3096702624039915\n",
            "17 \t [-1.09249813 -1.61805335]\t 22.826377927292135\t 10.423838604848608\t 2.805806484224947\t 2.9149925905080076\n",
            "18 \t [-5.12        2.73204977]\t 47.51426637049183\t 10.423838604848608\t 2.7772728964732276\t 2.0590568498286\n",
            "19 \t [-0.9173116   1.60440435]\t 22.659562923965538\t 10.423838604848608\t 2.83938275686165\t 2.906437319841156\n",
            "20 \t [-5.12       -2.31696909]\t 48.37777735352957\t 10.423838604848608\t 2.9957090925788186\t 2.951274176272879\n"
          ]
        }
      ],
      "source": [
        "### ESTIMATED GP EI GRADIENTS\n",
        "\n",
        "np.random.seed(run_num_14)\n",
        "surrogate_approx_14 = dGaussianProcess(cov_func, optimize=opt)\n",
        "\n",
        "approx_14 = GPGO_multi(surrogate_approx_14, Acquisition_grad(util), objfunc, param)\n",
        "approx_14.run(init_evals=n_init, max_iter=iters)\n"
      ]
    },
    {
      "cell_type": "code",
      "execution_count": 27,
      "metadata": {
        "id": "vCJzn4vWGCs3",
        "colab": {
          "base_uri": "https://localhost:8080/"
        },
        "outputId": "cf0c5248-fe2a-4099-f1d4-4827cc9a86fd"
      },
      "outputs": [
        {
          "output_type": "stream",
          "name": "stdout",
          "text": [
            "Evaluation \t Proposed point \t  Current eval. \t  Best eval. \t        Exact EI: StdDev. x \t Approx EI: StdDev. x \n",
            "init\t [ 3.57189322 -3.28810573]\t 54.938487770767075\t 7.990765314336182\t    \t    \n",
            "init\t [-4.56332069 -1.41784631]\t 60.750198753157726\t 7.990765314336182\t    \t    \n",
            "init\t [-2.29989449  0.3072023 ]\t 31.984997246800887\t 7.990765314336182\t    \t    \n",
            "init\t [-1.9873903  -2.00218256]\t 7.990765314336182\t 7.990765314336182\t    \t    \n",
            "init\t [-3.97576933 -2.5610341 ]\t 41.754957769694336\t 7.990765314336182\t    \t    \n",
            "1  \t [4.73155427 5.12      ]\t 62.46870621802856\t 7.990765314336182\t 3.81309744870819\t 3.988805034976028\n",
            "2  \t [-5.12  5.12]\t 57.849427451571785\t 7.990765314336182\t 2.706225765725313\t 3.9032929777931815\n",
            "3  \t [-0.19785244  5.12      ]\t 35.74564373781982\t 7.990765314336182\t 3.3854708441625134\t 3.7623796149941215\n",
            "4  \t [2.27419305 1.12956305]\t 21.096654946463143\t 7.990765314336182\t 3.1504680108003895\t 3.270149617176963\n",
            "5  \t [-0.33194681 -5.12      ]\t 43.95926725607433\t 7.990765314336182\t 3.543148993993918\t 3.269658105614252\n",
            "6  \t [5.12       0.03262648]\t 29.135164784173227\t 7.990765314336182\t 3.519671763784389\t 3.441082798548218\n",
            "7  \t [ 0.58854414 -1.57632181]\t 40.19516800371814\t 7.990765314336182\t 3.3484825751732297\t 3.2378132052907347\n",
            "8  \t [-5.12 -5.12]\t 57.849427451571785\t 7.990765314336182\t 3.6653429632709966\t 3.957761997871699\n",
            "9  \t [-5.12        1.87030571]\t 35.56329658334811\t 7.990765314336182\t 2.58451181590998\t 3.5021145754973135\n",
            "10 \t [-2.33920351  3.25587585]\t 41.757654200668824\t 7.990765314336182\t 2.496137156192264\t 3.4194094204123178\n",
            "11 \t [2.11077688 3.63998799]\t 36.405786739488946\t 7.990765314336182\t 2.4004328752608757\t 3.391767744581756\n",
            "12 \t [ 5.12 -5.12]\t 57.849427451571785\t 7.990765314336182\t 2.593026624181293\t 3.9120563493099767\n",
            "13 \t [5.12       2.41536406]\t 53.37773916268126\t 7.990765314336182\t 2.717379614754918\t 3.567999332662914\n",
            "14 \t [-0.02932107  1.64640881]\t 18.93963355401439\t 7.990765314336182\t 2.440044759384313\t 3.189574453316426\n",
            "15 \t [-2.63567449 -5.12      ]\t 52.45276359549503\t 7.990765314336182\t 2.2681914127056126\t 2.795106570604742\n",
            "16 \t [ 2.03137356 -5.12      ]\t 33.244856940662295\t 7.990765314336182\t 3.077523684717011\t 3.2125274491101083\n",
            "17 \t [ 3.00191936 -0.80433748]\t 16.31102200993651\t 7.990765314336182\t 2.3316213842881046\t 2.6051981515313387\n",
            "18 \t [-1.42776853 -2.72224971]\t 40.171633338118255\t 7.990765314336182\t 2.476433734505831\t 2.525165658406024\n",
            "19 \t [ 5.12       -1.87955295]\t 35.187003609327505\t 7.990765314336182\t 2.441569981717332\t 2.7822658264590587\n",
            "20 \t [-2.62669366  5.12      ]\t 52.819654787431276\t 7.990765314336182\t 2.1560285127413734\t 2.4491026954777904\n"
          ]
        }
      ],
      "source": [
        "### ESTIMATED GP EI GRADIENTS\n",
        "\n",
        "np.random.seed(run_num_15)\n",
        "surrogate_approx_15 = dGaussianProcess(cov_func, optimize=opt)\n",
        "\n",
        "approx_15 = GPGO_multi(surrogate_approx_15, Acquisition_grad(util), objfunc, param)\n",
        "approx_15.run(init_evals=n_init, max_iter=iters)\n"
      ]
    },
    {
      "cell_type": "code",
      "execution_count": 28,
      "metadata": {
        "id": "bGGkhp-kGCw6",
        "colab": {
          "base_uri": "https://localhost:8080/"
        },
        "outputId": "c2af6527-922e-4e06-f71c-1c855cd2c736"
      },
      "outputs": [
        {
          "output_type": "stream",
          "name": "stdout",
          "text": [
            "Evaluation \t Proposed point \t  Current eval. \t  Best eval. \t        Exact EI: StdDev. x \t Approx EI: StdDev. x \n",
            "init\t [-2.83349935  0.23719262]\t 22.27210456874814\t 22.27210456874814\t    \t    \n",
            "init\t [ 0.51918292 -4.65303603]\t 57.57021076017139\t 22.27210456874814\t    \t    \n",
            "init\t [-1.42613673 -2.83565116]\t 33.89145899403749\t 22.27210456874814\t    \t    \n",
            "init\t [ 1.9325559  -3.44339021]\t 35.85029586225333\t 22.27210456874814\t    \t    \n",
            "init\t [-4.39987336  4.51595121]\t 77.78800881964571\t 22.27210456874814\t    \t    \n",
            "1  \t [5.12 5.12]\t 57.849427451571785\t 22.27210456874814\t 3.9731757856614807\t 4.088893153423972\n",
            "2  \t [5.12       0.13352531]\t 32.26020542174644\t 22.27210456874814\t 3.7448522637760786\t 3.5179007492166434\n",
            "3  \t [0.53982631 3.56714357]\t 51.82769142292192\t 22.27210456874814\t 3.482520131007129\t 4.08718322054214\n",
            "4  \t [-5.12 -5.12]\t 57.849427451571785\t 22.27210456874814\t 3.5748839268242207\t 3.7429722534529333\n",
            "5  \t [ 5.12 -5.12]\t 57.849427451571785\t 22.27210456874814\t 2.3517704341941137\t 3.264159441008184\n",
            "\u001b[1m\u001b[92m6\u001b[0m\t \u001b[1m\u001b[92m[1.26304904 0.0162499 ]\u001b[0m\t \u001b[1m\u001b[92m12.46661218512946\u001b[0m\t \u001b[1m\u001b[92m12.46661218512946\u001b[0m\t \u001b[1m\u001b[92m3.31255789468743\u001b[0m\t \u001b[1m\u001b[92m3.6301502678347144\u001b[0m\n",
            "7  \t [-5.12       -1.65403623]\t 47.331364429126474\t 12.46661218512946\t 2.914410285239538\t 3.318877576263256\n",
            "8  \t [3.3786467 2.4032985]\t 52.63255619149768\t 12.46661218512946\t 2.438767162189304\t 3.4400490065165323\n",
            "9  \t [-5.12        1.50310954]\t 51.18214343635739\t 12.46661218512946\t 2.823012342515209\t 3.2632840186480983\n",
            "10 \t [ 5.12       -2.35340512]\t 50.51281264993106\t 12.46661218512946\t 2.591748429881485\t 3.645489844589788\n",
            "11 \t [-1.58309407  5.12      ]\t 50.09866135705188\t 12.46661218512946\t 2.686286311535307\t 3.0754106572859787\n",
            "12 \t [-0.67994147  1.01052775]\t 15.766476859146454\t 12.46661218512946\t 3.1188965800983324\t 3.0215832068792157\n",
            "13 \t [-2.37083933 -5.12      ]\t 51.429411787973166\t 12.46661218512946\t 2.6676595026041374\t 2.4037271918631404\n",
            "14 \t [2.42536425 5.12      ]\t 53.72753769176131\t 12.46661218512946\t 2.4701813435412014\t 2.7424449693471504\n",
            "15 \t [ 2.6929633  -0.96446447]\t 21.93797359248548\t 12.46661218512946\t 2.188758103768596\t 2.935061765360727\n",
            "16 \t [-2.2691573   2.47999891]\t 42.42139226308487\t 12.46661218512946\t 2.1227268890777435\t 2.391822033450749\n",
            "\u001b[1m\u001b[92m17\u001b[0m\t \u001b[1m\u001b[92m[-0.07526153 -1.0345201 ]\u001b[0m\t \u001b[1m\u001b[92m2.407602003583733\u001b[0m\t \u001b[1m\u001b[92m2.407602003583733\u001b[0m\t \u001b[1m\u001b[92m2.5098019479700064\u001b[0m\t \u001b[1m\u001b[92m3.2060538273837813\u001b[0m\n",
            "\u001b[1m\u001b[92m18\u001b[0m\t \u001b[1m\u001b[92m[-0.07495841 -1.03436598]\u001b[0m\t \u001b[1m\u001b[92m2.3965001464274867\u001b[0m\t \u001b[1m\u001b[92m2.3965001464274867\u001b[0m\t \u001b[1m\u001b[92m2.6943059289646025\u001b[0m\t \u001b[1m\u001b[92m2.1777185715585383\u001b[0m\n",
            "\u001b[1m\u001b[92m19\u001b[0m\t \u001b[1m\u001b[92m[-0.07465013 -1.03421824]\u001b[0m\t \u001b[1m\u001b[92m2.385391248718106\u001b[0m\t \u001b[1m\u001b[92m2.385391248718106\u001b[0m\t \u001b[1m\u001b[92m2.273447499381096\u001b[0m\t \u001b[1m\u001b[92m2.1714417085037456\u001b[0m\n",
            "\u001b[1m\u001b[92m20\u001b[0m\t \u001b[1m\u001b[92m[-0.0744522 -1.0341218]\u001b[0m\t \u001b[1m\u001b[92m2.3782566161822256\u001b[0m\t \u001b[1m\u001b[92m2.3782566161822256\u001b[0m\t \u001b[1m\u001b[92m2.4582909711711336\u001b[0m\t \u001b[1m\u001b[92m2.5421578362194994\u001b[0m\n"
          ]
        }
      ],
      "source": [
        "### ESTIMATED GP EI GRADIENTS\n",
        "\n",
        "np.random.seed(run_num_16)\n",
        "surrogate_approx_16 = dGaussianProcess(cov_func, optimize=opt)\n",
        "\n",
        "approx_16 = GPGO_multi(surrogate_approx_16, Acquisition_grad(util), objfunc, param)\n",
        "approx_16.run(init_evals=n_init, max_iter=iters)\n"
      ]
    },
    {
      "cell_type": "code",
      "execution_count": 29,
      "metadata": {
        "id": "Yrs2mp7hGC1Z",
        "colab": {
          "base_uri": "https://localhost:8080/"
        },
        "outputId": "590d03b3-aa03-4777-b33a-3021c4af4743"
      },
      "outputs": [
        {
          "output_type": "stream",
          "name": "stdout",
          "text": [
            "Evaluation \t Proposed point \t  Current eval. \t  Best eval. \t        Exact EI: StdDev. x \t Approx EI: StdDev. x \n",
            "init\t [-2.10263037  0.31320838]\t 20.395145364684023\t 20.395145364684023\t    \t    \n",
            "init\t [-3.15882714 -4.42470033]\t 53.03732051200137\t 20.395145364684023\t    \t    \n",
            "init\t [2.93873111 1.60085526]\t 29.989224812583537\t 20.395145364684023\t    \t    \n",
            "init\t [1.40821398 0.77417363]\t 29.451989415882437\t 20.395145364684023\t    \t    \n",
            "init\t [-4.71999574 -1.45598869]\t 55.89242173757483\t 20.395145364684023\t    \t    \n",
            "1  \t [ 5.12 -5.12]\t 57.849427451571785\t 20.395145364684023\t 3.6883753167172184\t 4.813589322179726\n",
            "2  \t [-5.12        5.05155563]\t 54.96302096530529\t 20.395145364684023\t 3.913920752620948\t 3.658261661723749\n",
            "3  \t [-0.25142759  5.12      ]\t 39.077626483951676\t 20.395145364684023\t 3.613122381356971\t 3.5112669430628967\n",
            "4  \t [5.12 5.12]\t 57.849427451571785\t 20.395145364684023\t 4.093234860272804\t 3.8819532748249936\n",
            "5  \t [ 1.07732236 -3.51441306]\t 34.6278715708562\t 20.395145364684023\t 3.1015669533503014\t 3.4500951172624204\n",
            "6  \t [ 5.12       -1.25381075]\t 40.736168601722945\t 20.395145364684023\t 3.0950924264156714\t 3.304553582328563\n",
            "7  \t [-5.12        1.80687572]\t 38.691484636064416\t 20.395145364684023\t 3.3403072608316577\t 3.187344652144542\n",
            "8  \t [-2.3119809   3.10272209]\t 30.780360636333352\t 20.395145364684023\t 3.751159719156447\t 3.563155322564173\n",
            "\u001b[1m\u001b[92m9\u001b[0m\t \u001b[1m\u001b[92m[-1.18632502 -1.99003519]\u001b[0m\t \u001b[1m\u001b[92m11.492265087849855\u001b[0m\t \u001b[1m\u001b[92m11.492265087849855\u001b[0m\t \u001b[1m\u001b[92m4.053571909737899\u001b[0m\t \u001b[1m\u001b[92m3.5691328871569485\u001b[0m\n",
            "10 \t [2.32527311 4.36430027]\t 55.589275870027215\t 11.492265087849855\t 2.9756958116503376\t 3.1593821046354638\n",
            "11 \t [5.12       2.01265902]\t 33.00712562491607\t 11.492265087849855\t 3.3586594416278057\t 3.365826679137657\n",
            "12 \t [-0.58837531 -5.12      ]\t 47.76843600823311\t 11.492265087849855\t 3.2386519766683555\t 2.90866065756823\n",
            "13 \t [ 2.51492425 -1.52785462]\t 48.46248816563222\t 11.492265087849855\t 3.324379777022105\t 2.6724653323734935\n",
            "14 \t [ 2.54730199 -5.12      ]\t 54.97504212335967\t 11.492265087849855\t 3.199322293461653\t 2.784150036577071\n",
            "15 \t [-0.09022885  2.3660904 ]\t 23.83531337486596\t 11.492265087849855\t 3.2994061047642154\t 3.145026130114949\n",
            "16 \t [-5.12 -5.12]\t 57.849427451571785\t 11.492265087849855\t 2.854184831969915\t 2.453818918788258\n",
            "\u001b[1m\u001b[92m17\u001b[0m\t \u001b[1m\u001b[92m[-0.16623666 -0.82060659]\u001b[0m\t \u001b[1m\u001b[92m11.385402012483244\u001b[0m\t \u001b[1m\u001b[92m11.385402012483244\u001b[0m\t \u001b[1m\u001b[92m2.4671626300614795\u001b[0m\t \u001b[1m\u001b[92m2.5834046147510774\u001b[0m\n",
            "18 \t [-2.64933622  5.12      ]\t 51.8552385840691\t 11.385402012483244\t 2.7049894242950314\t 3.218742888959885\n",
            "19 \t [-2.26010839 -2.03557119]\t 20.135065859846954\t 11.385402012483244\t 2.6174748116233832\t 2.7365764772807095\n",
            "20 \t [-0.15822928 -1.7690727 ]\t 16.507275135241237\t 11.385402012483244\t 2.715354594898165\t 2.445832497411144\n"
          ]
        }
      ],
      "source": [
        "### ESTIMATED GP EI GRADIENTS\n",
        "\n",
        "np.random.seed(run_num_17)\n",
        "surrogate_approx_17 = dGaussianProcess(cov_func, optimize=opt)\n",
        "\n",
        "approx_17 = GPGO_multi(surrogate_approx_17, Acquisition_grad(util), objfunc, param)\n",
        "approx_17.run(init_evals=n_init, max_iter=iters)\n"
      ]
    },
    {
      "cell_type": "code",
      "execution_count": 30,
      "metadata": {
        "id": "f0HIEP3PIUEa",
        "colab": {
          "base_uri": "https://localhost:8080/"
        },
        "outputId": "87b225cf-cb38-40de-f18f-e15bbecb818a"
      },
      "outputs": [
        {
          "output_type": "stream",
          "name": "stdout",
          "text": [
            "Evaluation \t Proposed point \t  Current eval. \t  Best eval. \t        Exact EI: StdDev. x \t Approx EI: StdDev. x \n",
            "init\t [1.53983224 0.05584255]\t 22.67190580753611\t 22.67190580753611\t    \t    \n",
            "init\t [ 3.87687906 -3.25795609]\t 38.990099416711985\t 22.67190580753611\t    \t    \n",
            "init\t [3.60686662 2.56139557]\t 56.66448698782129\t 22.67190580753611\t    \t    \n",
            "init\t [1.70088108 4.99604939]\t 40.894059318256296\t 22.67190580753611\t    \t    \n",
            "init\t [-2.48864335 -4.83014733]\t 54.6725749848372\t 22.67190580753611\t    \t    \n",
            "1  \t [-5.12      2.245598]\t 43.69087350702162\t 22.67190580753611\t 3.630075407912595\t 4.028759782644506\n",
            "2  \t [-2.36016838  5.12      ]\t 50.87749650364091\t 22.67190580753611\t 3.371121708948033\t 3.162726508642975\n",
            "3  \t [-5.12      -1.7898523]\t 39.65037603507672\t 22.67190580753611\t 4.539142922976859\t 3.5475632408743203\n",
            "\u001b[1m\u001b[92m4\u001b[0m\t \u001b[1m\u001b[92m[-1.90642434  0.2499125 ]\u001b[0m\t \u001b[1m\u001b[92m15.370635068974353\u001b[0m\t \u001b[1m\u001b[92m15.370635068974353\u001b[0m\t \u001b[1m\u001b[92m4.021880907748143\u001b[0m\t \u001b[1m\u001b[92m3.2852207295724742\u001b[0m\n",
            "5  \t [ 1.0480274 -5.12     ]\t 30.474941164719084\t 15.370635068974353\t 3.5187041443980642\t 3.5462051099698706\n",
            "6  \t [5.12 5.12]\t 57.849427451571785\t 15.370635068974353\t 3.4498360579585543\t 3.025908644807756\n",
            "7  \t [ 5.12       -0.35046542]\t 44.94902531513111\t 15.370635068974353\t 2.8847550769290558\t 3.62585031269543\n",
            "8  \t [-0.36284632 -2.26102028]\t 32.446753617555444\t 15.370635068974353\t 2.3708122708577135\t 3.3817236853587143\n",
            "9  \t [-0.31633837  2.52820226]\t 40.38380156960376\t 15.370635068974353\t 2.895872307626137\t 3.5118604704643457\n",
            "10 \t [-5.12 -5.12]\t 57.849427451571785\t 15.370635068974353\t 3.5709087764254845\t 3.720086517422656\n",
            "11 \t [-5.12  5.12]\t 57.849427451571785\t 15.370635068974353\t 2.8164552339137208\t 3.330108477386027\n",
            "12 \t [ 5.12 -5.12]\t 57.849427451571785\t 15.370635068974353\t 2.6762146808796756\t 2.809200152178472\n",
            "13 \t [-2.72308557 -1.84182116]\t 27.036005981348644\t 15.370635068974353\t 2.5739071247927807\t 2.809984936525197\n",
            "14 \t [-2.74742678  2.20914023]\t 30.05114103547489\t 15.370635068974353\t 2.0860346757866117\t 2.6025469192819792\n",
            "\u001b[1m\u001b[92m15\u001b[0m\t \u001b[1m\u001b[92m[ 1.95677089 -2.10096024]\u001b[0m\t \u001b[1m\u001b[92m10.555041986037224\u001b[0m\t \u001b[1m\u001b[92m10.555041986037224\u001b[0m\t \u001b[1m\u001b[92m2.661892829474232\u001b[0m\t \u001b[1m\u001b[92m2.6750833716984763\u001b[0m\n",
            "16 \t [-0.38158122  0.04435183]\t 17.89068769502834\t 10.555041986037224\t 2.3229687564482995\t 2.6565029078605717\n",
            "17 \t [-3.99208052  0.17529362]\t 21.45635303471164\t 10.555041986037224\t 3.0791083797139334\t 3.1324240142800397\n",
            "18 \t [ 2.93275622 -1.04377017]\t 10.945661103326644\t 10.555041986037224\t 3.103260071161872\t 3.134316412844627\n",
            "19 \t [-0.255633  5.12    ]\t 39.34391971890956\t 10.555041986037224\t 2.5926808876849883\t 2.8772978280788712\n",
            "20 \t [ 1.6160793  -3.12761481]\t 32.895832800132986\t 10.555041986037224\t 2.611706121804226\t 3.070073894270234\n"
          ]
        }
      ],
      "source": [
        "### ESTIMATED GP EI GRADIENTS\n",
        "\n",
        "np.random.seed(run_num_18)\n",
        "surrogate_approx_18 = dGaussianProcess(cov_func, optimize=opt)\n",
        "\n",
        "approx_18 = GPGO_multi(surrogate_approx_18, Acquisition_grad(util), objfunc, param)\n",
        "approx_18.run(init_evals=n_init, max_iter=iters)\n"
      ]
    },
    {
      "cell_type": "code",
      "execution_count": 31,
      "metadata": {
        "id": "S3mxRQDLIUPC",
        "colab": {
          "base_uri": "https://localhost:8080/"
        },
        "outputId": "90a99a40-3aa7-4882-ef2c-e8f0cad426eb"
      },
      "outputs": [
        {
          "output_type": "stream",
          "name": "stdout",
          "text": [
            "Evaluation \t Proposed point \t  Current eval. \t  Best eval. \t        Exact EI: StdDev. x \t Approx EI: StdDev. x \n",
            "init\t [-4.12125592  2.6751971 ]\t 41.43485596167127\t 25.867003842388073\t    \t    \n",
            "init\t [-2.59135515 -3.70553152]\t 51.60126035043229\t 25.867003842388073\t    \t    \n",
            "init\t [-1.72598719 -4.27008445]\t 43.97430127029199\t 25.867003842388073\t    \t    \n",
            "init\t [1.76104531 3.13952049]\t 25.867003842388073\t 25.867003842388073\t    \t    \n",
            "init\t [4.9432772  1.38916592]\t 44.66580306903559\t 25.867003842388073\t    \t    \n",
            "1  \t [ 5.12 -5.12]\t 57.849427451571785\t 25.867003842388073\t 3.4588117408596997\t 4.56156041833644\n",
            "2  \t [ 1.77608051 -1.68645169]\t 28.254823097110606\t 25.867003842388073\t 3.748944595797928\t 3.499447700766841\n",
            "3  \t [5.12 5.12]\t 57.849427451571785\t 25.867003842388073\t 4.374197239329832\t 4.37226603533253\n",
            "4  \t [-1.28670498  5.12      ]\t 42.86617580006853\t 25.867003842388073\t 2.958926854215325\t 2.9939083696483677\n",
            "5  \t [-5.12       -0.97841044]\t 29.973865979219045\t 25.867003842388073\t 3.035194490080088\t 3.195564638339243\n",
            "\u001b[1m\u001b[92m6\u001b[0m\t \u001b[1m\u001b[92m[-1.20069154  0.35658629]\u001b[0m\t \u001b[1m\u001b[92m24.727516120767746\u001b[0m\t \u001b[1m\u001b[92m24.727516120767746\u001b[0m\t \u001b[1m\u001b[92m3.3398242663630815\u001b[0m\t \u001b[1m\u001b[92m3.033827331311431\u001b[0m\n",
            "7  \t [ 1.54015719 -5.12      ]\t 50.98016863784723\t 24.727516120767746\t 3.4946138514445733\t 3.677653232126525\n",
            "8  \t [ 5.12       -1.82151439]\t 37.89893342571961\t 24.727516120767746\t 3.238526609952713\t 3.156331774962309\n",
            "9  \t [-5.12 -5.12]\t 57.849427451571785\t 24.727516120767746\t 3.4704445344724837\t 3.7563229720789066\n",
            "10 \t [-5.12  5.12]\t 57.849427451571785\t 24.727516120767746\t 2.9004647366419802\t 3.5517880821034375\n",
            "\u001b[1m\u001b[92m11\u001b[0m\t \u001b[1m\u001b[92m[1.81567945 0.74331483]\u001b[0m\t \u001b[1m\u001b[92m20.258504763727156\u001b[0m\t \u001b[1m\u001b[92m20.258504763727156\u001b[0m\t \u001b[1m\u001b[92m2.7353999625645864\u001b[0m\t \u001b[1m\u001b[92m2.6796515242625745\u001b[0m\n",
            "12 \t [2.02943526 5.12      ]\t 33.21386156920049\t 20.258504763727156\t 2.8031447733535333\t 2.8388447677261692\n",
            "13 \t [-0.86341913  2.59158684]\t 29.312965361487883\t 20.258504763727156\t 2.6207776620035195\t 2.542039710185515\n",
            "14 \t [-0.58609395 -1.85647438]\t 26.1602269489905\t 20.258504763727156\t 2.5288140060131212\t 3.105416257416\n",
            "\u001b[1m\u001b[92m15\u001b[0m\t \u001b[1m\u001b[92m[-2.98545057 -0.74916269]\u001b[0m\t \u001b[1m\u001b[92m19.56852540710019\u001b[0m\t \u001b[1m\u001b[92m19.56852540710019\u001b[0m\t \u001b[1m\u001b[92m2.7026465196589338\u001b[0m\t \u001b[1m\u001b[92m3.074760561253292\u001b[0m\n",
            "16 \t [ 3.23981566 -3.27994367]\t 42.48530835431261\t 19.56852540710019\t 2.8739336212616076\t 2.9373470829308\n",
            "17 \t [-5.12       -2.81535856]\t 42.85881262058198\t 19.56852540710019\t 2.618476475161041\t 3.178869652858635\n",
            "18 \t [-5.12        0.90341784]\t 31.526356293778345\t 19.56852540710019\t 2.289189787966556\t 2.904234520640693\n",
            "19 \t [ 3.38340822 -0.29189942]\t 41.56956621273456\t 19.56852540710019\t 2.612434058929711\t 2.660833503487931\n",
            "20 \t [3.66602426 3.14374988]\t 42.16686696381892\t 19.56852540710019\t 3.0042968537571566\t 2.7806556578238912\n"
          ]
        }
      ],
      "source": [
        "### ESTIMATED GP EI GRADIENTS\n",
        "\n",
        "np.random.seed(run_num_19)\n",
        "surrogate_approx_19 = dGaussianProcess(cov_func, optimize=opt)\n",
        "\n",
        "approx_19 = GPGO_multi(surrogate_approx_19, Acquisition_grad(util), objfunc, param)\n",
        "approx_19.run(init_evals=n_init, max_iter=iters)\n"
      ]
    },
    {
      "cell_type": "code",
      "execution_count": 32,
      "metadata": {
        "id": "Aawd59dRIUYn",
        "colab": {
          "base_uri": "https://localhost:8080/"
        },
        "outputId": "56ded992-5650-42e6-ed11-4d51d92befdd"
      },
      "outputs": [
        {
          "output_type": "stream",
          "name": "stdout",
          "text": [
            "Evaluation \t Proposed point \t  Current eval. \t  Best eval. \t        Exact EI: StdDev. x \t Approx EI: StdDev. x \n",
            "init\t [0.9024594  4.07258857]\t 20.24255447774017\t 17.388691338534382\t    \t    \n",
            "init\t [4.00927467 3.23417577]\t 35.55852254546393\t 17.388691338534382\t    \t    \n",
            "init\t [-4.75249064  1.96359764]\t 36.54582989269194\t 17.388691338534382\t    \t    \n",
            "init\t [-1.24230715  0.18955208]\t 17.388691338534382\t 17.388691338534382\t    \t    \n",
            "init\t [ 1.61742301 -3.13497377]\t 33.22932870179905\t 17.388691338534382\t    \t    \n",
            "1  \t [-5.12 -5.12]\t 57.849427451571785\t 17.388691338534382\t 3.6916727210491396\t 3.808236648117454\n",
            "2  \t [ 5.12       -0.92646284]\t 30.831631102598827\t 17.388691338534382\t 3.2580062981319675\t 3.9541002413841198\n",
            "3  \t [ 5.12 -5.12]\t 57.849427451571785\t 17.388691338534382\t 3.006782873467263\t 3.411983564564566\n",
            "4  \t [-2.70369493  5.12      ]\t 49.103240213815454\t 17.388691338534382\t 2.5499574334781707\t 3.6193854503333642\n",
            "5  \t [-1.34012059 -5.12      ]\t 46.08530093264528\t 17.388691338534382\t 3.2096687093709417\t 3.241036072599504\n",
            "6  \t [-5.12       -1.49922861]\t 51.172282696353044\t 17.388691338534382\t 3.5395680000434684\t 3.459160434178229\n",
            "7  \t [1.9118972  0.46609445]\t 25.13998177792157\t 17.388691338534382\t 3.9831057595849795\t 3.557331621994553\n",
            "8  \t [-2.03100314 -2.261544  ]\t 20.153382999117774\t 17.388691338534382\t 3.4090395602524572\t 3.635247966774642\n",
            "9  \t [-1.3473163   2.54299687]\t 43.65998921857343\t 17.388691338534382\t 3.4336496548696593\t 3.4251126162477377\n",
            "10 \t [-5.12  5.12]\t 57.849427451571785\t 17.388691338534382\t 3.5188845612048247\t 3.5741702555235366\n",
            "11 \t [2.81193111 5.12      ]\t 43.037884085108125\t 17.388691338534382\t 3.420875485578471\t 2.8089821716756442\n",
            "12 \t [ 2.24351804 -5.12      ]\t 43.55092589894644\t 17.388691338534382\t 3.3394998082796854\t 3.50967161819137\n",
            "13 \t [5.12       1.32212323]\t 45.05084359854097\t 17.388691338534382\t 3.065855227873302\t 3.389916852109555\n",
            "14 \t [5.12 5.12]\t 57.849427451571785\t 17.388691338534382\t 3.060772832451145\t 3.1322256691259778\n",
            "15 \t [ 0.18698476 -1.30762912]\t 21.430470192289334\t 17.388691338534382\t 2.264682403214588\t 2.927376169186385\n",
            "16 \t [ 3.91016745 -2.66586541]\t 38.99087145607229\t 17.388691338534382\t 2.5662384019236137\t 2.8205269112014677\n",
            "\u001b[1m\u001b[92m17\u001b[0m\t \u001b[1m\u001b[92m[-3.10512773  0.11565182]\u001b[0m\t \u001b[1m\u001b[92m14.28460126129096\u001b[0m\t \u001b[1m\u001b[92m14.28460126129096\u001b[0m\t \u001b[1m\u001b[92m2.4158527406414008\u001b[0m\t \u001b[1m\u001b[92m2.5925456195630123\u001b[0m\n",
            "18 \t [-0.29023321  5.12      ]\t 41.51003791322239\t 14.28460126129096\t 2.944972977782199\t 2.8188449552972243\n",
            "19 \t [1.45144196 2.39074444]\t 45.09537770894131\t 14.28460126129096\t 2.436874843907305\t 2.2590955005325606\n",
            "20 \t [-3.35235211 -3.47141103]\t 59.124827204747604\t 14.28460126129096\t 2.538260024883598\t 2.848800563683244\n"
          ]
        }
      ],
      "source": [
        "### ESTIMATED GP EI GRADIENTS\n",
        "\n",
        "np.random.seed(run_num_20)\n",
        "surrogate_approx_20 = dGaussianProcess(cov_func, optimize=opt)\n",
        "\n",
        "approx_20 = GPGO_multi(surrogate_approx_20, Acquisition_grad(util), objfunc, param)\n",
        "approx_20.run(init_evals=n_init, max_iter=iters)\n"
      ]
    },
    {
      "cell_type": "code",
      "execution_count": 33,
      "metadata": {
        "id": "xkgzPRbBTHaq",
        "colab": {
          "base_uri": "https://localhost:8080/"
        },
        "outputId": "eaa067f3-b030-4533-b94e-4e98ade8a53d"
      },
      "outputs": [
        {
          "output_type": "execute_result",
          "data": {
            "text/plain": [
              "1659628847.8258617"
            ]
          },
          "metadata": {},
          "execution_count": 33
        }
      ],
      "source": [
        "end_approx = time.time()\n",
        "end_approx\n",
        "\n",
        "time_approx = end_approx - start_approx\n",
        "time_approx\n",
        "\n",
        "start_exact = time.time()\n",
        "start_exact"
      ]
    },
    {
      "cell_type": "code",
      "execution_count": 34,
      "metadata": {
        "id": "7CG3Ndvb16Rb",
        "colab": {
          "base_uri": "https://localhost:8080/"
        },
        "outputId": "f53f649a-bb8c-4b2f-d691-2fe4fccc8a78"
      },
      "outputs": [
        {
          "output_type": "stream",
          "name": "stdout",
          "text": [
            "Evaluation \t Proposed point \t  Current eval. \t  Best eval. \t        Exact EI: StdDev. x \t Approx EI: StdDev. x \n",
            "init\t [-0.84969467  2.25612281]\t 20.33436270766351\t 19.908403246996286\t    \t    \n",
            "init\t [-5.1188288  -2.02411446]\t 33.07414982069084\t 19.908403246996286\t    \t    \n",
            "init\t [-3.61721968 -4.17445279]\t 53.347974723929894\t 19.908403246996286\t    \t    \n",
            "init\t [-3.21269544 -1.58145816]\t 39.218472310354045\t 19.908403246996286\t    \t    \n",
            "init\t [-1.05710106  0.39748336]\t 19.908403246996286\t 19.908403246996286\t    \t    \n",
            "1  \t [ 4.04077223 -4.24914728]\t 44.655863836006326\t 19.908403246996286\t 3.9761379307136067\t 4.416824073979648\n",
            "2  \t [5.12 5.12]\t 57.849427451571785\t 19.908403246996286\t 3.577999403585383\t 3.686554539862921\n",
            "3  \t [4.33434648 0.43303025]\t 53.15679480591048\t 19.908403246996286\t 3.5801611974465017\t 4.404941905396807\n",
            "4  \t [-5.12        4.36680096]\t 64.69123843795754\t 19.908403246996286\t 3.606156701197781\t 4.335151062963049\n",
            "5  \t [ 0.15863144 -5.09509868]\t 32.28720315238102\t 19.908403246996286\t 3.276252020237083\t 3.6693817467852825\n",
            "6  \t [1.14876513 5.12      ]\t 34.30392897319576\t 19.908403246996286\t 3.1395937315583216\t 3.3986906341625125\n",
            "7  \t [ 1.31256643 -1.72416779]\t 30.142244401980562\t 19.908403246996286\t 3.3042529610711084\t 3.664129330608529\n",
            "8  \t [-4.10737963  1.26624465]\t 31.683822784729472\t 19.908403246996286\t 3.2836410986561124\t 3.7172202200878135\n",
            "9  \t [-1.8031505   5.01674856]\t 35.19662247947261\t 19.908403246996286\t 3.1397513853387586\t 3.667364894666546\n",
            "10 \t [1.44326413 2.67733956]\t 43.030904095149666\t 19.908403246996286\t 3.0973348675741157\t 3.390598196012234\n",
            "11 \t [-1.02410892 -2.45608716]\t 26.817446231765178\t 19.908403246996286\t 3.2949224428888444\t 3.66889491780657\n",
            "12 \t [ 4.99921742 -1.83426275]\t 33.306327726368124\t 19.908403246996286\t 3.6681967821703534\t 3.669565443315867\n",
            "13 \t [4.00387845 2.91952715]\t 25.808935178213076\t 19.908403246996286\t 3.255739709962618\t 3.2857324265488783\n",
            "14 \t [1.37789596 0.39427407]\t 37.126116031362\t 19.908403246996286\t 2.9236743288513063\t 3.367737542823906\n",
            "15 \t [-2.47665132  2.64968814]\t 48.94092512304247\t 19.908403246996286\t 3.145228484240781\t 3.1650238429515016\n",
            "16 \t [ 1.69671075 -3.63010472]\t 46.183210912354085\t 19.908403246996286\t 3.959882408016455\t 3.5246705798218816\n",
            "17 \t [-5.12 -5.12]\t 57.849427451571785\t 19.908403246996286\t 3.7879366077848236\t 3.771902773682683\n",
            "18 \t [-1.73895537 -5.10978437]\t 42.113498465590716\t 19.908403246996286\t 2.74328610493558\t 3.6304424044967867\n",
            "19 \t [2.95520528 5.00231418]\t 34.150915231977066\t 19.908403246996286\t 3.1543970130724324\t 3.5905254034042695\n",
            "20 \t [-4.75095872 -0.26804753]\t 43.71475131048825\t 19.908403246996286\t 3.1170901297440294\t 3.6024358645454506\n"
          ]
        }
      ],
      "source": [
        "### EXACT GP EI GRADIENTS\n",
        "\n",
        "np.random.seed(run_num_1)\n",
        "surrogate_exact_1 = dGaussianProcess(cov_func, optimize=opt)\n",
        "\n",
        "exact_1 = dGPGO(surrogate_exact_1, Acquisition_grad(util), objfunc, param)\n",
        "exact_1.run(init_evals=n_init, max_iter=iters)\n"
      ]
    },
    {
      "cell_type": "code",
      "execution_count": 35,
      "metadata": {
        "id": "-ilCPSAu9SAg",
        "colab": {
          "base_uri": "https://localhost:8080/"
        },
        "outputId": "012550de-f282-4796-ddb4-c47b167e268a"
      },
      "outputs": [
        {
          "output_type": "stream",
          "name": "stdout",
          "text": [
            "Evaluation \t Proposed point \t  Current eval. \t  Best eval. \t        Exact EI: StdDev. x \t Approx EI: StdDev. x \n",
            "init\t [-0.6554122  -4.85451539]\t 43.490296251903594\t 18.964539418712707\t    \t    \n",
            "init\t [ 0.50854377 -0.6622987 ]\t 35.91861667536101\t 18.964539418712707\t    \t    \n",
            "init\t [-0.81543371 -1.73737143]\t 20.479562046739524\t 18.964539418712707\t    \t    \n",
            "init\t [-3.02439799  1.2213347 ]\t 18.964539418712707\t 18.964539418712707\t    \t    \n",
            "init\t [-2.05153614 -2.3876887 ]\t 28.041315668371354\t 18.964539418712707\t    \t    \n",
            "1  \t [5.12       3.80666627]\t 49.929724456015066\t 18.964539418712707\t 4.1050546592081405\t 4.484021420452111\n",
            "2  \t [ 4.8426374  -3.96513962]\t 43.91494982239877\t 18.964539418712707\t 3.563388233680121\t 4.370894969251236\n",
            "3  \t [0.07190387 5.12      ]\t 29.933192790802167\t 18.964539418712707\t 3.8155131633864685\t 4.079687546206902\n",
            "4  \t [-5.12 -5.12]\t 57.849427451571785\t 18.964539418712707\t 3.7693301569602307\t 4.143884537345106\n",
            "5  \t [ 4.59895346 -0.06119922]\t 40.013000057276244\t 18.964539418712707\t 2.819963460405199\t 3.724269453435668\n",
            "6  \t [-3.91741314  4.88363079]\t 43.068424277019666\t 18.964539418712707\t 3.1434303523421727\t 3.5587935285709213\n",
            "7  \t [-5.12       -1.26657555]\t 41.568517909004186\t 18.964539418712707\t 3.0589363490005197\t 3.4943536723867283\n",
            "8  \t [1.21973391 2.47444057]\t 35.59169766325316\t 18.964539418712707\t 2.9649433824024793\t 2.4252591637134824\n",
            "9  \t [2.92904152 4.77403854]\t 40.84361332504791\t 18.964539418712707\t 3.45436338860767\t 3.8054042072247225\n",
            "10 \t [ 1.96099322 -3.20064915]\t 21.337133208497338\t 18.964539418712707\t 2.6288382866461744\t 3.1268945691906893\n",
            "11 \t [-1.72022735  3.19602859]\t 31.70705858377542\t 18.964539418712707\t 3.387039551126562\t 3.404598757665758\n",
            "12 \t [ 2.89629831 -1.49065004]\t 32.6420452157215\t 18.964539418712707\t 2.3077263883508774\t 2.68408523204738\n",
            "13 \t [ 1.89552918 -4.71293572]\t 40.19073314392916\t 18.964539418712707\t 3.466585786280899\t 3.669001851963638\n",
            "14 \t [-5.12        2.17459558]\t 39.091048167534204\t 18.964539418712707\t 3.3055937618981557\t 3.6820925593025726\n",
            "15 \t [-2.93352674 -4.40695244]\t 47.225554040270865\t 18.964539418712707\t 3.1163885696667397\t 3.4353193569924776\n",
            "\u001b[1m\u001b[92m16\u001b[0m\t \u001b[1m\u001b[92m[-1.22428413  0.86777242]\u001b[0m\t \u001b[1m\u001b[92m13.900370675870338\u001b[0m\t \u001b[1m\u001b[92m13.900370675870338\u001b[0m\t \u001b[1m\u001b[92m2.6830020716340637\u001b[0m\t \u001b[1m\u001b[92m2.5889118495856858\u001b[0m\n",
            "17 \t [3.53277763 1.73232389]\t 46.37848039133966\t 13.900370675870338\t 2.872890532863702\t 3.1410586972106094\n",
            "18 \t [-2.8564712  -0.45013378]\t 31.673359177077586\t 13.900370675870338\t 2.982585560323206\t 3.2950880087681798\n",
            "19 \t [ 0.41868082 -2.87570099]\t 30.065641719515042\t 13.900370675870338\t 3.1043821498271944\t 2.919585954851485\n",
            "20 \t [-0.66117718  1.52442901]\t 37.939142865707936\t 13.900370675870338\t 3.192458319758034\t 3.7539316783120755\n"
          ]
        }
      ],
      "source": [
        "### EXACT GP EI GRADIENTS\n",
        "\n",
        "np.random.seed(run_num_2)\n",
        "surrogate_exact_2 = dGaussianProcess(cov_func, optimize=opt)\n",
        "\n",
        "exact_2 = dGPGO(surrogate_exact_2, Acquisition_grad(util), objfunc, param)\n",
        "exact_2.run(init_evals=n_init, max_iter=iters)\n"
      ]
    },
    {
      "cell_type": "code",
      "execution_count": 36,
      "metadata": {
        "id": "XieJ158mIvlP",
        "colab": {
          "base_uri": "https://localhost:8080/"
        },
        "outputId": "5b4c2f8e-1054-4f8a-fcbd-797a213e407c"
      },
      "outputs": [
        {
          "output_type": "stream",
          "name": "stdout",
          "text": [
            "Evaluation \t Proposed point \t  Current eval. \t  Best eval. \t        Exact EI: StdDev. x \t Approx EI: StdDev. x \n",
            "init\t [0.52017052 2.1314337 ]\t 27.953858411008774\t 10.607662635789808\t    \t    \n",
            "init\t [-2.14113547  0.11087468]\t 10.607662635789808\t 10.607662635789808\t    \t    \n",
            "init\t [4.02377681 4.05804123]\t 33.42749829480097\t 10.607662635789808\t    \t    \n",
            "init\t [-3.83400642 -2.99783293]\t 28.650953928965198\t 10.607662635789808\t    \t    \n",
            "init\t [-4.59297584 -0.6061072 ]\t 57.6631355589384\t 10.607662635789808\t    \t    \n",
            "1  \t [ 1.67759371 -3.17566691]\t 32.790754957541495\t 10.607662635789808\t 2.6573005929159668\t 3.8554081240475573\n",
            "2  \t [-3.55868365  4.82551621]\t 60.70894900147689\t 10.607662635789808\t 3.745474785896036\t 4.330989448576486\n",
            "3  \t [ 5.12       -0.35054927]\t 44.95333655067316\t 10.607662635789808\t 3.2942345221416938\t 3.54837426908336\n",
            "4  \t [-1.57261072 -5.10194768]\t 49.46255273895392\t 10.607662635789808\t 3.742843317094406\t 3.4026926478457877\n",
            "5  \t [ 4.60149323 -3.45085773]\t 70.64390691106058\t 10.607662635789808\t 3.671907565258518\t 3.593287283936636\n",
            "6  \t [-5.12 -5.12]\t 57.849427451571785\t 10.607662635789808\t 3.9599226777605616\t 3.5016800675333055\n",
            "7  \t [0.28864232 5.12      ]\t 41.41221205501126\t 10.607662635789808\t 3.561958818540339\t 3.2630235962708096\n",
            "8  \t [ 1.77491646 -0.25191089]\t 21.774689306736178\t 10.607662635789808\t 3.060509747541805\t 2.879767420829668\n",
            "9  \t [-0.73578584 -2.15929589]\t 20.70028565287679\t 10.607662635789808\t 2.8409046566054563\t 2.775514931238374\n",
            "10 \t [3.26984841 1.71392928]\t 37.12038209800694\t 10.607662635789808\t 3.3041443019915695\t 3.726066454048686\n",
            "11 \t [-3.36515828  2.06332523]\t 32.98334797096961\t 10.607662635789808\t 3.5081557078059262\t 3.583190797500888\n",
            "12 \t [ 2.1364897  -5.08705114]\t 35.35895481097516\t 10.607662635789808\t 3.56246695909325\t 3.347009025130282\n",
            "13 \t [-1.35480224  3.17521312]\t 33.50874520691948\t 10.607662635789808\t 3.5812394120868767\t 3.3999295339287428\n",
            "14 \t [-0.32379096 -0.19021566]\t 20.94446745305709\t 10.607662635789808\t 3.517502360400021\t 3.3239608258828324\n",
            "15 \t [5.12 5.12]\t 57.849427451571785\t 10.607662635789808\t 3.469886129011931\t 3.6498564331463768\n",
            "16 \t [2.38879593 5.12      ]\t 52.28774842080331\t 10.607662635789808\t 2.767124133488268\t 3.190137733715441\n",
            "17 \t [5.12       2.47648711]\t 54.94877113955036\t 10.607662635789808\t 2.914723371297982\t 3.133696570792516\n",
            "18 \t [-5.02199678  2.39324044]\t 48.87671705110845\t 10.607662635789808\t 2.705269221125851\t 3.4842795283178947\n",
            "19 \t [-2.07426033 -2.41455399]\t 29.794680262200064\t 10.607662635789808\t 2.935611180884241\t 3.417244415442422\n",
            "20 \t [ 2.71382828 -1.07762974]\t 21.945531950511356\t 10.607662635789808\t 2.4443028603697248\t 3.062634293779604\n"
          ]
        }
      ],
      "source": [
        "### EXACT GP EI GRADIENTS\n",
        "\n",
        "np.random.seed(run_num_3)\n",
        "surrogate_exact_3 = dGaussianProcess(cov_func, optimize=opt)\n",
        "\n",
        "exact_3 = dGPGO(surrogate_exact_3, Acquisition_grad(util), objfunc, param)\n",
        "exact_3.run(init_evals=n_init, max_iter=iters)\n"
      ]
    },
    {
      "cell_type": "code",
      "execution_count": 37,
      "metadata": {
        "id": "PhLBVOIfIvol",
        "colab": {
          "base_uri": "https://localhost:8080/"
        },
        "outputId": "8b612a58-c2a2-4bdc-b44c-a39674913f0d"
      },
      "outputs": [
        {
          "output_type": "stream",
          "name": "stdout",
          "text": [
            "Evaluation \t Proposed point \t  Current eval. \t  Best eval. \t        Exact EI: StdDev. x \t Approx EI: StdDev. x \n",
            "init\t [4.78238555 0.48365823]\t 51.03163809010808\t 14.323038259018315\t    \t    \n",
            "init\t [4.84028785 2.19971578]\t 39.78645699016559\t 14.323038259018315\t    \t    \n",
            "init\t [ 2.02474316 -2.90724357]\t 14.323038259018315\t 14.323038259018315\t    \t    \n",
            "init\t [ 4.87705042 -5.05620219]\t 52.80627247106233\t 14.323038259018315\t    \t    \n",
            "init\t [-2.52946061 -0.66773471]\t 41.61497868486559\t 14.323038259018315\t    \t    \n",
            "1  \t [-2.37593933  5.12      ]\t 51.68247899543054\t 14.323038259018315\t 3.4046308044637925\t 4.1040976529906095\n",
            "2  \t [-5.12 -5.12]\t 57.849427451571785\t 14.323038259018315\t 4.016142298272456\t 3.3440209650057\n",
            "3  \t [1.96075032 5.12      ]\t 33.07180734617556\t 14.323038259018315\t 3.401524308508833\t 3.478886341742561\n",
            "4  \t [0.79127683 1.31343873]\t 23.667976899638028\t 14.323038259018315\t 3.3448081931247935\t 3.4408481647183593\n",
            "5  \t [-1.11005166 -4.9156598 ]\t 29.06441368630989\t 14.323038259018315\t 3.2058958969641873\t 3.463437995637225\n",
            "6  \t [5.12 5.12]\t 57.849427451571785\t 14.323038259018315\t 3.1381267821737335\t 3.5076841590669323\n",
            "7  \t [-5.12       -1.84857617]\t 36.53670540018718\t 14.323038259018315\t 2.224859481380232\t 3.19653494587977\n",
            "8  \t [-3.13580519  2.10869012]\t 19.94743129407157\t 14.323038259018315\t 2.294968568105443\t 3.298620799044874\n",
            "9  \t [-5.05769195  0.74767283]\t 36.9353076824078\t 14.323038259018315\t 2.4150585146670265\t 2.908296244908189\n",
            "\u001b[1m\u001b[92m10\u001b[0m\t \u001b[1m\u001b[92m[ 0.07891895 -1.80737603]\u001b[0m\t \u001b[1m\u001b[92m10.949787999464643\u001b[0m\t \u001b[1m\u001b[92m10.949787999464643\u001b[0m\t \u001b[1m\u001b[92m2.583775491456024\u001b[0m\t \u001b[1m\u001b[92m3.465173099498391\u001b[0m\n",
            "11 \t [ 5.02991393 -2.20285215]\t 37.40945938733226\t 10.949787999464643\t 2.984119231991709\t 3.422797149732581\n",
            "12 \t [ 1.38821255 -4.9510036 ]\t 44.54276845153296\t 10.949787999464643\t 2.566116183297651\t 3.410110907576632\n",
            "13 \t [-0.13929768  3.35425666]\t 30.954362025641558\t 10.949787999464643\t 2.4204800566830214\t 2.6450688131814624\n",
            "14 \t [ 1.81937023 -0.43198071]\t 28.37531695606956\t 10.949787999464643\t 2.1028788048673874\t 2.889286886211792\n",
            "15 \t [-3.10765078 -3.10145708]\t 23.442132682178368\t 10.949787999464643\t 2.52912526370182\t 2.8212375050704193\n",
            "16 \t [2.61933042 2.53111942]\t 50.39532879335461\t 10.949787999464643\t 2.7053650706818293\t 3.0153536734380544\n",
            "17 \t [-4.1900804   3.50272424]\t 56.14783812818344\t 10.949787999464643\t 3.2192588669124125\t 3.5513124003893957\n",
            "18 \t [-1.51785553  1.56907824]\t 43.77580331532188\t 10.949787999464643\t 2.7508306847677426\t 3.0578988331551065\n",
            "19 \t [-0.89216227 -2.55619557]\t 28.922167193017696\t 10.949787999464643\t 3.0309716712814647\t 3.3667312569109136\n",
            "20 \t [ 2.86380304 -2.04942592]\t 16.323346275275366\t 10.949787999464643\t 2.8569681025351596\t 3.135201476523026\n"
          ]
        }
      ],
      "source": [
        "### EXACT GP EI GRADIENTS\n",
        "\n",
        "np.random.seed(run_num_4)\n",
        "surrogate_exact_4 = dGaussianProcess(cov_func, optimize=opt)\n",
        "\n",
        "exact_4 = dGPGO(surrogate_exact_4, Acquisition_grad(util), objfunc, param)\n",
        "exact_4.run(init_evals=n_init, max_iter=iters)\n"
      ]
    },
    {
      "cell_type": "code",
      "execution_count": 38,
      "metadata": {
        "id": "arbiPyj2IvsJ",
        "colab": {
          "base_uri": "https://localhost:8080/"
        },
        "outputId": "da1251cb-9947-42bb-d561-a63bf7d70545"
      },
      "outputs": [
        {
          "output_type": "stream",
          "name": "stdout",
          "text": [
            "Evaluation \t Proposed point \t  Current eval. \t  Best eval. \t        Exact EI: StdDev. x \t Approx EI: StdDev. x \n",
            "init\t [-2.84678993  3.79629882]\t 33.93442008827236\t 7.8108627039749745\t    \t    \n",
            "init\t [-3.00319585  4.2865757 ]\t 39.673876075575784\t 7.8108627039749745\t    \t    \n",
            "init\t [-0.11866943  1.14425716]\t 7.8108627039749745\t 7.8108627039749745\t    \t    \n",
            "init\t [2.72289645 0.1886002 ]\t 25.38160395721669\t 7.8108627039749745\t    \t    \n",
            "init\t [-2.08076286 -3.19773462]\t 22.589982116319675\t 7.8108627039749745\t    \t    \n",
            "1  \t [ 4.32894502 -5.09733749]\t 61.29459455724814\t 7.8108627039749745\t 4.55242772226513\t 4.710018824156584\n",
            "2  \t [5.12 5.12]\t 57.849427451571785\t 7.8108627039749745\t 4.3969262420845885\t 3.9310366096136073\n",
            "3  \t [-5.12       -0.31196307]\t 42.81767920097346\t 7.8108627039749745\t 3.5058108916311923\t 3.8198609736323177\n",
            "4  \t [1.09365057 4.84529954]\t 30.718444110329266\t 7.8108627039749745\t 3.5569372879113366\t 3.462156188475081\n",
            "5  \t [-5.12 -5.12]\t 57.849427451571785\t 7.8108627039749745\t 3.5815013805005247\t 3.493827687889428\n",
            "6  \t [ 0.42036916 -5.09696808]\t 46.729342670371594\t 7.8108627039749745\t 3.0636637944919376\t 3.431072154095462\n",
            "7  \t [ 5.12       -1.48759001]\t 51.107253247572\t 7.8108627039749745\t 2.2901475714861426\t 2.5233613520467424\n",
            "8  \t [ 0.34451645 -1.58790644]\t 36.74884851228517\t 7.8108627039749745\t 2.9079512816478377\t 2.7895777020413557\n",
            "9  \t [5.12       1.95694356]\t 33.118052141989\t 7.8108627039749745\t 2.978357556241623\t 3.396787148225552\n",
            "10 \t [-2.50167227  0.99222013]\t 27.2542579996529\t 7.8108627039749745\t 2.451283292019642\t 2.791403220432083\n",
            "11 \t [1.00711063 2.42662792]\t 25.86880856149501\t 7.8108627039749745\t 2.9614147805371647\t 3.2660357435051983\n",
            "12 \t [-5.07842882  2.23762081]\t 41.21016507639237\t 7.8108627039749745\t 3.0019747043322735\t 3.203038672238345\n",
            "13 \t [ 2.59731104 -2.94982135]\t 34.12869854076124\t 7.8108627039749745\t 2.9821191153215882\t 3.240545227841216\n",
            "14 \t [-4.66692604 -2.59547897]\t 61.75644190859039\t 7.8108627039749745\t 2.552673244309509\t 3.4241057083407584\n",
            "15 \t [3.00949032 3.52776799]\t 41.36813634901234\t 7.8108627039749745\t 2.4022561233756705\t 2.419236348657242\n",
            "16 \t [-0.81840412  5.12      ]\t 35.42764743716216\t 7.8108627039749745\t 2.9050319927798465\t 3.2859576702209106\n",
            "17 \t [-1.69885999 -1.38080727]\t 35.27528155190008\t 7.8108627039749745\t 2.5760428554434807\t 2.6462147496813944\n",
            "18 \t [-2.75457315 -4.86484669]\t 44.36121656664867\t 7.8108627039749745\t 2.846589099650066\t 3.1089180846005373\n",
            "19 \t [-0.91846182  2.3437292 ]\t 23.175156066152574\t 7.8108627039749745\t 2.1116930601294723\t 2.3657587424818796\n",
            "20 \t [0.30110858 0.53084275]\t 33.34161256032066\t 7.8108627039749745\t 2.57871160663272\t 3.094463904056371\n"
          ]
        }
      ],
      "source": [
        "### EXACT GP EI GRADIENTS\n",
        "\n",
        "np.random.seed(run_num_5)\n",
        "surrogate_exact_5 = dGaussianProcess(cov_func, optimize=opt)\n",
        "\n",
        "exact_5 = dGPGO(surrogate_exact_5, Acquisition_grad(util), objfunc, param)\n",
        "exact_5.run(init_evals=n_init, max_iter=iters)\n"
      ]
    },
    {
      "cell_type": "code",
      "execution_count": 39,
      "metadata": {
        "id": "04KJCEm_Ivvf",
        "colab": {
          "base_uri": "https://localhost:8080/"
        },
        "outputId": "3da565db-7601-4f01-8180-4a717f65de99"
      },
      "outputs": [
        {
          "output_type": "stream",
          "name": "stdout",
          "text": [
            "Evaluation \t Proposed point \t  Current eval. \t  Best eval. \t        Exact EI: StdDev. x \t Approx EI: StdDev. x \n",
            "init\t [ 4.02288795 -1.72052679]\t 31.08835710146886\t 17.28954482757088\t    \t    \n",
            "init\t [ 3.28938622 -4.69302655]\t 58.797867722203385\t 17.28954482757088\t    \t    \n",
            "init\t [-4.0175956   0.97333314]\t 17.28954482757088\t 17.28954482757088\t    \t    \n",
            "init\t [ 0.30532979 -0.83141193]\t 19.296253155889353\t 17.28954482757088\t    \t    \n",
            "init\t [-1.68542362  1.25459899]\t 28.650630936276173\t 17.28954482757088\t    \t    \n",
            "1  \t [5.12 5.12]\t 57.849427451571785\t 17.28954482757088\t 4.489952463590457\t 4.414035674139899\n",
            "2  \t [-5.12 -5.12]\t 57.849427451571785\t 17.28954482757088\t 3.97984536510217\t 4.251906732612083\n",
            "3  \t [0.39214451 5.12      ]\t 46.868810157297816\t 17.28954482757088\t 3.201753124879333\t 3.7077524359619707\n",
            "4  \t [-0.95411945 -4.92162186]\t 26.733647602855974\t 17.28954482757088\t 3.129041652237295\t 4.290556652802155\n",
            "5  \t [3.88133086 1.66848017]\t 35.40288027915065\t 17.28954482757088\t 2.5630229145425845\t 3.233773888210576\n",
            "6  \t [-3.50146027  4.65911579]\t 69.37225583443339\t 17.28954482757088\t 2.48230549588693\t 3.402646015392783\n",
            "7  \t [-2.93977352 -2.20159843]\t 21.202288080431906\t 17.28954482757088\t 2.82689971989963\t 3.141616150953743\n",
            "\u001b[1m\u001b[92m8\u001b[0m\t \u001b[1m\u001b[92m[1.07460019 2.06752486]\u001b[0m\t \u001b[1m\u001b[92m7.394592781780181\u001b[0m\t \u001b[1m\u001b[92m7.394592781780181\u001b[0m\t \u001b[1m\u001b[92m2.4438153270626817\u001b[0m\t \u001b[1m\u001b[92m3.1482062669140376\u001b[0m\n",
            "9  \t [-5.12       -2.47181028]\t 54.878109738067096\t 7.394592781780181\t 2.6193228418274943\t 3.192678563170415\n",
            "10 \t [ 0.39724669 -2.89254724]\t 28.70575534420354\t 7.394592781780181\t 2.624828128301071\t 3.828967873025951\n",
            "11 \t [2.85071802 3.5678402 ]\t 44.04700159516678\t 7.394592781780181\t 3.0259730047926183\t 3.4509010840807703\n",
            "\u001b[1m\u001b[92m12\u001b[0m\t \u001b[1m\u001b[92m[2.07206763 0.06374236]\u001b[0m\t \u001b[1m\u001b[92m6.096691342812294\u001b[0m\t \u001b[1m\u001b[92m6.096691342812294\u001b[0m\t \u001b[1m\u001b[92m2.4466159253028286\u001b[0m\t \u001b[1m\u001b[92m3.1326101501987607\u001b[0m\n",
            "13 \t [-0.38120513  2.86311781]\t 29.16012290488656\t 6.096691342812294\t 2.430639875837629\t 3.344461664037318\n",
            "14 \t [-4.92385765  2.4039326 ]\t 49.37893857766064\t 6.096691342812294\t 2.582552410102667\t 2.8288829248199687\n",
            "15 \t [5.12       0.39028959]\t 46.79375752305054\t 6.096691342812294\t 3.007433753448281\t 3.7309918379451084\n",
            "16 \t [1.194221   1.16152741]\t 14.064926531839685\t 6.096691342812294\t 2.452815546209416\t 3.241424250263708\n",
            "17 \t [-2.78605699 -5.12      ]\t 44.44063026919598\t 6.096691342812294\t 2.8526168829033334\t 3.8082516292351047\n",
            "18 \t [-1.65515615 -0.99612042]\t 19.34748518429477\t 6.096691342812294\t 2.8570541994935983\t 3.4273199894734643\n",
            "19 \t [ 0.83937613 -5.12      ]\t 34.304135969729224\t 6.096691342812294\t 3.136235155613649\t 3.9710829082639703\n",
            "20 \t [-4.9065211  -0.18219437]\t 31.650358914483615\t 6.096691342812294\t 2.745237547386536\t 3.6682889716549\n"
          ]
        }
      ],
      "source": [
        "### EXACT GP EI GRADIENTS\n",
        "\n",
        "np.random.seed(run_num_6)\n",
        "surrogate_exact_6 = dGaussianProcess(cov_func, optimize=opt)\n",
        "\n",
        "exact_6 = dGPGO(surrogate_exact_6, Acquisition_grad(util), objfunc, param)\n",
        "exact_6.run(init_evals=n_init, max_iter=iters)\n"
      ]
    },
    {
      "cell_type": "code",
      "execution_count": 40,
      "metadata": {
        "id": "tAOkme3CIvyO",
        "colab": {
          "base_uri": "https://localhost:8080/"
        },
        "outputId": "852c51f8-27e6-4638-f84f-1f87943d71b0"
      },
      "outputs": [
        {
          "output_type": "stream",
          "name": "stdout",
          "text": [
            "Evaluation \t Proposed point \t  Current eval. \t  Best eval. \t        Exact EI: StdDev. x \t Approx EI: StdDev. x \n",
            "init\t [-4.33860312  2.86636843]\t 45.646133072936244\t 22.52235437888213\t    \t    \n",
            "init\t [-0.63068947  2.28828342]\t 34.83012662845338\t 22.52235437888213\t    \t    \n",
            "init\t [4.8946126  0.39419771]\t 44.09657005662876\t 22.52235437888213\t    \t    \n",
            "init\t [ 0.01147355 -4.38219639]\t 36.613209822404315\t 22.52235437888213\t    \t    \n",
            "init\t [-2.37118484e+00 -1.20319155e-03]\t 22.52235437888213\t 22.52235437888213\t    \t    \n",
            "1  \t [-5.12 -5.12]\t 57.849427451571785\t 22.52235437888213\t 3.8025131145856026\t 3.851273964329224\n",
            "2  \t [3.61253123 5.12      ]\t 59.57788081906507\t 22.52235437888213\t 3.8663027613624097\t 4.1156129375154995\n",
            "3  \t [ 4.52828366 -4.16265171]\t 62.45867448569435\t 22.52235437888213\t 3.634840892211503\t 3.9789257893234784\n",
            "4  \t [-4.02558214 -1.33646422]\t 33.289738493146906\t 22.52235437888213\t 2.8824208447363557\t 3.046307140328312\n",
            "\u001b[1m\u001b[92m5\u001b[0m\t \u001b[1m\u001b[92m[ 1.30561208 -0.85934449]\u001b[0m\t \u001b[1m\u001b[92m19.524183305217868\u001b[0m\t \u001b[1m\u001b[92m19.524183305217868\u001b[0m\t \u001b[1m\u001b[92m3.14771647611039\u001b[0m\t \u001b[1m\u001b[92m3.3500914860091076\u001b[0m\n",
            "6  \t [0.01390758 5.12      ]\t 28.963062582812434\t 19.524183305217868\t 2.9457758913861523\t 3.8338124334727586\n",
            "7  \t [2.23102072 2.30199742]\t 32.29624863871999\t 19.524183305217868\t 2.9228084476089697\t 3.4335011006575535\n",
            "8  \t [-2.52841074 -3.60941875]\t 56.99021867856317\t 19.524183305217868\t 3.1261292662286206\t 3.7992057390832437\n",
            "9  \t [-2.56773735  4.91394389]\t 51.27455305729962\t 19.524183305217868\t 3.5762240557508\t 3.6314370254810657\n",
            "10 \t [5.12      3.0046357]\t 37.95679097934871\t 19.524183305217868\t 3.335133607999283\t 3.3766212112998644\n",
            "11 \t [-0.41537265 -1.82130651]\t 27.777080981366147\t 19.524183305217868\t 3.3077715310671607\t 3.0151264589117215\n",
            "12 \t [-5.11292055  5.04211319]\t 54.3260309744776\t 19.524183305217868\t 3.1616727172100267\t 3.4777529929521096\n",
            "13 \t [ 3.14400143 -1.76149329]\t 26.087560748445448\t 19.524183305217868\t 3.2444466754034065\t 3.1532148484340476\n",
            "14 \t [-4.44117538  0.6097381 ]\t 57.13612818758493\t 19.524183305217868\t 2.7549959349506405\t 3.1117677272665967\n",
            "15 \t [-5.12       -2.72239462]\t 48.06195943730291\t 19.524183305217868\t 3.122202691769931\t 3.353088928869597\n",
            "16 \t [ 2.04833923 -4.18742927]\t 28.357025008535324\t 19.524183305217868\t 2.629607073673954\t 2.901481404241441\n",
            "17 \t [1.16428139 0.49161471]\t 26.454134325112868\t 19.524183305217868\t 2.8783250683364696\t 2.6493388872293124\n",
            "18 \t [1.55074452 5.12      ]\t 50.82552784596608\t 19.524183305217868\t 3.561005067537342\t 3.3191858878124347\n",
            "19 \t [-1.33085827  0.62268038]\t 34.19700832568287\t 19.524183305217868\t 3.6172346857815327\t 3.4295810079068896\n",
            "\u001b[1m\u001b[92m20\u001b[0m\t \u001b[1m\u001b[92m[2.94139325 0.15477159]\u001b[0m\t \u001b[1m\u001b[92m13.713416865406291\u001b[0m\t \u001b[1m\u001b[92m13.713416865406291\u001b[0m\t \u001b[1m\u001b[92m3.2603519987643286\u001b[0m\t \u001b[1m\u001b[92m3.290176629741973\u001b[0m\n"
          ]
        }
      ],
      "source": [
        "### EXACT GP EI GRADIENTS\n",
        "\n",
        "np.random.seed(run_num_7)\n",
        "surrogate_exact_7 = dGaussianProcess(cov_func, optimize=opt)\n",
        "\n",
        "exact_7 = dGPGO(surrogate_exact_7, Acquisition_grad(util), objfunc, param)\n",
        "exact_7.run(init_evals=n_init, max_iter=iters)\n"
      ]
    },
    {
      "cell_type": "code",
      "execution_count": 41,
      "metadata": {
        "id": "69-J3EF4Iv1S",
        "colab": {
          "base_uri": "https://localhost:8080/"
        },
        "outputId": "923e2776-49d9-4fee-d6ab-3189cbd7f6f8"
      },
      "outputs": [
        {
          "output_type": "stream",
          "name": "stdout",
          "text": [
            "Evaluation \t Proposed point \t  Current eval. \t  Best eval. \t        Exact EI: StdDev. x \t Approx EI: StdDev. x \n",
            "init\t [3.82391708 4.79785639]\t 50.20079446939181\t 13.871821018360485\t    \t    \n",
            "init\t [3.78055209 0.31596228]\t 36.5114251593508\t 13.871821018360485\t    \t    \n",
            "init\t [-2.73686192 -5.00327624]\t 43.34985765011677\t 13.871821018360485\t    \t    \n",
            "init\t [-0.7119993  -0.99992207]\t 13.871821018360485\t 13.871821018360485\t    \t    \n",
            "init\t [ 0.23218863 -0.22126801]\t 17.190590355445654\t 13.871821018360485\t    \t    \n",
            "1  \t [ 4.96376909 -4.82584897]\t 53.59844872911706\t 13.871821018360485\t 3.387052777709809\t 4.193993050097452\n",
            "2  \t [-5.03492225  2.95509263]\t 34.71822332027364\t 13.871821018360485\t 3.662941386098847\t 3.857809492862984\n",
            "3  \t [-0.88346808  5.12      ]\t 32.26811868389334\t 13.871821018360485\t 3.3523358048630514\t 3.691496624506882\n",
            "4  \t [ 1.08441164 -4.79070842]\t 32.97066919816801\t 13.871821018360485\t 3.622607016460717\t 3.3469253363783227\n",
            "5  \t [-5.12       -1.44672511]\t 50.46269798040832\t 13.871821018360485\t 3.471415617651958\t 3.4761554690146896\n",
            "\u001b[1m\u001b[92m6\u001b[0m\t \u001b[1m\u001b[92m[-1.95157417  1.92942078]\u001b[0m\t \u001b[1m\u001b[92m8.957927505681257\u001b[0m\t \u001b[1m\u001b[92m8.957927505681257\u001b[0m\t \u001b[1m\u001b[92m3.4196907396277805\u001b[0m\t \u001b[1m\u001b[92m3.3150095020515624\u001b[0m\n",
            "7  \t [1.43805663 2.43210651]\t 46.33910241328737\t 8.957927505681257\t 3.5718808714087245\t 3.0380267602765927\n",
            "8  \t [ 3.44125983 -2.56257   ]\t 56.97275864021913\t 8.957927505681257\t 3.9106866594888494\t 3.6130123897623454\n",
            "9  \t [-5.12 -5.12]\t 57.849427451571785\t 8.957927505681257\t 3.874832580336342\t 3.93691719263283\n",
            "10 \t [-2.97744359  0.30496575]\t 22.443792296812806\t 8.957927505681257\t 3.220869064947726\t 3.447788775533451\n",
            "11 \t [-1.9994382  -2.49286662]\t 30.202156786860115\t 8.957927505681257\t 3.0600514717973937\t 4.160802670724379\n",
            "12 \t [ 0.7777627  -2.45723044]\t 34.548438405947635\t 8.957927505681257\t 3.0097023801982092\t 3.832261481834933\n",
            "13 \t [5.12       2.58428961]\t 54.233322079767\t 8.957927505681257\t 2.602241155584161\t 4.134282716741652\n",
            "14 \t [-3.51146409  5.08224152]\t 59.4392774840242\t 8.957927505681257\t 2.986353156311087\t 4.221940743092615\n",
            "15 \t [-1.0623353   2.50098745]\t 28.14055138294355\t 8.957927505681257\t 2.9704471975089297\t 3.2222308856738686\n",
            "16 \t [1.49512638 0.14502352]\t 26.12384399939335\t 8.957927505681257\t 3.250411591036071\t 3.2651261848188677\n",
            "17 \t [1.45504292 5.12      ]\t 50.64555241695545\t 8.957927505681257\t 2.8213490220380146\t 3.3694111115854324\n",
            "18 \t [-5.12        0.88448864]\t 32.22720947071453\t 8.957927505681257\t 3.1439426338899557\t 3.0226764170983804\n",
            "19 \t [-2.81776338  2.18389911]\t 24.544119587254123\t 8.957927505681257\t 2.7945982368338793\t 3.301354208281895\n",
            "20 \t [-1.28095355  0.63361242]\t 30.653202458659067\t 8.957927505681257\t 3.1888487910120733\t 2.70110853865368\n"
          ]
        }
      ],
      "source": [
        "### EXACT GP EI GRADIENTS\n",
        "\n",
        "np.random.seed(run_num_8)\n",
        "surrogate_exact_8 = dGaussianProcess(cov_func, optimize=opt)\n",
        "\n",
        "exact_8 = dGPGO(surrogate_exact_8, Acquisition_grad(util), objfunc, param)\n",
        "exact_8.run(init_evals=n_init, max_iter=iters)\n"
      ]
    },
    {
      "cell_type": "code",
      "execution_count": 42,
      "metadata": {
        "id": "vonm9jyuIv4t",
        "colab": {
          "base_uri": "https://localhost:8080/"
        },
        "outputId": "04f7bfee-5efe-418c-cd59-74c359c3ae43"
      },
      "outputs": [
        {
          "output_type": "stream",
          "name": "stdout",
          "text": [
            "Evaluation \t Proposed point \t  Current eval. \t  Best eval. \t        Exact EI: StdDev. x \t Approx EI: StdDev. x \n",
            "init\t [-5.01376866  0.01919582]\t 25.248289026162446\t 24.454800313488693\t    \t    \n",
            "init\t [-0.04328148 -3.74958562]\t 24.454800313488693\t 24.454800313488693\t    \t    \n",
            "init\t [-3.66478248 -2.88195916]\t 39.46509426509438\t 24.454800313488693\t    \t    \n",
            "init\t [-0.83447623 -2.57944404]\t 31.06766397812992\t 24.454800313488693\t    \t    \n",
            "init\t [-4.25922917 -1.58209393]\t 49.922543556206975\t 24.454800313488693\t    \t    \n",
            "1  \t [5.12 5.12]\t 57.849427451571785\t 24.454800313488693\t 3.043380568355621\t 3.316977016880765\n",
            "2  \t [ 5.03510189 -1.04871218]\t 27.159021207695012\t 24.454800313488693\t 3.3424074547097242\t 3.648479045892864\n",
            "3  \t [-1.47691515  4.45110802]\t 61.42048086129838\t 24.454800313488693\t 2.9704173404353327\t 3.136174219647723\n",
            "4  \t [1.55205862 1.27512773]\t 35.07690748443045\t 24.454800313488693\t 3.235188472080086\t 3.7083486360496583\n",
            "5  \t [-2.25500396  1.29080468]\t 29.6014135285589\t 24.454800313488693\t 3.5169134975212937\t 4.200249040510165\n",
            "6  \t [1.83297379 5.12      ]\t 37.30408335061192\t 24.454800313488693\t 3.5943936454760936\t 4.337745616498926\n",
            "7  \t [ 2.90351114 -3.37393736]\t 38.61966589731614\t 24.454800313488693\t 3.861655635164946\t 4.686714719500013\n",
            "8  \t [4.94897451 1.94649596]\t 29.350507415750712\t 24.454800313488693\t 3.532997246803796\t 4.220660576360566\n",
            "9  \t [-5.12 -5.12]\t 57.849427451571785\t 24.454800313488693\t 3.334268372419882\t 3.7043899255489583\n",
            "10 \t [-2.04357615 -5.12      ]\t 33.47340562878503\t 24.454800313488693\t 2.381458855325404\t 3.414289930515598\n",
            "11 \t [-4.99088671  3.24308929]\t 45.00889105063397\t 24.454800313488693\t 2.472011254573585\t 3.962536768970749\n",
            "12 \t [-0.31027632 -0.33513003]\t 29.003410896836158\t 24.454800313488693\t 2.378889533248722\t 2.905675802954618\n",
            "\u001b[1m\u001b[92m13\u001b[0m\t \u001b[1m\u001b[92m[ 2.32725991 -0.95722713]\u001b[0m\t \u001b[1m\u001b[92m21.357347466501018\u001b[0m\t \u001b[1m\u001b[92m21.357347466501018\u001b[0m\t \u001b[1m\u001b[92m2.2965198119026313\u001b[0m\t \u001b[1m\u001b[92m3.0518783614714997\u001b[0m\n",
            "14 \t [0.56185506 2.94228293]\t 28.877326205069608\t 21.357347466501018\t 2.7157484383078785\t 3.5280321939926\n",
            "15 \t [3.16781476 3.11777526]\t 27.433514953686554\t 21.357347466501018\t 2.708936143559899\t 3.6680724847195645\n",
            "16 \t [ 4.42155032 -4.28305181]\t 68.76602927286993\t 21.357347466501018\t 2.8962367903572113\t 3.9919132056929576\n",
            "17 \t [-3.71876204  4.75685018]\t 57.97669914940786\t 21.357347466501018\t 2.641249628651739\t 3.204885098527269\n",
            "18 \t [ 0.84859728 -4.40252137]\t 42.47825906850564\t 21.357347466501018\t 2.7308779998480173\t 3.258535642294626\n",
            "19 \t [3.57199207 0.50197445]\t 52.00460655269654\t 21.357347466501018\t 2.9654850057970585\t 3.140921606369536\n",
            "20 \t [-2.30468019 -0.64525494]\t 35.21277671335839\t 21.357347466501018\t 3.168674438545501\t 3.392646714073324\n"
          ]
        }
      ],
      "source": [
        "### EXACT GP EI GRADIENTS\n",
        "\n",
        "np.random.seed(run_num_9)\n",
        "surrogate_exact_9 = dGaussianProcess(cov_func, optimize=opt)\n",
        "\n",
        "exact_9 = dGPGO(surrogate_exact_9, Acquisition_grad(util), objfunc, param)\n",
        "exact_9.run(init_evals=n_init, max_iter=iters)\n"
      ]
    },
    {
      "cell_type": "code",
      "execution_count": 43,
      "metadata": {
        "id": "6amuYlUdIv7r",
        "colab": {
          "base_uri": "https://localhost:8080/"
        },
        "outputId": "0a4be60b-0f0c-4faa-85bf-518a8a94963a"
      },
      "outputs": [
        {
          "output_type": "stream",
          "name": "stdout",
          "text": [
            "Evaluation \t Proposed point \t  Current eval. \t  Best eval. \t        Exact EI: StdDev. x \t Approx EI: StdDev. x \n",
            "init\t [ 2.77832339 -4.90750004]\t 41.674330194390116\t 13.839458310244165\t    \t    \n",
            "init\t [1.36855793 2.54775176]\t 44.69639719065837\t 13.839458310244165\t    \t    \n",
            "init\t [-0.01528819 -2.81808235]\t 13.839458310244165\t 13.839458310244165\t    \t    \n",
            "init\t [-3.09183626  2.66783449]\t 33.23221510904937\t 13.839458310244165\t    \t    \n",
            "init\t [-3.38830503 -4.2154003 ]\t 54.73014366983691\t 13.839458310244165\t    \t    \n",
            "1  \t [ 5.12       -0.53830131]\t 48.92630453431062\t 13.839458310244165\t 3.9623328748725384\t 4.220880397495866\n",
            "2  \t [5.12 5.12]\t 57.849427451571785\t 13.839458310244165\t 3.591835018880886\t 3.342362403186491\n",
            "3  \t [-4.22754304 -0.73799187]\t 37.76419470121735\t 13.839458310244165\t 3.1484816452112594\t 3.5304409468150397\n",
            "4  \t [ 1.68412295 -0.64902863]\t 33.20662042356246\t 13.839458310244165\t 3.942434749474336\t 3.8858240512849984\n",
            "5  \t [-4.5050859   5.00650982]\t 65.36419794062027\t 13.839458310244165\t 3.5077167618296885\t 4.004737416428663\n",
            "6  \t [0.10579747 5.07144996]\t 28.85095188801787\t 13.839458310244165\t 3.5942314945211846\t 3.9875115793148352\n",
            "\u001b[1m\u001b[92m7\u001b[0m\t \u001b[1m\u001b[92m[-1.19610053 -0.10005715]\u001b[0m\t \u001b[1m\u001b[92m10.030370626641213\u001b[0m\t \u001b[1m\u001b[92m10.030370626641213\u001b[0m\t \u001b[1m\u001b[92m3.301798438177633\u001b[0m\t \u001b[1m\u001b[92m3.849847021103321\u001b[0m\n",
            "8  \t [2.60639989 5.08267322]\t 51.79330489286553\t 10.030370626641213\t 3.610810044334631\t 3.737609153709035\n",
            "9  \t [-0.44538918 -5.12      ]\t 48.54014793936183\t 10.030370626641213\t 3.017174329421632\t 3.870784763705706\n",
            "10 \t [5.12       2.26938797]\t 45.29000685263223\t 10.030370626641213\t 3.47278518050263\t 4.069142608285892\n",
            "11 \t [-1.64669227 -2.02466195]\t 22.975377162783637\t 10.030370626641213\t 2.98896878629099\t 3.982876681434146\n",
            "12 \t [ 3.62552748 -2.61253428]\t 54.620039541414656\t 10.030370626641213\t 2.6461516460141072\t 3.763214384030494\n",
            "13 \t [-5.12 -5.12]\t 57.849427451571785\t 10.030370626641213\t 3.5946829485313385\t 3.962182055401965\n",
            "14 \t [-5.12        1.65534674]\t 47.267687891294074\t 10.030370626641213\t 2.7078629197310433\t 3.3263423566051795\n",
            "15 \t [-1.03041075  1.71440856]\t 16.400622615555417\t 10.030370626641213\t 2.3037173850515185\t 3.037168159168873\n",
            "16 \t [-1.78299367  4.6478374 ]\t 48.71045759967899\t 10.030370626641213\t 2.92138009235161\t 3.473245853316964\n",
            "17 \t [-5.12       -2.52661082]\t 55.16902093351187\t 10.030370626641213\t 2.6973806642731466\t 3.231237201962018\n",
            "18 \t [2.91970496 1.44467661]\t 31.25955178486236\t 10.030370626641213\t 2.221355487227588\t 3.1559905388982017\n",
            "19 \t [-2.23642082  0.28778548]\t 26.584119450911565\t 10.030370626641213\t 2.226191769892647\t 2.6777829530799306\n",
            "20 \t [-0.19843453 -0.14633515]\t 10.814654716976495\t 10.030370626641213\t 2.2975495376413644\t 2.85316918140969\n"
          ]
        }
      ],
      "source": [
        "### EXACT GP EI GRADIENTS\n",
        "\n",
        "np.random.seed(run_num_10)\n",
        "surrogate_exact_10 = dGaussianProcess(cov_func, optimize=opt)\n",
        "\n",
        "exact_10 = dGPGO(surrogate_exact_10, Acquisition_grad(util), objfunc, param)\n",
        "exact_10.run(init_evals=n_init, max_iter=iters)\n"
      ]
    },
    {
      "cell_type": "code",
      "execution_count": 44,
      "metadata": {
        "id": "VwbLIP9cIv-F",
        "colab": {
          "base_uri": "https://localhost:8080/"
        },
        "outputId": "e796f74e-d1fd-4ab1-a5b4-f9765a10f4d7"
      },
      "outputs": [
        {
          "output_type": "stream",
          "name": "stdout",
          "text": [
            "Evaluation \t Proposed point \t  Current eval. \t  Best eval. \t        Exact EI: StdDev. x \t Approx EI: StdDev. x \n",
            "init\t [-3.27403839 -4.92057353]\t 47.655641290890955\t 10.679755252484755\t    \t    \n",
            "init\t [-0.37664229  2.30332343]\t 35.87889240695259\t 10.679755252484755\t    \t    \n",
            "init\t [-0.81711509 -0.14922651]\t 10.679755252484755\t 10.679755252484755\t    \t    \n",
            "init\t [-4.98912446 -0.12931474]\t 28.05462905574235\t 10.679755252484755\t    \t    \n",
            "init\t [4.52410012 3.59214172]\t 71.62694632141611\t 10.679755252484755\t    \t    \n",
            "1  \t [ 3.03550212 -4.46785095]\t 49.22040431745476\t 10.679755252484755\t 3.176352698044778\t 4.315383283922617\n",
            "2  \t [ 4.25317778 -0.5528745 ]\t 48.04804943316525\t 10.679755252484755\t 2.9798530680580884\t 3.85572408467639\n",
            "3  \t [-1.00991277  5.12      ]\t 29.964027603604436\t 10.679755252484755\t 3.9922916574731695\t 4.422224481082061\n",
            "4  \t [-0.1498688  -3.28114456]\t 26.84825537579198\t 10.679755252484755\t 2.9987181170538557\t 3.271768252831769\n",
            "5  \t [-3.75485684  2.90206029]\t 34.050207154636894\t 10.679755252484755\t 3.566302125936483\t 3.6025848967721306\n",
            "6  \t [-2.84203133 -1.78974146]\t 23.343562936998755\t 10.679755252484755\t 3.4720362353014873\t 3.3570556188157354\n",
            "7  \t [2.0168536  5.04410096]\t 29.948125277711522\t 10.679755252484755\t 4.054550118818958\t 3.8032386745804465\n",
            "8  \t [1.43793283 0.04194721]\t 21.663897768531328\t 10.679755252484755\t 3.8574337440867503\t 3.4357188905777836\n",
            "9  \t [-5.12     -3.081519]\t 39.703784199564296\t 10.679755252484755\t 3.939450521555626\t 3.9996875156018343\n",
            "10 \t [-2.60071811  0.72732234]\t 36.77636198836442\t 10.679755252484755\t 3.3089176225916823\t 3.74267882027152\n",
            "11 \t [2.59563924 1.77521028]\t 36.55948502385681\t 10.679755252484755\t 3.5767241907934917\t 3.983390694850198\n",
            "12 \t [-3.81363678  5.12      ]\t 49.57581397279126\t 10.679755252484755\t 4.040607432050183\t 3.944780263201738\n",
            "13 \t [ 2.79896876 -2.37265677]\t 37.4014420914063\t 10.679755252484755\t 3.6457295831594716\t 3.3867482649467755\n",
            "14 \t [-0.07003935 -1.27840094]\t 14.367024711517583\t 10.679755252484755\t 3.7985135160971457\t 3.9065613876071614\n",
            "15 \t [-0.52800307 -5.02017958]\t 45.40687329487062\t 10.679755252484755\t 4.335844478839749\t 3.2301092929891424\n",
            "16 \t [-5.12 -5.12]\t 57.849427451571785\t 10.679755252484755\t 4.068453862292314\t 3.8770665626134257\n",
            "17 \t [5.01372058 1.60204843]\t 45.754940187912524\t 10.679755252484755\t 2.6865850861133103\t 2.8927292300913434\n",
            "18 \t [ 5.08776001 -3.15558621]\t 41.73483975216124\t 10.679755252484755\t 3.35755554909239\t 3.0572419179607926\n",
            "19 \t [-5.03479279  1.61773414]\t 45.59060484604457\t 10.679755252484755\t 3.2720297618935046\t 3.209889073392767\n",
            "20 \t [1.05922806 3.58581829]\t 33.24568081341833\t 10.679755252484755\t 3.076016993844579\t 3.0410335456342716\n"
          ]
        }
      ],
      "source": [
        "### EXACT GP EI GRADIENTS\n",
        "\n",
        "np.random.seed(run_num_11)\n",
        "surrogate_exact_11 = dGaussianProcess(cov_func, optimize=opt)\n",
        "\n",
        "exact_11 = dGPGO(surrogate_exact_11, Acquisition_grad(util), objfunc, param)\n",
        "exact_11.run(init_evals=n_init, max_iter=iters)\n"
      ]
    },
    {
      "cell_type": "code",
      "execution_count": 45,
      "metadata": {
        "id": "MlUNFjc-JTBY",
        "colab": {
          "base_uri": "https://localhost:8080/"
        },
        "outputId": "91958b65-0520-450a-a725-b14a531ba972"
      },
      "outputs": [
        {
          "output_type": "stream",
          "name": "stdout",
          "text": [
            "Evaluation \t Proposed point \t  Current eval. \t  Best eval. \t        Exact EI: StdDev. x \t Approx EI: StdDev. x \n",
            "init\t [-3.54137249  2.45810889]\t 57.903242869085595\t 40.51116653209555\t    \t    \n",
            "init\t [-2.42365424  0.34549139]\t 40.51116653209555\t 40.51116653209555\t    \t    \n",
            "init\t [-4.97075238  4.28796936]\t 55.62655915398208\t 40.51116653209555\t    \t    \n",
            "init\t [ 4.10332011 -4.77776458]\t 49.962803461970296\t 40.51116653209555\t    \t    \n",
            "init\t [ 4.6791612  -3.71497655]\t 62.183891474990624\t 40.51116653209555\t    \t    \n",
            "1  \t [5.12 5.12]\t 57.849427451571785\t 40.51116653209555\t 3.997567604985732\t 4.0801075110967275\n",
            "2  \t [-5.12 -5.12]\t 57.849427451571785\t 40.51116653209555\t 3.7284175150110275\t 3.512780681811885\n",
            "\u001b[1m\u001b[92m3\u001b[0m\t \u001b[1m\u001b[92m[2.39120848 0.97308089]\u001b[0m\t \u001b[1m\u001b[92m24.5607718679666\u001b[0m\t \u001b[1m\u001b[92m24.5607718679666\u001b[0m\t \u001b[1m\u001b[92m2.867693465177461\u001b[0m\t \u001b[1m\u001b[92m3.038611278592502\u001b[0m\n",
            "4  \t [-0.46882217 -4.42580229]\t 58.549093844089114\t 24.5607718679666\t 2.9831149742826653\t 3.3444712592331722\n",
            "5  \t [0.8912866  4.54090272]\t 43.32935056682179\t 24.5607718679666\t 2.5610240870979384\t 3.427036219975839\n",
            "6  \t [-5.12       -1.54439283]\t 50.92337328868572\t 24.5607718679666\t 2.6516277881078287\t 3.3231339621182836\n",
            "7  \t [5.12       0.41293055]\t 47.63573051562806\t 24.5607718679666\t 2.678106345201724\t 3.0992322619077433\n",
            "8  \t [ 0.70316634 -1.40851075]\t 33.77147818212167\t 24.5607718679666\t 2.530737162789324\t 3.179214748341074\n",
            "9  \t [-0.46093957  2.27818762]\t 36.86478424433178\t 24.5607718679666\t 2.8177251913425105\t 2.9219675769978446\n",
            "10 \t [-1.82439398  4.73134196]\t 42.37770081758954\t 24.5607718679666\t 3.011443327952557\t 3.480961023115683\n",
            "11 \t [-2.60785541 -2.87724022]\t 35.699848757976035\t 24.5607718679666\t 3.0320558311610983\t 3.2662163665645303\n",
            "12 \t [3.15376209 3.25587066]\t 35.230696052761274\t 24.5607718679666\t 2.8093950703313553\t 3.125150130627084\n",
            "13 \t [ 3.20634369 -1.60790181]\t 37.945743906704394\t 24.5607718679666\t 2.7497416647460637\t 2.9682560654880463\n",
            "\u001b[1m\u001b[92m14\u001b[0m\t \u001b[1m\u001b[92m[ 1.84612117 -3.98735081]\u001b[0m\t \u001b[1m\u001b[92m23.659738660113113\u001b[0m\t \u001b[1m\u001b[92m23.659738660113113\u001b[0m\t \u001b[1m\u001b[92m3.0251351021782584\u001b[0m\t \u001b[1m\u001b[92m3.1412521915805467\u001b[0m\n",
            "15 \t [-2.96427369 -5.12      ]\t 37.96252125490443\t 23.659738660113113\t 3.117806017023433\t 3.326924783148678\n",
            "16 \t [4.92048285 2.65629355]\t 48.04283188892305\t 23.659738660113113\t 2.9036050118741663\t 3.3200624370841236\n",
            "17 \t [-4.83435468  0.56106459]\t 47.90323957096979\t 23.659738660113113\t 2.967589658447842\t 2.5871308631910086\n",
            "\u001b[1m\u001b[92m18\u001b[0m\t \u001b[1m\u001b[92m[0.15496492 0.37681739]\u001b[0m\t \u001b[1m\u001b[92m21.694698303189277\u001b[0m\t \u001b[1m\u001b[92m21.694698303189277\u001b[0m\t \u001b[1m\u001b[92m2.6863876793932735\u001b[0m\t \u001b[1m\u001b[92m2.6937966171884202\u001b[0m\n",
            "19 \t [-1.1615021  -1.60010982]\t 26.71720745596013\t 21.694698303189277\t 2.7110443159184596\t 3.037263451145189\n",
            "20 \t [3.20287227 5.1193368 ]\t 46.22981321244714\t 21.694698303189277\t 2.5898915033871894\t 3.0709423700203864\n"
          ]
        }
      ],
      "source": [
        "### EXACT GP EI GRADIENTS\n",
        "\n",
        "np.random.seed(run_num_12)\n",
        "surrogate_exact_12 = dGaussianProcess(cov_func, optimize=opt)\n",
        "\n",
        "exact_12 = dGPGO(surrogate_exact_12, Acquisition_grad(util), objfunc, param)\n",
        "exact_12.run(init_evals=n_init, max_iter=iters)\n"
      ]
    },
    {
      "cell_type": "code",
      "execution_count": 46,
      "metadata": {
        "id": "9BsKdU9eJTFL",
        "colab": {
          "base_uri": "https://localhost:8080/"
        },
        "outputId": "0847a717-70fe-47d7-b110-8437e6da0f59"
      },
      "outputs": [
        {
          "output_type": "stream",
          "name": "stdout",
          "text": [
            "Evaluation \t Proposed point \t  Current eval. \t  Best eval. \t        Exact EI: StdDev. x \t Approx EI: StdDev. x \n",
            "init\t [ 2.84367268 -2.68757791]\t 33.58019830007169\t 17.435826639425656\t    \t    \n",
            "init\t [3.32061217 4.76927179]\t 56.857057997503354\t 17.435826639425656\t    \t    \n",
            "init\t [ 4.83943541 -0.47667971]\t 48.211919361679726\t 17.435826639425656\t    \t    \n",
            "init\t [1.11659482 2.82139151]\t 17.435826639425656\t 17.435826639425656\t    \t    \n",
            "init\t [1.45012065 2.27346667]\t 38.25352329493884\t 17.435826639425656\t    \t    \n",
            "1  \t [-5.12 -5.12]\t 57.849427451571785\t 17.435826639425656\t 3.470515195135488\t 3.4849224408722663\n",
            "2  \t [-4.47999318  1.98768914]\t 43.97224166814816\t 17.435826639425656\t 2.8789926578946674\t 3.862546434992129\n",
            "3  \t [-2.01246334 -1.58988022]\t 25.055683649968632\t 17.435826639425656\t 3.182925962914232\t 3.3450558782858715\n",
            "4  \t [-1.67907248  5.12      ]\t 46.05444967932614\t 17.435826639425656\t 3.4186773106016104\t 3.726364274536521\n",
            "5  \t [-0.44791267 -5.12      ]\t 48.594560086629784\t 17.435826639425656\t 3.64506320585372\t 4.196698864121785\n",
            "6  \t [-5.06491914 -1.83012884]\t 34.99858582227249\t 17.435826639425656\t 3.063310744251206\t 3.500734792365242\n",
            "7  \t [-1.48969065  1.53991012]\t 44.256763862152404\t 17.435826639425656\t 3.211189256525752\t 4.056158966364968\n",
            "8  \t [5.12       2.47787077]\t 54.96804949797326\t 17.435826639425656\t 2.945531983852399\t 4.1691535442386005\n",
            "\u001b[1m\u001b[92m9\u001b[0m\t \u001b[1m\u001b[92m[ 0.84613731 -0.82498978]\u001b[0m\t \u001b[1m\u001b[92m11.177431629051629\u001b[0m\t \u001b[1m\u001b[92m11.177431629051629\u001b[0m\t \u001b[1m\u001b[92m3.367620581135464\u001b[0m\t \u001b[1m\u001b[92m4.211101770424425\u001b[0m\n",
            "10 \t [-2.73422546 -3.89891115]\t 35.617250601925306\t 11.177431629051629\t 3.7038505870909613\t 3.9083308499181224\n",
            "11 \t [ 5.03066839 -3.60779742]\t 56.30151620704883\t 11.177431629051629\t 3.3563306088524607\t 4.103935611710621\n",
            "12 \t [ 0.12284691 -2.47725197]\t 28.88382055374614\t 11.177431629051629\t 3.375177642294816\t 3.6713541285729967\n",
            "13 \t [-3.94963023  4.28676436]\t 46.76205172857935\t 11.177431629051629\t 3.575242758811934\t 4.014161017389509\n",
            "\u001b[1m\u001b[92m14\u001b[0m\t \u001b[1m\u001b[92m[2.09722159 0.12780756]\u001b[0m\t \u001b[1m\u001b[92m9.277892448542683\u001b[0m\t \u001b[1m\u001b[92m9.277892448542683\u001b[0m\t \u001b[1m\u001b[92m3.0200070080250385\u001b[0m\t \u001b[1m\u001b[92m3.411964834391396\u001b[0m\n",
            "15 \t [0.76306884 4.74428839]\t 42.629123692873684\t 9.277892448542683\t 2.963618451857609\t 3.6828678559966486\n",
            "16 \t [-3.28157    -0.30226807]\t 36.05607089663072\t 9.277892448542683\t 2.7910917580821404\t 3.3230508484727563\n",
            "17 \t [ 2.0768739  -5.11696923]\t 34.22206958291165\t 9.277892448542683\t 4.176563252565809\t 3.976991496084343\n",
            "18 \t [5.12 5.12]\t 57.849427451571785\t 9.277892448542683\t 2.869020595812837\t 3.1477930015311943\n",
            "\u001b[1m\u001b[92m19\u001b[0m\t \u001b[1m\u001b[92m[-0.11958888  0.13226655]\u001b[0m\t \u001b[1m\u001b[92m5.983484596655461\u001b[0m\t \u001b[1m\u001b[92m5.983484596655461\u001b[0m\t \u001b[1m\u001b[92m2.7157114573933065\u001b[0m\t \u001b[1m\u001b[92m3.212236631849823\u001b[0m\n",
            "20 \t [ 0.73306859 -0.12505371]\t 14.546173427478553\t 5.983484596655461\t 2.946674562935057\t 3.528104447941472\n"
          ]
        }
      ],
      "source": [
        "### EXACT GP EI GRADIENTS\n",
        "\n",
        "np.random.seed(run_num_13)\n",
        "surrogate_exact_13 = dGaussianProcess(cov_func, optimize=opt)\n",
        "\n",
        "exact_13 = dGPGO(surrogate_exact_13, Acquisition_grad(util), objfunc, param)\n",
        "exact_13.run(init_evals=n_init, max_iter=iters)\n"
      ]
    },
    {
      "cell_type": "code",
      "execution_count": 47,
      "metadata": {
        "id": "k6GjFBr1JTJf",
        "colab": {
          "base_uri": "https://localhost:8080/"
        },
        "outputId": "3f13e0ba-7b57-495d-809b-2b9bea107a5a"
      },
      "outputs": [
        {
          "output_type": "stream",
          "name": "stdout",
          "text": [
            "Evaluation \t Proposed point \t  Current eval. \t  Best eval. \t        Exact EI: StdDev. x \t Approx EI: StdDev. x \n",
            "init\t [0.14277984 2.79721013]\t 18.683085263052178\t 10.423838604848608\t    \t    \n",
            "init\t [ 3.7931795  -5.03759925]\t 47.36348784446708\t 10.423838604848608\t    \t    \n",
            "init\t [-1.94830412  4.68586229]\t 40.19779334078636\t 10.423838604848608\t    \t    \n",
            "init\t [ 0.13431513 -1.86076749]\t 10.423838604848608\t 10.423838604848608\t    \t    \n",
            "init\t [ 0.40140736 -2.85434939]\t 30.353548735049138\t 10.423838604848608\t    \t    \n",
            "1  \t [-5.12 -5.12]\t 57.849427451571785\t 10.423838604848608\t 4.455638515783688\t 4.024080613518249\n",
            "2  \t [5.12 5.12]\t 57.849427451571785\t 10.423838604848608\t 3.9746175702667017\t 3.989923881132954\n",
            "3  \t [-4.95963274  0.24438011]\t 34.62457675915518\t 10.423838604848608\t 2.875533328151242\t 3.721414629218412\n",
            "4  \t [4.80689117 0.02990701]\t 29.784193462556928\t 10.423838604848608\t 2.9877084558850124\t 3.600702569365357\n",
            "5  \t [-1.5569349  0.0137885]\t 21.82867351124596\t 10.423838604848608\t 2.7284050552465176\t 3.165436651156556\n",
            "6  \t [-1.69628851 -5.12      ]\t 45.11320398871585\t 10.423838604848608\t 2.9718675642428023\t 3.790135887571319\n",
            "7  \t [1.94898392 5.05088956]\t 30.326235541000106\t 10.423838604848608\t 2.269547360066387\t 2.7596273590195897\n",
            "8  \t [-5.02211239  3.42079253]\t 55.80674318391802\t 10.423838604848608\t 2.8659000669058385\t 3.6879592507508345\n",
            "9  \t [1.52760827 0.61641717]\t 40.00540704073238\t 10.423838604848608\t 2.612103083403637\t 3.0595723078204276\n",
            "10 \t [-2.98912948 -2.45991907]\t 34.69397902184098\t 10.423838604848608\t 2.7149916155883753\t 3.134041043674222\n",
            "11 \t [ 3.49956631 -2.27891298]\t 49.247052024896455\t 10.423838604848608\t 3.0282062206589355\t 3.2656614308843244\n",
            "12 \t [3.38706706 2.72523572]\t 48.03521263372921\t 10.423838604848608\t 2.512071563352414\t 3.4516280256360523\n",
            "13 \t [ 1.11552134 -5.11235415]\t 32.291136724233\t 10.423838604848608\t 2.915834563287423\t 4.0037626333323155\n",
            "14 \t [-2.3668427  1.9529941]\t 26.548639039677816\t 10.423838604848608\t 2.5471175384124733\t 3.370163546459303\n",
            "15 \t [5.12       2.28496173]\t 46.32484943507718\t 10.423838604848608\t 2.64548368223124\t 3.167894217786992\n",
            "16 \t [-5.00594705 -2.8160271 ]\t 38.9658721618384\t 10.423838604848608\t 2.671809120642098\t 3.3497804604528016\n",
            "17 \t [0.12244769 5.12      ]\t 31.756157243793254\t 10.423838604848608\t 2.7124476270022932\t 3.52128669451556\n",
            "\u001b[1m\u001b[92m18\u001b[0m\t \u001b[1m\u001b[92m[-0.13270223 -0.98396015]\u001b[0m\t \u001b[1m\u001b[92m4.315807077739096\u001b[0m\t \u001b[1m\u001b[92m4.315807077739096\u001b[0m\t \u001b[1m\u001b[92m2.109202895556496\u001b[0m\t \u001b[1m\u001b[92m2.3236205189923083\u001b[0m\n",
            "\u001b[1m\u001b[92m19\u001b[0m\t \u001b[1m\u001b[92m[-0.09899178 -0.98068578]\u001b[0m\t \u001b[1m\u001b[92m2.9178460958550794\u001b[0m\t \u001b[1m\u001b[92m2.9178460958550794\u001b[0m\t \u001b[1m\u001b[92m3.108904230466303\u001b[0m\t \u001b[1m\u001b[92m2.9674348820756\u001b[0m\n",
            "\u001b[1m\u001b[92m20\u001b[0m\t \u001b[1m\u001b[92m[-0.01491095 -0.99489583]\u001b[0m\t \u001b[1m\u001b[92m1.039037518092691\u001b[0m\t \u001b[1m\u001b[92m1.039037518092691\u001b[0m\t \u001b[1m\u001b[92m2.518408518754552\u001b[0m\t \u001b[1m\u001b[92m3.251287187845721\u001b[0m\n"
          ]
        }
      ],
      "source": [
        "### EXACT GP EI GRADIENTS\n",
        "\n",
        "np.random.seed(run_num_14)\n",
        "surrogate_exact_14 = dGaussianProcess(cov_func, optimize=opt)\n",
        "\n",
        "exact_14 = dGPGO(surrogate_exact_14, Acquisition_grad(util), objfunc, param)\n",
        "exact_14.run(init_evals=n_init, max_iter=iters)\n"
      ]
    },
    {
      "cell_type": "code",
      "execution_count": 48,
      "metadata": {
        "id": "dPS8WB3aJTN6",
        "colab": {
          "base_uri": "https://localhost:8080/"
        },
        "outputId": "c526c342-0413-43ae-fe24-fc9be542ad91"
      },
      "outputs": [
        {
          "output_type": "stream",
          "name": "stdout",
          "text": [
            "Evaluation \t Proposed point \t  Current eval. \t  Best eval. \t        Exact EI: StdDev. x \t Approx EI: StdDev. x \n",
            "init\t [ 3.57189322 -3.28810573]\t 54.938487770767075\t 7.990765314336182\t    \t    \n",
            "init\t [-4.56332069 -1.41784631]\t 60.750198753157726\t 7.990765314336182\t    \t    \n",
            "init\t [-2.29989449  0.3072023 ]\t 31.984997246800887\t 7.990765314336182\t    \t    \n",
            "init\t [-1.9873903  -2.00218256]\t 7.990765314336182\t 7.990765314336182\t    \t    \n",
            "init\t [-3.97576933 -2.5610341 ]\t 41.754957769694336\t 7.990765314336182\t    \t    \n",
            "1  \t [5.12 5.12]\t 57.849427451571785\t 7.990765314336182\t 3.81309744870819\t 3.988805034976028\n",
            "2  \t [-0.3517064  5.12     ]\t 45.012664103899695\t 7.990765314336182\t 2.5904252535457424\t 3.8430137896456533\n",
            "3  \t [2.59308743 1.16950208]\t 31.584661731004793\t 7.990765314336182\t 3.402567156577174\t 3.655499811133456\n",
            "4  \t [-5.06640777  4.03179879]\t 42.980762793572524\t 7.990765314336182\t 3.2622413250523357\t 4.03712405988526\n",
            "5  \t [-1.61688397 -5.12      ]\t 48.96133288911461\t 7.990765314336182\t 3.326017289751384\t 3.36590925022826\n",
            "6  \t [ 0.44200358 -1.25724417]\t 31.574406781020727\t 7.990765314336182\t 3.3297366345031927\t 3.4533847289930817\n",
            "7  \t [-5.12 -5.12]\t 57.849427451571785\t 7.990765314336182\t 3.4704846784989036\t 4.079052914036954\n",
            "8  \t [5.12       0.89289198]\t 31.902290415287613\t 7.990765314336182\t 3.0337257471880403\t 4.005276824494646\n",
            "9  \t [-0.24849651  2.23869112]\t 24.269062898153585\t 7.990765314336182\t 2.5687386843993663\t 3.097107221641309\n",
            "10 \t [2.55379757 3.80532645]\t 47.02985162243078\t 7.990765314336182\t 2.4955555073803684\t 3.8213373612790718\n",
            "11 \t [ 0.95595249 -4.33638076]\t 35.2634775082984\t 7.990765314336182\t 2.3292411232326797\t 3.6953428422464527\n",
            "12 \t [-2.66874342  4.03710747]\t 38.577573918599626\t 7.990765314336182\t 2.4851654388195414\t 3.434998158813959\n",
            "13 \t [-5.12        1.33865267]\t 46.00330464453758\t 7.990765314336182\t 2.9336982049922153\t 4.209846535498403\n",
            "14 \t [ 4.92912852 -1.22236261]\t 35.03786330527109\t 7.990765314336182\t 2.5822305361537117\t 3.6093776892332246\n",
            "15 \t [-1.6532113  -2.20907037]\t 30.783098152150437\t 7.990765314336182\t 2.292422472059667\t 2.650346352146728\n",
            "16 \t [ 2.4069041  -0.87368794]\t 27.881441689202944\t 7.990765314336182\t 2.8394990199151073\t 3.467991684549989\n",
            "17 \t [-0.06420976  0.68286898]\t 15.367283758242777\t 7.990765314336182\t 2.9152824179431174\t 2.993517287217943\n",
            "18 \t [5.12       2.86610442]\t 40.47425707583241\t 7.990765314336182\t 2.8786234939290596\t 4.19150168895945\n",
            "19 \t [-2.74220359  2.09917682]\t 24.29542772075832\t 7.990765314336182\t 2.6040537276655513\t 3.0762053031990235\n",
            "20 \t [1.05415446 2.28282948]\t 18.944021160778355\t 7.990765314336182\t 2.5050317160667435\t 3.30616796929174\n"
          ]
        }
      ],
      "source": [
        "### EXACT GP EI GRADIENTS\n",
        "\n",
        "np.random.seed(run_num_15)\n",
        "surrogate_exact_15 = dGaussianProcess(cov_func, optimize=opt)\n",
        "\n",
        "exact_15 = dGPGO(surrogate_exact_15, Acquisition_grad(util), objfunc, param)\n",
        "exact_15.run(init_evals=n_init, max_iter=iters)\n"
      ]
    },
    {
      "cell_type": "code",
      "execution_count": 49,
      "metadata": {
        "id": "lu8ki9XIQPPN",
        "colab": {
          "base_uri": "https://localhost:8080/"
        },
        "outputId": "f5909d02-e77a-4591-a5c4-33f1d31e7fb3"
      },
      "outputs": [
        {
          "output_type": "stream",
          "name": "stdout",
          "text": [
            "Evaluation \t Proposed point \t  Current eval. \t  Best eval. \t        Exact EI: StdDev. x \t Approx EI: StdDev. x \n",
            "init\t [-2.83349935  0.23719262]\t 22.27210456874814\t 22.27210456874814\t    \t    \n",
            "init\t [ 0.51918292 -4.65303603]\t 57.57021076017139\t 22.27210456874814\t    \t    \n",
            "init\t [-1.42613673 -2.83565116]\t 33.89145899403749\t 22.27210456874814\t    \t    \n",
            "init\t [ 1.9325559  -3.44339021]\t 35.85029586225333\t 22.27210456874814\t    \t    \n",
            "init\t [-4.39987336  4.51595121]\t 77.78800881964571\t 22.27210456874814\t    \t    \n",
            "1  \t [5.12 5.12]\t 57.849427451571785\t 22.27210456874814\t 3.9731757856614807\t 4.088893153423972\n",
            "2  \t [5.12       0.13572283]\t 32.364151347148145\t 22.27210456874814\t 3.7448522637760786\t 3.5179007492166434\n",
            "3  \t [0.43755246 3.98750252]\t 35.36249901006297\t 22.27210456874814\t 3.430504908953448\t 4.087158799975003\n",
            "4  \t [-5.12 -5.12]\t 57.849427451571785\t 22.27210456874814\t 3.579304558473055\t 3.6555954394817247\n",
            "5  \t [0.82510209 0.43263036]\t 25.439743547492817\t 22.27210456874814\t 2.3219441063134636\t 3.095645073056795\n",
            "6  \t [ 5.12       -3.28377708]\t 51.814286473179685\t 22.27210456874814\t 3.428540669444316\t 3.8681978143372673\n",
            "7  \t [3.32288859 2.36710793]\t 47.77797742088676\t 22.27210456874814\t 2.8359588055746596\t 3.38196206068344\n",
            "8  \t [-5.12       -1.66627414]\t 46.72252695663262\t 22.27210456874814\t 2.646325134025722\t 3.342180720110964\n",
            "9  \t [-1.70768174  2.40966161]\t 39.78222805323985\t 22.27210456874814\t 2.8679448595092913\t 3.1099061040307725\n",
            "10 \t [-5.01626259  1.40956798]\t 45.630634998754346\t 22.27210456874814\t 2.8994406603736786\t 3.567155406805885\n",
            "\u001b[1m\u001b[92m11\u001b[0m\t \u001b[1m\u001b[92m[ 2.75837694 -0.98056261]\u001b[0m\t \u001b[1m\u001b[92m18.118534941096186\u001b[0m\t \u001b[1m\u001b[92m18.118534941096186\u001b[0m\t \u001b[1m\u001b[92m2.7677674581773757\u001b[0m\t \u001b[1m\u001b[92m3.4089726639405415\u001b[0m\n",
            "12 \t [-2.37310085 -5.12      ]\t 51.54251087209876\t 18.118534941096186\t 3.314716040471373\t 4.077283608239203\n",
            "13 \t [2.58938266 5.12      ]\t 54.09361607509226\t 18.118534941096186\t 2.6418141519446676\t 2.6232284303782833\n",
            "14 \t [-0.56826739 -0.91835768]\t 21.547504996784355\t 18.118534941096186\t 2.1107683787422973\t 2.8915187240100746\n",
            "15 \t [5.12       2.57576437]\t 54.44743460599794\t 18.118534941096186\t 2.740175639212718\t 3.1191948057836454\n",
            "16 \t [-3.37095886 -2.98637309]\t 37.2076842347182\t 18.118534941096186\t 2.3694234989633314\t 2.516773027787794\n",
            "\u001b[1m\u001b[92m17\u001b[0m\t \u001b[1m\u001b[92m[0.89613868 2.0840814 ]\u001b[0m\t \u001b[1m\u001b[92m8.564604150051968\u001b[0m\t \u001b[1m\u001b[92m8.564604150051968\u001b[0m\t \u001b[1m\u001b[92m2.8087253047946428\u001b[0m\t \u001b[1m\u001b[92m3.2866656028094177\u001b[0m\n",
            "18 \t [-1.66297214  4.71640172]\t 52.30498756770958\t 8.564604150051968\t 2.3292591132417715\t 2.9584991942171657\n",
            "19 \t [ 1.13238132 -1.73529572]\t 18.48048337044588\t 8.564604150051968\t 2.2826471689601204\t 2.193885750930704\n",
            "20 \t [ 3.42508236 -4.6198908 ]\t 69.28137476893652\t 8.564604150051968\t 2.5660513042109425\t 2.683475703804328\n"
          ]
        }
      ],
      "source": [
        "### EXACT GP EI GRADIENTS\n",
        "\n",
        "np.random.seed(run_num_16)\n",
        "surrogate_exact_16 = dGaussianProcess(cov_func, optimize=opt)\n",
        "\n",
        "exact_16 = dGPGO(surrogate_exact_16, Acquisition_grad(util), objfunc, param)\n",
        "exact_16.run(init_evals=n_init, max_iter=iters)\n"
      ]
    },
    {
      "cell_type": "code",
      "execution_count": 50,
      "metadata": {
        "id": "yU2SflSsJTUs",
        "colab": {
          "base_uri": "https://localhost:8080/"
        },
        "outputId": "db2c9255-28a6-4708-d1a3-ef3d0b7d53cd"
      },
      "outputs": [
        {
          "output_type": "stream",
          "name": "stdout",
          "text": [
            "Evaluation \t Proposed point \t  Current eval. \t  Best eval. \t        Exact EI: StdDev. x \t Approx EI: StdDev. x \n",
            "init\t [-2.10263037  0.31320838]\t 20.395145364684023\t 20.395145364684023\t    \t    \n",
            "init\t [-3.15882714 -4.42470033]\t 53.03732051200137\t 20.395145364684023\t    \t    \n",
            "init\t [2.93873111 1.60085526]\t 29.989224812583537\t 20.395145364684023\t    \t    \n",
            "init\t [1.40821398 0.77417363]\t 29.451989415882437\t 20.395145364684023\t    \t    \n",
            "init\t [-4.71999574 -1.45598869]\t 55.89242173757483\t 20.395145364684023\t    \t    \n",
            "1  \t [ 4.96008736 -4.44720822]\t 64.14783177084814\t 20.395145364684023\t 3.6883753167172184\t 4.813589322179726\n",
            "2  \t [-1.51638506  5.12      ]\t 51.17119027079279\t 20.395145364684023\t 3.92302113931978\t 3.788847483934455\n",
            "3  \t [5.12 5.12]\t 57.849427451571785\t 20.395145364684023\t 3.576133682979501\t 3.6435871025893705\n",
            "4  \t [ 0.77481686 -3.17286901]\t 24.455665433265764\t 20.395145364684023\t 3.6299817384343878\t 3.9546096306317167\n",
            "5  \t [ 5.12      -0.6232504]\t 46.46152636881506\t 20.395145364684023\t 3.533343152404087\t 4.006662500958352\n",
            "6  \t [-4.62697915  2.47154919]\t 64.34072966335293\t 20.395145364684023\t 3.1861472092336975\t 3.40671804863447\n",
            "7  \t [1.79896812 5.12      ]\t 39.132556159955286\t 20.395145364684023\t 3.5177829237107745\t 3.0975064698085983\n",
            "8  \t [-0.52052566  2.45116798]\t 45.72911134802193\t 20.395145364684023\t 3.393982668520102\t 3.2963797267137234\n",
            "9  \t [-0.38564732 -5.12      ]\t 46.60138312200337\t 20.395145364684023\t 3.740142044329811\t 3.8650753964452638\n",
            "\u001b[1m\u001b[92m10\u001b[0m\t \u001b[1m\u001b[92m[-1.21496244 -1.99416052]\u001b[0m\t \u001b[1m\u001b[92m13.27580485321678\u001b[0m\t \u001b[1m\u001b[92m13.27580485321678\u001b[0m\t \u001b[1m\u001b[92m3.184792418362203\u001b[0m\t \u001b[1m\u001b[92m3.016608539774253\u001b[0m\n",
            "11 \t [ 2.65072228 -1.79280586]\t 33.42429628859841\t 13.27580485321678\t 3.7241611279496847\t 3.985095652414145\n",
            "12 \t [-5.12 -5.12]\t 57.849427451571785\t 13.27580485321678\t 3.6700271539883795\t 3.7326696004217013\n",
            "13 \t [4.54436595 2.73868373]\t 58.476049047155286\t 13.27580485321678\t 2.2452403537547747\t 2.7294957840590826\n",
            "14 \t [-0.30420091 -0.52662616]\t 33.570354319559385\t 13.27580485321678\t 2.3660072302237425\t 3.3360343919394766\n",
            "15 \t [-1.79858571 -2.62099541]\t 34.34572173007098\t 13.27580485321678\t 2.455870318862165\t 2.913970502546558\n",
            "16 \t [-3.62343269  4.34492624]\t 64.76500632761865\t 13.27580485321678\t 2.668613297582995\t 3.2119482466092193\n",
            "17 \t [ 2.33841598 -5.12      ]\t 49.66687367918608\t 13.27580485321678\t 2.382164217485269\t 3.3823592715832227\n",
            "18 \t [1.66822247 3.15063901]\t 31.779274239132775\t 13.27580485321678\t 2.782876289393256\t 3.487686275260677\n",
            "19 \t [-3.64290131  0.54966192]\t 49.32269429310768\t 13.27580485321678\t 2.5310601510833397\t 3.200491771902688\n",
            "20 \t [ 5.09990614 -2.34727794]\t 49.16375303729769\t 13.27580485321678\t 2.784214266813544\t 3.2505134988372655\n"
          ]
        }
      ],
      "source": [
        "### EXACT GP EI GRADIENTS\n",
        "\n",
        "np.random.seed(run_num_17)\n",
        "surrogate_exact_17 = dGaussianProcess(cov_func, optimize=opt)\n",
        "\n",
        "exact_17 = dGPGO(surrogate_exact_17, Acquisition_grad(util), objfunc, param)\n",
        "exact_17.run(init_evals=n_init, max_iter=iters)\n"
      ]
    },
    {
      "cell_type": "code",
      "execution_count": 51,
      "metadata": {
        "id": "eVEhyZ9BQS-1",
        "colab": {
          "base_uri": "https://localhost:8080/"
        },
        "outputId": "7a61117f-d5fd-412c-b9db-f0d1c662f9d9"
      },
      "outputs": [
        {
          "output_type": "stream",
          "name": "stdout",
          "text": [
            "Evaluation \t Proposed point \t  Current eval. \t  Best eval. \t        Exact EI: StdDev. x \t Approx EI: StdDev. x \n",
            "init\t [1.53983224 0.05584255]\t 22.67190580753611\t 22.67190580753611\t    \t    \n",
            "init\t [ 3.87687906 -3.25795609]\t 38.990099416711985\t 22.67190580753611\t    \t    \n",
            "init\t [3.60686662 2.56139557]\t 56.66448698782129\t 22.67190580753611\t    \t    \n",
            "init\t [1.70088108 4.99604939]\t 40.894059318256296\t 22.67190580753611\t    \t    \n",
            "init\t [-2.48864335 -4.83014733]\t 54.6725749848372\t 22.67190580753611\t    \t    \n",
            "1  \t [-5.00718904  2.9174042 ]\t 34.91005808676357\t 22.67190580753611\t 3.630075407912595\t 4.028759782644506\n",
            "2  \t [-2.51728699 -0.57162865]\t 45.60878949338969\t 22.67190580753611\t 3.378981586021677\t 2.9101122671628175\n",
            "\u001b[1m\u001b[92m3\u001b[0m\t \u001b[1m\u001b[92m[-1.16199468  2.84345102]\u001b[0m\t \u001b[1m\u001b[92m18.64334138900093\u001b[0m\t \u001b[1m\u001b[92m18.64334138900093\u001b[0m\t \u001b[1m\u001b[92m4.099418530942829\u001b[0m\t \u001b[1m\u001b[92m3.751426586488011\u001b[0m\n",
            "4  \t [ 0.94317334 -5.09987532]\t 29.434221146146708\t 18.64334138900093\t 4.296995786603507\t 4.219638979265386\n",
            "5  \t [-5.12       -3.24744771]\t 49.310271957430565\t 18.64334138900093\t 3.821502115471736\t 3.8230795107969593\n",
            "6  \t [5.12 5.12]\t 57.849427451571785\t 18.64334138900093\t 3.52845633043086\t 3.50433503162167\n",
            "7  \t [ 5.12       -0.33248183]\t 43.9888529346376\t 18.64334138900093\t 2.8871832169526734\t 3.4527474429033504\n",
            "\u001b[1m\u001b[92m8\u001b[0m\t \u001b[1m\u001b[92m[-0.25338237 -2.14072112]\u001b[0m\t \u001b[1m\u001b[92m18.52013108633958\u001b[0m\t \u001b[1m\u001b[92m18.52013108633958\u001b[0m\t \u001b[1m\u001b[92m2.652515920194244\u001b[0m\t \u001b[1m\u001b[92m3.849239221410481\u001b[0m\n",
            "9  \t [-2.05931647  4.63332738]\t 43.086601890136585\t 18.52013108633958\t 3.092664967148908\t 3.7343322053334367\n",
            "10 \t [-3.11165923  1.78660544]\t 22.956357015909624\t 18.52013108633958\t 3.611854620501081\t 3.658293259365399\n",
            "11 \t [-5.01423887 -0.77565688]\t 34.179132740283066\t 18.52013108633958\t 3.3725995670814055\t 3.6546184745521955\n",
            "12 \t [0.54540573 2.65164737]\t 42.718294646617025\t 18.52013108633958\t 3.351192638967371\t 3.2463516978191262\n",
            "13 \t [ 1.75025017 -2.61266392]\t 37.471036198162054\t 18.52013108633958\t 3.302134509465624\t 3.6991714639030744\n",
            "14 \t [-5.12 -5.12]\t 57.849427451571785\t 18.52013108633958\t 2.829528434745247\t 3.5080347412600674\n",
            "15 \t [-4.93311462  4.65004427]\t 62.70427715056073\t 18.52013108633958\t 2.7970341324304138\t 3.4133534843432036\n",
            "16 \t [-0.47600252  0.43648028]\t 39.51772176059464\t 18.52013108633958\t 2.3915172401697546\t 3.0581438953383997\n",
            "17 \t [ 2.78232378 -5.12      ]\t 44.649009864360124\t 18.52013108633958\t 3.0723553419394007\t 4.067355173087704\n",
            "18 \t [-1.75358516 -2.74258781]\t 30.83715880257283\t 18.52013108633958\t 3.003560789533428\t 3.3270884006136723\n",
            "19 \t [2.75163718 0.45145431]\t 37.21085794774687\t 18.52013108633958\t 2.4681231446251477\t 3.615816200194234\n",
            "20 \t [-4.86389002  1.05051168]\t 28.69977585367665\t 18.52013108633958\t 2.7893458722017823\t 3.7315588238157\n"
          ]
        }
      ],
      "source": [
        "### EXACT GP EI GRADIENTS\n",
        "\n",
        "np.random.seed(run_num_18)\n",
        "surrogate_exact_18 = dGaussianProcess(cov_func, optimize=opt)\n",
        "\n",
        "exact_18 = dGPGO(surrogate_exact_18, Acquisition_grad(util), objfunc, param)\n",
        "exact_18.run(init_evals=n_init, max_iter=iters)\n"
      ]
    },
    {
      "cell_type": "code",
      "execution_count": 52,
      "metadata": {
        "id": "B6gTz1ojQUxn",
        "colab": {
          "base_uri": "https://localhost:8080/"
        },
        "outputId": "26ee9918-b645-4a2c-8467-d63ef907bedb"
      },
      "outputs": [
        {
          "output_type": "stream",
          "name": "stdout",
          "text": [
            "Evaluation \t Proposed point \t  Current eval. \t  Best eval. \t        Exact EI: StdDev. x \t Approx EI: StdDev. x \n",
            "init\t [-4.12125592  2.6751971 ]\t 41.43485596167127\t 25.867003842388073\t    \t    \n",
            "init\t [-2.59135515 -3.70553152]\t 51.60126035043229\t 25.867003842388073\t    \t    \n",
            "init\t [-1.72598719 -4.27008445]\t 43.97430127029199\t 25.867003842388073\t    \t    \n",
            "init\t [1.76104531 3.13952049]\t 25.867003842388073\t 25.867003842388073\t    \t    \n",
            "init\t [4.9432772  1.38916592]\t 44.66580306903559\t 25.867003842388073\t    \t    \n",
            "1  \t [ 4.23957592 -4.3180944 ]\t 60.11460005778843\t 25.867003842388073\t 3.4588117408596997\t 4.56156041833644\n",
            "\u001b[1m\u001b[92m2\u001b[0m\t \u001b[1m\u001b[92m[-0.85223314  0.10979616]\u001b[0m\t \u001b[1m\u001b[92m7.034281493863369\u001b[0m\t \u001b[1m\u001b[92m7.034281493863369\u001b[0m\t \u001b[1m\u001b[92m3.886265382753384\u001b[0m\t \u001b[1m\u001b[92m3.7372710987489866\u001b[0m\n",
            "3  \t [5.12 5.12]\t 57.849427451571785\t 7.034281493863369\t 4.313744546615337\t 4.360929827988412\n",
            "4  \t [-5.11258163 -1.10557085]\t 31.880533931769172\t 7.034281493863369\t 3.176608365597175\t 3.3787695939534412\n",
            "5  \t [ 2.12840686 -1.35523203]\t 25.589256976271045\t 7.034281493863369\t 2.884174684071559\t 3.1803547642334475\n",
            "6  \t [-1.01620019  4.44738397]\t 40.32213667756042\t 7.034281493863369\t 3.4719840617610815\t 3.682510222868222\n",
            "7  \t [-5.12 -5.12]\t 57.849427451571785\t 7.034281493863369\t 3.483131446988908\t 3.4590634868823464\n",
            "8  \t [ 1.07856459 -4.72346213]\t 36.327944912142755\t 7.034281493863369\t 2.546520129361108\t 3.109183929449436\n",
            "9  \t [-2.6669556  0.0475187]\t 22.541595502698435\t 7.034281493863369\t 2.377182530500567\t 3.278293270284355\n",
            "10 \t [ 4.96669048 -1.40967365]\t 45.305681288590236\t 7.034281493863369\t 3.0471622587982283\t 3.30734643190909\n",
            "11 \t [0.64709731 0.86715764]\t 20.48091485726506\t 7.034281493863369\t 2.485411377964598\t 3.216138841160495\n",
            "12 \t [-0.49405661 -1.65281445]\t 38.70279222172374\t 7.034281493863369\t 2.741956275504041\t 3.459840258655149\n",
            "13 \t [2.22082169 5.12      ]\t 42.03368828558089\t 7.034281493863369\t 2.812891698820396\t 3.068681605649512\n",
            "14 \t [-1.31878701  1.89348162]\t 21.670462780462806\t 7.034281493863369\t 2.4334859378575713\t 2.719532823623582\n",
            "15 \t [-3.25665825  4.61117262]\t 59.94492359640172\t 7.034281493863369\t 2.8178604178653743\t 3.6074440176454203\n",
            "16 \t [2.51765961 1.23991913]\t 37.181536903531956\t 7.034281493863369\t 2.6037691677519774\t 3.1600680971723687\n",
            "17 \t [-5.12      -2.8868461]\t 39.68128180348433\t 7.034281493863369\t 2.855750904212908\t 3.57189266039563\n",
            "18 \t [-4.51019792  0.53902306]\t 60.31282429551632\t 7.034281493863369\t 2.7405891565128666\t 2.989885772168248\n",
            "19 \t [4.26373634 3.10459487]\t 40.76283910223129\t 7.034281493863369\t 2.36617490664534\t 2.794353411445151\n",
            "20 \t [ 2.45699709 -3.15832123]\t 40.20198737152837\t 7.034281493863369\t 2.5056289702370167\t 2.8686749454112213\n"
          ]
        }
      ],
      "source": [
        "### EXACT GP EI GRADIENTS\n",
        "\n",
        "np.random.seed(run_num_19)\n",
        "surrogate_exact_19 = dGaussianProcess(cov_func, optimize=opt)\n",
        "\n",
        "exact_19 = dGPGO(surrogate_exact_19, Acquisition_grad(util), objfunc, param)\n",
        "exact_19.run(init_evals=n_init, max_iter=iters)\n"
      ]
    },
    {
      "cell_type": "code",
      "execution_count": 53,
      "metadata": {
        "id": "aw3xvSryIwDi",
        "colab": {
          "base_uri": "https://localhost:8080/"
        },
        "outputId": "bd425951-9238-43c1-ec8a-00c84a874992"
      },
      "outputs": [
        {
          "output_type": "stream",
          "name": "stdout",
          "text": [
            "Evaluation \t Proposed point \t  Current eval. \t  Best eval. \t        Exact EI: StdDev. x \t Approx EI: StdDev. x \n",
            "init\t [0.9024594  4.07258857]\t 20.24255447774017\t 17.388691338534382\t    \t    \n",
            "init\t [4.00927467 3.23417577]\t 35.55852254546393\t 17.388691338534382\t    \t    \n",
            "init\t [-4.75249064  1.96359764]\t 36.54582989269194\t 17.388691338534382\t    \t    \n",
            "init\t [-1.24230715  0.18955208]\t 17.388691338534382\t 17.388691338534382\t    \t    \n",
            "init\t [ 1.61742301 -3.13497377]\t 33.22932870179905\t 17.388691338534382\t    \t    \n",
            "1  \t [-5.12 -5.12]\t 57.849427451571785\t 17.388691338534382\t 3.6916727210491396\t 3.808236648117454\n",
            "2  \t [ 5.12       -0.90735837]\t 31.394828457875214\t 17.388691338534382\t 3.2580062981319675\t 3.9541002413841198\n",
            "3  \t [-2.32336301  4.69581581]\t 55.23583055058302\t 17.388691338534382\t 3.0069186582915597\t 3.213662485778825\n",
            "4  \t [-1.42212012 -5.12      ]\t 49.77360183644946\t 17.388691338534382\t 3.2203147586345526\t 4.048459940970851\n",
            "5  \t [-4.99374537 -1.51879585]\t 47.18230030266759\t 17.388691338534382\t 3.4327061651837845\t 3.817318305062649\n",
            "6  \t [ 4.69083883 -4.43531189]\t 74.49346239383576\t 17.388691338534382\t 3.2742211219326642\t 3.6664981241426475\n",
            "7  \t [ 2.28914281 -0.05412095]\t 18.250426811771185\t 17.388691338534382\t 3.7675864939767805\t 3.6357376386358697\n",
            "8  \t [-2.37979289 -1.83160171]\t 31.393469539400822\t 17.388691338534382\t 3.3824373786211064\t 3.2806244587369227\n",
            "9  \t [5.12 5.12]\t 57.849427451571785\t 17.388691338534382\t 3.681903734569967\t 3.5314582720798016\n",
            "\u001b[1m\u001b[92m10\u001b[0m\t \u001b[1m\u001b[92m[0.23817271 1.87684037]\u001b[0m\t \u001b[1m\u001b[92m15.684450311807456\u001b[0m\t \u001b[1m\u001b[92m15.684450311807456\u001b[0m\t \u001b[1m\u001b[92m2.5833608639221097\u001b[0m\t \u001b[1m\u001b[92m3.4056178467706637\u001b[0m\n",
            "11 \t [ 1.39934699 -5.12      ]\t 48.94887078413712\t 15.684450311807456\t 2.7415991509869753\t 3.11186811617452\n",
            "12 \t [-4.45972891  4.76447717]\t 71.36263247821208\t 15.684450311807456\t 3.0670953639524274\t 3.6254301288030644\n",
            "\u001b[1m\u001b[92m13\u001b[0m\t \u001b[1m\u001b[92m[-2.11442909  1.93653499]\u001b[0m\t \u001b[1m\u001b[92m11.480771167734927\u001b[0m\t \u001b[1m\u001b[92m11.480771167734927\u001b[0m\t \u001b[1m\u001b[92m2.994010062230864\u001b[0m\t \u001b[1m\u001b[92m3.23069803314456\u001b[0m\n",
            "14 \t [ 0.33360491 -1.4435291 ]\t 36.58693886514175\t 11.480771167734927\t 2.6424111769518466\t 2.5844603706734803\n",
            "15 \t [5.12       1.35323577]\t 46.7970680129156\t 11.480771167734927\t 2.822180977179933\t 2.8398720987802046\n",
            "16 \t [1.93088253 2.22714841]\t 18.185876525577598\t 11.480771167734927\t 2.726558081416352\t 3.042361675423184\n",
            "17 \t [-3.19116272  0.41966771]\t 35.49940727214008\t 11.480771167734927\t 2.501593351085011\t 2.790344572730413\n",
            "18 \t [2.45316814 5.07354982]\t 52.37807046733145\t 11.480771167734927\t 3.4207133539997283\t 3.2591553579066925\n",
            "19 \t [ 3.38773862 -1.99141438]\t 33.07083926419689\t 11.480771167734927\t 2.7978860447836147\t 2.994156990933171\n",
            "20 \t [-3.33343614 -3.59571008]\t 57.29216618048355\t 11.480771167734927\t 2.759871249425808\t 2.832408633838441\n"
          ]
        }
      ],
      "source": [
        "### EXACT GP EI GRADIENTS\n",
        "\n",
        "np.random.seed(run_num_20)\n",
        "surrogate_exact_20 = dGaussianProcess(cov_func, optimize=opt)\n",
        "\n",
        "exact_20 = dGPGO(surrogate_exact_20, Acquisition_grad(util), objfunc, param)\n",
        "exact_20.run(init_evals=n_init, max_iter=iters)\n"
      ]
    },
    {
      "cell_type": "code",
      "execution_count": 54,
      "metadata": {
        "id": "5c8szjivRPme",
        "colab": {
          "base_uri": "https://localhost:8080/"
        },
        "outputId": "f1f15e6e-1408-4ed2-b27e-9d78a4be4669"
      },
      "outputs": [
        {
          "output_type": "execute_result",
          "data": {
            "text/plain": [
              "795.6647200584412"
            ]
          },
          "metadata": {},
          "execution_count": 54
        }
      ],
      "source": [
        "end_exact = time.time()\n",
        "end_exact\n",
        "\n",
        "time_exact = end_exact - start_exact\n",
        "time_exact\n"
      ]
    },
    {
      "cell_type": "code",
      "execution_count": 55,
      "metadata": {
        "id": "f6gCKnp6RR8c",
        "colab": {
          "base_uri": "https://localhost:8080/"
        },
        "outputId": "2a1f93e7-1e32-4a48-ecca-efe21423e254"
      },
      "outputs": [
        {
          "output_type": "execute_result",
          "data": {
            "text/plain": [
              "(2.5294756116675012, 2.9911419163163977)"
            ]
          },
          "metadata": {},
          "execution_count": 55
        }
      ],
      "source": [
        "### Simple regret minimization: run number = 1\n",
        "\n",
        "approx_output_1 = np.append(np.min(-approx_1.GP.y[0:n_init]),-approx_1.GP.y[n_init:(n_init+iters)]) \n",
        "exact_output_1 = np.append(np.min(-exact_1.GP.y[0:n_init]),-exact_1.GP.y[n_init:(n_init+iters)]) \n",
        "\n",
        "regret_approx_1 = np.log(approx_output_1 - y_global_orig)\n",
        "regret_exact_1 = np.log(exact_output_1 - y_global_orig)\n",
        "\n",
        "simple_regret_approx_1 = min_max_array(regret_approx_1)\n",
        "simple_regret_exact_1 = min_max_array(regret_exact_1)\n",
        "\n",
        "min_simple_regret_approx_1 = min(simple_regret_approx_1)\n",
        "min_simple_regret_exact_1 = min(simple_regret_exact_1)\n",
        "\n",
        "min_simple_regret_approx_1, min_simple_regret_exact_1\n"
      ]
    },
    {
      "cell_type": "code",
      "execution_count": 56,
      "metadata": {
        "id": "94yBw5tqQxfk",
        "colab": {
          "base_uri": "https://localhost:8080/"
        },
        "outputId": "a19f3801-0806-43e5-c30e-4374244457fb"
      },
      "outputs": [
        {
          "output_type": "execute_result",
          "data": {
            "text/plain": [
              "(2.9425708889884663, 2.6319155071098805)"
            ]
          },
          "metadata": {},
          "execution_count": 56
        }
      ],
      "source": [
        "### Simple regret minimization: run number = 2\n",
        "\n",
        "approx_output_2 = np.append(np.min(-approx_2.GP.y[0:n_init]),-approx_2.GP.y[n_init:(n_init+iters)]) \n",
        "exact_output_2 = np.append(np.min(-exact_2.GP.y[0:n_init]),-exact_2.GP.y[n_init:(n_init+iters)]) \n",
        "\n",
        "regret_approx_2 = np.log(approx_output_2 - y_global_orig)\n",
        "regret_exact_2 = np.log(exact_output_2 - y_global_orig)\n",
        "\n",
        "simple_regret_approx_2 = min_max_array(regret_approx_2)\n",
        "simple_regret_exact_2 = min_max_array(regret_exact_2)\n",
        "\n",
        "min_simple_regret_approx_2 = min(simple_regret_approx_2)\n",
        "min_simple_regret_exact_2 = min(simple_regret_exact_2)\n",
        "\n",
        "min_simple_regret_approx_2, min_simple_regret_exact_2\n"
      ]
    },
    {
      "cell_type": "code",
      "execution_count": 57,
      "metadata": {
        "id": "Bu6SBWALQxfl",
        "colab": {
          "base_uri": "https://localhost:8080/"
        },
        "outputId": "861b08c8-52b5-4d51-82b8-60e1ee8479ee"
      },
      "outputs": [
        {
          "output_type": "execute_result",
          "data": {
            "text/plain": [
              "(2.361576630127625, 2.361576630127625)"
            ]
          },
          "metadata": {},
          "execution_count": 57
        }
      ],
      "source": [
        "### Simple regret minimization: run number = 3\n",
        "\n",
        "approx_output_3 = np.append(np.min(-approx_3.GP.y[0:n_init]),-approx_3.GP.y[n_init:(n_init+iters)]) \n",
        "exact_output_3 = np.append(np.min(-exact_3.GP.y[0:n_init]),-exact_3.GP.y[n_init:(n_init+iters)]) \n",
        "\n",
        "regret_approx_3 = np.log(approx_output_3 - y_global_orig)\n",
        "regret_exact_3 = np.log(exact_output_3 - y_global_orig)\n",
        "\n",
        "simple_regret_approx_3 = min_max_array(regret_approx_3)\n",
        "simple_regret_exact_3 = min_max_array(regret_exact_3)\n",
        "\n",
        "min_simple_regret_approx_3 = min(simple_regret_approx_3)\n",
        "min_simple_regret_exact_3 = min(simple_regret_exact_3)\n",
        "\n",
        "min_simple_regret_approx_3, min_simple_regret_exact_3"
      ]
    },
    {
      "cell_type": "code",
      "execution_count": 58,
      "metadata": {
        "id": "AZm0jgxkQxfm",
        "colab": {
          "base_uri": "https://localhost:8080/"
        },
        "outputId": "f7eccde8-87c4-45cd-ee4f-60abfe0e88cf"
      },
      "outputs": [
        {
          "output_type": "execute_result",
          "data": {
            "text/plain": [
              "(2.2874076594636836, 2.393320095295603)"
            ]
          },
          "metadata": {},
          "execution_count": 58
        }
      ],
      "source": [
        "### Simple regret minimization: run number = 4\n",
        "\n",
        "approx_output_4 = np.append(np.min(-approx_4.GP.y[0:n_init]),-approx_4.GP.y[n_init:(n_init+iters)]) \n",
        "exact_output_4 = np.append(np.min(-exact_4.GP.y[0:n_init]),-exact_4.GP.y[n_init:(n_init+iters)]) \n",
        "\n",
        "regret_approx_4 = np.log(approx_output_4 - y_global_orig)\n",
        "regret_exact_4 = np.log(exact_output_4 - y_global_orig)\n",
        "\n",
        "simple_regret_approx_4 = min_max_array(regret_approx_4)\n",
        "simple_regret_exact_4 = min_max_array(regret_exact_4)\n",
        "\n",
        "min_simple_regret_approx_4 = min(simple_regret_approx_4)\n",
        "min_simple_regret_exact_4 = min(simple_regret_exact_4)\n",
        "\n",
        "min_simple_regret_approx_4, min_simple_regret_exact_4"
      ]
    },
    {
      "cell_type": "code",
      "execution_count": 59,
      "metadata": {
        "id": "NONPm8JIQxfn",
        "colab": {
          "base_uri": "https://localhost:8080/"
        },
        "outputId": "3be7ce83-632a-4f90-d3ee-dbb23fcbd550"
      },
      "outputs": [
        {
          "output_type": "execute_result",
          "data": {
            "text/plain": [
              "(1.839067751100448, 2.05551541920764)"
            ]
          },
          "metadata": {},
          "execution_count": 59
        }
      ],
      "source": [
        "### Simple regret minimization: run number = 5\n",
        "\n",
        "approx_output_5 = np.append(np.min(-approx_5.GP.y[0:n_init]),-approx_5.GP.y[n_init:(n_init+iters)]) \n",
        "exact_output_5 = np.append(np.min(-exact_5.GP.y[0:n_init]),-exact_5.GP.y[n_init:(n_init+iters)]) \n",
        "\n",
        "regret_approx_5 = np.log(approx_output_5 - y_global_orig)\n",
        "regret_exact_5 = np.log(exact_output_5 - y_global_orig)\n",
        "\n",
        "simple_regret_approx_5 = min_max_array(regret_approx_5)\n",
        "simple_regret_exact_5 = min_max_array(regret_exact_5)\n",
        "\n",
        "min_simple_regret_approx_5 = min(simple_regret_approx_5)\n",
        "min_simple_regret_exact_5 = min(simple_regret_exact_5)\n",
        "\n",
        "min_simple_regret_approx_5, min_simple_regret_exact_5"
      ]
    },
    {
      "cell_type": "code",
      "execution_count": 60,
      "metadata": {
        "id": "CJv3lPuSQxfp",
        "colab": {
          "base_uri": "https://localhost:8080/"
        },
        "outputId": "16197a47-8f39-4a64-b6d1-25cdd8fd7cf1"
      },
      "outputs": [
        {
          "output_type": "execute_result",
          "data": {
            "text/plain": [
              "(2.3017046454182353, 1.8077462212079871)"
            ]
          },
          "metadata": {},
          "execution_count": 60
        }
      ],
      "source": [
        "### Simple regret minimization: run number = 6\n",
        "\n",
        "approx_output_6 = np.append(np.min(-approx_6.GP.y[0:n_init]),-approx_6.GP.y[n_init:(n_init+iters)]) \n",
        "exact_output_6 = np.append(np.min(-exact_6.GP.y[0:n_init]),-exact_6.GP.y[n_init:(n_init+iters)]) \n",
        "\n",
        "regret_approx_6 = np.log(approx_output_6 - y_global_orig)\n",
        "regret_exact_6 = np.log(exact_output_6 - y_global_orig)\n",
        "\n",
        "simple_regret_approx_6 = min_max_array(regret_approx_6)\n",
        "simple_regret_exact_6 = min_max_array(regret_exact_6)\n",
        "\n",
        "min_simple_regret_approx_6 = min(simple_regret_approx_6)\n",
        "min_simple_regret_exact_6 = min(simple_regret_exact_6)\n",
        "\n",
        "min_simple_regret_approx_6, min_simple_regret_exact_6"
      ]
    },
    {
      "cell_type": "code",
      "execution_count": 61,
      "metadata": {
        "id": "quR2ZyApQxfq",
        "colab": {
          "base_uri": "https://localhost:8080/"
        },
        "outputId": "d2360ae6-722b-4888-c173-d5c8e8eea432"
      },
      "outputs": [
        {
          "output_type": "execute_result",
          "data": {
            "text/plain": [
              "(2.633745145499596, 2.6183746868414763)"
            ]
          },
          "metadata": {},
          "execution_count": 61
        }
      ],
      "source": [
        "### Simple regret minimization: run number = 7\n",
        "\n",
        "approx_output_7 = np.append(np.min(-approx_7.GP.y[0:n_init]),-approx_7.GP.y[n_init:(n_init+iters)]) \n",
        "exact_output_7 = np.append(np.min(-exact_7.GP.y[0:n_init]),-exact_7.GP.y[n_init:(n_init+iters)]) \n",
        "\n",
        "regret_approx_7 = np.log(approx_output_7 - y_global_orig)\n",
        "regret_exact_7 = np.log(exact_output_7 - y_global_orig)\n",
        "\n",
        "simple_regret_approx_7 = min_max_array(regret_approx_7)\n",
        "simple_regret_exact_7 = min_max_array(regret_exact_7)\n",
        "\n",
        "min_simple_regret_approx_7 = min(simple_regret_approx_7)\n",
        "min_simple_regret_exact_7 = min(simple_regret_exact_7)\n",
        "\n",
        "min_simple_regret_approx_7, min_simple_regret_exact_7"
      ]
    },
    {
      "cell_type": "code",
      "execution_count": 62,
      "metadata": {
        "id": "99wY5nK6Qxfr",
        "colab": {
          "base_uri": "https://localhost:8080/"
        },
        "outputId": "2fc88632-5f86-44f6-8e73-201ae79473a4"
      },
      "outputs": [
        {
          "output_type": "execute_result",
          "data": {
            "text/plain": [
              "(2.6298595175876263, 2.19253889506217)"
            ]
          },
          "metadata": {},
          "execution_count": 62
        }
      ],
      "source": [
        "### Simple regret minimization: run number = 8\n",
        "\n",
        "approx_output_8 = np.append(np.min(-approx_8.GP.y[0:n_init]),-approx_8.GP.y[n_init:(n_init+iters)]) \n",
        "exact_output_8 = np.append(np.min(-exact_8.GP.y[0:n_init]),-exact_8.GP.y[n_init:(n_init+iters)]) \n",
        "\n",
        "regret_approx_8 = np.log(approx_output_8 - y_global_orig)\n",
        "regret_exact_8 = np.log(exact_output_8 - y_global_orig)\n",
        "\n",
        "simple_regret_approx_8 = min_max_array(regret_approx_8)\n",
        "simple_regret_exact_8 = min_max_array(regret_exact_8)\n",
        "\n",
        "min_simple_regret_approx_8 = min(simple_regret_approx_8)\n",
        "min_simple_regret_exact_8 = min(simple_regret_exact_8)\n",
        "\n",
        "min_simple_regret_approx_8, min_simple_regret_exact_8"
      ]
    },
    {
      "cell_type": "code",
      "execution_count": 63,
      "metadata": {
        "id": "qt0P5t9qQxfs",
        "colab": {
          "base_uri": "https://localhost:8080/"
        },
        "outputId": "170d862c-7d9e-4af1-ad0a-ed7fe722586b"
      },
      "outputs": [
        {
          "output_type": "execute_result",
          "data": {
            "text/plain": [
              "(2.4985422509327466, 3.0613958241008215)"
            ]
          },
          "metadata": {},
          "execution_count": 63
        }
      ],
      "source": [
        "### Simple regret minimization: run number = 9\n",
        "\n",
        "approx_output_9 = np.append(np.min(-approx_9.GP.y[0:n_init]),-approx_9.GP.y[n_init:(n_init+iters)]) \n",
        "exact_output_9 = np.append(np.min(-exact_9.GP.y[0:n_init]),-exact_9.GP.y[n_init:(n_init+iters)]) \n",
        "\n",
        "regret_approx_9 = np.log(approx_output_9 - y_global_orig)\n",
        "regret_exact_9 = np.log(exact_output_9 - y_global_orig)\n",
        "\n",
        "simple_regret_approx_9 = min_max_array(regret_approx_9)\n",
        "simple_regret_exact_9 = min_max_array(regret_exact_9)\n",
        "\n",
        "min_simple_regret_approx_9 = min(simple_regret_approx_9)\n",
        "min_simple_regret_exact_9 = min(simple_regret_exact_9)\n",
        "\n",
        "min_simple_regret_approx_9, min_simple_regret_exact_9"
      ]
    },
    {
      "cell_type": "code",
      "execution_count": 64,
      "metadata": {
        "id": "vx8to9stQxft",
        "colab": {
          "base_uri": "https://localhost:8080/"
        },
        "outputId": "0e11d5cf-ba05-4b09-fe48-a47705eca5e4"
      },
      "outputs": [
        {
          "output_type": "execute_result",
          "data": {
            "text/plain": [
              "(2.523718963356266, 2.305617553099838)"
            ]
          },
          "metadata": {},
          "execution_count": 64
        }
      ],
      "source": [
        "### Simple regret minimization: run number = 10\n",
        "\n",
        "approx_output_10 = np.append(np.min(-approx_10.GP.y[0:n_init]),-approx_10.GP.y[n_init:(n_init+iters)]) \n",
        "exact_output_10 = np.append(np.min(-exact_10.GP.y[0:n_init]),-exact_10.GP.y[n_init:(n_init+iters)]) \n",
        "\n",
        "regret_approx_10 = np.log(approx_output_10 - y_global_orig)\n",
        "regret_exact_10 = np.log(exact_output_10 - y_global_orig)\n",
        "\n",
        "simple_regret_approx_10 = min_max_array(regret_approx_10)\n",
        "simple_regret_exact_10 = min_max_array(regret_exact_10)\n",
        "\n",
        "min_simple_regret_approx_10 = min(simple_regret_approx_10)\n",
        "min_simple_regret_exact_10 = min(simple_regret_exact_10)\n",
        "\n",
        "min_simple_regret_approx_10, min_simple_regret_exact_10"
      ]
    },
    {
      "cell_type": "code",
      "execution_count": 65,
      "metadata": {
        "id": "d-FGzWyHQxfu",
        "colab": {
          "base_uri": "https://localhost:8080/"
        },
        "outputId": "e258792c-e316-4fcf-f56f-015405f6ee9f"
      },
      "outputs": [
        {
          "output_type": "execute_result",
          "data": {
            "text/plain": [
              "(2.3683499168354514, 2.3683499168354514)"
            ]
          },
          "metadata": {},
          "execution_count": 65
        }
      ],
      "source": [
        "### Simple regret minimization: run number = 11\n",
        "\n",
        "approx_output_11 = np.append(np.min(-approx_11.GP.y[0:n_init]),-approx_11.GP.y[n_init:(n_init+iters)]) \n",
        "exact_output_11 = np.append(np.min(-exact_11.GP.y[0:n_init]),-exact_11.GP.y[n_init:(n_init+iters)]) \n",
        "\n",
        "regret_approx_11 = np.log(approx_output_11 - y_global_orig)\n",
        "regret_exact_11 = np.log(exact_output_11 - y_global_orig)\n",
        "\n",
        "simple_regret_approx_11 = min_max_array(regret_approx_11)\n",
        "simple_regret_exact_11 = min_max_array(regret_exact_11)\n",
        "\n",
        "min_simple_regret_approx_11 = min(simple_regret_approx_11)\n",
        "min_simple_regret_exact_11 = min(simple_regret_exact_11)\n",
        "\n",
        "min_simple_regret_approx_11, min_simple_regret_exact_11"
      ]
    },
    {
      "cell_type": "code",
      "execution_count": 66,
      "metadata": {
        "id": "SvtsssyjQxfv",
        "colab": {
          "base_uri": "https://localhost:8080/"
        },
        "outputId": "216025fd-567b-4caa-e92b-11421eae4751"
      },
      "outputs": [
        {
          "output_type": "execute_result",
          "data": {
            "text/plain": [
              "(2.1682427222773226, 3.077067912870573)"
            ]
          },
          "metadata": {},
          "execution_count": 66
        }
      ],
      "source": [
        "### Simple regret minimization: run number = 12\n",
        "\n",
        "approx_output_12 = np.append(np.min(-approx_12.GP.y[0:n_init]),-approx_12.GP.y[n_init:(n_init+iters)]) \n",
        "exact_output_12 = np.append(np.min(-exact_12.GP.y[0:n_init]),-exact_12.GP.y[n_init:(n_init+iters)]) \n",
        "\n",
        "regret_approx_12 = np.log(approx_output_12 - y_global_orig)\n",
        "regret_exact_12 = np.log(exact_output_12 - y_global_orig)\n",
        "\n",
        "simple_regret_approx_12 = min_max_array(regret_approx_12)\n",
        "simple_regret_exact_12 = min_max_array(regret_exact_12)\n",
        "\n",
        "min_simple_regret_approx_12 = min(simple_regret_approx_12)\n",
        "min_simple_regret_exact_12 = min(simple_regret_exact_12)\n",
        "\n",
        "min_simple_regret_approx_12, min_simple_regret_exact_12"
      ]
    },
    {
      "cell_type": "code",
      "execution_count": 67,
      "metadata": {
        "id": "K6OiGcHkQxfw",
        "colab": {
          "base_uri": "https://localhost:8080/"
        },
        "outputId": "17a43b62-15d7-4000-9771-0b8301622731"
      },
      "outputs": [
        {
          "output_type": "execute_result",
          "data": {
            "text/plain": [
              "(2.763547141257638, 1.789003106724696)"
            ]
          },
          "metadata": {},
          "execution_count": 67
        }
      ],
      "source": [
        "### Simple regret minimization: run number = 13\n",
        "\n",
        "approx_output_13 = np.append(np.min(-approx_13.GP.y[0:n_init]),-approx_13.GP.y[n_init:(n_init+iters)]) \n",
        "exact_output_13 = np.append(np.min(-exact_13.GP.y[0:n_init]),-exact_13.GP.y[n_init:(n_init+iters)]) \n",
        "\n",
        "regret_approx_13 = np.log(approx_output_13 - y_global_orig)\n",
        "regret_exact_13 = np.log(exact_output_13 - y_global_orig)\n",
        "\n",
        "simple_regret_approx_13 = min_max_array(regret_approx_13)\n",
        "simple_regret_exact_13 = min_max_array(regret_exact_13)\n",
        "\n",
        "min_simple_regret_approx_13 = min(simple_regret_approx_13)\n",
        "min_simple_regret_exact_13 = min(simple_regret_exact_13)\n",
        "\n",
        "min_simple_regret_approx_13, min_simple_regret_exact_13"
      ]
    },
    {
      "cell_type": "code",
      "execution_count": 68,
      "metadata": {
        "id": "ogML73shQxfx",
        "colab": {
          "base_uri": "https://localhost:8080/"
        },
        "outputId": "58879255-2dde-4c64-f3d4-dafee04b8f3c"
      },
      "outputs": [
        {
          "output_type": "execute_result",
          "data": {
            "text/plain": [
              "(2.3440953566682032, 0.038294821275244015)"
            ]
          },
          "metadata": {},
          "execution_count": 68
        }
      ],
      "source": [
        "### Simple regret minimization: run number = 14\n",
        "\n",
        "approx_output_14 = np.append(np.min(-approx_14.GP.y[0:n_init]),-approx_14.GP.y[n_init:(n_init+iters)]) \n",
        "exact_output_14 = np.append(np.min(-exact_14.GP.y[0:n_init]),-exact_14.GP.y[n_init:(n_init+iters)]) \n",
        "\n",
        "regret_approx_14 = np.log(approx_output_14 - y_global_orig)\n",
        "regret_exact_14 = np.log(exact_output_14 - y_global_orig)\n",
        "\n",
        "simple_regret_approx_14 = min_max_array(regret_approx_14)\n",
        "simple_regret_exact_14 = min_max_array(regret_exact_14)\n",
        "\n",
        "min_simple_regret_approx_14 = min(simple_regret_approx_14)\n",
        "min_simple_regret_exact_14 = min(simple_regret_exact_14)\n",
        "\n",
        "min_simple_regret_approx_14, min_simple_regret_exact_14"
      ]
    },
    {
      "cell_type": "code",
      "execution_count": 69,
      "metadata": {
        "id": "9Eg7gFT9Qxfx",
        "colab": {
          "base_uri": "https://localhost:8080/"
        },
        "outputId": "59ddc881-7f28-455b-abdc-758b49c4ce65"
      },
      "outputs": [
        {
          "output_type": "execute_result",
          "data": {
            "text/plain": [
              "(2.078286539213237, 2.078286539213237)"
            ]
          },
          "metadata": {},
          "execution_count": 69
        }
      ],
      "source": [
        "### Simple regret minimization: run number = 15\n",
        "\n",
        "approx_output_15 = np.append(np.min(-approx_15.GP.y[0:n_init]),-approx_15.GP.y[n_init:(n_init+iters)]) \n",
        "exact_output_15 = np.append(np.min(-exact_15.GP.y[0:n_init]),-exact_15.GP.y[n_init:(n_init+iters)]) \n",
        "\n",
        "regret_approx_15 = np.log(approx_output_15 - y_global_orig)\n",
        "regret_exact_15 = np.log(exact_output_15 - y_global_orig)\n",
        "\n",
        "simple_regret_approx_15 = min_max_array(regret_approx_15)\n",
        "simple_regret_exact_15 = min_max_array(regret_exact_15)\n",
        "\n",
        "min_simple_regret_approx_15 = min(simple_regret_approx_15)\n",
        "min_simple_regret_exact_15 = min(simple_regret_exact_15)\n",
        "\n",
        "min_simple_regret_approx_15, min_simple_regret_exact_15"
      ]
    },
    {
      "cell_type": "code",
      "execution_count": 70,
      "metadata": {
        "id": "lIAC1U7ZQxfy",
        "colab": {
          "base_uri": "https://localhost:8080/"
        },
        "outputId": "870a6341-6bcf-42dd-dff9-f4b3267935f5"
      },
      "outputs": [
        {
          "output_type": "execute_result",
          "data": {
            "text/plain": [
              "(0.8663677050546124, 2.147637913551233)"
            ]
          },
          "metadata": {},
          "execution_count": 70
        }
      ],
      "source": [
        "### Simple regret minimization: run number = 16\n",
        "\n",
        "approx_output_16 = np.append(np.min(-approx_16.GP.y[0:n_init]),-approx_16.GP.y[n_init:(n_init+iters)]) \n",
        "exact_output_16 = np.append(np.min(-exact_16.GP.y[0:n_init]),-exact_16.GP.y[n_init:(n_init+iters)]) \n",
        "\n",
        "regret_approx_16 = np.log(approx_output_16 - y_global_orig)\n",
        "regret_exact_16 = np.log(exact_output_16 - y_global_orig)\n",
        "\n",
        "simple_regret_approx_16 = min_max_array(regret_approx_16)\n",
        "simple_regret_exact_16 = min_max_array(regret_exact_16)\n",
        "\n",
        "min_simple_regret_approx_16 = min(simple_regret_approx_16)\n",
        "min_simple_regret_exact_16 = min(simple_regret_exact_16)\n",
        "\n",
        "min_simple_regret_approx_16, min_simple_regret_exact_16"
      ]
    },
    {
      "cell_type": "code",
      "execution_count": 71,
      "metadata": {
        "id": "bGott36OQxfz",
        "colab": {
          "base_uri": "https://localhost:8080/"
        },
        "outputId": "0c36240b-3b42-43db-8d06-6e11d6070ad8"
      },
      "outputs": [
        {
          "output_type": "execute_result",
          "data": {
            "text/plain": [
              "(2.432332009606677, 2.585943194534326)"
            ]
          },
          "metadata": {},
          "execution_count": 71
        }
      ],
      "source": [
        "### Simple regret minimization: run number = 17\n",
        "\n",
        "approx_output_17 = np.append(np.min(-approx_17.GP.y[0:n_init]),-approx_17.GP.y[n_init:(n_init+iters)]) \n",
        "exact_output_17 = np.append(np.min(-exact_17.GP.y[0:n_init]),-exact_17.GP.y[n_init:(n_init+iters)]) \n",
        "\n",
        "regret_approx_17 = np.log(approx_output_17 - y_global_orig)\n",
        "regret_exact_17 = np.log(exact_output_17 - y_global_orig)\n",
        "\n",
        "simple_regret_approx_17 = min_max_array(regret_approx_17)\n",
        "simple_regret_exact_17 = min_max_array(regret_exact_17)\n",
        "\n",
        "min_simple_regret_approx_17 = min(simple_regret_approx_17)\n",
        "min_simple_regret_exact_17 = min(simple_regret_exact_17)\n",
        "\n",
        "min_simple_regret_approx_17, min_simple_regret_exact_17"
      ]
    },
    {
      "cell_type": "code",
      "execution_count": 72,
      "metadata": {
        "id": "Cz9ZYMBMQxfz",
        "colab": {
          "base_uri": "https://localhost:8080/"
        },
        "outputId": "75fd2f72-b754-408a-cfe5-a2226237e321"
      },
      "outputs": [
        {
          "output_type": "execute_result",
          "data": {
            "text/plain": [
              "(2.356603659126311, 2.9188583072890735)"
            ]
          },
          "metadata": {},
          "execution_count": 72
        }
      ],
      "source": [
        "### Simple regret minimization: run number = 18\n",
        "\n",
        "approx_output_18 = np.append(np.min(-approx_18.GP.y[0:n_init]),-approx_18.GP.y[n_init:(n_init+iters)]) \n",
        "exact_output_18 = np.append(np.min(-exact_18.GP.y[0:n_init]),-exact_18.GP.y[n_init:(n_init+iters)]) \n",
        "\n",
        "regret_approx_18 = np.log(approx_output_18 - y_global_orig)\n",
        "regret_exact_18 = np.log(exact_output_18 - y_global_orig)\n",
        "\n",
        "simple_regret_approx_18 = min_max_array(regret_approx_18)\n",
        "simple_regret_exact_18 = min_max_array(regret_exact_18)\n",
        "\n",
        "min_simple_regret_approx_18 = min(simple_regret_approx_18)\n",
        "min_simple_regret_exact_18 = min(simple_regret_exact_18)\n",
        "\n",
        "min_simple_regret_approx_18, min_simple_regret_exact_18"
      ]
    },
    {
      "cell_type": "code",
      "execution_count": 73,
      "metadata": {
        "id": "OBfpWOHNQxf0",
        "colab": {
          "base_uri": "https://localhost:8080/"
        },
        "outputId": "cb4077ff-081f-4568-e500-b0ffe9715148"
      },
      "outputs": [
        {
          "output_type": "execute_result",
          "data": {
            "text/plain": [
              "(2.973922428906317, 1.9507955522819533)"
            ]
          },
          "metadata": {},
          "execution_count": 73
        }
      ],
      "source": [
        "### Simple regret minimization: run number = 19\n",
        "\n",
        "approx_output_19 = np.append(np.min(-approx_19.GP.y[0:n_init]),-approx_19.GP.y[n_init:(n_init+iters)]) \n",
        "exact_output_19 = np.append(np.min(-exact_19.GP.y[0:n_init]),-exact_19.GP.y[n_init:(n_init+iters)]) \n",
        "\n",
        "regret_approx_19 = np.log(approx_output_19 - y_global_orig)\n",
        "regret_exact_19 = np.log(exact_output_19 - y_global_orig)\n",
        "\n",
        "simple_regret_approx_19 = min_max_array(regret_approx_19)\n",
        "simple_regret_exact_19 = min_max_array(regret_exact_19)\n",
        "\n",
        "min_simple_regret_approx_19 = min(simple_regret_approx_19)\n",
        "min_simple_regret_exact_19 = min(simple_regret_exact_19)\n",
        "\n",
        "min_simple_regret_approx_19, min_simple_regret_exact_19"
      ]
    },
    {
      "cell_type": "code",
      "execution_count": 74,
      "metadata": {
        "id": "BE1AJ7NsQxf0",
        "colab": {
          "base_uri": "https://localhost:8080/"
        },
        "outputId": "4fe1b6c0-55a6-42fa-a8e6-72110a2197bd"
      },
      "outputs": [
        {
          "output_type": "execute_result",
          "data": {
            "text/plain": [
              "(2.6591821221878704, 2.4406735635250905)"
            ]
          },
          "metadata": {},
          "execution_count": 74
        }
      ],
      "source": [
        "### Simple regret minimization: run number = 20\n",
        "\n",
        "approx_output_20 = np.append(np.min(-approx_20.GP.y[0:n_init]),-approx_20.GP.y[n_init:(n_init+iters)]) \n",
        "exact_output_20 = np.append(np.min(-exact_20.GP.y[0:n_init]),-exact_20.GP.y[n_init:(n_init+iters)]) \n",
        "\n",
        "regret_approx_20 = np.log(approx_output_20 - y_global_orig)\n",
        "regret_exact_20 = np.log(exact_output_20 - y_global_orig)\n",
        "\n",
        "simple_regret_approx_20 = min_max_array(regret_approx_20)\n",
        "simple_regret_exact_20 = min_max_array(regret_exact_20)\n",
        "\n",
        "min_simple_regret_approx_20 = min(simple_regret_approx_20)\n",
        "min_simple_regret_exact_20 = min(simple_regret_exact_20)\n",
        "\n",
        "min_simple_regret_approx_20, min_simple_regret_exact_20"
      ]
    },
    {
      "cell_type": "code",
      "execution_count": 75,
      "metadata": {
        "id": "bpX-bKAHQxf1"
      },
      "outputs": [],
      "source": [
        "# Iteration1 :\n",
        "\n",
        "slice1 = 0\n",
        "\n",
        "approx1 = [simple_regret_approx_1[slice1],\n",
        "       simple_regret_approx_2[slice1],\n",
        "       simple_regret_approx_3[slice1],\n",
        "       simple_regret_approx_4[slice1],\n",
        "       simple_regret_approx_5[slice1],\n",
        "       simple_regret_approx_6[slice1],\n",
        "       simple_regret_approx_7[slice1],\n",
        "       simple_regret_approx_8[slice1],\n",
        "       simple_regret_approx_9[slice1],\n",
        "       simple_regret_approx_10[slice1],\n",
        "       simple_regret_approx_11[slice1],\n",
        "       simple_regret_approx_12[slice1],\n",
        "       simple_regret_approx_13[slice1],\n",
        "       simple_regret_approx_14[slice1],\n",
        "       simple_regret_approx_15[slice1],\n",
        "       simple_regret_approx_16[slice1],\n",
        "       simple_regret_approx_17[slice1],\n",
        "       simple_regret_approx_18[slice1],\n",
        "       simple_regret_approx_19[slice1],\n",
        "       simple_regret_approx_20[slice1]]\n",
        "\n",
        "exact1 = [simple_regret_exact_1[slice1],\n",
        "       simple_regret_exact_2[slice1],\n",
        "       simple_regret_exact_3[slice1],\n",
        "       simple_regret_exact_4[slice1],\n",
        "       simple_regret_exact_5[slice1],\n",
        "       simple_regret_exact_6[slice1],\n",
        "       simple_regret_exact_7[slice1],\n",
        "       simple_regret_exact_8[slice1],\n",
        "       simple_regret_exact_9[slice1],\n",
        "       simple_regret_exact_10[slice1],\n",
        "       simple_regret_exact_11[slice1],\n",
        "       simple_regret_exact_12[slice1],\n",
        "       simple_regret_exact_13[slice1],\n",
        "       simple_regret_exact_14[slice1],\n",
        "       simple_regret_exact_15[slice1],\n",
        "       simple_regret_exact_16[slice1],\n",
        "       simple_regret_exact_17[slice1],\n",
        "       simple_regret_exact_18[slice1],\n",
        "       simple_regret_exact_19[slice1],\n",
        "       simple_regret_exact_20[slice1]]\n",
        "\n",
        "approx1_results = pd.DataFrame(approx1).sort_values(by=[0], ascending=False)\n",
        "exact1_results = pd.DataFrame(exact1).sort_values(by=[0], ascending=False)\n",
        "\n",
        "### Best simple regret minimization IQR - approx:\n",
        "lower_approx1 = np.asarray(approx1_results[4:5][0])[0]\n",
        "median_approx1 = np.asarray(approx1_results[9:10][0])[0]\n",
        "upper_approx1 = np.asarray(approx1_results[14:15][0])[0]\n",
        "\n",
        "lower_exact1 = np.asarray(exact1_results[4:5][0])[0]\n",
        "median_exact1 = np.asarray(exact1_results[9:10][0])[0]\n",
        "upper_exact1 = np.asarray(exact1_results[14:15][0])[0]"
      ]
    },
    {
      "cell_type": "code",
      "execution_count": 76,
      "metadata": {
        "id": "CgIkJA1xQxf2"
      },
      "outputs": [],
      "source": [
        "# Iteration11 :\n",
        "\n",
        "slice11 = 10\n",
        "\n",
        "approx11 = [simple_regret_approx_1[slice11],\n",
        "       simple_regret_approx_2[slice11],\n",
        "       simple_regret_approx_3[slice11],\n",
        "       simple_regret_approx_4[slice11],\n",
        "       simple_regret_approx_5[slice11],\n",
        "       simple_regret_approx_6[slice11],\n",
        "       simple_regret_approx_7[slice11],\n",
        "       simple_regret_approx_8[slice11],\n",
        "       simple_regret_approx_9[slice11],\n",
        "       simple_regret_approx_10[slice11],\n",
        "       simple_regret_approx_11[slice11],\n",
        "       simple_regret_approx_12[slice11],\n",
        "       simple_regret_approx_13[slice11],\n",
        "       simple_regret_approx_14[slice11],\n",
        "       simple_regret_approx_15[slice11],\n",
        "       simple_regret_approx_16[slice11],\n",
        "       simple_regret_approx_17[slice11],\n",
        "       simple_regret_approx_18[slice11],\n",
        "       simple_regret_approx_19[slice11],\n",
        "       simple_regret_approx_20[slice11]]\n",
        "\n",
        "exact11 = [simple_regret_exact_1[slice11],\n",
        "       simple_regret_exact_2[slice11],\n",
        "       simple_regret_exact_3[slice11],\n",
        "       simple_regret_exact_4[slice11],\n",
        "       simple_regret_exact_5[slice11],\n",
        "       simple_regret_exact_6[slice11],\n",
        "       simple_regret_exact_7[slice11],\n",
        "       simple_regret_exact_8[slice11],\n",
        "       simple_regret_exact_9[slice11],\n",
        "       simple_regret_exact_10[slice11],\n",
        "       simple_regret_exact_11[slice11],\n",
        "       simple_regret_exact_12[slice11],\n",
        "       simple_regret_exact_13[slice11],\n",
        "       simple_regret_exact_14[slice11],\n",
        "       simple_regret_exact_15[slice11],\n",
        "       simple_regret_exact_16[slice11],\n",
        "       simple_regret_exact_17[slice11],\n",
        "       simple_regret_exact_18[slice11],\n",
        "       simple_regret_exact_19[slice11],\n",
        "       simple_regret_exact_20[slice11]]\n",
        "\n",
        "approx11_results = pd.DataFrame(approx11).sort_values(by=[0], ascending=False)\n",
        "exact11_results = pd.DataFrame(exact11).sort_values(by=[0], ascending=False)\n",
        "\n",
        "### Best simple regret minimization IQR - approx:\n",
        "lower_approx11 = np.asarray(approx11_results[4:5][0])[0]\n",
        "median_approx11 = np.asarray(approx11_results[9:10][0])[0]\n",
        "upper_approx11 = np.asarray(approx11_results[14:15][0])[0]\n",
        "\n",
        "lower_exact11 = np.asarray(exact11_results[4:5][0])[0]\n",
        "median_exact11 = np.asarray(exact11_results[9:10][0])[0]\n",
        "upper_exact11 = np.asarray(exact11_results[14:15][0])[0]"
      ]
    },
    {
      "cell_type": "code",
      "execution_count": 77,
      "metadata": {
        "id": "MFePDfGuQxf2"
      },
      "outputs": [],
      "source": [
        "# Iteration21 :\n",
        "\n",
        "slice21 = 20\n",
        "\n",
        "approx21 = [simple_regret_approx_1[slice21],\n",
        "       simple_regret_approx_2[slice21],\n",
        "       simple_regret_approx_3[slice21],\n",
        "       simple_regret_approx_4[slice21],\n",
        "       simple_regret_approx_5[slice21],\n",
        "       simple_regret_approx_6[slice21],\n",
        "       simple_regret_approx_7[slice21],\n",
        "       simple_regret_approx_8[slice21],\n",
        "       simple_regret_approx_9[slice21],\n",
        "       simple_regret_approx_10[slice21],\n",
        "       simple_regret_approx_11[slice21],\n",
        "       simple_regret_approx_12[slice21],\n",
        "       simple_regret_approx_13[slice21],\n",
        "       simple_regret_approx_14[slice21],\n",
        "       simple_regret_approx_15[slice21],\n",
        "       simple_regret_approx_16[slice21],\n",
        "       simple_regret_approx_17[slice21],\n",
        "       simple_regret_approx_18[slice21],\n",
        "       simple_regret_approx_19[slice21],\n",
        "       simple_regret_approx_20[slice21]]\n",
        "\n",
        "exact21 = [simple_regret_exact_1[slice21],\n",
        "       simple_regret_exact_2[slice21],\n",
        "       simple_regret_exact_3[slice21],\n",
        "       simple_regret_exact_4[slice21],\n",
        "       simple_regret_exact_5[slice21],\n",
        "       simple_regret_exact_6[slice21],\n",
        "       simple_regret_exact_7[slice21],\n",
        "       simple_regret_exact_8[slice21],\n",
        "       simple_regret_exact_9[slice21],\n",
        "       simple_regret_exact_10[slice21],\n",
        "       simple_regret_exact_11[slice21],\n",
        "       simple_regret_exact_12[slice21],\n",
        "       simple_regret_exact_13[slice21],\n",
        "       simple_regret_exact_14[slice21],\n",
        "       simple_regret_exact_15[slice21],\n",
        "       simple_regret_exact_16[slice21],\n",
        "       simple_regret_exact_17[slice21],\n",
        "       simple_regret_exact_18[slice21],\n",
        "       simple_regret_exact_19[slice21],\n",
        "       simple_regret_exact_20[slice21]]\n",
        "\n",
        "approx21_results = pd.DataFrame(approx21).sort_values(by=[0], ascending=False)\n",
        "exact21_results = pd.DataFrame(exact21).sort_values(by=[0], ascending=False)\n",
        "\n",
        "### Best simple regret minimization IQR - approx:\n",
        "lower_approx21 = np.asarray(approx21_results[4:5][0])[0]\n",
        "median_approx21 = np.asarray(approx21_results[9:10][0])[0]\n",
        "upper_approx21 = np.asarray(approx21_results[14:15][0])[0]\n",
        "\n",
        "lower_exact21 = np.asarray(exact21_results[4:5][0])[0]\n",
        "median_exact21 = np.asarray(exact21_results[9:10][0])[0]\n",
        "upper_exact21 = np.asarray(exact21_results[14:15][0])[0]"
      ]
    },
    {
      "cell_type": "code",
      "execution_count": 78,
      "metadata": {
        "id": "PrRDB1kfQxf3"
      },
      "outputs": [],
      "source": [
        "# Iteration2 :\n",
        "\n",
        "slice2 = 1\n",
        "\n",
        "approx2 = [simple_regret_approx_1[slice2],\n",
        "       simple_regret_approx_2[slice2],\n",
        "       simple_regret_approx_3[slice2],\n",
        "       simple_regret_approx_4[slice2],\n",
        "       simple_regret_approx_5[slice2],\n",
        "       simple_regret_approx_6[slice2],\n",
        "       simple_regret_approx_7[slice2],\n",
        "       simple_regret_approx_8[slice2],\n",
        "       simple_regret_approx_9[slice2],\n",
        "       simple_regret_approx_10[slice2],\n",
        "       simple_regret_approx_11[slice2],\n",
        "       simple_regret_approx_12[slice2],\n",
        "       simple_regret_approx_13[slice2],\n",
        "       simple_regret_approx_14[slice2],\n",
        "       simple_regret_approx_15[slice2],\n",
        "       simple_regret_approx_16[slice2],\n",
        "       simple_regret_approx_17[slice2],\n",
        "       simple_regret_approx_18[slice2],\n",
        "       simple_regret_approx_19[slice2],\n",
        "       simple_regret_approx_20[slice2]]\n",
        "\n",
        "exact2 = [simple_regret_exact_1[slice2],\n",
        "       simple_regret_exact_2[slice2],\n",
        "       simple_regret_exact_3[slice2],\n",
        "       simple_regret_exact_4[slice2],\n",
        "       simple_regret_exact_5[slice2],\n",
        "       simple_regret_exact_6[slice2],\n",
        "       simple_regret_exact_7[slice2],\n",
        "       simple_regret_exact_8[slice2],\n",
        "       simple_regret_exact_9[slice2],\n",
        "       simple_regret_exact_10[slice2],\n",
        "       simple_regret_exact_11[slice2],\n",
        "       simple_regret_exact_12[slice2],\n",
        "       simple_regret_exact_13[slice2],\n",
        "       simple_regret_exact_14[slice2],\n",
        "       simple_regret_exact_15[slice2],\n",
        "       simple_regret_exact_16[slice2],\n",
        "       simple_regret_exact_17[slice2],\n",
        "       simple_regret_exact_18[slice2],\n",
        "       simple_regret_exact_19[slice2],\n",
        "       simple_regret_exact_20[slice2]]\n",
        "\n",
        "approx2_results = pd.DataFrame(approx2).sort_values(by=[0], ascending=False)\n",
        "exact2_results = pd.DataFrame(exact2).sort_values(by=[0], ascending=False)\n",
        "\n",
        "### Best simple regret minimization IQR - approx:\n",
        "lower_approx2 = np.asarray(approx2_results[4:5][0])[0]\n",
        "median_approx2 = np.asarray(approx2_results[9:10][0])[0]\n",
        "upper_approx2 = np.asarray(approx2_results[14:15][0])[0]\n",
        "\n",
        "lower_exact2 = np.asarray(exact2_results[4:5][0])[0]\n",
        "median_exact2 = np.asarray(exact2_results[9:10][0])[0]\n",
        "upper_exact2 = np.asarray(exact2_results[14:15][0])[0]"
      ]
    },
    {
      "cell_type": "code",
      "execution_count": 79,
      "metadata": {
        "id": "B8ncJDYeQxf3"
      },
      "outputs": [],
      "source": [
        "# Iteration12 :\n",
        "\n",
        "slice12 = 11\n",
        "\n",
        "approx12 = [simple_regret_approx_1[slice12],\n",
        "       simple_regret_approx_2[slice12],\n",
        "       simple_regret_approx_3[slice12],\n",
        "       simple_regret_approx_4[slice12],\n",
        "       simple_regret_approx_5[slice12],\n",
        "       simple_regret_approx_6[slice12],\n",
        "       simple_regret_approx_7[slice12],\n",
        "       simple_regret_approx_8[slice12],\n",
        "       simple_regret_approx_9[slice12],\n",
        "       simple_regret_approx_10[slice12],\n",
        "       simple_regret_approx_11[slice12],\n",
        "       simple_regret_approx_12[slice12],\n",
        "       simple_regret_approx_13[slice12],\n",
        "       simple_regret_approx_14[slice12],\n",
        "       simple_regret_approx_15[slice12],\n",
        "       simple_regret_approx_16[slice12],\n",
        "       simple_regret_approx_17[slice12],\n",
        "       simple_regret_approx_18[slice12],\n",
        "       simple_regret_approx_19[slice12],\n",
        "       simple_regret_approx_20[slice12]]\n",
        "\n",
        "exact12 = [simple_regret_exact_1[slice12],\n",
        "       simple_regret_exact_2[slice12],\n",
        "       simple_regret_exact_3[slice12],\n",
        "       simple_regret_exact_4[slice12],\n",
        "       simple_regret_exact_5[slice12],\n",
        "       simple_regret_exact_6[slice12],\n",
        "       simple_regret_exact_7[slice12],\n",
        "       simple_regret_exact_8[slice12],\n",
        "       simple_regret_exact_9[slice12],\n",
        "       simple_regret_exact_10[slice12],\n",
        "       simple_regret_exact_11[slice12],\n",
        "       simple_regret_exact_12[slice12],\n",
        "       simple_regret_exact_13[slice12],\n",
        "       simple_regret_exact_14[slice12],\n",
        "       simple_regret_exact_15[slice12],\n",
        "       simple_regret_exact_16[slice12],\n",
        "       simple_regret_exact_17[slice12],\n",
        "       simple_regret_exact_18[slice12],\n",
        "       simple_regret_exact_19[slice12],\n",
        "       simple_regret_exact_20[slice12]]\n",
        "\n",
        "approx12_results = pd.DataFrame(approx12).sort_values(by=[0], ascending=False)\n",
        "exact12_results = pd.DataFrame(exact12).sort_values(by=[0], ascending=False)\n",
        "\n",
        "### Best simple regret minimization IQR - approx:\n",
        "lower_approx12 = np.asarray(approx12_results[4:5][0])[0]\n",
        "median_approx12 = np.asarray(approx12_results[9:10][0])[0]\n",
        "upper_approx12 = np.asarray(approx12_results[14:15][0])[0]\n",
        "\n",
        "lower_exact12 = np.asarray(exact12_results[4:5][0])[0]\n",
        "median_exact12 = np.asarray(exact12_results[9:10][0])[0]\n",
        "upper_exact12 = np.asarray(exact12_results[14:15][0])[0]"
      ]
    },
    {
      "cell_type": "code",
      "execution_count": 80,
      "metadata": {
        "id": "Jn4KpGvcQxf4"
      },
      "outputs": [],
      "source": [
        "# Iteration3 :\n",
        "\n",
        "slice3 = 2\n",
        "\n",
        "approx3 = [simple_regret_approx_1[slice3],\n",
        "       simple_regret_approx_2[slice3],\n",
        "       simple_regret_approx_3[slice3],\n",
        "       simple_regret_approx_4[slice3],\n",
        "       simple_regret_approx_5[slice3],\n",
        "       simple_regret_approx_6[slice3],\n",
        "       simple_regret_approx_7[slice3],\n",
        "       simple_regret_approx_8[slice3],\n",
        "       simple_regret_approx_9[slice3],\n",
        "       simple_regret_approx_10[slice3],\n",
        "       simple_regret_approx_11[slice3],\n",
        "       simple_regret_approx_12[slice3],\n",
        "       simple_regret_approx_13[slice3],\n",
        "       simple_regret_approx_14[slice3],\n",
        "       simple_regret_approx_15[slice3],\n",
        "       simple_regret_approx_16[slice3],\n",
        "       simple_regret_approx_17[slice3],\n",
        "       simple_regret_approx_18[slice3],\n",
        "       simple_regret_approx_19[slice3],\n",
        "       simple_regret_approx_20[slice3]]\n",
        "\n",
        "exact3 = [simple_regret_exact_1[slice3],\n",
        "       simple_regret_exact_2[slice3],\n",
        "       simple_regret_exact_3[slice3],\n",
        "       simple_regret_exact_4[slice3],\n",
        "       simple_regret_exact_5[slice3],\n",
        "       simple_regret_exact_6[slice3],\n",
        "       simple_regret_exact_7[slice3],\n",
        "       simple_regret_exact_8[slice3],\n",
        "       simple_regret_exact_9[slice3],\n",
        "       simple_regret_exact_10[slice3],\n",
        "       simple_regret_exact_11[slice3],\n",
        "       simple_regret_exact_12[slice3],\n",
        "       simple_regret_exact_13[slice3],\n",
        "       simple_regret_exact_14[slice3],\n",
        "       simple_regret_exact_15[slice3],\n",
        "       simple_regret_exact_16[slice3],\n",
        "       simple_regret_exact_17[slice3],\n",
        "       simple_regret_exact_18[slice3],\n",
        "       simple_regret_exact_19[slice3],\n",
        "       simple_regret_exact_20[slice3]]\n",
        "\n",
        "approx3_results = pd.DataFrame(approx3).sort_values(by=[0], ascending=False)\n",
        "exact3_results = pd.DataFrame(exact3).sort_values(by=[0], ascending=False)\n",
        "\n",
        "### Best simple regret minimization IQR - approx:\n",
        "lower_approx3 = np.asarray(approx3_results[4:5][0])[0]\n",
        "median_approx3 = np.asarray(approx3_results[9:10][0])[0]\n",
        "upper_approx3 = np.asarray(approx3_results[14:15][0])[0]\n",
        "\n",
        "lower_exact3 = np.asarray(exact3_results[4:5][0])[0]\n",
        "median_exact3 = np.asarray(exact3_results[9:10][0])[0]\n",
        "upper_exact3 = np.asarray(exact3_results[14:15][0])[0]"
      ]
    },
    {
      "cell_type": "code",
      "execution_count": 81,
      "metadata": {
        "id": "plf83wxrQxf4"
      },
      "outputs": [],
      "source": [
        "# Iteration13 :\n",
        "\n",
        "slice13 = 12\n",
        "\n",
        "approx13 = [simple_regret_approx_1[slice13],\n",
        "       simple_regret_approx_2[slice13],\n",
        "       simple_regret_approx_3[slice13],\n",
        "       simple_regret_approx_4[slice13],\n",
        "       simple_regret_approx_5[slice13],\n",
        "       simple_regret_approx_6[slice13],\n",
        "       simple_regret_approx_7[slice13],\n",
        "       simple_regret_approx_8[slice13],\n",
        "       simple_regret_approx_9[slice13],\n",
        "       simple_regret_approx_10[slice13],\n",
        "       simple_regret_approx_11[slice13],\n",
        "       simple_regret_approx_12[slice13],\n",
        "       simple_regret_approx_13[slice13],\n",
        "       simple_regret_approx_14[slice13],\n",
        "       simple_regret_approx_15[slice13],\n",
        "       simple_regret_approx_16[slice13],\n",
        "       simple_regret_approx_17[slice13],\n",
        "       simple_regret_approx_18[slice13],\n",
        "       simple_regret_approx_19[slice13],\n",
        "       simple_regret_approx_20[slice13]]\n",
        "\n",
        "exact13 = [simple_regret_exact_1[slice13],\n",
        "       simple_regret_exact_2[slice13],\n",
        "       simple_regret_exact_3[slice13],\n",
        "       simple_regret_exact_4[slice13],\n",
        "       simple_regret_exact_5[slice13],\n",
        "       simple_regret_exact_6[slice13],\n",
        "       simple_regret_exact_7[slice13],\n",
        "       simple_regret_exact_8[slice13],\n",
        "       simple_regret_exact_9[slice13],\n",
        "       simple_regret_exact_10[slice13],\n",
        "       simple_regret_exact_11[slice13],\n",
        "       simple_regret_exact_12[slice13],\n",
        "       simple_regret_exact_13[slice13],\n",
        "       simple_regret_exact_14[slice13],\n",
        "       simple_regret_exact_15[slice13],\n",
        "       simple_regret_exact_16[slice13],\n",
        "       simple_regret_exact_17[slice13],\n",
        "       simple_regret_exact_18[slice13],\n",
        "       simple_regret_exact_19[slice13],\n",
        "       simple_regret_exact_20[slice13]]\n",
        "\n",
        "approx13_results = pd.DataFrame(approx13).sort_values(by=[0], ascending=False)\n",
        "exact13_results = pd.DataFrame(exact13).sort_values(by=[0], ascending=False)\n",
        "\n",
        "### Best simple regret minimization IQR - approx:\n",
        "lower_approx13 = np.asarray(approx13_results[4:5][0])[0]\n",
        "median_approx13 = np.asarray(approx13_results[9:10][0])[0]\n",
        "upper_approx13 = np.asarray(approx13_results[14:15][0])[0]\n",
        "\n",
        "lower_exact13 = np.asarray(exact13_results[4:5][0])[0]\n",
        "median_exact13 = np.asarray(exact13_results[9:10][0])[0]\n",
        "upper_exact13 = np.asarray(exact13_results[14:15][0])[0]"
      ]
    },
    {
      "cell_type": "code",
      "execution_count": 82,
      "metadata": {
        "id": "9A7mlVvJQxf5"
      },
      "outputs": [],
      "source": [
        "# Iteration4 :\n",
        "\n",
        "slice4 = 3\n",
        "\n",
        "approx4 = [simple_regret_approx_1[slice4],\n",
        "       simple_regret_approx_2[slice4],\n",
        "       simple_regret_approx_3[slice4],\n",
        "       simple_regret_approx_4[slice4],\n",
        "       simple_regret_approx_5[slice4],\n",
        "       simple_regret_approx_6[slice4],\n",
        "       simple_regret_approx_7[slice4],\n",
        "       simple_regret_approx_8[slice4],\n",
        "       simple_regret_approx_9[slice4],\n",
        "       simple_regret_approx_10[slice4],\n",
        "       simple_regret_approx_11[slice4],\n",
        "       simple_regret_approx_12[slice4],\n",
        "       simple_regret_approx_13[slice4],\n",
        "       simple_regret_approx_14[slice4],\n",
        "       simple_regret_approx_15[slice4],\n",
        "       simple_regret_approx_16[slice4],\n",
        "       simple_regret_approx_17[slice4],\n",
        "       simple_regret_approx_18[slice4],\n",
        "       simple_regret_approx_19[slice4],\n",
        "       simple_regret_approx_20[slice4]]\n",
        "\n",
        "exact4 = [simple_regret_exact_1[slice4],\n",
        "       simple_regret_exact_2[slice4],\n",
        "       simple_regret_exact_3[slice4],\n",
        "       simple_regret_exact_4[slice4],\n",
        "       simple_regret_exact_5[slice4],\n",
        "       simple_regret_exact_6[slice4],\n",
        "       simple_regret_exact_7[slice4],\n",
        "       simple_regret_exact_8[slice4],\n",
        "       simple_regret_exact_9[slice4],\n",
        "       simple_regret_exact_10[slice4],\n",
        "       simple_regret_exact_11[slice4],\n",
        "       simple_regret_exact_12[slice4],\n",
        "       simple_regret_exact_13[slice4],\n",
        "       simple_regret_exact_14[slice4],\n",
        "       simple_regret_exact_15[slice4],\n",
        "       simple_regret_exact_16[slice4],\n",
        "       simple_regret_exact_17[slice4],\n",
        "       simple_regret_exact_18[slice4],\n",
        "       simple_regret_exact_19[slice4],\n",
        "       simple_regret_exact_20[slice4]]\n",
        "\n",
        "approx4_results = pd.DataFrame(approx4).sort_values(by=[0], ascending=False)\n",
        "exact4_results = pd.DataFrame(exact4).sort_values(by=[0], ascending=False)\n",
        "\n",
        "### Best simple regret minimization IQR - approx:\n",
        "lower_approx4 = np.asarray(approx4_results[4:5][0])[0]\n",
        "median_approx4 = np.asarray(approx4_results[9:10][0])[0]\n",
        "upper_approx4 = np.asarray(approx4_results[14:15][0])[0]\n",
        "\n",
        "lower_exact4 = np.asarray(exact4_results[4:5][0])[0]\n",
        "median_exact4 = np.asarray(exact4_results[9:10][0])[0]\n",
        "upper_exact4 = np.asarray(exact4_results[14:15][0])[0]"
      ]
    },
    {
      "cell_type": "code",
      "execution_count": 83,
      "metadata": {
        "id": "ijq-rioYQxf5"
      },
      "outputs": [],
      "source": [
        "# Iteration14 :\n",
        "\n",
        "slice14 = 13\n",
        "\n",
        "approx14 = [simple_regret_approx_1[slice14],\n",
        "       simple_regret_approx_2[slice14],\n",
        "       simple_regret_approx_3[slice14],\n",
        "       simple_regret_approx_4[slice14],\n",
        "       simple_regret_approx_5[slice14],\n",
        "       simple_regret_approx_6[slice14],\n",
        "       simple_regret_approx_7[slice14],\n",
        "       simple_regret_approx_8[slice14],\n",
        "       simple_regret_approx_9[slice14],\n",
        "       simple_regret_approx_10[slice14],\n",
        "       simple_regret_approx_11[slice14],\n",
        "       simple_regret_approx_12[slice14],\n",
        "       simple_regret_approx_13[slice14],\n",
        "       simple_regret_approx_14[slice14],\n",
        "       simple_regret_approx_15[slice14],\n",
        "       simple_regret_approx_16[slice14],\n",
        "       simple_regret_approx_17[slice14],\n",
        "       simple_regret_approx_18[slice14],\n",
        "       simple_regret_approx_19[slice14],\n",
        "       simple_regret_approx_20[slice14]]\n",
        "\n",
        "exact14 = [simple_regret_exact_1[slice14],\n",
        "       simple_regret_exact_2[slice14],\n",
        "       simple_regret_exact_3[slice14],\n",
        "       simple_regret_exact_4[slice14],\n",
        "       simple_regret_exact_5[slice14],\n",
        "       simple_regret_exact_6[slice14],\n",
        "       simple_regret_exact_7[slice14],\n",
        "       simple_regret_exact_8[slice14],\n",
        "       simple_regret_exact_9[slice14],\n",
        "       simple_regret_exact_10[slice14],\n",
        "       simple_regret_exact_11[slice14],\n",
        "       simple_regret_exact_12[slice14],\n",
        "       simple_regret_exact_13[slice14],\n",
        "       simple_regret_exact_14[slice14],\n",
        "       simple_regret_exact_15[slice14],\n",
        "       simple_regret_exact_16[slice14],\n",
        "       simple_regret_exact_17[slice14],\n",
        "       simple_regret_exact_18[slice14],\n",
        "       simple_regret_exact_19[slice14],\n",
        "       simple_regret_exact_20[slice14]]\n",
        "\n",
        "approx14_results = pd.DataFrame(approx14).sort_values(by=[0], ascending=False)\n",
        "exact14_results = pd.DataFrame(exact14).sort_values(by=[0], ascending=False)\n",
        "\n",
        "### Best simple regret minimization IQR - approx:\n",
        "lower_approx14 = np.asarray(approx14_results[4:5][0])[0]\n",
        "median_approx14 = np.asarray(approx14_results[9:10][0])[0]\n",
        "upper_approx14 = np.asarray(approx14_results[14:15][0])[0]\n",
        "\n",
        "lower_exact14 = np.asarray(exact14_results[4:5][0])[0]\n",
        "median_exact14 = np.asarray(exact14_results[9:10][0])[0]\n",
        "upper_exact14 = np.asarray(exact14_results[14:15][0])[0]"
      ]
    },
    {
      "cell_type": "code",
      "execution_count": 84,
      "metadata": {
        "id": "XINlZjoTd-ZK"
      },
      "outputs": [],
      "source": [
        "# Iteration5 :\n",
        "\n",
        "slice5 = 4\n",
        "\n",
        "approx5 = [simple_regret_approx_1[slice5],\n",
        "       simple_regret_approx_2[slice5],\n",
        "       simple_regret_approx_3[slice5],\n",
        "       simple_regret_approx_4[slice5],\n",
        "       simple_regret_approx_5[slice5],\n",
        "       simple_regret_approx_6[slice5],\n",
        "       simple_regret_approx_7[slice5],\n",
        "       simple_regret_approx_8[slice5],\n",
        "       simple_regret_approx_9[slice5],\n",
        "       simple_regret_approx_10[slice5],\n",
        "       simple_regret_approx_11[slice5],\n",
        "       simple_regret_approx_12[slice5],\n",
        "       simple_regret_approx_13[slice5],\n",
        "       simple_regret_approx_14[slice5],\n",
        "       simple_regret_approx_15[slice5],\n",
        "       simple_regret_approx_16[slice5],\n",
        "       simple_regret_approx_17[slice5],\n",
        "       simple_regret_approx_18[slice5],\n",
        "       simple_regret_approx_19[slice5],\n",
        "       simple_regret_approx_20[slice5]]\n",
        "\n",
        "exact5 = [simple_regret_exact_1[slice5],\n",
        "       simple_regret_exact_2[slice5],\n",
        "       simple_regret_exact_3[slice5],\n",
        "       simple_regret_exact_4[slice5],\n",
        "       simple_regret_exact_5[slice5],\n",
        "       simple_regret_exact_6[slice5],\n",
        "       simple_regret_exact_7[slice5],\n",
        "       simple_regret_exact_8[slice5],\n",
        "       simple_regret_exact_9[slice5],\n",
        "       simple_regret_exact_10[slice5],\n",
        "       simple_regret_exact_11[slice5],\n",
        "       simple_regret_exact_12[slice5],\n",
        "       simple_regret_exact_13[slice5],\n",
        "       simple_regret_exact_14[slice5],\n",
        "       simple_regret_exact_15[slice5],\n",
        "       simple_regret_exact_16[slice5],\n",
        "       simple_regret_exact_17[slice5],\n",
        "       simple_regret_exact_18[slice5],\n",
        "       simple_regret_exact_19[slice5],\n",
        "       simple_regret_exact_20[slice5]]\n",
        "\n",
        "approx5_results = pd.DataFrame(approx5).sort_values(by=[0], ascending=False)\n",
        "exact5_results = pd.DataFrame(exact5).sort_values(by=[0], ascending=False)\n",
        "\n",
        "### Best simple regret minimization IQR - approx:\n",
        "lower_approx5 = np.asarray(approx5_results[4:5][0])[0]\n",
        "median_approx5 = np.asarray(approx5_results[9:10][0])[0]\n",
        "upper_approx5 = np.asarray(approx5_results[14:15][0])[0]\n",
        "\n",
        "lower_exact5 = np.asarray(exact5_results[4:5][0])[0]\n",
        "median_exact5 = np.asarray(exact5_results[9:10][0])[0]\n",
        "upper_exact5 = np.asarray(exact5_results[14:15][0])[0]"
      ]
    },
    {
      "cell_type": "code",
      "execution_count": 85,
      "metadata": {
        "id": "4aZ7C8sOQxf6"
      },
      "outputs": [],
      "source": [
        "# Iteration15 :\n",
        "\n",
        "slice15 = 14\n",
        "\n",
        "approx15 = [simple_regret_approx_1[slice15],\n",
        "       simple_regret_approx_2[slice15],\n",
        "       simple_regret_approx_3[slice15],\n",
        "       simple_regret_approx_4[slice15],\n",
        "       simple_regret_approx_5[slice15],\n",
        "       simple_regret_approx_6[slice15],\n",
        "       simple_regret_approx_7[slice15],\n",
        "       simple_regret_approx_8[slice15],\n",
        "       simple_regret_approx_9[slice15],\n",
        "       simple_regret_approx_10[slice15],\n",
        "       simple_regret_approx_11[slice15],\n",
        "       simple_regret_approx_12[slice15],\n",
        "       simple_regret_approx_13[slice15],\n",
        "       simple_regret_approx_14[slice15],\n",
        "       simple_regret_approx_15[slice15],\n",
        "       simple_regret_approx_16[slice15],\n",
        "       simple_regret_approx_17[slice15],\n",
        "       simple_regret_approx_18[slice15],\n",
        "       simple_regret_approx_19[slice15],\n",
        "       simple_regret_approx_20[slice15]]\n",
        "\n",
        "exact15 = [simple_regret_exact_1[slice15],\n",
        "       simple_regret_exact_2[slice15],\n",
        "       simple_regret_exact_3[slice15],\n",
        "       simple_regret_exact_4[slice15],\n",
        "       simple_regret_exact_5[slice15],\n",
        "       simple_regret_exact_6[slice15],\n",
        "       simple_regret_exact_7[slice15],\n",
        "       simple_regret_exact_8[slice15],\n",
        "       simple_regret_exact_9[slice15],\n",
        "       simple_regret_exact_10[slice15],\n",
        "       simple_regret_exact_11[slice15],\n",
        "       simple_regret_exact_12[slice15],\n",
        "       simple_regret_exact_13[slice15],\n",
        "       simple_regret_exact_14[slice15],\n",
        "       simple_regret_exact_15[slice15],\n",
        "       simple_regret_exact_16[slice15],\n",
        "       simple_regret_exact_17[slice15],\n",
        "       simple_regret_exact_18[slice15],\n",
        "       simple_regret_exact_19[slice15],\n",
        "       simple_regret_exact_20[slice15]]\n",
        "\n",
        "approx15_results = pd.DataFrame(approx15).sort_values(by=[0], ascending=False)\n",
        "exact15_results = pd.DataFrame(exact15).sort_values(by=[0], ascending=False)\n",
        "\n",
        "### Best simple regret minimization IQR - approx:\n",
        "lower_approx15 = np.asarray(approx15_results[4:5][0])[0]\n",
        "median_approx15 = np.asarray(approx15_results[9:10][0])[0]\n",
        "upper_approx15 = np.asarray(approx15_results[14:15][0])[0]\n",
        "\n",
        "lower_exact15 = np.asarray(exact15_results[4:5][0])[0]\n",
        "median_exact15 = np.asarray(exact15_results[9:10][0])[0]\n",
        "upper_exact15 = np.asarray(exact15_results[14:15][0])[0]"
      ]
    },
    {
      "cell_type": "code",
      "execution_count": 86,
      "metadata": {
        "id": "KJINKhv1Qxf6"
      },
      "outputs": [],
      "source": [
        "# Iteration6 :\n",
        "\n",
        "slice6 = 5\n",
        "\n",
        "approx6 = [simple_regret_approx_1[slice6],\n",
        "       simple_regret_approx_2[slice6],\n",
        "       simple_regret_approx_3[slice6],\n",
        "       simple_regret_approx_4[slice6],\n",
        "       simple_regret_approx_5[slice6],\n",
        "       simple_regret_approx_6[slice6],\n",
        "       simple_regret_approx_7[slice6],\n",
        "       simple_regret_approx_8[slice6],\n",
        "       simple_regret_approx_9[slice6],\n",
        "       simple_regret_approx_10[slice6],\n",
        "       simple_regret_approx_11[slice6],\n",
        "       simple_regret_approx_12[slice6],\n",
        "       simple_regret_approx_13[slice6],\n",
        "       simple_regret_approx_14[slice6],\n",
        "       simple_regret_approx_15[slice6],\n",
        "       simple_regret_approx_16[slice6],\n",
        "       simple_regret_approx_17[slice6],\n",
        "       simple_regret_approx_18[slice6],\n",
        "       simple_regret_approx_19[slice6],\n",
        "       simple_regret_approx_20[slice6]]\n",
        "\n",
        "exact6 = [simple_regret_exact_1[slice6],\n",
        "       simple_regret_exact_2[slice6],\n",
        "       simple_regret_exact_3[slice6],\n",
        "       simple_regret_exact_4[slice6],\n",
        "       simple_regret_exact_5[slice6],\n",
        "       simple_regret_exact_6[slice6],\n",
        "       simple_regret_exact_7[slice6],\n",
        "       simple_regret_exact_8[slice6],\n",
        "       simple_regret_exact_9[slice6],\n",
        "       simple_regret_exact_10[slice6],\n",
        "       simple_regret_exact_11[slice6],\n",
        "       simple_regret_exact_12[slice6],\n",
        "       simple_regret_exact_13[slice6],\n",
        "       simple_regret_exact_14[slice6],\n",
        "       simple_regret_exact_15[slice6],\n",
        "       simple_regret_exact_16[slice6],\n",
        "       simple_regret_exact_17[slice6],\n",
        "       simple_regret_exact_18[slice6],\n",
        "       simple_regret_exact_19[slice6],\n",
        "       simple_regret_exact_20[slice6]]\n",
        "\n",
        "approx6_results = pd.DataFrame(approx6).sort_values(by=[0], ascending=False)\n",
        "exact6_results = pd.DataFrame(exact6).sort_values(by=[0], ascending=False)\n",
        "\n",
        "### Best simple regret minimization IQR - approx:\n",
        "lower_approx6 = np.asarray(approx6_results[4:5][0])[0]\n",
        "median_approx6 = np.asarray(approx6_results[9:10][0])[0]\n",
        "upper_approx6 = np.asarray(approx6_results[14:15][0])[0]\n",
        "\n",
        "lower_exact6 = np.asarray(exact6_results[4:5][0])[0]\n",
        "median_exact6 = np.asarray(exact6_results[9:10][0])[0]\n",
        "upper_exact6 = np.asarray(exact6_results[14:15][0])[0]"
      ]
    },
    {
      "cell_type": "code",
      "execution_count": 87,
      "metadata": {
        "id": "nwC5N1FsQxf7"
      },
      "outputs": [],
      "source": [
        "# Iteration16 :\n",
        "\n",
        "slice16 = 15\n",
        "\n",
        "approx16 = [simple_regret_approx_1[slice16],\n",
        "       simple_regret_approx_2[slice16],\n",
        "       simple_regret_approx_3[slice16],\n",
        "       simple_regret_approx_4[slice16],\n",
        "       simple_regret_approx_5[slice16],\n",
        "       simple_regret_approx_6[slice16],\n",
        "       simple_regret_approx_7[slice16],\n",
        "       simple_regret_approx_8[slice16],\n",
        "       simple_regret_approx_9[slice16],\n",
        "       simple_regret_approx_10[slice16],\n",
        "       simple_regret_approx_11[slice16],\n",
        "       simple_regret_approx_12[slice16],\n",
        "       simple_regret_approx_13[slice16],\n",
        "       simple_regret_approx_14[slice16],\n",
        "       simple_regret_approx_15[slice16],\n",
        "       simple_regret_approx_16[slice16],\n",
        "       simple_regret_approx_17[slice16],\n",
        "       simple_regret_approx_18[slice16],\n",
        "       simple_regret_approx_19[slice16],\n",
        "       simple_regret_approx_20[slice16]]\n",
        "\n",
        "exact16 = [simple_regret_exact_1[slice16],\n",
        "       simple_regret_exact_2[slice16],\n",
        "       simple_regret_exact_3[slice16],\n",
        "       simple_regret_exact_4[slice16],\n",
        "       simple_regret_exact_5[slice16],\n",
        "       simple_regret_exact_6[slice16],\n",
        "       simple_regret_exact_7[slice16],\n",
        "       simple_regret_exact_8[slice16],\n",
        "       simple_regret_exact_9[slice16],\n",
        "       simple_regret_exact_10[slice16],\n",
        "       simple_regret_exact_11[slice16],\n",
        "       simple_regret_exact_12[slice16],\n",
        "       simple_regret_exact_13[slice16],\n",
        "       simple_regret_exact_14[slice16],\n",
        "       simple_regret_exact_15[slice16],\n",
        "       simple_regret_exact_16[slice16],\n",
        "       simple_regret_exact_17[slice16],\n",
        "       simple_regret_exact_18[slice16],\n",
        "       simple_regret_exact_19[slice16],\n",
        "       simple_regret_exact_20[slice16]]\n",
        "\n",
        "approx16_results = pd.DataFrame(approx16).sort_values(by=[0], ascending=False)\n",
        "exact16_results = pd.DataFrame(exact16).sort_values(by=[0], ascending=False)\n",
        "\n",
        "### Best simple regret minimization IQR - approx:\n",
        "lower_approx16 = np.asarray(approx16_results[4:5][0])[0]\n",
        "median_approx16 = np.asarray(approx16_results[9:10][0])[0]\n",
        "upper_approx16 = np.asarray(approx16_results[14:15][0])[0]\n",
        "\n",
        "lower_exact16 = np.asarray(exact16_results[4:5][0])[0]\n",
        "median_exact16 = np.asarray(exact16_results[9:10][0])[0]\n",
        "upper_exact16 = np.asarray(exact16_results[14:15][0])[0]"
      ]
    },
    {
      "cell_type": "code",
      "execution_count": 88,
      "metadata": {
        "id": "TrPV0AfnQxf7"
      },
      "outputs": [],
      "source": [
        "# Iteration7 :\n",
        "\n",
        "slice7 = 6\n",
        "\n",
        "approx7 = [simple_regret_approx_1[slice7],\n",
        "       simple_regret_approx_2[slice7],\n",
        "       simple_regret_approx_3[slice7],\n",
        "       simple_regret_approx_4[slice7],\n",
        "       simple_regret_approx_5[slice7],\n",
        "       simple_regret_approx_6[slice7],\n",
        "       simple_regret_approx_7[slice7],\n",
        "       simple_regret_approx_8[slice7],\n",
        "       simple_regret_approx_9[slice7],\n",
        "       simple_regret_approx_10[slice7],\n",
        "       simple_regret_approx_11[slice7],\n",
        "       simple_regret_approx_12[slice7],\n",
        "       simple_regret_approx_13[slice7],\n",
        "       simple_regret_approx_14[slice7],\n",
        "       simple_regret_approx_15[slice7],\n",
        "       simple_regret_approx_16[slice7],\n",
        "       simple_regret_approx_17[slice7],\n",
        "       simple_regret_approx_18[slice7],\n",
        "       simple_regret_approx_19[slice7],\n",
        "       simple_regret_approx_20[slice7]]\n",
        "\n",
        "exact7 = [simple_regret_exact_1[slice7],\n",
        "       simple_regret_exact_2[slice7],\n",
        "       simple_regret_exact_3[slice7],\n",
        "       simple_regret_exact_4[slice7],\n",
        "       simple_regret_exact_5[slice7],\n",
        "       simple_regret_exact_6[slice7],\n",
        "       simple_regret_exact_7[slice7],\n",
        "       simple_regret_exact_8[slice7],\n",
        "       simple_regret_exact_9[slice7],\n",
        "       simple_regret_exact_10[slice7],\n",
        "       simple_regret_exact_11[slice7],\n",
        "       simple_regret_exact_12[slice7],\n",
        "       simple_regret_exact_13[slice7],\n",
        "       simple_regret_exact_14[slice7],\n",
        "       simple_regret_exact_15[slice7],\n",
        "       simple_regret_exact_16[slice7],\n",
        "       simple_regret_exact_17[slice7],\n",
        "       simple_regret_exact_18[slice7],\n",
        "       simple_regret_exact_19[slice7],\n",
        "       simple_regret_exact_20[slice7]]\n",
        "\n",
        "approx7_results = pd.DataFrame(approx7).sort_values(by=[0], ascending=False)\n",
        "exact7_results = pd.DataFrame(exact7).sort_values(by=[0], ascending=False)\n",
        "\n",
        "### Best simple regret minimization IQR - approx:\n",
        "lower_approx7 = np.asarray(approx7_results[4:5][0])[0]\n",
        "median_approx7 = np.asarray(approx7_results[9:10][0])[0]\n",
        "upper_approx7 = np.asarray(approx7_results[14:15][0])[0]\n",
        "\n",
        "lower_exact7 = np.asarray(exact7_results[4:5][0])[0]\n",
        "median_exact7 = np.asarray(exact7_results[9:10][0])[0]\n",
        "upper_exact7 = np.asarray(exact7_results[14:15][0])[0]"
      ]
    },
    {
      "cell_type": "code",
      "execution_count": 89,
      "metadata": {
        "id": "Ub_-wpK4Qxf8"
      },
      "outputs": [],
      "source": [
        "# Iteration17 :\n",
        "\n",
        "slice17 = 16\n",
        "\n",
        "approx17 = [simple_regret_approx_1[slice17],\n",
        "       simple_regret_approx_2[slice17],\n",
        "       simple_regret_approx_3[slice17],\n",
        "       simple_regret_approx_4[slice17],\n",
        "       simple_regret_approx_5[slice17],\n",
        "       simple_regret_approx_6[slice17],\n",
        "       simple_regret_approx_7[slice17],\n",
        "       simple_regret_approx_8[slice17],\n",
        "       simple_regret_approx_9[slice17],\n",
        "       simple_regret_approx_10[slice17],\n",
        "       simple_regret_approx_11[slice17],\n",
        "       simple_regret_approx_12[slice17],\n",
        "       simple_regret_approx_13[slice17],\n",
        "       simple_regret_approx_14[slice17],\n",
        "       simple_regret_approx_15[slice17],\n",
        "       simple_regret_approx_16[slice17],\n",
        "       simple_regret_approx_17[slice17],\n",
        "       simple_regret_approx_18[slice17],\n",
        "       simple_regret_approx_19[slice17],\n",
        "       simple_regret_approx_20[slice17]]\n",
        "\n",
        "exact17 = [simple_regret_exact_1[slice17],\n",
        "       simple_regret_exact_2[slice17],\n",
        "       simple_regret_exact_3[slice17],\n",
        "       simple_regret_exact_4[slice17],\n",
        "       simple_regret_exact_5[slice17],\n",
        "       simple_regret_exact_6[slice17],\n",
        "       simple_regret_exact_7[slice17],\n",
        "       simple_regret_exact_8[slice17],\n",
        "       simple_regret_exact_9[slice17],\n",
        "       simple_regret_exact_10[slice17],\n",
        "       simple_regret_exact_11[slice17],\n",
        "       simple_regret_exact_12[slice17],\n",
        "       simple_regret_exact_13[slice17],\n",
        "       simple_regret_exact_14[slice17],\n",
        "       simple_regret_exact_15[slice17],\n",
        "       simple_regret_exact_16[slice17],\n",
        "       simple_regret_exact_17[slice17],\n",
        "       simple_regret_exact_18[slice17],\n",
        "       simple_regret_exact_19[slice17],\n",
        "       simple_regret_exact_20[slice17]]\n",
        "\n",
        "approx17_results = pd.DataFrame(approx17).sort_values(by=[0], ascending=False)\n",
        "exact17_results = pd.DataFrame(exact17).sort_values(by=[0], ascending=False)\n",
        "\n",
        "### Best simple regret minimization IQR - approx:\n",
        "lower_approx17 = np.asarray(approx17_results[4:5][0])[0]\n",
        "median_approx17 = np.asarray(approx17_results[9:10][0])[0]\n",
        "upper_approx17 = np.asarray(approx17_results[14:15][0])[0]\n",
        "\n",
        "lower_exact17 = np.asarray(exact17_results[4:5][0])[0]\n",
        "median_exact17 = np.asarray(exact17_results[9:10][0])[0]\n",
        "upper_exact17 = np.asarray(exact17_results[14:15][0])[0]"
      ]
    },
    {
      "cell_type": "code",
      "execution_count": 90,
      "metadata": {
        "id": "-6VLo37PQxf8"
      },
      "outputs": [],
      "source": [
        "# Iteration8 :\n",
        "\n",
        "slice8 = 7\n",
        "\n",
        "approx8 = [simple_regret_approx_1[slice8],\n",
        "       simple_regret_approx_2[slice8],\n",
        "       simple_regret_approx_3[slice8],\n",
        "       simple_regret_approx_4[slice8],\n",
        "       simple_regret_approx_5[slice8],\n",
        "       simple_regret_approx_6[slice8],\n",
        "       simple_regret_approx_7[slice8],\n",
        "       simple_regret_approx_8[slice8],\n",
        "       simple_regret_approx_9[slice8],\n",
        "       simple_regret_approx_10[slice8],\n",
        "       simple_regret_approx_11[slice8],\n",
        "       simple_regret_approx_12[slice8],\n",
        "       simple_regret_approx_13[slice8],\n",
        "       simple_regret_approx_14[slice8],\n",
        "       simple_regret_approx_15[slice8],\n",
        "       simple_regret_approx_16[slice8],\n",
        "       simple_regret_approx_17[slice8],\n",
        "       simple_regret_approx_18[slice8],\n",
        "       simple_regret_approx_19[slice8],\n",
        "       simple_regret_approx_20[slice8]]\n",
        "\n",
        "exact8 = [simple_regret_exact_1[slice8],\n",
        "       simple_regret_exact_2[slice8],\n",
        "       simple_regret_exact_3[slice8],\n",
        "       simple_regret_exact_4[slice8],\n",
        "       simple_regret_exact_5[slice8],\n",
        "       simple_regret_exact_6[slice8],\n",
        "       simple_regret_exact_7[slice8],\n",
        "       simple_regret_exact_8[slice8],\n",
        "       simple_regret_exact_9[slice8],\n",
        "       simple_regret_exact_10[slice8],\n",
        "       simple_regret_exact_11[slice8],\n",
        "       simple_regret_exact_12[slice8],\n",
        "       simple_regret_exact_13[slice8],\n",
        "       simple_regret_exact_14[slice8],\n",
        "       simple_regret_exact_15[slice8],\n",
        "       simple_regret_exact_16[slice8],\n",
        "       simple_regret_exact_17[slice8],\n",
        "       simple_regret_exact_18[slice8],\n",
        "       simple_regret_exact_19[slice8],\n",
        "       simple_regret_exact_20[slice8]]\n",
        "\n",
        "approx8_results = pd.DataFrame(approx8).sort_values(by=[0], ascending=False)\n",
        "exact8_results = pd.DataFrame(exact8).sort_values(by=[0], ascending=False)\n",
        "\n",
        "### Best simple regret minimization IQR - approx:\n",
        "lower_approx8 = np.asarray(approx8_results[4:5][0])[0]\n",
        "median_approx8 = np.asarray(approx8_results[9:10][0])[0]\n",
        "upper_approx8 = np.asarray(approx8_results[14:15][0])[0]\n",
        "\n",
        "lower_exact8 = np.asarray(exact8_results[4:5][0])[0]\n",
        "median_exact8 = np.asarray(exact8_results[9:10][0])[0]\n",
        "upper_exact8 = np.asarray(exact8_results[14:15][0])[0]"
      ]
    },
    {
      "cell_type": "code",
      "execution_count": 91,
      "metadata": {
        "id": "2Dp-9CC2Qxf9"
      },
      "outputs": [],
      "source": [
        "# Iteration18 :\n",
        "\n",
        "slice18 = 17\n",
        "\n",
        "approx18 = [simple_regret_approx_1[slice18],\n",
        "       simple_regret_approx_2[slice18],\n",
        "       simple_regret_approx_3[slice18],\n",
        "       simple_regret_approx_4[slice18],\n",
        "       simple_regret_approx_5[slice18],\n",
        "       simple_regret_approx_6[slice18],\n",
        "       simple_regret_approx_7[slice18],\n",
        "       simple_regret_approx_8[slice18],\n",
        "       simple_regret_approx_9[slice18],\n",
        "       simple_regret_approx_10[slice18],\n",
        "       simple_regret_approx_11[slice18],\n",
        "       simple_regret_approx_12[slice18],\n",
        "       simple_regret_approx_13[slice18],\n",
        "       simple_regret_approx_14[slice18],\n",
        "       simple_regret_approx_15[slice18],\n",
        "       simple_regret_approx_16[slice18],\n",
        "       simple_regret_approx_17[slice18],\n",
        "       simple_regret_approx_18[slice18],\n",
        "       simple_regret_approx_19[slice18],\n",
        "       simple_regret_approx_20[slice18]]\n",
        "\n",
        "exact18 = [simple_regret_exact_1[slice18],\n",
        "       simple_regret_exact_2[slice18],\n",
        "       simple_regret_exact_3[slice18],\n",
        "       simple_regret_exact_4[slice18],\n",
        "       simple_regret_exact_5[slice18],\n",
        "       simple_regret_exact_6[slice18],\n",
        "       simple_regret_exact_7[slice18],\n",
        "       simple_regret_exact_8[slice18],\n",
        "       simple_regret_exact_9[slice18],\n",
        "       simple_regret_exact_10[slice18],\n",
        "       simple_regret_exact_11[slice18],\n",
        "       simple_regret_exact_12[slice18],\n",
        "       simple_regret_exact_13[slice18],\n",
        "       simple_regret_exact_14[slice18],\n",
        "       simple_regret_exact_15[slice18],\n",
        "       simple_regret_exact_16[slice18],\n",
        "       simple_regret_exact_17[slice18],\n",
        "       simple_regret_exact_18[slice18],\n",
        "       simple_regret_exact_19[slice18],\n",
        "       simple_regret_exact_20[slice18]]\n",
        "\n",
        "approx18_results = pd.DataFrame(approx18).sort_values(by=[0], ascending=False)\n",
        "exact18_results = pd.DataFrame(exact18).sort_values(by=[0], ascending=False)\n",
        "\n",
        "### Best simple regret minimization IQR - approx:\n",
        "lower_approx18 = np.asarray(approx18_results[4:5][0])[0]\n",
        "median_approx18 = np.asarray(approx18_results[9:10][0])[0]\n",
        "upper_approx18 = np.asarray(approx18_results[14:15][0])[0]\n",
        "\n",
        "lower_exact18 = np.asarray(exact18_results[4:5][0])[0]\n",
        "median_exact18 = np.asarray(exact18_results[9:10][0])[0]\n",
        "upper_exact18 = np.asarray(exact18_results[14:15][0])[0]"
      ]
    },
    {
      "cell_type": "code",
      "execution_count": 92,
      "metadata": {
        "id": "SqiaOpB7Qxf9"
      },
      "outputs": [],
      "source": [
        "# Iteration9 :\n",
        "\n",
        "slice9 = 8\n",
        "\n",
        "approx9 = [simple_regret_approx_1[slice9],\n",
        "       simple_regret_approx_2[slice9],\n",
        "       simple_regret_approx_3[slice9],\n",
        "       simple_regret_approx_4[slice9],\n",
        "       simple_regret_approx_5[slice9],\n",
        "       simple_regret_approx_6[slice9],\n",
        "       simple_regret_approx_7[slice9],\n",
        "       simple_regret_approx_8[slice9],\n",
        "       simple_regret_approx_9[slice9],\n",
        "       simple_regret_approx_10[slice9],\n",
        "       simple_regret_approx_11[slice9],\n",
        "       simple_regret_approx_12[slice9],\n",
        "       simple_regret_approx_13[slice9],\n",
        "       simple_regret_approx_14[slice9],\n",
        "       simple_regret_approx_15[slice9],\n",
        "       simple_regret_approx_16[slice9],\n",
        "       simple_regret_approx_17[slice9],\n",
        "       simple_regret_approx_18[slice9],\n",
        "       simple_regret_approx_19[slice9],\n",
        "       simple_regret_approx_20[slice9]]\n",
        "\n",
        "exact9 = [simple_regret_exact_1[slice9],\n",
        "       simple_regret_exact_2[slice9],\n",
        "       simple_regret_exact_3[slice9],\n",
        "       simple_regret_exact_4[slice9],\n",
        "       simple_regret_exact_5[slice9],\n",
        "       simple_regret_exact_6[slice9],\n",
        "       simple_regret_exact_7[slice9],\n",
        "       simple_regret_exact_8[slice9],\n",
        "       simple_regret_exact_9[slice9],\n",
        "       simple_regret_exact_10[slice9],\n",
        "       simple_regret_exact_11[slice9],\n",
        "       simple_regret_exact_12[slice9],\n",
        "       simple_regret_exact_13[slice9],\n",
        "       simple_regret_exact_14[slice9],\n",
        "       simple_regret_exact_15[slice9],\n",
        "       simple_regret_exact_16[slice9],\n",
        "       simple_regret_exact_17[slice9],\n",
        "       simple_regret_exact_18[slice9],\n",
        "       simple_regret_exact_19[slice9],\n",
        "       simple_regret_exact_20[slice9]]\n",
        "\n",
        "approx9_results = pd.DataFrame(approx9).sort_values(by=[0], ascending=False)\n",
        "exact9_results = pd.DataFrame(exact9).sort_values(by=[0], ascending=False)\n",
        "\n",
        "### Best simple regret minimization IQR - approx:\n",
        "lower_approx9 = np.asarray(approx9_results[4:5][0])[0]\n",
        "median_approx9 = np.asarray(approx9_results[9:10][0])[0]\n",
        "upper_approx9 = np.asarray(approx9_results[14:15][0])[0]\n",
        "\n",
        "lower_exact9 = np.asarray(exact9_results[4:5][0])[0]\n",
        "median_exact9 = np.asarray(exact9_results[9:10][0])[0]\n",
        "upper_exact9 = np.asarray(exact9_results[14:15][0])[0]"
      ]
    },
    {
      "cell_type": "code",
      "execution_count": 93,
      "metadata": {
        "id": "OQkCCOsPQxf9"
      },
      "outputs": [],
      "source": [
        "# Iteration19 :\n",
        "\n",
        "slice19 = 18\n",
        "\n",
        "approx19 = [simple_regret_approx_1[slice19],\n",
        "       simple_regret_approx_2[slice19],\n",
        "       simple_regret_approx_3[slice19],\n",
        "       simple_regret_approx_4[slice19],\n",
        "       simple_regret_approx_5[slice19],\n",
        "       simple_regret_approx_6[slice19],\n",
        "       simple_regret_approx_7[slice19],\n",
        "       simple_regret_approx_8[slice19],\n",
        "       simple_regret_approx_9[slice19],\n",
        "       simple_regret_approx_10[slice19],\n",
        "       simple_regret_approx_11[slice19],\n",
        "       simple_regret_approx_12[slice19],\n",
        "       simple_regret_approx_13[slice19],\n",
        "       simple_regret_approx_14[slice19],\n",
        "       simple_regret_approx_15[slice19],\n",
        "       simple_regret_approx_16[slice19],\n",
        "       simple_regret_approx_17[slice19],\n",
        "       simple_regret_approx_18[slice19],\n",
        "       simple_regret_approx_19[slice19],\n",
        "       simple_regret_approx_20[slice19]]\n",
        "\n",
        "exact19 = [simple_regret_exact_1[slice19],\n",
        "       simple_regret_exact_2[slice19],\n",
        "       simple_regret_exact_3[slice19],\n",
        "       simple_regret_exact_4[slice19],\n",
        "       simple_regret_exact_5[slice19],\n",
        "       simple_regret_exact_6[slice19],\n",
        "       simple_regret_exact_7[slice19],\n",
        "       simple_regret_exact_8[slice19],\n",
        "       simple_regret_exact_9[slice19],\n",
        "       simple_regret_exact_10[slice19],\n",
        "       simple_regret_exact_11[slice19],\n",
        "       simple_regret_exact_12[slice19],\n",
        "       simple_regret_exact_13[slice19],\n",
        "       simple_regret_exact_14[slice19],\n",
        "       simple_regret_exact_15[slice19],\n",
        "       simple_regret_exact_16[slice19],\n",
        "       simple_regret_exact_17[slice19],\n",
        "       simple_regret_exact_18[slice19],\n",
        "       simple_regret_exact_19[slice19],\n",
        "       simple_regret_exact_20[slice19]]\n",
        "\n",
        "approx19_results = pd.DataFrame(approx19).sort_values(by=[0], ascending=False)\n",
        "exact19_results = pd.DataFrame(exact19).sort_values(by=[0], ascending=False)\n",
        "\n",
        "### Best simple regret minimization IQR - approx:\n",
        "lower_approx19 = np.asarray(approx19_results[4:5][0])[0]\n",
        "median_approx19 = np.asarray(approx19_results[9:10][0])[0]\n",
        "upper_approx19 = np.asarray(approx19_results[14:15][0])[0]\n",
        "\n",
        "lower_exact19 = np.asarray(exact19_results[4:5][0])[0]\n",
        "median_exact19 = np.asarray(exact19_results[9:10][0])[0]\n",
        "upper_exact19 = np.asarray(exact19_results[14:15][0])[0]"
      ]
    },
    {
      "cell_type": "code",
      "execution_count": 94,
      "metadata": {
        "id": "h4vtWahcQxf-"
      },
      "outputs": [],
      "source": [
        "# Iteration10 :\n",
        "\n",
        "slice10 = 9\n",
        "\n",
        "approx10 = [simple_regret_approx_1[slice10],\n",
        "       simple_regret_approx_2[slice10],\n",
        "       simple_regret_approx_3[slice10],\n",
        "       simple_regret_approx_4[slice10],\n",
        "       simple_regret_approx_5[slice10],\n",
        "       simple_regret_approx_6[slice10],\n",
        "       simple_regret_approx_7[slice10],\n",
        "       simple_regret_approx_8[slice10],\n",
        "       simple_regret_approx_9[slice10],\n",
        "       simple_regret_approx_10[slice10],\n",
        "       simple_regret_approx_11[slice10],\n",
        "       simple_regret_approx_12[slice10],\n",
        "       simple_regret_approx_13[slice10],\n",
        "       simple_regret_approx_14[slice10],\n",
        "       simple_regret_approx_15[slice10],\n",
        "       simple_regret_approx_16[slice10],\n",
        "       simple_regret_approx_17[slice10],\n",
        "       simple_regret_approx_18[slice10],\n",
        "       simple_regret_approx_19[slice10],\n",
        "       simple_regret_approx_20[slice10]]\n",
        "\n",
        "exact10 = [simple_regret_exact_1[slice10],\n",
        "       simple_regret_exact_2[slice10],\n",
        "       simple_regret_exact_3[slice10],\n",
        "       simple_regret_exact_4[slice10],\n",
        "       simple_regret_exact_5[slice10],\n",
        "       simple_regret_exact_6[slice10],\n",
        "       simple_regret_exact_7[slice10],\n",
        "       simple_regret_exact_8[slice10],\n",
        "       simple_regret_exact_9[slice10],\n",
        "       simple_regret_exact_10[slice10],\n",
        "       simple_regret_exact_11[slice10],\n",
        "       simple_regret_exact_12[slice10],\n",
        "       simple_regret_exact_13[slice10],\n",
        "       simple_regret_exact_14[slice10],\n",
        "       simple_regret_exact_15[slice10],\n",
        "       simple_regret_exact_16[slice10],\n",
        "       simple_regret_exact_17[slice10],\n",
        "       simple_regret_exact_18[slice10],\n",
        "       simple_regret_exact_19[slice10],\n",
        "       simple_regret_exact_20[slice10]]\n",
        "\n",
        "approx10_results = pd.DataFrame(approx10).sort_values(by=[0], ascending=False)\n",
        "exact10_results = pd.DataFrame(exact10).sort_values(by=[0], ascending=False)\n",
        "\n",
        "### Best simple regret minimization IQR - approx:\n",
        "lower_approx10 = np.asarray(approx10_results[4:5][0])[0]\n",
        "median_approx10 = np.asarray(approx10_results[9:10][0])[0]\n",
        "upper_approx10 = np.asarray(approx10_results[14:15][0])[0]\n",
        "\n",
        "lower_exact10 = np.asarray(exact10_results[4:5][0])[0]\n",
        "median_exact10 = np.asarray(exact10_results[9:10][0])[0]\n",
        "upper_exact10 = np.asarray(exact10_results[14:15][0])[0]"
      ]
    },
    {
      "cell_type": "code",
      "execution_count": 95,
      "metadata": {
        "id": "Rsf240pWQxf-"
      },
      "outputs": [],
      "source": [
        "# Iteration20 :\n",
        "\n",
        "slice20 = 19\n",
        "\n",
        "approx20 = [simple_regret_approx_1[slice20],\n",
        "       simple_regret_approx_2[slice20],\n",
        "       simple_regret_approx_3[slice20],\n",
        "       simple_regret_approx_4[slice20],\n",
        "       simple_regret_approx_5[slice20],\n",
        "       simple_regret_approx_6[slice20],\n",
        "       simple_regret_approx_7[slice20],\n",
        "       simple_regret_approx_8[slice20],\n",
        "       simple_regret_approx_9[slice20],\n",
        "       simple_regret_approx_10[slice20],\n",
        "       simple_regret_approx_11[slice20],\n",
        "       simple_regret_approx_12[slice20],\n",
        "       simple_regret_approx_13[slice20],\n",
        "       simple_regret_approx_14[slice20],\n",
        "       simple_regret_approx_15[slice20],\n",
        "       simple_regret_approx_16[slice20],\n",
        "       simple_regret_approx_17[slice20],\n",
        "       simple_regret_approx_18[slice20],\n",
        "       simple_regret_approx_19[slice20],\n",
        "       simple_regret_approx_20[slice20]]\n",
        "\n",
        "exact20 = [simple_regret_exact_1[slice20],\n",
        "       simple_regret_exact_2[slice20],\n",
        "       simple_regret_exact_3[slice20],\n",
        "       simple_regret_exact_4[slice20],\n",
        "       simple_regret_exact_5[slice20],\n",
        "       simple_regret_exact_6[slice20],\n",
        "       simple_regret_exact_7[slice20],\n",
        "       simple_regret_exact_8[slice20],\n",
        "       simple_regret_exact_9[slice20],\n",
        "       simple_regret_exact_10[slice20],\n",
        "       simple_regret_exact_11[slice20],\n",
        "       simple_regret_exact_12[slice20],\n",
        "       simple_regret_exact_13[slice20],\n",
        "       simple_regret_exact_14[slice20],\n",
        "       simple_regret_exact_15[slice20],\n",
        "       simple_regret_exact_16[slice20],\n",
        "       simple_regret_exact_17[slice20],\n",
        "       simple_regret_exact_18[slice20],\n",
        "       simple_regret_exact_19[slice20],\n",
        "       simple_regret_exact_20[slice20]]\n",
        "\n",
        "approx20_results = pd.DataFrame(approx20).sort_values(by=[0], ascending=False)\n",
        "exact20_results = pd.DataFrame(exact20).sort_values(by=[0], ascending=False)\n",
        "\n",
        "### Best simple regret minimization IQR - approx:\n",
        "lower_approx20 = np.asarray(approx20_results[4:5][0])[0]\n",
        "median_approx20 = np.asarray(approx20_results[9:10][0])[0]\n",
        "upper_approx20 = np.asarray(approx20_results[14:15][0])[0]\n",
        "\n",
        "lower_exact20 = np.asarray(exact20_results[4:5][0])[0]\n",
        "median_exact20 = np.asarray(exact20_results[9:10][0])[0]\n",
        "upper_exact20 = np.asarray(exact20_results[14:15][0])[0]"
      ]
    },
    {
      "cell_type": "code",
      "execution_count": 96,
      "metadata": {
        "id": "gn36RejbQxf_"
      },
      "outputs": [],
      "source": [
        "### Summarize arrays: 'Loser'\n",
        "\n",
        "lower_approx = [lower_approx1,\n",
        "            lower_approx2,\n",
        "            lower_approx3,\n",
        "            lower_approx4,\n",
        "            lower_approx5,\n",
        "            lower_approx6,\n",
        "            lower_approx7,\n",
        "            lower_approx8,\n",
        "            lower_approx9,\n",
        "            lower_approx10,\n",
        "            lower_approx11,\n",
        "            lower_approx12,\n",
        "            lower_approx13,\n",
        "            lower_approx14,\n",
        "            lower_approx15,\n",
        "            lower_approx16,\n",
        "            lower_approx17,\n",
        "            lower_approx18,\n",
        "            lower_approx19,\n",
        "            lower_approx20,\n",
        "            lower_approx21]\n",
        "\n",
        "median_approx = [median_approx1,\n",
        "            median_approx2,\n",
        "            median_approx3,\n",
        "            median_approx4,\n",
        "            median_approx5,\n",
        "            median_approx6,\n",
        "            median_approx7,\n",
        "            median_approx8,\n",
        "            median_approx9,\n",
        "            median_approx10,\n",
        "            median_approx11,\n",
        "            median_approx12,\n",
        "            median_approx13,\n",
        "            median_approx14,\n",
        "            median_approx15,\n",
        "            median_approx16,\n",
        "            median_approx17,\n",
        "            median_approx18,\n",
        "            median_approx19,\n",
        "            median_approx20,\n",
        "            median_approx21]\n",
        "\n",
        "upper_approx = [upper_approx1,\n",
        "            upper_approx2,\n",
        "            upper_approx3,\n",
        "            upper_approx4,\n",
        "            upper_approx5,\n",
        "            upper_approx6,\n",
        "            upper_approx7,\n",
        "            upper_approx8,\n",
        "            upper_approx9,\n",
        "            upper_approx10,\n",
        "            upper_approx11,\n",
        "            upper_approx12,\n",
        "            upper_approx13,\n",
        "            upper_approx14,\n",
        "            upper_approx15,\n",
        "            upper_approx16,\n",
        "            upper_approx17,\n",
        "            upper_approx18,\n",
        "            upper_approx19,\n",
        "            upper_approx20,\n",
        "            upper_approx21]"
      ]
    },
    {
      "cell_type": "code",
      "execution_count": 97,
      "metadata": {
        "id": "wxtGTOYfQxf_"
      },
      "outputs": [],
      "source": [
        "### Summarize arrays: 'exact'\n",
        "\n",
        "lower_exact = [lower_exact1,\n",
        "            lower_exact2,\n",
        "            lower_exact3,\n",
        "            lower_exact4,\n",
        "            lower_exact5,\n",
        "            lower_exact6,\n",
        "            lower_exact7,\n",
        "            lower_exact8,\n",
        "            lower_exact9,\n",
        "            lower_exact10,\n",
        "            lower_exact11,\n",
        "            lower_exact12,\n",
        "            lower_exact13,\n",
        "            lower_exact14,\n",
        "            lower_exact15,\n",
        "            lower_exact16,\n",
        "            lower_exact17,\n",
        "            lower_exact18,\n",
        "            lower_exact19,\n",
        "            lower_exact20,\n",
        "            lower_exact21]\n",
        "\n",
        "median_exact = [median_exact1,\n",
        "            median_exact2,\n",
        "            median_exact3,\n",
        "            median_exact4,\n",
        "            median_exact5,\n",
        "            median_exact6,\n",
        "            median_exact7,\n",
        "            median_exact8,\n",
        "            median_exact9,\n",
        "            median_exact10,\n",
        "            median_exact11,\n",
        "            median_exact12,\n",
        "            median_exact13,\n",
        "            median_exact14,\n",
        "            median_exact15,\n",
        "            median_exact16,\n",
        "            median_exact17,\n",
        "            median_exact18,\n",
        "            median_exact19,\n",
        "            median_exact20,\n",
        "            median_exact21]\n",
        "\n",
        "upper_exact = [upper_exact1,\n",
        "            upper_exact2,\n",
        "            upper_exact3,\n",
        "            upper_exact4,\n",
        "            upper_exact5,\n",
        "            upper_exact6,\n",
        "            upper_exact7,\n",
        "            upper_exact8,\n",
        "            upper_exact9,\n",
        "            upper_exact10,\n",
        "            upper_exact11,\n",
        "            upper_exact12,\n",
        "            upper_exact13,\n",
        "            upper_exact14,\n",
        "            upper_exact15,\n",
        "            upper_exact16,\n",
        "            upper_exact17,\n",
        "            upper_exact18,\n",
        "            upper_exact19,\n",
        "            upper_exact20,\n",
        "            upper_exact21]"
      ]
    },
    {
      "cell_type": "code",
      "execution_count": 98,
      "metadata": {
        "id": "2MONq-BXQxgA",
        "colab": {
          "base_uri": "https://localhost:8080/",
          "height": 299
        },
        "outputId": "fc8e08d9-57ad-48c3-8065-01e3c9b92bd2"
      },
      "outputs": [
        {
          "output_type": "display_data",
          "data": {
            "text/plain": [
              "<Figure size 432x288 with 1 Axes>"
            ],
            "image/png": "[encoded data removed]"
          },
          "metadata": {
            "needs_background": "light"
          }
        }
      ],
      "source": [
        "### Visualise!\n",
        "\n",
        "title = func\n",
        "plt.figure()\n",
        "\n",
        "plt.plot(median_approx, color = 'Purple')\n",
        "plt.plot(median_exact, color = 'Orange')\n",
        "\n",
        "xstar = np.arange(0, iters+1, step=1)\n",
        "plt.fill_between(xstar, lower_approx, upper_approx, facecolor = 'Purple', alpha=0.4, label='GP CBM Optimization: Approx GP CBM gradients')\n",
        "plt.fill_between(xstar, lower_exact, upper_exact, facecolor = 'Orange', alpha=0.4, label='GP CBM Optimization: Exact GP dCBM gradients')\n",
        "\n",
        "plt.title(title, weight = 'bold')\n",
        "plt.xlabel('(Post-initialization) iteration $\\it{k}$', weight = 'bold')\n",
        "plt.ylabel('log(Regret)', weight = 'bold') \n",
        "plt.legend(loc=0) # add plot legend\n",
        "\n",
        "### Make the x-ticks integers, not floats:\n",
        "count = len(xstar)\n",
        "plt.xticks(np.arange(count), np.arange(0, count))\n",
        "plt.show() #visualize!"
      ]
    },
    {
      "cell_type": "code",
      "execution_count": 99,
      "metadata": {
        "id": "l5dkR2Id2oiu",
        "colab": {
          "base_uri": "https://localhost:8080/"
        },
        "outputId": "7f3139de-5aca-49f3-eb62-bbd55ae88579"
      },
      "outputs": [
        {
          "output_type": "execute_result",
          "data": {
            "text/plain": [
              "(829.7543303966522, 795.6647200584412)"
            ]
          },
          "metadata": {},
          "execution_count": 99
        }
      ],
      "source": [
        "time_approx, time_exact\n"
      ]
    },
    {
      "cell_type": "code",
      "source": [
        "### acqFunc attribute x, stddev: run number = 1\n",
        "\n",
        "acqFuncApprox_exact_1 = acqFuncApprox(exact_1.history)\n",
        "acqFuncExact_exact_1 = acqFuncExact(exact_1.history)\n",
        "\n",
        "e1 = np.mean(acqFuncExact_exact_1)\n",
        "a1 = np.mean(acqFuncApprox_exact_1)\n",
        "\n",
        "e1, a1\n"
      ],
      "metadata": {
        "colab": {
          "base_uri": "https://localhost:8080/"
        },
        "id": "uwxv4dmfGsLr",
        "outputId": "6a238945-e934-4b41-90d2-c83707d463e5"
      },
      "execution_count": 100,
      "outputs": [
        {
          "output_type": "execute_result",
          "data": {
            "text/plain": [
              "(3.3515817654522997, 3.681389390196157)"
            ]
          },
          "metadata": {},
          "execution_count": 100
        }
      ]
    },
    {
      "cell_type": "code",
      "source": [
        "### acqFunc attribute x, stddev: run number = 2\n",
        "\n",
        "acqFuncApprox_exact_2 = acqFuncApprox(exact_2.history)\n",
        "acqFuncExact_exact_2 = acqFuncExact(exact_2.history)\n",
        "\n",
        "e2 = np.mean(acqFuncExact_exact_2)\n",
        "a2 = np.mean(acqFuncApprox_exact_2)\n",
        "\n",
        "e2, a2\n"
      ],
      "metadata": {
        "colab": {
          "base_uri": "https://localhost:8080/"
        },
        "id": "0YSV00_pGsXe",
        "outputId": "d2c2c286-89dd-4941-b71d-4a1c19091a2e"
      },
      "execution_count": 101,
      "outputs": [
        {
          "output_type": "execute_result",
          "data": {
            "text/plain": [
              "(3.1871207062184306, 3.4893568507238717)"
            ]
          },
          "metadata": {},
          "execution_count": 101
        }
      ]
    },
    {
      "cell_type": "code",
      "source": [
        "### acqFunc attribute x, stddev: run number = 3\n",
        "\n",
        "acqFuncApprox_exact_3 = acqFuncApprox(exact_3.history)\n",
        "acqFuncExact_exact_3 = acqFuncExact(exact_3.history)\n",
        "\n",
        "e3 = np.mean(acqFuncExact_exact_3)\n",
        "a3 = np.mean(acqFuncApprox_exact_3)\n",
        "\n",
        "e3, a3\n"
      ],
      "metadata": {
        "colab": {
          "base_uri": "https://localhost:8080/"
        },
        "id": "HHVmsd2UGsjT",
        "outputId": "8f95e144-511e-4c58-989a-a7fb67444139"
      },
      "execution_count": 102,
      "outputs": [
        {
          "output_type": "execute_result",
          "data": {
            "text/plain": [
              "(3.2622741160655218, 3.4234371700523836)"
            ]
          },
          "metadata": {},
          "execution_count": 102
        }
      ]
    },
    {
      "cell_type": "code",
      "source": [
        "### acqFunc attribute x, stddev: run number = 4\n",
        "\n",
        "acqFuncApprox_exact_4 = acqFuncApprox(exact_4.history)\n",
        "acqFuncExact_exact_4 = acqFuncExact(exact_4.history)\n",
        "\n",
        "e4 = np.mean(acqFuncExact_exact_4)\n",
        "a4 = np.mean(acqFuncApprox_exact_4)\n",
        "\n",
        "e4, a4\n"
      ],
      "metadata": {
        "colab": {
          "base_uri": "https://localhost:8080/"
        },
        "id": "r7O19S2eGsu7",
        "outputId": "951f52d6-75d4-49d5-ed5b-8ee2f6b22bd7"
      },
      "execution_count": 103,
      "outputs": [
        {
          "output_type": "execute_result",
          "data": {
            "text/plain": [
              "(2.859795213791836, 3.276129963534099)"
            ]
          },
          "metadata": {},
          "execution_count": 103
        }
      ]
    },
    {
      "cell_type": "code",
      "source": [
        "### acqFunc attribute x, stddev: run number = 5\n",
        "\n",
        "acqFuncApprox_exact_5 = acqFuncApprox(exact_5.history)\n",
        "acqFuncExact_exact_5 = acqFuncExact(exact_5.history)\n",
        "\n",
        "e5 = np.mean(acqFuncExact_exact_5)\n",
        "a5 = np.mean(acqFuncApprox_exact_5)\n",
        "\n",
        "e5, a5\n"
      ],
      "metadata": {
        "colab": {
          "base_uri": "https://localhost:8080/"
        },
        "id": "sdb9o6NuGs5m",
        "outputId": "cfe2896e-b4b7-4e4d-9b72-80e55e8fade2"
      },
      "execution_count": 104,
      "outputs": [
        {
          "output_type": "execute_result",
          "data": {
            "text/plain": [
              "(3.010175680139588, 3.220168835611603)"
            ]
          },
          "metadata": {},
          "execution_count": 104
        }
      ]
    },
    {
      "cell_type": "code",
      "source": [
        "### acqFunc attribute x, stddev: run number = 6\n",
        "\n",
        "acqFuncApprox_exact_6 = acqFuncApprox(exact_6.history)\n",
        "acqFuncExact_exact_6 = acqFuncExact(exact_6.history)\n",
        "\n",
        "e6 = np.mean(acqFuncExact_exact_6)\n",
        "a6 = np.mean(acqFuncApprox_exact_6)\n",
        "\n",
        "e6, a6\n"
      ],
      "metadata": {
        "colab": {
          "base_uri": "https://localhost:8080/"
        },
        "id": "COQl7LZ8GtE0",
        "outputId": "7f169b72-3553-43d8-e2a7-9fb85182e1f8"
      },
      "execution_count": 105,
      "outputs": [
        {
          "output_type": "execute_result",
          "data": {
            "text/plain": [
              "(2.8948980667210105, 3.5608177831578347)"
            ]
          },
          "metadata": {},
          "execution_count": 105
        }
      ]
    },
    {
      "cell_type": "code",
      "source": [
        "### acqFunc attribute x, stddev: run number = 7\n",
        "\n",
        "acqFuncApprox_exact_7 = acqFuncApprox(exact_7.history)\n",
        "acqFuncExact_exact_7 = acqFuncExact(exact_7.history)\n",
        "\n",
        "e7 = np.mean(acqFuncExact_exact_7)\n",
        "a7 = np.mean(acqFuncApprox_exact_7)\n",
        "\n",
        "e7, a7\n"
      ],
      "metadata": {
        "colab": {
          "base_uri": "https://localhost:8080/"
        },
        "id": "2gy9EtTzGtP7",
        "outputId": "acccccac-f1d9-4e14-ab79-b1d4e1655829"
      },
      "execution_count": 106,
      "outputs": [
        {
          "output_type": "execute_result",
          "data": {
            "text/plain": [
              "(3.2388739401237445, 3.4058751800433114)"
            ]
          },
          "metadata": {},
          "execution_count": 106
        }
      ]
    },
    {
      "cell_type": "code",
      "source": [
        "### acqFunc attribute x, stddev: run number = 8\n",
        "\n",
        "acqFuncApprox_exact_8 = acqFuncApprox(exact_8.history)\n",
        "acqFuncExact_exact_8 = acqFuncExact(exact_8.history)\n",
        "\n",
        "e8 = np.mean(acqFuncExact_exact_8)\n",
        "a8 = np.mean(acqFuncApprox_exact_8)\n",
        "\n",
        "e8, a8\n"
      ],
      "metadata": {
        "colab": {
          "base_uri": "https://localhost:8080/"
        },
        "id": "S7mn0qoMGtbM",
        "outputId": "da32d64a-fd35-4d66-c3ab-2c0c21a97823"
      },
      "execution_count": 107,
      "outputs": [
        {
          "output_type": "execute_result",
          "data": {
            "text/plain": [
              "(3.2661129077401787, 3.557416477581141)"
            ]
          },
          "metadata": {},
          "execution_count": 107
        }
      ]
    },
    {
      "cell_type": "code",
      "source": [
        "### acqFunc attribute x, stddev: run number = 9\n",
        "\n",
        "acqFuncApprox_exact_9 = acqFuncApprox(exact_9.history)\n",
        "acqFuncExact_exact_9 = acqFuncExact(exact_9.history)\n",
        "\n",
        "e9 = np.mean(acqFuncExact_exact_9)\n",
        "a9 = np.mean(acqFuncApprox_exact_9)\n",
        "\n",
        "e9, a9\n"
      ],
      "metadata": {
        "colab": {
          "base_uri": "https://localhost:8080/"
        },
        "id": "BhljmkNxGtms",
        "outputId": "86d41a89-e375-49be-cbbe-130bb34ed780"
      },
      "execution_count": 108,
      "outputs": [
        {
          "output_type": "execute_result",
          "data": {
            "text/plain": [
              "(2.9893855066542208, 3.623956330323599)"
            ]
          },
          "metadata": {},
          "execution_count": 108
        }
      ]
    },
    {
      "cell_type": "code",
      "source": [
        "### acqFunc attribute x, stddev: run number = 10\n",
        "\n",
        "acqFuncApprox_exact_10 = acqFuncApprox(exact_10.history)\n",
        "acqFuncExact_exact_10 = acqFuncExact(exact_10.history)\n",
        "\n",
        "e10 = np.mean(acqFuncExact_exact_10)\n",
        "a10 = np.mean(acqFuncApprox_exact_10)\n",
        "\n",
        "e10, a10\n"
      ],
      "metadata": {
        "colab": {
          "base_uri": "https://localhost:8080/"
        },
        "id": "W5GZo6k3Gtx8",
        "outputId": "35dbd4d1-6be5-4695-8dbf-c7b8c480efae"
      },
      "execution_count": 109,
      "outputs": [
        {
          "output_type": "execute_result",
          "data": {
            "text/plain": [
              "(3.0877420887115887, 3.5981174853318647)"
            ]
          },
          "metadata": {},
          "execution_count": 109
        }
      ]
    },
    {
      "cell_type": "code",
      "source": [
        "### acqFunc attribute x, stddev: run number = 11\n",
        "\n",
        "acqFuncApprox_exact_11 = acqFuncApprox(exact_11.history)\n",
        "acqFuncExact_exact_11 = acqFuncExact(exact_11.history)\n",
        "\n",
        "e11 = np.mean(acqFuncExact_exact_11)\n",
        "a11 = np.mean(acqFuncApprox_exact_11)\n",
        "\n",
        "e11, a11\n"
      ],
      "metadata": {
        "colab": {
          "base_uri": "https://localhost:8080/"
        },
        "id": "isKNhDk5Gt9D",
        "outputId": "0b664ac0-79d8-4d1a-9790-a3d655c47c1f"
      },
      "execution_count": 110,
      "outputs": [
        {
          "output_type": "execute_result",
          "data": {
            "text/plain": [
              "(3.5601983181548507, 3.6167807376209957)"
            ]
          },
          "metadata": {},
          "execution_count": 110
        }
      ]
    },
    {
      "cell_type": "code",
      "source": [
        "### acqFunc attribute x, stddev: run number = 12\n",
        "\n",
        "acqFuncApprox_exact_12 = acqFuncApprox(exact_12.history)\n",
        "acqFuncExact_exact_12 = acqFuncExact(exact_12.history)\n",
        "\n",
        "e12 = np.mean(acqFuncExact_exact_12)\n",
        "a12 = np.mean(acqFuncApprox_exact_12)\n",
        "\n",
        "e12, a12\n"
      ],
      "metadata": {
        "colab": {
          "base_uri": "https://localhost:8080/"
        },
        "id": "8ts-wrSuGuIm",
        "outputId": "6a555cef-ee01-4358-ab5f-db88cb32bfe7"
      },
      "execution_count": 111,
      "outputs": [
        {
          "output_type": "execute_result",
          "data": {
            "text/plain": [
              "(2.921005465820495, 3.1972255899614384)"
            ]
          },
          "metadata": {},
          "execution_count": 111
        }
      ]
    },
    {
      "cell_type": "code",
      "source": [
        "### acqFunc attribute x, stddev: run number = 13\n",
        "\n",
        "acqFuncApprox_exact_13 = acqFuncApprox(exact_13.history)\n",
        "acqFuncExact_exact_13 = acqFuncExact(exact_13.history)\n",
        "\n",
        "e13 = np.mean(acqFuncExact_exact_13)\n",
        "a13 = np.mean(acqFuncApprox_exact_13)\n",
        "\n",
        "e13, a13\n"
      ],
      "metadata": {
        "colab": {
          "base_uri": "https://localhost:8080/"
        },
        "id": "n0drhEe3GuUL",
        "outputId": "8d22b0a1-568c-4f51-c955-e6f852f16d57"
      },
      "execution_count": 112,
      "outputs": [
        {
          "output_type": "execute_result",
          "data": {
            "text/plain": [
              "(3.2338557790943248, 3.7266763845030346)"
            ]
          },
          "metadata": {},
          "execution_count": 112
        }
      ]
    },
    {
      "cell_type": "code",
      "source": [
        "### acqFunc attribute x, stddev: run number = 14\n",
        "\n",
        "acqFuncApprox_exact_14 = acqFuncApprox(exact_14.history)\n",
        "acqFuncExact_exact_14 = acqFuncExact(exact_14.history)\n",
        "\n",
        "e14 = np.mean(acqFuncExact_exact_14)\n",
        "a14 = np.mean(acqFuncApprox_exact_14)\n",
        "\n",
        "e14, a14\n"
      ],
      "metadata": {
        "colab": {
          "base_uri": "https://localhost:8080/"
        },
        "id": "R0W3MZaVGues",
        "outputId": "a1202c41-e051-43f7-a1d3-03aabc7a88fd"
      },
      "execution_count": 113,
      "outputs": [
        {
          "output_type": "execute_result",
          "data": {
            "text/plain": [
              "(2.8612899287952214, 3.3802706895604446)"
            ]
          },
          "metadata": {},
          "execution_count": 113
        }
      ]
    },
    {
      "cell_type": "code",
      "source": [
        "### acqFunc attribute x, stddev: run number = 15\n",
        "\n",
        "acqFuncApprox_exact_15 = acqFuncApprox(exact_15.history)\n",
        "acqFuncExact_exact_15 = acqFuncExact(exact_15.history)\n",
        "\n",
        "e15 = np.mean(acqFuncExact_exact_15)\n",
        "a15 = np.mean(acqFuncApprox_exact_15)\n",
        "\n",
        "e15, a15\n"
      ],
      "metadata": {
        "colab": {
          "base_uri": "https://localhost:8080/"
        },
        "id": "DoXdDFHoGup-",
        "outputId": "bafa073f-2d08-4399-c3c9-1b5c240eb6c3"
      },
      "execution_count": 114,
      "outputs": [
        {
          "output_type": "execute_result",
          "data": {
            "text/plain": [
              "(2.882891893819105, 3.599090325373531)"
            ]
          },
          "metadata": {},
          "execution_count": 114
        }
      ]
    },
    {
      "cell_type": "code",
      "source": [
        "### acqFunc attribute x, stddev: run number = 16\n",
        "\n",
        "acqFuncApprox_exact_16 = acqFuncApprox(exact_16.history)\n",
        "acqFuncExact_exact_16 = acqFuncExact(exact_16.history)\n",
        "\n",
        "e16 = np.mean(acqFuncExact_exact_16)\n",
        "a16 = np.mean(acqFuncApprox_exact_16)\n",
        "\n",
        "e16, a16\n"
      ],
      "metadata": {
        "colab": {
          "base_uri": "https://localhost:8080/"
        },
        "id": "K_wAeqSoGu2j",
        "outputId": "b8aec8e2-8445-4080-fac7-2f011072ad01"
      },
      "execution_count": 115,
      "outputs": [
        {
          "output_type": "execute_result",
          "data": {
            "text/plain": [
              "(2.8829669905412216, 3.2737046416511815)"
            ]
          },
          "metadata": {},
          "execution_count": 115
        }
      ]
    },
    {
      "cell_type": "code",
      "source": [
        "### acqFunc attribute x, stddev: run number = 17\n",
        "\n",
        "acqFuncApprox_exact_17 = acqFuncApprox(exact_17.history)\n",
        "acqFuncExact_exact_17 = acqFuncExact(exact_17.history)\n",
        "\n",
        "e17 = np.mean(acqFuncExact_exact_17)\n",
        "a17 = np.mean(acqFuncApprox_exact_17)\n",
        "\n",
        "e17, a17\n"
      ],
      "metadata": {
        "colab": {
          "base_uri": "https://localhost:8080/"
        },
        "id": "n6zy78fjGvBT",
        "outputId": "d1256ef3-2463-41a1-8d10-ae81400cd7b7"
      },
      "execution_count": 116,
      "outputs": [
        {
          "output_type": "execute_result",
          "data": {
            "text/plain": [
              "(3.1491968350574355, 3.505992460862198)"
            ]
          },
          "metadata": {},
          "execution_count": 116
        }
      ]
    },
    {
      "cell_type": "code",
      "source": [
        "### acqFunc attribute x, stddev: run number = 18\n",
        "\n",
        "acqFuncApprox_exact_18 = acqFuncApprox(exact_18.history)\n",
        "acqFuncExact_exact_18 = acqFuncExact(exact_18.history)\n",
        "\n",
        "e18 = np.mean(acqFuncExact_exact_18)\n",
        "a18 = np.mean(acqFuncApprox_exact_18)\n",
        "\n",
        "e18, a18\n"
      ],
      "metadata": {
        "colab": {
          "base_uri": "https://localhost:8080/"
        },
        "id": "s_6_2K4iGvM-",
        "outputId": "bb47b6d7-7264-4b2e-b682-8eb5e5d85d89"
      },
      "execution_count": 117,
      "outputs": [
        {
          "output_type": "execute_result",
          "data": {
            "text/plain": [
              "(3.218852007666984, 3.61267283209597)"
            ]
          },
          "metadata": {},
          "execution_count": 117
        }
      ]
    },
    {
      "cell_type": "code",
      "source": [
        "### acqFunc attribute x, stddev: run number = 19\n",
        "\n",
        "acqFuncApprox_exact_19 = acqFuncApprox(exact_19.history)\n",
        "acqFuncExact_exact_19 = acqFuncExact(exact_19.history)\n",
        "\n",
        "e19 = np.mean(acqFuncExact_exact_19)\n",
        "a19 = np.mean(acqFuncApprox_exact_19)\n",
        "\n",
        "e19, a19\n"
      ],
      "metadata": {
        "colab": {
          "base_uri": "https://localhost:8080/"
        },
        "id": "o8oO8pdBGvYk",
        "outputId": "9b62dd78-0b1c-4d83-9e22-7759162aed63"
      },
      "execution_count": 118,
      "outputs": [
        {
          "output_type": "execute_result",
          "data": {
            "text/plain": [
              "(2.950455198033957, 3.375589773899047)"
            ]
          },
          "metadata": {},
          "execution_count": 118
        }
      ]
    },
    {
      "cell_type": "code",
      "source": [
        "### acqFunc attribute x, stddev: run number = 20\n",
        "\n",
        "acqFuncApprox_exact_20 = acqFuncApprox(exact_20.history)\n",
        "acqFuncExact_exact_20 = acqFuncExact(exact_20.history)\n",
        "\n",
        "e20 = np.mean(acqFuncExact_exact_20)\n",
        "a20 = np.mean(acqFuncApprox_exact_20)\n",
        "\n",
        "e20, a20\n"
      ],
      "metadata": {
        "colab": {
          "base_uri": "https://localhost:8080/"
        },
        "id": "b2w8oLc0IMzU",
        "outputId": "27706bb3-a9c7-435a-d043-c057aa6429a8"
      },
      "execution_count": 119,
      "outputs": [
        {
          "output_type": "execute_result",
          "data": {
            "text/plain": [
              "(3.08865235031631, 3.333623497004377)"
            ]
          },
          "metadata": {},
          "execution_count": 119
        }
      ]
    },
    {
      "cell_type": "code",
      "source": [
        "### Summarize arrays: \n",
        "\n",
        "exact_stddev = np.sort([e1,e2,e3,e4,e5,e6,e7,e8,e9,e10,e11,e12,e13,e14,e15,e16,e17,e18,e19,e20])\n",
        "approx_stddev = np.sort([a1,a2,a3,a4,a5,a6,a7,a8,a9,a10,a11,a12,a13,a14,a15,a16,a17,a18,a19,a20])\n",
        "\n",
        "np.mean(exact_stddev), np.mean(approx_stddev)\n"
      ],
      "metadata": {
        "colab": {
          "base_uri": "https://localhost:8080/"
        },
        "id": "qAZs3yxMIZul",
        "outputId": "2370b58f-df26-4898-9880-9fa3833faf52"
      },
      "execution_count": 120,
      "outputs": [
        {
          "output_type": "execute_result",
          "data": {
            "text/plain": [
              "(3.094866237945916, 3.472914619954404)"
            ]
          },
          "metadata": {},
          "execution_count": 120
        }
      ]
    },
    {
      "cell_type": "code",
      "source": [
        "### Visualise!\n",
        "\n",
        "title = func\n",
        "plt.figure()\n",
        "\n",
        "plt.plot(approx_stddev, color = 'Purple', ls='-', label='Average $\\sigma$, attribute $\\mathbf{x}$: Approx GP CBM gradients')\n",
        "plt.plot(exact_stddev, color = 'Orange', ls='-.', label='Average $\\sigma$, attribute $\\mathbf{x}$: Exact GP dCBM gradients')\n",
        "\n",
        "plt.title(title, weight = 'bold')\n",
        "plt.xlabel('Function evaluations: iteration $\\it{k}$', weight = 'bold')\n",
        "plt.ylabel('GP CBM: Average $\\sigma$, attribute $\\mathbf{x}$', weight = 'bold') \n",
        "plt.legend(loc=0) # add plot legend\n",
        "\n",
        "### Make the x-ticks integers, not floats:\n",
        "count = len(xstar)\n",
        "plt.xticks(np.arange(count), np.arange(1, count))\n",
        "plt.show() #visualize!\n"
      ],
      "metadata": {
        "colab": {
          "base_uri": "https://localhost:8080/",
          "height": 297
        },
        "id": "e_kpqYcMIZxu",
        "outputId": "dcf8c4e8-2809-4d37-a3e1-b51a640692e6"
      },
      "execution_count": 121,
      "outputs": [
        {
          "output_type": "display_data",
          "data": {
            "text/plain": [
              "<Figure size 432x288 with 1 Axes>"
            ],
            "image/png": "[encoded data removed]"
          },
          "metadata": {
            "needs_background": "light"
          }
        }
      ]
    },
    {
      "cell_type": "code",
      "source": [
        ""
      ],
      "metadata": {
        "id": "LToGd4vZIZ3I"
      },
      "execution_count": 121,
      "outputs": []
    }
  ],
  "metadata": {
    "colab": {
      "collapsed_sections": [],
      "name": "2_Rastrigin_GP_dCBM.ipynb",
      "provenance": []
    },
    "kernelspec": {
      "display_name": "Python 3",
      "name": "python3"
    },
    "language_info": {
      "name": "python"
    }
  },
  "nbformat": 4,
  "nbformat_minor": 0
}