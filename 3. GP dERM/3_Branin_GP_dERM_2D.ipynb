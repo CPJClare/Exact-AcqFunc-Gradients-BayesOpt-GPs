{
  "nbformat": 4,
  "nbformat_minor": 0,
  "metadata": {
    "colab": {
      "name": "3_Branin_GP_dERM_2D.ipynb",
      "provenance": [],
      "collapsed_sections": []
    },
    "kernelspec": {
      "name": "python3",
      "display_name": "Python 3"
    },
    "language_info": {
      "name": "python"
    }
  },
  "cells": [
    {
      "cell_type": "markdown",
      "metadata": {
        "id": "Dqn4dFx7Z2Ir"
      },
      "source": [
        "\n",
        "Branin: 2D\n"
      ]
    },
    {
      "cell_type": "code",
      "metadata": {
        "id": "MJTM_GZZZb5x",
        "colab": {
          "base_uri": "https://localhost:8080/"
        },
        "outputId": "236be92c-0cf4-41e0-9b23-d2419a8d4498"
      },
      "source": [
        "pip install pyGPGO\n"
      ],
      "execution_count": 1,
      "outputs": [
        {
          "output_type": "stream",
          "name": "stdout",
          "text": [
            "Collecting pyGPGO\n",
            "  Downloading pyGPGO-0.5.1.tar.gz (14 kB)\n",
            "Requirement already satisfied: numpy in /usr/local/lib/python3.7/dist-packages (from pyGPGO) (1.21.6)\n",
            "Requirement already satisfied: mkl in /usr/local/lib/python3.7/dist-packages (from pyGPGO) (2019.0)\n",
            "Requirement already satisfied: scipy in /usr/local/lib/python3.7/dist-packages (from pyGPGO) (1.4.1)\n",
            "Requirement already satisfied: joblib in /usr/local/lib/python3.7/dist-packages (from pyGPGO) (1.1.0)\n",
            "Requirement already satisfied: scikit-learn in /usr/local/lib/python3.7/dist-packages (from pyGPGO) (1.0.2)\n",
            "Requirement already satisfied: Theano-PyMC in /usr/local/lib/python3.7/dist-packages (from pyGPGO) (1.1.2)\n",
            "Requirement already satisfied: pyMC3 in /usr/local/lib/python3.7/dist-packages (from pyGPGO) (3.11.4)\n",
            "Requirement already satisfied: intel-openmp in /usr/local/lib/python3.7/dist-packages (from mkl->pyGPGO) (2022.0.2)\n",
            "Requirement already satisfied: dill in /usr/local/lib/python3.7/dist-packages (from pyMC3->pyGPGO) (0.3.4)\n",
            "Requirement already satisfied: typing-extensions>=3.7.4 in /usr/local/lib/python3.7/dist-packages (from pyMC3->pyGPGO) (4.2.0)\n",
            "Requirement already satisfied: fastprogress>=0.2.0 in /usr/local/lib/python3.7/dist-packages (from pyMC3->pyGPGO) (1.0.2)\n",
            "Requirement already satisfied: pandas>=0.24.0 in /usr/local/lib/python3.7/dist-packages (from pyMC3->pyGPGO) (1.3.5)\n",
            "Requirement already satisfied: cachetools>=4.2.1 in /usr/local/lib/python3.7/dist-packages (from pyMC3->pyGPGO) (4.2.4)\n",
            "Requirement already satisfied: semver>=2.13.0 in /usr/local/lib/python3.7/dist-packages (from pyMC3->pyGPGO) (2.13.0)\n",
            "Requirement already satisfied: arviz>=0.11.0 in /usr/local/lib/python3.7/dist-packages (from pyMC3->pyGPGO) (0.12.0)\n",
            "Requirement already satisfied: patsy>=0.5.1 in /usr/local/lib/python3.7/dist-packages (from pyMC3->pyGPGO) (0.5.2)\n",
            "Requirement already satisfied: filelock in /usr/local/lib/python3.7/dist-packages (from Theano-PyMC->pyGPGO) (3.6.0)\n",
            "Requirement already satisfied: matplotlib>=3.0 in /usr/local/lib/python3.7/dist-packages (from arviz>=0.11.0->pyMC3->pyGPGO) (3.2.2)\n",
            "Requirement already satisfied: netcdf4 in /usr/local/lib/python3.7/dist-packages (from arviz>=0.11.0->pyMC3->pyGPGO) (1.5.8)\n",
            "Requirement already satisfied: packaging in /usr/local/lib/python3.7/dist-packages (from arviz>=0.11.0->pyMC3->pyGPGO) (21.3)\n",
            "Requirement already satisfied: setuptools>=38.4 in /usr/local/lib/python3.7/dist-packages (from arviz>=0.11.0->pyMC3->pyGPGO) (57.4.0)\n",
            "Requirement already satisfied: xarray>=0.16.1 in /usr/local/lib/python3.7/dist-packages (from arviz>=0.11.0->pyMC3->pyGPGO) (0.18.2)\n",
            "Requirement already satisfied: cycler>=0.10 in /usr/local/lib/python3.7/dist-packages (from matplotlib>=3.0->arviz>=0.11.0->pyMC3->pyGPGO) (0.11.0)\n",
            "Requirement already satisfied: pyparsing!=2.0.4,!=2.1.2,!=2.1.6,>=2.0.1 in /usr/local/lib/python3.7/dist-packages (from matplotlib>=3.0->arviz>=0.11.0->pyMC3->pyGPGO) (3.0.8)\n",
            "Requirement already satisfied: kiwisolver>=1.0.1 in /usr/local/lib/python3.7/dist-packages (from matplotlib>=3.0->arviz>=0.11.0->pyMC3->pyGPGO) (1.4.2)\n",
            "Requirement already satisfied: python-dateutil>=2.1 in /usr/local/lib/python3.7/dist-packages (from matplotlib>=3.0->arviz>=0.11.0->pyMC3->pyGPGO) (2.8.2)\n",
            "Requirement already satisfied: pytz>=2017.3 in /usr/local/lib/python3.7/dist-packages (from pandas>=0.24.0->pyMC3->pyGPGO) (2022.1)\n",
            "Requirement already satisfied: six in /usr/local/lib/python3.7/dist-packages (from patsy>=0.5.1->pyMC3->pyGPGO) (1.15.0)\n",
            "Requirement already satisfied: cftime in /usr/local/lib/python3.7/dist-packages (from netcdf4->arviz>=0.11.0->pyMC3->pyGPGO) (1.6.0)\n",
            "Requirement already satisfied: threadpoolctl>=2.0.0 in /usr/local/lib/python3.7/dist-packages (from scikit-learn->pyGPGO) (3.1.0)\n",
            "Building wheels for collected packages: pyGPGO\n",
            "  Building wheel for pyGPGO (setup.py) ... \u001b[?25l\u001b[?25hdone\n",
            "  Created wheel for pyGPGO: filename=pyGPGO-0.5.1-py3-none-any.whl size=19879 sha256=a5d192eb36d51ab232cc3f7e382d984c2d2afe6cf2d1ece4478881fb4c611863\n",
            "  Stored in directory: /root/.cache/pip/wheels/c8/5d/0b/2160114e2f1b87791c51b66cf07f89831dbb6f49167950316f\n",
            "Successfully built pyGPGO\n",
            "Installing collected packages: pyGPGO\n",
            "Successfully installed pyGPGO-0.5.1\n"
          ]
        }
      ]
    },
    {
      "cell_type": "code",
      "metadata": {
        "id": "ZJSSPbwPaEUB"
      },
      "source": [
        "### Import:\n",
        "\n",
        "import numpy as np\n",
        "import scipy as sp\n",
        "import pandas as pd\n",
        "import matplotlib.pyplot as plt\n",
        "import warnings\n",
        "import itertools\n",
        "\n",
        "from pyGPGO.GPGO import GPGO\n",
        "from pyGPGO.surrogates.GaussianProcess import GaussianProcess\n",
        "from pyGPGO.acquisition import Acquisition\n",
        "from pyGPGO.covfunc import squaredExponential\n",
        "\n",
        "from joblib import Parallel, delayed\n",
        "from numpy.linalg import solve, cholesky\n",
        "from scipy.spatial.distance import cdist\n",
        "from scipy.optimize import minimize\n",
        "from scipy.stats import norm\n",
        "import time\n",
        "\n",
        "warnings.filterwarnings(\"ignore\", category=RuntimeWarning)\n"
      ],
      "execution_count": 2,
      "outputs": []
    },
    {
      "cell_type": "code",
      "metadata": {
        "id": "OeYcTUNoaJWa"
      },
      "source": [
        "### Inputs:\n",
        "\n",
        "func = 'Branin'\n",
        "n_test = 500\n",
        "eps = 1e-08\n",
        "\n",
        "util_grad_exact = 'dERM_GP'\n",
        "util_grad_approx = 'ExpectedRegret'\n",
        "\n",
        "n_init = 5 # random initialisations\n",
        "iters = 20\n",
        "opt = True"
      ],
      "execution_count": 3,
      "outputs": []
    },
    {
      "cell_type": "code",
      "metadata": {
        "id": "xpaEOjdzaPMS"
      },
      "source": [
        "### Objective Function - Branin(x) 2-D:\n",
        "\n",
        "def objfunc(x1_training, x2_training, a = 1, b = (5.1 / (4 * (np.pi) ** 2)), c = (5 / (np.pi)), r = 6, s = 10, t = (1 / (8 * np.pi))):\n",
        "        return operator * ((a * (x2_training - b * x1_training ** 2 + c * x1_training - r) ** 2) + \n",
        "                 s * (1 - t) * np.cos(x1_training) + s)\n",
        "        \n",
        "# Constraints:\n",
        "lb_x1 = -5 \n",
        "ub_x1 = +10\n",
        "lb_x2 = +0 \n",
        "ub_x2 = +15\n",
        "\n",
        "# Input array dimension(s):\n",
        "dim = 2\n",
        "\n",
        "# 2-D inputs' parameter bounds:\n",
        "param = {'x1_training': ('cont', [lb_x1, ub_x1]),\n",
        "             'x2_training': ('cont', [lb_x2, ub_x2])}\n",
        "\n",
        "# True y bounds:\n",
        "operator = -1\n",
        "y_lb = 0.397887 # targets global minimum\n",
        "y_global_orig = y_lb * operator # targets global minimum\n",
        "\n",
        "\n",
        "# Test data:\n",
        "x1_test = np.linspace(lb_x1, ub_x1, n_test)\n",
        "x2_test = np.linspace(lb_x2, ub_x2, n_test)\n",
        "  \n",
        "x_test = np.column_stack((x1_test,x2_test))\n"
      ],
      "execution_count": 4,
      "outputs": []
    },
    {
      "cell_type": "code",
      "metadata": {
        "id": "eYpI3Zm4aGxi"
      },
      "source": [
        "n_start_AcqFunc = iters\n"
      ],
      "execution_count": 5,
      "outputs": []
    },
    {
      "cell_type": "code",
      "metadata": {
        "id": "oO_GUmOoaV0T"
      },
      "source": [
        "### Cumulative Regret Calculator:\n",
        "\n",
        "def min_max_array(x):\n",
        "    new_list = []\n",
        "    for i, num in enumerate(x):\n",
        "            new_list.append(np.min(x[0:i+1]))\n",
        "    return new_list\n",
        "  "
      ],
      "execution_count": 6,
      "outputs": []
    },
    {
      "cell_type": "code",
      "metadata": {
        "id": "kuuJx0IMam9S"
      },
      "source": [
        "### Surrogate derivatives: \n",
        "\n",
        "cov_func = squaredExponential()\n",
        "\n",
        "def kronDelta(X, Xstar):                     # Kronecker's Delta method\n",
        "    return cdist(X, Xstar) < np.finfo(np.float32).eps\n",
        "\n",
        "def se(X, Xstar, sigmaf, l, sigman):         # S.E. kernel method\n",
        "    return sigmaf * np.exp(-0.5 * cdist(X, Xstar) ** 2 / l ** 2) + sigman * kronDelta(X, Xstar)\n",
        "\n",
        "def delta(X, Xstar):                         # Distance between training X and test Xstar vectors\n",
        "    return (X - Xstar)\n",
        "   \n",
        "def der_covmat(X, Xstar, sigmaf, l, sigman): # Covariance matrix derivative terms (i.e. exact, first-order)\n",
        "    nx = len(X)\n",
        "    ny = len(Xstar)\n",
        "    return np.round(np.array([(delta(np.atleast_2d(i), np.atleast_2d(j))[0] * se(np.atleast_2d(i), np.atleast_2d(j), sigmaf, l, sigman)[0]).sum() for (i, j) in itertools.product(X, Xstar)]).reshape(nx, ny), 8)\n",
        "\n",
        "class dGaussianProcess(GaussianProcess):    # Via inheritance, also optimises hyperparameters when opt = TRUE\n",
        "    \n",
        "    def AcqGrad(self, Xstar):               # Method returning exact, first-order derivatives of the GP's posterior mean and standard deviation\n",
        "        Xstar = np.atleast_2d(Xstar)\n",
        "        Kstar = self.covfunc.K(self.X, Xstar).T\n",
        "        \n",
        "        dKstar = der_covmat(self.X, Xstar, self.covfunc.sigmaf, self.covfunc.l, self.covfunc.sigman).T\n",
        "        alpha_Kstar = np.dot(np.linalg.inv(self.K + (self.covfunc.sigman**2) * np.eye(len(self.X))), Kstar.T)\n",
        "        \n",
        "        dm = np.dot(dKstar, self.alpha)\n",
        "        ds = -2 * np.dot(dKstar, alpha_Kstar)\n",
        "        \n",
        "        return dm, ds           \n",
        "        "
      ],
      "execution_count": 7,
      "outputs": []
    },
    {
      "cell_type": "code",
      "metadata": {
        "id": "_Dc3YVHVaXz7"
      },
      "source": [
        "class Acquisition_new(Acquisition):    \n",
        "    def __init__(self, mode, eps=eps, **params):\n",
        "        \n",
        "        self.params = params\n",
        "        self.eps = eps\n",
        "\n",
        "        mode_dict = {\n",
        "            'ExpectedRegret': self.ExpectedRegret,\n",
        "            'dERM_GP': self.dERM_GP\n",
        "        }\n",
        "\n",
        "        self.f = mode_dict[mode]\n",
        "    \n",
        "    def ExpectedRegret(self, tau, mean, std):\n",
        "        z = (mean - y_global_orig - self.eps) / (std + self.eps)\n",
        "        return (mean - y_global_orig) * norm.cdf(z) + std * norm.pdf(z)[0]\n",
        "\n",
        "    def dERM_GP(self, tau, mean, std, ds, dm):\n",
        "        gamma = (mean - y_global_orig - self.eps) / (std + self.eps)\n",
        "        gamma_h = (mean - tau) / (std + self.eps)\n",
        "        dsdx = ds / (2 * (std + self.eps))\n",
        "        dmdx = (dm - gamma * dsdx) / (std + self.eps)\n",
        "        \n",
        "        f = (std + self.eps) * (gamma * norm.cdf(gamma) + norm.pdf(gamma))\n",
        "        df1 = f / (std + self.eps) * dsdx \n",
        "        df2 = (std + self.eps) * norm.cdf(gamma) * dmdx\n",
        "        df = (df1 + df2)[0]\n",
        "        df_arr = []\n",
        "\n",
        "        for j in range(0, dim):\n",
        "          df_arr.append(df)\n",
        "        return f, np.asarray(df_arr).transpose()\n",
        "        \n",
        "    def d_eval(self, tau, mean, std, ds, dm):\n",
        "    \n",
        "        return self.f(tau, mean, std, ds, dm, **self.params)\n",
        "        "
      ],
      "execution_count": 8,
      "outputs": []
    },
    {
      "cell_type": "code",
      "metadata": {
        "id": "PITEQC8YSl7i"
      },
      "source": [
        "## GPGO_multi: \n",
        "\n",
        "class GPGO_multi(GPGO):\n",
        "    n_start = n_start_AcqFunc\n",
        "\n",
        "    def __init__(self, surrogate, acquisition, f, parameter_dict, n_jobs=1):\n",
        "        self.GP = surrogate\n",
        "        self.A = acquisition\n",
        "        self.f = f\n",
        "        self.parameters = parameter_dict\n",
        "        self.n_jobs = n_jobs\n",
        "\n",
        "        self.parameter_key = list(parameter_dict.keys())\n",
        "        self.parameter_value = list(parameter_dict.values())\n",
        "        self.parameter_type = [p[0] for p in self.parameter_value]\n",
        "        self.parameter_range = [p[1] for p in self.parameter_value]\n",
        "\n",
        "        self.history = []\n",
        "        self.header =   'Evaluation \\t Proposed point \\t  Current eval. \\t  Best eval. \\t         Max AcqFunc.'\n",
        "        self.template = '{:3}\\t {}\\t {:3}\\t {:3}\\t {:3}'\n",
        "\n",
        "    def _optimizeAcq(self, method='L-BFGS-B', n_start=n_start_AcqFunc):\n",
        "        \n",
        "        start_points_dict = [self._sampleParam() for i in range(n_start)]\n",
        "        start_points_arr = np.array([list(s.values())\n",
        "                                     for s in start_points_dict])\n",
        "        x_best = np.empty((n_start, len(self.parameter_key)))\n",
        "        f_best = np.empty((n_start,))\n",
        "        opt = Parallel(n_jobs=self.n_jobs)(delayed(minimize)(self._acqWrapper,\n",
        "                                                                 x0=start_point,\n",
        "                                                                 method=method,\n",
        "                                                                 bounds=self.parameter_range) for start_point in\n",
        "                                               start_points_arr)\n",
        "        x_best = np.array([res.x for res in opt])\n",
        "        f_best = np.array([np.atleast_1d(res.fun)[0] for res in opt])\n",
        "        f_best_min = min(f_best)\n",
        "\n",
        "        self.x_best = x_best\n",
        "        self.f_best = f_best\n",
        "        self.f_best_min = f_best_min\n",
        "        self.best = x_best[np.argmin(f_best)]\n",
        "        self.start_points_arr = start_points_arr\n",
        "        \n",
        "        self.history.append(self.f_best_min)\n",
        "          \n",
        "    def _printInit(self):\n",
        "        print(self.header)\n",
        "        for init_eval in range(self.init_evals):\n",
        "            print(self.template.format('init', self.GP.X[init_eval], self.GP.y[init_eval], self.tau, ''))\n",
        "      \n",
        "    def _printCurrent(self):\n",
        "        OKGREEN = '\\033[92m'\n",
        "        ENDC = '\\033[0m'\n",
        "        BOLD = '\\033[1m'\n",
        "        eval = str(len(self.GP.y) - self.init_evals)\n",
        "        proposed = str(self.best)\n",
        "        curr_eval = str(self.GP.y[-1])\n",
        "        curr_best = str(self.tau)\n",
        "        max_acqfunc = str(self.f_best_min)\n",
        "        if float(curr_eval) >= float(curr_best):\n",
        "            eval = BOLD + OKGREEN + eval + ENDC\n",
        "            proposed = BOLD + OKGREEN + proposed + ENDC\n",
        "            curr_eval = BOLD + OKGREEN + curr_eval + ENDC\n",
        "            curr_best = BOLD + OKGREEN + curr_best + ENDC\n",
        "            max_acqfunc = BOLD + OKGREEN + str(self.f_best_min) + ENDC\n",
        "        print(self.template.format(eval, proposed, curr_eval, curr_best, max_acqfunc))\n",
        "\n",
        "    def run(self, max_iter=10, init_evals=3, resume=False):\n",
        "        \n",
        "        if not resume:\n",
        "            self.init_evals = init_evals\n",
        "            self._firstRun(self.init_evals)\n",
        "            self._printInit()\n",
        "        for iteration in range(max_iter):\n",
        "            self._optimizeAcq()\n",
        "            self.updateGP()\n",
        "            self._printCurrent()\n"
      ],
      "execution_count": 9,
      "outputs": []
    },
    {
      "cell_type": "code",
      "metadata": {
        "id": "b_B-w81BJxKN"
      },
      "source": [
        "## dGPGO:\n",
        "\n",
        "grad = 1\n",
        "\n",
        "class dGPGO(GPGO):\n",
        "    n_start = n_start_AcqFunc\n",
        "\n",
        "    def __init__(self, surrogate, acquisition, f, parameter_dict, n_jobs=1):\n",
        "        self.GP = surrogate\n",
        "        self.A = acquisition\n",
        "        self.f = f\n",
        "        self.parameters = parameter_dict\n",
        "        self.n_jobs = n_jobs\n",
        "\n",
        "        self.parameter_key = list(parameter_dict.keys())\n",
        "        self.parameter_value = list(parameter_dict.values())\n",
        "        self.parameter_type = [p[0] for p in self.parameter_value]\n",
        "        self.parameter_range = [p[1] for p in self.parameter_value]\n",
        "\n",
        "        self.history = []\n",
        "        self.header =   'Evaluation \\t Proposed point \\t  Current eval. \\t  Best eval. \\t         Max AcqFunc.'\n",
        "        self.template = '{:3}\\t {}\\t {:3}\\t {:3}\\t {:3}'\n",
        "\n",
        "    def d_optimizeAcq(self, method='L-BFGS-B', n_start=n_start_AcqFunc):\n",
        "        start_points_dict = [self._sampleParam() for i in range(n_start)]\n",
        "        start_points_arr = np.array([list(s.values())\n",
        "                                     for s in start_points_dict])\n",
        "        x_best = np.empty((n_start, len(self.parameter_key)))\n",
        "        f_best = np.empty((n_start,))\n",
        "        opt = Parallel(n_jobs=self.n_jobs)(delayed(minimize)(self.acqfunc,\n",
        "                                                                 x0=start_point,\n",
        "                                                                 method=method,\n",
        "                                                                 jac = True,\n",
        "                                                                 bounds=self.parameter_range) for start_point in\n",
        "                                               start_points_arr)\n",
        "        x_best = np.array([res.x for res in opt])\n",
        "        f_best = np.array([np.atleast_1d(res.fun)[0] for res in opt])\n",
        "        f_best_min = min(f_best)\n",
        "\n",
        "        self.x_best = x_best\n",
        "        self.f_best = f_best\n",
        "        self.f_best_min = f_best_min\n",
        "        self.best = x_best[np.argmin(f_best)]\n",
        "        self.start_points_arr = start_points_arr\n",
        "\n",
        "        self.history.append(self.f_best_min)\n",
        "\n",
        "    def _printInit(self):\n",
        "        print(self.header)\n",
        "        for init_eval in range(self.init_evals):\n",
        "            print(self.template.format('init', self.GP.X[init_eval], self.GP.y[init_eval], self.tau, ''))\n",
        "      \n",
        "    def _printCurrent(self):\n",
        "        OKGREEN = '\\033[92m'\n",
        "        ENDC = '\\033[0m'\n",
        "        BOLD = '\\033[1m'\n",
        "        eval = str(len(self.GP.y) - self.init_evals)\n",
        "        proposed = str(self.best)\n",
        "        curr_eval = str(self.GP.y[-1])\n",
        "        curr_best = str(self.tau)\n",
        "        max_acqfunc = str(self.f_best_min)\n",
        "        if float(curr_eval) >= float(curr_best):\n",
        "            eval = BOLD + OKGREEN + eval + ENDC\n",
        "            proposed = BOLD + OKGREEN + proposed + ENDC\n",
        "            curr_eval = BOLD + OKGREEN + curr_eval + ENDC\n",
        "            curr_best = BOLD + OKGREEN + curr_best + ENDC\n",
        "            max_acqfunc = BOLD + OKGREEN + str(self.f_best_min) + ENDC\n",
        "        print(self.template.format(eval, proposed, curr_eval, curr_best, max_acqfunc))\n",
        "\n",
        "    def run(self, max_iter=10, init_evals=3, resume=False):\n",
        "        \n",
        "        if not resume:\n",
        "            self.init_evals = init_evals\n",
        "            self._firstRun(self.init_evals)\n",
        "            self._printInit()\n",
        "        for iteration in range(max_iter):\n",
        "            self.d_optimizeAcq()\n",
        "            self.updateGP()\n",
        "            self._printCurrent()\n",
        "\n",
        "    def acqfunc(self, xnew, n_start=n_start_AcqFunc):\n",
        "        new_mean, new_var = self.GP.predict(xnew, return_std=True)\n",
        "        new_std = np.sqrt(new_var + eps)\n",
        "        dm, ds = self.GP.AcqGrad(xnew)\n",
        "        f, df = self.A.d_eval(self.tau, new_mean, new_std, ds=ds, dm=dm)\n",
        "\n",
        "        return -f, -df * grad\n"
      ],
      "execution_count": 10,
      "outputs": []
    },
    {
      "cell_type": "code",
      "metadata": {
        "id": "qXIKGuXVGEg2"
      },
      "source": [
        "###Reproducible set-seeds:\n",
        "\n",
        "run_num_1 = 1\n",
        "run_num_2 = 2\n",
        "run_num_3 = 3\n",
        "run_num_4 = 4\n",
        "run_num_5 = 5\n",
        "run_num_6 = 6\n",
        "run_num_7 = 7\n",
        "run_num_8 = 8\n",
        "run_num_9 = 9\n",
        "run_num_10 = 10\n",
        "run_num_11 = 11\n",
        "run_num_12 = 12\n",
        "run_num_13 = 13\n",
        "run_num_14 = 14\n",
        "run_num_15 = 15\n",
        "run_num_16 = 16\n",
        "run_num_17 = 17\n",
        "run_num_18 = 18\n",
        "run_num_19 = 19\n",
        "run_num_20 = 20\n"
      ],
      "execution_count": 11,
      "outputs": []
    },
    {
      "cell_type": "code",
      "metadata": {
        "colab": {
          "base_uri": "https://localhost:8080/"
        },
        "id": "JEhagQmnTVIK",
        "outputId": "638b7222-5698-4b9c-a61d-1a741b92aba6"
      },
      "source": [
        "start_approx = time.time()\n",
        "start_approx\n"
      ],
      "execution_count": 12,
      "outputs": [
        {
          "output_type": "execute_result",
          "data": {
            "text/plain": [
              "1651583834.606037"
            ]
          },
          "metadata": {},
          "execution_count": 12
        }
      ]
    },
    {
      "cell_type": "code",
      "metadata": {
        "colab": {
          "base_uri": "https://localhost:8080/"
        },
        "id": "aH0YSTXufD1v",
        "outputId": "0694c9e4-599b-4fda-9a1d-cb7f71b41513"
      },
      "source": [
        "### ESTIMATED GP ERM GRADIENTS\n",
        "\n",
        "np.random.seed(run_num_1)\n",
        "surrogate_approx_1 = GaussianProcess(cov_func, optimize=opt)\n",
        "\n",
        "approx_1 = GPGO_multi(surrogate_approx_1, Acquisition_new(util_grad_approx), objfunc, param)\n",
        "approx_1.run(init_evals=n_init, max_iter=iters)\n"
      ],
      "execution_count": 13,
      "outputs": [
        {
          "output_type": "stream",
          "name": "stdout",
          "text": [
            "Evaluation \t Proposed point \t  Current eval. \t  Best eval. \t         Max AcqFunc.\n",
            "init\t [ 1.25533007 10.8048674 ]\t -56.52874004692151\t -27.68166689936483\t    \n",
            "init\t [-4.99828438  4.53498859]\t -172.66531086516164\t -27.68166689936483\t    \n",
            "init\t [-2.79866164  1.38507892]\t -102.58290348816024\t -27.68166689936483\t    \n",
            "init\t [-2.20609683  5.18341091]\t -28.868064601155666\t -27.68166689936483\t    \n",
            "init\t [0.95151211 8.08225101]\t -27.68166689936483\t -27.68166689936483\t    \n",
            "\u001b[1m\u001b[92m1\u001b[0m\t \u001b[1m\u001b[92m[8.41909995 1.27566317]\u001b[0m\t \u001b[1m\u001b[92m-5.089934878453152\u001b[0m\t \u001b[1m\u001b[92m-5.089934878453152\u001b[0m\t \u001b[1m\u001b[92m-1.0125658302513083\u001b[0m\n",
            "2  \t [ 8.98893195 10.45227242]\t -70.52424256621515\t -5.089934878453152\t -1.0125658302497296\n",
            "\u001b[1m\u001b[92m3\u001b[0m\t \u001b[1m\u001b[92m[-3.93920149 13.25441417]\u001b[0m\t \u001b[1m\u001b[92m-4.333308116197517\u001b[0m\t \u001b[1m\u001b[92m-4.333308116197517\u001b[0m\t \u001b[1m\u001b[92m-1.012564710482457\u001b[0m\n",
            "4  \t [3.29585328 0.        ]\t -5.167890908848676\t -4.333308116197517\t -1.0125644284881055\n",
            "5  \t [ 5.36701892 15.        ]\t -206.8589766877631\t -4.333308116197517\t -1.0125643731995226\n",
            "6  \t [5.81444645 5.67080203]\t -39.335751165739254\t -4.333308116197517\t -1.0125580931729503\n",
            "7  \t [-5.          9.41518323]\t -73.13048618123008\t -4.333308116197517\t -1.0117590374042915\n",
            "8  \t [10. 15.]\t -145.87219087939556\t -4.333308116197517\t -1.0108644930133825\n",
            "9  \t [-0.27363785 15.        ]\t -92.42978286314342\t -4.333308116197517\t -1.0114671132181696\n",
            "10 \t [10.          5.16485183]\t -6.6169316457015634\t -4.333308116197517\t -1.010764686126248\n",
            "11 \t [1.83229222 3.59375559]\t -7.523416163059901\t -4.333308116197517\t -1.0103631159061102\n",
            "12 \t [5.0426758  9.66236934]\t -83.72549702410392\t -4.333308116197517\t -0.9964436127460256\n",
            "13 \t [5.44864419 2.0101498 ]\t -17.164962021125653\t -4.333308116197517\t -0.9660080968055685\n",
            "14 \t [0.62184022 0.        ]\t -43.4109472471211\t -4.333308116197517\t -0.9387847900429238\n",
            "15 \t [-2.07573388 11.4400675 ]\t -7.850785142896074\t -4.333308116197517\t -0.8767081295674658\n",
            "16 \t [-5. 15.]\t -17.508299515778166\t -4.333308116197517\t -0.8670981042090061\n",
            "17 \t [10.  0.]\t -10.960889035651505\t -4.333308116197517\t -0.8367086888698935\n",
            "18 \t [8.70149244 7.17859479]\t -30.32368895114694\t -4.333308116197517\t -0.7733798476776559\n",
            "19 \t [8.33388885 3.4733331 ]\t -8.681206301430704\t -4.333308116197517\t -0.7458481614206106\n",
            "20 \t [-1.93203234  8.36635762]\t -8.024276857122784\t -4.333308116197517\t -0.7382892613701599\n"
          ]
        }
      ]
    },
    {
      "cell_type": "code",
      "metadata": {
        "colab": {
          "base_uri": "https://localhost:8080/"
        },
        "id": "wTxsSZxFGBB5",
        "outputId": "855bdd8d-a123-4ee9-9a9d-83df595cfc13"
      },
      "source": [
        "### ESTIMATED GP ERM GRADIENTS\n",
        "\n",
        "np.random.seed(run_num_2)\n",
        "surrogate_approx_2 = GaussianProcess(cov_func, optimize=opt)\n",
        "\n",
        "approx_2 = GPGO_multi(surrogate_approx_2, Acquisition_new(util_grad_approx), objfunc, param)\n",
        "approx_2.run(init_evals=n_init, max_iter=iters)\n"
      ],
      "execution_count": 14,
      "outputs": [
        {
          "output_type": "stream",
          "name": "stdout",
          "text": [
            "Evaluation \t Proposed point \t  Current eval. \t  Best eval. \t         Max AcqFunc.\n",
            "init\t [1.53992353 0.38889348]\t -22.31361308916297\t -6.692051508754487\t    \n",
            "init\t [3.24493717 6.52983589]\t -19.233109967858276\t -6.692051508754487\t    \n",
            "init\t [1.30551703 4.95502232]\t -13.177851563387286\t -6.692051508754487\t    \n",
            "init\t [-1.93027049  9.2890645 ]\t -6.692051508754487\t -6.692051508754487\t    \n",
            "init\t [-0.50517989  4.00240913]\t -26.437522758780958\t -6.692051508754487\t    \n",
            "1  \t [ 9.5587047  12.00387527]\t -89.09951357262268\t -6.692051508754487\t -1.0125658302513045\n",
            "\u001b[1m\u001b[92m2\u001b[0m\t \u001b[1m\u001b[92m[9.59366035 1.69164323]\u001b[0m\t \u001b[1m\u001b[92m-1.3984593420568778\u001b[0m\t \u001b[1m\u001b[92m-1.3984593420568778\u001b[0m\t \u001b[1m\u001b[92m-1.0125658302512053\u001b[0m\n",
            "3  \t [ 2.76755193 13.40050896]\t -118.04193885354222\t -1.3984593420568778\t -1.0125658223665133\n",
            "4  \t [-5.          0.73986183]\t -283.24394841613446\t -1.3984593420568778\t -1.0125643351021494\n",
            "5  \t [-3.14464907 14.56432333]\t -5.605350427804851\t -1.3984593420568778\t -1.0125645448462\n",
            "6  \t [8.93672669 6.44382594]\t -20.439158338984655\t -1.3984593420568778\t -1.0125571390005426\n",
            "7  \t [-5.          6.09195487]\t -135.83176862127195\t -1.3984593420568778\t -1.0123769972489616\n",
            "8  \t [5.72568685 2.48816548]\t -20.013473270501635\t -1.3984593420568778\t -1.0121934925992788\n",
            "9  \t [5.70826838 9.76262568]\t -92.67741103207192\t -1.3984593420568778\t -1.009148448770643\n",
            "10 \t [ 6.72661269 15.        ]\t -210.7864752788989\t -1.3984593420568778\t -1.0035652265532482\n",
            "11 \t [-5.        11.3134674]\t -47.22636914759266\t -1.3984593420568778\t -1.008808449279029\n",
            "12 \t [1.29059925 9.56158646]\t -41.82041993571288\t -1.3984593420568778\t -0.9853509585906376\n",
            "13 \t [8.00195234 0.        ]\t -10.944693907324337\t -1.3984593420568778\t -0.9659245702179993\n",
            "14 \t [-1.11773525 12.47287213]\t -34.747016403890505\t -1.3984593420568778\t -0.9566186939430835\n",
            "15 \t [-1.3355648  0.       ]\t -82.06148662743385\t -1.3984593420568778\t -0.84806729759093\n",
            "16 \t [6.07837927 5.59283331]\t -39.596873618737774\t -1.3984593420568778\t -0.8409769825451983\n",
            "17 \t [10.          3.46543505]\t -2.1570269723322477\t -1.3984593420568778\t -0.9135923257757814\n",
            "18 \t [-1.20003504  6.9617067 ]\t -14.765597980472684\t -1.3984593420568778\t -0.8011895428426431\n",
            "19 \t [-5. 15.]\t -17.508299515778166\t -1.3984593420568778\t -0.7642424955873771\n",
            "20 \t [4.56199617 0.        ]\t -10.600307059835146\t -1.3984593420568778\t -0.8233190502900445\n"
          ]
        }
      ]
    },
    {
      "cell_type": "code",
      "metadata": {
        "colab": {
          "base_uri": "https://localhost:8080/"
        },
        "id": "-dgzIrUIGCGT",
        "outputId": "70da414c-c90a-49d9-c536-88333b9e97b0"
      },
      "source": [
        "### ESTIMATED GP ERM GRADIENTS\n",
        "\n",
        "np.random.seed(run_num_3)\n",
        "surrogate_approx_3 = GaussianProcess(cov_func, optimize=opt)\n",
        "\n",
        "approx_3 = GPGO_multi(surrogate_approx_3, Acquisition_new(util_grad_approx), objfunc, param)\n",
        "approx_3.run(init_evals=n_init, max_iter=iters)\n"
      ],
      "execution_count": 15,
      "outputs": [
        {
          "output_type": "stream",
          "name": "stdout",
          "text": [
            "Evaluation \t Proposed point \t  Current eval. \t  Best eval. \t         Max AcqFunc.\n",
            "init\t [ 3.26196854 10.62221734]\t -71.68783452098575\t -18.07886746449891\t    \n",
            "init\t [-0.63642892  7.66241408]\t -18.07886746449891\t -18.07886746449891\t    \n",
            "init\t [ 8.39420432 13.44439633]\t -141.98653529865882\t -18.07886746449891\t    \n",
            "init\t [-3.11622034  3.10864317]\t -83.31045707266176\t -18.07886746449891\t    \n",
            "init\t [-4.22799195  6.61214765]\t -76.5294170688398\t -18.07886746449891\t    \n",
            "1  \t [6.70472147 4.59545299]\t -30.726791812855225\t -18.07886746449891\t -1.0125658302513083\n",
            "\u001b[1m\u001b[92m2\u001b[0m\t \u001b[1m\u001b[92m[-3.89564496 13.38589781]\u001b[0m\t \u001b[1m\u001b[92m-3.6010193697779265\u001b[0m\t \u001b[1m\u001b[92m-3.6010193697779265\u001b[0m\t \u001b[1m\u001b[92m-1.0125658259845687\u001b[0m\n",
            "3  \t [2.67993826 0.82315258]\t -4.786478981860064\t -3.6010193697779265\t -1.01256354552244\n",
            "4  \t [10.  0.]\t -10.960889035651505\t -3.6010193697779265\t -1.0125648179178677\n",
            "5  \t [ 0.48224098 15.        ]\t -113.32534391424977\t -3.6010193697779265\t -1.012516289428922\n",
            "6  \t [10.          8.34455279]\t -30.47579050396284\t -3.6010193697779265\t -1.012505764380438\n",
            "7  \t [6.13855324 0.24744405]\t -20.225470093252376\t -3.6010193697779265\t -1.012565818483597\n",
            "8  \t [2.30262215 4.71348016]\t -6.450759131938096\t -3.6010193697779265\t -1.0104536161540665\n",
            "9  \t [4.82512617 6.83548306]\t -41.410097375109345\t -3.6010193697779265\t -1.01256582952527\n",
            "10 \t [-0.53805534  0.        ]\t -65.76906573222485\t -3.6010193697779265\t -1.0001459281806822\n",
            "11 \t [-1.51751729 11.19637883]\t -16.680022429234448\t -3.6010193697779265\t -0.9967396615277241\n",
            "12 \t [ 4.57455915 15.        ]\t -193.02232613840405\t -3.6010193697779265\t -0.9961465692590266\n",
            "13 \t [-5.         10.51185271]\t -57.28615229823568\t -3.6010193697779265\t -0.9866995984064262\n",
            "14 \t [6.9056416  9.81789662]\t -92.58965552616495\t -3.6010193697779265\t -0.9349773435854838\n",
            "\u001b[1m\u001b[92m15\u001b[0m\t \u001b[1m\u001b[92m[10.          3.50922864]\u001b[0m\t \u001b[1m\u001b[92m-2.1994520343691555\u001b[0m\t \u001b[1m\u001b[92m-2.1994520343691555\u001b[0m\t \u001b[1m\u001b[92m-0.984573445566441\u001b[0m\n",
            "16 \t [-5.  0.]\t -308.12909601160663\t -2.1994520343691555\t -0.9794101450716443\n",
            "17 \t [0.33542559 3.42561283]\t -23.290324556845572\t -2.1994520343691555\t -0.8106044370663229\n",
            "18 \t [4.09781753 2.78525191]\t -5.758045155970892\t -2.1994520343691555\t -0.8104916303040826\n",
            "19 \t [8.52951035 2.15901419]\t -4.108363497201267\t -2.1994520343691555\t -0.7135134572857431\n",
            "20 \t [10.          5.28523093]\t -7.151916741844492\t -2.1994520343691555\t -0.7950057718938432\n"
          ]
        }
      ]
    },
    {
      "cell_type": "code",
      "metadata": {
        "colab": {
          "base_uri": "https://localhost:8080/"
        },
        "id": "hOtG-2sCGCKS",
        "outputId": "13e10d61-6600-4618-d4ca-75d9986d1bbd"
      },
      "source": [
        "### ESTIMATED GP ERM GRADIENTS\n",
        "\n",
        "np.random.seed(run_num_4)\n",
        "surrogate_approx_4 = GaussianProcess(cov_func, optimize=opt)\n",
        "\n",
        "approx_4 = GPGO_multi(surrogate_approx_4, Acquisition_new(util_grad_approx), objfunc, param)\n",
        "approx_4.run(init_evals=n_init, max_iter=iters)\n"
      ],
      "execution_count": 16,
      "outputs": [
        {
          "output_type": "stream",
          "name": "stdout",
          "text": [
            "Evaluation \t Proposed point \t  Current eval. \t  Best eval. \t         Max AcqFunc.\n",
            "init\t [9.50544759 8.20848374]\t -32.51676744781521\t -7.247126865776948\t    \n",
            "init\t [ 9.5902654  10.72223991]\t -66.20566674364716\t -7.247126865776948\t    \n",
            "init\t [5.46593237 3.24134243]\t -20.90089401680587\t -7.247126865776948\t    \n",
            "init\t [9.64411682 0.09345383]\t -7.247126865776948\t -7.247126865776948\t    \n",
            "init\t [-1.20526456  6.52187299]\t -15.941376982363263\t -7.247126865776948\t    \n",
            "1  \t [ 1.25164457 13.57001383]\t -100.61648848019335\t -7.247126865776948\t -1.012565830247625\n",
            "2  \t [0.4772039 0.       ]\t -46.30149695149086\t -7.247126865776948\t -1.0125657048480399\n",
            "3  \t [-5.         10.47181678]\t -57.822275371249475\t -7.247126865776948\t -1.012564419558546\n",
            "4  \t [-4.88534628  1.98852913]\t -232.76751506847782\t -7.247126865776948\t -1.0125645912550554\n",
            "5  \t [3.92803179 8.48387454]\t -48.675792919740445\t -7.247126865776948\t -1.0125589074328154\n",
            "6  \t [ 6.50636481 15.        ]\t -212.1977779071447\t -7.247126865776948\t -1.0125379054063752\n",
            "7  \t [1.6767006  4.07773623]\t -9.131767176041365\t -7.247126865776948\t -1.0040108687767044\n",
            "\u001b[1m\u001b[92m8\u001b[0m\t \u001b[1m\u001b[92m[-3.63977708 15.        ]\u001b[0m\t \u001b[1m\u001b[92m-3.802072224884025\u001b[0m\t \u001b[1m\u001b[92m-3.802072224884025\u001b[0m\t \u001b[1m\u001b[92m-1.0122649809035855\u001b[0m\n",
            "\u001b[1m\u001b[92m9\u001b[0m\t \u001b[1m\u001b[92m[10.          3.97111721]\u001b[0m\t \u001b[1m\u001b[92m-2.880475612350752\u001b[0m\t \u001b[1m\u001b[92m-2.880475612350752\u001b[0m\t \u001b[1m\u001b[92m-1.0103325608815137\u001b[0m\n",
            "10 \t [-5.          6.40017379]\t -129.08714011362133\t -2.880475612350752\t -1.0010071835449912\n",
            "11 \t [4.46009341 0.        ]\t -9.767875504638091\t -2.880475612350752\t -0.9888238639903786\n",
            "12 \t [-0.87789274 10.09611282]\t -22.890153346577268\t -2.880475612350752\t -0.9948678282837642\n",
            "13 \t [-1.17954749  3.24513983]\t -36.816147986861345\t -2.880475612350752\t -0.913054035132057\n",
            "14 \t [ 5.9235846  11.19587733]\t -120.80852006980952\t -2.880475612350752\t -0.909306432021452\n",
            "15 \t [6.83359807 6.16624662]\t -43.279950554406156\t -2.880475612350752\t -0.935307721024834\n",
            "16 \t [10.         14.43299898]\t -132.5890094590499\t -2.880475612350752\t -0.8830795546031937\n",
            "17 \t [-2.42749591 12.97811817]\t -8.282262180767628\t -2.880475612350752\t -0.8649728288390135\n",
            "18 \t [7.13283825 0.        ]\t -17.828879832826356\t -2.880475612350752\t -0.8452834539912161\n",
            "19 \t [8.51554481 2.7220019 ]\t -4.923875166915619\t -2.880475612350752\t -0.7652854052701711\n",
            "20 \t [1.46473297 6.68329237]\t -18.509495825722787\t -2.880475612350752\t -0.7003710062329881\n"
          ]
        }
      ]
    },
    {
      "cell_type": "code",
      "metadata": {
        "colab": {
          "base_uri": "https://localhost:8080/"
        },
        "id": "JF_SxcEvGCOl",
        "outputId": "5cddf1ab-981f-4a0b-e74a-2492fa158526"
      },
      "source": [
        "### ESTIMATED GP ERM GRADIENTS\n",
        "\n",
        "np.random.seed(run_num_5)\n",
        "surrogate_approx_5 = GaussianProcess(cov_func, optimize=opt)\n",
        "\n",
        "approx_5 = GPGO_multi(surrogate_approx_5, Acquisition_new(util_grad_approx), objfunc, param)\n",
        "approx_5.run(init_evals=n_init, max_iter=iters)\n"
      ],
      "execution_count": 17,
      "outputs": [
        {
          "output_type": "stream",
          "name": "stdout",
          "text": [
            "Evaluation \t Proposed point \t  Current eval. \t  Best eval. \t         Max AcqFunc.\n",
            "init\t [-1.67010243 13.06098459]\t -25.390690545664548\t -25.311309190989615\t    \n",
            "init\t [-1.89921267 13.77916362]\t -25.311309190989615\t -25.311309190989615\t    \n",
            "init\t [2.32616783 9.17615794]\t -41.60147975414021\t -25.311309190989615\t    \n",
            "init\t [6.48861785 7.77626982]\t -63.81281921768236\t -25.311309190989615\t    \n",
            "init\t [-0.54799248  2.81581843]\t -34.966203644931994\t -25.311309190989615\t    \n",
            "\u001b[1m\u001b[92m1\u001b[0m\t \u001b[1m\u001b[92m[8.84124421 0.03321319]\u001b[0m\t \u001b[1m\u001b[92m-5.96108856337545\u001b[0m\t \u001b[1m\u001b[92m-5.96108856337545\u001b[0m\t \u001b[1m\u001b[92m-1.0125658302511973\u001b[0m\n",
            "2  \t [ 8.39476442 14.47736321]\t -167.21523769473345\t -5.96108856337545\t -1.0125658297184557\n",
            "3  \t [-5.          8.51988422]\t -87.84889061009333\t -5.96108856337545\t -1.0125650914209394\n",
            "4  \t [-5.  0.]\t -308.12909601160663\t -5.96108856337545\t -1.0125562909288441\n",
            "5  \t [3.88782405 0.        ]\t -6.064787797048776\t -5.96108856337545\t -1.0125474769675202\n",
            "6  \t [ 3.02988413 15.        ]\t -160.13308160255903\t -5.96108856337545\t -1.0125152835470141\n",
            "\u001b[1m\u001b[92m7\u001b[0m\t \u001b[1m\u001b[92m[10.          4.33636878]\u001b[0m\t \u001b[1m\u001b[92m-3.7211286928829486\u001b[0m\t \u001b[1m\u001b[92m-3.7211286928829486\u001b[0m\t \u001b[1m\u001b[92m-1.0123772203429975\u001b[0m\n",
            "8  \t [3.80135437 4.09020407]\t -7.581774220654957\t -3.7211286928829486\t -1.0112390009261354\n",
            "9  \t [10.         10.16732659]\t -53.271337887198655\t -3.7211286928829486\t -1.0091085909014088\n",
            "10 \t [-1.05339964  6.849011  ]\t -15.691990553234659\t -3.7211286928829486\t -1.00469995409546\n",
            "11 \t [-5.          4.41575409]\t -175.83767067545463\t -3.7211286928829486\t -1.001569289201442\n",
            "12 \t [6.99776279 2.9219275 ]\t -20.257192405202566\t -3.7211286928829486\t -0.9963860862337315\n",
            "13 \t [ 5.43140134 11.54549933]\t -124.04559564801153\t -3.7211286928829486\t -0.98330804262194\n",
            "14 \t [-5. 15.]\t -17.508299515778166\t -3.7211286928829486\t -0.9889401621391869\n",
            "15 \t [1.0387227 0.       ]\t -34.997387482179384\t -3.7211286928829486\t -0.9297859602959379\n",
            "16 \t [-1.30762416  9.9504955 ]\t -15.215349879840346\t -3.7211286928829486\t -0.9149646246660113\n",
            "17 \t [10.          6.70241493]\t -15.629132596127667\t -3.7211286928829486\t -0.8919919588017774\n",
            "18 \t [-5.         12.01026525]\t -39.526065133068926\t -3.7211286928829486\t -0.8810024521292014\n",
            "19 \t [1.74441958 5.72392955]\t -12.781299240950197\t -3.7211286928829486\t -0.8652791958304398\n",
            "20 \t [6.30328354 0.        ]\t -20.811696096634183\t -3.7211286928829486\t -0.8036331225006266\n"
          ]
        }
      ]
    },
    {
      "cell_type": "code",
      "metadata": {
        "colab": {
          "base_uri": "https://localhost:8080/"
        },
        "id": "-kDxZtJsGCR3",
        "outputId": "9a1a8920-fb59-4cf7-d0e2-ba0869f9d4e6"
      },
      "source": [
        "### ESTIMATED GP ERM GRADIENTS\n",
        "\n",
        "np.random.seed(run_num_6)\n",
        "surrogate_approx_6 = GaussianProcess(cov_func, optimize=opt)\n",
        "\n",
        "approx_6 = GPGO_multi(surrogate_approx_6, Acquisition_new(util_grad_approx), objfunc, param)\n",
        "approx_6.run(init_evals=n_init, max_iter=iters)\n"
      ],
      "execution_count": 18,
      "outputs": [
        {
          "output_type": "stream",
          "name": "stdout",
          "text": [
            "Evaluation \t Proposed point \t  Current eval. \t  Best eval. \t         Max AcqFunc.\n",
            "init\t [8.39290227 4.97969708]\t -15.553860636684597\t -15.31731051317483\t    \n",
            "init\t [7.31843685 0.62544939]\t -15.31731051317483\t -15.31731051317483\t    \n",
            "init\t [-3.3851498   8.92578096]\t -16.222288919361837\t -15.31731051317483\t    \n",
            "init\t [2.94726043 6.28211143]\t -15.406373581304088\t -15.31731051317483\t    \n",
            "init\t [0.03111774 9.33779148]\t -31.07053245856209\t -15.31731051317483\t    \n",
            "1  \t [ 9.64829531 12.55362889]\t -98.32295673962142\t -15.31731051317483\t -1.0125658302505929\n",
            "2  \t [-1.82404332  0.        ]\t -94.69665209951235\t -15.31731051317483\t -1.0125658302511715\n",
            "3  \t [ 4.34724927 14.59608757]\t -177.48889452505895\t -15.31731051317483\t -1.0125658302513083\n",
            "4  \t [-2.43400023 14.52854457]\t -17.830335105271345\t -15.31731051317483\t -1.012564763342617\n",
            "5  \t [-5.         4.2293675]\t -180.63332290289227\t -15.31731051317483\t -1.0125221010799963\n",
            "\u001b[1m\u001b[92m6\u001b[0m\t \u001b[1m\u001b[92m[2.86369317 1.58799415]\u001b[0m\t \u001b[1m\u001b[92m-1.6011406937656645\u001b[0m\t \u001b[1m\u001b[92m-1.6011406937656645\u001b[0m\t \u001b[1m\u001b[92m-1.012224700610224\u001b[0m\n",
            "7  \t [5.85660707 9.56358973]\t -90.20601409873765\t -1.6011406937656645\t -1.0119654611389302\n",
            "8  \t [-0.40476584  4.29033311]\t -24.467009867582885\t -1.6011406937656645\t -1.0078985159901797\n",
            "9  \t [ 0.18638758 12.6865283 ]\t -68.1378550124482\t -1.6011406937656645\t -1.01256580059383\n",
            "10 \t [ 2.87837109 10.91208968]\t -71.67324123034756\t -1.6011406937656645\t -1.012565733509488\n",
            "11 \t [10.          8.30392501]\t -30.043406639955485\t -1.6011406937656645\t -1.0022569195445765\n",
            "12 \t [-5.         12.11662465]\t -38.43611211011171\t -1.6011406937656645\t -0.9944678755799894\n",
            "13 \t [6.37355446 6.82019858]\t -52.23864003692108\t -1.6011406937656645\t -1.012565825039308\n",
            "14 \t [4.93912685 3.20355095]\t -15.817982208458035\t -1.6011406937656645\t -0.9736589294578257\n",
            "15 \t [10.          2.13327275]\t -2.69949066728753\t -1.6011406937656645\t -0.9539287445869941\n",
            "16 \t [4.03344927 0.        ]\t -6.80008232052667\t -1.6011406937656645\t -0.9226285990086214\n",
            "17 \t [-5.  0.]\t -308.12909601160663\t -1.6011406937656645\t -0.8388294819772821\n",
            "18 \t [1.37909918 1.55591843]\t -18.053845793854677\t -1.6011406937656645\t -0.8263714074040309\n",
            "19 \t [-1.97150904  6.64303374]\t -15.235514126590905\t -1.6011406937656645\t -0.7244046022358565\n",
            "20 \t [10.  0.]\t -10.960889035651505\t -1.6011406937656645\t -0.8436589334399854\n"
          ]
        }
      ]
    },
    {
      "cell_type": "code",
      "metadata": {
        "colab": {
          "base_uri": "https://localhost:8080/"
        },
        "id": "fKB8MCD_GCVI",
        "outputId": "68f7e5c5-7a24-4824-8aa3-eaf2f65ee9ca"
      },
      "source": [
        "### ESTIMATED GP ERM GRADIENTS\n",
        "\n",
        "np.random.seed(run_num_7)\n",
        "surrogate_approx_7 = GaussianProcess(cov_func, optimize=opt)\n",
        "\n",
        "approx_7 = GPGO_multi(surrogate_approx_7, Acquisition_new(util_grad_approx), objfunc, param)\n",
        "approx_7.run(init_evals=n_init, max_iter=iters)\n"
      ],
      "execution_count": 19,
      "outputs": [
        {
          "output_type": "stream",
          "name": "stdout",
          "text": [
            "Evaluation \t Proposed point \t  Current eval. \t  Best eval. \t         Max AcqFunc.\n",
            "init\t [-3.85537566 11.69878188]\t -8.299317850233932\t -5.211335324193094\t    \n",
            "init\t [ 1.57613847 10.85197767]\t -59.50408380701259\t -5.211335324193094\t    \n",
            "init\t [9.66984268 8.07743806]\t -29.714921414987273\t -5.211335324193094\t    \n",
            "init\t [2.51680695 1.080767  ]\t -5.211335324193094\t -5.211335324193094\t    \n",
            "init\t [-0.9734153   7.49823751]\t -15.431057204948033\t -5.211335324193094\t    \n",
            "1  \t [-4.97859679  1.38393519]\t -260.3293952774437\t -5.211335324193094\t -1.0125658302513083\n",
            "2  \t [ 7.42679792 14.12713902]\t -178.37635728719692\t -5.211335324193094\t -1.0125658194282758\n",
            "3  \t [8.08940775 0.35854539]\t -9.249625108410735\t -5.211335324193094\t -1.0125656203796176\n",
            "4  \t [-3.39684884  5.54228873]\t -54.79871094423047\t -5.211335324193094\t -1.0125658302513083\n",
            "5  \t [4.4720934  5.93920773]\t -27.723638017330405\t -5.211335324193094\t -1.0125610029830903\n",
            "6  \t [-0.88698611 15.        ]\t -72.11656179914581\t -5.211335324193094\t -1.012287555036006\n",
            "\u001b[1m\u001b[92m7\u001b[0m\t \u001b[1m\u001b[92m[10.          3.80989436]\u001b[0m\t \u001b[1m\u001b[92m-2.5942892046191437\u001b[0m\t \u001b[1m\u001b[92m-2.5942892046191437\u001b[0m\t \u001b[1m\u001b[92m-1.0105449866706206\u001b[0m\n",
            "8  \t [0.56401268 3.91273687]\t -19.629539132238786\t -2.5942892046191437\t -1.004196786513593\n",
            "9  \t [5.84278452 9.85142892]\t -95.08033287155158\t -2.5942892046191437\t -1.0071670301597806\n",
            "10 \t [-0.73680624  0.        ]\t -69.56958970729161\t -2.5942892046191437\t -1.0036461602972646\n",
            "11 \t [ 3.2115937 15.       ]\t -163.723169680588\t -2.5942892046191437\t -1.0021804874774038\n",
            "12 \t [-5. 15.]\t -17.508299515778166\t -2.5942892046191437\t -1.0028033342015628\n",
            "13 \t [5.51304597 2.41535841]\t -18.488331990843175\t -2.5942892046191437\t -0.9849063729025289\n",
            "14 \t [-5.          8.85119239]\t -82.21544478935903\t -2.5942892046191437\t -0.9725478836572654\n",
            "15 \t [10.         11.37771393]\t -72.0797008605185\t -2.5942892046191437\t -0.9347741060457597\n",
            "16 \t [7.91812956 5.72760225]\t -27.279436439429393\t -2.5942892046191437\t -1.0125647284854744\n",
            "17 \t [1.86167452 7.39359238]\t -22.52495197310718\t -2.5942892046191437\t -0.8078200292495876\n",
            "18 \t [10.          1.85996861]\t -3.2495622210939192\t -2.5942892046191437\t -0.785962406817206\n",
            "19 \t [-1.66568399 10.49359954]\t -11.292970511709221\t -2.5942892046191437\t -0.7824997990953368\n",
            "20 \t [4.60619179 0.        ]\t -10.970090082845712\t -2.5942892046191437\t -0.7477785368358445\n"
          ]
        }
      ]
    },
    {
      "cell_type": "code",
      "metadata": {
        "colab": {
          "base_uri": "https://localhost:8080/"
        },
        "id": "4unvifF-GCXp",
        "outputId": "c2d3ce98-60f4-4acd-a8ce-bbe682cae1ea"
      },
      "source": [
        "### ESTIMATED GP ERM GRADIENTS\n",
        "\n",
        "np.random.seed(run_num_8)\n",
        "surrogate_approx_8 = GaussianProcess(cov_func, optimize=opt)\n",
        "\n",
        "approx_8 = GPGO_multi(surrogate_approx_8, Acquisition_new(util_grad_approx), objfunc, param)\n",
        "approx_8.run(init_evals=n_init, max_iter=iters)\n"
      ],
      "execution_count": 20,
      "outputs": [
        {
          "output_type": "stream",
          "name": "stdout",
          "text": [
            "Evaluation \t Proposed point \t  Current eval. \t  Best eval. \t         Max AcqFunc.\n",
            "init\t [ 8.10144104 14.52810994]\t -175.17297136347514\t -15.416245468470875\t    \n",
            "init\t [8.0379181  7.96283537]\t -49.32173799887473\t -15.416245468470875\t    \n",
            "init\t [-1.50907508  0.17098206]\t -83.26753461673219\t -15.416245468470875\t    \n",
            "init\t [1.45703227 6.0352704 ]\t -15.416245468470875\t -15.416245468470875\t    \n",
            "init\t [2.84012007 7.17587694]\t -22.49093277852639\t -15.416245468470875\t    \n",
            "\u001b[1m\u001b[92m1\u001b[0m\t \u001b[1m\u001b[92m[9.77124156 0.43098073]\u001b[0m\t \u001b[1m\u001b[92m-6.499298445992174\u001b[0m\t \u001b[1m\u001b[92m-6.499298445992174\u001b[0m\t \u001b[1m\u001b[92m-1.012565830249782\u001b[0m\n",
            "2  \t [-4.87537438 11.82874897]\t -36.57081146531108\t -6.499298445992174\t -1.0125658302513079\n",
            "3  \t [-5.          6.18626546]\t -133.74783473476617\t -6.499298445992174\t -1.0125645442626428\n",
            "4  \t [ 2.00490905 12.66503403]\t -93.13466791376042\t -6.499298445992174\t -1.0125645150333198\n",
            "5  \t [4.49710607 1.43886209]\t -7.949028807737028\t -6.499298445992174\t -1.012563550885105\n",
            "6  \t [-1.26517273  9.27145837]\t -13.993955682370324\t -6.499298445992174\t -1.0106037565475379\n",
            "7  \t [-1.94955071 15.        ]\t -35.67644440398236\t -6.499298445992174\t -1.010897405160614\n",
            "\u001b[1m\u001b[92m8\u001b[0m\t \u001b[1m\u001b[92m[10.          4.17864472]\u001b[0m\t \u001b[1m\u001b[92m-3.3253832158765615\u001b[0m\t \u001b[1m\u001b[92m-3.3253832158765615\u001b[0m\t \u001b[1m\u001b[92m-1.0093167855233518\u001b[0m\n",
            "9  \t [6.31163743 4.35983898]\t -30.218191139825926\t -3.3253832158765615\t -1.0001629767369753\n",
            "10 \t [-5.          1.94151748]\t -245.15946674831835\t -3.3253832158765615\t -0.9965561299897432\n",
            "11 \t [ 5.6221002  10.93339924]\t -113.57969734805158\t -3.3253832158765615\t -0.9908971750943982\n",
            "12 \t [-1.30016533  4.20477706]\t -29.236914414005916\t -3.3253832158765615\t -0.9782625007962552\n",
            "13 \t [1.73961555 2.44297043]\t -9.777396468881001\t -3.3253832158765615\t -0.9500423953528134\n",
            "14 \t [10.         11.01239807]\t -66.09429323859067\t -3.3253832158765615\t -0.9735572311019605\n",
            "15 \t [6.96783482 0.        ]\t -18.836133679954013\t -3.3253832158765615\t -0.941733927564828\n",
            "16 \t [-5. 15.]\t -17.508299515778166\t -3.3253832158765615\t -0.8535371732010187\n",
            "17 \t [ 4.45120178 15.        ]\t -190.43931779202842\t -3.3253832158765615\t -0.8684737292630748\n",
            "18 \t [2.24291016 0.        ]\t -13.5088300324901\t -3.3253832158765615\t -0.8171322980887444\n",
            "19 \t [-1.53429836 11.94317177]\t -20.5721512064615\t -3.3253832158765615\t -0.7576634797917126\n",
            "20 \t [1.38886283 9.45403229]\t -41.06265767142653\t -3.3253832158765615\t -0.6452175196079364\n"
          ]
        }
      ]
    },
    {
      "cell_type": "code",
      "metadata": {
        "colab": {
          "base_uri": "https://localhost:8080/"
        },
        "id": "85OIXcg7GCaJ",
        "outputId": "cd006797-a906-44f4-f63e-3482eda2a7c8"
      },
      "source": [
        "### ESTIMATED GP ERM GRADIENTS\n",
        "\n",
        "np.random.seed(run_num_9)\n",
        "surrogate_approx_9 = GaussianProcess(cov_func, optimize=opt)\n",
        "\n",
        "approx_9 = GPGO_multi(surrogate_approx_9, Acquisition_new(util_grad_approx), objfunc, param)\n",
        "approx_9.run(init_evals=n_init, max_iter=iters)\n"
      ],
      "execution_count": 21,
      "outputs": [
        {
          "output_type": "stream",
          "name": "stdout",
          "text": [
            "Evaluation \t Proposed point \t  Current eval. \t  Best eval. \t         Max AcqFunc.\n",
            "init\t [-4.84438769  7.52811888]\t -96.15564306553264\t -3.4640248583909496\t    \n",
            "init\t [2.4365994  2.00744293]\t -3.4640248583909496\t -3.4640248583909496\t    \n",
            "init\t [-2.86833372  3.27838013]\t -70.46930174488207\t -3.4640248583909496\t    \n",
            "init\t [1.27762271 3.72151753]\t -12.982825924833865\t -3.4640248583909496\t    \n",
            "init\t [-3.73910523  5.1824796 ]\t -75.58547400560856\t -3.4640248583909496\t    \n",
            "1  \t [ 7.05609655 14.75038872]\t -200.4388688685465\t -3.4640248583909496\t -1.0125658302513083\n",
            "2  \t [-0.46054038 14.56197292]\t -79.4666617606301\t -3.4640248583909496\t -1.012565830220583\n",
            "3  \t [8.28747407 1.2035024 ]\t -6.196385269800155\t -3.4640248583909496\t -1.0125658093220398\n",
            "4  \t [5.09988923 9.09295299]\t -75.24675017972764\t -3.4640248583909496\t -1.0125648685944704\n",
            "5  \t [10.          6.16249821]\t -11.925843837802418\t -3.4640248583909496\t -1.0125621218330914\n",
            "6  \t [4.22157467e-05 9.30120175e+00]\t -30.50048925898127\t -3.4640248583909496\t -1.0124477469034363\n",
            "7  \t [-5.         12.67803064]\t -33.057806478427366\t -3.4640248583909496\t -1.012387740833258\n",
            "8  \t [10.         10.65342543]\t -60.472813879659356\t -3.4640248583909496\t -1.0122099508457545\n",
            "9  \t [5.7490845  4.43494484]\t -29.254644247798986\t -3.4640248583909496\t -1.011442835332731\n",
            "10 \t [-0.29860527  0.        ]\t -61.25530198569673\t -3.4640248583909496\t -1.0057578747883436\n",
            "11 \t [4.9423023 0.       ]\t -13.851292351758632\t -3.4640248583909496\t -1.0046373386392806\n",
            "12 \t [-5.  0.]\t -308.12909601160663\t -3.4640248583909496\t -1.003091931367504\n",
            "13 \t [ 3.14372009 12.69625906]\t -109.03511982873985\t -3.4640248583909496\t -0.998124733084437\n",
            "14 \t [2.34076744 6.61679495]\t -16.524804608508475\t -3.4640248583909496\t -0.9417338465203222\n",
            "\u001b[1m\u001b[92m15\u001b[0m\t \u001b[1m\u001b[92m[10.          3.16975146]\u001b[0m\t \u001b[1m\u001b[92m-1.9709611872908628\u001b[0m\t \u001b[1m\u001b[92m-1.9709611872908628\u001b[0m\t \u001b[1m\u001b[92m-0.9159711363762765\u001b[0m\n",
            "16 \t [-2.3099806  11.23751865]\t -4.291129320568927\t -1.9709611872908628\t -0.8220525811911449\n",
            "17 \t [-0.54425231  6.18240735]\t -18.736123061488207\t -1.9709611872908628\t -0.7766891976018032\n",
            "18 \t [7.73175915 7.20897937]\t -44.71554543797546\t -1.9709611872908628\t -0.7416263341528032\n",
            "19 \t [10.  0.]\t -10.960889035651505\t -1.9709611872908628\t -0.8208380673046725\n",
            "20 \t [8.59366412 3.6851179 ]\t -6.847149837096893\t -1.9709611872908628\t -0.6312439249958435\n"
          ]
        }
      ]
    },
    {
      "cell_type": "code",
      "metadata": {
        "colab": {
          "base_uri": "https://localhost:8080/"
        },
        "id": "QQBR-qJPGCcp",
        "outputId": "04ab377d-c719-4763-adad-5edbf28920b9"
      },
      "source": [
        "### ESTIMATED GP ERM GRADIENTS\n",
        "\n",
        "np.random.seed(run_num_10)\n",
        "surrogate_approx_10 = GaussianProcess(cov_func, optimize=opt)\n",
        "\n",
        "approx_10 = GPGO_multi(surrogate_approx_10, Acquisition_new(util_grad_approx), objfunc, param)\n",
        "approx_10.run(init_evals=n_init, max_iter=iters)\n"
      ],
      "execution_count": 22,
      "outputs": [
        {
          "output_type": "stream",
          "name": "stdout",
          "text": [
            "Evaluation \t Proposed point \t  Current eval. \t  Best eval. \t         Max AcqFunc.\n",
            "init\t [6.56980965 0.31127924]\t -19.863985024602144\t -2.710610964564512\t    \n",
            "init\t [ 4.50472352 11.23205824]\t -103.66999147252169\t -2.710610964564512\t    \n",
            "init\t [2.47760518 3.37194968]\t -2.710610964564512\t -2.710610964564512\t    \n",
            "init\t [-2.02905703 11.40796068]\t -8.463930835255017\t -2.710610964564512\t    \n",
            "init\t [-2.46333745  1.32509721]\t -90.49481266026973\t -2.710610964564512\t    \n",
            "1  \t [ 9.16391068 14.81438212]\t -158.2412724465548\t -2.710610964564512\t -1.0125658302511882\n",
            "2  \t [9.65621089 6.61160737]\t -16.1339423373336\t -2.710610964564512\t -1.0125658302513083\n",
            "3  \t [-3.43070383  6.59407857]\t -41.58407101130534\t -2.710610964564512\t -1.012565829750033\n",
            "4  \t [-5.         14.87293215]\t -18.080332001739464\t -2.710610964564512\t -1.0125645342843703\n",
            "5  \t [ 0.92449322 15.        ]\t -123.13234915138221\t -2.710610964564512\t -1.012475570532574\n",
            "6  \t [1.30728865 7.43276202]\t -23.342263281989574\t -2.710610964564512\t -1.0122128978763623\n",
            "7  \t [5.49073155 5.83993012]\t -38.681772916454804\t -2.710610964564512\t -1.0112655385523783\n",
            "\u001b[1m\u001b[92m8\u001b[0m\t \u001b[1m\u001b[92m[10.          2.46600586]\u001b[0m\t \u001b[1m\u001b[92m-2.2314567613507785\u001b[0m\t \u001b[1m\u001b[92m-2.2314567613507785\u001b[0m\t \u001b[1m\u001b[92m-1.0101782345833377\u001b[0m\n",
            "9  \t [2.04115415 0.        ]\t -16.469904693251507\t -2.2314567613507785\t -1.0095350550932667\n",
            "10 \t [10.         10.45460193]\t -57.470158649621006\t -2.2314567613507785\t -1.0074271366762553\n",
            "11 \t [-5.          9.84094633]\t -66.6935482947224\t -2.2314567613507785\t -1.0125595283990627\n",
            "12 \t [ 5.05846243 15.        ]\t -202.18801793241195\t -2.2314567613507785\t -0.9749408765526122\n",
            "13 \t [10.  0.]\t -10.960889035651505\t -2.2314567613507785\t -0.9668833586290279\n",
            "14 \t [7.92585804 3.43696757]\t -13.058879436661686\t -2.2314567613507785\t -0.9162929188850256\n",
            "15 \t [ 0.78249275 10.84709326]\t -52.97003764846338\t -2.2314567613507785\t -0.9243493474111673\n",
            "16 \t [-0.21682068  4.37688407]\t -23.275033611127903\t -2.2314567613507785\t -0.9555080210987179\n",
            "17 \t [-5.          3.69168584]\t -194.85697401000883\t -2.2314567613507785\t -0.9006810121726839\n",
            "18 \t [7.08402973 8.68873333]\t -72.64025620164745\t -2.2314567613507785\t -0.8543782517915467\n",
            "19 \t [4.46773868 2.50620041]\t -8.752096166068508\t -2.2314567613507785\t -0.8524352598219329\n",
            "20 \t [-2.39878717 14.00865606]\t -14.812706028157445\t -2.2314567613507785\t -0.7531955792119607\n"
          ]
        }
      ]
    },
    {
      "cell_type": "code",
      "metadata": {
        "colab": {
          "base_uri": "https://localhost:8080/"
        },
        "id": "JS8ejeQ2GCfi",
        "outputId": "a8cd4479-7af9-455f-8222-340d9cc3a25d"
      },
      "source": [
        "### ESTIMATED GP ERM GRADIENTS\n",
        "\n",
        "np.random.seed(run_num_11)\n",
        "surrogate_approx_11 = GaussianProcess(cov_func, optimize=opt)\n",
        "\n",
        "approx_11 = GPGO_multi(surrogate_approx_11, Acquisition_new(util_grad_approx), objfunc, param)\n",
        "approx_11.run(init_evals=n_init, max_iter=iters)\n"
      ],
      "execution_count": 23,
      "outputs": [
        {
          "output_type": "stream",
          "name": "stdout",
          "text": [
            "Evaluation \t Proposed point \t  Current eval. \t  Best eval. \t         Max AcqFunc.\n",
            "init\t [-2.29595467  0.29212862]\t -104.49282729548965\t -22.37435843952312\t    \n",
            "init\t [ 1.9482779  10.87400894]\t -62.47758067812407\t -22.37435843952312\t    \n",
            "init\t [1.30305407 7.28140647]\t -22.37435843952312\t -22.37435843952312\t    \n",
            "init\t [-4.80828778  7.31057411]\t -97.94503054415523\t -22.37435843952312\t    \n",
            "init\t [ 9.12709979 12.76192634]\t -111.62900800771942\t -22.37435843952312\t    \n",
            "\u001b[1m\u001b[92m1\u001b[0m\t \u001b[1m\u001b[92m[6.94653631 0.95529646]\u001b[0m\t \u001b[1m\u001b[92m-17.615403152614682\u001b[0m\t \u001b[1m\u001b[92m-17.615403152614682\u001b[0m\t \u001b[1m\u001b[92m-1.0125658302513068\u001b[0m\n",
            "\u001b[1m\u001b[92m2\u001b[0m\t \u001b[1m\u001b[92m[9.95799301 6.93425723]\u001b[0m\t \u001b[1m\u001b[92m-17.51361722617643\u001b[0m\t \u001b[1m\u001b[92m-17.51361722617643\u001b[0m\t \u001b[1m\u001b[92m-1.0125648639219804\u001b[0m\n",
            "3  \t [-2.04991594 15.        ]\t -32.5573558333363\t -17.51361722617643\t -1.0125646020555865\n",
            "\u001b[1m\u001b[92m4\u001b[0m\t \u001b[1m\u001b[92m[2.40807729 2.49081214]\u001b[0m\t \u001b[1m\u001b[92m-3.048554877803756\u001b[0m\t \u001b[1m\u001b[92m-3.048554877803756\u001b[0m\t \u001b[1m\u001b[92m-1.0124343062324916\u001b[0m\n",
            "5  \t [ 4.54021256 15.        ]\t -192.3105176444676\t -3.048554877803756\t -1.0123681853483908\n",
            "6  \t [5.61068086 5.52610486]\t -36.77546338781394\t -3.048554877803756\t -1.0121754150172761\n",
            "7  \t [-5.         11.91405692]\t -40.53148040930228\t -3.048554877803756\t -1.0108318998383443\n",
            "8  \t [6.09623058 9.61620598]\t -91.98501352909913\t -3.048554877803756\t -1.006453229037236\n",
            "9  \t [-1.43281956  4.48387005]\t -27.81844337198938\t -3.048554877803756\t -1.0045107517379535\n",
            "\u001b[1m\u001b[92m10\u001b[0m\t \u001b[1m\u001b[92m[10.          3.06328901]\u001b[0m\t \u001b[1m\u001b[92m-1.946780661988866\u001b[0m\t \u001b[1m\u001b[92m-1.946780661988866\u001b[0m\t \u001b[1m\u001b[92m-1.0045056958278797\u001b[0m\n",
            "11 \t [-1.74219412  9.91262457]\t -8.921366243705632\t -1.946780661988866\t -0.9817237517312672\n",
            "12 \t [-5.          3.20437174]\t -208.24771362510802\t -1.946780661988866\t -0.9892810146302509\n",
            "13 \t [10.  0.]\t -10.960889035651505\t -1.946780661988866\t -0.9772733053100733\n",
            "14 \t [3.43996753 0.        ]\t -5.040289968947868\t -1.946780661988866\t -0.9825960754349996\n",
            "15 \t [ 0.92636857 14.29128427]\t -108.9832534372417\t -1.946780661988866\t -0.8404707817339994\n",
            "16 \t [1.14867885 0.        ]\t -32.78927052619204\t -1.946780661988866\t -0.8247035452225399\n",
            "17 \t [8.41200276 3.9790184 ]\t -9.869827007947517\t -1.946780661988866\t -0.8183216980687624\n",
            "18 \t [2.3235637  4.45606271]\t -5.557293802172393\t -1.946780661988866\t -0.8077166402491963\n",
            "19 \t [-5. 15.]\t -17.508299515778166\t -1.946780661988866\t -0.8069223440560478\n",
            "20 \t [4.47573425 2.4590865 ]\t -8.737974129145519\t -1.946780661988866\t -0.7709253731520648\n"
          ]
        }
      ]
    },
    {
      "cell_type": "code",
      "metadata": {
        "colab": {
          "base_uri": "https://localhost:8080/"
        },
        "id": "DXwjUVZ4GCii",
        "outputId": "a1933e35-d2e9-4295-f426-bb66306bb299"
      },
      "source": [
        "### ESTIMATED GP ERM GRADIENTS\n",
        "\n",
        "np.random.seed(run_num_12)\n",
        "surrogate_approx_12 = GaussianProcess(cov_func, optimize=opt)\n",
        "\n",
        "approx_12 = GPGO_multi(surrogate_approx_12, Acquisition_new(util_grad_approx), objfunc, param)\n",
        "approx_12.run(init_evals=n_init, max_iter=iters)\n"
      ],
      "execution_count": 24,
      "outputs": [
        {
          "output_type": "stream",
          "name": "stdout",
          "text": [
            "Evaluation \t Proposed point \t  Current eval. \t  Best eval. \t         Max AcqFunc.\n",
            "init\t [-2.68755736 11.10074545]\t -1.3827702760021356\t -0.5499315281120278\t    \n",
            "init\t [-1.05027477  8.0060909 ]\t -14.81231853080056\t -0.5499315281120278\t    \n",
            "init\t [-4.78137556 13.78120512]\t -18.401131000214548\t -0.5499315281120278\t    \n",
            "init\t [8.51072281 0.50132141]\t -5.855172364344769\t -0.5499315281120278\t    \n",
            "init\t [9.35424004 2.05813982]\t -0.5499315281120278\t -0.5499315281120278\t    \n",
            "1  \t [10.          4.44128644]\t -4.011933380719501\t -0.5499315281120278\t -1.0129465536453792\n",
            "2  \t [ 8.50155249 13.79797306]\t -148.00655208378976\t -0.5499315281120278\t -1.0125658302513083\n",
            "3  \t [-4.8799499   0.15657603]\t -290.0404981832191\t -0.5499315281120278\t -1.0125658302513083\n",
            "4  \t [4.43357748 8.80648668]\t -60.98977838199343\t -0.5499315281120278\t -1.012564869822418\n",
            "5  \t [3.16620827 0.61264314]\t -3.1010288388020264\t -0.5499315281120278\t -1.012564771026435\n",
            "6  \t [ 1.69015014 13.9447129 ]\t -114.24005453920299\t -0.5499315281120278\t -1.0125645945360717\n",
            "7  \t [-0.4025978   3.26350877]\t -30.382044990956643\t -0.5499315281120278\t -1.0124447462504143\n",
            "8  \t [10.          8.84134293]\t -36.02989553790462\t -0.5499315281120278\t -1.012425433181137\n",
            "9  \t [-5.          5.57505353]\t -147.56941506886255\t -0.5499315281120278\t -1.0124236231230266\n",
            "10 \t [5.61238533 4.05869216]\t -26.0591580943728\t -0.5499315281120278\t -1.0122235003308067\n",
            "11 \t [-5.          9.81532336]\t -67.07067882425298\t -0.5499315281120278\t -0.9932238974326468\n",
            "12 \t [2.143643   5.77492965]\t -11.519122868963446\t -0.5499315281120278\t -0.9788826429053477\n",
            "13 \t [0.09745012 0.        ]\t -53.73379267204844\t -0.5499315281120278\t -0.9683410519373076\n",
            "14 \t [5.67325744 0.        ]\t -19.14458567873298\t -0.5499315281120278\t -0.9546701078647905\n",
            "15 \t [-1.88947998 15.        ]\t -37.59001970858136\t -0.5499315281120278\t -0.9440151339029552\n",
            "16 \t [-0.91886443 11.19795991]\t -28.977107449895648\t -0.5499315281120278\t -0.9326093350140321\n",
            "17 \t [ 5.04296995 12.32413832]\t -135.549063255491\t -0.5499315281120278\t -0.9165557224402605\n",
            "18 \t [2.78044836 2.75083048]\t -1.0487392424892938\t -0.5499315281120278\t -0.8094210915486201\n",
            "19 \t [7.56714689 6.60310858]\t -40.27145104545069\t -0.5499315281120278\t -0.9105226098639825\n",
            "20 \t [8.46032638 2.87940278]\t -5.733176870644543\t -0.5499315281120278\t -0.7532707933766936\n"
          ]
        }
      ]
    },
    {
      "cell_type": "code",
      "metadata": {
        "colab": {
          "base_uri": "https://localhost:8080/"
        },
        "id": "CphOPndPGClX",
        "outputId": "f6d66f0b-d702-4856-a2b6-9721b2964be3"
      },
      "source": [
        "### ESTIMATED GP ERM GRADIENTS\n",
        "\n",
        "np.random.seed(run_num_13)\n",
        "surrogate_approx_13 = GaussianProcess(cov_func, optimize=opt)\n",
        "\n",
        "approx_13 = GPGO_multi(surrogate_approx_13, Acquisition_new(util_grad_approx), objfunc, param)\n",
        "approx_13.run(init_evals=n_init, max_iter=iters)\n"
      ],
      "execution_count": 25,
      "outputs": [
        {
          "output_type": "stream",
          "name": "stdout",
          "text": [
            "Evaluation \t Proposed point \t  Current eval. \t  Best eval. \t         Max AcqFunc.\n",
            "init\t [6.66553616 3.5631183 ]\t -24.823670200298267\t -18.038943061558626\t    \n",
            "init\t [ 7.36417799 14.48623797]\t -188.7803334745195\t -18.038943061558626\t    \n",
            "init\t [9.58901671 6.80173871]\t -18.038943061558626\t -18.038943061558626\t    \n",
            "init\t [ 4.13563694 11.63289772]\t -104.87319703906111\t -18.038943061558626\t    \n",
            "init\t [ 4.62420017 10.83027344]\t -98.03271225790056\t -18.038943061558626\t    \n",
            "1  \t [-3.51870171  3.68338658]\t -91.63196166423945\t -18.038943061558626\t -1.0125658302513083\n",
            "\u001b[1m\u001b[92m2\u001b[0m\t \u001b[1m\u001b[92m[-3.06562888 11.40851515]\u001b[0m\t \u001b[1m\u001b[92m-0.8943531028899869\u001b[0m\t \u001b[1m\u001b[92m-0.8943531028899869\u001b[0m\t \u001b[1m\u001b[92m-1.0125658301195273\u001b[0m\n",
            "3  \t [2.3685613 0.       ]\t -11.859175693404021\t -0.8943531028899869\t -1.0125645987432472\n",
            "4  \t [1.73680198 5.92713917]\t -13.710957542040685\t -0.8943531028899869\t -1.0125592328200026\n",
            "5  \t [-0.26301224 15.        ]\t -92.75909151223124\t -0.8943531028899869\t -1.012552603923154\n",
            "6  \t [10.  0.]\t -10.960889035651505\t -0.8943531028899869\t -1.012517397291422\n",
            "7  \t [-5. 15.]\t -17.508299515778166\t -0.8943531028899869\t -1.0121429346589739\n",
            "8  \t [-0.22304301  9.62592143]\t -30.021287788448696\t -0.8943531028899869\t -1.010686959619679\n",
            "9  \t [-5.          8.29779684]\t -91.748087292661\t -0.8943531028899869\t -1.0120198920182994\n",
            "10 \t [10.         10.78928657]\t -62.57007498325491\t -0.8943531028899869\t -1.0090424850779387\n",
            "11 \t [-1.48911985  0.        ]\t -85.71789639678529\t -0.8943531028899869\t -1.0067335157388364\n",
            "12 \t [5.46361973 6.99033859]\t -50.53868596029025\t -0.8943531028899869\t -0.9903111328972152\n",
            "13 \t [10.          3.30740426]\t -2.0358290402057593\t -0.8943531028899869\t -0.9625119413561818\n",
            "14 \t [6.09813165 0.        ]\t -20.644945589120688\t -0.8943531028899869\t -0.9971103455674629\n",
            "15 \t [3.16631965 3.05176874]\t -1.034396227887651\t -0.8943531028899869\t -0.9521425909956003\n",
            "16 \t [0.57380598 3.0703084 ]\t -22.30366943438008\t -0.8943531028899869\t -0.9332809344375304\n",
            "17 \t [-5.         11.94217974]\t -40.235670972642836\t -0.8943531028899869\t -0.9023542270681365\n",
            "18 \t [-5.  0.]\t -308.12909601160663\t -0.8943531028899869\t -0.9514531138613128\n",
            "19 \t [-2.10763694 11.90078069]\t -8.980078188829628\t -0.8943531028899869\t -0.9603912560962127\n",
            "20 \t [-1.40881997  6.58484292]\t -15.211022387016417\t -0.8943531028899869\t -0.8979755881024425\n"
          ]
        }
      ]
    },
    {
      "cell_type": "code",
      "metadata": {
        "colab": {
          "base_uri": "https://localhost:8080/"
        },
        "id": "ojHTeARNGCoi",
        "outputId": "3f9310b6-ff31-4a0f-eaff-1540378e3da4"
      },
      "source": [
        "### ESTIMATED GP ERM GRADIENTS\n",
        "\n",
        "np.random.seed(run_num_14)\n",
        "surrogate_approx_14 = GaussianProcess(cov_func, optimize=opt)\n",
        "\n",
        "approx_14 = GPGO_multi(surrogate_approx_14, Acquisition_new(util_grad_approx), objfunc, param)\n",
        "approx_14.run(init_evals=n_init, max_iter=iters)\n"
      ],
      "execution_count": 26,
      "outputs": [
        {
          "output_type": "stream",
          "name": "stdout",
          "text": [
            "Evaluation \t Proposed point \t  Current eval. \t  Best eval. \t         Max AcqFunc.\n",
            "init\t [ 2.70915016 11.59747578]\t -81.58264375064097\t -1.4149920024014744\t    \n",
            "init\t [8.05641529 0.12070423]\t -10.148649076616518\t -1.4149920024014744\t    \n",
            "init\t [-0.35396112 14.36405609]\t -79.6056658956529\t -1.4149920024014744\t    \n",
            "init\t [2.69675068 4.77426637]\t -5.855607664288365\t -1.4149920024014744\t    \n",
            "init\t [3.08799906 3.31882414]\t -1.4149920024014744\t -1.4149920024014744\t    \n",
            "1  \t [-5.  0.]\t -308.1290960116068\t -1.4149920024014744\t -1.0125658302513083\n",
            "2  \t [-3.61083748  7.85924032]\t -32.481990179851884\t -1.4149920024014744\t -1.0125658300965146\n",
            "3  \t [8.4415984  6.61360555]\t -28.132050221972662\t -1.4149920024014744\t -1.0125658069714676\n",
            "4  \t [0.61707243 0.        ]\t -43.506647353554065\t -1.4149920024014744\t -1.0125240922576215\n",
            "5  \t [ 9.81482319 14.16972583]\t -129.85218172547337\t -1.4149920024014744\t -1.0125658302406546\n",
            "6  \t [-5. 15.]\t -17.508299515778166\t -1.4149920024014744\t -1.0121792015945656\n",
            "7  \t [ 5.3572922 15.       ]\t -206.7291945187916\t -1.4149920024014744\t -1.0091080472876626\n",
            "8  \t [-1.60011448  3.93523224]\t -34.143753502483435\t -1.4149920024014744\t -1.0112976148174477\n",
            "9  \t [ 7.06439517 10.48100107]\t -102.8862904189859\t -1.4149920024014744\t -1.0083634424436927\n",
            "10 \t [0.56303938 7.8165684 ]\t -25.257987859517733\t -1.4149920024014744\t -1.0069821073785916\n",
            "11 \t [6.09472838 3.27880272]\t -24.185432684859464\t -1.4149920024014744\t -1.00442917529145\n",
            "12 \t [10.          3.07164876]\t -1.9478592746796846\t -1.4149920024014744\t -0.9990150202735386\n",
            "13 \t [-3.60041849 11.62645112]\t -4.5537578504206575\t -1.4149920024014744\t -0.9956385793206738\n",
            "14 \t [4.46052372 0.        ]\t -9.771320723299574\t -1.4149920024014744\t -0.9916710358754992\n",
            "15 \t [4.47727912 7.39769936]\t -42.97405098748019\t -1.4149920024014744\t -0.9861635794214894\n",
            "16 \t [-1.09379995 10.66298005]\t -22.067992850558497\t -1.4149920024014744\t -0.9105472081242587\n",
            "17 \t [-5.          4.43383686]\t -175.37610565193543\t -1.4149920024014744\t -0.9711730067965132\n",
            "\u001b[1m\u001b[92m18\u001b[0m\t \u001b[1m\u001b[92m[2.84410025 2.24366512]\u001b[0m\t \u001b[1m\u001b[92m-0.8951632808062211\u001b[0m\t \u001b[1m\u001b[92m-0.8951632808062211\u001b[0m\t \u001b[1m\u001b[92m-0.716396840599676\u001b[0m\n",
            "19 \t [10.          9.18984358]\t -40.220711099559715\t -0.8951632808062211\t -0.7711377566675359\n",
            "20 \t [10.          1.38818038]\t -4.550642933998194\t -0.8951632808062211\t -0.7050720862120682\n"
          ]
        }
      ]
    },
    {
      "cell_type": "code",
      "metadata": {
        "colab": {
          "base_uri": "https://localhost:8080/"
        },
        "id": "vCJzn4vWGCs3",
        "outputId": "851d9fd8-55b6-44a5-f412-ace9e955dcfc"
      },
      "source": [
        "### ESTIMATED GP ERM GRADIENTS\n",
        "\n",
        "np.random.seed(run_num_15)\n",
        "surrogate_approx_15 = GaussianProcess(cov_func, optimize=opt)\n",
        "\n",
        "approx_15 = GPGO_multi(surrogate_approx_15, Acquisition_new(util_grad_approx), objfunc, param)\n",
        "approx_15.run(init_evals=n_init, max_iter=iters)\n"
      ],
      "execution_count": 27,
      "outputs": [
        {
          "output_type": "stream",
          "name": "stdout",
          "text": [
            "Evaluation \t Proposed point \t  Current eval. \t  Best eval. \t         Max AcqFunc.\n",
            "init\t [7.73226546 2.68343887]\t -12.768724532005583\t -12.768724532005583\t    \n",
            "init\t [-4.18455179  5.42307669]\t -95.39334176626551\t -12.768724532005583\t    \n",
            "init\t [-0.86898607  7.95000337]\t -16.419487782111716\t -12.768724532005583\t    \n",
            "init\t [-0.41121626  4.56711539]\t -23.250362743740954\t -12.768724532005583\t    \n",
            "init\t [-3.32388086  3.74848521]\t -80.99796277938532\t -12.768724532005583\t    \n",
            "1  \t [ 6.5655417  11.87699252]\t -134.95011349993544\t -12.768724532005583\t -1.0125658302513063\n",
            "2  \t [-4.77493765 13.49591113]\t -19.896906503438096\t -12.768724532005583\t -1.0125658297680067\n",
            "3  \t [ 0.49807252 15.        ]\t -113.70597669512716\t -12.768724532005583\t -1.0125641235934202\n",
            "\u001b[1m\u001b[92m4\u001b[0m\t \u001b[1m\u001b[92m[2.5472886 0.       ]\u001b[0m\t \u001b[1m\u001b[92m-9.795500118061007\u001b[0m\t \u001b[1m\u001b[92m-9.795500118061007\u001b[0m\t \u001b[1m\u001b[92m-1.0125632287534874\u001b[0m\n",
            "5  \t [10.          7.39585391]\t -21.24068736039279\t -9.795500118061007\t -1.0125568998225112\n",
            "6  \t [4.44268491 6.68491057]\t -34.54284958464767\t -9.795500118061007\t -1.01254667766032\n",
            "7  \t [ 2.13169934 10.67419957]\t -60.840626242423355\t -9.795500118061007\t -1.0092720825533537\n",
            "8  \t [-5.  0.]\t -308.12909601160663\t -9.795500118061007\t -1.007935783836414\n",
            "9  \t [10. 15.]\t -145.87219087939556\t -9.795500118061007\t -1.0117485627849792\n",
            "10 \t [10.  0.]\t -10.960889035651505\t -9.795500118061007\t -1.0048678777649827\n",
            "11 \t [-5.          9.62124436]\t -69.96986032032432\t -9.795500118061007\t -1.0065049816762883\n",
            "\u001b[1m\u001b[92m12\u001b[0m\t \u001b[1m\u001b[92m[4.0187334  2.97641682]\u001b[0m\t \u001b[1m\u001b[92m-5.514847753450547\u001b[0m\t \u001b[1m\u001b[92m-5.514847753450547\u001b[0m\t \u001b[1m\u001b[92m-0.9881809290571196\u001b[0m\n",
            "13 \t [-0.72913149  0.        ]\t -69.42109202703048\t -5.514847753450547\t -0.9889202745243133\n",
            "14 \t [-1.65293237 11.58745811]\t -15.991869414079567\t -5.514847753450547\t -0.9718209414682406\n",
            "15 \t [ 4.40559656 15.        ]\t -189.46750668212604\t -5.514847753450547\t -0.9682318102243673\n",
            "16 \t [10.         10.71693348]\t -61.4485798554589\t -5.514847753450547\t -0.9307957494095076\n",
            "17 \t [7.52046942 5.59251369]\t -31.25151269627419\t -5.514847753450547\t -0.8632964015113969\n",
            "18 \t [5.91884306 0.        ]\t -20.19405763313192\t -5.514847753450547\t -0.9803894249142535\n",
            "\u001b[1m\u001b[92m19\u001b[0m\t \u001b[1m\u001b[92m[10.          3.77615282]\u001b[0m\t \u001b[1m\u001b[92m-2.5409730454813646\u001b[0m\t \u001b[1m\u001b[92m-2.5409730454813646\u001b[0m\t \u001b[1m\u001b[92m-0.7869136651292825\u001b[0m\n",
            "20 \t [7.02961686 8.5292185 ]\t -70.82903423468679\t -2.5409730454813646\t -0.6922637269967266\n"
          ]
        }
      ]
    },
    {
      "cell_type": "code",
      "metadata": {
        "colab": {
          "base_uri": "https://localhost:8080/"
        },
        "id": "bGGkhp-kGCw6",
        "outputId": "5009d328-0d7b-42e9-ba60-095e6c1656a4"
      },
      "source": [
        "### ESTIMATED GP ERM GRADIENTS\n",
        "\n",
        "np.random.seed(run_num_16)\n",
        "surrogate_approx_16 = GaussianProcess(cov_func, optimize=opt)\n",
        "\n",
        "approx_16 = GPGO_multi(surrogate_approx_16, Acquisition_new(util_grad_approx), objfunc, param)\n",
        "approx_16.run(init_evals=n_init, max_iter=iters)\n"
      ],
      "execution_count": 28,
      "outputs": [
        {
          "output_type": "stream",
          "name": "stdout",
          "text": [
            "Evaluation \t Proposed point \t  Current eval. \t  Best eval. \t         Max AcqFunc.\n",
            "init\t [-1.65063381  7.84745012]\t -10.514702126319445\t -2.715864006988424\t    \n",
            "init\t [3.26052185 0.68402925]\t -2.715864006988424\t -2.715864006988424\t    \n",
            "init\t [0.41093253 3.34621413]\t -22.889515127492515\t -2.715864006988424\t    \n",
            "init\t [5.33089243 2.45597138]\t -17.178157611778595\t -2.715864006988424\t    \n",
            "init\t [-3.945127  14.1151629]\t -3.3649224341694195\t -2.715864006988424\t    \n",
            "1  \t [ 5.63879248 14.58068289]\t -198.51319639462758\t -2.715864006988424\t -1.0125658302513083\n",
            "2  \t [-5.  0.]\t -308.12909601160663\t -2.715864006988424\t -1.0125658194854465\n",
            "3  \t [10.          6.97628045]\t -17.73044302116918\t -2.715864006988424\t -1.0125658269032534\n",
            "4  \t [4.63083269 8.53185748]\t -60.07954205917805\t -2.715864006988424\t -1.0125645515162618\n",
            "5  \t [10.  0.]\t -10.960889035651505\t -2.715864006988424\t -1.012561342416296\n",
            "6  \t [ 0.52147716 12.42879091]\t -70.50648840607332\t -2.715864006988424\t -1.0125333670228367\n",
            "7  \t [10.         11.78206061]\t -79.01580784571077\t -2.715864006988424\t -1.0124314280762958\n",
            "8  \t [-5.          5.15163432]\t -157.5824461692628\t -2.715864006988424\t -1.0121168037017745\n",
            "9  \t [-5.         10.32913591]\t -59.75899232477587\t -2.715864006988424\t -1.0115534953472929\n",
            "\u001b[1m\u001b[92m10\u001b[0m\t \u001b[1m\u001b[92m[9.05528108 3.43531133]\u001b[0m\t \u001b[1m\u001b[92m-2.619342142647559\u001b[0m\t \u001b[1m\u001b[92m-2.619342142647559\u001b[0m\t \u001b[1m\u001b[92m-0.9978631535958269\u001b[0m\n",
            "11 \t [-0.50698244  0.        ]\t -65.1811572319047\t -2.619342142647559\t -0.9924263091171647\n",
            "12 \t [1.41549758 6.68985484]\t -18.688264398399973\t -2.619342142647559\t -0.9660514279627973\n",
            "13 \t [6.85418851 5.49795393]\t -36.894106206130104\t -2.619342142647559\t -0.9631958948568179\n",
            "14 \t [ 6.99041876e+00 -8.88178420e-16]\t -18.708435367545192\t -2.619342142647559\t -0.9190856456424616\n",
            "15 \t [10. 15.]\t -145.87219087939556\t -2.619342142647559\t -0.8848330329360659\n",
            "16 \t [3.49649945 4.67240551]\t -8.060792212508872\t -2.619342142647559\t -0.8110785080616499\n",
            "17 \t [-1.74518099 15.        ]\t -42.311329662502175\t -2.619342142647559\t -0.9004652211841766\n",
            "18 \t [ 3.69967377 11.55639678]\t -95.48724202930808\t -2.619342142647559\t -0.7423966995206799\n",
            "19 \t [-5. 15.]\t -17.508299515778166\t -2.619342142647559\t -0.7279946687424865\n",
            "20 \t [7.8649082 9.1375666]\t -68.63226929775044\t -2.619342142647559\t -0.8181207717387665\n"
          ]
        }
      ]
    },
    {
      "cell_type": "code",
      "metadata": {
        "id": "Yrs2mp7hGC1Z",
        "colab": {
          "base_uri": "https://localhost:8080/"
        },
        "outputId": "f240e97f-b192-40dc-8013-983421fd8e1e"
      },
      "source": [
        "### ESTIMATED GP ERM GRADIENTS\n",
        "\n",
        "np.random.seed(run_num_17)\n",
        "surrogate_approx_17 = GaussianProcess(cov_func, optimize=opt)\n",
        "\n",
        "approx_17 = GPGO_multi(surrogate_approx_17, Acquisition_new(util_grad_approx), objfunc, param)\n",
        "approx_17.run(init_evals=n_init, max_iter=iters)\n"
      ],
      "execution_count": 29,
      "outputs": [
        {
          "output_type": "stream",
          "name": "stdout",
          "text": [
            "Evaluation \t Proposed point \t  Current eval. \t  Best eval. \t         Max AcqFunc.\n",
            "init\t [-0.58002496  7.95880133]\t -19.016141117164256\t -19.016141117164256\t    \n",
            "init\t [-2.1271882   1.01850537]\t -85.05949339404415\t -19.016141117164256\t    \n",
            "init\t [6.8047819  9.84500283]\t -93.89792695202516\t -19.016141117164256\t    \n",
            "init\t [4.56281344 8.63404341]\t -60.50217141122736\t -19.016141117164256\t    \n",
            "init\t [-4.41405626  5.36720407]\t -110.70834086593878\t -19.016141117164256\t    \n",
            "\u001b[1m\u001b[92m1\u001b[0m\t \u001b[1m\u001b[92m[9.76575296 0.98553483]\u001b[0m\t \u001b[1m\u001b[92m-4.1623278326263815\u001b[0m\t \u001b[1m\u001b[92m-4.1623278326263815\u001b[0m\t \u001b[1m\u001b[92m-1.0125658302513083\u001b[0m\n",
            "2  \t [-0.36591853 14.49945231]\t -81.3728947682288\t -4.1623278326263815\t -1.0125658274871139\n",
            "\u001b[1m\u001b[92m3\u001b[0m\t \u001b[1m\u001b[92m[3.74599703 2.35814314]\u001b[0m\t \u001b[1m\u001b[92m-2.3563457989420957\u001b[0m\t \u001b[1m\u001b[92m-2.3563457989420957\u001b[0m\t \u001b[1m\u001b[92m-1.0125654652466274\u001b[0m\n",
            "4  \t [10.         14.64086749]\t -137.38411051487694\t -2.3563457989420957\t -1.0125641802967016\n",
            "5  \t [-5.         11.17262384]\t -48.90080592714383\t -2.3563457989420957\t -1.0125607121916416\n",
            "6  \t [10.          5.64908461]\t -8.945134101750817\t -2.3563457989420957\t -1.0125190746335375\n",
            "7  \t [6.38336532 4.48266621]\t -30.96607539139162\t -2.3563457989420957\t -1.0078639856537484\n",
            "8  \t [ 4.75284409 15.        ]\t -196.60628673028282\t -2.3563457989420957\t -1.0124786404463673\n",
            "9  \t [6.21395574 0.        ]\t -20.785628262983018\t -2.3563457989420957\t -1.0088662375686124\n",
            "10 \t [0.973968   4.29282978]\t -15.474773143308852\t -2.3563457989420957\t -1.0074539084709264\n",
            "11 \t [-5. 15.]\t -17.508299515778166\t -2.3563457989420957\t -1.002812042847795\n",
            "12 \t [1.92214789 0.        ]\t -18.37866593610315\t -2.3563457989420957\t -1.000027159161037\n",
            "13 \t [ 1.56751341 11.0804884 ]\t -62.70782883489044\t -2.3563457989420957\t -0.9882454661529192\n",
            "14 \t [10.          8.61628573]\t -33.452604478500994\t -2.3563457989420957\t -0.9077272256355237\n",
            "15 \t [-1.8012453  10.97761435]\t -10.668606932351349\t -2.3563457989420957\t -0.8334920959411718\n",
            "\u001b[1m\u001b[92m16\u001b[0m\t \u001b[1m\u001b[92m[10.          3.11184522]\u001b[0m\t \u001b[1m\u001b[92m-1.9549973929399087\u001b[0m\t \u001b[1m\u001b[92m-1.9549973929399087\u001b[0m\t \u001b[1m\u001b[92m-0.7986498117685745\u001b[0m\n",
            "17 \t [-5.  0.]\t -308.12909601160663\t -1.9549973929399087\t -0.7925181092696106\n",
            "18 \t [3.40861567 5.51710275]\t -12.579569789152197\t -1.9549973929399087\t -0.7860935729508561\n",
            "19 \t [-3.38797547  8.55002152]\t -19.392946062564675\t -1.9549973929399087\t -0.6772603039813865\n",
            "20 \t [10.        11.3873748]\t -72.24160909390963\t -1.9549973929399087\t -0.6175929520405391\n"
          ]
        }
      ]
    },
    {
      "cell_type": "code",
      "metadata": {
        "id": "f0HIEP3PIUEa",
        "colab": {
          "base_uri": "https://localhost:8080/"
        },
        "outputId": "f0d072f2-d206-4bff-9eab-6165c51f77ff"
      },
      "source": [
        "### ESTIMATED GP ERM GRADIENTS\n",
        "\n",
        "np.random.seed(run_num_18)\n",
        "surrogate_approx_18 = GaussianProcess(cov_func, optimize=opt)\n",
        "\n",
        "approx_18 = GPGO_multi(surrogate_approx_18, Acquisition_new(util_grad_approx), objfunc, param)\n",
        "approx_18.run(init_evals=n_init, max_iter=iters)\n"
      ],
      "execution_count": 30,
      "outputs": [
        {
          "output_type": "stream",
          "name": "stdout",
          "text": [
            "Evaluation \t Proposed point \t  Current eval. \t  Best eval. \t         Max AcqFunc.\n",
            "init\t [4.75561363 7.58180061]\t -49.215059064668324\t -8.150075223157177\t    \n",
            "init\t [8.17902206 2.72760338]\t -8.150075223157177\t -8.150075223157177\t    \n",
            "init\t [ 7.78349603 11.25204429]\t -106.98107856533271\t -8.150075223157177\t    \n",
            "init\t [ 4.99152501 14.81843172]\t -196.08601750690153\t -8.150075223157177\t    \n",
            "init\t [-1.14547366  0.42458888]\t -71.23649635555944\t -8.150075223157177\t    \n",
            "1  \t [-4.83474958 11.77354131]\t -35.58412906267954\t -8.150075223157177\t -1.0125658302513083\n",
            "2  \t [-1.52468598  7.08270423]\t -13.146058885158528\t -8.150075223157177\t -1.012565074463952\n",
            "3  \t [ 0.43344746 11.75516361]\t -59.940118096716546\t -8.150075223157177\t -1.0125297500165118\n",
            "\u001b[1m\u001b[92m4\u001b[0m\t \u001b[1m\u001b[92m[4.16808622 0.        ]\u001b[0m\t \u001b[1m\u001b[92m-7.621849182200764\u001b[0m\t \u001b[1m\u001b[92m-7.621849182200764\u001b[0m\t \u001b[1m\u001b[92m-1.012533537405389\u001b[0m\n",
            "\u001b[1m\u001b[92m5\u001b[0m\t \u001b[1m\u001b[92m[3.25051177 4.09052476]\u001b[0m\t \u001b[1m\u001b[92m-4.0607372492488985\u001b[0m\t \u001b[1m\u001b[92m-4.0607372492488985\u001b[0m\t \u001b[1m\u001b[92m-1.012565823569566\u001b[0m\n",
            "6  \t [-5.          3.80328804]\t -191.85713523908967\t -4.0607372492488985\t -1.0124832636744003\n",
            "7  \t [10.          6.76719706]\t -16.112646836437207\t -4.0607372492488985\t -1.0123125264538362\n",
            "8  \t [10. 15.]\t -145.87219087939556\t -4.0607372492488985\t -1.0100040657446834\n",
            "9  \t [-2.3031209 15.       ]\t -25.195341920839546\t -4.0607372492488985\t -1.0081557578715277\n",
            "10 \t [-5.          8.03838016]\t -96.42758621427268\t -4.0607372492488985\t -0.9903992990512924\n",
            "11 \t [10.  0.]\t -10.960889035651505\t -4.0607372492488985\t -1.0017069403127445\n",
            "12 \t [0.17412361 4.13030346]\t -22.005687289965064\t -4.0607372492488985\t -0.9820182170810519\n",
            "13 \t [1.3345888  8.14779922]\t -28.582957429939547\t -4.0607372492488985\t -0.9257641274152214\n",
            "14 \t [-5.  0.]\t -308.12909601160663\t -4.0607372492488985\t -0.9620173154745439\n",
            "15 \t [ 1.13591574 14.69919229]\t -120.96866224705042\t -4.0607372492488985\t -1.012565382108267\n",
            "16 \t [6.95532406 0.        ]\t -18.90539944935209\t -4.0607372492488985\t -0.9125702946234007\n",
            "17 \t [ 3.92679767 11.00192686]\t -88.94967907760434\t -4.0607372492488985\t -0.912225676199302\n",
            "18 \t [5.86818874 4.2045049 ]\t -28.368974426155447\t -4.0607372492488985\t -0.8994794504554919\n",
            "19 \t [-5. 15.]\t -17.508299515778166\t -4.0607372492488985\t -0.7838799101429674\n",
            "20 \t [2.21837005 1.67532806]\t -6.25172283199356\t -4.0607372492488985\t -0.8391726604708167\n"
          ]
        }
      ]
    },
    {
      "cell_type": "code",
      "metadata": {
        "id": "S3mxRQDLIUPC",
        "colab": {
          "base_uri": "https://localhost:8080/"
        },
        "outputId": "f989b283-04fc-47f3-9768-990f53fd3166"
      },
      "source": [
        "### ESTIMATED GP ERM GRADIENTS\n",
        "\n",
        "np.random.seed(run_num_19)\n",
        "surrogate_approx_19 = GaussianProcess(cov_func, optimize=opt)\n",
        "\n",
        "approx_19 = GPGO_multi(surrogate_approx_19, Acquisition_new(util_grad_approx), objfunc, param)\n",
        "approx_19.run(init_evals=n_init, max_iter=iters)\n"
      ],
      "execution_count": 31,
      "outputs": [
        {
          "output_type": "stream",
          "name": "stdout",
          "text": [
            "Evaluation \t Proposed point \t  Current eval. \t  Best eval. \t         Max AcqFunc.\n",
            "init\t [-3.53699597 11.41874575]\t -4.475608269502271\t -4.475608269502271\t    \n",
            "init\t [-1.2959304   2.07197531]\t -51.13947793770689\t -4.475608269502271\t    \n",
            "init\t [-0.02830155  1.24499348]\t -42.63973921760034\t -4.475608269502271\t    \n",
            "init\t [ 5.07965622 12.09890697]\t -131.17235664506808\t -4.475608269502271\t    \n",
            "init\t [9.74112872 9.53491102]\t -46.84458913925112\t -4.475608269502271\t    \n",
            "\u001b[1m\u001b[92m1\u001b[0m\t \u001b[1m\u001b[92m[9.57054653 2.03489665]\u001b[0m\t \u001b[1m\u001b[92m-0.8198597583535783\u001b[0m\t \u001b[1m\u001b[92m-0.8198597583535783\u001b[0m\t \u001b[1m\u001b[92m-1.012565830243156\u001b[0m\n",
            "2  \t [4.40529125 4.87644674]\t -18.52616991036314\t -0.8198597583535783\t -1.0125650446124577\n",
            "3  \t [-5.          6.34895594]\t -130.19475625502412\t -0.8198597583535783\t -1.0125631923070706\n",
            "4  \t [ 0.06514599 15.        ]\t -102.44880734859521\t -0.8198597583535783\t -1.0125606389321797\n",
            "5  \t [10. 15.]\t -145.87219087939556\t -0.8198597583535783\t -1.0125584202391222\n",
            "6  \t [0.56335389 8.5053089 ]\t -29.414039626479212\t -0.8198597583535783\t -1.0125541187465024\n",
            "7  \t [5.44748404 0.        ]\t -17.793743915872703\t -0.8198597583535783\t -1.0125369162178224\n",
            "8  \t [-5. 15.]\t -17.508299515778166\t -0.8198597583535783\t -1.0117576115983653\n",
            "9  \t [-5.  0.]\t -308.12909601160663\t -0.8198597583535783\t -1.0109315185666472\n",
            "10 \t [8.76775098 5.23171605]\t -12.993037429104914\t -0.8198597583535783\t -1.010352430237795\n",
            "11 \t [6.0268164  8.05285076]\t -67.625830162848\t -0.8198597583535783\t -0.9904655615872342\n",
            "12 \t [10.  0.]\t -10.960889035651505\t -0.8198597583535783\t -0.984964861836755\n",
            "13 \t [0.92877436 5.01985376]\t -15.899363735926269\t -0.8198597583535783\t -0.962826833766313\n",
            "14 \t [7.47623142 2.44566733]\t -14.804510885714247\t -0.8198597583535783\t -0.9328352741359629\n",
            "15 \t [-0.83674091 11.44380884]\t -32.605972246313655\t -0.8198597583535783\t -0.9043999787805619\n",
            "\u001b[1m\u001b[92m16\u001b[0m\t \u001b[1m\u001b[92m[3.15611146 2.02751718]\u001b[0m\t \u001b[1m\u001b[92m-0.45468388410719207\u001b[0m\t \u001b[1m\u001b[92m-0.45468388410719207\u001b[0m\t \u001b[1m\u001b[92m-0.8758856007324625\u001b[0m\n",
            "17 \t [-2.69412466  8.91946707]\t -6.661015937866633\t -0.45468388410719207\t -0.7886772826616116\n",
            "18 \t [ 3.52109273 15.        ]\t -170.1422211205921\t -0.45468388410719207\t -0.7868057567140493\n",
            "19 \t [10.          2.81155651]\t -1.9797746588853915\t -0.45468388410719207\t -0.7745597853773039\n",
            "20 \t [2.68999657 0.        ]\t -8.401688965583164\t -0.45468388410719207\t -0.7885979361022816\n"
          ]
        }
      ]
    },
    {
      "cell_type": "code",
      "metadata": {
        "id": "Aawd59dRIUYn",
        "colab": {
          "base_uri": "https://localhost:8080/"
        },
        "outputId": "ff1d2b9e-031c-488d-f8af-fc676f66503e"
      },
      "source": [
        "### ESTIMATED GP ERM GRADIENTS\n",
        "\n",
        "np.random.seed(run_num_20)\n",
        "surrogate_approx_20 = GaussianProcess(cov_func, optimize=opt)\n",
        "\n",
        "approx_20 = GPGO_multi(surrogate_approx_20, Acquisition_new(util_grad_approx), objfunc, param)\n",
        "approx_20.run(init_evals=n_init, max_iter=iters)\n"
      ],
      "execution_count": 32,
      "outputs": [
        {
          "output_type": "stream",
          "name": "stdout",
          "text": [
            "Evaluation \t Proposed point \t  Current eval. \t  Best eval. \t         Max AcqFunc.\n",
            "init\t [ 3.82196202 13.46570592]\t -138.5264349938869\t -14.042667401507376\t    \n",
            "init\t [ 8.37296094 12.23756216]\t -115.63178540512689\t -14.042667401507376\t    \n",
            "init\t [-4.46165622 10.37636373]\t -35.66708529307584\t -14.042667401507376\t    \n",
            "init\t [0.68021413 7.77766418]\t -25.307769914281764\t -14.042667401507376\t    \n",
            "init\t [4.86927198 2.90775327]\t -14.042667401507376\t -14.042667401507376\t    \n",
            "1  \t [-0.18893953  0.75530589]\t -50.23387023383253\t -14.042667401507376\t -1.0125647155717457\n",
            "\u001b[1m\u001b[92m2\u001b[0m\t \u001b[1m\u001b[92m[10.          5.85572268]\u001b[0m\t \u001b[1m\u001b[92m-10.081414919460524\u001b[0m\t \u001b[1m\u001b[92m-10.081414919460524\u001b[0m\t \u001b[1m\u001b[92m-1.0125657161956132\u001b[0m\n",
            "\u001b[1m\u001b[92m3\u001b[0m\t \u001b[1m\u001b[92m[10.          0.35264853]\u001b[0m\t \u001b[1m\u001b[92m-8.967273533850053\u001b[0m\t \u001b[1m\u001b[92m-8.967273533850053\u001b[0m\t \u001b[1m\u001b[92m-1.0125647572000942\u001b[0m\n",
            "4  \t [-4.73527758  0.95407852]\t -249.82029022592297\t -8.967273533850053\t -1.0125657710522113\n",
            "5  \t [-1.6852651 15.       ]\t -44.31668151122228\t -8.967273533850053\t -1.0125576383815542\n",
            "6  \t [5.59674382 7.78244529]\t -61.56236880519019\t -8.967273533850053\t -1.0124393017432474\n",
            "7  \t [-3.59983367  5.82957668]\t -58.7511627288776\t -8.967273533850053\t -1.0119578661476318\n",
            "8  \t [-0.18280615 11.40237942]\t -45.52476383312295\t -8.967273533850053\t -0.9969243948362462\n",
            "9  \t [6.57419752 0.        ]\t -20.45323774400296\t -8.967273533850053\t -0.9919309232180854\n",
            "10 \t [1.53500301 4.2427432 ]\t -10.489074420696674\t -8.967273533850053\t -0.9889595460211608\n",
            "\u001b[1m\u001b[92m11\u001b[0m\t \u001b[1m\u001b[92m[8.27758024 3.22797957]\u001b[0m\t \u001b[1m\u001b[92m-8.457628752210319\u001b[0m\t \u001b[1m\u001b[92m-8.457628752210319\u001b[0m\t \u001b[1m\u001b[92m-0.9637702237770592\u001b[0m\n",
            "12 \t [-5.        14.1075319]\t -22.209096666561184\t -8.457628752210319\t -0.9692462061725857\n",
            "13 \t [10.          8.85347467]\t -36.17170233864954\t -8.457628752210319\t -0.9514933242995327\n",
            "\u001b[1m\u001b[92m14\u001b[0m\t \u001b[1m\u001b[92m[3.246071 0.      ]\u001b[0m\t \u001b[1m\u001b[92m-5.26797204806737\u001b[0m\t \u001b[1m\u001b[92m-5.26797204806737\u001b[0m\t \u001b[1m\u001b[92m-0.9448671298702864\u001b[0m\n",
            "15 \t [10. 15.]\t -145.87219087939556\t -5.26797204806737\t -0.827719909365467\n",
            "16 \t [2.99923027 9.9297965 ]\t -57.364055515942844\t -5.26797204806737\t -0.830330922617531\n",
            "17 \t [-1.15034801  3.82189848]\t -31.390748813522826\t -5.26797204806737\t -0.7609861207876547\n",
            "18 \t [3.5138598  5.51122513]\t -13.366125981300558\t -5.26797204806737\t -0.6568294167365409\n",
            "19 \t [-2.03041784  8.66169282]\t -6.955687732512945\t -5.26797204806737\t -0.6645675087039289\n",
            "\u001b[1m\u001b[92m20\u001b[0m\t \u001b[1m\u001b[92m[2.56610851 2.02042266]\u001b[0m\t \u001b[1m\u001b[92m-2.5012611562499867\u001b[0m\t \u001b[1m\u001b[92m-2.5012611562499867\u001b[0m\t \u001b[1m\u001b[92m-0.4934055332925522\u001b[0m\n"
          ]
        }
      ]
    },
    {
      "cell_type": "code",
      "metadata": {
        "id": "xkgzPRbBTHaq",
        "colab": {
          "base_uri": "https://localhost:8080/"
        },
        "outputId": "a48d2ffa-8c16-4025-8e8b-c1ccf9be9e60"
      },
      "source": [
        "end_approx = time.time()\n",
        "end_approx\n",
        "\n",
        "time_approx = end_approx - start_approx\n",
        "time_approx\n",
        "\n",
        "start_exact = time.time()\n",
        "start_exact"
      ],
      "execution_count": 33,
      "outputs": [
        {
          "output_type": "execute_result",
          "data": {
            "text/plain": [
              "1651584003.2648053"
            ]
          },
          "metadata": {},
          "execution_count": 33
        }
      ]
    },
    {
      "cell_type": "code",
      "metadata": {
        "id": "7CG3Ndvb16Rb",
        "colab": {
          "base_uri": "https://localhost:8080/"
        },
        "outputId": "84c5837f-78f6-4c10-b0f0-c4cdbeff655e"
      },
      "source": [
        "### EXACT GP ERM GRADIENTS\n",
        "\n",
        "np.random.seed(run_num_1)\n",
        "surrogate_exact_1 = dGaussianProcess(cov_func, optimize=opt)\n",
        "\n",
        "exact_1 = dGPGO(surrogate_exact_1, Acquisition_new(util_grad_exact), objfunc, param)\n",
        "exact_1.run(init_evals=n_init, max_iter=iters)\n"
      ],
      "execution_count": 34,
      "outputs": [
        {
          "output_type": "stream",
          "name": "stdout",
          "text": [
            "Evaluation \t Proposed point \t  Current eval. \t  Best eval. \t         Max AcqFunc.\n",
            "init\t [ 1.25533007 10.8048674 ]\t -56.52874004692151\t -27.68166689936483\t    \n",
            "init\t [-4.99828438  4.53498859]\t -172.66531086516164\t -27.68166689936483\t    \n",
            "init\t [-2.79866164  1.38507892]\t -102.58290348816024\t -27.68166689936483\t    \n",
            "init\t [-2.20609683  5.18341091]\t -28.868064601155666\t -27.68166689936483\t    \n",
            "init\t [0.95151211 8.08225101]\t -27.68166689936483\t -27.68166689936483\t    \n",
            "\u001b[1m\u001b[92m1\u001b[0m\t \u001b[1m\u001b[92m[8.41909995 1.27566317]\u001b[0m\t \u001b[1m\u001b[92m-5.089934878453152\u001b[0m\t \u001b[1m\u001b[92m-5.089934878453152\u001b[0m\t \u001b[1m\u001b[92m-1.012565731570635\u001b[0m\n",
            "2  \t [ 8.98893195 10.45227242]\t -70.52424256621515\t -5.089934878453152\t -1.0125657315690562\n",
            "3  \t [3.24709681 0.02115122]\t -5.173244296289956\t -5.089934878453152\t -1.0125645541734336\n",
            "4  \t [-4.67712792 14.21955317]\t -13.865244792739254\t -5.089934878453152\t -1.0125657304814113\n",
            "5  \t [ 5.28828699 15.        ]\t -205.7740594331423\t -5.089934878453152\t -1.012564310624116\n",
            "6  \t [5.68448723 6.090452  ]\t -42.565414798707565\t -5.089934878453152\t -1.0125442714731778\n",
            "7  \t [-3.81415702  9.67323954]\t -20.77767614983764\t -5.089934878453152\t -1.0122904477083199\n",
            "8  \t [10. 15.]\t -145.87219087939556\t -5.089934878453152\t -1.011271036141552\n",
            "9  \t [-0.28894486 15.        ]\t -91.95377472918068\t -5.089934878453152\t -1.011616050223869\n",
            "10 \t [10.          5.31332201]\t -7.280928959044602\t -5.089934878453152\t -1.0115987494436305\n",
            "\u001b[1m\u001b[92m11\u001b[0m\t \u001b[1m\u001b[92m[2.20595829 3.46545894]\u001b[0m\t \u001b[1m\u001b[92m-4.423890368648928\u001b[0m\t \u001b[1m\u001b[92m-4.423890368648928\u001b[0m\t \u001b[1m\u001b[92m-1.00912759071069\u001b[0m\n",
            "12 \t [5.45503956 2.25954717]\t -17.697449549498952\t -4.423890368648928\t -0.9800101372906216\n",
            "13 \t [5.14202597 9.84655287]\t -88.21181932878149\t -4.423890368648928\t -0.9874319795678028\n",
            "14 \t [0.50195469 0.        ]\t -45.80886498078063\t -4.423890368648928\t -0.9307068575381039\n",
            "15 \t [-1.82801883 11.75457757]\t -13.382275156388781\t -4.423890368648928\t -0.7974602249015251\n",
            "16 \t [1.90770052 5.4527564 ]\t -10.901461730978797\t -4.423890368648928\t -0.709558711377365\n",
            "\u001b[1m\u001b[92m17\u001b[0m\t \u001b[1m\u001b[92m[10.          2.78751054]\u001b[0m\t \u001b[1m\u001b[92m-1.9895576691576817\u001b[0m\t \u001b[1m\u001b[92m-1.9895576691576817\u001b[0m\t \u001b[1m\u001b[92m-0.8060261197720507\u001b[0m\n",
            "18 \t [8.14521415 3.64536851]\t -11.39715911315373\t -1.9895576691576817\t -0.7232628161114542\n",
            "19 \t [6.47232727 0.        ]\t -20.664393704567026\t -1.9895576691576817\t -0.710464034767784\n",
            "20 \t [8.52154187 7.31858526]\t -34.30660101428078\t -1.9895576691576817\t -0.7093920777920416\n"
          ]
        }
      ]
    },
    {
      "cell_type": "code",
      "metadata": {
        "id": "-ilCPSAu9SAg",
        "colab": {
          "base_uri": "https://localhost:8080/"
        },
        "outputId": "77280fdc-8076-45d2-c68a-bd00b91e5b29"
      },
      "source": [
        "### EXACT GP ERM GRADIENTS\n",
        "\n",
        "np.random.seed(run_num_2)\n",
        "surrogate_exact_2 = dGaussianProcess(cov_func, optimize=opt)\n",
        "\n",
        "exact_2 = dGPGO(surrogate_exact_2, Acquisition_new(util_grad_exact), objfunc, param)\n",
        "exact_2.run(init_evals=n_init, max_iter=iters)\n"
      ],
      "execution_count": 35,
      "outputs": [
        {
          "output_type": "stream",
          "name": "stdout",
          "text": [
            "Evaluation \t Proposed point \t  Current eval. \t  Best eval. \t         Max AcqFunc.\n",
            "init\t [1.53992353 0.38889348]\t -22.31361308916297\t -6.692051508754487\t    \n",
            "init\t [3.24493717 6.52983589]\t -19.233109967858276\t -6.692051508754487\t    \n",
            "init\t [1.30551703 4.95502232]\t -13.177851563387286\t -6.692051508754487\t    \n",
            "init\t [-1.93027049  9.2890645 ]\t -6.692051508754487\t -6.692051508754487\t    \n",
            "init\t [-0.50517989  4.00240913]\t -26.437522758780958\t -6.692051508754487\t    \n",
            "1  \t [ 9.5587047  12.00387527]\t -89.09951357262268\t -6.692051508754487\t -1.0125657315706311\n",
            "\u001b[1m\u001b[92m2\u001b[0m\t \u001b[1m\u001b[92m[9.59366035 1.69164323]\u001b[0m\t \u001b[1m\u001b[92m-1.3984593420568778\u001b[0m\t \u001b[1m\u001b[92m-1.3984593420568778\u001b[0m\t \u001b[1m\u001b[92m-1.0125657315705319\u001b[0m\n",
            "3  \t [ 3.24245232 12.67669673]\t -110.25694222671481\t -1.3984593420568778\t -1.0125656429429475\n",
            "4  \t [-5.  0.]\t -308.12909601160663\t -1.3984593420568778\t -1.0125656269526828\n",
            "5  \t [9.02394693 6.38201831]\t -19.00430028763514\t -1.3984593420568778\t -1.0125566147966443\n",
            "6  \t [-3.95509114 14.02730345]\t -3.48680055844817\t -1.3984593420568778\t -1.0125624075263404\n",
            "7  \t [6.10821742 0.        ]\t -20.661959366791898\t -1.3984593420568778\t -1.0121670281470707\n",
            "8  \t [-0.52939792 15.        ]\t -84.24209321185434\t -1.3984593420568778\t -1.009041995065691\n",
            "9  \t [-5.          5.74689705]\t -143.6079459962207\t -1.3984593420568778\t -1.012460161674484\n",
            "10 \t [6.29613152 3.73513195]\t -26.542942639106734\t -1.3984593420568778\t -1.0018219655168563\n",
            "11 \t [6.15104183 9.24555519]\t -85.90024718469762\t -1.3984593420568778\t -1.0060715052690212\n",
            "12 \t [0.99587189 9.48835588]\t -39.67650619445164\t -1.3984593420568778\t -0.9654463272840467\n",
            "13 \t [10.         3.4781198]\t -2.16892072692493\t -1.3984593420568778\t -0.8812783104349904\n",
            "14 \t [-5.         10.71185428]\t -54.655929076061824\t -1.3984593420568778\t -1.0039803354008365\n",
            "15 \t [-1.91684373 11.96023032]\t -12.671470538919952\t -1.3984593420568778\t -0.799618341692598\n",
            "16 \t [-1.28382847  0.        ]\t -80.8826784532322\t -1.3984593420568778\t -0.8222248920323395\n",
            "17 \t [ 6.80588314 15.        ]\t -210.08895858513765\t -1.3984593420568778\t -1.0022870403870763\n",
            "18 \t [3.56892961 2.50509999]\t -1.552732848461659\t -1.3984593420568778\t -0.8265780435770489\n",
            "19 \t [-1.79335679  7.16267079]\t -12.320078008742804\t -1.3984593420568778\t -0.7268902517876471\n",
            "20 \t [10.          8.80162357]\t -35.567679199058844\t -1.3984593420568778\t -0.7105712941911533\n"
          ]
        }
      ]
    },
    {
      "cell_type": "code",
      "metadata": {
        "id": "XieJ158mIvlP",
        "colab": {
          "base_uri": "https://localhost:8080/"
        },
        "outputId": "714b4672-a47f-4cd6-a4eb-19d5daaa562c"
      },
      "source": [
        "### EXACT GP ERM GRADIENTS\n",
        "\n",
        "np.random.seed(run_num_3)\n",
        "surrogate_exact_3 = dGaussianProcess(cov_func, optimize=opt)\n",
        "\n",
        "exact_3 = dGPGO(surrogate_exact_3, Acquisition_new(util_grad_exact), objfunc, param)\n",
        "exact_3.run(init_evals=n_init, max_iter=iters)\n"
      ],
      "execution_count": 36,
      "outputs": [
        {
          "output_type": "stream",
          "name": "stdout",
          "text": [
            "Evaluation \t Proposed point \t  Current eval. \t  Best eval. \t         Max AcqFunc.\n",
            "init\t [ 3.26196854 10.62221734]\t -71.68783452098575\t -18.07886746449891\t    \n",
            "init\t [-0.63642892  7.66241408]\t -18.07886746449891\t -18.07886746449891\t    \n",
            "init\t [ 8.39420432 13.44439633]\t -141.98653529865882\t -18.07886746449891\t    \n",
            "init\t [-3.11622034  3.10864317]\t -83.31045707266176\t -18.07886746449891\t    \n",
            "init\t [-4.22799195  6.61214765]\t -76.5294170688398\t -18.07886746449891\t    \n",
            "1  \t [6.70472147 4.59545299]\t -30.726791812855225\t -18.07886746449891\t -1.012565731570635\n",
            "\u001b[1m\u001b[92m2\u001b[0m\t \u001b[1m\u001b[92m[-3.89564496 13.38589781]\u001b[0m\t \u001b[1m\u001b[92m-3.6010193697779265\u001b[0m\t \u001b[1m\u001b[92m-3.6010193697779265\u001b[0m\t \u001b[1m\u001b[92m-1.012565727303895\u001b[0m\n",
            "3  \t [ 0.49219244 15.        ]\t -113.5648734358273\t -3.6010193697779265\t -1.0125161830507194\n",
            "4  \t [3.31497689 0.        ]\t -5.137169559364589\t -3.6010193697779265\t -1.01256499313867\n",
            "5  \t [10.          8.34527826]\t -30.48354136249052\t -3.6010193697779265\t -1.0125056652127706\n",
            "6  \t [9.93677706 0.73582747]\t -6.490866332170537\t -3.6010193697779265\t -1.0125378117611226\n",
            "7  \t [-0.6195202  11.33294215]\t -36.28496106529289\t -3.6010193697779265\t -1.0125657158854324\n",
            "8  \t [1.55084112 4.19074992]\t -10.312903587616654\t -3.6010193697779265\t -1.0111024692902664\n",
            "9  \t [-2.53287617  0.2265116 ]\t -115.19315667597515\t -3.6010193697779265\t -1.0125657300560806\n",
            "10 \t [6.62898669 0.        ]\t -20.302607831612985\t -3.6010193697779265\t -1.0002182957538384\n",
            "11 \t [6.30222741 8.37756624]\t -72.55383850865258\t -3.6010193697779265\t -0.9805365495198038\n",
            "12 \t [ 4.66696535 15.        ]\t -194.90482997646194\t -3.6010193697779265\t -0.9949349012402334\n",
            "13 \t [-5.         10.54206463]\t -56.88370528440957\t -3.6010193697779265\t -0.9949437357100817\n",
            "14 \t [2.36704157 7.23371396]\t -21.43122994218093\t -3.6010193697779265\t -0.8943843831248347\n",
            "15 \t [10.         4.4598571]\t -4.065699703086047\t -3.6010193697779265\t -0.9680752847413393\n",
            "16 \t [0.95569447 1.3506071 ]\t -26.079600235845575\t -3.6010193697779265\t -0.8948113418784698\n",
            "17 \t [3.89541448 3.17590794]\t -5.002590666259948\t -3.6010193697779265\t -0.8227307739190854\n",
            "18 \t [8.49637958 2.48707996]\t -4.714869817448361\t -3.6010193697779265\t -0.6319832462331266\n",
            "19 \t [4.79911922 1.80045791]\t -11.04628051153771\t -3.6010193697779265\t -0.45567732908523445\n",
            "20 \t [-0.77426771  5.19337229]\t -21.343840345869474\t -3.6010193697779265\t -0.5427145029918757\n"
          ]
        }
      ]
    },
    {
      "cell_type": "code",
      "metadata": {
        "id": "PhLBVOIfIvol",
        "colab": {
          "base_uri": "https://localhost:8080/"
        },
        "outputId": "7d57d745-d982-4db1-b560-6a862e3cf43f"
      },
      "source": [
        "### EXACT GP ERM GRADIENTS\n",
        "\n",
        "np.random.seed(run_num_4)\n",
        "surrogate_exact_4 = dGaussianProcess(cov_func, optimize=opt)\n",
        "\n",
        "exact_4 = dGPGO(surrogate_exact_4, Acquisition_new(util_grad_exact), objfunc, param)\n",
        "exact_4.run(init_evals=n_init, max_iter=iters)\n"
      ],
      "execution_count": 37,
      "outputs": [
        {
          "output_type": "stream",
          "name": "stdout",
          "text": [
            "Evaluation \t Proposed point \t  Current eval. \t  Best eval. \t         Max AcqFunc.\n",
            "init\t [9.50544759 8.20848374]\t -32.51676744781521\t -7.247126865776948\t    \n",
            "init\t [ 9.5902654  10.72223991]\t -66.20566674364716\t -7.247126865776948\t    \n",
            "init\t [5.46593237 3.24134243]\t -20.90089401680587\t -7.247126865776948\t    \n",
            "init\t [9.64411682 0.09345383]\t -7.247126865776948\t -7.247126865776948\t    \n",
            "init\t [-1.20526456  6.52187299]\t -15.941376982363263\t -7.247126865776948\t    \n",
            "1  \t [ 1.25164457 13.57001383]\t -100.61648848019335\t -7.247126865776948\t -1.0125657315669516\n",
            "2  \t [-4.27198795  1.64727177]\t -188.41076037632916\t -7.247126865776948\t -1.0125654418103283\n",
            "3  \t [1.24680796 0.        ]\t -30.835406601599388\t -7.247126865776948\t -1.012558000132688\n",
            "4  \t [ 6.62356632 15.        ]\t -211.54458919378212\t -7.247126865776948\t -1.0125353252902756\n",
            "5  \t [-4.73699493 13.33053872]\t -19.892240270122997\t -7.247126865776948\t -1.0125652702272916\n",
            "6  \t [-5.          8.03524818]\t -96.48490483669138\t -7.247126865776948\t -1.0114655111286488\n",
            "7  \t [4.23328895 8.18288921]\t -49.20355213513324\t -7.247126865776948\t -1.0125422826846018\n",
            "\u001b[1m\u001b[92m8\u001b[0m\t \u001b[1m\u001b[92m[9.02535142 4.41775683]\u001b[0m\t \u001b[1m\u001b[92m-6.257128851106306\u001b[0m\t \u001b[1m\u001b[92m-6.257128851106306\u001b[0m\t \u001b[1m\u001b[92m-1.0009971342731037\u001b[0m\n",
            "9  \t [-1.92146775 10.86858645]\t -8.47968037948363\t -6.257128851106306\t -0.9977215704919696\n",
            "10 \t [5.1636724 0.       ]\t -15.691426583918854\t -6.257128851106306\t -0.9784325163546045\n",
            "11 \t [1.66288432 4.12232952]\t -9.286484731045467\t -6.257128851106306\t -1.0035790834677314\n",
            "12 \t [0.59561762 9.84746133]\t -40.507223068709756\t -6.257128851106306\t -0.9224866571841114\n",
            "13 \t [-0.94772975  3.28436387]\t -34.43894115831414\t -6.257128851106306\t -0.8721453552516509\n",
            "14 \t [ 4.68589558 11.6113786 ]\t -114.45233383195297\t -6.257128851106306\t -0.935877455638372\n",
            "15 \t [10. 15.]\t -145.87219087939556\t -6.257128851106306\t -0.8184876731267052\n",
            "16 \t [-1.91388197 15.        ]\t -36.80870442793804\t -6.257128851106306\t -0.9184655079425236\n",
            "17 \t [-3.22408271  4.86511071]\t -58.32759744823859\t -6.257128851106306\t -0.5321118703879032\n",
            "18 \t [6.7186221  6.42044578]\t -46.60658891288536\t -6.257128851106306\t -0.8163990506801511\n",
            "19 \t [8.23619301 1.86318179]\t -6.462047954580447\t -6.257128851106306\t -0.7643470951547444\n",
            "\u001b[1m\u001b[92m20\u001b[0m\t \u001b[1m\u001b[92m[2.67437637 2.53019316]\u001b[0m\t \u001b[1m\u001b[92m-1.4458589997135203\u001b[0m\t \u001b[1m\u001b[92m-1.4458589997135203\u001b[0m\t \u001b[1m\u001b[92m-0.467143817334977\u001b[0m\n"
          ]
        }
      ]
    },
    {
      "cell_type": "code",
      "metadata": {
        "id": "arbiPyj2IvsJ",
        "colab": {
          "base_uri": "https://localhost:8080/"
        },
        "outputId": "79d82ec8-f2d1-444e-ed62-85387f062110"
      },
      "source": [
        "### EXACT GP ERM GRADIENTS\n",
        "\n",
        "np.random.seed(run_num_5)\n",
        "surrogate_exact_5 = dGaussianProcess(cov_func, optimize=opt)\n",
        "\n",
        "exact_5 = dGPGO(surrogate_exact_5, Acquisition_new(util_grad_exact), objfunc, param)\n",
        "exact_5.run(init_evals=n_init, max_iter=iters)\n"
      ],
      "execution_count": 38,
      "outputs": [
        {
          "output_type": "stream",
          "name": "stdout",
          "text": [
            "Evaluation \t Proposed point \t  Current eval. \t  Best eval. \t         Max AcqFunc.\n",
            "init\t [-1.67010243 13.06098459]\t -25.390690545664548\t -25.311309190989615\t    \n",
            "init\t [-1.89921267 13.77916362]\t -25.311309190989615\t -25.311309190989615\t    \n",
            "init\t [2.32616783 9.17615794]\t -41.60147975414021\t -25.311309190989615\t    \n",
            "init\t [6.48861785 7.77626982]\t -63.81281921768236\t -25.311309190989615\t    \n",
            "init\t [-0.54799248  2.81581843]\t -34.966203644931994\t -25.311309190989615\t    \n",
            "\u001b[1m\u001b[92m1\u001b[0m\t \u001b[1m\u001b[92m[8.84124421 0.03321319]\u001b[0m\t \u001b[1m\u001b[92m-5.96108856337545\u001b[0m\t \u001b[1m\u001b[92m-5.96108856337545\u001b[0m\t \u001b[1m\u001b[92m-1.0125657315705239\u001b[0m\n",
            "2  \t [ 8.39476442 14.47736321]\t -167.21523769473345\t -5.96108856337545\t -1.0125657310377822\n",
            "3  \t [-5.          8.50731558]\t -88.06692538826472\t -5.96108856337545\t -1.0125650341399817\n",
            "4  \t [-5.  0.]\t -308.12909601160663\t -5.96108856337545\t -1.01255619224805\n",
            "5  \t [4.68269035 2.64603605]\t -11.31779144014903\t -5.96108856337545\t -1.0125373603618433\n",
            "6  \t [ 3.03229916 15.        ]\t -160.17986849640116\t -5.96108856337545\t -1.0125151812796327\n",
            "\u001b[1m\u001b[92m7\u001b[0m\t \u001b[1m\u001b[92m[10.          4.33968607]\u001b[0m\t \u001b[1m\u001b[92m-3.7299863204283366\u001b[0m\t \u001b[1m\u001b[92m-3.7299863204283366\u001b[0m\t \u001b[1m\u001b[92m-1.0123765472068338\u001b[0m\n",
            "8  \t [-1.19617761  7.56956282]\t -13.783001649930567\t -3.7299863204283366\t -0.9940220526568577\n",
            "9  \t [10.        10.1798307]\t -53.45066238084503\t -3.7299863204283366\t -1.009105993176429\n",
            "10 \t [-5.          4.41014881]\t -175.98087898480938\t -3.7299863204283366\t -1.0013409814005407\n",
            "11 \t [1.98335614 0.        ]\t -17.38295944488382\t -3.7299863204283366\t -1.0022119479735603\n",
            "12 \t [-5.         12.41096768]\t -35.537678769674024\t -3.7299863204283366\t -0.9667318283649955\n",
            "13 \t [2.309834   5.39008025]\t -9.182618476742036\t -3.7299863204283366\t -0.9916938012578465\n",
            "14 \t [-1.35035272  0.        ]\t -82.40306629847964\t -3.7299863204283366\t -0.7616806695319048\n",
            "15 \t [ 6.72025666 11.05679399]\t -117.07022441470544\t -3.7299863204283366\t -0.8548320824108621\n",
            "16 \t [7.54361305 3.60368616]\t -18.032645206797653\t -3.7299863204283366\t -0.9363344813786617\n",
            "17 \t [10.          6.77805233]\t -16.194488427683186\t -3.7299863204283366\t -0.8939782866577737\n",
            "18 \t [ 0.77973082 12.24527003]\t -71.70223533673263\t -3.7299863204283366\t -0.6979389893360054\n",
            "\u001b[1m\u001b[92m19\u001b[0m\t \u001b[1m\u001b[92m[-2.65597849 10.67708855]\u001b[0m\t \u001b[1m\u001b[92m-1.7208265991945755\u001b[0m\t \u001b[1m\u001b[92m-1.7208265991945755\u001b[0m\t \u001b[1m\u001b[92m-0.5591194625167807\u001b[0m\n",
            "20 \t [ 5.87412081e+00 -1.11022302e-16]\t -20.038859308291798\t -1.7208265991945755\t -0.9403554520718015\n"
          ]
        }
      ]
    },
    {
      "cell_type": "code",
      "metadata": {
        "id": "04KJCEm_Ivvf",
        "colab": {
          "base_uri": "https://localhost:8080/"
        },
        "outputId": "883f724a-0655-4e9f-ecca-fd83afd417cf"
      },
      "source": [
        "### EXACT GP ERM GRADIENTS\n",
        "\n",
        "np.random.seed(run_num_6)\n",
        "surrogate_exact_6 = dGaussianProcess(cov_func, optimize=opt)\n",
        "\n",
        "exact_6 = dGPGO(surrogate_exact_6, Acquisition_new(util_grad_exact), objfunc, param)\n",
        "exact_6.run(init_evals=n_init, max_iter=iters)\n"
      ],
      "execution_count": 39,
      "outputs": [
        {
          "output_type": "stream",
          "name": "stdout",
          "text": [
            "Evaluation \t Proposed point \t  Current eval. \t  Best eval. \t         Max AcqFunc.\n",
            "init\t [8.39290227 4.97969708]\t -15.553860636684597\t -15.31731051317483\t    \n",
            "init\t [7.31843685 0.62544939]\t -15.31731051317483\t -15.31731051317483\t    \n",
            "init\t [-3.3851498   8.92578096]\t -16.222288919361837\t -15.31731051317483\t    \n",
            "init\t [2.94726043 6.28211143]\t -15.406373581304088\t -15.31731051317483\t    \n",
            "init\t [0.03111774 9.33779148]\t -31.07053245856209\t -15.31731051317483\t    \n",
            "1  \t [ 9.64829531 12.55362889]\t -98.32295673962142\t -15.31731051317483\t -1.0125657315699195\n",
            "2  \t [-1.22578785  0.62063252]\t -69.8637190838968\t -15.31731051317483\t -1.0125657314897942\n",
            "3  \t [ 1.3395746  14.83539323]\t -127.45307783921733\t -15.31731051317483\t -1.0125646872858847\n",
            "4  \t [-5.          4.21567906]\t -180.98825955860133\t -15.31731051317483\t -1.0125209006174956\n",
            "5  \t [ 4.82185171 10.81025099]\t -100.93632097217323\t -15.31731051317483\t -1.0124265774062047\n",
            "\u001b[1m\u001b[92m6\u001b[0m\t \u001b[1m\u001b[92m[-3.4990027  13.45496615]\u001b[0m\t \u001b[1m\u001b[92m-1.0974162749042282\u001b[0m\t \u001b[1m\u001b[92m-1.0974162749042282\u001b[0m\t \u001b[1m\u001b[92m-1.0122813745933106\u001b[0m\n",
            "7  \t [3.23889405 0.70631865]\t -2.6754106017511115\t -1.0974162749042282\t -1.0105456309450178\n",
            "8  \t [ 5.97912759 15.        ]\t -212.30870276210814\t -1.0974162749042282\t -1.0077923394729442\n",
            "9  \t [8.34883414 8.35730852]\t -49.534038736142236\t -1.0974162749042282\t -1.012565729227304\n",
            "10 \t [-2.21942625  5.40496174]\t -26.892331361844676\t -1.0974162749042282\t -1.0125643829683384\n",
            "11 \t [4.20035488 3.37428137]\t -8.464378677935738\t -1.0974162749042282\t -0.9686136682021184\n",
            "12 \t [-5.  0.]\t -308.12909601160663\t -1.0974162749042282\t -0.9919938433350667\n",
            "13 \t [-0.87068685 12.31324987]\t -39.51144463993649\t -1.0974162749042282\t -1.0125657315521857\n",
            "14 \t [1.0236397  3.55073207]\t -15.908507754981796\t -1.0974162749042282\t -0.9514115597173489\n",
            "15 \t [-5.         11.92114602]\t -40.45676468894391\t -1.0974162749042282\t -0.9732248404651292\n",
            "\u001b[1m\u001b[92m16\u001b[0m\t \u001b[1m\u001b[92m[9.73321    2.69423766]\u001b[0m\t \u001b[1m\u001b[92m-0.8538365738479072\u001b[0m\t \u001b[1m\u001b[92m-0.8538365738479072\u001b[0m\t \u001b[1m\u001b[92m-0.8580627216058148\u001b[0m\n",
            "17 \t [4.69809732 0.        ]\t -11.750984882957855\t -0.8538365738479072\t -0.7107216692141565\n",
            "18 \t [5.83842016 5.46405697]\t -37.613584630458405\t -0.8538365738479072\t -0.7543024760780577\n",
            "19 \t [-3.50933351 15.        ]\t -4.365968792912589\t -0.8538365738479072\t -1.0711056896831765\n",
            "20 \t [9.7275565  2.88311544]\t -0.8545162706160028\t -0.8538365738479072\t -0.5728269638177904\n"
          ]
        }
      ]
    },
    {
      "cell_type": "code",
      "metadata": {
        "id": "tAOkme3CIvyO",
        "colab": {
          "base_uri": "https://localhost:8080/"
        },
        "outputId": "3eb87d82-2d65-4c5c-b4ce-9a3f561c902c"
      },
      "source": [
        "### EXACT GP ERM GRADIENTS\n",
        "\n",
        "np.random.seed(run_num_7)\n",
        "surrogate_exact_7 = dGaussianProcess(cov_func, optimize=opt)\n",
        "\n",
        "exact_7 = dGPGO(surrogate_exact_7, Acquisition_new(util_grad_exact), objfunc, param)\n",
        "exact_7.run(init_evals=n_init, max_iter=iters)\n"
      ],
      "execution_count": 40,
      "outputs": [
        {
          "output_type": "stream",
          "name": "stdout",
          "text": [
            "Evaluation \t Proposed point \t  Current eval. \t  Best eval. \t         Max AcqFunc.\n",
            "init\t [-3.85537566 11.69878188]\t -8.299317850233932\t -5.211335324193094\t    \n",
            "init\t [ 1.57613847 10.85197767]\t -59.50408380701259\t -5.211335324193094\t    \n",
            "init\t [9.66984268 8.07743806]\t -29.714921414987273\t -5.211335324193094\t    \n",
            "init\t [2.51680695 1.080767  ]\t -5.211335324193094\t -5.211335324193094\t    \n",
            "init\t [-0.9734153   7.49823751]\t -15.431057204948033\t -5.211335324193094\t    \n",
            "1  \t [-4.97859679  1.38393519]\t -260.3293952774437\t -5.211335324193094\t -1.012565731570635\n",
            "2  \t [ 7.42679792 14.12713902]\t -178.37635728719692\t -5.211335324193094\t -1.0125657207476022\n",
            "3  \t [8.08940775 0.35854539]\t -9.249625108410735\t -5.211335324193094\t -1.0125655216989415\n",
            "4  \t [-3.39684884  5.54228873]\t -54.79871094423047\t -5.211335324193094\t -1.012565731570635\n",
            "5  \t [4.94544954 5.5071879 ]\t -30.014161847547594\t -5.211335324193094\t -1.012556749198028\n",
            "6  \t [-0.82354444 15.        ]\t -74.31125853225242\t -5.211335324193094\t -1.012283929987675\n",
            "\u001b[1m\u001b[92m7\u001b[0m\t \u001b[1m\u001b[92m[10.          3.82267853]\u001b[0m\t \u001b[1m\u001b[92m-2.615084703275878\u001b[0m\t \u001b[1m\u001b[92m-2.615084703275878\u001b[0m\t \u001b[1m\u001b[92m-1.010536861096343\u001b[0m\n",
            "8  \t [0.41578037 4.08275839]\t -20.416899017503518\t -2.615084703275878\t -1.001931635141487\n",
            "9  \t [-0.81528439  0.        ]\t -71.0988792898282\t -2.615084703275878\t -1.0036857164773336\n",
            "10 \t [5.65977331 9.92202418]\t -95.0891813332579\t -2.615084703275878\t -1.0074330693623816\n",
            "11 \t [5.38372711 1.39077826]\t -16.01902331528769\t -2.615084703275878\t -0.948503969763533\n",
            "12 \t [-4.98229363 14.89324408]\t -17.591808856439044\t -2.615084703275878\t -1.001107661881147\n",
            "13 \t [10.         11.67100202]\t -77.07815195790475\t -2.615084703275878\t -0.9102903613999238\n",
            "14 \t [2.23150369 7.18295044]\t -20.84542249983378\t -2.615084703275878\t -0.9098867023150382\n",
            "15 \t [ 3.29534001 15.        ]\t -165.4242021890356\t -2.615084703275878\t -1.0004998526881554\n",
            "16 \t [8.03428933 5.73708112]\t -25.79405448413297\t -2.615084703275878\t -1.0125628122869377\n",
            "17 \t [-5.          8.65734926]\t -85.48483742813565\t -2.615084703275878\t -0.9661094698933644\n",
            "\u001b[1m\u001b[92m18\u001b[0m\t \u001b[1m\u001b[92m[3.1991276  3.14979823]\u001b[0m\t \u001b[1m\u001b[92m-1.2587774805964713\u001b[0m\t \u001b[1m\u001b[92m-1.2587774805964713\u001b[0m\t \u001b[1m\u001b[92m-0.6421583412351115\u001b[0m\n",
            "19 \t [-1.59794127 11.39902639]\t -16.119867447692364\t -1.2587774805964713\t -0.7398327823819087\n",
            "20 \t [10.          1.88623043]\t -3.1902180044487567\t -1.2587774805964713\t -0.7902204530854108\n"
          ]
        }
      ]
    },
    {
      "cell_type": "code",
      "metadata": {
        "id": "69-J3EF4Iv1S",
        "colab": {
          "base_uri": "https://localhost:8080/"
        },
        "outputId": "5e2482f8-e2a4-41d0-aef5-306d0e930519"
      },
      "source": [
        "### EXACT GP ERM GRADIENTS\n",
        "\n",
        "np.random.seed(run_num_8)\n",
        "surrogate_exact_8 = dGaussianProcess(cov_func, optimize=opt)\n",
        "\n",
        "exact_8 = dGPGO(surrogate_exact_8, Acquisition_new(util_grad_exact), objfunc, param)\n",
        "exact_8.run(init_evals=n_init, max_iter=iters)\n"
      ],
      "execution_count": 41,
      "outputs": [
        {
          "output_type": "stream",
          "name": "stdout",
          "text": [
            "Evaluation \t Proposed point \t  Current eval. \t  Best eval. \t         Max AcqFunc.\n",
            "init\t [ 8.10144104 14.52810994]\t -175.17297136347514\t -15.416245468470875\t    \n",
            "init\t [8.0379181  7.96283537]\t -49.32173799887473\t -15.416245468470875\t    \n",
            "init\t [-1.50907508  0.17098206]\t -83.26753461673219\t -15.416245468470875\t    \n",
            "init\t [1.45703227 6.0352704 ]\t -15.416245468470875\t -15.416245468470875\t    \n",
            "init\t [2.84012007 7.17587694]\t -22.49093277852639\t -15.416245468470875\t    \n",
            "\u001b[1m\u001b[92m1\u001b[0m\t \u001b[1m\u001b[92m[9.77124156 0.43098073]\u001b[0m\t \u001b[1m\u001b[92m-6.499298445992174\u001b[0m\t \u001b[1m\u001b[92m-6.499298445992174\u001b[0m\t \u001b[1m\u001b[92m-1.0125657315691086\u001b[0m\n",
            "2  \t [-4.87537438 11.82874897]\t -36.57081146531108\t -6.499298445992174\t -1.0125657315706345\n",
            "3  \t [ 0.45081738 13.94638662]\t -93.25142611098795\t -6.499298445992174\t -1.012564953857149\n",
            "4  \t [4.47251591 0.866383  ]\t -8.078155973488538\t -6.499298445992174\t -1.0125639723663264\n",
            "5  \t [-4.06875054  6.05187677]\t -77.55161170327132\t -6.499298445992174\t -1.0125643690740376\n",
            "6  \t [-1.07541354  9.60963765]\t -17.62235362551366\t -6.499298445992174\t -1.010348424431621\n",
            "7  \t [ 4.66367209 11.11979984]\t -104.25439279342791\t -6.499298445992174\t -1.0112668854997982\n",
            "8  \t [7.41184625 3.61717364]\t -19.475477310242354\t -6.499298445992174\t -1.0102028851263138\n",
            "9  \t [1.15417919 2.89031937]\t -15.973236463891121\t -6.499298445992174\t -0.968394148214193\n",
            "10 \t [-4.98803444  1.24288722]\t -265.74116183756587\t -6.499298445992174\t -0.9807880223268225\n",
            "11 \t [ 4.14432739 15.        ]\t -183.78087339910962\t -6.499298445992174\t -0.9641480150822448\n",
            "12 \t [ 1.35087848 10.59290154]\t -54.43764639419132\t -6.499298445992174\t -0.7023024043194821\n",
            "13 \t [4.35471987 3.82379628]\t -11.950236751154993\t -6.499298445992174\t -0.9055271294320598\n",
            "\u001b[1m\u001b[92m14\u001b[0m\t \u001b[1m\u001b[92m[-3.40174572 15.        ]\u001b[0m\t \u001b[1m\u001b[92m-5.0934687541721155\u001b[0m\t \u001b[1m\u001b[92m-5.0934687541721155\u001b[0m\t \u001b[1m\u001b[92m-0.9802127559731585\u001b[0m\n",
            "15 \t [7.09340796 0.        ]\t -18.084632591119856\t -5.0934687541721155\t -0.9092551612583454\n",
            "16 \t [10.         11.02646334]\t -66.3198009259072\t -5.0934687541721155\t -0.9756940521153552\n",
            "17 \t [10.          5.48301729]\t -8.093841641334354\t -5.0934687541721155\t -0.8868514516504209\n",
            "\u001b[1m\u001b[92m18\u001b[0m\t \u001b[1m\u001b[92m[10.          2.81715921]\u001b[0m\t \u001b[1m\u001b[92m-1.9776613337857079\u001b[0m\t \u001b[1m\u001b[92m-1.9776613337857079\u001b[0m\t \u001b[1m\u001b[92m-0.728684309798199\u001b[0m\n",
            "19 \t [1.83318844e+00 2.97660841e-18]\t -19.87524031936838\t -1.9776613337857079\t -0.8307886509933227\n",
            "20 \t [-0.97283901  6.83170099]\t -16.10928521204263\t -1.9776613337857079\t -0.6674535445579047\n"
          ]
        }
      ]
    },
    {
      "cell_type": "code",
      "metadata": {
        "id": "vonm9jyuIv4t",
        "colab": {
          "base_uri": "https://localhost:8080/"
        },
        "outputId": "78654107-4010-4d28-8003-ee04330f0e52"
      },
      "source": [
        "### EXACT GP ERM GRADIENTS\n",
        "\n",
        "np.random.seed(run_num_9)\n",
        "surrogate_exact_9 = dGaussianProcess(cov_func, optimize=opt)\n",
        "\n",
        "exact_9 = dGPGO(surrogate_exact_9, Acquisition_new(util_grad_exact), objfunc, param)\n",
        "exact_9.run(init_evals=n_init, max_iter=iters)\n"
      ],
      "execution_count": 42,
      "outputs": [
        {
          "output_type": "stream",
          "name": "stdout",
          "text": [
            "Evaluation \t Proposed point \t  Current eval. \t  Best eval. \t         Max AcqFunc.\n",
            "init\t [-4.84438769  7.52811888]\t -96.15564306553264\t -3.4640248583909496\t    \n",
            "init\t [2.4365994  2.00744293]\t -3.4640248583909496\t -3.4640248583909496\t    \n",
            "init\t [-2.86833372  3.27838013]\t -70.46930174488207\t -3.4640248583909496\t    \n",
            "init\t [1.27762271 3.72151753]\t -12.982825924833865\t -3.4640248583909496\t    \n",
            "init\t [-3.73910523  5.1824796 ]\t -75.58547400560856\t -3.4640248583909496\t    \n",
            "1  \t [ 7.05609655 14.75038872]\t -200.4388688685465\t -3.4640248583909496\t -1.012565731570635\n",
            "2  \t [-0.46054038 14.56197292]\t -79.4666617606301\t -3.4640248583909496\t -1.0125657315399097\n",
            "3  \t [8.28747407 1.2035024 ]\t -6.196385269800155\t -3.4640248583909496\t -1.0125657106413661\n",
            "4  \t [4.00818884 9.58112639]\t -65.95553030943105\t -3.4640248583909496\t -1.012564845436485\n",
            "5  \t [10.          7.36889848]\t -21.004589149340347\t -3.4640248583909496\t -1.0125657028347028\n",
            "6  \t [6.12749834 4.72723949]\t -32.65608244198498\t -3.4640248583909496\t -1.012058456590837\n",
            "7  \t [-0.4808683   9.13001502]\t -23.964544433750902\t -3.4640248583909496\t -1.0112308890752502\n",
            "8  \t [-0.31392797  0.        ]\t -61.54371115276555\t -3.4640248583909496\t -1.0057511530562075\n",
            "9  \t [10.         11.36476855]\t -71.8630396479476\t -3.4640248583909496\t -1.0080291832126396\n",
            "10 \t [4.86893462 0.        ]\t -13.221965999904889\t -3.4640248583909496\t -1.004725072112056\n",
            "11 \t [-5.         12.67015985]\t -33.12885243260634\t -3.4640248583909496\t -1.0123872419762419\n",
            "12 \t [-5.  0.]\t -308.12909601160663\t -3.4640248583909496\t -1.003069599848355\n",
            "13 \t [ 3.1701245  14.75050555]\t -156.59308127815763\t -3.4640248583909496\t -0.9521263901288259\n",
            "\u001b[1m\u001b[92m14\u001b[0m\t \u001b[1m\u001b[92m[9.56260129 4.13137922]\u001b[0m\t \u001b[1m\u001b[92m-2.8533646447146195\u001b[0m\t \u001b[1m\u001b[92m-2.8533646447146195\u001b[0m\t \u001b[1m\u001b[92m-0.9518362284267459\u001b[0m\n",
            "15 \t [3.27807164 5.86280817]\t -14.116830881896266\t -2.8533646447146195\t -0.8681253540231098\n",
            "16 \t [7.27580604 8.74916126]\t -71.35182284977571\t -2.8533646447146195\t -0.878026906016812\n",
            "17 \t [-0.27550593  6.15628205]\t -19.32526160975053\t -2.8533646447146195\t -0.8351188766112365\n",
            "18 \t [-2.34571897 11.75460368]\t -4.9990611969732885\t -2.8533646447146195\t -0.7386399780452714\n",
            "19 \t [ 1.24841408 11.55646842]\t -66.947792105816\t -2.8533646447146195\t -0.784962354125438\n",
            "\u001b[1m\u001b[92m20\u001b[0m\t \u001b[1m\u001b[92m[10.          2.48694864]\u001b[0m\t \u001b[1m\u001b[92m-2.209404885743255\u001b[0m\t \u001b[1m\u001b[92m-2.209404885743255\u001b[0m\t \u001b[1m\u001b[92m-0.6777695839571903\u001b[0m\n"
          ]
        }
      ]
    },
    {
      "cell_type": "code",
      "metadata": {
        "id": "6amuYlUdIv7r",
        "colab": {
          "base_uri": "https://localhost:8080/"
        },
        "outputId": "6b159c5d-9075-489a-b2b2-b620fa0de9ce"
      },
      "source": [
        "### EXACT GP ERM GRADIENTS\n",
        "\n",
        "np.random.seed(run_num_10)\n",
        "surrogate_exact_10 = dGaussianProcess(cov_func, optimize=opt)\n",
        "\n",
        "exact_10 = dGPGO(surrogate_exact_10, Acquisition_new(util_grad_exact), objfunc, param)\n",
        "exact_10.run(init_evals=n_init, max_iter=iters)\n"
      ],
      "execution_count": 43,
      "outputs": [
        {
          "output_type": "stream",
          "name": "stdout",
          "text": [
            "Evaluation \t Proposed point \t  Current eval. \t  Best eval. \t         Max AcqFunc.\n",
            "init\t [6.56980965 0.31127924]\t -19.863985024602144\t -2.710610964564512\t    \n",
            "init\t [ 4.50472352 11.23205824]\t -103.66999147252169\t -2.710610964564512\t    \n",
            "init\t [2.47760518 3.37194968]\t -2.710610964564512\t -2.710610964564512\t    \n",
            "init\t [-2.02905703 11.40796068]\t -8.463930835255017\t -2.710610964564512\t    \n",
            "init\t [-2.46333745  1.32509721]\t -90.49481266026973\t -2.710610964564512\t    \n",
            "1  \t [ 9.16391068 14.81438212]\t -158.2412724465548\t -2.710610964564512\t -1.0125657315705145\n",
            "2  \t [9.65621089 6.61160737]\t -16.1339423373336\t -2.710610964564512\t -1.012565731570635\n",
            "3  \t [-3.43070383  6.59407857]\t -41.58407101130534\t -2.710610964564512\t -1.0125657310693597\n",
            "4  \t [ 0.88935699 15.        ]\t -122.41215109414165\t -2.710610964564512\t -1.0125646866420912\n",
            "5  \t [5.26536588 6.20072713]\t -40.03620701932327\t -2.710610964564512\t -1.0119201694094981\n",
            "6  \t [1.92213987 0.        ]\t -18.37879825106873\t -2.710610964564512\t -1.0094533344488517\n",
            "7  \t [1.01053924 7.61607154]\t -24.665989186496148\t -2.710610964564512\t -1.0115477702368763\n",
            "8  \t [-5.         10.21830808]\t -61.29143932551239\t -2.710610964564512\t -0.9931135400798344\n",
            "9  \t [8.66639002 3.24709157]\t -4.818313385776879\t -2.710610964564512\t -0.9936723147809433\n",
            "10 \t [ 9.65909394 10.45045292]\t -61.04420944588238\t -2.710610964564512\t -1.0066267210382185\n",
            "11 \t [-0.11813422  4.32819926]\t -23.000817686586505\t -2.710610964564512\t -0.9572859076658649\n",
            "12 \t [-2.81080031 14.03406655]\t -7.369575348738235\t -2.710610964564512\t -0.9335283127837884\n",
            "13 \t [-5.          3.68736668]\t -194.97357280690682\t -2.710610964564512\t -0.9006489875929767\n",
            "14 \t [ 5.07149231 15.        ]\t -202.40678798834128\t -2.710610964564512\t -0.9758268147563786\n",
            "15 \t [ 0.65270233 11.25448685]\t -56.54423835184188\t -2.710610964564512\t -0.8945961161389683\n",
            "16 \t [4.22496607 3.13230536]\t -7.907083898974529\t -2.710610964564512\t -0.8031423918128212\n",
            "17 \t [-5.  0.]\t -308.12909601160663\t -2.710610964564512\t -0.5880010315062931\n",
            "18 \t [7.47449495 8.16356843]\t -60.374204689297194\t -2.710610964564512\t -0.6608254065596428\n",
            "19 \t [-1.60357815  8.90766039]\t -9.685824210275932\t -2.710610964564512\t -0.6243445064851302\n",
            "\u001b[1m\u001b[92m20\u001b[0m\t \u001b[1m\u001b[92m[8.74931877 1.75530217]\u001b[0m\t \u001b[1m\u001b[92m-2.5499481461498377\u001b[0m\t \u001b[1m\u001b[92m-2.5499481461498377\u001b[0m\t \u001b[1m\u001b[92m-0.4818857699455847\u001b[0m\n"
          ]
        }
      ]
    },
    {
      "cell_type": "code",
      "metadata": {
        "id": "VwbLIP9cIv-F",
        "colab": {
          "base_uri": "https://localhost:8080/"
        },
        "outputId": "6ec80e68-fd02-4e61-c850-9aee1954b30f"
      },
      "source": [
        "### EXACT GP ERM GRADIENTS\n",
        "\n",
        "np.random.seed(run_num_11)\n",
        "surrogate_exact_11 = dGaussianProcess(cov_func, optimize=opt)\n",
        "\n",
        "exact_11 = dGPGO(surrogate_exact_11, Acquisition_new(util_grad_exact), objfunc, param)\n",
        "exact_11.run(init_evals=n_init, max_iter=iters)\n"
      ],
      "execution_count": 44,
      "outputs": [
        {
          "output_type": "stream",
          "name": "stdout",
          "text": [
            "Evaluation \t Proposed point \t  Current eval. \t  Best eval. \t         Max AcqFunc.\n",
            "init\t [-2.29595467  0.29212862]\t -104.49282729548965\t -22.37435843952312\t    \n",
            "init\t [ 1.9482779  10.87400894]\t -62.47758067812407\t -22.37435843952312\t    \n",
            "init\t [1.30305407 7.28140647]\t -22.37435843952312\t -22.37435843952312\t    \n",
            "init\t [-4.80828778  7.31057411]\t -97.94503054415523\t -22.37435843952312\t    \n",
            "init\t [ 9.12709979 12.76192634]\t -111.62900800771942\t -22.37435843952312\t    \n",
            "\u001b[1m\u001b[92m1\u001b[0m\t \u001b[1m\u001b[92m[6.94653631 0.95529646]\u001b[0m\t \u001b[1m\u001b[92m-17.615403152614682\u001b[0m\t \u001b[1m\u001b[92m-17.615403152614682\u001b[0m\t \u001b[1m\u001b[92m-1.0125657315706333\u001b[0m\n",
            "\u001b[1m\u001b[92m2\u001b[0m\t \u001b[1m\u001b[92m[9.18257738 6.04096973]\u001b[0m\t \u001b[1m\u001b[92m-14.836006875517853\u001b[0m\t \u001b[1m\u001b[92m-14.836006875517853\u001b[0m\t \u001b[1m\u001b[92m-1.0125647140401697\u001b[0m\n",
            "\u001b[1m\u001b[92m3\u001b[0m\t \u001b[1m\u001b[92m[2.57274635 0.        ]\u001b[0m\t \u001b[1m\u001b[92m-9.529930973982662\u001b[0m\t \u001b[1m\u001b[92m-9.529930973982662\u001b[0m\t \u001b[1m\u001b[92m-1.0121327730290304\u001b[0m\n",
            "4  \t [6.00460921 9.21015297]\t -84.98773163386197\t -9.529930973982662\t -1.0107088584862438\n",
            "5  \t [ 4.56481756 15.        ]\t -192.82106325520704\t -9.529930973982662\t -1.012366989627352\n",
            "\u001b[1m\u001b[92m6\u001b[0m\t \u001b[1m\u001b[92m[-2.55282032 11.48893614]\u001b[0m\t \u001b[1m\u001b[92m-2.355851786361387\u001b[0m\t \u001b[1m\u001b[92m-2.355851786361387\u001b[0m\t \u001b[1m\u001b[92m-1.0116085351871589\u001b[0m\n",
            "7  \t [-0.17856056 14.6938284 ]\t -90.10223500036446\t -2.355851786361387\t -1.010357229819532\n",
            "8  \t [4.98150475 4.49910886]\t -22.93206870691391\t -2.355851786361387\t -1.0106057668670496\n",
            "9  \t [0.35411845 3.60553491]\t -22.417985420590657\t -2.355851786361387\t -1.0036103969836943\n",
            "10 \t [-5.         11.10474342]\t -49.72197927526792\t -2.355851786361387\t -0.9608542806541448\n",
            "\u001b[1m\u001b[92m11\u001b[0m\t \u001b[1m\u001b[92m[10.          2.60885792]\u001b[0m\t \u001b[1m\u001b[92m-2.0984544353776142\u001b[0m\t \u001b[1m\u001b[92m-2.0984544353776142\u001b[0m\t \u001b[1m\u001b[92m-0.9919047722292332\u001b[0m\n",
            "12 \t [-3.93034229 14.58689661]\t -3.345952665427367\t -2.0984544353776142\t -0.9703591898298425\n",
            "13 \t [-3.67846269  3.72242941]\t -99.36381932774619\t -2.0984544353776142\t -0.9553114808378249\n",
            "14 \t [9.6504002  9.27928699]\t -44.29890300478732\t -2.0984544353776142\t -0.8989397968624526\n",
            "15 \t [-1.47451292  9.21418425]\t -11.26714025987707\t -2.0984544353776142\t -0.9427352043071058\n",
            "16 \t [8.05899975 3.55094938]\t -11.993474519446421\t -2.0984544353776142\t -0.7446543408383725\n",
            "17 \t [-1.42176738  6.34606861]\t -16.168866953280066\t -2.0984544353776142\t -0.7264626118071731\n",
            "18 \t [4.44287258 1.40854061]\t -7.448245934603296\t -2.0984544353776142\t -0.6397310648895096\n",
            "19 \t [-1.33026405 11.65190507]\t -23.217833506409043\t -2.0984544353776142\t -0.5659633920619929\n",
            "\u001b[1m\u001b[92m20\u001b[0m\t \u001b[1m\u001b[92m[9.54178163 1.51942402]\u001b[0m\t \u001b[1m\u001b[92m-1.5787577809316495\u001b[0m\t \u001b[1m\u001b[92m-1.5787577809316495\u001b[0m\t \u001b[1m\u001b[92m-0.5584240588224196\u001b[0m\n"
          ]
        }
      ]
    },
    {
      "cell_type": "code",
      "metadata": {
        "id": "MlUNFjc-JTBY",
        "colab": {
          "base_uri": "https://localhost:8080/"
        },
        "outputId": "607d63b3-1d2c-4699-9f36-5119c40421e1"
      },
      "source": [
        "### EXACT GP ERM GRADIENTS\n",
        "\n",
        "np.random.seed(run_num_12)\n",
        "surrogate_exact_12 = dGaussianProcess(cov_func, optimize=opt)\n",
        "\n",
        "exact_12 = dGPGO(surrogate_exact_12, Acquisition_new(util_grad_exact), objfunc, param)\n",
        "exact_12.run(init_evals=n_init, max_iter=iters)\n"
      ],
      "execution_count": 45,
      "outputs": [
        {
          "output_type": "stream",
          "name": "stdout",
          "text": [
            "Evaluation \t Proposed point \t  Current eval. \t  Best eval. \t         Max AcqFunc.\n",
            "init\t [-2.68755736 11.10074545]\t -1.3827702760021356\t -0.5499315281120278\t    \n",
            "init\t [-1.05027477  8.0060909 ]\t -14.81231853080056\t -0.5499315281120278\t    \n",
            "init\t [-4.78137556 13.78120512]\t -18.401131000214548\t -0.5499315281120278\t    \n",
            "init\t [8.51072281 0.50132141]\t -5.855172364344769\t -0.5499315281120278\t    \n",
            "init\t [9.35424004 2.05813982]\t -0.5499315281120278\t -0.5499315281120278\t    \n",
            "1  \t [10.          4.30416863]\t -3.636293400304428\t -0.5499315281120278\t -1.0128967253792414\n",
            "2  \t [ 9.19833734 12.85785838]\t -112.3096138370831\t -0.5499315281120278\t -1.012565731570635\n",
            "3  \t [-4.8799499   0.15657603]\t -290.0404981832191\t -0.5499315281120278\t -1.0125657315706347\n",
            "4  \t [1.89159848 0.57192205]\t -15.265125065800465\t -0.5499315281120278\t -1.012565722549757\n",
            "5  \t [ 0.90630086 15.        ]\t -122.76062232846587\t -0.5499315281120278\t -1.0125651888214058\n",
            "6  \t [5.12931711 8.56003383]\t -67.54059008909404\t -0.5499315281120278\t -1.0125649071756349\n",
            "7  \t [-5.          5.52173819]\t -148.8104858093234\t -0.5499315281120278\t -1.0124387020042471\n",
            "8  \t [9.89973767 8.26181859]\t -30.15858706623289\t -0.5499315281120278\t -1.0112780141782434\n",
            "9  \t [5.3711041 3.6471751]\t -21.972142678374716\t -0.5499315281120278\t -1.0122641819944747\n",
            "10 \t [ 1.0975917  10.91270085]\t -56.677348483015344\t -0.5499315281120278\t -0.997504699550644\n",
            "11 \t [1.62502615 4.29265053]\t -9.768785933920945\t -0.5499315281120278\t -1.0036286094821816\n",
            "12 \t [ 5.30353031 14.57708987]\t -194.4906108937172\t -0.5499315281120278\t -1.006748502303184\n",
            "13 \t [-5.          9.75464779]\t -67.96896529781029\t -0.5499315281120278\t -0.9944717172255061\n",
            "14 \t [-1.49813353  2.93113609]\t -43.680986001062564\t -0.5499315281120278\t -0.9941296632697829\n",
            "15 \t [5.35281414 0.        ]\t -17.135223483959912\t -0.5499315281120278\t -0.9849435091522166\n",
            "16 \t [-2.18048368 13.40127771]\t -15.502362687957127\t -0.5499315281120278\t -0.7692855439666758\n",
            "17 \t [8.16055712 4.87103455]\t -17.703413008644127\t -0.5499315281120278\t -0.7936009387828429\n",
            "18 \t [1.87550812 7.20048732]\t -21.039855805356773\t -0.5499315281120278\t -0.8840665410302029\n",
            "19 \t [-1.28941592e+00  8.61136440e-18]\t -81.00880459524187\t -0.5499315281120278\t -0.7197143293251601\n",
            "20 \t [8.6086809  2.39288741]\t -3.6925379571576524\t -0.5499315281120278\t -0.5310212115113971\n"
          ]
        }
      ]
    },
    {
      "cell_type": "code",
      "metadata": {
        "id": "9BsKdU9eJTFL",
        "colab": {
          "base_uri": "https://localhost:8080/"
        },
        "outputId": "3496bcf5-2345-4955-8e1a-7399431108d7"
      },
      "source": [
        "### EXACT GP ERM GRADIENTS\n",
        "\n",
        "np.random.seed(run_num_13)\n",
        "surrogate_exact_13 = dGaussianProcess(cov_func, optimize=opt)\n",
        "\n",
        "exact_13 = dGPGO(surrogate_exact_13, Acquisition_new(util_grad_exact), objfunc, param)\n",
        "exact_13.run(init_evals=n_init, max_iter=iters)\n"
      ],
      "execution_count": 46,
      "outputs": [
        {
          "output_type": "stream",
          "name": "stdout",
          "text": [
            "Evaluation \t Proposed point \t  Current eval. \t  Best eval. \t         Max AcqFunc.\n",
            "init\t [6.66553616 3.5631183 ]\t -24.823670200298267\t -18.038943061558626\t    \n",
            "init\t [ 7.36417799 14.48623797]\t -188.7803334745195\t -18.038943061558626\t    \n",
            "init\t [9.58901671 6.80173871]\t -18.038943061558626\t -18.038943061558626\t    \n",
            "init\t [ 4.13563694 11.63289772]\t -104.87319703906111\t -18.038943061558626\t    \n",
            "init\t [ 4.62420017 10.83027344]\t -98.03271225790056\t -18.038943061558626\t    \n",
            "1  \t [-3.51870171  3.68338658]\t -91.63196166423945\t -18.038943061558626\t -1.012565731570635\n",
            "\u001b[1m\u001b[92m2\u001b[0m\t \u001b[1m\u001b[92m[-3.06562888 11.40851515]\u001b[0m\t \u001b[1m\u001b[92m-0.8943531028899869\u001b[0m\t \u001b[1m\u001b[92m-0.8943531028899869\u001b[0m\t \u001b[1m\u001b[92m-1.0125657314388536\u001b[0m\n",
            "3  \t [2.22555486 0.        ]\t -13.748879685908804\t -0.8943531028899869\t -1.0125650706330327\n",
            "4  \t [1.45066852 6.21135436]\t -16.205579709602702\t -0.8943531028899869\t -1.0125573246457154\n",
            "5  \t [-0.02228696 13.86809438]\t -80.94871489112535\t -0.8943531028899869\t -1.012096043890823\n",
            "6  \t [-5.          8.23487072]\t -92.87081848692483\t -0.8943531028899869\t -1.0120312145360344\n",
            "7  \t [-4.02680902 13.16145731]\t -5.722083744228451\t -0.8943531028899869\t -0.9725747622952202\n",
            "8  \t [10.         10.91369438]\t -64.52291284160813\t -0.8943531028899869\t -1.0086698770732014\n",
            "9  \t [-0.28061215  9.49941466]\t -28.48415902721704\t -0.8943531028899869\t -1.005447887727495\n",
            "10 \t [-5.  0.]\t -308.12909601160663\t -0.8943531028899869\t -1.0025721328610926\n",
            "11 \t [10.          2.34599735]\t -2.3747361223132604\t -0.8943531028899869\t -0.9991913211109391\n",
            "12 \t [6.24187398 0.        ]\t -20.801513474250925\t -0.8943531028899869\t -0.9998304639985431\n",
            "13 \t [-0.91853332  0.05417786]\t -72.32923195798782\t -0.8943531028899869\t -0.9622407866594272\n",
            "14 \t [4.95892483 6.96208799]\t -44.57956724195149\t -0.8943531028899869\t -0.9885534729608386\n",
            "15 \t [1.79106437 3.11774465]\t -8.101028442109984\t -0.8943531028899869\t -0.9445894971885656\n",
            "16 \t [-1.53081736  6.53301352]\t -15.250609815920178\t -0.8943531028899869\t -0.8446509695858626\n",
            "17 \t [ 3.57262446 15.        ]\t -171.24324454941942\t -0.8943531028899869\t -0.8900911640745147\n",
            "18 \t [4.09160302 2.18729777]\t -4.702613105021491\t -0.8943531028899869\t -0.718688241714604\n",
            "19 \t [-2.82270992 14.23183665]\t -8.226347310518324\t -0.8943531028899869\t -0.3499577568225394\n",
            "20 \t [-5.         11.52895879]\t -44.74125915221332\t -0.8943531028899869\t -0.680859334090756\n"
          ]
        }
      ]
    },
    {
      "cell_type": "code",
      "metadata": {
        "id": "k6GjFBr1JTJf",
        "colab": {
          "base_uri": "https://localhost:8080/"
        },
        "outputId": "a182ab6b-c0e1-4c89-80c8-7ef2c7bd5ef7"
      },
      "source": [
        "### EXACT GP ERM GRADIENTS\n",
        "\n",
        "np.random.seed(run_num_14)\n",
        "surrogate_exact_14 = dGaussianProcess(cov_func, optimize=opt)\n",
        "\n",
        "exact_14 = dGPGO(surrogate_exact_14, Acquisition_new(util_grad_exact), objfunc, param)\n",
        "exact_14.run(init_evals=n_init, max_iter=iters)\n"
      ],
      "execution_count": 47,
      "outputs": [
        {
          "output_type": "stream",
          "name": "stdout",
          "text": [
            "Evaluation \t Proposed point \t  Current eval. \t  Best eval. \t         Max AcqFunc.\n",
            "init\t [ 2.70915016 11.59747578]\t -81.58264375064097\t -1.4149920024014744\t    \n",
            "init\t [8.05641529 0.12070423]\t -10.148649076616518\t -1.4149920024014744\t    \n",
            "init\t [-0.35396112 14.36405609]\t -79.6056658956529\t -1.4149920024014744\t    \n",
            "init\t [2.69675068 4.77426637]\t -5.855607664288365\t -1.4149920024014744\t    \n",
            "init\t [3.08799906 3.31882414]\t -1.4149920024014744\t -1.4149920024014744\t    \n",
            "1  \t [10.          9.77645093]\t -47.823366031636674\t -1.4149920024014744\t -1.012565731557746\n",
            "2  \t [-3.61083748  7.85924032]\t -32.481990179851884\t -1.4149920024014744\t -1.012565731417155\n",
            "3  \t [-0.5369506  0.       ]\t -65.74814342277702\t -1.4149920024014744\t -1.012564829127338\n",
            "4  \t [-5.          2.79941019]\t -219.73685262933344\t -1.4149920024014744\t -1.0125379711510327\n",
            "5  \t [ 7.44802367 15.        ]\t -201.14330599451029\t -1.4149920024014744\t -1.012564136767562\n",
            "6  \t [10.          4.59999645]\t -4.493676938063431\t -1.4149920024014744\t -1.0125251805306414\n",
            "7  \t [5.98587267 7.36093484]\t -58.35566375359257\t -1.4149920024014744\t -1.0120411336902857\n",
            "8  \t [-5.         12.63504155]\t -33.447358508988735\t -1.4149920024014744\t -1.0124196305477022\n",
            "9  \t [3.62913725 0.78504437]\t -2.8172885458466723\t -1.4149920024014744\t -1.004652116177748\n",
            "10 \t [-0.92286882  5.02927481]\t -22.29537400672306\t -1.4149920024014744\t -1.0042791692626007\n",
            "11 \t [5.66520582 3.51148633]\t -23.499284691946368\t -1.4149920024014744\t -0.9861685364924081\n",
            "12 \t [5.47902682e-03 8.75633362e+00]\t -27.247469367505488\t -1.4149920024014744\t -0.9887998358370702\n",
            "13 \t [ 7.06079375 10.44373538]\t -102.23605689435959\t -1.4149920024014744\t -0.7965244682987292\n",
            "14 \t [ 3.47985314 15.        ]\t -169.26705261180817\t -1.4149920024014744\t -0.92684240450302\n",
            "15 \t [2.69495007 7.36669637]\t -23.595648177659196\t -1.4149920024014744\t -0.8092432536420562\n",
            "16 \t [9.95207006 2.25709482]\t -2.190164430445259\t -1.4149920024014744\t -0.8838561919130656\n",
            "17 \t [5.39395526 0.        ]\t -17.427340475391695\t -1.4149920024014744\t -0.8024482569617797\n",
            "18 \t [1.19664153 2.88197951]\t -15.46521753634183\t -1.4149920024014744\t -0.7992065261108057\n",
            "19 \t [2.52291363e+00 5.55111512e-17]\t -10.056538545250168\t -1.4149920024014744\t -0.6077267138754383\n",
            "20 \t [-1.75327579 10.99715305]\t -11.5322366774762\t -1.4149920024014744\t -0.8317387574229008\n"
          ]
        }
      ]
    },
    {
      "cell_type": "code",
      "metadata": {
        "id": "dPS8WB3aJTN6",
        "colab": {
          "base_uri": "https://localhost:8080/"
        },
        "outputId": "5e656ec1-86f2-42e3-931e-e456a919f297"
      },
      "source": [
        "### EXACT GP ERM GRADIENTS\n",
        "\n",
        "np.random.seed(run_num_15)\n",
        "surrogate_exact_15 = dGaussianProcess(cov_func, optimize=opt)\n",
        "\n",
        "exact_15 = dGPGO(surrogate_exact_15, Acquisition_new(util_grad_exact), objfunc, param)\n",
        "exact_15.run(init_evals=n_init, max_iter=iters)\n"
      ],
      "execution_count": 48,
      "outputs": [
        {
          "output_type": "stream",
          "name": "stdout",
          "text": [
            "Evaluation \t Proposed point \t  Current eval. \t  Best eval. \t         Max AcqFunc.\n",
            "init\t [7.73226546 2.68343887]\t -12.768724532005583\t -12.768724532005583\t    \n",
            "init\t [-4.18455179  5.42307669]\t -95.39334176626551\t -12.768724532005583\t    \n",
            "init\t [-0.86898607  7.95000337]\t -16.419487782111716\t -12.768724532005583\t    \n",
            "init\t [-0.41121626  4.56711539]\t -23.250362743740954\t -12.768724532005583\t    \n",
            "init\t [-3.32388086  3.74848521]\t -80.99796277938532\t -12.768724532005583\t    \n",
            "1  \t [ 6.5655417  11.87699252]\t -134.95011349993544\t -12.768724532005583\t -1.0125657315706327\n",
            "2  \t [-4.77493765 13.49591113]\t -19.896906503438096\t -12.768724532005583\t -1.0125657310873335\n",
            "3  \t [ 1.21146284 15.        ]\t -128.69210522895327\t -12.768724532005583\t -1.0125655234189217\n",
            "\u001b[1m\u001b[92m4\u001b[0m\t \u001b[1m\u001b[92m[2.54720482 0.07864599]\u001b[0m\t \u001b[1m\u001b[92m-9.364642237420483\u001b[0m\t \u001b[1m\u001b[92m-9.364642237420483\u001b[0m\t \u001b[1m\u001b[92m-1.0125620454016626\u001b[0m\n",
            "5  \t [9.99501649 7.39458825]\t -21.247060417486146\t -9.364642237420483\t -1.0125566733503688\n",
            "6  \t [4.31404749 6.82491505]\t -34.22443290077146\t -9.364642237420483\t -1.012543297944787\n",
            "7  \t [10. 15.]\t -145.87219087939556\t -9.364642237420483\t -1.01174845929374\n",
            "8  \t [-5.  0.]\t -308.12909601160663\t -9.364642237420483\t -1.0079356850906285\n",
            "9  \t [ 2.66617257 10.11516454]\t -56.819406694928674\t -9.364642237420483\t -0.9961893264990975\n",
            "10 \t [-1.72610592 11.93913724]\t -16.394254941736527\t -9.364642237420483\t -0.9903311676476516\n",
            "11 \t [-5.          9.57986674]\t -70.5977081150132\t -9.364642237420483\t -1.0050592935901714\n",
            "\u001b[1m\u001b[92m12\u001b[0m\t \u001b[1m\u001b[92m[3.04659233 3.38882768]\u001b[0m\t \u001b[1m\u001b[92m-1.5198224356961507\u001b[0m\t \u001b[1m\u001b[92m-1.5198224356961507\u001b[0m\t \u001b[1m\u001b[92m-0.9823376383373159\u001b[0m\n",
            "13 \t [4.79604945 2.05583199]\t -11.317140877221311\t -1.5198224356961507\t -0.9059999633417067\n",
            "14 \t [-0.7917398   0.79845457]\t -59.55237534570689\t -1.5198224356961507\t -0.9796064865397005\n",
            "15 \t [ 5.04585578 15.        ]\t -201.97470559337938\t -1.5198224356961507\t -0.8987137355638712\n",
            "16 \t [7.85524398 5.33587102]\t -24.938229358955226\t -1.5198224356961507\t -0.8335636525990489\n",
            "17 \t [4.62657048 4.196267  ]\t -16.986025033527365\t -1.5198224356961507\t -0.44784933832502405\n",
            "18 \t [6.49499436 8.65173676]\t -76.22704893754486\t -1.5198224356961507\t -0.6542493450914721\n",
            "19 \t [10.         10.74804169]\t -61.92948364647507\t -1.5198224356961507\t -0.9261053282784152\n",
            "20 \t [5.91090547 0.        ]\t -20.167728032626272\t -1.5198224356961507\t -0.802867161043507\n"
          ]
        }
      ]
    },
    {
      "cell_type": "code",
      "metadata": {
        "id": "SHWdp2giJTRm",
        "colab": {
          "base_uri": "https://localhost:8080/"
        },
        "outputId": "e71d2dc0-ff39-409d-efe7-e61d6b8b36d4"
      },
      "source": [
        "### EXACT GP ERM GRADIENTS\n",
        "\n",
        "np.random.seed(run_num_16)\n",
        "surrogate_exact_16 = dGaussianProcess(cov_func, optimize=opt)\n",
        "\n",
        "exact_16 = dGPGO(surrogate_exact_16, Acquisition_new(util_grad_exact), objfunc, param)\n",
        "exact_16.run(init_evals=n_init, max_iter=iters)\n"
      ],
      "execution_count": 49,
      "outputs": [
        {
          "output_type": "stream",
          "name": "stdout",
          "text": [
            "Evaluation \t Proposed point \t  Current eval. \t  Best eval. \t         Max AcqFunc.\n",
            "init\t [-1.65063381  7.84745012]\t -10.514702126319445\t -2.715864006988424\t    \n",
            "init\t [3.26052185 0.68402925]\t -2.715864006988424\t -2.715864006988424\t    \n",
            "init\t [0.41093253 3.34621413]\t -22.889515127492515\t -2.715864006988424\t    \n",
            "init\t [5.33089243 2.45597138]\t -17.178157611778595\t -2.715864006988424\t    \n",
            "init\t [-3.945127  14.1151629]\t -3.3649224341694195\t -2.715864006988424\t    \n",
            "1  \t [ 5.63879248 14.58068289]\t -198.51319639462758\t -2.715864006988424\t -1.012565731570635\n",
            "2  \t [-5.          0.77723009]\t -282.01611609418495\t -2.715864006988424\t -1.0125656243255747\n",
            "3  \t [10.          5.64059168]\t -8.900259472871072\t -2.715864006988424\t -1.01256515674148\n",
            "4  \t [4.11243132 8.80009307]\t -55.85062737292832\t -2.715864006988424\t -1.0125646116683593\n",
            "5  \t [-5.         10.28108353]\t -60.42040928471862\t -2.715864006988424\t -1.0116301412211568\n",
            "6  \t [10.         10.86618331]\t -63.773474833133626\t -2.715864006988424\t -1.012558349500488\n",
            "7  \t [ 0.36855248 15.        ]\t -110.52351557994749\t -2.715864006988424\t -1.0124570197882903\n",
            "8  \t [10. 15.]\t -145.87219087939556\t -2.715864006988424\t -1.0050898641457073\n",
            "\u001b[1m\u001b[92m9\u001b[0m\t \u001b[1m\u001b[92m[9.23747248 1.84803799]\u001b[0m\t \u001b[1m\u001b[92m-0.7900330342927973\u001b[0m\t \u001b[1m\u001b[92m-0.7900330342927973\u001b[0m\t \u001b[1m\u001b[92m-1.0091169806581173\u001b[0m\n",
            "10 \t [-5.          5.59824037]\t -147.03144724540155\t -0.7900330342927973\t -1.010643144514748\n",
            "11 \t [-0.83842475  0.        ]\t -71.5539846868843\t -0.7900330342927973\t -0.9908662503072045\n",
            "12 \t [-0.80051684 11.14198641]\t -31.013575234537665\t -0.7900330342927973\t -0.9920501417354622\n",
            "13 \t [5.77977349 5.80762428]\t -40.415527850035076\t -0.7900330342927973\t -0.9512953907842875\n",
            "14 \t [1.78699717 6.19323831]\t -14.82972604925502\t -0.7900330342927973\t -0.9282220768765905\n",
            "15 \t [ 2.6304753  11.96989331]\t -87.41979978821439\t -0.7900330342927973\t -0.9165859132556639\n",
            "16 \t [ 6.20068477 11.22115843]\t -122.04266385940957\t -0.7900330342927973\t -0.7258826290779474\n",
            "17 \t [8.52761474 3.1386196 ]\t -5.742866303239097\t -0.7900330342927973\t -0.8613399692764842\n",
            "18 \t [10.          7.81186739]\t -25.068763583409776\t -0.7900330342927973\t -0.6462521165140604\n",
            "19 \t [-1.5732743   5.36355986]\t -21.948777977241452\t -0.7900330342927973\t -0.6708081831055067\n",
            "20 \t [6.82576035 0.        ]\t -19.557796077699543\t -0.7900330342927973\t -0.9320374553096907\n"
          ]
        }
      ]
    },
    {
      "cell_type": "code",
      "metadata": {
        "id": "yU2SflSsJTUs",
        "colab": {
          "base_uri": "https://localhost:8080/"
        },
        "outputId": "0762af94-a0e1-4513-8242-0415ed79c8ed"
      },
      "source": [
        "### EXACT GP ERM GRADIENTS\n",
        "\n",
        "np.random.seed(run_num_17)\n",
        "surrogate_exact_17 = dGaussianProcess(cov_func, optimize=opt)\n",
        "\n",
        "exact_17 = dGPGO(surrogate_exact_17, Acquisition_new(util_grad_exact), objfunc, param)\n",
        "exact_17.run(init_evals=n_init, max_iter=iters)\n"
      ],
      "execution_count": 50,
      "outputs": [
        {
          "output_type": "stream",
          "name": "stdout",
          "text": [
            "Evaluation \t Proposed point \t  Current eval. \t  Best eval. \t         Max AcqFunc.\n",
            "init\t [-0.58002496  7.95880133]\t -19.016141117164256\t -19.016141117164256\t    \n",
            "init\t [-2.1271882   1.01850537]\t -85.05949339404415\t -19.016141117164256\t    \n",
            "init\t [6.8047819  9.84500283]\t -93.89792695202516\t -19.016141117164256\t    \n",
            "init\t [4.56281344 8.63404341]\t -60.50217141122736\t -19.016141117164256\t    \n",
            "init\t [-4.41405626  5.36720407]\t -110.70834086593878\t -19.016141117164256\t    \n",
            "\u001b[1m\u001b[92m1\u001b[0m\t \u001b[1m\u001b[92m[9.76575296 0.98553483]\u001b[0m\t \u001b[1m\u001b[92m-4.1623278326263815\u001b[0m\t \u001b[1m\u001b[92m-4.1623278326263815\u001b[0m\t \u001b[1m\u001b[92m-1.012565731570635\u001b[0m\n",
            "2  \t [-0.36591853 14.49945231]\t -81.3728947682288\t -4.1623278326263815\t -1.0125657288064405\n",
            "\u001b[1m\u001b[92m3\u001b[0m\t \u001b[1m\u001b[92m[3.74599703 2.35814314]\u001b[0m\t \u001b[1m\u001b[92m-2.3563457989420957\u001b[0m\t \u001b[1m\u001b[92m-2.3563457989420957\u001b[0m\t \u001b[1m\u001b[92m-1.0125653665659493\u001b[0m\n",
            "4  \t [10.         14.83591807]\t -141.96211758268552\t -2.3563457989420957\t -1.012565096303977\n",
            "5  \t [9.40340415 5.54620471]\t -9.943082500300157\t -2.3563457989420957\t -1.0124411544937797\n",
            "6  \t [-5.         11.25245434]\t -47.946860113766995\t -2.3563457989420957\t -1.0125609025868414\n",
            "7  \t [ 4.99405377 14.31114788]\t -182.64524954946458\t -2.3563457989420957\t -1.0121783602431327\n",
            "8  \t [6.74191484 3.08550618]\t -22.38745217867914\t -2.3563457989420957\t -1.0012981414200406\n",
            "9  \t [1.94926006 0.        ]\t -17.934067106924132\t -2.3563457989420957\t -1.000905860963785\n",
            "10 \t [1.4338906  4.08437962]\t -11.32065797283982\t -2.3563457989420957\t -1.0010166426804128\n",
            "11 \t [5.4647046 0.       ]\t -17.908158366978736\t -2.3563457989420957\t -0.9693164530337643\n",
            "12 \t [ 1.66730529 10.98834972]\t -62.11432572852553\t -2.3563457989420957\t -0.9851100854142372\n",
            "13 \t [-1.88173451 11.37504081]\t -10.759123501853288\t -2.3563457989420957\t -0.823655177944058\n",
            "14 \t [10.          8.76832234]\t -35.182582675394706\t -2.3563457989420957\t -0.9111389387231861\n",
            "15 \t [4.74574555 4.91239588]\t -22.965213501188845\t -2.3563457989420957\t -0.8195448345625344\n",
            "16 \t [-3.78333242 14.35012882]\t -2.5382597946685763\t -2.3563457989420957\t -0.889150498870342\n",
            "17 \t [-1.05480413  4.73365754]\t -24.278643545451946\t -2.3563457989420957\t -0.7780203297503756\n",
            "18 \t [2.42421895 6.24637839]\t -13.956484270822592\t -2.3563457989420957\t -0.595831201611143\n",
            "19 \t [-5.          1.80053186]\t -249.47823277397916\t -2.3563457989420957\t -0.7072823890952414\n",
            "\u001b[1m\u001b[92m20\u001b[0m\t \u001b[1m\u001b[92m[9.9683401  3.23455468]\u001b[0m\t \u001b[1m\u001b[92m-1.8509281105180317\u001b[0m\t \u001b[1m\u001b[92m-1.8509281105180317\u001b[0m\t \u001b[1m\u001b[92m-0.7411662847484541\u001b[0m\n"
          ]
        }
      ]
    },
    {
      "cell_type": "code",
      "metadata": {
        "id": "es0KCh_0JTgY",
        "colab": {
          "base_uri": "https://localhost:8080/"
        },
        "outputId": "ae71720b-69e4-43a1-c580-a4eab8309f16"
      },
      "source": [
        "### EXACT GP ERM GRADIENTS\n",
        "\n",
        "np.random.seed(run_num_18)\n",
        "surrogate_exact_18 = dGaussianProcess(cov_func, optimize=opt)\n",
        "\n",
        "exact_18 = dGPGO(surrogate_exact_18, Acquisition_new(util_grad_exact), objfunc, param)\n",
        "exact_18.run(init_evals=n_init, max_iter=iters)\n"
      ],
      "execution_count": 51,
      "outputs": [
        {
          "output_type": "stream",
          "name": "stdout",
          "text": [
            "Evaluation \t Proposed point \t  Current eval. \t  Best eval. \t         Max AcqFunc.\n",
            "init\t [4.75561363 7.58180061]\t -49.215059064668324\t -8.150075223157177\t    \n",
            "init\t [8.17902206 2.72760338]\t -8.150075223157177\t -8.150075223157177\t    \n",
            "init\t [ 7.78349603 11.25204429]\t -106.98107856533271\t -8.150075223157177\t    \n",
            "init\t [ 4.99152501 14.81843172]\t -196.08601750690153\t -8.150075223157177\t    \n",
            "init\t [-1.14547366  0.42458888]\t -71.23649635555944\t -8.150075223157177\t    \n",
            "1  \t [-4.83474958 11.77354131]\t -35.58412906267954\t -8.150075223157177\t -1.012565731570635\n",
            "2  \t [-0.88714687  6.68331353]\t -16.754341712767037\t -8.150075223157177\t -1.0125645000183963\n",
            "3  \t [9.35886801 6.57464658]\t -17.680117241533345\t -8.150075223157177\t -1.0125644223768393\n",
            "4  \t [-0.63498014 15.        ]\t -80.73140113884219\t -8.150075223157177\t -1.0125499160282307\n",
            "5  \t [-0.12756076 10.65515995]\t -39.32694072953375\t -8.150075223157177\t -1.012565731424965\n",
            "\u001b[1m\u001b[92m6\u001b[0m\t \u001b[1m\u001b[92m[4.16504649 0.        ]\u001b[0m\t \u001b[1m\u001b[92m-7.6019478359455075\u001b[0m\t \u001b[1m\u001b[92m-7.6019478359455075\u001b[0m\t \u001b[1m\u001b[92m-1.0125334403723154\u001b[0m\n",
            "7  \t [-5.          3.99491174]\t -186.76444432328384\t -7.6019478359455075\t -1.0125171124302068\n",
            "8  \t [10. 15.]\t -145.87219087939556\t -7.6019478359455075\t -1.0100039673763637\n",
            "\u001b[1m\u001b[92m9\u001b[0m\t \u001b[1m\u001b[92m[4.04288989 3.52229313]\u001b[0m\t \u001b[1m\u001b[92m-7.445892119911033\u001b[0m\t \u001b[1m\u001b[92m-7.445892119911033\u001b[0m\t \u001b[1m\u001b[92m-1.0049168705079572\u001b[0m\n",
            "10 \t [-4.73937452  8.11274109]\t -79.67977183840414\t -7.445892119911033\t -0.988210000823613\n",
            "11 \t [ 3.16299936 11.39289595]\t -83.83974329693798\t -7.445892119911033\t -0.9417463538158143\n",
            "12 \t [-5.  0.]\t -308.12909601160663\t -7.445892119911033\t -0.9831280141350581\n",
            "\u001b[1m\u001b[92m13\u001b[0m\t \u001b[1m\u001b[92m[9.03261402 0.        ]\u001b[0m\t \u001b[1m\u001b[92m-5.810034234100341\u001b[0m\t \u001b[1m\u001b[92m-5.810034234100341\u001b[0m\t \u001b[1m\u001b[92m-0.9732854102801924\u001b[0m\n",
            "14 \t [1.28760751 3.1275376 ]\t -13.75910789357643\t -5.810034234100341\t -0.9406607718280005\n",
            "15 \t [-4.45382159 14.58400882]\t -8.683354999626598\t -5.810034234100341\t -1.0125633987196203\n",
            "16 \t [6.63724657 0.        ]\t -20.27769282599329\t -5.810034234100341\t -0.8104118795808929\n",
            "17 \t [2.06470708 5.82622396]\t -12.00965146116072\t -5.810034234100341\t -0.8049088099355257\n",
            "\u001b[1m\u001b[92m18\u001b[0m\t \u001b[1m\u001b[92m[10.          3.89331472]\u001b[0m\t \u001b[1m\u001b[92m-2.7358782319288073\u001b[0m\t \u001b[1m\u001b[92m-2.7358782319288073\u001b[0m\t \u001b[1m\u001b[92m-0.7062561950646541\u001b[0m\n",
            "19 \t [7.27897724 4.49690266]\t -25.70085395363498\t -2.7358782319288073\t -0.6482777212942595\n",
            "20 \t [1.96722186 0.71296414]\t -13.346968633932537\t -2.7358782319288073\t -0.6061444909199267\n"
          ]
        }
      ]
    },
    {
      "cell_type": "code",
      "metadata": {
        "id": "Pput2LHPIwBM",
        "colab": {
          "base_uri": "https://localhost:8080/"
        },
        "outputId": "f69122c0-921a-49af-8beb-abfd9b18cb06"
      },
      "source": [
        "### EXACT GP ERM GRADIENTS\n",
        "\n",
        "np.random.seed(run_num_19)\n",
        "surrogate_exact_19 = dGaussianProcess(cov_func, optimize=opt)\n",
        "\n",
        "exact_19 = dGPGO(surrogate_exact_19, Acquisition_new(util_grad_exact), objfunc, param)\n",
        "exact_19.run(init_evals=n_init, max_iter=iters)\n"
      ],
      "execution_count": 52,
      "outputs": [
        {
          "output_type": "stream",
          "name": "stdout",
          "text": [
            "Evaluation \t Proposed point \t  Current eval. \t  Best eval. \t         Max AcqFunc.\n",
            "init\t [-3.53699597 11.41874575]\t -4.475608269502271\t -4.475608269502271\t    \n",
            "init\t [-1.2959304   2.07197531]\t -51.13947793770689\t -4.475608269502271\t    \n",
            "init\t [-0.02830155  1.24499348]\t -42.63973921760034\t -4.475608269502271\t    \n",
            "init\t [ 5.07965622 12.09890697]\t -131.17235664506808\t -4.475608269502271\t    \n",
            "init\t [9.74112872 9.53491102]\t -46.84458913925112\t -4.475608269502271\t    \n",
            "\u001b[1m\u001b[92m1\u001b[0m\t \u001b[1m\u001b[92m[9.57054653 2.03489665]\u001b[0m\t \u001b[1m\u001b[92m-0.8198597583535783\u001b[0m\t \u001b[1m\u001b[92m-0.8198597583535783\u001b[0m\t \u001b[1m\u001b[92m-1.0125657315624823\u001b[0m\n",
            "2  \t [4.94894051 4.56545987]\t -22.995257753719198\t -0.8198597583535783\t -1.012565334217903\n",
            "3  \t [-5.          6.36422973]\t -129.86390264478524\t -0.8198597583535783\t -1.0125630932859733\n",
            "4  \t [ 0.09498041 15.        ]\t -103.28134455168016\t -0.8198597583535783\t -1.0125605563490632\n",
            "5  \t [10. 15.]\t -145.87219087939556\t -0.8198597583535783\t -1.0125583215583662\n",
            "6  \t [0.40358398 9.24732989]\t -33.79683336886079\t -0.8198597583535783\t -1.0124999005348239\n",
            "7  \t [-5.  0.]\t -308.12909601160663\t -0.8198597583535783\t -1.010931426160719\n",
            "8  \t [5.68108845 0.        ]\t -19.185211663897224\t -0.8198597583535783\t -1.012398223500582\n",
            "9  \t [0.30159816 5.57804262]\t -19.170845607213394\t -0.8198597583535783\t -0.99229855144354\n",
            "10 \t [10.          5.20709057]\t -6.80134717884335\t -0.8198597583535783\t -1.0100135172316294\n",
            "11 \t [5.01936262 8.08413677]\t -59.386995797350664\t -0.8198597583535783\t -0.9869872420488995\n",
            "12 \t [9.07231429e+00 4.81250788e-03]\t -5.77957173802523\t -0.8198597583535783\t -0.968188743136851\n",
            "13 \t [3.26301061 1.54093348]\t -0.8798218733731975\t -0.8198597583535783\t -0.8678066939229467\n",
            "14 \t [7.86401324 2.93253008]\t -12.033456692617728\t -0.8198597583535783\t -0.9324388648176715\n",
            "15 \t [-3.64416928 14.12327325]\t -1.9547017806646618\t -0.8198597583535783\t -0.9613288048061593\n",
            "16 \t [2.57574717 2.93460874]\t -1.9258318767428388\t -0.8198597583535783\t -0.7638338504445572\n",
            "17 \t [-2.7304674   9.10988432]\t -6.03325741544623\t -0.8198597583535783\t -0.8221672783248462\n",
            "18 \t [ 2.77491735e+00 -3.46944695e-18]\t -7.6839480534918145\t -0.8198597583535783\t -0.8072013449701718\n",
            "19 \t [ 1.56525369 11.98953179]\t -76.70747871433095\t -0.8198597583535783\t -0.7361741734380762\n",
            "20 \t [ 6.49261328 15.        ]\t -212.2596194543408\t -0.8198597583535783\t -0.7408180833880129\n"
          ]
        }
      ]
    },
    {
      "cell_type": "code",
      "metadata": {
        "id": "aw3xvSryIwDi",
        "colab": {
          "base_uri": "https://localhost:8080/"
        },
        "outputId": "6ea889bf-8e94-404c-d62f-ee56da8805c3"
      },
      "source": [
        "### EXACT GP ERM GRADIENTS\n",
        "\n",
        "np.random.seed(run_num_20)\n",
        "surrogate_exact_20 = dGaussianProcess(cov_func, optimize=opt)\n",
        "\n",
        "exact_20 = dGPGO(surrogate_exact_20, Acquisition_new(util_grad_exact), objfunc, param)\n",
        "exact_20.run(init_evals=n_init, max_iter=iters)\n"
      ],
      "execution_count": 53,
      "outputs": [
        {
          "output_type": "stream",
          "name": "stdout",
          "text": [
            "Evaluation \t Proposed point \t  Current eval. \t  Best eval. \t         Max AcqFunc.\n",
            "init\t [ 3.82196202 13.46570592]\t -138.5264349938869\t -14.042667401507376\t    \n",
            "init\t [ 8.37296094 12.23756216]\t -115.63178540512689\t -14.042667401507376\t    \n",
            "init\t [-4.46165622 10.37636373]\t -35.66708529307584\t -14.042667401507376\t    \n",
            "init\t [0.68021413 7.77766418]\t -25.307769914281764\t -14.042667401507376\t    \n",
            "init\t [4.86927198 2.90775327]\t -14.042667401507376\t -14.042667401507376\t    \n",
            "1  \t [0.14992375 0.        ]\t -52.72147028896617\t -14.042667401507376\t -1.0125648673198404\n",
            "\u001b[1m\u001b[92m2\u001b[0m\t \u001b[1m\u001b[92m[10.          5.64843486]\u001b[0m\t \u001b[1m\u001b[92m-8.941695868504478\u001b[0m\t \u001b[1m\u001b[92m-8.941695868504478\u001b[0m\t \u001b[1m\u001b[92m-1.012565545580381\u001b[0m\n",
            "3  \t [-5.          4.78158886]\t -166.62691093349147\t -8.941695868504478\t -1.0125642981070102\n",
            "4  \t [-2.33777373 13.96317816]\t -15.843176720593151\t -8.941695868504478\t -1.0125648262389706\n",
            "5  \t [-5.  0.]\t -308.12909601160663\t -8.941695868504478\t -1.0120162357633602\n",
            "\u001b[1m\u001b[92m6\u001b[0m\t \u001b[1m\u001b[92m[9.19905437 0.83066952]\u001b[0m\t \u001b[1m\u001b[92m-2.7745590618899953\u001b[0m\t \u001b[1m\u001b[92m-2.7745590618899953\u001b[0m\t \u001b[1m\u001b[92m-1.0125086847655755\u001b[0m\n",
            "7  \t [5.49750575 7.93367069]\t -62.74176825810236\t -2.7745590618899953\t -1.0124280249935398\n",
            "8  \t [-0.10893141 11.47763315]\t -47.66415027711501\t -2.7745590618899953\t -0.9867449386526103\n",
            "9  \t [0.88466781 3.96968558]\t -16.606731231555052\t -2.7745590618899953\t -1.002272402383405\n",
            "10 \t [5.55724611 0.        ]\t -18.49215148208436\t -2.7745590618899953\t -0.9656662967268808\n",
            "11 \t [9.74424848 8.75814955]\t -36.88955250229118\t -2.7745590618899953\t -0.9611686223447004\n",
            "12 \t [-2.60076684  7.78568961]\t -12.184128886923869\t -2.7745590618899953\t -0.8895376020352161\n",
            "13 \t [8.05345736 3.33842411]\t -11.255828236839616\t -2.7745590618899953\t -0.9453801840300202\n",
            "14 \t [ 0.75893292 14.91036705]\t -117.84570818776628\t -2.7745590618899953\t -0.8422888743801724\n",
            "15 \t [10. 15.]\t -145.87219087939556\t -2.7745590618899953\t -0.8277217221384112\n",
            "16 \t [-1.48347278  5.07214313]\t -23.604986150930856\t -2.7745590618899953\t -0.7238025724464587\n",
            "17 \t [ 2.67778294 10.17463636]\t -57.81450800900044\t -2.7745590618899953\t -0.7411306351674031\n",
            "18 \t [-2.28461774  2.46100626]\t -65.32555698668902\t -2.7745590618899953\t -0.6612275695112704\n",
            "19 \t [3.59289593 5.22099757]\t -12.062877688776911\t -2.7745590618899953\t -0.7757541060781102\n",
            "20 \t [2.53167527 1.90301762]\t -2.9314511057269685\t -2.7745590618899953\t -0.6143070497378571\n"
          ]
        }
      ]
    },
    {
      "cell_type": "code",
      "metadata": {
        "id": "qNqAB3vBTPqb",
        "colab": {
          "base_uri": "https://localhost:8080/"
        },
        "outputId": "e433a6ca-4be6-4203-8eac-47a0488a0b5c"
      },
      "source": [
        "end_exact = time.time()\n",
        "end_exact\n",
        "\n",
        "time_exact = end_exact - start_exact\n",
        "time_exact"
      ],
      "execution_count": 54,
      "outputs": [
        {
          "output_type": "execute_result",
          "data": {
            "text/plain": [
              "342.18915247917175"
            ]
          },
          "metadata": {},
          "execution_count": 54
        }
      ]
    },
    {
      "cell_type": "code",
      "metadata": {
        "id": "JPQzjdBZQxfg",
        "colab": {
          "base_uri": "https://localhost:8080/"
        },
        "outputId": "60a48eac-4b1d-4a95-8f59-b8bd2e7e7925"
      },
      "source": [
        "### Simple regret minimization: run number = 1\n",
        "\n",
        "approx_output_1 = np.append(np.min(approx_1.GP.y[0:n_init]),approx_1.GP.y[n_init:(n_init+iters)]) \n",
        "exact_output_1 = np.append(np.min(exact_1.GP.y[0:n_init]),exact_1.GP.y[n_init:(n_init+iters)]) \n",
        "\n",
        "regret_approx_1 = np.log(-approx_output_1 + y_global_orig)\n",
        "regret_exact_1 = np.log(-exact_output_1 + y_global_orig)\n",
        "\n",
        "simple_regret_approx_1 = min_max_array(regret_approx_1)\n",
        "simple_regret_exact_1 = min_max_array(regret_exact_1)\n",
        "\n",
        "min_simple_regret_approx_1 = min(simple_regret_approx_1)\n",
        "min_simple_regret_exact_1 = min(simple_regret_exact_1)\n",
        "\n",
        "min_simple_regret_approx_1, min_simple_regret_exact_1"
      ],
      "execution_count": 55,
      "outputs": [
        {
          "output_type": "execute_result",
          "data": {
            "text/plain": [
              "(1.3700178942367358, 0.4647841999154631)"
            ]
          },
          "metadata": {},
          "execution_count": 55
        }
      ]
    },
    {
      "cell_type": "code",
      "metadata": {
        "id": "94yBw5tqQxfk",
        "colab": {
          "base_uri": "https://localhost:8080/"
        },
        "outputId": "83b7a02e-4847-4fca-9e73-21f841ce9c05"
      },
      "source": [
        "### Simple regret minimization: run number = 2\n",
        "\n",
        "approx_output_2 = np.append(np.min(approx_2.GP.y[0:n_init]),approx_2.GP.y[n_init:(n_init+iters)]) \n",
        "exact_output_2 = np.append(np.min(exact_2.GP.y[0:n_init]),exact_2.GP.y[n_init:(n_init+iters)]) \n",
        "\n",
        "regret_approx_2 = np.log(-approx_output_2 + y_global_orig)\n",
        "regret_exact_2 = np.log(-exact_output_2 + y_global_orig)\n",
        "\n",
        "simple_regret_approx_2 = min_max_array(regret_approx_2)\n",
        "simple_regret_exact_2 = min_max_array(regret_exact_2)\n",
        "\n",
        "min_simple_regret_approx_2 = min(simple_regret_approx_2)\n",
        "min_simple_regret_exact_2 = min(simple_regret_exact_2)\n",
        "\n",
        "min_simple_regret_approx_2, min_simple_regret_exact_2"
      ],
      "execution_count": 56,
      "outputs": [
        {
          "output_type": "execute_result",
          "data": {
            "text/plain": [
              "(0.0005721783316311656, 0.0005721783316311656)"
            ]
          },
          "metadata": {},
          "execution_count": 56
        }
      ]
    },
    {
      "cell_type": "code",
      "metadata": {
        "id": "Bu6SBWALQxfl",
        "colab": {
          "base_uri": "https://localhost:8080/"
        },
        "outputId": "10a427e2-776d-4c4a-dadd-6cf2066134eb"
      },
      "source": [
        "### Simple regret minimization: run number = 3\n",
        "\n",
        "approx_output_3 = np.append(np.min(approx_3.GP.y[0:n_init]),approx_3.GP.y[n_init:(n_init+iters)]) \n",
        "exact_output_3 = np.append(np.min(exact_3.GP.y[0:n_init]),exact_3.GP.y[n_init:(n_init+iters)]) \n",
        "\n",
        "regret_approx_3 = np.log(-approx_output_3 + y_global_orig)\n",
        "regret_exact_3 = np.log(-exact_output_3 + y_global_orig)\n",
        "\n",
        "simple_regret_approx_3 = min_max_array(regret_approx_3)\n",
        "simple_regret_exact_3 = min_max_array(regret_exact_3)\n",
        "\n",
        "min_simple_regret_approx_3 = min(simple_regret_approx_3)\n",
        "min_simple_regret_exact_3 = min(simple_regret_exact_3)\n",
        "\n",
        "min_simple_regret_approx_3, min_simple_regret_exact_3"
      ],
      "execution_count": 57,
      "outputs": [
        {
          "output_type": "execute_result",
          "data": {
            "text/plain": [
              "(0.5886557506760689, 1.164129196584808)"
            ]
          },
          "metadata": {},
          "execution_count": 57
        }
      ]
    },
    {
      "cell_type": "code",
      "metadata": {
        "id": "AZm0jgxkQxfm",
        "colab": {
          "base_uri": "https://localhost:8080/"
        },
        "outputId": "759dee9f-e7cc-43f0-e1ac-062104a21f9d"
      },
      "source": [
        "### Simple regret minimization: run number = 4\n",
        "\n",
        "approx_output_4 = np.append(np.min(approx_4.GP.y[0:n_init]),approx_4.GP.y[n_init:(n_init+iters)]) \n",
        "exact_output_4 = np.append(np.min(exact_4.GP.y[0:n_init]),exact_4.GP.y[n_init:(n_init+iters)]) \n",
        "\n",
        "regret_approx_4 = np.log(-approx_output_4 + y_global_orig)\n",
        "regret_exact_4 = np.log(-exact_output_4 + y_global_orig)\n",
        "\n",
        "simple_regret_approx_4 = min_max_array(regret_approx_4)\n",
        "simple_regret_exact_4 = min_max_array(regret_exact_4)\n",
        "\n",
        "min_simple_regret_approx_4 = min(simple_regret_approx_4)\n",
        "min_simple_regret_exact_4 = min(simple_regret_exact_4)\n",
        "\n",
        "min_simple_regret_approx_4, min_simple_regret_exact_4"
      ],
      "execution_count": 58,
      "outputs": [
        {
          "output_type": "execute_result",
          "data": {
            "text/plain": [
              "(0.9093018111040746, 0.04685686771131252)"
            ]
          },
          "metadata": {},
          "execution_count": 58
        }
      ]
    },
    {
      "cell_type": "code",
      "metadata": {
        "id": "NONPm8JIQxfn",
        "colab": {
          "base_uri": "https://localhost:8080/"
        },
        "outputId": "fe79bbc9-7982-4b62-8f45-f822da14e54c"
      },
      "source": [
        "### Simple regret minimization: run number = 5\n",
        "\n",
        "approx_output_5 = np.append(np.min(approx_5.GP.y[0:n_init]),approx_5.GP.y[n_init:(n_init+iters)]) \n",
        "exact_output_5 = np.append(np.min(exact_5.GP.y[0:n_init]),exact_5.GP.y[n_init:(n_init+iters)]) \n",
        "\n",
        "regret_approx_5 = np.log(-approx_output_5 + y_global_orig)\n",
        "regret_exact_5 = np.log(-exact_output_5 + y_global_orig)\n",
        "\n",
        "simple_regret_approx_5 = min_max_array(regret_approx_5)\n",
        "simple_regret_exact_5 = min_max_array(regret_exact_5)\n",
        "\n",
        "min_simple_regret_approx_5 = min(simple_regret_approx_5)\n",
        "min_simple_regret_exact_5 = min(simple_regret_exact_5)\n",
        "\n",
        "min_simple_regret_approx_5, min_simple_regret_exact_5"
      ],
      "execution_count": 59,
      "outputs": [
        {
          "output_type": "execute_result",
          "data": {
            "text/plain": [
              "(1.2009407200657494, 0.2798562296647548)"
            ]
          },
          "metadata": {},
          "execution_count": 59
        }
      ]
    },
    {
      "cell_type": "code",
      "metadata": {
        "id": "CJv3lPuSQxfp",
        "colab": {
          "base_uri": "https://localhost:8080/"
        },
        "outputId": "48fc45b6-12f4-4b67-d8a5-bfb965390a23"
      },
      "source": [
        "### Simple regret minimization: run number = 6\n",
        "\n",
        "approx_output_6 = np.append(np.min(approx_6.GP.y[0:n_init]),approx_6.GP.y[n_init:(n_init+iters)]) \n",
        "exact_output_6 = np.append(np.min(exact_6.GP.y[0:n_init]),exact_6.GP.y[n_init:(n_init+iters)]) \n",
        "\n",
        "regret_approx_6 = np.log(-approx_output_6 + y_global_orig)\n",
        "regret_exact_6 = np.log(-exact_output_6 + y_global_orig)\n",
        "\n",
        "simple_regret_approx_6 = min_max_array(regret_approx_6)\n",
        "simple_regret_exact_6 = min_max_array(regret_exact_6)\n",
        "\n",
        "min_simple_regret_approx_6 = min(simple_regret_approx_6)\n",
        "min_simple_regret_exact_6 = min(simple_regret_exact_6)\n",
        "\n",
        "min_simple_regret_approx_6, min_simple_regret_exact_6"
      ],
      "execution_count": 60,
      "outputs": [
        {
          "output_type": "execute_result",
          "data": {
            "text/plain": [
              "(0.18502929902031712, -0.7853730592494456)"
            ]
          },
          "metadata": {},
          "execution_count": 60
        }
      ]
    },
    {
      "cell_type": "code",
      "metadata": {
        "id": "quR2ZyApQxfq",
        "colab": {
          "base_uri": "https://localhost:8080/"
        },
        "outputId": "46fc5733-a23a-47e0-be50-f285f2d866a1"
      },
      "source": [
        "### Simple regret minimization: run number = 7\n",
        "\n",
        "approx_output_7 = np.append(np.min(approx_7.GP.y[0:n_init]),approx_7.GP.y[n_init:(n_init+iters)]) \n",
        "exact_output_7 = np.append(np.min(exact_7.GP.y[0:n_init]),exact_7.GP.y[n_init:(n_init+iters)]) \n",
        "\n",
        "regret_approx_7 = np.log(-approx_output_7 + y_global_orig)\n",
        "regret_exact_7 = np.log(-exact_output_7 + y_global_orig)\n",
        "\n",
        "simple_regret_approx_7 = min_max_array(regret_approx_7)\n",
        "simple_regret_exact_7 = min_max_array(regret_exact_7)\n",
        "\n",
        "min_simple_regret_approx_7 = min(simple_regret_approx_7)\n",
        "min_simple_regret_exact_7 = min(simple_regret_exact_7)\n",
        "\n",
        "min_simple_regret_approx_7, min_simple_regret_exact_7"
      ],
      "execution_count": 61,
      "outputs": [
        {
          "output_type": "execute_result",
          "data": {
            "text/plain": [
              "(0.7868206601641746, -0.14978798288142878)"
            ]
          },
          "metadata": {},
          "execution_count": 61
        }
      ]
    },
    {
      "cell_type": "code",
      "metadata": {
        "id": "99wY5nK6Qxfr",
        "colab": {
          "base_uri": "https://localhost:8080/"
        },
        "outputId": "6b0b8597-940c-4902-c395-4945f6b0fba1"
      },
      "source": [
        "### Simple regret minimization: run number = 8\n",
        "\n",
        "approx_output_8 = np.append(np.min(approx_8.GP.y[0:n_init]),approx_8.GP.y[n_init:(n_init+iters)]) \n",
        "exact_output_8 = np.append(np.min(exact_8.GP.y[0:n_init]),exact_8.GP.y[n_init:(n_init+iters)]) \n",
        "\n",
        "regret_approx_8 = np.log(-approx_output_8 + y_global_orig)\n",
        "regret_exact_8 = np.log(-exact_output_8 + y_global_orig)\n",
        "\n",
        "simple_regret_approx_8 = min_max_array(regret_approx_8)\n",
        "simple_regret_exact_8 = min_max_array(regret_exact_8)\n",
        "\n",
        "min_simple_regret_approx_8 = min(simple_regret_approx_8)\n",
        "min_simple_regret_exact_8 = min(simple_regret_exact_8)\n",
        "\n",
        "min_simple_regret_approx_8, min_simple_regret_exact_8"
      ],
      "execution_count": 62,
      "outputs": [
        {
          "output_type": "execute_result",
          "data": {
            "text/plain": [
              "(1.0741475238762823, 0.4572820101202621)"
            ]
          },
          "metadata": {},
          "execution_count": 62
        }
      ]
    },
    {
      "cell_type": "code",
      "metadata": {
        "id": "qt0P5t9qQxfs",
        "colab": {
          "base_uri": "https://localhost:8080/"
        },
        "outputId": "b122afe3-3d6d-4b78-e943-086ff5c7ee67"
      },
      "source": [
        "### Simple regret minimization: run number = 9\n",
        "\n",
        "approx_output_9 = np.append(np.min(approx_9.GP.y[0:n_init]),approx_9.GP.y[n_init:(n_init+iters)]) \n",
        "exact_output_9 = np.append(np.min(exact_9.GP.y[0:n_init]),exact_9.GP.y[n_init:(n_init+iters)]) \n",
        "\n",
        "regret_approx_9 = np.log(-approx_output_9 + y_global_orig)\n",
        "regret_exact_9 = np.log(-exact_output_9 + y_global_orig)\n",
        "\n",
        "simple_regret_approx_9 = min_max_array(regret_approx_9)\n",
        "simple_regret_exact_9 = min_max_array(regret_exact_9)\n",
        "\n",
        "min_simple_regret_approx_9 = min(simple_regret_approx_9)\n",
        "min_simple_regret_exact_9 = min(simple_regret_exact_9)\n",
        "\n",
        "min_simple_regret_approx_9, min_simple_regret_exact_9"
      ],
      "execution_count": 63,
      "outputs": [
        {
          "output_type": "execute_result",
          "data": {
            "text/plain": [
              "(0.45303178589525894, 0.5941651047479486)"
            ]
          },
          "metadata": {},
          "execution_count": 63
        }
      ]
    },
    {
      "cell_type": "code",
      "metadata": {
        "id": "vx8to9stQxft",
        "colab": {
          "base_uri": "https://localhost:8080/"
        },
        "outputId": "0897bad9-984d-4925-8e19-bb676dc8fe27"
      },
      "source": [
        "### Simple regret minimization: run number = 10\n",
        "\n",
        "approx_output_10 = np.append(np.min(approx_10.GP.y[0:n_init]),approx_10.GP.y[n_init:(n_init+iters)]) \n",
        "exact_output_10 = np.append(np.min(exact_10.GP.y[0:n_init]),exact_10.GP.y[n_init:(n_init+iters)]) \n",
        "\n",
        "regret_approx_10 = np.log(-approx_output_10 + y_global_orig)\n",
        "regret_exact_10 = np.log(-exact_output_10 + y_global_orig)\n",
        "\n",
        "simple_regret_approx_10 = min_max_array(regret_approx_10)\n",
        "simple_regret_exact_10 = min_max_array(regret_exact_10)\n",
        "\n",
        "min_simple_regret_approx_10 = min(simple_regret_approx_10)\n",
        "min_simple_regret_exact_10 = min(simple_regret_exact_10)\n",
        "\n",
        "min_simple_regret_approx_10, min_simple_regret_exact_10"
      ],
      "execution_count": 64,
      "outputs": [
        {
          "output_type": "execute_result",
          "data": {
            "text/plain": [
              "(0.6062647559923829, 0.7664260555342787)"
            ]
          },
          "metadata": {},
          "execution_count": 64
        }
      ]
    },
    {
      "cell_type": "code",
      "metadata": {
        "id": "d-FGzWyHQxfu",
        "colab": {
          "base_uri": "https://localhost:8080/"
        },
        "outputId": "f8bfd2a4-4d44-4ac6-9ed8-fac61c64dd06"
      },
      "source": [
        "### Simple regret minimization: run number = 11\n",
        "\n",
        "approx_output_11 = np.append(np.min(approx_11.GP.y[0:n_init]),approx_11.GP.y[n_init:(n_init+iters)]) \n",
        "exact_output_11 = np.append(np.min(exact_11.GP.y[0:n_init]),exact_11.GP.y[n_init:(n_init+iters)]) \n",
        "\n",
        "regret_approx_11 = np.log(-approx_output_11 + y_global_orig)\n",
        "regret_exact_11 = np.log(-exact_output_11 + y_global_orig)\n",
        "\n",
        "simple_regret_approx_11 = min_max_array(regret_approx_11)\n",
        "simple_regret_exact_11 = min_max_array(regret_exact_11)\n",
        "\n",
        "min_simple_regret_approx_11 = min(simple_regret_approx_11)\n",
        "min_simple_regret_exact_11 = min(simple_regret_exact_11)\n",
        "\n",
        "min_simple_regret_approx_11, min_simple_regret_exact_11"
      ],
      "execution_count": 65,
      "outputs": [
        {
          "output_type": "execute_result",
          "data": {
            "text/plain": [
              "(0.4375409096198029, 0.16625211626847194)"
            ]
          },
          "metadata": {},
          "execution_count": 65
        }
      ]
    },
    {
      "cell_type": "code",
      "metadata": {
        "id": "SvtsssyjQxfv",
        "colab": {
          "base_uri": "https://localhost:8080/"
        },
        "outputId": "5008646f-d2bc-440e-cc9d-649efa6de0da"
      },
      "source": [
        "### Simple regret minimization: run number = 12\n",
        "\n",
        "approx_output_12 = np.append(np.min(approx_12.GP.y[0:n_init]),approx_12.GP.y[n_init:(n_init+iters)]) \n",
        "exact_output_12 = np.append(np.min(exact_12.GP.y[0:n_init]),exact_12.GP.y[n_init:(n_init+iters)]) \n",
        "\n",
        "regret_approx_12 = np.log(-approx_output_12 + y_global_orig)\n",
        "regret_exact_12 = np.log(-exact_output_12 + y_global_orig)\n",
        "\n",
        "simple_regret_approx_12 = min_max_array(regret_approx_12)\n",
        "simple_regret_exact_12 = min_max_array(regret_exact_12)\n",
        "\n",
        "min_simple_regret_approx_12 = min(simple_regret_approx_12)\n",
        "min_simple_regret_exact_12 = min(simple_regret_exact_12)\n",
        "\n",
        "min_simple_regret_approx_12, min_simple_regret_exact_12"
      ],
      "execution_count": 66,
      "outputs": [
        {
          "output_type": "execute_result",
          "data": {
            "text/plain": [
              "(-0.42947263259769924, 1.1750813570475924)"
            ]
          },
          "metadata": {},
          "execution_count": 66
        }
      ]
    },
    {
      "cell_type": "code",
      "metadata": {
        "id": "K6OiGcHkQxfw",
        "colab": {
          "base_uri": "https://localhost:8080/"
        },
        "outputId": "21d86623-7de9-46d8-98d3-04743a710308"
      },
      "source": [
        "### Simple regret minimization: run number = 13\n",
        "\n",
        "approx_output_13 = np.append(np.min(approx_13.GP.y[0:n_init]),approx_13.GP.y[n_init:(n_init+iters)]) \n",
        "exact_output_13 = np.append(np.min(exact_13.GP.y[0:n_init]),exact_13.GP.y[n_init:(n_init+iters)]) \n",
        "\n",
        "regret_approx_13 = np.log(-approx_output_13 + y_global_orig)\n",
        "regret_exact_13 = np.log(-exact_output_13 + y_global_orig)\n",
        "\n",
        "simple_regret_approx_13 = min_max_array(regret_approx_13)\n",
        "simple_regret_exact_13 = min_max_array(regret_exact_13)\n",
        "\n",
        "min_simple_regret_approx_13 = min(simple_regret_approx_13)\n",
        "min_simple_regret_exact_13 = min(simple_regret_exact_13)\n",
        "\n",
        "min_simple_regret_approx_13, min_simple_regret_exact_13"
      ],
      "execution_count": 67,
      "outputs": [
        {
          "output_type": "execute_result",
          "data": {
            "text/plain": [
              "(-0.7002400699524578, -0.7002400699524578)"
            ]
          },
          "metadata": {},
          "execution_count": 67
        }
      ]
    },
    {
      "cell_type": "code",
      "metadata": {
        "id": "ogML73shQxfx",
        "colab": {
          "base_uri": "https://localhost:8080/"
        },
        "outputId": "80e1f996-e602-435c-b56e-8491551e3c29"
      },
      "source": [
        "### Simple regret minimization: run number = 14\n",
        "\n",
        "approx_output_14 = np.append(np.min(approx_14.GP.y[0:n_init]),approx_14.GP.y[n_init:(n_init+iters)]) \n",
        "exact_output_14 = np.append(np.min(exact_14.GP.y[0:n_init]),exact_14.GP.y[n_init:(n_init+iters)]) \n",
        "\n",
        "regret_approx_14 = np.log(-approx_output_14 + y_global_orig)\n",
        "regret_exact_14 = np.log(-exact_output_14 + y_global_orig)\n",
        "\n",
        "simple_regret_approx_14 = min_max_array(regret_approx_14)\n",
        "simple_regret_exact_14 = min_max_array(regret_exact_14)\n",
        "\n",
        "min_simple_regret_approx_14 = min(simple_regret_approx_14)\n",
        "min_simple_regret_exact_14 = min(simple_regret_exact_14)\n",
        "\n",
        "min_simple_regret_approx_14, min_simple_regret_exact_14"
      ],
      "execution_count": 68,
      "outputs": [
        {
          "output_type": "execute_result",
          "data": {
            "text/plain": [
              "(-0.6986095103445964, 0.5834871186666485)"
            ]
          },
          "metadata": {},
          "execution_count": 68
        }
      ]
    },
    {
      "cell_type": "code",
      "metadata": {
        "id": "9Eg7gFT9Qxfx",
        "colab": {
          "base_uri": "https://localhost:8080/"
        },
        "outputId": "c8fc8a45-7ca5-4ae3-a1c3-d7dec2939d53"
      },
      "source": [
        "### Simple regret minimization: run number = 15\n",
        "\n",
        "approx_output_15 = np.append(np.min(approx_15.GP.y[0:n_init]),approx_15.GP.y[n_init:(n_init+iters)]) \n",
        "exact_output_15 = np.append(np.min(exact_15.GP.y[0:n_init]),exact_15.GP.y[n_init:(n_init+iters)]) \n",
        "\n",
        "regret_approx_15 = np.log(-approx_output_15 + y_global_orig)\n",
        "regret_exact_15 = np.log(-exact_output_15 + y_global_orig)\n",
        "\n",
        "simple_regret_approx_15 = min_max_array(regret_approx_15)\n",
        "simple_regret_exact_15 = min_max_array(regret_exact_15)\n",
        "\n",
        "min_simple_regret_approx_15 = min(simple_regret_approx_15)\n",
        "min_simple_regret_exact_15 = min(simple_regret_exact_15)\n",
        "\n",
        "min_simple_regret_approx_15, min_simple_regret_exact_15"
      ],
      "execution_count": 69,
      "outputs": [
        {
          "output_type": "execute_result",
          "data": {
            "text/plain": [
              "(0.7622468675665529, 0.11505526150196381)"
            ]
          },
          "metadata": {},
          "execution_count": 69
        }
      ]
    },
    {
      "cell_type": "code",
      "metadata": {
        "id": "lIAC1U7ZQxfy",
        "colab": {
          "base_uri": "https://localhost:8080/"
        },
        "outputId": "e6141030-01fd-4d3a-e335-4a3cce78f136"
      },
      "source": [
        "### Simple regret minimization: run number = 16\n",
        "\n",
        "approx_output_16 = np.append(np.min(approx_16.GP.y[0:n_init]),approx_16.GP.y[n_init:(n_init+iters)]) \n",
        "exact_output_16 = np.append(np.min(exact_16.GP.y[0:n_init]),exact_16.GP.y[n_init:(n_init+iters)]) \n",
        "\n",
        "regret_approx_16 = np.log(-approx_output_16 + y_global_orig)\n",
        "regret_exact_16 = np.log(-exact_output_16 + y_global_orig)\n",
        "\n",
        "simple_regret_approx_16 = min_max_array(regret_approx_16)\n",
        "simple_regret_exact_16 = min_max_array(regret_exact_16)\n",
        "\n",
        "min_simple_regret_approx_16 = min(simple_regret_approx_16)\n",
        "min_simple_regret_exact_16 = min(simple_regret_exact_16)\n",
        "\n",
        "min_simple_regret_approx_16, min_simple_regret_exact_16"
      ],
      "execution_count": 70,
      "outputs": [
        {
          "output_type": "execute_result",
          "data": {
            "text/plain": [
              "(0.7981624508188385, -0.9361209721049353)"
            ]
          },
          "metadata": {},
          "execution_count": 70
        }
      ]
    },
    {
      "cell_type": "code",
      "metadata": {
        "id": "bGott36OQxfz",
        "colab": {
          "base_uri": "https://localhost:8080/"
        },
        "outputId": "2a27ecfc-83d0-4fa3-e595-aec055deec9a"
      },
      "source": [
        "### Simple regret minimization: run number = 17\n",
        "\n",
        "approx_output_17 = np.append(np.min(approx_17.GP.y[0:n_init]),approx_17.GP.y[n_init:(n_init+iters)]) \n",
        "exact_output_17 = np.append(np.min(exact_17.GP.y[0:n_init]),exact_17.GP.y[n_init:(n_init+iters)]) \n",
        "\n",
        "regret_approx_17 = np.log(-approx_output_17 + y_global_orig)\n",
        "regret_exact_17 = np.log(-exact_output_17 + y_global_orig)\n",
        "\n",
        "simple_regret_approx_17 = min_max_array(regret_approx_17)\n",
        "simple_regret_exact_17 = min_max_array(regret_exact_17)\n",
        "\n",
        "min_simple_regret_approx_17 = min(simple_regret_approx_17)\n",
        "min_simple_regret_exact_17 = min(simple_regret_exact_17)\n",
        "\n",
        "min_simple_regret_approx_17, min_simple_regret_exact_17"
      ],
      "execution_count": 71,
      "outputs": [
        {
          "output_type": "execute_result",
          "data": {
            "text/plain": [
              "(0.4428317913917495, 0.3736586777309275)"
            ]
          },
          "metadata": {},
          "execution_count": 71
        }
      ]
    },
    {
      "cell_type": "code",
      "metadata": {
        "id": "Cz9ZYMBMQxfz",
        "colab": {
          "base_uri": "https://localhost:8080/"
        },
        "outputId": "6237dad5-3bd3-4f49-e158-0e6b7a53ee8d"
      },
      "source": [
        "### Simple regret minimization: run number = 18\n",
        "\n",
        "approx_output_18 = np.append(np.min(approx_18.GP.y[0:n_init]),approx_18.GP.y[n_init:(n_init+iters)]) \n",
        "exact_output_18 = np.append(np.min(exact_18.GP.y[0:n_init]),exact_18.GP.y[n_init:(n_init+iters)]) \n",
        "\n",
        "regret_approx_18 = np.log(-approx_output_18 + y_global_orig)\n",
        "regret_exact_18 = np.log(-exact_output_18 + y_global_orig)\n",
        "\n",
        "simple_regret_approx_18 = min_max_array(regret_approx_18)\n",
        "simple_regret_exact_18 = min_max_array(regret_exact_18)\n",
        "\n",
        "min_simple_regret_approx_18 = min(simple_regret_approx_18)\n",
        "min_simple_regret_exact_18 = min(simple_regret_exact_18)\n",
        "\n",
        "min_simple_regret_approx_18, min_simple_regret_exact_18"
      ],
      "execution_count": 72,
      "outputs": [
        {
          "output_type": "execute_result",
          "data": {
            "text/plain": [
              "(1.298241600965053, 0.8492921127985363)"
            ]
          },
          "metadata": {},
          "execution_count": 72
        }
      ]
    },
    {
      "cell_type": "code",
      "metadata": {
        "id": "OBfpWOHNQxf0",
        "colab": {
          "base_uri": "https://localhost:8080/"
        },
        "outputId": "e9e68582-ee9e-484d-e196-61871537a65b"
      },
      "source": [
        "### Simple regret minimization: run number = 19\n",
        "\n",
        "approx_output_19 = np.append(np.min(approx_19.GP.y[0:n_init]),approx_19.GP.y[n_init:(n_init+iters)]) \n",
        "exact_output_19 = np.append(np.min(exact_19.GP.y[0:n_init]),exact_19.GP.y[n_init:(n_init+iters)]) \n",
        "\n",
        "regret_approx_19 = np.log(-approx_output_19 + y_global_orig)\n",
        "regret_exact_19 = np.log(-exact_output_19 + y_global_orig)\n",
        "\n",
        "simple_regret_approx_19 = min_max_array(regret_approx_19)\n",
        "simple_regret_exact_19 = min_max_array(regret_exact_19)\n",
        "\n",
        "min_simple_regret_approx_19 = min(simple_regret_approx_19)\n",
        "min_simple_regret_exact_19 = min(simple_regret_exact_19)\n",
        "\n",
        "min_simple_regret_approx_19, min_simple_regret_exact_19"
      ],
      "execution_count": 73,
      "outputs": [
        {
          "output_type": "execute_result",
          "data": {
            "text/plain": [
              "(-2.8682738120274913, -0.8628145206943092)"
            ]
          },
          "metadata": {},
          "execution_count": 73
        }
      ]
    },
    {
      "cell_type": "code",
      "metadata": {
        "id": "BE1AJ7NsQxf0",
        "colab": {
          "base_uri": "https://localhost:8080/"
        },
        "outputId": "dfeff7e3-20ca-4ab1-c75e-284b47dac5fd"
      },
      "source": [
        "### Simple regret minimization: run number = 20\n",
        "\n",
        "approx_output_20 = np.append(np.min(approx_20.GP.y[0:n_init]),approx_20.GP.y[n_init:(n_init+iters)]) \n",
        "exact_output_20 = np.append(np.min(exact_20.GP.y[0:n_init]),exact_20.GP.y[n_init:(n_init+iters)]) \n",
        "\n",
        "regret_approx_20 = np.log(-approx_output_20 + y_global_orig)\n",
        "regret_exact_20 = np.log(-exact_output_20 + y_global_orig)\n",
        "\n",
        "simple_regret_approx_20 = min_max_array(regret_approx_20)\n",
        "simple_regret_exact_20 = min_max_array(regret_exact_20)\n",
        "\n",
        "min_simple_regret_approx_20 = min(simple_regret_approx_20)\n",
        "min_simple_regret_exact_20 = min(simple_regret_exact_20)\n",
        "\n",
        "min_simple_regret_approx_20, min_simple_regret_exact_20"
      ],
      "execution_count": 74,
      "outputs": [
        {
          "output_type": "execute_result",
          "data": {
            "text/plain": [
              "(0.7435427963733635, 0.8657012158354602)"
            ]
          },
          "metadata": {},
          "execution_count": 74
        }
      ]
    },
    {
      "cell_type": "code",
      "metadata": {
        "id": "bpX-bKAHQxf1"
      },
      "source": [
        "# Iteration1 :\n",
        "\n",
        "slice1 = 0\n",
        "\n",
        "approx1 = [simple_regret_approx_1[slice1],\n",
        "       simple_regret_approx_2[slice1],\n",
        "       simple_regret_approx_3[slice1],\n",
        "       simple_regret_approx_4[slice1],\n",
        "       simple_regret_approx_5[slice1],\n",
        "       simple_regret_approx_6[slice1],\n",
        "       simple_regret_approx_7[slice1],\n",
        "       simple_regret_approx_8[slice1],\n",
        "       simple_regret_approx_9[slice1],\n",
        "       simple_regret_approx_10[slice1],\n",
        "       simple_regret_approx_11[slice1],\n",
        "       simple_regret_approx_12[slice1],\n",
        "       simple_regret_approx_13[slice1],\n",
        "       simple_regret_approx_14[slice1],\n",
        "       simple_regret_approx_15[slice1],\n",
        "       simple_regret_approx_16[slice1],\n",
        "       simple_regret_approx_17[slice1],\n",
        "       simple_regret_approx_18[slice1],\n",
        "       simple_regret_approx_19[slice1],\n",
        "       simple_regret_approx_20[slice1]]\n",
        "\n",
        "exact1 = [simple_regret_exact_1[slice1],\n",
        "       simple_regret_exact_2[slice1],\n",
        "       simple_regret_exact_3[slice1],\n",
        "       simple_regret_exact_4[slice1],\n",
        "       simple_regret_exact_5[slice1],\n",
        "       simple_regret_exact_6[slice1],\n",
        "       simple_regret_exact_7[slice1],\n",
        "       simple_regret_exact_8[slice1],\n",
        "       simple_regret_exact_9[slice1],\n",
        "       simple_regret_exact_10[slice1],\n",
        "       simple_regret_exact_11[slice1],\n",
        "       simple_regret_exact_12[slice1],\n",
        "       simple_regret_exact_13[slice1],\n",
        "       simple_regret_exact_14[slice1],\n",
        "       simple_regret_exact_15[slice1],\n",
        "       simple_regret_exact_16[slice1],\n",
        "       simple_regret_exact_17[slice1],\n",
        "       simple_regret_exact_18[slice1],\n",
        "       simple_regret_exact_19[slice1],\n",
        "       simple_regret_exact_20[slice1]]\n",
        "\n",
        "approx1_results = pd.DataFrame(approx1).sort_values(by=[0], ascending=False)\n",
        "exact1_results = pd.DataFrame(exact1).sort_values(by=[0], ascending=False)\n",
        "\n",
        "### Best simple regret minimization IQR - approx:\n",
        "lower_approx1 = np.asarray(approx1_results[4:5][0])[0]\n",
        "median_approx1 = np.asarray(approx1_results[9:10][0])[0]\n",
        "upper_approx1 = np.asarray(approx1_results[14:15][0])[0]\n",
        "\n",
        "lower_exact1 = np.asarray(exact1_results[4:5][0])[0]\n",
        "median_exact1 = np.asarray(exact1_results[9:10][0])[0]\n",
        "upper_exact1 = np.asarray(exact1_results[14:15][0])[0]"
      ],
      "execution_count": 75,
      "outputs": []
    },
    {
      "cell_type": "code",
      "metadata": {
        "id": "CgIkJA1xQxf2"
      },
      "source": [
        "# Iteration11 :\n",
        "\n",
        "slice11 = 10\n",
        "\n",
        "approx11 = [simple_regret_approx_1[slice11],\n",
        "       simple_regret_approx_2[slice11],\n",
        "       simple_regret_approx_3[slice11],\n",
        "       simple_regret_approx_4[slice11],\n",
        "       simple_regret_approx_5[slice11],\n",
        "       simple_regret_approx_6[slice11],\n",
        "       simple_regret_approx_7[slice11],\n",
        "       simple_regret_approx_8[slice11],\n",
        "       simple_regret_approx_9[slice11],\n",
        "       simple_regret_approx_10[slice11],\n",
        "       simple_regret_approx_11[slice11],\n",
        "       simple_regret_approx_12[slice11],\n",
        "       simple_regret_approx_13[slice11],\n",
        "       simple_regret_approx_14[slice11],\n",
        "       simple_regret_approx_15[slice11],\n",
        "       simple_regret_approx_16[slice11],\n",
        "       simple_regret_approx_17[slice11],\n",
        "       simple_regret_approx_18[slice11],\n",
        "       simple_regret_approx_19[slice11],\n",
        "       simple_regret_approx_20[slice11]]\n",
        "\n",
        "exact11 = [simple_regret_exact_1[slice11],\n",
        "       simple_regret_exact_2[slice11],\n",
        "       simple_regret_exact_3[slice11],\n",
        "       simple_regret_exact_4[slice11],\n",
        "       simple_regret_exact_5[slice11],\n",
        "       simple_regret_exact_6[slice11],\n",
        "       simple_regret_exact_7[slice11],\n",
        "       simple_regret_exact_8[slice11],\n",
        "       simple_regret_exact_9[slice11],\n",
        "       simple_regret_exact_10[slice11],\n",
        "       simple_regret_exact_11[slice11],\n",
        "       simple_regret_exact_12[slice11],\n",
        "       simple_regret_exact_13[slice11],\n",
        "       simple_regret_exact_14[slice11],\n",
        "       simple_regret_exact_15[slice11],\n",
        "       simple_regret_exact_16[slice11],\n",
        "       simple_regret_exact_17[slice11],\n",
        "       simple_regret_exact_18[slice11],\n",
        "       simple_regret_exact_19[slice11],\n",
        "       simple_regret_exact_20[slice11]]\n",
        "\n",
        "approx11_results = pd.DataFrame(approx11).sort_values(by=[0], ascending=False)\n",
        "exact11_results = pd.DataFrame(exact11).sort_values(by=[0], ascending=False)\n",
        "\n",
        "### Best simple regret minimization IQR - approx:\n",
        "lower_approx11 = np.asarray(approx11_results[4:5][0])[0]\n",
        "median_approx11 = np.asarray(approx11_results[9:10][0])[0]\n",
        "upper_approx11 = np.asarray(approx11_results[14:15][0])[0]\n",
        "\n",
        "lower_exact11 = np.asarray(exact11_results[4:5][0])[0]\n",
        "median_exact11 = np.asarray(exact11_results[9:10][0])[0]\n",
        "upper_exact11 = np.asarray(exact11_results[14:15][0])[0]"
      ],
      "execution_count": 76,
      "outputs": []
    },
    {
      "cell_type": "code",
      "metadata": {
        "id": "MFePDfGuQxf2"
      },
      "source": [
        "# Iteration21 :\n",
        "\n",
        "slice21 = 20\n",
        "\n",
        "approx21 = [simple_regret_approx_1[slice21],\n",
        "       simple_regret_approx_2[slice21],\n",
        "       simple_regret_approx_3[slice21],\n",
        "       simple_regret_approx_4[slice21],\n",
        "       simple_regret_approx_5[slice21],\n",
        "       simple_regret_approx_6[slice21],\n",
        "       simple_regret_approx_7[slice21],\n",
        "       simple_regret_approx_8[slice21],\n",
        "       simple_regret_approx_9[slice21],\n",
        "       simple_regret_approx_10[slice21],\n",
        "       simple_regret_approx_11[slice21],\n",
        "       simple_regret_approx_12[slice21],\n",
        "       simple_regret_approx_13[slice21],\n",
        "       simple_regret_approx_14[slice21],\n",
        "       simple_regret_approx_15[slice21],\n",
        "       simple_regret_approx_16[slice21],\n",
        "       simple_regret_approx_17[slice21],\n",
        "       simple_regret_approx_18[slice21],\n",
        "       simple_regret_approx_19[slice21],\n",
        "       simple_regret_approx_20[slice21]]\n",
        "\n",
        "exact21 = [simple_regret_exact_1[slice21],\n",
        "       simple_regret_exact_2[slice21],\n",
        "       simple_regret_exact_3[slice21],\n",
        "       simple_regret_exact_4[slice21],\n",
        "       simple_regret_exact_5[slice21],\n",
        "       simple_regret_exact_6[slice21],\n",
        "       simple_regret_exact_7[slice21],\n",
        "       simple_regret_exact_8[slice21],\n",
        "       simple_regret_exact_9[slice21],\n",
        "       simple_regret_exact_10[slice21],\n",
        "       simple_regret_exact_11[slice21],\n",
        "       simple_regret_exact_12[slice21],\n",
        "       simple_regret_exact_13[slice21],\n",
        "       simple_regret_exact_14[slice21],\n",
        "       simple_regret_exact_15[slice21],\n",
        "       simple_regret_exact_16[slice21],\n",
        "       simple_regret_exact_17[slice21],\n",
        "       simple_regret_exact_18[slice21],\n",
        "       simple_regret_exact_19[slice21],\n",
        "       simple_regret_exact_20[slice21]]\n",
        "\n",
        "approx21_results = pd.DataFrame(approx21).sort_values(by=[0], ascending=False)\n",
        "exact21_results = pd.DataFrame(exact21).sort_values(by=[0], ascending=False)\n",
        "\n",
        "### Best simple regret minimization IQR - approx:\n",
        "lower_approx21 = np.asarray(approx21_results[4:5][0])[0]\n",
        "median_approx21 = np.asarray(approx21_results[9:10][0])[0]\n",
        "upper_approx21 = np.asarray(approx21_results[14:15][0])[0]\n",
        "\n",
        "lower_exact21 = np.asarray(exact21_results[4:5][0])[0]\n",
        "median_exact21 = np.asarray(exact21_results[9:10][0])[0]\n",
        "upper_exact21 = np.asarray(exact21_results[14:15][0])[0]"
      ],
      "execution_count": 77,
      "outputs": []
    },
    {
      "cell_type": "code",
      "metadata": {
        "id": "PrRDB1kfQxf3"
      },
      "source": [
        "# Iteration2 :\n",
        "\n",
        "slice2 = 1\n",
        "\n",
        "approx2 = [simple_regret_approx_1[slice2],\n",
        "       simple_regret_approx_2[slice2],\n",
        "       simple_regret_approx_3[slice2],\n",
        "       simple_regret_approx_4[slice2],\n",
        "       simple_regret_approx_5[slice2],\n",
        "       simple_regret_approx_6[slice2],\n",
        "       simple_regret_approx_7[slice2],\n",
        "       simple_regret_approx_8[slice2],\n",
        "       simple_regret_approx_9[slice2],\n",
        "       simple_regret_approx_10[slice2],\n",
        "       simple_regret_approx_11[slice2],\n",
        "       simple_regret_approx_12[slice2],\n",
        "       simple_regret_approx_13[slice2],\n",
        "       simple_regret_approx_14[slice2],\n",
        "       simple_regret_approx_15[slice2],\n",
        "       simple_regret_approx_16[slice2],\n",
        "       simple_regret_approx_17[slice2],\n",
        "       simple_regret_approx_18[slice2],\n",
        "       simple_regret_approx_19[slice2],\n",
        "       simple_regret_approx_20[slice2]]\n",
        "\n",
        "exact2 = [simple_regret_exact_1[slice2],\n",
        "       simple_regret_exact_2[slice2],\n",
        "       simple_regret_exact_3[slice2],\n",
        "       simple_regret_exact_4[slice2],\n",
        "       simple_regret_exact_5[slice2],\n",
        "       simple_regret_exact_6[slice2],\n",
        "       simple_regret_exact_7[slice2],\n",
        "       simple_regret_exact_8[slice2],\n",
        "       simple_regret_exact_9[slice2],\n",
        "       simple_regret_exact_10[slice2],\n",
        "       simple_regret_exact_11[slice2],\n",
        "       simple_regret_exact_12[slice2],\n",
        "       simple_regret_exact_13[slice2],\n",
        "       simple_regret_exact_14[slice2],\n",
        "       simple_regret_exact_15[slice2],\n",
        "       simple_regret_exact_16[slice2],\n",
        "       simple_regret_exact_17[slice2],\n",
        "       simple_regret_exact_18[slice2],\n",
        "       simple_regret_exact_19[slice2],\n",
        "       simple_regret_exact_20[slice2]]\n",
        "\n",
        "approx2_results = pd.DataFrame(approx2).sort_values(by=[0], ascending=False)\n",
        "exact2_results = pd.DataFrame(exact2).sort_values(by=[0], ascending=False)\n",
        "\n",
        "### Best simple regret minimization IQR - approx:\n",
        "lower_approx2 = np.asarray(approx2_results[4:5][0])[0]\n",
        "median_approx2 = np.asarray(approx2_results[9:10][0])[0]\n",
        "upper_approx2 = np.asarray(approx2_results[14:15][0])[0]\n",
        "\n",
        "lower_exact2 = np.asarray(exact2_results[4:5][0])[0]\n",
        "median_exact2 = np.asarray(exact2_results[9:10][0])[0]\n",
        "upper_exact2 = np.asarray(exact2_results[14:15][0])[0]"
      ],
      "execution_count": 78,
      "outputs": []
    },
    {
      "cell_type": "code",
      "metadata": {
        "id": "B8ncJDYeQxf3"
      },
      "source": [
        "# Iteration12 :\n",
        "\n",
        "slice12 = 11\n",
        "\n",
        "approx12 = [simple_regret_approx_1[slice12],\n",
        "       simple_regret_approx_2[slice12],\n",
        "       simple_regret_approx_3[slice12],\n",
        "       simple_regret_approx_4[slice12],\n",
        "       simple_regret_approx_5[slice12],\n",
        "       simple_regret_approx_6[slice12],\n",
        "       simple_regret_approx_7[slice12],\n",
        "       simple_regret_approx_8[slice12],\n",
        "       simple_regret_approx_9[slice12],\n",
        "       simple_regret_approx_10[slice12],\n",
        "       simple_regret_approx_11[slice12],\n",
        "       simple_regret_approx_12[slice12],\n",
        "       simple_regret_approx_13[slice12],\n",
        "       simple_regret_approx_14[slice12],\n",
        "       simple_regret_approx_15[slice12],\n",
        "       simple_regret_approx_16[slice12],\n",
        "       simple_regret_approx_17[slice12],\n",
        "       simple_regret_approx_18[slice12],\n",
        "       simple_regret_approx_19[slice12],\n",
        "       simple_regret_approx_20[slice12]]\n",
        "\n",
        "exact12 = [simple_regret_exact_1[slice12],\n",
        "       simple_regret_exact_2[slice12],\n",
        "       simple_regret_exact_3[slice12],\n",
        "       simple_regret_exact_4[slice12],\n",
        "       simple_regret_exact_5[slice12],\n",
        "       simple_regret_exact_6[slice12],\n",
        "       simple_regret_exact_7[slice12],\n",
        "       simple_regret_exact_8[slice12],\n",
        "       simple_regret_exact_9[slice12],\n",
        "       simple_regret_exact_10[slice12],\n",
        "       simple_regret_exact_11[slice12],\n",
        "       simple_regret_exact_12[slice12],\n",
        "       simple_regret_exact_13[slice12],\n",
        "       simple_regret_exact_14[slice12],\n",
        "       simple_regret_exact_15[slice12],\n",
        "       simple_regret_exact_16[slice12],\n",
        "       simple_regret_exact_17[slice12],\n",
        "       simple_regret_exact_18[slice12],\n",
        "       simple_regret_exact_19[slice12],\n",
        "       simple_regret_exact_20[slice12]]\n",
        "\n",
        "approx12_results = pd.DataFrame(approx12).sort_values(by=[0], ascending=False)\n",
        "exact12_results = pd.DataFrame(exact12).sort_values(by=[0], ascending=False)\n",
        "\n",
        "### Best simple regret minimization IQR - approx:\n",
        "lower_approx12 = np.asarray(approx12_results[4:5][0])[0]\n",
        "median_approx12 = np.asarray(approx12_results[9:10][0])[0]\n",
        "upper_approx12 = np.asarray(approx12_results[14:15][0])[0]\n",
        "\n",
        "lower_exact12 = np.asarray(exact12_results[4:5][0])[0]\n",
        "median_exact12 = np.asarray(exact12_results[9:10][0])[0]\n",
        "upper_exact12 = np.asarray(exact12_results[14:15][0])[0]"
      ],
      "execution_count": 79,
      "outputs": []
    },
    {
      "cell_type": "code",
      "metadata": {
        "id": "Jn4KpGvcQxf4"
      },
      "source": [
        "# Iteration3 :\n",
        "\n",
        "slice3 = 2\n",
        "\n",
        "approx3 = [simple_regret_approx_1[slice3],\n",
        "       simple_regret_approx_2[slice3],\n",
        "       simple_regret_approx_3[slice3],\n",
        "       simple_regret_approx_4[slice3],\n",
        "       simple_regret_approx_5[slice3],\n",
        "       simple_regret_approx_6[slice3],\n",
        "       simple_regret_approx_7[slice3],\n",
        "       simple_regret_approx_8[slice3],\n",
        "       simple_regret_approx_9[slice3],\n",
        "       simple_regret_approx_10[slice3],\n",
        "       simple_regret_approx_11[slice3],\n",
        "       simple_regret_approx_12[slice3],\n",
        "       simple_regret_approx_13[slice3],\n",
        "       simple_regret_approx_14[slice3],\n",
        "       simple_regret_approx_15[slice3],\n",
        "       simple_regret_approx_16[slice3],\n",
        "       simple_regret_approx_17[slice3],\n",
        "       simple_regret_approx_18[slice3],\n",
        "       simple_regret_approx_19[slice3],\n",
        "       simple_regret_approx_20[slice3]]\n",
        "\n",
        "exact3 = [simple_regret_exact_1[slice3],\n",
        "       simple_regret_exact_2[slice3],\n",
        "       simple_regret_exact_3[slice3],\n",
        "       simple_regret_exact_4[slice3],\n",
        "       simple_regret_exact_5[slice3],\n",
        "       simple_regret_exact_6[slice3],\n",
        "       simple_regret_exact_7[slice3],\n",
        "       simple_regret_exact_8[slice3],\n",
        "       simple_regret_exact_9[slice3],\n",
        "       simple_regret_exact_10[slice3],\n",
        "       simple_regret_exact_11[slice3],\n",
        "       simple_regret_exact_12[slice3],\n",
        "       simple_regret_exact_13[slice3],\n",
        "       simple_regret_exact_14[slice3],\n",
        "       simple_regret_exact_15[slice3],\n",
        "       simple_regret_exact_16[slice3],\n",
        "       simple_regret_exact_17[slice3],\n",
        "       simple_regret_exact_18[slice3],\n",
        "       simple_regret_exact_19[slice3],\n",
        "       simple_regret_exact_20[slice3]]\n",
        "\n",
        "approx3_results = pd.DataFrame(approx3).sort_values(by=[0], ascending=False)\n",
        "exact3_results = pd.DataFrame(exact3).sort_values(by=[0], ascending=False)\n",
        "\n",
        "### Best simple regret minimization IQR - approx:\n",
        "lower_approx3 = np.asarray(approx3_results[4:5][0])[0]\n",
        "median_approx3 = np.asarray(approx3_results[9:10][0])[0]\n",
        "upper_approx3 = np.asarray(approx3_results[14:15][0])[0]\n",
        "\n",
        "lower_exact3 = np.asarray(exact3_results[4:5][0])[0]\n",
        "median_exact3 = np.asarray(exact3_results[9:10][0])[0]\n",
        "upper_exact3 = np.asarray(exact3_results[14:15][0])[0]"
      ],
      "execution_count": 80,
      "outputs": []
    },
    {
      "cell_type": "code",
      "metadata": {
        "id": "plf83wxrQxf4"
      },
      "source": [
        "# Iteration13 :\n",
        "\n",
        "slice13 = 12\n",
        "\n",
        "approx13 = [simple_regret_approx_1[slice13],\n",
        "       simple_regret_approx_2[slice13],\n",
        "       simple_regret_approx_3[slice13],\n",
        "       simple_regret_approx_4[slice13],\n",
        "       simple_regret_approx_5[slice13],\n",
        "       simple_regret_approx_6[slice13],\n",
        "       simple_regret_approx_7[slice13],\n",
        "       simple_regret_approx_8[slice13],\n",
        "       simple_regret_approx_9[slice13],\n",
        "       simple_regret_approx_10[slice13],\n",
        "       simple_regret_approx_11[slice13],\n",
        "       simple_regret_approx_12[slice13],\n",
        "       simple_regret_approx_13[slice13],\n",
        "       simple_regret_approx_14[slice13],\n",
        "       simple_regret_approx_15[slice13],\n",
        "       simple_regret_approx_16[slice13],\n",
        "       simple_regret_approx_17[slice13],\n",
        "       simple_regret_approx_18[slice13],\n",
        "       simple_regret_approx_19[slice13],\n",
        "       simple_regret_approx_20[slice13]]\n",
        "\n",
        "exact13 = [simple_regret_exact_1[slice13],\n",
        "       simple_regret_exact_2[slice13],\n",
        "       simple_regret_exact_3[slice13],\n",
        "       simple_regret_exact_4[slice13],\n",
        "       simple_regret_exact_5[slice13],\n",
        "       simple_regret_exact_6[slice13],\n",
        "       simple_regret_exact_7[slice13],\n",
        "       simple_regret_exact_8[slice13],\n",
        "       simple_regret_exact_9[slice13],\n",
        "       simple_regret_exact_10[slice13],\n",
        "       simple_regret_exact_11[slice13],\n",
        "       simple_regret_exact_12[slice13],\n",
        "       simple_regret_exact_13[slice13],\n",
        "       simple_regret_exact_14[slice13],\n",
        "       simple_regret_exact_15[slice13],\n",
        "       simple_regret_exact_16[slice13],\n",
        "       simple_regret_exact_17[slice13],\n",
        "       simple_regret_exact_18[slice13],\n",
        "       simple_regret_exact_19[slice13],\n",
        "       simple_regret_exact_20[slice13]]\n",
        "\n",
        "approx13_results = pd.DataFrame(approx13).sort_values(by=[0], ascending=False)\n",
        "exact13_results = pd.DataFrame(exact13).sort_values(by=[0], ascending=False)\n",
        "\n",
        "### Best simple regret minimization IQR - approx:\n",
        "lower_approx13 = np.asarray(approx13_results[4:5][0])[0]\n",
        "median_approx13 = np.asarray(approx13_results[9:10][0])[0]\n",
        "upper_approx13 = np.asarray(approx13_results[14:15][0])[0]\n",
        "\n",
        "lower_exact13 = np.asarray(exact13_results[4:5][0])[0]\n",
        "median_exact13 = np.asarray(exact13_results[9:10][0])[0]\n",
        "upper_exact13 = np.asarray(exact13_results[14:15][0])[0]"
      ],
      "execution_count": 81,
      "outputs": []
    },
    {
      "cell_type": "code",
      "metadata": {
        "id": "9A7mlVvJQxf5"
      },
      "source": [
        "# Iteration4 :\n",
        "\n",
        "slice4 = 3\n",
        "\n",
        "approx4 = [simple_regret_approx_1[slice4],\n",
        "       simple_regret_approx_2[slice4],\n",
        "       simple_regret_approx_3[slice4],\n",
        "       simple_regret_approx_4[slice4],\n",
        "       simple_regret_approx_5[slice4],\n",
        "       simple_regret_approx_6[slice4],\n",
        "       simple_regret_approx_7[slice4],\n",
        "       simple_regret_approx_8[slice4],\n",
        "       simple_regret_approx_9[slice4],\n",
        "       simple_regret_approx_10[slice4],\n",
        "       simple_regret_approx_11[slice4],\n",
        "       simple_regret_approx_12[slice4],\n",
        "       simple_regret_approx_13[slice4],\n",
        "       simple_regret_approx_14[slice4],\n",
        "       simple_regret_approx_15[slice4],\n",
        "       simple_regret_approx_16[slice4],\n",
        "       simple_regret_approx_17[slice4],\n",
        "       simple_regret_approx_18[slice4],\n",
        "       simple_regret_approx_19[slice4],\n",
        "       simple_regret_approx_20[slice4]]\n",
        "\n",
        "exact4 = [simple_regret_exact_1[slice4],\n",
        "       simple_regret_exact_2[slice4],\n",
        "       simple_regret_exact_3[slice4],\n",
        "       simple_regret_exact_4[slice4],\n",
        "       simple_regret_exact_5[slice4],\n",
        "       simple_regret_exact_6[slice4],\n",
        "       simple_regret_exact_7[slice4],\n",
        "       simple_regret_exact_8[slice4],\n",
        "       simple_regret_exact_9[slice4],\n",
        "       simple_regret_exact_10[slice4],\n",
        "       simple_regret_exact_11[slice4],\n",
        "       simple_regret_exact_12[slice4],\n",
        "       simple_regret_exact_13[slice4],\n",
        "       simple_regret_exact_14[slice4],\n",
        "       simple_regret_exact_15[slice4],\n",
        "       simple_regret_exact_16[slice4],\n",
        "       simple_regret_exact_17[slice4],\n",
        "       simple_regret_exact_18[slice4],\n",
        "       simple_regret_exact_19[slice4],\n",
        "       simple_regret_exact_20[slice4]]\n",
        "\n",
        "approx4_results = pd.DataFrame(approx4).sort_values(by=[0], ascending=False)\n",
        "exact4_results = pd.DataFrame(exact4).sort_values(by=[0], ascending=False)\n",
        "\n",
        "### Best simple regret minimization IQR - approx:\n",
        "lower_approx4 = np.asarray(approx4_results[4:5][0])[0]\n",
        "median_approx4 = np.asarray(approx4_results[9:10][0])[0]\n",
        "upper_approx4 = np.asarray(approx4_results[14:15][0])[0]\n",
        "\n",
        "lower_exact4 = np.asarray(exact4_results[4:5][0])[0]\n",
        "median_exact4 = np.asarray(exact4_results[9:10][0])[0]\n",
        "upper_exact4 = np.asarray(exact4_results[14:15][0])[0]"
      ],
      "execution_count": 82,
      "outputs": []
    },
    {
      "cell_type": "code",
      "metadata": {
        "id": "ijq-rioYQxf5"
      },
      "source": [
        "# Iteration14 :\n",
        "\n",
        "slice14 = 13\n",
        "\n",
        "approx14 = [simple_regret_approx_1[slice14],\n",
        "       simple_regret_approx_2[slice14],\n",
        "       simple_regret_approx_3[slice14],\n",
        "       simple_regret_approx_4[slice14],\n",
        "       simple_regret_approx_5[slice14],\n",
        "       simple_regret_approx_6[slice14],\n",
        "       simple_regret_approx_7[slice14],\n",
        "       simple_regret_approx_8[slice14],\n",
        "       simple_regret_approx_9[slice14],\n",
        "       simple_regret_approx_10[slice14],\n",
        "       simple_regret_approx_11[slice14],\n",
        "       simple_regret_approx_12[slice14],\n",
        "       simple_regret_approx_13[slice14],\n",
        "       simple_regret_approx_14[slice14],\n",
        "       simple_regret_approx_15[slice14],\n",
        "       simple_regret_approx_16[slice14],\n",
        "       simple_regret_approx_17[slice14],\n",
        "       simple_regret_approx_18[slice14],\n",
        "       simple_regret_approx_19[slice14],\n",
        "       simple_regret_approx_20[slice14]]\n",
        "\n",
        "exact14 = [simple_regret_exact_1[slice14],\n",
        "       simple_regret_exact_2[slice14],\n",
        "       simple_regret_exact_3[slice14],\n",
        "       simple_regret_exact_4[slice14],\n",
        "       simple_regret_exact_5[slice14],\n",
        "       simple_regret_exact_6[slice14],\n",
        "       simple_regret_exact_7[slice14],\n",
        "       simple_regret_exact_8[slice14],\n",
        "       simple_regret_exact_9[slice14],\n",
        "       simple_regret_exact_10[slice14],\n",
        "       simple_regret_exact_11[slice14],\n",
        "       simple_regret_exact_12[slice14],\n",
        "       simple_regret_exact_13[slice14],\n",
        "       simple_regret_exact_14[slice14],\n",
        "       simple_regret_exact_15[slice14],\n",
        "       simple_regret_exact_16[slice14],\n",
        "       simple_regret_exact_17[slice14],\n",
        "       simple_regret_exact_18[slice14],\n",
        "       simple_regret_exact_19[slice14],\n",
        "       simple_regret_exact_20[slice14]]\n",
        "\n",
        "approx14_results = pd.DataFrame(approx14).sort_values(by=[0], ascending=False)\n",
        "exact14_results = pd.DataFrame(exact14).sort_values(by=[0], ascending=False)\n",
        "\n",
        "### Best simple regret minimization IQR - approx:\n",
        "lower_approx14 = np.asarray(approx14_results[4:5][0])[0]\n",
        "median_approx14 = np.asarray(approx14_results[9:10][0])[0]\n",
        "upper_approx14 = np.asarray(approx14_results[14:15][0])[0]\n",
        "\n",
        "lower_exact14 = np.asarray(exact14_results[4:5][0])[0]\n",
        "median_exact14 = np.asarray(exact14_results[9:10][0])[0]\n",
        "upper_exact14 = np.asarray(exact14_results[14:15][0])[0]"
      ],
      "execution_count": 83,
      "outputs": []
    },
    {
      "cell_type": "code",
      "metadata": {
        "id": "XINlZjoTd-ZK"
      },
      "source": [
        "# Iteration5 :\n",
        "\n",
        "slice5 = 4\n",
        "\n",
        "approx5 = [simple_regret_approx_1[slice5],\n",
        "       simple_regret_approx_2[slice5],\n",
        "       simple_regret_approx_3[slice5],\n",
        "       simple_regret_approx_4[slice5],\n",
        "       simple_regret_approx_5[slice5],\n",
        "       simple_regret_approx_6[slice5],\n",
        "       simple_regret_approx_7[slice5],\n",
        "       simple_regret_approx_8[slice5],\n",
        "       simple_regret_approx_9[slice5],\n",
        "       simple_regret_approx_10[slice5],\n",
        "       simple_regret_approx_11[slice5],\n",
        "       simple_regret_approx_12[slice5],\n",
        "       simple_regret_approx_13[slice5],\n",
        "       simple_regret_approx_14[slice5],\n",
        "       simple_regret_approx_15[slice5],\n",
        "       simple_regret_approx_16[slice5],\n",
        "       simple_regret_approx_17[slice5],\n",
        "       simple_regret_approx_18[slice5],\n",
        "       simple_regret_approx_19[slice5],\n",
        "       simple_regret_approx_20[slice5]]\n",
        "\n",
        "exact5 = [simple_regret_exact_1[slice5],\n",
        "       simple_regret_exact_2[slice5],\n",
        "       simple_regret_exact_3[slice5],\n",
        "       simple_regret_exact_4[slice5],\n",
        "       simple_regret_exact_5[slice5],\n",
        "       simple_regret_exact_6[slice5],\n",
        "       simple_regret_exact_7[slice5],\n",
        "       simple_regret_exact_8[slice5],\n",
        "       simple_regret_exact_9[slice5],\n",
        "       simple_regret_exact_10[slice5],\n",
        "       simple_regret_exact_11[slice5],\n",
        "       simple_regret_exact_12[slice5],\n",
        "       simple_regret_exact_13[slice5],\n",
        "       simple_regret_exact_14[slice5],\n",
        "       simple_regret_exact_15[slice5],\n",
        "       simple_regret_exact_16[slice5],\n",
        "       simple_regret_exact_17[slice5],\n",
        "       simple_regret_exact_18[slice5],\n",
        "       simple_regret_exact_19[slice5],\n",
        "       simple_regret_exact_20[slice5]]\n",
        "\n",
        "approx5_results = pd.DataFrame(approx5).sort_values(by=[0], ascending=False)\n",
        "exact5_results = pd.DataFrame(exact5).sort_values(by=[0], ascending=False)\n",
        "\n",
        "### Best simple regret minimization IQR - approx:\n",
        "lower_approx5 = np.asarray(approx5_results[4:5][0])[0]\n",
        "median_approx5 = np.asarray(approx5_results[9:10][0])[0]\n",
        "upper_approx5 = np.asarray(approx5_results[14:15][0])[0]\n",
        "\n",
        "lower_exact5 = np.asarray(exact5_results[4:5][0])[0]\n",
        "median_exact5 = np.asarray(exact5_results[9:10][0])[0]\n",
        "upper_exact5 = np.asarray(exact5_results[14:15][0])[0]"
      ],
      "execution_count": 84,
      "outputs": []
    },
    {
      "cell_type": "code",
      "metadata": {
        "id": "4aZ7C8sOQxf6"
      },
      "source": [
        "# Iteration15 :\n",
        "\n",
        "slice15 = 14\n",
        "\n",
        "approx15 = [simple_regret_approx_1[slice15],\n",
        "       simple_regret_approx_2[slice15],\n",
        "       simple_regret_approx_3[slice15],\n",
        "       simple_regret_approx_4[slice15],\n",
        "       simple_regret_approx_5[slice15],\n",
        "       simple_regret_approx_6[slice15],\n",
        "       simple_regret_approx_7[slice15],\n",
        "       simple_regret_approx_8[slice15],\n",
        "       simple_regret_approx_9[slice15],\n",
        "       simple_regret_approx_10[slice15],\n",
        "       simple_regret_approx_11[slice15],\n",
        "       simple_regret_approx_12[slice15],\n",
        "       simple_regret_approx_13[slice15],\n",
        "       simple_regret_approx_14[slice15],\n",
        "       simple_regret_approx_15[slice15],\n",
        "       simple_regret_approx_16[slice15],\n",
        "       simple_regret_approx_17[slice15],\n",
        "       simple_regret_approx_18[slice15],\n",
        "       simple_regret_approx_19[slice15],\n",
        "       simple_regret_approx_20[slice15]]\n",
        "\n",
        "exact15 = [simple_regret_exact_1[slice15],\n",
        "       simple_regret_exact_2[slice15],\n",
        "       simple_regret_exact_3[slice15],\n",
        "       simple_regret_exact_4[slice15],\n",
        "       simple_regret_exact_5[slice15],\n",
        "       simple_regret_exact_6[slice15],\n",
        "       simple_regret_exact_7[slice15],\n",
        "       simple_regret_exact_8[slice15],\n",
        "       simple_regret_exact_9[slice15],\n",
        "       simple_regret_exact_10[slice15],\n",
        "       simple_regret_exact_11[slice15],\n",
        "       simple_regret_exact_12[slice15],\n",
        "       simple_regret_exact_13[slice15],\n",
        "       simple_regret_exact_14[slice15],\n",
        "       simple_regret_exact_15[slice15],\n",
        "       simple_regret_exact_16[slice15],\n",
        "       simple_regret_exact_17[slice15],\n",
        "       simple_regret_exact_18[slice15],\n",
        "       simple_regret_exact_19[slice15],\n",
        "       simple_regret_exact_20[slice15]]\n",
        "\n",
        "approx15_results = pd.DataFrame(approx15).sort_values(by=[0], ascending=False)\n",
        "exact15_results = pd.DataFrame(exact15).sort_values(by=[0], ascending=False)\n",
        "\n",
        "### Best simple regret minimization IQR - approx:\n",
        "lower_approx15 = np.asarray(approx15_results[4:5][0])[0]\n",
        "median_approx15 = np.asarray(approx15_results[9:10][0])[0]\n",
        "upper_approx15 = np.asarray(approx15_results[14:15][0])[0]\n",
        "\n",
        "lower_exact15 = np.asarray(exact15_results[4:5][0])[0]\n",
        "median_exact15 = np.asarray(exact15_results[9:10][0])[0]\n",
        "upper_exact15 = np.asarray(exact15_results[14:15][0])[0]"
      ],
      "execution_count": 85,
      "outputs": []
    },
    {
      "cell_type": "code",
      "metadata": {
        "id": "KJINKhv1Qxf6"
      },
      "source": [
        "# Iteration6 :\n",
        "\n",
        "slice6 = 5\n",
        "\n",
        "approx6 = [simple_regret_approx_1[slice6],\n",
        "       simple_regret_approx_2[slice6],\n",
        "       simple_regret_approx_3[slice6],\n",
        "       simple_regret_approx_4[slice6],\n",
        "       simple_regret_approx_5[slice6],\n",
        "       simple_regret_approx_6[slice6],\n",
        "       simple_regret_approx_7[slice6],\n",
        "       simple_regret_approx_8[slice6],\n",
        "       simple_regret_approx_9[slice6],\n",
        "       simple_regret_approx_10[slice6],\n",
        "       simple_regret_approx_11[slice6],\n",
        "       simple_regret_approx_12[slice6],\n",
        "       simple_regret_approx_13[slice6],\n",
        "       simple_regret_approx_14[slice6],\n",
        "       simple_regret_approx_15[slice6],\n",
        "       simple_regret_approx_16[slice6],\n",
        "       simple_regret_approx_17[slice6],\n",
        "       simple_regret_approx_18[slice6],\n",
        "       simple_regret_approx_19[slice6],\n",
        "       simple_regret_approx_20[slice6]]\n",
        "\n",
        "exact6 = [simple_regret_exact_1[slice6],\n",
        "       simple_regret_exact_2[slice6],\n",
        "       simple_regret_exact_3[slice6],\n",
        "       simple_regret_exact_4[slice6],\n",
        "       simple_regret_exact_5[slice6],\n",
        "       simple_regret_exact_6[slice6],\n",
        "       simple_regret_exact_7[slice6],\n",
        "       simple_regret_exact_8[slice6],\n",
        "       simple_regret_exact_9[slice6],\n",
        "       simple_regret_exact_10[slice6],\n",
        "       simple_regret_exact_11[slice6],\n",
        "       simple_regret_exact_12[slice6],\n",
        "       simple_regret_exact_13[slice6],\n",
        "       simple_regret_exact_14[slice6],\n",
        "       simple_regret_exact_15[slice6],\n",
        "       simple_regret_exact_16[slice6],\n",
        "       simple_regret_exact_17[slice6],\n",
        "       simple_regret_exact_18[slice6],\n",
        "       simple_regret_exact_19[slice6],\n",
        "       simple_regret_exact_20[slice6]]\n",
        "\n",
        "approx6_results = pd.DataFrame(approx6).sort_values(by=[0], ascending=False)\n",
        "exact6_results = pd.DataFrame(exact6).sort_values(by=[0], ascending=False)\n",
        "\n",
        "### Best simple regret minimization IQR - approx:\n",
        "lower_approx6 = np.asarray(approx6_results[4:5][0])[0]\n",
        "median_approx6 = np.asarray(approx6_results[9:10][0])[0]\n",
        "upper_approx6 = np.asarray(approx6_results[14:15][0])[0]\n",
        "\n",
        "lower_exact6 = np.asarray(exact6_results[4:5][0])[0]\n",
        "median_exact6 = np.asarray(exact6_results[9:10][0])[0]\n",
        "upper_exact6 = np.asarray(exact6_results[14:15][0])[0]"
      ],
      "execution_count": 86,
      "outputs": []
    },
    {
      "cell_type": "code",
      "metadata": {
        "id": "nwC5N1FsQxf7"
      },
      "source": [
        "# Iteration16 :\n",
        "\n",
        "slice16 = 15\n",
        "\n",
        "approx16 = [simple_regret_approx_1[slice16],\n",
        "       simple_regret_approx_2[slice16],\n",
        "       simple_regret_approx_3[slice16],\n",
        "       simple_regret_approx_4[slice16],\n",
        "       simple_regret_approx_5[slice16],\n",
        "       simple_regret_approx_6[slice16],\n",
        "       simple_regret_approx_7[slice16],\n",
        "       simple_regret_approx_8[slice16],\n",
        "       simple_regret_approx_9[slice16],\n",
        "       simple_regret_approx_10[slice16],\n",
        "       simple_regret_approx_11[slice16],\n",
        "       simple_regret_approx_12[slice16],\n",
        "       simple_regret_approx_13[slice16],\n",
        "       simple_regret_approx_14[slice16],\n",
        "       simple_regret_approx_15[slice16],\n",
        "       simple_regret_approx_16[slice16],\n",
        "       simple_regret_approx_17[slice16],\n",
        "       simple_regret_approx_18[slice16],\n",
        "       simple_regret_approx_19[slice16],\n",
        "       simple_regret_approx_20[slice16]]\n",
        "\n",
        "exact16 = [simple_regret_exact_1[slice16],\n",
        "       simple_regret_exact_2[slice16],\n",
        "       simple_regret_exact_3[slice16],\n",
        "       simple_regret_exact_4[slice16],\n",
        "       simple_regret_exact_5[slice16],\n",
        "       simple_regret_exact_6[slice16],\n",
        "       simple_regret_exact_7[slice16],\n",
        "       simple_regret_exact_8[slice16],\n",
        "       simple_regret_exact_9[slice16],\n",
        "       simple_regret_exact_10[slice16],\n",
        "       simple_regret_exact_11[slice16],\n",
        "       simple_regret_exact_12[slice16],\n",
        "       simple_regret_exact_13[slice16],\n",
        "       simple_regret_exact_14[slice16],\n",
        "       simple_regret_exact_15[slice16],\n",
        "       simple_regret_exact_16[slice16],\n",
        "       simple_regret_exact_17[slice16],\n",
        "       simple_regret_exact_18[slice16],\n",
        "       simple_regret_exact_19[slice16],\n",
        "       simple_regret_exact_20[slice16]]\n",
        "\n",
        "approx16_results = pd.DataFrame(approx16).sort_values(by=[0], ascending=False)\n",
        "exact16_results = pd.DataFrame(exact16).sort_values(by=[0], ascending=False)\n",
        "\n",
        "### Best simple regret minimization IQR - approx:\n",
        "lower_approx16 = np.asarray(approx16_results[4:5][0])[0]\n",
        "median_approx16 = np.asarray(approx16_results[9:10][0])[0]\n",
        "upper_approx16 = np.asarray(approx16_results[14:15][0])[0]\n",
        "\n",
        "lower_exact16 = np.asarray(exact16_results[4:5][0])[0]\n",
        "median_exact16 = np.asarray(exact16_results[9:10][0])[0]\n",
        "upper_exact16 = np.asarray(exact16_results[14:15][0])[0]"
      ],
      "execution_count": 87,
      "outputs": []
    },
    {
      "cell_type": "code",
      "metadata": {
        "id": "TrPV0AfnQxf7"
      },
      "source": [
        "# Iteration7 :\n",
        "\n",
        "slice7 = 6\n",
        "\n",
        "approx7 = [simple_regret_approx_1[slice7],\n",
        "       simple_regret_approx_2[slice7],\n",
        "       simple_regret_approx_3[slice7],\n",
        "       simple_regret_approx_4[slice7],\n",
        "       simple_regret_approx_5[slice7],\n",
        "       simple_regret_approx_6[slice7],\n",
        "       simple_regret_approx_7[slice7],\n",
        "       simple_regret_approx_8[slice7],\n",
        "       simple_regret_approx_9[slice7],\n",
        "       simple_regret_approx_10[slice7],\n",
        "       simple_regret_approx_11[slice7],\n",
        "       simple_regret_approx_12[slice7],\n",
        "       simple_regret_approx_13[slice7],\n",
        "       simple_regret_approx_14[slice7],\n",
        "       simple_regret_approx_15[slice7],\n",
        "       simple_regret_approx_16[slice7],\n",
        "       simple_regret_approx_17[slice7],\n",
        "       simple_regret_approx_18[slice7],\n",
        "       simple_regret_approx_19[slice7],\n",
        "       simple_regret_approx_20[slice7]]\n",
        "\n",
        "exact7 = [simple_regret_exact_1[slice7],\n",
        "       simple_regret_exact_2[slice7],\n",
        "       simple_regret_exact_3[slice7],\n",
        "       simple_regret_exact_4[slice7],\n",
        "       simple_regret_exact_5[slice7],\n",
        "       simple_regret_exact_6[slice7],\n",
        "       simple_regret_exact_7[slice7],\n",
        "       simple_regret_exact_8[slice7],\n",
        "       simple_regret_exact_9[slice7],\n",
        "       simple_regret_exact_10[slice7],\n",
        "       simple_regret_exact_11[slice7],\n",
        "       simple_regret_exact_12[slice7],\n",
        "       simple_regret_exact_13[slice7],\n",
        "       simple_regret_exact_14[slice7],\n",
        "       simple_regret_exact_15[slice7],\n",
        "       simple_regret_exact_16[slice7],\n",
        "       simple_regret_exact_17[slice7],\n",
        "       simple_regret_exact_18[slice7],\n",
        "       simple_regret_exact_19[slice7],\n",
        "       simple_regret_exact_20[slice7]]\n",
        "\n",
        "approx7_results = pd.DataFrame(approx7).sort_values(by=[0], ascending=False)\n",
        "exact7_results = pd.DataFrame(exact7).sort_values(by=[0], ascending=False)\n",
        "\n",
        "### Best simple regret minimization IQR - approx:\n",
        "lower_approx7 = np.asarray(approx7_results[4:5][0])[0]\n",
        "median_approx7 = np.asarray(approx7_results[9:10][0])[0]\n",
        "upper_approx7 = np.asarray(approx7_results[14:15][0])[0]\n",
        "\n",
        "lower_exact7 = np.asarray(exact7_results[4:5][0])[0]\n",
        "median_exact7 = np.asarray(exact7_results[9:10][0])[0]\n",
        "upper_exact7 = np.asarray(exact7_results[14:15][0])[0]"
      ],
      "execution_count": 88,
      "outputs": []
    },
    {
      "cell_type": "code",
      "metadata": {
        "id": "Ub_-wpK4Qxf8"
      },
      "source": [
        "# Iteration17 :\n",
        "\n",
        "slice17 = 16\n",
        "\n",
        "approx17 = [simple_regret_approx_1[slice17],\n",
        "       simple_regret_approx_2[slice17],\n",
        "       simple_regret_approx_3[slice17],\n",
        "       simple_regret_approx_4[slice17],\n",
        "       simple_regret_approx_5[slice17],\n",
        "       simple_regret_approx_6[slice17],\n",
        "       simple_regret_approx_7[slice17],\n",
        "       simple_regret_approx_8[slice17],\n",
        "       simple_regret_approx_9[slice17],\n",
        "       simple_regret_approx_10[slice17],\n",
        "       simple_regret_approx_11[slice17],\n",
        "       simple_regret_approx_12[slice17],\n",
        "       simple_regret_approx_13[slice17],\n",
        "       simple_regret_approx_14[slice17],\n",
        "       simple_regret_approx_15[slice17],\n",
        "       simple_regret_approx_16[slice17],\n",
        "       simple_regret_approx_17[slice17],\n",
        "       simple_regret_approx_18[slice17],\n",
        "       simple_regret_approx_19[slice17],\n",
        "       simple_regret_approx_20[slice17]]\n",
        "\n",
        "exact17 = [simple_regret_exact_1[slice17],\n",
        "       simple_regret_exact_2[slice17],\n",
        "       simple_regret_exact_3[slice17],\n",
        "       simple_regret_exact_4[slice17],\n",
        "       simple_regret_exact_5[slice17],\n",
        "       simple_regret_exact_6[slice17],\n",
        "       simple_regret_exact_7[slice17],\n",
        "       simple_regret_exact_8[slice17],\n",
        "       simple_regret_exact_9[slice17],\n",
        "       simple_regret_exact_10[slice17],\n",
        "       simple_regret_exact_11[slice17],\n",
        "       simple_regret_exact_12[slice17],\n",
        "       simple_regret_exact_13[slice17],\n",
        "       simple_regret_exact_14[slice17],\n",
        "       simple_regret_exact_15[slice17],\n",
        "       simple_regret_exact_16[slice17],\n",
        "       simple_regret_exact_17[slice17],\n",
        "       simple_regret_exact_18[slice17],\n",
        "       simple_regret_exact_19[slice17],\n",
        "       simple_regret_exact_20[slice17]]\n",
        "\n",
        "approx17_results = pd.DataFrame(approx17).sort_values(by=[0], ascending=False)\n",
        "exact17_results = pd.DataFrame(exact17).sort_values(by=[0], ascending=False)\n",
        "\n",
        "### Best simple regret minimization IQR - approx:\n",
        "lower_approx17 = np.asarray(approx17_results[4:5][0])[0]\n",
        "median_approx17 = np.asarray(approx17_results[9:10][0])[0]\n",
        "upper_approx17 = np.asarray(approx17_results[14:15][0])[0]\n",
        "\n",
        "lower_exact17 = np.asarray(exact17_results[4:5][0])[0]\n",
        "median_exact17 = np.asarray(exact17_results[9:10][0])[0]\n",
        "upper_exact17 = np.asarray(exact17_results[14:15][0])[0]"
      ],
      "execution_count": 89,
      "outputs": []
    },
    {
      "cell_type": "code",
      "metadata": {
        "id": "-6VLo37PQxf8"
      },
      "source": [
        "# Iteration8 :\n",
        "\n",
        "slice8 = 7\n",
        "\n",
        "approx8 = [simple_regret_approx_1[slice8],\n",
        "       simple_regret_approx_2[slice8],\n",
        "       simple_regret_approx_3[slice8],\n",
        "       simple_regret_approx_4[slice8],\n",
        "       simple_regret_approx_5[slice8],\n",
        "       simple_regret_approx_6[slice8],\n",
        "       simple_regret_approx_7[slice8],\n",
        "       simple_regret_approx_8[slice8],\n",
        "       simple_regret_approx_9[slice8],\n",
        "       simple_regret_approx_10[slice8],\n",
        "       simple_regret_approx_11[slice8],\n",
        "       simple_regret_approx_12[slice8],\n",
        "       simple_regret_approx_13[slice8],\n",
        "       simple_regret_approx_14[slice8],\n",
        "       simple_regret_approx_15[slice8],\n",
        "       simple_regret_approx_16[slice8],\n",
        "       simple_regret_approx_17[slice8],\n",
        "       simple_regret_approx_18[slice8],\n",
        "       simple_regret_approx_19[slice8],\n",
        "       simple_regret_approx_20[slice8]]\n",
        "\n",
        "exact8 = [simple_regret_exact_1[slice8],\n",
        "       simple_regret_exact_2[slice8],\n",
        "       simple_regret_exact_3[slice8],\n",
        "       simple_regret_exact_4[slice8],\n",
        "       simple_regret_exact_5[slice8],\n",
        "       simple_regret_exact_6[slice8],\n",
        "       simple_regret_exact_7[slice8],\n",
        "       simple_regret_exact_8[slice8],\n",
        "       simple_regret_exact_9[slice8],\n",
        "       simple_regret_exact_10[slice8],\n",
        "       simple_regret_exact_11[slice8],\n",
        "       simple_regret_exact_12[slice8],\n",
        "       simple_regret_exact_13[slice8],\n",
        "       simple_regret_exact_14[slice8],\n",
        "       simple_regret_exact_15[slice8],\n",
        "       simple_regret_exact_16[slice8],\n",
        "       simple_regret_exact_17[slice8],\n",
        "       simple_regret_exact_18[slice8],\n",
        "       simple_regret_exact_19[slice8],\n",
        "       simple_regret_exact_20[slice8]]\n",
        "\n",
        "approx8_results = pd.DataFrame(approx8).sort_values(by=[0], ascending=False)\n",
        "exact8_results = pd.DataFrame(exact8).sort_values(by=[0], ascending=False)\n",
        "\n",
        "### Best simple regret minimization IQR - approx:\n",
        "lower_approx8 = np.asarray(approx8_results[4:5][0])[0]\n",
        "median_approx8 = np.asarray(approx8_results[9:10][0])[0]\n",
        "upper_approx8 = np.asarray(approx8_results[14:15][0])[0]\n",
        "\n",
        "lower_exact8 = np.asarray(exact8_results[4:5][0])[0]\n",
        "median_exact8 = np.asarray(exact8_results[9:10][0])[0]\n",
        "upper_exact8 = np.asarray(exact8_results[14:15][0])[0]"
      ],
      "execution_count": 90,
      "outputs": []
    },
    {
      "cell_type": "code",
      "metadata": {
        "id": "2Dp-9CC2Qxf9"
      },
      "source": [
        "# Iteration18 :\n",
        "\n",
        "slice18 = 17\n",
        "\n",
        "approx18 = [simple_regret_approx_1[slice18],\n",
        "       simple_regret_approx_2[slice18],\n",
        "       simple_regret_approx_3[slice18],\n",
        "       simple_regret_approx_4[slice18],\n",
        "       simple_regret_approx_5[slice18],\n",
        "       simple_regret_approx_6[slice18],\n",
        "       simple_regret_approx_7[slice18],\n",
        "       simple_regret_approx_8[slice18],\n",
        "       simple_regret_approx_9[slice18],\n",
        "       simple_regret_approx_10[slice18],\n",
        "       simple_regret_approx_11[slice18],\n",
        "       simple_regret_approx_12[slice18],\n",
        "       simple_regret_approx_13[slice18],\n",
        "       simple_regret_approx_14[slice18],\n",
        "       simple_regret_approx_15[slice18],\n",
        "       simple_regret_approx_16[slice18],\n",
        "       simple_regret_approx_17[slice18],\n",
        "       simple_regret_approx_18[slice18],\n",
        "       simple_regret_approx_19[slice18],\n",
        "       simple_regret_approx_20[slice18]]\n",
        "\n",
        "exact18 = [simple_regret_exact_1[slice18],\n",
        "       simple_regret_exact_2[slice18],\n",
        "       simple_regret_exact_3[slice18],\n",
        "       simple_regret_exact_4[slice18],\n",
        "       simple_regret_exact_5[slice18],\n",
        "       simple_regret_exact_6[slice18],\n",
        "       simple_regret_exact_7[slice18],\n",
        "       simple_regret_exact_8[slice18],\n",
        "       simple_regret_exact_9[slice18],\n",
        "       simple_regret_exact_10[slice18],\n",
        "       simple_regret_exact_11[slice18],\n",
        "       simple_regret_exact_12[slice18],\n",
        "       simple_regret_exact_13[slice18],\n",
        "       simple_regret_exact_14[slice18],\n",
        "       simple_regret_exact_15[slice18],\n",
        "       simple_regret_exact_16[slice18],\n",
        "       simple_regret_exact_17[slice18],\n",
        "       simple_regret_exact_18[slice18],\n",
        "       simple_regret_exact_19[slice18],\n",
        "       simple_regret_exact_20[slice18]]\n",
        "\n",
        "approx18_results = pd.DataFrame(approx18).sort_values(by=[0], ascending=False)\n",
        "exact18_results = pd.DataFrame(exact18).sort_values(by=[0], ascending=False)\n",
        "\n",
        "### Best simple regret minimization IQR - approx:\n",
        "lower_approx18 = np.asarray(approx18_results[4:5][0])[0]\n",
        "median_approx18 = np.asarray(approx18_results[9:10][0])[0]\n",
        "upper_approx18 = np.asarray(approx18_results[14:15][0])[0]\n",
        "\n",
        "lower_exact18 = np.asarray(exact18_results[4:5][0])[0]\n",
        "median_exact18 = np.asarray(exact18_results[9:10][0])[0]\n",
        "upper_exact18 = np.asarray(exact18_results[14:15][0])[0]"
      ],
      "execution_count": 91,
      "outputs": []
    },
    {
      "cell_type": "code",
      "metadata": {
        "id": "SqiaOpB7Qxf9"
      },
      "source": [
        "# Iteration9 :\n",
        "\n",
        "slice9 = 8\n",
        "\n",
        "approx9 = [simple_regret_approx_1[slice9],\n",
        "       simple_regret_approx_2[slice9],\n",
        "       simple_regret_approx_3[slice9],\n",
        "       simple_regret_approx_4[slice9],\n",
        "       simple_regret_approx_5[slice9],\n",
        "       simple_regret_approx_6[slice9],\n",
        "       simple_regret_approx_7[slice9],\n",
        "       simple_regret_approx_8[slice9],\n",
        "       simple_regret_approx_9[slice9],\n",
        "       simple_regret_approx_10[slice9],\n",
        "       simple_regret_approx_11[slice9],\n",
        "       simple_regret_approx_12[slice9],\n",
        "       simple_regret_approx_13[slice9],\n",
        "       simple_regret_approx_14[slice9],\n",
        "       simple_regret_approx_15[slice9],\n",
        "       simple_regret_approx_16[slice9],\n",
        "       simple_regret_approx_17[slice9],\n",
        "       simple_regret_approx_18[slice9],\n",
        "       simple_regret_approx_19[slice9],\n",
        "       simple_regret_approx_20[slice9]]\n",
        "\n",
        "exact9 = [simple_regret_exact_1[slice9],\n",
        "       simple_regret_exact_2[slice9],\n",
        "       simple_regret_exact_3[slice9],\n",
        "       simple_regret_exact_4[slice9],\n",
        "       simple_regret_exact_5[slice9],\n",
        "       simple_regret_exact_6[slice9],\n",
        "       simple_regret_exact_7[slice9],\n",
        "       simple_regret_exact_8[slice9],\n",
        "       simple_regret_exact_9[slice9],\n",
        "       simple_regret_exact_10[slice9],\n",
        "       simple_regret_exact_11[slice9],\n",
        "       simple_regret_exact_12[slice9],\n",
        "       simple_regret_exact_13[slice9],\n",
        "       simple_regret_exact_14[slice9],\n",
        "       simple_regret_exact_15[slice9],\n",
        "       simple_regret_exact_16[slice9],\n",
        "       simple_regret_exact_17[slice9],\n",
        "       simple_regret_exact_18[slice9],\n",
        "       simple_regret_exact_19[slice9],\n",
        "       simple_regret_exact_20[slice9]]\n",
        "\n",
        "approx9_results = pd.DataFrame(approx9).sort_values(by=[0], ascending=False)\n",
        "exact9_results = pd.DataFrame(exact9).sort_values(by=[0], ascending=False)\n",
        "\n",
        "### Best simple regret minimization IQR - approx:\n",
        "lower_approx9 = np.asarray(approx9_results[4:5][0])[0]\n",
        "median_approx9 = np.asarray(approx9_results[9:10][0])[0]\n",
        "upper_approx9 = np.asarray(approx9_results[14:15][0])[0]\n",
        "\n",
        "lower_exact9 = np.asarray(exact9_results[4:5][0])[0]\n",
        "median_exact9 = np.asarray(exact9_results[9:10][0])[0]\n",
        "upper_exact9 = np.asarray(exact9_results[14:15][0])[0]"
      ],
      "execution_count": 92,
      "outputs": []
    },
    {
      "cell_type": "code",
      "metadata": {
        "id": "OQkCCOsPQxf9"
      },
      "source": [
        "# Iteration19 :\n",
        "\n",
        "slice19 = 18\n",
        "\n",
        "approx19 = [simple_regret_approx_1[slice19],\n",
        "       simple_regret_approx_2[slice19],\n",
        "       simple_regret_approx_3[slice19],\n",
        "       simple_regret_approx_4[slice19],\n",
        "       simple_regret_approx_5[slice19],\n",
        "       simple_regret_approx_6[slice19],\n",
        "       simple_regret_approx_7[slice19],\n",
        "       simple_regret_approx_8[slice19],\n",
        "       simple_regret_approx_9[slice19],\n",
        "       simple_regret_approx_10[slice19],\n",
        "       simple_regret_approx_11[slice19],\n",
        "       simple_regret_approx_12[slice19],\n",
        "       simple_regret_approx_13[slice19],\n",
        "       simple_regret_approx_14[slice19],\n",
        "       simple_regret_approx_15[slice19],\n",
        "       simple_regret_approx_16[slice19],\n",
        "       simple_regret_approx_17[slice19],\n",
        "       simple_regret_approx_18[slice19],\n",
        "       simple_regret_approx_19[slice19],\n",
        "       simple_regret_approx_20[slice19]]\n",
        "\n",
        "exact19 = [simple_regret_exact_1[slice19],\n",
        "       simple_regret_exact_2[slice19],\n",
        "       simple_regret_exact_3[slice19],\n",
        "       simple_regret_exact_4[slice19],\n",
        "       simple_regret_exact_5[slice19],\n",
        "       simple_regret_exact_6[slice19],\n",
        "       simple_regret_exact_7[slice19],\n",
        "       simple_regret_exact_8[slice19],\n",
        "       simple_regret_exact_9[slice19],\n",
        "       simple_regret_exact_10[slice19],\n",
        "       simple_regret_exact_11[slice19],\n",
        "       simple_regret_exact_12[slice19],\n",
        "       simple_regret_exact_13[slice19],\n",
        "       simple_regret_exact_14[slice19],\n",
        "       simple_regret_exact_15[slice19],\n",
        "       simple_regret_exact_16[slice19],\n",
        "       simple_regret_exact_17[slice19],\n",
        "       simple_regret_exact_18[slice19],\n",
        "       simple_regret_exact_19[slice19],\n",
        "       simple_regret_exact_20[slice19]]\n",
        "\n",
        "approx19_results = pd.DataFrame(approx19).sort_values(by=[0], ascending=False)\n",
        "exact19_results = pd.DataFrame(exact19).sort_values(by=[0], ascending=False)\n",
        "\n",
        "### Best simple regret minimization IQR - approx:\n",
        "lower_approx19 = np.asarray(approx19_results[4:5][0])[0]\n",
        "median_approx19 = np.asarray(approx19_results[9:10][0])[0]\n",
        "upper_approx19 = np.asarray(approx19_results[14:15][0])[0]\n",
        "\n",
        "lower_exact19 = np.asarray(exact19_results[4:5][0])[0]\n",
        "median_exact19 = np.asarray(exact19_results[9:10][0])[0]\n",
        "upper_exact19 = np.asarray(exact19_results[14:15][0])[0]"
      ],
      "execution_count": 93,
      "outputs": []
    },
    {
      "cell_type": "code",
      "metadata": {
        "id": "h4vtWahcQxf-"
      },
      "source": [
        "# Iteration10 :\n",
        "\n",
        "slice10 = 9\n",
        "\n",
        "approx10 = [simple_regret_approx_1[slice10],\n",
        "       simple_regret_approx_2[slice10],\n",
        "       simple_regret_approx_3[slice10],\n",
        "       simple_regret_approx_4[slice10],\n",
        "       simple_regret_approx_5[slice10],\n",
        "       simple_regret_approx_6[slice10],\n",
        "       simple_regret_approx_7[slice10],\n",
        "       simple_regret_approx_8[slice10],\n",
        "       simple_regret_approx_9[slice10],\n",
        "       simple_regret_approx_10[slice10],\n",
        "       simple_regret_approx_11[slice10],\n",
        "       simple_regret_approx_12[slice10],\n",
        "       simple_regret_approx_13[slice10],\n",
        "       simple_regret_approx_14[slice10],\n",
        "       simple_regret_approx_15[slice10],\n",
        "       simple_regret_approx_16[slice10],\n",
        "       simple_regret_approx_17[slice10],\n",
        "       simple_regret_approx_18[slice10],\n",
        "       simple_regret_approx_19[slice10],\n",
        "       simple_regret_approx_20[slice10]]\n",
        "\n",
        "exact10 = [simple_regret_exact_1[slice10],\n",
        "       simple_regret_exact_2[slice10],\n",
        "       simple_regret_exact_3[slice10],\n",
        "       simple_regret_exact_4[slice10],\n",
        "       simple_regret_exact_5[slice10],\n",
        "       simple_regret_exact_6[slice10],\n",
        "       simple_regret_exact_7[slice10],\n",
        "       simple_regret_exact_8[slice10],\n",
        "       simple_regret_exact_9[slice10],\n",
        "       simple_regret_exact_10[slice10],\n",
        "       simple_regret_exact_11[slice10],\n",
        "       simple_regret_exact_12[slice10],\n",
        "       simple_regret_exact_13[slice10],\n",
        "       simple_regret_exact_14[slice10],\n",
        "       simple_regret_exact_15[slice10],\n",
        "       simple_regret_exact_16[slice10],\n",
        "       simple_regret_exact_17[slice10],\n",
        "       simple_regret_exact_18[slice10],\n",
        "       simple_regret_exact_19[slice10],\n",
        "       simple_regret_exact_20[slice10]]\n",
        "\n",
        "approx10_results = pd.DataFrame(approx10).sort_values(by=[0], ascending=False)\n",
        "exact10_results = pd.DataFrame(exact10).sort_values(by=[0], ascending=False)\n",
        "\n",
        "### Best simple regret minimization IQR - approx:\n",
        "lower_approx10 = np.asarray(approx10_results[4:5][0])[0]\n",
        "median_approx10 = np.asarray(approx10_results[9:10][0])[0]\n",
        "upper_approx10 = np.asarray(approx10_results[14:15][0])[0]\n",
        "\n",
        "lower_exact10 = np.asarray(exact10_results[4:5][0])[0]\n",
        "median_exact10 = np.asarray(exact10_results[9:10][0])[0]\n",
        "upper_exact10 = np.asarray(exact10_results[14:15][0])[0]"
      ],
      "execution_count": 94,
      "outputs": []
    },
    {
      "cell_type": "code",
      "metadata": {
        "id": "Rsf240pWQxf-"
      },
      "source": [
        "# Iteration20 :\n",
        "\n",
        "slice20 = 19\n",
        "\n",
        "approx20 = [simple_regret_approx_1[slice20],\n",
        "       simple_regret_approx_2[slice20],\n",
        "       simple_regret_approx_3[slice20],\n",
        "       simple_regret_approx_4[slice20],\n",
        "       simple_regret_approx_5[slice20],\n",
        "       simple_regret_approx_6[slice20],\n",
        "       simple_regret_approx_7[slice20],\n",
        "       simple_regret_approx_8[slice20],\n",
        "       simple_regret_approx_9[slice20],\n",
        "       simple_regret_approx_10[slice20],\n",
        "       simple_regret_approx_11[slice20],\n",
        "       simple_regret_approx_12[slice20],\n",
        "       simple_regret_approx_13[slice20],\n",
        "       simple_regret_approx_14[slice20],\n",
        "       simple_regret_approx_15[slice20],\n",
        "       simple_regret_approx_16[slice20],\n",
        "       simple_regret_approx_17[slice20],\n",
        "       simple_regret_approx_18[slice20],\n",
        "       simple_regret_approx_19[slice20],\n",
        "       simple_regret_approx_20[slice20]]\n",
        "\n",
        "exact20 = [simple_regret_exact_1[slice20],\n",
        "       simple_regret_exact_2[slice20],\n",
        "       simple_regret_exact_3[slice20],\n",
        "       simple_regret_exact_4[slice20],\n",
        "       simple_regret_exact_5[slice20],\n",
        "       simple_regret_exact_6[slice20],\n",
        "       simple_regret_exact_7[slice20],\n",
        "       simple_regret_exact_8[slice20],\n",
        "       simple_regret_exact_9[slice20],\n",
        "       simple_regret_exact_10[slice20],\n",
        "       simple_regret_exact_11[slice20],\n",
        "       simple_regret_exact_12[slice20],\n",
        "       simple_regret_exact_13[slice20],\n",
        "       simple_regret_exact_14[slice20],\n",
        "       simple_regret_exact_15[slice20],\n",
        "       simple_regret_exact_16[slice20],\n",
        "       simple_regret_exact_17[slice20],\n",
        "       simple_regret_exact_18[slice20],\n",
        "       simple_regret_exact_19[slice20],\n",
        "       simple_regret_exact_20[slice20]]\n",
        "\n",
        "approx20_results = pd.DataFrame(approx20).sort_values(by=[0], ascending=False)\n",
        "exact20_results = pd.DataFrame(exact20).sort_values(by=[0], ascending=False)\n",
        "\n",
        "### Best simple regret minimization IQR - approx:\n",
        "lower_approx20 = np.asarray(approx20_results[4:5][0])[0]\n",
        "median_approx20 = np.asarray(approx20_results[9:10][0])[0]\n",
        "upper_approx20 = np.asarray(approx20_results[14:15][0])[0]\n",
        "\n",
        "lower_exact20 = np.asarray(exact20_results[4:5][0])[0]\n",
        "median_exact20 = np.asarray(exact20_results[9:10][0])[0]\n",
        "upper_exact20 = np.asarray(exact20_results[14:15][0])[0]"
      ],
      "execution_count": 95,
      "outputs": []
    },
    {
      "cell_type": "code",
      "metadata": {
        "id": "gn36RejbQxf_"
      },
      "source": [
        "### Summarize arrays: 'Loser'\n",
        "\n",
        "lower_approx = [lower_approx1,\n",
        "            lower_approx2,\n",
        "            lower_approx3,\n",
        "            lower_approx4,\n",
        "            lower_approx5,\n",
        "            lower_approx6,\n",
        "            lower_approx7,\n",
        "            lower_approx8,\n",
        "            lower_approx9,\n",
        "            lower_approx10,\n",
        "            lower_approx11,\n",
        "            lower_approx12,\n",
        "            lower_approx13,\n",
        "            lower_approx14,\n",
        "            lower_approx15,\n",
        "            lower_approx16,\n",
        "            lower_approx17,\n",
        "            lower_approx18,\n",
        "            lower_approx19,\n",
        "            lower_approx20,\n",
        "            lower_approx21]\n",
        "\n",
        "median_approx = [median_approx1,\n",
        "            median_approx2,\n",
        "            median_approx3,\n",
        "            median_approx4,\n",
        "            median_approx5,\n",
        "            median_approx6,\n",
        "            median_approx7,\n",
        "            median_approx8,\n",
        "            median_approx9,\n",
        "            median_approx10,\n",
        "            median_approx11,\n",
        "            median_approx12,\n",
        "            median_approx13,\n",
        "            median_approx14,\n",
        "            median_approx15,\n",
        "            median_approx16,\n",
        "            median_approx17,\n",
        "            median_approx18,\n",
        "            median_approx19,\n",
        "            median_approx20,\n",
        "            median_approx21]\n",
        "\n",
        "upper_approx = [upper_approx1,\n",
        "            upper_approx2,\n",
        "            upper_approx3,\n",
        "            upper_approx4,\n",
        "            upper_approx5,\n",
        "            upper_approx6,\n",
        "            upper_approx7,\n",
        "            upper_approx8,\n",
        "            upper_approx9,\n",
        "            upper_approx10,\n",
        "            upper_approx11,\n",
        "            upper_approx12,\n",
        "            upper_approx13,\n",
        "            upper_approx14,\n",
        "            upper_approx15,\n",
        "            upper_approx16,\n",
        "            upper_approx17,\n",
        "            upper_approx18,\n",
        "            upper_approx19,\n",
        "            upper_approx20,\n",
        "            upper_approx21]"
      ],
      "execution_count": 96,
      "outputs": []
    },
    {
      "cell_type": "code",
      "metadata": {
        "id": "wxtGTOYfQxf_"
      },
      "source": [
        "### Summarize arrays: 'exact'\n",
        "\n",
        "lower_exact = [lower_exact1,\n",
        "            lower_exact2,\n",
        "            lower_exact3,\n",
        "            lower_exact4,\n",
        "            lower_exact5,\n",
        "            lower_exact6,\n",
        "            lower_exact7,\n",
        "            lower_exact8,\n",
        "            lower_exact9,\n",
        "            lower_exact10,\n",
        "            lower_exact11,\n",
        "            lower_exact12,\n",
        "            lower_exact13,\n",
        "            lower_exact14,\n",
        "            lower_exact15,\n",
        "            lower_exact16,\n",
        "            lower_exact17,\n",
        "            lower_exact18,\n",
        "            lower_exact19,\n",
        "            lower_exact20,\n",
        "            lower_exact21]\n",
        "\n",
        "median_exact = [median_exact1,\n",
        "            median_exact2,\n",
        "            median_exact3,\n",
        "            median_exact4,\n",
        "            median_exact5,\n",
        "            median_exact6,\n",
        "            median_exact7,\n",
        "            median_exact8,\n",
        "            median_exact9,\n",
        "            median_exact10,\n",
        "            median_exact11,\n",
        "            median_exact12,\n",
        "            median_exact13,\n",
        "            median_exact14,\n",
        "            median_exact15,\n",
        "            median_exact16,\n",
        "            median_exact17,\n",
        "            median_exact18,\n",
        "            median_exact19,\n",
        "            median_exact20,\n",
        "            median_exact21]\n",
        "\n",
        "upper_exact = [upper_exact1,\n",
        "            upper_exact2,\n",
        "            upper_exact3,\n",
        "            upper_exact4,\n",
        "            upper_exact5,\n",
        "            upper_exact6,\n",
        "            upper_exact7,\n",
        "            upper_exact8,\n",
        "            upper_exact9,\n",
        "            upper_exact10,\n",
        "            upper_exact11,\n",
        "            upper_exact12,\n",
        "            upper_exact13,\n",
        "            upper_exact14,\n",
        "            upper_exact15,\n",
        "            upper_exact16,\n",
        "            upper_exact17,\n",
        "            upper_exact18,\n",
        "            upper_exact19,\n",
        "            upper_exact20,\n",
        "            upper_exact21]"
      ],
      "execution_count": 97,
      "outputs": []
    },
    {
      "cell_type": "code",
      "metadata": {
        "id": "2MONq-BXQxgA",
        "colab": {
          "base_uri": "https://localhost:8080/",
          "height": 299
        },
        "outputId": "3a1d7df5-8d6f-42c6-e438-ba840f00a86b"
      },
      "source": [
        "### Visualise!\n",
        "\n",
        "title = func\n",
        "plt.figure()\n",
        "\n",
        "plt.plot(median_approx, color = 'Green')\n",
        "plt.plot(median_exact, color = 'Blue')\n",
        "\n",
        "xstar = np.arange(0, iters+1, step=1)\n",
        "plt.fill_between(xstar, lower_approx, upper_approx, facecolor = 'Green', alpha=0.4, label='GP ERM Optimization: Approx GP ERM gradients')\n",
        "plt.fill_between(xstar, lower_exact, upper_exact, facecolor = 'Blue', alpha=0.4, label='GP ERM Optimization: Exact GP dERM gradients')\n",
        "\n",
        "plt.title(title, weight = 'bold')\n",
        "plt.xlabel('(Post-initialization) iteration $\\it{k}$', weight = 'bold')\n",
        "plt.ylabel('log(Regret)', weight = 'bold') \n",
        "plt.legend(loc=1) # add plot legend\n",
        "\n",
        "### Make the x-ticks integers, not floats:\n",
        "count = len(xstar)\n",
        "plt.xticks(np.arange(count), np.arange(0, count))\n",
        "plt.show() #visualize!"
      ],
      "execution_count": 98,
      "outputs": [
        {
          "output_type": "display_data",
          "data": {
            "text/plain": [
              "<Figure size 432x288 with 1 Axes>"
            ],
            "image/png": "[encoded data removed]"
          },
          "metadata": {
            "needs_background": "light"
          }
        }
      ]
    },
    {
      "cell_type": "code",
      "metadata": {
        "id": "l5dkR2Id2oiu",
        "colab": {
          "base_uri": "https://localhost:8080/"
        },
        "outputId": "dc6c005b-43c2-4d5b-b0cc-99626b4aeb8a"
      },
      "source": [
        "time_approx, time_exact\n"
      ],
      "execution_count": 99,
      "outputs": [
        {
          "output_type": "execute_result",
          "data": {
            "text/plain": [
              "(168.65867066383362, 342.18915247917175)"
            ]
          },
          "metadata": {},
          "execution_count": 99
        }
      ]
    },
    {
      "cell_type": "code",
      "source": [
        "exact21_results, exact21_results[19:20].index[0]\n"
      ],
      "metadata": {
        "colab": {
          "base_uri": "https://localhost:8080/"
        },
        "id": "0i4IbAcyB7-l",
        "outputId": "d083e9f7-12b5-402d-d448-073cc70cebbc"
      },
      "execution_count": 100,
      "outputs": [
        {
          "output_type": "execute_result",
          "data": {
            "text/plain": [
              "(           0\n",
              " 11  1.175081\n",
              " 2   1.164129\n",
              " 19  0.865701\n",
              " 17  0.849292\n",
              " 9   0.766426\n",
              " 8   0.594165\n",
              " 13  0.583487\n",
              " 0   0.464784\n",
              " 7   0.457282\n",
              " 16  0.373659\n",
              " 4   0.279856\n",
              " 10  0.166252\n",
              " 14  0.115055\n",
              " 3   0.046857\n",
              " 1   0.000572\n",
              " 6  -0.149788\n",
              " 12 -0.700240\n",
              " 5  -0.785373\n",
              " 18 -0.862815\n",
              " 15 -0.936121, 15)"
            ]
          },
          "metadata": {},
          "execution_count": 100
        }
      ]
    },
    {
      "cell_type": "code",
      "source": [
        "str_exact = str(exact21_results[19:20].index[0]+1)\n",
        "str_exact\n"
      ],
      "metadata": {
        "colab": {
          "base_uri": "https://localhost:8080/",
          "height": 35
        },
        "id": "12lIvjCoBr7y",
        "outputId": "3ad70910-07a5-491d-de47-142661c8bfd9"
      },
      "execution_count": 101,
      "outputs": [
        {
          "output_type": "execute_result",
          "data": {
            "text/plain": [
              "'16'"
            ],
            "application/vnd.google.colaboratory.intrinsic+json": {
              "type": "string"
            }
          },
          "metadata": {},
          "execution_count": 101
        }
      ]
    },
    {
      "cell_type": "code",
      "source": [
        "eval_exactMinIQR_vsCorrApproxExperiment = eval('approx_' + str_exact)\n",
        "eval_exactMinIQR_vsCorrApproxExperiment_maxAcqFunc = eval_exactMinIQR_vsCorrApproxExperiment.history[eval_exactMinIQR_vsCorrApproxExperiment.history.index(eval_exactMinIQR_vsCorrApproxExperiment.tau)-1]\n",
        "eval_exactMinIQR_vsCorrApproxExperiment_simpleRegret = np.log(-eval_exactMinIQR_vsCorrApproxExperiment.tau + y_global_orig)\n",
        "\n",
        "eval_exactMinIQR_vsCorrApproxExperiment.tau, eval_exactMinIQR_vsCorrApproxExperiment_maxAcqFunc, eval_exactMinIQR_vsCorrApproxExperiment_simpleRegret\n"
      ],
      "metadata": {
        "colab": {
          "base_uri": "https://localhost:8080/"
        },
        "id": "O3sQFv0hpuNI",
        "outputId": "84a0ae2a-aa24-4589-b0a7-6cd1b9113409"
      },
      "execution_count": 102,
      "outputs": [
        {
          "output_type": "execute_result",
          "data": {
            "text/plain": [
              "(-2.619342142647559, -0.9978631535958269, 0.7981624508188385)"
            ]
          },
          "metadata": {},
          "execution_count": 102
        }
      ]
    },
    {
      "cell_type": "code",
      "source": [
        "### Final iteration: best \"approx\" experiment results (as above)\n",
        "\n",
        "np.random.seed(int(str_exact))\n",
        "eval_exactMinIQR_vsCorrApproxExperiment.run(init_evals=n_init, max_iter=iters)\n"
      ],
      "metadata": {
        "id": "DKvmmlRoTnvC",
        "colab": {
          "base_uri": "https://localhost:8080/"
        },
        "outputId": "a2a441b7-c8c0-4eef-ed58-6ceb9530c71d"
      },
      "execution_count": 103,
      "outputs": [
        {
          "output_type": "stream",
          "name": "stdout",
          "text": [
            "Evaluation \t Proposed point \t  Current eval. \t  Best eval. \t         Max AcqFunc.\n",
            "init\t [-1.65063381  7.84745012]\t -10.514702126319445\t -2.715864006988424\t    \n",
            "init\t [3.26052185 0.68402925]\t -2.715864006988424\t -2.715864006988424\t    \n",
            "init\t [0.41093253 3.34621413]\t -22.889515127492515\t -2.715864006988424\t    \n",
            "init\t [5.33089243 2.45597138]\t -17.178157611778595\t -2.715864006988424\t    \n",
            "init\t [-3.945127  14.1151629]\t -3.3649224341694195\t -2.715864006988424\t    \n",
            "1  \t [ 5.63879248 14.58068289]\t -198.51319639462758\t -2.715864006988424\t -1.0125658302513083\n",
            "2  \t [-5.  0.]\t -308.12909601160663\t -2.715864006988424\t -1.0125658194854465\n",
            "3  \t [10.          6.97628045]\t -17.73044302116918\t -2.715864006988424\t -1.0125658269032534\n",
            "4  \t [4.63083269 8.53185748]\t -60.07954205917805\t -2.715864006988424\t -1.0125645515162618\n",
            "5  \t [10.  0.]\t -10.960889035651505\t -2.715864006988424\t -1.012561342416296\n",
            "6  \t [ 0.52147716 12.42879091]\t -70.50648840607332\t -2.715864006988424\t -1.0125333670228367\n",
            "7  \t [10.         11.78206061]\t -79.01580784571077\t -2.715864006988424\t -1.0124314280762958\n",
            "8  \t [-5.          5.15163432]\t -157.5824461692628\t -2.715864006988424\t -1.0121168037017745\n",
            "9  \t [-5.         10.32913591]\t -59.75899232477587\t -2.715864006988424\t -1.0115534953472929\n",
            "\u001b[1m\u001b[92m10\u001b[0m\t \u001b[1m\u001b[92m[9.05528108 3.43531133]\u001b[0m\t \u001b[1m\u001b[92m-2.619342142647559\u001b[0m\t \u001b[1m\u001b[92m-2.619342142647559\u001b[0m\t \u001b[1m\u001b[92m-0.9978631535958269\u001b[0m\n",
            "11 \t [-0.50698244  0.        ]\t -65.1811572319047\t -2.619342142647559\t -0.9924263091171647\n",
            "12 \t [1.41549758 6.68985484]\t -18.688264398399973\t -2.619342142647559\t -0.9660514279627973\n",
            "13 \t [6.85418851 5.49795393]\t -36.894106206130104\t -2.619342142647559\t -0.9631958948568179\n",
            "14 \t [ 6.99041876e+00 -8.88178420e-16]\t -18.708435367545192\t -2.619342142647559\t -0.9190856456424616\n",
            "15 \t [10. 15.]\t -145.87219087939556\t -2.619342142647559\t -0.8848330329360659\n",
            "16 \t [3.49649945 4.67240551]\t -8.060792212508872\t -2.619342142647559\t -0.8110785080616499\n",
            "17 \t [-1.74518099 15.        ]\t -42.311329662502175\t -2.619342142647559\t -0.9004652211841766\n",
            "18 \t [ 3.69967377 11.55639678]\t -95.48724202930808\t -2.619342142647559\t -0.7423966995206799\n",
            "19 \t [-5. 15.]\t -17.508299515778166\t -2.619342142647559\t -0.7279946687424865\n",
            "20 \t [7.8649082 9.1375666]\t -68.63226929775044\t -2.619342142647559\t -0.8181207717387665\n"
          ]
        }
      ]
    },
    {
      "cell_type": "code",
      "source": [
        "eval_exactMinIQR_vsCorrApproxExperiment.x_best, np.round(eval_exactMinIQR_vsCorrApproxExperiment.f_best, 2), eval_exactMinIQR_vsCorrApproxExperiment.best, eval_exactMinIQR_vsCorrApproxExperiment.x_best[np.argmin(eval_exactMinIQR_vsCorrApproxExperiment.f_best)] #### i.e. minAcqFunc returned\n"
      ],
      "metadata": {
        "colab": {
          "base_uri": "https://localhost:8080/"
        },
        "id": "tDHS__-Q_WLT",
        "outputId": "0d8eb82b-d746-429f-843f-1e8035d72faf"
      },
      "execution_count": 104,
      "outputs": [
        {
          "output_type": "execute_result",
          "data": {
            "text/plain": [
              "(array([[-1.65590302,  4.87424845],\n",
              "        [ 4.15981416,  0.        ],\n",
              "        [-2.66100575,  0.67643999],\n",
              "        [-3.22591516,  4.42705884],\n",
              "        [ 4.10900278,  5.88382768],\n",
              "        [10.        ,  4.12942532],\n",
              "        [ 2.08733066, 15.        ],\n",
              "        [ 0.09785399,  1.62063466],\n",
              "        [ 2.56778141, 10.48650954],\n",
              "        [-0.53289528, 14.88786288],\n",
              "        [ 4.10895769,  5.88384975],\n",
              "        [-3.54062933,  7.97850452],\n",
              "        [ 7.8649082 ,  9.1375666 ],\n",
              "        [ 9.73335524, 14.38169583],\n",
              "        [-2.39891007,  2.84586091],\n",
              "        [ 0.67618203,  9.27310336],\n",
              "        [-2.70983305, 12.19319817],\n",
              "        [-2.70982727, 12.19319155],\n",
              "        [ 2.42485788, 13.25028472],\n",
              "        [ 9.0300743 , 14.3658936 ]]),\n",
              " array([-0.62, -0.49, -0.  , -0.  , -0.09, -0.58, -0.7 , -0.  , -0.  ,\n",
              "        -0.  , -0.09, -0.23, -0.82, -0.  , -0.72, -0.67, -0.62, -0.62,\n",
              "        -0.  , -0.  ]),\n",
              " array([7.8649082, 9.1375666]),\n",
              " array([7.8649082, 9.1375666]))"
            ]
          },
          "metadata": {},
          "execution_count": 104
        }
      ]
    },
    {
      "cell_type": "code",
      "source": [
        "eval_exactMinIQR = eval('exact_' + str_exact)\n",
        "eval_exactMinIQR_maxAcqFunc = eval_exactMinIQR.history[eval_exactMinIQR.history.index(eval_exactMinIQR.tau)-1]\n",
        "eval_exactMinIQR_simpleRegret  = np.log(-eval_exactMinIQR.tau + y_global_orig)\n",
        "\n",
        "eval_exactMinIQR.tau, eval_exactMinIQR_maxAcqFunc, eval_exactMinIQR_simpleRegret\n"
      ],
      "metadata": {
        "colab": {
          "base_uri": "https://localhost:8080/"
        },
        "id": "M4bxQTTWCXFZ",
        "outputId": "5ebe2d62-7eb7-42ab-ce32-769eda3b1973"
      },
      "execution_count": 105,
      "outputs": [
        {
          "output_type": "execute_result",
          "data": {
            "text/plain": [
              "(-0.7900330342927973, -1.0091169806581173, -0.9361209721049353)"
            ]
          },
          "metadata": {},
          "execution_count": 105
        }
      ]
    },
    {
      "cell_type": "code",
      "source": [
        "### Final iteration: best \"exact\" experiment results (as above)\n",
        "\n",
        "np.random.seed(int(str_exact))\n",
        "eval_exactMinIQR.run(init_evals=n_init, max_iter=iters)\n"
      ],
      "metadata": {
        "colab": {
          "base_uri": "https://localhost:8080/"
        },
        "id": "WeKb1o143nLW",
        "outputId": "934c0e02-67e4-48cf-94d2-e08fc71e25be"
      },
      "execution_count": 106,
      "outputs": [
        {
          "output_type": "stream",
          "name": "stdout",
          "text": [
            "Evaluation \t Proposed point \t  Current eval. \t  Best eval. \t         Max AcqFunc.\n",
            "init\t [-1.65063381  7.84745012]\t -10.514702126319445\t -2.715864006988424\t    \n",
            "init\t [3.26052185 0.68402925]\t -2.715864006988424\t -2.715864006988424\t    \n",
            "init\t [0.41093253 3.34621413]\t -22.889515127492515\t -2.715864006988424\t    \n",
            "init\t [5.33089243 2.45597138]\t -17.178157611778595\t -2.715864006988424\t    \n",
            "init\t [-3.945127  14.1151629]\t -3.3649224341694195\t -2.715864006988424\t    \n",
            "1  \t [ 5.63879248 14.58068289]\t -198.51319639462758\t -2.715864006988424\t -1.012565731570635\n",
            "2  \t [-5.          0.77723009]\t -282.01611609418495\t -2.715864006988424\t -1.0125656243255747\n",
            "3  \t [10.          5.64059168]\t -8.900259472871072\t -2.715864006988424\t -1.01256515674148\n",
            "4  \t [4.11243132 8.80009307]\t -55.85062737292832\t -2.715864006988424\t -1.0125646116683593\n",
            "5  \t [-5.         10.28108353]\t -60.42040928471862\t -2.715864006988424\t -1.0116301412211568\n",
            "6  \t [10.         10.86618331]\t -63.773474833133626\t -2.715864006988424\t -1.012558349500488\n",
            "7  \t [ 0.36855248 15.        ]\t -110.52351557994749\t -2.715864006988424\t -1.0124570197882903\n",
            "8  \t [10. 15.]\t -145.87219087939556\t -2.715864006988424\t -1.0050898641457073\n",
            "\u001b[1m\u001b[92m9\u001b[0m\t \u001b[1m\u001b[92m[9.23747248 1.84803799]\u001b[0m\t \u001b[1m\u001b[92m-0.7900330342927973\u001b[0m\t \u001b[1m\u001b[92m-0.7900330342927973\u001b[0m\t \u001b[1m\u001b[92m-1.0091169806581173\u001b[0m\n",
            "10 \t [-5.          5.59824037]\t -147.03144724540155\t -0.7900330342927973\t -1.010643144514748\n",
            "11 \t [-0.83842475  0.        ]\t -71.5539846868843\t -0.7900330342927973\t -0.9908662503072045\n",
            "12 \t [-0.80051684 11.14198641]\t -31.013575234537665\t -0.7900330342927973\t -0.9920501417354622\n",
            "13 \t [5.77977349 5.80762428]\t -40.415527850035076\t -0.7900330342927973\t -0.9512953907842875\n",
            "14 \t [1.78699717 6.19323831]\t -14.82972604925502\t -0.7900330342927973\t -0.9282220768765905\n",
            "15 \t [ 2.6304753  11.96989331]\t -87.41979978821439\t -0.7900330342927973\t -0.9165859132556639\n",
            "16 \t [ 6.20068477 11.22115843]\t -122.04266385940957\t -0.7900330342927973\t -0.7258826290779474\n",
            "17 \t [8.52761474 3.1386196 ]\t -5.742866303239097\t -0.7900330342927973\t -0.8613399692764842\n",
            "18 \t [10.          7.81186739]\t -25.068763583409776\t -0.7900330342927973\t -0.6462521165140604\n",
            "19 \t [-1.5732743   5.36355986]\t -21.948777977241452\t -0.7900330342927973\t -0.6708081831055067\n",
            "20 \t [6.82576035 0.        ]\t -19.557796077699543\t -0.7900330342927973\t -0.9320374553096907\n"
          ]
        }
      ]
    },
    {
      "cell_type": "code",
      "source": [
        "eval_exactMinIQR.x_best, np.round(eval_exactMinIQR.f_best, 2), eval_exactMinIQR.best, eval_exactMinIQR.x_best[np.argmin(eval_exactMinIQR.f_best)] #### i.e. minAcqFunc returned, then multiply by -1 (NB!)\n"
      ],
      "metadata": {
        "colab": {
          "base_uri": "https://localhost:8080/"
        },
        "id": "c0IIOZ-bID_G",
        "outputId": "35d622f3-448a-4cc2-d99f-3aa7d8456323"
      },
      "execution_count": 107,
      "outputs": [
        {
          "output_type": "execute_result",
          "data": {
            "text/plain": [
              "(array([[-2.93335315,  4.98430225],\n",
              "        [ 3.14852899,  3.56801186],\n",
              "        [-2.66100575,  0.67643999],\n",
              "        [-3.22591516,  4.42705884],\n",
              "        [ 3.25028298,  6.0635718 ],\n",
              "        [ 6.82576035,  0.        ],\n",
              "        [ 1.5690007 , 13.87289205],\n",
              "        [ 0.51160332,  2.03438399],\n",
              "        [ 2.56778141, 10.48650954],\n",
              "        [-0.53289528, 14.88786288],\n",
              "        [ 5.30030441,  5.46276633],\n",
              "        [ 1.53504086,  7.94942878],\n",
              "        [ 7.83220417,  7.30970198],\n",
              "        [ 9.73335524, 14.38169583],\n",
              "        [-1.59990126,  2.37758914],\n",
              "        [ 0.81304767,  8.74970855],\n",
              "        [-2.93963106, 15.        ],\n",
              "        [-2.65185957, 12.64620691],\n",
              "        [ 2.42485547, 13.25024333],\n",
              "        [ 9.0300743 , 14.3658936 ]]),\n",
              " array([-0.  , -0.59, -0.  , -0.  , -0.04, -0.93, -0.  , -0.  , -0.  ,\n",
              "        -0.  , -0.  , -0.19, -0.25, -0.  , -0.12, -0.64, -0.55, -0.43,\n",
              "        -0.  , -0.  ]),\n",
              " array([6.82576035, 0.        ]),\n",
              " array([6.82576035, 0.        ]))"
            ]
          },
          "metadata": {},
          "execution_count": 107
        }
      ]
    },
    {
      "cell_type": "code",
      "source": [
        "eval_exactMinIQR.tau > eval_exactMinIQR_vsCorrApproxExperiment.tau # Exact gradients' model: is y-value greater?"
      ],
      "metadata": {
        "colab": {
          "base_uri": "https://localhost:8080/"
        },
        "id": "RRSEL9F33mw_",
        "outputId": "57ff4869-7f09-446e-d450-044eee683e18"
      },
      "execution_count": 108,
      "outputs": [
        {
          "output_type": "execute_result",
          "data": {
            "text/plain": [
              "True"
            ]
          },
          "metadata": {},
          "execution_count": 108
        }
      ]
    },
    {
      "cell_type": "code",
      "source": [
        "eval_exactMinIQR_maxAcqFunc > eval_exactMinIQR_vsCorrApproxExperiment_maxAcqFunc # Exact gradients' model: is best AcqFunc greater?\n"
      ],
      "metadata": {
        "colab": {
          "base_uri": "https://localhost:8080/"
        },
        "id": "srZDKNlWGaUp",
        "outputId": "de879de4-d8d8-4438-c249-a49e9fd8698d"
      },
      "execution_count": 109,
      "outputs": [
        {
          "output_type": "execute_result",
          "data": {
            "text/plain": [
              "False"
            ]
          },
          "metadata": {},
          "execution_count": 109
        }
      ]
    },
    {
      "cell_type": "code",
      "source": [
        "eval_exactMinIQR_simpleRegret < eval_exactMinIQR_vsCorrApproxExperiment_simpleRegret # Exact gradients' model: simple regret's natural log lower?\n"
      ],
      "metadata": {
        "colab": {
          "base_uri": "https://localhost:8080/"
        },
        "id": "TYkP-rneGab3",
        "outputId": "fa61fc30-2513-46c5-ce2c-db0800f00300"
      },
      "execution_count": 110,
      "outputs": [
        {
          "output_type": "execute_result",
          "data": {
            "text/plain": [
              "True"
            ]
          },
          "metadata": {},
          "execution_count": 110
        }
      ]
    },
    {
      "cell_type": "code",
      "source": [
        "eval_exactMinIQR_maxAcqFunc, eval_exactMinIQR_vsCorrApproxExperiment_maxAcqFunc, eval_exactMinIQR_maxAcqFunc/eval_exactMinIQR_vsCorrApproxExperiment_maxAcqFunc\n"
      ],
      "metadata": {
        "id": "10rcQ55YGajh",
        "colab": {
          "base_uri": "https://localhost:8080/"
        },
        "outputId": "517a3473-0c97-4417-bc03-6d89a8f27d84"
      },
      "execution_count": 111,
      "outputs": [
        {
          "output_type": "execute_result",
          "data": {
            "text/plain": [
              "(-1.0091169806581173, -0.9978631535958269, 1.0112779262584624)"
            ]
          },
          "metadata": {},
          "execution_count": 111
        }
      ]
    },
    {
      "cell_type": "code",
      "source": [
        "### MaxAcqFunc Comparison: Approximate Gradients\n",
        "\n",
        "approx_1maxAcqFunc = approx_1.history[:-1][1::2]\n",
        "approx_2maxAcqFunc = approx_2.history[:-1][1::2]\n",
        "approx_3maxAcqFunc = approx_3.history[:-1][1::2]\n",
        "approx_4maxAcqFunc = approx_4.history[:-1][1::2]\n",
        "approx_5maxAcqFunc = approx_5.history[:-1][1::2]\n",
        "approx_6maxAcqFunc = approx_6.history[:-1][1::2]\n",
        "approx_7maxAcqFunc = approx_7.history[:-1][1::2]\n",
        "approx_8maxAcqFunc = approx_8.history[:-1][1::2]\n",
        "approx_9maxAcqFunc = approx_9.history[:-1][1::2]\n",
        "approx_10maxAcqFunc = approx_10.history[:-1][1::2]\n",
        "approx_11maxAcqFunc = approx_11.history[:-1][1::2]\n",
        "approx_12maxAcqFunc = approx_12.history[:-1][1::2]\n",
        "approx_13maxAcqFunc = approx_13.history[:-1][1::2]\n",
        "approx_14maxAcqFunc = approx_14.history[:-1][1::2]\n",
        "approx_15maxAcqFunc = approx_15.history[:-1][1::2]\n",
        "approx_16maxAcqFunc = approx_16.history[:-1][1::2]\n",
        "approx_17maxAcqFunc = approx_17.history[:-1][1::2]\n",
        "approx_18maxAcqFunc = approx_18.history[:-1][1::2]\n",
        "approx_19maxAcqFunc = approx_19.history[:-1][1::2]\n",
        "approx_20maxAcqFunc = approx_20.history[:-1][1::2]\n"
      ],
      "metadata": {
        "id": "rN6LmSIqhYDb"
      },
      "execution_count": 112,
      "outputs": []
    },
    {
      "cell_type": "code",
      "source": [
        "### MaxAcqFunc Comparison: Exact Gradients\n",
        "\n",
        "exact_1maxAcqFunc = exact_1.history[:-1][1::2]\n",
        "exact_2maxAcqFunc = exact_2.history[:-1][1::2]\n",
        "exact_3maxAcqFunc = exact_3.history[:-1][1::2]\n",
        "exact_4maxAcqFunc = exact_4.history[:-1][1::2]\n",
        "exact_5maxAcqFunc = exact_5.history[:-1][1::2]\n",
        "exact_6maxAcqFunc = exact_6.history[:-1][1::2]\n",
        "exact_7maxAcqFunc = exact_7.history[:-1][1::2]\n",
        "exact_8maxAcqFunc = exact_8.history[:-1][1::2]\n",
        "exact_9maxAcqFunc = exact_9.history[:-1][1::2]\n",
        "exact_10maxAcqFunc = exact_10.history[:-1][1::2]\n",
        "exact_11maxAcqFunc = exact_11.history[:-1][1::2]\n",
        "exact_12maxAcqFunc = exact_12.history[:-1][1::2]\n",
        "exact_13maxAcqFunc = exact_13.history[:-1][1::2]\n",
        "exact_14maxAcqFunc = exact_14.history[:-1][1::2]\n",
        "exact_15maxAcqFunc = exact_15.history[:-1][1::2]\n",
        "exact_16maxAcqFunc = exact_16.history[:-1][1::2]\n",
        "exact_17maxAcqFunc = exact_17.history[:-1][1::2]\n",
        "exact_18maxAcqFunc = exact_18.history[:-1][1::2]\n",
        "exact_19maxAcqFunc = exact_19.history[:-1][1::2]\n",
        "exact_20maxAcqFunc = exact_20.history[:-1][1::2]\n"
      ],
      "metadata": {
        "id": "8v_Qb1ZPiK1L"
      },
      "execution_count": 113,
      "outputs": []
    },
    {
      "cell_type": "code",
      "source": [
        "### MaxAcqFunc Comparison: Experiment 1\n",
        "\n",
        "maxAcqFuncApprox1 = np.mean(approx_1maxAcqFunc)\n",
        "maxAcqFuncExact1 = np.mean(exact_1maxAcqFunc)\n",
        "ratio1 = maxAcqFuncApprox1/maxAcqFuncExact1\n",
        "approx_1.tau, exact_1.tau, maxAcqFuncApprox1, maxAcqFuncExact1, ratio1\n"
      ],
      "metadata": {
        "colab": {
          "base_uri": "https://localhost:8080/"
        },
        "id": "lH13qO-JJfok",
        "outputId": "13445305-a548-4fdc-e0e1-1651e546d2d1"
      },
      "execution_count": 114,
      "outputs": [
        {
          "output_type": "execute_result",
          "data": {
            "text/plain": [
              "(-4.333308116197517,\n",
              " -1.9895576691576817,\n",
              " -0.9434935202110791,\n",
              " -0.9242793581619321,\n",
              " 1.0207882626388598)"
            ]
          },
          "metadata": {},
          "execution_count": 114
        }
      ]
    },
    {
      "cell_type": "code",
      "source": [
        "### MaxAcqFunc Comparison: Experiment 2\n",
        "\n",
        "maxAcqFuncApprox2 = np.mean(approx_2maxAcqFunc)\n",
        "maxAcqFuncExact2 = np.mean(exact_2maxAcqFunc)\n",
        "ratio2 = maxAcqFuncApprox2/maxAcqFuncExact2\n",
        "approx_2.tau, exact_2.tau, maxAcqFuncApprox2, maxAcqFuncExact2, ratio2\n"
      ],
      "metadata": {
        "colab": {
          "base_uri": "https://localhost:8080/"
        },
        "id": "QWeVwVP_HPQb",
        "outputId": "28cadf2f-1e5f-47c0-9a9d-1adc5a8f49c9"
      },
      "execution_count": 115,
      "outputs": [
        {
          "output_type": "execute_result",
          "data": {
            "text/plain": [
              "(-1.3984593420568778,\n",
              " -1.3984593420568778,\n",
              " -0.9510379016826386,\n",
              " -0.9427909623910319,\n",
              " 1.0087473677841496)"
            ]
          },
          "metadata": {},
          "execution_count": 115
        }
      ]
    },
    {
      "cell_type": "code",
      "source": [
        "### MaxAcqFunc Comparison: Experiment 3\n",
        "\n",
        "maxAcqFuncApprox3 = np.mean(approx_3maxAcqFunc)\n",
        "maxAcqFuncExact3 = np.mean(exact_3maxAcqFunc)\n",
        "ratio3 = maxAcqFuncApprox3/maxAcqFuncExact3\n",
        "approx_3.tau, exact_3.tau, maxAcqFuncApprox3, maxAcqFuncExact3, ratio3\n"
      ],
      "metadata": {
        "colab": {
          "base_uri": "https://localhost:8080/"
        },
        "id": "jgGLMx0RHPUA",
        "outputId": "fefb049e-ebec-4204-adc8-9debef4dbe2d"
      },
      "execution_count": 116,
      "outputs": [
        {
          "output_type": "execute_result",
          "data": {
            "text/plain": [
              "(-2.1994520343691555,\n",
              " -3.6010193697779265,\n",
              " -0.9559587662897948,\n",
              " -0.9146250185733757,\n",
              " 1.045192015172394)"
            ]
          },
          "metadata": {},
          "execution_count": 116
        }
      ]
    },
    {
      "cell_type": "code",
      "source": [
        "### MaxAcqFunc Comparison: Experiment 4\n",
        "\n",
        "maxAcqFuncApprox4 = np.mean(approx_4maxAcqFunc)\n",
        "maxAcqFuncExact4 = np.mean(exact_4maxAcqFunc)\n",
        "ratio4 = maxAcqFuncApprox4/maxAcqFuncExact4\n",
        "approx_4.tau, exact_4.tau, maxAcqFuncApprox4, maxAcqFuncExact4, ratio4\n"
      ],
      "metadata": {
        "colab": {
          "base_uri": "https://localhost:8080/"
        },
        "id": "ml1c1t4SHPXV",
        "outputId": "5b164bf1-f838-4d72-c326-c11c9829b463"
      },
      "execution_count": 117,
      "outputs": [
        {
          "output_type": "execute_result",
          "data": {
            "text/plain": [
              "(-2.880475612350752,\n",
              " -1.4458589997135203,\n",
              " -0.9451662541122159,\n",
              " -0.9057496175064668,\n",
              " 1.0435182481382252)"
            ]
          },
          "metadata": {},
          "execution_count": 117
        }
      ]
    },
    {
      "cell_type": "code",
      "source": [
        "### MaxAcqFunc Comparison: Experiment 5\n",
        "\n",
        "maxAcqFuncApprox5 = np.mean(approx_5maxAcqFunc)\n",
        "maxAcqFuncExact5 = np.mean(exact_5maxAcqFunc)\n",
        "ratio5 = maxAcqFuncApprox5/maxAcqFuncExact5\n",
        "approx_5.tau, exact_5.tau, maxAcqFuncApprox5, maxAcqFuncExact5, ratio5\n"
      ],
      "metadata": {
        "colab": {
          "base_uri": "https://localhost:8080/"
        },
        "id": "MLbsgyMiHPaf",
        "outputId": "0a63c9e9-5b21-4f7b-b581-26c2fded008c"
      },
      "execution_count": 118,
      "outputs": [
        {
          "output_type": "execute_result",
          "data": {
            "text/plain": [
              "(-3.7211286928829486,\n",
              " -1.7208265991945755,\n",
              " -0.9684800731760135,\n",
              " -0.9348513903289334,\n",
              " 1.0359722231736186)"
            ]
          },
          "metadata": {},
          "execution_count": 118
        }
      ]
    },
    {
      "cell_type": "code",
      "source": [
        "### MaxAcqFunc Comparison: Experiment 6\n",
        "\n",
        "maxAcqFuncApprox6 = np.mean(approx_6maxAcqFunc)\n",
        "maxAcqFuncExact6 = np.mean(exact_6maxAcqFunc)\n",
        "ratio6 = maxAcqFuncApprox6/maxAcqFuncExact6\n",
        "approx_6.tau, exact_6.tau, maxAcqFuncApprox6, maxAcqFuncExact6, ratio6\n"
      ],
      "metadata": {
        "colab": {
          "base_uri": "https://localhost:8080/"
        },
        "id": "0H912oKjHPfu",
        "outputId": "81a65baa-cd7d-4891-9b31-5778d4503f39"
      },
      "execution_count": 119,
      "outputs": [
        {
          "output_type": "execute_result",
          "data": {
            "text/plain": [
              "(-1.6011406937656645,\n",
              " -0.8538365738479072,\n",
              " -0.9606387942646405,\n",
              " -0.9491611124623527,\n",
              " 1.0120924484279723)"
            ]
          },
          "metadata": {},
          "execution_count": 119
        }
      ]
    },
    {
      "cell_type": "code",
      "source": [
        "### MaxAcqFunc Comparison: Experiment 7\n",
        "\n",
        "maxAcqFuncApprox7 = np.mean(approx_7maxAcqFunc)\n",
        "maxAcqFuncExact7 = np.mean(exact_7maxAcqFunc)\n",
        "ratio7 = maxAcqFuncApprox7/maxAcqFuncExact7\n",
        "approx_7.tau, exact_7.tau, maxAcqFuncApprox7, maxAcqFuncExact7, ratio7\n"
      ],
      "metadata": {
        "colab": {
          "base_uri": "https://localhost:8080/"
        },
        "id": "qrh-IEZ3HPip",
        "outputId": "935c2742-b8e0-4acb-fb63-4c09cb904189"
      },
      "execution_count": 120,
      "outputs": [
        {
          "output_type": "execute_result",
          "data": {
            "text/plain": [
              "(-2.5942892046191437,\n",
              " -1.2587774805964713,\n",
              " -0.9567252153369417,\n",
              " -0.9509931536890797,\n",
              " 1.0060274478587214)"
            ]
          },
          "metadata": {},
          "execution_count": 120
        }
      ]
    },
    {
      "cell_type": "code",
      "source": [
        "### MaxAcqFunc Comparison: Experiment 8\n",
        "\n",
        "maxAcqFuncApprox8 = np.mean(approx_8maxAcqFunc)\n",
        "maxAcqFuncExact8 = np.mean(exact_8maxAcqFunc)\n",
        "ratio8 = maxAcqFuncApprox8/maxAcqFuncExact8\n",
        "approx_8.tau, exact_8.tau, maxAcqFuncApprox8, maxAcqFuncExact8, ratio8\n"
      ],
      "metadata": {
        "colab": {
          "base_uri": "https://localhost:8080/"
        },
        "id": "UOp-jaflHPlz",
        "outputId": "54505958-bdcf-423f-e732-4c9ebdd2c1eb"
      },
      "execution_count": 121,
      "outputs": [
        {
          "output_type": "execute_result",
          "data": {
            "text/plain": [
              "(-3.3253832158765615,\n",
              " -1.9776613337857079,\n",
              " -0.9433439377251561,\n",
              " -0.9297371299608248,\n",
              " 1.0146351127924778)"
            ]
          },
          "metadata": {},
          "execution_count": 121
        }
      ]
    },
    {
      "cell_type": "code",
      "source": [
        "### MaxAcqFunc Comparison: Experiment 9\n",
        "\n",
        "maxAcqFuncApprox9 = np.mean(approx_9maxAcqFunc)\n",
        "maxAcqFuncExact9 = np.mean(exact_9maxAcqFunc)\n",
        "ratio9 = maxAcqFuncApprox9/maxAcqFuncExact9\n",
        "approx_9.tau, exact_9.tau, maxAcqFuncApprox9, maxAcqFuncExact9, ratio9\n"
      ],
      "metadata": {
        "colab": {
          "base_uri": "https://localhost:8080/"
        },
        "id": "myU75lI6HPo4",
        "outputId": "891f9f3f-5ba5-4017-b6f7-69b62192fcb0"
      },
      "execution_count": 122,
      "outputs": [
        {
          "output_type": "execute_result",
          "data": {
            "text/plain": [
              "(-1.9709611872908628,\n",
              " -2.209404885743255,\n",
              " -0.9386539850079553,\n",
              " -0.9403342494614655,\n",
              " 0.9982131200108126)"
            ]
          },
          "metadata": {},
          "execution_count": 122
        }
      ]
    },
    {
      "cell_type": "code",
      "source": [
        "### MaxAcqFunc Comparison: Experiment 10\n",
        "\n",
        "maxAcqFuncApprox10 = np.mean(approx_10maxAcqFunc)\n",
        "maxAcqFuncExact10 = np.mean(exact_10maxAcqFunc)\n",
        "ratio10 = maxAcqFuncApprox10/maxAcqFuncExact10\n",
        "approx_10.tau, exact_10.tau, maxAcqFuncApprox10, maxAcqFuncExact10, ratio10\n"
      ],
      "metadata": {
        "colab": {
          "base_uri": "https://localhost:8080/"
        },
        "id": "A3mo5UftHPsk",
        "outputId": "fabd5858-a70c-4501-ca5a-1d12a82dcddb"
      },
      "execution_count": 123,
      "outputs": [
        {
          "output_type": "execute_result",
          "data": {
            "text/plain": [
              "(-2.2314567613507785,\n",
              " -2.5499481461498377,\n",
              " -0.9612290305912408,\n",
              " -0.8948340488047135,\n",
              " 1.0741980950269105)"
            ]
          },
          "metadata": {},
          "execution_count": 123
        }
      ]
    },
    {
      "cell_type": "code",
      "source": [
        "### MaxAcqFunc Comparison: Experiment 11\n",
        "\n",
        "maxAcqFuncApprox11 = np.mean(approx_11maxAcqFunc)\n",
        "maxAcqFuncExact11 = np.mean(exact_11maxAcqFunc)\n",
        "ratio11 = maxAcqFuncApprox11/maxAcqFuncExact11\n",
        "approx_11.tau, exact_11.tau, maxAcqFuncApprox11, maxAcqFuncExact11, ratio11\n"
      ],
      "metadata": {
        "colab": {
          "base_uri": "https://localhost:8080/"
        },
        "id": "TaEOW6nLLEcx",
        "outputId": "de1516d4-e4be-42ca-dafe-7f87dab2b978"
      },
      "execution_count": 124,
      "outputs": [
        {
          "output_type": "execute_result",
          "data": {
            "text/plain": [
              "(-1.946780661988866,\n",
              " -1.5787577809316495,\n",
              " -0.9450454654428823,\n",
              " -0.9025930594375469,\n",
              " 1.0470338272175388)"
            ]
          },
          "metadata": {},
          "execution_count": 124
        }
      ]
    },
    {
      "cell_type": "code",
      "source": [
        "### MaxAcqFunc Comparison: Experiment 12\n",
        "\n",
        "maxAcqFuncApprox12 = np.mean(approx_12maxAcqFunc)\n",
        "maxAcqFuncExact12 = np.mean(exact_12maxAcqFunc)\n",
        "ratio12 = maxAcqFuncApprox12/maxAcqFuncExact12\n",
        "approx_12.tau, exact_12.tau, maxAcqFuncApprox12, maxAcqFuncExact12, ratio12\n"
      ],
      "metadata": {
        "colab": {
          "base_uri": "https://localhost:8080/"
        },
        "id": "1KjJRPSwLE76",
        "outputId": "811e3a07-77ed-4e8c-8a47-849736806bb7"
      },
      "execution_count": 125,
      "outputs": [
        {
          "output_type": "execute_result",
          "data": {
            "text/plain": [
              "(-0.5499315281120278,\n",
              " -0.5499315281120278,\n",
              " -0.9643401069352471,\n",
              " -0.9395410085422036,\n",
              " 1.0263949079045755)"
            ]
          },
          "metadata": {},
          "execution_count": 125
        }
      ]
    },
    {
      "cell_type": "code",
      "source": [
        "### MaxAcqFunc Comparison: Experiment 13\n",
        "\n",
        "maxAcqFuncApprox13 = np.mean(approx_13maxAcqFunc)\n",
        "maxAcqFuncExact13 = np.mean(exact_13maxAcqFunc)\n",
        "ratio13 = maxAcqFuncApprox13/maxAcqFuncExact13\n",
        "approx_13.tau, exact_13.tau, maxAcqFuncApprox13, maxAcqFuncExact13, ratio13\n"
      ],
      "metadata": {
        "colab": {
          "base_uri": "https://localhost:8080/"
        },
        "id": "jCoTSHuBLFOJ",
        "outputId": "f1483749-1aab-420b-fd23-1bdc971a56cd"
      },
      "execution_count": 126,
      "outputs": [
        {
          "output_type": "execute_result",
          "data": {
            "text/plain": [
              "(-0.8943531028899869,\n",
              " -0.8943531028899869,\n",
              " -0.9836741205322242,\n",
              " -0.9221149392439345,\n",
              " 1.0667586855698963)"
            ]
          },
          "metadata": {},
          "execution_count": 126
        }
      ]
    },
    {
      "cell_type": "code",
      "source": [
        "### MaxAcqFunc Comparison: Experiment 14\n",
        "\n",
        "maxAcqFuncApprox14 = np.mean(approx_14maxAcqFunc)\n",
        "maxAcqFuncExact14 = np.mean(exact_14maxAcqFunc)\n",
        "ratio14 = maxAcqFuncApprox14/maxAcqFuncExact14\n",
        "approx_14.tau, exact_14.tau, maxAcqFuncApprox14, maxAcqFuncExact14, ratio14\n"
      ],
      "metadata": {
        "colab": {
          "base_uri": "https://localhost:8080/"
        },
        "id": "9_xSxWT8LFsp",
        "outputId": "71f6570e-0277-4448-91f9-d73649d4eb58"
      },
      "execution_count": 127,
      "outputs": [
        {
          "output_type": "execute_result",
          "data": {
            "text/plain": [
              "(-0.8951632808062211,\n",
              " -1.4149920024014744,\n",
              " -0.9580981045961116,\n",
              " -0.9270635287643542,\n",
              " 1.0334762126530015)"
            ]
          },
          "metadata": {},
          "execution_count": 127
        }
      ]
    },
    {
      "cell_type": "code",
      "source": [
        "### MaxAcqFunc Comparison: Experiment 15\n",
        "\n",
        "maxAcqFuncApprox15 = np.mean(approx_15maxAcqFunc)\n",
        "maxAcqFuncExact15 = np.mean(exact_15maxAcqFunc)\n",
        "ratio15 = maxAcqFuncApprox15/maxAcqFuncExact15\n",
        "approx_15.tau, exact_15.tau, maxAcqFuncApprox15, maxAcqFuncExact15, ratio15\n"
      ],
      "metadata": {
        "colab": {
          "base_uri": "https://localhost:8080/"
        },
        "id": "vj_iCIvOLFeP",
        "outputId": "d40680d8-22ee-441f-8723-47e26746fa31"
      },
      "execution_count": 128,
      "outputs": [
        {
          "output_type": "execute_result",
          "data": {
            "text/plain": [
              "(-2.5409730454813646,\n",
              " -1.5198224356961507,\n",
              " -0.9643252400850141,\n",
              " -0.9258957792007528,\n",
              " 1.0415051690995223)"
            ]
          },
          "metadata": {},
          "execution_count": 128
        }
      ]
    },
    {
      "cell_type": "code",
      "source": [
        "### MaxAcqFunc Comparison: Experiment 16\n",
        "\n",
        "maxAcqFuncApprox16 = np.mean(approx_16maxAcqFunc)\n",
        "maxAcqFuncExact16 = np.mean(exact_16maxAcqFunc)\n",
        "ratio16 = maxAcqFuncApprox16/maxAcqFuncExact16\n",
        "approx_16.tau, exact_16.tau, maxAcqFuncApprox16, maxAcqFuncExact16, ratio16\n"
      ],
      "metadata": {
        "colab": {
          "base_uri": "https://localhost:8080/"
        },
        "id": "vjFFlps7LF7A",
        "outputId": "e539a924-7196-49c0-c416-0eacc00b508a"
      },
      "execution_count": 129,
      "outputs": [
        {
          "output_type": "execute_result",
          "data": {
            "text/plain": [
              "(-2.619342142647559,\n",
              " -0.7900330342927973,\n",
              " -1.8046757823609874,\n",
              " -1.296505904762351,\n",
              " 1.391953384656419)"
            ]
          },
          "metadata": {},
          "execution_count": 129
        }
      ]
    },
    {
      "cell_type": "code",
      "source": [
        "### MaxAcqFunc Comparison: Experiment 17\n",
        "\n",
        "maxAcqFuncApprox17 = np.mean(approx_17maxAcqFunc)\n",
        "maxAcqFuncExact17 = np.mean(exact_17maxAcqFunc)\n",
        "ratio17 = maxAcqFuncApprox17/maxAcqFuncExact17\n",
        "approx_17.tau, exact_17.tau, maxAcqFuncApprox17, maxAcqFuncExact17, ratio17\n"
      ],
      "metadata": {
        "colab": {
          "base_uri": "https://localhost:8080/"
        },
        "id": "jO0-nRLRLGJv",
        "outputId": "09705f95-7e01-496b-bcfb-a1e4cd01a23c"
      },
      "execution_count": 130,
      "outputs": [
        {
          "output_type": "execute_result",
          "data": {
            "text/plain": [
              "(-1.9549973929399087,\n",
              " -1.8509281105180317,\n",
              " -0.9258211300998,\n",
              " -0.9155439589694165,\n",
              " 1.0112252077354669)"
            ]
          },
          "metadata": {},
          "execution_count": 130
        }
      ]
    },
    {
      "cell_type": "code",
      "source": [
        "### MaxAcqFunc Comparison: Experiment 18\n",
        "\n",
        "maxAcqFuncApprox18 = np.mean(approx_18maxAcqFunc)\n",
        "maxAcqFuncExact18 = np.mean(exact_18maxAcqFunc)\n",
        "ratio18 = maxAcqFuncApprox18/maxAcqFuncExact18\n",
        "approx_18.tau, exact_18.tau, maxAcqFuncApprox18, maxAcqFuncExact18, ratio18\n"
      ],
      "metadata": {
        "colab": {
          "base_uri": "https://localhost:8080/"
        },
        "id": "5Zo9ub4ULGXh",
        "outputId": "c6350683-01a6-4464-c278-da10ffdf826c"
      },
      "execution_count": 131,
      "outputs": [
        {
          "output_type": "execute_result",
          "data": {
            "text/plain": [
              "(-4.0607372492488985,\n",
              " -2.7358782319288073,\n",
              " -0.9663757451393135,\n",
              " -0.9259187369251733,\n",
              " 1.0436939081160528)"
            ]
          },
          "metadata": {},
          "execution_count": 131
        }
      ]
    },
    {
      "cell_type": "code",
      "source": [
        "### MaxAcqFunc Comparison: Experiment 19\n",
        "\n",
        "maxAcqFuncApprox19 = np.mean(approx_19maxAcqFunc)\n",
        "maxAcqFuncExact19 = np.mean(exact_19maxAcqFunc)\n",
        "ratio19 = maxAcqFuncApprox19/maxAcqFuncExact19\n",
        "approx_19.tau, exact_19.tau, maxAcqFuncApprox19, maxAcqFuncExact19, ratio19\n"
      ],
      "metadata": {
        "colab": {
          "base_uri": "https://localhost:8080/"
        },
        "id": "1yJ_PLUFLGmh",
        "outputId": "e8011b7e-0e75-4e2b-e793-5adb0d42e42c"
      },
      "execution_count": 132,
      "outputs": [
        {
          "output_type": "execute_result",
          "data": {
            "text/plain": [
              "(-0.45468388410719207,\n",
              " -0.8198597583535783,\n",
              " -0.9455482296697827,\n",
              " -0.9343949867571638,\n",
              " 1.0119363257195186)"
            ]
          },
          "metadata": {},
          "execution_count": 132
        }
      ]
    },
    {
      "cell_type": "code",
      "source": [
        "### MaxAcqFunc Comparison: Experiment 20\n",
        "\n",
        "maxAcqFuncApprox20 = np.mean(approx_20maxAcqFunc)\n",
        "maxAcqFuncExact20 = np.mean(exact_20maxAcqFunc)\n",
        "ratio20 = maxAcqFuncApprox20/maxAcqFuncExact20\n",
        "approx_20.tau, exact_20.tau, maxAcqFuncApprox20, maxAcqFuncExact20, ratio20\n"
      ],
      "metadata": {
        "colab": {
          "base_uri": "https://localhost:8080/"
        },
        "id": "Sd9NxsRsLG1P",
        "outputId": "eefa0d46-1174-452a-d550-1c140800242c"
      },
      "execution_count": 133,
      "outputs": [
        {
          "output_type": "execute_result",
          "data": {
            "text/plain": [
              "(-2.5012611562499867,\n",
              " -2.7745590618899953,\n",
              " -0.9064123462995367,\n",
              " -0.9012107529200597,\n",
              " 1.005771783528573)"
            ]
          },
          "metadata": {},
          "execution_count": 133
        }
      ]
    },
    {
      "cell_type": "code",
      "source": [
        "num = [1,2,3,4,5,6,7,8,9,10,11,12,13,14,15,16,17,18,19,20]\n",
        "ApproxTau = [approx_1.tau,approx_2.tau,approx_3.tau,approx_4.tau,approx_5.tau,approx_6.tau,approx_7.tau,approx_8.tau,approx_9.tau,approx_10.tau,approx_11.tau,approx_12.tau,approx_13.tau,approx_14.tau,approx_15.tau,approx_16.tau,approx_17.tau,approx_18.tau,approx_19.tau,approx_20.tau]\n",
        "ExactTau = [exact_1.tau,exact_2.tau,exact_3.tau,exact_4.tau,exact_5.tau,exact_6.tau,exact_7.tau,exact_8.tau,exact_9.tau,exact_10.tau,exact_11.tau,exact_12.tau,exact_13.tau,exact_14.tau,exact_15.tau,exact_16.tau,exact_17.tau,exact_18.tau,exact_19.tau,exact_20.tau]\n",
        "AvgMaxAcqFuncExact = [maxAcqFuncExact1,maxAcqFuncExact2,maxAcqFuncExact3,maxAcqFuncExact4,maxAcqFuncExact5,maxAcqFuncExact6,maxAcqFuncExact7,maxAcqFuncExact8,maxAcqFuncExact9,maxAcqFuncExact10,maxAcqFuncExact11,maxAcqFuncExact12,maxAcqFuncExact13,maxAcqFuncExact14,maxAcqFuncExact15,maxAcqFuncExact16,maxAcqFuncExact17,maxAcqFuncExact18,maxAcqFuncExact19,maxAcqFuncExact20]\n",
        "AvgMaxAcqFuncApprox = [maxAcqFuncApprox1,maxAcqFuncApprox2,maxAcqFuncApprox3,maxAcqFuncApprox4,maxAcqFuncApprox5,maxAcqFuncApprox6,maxAcqFuncApprox7,maxAcqFuncApprox8,maxAcqFuncApprox9,maxAcqFuncApprox10,maxAcqFuncApprox11,maxAcqFuncApprox12,maxAcqFuncApprox13,maxAcqFuncApprox14,maxAcqFuncApprox15,maxAcqFuncApprox16,maxAcqFuncApprox17,maxAcqFuncApprox18,maxAcqFuncApprox19,maxAcqFuncApprox20]\n",
        "ratio = [ratio1,ratio2,ratio3,ratio4,ratio5,ratio6,ratio7,ratio8,ratio9,ratio10,ratio11,ratio12,ratio13,ratio14,ratio15,ratio16,ratio17,ratio18,ratio19,ratio20]\n"
      ],
      "metadata": {
        "id": "_Fbc4r50vHHF"
      },
      "execution_count": 134,
      "outputs": []
    },
    {
      "cell_type": "code",
      "source": [
        "def greaterThan(a, b):\n",
        "  lis =[]\n",
        "  #convert to list\n",
        "  a = list(a)\n",
        "  b = list(b)\n",
        "  c = \"Yes\"\n",
        "  d = \"No\"\n",
        "  e = \"equal\"\n",
        "  for first, first_te in zip(a, b):\n",
        "      if first < first_te:\n",
        "          lis.append(d)\n",
        "      elif first > first_te:\n",
        "          lis.append(c)\n",
        "      else:\n",
        "          lis.append(e)\n",
        "  return lis\n",
        "\n",
        "greaterAcqFunc = greaterThan(AvgMaxAcqFuncExact, AvgMaxAcqFuncApprox)\n"
      ],
      "metadata": {
        "id": "gyTQQeQfknKX"
      },
      "execution_count": 135,
      "outputs": []
    },
    {
      "cell_type": "code",
      "source": [
        "def greaterRatio(a):\n",
        "  lis =[]\n",
        "  #convert to list\n",
        "  a = list(a)\n",
        "  b = \"Yes\"\n",
        "  c = \"No\"\n",
        "  d = \"equal\"\n",
        "  for first, in zip(a):\n",
        "      if first < 1:\n",
        "          lis.append(c)\n",
        "      elif first > 1:\n",
        "          lis.append(b)\n",
        "      else:\n",
        "          lis.append(d)\n",
        "  return lis\n",
        "\n",
        "greaterRatio = greaterRatio(ratio)\n"
      ],
      "metadata": {
        "id": "wO-_fUfpoYyP"
      },
      "execution_count": 136,
      "outputs": []
    },
    {
      "cell_type": "code",
      "source": [
        "df = pd.DataFrame(dict(Experiment=num,\n",
        "                  ExactTau=ExactTau,\n",
        "                  ApproxTau=ApproxTau,\n",
        "                  AvgMaxAcqFuncExact=AvgMaxAcqFuncExact,\n",
        "                  GreaterAcqFunc = greaterAcqFunc,\n",
        "                  AvgMaxAcqFuncApprox=AvgMaxAcqFuncApprox,\n",
        "                  Ratio = ratio,\n",
        "                  GreaterRatio = greaterRatio))\n",
        "df.sort_values(by=['ExactTau'], inplace=True, ascending=False)\n",
        "print(df.to_latex(index=False))\n"
      ],
      "metadata": {
        "colab": {
          "base_uri": "https://localhost:8080/"
        },
        "id": "4EzMdtEQV0yI",
        "outputId": "afd03465-a529-4d2a-bffe-46cf262f1c66"
      },
      "execution_count": 137,
      "outputs": [
        {
          "output_type": "stream",
          "name": "stdout",
          "text": [
            "\\begin{tabular}{rrrrlrrl}\n",
            "\\toprule\n",
            " Experiment &  ExactTau &  ApproxTau &  AvgMaxAcqFuncExact & GreaterAcqFunc &  AvgMaxAcqFuncApprox &    Ratio & GreaterRatio \\\\\n",
            "\\midrule\n",
            "         12 & -0.549932 &  -0.549932 &           -0.939541 &            Yes &            -0.964340 & 1.026395 &          Yes \\\\\n",
            "         16 & -0.790033 &  -2.619342 &           -1.296506 &            Yes &            -1.804676 & 1.391953 &          Yes \\\\\n",
            "         19 & -0.819860 &  -0.454684 &           -0.934395 &            Yes &            -0.945548 & 1.011936 &          Yes \\\\\n",
            "          6 & -0.853837 &  -1.601141 &           -0.949161 &            Yes &            -0.960639 & 1.012092 &          Yes \\\\\n",
            "         13 & -0.894353 &  -0.894353 &           -0.922115 &            Yes &            -0.983674 & 1.066759 &          Yes \\\\\n",
            "          7 & -1.258777 &  -2.594289 &           -0.950993 &            Yes &            -0.956725 & 1.006027 &          Yes \\\\\n",
            "          2 & -1.398459 &  -1.398459 &           -0.942791 &            Yes &            -0.951038 & 1.008747 &          Yes \\\\\n",
            "         14 & -1.414992 &  -0.895163 &           -0.927064 &            Yes &            -0.958098 & 1.033476 &          Yes \\\\\n",
            "          4 & -1.445859 &  -2.880476 &           -0.905750 &            Yes &            -0.945166 & 1.043518 &          Yes \\\\\n",
            "         15 & -1.519822 &  -2.540973 &           -0.925896 &            Yes &            -0.964325 & 1.041505 &          Yes \\\\\n",
            "         11 & -1.578758 &  -1.946781 &           -0.902593 &            Yes &            -0.945045 & 1.047034 &          Yes \\\\\n",
            "          5 & -1.720827 &  -3.721129 &           -0.934851 &            Yes &            -0.968480 & 1.035972 &          Yes \\\\\n",
            "         17 & -1.850928 &  -1.954997 &           -0.915544 &            Yes &            -0.925821 & 1.011225 &          Yes \\\\\n",
            "          8 & -1.977661 &  -3.325383 &           -0.929737 &            Yes &            -0.943344 & 1.014635 &          Yes \\\\\n",
            "          1 & -1.989558 &  -4.333308 &           -0.924279 &            Yes &            -0.943494 & 1.020788 &          Yes \\\\\n",
            "          9 & -2.209405 &  -1.970961 &           -0.940334 &             No &            -0.938654 & 0.998213 &           No \\\\\n",
            "         10 & -2.549948 &  -2.231457 &           -0.894834 &            Yes &            -0.961229 & 1.074198 &          Yes \\\\\n",
            "         18 & -2.735878 &  -4.060737 &           -0.925919 &            Yes &            -0.966376 & 1.043694 &          Yes \\\\\n",
            "         20 & -2.774559 &  -2.501261 &           -0.901211 &            Yes &            -0.906412 & 1.005772 &          Yes \\\\\n",
            "          3 & -3.601019 &  -2.199452 &           -0.914625 &            Yes &            -0.955959 & 1.045192 &          Yes \\\\\n",
            "\\bottomrule\n",
            "\\end{tabular}\n",
            "\n"
          ]
        }
      ]
    },
    {
      "cell_type": "code",
      "source": [
        "avg_list = ['ExactTau', 'ApproxTau', 'AvgMaxAcqFuncExact','AvgMaxAcqFuncApprox']\n",
        "avg = df[avg_list].mean()\n",
        "avg.name = 'Average'\n",
        "df = df.append(avg.transpose())\n",
        "df.fillna(value='', inplace=True)\n",
        "df\n"
      ],
      "metadata": {
        "id": "HQ6-zjAHD43j",
        "colab": {
          "base_uri": "https://localhost:8080/",
          "height": 708
        },
        "outputId": "23f61ba2-e0e4-4c0d-9ec6-caa67ea51164"
      },
      "execution_count": 138,
      "outputs": [
        {
          "output_type": "execute_result",
          "data": {
            "text/plain": [
              "        Experiment  ExactTau  ApproxTau  AvgMaxAcqFuncExact GreaterAcqFunc  \\\n",
              "11            12.0 -0.549932  -0.549932           -0.939541            Yes   \n",
              "15            16.0 -0.790033  -2.619342           -1.296506            Yes   \n",
              "18            19.0 -0.819860  -0.454684           -0.934395            Yes   \n",
              "5              6.0 -0.853837  -1.601141           -0.949161            Yes   \n",
              "12            13.0 -0.894353  -0.894353           -0.922115            Yes   \n",
              "6              7.0 -1.258777  -2.594289           -0.950993            Yes   \n",
              "1              2.0 -1.398459  -1.398459           -0.942791            Yes   \n",
              "13            14.0 -1.414992  -0.895163           -0.927064            Yes   \n",
              "3              4.0 -1.445859  -2.880476           -0.905750            Yes   \n",
              "14            15.0 -1.519822  -2.540973           -0.925896            Yes   \n",
              "10            11.0 -1.578758  -1.946781           -0.902593            Yes   \n",
              "4              5.0 -1.720827  -3.721129           -0.934851            Yes   \n",
              "16            17.0 -1.850928  -1.954997           -0.915544            Yes   \n",
              "7              8.0 -1.977661  -3.325383           -0.929737            Yes   \n",
              "0              1.0 -1.989558  -4.333308           -0.924279            Yes   \n",
              "8              9.0 -2.209405  -1.970961           -0.940334             No   \n",
              "9             10.0 -2.549948  -2.231457           -0.894834            Yes   \n",
              "17            18.0 -2.735878  -4.060737           -0.925919            Yes   \n",
              "19            20.0 -2.774559  -2.501261           -0.901211            Yes   \n",
              "2              3.0 -3.601019  -2.199452           -0.914625            Yes   \n",
              "Average            -1.696723  -2.233714           -0.943907                  \n",
              "\n",
              "         AvgMaxAcqFuncApprox     Ratio GreaterRatio  \n",
              "11                 -0.964340  1.026395          Yes  \n",
              "15                 -1.804676  1.391953          Yes  \n",
              "18                 -0.945548  1.011936          Yes  \n",
              "5                  -0.960639  1.012092          Yes  \n",
              "12                 -0.983674  1.066759          Yes  \n",
              "6                  -0.956725  1.006027          Yes  \n",
              "1                  -0.951038  1.008747          Yes  \n",
              "13                 -0.958098  1.033476          Yes  \n",
              "3                  -0.945166  1.043518          Yes  \n",
              "14                 -0.964325  1.041505          Yes  \n",
              "10                 -0.945045  1.047034          Yes  \n",
              "4                  -0.968480  1.035972          Yes  \n",
              "16                 -0.925821  1.011225          Yes  \n",
              "7                  -0.943344  1.014635          Yes  \n",
              "0                  -0.943494  1.020788          Yes  \n",
              "8                  -0.938654  0.998213           No  \n",
              "9                  -0.961229  1.074198          Yes  \n",
              "17                 -0.966376  1.043694          Yes  \n",
              "19                 -0.906412  1.005772          Yes  \n",
              "2                  -0.955959  1.045192          Yes  \n",
              "Average            -0.994452                         "
            ],
            "text/html": [
              "\n",
              "  <div id=\"df-a23e85e9-1418-4f06-aa8b-9f22c17ddf53\">\n",
              "    <div class=\"colab-df-container\">\n",
              "      <div>\n",
              "<style scoped>\n",
              "    .dataframe tbody tr th:only-of-type {\n",
              "        vertical-align: middle;\n",
              "    }\n",
              "\n",
              "    .dataframe tbody tr th {\n",
              "        vertical-align: top;\n",
              "    }\n",
              "\n",
              "    .dataframe thead th {\n",
              "        text-align: right;\n",
              "    }\n",
              "</style>\n",
              "<table border=\"1\" class=\"dataframe\">\n",
              "  <thead>\n",
              "    <tr style=\"text-align: right;\">\n",
              "      <th></th>\n",
              "      <th>Experiment</th>\n",
              "      <th>ExactTau</th>\n",
              "      <th>ApproxTau</th>\n",
              "      <th>AvgMaxAcqFuncExact</th>\n",
              "      <th>GreaterAcqFunc</th>\n",
              "      <th>AvgMaxAcqFuncApprox</th>\n",
              "      <th>Ratio</th>\n",
              "      <th>GreaterRatio</th>\n",
              "    </tr>\n",
              "  </thead>\n",
              "  <tbody>\n",
              "    <tr>\n",
              "      <th>11</th>\n",
              "      <td>12.0</td>\n",
              "      <td>-0.549932</td>\n",
              "      <td>-0.549932</td>\n",
              "      <td>-0.939541</td>\n",
              "      <td>Yes</td>\n",
              "      <td>-0.964340</td>\n",
              "      <td>1.026395</td>\n",
              "      <td>Yes</td>\n",
              "    </tr>\n",
              "    <tr>\n",
              "      <th>15</th>\n",
              "      <td>16.0</td>\n",
              "      <td>-0.790033</td>\n",
              "      <td>-2.619342</td>\n",
              "      <td>-1.296506</td>\n",
              "      <td>Yes</td>\n",
              "      <td>-1.804676</td>\n",
              "      <td>1.391953</td>\n",
              "      <td>Yes</td>\n",
              "    </tr>\n",
              "    <tr>\n",
              "      <th>18</th>\n",
              "      <td>19.0</td>\n",
              "      <td>-0.819860</td>\n",
              "      <td>-0.454684</td>\n",
              "      <td>-0.934395</td>\n",
              "      <td>Yes</td>\n",
              "      <td>-0.945548</td>\n",
              "      <td>1.011936</td>\n",
              "      <td>Yes</td>\n",
              "    </tr>\n",
              "    <tr>\n",
              "      <th>5</th>\n",
              "      <td>6.0</td>\n",
              "      <td>-0.853837</td>\n",
              "      <td>-1.601141</td>\n",
              "      <td>-0.949161</td>\n",
              "      <td>Yes</td>\n",
              "      <td>-0.960639</td>\n",
              "      <td>1.012092</td>\n",
              "      <td>Yes</td>\n",
              "    </tr>\n",
              "    <tr>\n",
              "      <th>12</th>\n",
              "      <td>13.0</td>\n",
              "      <td>-0.894353</td>\n",
              "      <td>-0.894353</td>\n",
              "      <td>-0.922115</td>\n",
              "      <td>Yes</td>\n",
              "      <td>-0.983674</td>\n",
              "      <td>1.066759</td>\n",
              "      <td>Yes</td>\n",
              "    </tr>\n",
              "    <tr>\n",
              "      <th>6</th>\n",
              "      <td>7.0</td>\n",
              "      <td>-1.258777</td>\n",
              "      <td>-2.594289</td>\n",
              "      <td>-0.950993</td>\n",
              "      <td>Yes</td>\n",
              "      <td>-0.956725</td>\n",
              "      <td>1.006027</td>\n",
              "      <td>Yes</td>\n",
              "    </tr>\n",
              "    <tr>\n",
              "      <th>1</th>\n",
              "      <td>2.0</td>\n",
              "      <td>-1.398459</td>\n",
              "      <td>-1.398459</td>\n",
              "      <td>-0.942791</td>\n",
              "      <td>Yes</td>\n",
              "      <td>-0.951038</td>\n",
              "      <td>1.008747</td>\n",
              "      <td>Yes</td>\n",
              "    </tr>\n",
              "    <tr>\n",
              "      <th>13</th>\n",
              "      <td>14.0</td>\n",
              "      <td>-1.414992</td>\n",
              "      <td>-0.895163</td>\n",
              "      <td>-0.927064</td>\n",
              "      <td>Yes</td>\n",
              "      <td>-0.958098</td>\n",
              "      <td>1.033476</td>\n",
              "      <td>Yes</td>\n",
              "    </tr>\n",
              "    <tr>\n",
              "      <th>3</th>\n",
              "      <td>4.0</td>\n",
              "      <td>-1.445859</td>\n",
              "      <td>-2.880476</td>\n",
              "      <td>-0.905750</td>\n",
              "      <td>Yes</td>\n",
              "      <td>-0.945166</td>\n",
              "      <td>1.043518</td>\n",
              "      <td>Yes</td>\n",
              "    </tr>\n",
              "    <tr>\n",
              "      <th>14</th>\n",
              "      <td>15.0</td>\n",
              "      <td>-1.519822</td>\n",
              "      <td>-2.540973</td>\n",
              "      <td>-0.925896</td>\n",
              "      <td>Yes</td>\n",
              "      <td>-0.964325</td>\n",
              "      <td>1.041505</td>\n",
              "      <td>Yes</td>\n",
              "    </tr>\n",
              "    <tr>\n",
              "      <th>10</th>\n",
              "      <td>11.0</td>\n",
              "      <td>-1.578758</td>\n",
              "      <td>-1.946781</td>\n",
              "      <td>-0.902593</td>\n",
              "      <td>Yes</td>\n",
              "      <td>-0.945045</td>\n",
              "      <td>1.047034</td>\n",
              "      <td>Yes</td>\n",
              "    </tr>\n",
              "    <tr>\n",
              "      <th>4</th>\n",
              "      <td>5.0</td>\n",
              "      <td>-1.720827</td>\n",
              "      <td>-3.721129</td>\n",
              "      <td>-0.934851</td>\n",
              "      <td>Yes</td>\n",
              "      <td>-0.968480</td>\n",
              "      <td>1.035972</td>\n",
              "      <td>Yes</td>\n",
              "    </tr>\n",
              "    <tr>\n",
              "      <th>16</th>\n",
              "      <td>17.0</td>\n",
              "      <td>-1.850928</td>\n",
              "      <td>-1.954997</td>\n",
              "      <td>-0.915544</td>\n",
              "      <td>Yes</td>\n",
              "      <td>-0.925821</td>\n",
              "      <td>1.011225</td>\n",
              "      <td>Yes</td>\n",
              "    </tr>\n",
              "    <tr>\n",
              "      <th>7</th>\n",
              "      <td>8.0</td>\n",
              "      <td>-1.977661</td>\n",
              "      <td>-3.325383</td>\n",
              "      <td>-0.929737</td>\n",
              "      <td>Yes</td>\n",
              "      <td>-0.943344</td>\n",
              "      <td>1.014635</td>\n",
              "      <td>Yes</td>\n",
              "    </tr>\n",
              "    <tr>\n",
              "      <th>0</th>\n",
              "      <td>1.0</td>\n",
              "      <td>-1.989558</td>\n",
              "      <td>-4.333308</td>\n",
              "      <td>-0.924279</td>\n",
              "      <td>Yes</td>\n",
              "      <td>-0.943494</td>\n",
              "      <td>1.020788</td>\n",
              "      <td>Yes</td>\n",
              "    </tr>\n",
              "    <tr>\n",
              "      <th>8</th>\n",
              "      <td>9.0</td>\n",
              "      <td>-2.209405</td>\n",
              "      <td>-1.970961</td>\n",
              "      <td>-0.940334</td>\n",
              "      <td>No</td>\n",
              "      <td>-0.938654</td>\n",
              "      <td>0.998213</td>\n",
              "      <td>No</td>\n",
              "    </tr>\n",
              "    <tr>\n",
              "      <th>9</th>\n",
              "      <td>10.0</td>\n",
              "      <td>-2.549948</td>\n",
              "      <td>-2.231457</td>\n",
              "      <td>-0.894834</td>\n",
              "      <td>Yes</td>\n",
              "      <td>-0.961229</td>\n",
              "      <td>1.074198</td>\n",
              "      <td>Yes</td>\n",
              "    </tr>\n",
              "    <tr>\n",
              "      <th>17</th>\n",
              "      <td>18.0</td>\n",
              "      <td>-2.735878</td>\n",
              "      <td>-4.060737</td>\n",
              "      <td>-0.925919</td>\n",
              "      <td>Yes</td>\n",
              "      <td>-0.966376</td>\n",
              "      <td>1.043694</td>\n",
              "      <td>Yes</td>\n",
              "    </tr>\n",
              "    <tr>\n",
              "      <th>19</th>\n",
              "      <td>20.0</td>\n",
              "      <td>-2.774559</td>\n",
              "      <td>-2.501261</td>\n",
              "      <td>-0.901211</td>\n",
              "      <td>Yes</td>\n",
              "      <td>-0.906412</td>\n",
              "      <td>1.005772</td>\n",
              "      <td>Yes</td>\n",
              "    </tr>\n",
              "    <tr>\n",
              "      <th>2</th>\n",
              "      <td>3.0</td>\n",
              "      <td>-3.601019</td>\n",
              "      <td>-2.199452</td>\n",
              "      <td>-0.914625</td>\n",
              "      <td>Yes</td>\n",
              "      <td>-0.955959</td>\n",
              "      <td>1.045192</td>\n",
              "      <td>Yes</td>\n",
              "    </tr>\n",
              "    <tr>\n",
              "      <th>Average</th>\n",
              "      <td></td>\n",
              "      <td>-1.696723</td>\n",
              "      <td>-2.233714</td>\n",
              "      <td>-0.943907</td>\n",
              "      <td></td>\n",
              "      <td>-0.994452</td>\n",
              "      <td></td>\n",
              "      <td></td>\n",
              "    </tr>\n",
              "  </tbody>\n",
              "</table>\n",
              "</div>\n",
              "      <button class=\"colab-df-convert\" onclick=\"convertToInteractive('df-a23e85e9-1418-4f06-aa8b-9f22c17ddf53')\"\n",
              "              title=\"Convert this dataframe to an interactive table.\"\n",
              "              style=\"display:none;\">\n",
              "        \n",
              "  <svg xmlns=\"http://www.w3.org/2000/svg\" height=\"24px\"viewBox=\"0 0 24 24\"\n",
              "       width=\"24px\">\n",
              "    <path d=\"M0 0h24v24H0V0z\" fill=\"none\"/>\n",
              "    <path d=\"M18.56 5.44l.94 2.06.94-2.06 2.06-.94-2.06-.94-.94-2.06-.94 2.06-2.06.94zm-11 1L8.5 8.5l.94-2.06 2.06-.94-2.06-.94L8.5 2.5l-.94 2.06-2.06.94zm10 10l.94 2.06.94-2.06 2.06-.94-2.06-.94-.94-2.06-.94 2.06-2.06.94z\"/><path d=\"M17.41 7.96l-1.37-1.37c-.4-.4-.92-.59-1.43-.59-.52 0-1.04.2-1.43.59L10.3 9.45l-7.72 7.72c-.78.78-.78 2.05 0 2.83L4 21.41c.39.39.9.59 1.41.59.51 0 1.02-.2 1.41-.59l7.78-7.78 2.81-2.81c.8-.78.8-2.07 0-2.86zM5.41 20L4 18.59l7.72-7.72 1.47 1.35L5.41 20z\"/>\n",
              "  </svg>\n",
              "      </button>\n",
              "      \n",
              "  <style>\n",
              "    .colab-df-container {\n",
              "      display:flex;\n",
              "      flex-wrap:wrap;\n",
              "      gap: 12px;\n",
              "    }\n",
              "\n",
              "    .colab-df-convert {\n",
              "      background-color: #E8F0FE;\n",
              "      border: none;\n",
              "      border-radius: 50%;\n",
              "      cursor: pointer;\n",
              "      display: none;\n",
              "      fill: #1967D2;\n",
              "      height: 32px;\n",
              "      padding: 0 0 0 0;\n",
              "      width: 32px;\n",
              "    }\n",
              "\n",
              "    .colab-df-convert:hover {\n",
              "      background-color: #E2EBFA;\n",
              "      box-shadow: 0px 1px 2px rgba(60, 64, 67, 0.3), 0px 1px 3px 1px rgba(60, 64, 67, 0.15);\n",
              "      fill: #174EA6;\n",
              "    }\n",
              "\n",
              "    [theme=dark] .colab-df-convert {\n",
              "      background-color: #3B4455;\n",
              "      fill: #D2E3FC;\n",
              "    }\n",
              "\n",
              "    [theme=dark] .colab-df-convert:hover {\n",
              "      background-color: #434B5C;\n",
              "      box-shadow: 0px 1px 3px 1px rgba(0, 0, 0, 0.15);\n",
              "      filter: drop-shadow(0px 1px 2px rgba(0, 0, 0, 0.3));\n",
              "      fill: #FFFFFF;\n",
              "    }\n",
              "  </style>\n",
              "\n",
              "      <script>\n",
              "        const buttonEl =\n",
              "          document.querySelector('#df-a23e85e9-1418-4f06-aa8b-9f22c17ddf53 button.colab-df-convert');\n",
              "        buttonEl.style.display =\n",
              "          google.colab.kernel.accessAllowed ? 'block' : 'none';\n",
              "\n",
              "        async function convertToInteractive(key) {\n",
              "          const element = document.querySelector('#df-a23e85e9-1418-4f06-aa8b-9f22c17ddf53');\n",
              "          const dataTable =\n",
              "            await google.colab.kernel.invokeFunction('convertToInteractive',\n",
              "                                                     [key], {});\n",
              "          if (!dataTable) return;\n",
              "\n",
              "          const docLinkHtml = 'Like what you see? Visit the ' +\n",
              "            '<a target=\"_blank\" href=https://colab.research.google.com/notebooks/data_table.ipynb>data table notebook</a>'\n",
              "            + ' to learn more about interactive tables.';\n",
              "          element.innerHTML = '';\n",
              "          dataTable['output_type'] = 'display_data';\n",
              "          await google.colab.output.renderOutput(dataTable, element);\n",
              "          const docLink = document.createElement('div');\n",
              "          docLink.innerHTML = docLinkHtml;\n",
              "          element.appendChild(docLink);\n",
              "        }\n",
              "      </script>\n",
              "    </div>\n",
              "  </div>\n",
              "  "
            ]
          },
          "metadata": {},
          "execution_count": 138
        }
      ]
    },
    {
      "cell_type": "code",
      "source": [
        "print('Ratio of Average ExactTau to Average ApproxTau:', np.round(avg[1]/avg[0], 5))\n",
        "print('Ratio of Average AvgMaxAcqFuncExact to Average AvgMaxAcqFuncApprox:', np.round(avg[3]/avg[2], 5))\n",
        "print('Number of experiments where AvgMaxAcqFuncExact exceeds AvgMaxAcqFuncApprox:', df['GreaterAcqFunc'].value_counts()['Yes'])\n",
        "print('Number of experiments where Ratio exceeds 1.0:', df['GreaterRatio'].value_counts()['Yes'])\n"
      ],
      "metadata": {
        "id": "u7PPphIXeKUz",
        "colab": {
          "base_uri": "https://localhost:8080/"
        },
        "outputId": "b029a36f-fc04-4be2-a1ee-210e1c67fa74"
      },
      "execution_count": 139,
      "outputs": [
        {
          "output_type": "stream",
          "name": "stdout",
          "text": [
            "Ratio of Average ExactTau to Average ApproxTau: 1.31649\n",
            "Ratio of Average AvgMaxAcqFuncExact to Average AvgMaxAcqFuncApprox: 1.05355\n",
            "Number of experiments where AvgMaxAcqFuncExact exceeds AvgMaxAcqFuncApprox: 19\n",
            "Number of experiments where Ratio exceeds 1.0: 19\n"
          ]
        }
      ]
    },
    {
      "cell_type": "code",
      "source": [
        ""
      ],
      "metadata": {
        "id": "OGKIw7hxEHhl"
      },
      "execution_count": 139,
      "outputs": []
    }
  ]
}