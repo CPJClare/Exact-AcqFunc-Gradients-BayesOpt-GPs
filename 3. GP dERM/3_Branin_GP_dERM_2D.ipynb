{
  "nbformat": 4,
  "nbformat_minor": 0,
  "metadata": {
    "colab": {
      "name": "3. Branin_GP_dERM_2D.ipynb",
      "provenance": [],
      "collapsed_sections": []
    },
    "kernelspec": {
      "name": "python3",
      "display_name": "Python 3"
    },
    "language_info": {
      "name": "python"
    }
  },
  "cells": [
    {
      "cell_type": "markdown",
      "metadata": {
        "id": "Dqn4dFx7Z2Ir"
      },
      "source": [
        "\n",
        "Branin: 2D\n"
      ]
    },
    {
      "cell_type": "code",
      "metadata": {
        "id": "MJTM_GZZZb5x",
        "colab": {
          "base_uri": "https://localhost:8080/"
        },
        "outputId": "7837900b-4ab2-4f0a-e6f1-c49f4b2aca02"
      },
      "source": [
        "pip install pyGPGO\n"
      ],
      "execution_count": 1,
      "outputs": [
        {
          "output_type": "stream",
          "name": "stdout",
          "text": [
            "Collecting pyGPGO\n",
            "  Downloading pyGPGO-0.5.1.tar.gz (14 kB)\n",
            "Requirement already satisfied: numpy in /usr/local/lib/python3.7/dist-packages (from pyGPGO) (1.19.5)\n",
            "Requirement already satisfied: mkl in /usr/local/lib/python3.7/dist-packages (from pyGPGO) (2019.0)\n",
            "Requirement already satisfied: scipy in /usr/local/lib/python3.7/dist-packages (from pyGPGO) (1.4.1)\n",
            "Requirement already satisfied: joblib in /usr/local/lib/python3.7/dist-packages (from pyGPGO) (1.1.0)\n",
            "Requirement already satisfied: scikit-learn in /usr/local/lib/python3.7/dist-packages (from pyGPGO) (1.0.2)\n",
            "Requirement already satisfied: Theano-PyMC in /usr/local/lib/python3.7/dist-packages (from pyGPGO) (1.1.2)\n",
            "Requirement already satisfied: pyMC3 in /usr/local/lib/python3.7/dist-packages (from pyGPGO) (3.11.4)\n",
            "Requirement already satisfied: intel-openmp in /usr/local/lib/python3.7/dist-packages (from mkl->pyGPGO) (2022.0.2)\n",
            "Requirement already satisfied: arviz>=0.11.0 in /usr/local/lib/python3.7/dist-packages (from pyMC3->pyGPGO) (0.11.4)\n",
            "Requirement already satisfied: patsy>=0.5.1 in /usr/local/lib/python3.7/dist-packages (from pyMC3->pyGPGO) (0.5.2)\n",
            "Requirement already satisfied: cachetools>=4.2.1 in /usr/local/lib/python3.7/dist-packages (from pyMC3->pyGPGO) (4.2.4)\n",
            "Requirement already satisfied: semver>=2.13.0 in /usr/local/lib/python3.7/dist-packages (from pyMC3->pyGPGO) (2.13.0)\n",
            "Requirement already satisfied: fastprogress>=0.2.0 in /usr/local/lib/python3.7/dist-packages (from pyMC3->pyGPGO) (1.0.0)\n",
            "Requirement already satisfied: pandas>=0.24.0 in /usr/local/lib/python3.7/dist-packages (from pyMC3->pyGPGO) (1.1.5)\n",
            "Requirement already satisfied: dill in /usr/local/lib/python3.7/dist-packages (from pyMC3->pyGPGO) (0.3.4)\n",
            "Requirement already satisfied: typing-extensions>=3.7.4 in /usr/local/lib/python3.7/dist-packages (from pyMC3->pyGPGO) (3.10.0.2)\n",
            "Requirement already satisfied: filelock in /usr/local/lib/python3.7/dist-packages (from Theano-PyMC->pyGPGO) (3.4.2)\n",
            "Requirement already satisfied: netcdf4 in /usr/local/lib/python3.7/dist-packages (from arviz>=0.11.0->pyMC3->pyGPGO) (1.5.8)\n",
            "Requirement already satisfied: packaging in /usr/local/lib/python3.7/dist-packages (from arviz>=0.11.0->pyMC3->pyGPGO) (21.3)\n",
            "Requirement already satisfied: xarray>=0.16.1 in /usr/local/lib/python3.7/dist-packages (from arviz>=0.11.0->pyMC3->pyGPGO) (0.18.2)\n",
            "Requirement already satisfied: matplotlib>=3.0 in /usr/local/lib/python3.7/dist-packages (from arviz>=0.11.0->pyMC3->pyGPGO) (3.2.2)\n",
            "Requirement already satisfied: setuptools>=38.4 in /usr/local/lib/python3.7/dist-packages (from arviz>=0.11.0->pyMC3->pyGPGO) (57.4.0)\n",
            "Requirement already satisfied: cycler>=0.10 in /usr/local/lib/python3.7/dist-packages (from matplotlib>=3.0->arviz>=0.11.0->pyMC3->pyGPGO) (0.11.0)\n",
            "Requirement already satisfied: python-dateutil>=2.1 in /usr/local/lib/python3.7/dist-packages (from matplotlib>=3.0->arviz>=0.11.0->pyMC3->pyGPGO) (2.8.2)\n",
            "Requirement already satisfied: pyparsing!=2.0.4,!=2.1.2,!=2.1.6,>=2.0.1 in /usr/local/lib/python3.7/dist-packages (from matplotlib>=3.0->arviz>=0.11.0->pyMC3->pyGPGO) (3.0.7)\n",
            "Requirement already satisfied: kiwisolver>=1.0.1 in /usr/local/lib/python3.7/dist-packages (from matplotlib>=3.0->arviz>=0.11.0->pyMC3->pyGPGO) (1.3.2)\n",
            "Requirement already satisfied: pytz>=2017.2 in /usr/local/lib/python3.7/dist-packages (from pandas>=0.24.0->pyMC3->pyGPGO) (2018.9)\n",
            "Requirement already satisfied: six in /usr/local/lib/python3.7/dist-packages (from patsy>=0.5.1->pyMC3->pyGPGO) (1.15.0)\n",
            "Requirement already satisfied: cftime in /usr/local/lib/python3.7/dist-packages (from netcdf4->arviz>=0.11.0->pyMC3->pyGPGO) (1.5.2)\n",
            "Requirement already satisfied: threadpoolctl>=2.0.0 in /usr/local/lib/python3.7/dist-packages (from scikit-learn->pyGPGO) (3.0.0)\n",
            "Building wheels for collected packages: pyGPGO\n",
            "  Building wheel for pyGPGO (setup.py) ... \u001b[?25l\u001b[?25hdone\n",
            "  Created wheel for pyGPGO: filename=pyGPGO-0.5.1-py3-none-any.whl size=19879 sha256=513cf85c27748ed43c8edb6e34e2852ee6a3ded63bb3ad12861a3d6011c25008\n",
            "  Stored in directory: /root/.cache/pip/wheels/c8/5d/0b/2160114e2f1b87791c51b66cf07f89831dbb6f49167950316f\n",
            "Successfully built pyGPGO\n",
            "Installing collected packages: pyGPGO\n",
            "Successfully installed pyGPGO-0.5.1\n"
          ]
        }
      ]
    },
    {
      "cell_type": "code",
      "metadata": {
        "id": "ZJSSPbwPaEUB"
      },
      "source": [
        "### Import:\n",
        "\n",
        "import numpy as np\n",
        "import scipy as sp\n",
        "import pandas as pd\n",
        "import matplotlib.pyplot as plt\n",
        "import warnings\n",
        "import itertools\n",
        "\n",
        "from pyGPGO.GPGO import GPGO\n",
        "from pyGPGO.surrogates.GaussianProcess import GaussianProcess\n",
        "from pyGPGO.acquisition import Acquisition\n",
        "from pyGPGO.covfunc import squaredExponential\n",
        "\n",
        "from joblib import Parallel, delayed\n",
        "from numpy.linalg import solve, cholesky\n",
        "from scipy.spatial.distance import cdist\n",
        "from scipy.optimize import minimize\n",
        "from scipy.stats import norm\n",
        "import time\n",
        "\n",
        "warnings.filterwarnings(\"ignore\", category=RuntimeWarning)\n"
      ],
      "execution_count": 2,
      "outputs": []
    },
    {
      "cell_type": "code",
      "metadata": {
        "id": "OeYcTUNoaJWa"
      },
      "source": [
        "### Inputs:\n",
        "\n",
        "func = 'Branin'\n",
        "n_test = 500\n",
        "eps = 1e-08\n",
        "\n",
        "util_grad_exact = 'dERM_GP'\n",
        "util_grad_approx = 'ExpectedRegret'\n",
        "\n",
        "n_init = 5 # random initialisations\n",
        "iters = 20\n",
        "opt = True"
      ],
      "execution_count": 3,
      "outputs": []
    },
    {
      "cell_type": "code",
      "metadata": {
        "id": "xpaEOjdzaPMS"
      },
      "source": [
        "### Objective Function - Branin(x) 2-D:\n",
        "\n",
        "def objfunc(x1_training, x2_training, a = 1, b = (5.1 / (4 * (np.pi) ** 2)), c = (5 / (np.pi)), r = 6, s = 10, t = (1 / (8 * np.pi))):\n",
        "        return operator * ((a * (x2_training - b * x1_training ** 2 + c * x1_training - r) ** 2) + \n",
        "                 s * (1 - t) * np.cos(x1_training) + s)\n",
        "        \n",
        "# Constraints:\n",
        "lb_x1 = -5 \n",
        "ub_x1 = +10\n",
        "lb_x2 = +0 \n",
        "ub_x2 = +15\n",
        "\n",
        "# Input array dimension(s):\n",
        "dim = 2\n",
        "\n",
        "# 2-D inputs' parameter bounds:\n",
        "param = {'x1_training': ('cont', [lb_x1, ub_x1]),\n",
        "             'x2_training': ('cont', [lb_x2, ub_x2])}\n",
        "\n",
        "# True y bounds:\n",
        "operator = -1\n",
        "y_lb = 0.397887 # targets global minimum\n",
        "y_global_orig = y_lb * operator # targets global minimum\n",
        "\n",
        "\n",
        "# Test data:\n",
        "x1_test = np.linspace(lb_x1, ub_x1, n_test)\n",
        "x2_test = np.linspace(lb_x2, ub_x2, n_test)\n",
        "  \n",
        "x_test = np.column_stack((x1_test,x2_test))\n"
      ],
      "execution_count": 4,
      "outputs": []
    },
    {
      "cell_type": "code",
      "metadata": {
        "id": "eYpI3Zm4aGxi"
      },
      "source": [
        "n_start_AcqFunc = iters\n"
      ],
      "execution_count": 5,
      "outputs": []
    },
    {
      "cell_type": "code",
      "metadata": {
        "id": "oO_GUmOoaV0T"
      },
      "source": [
        "### Cumulative Regret Calculator:\n",
        "\n",
        "def min_max_array(x):\n",
        "    new_list = []\n",
        "    for i, num in enumerate(x):\n",
        "            new_list.append(np.min(x[0:i+1]))\n",
        "    return new_list\n",
        "  "
      ],
      "execution_count": 6,
      "outputs": []
    },
    {
      "cell_type": "code",
      "metadata": {
        "id": "kuuJx0IMam9S"
      },
      "source": [
        "### Surrogate derivatives: \n",
        "\n",
        "cov_func = squaredExponential()\n",
        "\n",
        "def kronDelta(X, Xstar):                     # Kronecker's Delta method\n",
        "    return cdist(X, Xstar) < np.finfo(np.float32).eps\n",
        "\n",
        "def se(X, Xstar, sigmaf, l, sigman):         # S.E. kernel method\n",
        "    return sigmaf * np.exp(-0.5 * cdist(X, Xstar) ** 2 / l ** 2) + sigman * kronDelta(X, Xstar)\n",
        "\n",
        "def delta(X, Xstar):                         # Distance between training X and test Xstar vectors\n",
        "    return (X - Xstar)\n",
        "   \n",
        "def der_covmat(X, Xstar, sigmaf, l, sigman): # Covariance matrix derivative terms (i.e. exact, first-order)\n",
        "    nx = len(X)\n",
        "    ny = len(Xstar)\n",
        "    return np.round(np.array([(delta(np.atleast_2d(i), np.atleast_2d(j))[0] * se(np.atleast_2d(i), np.atleast_2d(j), sigmaf, l, sigman)[0]).sum() for (i, j) in itertools.product(X, Xstar)]).reshape(nx, ny), 8)\n",
        "\n",
        "class dGaussianProcess(GaussianProcess):    # Via inheritance, also optimises hyperparameters when opt = TRUE\n",
        "    \n",
        "    def AcqGrad(self, Xstar):               # Method returning exact, first-order derivatives of the GP's posterior mean and standard deviation\n",
        "        Xstar = np.atleast_2d(Xstar)\n",
        "        Kstar = self.covfunc.K(self.X, Xstar).T\n",
        "        \n",
        "        dKstar = der_covmat(self.X, Xstar, self.covfunc.sigmaf, self.covfunc.l, self.covfunc.sigman).T\n",
        "        alpha_Kstar = np.dot(np.linalg.inv(self.K + (self.covfunc.sigman**2) * np.eye(len(self.X))), Kstar.T)\n",
        "        \n",
        "        dm = np.dot(dKstar, self.alpha)\n",
        "        ds = -2 * np.dot(dKstar, alpha_Kstar)\n",
        "        \n",
        "        return dm, ds\n",
        "        "
      ],
      "execution_count": 7,
      "outputs": []
    },
    {
      "cell_type": "code",
      "metadata": {
        "id": "_Dc3YVHVaXz7"
      },
      "source": [
        "class Acquisition_new(Acquisition):    \n",
        "    def __init__(self, mode, eps=eps, **params):\n",
        "        \n",
        "        self.params = params\n",
        "        self.eps = eps\n",
        "\n",
        "        mode_dict = {\n",
        "            'ExpectedRegret': self.ExpectedRegret,\n",
        "            'dERM_GP': self.dERM_GP\n",
        "        }\n",
        "\n",
        "        self.f = mode_dict[mode]\n",
        "    \n",
        "    def ExpectedRegret(self, tau, mean, std):\n",
        "        z = (mean - y_global_orig - self.eps) / (std + self.eps)\n",
        "        return (mean - y_global_orig) * norm.cdf(z) + std * norm.pdf(z)[0]\n",
        "\n",
        "\n",
        "    def dERM_GP(self, tau, mean, std, ds, dm):\n",
        "        gamma = (mean - y_global_orig - self.eps) / (std + self.eps)\n",
        "        gamma_h = (mean - tau) / (std + self.eps)\n",
        "        dsdx = ds / (2 * (std + self.eps))\n",
        "        dmdx = (dm - gamma * dsdx) / (std + self.eps)\n",
        "        \n",
        "        f = (std + self.eps) * (gamma * norm.cdf(gamma) + norm.pdf(gamma))\n",
        "        df1 = f / (std + self.eps) * dsdx \n",
        "        df2 = (std + self.eps) * norm.cdf(gamma) * dmdx\n",
        "        df = (df1 + df2)[0]\n",
        "        df_arr = []\n",
        "\n",
        "        for j in range(0, dim):\n",
        "          df_arr.append(df)\n",
        "        return f, np.asarray(df_arr).transpose()\n",
        "        \n",
        "    def d_eval(self, tau, mean, std, ds, dm):\n",
        "    \n",
        "        return self.f(tau, mean, std, ds, dm, **self.params)\n",
        "        "
      ],
      "execution_count": 8,
      "outputs": []
    },
    {
      "cell_type": "code",
      "metadata": {
        "id": "PITEQC8YSl7i"
      },
      "source": [
        "## GPGO_multi: Multistart changed to variable 'n_start_AcqFunc'\n",
        "\n",
        "class GPGO_multi(GPGO):\n",
        "    n_start = n_start_AcqFunc\n",
        "\n",
        "    def _optimizeAcq(self, method='L-BFGS-B', n_start=n_start_AcqFunc):\n",
        "        \n",
        "        start_points_dict = [self._sampleParam() for i in range(n_start)]\n",
        "        start_points_arr = np.array([list(s.values())\n",
        "                                     for s in start_points_dict])\n",
        "        x_best = np.empty((n_start, len(self.parameter_key)))\n",
        "        f_best = np.empty((n_start,))\n",
        "        if self.n_jobs == 1:\n",
        "            for index, start_point in enumerate(start_points_arr):\n",
        "                res = minimize(self._acqWrapper, x0=start_point, method=method,\n",
        "                               bounds=self.parameter_range)\n",
        "                x_best[index], f_best[index] = res.x, np.atleast_1d(res.fun)[0]\n",
        "        else:\n",
        "            opt = Parallel(n_jobs=self.n_jobs)(delayed(minimize)(self._acqWrapper,\n",
        "                                                                 x0=start_point,\n",
        "                                                                 method=method,\n",
        "                                                                 bounds=self.parameter_range) for start_point in\n",
        "                                               start_points_arr)\n",
        "            x_best = np.array([res.x for res in opt])\n",
        "            f_best = np.array([np.atleast_1d(res.fun)[0] for res in opt])\n",
        "\n",
        "        self.best = x_best[np.argmin(f_best)]"
      ],
      "execution_count": 9,
      "outputs": []
    },
    {
      "cell_type": "code",
      "metadata": {
        "id": "b_B-w81BJxKN"
      },
      "source": [
        "## dGPGO:\n",
        "\n",
        "grad = 1\n",
        "\n",
        "class dGPGO(GPGO):\n",
        "    n_start = n_start_AcqFunc\n",
        "\n",
        "    def d_optimizeAcq(self, method='L-BFGS-B', n_start=n_start_AcqFunc):\n",
        "        start_points_dict = [self._sampleParam() for i in range(n_start)]\n",
        "        start_points_arr = np.array([list(s.values())\n",
        "                                     for s in start_points_dict])\n",
        "        x_best = np.empty((n_start, len(self.parameter_key)))\n",
        "        f_best = np.empty((n_start,))\n",
        "        opt = Parallel(n_jobs=self.n_jobs)(delayed(minimize)(self.acqfunc,\n",
        "                                                                 x0=start_point,\n",
        "                                                                 method=method,\n",
        "                                                                 jac = True,\n",
        "                                                                 bounds=self.parameter_range) for start_point in\n",
        "                                               start_points_arr)\n",
        "        x_best = np.array([res.x for res in opt])\n",
        "        f_best = np.array([np.atleast_1d(res.fun)[0] for res in opt])\n",
        "\n",
        "        self.x_best = x_best\n",
        "        self.f_best = f_best\n",
        "        self.best = x_best[np.argmin(f_best)]\n",
        "        self.start_points_arr = start_points_arr\n",
        "\n",
        "        return x_best, f_best\n",
        "    \n",
        "    def run(self, max_iter=10, init_evals=3, resume=False):\n",
        "        \n",
        "        if not resume:\n",
        "            self.init_evals = init_evals\n",
        "            self._firstRun(self.init_evals)\n",
        "            self.logger._printInit(self)\n",
        "        for iteration in range(max_iter):\n",
        "            self.d_optimizeAcq()\n",
        "            self.updateGP()\n",
        "            self.logger._printCurrent(self)\n",
        "\n",
        "    def acqfunc(self, xnew, n_start=n_start_AcqFunc):\n",
        "        new_mean, new_var = self.GP.predict(xnew, return_std=True)\n",
        "        new_std = np.sqrt(new_var + eps)\n",
        "        dm, ds = self.GP.AcqGrad(xnew)\n",
        "        f, df = self.A.d_eval(self.tau, new_mean, new_std, ds=ds, dm=dm)\n",
        "\n",
        "        return -f, -df * grad\n"
      ],
      "execution_count": 10,
      "outputs": []
    },
    {
      "cell_type": "code",
      "metadata": {
        "id": "qXIKGuXVGEg2"
      },
      "source": [
        "###Reproducible set-seeds:\n",
        "\n",
        "run_num_1 = 1\n",
        "run_num_2 = 2\n",
        "run_num_3 = 3\n",
        "run_num_4 = 4\n",
        "run_num_5 = 5\n",
        "run_num_6 = 6\n",
        "run_num_7 = 7\n",
        "run_num_8 = 8\n",
        "run_num_9 = 9\n",
        "run_num_10 = 10\n",
        "run_num_11 = 11\n",
        "run_num_12 = 12\n",
        "run_num_13 = 13\n",
        "run_num_14 = 14\n",
        "run_num_15 = 15\n",
        "run_num_16 = 16\n",
        "run_num_17 = 17\n",
        "run_num_18 = 18\n",
        "run_num_19 = 19\n",
        "run_num_20 = 20\n"
      ],
      "execution_count": 11,
      "outputs": []
    },
    {
      "cell_type": "code",
      "metadata": {
        "colab": {
          "base_uri": "https://localhost:8080/"
        },
        "id": "JEhagQmnTVIK",
        "outputId": "b8b807c5-0dd6-4bd0-f812-39fa11794618"
      },
      "source": [
        "start_approx = time.time()\n",
        "start_approx\n"
      ],
      "execution_count": 12,
      "outputs": [
        {
          "output_type": "execute_result",
          "data": {
            "text/plain": [
              "1643283428.6809874"
            ]
          },
          "metadata": {},
          "execution_count": 12
        }
      ]
    },
    {
      "cell_type": "code",
      "metadata": {
        "colab": {
          "base_uri": "https://localhost:8080/"
        },
        "id": "aH0YSTXufD1v",
        "outputId": "7db00f94-4671-41a8-c43b-66c8dd392b7d"
      },
      "source": [
        "### ESTIMATED GP EI GRADIENTS\n",
        "\n",
        "np.random.seed(run_num_1)\n",
        "surrogate_approx_1 = GaussianProcess(cov_func, optimize=opt)\n",
        "\n",
        "approx_1 = GPGO_multi(surrogate_approx_1, Acquisition_new(util_grad_approx), objfunc, param)\n",
        "approx_1.run(init_evals=n_init, max_iter=iters)\n"
      ],
      "execution_count": 13,
      "outputs": [
        {
          "output_type": "stream",
          "name": "stdout",
          "text": [
            "Evaluation \t Proposed point \t  Current eval. \t Best eval.\n",
            "init   \t [ 1.25533007 10.8048674 ]. \t  -56.52874004692151 \t -27.68166689936483\n",
            "init   \t [-4.99828438  4.53498859]. \t  -172.66531086516164 \t -27.68166689936483\n",
            "init   \t [-2.79866164  1.38507892]. \t  -102.58290348816024 \t -27.68166689936483\n",
            "init   \t [-2.20609683  5.18341091]. \t  -28.868064601155666 \t -27.68166689936483\n",
            "init   \t [0.95151211 8.08225101]. \t  -27.68166689936483 \t -27.68166689936483\n",
            "1      \t [8.41909995 1.27566317]. \t  \u001b[92m-5.089934878453152\u001b[0m \t -5.089934878453152\n",
            "2      \t [ 8.98893195 10.45227242]. \t  -70.52424256621515 \t -5.089934878453152\n",
            "3      \t [-3.93920149 13.25441417]. \t  \u001b[92m-4.333308116197517\u001b[0m \t -4.333308116197517\n",
            "4      \t [3.29585328 0.        ]. \t  -5.167890908848676 \t -4.333308116197517\n",
            "5      \t [ 5.36701892 15.        ]. \t  -206.8589766877631 \t -4.333308116197517\n",
            "6      \t [5.81444645 5.67080203]. \t  -39.335751165739254 \t -4.333308116197517\n",
            "7      \t [-5.          9.41518323]. \t  -73.13048618123008 \t -4.333308116197517\n",
            "8      \t [10. 15.]. \t  -145.87219087939556 \t -4.333308116197517\n",
            "9      \t [-0.27363981 15.        ]. \t  -92.4297222170607 \t -4.333308116197517\n",
            "10     \t [10.          5.16485257]. \t  -6.61693483912137 \t -4.333308116197517\n",
            "11     \t [1.83229107 3.59375554]. \t  -7.523426670974667 \t -4.333308116197517\n",
            "12     \t [5.04267609 9.66237011]. \t  -83.72551412214018 \t -4.333308116197517\n",
            "13     \t [5.44864397 2.0101498 ]. \t  -17.164960408693208 \t -4.333308116197517\n",
            "14     \t [0.62183987 0.        ]. \t  -43.4109542772486 \t -4.333308116197517\n",
            "15     \t [-2.07573393 11.44006718]. \t  -7.850783428874916 \t -4.333308116197517\n",
            "16     \t [-5. 15.]. \t  -17.508299515778166 \t -4.333308116197517\n",
            "17     \t [10.  0.]. \t  -10.960889035651505 \t -4.333308116197517\n",
            "18     \t [8.70149169 7.17859504]. \t  -30.32370156094638 \t -4.333308116197517\n",
            "19     \t [8.33388888 3.47333313]. \t  -8.681206020105318 \t -4.333308116197517\n",
            "20     \t [-1.93203235  8.36635752]. \t  -8.024277023965489 \t -4.333308116197517\n"
          ]
        }
      ]
    },
    {
      "cell_type": "code",
      "metadata": {
        "colab": {
          "base_uri": "https://localhost:8080/"
        },
        "id": "wTxsSZxFGBB5",
        "outputId": "f54595e2-2818-48dc-cad1-1a572701df54"
      },
      "source": [
        "### ESTIMATED GP EI GRADIENTS\n",
        "\n",
        "np.random.seed(run_num_2)\n",
        "surrogate_approx_2 = GaussianProcess(cov_func, optimize=opt)\n",
        "\n",
        "approx_2 = GPGO_multi(surrogate_approx_2, Acquisition_new(util_grad_approx), objfunc, param)\n",
        "approx_2.run(init_evals=n_init, max_iter=iters)\n"
      ],
      "execution_count": 14,
      "outputs": [
        {
          "output_type": "stream",
          "name": "stdout",
          "text": [
            "Evaluation \t Proposed point \t  Current eval. \t Best eval.\n",
            "init   \t [1.53992353 0.38889348]. \t  -22.31361308916297 \t -6.692051508754487\n",
            "init   \t [3.24493717 6.52983589]. \t  -19.233109967858276 \t -6.692051508754487\n",
            "init   \t [1.30551703 4.95502232]. \t  -13.177851563387286 \t -6.692051508754487\n",
            "init   \t [-1.93027049  9.2890645 ]. \t  -6.692051508754487 \t -6.692051508754487\n",
            "init   \t [-0.50517989  4.00240913]. \t  -26.437522758780958 \t -6.692051508754487\n",
            "1      \t [ 9.5587047  12.00387527]. \t  -89.09951357262268 \t -6.692051508754487\n",
            "2      \t [9.59366035 1.69164323]. \t  \u001b[92m-1.3984593420568778\u001b[0m \t -1.3984593420568778\n",
            "3      \t [ 2.76755193 13.40050896]. \t  -118.04193885354222 \t -1.3984593420568778\n",
            "4      \t [-5.          0.73986183]. \t  -283.24394841613446 \t -1.3984593420568778\n",
            "5      \t [-3.14464907 14.56432333]. \t  -5.605350427804851 \t -1.3984593420568778\n",
            "6      \t [8.93672669 6.44382594]. \t  -20.439158338984655 \t -1.3984593420568778\n",
            "7      \t [-5.          6.09195487]. \t  -135.83176862127195 \t -1.3984593420568778\n",
            "8      \t [5.72568685 2.48816548]. \t  -20.013473270501635 \t -1.3984593420568778\n",
            "9      \t [5.70826882 9.7626265 ]. \t  -92.67742827181968 \t -1.3984593420568778\n",
            "10     \t [ 6.72661289 15.        ]. \t  -210.78647365422145 \t -1.3984593420568778\n",
            "11     \t [-5.         11.31346797]. \t  -47.22636251834995 \t -1.3984593420568778\n",
            "12     \t [1.29059912 9.56158624]. \t  -41.82041697882437 \t -1.3984593420568778\n",
            "13     \t [8.00195222 0.        ]. \t  -10.944694895674045 \t -1.3984593420568778\n",
            "14     \t [-1.11773522 12.47287207]. \t  -34.74701642919589 \t -1.3984593420568778\n",
            "15     \t [-1.33556481  0.        ]. \t  -82.06148679969857 \t -1.3984593420568778\n",
            "16     \t [6.07837922 5.5928334 ]. \t  -39.59687428134272 \t -1.3984593420568778\n",
            "17     \t [10.          3.46543508]. \t  -2.157027000433093 \t -1.3984593420568778\n",
            "18     \t [-1.2000353  6.9617066]. \t  -14.765596983185526 \t -1.3984593420568778\n",
            "19     \t [-5. 15.]. \t  -17.508299515778166 \t -1.3984593420568778\n",
            "20     \t [4.56199614 0.        ]. \t  -10.600306830027334 \t -1.3984593420568778\n"
          ]
        }
      ]
    },
    {
      "cell_type": "code",
      "metadata": {
        "colab": {
          "base_uri": "https://localhost:8080/"
        },
        "id": "-dgzIrUIGCGT",
        "outputId": "26202dc0-7560-4f82-d9bd-7575ecbaf072"
      },
      "source": [
        "### ESTIMATED GP EI GRADIENTS\n",
        "\n",
        "np.random.seed(run_num_3)\n",
        "surrogate_approx_3 = GaussianProcess(cov_func, optimize=opt)\n",
        "\n",
        "approx_3 = GPGO_multi(surrogate_approx_3, Acquisition_new(util_grad_approx), objfunc, param)\n",
        "approx_3.run(init_evals=n_init, max_iter=iters)\n"
      ],
      "execution_count": 15,
      "outputs": [
        {
          "output_type": "stream",
          "name": "stdout",
          "text": [
            "Evaluation \t Proposed point \t  Current eval. \t Best eval.\n",
            "init   \t [ 3.26196854 10.62221734]. \t  -71.68783452098575 \t -18.07886746449891\n",
            "init   \t [-0.63642892  7.66241408]. \t  -18.07886746449891 \t -18.07886746449891\n",
            "init   \t [ 8.39420432 13.44439633]. \t  -141.98653529865882 \t -18.07886746449891\n",
            "init   \t [-3.11622034  3.10864317]. \t  -83.31045707266176 \t -18.07886746449891\n",
            "init   \t [-4.22799195  6.61214765]. \t  -76.5294170688398 \t -18.07886746449891\n",
            "1      \t [6.70472147 4.59545299]. \t  -30.726791812855225 \t -18.07886746449891\n",
            "2      \t [-3.89564496 13.38589781]. \t  \u001b[92m-3.6010193697779265\u001b[0m \t -3.6010193697779265\n",
            "3      \t [2.67993826 0.82315258]. \t  -4.786478981860064 \t -3.6010193697779265\n",
            "4      \t [10.  0.]. \t  -10.960889035651505 \t -3.6010193697779265\n",
            "5      \t [ 0.48224098 15.        ]. \t  -113.32534391424977 \t -3.6010193697779265\n",
            "6      \t [10.          8.34455279]. \t  -30.47579050396284 \t -3.6010193697779265\n",
            "7      \t [6.14184152 0.24227011]. \t  -20.2387699483704 \t -3.6010193697779265\n",
            "8      \t [2.30263666 4.7134918 ]. \t  -6.450743843059607 \t -3.6010193697779265\n",
            "9      \t [4.82276109 6.82480457]. \t  -41.26105022561197 \t -3.6010193697779265\n",
            "10     \t [-0.53806736  0.        ]. \t  -65.76929340283174 \t -3.6010193697779265\n",
            "11     \t [-1.51751729 11.19637871]. \t  -16.680021979189135 \t -3.6010193697779265\n",
            "12     \t [ 4.57455946 15.        ]. \t  -193.0223324814087 \t -3.6010193697779265\n",
            "13     \t [-5.         10.51185264]. \t  -57.28615314956362 \t -3.6010193697779265\n",
            "14     \t [10.          3.50930337]. \t  \u001b[92m-2.199527712174585\u001b[0m \t -2.199527712174585\n",
            "15     \t [-5.  0.]. \t  -308.12909601160663 \t -2.199527712174585\n",
            "16     \t [6.90343532 9.81341296]. \t  -92.53179563919325 \t -2.199527712174585\n",
            "17     \t [0.3354831  3.42568543]. \t  -23.28948868391931 \t -2.199527712174585\n",
            "18     \t [4.09985039 2.78244221]. \t  -5.770077203892551 \t -2.199527712174585\n",
            "19     \t [10.          5.30270417]. \t  -7.231979516087 \t -2.199527712174585\n",
            "20     \t [-5. 15.]. \t  -17.508299515778166 \t -2.199527712174585\n"
          ]
        }
      ]
    },
    {
      "cell_type": "code",
      "metadata": {
        "colab": {
          "base_uri": "https://localhost:8080/"
        },
        "id": "hOtG-2sCGCKS",
        "outputId": "7f788ac5-acd0-4ee0-9687-d9b2e51e76b6"
      },
      "source": [
        "### ESTIMATED GP EI GRADIENTS\n",
        "\n",
        "np.random.seed(run_num_4)\n",
        "surrogate_approx_4 = GaussianProcess(cov_func, optimize=opt)\n",
        "\n",
        "approx_4 = GPGO_multi(surrogate_approx_4, Acquisition_new(util_grad_approx), objfunc, param)\n",
        "approx_4.run(init_evals=n_init, max_iter=iters)\n"
      ],
      "execution_count": 16,
      "outputs": [
        {
          "output_type": "stream",
          "name": "stdout",
          "text": [
            "Evaluation \t Proposed point \t  Current eval. \t Best eval.\n",
            "init   \t [9.50544759 8.20848374]. \t  -32.51676744781521 \t -7.247126865776948\n",
            "init   \t [ 9.5902654  10.72223991]. \t  -66.20566674364716 \t -7.247126865776948\n",
            "init   \t [5.46593237 3.24134243]. \t  -20.90089401680587 \t -7.247126865776948\n",
            "init   \t [9.64411682 0.09345383]. \t  -7.247126865776948 \t -7.247126865776948\n",
            "init   \t [-1.20526456  6.52187299]. \t  -15.941376982363263 \t -7.247126865776948\n",
            "1      \t [ 1.25164457 13.57001383]. \t  -100.61648848019335 \t -7.247126865776948\n",
            "2      \t [0.47714304 0.        ]. \t  -46.30270712048601 \t -7.247126865776948\n",
            "3      \t [-5.        10.4721139]. \t  -57.81828491041938 \t -7.247126865776948\n",
            "4      \t [-4.88521651  1.98881641]. \t  -232.74673062582045 \t -7.247126865776948\n",
            "5      \t [3.92795196 8.48388558]. \t  -48.67477858971573 \t -7.247126865776948\n",
            "6      \t [ 6.50636809 15.        ]. \t  -212.19776277207015 \t -7.247126865776948\n",
            "7      \t [1.67655135 4.0775761 ]. \t  -9.132937223241916 \t -7.247126865776948\n",
            "8      \t [-3.63961844 15.        ]. \t  \u001b[92m-3.8025461424129317\u001b[0m \t -3.8025461424129317\n",
            "9      \t [10.          3.97111771]. \t  \u001b[92m-2.880476589564182\u001b[0m \t -2.880476589564182\n",
            "10     \t [-5.          6.40046849]. \t  -129.08078209501429 \t -2.880476589564182\n",
            "11     \t [4.4600403 0.       ]. \t  -9.76745030457051 \t -2.880476589564182\n",
            "12     \t [-0.87793498 10.09612337]. \t  -22.88949681913462 \t -2.880476589564182\n",
            "13     \t [-1.17951603  3.24517015]. \t  -36.81556138509788 \t -2.880476589564182\n",
            "14     \t [ 5.92357318 11.19585627]. \t  -120.80804225892128 \t -2.880476589564182\n",
            "15     \t [6.83353431 6.16629986]. \t  -43.280915435353585 \t -2.880476589564182\n",
            "16     \t [10.         14.43299394]. \t  -132.58889404527758 \t -2.880476589564182\n",
            "17     \t [-2.42739089 12.97812967]. \t  -8.28407355234081 \t -2.880476589564182\n",
            "18     \t [7.1328024 0.       ]. \t  -17.829116311062243 \t -2.880476589564182\n",
            "19     \t [8.51553641 2.72200894]. \t  -4.923960828185676 \t -2.880476589564182\n",
            "20     \t [1.46479087 6.68312253]. \t  -18.508397681683356 \t -2.880476589564182\n"
          ]
        }
      ]
    },
    {
      "cell_type": "code",
      "metadata": {
        "colab": {
          "base_uri": "https://localhost:8080/"
        },
        "id": "JF_SxcEvGCOl",
        "outputId": "b9ddfe0c-a634-492c-f688-39111ede4446"
      },
      "source": [
        "### ESTIMATED GP EI GRADIENTS\n",
        "\n",
        "np.random.seed(run_num_5)\n",
        "surrogate_approx_5 = GaussianProcess(cov_func, optimize=opt)\n",
        "\n",
        "approx_5 = GPGO_multi(surrogate_approx_5, Acquisition_new(util_grad_approx), objfunc, param)\n",
        "approx_5.run(init_evals=n_init, max_iter=iters)\n"
      ],
      "execution_count": 17,
      "outputs": [
        {
          "output_type": "stream",
          "name": "stdout",
          "text": [
            "Evaluation \t Proposed point \t  Current eval. \t Best eval.\n",
            "init   \t [-1.67010243 13.06098459]. \t  -25.390690545664548 \t -25.311309190989615\n",
            "init   \t [-1.89921267 13.77916362]. \t  -25.311309190989615 \t -25.311309190989615\n",
            "init   \t [2.32616783 9.17615794]. \t  -41.60147975414021 \t -25.311309190989615\n",
            "init   \t [6.48861785 7.77626982]. \t  -63.81281921768236 \t -25.311309190989615\n",
            "init   \t [-0.54799248  2.81581843]. \t  -34.966203644931994 \t -25.311309190989615\n",
            "1      \t [8.84124421 0.03321319]. \t  \u001b[92m-5.96108856337545\u001b[0m \t -5.96108856337545\n",
            "2      \t [ 8.39476442 14.47736321]. \t  -167.21523769473345 \t -5.96108856337545\n",
            "3      \t [-5.          8.52071661]. \t  -87.83446181212865 \t -5.96108856337545\n",
            "4      \t [-5.  0.]. \t  -308.12909601160663 \t -5.96108856337545\n",
            "5      \t [3.88784136 0.        ]. \t  -6.06486474045351 \t -5.96108856337545\n",
            "6      \t [ 3.02988302 15.        ]. \t  -160.1330600826706 \t -5.96108856337545\n",
            "7      \t [10.          4.33638034]. \t  \u001b[92m-3.721159508797653\u001b[0m \t -3.721159508797653\n",
            "8      \t [3.80134979 4.09020716]. \t  -7.581748582845293 \t -3.721159508797653\n",
            "9      \t [10.         10.16732364]. \t  -53.271295632675226 \t -3.721159508797653\n",
            "10     \t [-1.05364887  6.8490862 ]. \t  -15.690666579763583 \t -3.721159508797653\n",
            "11     \t [-5.          4.41617102]. \t  -175.82702119135052 \t -3.721159508797653\n",
            "12     \t [6.99776114 2.92193038]. \t  -20.25721396850724 \t -3.721159508797653\n",
            "13     \t [ 5.43140095 11.54549955]. \t  -124.04559582312592 \t -3.721159508797653\n",
            "14     \t [-5. 15.]. \t  -17.508299515778166 \t -3.721159508797653\n",
            "15     \t [1.03873146 0.        ]. \t  -34.9972109423886 \t -3.721159508797653\n",
            "16     \t [-1.3073895   9.95055651]. \t  -15.219219452750249 \t -3.721159508797653\n",
            "17     \t [10.          6.70242007]. \t  -15.629170578074241 \t -3.721159508797653\n",
            "18     \t [-5.         12.01071107]. \t  -39.521449192926724 \t -3.721159508797653\n",
            "19     \t [1.7442339  5.72392085]. \t  -12.782126049451538 \t -3.721159508797653\n",
            "20     \t [6.30329786 0.        ]. \t  -20.811694499646258 \t -3.721159508797653\n"
          ]
        }
      ]
    },
    {
      "cell_type": "code",
      "metadata": {
        "colab": {
          "base_uri": "https://localhost:8080/"
        },
        "id": "-kDxZtJsGCR3",
        "outputId": "8d856f8f-d4fd-444b-91e6-8d6954deb75e"
      },
      "source": [
        "### ESTIMATED GP EI GRADIENTS\n",
        "\n",
        "np.random.seed(run_num_6)\n",
        "surrogate_approx_6 = GaussianProcess(cov_func, optimize=opt)\n",
        "\n",
        "approx_6 = GPGO_multi(surrogate_approx_6, Acquisition_new(util_grad_approx), objfunc, param)\n",
        "approx_6.run(init_evals=n_init, max_iter=iters)\n"
      ],
      "execution_count": 18,
      "outputs": [
        {
          "output_type": "stream",
          "name": "stdout",
          "text": [
            "Evaluation \t Proposed point \t  Current eval. \t Best eval.\n",
            "init   \t [8.39290227 4.97969708]. \t  -15.553860636684597 \t -15.31731051317483\n",
            "init   \t [7.31843685 0.62544939]. \t  -15.31731051317483 \t -15.31731051317483\n",
            "init   \t [-3.3851498   8.92578096]. \t  -16.222288919361837 \t -15.31731051317483\n",
            "init   \t [2.94726043 6.28211143]. \t  -15.406373581304088 \t -15.31731051317483\n",
            "init   \t [0.03111774 9.33779148]. \t  -31.07053245856209 \t -15.31731051317483\n",
            "1      \t [ 9.64829531 12.55362889]. \t  -98.32295673962142 \t -15.31731051317483\n",
            "2      \t [-1.82404332  0.        ]. \t  -94.69665209951235 \t -15.31731051317483\n",
            "3      \t [-5. 15.]. \t  -17.508299515778166 \t -15.31731051317483\n",
            "4      \t [ 2.93119716 15.        ]. \t  -158.24274224443167 \t -15.31731051317483\n",
            "5      \t [-5.          4.22937653]. \t  -180.63308889086397 \t -15.31731051317483\n",
            "6      \t [ 5.17635766 10.29129859]. \t  -96.53047826357314 \t -15.31731051317483\n",
            "7      \t [2.86396934 1.5860754 ]. \t  \u001b[92m-1.6034929380337442\u001b[0m \t -1.6034929380337442\n",
            "8      \t [-1.36837236 13.33495332]. \t  -36.0899412803695 \t -1.6034929380337442\n",
            "9      \t [-1.00824757  4.06594156]. \t  -28.59055776793365 \t -1.6034929380337442\n",
            "10     \t [-5.  0.]. \t  -308.12909601160663 \t -1.6034929380337442\n",
            "11     \t [10.          8.32963545]. \t  -30.316648196504687 \t -1.6034929380337442\n",
            "12     \t [5.07353133 3.44603547]. \t  -18.213100621556855 \t -1.6034929380337442\n",
            "13     \t [6.42657523 7.057975  ]. \t  -54.91504948897935 \t -1.6034929380337442\n",
            "14     \t [ 6.85719301 15.        ]. \t  -209.58566889416846 \t -1.6034929380337442\n",
            "15     \t [-5.         11.69228027]. \t  -42.91965623165271 \t -1.6034929380337442\n",
            "16     \t [10.          2.13030949]. \t  -2.7046536526029232 \t -1.6034929380337442\n",
            "17     \t [1.9614553 0.       ]. \t  -17.735912389370903 \t -1.6034929380337442\n",
            "18     \t [2.02735943 3.10183002]. \t  -5.807762524486733 \t -1.6034929380337442\n",
            "19     \t [4.69675979 0.        ]. \t  -11.739532552869532 \t -1.6034929380337442\n",
            "20     \t [10.  0.]. \t  -10.960889035651505 \t -1.6034929380337442\n"
          ]
        }
      ]
    },
    {
      "cell_type": "code",
      "metadata": {
        "colab": {
          "base_uri": "https://localhost:8080/"
        },
        "id": "fKB8MCD_GCVI",
        "outputId": "e1b8a6a0-a2b0-45d4-ec98-56a2b4d5a39f"
      },
      "source": [
        "### ESTIMATED GP EI GRADIENTS\n",
        "\n",
        "np.random.seed(run_num_7)\n",
        "surrogate_approx_7 = GaussianProcess(cov_func, optimize=opt)\n",
        "\n",
        "approx_7 = GPGO_multi(surrogate_approx_7, Acquisition_new(util_grad_approx), objfunc, param)\n",
        "approx_7.run(init_evals=n_init, max_iter=iters)\n"
      ],
      "execution_count": 19,
      "outputs": [
        {
          "output_type": "stream",
          "name": "stdout",
          "text": [
            "Evaluation \t Proposed point \t  Current eval. \t Best eval.\n",
            "init   \t [-3.85537566 11.69878188]. \t  -8.299317850233932 \t -5.211335324193094\n",
            "init   \t [ 1.57613847 10.85197767]. \t  -59.50408380701259 \t -5.211335324193094\n",
            "init   \t [9.66984268 8.07743806]. \t  -29.714921414987273 \t -5.211335324193094\n",
            "init   \t [2.51680695 1.080767  ]. \t  -5.211335324193094 \t -5.211335324193094\n",
            "init   \t [-0.9734153   7.49823751]. \t  -15.431057204948033 \t -5.211335324193094\n",
            "1      \t [-4.97859679  1.38393519]. \t  -260.3293952774437 \t -5.211335324193094\n",
            "2      \t [ 7.42679792 14.12713902]. \t  -178.37635728719692 \t -5.211335324193094\n",
            "3      \t [8.08940775 0.35854539]. \t  -9.249625108410735 \t -5.211335324193094\n",
            "4      \t [-3.39684884  5.54228873]. \t  -54.79871094423047 \t -5.211335324193094\n",
            "5      \t [4.4720934  5.93920773]. \t  -27.723638017330405 \t -5.211335324193094\n",
            "6      \t [-0.88698611 15.        ]. \t  -72.11656179914581 \t -5.211335324193094\n",
            "7      \t [10.          3.80989492]. \t  \u001b[92m-2.5942901078331397\u001b[0m \t -2.5942901078331397\n",
            "8      \t [0.56401225 3.91273659]. \t  -19.62954357650336 \t -2.5942901078331397\n",
            "9      \t [5.8427834  9.85142979]. \t  -95.08034205535142 \t -2.5942901078331397\n",
            "10     \t [-0.73680654  0.        ]. \t  -69.56959547081203 \t -2.5942901078331397\n",
            "11     \t [ 3.21159363 15.        ]. \t  -163.72316823916321 \t -2.5942901078331397\n",
            "12     \t [-5. 15.]. \t  -17.508299515778166 \t -2.5942901078331397\n",
            "13     \t [5.51304516 2.41535773]. \t  -18.488324532897025 \t -2.5942901078331397\n",
            "14     \t [-5.          8.85119243]. \t  -82.21544409578101 \t -2.5942901078331397\n",
            "15     \t [10.         11.37771394]. \t  -72.07970110629344 \t -2.5942901078331397\n",
            "16     \t [2.0221157  7.84910624]. \t  -26.416109422855953 \t -2.5942901078331397\n",
            "17     \t [7.80174784 5.07707835]. \t  -23.684306707705428 \t -2.5942901078331397\n",
            "18     \t [10.          1.87958712]. \t  -3.20509965348809 \t -2.5942901078331397\n",
            "19     \t [-1.66560362 10.49621718]. \t  -11.301998812143513 \t -2.5942901078331397\n",
            "20     \t [4.60676525 0.        ]. \t  -10.974916586246778 \t -2.5942901078331397\n"
          ]
        }
      ]
    },
    {
      "cell_type": "code",
      "metadata": {
        "colab": {
          "base_uri": "https://localhost:8080/"
        },
        "id": "4unvifF-GCXp",
        "outputId": "07e21d38-f04f-4a36-f3e3-69680c289603"
      },
      "source": [
        "### ESTIMATED GP EI GRADIENTS\n",
        "\n",
        "np.random.seed(run_num_8)\n",
        "surrogate_approx_8 = GaussianProcess(cov_func, optimize=opt)\n",
        "\n",
        "approx_8 = GPGO_multi(surrogate_approx_8, Acquisition_new(util_grad_approx), objfunc, param)\n",
        "approx_8.run(init_evals=n_init, max_iter=iters)\n"
      ],
      "execution_count": 20,
      "outputs": [
        {
          "output_type": "stream",
          "name": "stdout",
          "text": [
            "Evaluation \t Proposed point \t  Current eval. \t Best eval.\n",
            "init   \t [ 8.10144104 14.52810994]. \t  -175.17297136347514 \t -15.416245468470875\n",
            "init   \t [8.0379181  7.96283537]. \t  -49.32173799887473 \t -15.416245468470875\n",
            "init   \t [-1.50907508  0.17098206]. \t  -83.26753461673219 \t -15.416245468470875\n",
            "init   \t [1.45703227 6.0352704 ]. \t  -15.416245468470875 \t -15.416245468470875\n",
            "init   \t [2.84012007 7.17587694]. \t  -22.49093277852639 \t -15.416245468470875\n",
            "1      \t [9.77124156 0.43098073]. \t  \u001b[92m-6.499298445992174\u001b[0m \t -6.499298445992174\n",
            "2      \t [-4.87537438 11.82874897]. \t  -36.57081146531108 \t -6.499298445992174\n",
            "3      \t [-5.          6.18626546]. \t  -133.74783473476617 \t -6.499298445992174\n",
            "4      \t [ 2.00490905 12.66503403]. \t  -93.13466791376042 \t -6.499298445992174\n",
            "5      \t [4.49710607 1.43886209]. \t  -7.949028807737028 \t -6.499298445992174\n",
            "6      \t [-1.26517273  9.27145837]. \t  -13.993955682370324 \t -6.499298445992174\n",
            "7      \t [-1.94955274 15.        ]. \t  -35.676380167837124 \t -6.499298445992174\n",
            "8      \t [10.          4.17864478]. \t  \u001b[92m-3.3253833511255646\u001b[0m \t -3.3253833511255646\n",
            "9      \t [6.3116386  4.35983873]. \t  -30.21818883554431 \t -3.3253833511255646\n",
            "10     \t [-5.          1.94151748]. \t  -245.15946674831835 \t -3.3253833511255646\n",
            "11     \t [ 5.62210029 10.93339946]. \t  -113.57970242741673 \t -3.3253833511255646\n",
            "12     \t [-1.30016533  4.20477707]. \t  -29.236914320664393 \t -3.3253833511255646\n",
            "13     \t [1.73961562 2.44297051]. \t  -9.777395453266605 \t -3.3253833511255646\n",
            "14     \t [10.         11.01239798]. \t  -66.09429174324563 \t -3.3253833511255646\n",
            "15     \t [6.96783477 0.        ]. \t  -18.83613392078943 \t -3.3253833511255646\n",
            "16     \t [-5. 15.]. \t  -17.508299515778166 \t -3.3253833511255646\n",
            "17     \t [ 4.45120176 15.        ]. \t  -190.4393172774525 \t -3.3253833511255646\n",
            "18     \t [2.24291241 0.        ]. \t  -13.508799072317071 \t -3.3253833511255646\n",
            "19     \t [-1.53429817 11.94317231]. \t  -20.572158887580024 \t -3.3253833511255646\n",
            "20     \t [1.38886281 9.45403225]. \t  -41.06265712216991 \t -3.3253833511255646\n"
          ]
        }
      ]
    },
    {
      "cell_type": "code",
      "metadata": {
        "colab": {
          "base_uri": "https://localhost:8080/"
        },
        "id": "85OIXcg7GCaJ",
        "outputId": "7227c52c-25e2-433f-f611-90fd4d4fa120"
      },
      "source": [
        "### ESTIMATED GP EI GRADIENTS\n",
        "\n",
        "np.random.seed(run_num_9)\n",
        "surrogate_approx_9 = GaussianProcess(cov_func, optimize=opt)\n",
        "\n",
        "approx_9 = GPGO_multi(surrogate_approx_9, Acquisition_new(util_grad_approx), objfunc, param)\n",
        "approx_9.run(init_evals=n_init, max_iter=iters)\n"
      ],
      "execution_count": 21,
      "outputs": [
        {
          "output_type": "stream",
          "name": "stdout",
          "text": [
            "Evaluation \t Proposed point \t  Current eval. \t Best eval.\n",
            "init   \t [-4.84438769  7.52811888]. \t  -96.15564306553264 \t -3.4640248583909496\n",
            "init   \t [2.4365994  2.00744293]. \t  -3.4640248583909496 \t -3.4640248583909496\n",
            "init   \t [-2.86833372  3.27838013]. \t  -70.46930174488207 \t -3.4640248583909496\n",
            "init   \t [1.27762271 3.72151753]. \t  -12.982825924833865 \t -3.4640248583909496\n",
            "init   \t [-3.73910523  5.1824796 ]. \t  -75.58547400560856 \t -3.4640248583909496\n",
            "1      \t [ 7.05609655 14.75038872]. \t  -200.4388688685465 \t -3.4640248583909496\n",
            "2      \t [-0.46054038 14.56197292]. \t  -79.4666617606301 \t -3.4640248583909496\n",
            "3      \t [8.28747407 1.2035024 ]. \t  -6.196385269800155 \t -3.4640248583909496\n",
            "4      \t [5.09988923 9.09295299]. \t  -75.24675017972764 \t -3.4640248583909496\n",
            "5      \t [10.          6.16249821]. \t  -11.925843837802418 \t -3.4640248583909496\n",
            "6      \t [4.22157467e-05 9.30120175e+00]. \t  -30.50048925898127 \t -3.4640248583909496\n",
            "7      \t [-5.         12.67802287]. \t  -33.0578765236372 \t -3.4640248583909496\n",
            "8      \t [10.         10.65342543]. \t  -60.472813879659356 \t -3.4640248583909496\n",
            "9      \t [5.7490845  4.43494484]. \t  -29.254644247798986 \t -3.4640248583909496\n",
            "10     \t [-0.2986073  0.       ]. \t  -61.25534008678423 \t -3.4640248583909496\n",
            "11     \t [4.94230298 0.        ]. \t  -13.851298180924825 \t -3.4640248583909496\n",
            "12     \t [-5.  0.]. \t  -308.12909601160663 \t -3.4640248583909496\n",
            "13     \t [ 3.14371993 12.69625885]. \t  -109.03511293319843 \t -3.4640248583909496\n",
            "14     \t [2.3407674  6.61679495]. \t  -16.52480460168311 \t -3.4640248583909496\n",
            "15     \t [10.          3.16975148]. \t  \u001b[92m-1.9709611934160218\u001b[0m \t -1.9709611934160218\n",
            "16     \t [-2.30997135 11.23752807]. \t  -4.2912466679075525 \t -1.9709611934160218\n",
            "17     \t [-0.54425268  6.18240776]. \t  -18.736121553718775 \t -1.9709611934160218\n",
            "18     \t [7.73175919 7.20897944]. \t  -44.715545636108565 \t -1.9709611934160218\n",
            "19     \t [10.  0.]. \t  -10.960889035651505 \t -1.9709611934160218\n",
            "20     \t [8.59366408 3.68511787]. \t  -6.84715013911709 \t -1.9709611934160218\n"
          ]
        }
      ]
    },
    {
      "cell_type": "code",
      "metadata": {
        "colab": {
          "base_uri": "https://localhost:8080/"
        },
        "id": "QQBR-qJPGCcp",
        "outputId": "a267910d-b85d-4269-d1e1-28620e064cf3"
      },
      "source": [
        "### ESTIMATED GP EI GRADIENTS\n",
        "\n",
        "np.random.seed(run_num_10)\n",
        "surrogate_approx_10 = GaussianProcess(cov_func, optimize=opt)\n",
        "\n",
        "approx_10 = GPGO_multi(surrogate_approx_10, Acquisition_new(util_grad_approx), objfunc, param)\n",
        "approx_10.run(init_evals=n_init, max_iter=iters)\n"
      ],
      "execution_count": 22,
      "outputs": [
        {
          "output_type": "stream",
          "name": "stdout",
          "text": [
            "Evaluation \t Proposed point \t  Current eval. \t Best eval.\n",
            "init   \t [6.56980965 0.31127924]. \t  -19.863985024602144 \t -2.710610964564512\n",
            "init   \t [ 4.50472352 11.23205824]. \t  -103.66999147252169 \t -2.710610964564512\n",
            "init   \t [2.47760518 3.37194968]. \t  -2.710610964564512 \t -2.710610964564512\n",
            "init   \t [-2.02905703 11.40796068]. \t  -8.463930835255017 \t -2.710610964564512\n",
            "init   \t [-2.46333745  1.32509721]. \t  -90.49481266026973 \t -2.710610964564512\n",
            "1      \t [ 9.16391068 14.81438212]. \t  -158.2412724465548 \t -2.710610964564512\n",
            "2      \t [9.65621089 6.61160737]. \t  -16.1339423373336 \t -2.710610964564512\n",
            "3      \t [-3.43070383  6.59407857]. \t  -41.58407101130534 \t -2.710610964564512\n",
            "4      \t [-5.         14.87293215]. \t  -18.080332001739464 \t -2.710610964564512\n",
            "5      \t [ 0.92449322 15.        ]. \t  -123.13234915138221 \t -2.710610964564512\n",
            "6      \t [1.30728865 7.43276202]. \t  -23.342263281989574 \t -2.710610964564512\n",
            "7      \t [5.49073155 5.83993012]. \t  -38.681772916454804 \t -2.710610964564512\n",
            "8      \t [10.          2.46599948]. \t  \u001b[92m-2.231463613688609\u001b[0m \t -2.231463613688609\n",
            "9      \t [2.04115262 0.        ]. \t  -16.469928477470493 \t -2.231463613688609\n",
            "10     \t [10.         10.45460155]. \t  -57.47015308878887 \t -2.231463613688609\n",
            "11     \t [-5.          9.84163536]. \t  -66.6834249830624 \t -2.231463613688609\n",
            "12     \t [ 5.0584624 15.       ]. \t  -202.1880173491354 \t -2.231463613688609\n",
            "13     \t [10.  0.]. \t  -10.960889035651505 \t -2.231463613688609\n",
            "14     \t [7.92585989 3.43696862]. \t  -13.058862427388412 \t -2.231463613688609\n",
            "15     \t [ 0.78249033 10.84709388]. \t  -52.97002093687147 \t -2.231463613688609\n",
            "16     \t [-0.21682018  4.37688372]. \t  -23.27503272154084 \t -2.231463613688609\n",
            "17     \t [-5.          3.69168525]. \t  -194.85699002709484 \t -2.231463613688609\n",
            "18     \t [7.0840296  8.68873331]. \t  -72.6402572645568 \t -2.231463613688609\n",
            "19     \t [4.46773888 2.50620045]. \t  -8.752098288376835 \t -2.231463613688609\n",
            "20     \t [-2.39878657 14.00865238]. \t  -14.812693733073168 \t -2.231463613688609\n"
          ]
        }
      ]
    },
    {
      "cell_type": "code",
      "metadata": {
        "colab": {
          "base_uri": "https://localhost:8080/"
        },
        "id": "JS8ejeQ2GCfi",
        "outputId": "f27c86b0-12d2-44a6-9355-11bb7a2a0615"
      },
      "source": [
        "### ESTIMATED GP EI GRADIENTS\n",
        "\n",
        "np.random.seed(run_num_11)\n",
        "surrogate_approx_11 = GaussianProcess(cov_func, optimize=opt)\n",
        "\n",
        "approx_11 = GPGO_multi(surrogate_approx_11, Acquisition_new(util_grad_approx), objfunc, param)\n",
        "approx_11.run(init_evals=n_init, max_iter=iters)\n"
      ],
      "execution_count": 23,
      "outputs": [
        {
          "output_type": "stream",
          "name": "stdout",
          "text": [
            "Evaluation \t Proposed point \t  Current eval. \t Best eval.\n",
            "init   \t [-2.29595467  0.29212862]. \t  -104.49282729548965 \t -22.37435843952312\n",
            "init   \t [ 1.9482779  10.87400894]. \t  -62.47758067812407 \t -22.37435843952312\n",
            "init   \t [1.30305407 7.28140647]. \t  -22.37435843952312 \t -22.37435843952312\n",
            "init   \t [-4.80828778  7.31057411]. \t  -97.94503054415523 \t -22.37435843952312\n",
            "init   \t [ 9.12709979 12.76192634]. \t  -111.62900800771942 \t -22.37435843952312\n",
            "1      \t [6.94653631 0.95529646]. \t  \u001b[92m-17.615403152614682\u001b[0m \t -17.615403152614682\n",
            "2      \t [9.95799301 6.93425723]. \t  \u001b[92m-17.51361722617643\u001b[0m \t -17.51361722617643\n",
            "3      \t [-2.04991594 15.        ]. \t  -32.5573558333363 \t -17.51361722617643\n",
            "4      \t [2.40807729 2.49081214]. \t  \u001b[92m-3.048554877803756\u001b[0m \t -3.048554877803756\n",
            "5      \t [ 4.54021213 15.        ]. \t  -192.31050872160282 \t -3.048554877803756\n",
            "6      \t [5.61068086 5.52610486]. \t  -36.77546338781394 \t -3.048554877803756\n",
            "7      \t [-5.         11.91405806]. \t  -40.5314683386421 \t -3.048554877803756\n",
            "8      \t [6.09623145 9.61620517]. \t  -91.98500162343561 \t -3.048554877803756\n",
            "9      \t [-1.43282079  4.48386943]. \t  -27.818456315607232 \t -3.048554877803756\n",
            "10     \t [10.          3.06328878]. \t  \u001b[92m-1.946780634007908\u001b[0m \t -1.946780634007908\n",
            "11     \t [-1.74219436  9.91262506]. \t  -8.921363890942736 \t -1.946780634007908\n",
            "12     \t [-5.          3.20437144]. \t  -208.2477219550214 \t -1.946780634007908\n",
            "13     \t [10.  0.]. \t  -10.960889035651505 \t -1.946780634007908\n",
            "14     \t [3.43996741 0.        ]. \t  -5.04028997721643 \t -1.946780634007908\n",
            "15     \t [ 0.92636827 14.29128378]. \t  -108.98323834650083 \t -1.946780634007908\n",
            "16     \t [1.1486788 0.       ]. \t  -32.7892716319421 \t -1.946780634007908\n",
            "17     \t [8.41200286 3.97901851]. \t  -9.869826336726579 \t -1.946780634007908\n",
            "18     \t [2.32356328 4.45606268]. \t  -5.557295405376951 \t -1.946780634007908\n",
            "19     \t [-5. 15.]. \t  -17.508299515778166 \t -1.946780634007908\n",
            "20     \t [4.47573422 2.4590865 ]. \t  -8.737973802933164 \t -1.946780634007908\n"
          ]
        }
      ]
    },
    {
      "cell_type": "code",
      "metadata": {
        "colab": {
          "base_uri": "https://localhost:8080/"
        },
        "id": "DXwjUVZ4GCii",
        "outputId": "50e3a7dd-a4a1-47e2-a81c-b871ad47183e"
      },
      "source": [
        "### ESTIMATED GP EI GRADIENTS\n",
        "\n",
        "np.random.seed(run_num_12)\n",
        "surrogate_approx_12 = GaussianProcess(cov_func, optimize=opt)\n",
        "\n",
        "approx_12 = GPGO_multi(surrogate_approx_12, Acquisition_new(util_grad_approx), objfunc, param)\n",
        "approx_12.run(init_evals=n_init, max_iter=iters)\n"
      ],
      "execution_count": 24,
      "outputs": [
        {
          "output_type": "stream",
          "name": "stdout",
          "text": [
            "Evaluation \t Proposed point \t  Current eval. \t Best eval.\n",
            "init   \t [-2.68755736 11.10074545]. \t  -1.3827702760021356 \t -0.5499315281120278\n",
            "init   \t [-1.05027477  8.0060909 ]. \t  -14.81231853080056 \t -0.5499315281120278\n",
            "init   \t [-4.78137556 13.78120512]. \t  -18.401131000214548 \t -0.5499315281120278\n",
            "init   \t [8.51072281 0.50132141]. \t  -5.855172364344769 \t -0.5499315281120278\n",
            "init   \t [9.35424004 2.05813982]. \t  -0.5499315281120278 \t -0.5499315281120278\n",
            "1      \t [10.          4.44128644]. \t  -4.011933380719501 \t -0.5499315281120278\n",
            "2      \t [ 8.50155249 13.79797306]. \t  -148.00655208378976 \t -0.5499315281120278\n",
            "3      \t [-4.8799499   0.15657603]. \t  -290.0404981832191 \t -0.5499315281120278\n",
            "4      \t [4.4336702  8.80667229]. \t  -60.99395871160691 \t -0.5499315281120278\n",
            "5      \t [3.16173281 0.58781787]. \t  -3.1938407385388565 \t -0.5499315281120278\n",
            "6      \t [ 1.68953656 13.94416005]. \t  -114.2200057097559 \t -0.5499315281120278\n",
            "7      \t [-0.39788844  3.26316746]. \t  -30.347792772205334 \t -0.5499315281120278\n",
            "8      \t [10.          8.84134351]. \t  -36.029902349160615 \t -0.5499315281120278\n",
            "9      \t [-5.          5.57450726]. \t  -147.58210230612235 \t -0.5499315281120278\n",
            "10     \t [5.60386021 4.0530326 ]. \t  -25.967870966767656 \t -0.5499315281120278\n",
            "11     \t [-5.         9.8149548]. \t  -67.076112981441 \t -0.5499315281120278\n",
            "12     \t [2.1410047  5.77949623]. \t  -11.549913042603599 \t -0.5499315281120278\n",
            "13     \t [0.06108626 0.        ]. \t  -54.43268449916202 \t -0.5499315281120278\n",
            "14     \t [-1.88969558 15.        ]. \t  -37.583093247065825 \t -0.5499315281120278\n",
            "15     \t [5.68227984 0.        ]. \t  -19.191353260509416 \t -0.5499315281120278\n",
            "16     \t [-0.91925464 11.19771764]. \t  -28.967195937661856 \t -0.5499315281120278\n",
            "17     \t [ 5.04276733 12.32454881]. \t  -135.555012914158 \t -0.5499315281120278\n",
            "18     \t [2.77691937 2.74527182]. \t  -1.0577781782468065 \t -0.5499315281120278\n",
            "19     \t [7.56718974 6.59560386]. \t  -40.19216072689032 \t -0.5499315281120278\n",
            "20     \t [8.45510716 2.88076344]. \t  -5.784243051094533 \t -0.5499315281120278\n"
          ]
        }
      ]
    },
    {
      "cell_type": "code",
      "metadata": {
        "colab": {
          "base_uri": "https://localhost:8080/"
        },
        "id": "CphOPndPGClX",
        "outputId": "138e6581-03a9-4f8e-b0cc-617e65109b6f"
      },
      "source": [
        "### ESTIMATED GP EI GRADIENTS\n",
        "\n",
        "np.random.seed(run_num_13)\n",
        "surrogate_approx_13 = GaussianProcess(cov_func, optimize=opt)\n",
        "\n",
        "approx_13 = GPGO_multi(surrogate_approx_13, Acquisition_new(util_grad_approx), objfunc, param)\n",
        "approx_13.run(init_evals=n_init, max_iter=iters)\n"
      ],
      "execution_count": 25,
      "outputs": [
        {
          "output_type": "stream",
          "name": "stdout",
          "text": [
            "Evaluation \t Proposed point \t  Current eval. \t Best eval.\n",
            "init   \t [6.66553616 3.5631183 ]. \t  -24.823670200298267 \t -18.038943061558626\n",
            "init   \t [ 7.36417799 14.48623797]. \t  -188.7803334745195 \t -18.038943061558626\n",
            "init   \t [9.58901671 6.80173871]. \t  -18.038943061558626 \t -18.038943061558626\n",
            "init   \t [ 4.13563694 11.63289772]. \t  -104.87319703906111 \t -18.038943061558626\n",
            "init   \t [ 4.62420017 10.83027344]. \t  -98.03271225790056 \t -18.038943061558626\n",
            "1      \t [-3.51870171  3.68338658]. \t  -91.63196166423945 \t -18.038943061558626\n",
            "2      \t [-3.06562888 11.40851515]. \t  \u001b[92m-0.8943531028899869\u001b[0m \t -0.8943531028899869\n",
            "3      \t [2.3685613 0.       ]. \t  -11.859175693404021 \t -0.8943531028899869\n",
            "4      \t [1.73680198 5.92713917]. \t  -13.710957542040685 \t -0.8943531028899869\n",
            "5      \t [-0.26301224 15.        ]. \t  -92.75909151223124 \t -0.8943531028899869\n",
            "6      \t [10.  0.]. \t  -10.960889035651505 \t -0.8943531028899869\n",
            "7      \t [-5. 15.]. \t  -17.508299515778166 \t -0.8943531028899869\n",
            "8      \t [-0.22304301  9.62592143]. \t  -30.021287788448696 \t -0.8943531028899869\n",
            "9      \t [-5.          8.29779684]. \t  -91.748087292661 \t -0.8943531028899869\n",
            "10     \t [10.         10.78928678]. \t  -62.570078267496235 \t -0.8943531028899869\n",
            "11     \t [-1.48911985  0.        ]. \t  -85.71789639678529 \t -0.8943531028899869\n",
            "12     \t [5.4636203  6.99033882]. \t  -50.53869390526182 \t -0.8943531028899869\n",
            "13     \t [10.          3.30740433]. \t  -2.0358290809065807 \t -0.8943531028899869\n",
            "14     \t [6.09813129 0.        ]. \t  -20.644944965212034 \t -0.8943531028899869\n",
            "15     \t [3.1663196  3.05176867]. \t  -1.0343960397377199 \t -0.8943531028899869\n",
            "16     \t [0.57380612 3.07030836]. \t  -22.30366806284289 \t -0.8943531028899869\n",
            "17     \t [-5.         11.94217972]. \t  -40.23567119249759 \t -0.8943531028899869\n",
            "18     \t [-5.  0.]. \t  -308.12909601160663 \t -0.8943531028899869\n",
            "19     \t [-2.10763693 11.90078067]. \t  -8.980078417525508 \t -0.8943531028899869\n",
            "20     \t [-1.40881993  6.58484295]. \t  -15.211022370970216 \t -0.8943531028899869\n"
          ]
        }
      ]
    },
    {
      "cell_type": "code",
      "metadata": {
        "colab": {
          "base_uri": "https://localhost:8080/"
        },
        "id": "ojHTeARNGCoi",
        "outputId": "7c8553c5-369a-4989-8ed5-5262c557256c"
      },
      "source": [
        "### ESTIMATED GP EI GRADIENTS\n",
        "\n",
        "np.random.seed(run_num_14)\n",
        "surrogate_approx_14 = GaussianProcess(cov_func, optimize=opt)\n",
        "\n",
        "approx_14 = GPGO_multi(surrogate_approx_14, Acquisition_new(util_grad_approx), objfunc, param)\n",
        "approx_14.run(init_evals=n_init, max_iter=iters)\n"
      ],
      "execution_count": 26,
      "outputs": [
        {
          "output_type": "stream",
          "name": "stdout",
          "text": [
            "Evaluation \t Proposed point \t  Current eval. \t Best eval.\n",
            "init   \t [ 2.70915016 11.59747578]. \t  -81.58264375064097 \t -1.4149920024014744\n",
            "init   \t [8.05641529 0.12070423]. \t  -10.148649076616518 \t -1.4149920024014744\n",
            "init   \t [-0.35396112 14.36405609]. \t  -79.6056658956529 \t -1.4149920024014744\n",
            "init   \t [2.69675068 4.77426637]. \t  -5.855607664288365 \t -1.4149920024014744\n",
            "init   \t [3.08799906 3.31882414]. \t  -1.4149920024014744 \t -1.4149920024014744\n",
            "1      \t [-5.  0.]. \t  -308.1290960116068 \t -1.4149920024014744\n",
            "2      \t [-3.61083748  7.85924032]. \t  -32.481990179851884 \t -1.4149920024014744\n",
            "3      \t [8.4415984  6.61360555]. \t  -28.132050221972662 \t -1.4149920024014744\n",
            "4      \t [0.61707243 0.        ]. \t  -43.506647353554065 \t -1.4149920024014744\n",
            "5      \t [ 9.81482319 14.16972583]. \t  -129.85218172547337 \t -1.4149920024014744\n",
            "6      \t [-5. 15.]. \t  -17.508299515778166 \t -1.4149920024014744\n",
            "7      \t [ 5.3572922 15.       ]. \t  -206.7291945187916 \t -1.4149920024014744\n",
            "8      \t [-1.6001112   3.93523419]. \t  -34.143700674352274 \t -1.4149920024014744\n",
            "9      \t [ 7.06439517 10.48100107]. \t  -102.8862904189859 \t -1.4149920024014744\n",
            "10     \t [0.56303957 7.81656861]. \t  -25.257989486570953 \t -1.4149920024014744\n",
            "11     \t [6.09472826 3.27880265]. \t  -24.185432132423898 \t -1.4149920024014744\n",
            "12     \t [10.          3.07164872]. \t  -1.9478592697621373 \t -1.4149920024014744\n",
            "13     \t [-3.60041849 11.62645115]. \t  -4.553757720417551 \t -1.4149920024014744\n",
            "14     \t [4.46052367 0.        ]. \t  -9.771320333173707 \t -1.4149920024014744\n",
            "15     \t [4.4772795  7.39769893]. \t  -42.974051475605535 \t -1.4149920024014744\n",
            "16     \t [-1.09380001 10.66298011]. \t  -22.067992035075836 \t -1.4149920024014744\n",
            "17     \t [-5.          4.43383567]. \t  -175.37613605789585 \t -1.4149920024014744\n",
            "18     \t [2.84410032 2.24366515]. \t  \u001b[92m-0.8951630400207762\u001b[0m \t -0.8951630400207762\n",
            "19     \t [10.          9.18984358]. \t  -40.22071113063707 \t -0.8951630400207762\n",
            "20     \t [10.          1.38818028]. \t  -4.550643235129128 \t -0.8951630400207762\n"
          ]
        }
      ]
    },
    {
      "cell_type": "code",
      "metadata": {
        "colab": {
          "base_uri": "https://localhost:8080/"
        },
        "id": "vCJzn4vWGCs3",
        "outputId": "9c54408c-4694-4944-e5ee-3ac3fe1559d5"
      },
      "source": [
        "### ESTIMATED GP EI GRADIENTS\n",
        "\n",
        "np.random.seed(run_num_15)\n",
        "surrogate_approx_15 = GaussianProcess(cov_func, optimize=opt)\n",
        "\n",
        "approx_15 = GPGO_multi(surrogate_approx_15, Acquisition_new(util_grad_approx), objfunc, param)\n",
        "approx_15.run(init_evals=n_init, max_iter=iters)\n"
      ],
      "execution_count": 27,
      "outputs": [
        {
          "output_type": "stream",
          "name": "stdout",
          "text": [
            "Evaluation \t Proposed point \t  Current eval. \t Best eval.\n",
            "init   \t [7.73226546 2.68343887]. \t  -12.768724532005583 \t -12.768724532005583\n",
            "init   \t [-4.18455179  5.42307669]. \t  -95.39334176626551 \t -12.768724532005583\n",
            "init   \t [-0.86898607  7.95000337]. \t  -16.419487782111716 \t -12.768724532005583\n",
            "init   \t [-0.41121626  4.56711539]. \t  -23.250362743740954 \t -12.768724532005583\n",
            "init   \t [-3.32388086  3.74848521]. \t  -80.99796277938532 \t -12.768724532005583\n",
            "1      \t [ 6.5655417  11.87699252]. \t  -134.95011349993544 \t -12.768724532005583\n",
            "2      \t [-4.77493765 13.49591113]. \t  -19.896906503438096 \t -12.768724532005583\n",
            "3      \t [ 0.49807252 15.        ]. \t  -113.70597669512716 \t -12.768724532005583\n",
            "4      \t [2.5472886 0.       ]. \t  \u001b[92m-9.795500118061007\u001b[0m \t -9.795500118061007\n",
            "5      \t [10.          7.39573963]. \t  -21.239683331520574 \t -9.795500118061007\n",
            "6      \t [4.44361813 6.68446945]. \t  -34.551204730283004 \t -9.795500118061007\n",
            "7      \t [ 2.13180408 10.67402786]. \t  -60.838836699892866 \t -9.795500118061007\n",
            "8      \t [-5.  0.]. \t  -308.12909601160663 \t -9.795500118061007\n",
            "9      \t [10. 15.]. \t  -145.87219087939556 \t -9.795500118061007\n",
            "10     \t [10.  0.]. \t  -10.960889035651505 \t -9.795500118061007\n",
            "11     \t [-5.          9.62124415]. \t  -69.96986350377678 \t -9.795500118061007\n",
            "12     \t [4.01870934 2.97619348]. \t  \u001b[92m-5.514061521343878\u001b[0m \t -5.514061521343878\n",
            "13     \t [-0.72913137  0.        ]. \t  -69.42108955989443 \t -5.514061521343878\n",
            "14     \t [-1.65286883 11.58742578]. \t  -15.992977166406162 \t -5.514061521343878\n",
            "15     \t [ 4.40559526 15.        ]. \t  -189.46747903141255 \t -5.514061521343878\n",
            "16     \t [10.         10.71683956]. \t  -61.44713090245589 \t -5.514061521343878\n",
            "17     \t [7.52122691 5.59209746]. \t  -31.238830454825695 \t -5.514061521343878\n",
            "18     \t [5.9188642 0.       ]. \t  -20.194127063111914 \t -5.514061521343878\n",
            "19     \t [10.          3.77530028]. \t  \u001b[92m-2.539655411805625\u001b[0m \t -2.539655411805625\n",
            "20     \t [7.03004665 8.52907975]. \t  -70.82277970530538 \t -2.539655411805625\n"
          ]
        }
      ]
    },
    {
      "cell_type": "code",
      "metadata": {
        "colab": {
          "base_uri": "https://localhost:8080/"
        },
        "id": "bGGkhp-kGCw6",
        "outputId": "31c55d7a-3aad-475f-b0c2-e1d2f6459680"
      },
      "source": [
        "### ESTIMATED GP EI GRADIENTS\n",
        "\n",
        "np.random.seed(run_num_16)\n",
        "surrogate_approx_16 = GaussianProcess(cov_func, optimize=opt)\n",
        "\n",
        "approx_16 = GPGO_multi(surrogate_approx_16, Acquisition_new(util_grad_approx), objfunc, param)\n",
        "approx_16.run(init_evals=n_init, max_iter=iters)\n"
      ],
      "execution_count": 28,
      "outputs": [
        {
          "output_type": "stream",
          "name": "stdout",
          "text": [
            "Evaluation \t Proposed point \t  Current eval. \t Best eval.\n",
            "init   \t [-1.65063381  7.84745012]. \t  -10.514702126319445 \t -2.715864006988424\n",
            "init   \t [3.26052185 0.68402925]. \t  -2.715864006988424 \t -2.715864006988424\n",
            "init   \t [0.41093253 3.34621413]. \t  -22.889515127492515 \t -2.715864006988424\n",
            "init   \t [5.33089243 2.45597138]. \t  -17.178157611778595 \t -2.715864006988424\n",
            "init   \t [-3.945127  14.1151629]. \t  -3.3649224341694195 \t -2.715864006988424\n",
            "1      \t [ 5.63879248 14.58068289]. \t  -198.51319639462758 \t -2.715864006988424\n",
            "2      \t [10.          9.72351059]. \t  -47.108986579541174 \t -2.715864006988424\n",
            "3      \t [4.24604327 7.89508499]. \t  -45.673350938361665 \t -2.715864006988424\n",
            "4      \t [-5.          2.46874265]. \t  -229.36144957428314 \t -2.715864006988424\n",
            "5      \t [10.  0.]. \t  -10.960889035651505 \t -2.715864006988424\n",
            "6      \t [ 0.5294212 12.4046176]. \t  -70.28622813394162 \t -2.715864006988424\n",
            "7      \t [10.          4.71265256]. \t  -4.866200912762386 \t -2.715864006988424\n",
            "8      \t [10. 15.]. \t  -145.87219087939556 \t -2.715864006988424\n",
            "9      \t [-5.         10.28558751]. \t  -60.35821819884923 \t -2.715864006988424\n",
            "10     \t [-1.24808754  0.        ]. \t  -80.0824120267238 \t -2.715864006988424\n",
            "11     \t [7.22158502 5.70501173]. \t  -35.5795460175879 \t -2.715864006988424\n",
            "12     \t [-5.          6.54644504]. \t  -125.95282486286656 \t -2.715864006988424\n",
            "13     \t [ 6.49803493 10.68336335]. \t  -110.97698841317428 \t -2.715864006988424\n",
            "14     \t [1.05986029 6.59217078]. \t  -19.24880763008518 \t -2.715864006988424\n",
            "15     \t [ 6.99222906e+00 -1.11022302e-16]. \t  -18.698052614987766 \t -2.715864006988424\n",
            "16     \t [3.41925236 4.57568664]. \t  -7.052018490747977 \t -2.715864006988424\n",
            "17     \t [-1.72282258 15.        ]. \t  -43.056861057231835 \t -2.715864006988424\n",
            "18     \t [8.78387726 2.60812149]. \t  \u001b[92m-2.688587717058474\u001b[0m \t -2.688587717058474\n",
            "19     \t [-1.92988056  4.89977447]. \t  -28.274812994357454 \t -2.688587717058474\n",
            "20     \t [ 2.0980986 15.       ]. \t  -143.714147777092 \t -2.688587717058474\n"
          ]
        }
      ]
    },
    {
      "cell_type": "code",
      "metadata": {
        "id": "Yrs2mp7hGC1Z",
        "colab": {
          "base_uri": "https://localhost:8080/"
        },
        "outputId": "5bd8c2c1-4cd1-45f6-d6a3-93972b962fb1"
      },
      "source": [
        "### ESTIMATED GP EI GRADIENTS\n",
        "\n",
        "np.random.seed(run_num_17)\n",
        "surrogate_approx_17 = GaussianProcess(cov_func, optimize=opt)\n",
        "\n",
        "approx_17 = GPGO_multi(surrogate_approx_17, Acquisition_new(util_grad_approx), objfunc, param)\n",
        "approx_17.run(init_evals=n_init, max_iter=iters)\n"
      ],
      "execution_count": 29,
      "outputs": [
        {
          "output_type": "stream",
          "name": "stdout",
          "text": [
            "Evaluation \t Proposed point \t  Current eval. \t Best eval.\n",
            "init   \t [-0.58002496  7.95880133]. \t  -19.016141117164256 \t -19.016141117164256\n",
            "init   \t [-2.1271882   1.01850537]. \t  -85.05949339404415 \t -19.016141117164256\n",
            "init   \t [6.8047819  9.84500283]. \t  -93.89792695202516 \t -19.016141117164256\n",
            "init   \t [4.56281344 8.63404341]. \t  -60.50217141122736 \t -19.016141117164256\n",
            "init   \t [-4.41405626  5.36720407]. \t  -110.70834086593878 \t -19.016141117164256\n",
            "1      \t [9.76575296 0.98553483]. \t  \u001b[92m-4.1623278326263815\u001b[0m \t -4.1623278326263815\n",
            "2      \t [-0.36591853 14.49945231]. \t  -81.3728947682288 \t -4.1623278326263815\n",
            "3      \t [3.74599703 2.35814314]. \t  \u001b[92m-2.3563457989420957\u001b[0m \t -2.3563457989420957\n",
            "4      \t [10.         14.64086749]. \t  -137.38411051487694 \t -2.3563457989420957\n",
            "5      \t [-5.         11.17262384]. \t  -48.90080592714383 \t -2.3563457989420957\n",
            "6      \t [10.          5.64908461]. \t  -8.945134101750817 \t -2.3563457989420957\n",
            "7      \t [6.38336468 4.48266709]. \t  -30.966082230959298 \t -2.3563457989420957\n",
            "8      \t [ 4.75286349 15.        ]. \t  -196.60666538638264 \t -2.3563457989420957\n",
            "9      \t [6.21395596 0.        ]. \t  -20.785628414040104 \t -2.3563457989420957\n",
            "10     \t [0.97396926 4.29283071]. \t  -15.474761651700288 \t -2.3563457989420957\n",
            "11     \t [-5. 15.]. \t  -17.508299515778166 \t -2.3563457989420957\n",
            "12     \t [1.9221481 0.       ]. \t  -18.378662419673923 \t -2.3563457989420957\n",
            "13     \t [ 1.56751395 11.08048882]. \t  -62.70783903551884 \t -2.3563457989420957\n",
            "14     \t [10.          8.61628614]. \t  -33.452609147370815 \t -2.3563457989420957\n",
            "15     \t [-1.80124511 10.97761435]. \t  -10.668609982710503 \t -2.3563457989420957\n",
            "16     \t [10.          3.11184521]. \t  \u001b[92m-1.9549973921293926\u001b[0m \t -1.9549973921293926\n",
            "17     \t [-5.  0.]. \t  -308.12909601160663 \t -1.9549973921293926\n",
            "18     \t [3.40861166 5.51711401]. \t  -12.579617437511216 \t -1.9549973921293926\n",
            "19     \t [-3.38797549  8.55002153]. \t  -19.392946591048247 \t -1.9549973921293926\n",
            "20     \t [10.         11.38737501]. \t  -72.24161271345434 \t -1.9549973921293926\n"
          ]
        }
      ]
    },
    {
      "cell_type": "code",
      "metadata": {
        "id": "f0HIEP3PIUEa",
        "colab": {
          "base_uri": "https://localhost:8080/"
        },
        "outputId": "a91718d0-ba96-4020-d433-1b868873ae2c"
      },
      "source": [
        "### ESTIMATED GP EI GRADIENTS\n",
        "\n",
        "np.random.seed(run_num_18)\n",
        "surrogate_approx_18 = GaussianProcess(cov_func, optimize=opt)\n",
        "\n",
        "approx_18 = GPGO_multi(surrogate_approx_18, Acquisition_new(util_grad_approx), objfunc, param)\n",
        "approx_18.run(init_evals=n_init, max_iter=iters)\n"
      ],
      "execution_count": 30,
      "outputs": [
        {
          "output_type": "stream",
          "name": "stdout",
          "text": [
            "Evaluation \t Proposed point \t  Current eval. \t Best eval.\n",
            "init   \t [4.75561363 7.58180061]. \t  -49.215059064668324 \t -8.150075223157177\n",
            "init   \t [8.17902206 2.72760338]. \t  -8.150075223157177 \t -8.150075223157177\n",
            "init   \t [ 7.78349603 11.25204429]. \t  -106.98107856533271 \t -8.150075223157177\n",
            "init   \t [ 4.99152501 14.81843172]. \t  -196.08601750690153 \t -8.150075223157177\n",
            "init   \t [-1.14547366  0.42458888]. \t  -71.23649635555944 \t -8.150075223157177\n",
            "1      \t [-4.83474958 11.77354131]. \t  -35.58412906267954 \t -8.150075223157177\n",
            "2      \t [-1.52468598  7.08270423]. \t  -13.146058885158528 \t -8.150075223157177\n",
            "3      \t [ 0.43344746 11.75516361]. \t  -59.940118096716546 \t -8.150075223157177\n",
            "4      \t [4.16808622 0.        ]. \t  \u001b[92m-7.621849182200764\u001b[0m \t -7.621849182200764\n",
            "5      \t [3.25051177 4.09052476]. \t  \u001b[92m-4.0607372492488985\u001b[0m \t -4.0607372492488985\n",
            "6      \t [-5.          3.80328804]. \t  -191.85713523908967 \t -4.0607372492488985\n",
            "7      \t [10.          6.76719706]. \t  -16.112646836437207 \t -4.0607372492488985\n",
            "8      \t [10. 15.]. \t  -145.87219087939556 \t -4.0607372492488985\n",
            "9      \t [-2.303121 15.      ]. \t  -25.19533925061528 \t -4.0607372492488985\n",
            "10     \t [-5.          8.03838027]. \t  -96.4275841877422 \t -4.0607372492488985\n",
            "11     \t [10.  0.]. \t  -10.960889035651505 \t -4.0607372492488985\n",
            "12     \t [0.17412352 4.13030337]. \t  -22.00568813666045 \t -4.0607372492488985\n",
            "13     \t [1.33458884 8.14779926]. \t  -28.582957820727746 \t -4.0607372492488985\n",
            "14     \t [-5.  0.]. \t  -308.12909601160663 \t -4.0607372492488985\n",
            "15     \t [ 1.13537878 14.69891914]. \t  -120.95327425363145 \t -4.0607372492488985\n",
            "16     \t [6.95532402 0.        ]. \t  -18.905399671427062 \t -4.0607372492488985\n",
            "17     \t [ 3.92679437 11.00193015]. \t  -88.94968225556791 \t -4.0607372492488985\n",
            "18     \t [5.86818879 4.20450497]. \t  -28.368975039532398 \t -4.0607372492488985\n",
            "19     \t [-5. 15.]. \t  -17.508299515778166 \t -4.0607372492488985\n",
            "20     \t [2.21837  1.675328]. \t  -6.251723573929738 \t -4.0607372492488985\n"
          ]
        }
      ]
    },
    {
      "cell_type": "code",
      "metadata": {
        "id": "S3mxRQDLIUPC",
        "colab": {
          "base_uri": "https://localhost:8080/"
        },
        "outputId": "2afdf79e-102e-4762-9a54-5c4f5b05c9f6"
      },
      "source": [
        "### ESTIMATED GP EI GRADIENTS\n",
        "\n",
        "np.random.seed(run_num_19)\n",
        "surrogate_approx_19 = GaussianProcess(cov_func, optimize=opt)\n",
        "\n",
        "approx_19 = GPGO_multi(surrogate_approx_19, Acquisition_new(util_grad_approx), objfunc, param)\n",
        "approx_19.run(init_evals=n_init, max_iter=iters)\n"
      ],
      "execution_count": 31,
      "outputs": [
        {
          "output_type": "stream",
          "name": "stdout",
          "text": [
            "Evaluation \t Proposed point \t  Current eval. \t Best eval.\n",
            "init   \t [-3.53699597 11.41874575]. \t  -4.475608269502271 \t -4.475608269502271\n",
            "init   \t [-1.2959304   2.07197531]. \t  -51.13947793770689 \t -4.475608269502271\n",
            "init   \t [-0.02830155  1.24499348]. \t  -42.63973921760034 \t -4.475608269502271\n",
            "init   \t [ 5.07965622 12.09890697]. \t  -131.17235664506808 \t -4.475608269502271\n",
            "init   \t [9.74112872 9.53491102]. \t  -46.84458913925112 \t -4.475608269502271\n",
            "1      \t [9.57054653 2.03489665]. \t  \u001b[92m-0.8198597583535783\u001b[0m \t -0.8198597583535783\n",
            "2      \t [4.40529125 4.87644674]. \t  -18.52616991036314 \t -0.8198597583535783\n",
            "3      \t [-5.          6.34895594]. \t  -130.19475625502412 \t -0.8198597583535783\n",
            "4      \t [ 0.06514599 15.        ]. \t  -102.44880734859521 \t -0.8198597583535783\n",
            "5      \t [10. 15.]. \t  -145.87219087939556 \t -0.8198597583535783\n",
            "6      \t [0.56335389 8.5053089 ]. \t  -29.414039626479212 \t -0.8198597583535783\n",
            "7      \t [5.44748404 0.        ]. \t  -17.793743915872703 \t -0.8198597583535783\n",
            "8      \t [-5. 15.]. \t  -17.508299515778166 \t -0.8198597583535783\n",
            "9      \t [-5.  0.]. \t  -308.12909601160663 \t -0.8198597583535783\n",
            "10     \t [8.76775098 5.23171605]. \t  -12.993037429104914 \t -0.8198597583535783\n",
            "11     \t [6.02683154 8.05284522]. \t  -67.62579710672159 \t -0.8198597583535783\n",
            "12     \t [10.  0.]. \t  -10.960889035651505 \t -0.8198597583535783\n",
            "13     \t [0.92877427 5.01985374]. \t  -15.899364263919368 \t -0.8198597583535783\n",
            "14     \t [7.47623152 2.44566728]. \t  -14.80450976391589 \t -0.8198597583535783\n",
            "15     \t [-0.83674092 11.44380886]. \t  -32.60597215282455 \t -0.8198597583535783\n",
            "16     \t [3.15611147 2.0275171 ]. \t  \u001b[92m-0.45468391553970733\u001b[0m \t -0.45468391553970733\n",
            "17     \t [-2.69412461  8.91946703]. \t  -6.66101573873732 \t -0.45468391553970733\n",
            "18     \t [ 3.52109269 15.        ]. \t  -170.14222018771042 \t -0.45468391553970733\n",
            "19     \t [10.          2.81155651]. \t  -1.9797746601622066 \t -0.45468391553970733\n",
            "20     \t [2.68999656 0.        ]. \t  -8.401688998538113 \t -0.45468391553970733\n"
          ]
        }
      ]
    },
    {
      "cell_type": "code",
      "metadata": {
        "id": "Aawd59dRIUYn",
        "colab": {
          "base_uri": "https://localhost:8080/"
        },
        "outputId": "83e4f8ae-a615-4fdd-b690-f8bb1ade09c0"
      },
      "source": [
        "### ESTIMATED GP EI GRADIENTS\n",
        "\n",
        "np.random.seed(run_num_20)\n",
        "surrogate_approx_20 = GaussianProcess(cov_func, optimize=opt)\n",
        "\n",
        "approx_20 = GPGO_multi(surrogate_approx_20, Acquisition_new(util_grad_approx), objfunc, param)\n",
        "approx_20.run(init_evals=n_init, max_iter=iters)\n"
      ],
      "execution_count": 32,
      "outputs": [
        {
          "output_type": "stream",
          "name": "stdout",
          "text": [
            "Evaluation \t Proposed point \t  Current eval. \t Best eval.\n",
            "init   \t [ 3.82196202 13.46570592]. \t  -138.5264349938869 \t -14.042667401507376\n",
            "init   \t [ 8.37296094 12.23756216]. \t  -115.63178540512689 \t -14.042667401507376\n",
            "init   \t [-4.46165622 10.37636373]. \t  -35.66708529307584 \t -14.042667401507376\n",
            "init   \t [0.68021413 7.77766418]. \t  -25.307769914281764 \t -14.042667401507376\n",
            "init   \t [4.86927198 2.90775327]. \t  -14.042667401507376 \t -14.042667401507376\n",
            "1      \t [-0.18867118  0.75465687]. \t  -50.23667197430394 \t -14.042667401507376\n",
            "2      \t [10.         5.9079623]. \t  \u001b[92m-10.382198762189898\u001b[0m \t -10.382198762189898\n",
            "3      \t [-5.          3.81449004]. \t  -191.5574040002248 \t -10.382198762189898\n",
            "4      \t [-0.52181708 12.89618994]. \t  -54.69134022398591 \t -10.382198762189898\n",
            "5      \t [5.58659234 7.78970481]. \t  -61.57689219668029 \t -10.382198762189898\n",
            "6      \t [9.52692193 0.        ]. \t  \u001b[92m-7.01438462309541\u001b[0m \t -7.01438462309541\n",
            "7      \t [-5. 15.]. \t  -17.508299515778166 \t -7.01438462309541\n",
            "8      \t [1.53351775 4.24249412]. \t  -10.501786609564816 \t -7.01438462309541\n",
            "9      \t [-4.0644519  0.       ]. \t  -217.4486541338815 \t -7.01438462309541\n",
            "10     \t [6.25480605 0.        ]. \t  -20.806488400509295 \t -7.01438462309541\n",
            "11     \t [8.42788371 3.08294332]. \t  \u001b[92m-6.530505701345037\u001b[0m \t -6.530505701345037\n",
            "12     \t [-2.74247848  7.16078344]. \t  -18.58842590413811 \t -6.530505701345037\n",
            "13     \t [10.          8.88289027]. \t  -36.516760587522725 \t -6.530505701345037\n",
            "14     \t [-1.24311078  4.26045934]. \t  -28.438406314538 \t -6.530505701345037\n",
            "15     \t [3.10983832 0.        ]. \t  \u001b[92m-5.692241219003881\u001b[0m \t -5.692241219003881\n",
            "16     \t [ 2.77087718 10.01886371]. \t  -56.35920302738711 \t -5.692241219003881\n",
            "17     \t [10. 15.]. \t  -145.87219087939556 \t -5.692241219003881\n",
            "18     \t [7.08753476 4.96849603]. \t  -30.79226960700921 \t -5.692241219003881\n",
            "19     \t [-1.37465475  9.84948689]. \t  -13.880737767109778 \t -5.692241219003881\n",
            "20     \t [3.41689493 5.60213904]. \t  -13.234815257137688 \t -5.692241219003881\n"
          ]
        }
      ]
    },
    {
      "cell_type": "code",
      "metadata": {
        "id": "xkgzPRbBTHaq",
        "colab": {
          "base_uri": "https://localhost:8080/"
        },
        "outputId": "45370d1f-10bd-4eeb-b12d-2da2c59d0c7e"
      },
      "source": [
        "end_approx = time.time()\n",
        "end_approx\n",
        "\n",
        "time_approx = end_approx - start_approx\n",
        "time_approx\n",
        "\n",
        "start_exact = time.time()\n",
        "start_exact"
      ],
      "execution_count": 33,
      "outputs": [
        {
          "output_type": "execute_result",
          "data": {
            "text/plain": [
              "1643283613.2649539"
            ]
          },
          "metadata": {},
          "execution_count": 33
        }
      ]
    },
    {
      "cell_type": "code",
      "metadata": {
        "id": "7CG3Ndvb16Rb",
        "colab": {
          "base_uri": "https://localhost:8080/"
        },
        "outputId": "421a616a-86ba-466b-e39f-e41eff0fb39a"
      },
      "source": [
        "### EXACT GP EI GRADIENTS\n",
        "\n",
        "np.random.seed(run_num_1)\n",
        "surrogate_exact_1 = dGaussianProcess(cov_func, optimize=opt)\n",
        "\n",
        "exact_1 = dGPGO(surrogate_exact_1, Acquisition_new(util_grad_exact), objfunc, param)\n",
        "exact_1.run(init_evals=n_init, max_iter=iters)\n"
      ],
      "execution_count": 34,
      "outputs": [
        {
          "output_type": "stream",
          "name": "stdout",
          "text": [
            "Evaluation \t Proposed point \t  Current eval. \t Best eval.\n",
            "init   \t [ 1.25533007 10.8048674 ]. \t  -56.52874004692151 \t -27.68166689936483\n",
            "init   \t [-4.99828438  4.53498859]. \t  -172.66531086516164 \t -27.68166689936483\n",
            "init   \t [-2.79866164  1.38507892]. \t  -102.58290348816024 \t -27.68166689936483\n",
            "init   \t [-2.20609683  5.18341091]. \t  -28.868064601155666 \t -27.68166689936483\n",
            "init   \t [0.95151211 8.08225101]. \t  -27.68166689936483 \t -27.68166689936483\n",
            "1      \t [8.41909995 1.27566317]. \t  \u001b[92m-5.089934878453152\u001b[0m \t -5.089934878453152\n",
            "2      \t [ 8.98893195 10.45227242]. \t  -70.52424256621515 \t -5.089934878453152\n",
            "3      \t [3.24709681 0.02115122]. \t  -5.173244296289962 \t -5.089934878453152\n",
            "4      \t [-4.67712792 14.21955317]. \t  -13.865244792739254 \t -5.089934878453152\n",
            "5      \t [ 5.28828699 15.        ]. \t  -205.7740594331423 \t -5.089934878453152\n",
            "6      \t [5.68448723 6.090452  ]. \t  -42.56541479870838 \t -5.089934878453152\n",
            "7      \t [-3.81415702  9.67323954]. \t  -20.777676149837497 \t -5.089934878453152\n",
            "8      \t [10. 15.]. \t  -145.87219087939556 \t -5.089934878453152\n",
            "9      \t [-0.28894486 15.        ]. \t  -91.95377472918065 \t -5.089934878453152\n",
            "10     \t [10.          5.31332201]. \t  -7.28092895904324 \t -5.089934878453152\n",
            "11     \t [2.20595829 3.46545894]. \t  \u001b[92m-4.423890368649267\u001b[0m \t -4.423890368649267\n",
            "12     \t [5.45503956 2.25954717]. \t  -17.697449549498913 \t -4.423890368649267\n",
            "13     \t [5.14202597 9.84655287]. \t  -88.2118193287817 \t -4.423890368649267\n",
            "14     \t [0.50195469 0.        ]. \t  -45.80886498076647 \t -4.423890368649267\n",
            "15     \t [-1.82801883 11.75457757]. \t  -13.38227515638709 \t -4.423890368649267\n",
            "16     \t [1.90770052 5.4527564 ]. \t  -10.90146173097878 \t -4.423890368649267\n",
            "17     \t [10.          2.78751054]. \t  \u001b[92m-1.9895576691576995\u001b[0m \t -1.9895576691576995\n",
            "18     \t [8.14521415 3.64536851]. \t  -11.397159113153037 \t -1.9895576691576995\n",
            "19     \t [6.47232727 0.        ]. \t  -20.664393704567047 \t -1.9895576691576995\n",
            "20     \t [8.52154187 7.31858526]. \t  -34.30660101428095 \t -1.9895576691576995\n"
          ]
        }
      ]
    },
    {
      "cell_type": "code",
      "metadata": {
        "id": "-ilCPSAu9SAg",
        "colab": {
          "base_uri": "https://localhost:8080/"
        },
        "outputId": "0ab44ebc-bfcb-4626-cef8-25d1e49f23b8"
      },
      "source": [
        "### EXACT GP EI GRADIENTS\n",
        "\n",
        "np.random.seed(run_num_2)\n",
        "surrogate_exact_2 = dGaussianProcess(cov_func, optimize=opt)\n",
        "\n",
        "exact_2 = dGPGO(surrogate_exact_2, Acquisition_new(util_grad_exact), objfunc, param)\n",
        "exact_2.run(init_evals=n_init, max_iter=iters)\n"
      ],
      "execution_count": 35,
      "outputs": [
        {
          "output_type": "stream",
          "name": "stdout",
          "text": [
            "Evaluation \t Proposed point \t  Current eval. \t Best eval.\n",
            "init   \t [1.53992353 0.38889348]. \t  -22.31361308916297 \t -6.692051508754487\n",
            "init   \t [3.24493717 6.52983589]. \t  -19.233109967858276 \t -6.692051508754487\n",
            "init   \t [1.30551703 4.95502232]. \t  -13.177851563387286 \t -6.692051508754487\n",
            "init   \t [-1.93027049  9.2890645 ]. \t  -6.692051508754487 \t -6.692051508754487\n",
            "init   \t [-0.50517989  4.00240913]. \t  -26.437522758780958 \t -6.692051508754487\n",
            "1      \t [ 9.5587047  12.00387527]. \t  -89.09951357262268 \t -6.692051508754487\n",
            "2      \t [9.59366035 1.69164323]. \t  \u001b[92m-1.3984593420568778\u001b[0m \t -1.3984593420568778\n",
            "3      \t [ 3.24245232 12.67669673]. \t  -110.25694222671481 \t -1.3984593420568778\n",
            "4      \t [-5.  0.]. \t  -308.12909601160663 \t -1.3984593420568778\n",
            "5      \t [9.02394693 6.38201831]. \t  -19.00430028763514 \t -1.3984593420568778\n",
            "6      \t [-3.95509114 14.02730345]. \t  -3.48680055844817 \t -1.3984593420568778\n",
            "7      \t [6.10821742 0.        ]. \t  -20.66195936679189 \t -1.3984593420568778\n",
            "8      \t [-0.52939792 15.        ]. \t  -84.24209321185434 \t -1.3984593420568778\n",
            "9      \t [-5.          5.74689705]. \t  -143.6079459962207 \t -1.3984593420568778\n",
            "10     \t [6.29613152 3.73513195]. \t  -26.542942639106723 \t -1.3984593420568778\n",
            "11     \t [6.15104183 9.24555519]. \t  -85.90024718469762 \t -1.3984593420568778\n",
            "12     \t [0.99587189 9.48835588]. \t  -39.67650619445164 \t -1.3984593420568778\n",
            "13     \t [10.         3.4781198]. \t  -2.16892072692493 \t -1.3984593420568778\n",
            "14     \t [-5.         10.71185428]. \t  -54.655929076061824 \t -1.3984593420568778\n",
            "15     \t [-1.91684373 11.96023032]. \t  -12.671470538919952 \t -1.3984593420568778\n",
            "16     \t [-1.28382847  0.        ]. \t  -80.8826784532322 \t -1.3984593420568778\n",
            "17     \t [ 6.80588314 15.        ]. \t  -210.08895858513765 \t -1.3984593420568778\n",
            "18     \t [3.56892961 2.50509999]. \t  -1.5527328479402627 \t -1.3984593420568778\n",
            "19     \t [-1.79335679  7.16267079]. \t  -12.320078008742826 \t -1.3984593420568778\n",
            "20     \t [10.          8.80162357]. \t  -35.567679199058844 \t -1.3984593420568778\n"
          ]
        }
      ]
    },
    {
      "cell_type": "code",
      "metadata": {
        "id": "XieJ158mIvlP",
        "colab": {
          "base_uri": "https://localhost:8080/"
        },
        "outputId": "f2ce84c4-61c2-4e38-e489-57aa943c0e42"
      },
      "source": [
        "### EXACT GP EI GRADIENTS\n",
        "\n",
        "np.random.seed(run_num_3)\n",
        "surrogate_exact_3 = dGaussianProcess(cov_func, optimize=opt)\n",
        "\n",
        "exact_3 = dGPGO(surrogate_exact_3, Acquisition_new(util_grad_exact), objfunc, param)\n",
        "exact_3.run(init_evals=n_init, max_iter=iters)\n"
      ],
      "execution_count": 36,
      "outputs": [
        {
          "output_type": "stream",
          "name": "stdout",
          "text": [
            "Evaluation \t Proposed point \t  Current eval. \t Best eval.\n",
            "init   \t [ 3.26196854 10.62221734]. \t  -71.68783452098575 \t -18.07886746449891\n",
            "init   \t [-0.63642892  7.66241408]. \t  -18.07886746449891 \t -18.07886746449891\n",
            "init   \t [ 8.39420432 13.44439633]. \t  -141.98653529865882 \t -18.07886746449891\n",
            "init   \t [-3.11622034  3.10864317]. \t  -83.31045707266176 \t -18.07886746449891\n",
            "init   \t [-4.22799195  6.61214765]. \t  -76.5294170688398 \t -18.07886746449891\n",
            "1      \t [6.70472147 4.59545299]. \t  -30.726791812855225 \t -18.07886746449891\n",
            "2      \t [-3.89564496 13.38589781]. \t  \u001b[92m-3.6010193697779265\u001b[0m \t -3.6010193697779265\n",
            "3      \t [ 0.49219244 15.        ]. \t  -113.56487343582613 \t -3.6010193697779265\n",
            "4      \t [3.31497689 0.        ]. \t  -5.137169559364589 \t -3.6010193697779265\n",
            "5      \t [10.          8.34527826]. \t  -30.48354136249052 \t -3.6010193697779265\n",
            "6      \t [9.93677706 0.73582747]. \t  -6.490866332170537 \t -3.6010193697779265\n",
            "7      \t [2.30336445 3.76695043]. \t  -4.137017537183117 \t -3.6010193697779265\n",
            "8      \t [-1.61615361 11.20760603]. \t  -14.84539940752774 \t -3.6010193697779265\n",
            "9      \t [-2.53287617  0.2265116 ]. \t  -115.19315667597515 \t -3.6010193697779265\n",
            "10     \t [6.6289671 0.       ]. \t  -20.302666230972783 \t -3.6010193697779265\n",
            "11     \t [6.30223685 8.37757568]. \t  -72.55396914324521 \t -3.6010193697779265\n",
            "12     \t [ 4.66697745 15.        ]. \t  -194.9050731411392 \t -3.6010193697779265\n",
            "13     \t [-5.         10.49187862]. \t  -57.55322559674751 \t -3.6010193697779265\n",
            "14     \t [2.29892719 7.16559958]. \t  -20.763766125601933 \t -3.6010193697779265\n",
            "15     \t [10.         4.4598568]. \t  -4.065698851846399 \t -3.6010193697779265\n",
            "16     \t [1.00921609 1.40412871]. \t  -24.85543984088032 \t -3.6010193697779265\n",
            "17     \t [0.08902088 4.6159832 ]. \t  -21.110033401890306 \t -3.6010193697779265\n",
            "18     \t [4.97292986 1.95828279]. \t  -12.93350320511761 \t -3.6010193697779265\n",
            "19     \t [10.          2.75859138]. \t  \u001b[92m-2.0028550285710347\u001b[0m \t -2.0028550285710347\n",
            "20     \t [3.84452616 4.87774477]. \t  -12.204274974778624 \t -2.0028550285710347\n"
          ]
        }
      ]
    },
    {
      "cell_type": "code",
      "metadata": {
        "id": "PhLBVOIfIvol",
        "colab": {
          "base_uri": "https://localhost:8080/"
        },
        "outputId": "e4dd6875-530b-4d63-be90-a9c1648c4f06"
      },
      "source": [
        "### EXACT GP EI GRADIENTS\n",
        "\n",
        "np.random.seed(run_num_4)\n",
        "surrogate_exact_4 = dGaussianProcess(cov_func, optimize=opt)\n",
        "\n",
        "exact_4 = dGPGO(surrogate_exact_4, Acquisition_new(util_grad_exact), objfunc, param)\n",
        "exact_4.run(init_evals=n_init, max_iter=iters)\n"
      ],
      "execution_count": 37,
      "outputs": [
        {
          "output_type": "stream",
          "name": "stdout",
          "text": [
            "Evaluation \t Proposed point \t  Current eval. \t Best eval.\n",
            "init   \t [9.50544759 8.20848374]. \t  -32.51676744781521 \t -7.247126865776948\n",
            "init   \t [ 9.5902654  10.72223991]. \t  -66.20566674364716 \t -7.247126865776948\n",
            "init   \t [5.46593237 3.24134243]. \t  -20.90089401680587 \t -7.247126865776948\n",
            "init   \t [9.64411682 0.09345383]. \t  -7.247126865776948 \t -7.247126865776948\n",
            "init   \t [-1.20526456  6.52187299]. \t  -15.941376982363263 \t -7.247126865776948\n",
            "1      \t [ 1.25164457 13.57001383]. \t  -100.61648848019335 \t -7.247126865776948\n",
            "2      \t [-4.27198795  1.64727177]. \t  -188.41076037632916 \t -7.247126865776948\n",
            "3      \t [1.24680796 0.        ]. \t  -30.835406601599388 \t -7.247126865776948\n",
            "4      \t [ 6.62356632 15.        ]. \t  -211.54458919378212 \t -7.247126865776948\n",
            "5      \t [-4.73699493 13.33053872]. \t  -19.892240270122997 \t -7.247126865776948\n",
            "6      \t [-5.          8.03524818]. \t  -96.48490483669138 \t -7.247126865776948\n",
            "7      \t [4.23328895 8.18288921]. \t  -49.203552135130295 \t -7.247126865776948\n",
            "8      \t [9.02535142 4.41775683]. \t  \u001b[92m-6.257128851106306\u001b[0m \t -6.257128851106306\n",
            "9      \t [-1.92146775 10.86858645]. \t  -8.479680379483622 \t -6.257128851106306\n",
            "10     \t [5.1636724 0.       ]. \t  -15.691426583918854 \t -6.257128851106306\n",
            "11     \t [1.66288432 4.12232952]. \t  -9.286484731045311 \t -6.257128851106306\n",
            "12     \t [0.59561762 9.84746133]. \t  -40.50722306870982 \t -6.257128851106306\n",
            "13     \t [-0.94772975  3.28436387]. \t  -34.43894115831397 \t -6.257128851106306\n",
            "14     \t [ 4.68589558 11.6113786 ]. \t  -114.45233383196215 \t -6.257128851106306\n",
            "15     \t [10. 15.]. \t  -145.87219087939556 \t -6.257128851106306\n",
            "16     \t [-1.91388197 15.        ]. \t  -36.80870442793804 \t -6.257128851106306\n",
            "17     \t [-3.22408271  4.86511071]. \t  -58.32759744838745 \t -6.257128851106306\n",
            "18     \t [6.7186221  6.42044578]. \t  -46.60658891288512 \t -6.257128851106306\n",
            "19     \t [8.23619301 1.86318179]. \t  -6.462047954580353 \t -6.257128851106306\n",
            "20     \t [2.65675234 2.51256913]. \t  \u001b[92m-1.5337454041050318\u001b[0m \t -1.5337454041050318\n"
          ]
        }
      ]
    },
    {
      "cell_type": "code",
      "metadata": {
        "id": "arbiPyj2IvsJ",
        "colab": {
          "base_uri": "https://localhost:8080/"
        },
        "outputId": "ffee1a02-390b-46ff-e339-a73e752a52ca"
      },
      "source": [
        "### EXACT GP EI GRADIENTS\n",
        "\n",
        "np.random.seed(run_num_5)\n",
        "surrogate_exact_5 = dGaussianProcess(cov_func, optimize=opt)\n",
        "\n",
        "exact_5 = dGPGO(surrogate_exact_5, Acquisition_new(util_grad_exact), objfunc, param)\n",
        "exact_5.run(init_evals=n_init, max_iter=iters)\n"
      ],
      "execution_count": 38,
      "outputs": [
        {
          "output_type": "stream",
          "name": "stdout",
          "text": [
            "Evaluation \t Proposed point \t  Current eval. \t Best eval.\n",
            "init   \t [-1.67010243 13.06098459]. \t  -25.390690545664548 \t -25.311309190989615\n",
            "init   \t [-1.89921267 13.77916362]. \t  -25.311309190989615 \t -25.311309190989615\n",
            "init   \t [2.32616783 9.17615794]. \t  -41.60147975414021 \t -25.311309190989615\n",
            "init   \t [6.48861785 7.77626982]. \t  -63.81281921768236 \t -25.311309190989615\n",
            "init   \t [-0.54799248  2.81581843]. \t  -34.966203644931994 \t -25.311309190989615\n",
            "1      \t [8.84124421 0.03321319]. \t  \u001b[92m-5.96108856337545\u001b[0m \t -5.96108856337545\n",
            "2      \t [ 8.39476442 14.47736321]. \t  -167.21523769473345 \t -5.96108856337545\n",
            "3      \t [-5.          8.50731558]. \t  -88.06692538826472 \t -5.96108856337545\n",
            "4      \t [-5.  0.]. \t  -308.12909601160663 \t -5.96108856337545\n",
            "5      \t [4.68269035 2.64603605]. \t  -11.317791440148923 \t -5.96108856337545\n",
            "6      \t [ 3.03229916 15.        ]. \t  -160.1798684963997 \t -5.96108856337545\n",
            "7      \t [10.          4.33968607]. \t  \u001b[92m-3.7299863204284556\u001b[0m \t -3.7299863204284556\n",
            "8      \t [-1.19617761  7.56956282]. \t  -13.783001649930567 \t -3.7299863204284556\n",
            "9      \t [10.        10.1798307]. \t  -53.45066238084508 \t -3.7299863204284556\n",
            "10     \t [-5.          4.41014881]. \t  -175.98087898480938 \t -3.7299863204284556\n",
            "11     \t [1.98335614 0.        ]. \t  -17.382959444883035 \t -3.7299863204284556\n",
            "12     \t [-5.         12.41096768]. \t  -35.537678769674024 \t -3.7299863204284556\n",
            "13     \t [2.309834   5.39008025]. \t  -9.182618476742036 \t -3.7299863204284556\n",
            "14     \t [-1.35035272  0.        ]. \t  -82.4030662984843 \t -3.7299863204284556\n",
            "15     \t [ 6.72025666 11.05679399]. \t  -117.07022441470544 \t -3.7299863204284556\n",
            "16     \t [7.54361305 3.60368616]. \t  -18.032645206798236 \t -3.7299863204284556\n",
            "17     \t [10.          6.77805233]. \t  -16.194488427685705 \t -3.7299863204284556\n",
            "18     \t [ 0.77973082 12.24527003]. \t  -71.70223533673273 \t -3.7299863204284556\n",
            "19     \t [-2.65597849 10.67708855]. \t  \u001b[92m-1.720826599194579\u001b[0m \t -1.720826599194579\n",
            "20     \t [5.87412081 0.        ]. \t  -20.038859308291787 \t -1.720826599194579\n"
          ]
        }
      ]
    },
    {
      "cell_type": "code",
      "metadata": {
        "id": "04KJCEm_Ivvf",
        "colab": {
          "base_uri": "https://localhost:8080/"
        },
        "outputId": "f4b2cd93-6dcc-4189-8835-bcc4d4237041"
      },
      "source": [
        "### EXACT GP EI GRADIENTS\n",
        "\n",
        "np.random.seed(run_num_6)\n",
        "surrogate_exact_6 = dGaussianProcess(cov_func, optimize=opt)\n",
        "\n",
        "exact_6 = dGPGO(surrogate_exact_6, Acquisition_new(util_grad_exact), objfunc, param)\n",
        "exact_6.run(init_evals=n_init, max_iter=iters)\n"
      ],
      "execution_count": 39,
      "outputs": [
        {
          "output_type": "stream",
          "name": "stdout",
          "text": [
            "Evaluation \t Proposed point \t  Current eval. \t Best eval.\n",
            "init   \t [8.39290227 4.97969708]. \t  -15.553860636684597 \t -15.31731051317483\n",
            "init   \t [7.31843685 0.62544939]. \t  -15.31731051317483 \t -15.31731051317483\n",
            "init   \t [-3.3851498   8.92578096]. \t  -16.222288919361837 \t -15.31731051317483\n",
            "init   \t [2.94726043 6.28211143]. \t  -15.406373581304088 \t -15.31731051317483\n",
            "init   \t [0.03111774 9.33779148]. \t  -31.07053245856209 \t -15.31731051317483\n",
            "1      \t [ 9.64829531 12.55362889]. \t  -98.32295673962142 \t -15.31731051317483\n",
            "2      \t [-1.22578785  0.62063252]. \t  -69.8637190838968 \t -15.31731051317483\n",
            "3      \t [ 1.3395746  14.83539323]. \t  -127.45307783920767 \t -15.31731051317483\n",
            "4      \t [-5.          4.21567906]. \t  -180.98825955860133 \t -15.31731051317483\n",
            "5      \t [ 4.82185171 10.81025099]. \t  -100.93632097217316 \t -15.31731051317483\n",
            "6      \t [-3.4990027  13.45496615]. \t  \u001b[92m-1.097416274904159\u001b[0m \t -1.097416274904159\n",
            "7      \t [3.23889405 0.70631865]. \t  -2.6754106017511115 \t -1.097416274904159\n",
            "8      \t [ 5.97912759 15.        ]. \t  -212.3087027621085 \t -1.097416274904159\n",
            "9      \t [8.34883414 8.35730852]. \t  -49.534038736142236 \t -1.097416274904159\n",
            "10     \t [-2.21942625  5.40496174]. \t  -26.892331361844676 \t -1.097416274904159\n",
            "11     \t [4.20035488 3.37428137]. \t  -8.464378677935738 \t -1.097416274904159\n",
            "12     \t [-5.  0.]. \t  -308.12909601160663 \t -1.097416274904159\n",
            "13     \t [-0.87068685 12.31324987]. \t  -39.51144463993649 \t -1.097416274904159\n",
            "14     \t [1.0236397  3.55073207]. \t  -15.908507754981796 \t -1.097416274904159\n",
            "15     \t [-5.         11.92114602]. \t  -40.45676468894145 \t -1.097416274904159\n",
            "16     \t [9.73321    2.69423766]. \t  \u001b[92m-0.8538365738479072\u001b[0m \t -0.8538365738479072\n",
            "17     \t [4.69809732 0.        ]. \t  -11.750984882957855 \t -0.8538365738479072\n",
            "18     \t [5.83842016 5.46405697]. \t  -37.613584630458405 \t -0.8538365738479072\n",
            "19     \t [-3.50933351 15.        ]. \t  -4.365968792912016 \t -0.8538365738479072\n",
            "20     \t [9.7275565  2.88311544]. \t  -0.8545162706160028 \t -0.8538365738479072\n"
          ]
        }
      ]
    },
    {
      "cell_type": "code",
      "metadata": {
        "id": "tAOkme3CIvyO",
        "colab": {
          "base_uri": "https://localhost:8080/"
        },
        "outputId": "c50382ad-141d-44e8-f592-48d495e9f320"
      },
      "source": [
        "### EXACT GP EI GRADIENTS\n",
        "\n",
        "np.random.seed(run_num_7)\n",
        "surrogate_exact_7 = dGaussianProcess(cov_func, optimize=opt)\n",
        "\n",
        "exact_7 = dGPGO(surrogate_exact_7, Acquisition_new(util_grad_exact), objfunc, param)\n",
        "exact_7.run(init_evals=n_init, max_iter=iters)\n"
      ],
      "execution_count": 40,
      "outputs": [
        {
          "output_type": "stream",
          "name": "stdout",
          "text": [
            "Evaluation \t Proposed point \t  Current eval. \t Best eval.\n",
            "init   \t [-3.85537566 11.69878188]. \t  -8.299317850233932 \t -5.211335324193094\n",
            "init   \t [ 1.57613847 10.85197767]. \t  -59.50408380701259 \t -5.211335324193094\n",
            "init   \t [9.66984268 8.07743806]. \t  -29.714921414987273 \t -5.211335324193094\n",
            "init   \t [2.51680695 1.080767  ]. \t  -5.211335324193094 \t -5.211335324193094\n",
            "init   \t [-0.9734153   7.49823751]. \t  -15.431057204948033 \t -5.211335324193094\n",
            "1      \t [-4.97859679  1.38393519]. \t  -260.3293952774437 \t -5.211335324193094\n",
            "2      \t [ 7.42679792 14.12713902]. \t  -178.37635728719692 \t -5.211335324193094\n",
            "3      \t [8.08940775 0.35854539]. \t  -9.249625108410735 \t -5.211335324193094\n",
            "4      \t [-3.39684884  5.54228873]. \t  -54.79871094423047 \t -5.211335324193094\n",
            "5      \t [4.94544954 5.5071879 ]. \t  -30.014161847547633 \t -5.211335324193094\n",
            "6      \t [-0.82354444 15.        ]. \t  -74.31125853225242 \t -5.211335324193094\n",
            "7      \t [10.          3.82267853]. \t  \u001b[92m-2.6150847032758815\u001b[0m \t -2.6150847032758815\n",
            "8      \t [0.41578037 4.08275839]. \t  -20.416899017503518 \t -2.6150847032758815\n",
            "9      \t [-0.81528439  0.        ]. \t  -71.0988792898282 \t -2.6150847032758815\n",
            "10     \t [5.65977331 9.92202418]. \t  -95.08918133325791 \t -2.6150847032758815\n",
            "11     \t [5.38372711 1.39077826]. \t  -16.01902331528769 \t -2.6150847032758815\n",
            "12     \t [-4.98229363 14.89324408]. \t  -17.591808856439044 \t -2.6150847032758815\n",
            "13     \t [10.         11.67100202]. \t  -77.07815195790475 \t -2.6150847032758815\n",
            "14     \t [2.23150369 7.18295044]. \t  -20.845422499833774 \t -2.6150847032758815\n",
            "15     \t [ 3.29534001 15.        ]. \t  -165.4242021890356 \t -2.6150847032758815\n",
            "16     \t [-1.35142793 10.35199762]. \t  -15.951542413578627 \t -2.6150847032758815\n",
            "17     \t [-5.          8.63223878]. \t  -85.91385334322024 \t -2.6150847032758815\n",
            "18     \t [7.74224337 3.93590001]. \t  -17.393112007371943 \t -2.6150847032758815\n",
            "19     \t [9.92686374 2.36875345]. \t  \u001b[92m-1.899191620833939\u001b[0m \t -1.899191620833939\n",
            "20     \t [10.          0.78912704]. \t  -6.8441820042652735 \t -1.899191620833939\n"
          ]
        }
      ]
    },
    {
      "cell_type": "code",
      "metadata": {
        "id": "69-J3EF4Iv1S",
        "colab": {
          "base_uri": "https://localhost:8080/"
        },
        "outputId": "1a9902c3-ff8d-4bcc-ef6a-b4bb8b11b276"
      },
      "source": [
        "### EXACT GP EI GRADIENTS\n",
        "\n",
        "np.random.seed(run_num_8)\n",
        "surrogate_exact_8 = dGaussianProcess(cov_func, optimize=opt)\n",
        "\n",
        "exact_8 = dGPGO(surrogate_exact_8, Acquisition_new(util_grad_exact), objfunc, param)\n",
        "exact_8.run(init_evals=n_init, max_iter=iters)\n"
      ],
      "execution_count": 41,
      "outputs": [
        {
          "output_type": "stream",
          "name": "stdout",
          "text": [
            "Evaluation \t Proposed point \t  Current eval. \t Best eval.\n",
            "init   \t [ 8.10144104 14.52810994]. \t  -175.17297136347514 \t -15.416245468470875\n",
            "init   \t [8.0379181  7.96283537]. \t  -49.32173799887473 \t -15.416245468470875\n",
            "init   \t [-1.50907508  0.17098206]. \t  -83.26753461673219 \t -15.416245468470875\n",
            "init   \t [1.45703227 6.0352704 ]. \t  -15.416245468470875 \t -15.416245468470875\n",
            "init   \t [2.84012007 7.17587694]. \t  -22.49093277852639 \t -15.416245468470875\n",
            "1      \t [9.77124156 0.43098073]. \t  \u001b[92m-6.499298445992174\u001b[0m \t -6.499298445992174\n",
            "2      \t [-4.87537438 11.82874897]. \t  -36.57081146531108 \t -6.499298445992174\n",
            "3      \t [ 0.45081738 13.94638662]. \t  -93.25142611098795 \t -6.499298445992174\n",
            "4      \t [4.47251591 0.866383  ]. \t  -8.078155973488538 \t -6.499298445992174\n",
            "5      \t [-4.06875054  6.05187677]. \t  -77.55161170327132 \t -6.499298445992174\n",
            "6      \t [-1.07541354  9.60963765]. \t  -17.62235362551366 \t -6.499298445992174\n",
            "7      \t [ 4.66367209 11.11979984]. \t  -104.25439279342794 \t -6.499298445992174\n",
            "8      \t [7.41184625 3.61717364]. \t  -19.475477310242354 \t -6.499298445992174\n",
            "9      \t [1.15417919 2.89031937]. \t  -15.973236463891121 \t -6.499298445992174\n",
            "10     \t [-4.98803444  1.24288722]. \t  -265.74116183756644 \t -6.499298445992174\n",
            "11     \t [ 4.14432739 15.        ]. \t  -183.78087339910962 \t -6.499298445992174\n",
            "12     \t [ 1.35087848 10.59290154]. \t  -54.43764639419131 \t -6.499298445992174\n",
            "13     \t [4.35471987 3.82379628]. \t  -11.950236751154993 \t -6.499298445992174\n",
            "14     \t [-3.40174572 15.        ]. \t  \u001b[92m-5.0934687541721155\u001b[0m \t -5.0934687541721155\n",
            "15     \t [7.09340796 0.        ]. \t  -18.084632591119856 \t -5.0934687541721155\n",
            "16     \t [10.         11.02646334]. \t  -66.3198009259072 \t -5.0934687541721155\n",
            "17     \t [10.          5.48301729]. \t  -8.093841641334354 \t -5.0934687541721155\n",
            "18     \t [10.          2.81715921]. \t  \u001b[92m-1.9776613337857079\u001b[0m \t -1.9776613337857079\n",
            "19     \t [1.83318844e+00 2.97660841e-18]. \t  -19.87524031936838 \t -1.9776613337857079\n",
            "20     \t [-0.97283901  6.83170099]. \t  -16.10928521204263 \t -1.9776613337857079\n"
          ]
        }
      ]
    },
    {
      "cell_type": "code",
      "metadata": {
        "id": "vonm9jyuIv4t",
        "colab": {
          "base_uri": "https://localhost:8080/"
        },
        "outputId": "59dfaeb6-b71a-4fc1-de04-df915f82707a"
      },
      "source": [
        "### EXACT GP EI GRADIENTS\n",
        "\n",
        "np.random.seed(run_num_9)\n",
        "surrogate_exact_9 = dGaussianProcess(cov_func, optimize=opt)\n",
        "\n",
        "exact_9 = dGPGO(surrogate_exact_9, Acquisition_new(util_grad_exact), objfunc, param)\n",
        "exact_9.run(init_evals=n_init, max_iter=iters)\n"
      ],
      "execution_count": 42,
      "outputs": [
        {
          "output_type": "stream",
          "name": "stdout",
          "text": [
            "Evaluation \t Proposed point \t  Current eval. \t Best eval.\n",
            "init   \t [-4.84438769  7.52811888]. \t  -96.15564306553264 \t -3.4640248583909496\n",
            "init   \t [2.4365994  2.00744293]. \t  -3.4640248583909496 \t -3.4640248583909496\n",
            "init   \t [-2.86833372  3.27838013]. \t  -70.46930174488207 \t -3.4640248583909496\n",
            "init   \t [1.27762271 3.72151753]. \t  -12.982825924833865 \t -3.4640248583909496\n",
            "init   \t [-3.73910523  5.1824796 ]. \t  -75.58547400560856 \t -3.4640248583909496\n",
            "1      \t [ 7.05609655 14.75038872]. \t  -200.4388688685465 \t -3.4640248583909496\n",
            "2      \t [-0.46054038 14.56197292]. \t  -79.4666617606301 \t -3.4640248583909496\n",
            "3      \t [8.28747407 1.2035024 ]. \t  -6.196385269800155 \t -3.4640248583909496\n",
            "4      \t [4.00818884 9.58112639]. \t  -65.95553030943105 \t -3.4640248583909496\n",
            "5      \t [10.          7.36889848]. \t  -21.004589149340347 \t -3.4640248583909496\n",
            "6      \t [6.12749834 4.72723949]. \t  -32.65608244198498 \t -3.4640248583909496\n",
            "7      \t [-0.4808683   9.13001502]. \t  -23.964544433750902 \t -3.4640248583909496\n",
            "8      \t [-0.31392797  0.        ]. \t  -61.54371115276555 \t -3.4640248583909496\n",
            "9      \t [10.         11.36476855]. \t  -71.86303964794763 \t -3.4640248583909496\n",
            "10     \t [4.86893462 0.        ]. \t  -13.22196599990446 \t -3.4640248583909496\n",
            "11     \t [-5.         12.67015985]. \t  -33.128852432503436 \t -3.4640248583909496\n",
            "12     \t [-5.  0.]. \t  -308.12909601160663 \t -3.4640248583909496\n",
            "13     \t [ 3.1701245  14.75050555]. \t  -156.59308127815763 \t -3.4640248583909496\n",
            "14     \t [9.56260129 4.13137922]. \t  \u001b[92m-2.8533646447146195\u001b[0m \t -2.8533646447146195\n",
            "15     \t [3.27807164 5.86280817]. \t  -14.116830881896266 \t -2.8533646447146195\n",
            "16     \t [7.27580604 8.74916126]. \t  -71.35182284977571 \t -2.8533646447146195\n",
            "17     \t [-0.27550593  6.15628205]. \t  -19.325261609750534 \t -2.8533646447146195\n",
            "18     \t [-2.34571897 11.75460368]. \t  -4.999061196925332 \t -2.8533646447146195\n",
            "19     \t [ 1.24841408 11.55646842]. \t  -66.94779210581846 \t -2.8533646447146195\n",
            "20     \t [10.          2.48694864]. \t  \u001b[92m-2.209404885743255\u001b[0m \t -2.209404885743255\n"
          ]
        }
      ]
    },
    {
      "cell_type": "code",
      "metadata": {
        "id": "6amuYlUdIv7r",
        "colab": {
          "base_uri": "https://localhost:8080/"
        },
        "outputId": "212db054-ed30-4d8d-8d98-fcaa1bf8400d"
      },
      "source": [
        "### EXACT GP EI GRADIENTS\n",
        "\n",
        "np.random.seed(run_num_10)\n",
        "surrogate_exact_10 = dGaussianProcess(cov_func, optimize=opt)\n",
        "\n",
        "exact_10 = dGPGO(surrogate_exact_10, Acquisition_new(util_grad_exact), objfunc, param)\n",
        "exact_10.run(init_evals=n_init, max_iter=iters)\n"
      ],
      "execution_count": 43,
      "outputs": [
        {
          "output_type": "stream",
          "name": "stdout",
          "text": [
            "Evaluation \t Proposed point \t  Current eval. \t Best eval.\n",
            "init   \t [6.56980965 0.31127924]. \t  -19.863985024602144 \t -2.710610964564512\n",
            "init   \t [ 4.50472352 11.23205824]. \t  -103.66999147252169 \t -2.710610964564512\n",
            "init   \t [2.47760518 3.37194968]. \t  -2.710610964564512 \t -2.710610964564512\n",
            "init   \t [-2.02905703 11.40796068]. \t  -8.463930835255017 \t -2.710610964564512\n",
            "init   \t [-2.46333745  1.32509721]. \t  -90.49481266026973 \t -2.710610964564512\n",
            "1      \t [ 9.16391068 14.81438212]. \t  -158.2412724465548 \t -2.710610964564512\n",
            "2      \t [9.65621089 6.61160737]. \t  -16.1339423373336 \t -2.710610964564512\n",
            "3      \t [-3.43070383  6.59407857]. \t  -41.58407101130534 \t -2.710610964564512\n",
            "4      \t [ 0.88935699 15.        ]. \t  -122.41215109414165 \t -2.710610964564512\n",
            "5      \t [5.26536588 6.20072713]. \t  -40.03620701932327 \t -2.710610964564512\n",
            "6      \t [1.92213987 0.        ]. \t  -18.37879825106868 \t -2.710610964564512\n",
            "7      \t [1.01053924 7.61607154]. \t  -24.665989186496116 \t -2.710610964564512\n",
            "8      \t [-5.         10.21830808]. \t  -61.29143932551239 \t -2.710610964564512\n",
            "9      \t [8.66639002 3.24709157]. \t  -4.818313385776879 \t -2.710610964564512\n",
            "10     \t [ 9.65909394 10.45045292]. \t  -61.04420944588237 \t -2.710610964564512\n",
            "11     \t [-0.11813422  4.32819926]. \t  -23.000817686586526 \t -2.710610964564512\n",
            "12     \t [-2.81080031 14.03406655]. \t  -7.369575348738235 \t -2.710610964564512\n",
            "13     \t [-5.          3.68736668]. \t  -194.97357280690682 \t -2.710610964564512\n",
            "14     \t [ 5.07149231 15.        ]. \t  -202.40678798834128 \t -2.710610964564512\n",
            "15     \t [ 0.65270233 11.25448685]. \t  -56.54423835184188 \t -2.710610964564512\n",
            "16     \t [4.22496607 3.13230536]. \t  -7.907083898974529 \t -2.710610964564512\n",
            "17     \t [-5.  0.]. \t  -308.12909601160663 \t -2.710610964564512\n",
            "18     \t [7.47449495 8.16356843]. \t  -60.374204689297216 \t -2.710610964564512\n",
            "19     \t [-1.60357815  8.90766039]. \t  -9.685824210275936 \t -2.710610964564512\n",
            "20     \t [8.74931877 1.75530217]. \t  \u001b[92m-2.5499481461498377\u001b[0m \t -2.5499481461498377\n"
          ]
        }
      ]
    },
    {
      "cell_type": "code",
      "metadata": {
        "id": "VwbLIP9cIv-F",
        "colab": {
          "base_uri": "https://localhost:8080/"
        },
        "outputId": "80a96504-c934-4a8e-bc69-b94a1652d10b"
      },
      "source": [
        "### EXACT GP EI GRADIENTS\n",
        "\n",
        "np.random.seed(run_num_11)\n",
        "surrogate_exact_11 = dGaussianProcess(cov_func, optimize=opt)\n",
        "\n",
        "exact_11 = dGPGO(surrogate_exact_11, Acquisition_new(util_grad_exact), objfunc, param)\n",
        "exact_11.run(init_evals=n_init, max_iter=iters)\n"
      ],
      "execution_count": 44,
      "outputs": [
        {
          "output_type": "stream",
          "name": "stdout",
          "text": [
            "Evaluation \t Proposed point \t  Current eval. \t Best eval.\n",
            "init   \t [-2.29595467  0.29212862]. \t  -104.49282729548965 \t -22.37435843952312\n",
            "init   \t [ 1.9482779  10.87400894]. \t  -62.47758067812407 \t -22.37435843952312\n",
            "init   \t [1.30305407 7.28140647]. \t  -22.37435843952312 \t -22.37435843952312\n",
            "init   \t [-4.80828778  7.31057411]. \t  -97.94503054415523 \t -22.37435843952312\n",
            "init   \t [ 9.12709979 12.76192634]. \t  -111.62900800771942 \t -22.37435843952312\n",
            "1      \t [6.94653631 0.95529646]. \t  \u001b[92m-17.615403152614682\u001b[0m \t -17.615403152614682\n",
            "2      \t [9.18257738 6.04096973]. \t  \u001b[92m-14.836006875517853\u001b[0m \t -14.836006875517853\n",
            "3      \t [2.57274635 0.        ]. \t  \u001b[92m-9.529930973982534\u001b[0m \t -9.529930973982534\n",
            "4      \t [6.00460921 9.21015297]. \t  -84.98773163386197 \t -9.529930973982534\n",
            "5      \t [ 4.56481756 15.        ]. \t  -192.82106325520704 \t -9.529930973982534\n",
            "6      \t [-2.55282032 11.48893614]. \t  \u001b[92m-2.355851786361381\u001b[0m \t -2.355851786361381\n",
            "7      \t [-0.17856056 14.6938284 ]. \t  -90.10223500036433 \t -2.355851786361381\n",
            "8      \t [4.98150475 4.49910886]. \t  -22.932068706913864 \t -2.355851786361381\n",
            "9      \t [0.35411845 3.60553491]. \t  -22.417985420590657 \t -2.355851786361381\n",
            "10     \t [-5.         11.10474342]. \t  -49.721979275267834 \t -2.355851786361381\n",
            "11     \t [10.          2.60885792]. \t  \u001b[92m-2.0984544353776142\u001b[0m \t -2.0984544353776142\n",
            "12     \t [-3.93034229 14.58689661]. \t  -3.345952665427384 \t -2.0984544353776142\n",
            "13     \t [-3.67846269  3.72242941]. \t  -99.36381932774619 \t -2.0984544353776142\n",
            "14     \t [9.6504002  9.27928699]. \t  -44.29890300478732 \t -2.0984544353776142\n",
            "15     \t [-1.47451292  9.21418425]. \t  -11.267140259877078 \t -2.0984544353776142\n",
            "16     \t [8.05899975 3.55094938]. \t  -11.99347451944957 \t -2.0984544353776142\n",
            "17     \t [-1.42176738  6.34606861]. \t  -16.168866953280318 \t -2.0984544353776142\n",
            "18     \t [4.44287258 1.40854061]. \t  -7.4482459345628715 \t -2.0984544353776142\n",
            "19     \t [-1.33026405 11.65190507]. \t  -23.21783350640895 \t -2.0984544353776142\n",
            "20     \t [9.54178163 1.51942402]. \t  \u001b[92m-1.578757780931653\u001b[0m \t -1.578757780931653\n"
          ]
        }
      ]
    },
    {
      "cell_type": "code",
      "metadata": {
        "id": "MlUNFjc-JTBY",
        "colab": {
          "base_uri": "https://localhost:8080/"
        },
        "outputId": "7593e55c-bce4-4bef-af90-efad52f5736c"
      },
      "source": [
        "### EXACT GP EI GRADIENTS\n",
        "\n",
        "np.random.seed(run_num_12)\n",
        "surrogate_exact_12 = dGaussianProcess(cov_func, optimize=opt)\n",
        "\n",
        "exact_12 = dGPGO(surrogate_exact_12, Acquisition_new(util_grad_exact), objfunc, param)\n",
        "exact_12.run(init_evals=n_init, max_iter=iters)\n"
      ],
      "execution_count": 45,
      "outputs": [
        {
          "output_type": "stream",
          "name": "stdout",
          "text": [
            "Evaluation \t Proposed point \t  Current eval. \t Best eval.\n",
            "init   \t [-2.68755736 11.10074545]. \t  -1.3827702760021356 \t -0.5499315281120278\n",
            "init   \t [-1.05027477  8.0060909 ]. \t  -14.81231853080056 \t -0.5499315281120278\n",
            "init   \t [-4.78137556 13.78120512]. \t  -18.401131000214548 \t -0.5499315281120278\n",
            "init   \t [8.51072281 0.50132141]. \t  -5.855172364344769 \t -0.5499315281120278\n",
            "init   \t [9.35424004 2.05813982]. \t  -0.5499315281120278 \t -0.5499315281120278\n",
            "1      \t [10.          4.30416863]. \t  -3.636293400304428 \t -0.5499315281120278\n",
            "2      \t [ 9.19833734 12.85785838]. \t  -112.3096138370831 \t -0.5499315281120278\n",
            "3      \t [-4.8799499   0.15657603]. \t  -290.0404981832191 \t -0.5499315281120278\n",
            "4      \t [1.89159848 0.57192205]. \t  -15.265125065727236 \t -0.5499315281120278\n",
            "5      \t [ 0.90630086 15.        ]. \t  -122.76062232846586 \t -0.5499315281120278\n",
            "6      \t [5.12931711 8.56003383]. \t  -67.54059008909404 \t -0.5499315281120278\n",
            "7      \t [-5.          5.52173819]. \t  -148.81048580932332 \t -0.5499315281120278\n",
            "8      \t [9.89973767 8.26181859]. \t  -30.158587066232805 \t -0.5499315281120278\n",
            "9      \t [5.3711041 3.6471751]. \t  -21.972142678364868 \t -0.5499315281120278\n",
            "10     \t [ 1.0975917  10.91270085]. \t  -56.67734848301535 \t -0.5499315281120278\n",
            "11     \t [1.62502615 4.29265053]. \t  -9.768785933951266 \t -0.5499315281120278\n",
            "12     \t [ 5.30353031 14.57708987]. \t  -194.4906108937172 \t -0.5499315281120278\n",
            "13     \t [-5.          9.75464779]. \t  -67.96896529781029 \t -0.5499315281120278\n",
            "14     \t [-1.49813353  2.93113609]. \t  -43.68098600079673 \t -0.5499315281120278\n",
            "15     \t [5.35281414 0.        ]. \t  -17.13522348395921 \t -0.5499315281120278\n",
            "16     \t [-2.18048368 13.40127771]. \t  -15.5023626879682 \t -0.5499315281120278\n",
            "17     \t [8.16055712 4.87103455]. \t  -17.703413008645587 \t -0.5499315281120278\n",
            "18     \t [1.87550812 7.20048732]. \t  -21.03985580536781 \t -0.5499315281120278\n",
            "19     \t [-1.28941592  0.        ]. \t  -81.00880459566105 \t -0.5499315281120278\n",
            "20     \t [8.6086809  2.39288741]. \t  -3.6925379571587786 \t -0.5499315281120278\n"
          ]
        }
      ]
    },
    {
      "cell_type": "code",
      "metadata": {
        "id": "9BsKdU9eJTFL",
        "colab": {
          "base_uri": "https://localhost:8080/"
        },
        "outputId": "90b1ecb6-449a-49d4-d7dd-411c4280ea67"
      },
      "source": [
        "### EXACT GP EI GRADIENTS\n",
        "\n",
        "np.random.seed(run_num_13)\n",
        "surrogate_exact_13 = dGaussianProcess(cov_func, optimize=opt)\n",
        "\n",
        "exact_13 = dGPGO(surrogate_exact_13, Acquisition_new(util_grad_exact), objfunc, param)\n",
        "exact_13.run(init_evals=n_init, max_iter=iters)\n"
      ],
      "execution_count": 46,
      "outputs": [
        {
          "output_type": "stream",
          "name": "stdout",
          "text": [
            "Evaluation \t Proposed point \t  Current eval. \t Best eval.\n",
            "init   \t [6.66553616 3.5631183 ]. \t  -24.823670200298267 \t -18.038943061558626\n",
            "init   \t [ 7.36417799 14.48623797]. \t  -188.7803334745195 \t -18.038943061558626\n",
            "init   \t [9.58901671 6.80173871]. \t  -18.038943061558626 \t -18.038943061558626\n",
            "init   \t [ 4.13563694 11.63289772]. \t  -104.87319703906111 \t -18.038943061558626\n",
            "init   \t [ 4.62420017 10.83027344]. \t  -98.03271225790056 \t -18.038943061558626\n",
            "1      \t [-3.51870171  3.68338658]. \t  -91.63196166423945 \t -18.038943061558626\n",
            "2      \t [-3.06562888 11.40851515]. \t  \u001b[92m-0.8943531028899869\u001b[0m \t -0.8943531028899869\n",
            "3      \t [2.22555486 0.        ]. \t  -13.748879685908804 \t -0.8943531028899869\n",
            "4      \t [1.45066852 6.21135436]. \t  -16.205579709602688 \t -0.8943531028899869\n",
            "5      \t [-0.02228696 13.86809438]. \t  -80.94871489112535 \t -0.8943531028899869\n",
            "6      \t [-5.          8.23487072]. \t  -92.87081848692483 \t -0.8943531028899869\n",
            "7      \t [-4.02680902 13.16145731]. \t  -5.722083744229461 \t -0.8943531028899869\n",
            "8      \t [10.         10.91369438]. \t  -64.52291284160819 \t -0.8943531028899869\n",
            "9      \t [-0.28061215  9.49941466]. \t  -28.484159027216815 \t -0.8943531028899869\n",
            "10     \t [-5.  0.]. \t  -308.12909601160663 \t -0.8943531028899869\n",
            "11     \t [10.          2.34599735]. \t  -2.3747361223132604 \t -0.8943531028899869\n",
            "12     \t [6.24187398 0.        ]. \t  -20.801513474250925 \t -0.8943531028899869\n",
            "13     \t [-0.91853332  0.05417786]. \t  -72.32923195798782 \t -0.8943531028899869\n",
            "14     \t [4.95892483 6.96208799]. \t  -44.57956724195146 \t -0.8943531028899869\n",
            "15     \t [1.79106437 3.11774465]. \t  -8.101028442110099 \t -0.8943531028899869\n",
            "16     \t [-1.53081736  6.53301352]. \t  -15.2506098159202 \t -0.8943531028899869\n",
            "17     \t [ 3.57262446 15.        ]. \t  -171.24324454941942 \t -0.8943531028899869\n",
            "18     \t [4.09160302 2.18729777]. \t  -4.702613105021526 \t -0.8943531028899869\n",
            "19     \t [-2.82270992 14.23183665]. \t  -8.226347310519897 \t -0.8943531028899869\n",
            "20     \t [-5.         11.52895879]. \t  -44.741259152213935 \t -0.8943531028899869\n"
          ]
        }
      ]
    },
    {
      "cell_type": "code",
      "metadata": {
        "id": "k6GjFBr1JTJf",
        "colab": {
          "base_uri": "https://localhost:8080/"
        },
        "outputId": "34226566-15a1-4e30-f18e-64c857fbbf99"
      },
      "source": [
        "### EXACT GP EI GRADIENTS\n",
        "\n",
        "np.random.seed(run_num_14)\n",
        "surrogate_exact_14 = dGaussianProcess(cov_func, optimize=opt)\n",
        "\n",
        "exact_14 = dGPGO(surrogate_exact_14, Acquisition_new(util_grad_exact), objfunc, param)\n",
        "exact_14.run(init_evals=n_init, max_iter=iters)\n"
      ],
      "execution_count": 47,
      "outputs": [
        {
          "output_type": "stream",
          "name": "stdout",
          "text": [
            "Evaluation \t Proposed point \t  Current eval. \t Best eval.\n",
            "init   \t [ 2.70915016 11.59747578]. \t  -81.58264375064097 \t -1.4149920024014744\n",
            "init   \t [8.05641529 0.12070423]. \t  -10.148649076616518 \t -1.4149920024014744\n",
            "init   \t [-0.35396112 14.36405609]. \t  -79.6056658956529 \t -1.4149920024014744\n",
            "init   \t [2.69675068 4.77426637]. \t  -5.855607664288365 \t -1.4149920024014744\n",
            "init   \t [3.08799906 3.31882414]. \t  -1.4149920024014744 \t -1.4149920024014744\n",
            "1      \t [10.          9.77645093]. \t  -47.82336603163646 \t -1.4149920024014744\n",
            "2      \t [-3.61083748  7.85924032]. \t  -32.481990179851884 \t -1.4149920024014744\n",
            "3      \t [-0.5369506  0.       ]. \t  -65.74814342277901 \t -1.4149920024014744\n",
            "4      \t [-5.          2.79941019]. \t  -219.7368526292818 \t -1.4149920024014744\n",
            "5      \t [ 7.44802367 15.        ]. \t  -201.14330599451142 \t -1.4149920024014744\n",
            "6      \t [10.          4.59999645]. \t  -4.493676938062892 \t -1.4149920024014744\n",
            "7      \t [5.98587267 7.36093484]. \t  -58.355663753592495 \t -1.4149920024014744\n",
            "8      \t [-5.         12.63504155]. \t  -33.447358508988735 \t -1.4149920024014744\n",
            "9      \t [3.62913725 0.78504437]. \t  -2.8172885458470347 \t -1.4149920024014744\n",
            "10     \t [-0.92286882  5.02927481]. \t  -22.295374006724398 \t -1.4149920024014744\n",
            "11     \t [5.66520582 3.51148633]. \t  -23.499284691946773 \t -1.4149920024014744\n",
            "12     \t [5.47902682e-03 8.75633362e+00]. \t  -27.247469367505623 \t -1.4149920024014744\n",
            "13     \t [ 7.06079375 10.44373538]. \t  -102.23605689432529 \t -1.4149920024014744\n",
            "14     \t [ 3.47985314 15.        ]. \t  -169.26705261180808 \t -1.4149920024014744\n",
            "15     \t [2.69495007 7.36669637]. \t  -23.595648177640996 \t -1.4149920024014744\n",
            "16     \t [9.95207006 2.25709482]. \t  -2.1901644304454075 \t -1.4149920024014744\n",
            "17     \t [5.39395526 0.        ]. \t  -17.427340475392214 \t -1.4149920024014744\n",
            "18     \t [1.19664153 2.88197951]. \t  -15.46521753633801 \t -1.4149920024014744\n",
            "19     \t [2.52291363 0.        ]. \t  -10.056538545265319 \t -1.4149920024014744\n",
            "20     \t [-1.75327579 10.99715305]. \t  -11.532236677476211 \t -1.4149920024014744\n"
          ]
        }
      ]
    },
    {
      "cell_type": "code",
      "metadata": {
        "id": "dPS8WB3aJTN6",
        "colab": {
          "base_uri": "https://localhost:8080/"
        },
        "outputId": "8ab00a24-2647-4025-d9a4-57d62b8360d8"
      },
      "source": [
        "### EXACT GP EI GRADIENTS\n",
        "\n",
        "np.random.seed(run_num_15)\n",
        "surrogate_exact_15 = dGaussianProcess(cov_func, optimize=opt)\n",
        "\n",
        "exact_15 = dGPGO(surrogate_exact_15, Acquisition_new(util_grad_exact), objfunc, param)\n",
        "exact_15.run(init_evals=n_init, max_iter=iters)\n"
      ],
      "execution_count": 48,
      "outputs": [
        {
          "output_type": "stream",
          "name": "stdout",
          "text": [
            "Evaluation \t Proposed point \t  Current eval. \t Best eval.\n",
            "init   \t [7.73226546 2.68343887]. \t  -12.768724532005583 \t -12.768724532005583\n",
            "init   \t [-4.18455179  5.42307669]. \t  -95.39334176626551 \t -12.768724532005583\n",
            "init   \t [-0.86898607  7.95000337]. \t  -16.419487782111716 \t -12.768724532005583\n",
            "init   \t [-0.41121626  4.56711539]. \t  -23.250362743740954 \t -12.768724532005583\n",
            "init   \t [-3.32388086  3.74848521]. \t  -80.99796277938532 \t -12.768724532005583\n",
            "1      \t [ 6.5655417  11.87699252]. \t  -134.95011349993544 \t -12.768724532005583\n",
            "2      \t [-4.77493765 13.49591113]. \t  -19.896906503438096 \t -12.768724532005583\n",
            "3      \t [ 1.21146284 15.        ]. \t  -128.69210522895327 \t -12.768724532005583\n",
            "4      \t [2.54720482 0.07864599]. \t  \u001b[92m-9.364642237420483\u001b[0m \t -9.364642237420483\n",
            "5      \t [9.99501649 7.39458825]. \t  -21.247060417486146 \t -9.364642237420483\n",
            "6      \t [4.31404749 6.82491505]. \t  -34.22443290077146 \t -9.364642237420483\n",
            "7      \t [10. 15.]. \t  -145.87219087939556 \t -9.364642237420483\n",
            "8      \t [-5.  0.]. \t  -308.12909601160663 \t -9.364642237420483\n",
            "9      \t [ 2.66617257 10.11516454]. \t  -56.81940669492865 \t -9.364642237420483\n",
            "10     \t [-1.72610592 11.93913724]. \t  -16.394254941736527 \t -9.364642237420483\n",
            "11     \t [-5.          9.57986674]. \t  -70.5977081150132 \t -9.364642237420483\n",
            "12     \t [3.04659233 3.38882768]. \t  \u001b[92m-1.5198224356961507\u001b[0m \t -1.5198224356961507\n",
            "13     \t [4.79604945 2.05583199]. \t  -11.317140877215444 \t -1.5198224356961507\n",
            "14     \t [-0.7917398   0.79845457]. \t  -59.55237534891786 \t -1.5198224356961507\n",
            "15     \t [ 5.04585578 15.        ]. \t  -201.97470559337938 \t -1.5198224356961507\n",
            "16     \t [7.85524398 5.33587102]. \t  -24.938229358955198 \t -1.5198224356961507\n",
            "17     \t [4.62657048 4.196267  ]. \t  -16.986025033517627 \t -1.5198224356961507\n",
            "18     \t [6.49499436 8.65173676]. \t  -76.22704893754491 \t -1.5198224356961507\n",
            "19     \t [10.         10.74804169]. \t  -61.929483646475184 \t -1.5198224356961507\n",
            "20     \t [5.91090547 0.        ]. \t  -20.16772803262576 \t -1.5198224356961507\n"
          ]
        }
      ]
    },
    {
      "cell_type": "code",
      "metadata": {
        "id": "SHWdp2giJTRm",
        "colab": {
          "base_uri": "https://localhost:8080/"
        },
        "outputId": "4987b191-3c06-4c27-bcdd-fbec6db8f54b"
      },
      "source": [
        "### EXACT GP EI GRADIENTS\n",
        "\n",
        "np.random.seed(run_num_16)\n",
        "surrogate_exact_16 = dGaussianProcess(cov_func, optimize=opt)\n",
        "\n",
        "exact_16 = dGPGO(surrogate_exact_16, Acquisition_new(util_grad_exact), objfunc, param)\n",
        "exact_16.run(init_evals=n_init, max_iter=iters)\n"
      ],
      "execution_count": 49,
      "outputs": [
        {
          "output_type": "stream",
          "name": "stdout",
          "text": [
            "Evaluation \t Proposed point \t  Current eval. \t Best eval.\n",
            "init   \t [-1.65063381  7.84745012]. \t  -10.514702126319445 \t -2.715864006988424\n",
            "init   \t [3.26052185 0.68402925]. \t  -2.715864006988424 \t -2.715864006988424\n",
            "init   \t [0.41093253 3.34621413]. \t  -22.889515127492515 \t -2.715864006988424\n",
            "init   \t [5.33089243 2.45597138]. \t  -17.178157611778595 \t -2.715864006988424\n",
            "init   \t [-3.945127  14.1151629]. \t  -3.3649224341694195 \t -2.715864006988424\n",
            "1      \t [ 5.63879248 14.58068289]. \t  -198.51319639462758 \t -2.715864006988424\n",
            "2      \t [-5.          0.77723009]. \t  -282.01611609418495 \t -2.715864006988424\n",
            "3      \t [10.          5.64059168]. \t  -8.900259472871072 \t -2.715864006988424\n",
            "4      \t [4.11243132 8.80009307]. \t  -55.85062737292923 \t -2.715864006988424\n",
            "5      \t [-5.         10.28108353]. \t  -60.42040928471845 \t -2.715864006988424\n",
            "6      \t [10.         10.86618331]. \t  -63.77347483313703 \t -2.715864006988424\n",
            "7      \t [ 0.36855248 15.        ]. \t  -110.5235155799474 \t -2.715864006988424\n",
            "8      \t [10. 15.]. \t  -145.87219087939556 \t -2.715864006988424\n",
            "9      \t [9.23747248 1.84803799]. \t  \u001b[92m-0.7900330342927973\u001b[0m \t -0.7900330342927973\n",
            "10     \t [-5.          5.59824037]. \t  -147.03144724539948 \t -0.7900330342927973\n",
            "11     \t [-0.83842475  0.        ]. \t  -71.55398468688438 \t -0.7900330342927973\n",
            "12     \t [-0.80051684 11.14198641]. \t  -31.013575234537626 \t -0.7900330342927973\n",
            "13     \t [5.77977349 5.80762428]. \t  -40.41552785003476 \t -0.7900330342927973\n",
            "14     \t [1.78699717 6.19323831]. \t  -14.829726049254672 \t -0.7900330342927973\n",
            "15     \t [ 2.6304753  11.96989331]. \t  -87.4197997882147 \t -0.7900330342927973\n",
            "16     \t [ 6.20068477 11.22115843]. \t  -122.0426638594104 \t -0.7900330342927973\n",
            "17     \t [8.52761474 3.1386196 ]. \t  -5.7428663031892935 \t -0.7900330342927973\n",
            "18     \t [10.          7.81186739]. \t  -25.068763583410494 \t -0.7900330342927973\n",
            "19     \t [-1.5732743   5.36355986]. \t  -21.948777977242358 \t -0.7900330342927973\n",
            "20     \t [6.82576035 0.        ]. \t  -19.557796077699535 \t -0.7900330342927973\n"
          ]
        }
      ]
    },
    {
      "cell_type": "code",
      "metadata": {
        "id": "yU2SflSsJTUs",
        "colab": {
          "base_uri": "https://localhost:8080/"
        },
        "outputId": "a7075ed6-982b-4774-ee6c-804954cc3963"
      },
      "source": [
        "### EXACT GP EI GRADIENTS\n",
        "\n",
        "np.random.seed(run_num_17)\n",
        "surrogate_exact_17 = dGaussianProcess(cov_func, optimize=opt)\n",
        "\n",
        "exact_17 = dGPGO(surrogate_exact_17, Acquisition_new(util_grad_exact), objfunc, param)\n",
        "exact_17.run(init_evals=n_init, max_iter=iters)\n"
      ],
      "execution_count": 50,
      "outputs": [
        {
          "output_type": "stream",
          "name": "stdout",
          "text": [
            "Evaluation \t Proposed point \t  Current eval. \t Best eval.\n",
            "init   \t [-0.58002496  7.95880133]. \t  -19.016141117164256 \t -19.016141117164256\n",
            "init   \t [-2.1271882   1.01850537]. \t  -85.05949339404415 \t -19.016141117164256\n",
            "init   \t [6.8047819  9.84500283]. \t  -93.89792695202516 \t -19.016141117164256\n",
            "init   \t [4.56281344 8.63404341]. \t  -60.50217141122736 \t -19.016141117164256\n",
            "init   \t [-4.41405626  5.36720407]. \t  -110.70834086593878 \t -19.016141117164256\n",
            "1      \t [9.76575296 0.98553483]. \t  \u001b[92m-4.1623278326263815\u001b[0m \t -4.1623278326263815\n",
            "2      \t [-0.36591853 14.49945231]. \t  -81.3728947682288 \t -4.1623278326263815\n",
            "3      \t [3.74599703 2.35814314]. \t  \u001b[92m-2.3563457989420957\u001b[0m \t -2.3563457989420957\n",
            "4      \t [10.         14.83591807]. \t  -141.96211758268552 \t -2.3563457989420957\n",
            "5      \t [9.40340415 5.54620471]. \t  -9.943082500300143 \t -2.3563457989420957\n",
            "6      \t [-5.         11.25245434]. \t  -47.94686011378975 \t -2.3563457989420957\n",
            "7      \t [ 4.99405377 14.31114788]. \t  -182.64524954946458 \t -2.3563457989420957\n",
            "8      \t [6.74191484 3.08550618]. \t  -22.387452178679112 \t -2.3563457989420957\n",
            "9      \t [1.94926006 0.        ]. \t  -17.934067106924154 \t -2.3563457989420957\n",
            "10     \t [1.4338906  4.08437962]. \t  -11.32065797281713 \t -2.3563457989420957\n",
            "11     \t [5.4647046 0.       ]. \t  -17.908158366978693 \t -2.3563457989420957\n",
            "12     \t [ 1.66730529 10.98834972]. \t  -62.11432572852553 \t -2.3563457989420957\n",
            "13     \t [-1.88173451 11.37504081]. \t  -10.759123501856408 \t -2.3563457989420957\n",
            "14     \t [10.          8.76832234]. \t  -35.182582675395 \t -2.3563457989420957\n",
            "15     \t [4.74574555 4.91239588]. \t  -22.96521350115981 \t -2.3563457989420957\n",
            "16     \t [-3.78333242 14.35012882]. \t  -2.5382597946617294 \t -2.3563457989420957\n",
            "17     \t [-1.05480413  4.73365754]. \t  -24.278643545439643 \t -2.3563457989420957\n",
            "18     \t [2.42421895 6.24637839]. \t  -13.95648427080459 \t -2.3563457989420957\n",
            "19     \t [-5.          1.80053186]. \t  -249.47823277397916 \t -2.3563457989420957\n",
            "20     \t [9.9683401  3.23455468]. \t  \u001b[92m-1.8509281105180317\u001b[0m \t -1.8509281105180317\n"
          ]
        }
      ]
    },
    {
      "cell_type": "code",
      "metadata": {
        "id": "es0KCh_0JTgY",
        "colab": {
          "base_uri": "https://localhost:8080/"
        },
        "outputId": "d2c837be-5313-4caf-8a8e-85c64a68e800"
      },
      "source": [
        "### EXACT GP EI GRADIENTS\n",
        "\n",
        "np.random.seed(run_num_18)\n",
        "surrogate_exact_18 = dGaussianProcess(cov_func, optimize=opt)\n",
        "\n",
        "exact_18 = dGPGO(surrogate_exact_18, Acquisition_new(util_grad_exact), objfunc, param)\n",
        "exact_18.run(init_evals=n_init, max_iter=iters)\n"
      ],
      "execution_count": 51,
      "outputs": [
        {
          "output_type": "stream",
          "name": "stdout",
          "text": [
            "Evaluation \t Proposed point \t  Current eval. \t Best eval.\n",
            "init   \t [4.75561363 7.58180061]. \t  -49.215059064668324 \t -8.150075223157177\n",
            "init   \t [8.17902206 2.72760338]. \t  -8.150075223157177 \t -8.150075223157177\n",
            "init   \t [ 7.78349603 11.25204429]. \t  -106.98107856533271 \t -8.150075223157177\n",
            "init   \t [ 4.99152501 14.81843172]. \t  -196.08601750690153 \t -8.150075223157177\n",
            "init   \t [-1.14547366  0.42458888]. \t  -71.23649635555944 \t -8.150075223157177\n",
            "1      \t [-4.83474958 11.77354131]. \t  -35.58412906267954 \t -8.150075223157177\n",
            "2      \t [-0.88714687  6.68331353]. \t  -16.754341712767037 \t -8.150075223157177\n",
            "3      \t [ 0.40302094 11.72808049]. \t  -59.1365688975808 \t -8.150075223157177\n",
            "4      \t [4.13002121 0.        ]. \t  \u001b[92m-7.376938799611018\u001b[0m \t -7.376938799611018\n",
            "5      \t [8.48364674 7.50515098]. \t  -36.945014181400296 \t -7.376938799611018\n",
            "6      \t [-5.          3.97721878]. \t  -187.23158425789862 \t -7.376938799611018\n",
            "7      \t [10. 15.]. \t  -145.87219087939556 \t -7.376938799611018\n",
            "8      \t [1.83138428 4.06672791]. \t  -7.826535807091696 \t -7.376938799611018\n",
            "9      \t [-4.19841693  8.08012361]. \t  -52.59933117941819 \t -7.376938799611018\n",
            "10     \t [-2.29293706 15.        ]. \t  -25.475818573938653 \t -7.376938799611018\n",
            "11     \t [10.          4.65671467]. \t  \u001b[92m-4.678056414221787\u001b[0m \t -4.678056414221787\n",
            "12     \t [-5.  0.]. \t  -308.12909601160663 \t -4.678056414221787\n",
            "13     \t [5.01719526 3.62620781]. \t  -18.44871439340674 \t -4.678056414221787\n",
            "14     \t [6.74784533 0.34160074]. \t  -19.225770999103382 \t -4.678056414221787\n",
            "15     \t [ 1.13499486 15.        ]. \t  -127.26265074463879 \t -4.678056414221787\n",
            "16     \t [1.65328081 8.06499564]. \t  -28.07198873578831 \t -4.678056414221787\n",
            "17     \t [10.          1.40746827]. \t  \u001b[92m-4.488723693543861\u001b[0m \t -4.488723693543861\n",
            "18     \t [2.14248974 1.40319926]. \t  -7.972801130422692 \t -4.488723693543861\n",
            "19     \t [ 4.13426605 10.84954384]. \t  -89.78694743140953 \t -4.488723693543861\n",
            "20     \t [-0.9520963   3.75586296]. \t  -30.596637067708595 \t -4.488723693543861\n"
          ]
        }
      ]
    },
    {
      "cell_type": "code",
      "metadata": {
        "id": "Pput2LHPIwBM",
        "colab": {
          "base_uri": "https://localhost:8080/"
        },
        "outputId": "fb57813a-6c42-4ad3-94fa-67d4c0603abf"
      },
      "source": [
        "### EXACT GP EI GRADIENTS\n",
        "\n",
        "np.random.seed(run_num_19)\n",
        "surrogate_exact_19 = dGaussianProcess(cov_func, optimize=opt)\n",
        "\n",
        "exact_19 = dGPGO(surrogate_exact_19, Acquisition_new(util_grad_exact), objfunc, param)\n",
        "exact_19.run(init_evals=n_init, max_iter=iters)\n"
      ],
      "execution_count": 52,
      "outputs": [
        {
          "output_type": "stream",
          "name": "stdout",
          "text": [
            "Evaluation \t Proposed point \t  Current eval. \t Best eval.\n",
            "init   \t [-3.53699597 11.41874575]. \t  -4.475608269502271 \t -4.475608269502271\n",
            "init   \t [-1.2959304   2.07197531]. \t  -51.13947793770689 \t -4.475608269502271\n",
            "init   \t [-0.02830155  1.24499348]. \t  -42.63973921760034 \t -4.475608269502271\n",
            "init   \t [ 5.07965622 12.09890697]. \t  -131.17235664506808 \t -4.475608269502271\n",
            "init   \t [9.74112872 9.53491102]. \t  -46.84458913925112 \t -4.475608269502271\n",
            "1      \t [9.57054653 2.03489665]. \t  \u001b[92m-0.8198597583535783\u001b[0m \t -0.8198597583535783\n",
            "2      \t [4.94894051 4.56545987]. \t  -22.995257753719198 \t -0.8198597583535783\n",
            "3      \t [-5.          6.36422973]. \t  -129.86390264478524 \t -0.8198597583535783\n",
            "4      \t [ 0.09498041 15.        ]. \t  -103.28134455168016 \t -0.8198597583535783\n",
            "5      \t [10. 15.]. \t  -145.87219087939556 \t -0.8198597583535783\n",
            "6      \t [0.40358398 9.24732989]. \t  -33.796833368862195 \t -0.8198597583535783\n",
            "7      \t [-5.  0.]. \t  -308.12909601160663 \t -0.8198597583535783\n",
            "8      \t [5.68108845 0.        ]. \t  -19.18521166389725 \t -0.8198597583535783\n",
            "9      \t [0.30159816 5.57804262]. \t  -19.170845607213394 \t -0.8198597583535783\n",
            "10     \t [10.          5.20709057]. \t  -6.801347178843366 \t -0.8198597583535783\n",
            "11     \t [5.01936262 8.08413677]. \t  -59.38699579735064 \t -0.8198597583535783\n",
            "12     \t [9.07231429e+00 4.81250788e-03]. \t  -5.779571738025267 \t -0.8198597583535783\n",
            "13     \t [3.26301061 1.54093348]. \t  -0.8798218733731975 \t -0.8198597583535783\n",
            "14     \t [7.86401324 2.93253008]. \t  -12.033456692617165 \t -0.8198597583535783\n",
            "15     \t [-3.64416928 14.12327325]. \t  -1.9547017806646618 \t -0.8198597583535783\n",
            "16     \t [2.57574717 2.93460874]. \t  -1.9258318767428104 \t -0.8198597583535783\n",
            "17     \t [-2.7304674   9.10988432]. \t  -6.033257415446245 \t -0.8198597583535783\n",
            "18     \t [ 2.77491735e+00 -3.46944695e-18]. \t  -7.6839480534918 \t -0.8198597583535783\n",
            "19     \t [ 1.56525369 11.98953179]. \t  -76.70747871433251 \t -0.8198597583535783\n",
            "20     \t [ 6.49261328 15.        ]. \t  -212.2596194543406 \t -0.8198597583535783\n"
          ]
        }
      ]
    },
    {
      "cell_type": "code",
      "metadata": {
        "id": "aw3xvSryIwDi",
        "colab": {
          "base_uri": "https://localhost:8080/"
        },
        "outputId": "c08c6764-6156-4d72-c16d-2ddb84c287ec"
      },
      "source": [
        "### EXACT GP EI GRADIENTS\n",
        "\n",
        "np.random.seed(run_num_20)\n",
        "surrogate_exact_20 = dGaussianProcess(cov_func, optimize=opt)\n",
        "\n",
        "exact_20 = dGPGO(surrogate_exact_20, Acquisition_new(util_grad_exact), objfunc, param)\n",
        "exact_20.run(init_evals=n_init, max_iter=iters)\n"
      ],
      "execution_count": 53,
      "outputs": [
        {
          "output_type": "stream",
          "name": "stdout",
          "text": [
            "Evaluation \t Proposed point \t  Current eval. \t Best eval.\n",
            "init   \t [ 3.82196202 13.46570592]. \t  -138.5264349938869 \t -14.042667401507376\n",
            "init   \t [ 8.37296094 12.23756216]. \t  -115.63178540512689 \t -14.042667401507376\n",
            "init   \t [-4.46165622 10.37636373]. \t  -35.66708529307584 \t -14.042667401507376\n",
            "init   \t [0.68021413 7.77766418]. \t  -25.307769914281764 \t -14.042667401507376\n",
            "init   \t [4.86927198 2.90775327]. \t  -14.042667401507376 \t -14.042667401507376\n",
            "1      \t [0.14992375 0.        ]. \t  -52.72147028896617 \t -14.042667401507376\n",
            "2      \t [10.          5.64843486]. \t  \u001b[92m-8.941695868504478\u001b[0m \t -8.941695868504478\n",
            "3      \t [-5.          4.78158886]. \t  -166.62691093349147 \t -8.941695868504478\n",
            "4      \t [-1.63829278 15.        ]. \t  -45.904618236352135 \t -8.941695868504478\n",
            "5      \t [-5.  0.]. \t  -308.12909601160663 \t -8.941695868504478\n",
            "6      \t [9.19905437 0.83066952]. \t  \u001b[92m-2.7745590618899953\u001b[0m \t -2.7745590618899953\n",
            "7      \t [5.49750575 7.93367069]. \t  -62.74176826269286 \t -2.7745590618899953\n",
            "8      \t [-0.19836529 11.38819928]. \t  -45.09243803887311 \t -2.7745590618899953\n",
            "9      \t [0.88468715 3.96970492]. \t  -16.60652140693854 \t -2.7745590618899953\n",
            "10     \t [5.55724611 0.        ]. \t  -18.492151482084388 \t -2.7745590618899953\n",
            "11     \t [9.74424848 8.75814955]. \t  -36.88955250345149 \t -2.7745590618899953\n",
            "12     \t [-4.77113279 13.58747377]. \t  -19.247007172785988 \t -2.7745590618899953\n",
            "13     \t [8.05345736 3.33842411]. \t  -11.255828251772451 \t -2.7745590618899953\n",
            "14     \t [-2.12938883  6.95872328]. \t  -14.007595279867672 \t -2.7745590618899953\n",
            "15     \t [10. 15.]. \t  -145.87219087939556 \t -2.7745590618899953\n",
            "16     \t [ 2.55505537 10.27549555]. \t  -58.23230833096726 \t -2.7745590618899953\n",
            "17     \t [3.06181857e+00 3.43214913e-16]. \t  -5.894830733127525 \t -2.7745590618899953\n",
            "18     \t [-1.9357317  2.8098923]. \t  -52.20289603333961 \t -2.7745590618899953\n",
            "19     \t [5.36894926 5.07186919]. \t  -31.016494279611152 \t -2.7745590618899953\n",
            "20     \t [2.6667149 6.0110846]. \t  -12.593371005639783 \t -2.7745590618899953\n"
          ]
        }
      ]
    },
    {
      "cell_type": "code",
      "metadata": {
        "id": "qNqAB3vBTPqb",
        "colab": {
          "base_uri": "https://localhost:8080/"
        },
        "outputId": "b7a86c72-f1db-4a3b-e9ad-8843925c67dd"
      },
      "source": [
        "end_exact = time.time()\n",
        "end_exact\n",
        "\n",
        "time_exact = end_exact - start_exact\n",
        "time_exact"
      ],
      "execution_count": 54,
      "outputs": [
        {
          "output_type": "execute_result",
          "data": {
            "text/plain": [
              "403.4137601852417"
            ]
          },
          "metadata": {},
          "execution_count": 54
        }
      ]
    },
    {
      "cell_type": "code",
      "metadata": {
        "id": "JPQzjdBZQxfg",
        "colab": {
          "base_uri": "https://localhost:8080/"
        },
        "outputId": "7e8766cf-1c46-4908-abff-214fd471c22f"
      },
      "source": [
        "### Simple regret minimization: run number = 1\n",
        "\n",
        "approx_output_1 = np.append(np.min(approx_1.GP.y[0:n_init]),approx_1.GP.y[n_init:(n_init+iters)]) \n",
        "exact_output_1 = np.append(np.min(exact_1.GP.y[0:n_init]),exact_1.GP.y[n_init:(n_init+iters)]) \n",
        "\n",
        "regret_approx_1 = np.log(-approx_output_1 + y_global_orig)\n",
        "regret_exact_1 = np.log(-exact_output_1 + y_global_orig)\n",
        "\n",
        "simple_regret_approx_1 = min_max_array(regret_approx_1)\n",
        "simple_regret_exact_1 = min_max_array(regret_exact_1)\n",
        "\n",
        "min_simple_regret_approx_1 = min(simple_regret_approx_1)\n",
        "min_simple_regret_exact_1 = min(simple_regret_exact_1)\n",
        "\n",
        "min_simple_regret_approx_1, min_simple_regret_exact_1"
      ],
      "execution_count": 55,
      "outputs": [
        {
          "output_type": "execute_result",
          "data": {
            "text/plain": [
              "(1.3700178942367358, 0.46478419991547426)"
            ]
          },
          "metadata": {},
          "execution_count": 55
        }
      ]
    },
    {
      "cell_type": "code",
      "metadata": {
        "id": "94yBw5tqQxfk",
        "colab": {
          "base_uri": "https://localhost:8080/"
        },
        "outputId": "64612340-ba66-4c04-e034-e309c9d9b4f1"
      },
      "source": [
        "### Simple regret minimization: run number = 2\n",
        "\n",
        "approx_output_2 = np.append(np.min(approx_2.GP.y[0:n_init]),approx_2.GP.y[n_init:(n_init+iters)]) \n",
        "exact_output_2 = np.append(np.min(exact_2.GP.y[0:n_init]),exact_2.GP.y[n_init:(n_init+iters)]) \n",
        "\n",
        "regret_approx_2 = np.log(-approx_output_2 + y_global_orig)\n",
        "regret_exact_2 = np.log(-exact_output_2 + y_global_orig)\n",
        "\n",
        "simple_regret_approx_2 = min_max_array(regret_approx_2)\n",
        "simple_regret_exact_2 = min_max_array(regret_exact_2)\n",
        "\n",
        "min_simple_regret_approx_2 = min(simple_regret_approx_2)\n",
        "min_simple_regret_exact_2 = min(simple_regret_exact_2)\n",
        "\n",
        "min_simple_regret_approx_2, min_simple_regret_exact_2"
      ],
      "execution_count": 56,
      "outputs": [
        {
          "output_type": "execute_result",
          "data": {
            "text/plain": [
              "(0.0005721783316311656, 0.0005721783316311656)"
            ]
          },
          "metadata": {},
          "execution_count": 56
        }
      ]
    },
    {
      "cell_type": "code",
      "metadata": {
        "id": "Bu6SBWALQxfl",
        "colab": {
          "base_uri": "https://localhost:8080/"
        },
        "outputId": "afcdbdd0-c667-4512-e2b9-a97c1fc71ba3"
      },
      "source": [
        "### Simple regret minimization: run number = 3\n",
        "\n",
        "approx_output_3 = np.append(np.min(approx_3.GP.y[0:n_init]),approx_3.GP.y[n_init:(n_init+iters)]) \n",
        "exact_output_3 = np.append(np.min(exact_3.GP.y[0:n_init]),exact_3.GP.y[n_init:(n_init+iters)]) \n",
        "\n",
        "regret_approx_3 = np.log(-approx_output_3 + y_global_orig)\n",
        "regret_exact_3 = np.log(-exact_output_3 + y_global_orig)\n",
        "\n",
        "simple_regret_approx_3 = min_max_array(regret_approx_3)\n",
        "simple_regret_exact_3 = min_max_array(regret_exact_3)\n",
        "\n",
        "min_simple_regret_approx_3 = min(simple_regret_approx_3)\n",
        "min_simple_regret_exact_3 = min(simple_regret_exact_3)\n",
        "\n",
        "min_simple_regret_approx_3, min_simple_regret_exact_3"
      ],
      "execution_count": 57,
      "outputs": [
        {
          "output_type": "execute_result",
          "data": {
            "text/plain": [
              "(0.588697756495755, 0.4731038364901392)"
            ]
          },
          "metadata": {},
          "execution_count": 57
        }
      ]
    },
    {
      "cell_type": "code",
      "metadata": {
        "id": "AZm0jgxkQxfm",
        "colab": {
          "base_uri": "https://localhost:8080/"
        },
        "outputId": "4509530a-25de-4feb-9e8d-e4c562b66b7c"
      },
      "source": [
        "### Simple regret minimization: run number = 4\n",
        "\n",
        "approx_output_4 = np.append(np.min(approx_4.GP.y[0:n_init]),approx_4.GP.y[n_init:(n_init+iters)]) \n",
        "exact_output_4 = np.append(np.min(exact_4.GP.y[0:n_init]),exact_4.GP.y[n_init:(n_init+iters)]) \n",
        "\n",
        "regret_approx_4 = np.log(-approx_output_4 + y_global_orig)\n",
        "regret_exact_4 = np.log(-exact_output_4 + y_global_orig)\n",
        "\n",
        "simple_regret_approx_4 = min_max_array(regret_approx_4)\n",
        "simple_regret_exact_4 = min_max_array(regret_exact_4)\n",
        "\n",
        "min_simple_regret_approx_4 = min(simple_regret_approx_4)\n",
        "min_simple_regret_exact_4 = min(simple_regret_exact_4)\n",
        "\n",
        "min_simple_regret_approx_4, min_simple_regret_exact_4"
      ],
      "execution_count": 58,
      "outputs": [
        {
          "output_type": "execute_result",
          "data": {
            "text/plain": [
              "(0.9093022047308048, 0.12738866825647704)"
            ]
          },
          "metadata": {},
          "execution_count": 58
        }
      ]
    },
    {
      "cell_type": "code",
      "metadata": {
        "id": "NONPm8JIQxfn",
        "colab": {
          "base_uri": "https://localhost:8080/"
        },
        "outputId": "77982f3e-9886-4191-9a2d-ff9dc0090d6d"
      },
      "source": [
        "### Simple regret minimization: run number = 5\n",
        "\n",
        "approx_output_5 = np.append(np.min(approx_5.GP.y[0:n_init]),approx_5.GP.y[n_init:(n_init+iters)]) \n",
        "exact_output_5 = np.append(np.min(exact_5.GP.y[0:n_init]),exact_5.GP.y[n_init:(n_init+iters)]) \n",
        "\n",
        "regret_approx_5 = np.log(-approx_output_5 + y_global_orig)\n",
        "regret_exact_5 = np.log(-exact_output_5 + y_global_orig)\n",
        "\n",
        "simple_regret_approx_5 = min_max_array(regret_approx_5)\n",
        "simple_regret_exact_5 = min_max_array(regret_exact_5)\n",
        "\n",
        "min_simple_regret_approx_5 = min(simple_regret_approx_5)\n",
        "min_simple_regret_exact_5 = min(simple_regret_exact_5)\n",
        "\n",
        "min_simple_regret_approx_5, min_simple_regret_exact_5"
      ],
      "execution_count": 59,
      "outputs": [
        {
          "output_type": "execute_result",
          "data": {
            "text/plain": [
              "(1.2009499928706422, 0.27985622966475754)"
            ]
          },
          "metadata": {},
          "execution_count": 59
        }
      ]
    },
    {
      "cell_type": "code",
      "metadata": {
        "id": "CJv3lPuSQxfp",
        "colab": {
          "base_uri": "https://localhost:8080/"
        },
        "outputId": "03b139f9-95ac-401b-947b-e0bbb152746b"
      },
      "source": [
        "### Simple regret minimization: run number = 6\n",
        "\n",
        "approx_output_6 = np.append(np.min(approx_6.GP.y[0:n_init]),approx_6.GP.y[n_init:(n_init+iters)]) \n",
        "exact_output_6 = np.append(np.min(exact_6.GP.y[0:n_init]),exact_6.GP.y[n_init:(n_init+iters)]) \n",
        "\n",
        "regret_approx_6 = np.log(-approx_output_6 + y_global_orig)\n",
        "regret_exact_6 = np.log(-exact_output_6 + y_global_orig)\n",
        "\n",
        "simple_regret_approx_6 = min_max_array(regret_approx_6)\n",
        "simple_regret_exact_6 = min_max_array(regret_exact_6)\n",
        "\n",
        "min_simple_regret_approx_6 = min(simple_regret_approx_6)\n",
        "min_simple_regret_exact_6 = min(simple_regret_exact_6)\n",
        "\n",
        "min_simple_regret_approx_6, min_simple_regret_exact_6"
      ],
      "execution_count": 60,
      "outputs": [
        {
          "output_type": "execute_result",
          "data": {
            "text/plain": [
              "(0.18698229369438288, -0.7853730592494456)"
            ]
          },
          "metadata": {},
          "execution_count": 60
        }
      ]
    },
    {
      "cell_type": "code",
      "metadata": {
        "id": "quR2ZyApQxfq",
        "colab": {
          "base_uri": "https://localhost:8080/"
        },
        "outputId": "0c339f3d-713a-4c53-82bf-832b74f30a37"
      },
      "source": [
        "### Simple regret minimization: run number = 7\n",
        "\n",
        "approx_output_7 = np.append(np.min(approx_7.GP.y[0:n_init]),approx_7.GP.y[n_init:(n_init+iters)]) \n",
        "exact_output_7 = np.append(np.min(exact_7.GP.y[0:n_init]),exact_7.GP.y[n_init:(n_init+iters)]) \n",
        "\n",
        "regret_approx_7 = np.log(-approx_output_7 + y_global_orig)\n",
        "regret_exact_7 = np.log(-exact_output_7 + y_global_orig)\n",
        "\n",
        "simple_regret_approx_7 = min_max_array(regret_approx_7)\n",
        "simple_regret_exact_7 = min_max_array(regret_exact_7)\n",
        "\n",
        "min_simple_regret_approx_7 = min(simple_regret_approx_7)\n",
        "min_simple_regret_exact_7 = min(simple_regret_exact_7)\n",
        "\n",
        "min_simple_regret_approx_7, min_simple_regret_exact_7"
      ],
      "execution_count": 61,
      "outputs": [
        {
          "output_type": "execute_result",
          "data": {
            "text/plain": [
              "(0.786821071388407, 0.4063344773198416)"
            ]
          },
          "metadata": {},
          "execution_count": 61
        }
      ]
    },
    {
      "cell_type": "code",
      "metadata": {
        "id": "99wY5nK6Qxfr",
        "colab": {
          "base_uri": "https://localhost:8080/"
        },
        "outputId": "45f35bf5-c8ff-4f03-9441-427a3f08a550"
      },
      "source": [
        "### Simple regret minimization: run number = 8\n",
        "\n",
        "approx_output_8 = np.append(np.min(approx_8.GP.y[0:n_init]),approx_8.GP.y[n_init:(n_init+iters)]) \n",
        "exact_output_8 = np.append(np.min(exact_8.GP.y[0:n_init]),exact_8.GP.y[n_init:(n_init+iters)]) \n",
        "\n",
        "regret_approx_8 = np.log(-approx_output_8 + y_global_orig)\n",
        "regret_exact_8 = np.log(-exact_output_8 + y_global_orig)\n",
        "\n",
        "simple_regret_approx_8 = min_max_array(regret_approx_8)\n",
        "simple_regret_exact_8 = min_max_array(regret_exact_8)\n",
        "\n",
        "min_simple_regret_approx_8 = min(simple_regret_approx_8)\n",
        "min_simple_regret_exact_8 = min(simple_regret_exact_8)\n",
        "\n",
        "min_simple_regret_approx_8, min_simple_regret_exact_8"
      ],
      "execution_count": 62,
      "outputs": [
        {
          "output_type": "execute_result",
          "data": {
            "text/plain": [
              "(1.0741475700758296, 0.4572820101202621)"
            ]
          },
          "metadata": {},
          "execution_count": 62
        }
      ]
    },
    {
      "cell_type": "code",
      "metadata": {
        "id": "qt0P5t9qQxfs",
        "colab": {
          "base_uri": "https://localhost:8080/"
        },
        "outputId": "d266b799-990d-45a1-a789-451adeb1452f"
      },
      "source": [
        "### Simple regret minimization: run number = 9\n",
        "\n",
        "approx_output_9 = np.append(np.min(approx_9.GP.y[0:n_init]),approx_9.GP.y[n_init:(n_init+iters)]) \n",
        "exact_output_9 = np.append(np.min(exact_9.GP.y[0:n_init]),exact_9.GP.y[n_init:(n_init+iters)]) \n",
        "\n",
        "regret_approx_9 = np.log(-approx_output_9 + y_global_orig)\n",
        "regret_exact_9 = np.log(-exact_output_9 + y_global_orig)\n",
        "\n",
        "simple_regret_approx_9 = min_max_array(regret_approx_9)\n",
        "simple_regret_exact_9 = min_max_array(regret_exact_9)\n",
        "\n",
        "min_simple_regret_approx_9 = min(simple_regret_approx_9)\n",
        "min_simple_regret_exact_9 = min(simple_regret_exact_9)\n",
        "\n",
        "min_simple_regret_approx_9, min_simple_regret_exact_9"
      ],
      "execution_count": 63,
      "outputs": [
        {
          "output_type": "execute_result",
          "data": {
            "text/plain": [
              "(0.4530317897890098, 0.5941651047479486)"
            ]
          },
          "metadata": {},
          "execution_count": 63
        }
      ]
    },
    {
      "cell_type": "code",
      "metadata": {
        "id": "vx8to9stQxft",
        "colab": {
          "base_uri": "https://localhost:8080/"
        },
        "outputId": "2b18f5d4-af6b-4686-a409-f57addfd3ef2"
      },
      "source": [
        "### Simple regret minimization: run number = 10\n",
        "\n",
        "approx_output_10 = np.append(np.min(approx_10.GP.y[0:n_init]),approx_10.GP.y[n_init:(n_init+iters)]) \n",
        "exact_output_10 = np.append(np.min(exact_10.GP.y[0:n_init]),exact_10.GP.y[n_init:(n_init+iters)]) \n",
        "\n",
        "regret_approx_10 = np.log(-approx_output_10 + y_global_orig)\n",
        "regret_exact_10 = np.log(-exact_output_10 + y_global_orig)\n",
        "\n",
        "simple_regret_approx_10 = min_max_array(regret_approx_10)\n",
        "simple_regret_exact_10 = min_max_array(regret_exact_10)\n",
        "\n",
        "min_simple_regret_approx_10 = min(simple_regret_approx_10)\n",
        "min_simple_regret_exact_10 = min(simple_regret_exact_10)\n",
        "\n",
        "min_simple_regret_approx_10, min_simple_regret_exact_10"
      ],
      "execution_count": 64,
      "outputs": [
        {
          "output_type": "execute_result",
          "data": {
            "text/plain": [
              "(0.6062684931422699, 0.7664260555342787)"
            ]
          },
          "metadata": {},
          "execution_count": 64
        }
      ]
    },
    {
      "cell_type": "code",
      "metadata": {
        "id": "d-FGzWyHQxfu",
        "colab": {
          "base_uri": "https://localhost:8080/"
        },
        "outputId": "daef7027-c033-45bc-ee28-eebfead1815c"
      },
      "source": [
        "### Simple regret minimization: run number = 11\n",
        "\n",
        "approx_output_11 = np.append(np.min(approx_11.GP.y[0:n_init]),approx_11.GP.y[n_init:(n_init+iters)]) \n",
        "exact_output_11 = np.append(np.min(exact_11.GP.y[0:n_init]),exact_11.GP.y[n_init:(n_init+iters)]) \n",
        "\n",
        "regret_approx_11 = np.log(-approx_output_11 + y_global_orig)\n",
        "regret_exact_11 = np.log(-exact_output_11 + y_global_orig)\n",
        "\n",
        "simple_regret_approx_11 = min_max_array(regret_approx_11)\n",
        "simple_regret_exact_11 = min_max_array(regret_exact_11)\n",
        "\n",
        "min_simple_regret_approx_11 = min(simple_regret_approx_11)\n",
        "min_simple_regret_exact_11 = min(simple_regret_exact_11)\n",
        "\n",
        "min_simple_regret_approx_11, min_simple_regret_exact_11"
      ],
      "execution_count": 65,
      "outputs": [
        {
          "output_type": "execute_result",
          "data": {
            "text/plain": [
              "(0.4375408915546775, 0.16625211626847494)"
            ]
          },
          "metadata": {},
          "execution_count": 65
        }
      ]
    },
    {
      "cell_type": "code",
      "metadata": {
        "id": "SvtsssyjQxfv",
        "colab": {
          "base_uri": "https://localhost:8080/"
        },
        "outputId": "25c19567-e517-4f00-9416-3ae2b548a6ef"
      },
      "source": [
        "### Simple regret minimization: run number = 12\n",
        "\n",
        "approx_output_12 = np.append(np.min(approx_12.GP.y[0:n_init]),approx_12.GP.y[n_init:(n_init+iters)]) \n",
        "exact_output_12 = np.append(np.min(exact_12.GP.y[0:n_init]),exact_12.GP.y[n_init:(n_init+iters)]) \n",
        "\n",
        "regret_approx_12 = np.log(-approx_output_12 + y_global_orig)\n",
        "regret_exact_12 = np.log(-exact_output_12 + y_global_orig)\n",
        "\n",
        "simple_regret_approx_12 = min_max_array(regret_approx_12)\n",
        "simple_regret_exact_12 = min_max_array(regret_exact_12)\n",
        "\n",
        "min_simple_regret_approx_12 = min(simple_regret_approx_12)\n",
        "min_simple_regret_exact_12 = min(simple_regret_exact_12)\n",
        "\n",
        "min_simple_regret_approx_12, min_simple_regret_exact_12"
      ],
      "execution_count": 66,
      "outputs": [
        {
          "output_type": "execute_result",
          "data": {
            "text/plain": [
              "(-0.415680339000338, 1.1750813570475924)"
            ]
          },
          "metadata": {},
          "execution_count": 66
        }
      ]
    },
    {
      "cell_type": "code",
      "metadata": {
        "id": "K6OiGcHkQxfw",
        "colab": {
          "base_uri": "https://localhost:8080/"
        },
        "outputId": "f398b279-f21c-4677-a792-895b02b355fc"
      },
      "source": [
        "### Simple regret minimization: run number = 13\n",
        "\n",
        "approx_output_13 = np.append(np.min(approx_13.GP.y[0:n_init]),approx_13.GP.y[n_init:(n_init+iters)]) \n",
        "exact_output_13 = np.append(np.min(exact_13.GP.y[0:n_init]),exact_13.GP.y[n_init:(n_init+iters)]) \n",
        "\n",
        "regret_approx_13 = np.log(-approx_output_13 + y_global_orig)\n",
        "regret_exact_13 = np.log(-exact_output_13 + y_global_orig)\n",
        "\n",
        "simple_regret_approx_13 = min_max_array(regret_approx_13)\n",
        "simple_regret_exact_13 = min_max_array(regret_exact_13)\n",
        "\n",
        "min_simple_regret_approx_13 = min(simple_regret_approx_13)\n",
        "min_simple_regret_exact_13 = min(simple_regret_exact_13)\n",
        "\n",
        "min_simple_regret_approx_13, min_simple_regret_exact_13"
      ],
      "execution_count": 67,
      "outputs": [
        {
          "output_type": "execute_result",
          "data": {
            "text/plain": [
              "(-0.7002400699524578, -0.7002400699524578)"
            ]
          },
          "metadata": {},
          "execution_count": 67
        }
      ]
    },
    {
      "cell_type": "code",
      "metadata": {
        "id": "ogML73shQxfx",
        "colab": {
          "base_uri": "https://localhost:8080/"
        },
        "outputId": "050ec0e0-d5ca-4fb6-a5a9-be998f9ed619"
      },
      "source": [
        "### Simple regret minimization: run number = 14\n",
        "\n",
        "approx_output_14 = np.append(np.min(approx_14.GP.y[0:n_init]),approx_14.GP.y[n_init:(n_init+iters)]) \n",
        "exact_output_14 = np.append(np.min(exact_14.GP.y[0:n_init]),exact_14.GP.y[n_init:(n_init+iters)]) \n",
        "\n",
        "regret_approx_14 = np.log(-approx_output_14 + y_global_orig)\n",
        "regret_exact_14 = np.log(-exact_output_14 + y_global_orig)\n",
        "\n",
        "simple_regret_approx_14 = min_max_array(regret_approx_14)\n",
        "simple_regret_exact_14 = min_max_array(regret_exact_14)\n",
        "\n",
        "min_simple_regret_approx_14 = min(simple_regret_approx_14)\n",
        "min_simple_regret_exact_14 = min(simple_regret_exact_14)\n",
        "\n",
        "min_simple_regret_approx_14, min_simple_regret_exact_14"
      ],
      "execution_count": 68,
      "outputs": [
        {
          "output_type": "execute_result",
          "data": {
            "text/plain": [
              "(-0.6986099945532999, 0.5834871186667312)"
            ]
          },
          "metadata": {},
          "execution_count": 68
        }
      ]
    },
    {
      "cell_type": "code",
      "metadata": {
        "id": "9Eg7gFT9Qxfx",
        "colab": {
          "base_uri": "https://localhost:8080/"
        },
        "outputId": "66d247d5-a266-4f51-fee8-178ea9cb65c8"
      },
      "source": [
        "### Simple regret minimization: run number = 15\n",
        "\n",
        "approx_output_15 = np.append(np.min(approx_15.GP.y[0:n_init]),approx_15.GP.y[n_init:(n_init+iters)]) \n",
        "exact_output_15 = np.append(np.min(exact_15.GP.y[0:n_init]),exact_15.GP.y[n_init:(n_init+iters)]) \n",
        "\n",
        "regret_approx_15 = np.log(-approx_output_15 + y_global_orig)\n",
        "regret_exact_15 = np.log(-exact_output_15 + y_global_orig)\n",
        "\n",
        "simple_regret_approx_15 = min_max_array(regret_approx_15)\n",
        "simple_regret_exact_15 = min_max_array(regret_exact_15)\n",
        "\n",
        "min_simple_regret_approx_15 = min(simple_regret_approx_15)\n",
        "min_simple_regret_exact_15 = min(simple_regret_exact_15)\n",
        "\n",
        "min_simple_regret_approx_15, min_simple_regret_exact_15"
      ],
      "execution_count": 69,
      "outputs": [
        {
          "output_type": "execute_result",
          "data": {
            "text/plain": [
              "(0.7616318484426097, 0.11505526150196381)"
            ]
          },
          "metadata": {},
          "execution_count": 69
        }
      ]
    },
    {
      "cell_type": "code",
      "metadata": {
        "id": "lIAC1U7ZQxfy",
        "colab": {
          "base_uri": "https://localhost:8080/"
        },
        "outputId": "a847bd07-0b02-4ff2-ff88-4ea97909e8e0"
      },
      "source": [
        "### Simple regret minimization: run number = 16\n",
        "\n",
        "approx_output_16 = np.append(np.min(approx_16.GP.y[0:n_init]),approx_16.GP.y[n_init:(n_init+iters)]) \n",
        "exact_output_16 = np.append(np.min(exact_16.GP.y[0:n_init]),exact_16.GP.y[n_init:(n_init+iters)]) \n",
        "\n",
        "regret_approx_16 = np.log(-approx_output_16 + y_global_orig)\n",
        "regret_exact_16 = np.log(-exact_output_16 + y_global_orig)\n",
        "\n",
        "simple_regret_approx_16 = min_max_array(regret_approx_16)\n",
        "simple_regret_exact_16 = min_max_array(regret_exact_16)\n",
        "\n",
        "min_simple_regret_approx_16 = min(simple_regret_approx_16)\n",
        "min_simple_regret_exact_16 = min(simple_regret_exact_16)\n",
        "\n",
        "min_simple_regret_approx_16, min_simple_regret_exact_16"
      ],
      "execution_count": 70,
      "outputs": [
        {
          "output_type": "execute_result",
          "data": {
            "text/plain": [
              "(0.828857760742628, -0.9361209721049353)"
            ]
          },
          "metadata": {},
          "execution_count": 70
        }
      ]
    },
    {
      "cell_type": "code",
      "metadata": {
        "id": "bGott36OQxfz",
        "colab": {
          "base_uri": "https://localhost:8080/"
        },
        "outputId": "cd365b7b-b6cb-49bb-ea06-6838a1a0e382"
      },
      "source": [
        "### Simple regret minimization: run number = 17\n",
        "\n",
        "approx_output_17 = np.append(np.min(approx_17.GP.y[0:n_init]),approx_17.GP.y[n_init:(n_init+iters)]) \n",
        "exact_output_17 = np.append(np.min(exact_17.GP.y[0:n_init]),exact_17.GP.y[n_init:(n_init+iters)]) \n",
        "\n",
        "regret_approx_17 = np.log(-approx_output_17 + y_global_orig)\n",
        "regret_exact_17 = np.log(-exact_output_17 + y_global_orig)\n",
        "\n",
        "simple_regret_approx_17 = min_max_array(regret_approx_17)\n",
        "simple_regret_exact_17 = min_max_array(regret_exact_17)\n",
        "\n",
        "min_simple_regret_approx_17 = min(simple_regret_approx_17)\n",
        "min_simple_regret_exact_17 = min(simple_regret_exact_17)\n",
        "\n",
        "min_simple_regret_approx_17, min_simple_regret_exact_17"
      ],
      "execution_count": 71,
      "outputs": [
        {
          "output_type": "execute_result",
          "data": {
            "text/plain": [
              "(0.4428317908712237, 0.3736586777309275)"
            ]
          },
          "metadata": {},
          "execution_count": 71
        }
      ]
    },
    {
      "cell_type": "code",
      "metadata": {
        "id": "Cz9ZYMBMQxfz",
        "colab": {
          "base_uri": "https://localhost:8080/"
        },
        "outputId": "a56fbaaf-f0c0-4775-d240-fe5a260443a8"
      },
      "source": [
        "### Simple regret minimization: run number = 18\n",
        "\n",
        "approx_output_18 = np.append(np.min(approx_18.GP.y[0:n_init]),approx_18.GP.y[n_init:(n_init+iters)]) \n",
        "exact_output_18 = np.append(np.min(exact_18.GP.y[0:n_init]),exact_18.GP.y[n_init:(n_init+iters)]) \n",
        "\n",
        "regret_approx_18 = np.log(-approx_output_18 + y_global_orig)\n",
        "regret_exact_18 = np.log(-exact_output_18 + y_global_orig)\n",
        "\n",
        "simple_regret_approx_18 = min_max_array(regret_approx_18)\n",
        "simple_regret_exact_18 = min_max_array(regret_exact_18)\n",
        "\n",
        "min_simple_regret_approx_18 = min(simple_regret_approx_18)\n",
        "min_simple_regret_exact_18 = min(simple_regret_exact_18)\n",
        "\n",
        "min_simple_regret_approx_18, min_simple_regret_exact_18"
      ],
      "execution_count": 72,
      "outputs": [
        {
          "output_type": "execute_result",
          "data": {
            "text/plain": [
              "(1.298241600965053, 1.4087495196816302)"
            ]
          },
          "metadata": {},
          "execution_count": 72
        }
      ]
    },
    {
      "cell_type": "code",
      "metadata": {
        "id": "OBfpWOHNQxf0",
        "colab": {
          "base_uri": "https://localhost:8080/"
        },
        "outputId": "f356297b-579c-432c-b7df-dac765524ab2"
      },
      "source": [
        "### Simple regret minimization: run number = 19\n",
        "\n",
        "approx_output_19 = np.append(np.min(approx_19.GP.y[0:n_init]),approx_19.GP.y[n_init:(n_init+iters)]) \n",
        "exact_output_19 = np.append(np.min(exact_19.GP.y[0:n_init]),exact_19.GP.y[n_init:(n_init+iters)]) \n",
        "\n",
        "regret_approx_19 = np.log(-approx_output_19 + y_global_orig)\n",
        "regret_exact_19 = np.log(-exact_output_19 + y_global_orig)\n",
        "\n",
        "simple_regret_approx_19 = min_max_array(regret_approx_19)\n",
        "simple_regret_exact_19 = min_max_array(regret_exact_19)\n",
        "\n",
        "min_simple_regret_approx_19 = min(simple_regret_approx_19)\n",
        "min_simple_regret_exact_19 = min(simple_regret_exact_19)\n",
        "\n",
        "min_simple_regret_approx_19, min_simple_regret_exact_19"
      ],
      "execution_count": 73,
      "outputs": [
        {
          "output_type": "execute_result",
          "data": {
            "text/plain": [
              "(-2.8682732586079323, -0.8628145206943092)"
            ]
          },
          "metadata": {},
          "execution_count": 73
        }
      ]
    },
    {
      "cell_type": "code",
      "metadata": {
        "id": "BE1AJ7NsQxf0",
        "colab": {
          "base_uri": "https://localhost:8080/"
        },
        "outputId": "87eb9341-feea-49cb-b035-dd681f8ad0d4"
      },
      "source": [
        "### Simple regret minimization: run number = 20\n",
        "\n",
        "approx_output_20 = np.append(np.min(approx_20.GP.y[0:n_init]),approx_20.GP.y[n_init:(n_init+iters)]) \n",
        "exact_output_20 = np.append(np.min(exact_20.GP.y[0:n_init]),exact_20.GP.y[n_init:(n_init+iters)]) \n",
        "\n",
        "regret_approx_20 = np.log(-approx_output_20 + y_global_orig)\n",
        "regret_exact_20 = np.log(-exact_output_20 + y_global_orig)\n",
        "\n",
        "simple_regret_approx_20 = min_max_array(regret_approx_20)\n",
        "simple_regret_exact_20 = min_max_array(regret_exact_20)\n",
        "\n",
        "min_simple_regret_approx_20 = min(simple_regret_approx_20)\n",
        "min_simple_regret_exact_20 = min(simple_regret_exact_20)\n",
        "\n",
        "min_simple_regret_approx_20, min_simple_regret_exact_20"
      ],
      "execution_count": 74,
      "outputs": [
        {
          "output_type": "execute_result",
          "data": {
            "text/plain": [
              "(1.666641011087512, 0.8657012158354602)"
            ]
          },
          "metadata": {},
          "execution_count": 74
        }
      ]
    },
    {
      "cell_type": "code",
      "metadata": {
        "id": "bpX-bKAHQxf1"
      },
      "source": [
        "# Iteration1 :\n",
        "\n",
        "slice1 = 0\n",
        "\n",
        "approx1 = [simple_regret_approx_1[slice1],\n",
        "       simple_regret_approx_2[slice1],\n",
        "       simple_regret_approx_3[slice1],\n",
        "       simple_regret_approx_4[slice1],\n",
        "       simple_regret_approx_5[slice1],\n",
        "       simple_regret_approx_6[slice1],\n",
        "       simple_regret_approx_7[slice1],\n",
        "       simple_regret_approx_8[slice1],\n",
        "       simple_regret_approx_9[slice1],\n",
        "       simple_regret_approx_10[slice1],\n",
        "       simple_regret_approx_11[slice1],\n",
        "       simple_regret_approx_12[slice1],\n",
        "       simple_regret_approx_13[slice1],\n",
        "       simple_regret_approx_14[slice1],\n",
        "       simple_regret_approx_15[slice1],\n",
        "       simple_regret_approx_16[slice1],\n",
        "       simple_regret_approx_17[slice1],\n",
        "       simple_regret_approx_18[slice1],\n",
        "       simple_regret_approx_19[slice1],\n",
        "       simple_regret_approx_20[slice1]]\n",
        "\n",
        "exact1 = [simple_regret_exact_1[slice1],\n",
        "       simple_regret_exact_2[slice1],\n",
        "       simple_regret_exact_3[slice1],\n",
        "       simple_regret_exact_4[slice1],\n",
        "       simple_regret_exact_5[slice1],\n",
        "       simple_regret_exact_6[slice1],\n",
        "       simple_regret_exact_7[slice1],\n",
        "       simple_regret_exact_8[slice1],\n",
        "       simple_regret_exact_9[slice1],\n",
        "       simple_regret_exact_10[slice1],\n",
        "       simple_regret_exact_11[slice1],\n",
        "       simple_regret_exact_12[slice1],\n",
        "       simple_regret_exact_13[slice1],\n",
        "       simple_regret_exact_14[slice1],\n",
        "       simple_regret_exact_15[slice1],\n",
        "       simple_regret_exact_16[slice1],\n",
        "       simple_regret_exact_17[slice1],\n",
        "       simple_regret_exact_18[slice1],\n",
        "       simple_regret_exact_19[slice1],\n",
        "       simple_regret_exact_20[slice1]]\n",
        "\n",
        "approx1_results = pd.DataFrame(approx1).sort_values(by=[0], ascending=False)\n",
        "exact1_results = pd.DataFrame(exact1).sort_values(by=[0], ascending=False)\n",
        "\n",
        "### Best simple regret minimization IQR - approx:\n",
        "lower_approx1 = np.asarray(approx1_results[4:5][0])[0]\n",
        "median_approx1 = np.asarray(approx1_results[9:10][0])[0]\n",
        "upper_approx1 = np.asarray(approx1_results[14:15][0])[0]\n",
        "\n",
        "lower_exact1 = np.asarray(exact1_results[4:5][0])[0]\n",
        "median_exact1 = np.asarray(exact1_results[9:10][0])[0]\n",
        "upper_exact1 = np.asarray(exact1_results[14:15][0])[0]"
      ],
      "execution_count": 75,
      "outputs": []
    },
    {
      "cell_type": "code",
      "metadata": {
        "id": "CgIkJA1xQxf2"
      },
      "source": [
        "# Iteration11 :\n",
        "\n",
        "slice11 = 10\n",
        "\n",
        "approx11 = [simple_regret_approx_1[slice11],\n",
        "       simple_regret_approx_2[slice11],\n",
        "       simple_regret_approx_3[slice11],\n",
        "       simple_regret_approx_4[slice11],\n",
        "       simple_regret_approx_5[slice11],\n",
        "       simple_regret_approx_6[slice11],\n",
        "       simple_regret_approx_7[slice11],\n",
        "       simple_regret_approx_8[slice11],\n",
        "       simple_regret_approx_9[slice11],\n",
        "       simple_regret_approx_10[slice11],\n",
        "       simple_regret_approx_11[slice11],\n",
        "       simple_regret_approx_12[slice11],\n",
        "       simple_regret_approx_13[slice11],\n",
        "       simple_regret_approx_14[slice11],\n",
        "       simple_regret_approx_15[slice11],\n",
        "       simple_regret_approx_16[slice11],\n",
        "       simple_regret_approx_17[slice11],\n",
        "       simple_regret_approx_18[slice11],\n",
        "       simple_regret_approx_19[slice11],\n",
        "       simple_regret_approx_20[slice11]]\n",
        "\n",
        "exact11 = [simple_regret_exact_1[slice11],\n",
        "       simple_regret_exact_2[slice11],\n",
        "       simple_regret_exact_3[slice11],\n",
        "       simple_regret_exact_4[slice11],\n",
        "       simple_regret_exact_5[slice11],\n",
        "       simple_regret_exact_6[slice11],\n",
        "       simple_regret_exact_7[slice11],\n",
        "       simple_regret_exact_8[slice11],\n",
        "       simple_regret_exact_9[slice11],\n",
        "       simple_regret_exact_10[slice11],\n",
        "       simple_regret_exact_11[slice11],\n",
        "       simple_regret_exact_12[slice11],\n",
        "       simple_regret_exact_13[slice11],\n",
        "       simple_regret_exact_14[slice11],\n",
        "       simple_regret_exact_15[slice11],\n",
        "       simple_regret_exact_16[slice11],\n",
        "       simple_regret_exact_17[slice11],\n",
        "       simple_regret_exact_18[slice11],\n",
        "       simple_regret_exact_19[slice11],\n",
        "       simple_regret_exact_20[slice11]]\n",
        "\n",
        "approx11_results = pd.DataFrame(approx11).sort_values(by=[0], ascending=False)\n",
        "exact11_results = pd.DataFrame(exact11).sort_values(by=[0], ascending=False)\n",
        "\n",
        "### Best simple regret minimization IQR - approx:\n",
        "lower_approx11 = np.asarray(approx11_results[4:5][0])[0]\n",
        "median_approx11 = np.asarray(approx11_results[9:10][0])[0]\n",
        "upper_approx11 = np.asarray(approx11_results[14:15][0])[0]\n",
        "\n",
        "lower_exact11 = np.asarray(exact11_results[4:5][0])[0]\n",
        "median_exact11 = np.asarray(exact11_results[9:10][0])[0]\n",
        "upper_exact11 = np.asarray(exact11_results[14:15][0])[0]"
      ],
      "execution_count": 76,
      "outputs": []
    },
    {
      "cell_type": "code",
      "metadata": {
        "id": "MFePDfGuQxf2"
      },
      "source": [
        "# Iteration21 :\n",
        "\n",
        "slice21 = 20\n",
        "\n",
        "approx21 = [simple_regret_approx_1[slice21],\n",
        "       simple_regret_approx_2[slice21],\n",
        "       simple_regret_approx_3[slice21],\n",
        "       simple_regret_approx_4[slice21],\n",
        "       simple_regret_approx_5[slice21],\n",
        "       simple_regret_approx_6[slice21],\n",
        "       simple_regret_approx_7[slice21],\n",
        "       simple_regret_approx_8[slice21],\n",
        "       simple_regret_approx_9[slice21],\n",
        "       simple_regret_approx_10[slice21],\n",
        "       simple_regret_approx_11[slice21],\n",
        "       simple_regret_approx_12[slice21],\n",
        "       simple_regret_approx_13[slice21],\n",
        "       simple_regret_approx_14[slice21],\n",
        "       simple_regret_approx_15[slice21],\n",
        "       simple_regret_approx_16[slice21],\n",
        "       simple_regret_approx_17[slice21],\n",
        "       simple_regret_approx_18[slice21],\n",
        "       simple_regret_approx_19[slice21],\n",
        "       simple_regret_approx_20[slice21]]\n",
        "\n",
        "exact21 = [simple_regret_exact_1[slice21],\n",
        "       simple_regret_exact_2[slice21],\n",
        "       simple_regret_exact_3[slice21],\n",
        "       simple_regret_exact_4[slice21],\n",
        "       simple_regret_exact_5[slice21],\n",
        "       simple_regret_exact_6[slice21],\n",
        "       simple_regret_exact_7[slice21],\n",
        "       simple_regret_exact_8[slice21],\n",
        "       simple_regret_exact_9[slice21],\n",
        "       simple_regret_exact_10[slice21],\n",
        "       simple_regret_exact_11[slice21],\n",
        "       simple_regret_exact_12[slice21],\n",
        "       simple_regret_exact_13[slice21],\n",
        "       simple_regret_exact_14[slice21],\n",
        "       simple_regret_exact_15[slice21],\n",
        "       simple_regret_exact_16[slice21],\n",
        "       simple_regret_exact_17[slice21],\n",
        "       simple_regret_exact_18[slice21],\n",
        "       simple_regret_exact_19[slice21],\n",
        "       simple_regret_exact_20[slice21]]\n",
        "\n",
        "approx21_results = pd.DataFrame(approx21).sort_values(by=[0], ascending=False)\n",
        "exact21_results = pd.DataFrame(exact21).sort_values(by=[0], ascending=False)\n",
        "\n",
        "### Best simple regret minimization IQR - approx:\n",
        "lower_approx21 = np.asarray(approx21_results[4:5][0])[0]\n",
        "median_approx21 = np.asarray(approx21_results[9:10][0])[0]\n",
        "upper_approx21 = np.asarray(approx21_results[14:15][0])[0]\n",
        "\n",
        "lower_exact21 = np.asarray(exact21_results[4:5][0])[0]\n",
        "median_exact21 = np.asarray(exact21_results[9:10][0])[0]\n",
        "upper_exact21 = np.asarray(exact21_results[14:15][0])[0]"
      ],
      "execution_count": 77,
      "outputs": []
    },
    {
      "cell_type": "code",
      "metadata": {
        "id": "PrRDB1kfQxf3"
      },
      "source": [
        "# Iteration2 :\n",
        "\n",
        "slice2 = 1\n",
        "\n",
        "approx2 = [simple_regret_approx_1[slice2],\n",
        "       simple_regret_approx_2[slice2],\n",
        "       simple_regret_approx_3[slice2],\n",
        "       simple_regret_approx_4[slice2],\n",
        "       simple_regret_approx_5[slice2],\n",
        "       simple_regret_approx_6[slice2],\n",
        "       simple_regret_approx_7[slice2],\n",
        "       simple_regret_approx_8[slice2],\n",
        "       simple_regret_approx_9[slice2],\n",
        "       simple_regret_approx_10[slice2],\n",
        "       simple_regret_approx_11[slice2],\n",
        "       simple_regret_approx_12[slice2],\n",
        "       simple_regret_approx_13[slice2],\n",
        "       simple_regret_approx_14[slice2],\n",
        "       simple_regret_approx_15[slice2],\n",
        "       simple_regret_approx_16[slice2],\n",
        "       simple_regret_approx_17[slice2],\n",
        "       simple_regret_approx_18[slice2],\n",
        "       simple_regret_approx_19[slice2],\n",
        "       simple_regret_approx_20[slice2]]\n",
        "\n",
        "exact2 = [simple_regret_exact_1[slice2],\n",
        "       simple_regret_exact_2[slice2],\n",
        "       simple_regret_exact_3[slice2],\n",
        "       simple_regret_exact_4[slice2],\n",
        "       simple_regret_exact_5[slice2],\n",
        "       simple_regret_exact_6[slice2],\n",
        "       simple_regret_exact_7[slice2],\n",
        "       simple_regret_exact_8[slice2],\n",
        "       simple_regret_exact_9[slice2],\n",
        "       simple_regret_exact_10[slice2],\n",
        "       simple_regret_exact_11[slice2],\n",
        "       simple_regret_exact_12[slice2],\n",
        "       simple_regret_exact_13[slice2],\n",
        "       simple_regret_exact_14[slice2],\n",
        "       simple_regret_exact_15[slice2],\n",
        "       simple_regret_exact_16[slice2],\n",
        "       simple_regret_exact_17[slice2],\n",
        "       simple_regret_exact_18[slice2],\n",
        "       simple_regret_exact_19[slice2],\n",
        "       simple_regret_exact_20[slice2]]\n",
        "\n",
        "approx2_results = pd.DataFrame(approx2).sort_values(by=[0], ascending=False)\n",
        "exact2_results = pd.DataFrame(exact2).sort_values(by=[0], ascending=False)\n",
        "\n",
        "### Best simple regret minimization IQR - approx:\n",
        "lower_approx2 = np.asarray(approx2_results[4:5][0])[0]\n",
        "median_approx2 = np.asarray(approx2_results[9:10][0])[0]\n",
        "upper_approx2 = np.asarray(approx2_results[14:15][0])[0]\n",
        "\n",
        "lower_exact2 = np.asarray(exact2_results[4:5][0])[0]\n",
        "median_exact2 = np.asarray(exact2_results[9:10][0])[0]\n",
        "upper_exact2 = np.asarray(exact2_results[14:15][0])[0]"
      ],
      "execution_count": 78,
      "outputs": []
    },
    {
      "cell_type": "code",
      "metadata": {
        "id": "B8ncJDYeQxf3"
      },
      "source": [
        "# Iteration12 :\n",
        "\n",
        "slice12 = 11\n",
        "\n",
        "approx12 = [simple_regret_approx_1[slice12],\n",
        "       simple_regret_approx_2[slice12],\n",
        "       simple_regret_approx_3[slice12],\n",
        "       simple_regret_approx_4[slice12],\n",
        "       simple_regret_approx_5[slice12],\n",
        "       simple_regret_approx_6[slice12],\n",
        "       simple_regret_approx_7[slice12],\n",
        "       simple_regret_approx_8[slice12],\n",
        "       simple_regret_approx_9[slice12],\n",
        "       simple_regret_approx_10[slice12],\n",
        "       simple_regret_approx_11[slice12],\n",
        "       simple_regret_approx_12[slice12],\n",
        "       simple_regret_approx_13[slice12],\n",
        "       simple_regret_approx_14[slice12],\n",
        "       simple_regret_approx_15[slice12],\n",
        "       simple_regret_approx_16[slice12],\n",
        "       simple_regret_approx_17[slice12],\n",
        "       simple_regret_approx_18[slice12],\n",
        "       simple_regret_approx_19[slice12],\n",
        "       simple_regret_approx_20[slice12]]\n",
        "\n",
        "exact12 = [simple_regret_exact_1[slice12],\n",
        "       simple_regret_exact_2[slice12],\n",
        "       simple_regret_exact_3[slice12],\n",
        "       simple_regret_exact_4[slice12],\n",
        "       simple_regret_exact_5[slice12],\n",
        "       simple_regret_exact_6[slice12],\n",
        "       simple_regret_exact_7[slice12],\n",
        "       simple_regret_exact_8[slice12],\n",
        "       simple_regret_exact_9[slice12],\n",
        "       simple_regret_exact_10[slice12],\n",
        "       simple_regret_exact_11[slice12],\n",
        "       simple_regret_exact_12[slice12],\n",
        "       simple_regret_exact_13[slice12],\n",
        "       simple_regret_exact_14[slice12],\n",
        "       simple_regret_exact_15[slice12],\n",
        "       simple_regret_exact_16[slice12],\n",
        "       simple_regret_exact_17[slice12],\n",
        "       simple_regret_exact_18[slice12],\n",
        "       simple_regret_exact_19[slice12],\n",
        "       simple_regret_exact_20[slice12]]\n",
        "\n",
        "approx12_results = pd.DataFrame(approx12).sort_values(by=[0], ascending=False)\n",
        "exact12_results = pd.DataFrame(exact12).sort_values(by=[0], ascending=False)\n",
        "\n",
        "### Best simple regret minimization IQR - approx:\n",
        "lower_approx12 = np.asarray(approx12_results[4:5][0])[0]\n",
        "median_approx12 = np.asarray(approx12_results[9:10][0])[0]\n",
        "upper_approx12 = np.asarray(approx12_results[14:15][0])[0]\n",
        "\n",
        "lower_exact12 = np.asarray(exact12_results[4:5][0])[0]\n",
        "median_exact12 = np.asarray(exact12_results[9:10][0])[0]\n",
        "upper_exact12 = np.asarray(exact12_results[14:15][0])[0]"
      ],
      "execution_count": 79,
      "outputs": []
    },
    {
      "cell_type": "code",
      "metadata": {
        "id": "Jn4KpGvcQxf4"
      },
      "source": [
        "# Iteration3 :\n",
        "\n",
        "slice3 = 2\n",
        "\n",
        "approx3 = [simple_regret_approx_1[slice3],\n",
        "       simple_regret_approx_2[slice3],\n",
        "       simple_regret_approx_3[slice3],\n",
        "       simple_regret_approx_4[slice3],\n",
        "       simple_regret_approx_5[slice3],\n",
        "       simple_regret_approx_6[slice3],\n",
        "       simple_regret_approx_7[slice3],\n",
        "       simple_regret_approx_8[slice3],\n",
        "       simple_regret_approx_9[slice3],\n",
        "       simple_regret_approx_10[slice3],\n",
        "       simple_regret_approx_11[slice3],\n",
        "       simple_regret_approx_12[slice3],\n",
        "       simple_regret_approx_13[slice3],\n",
        "       simple_regret_approx_14[slice3],\n",
        "       simple_regret_approx_15[slice3],\n",
        "       simple_regret_approx_16[slice3],\n",
        "       simple_regret_approx_17[slice3],\n",
        "       simple_regret_approx_18[slice3],\n",
        "       simple_regret_approx_19[slice3],\n",
        "       simple_regret_approx_20[slice3]]\n",
        "\n",
        "exact3 = [simple_regret_exact_1[slice3],\n",
        "       simple_regret_exact_2[slice3],\n",
        "       simple_regret_exact_3[slice3],\n",
        "       simple_regret_exact_4[slice3],\n",
        "       simple_regret_exact_5[slice3],\n",
        "       simple_regret_exact_6[slice3],\n",
        "       simple_regret_exact_7[slice3],\n",
        "       simple_regret_exact_8[slice3],\n",
        "       simple_regret_exact_9[slice3],\n",
        "       simple_regret_exact_10[slice3],\n",
        "       simple_regret_exact_11[slice3],\n",
        "       simple_regret_exact_12[slice3],\n",
        "       simple_regret_exact_13[slice3],\n",
        "       simple_regret_exact_14[slice3],\n",
        "       simple_regret_exact_15[slice3],\n",
        "       simple_regret_exact_16[slice3],\n",
        "       simple_regret_exact_17[slice3],\n",
        "       simple_regret_exact_18[slice3],\n",
        "       simple_regret_exact_19[slice3],\n",
        "       simple_regret_exact_20[slice3]]\n",
        "\n",
        "approx3_results = pd.DataFrame(approx3).sort_values(by=[0], ascending=False)\n",
        "exact3_results = pd.DataFrame(exact3).sort_values(by=[0], ascending=False)\n",
        "\n",
        "### Best simple regret minimization IQR - approx:\n",
        "lower_approx3 = np.asarray(approx3_results[4:5][0])[0]\n",
        "median_approx3 = np.asarray(approx3_results[9:10][0])[0]\n",
        "upper_approx3 = np.asarray(approx3_results[14:15][0])[0]\n",
        "\n",
        "lower_exact3 = np.asarray(exact3_results[4:5][0])[0]\n",
        "median_exact3 = np.asarray(exact3_results[9:10][0])[0]\n",
        "upper_exact3 = np.asarray(exact3_results[14:15][0])[0]"
      ],
      "execution_count": 80,
      "outputs": []
    },
    {
      "cell_type": "code",
      "metadata": {
        "id": "plf83wxrQxf4"
      },
      "source": [
        "# Iteration13 :\n",
        "\n",
        "slice13 = 12\n",
        "\n",
        "approx13 = [simple_regret_approx_1[slice13],\n",
        "       simple_regret_approx_2[slice13],\n",
        "       simple_regret_approx_3[slice13],\n",
        "       simple_regret_approx_4[slice13],\n",
        "       simple_regret_approx_5[slice13],\n",
        "       simple_regret_approx_6[slice13],\n",
        "       simple_regret_approx_7[slice13],\n",
        "       simple_regret_approx_8[slice13],\n",
        "       simple_regret_approx_9[slice13],\n",
        "       simple_regret_approx_10[slice13],\n",
        "       simple_regret_approx_11[slice13],\n",
        "       simple_regret_approx_12[slice13],\n",
        "       simple_regret_approx_13[slice13],\n",
        "       simple_regret_approx_14[slice13],\n",
        "       simple_regret_approx_15[slice13],\n",
        "       simple_regret_approx_16[slice13],\n",
        "       simple_regret_approx_17[slice13],\n",
        "       simple_regret_approx_18[slice13],\n",
        "       simple_regret_approx_19[slice13],\n",
        "       simple_regret_approx_20[slice13]]\n",
        "\n",
        "exact13 = [simple_regret_exact_1[slice13],\n",
        "       simple_regret_exact_2[slice13],\n",
        "       simple_regret_exact_3[slice13],\n",
        "       simple_regret_exact_4[slice13],\n",
        "       simple_regret_exact_5[slice13],\n",
        "       simple_regret_exact_6[slice13],\n",
        "       simple_regret_exact_7[slice13],\n",
        "       simple_regret_exact_8[slice13],\n",
        "       simple_regret_exact_9[slice13],\n",
        "       simple_regret_exact_10[slice13],\n",
        "       simple_regret_exact_11[slice13],\n",
        "       simple_regret_exact_12[slice13],\n",
        "       simple_regret_exact_13[slice13],\n",
        "       simple_regret_exact_14[slice13],\n",
        "       simple_regret_exact_15[slice13],\n",
        "       simple_regret_exact_16[slice13],\n",
        "       simple_regret_exact_17[slice13],\n",
        "       simple_regret_exact_18[slice13],\n",
        "       simple_regret_exact_19[slice13],\n",
        "       simple_regret_exact_20[slice13]]\n",
        "\n",
        "approx13_results = pd.DataFrame(approx13).sort_values(by=[0], ascending=False)\n",
        "exact13_results = pd.DataFrame(exact13).sort_values(by=[0], ascending=False)\n",
        "\n",
        "### Best simple regret minimization IQR - approx:\n",
        "lower_approx13 = np.asarray(approx13_results[4:5][0])[0]\n",
        "median_approx13 = np.asarray(approx13_results[9:10][0])[0]\n",
        "upper_approx13 = np.asarray(approx13_results[14:15][0])[0]\n",
        "\n",
        "lower_exact13 = np.asarray(exact13_results[4:5][0])[0]\n",
        "median_exact13 = np.asarray(exact13_results[9:10][0])[0]\n",
        "upper_exact13 = np.asarray(exact13_results[14:15][0])[0]"
      ],
      "execution_count": 81,
      "outputs": []
    },
    {
      "cell_type": "code",
      "metadata": {
        "id": "9A7mlVvJQxf5"
      },
      "source": [
        "# Iteration4 :\n",
        "\n",
        "slice4 = 3\n",
        "\n",
        "approx4 = [simple_regret_approx_1[slice4],\n",
        "       simple_regret_approx_2[slice4],\n",
        "       simple_regret_approx_3[slice4],\n",
        "       simple_regret_approx_4[slice4],\n",
        "       simple_regret_approx_5[slice4],\n",
        "       simple_regret_approx_6[slice4],\n",
        "       simple_regret_approx_7[slice4],\n",
        "       simple_regret_approx_8[slice4],\n",
        "       simple_regret_approx_9[slice4],\n",
        "       simple_regret_approx_10[slice4],\n",
        "       simple_regret_approx_11[slice4],\n",
        "       simple_regret_approx_12[slice4],\n",
        "       simple_regret_approx_13[slice4],\n",
        "       simple_regret_approx_14[slice4],\n",
        "       simple_regret_approx_15[slice4],\n",
        "       simple_regret_approx_16[slice4],\n",
        "       simple_regret_approx_17[slice4],\n",
        "       simple_regret_approx_18[slice4],\n",
        "       simple_regret_approx_19[slice4],\n",
        "       simple_regret_approx_20[slice4]]\n",
        "\n",
        "exact4 = [simple_regret_exact_1[slice4],\n",
        "       simple_regret_exact_2[slice4],\n",
        "       simple_regret_exact_3[slice4],\n",
        "       simple_regret_exact_4[slice4],\n",
        "       simple_regret_exact_5[slice4],\n",
        "       simple_regret_exact_6[slice4],\n",
        "       simple_regret_exact_7[slice4],\n",
        "       simple_regret_exact_8[slice4],\n",
        "       simple_regret_exact_9[slice4],\n",
        "       simple_regret_exact_10[slice4],\n",
        "       simple_regret_exact_11[slice4],\n",
        "       simple_regret_exact_12[slice4],\n",
        "       simple_regret_exact_13[slice4],\n",
        "       simple_regret_exact_14[slice4],\n",
        "       simple_regret_exact_15[slice4],\n",
        "       simple_regret_exact_16[slice4],\n",
        "       simple_regret_exact_17[slice4],\n",
        "       simple_regret_exact_18[slice4],\n",
        "       simple_regret_exact_19[slice4],\n",
        "       simple_regret_exact_20[slice4]]\n",
        "\n",
        "approx4_results = pd.DataFrame(approx4).sort_values(by=[0], ascending=False)\n",
        "exact4_results = pd.DataFrame(exact4).sort_values(by=[0], ascending=False)\n",
        "\n",
        "### Best simple regret minimization IQR - approx:\n",
        "lower_approx4 = np.asarray(approx4_results[4:5][0])[0]\n",
        "median_approx4 = np.asarray(approx4_results[9:10][0])[0]\n",
        "upper_approx4 = np.asarray(approx4_results[14:15][0])[0]\n",
        "\n",
        "lower_exact4 = np.asarray(exact4_results[4:5][0])[0]\n",
        "median_exact4 = np.asarray(exact4_results[9:10][0])[0]\n",
        "upper_exact4 = np.asarray(exact4_results[14:15][0])[0]"
      ],
      "execution_count": 82,
      "outputs": []
    },
    {
      "cell_type": "code",
      "metadata": {
        "id": "ijq-rioYQxf5"
      },
      "source": [
        "# Iteration14 :\n",
        "\n",
        "slice14 = 13\n",
        "\n",
        "approx14 = [simple_regret_approx_1[slice14],\n",
        "       simple_regret_approx_2[slice14],\n",
        "       simple_regret_approx_3[slice14],\n",
        "       simple_regret_approx_4[slice14],\n",
        "       simple_regret_approx_5[slice14],\n",
        "       simple_regret_approx_6[slice14],\n",
        "       simple_regret_approx_7[slice14],\n",
        "       simple_regret_approx_8[slice14],\n",
        "       simple_regret_approx_9[slice14],\n",
        "       simple_regret_approx_10[slice14],\n",
        "       simple_regret_approx_11[slice14],\n",
        "       simple_regret_approx_12[slice14],\n",
        "       simple_regret_approx_13[slice14],\n",
        "       simple_regret_approx_14[slice14],\n",
        "       simple_regret_approx_15[slice14],\n",
        "       simple_regret_approx_16[slice14],\n",
        "       simple_regret_approx_17[slice14],\n",
        "       simple_regret_approx_18[slice14],\n",
        "       simple_regret_approx_19[slice14],\n",
        "       simple_regret_approx_20[slice14]]\n",
        "\n",
        "exact14 = [simple_regret_exact_1[slice14],\n",
        "       simple_regret_exact_2[slice14],\n",
        "       simple_regret_exact_3[slice14],\n",
        "       simple_regret_exact_4[slice14],\n",
        "       simple_regret_exact_5[slice14],\n",
        "       simple_regret_exact_6[slice14],\n",
        "       simple_regret_exact_7[slice14],\n",
        "       simple_regret_exact_8[slice14],\n",
        "       simple_regret_exact_9[slice14],\n",
        "       simple_regret_exact_10[slice14],\n",
        "       simple_regret_exact_11[slice14],\n",
        "       simple_regret_exact_12[slice14],\n",
        "       simple_regret_exact_13[slice14],\n",
        "       simple_regret_exact_14[slice14],\n",
        "       simple_regret_exact_15[slice14],\n",
        "       simple_regret_exact_16[slice14],\n",
        "       simple_regret_exact_17[slice14],\n",
        "       simple_regret_exact_18[slice14],\n",
        "       simple_regret_exact_19[slice14],\n",
        "       simple_regret_exact_20[slice14]]\n",
        "\n",
        "approx14_results = pd.DataFrame(approx14).sort_values(by=[0], ascending=False)\n",
        "exact14_results = pd.DataFrame(exact14).sort_values(by=[0], ascending=False)\n",
        "\n",
        "### Best simple regret minimization IQR - approx:\n",
        "lower_approx14 = np.asarray(approx14_results[4:5][0])[0]\n",
        "median_approx14 = np.asarray(approx14_results[9:10][0])[0]\n",
        "upper_approx14 = np.asarray(approx14_results[14:15][0])[0]\n",
        "\n",
        "lower_exact14 = np.asarray(exact14_results[4:5][0])[0]\n",
        "median_exact14 = np.asarray(exact14_results[9:10][0])[0]\n",
        "upper_exact14 = np.asarray(exact14_results[14:15][0])[0]"
      ],
      "execution_count": 83,
      "outputs": []
    },
    {
      "cell_type": "code",
      "metadata": {
        "id": "XINlZjoTd-ZK"
      },
      "source": [
        "# Iteration5 :\n",
        "\n",
        "slice5 = 4\n",
        "\n",
        "approx5 = [simple_regret_approx_1[slice5],\n",
        "       simple_regret_approx_2[slice5],\n",
        "       simple_regret_approx_3[slice5],\n",
        "       simple_regret_approx_4[slice5],\n",
        "       simple_regret_approx_5[slice5],\n",
        "       simple_regret_approx_6[slice5],\n",
        "       simple_regret_approx_7[slice5],\n",
        "       simple_regret_approx_8[slice5],\n",
        "       simple_regret_approx_9[slice5],\n",
        "       simple_regret_approx_10[slice5],\n",
        "       simple_regret_approx_11[slice5],\n",
        "       simple_regret_approx_12[slice5],\n",
        "       simple_regret_approx_13[slice5],\n",
        "       simple_regret_approx_14[slice5],\n",
        "       simple_regret_approx_15[slice5],\n",
        "       simple_regret_approx_16[slice5],\n",
        "       simple_regret_approx_17[slice5],\n",
        "       simple_regret_approx_18[slice5],\n",
        "       simple_regret_approx_19[slice5],\n",
        "       simple_regret_approx_20[slice5]]\n",
        "\n",
        "exact5 = [simple_regret_exact_1[slice5],\n",
        "       simple_regret_exact_2[slice5],\n",
        "       simple_regret_exact_3[slice5],\n",
        "       simple_regret_exact_4[slice5],\n",
        "       simple_regret_exact_5[slice5],\n",
        "       simple_regret_exact_6[slice5],\n",
        "       simple_regret_exact_7[slice5],\n",
        "       simple_regret_exact_8[slice5],\n",
        "       simple_regret_exact_9[slice5],\n",
        "       simple_regret_exact_10[slice5],\n",
        "       simple_regret_exact_11[slice5],\n",
        "       simple_regret_exact_12[slice5],\n",
        "       simple_regret_exact_13[slice5],\n",
        "       simple_regret_exact_14[slice5],\n",
        "       simple_regret_exact_15[slice5],\n",
        "       simple_regret_exact_16[slice5],\n",
        "       simple_regret_exact_17[slice5],\n",
        "       simple_regret_exact_18[slice5],\n",
        "       simple_regret_exact_19[slice5],\n",
        "       simple_regret_exact_20[slice5]]\n",
        "\n",
        "approx5_results = pd.DataFrame(approx5).sort_values(by=[0], ascending=False)\n",
        "exact5_results = pd.DataFrame(exact5).sort_values(by=[0], ascending=False)\n",
        "\n",
        "### Best simple regret minimization IQR - approx:\n",
        "lower_approx5 = np.asarray(approx5_results[4:5][0])[0]\n",
        "median_approx5 = np.asarray(approx5_results[9:10][0])[0]\n",
        "upper_approx5 = np.asarray(approx5_results[14:15][0])[0]\n",
        "\n",
        "lower_exact5 = np.asarray(exact5_results[4:5][0])[0]\n",
        "median_exact5 = np.asarray(exact5_results[9:10][0])[0]\n",
        "upper_exact5 = np.asarray(exact5_results[14:15][0])[0]"
      ],
      "execution_count": 84,
      "outputs": []
    },
    {
      "cell_type": "code",
      "metadata": {
        "id": "4aZ7C8sOQxf6"
      },
      "source": [
        "# Iteration15 :\n",
        "\n",
        "slice15 = 14\n",
        "\n",
        "approx15 = [simple_regret_approx_1[slice15],\n",
        "       simple_regret_approx_2[slice15],\n",
        "       simple_regret_approx_3[slice15],\n",
        "       simple_regret_approx_4[slice15],\n",
        "       simple_regret_approx_5[slice15],\n",
        "       simple_regret_approx_6[slice15],\n",
        "       simple_regret_approx_7[slice15],\n",
        "       simple_regret_approx_8[slice15],\n",
        "       simple_regret_approx_9[slice15],\n",
        "       simple_regret_approx_10[slice15],\n",
        "       simple_regret_approx_11[slice15],\n",
        "       simple_regret_approx_12[slice15],\n",
        "       simple_regret_approx_13[slice15],\n",
        "       simple_regret_approx_14[slice15],\n",
        "       simple_regret_approx_15[slice15],\n",
        "       simple_regret_approx_16[slice15],\n",
        "       simple_regret_approx_17[slice15],\n",
        "       simple_regret_approx_18[slice15],\n",
        "       simple_regret_approx_19[slice15],\n",
        "       simple_regret_approx_20[slice15]]\n",
        "\n",
        "exact15 = [simple_regret_exact_1[slice15],\n",
        "       simple_regret_exact_2[slice15],\n",
        "       simple_regret_exact_3[slice15],\n",
        "       simple_regret_exact_4[slice15],\n",
        "       simple_regret_exact_5[slice15],\n",
        "       simple_regret_exact_6[slice15],\n",
        "       simple_regret_exact_7[slice15],\n",
        "       simple_regret_exact_8[slice15],\n",
        "       simple_regret_exact_9[slice15],\n",
        "       simple_regret_exact_10[slice15],\n",
        "       simple_regret_exact_11[slice15],\n",
        "       simple_regret_exact_12[slice15],\n",
        "       simple_regret_exact_13[slice15],\n",
        "       simple_regret_exact_14[slice15],\n",
        "       simple_regret_exact_15[slice15],\n",
        "       simple_regret_exact_16[slice15],\n",
        "       simple_regret_exact_17[slice15],\n",
        "       simple_regret_exact_18[slice15],\n",
        "       simple_regret_exact_19[slice15],\n",
        "       simple_regret_exact_20[slice15]]\n",
        "\n",
        "approx15_results = pd.DataFrame(approx15).sort_values(by=[0], ascending=False)\n",
        "exact15_results = pd.DataFrame(exact15).sort_values(by=[0], ascending=False)\n",
        "\n",
        "### Best simple regret minimization IQR - approx:\n",
        "lower_approx15 = np.asarray(approx15_results[4:5][0])[0]\n",
        "median_approx15 = np.asarray(approx15_results[9:10][0])[0]\n",
        "upper_approx15 = np.asarray(approx15_results[14:15][0])[0]\n",
        "\n",
        "lower_exact15 = np.asarray(exact15_results[4:5][0])[0]\n",
        "median_exact15 = np.asarray(exact15_results[9:10][0])[0]\n",
        "upper_exact15 = np.asarray(exact15_results[14:15][0])[0]"
      ],
      "execution_count": 85,
      "outputs": []
    },
    {
      "cell_type": "code",
      "metadata": {
        "id": "KJINKhv1Qxf6"
      },
      "source": [
        "# Iteration6 :\n",
        "\n",
        "slice6 = 5\n",
        "\n",
        "approx6 = [simple_regret_approx_1[slice6],\n",
        "       simple_regret_approx_2[slice6],\n",
        "       simple_regret_approx_3[slice6],\n",
        "       simple_regret_approx_4[slice6],\n",
        "       simple_regret_approx_5[slice6],\n",
        "       simple_regret_approx_6[slice6],\n",
        "       simple_regret_approx_7[slice6],\n",
        "       simple_regret_approx_8[slice6],\n",
        "       simple_regret_approx_9[slice6],\n",
        "       simple_regret_approx_10[slice6],\n",
        "       simple_regret_approx_11[slice6],\n",
        "       simple_regret_approx_12[slice6],\n",
        "       simple_regret_approx_13[slice6],\n",
        "       simple_regret_approx_14[slice6],\n",
        "       simple_regret_approx_15[slice6],\n",
        "       simple_regret_approx_16[slice6],\n",
        "       simple_regret_approx_17[slice6],\n",
        "       simple_regret_approx_18[slice6],\n",
        "       simple_regret_approx_19[slice6],\n",
        "       simple_regret_approx_20[slice6]]\n",
        "\n",
        "exact6 = [simple_regret_exact_1[slice6],\n",
        "       simple_regret_exact_2[slice6],\n",
        "       simple_regret_exact_3[slice6],\n",
        "       simple_regret_exact_4[slice6],\n",
        "       simple_regret_exact_5[slice6],\n",
        "       simple_regret_exact_6[slice6],\n",
        "       simple_regret_exact_7[slice6],\n",
        "       simple_regret_exact_8[slice6],\n",
        "       simple_regret_exact_9[slice6],\n",
        "       simple_regret_exact_10[slice6],\n",
        "       simple_regret_exact_11[slice6],\n",
        "       simple_regret_exact_12[slice6],\n",
        "       simple_regret_exact_13[slice6],\n",
        "       simple_regret_exact_14[slice6],\n",
        "       simple_regret_exact_15[slice6],\n",
        "       simple_regret_exact_16[slice6],\n",
        "       simple_regret_exact_17[slice6],\n",
        "       simple_regret_exact_18[slice6],\n",
        "       simple_regret_exact_19[slice6],\n",
        "       simple_regret_exact_20[slice6]]\n",
        "\n",
        "approx6_results = pd.DataFrame(approx6).sort_values(by=[0], ascending=False)\n",
        "exact6_results = pd.DataFrame(exact6).sort_values(by=[0], ascending=False)\n",
        "\n",
        "### Best simple regret minimization IQR - approx:\n",
        "lower_approx6 = np.asarray(approx6_results[4:5][0])[0]\n",
        "median_approx6 = np.asarray(approx6_results[9:10][0])[0]\n",
        "upper_approx6 = np.asarray(approx6_results[14:15][0])[0]\n",
        "\n",
        "lower_exact6 = np.asarray(exact6_results[4:5][0])[0]\n",
        "median_exact6 = np.asarray(exact6_results[9:10][0])[0]\n",
        "upper_exact6 = np.asarray(exact6_results[14:15][0])[0]"
      ],
      "execution_count": 86,
      "outputs": []
    },
    {
      "cell_type": "code",
      "metadata": {
        "id": "nwC5N1FsQxf7"
      },
      "source": [
        "# Iteration16 :\n",
        "\n",
        "slice16 = 15\n",
        "\n",
        "approx16 = [simple_regret_approx_1[slice16],\n",
        "       simple_regret_approx_2[slice16],\n",
        "       simple_regret_approx_3[slice16],\n",
        "       simple_regret_approx_4[slice16],\n",
        "       simple_regret_approx_5[slice16],\n",
        "       simple_regret_approx_6[slice16],\n",
        "       simple_regret_approx_7[slice16],\n",
        "       simple_regret_approx_8[slice16],\n",
        "       simple_regret_approx_9[slice16],\n",
        "       simple_regret_approx_10[slice16],\n",
        "       simple_regret_approx_11[slice16],\n",
        "       simple_regret_approx_12[slice16],\n",
        "       simple_regret_approx_13[slice16],\n",
        "       simple_regret_approx_14[slice16],\n",
        "       simple_regret_approx_15[slice16],\n",
        "       simple_regret_approx_16[slice16],\n",
        "       simple_regret_approx_17[slice16],\n",
        "       simple_regret_approx_18[slice16],\n",
        "       simple_regret_approx_19[slice16],\n",
        "       simple_regret_approx_20[slice16]]\n",
        "\n",
        "exact16 = [simple_regret_exact_1[slice16],\n",
        "       simple_regret_exact_2[slice16],\n",
        "       simple_regret_exact_3[slice16],\n",
        "       simple_regret_exact_4[slice16],\n",
        "       simple_regret_exact_5[slice16],\n",
        "       simple_regret_exact_6[slice16],\n",
        "       simple_regret_exact_7[slice16],\n",
        "       simple_regret_exact_8[slice16],\n",
        "       simple_regret_exact_9[slice16],\n",
        "       simple_regret_exact_10[slice16],\n",
        "       simple_regret_exact_11[slice16],\n",
        "       simple_regret_exact_12[slice16],\n",
        "       simple_regret_exact_13[slice16],\n",
        "       simple_regret_exact_14[slice16],\n",
        "       simple_regret_exact_15[slice16],\n",
        "       simple_regret_exact_16[slice16],\n",
        "       simple_regret_exact_17[slice16],\n",
        "       simple_regret_exact_18[slice16],\n",
        "       simple_regret_exact_19[slice16],\n",
        "       simple_regret_exact_20[slice16]]\n",
        "\n",
        "approx16_results = pd.DataFrame(approx16).sort_values(by=[0], ascending=False)\n",
        "exact16_results = pd.DataFrame(exact16).sort_values(by=[0], ascending=False)\n",
        "\n",
        "### Best simple regret minimization IQR - approx:\n",
        "lower_approx16 = np.asarray(approx16_results[4:5][0])[0]\n",
        "median_approx16 = np.asarray(approx16_results[9:10][0])[0]\n",
        "upper_approx16 = np.asarray(approx16_results[14:15][0])[0]\n",
        "\n",
        "lower_exact16 = np.asarray(exact16_results[4:5][0])[0]\n",
        "median_exact16 = np.asarray(exact16_results[9:10][0])[0]\n",
        "upper_exact16 = np.asarray(exact16_results[14:15][0])[0]"
      ],
      "execution_count": 87,
      "outputs": []
    },
    {
      "cell_type": "code",
      "metadata": {
        "id": "TrPV0AfnQxf7"
      },
      "source": [
        "# Iteration7 :\n",
        "\n",
        "slice7 = 6\n",
        "\n",
        "approx7 = [simple_regret_approx_1[slice7],\n",
        "       simple_regret_approx_2[slice7],\n",
        "       simple_regret_approx_3[slice7],\n",
        "       simple_regret_approx_4[slice7],\n",
        "       simple_regret_approx_5[slice7],\n",
        "       simple_regret_approx_6[slice7],\n",
        "       simple_regret_approx_7[slice7],\n",
        "       simple_regret_approx_8[slice7],\n",
        "       simple_regret_approx_9[slice7],\n",
        "       simple_regret_approx_10[slice7],\n",
        "       simple_regret_approx_11[slice7],\n",
        "       simple_regret_approx_12[slice7],\n",
        "       simple_regret_approx_13[slice7],\n",
        "       simple_regret_approx_14[slice7],\n",
        "       simple_regret_approx_15[slice7],\n",
        "       simple_regret_approx_16[slice7],\n",
        "       simple_regret_approx_17[slice7],\n",
        "       simple_regret_approx_18[slice7],\n",
        "       simple_regret_approx_19[slice7],\n",
        "       simple_regret_approx_20[slice7]]\n",
        "\n",
        "exact7 = [simple_regret_exact_1[slice7],\n",
        "       simple_regret_exact_2[slice7],\n",
        "       simple_regret_exact_3[slice7],\n",
        "       simple_regret_exact_4[slice7],\n",
        "       simple_regret_exact_5[slice7],\n",
        "       simple_regret_exact_6[slice7],\n",
        "       simple_regret_exact_7[slice7],\n",
        "       simple_regret_exact_8[slice7],\n",
        "       simple_regret_exact_9[slice7],\n",
        "       simple_regret_exact_10[slice7],\n",
        "       simple_regret_exact_11[slice7],\n",
        "       simple_regret_exact_12[slice7],\n",
        "       simple_regret_exact_13[slice7],\n",
        "       simple_regret_exact_14[slice7],\n",
        "       simple_regret_exact_15[slice7],\n",
        "       simple_regret_exact_16[slice7],\n",
        "       simple_regret_exact_17[slice7],\n",
        "       simple_regret_exact_18[slice7],\n",
        "       simple_regret_exact_19[slice7],\n",
        "       simple_regret_exact_20[slice7]]\n",
        "\n",
        "approx7_results = pd.DataFrame(approx7).sort_values(by=[0], ascending=False)\n",
        "exact7_results = pd.DataFrame(exact7).sort_values(by=[0], ascending=False)\n",
        "\n",
        "### Best simple regret minimization IQR - approx:\n",
        "lower_approx7 = np.asarray(approx7_results[4:5][0])[0]\n",
        "median_approx7 = np.asarray(approx7_results[9:10][0])[0]\n",
        "upper_approx7 = np.asarray(approx7_results[14:15][0])[0]\n",
        "\n",
        "lower_exact7 = np.asarray(exact7_results[4:5][0])[0]\n",
        "median_exact7 = np.asarray(exact7_results[9:10][0])[0]\n",
        "upper_exact7 = np.asarray(exact7_results[14:15][0])[0]"
      ],
      "execution_count": 88,
      "outputs": []
    },
    {
      "cell_type": "code",
      "metadata": {
        "id": "Ub_-wpK4Qxf8"
      },
      "source": [
        "# Iteration17 :\n",
        "\n",
        "slice17 = 16\n",
        "\n",
        "approx17 = [simple_regret_approx_1[slice17],\n",
        "       simple_regret_approx_2[slice17],\n",
        "       simple_regret_approx_3[slice17],\n",
        "       simple_regret_approx_4[slice17],\n",
        "       simple_regret_approx_5[slice17],\n",
        "       simple_regret_approx_6[slice17],\n",
        "       simple_regret_approx_7[slice17],\n",
        "       simple_regret_approx_8[slice17],\n",
        "       simple_regret_approx_9[slice17],\n",
        "       simple_regret_approx_10[slice17],\n",
        "       simple_regret_approx_11[slice17],\n",
        "       simple_regret_approx_12[slice17],\n",
        "       simple_regret_approx_13[slice17],\n",
        "       simple_regret_approx_14[slice17],\n",
        "       simple_regret_approx_15[slice17],\n",
        "       simple_regret_approx_16[slice17],\n",
        "       simple_regret_approx_17[slice17],\n",
        "       simple_regret_approx_18[slice17],\n",
        "       simple_regret_approx_19[slice17],\n",
        "       simple_regret_approx_20[slice17]]\n",
        "\n",
        "exact17 = [simple_regret_exact_1[slice17],\n",
        "       simple_regret_exact_2[slice17],\n",
        "       simple_regret_exact_3[slice17],\n",
        "       simple_regret_exact_4[slice17],\n",
        "       simple_regret_exact_5[slice17],\n",
        "       simple_regret_exact_6[slice17],\n",
        "       simple_regret_exact_7[slice17],\n",
        "       simple_regret_exact_8[slice17],\n",
        "       simple_regret_exact_9[slice17],\n",
        "       simple_regret_exact_10[slice17],\n",
        "       simple_regret_exact_11[slice17],\n",
        "       simple_regret_exact_12[slice17],\n",
        "       simple_regret_exact_13[slice17],\n",
        "       simple_regret_exact_14[slice17],\n",
        "       simple_regret_exact_15[slice17],\n",
        "       simple_regret_exact_16[slice17],\n",
        "       simple_regret_exact_17[slice17],\n",
        "       simple_regret_exact_18[slice17],\n",
        "       simple_regret_exact_19[slice17],\n",
        "       simple_regret_exact_20[slice17]]\n",
        "\n",
        "approx17_results = pd.DataFrame(approx17).sort_values(by=[0], ascending=False)\n",
        "exact17_results = pd.DataFrame(exact17).sort_values(by=[0], ascending=False)\n",
        "\n",
        "### Best simple regret minimization IQR - approx:\n",
        "lower_approx17 = np.asarray(approx17_results[4:5][0])[0]\n",
        "median_approx17 = np.asarray(approx17_results[9:10][0])[0]\n",
        "upper_approx17 = np.asarray(approx17_results[14:15][0])[0]\n",
        "\n",
        "lower_exact17 = np.asarray(exact17_results[4:5][0])[0]\n",
        "median_exact17 = np.asarray(exact17_results[9:10][0])[0]\n",
        "upper_exact17 = np.asarray(exact17_results[14:15][0])[0]"
      ],
      "execution_count": 89,
      "outputs": []
    },
    {
      "cell_type": "code",
      "metadata": {
        "id": "-6VLo37PQxf8"
      },
      "source": [
        "# Iteration8 :\n",
        "\n",
        "slice8 = 7\n",
        "\n",
        "approx8 = [simple_regret_approx_1[slice8],\n",
        "       simple_regret_approx_2[slice8],\n",
        "       simple_regret_approx_3[slice8],\n",
        "       simple_regret_approx_4[slice8],\n",
        "       simple_regret_approx_5[slice8],\n",
        "       simple_regret_approx_6[slice8],\n",
        "       simple_regret_approx_7[slice8],\n",
        "       simple_regret_approx_8[slice8],\n",
        "       simple_regret_approx_9[slice8],\n",
        "       simple_regret_approx_10[slice8],\n",
        "       simple_regret_approx_11[slice8],\n",
        "       simple_regret_approx_12[slice8],\n",
        "       simple_regret_approx_13[slice8],\n",
        "       simple_regret_approx_14[slice8],\n",
        "       simple_regret_approx_15[slice8],\n",
        "       simple_regret_approx_16[slice8],\n",
        "       simple_regret_approx_17[slice8],\n",
        "       simple_regret_approx_18[slice8],\n",
        "       simple_regret_approx_19[slice8],\n",
        "       simple_regret_approx_20[slice8]]\n",
        "\n",
        "exact8 = [simple_regret_exact_1[slice8],\n",
        "       simple_regret_exact_2[slice8],\n",
        "       simple_regret_exact_3[slice8],\n",
        "       simple_regret_exact_4[slice8],\n",
        "       simple_regret_exact_5[slice8],\n",
        "       simple_regret_exact_6[slice8],\n",
        "       simple_regret_exact_7[slice8],\n",
        "       simple_regret_exact_8[slice8],\n",
        "       simple_regret_exact_9[slice8],\n",
        "       simple_regret_exact_10[slice8],\n",
        "       simple_regret_exact_11[slice8],\n",
        "       simple_regret_exact_12[slice8],\n",
        "       simple_regret_exact_13[slice8],\n",
        "       simple_regret_exact_14[slice8],\n",
        "       simple_regret_exact_15[slice8],\n",
        "       simple_regret_exact_16[slice8],\n",
        "       simple_regret_exact_17[slice8],\n",
        "       simple_regret_exact_18[slice8],\n",
        "       simple_regret_exact_19[slice8],\n",
        "       simple_regret_exact_20[slice8]]\n",
        "\n",
        "approx8_results = pd.DataFrame(approx8).sort_values(by=[0], ascending=False)\n",
        "exact8_results = pd.DataFrame(exact8).sort_values(by=[0], ascending=False)\n",
        "\n",
        "### Best simple regret minimization IQR - approx:\n",
        "lower_approx8 = np.asarray(approx8_results[4:5][0])[0]\n",
        "median_approx8 = np.asarray(approx8_results[9:10][0])[0]\n",
        "upper_approx8 = np.asarray(approx8_results[14:15][0])[0]\n",
        "\n",
        "lower_exact8 = np.asarray(exact8_results[4:5][0])[0]\n",
        "median_exact8 = np.asarray(exact8_results[9:10][0])[0]\n",
        "upper_exact8 = np.asarray(exact8_results[14:15][0])[0]"
      ],
      "execution_count": 90,
      "outputs": []
    },
    {
      "cell_type": "code",
      "metadata": {
        "id": "2Dp-9CC2Qxf9"
      },
      "source": [
        "# Iteration18 :\n",
        "\n",
        "slice18 = 17\n",
        "\n",
        "approx18 = [simple_regret_approx_1[slice18],\n",
        "       simple_regret_approx_2[slice18],\n",
        "       simple_regret_approx_3[slice18],\n",
        "       simple_regret_approx_4[slice18],\n",
        "       simple_regret_approx_5[slice18],\n",
        "       simple_regret_approx_6[slice18],\n",
        "       simple_regret_approx_7[slice18],\n",
        "       simple_regret_approx_8[slice18],\n",
        "       simple_regret_approx_9[slice18],\n",
        "       simple_regret_approx_10[slice18],\n",
        "       simple_regret_approx_11[slice18],\n",
        "       simple_regret_approx_12[slice18],\n",
        "       simple_regret_approx_13[slice18],\n",
        "       simple_regret_approx_14[slice18],\n",
        "       simple_regret_approx_15[slice18],\n",
        "       simple_regret_approx_16[slice18],\n",
        "       simple_regret_approx_17[slice18],\n",
        "       simple_regret_approx_18[slice18],\n",
        "       simple_regret_approx_19[slice18],\n",
        "       simple_regret_approx_20[slice18]]\n",
        "\n",
        "exact18 = [simple_regret_exact_1[slice18],\n",
        "       simple_regret_exact_2[slice18],\n",
        "       simple_regret_exact_3[slice18],\n",
        "       simple_regret_exact_4[slice18],\n",
        "       simple_regret_exact_5[slice18],\n",
        "       simple_regret_exact_6[slice18],\n",
        "       simple_regret_exact_7[slice18],\n",
        "       simple_regret_exact_8[slice18],\n",
        "       simple_regret_exact_9[slice18],\n",
        "       simple_regret_exact_10[slice18],\n",
        "       simple_regret_exact_11[slice18],\n",
        "       simple_regret_exact_12[slice18],\n",
        "       simple_regret_exact_13[slice18],\n",
        "       simple_regret_exact_14[slice18],\n",
        "       simple_regret_exact_15[slice18],\n",
        "       simple_regret_exact_16[slice18],\n",
        "       simple_regret_exact_17[slice18],\n",
        "       simple_regret_exact_18[slice18],\n",
        "       simple_regret_exact_19[slice18],\n",
        "       simple_regret_exact_20[slice18]]\n",
        "\n",
        "approx18_results = pd.DataFrame(approx18).sort_values(by=[0], ascending=False)\n",
        "exact18_results = pd.DataFrame(exact18).sort_values(by=[0], ascending=False)\n",
        "\n",
        "### Best simple regret minimization IQR - approx:\n",
        "lower_approx18 = np.asarray(approx18_results[4:5][0])[0]\n",
        "median_approx18 = np.asarray(approx18_results[9:10][0])[0]\n",
        "upper_approx18 = np.asarray(approx18_results[14:15][0])[0]\n",
        "\n",
        "lower_exact18 = np.asarray(exact18_results[4:5][0])[0]\n",
        "median_exact18 = np.asarray(exact18_results[9:10][0])[0]\n",
        "upper_exact18 = np.asarray(exact18_results[14:15][0])[0]"
      ],
      "execution_count": 91,
      "outputs": []
    },
    {
      "cell_type": "code",
      "metadata": {
        "id": "SqiaOpB7Qxf9"
      },
      "source": [
        "# Iteration9 :\n",
        "\n",
        "slice9 = 8\n",
        "\n",
        "approx9 = [simple_regret_approx_1[slice9],\n",
        "       simple_regret_approx_2[slice9],\n",
        "       simple_regret_approx_3[slice9],\n",
        "       simple_regret_approx_4[slice9],\n",
        "       simple_regret_approx_5[slice9],\n",
        "       simple_regret_approx_6[slice9],\n",
        "       simple_regret_approx_7[slice9],\n",
        "       simple_regret_approx_8[slice9],\n",
        "       simple_regret_approx_9[slice9],\n",
        "       simple_regret_approx_10[slice9],\n",
        "       simple_regret_approx_11[slice9],\n",
        "       simple_regret_approx_12[slice9],\n",
        "       simple_regret_approx_13[slice9],\n",
        "       simple_regret_approx_14[slice9],\n",
        "       simple_regret_approx_15[slice9],\n",
        "       simple_regret_approx_16[slice9],\n",
        "       simple_regret_approx_17[slice9],\n",
        "       simple_regret_approx_18[slice9],\n",
        "       simple_regret_approx_19[slice9],\n",
        "       simple_regret_approx_20[slice9]]\n",
        "\n",
        "exact9 = [simple_regret_exact_1[slice9],\n",
        "       simple_regret_exact_2[slice9],\n",
        "       simple_regret_exact_3[slice9],\n",
        "       simple_regret_exact_4[slice9],\n",
        "       simple_regret_exact_5[slice9],\n",
        "       simple_regret_exact_6[slice9],\n",
        "       simple_regret_exact_7[slice9],\n",
        "       simple_regret_exact_8[slice9],\n",
        "       simple_regret_exact_9[slice9],\n",
        "       simple_regret_exact_10[slice9],\n",
        "       simple_regret_exact_11[slice9],\n",
        "       simple_regret_exact_12[slice9],\n",
        "       simple_regret_exact_13[slice9],\n",
        "       simple_regret_exact_14[slice9],\n",
        "       simple_regret_exact_15[slice9],\n",
        "       simple_regret_exact_16[slice9],\n",
        "       simple_regret_exact_17[slice9],\n",
        "       simple_regret_exact_18[slice9],\n",
        "       simple_regret_exact_19[slice9],\n",
        "       simple_regret_exact_20[slice9]]\n",
        "\n",
        "approx9_results = pd.DataFrame(approx9).sort_values(by=[0], ascending=False)\n",
        "exact9_results = pd.DataFrame(exact9).sort_values(by=[0], ascending=False)\n",
        "\n",
        "### Best simple regret minimization IQR - approx:\n",
        "lower_approx9 = np.asarray(approx9_results[4:5][0])[0]\n",
        "median_approx9 = np.asarray(approx9_results[9:10][0])[0]\n",
        "upper_approx9 = np.asarray(approx9_results[14:15][0])[0]\n",
        "\n",
        "lower_exact9 = np.asarray(exact9_results[4:5][0])[0]\n",
        "median_exact9 = np.asarray(exact9_results[9:10][0])[0]\n",
        "upper_exact9 = np.asarray(exact9_results[14:15][0])[0]"
      ],
      "execution_count": 92,
      "outputs": []
    },
    {
      "cell_type": "code",
      "metadata": {
        "id": "OQkCCOsPQxf9"
      },
      "source": [
        "# Iteration19 :\n",
        "\n",
        "slice19 = 18\n",
        "\n",
        "approx19 = [simple_regret_approx_1[slice19],\n",
        "       simple_regret_approx_2[slice19],\n",
        "       simple_regret_approx_3[slice19],\n",
        "       simple_regret_approx_4[slice19],\n",
        "       simple_regret_approx_5[slice19],\n",
        "       simple_regret_approx_6[slice19],\n",
        "       simple_regret_approx_7[slice19],\n",
        "       simple_regret_approx_8[slice19],\n",
        "       simple_regret_approx_9[slice19],\n",
        "       simple_regret_approx_10[slice19],\n",
        "       simple_regret_approx_11[slice19],\n",
        "       simple_regret_approx_12[slice19],\n",
        "       simple_regret_approx_13[slice19],\n",
        "       simple_regret_approx_14[slice19],\n",
        "       simple_regret_approx_15[slice19],\n",
        "       simple_regret_approx_16[slice19],\n",
        "       simple_regret_approx_17[slice19],\n",
        "       simple_regret_approx_18[slice19],\n",
        "       simple_regret_approx_19[slice19],\n",
        "       simple_regret_approx_20[slice19]]\n",
        "\n",
        "exact19 = [simple_regret_exact_1[slice19],\n",
        "       simple_regret_exact_2[slice19],\n",
        "       simple_regret_exact_3[slice19],\n",
        "       simple_regret_exact_4[slice19],\n",
        "       simple_regret_exact_5[slice19],\n",
        "       simple_regret_exact_6[slice19],\n",
        "       simple_regret_exact_7[slice19],\n",
        "       simple_regret_exact_8[slice19],\n",
        "       simple_regret_exact_9[slice19],\n",
        "       simple_regret_exact_10[slice19],\n",
        "       simple_regret_exact_11[slice19],\n",
        "       simple_regret_exact_12[slice19],\n",
        "       simple_regret_exact_13[slice19],\n",
        "       simple_regret_exact_14[slice19],\n",
        "       simple_regret_exact_15[slice19],\n",
        "       simple_regret_exact_16[slice19],\n",
        "       simple_regret_exact_17[slice19],\n",
        "       simple_regret_exact_18[slice19],\n",
        "       simple_regret_exact_19[slice19],\n",
        "       simple_regret_exact_20[slice19]]\n",
        "\n",
        "approx19_results = pd.DataFrame(approx19).sort_values(by=[0], ascending=False)\n",
        "exact19_results = pd.DataFrame(exact19).sort_values(by=[0], ascending=False)\n",
        "\n",
        "### Best simple regret minimization IQR - approx:\n",
        "lower_approx19 = np.asarray(approx19_results[4:5][0])[0]\n",
        "median_approx19 = np.asarray(approx19_results[9:10][0])[0]\n",
        "upper_approx19 = np.asarray(approx19_results[14:15][0])[0]\n",
        "\n",
        "lower_exact19 = np.asarray(exact19_results[4:5][0])[0]\n",
        "median_exact19 = np.asarray(exact19_results[9:10][0])[0]\n",
        "upper_exact19 = np.asarray(exact19_results[14:15][0])[0]"
      ],
      "execution_count": 93,
      "outputs": []
    },
    {
      "cell_type": "code",
      "metadata": {
        "id": "h4vtWahcQxf-"
      },
      "source": [
        "# Iteration10 :\n",
        "\n",
        "slice10 = 9\n",
        "\n",
        "approx10 = [simple_regret_approx_1[slice10],\n",
        "       simple_regret_approx_2[slice10],\n",
        "       simple_regret_approx_3[slice10],\n",
        "       simple_regret_approx_4[slice10],\n",
        "       simple_regret_approx_5[slice10],\n",
        "       simple_regret_approx_6[slice10],\n",
        "       simple_regret_approx_7[slice10],\n",
        "       simple_regret_approx_8[slice10],\n",
        "       simple_regret_approx_9[slice10],\n",
        "       simple_regret_approx_10[slice10],\n",
        "       simple_regret_approx_11[slice10],\n",
        "       simple_regret_approx_12[slice10],\n",
        "       simple_regret_approx_13[slice10],\n",
        "       simple_regret_approx_14[slice10],\n",
        "       simple_regret_approx_15[slice10],\n",
        "       simple_regret_approx_16[slice10],\n",
        "       simple_regret_approx_17[slice10],\n",
        "       simple_regret_approx_18[slice10],\n",
        "       simple_regret_approx_19[slice10],\n",
        "       simple_regret_approx_20[slice10]]\n",
        "\n",
        "exact10 = [simple_regret_exact_1[slice10],\n",
        "       simple_regret_exact_2[slice10],\n",
        "       simple_regret_exact_3[slice10],\n",
        "       simple_regret_exact_4[slice10],\n",
        "       simple_regret_exact_5[slice10],\n",
        "       simple_regret_exact_6[slice10],\n",
        "       simple_regret_exact_7[slice10],\n",
        "       simple_regret_exact_8[slice10],\n",
        "       simple_regret_exact_9[slice10],\n",
        "       simple_regret_exact_10[slice10],\n",
        "       simple_regret_exact_11[slice10],\n",
        "       simple_regret_exact_12[slice10],\n",
        "       simple_regret_exact_13[slice10],\n",
        "       simple_regret_exact_14[slice10],\n",
        "       simple_regret_exact_15[slice10],\n",
        "       simple_regret_exact_16[slice10],\n",
        "       simple_regret_exact_17[slice10],\n",
        "       simple_regret_exact_18[slice10],\n",
        "       simple_regret_exact_19[slice10],\n",
        "       simple_regret_exact_20[slice10]]\n",
        "\n",
        "approx10_results = pd.DataFrame(approx10).sort_values(by=[0], ascending=False)\n",
        "exact10_results = pd.DataFrame(exact10).sort_values(by=[0], ascending=False)\n",
        "\n",
        "### Best simple regret minimization IQR - approx:\n",
        "lower_approx10 = np.asarray(approx10_results[4:5][0])[0]\n",
        "median_approx10 = np.asarray(approx10_results[9:10][0])[0]\n",
        "upper_approx10 = np.asarray(approx10_results[14:15][0])[0]\n",
        "\n",
        "lower_exact10 = np.asarray(exact10_results[4:5][0])[0]\n",
        "median_exact10 = np.asarray(exact10_results[9:10][0])[0]\n",
        "upper_exact10 = np.asarray(exact10_results[14:15][0])[0]"
      ],
      "execution_count": 94,
      "outputs": []
    },
    {
      "cell_type": "code",
      "metadata": {
        "id": "Rsf240pWQxf-"
      },
      "source": [
        "# Iteration20 :\n",
        "\n",
        "slice20 = 19\n",
        "\n",
        "approx20 = [simple_regret_approx_1[slice20],\n",
        "       simple_regret_approx_2[slice20],\n",
        "       simple_regret_approx_3[slice20],\n",
        "       simple_regret_approx_4[slice20],\n",
        "       simple_regret_approx_5[slice20],\n",
        "       simple_regret_approx_6[slice20],\n",
        "       simple_regret_approx_7[slice20],\n",
        "       simple_regret_approx_8[slice20],\n",
        "       simple_regret_approx_9[slice20],\n",
        "       simple_regret_approx_10[slice20],\n",
        "       simple_regret_approx_11[slice20],\n",
        "       simple_regret_approx_12[slice20],\n",
        "       simple_regret_approx_13[slice20],\n",
        "       simple_regret_approx_14[slice20],\n",
        "       simple_regret_approx_15[slice20],\n",
        "       simple_regret_approx_16[slice20],\n",
        "       simple_regret_approx_17[slice20],\n",
        "       simple_regret_approx_18[slice20],\n",
        "       simple_regret_approx_19[slice20],\n",
        "       simple_regret_approx_20[slice20]]\n",
        "\n",
        "exact20 = [simple_regret_exact_1[slice20],\n",
        "       simple_regret_exact_2[slice20],\n",
        "       simple_regret_exact_3[slice20],\n",
        "       simple_regret_exact_4[slice20],\n",
        "       simple_regret_exact_5[slice20],\n",
        "       simple_regret_exact_6[slice20],\n",
        "       simple_regret_exact_7[slice20],\n",
        "       simple_regret_exact_8[slice20],\n",
        "       simple_regret_exact_9[slice20],\n",
        "       simple_regret_exact_10[slice20],\n",
        "       simple_regret_exact_11[slice20],\n",
        "       simple_regret_exact_12[slice20],\n",
        "       simple_regret_exact_13[slice20],\n",
        "       simple_regret_exact_14[slice20],\n",
        "       simple_regret_exact_15[slice20],\n",
        "       simple_regret_exact_16[slice20],\n",
        "       simple_regret_exact_17[slice20],\n",
        "       simple_regret_exact_18[slice20],\n",
        "       simple_regret_exact_19[slice20],\n",
        "       simple_regret_exact_20[slice20]]\n",
        "\n",
        "approx20_results = pd.DataFrame(approx20).sort_values(by=[0], ascending=False)\n",
        "exact20_results = pd.DataFrame(exact20).sort_values(by=[0], ascending=False)\n",
        "\n",
        "### Best simple regret minimization IQR - approx:\n",
        "lower_approx20 = np.asarray(approx20_results[4:5][0])[0]\n",
        "median_approx20 = np.asarray(approx20_results[9:10][0])[0]\n",
        "upper_approx20 = np.asarray(approx20_results[14:15][0])[0]\n",
        "\n",
        "lower_exact20 = np.asarray(exact20_results[4:5][0])[0]\n",
        "median_exact20 = np.asarray(exact20_results[9:10][0])[0]\n",
        "upper_exact20 = np.asarray(exact20_results[14:15][0])[0]"
      ],
      "execution_count": 95,
      "outputs": []
    },
    {
      "cell_type": "code",
      "metadata": {
        "id": "gn36RejbQxf_"
      },
      "source": [
        "### Summarize arrays: 'Loser'\n",
        "\n",
        "lower_approx = [lower_approx1,\n",
        "            lower_approx2,\n",
        "            lower_approx3,\n",
        "            lower_approx4,\n",
        "            lower_approx5,\n",
        "            lower_approx6,\n",
        "            lower_approx7,\n",
        "            lower_approx8,\n",
        "            lower_approx9,\n",
        "            lower_approx10,\n",
        "            lower_approx11,\n",
        "            lower_approx12,\n",
        "            lower_approx13,\n",
        "            lower_approx14,\n",
        "            lower_approx15,\n",
        "            lower_approx16,\n",
        "            lower_approx17,\n",
        "            lower_approx18,\n",
        "            lower_approx19,\n",
        "            lower_approx20,\n",
        "            lower_approx21]\n",
        "\n",
        "median_approx = [median_approx1,\n",
        "            median_approx2,\n",
        "            median_approx3,\n",
        "            median_approx4,\n",
        "            median_approx5,\n",
        "            median_approx6,\n",
        "            median_approx7,\n",
        "            median_approx8,\n",
        "            median_approx9,\n",
        "            median_approx10,\n",
        "            median_approx11,\n",
        "            median_approx12,\n",
        "            median_approx13,\n",
        "            median_approx14,\n",
        "            median_approx15,\n",
        "            median_approx16,\n",
        "            median_approx17,\n",
        "            median_approx18,\n",
        "            median_approx19,\n",
        "            median_approx20,\n",
        "            median_approx21]\n",
        "\n",
        "upper_approx = [upper_approx1,\n",
        "            upper_approx2,\n",
        "            upper_approx3,\n",
        "            upper_approx4,\n",
        "            upper_approx5,\n",
        "            upper_approx6,\n",
        "            upper_approx7,\n",
        "            upper_approx8,\n",
        "            upper_approx9,\n",
        "            upper_approx10,\n",
        "            upper_approx11,\n",
        "            upper_approx12,\n",
        "            upper_approx13,\n",
        "            upper_approx14,\n",
        "            upper_approx15,\n",
        "            upper_approx16,\n",
        "            upper_approx17,\n",
        "            upper_approx18,\n",
        "            upper_approx19,\n",
        "            upper_approx20,\n",
        "            upper_approx21]"
      ],
      "execution_count": 96,
      "outputs": []
    },
    {
      "cell_type": "code",
      "metadata": {
        "id": "wxtGTOYfQxf_"
      },
      "source": [
        "### Summarize arrays: 'exact'\n",
        "\n",
        "lower_exact = [lower_exact1,\n",
        "            lower_exact2,\n",
        "            lower_exact3,\n",
        "            lower_exact4,\n",
        "            lower_exact5,\n",
        "            lower_exact6,\n",
        "            lower_exact7,\n",
        "            lower_exact8,\n",
        "            lower_exact9,\n",
        "            lower_exact10,\n",
        "            lower_exact11,\n",
        "            lower_exact12,\n",
        "            lower_exact13,\n",
        "            lower_exact14,\n",
        "            lower_exact15,\n",
        "            lower_exact16,\n",
        "            lower_exact17,\n",
        "            lower_exact18,\n",
        "            lower_exact19,\n",
        "            lower_exact20,\n",
        "            lower_exact21]\n",
        "\n",
        "median_exact = [median_exact1,\n",
        "            median_exact2,\n",
        "            median_exact3,\n",
        "            median_exact4,\n",
        "            median_exact5,\n",
        "            median_exact6,\n",
        "            median_exact7,\n",
        "            median_exact8,\n",
        "            median_exact9,\n",
        "            median_exact10,\n",
        "            median_exact11,\n",
        "            median_exact12,\n",
        "            median_exact13,\n",
        "            median_exact14,\n",
        "            median_exact15,\n",
        "            median_exact16,\n",
        "            median_exact17,\n",
        "            median_exact18,\n",
        "            median_exact19,\n",
        "            median_exact20,\n",
        "            median_exact21]\n",
        "\n",
        "upper_exact = [upper_exact1,\n",
        "            upper_exact2,\n",
        "            upper_exact3,\n",
        "            upper_exact4,\n",
        "            upper_exact5,\n",
        "            upper_exact6,\n",
        "            upper_exact7,\n",
        "            upper_exact8,\n",
        "            upper_exact9,\n",
        "            upper_exact10,\n",
        "            upper_exact11,\n",
        "            upper_exact12,\n",
        "            upper_exact13,\n",
        "            upper_exact14,\n",
        "            upper_exact15,\n",
        "            upper_exact16,\n",
        "            upper_exact17,\n",
        "            upper_exact18,\n",
        "            upper_exact19,\n",
        "            upper_exact20,\n",
        "            upper_exact21]"
      ],
      "execution_count": 97,
      "outputs": []
    },
    {
      "cell_type": "code",
      "metadata": {
        "id": "2MONq-BXQxgA",
        "colab": {
          "base_uri": "https://localhost:8080/",
          "height": 299
        },
        "outputId": "cf7fe2bd-7f0b-421b-be1e-b39eb84902b8"
      },
      "source": [
        "### Visualise!\n",
        "\n",
        "title = func\n",
        "plt.figure()\n",
        "\n",
        "plt.plot(median_approx, color = 'Green')\n",
        "plt.plot(median_exact, color = 'Blue')\n",
        "\n",
        "xstar = np.arange(0, iters+1, step=1)\n",
        "plt.fill_between(xstar, lower_approx, upper_approx, facecolor = 'Green', alpha=0.4, label='GP ERM Optimization: Approx GP ERM gradients')\n",
        "plt.fill_between(xstar, lower_exact, upper_exact, facecolor = 'Blue', alpha=0.4, label='GP ERM Optimization: Exact GP dERM gradients')\n",
        "\n",
        "plt.title(title, weight = 'bold')\n",
        "plt.xlabel('(Post-initialization) iteration $\\it{k}$', weight = 'bold')\n",
        "plt.ylabel('log(Regret)', weight = 'bold') \n",
        "plt.legend(loc=1) # add plot legend\n",
        "\n",
        "### Make the x-ticks integers, not floats:\n",
        "count = len(xstar)\n",
        "plt.xticks(np.arange(count), np.arange(0, count))\n",
        "plt.show() #visualize!"
      ],
      "execution_count": 98,
      "outputs": [
        {
          "output_type": "display_data",
          "data": {
            "image/png": "[encoded data removed]",
            "text/plain": [
              "<Figure size 432x288 with 1 Axes>"
            ]
          },
          "metadata": {
            "needs_background": "light"
          }
        }
      ]
    },
    {
      "cell_type": "code",
      "metadata": {
        "id": "l5dkR2Id2oiu",
        "colab": {
          "base_uri": "https://localhost:8080/"
        },
        "outputId": "af1e3e53-952a-49d3-a01f-62c694860c00"
      },
      "source": [
        "time_approx, time_exact\n"
      ],
      "execution_count": 99,
      "outputs": [
        {
          "output_type": "execute_result",
          "data": {
            "text/plain": [
              "(184.5838372707367, 403.4137601852417)"
            ]
          },
          "metadata": {},
          "execution_count": 99
        }
      ]
    },
    {
      "cell_type": "code",
      "metadata": {
        "id": "77BffxK2Fe61"
      },
      "source": [
        ""
      ],
      "execution_count": 99,
      "outputs": []
    }
  ]
}