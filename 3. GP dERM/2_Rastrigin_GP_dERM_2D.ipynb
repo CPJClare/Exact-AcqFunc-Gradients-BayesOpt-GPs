{
  "nbformat": 4,
  "nbformat_minor": 0,
  "metadata": {
    "colab": {
      "name": "2_Rastrigin_GP_dERM_2D.ipynb",
      "provenance": [],
      "collapsed_sections": []
    },
    "kernelspec": {
      "name": "python3",
      "display_name": "Python 3"
    },
    "language_info": {
      "name": "python"
    }
  },
  "cells": [
    {
      "cell_type": "markdown",
      "metadata": {
        "id": "Dqn4dFx7Z2Ir"
      },
      "source": [
        "\n",
        "Rastrigin: 2D\n"
      ]
    },
    {
      "cell_type": "code",
      "metadata": {
        "id": "MJTM_GZZZb5x",
        "colab": {
          "base_uri": "https://localhost:8080/"
        },
        "outputId": "47f5079c-4898-4d5c-8e37-0b9555af5937"
      },
      "source": [
        "pip install pyGPGO\n"
      ],
      "execution_count": 1,
      "outputs": [
        {
          "output_type": "stream",
          "name": "stdout",
          "text": [
            "Collecting pyGPGO\n",
            "  Downloading pyGPGO-0.5.1.tar.gz (14 kB)\n",
            "Requirement already satisfied: numpy in /usr/local/lib/python3.7/dist-packages (from pyGPGO) (1.21.6)\n",
            "Requirement already satisfied: mkl in /usr/local/lib/python3.7/dist-packages (from pyGPGO) (2019.0)\n",
            "Requirement already satisfied: scipy in /usr/local/lib/python3.7/dist-packages (from pyGPGO) (1.4.1)\n",
            "Requirement already satisfied: joblib in /usr/local/lib/python3.7/dist-packages (from pyGPGO) (1.1.0)\n",
            "Requirement already satisfied: scikit-learn in /usr/local/lib/python3.7/dist-packages (from pyGPGO) (1.0.2)\n",
            "Requirement already satisfied: Theano-PyMC in /usr/local/lib/python3.7/dist-packages (from pyGPGO) (1.1.2)\n",
            "Requirement already satisfied: pyMC3 in /usr/local/lib/python3.7/dist-packages (from pyGPGO) (3.11.4)\n",
            "Requirement already satisfied: intel-openmp in /usr/local/lib/python3.7/dist-packages (from mkl->pyGPGO) (2022.0.2)\n",
            "Requirement already satisfied: cachetools>=4.2.1 in /usr/local/lib/python3.7/dist-packages (from pyMC3->pyGPGO) (4.2.4)\n",
            "Requirement already satisfied: pandas>=0.24.0 in /usr/local/lib/python3.7/dist-packages (from pyMC3->pyGPGO) (1.3.5)\n",
            "Requirement already satisfied: arviz>=0.11.0 in /usr/local/lib/python3.7/dist-packages (from pyMC3->pyGPGO) (0.12.0)\n",
            "Requirement already satisfied: typing-extensions>=3.7.4 in /usr/local/lib/python3.7/dist-packages (from pyMC3->pyGPGO) (4.2.0)\n",
            "Requirement already satisfied: fastprogress>=0.2.0 in /usr/local/lib/python3.7/dist-packages (from pyMC3->pyGPGO) (1.0.2)\n",
            "Requirement already satisfied: patsy>=0.5.1 in /usr/local/lib/python3.7/dist-packages (from pyMC3->pyGPGO) (0.5.2)\n",
            "Requirement already satisfied: semver>=2.13.0 in /usr/local/lib/python3.7/dist-packages (from pyMC3->pyGPGO) (2.13.0)\n",
            "Requirement already satisfied: dill in /usr/local/lib/python3.7/dist-packages (from pyMC3->pyGPGO) (0.3.4)\n",
            "Requirement already satisfied: filelock in /usr/local/lib/python3.7/dist-packages (from Theano-PyMC->pyGPGO) (3.6.0)\n",
            "Requirement already satisfied: matplotlib>=3.0 in /usr/local/lib/python3.7/dist-packages (from arviz>=0.11.0->pyMC3->pyGPGO) (3.2.2)\n",
            "Requirement already satisfied: netcdf4 in /usr/local/lib/python3.7/dist-packages (from arviz>=0.11.0->pyMC3->pyGPGO) (1.5.8)\n",
            "Requirement already satisfied: packaging in /usr/local/lib/python3.7/dist-packages (from arviz>=0.11.0->pyMC3->pyGPGO) (21.3)\n",
            "Requirement already satisfied: setuptools>=38.4 in /usr/local/lib/python3.7/dist-packages (from arviz>=0.11.0->pyMC3->pyGPGO) (57.4.0)\n",
            "Requirement already satisfied: xarray>=0.16.1 in /usr/local/lib/python3.7/dist-packages (from arviz>=0.11.0->pyMC3->pyGPGO) (0.18.2)\n",
            "Requirement already satisfied: cycler>=0.10 in /usr/local/lib/python3.7/dist-packages (from matplotlib>=3.0->arviz>=0.11.0->pyMC3->pyGPGO) (0.11.0)\n",
            "Requirement already satisfied: kiwisolver>=1.0.1 in /usr/local/lib/python3.7/dist-packages (from matplotlib>=3.0->arviz>=0.11.0->pyMC3->pyGPGO) (1.4.2)\n",
            "Requirement already satisfied: pyparsing!=2.0.4,!=2.1.2,!=2.1.6,>=2.0.1 in /usr/local/lib/python3.7/dist-packages (from matplotlib>=3.0->arviz>=0.11.0->pyMC3->pyGPGO) (3.0.8)\n",
            "Requirement already satisfied: python-dateutil>=2.1 in /usr/local/lib/python3.7/dist-packages (from matplotlib>=3.0->arviz>=0.11.0->pyMC3->pyGPGO) (2.8.2)\n",
            "Requirement already satisfied: pytz>=2017.3 in /usr/local/lib/python3.7/dist-packages (from pandas>=0.24.0->pyMC3->pyGPGO) (2022.1)\n",
            "Requirement already satisfied: six in /usr/local/lib/python3.7/dist-packages (from patsy>=0.5.1->pyMC3->pyGPGO) (1.15.0)\n",
            "Requirement already satisfied: cftime in /usr/local/lib/python3.7/dist-packages (from netcdf4->arviz>=0.11.0->pyMC3->pyGPGO) (1.6.0)\n",
            "Requirement already satisfied: threadpoolctl>=2.0.0 in /usr/local/lib/python3.7/dist-packages (from scikit-learn->pyGPGO) (3.1.0)\n",
            "Building wheels for collected packages: pyGPGO\n",
            "  Building wheel for pyGPGO (setup.py) ... \u001b[?25l\u001b[?25hdone\n",
            "  Created wheel for pyGPGO: filename=pyGPGO-0.5.1-py3-none-any.whl size=19879 sha256=b7d74699f4e1a7a43d1e7f6c9ae05580d3883782e23740e06bee43b9eebb03ff\n",
            "  Stored in directory: /root/.cache/pip/wheels/c8/5d/0b/2160114e2f1b87791c51b66cf07f89831dbb6f49167950316f\n",
            "Successfully built pyGPGO\n",
            "Installing collected packages: pyGPGO\n",
            "Successfully installed pyGPGO-0.5.1\n"
          ]
        }
      ]
    },
    {
      "cell_type": "code",
      "metadata": {
        "id": "ZJSSPbwPaEUB"
      },
      "source": [
        "### Import:\n",
        "\n",
        "import numpy as np\n",
        "import scipy as sp\n",
        "import pandas as pd\n",
        "import matplotlib.pyplot as plt\n",
        "import warnings\n",
        "import itertools\n",
        "\n",
        "from pyGPGO.GPGO import GPGO\n",
        "from pyGPGO.surrogates.GaussianProcess import GaussianProcess\n",
        "from pyGPGO.acquisition import Acquisition\n",
        "from pyGPGO.covfunc import squaredExponential\n",
        "\n",
        "from joblib import Parallel, delayed\n",
        "from numpy.linalg import solve, cholesky\n",
        "from scipy.spatial.distance import cdist\n",
        "from scipy.optimize import minimize\n",
        "from scipy.stats import norm\n",
        "import time\n",
        "\n",
        "warnings.filterwarnings(\"ignore\", category=RuntimeWarning)\n"
      ],
      "execution_count": 2,
      "outputs": []
    },
    {
      "cell_type": "code",
      "metadata": {
        "id": "OeYcTUNoaJWa"
      },
      "source": [
        "### Inputs:\n",
        "\n",
        "func = 'Rastrigin'\n",
        "n_test = 500\n",
        "eps = 1e-08\n",
        "\n",
        "util_grad_exact = 'dERM_GP'\n",
        "util_grad_approx = 'ExpectedRegret'\n",
        "\n",
        "n_init = 5 # random initialisations\n",
        "iters = 20\n",
        "opt = True"
      ],
      "execution_count": 3,
      "outputs": []
    },
    {
      "cell_type": "code",
      "metadata": {
        "id": "xpaEOjdzaPMS"
      },
      "source": [
        "### Objective Function - Rastrigin(x) 2-D:\n",
        "\n",
        "def objfunc(x1_training, x2_training):\n",
        "        return  operator * (10 * dim + x1_training** 2 - 10 * np.cos(2 * np.pi * x1_training)\n",
        "                                    + x2_training** 2 - 10 * np.cos(2 * np.pi * x2_training)\n",
        "                          )\n",
        "        \n",
        "def objfunc_der(x1_training, x2_training):\n",
        "        return  operator * (2 * x1_training + 20 * np.pi * np.sin(2 * np.pi * x1_training)\n",
        "                                    + 2 * x2_training + 20 * np.pi * np.sin(2 * np.pi * x2_training)\n",
        "                          )\n",
        "    \n",
        "# Constraints:\n",
        "lb = -5.12 \n",
        "ub = +5.12\n",
        "    \n",
        "# Input array dimension(s):\n",
        "dim = 2\n",
        "\n",
        "# 2-D inputs' parameter bounds:\n",
        "param = {'x1_training': ('cont', [lb, ub]),\n",
        "             'x2_training': ('cont', [lb, ub])}\n",
        "\n",
        "# True y bounds:\n",
        "operator = -1\n",
        "y_global_orig = 0 # targets global minimum\n",
        "\n",
        "# Test data:\n",
        "x1_test = np.linspace(lb, ub, n_test) \n",
        "x2_test = np.linspace(lb, ub, n_test)\n",
        "  \n",
        "x_test = np.column_stack((x1_test,x2_test))\n"
      ],
      "execution_count": 4,
      "outputs": []
    },
    {
      "cell_type": "code",
      "metadata": {
        "id": "eYpI3Zm4aGxi"
      },
      "source": [
        "n_start_AcqFunc = iters\n"
      ],
      "execution_count": 5,
      "outputs": []
    },
    {
      "cell_type": "code",
      "metadata": {
        "id": "oO_GUmOoaV0T"
      },
      "source": [
        "### Cumulative Regret Calculator:\n",
        "\n",
        "def min_max_array(x):\n",
        "    new_list = []\n",
        "    for i, num in enumerate(x):\n",
        "            new_list.append(np.min(x[0:i+1]))\n",
        "    return new_list\n",
        "  "
      ],
      "execution_count": 6,
      "outputs": []
    },
    {
      "cell_type": "code",
      "metadata": {
        "id": "kuuJx0IMam9S"
      },
      "source": [
        "### Surrogate derivatives: \n",
        "\n",
        "cov_func = squaredExponential()\n",
        "\n",
        "def kronDelta(X, Xstar):                     # Kronecker's Delta method\n",
        "    return cdist(X, Xstar) < np.finfo(np.float32).eps\n",
        "\n",
        "def se(X, Xstar, sigmaf, l, sigman):         # S.E. kernel method\n",
        "    return sigmaf * np.exp(-0.5 * cdist(X, Xstar) ** 2 / l ** 2) + sigman * kronDelta(X, Xstar)\n",
        "\n",
        "def delta(X, Xstar):                         # Distance between training X and test Xstar vectors\n",
        "    return (X - Xstar)\n",
        "   \n",
        "def der_covmat(X, Xstar, sigmaf, l, sigman): # Covariance matrix derivative terms (i.e. exact, first-order)\n",
        "    nx = len(X)\n",
        "    ny = len(Xstar)\n",
        "    return np.round(np.array([(delta(np.atleast_2d(i), np.atleast_2d(j))[0] * se(np.atleast_2d(i), np.atleast_2d(j), sigmaf, l, sigman)[0]).sum() for (i, j) in itertools.product(X, Xstar)]).reshape(nx, ny), 8)\n",
        "\n",
        "class dGaussianProcess(GaussianProcess):    # Via inheritance, also optimises hyperparameters when opt = TRUE\n",
        "    \n",
        "    def AcqGrad(self, Xstar):               # Method returning exact, first-order derivatives of the GP's posterior mean and standard deviation\n",
        "        Xstar = np.atleast_2d(Xstar)\n",
        "        Kstar = self.covfunc.K(self.X, Xstar).T\n",
        "        \n",
        "        dKstar = der_covmat(self.X, Xstar, self.covfunc.sigmaf, self.covfunc.l, self.covfunc.sigman).T\n",
        "        alpha_Kstar = np.dot(np.linalg.inv(self.K + (self.covfunc.sigman**2) * np.eye(len(self.X))), Kstar.T)\n",
        "        \n",
        "        dm = np.dot(dKstar, self.alpha)\n",
        "        ds = -2 * np.dot(dKstar, alpha_Kstar)\n",
        "        \n",
        "        return dm, ds           \n",
        "        "
      ],
      "execution_count": 7,
      "outputs": []
    },
    {
      "cell_type": "code",
      "metadata": {
        "id": "_Dc3YVHVaXz7"
      },
      "source": [
        "class Acquisition_new(Acquisition):    \n",
        "    def __init__(self, mode, eps=eps, **params):\n",
        "        \n",
        "        self.params = params\n",
        "        self.eps = eps\n",
        "\n",
        "        mode_dict = {\n",
        "            'ExpectedRegret': self.ExpectedRegret,\n",
        "            'dERM_GP': self.dERM_GP\n",
        "        }\n",
        "\n",
        "        self.f = mode_dict[mode]\n",
        "    \n",
        "    def ExpectedRegret(self, tau, mean, std):\n",
        "        z = (mean - y_global_orig - self.eps) / (std + self.eps)\n",
        "        return (mean - y_global_orig) * norm.cdf(z) + std * norm.pdf(z)[0]\n",
        "\n",
        "\n",
        "    def dERM_GP(self, tau, mean, std, ds, dm):\n",
        "        gamma = (mean - y_global_orig - self.eps) / (std + self.eps)\n",
        "        gamma_h = (mean - y_global_orig) / (std + self.eps)\n",
        "        dsdx = ds / (2 * (std + self.eps))\n",
        "        dmdx = (dm - gamma * dsdx) / (std + self.eps)\n",
        "        \n",
        "        f = (std + self.eps) * (gamma * norm.cdf(gamma) + norm.pdf(gamma))\n",
        "        df1 = f / (std + self.eps) * dsdx \n",
        "        df2 = (std + self.eps) * norm.cdf(gamma) * dmdx\n",
        "        df = (df1 + df2)[0]\n",
        "        df_arr = []\n",
        "\n",
        "        for j in range(0, dim):\n",
        "          df_arr.append(df)\n",
        "        return f, np.asarray(df_arr).transpose()\n",
        "        \n",
        "    def d_eval(self, tau, mean, std, ds, dm):\n",
        "    \n",
        "        return self.f(tau, mean, std, ds, dm, **self.params)\n",
        "        "
      ],
      "execution_count": 8,
      "outputs": []
    },
    {
      "cell_type": "code",
      "metadata": {
        "id": "PITEQC8YSl7i"
      },
      "source": [
        "## GPGO_multi: \n",
        "\n",
        "class GPGO_multi(GPGO):\n",
        "    n_start = n_start_AcqFunc\n",
        "\n",
        "    def __init__(self, surrogate, acquisition, f, parameter_dict, n_jobs=1):\n",
        "        self.GP = surrogate\n",
        "        self.A = acquisition\n",
        "        self.f = f\n",
        "        self.parameters = parameter_dict\n",
        "        self.n_jobs = n_jobs\n",
        "\n",
        "        self.parameter_key = list(parameter_dict.keys())\n",
        "        self.parameter_value = list(parameter_dict.values())\n",
        "        self.parameter_type = [p[0] for p in self.parameter_value]\n",
        "        self.parameter_range = [p[1] for p in self.parameter_value]\n",
        "\n",
        "        self.history = []\n",
        "        self.header =   'Evaluation \\t Proposed point \\t  Current eval. \\t  Best eval. \\t         Max AcqFunc.'\n",
        "        self.template = '{:3}\\t {}\\t {:3}\\t {:3}\\t {:3}'\n",
        "\n",
        "    def _optimizeAcq(self, method='L-BFGS-B', n_start=n_start_AcqFunc):\n",
        "        \n",
        "        start_points_dict = [self._sampleParam() for i in range(n_start)]\n",
        "        start_points_arr = np.array([list(s.values())\n",
        "                                     for s in start_points_dict])\n",
        "        x_best = np.empty((n_start, len(self.parameter_key)))\n",
        "        f_best = np.empty((n_start,))\n",
        "        opt = Parallel(n_jobs=self.n_jobs)(delayed(minimize)(self._acqWrapper,\n",
        "                                                                 x0=start_point,\n",
        "                                                                 method=method,\n",
        "                                                                 bounds=self.parameter_range) for start_point in\n",
        "                                               start_points_arr)\n",
        "        x_best = np.array([res.x for res in opt])\n",
        "        f_best = np.array([np.atleast_1d(res.fun)[0] for res in opt])\n",
        "        f_best_min = min(f_best)\n",
        "\n",
        "        self.x_best = x_best\n",
        "        self.f_best = f_best\n",
        "        self.f_best_min = f_best_min\n",
        "        self.best = x_best[np.argmin(f_best)]\n",
        "        self.start_points_arr = start_points_arr\n",
        "        \n",
        "        self.history.append(self.f_best_min)\n",
        "          \n",
        "    def _printInit(self):\n",
        "        print(self.header)\n",
        "        for init_eval in range(self.init_evals):\n",
        "            print(self.template.format('init', self.GP.X[init_eval], self.GP.y[init_eval], self.tau, ''))\n",
        "      \n",
        "    def _printCurrent(self):\n",
        "        OKGREEN = '\\033[92m'\n",
        "        ENDC = '\\033[0m'\n",
        "        BOLD = '\\033[1m'\n",
        "        eval = str(len(self.GP.y) - self.init_evals)\n",
        "        proposed = str(self.best)\n",
        "        curr_eval = str(self.GP.y[-1])\n",
        "        curr_best = str(self.tau)\n",
        "        max_acqfunc = str(self.f_best_min)\n",
        "        if float(curr_eval) >= float(curr_best):\n",
        "            eval = BOLD + OKGREEN + eval + ENDC\n",
        "            proposed = BOLD + OKGREEN + proposed + ENDC\n",
        "            curr_eval = BOLD + OKGREEN + curr_eval + ENDC\n",
        "            curr_best = BOLD + OKGREEN + curr_best + ENDC\n",
        "            max_acqfunc = BOLD + OKGREEN + str(self.f_best_min) + ENDC\n",
        "        print(self.template.format(eval, proposed, curr_eval, curr_best, max_acqfunc))\n",
        "\n",
        "    def run(self, max_iter=10, init_evals=3, resume=False):\n",
        "        \n",
        "        if not resume:\n",
        "            self.init_evals = init_evals\n",
        "            self._firstRun(self.init_evals)\n",
        "            self._printInit()\n",
        "        for iteration in range(max_iter):\n",
        "            self._optimizeAcq()\n",
        "            self.updateGP()\n",
        "            self._printCurrent()\n"
      ],
      "execution_count": 9,
      "outputs": []
    },
    {
      "cell_type": "code",
      "metadata": {
        "id": "b_B-w81BJxKN"
      },
      "source": [
        "## dGPGO:\n",
        "\n",
        "grad = 1\n",
        "\n",
        "class dGPGO(GPGO):\n",
        "    n_start = n_start_AcqFunc\n",
        "\n",
        "    def __init__(self, surrogate, acquisition, f, parameter_dict, n_jobs=1):\n",
        "        self.GP = surrogate\n",
        "        self.A = acquisition\n",
        "        self.f = f\n",
        "        self.parameters = parameter_dict\n",
        "        self.n_jobs = n_jobs\n",
        "\n",
        "        self.parameter_key = list(parameter_dict.keys())\n",
        "        self.parameter_value = list(parameter_dict.values())\n",
        "        self.parameter_type = [p[0] for p in self.parameter_value]\n",
        "        self.parameter_range = [p[1] for p in self.parameter_value]\n",
        "\n",
        "        self.history = []\n",
        "        self.header =   'Evaluation \\t Proposed point \\t  Current eval. \\t  Best eval. \\t         Max AcqFunc.'\n",
        "        self.template = '{:3}\\t {}\\t {:3}\\t {:3}\\t {:3}'\n",
        "\n",
        "    def d_optimizeAcq(self, method='L-BFGS-B', n_start=n_start_AcqFunc):\n",
        "        start_points_dict = [self._sampleParam() for i in range(n_start)]\n",
        "        start_points_arr = np.array([list(s.values())\n",
        "                                     for s in start_points_dict])\n",
        "        x_best = np.empty((n_start, len(self.parameter_key)))\n",
        "        f_best = np.empty((n_start,))\n",
        "        opt = Parallel(n_jobs=self.n_jobs)(delayed(minimize)(self.acqfunc,\n",
        "                                                                 x0=start_point,\n",
        "                                                                 method=method,\n",
        "                                                                 jac = True,\n",
        "                                                                 bounds=self.parameter_range) for start_point in\n",
        "                                               start_points_arr)\n",
        "        x_best = np.array([res.x for res in opt])\n",
        "        f_best = np.array([np.atleast_1d(res.fun)[0] for res in opt])\n",
        "        f_best_min = min(f_best)\n",
        "\n",
        "        self.x_best = x_best\n",
        "        self.f_best = f_best\n",
        "        self.f_best_min = f_best_min\n",
        "        self.best = x_best[np.argmin(f_best)]\n",
        "        self.start_points_arr = start_points_arr\n",
        "\n",
        "        self.history.append(self.f_best_min)\n",
        "\n",
        "    def _printInit(self):\n",
        "        print(self.header)\n",
        "        for init_eval in range(self.init_evals):\n",
        "            print(self.template.format('init', self.GP.X[init_eval], self.GP.y[init_eval], self.tau, ''))\n",
        "      \n",
        "    def _printCurrent(self):\n",
        "        OKGREEN = '\\033[92m'\n",
        "        ENDC = '\\033[0m'\n",
        "        BOLD = '\\033[1m'\n",
        "        eval = str(len(self.GP.y) - self.init_evals)\n",
        "        proposed = str(self.best)\n",
        "        curr_eval = str(self.GP.y[-1])\n",
        "        curr_best = str(self.tau)\n",
        "        max_acqfunc = str(self.f_best_min)\n",
        "        if float(curr_eval) >= float(curr_best):\n",
        "            eval = BOLD + OKGREEN + eval + ENDC\n",
        "            proposed = BOLD + OKGREEN + proposed + ENDC\n",
        "            curr_eval = BOLD + OKGREEN + curr_eval + ENDC\n",
        "            curr_best = BOLD + OKGREEN + curr_best + ENDC\n",
        "            max_acqfunc = BOLD + OKGREEN + str(self.f_best_min) + ENDC\n",
        "        print(self.template.format(eval, proposed, curr_eval, curr_best, max_acqfunc))\n",
        "\n",
        "    def run(self, max_iter=10, init_evals=3, resume=False):\n",
        "        \n",
        "        if not resume:\n",
        "            self.init_evals = init_evals\n",
        "            self._firstRun(self.init_evals)\n",
        "            self._printInit()\n",
        "        for iteration in range(max_iter):\n",
        "            self.d_optimizeAcq()\n",
        "            self.updateGP()\n",
        "            self._printCurrent()\n",
        "\n",
        "    def acqfunc(self, xnew, n_start=n_start_AcqFunc):\n",
        "        new_mean, new_var = self.GP.predict(xnew, return_std=True)\n",
        "        new_std = np.sqrt(new_var + eps)\n",
        "        dm, ds = self.GP.AcqGrad(xnew)\n",
        "        f, df = self.A.d_eval(self.tau, new_mean, new_std, ds=ds, dm=dm)\n",
        "\n",
        "        return -f, -df * grad\n"
      ],
      "execution_count": 10,
      "outputs": []
    },
    {
      "cell_type": "code",
      "metadata": {
        "id": "qXIKGuXVGEg2"
      },
      "source": [
        "###Reproducible set-seeds:\n",
        "\n",
        "run_num_1 = 1\n",
        "run_num_2 = 2\n",
        "run_num_3 = 3\n",
        "run_num_4 = 4\n",
        "run_num_5 = 5\n",
        "run_num_6 = 6\n",
        "run_num_7 = 7\n",
        "run_num_8 = 8\n",
        "run_num_9 = 9\n",
        "run_num_10 = 10\n",
        "run_num_11 = 11\n",
        "run_num_12 = 12\n",
        "run_num_13 = 13\n",
        "run_num_14 = 14\n",
        "run_num_15 = 15\n",
        "run_num_16 = 16\n",
        "run_num_17 = 17\n",
        "run_num_18 = 18\n",
        "run_num_19 = 19\n",
        "run_num_20 = 20\n"
      ],
      "execution_count": 11,
      "outputs": []
    },
    {
      "cell_type": "code",
      "metadata": {
        "colab": {
          "base_uri": "https://localhost:8080/"
        },
        "id": "JEhagQmnTVIK",
        "outputId": "820ca2a3-abb1-4dad-9ecf-5ed4545d5ad1"
      },
      "source": [
        "start_approx = time.time()\n",
        "start_approx\n"
      ],
      "execution_count": 12,
      "outputs": [
        {
          "output_type": "execute_result",
          "data": {
            "text/plain": [
              "1651583748.4471738"
            ]
          },
          "metadata": {},
          "execution_count": 12
        }
      ]
    },
    {
      "cell_type": "code",
      "metadata": {
        "colab": {
          "base_uri": "https://localhost:8080/"
        },
        "id": "aH0YSTXufD1v",
        "outputId": "b7ddd3a0-11e8-4c3f-c160-0c6b2ff29670"
      },
      "source": [
        "### ESTIMATED GP ERM GRADIENTS\n",
        "\n",
        "np.random.seed(run_num_1)\n",
        "surrogate_approx_1 = GaussianProcess(cov_func, optimize=opt)\n",
        "\n",
        "approx_1 = GPGO_multi(surrogate_approx_1, Acquisition_new(util_grad_approx), objfunc, param)\n",
        "approx_1.run(init_evals=n_init, max_iter=iters)\n"
      ],
      "execution_count": 13,
      "outputs": [
        {
          "output_type": "stream",
          "name": "stdout",
          "text": [
            "Evaluation \t Proposed point \t  Current eval. \t  Best eval. \t         Max AcqFunc.\n",
            "init\t [-0.84969467  2.25612281]\t -20.33436270766351\t -19.908403246996286\t    \n",
            "init\t [-5.1188288  -2.02411446]\t -33.07414982069084\t -19.908403246996286\t    \n",
            "init\t [-3.61721968 -4.17445279]\t -53.347974723929894\t -19.908403246996286\t    \n",
            "init\t [-3.21269544 -1.58145816]\t -39.218472310354045\t -19.908403246996286\t    \n",
            "init\t [-1.05710106  0.39748336]\t -19.908403246996286\t -19.908403246996286\t    \n",
            "1  \t [ 4.04077223 -4.24914728]\t -44.655863836006326\t -19.908403246996286\t -0.7978846603251022\n",
            "2  \t [4.64028151 5.12      ]\t -66.81752730899376\t -19.908403246996286\t -0.7978846383751512\n",
            "3  \t [-5.12  5.12]\t -57.849427451571785\t -19.908403246996286\t -0.7978761219559242\n",
            "4  \t [5.12       0.33809582]\t -44.29589120518327\t -19.908403246996286\t -0.7975553606158541\n",
            "5  \t [ 0.22553122 -5.12      ]\t -37.4442083812247\t -19.908403246996286\t -0.787408703109066\n",
            "6  \t [0.75630507 5.12      ]\t -39.100655645934765\t -19.908403246996286\t -0.7679906432679544\n",
            "7  \t [ 1.73165735 -1.39031832]\t -33.799441247361486\t -19.908403246996286\t -0.7557856808704231\n",
            "8  \t [-5.12       1.5325244]\t -51.065261852618484\t -19.908403246996286\t -0.749910887016807\n",
            "9  \t [2.34013515 2.12959214]\t -28.512701731326032\t -19.908403246996286\t -0.6673867566775555\n",
            "10 \t [-0.69320434 -2.5469523 ]\t -40.028806412820465\t -19.908403246996286\t -0.2434545877684361\n",
            "11 \t [-2.12390139  5.12      ]\t -36.31596198799966\t -19.908403246996286\t -0.4955383840038787\n",
            "12 \t [-2.92078453  2.70660754]\t -29.76277530254925\t -19.908403246996286\t -0.053464188787673034\n",
            "13 \t [ 1.87123046 -3.63032317]\t -36.6097805007936\t -19.908403246996286\t -0.003571644218162945\n",
            "14 \t [ 5.12       -2.11637186]\t -35.95991340029743\t -19.908403246996286\t -0.11203794478170914\n",
            "15 \t [0.8762372  0.65025558]\t -19.929656673065452\t -19.908403246996286\t -0.004528432469779131\n",
            "16 \t [5.12       2.65908473]\t -51.40218013140242\t -19.908403246996286\t -0.04858477813619505\n",
            "17 \t [-2.87561187  0.5129788 ]\t -31.400858687328558\t -19.908403246996286\t -0.0005152651465491886\n",
            "18 \t [2.4799825  4.04391675]\t -42.80288181371489\t -19.908403246996286\t -0.00020414130314423814\n",
            "19 \t [-1.74997847 -5.12      ]\t -41.98849108453059\t -19.908403246996286\t -0.0009150218727228959\n",
            "20 \t [3.63714851 1.07184182]\t -31.890559735488843\t -19.908403246996286\t -3.860683989568792e-09\n"
          ]
        }
      ]
    },
    {
      "cell_type": "code",
      "metadata": {
        "id": "wTxsSZxFGBB5",
        "colab": {
          "base_uri": "https://localhost:8080/"
        },
        "outputId": "4f12d507-15a5-498e-c678-6d533da097bb"
      },
      "source": [
        "### ESTIMATED GP ERM GRADIENTS\n",
        "\n",
        "np.random.seed(run_num_2)\n",
        "surrogate_approx_2 = GaussianProcess(cov_func, optimize=opt)\n",
        "\n",
        "approx_2 = GPGO_multi(surrogate_approx_2, Acquisition_new(util_grad_approx), objfunc, param)\n",
        "approx_2.run(init_evals=n_init, max_iter=iters)\n"
      ],
      "execution_count": 14,
      "outputs": [
        {
          "output_type": "stream",
          "name": "stdout",
          "text": [
            "Evaluation \t Proposed point \t  Current eval. \t  Best eval. \t         Max AcqFunc.\n",
            "init\t [-0.6554122  -4.85451539]\t -43.490296251903594\t -18.964539418712707\t    \n",
            "init\t [ 0.50854377 -0.6622987 ]\t -35.91861667536101\t -18.964539418712707\t    \n",
            "init\t [-0.81543371 -1.73737143]\t -20.479562046739524\t -18.964539418712707\t    \n",
            "init\t [-3.02439799  1.2213347 ]\t -18.964539418712707\t -18.964539418712707\t    \n",
            "init\t [-2.05153614 -2.3876887 ]\t -28.041315668371354\t -18.964539418712707\t    \n",
            "1  \t [ 5.12 -5.12]\t -57.849427451571785\t -18.964539418712707\t -0.7978840542504245\n",
            "2  \t [4.77484577 5.12      ]\t -60.169093311219\t -18.964539418712707\t -0.7978846604856327\n",
            "3  \t [-0.33018786  5.12      ]\t -43.86161461373481\t -18.964539418712707\t -0.7977884701018253\n",
            "4  \t [5.12       0.08038296]\t -30.179725711112503\t -18.964539418712707\t -0.7976643058859941\n",
            "5  \t [-5.12  5.12]\t -57.849427451571785\t -18.964539418712707\t -0.7975066491457234\n",
            "6  \t [-5.12 -5.12]\t -57.849427451571785\t -18.964539418712707\t -0.7960280226230926\n",
            "7  \t [2.21221993 2.42058758]\t -37.1823929181059\t -18.964539418712707\t -0.7482708407343884\n",
            "8  \t [-5.12       -1.23376944]\t -39.42887113878369\t -18.964539418712707\t -0.7363962604333458\n",
            "9  \t [ 2.61530629 -2.99622401]\t -33.30836961280833\t -18.964539418712707\t -0.6630286175315969\n",
            "10 \t [-0.72601013  2.16940122]\t -21.884547331897476\t -18.964539418712707\t -0.37215931480624953\n",
            "11 \t [-5.12        2.08416155]\t -34.63432530009636\t -18.964539418712707\t -0.37303229407137856\n",
            "12 \t [5.12       2.45307266]\t -54.51072732005417\t -18.964539418712707\t -0.16929399071607\n",
            "13 \t [ 5.12       -2.31182548]\t -48.056895717031175\t -18.964539418712707\t -0.17521345797561333\n",
            "14 \t [-2.68770569  3.85014784]\t -39.97692620771541\t -18.964539418712707\t -0.15356713154364976\n",
            "15 \t [ 2.83678985 -0.18929063]\t -19.17366852467381\t -18.964539418712707\t -0.0560542123818607\n",
            "16 \t [ 2.01549118 -5.12      ]\t -33.03425050477393\t -18.964539418712707\t -0.13279844797866125\n",
            "17 \t [2.14374547 5.12      ]\t -37.329195313287784\t -18.964539418712707\t -0.10850693196230682\n",
            "18 \t [-2.80496714 -5.12      ]\t -43.407117766896334\t -18.964539418712707\t -0.01170570874959316\n",
            "19 \t [-2.24038543 -0.19774904]\t -21.230331654354778\t -18.964539418712707\t -0.005573076909078566\n",
            "\u001b[1m\u001b[92m20\u001b[0m\t \u001b[1m\u001b[92m[0.69558842 0.97492405]\u001b[0m\t \u001b[1m\u001b[92m-14.910754530812259\u001b[0m\t \u001b[1m\u001b[92m-14.910754530812259\u001b[0m\t \u001b[1m\u001b[92m-2.3687213583830288e-06\u001b[0m\n"
          ]
        }
      ]
    },
    {
      "cell_type": "code",
      "metadata": {
        "id": "-dgzIrUIGCGT",
        "colab": {
          "base_uri": "https://localhost:8080/"
        },
        "outputId": "9acb855c-9674-4af1-dbce-e7ff8346f847"
      },
      "source": [
        "### ESTIMATED GP ERM GRADIENTS\n",
        "\n",
        "np.random.seed(run_num_3)\n",
        "surrogate_approx_3 = GaussianProcess(cov_func, optimize=opt)\n",
        "\n",
        "approx_3 = GPGO_multi(surrogate_approx_3, Acquisition_new(util_grad_approx), objfunc, param)\n",
        "approx_3.run(init_evals=n_init, max_iter=iters)\n"
      ],
      "execution_count": 15,
      "outputs": [
        {
          "output_type": "stream",
          "name": "stdout",
          "text": [
            "Evaluation \t Proposed point \t  Current eval. \t  Best eval. \t         Max AcqFunc.\n",
            "init\t [0.52017052 2.1314337 ]\t -27.953858411008774\t -10.607662635789808\t    \n",
            "init\t [-2.14113547  0.11087468]\t -10.607662635789808\t -10.607662635789808\t    \n",
            "init\t [4.02377681 4.05804123]\t -33.42749829480097\t -10.607662635789808\t    \n",
            "init\t [-3.83400642 -2.99783293]\t -28.650953928965198\t -10.607662635789808\t    \n",
            "init\t [-4.59297584 -0.6061072 ]\t -57.6631355589384\t -10.607662635789808\t    \n",
            "1  \t [ 5.12 -5.12]\t -57.849427451571785\t -10.607662635789808\t -0.7978846605384285\n",
            "2  \t [-4.61904204  5.12      ]\t -67.59102009462822\t -10.607662635789808\t -0.7978830439313692\n",
            "3  \t [ 5.12       -0.40159891]\t -47.234806525771404\t -10.607662635789808\t -0.7974458540787913\n",
            "4  \t [ 0.29071736 -5.12      ]\t -41.53976060750644\t -10.607662635789808\t -0.7976140522106314\n",
            "5  \t [ 1.34927722 -1.51093783]\t -39.92092770530185\t -10.607662635789808\t -0.7760872529847889\n",
            "6  \t [-0.80321914  5.12      ]\t -36.28798476592165\t -10.607662635789808\t -0.7535890720026315\n",
            "7  \t [-2.83254218  2.46988966]\t -38.98833245013012\t -10.607662635789808\t -0.5317605038188167\n",
            "8  \t [-5.12 -5.12]\t -57.849427451571785\t -10.607662635789808\t -0.5212271614486064\n",
            "9  \t [-1.2919301  -2.45233502]\t -39.84208242702125\t -10.607662635789808\t -0.3543302035212446\n",
            "10 \t [2.99550783 1.38871497]\t -28.55899513730704\t -10.607662635789808\t -0.29903824367051934\n",
            "11 \t [ 2.85586117 -3.62592372]\t -42.161439892553624\t -10.607662635789808\t -0.22548811004624703\n",
            "12 \t [-2.30541057 -5.12      ]\t -47.65127144412112\t -10.607662635789808\t -0.16665981063577534\n",
            "13 \t [-5.12        2.15780817]\t -38.10681530022745\t -10.607662635789808\t -0.12948245944002418\n",
            "14 \t [1.78454005 5.12      ]\t -39.95607685411203\t -10.607662635789808\t -0.2663333047010787\n",
            "15 \t [5.12       2.19509185]\t -40.36119305583071\t -10.607662635789808\t -0.03625576904754013\n",
            "16 \t [-0.59568875  0.19929885]\t -25.508930911238746\t -10.607662635789808\t -0.026793447670990456\n",
            "17 \t [-0.87023704  3.35303777]\t -31.17504276010481\t -10.607662635789808\t -8.722279219212762e-06\n",
            "18 \t [ 5.12       -2.64157807]\t -52.200177622673124\t -10.607662635789808\t -0.01310752809609178\n",
            "19 \t [5.12 5.12]\t -57.849427451571785\t -10.607662635789808\t -0.003096997580176338\n",
            "20 \t [2.4519435  2.74120935]\t -43.62589778780009\t -10.607662635789808\t -1.2636585453289877e-06\n"
          ]
        }
      ]
    },
    {
      "cell_type": "code",
      "metadata": {
        "id": "hOtG-2sCGCKS",
        "colab": {
          "base_uri": "https://localhost:8080/"
        },
        "outputId": "b09ac136-78f0-4f80-a8e5-49f11d3dcaa0"
      },
      "source": [
        "### ESTIMATED GP ERM GRADIENTS\n",
        "\n",
        "np.random.seed(run_num_4)\n",
        "surrogate_approx_4 = GaussianProcess(cov_func, optimize=opt)\n",
        "\n",
        "approx_4 = GPGO_multi(surrogate_approx_4, Acquisition_new(util_grad_approx), objfunc, param)\n",
        "approx_4.run(init_evals=n_init, max_iter=iters)\n"
      ],
      "execution_count": 16,
      "outputs": [
        {
          "output_type": "stream",
          "name": "stdout",
          "text": [
            "Evaluation \t Proposed point \t  Current eval. \t  Best eval. \t         Max AcqFunc.\n",
            "init\t [4.78238555 0.48365823]\t -51.03163809010808\t -14.323038259018315\t    \n",
            "init\t [4.84028785 2.19971578]\t -39.78645699016559\t -14.323038259018315\t    \n",
            "init\t [ 2.02474316 -2.90724357]\t -14.323038259018315\t -14.323038259018315\t    \n",
            "init\t [ 4.87705042 -5.05620219]\t -52.80627247106233\t -14.323038259018315\t    \n",
            "init\t [-2.52946061 -0.66773471]\t -41.61497868486559\t -14.323038259018315\t    \n",
            "1  \t [-0.75213717  4.73292922]\t -43.90258428635684\t -14.323038259018315\t -0.7978836093715236\n",
            "2  \t [-5.12 -5.12]\t -57.849427451571785\t -14.323038259018315\t -0.7978666512334759\n",
            "3  \t [-5.12        3.36771471]\t -57.006313118348025\t -14.323038259018315\t -0.7974679969535201\n",
            "4  \t [-0.95956445 -5.12      ]\t -30.166488099443967\t -14.323038259018315\t -0.7916354725420243\n",
            "\u001b[1m\u001b[92m5\u001b[0m\t \u001b[1m\u001b[92m[0.89090871 1.10665818]\u001b[0m\t \u001b[1m\u001b[92m-6.439744068363192\u001b[0m\t \u001b[1m\u001b[92m-6.439744068363192\u001b[0m\t \u001b[1m\u001b[92m-0.7803023961795099\u001b[0m\n",
            "6  \t [2.95832755 5.12      ]\t -38.01725142421135\t -6.439744068363192\t -0.7671499045833134\n",
            "7  \t [-5.12       -1.83363712]\t -37.270417440474304\t -6.439744068363192\t -0.5732174865826575\n",
            "8  \t [-2.00817308  2.13669142]\t -12.078363567459906\t -6.439744068363192\t -0.4506932258578528\n",
            "9  \t [ 0.42304787 -1.07673882]\t -21.332113158822757\t -6.439744068363192\t -0.43334123526443474\n",
            "10 \t [ 5.12       -2.25305238]\t -44.19273364780872\t -6.439744068363192\t -0.3723145085028062\n",
            "11 \t [ 1.82326518 -5.12      ]\t -37.806494090535054\t -6.439744068363192\t -0.35384753498152377\n",
            "12 \t [1.68394601 2.60377789]\t -41.595882706311855\t -6.439744068363192\t -0.3145272954337692\n",
            "13 \t [-5.12        0.70852453]\t -42.00330525347855\t -6.439744068363192\t -0.1915342178716422\n",
            "14 \t [-2.65165755 -3.36538841]\t -50.781810390961866\t -6.439744068363192\t -0.1895295751678983\n",
            "15 \t [-3.29111936  5.12      ]\t -52.31113902344342\t -6.439744068363192\t -0.17015214328366635\n",
            "16 \t [5.12 5.12]\t -57.849427451571785\t -6.439744068363192\t -0.15816845545725394\n",
            "17 \t [ 2.38665732 -0.33870814]\t -38.669981037315004\t -6.439744068363192\t -0.08411023167103146\n",
            "18 \t [-0.38601632  1.12960892]\t -22.104849203962424\t -6.439744068363192\t -0.08515501399822598\n",
            "19 \t [-0.10204959 -4.13543896]\t -22.50605775175587\t -6.439744068363192\t -9.562995342477053e-07\n",
            "20 \t [ 1.30180419 -2.20995822]\t -27.28694921186064\t -6.439744068363192\t -2.3000386544123245e-07\n"
          ]
        }
      ]
    },
    {
      "cell_type": "code",
      "metadata": {
        "id": "JF_SxcEvGCOl",
        "colab": {
          "base_uri": "https://localhost:8080/"
        },
        "outputId": "9674467f-e655-419d-d25f-f4ee824e64b6"
      },
      "source": [
        "### ESTIMATED GP ERM GRADIENTS\n",
        "\n",
        "np.random.seed(run_num_5)\n",
        "surrogate_approx_5 = GaussianProcess(cov_func, optimize=opt)\n",
        "\n",
        "approx_5 = GPGO_multi(surrogate_approx_5, Acquisition_new(util_grad_approx), objfunc, param)\n",
        "approx_5.run(init_evals=n_init, max_iter=iters)\n"
      ],
      "execution_count": 17,
      "outputs": [
        {
          "output_type": "stream",
          "name": "stdout",
          "text": [
            "Evaluation \t Proposed point \t  Current eval. \t  Best eval. \t         Max AcqFunc.\n",
            "init\t [-2.84678993  3.79629882]\t -33.93442008827236\t -7.8108627039749745\t    \n",
            "init\t [-3.00319585  4.2865757 ]\t -39.673876075575784\t -7.8108627039749745\t    \n",
            "init\t [-0.11866943  1.14425716]\t -7.8108627039749745\t -7.8108627039749745\t    \n",
            "init\t [2.72289645 0.1886002 ]\t -25.38160395721669\t -7.8108627039749745\t    \n",
            "init\t [-2.08076286 -3.19773462]\t -22.589982116319675\t -7.8108627039749745\t    \n",
            "1  \t [ 5.12       -4.82910414]\t -57.47682591577337\t -7.8108627039749745\t -0.7978834393457521\n",
            "2  \t [5.12 5.12]\t -57.849427451571785\t -7.8108627039749745\t -0.7978827837513032\n",
            "3  \t [-5.12       -0.04624623]\t -29.346055646927017\t -7.8108627039749745\t -0.7971839241642429\n",
            "4  \t [1.00367618 5.12      ]\t -29.934747080138813\t -7.8108627039749745\t -0.7914342615896365\n",
            "5  \t [-5.12 -5.12]\t -57.849427451571785\t -7.8108627039749745\t -0.7891128643701013\n",
            "6  \t [ 1.1069579 -5.12     ]\t -32.32451433069359\t -7.8108627039749745\t -0.788015772411688\n",
            "7  \t [ 5.12       -1.43814142]\t -50.247107353011046\t -7.8108627039749745\t -0.66467402487089\n",
            "8  \t [ 0.60095119 -1.87987767]\t -24.665556456353677\t -7.8108627039749745\t -0.6178032360108692\n",
            "9  \t [5.12       1.92589267]\t -33.69838779790845\t -7.8108627039749745\t -0.6060745162247865\n",
            "10 \t [-2.19754617  0.01747591]\t -11.653309348317256\t -7.8108627039749745\t -0.553749802672146\n",
            "11 \t [2.18576681 2.78412819]\t -26.4737893336779\t -7.8108627039749745\t -0.3653450455406042\n",
            "12 \t [-5.12        2.61671814]\t -53.20121125794996\t -7.8108627039749745\t -0.33293459415085097\n",
            "13 \t [-5.12       -2.41250676]\t -53.2715261720829\t -7.8108627039749745\t -0.22106947836073215\n",
            "14 \t [ 2.79552792 -3.03525449]\t -24.45033044110855\t -7.8108627039749745\t -0.17928241460301275\n",
            "15 \t [-1.6821498 -5.12     ]\t -45.88952962285349\t -7.8108627039749745\t -0.16144635994804973\n",
            "16 \t [-0.55253057  2.80290366]\t -34.35863108390403\t -7.8108627039749745\t -0.14555600364579513\n",
            "\u001b[1m\u001b[92m17\u001b[0m\t \u001b[1m\u001b[92m[-0.13848286  0.11768776]\u001b[0m\t \u001b[1m\u001b[92m-6.197263568655913\u001b[0m\t \u001b[1m\u001b[92m-6.197263568655913\u001b[0m\t \u001b[1m\u001b[92m-0.02500348625106344\u001b[0m\n",
            "18 \t [-2.74272767  1.33636293]\t -34.92913297983954\t -6.197263568655913\t -0.011680597325620407\n",
            "19 \t [-1.85557559 -1.21696323]\t -16.705666883088185\t -6.197263568655913\t -0.02420743668943956\n",
            "20 \t [0.60700729 0.51646662]\t -38.405343307557125\t -6.197263568655913\t -0.00377733497123936\n"
          ]
        }
      ]
    },
    {
      "cell_type": "code",
      "metadata": {
        "id": "-kDxZtJsGCR3",
        "colab": {
          "base_uri": "https://localhost:8080/"
        },
        "outputId": "e957ffde-a43f-4b60-9fed-67dbe1b6b669"
      },
      "source": [
        "### ESTIMATED GP ERM GRADIENTS\n",
        "\n",
        "np.random.seed(run_num_6)\n",
        "surrogate_approx_6 = GaussianProcess(cov_func, optimize=opt)\n",
        "\n",
        "approx_6 = GPGO_multi(surrogate_approx_6, Acquisition_new(util_grad_approx), objfunc, param)\n",
        "approx_6.run(init_evals=n_init, max_iter=iters)\n"
      ],
      "execution_count": 18,
      "outputs": [
        {
          "output_type": "stream",
          "name": "stdout",
          "text": [
            "Evaluation \t Proposed point \t  Current eval. \t  Best eval. \t         Max AcqFunc.\n",
            "init\t [ 4.02288795 -1.72052679]\t -31.08835710146886\t -17.28954482757088\t    \n",
            "init\t [ 3.28938622 -4.69302655]\t -58.797867722203385\t -17.28954482757088\t    \n",
            "init\t [-4.0175956   0.97333314]\t -17.28954482757088\t -17.28954482757088\t    \n",
            "init\t [ 0.30532979 -0.83141193]\t -19.296253155889353\t -17.28954482757088\t    \n",
            "init\t [-1.68542362  1.25459899]\t -28.650630936276173\t -17.28954482757088\t    \n",
            "1  \t [-3.50682913 -4.82182882]\t -61.17719800274786\t -17.28954482757088\t -0.7978833020644204\n",
            "2  \t [5.12 5.12]\t -57.849427451571785\t -17.28954482757088\t -0.7978846602458711\n",
            "3  \t [-5.12  5.12]\t -57.849427451571785\t -17.28954482757088\t -0.7974615534130703\n",
            "4  \t [0.39543609 5.12      ]\t -46.99939788436357\t -17.28954482757088\t -0.7972182318650025\n",
            "5  \t [2.84230651 1.91250873]\t -17.72964492594408\t -17.28954482757088\t -0.7784532132199081\n",
            "6  \t [-5.12       -1.80313793]\t -38.89895054798167\t -17.28954482757088\t -0.7099765784093206\n",
            "7  \t [-0.11793255 -4.27603001]\t -32.548580208075265\t -17.28954482757088\t -0.7070950721075978\n",
            "8  \t [5.12       1.12166469]\t -32.96515711265451\t -17.28954482757088\t -0.5173982124419335\n",
            "\u001b[1m\u001b[92m9\u001b[0m\t \u001b[1m\u001b[92m[-2.15241977 -1.84298309]\u001b[0m\t \u001b[1m\u001b[92m-16.759748844346507\u001b[0m\t \u001b[1m\u001b[92m-16.759748844346507\u001b[0m\t \u001b[1m\u001b[92m-0.4286708368293031\u001b[0m\n",
            "10 \t [-2.3476962  4.0394306]\t -37.894144436915646\t -16.759748844346507\t -0.42709304405019166\n",
            "11 \t [-5.12        2.43494876]\t -54.029956254658465\t -16.759748844346507\t -0.1078839852446618\n",
            "12 \t [0.64354593 2.2140105 ]\t -29.274933542229714\t -16.759748844346507\t -0.20847369969842283\n",
            "13 \t [ 1.64082068 -2.38178654]\t -42.06569061211095\t -16.759748844346507\t -0.05995519595952059\n",
            "14 \t [2.74690747 4.14294344]\t -38.67312074053181\t -16.759748844346507\t -0.06707120405311498\n",
            "15 \t [-3.14397633 -0.44795834]\t -33.37563078008457\t -16.759748844346507\t -0.0014910271700122584\n",
            "16 \t [ 5.12       -3.46514492]\t -60.69309292851891\t -16.759748844346507\t -0.009997137494162374\n",
            "17 \t [2.39403878 0.12596203]\t -26.58348067768651\t -16.759748844346507\t -0.02329587455953873\n",
            "18 \t [-1.17930687 -2.5798013 ]\t -32.518055682925365\t -16.759748844346507\t -0.00022396166135823462\n",
            "19 \t [ 1.64771181 -5.04664027]\t -44.60341226542793\t -16.759748844346507\t -1.633593768725854e-07\n",
            "20 \t [-3.8240752  -2.91744674]\t -29.96233531213317\t -16.759748844346507\t -1.8706324174850675e-08\n"
          ]
        }
      ]
    },
    {
      "cell_type": "code",
      "metadata": {
        "id": "fKB8MCD_GCVI",
        "colab": {
          "base_uri": "https://localhost:8080/"
        },
        "outputId": "c8707631-ffd3-4a05-a903-9a6d7af95786"
      },
      "source": [
        "### ESTIMATED GP ERM GRADIENTS\n",
        "\n",
        "np.random.seed(run_num_7)\n",
        "surrogate_approx_7 = GaussianProcess(cov_func, optimize=opt)\n",
        "\n",
        "approx_7 = GPGO_multi(surrogate_approx_7, Acquisition_new(util_grad_approx), objfunc, param)\n",
        "approx_7.run(init_evals=n_init, max_iter=iters)\n"
      ],
      "execution_count": 19,
      "outputs": [
        {
          "output_type": "stream",
          "name": "stdout",
          "text": [
            "Evaluation \t Proposed point \t  Current eval. \t  Best eval. \t         Max AcqFunc.\n",
            "init\t [-4.33860312  2.86636843]\t -45.646133072936244\t -22.52235437888213\t    \n",
            "init\t [-0.63068947  2.28828342]\t -34.83012662845338\t -22.52235437888213\t    \n",
            "init\t [4.8946126  0.39419771]\t -44.09657005662876\t -22.52235437888213\t    \n",
            "init\t [ 0.01147355 -4.38219639]\t -36.613209822404315\t -22.52235437888213\t    \n",
            "init\t [-2.37118484e+00 -1.20319155e-03]\t -22.52235437888213\t -22.52235437888213\t    \n",
            "1  \t [-5.12 -5.12]\t -57.849427451571785\t -22.52235437888213\t -0.7978710524655791\n",
            "2  \t [ 5.12 -5.12]\t -57.849427451571785\t -22.52235437888213\t -0.7978669643409964\n",
            "3  \t [3.59148274 5.12      ]\t -60.216456152688124\t -22.52235437888213\t -0.797796838988837\n",
            "4  \t [-4.02558214 -1.33646422]\t -33.289738493146906\t -22.52235437888213\t -0.7978846605384292\n",
            "\u001b[1m\u001b[92m5\u001b[0m\t \u001b[1m\u001b[92m[ 1.40596242 -0.96124905]\u001b[0m\t \u001b[1m\u001b[92m-21.500323674296737\u001b[0m\t \u001b[1m\u001b[92m-21.500323674296737\u001b[0m\t \u001b[1m\u001b[92m-0.7700992230642527\u001b[0m\n",
            "6  \t [-1.80774685  5.12      ]\t -38.64340927661605\t -21.500323674296737\t -0.6879680106110027\n",
            "7  \t [2.3374423  2.13046198]\t -28.400116562030135\t -21.500323674296737\t -0.5299796879988125\n",
            "8  \t [ 3.57934998 -2.53929695]\t -57.73916745101539\t -21.500323674296737\t -0.4828569425148926\n",
            "9  \t [-2.52339257 -3.63387347]\t -56.13077236452049\t -21.500323674296737\t -0.31792509067550073\n",
            "10 \t [-5.12  5.12]\t -57.849427451571785\t -21.500323674296737\t -0.28456721655067513\n",
            "11 \t [0.8057921 5.12     ]\t -36.13985072796768\t -21.500323674296737\t -0.283083770759407\n",
            "12 \t [ 2.32174791 -5.12      ]\t -48.67213351372662\t -21.500323674296737\t -0.16930091500513705\n",
            "13 \t [5.12       2.99416209]\t -37.896446947788526\t -21.500323674296737\t -0.18355240968221725\n",
            "14 \t [-0.64386987 -1.53213333]\t -38.74389785211973\t -21.500323674296737\t -0.08978368253057403\n",
            "15 \t [ 3.25667925 -0.42133209]\t -40.006108119100176\t -21.500323674296737\t -2.211887039743744e-06\n",
            "16 \t [-5.12        0.58600145]\t -47.84333116085675\t -21.500323674296737\t -0.07664092612093992\n",
            "\u001b[1m\u001b[92m17\u001b[0m\t \u001b[1m\u001b[92m[-2.19405477  0.94961621]\u001b[0m\t \u001b[1m\u001b[92m-12.769362746067559\u001b[0m\t \u001b[1m\u001b[92m-12.769362746067559\u001b[0m\t \u001b[1m\u001b[92m-3.126444464815711e-07\u001b[0m\n",
            "18 \t [ 1.19347349 -2.25353536]\t -23.24745028953262\t -12.769362746067559\t -6.969942978237813e-07\n",
            "19 \t [0.6351354  0.61051988]\t -35.06713639842066\t -12.769362746067559\t -0.0013862115900020663\n",
            "20 \t [-3.55098647  4.45289609]\t -71.4942359968112\t -12.769362746067559\t -3.5509085709947626e-14\n"
          ]
        }
      ]
    },
    {
      "cell_type": "code",
      "metadata": {
        "id": "4unvifF-GCXp",
        "colab": {
          "base_uri": "https://localhost:8080/"
        },
        "outputId": "a0a5d6c8-3fcf-4b63-9b08-dc105690c45b"
      },
      "source": [
        "### ESTIMATED GP ERM GRADIENTS\n",
        "\n",
        "np.random.seed(run_num_8)\n",
        "surrogate_approx_8 = GaussianProcess(cov_func, optimize=opt)\n",
        "\n",
        "approx_8 = GPGO_multi(surrogate_approx_8, Acquisition_new(util_grad_approx), objfunc, param)\n",
        "approx_8.run(init_evals=n_init, max_iter=iters)\n"
      ],
      "execution_count": 20,
      "outputs": [
        {
          "output_type": "stream",
          "name": "stdout",
          "text": [
            "Evaluation \t Proposed point \t  Current eval. \t  Best eval. \t         Max AcqFunc.\n",
            "init\t [3.82391708 4.79785639]\t -50.20079446939181\t -13.871821018360485\t    \n",
            "init\t [3.78055209 0.31596228]\t -36.5114251593508\t -13.871821018360485\t    \n",
            "init\t [-2.73686192 -5.00327624]\t -43.34985765011677\t -13.871821018360485\t    \n",
            "init\t [-0.7119993  -0.99992207]\t -13.871821018360485\t -13.871821018360485\t    \n",
            "init\t [ 0.23218863 -0.22126801]\t -17.190590355445654\t -13.871821018360485\t    \n",
            "1  \t [-3.08049418  4.13284171]\t -31.107529727094295\t -13.871821018360485\t -0.7978831977255296\n",
            "2  \t [ 5.12 -5.12]\t -57.849427451571785\t -13.871821018360485\t -0.7978832347822832\n",
            "3  \t [-5.12       -0.39982603]\t -47.168314618373735\t -13.871821018360485\t -0.7977020618859711\n",
            "4  \t [ 1.1839825  -4.40957154]\t -45.24488893987716\t -13.871821018360485\t -0.7872466516284291\n",
            "5  \t [0.42088128 3.28854359]\t -42.17943004471983\t -13.871821018360485\t -0.7660031668203726\n",
            "6  \t [-2.3877296   1.21881035]\t -32.85298825828709\t -13.871821018360485\t -0.5457403566010909\n",
            "7  \t [ 5.12       -2.11274934]\t -35.79454770546304\t -13.871821018360485\t -0.4944646691126154\n",
            "8  \t [-5.12       -3.49173973]\t -61.10349466320912\t -13.871821018360485\t -0.5328338215375144\n",
            "9  \t [-5.12        2.62396968]\t -52.92662582781436\t -13.871821018360485\t -0.3941093576045363\n",
            "10 \t [5.12       2.45000557]\t -54.43791440755735\t -13.871821018360485\t -0.2749532102495155\n",
            "11 \t [-2.40451673 -2.09521423]\t -30.16209102289261\t -13.871821018360485\t -0.2638404692028178\n",
            "12 \t [ 2.13222478 -1.86139629]\t -14.826681866838507\t -13.871821018360485\t -0.2512138633782105\n",
            "13 \t [-5.12  5.12]\t -57.849427451571785\t -13.871821018360485\t -0.12398005460386158\n",
            "14 \t [1.72922721 1.31540709]\t -30.016953457447926\t -13.871821018360485\t -0.035763876996751987\n",
            "15 \t [ 3.24236203 -3.38194583]\t -48.843578051259996\t -13.871821018360485\t -0.0029049666192354356\n",
            "16 \t [-0.29473675 -2.7236631 ]\t -31.926488037750925\t -13.871821018360485\t -0.008648035884929427\n",
            "17 \t [-0.74487209  0.60054416]\t -29.307654136886825\t -13.871821018360485\t -5.617101386962489e-06\n",
            "18 \t [0.68465518 4.4767246 ]\t -54.39442390069189\t -13.871821018360485\t -4.1232854274231876e-08\n",
            "19 \t [ 1.55367908 -0.95890864]\t -23.101470852675952\t -13.871821018360485\t -6.360382704502206e-05\n",
            "20 \t [-2.29349869  3.07090807]\t -28.365985948307426\t -13.871821018360485\t -1.6354199278458382e-07\n"
          ]
        }
      ]
    },
    {
      "cell_type": "code",
      "metadata": {
        "id": "85OIXcg7GCaJ",
        "colab": {
          "base_uri": "https://localhost:8080/"
        },
        "outputId": "306db57b-bddd-4f96-cc2e-75f4d7931352"
      },
      "source": [
        "### ESTIMATED GP ERM GRADIENTS\n",
        "\n",
        "np.random.seed(run_num_9)\n",
        "surrogate_approx_9 = GaussianProcess(cov_func, optimize=opt)\n",
        "\n",
        "approx_9 = GPGO_multi(surrogate_approx_9, Acquisition_new(util_grad_approx), objfunc, param)\n",
        "approx_9.run(init_evals=n_init, max_iter=iters)\n"
      ],
      "execution_count": 21,
      "outputs": [
        {
          "output_type": "stream",
          "name": "stdout",
          "text": [
            "Evaluation \t Proposed point \t  Current eval. \t  Best eval. \t         Max AcqFunc.\n",
            "init\t [-5.01376866  0.01919582]\t -25.248289026162446\t -24.454800313488693\t    \n",
            "init\t [-0.04328148 -3.74958562]\t -24.454800313488693\t -24.454800313488693\t    \n",
            "init\t [-3.66478248 -2.88195916]\t -39.46509426509438\t -24.454800313488693\t    \n",
            "init\t [-0.83447623 -2.57944404]\t -31.06766397812992\t -24.454800313488693\t    \n",
            "init\t [-4.25922917 -1.58209393]\t -49.922543556206975\t -24.454800313488693\t    \n",
            "1  \t [3.69491889 4.82146316]\t -55.95031066333101\t -24.454800313488693\t -0.7978846605384289\n",
            "2  \t [-2.19884748  5.08680517]\t -39.002426583702\t -24.454800313488693\t -0.7978840115058652\n",
            "3  \t [ 5.10452216 -0.68397541]\t -42.63453098314871\t -24.454800313488693\t -0.7978832010020596\n",
            "4  \t [ 4.49553512 -5.12      ]\t -69.13061496361522\t -24.454800313488693\t -0.797348595830772\n",
            "5  \t [0.62467764 1.48438927]\t -39.63094404175255\t -24.454800313488693\t -0.7964733084073282\n",
            "6  \t [-5.12        3.40866694]\t -58.94182754169992\t -24.454800313488693\t -0.7488643344063203\n",
            "7  \t [ 2.19603122 -1.6976157 ]\t -27.61040216117301\t -24.454800313488693\t -0.6058470751776914\n",
            "8  \t [-2.38119615  1.43087428]\t -44.12994728036372\t -24.454800313488693\t -0.5737194897671392\n",
            "9  \t [0.68720573 5.12      ]\t -43.240875567232194\t -24.454800313488693\t -0.5262948810701795\n",
            "10 \t [3.74025124 1.83478429]\t -32.88931871629151\t -24.454800313488693\t -0.45179316686881527\n",
            "11 \t [-5.12 -5.12]\t -57.849427451571785\t -24.454800313488693\t -0.5824613966369215\n",
            "12 \t [-0.76267536 -0.52627936]\t -29.927058216588023\t -24.454800313488693\t -0.025722275843828052\n",
            "13 \t [-0.82768517  3.25125546]\t -26.645030086257954\t -24.454800313488693\t -0.002734240925306934\n",
            "14 \t [ 1.62944879 -5.12      ]\t -48.45049366457667\t -24.454800313488693\t -0.2461926602367015\n",
            "15 \t [ 5.12       -2.82683129]\t -42.273564307710764\t -24.454800313488693\t -0.01160325117063829\n",
            "16 \t [2.48031905 0.15135134]\t -30.28957904557135\t -24.454800313488693\t -0.0007048330163036912\n",
            "17 \t [-2.34863672 -3.58784535]\t -52.71211181843207\t -24.454800313488693\t -1.5168226886285287e-06\n",
            "\u001b[1m\u001b[92m18\u001b[0m\t \u001b[1m\u001b[92m[1.93580309 3.15894555]\u001b[0m\t \u001b[1m\u001b[92m-19.11471182305047\u001b[0m\t \u001b[1m\u001b[92m-19.11471182305047\u001b[0m\t \u001b[1m\u001b[92m-0.00034130235519080204\u001b[0m\n",
            "19 \t [ 2.2563622  -3.10193575]\t -27.094734879071297\t -19.11471182305047\t -3.4706301369191446e-06\n",
            "\u001b[1m\u001b[92m20\u001b[0m\t \u001b[1m\u001b[92m[ 0.91410357 -0.70379965]\u001b[0m\t \u001b[1m\u001b[92m-15.61456315105384\u001b[0m\t \u001b[1m\u001b[92m-15.61456315105384\u001b[0m\t \u001b[1m\u001b[92m-4.678644334603575e-09\u001b[0m\n"
          ]
        }
      ]
    },
    {
      "cell_type": "code",
      "metadata": {
        "id": "QQBR-qJPGCcp",
        "colab": {
          "base_uri": "https://localhost:8080/"
        },
        "outputId": "317b72e5-fc75-46ea-f6c0-6f39f7ce851d"
      },
      "source": [
        "### ESTIMATED GP ERM GRADIENTS\n",
        "\n",
        "np.random.seed(run_num_10)\n",
        "surrogate_approx_10 = GaussianProcess(cov_func, optimize=opt)\n",
        "\n",
        "approx_10 = GPGO_multi(surrogate_approx_10, Acquisition_new(util_grad_approx), objfunc, param)\n",
        "approx_10.run(init_evals=n_init, max_iter=iters)\n"
      ],
      "execution_count": 22,
      "outputs": [
        {
          "output_type": "stream",
          "name": "stdout",
          "text": [
            "Evaluation \t Proposed point \t  Current eval. \t  Best eval. \t         Max AcqFunc.\n",
            "init\t [ 2.77832339 -4.90750004]\t -41.674330194390116\t -13.839458310244165\t    \n",
            "init\t [1.36855793 2.54775176]\t -44.69639719065837\t -13.839458310244165\t    \n",
            "init\t [-0.01528819 -2.81808235]\t -13.839458310244165\t -13.839458310244165\t    \n",
            "init\t [-3.09183626  2.66783449]\t -33.23221510904937\t -13.839458310244165\t    \n",
            "init\t [-3.38830503 -4.2154003 ]\t -54.73014366983691\t -13.839458310244165\t    \n",
            "1  \t [ 5.12       -0.56860392]\t -48.33329462653664\t -13.839458310244165\t -0.797752889743107\n",
            "2  \t [5.12 5.12]\t -57.849427451571785\t -13.839458310244165\t -0.7975242619791582\n",
            "3  \t [-5.12       -0.60617906]\t -47.14809482049852\t -13.839458310244165\t -0.7883924762093706\n",
            "4  \t [-5.12  5.12]\t -57.849427451571785\t -13.839458310244165\t -0.7464576628544131\n",
            "5  \t [-0.8379355  5.12     ]\t -34.378552324866575\t -13.839458310244165\t -0.7302607178501846\n",
            "\u001b[1m\u001b[92m6\u001b[0m\t \u001b[1m\u001b[92m[-1.23133198 -0.10555143]\u001b[0m\t \u001b[1m\u001b[92m-12.47679380872663\u001b[0m\t \u001b[1m\u001b[92m-12.47679380872663\u001b[0m\t \u001b[1m\u001b[92m-0.711454816254562\u001b[0m\n",
            "7  \t [ 1.89650273 -0.79267968]\t -13.616378046042055\t -12.47679380872663\t -0.6201526967189894\n",
            "8  \t [-0.38443073 -5.12      ]\t -46.54990933700003\t -12.47679380872663\t -0.46604938599133716\n",
            "9  \t [ 5.12       -3.59889677]\t -60.00749112508189\t -12.47679380872663\t -0.45605146309280875\n",
            "10 \t [4.53188814 2.23124507]\t -54.14073455072992\t -12.47679380872663\t -0.4206838983574905\n",
            "11 \t [2.14105335 5.12      ]\t -37.185718313925804\t -12.47679380872663\t -0.3457394536551647\n",
            "12 \t [-2.40775827 -1.64850903]\t -42.835236659261376\t -12.47679380872663\t -0.15177458955774414\n",
            "13 \t [-0.92614491  1.57309922]\t -23.353540784211823\t -12.47679380872663\t -0.05702824478369803\n",
            "14 \t [-5.12        2.04460689]\t -33.495332485196954\t -12.47679380872663\t -0.08478505725843852\n",
            "15 \t [ 2.34621994 -2.44967489]\t -46.69395255761563\t -12.47679380872663\t -0.04595387941033163\n",
            "16 \t [-5.12 -5.12]\t -57.849427451571785\t -12.47679380872663\t -0.016415156586984378\n",
            "17 \t [2.50557308 0.41816725]\t -45.15364083504776\t -12.47679380872663\t -0.00924768492920304\n",
            "18 \t [-5.12       -2.67621182]\t -50.55875536691266\t -12.47679380872663\t -0.00061574354267369\n",
            "19 \t [ 0.23651528 -0.75067051]\t -19.7310600387117\t -12.47679380872663\t -0.022736804343043177\n",
            "20 \t [-3.07730341  4.02975103]\t -27.039468593004102\t -12.47679380872663\t -5.873509552689911e-07\n"
          ]
        }
      ]
    },
    {
      "cell_type": "code",
      "metadata": {
        "id": "JS8ejeQ2GCfi",
        "colab": {
          "base_uri": "https://localhost:8080/"
        },
        "outputId": "8cf003b8-1965-4c8f-872f-60b27d6702a4"
      },
      "source": [
        "### ESTIMATED GP ERM GRADIENTS\n",
        "\n",
        "np.random.seed(run_num_11)\n",
        "surrogate_approx_11 = GaussianProcess(cov_func, optimize=opt)\n",
        "\n",
        "approx_11 = GPGO_multi(surrogate_approx_11, Acquisition_new(util_grad_approx), objfunc, param)\n",
        "approx_11.run(init_evals=n_init, max_iter=iters)\n"
      ],
      "execution_count": 23,
      "outputs": [
        {
          "output_type": "stream",
          "name": "stdout",
          "text": [
            "Evaluation \t Proposed point \t  Current eval. \t  Best eval. \t         Max AcqFunc.\n",
            "init\t [-3.27403839 -4.92057353]\t -47.655641290890955\t -10.679755252484755\t    \n",
            "init\t [-0.37664229  2.30332343]\t -35.87889240695259\t -10.679755252484755\t    \n",
            "init\t [-0.81711509 -0.14922651]\t -10.679755252484755\t -10.679755252484755\t    \n",
            "init\t [-4.98912446 -0.12931474]\t -28.05462905574235\t -10.679755252484755\t    \n",
            "init\t [4.52410012 3.59214172]\t -71.62694632141611\t -10.679755252484755\t    \n",
            "1  \t [ 3.73200513 -5.12      ]\t -53.98081952906584\t -10.679755252484755\t -0.7978846599405377\n",
            "2  \t [-5.12  5.12]\t -57.849427451571785\t -10.679755252484755\t -0.7978752424817925\n",
            "3  \t [ 5.12       -0.89340784]\t -31.883049733418897\t -10.679755252484755\t -0.796563976311785\n",
            "4  \t [ 0.31356246 -3.36750001]\t -42.05692693601467\t -10.679755252484755\t -0.7765713039686895\n",
            "5  \t [1.20983398 5.12      ]\t -37.89141064809076\t -10.679755252484755\t -0.7289801100515292\n",
            "6  \t [2.15080916 0.11826921]\t -11.439624560238133\t -10.679755252484755\t -0.6766705713187565\n",
            "7  \t [-1.93524338  5.12      ]\t -33.48627198953917\t -10.679755252484755\t -0.6072368595875757\n",
            "8  \t [-3.4834701   2.27241246]\t -48.64810243791286\t -10.679755252484755\t -0.5260114097345443\n",
            "9  \t [-2.67788912 -1.87845773]\t -27.85410629526345\t -10.679755252484755\t -0.5043381570968951\n",
            "10 \t [-5.12       -2.92559802]\t -38.55677654111436\t -10.679755252484755\t -0.3204747589772785\n",
            "11 \t [ 2.83474528 -2.22575224]\t -26.3954775582984\t -10.679755252484755\t -0.26314556884850593\n",
            "12 \t [2.20443204 2.05643465]\t -16.886390491682885\t -10.679755252484755\t -0.12571992212022004\n",
            "13 \t [5.12       1.17109939]\t -35.53929761146891\t -10.679755252484755\t -0.029300790520982084\n",
            "14 \t [ 0.63093412 -0.73443674]\t -28.716354718273486\t -10.679755252484755\t -0.027998946403275576\n",
            "15 \t [-0.79710528 -5.12      ]\t -36.6434009593611\t -10.679755252484755\t -0.03250710973194679\n",
            "16 \t [-5.01765715 -4.69688599]\t -60.574749378519186\t -10.679755252484755\t -1.6585161065029157e-06\n",
            "17 \t [-2.12985356  0.23382453]\t -16.724188392651794\t -10.679755252484755\t -0.00922686685793938\n",
            "18 \t [ 5.12       -3.18030288]\t -44.79847394110456\t -10.679755252484755\t -0.04485979228362008\n",
            "19 \t [2.81838208 1.45745273]\t -35.54664366804855\t -10.679755252484755\t -1.254957422570124e-06\n",
            "20 \t [ 2.17713294 -0.83168554]\t -16.101447219533263\t -10.679755252484755\t -3.0438154449575204e-08\n"
          ]
        }
      ]
    },
    {
      "cell_type": "code",
      "metadata": {
        "id": "DXwjUVZ4GCii",
        "colab": {
          "base_uri": "https://localhost:8080/"
        },
        "outputId": "750b925f-8304-4180-b9ca-9502dbc7a068"
      },
      "source": [
        "### ESTIMATED GP ERM GRADIENTS\n",
        "\n",
        "np.random.seed(run_num_12)\n",
        "surrogate_approx_12 = GaussianProcess(cov_func, optimize=opt)\n",
        "\n",
        "approx_12 = GPGO_multi(surrogate_approx_12, Acquisition_new(util_grad_approx), objfunc, param)\n",
        "approx_12.run(init_evals=n_init, max_iter=iters)\n"
      ],
      "execution_count": 24,
      "outputs": [
        {
          "output_type": "stream",
          "name": "stdout",
          "text": [
            "Evaluation \t Proposed point \t  Current eval. \t  Best eval. \t         Max AcqFunc.\n",
            "init\t [-3.54137249  2.45810889]\t -57.903242869085595\t -40.51116653209555\t    \n",
            "init\t [-2.42365424  0.34549139]\t -40.51116653209555\t -40.51116653209555\t    \n",
            "init\t [-4.97075238  4.28796936]\t -55.62655915398208\t -40.51116653209555\t    \n",
            "init\t [ 4.10332011 -4.77776458]\t -49.962803461970296\t -40.51116653209555\t    \n",
            "init\t [ 4.6791612  -3.71497655]\t -62.183891474990624\t -40.51116653209555\t    \n",
            "1  \t [4.12828398 5.12      ]\t -49.04377260896486\t -40.51116653209555\t -0.79788466053831\n",
            "2  \t [-5.12 -5.12]\t -57.849427451571785\t -40.51116653209555\t -0.7978845767886578\n",
            "3  \t [2.40876004 0.58851143]\t -43.04277302743077\t -40.51116653209555\t -0.7976097606122838\n",
            "\u001b[1m\u001b[92m4\u001b[0m\t \u001b[1m\u001b[92m[-0.48693952 -4.12692577]\u001b[0m\t \u001b[1m\u001b[92m-40.24998226952083\u001b[0m\t \u001b[1m\u001b[92m-40.24998226952083\u001b[0m\t \u001b[1m\u001b[92m-0.7974026457300695\u001b[0m\n",
            "5  \t [-5.12      -1.5444533]\t -50.922513303092174\t -40.24998226952083\t -0.7311796290773789\n",
            "\u001b[1m\u001b[92m6\u001b[0m\t \u001b[1m\u001b[92m[-0.17351928  5.12      ]\u001b[0m\t \u001b[1m\u001b[92m-34.33221949920649\u001b[0m\t \u001b[1m\u001b[92m-34.33221949920649\u001b[0m\t \u001b[1m\u001b[92m-0.795225459524138\u001b[0m\n",
            "\u001b[1m\u001b[92m7\u001b[0m\t \u001b[1m\u001b[92m[5.12       1.93232076]\u001b[0m\t \u001b[1m\u001b[92m-33.549184729968104\u001b[0m\t \u001b[1m\u001b[92m-33.549184729968104\u001b[0m\t \u001b[1m\u001b[92m-0.6505624678656439\u001b[0m\n",
            "\u001b[1m\u001b[92m8\u001b[0m\t \u001b[1m\u001b[92m[-0.03121353  2.24843828]\u001b[0m\t \u001b[1m\u001b[92m-15.15002504131002\u001b[0m\t \u001b[1m\u001b[92m-15.15002504131002\u001b[0m\t \u001b[1m\u001b[92m-0.4646426693980591\u001b[0m\n",
            "9  \t [ 1.73113715 -2.25520898]\t -29.592449790079872\t -15.15002504131002\t -0.4741189213661783\n",
            "10 \t [-2.63277316 -2.71416348]\t -43.248294989624824\t -15.15002504131002\t -0.24700021513432424\n",
            "11 \t [-0.16142083 -0.71962294]\t -17.15831418366424\t -15.15002504131002\t -0.1373452085484494\n",
            "12 \t [ 5.12       -0.85996122]\t -33.291884965908864\t -15.15002504131002\t -0.4087885316814975\n",
            "13 \t [2.04934135 3.39208855]\t -33.97090680370461\t -15.15002504131002\t -0.1958049978306861\n",
            "14 \t [-2.49510306  5.12      ]\t -55.14551994357126\t -15.15002504131002\t -0.10102731505882706\n",
            "15 \t [ 1.66812967 -5.12      ]\t -46.62755214431117\t -15.15002504131002\t -0.10965456080148911\n",
            "\u001b[1m\u001b[92m16\u001b[0m\t \u001b[1m\u001b[92m[-0.06026897  0.92128451]\u001b[0m\t \u001b[1m\u001b[92m-2.759204897150486\u001b[0m\t \u001b[1m\u001b[92m-2.759204897150486\u001b[0m\t \u001b[1m\u001b[92m-0.0001196769394921787\u001b[0m\n",
            "17 \t [-0.05919479  0.91962492]\t -2.7812548064246396\t -2.759204897150486\t -0.0010920417407672637\n",
            "18 \t [-0.05891593  0.91848116]\t -2.8077611933015287\t -2.759204897150486\t -0.0024076595527958954\n",
            "19 \t [-2.55377148 -5.12      ]\t -54.881136936799734\t -2.759204897150486\t -0.028529940693713868\n",
            "20 \t [-0.05874486  0.91820845]\t -2.8117676514277665\t -2.759204897150486\t -0.0035782194259512123\n"
          ]
        }
      ]
    },
    {
      "cell_type": "code",
      "metadata": {
        "id": "CphOPndPGClX",
        "colab": {
          "base_uri": "https://localhost:8080/"
        },
        "outputId": "9ceb0b01-35c6-489e-d379-1ce92c8f3b0a"
      },
      "source": [
        "### ESTIMATED GP ERM GRADIENTS\n",
        "\n",
        "np.random.seed(run_num_13)\n",
        "surrogate_approx_13 = GaussianProcess(cov_func, optimize=opt)\n",
        "\n",
        "approx_13 = GPGO_multi(surrogate_approx_13, Acquisition_new(util_grad_approx), objfunc, param)\n",
        "approx_13.run(init_evals=n_init, max_iter=iters)\n"
      ],
      "execution_count": 25,
      "outputs": [
        {
          "output_type": "stream",
          "name": "stdout",
          "text": [
            "Evaluation \t Proposed point \t  Current eval. \t  Best eval. \t         Max AcqFunc.\n",
            "init\t [ 2.84367268 -2.68757791]\t -33.58019830007169\t -17.435826639425656\t    \n",
            "init\t [3.32061217 4.76927179]\t -56.857057997503354\t -17.435826639425656\t    \n",
            "init\t [ 4.83943541 -0.47667971]\t -48.211919361679726\t -17.435826639425656\t    \n",
            "init\t [1.11659482 2.82139151]\t -17.435826639425656\t -17.435826639425656\t    \n",
            "init\t [1.45012065 2.27346667]\t -38.25352329493884\t -17.435826639425656\t    \n",
            "1  \t [-4.10876704 -2.60547476]\t -43.79941556238635\t -17.435826639425656\t -0.7978846602612047\n",
            "2  \t [-4.210207    3.16126079]\t -39.95389880951034\t -17.435826639425656\t -0.7978830047666959\n",
            "3  \t [-0.62130064 -5.12      ]\t -46.544229285892115\t -17.435826639425656\t -0.7957585441811007\n",
            "4  \t [-0.72633031 -0.82502418]\t -18.148696375637392\t -17.435826639425656\t -0.7797129321409187\n",
            "5  \t [-1.0340358  5.12     ]\t -30.221739620703865\t -17.435826639425656\t -0.7768368870552249\n",
            "6  \t [-5.12        0.27694188]\t -40.68614565908879\t -17.435826639425656\t -0.6084912375743821\n",
            "7  \t [ 5.12 -5.12]\t -57.849427451571785\t -17.435826639425656\t -0.7656865300957914\n",
            "8  \t [-5.12 -5.12]\t -57.849427451571785\t -17.435826639425656\t -0.5509076610626176\n",
            "9  \t [-1.61600891  1.7487843 ]\t -33.205153608636984\t -17.435826639425656\t -0.4986776107173594\n",
            "10 \t [5.12      2.4627682]\t -54.71756021030692\t -17.435826639425656\t -0.48835234475542166\n",
            "11 \t [ 1.69877588 -0.35321458]\t -32.213873115895304\t -17.435826639425656\t -0.2118271752298878\n",
            "12 \t [ 0.16665703 -2.74600168]\t -22.818970793731072\t -17.435826639425656\t -0.08621078820243935\n",
            "13 \t [-3.58664579  5.12      ]\t -60.34306385968996\t -17.435826639425656\t -0.05964021921988852\n",
            "14 \t [ 2.15664165 -5.12      ]\t -38.040592499214085\t -17.435826639425656\t -0.24200083921967663\n",
            "15 \t [-2.67283108 -0.52418962]\t -41.96442516562966\t -17.435826639425656\t -0.03264527544106416\n",
            "16 \t [-2.7804413 -5.12     ]\t -44.75452495646722\t -17.435826639425656\t -0.008913664057567619\n",
            "17 \t [0.96029818 5.12      ]\t -30.15641246944225\t -17.435826639425656\t -0.017364116921550432\n",
            "18 \t [-0.57702335  3.3075697 ]\t -43.66344903299291\t -17.435826639425656\t -3.6814501005498945e-05\n",
            "19 \t [-3.21492355  1.04796609]\t -19.698568468935775\t -17.435826639425656\t -4.760002572315749e-10\n",
            "20 \t [-2.50235735 -2.46612373]\t -52.11678819285541\t -17.435826639425656\t -1.0340416604127317e-07\n"
          ]
        }
      ]
    },
    {
      "cell_type": "code",
      "metadata": {
        "id": "ojHTeARNGCoi",
        "colab": {
          "base_uri": "https://localhost:8080/"
        },
        "outputId": "bea9668d-69d8-4fe7-f2aa-57fe8d1cc580"
      },
      "source": [
        "### ESTIMATED GP ERM GRADIENTS\n",
        "\n",
        "np.random.seed(run_num_14)\n",
        "surrogate_approx_14 = GaussianProcess(cov_func, optimize=opt)\n",
        "\n",
        "approx_14 = GPGO_multi(surrogate_approx_14, Acquisition_new(util_grad_approx), objfunc, param)\n",
        "approx_14.run(init_evals=n_init, max_iter=iters)\n"
      ],
      "execution_count": 26,
      "outputs": [
        {
          "output_type": "stream",
          "name": "stdout",
          "text": [
            "Evaluation \t Proposed point \t  Current eval. \t  Best eval. \t         Max AcqFunc.\n",
            "init\t [0.14277984 2.79721013]\t -18.683085263052178\t -10.423838604848608\t    \n",
            "init\t [ 3.7931795  -5.03759925]\t -47.36348784446708\t -10.423838604848608\t    \n",
            "init\t [-1.94830412  4.68586229]\t -40.19779334078636\t -10.423838604848608\t    \n",
            "init\t [ 0.13431513 -1.86076749]\t -10.423838604848608\t -10.423838604848608\t    \n",
            "init\t [ 0.40140736 -2.85434939]\t -30.353548735049138\t -10.423838604848608\t    \n",
            "1  \t [-4.70484912 -5.12      ]\t -63.85933234515868\t -10.423838604848608\t -0.7978833948748169\n",
            "2  \t [5.12 5.12]\t -57.849427451571785\t -10.423838604848608\t -0.79788337333807\n",
            "3  \t [-5.12        0.35849491]\t -45.354322655683745\t -10.423838604848608\t -0.7978743222543981\n",
            "4  \t [ 5.12       -0.06395671]\t -29.725421589142265\t -10.423838604848608\t -0.7978398020030241\n",
            "5  \t [-1.64697247  0.04263764]\t -19.101722950488842\t -10.423838604848608\t -0.7256847703456325\n",
            "6  \t [-5.12  5.12]\t -57.849427451571785\t -10.423838604848608\t -0.7396112264499017\n",
            "7  \t [1.91878822 0.2374641 ]\t -14.225164498617186\t -10.423838604848608\t -0.6898271284030559\n",
            "8  \t [1.75630304 5.12      ]\t -41.61338573282903\t -10.423838604848608\t -0.6625973989624063\n",
            "9  \t [-2.90314503 -2.48866376]\t -36.39160820173524\t -10.423838604848608\t -0.5846345515000739\n",
            "10 \t [-1.23047262 -5.12      ]\t -39.214911258323596\t -10.423838604848608\t -0.5646257499413132\n",
            "11 \t [3.48252511 2.41566791]\t -56.53192210009482\t -10.423838604848608\t -0.4894450820761688\n",
            "12 \t [ 3.28443247 -2.13848747]\t -31.06006730395933\t -10.423838604848608\t -0.4059908268681678\n",
            "13 \t [-3.13826249  2.27954626]\t -30.43284764191475\t -10.423838604848608\t -0.28479617761666315\n",
            "14 \t [ 1.30052469 -5.12      ]\t -43.73758484444386\t -10.423838604848608\t -0.0891800390280828\n",
            "15 \t [0.26956507 0.06842975]\t -12.213725955328945\t -10.423838604848608\t -0.025541249111805664\n",
            "16 \t [ 5.12       -2.95523276]\t -38.05110764294554\t -10.423838604848608\t -0.03977916260011696\n",
            "17 \t [-0.92668247  1.66072749]\t -19.978815503602405\t -10.423838604848608\t -0.00039156001460008156\n",
            "18 \t [-5.12        2.73254888]\t -47.48582741242331\t -10.423838604848608\t -0.004989275803006267\n",
            "19 \t [ 1.32639461 -1.04133861]\t -17.79694111679651\t -10.423838604848608\t -0.00015470865479491353\n",
            "20 \t [-0.94883123 -1.40751074]\t -21.752195230867862\t -10.423838604848608\t -0.00018847855743176194\n"
          ]
        }
      ]
    },
    {
      "cell_type": "code",
      "metadata": {
        "id": "vCJzn4vWGCs3",
        "colab": {
          "base_uri": "https://localhost:8080/"
        },
        "outputId": "83f71b63-5dd2-4b41-bab7-4f3fdc6ce9fa"
      },
      "source": [
        "### ESTIMATED GP ERM GRADIENTS\n",
        "\n",
        "np.random.seed(run_num_15)\n",
        "surrogate_approx_15 = GaussianProcess(cov_func, optimize=opt)\n",
        "\n",
        "approx_15 = GPGO_multi(surrogate_approx_15, Acquisition_new(util_grad_approx), objfunc, param)\n",
        "approx_15.run(init_evals=n_init, max_iter=iters)\n"
      ],
      "execution_count": 27,
      "outputs": [
        {
          "output_type": "stream",
          "name": "stdout",
          "text": [
            "Evaluation \t Proposed point \t  Current eval. \t  Best eval. \t         Max AcqFunc.\n",
            "init\t [ 3.57189322 -3.28810573]\t -54.938487770767075\t -7.990765314336182\t    \n",
            "init\t [-4.56332069 -1.41784631]\t -60.750198753157726\t -7.990765314336182\t    \n",
            "init\t [-2.29989449  0.3072023 ]\t -31.984997246800887\t -7.990765314336182\t    \n",
            "init\t [-1.9873903  -2.00218256]\t -7.990765314336182\t -7.990765314336182\t    \n",
            "init\t [-3.97576933 -2.5610341 ]\t -41.754957769694336\t -7.990765314336182\t    \n",
            "1  \t [5.12       4.80077407]\t -58.83575650942072\t -7.990765314336182\t -0.7978846605384032\n",
            "2  \t [-5.12      5.068432]\t -55.52393816380152\t -7.990765314336182\t -0.7978828978712603\n",
            "3  \t [0.00795539 5.12      ]\t -28.9372670078654\t -7.990765314336182\t -0.7978229783957769\n",
            "4  \t [2.2529431  1.11070694]\t -18.817589379945236\t -7.990765314336182\t -0.7968887790225914\n",
            "5  \t [-0.33197567 -5.12      ]\t -43.96086453827371\t -7.990765314336182\t -0.7941093496415288\n",
            "6  \t [5.12       0.08146084]\t -30.212870206517803\t -7.990765314336182\t -0.7394588431218119\n",
            "7  \t [ 0.59198821 -1.56889659]\t -40.265143369850016\t -7.990765314336182\t -0.6667464668885811\n",
            "8  \t [-5.12 -5.12]\t -57.849427451571785\t -7.990765314336182\t -0.6495708873538578\n",
            "9  \t [-2.39515181  3.29912484]\t -47.56619622483361\t -7.990765314336182\t -0.5837379076172878\n",
            "10 \t [0.22575054 2.17447802]\t -18.692465031592693\t -7.990765314336182\t -0.28791593480116157\n",
            "11 \t [-5.12        1.74834917]\t -42.0851614282253\t -7.990765314336182\t -0.5561567092782755\n",
            "12 \t [ 2.13208498 -5.12      ]\t -36.721110818857035\t -7.990765314336182\t -0.06661159976915379\n",
            "13 \t [2.41652535 3.84340353]\t -43.72956789039225\t -7.990765314336182\t -0.3273775497447454\n",
            "14 \t [5.12       2.25664312]\t -44.434430563562586\t -7.990765314336182\t -0.07352363523908823\n",
            "15 \t [-2.6310277 -5.12     ]\t -52.64527815706306\t -7.990765314336182\t -0.053687147412669445\n",
            "16 \t [-0.08611638  0.53763701]\t -21.446653080681983\t -7.990765314336182\t -0.001248216614787084\n",
            "17 \t [ 3.00320695 -0.77495095]\t -18.060530629041548\t -7.990765314336182\t -0.018433361191520364\n",
            "18 \t [-1.38799669 -2.76081669]\t -36.49382465231107\t -7.990765314336182\t -0.004901988732325932\n",
            "19 \t [ 1.10265193 -3.52288256]\t -35.532252564689834\t -7.990765314336182\t -8.117889431440395e-07\n",
            "20 \t [ 3.87272803 -0.60031097]\t -36.46765569949622\t -7.990765314336182\t -1.8900252188664897e-10\n"
          ]
        }
      ]
    },
    {
      "cell_type": "code",
      "metadata": {
        "id": "bGGkhp-kGCw6",
        "colab": {
          "base_uri": "https://localhost:8080/"
        },
        "outputId": "18d93263-d85c-46c5-f03d-7f27987fb712"
      },
      "source": [
        "### ESTIMATED GP ERM GRADIENTS\n",
        "\n",
        "np.random.seed(run_num_16)\n",
        "surrogate_approx_16 = GaussianProcess(cov_func, optimize=opt)\n",
        "\n",
        "approx_16 = GPGO_multi(surrogate_approx_16, Acquisition_new(util_grad_approx), objfunc, param)\n",
        "approx_16.run(init_evals=n_init, max_iter=iters)\n"
      ],
      "execution_count": 28,
      "outputs": [
        {
          "output_type": "stream",
          "name": "stdout",
          "text": [
            "Evaluation \t Proposed point \t  Current eval. \t  Best eval. \t         Max AcqFunc.\n",
            "init\t [-2.83349935  0.23719262]\t -22.27210456874814\t -22.27210456874814\t    \n",
            "init\t [ 0.51918292 -4.65303603]\t -57.57021076017139\t -22.27210456874814\t    \n",
            "init\t [-1.42613673 -2.83565116]\t -33.89145899403749\t -22.27210456874814\t    \n",
            "init\t [ 1.9325559  -3.44339021]\t -35.85029586225333\t -22.27210456874814\t    \n",
            "init\t [-4.39987336  4.51595121]\t -77.78800881964571\t -22.27210456874814\t    \n",
            "1  \t [2.142749   4.83374619]\t -36.69381850109535\t -22.27210456874814\t -0.7978846505667335\n",
            "2  \t [5.12       0.59289917]\t -47.620520561702925\t -22.27210456874814\t -0.7978571246419787\n",
            "3  \t [-5.12 -5.12]\t -57.849427451571785\t -22.27210456874814\t -0.7972212615514614\n",
            "\u001b[1m\u001b[92m4\u001b[0m\t \u001b[1m\u001b[92m[1.00686592 0.83549834]\u001b[0m\t \u001b[1m\u001b[92m-6.603799654593312\u001b[0m\t \u001b[1m\u001b[92m-6.603799654593312\u001b[0m\t \u001b[1m\u001b[92m-0.7898773079881505\u001b[0m\n",
            "5  \t [-0.94229223  3.24295445]\t -21.612310053023446\t -6.603799654593312\t -0.7318589319365801\n",
            "6  \t [ 5.12 -5.12]\t -57.849427451571785\t -6.603799654593312\t -0.7858160750168369\n",
            "7  \t [-5.12       -1.65377244]\t -47.34413544862416\t -6.603799654593312\t -0.6944719497648736\n",
            "8  \t [5.12       4.25504072]\t -57.34675025985734\t -6.603799654593312\t -0.6956522663947068\n",
            "9  \t [ 5.12       -2.21592631]\t -41.710447508620845\t -6.603799654593312\t -0.41686345090252497\n",
            "10 \t [-5.12        1.50296315]\t -51.18187885372618\t -6.603799654593312\t -0.44625998727119476\n",
            "11 \t [2.52046692 1.99872468]\t -30.26540227841259\t -6.603799654593312\t -0.33018100331741035\n",
            "12 \t [ 0.61975071 -0.77898331]\t -26.48027880405849\t -6.603799654593312\t -0.3785109738574383\n",
            "13 \t [-1.27022854  5.12      ]\t -41.805771748392516\t -6.603799654593312\t -0.15864541072866073\n",
            "14 \t [-2.37027108 -5.12      ]\t -51.40077606155856\t -6.603799654593312\t -0.19898649587711525\n",
            "15 \t [-0.59152165  1.20637663]\t -27.4901614091158\t -6.603799654593312\t -0.07955615658716991\n",
            "16 \t [ 2.83178708 -0.80749346]\t -20.221072069510317\t -6.603799654593312\t -0.07000735198453217\n",
            "17 \t [0.77437915 3.0275206 ]\t -18.38886953291604\t -6.603799654593312\t -0.00041262898168274633\n",
            "18 \t [-2.68064166  2.42600081]\t -46.23103560104887\t -6.603799654593312\t -0.004839063258105868\n",
            "19 \t [-1.77713826 -0.94448041]\t -12.955668575449302\t -6.603799654593312\t -0.00023534269997036112\n",
            "20 \t [ 3.45569769 -4.61735471]\t -70.27933734324651\t -6.603799654593312\t -4.0166314719475844e-07\n"
          ]
        }
      ]
    },
    {
      "cell_type": "code",
      "metadata": {
        "id": "Yrs2mp7hGC1Z",
        "colab": {
          "base_uri": "https://localhost:8080/"
        },
        "outputId": "fa89545f-fbad-4bf9-9c72-e641cd35253d"
      },
      "source": [
        "### ESTIMATED GP ERM GRADIENTS\n",
        "\n",
        "np.random.seed(run_num_17)\n",
        "surrogate_approx_17 = GaussianProcess(cov_func, optimize=opt)\n",
        "\n",
        "approx_17 = GPGO_multi(surrogate_approx_17, Acquisition_new(util_grad_approx), objfunc, param)\n",
        "approx_17.run(init_evals=n_init, max_iter=iters)\n"
      ],
      "execution_count": 29,
      "outputs": [
        {
          "output_type": "stream",
          "name": "stdout",
          "text": [
            "Evaluation \t Proposed point \t  Current eval. \t  Best eval. \t         Max AcqFunc.\n",
            "init\t [-2.10263037  0.31320838]\t -20.395145364684023\t -20.395145364684023\t    \n",
            "init\t [-3.15882714 -4.42470033]\t -53.03732051200137\t -20.395145364684023\t    \n",
            "init\t [2.93873111 1.60085526]\t -29.989224812583537\t -20.395145364684023\t    \n",
            "init\t [1.40821398 0.77417363]\t -29.451989415882437\t -20.395145364684023\t    \n",
            "init\t [-4.71999574 -1.45598869]\t -55.89242173757483\t -20.395145364684023\t    \n",
            "1  \t [ 5.12 -5.12]\t -57.849427451571785\t -20.395145364684023\t -0.7978846602483369\n",
            "2  \t [-4.70696363  5.12      ]\t -63.751442331381455\t -20.395145364684023\t -0.7978830225066619\n",
            "3  \t [0.05624567 5.12      ]\t -29.54586982234551\t -20.395145364684023\t -0.7972640139194559\n",
            "4  \t [5.12 5.12]\t -57.849427451571785\t -20.395145364684023\t -0.7965821614550538\n",
            "5  \t [ 1.0772637  -3.51432737]\t -34.62590777738393\t -20.395145364684023\t -0.7949937507262191\n",
            "6  \t [ 5.12       -1.25380509]\t -40.73579907752291\t -20.395145364684023\t -0.7781201272706745\n",
            "7  \t [-5.12        1.83143791]\t -37.38236802264672\t -20.395145364684023\t -0.665423376935131\n",
            "\u001b[1m\u001b[92m8\u001b[0m\t \u001b[1m\u001b[92m[-1.98271961  3.08682429]\u001b[0m\t \u001b[1m\u001b[92m-14.970039176288374\u001b[0m\t \u001b[1m\u001b[92m-14.970039176288374\u001b[0m\t \u001b[1m\u001b[92m-0.52956604877944\u001b[0m\n",
            "\u001b[1m\u001b[92m9\u001b[0m\t \u001b[1m\u001b[92m[-1.18642054 -1.99220425]\u001b[0m\t \u001b[1m\u001b[92m-11.49905778344017\u001b[0m\t \u001b[1m\u001b[92m-11.49905778344017\u001b[0m\t \u001b[1m\u001b[92m-0.35599086580147155\u001b[0m\n",
            "10 \t [5.12       2.05334668]\t -33.69745854048124\t -11.49905778344017\t -0.26523300196724964\n",
            "11 \t [ 2.52175094 -1.51538073]\t -48.51570483815476\t -11.49905778344017\t -0.14896226018936454\n",
            "12 \t [2.39043418 4.26296068]\t -52.42294596512261\t -11.49905778344017\t -0.2573832187316347\n",
            "13 \t [-0.57836385 -5.12      ]\t -48.07134681130542\t -11.49905778344017\t -0.17526852321510605\n",
            "14 \t [-0.15351658  2.41431806]\t -28.74035188632984\t -11.49905778344017\t -0.06904352589399232\n",
            "15 \t [-2.13586121  5.12      ]\t -36.91418412867033\t -11.49905778344017\t -0.04270407508558391\n",
            "16 \t [-0.16169206 -0.81111727]\t -11.669428756074652\t -11.49905778344017\t -0.013787203725579622\n",
            "17 \t [ 2.54922511 -5.12      ]\t -54.948760135422134\t -11.49905778344017\t -0.07701931753426994\n",
            "18 \t [-0.52560078  0.07159203]\t -21.14706168452146\t -11.49905778344017\t -4.513292953445481e-06\n",
            "19 \t [-2.98544995  2.11046733]\t -15.722360747028208\t -11.49905778344017\t -0.0016399812882301468\n",
            "20 \t [-2.30729334 -2.007481  ]\t -22.887226704805798\t -11.49905778344017\t -0.0010355616698166387\n"
          ]
        }
      ]
    },
    {
      "cell_type": "code",
      "metadata": {
        "id": "f0HIEP3PIUEa",
        "colab": {
          "base_uri": "https://localhost:8080/"
        },
        "outputId": "c8f73a2d-252f-461b-f007-2e4ea1b82276"
      },
      "source": [
        "### ESTIMATED GP ERM GRADIENTS\n",
        "\n",
        "np.random.seed(run_num_18)\n",
        "surrogate_approx_18 = GaussianProcess(cov_func, optimize=opt)\n",
        "\n",
        "approx_18 = GPGO_multi(surrogate_approx_18, Acquisition_new(util_grad_approx), objfunc, param)\n",
        "approx_18.run(init_evals=n_init, max_iter=iters)\n"
      ],
      "execution_count": 30,
      "outputs": [
        {
          "output_type": "stream",
          "name": "stdout",
          "text": [
            "Evaluation \t Proposed point \t  Current eval. \t  Best eval. \t         Max AcqFunc.\n",
            "init\t [1.53983224 0.05584255]\t -22.67190580753611\t -22.67190580753611\t    \n",
            "init\t [ 3.87687906 -3.25795609]\t -38.990099416711985\t -22.67190580753611\t    \n",
            "init\t [3.60686662 2.56139557]\t -56.66448698782129\t -22.67190580753611\t    \n",
            "init\t [1.70088108 4.99604939]\t -40.894059318256296\t -22.67190580753611\t    \n",
            "init\t [-2.48864335 -4.83014733]\t -54.6725749848372\t -22.67190580753611\t    \n",
            "1  \t [-5.00718904  2.9174042 ]\t -34.91005808676357\t -22.67190580753611\t -0.7978846602937384\n",
            "2  \t [-5.12       -1.37222114]\t -47.75423927503102\t -22.67190580753611\t -0.7959247032744787\n",
            "3  \t [-1.30205519  2.41793783]\t -39.45440344033703\t -22.67190580753611\t -0.779750150550896\n",
            "4  \t [ 1.04804663 -5.12      ]\t -30.475340679800027\t -22.67190580753611\t -0.7424632784623878\n",
            "5  \t [-1.46191314 -1.33679084]\t -38.82616668516041\t -22.67190580753611\t -0.7344233062685958\n",
            "6  \t [-2.73822076  5.12      ]\t -47.16200281291928\t -22.67190580753611\t -0.6563523763032043\n",
            "7  \t [ 5.12       -0.35162334]\t -45.00841552550754\t -22.67190580753611\t -0.6666945025900419\n",
            "8  \t [5.12 5.12]\t -57.849427451571785\t -22.67190580753611\t -0.6146101739336586\n",
            "9  \t [ 1.09298106 -2.48161344]\t -28.94491483333344\t -22.67190580753611\t -0.2493321598228238\n",
            "10 \t [-5.12 -5.12]\t -57.849427451571785\t -22.67190580753611\t -0.4462804450130876\n",
            "11 \t [ 5.12 -5.12]\t -57.849427451571785\t -22.67190580753611\t -0.24472496150268214\n",
            "12 \t [-3.41490662  0.75493348]\t -40.52601371803186\t -22.67190580753611\t -0.18280197238730894\n",
            "\u001b[1m\u001b[92m13\u001b[0m\t \u001b[1m\u001b[92m[-0.07692392  0.69701242]\u001b[0m\t \u001b[1m\u001b[92m-14.90535095727988\u001b[0m\t \u001b[1m\u001b[92m-14.90535095727988\u001b[0m\t \u001b[1m\u001b[92m-0.0015651475346602512\u001b[0m\n",
            "14 \t [-3.31657881 -2.66776811]\t -47.11895141295961\t -14.90535095727988\t -0.001537913084553139\n",
            "15 \t [-5.12  5.12]\t -57.849427451571785\t -14.90535095727988\t -0.0669161593226526\n",
            "\u001b[1m\u001b[92m16\u001b[0m\t \u001b[1m\u001b[92m[ 2.95861103 -1.0742193 ]\u001b[0m\t \u001b[1m\u001b[92m-11.311339354169743\u001b[0m\t \u001b[1m\u001b[92m-11.311339354169743\u001b[0m\t \u001b[1m\u001b[92m-0.0011757046907278305\u001b[0m\n",
            "17 \t [1.03718477 2.55513042]\t -27.28216862638829\t -11.311339354169743\t -0.01818240884985027\n",
            "18 \t [-0.54270028 -3.63144921]\t -49.90300390927821\t -11.311339354169743\t -0.0004192295219321686\n",
            "19 \t [-0.7223645   0.68467701]\t -26.708366102360095\t -11.311339354169743\t -1.9021283602148697e-09\n",
            "20 \t [-4.85217233  1.32463924]\t -43.83021651328372\t -11.311339354169743\t -4.853827086364994e-09\n"
          ]
        }
      ]
    },
    {
      "cell_type": "code",
      "metadata": {
        "id": "S3mxRQDLIUPC",
        "colab": {
          "base_uri": "https://localhost:8080/"
        },
        "outputId": "b575148e-9812-4786-c1c5-8bfef29355ba"
      },
      "source": [
        "### ESTIMATED GP ERM GRADIENTS\n",
        "\n",
        "np.random.seed(run_num_19)\n",
        "surrogate_approx_19 = GaussianProcess(cov_func, optimize=opt)\n",
        "\n",
        "approx_19 = GPGO_multi(surrogate_approx_19, Acquisition_new(util_grad_approx), objfunc, param)\n",
        "approx_19.run(init_evals=n_init, max_iter=iters)\n"
      ],
      "execution_count": 31,
      "outputs": [
        {
          "output_type": "stream",
          "name": "stdout",
          "text": [
            "Evaluation \t Proposed point \t  Current eval. \t  Best eval. \t         Max AcqFunc.\n",
            "init\t [-4.12125592  2.6751971 ]\t -41.43485596167127\t -25.867003842388073\t    \n",
            "init\t [-2.59135515 -3.70553152]\t -51.60126035043229\t -25.867003842388073\t    \n",
            "init\t [-1.72598719 -4.27008445]\t -43.97430127029199\t -25.867003842388073\t    \n",
            "init\t [1.76104531 3.13952049]\t -25.867003842388073\t -25.867003842388073\t    \n",
            "init\t [4.9432772  1.38916592]\t -44.66580306903559\t -25.867003842388073\t    \n",
            "1  \t [ 5.12 -5.12]\t -57.849427451571785\t -25.867003842388073\t -0.7978846532444869\n",
            "2  \t [ 1.77619183 -1.68662994]\t -28.238598176994593\t -25.867003842388073\t -0.7963185566879285\n",
            "3  \t [5.12 5.12]\t -57.849427451571785\t -25.867003842388073\t -0.7843002942134734\n",
            "4  \t [-1.28669736  5.12      ]\t -42.86568982158356\t -25.867003842388073\t -0.7798914628615135\n",
            "5  \t [-5.12       -0.97841389]\t -29.973843406152113\t -25.867003842388073\t -0.7794668826420584\n",
            "\u001b[1m\u001b[92m6\u001b[0m\t \u001b[1m\u001b[92m[-1.20054205  0.35649541]\u001b[0m\t \u001b[1m\u001b[92m-24.713670269441536\u001b[0m\t \u001b[1m\u001b[92m-24.713670269441536\u001b[0m\t \u001b[1m\u001b[92m-0.7733933770682524\u001b[0m\n",
            "7  \t [ 1.54014554 -5.12      ]\t -50.98031543765565\t -24.713670269441536\t -0.7297878473273426\n",
            "8  \t [-5.12 -5.12]\t -57.849427451571785\t -24.713670269441536\t -0.6325549288984542\n",
            "9  \t [-5.12  5.12]\t -57.849427451571785\t -24.713670269441536\t -0.515771011263108\n",
            "10 \t [ 5.12       -1.82150475]\t -37.89944370345366\t -24.713670269441536\t -0.6548505505382384\n",
            "\u001b[1m\u001b[92m11\u001b[0m\t \u001b[1m\u001b[92m[1.81554893 0.74308134]\u001b[0m\t \u001b[1m\u001b[92m-20.27985394896995\u001b[0m\t \u001b[1m\u001b[92m-20.27985394896995\u001b[0m\t \u001b[1m\u001b[92m-0.21525320622345212\u001b[0m\n",
            "12 \t [2.02966596 5.12      ]\t -33.21747388230764\t -20.27985394896995\t -0.1582492382331236\n",
            "13 \t [-0.86365919  2.59154916]\t -29.303067404615675\t -20.27985394896995\t -0.13289449712346313\n",
            "14 \t [-0.5858941  -1.85672135]\t -26.155203723880984\t -20.27985394896995\t -0.08469301558508288\n",
            "\u001b[1m\u001b[92m15\u001b[0m\t \u001b[1m\u001b[92m[-2.98478488 -0.75188772]\u001b[0m\t \u001b[1m\u001b[92m-19.401331335829017\u001b[0m\t \u001b[1m\u001b[92m-19.401331335829017\u001b[0m\t \u001b[1m\u001b[92m-0.03614804165926491\u001b[0m\n",
            "16 \t [ 3.24038931 -3.28101544]\t -42.59814134866862\t -19.401331335829017\t -0.009411310846071747\n",
            "17 \t [-3.50065144  0.77002876]\t -41.592295911624895\t -19.401331335829017\t -0.00022454700727977082\n",
            "18 \t [-5.12       -2.80696056]\t -43.30071912571922\t -19.401331335829017\t -0.002355063237443153\n",
            "19 \t [0.33434929 0.40408088]\t -33.56845850083553\t -19.401331335829017\t -9.378333339793394e-06\n",
            "20 \t [2.48869387 0.94186978]\t -27.715124004800348\t -19.401331335829017\t -2.3220371955834857e-07\n"
          ]
        }
      ]
    },
    {
      "cell_type": "code",
      "metadata": {
        "id": "Aawd59dRIUYn",
        "colab": {
          "base_uri": "https://localhost:8080/"
        },
        "outputId": "bf181f2c-8039-4376-b347-a9e7d5b10361"
      },
      "source": [
        "### ESTIMATED GP ERM GRADIENTS\n",
        "\n",
        "np.random.seed(run_num_20)\n",
        "surrogate_approx_20 = GaussianProcess(cov_func, optimize=opt)\n",
        "\n",
        "approx_20 = GPGO_multi(surrogate_approx_20, Acquisition_new(util_grad_approx), objfunc, param)\n",
        "approx_20.run(init_evals=n_init, max_iter=iters)\n"
      ],
      "execution_count": 32,
      "outputs": [
        {
          "output_type": "stream",
          "name": "stdout",
          "text": [
            "Evaluation \t Proposed point \t  Current eval. \t  Best eval. \t         Max AcqFunc.\n",
            "init\t [0.9024594  4.07258857]\t -20.24255447774017\t -17.388691338534382\t    \n",
            "init\t [4.00927467 3.23417577]\t -35.55852254546393\t -17.388691338534382\t    \n",
            "init\t [-4.75249064  1.96359764]\t -36.54582989269194\t -17.388691338534382\t    \n",
            "init\t [-1.24230715  0.18955208]\t -17.388691338534382\t -17.388691338534382\t    \n",
            "init\t [ 1.61742301 -3.13497377]\t -33.22932870179905\t -17.388691338534382\t    \n",
            "1  \t [-5.12       -3.80666612]\t -49.92973216876375\t -17.388691338534382\t -0.7978833533453296\n",
            "2  \t [ 5.12       -0.92644577]\t -30.832077746661763\t -17.388691338534382\t -0.7954811505020274\n",
            "3  \t [ 5.12 -5.12]\t -57.849427451571785\t -17.388691338534382\t -0.7942093616709078\n",
            "4  \t [-2.70369179  5.12      ]\t -49.103412182375216\t -17.388691338534382\t -0.7858816229492438\n",
            "5  \t [-1.50461243 -5.12      ]\t -51.184373160495596\t -17.388691338534382\t -0.7814908328494902\n",
            "6  \t [1.91189059 0.46615132]\t -25.14098277954536\t -17.388691338534382\t -0.7167631140971676\n",
            "7  \t [-3.79259549 -1.02030301]\t -22.86153890750706\t -17.388691338534382\t -0.5691091610099612\n",
            "8  \t [-1.34490802  2.54597363]\t -43.4925020952692\t -17.388691338534382\t -0.33983638592789717\n",
            "9  \t [-1.17766054 -2.22263556]\t -20.22576222947469\t -17.388691338534382\t -0.3377282510107478\n",
            "10 \t [-5.12  5.12]\t -57.849427451571785\t -17.388691338534382\t -0.2774977255746917\n",
            "11 \t [5.12 5.12]\t -57.849427451571785\t -17.388691338534382\t -0.23607427382483848\n",
            "12 \t [ 2.2227596 -5.12     ]\t -42.16215366821629\t -17.388691338534382\t -0.11407002035005803\n",
            "13 \t [5.12       1.32201304]\t -45.0443266407079\t -17.388691338534382\t -0.07886659148305691\n",
            "14 \t [ 3.91456592 -2.67254794]\t -38.54947013353639\t -17.388691338534382\t -0.033239256060907635\n",
            "15 \t [ 0.5427903  -1.04688227]\t -21.462058125140583\t -17.388691338534382\t -0.01048744347995359\n",
            "16 \t [2.36948109 5.12      ]\t -51.360821709519726\t -17.388691338534382\t -0.04236069495898012\n",
            "17 \t [-5.12       -0.32891667]\t -43.79067745808635\t -17.388691338534382\t -0.00406193525165318\n",
            "18 \t [-0.36926251  5.12      ]\t -45.87268742755019\t -17.388691338534382\t -0.007839436426460157\n",
            "19 \t [-2.89999831 -2.89707201]\t -20.732237491246206\t -17.388691338534382\t -0.004818067308430152\n",
            "20 \t [-2.7888362   0.66975654]\t -30.64111073149132\t -17.388691338534382\t -0.0004024716077443008\n"
          ]
        }
      ]
    },
    {
      "cell_type": "code",
      "metadata": {
        "id": "xkgzPRbBTHaq",
        "colab": {
          "base_uri": "https://localhost:8080/"
        },
        "outputId": "5e5b67c3-ce40-422f-f421-198fc10f9f8a"
      },
      "source": [
        "end_approx = time.time()\n",
        "end_approx\n",
        "\n",
        "time_approx = end_approx - start_approx\n",
        "time_approx\n",
        "\n",
        "start_exact = time.time()\n",
        "start_exact"
      ],
      "execution_count": 33,
      "outputs": [
        {
          "output_type": "execute_result",
          "data": {
            "text/plain": [
              "1651583894.0227313"
            ]
          },
          "metadata": {},
          "execution_count": 33
        }
      ]
    },
    {
      "cell_type": "code",
      "metadata": {
        "id": "7CG3Ndvb16Rb",
        "colab": {
          "base_uri": "https://localhost:8080/"
        },
        "outputId": "7b6ed399-4cf0-485d-a5c9-ddb9357e59f7"
      },
      "source": [
        "### EXACT GP ERM GRADIENTS\n",
        "\n",
        "np.random.seed(run_num_1)\n",
        "surrogate_exact_1 = dGaussianProcess(cov_func, optimize=opt)\n",
        "\n",
        "exact_1 = dGPGO(surrogate_exact_1, Acquisition_new(util_grad_exact), objfunc, param)\n",
        "exact_1.run(init_evals=n_init, max_iter=iters)\n"
      ],
      "execution_count": 34,
      "outputs": [
        {
          "output_type": "stream",
          "name": "stdout",
          "text": [
            "Evaluation \t Proposed point \t  Current eval. \t  Best eval. \t         Max AcqFunc.\n",
            "init\t [-0.84969467  2.25612281]\t -20.33436270766351\t -19.908403246996286\t    \n",
            "init\t [-5.1188288  -2.02411446]\t -33.07414982069084\t -19.908403246996286\t    \n",
            "init\t [-3.61721968 -4.17445279]\t -53.347974723929894\t -19.908403246996286\t    \n",
            "init\t [-3.21269544 -1.58145816]\t -39.218472310354045\t -19.908403246996286\t    \n",
            "init\t [-1.05710106  0.39748336]\t -19.908403246996286\t -19.908403246996286\t    \n",
            "1  \t [ 4.04077223 -4.24914728]\t -44.655863836006326\t -19.908403246996286\t -0.7978845605763167\n",
            "2  \t [3.95569971 5.12      ]\t -44.957164327661914\t -19.908403246996286\t -0.7978838089763671\n",
            "3  \t [5.12       0.47931867]\t -49.07015084657466\t -19.908403246996286\t -0.7976772720298271\n",
            "4  \t [-5.12        4.36680096]\t -64.69123843791516\t -19.908403246996286\t -0.7978285981450343\n",
            "5  \t [ 0.20333181 -5.12      ]\t -36.07564817041229\t -19.908403246996286\t -0.7873734776942758\n",
            "6  \t [ 1.75432371 -1.381871  ]\t -32.08524098920023\t -19.908403246996286\t -0.7570995393019846\n",
            "7  \t [0.30219617 5.12      ]\t -42.23714377444852\t -19.908403246996286\t -0.7448014161468756\n",
            "8  \t [-5.12        1.09583141]\t -31.884229782605047\t -19.908403246996286\t -0.6346059074657489\n",
            "9  \t [-2.29362606  4.58591516]\t -57.576254713337285\t -19.908403246996286\t -0.278859110719304\n",
            "10 \t [ 5.12       -2.05550915]\t -33.751908599059156\t -19.908403246996286\t -0.1431555042152534\n",
            "11 \t [2.12691404 2.24188964]\t -22.054943974898134\t -19.908403246996286\t -0.6456568338243135\n",
            "12 \t [-0.30580613 -2.82865692]\t -26.786392616255604\t -19.908403246996286\t -0.16286004894172662\n",
            "13 \t [5.12       3.16072169]\t -43.59494856771727\t -19.908403246996286\t -0.10990412242442252\n",
            "14 \t [2.11817743 0.56735627]\t -26.558716491250138\t -19.908403246996286\t -0.0025868982544139147\n",
            "15 \t [-2.91961565  1.57537661]\t -31.153857496240093\t -19.908403246996286\t -0.04102586907003522\n",
            "16 \t [ 1.78861371 -3.42070687]\t -41.282312249548085\t -19.908403246996286\t -0.0017994163232017077\n",
            "\u001b[1m\u001b[92m17\u001b[0m\t \u001b[1m\u001b[92m[ 0.28278677 -0.93093934]\u001b[0m\t \u001b[1m\u001b[92m-13.91888710554251\u001b[0m\t \u001b[1m\u001b[92m-13.91888710554251\u001b[0m\t \u001b[1m\u001b[92m-5.5102266178146505e-06\u001b[0m\n",
            "18 \t [1.89191266 4.13073922]\t -26.049623733668437\t -13.91888710554251\t -0.00014684166404599466\n",
            "19 \t [-1.80956774 -4.71108049]\t -44.233920778286695\t -13.91888710554251\t -7.481887809449017e-05\n",
            "\u001b[1m\u001b[92m20\u001b[0m\t \u001b[1m\u001b[92m[1.01360936 1.1848119 ]\u001b[0m\t \u001b[1m\u001b[92m-8.48539809445838\u001b[0m\t \u001b[1m\u001b[92m-8.48539809445838\u001b[0m\t \u001b[1m\u001b[92m-5.648841806324285e-08\u001b[0m\n"
          ]
        }
      ]
    },
    {
      "cell_type": "code",
      "metadata": {
        "id": "-ilCPSAu9SAg",
        "colab": {
          "base_uri": "https://localhost:8080/"
        },
        "outputId": "b3148b26-5a35-43bc-f623-71d4b081ff16"
      },
      "source": [
        "### EXACT GP ERM GRADIENTS\n",
        "\n",
        "np.random.seed(run_num_2)\n",
        "surrogate_exact_2 = dGaussianProcess(cov_func, optimize=opt)\n",
        "\n",
        "exact_2 = dGPGO(surrogate_exact_2, Acquisition_new(util_grad_exact), objfunc, param)\n",
        "exact_2.run(init_evals=n_init, max_iter=iters)\n"
      ],
      "execution_count": 35,
      "outputs": [
        {
          "output_type": "stream",
          "name": "stdout",
          "text": [
            "Evaluation \t Proposed point \t  Current eval. \t  Best eval. \t         Max AcqFunc.\n",
            "init\t [-0.6554122  -4.85451539]\t -43.490296251903594\t -18.964539418712707\t    \n",
            "init\t [ 0.50854377 -0.6622987 ]\t -35.91861667536101\t -18.964539418712707\t    \n",
            "init\t [-0.81543371 -1.73737143]\t -20.479562046739524\t -18.964539418712707\t    \n",
            "init\t [-3.02439799  1.2213347 ]\t -18.964539418712707\t -18.964539418712707\t    \n",
            "init\t [-2.05153614 -2.3876887 ]\t -28.041315668371354\t -18.964539418712707\t    \n",
            "1  \t [3.91207732 5.12      ]\t -45.71656758082061\t -18.964539418712707\t -0.7978845593456777\n",
            "2  \t [ 4.84262143 -3.96515559]\t -43.91554200116249\t -18.964539418712707\t -0.797879475860544\n",
            "3  \t [-0.81906025  5.12      ]\t -35.39128099258556\t -18.964539418712707\t -0.7975185508586904\n",
            "4  \t [-5.12 -5.12]\t -57.849427451571785\t -18.964539418712707\t -0.7960279226607768\n",
            "5  \t [5.12       0.71181662]\t -41.80757997921023\t -18.964539418712707\t -0.7972836503410096\n",
            "6  \t [-4.6297519   4.23289614]\t -65.13623895320521\t -18.964539418712707\t -0.7798165137035257\n",
            "7  \t [1.67424765 2.45754179]\t -43.07085673274311\t -18.964539418712707\t -0.7222149381673834\n",
            "8  \t [ 2.03101976 -3.59038555]\t -35.63551920534303\t -18.964539418712707\t -0.4782659956310608\n",
            "\u001b[1m\u001b[92m9\u001b[0m\t \u001b[1m\u001b[92m[-0.87788224  1.86922398]\u001b[0m\t \u001b[1m\u001b[92m-10.25687316833514\u001b[0m\t \u001b[1m\u001b[92m-10.25687316833514\u001b[0m\t \u001b[1m\u001b[92m-0.19580446235170781\u001b[0m\n",
            "10 \t [-5.12       -1.65217687]\t -47.42105345158599\t -10.25687316833514\t -0.7133777461023619\n",
            "11 \t [ 5.12       -1.61896123]\t -48.87995880424733\t -10.25687316833514\t -0.07789801877875928\n",
            "12 \t [-4.76114337  0.64090089]\t -48.71017690769291\t -10.25687316833514\t -0.03655974901862128\n",
            "13 \t [-2.1684195   3.16444778]\t -24.69120427604529\t -10.25687316833514\t -0.029891120424318622\n",
            "14 \t [1.62491182 5.07769781]\t -46.66650438843988\t -10.25687316833514\t -0.04433768041565468\n",
            "15 \t [ 2.77924478 -0.41444832]\t -34.65851144435443\t -10.25687316833514\t -0.061615268466300846\n",
            "16 \t [-2.86712043 -4.93427596]\t -36.695608349437485\t -10.25687316833514\t -0.00876363728643784\n",
            "17 \t [5.12       3.21859476]\t -47.32359694807277\t -10.25687316833514\t -0.0857199373050788\n",
            "18 \t [-1.68198696  0.03132855]\t -17.16767429281602\t -10.25687316833514\t -0.00623565395461548\n",
            "\u001b[1m\u001b[92m19\u001b[0m\t \u001b[1m\u001b[92m[-0.05554702  0.9658317 ]\u001b[0m\t \u001b[1m\u001b[92m-1.7683728100166523\u001b[0m\t \u001b[1m\u001b[92m-1.7683728100166523\u001b[0m\t \u001b[1m\u001b[92m-4.858391438672547e-06\u001b[0m\n",
            "20 \t [0.69555508 0.97487304]\t -14.913085789193813\t -1.7683728100166523\t -4.185085529382633e-06\n"
          ]
        }
      ]
    },
    {
      "cell_type": "code",
      "metadata": {
        "id": "XieJ158mIvlP",
        "colab": {
          "base_uri": "https://localhost:8080/"
        },
        "outputId": "3b09583e-9213-4e6d-d3a2-1f1a75228802"
      },
      "source": [
        "### EXACT GP ERM GRADIENTS\n",
        "\n",
        "np.random.seed(run_num_3)\n",
        "surrogate_exact_3 = dGaussianProcess(cov_func, optimize=opt)\n",
        "\n",
        "exact_3 = dGPGO(surrogate_exact_3, Acquisition_new(util_grad_exact), objfunc, param)\n",
        "exact_3.run(init_evals=n_init, max_iter=iters)\n"
      ],
      "execution_count": 36,
      "outputs": [
        {
          "output_type": "stream",
          "name": "stdout",
          "text": [
            "Evaluation \t Proposed point \t  Current eval. \t  Best eval. \t         Max AcqFunc.\n",
            "init\t [0.52017052 2.1314337 ]\t -27.953858411008774\t -10.607662635789808\t    \n",
            "init\t [-2.14113547  0.11087468]\t -10.607662635789808\t -10.607662635789808\t    \n",
            "init\t [4.02377681 4.05804123]\t -33.42749829480097\t -10.607662635789808\t    \n",
            "init\t [-3.83400642 -2.99783293]\t -28.650953928965198\t -10.607662635789808\t    \n",
            "init\t [-4.59297584 -0.6061072 ]\t -57.6631355589384\t -10.607662635789808\t    \n",
            "1  \t [ 1.80565001 -3.04761061]\t -19.5666404549755\t -10.607662635789808\t -0.7978724620298179\n",
            "2  \t [-3.57871734  4.80548253]\t -61.28559802785699\t -10.607662635789808\t -0.7978231340014964\n",
            "3  \t [ 5.12       -0.22832109]\t -37.61892634098497\t -10.607662635789808\t -0.7970260591446935\n",
            "4  \t [-0.98127961 -5.12      ]\t -29.95672032642291\t -10.607662635789808\t -0.774028581846278\n",
            "5  \t [-0.58862849 -1.88989711]\t -24.706324384530227\t -10.607662635789808\t -0.5350977103108296\n",
            "6  \t [ 5.12       -4.57451492]\t -68.77476117581722\t -10.607662635789808\t -0.7910056722043767\n",
            "7  \t [0.4944958 5.12     ]\t -49.16326018401635\t -10.607662635789808\t -0.7080745344874507\n",
            "8  \t [-5.12 -5.12]\t -57.849427451571785\t -10.607662635789808\t -0.520687966509444\n",
            "9  \t [ 2.19890773 -0.28681017]\t -24.054373884350923\t -10.607662635789808\t -0.4925373441946015\n",
            "10 \t [ 1.75941138 -5.12      ]\t -41.42925230030146\t -10.607662635789808\t -0.24797367699807307\n",
            "11 \t [-3.39977026  2.05271234]\t -34.39721900759886\t -10.607662635789808\t -0.28442188045178146\n",
            "12 \t [3.55221499 1.72190511]\t -46.80592773587877\t -10.607662635789808\t -0.09625757003739084\n",
            "13 \t [-5.12        2.42645644]\t -53.76364125815871\t -10.607662635789808\t -0.010692168466980997\n",
            "\u001b[1m\u001b[92m14\u001b[0m\t \u001b[1m\u001b[92m[ 0.05554451 -0.0354738 ]\u001b[0m\t \u001b[1m\u001b[92m-0.8545497697986626\u001b[0m\t \u001b[1m\u001b[92m-0.8545497697986626\u001b[0m\t \u001b[1m\u001b[92m-0.009427232205568011\u001b[0m\n",
            "15 \t [-0.77762468  0.49263945]\t -29.109693557668876\t -0.8545497697986626\t -0.05003365411182169\n",
            "16 \t [-1.31047694  3.19028349]\t -31.939671669882696\t -0.8545497697986626\t -0.018135682859853234\n",
            "17 \t [-1.76662932 -3.50338493]\t -44.349472669156285\t -0.8545497697986626\t -0.0007094105588418807\n",
            "18 \t [ 3.94503891 -2.31569648]\t -35.527749516000576\t -0.8545497697986626\t -0.03719706509812697\n",
            "19 \t [5.12 5.12]\t -57.849427451571785\t -0.8545497697986626\t -0.0034378870986811055\n",
            "20 \t [ 1.10141669 -1.49839041]\t -25.42025157158831\t -0.8545497697986626\t -0.00019152714715583188\n"
          ]
        }
      ]
    },
    {
      "cell_type": "code",
      "metadata": {
        "id": "PhLBVOIfIvol",
        "colab": {
          "base_uri": "https://localhost:8080/"
        },
        "outputId": "a2624506-d24a-4507-8c9c-b56e11699b87"
      },
      "source": [
        "### EXACT GP ERM GRADIENTS\n",
        "\n",
        "np.random.seed(run_num_4)\n",
        "surrogate_exact_4 = dGaussianProcess(cov_func, optimize=opt)\n",
        "\n",
        "exact_4 = dGPGO(surrogate_exact_4, Acquisition_new(util_grad_exact), objfunc, param)\n",
        "exact_4.run(init_evals=n_init, max_iter=iters)\n"
      ],
      "execution_count": 37,
      "outputs": [
        {
          "output_type": "stream",
          "name": "stdout",
          "text": [
            "Evaluation \t Proposed point \t  Current eval. \t  Best eval. \t         Max AcqFunc.\n",
            "init\t [4.78238555 0.48365823]\t -51.03163809010808\t -14.323038259018315\t    \n",
            "init\t [4.84028785 2.19971578]\t -39.78645699016559\t -14.323038259018315\t    \n",
            "init\t [ 2.02474316 -2.90724357]\t -14.323038259018315\t -14.323038259018315\t    \n",
            "init\t [ 4.87705042 -5.05620219]\t -52.80627247106233\t -14.323038259018315\t    \n",
            "init\t [-2.52946061 -0.66773471]\t -41.61497868486559\t -14.323038259018315\t    \n",
            "1  \t [-1.01565322  4.77412453]\t -32.362152132578984\t -14.323038259018315\t -0.7978833220723834\n",
            "2  \t [-5.12 -5.12]\t -57.849427451571785\t -14.323038259018315\t -0.7978665514846802\n",
            "3  \t [-0.96892694 -5.12      ]\t -30.053517501182924\t -14.323038259018315\t -0.7916323173996104\n",
            "4  \t [0.8312782 1.3534401]\t -23.686398382791577\t -14.323038259018315\t -0.7835469231850454\n",
            "5  \t [-5.12        3.19466591]\t -45.72348149433688\t -14.323038259018315\t -0.7971648722769747\n",
            "6  \t [4.10247948 5.12      ]\t -47.75743112638065\t -14.323038259018315\t -0.7089146585849478\n",
            "7  \t [-5.12      -1.8440995]\t -36.751468915848164\t -14.323038259018315\t -0.5731850976606113\n",
            "\u001b[1m\u001b[92m8\u001b[0m\t \u001b[1m\u001b[92m[-1.80917486  2.03023759]\u001b[0m\t \u001b[1m\u001b[92m-13.941922117758516\u001b[0m\t \u001b[1m\u001b[92m-13.941922117758516\u001b[0m\t \u001b[1m\u001b[92m-0.38674268582196675\u001b[0m\n",
            "9  \t [1.97794851 3.4169475 ]\t -34.35270570239159\t -13.941922117758516\t -0.2565116527302493\n",
            "10 \t [ 4.72783099 -2.21056937]\t -46.17519072534815\t -13.941922117758516\t -0.33027296128948974\n",
            "11 \t [ 0.17741102 -1.4458869 ]\t -27.145190088166558\t -13.941922117758516\t -0.391199495513641\n",
            "12 \t [ 1.4263009  -4.91291525]\t -46.57794101817405\t -13.941922117758516\t -0.22979038152642317\n",
            "13 \t [-2.78754811 -3.3117722 ]\t -40.18541306481386\t -13.941922117758516\t -0.1755273373818743\n",
            "14 \t [-3.40356404  5.12      ]\t -58.72871834098878\t -13.941922117758516\t -0.21734349911145348\n",
            "15 \t [ 2.3279673  -0.41964761]\t -39.053140847064206\t -13.941922117758516\t -0.07326221168462656\n",
            "16 \t [-5.09294681  0.5710618 ]\t -46.94125492590334\t -13.941922117758516\t -0.15921490315327744\n",
            "17 \t [-3.03216692  2.3317731 ]\t -29.749613743641827\t -13.941922117758516\t -0.0005132816241196908\n",
            "18 \t [-0.60907899 -2.95553596]\t -27.235782824846986\t -13.941922117758516\t -0.00018398925083902773\n",
            "19 \t [0.61555699 2.67722501]\t -39.43926653014315\t -13.941922117758516\t -5.506251372028763e-08\n",
            "20 \t [1.26696088 5.12      ]\t -41.5935709117027\t -13.941922117758516\t -0.006014801658522337\n"
          ]
        }
      ]
    },
    {
      "cell_type": "code",
      "metadata": {
        "id": "arbiPyj2IvsJ",
        "colab": {
          "base_uri": "https://localhost:8080/"
        },
        "outputId": "bddfd28e-1074-4336-feac-3c4b6f203b6e"
      },
      "source": [
        "### EXACT GP ERM GRADIENTS\n",
        "\n",
        "np.random.seed(run_num_5)\n",
        "surrogate_exact_5 = dGaussianProcess(cov_func, optimize=opt)\n",
        "\n",
        "exact_5 = dGPGO(surrogate_exact_5, Acquisition_new(util_grad_exact), objfunc, param)\n",
        "exact_5.run(init_evals=n_init, max_iter=iters)\n"
      ],
      "execution_count": 38,
      "outputs": [
        {
          "output_type": "stream",
          "name": "stdout",
          "text": [
            "Evaluation \t Proposed point \t  Current eval. \t  Best eval. \t         Max AcqFunc.\n",
            "init\t [-2.84678993  3.79629882]\t -33.93442008827236\t -7.8108627039749745\t    \n",
            "init\t [-3.00319585  4.2865757 ]\t -39.673876075575784\t -7.8108627039749745\t    \n",
            "init\t [-0.11866943  1.14425716]\t -7.8108627039749745\t -7.8108627039749745\t    \n",
            "init\t [2.72289645 0.1886002 ]\t -25.38160395721669\t -7.8108627039749745\t    \n",
            "init\t [-2.08076286 -3.19773462]\t -22.589982116319675\t -7.8108627039749745\t    \n",
            "1  \t [ 4.32895605 -5.09732646]\t -61.29478907190488\t -7.8108627039749745\t -0.797883065867823\n",
            "2  \t [5.12 5.12]\t -57.849427451571785\t -7.8108627039749745\t -0.7978826840026501\n",
            "3  \t [-5.12      -0.2720871]\t -40.382068322008735\t -7.8108627039749745\t -0.7969871175751583\n",
            "4  \t [1.01338591 5.12      ]\t -29.987013097899762\t -7.8108627039749745\t -0.7914297903850992\n",
            "5  \t [-5.12 -5.12]\t -57.849427451571785\t -7.8108627039749745\t -0.7890531706227712\n",
            "6  \t [ 0.62772912 -5.12      ]\t -46.26754003098997\t -7.8108627039749745\t -0.759570767159246\n",
            "7  \t [5.12       1.81418327]\t -38.29164386528666\t -7.8108627039749745\t -0.65085131231329\n",
            "8  \t [ 5.12       -1.69626944]\t -45.114270362202774\t -7.8108627039749745\t -0.6886705586360076\n",
            "9  \t [-0.08075509 -1.23411109]\t -11.792767485746275\t -7.8108627039749745\t -0.5543097220431735\n",
            "10 \t [-2.69243371  1.16889555]\t -27.275929360706023\t -7.8108627039749745\t -0.40970861571300793\n",
            "11 \t [ 1.75543496 -2.32095987]\t -32.439270322590374\t -7.8108627039749745\t -0.32343357901335534\n",
            "12 \t [-5.12        2.58332045]\t -54.258917138852674\t -7.8108627039749745\t -0.3000876354422185\n",
            "13 \t [1.94374522 2.73045872]\t -23.076473037840536\t -7.8108627039749745\t -0.35840522771866673\n",
            "14 \t [-4.98001163 -2.60069947]\t -49.70717434726285\t -7.8108627039749745\t -0.0865081419226318\n",
            "15 \t [-0.2760325   2.50561101]\t -37.97645298089112\t -7.8108627039749745\t -0.05822352077337667\n",
            "16 \t [-1.78239098 -1.01791178]\t -12.25515978529882\t -7.8108627039749745\t -0.05657201209645947\n",
            "17 \t [0.44800612 0.16342572]\t -24.523220288662493\t -7.8108627039749745\t -0.01733094748486279\n",
            "18 \t [-1.2375421  -3.91215599]\t -27.539433007469395\t -7.8108627039749745\t -6.695142052314143e-06\n",
            "19 \t [-2.79060067 -1.3469818 ]\t -32.8017592870552\t -7.8108627039749745\t -0.00027028748534895435\n",
            "20 \t [3.41848933 3.52770703]\t -62.69658035590431\t -7.8108627039749745\t -0.001109888980630326\n"
          ]
        }
      ]
    },
    {
      "cell_type": "code",
      "metadata": {
        "id": "04KJCEm_Ivvf",
        "colab": {
          "base_uri": "https://localhost:8080/"
        },
        "outputId": "410064df-d68e-4155-c75f-d049991f2ba0"
      },
      "source": [
        "### EXACT GP ERM GRADIENTS\n",
        "\n",
        "np.random.seed(run_num_6)\n",
        "surrogate_exact_6 = dGaussianProcess(cov_func, optimize=opt)\n",
        "\n",
        "exact_6 = dGPGO(surrogate_exact_6, Acquisition_new(util_grad_exact), objfunc, param)\n",
        "exact_6.run(init_evals=n_init, max_iter=iters)\n"
      ],
      "execution_count": 39,
      "outputs": [
        {
          "output_type": "stream",
          "name": "stdout",
          "text": [
            "Evaluation \t Proposed point \t  Current eval. \t  Best eval. \t         Max AcqFunc.\n",
            "init\t [ 4.02288795 -1.72052679]\t -31.08835710146886\t -17.28954482757088\t    \n",
            "init\t [ 3.28938622 -4.69302655]\t -58.797867722203385\t -17.28954482757088\t    \n",
            "init\t [-4.0175956   0.97333314]\t -17.28954482757088\t -17.28954482757088\t    \n",
            "init\t [ 0.30532979 -0.83141193]\t -19.296253155889353\t -17.28954482757088\t    \n",
            "init\t [-1.68542362  1.25459899]\t -28.650630936276173\t -17.28954482757088\t    \n",
            "1  \t [-5.12 -5.12]\t -57.849427451571785\t -17.28954482757088\t -0.7978845412195068\n",
            "2  \t [4.64255669 5.12      ]\t -66.72769251837904\t -17.28954482757088\t -0.7978845603347466\n",
            "3  \t [0.02050218 5.12      ]\t -29.00799105330946\t -17.28954482757088\t -0.7965720490386261\n",
            "4  \t [-0.92932825 -5.12      ]\t -30.758145614142002\t -17.28954482757088\t -0.793616018299442\n",
            "5  \t [2.51815483 1.92164354]\t -31.156480488159588\t -17.28954482757088\t -0.7723336780628296\n",
            "6  \t [-3.62819326  4.5323828 ]\t -70.42778022243338\t -17.28954482757088\t -0.778519359645173\n",
            "7  \t [-3.18693139 -2.0993916 ]\t -22.59157974281798\t -17.28954482757088\t -0.7314197893518992\n",
            "8  \t [5.12       1.26656361]\t -41.5677420672014\t -17.28954482757088\t -0.5565539884438653\n",
            "9  \t [ 0.27633324 -2.93190966]\t -21.22077584407137\t -17.28954482757088\t -0.19653910716126025\n",
            "10 \t [-5.12     -1.107439]\t -32.34443476941281\t -17.28954482757088\t -0.2439163424387163\n",
            "11 \t [ 2.24333322 -0.48213723]\t -34.78331891719837\t -17.28954482757088\t -0.024048205521178517\n",
            "\u001b[1m\u001b[92m12\u001b[0m\t \u001b[1m\u001b[92m[-0.12129521  2.91443517]\u001b[0m\t \u001b[1m\u001b[92m-12.685607572376263\u001b[0m\t \u001b[1m\u001b[92m-12.685607572376263\u001b[0m\t \u001b[1m\u001b[92m-0.08978507053590393\u001b[0m\n",
            "13 \t [2.13398949 5.10204196]\t -35.91003886110116\t -12.685607572376263\t -0.0526866945474183\n",
            "14 \t [-5.10881441  2.33228622]\t -48.73005656349214\t -12.685607572376263\t -0.07252761960563665\n",
            "15 \t [-2.79688716 -4.03740747]\t -31.49460405465555\t -12.685607572376263\t -0.014318510766691848\n",
            "16 \t [-1.75057444 -0.92579848]\t -14.95279106433389\t -12.685607572376263\t -0.010899357442677437\n",
            "17 \t [-1.53102513  3.66480401]\t -50.6864356620971\t -12.685607572376263\t -0.0004425817282063801\n",
            "18 \t [ 1.15342396 -2.51547464]\t -31.90830965786489\t -12.685607572376263\t -4.2238934229610716e-07\n",
            "19 \t [ 1.00437138 -5.12      ]\t -29.937247323980344\t -12.685607572376263\t -0.003625025790393064\n",
            "20 \t [ 5.12      -2.9658051]\t -37.95063594799061\t -12.685607572376263\t -0.004355952904462123\n"
          ]
        }
      ]
    },
    {
      "cell_type": "code",
      "metadata": {
        "id": "tAOkme3CIvyO",
        "colab": {
          "base_uri": "https://localhost:8080/"
        },
        "outputId": "73ace7c6-51a2-4a45-93d4-b921083fcdb8"
      },
      "source": [
        "### EXACT GP ERM GRADIENTS\n",
        "\n",
        "np.random.seed(run_num_7)\n",
        "surrogate_exact_7 = dGaussianProcess(cov_func, optimize=opt)\n",
        "\n",
        "exact_7 = dGPGO(surrogate_exact_7, Acquisition_new(util_grad_exact), objfunc, param)\n",
        "exact_7.run(init_evals=n_init, max_iter=iters)\n"
      ],
      "execution_count": 40,
      "outputs": [
        {
          "output_type": "stream",
          "name": "stdout",
          "text": [
            "Evaluation \t Proposed point \t  Current eval. \t  Best eval. \t         Max AcqFunc.\n",
            "init\t [-4.33860312  2.86636843]\t -45.646133072936244\t -22.52235437888213\t    \n",
            "init\t [-0.63068947  2.28828342]\t -34.83012662845338\t -22.52235437888213\t    \n",
            "init\t [4.8946126  0.39419771]\t -44.09657005662876\t -22.52235437888213\t    \n",
            "init\t [ 0.01147355 -4.38219639]\t -36.613209822404315\t -22.52235437888213\t    \n",
            "init\t [-2.37118484e+00 -1.20319155e-03]\t -22.52235437888213\t -22.52235437888213\t    \n",
            "1  \t [-5.12 -5.12]\t -57.849427451571785\t -22.52235437888213\t -0.797870952716848\n",
            "2  \t [3.74335335 5.12      ]\t -53.35490818566568\t -22.52235437888213\t -0.797793214328553\n",
            "3  \t [ 4.5282828  -4.16265257]\t -62.45872989450317\t -22.52235437888213\t -0.7972335857430365\n",
            "4  \t [-4.02558214 -1.33646422]\t -33.289738493146906\t -22.52235437888213\t -0.7978845607896438\n",
            "\u001b[1m\u001b[92m5\u001b[0m\t \u001b[1m\u001b[92m[ 1.30561205 -0.85934452]\u001b[0m\t \u001b[1m\u001b[92m-19.524180402300825\u001b[0m\t \u001b[1m\u001b[92m-19.524180402300825\u001b[0m\t \u001b[1m\u001b[92m-0.7683568004415693\u001b[0m\n",
            "6  \t [0.93890964 4.55031943]\t -41.818975193307054\t -19.524180402300825\t -0.44862610794953256\n",
            "7  \t [-1.76468431  4.67855948]\t -48.42120938434371\t -19.524180402300825\t -0.33640999033574115\n",
            "8  \t [2.54606517 1.65161504]\t -44.58978587318137\t -19.524180402300825\t -0.38639201452361766\n",
            "9  \t [-2.38966912 -5.12      ]\t -52.3270962154796\t -19.524180402300825\t -0.2668348573898619\n",
            "10 \t [-4.68309795  5.12      ]\t -64.93699329099653\t -19.524180402300825\t -0.16745600793723953\n",
            "11 \t [-0.58385926 -2.1342886 ]\t -26.8931825102619\t -19.524180402300825\t -0.1365095408576729\n",
            "12 \t [ 3.02224013 -1.71037121]\t -24.621082460348862\t -19.524180402300825\t -0.10607696746500174\n",
            "13 \t [ 2.0159327  -4.66015352]\t -41.18120309161265\t -19.524180402300825\t -0.03115529984387805\n",
            "14 \t [-5.12        0.17123693]\t -34.2047492496053\t -19.524180402300825\t -0.0322064952379047\n",
            "15 \t [5.12      3.4380572]\t -59.99708741888738\t -19.524180402300825\t -0.06796086877376985\n",
            "\u001b[1m\u001b[92m16\u001b[0m\t \u001b[1m\u001b[92m[-0.18044525  0.19518283]\u001b[0m\t \u001b[1m\u001b[92m-12.461625642827798\u001b[0m\t \u001b[1m\u001b[92m-12.461625642827798\u001b[0m\t \u001b[1m\u001b[92m-0.003269189136181543\u001b[0m\n",
            "17 \t [-2.54755671 -2.860231  ]\t -37.84243161172007\t -12.461625642827798\t -0.00229698378852189\n",
            "18 \t [ 1.19347349 -2.25353536]\t -23.24745028953262\t -12.461625642827798\t -1.3477840944744212e-06\n",
            "19 \t [-2.64662787  1.06048681]\t -24.89074248543409\t -12.461625642827798\t -2.8881670579298393e-06\n",
            "20 \t [0.47294178 1.44767156]\t -41.63959421265176\t -12.461625642827798\t -4.837368929844533e-09\n"
          ]
        }
      ]
    },
    {
      "cell_type": "code",
      "metadata": {
        "id": "69-J3EF4Iv1S",
        "colab": {
          "base_uri": "https://localhost:8080/"
        },
        "outputId": "678c28ff-3621-4228-8b79-d8e1f673b669"
      },
      "source": [
        "### EXACT GP ERM GRADIENTS\n",
        "\n",
        "np.random.seed(run_num_8)\n",
        "surrogate_exact_8 = dGaussianProcess(cov_func, optimize=opt)\n",
        "\n",
        "exact_8 = dGPGO(surrogate_exact_8, Acquisition_new(util_grad_exact), objfunc, param)\n",
        "exact_8.run(init_evals=n_init, max_iter=iters)\n"
      ],
      "execution_count": 41,
      "outputs": [
        {
          "output_type": "stream",
          "name": "stdout",
          "text": [
            "Evaluation \t Proposed point \t  Current eval. \t  Best eval. \t         Max AcqFunc.\n",
            "init\t [3.82391708 4.79785639]\t -50.20079446939181\t -13.871821018360485\t    \n",
            "init\t [3.78055209 0.31596228]\t -36.5114251593508\t -13.871821018360485\t    \n",
            "init\t [-2.73686192 -5.00327624]\t -43.34985765011677\t -13.871821018360485\t    \n",
            "init\t [-0.7119993  -0.99992207]\t -13.871821018360485\t -13.871821018360485\t    \n",
            "init\t [ 0.23218863 -0.22126801]\t -17.190590355445654\t -13.871821018360485\t    \n",
            "1  \t [ 4.96380166 -4.82581639]\t -53.599814786253866\t -13.871821018360485\t -0.7978763317050179\n",
            "2  \t [-5.03492225  2.95509263]\t -34.71822332027364\t -13.871821018360485\t -0.79788444716443\n",
            "3  \t [-0.90141252  5.12      ]\t -31.59524103717134\t -13.871821018360485\t -0.7975520979446603\n",
            "4  \t [ 1.08442296 -4.7906971 ]\t -32.971633322227845\t -13.871821018360485\t -0.7831298674625679\n",
            "5  \t [-5.12       -1.43958901]\t -50.285357808233925\t -13.871821018360485\t -0.7960827942130371\n",
            "\u001b[1m\u001b[92m6\u001b[0m\t \u001b[1m\u001b[92m[-1.95001889  1.93097606]\u001b[0m\t \u001b[1m\u001b[92m-8.946098136270532\u001b[0m\t \u001b[1m\u001b[92m-8.946098136270532\u001b[0m\t \u001b[1m\u001b[92m-0.6812932993948774\u001b[0m\n",
            "7  \t [1.4384639  2.43251378]\t -46.36249315625358\t -8.946098136270532\t -0.6306757026067245\n",
            "8  \t [ 5.12       -1.96129112]\t -33.06568931585427\t -8.946098136270532\t -0.39802411765300993\n",
            "9  \t [ 2.53585061 -2.61902523]\t -50.36867648336765\t -8.946098136270532\t -0.3180155137802507\n",
            "10 \t [-5.12 -5.12]\t -57.849427451571785\t -8.946098136270532\t -0.31394815035853363\n",
            "11 \t [-1.84608428 -2.55223873]\t -33.71105836471553\t -8.946098136270532\t -0.22605913734301944\n",
            "12 \t [-3.53521444  0.81159486]\t -39.138416598891894\t -8.946098136270532\t -0.19511962578196326\n",
            "13 \t [-3.13247214  4.49735891]\t -53.305822135312404\t -8.946098136270532\t -0.16603212799852288\n",
            "14 \t [5.11902826 2.46571861]\t -54.72179025132276\t -8.946098136270532\t -0.27033637105890296\n",
            "15 \t [-1.05554731  2.50777543]\t -27.994082900054593\t -8.946098136270532\t -0.018909665242498628\n",
            "16 \t [1.47993639 0.12983354]\t -25.27462207899734\t -8.946098136270532\t -0.00021218639368427355\n",
            "17 \t [1.59691139 4.87043975]\t -47.60842981528893\t -8.946098136270532\t -0.02055982250405156\n",
            "\u001b[1m\u001b[92m18\u001b[0m\t \u001b[1m\u001b[92m[ 0.10866507 -2.05519922]\u001b[0m\t \u001b[1m\u001b[92m-7.072766395688511\u001b[0m\t \u001b[1m\u001b[92m-7.072766395688511\u001b[0m\t \u001b[1m\u001b[92m-0.00024484146215220863\u001b[0m\n",
            "19 \t [-1.47888399  0.48186383]\t -42.26654909802634\t -7.072766395688511\t -0.0010860464464767356\n",
            "20 \t [-0.64789166 -4.20951724]\t -41.60803685648959\t -7.072766395688511\t -0.00014680553209374823\n"
          ]
        }
      ]
    },
    {
      "cell_type": "code",
      "metadata": {
        "id": "vonm9jyuIv4t",
        "colab": {
          "base_uri": "https://localhost:8080/"
        },
        "outputId": "31f3b994-98fe-4b52-8f0e-59624d9be563"
      },
      "source": [
        "### EXACT GP ERM GRADIENTS\n",
        "\n",
        "np.random.seed(run_num_9)\n",
        "surrogate_exact_9 = dGaussianProcess(cov_func, optimize=opt)\n",
        "\n",
        "exact_9 = dGPGO(surrogate_exact_9, Acquisition_new(util_grad_exact), objfunc, param)\n",
        "exact_9.run(init_evals=n_init, max_iter=iters)\n"
      ],
      "execution_count": 42,
      "outputs": [
        {
          "output_type": "stream",
          "name": "stdout",
          "text": [
            "Evaluation \t Proposed point \t  Current eval. \t  Best eval. \t         Max AcqFunc.\n",
            "init\t [-5.01376866  0.01919582]\t -25.248289026162446\t -24.454800313488693\t    \n",
            "init\t [-0.04328148 -3.74958562]\t -24.454800313488693\t -24.454800313488693\t    \n",
            "init\t [-3.66478248 -2.88195916]\t -39.46509426509438\t -24.454800313488693\t    \n",
            "init\t [-0.83447623 -2.57944404]\t -31.06766397812992\t -24.454800313488693\t    \n",
            "init\t [-4.25922917 -1.58209393]\t -49.922543556206975\t -24.454800313488693\t    \n",
            "1  \t [3.69491889 4.82146316]\t -55.95031066333101\t -24.454800313488693\t -0.7978845607896434\n",
            "2  \t [ 5.12       -0.96381407]\t -30.111009209089183\t -24.454800313488693\t -0.7978840874700128\n",
            "3  \t [-1.75726245  4.33524886]\t -46.530066187987714\t -24.454800313488693\t -0.7978778595724014\n",
            "\u001b[1m\u001b[92m4\u001b[0m\t \u001b[1m\u001b[92m[1.32149658 1.04456568]\u001b[0m\t \u001b[1m\u001b[92m-17.56964296332381\u001b[0m\t \u001b[1m\u001b[92m-17.56964296332381\u001b[0m\t \u001b[1m\u001b[92m-0.7950745748371193\u001b[0m\n",
            "5  \t [ 2.60463618 -2.60486245]\t -49.39182228410674\t -17.56964296332381\t -0.6312987069386747\n",
            "6  \t [-4.85459855  3.02292184]\t -36.69959614874654\t -17.56964296332381\t -0.7045037998286896\n",
            "\u001b[1m\u001b[92m7\u001b[0m\t \u001b[1m\u001b[92m[-2.0231529   1.12454345]\u001b[0m\t \u001b[1m\u001b[92m-8.372049871726158\u001b[0m\t \u001b[1m\u001b[92m-8.372049871726158\u001b[0m\t \u001b[1m\u001b[92m-0.6423190368317153\u001b[0m\n",
            "8  \t [-5.12 -5.12]\t -57.8494274515718\t -8.372049871726158\t -0.5824780930266388\n",
            "9  \t [5.12       2.01973518]\t -33.08082522657303\t -8.372049871726158\t -0.6229720807880501\n",
            "10 \t [ 3.17823476 -5.12      ]\t -44.66800355580441\t -8.372049871726158\t -0.42683079246207595\n",
            "11 \t [0.94616713 3.98258141]\t -17.382622301584597\t -8.372049871726158\t -0.3585401203981241\n",
            "12 \t [-0.75052838 -0.08322299]\t -11.87330119492044\t -8.372049871726158\t -0.1578655795811093\n",
            "13 \t [-0.46753853  2.02080343]\t -24.18026389760061\t -8.372049871726158\t -0.034140009461412754\n",
            "14 \t [3.03867133 0.53714132]\t -29.544724694512972\t -8.372049871726158\t -0.06115229400791435\n",
            "15 \t [ 0.78923244 -0.85958742]\t -12.567375746707139\t -8.372049871726158\t -0.009228989943293638\n",
            "16 \t [2.9097094  2.44835252]\t -35.505425793487845\t -8.372049871726158\t -0.0012166998211329938\n",
            "17 \t [-2.77092986  0.66066291]\t -32.12630706856737\t -8.372049871726158\t -0.014469135218024792\n",
            "18 \t [-2.57731396 -4.76297909]\t -57.35704018261027\t -8.372049871726158\t -0.055167078537434945\n",
            "19 \t [-4.2590241  5.12     ]\t -57.63069719259711\t -8.372049871726158\t -0.10830346201805648\n",
            "20 \t [1.55162458 5.12      ]\t -50.81077975402977\t -8.372049871726158\t -0.00040343655994690993\n"
          ]
        }
      ]
    },
    {
      "cell_type": "code",
      "metadata": {
        "id": "6amuYlUdIv7r",
        "colab": {
          "base_uri": "https://localhost:8080/"
        },
        "outputId": "073a481a-ead4-4f41-db13-d74bcca6f7cb"
      },
      "source": [
        "### EXACT GP ERM GRADIENTS\n",
        "\n",
        "np.random.seed(run_num_10)\n",
        "surrogate_exact_10 = dGaussianProcess(cov_func, optimize=opt)\n",
        "\n",
        "exact_10 = dGPGO(surrogate_exact_10, Acquisition_new(util_grad_exact), objfunc, param)\n",
        "exact_10.run(init_evals=n_init, max_iter=iters)\n"
      ],
      "execution_count": 43,
      "outputs": [
        {
          "output_type": "stream",
          "name": "stdout",
          "text": [
            "Evaluation \t Proposed point \t  Current eval. \t  Best eval. \t         Max AcqFunc.\n",
            "init\t [ 2.77832339 -4.90750004]\t -41.674330194390116\t -13.839458310244165\t    \n",
            "init\t [1.36855793 2.54775176]\t -44.69639719065837\t -13.839458310244165\t    \n",
            "init\t [-0.01528819 -2.81808235]\t -13.839458310244165\t -13.839458310244165\t    \n",
            "init\t [-3.09183626  2.66783449]\t -33.23221510904937\t -13.839458310244165\t    \n",
            "init\t [-3.38830503 -4.2154003 ]\t -54.73014366983691\t -13.839458310244165\t    \n",
            "1  \t [ 5.12       -0.53449745]\t -48.976408281386696\t -13.839458310244165\t -0.7977518726783505\n",
            "2  \t [5.12 5.12]\t -57.849427451571785\t -13.839458310244165\t -0.7975239017722687\n",
            "3  \t [-4.22754211 -0.73799094]\t -37.764185864993955\t -13.839458310244165\t -0.7623780099485141\n",
            "4  \t [-0.63815671  5.12      ]\t -45.7950067420562\t -13.839458310244165\t -0.7253034063776163\n",
            "\u001b[1m\u001b[92m5\u001b[0m\t \u001b[1m\u001b[92m[ 1.90874419 -0.86604919]\u001b[0m\t \u001b[1m\u001b[92m-9.330184102927806\u001b[0m\t \u001b[1m\u001b[92m-9.330184102927806\u001b[0m\t \u001b[1m\u001b[92m-0.6327770279327227\u001b[0m\n",
            "6  \t [-0.38458602 -5.12      ]\t -46.55650416140192\t -9.330184102927806\t -0.4648757118281594\n",
            "7  \t [4.35013638 2.28560292]\t -52.250837054125306\t -9.330184102927806\t -0.4008511735656895\n",
            "8  \t [-1.27452338  0.4785302 ]\t -33.29730984851069\t -9.330184102927806\t -0.5697269147819226\n",
            "9  \t [2.29583476 5.12      ]\t -47.03581030707723\t -9.330184102927806\t -0.28001283004418004\n",
            "10 \t [-5.12        1.58344219]\t -50.08883510696233\t -9.330184102927806\t -0.16222028617522374\n",
            "11 \t [ 3.00960109 -2.34339411]\t -30.104480841367785\t -9.330184102927806\t -0.14328930816612634\n",
            "12 \t [-1.78678181 -1.96753264]\t -14.980578773383689\t -9.330184102927806\t -0.0812400557845229\n",
            "13 \t [-3.32372707  5.12      ]\t -54.44037262596764\t -9.330184102927806\t -0.2916306189043365\n",
            "14 \t [2.548763   0.16821764]\t -31.14341620197597\t -9.330184102927806\t -0.01512091091231644\n",
            "15 \t [ 0.35614192 -0.25518492]\t -26.703281763450015\t -9.330184102927806\t -0.003237968908470378\n",
            "16 \t [-5.12 -5.12]\t -57.849427451571785\t -9.330184102927806\t -0.015930993858161848\n",
            "17 \t [ 5.0630214  -2.98240022]\t -35.363768393661346\t -9.330184102927806\t -0.06919453688694008\n",
            "18 \t [-4.91723829 -2.84785477]\t -37.84307766222453\t -9.330184102927806\t -0.0002175481071631174\n",
            "19 \t [-1.40201919 -2.92813304]\t -29.706006234892698\t -9.330184102927806\t -1.149393529840418e-06\n",
            "20 \t [-0.80798337  2.54686514]\t -33.145799904725514\t -9.330184102927806\t -0.0012702762503105788\n"
          ]
        }
      ]
    },
    {
      "cell_type": "code",
      "metadata": {
        "id": "VwbLIP9cIv-F",
        "colab": {
          "base_uri": "https://localhost:8080/"
        },
        "outputId": "b53ec2d5-8469-4630-cc22-eee979865a4a"
      },
      "source": [
        "### EXACT GP ERM GRADIENTS\n",
        "\n",
        "np.random.seed(run_num_11)\n",
        "surrogate_exact_11 = dGaussianProcess(cov_func, optimize=opt)\n",
        "\n",
        "exact_11 = dGPGO(surrogate_exact_11, Acquisition_new(util_grad_exact), objfunc, param)\n",
        "exact_11.run(init_evals=n_init, max_iter=iters)\n"
      ],
      "execution_count": 44,
      "outputs": [
        {
          "output_type": "stream",
          "name": "stdout",
          "text": [
            "Evaluation \t Proposed point \t  Current eval. \t  Best eval. \t         Max AcqFunc.\n",
            "init\t [-3.27403839 -4.92057353]\t -47.655641290890955\t -10.679755252484755\t    \n",
            "init\t [-0.37664229  2.30332343]\t -35.87889240695259\t -10.679755252484755\t    \n",
            "init\t [-0.81711509 -0.14922651]\t -10.679755252484755\t -10.679755252484755\t    \n",
            "init\t [-4.98912446 -0.12931474]\t -28.05462905574235\t -10.679755252484755\t    \n",
            "init\t [4.52410012 3.59214172]\t -71.62694632141611\t -10.679755252484755\t    \n",
            "1  \t [ 3.03550212 -4.46785095]\t -49.22040431745476\t -10.679755252484755\t -0.7978844046968582\n",
            "2  \t [ 4.91302382 -0.64498034]\t -42.14029727890503\t -10.679755252484755\t -0.7943755131780043\n",
            "3  \t [-1.19896852  5.12      ]\t -37.21049672982495\t -10.679755252484755\t -0.6832782830912949\n",
            "4  \t [-0.14967075 -3.28094651]\t -26.82463242586251\t -10.679755252484755\t -0.7238346780005346\n",
            "5  \t [-3.81010753  2.8468096 ]\t -33.219209813269664\t -10.679755252484755\t -0.7146534711654157\n",
            "6  \t [2.1329683  0.84931955]\t -12.719354383500548\t -10.679755252484755\t -0.5748297205001004\n",
            "7  \t [1.87189068 5.12      ]\t -35.49710486087807\t -10.679755252484755\t -0.5632623320196869\n",
            "8  \t [ 2.10476569 -1.63788323]\t -25.678287070032784\t -10.679755252484755\t -0.3617747276300945\n",
            "9  \t [-5.12       -2.84222092]\t -41.52736984257636\t -10.679755252484755\t -0.44391977637497937\n",
            "10 \t [-2.679429   -0.79715792]\t -29.185175385211604\t -10.679755252484755\t -0.23138159742416334\n",
            "11 \t [-4.00674609  5.12      ]\t -44.98770982923132\t -10.679755252484755\t -0.24408647666931743\n",
            "12 \t [ 0.32982701 -1.0410911 ]\t -16.332110672687797\t -10.679755252484755\t -0.004450596144930231\n",
            "13 \t [2.04369322 2.52577386]\t -30.799855749047772\t -10.679755252484755\t -0.01927209531799576\n",
            "14 \t [ 4.06722221 -2.47594005]\t -43.43732506931758\t -10.679755252484755\t -0.0008035512085871431\n",
            "15 \t [-0.75504913 -5.12      ]\t -39.1776199106116\t -10.679755252484755\t -0.05913032475590718\n",
            "16 \t [-5.12 -5.12]\t -57.849427451571785\t -10.679755252484755\t -0.0013029659380720605\n",
            "17 \t [5.12       1.48490237]\t -51.08468926570809\t -10.679755252484755\t -0.0022586953505702983\n",
            "18 \t [ 5.12       -3.86829132]\t -47.12157521332907\t -10.679755252484755\t -0.00027635062329478874\n",
            "19 \t [-2.40849978  1.27991721]\t -37.70015918319902\t -10.679755252484755\t -0.003501833229530644\n",
            "20 \t [-4.59557705  1.0992692 ]\t -42.46101864722366\t -10.679755252484755\t -5.042754829509115e-08\n"
          ]
        }
      ]
    },
    {
      "cell_type": "code",
      "metadata": {
        "id": "MlUNFjc-JTBY",
        "colab": {
          "base_uri": "https://localhost:8080/"
        },
        "outputId": "0d1b23f6-a7e5-463b-a5c9-a108e6b7ec74"
      },
      "source": [
        "### EXACT GP ERM GRADIENTS\n",
        "\n",
        "np.random.seed(run_num_12)\n",
        "surrogate_exact_12 = dGaussianProcess(cov_func, optimize=opt)\n",
        "\n",
        "exact_12 = dGPGO(surrogate_exact_12, Acquisition_new(util_grad_exact), objfunc, param)\n",
        "exact_12.run(init_evals=n_init, max_iter=iters)\n"
      ],
      "execution_count": 45,
      "outputs": [
        {
          "output_type": "stream",
          "name": "stdout",
          "text": [
            "Evaluation \t Proposed point \t  Current eval. \t  Best eval. \t         Max AcqFunc.\n",
            "init\t [-3.54137249  2.45810889]\t -57.903242869085595\t -40.51116653209555\t    \n",
            "init\t [-2.42365424  0.34549139]\t -40.51116653209555\t -40.51116653209555\t    \n",
            "init\t [-4.97075238  4.28796936]\t -55.62655915398208\t -40.51116653209555\t    \n",
            "init\t [ 4.10332011 -4.77776458]\t -49.962803461970296\t -40.51116653209555\t    \n",
            "init\t [ 4.6791612  -3.71497655]\t -62.183891474990624\t -40.51116653209555\t    \n",
            "1  \t [4.1801221 5.12     ]\t -52.14728433935211\t -40.51116653209555\t -0.7978845607895617\n",
            "2  \t [-5.12 -5.12]\t -57.849427451571785\t -40.51116653209555\t -0.7978844770398728\n",
            "\u001b[1m\u001b[92m3\u001b[0m\t \u001b[1m\u001b[92m[2.21197022 0.79384263]\u001b[0m\t \u001b[1m\u001b[92m-20.436184752851986\u001b[0m\t \u001b[1m\u001b[92m-20.436184752851986\u001b[0m\t \u001b[1m\u001b[92m-0.7975077084520088\u001b[0m\n",
            "4  \t [-0.46911892 -4.42609904]\t -58.56397644469437\t -20.436184752851986\t -0.7973698109850487\n",
            "5  \t [5.12       0.02454424]\t -29.043993582333332\t -20.436184752851986\t -0.7330691659963839\n",
            "6  \t [0.0875721 4.603205 ]\t -40.64330333892435\t -20.436184752851986\t -0.7929025496424005\n",
            "7  \t [-5.12       -1.71400744]\t -44.10478715362278\t -20.436184752851986\t -0.724912892369152\n",
            "\u001b[1m\u001b[92m8\u001b[0m\t \u001b[1m\u001b[92m[ 1.07319028 -1.68549606]\u001b[0m\t \u001b[1m\u001b[92m-18.97437847044218\u001b[0m\t \u001b[1m\u001b[92m-18.97437847044218\u001b[0m\t \u001b[1m\u001b[92m-0.5860668478659103\u001b[0m\n",
            "9  \t [-2.4457565  -2.63132226]\t -49.115056746186404\t -18.97437847044218\t -0.25947527317240476\n",
            "10 \t [5.12       2.56065139]\t -54.76426966836406\t -18.97437847044218\t -0.3251277296530621\n",
            "\u001b[1m\u001b[92m11\u001b[0m\t \u001b[1m\u001b[92m[-0.20640147  1.94485232]\u001b[0m\t \u001b[1m\u001b[92m-11.714148189407473\u001b[0m\t \u001b[1m\u001b[92m-11.714148189407473\u001b[0m\t \u001b[1m\u001b[92m-0.2849412314550928\u001b[0m\n",
            "12 \t [ 3.15180014 -1.45374446]\t -35.84187279009933\t -11.714148189407473\t -0.06413400282922721\n",
            "\u001b[1m\u001b[92m13\u001b[0m\t \u001b[1m\u001b[92m[-0.02820207 -0.1706231 ]\u001b[0m\t \u001b[1m\u001b[92m-5.403302324793548\u001b[0m\t \u001b[1m\u001b[92m-5.403302324793548\u001b[0m\t \u001b[1m\u001b[92m-0.029978705682746267\u001b[0m\n",
            "14 \t [-2.11134182  4.879902  ]\t -33.33461937300623\t -5.403302324793548\t -0.08566660110642055\n",
            "15 \t [1.99845836 3.38154662]\t -32.78502599054999\t -5.403302324793548\t -0.08541471967059108\n",
            "16 \t [ 1.73915349 -4.95929747]\t -38.62550513033366\t -5.403302324793548\t -0.03155955750746276\n",
            "17 \t [-0.13451671  0.77756484]\t -12.263531410202285\t -5.403302324793548\t -0.0011979302356265984\n",
            "18 \t [-0.36513483 -1.19748301]\t -24.946575662690382\t -5.403302324793548\t -0.002731520353698217\n",
            "19 \t [-5.12        0.51983748]\t -49.11736637160208\t -5.403302324793548\t -0.03147652284494699\n",
            "20 \t [ 0.49982566 -0.03564424]\t -20.500832640615315\t -5.403302324793548\t -4.373590880523703e-06\n"
          ]
        }
      ]
    },
    {
      "cell_type": "code",
      "metadata": {
        "id": "9BsKdU9eJTFL",
        "colab": {
          "base_uri": "https://localhost:8080/"
        },
        "outputId": "254dc92e-96e0-4b46-9948-50457dbfa8b2"
      },
      "source": [
        "### EXACT GP ERM GRADIENTS\n",
        "\n",
        "np.random.seed(run_num_13)\n",
        "surrogate_exact_13 = dGaussianProcess(cov_func, optimize=opt)\n",
        "\n",
        "exact_13 = dGPGO(surrogate_exact_13, Acquisition_new(util_grad_exact), objfunc, param)\n",
        "exact_13.run(init_evals=n_init, max_iter=iters)\n"
      ],
      "execution_count": 46,
      "outputs": [
        {
          "output_type": "stream",
          "name": "stdout",
          "text": [
            "Evaluation \t Proposed point \t  Current eval. \t  Best eval. \t         Max AcqFunc.\n",
            "init\t [ 2.84367268 -2.68757791]\t -33.58019830007169\t -17.435826639425656\t    \n",
            "init\t [3.32061217 4.76927179]\t -56.857057997503354\t -17.435826639425656\t    \n",
            "init\t [ 4.83943541 -0.47667971]\t -48.211919361679726\t -17.435826639425656\t    \n",
            "init\t [1.11659482 2.82139151]\t -17.435826639425656\t -17.435826639425656\t    \n",
            "init\t [1.45012065 2.27346667]\t -38.25352329493884\t -17.435826639425656\t    \n",
            "1  \t [-4.10876704 -2.60547476]\t -43.79941556238635\t -17.435826639425656\t -0.7978845605124193\n",
            "2  \t [-3.79946932  2.66821301]\t -43.412509428311274\t -17.435826639425656\t -0.7978634431683508\n",
            "3  \t [-0.63511851 -5.12      ]\t -45.93562055650825\t -17.435826639425656\t -0.7957562276933146\n",
            "4  \t [-0.69660879 -0.85998059]\t -18.143631230272202\t -17.435826639425656\t -0.7795174348314425\n",
            "5  \t [-0.949167  5.12    ]\t -30.331370419796876\t -17.435826639425656\t -0.774281240734931\n",
            "6  \t [-5.12 -5.12]\t -57.849427451571785\t -17.435826639425656\t -0.5499517443788652\n",
            "7  \t [-4.5509668  -0.02721916]\t -40.34954624651627\t -17.435826639425656\t -0.35401801031351654\n",
            "8  \t [5.12       2.90600281]\t -39.06350885118832\t -17.435826639425656\t -0.37020204131577983\n",
            "9  \t [ 2.45903261 -5.12      ]\t -54.64209172454363\t -17.435826639425656\t -0.3972733258518486\n",
            "10 \t [-1.09522995  1.3299283 ]\t -19.519150790241227\t -17.435826639425656\t -0.2592063657207478\n",
            "11 \t [ 4.98178265 -3.65668316]\t -53.787979904546205\t -17.435826639425656\t -0.25081447475309354\n",
            "12 \t [ 2.01300324 -0.5065593 ]\t -24.33365025600682\t -17.435826639425656\t -0.1671658209073496\n",
            "13 \t [-3.58976335  5.12      ]\t -60.26235190988494\t -17.435826639425656\t -0.2614233633017451\n",
            "14 \t [-0.34155664 -2.65395047]\t -38.27595709907447\t -17.435826639425656\t -0.06745178938626743\n",
            "\u001b[1m\u001b[92m15\u001b[0m\t \u001b[1m\u001b[92m[-2.25417483 -1.0117464 ]\u001b[0m\t \u001b[1m\u001b[92m-16.3944406234583\u001b[0m\t \u001b[1m\u001b[92m-16.3944406234583\u001b[0m\t \u001b[1m\u001b[92m-0.0036182264072741753\u001b[0m\n",
            "16 \t [-2.78853805 -4.68364038]\t -51.36434159677343\t -16.3944406234583\t -0.004857316333242822\n",
            "17 \t [1.00619853 5.12      ]\t -29.944732398614967\t -16.3944406234583\t -0.010474914819940033\n",
            "18 \t [-0.62734791  2.82579019]\t -30.760556363851173\t -16.3944406234583\t -0.0007314398065311235\n",
            "19 \t [-3.21492355  1.04796609]\t -19.698568468935775\t -16.3944406234583\t -1.660355474736369e-08\n",
            "20 \t [-5.0522458   3.94987047]\t -42.15260223421056\t -16.3944406234583\t -7.497464748857017e-07\n"
          ]
        }
      ]
    },
    {
      "cell_type": "code",
      "metadata": {
        "id": "k6GjFBr1JTJf",
        "colab": {
          "base_uri": "https://localhost:8080/"
        },
        "outputId": "3516c01a-1b85-48a4-fdd2-1e81b8198cc8"
      },
      "source": [
        "### EXACT GP ERM GRADIENTS\n",
        "\n",
        "np.random.seed(run_num_14)\n",
        "surrogate_exact_14 = dGaussianProcess(cov_func, optimize=opt)\n",
        "\n",
        "exact_14 = dGPGO(surrogate_exact_14, Acquisition_new(util_grad_exact), objfunc, param)\n",
        "exact_14.run(init_evals=n_init, max_iter=iters)\n"
      ],
      "execution_count": 47,
      "outputs": [
        {
          "output_type": "stream",
          "name": "stdout",
          "text": [
            "Evaluation \t Proposed point \t  Current eval. \t  Best eval. \t         Max AcqFunc.\n",
            "init\t [0.14277984 2.79721013]\t -18.683085263052178\t -10.423838604848608\t    \n",
            "init\t [ 3.7931795  -5.03759925]\t -47.36348784446708\t -10.423838604848608\t    \n",
            "init\t [-1.94830412  4.68586229]\t -40.19779334078636\t -10.423838604848608\t    \n",
            "init\t [ 0.13431513 -1.86076749]\t -10.423838604848608\t -10.423838604848608\t    \n",
            "init\t [ 0.40140736 -2.85434939]\t -30.353548735049138\t -10.423838604848608\t    \n",
            "1  \t [-4.82578806 -5.12      ]\t -57.62897652524626\t -10.423838604848608\t -0.7978838829425385\n",
            "2  \t [5.12 5.12]\t -57.849427451571785\t -10.423838604848608\t -0.7978832735892898\n",
            "3  \t [-4.94978572  0.25422714]\t -35.324181923041664\t -10.423838604848608\t -0.7978703328649795\n",
            "4  \t [4.80749753 0.03051338]\t -29.761582978864574\t -10.423838604848608\t -0.7978229672823219\n",
            "5  \t [-1.73927576  0.35706862]\t -30.057142830715556\t -10.423838604848608\t -0.7003485876984038\n",
            "6  \t [-4.78091983  3.27931925]\t -53.51235760294291\t -10.423838604848608\t -0.6499377196568802\n",
            "7  \t [-1.55025717 -5.12      ]\t -50.83357046065062\t -10.423838604848608\t -0.653835934640651\n",
            "8  \t [1.86721652 5.12      ]\t -35.69427097933968\t -10.423838604848608\t -0.6582672590782989\n",
            "9  \t [ 2.35025465 -0.95349257]\t -22.74755229998382\t -10.423838604848608\t -0.4410074835047942\n",
            "10 \t [-3.0168211  -2.36682438]\t -31.457534214360557\t -10.423838604848608\t -0.5294702789434854\n",
            "11 \t [2.99552436 2.30919597]\t -27.943733804417807\t -10.423838604848608\t -0.5219842334095369\n",
            "12 \t [0.68211089 0.64524837]\t -31.135766511808527\t -10.423838604848608\t -0.09464094947351842\n",
            "13 \t [ 4.19759884 -2.34349436]\t -45.420843357578136\t -10.423838604848608\t -0.16054884349492385\n",
            "14 \t [ 1.10917537 -5.12      ]\t -32.4169278398166\t -10.423838604848608\t -0.12878097682543874\n",
            "15 \t [-1.92618391  2.23730281]\t -18.97517656893833\t -10.423838604848608\t -0.00628963145926702\n",
            "16 \t [-1.46623595 -1.20214563]\t -30.409138278528417\t -10.423838604848608\t -4.3803041719608746e-05\n",
            "17 \t [-0.01078416  5.12      ]\t -28.947777588468703\t -10.423838604848608\t -0.0003937766220412608\n",
            "18 \t [-4.45085841 -3.23881125]\t -59.12470153912595\t -10.423838604848608\t -6.857669904799304e-06\n",
            "19 \t [4.70675772 2.96186171]\t -43.89562166162881\t -10.423838604848608\t -0.002232049375558608\n",
            "20 \t [ 5.00788372 -3.79145698]\t -46.89084916502436\t -10.423838604848608\t -1.2811186194530898e-08\n"
          ]
        }
      ]
    },
    {
      "cell_type": "code",
      "metadata": {
        "id": "dPS8WB3aJTN6",
        "colab": {
          "base_uri": "https://localhost:8080/"
        },
        "outputId": "fce66ae4-62bf-4bc9-f10c-95973b8f4db6"
      },
      "source": [
        "### EXACT GP ERM GRADIENTS\n",
        "\n",
        "np.random.seed(run_num_15)\n",
        "surrogate_exact_15 = dGaussianProcess(cov_func, optimize=opt)\n",
        "\n",
        "exact_15 = dGPGO(surrogate_exact_15, Acquisition_new(util_grad_exact), objfunc, param)\n",
        "exact_15.run(init_evals=n_init, max_iter=iters)\n"
      ],
      "execution_count": 48,
      "outputs": [
        {
          "output_type": "stream",
          "name": "stdout",
          "text": [
            "Evaluation \t Proposed point \t  Current eval. \t  Best eval. \t         Max AcqFunc.\n",
            "init\t [ 3.57189322 -3.28810573]\t -54.938487770767075\t -7.990765314336182\t    \n",
            "init\t [-4.56332069 -1.41784631]\t -60.750198753157726\t -7.990765314336182\t    \n",
            "init\t [-2.29989449  0.3072023 ]\t -31.984997246800887\t -7.990765314336182\t    \n",
            "init\t [-1.9873903  -2.00218256]\t -7.990765314336182\t -7.990765314336182\t    \n",
            "init\t [-3.97576933 -2.5610341 ]\t -41.754957769694336\t -7.990765314336182\t    \n",
            "1  \t [5.12       3.74434704]\t -53.29995963390897\t -7.990765314336182\t -0.7978845607140601\n",
            "2  \t [-3.93956611  5.12      ]\t -45.157200468068055\t -7.990765314336182\t -0.7978654987031752\n",
            "3  \t [0.56205256 4.02888216]\t -35.96152088934213\t -7.990765314336182\t -0.7971148099050597\n",
            "4  \t [-0.41695354 -5.12      ]\t -47.76781633366264\t -7.990765314336182\t -0.7940193101621129\n",
            "5  \t [2.33291851 0.4796834 ]\t -40.5686499740102\t -7.990765314336182\t -0.787707465937368\n",
            "6  \t [-5.12 -5.12]\t -57.849427451571785\t -7.990765314336182\t -0.6496631437795157\n",
            "7  \t [-5.11881952  1.8124174 ]\t -38.324871502349524\t -7.990765314336182\t -0.670860867536959\n",
            "8  \t [ 0.24169911 -1.81051418]\t -19.10379191391907\t -7.990765314336182\t -0.561100297098364\n",
            "9  \t [5.12       0.61833842]\t -46.66781073748381\t -7.990765314336182\t -0.5267996561072611\n",
            "10 \t [-0.16409169  1.51829175]\t -27.126709257706892\t -7.990765314336182\t -0.18165951610681272\n",
            "11 \t [-2.20510488  3.1320295 ]\t -25.136552887587396\t -7.990765314336182\t -0.20501662550891095\n",
            "12 \t [ 1.59424175 -4.39578519]\t -58.0937166589765\t -7.990765314336182\t -0.00654942132321455\n",
            "13 \t [-1.85586197 -3.16888656]\t -22.43556716952095\t -7.990765314336182\t -0.013312697506443306\n",
            "14 \t [ 5.07438415 -1.47343587]\t -48.853854837481244\t -7.990765314336182\t -0.011130987526431997\n",
            "15 \t [3.01992233 5.03503697]\t -34.79111009312775\t -7.990765314336182\t -0.20175479547932354\n",
            "16 \t [ 0.36529859 -0.89353095]\t -19.714379474421413\t -7.990765314336182\t -6.734956626993577e-06\n",
            "17 \t [-2.9041699 -5.12     ]\t -39.11753968777391\t -7.990765314336182\t -0.00681007195201999\n",
            "18 \t [ 1.97443164 -1.6166695 ]\t -24.072095887742464\t -7.990765314336182\t -3.891940280111167e-05\n",
            "19 \t [-1.71062671 -1.31012248]\t -30.779803489955075\t -7.990765314336182\t -1.8886806662331653e-05\n",
            "20 \t [3.55614011 2.10425753]\t -38.52827655844832\t -7.990765314336182\t -0.00015872306750469686\n"
          ]
        }
      ]
    },
    {
      "cell_type": "code",
      "metadata": {
        "id": "SHWdp2giJTRm",
        "colab": {
          "base_uri": "https://localhost:8080/"
        },
        "outputId": "cd410354-f11f-4328-b220-cda2e0d0d0da"
      },
      "source": [
        "### EXACT GP ERM GRADIENTS\n",
        "\n",
        "np.random.seed(run_num_16)\n",
        "surrogate_exact_16 = dGaussianProcess(cov_func, optimize=opt)\n",
        "\n",
        "exact_16 = dGPGO(surrogate_exact_16, Acquisition_new(util_grad_exact), objfunc, param)\n",
        "exact_16.run(init_evals=n_init, max_iter=iters)\n"
      ],
      "execution_count": 49,
      "outputs": [
        {
          "output_type": "stream",
          "name": "stdout",
          "text": [
            "Evaluation \t Proposed point \t  Current eval. \t  Best eval. \t         Max AcqFunc.\n",
            "init\t [-2.83349935  0.23719262]\t -22.27210456874814\t -22.27210456874814\t    \n",
            "init\t [ 0.51918292 -4.65303603]\t -57.57021076017139\t -22.27210456874814\t    \n",
            "init\t [-1.42613673 -2.83565116]\t -33.89145899403749\t -22.27210456874814\t    \n",
            "init\t [ 1.9325559  -3.44339021]\t -35.85029586225333\t -22.27210456874814\t    \n",
            "init\t [-4.39987336  4.51595121]\t -77.78800881964571\t -22.27210456874814\t    \n",
            "1  \t [2.142749   4.83374619]\t -36.69381850109535\t -22.27210456874814\t -0.7978845508179482\n",
            "2  \t [5.12       0.59422797]\t -47.57579460985678\t -22.27210456874814\t -0.7978570230040121\n",
            "3  \t [-5.12 -5.12]\t -57.849427451571785\t -22.27210456874814\t -0.797221161805346\n",
            "\u001b[1m\u001b[92m4\u001b[0m\t \u001b[1m\u001b[92m[1.020987   0.80776409]\u001b[0m\t \u001b[1m\u001b[92m-8.231448011305515\u001b[0m\t \u001b[1m\u001b[92m-8.231448011305515\u001b[0m\t \u001b[1m\u001b[92m-0.789862469751378\u001b[0m\n",
            "5  \t [-0.849334    3.07002449]\t -15.254856600817254\t -8.231448011305515\t -0.7239590164201554\n",
            "6  \t [ 5.12       -3.14287922]\t -42.56859016945097\t -8.231448011305515\t -0.7419843314298696\n",
            "7  \t [5.12 5.12]\t -57.849427451571785\t -8.231448011305515\t -0.6972026397631473\n",
            "8  \t [-4.52486335 -2.1068523 ]\t -46.961753356862516\t -8.231448011305515\t -0.5595201716401953\n",
            "9  \t [ 2.4398155  -0.74036163]\t -36.39955258736292\t -8.231448011305515\t -0.36351638998203395\n",
            "10 \t [-5.09916718  0.34581391]\t -43.66333330294024\t -8.231448011305515\t -0.1982640948845587\n",
            "11 \t [2.94363131 2.21252658]\t -21.848080167865103\t -8.231448011305515\t -0.2742146901531849\n",
            "12 \t [-0.06234554  4.67707   ]\t -37.060004133803446\t -8.231448011305515\t -0.05068056260190391\n",
            "13 \t [-0.4943661  -0.01670121]\t -20.293420157447542\t -8.231448011305515\t -0.21544777065077064\n",
            "14 \t [-2.50470818 -5.05407733]\t -52.38459834484032\t -8.231448011305515\t -0.16313794562142245\n",
            "15 \t [-2.05327401  2.0270876 ]\t -9.024514326435135\t -8.231448011305515\t -0.024026768995365204\n",
            "16 \t [0.80013956 1.97994793]\t -11.541172420199159\t -8.231448011305515\t -0.01874182566896119\n",
            "17 \t [-3.05089315  2.2704587 ]\t -26.251778435762315\t -8.231448011305515\t -0.0033922213752883255\n",
            "18 \t [5.12       2.89367237]\t -39.44790484034466\t -8.231448011305515\t -0.004789454512433207\n",
            "19 \t [ 0.16561753 -1.42179689]\t -25.808854843603036\t -8.231448011305515\t -0.0004927433914976777\n",
            "20 \t [ 2.99416535 -5.06847411]\t -35.57249957997627\t -8.231448011305515\t -0.021557215424214297\n"
          ]
        }
      ]
    },
    {
      "cell_type": "code",
      "metadata": {
        "id": "yU2SflSsJTUs",
        "colab": {
          "base_uri": "https://localhost:8080/"
        },
        "outputId": "f609e8e9-d1db-41d2-e8db-659baa49fb46"
      },
      "source": [
        "### EXACT GP ERM GRADIENTS\n",
        "\n",
        "np.random.seed(run_num_17)\n",
        "surrogate_exact_17 = dGaussianProcess(cov_func, optimize=opt)\n",
        "\n",
        "exact_17 = dGPGO(surrogate_exact_17, Acquisition_new(util_grad_exact), objfunc, param)\n",
        "exact_17.run(init_evals=n_init, max_iter=iters)\n"
      ],
      "execution_count": 50,
      "outputs": [
        {
          "output_type": "stream",
          "name": "stdout",
          "text": [
            "Evaluation \t Proposed point \t  Current eval. \t  Best eval. \t         Max AcqFunc.\n",
            "init\t [-2.10263037  0.31320838]\t -20.395145364684023\t -20.395145364684023\t    \n",
            "init\t [-3.15882714 -4.42470033]\t -53.03732051200137\t -20.395145364684023\t    \n",
            "init\t [2.93873111 1.60085526]\t -29.989224812583537\t -20.395145364684023\t    \n",
            "init\t [1.40821398 0.77417363]\t -29.451989415882437\t -20.395145364684023\t    \n",
            "init\t [-4.71999574 -1.45598869]\t -55.89242173757483\t -20.395145364684023\t    \n",
            "1  \t [ 4.96008736 -4.44720822]\t -64.14783177084814\t -20.395145364684023\t -0.7978845363013444\n",
            "2  \t [-1.51861519  5.12      ]\t -51.16258242247814\t -20.395145364684023\t -0.7978357751909199\n",
            "3  \t [5.12 5.12]\t -57.849427451571785\t -20.395145364684023\t -0.7966019890499955\n",
            "4  \t [ 0.7748557  -3.17283017]\t -24.450909806974174\t -20.395145364684023\t -0.7917092326223857\n",
            "5  \t [ 5.12       -0.76855727]\t -38.3520468084867\t -20.395145364684023\t -0.7410534194572955\n",
            "6  \t [-5.12        2.95221798]\t -38.08759998703763\t -20.395145364684023\t -0.7936188586565698\n",
            "7  \t [1.79495507 4.85360446]\t -37.93258808617763\t -20.395145364684023\t -0.6785760010674862\n",
            "8  \t [-0.8862222   2.47557512]\t -29.24466080569642\t -20.395145364684023\t -0.2950704043536925\n",
            "9  \t [-0.37273703 -5.12      ]\t -46.03346174380978\t -20.395145364684023\t -0.2904233516365151\n",
            "10 \t [-1.51195556 -1.86068884]\t -29.31244287796026\t -20.395145364684023\t -0.2419346443677895\n",
            "11 \t [ 2.66124126 -1.78228688]\t -33.53624881174176\t -20.395145364684023\t -0.23791626056025209\n",
            "12 \t [-3.90056254  4.98852243]\t -42.01484133768842\t -20.395145364684023\t -0.08894281199153772\n",
            "13 \t [4.8372895  2.68419576]\t -49.40837661384866\t -20.395145364684023\t -0.07846010960800631\n",
            "14 \t [-3.67002607  0.97943777]\t -29.327833581863217\t -20.395145364684023\t -0.015469488194338792\n",
            "\u001b[1m\u001b[92m15\u001b[0m\t \u001b[1m\u001b[92m[-0.13362754 -0.33814777]\u001b[0m\t \u001b[1m\u001b[92m-18.7142880206532\u001b[0m\t \u001b[1m\u001b[92m-18.7142880206532\u001b[0m\t \u001b[1m\u001b[92m-0.0027218446928061408\u001b[0m\n",
            "16 \t [ 3.69936349 -2.60263083]\t -51.57906647138893\t -18.7142880206532\t -7.159358470963358e-09\n",
            "17 \t [ 2.27870412 -5.12      ]\t -45.91097746622553\t -18.7142880206532\t -0.13280041803682474\n",
            "\u001b[1m\u001b[92m18\u001b[0m\t \u001b[1m\u001b[92m[1.05741971 2.94971348]\u001b[0m\t \u001b[1m\u001b[92m-10.957737071176012\u001b[0m\t \u001b[1m\u001b[92m-10.957737071176012\u001b[0m\t \u001b[1m\u001b[92m-0.0004119819823983547\u001b[0m\n",
            "19 \t [0.29952924 3.81205091]\t -33.88272572841092\t -10.957737071176012\t -7.790234942561398e-08\n",
            "20 \t [-2.76442355  2.82201947]\t -30.328554973022733\t -10.957737071176012\t -0.00014501597933784462\n"
          ]
        }
      ]
    },
    {
      "cell_type": "code",
      "metadata": {
        "id": "es0KCh_0JTgY",
        "colab": {
          "base_uri": "https://localhost:8080/"
        },
        "outputId": "45cd32d6-dade-48bc-864b-cb0b1e34d59b"
      },
      "source": [
        "### EXACT GP ERM GRADIENTS\n",
        "\n",
        "np.random.seed(run_num_18)\n",
        "surrogate_exact_18 = dGaussianProcess(cov_func, optimize=opt)\n",
        "\n",
        "exact_18 = dGPGO(surrogate_exact_18, Acquisition_new(util_grad_exact), objfunc, param)\n",
        "exact_18.run(init_evals=n_init, max_iter=iters)\n"
      ],
      "execution_count": 51,
      "outputs": [
        {
          "output_type": "stream",
          "name": "stdout",
          "text": [
            "Evaluation \t Proposed point \t  Current eval. \t  Best eval. \t         Max AcqFunc.\n",
            "init\t [1.53983224 0.05584255]\t -22.67190580753611\t -22.67190580753611\t    \n",
            "init\t [ 3.87687906 -3.25795609]\t -38.990099416711985\t -22.67190580753611\t    \n",
            "init\t [3.60686662 2.56139557]\t -56.66448698782129\t -22.67190580753611\t    \n",
            "init\t [1.70088108 4.99604939]\t -40.894059318256296\t -22.67190580753611\t    \n",
            "init\t [-2.48864335 -4.83014733]\t -54.6725749848372\t -22.67190580753611\t    \n",
            "1  \t [-5.00718904  2.9174042 ]\t -34.91005808676357\t -22.67190580753611\t -0.797884560544953\n",
            "2  \t [-2.51728859 -0.57163024]\t -45.60874492925909\t -22.67190580753611\t -0.7941877083433123\n",
            "3  \t [-1.85577604  4.64440101]\t -45.005605029454756\t -22.67190580753611\t -0.7674391997802675\n",
            "4  \t [ 1.00451354 -5.12      ]\t -29.93778218898035\t -22.67190580753611\t -0.7419953631117046\n",
            "5  \t [-5.12       -2.72650916]\t -47.82918580534389\t -22.67190580753611\t -0.7160532761722209\n",
            "\u001b[1m\u001b[92m6\u001b[0m\t \u001b[1m\u001b[92m[-0.82577125  2.03320747]\u001b[0m\t \u001b[1m\u001b[92m-10.449684907674122\u001b[0m\t \u001b[1m\u001b[92m-10.449684907674122\u001b[0m\t \u001b[1m\u001b[92m-0.4850781873984565\u001b[0m\n",
            "7  \t [5.12 5.12]\t -57.849427451571785\t -10.449684907674122\t -0.6143730872065221\n",
            "8  \t [-0.25994613 -2.14728488]\t -19.28792569829282\t -10.449684907674122\t -0.44156280191474484\n",
            "9  \t [ 5.12       -0.07579673]\t -30.04323192608124\t -10.449684907674122\t -0.6346887002338221\n",
            "10 \t [-4.18931653  5.12      ]\t -52.75394698722303\t -10.449684907674122\t -0.1096558677810768\n",
            "11 \t [-5.12       -0.08514162]\t -30.329075560992337\t -10.449684907674122\t -0.2423389978795914\n",
            "12 \t [0.77151894 2.47984664]\t -35.31685643023076\t -10.449684907674122\t -0.07141498579427827\n",
            "13 \t [ 4.45959784 -5.12      ]\t -68.49224332544647\t -10.449684907674122\t -0.06217086622088896\n",
            "14 \t [-5.12 -5.12]\t -57.849427451571785\t -10.449684907674122\t -0.14162620673292917\n",
            "15 \t [ 1.804687   -2.25118938]\t -25.030610304607382\t -10.449684907674122\t -0.04509872647263469\n",
            "16 \t [-0.51205758  0.45167308]\t -39.98005122993301\t -10.449684907674122\t -0.0039002387949036202\n",
            "17 \t [-2.26139153 -2.65162392]\t -38.655142404751274\t -10.449684907674122\t -0.00042573514225530124\n",
            "18 \t [ 5.12       -1.94939305]\t -33.2261355529897\t -10.449684907674122\t -0.0006386284216509927\n",
            "19 \t [-2.95540943  2.35755823]\t -30.937724875237542\t -10.449684907674122\t -0.0368904833111991\n",
            "20 \t [-0.49704439 -4.76661766]\t -51.923750341880336\t -10.449684907674122\t -1.9939057126105033e-06\n"
          ]
        }
      ]
    },
    {
      "cell_type": "code",
      "metadata": {
        "id": "Pput2LHPIwBM",
        "colab": {
          "base_uri": "https://localhost:8080/"
        },
        "outputId": "2acefd5e-5ecc-4dc4-a6b0-01a526f87ed2"
      },
      "source": [
        "### EXACT GP ERM GRADIENTS\n",
        "\n",
        "np.random.seed(run_num_19)\n",
        "surrogate_exact_19 = dGaussianProcess(cov_func, optimize=opt)\n",
        "\n",
        "exact_19 = dGPGO(surrogate_exact_19, Acquisition_new(util_grad_exact), objfunc, param)\n",
        "exact_19.run(init_evals=n_init, max_iter=iters)\n"
      ],
      "execution_count": 52,
      "outputs": [
        {
          "output_type": "stream",
          "name": "stdout",
          "text": [
            "Evaluation \t Proposed point \t  Current eval. \t  Best eval. \t         Max AcqFunc.\n",
            "init\t [-4.12125592  2.6751971 ]\t -41.43485596167127\t -25.867003842388073\t    \n",
            "init\t [-2.59135515 -3.70553152]\t -51.60126035043229\t -25.867003842388073\t    \n",
            "init\t [-1.72598719 -4.27008445]\t -43.97430127029199\t -25.867003842388073\t    \n",
            "init\t [1.76104531 3.13952049]\t -25.867003842388073\t -25.867003842388073\t    \n",
            "init\t [4.9432772  1.38916592]\t -44.66580306903559\t -25.867003842388073\t    \n",
            "1  \t [ 4.34615016 -4.21152016]\t -59.91210672035738\t -25.867003842388073\t -0.7978830410330504\n",
            "\u001b[1m\u001b[92m2\u001b[0m\t \u001b[1m\u001b[92m[-0.62695024 -0.0324845 ]\u001b[0m\t \u001b[1m\u001b[92m-17.585588423433606\u001b[0m\t \u001b[1m\u001b[92m-17.585588423433606\u001b[0m\t \u001b[1m\u001b[92m-0.7925140254652695\u001b[0m\n",
            "3  \t [5.12 5.12]\t -57.849427451571785\t -17.585588423433606\t -0.7843003982192052\n",
            "4  \t [-1.28646676  5.12      ]\t -42.85098851783182\t -17.585588423433606\t -0.7798865497869671\n",
            "5  \t [ 2.32181534 -1.16182355]\t -25.84020243023241\t -17.585588423433606\t -0.7365450497533451\n",
            "6  \t [-5.12 -5.12]\t -57.849427451571785\t -17.585588423433606\t -0.6337560663595642\n",
            "7  \t [ 0.92864912 -3.51193817]\t -34.15617407741596\t -17.585588423433606\t -0.4697737280579407\n",
            "8  \t [-5.12      -0.9559965]\t -30.218426365370995\t -17.585588423433606\t -0.7769659297018355\n",
            "9  \t [-0.53614598  2.08377975]\t -25.72660264112362\t -17.585588423433606\t -0.2301049801590952\n",
            "10 \t [ 5.12       -1.40077668]\t -49.00564662726032\t -17.585588423433606\t -0.35950779466636174\n",
            "11 \t [-2.28600843 -1.14800171]\t -22.808002280375582\t -17.585588423433606\t -0.12945903780328927\n",
            "12 \t [2.21267224 5.12      ]\t -41.49670318285598\t -17.585588423433606\t -0.15347526025183555\n",
            "13 \t [1.66903958 1.03699121]\t -19.000261208764783\t -17.585588423433606\t -0.04807704506614622\n",
            "14 \t [-2.51850704  0.69376159]\t -40.21713736154083\t -17.585588423433606\t -0.010013899795987734\n",
            "15 \t [-5.12        0.94596679]\t -30.390356252464876\t -17.585588423433606\t -0.0009626280502282949\n",
            "16 \t [ 0.0814341 -1.6878178]\t -17.94443732228493\t -17.585588423433606\t -0.0034825684757752687\n",
            "17 \t [-2.8596441   4.05190743]\t -28.765676102630884\t -17.585588423433606\t -8.716194967861312e-05\n",
            "18 \t [ 1.71719607 -5.10056385]\t -42.941787406894356\t -17.585588423433606\t -0.015363847179506285\n",
            "19 \t [4.69797248 3.50791839]\t -67.5751366667553\t -17.585588423433606\t -1.3055854787882188e-07\n",
            "20 \t [0.13090404 3.94007418]\t -19.43788738111969\t -17.585588423433606\t -2.003140430972807e-06\n"
          ]
        }
      ]
    },
    {
      "cell_type": "code",
      "metadata": {
        "id": "aw3xvSryIwDi",
        "colab": {
          "base_uri": "https://localhost:8080/"
        },
        "outputId": "a8cba434-ce34-45a2-97f6-6120c5257090"
      },
      "source": [
        "### EXACT GP ERM GRADIENTS\n",
        "\n",
        "np.random.seed(run_num_20)\n",
        "surrogate_exact_20 = dGaussianProcess(cov_func, optimize=opt)\n",
        "\n",
        "exact_20 = dGPGO(surrogate_exact_20, Acquisition_new(util_grad_exact), objfunc, param)\n",
        "exact_20.run(init_evals=n_init, max_iter=iters)\n"
      ],
      "execution_count": 53,
      "outputs": [
        {
          "output_type": "stream",
          "name": "stdout",
          "text": [
            "Evaluation \t Proposed point \t  Current eval. \t  Best eval. \t         Max AcqFunc.\n",
            "init\t [0.9024594  4.07258857]\t -20.24255447774017\t -17.388691338534382\t    \n",
            "init\t [4.00927467 3.23417577]\t -35.55852254546393\t -17.388691338534382\t    \n",
            "init\t [-4.75249064  1.96359764]\t -36.54582989269194\t -17.388691338534382\t    \n",
            "init\t [-1.24230715  0.18955208]\t -17.388691338534382\t -17.388691338534382\t    \n",
            "init\t [ 1.61742301 -3.13497377]\t -33.22932870179905\t -17.388691338534382\t    \n",
            "1  \t [-3.7653899 -5.12     ]\t -52.1374053591766\t -17.388691338534382\t -0.797883832958918\n",
            "2  \t [ 5.12       -0.91572029]\t -31.13288747603701\t -17.388691338534382\t -0.7954799077002277\n",
            "3  \t [-2.32335582  4.695823  ]\t -55.23503374978317\t -17.388691338534382\t -0.764011187135419\n",
            "4  \t [ 2.55240541 -0.47909495]\t -46.12094193929013\t -17.388691338534382\t -0.44348975874773333\n",
            "5  \t [-3.1572227 -1.9643346]\t -18.571921289219965\t -17.388691338534382\t -0.6621569147519901\n",
            "6  \t [ 4.68221667 -4.43412358]\t -74.87150444400916\t -17.388691338534382\t -0.7519593345214945\n",
            "7  \t [-0.67922448 -5.12      ]\t -43.68789178866909\t -17.388691338534382\t -0.6186681028458815\n",
            "8  \t [-5.12       -1.44953566]\t -50.52737644336485\t -17.388691338534382\t -0.3277845597873872\n",
            "9  \t [1.04336258 1.59738084]\t -22.19489976785917\t -17.388691338534382\t -0.24093748590904127\n",
            "10 \t [5.12 5.12]\t -57.849427451571785\t -17.388691338534382\t -0.23617852479708415\n",
            "11 \t [-0.69971495 -2.30529064]\t -32.315720084628225\t -17.388691338534382\t -0.18292543857342392\n",
            "12 \t [-4.9302853   4.29392078]\t -56.414311081095285\t -17.388691338534382\t -0.16040349486202168\n",
            "\u001b[1m\u001b[92m13\u001b[0m\t \u001b[1m\u001b[92m[-1.95884157  2.09212251]\u001b[0m\t \u001b[1m\u001b[92m-10.175490798228031\u001b[0m\t \u001b[1m\u001b[92m-10.175490798228031\u001b[0m\t \u001b[1m\u001b[92m-0.11181190252291423\u001b[0m\n",
            "14 \t [ 1.58736272 -5.12      ]\t -49.97533955940263\t -10.175490798228031\t -0.014045889286675092\n",
            "15 \t [-1.07131018  2.9860607 ]\t -11.089679835410411\t -10.175490798228031\t -0.0005409247703316672\n",
            "16 \t [2.70243572 5.12      ]\t -49.17213611342832\t -10.175490798228031\t -0.021493325179698774\n",
            "17 \t [-3.15829911  0.45253131]\t -34.2899525965272\t -10.175490798228031\t -0.012213565410723687\n",
            "18 \t [ 0.20704759 -0.30235072]\t -20.698445775264446\t -10.175490798228031\t -0.0004016753661132607\n",
            "19 \t [5.12       1.52822877]\t -51.10331429570519\t -10.175490798228031\t -0.0653902488843059\n",
            "20 \t [2.85483515 2.626752  ]\t -35.92182839982959\t -10.175490798228031\t -6.891834772717434e-08\n"
          ]
        }
      ]
    },
    {
      "cell_type": "code",
      "metadata": {
        "id": "qNqAB3vBTPqb",
        "colab": {
          "base_uri": "https://localhost:8080/"
        },
        "outputId": "7c7ad98a-7753-4ada-d277-21a41a282c51"
      },
      "source": [
        "end_exact = time.time()\n",
        "end_exact\n",
        "\n",
        "time_exact = end_exact - start_exact\n",
        "time_exact"
      ],
      "execution_count": 54,
      "outputs": [
        {
          "output_type": "execute_result",
          "data": {
            "text/plain": [
              "249.6956992149353"
            ]
          },
          "metadata": {},
          "execution_count": 54
        }
      ]
    },
    {
      "cell_type": "code",
      "metadata": {
        "id": "JPQzjdBZQxfg",
        "colab": {
          "base_uri": "https://localhost:8080/"
        },
        "outputId": "ca113478-b989-42e6-b1c2-ddd945b144fa"
      },
      "source": [
        "### Simple regret minimization: run number = 1\n",
        "\n",
        "approx_output_1 = np.append(np.min(approx_1.GP.y[0:n_init]),approx_1.GP.y[n_init:(n_init+iters)]) \n",
        "exact_output_1 = np.append(np.min(exact_1.GP.y[0:n_init]),exact_1.GP.y[n_init:(n_init+iters)]) \n",
        "\n",
        "regret_approx_1 = np.log(-approx_output_1 + y_global_orig)\n",
        "regret_exact_1 = np.log(-exact_output_1 + y_global_orig)\n",
        "\n",
        "simple_regret_approx_1 = min_max_array(regret_approx_1)\n",
        "simple_regret_exact_1 = min_max_array(regret_exact_1)\n",
        "\n",
        "min_simple_regret_approx_1 = min(simple_regret_approx_1)\n",
        "min_simple_regret_exact_1 = min(simple_regret_exact_1)\n",
        "\n",
        "min_simple_regret_approx_1, min_simple_regret_exact_1"
      ],
      "execution_count": 55,
      "outputs": [
        {
          "output_type": "execute_result",
          "data": {
            "text/plain": [
              "(2.9922089074363556, 2.1383468150232416)"
            ]
          },
          "metadata": {},
          "execution_count": 55
        }
      ]
    },
    {
      "cell_type": "code",
      "metadata": {
        "id": "94yBw5tqQxfk",
        "colab": {
          "base_uri": "https://localhost:8080/"
        },
        "outputId": "473abd87-6fd0-4833-e5a6-87ccc17c8eb2"
      },
      "source": [
        "### Simple regret minimization: run number = 2\n",
        "\n",
        "approx_output_2 = np.append(np.min(approx_2.GP.y[0:n_init]),approx_2.GP.y[n_init:(n_init+iters)]) \n",
        "exact_output_2 = np.append(np.min(exact_2.GP.y[0:n_init]),exact_2.GP.y[n_init:(n_init+iters)]) \n",
        "\n",
        "regret_approx_2 = np.log(-approx_output_2 + y_global_orig)\n",
        "regret_exact_2 = np.log(-exact_output_2 + y_global_orig)\n",
        "\n",
        "simple_regret_approx_2 = min_max_array(regret_approx_2)\n",
        "simple_regret_exact_2 = min_max_array(regret_exact_2)\n",
        "\n",
        "min_simple_regret_approx_2 = min(simple_regret_approx_2)\n",
        "min_simple_regret_exact_2 = min(simple_regret_exact_2)\n",
        "\n",
        "min_simple_regret_approx_2, min_simple_regret_exact_2"
      ],
      "execution_count": 56,
      "outputs": [
        {
          "output_type": "execute_result",
          "data": {
            "text/plain": [
              "(2.7020827331845028, 0.5700598073805034)"
            ]
          },
          "metadata": {},
          "execution_count": 56
        }
      ]
    },
    {
      "cell_type": "code",
      "metadata": {
        "id": "Bu6SBWALQxfl",
        "colab": {
          "base_uri": "https://localhost:8080/"
        },
        "outputId": "aac1b9e4-349e-4e9f-ae54-7163258bd600"
      },
      "source": [
        "### Simple regret minimization: run number = 3\n",
        "\n",
        "approx_output_3 = np.append(np.min(approx_3.GP.y[0:n_init]),approx_3.GP.y[n_init:(n_init+iters)]) \n",
        "exact_output_3 = np.append(np.min(exact_3.GP.y[0:n_init]),exact_3.GP.y[n_init:(n_init+iters)]) \n",
        "\n",
        "regret_approx_3 = np.log(-approx_output_3 + y_global_orig)\n",
        "regret_exact_3 = np.log(-exact_output_3 + y_global_orig)\n",
        "\n",
        "simple_regret_approx_3 = min_max_array(regret_approx_3)\n",
        "simple_regret_exact_3 = min_max_array(regret_exact_3)\n",
        "\n",
        "min_simple_regret_approx_3 = min(simple_regret_approx_3)\n",
        "min_simple_regret_exact_3 = min(simple_regret_exact_3)\n",
        "\n",
        "min_simple_regret_approx_3, min_simple_regret_exact_3"
      ],
      "execution_count": 57,
      "outputs": [
        {
          "output_type": "execute_result",
          "data": {
            "text/plain": [
              "(3.2390286226608196, -0.15718053377076996)"
            ]
          },
          "metadata": {},
          "execution_count": 57
        }
      ]
    },
    {
      "cell_type": "code",
      "metadata": {
        "id": "AZm0jgxkQxfm",
        "colab": {
          "base_uri": "https://localhost:8080/"
        },
        "outputId": "95288003-3042-4683-97e0-abdac09021fd"
      },
      "source": [
        "### Simple regret minimization: run number = 4\n",
        "\n",
        "approx_output_4 = np.append(np.min(approx_4.GP.y[0:n_init]),approx_4.GP.y[n_init:(n_init+iters)]) \n",
        "exact_output_4 = np.append(np.min(exact_4.GP.y[0:n_init]),exact_4.GP.y[n_init:(n_init+iters)]) \n",
        "\n",
        "regret_approx_4 = np.log(-approx_output_4 + y_global_orig)\n",
        "regret_exact_4 = np.log(-exact_output_4 + y_global_orig)\n",
        "\n",
        "simple_regret_approx_4 = min_max_array(regret_approx_4)\n",
        "simple_regret_exact_4 = min_max_array(regret_exact_4)\n",
        "\n",
        "min_simple_regret_approx_4 = min(simple_regret_approx_4)\n",
        "min_simple_regret_exact_4 = min(simple_regret_exact_4)\n",
        "\n",
        "min_simple_regret_approx_4, min_simple_regret_exact_4"
      ],
      "execution_count": 58,
      "outputs": [
        {
          "output_type": "execute_result",
          "data": {
            "text/plain": [
              "(1.8624887983891776, 2.6349002808886928)"
            ]
          },
          "metadata": {},
          "execution_count": 58
        }
      ]
    },
    {
      "cell_type": "code",
      "metadata": {
        "id": "NONPm8JIQxfn",
        "colab": {
          "base_uri": "https://localhost:8080/"
        },
        "outputId": "fd1b4ba8-66c7-47d1-b09d-e9c032f0c25f"
      },
      "source": [
        "### Simple regret minimization: run number = 5\n",
        "\n",
        "approx_output_5 = np.append(np.min(approx_5.GP.y[0:n_init]),approx_5.GP.y[n_init:(n_init+iters)]) \n",
        "exact_output_5 = np.append(np.min(exact_5.GP.y[0:n_init]),exact_5.GP.y[n_init:(n_init+iters)]) \n",
        "\n",
        "regret_approx_5 = np.log(-approx_output_5 + y_global_orig)\n",
        "regret_exact_5 = np.log(-exact_output_5 + y_global_orig)\n",
        "\n",
        "simple_regret_approx_5 = min_max_array(regret_approx_5)\n",
        "simple_regret_exact_5 = min_max_array(regret_exact_5)\n",
        "\n",
        "min_simple_regret_approx_5 = min(simple_regret_approx_5)\n",
        "min_simple_regret_exact_5 = min(simple_regret_exact_5)\n",
        "\n",
        "min_simple_regret_approx_5, min_simple_regret_exact_5"
      ],
      "execution_count": 59,
      "outputs": [
        {
          "output_type": "execute_result",
          "data": {
            "text/plain": [
              "(1.824107834728892, 2.4674864186195844)"
            ]
          },
          "metadata": {},
          "execution_count": 59
        }
      ]
    },
    {
      "cell_type": "code",
      "metadata": {
        "id": "CJv3lPuSQxfp",
        "colab": {
          "base_uri": "https://localhost:8080/"
        },
        "outputId": "8ab2566f-8a74-4cdb-8e65-305cded0fb64"
      },
      "source": [
        "### Simple regret minimization: run number = 6\n",
        "\n",
        "approx_output_6 = np.append(np.min(approx_6.GP.y[0:n_init]),approx_6.GP.y[n_init:(n_init+iters)]) \n",
        "exact_output_6 = np.append(np.min(exact_6.GP.y[0:n_init]),exact_6.GP.y[n_init:(n_init+iters)]) \n",
        "\n",
        "regret_approx_6 = np.log(-approx_output_6 + y_global_orig)\n",
        "regret_exact_6 = np.log(-exact_output_6 + y_global_orig)\n",
        "\n",
        "simple_regret_approx_6 = min_max_array(regret_approx_6)\n",
        "simple_regret_exact_6 = min_max_array(regret_exact_6)\n",
        "\n",
        "min_simple_regret_approx_6 = min(simple_regret_approx_6)\n",
        "min_simple_regret_exact_6 = min(simple_regret_exact_6)\n",
        "\n",
        "min_simple_regret_approx_6, min_simple_regret_exact_6"
      ],
      "execution_count": 60,
      "outputs": [
        {
          "output_type": "execute_result",
          "data": {
            "text/plain": [
              "(2.8189801095208016, 2.5404680888199724)"
            ]
          },
          "metadata": {},
          "execution_count": 60
        }
      ]
    },
    {
      "cell_type": "code",
      "metadata": {
        "id": "quR2ZyApQxfq",
        "colab": {
          "base_uri": "https://localhost:8080/"
        },
        "outputId": "4c1802a9-6659-44a8-f3cd-8ae74ee2afc8"
      },
      "source": [
        "### Simple regret minimization: run number = 7\n",
        "\n",
        "approx_output_7 = np.append(np.min(approx_7.GP.y[0:n_init]),approx_7.GP.y[n_init:(n_init+iters)]) \n",
        "exact_output_7 = np.append(np.min(exact_7.GP.y[0:n_init]),exact_7.GP.y[n_init:(n_init+iters)]) \n",
        "\n",
        "regret_approx_7 = np.log(-approx_output_7 + y_global_orig)\n",
        "regret_exact_7 = np.log(-exact_output_7 + y_global_orig)\n",
        "\n",
        "simple_regret_approx_7 = min_max_array(regret_approx_7)\n",
        "simple_regret_exact_7 = min_max_array(regret_exact_7)\n",
        "\n",
        "min_simple_regret_approx_7 = min(simple_regret_approx_7)\n",
        "min_simple_regret_exact_7 = min(simple_regret_exact_7)\n",
        "\n",
        "min_simple_regret_approx_7, min_simple_regret_exact_7"
      ],
      "execution_count": 61,
      "outputs": [
        {
          "output_type": "execute_result",
          "data": {
            "text/plain": [
              "(2.5470487663770065, 2.5226539737757663)"
            ]
          },
          "metadata": {},
          "execution_count": 61
        }
      ]
    },
    {
      "cell_type": "code",
      "metadata": {
        "id": "99wY5nK6Qxfr",
        "colab": {
          "base_uri": "https://localhost:8080/"
        },
        "outputId": "c0994b4c-d27f-43af-e7f1-ea10ddfc83cf"
      },
      "source": [
        "### Simple regret minimization: run number = 8\n",
        "\n",
        "approx_output_8 = np.append(np.min(approx_8.GP.y[0:n_init]),approx_8.GP.y[n_init:(n_init+iters)]) \n",
        "exact_output_8 = np.append(np.min(exact_8.GP.y[0:n_init]),exact_8.GP.y[n_init:(n_init+iters)]) \n",
        "\n",
        "regret_approx_8 = np.log(-approx_output_8 + y_global_orig)\n",
        "regret_exact_8 = np.log(-exact_output_8 + y_global_orig)\n",
        "\n",
        "simple_regret_approx_8 = min_max_array(regret_approx_8)\n",
        "simple_regret_exact_8 = min_max_array(regret_exact_8)\n",
        "\n",
        "min_simple_regret_approx_8 = min(simple_regret_approx_8)\n",
        "min_simple_regret_exact_8 = min(simple_regret_exact_8)\n",
        "\n",
        "min_simple_regret_approx_8, min_simple_regret_exact_8"
      ],
      "execution_count": 62,
      "outputs": [
        {
          "output_type": "execute_result",
          "data": {
            "text/plain": [
              "(2.6964283864651377, 1.956251689894759)"
            ]
          },
          "metadata": {},
          "execution_count": 62
        }
      ]
    },
    {
      "cell_type": "code",
      "metadata": {
        "id": "qt0P5t9qQxfs",
        "colab": {
          "base_uri": "https://localhost:8080/"
        },
        "outputId": "65697aff-9deb-4ad7-d5eb-4dc7895d6ea8"
      },
      "source": [
        "### Simple regret minimization: run number = 9\n",
        "\n",
        "approx_output_9 = np.append(np.min(approx_9.GP.y[0:n_init]),approx_9.GP.y[n_init:(n_init+iters)]) \n",
        "exact_output_9 = np.append(np.min(exact_9.GP.y[0:n_init]),exact_9.GP.y[n_init:(n_init+iters)]) \n",
        "\n",
        "regret_approx_9 = np.log(-approx_output_9 + y_global_orig)\n",
        "regret_exact_9 = np.log(-exact_output_9 + y_global_orig)\n",
        "\n",
        "simple_regret_approx_9 = min_max_array(regret_approx_9)\n",
        "simple_regret_exact_9 = min_max_array(regret_exact_9)\n",
        "\n",
        "min_simple_regret_approx_9 = min(simple_regret_approx_9)\n",
        "min_simple_regret_exact_9 = min(simple_regret_exact_9)\n",
        "\n",
        "min_simple_regret_approx_9, min_simple_regret_exact_9"
      ],
      "execution_count": 63,
      "outputs": [
        {
          "output_type": "execute_result",
          "data": {
            "text/plain": [
              "(2.7482040141063537, 2.1248987615328234)"
            ]
          },
          "metadata": {},
          "execution_count": 63
        }
      ]
    },
    {
      "cell_type": "code",
      "metadata": {
        "id": "vx8to9stQxft",
        "colab": {
          "base_uri": "https://localhost:8080/"
        },
        "outputId": "7bb397b2-0efb-4bf9-d7c2-5556c6b87fa5"
      },
      "source": [
        "### Simple regret minimization: run number = 10\n",
        "\n",
        "approx_output_10 = np.append(np.min(approx_10.GP.y[0:n_init]),approx_10.GP.y[n_init:(n_init+iters)]) \n",
        "exact_output_10 = np.append(np.min(exact_10.GP.y[0:n_init]),exact_10.GP.y[n_init:(n_init+iters)]) \n",
        "\n",
        "regret_approx_10 = np.log(-approx_output_10 + y_global_orig)\n",
        "regret_exact_10 = np.log(-exact_output_10 + y_global_orig)\n",
        "\n",
        "simple_regret_approx_10 = min_max_array(regret_approx_10)\n",
        "simple_regret_exact_10 = min_max_array(regret_exact_10)\n",
        "\n",
        "min_simple_regret_approx_10 = min(simple_regret_approx_10)\n",
        "min_simple_regret_exact_10 = min(simple_regret_exact_10)\n",
        "\n",
        "min_simple_regret_approx_10, min_simple_regret_exact_10"
      ],
      "execution_count": 64,
      "outputs": [
        {
          "output_type": "execute_result",
          "data": {
            "text/plain": [
              "(2.523870423583159, 2.233254747025537)"
            ]
          },
          "metadata": {},
          "execution_count": 64
        }
      ]
    },
    {
      "cell_type": "code",
      "metadata": {
        "id": "d-FGzWyHQxfu",
        "colab": {
          "base_uri": "https://localhost:8080/"
        },
        "outputId": "42d5b31f-d01f-48e8-c390-f79304c5e183"
      },
      "source": [
        "### Simple regret minimization: run number = 11\n",
        "\n",
        "approx_output_11 = np.append(np.min(approx_11.GP.y[0:n_init]),approx_11.GP.y[n_init:(n_init+iters)]) \n",
        "exact_output_11 = np.append(np.min(exact_11.GP.y[0:n_init]),exact_11.GP.y[n_init:(n_init+iters)]) \n",
        "\n",
        "regret_approx_11 = np.log(-approx_output_11 + y_global_orig)\n",
        "regret_exact_11 = np.log(-exact_output_11 + y_global_orig)\n",
        "\n",
        "simple_regret_approx_11 = min_max_array(regret_approx_11)\n",
        "simple_regret_exact_11 = min_max_array(regret_exact_11)\n",
        "\n",
        "min_simple_regret_approx_11 = min(simple_regret_approx_11)\n",
        "min_simple_regret_exact_11 = min(simple_regret_exact_11)\n",
        "\n",
        "min_simple_regret_approx_11, min_simple_regret_exact_11"
      ],
      "execution_count": 65,
      "outputs": [
        {
          "output_type": "execute_result",
          "data": {
            "text/plain": [
              "(2.437083167252122, 2.5431248006097382)"
            ]
          },
          "metadata": {},
          "execution_count": 65
        }
      ]
    },
    {
      "cell_type": "code",
      "metadata": {
        "id": "SvtsssyjQxfv",
        "colab": {
          "base_uri": "https://localhost:8080/"
        },
        "outputId": "c343055e-0d17-4b5d-fae4-e12c7fb39d24"
      },
      "source": [
        "### Simple regret minimization: run number = 12\n",
        "\n",
        "approx_output_12 = np.append(np.min(approx_12.GP.y[0:n_init]),approx_12.GP.y[n_init:(n_init+iters)]) \n",
        "exact_output_12 = np.append(np.min(exact_12.GP.y[0:n_init]),exact_12.GP.y[n_init:(n_init+iters)]) \n",
        "\n",
        "regret_approx_12 = np.log(-approx_output_12 + y_global_orig)\n",
        "regret_exact_12 = np.log(-exact_output_12 + y_global_orig)\n",
        "\n",
        "simple_regret_approx_12 = min_max_array(regret_approx_12)\n",
        "simple_regret_exact_12 = min_max_array(regret_exact_12)\n",
        "\n",
        "min_simple_regret_approx_12 = min(simple_regret_approx_12)\n",
        "min_simple_regret_exact_12 = min(simple_regret_exact_12)\n",
        "\n",
        "min_simple_regret_approx_12, min_simple_regret_exact_12"
      ],
      "execution_count": 66,
      "outputs": [
        {
          "output_type": "execute_result",
          "data": {
            "text/plain": [
              "(1.014942557483253, 1.6870103082832824)"
            ]
          },
          "metadata": {},
          "execution_count": 66
        }
      ]
    },
    {
      "cell_type": "code",
      "metadata": {
        "id": "K6OiGcHkQxfw",
        "colab": {
          "base_uri": "https://localhost:8080/"
        },
        "outputId": "be37e5ec-8289-4cfc-84e8-8237e39c4ec4"
      },
      "source": [
        "### Simple regret minimization: run number = 13\n",
        "\n",
        "approx_output_13 = np.append(np.min(approx_13.GP.y[0:n_init]),approx_13.GP.y[n_init:(n_init+iters)]) \n",
        "exact_output_13 = np.append(np.min(exact_13.GP.y[0:n_init]),exact_13.GP.y[n_init:(n_init+iters)]) \n",
        "\n",
        "regret_approx_13 = np.log(-approx_output_13 + y_global_orig)\n",
        "regret_exact_13 = np.log(-exact_output_13 + y_global_orig)\n",
        "\n",
        "simple_regret_approx_13 = min_max_array(regret_approx_13)\n",
        "simple_regret_exact_13 = min_max_array(regret_exact_13)\n",
        "\n",
        "min_simple_regret_approx_13 = min(simple_regret_approx_13)\n",
        "min_simple_regret_exact_13 = min(simple_regret_exact_13)\n",
        "\n",
        "min_simple_regret_approx_13, min_simple_regret_exact_13"
      ],
      "execution_count": 67,
      "outputs": [
        {
          "output_type": "execute_result",
          "data": {
            "text/plain": [
              "(2.898598733097566, 2.7969422909867903)"
            ]
          },
          "metadata": {},
          "execution_count": 67
        }
      ]
    },
    {
      "cell_type": "code",
      "metadata": {
        "id": "ogML73shQxfx",
        "colab": {
          "base_uri": "https://localhost:8080/"
        },
        "outputId": "44375f20-9e3e-463c-8fd4-b77545f8e6f1"
      },
      "source": [
        "### Simple regret minimization: run number = 14\n",
        "\n",
        "approx_output_14 = np.append(np.min(approx_14.GP.y[0:n_init]),approx_14.GP.y[n_init:(n_init+iters)]) \n",
        "exact_output_14 = np.append(np.min(exact_14.GP.y[0:n_init]),exact_14.GP.y[n_init:(n_init+iters)]) \n",
        "\n",
        "regret_approx_14 = np.log(-approx_output_14 + y_global_orig)\n",
        "regret_exact_14 = np.log(-exact_output_14 + y_global_orig)\n",
        "\n",
        "simple_regret_approx_14 = min_max_array(regret_approx_14)\n",
        "simple_regret_exact_14 = min_max_array(regret_exact_14)\n",
        "\n",
        "min_simple_regret_approx_14 = min(simple_regret_approx_14)\n",
        "min_simple_regret_exact_14 = min(simple_regret_exact_14)\n",
        "\n",
        "min_simple_regret_approx_14, min_simple_regret_exact_14"
      ],
      "execution_count": 68,
      "outputs": [
        {
          "output_type": "execute_result",
          "data": {
            "text/plain": [
              "(2.5025603976185735, 2.943131628584293)"
            ]
          },
          "metadata": {},
          "execution_count": 68
        }
      ]
    },
    {
      "cell_type": "code",
      "metadata": {
        "id": "9Eg7gFT9Qxfx",
        "colab": {
          "base_uri": "https://localhost:8080/"
        },
        "outputId": "e7fa7cfb-ac47-432d-e41a-0c68844bb871"
      },
      "source": [
        "### Simple regret minimization: run number = 15\n",
        "\n",
        "approx_output_15 = np.append(np.min(approx_15.GP.y[0:n_init]),approx_15.GP.y[n_init:(n_init+iters)]) \n",
        "exact_output_15 = np.append(np.min(exact_15.GP.y[0:n_init]),exact_15.GP.y[n_init:(n_init+iters)]) \n",
        "\n",
        "regret_approx_15 = np.log(-approx_output_15 + y_global_orig)\n",
        "regret_exact_15 = np.log(-exact_output_15 + y_global_orig)\n",
        "\n",
        "simple_regret_approx_15 = min_max_array(regret_approx_15)\n",
        "simple_regret_exact_15 = min_max_array(regret_exact_15)\n",
        "\n",
        "min_simple_regret_approx_15 = min(simple_regret_approx_15)\n",
        "min_simple_regret_exact_15 = min(simple_regret_exact_15)\n",
        "\n",
        "min_simple_regret_approx_15, min_simple_regret_exact_15"
      ],
      "execution_count": 69,
      "outputs": [
        {
          "output_type": "execute_result",
          "data": {
            "text/plain": [
              "(2.8937289290102335, 2.949886844872765)"
            ]
          },
          "metadata": {},
          "execution_count": 69
        }
      ]
    },
    {
      "cell_type": "code",
      "metadata": {
        "id": "lIAC1U7ZQxfy",
        "colab": {
          "base_uri": "https://localhost:8080/"
        },
        "outputId": "8fb3e9e3-efb1-435d-c578-7268003a9357"
      },
      "source": [
        "### Simple regret minimization: run number = 16\n",
        "\n",
        "approx_output_16 = np.append(np.min(approx_16.GP.y[0:n_init]),approx_16.GP.y[n_init:(n_init+iters)]) \n",
        "exact_output_16 = np.append(np.min(exact_16.GP.y[0:n_init]),exact_16.GP.y[n_init:(n_init+iters)]) \n",
        "\n",
        "regret_approx_16 = np.log(-approx_output_16 + y_global_orig)\n",
        "regret_exact_16 = np.log(-exact_output_16 + y_global_orig)\n",
        "\n",
        "simple_regret_approx_16 = min_max_array(regret_approx_16)\n",
        "simple_regret_exact_16 = min_max_array(regret_exact_16)\n",
        "\n",
        "min_simple_regret_approx_16 = min(simple_regret_approx_16)\n",
        "min_simple_regret_exact_16 = min(simple_regret_exact_16)\n",
        "\n",
        "min_simple_regret_approx_16, min_simple_regret_exact_16"
      ],
      "execution_count": 70,
      "outputs": [
        {
          "output_type": "execute_result",
          "data": {
            "text/plain": [
              "(1.8876451886191041, 2.107961942263303)"
            ]
          },
          "metadata": {},
          "execution_count": 70
        }
      ]
    },
    {
      "cell_type": "code",
      "metadata": {
        "id": "bGott36OQxfz",
        "colab": {
          "base_uri": "https://localhost:8080/"
        },
        "outputId": "ea0dc5c0-00e0-4871-a6e4-d4ada552b8dc"
      },
      "source": [
        "### Simple regret minimization: run number = 17\n",
        "\n",
        "approx_output_17 = np.append(np.min(approx_17.GP.y[0:n_init]),approx_17.GP.y[n_init:(n_init+iters)]) \n",
        "exact_output_17 = np.append(np.min(exact_17.GP.y[0:n_init]),exact_17.GP.y[n_init:(n_init+iters)]) \n",
        "\n",
        "regret_approx_17 = np.log(-approx_output_17 + y_global_orig)\n",
        "regret_exact_17 = np.log(-exact_output_17 + y_global_orig)\n",
        "\n",
        "simple_regret_approx_17 = min_max_array(regret_approx_17)\n",
        "simple_regret_exact_17 = min_max_array(regret_exact_17)\n",
        "\n",
        "min_simple_regret_approx_17 = min(simple_regret_approx_17)\n",
        "min_simple_regret_exact_17 = min(simple_regret_exact_17)\n",
        "\n",
        "min_simple_regret_approx_17, min_simple_regret_exact_17"
      ],
      "execution_count": 71,
      "outputs": [
        {
          "output_type": "execute_result",
          "data": {
            "text/plain": [
              "(2.442265100137837, 2.3940457885936444)"
            ]
          },
          "metadata": {},
          "execution_count": 71
        }
      ]
    },
    {
      "cell_type": "code",
      "metadata": {
        "id": "Cz9ZYMBMQxfz",
        "colab": {
          "base_uri": "https://localhost:8080/"
        },
        "outputId": "b98e7a52-093b-4c29-bd3e-4a4b6a9c414c"
      },
      "source": [
        "### Simple regret minimization: run number = 18\n",
        "\n",
        "approx_output_18 = np.append(np.min(approx_18.GP.y[0:n_init]),approx_18.GP.y[n_init:(n_init+iters)]) \n",
        "exact_output_18 = np.append(np.min(exact_18.GP.y[0:n_init]),exact_18.GP.y[n_init:(n_init+iters)]) \n",
        "\n",
        "regret_approx_18 = np.log(-approx_output_18 + y_global_orig)\n",
        "regret_exact_18 = np.log(-exact_output_18 + y_global_orig)\n",
        "\n",
        "simple_regret_approx_18 = min_max_array(regret_approx_18)\n",
        "simple_regret_exact_18 = min_max_array(regret_exact_18)\n",
        "\n",
        "min_simple_regret_approx_18 = min(simple_regret_approx_18)\n",
        "min_simple_regret_exact_18 = min(simple_regret_exact_18)\n",
        "\n",
        "min_simple_regret_approx_18, min_simple_regret_exact_18"
      ],
      "execution_count": 72,
      "outputs": [
        {
          "output_type": "execute_result",
          "data": {
            "text/plain": [
              "(2.4258057052360242, 2.346571825580546)"
            ]
          },
          "metadata": {},
          "execution_count": 72
        }
      ]
    },
    {
      "cell_type": "code",
      "metadata": {
        "id": "OBfpWOHNQxf0",
        "colab": {
          "base_uri": "https://localhost:8080/"
        },
        "outputId": "0b68f53e-029b-4890-e3d4-3c46f4cd5d83"
      },
      "source": [
        "### Simple regret minimization: run number = 19\n",
        "\n",
        "approx_output_19 = np.append(np.min(approx_19.GP.y[0:n_init]),approx_19.GP.y[n_init:(n_init+iters)]) \n",
        "exact_output_19 = np.append(np.min(exact_19.GP.y[0:n_init]),exact_19.GP.y[n_init:(n_init+iters)]) \n",
        "\n",
        "regret_approx_19 = np.log(-approx_output_19 + y_global_orig)\n",
        "regret_exact_19 = np.log(-exact_output_19 + y_global_orig)\n",
        "\n",
        "simple_regret_approx_19 = min_max_array(regret_approx_19)\n",
        "simple_regret_exact_19 = min_max_array(regret_exact_19)\n",
        "\n",
        "min_simple_regret_approx_19 = min(simple_regret_approx_19)\n",
        "min_simple_regret_exact_19 = min(simple_regret_exact_19)\n",
        "\n",
        "min_simple_regret_approx_19, min_simple_regret_exact_19"
      ],
      "execution_count": 73,
      "outputs": [
        {
          "output_type": "execute_result",
          "data": {
            "text/plain": [
              "(2.9653416892728535, 2.8670797270342203)"
            ]
          },
          "metadata": {},
          "execution_count": 73
        }
      ]
    },
    {
      "cell_type": "code",
      "metadata": {
        "id": "BE1AJ7NsQxf0",
        "colab": {
          "base_uri": "https://localhost:8080/"
        },
        "outputId": "c60839db-ba77-43f3-c133-ed4898f170f3"
      },
      "source": [
        "### Simple regret minimization: run number = 20\n",
        "\n",
        "approx_output_20 = np.append(np.min(approx_20.GP.y[0:n_init]),approx_20.GP.y[n_init:(n_init+iters)]) \n",
        "exact_output_20 = np.append(np.min(exact_20.GP.y[0:n_init]),exact_20.GP.y[n_init:(n_init+iters)]) \n",
        "\n",
        "regret_approx_20 = np.log(-approx_output_20 + y_global_orig)\n",
        "regret_exact_20 = np.log(-exact_output_20 + y_global_orig)\n",
        "\n",
        "simple_regret_approx_20 = min_max_array(regret_approx_20)\n",
        "simple_regret_exact_20 = min_max_array(regret_exact_20)\n",
        "\n",
        "min_simple_regret_approx_20 = min(simple_regret_approx_20)\n",
        "min_simple_regret_exact_20 = min(simple_regret_exact_20)\n",
        "\n",
        "min_simple_regret_approx_20, min_simple_regret_exact_20"
      ],
      "execution_count": 74,
      "outputs": [
        {
          "output_type": "execute_result",
          "data": {
            "text/plain": [
              "(3.0069571497238776, 2.3199819658634415)"
            ]
          },
          "metadata": {},
          "execution_count": 74
        }
      ]
    },
    {
      "cell_type": "code",
      "metadata": {
        "id": "bpX-bKAHQxf1"
      },
      "source": [
        "# Iteration1 :\n",
        "\n",
        "slice1 = 0\n",
        "\n",
        "approx1 = [simple_regret_approx_1[slice1],\n",
        "       simple_regret_approx_2[slice1],\n",
        "       simple_regret_approx_3[slice1],\n",
        "       simple_regret_approx_4[slice1],\n",
        "       simple_regret_approx_5[slice1],\n",
        "       simple_regret_approx_6[slice1],\n",
        "       simple_regret_approx_7[slice1],\n",
        "       simple_regret_approx_8[slice1],\n",
        "       simple_regret_approx_9[slice1],\n",
        "       simple_regret_approx_10[slice1],\n",
        "       simple_regret_approx_11[slice1],\n",
        "       simple_regret_approx_12[slice1],\n",
        "       simple_regret_approx_13[slice1],\n",
        "       simple_regret_approx_14[slice1],\n",
        "       simple_regret_approx_15[slice1],\n",
        "       simple_regret_approx_16[slice1],\n",
        "       simple_regret_approx_17[slice1],\n",
        "       simple_regret_approx_18[slice1],\n",
        "       simple_regret_approx_19[slice1],\n",
        "       simple_regret_approx_20[slice1]]\n",
        "\n",
        "exact1 = [simple_regret_exact_1[slice1],\n",
        "       simple_regret_exact_2[slice1],\n",
        "       simple_regret_exact_3[slice1],\n",
        "       simple_regret_exact_4[slice1],\n",
        "       simple_regret_exact_5[slice1],\n",
        "       simple_regret_exact_6[slice1],\n",
        "       simple_regret_exact_7[slice1],\n",
        "       simple_regret_exact_8[slice1],\n",
        "       simple_regret_exact_9[slice1],\n",
        "       simple_regret_exact_10[slice1],\n",
        "       simple_regret_exact_11[slice1],\n",
        "       simple_regret_exact_12[slice1],\n",
        "       simple_regret_exact_13[slice1],\n",
        "       simple_regret_exact_14[slice1],\n",
        "       simple_regret_exact_15[slice1],\n",
        "       simple_regret_exact_16[slice1],\n",
        "       simple_regret_exact_17[slice1],\n",
        "       simple_regret_exact_18[slice1],\n",
        "       simple_regret_exact_19[slice1],\n",
        "       simple_regret_exact_20[slice1]]\n",
        "\n",
        "approx1_results = pd.DataFrame(approx1).sort_values(by=[0], ascending=False)\n",
        "exact1_results = pd.DataFrame(exact1).sort_values(by=[0], ascending=False)\n",
        "\n",
        "### Best simple regret minimization IQR - approx:\n",
        "lower_approx1 = np.asarray(approx1_results[4:5][0])[0]\n",
        "median_approx1 = np.asarray(approx1_results[9:10][0])[0]\n",
        "upper_approx1 = np.asarray(approx1_results[14:15][0])[0]\n",
        "\n",
        "lower_exact1 = np.asarray(exact1_results[4:5][0])[0]\n",
        "median_exact1 = np.asarray(exact1_results[9:10][0])[0]\n",
        "upper_exact1 = np.asarray(exact1_results[14:15][0])[0]"
      ],
      "execution_count": 75,
      "outputs": []
    },
    {
      "cell_type": "code",
      "metadata": {
        "id": "CgIkJA1xQxf2"
      },
      "source": [
        "# Iteration11 :\n",
        "\n",
        "slice11 = 10\n",
        "\n",
        "approx11 = [simple_regret_approx_1[slice11],\n",
        "       simple_regret_approx_2[slice11],\n",
        "       simple_regret_approx_3[slice11],\n",
        "       simple_regret_approx_4[slice11],\n",
        "       simple_regret_approx_5[slice11],\n",
        "       simple_regret_approx_6[slice11],\n",
        "       simple_regret_approx_7[slice11],\n",
        "       simple_regret_approx_8[slice11],\n",
        "       simple_regret_approx_9[slice11],\n",
        "       simple_regret_approx_10[slice11],\n",
        "       simple_regret_approx_11[slice11],\n",
        "       simple_regret_approx_12[slice11],\n",
        "       simple_regret_approx_13[slice11],\n",
        "       simple_regret_approx_14[slice11],\n",
        "       simple_regret_approx_15[slice11],\n",
        "       simple_regret_approx_16[slice11],\n",
        "       simple_regret_approx_17[slice11],\n",
        "       simple_regret_approx_18[slice11],\n",
        "       simple_regret_approx_19[slice11],\n",
        "       simple_regret_approx_20[slice11]]\n",
        "\n",
        "exact11 = [simple_regret_exact_1[slice11],\n",
        "       simple_regret_exact_2[slice11],\n",
        "       simple_regret_exact_3[slice11],\n",
        "       simple_regret_exact_4[slice11],\n",
        "       simple_regret_exact_5[slice11],\n",
        "       simple_regret_exact_6[slice11],\n",
        "       simple_regret_exact_7[slice11],\n",
        "       simple_regret_exact_8[slice11],\n",
        "       simple_regret_exact_9[slice11],\n",
        "       simple_regret_exact_10[slice11],\n",
        "       simple_regret_exact_11[slice11],\n",
        "       simple_regret_exact_12[slice11],\n",
        "       simple_regret_exact_13[slice11],\n",
        "       simple_regret_exact_14[slice11],\n",
        "       simple_regret_exact_15[slice11],\n",
        "       simple_regret_exact_16[slice11],\n",
        "       simple_regret_exact_17[slice11],\n",
        "       simple_regret_exact_18[slice11],\n",
        "       simple_regret_exact_19[slice11],\n",
        "       simple_regret_exact_20[slice11]]\n",
        "\n",
        "approx11_results = pd.DataFrame(approx11).sort_values(by=[0], ascending=False)\n",
        "exact11_results = pd.DataFrame(exact11).sort_values(by=[0], ascending=False)\n",
        "\n",
        "### Best simple regret minimization IQR - approx:\n",
        "lower_approx11 = np.asarray(approx11_results[4:5][0])[0]\n",
        "median_approx11 = np.asarray(approx11_results[9:10][0])[0]\n",
        "upper_approx11 = np.asarray(approx11_results[14:15][0])[0]\n",
        "\n",
        "lower_exact11 = np.asarray(exact11_results[4:5][0])[0]\n",
        "median_exact11 = np.asarray(exact11_results[9:10][0])[0]\n",
        "upper_exact11 = np.asarray(exact11_results[14:15][0])[0]"
      ],
      "execution_count": 76,
      "outputs": []
    },
    {
      "cell_type": "code",
      "metadata": {
        "id": "MFePDfGuQxf2"
      },
      "source": [
        "# Iteration21 :\n",
        "\n",
        "slice21 = 20\n",
        "\n",
        "approx21 = [simple_regret_approx_1[slice21],\n",
        "       simple_regret_approx_2[slice21],\n",
        "       simple_regret_approx_3[slice21],\n",
        "       simple_regret_approx_4[slice21],\n",
        "       simple_regret_approx_5[slice21],\n",
        "       simple_regret_approx_6[slice21],\n",
        "       simple_regret_approx_7[slice21],\n",
        "       simple_regret_approx_8[slice21],\n",
        "       simple_regret_approx_9[slice21],\n",
        "       simple_regret_approx_10[slice21],\n",
        "       simple_regret_approx_11[slice21],\n",
        "       simple_regret_approx_12[slice21],\n",
        "       simple_regret_approx_13[slice21],\n",
        "       simple_regret_approx_14[slice21],\n",
        "       simple_regret_approx_15[slice21],\n",
        "       simple_regret_approx_16[slice21],\n",
        "       simple_regret_approx_17[slice21],\n",
        "       simple_regret_approx_18[slice21],\n",
        "       simple_regret_approx_19[slice21],\n",
        "       simple_regret_approx_20[slice21]]\n",
        "\n",
        "exact21 = [simple_regret_exact_1[slice21],\n",
        "       simple_regret_exact_2[slice21],\n",
        "       simple_regret_exact_3[slice21],\n",
        "       simple_regret_exact_4[slice21],\n",
        "       simple_regret_exact_5[slice21],\n",
        "       simple_regret_exact_6[slice21],\n",
        "       simple_regret_exact_7[slice21],\n",
        "       simple_regret_exact_8[slice21],\n",
        "       simple_regret_exact_9[slice21],\n",
        "       simple_regret_exact_10[slice21],\n",
        "       simple_regret_exact_11[slice21],\n",
        "       simple_regret_exact_12[slice21],\n",
        "       simple_regret_exact_13[slice21],\n",
        "       simple_regret_exact_14[slice21],\n",
        "       simple_regret_exact_15[slice21],\n",
        "       simple_regret_exact_16[slice21],\n",
        "       simple_regret_exact_17[slice21],\n",
        "       simple_regret_exact_18[slice21],\n",
        "       simple_regret_exact_19[slice21],\n",
        "       simple_regret_exact_20[slice21]]\n",
        "\n",
        "approx21_results = pd.DataFrame(approx21).sort_values(by=[0], ascending=False)\n",
        "exact21_results = pd.DataFrame(exact21).sort_values(by=[0], ascending=False)\n",
        "\n",
        "### Best simple regret minimization IQR - approx:\n",
        "lower_approx21 = np.asarray(approx21_results[4:5][0])[0]\n",
        "median_approx21 = np.asarray(approx21_results[9:10][0])[0]\n",
        "upper_approx21 = np.asarray(approx21_results[14:15][0])[0]\n",
        "\n",
        "lower_exact21 = np.asarray(exact21_results[4:5][0])[0]\n",
        "median_exact21 = np.asarray(exact21_results[9:10][0])[0]\n",
        "upper_exact21 = np.asarray(exact21_results[14:15][0])[0]"
      ],
      "execution_count": 77,
      "outputs": []
    },
    {
      "cell_type": "code",
      "metadata": {
        "id": "PrRDB1kfQxf3"
      },
      "source": [
        "# Iteration2 :\n",
        "\n",
        "slice2 = 1\n",
        "\n",
        "approx2 = [simple_regret_approx_1[slice2],\n",
        "       simple_regret_approx_2[slice2],\n",
        "       simple_regret_approx_3[slice2],\n",
        "       simple_regret_approx_4[slice2],\n",
        "       simple_regret_approx_5[slice2],\n",
        "       simple_regret_approx_6[slice2],\n",
        "       simple_regret_approx_7[slice2],\n",
        "       simple_regret_approx_8[slice2],\n",
        "       simple_regret_approx_9[slice2],\n",
        "       simple_regret_approx_10[slice2],\n",
        "       simple_regret_approx_11[slice2],\n",
        "       simple_regret_approx_12[slice2],\n",
        "       simple_regret_approx_13[slice2],\n",
        "       simple_regret_approx_14[slice2],\n",
        "       simple_regret_approx_15[slice2],\n",
        "       simple_regret_approx_16[slice2],\n",
        "       simple_regret_approx_17[slice2],\n",
        "       simple_regret_approx_18[slice2],\n",
        "       simple_regret_approx_19[slice2],\n",
        "       simple_regret_approx_20[slice2]]\n",
        "\n",
        "exact2 = [simple_regret_exact_1[slice2],\n",
        "       simple_regret_exact_2[slice2],\n",
        "       simple_regret_exact_3[slice2],\n",
        "       simple_regret_exact_4[slice2],\n",
        "       simple_regret_exact_5[slice2],\n",
        "       simple_regret_exact_6[slice2],\n",
        "       simple_regret_exact_7[slice2],\n",
        "       simple_regret_exact_8[slice2],\n",
        "       simple_regret_exact_9[slice2],\n",
        "       simple_regret_exact_10[slice2],\n",
        "       simple_regret_exact_11[slice2],\n",
        "       simple_regret_exact_12[slice2],\n",
        "       simple_regret_exact_13[slice2],\n",
        "       simple_regret_exact_14[slice2],\n",
        "       simple_regret_exact_15[slice2],\n",
        "       simple_regret_exact_16[slice2],\n",
        "       simple_regret_exact_17[slice2],\n",
        "       simple_regret_exact_18[slice2],\n",
        "       simple_regret_exact_19[slice2],\n",
        "       simple_regret_exact_20[slice2]]\n",
        "\n",
        "approx2_results = pd.DataFrame(approx2).sort_values(by=[0], ascending=False)\n",
        "exact2_results = pd.DataFrame(exact2).sort_values(by=[0], ascending=False)\n",
        "\n",
        "### Best simple regret minimization IQR - approx:\n",
        "lower_approx2 = np.asarray(approx2_results[4:5][0])[0]\n",
        "median_approx2 = np.asarray(approx2_results[9:10][0])[0]\n",
        "upper_approx2 = np.asarray(approx2_results[14:15][0])[0]\n",
        "\n",
        "lower_exact2 = np.asarray(exact2_results[4:5][0])[0]\n",
        "median_exact2 = np.asarray(exact2_results[9:10][0])[0]\n",
        "upper_exact2 = np.asarray(exact2_results[14:15][0])[0]"
      ],
      "execution_count": 78,
      "outputs": []
    },
    {
      "cell_type": "code",
      "metadata": {
        "id": "B8ncJDYeQxf3"
      },
      "source": [
        "# Iteration12 :\n",
        "\n",
        "slice12 = 11\n",
        "\n",
        "approx12 = [simple_regret_approx_1[slice12],\n",
        "       simple_regret_approx_2[slice12],\n",
        "       simple_regret_approx_3[slice12],\n",
        "       simple_regret_approx_4[slice12],\n",
        "       simple_regret_approx_5[slice12],\n",
        "       simple_regret_approx_6[slice12],\n",
        "       simple_regret_approx_7[slice12],\n",
        "       simple_regret_approx_8[slice12],\n",
        "       simple_regret_approx_9[slice12],\n",
        "       simple_regret_approx_10[slice12],\n",
        "       simple_regret_approx_11[slice12],\n",
        "       simple_regret_approx_12[slice12],\n",
        "       simple_regret_approx_13[slice12],\n",
        "       simple_regret_approx_14[slice12],\n",
        "       simple_regret_approx_15[slice12],\n",
        "       simple_regret_approx_16[slice12],\n",
        "       simple_regret_approx_17[slice12],\n",
        "       simple_regret_approx_18[slice12],\n",
        "       simple_regret_approx_19[slice12],\n",
        "       simple_regret_approx_20[slice12]]\n",
        "\n",
        "exact12 = [simple_regret_exact_1[slice12],\n",
        "       simple_regret_exact_2[slice12],\n",
        "       simple_regret_exact_3[slice12],\n",
        "       simple_regret_exact_4[slice12],\n",
        "       simple_regret_exact_5[slice12],\n",
        "       simple_regret_exact_6[slice12],\n",
        "       simple_regret_exact_7[slice12],\n",
        "       simple_regret_exact_8[slice12],\n",
        "       simple_regret_exact_9[slice12],\n",
        "       simple_regret_exact_10[slice12],\n",
        "       simple_regret_exact_11[slice12],\n",
        "       simple_regret_exact_12[slice12],\n",
        "       simple_regret_exact_13[slice12],\n",
        "       simple_regret_exact_14[slice12],\n",
        "       simple_regret_exact_15[slice12],\n",
        "       simple_regret_exact_16[slice12],\n",
        "       simple_regret_exact_17[slice12],\n",
        "       simple_regret_exact_18[slice12],\n",
        "       simple_regret_exact_19[slice12],\n",
        "       simple_regret_exact_20[slice12]]\n",
        "\n",
        "approx12_results = pd.DataFrame(approx12).sort_values(by=[0], ascending=False)\n",
        "exact12_results = pd.DataFrame(exact12).sort_values(by=[0], ascending=False)\n",
        "\n",
        "### Best simple regret minimization IQR - approx:\n",
        "lower_approx12 = np.asarray(approx12_results[4:5][0])[0]\n",
        "median_approx12 = np.asarray(approx12_results[9:10][0])[0]\n",
        "upper_approx12 = np.asarray(approx12_results[14:15][0])[0]\n",
        "\n",
        "lower_exact12 = np.asarray(exact12_results[4:5][0])[0]\n",
        "median_exact12 = np.asarray(exact12_results[9:10][0])[0]\n",
        "upper_exact12 = np.asarray(exact12_results[14:15][0])[0]"
      ],
      "execution_count": 79,
      "outputs": []
    },
    {
      "cell_type": "code",
      "metadata": {
        "id": "Jn4KpGvcQxf4"
      },
      "source": [
        "# Iteration3 :\n",
        "\n",
        "slice3 = 2\n",
        "\n",
        "approx3 = [simple_regret_approx_1[slice3],\n",
        "       simple_regret_approx_2[slice3],\n",
        "       simple_regret_approx_3[slice3],\n",
        "       simple_regret_approx_4[slice3],\n",
        "       simple_regret_approx_5[slice3],\n",
        "       simple_regret_approx_6[slice3],\n",
        "       simple_regret_approx_7[slice3],\n",
        "       simple_regret_approx_8[slice3],\n",
        "       simple_regret_approx_9[slice3],\n",
        "       simple_regret_approx_10[slice3],\n",
        "       simple_regret_approx_11[slice3],\n",
        "       simple_regret_approx_12[slice3],\n",
        "       simple_regret_approx_13[slice3],\n",
        "       simple_regret_approx_14[slice3],\n",
        "       simple_regret_approx_15[slice3],\n",
        "       simple_regret_approx_16[slice3],\n",
        "       simple_regret_approx_17[slice3],\n",
        "       simple_regret_approx_18[slice3],\n",
        "       simple_regret_approx_19[slice3],\n",
        "       simple_regret_approx_20[slice3]]\n",
        "\n",
        "exact3 = [simple_regret_exact_1[slice3],\n",
        "       simple_regret_exact_2[slice3],\n",
        "       simple_regret_exact_3[slice3],\n",
        "       simple_regret_exact_4[slice3],\n",
        "       simple_regret_exact_5[slice3],\n",
        "       simple_regret_exact_6[slice3],\n",
        "       simple_regret_exact_7[slice3],\n",
        "       simple_regret_exact_8[slice3],\n",
        "       simple_regret_exact_9[slice3],\n",
        "       simple_regret_exact_10[slice3],\n",
        "       simple_regret_exact_11[slice3],\n",
        "       simple_regret_exact_12[slice3],\n",
        "       simple_regret_exact_13[slice3],\n",
        "       simple_regret_exact_14[slice3],\n",
        "       simple_regret_exact_15[slice3],\n",
        "       simple_regret_exact_16[slice3],\n",
        "       simple_regret_exact_17[slice3],\n",
        "       simple_regret_exact_18[slice3],\n",
        "       simple_regret_exact_19[slice3],\n",
        "       simple_regret_exact_20[slice3]]\n",
        "\n",
        "approx3_results = pd.DataFrame(approx3).sort_values(by=[0], ascending=False)\n",
        "exact3_results = pd.DataFrame(exact3).sort_values(by=[0], ascending=False)\n",
        "\n",
        "### Best simple regret minimization IQR - approx:\n",
        "lower_approx3 = np.asarray(approx3_results[4:5][0])[0]\n",
        "median_approx3 = np.asarray(approx3_results[9:10][0])[0]\n",
        "upper_approx3 = np.asarray(approx3_results[14:15][0])[0]\n",
        "\n",
        "lower_exact3 = np.asarray(exact3_results[4:5][0])[0]\n",
        "median_exact3 = np.asarray(exact3_results[9:10][0])[0]\n",
        "upper_exact3 = np.asarray(exact3_results[14:15][0])[0]"
      ],
      "execution_count": 80,
      "outputs": []
    },
    {
      "cell_type": "code",
      "metadata": {
        "id": "plf83wxrQxf4"
      },
      "source": [
        "# Iteration13 :\n",
        "\n",
        "slice13 = 12\n",
        "\n",
        "approx13 = [simple_regret_approx_1[slice13],\n",
        "       simple_regret_approx_2[slice13],\n",
        "       simple_regret_approx_3[slice13],\n",
        "       simple_regret_approx_4[slice13],\n",
        "       simple_regret_approx_5[slice13],\n",
        "       simple_regret_approx_6[slice13],\n",
        "       simple_regret_approx_7[slice13],\n",
        "       simple_regret_approx_8[slice13],\n",
        "       simple_regret_approx_9[slice13],\n",
        "       simple_regret_approx_10[slice13],\n",
        "       simple_regret_approx_11[slice13],\n",
        "       simple_regret_approx_12[slice13],\n",
        "       simple_regret_approx_13[slice13],\n",
        "       simple_regret_approx_14[slice13],\n",
        "       simple_regret_approx_15[slice13],\n",
        "       simple_regret_approx_16[slice13],\n",
        "       simple_regret_approx_17[slice13],\n",
        "       simple_regret_approx_18[slice13],\n",
        "       simple_regret_approx_19[slice13],\n",
        "       simple_regret_approx_20[slice13]]\n",
        "\n",
        "exact13 = [simple_regret_exact_1[slice13],\n",
        "       simple_regret_exact_2[slice13],\n",
        "       simple_regret_exact_3[slice13],\n",
        "       simple_regret_exact_4[slice13],\n",
        "       simple_regret_exact_5[slice13],\n",
        "       simple_regret_exact_6[slice13],\n",
        "       simple_regret_exact_7[slice13],\n",
        "       simple_regret_exact_8[slice13],\n",
        "       simple_regret_exact_9[slice13],\n",
        "       simple_regret_exact_10[slice13],\n",
        "       simple_regret_exact_11[slice13],\n",
        "       simple_regret_exact_12[slice13],\n",
        "       simple_regret_exact_13[slice13],\n",
        "       simple_regret_exact_14[slice13],\n",
        "       simple_regret_exact_15[slice13],\n",
        "       simple_regret_exact_16[slice13],\n",
        "       simple_regret_exact_17[slice13],\n",
        "       simple_regret_exact_18[slice13],\n",
        "       simple_regret_exact_19[slice13],\n",
        "       simple_regret_exact_20[slice13]]\n",
        "\n",
        "approx13_results = pd.DataFrame(approx13).sort_values(by=[0], ascending=False)\n",
        "exact13_results = pd.DataFrame(exact13).sort_values(by=[0], ascending=False)\n",
        "\n",
        "### Best simple regret minimization IQR - approx:\n",
        "lower_approx13 = np.asarray(approx13_results[4:5][0])[0]\n",
        "median_approx13 = np.asarray(approx13_results[9:10][0])[0]\n",
        "upper_approx13 = np.asarray(approx13_results[14:15][0])[0]\n",
        "\n",
        "lower_exact13 = np.asarray(exact13_results[4:5][0])[0]\n",
        "median_exact13 = np.asarray(exact13_results[9:10][0])[0]\n",
        "upper_exact13 = np.asarray(exact13_results[14:15][0])[0]"
      ],
      "execution_count": 81,
      "outputs": []
    },
    {
      "cell_type": "code",
      "metadata": {
        "id": "9A7mlVvJQxf5"
      },
      "source": [
        "# Iteration4 :\n",
        "\n",
        "slice4 = 3\n",
        "\n",
        "approx4 = [simple_regret_approx_1[slice4],\n",
        "       simple_regret_approx_2[slice4],\n",
        "       simple_regret_approx_3[slice4],\n",
        "       simple_regret_approx_4[slice4],\n",
        "       simple_regret_approx_5[slice4],\n",
        "       simple_regret_approx_6[slice4],\n",
        "       simple_regret_approx_7[slice4],\n",
        "       simple_regret_approx_8[slice4],\n",
        "       simple_regret_approx_9[slice4],\n",
        "       simple_regret_approx_10[slice4],\n",
        "       simple_regret_approx_11[slice4],\n",
        "       simple_regret_approx_12[slice4],\n",
        "       simple_regret_approx_13[slice4],\n",
        "       simple_regret_approx_14[slice4],\n",
        "       simple_regret_approx_15[slice4],\n",
        "       simple_regret_approx_16[slice4],\n",
        "       simple_regret_approx_17[slice4],\n",
        "       simple_regret_approx_18[slice4],\n",
        "       simple_regret_approx_19[slice4],\n",
        "       simple_regret_approx_20[slice4]]\n",
        "\n",
        "exact4 = [simple_regret_exact_1[slice4],\n",
        "       simple_regret_exact_2[slice4],\n",
        "       simple_regret_exact_3[slice4],\n",
        "       simple_regret_exact_4[slice4],\n",
        "       simple_regret_exact_5[slice4],\n",
        "       simple_regret_exact_6[slice4],\n",
        "       simple_regret_exact_7[slice4],\n",
        "       simple_regret_exact_8[slice4],\n",
        "       simple_regret_exact_9[slice4],\n",
        "       simple_regret_exact_10[slice4],\n",
        "       simple_regret_exact_11[slice4],\n",
        "       simple_regret_exact_12[slice4],\n",
        "       simple_regret_exact_13[slice4],\n",
        "       simple_regret_exact_14[slice4],\n",
        "       simple_regret_exact_15[slice4],\n",
        "       simple_regret_exact_16[slice4],\n",
        "       simple_regret_exact_17[slice4],\n",
        "       simple_regret_exact_18[slice4],\n",
        "       simple_regret_exact_19[slice4],\n",
        "       simple_regret_exact_20[slice4]]\n",
        "\n",
        "approx4_results = pd.DataFrame(approx4).sort_values(by=[0], ascending=False)\n",
        "exact4_results = pd.DataFrame(exact4).sort_values(by=[0], ascending=False)\n",
        "\n",
        "### Best simple regret minimization IQR - approx:\n",
        "lower_approx4 = np.asarray(approx4_results[4:5][0])[0]\n",
        "median_approx4 = np.asarray(approx4_results[9:10][0])[0]\n",
        "upper_approx4 = np.asarray(approx4_results[14:15][0])[0]\n",
        "\n",
        "lower_exact4 = np.asarray(exact4_results[4:5][0])[0]\n",
        "median_exact4 = np.asarray(exact4_results[9:10][0])[0]\n",
        "upper_exact4 = np.asarray(exact4_results[14:15][0])[0]"
      ],
      "execution_count": 82,
      "outputs": []
    },
    {
      "cell_type": "code",
      "metadata": {
        "id": "ijq-rioYQxf5"
      },
      "source": [
        "# Iteration14 :\n",
        "\n",
        "slice14 = 13\n",
        "\n",
        "approx14 = [simple_regret_approx_1[slice14],\n",
        "       simple_regret_approx_2[slice14],\n",
        "       simple_regret_approx_3[slice14],\n",
        "       simple_regret_approx_4[slice14],\n",
        "       simple_regret_approx_5[slice14],\n",
        "       simple_regret_approx_6[slice14],\n",
        "       simple_regret_approx_7[slice14],\n",
        "       simple_regret_approx_8[slice14],\n",
        "       simple_regret_approx_9[slice14],\n",
        "       simple_regret_approx_10[slice14],\n",
        "       simple_regret_approx_11[slice14],\n",
        "       simple_regret_approx_12[slice14],\n",
        "       simple_regret_approx_13[slice14],\n",
        "       simple_regret_approx_14[slice14],\n",
        "       simple_regret_approx_15[slice14],\n",
        "       simple_regret_approx_16[slice14],\n",
        "       simple_regret_approx_17[slice14],\n",
        "       simple_regret_approx_18[slice14],\n",
        "       simple_regret_approx_19[slice14],\n",
        "       simple_regret_approx_20[slice14]]\n",
        "\n",
        "exact14 = [simple_regret_exact_1[slice14],\n",
        "       simple_regret_exact_2[slice14],\n",
        "       simple_regret_exact_3[slice14],\n",
        "       simple_regret_exact_4[slice14],\n",
        "       simple_regret_exact_5[slice14],\n",
        "       simple_regret_exact_6[slice14],\n",
        "       simple_regret_exact_7[slice14],\n",
        "       simple_regret_exact_8[slice14],\n",
        "       simple_regret_exact_9[slice14],\n",
        "       simple_regret_exact_10[slice14],\n",
        "       simple_regret_exact_11[slice14],\n",
        "       simple_regret_exact_12[slice14],\n",
        "       simple_regret_exact_13[slice14],\n",
        "       simple_regret_exact_14[slice14],\n",
        "       simple_regret_exact_15[slice14],\n",
        "       simple_regret_exact_16[slice14],\n",
        "       simple_regret_exact_17[slice14],\n",
        "       simple_regret_exact_18[slice14],\n",
        "       simple_regret_exact_19[slice14],\n",
        "       simple_regret_exact_20[slice14]]\n",
        "\n",
        "approx14_results = pd.DataFrame(approx14).sort_values(by=[0], ascending=False)\n",
        "exact14_results = pd.DataFrame(exact14).sort_values(by=[0], ascending=False)\n",
        "\n",
        "### Best simple regret minimization IQR - approx:\n",
        "lower_approx14 = np.asarray(approx14_results[4:5][0])[0]\n",
        "median_approx14 = np.asarray(approx14_results[9:10][0])[0]\n",
        "upper_approx14 = np.asarray(approx14_results[14:15][0])[0]\n",
        "\n",
        "lower_exact14 = np.asarray(exact14_results[4:5][0])[0]\n",
        "median_exact14 = np.asarray(exact14_results[9:10][0])[0]\n",
        "upper_exact14 = np.asarray(exact14_results[14:15][0])[0]"
      ],
      "execution_count": 83,
      "outputs": []
    },
    {
      "cell_type": "code",
      "metadata": {
        "id": "XINlZjoTd-ZK"
      },
      "source": [
        "# Iteration5 :\n",
        "\n",
        "slice5 = 4\n",
        "\n",
        "approx5 = [simple_regret_approx_1[slice5],\n",
        "       simple_regret_approx_2[slice5],\n",
        "       simple_regret_approx_3[slice5],\n",
        "       simple_regret_approx_4[slice5],\n",
        "       simple_regret_approx_5[slice5],\n",
        "       simple_regret_approx_6[slice5],\n",
        "       simple_regret_approx_7[slice5],\n",
        "       simple_regret_approx_8[slice5],\n",
        "       simple_regret_approx_9[slice5],\n",
        "       simple_regret_approx_10[slice5],\n",
        "       simple_regret_approx_11[slice5],\n",
        "       simple_regret_approx_12[slice5],\n",
        "       simple_regret_approx_13[slice5],\n",
        "       simple_regret_approx_14[slice5],\n",
        "       simple_regret_approx_15[slice5],\n",
        "       simple_regret_approx_16[slice5],\n",
        "       simple_regret_approx_17[slice5],\n",
        "       simple_regret_approx_18[slice5],\n",
        "       simple_regret_approx_19[slice5],\n",
        "       simple_regret_approx_20[slice5]]\n",
        "\n",
        "exact5 = [simple_regret_exact_1[slice5],\n",
        "       simple_regret_exact_2[slice5],\n",
        "       simple_regret_exact_3[slice5],\n",
        "       simple_regret_exact_4[slice5],\n",
        "       simple_regret_exact_5[slice5],\n",
        "       simple_regret_exact_6[slice5],\n",
        "       simple_regret_exact_7[slice5],\n",
        "       simple_regret_exact_8[slice5],\n",
        "       simple_regret_exact_9[slice5],\n",
        "       simple_regret_exact_10[slice5],\n",
        "       simple_regret_exact_11[slice5],\n",
        "       simple_regret_exact_12[slice5],\n",
        "       simple_regret_exact_13[slice5],\n",
        "       simple_regret_exact_14[slice5],\n",
        "       simple_regret_exact_15[slice5],\n",
        "       simple_regret_exact_16[slice5],\n",
        "       simple_regret_exact_17[slice5],\n",
        "       simple_regret_exact_18[slice5],\n",
        "       simple_regret_exact_19[slice5],\n",
        "       simple_regret_exact_20[slice5]]\n",
        "\n",
        "approx5_results = pd.DataFrame(approx5).sort_values(by=[0], ascending=False)\n",
        "exact5_results = pd.DataFrame(exact5).sort_values(by=[0], ascending=False)\n",
        "\n",
        "### Best simple regret minimization IQR - approx:\n",
        "lower_approx5 = np.asarray(approx5_results[4:5][0])[0]\n",
        "median_approx5 = np.asarray(approx5_results[9:10][0])[0]\n",
        "upper_approx5 = np.asarray(approx5_results[14:15][0])[0]\n",
        "\n",
        "lower_exact5 = np.asarray(exact5_results[4:5][0])[0]\n",
        "median_exact5 = np.asarray(exact5_results[9:10][0])[0]\n",
        "upper_exact5 = np.asarray(exact5_results[14:15][0])[0]"
      ],
      "execution_count": 84,
      "outputs": []
    },
    {
      "cell_type": "code",
      "metadata": {
        "id": "4aZ7C8sOQxf6"
      },
      "source": [
        "# Iteration15 :\n",
        "\n",
        "slice15 = 14\n",
        "\n",
        "approx15 = [simple_regret_approx_1[slice15],\n",
        "       simple_regret_approx_2[slice15],\n",
        "       simple_regret_approx_3[slice15],\n",
        "       simple_regret_approx_4[slice15],\n",
        "       simple_regret_approx_5[slice15],\n",
        "       simple_regret_approx_6[slice15],\n",
        "       simple_regret_approx_7[slice15],\n",
        "       simple_regret_approx_8[slice15],\n",
        "       simple_regret_approx_9[slice15],\n",
        "       simple_regret_approx_10[slice15],\n",
        "       simple_regret_approx_11[slice15],\n",
        "       simple_regret_approx_12[slice15],\n",
        "       simple_regret_approx_13[slice15],\n",
        "       simple_regret_approx_14[slice15],\n",
        "       simple_regret_approx_15[slice15],\n",
        "       simple_regret_approx_16[slice15],\n",
        "       simple_regret_approx_17[slice15],\n",
        "       simple_regret_approx_18[slice15],\n",
        "       simple_regret_approx_19[slice15],\n",
        "       simple_regret_approx_20[slice15]]\n",
        "\n",
        "exact15 = [simple_regret_exact_1[slice15],\n",
        "       simple_regret_exact_2[slice15],\n",
        "       simple_regret_exact_3[slice15],\n",
        "       simple_regret_exact_4[slice15],\n",
        "       simple_regret_exact_5[slice15],\n",
        "       simple_regret_exact_6[slice15],\n",
        "       simple_regret_exact_7[slice15],\n",
        "       simple_regret_exact_8[slice15],\n",
        "       simple_regret_exact_9[slice15],\n",
        "       simple_regret_exact_10[slice15],\n",
        "       simple_regret_exact_11[slice15],\n",
        "       simple_regret_exact_12[slice15],\n",
        "       simple_regret_exact_13[slice15],\n",
        "       simple_regret_exact_14[slice15],\n",
        "       simple_regret_exact_15[slice15],\n",
        "       simple_regret_exact_16[slice15],\n",
        "       simple_regret_exact_17[slice15],\n",
        "       simple_regret_exact_18[slice15],\n",
        "       simple_regret_exact_19[slice15],\n",
        "       simple_regret_exact_20[slice15]]\n",
        "\n",
        "approx15_results = pd.DataFrame(approx15).sort_values(by=[0], ascending=False)\n",
        "exact15_results = pd.DataFrame(exact15).sort_values(by=[0], ascending=False)\n",
        "\n",
        "### Best simple regret minimization IQR - approx:\n",
        "lower_approx15 = np.asarray(approx15_results[4:5][0])[0]\n",
        "median_approx15 = np.asarray(approx15_results[9:10][0])[0]\n",
        "upper_approx15 = np.asarray(approx15_results[14:15][0])[0]\n",
        "\n",
        "lower_exact15 = np.asarray(exact15_results[4:5][0])[0]\n",
        "median_exact15 = np.asarray(exact15_results[9:10][0])[0]\n",
        "upper_exact15 = np.asarray(exact15_results[14:15][0])[0]"
      ],
      "execution_count": 85,
      "outputs": []
    },
    {
      "cell_type": "code",
      "metadata": {
        "id": "KJINKhv1Qxf6"
      },
      "source": [
        "# Iteration6 :\n",
        "\n",
        "slice6 = 5\n",
        "\n",
        "approx6 = [simple_regret_approx_1[slice6],\n",
        "       simple_regret_approx_2[slice6],\n",
        "       simple_regret_approx_3[slice6],\n",
        "       simple_regret_approx_4[slice6],\n",
        "       simple_regret_approx_5[slice6],\n",
        "       simple_regret_approx_6[slice6],\n",
        "       simple_regret_approx_7[slice6],\n",
        "       simple_regret_approx_8[slice6],\n",
        "       simple_regret_approx_9[slice6],\n",
        "       simple_regret_approx_10[slice6],\n",
        "       simple_regret_approx_11[slice6],\n",
        "       simple_regret_approx_12[slice6],\n",
        "       simple_regret_approx_13[slice6],\n",
        "       simple_regret_approx_14[slice6],\n",
        "       simple_regret_approx_15[slice6],\n",
        "       simple_regret_approx_16[slice6],\n",
        "       simple_regret_approx_17[slice6],\n",
        "       simple_regret_approx_18[slice6],\n",
        "       simple_regret_approx_19[slice6],\n",
        "       simple_regret_approx_20[slice6]]\n",
        "\n",
        "exact6 = [simple_regret_exact_1[slice6],\n",
        "       simple_regret_exact_2[slice6],\n",
        "       simple_regret_exact_3[slice6],\n",
        "       simple_regret_exact_4[slice6],\n",
        "       simple_regret_exact_5[slice6],\n",
        "       simple_regret_exact_6[slice6],\n",
        "       simple_regret_exact_7[slice6],\n",
        "       simple_regret_exact_8[slice6],\n",
        "       simple_regret_exact_9[slice6],\n",
        "       simple_regret_exact_10[slice6],\n",
        "       simple_regret_exact_11[slice6],\n",
        "       simple_regret_exact_12[slice6],\n",
        "       simple_regret_exact_13[slice6],\n",
        "       simple_regret_exact_14[slice6],\n",
        "       simple_regret_exact_15[slice6],\n",
        "       simple_regret_exact_16[slice6],\n",
        "       simple_regret_exact_17[slice6],\n",
        "       simple_regret_exact_18[slice6],\n",
        "       simple_regret_exact_19[slice6],\n",
        "       simple_regret_exact_20[slice6]]\n",
        "\n",
        "approx6_results = pd.DataFrame(approx6).sort_values(by=[0], ascending=False)\n",
        "exact6_results = pd.DataFrame(exact6).sort_values(by=[0], ascending=False)\n",
        "\n",
        "### Best simple regret minimization IQR - approx:\n",
        "lower_approx6 = np.asarray(approx6_results[4:5][0])[0]\n",
        "median_approx6 = np.asarray(approx6_results[9:10][0])[0]\n",
        "upper_approx6 = np.asarray(approx6_results[14:15][0])[0]\n",
        "\n",
        "lower_exact6 = np.asarray(exact6_results[4:5][0])[0]\n",
        "median_exact6 = np.asarray(exact6_results[9:10][0])[0]\n",
        "upper_exact6 = np.asarray(exact6_results[14:15][0])[0]"
      ],
      "execution_count": 86,
      "outputs": []
    },
    {
      "cell_type": "code",
      "metadata": {
        "id": "nwC5N1FsQxf7"
      },
      "source": [
        "# Iteration16 :\n",
        "\n",
        "slice16 = 15\n",
        "\n",
        "approx16 = [simple_regret_approx_1[slice16],\n",
        "       simple_regret_approx_2[slice16],\n",
        "       simple_regret_approx_3[slice16],\n",
        "       simple_regret_approx_4[slice16],\n",
        "       simple_regret_approx_5[slice16],\n",
        "       simple_regret_approx_6[slice16],\n",
        "       simple_regret_approx_7[slice16],\n",
        "       simple_regret_approx_8[slice16],\n",
        "       simple_regret_approx_9[slice16],\n",
        "       simple_regret_approx_10[slice16],\n",
        "       simple_regret_approx_11[slice16],\n",
        "       simple_regret_approx_12[slice16],\n",
        "       simple_regret_approx_13[slice16],\n",
        "       simple_regret_approx_14[slice16],\n",
        "       simple_regret_approx_15[slice16],\n",
        "       simple_regret_approx_16[slice16],\n",
        "       simple_regret_approx_17[slice16],\n",
        "       simple_regret_approx_18[slice16],\n",
        "       simple_regret_approx_19[slice16],\n",
        "       simple_regret_approx_20[slice16]]\n",
        "\n",
        "exact16 = [simple_regret_exact_1[slice16],\n",
        "       simple_regret_exact_2[slice16],\n",
        "       simple_regret_exact_3[slice16],\n",
        "       simple_regret_exact_4[slice16],\n",
        "       simple_regret_exact_5[slice16],\n",
        "       simple_regret_exact_6[slice16],\n",
        "       simple_regret_exact_7[slice16],\n",
        "       simple_regret_exact_8[slice16],\n",
        "       simple_regret_exact_9[slice16],\n",
        "       simple_regret_exact_10[slice16],\n",
        "       simple_regret_exact_11[slice16],\n",
        "       simple_regret_exact_12[slice16],\n",
        "       simple_regret_exact_13[slice16],\n",
        "       simple_regret_exact_14[slice16],\n",
        "       simple_regret_exact_15[slice16],\n",
        "       simple_regret_exact_16[slice16],\n",
        "       simple_regret_exact_17[slice16],\n",
        "       simple_regret_exact_18[slice16],\n",
        "       simple_regret_exact_19[slice16],\n",
        "       simple_regret_exact_20[slice16]]\n",
        "\n",
        "approx16_results = pd.DataFrame(approx16).sort_values(by=[0], ascending=False)\n",
        "exact16_results = pd.DataFrame(exact16).sort_values(by=[0], ascending=False)\n",
        "\n",
        "### Best simple regret minimization IQR - approx:\n",
        "lower_approx16 = np.asarray(approx16_results[4:5][0])[0]\n",
        "median_approx16 = np.asarray(approx16_results[9:10][0])[0]\n",
        "upper_approx16 = np.asarray(approx16_results[14:15][0])[0]\n",
        "\n",
        "lower_exact16 = np.asarray(exact16_results[4:5][0])[0]\n",
        "median_exact16 = np.asarray(exact16_results[9:10][0])[0]\n",
        "upper_exact16 = np.asarray(exact16_results[14:15][0])[0]"
      ],
      "execution_count": 87,
      "outputs": []
    },
    {
      "cell_type": "code",
      "metadata": {
        "id": "TrPV0AfnQxf7"
      },
      "source": [
        "# Iteration7 :\n",
        "\n",
        "slice7 = 6\n",
        "\n",
        "approx7 = [simple_regret_approx_1[slice7],\n",
        "       simple_regret_approx_2[slice7],\n",
        "       simple_regret_approx_3[slice7],\n",
        "       simple_regret_approx_4[slice7],\n",
        "       simple_regret_approx_5[slice7],\n",
        "       simple_regret_approx_6[slice7],\n",
        "       simple_regret_approx_7[slice7],\n",
        "       simple_regret_approx_8[slice7],\n",
        "       simple_regret_approx_9[slice7],\n",
        "       simple_regret_approx_10[slice7],\n",
        "       simple_regret_approx_11[slice7],\n",
        "       simple_regret_approx_12[slice7],\n",
        "       simple_regret_approx_13[slice7],\n",
        "       simple_regret_approx_14[slice7],\n",
        "       simple_regret_approx_15[slice7],\n",
        "       simple_regret_approx_16[slice7],\n",
        "       simple_regret_approx_17[slice7],\n",
        "       simple_regret_approx_18[slice7],\n",
        "       simple_regret_approx_19[slice7],\n",
        "       simple_regret_approx_20[slice7]]\n",
        "\n",
        "exact7 = [simple_regret_exact_1[slice7],\n",
        "       simple_regret_exact_2[slice7],\n",
        "       simple_regret_exact_3[slice7],\n",
        "       simple_regret_exact_4[slice7],\n",
        "       simple_regret_exact_5[slice7],\n",
        "       simple_regret_exact_6[slice7],\n",
        "       simple_regret_exact_7[slice7],\n",
        "       simple_regret_exact_8[slice7],\n",
        "       simple_regret_exact_9[slice7],\n",
        "       simple_regret_exact_10[slice7],\n",
        "       simple_regret_exact_11[slice7],\n",
        "       simple_regret_exact_12[slice7],\n",
        "       simple_regret_exact_13[slice7],\n",
        "       simple_regret_exact_14[slice7],\n",
        "       simple_regret_exact_15[slice7],\n",
        "       simple_regret_exact_16[slice7],\n",
        "       simple_regret_exact_17[slice7],\n",
        "       simple_regret_exact_18[slice7],\n",
        "       simple_regret_exact_19[slice7],\n",
        "       simple_regret_exact_20[slice7]]\n",
        "\n",
        "approx7_results = pd.DataFrame(approx7).sort_values(by=[0], ascending=False)\n",
        "exact7_results = pd.DataFrame(exact7).sort_values(by=[0], ascending=False)\n",
        "\n",
        "### Best simple regret minimization IQR - approx:\n",
        "lower_approx7 = np.asarray(approx7_results[4:5][0])[0]\n",
        "median_approx7 = np.asarray(approx7_results[9:10][0])[0]\n",
        "upper_approx7 = np.asarray(approx7_results[14:15][0])[0]\n",
        "\n",
        "lower_exact7 = np.asarray(exact7_results[4:5][0])[0]\n",
        "median_exact7 = np.asarray(exact7_results[9:10][0])[0]\n",
        "upper_exact7 = np.asarray(exact7_results[14:15][0])[0]"
      ],
      "execution_count": 88,
      "outputs": []
    },
    {
      "cell_type": "code",
      "metadata": {
        "id": "Ub_-wpK4Qxf8"
      },
      "source": [
        "# Iteration17 :\n",
        "\n",
        "slice17 = 16\n",
        "\n",
        "approx17 = [simple_regret_approx_1[slice17],\n",
        "       simple_regret_approx_2[slice17],\n",
        "       simple_regret_approx_3[slice17],\n",
        "       simple_regret_approx_4[slice17],\n",
        "       simple_regret_approx_5[slice17],\n",
        "       simple_regret_approx_6[slice17],\n",
        "       simple_regret_approx_7[slice17],\n",
        "       simple_regret_approx_8[slice17],\n",
        "       simple_regret_approx_9[slice17],\n",
        "       simple_regret_approx_10[slice17],\n",
        "       simple_regret_approx_11[slice17],\n",
        "       simple_regret_approx_12[slice17],\n",
        "       simple_regret_approx_13[slice17],\n",
        "       simple_regret_approx_14[slice17],\n",
        "       simple_regret_approx_15[slice17],\n",
        "       simple_regret_approx_16[slice17],\n",
        "       simple_regret_approx_17[slice17],\n",
        "       simple_regret_approx_18[slice17],\n",
        "       simple_regret_approx_19[slice17],\n",
        "       simple_regret_approx_20[slice17]]\n",
        "\n",
        "exact17 = [simple_regret_exact_1[slice17],\n",
        "       simple_regret_exact_2[slice17],\n",
        "       simple_regret_exact_3[slice17],\n",
        "       simple_regret_exact_4[slice17],\n",
        "       simple_regret_exact_5[slice17],\n",
        "       simple_regret_exact_6[slice17],\n",
        "       simple_regret_exact_7[slice17],\n",
        "       simple_regret_exact_8[slice17],\n",
        "       simple_regret_exact_9[slice17],\n",
        "       simple_regret_exact_10[slice17],\n",
        "       simple_regret_exact_11[slice17],\n",
        "       simple_regret_exact_12[slice17],\n",
        "       simple_regret_exact_13[slice17],\n",
        "       simple_regret_exact_14[slice17],\n",
        "       simple_regret_exact_15[slice17],\n",
        "       simple_regret_exact_16[slice17],\n",
        "       simple_regret_exact_17[slice17],\n",
        "       simple_regret_exact_18[slice17],\n",
        "       simple_regret_exact_19[slice17],\n",
        "       simple_regret_exact_20[slice17]]\n",
        "\n",
        "approx17_results = pd.DataFrame(approx17).sort_values(by=[0], ascending=False)\n",
        "exact17_results = pd.DataFrame(exact17).sort_values(by=[0], ascending=False)\n",
        "\n",
        "### Best simple regret minimization IQR - approx:\n",
        "lower_approx17 = np.asarray(approx17_results[4:5][0])[0]\n",
        "median_approx17 = np.asarray(approx17_results[9:10][0])[0]\n",
        "upper_approx17 = np.asarray(approx17_results[14:15][0])[0]\n",
        "\n",
        "lower_exact17 = np.asarray(exact17_results[4:5][0])[0]\n",
        "median_exact17 = np.asarray(exact17_results[9:10][0])[0]\n",
        "upper_exact17 = np.asarray(exact17_results[14:15][0])[0]"
      ],
      "execution_count": 89,
      "outputs": []
    },
    {
      "cell_type": "code",
      "metadata": {
        "id": "-6VLo37PQxf8"
      },
      "source": [
        "# Iteration8 :\n",
        "\n",
        "slice8 = 7\n",
        "\n",
        "approx8 = [simple_regret_approx_1[slice8],\n",
        "       simple_regret_approx_2[slice8],\n",
        "       simple_regret_approx_3[slice8],\n",
        "       simple_regret_approx_4[slice8],\n",
        "       simple_regret_approx_5[slice8],\n",
        "       simple_regret_approx_6[slice8],\n",
        "       simple_regret_approx_7[slice8],\n",
        "       simple_regret_approx_8[slice8],\n",
        "       simple_regret_approx_9[slice8],\n",
        "       simple_regret_approx_10[slice8],\n",
        "       simple_regret_approx_11[slice8],\n",
        "       simple_regret_approx_12[slice8],\n",
        "       simple_regret_approx_13[slice8],\n",
        "       simple_regret_approx_14[slice8],\n",
        "       simple_regret_approx_15[slice8],\n",
        "       simple_regret_approx_16[slice8],\n",
        "       simple_regret_approx_17[slice8],\n",
        "       simple_regret_approx_18[slice8],\n",
        "       simple_regret_approx_19[slice8],\n",
        "       simple_regret_approx_20[slice8]]\n",
        "\n",
        "exact8 = [simple_regret_exact_1[slice8],\n",
        "       simple_regret_exact_2[slice8],\n",
        "       simple_regret_exact_3[slice8],\n",
        "       simple_regret_exact_4[slice8],\n",
        "       simple_regret_exact_5[slice8],\n",
        "       simple_regret_exact_6[slice8],\n",
        "       simple_regret_exact_7[slice8],\n",
        "       simple_regret_exact_8[slice8],\n",
        "       simple_regret_exact_9[slice8],\n",
        "       simple_regret_exact_10[slice8],\n",
        "       simple_regret_exact_11[slice8],\n",
        "       simple_regret_exact_12[slice8],\n",
        "       simple_regret_exact_13[slice8],\n",
        "       simple_regret_exact_14[slice8],\n",
        "       simple_regret_exact_15[slice8],\n",
        "       simple_regret_exact_16[slice8],\n",
        "       simple_regret_exact_17[slice8],\n",
        "       simple_regret_exact_18[slice8],\n",
        "       simple_regret_exact_19[slice8],\n",
        "       simple_regret_exact_20[slice8]]\n",
        "\n",
        "approx8_results = pd.DataFrame(approx8).sort_values(by=[0], ascending=False)\n",
        "exact8_results = pd.DataFrame(exact8).sort_values(by=[0], ascending=False)\n",
        "\n",
        "### Best simple regret minimization IQR - approx:\n",
        "lower_approx8 = np.asarray(approx8_results[4:5][0])[0]\n",
        "median_approx8 = np.asarray(approx8_results[9:10][0])[0]\n",
        "upper_approx8 = np.asarray(approx8_results[14:15][0])[0]\n",
        "\n",
        "lower_exact8 = np.asarray(exact8_results[4:5][0])[0]\n",
        "median_exact8 = np.asarray(exact8_results[9:10][0])[0]\n",
        "upper_exact8 = np.asarray(exact8_results[14:15][0])[0]"
      ],
      "execution_count": 90,
      "outputs": []
    },
    {
      "cell_type": "code",
      "metadata": {
        "id": "2Dp-9CC2Qxf9"
      },
      "source": [
        "# Iteration18 :\n",
        "\n",
        "slice18 = 17\n",
        "\n",
        "approx18 = [simple_regret_approx_1[slice18],\n",
        "       simple_regret_approx_2[slice18],\n",
        "       simple_regret_approx_3[slice18],\n",
        "       simple_regret_approx_4[slice18],\n",
        "       simple_regret_approx_5[slice18],\n",
        "       simple_regret_approx_6[slice18],\n",
        "       simple_regret_approx_7[slice18],\n",
        "       simple_regret_approx_8[slice18],\n",
        "       simple_regret_approx_9[slice18],\n",
        "       simple_regret_approx_10[slice18],\n",
        "       simple_regret_approx_11[slice18],\n",
        "       simple_regret_approx_12[slice18],\n",
        "       simple_regret_approx_13[slice18],\n",
        "       simple_regret_approx_14[slice18],\n",
        "       simple_regret_approx_15[slice18],\n",
        "       simple_regret_approx_16[slice18],\n",
        "       simple_regret_approx_17[slice18],\n",
        "       simple_regret_approx_18[slice18],\n",
        "       simple_regret_approx_19[slice18],\n",
        "       simple_regret_approx_20[slice18]]\n",
        "\n",
        "exact18 = [simple_regret_exact_1[slice18],\n",
        "       simple_regret_exact_2[slice18],\n",
        "       simple_regret_exact_3[slice18],\n",
        "       simple_regret_exact_4[slice18],\n",
        "       simple_regret_exact_5[slice18],\n",
        "       simple_regret_exact_6[slice18],\n",
        "       simple_regret_exact_7[slice18],\n",
        "       simple_regret_exact_8[slice18],\n",
        "       simple_regret_exact_9[slice18],\n",
        "       simple_regret_exact_10[slice18],\n",
        "       simple_regret_exact_11[slice18],\n",
        "       simple_regret_exact_12[slice18],\n",
        "       simple_regret_exact_13[slice18],\n",
        "       simple_regret_exact_14[slice18],\n",
        "       simple_regret_exact_15[slice18],\n",
        "       simple_regret_exact_16[slice18],\n",
        "       simple_regret_exact_17[slice18],\n",
        "       simple_regret_exact_18[slice18],\n",
        "       simple_regret_exact_19[slice18],\n",
        "       simple_regret_exact_20[slice18]]\n",
        "\n",
        "approx18_results = pd.DataFrame(approx18).sort_values(by=[0], ascending=False)\n",
        "exact18_results = pd.DataFrame(exact18).sort_values(by=[0], ascending=False)\n",
        "\n",
        "### Best simple regret minimization IQR - approx:\n",
        "lower_approx18 = np.asarray(approx18_results[4:5][0])[0]\n",
        "median_approx18 = np.asarray(approx18_results[9:10][0])[0]\n",
        "upper_approx18 = np.asarray(approx18_results[14:15][0])[0]\n",
        "\n",
        "lower_exact18 = np.asarray(exact18_results[4:5][0])[0]\n",
        "median_exact18 = np.asarray(exact18_results[9:10][0])[0]\n",
        "upper_exact18 = np.asarray(exact18_results[14:15][0])[0]"
      ],
      "execution_count": 91,
      "outputs": []
    },
    {
      "cell_type": "code",
      "metadata": {
        "id": "SqiaOpB7Qxf9"
      },
      "source": [
        "# Iteration9 :\n",
        "\n",
        "slice9 = 8\n",
        "\n",
        "approx9 = [simple_regret_approx_1[slice9],\n",
        "       simple_regret_approx_2[slice9],\n",
        "       simple_regret_approx_3[slice9],\n",
        "       simple_regret_approx_4[slice9],\n",
        "       simple_regret_approx_5[slice9],\n",
        "       simple_regret_approx_6[slice9],\n",
        "       simple_regret_approx_7[slice9],\n",
        "       simple_regret_approx_8[slice9],\n",
        "       simple_regret_approx_9[slice9],\n",
        "       simple_regret_approx_10[slice9],\n",
        "       simple_regret_approx_11[slice9],\n",
        "       simple_regret_approx_12[slice9],\n",
        "       simple_regret_approx_13[slice9],\n",
        "       simple_regret_approx_14[slice9],\n",
        "       simple_regret_approx_15[slice9],\n",
        "       simple_regret_approx_16[slice9],\n",
        "       simple_regret_approx_17[slice9],\n",
        "       simple_regret_approx_18[slice9],\n",
        "       simple_regret_approx_19[slice9],\n",
        "       simple_regret_approx_20[slice9]]\n",
        "\n",
        "exact9 = [simple_regret_exact_1[slice9],\n",
        "       simple_regret_exact_2[slice9],\n",
        "       simple_regret_exact_3[slice9],\n",
        "       simple_regret_exact_4[slice9],\n",
        "       simple_regret_exact_5[slice9],\n",
        "       simple_regret_exact_6[slice9],\n",
        "       simple_regret_exact_7[slice9],\n",
        "       simple_regret_exact_8[slice9],\n",
        "       simple_regret_exact_9[slice9],\n",
        "       simple_regret_exact_10[slice9],\n",
        "       simple_regret_exact_11[slice9],\n",
        "       simple_regret_exact_12[slice9],\n",
        "       simple_regret_exact_13[slice9],\n",
        "       simple_regret_exact_14[slice9],\n",
        "       simple_regret_exact_15[slice9],\n",
        "       simple_regret_exact_16[slice9],\n",
        "       simple_regret_exact_17[slice9],\n",
        "       simple_regret_exact_18[slice9],\n",
        "       simple_regret_exact_19[slice9],\n",
        "       simple_regret_exact_20[slice9]]\n",
        "\n",
        "approx9_results = pd.DataFrame(approx9).sort_values(by=[0], ascending=False)\n",
        "exact9_results = pd.DataFrame(exact9).sort_values(by=[0], ascending=False)\n",
        "\n",
        "### Best simple regret minimization IQR - approx:\n",
        "lower_approx9 = np.asarray(approx9_results[4:5][0])[0]\n",
        "median_approx9 = np.asarray(approx9_results[9:10][0])[0]\n",
        "upper_approx9 = np.asarray(approx9_results[14:15][0])[0]\n",
        "\n",
        "lower_exact9 = np.asarray(exact9_results[4:5][0])[0]\n",
        "median_exact9 = np.asarray(exact9_results[9:10][0])[0]\n",
        "upper_exact9 = np.asarray(exact9_results[14:15][0])[0]"
      ],
      "execution_count": 92,
      "outputs": []
    },
    {
      "cell_type": "code",
      "metadata": {
        "id": "OQkCCOsPQxf9"
      },
      "source": [
        "# Iteration19 :\n",
        "\n",
        "slice19 = 18\n",
        "\n",
        "approx19 = [simple_regret_approx_1[slice19],\n",
        "       simple_regret_approx_2[slice19],\n",
        "       simple_regret_approx_3[slice19],\n",
        "       simple_regret_approx_4[slice19],\n",
        "       simple_regret_approx_5[slice19],\n",
        "       simple_regret_approx_6[slice19],\n",
        "       simple_regret_approx_7[slice19],\n",
        "       simple_regret_approx_8[slice19],\n",
        "       simple_regret_approx_9[slice19],\n",
        "       simple_regret_approx_10[slice19],\n",
        "       simple_regret_approx_11[slice19],\n",
        "       simple_regret_approx_12[slice19],\n",
        "       simple_regret_approx_13[slice19],\n",
        "       simple_regret_approx_14[slice19],\n",
        "       simple_regret_approx_15[slice19],\n",
        "       simple_regret_approx_16[slice19],\n",
        "       simple_regret_approx_17[slice19],\n",
        "       simple_regret_approx_18[slice19],\n",
        "       simple_regret_approx_19[slice19],\n",
        "       simple_regret_approx_20[slice19]]\n",
        "\n",
        "exact19 = [simple_regret_exact_1[slice19],\n",
        "       simple_regret_exact_2[slice19],\n",
        "       simple_regret_exact_3[slice19],\n",
        "       simple_regret_exact_4[slice19],\n",
        "       simple_regret_exact_5[slice19],\n",
        "       simple_regret_exact_6[slice19],\n",
        "       simple_regret_exact_7[slice19],\n",
        "       simple_regret_exact_8[slice19],\n",
        "       simple_regret_exact_9[slice19],\n",
        "       simple_regret_exact_10[slice19],\n",
        "       simple_regret_exact_11[slice19],\n",
        "       simple_regret_exact_12[slice19],\n",
        "       simple_regret_exact_13[slice19],\n",
        "       simple_regret_exact_14[slice19],\n",
        "       simple_regret_exact_15[slice19],\n",
        "       simple_regret_exact_16[slice19],\n",
        "       simple_regret_exact_17[slice19],\n",
        "       simple_regret_exact_18[slice19],\n",
        "       simple_regret_exact_19[slice19],\n",
        "       simple_regret_exact_20[slice19]]\n",
        "\n",
        "approx19_results = pd.DataFrame(approx19).sort_values(by=[0], ascending=False)\n",
        "exact19_results = pd.DataFrame(exact19).sort_values(by=[0], ascending=False)\n",
        "\n",
        "### Best simple regret minimization IQR - approx:\n",
        "lower_approx19 = np.asarray(approx19_results[4:5][0])[0]\n",
        "median_approx19 = np.asarray(approx19_results[9:10][0])[0]\n",
        "upper_approx19 = np.asarray(approx19_results[14:15][0])[0]\n",
        "\n",
        "lower_exact19 = np.asarray(exact19_results[4:5][0])[0]\n",
        "median_exact19 = np.asarray(exact19_results[9:10][0])[0]\n",
        "upper_exact19 = np.asarray(exact19_results[14:15][0])[0]"
      ],
      "execution_count": 93,
      "outputs": []
    },
    {
      "cell_type": "code",
      "metadata": {
        "id": "h4vtWahcQxf-"
      },
      "source": [
        "# Iteration10 :\n",
        "\n",
        "slice10 = 9\n",
        "\n",
        "approx10 = [simple_regret_approx_1[slice10],\n",
        "       simple_regret_approx_2[slice10],\n",
        "       simple_regret_approx_3[slice10],\n",
        "       simple_regret_approx_4[slice10],\n",
        "       simple_regret_approx_5[slice10],\n",
        "       simple_regret_approx_6[slice10],\n",
        "       simple_regret_approx_7[slice10],\n",
        "       simple_regret_approx_8[slice10],\n",
        "       simple_regret_approx_9[slice10],\n",
        "       simple_regret_approx_10[slice10],\n",
        "       simple_regret_approx_11[slice10],\n",
        "       simple_regret_approx_12[slice10],\n",
        "       simple_regret_approx_13[slice10],\n",
        "       simple_regret_approx_14[slice10],\n",
        "       simple_regret_approx_15[slice10],\n",
        "       simple_regret_approx_16[slice10],\n",
        "       simple_regret_approx_17[slice10],\n",
        "       simple_regret_approx_18[slice10],\n",
        "       simple_regret_approx_19[slice10],\n",
        "       simple_regret_approx_20[slice10]]\n",
        "\n",
        "exact10 = [simple_regret_exact_1[slice10],\n",
        "       simple_regret_exact_2[slice10],\n",
        "       simple_regret_exact_3[slice10],\n",
        "       simple_regret_exact_4[slice10],\n",
        "       simple_regret_exact_5[slice10],\n",
        "       simple_regret_exact_6[slice10],\n",
        "       simple_regret_exact_7[slice10],\n",
        "       simple_regret_exact_8[slice10],\n",
        "       simple_regret_exact_9[slice10],\n",
        "       simple_regret_exact_10[slice10],\n",
        "       simple_regret_exact_11[slice10],\n",
        "       simple_regret_exact_12[slice10],\n",
        "       simple_regret_exact_13[slice10],\n",
        "       simple_regret_exact_14[slice10],\n",
        "       simple_regret_exact_15[slice10],\n",
        "       simple_regret_exact_16[slice10],\n",
        "       simple_regret_exact_17[slice10],\n",
        "       simple_regret_exact_18[slice10],\n",
        "       simple_regret_exact_19[slice10],\n",
        "       simple_regret_exact_20[slice10]]\n",
        "\n",
        "approx10_results = pd.DataFrame(approx10).sort_values(by=[0], ascending=False)\n",
        "exact10_results = pd.DataFrame(exact10).sort_values(by=[0], ascending=False)\n",
        "\n",
        "### Best simple regret minimization IQR - approx:\n",
        "lower_approx10 = np.asarray(approx10_results[4:5][0])[0]\n",
        "median_approx10 = np.asarray(approx10_results[9:10][0])[0]\n",
        "upper_approx10 = np.asarray(approx10_results[14:15][0])[0]\n",
        "\n",
        "lower_exact10 = np.asarray(exact10_results[4:5][0])[0]\n",
        "median_exact10 = np.asarray(exact10_results[9:10][0])[0]\n",
        "upper_exact10 = np.asarray(exact10_results[14:15][0])[0]"
      ],
      "execution_count": 94,
      "outputs": []
    },
    {
      "cell_type": "code",
      "metadata": {
        "id": "Rsf240pWQxf-"
      },
      "source": [
        "# Iteration20 :\n",
        "\n",
        "slice20 = 19\n",
        "\n",
        "approx20 = [simple_regret_approx_1[slice20],\n",
        "       simple_regret_approx_2[slice20],\n",
        "       simple_regret_approx_3[slice20],\n",
        "       simple_regret_approx_4[slice20],\n",
        "       simple_regret_approx_5[slice20],\n",
        "       simple_regret_approx_6[slice20],\n",
        "       simple_regret_approx_7[slice20],\n",
        "       simple_regret_approx_8[slice20],\n",
        "       simple_regret_approx_9[slice20],\n",
        "       simple_regret_approx_10[slice20],\n",
        "       simple_regret_approx_11[slice20],\n",
        "       simple_regret_approx_12[slice20],\n",
        "       simple_regret_approx_13[slice20],\n",
        "       simple_regret_approx_14[slice20],\n",
        "       simple_regret_approx_15[slice20],\n",
        "       simple_regret_approx_16[slice20],\n",
        "       simple_regret_approx_17[slice20],\n",
        "       simple_regret_approx_18[slice20],\n",
        "       simple_regret_approx_19[slice20],\n",
        "       simple_regret_approx_20[slice20]]\n",
        "\n",
        "exact20 = [simple_regret_exact_1[slice20],\n",
        "       simple_regret_exact_2[slice20],\n",
        "       simple_regret_exact_3[slice20],\n",
        "       simple_regret_exact_4[slice20],\n",
        "       simple_regret_exact_5[slice20],\n",
        "       simple_regret_exact_6[slice20],\n",
        "       simple_regret_exact_7[slice20],\n",
        "       simple_regret_exact_8[slice20],\n",
        "       simple_regret_exact_9[slice20],\n",
        "       simple_regret_exact_10[slice20],\n",
        "       simple_regret_exact_11[slice20],\n",
        "       simple_regret_exact_12[slice20],\n",
        "       simple_regret_exact_13[slice20],\n",
        "       simple_regret_exact_14[slice20],\n",
        "       simple_regret_exact_15[slice20],\n",
        "       simple_regret_exact_16[slice20],\n",
        "       simple_regret_exact_17[slice20],\n",
        "       simple_regret_exact_18[slice20],\n",
        "       simple_regret_exact_19[slice20],\n",
        "       simple_regret_exact_20[slice20]]\n",
        "\n",
        "approx20_results = pd.DataFrame(approx20).sort_values(by=[0], ascending=False)\n",
        "exact20_results = pd.DataFrame(exact20).sort_values(by=[0], ascending=False)\n",
        "\n",
        "### Best simple regret minimization IQR - approx:\n",
        "lower_approx20 = np.asarray(approx20_results[4:5][0])[0]\n",
        "median_approx20 = np.asarray(approx20_results[9:10][0])[0]\n",
        "upper_approx20 = np.asarray(approx20_results[14:15][0])[0]\n",
        "\n",
        "lower_exact20 = np.asarray(exact20_results[4:5][0])[0]\n",
        "median_exact20 = np.asarray(exact20_results[9:10][0])[0]\n",
        "upper_exact20 = np.asarray(exact20_results[14:15][0])[0]"
      ],
      "execution_count": 95,
      "outputs": []
    },
    {
      "cell_type": "code",
      "metadata": {
        "id": "gn36RejbQxf_"
      },
      "source": [
        "### Summarize arrays: 'Loser'\n",
        "\n",
        "lower_approx = [lower_approx1,\n",
        "            lower_approx2,\n",
        "            lower_approx3,\n",
        "            lower_approx4,\n",
        "            lower_approx5,\n",
        "            lower_approx6,\n",
        "            lower_approx7,\n",
        "            lower_approx8,\n",
        "            lower_approx9,\n",
        "            lower_approx10,\n",
        "            lower_approx11,\n",
        "            lower_approx12,\n",
        "            lower_approx13,\n",
        "            lower_approx14,\n",
        "            lower_approx15,\n",
        "            lower_approx16,\n",
        "            lower_approx17,\n",
        "            lower_approx18,\n",
        "            lower_approx19,\n",
        "            lower_approx20,\n",
        "            lower_approx21]\n",
        "\n",
        "median_approx = [median_approx1,\n",
        "            median_approx2,\n",
        "            median_approx3,\n",
        "            median_approx4,\n",
        "            median_approx5,\n",
        "            median_approx6,\n",
        "            median_approx7,\n",
        "            median_approx8,\n",
        "            median_approx9,\n",
        "            median_approx10,\n",
        "            median_approx11,\n",
        "            median_approx12,\n",
        "            median_approx13,\n",
        "            median_approx14,\n",
        "            median_approx15,\n",
        "            median_approx16,\n",
        "            median_approx17,\n",
        "            median_approx18,\n",
        "            median_approx19,\n",
        "            median_approx20,\n",
        "            median_approx21]\n",
        "\n",
        "upper_approx = [upper_approx1,\n",
        "            upper_approx2,\n",
        "            upper_approx3,\n",
        "            upper_approx4,\n",
        "            upper_approx5,\n",
        "            upper_approx6,\n",
        "            upper_approx7,\n",
        "            upper_approx8,\n",
        "            upper_approx9,\n",
        "            upper_approx10,\n",
        "            upper_approx11,\n",
        "            upper_approx12,\n",
        "            upper_approx13,\n",
        "            upper_approx14,\n",
        "            upper_approx15,\n",
        "            upper_approx16,\n",
        "            upper_approx17,\n",
        "            upper_approx18,\n",
        "            upper_approx19,\n",
        "            upper_approx20,\n",
        "            upper_approx21]"
      ],
      "execution_count": 96,
      "outputs": []
    },
    {
      "cell_type": "code",
      "metadata": {
        "id": "wxtGTOYfQxf_"
      },
      "source": [
        "### Summarize arrays: 'exact'\n",
        "\n",
        "lower_exact = [lower_exact1,\n",
        "            lower_exact2,\n",
        "            lower_exact3,\n",
        "            lower_exact4,\n",
        "            lower_exact5,\n",
        "            lower_exact6,\n",
        "            lower_exact7,\n",
        "            lower_exact8,\n",
        "            lower_exact9,\n",
        "            lower_exact10,\n",
        "            lower_exact11,\n",
        "            lower_exact12,\n",
        "            lower_exact13,\n",
        "            lower_exact14,\n",
        "            lower_exact15,\n",
        "            lower_exact16,\n",
        "            lower_exact17,\n",
        "            lower_exact18,\n",
        "            lower_exact19,\n",
        "            lower_exact20,\n",
        "            lower_exact21]\n",
        "\n",
        "median_exact = [median_exact1,\n",
        "            median_exact2,\n",
        "            median_exact3,\n",
        "            median_exact4,\n",
        "            median_exact5,\n",
        "            median_exact6,\n",
        "            median_exact7,\n",
        "            median_exact8,\n",
        "            median_exact9,\n",
        "            median_exact10,\n",
        "            median_exact11,\n",
        "            median_exact12,\n",
        "            median_exact13,\n",
        "            median_exact14,\n",
        "            median_exact15,\n",
        "            median_exact16,\n",
        "            median_exact17,\n",
        "            median_exact18,\n",
        "            median_exact19,\n",
        "            median_exact20,\n",
        "            median_exact21]\n",
        "\n",
        "upper_exact = [upper_exact1,\n",
        "            upper_exact2,\n",
        "            upper_exact3,\n",
        "            upper_exact4,\n",
        "            upper_exact5,\n",
        "            upper_exact6,\n",
        "            upper_exact7,\n",
        "            upper_exact8,\n",
        "            upper_exact9,\n",
        "            upper_exact10,\n",
        "            upper_exact11,\n",
        "            upper_exact12,\n",
        "            upper_exact13,\n",
        "            upper_exact14,\n",
        "            upper_exact15,\n",
        "            upper_exact16,\n",
        "            upper_exact17,\n",
        "            upper_exact18,\n",
        "            upper_exact19,\n",
        "            upper_exact20,\n",
        "            upper_exact21]"
      ],
      "execution_count": 97,
      "outputs": []
    },
    {
      "cell_type": "code",
      "metadata": {
        "id": "2MONq-BXQxgA",
        "colab": {
          "base_uri": "https://localhost:8080/",
          "height": 299
        },
        "outputId": "18f8d525-10ee-4600-f588-5c3a20c56834"
      },
      "source": [
        "### Visualise!\n",
        "\n",
        "title = func\n",
        "plt.figure()\n",
        "\n",
        "plt.plot(median_approx, color = 'Green')\n",
        "plt.plot(median_exact, color = 'Blue')\n",
        "\n",
        "xstar = np.arange(0, iters+1, step=1)\n",
        "plt.fill_between(xstar, lower_approx, upper_approx, facecolor = 'Green', alpha=0.4, label='GP ERM Optimization: Approx GP ERM gradients')\n",
        "plt.fill_between(xstar, lower_exact, upper_exact, facecolor = 'Blue', alpha=0.4, label='GP ERM Optimization: Exact GP dERM gradients')\n",
        "\n",
        "plt.title(title, weight = 'bold')\n",
        "plt.xlabel('(Post-initialization) iteration $\\it{k}$', weight = 'bold')\n",
        "plt.ylabel('log(Regret)', weight = 'bold') \n",
        "plt.legend(loc=1) # add plot legend\n",
        "\n",
        "### Make the x-ticks integers, not floats:\n",
        "count = len(xstar)\n",
        "plt.xticks(np.arange(count), np.arange(0, count))\n",
        "plt.show() #visualize!"
      ],
      "execution_count": 98,
      "outputs": [
        {
          "output_type": "display_data",
          "data": {
            "text/plain": [
              "<Figure size 432x288 with 1 Axes>"
            ],
            "image/png": "[encoded data removed]"
          },
          "metadata": {
            "needs_background": "light"
          }
        }
      ]
    },
    {
      "cell_type": "code",
      "metadata": {
        "id": "l5dkR2Id2oiu",
        "colab": {
          "base_uri": "https://localhost:8080/"
        },
        "outputId": "fb531b22-9238-40f0-8953-317de62dac71"
      },
      "source": [
        "time_approx, time_exact\n"
      ],
      "execution_count": 99,
      "outputs": [
        {
          "output_type": "execute_result",
          "data": {
            "text/plain": [
              "(145.5754532814026, 249.6956992149353)"
            ]
          },
          "metadata": {},
          "execution_count": 99
        }
      ]
    },
    {
      "cell_type": "code",
      "source": [
        "exact21_results, exact21_results[19:20].index[0]\n"
      ],
      "metadata": {
        "colab": {
          "base_uri": "https://localhost:8080/"
        },
        "id": "0i4IbAcyB7-l",
        "outputId": "8dfa3fb7-c2f1-4258-95ec-7b27a992e44c"
      },
      "execution_count": 100,
      "outputs": [
        {
          "output_type": "execute_result",
          "data": {
            "text/plain": [
              "(           0\n",
              " 14  2.949887\n",
              " 13  2.943132\n",
              " 18  2.867080\n",
              " 12  2.796942\n",
              " 3   2.634900\n",
              " 10  2.543125\n",
              " 5   2.540468\n",
              " 6   2.522654\n",
              " 4   2.467486\n",
              " 16  2.394046\n",
              " 17  2.346572\n",
              " 19  2.319982\n",
              " 9   2.233255\n",
              " 0   2.138347\n",
              " 8   2.124899\n",
              " 15  2.107962\n",
              " 7   1.956252\n",
              " 11  1.687010\n",
              " 1   0.570060\n",
              " 2  -0.157181, 2)"
            ]
          },
          "metadata": {},
          "execution_count": 100
        }
      ]
    },
    {
      "cell_type": "code",
      "source": [
        "str_exact = str(exact21_results[19:20].index[0]+1)\n",
        "str_exact\n"
      ],
      "metadata": {
        "colab": {
          "base_uri": "https://localhost:8080/",
          "height": 35
        },
        "id": "12lIvjCoBr7y",
        "outputId": "d95cd8f1-9814-42fd-e11e-e5e29e214c1f"
      },
      "execution_count": 101,
      "outputs": [
        {
          "output_type": "execute_result",
          "data": {
            "text/plain": [
              "'3'"
            ],
            "application/vnd.google.colaboratory.intrinsic+json": {
              "type": "string"
            }
          },
          "metadata": {},
          "execution_count": 101
        }
      ]
    },
    {
      "cell_type": "code",
      "source": [
        "eval_exactMinIQR_vsCorrApproxExperiment = eval('approx_' + str_exact)\n",
        "eval_exactMinIQR_vsCorrApproxExperiment_maxAcqFunc = eval_exactMinIQR_vsCorrApproxExperiment.history[eval_exactMinIQR_vsCorrApproxExperiment.history.index(eval_exactMinIQR_vsCorrApproxExperiment.tau)-1]\n",
        "eval_exactMinIQR_vsCorrApproxExperiment_simpleRegret = np.log(-eval_exactMinIQR_vsCorrApproxExperiment.tau + y_global_orig)\n",
        "\n",
        "eval_exactMinIQR_vsCorrApproxExperiment.tau, eval_exactMinIQR_vsCorrApproxExperiment_maxAcqFunc, eval_exactMinIQR_vsCorrApproxExperiment_simpleRegret\n"
      ],
      "metadata": {
        "colab": {
          "base_uri": "https://localhost:8080/"
        },
        "id": "O3sQFv0hpuNI",
        "outputId": "74429c88-311c-4292-947a-c46e11ff5dca"
      },
      "execution_count": 102,
      "outputs": [
        {
          "output_type": "execute_result",
          "data": {
            "text/plain": [
              "(-10.607662635789808, -10.607662635789808, 2.361576630127625)"
            ]
          },
          "metadata": {},
          "execution_count": 102
        }
      ]
    },
    {
      "cell_type": "code",
      "source": [
        "### Final iteration: best \"approx\" experiment results (as above)\n",
        "\n",
        "np.random.seed(int(str_exact))\n",
        "eval_exactMinIQR_vsCorrApproxExperiment.run(init_evals=n_init, max_iter=iters)\n"
      ],
      "metadata": {
        "id": "DKvmmlRoTnvC",
        "colab": {
          "base_uri": "https://localhost:8080/"
        },
        "outputId": "9f4e2613-423d-4a9f-84e7-e992b6cedf13"
      },
      "execution_count": 103,
      "outputs": [
        {
          "output_type": "stream",
          "name": "stdout",
          "text": [
            "Evaluation \t Proposed point \t  Current eval. \t  Best eval. \t         Max AcqFunc.\n",
            "init\t [0.52017052 2.1314337 ]\t -27.953858411008774\t -10.607662635789808\t    \n",
            "init\t [-2.14113547  0.11087468]\t -10.607662635789808\t -10.607662635789808\t    \n",
            "init\t [4.02377681 4.05804123]\t -33.42749829480097\t -10.607662635789808\t    \n",
            "init\t [-3.83400642 -2.99783293]\t -28.650953928965198\t -10.607662635789808\t    \n",
            "init\t [-4.59297584 -0.6061072 ]\t -57.6631355589384\t -10.607662635789808\t    \n",
            "1  \t [ 5.12 -5.12]\t -57.849427451571785\t -10.607662635789808\t -0.7978846605384285\n",
            "2  \t [-4.61904204  5.12      ]\t -67.59102009462822\t -10.607662635789808\t -0.7978830439313692\n",
            "3  \t [ 5.12       -0.40159891]\t -47.234806525771404\t -10.607662635789808\t -0.7974458540787913\n",
            "4  \t [ 0.29071736 -5.12      ]\t -41.53976060750644\t -10.607662635789808\t -0.7976140522106314\n",
            "5  \t [ 1.34927722 -1.51093783]\t -39.92092770530185\t -10.607662635789808\t -0.7760872529847889\n",
            "6  \t [-0.80321914  5.12      ]\t -36.28798476592165\t -10.607662635789808\t -0.7535890720026315\n",
            "7  \t [-2.83254218  2.46988966]\t -38.98833245013012\t -10.607662635789808\t -0.5317605038188167\n",
            "8  \t [-5.12 -5.12]\t -57.849427451571785\t -10.607662635789808\t -0.5212271614486064\n",
            "9  \t [-1.2919301  -2.45233502]\t -39.84208242702125\t -10.607662635789808\t -0.3543302035212446\n",
            "10 \t [2.99550783 1.38871497]\t -28.55899513730704\t -10.607662635789808\t -0.29903824367051934\n",
            "11 \t [ 2.85586117 -3.62592372]\t -42.161439892553624\t -10.607662635789808\t -0.22548811004624703\n",
            "12 \t [-2.30541057 -5.12      ]\t -47.65127144412112\t -10.607662635789808\t -0.16665981063577534\n",
            "13 \t [-5.12        2.15780817]\t -38.10681530022745\t -10.607662635789808\t -0.12948245944002418\n",
            "14 \t [1.78454005 5.12      ]\t -39.95607685411203\t -10.607662635789808\t -0.2663333047010787\n",
            "15 \t [5.12       2.19509185]\t -40.36119305583071\t -10.607662635789808\t -0.03625576904754013\n",
            "16 \t [-0.59568875  0.19929885]\t -25.508930911238746\t -10.607662635789808\t -0.026793447670990456\n",
            "17 \t [-0.87023704  3.35303777]\t -31.17504276010481\t -10.607662635789808\t -8.722279219212762e-06\n",
            "18 \t [ 5.12       -2.64157807]\t -52.200177622673124\t -10.607662635789808\t -0.01310752809609178\n",
            "19 \t [5.12 5.12]\t -57.849427451571785\t -10.607662635789808\t -0.003096997580176338\n",
            "20 \t [2.4519435  2.74120935]\t -43.62589778780009\t -10.607662635789808\t -1.2636585453289877e-06\n"
          ]
        }
      ]
    },
    {
      "cell_type": "code",
      "source": [
        "eval_exactMinIQR_vsCorrApproxExperiment.x_best, np.round(eval_exactMinIQR_vsCorrApproxExperiment.f_best, 2), eval_exactMinIQR_vsCorrApproxExperiment.best, eval_exactMinIQR_vsCorrApproxExperiment.x_best[np.argmin(eval_exactMinIQR_vsCorrApproxExperiment.f_best)] #### i.e. minAcqFunc returned\n"
      ],
      "metadata": {
        "colab": {
          "base_uri": "https://localhost:8080/"
        },
        "id": "tDHS__-Q_WLT",
        "outputId": "6c17c9aa-ecbb-41eb-9d3f-14ad5a2a7a3f"
      },
      "execution_count": 104,
      "outputs": [
        {
          "output_type": "execute_result",
          "data": {
            "text/plain": [
              "(array([[-1.26498569, -0.60441012],\n",
              "        [ 2.11970448, -4.5156753 ],\n",
              "        [-2.74938982,  2.04384954],\n",
              "        [ 2.13861974,  0.73988516],\n",
              "        [-2.44229021, -2.81105375],\n",
              "        [ 0.34242049, -2.42007088],\n",
              "        [ 2.4519435 ,  2.74120935],\n",
              "        [ 2.24632233,  1.32231075],\n",
              "        [ 4.02805526,  0.53879139],\n",
              "        [-2.23179425, -2.68529055],\n",
              "        [-4.0950846 ,  1.20579612],\n",
              "        [ 2.71563985,  1.12907782],\n",
              "        [-3.76415304,  2.05981458],\n",
              "        [ 2.44896681, -1.3424912 ],\n",
              "        [ 0.4846146 , -4.33049605],\n",
              "        [ 1.00947   , -4.92907595],\n",
              "        [-1.55501095,  3.164232  ],\n",
              "        [ 1.31868059, -1.28112651],\n",
              "        [ 4.23732641,  1.30211634],\n",
              "        [ 4.39987335, -0.10964324]]),\n",
              " array([-0., -0., -0., -0., -0., -0., -0., -0., -0., -0., -0., -0., -0.,\n",
              "        -0., -0., -0., -0., -0., -0., -0.]),\n",
              " array([2.4519435 , 2.74120935]),\n",
              " array([2.4519435 , 2.74120935]))"
            ]
          },
          "metadata": {},
          "execution_count": 104
        }
      ]
    },
    {
      "cell_type": "code",
      "source": [
        "eval_exactMinIQR = eval('exact_' + str_exact)\n",
        "eval_exactMinIQR_maxAcqFunc = eval_exactMinIQR.history[eval_exactMinIQR.history.index(eval_exactMinIQR.tau)-1]\n",
        "eval_exactMinIQR_simpleRegret  = np.log(-eval_exactMinIQR.tau + y_global_orig)\n",
        "\n",
        "eval_exactMinIQR.tau, eval_exactMinIQR_maxAcqFunc, eval_exactMinIQR_simpleRegret\n"
      ],
      "metadata": {
        "colab": {
          "base_uri": "https://localhost:8080/"
        },
        "id": "M4bxQTTWCXFZ",
        "outputId": "eaa6c72d-42e3-4766-9f6e-3ed14fecd340"
      },
      "execution_count": 105,
      "outputs": [
        {
          "output_type": "execute_result",
          "data": {
            "text/plain": [
              "(-0.8545497697986626, -0.009427232205568011, -0.15718053377076996)"
            ]
          },
          "metadata": {},
          "execution_count": 105
        }
      ]
    },
    {
      "cell_type": "code",
      "source": [
        "### Final iteration: best \"exact\" experiment results (as above)\n",
        "\n",
        "np.random.seed(int(str_exact))\n",
        "eval_exactMinIQR.run(init_evals=n_init, max_iter=iters)\n"
      ],
      "metadata": {
        "colab": {
          "base_uri": "https://localhost:8080/"
        },
        "id": "WeKb1o143nLW",
        "outputId": "0bf0d8f8-18d0-4a37-b3d2-afeb1db31979"
      },
      "execution_count": 106,
      "outputs": [
        {
          "output_type": "stream",
          "name": "stdout",
          "text": [
            "Evaluation \t Proposed point \t  Current eval. \t  Best eval. \t         Max AcqFunc.\n",
            "init\t [0.52017052 2.1314337 ]\t -27.953858411008774\t -10.607662635789808\t    \n",
            "init\t [-2.14113547  0.11087468]\t -10.607662635789808\t -10.607662635789808\t    \n",
            "init\t [4.02377681 4.05804123]\t -33.42749829480097\t -10.607662635789808\t    \n",
            "init\t [-3.83400642 -2.99783293]\t -28.650953928965198\t -10.607662635789808\t    \n",
            "init\t [-4.59297584 -0.6061072 ]\t -57.6631355589384\t -10.607662635789808\t    \n",
            "1  \t [ 1.80565001 -3.04761061]\t -19.5666404549755\t -10.607662635789808\t -0.7978724620298179\n",
            "2  \t [-3.57871734  4.80548253]\t -61.28559802785699\t -10.607662635789808\t -0.7978231340014964\n",
            "3  \t [ 5.12       -0.22832109]\t -37.61892634098497\t -10.607662635789808\t -0.7970260591446935\n",
            "4  \t [-0.98127961 -5.12      ]\t -29.95672032642291\t -10.607662635789808\t -0.774028581846278\n",
            "5  \t [-0.58862849 -1.88989711]\t -24.706324384530227\t -10.607662635789808\t -0.5350977103108296\n",
            "6  \t [ 5.12       -4.57451492]\t -68.77476117581722\t -10.607662635789808\t -0.7910056722043767\n",
            "7  \t [0.4944958 5.12     ]\t -49.16326018401635\t -10.607662635789808\t -0.7080745344874507\n",
            "8  \t [-5.12 -5.12]\t -57.849427451571785\t -10.607662635789808\t -0.520687966509444\n",
            "9  \t [ 2.19890773 -0.28681017]\t -24.054373884350923\t -10.607662635789808\t -0.4925373441946015\n",
            "10 \t [ 1.75941138 -5.12      ]\t -41.42925230030146\t -10.607662635789808\t -0.24797367699807307\n",
            "11 \t [-3.39977026  2.05271234]\t -34.39721900759886\t -10.607662635789808\t -0.28442188045178146\n",
            "12 \t [3.55221499 1.72190511]\t -46.80592773587877\t -10.607662635789808\t -0.09625757003739084\n",
            "13 \t [-5.12        2.42645644]\t -53.76364125815871\t -10.607662635789808\t -0.010692168466980997\n",
            "\u001b[1m\u001b[92m14\u001b[0m\t \u001b[1m\u001b[92m[ 0.05554451 -0.0354738 ]\u001b[0m\t \u001b[1m\u001b[92m-0.8545497697986626\u001b[0m\t \u001b[1m\u001b[92m-0.8545497697986626\u001b[0m\t \u001b[1m\u001b[92m-0.009427232205568011\u001b[0m\n",
            "15 \t [-0.77762468  0.49263945]\t -29.109693557668876\t -0.8545497697986626\t -0.05003365411182169\n",
            "16 \t [-1.31047694  3.19028349]\t -31.939671669882696\t -0.8545497697986626\t -0.018135682859853234\n",
            "17 \t [-1.76662932 -3.50338493]\t -44.349472669156285\t -0.8545497697986626\t -0.0007094105588418807\n",
            "18 \t [ 3.94503891 -2.31569648]\t -35.527749516000576\t -0.8545497697986626\t -0.03719706509812697\n",
            "19 \t [5.12 5.12]\t -57.849427451571785\t -0.8545497697986626\t -0.0034378870986811055\n",
            "20 \t [ 1.10141669 -1.49839041]\t -25.42025157158831\t -0.8545497697986626\t -0.00019152714715583188\n"
          ]
        }
      ]
    },
    {
      "cell_type": "code",
      "source": [
        "eval_exactMinIQR.x_best, np.round(eval_exactMinIQR.f_best, 2), eval_exactMinIQR.best, eval_exactMinIQR.x_best[np.argmin(eval_exactMinIQR.f_best)] #### i.e. minAcqFunc returned, then multiply by -1 (NB!)\n"
      ],
      "metadata": {
        "colab": {
          "base_uri": "https://localhost:8080/"
        },
        "id": "c0IIOZ-bID_G",
        "outputId": "139c27a7-f067-42c4-f0b8-e4b6bed20fc8"
      },
      "execution_count": 107,
      "outputs": [
        {
          "output_type": "execute_result",
          "data": {
            "text/plain": [
              "(array([[-1.26498569, -0.60441012],\n",
              "        [ 2.11970448, -4.5156753 ],\n",
              "        [-2.74938982,  2.04384954],\n",
              "        [ 2.13861974,  0.73988516],\n",
              "        [-2.44229021, -2.81105375],\n",
              "        [ 0.34242049, -2.42007088],\n",
              "        [ 2.45195069,  2.74119811],\n",
              "        [ 2.24632233,  1.32231075],\n",
              "        [ 4.02805526,  0.53879139],\n",
              "        [-2.23179425, -2.68529055],\n",
              "        [-4.0950846 ,  1.20579612],\n",
              "        [ 2.71563985,  1.12907782],\n",
              "        [-3.76415304,  2.05981458],\n",
              "        [ 2.44896681, -1.3424912 ],\n",
              "        [ 0.4846146 , -4.33049605],\n",
              "        [ 1.00947   , -4.92907595],\n",
              "        [-1.55501095,  3.164232  ],\n",
              "        [ 1.10141669, -1.49839041],\n",
              "        [ 4.23732641,  1.30211634],\n",
              "        [ 4.39987335, -0.10964324]]),\n",
              " array([-0., -0., -0., -0., -0., -0., -0., -0., -0., -0., -0., -0., -0.,\n",
              "        -0., -0., -0., -0., -0., -0., -0.]),\n",
              " array([ 1.10141669, -1.49839041]),\n",
              " array([ 1.10141669, -1.49839041]))"
            ]
          },
          "metadata": {},
          "execution_count": 107
        }
      ]
    },
    {
      "cell_type": "code",
      "source": [
        "eval_exactMinIQR.tau > eval_exactMinIQR_vsCorrApproxExperiment.tau # Exact gradients' model: is y-value greater?"
      ],
      "metadata": {
        "colab": {
          "base_uri": "https://localhost:8080/"
        },
        "id": "RRSEL9F33mw_",
        "outputId": "5d75c218-d8d6-48bb-d91a-7e3cba018546"
      },
      "execution_count": 108,
      "outputs": [
        {
          "output_type": "execute_result",
          "data": {
            "text/plain": [
              "True"
            ]
          },
          "metadata": {},
          "execution_count": 108
        }
      ]
    },
    {
      "cell_type": "code",
      "source": [
        "eval_exactMinIQR_maxAcqFunc > eval_exactMinIQR_vsCorrApproxExperiment_maxAcqFunc # Exact gradients' model: is best AcqFunc greater?\n"
      ],
      "metadata": {
        "colab": {
          "base_uri": "https://localhost:8080/"
        },
        "id": "srZDKNlWGaUp",
        "outputId": "d2f24ef6-8a53-4a1e-abb3-a415f27444c3"
      },
      "execution_count": 109,
      "outputs": [
        {
          "output_type": "execute_result",
          "data": {
            "text/plain": [
              "True"
            ]
          },
          "metadata": {},
          "execution_count": 109
        }
      ]
    },
    {
      "cell_type": "code",
      "source": [
        "eval_exactMinIQR_simpleRegret < eval_exactMinIQR_vsCorrApproxExperiment_simpleRegret # Exact gradients' model: simple regret's natural log lower?\n"
      ],
      "metadata": {
        "colab": {
          "base_uri": "https://localhost:8080/"
        },
        "id": "TYkP-rneGab3",
        "outputId": "67284659-0ca2-42c5-d216-39b66965f191"
      },
      "execution_count": 110,
      "outputs": [
        {
          "output_type": "execute_result",
          "data": {
            "text/plain": [
              "True"
            ]
          },
          "metadata": {},
          "execution_count": 110
        }
      ]
    },
    {
      "cell_type": "code",
      "source": [
        "eval_exactMinIQR_maxAcqFunc, eval_exactMinIQR_vsCorrApproxExperiment_maxAcqFunc, eval_exactMinIQR_maxAcqFunc/eval_exactMinIQR_vsCorrApproxExperiment_maxAcqFunc\n"
      ],
      "metadata": {
        "id": "10rcQ55YGajh",
        "colab": {
          "base_uri": "https://localhost:8080/"
        },
        "outputId": "795dc68f-8bd1-4dac-fb02-3d7d249c846a"
      },
      "execution_count": 111,
      "outputs": [
        {
          "output_type": "execute_result",
          "data": {
            "text/plain": [
              "(-0.009427232205568011, -10.607662635789808, 0.0008887190825395339)"
            ]
          },
          "metadata": {},
          "execution_count": 111
        }
      ]
    },
    {
      "cell_type": "code",
      "source": [
        "### MaxAcqFunc Comparison: Approximate Gradients\n",
        "\n",
        "approx_1maxAcqFunc = approx_1.history[:-1][1::2]\n",
        "approx_2maxAcqFunc = approx_2.history[:-1][1::2]\n",
        "approx_3maxAcqFunc = approx_3.history[:-1][1::2]\n",
        "approx_4maxAcqFunc = approx_4.history[:-1][1::2]\n",
        "approx_5maxAcqFunc = approx_5.history[:-1][1::2]\n",
        "approx_6maxAcqFunc = approx_6.history[:-1][1::2]\n",
        "approx_7maxAcqFunc = approx_7.history[:-1][1::2]\n",
        "approx_8maxAcqFunc = approx_8.history[:-1][1::2]\n",
        "approx_9maxAcqFunc = approx_9.history[:-1][1::2]\n",
        "approx_10maxAcqFunc = approx_10.history[:-1][1::2]\n",
        "approx_11maxAcqFunc = approx_11.history[:-1][1::2]\n",
        "approx_12maxAcqFunc = approx_12.history[:-1][1::2]\n",
        "approx_13maxAcqFunc = approx_13.history[:-1][1::2]\n",
        "approx_14maxAcqFunc = approx_14.history[:-1][1::2]\n",
        "approx_15maxAcqFunc = approx_15.history[:-1][1::2]\n",
        "approx_16maxAcqFunc = approx_16.history[:-1][1::2]\n",
        "approx_17maxAcqFunc = approx_17.history[:-1][1::2]\n",
        "approx_18maxAcqFunc = approx_18.history[:-1][1::2]\n",
        "approx_19maxAcqFunc = approx_19.history[:-1][1::2]\n",
        "approx_20maxAcqFunc = approx_20.history[:-1][1::2]\n"
      ],
      "metadata": {
        "id": "rN6LmSIqhYDb"
      },
      "execution_count": 112,
      "outputs": []
    },
    {
      "cell_type": "code",
      "source": [
        "### MaxAcqFunc Comparison: Exact Gradients\n",
        "\n",
        "exact_1maxAcqFunc = exact_1.history[:-1][1::2]\n",
        "exact_2maxAcqFunc = exact_2.history[:-1][1::2]\n",
        "exact_3maxAcqFunc = exact_3.history[:-1][1::2]\n",
        "exact_4maxAcqFunc = exact_4.history[:-1][1::2]\n",
        "exact_5maxAcqFunc = exact_5.history[:-1][1::2]\n",
        "exact_6maxAcqFunc = exact_6.history[:-1][1::2]\n",
        "exact_7maxAcqFunc = exact_7.history[:-1][1::2]\n",
        "exact_8maxAcqFunc = exact_8.history[:-1][1::2]\n",
        "exact_9maxAcqFunc = exact_9.history[:-1][1::2]\n",
        "exact_10maxAcqFunc = exact_10.history[:-1][1::2]\n",
        "exact_11maxAcqFunc = exact_11.history[:-1][1::2]\n",
        "exact_12maxAcqFunc = exact_12.history[:-1][1::2]\n",
        "exact_13maxAcqFunc = exact_13.history[:-1][1::2]\n",
        "exact_14maxAcqFunc = exact_14.history[:-1][1::2]\n",
        "exact_15maxAcqFunc = exact_15.history[:-1][1::2]\n",
        "exact_16maxAcqFunc = exact_16.history[:-1][1::2]\n",
        "exact_17maxAcqFunc = exact_17.history[:-1][1::2]\n",
        "exact_18maxAcqFunc = exact_18.history[:-1][1::2]\n",
        "exact_19maxAcqFunc = exact_19.history[:-1][1::2]\n",
        "exact_20maxAcqFunc = exact_20.history[:-1][1::2]\n"
      ],
      "metadata": {
        "id": "8v_Qb1ZPiK1L"
      },
      "execution_count": 113,
      "outputs": []
    },
    {
      "cell_type": "code",
      "source": [
        "### MaxAcqFunc Comparison: Experiment 1\n",
        "\n",
        "maxAcqFuncApprox1 = np.mean(approx_1maxAcqFunc)\n",
        "maxAcqFuncExact1 = np.mean(exact_1maxAcqFunc)\n",
        "ratio1 = maxAcqFuncApprox1/maxAcqFuncExact1\n",
        "approx_1.tau, exact_1.tau, maxAcqFuncApprox1, maxAcqFuncExact1, ratio1\n"
      ],
      "metadata": {
        "colab": {
          "base_uri": "https://localhost:8080/"
        },
        "id": "lH13qO-JJfok",
        "outputId": "b04b9441-e819-4af7-9cb9-334a8e133c92"
      },
      "execution_count": 114,
      "outputs": [
        {
          "output_type": "execute_result",
          "data": {
            "text/plain": [
              "(-19.908403246996286,\n",
              " -8.48539809445838,\n",
              " -0.3941248922281386,\n",
              " -0.3750614805683139,\n",
              " 1.0508274313612231)"
            ]
          },
          "metadata": {},
          "execution_count": 114
        }
      ]
    },
    {
      "cell_type": "code",
      "source": [
        "### MaxAcqFunc Comparison: Experiment 2\n",
        "\n",
        "maxAcqFuncApprox2 = np.mean(approx_2maxAcqFunc)\n",
        "maxAcqFuncExact2 = np.mean(exact_2maxAcqFunc)\n",
        "ratio2 = maxAcqFuncApprox2/maxAcqFuncExact2\n",
        "approx_2.tau, exact_2.tau, maxAcqFuncApprox2, maxAcqFuncExact2, ratio2\n"
      ],
      "metadata": {
        "colab": {
          "base_uri": "https://localhost:8080/"
        },
        "id": "QWeVwVP_HPQb",
        "outputId": "c3f0eae8-0037-4b37-c152-fda34a9fe72b"
      },
      "execution_count": 115,
      "outputs": [
        {
          "output_type": "execute_result",
          "data": {
            "text/plain": [
              "(-14.910754530812259,\n",
              " -1.7683728100166523,\n",
              " -0.4245179408503922,\n",
              " -0.36135519620747464,\n",
              " 1.1747940677367545)"
            ]
          },
          "metadata": {},
          "execution_count": 115
        }
      ]
    },
    {
      "cell_type": "code",
      "source": [
        "### MaxAcqFunc Comparison: Experiment 3\n",
        "\n",
        "maxAcqFuncApprox3 = np.mean(approx_3maxAcqFunc)\n",
        "maxAcqFuncExact3 = np.mean(exact_3maxAcqFunc)\n",
        "ratio3 = maxAcqFuncApprox3/maxAcqFuncExact3\n",
        "approx_3.tau, exact_3.tau, maxAcqFuncApprox3, maxAcqFuncExact3, ratio3\n"
      ],
      "metadata": {
        "colab": {
          "base_uri": "https://localhost:8080/"
        },
        "id": "jgGLMx0RHPUA",
        "outputId": "3c924dd8-cbcb-4da5-a65d-c47e72c33115"
      },
      "execution_count": 116,
      "outputs": [
        {
          "output_type": "execute_result",
          "data": {
            "text/plain": [
              "(-10.607662635789808,\n",
              " -0.8545497697986626,\n",
              " -5.486183504428942,\n",
              " -4.015180168490313,\n",
              " 1.3663604805290015)"
            ]
          },
          "metadata": {},
          "execution_count": 116
        }
      ]
    },
    {
      "cell_type": "code",
      "source": [
        "### MaxAcqFunc Comparison: Experiment 4\n",
        "\n",
        "maxAcqFuncApprox4 = np.mean(approx_4maxAcqFunc)\n",
        "maxAcqFuncExact4 = np.mean(exact_4maxAcqFunc)\n",
        "ratio4 = maxAcqFuncApprox4/maxAcqFuncExact4\n",
        "approx_4.tau, exact_4.tau, maxAcqFuncApprox4, maxAcqFuncExact4, ratio4\n"
      ],
      "metadata": {
        "colab": {
          "base_uri": "https://localhost:8080/"
        },
        "id": "ml1c1t4SHPXV",
        "outputId": "63bab25b-bbcb-46f6-d139-ab79c3c7cd6b"
      },
      "execution_count": 117,
      "outputs": [
        {
          "output_type": "execute_result",
          "data": {
            "text/plain": [
              "(-6.439744068363192,\n",
              " -13.941922117758516,\n",
              " -0.40544490706197633,\n",
              " -0.37383854992366244,\n",
              " 1.084545473292596)"
            ]
          },
          "metadata": {},
          "execution_count": 117
        }
      ]
    },
    {
      "cell_type": "code",
      "source": [
        "### MaxAcqFunc Comparison: Experiment 5\n",
        "\n",
        "maxAcqFuncApprox5 = np.mean(approx_5maxAcqFunc)\n",
        "maxAcqFuncExact5 = np.mean(exact_5maxAcqFunc)\n",
        "ratio5 = maxAcqFuncApprox5/maxAcqFuncExact5\n",
        "approx_5.tau, exact_5.tau, maxAcqFuncApprox5, maxAcqFuncExact5, ratio5\n"
      ],
      "metadata": {
        "colab": {
          "base_uri": "https://localhost:8080/"
        },
        "id": "MLbsgyMiHPaf",
        "outputId": "32b2aa4b-8699-4ad6-97f8-d738d3cec964"
      },
      "execution_count": 118,
      "outputs": [
        {
          "output_type": "execute_result",
          "data": {
            "text/plain": [
              "(-6.197263568655913,\n",
              " -7.8108627039749745,\n",
              " -0.4337058688448912,\n",
              " -0.4119147370188915,\n",
              " 1.0529020446894095)"
            ]
          },
          "metadata": {},
          "execution_count": 118
        }
      ]
    },
    {
      "cell_type": "code",
      "source": [
        "### MaxAcqFunc Comparison: Experiment 6\n",
        "\n",
        "maxAcqFuncApprox6 = np.mean(approx_6maxAcqFunc)\n",
        "maxAcqFuncExact6 = np.mean(exact_6maxAcqFunc)\n",
        "ratio6 = maxAcqFuncApprox6/maxAcqFuncExact6\n",
        "approx_6.tau, exact_6.tau, maxAcqFuncApprox6, maxAcqFuncExact6, ratio6\n"
      ],
      "metadata": {
        "colab": {
          "base_uri": "https://localhost:8080/"
        },
        "id": "0H912oKjHPfu",
        "outputId": "67f3d137-b979-4b79-e098-941736bbf33c"
      },
      "execution_count": 119,
      "outputs": [
        {
          "output_type": "execute_result",
          "data": {
            "text/plain": [
              "(-16.759748844346507,\n",
              " -12.685607572376263,\n",
              " -0.3618763486276556,\n",
              " -0.3368964437613988,\n",
              " 1.0741471313480186)"
            ]
          },
          "metadata": {},
          "execution_count": 119
        }
      ]
    },
    {
      "cell_type": "code",
      "source": [
        "### MaxAcqFunc Comparison: Experiment 7\n",
        "\n",
        "maxAcqFuncApprox7 = np.mean(approx_7maxAcqFunc)\n",
        "maxAcqFuncExact7 = np.mean(exact_7maxAcqFunc)\n",
        "ratio7 = maxAcqFuncApprox7/maxAcqFuncExact7\n",
        "approx_7.tau, exact_7.tau, maxAcqFuncApprox7, maxAcqFuncExact7, ratio7\n"
      ],
      "metadata": {
        "colab": {
          "base_uri": "https://localhost:8080/"
        },
        "id": "qrh-IEZ3HPip",
        "outputId": "a219f0a7-1df3-44fa-9f67-a98f60436d00"
      },
      "execution_count": 120,
      "outputs": [
        {
          "output_type": "execute_result",
          "data": {
            "text/plain": [
              "(-12.769362746067559,\n",
              " -12.461625642827798,\n",
              " -0.35342834124815375,\n",
              " -0.29721688390235473,\n",
              " 1.1891260570656756)"
            ]
          },
          "metadata": {},
          "execution_count": 120
        }
      ]
    },
    {
      "cell_type": "code",
      "source": [
        "### MaxAcqFunc Comparison: Experiment 8\n",
        "\n",
        "maxAcqFuncApprox8 = np.mean(approx_8maxAcqFunc)\n",
        "maxAcqFuncExact8 = np.mean(exact_8maxAcqFunc)\n",
        "ratio8 = maxAcqFuncApprox8/maxAcqFuncExact8\n",
        "approx_8.tau, exact_8.tau, maxAcqFuncApprox8, maxAcqFuncExact8, ratio8\n"
      ],
      "metadata": {
        "colab": {
          "base_uri": "https://localhost:8080/"
        },
        "id": "UOp-jaflHPlz",
        "outputId": "5efd03b5-caed-4bc5-d5e3-619c40c37d01"
      },
      "execution_count": 121,
      "outputs": [
        {
          "output_type": "execute_result",
          "data": {
            "text/plain": [
              "(-13.871821018360485,\n",
              " -7.072766395688511,\n",
              " -0.34376202101684716,\n",
              " -0.36065944760232377,\n",
              " 0.9531485264068049)"
            ]
          },
          "metadata": {},
          "execution_count": 121
        }
      ]
    },
    {
      "cell_type": "code",
      "source": [
        "### MaxAcqFunc Comparison: Experiment 9\n",
        "\n",
        "maxAcqFuncApprox9 = np.mean(approx_9maxAcqFunc)\n",
        "maxAcqFuncExact9 = np.mean(exact_9maxAcqFunc)\n",
        "ratio9 = maxAcqFuncApprox9/maxAcqFuncExact9\n",
        "approx_9.tau, exact_9.tau, maxAcqFuncApprox9, maxAcqFuncExact9, ratio9\n"
      ],
      "metadata": {
        "colab": {
          "base_uri": "https://localhost:8080/"
        },
        "id": "myU75lI6HPo4",
        "outputId": "0ffce53a-4ce1-4468-d917-ce6eda207acb"
      },
      "execution_count": 122,
      "outputs": [
        {
          "output_type": "execute_result",
          "data": {
            "text/plain": [
              "(-15.61456315105384,\n",
              " -8.372049871726158,\n",
              " -0.388187883844548,\n",
              " -0.3799805199045735,\n",
              " 1.0215994334184175)"
            ]
          },
          "metadata": {},
          "execution_count": 122
        }
      ]
    },
    {
      "cell_type": "code",
      "source": [
        "### MaxAcqFunc Comparison: Experiment 10\n",
        "\n",
        "maxAcqFuncApprox10 = np.mean(approx_10maxAcqFunc)\n",
        "maxAcqFuncExact10 = np.mean(exact_10maxAcqFunc)\n",
        "ratio10 = maxAcqFuncApprox10/maxAcqFuncExact10\n",
        "approx_10.tau, exact_10.tau, maxAcqFuncApprox10, maxAcqFuncExact10, ratio10\n"
      ],
      "metadata": {
        "colab": {
          "base_uri": "https://localhost:8080/"
        },
        "id": "A3mo5UftHPsk",
        "outputId": "a25737c9-fcf5-4ca7-9251-c190ee9b070f"
      },
      "execution_count": 123,
      "outputs": [
        {
          "output_type": "execute_result",
          "data": {
            "text/plain": [
              "(-12.47679380872663,\n",
              " -9.330184102927806,\n",
              " -0.36345387352348285,\n",
              " -0.31072772511382624,\n",
              " 1.1696860117337193)"
            ]
          },
          "metadata": {},
          "execution_count": 123
        }
      ]
    },
    {
      "cell_type": "code",
      "source": [
        "### MaxAcqFunc Comparison: Experiment 11\n",
        "\n",
        "maxAcqFuncApprox11 = np.mean(approx_11maxAcqFunc)\n",
        "maxAcqFuncExact11 = np.mean(exact_11maxAcqFunc)\n",
        "ratio11 = maxAcqFuncApprox11/maxAcqFuncExact11\n",
        "approx_11.tau, exact_11.tau, maxAcqFuncApprox11, maxAcqFuncExact11, ratio11\n"
      ],
      "metadata": {
        "colab": {
          "base_uri": "https://localhost:8080/"
        },
        "id": "TaEOW6nLLEcx",
        "outputId": "4cf94eaf-bcae-47a3-a74a-a6c528549842"
      },
      "execution_count": 124,
      "outputs": [
        {
          "output_type": "execute_result",
          "data": {
            "text/plain": [
              "(-10.679755252484755,\n",
              " -10.679755252484755,\n",
              " -0.35326844950737785,\n",
              " -0.31121387218734436,\n",
              " 1.1351307929317414)"
            ]
          },
          "metadata": {},
          "execution_count": 124
        }
      ]
    },
    {
      "cell_type": "code",
      "source": [
        "### MaxAcqFunc Comparison: Experiment 12\n",
        "\n",
        "maxAcqFuncApprox12 = np.mean(approx_12maxAcqFunc)\n",
        "maxAcqFuncExact12 = np.mean(exact_12maxAcqFunc)\n",
        "ratio12 = maxAcqFuncApprox12/maxAcqFuncExact12\n",
        "approx_12.tau, exact_12.tau, maxAcqFuncApprox12, maxAcqFuncExact12, ratio12\n"
      ],
      "metadata": {
        "colab": {
          "base_uri": "https://localhost:8080/"
        },
        "id": "1KjJRPSwLE76",
        "outputId": "bf7670c2-4a70-4fb2-c706-3484be3c8816"
      },
      "execution_count": 125,
      "outputs": [
        {
          "output_type": "execute_result",
          "data": {
            "text/plain": [
              "(-2.759204897150486,\n",
              " -5.403302324793548,\n",
              " -0.3770929579154357,\n",
              " -0.361465309062125,\n",
              " 1.0432341595763615)"
            ]
          },
          "metadata": {},
          "execution_count": 125
        }
      ]
    },
    {
      "cell_type": "code",
      "source": [
        "### MaxAcqFunc Comparison: Experiment 13\n",
        "\n",
        "maxAcqFuncApprox13 = np.mean(approx_13maxAcqFunc)\n",
        "maxAcqFuncExact13 = np.mean(exact_13maxAcqFunc)\n",
        "ratio13 = maxAcqFuncApprox13/maxAcqFuncExact13\n",
        "approx_13.tau, exact_13.tau, maxAcqFuncApprox13, maxAcqFuncExact13, ratio13\n"
      ],
      "metadata": {
        "colab": {
          "base_uri": "https://localhost:8080/"
        },
        "id": "jCoTSHuBLFOJ",
        "outputId": "5d6f17db-026b-4033-ac5c-dc91367ed771"
      },
      "execution_count": 126,
      "outputs": [
        {
          "output_type": "execute_result",
          "data": {
            "text/plain": [
              "(-17.435826639425656,\n",
              " -16.3944406234583,\n",
              " -0.3759415204641982,\n",
              " -0.3321246253293345,\n",
              " 1.1319290765971204)"
            ]
          },
          "metadata": {},
          "execution_count": 126
        }
      ]
    },
    {
      "cell_type": "code",
      "source": [
        "### MaxAcqFunc Comparison: Experiment 14\n",
        "\n",
        "maxAcqFuncApprox14 = np.mean(approx_14maxAcqFunc)\n",
        "maxAcqFuncExact14 = np.mean(exact_14maxAcqFunc)\n",
        "ratio14 = maxAcqFuncApprox14/maxAcqFuncExact14\n",
        "approx_14.tau, exact_14.tau, maxAcqFuncApprox14, maxAcqFuncExact14, ratio14\n"
      ],
      "metadata": {
        "colab": {
          "base_uri": "https://localhost:8080/"
        },
        "id": "9_xSxWT8LFsp",
        "outputId": "935a5e69-9978-4b24-ab53-f633ae9a7aa4"
      },
      "execution_count": 127,
      "outputs": [
        {
          "output_type": "execute_result",
          "data": {
            "text/plain": [
              "(-10.423838604848608,\n",
              " -10.423838604848608,\n",
              " -0.42494591392017655,\n",
              " -0.3869624427192369,\n",
              " 1.09815803036084)"
            ]
          },
          "metadata": {},
          "execution_count": 127
        }
      ]
    },
    {
      "cell_type": "code",
      "source": [
        "### MaxAcqFunc Comparison: Experiment 15\n",
        "\n",
        "maxAcqFuncApprox15 = np.mean(approx_15maxAcqFunc)\n",
        "maxAcqFuncExact15 = np.mean(exact_15maxAcqFunc)\n",
        "ratio15 = maxAcqFuncApprox15/maxAcqFuncExact15\n",
        "approx_15.tau, exact_15.tau, maxAcqFuncApprox15, maxAcqFuncExact15, ratio15\n"
      ],
      "metadata": {
        "colab": {
          "base_uri": "https://localhost:8080/"
        },
        "id": "vj_iCIvOLFeP",
        "outputId": "61cf4c41-1848-4516-e155-0276e6e0b98a"
      },
      "execution_count": 128,
      "outputs": [
        {
          "output_type": "execute_result",
          "data": {
            "text/plain": [
              "(-7.990765314336182,\n",
              " -7.990765314336182,\n",
              " -0.4006979862606387,\n",
              " -0.35047364947903137,\n",
              " 1.1433041738123944)"
            ]
          },
          "metadata": {},
          "execution_count": 128
        }
      ]
    },
    {
      "cell_type": "code",
      "source": [
        "### MaxAcqFunc Comparison: Experiment 16\n",
        "\n",
        "maxAcqFuncApprox16 = np.mean(approx_16maxAcqFunc)\n",
        "maxAcqFuncExact16 = np.mean(exact_16maxAcqFunc)\n",
        "ratio16 = maxAcqFuncApprox16/maxAcqFuncExact16\n",
        "approx_16.tau, exact_16.tau, maxAcqFuncApprox16, maxAcqFuncExact16, ratio16\n"
      ],
      "metadata": {
        "colab": {
          "base_uri": "https://localhost:8080/"
        },
        "id": "vjFFlps7LF7A",
        "outputId": "00c500e0-507f-4f5d-df38-dcc4e6212b8b"
      },
      "execution_count": 129,
      "outputs": [
        {
          "output_type": "execute_result",
          "data": {
            "text/plain": [
              "(-6.603799654593312,\n",
              " -8.231448011305515,\n",
              " -0.4087568917495137,\n",
              " -0.36218765239468437,\n",
              " 1.1285776559386451)"
            ]
          },
          "metadata": {},
          "execution_count": 129
        }
      ]
    },
    {
      "cell_type": "code",
      "source": [
        "### MaxAcqFunc Comparison: Experiment 17\n",
        "\n",
        "maxAcqFuncApprox17 = np.mean(approx_17maxAcqFunc)\n",
        "maxAcqFuncExact17 = np.mean(exact_17maxAcqFunc)\n",
        "ratio17 = maxAcqFuncApprox17/maxAcqFuncExact17\n",
        "approx_17.tau, exact_17.tau, maxAcqFuncApprox17, maxAcqFuncExact17, ratio17\n"
      ],
      "metadata": {
        "colab": {
          "base_uri": "https://localhost:8080/"
        },
        "id": "jO0-nRLRLGJv",
        "outputId": "9a039288-9191-4d2a-aad0-867b094a94e4"
      },
      "execution_count": 130,
      "outputs": [
        {
          "output_type": "execute_result",
          "data": {
            "text/plain": [
              "(-11.49905778344017,\n",
              " -10.957737071176012,\n",
              " -0.3682894605118113,\n",
              " -0.3390788114405602,\n",
              " 1.0861470787488934)"
            ]
          },
          "metadata": {},
          "execution_count": 130
        }
      ]
    },
    {
      "cell_type": "code",
      "source": [
        "### MaxAcqFunc Comparison: Experiment 18\n",
        "\n",
        "maxAcqFuncApprox18 = np.mean(approx_18maxAcqFunc)\n",
        "maxAcqFuncExact18 = np.mean(exact_18maxAcqFunc)\n",
        "ratio18 = maxAcqFuncApprox18/maxAcqFuncExact18\n",
        "approx_18.tau, exact_18.tau, maxAcqFuncApprox18, maxAcqFuncExact18, ratio18\n"
      ],
      "metadata": {
        "colab": {
          "base_uri": "https://localhost:8080/"
        },
        "id": "5Zo9ub4ULGXh",
        "outputId": "fa5b73f8-069d-4b84-dfd9-98a47b5b2648"
      },
      "execution_count": 131,
      "outputs": [
        {
          "output_type": "execute_result",
          "data": {
            "text/plain": [
              "(-11.311339354169743,\n",
              " -10.449684907674122,\n",
              " -0.3500519630081617,\n",
              " -0.33537128075815625,\n",
              " 1.0437744168696186)"
            ]
          },
          "metadata": {},
          "execution_count": 131
        }
      ]
    },
    {
      "cell_type": "code",
      "source": [
        "### MaxAcqFunc Comparison: Experiment 19\n",
        "\n",
        "maxAcqFuncApprox19 = np.mean(approx_19maxAcqFunc)\n",
        "maxAcqFuncExact19 = np.mean(exact_19maxAcqFunc)\n",
        "ratio19 = maxAcqFuncApprox19/maxAcqFuncExact19\n",
        "approx_19.tau, exact_19.tau, maxAcqFuncApprox19, maxAcqFuncExact19, ratio19\n"
      ],
      "metadata": {
        "colab": {
          "base_uri": "https://localhost:8080/"
        },
        "id": "1yJ_PLUFLGmh",
        "outputId": "744375dd-c30b-4f01-a917-117e5ee9e04e"
      },
      "execution_count": 132,
      "outputs": [
        {
          "output_type": "execute_result",
          "data": {
            "text/plain": [
              "(-19.401331335829017,\n",
              " -17.585588423433606,\n",
              " -0.39417290475985484,\n",
              " -0.336108057273703,\n",
              " 1.172756487771038)"
            ]
          },
          "metadata": {},
          "execution_count": 132
        }
      ]
    },
    {
      "cell_type": "code",
      "source": [
        "### MaxAcqFunc Comparison: Experiment 20\n",
        "\n",
        "maxAcqFuncApprox20 = np.mean(approx_20maxAcqFunc)\n",
        "maxAcqFuncExact20 = np.mean(exact_20maxAcqFunc)\n",
        "ratio20 = maxAcqFuncApprox20/maxAcqFuncExact20\n",
        "approx_20.tau, exact_20.tau, maxAcqFuncApprox20, maxAcqFuncExact20, ratio20\n"
      ],
      "metadata": {
        "colab": {
          "base_uri": "https://localhost:8080/"
        },
        "id": "Sd9NxsRsLG1P",
        "outputId": "91b6a060-9870-4334-93e3-f65b87884096"
      },
      "execution_count": 133,
      "outputs": [
        {
          "output_type": "execute_result",
          "data": {
            "text/plain": [
              "(-17.388691338534382,\n",
              " -10.175490798228031,\n",
              " -0.33640505748447735,\n",
              " -0.3103888071464866,\n",
              " 1.0838182619314378)"
            ]
          },
          "metadata": {},
          "execution_count": 133
        }
      ]
    },
    {
      "cell_type": "code",
      "source": [
        "num = [1,2,3,4,5,6,7,8,9,10,11,12,13,14,15,16,17,18,19,20]\n",
        "ApproxTau = [approx_1.tau,approx_2.tau,approx_3.tau,approx_4.tau,approx_5.tau,approx_6.tau,approx_7.tau,approx_8.tau,approx_9.tau,approx_10.tau,approx_11.tau,approx_12.tau,approx_13.tau,approx_14.tau,approx_15.tau,approx_16.tau,approx_17.tau,approx_18.tau,approx_19.tau,approx_20.tau]\n",
        "ExactTau = [exact_1.tau,exact_2.tau,exact_3.tau,exact_4.tau,exact_5.tau,exact_6.tau,exact_7.tau,exact_8.tau,exact_9.tau,exact_10.tau,exact_11.tau,exact_12.tau,exact_13.tau,exact_14.tau,exact_15.tau,exact_16.tau,exact_17.tau,exact_18.tau,exact_19.tau,exact_20.tau]\n",
        "AvgMaxAcqFuncExact = [maxAcqFuncExact1,maxAcqFuncExact2,maxAcqFuncExact3,maxAcqFuncExact4,maxAcqFuncExact5,maxAcqFuncExact6,maxAcqFuncExact7,maxAcqFuncExact8,maxAcqFuncExact9,maxAcqFuncExact10,maxAcqFuncExact11,maxAcqFuncExact12,maxAcqFuncExact13,maxAcqFuncExact14,maxAcqFuncExact15,maxAcqFuncExact16,maxAcqFuncExact17,maxAcqFuncExact18,maxAcqFuncExact19,maxAcqFuncExact20]\n",
        "AvgMaxAcqFuncApprox = [maxAcqFuncApprox1,maxAcqFuncApprox2,maxAcqFuncApprox3,maxAcqFuncApprox4,maxAcqFuncApprox5,maxAcqFuncApprox6,maxAcqFuncApprox7,maxAcqFuncApprox8,maxAcqFuncApprox9,maxAcqFuncApprox10,maxAcqFuncApprox11,maxAcqFuncApprox12,maxAcqFuncApprox13,maxAcqFuncApprox14,maxAcqFuncApprox15,maxAcqFuncApprox16,maxAcqFuncApprox17,maxAcqFuncApprox18,maxAcqFuncApprox19,maxAcqFuncApprox20]\n",
        "ratio = [ratio1,ratio2,ratio3,ratio4,ratio5,ratio6,ratio7,ratio8,ratio9,ratio10,ratio11,ratio12,ratio13,ratio14,ratio15,ratio16,ratio17,ratio18,ratio19,ratio20]\n"
      ],
      "metadata": {
        "id": "_Fbc4r50vHHF"
      },
      "execution_count": 134,
      "outputs": []
    },
    {
      "cell_type": "code",
      "source": [
        "def greaterThan(a, b):\n",
        "  lis =[]\n",
        "  #convert to list\n",
        "  a = list(a)\n",
        "  b = list(b)\n",
        "  c = \"Yes\"\n",
        "  d = \"No\"\n",
        "  e = \"equal\"\n",
        "  for first, first_te in zip(a, b):\n",
        "      if first < first_te:\n",
        "          lis.append(d)\n",
        "      elif first > first_te:\n",
        "          lis.append(c)\n",
        "      else:\n",
        "          lis.append(e)\n",
        "  return lis\n",
        "\n",
        "greaterAcqFunc = greaterThan(AvgMaxAcqFuncExact, AvgMaxAcqFuncApprox)\n"
      ],
      "metadata": {
        "id": "gyTQQeQfknKX"
      },
      "execution_count": 135,
      "outputs": []
    },
    {
      "cell_type": "code",
      "source": [
        "def greaterRatio(a):\n",
        "  lis =[]\n",
        "  #convert to list\n",
        "  a = list(a)\n",
        "  b = \"Yes\"\n",
        "  c = \"No\"\n",
        "  d = \"equal\"\n",
        "  for first, in zip(a):\n",
        "      if first < 1:\n",
        "          lis.append(c)\n",
        "      elif first > 1:\n",
        "          lis.append(b)\n",
        "      else:\n",
        "          lis.append(d)\n",
        "  return lis\n",
        "\n",
        "greaterRatio = greaterRatio(ratio)\n"
      ],
      "metadata": {
        "id": "wO-_fUfpoYyP"
      },
      "execution_count": 136,
      "outputs": []
    },
    {
      "cell_type": "code",
      "source": [
        "df = pd.DataFrame(dict(Experiment=num,\n",
        "                  ExactTau=ExactTau,\n",
        "                  ApproxTau=ApproxTau,\n",
        "                  AvgMaxAcqFuncExact=AvgMaxAcqFuncExact,\n",
        "                  GreaterAcqFunc = greaterAcqFunc,\n",
        "                  AvgMaxAcqFuncApprox=AvgMaxAcqFuncApprox,\n",
        "                  Ratio = ratio,\n",
        "                  GreaterRatio = greaterRatio))\n",
        "df.sort_values(by=['ExactTau'], inplace=True, ascending=False)\n",
        "print(df.to_latex(index=False))\n"
      ],
      "metadata": {
        "colab": {
          "base_uri": "https://localhost:8080/"
        },
        "id": "4EzMdtEQV0yI",
        "outputId": "b3394836-671b-4d60-d4f0-588cb3eb5d35"
      },
      "execution_count": 137,
      "outputs": [
        {
          "output_type": "stream",
          "name": "stdout",
          "text": [
            "\\begin{tabular}{rrrrlrrl}\n",
            "\\toprule\n",
            " Experiment &   ExactTau &  ApproxTau &  AvgMaxAcqFuncExact & GreaterAcqFunc &  AvgMaxAcqFuncApprox &    Ratio & GreaterRatio \\\\\n",
            "\\midrule\n",
            "          3 &  -0.854550 & -10.607663 &           -4.015180 &            Yes &            -5.486184 & 1.366360 &          Yes \\\\\n",
            "          2 &  -1.768373 & -14.910755 &           -0.361355 &            Yes &            -0.424518 & 1.174794 &          Yes \\\\\n",
            "         12 &  -5.403302 &  -2.759205 &           -0.361465 &            Yes &            -0.377093 & 1.043234 &          Yes \\\\\n",
            "          8 &  -7.072766 & -13.871821 &           -0.360659 &             No &            -0.343762 & 0.953149 &           No \\\\\n",
            "          5 &  -7.810863 &  -6.197264 &           -0.411915 &            Yes &            -0.433706 & 1.052902 &          Yes \\\\\n",
            "         15 &  -7.990765 &  -7.990765 &           -0.350474 &            Yes &            -0.400698 & 1.143304 &          Yes \\\\\n",
            "         16 &  -8.231448 &  -6.603800 &           -0.362188 &            Yes &            -0.408757 & 1.128578 &          Yes \\\\\n",
            "          9 &  -8.372050 & -15.614563 &           -0.379981 &            Yes &            -0.388188 & 1.021599 &          Yes \\\\\n",
            "          1 &  -8.485398 & -19.908403 &           -0.375061 &            Yes &            -0.394125 & 1.050827 &          Yes \\\\\n",
            "         10 &  -9.330184 & -12.476794 &           -0.310728 &            Yes &            -0.363454 & 1.169686 &          Yes \\\\\n",
            "         20 & -10.175491 & -17.388691 &           -0.310389 &            Yes &            -0.336405 & 1.083818 &          Yes \\\\\n",
            "         14 & -10.423839 & -10.423839 &           -0.386962 &            Yes &            -0.424946 & 1.098158 &          Yes \\\\\n",
            "         18 & -10.449685 & -11.311339 &           -0.335371 &            Yes &            -0.350052 & 1.043774 &          Yes \\\\\n",
            "         11 & -10.679755 & -10.679755 &           -0.311214 &            Yes &            -0.353268 & 1.135131 &          Yes \\\\\n",
            "         17 & -10.957737 & -11.499058 &           -0.339079 &            Yes &            -0.368289 & 1.086147 &          Yes \\\\\n",
            "          7 & -12.461626 & -12.769363 &           -0.297217 &            Yes &            -0.353428 & 1.189126 &          Yes \\\\\n",
            "          6 & -12.685608 & -16.759749 &           -0.336896 &            Yes &            -0.361876 & 1.074147 &          Yes \\\\\n",
            "          4 & -13.941922 &  -6.439744 &           -0.373839 &            Yes &            -0.405445 & 1.084545 &          Yes \\\\\n",
            "         13 & -16.394441 & -17.435827 &           -0.332125 &            Yes &            -0.375942 & 1.131929 &          Yes \\\\\n",
            "         19 & -17.585588 & -19.401331 &           -0.336108 &            Yes &            -0.394173 & 1.172756 &          Yes \\\\\n",
            "\\bottomrule\n",
            "\\end{tabular}\n",
            "\n"
          ]
        }
      ]
    },
    {
      "cell_type": "code",
      "source": [
        "avg_list = ['ExactTau', 'ApproxTau', 'AvgMaxAcqFuncExact','AvgMaxAcqFuncApprox']\n",
        "avg = df[avg_list].mean()\n",
        "avg.name = 'Average'\n",
        "df = df.append(avg.transpose())\n",
        "df.fillna(value='', inplace=True)\n",
        "df\n"
      ],
      "metadata": {
        "id": "HQ6-zjAHD43j",
        "colab": {
          "base_uri": "https://localhost:8080/",
          "height": 708
        },
        "outputId": "86a81f6c-4825-4d18-dad3-244f222934ef"
      },
      "execution_count": 138,
      "outputs": [
        {
          "output_type": "execute_result",
          "data": {
            "text/plain": [
              "        Experiment   ExactTau  ApproxTau  AvgMaxAcqFuncExact GreaterAcqFunc  \\\n",
              "2              3.0  -0.854550 -10.607663           -4.015180            Yes   \n",
              "1              2.0  -1.768373 -14.910755           -0.361355            Yes   \n",
              "11            12.0  -5.403302  -2.759205           -0.361465            Yes   \n",
              "7              8.0  -7.072766 -13.871821           -0.360659             No   \n",
              "4              5.0  -7.810863  -6.197264           -0.411915            Yes   \n",
              "14            15.0  -7.990765  -7.990765           -0.350474            Yes   \n",
              "15            16.0  -8.231448  -6.603800           -0.362188            Yes   \n",
              "8              9.0  -8.372050 -15.614563           -0.379981            Yes   \n",
              "0              1.0  -8.485398 -19.908403           -0.375061            Yes   \n",
              "9             10.0  -9.330184 -12.476794           -0.310728            Yes   \n",
              "19            20.0 -10.175491 -17.388691           -0.310389            Yes   \n",
              "13            14.0 -10.423839 -10.423839           -0.386962            Yes   \n",
              "17            18.0 -10.449685 -11.311339           -0.335371            Yes   \n",
              "10            11.0 -10.679755 -10.679755           -0.311214            Yes   \n",
              "16            17.0 -10.957737 -11.499058           -0.339079            Yes   \n",
              "6              7.0 -12.461626 -12.769363           -0.297217            Yes   \n",
              "5              6.0 -12.685608 -16.759749           -0.336896            Yes   \n",
              "3              4.0 -13.941922  -6.439744           -0.373839            Yes   \n",
              "12            13.0 -16.394441 -17.435827           -0.332125            Yes   \n",
              "18            19.0 -17.585588 -19.401331           -0.336108            Yes   \n",
              "Average             -9.553770 -12.252486           -0.532410                  \n",
              "\n",
              "         AvgMaxAcqFuncApprox     Ratio GreaterRatio  \n",
              "2                  -5.486184   1.36636          Yes  \n",
              "1                  -0.424518  1.174794          Yes  \n",
              "11                 -0.377093  1.043234          Yes  \n",
              "7                  -0.343762  0.953149           No  \n",
              "4                  -0.433706  1.052902          Yes  \n",
              "14                 -0.400698  1.143304          Yes  \n",
              "15                 -0.408757  1.128578          Yes  \n",
              "8                  -0.388188  1.021599          Yes  \n",
              "0                  -0.394125  1.050827          Yes  \n",
              "9                  -0.363454  1.169686          Yes  \n",
              "19                 -0.336405  1.083818          Yes  \n",
              "13                 -0.424946  1.098158          Yes  \n",
              "17                 -0.350052  1.043774          Yes  \n",
              "10                 -0.353268  1.135131          Yes  \n",
              "16                 -0.368289  1.086147          Yes  \n",
              "6                  -0.353428  1.189126          Yes  \n",
              "5                  -0.361876  1.074147          Yes  \n",
              "3                  -0.405445  1.084545          Yes  \n",
              "12                 -0.375942  1.131929          Yes  \n",
              "18                 -0.394173  1.172756          Yes  \n",
              "Average            -0.637215                         "
            ],
            "text/html": [
              "\n",
              "  <div id=\"df-42521a04-70d5-40da-96e4-3358a74075b6\">\n",
              "    <div class=\"colab-df-container\">\n",
              "      <div>\n",
              "<style scoped>\n",
              "    .dataframe tbody tr th:only-of-type {\n",
              "        vertical-align: middle;\n",
              "    }\n",
              "\n",
              "    .dataframe tbody tr th {\n",
              "        vertical-align: top;\n",
              "    }\n",
              "\n",
              "    .dataframe thead th {\n",
              "        text-align: right;\n",
              "    }\n",
              "</style>\n",
              "<table border=\"1\" class=\"dataframe\">\n",
              "  <thead>\n",
              "    <tr style=\"text-align: right;\">\n",
              "      <th></th>\n",
              "      <th>Experiment</th>\n",
              "      <th>ExactTau</th>\n",
              "      <th>ApproxTau</th>\n",
              "      <th>AvgMaxAcqFuncExact</th>\n",
              "      <th>GreaterAcqFunc</th>\n",
              "      <th>AvgMaxAcqFuncApprox</th>\n",
              "      <th>Ratio</th>\n",
              "      <th>GreaterRatio</th>\n",
              "    </tr>\n",
              "  </thead>\n",
              "  <tbody>\n",
              "    <tr>\n",
              "      <th>2</th>\n",
              "      <td>3.0</td>\n",
              "      <td>-0.854550</td>\n",
              "      <td>-10.607663</td>\n",
              "      <td>-4.015180</td>\n",
              "      <td>Yes</td>\n",
              "      <td>-5.486184</td>\n",
              "      <td>1.36636</td>\n",
              "      <td>Yes</td>\n",
              "    </tr>\n",
              "    <tr>\n",
              "      <th>1</th>\n",
              "      <td>2.0</td>\n",
              "      <td>-1.768373</td>\n",
              "      <td>-14.910755</td>\n",
              "      <td>-0.361355</td>\n",
              "      <td>Yes</td>\n",
              "      <td>-0.424518</td>\n",
              "      <td>1.174794</td>\n",
              "      <td>Yes</td>\n",
              "    </tr>\n",
              "    <tr>\n",
              "      <th>11</th>\n",
              "      <td>12.0</td>\n",
              "      <td>-5.403302</td>\n",
              "      <td>-2.759205</td>\n",
              "      <td>-0.361465</td>\n",
              "      <td>Yes</td>\n",
              "      <td>-0.377093</td>\n",
              "      <td>1.043234</td>\n",
              "      <td>Yes</td>\n",
              "    </tr>\n",
              "    <tr>\n",
              "      <th>7</th>\n",
              "      <td>8.0</td>\n",
              "      <td>-7.072766</td>\n",
              "      <td>-13.871821</td>\n",
              "      <td>-0.360659</td>\n",
              "      <td>No</td>\n",
              "      <td>-0.343762</td>\n",
              "      <td>0.953149</td>\n",
              "      <td>No</td>\n",
              "    </tr>\n",
              "    <tr>\n",
              "      <th>4</th>\n",
              "      <td>5.0</td>\n",
              "      <td>-7.810863</td>\n",
              "      <td>-6.197264</td>\n",
              "      <td>-0.411915</td>\n",
              "      <td>Yes</td>\n",
              "      <td>-0.433706</td>\n",
              "      <td>1.052902</td>\n",
              "      <td>Yes</td>\n",
              "    </tr>\n",
              "    <tr>\n",
              "      <th>14</th>\n",
              "      <td>15.0</td>\n",
              "      <td>-7.990765</td>\n",
              "      <td>-7.990765</td>\n",
              "      <td>-0.350474</td>\n",
              "      <td>Yes</td>\n",
              "      <td>-0.400698</td>\n",
              "      <td>1.143304</td>\n",
              "      <td>Yes</td>\n",
              "    </tr>\n",
              "    <tr>\n",
              "      <th>15</th>\n",
              "      <td>16.0</td>\n",
              "      <td>-8.231448</td>\n",
              "      <td>-6.603800</td>\n",
              "      <td>-0.362188</td>\n",
              "      <td>Yes</td>\n",
              "      <td>-0.408757</td>\n",
              "      <td>1.128578</td>\n",
              "      <td>Yes</td>\n",
              "    </tr>\n",
              "    <tr>\n",
              "      <th>8</th>\n",
              "      <td>9.0</td>\n",
              "      <td>-8.372050</td>\n",
              "      <td>-15.614563</td>\n",
              "      <td>-0.379981</td>\n",
              "      <td>Yes</td>\n",
              "      <td>-0.388188</td>\n",
              "      <td>1.021599</td>\n",
              "      <td>Yes</td>\n",
              "    </tr>\n",
              "    <tr>\n",
              "      <th>0</th>\n",
              "      <td>1.0</td>\n",
              "      <td>-8.485398</td>\n",
              "      <td>-19.908403</td>\n",
              "      <td>-0.375061</td>\n",
              "      <td>Yes</td>\n",
              "      <td>-0.394125</td>\n",
              "      <td>1.050827</td>\n",
              "      <td>Yes</td>\n",
              "    </tr>\n",
              "    <tr>\n",
              "      <th>9</th>\n",
              "      <td>10.0</td>\n",
              "      <td>-9.330184</td>\n",
              "      <td>-12.476794</td>\n",
              "      <td>-0.310728</td>\n",
              "      <td>Yes</td>\n",
              "      <td>-0.363454</td>\n",
              "      <td>1.169686</td>\n",
              "      <td>Yes</td>\n",
              "    </tr>\n",
              "    <tr>\n",
              "      <th>19</th>\n",
              "      <td>20.0</td>\n",
              "      <td>-10.175491</td>\n",
              "      <td>-17.388691</td>\n",
              "      <td>-0.310389</td>\n",
              "      <td>Yes</td>\n",
              "      <td>-0.336405</td>\n",
              "      <td>1.083818</td>\n",
              "      <td>Yes</td>\n",
              "    </tr>\n",
              "    <tr>\n",
              "      <th>13</th>\n",
              "      <td>14.0</td>\n",
              "      <td>-10.423839</td>\n",
              "      <td>-10.423839</td>\n",
              "      <td>-0.386962</td>\n",
              "      <td>Yes</td>\n",
              "      <td>-0.424946</td>\n",
              "      <td>1.098158</td>\n",
              "      <td>Yes</td>\n",
              "    </tr>\n",
              "    <tr>\n",
              "      <th>17</th>\n",
              "      <td>18.0</td>\n",
              "      <td>-10.449685</td>\n",
              "      <td>-11.311339</td>\n",
              "      <td>-0.335371</td>\n",
              "      <td>Yes</td>\n",
              "      <td>-0.350052</td>\n",
              "      <td>1.043774</td>\n",
              "      <td>Yes</td>\n",
              "    </tr>\n",
              "    <tr>\n",
              "      <th>10</th>\n",
              "      <td>11.0</td>\n",
              "      <td>-10.679755</td>\n",
              "      <td>-10.679755</td>\n",
              "      <td>-0.311214</td>\n",
              "      <td>Yes</td>\n",
              "      <td>-0.353268</td>\n",
              "      <td>1.135131</td>\n",
              "      <td>Yes</td>\n",
              "    </tr>\n",
              "    <tr>\n",
              "      <th>16</th>\n",
              "      <td>17.0</td>\n",
              "      <td>-10.957737</td>\n",
              "      <td>-11.499058</td>\n",
              "      <td>-0.339079</td>\n",
              "      <td>Yes</td>\n",
              "      <td>-0.368289</td>\n",
              "      <td>1.086147</td>\n",
              "      <td>Yes</td>\n",
              "    </tr>\n",
              "    <tr>\n",
              "      <th>6</th>\n",
              "      <td>7.0</td>\n",
              "      <td>-12.461626</td>\n",
              "      <td>-12.769363</td>\n",
              "      <td>-0.297217</td>\n",
              "      <td>Yes</td>\n",
              "      <td>-0.353428</td>\n",
              "      <td>1.189126</td>\n",
              "      <td>Yes</td>\n",
              "    </tr>\n",
              "    <tr>\n",
              "      <th>5</th>\n",
              "      <td>6.0</td>\n",
              "      <td>-12.685608</td>\n",
              "      <td>-16.759749</td>\n",
              "      <td>-0.336896</td>\n",
              "      <td>Yes</td>\n",
              "      <td>-0.361876</td>\n",
              "      <td>1.074147</td>\n",
              "      <td>Yes</td>\n",
              "    </tr>\n",
              "    <tr>\n",
              "      <th>3</th>\n",
              "      <td>4.0</td>\n",
              "      <td>-13.941922</td>\n",
              "      <td>-6.439744</td>\n",
              "      <td>-0.373839</td>\n",
              "      <td>Yes</td>\n",
              "      <td>-0.405445</td>\n",
              "      <td>1.084545</td>\n",
              "      <td>Yes</td>\n",
              "    </tr>\n",
              "    <tr>\n",
              "      <th>12</th>\n",
              "      <td>13.0</td>\n",
              "      <td>-16.394441</td>\n",
              "      <td>-17.435827</td>\n",
              "      <td>-0.332125</td>\n",
              "      <td>Yes</td>\n",
              "      <td>-0.375942</td>\n",
              "      <td>1.131929</td>\n",
              "      <td>Yes</td>\n",
              "    </tr>\n",
              "    <tr>\n",
              "      <th>18</th>\n",
              "      <td>19.0</td>\n",
              "      <td>-17.585588</td>\n",
              "      <td>-19.401331</td>\n",
              "      <td>-0.336108</td>\n",
              "      <td>Yes</td>\n",
              "      <td>-0.394173</td>\n",
              "      <td>1.172756</td>\n",
              "      <td>Yes</td>\n",
              "    </tr>\n",
              "    <tr>\n",
              "      <th>Average</th>\n",
              "      <td></td>\n",
              "      <td>-9.553770</td>\n",
              "      <td>-12.252486</td>\n",
              "      <td>-0.532410</td>\n",
              "      <td></td>\n",
              "      <td>-0.637215</td>\n",
              "      <td></td>\n",
              "      <td></td>\n",
              "    </tr>\n",
              "  </tbody>\n",
              "</table>\n",
              "</div>\n",
              "      <button class=\"colab-df-convert\" onclick=\"convertToInteractive('df-42521a04-70d5-40da-96e4-3358a74075b6')\"\n",
              "              title=\"Convert this dataframe to an interactive table.\"\n",
              "              style=\"display:none;\">\n",
              "        \n",
              "  <svg xmlns=\"http://www.w3.org/2000/svg\" height=\"24px\"viewBox=\"0 0 24 24\"\n",
              "       width=\"24px\">\n",
              "    <path d=\"M0 0h24v24H0V0z\" fill=\"none\"/>\n",
              "    <path d=\"M18.56 5.44l.94 2.06.94-2.06 2.06-.94-2.06-.94-.94-2.06-.94 2.06-2.06.94zm-11 1L8.5 8.5l.94-2.06 2.06-.94-2.06-.94L8.5 2.5l-.94 2.06-2.06.94zm10 10l.94 2.06.94-2.06 2.06-.94-2.06-.94-.94-2.06-.94 2.06-2.06.94z\"/><path d=\"M17.41 7.96l-1.37-1.37c-.4-.4-.92-.59-1.43-.59-.52 0-1.04.2-1.43.59L10.3 9.45l-7.72 7.72c-.78.78-.78 2.05 0 2.83L4 21.41c.39.39.9.59 1.41.59.51 0 1.02-.2 1.41-.59l7.78-7.78 2.81-2.81c.8-.78.8-2.07 0-2.86zM5.41 20L4 18.59l7.72-7.72 1.47 1.35L5.41 20z\"/>\n",
              "  </svg>\n",
              "      </button>\n",
              "      \n",
              "  <style>\n",
              "    .colab-df-container {\n",
              "      display:flex;\n",
              "      flex-wrap:wrap;\n",
              "      gap: 12px;\n",
              "    }\n",
              "\n",
              "    .colab-df-convert {\n",
              "      background-color: #E8F0FE;\n",
              "      border: none;\n",
              "      border-radius: 50%;\n",
              "      cursor: pointer;\n",
              "      display: none;\n",
              "      fill: #1967D2;\n",
              "      height: 32px;\n",
              "      padding: 0 0 0 0;\n",
              "      width: 32px;\n",
              "    }\n",
              "\n",
              "    .colab-df-convert:hover {\n",
              "      background-color: #E2EBFA;\n",
              "      box-shadow: 0px 1px 2px rgba(60, 64, 67, 0.3), 0px 1px 3px 1px rgba(60, 64, 67, 0.15);\n",
              "      fill: #174EA6;\n",
              "    }\n",
              "\n",
              "    [theme=dark] .colab-df-convert {\n",
              "      background-color: #3B4455;\n",
              "      fill: #D2E3FC;\n",
              "    }\n",
              "\n",
              "    [theme=dark] .colab-df-convert:hover {\n",
              "      background-color: #434B5C;\n",
              "      box-shadow: 0px 1px 3px 1px rgba(0, 0, 0, 0.15);\n",
              "      filter: drop-shadow(0px 1px 2px rgba(0, 0, 0, 0.3));\n",
              "      fill: #FFFFFF;\n",
              "    }\n",
              "  </style>\n",
              "\n",
              "      <script>\n",
              "        const buttonEl =\n",
              "          document.querySelector('#df-42521a04-70d5-40da-96e4-3358a74075b6 button.colab-df-convert');\n",
              "        buttonEl.style.display =\n",
              "          google.colab.kernel.accessAllowed ? 'block' : 'none';\n",
              "\n",
              "        async function convertToInteractive(key) {\n",
              "          const element = document.querySelector('#df-42521a04-70d5-40da-96e4-3358a74075b6');\n",
              "          const dataTable =\n",
              "            await google.colab.kernel.invokeFunction('convertToInteractive',\n",
              "                                                     [key], {});\n",
              "          if (!dataTable) return;\n",
              "\n",
              "          const docLinkHtml = 'Like what you see? Visit the ' +\n",
              "            '<a target=\"_blank\" href=https://colab.research.google.com/notebooks/data_table.ipynb>data table notebook</a>'\n",
              "            + ' to learn more about interactive tables.';\n",
              "          element.innerHTML = '';\n",
              "          dataTable['output_type'] = 'display_data';\n",
              "          await google.colab.output.renderOutput(dataTable, element);\n",
              "          const docLink = document.createElement('div');\n",
              "          docLink.innerHTML = docLinkHtml;\n",
              "          element.appendChild(docLink);\n",
              "        }\n",
              "      </script>\n",
              "    </div>\n",
              "  </div>\n",
              "  "
            ]
          },
          "metadata": {},
          "execution_count": 138
        }
      ]
    },
    {
      "cell_type": "code",
      "source": [
        "print('Ratio of Average ExactTau to Average ApproxTau:', np.round(avg[1]/avg[0], 5))\n",
        "print('Ratio of Average AvgMaxAcqFuncExact to Average AvgMaxAcqFuncApprox:', np.round(avg[3]/avg[2], 5))\n",
        "print('Number of experiments where AvgMaxAcqFuncExact exceeds AvgMaxAcqFuncApprox:', df['GreaterAcqFunc'].value_counts()['Yes'])\n",
        "print('Number of experiments where Ratio exceeds 1.0:', df['GreaterRatio'].value_counts()['Yes'])\n"
      ],
      "metadata": {
        "id": "u7PPphIXeKUz",
        "colab": {
          "base_uri": "https://localhost:8080/"
        },
        "outputId": "6eaf50aa-9fe8-4853-cb12-34143bd1628c"
      },
      "execution_count": 139,
      "outputs": [
        {
          "output_type": "stream",
          "name": "stdout",
          "text": [
            "Ratio of Average ExactTau to Average ApproxTau: 1.28248\n",
            "Ratio of Average AvgMaxAcqFuncExact to Average AvgMaxAcqFuncApprox: 1.19685\n",
            "Number of experiments where AvgMaxAcqFuncExact exceeds AvgMaxAcqFuncApprox: 19\n",
            "Number of experiments where Ratio exceeds 1.0: 19\n"
          ]
        }
      ]
    },
    {
      "cell_type": "code",
      "source": [
        ""
      ],
      "metadata": {
        "id": "rIByBpZTD2jc"
      },
      "execution_count": 139,
      "outputs": []
    }
  ]
}