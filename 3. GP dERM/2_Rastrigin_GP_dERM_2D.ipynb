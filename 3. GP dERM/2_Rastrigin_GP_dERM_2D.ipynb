{
  "nbformat": 4,
  "nbformat_minor": 0,
  "metadata": {
    "colab": {
      "name": "2. Rastrigin_GP_dERM_2D.ipynb",
      "provenance": [],
      "collapsed_sections": []
    },
    "kernelspec": {
      "name": "python3",
      "display_name": "Python 3"
    },
    "language_info": {
      "name": "python"
    }
  },
  "cells": [
    {
      "cell_type": "markdown",
      "metadata": {
        "id": "Dqn4dFx7Z2Ir"
      },
      "source": [
        "\n",
        "Rastrigin: 2D\n"
      ]
    },
    {
      "cell_type": "code",
      "metadata": {
        "id": "MJTM_GZZZb5x",
        "colab": {
          "base_uri": "https://localhost:8080/"
        },
        "outputId": "9f1e88ea-2c32-4cfe-8b3d-a9f927ee40f4"
      },
      "source": [
        "pip install pyGPGO\n"
      ],
      "execution_count": 1,
      "outputs": [
        {
          "output_type": "stream",
          "name": "stdout",
          "text": [
            "Collecting pyGPGO\n",
            "  Downloading pyGPGO-0.5.1.tar.gz (14 kB)\n",
            "Requirement already satisfied: numpy in /usr/local/lib/python3.7/dist-packages (from pyGPGO) (1.19.5)\n",
            "Requirement already satisfied: mkl in /usr/local/lib/python3.7/dist-packages (from pyGPGO) (2019.0)\n",
            "Requirement already satisfied: scipy in /usr/local/lib/python3.7/dist-packages (from pyGPGO) (1.4.1)\n",
            "Requirement already satisfied: joblib in /usr/local/lib/python3.7/dist-packages (from pyGPGO) (1.1.0)\n",
            "Requirement already satisfied: scikit-learn in /usr/local/lib/python3.7/dist-packages (from pyGPGO) (1.0.2)\n",
            "Requirement already satisfied: Theano-PyMC in /usr/local/lib/python3.7/dist-packages (from pyGPGO) (1.1.2)\n",
            "Requirement already satisfied: pyMC3 in /usr/local/lib/python3.7/dist-packages (from pyGPGO) (3.11.4)\n",
            "Requirement already satisfied: intel-openmp in /usr/local/lib/python3.7/dist-packages (from mkl->pyGPGO) (2022.0.2)\n",
            "Requirement already satisfied: patsy>=0.5.1 in /usr/local/lib/python3.7/dist-packages (from pyMC3->pyGPGO) (0.5.2)\n",
            "Requirement already satisfied: pandas>=0.24.0 in /usr/local/lib/python3.7/dist-packages (from pyMC3->pyGPGO) (1.1.5)\n",
            "Requirement already satisfied: fastprogress>=0.2.0 in /usr/local/lib/python3.7/dist-packages (from pyMC3->pyGPGO) (1.0.0)\n",
            "Requirement already satisfied: typing-extensions>=3.7.4 in /usr/local/lib/python3.7/dist-packages (from pyMC3->pyGPGO) (3.10.0.2)\n",
            "Requirement already satisfied: cachetools>=4.2.1 in /usr/local/lib/python3.7/dist-packages (from pyMC3->pyGPGO) (4.2.4)\n",
            "Requirement already satisfied: semver>=2.13.0 in /usr/local/lib/python3.7/dist-packages (from pyMC3->pyGPGO) (2.13.0)\n",
            "Requirement already satisfied: dill in /usr/local/lib/python3.7/dist-packages (from pyMC3->pyGPGO) (0.3.4)\n",
            "Requirement already satisfied: arviz>=0.11.0 in /usr/local/lib/python3.7/dist-packages (from pyMC3->pyGPGO) (0.11.4)\n",
            "Requirement already satisfied: filelock in /usr/local/lib/python3.7/dist-packages (from Theano-PyMC->pyGPGO) (3.4.2)\n",
            "Requirement already satisfied: xarray>=0.16.1 in /usr/local/lib/python3.7/dist-packages (from arviz>=0.11.0->pyMC3->pyGPGO) (0.18.2)\n",
            "Requirement already satisfied: matplotlib>=3.0 in /usr/local/lib/python3.7/dist-packages (from arviz>=0.11.0->pyMC3->pyGPGO) (3.2.2)\n",
            "Requirement already satisfied: netcdf4 in /usr/local/lib/python3.7/dist-packages (from arviz>=0.11.0->pyMC3->pyGPGO) (1.5.8)\n",
            "Requirement already satisfied: setuptools>=38.4 in /usr/local/lib/python3.7/dist-packages (from arviz>=0.11.0->pyMC3->pyGPGO) (57.4.0)\n",
            "Requirement already satisfied: packaging in /usr/local/lib/python3.7/dist-packages (from arviz>=0.11.0->pyMC3->pyGPGO) (21.3)\n",
            "Requirement already satisfied: cycler>=0.10 in /usr/local/lib/python3.7/dist-packages (from matplotlib>=3.0->arviz>=0.11.0->pyMC3->pyGPGO) (0.11.0)\n",
            "Requirement already satisfied: python-dateutil>=2.1 in /usr/local/lib/python3.7/dist-packages (from matplotlib>=3.0->arviz>=0.11.0->pyMC3->pyGPGO) (2.8.2)\n",
            "Requirement already satisfied: pyparsing!=2.0.4,!=2.1.2,!=2.1.6,>=2.0.1 in /usr/local/lib/python3.7/dist-packages (from matplotlib>=3.0->arviz>=0.11.0->pyMC3->pyGPGO) (3.0.7)\n",
            "Requirement already satisfied: kiwisolver>=1.0.1 in /usr/local/lib/python3.7/dist-packages (from matplotlib>=3.0->arviz>=0.11.0->pyMC3->pyGPGO) (1.3.2)\n",
            "Requirement already satisfied: pytz>=2017.2 in /usr/local/lib/python3.7/dist-packages (from pandas>=0.24.0->pyMC3->pyGPGO) (2018.9)\n",
            "Requirement already satisfied: six in /usr/local/lib/python3.7/dist-packages (from patsy>=0.5.1->pyMC3->pyGPGO) (1.15.0)\n",
            "Requirement already satisfied: cftime in /usr/local/lib/python3.7/dist-packages (from netcdf4->arviz>=0.11.0->pyMC3->pyGPGO) (1.5.2)\n",
            "Requirement already satisfied: threadpoolctl>=2.0.0 in /usr/local/lib/python3.7/dist-packages (from scikit-learn->pyGPGO) (3.0.0)\n",
            "Building wheels for collected packages: pyGPGO\n",
            "  Building wheel for pyGPGO (setup.py) ... \u001b[?25l\u001b[?25hdone\n",
            "  Created wheel for pyGPGO: filename=pyGPGO-0.5.1-py3-none-any.whl size=19879 sha256=c796b08df726c19e6bb0c48bb580d1e2a6855270ed4003d5b00f1e247c83200a\n",
            "  Stored in directory: /root/.cache/pip/wheels/c8/5d/0b/2160114e2f1b87791c51b66cf07f89831dbb6f49167950316f\n",
            "Successfully built pyGPGO\n",
            "Installing collected packages: pyGPGO\n",
            "Successfully installed pyGPGO-0.5.1\n"
          ]
        }
      ]
    },
    {
      "cell_type": "code",
      "metadata": {
        "id": "ZJSSPbwPaEUB"
      },
      "source": [
        "### Import:\n",
        "\n",
        "import numpy as np\n",
        "import scipy as sp\n",
        "import pandas as pd\n",
        "import matplotlib.pyplot as plt\n",
        "import warnings\n",
        "import itertools\n",
        "\n",
        "from pyGPGO.GPGO import GPGO\n",
        "from pyGPGO.surrogates.GaussianProcess import GaussianProcess\n",
        "from pyGPGO.acquisition import Acquisition\n",
        "from pyGPGO.covfunc import squaredExponential\n",
        "\n",
        "from joblib import Parallel, delayed\n",
        "from numpy.linalg import solve, cholesky\n",
        "from scipy.spatial.distance import cdist\n",
        "from scipy.optimize import minimize\n",
        "from scipy.stats import norm\n",
        "import time\n",
        "\n",
        "warnings.filterwarnings(\"ignore\", category=RuntimeWarning)\n"
      ],
      "execution_count": 2,
      "outputs": []
    },
    {
      "cell_type": "code",
      "metadata": {
        "id": "OeYcTUNoaJWa"
      },
      "source": [
        "### Inputs:\n",
        "\n",
        "func = 'Rastrigin'\n",
        "n_test = 500\n",
        "eps = 1e-08\n",
        "\n",
        "util_grad_exact = 'dERM_GP'\n",
        "util_grad_approx = 'ExpectedRegret'\n",
        "\n",
        "n_init = 5 # random initialisations\n",
        "iters = 20\n",
        "opt = True"
      ],
      "execution_count": 3,
      "outputs": []
    },
    {
      "cell_type": "code",
      "metadata": {
        "id": "xpaEOjdzaPMS"
      },
      "source": [
        "### Objective Function - Rastrigin(x) 2-D:\n",
        "\n",
        "def objfunc(x1_training, x2_training):\n",
        "        return  operator * (10 * dim + x1_training** 2 - 10 * np.cos(2 * np.pi * x1_training)\n",
        "                                    + x2_training** 2 - 10 * np.cos(2 * np.pi * x2_training)\n",
        "                          )\n",
        "        \n",
        "def objfunc_der(x1_training, x2_training):\n",
        "        return  operator * (2 * x1_training + 20 * np.pi * np.sin(2 * np.pi * x1_training)\n",
        "                                    + 2 * x2_training + 20 * np.pi * np.sin(2 * np.pi * x2_training)\n",
        "                          )\n",
        "    \n",
        "# Constraints:\n",
        "lb = -5.12 \n",
        "ub = +5.12\n",
        "    \n",
        "# Input array dimension(s):\n",
        "dim = 2\n",
        "\n",
        "# 2-D inputs' parameter bounds:\n",
        "param = {'x1_training': ('cont', [lb, ub]),\n",
        "             'x2_training': ('cont', [lb, ub])}\n",
        "\n",
        "# True y bounds:\n",
        "operator = -1\n",
        "y_global_orig = 0 # targets global minimum\n",
        "\n",
        "# Test data:\n",
        "x1_test = np.linspace(lb, ub, n_test) \n",
        "x2_test = np.linspace(lb, ub, n_test)\n",
        "  \n",
        "x_test = np.column_stack((x1_test,x2_test))\n"
      ],
      "execution_count": 4,
      "outputs": []
    },
    {
      "cell_type": "code",
      "metadata": {
        "id": "eYpI3Zm4aGxi"
      },
      "source": [
        "n_start_AcqFunc = iters\n"
      ],
      "execution_count": 5,
      "outputs": []
    },
    {
      "cell_type": "code",
      "metadata": {
        "id": "oO_GUmOoaV0T"
      },
      "source": [
        "### Cumulative Regret Calculator:\n",
        "\n",
        "def min_max_array(x):\n",
        "    new_list = []\n",
        "    for i, num in enumerate(x):\n",
        "            new_list.append(np.min(x[0:i+1]))\n",
        "    return new_list\n",
        "  "
      ],
      "execution_count": 6,
      "outputs": []
    },
    {
      "cell_type": "code",
      "metadata": {
        "id": "kuuJx0IMam9S"
      },
      "source": [
        "### Surrogate derivatives: \n",
        "\n",
        "cov_func = squaredExponential()\n",
        "\n",
        "def kronDelta(X, Xstar):                     # Kronecker's Delta method\n",
        "    return cdist(X, Xstar) < np.finfo(np.float32).eps\n",
        "\n",
        "def se(X, Xstar, sigmaf, l, sigman):         # S.E. kernel method\n",
        "    return sigmaf * np.exp(-0.5 * cdist(X, Xstar) ** 2 / l ** 2) + sigman * kronDelta(X, Xstar)\n",
        "\n",
        "def delta(X, Xstar):                         # Distance between training X and test Xstar vectors\n",
        "    return (X - Xstar)\n",
        "   \n",
        "def der_covmat(X, Xstar, sigmaf, l, sigman): # Covariance matrix derivative terms (i.e. exact, first-order)\n",
        "    nx = len(X)\n",
        "    ny = len(Xstar)\n",
        "    return np.round(np.array([(delta(np.atleast_2d(i), np.atleast_2d(j))[0] * se(np.atleast_2d(i), np.atleast_2d(j), sigmaf, l, sigman)[0]).sum() for (i, j) in itertools.product(X, Xstar)]).reshape(nx, ny), 8)\n",
        "\n",
        "class dGaussianProcess(GaussianProcess):    # Via inheritance, also optimises hyperparameters when opt = TRUE\n",
        "    \n",
        "    def AcqGrad(self, Xstar):               # Method returning exact, first-order derivatives of the GP's posterior mean and standard deviation\n",
        "        Xstar = np.atleast_2d(Xstar)\n",
        "        Kstar = self.covfunc.K(self.X, Xstar).T\n",
        "        \n",
        "        dKstar = der_covmat(self.X, Xstar, self.covfunc.sigmaf, self.covfunc.l, self.covfunc.sigman).T\n",
        "        alpha_Kstar = np.dot(np.linalg.inv(self.K + (self.covfunc.sigman**2) * np.eye(len(self.X))), Kstar.T)\n",
        "        \n",
        "        dm = np.dot(dKstar, self.alpha)\n",
        "        ds = -2 * np.dot(dKstar, alpha_Kstar)\n",
        "        \n",
        "        return dm, ds\n",
        "        "
      ],
      "execution_count": 7,
      "outputs": []
    },
    {
      "cell_type": "code",
      "metadata": {
        "id": "_Dc3YVHVaXz7"
      },
      "source": [
        "class Acquisition_new(Acquisition):    \n",
        "    def __init__(self, mode, eps=eps, **params):\n",
        "        \n",
        "        self.params = params\n",
        "        self.eps = eps\n",
        "\n",
        "        mode_dict = {\n",
        "            'ExpectedRegret': self.ExpectedRegret,\n",
        "            'dERM_GP': self.dERM_GP\n",
        "        }\n",
        "\n",
        "        self.f = mode_dict[mode]\n",
        "    \n",
        "    def ExpectedRegret(self, tau, mean, std):\n",
        "        z = (mean - y_global_orig - self.eps) / (std + self.eps)\n",
        "        return (mean - y_global_orig) * norm.cdf(z) + std * norm.pdf(z)[0]\n",
        "\n",
        "\n",
        "    def dERM_GP(self, tau, mean, std, ds, dm):\n",
        "        gamma = (mean - y_global_orig - self.eps) / (std + self.eps)\n",
        "        gamma_h = (mean - tau) / (std + self.eps)\n",
        "        dsdx = ds / (2 * (std + self.eps))\n",
        "        dmdx = (dm - gamma * dsdx) / (std + self.eps)\n",
        "        \n",
        "        f = (std + self.eps) * (gamma * norm.cdf(gamma) + norm.pdf(gamma))\n",
        "        df1 = f / (std + self.eps) * dsdx \n",
        "        df2 = (std + self.eps) * norm.cdf(gamma) * dmdx\n",
        "        df = (df1 + df2)[0]\n",
        "        df_arr = []\n",
        "\n",
        "        for j in range(0, dim):\n",
        "          df_arr.append(df)\n",
        "        return f, np.asarray(df_arr).transpose()\n",
        "        \n",
        "    def d_eval(self, tau, mean, std, ds, dm):\n",
        "    \n",
        "        return self.f(tau, mean, std, ds, dm, **self.params)\n",
        "        "
      ],
      "execution_count": 8,
      "outputs": []
    },
    {
      "cell_type": "code",
      "metadata": {
        "id": "PITEQC8YSl7i"
      },
      "source": [
        "## GPGO_multi: Multistart changed to variable 'n_start_AcqFunc'\n",
        "\n",
        "class GPGO_multi(GPGO):\n",
        "    n_start = n_start_AcqFunc\n",
        "\n",
        "    def _optimizeAcq(self, method='L-BFGS-B', n_start=n_start_AcqFunc):\n",
        "        \n",
        "        start_points_dict = [self._sampleParam() for i in range(n_start)]\n",
        "        start_points_arr = np.array([list(s.values())\n",
        "                                     for s in start_points_dict])\n",
        "        x_best = np.empty((n_start, len(self.parameter_key)))\n",
        "        f_best = np.empty((n_start,))\n",
        "        if self.n_jobs == 1:\n",
        "            for index, start_point in enumerate(start_points_arr):\n",
        "                res = minimize(self._acqWrapper, x0=start_point, method=method,\n",
        "                               bounds=self.parameter_range)\n",
        "                x_best[index], f_best[index] = res.x, np.atleast_1d(res.fun)[0]\n",
        "        else:\n",
        "            opt = Parallel(n_jobs=self.n_jobs)(delayed(minimize)(self._acqWrapper,\n",
        "                                                                 x0=start_point,\n",
        "                                                                 method=method,\n",
        "                                                                 bounds=self.parameter_range) for start_point in\n",
        "                                               start_points_arr)\n",
        "            x_best = np.array([res.x for res in opt])\n",
        "            f_best = np.array([np.atleast_1d(res.fun)[0] for res in opt])\n",
        "\n",
        "        self.best = x_best[np.argmin(f_best)]"
      ],
      "execution_count": 9,
      "outputs": []
    },
    {
      "cell_type": "code",
      "metadata": {
        "id": "b_B-w81BJxKN"
      },
      "source": [
        "## dGPGO:\n",
        "\n",
        "grad = 1\n",
        "\n",
        "class dGPGO(GPGO):\n",
        "    n_start = n_start_AcqFunc\n",
        "\n",
        "    def d_optimizeAcq(self, method='L-BFGS-B', n_start=n_start_AcqFunc):\n",
        "        start_points_dict = [self._sampleParam() for i in range(n_start)]\n",
        "        start_points_arr = np.array([list(s.values())\n",
        "                                     for s in start_points_dict])\n",
        "        x_best = np.empty((n_start, len(self.parameter_key)))\n",
        "        f_best = np.empty((n_start,))\n",
        "        opt = Parallel(n_jobs=self.n_jobs)(delayed(minimize)(self.acqfunc,\n",
        "                                                                 x0=start_point,\n",
        "                                                                 method=method,\n",
        "                                                                 jac = True,\n",
        "                                                                 bounds=self.parameter_range) for start_point in\n",
        "                                               start_points_arr)\n",
        "        x_best = np.array([res.x for res in opt])\n",
        "        f_best = np.array([np.atleast_1d(res.fun)[0] for res in opt])\n",
        "\n",
        "        self.x_best = x_best\n",
        "        self.f_best = f_best\n",
        "        self.best = x_best[np.argmin(f_best)]\n",
        "        self.start_points_arr = start_points_arr\n",
        "\n",
        "        return x_best, f_best\n",
        "    \n",
        "    def run(self, max_iter=10, init_evals=3, resume=False):\n",
        "        \n",
        "        if not resume:\n",
        "            self.init_evals = init_evals\n",
        "            self._firstRun(self.init_evals)\n",
        "            self.logger._printInit(self)\n",
        "        for iteration in range(max_iter):\n",
        "            self.d_optimizeAcq()\n",
        "            self.updateGP()\n",
        "            self.logger._printCurrent(self)\n",
        "\n",
        "    def acqfunc(self, xnew, n_start=n_start_AcqFunc):\n",
        "        new_mean, new_var = self.GP.predict(xnew, return_std=True)\n",
        "        new_std = np.sqrt(new_var + eps)\n",
        "        dm, ds = self.GP.AcqGrad(xnew)\n",
        "        f, df = self.A.d_eval(self.tau, new_mean, new_std, ds=ds, dm=dm)\n",
        "\n",
        "        return -f, -df * grad\n"
      ],
      "execution_count": 10,
      "outputs": []
    },
    {
      "cell_type": "code",
      "metadata": {
        "id": "qXIKGuXVGEg2"
      },
      "source": [
        "###Reproducible set-seeds:\n",
        "\n",
        "run_num_1 = 1\n",
        "run_num_2 = 2\n",
        "run_num_3 = 3\n",
        "run_num_4 = 4\n",
        "run_num_5 = 5\n",
        "run_num_6 = 6\n",
        "run_num_7 = 7\n",
        "run_num_8 = 8\n",
        "run_num_9 = 9\n",
        "run_num_10 = 10\n",
        "run_num_11 = 11\n",
        "run_num_12 = 12\n",
        "run_num_13 = 13\n",
        "run_num_14 = 14\n",
        "run_num_15 = 15\n",
        "run_num_16 = 16\n",
        "run_num_17 = 17\n",
        "run_num_18 = 18\n",
        "run_num_19 = 19\n",
        "run_num_20 = 20\n"
      ],
      "execution_count": 11,
      "outputs": []
    },
    {
      "cell_type": "code",
      "metadata": {
        "colab": {
          "base_uri": "https://localhost:8080/"
        },
        "id": "JEhagQmnTVIK",
        "outputId": "f616a35b-b131-4830-d677-5cc7e593e46b"
      },
      "source": [
        "start_approx = time.time()\n",
        "start_approx\n"
      ],
      "execution_count": 12,
      "outputs": [
        {
          "output_type": "execute_result",
          "data": {
            "text/plain": [
              "1643279134.7506046"
            ]
          },
          "metadata": {},
          "execution_count": 12
        }
      ]
    },
    {
      "cell_type": "code",
      "metadata": {
        "colab": {
          "base_uri": "https://localhost:8080/"
        },
        "id": "aH0YSTXufD1v",
        "outputId": "75b6bbf9-ee0f-402a-839e-c8dc1384407f"
      },
      "source": [
        "### ESTIMATED GP EI GRADIENTS\n",
        "\n",
        "np.random.seed(run_num_1)\n",
        "surrogate_approx_1 = GaussianProcess(cov_func, optimize=opt)\n",
        "\n",
        "approx_1 = GPGO_multi(surrogate_approx_1, Acquisition_new(util_grad_approx), objfunc, param)\n",
        "approx_1.run(init_evals=n_init, max_iter=iters)\n"
      ],
      "execution_count": 13,
      "outputs": [
        {
          "output_type": "stream",
          "name": "stdout",
          "text": [
            "Evaluation \t Proposed point \t  Current eval. \t Best eval.\n",
            "init   \t [-0.84969467  2.25612281]. \t  -20.33436270766351 \t -19.908403246996286\n",
            "init   \t [-5.1188288  -2.02411446]. \t  -33.07414982069084 \t -19.908403246996286\n",
            "init   \t [-3.61721968 -4.17445279]. \t  -53.347974723929894 \t -19.908403246996286\n",
            "init   \t [-3.21269544 -1.58145816]. \t  -39.218472310354045 \t -19.908403246996286\n",
            "init   \t [-1.05710106  0.39748336]. \t  -19.908403246996286 \t -19.908403246996286\n",
            "1      \t [ 4.04077223 -4.24914728]. \t  -44.655863836006326 \t -19.908403246996286\n",
            "2      \t [4.64028151 5.12      ]. \t  -66.81752730899376 \t -19.908403246996286\n",
            "3      \t [-5.12  5.12]. \t  -57.849427451571785 \t -19.908403246996286\n",
            "4      \t [5.12       0.33809582]. \t  -44.29589120518327 \t -19.908403246996286\n",
            "5      \t [ 0.22553122 -5.12      ]. \t  -37.4442083812247 \t -19.908403246996286\n",
            "6      \t [0.75630513 5.12      ]. \t  -39.100651914461935 \t -19.908403246996286\n",
            "7      \t [ 1.73165733 -1.39031839]. \t  -33.79944486006294 \t -19.908403246996286\n",
            "8      \t [-5.12        1.53252438]. \t  -51.065262035482036 \t -19.908403246996286\n",
            "9      \t [2.3401352  2.12959221]. \t  -28.512708117067863 \t -19.908403246996286\n",
            "10     \t [-0.69320436 -2.54695233]. \t  -40.02880483078059 \t -19.908403246996286\n",
            "11     \t [-2.12390134  5.12      ]. \t  -36.31595932191016 \t -19.908403246996286\n",
            "12     \t [-2.92078456  2.70660755]. \t  -29.76277421970933 \t -19.908403246996286\n",
            "13     \t [ 1.87123045 -3.6303233 ]. \t  -36.60977631840857 \t -19.908403246996286\n",
            "14     \t [ 5.12       -2.11637184]. \t  -35.95991261291692 \t -19.908403246996286\n",
            "15     \t [0.87623754 0.65025495]. \t  -19.92967328725949 \t -19.908403246996286\n",
            "16     \t [5.12       2.65908472]. \t  -51.402180795159225 \t -19.908403246996286\n",
            "17     \t [-2.87561161  0.51297874]. \t  -31.4008686770216 \t -19.908403246996286\n",
            "18     \t [2.47998251 4.04391683]. \t  -42.80288409346009 \t -19.908403246996286\n",
            "19     \t [-1.74997847 -5.12      ]. \t  -41.98849093025048 \t -19.908403246996286\n",
            "20     \t [3.63714851 1.07184182]. \t  -31.890559735488843 \t -19.908403246996286\n"
          ]
        }
      ]
    },
    {
      "cell_type": "code",
      "metadata": {
        "colab": {
          "base_uri": "https://localhost:8080/"
        },
        "id": "wTxsSZxFGBB5",
        "outputId": "8bb5172f-8b9e-4ded-f80c-2258e5a804df"
      },
      "source": [
        "### ESTIMATED GP EI GRADIENTS\n",
        "\n",
        "np.random.seed(run_num_2)\n",
        "surrogate_approx_2 = GaussianProcess(cov_func, optimize=opt)\n",
        "\n",
        "approx_2 = GPGO_multi(surrogate_approx_2, Acquisition_new(util_grad_approx), objfunc, param)\n",
        "approx_2.run(init_evals=n_init, max_iter=iters)\n"
      ],
      "execution_count": 14,
      "outputs": [
        {
          "output_type": "stream",
          "name": "stdout",
          "text": [
            "Evaluation \t Proposed point \t  Current eval. \t Best eval.\n",
            "init   \t [-0.6554122  -4.85451539]. \t  -43.490296251903594 \t -18.964539418712707\n",
            "init   \t [ 0.50854377 -0.6622987 ]. \t  -35.91861667536101 \t -18.964539418712707\n",
            "init   \t [-0.81543371 -1.73737143]. \t  -20.479562046739524 \t -18.964539418712707\n",
            "init   \t [-3.02439799  1.2213347 ]. \t  -18.964539418712707 \t -18.964539418712707\n",
            "init   \t [-2.05153614 -2.3876887 ]. \t  -28.041315668371354 \t -18.964539418712707\n",
            "1      \t [ 5.12 -5.12]. \t  -57.849427451571785 \t -18.964539418712707\n",
            "2      \t [4.77484577 5.12      ]. \t  -60.169093311219 \t -18.964539418712707\n",
            "3      \t [-0.33018751  5.12      ]. \t  -43.86159508626071 \t -18.964539418712707\n",
            "4      \t [5.12       0.08035632]. \t  -30.17891149546477 \t -18.964539418712707\n",
            "5      \t [-5.12  5.12]. \t  -57.849427451571785 \t -18.964539418712707\n",
            "6      \t [-5.12 -5.12]. \t  -57.849427451571785 \t -18.964539418712707\n",
            "7      \t [2.21222967 2.42058184]. \t  -37.182830503110985 \t -18.964539418712707\n",
            "8      \t [-5.12       -1.23376938]. \t  -39.428867644576115 \t -18.964539418712707\n",
            "9      \t [ 2.61529471 -2.99623712]. \t  -33.30885030765323 \t -18.964539418712707\n",
            "10     \t [-0.72600779  2.16940141]. \t  -21.884701106061854 \t -18.964539418712707\n",
            "11     \t [-5.12        2.08416156]. \t  -34.6343258313273 \t -18.964539418712707\n",
            "12     \t [5.12      2.4530537]. \t  -54.51028817434575 \t -18.964539418712707\n",
            "13     \t [ 5.12       -2.31183251]. \t  -48.05733685983902 \t -18.964539418712707\n",
            "14     \t [-2.68770585  3.8501487 ]. \t  -39.97688083153335 \t -18.964539418712707\n",
            "15     \t [ 2.83679658 -0.18929861]. \t  -19.17381405192582 \t -18.964539418712707\n",
            "16     \t [ 2.01548556 -5.12      ]. \t  -33.0341935848719 \t -18.964539418712707\n",
            "17     \t [2.14374511 5.12      ]. \t  -37.329176254533884 \t -18.964539418712707\n",
            "18     \t [-2.80497738 -5.12      ]. \t  -43.40656977218383 \t -18.964539418712707\n",
            "19     \t [-2.24038654 -0.19774968]. \t  -21.230443793905764 \t -18.964539418712707\n",
            "20     \t [0.69558842 0.97492405]. \t  \u001b[92m-14.910754535749911\u001b[0m \t -14.910754535749911\n"
          ]
        }
      ]
    },
    {
      "cell_type": "code",
      "metadata": {
        "colab": {
          "base_uri": "https://localhost:8080/"
        },
        "id": "-dgzIrUIGCGT",
        "outputId": "3383f848-74ea-44df-9894-c7fb71fa4951"
      },
      "source": [
        "### ESTIMATED GP EI GRADIENTS\n",
        "\n",
        "np.random.seed(run_num_3)\n",
        "surrogate_approx_3 = GaussianProcess(cov_func, optimize=opt)\n",
        "\n",
        "approx_3 = GPGO_multi(surrogate_approx_3, Acquisition_new(util_grad_approx), objfunc, param)\n",
        "approx_3.run(init_evals=n_init, max_iter=iters)\n"
      ],
      "execution_count": 15,
      "outputs": [
        {
          "output_type": "stream",
          "name": "stdout",
          "text": [
            "Evaluation \t Proposed point \t  Current eval. \t Best eval.\n",
            "init   \t [0.52017052 2.1314337 ]. \t  -27.953858411008774 \t -10.607662635789808\n",
            "init   \t [-2.14113547  0.11087468]. \t  -10.607662635789808 \t -10.607662635789808\n",
            "init   \t [4.02377681 4.05804123]. \t  -33.42749829480097 \t -10.607662635789808\n",
            "init   \t [-3.83400642 -2.99783293]. \t  -28.650953928965198 \t -10.607662635789808\n",
            "init   \t [-4.59297584 -0.6061072 ]. \t  -57.6631355589384 \t -10.607662635789808\n",
            "1      \t [ 5.12 -5.12]. \t  -57.849427451571785 \t -10.607662635789808\n",
            "2      \t [-4.61904204  5.12      ]. \t  -67.59102009462822 \t -10.607662635789808\n",
            "3      \t [ 5.12       -0.40159891]. \t  -47.234806525771404 \t -10.607662635789808\n",
            "4      \t [ 0.29071736 -5.12      ]. \t  -41.53976060750644 \t -10.607662635789808\n",
            "5      \t [ 1.34927722 -1.51093783]. \t  -39.92092770530185 \t -10.607662635789808\n",
            "6      \t [-0.80321914  5.12      ]. \t  -36.28798476592165 \t -10.607662635789808\n",
            "7      \t [-2.83254219  2.46988965]. \t  -38.98833187418504 \t -10.607662635789808\n",
            "8      \t [-5.12 -5.12]. \t  -57.849427451571785 \t -10.607662635789808\n",
            "9      \t [-1.29193397 -2.45233747]. \t  -39.842384439838895 \t -10.607662635789808\n",
            "10     \t [2.99550784 1.38871498]. \t  -28.558995798076847 \t -10.607662635789808\n",
            "11     \t [ 2.85586124 -3.62592368]. \t  -42.16143820182259 \t -10.607662635789808\n",
            "12     \t [-2.30541263 -5.12      ]. \t  -47.651402374765254 \t -10.607662635789808\n",
            "13     \t [-5.12        2.15780815]. \t  -38.10681437517889 \t -10.607662635789808\n",
            "14     \t [1.78454006 5.12      ]. \t  -39.95607651318983 \t -10.607662635789808\n",
            "15     \t [5.12       2.19509189]. \t  -40.36119576236298 \t -10.607662635789808\n",
            "16     \t [-0.59568858  0.19929874]. \t  -25.508930004113893 \t -10.607662635789808\n",
            "17     \t [-0.87023704  3.35303777]. \t  -31.175042757774655 \t -10.607662635789808\n",
            "18     \t [ 5.12       -2.64157806]. \t  -52.20017772659336 \t -10.607662635789808\n",
            "19     \t [5.12 5.12]. \t  -57.849427451571785 \t -10.607662635789808\n",
            "20     \t [2.4519435  2.74120935]. \t  -43.62589778835599 \t -10.607662635789808\n"
          ]
        }
      ]
    },
    {
      "cell_type": "code",
      "metadata": {
        "colab": {
          "base_uri": "https://localhost:8080/"
        },
        "id": "hOtG-2sCGCKS",
        "outputId": "6adb5e82-0523-42bf-f071-99184f3532da"
      },
      "source": [
        "### ESTIMATED GP EI GRADIENTS\n",
        "\n",
        "np.random.seed(run_num_4)\n",
        "surrogate_approx_4 = GaussianProcess(cov_func, optimize=opt)\n",
        "\n",
        "approx_4 = GPGO_multi(surrogate_approx_4, Acquisition_new(util_grad_approx), objfunc, param)\n",
        "approx_4.run(init_evals=n_init, max_iter=iters)\n"
      ],
      "execution_count": 16,
      "outputs": [
        {
          "output_type": "stream",
          "name": "stdout",
          "text": [
            "Evaluation \t Proposed point \t  Current eval. \t Best eval.\n",
            "init   \t [4.78238555 0.48365823]. \t  -51.03163809010808 \t -14.323038259018315\n",
            "init   \t [4.84028785 2.19971578]. \t  -39.78645699016559 \t -14.323038259018315\n",
            "init   \t [ 2.02474316 -2.90724357]. \t  -14.323038259018315 \t -14.323038259018315\n",
            "init   \t [ 4.87705042 -5.05620219]. \t  -52.80627247106233 \t -14.323038259018315\n",
            "init   \t [-2.52946061 -0.66773471]. \t  -41.61497868486559 \t -14.323038259018315\n",
            "1      \t [-0.75213717  4.73292922]. \t  -43.90258428635684 \t -14.323038259018315\n",
            "2      \t [-5.12 -5.12]. \t  -57.849427451571785 \t -14.323038259018315\n",
            "3      \t [-5.12        3.36771998]. \t  -57.0065931877583 \t -14.323038259018315\n",
            "4      \t [-0.95956457 -5.12      ]. \t  -30.16648642810128 \t -14.323038259018315\n",
            "5      \t [0.89090861 1.10665806]. \t  \u001b[92m-6.439742827630441\u001b[0m \t -6.439742827630441\n",
            "6      \t [2.95832758 5.12      ]. \t  -38.01725113264108 \t -6.439742827630441\n",
            "7      \t [-5.12       -1.83363717]. \t  -37.2704152332493 \t -6.439742827630441\n",
            "8      \t [-2.00817359  2.13669147]. \t  -12.078369779736487 \t -6.439742827630441\n",
            "9      \t [ 0.4230478  -1.07673892]. \t  -21.3321142799052 \t -6.439742827630441\n",
            "10     \t [ 5.12       -2.25305237]. \t  -44.19273313346537 \t -6.439742827630441\n",
            "11     \t [ 1.8232651 -5.12     ]. \t  -37.80649803925334 \t -6.439742827630441\n",
            "12     \t [1.6839459  2.60377786]. \t  -41.595889727023355 \t -6.439742827630441\n",
            "13     \t [-5.12        0.70852619]. \t  -42.00320709533461 \t -6.439742827630441\n",
            "14     \t [-2.65165755 -3.36538842]. \t  -50.781811177162076 \t -6.439742827630441\n",
            "15     \t [-3.29111523  5.12      ]. \t  -52.31086086365826 \t -6.439742827630441\n",
            "16     \t [5.12 5.12]. \t  -57.849427451571785 \t -6.439742827630441\n",
            "17     \t [ 2.38665718 -0.33870784]. \t  -38.669958428841746 \t -6.439742827630441\n",
            "18     \t [-0.38601631  1.12960897]. \t  -22.104850973209388 \t -6.439742827630441\n",
            "19     \t [-0.10204959 -4.13543896]. \t  -22.506057749492076 \t -6.439742827630441\n",
            "20     \t [ 1.30180419 -2.20995822]. \t  -27.28694921186064 \t -6.439742827630441\n"
          ]
        }
      ]
    },
    {
      "cell_type": "code",
      "metadata": {
        "colab": {
          "base_uri": "https://localhost:8080/"
        },
        "id": "JF_SxcEvGCOl",
        "outputId": "95aa66b1-a0fe-4607-f672-2e3e29760656"
      },
      "source": [
        "### ESTIMATED GP EI GRADIENTS\n",
        "\n",
        "np.random.seed(run_num_5)\n",
        "surrogate_approx_5 = GaussianProcess(cov_func, optimize=opt)\n",
        "\n",
        "approx_5 = GPGO_multi(surrogate_approx_5, Acquisition_new(util_grad_approx), objfunc, param)\n",
        "approx_5.run(init_evals=n_init, max_iter=iters)\n"
      ],
      "execution_count": 17,
      "outputs": [
        {
          "output_type": "stream",
          "name": "stdout",
          "text": [
            "Evaluation \t Proposed point \t  Current eval. \t Best eval.\n",
            "init   \t [-2.84678993  3.79629882]. \t  -33.93442008827236 \t -7.8108627039749745\n",
            "init   \t [-3.00319585  4.2865757 ]. \t  -39.673876075575784 \t -7.8108627039749745\n",
            "init   \t [-0.11866943  1.14425716]. \t  -7.8108627039749745 \t -7.8108627039749745\n",
            "init   \t [2.72289645 0.1886002 ]. \t  -25.38160395721669 \t -7.8108627039749745\n",
            "init   \t [-2.08076286 -3.19773462]. \t  -22.589982116319675 \t -7.8108627039749745\n",
            "1      \t [ 5.12       -4.82910414]. \t  -57.47682591577337 \t -7.8108627039749745\n",
            "2      \t [5.12 5.12]. \t  -57.849427451571785 \t -7.8108627039749745\n",
            "3      \t [-5.12       -0.04624623]. \t  -29.346055646927017 \t -7.8108627039749745\n",
            "4      \t [1.00367618 5.12      ]. \t  -29.934747080138813 \t -7.8108627039749745\n",
            "5      \t [-5.12 -5.12]. \t  -57.849427451571785 \t -7.8108627039749745\n",
            "6      \t [ 1.10695801 -5.12      ]. \t  -32.324518858419424 \t -7.8108627039749745\n",
            "7      \t [ 5.12       -1.43814139]. \t  -50.24710665015467 \t -7.8108627039749745\n",
            "8      \t [ 0.60095115 -1.8798776 ]. \t  -24.66556063641847 \t -7.8108627039749745\n",
            "9      \t [5.12       1.92589268]. \t  -33.698387675740456 \t -7.8108627039749745\n",
            "10     \t [-2.19754621  0.01747611]. \t  -11.653313172299129 \t -7.8108627039749745\n",
            "11     \t [2.18576673 2.78412814]. \t  -26.47378646614346 \t -7.8108627039749745\n",
            "12     \t [-5.12        2.61671811]. \t  -53.201212371109406 \t -7.8108627039749745\n",
            "13     \t [-5.12       -2.41250675]. \t  -53.2715259261543 \t -7.8108627039749745\n",
            "14     \t [ 2.79552797 -3.03525441]. \t  -24.450326225720026 \t -7.8108627039749745\n",
            "15     \t [-1.68214973 -5.12      ]. \t  -45.889533379211336 \t -7.8108627039749745\n",
            "16     \t [-0.5525305   2.80290375]. \t  -34.35862747203634 \t -7.8108627039749745\n",
            "17     \t [-0.13848235  0.11768802]. \t  \u001b[92m-6.197250199569677\u001b[0m \t -6.197250199569677\n",
            "18     \t [-2.74272761  1.33636317]. \t  -34.92914966386003 \t -6.197250199569677\n",
            "19     \t [-1.85557444 -1.21696296]. \t  -16.70570198614631 \t -6.197250199569677\n",
            "20     \t [0.60700641 0.51646576]. \t  -38.40538148979724 \t -6.197250199569677\n"
          ]
        }
      ]
    },
    {
      "cell_type": "code",
      "metadata": {
        "colab": {
          "base_uri": "https://localhost:8080/"
        },
        "id": "-kDxZtJsGCR3",
        "outputId": "df8f4353-bc15-4581-aa53-df6ef2ea9bae"
      },
      "source": [
        "### ESTIMATED GP EI GRADIENTS\n",
        "\n",
        "np.random.seed(run_num_6)\n",
        "surrogate_approx_6 = GaussianProcess(cov_func, optimize=opt)\n",
        "\n",
        "approx_6 = GPGO_multi(surrogate_approx_6, Acquisition_new(util_grad_approx), objfunc, param)\n",
        "approx_6.run(init_evals=n_init, max_iter=iters)\n"
      ],
      "execution_count": 18,
      "outputs": [
        {
          "output_type": "stream",
          "name": "stdout",
          "text": [
            "Evaluation \t Proposed point \t  Current eval. \t Best eval.\n",
            "init   \t [ 4.02288795 -1.72052679]. \t  -31.08835710146886 \t -17.28954482757088\n",
            "init   \t [ 3.28938622 -4.69302655]. \t  -58.797867722203385 \t -17.28954482757088\n",
            "init   \t [-4.0175956   0.97333314]. \t  -17.28954482757088 \t -17.28954482757088\n",
            "init   \t [ 0.30532979 -0.83141193]. \t  -19.296253155889353 \t -17.28954482757088\n",
            "init   \t [-1.68542362  1.25459899]. \t  -28.650630936276173 \t -17.28954482757088\n",
            "1      \t [-3.50682913 -4.82182882]. \t  -61.17719800274786 \t -17.28954482757088\n",
            "2      \t [5.12 5.12]. \t  -57.849427451571785 \t -17.28954482757088\n",
            "3      \t [-5.12  5.12]. \t  -57.849427451571785 \t -17.28954482757088\n",
            "4      \t [0.39543546 5.12      ]. \t  -46.999373090619045 \t -17.28954482757088\n",
            "5      \t [2.8423059  1.91250897]. \t  -17.72966633001967 \t -17.28954482757088\n",
            "6      \t [-5.12       -1.80313796]. \t  -38.89894920549178 \t -17.28954482757088\n",
            "7      \t [-0.11793256 -4.27602974]. \t  -32.548561739375906 \t -17.28954482757088\n",
            "8      \t [5.12      1.1216648]. \t  -32.9651620711159 \t -17.28954482757088\n",
            "9      \t [-2.1524198  -1.84298302]. \t  \u001b[92m-16.75975404440311\u001b[0m \t -16.75975404440311\n",
            "10     \t [-2.34769642  4.03943034]. \t  -37.894150188377196 \t -16.75975404440311\n",
            "11     \t [-5.12        2.43494875]. \t  -54.029955969540694 \t -16.75975404440311\n",
            "12     \t [0.64354516 2.21401111]. \t  -29.27501012413403 \t -16.75975404440311\n",
            "13     \t [ 1.64082062 -2.38178664]. \t  -42.06569784214023 \t -16.75975404440311\n",
            "14     \t [2.746907  4.1429452]. \t  -38.67324835367704 \t -16.75975404440311\n",
            "15     \t [-3.14397632 -0.44795825]. \t  -33.37562844678702 \t -16.75975404440311\n",
            "16     \t [ 5.12       -3.46514499]. \t  -60.69309434914981 \t -16.75975404440311\n",
            "17     \t [2.39403896 0.12596162]. \t  -26.583469909964354 \t -16.75975404440311\n",
            "18     \t [-1.17930262 -2.57979762]. \t  -32.51789696770649 \t -16.75975404440311\n",
            "19     \t [ 1.64771181 -5.04664027]. \t  -44.60341226542793 \t -16.75975404440311\n",
            "20     \t [-3.8240752  -2.91744674]. \t  -29.96233531213317 \t -16.75975404440311\n"
          ]
        }
      ]
    },
    {
      "cell_type": "code",
      "metadata": {
        "colab": {
          "base_uri": "https://localhost:8080/"
        },
        "id": "fKB8MCD_GCVI",
        "outputId": "5d1004f7-0ca9-47ac-a85d-e084ea198461"
      },
      "source": [
        "### ESTIMATED GP EI GRADIENTS\n",
        "\n",
        "np.random.seed(run_num_7)\n",
        "surrogate_approx_7 = GaussianProcess(cov_func, optimize=opt)\n",
        "\n",
        "approx_7 = GPGO_multi(surrogate_approx_7, Acquisition_new(util_grad_approx), objfunc, param)\n",
        "approx_7.run(init_evals=n_init, max_iter=iters)\n"
      ],
      "execution_count": 19,
      "outputs": [
        {
          "output_type": "stream",
          "name": "stdout",
          "text": [
            "Evaluation \t Proposed point \t  Current eval. \t Best eval.\n",
            "init   \t [-4.33860312  2.86636843]. \t  -45.646133072936244 \t -22.52235437888213\n",
            "init   \t [-0.63068947  2.28828342]. \t  -34.83012662845338 \t -22.52235437888213\n",
            "init   \t [4.8946126  0.39419771]. \t  -44.09657005662876 \t -22.52235437888213\n",
            "init   \t [ 0.01147355 -4.38219639]. \t  -36.613209822404315 \t -22.52235437888213\n",
            "init   \t [-2.37118484e+00 -1.20319155e-03]. \t  -22.52235437888213 \t -22.52235437888213\n",
            "1      \t [-5.12 -5.12]. \t  -57.849427451571785 \t -22.52235437888213\n",
            "2      \t [ 5.12 -5.12]. \t  -57.849427451571785 \t -22.52235437888213\n",
            "3      \t [3.59148274 5.12      ]. \t  -60.216456152688124 \t -22.52235437888213\n",
            "4      \t [-4.02558214 -1.33646422]. \t  -33.289738493146906 \t -22.52235437888213\n",
            "5      \t [ 1.40596234 -0.96124897]. \t  \u001b[92m-21.500321781402842\u001b[0m \t -21.500321781402842\n",
            "6      \t [-1.80774681  5.12      ]. \t  -38.64341172628781 \t -21.500321781402842\n",
            "7      \t [2.33744232 2.13046197]. \t  -28.40011689272525 \t -21.500321781402842\n",
            "8      \t [ 3.57934997 -2.5392969 ]. \t  -57.73916802836034 \t -21.500321781402842\n",
            "9      \t [-2.52339264 -3.63387362]. \t  -56.130766161259324 \t -21.500321781402842\n",
            "10     \t [-5.12  5.12]. \t  -57.849427451571785 \t -21.500321781402842\n",
            "11     \t [0.80579214 5.12      ]. \t  -36.139848403673454 \t -21.500321781402842\n",
            "12     \t [ 2.3217479 -5.12     ]. \t  -48.67213262645645 \t -21.500321781402842\n",
            "13     \t [5.12      2.9941621]. \t  -37.896447000753255 \t -21.500321781402842\n",
            "14     \t [-0.64387    -1.53213345]. \t  -38.743890774607934 \t -21.500321781402842\n",
            "15     \t [ 3.25667925 -0.42133209]. \t  -40.0061081202604 \t -21.500321781402842\n",
            "16     \t [-5.12        0.58600144]. \t  -47.84333141665796 \t -21.500321781402842\n",
            "17     \t [-2.19405477  0.94961621]. \t  \u001b[92m-12.769362746067559\u001b[0m \t -12.769362746067559\n",
            "18     \t [ 1.19347349 -2.25353536]. \t  -23.24745028953262 \t -12.769362746067559\n",
            "19     \t [0.63513526 0.6105198 ]. \t  -35.06714553712486 \t -12.769362746067559\n",
            "20     \t [-3.55098647  4.45289609]. \t  -71.4942359968112 \t -12.769362746067559\n"
          ]
        }
      ]
    },
    {
      "cell_type": "code",
      "metadata": {
        "colab": {
          "base_uri": "https://localhost:8080/"
        },
        "id": "4unvifF-GCXp",
        "outputId": "6eefcdac-b310-4100-c0af-b17cf45a6b6f"
      },
      "source": [
        "### ESTIMATED GP EI GRADIENTS\n",
        "\n",
        "np.random.seed(run_num_8)\n",
        "surrogate_approx_8 = GaussianProcess(cov_func, optimize=opt)\n",
        "\n",
        "approx_8 = GPGO_multi(surrogate_approx_8, Acquisition_new(util_grad_approx), objfunc, param)\n",
        "approx_8.run(init_evals=n_init, max_iter=iters)\n"
      ],
      "execution_count": 20,
      "outputs": [
        {
          "output_type": "stream",
          "name": "stdout",
          "text": [
            "Evaluation \t Proposed point \t  Current eval. \t Best eval.\n",
            "init   \t [3.82391708 4.79785639]. \t  -50.20079446939181 \t -13.871821018360485\n",
            "init   \t [3.78055209 0.31596228]. \t  -36.5114251593508 \t -13.871821018360485\n",
            "init   \t [-2.73686192 -5.00327624]. \t  -43.34985765011677 \t -13.871821018360485\n",
            "init   \t [-0.7119993  -0.99992207]. \t  -13.871821018360485 \t -13.871821018360485\n",
            "init   \t [ 0.23218863 -0.22126801]. \t  -17.190590355445654 \t -13.871821018360485\n",
            "1      \t [-3.08049418  4.13284171]. \t  -31.107529727094295 \t -13.871821018360485\n",
            "2      \t [ 5.12 -5.12]. \t  -57.849427451571785 \t -13.871821018360485\n",
            "3      \t [-5.12       -0.39982603]. \t  -47.168314618373735 \t -13.871821018360485\n",
            "4      \t [ 1.18398246 -4.40957112]. \t  -45.244868241394975 \t -13.871821018360485\n",
            "5      \t [0.42088125 3.28854336]. \t  -42.179413920587116 \t -13.871821018360485\n",
            "6      \t [-2.38772959  1.21881037]. \t  -32.85298868042359 \t -13.871821018360485\n",
            "7      \t [ 5.12       -2.11274933]. \t  -35.79454727217525 \t -13.871821018360485\n",
            "8      \t [-5.12       -3.49173971]. \t  -61.103494390414404 \t -13.871821018360485\n",
            "9      \t [-5.12       2.6239697]. \t  -52.926625135329516 \t -13.871821018360485\n",
            "10     \t [5.12       2.45000556]. \t  -54.43791404861162 \t -13.871821018360485\n",
            "11     \t [-2.40451671 -2.09521426]. \t  -30.162091324476282 \t -13.871821018360485\n",
            "12     \t [ 2.1322248  -1.86139614]. \t  -14.826688922921893 \t -13.871821018360485\n",
            "13     \t [-5.12  5.12]. \t  -57.849427451571785 \t -13.871821018360485\n",
            "14     \t [1.72922631 1.31540625]. \t  -30.01695541807097 \t -13.871821018360485\n",
            "15     \t [ 3.24236214 -3.38194626]. \t  -48.843606251286204 \t -13.871821018360485\n",
            "16     \t [-0.29473695 -2.7236633 ]. \t  -31.926489425824137 \t -13.871821018360485\n",
            "17     \t [-0.74487209  0.60054416]. \t  -29.307654133805116 \t -13.871821018360485\n",
            "18     \t [0.68465518 4.4767246 ]. \t  -54.39442390069189 \t -13.871821018360485\n",
            "19     \t [ 1.55367953 -0.95890877]. \t  -23.10146106774845 \t -13.871821018360485\n",
            "20     \t [-2.29349869  3.07090807]. \t  -28.365985948307426 \t -13.871821018360485\n"
          ]
        }
      ]
    },
    {
      "cell_type": "code",
      "metadata": {
        "colab": {
          "base_uri": "https://localhost:8080/"
        },
        "id": "85OIXcg7GCaJ",
        "outputId": "17f1118f-57b4-4241-f289-4562bebe7b21"
      },
      "source": [
        "### ESTIMATED GP EI GRADIENTS\n",
        "\n",
        "np.random.seed(run_num_9)\n",
        "surrogate_approx_9 = GaussianProcess(cov_func, optimize=opt)\n",
        "\n",
        "approx_9 = GPGO_multi(surrogate_approx_9, Acquisition_new(util_grad_approx), objfunc, param)\n",
        "approx_9.run(init_evals=n_init, max_iter=iters)\n"
      ],
      "execution_count": 21,
      "outputs": [
        {
          "output_type": "stream",
          "name": "stdout",
          "text": [
            "Evaluation \t Proposed point \t  Current eval. \t Best eval.\n",
            "init   \t [-5.01376866  0.01919582]. \t  -25.248289026162446 \t -24.454800313488693\n",
            "init   \t [-0.04328148 -3.74958562]. \t  -24.454800313488693 \t -24.454800313488693\n",
            "init   \t [-3.66478248 -2.88195916]. \t  -39.46509426509438 \t -24.454800313488693\n",
            "init   \t [-0.83447623 -2.57944404]. \t  -31.06766397812992 \t -24.454800313488693\n",
            "init   \t [-4.25922917 -1.58209393]. \t  -49.922543556206975 \t -24.454800313488693\n",
            "1      \t [3.69491889 4.82146316]. \t  -55.95031066333101 \t -24.454800313488693\n",
            "2      \t [-2.19884748  5.08680517]. \t  -39.002426583702 \t -24.454800313488693\n",
            "3      \t [ 5.10452216 -0.68397541]. \t  -42.63453098314871 \t -24.454800313488693\n",
            "4      \t [ 4.49553512 -5.12      ]. \t  -69.13061496361522 \t -24.454800313488693\n",
            "5      \t [0.62467974 1.48438828]. \t  -39.6308447203286 \t -24.454800313488693\n",
            "6      \t [-5.12        3.40866689]. \t  -58.94182561458615 \t -24.454800313488693\n",
            "7      \t [ 2.19603187 -1.69761718]. \t  -27.610360693384305 \t -24.454800313488693\n",
            "8      \t [-2.38119449  1.43087426]. \t  -44.129868089806955 \t -24.454800313488693\n",
            "9      \t [0.6872057 5.12     ]. \t  -43.24087697385325 \t -24.454800313488693\n",
            "10     \t [3.74025274 1.8347847 ]. \t  -32.889215520669616 \t -24.454800313488693\n",
            "11     \t [-5.12 -5.12]. \t  -57.849427451571785 \t -24.454800313488693\n",
            "12     \t [-0.76267303 -0.52627876]. \t  -29.927206390244052 \t -24.454800313488693\n",
            "13     \t [-0.82768339  3.25125423]. \t  -26.645040149323993 \t -24.454800313488693\n",
            "14     \t [ 1.62944877 -5.12      ]. \t  -48.450494513017986 \t -24.454800313488693\n",
            "15     \t [ 5.12      -2.8268313]. \t  -42.27356404585153 \t -24.454800313488693\n",
            "16     \t [2.48032038 0.15135082]. \t  -30.289569643283833 \t -24.454800313488693\n",
            "17     \t [-2.34863672 -3.58784535]. \t  -52.7121118170932 \t -24.454800313488693\n",
            "18     \t [1.9358038  3.15894413]. \t  \u001b[92m-19.114613205711834\u001b[0m \t -19.114613205711834\n",
            "19     \t [ 2.2563622  -3.10193575]. \t  -27.09473486710963 \t -19.114613205711834\n",
            "20     \t [ 0.91410357 -0.70379965]. \t  \u001b[92m-15.61456315105384\u001b[0m \t -15.61456315105384\n"
          ]
        }
      ]
    },
    {
      "cell_type": "code",
      "metadata": {
        "colab": {
          "base_uri": "https://localhost:8080/"
        },
        "id": "QQBR-qJPGCcp",
        "outputId": "8baf216d-ec08-40c8-ce10-86b53d87a43e"
      },
      "source": [
        "### ESTIMATED GP EI GRADIENTS\n",
        "\n",
        "np.random.seed(run_num_10)\n",
        "surrogate_approx_10 = GaussianProcess(cov_func, optimize=opt)\n",
        "\n",
        "approx_10 = GPGO_multi(surrogate_approx_10, Acquisition_new(util_grad_approx), objfunc, param)\n",
        "approx_10.run(init_evals=n_init, max_iter=iters)\n"
      ],
      "execution_count": 22,
      "outputs": [
        {
          "output_type": "stream",
          "name": "stdout",
          "text": [
            "Evaluation \t Proposed point \t  Current eval. \t Best eval.\n",
            "init   \t [ 2.77832339 -4.90750004]. \t  -41.674330194390116 \t -13.839458310244165\n",
            "init   \t [1.36855793 2.54775176]. \t  -44.69639719065837 \t -13.839458310244165\n",
            "init   \t [-0.01528819 -2.81808235]. \t  -13.839458310244165 \t -13.839458310244165\n",
            "init   \t [-3.09183626  2.66783449]. \t  -33.23221510904937 \t -13.839458310244165\n",
            "init   \t [-3.38830503 -4.2154003 ]. \t  -54.73014366983691 \t -13.839458310244165\n",
            "1      \t [ 5.12       -0.56860392]. \t  -48.33329462653664 \t -13.839458310244165\n",
            "2      \t [5.12 5.12]. \t  -57.849427451571785 \t -13.839458310244165\n",
            "3      \t [-5.12       -0.60617914]. \t  -47.14809173422459 \t -13.839458310244165\n",
            "4      \t [-5.12  5.12]. \t  -57.849427451571785 \t -13.839458310244165\n",
            "5      \t [-0.83793555  5.12      ]. \t  -34.37854972204409 \t -13.839458310244165\n",
            "6      \t [-1.23133194 -0.10555144]. \t  \u001b[92m-12.476791500721827\u001b[0m \t -12.476791500721827\n",
            "7      \t [ 1.89650273 -0.79267969]. \t  -13.616377620323334 \t -12.476791500721827\n",
            "8      \t [-0.3844307 -5.12     ]. \t  -46.54990815147971 \t -12.476791500721827\n",
            "9      \t [ 5.12       -3.59889678]. \t  -60.00749079695247 \t -12.476791500721827\n",
            "10     \t [4.53188807 2.23124506]. \t  -54.14073459521484 \t -12.476791500721827\n",
            "11     \t [2.14105337 5.12      ]. \t  -37.185718917688064 \t -12.476791500721827\n",
            "12     \t [-2.40775833 -1.64850897]. \t  -42.835241805149316 \t -12.476791500721827\n",
            "13     \t [-0.92614499  1.5730992 ]. \t  -23.353539325759506 \t -12.476791500721827\n",
            "14     \t [-5.12        2.04460682]. \t  -33.495330910396206 \t -12.476791500721827\n",
            "15     \t [ 2.34621985 -2.44967493]. \t  -46.69394877759186 \t -12.476791500721827\n",
            "16     \t [-5.12 -5.12]. \t  -57.849427451571785 \t -12.476791500721827\n",
            "17     \t [2.50557289 0.41816719]. \t  -45.15363822656498 \t -12.476791500721827\n",
            "18     \t [-5.12       -2.67621194]. \t  -50.55874957663676 \t -12.476791500721827\n",
            "19     \t [ 0.23651517 -0.75067054]. \t  -19.7310506126372 \t -12.476791500721827\n",
            "20     \t [-3.07730341  4.02975103]. \t  -27.039468593004102 \t -12.476791500721827\n"
          ]
        }
      ]
    },
    {
      "cell_type": "code",
      "metadata": {
        "colab": {
          "base_uri": "https://localhost:8080/"
        },
        "id": "JS8ejeQ2GCfi",
        "outputId": "abcb7085-4ca8-4684-b9c7-f4371800732b"
      },
      "source": [
        "### ESTIMATED GP EI GRADIENTS\n",
        "\n",
        "np.random.seed(run_num_11)\n",
        "surrogate_approx_11 = GaussianProcess(cov_func, optimize=opt)\n",
        "\n",
        "approx_11 = GPGO_multi(surrogate_approx_11, Acquisition_new(util_grad_approx), objfunc, param)\n",
        "approx_11.run(init_evals=n_init, max_iter=iters)\n"
      ],
      "execution_count": 23,
      "outputs": [
        {
          "output_type": "stream",
          "name": "stdout",
          "text": [
            "Evaluation \t Proposed point \t  Current eval. \t Best eval.\n",
            "init   \t [-3.27403839 -4.92057353]. \t  -47.655641290890955 \t -10.679755252484755\n",
            "init   \t [-0.37664229  2.30332343]. \t  -35.87889240695259 \t -10.679755252484755\n",
            "init   \t [-0.81711509 -0.14922651]. \t  -10.679755252484755 \t -10.679755252484755\n",
            "init   \t [-4.98912446 -0.12931474]. \t  -28.05462905574235 \t -10.679755252484755\n",
            "init   \t [4.52410012 3.59214172]. \t  -71.62694632141611 \t -10.679755252484755\n",
            "1      \t [ 3.73200785 -5.12      ]. \t  -53.98067014717985 \t -10.679755252484755\n",
            "2      \t [-5.12  5.12]. \t  -57.849427451571785 \t -10.679755252484755\n",
            "3      \t [ 5.12       -0.89340857]. \t  -31.88302241474738 \t -10.679755252484755\n",
            "4      \t [ 0.31356402 -3.36750127]. \t  -42.05708481864723 \t -10.679755252484755\n",
            "5      \t [1.20983398 5.12      ]. \t  -37.89141107596778 \t -10.679755252484755\n",
            "6      \t [2.15080963 0.11826982]. \t  -11.439676550889681 \t -10.679755252484755\n",
            "7      \t [-1.93524339  5.12      ]. \t  -33.4862718263164 \t -10.679755252484755\n",
            "8      \t [-3.48347002  2.27241248]. \t  -48.64810254427019 \t -10.679755252484755\n",
            "9      \t [-2.67788885 -1.87845781]. \t  -27.854116556538568 \t -10.679755252484755\n",
            "10     \t [-5.12       -2.92559797]. \t  -38.55677784470835 \t -10.679755252484755\n",
            "11     \t [ 2.83474765 -2.22575392]. \t  -26.39547403977829 \t -10.679755252484755\n",
            "12     \t [2.20443125 2.05643774]. \t  -16.886419579677785 \t -10.679755252484755\n",
            "13     \t [5.12       1.17109886]. \t  -35.539266958134576 \t -10.679755252484755\n",
            "14     \t [ 0.63093325 -0.73443823]. \t  -28.716301994895176 \t -10.679755252484755\n",
            "15     \t [-0.79710765 -5.12      ]. \t  -36.64326227882336 \t -10.679755252484755\n",
            "16     \t [-5.01765715 -4.69688599]. \t  -60.5747493776605 \t -10.679755252484755\n",
            "17     \t [-2.12985375  0.23382464]. \t  -16.72420550350336 \t -10.679755252484755\n",
            "18     \t [ 5.12       -3.18030299]. \t  -44.798480966400724 \t -10.679755252484755\n",
            "19     \t [2.81838208 1.45745274]. \t  -35.54664367191485 \t -10.679755252484755\n",
            "20     \t [ 2.17713294 -0.83168554]. \t  -16.101447219533263 \t -10.679755252484755\n"
          ]
        }
      ]
    },
    {
      "cell_type": "code",
      "metadata": {
        "colab": {
          "base_uri": "https://localhost:8080/"
        },
        "id": "DXwjUVZ4GCii",
        "outputId": "5776fbd4-339f-4a7c-d30e-374d37b062d9"
      },
      "source": [
        "### ESTIMATED GP EI GRADIENTS\n",
        "\n",
        "np.random.seed(run_num_12)\n",
        "surrogate_approx_12 = GaussianProcess(cov_func, optimize=opt)\n",
        "\n",
        "approx_12 = GPGO_multi(surrogate_approx_12, Acquisition_new(util_grad_approx), objfunc, param)\n",
        "approx_12.run(init_evals=n_init, max_iter=iters)\n"
      ],
      "execution_count": 24,
      "outputs": [
        {
          "output_type": "stream",
          "name": "stdout",
          "text": [
            "Evaluation \t Proposed point \t  Current eval. \t Best eval.\n",
            "init   \t [-3.54137249  2.45810889]. \t  -57.903242869085595 \t -40.51116653209555\n",
            "init   \t [-2.42365424  0.34549139]. \t  -40.51116653209555 \t -40.51116653209555\n",
            "init   \t [-4.97075238  4.28796936]. \t  -55.62655915398208 \t -40.51116653209555\n",
            "init   \t [ 4.10332011 -4.77776458]. \t  -49.962803461970296 \t -40.51116653209555\n",
            "init   \t [ 4.6791612  -3.71497655]. \t  -62.183891474990624 \t -40.51116653209555\n",
            "1      \t [4.12828398 5.12      ]. \t  -49.04377260896486 \t -40.51116653209555\n",
            "2      \t [-5.12 -5.12]. \t  -57.849427451571785 \t -40.51116653209555\n",
            "3      \t [2.40876004 0.58851143]. \t  -43.04277302743077 \t -40.51116653209555\n",
            "4      \t [-0.48694043 -4.12694144]. \t  \u001b[92m-40.25082195724219\u001b[0m \t -40.25082195724219\n",
            "5      \t [-5.12       -1.54445324]. \t  -50.92251417551503 \t -40.25082195724219\n",
            "6      \t [-0.17351919  5.12      ]. \t  \u001b[92m-34.33221432232489\u001b[0m \t -34.33221432232489\n",
            "7      \t [5.12       1.93231879]. \t  \u001b[92m-33.54922824417045\u001b[0m \t -33.54922824417045\n",
            "8      \t [-0.03121352  2.24843835]. \t  \u001b[92m-15.150029595850128\u001b[0m \t -15.150029595850128\n",
            "9      \t [ 1.73113367 -2.25520828]. \t  -29.59260801488866 \t -15.150029595850128\n",
            "10     \t [-2.63276516 -2.71414931]. \t  -43.24941593642122 \t -15.150029595850128\n",
            "11     \t [-0.16141621 -0.7196103 ]. \t  -17.15882809146317 \t -15.150029595850128\n",
            "12     \t [ 5.12       -0.85996228]. \t  -33.291835254361104 \t -15.150029595850128\n",
            "13     \t [2.04934145 3.3920885 ]. \t  -33.97090682473313 \t -15.150029595850128\n",
            "14     \t [-2.49510298  5.12      ]. \t  -55.14551938923243 \t -15.150029595850128\n",
            "15     \t [ 1.66813929 -5.12      ]. \t  -46.62705804216887 \t -15.150029595850128\n",
            "16     \t [-0.06027734  0.92131314]. \t  \u001b[92m-2.7585991841207935\u001b[0m \t -2.7585991841207935\n",
            "17     \t [-0.05920265  0.91964754]. \t  -2.7807893797095122 \t -2.7585991841207935\n",
            "18     \t [-0.05892241  0.9185053 ]. \t  -2.8072103740709338 \t -2.7585991841207935\n",
            "19     \t [-2.55378441 -5.12      ]. \t  -54.8809336132919 \t -2.7585991841207935\n",
            "20     \t [-0.05874533  0.9182426 ]. \t  -2.8107863705763023 \t -2.7585991841207935\n"
          ]
        }
      ]
    },
    {
      "cell_type": "code",
      "metadata": {
        "colab": {
          "base_uri": "https://localhost:8080/"
        },
        "id": "CphOPndPGClX",
        "outputId": "1f1a0140-80ef-4515-ca02-ca06bfb3ccaf"
      },
      "source": [
        "### ESTIMATED GP EI GRADIENTS\n",
        "\n",
        "np.random.seed(run_num_13)\n",
        "surrogate_approx_13 = GaussianProcess(cov_func, optimize=opt)\n",
        "\n",
        "approx_13 = GPGO_multi(surrogate_approx_13, Acquisition_new(util_grad_approx), objfunc, param)\n",
        "approx_13.run(init_evals=n_init, max_iter=iters)\n"
      ],
      "execution_count": 25,
      "outputs": [
        {
          "output_type": "stream",
          "name": "stdout",
          "text": [
            "Evaluation \t Proposed point \t  Current eval. \t Best eval.\n",
            "init   \t [ 2.84367268 -2.68757791]. \t  -33.58019830007169 \t -17.435826639425656\n",
            "init   \t [3.32061217 4.76927179]. \t  -56.857057997503354 \t -17.435826639425656\n",
            "init   \t [ 4.83943541 -0.47667971]. \t  -48.211919361679726 \t -17.435826639425656\n",
            "init   \t [1.11659482 2.82139151]. \t  -17.435826639425656 \t -17.435826639425656\n",
            "init   \t [1.45012065 2.27346667]. \t  -38.25352329493884 \t -17.435826639425656\n",
            "1      \t [-4.10876704 -2.60547476]. \t  -43.79941556238635 \t -17.435826639425656\n",
            "2      \t [-4.210207    3.16126079]. \t  -39.95389880951034 \t -17.435826639425656\n",
            "3      \t [-0.62130064 -5.12      ]. \t  -46.544229285892115 \t -17.435826639425656\n",
            "4      \t [-0.72633021 -0.82502427]. \t  -18.148697146605524 \t -17.435826639425656\n",
            "5      \t [-1.0340358  5.12     ]. \t  -30.221739637636595 \t -17.435826639425656\n",
            "6      \t [-5.12        0.27694188]. \t  -40.686145793284986 \t -17.435826639425656\n",
            "7      \t [ 5.12 -5.12]. \t  -57.849427451571785 \t -17.435826639425656\n",
            "8      \t [-5.12 -5.12]. \t  -57.849427451571785 \t -17.435826639425656\n",
            "9      \t [-1.61600898  1.74878416]. \t  -33.20515926070999 \t -17.435826639425656\n",
            "10     \t [5.12       2.46276819]. \t  -54.71755997826591 \t -17.435826639425656\n",
            "11     \t [ 1.69877736 -0.35321366]. \t  -32.21374347385563 \t -17.435826639425656\n",
            "12     \t [ 0.16665822 -2.74600132]. \t  -22.819056319215466 \t -17.435826639425656\n",
            "13     \t [-3.58664586  5.12      ]. \t  -60.343062125809 \t -17.435826639425656\n",
            "14     \t [ 2.15664178 -5.12      ]. \t  -38.04059978869893 \t -17.435826639425656\n",
            "15     \t [-2.67283106 -0.52418983]. \t  -41.96442415529511 \t -17.435826639425656\n",
            "16     \t [-2.78044126 -5.12      ]. \t  -44.754527089063885 \t -17.435826639425656\n",
            "17     \t [0.96029819 5.12      ]. \t  -30.15641227125117 \t -17.435826639425656\n",
            "18     \t [-0.57702358  3.30756977]. \t  -43.663446827333495 \t -17.435826639425656\n",
            "19     \t [-3.21492355  1.04796609]. \t  -19.698568468935775 \t -17.435826639425656\n",
            "20     \t [-2.50235735 -2.46612373]. \t  -52.11678819285541 \t -17.435826639425656\n"
          ]
        }
      ]
    },
    {
      "cell_type": "code",
      "metadata": {
        "colab": {
          "base_uri": "https://localhost:8080/"
        },
        "id": "ojHTeARNGCoi",
        "outputId": "1bd8fd31-75d7-40e2-ecc9-bdbbb9081731"
      },
      "source": [
        "### ESTIMATED GP EI GRADIENTS\n",
        "\n",
        "np.random.seed(run_num_14)\n",
        "surrogate_approx_14 = GaussianProcess(cov_func, optimize=opt)\n",
        "\n",
        "approx_14 = GPGO_multi(surrogate_approx_14, Acquisition_new(util_grad_approx), objfunc, param)\n",
        "approx_14.run(init_evals=n_init, max_iter=iters)\n"
      ],
      "execution_count": 26,
      "outputs": [
        {
          "output_type": "stream",
          "name": "stdout",
          "text": [
            "Evaluation \t Proposed point \t  Current eval. \t Best eval.\n",
            "init   \t [0.14277984 2.79721013]. \t  -18.683085263052178 \t -10.423838604848608\n",
            "init   \t [ 3.7931795  -5.03759925]. \t  -47.36348784446708 \t -10.423838604848608\n",
            "init   \t [-1.94830412  4.68586229]. \t  -40.19779334078636 \t -10.423838604848608\n",
            "init   \t [ 0.13431513 -1.86076749]. \t  -10.423838604848608 \t -10.423838604848608\n",
            "init   \t [ 0.40140736 -2.85434939]. \t  -30.353548735049138 \t -10.423838604848608\n",
            "1      \t [-4.98693264 -1.05452915]. \t  -26.596428006897547 \t -10.423838604848608\n",
            "2      \t [5.12 5.12]. \t  -57.849427451571785 \t -10.423838604848608\n",
            "3      \t [ 5.12       -0.06387262]. \t  -29.723345629311133 \t -10.423838604848608\n",
            "4      \t [-3.5633238 -5.12     ]. \t  -60.8408538559967 \t -10.423838604848608\n",
            "5      \t [-1.85186527  0.20590279]. \t  -14.7641440279331 \t -10.423838604848608\n",
            "6      \t [-5.12        2.75339211]. \t  -46.292765573980496 \t -10.423838604848608\n",
            "7      \t [1.8898502  0.23394118]. \t  -14.919838460614862 \t -10.423838604848608\n",
            "8      \t [1.75648642 5.12      ]. \t  -41.60251724788029 \t -10.423838604848608\n",
            "9      \t [3.48535319 2.41517406]. \t  -56.551418484801715 \t -10.423838604848608\n",
            "10     \t [-0.42384675 -5.12      ]. \t  -47.98129486870833 \t -10.423838604848608\n",
            "11     \t [ 3.28502088 -2.14149309]. \t  -31.258391693859537 \t -10.423838604848608\n",
            "12     \t [-2.44068163 -2.25909607]. \t  -40.945099211328895 \t -10.423838604848608\n",
            "13     \t [-5.12  5.12]. \t  -57.849427451571785 \t -10.423838604848608\n",
            "14     \t [-2.50251088  2.04472928]. \t  -30.834565452299973 \t -10.423838604848608\n",
            "15     \t [ 0.00517065 -0.05368178]. \t  \u001b[92m-0.5716443369544137\u001b[0m \t -0.5716443369544137\n",
            "16     \t [ 0.00520073 -0.05181773]. \t  \u001b[92m-0.5333981714774829\u001b[0m \t -0.5333981714774829\n",
            "17     \t [ 0.00521072 -0.05078269]. \t  \u001b[92m-0.5127117165319923\u001b[0m \t -0.5127117165319923\n",
            "18     \t [ 0.00522861 -0.05008738]. \t  \u001b[92m-0.4990648256355037\u001b[0m \t -0.4990648256355037\n",
            "19     \t [ 0.00523747 -0.04958834]. \t  \u001b[92m-0.4893743826504391\u001b[0m \t -0.4893743826504391\n",
            "20     \t [ 0.00524422 -0.04920012]. \t  \u001b[92m-0.481900677924445\u001b[0m \t -0.481900677924445\n"
          ]
        }
      ]
    },
    {
      "cell_type": "code",
      "metadata": {
        "colab": {
          "base_uri": "https://localhost:8080/"
        },
        "id": "vCJzn4vWGCs3",
        "outputId": "2a578dc3-61e6-4e06-c15d-bed951b50ed4"
      },
      "source": [
        "### ESTIMATED GP EI GRADIENTS\n",
        "\n",
        "np.random.seed(run_num_15)\n",
        "surrogate_approx_15 = GaussianProcess(cov_func, optimize=opt)\n",
        "\n",
        "approx_15 = GPGO_multi(surrogate_approx_15, Acquisition_new(util_grad_approx), objfunc, param)\n",
        "approx_15.run(init_evals=n_init, max_iter=iters)\n"
      ],
      "execution_count": 27,
      "outputs": [
        {
          "output_type": "stream",
          "name": "stdout",
          "text": [
            "Evaluation \t Proposed point \t  Current eval. \t Best eval.\n",
            "init   \t [ 3.57189322 -3.28810573]. \t  -54.938487770767075 \t -7.990765314336182\n",
            "init   \t [-4.56332069 -1.41784631]. \t  -60.750198753157726 \t -7.990765314336182\n",
            "init   \t [-2.29989449  0.3072023 ]. \t  -31.984997246800887 \t -7.990765314336182\n",
            "init   \t [-1.9873903  -2.00218256]. \t  -7.990765314336182 \t -7.990765314336182\n",
            "init   \t [-3.97576933 -2.5610341 ]. \t  -41.754957769694336 \t -7.990765314336182\n",
            "1      \t [5.12      4.8007629]. \t  -58.83631552706962 \t -7.990765314336182\n",
            "2      \t [-5.12      5.068432]. \t  -55.52393816380152 \t -7.990765314336182\n",
            "3      \t [0.00795356 5.12      ]. \t  -28.937261227682868 \t -7.990765314336182\n",
            "4      \t [2.25293715 1.11070296]. \t  -18.817019042331907 \t -7.990765314336182\n",
            "5      \t [-0.33197535 -5.12      ]. \t  -43.96084683626894 \t -7.990765314336182\n",
            "6      \t [5.12       0.08147475]. \t  -30.213300455194748 \t -7.990765314336182\n",
            "7      \t [ 0.59198955 -1.56889437]. \t  -40.26515083237238 \t -7.990765314336182\n",
            "8      \t [-5.12 -5.12]. \t  -57.849427451571785 \t -7.990765314336182\n",
            "9      \t [-2.39515266  3.29912428]. \t  -47.566195826484126 \t -7.990765314336182\n",
            "10     \t [0.2257593  2.17448169]. \t  -18.69323390739617 \t -7.990765314336182\n",
            "11     \t [-5.12        1.74834893]. \t  -42.08517559489344 \t -7.990765314336182\n",
            "12     \t [ 2.132085 -5.12    ]. \t  -36.72111208335065 \t -7.990765314336182\n",
            "13     \t [2.41652656 3.84339982]. \t  -43.72977764892319 \t -7.990765314336182\n",
            "14     \t [5.12       2.25664427]. \t  -44.43450730115528 \t -7.990765314336182\n",
            "15     \t [-2.63102745 -5.12      ]. \t  -52.64528831300923 \t -7.990765314336182\n",
            "16     \t [-0.08612264  0.53762361]. \t  -21.44703942600277 \t -7.990765314336182\n",
            "17     \t [ 3.00320403 -0.77494328]. \t  -18.06097345966665 \t -7.990765314336182\n",
            "18     \t [-1.38799482 -2.76081657]. \t  -36.493750305063124 \t -7.990765314336182\n",
            "19     \t [ 1.10265193 -3.52288256]. \t  -35.532252564689834 \t -7.990765314336182\n",
            "20     \t [ 3.87272803 -0.60031097]. \t  -36.46765569949622 \t -7.990765314336182\n"
          ]
        }
      ]
    },
    {
      "cell_type": "code",
      "metadata": {
        "colab": {
          "base_uri": "https://localhost:8080/"
        },
        "id": "bGGkhp-kGCw6",
        "outputId": "3bef912e-6bee-4ca4-91f7-2c56513bb0c7"
      },
      "source": [
        "### ESTIMATED GP EI GRADIENTS\n",
        "\n",
        "np.random.seed(run_num_16)\n",
        "surrogate_approx_16 = GaussianProcess(cov_func, optimize=opt)\n",
        "\n",
        "approx_16 = GPGO_multi(surrogate_approx_16, Acquisition_new(util_grad_approx), objfunc, param)\n",
        "approx_16.run(init_evals=n_init, max_iter=iters)\n"
      ],
      "execution_count": 28,
      "outputs": [
        {
          "output_type": "stream",
          "name": "stdout",
          "text": [
            "Evaluation \t Proposed point \t  Current eval. \t Best eval.\n",
            "init   \t [-2.83349935  0.23719262]. \t  -22.27210456874814 \t -22.27210456874814\n",
            "init   \t [ 0.51918292 -4.65303603]. \t  -57.57021076017139 \t -22.27210456874814\n",
            "init   \t [-1.42613673 -2.83565116]. \t  -33.89145899403749 \t -22.27210456874814\n",
            "init   \t [ 1.9325559  -3.44339021]. \t  -35.85029586225333 \t -22.27210456874814\n",
            "init   \t [-4.39987336  4.51595121]. \t  -77.78800881964571 \t -22.27210456874814\n",
            "1      \t [2.142749   4.83374619]. \t  -36.69381850109535 \t -22.27210456874814\n",
            "2      \t [5.12       0.59289917]. \t  -47.620520561702925 \t -22.27210456874814\n",
            "3      \t [-5.12 -5.12]. \t  -57.849427451571785 \t -22.27210456874814\n",
            "4      \t [1.00686592 0.83549834]. \t  \u001b[92m-6.603799654593312\u001b[0m \t -6.603799654593312\n",
            "5      \t [-0.94229218  3.24295449]. \t  -21.612313565214063 \t -6.603799654593312\n",
            "6      \t [ 5.12 -5.12]. \t  -57.849427451571785 \t -6.603799654593312\n",
            "7      \t [-5.12       -1.65377245]. \t  -47.34413519198449 \t -6.603799654593312\n",
            "8      \t [5.12       4.25504088]. \t  -57.346761728233865 \t -6.603799654593312\n",
            "9      \t [ 5.12      -2.2159263]. \t  -41.710446945433894 \t -6.603799654593312\n",
            "10     \t [-5.12        1.50296316]. \t  -51.1818788755448 \t -6.603799654593312\n",
            "11     \t [2.52046695 1.9987247 ]. \t  -30.265402225907145 \t -6.603799654593312\n",
            "12     \t [ 0.61975078 -0.7789833 ]. \t  -26.480276607653337 \t -6.603799654593312\n",
            "13     \t [-1.27022853  5.12      ]. \t  -41.80577083397016 \t -6.603799654593312\n",
            "14     \t [-2.37027109 -5.12      ]. \t  -51.400776349696216 \t -6.603799654593312\n",
            "15     \t [-0.59152185  1.20637645]. \t  -27.490143512227558 \t -6.603799654593312\n",
            "16     \t [ 2.83178712 -0.80749341]. \t  -20.221073192268584 \t -6.603799654593312\n",
            "17     \t [0.77437548 3.02752574]. \t  -18.389178289981604 \t -6.603799654593312\n",
            "18     \t [-2.68064112  2.4260011 ]. \t  -46.23107300405626 \t -6.603799654593312\n",
            "19     \t [-1.77714038 -0.94448152]. \t  -12.955522769251866 \t -6.603799654593312\n",
            "20     \t [ 3.45569769 -4.61735471]. \t  -70.27933734324651 \t -6.603799654593312\n"
          ]
        }
      ]
    },
    {
      "cell_type": "code",
      "metadata": {
        "id": "Yrs2mp7hGC1Z",
        "colab": {
          "base_uri": "https://localhost:8080/"
        },
        "outputId": "02c56a73-f7bc-49a7-f90a-7ec0d97a9106"
      },
      "source": [
        "### ESTIMATED GP EI GRADIENTS\n",
        "\n",
        "np.random.seed(run_num_17)\n",
        "surrogate_approx_17 = GaussianProcess(cov_func, optimize=opt)\n",
        "\n",
        "approx_17 = GPGO_multi(surrogate_approx_17, Acquisition_new(util_grad_approx), objfunc, param)\n",
        "approx_17.run(init_evals=n_init, max_iter=iters)\n"
      ],
      "execution_count": 29,
      "outputs": [
        {
          "output_type": "stream",
          "name": "stdout",
          "text": [
            "Evaluation \t Proposed point \t  Current eval. \t Best eval.\n",
            "init   \t [-2.10263037  0.31320838]. \t  -20.395145364684023 \t -20.395145364684023\n",
            "init   \t [-3.15882714 -4.42470033]. \t  -53.03732051200137 \t -20.395145364684023\n",
            "init   \t [2.93873111 1.60085526]. \t  -29.989224812583537 \t -20.395145364684023\n",
            "init   \t [1.40821398 0.77417363]. \t  -29.451989415882437 \t -20.395145364684023\n",
            "init   \t [-4.71999574 -1.45598869]. \t  -55.89242173757483 \t -20.395145364684023\n",
            "1      \t [ 5.12 -5.12]. \t  -57.849427451571785 \t -20.395145364684023\n",
            "2      \t [-4.70696357  5.12      ]. \t  -63.75144562567341 \t -20.395145364684023\n",
            "3      \t [0.05624733 5.12      ]. \t  -29.545906146758426 \t -20.395145364684023\n",
            "4      \t [5.12 5.12]. \t  -57.849427451571785 \t -20.395145364684023\n",
            "5      \t [ 1.077264   -3.51432684]. \t  -34.62591651354173 \t -20.395145364684023\n",
            "6      \t [ 5.12     -1.253805]. \t  -40.735792813734875 \t -20.395145364684023\n",
            "7      \t [-5.12        1.83143795]. \t  -37.382366135599646 \t -20.395145364684023\n",
            "8      \t [-1.9827193  3.0868246]. \t  \u001b[92m-14.9700520753292\u001b[0m \t -14.9700520753292\n",
            "9      \t [-1.18642067 -1.99220414]. \t  \u001b[92m-11.499065585906756\u001b[0m \t -11.499065585906756\n",
            "10     \t [5.12       2.05334662]. \t  -33.69745702520561 \t -11.499065585906756\n",
            "11     \t [ 2.52175123 -1.51538035]. \t  -48.51570497901355 \t -11.499065585906756\n",
            "12     \t [2.39043519 4.26295961]. \t  -52.42291450458801 \t -11.499065585906756\n",
            "13     \t [-0.57836353 -5.12      ]. \t  -48.0713559643157 \t -11.499065585906756\n",
            "14     \t [-0.15351628  2.41431795]. \t  -28.740332158157948 \t -11.499065585906756\n",
            "15     \t [-2.13586078  5.12      ]. \t  -36.91416235725701 \t -11.499065585906756\n",
            "16     \t [-0.16169182 -0.81111696]. \t  -11.669433815852022 \t -11.499065585906756\n",
            "17     \t [ 2.5492251 -5.12     ]. \t  -54.94876029309843 \t -11.499065585906756\n",
            "18     \t [-0.52560078  0.07159203]. \t  -21.14706168452146 \t -11.499065585906756\n",
            "19     \t [-2.98544993  2.11046676]. \t  -15.722335694215834 \t -11.499065585906756\n",
            "20     \t [-2.30729364 -2.00748084]. \t  -22.887244515575954 \t -11.499065585906756\n"
          ]
        }
      ]
    },
    {
      "cell_type": "code",
      "metadata": {
        "id": "f0HIEP3PIUEa",
        "colab": {
          "base_uri": "https://localhost:8080/"
        },
        "outputId": "29c41160-0b12-4358-88fd-888af4b42c3f"
      },
      "source": [
        "### ESTIMATED GP EI GRADIENTS\n",
        "\n",
        "np.random.seed(run_num_18)\n",
        "surrogate_approx_18 = GaussianProcess(cov_func, optimize=opt)\n",
        "\n",
        "approx_18 = GPGO_multi(surrogate_approx_18, Acquisition_new(util_grad_approx), objfunc, param)\n",
        "approx_18.run(init_evals=n_init, max_iter=iters)\n"
      ],
      "execution_count": 30,
      "outputs": [
        {
          "output_type": "stream",
          "name": "stdout",
          "text": [
            "Evaluation \t Proposed point \t  Current eval. \t Best eval.\n",
            "init   \t [1.53983224 0.05584255]. \t  -22.67190580753611 \t -22.67190580753611\n",
            "init   \t [ 3.87687906 -3.25795609]. \t  -38.990099416711985 \t -22.67190580753611\n",
            "init   \t [3.60686662 2.56139557]. \t  -56.66448698782129 \t -22.67190580753611\n",
            "init   \t [1.70088108 4.99604939]. \t  -40.894059318256296 \t -22.67190580753611\n",
            "init   \t [-2.48864335 -4.83014733]. \t  -54.6725749848372 \t -22.67190580753611\n",
            "1      \t [-5.00718904  2.9174042 ]. \t  -34.91005808676357 \t -22.67190580753611\n",
            "2      \t [-5.12       -1.37222114]. \t  -47.75423927503102 \t -22.67190580753611\n",
            "3      \t [-1.30205533  2.41793749]. \t  -39.45439977588798 \t -22.67190580753611\n",
            "4      \t [ 1.04804663 -5.12      ]. \t  -30.475340813935276 \t -22.67190580753611\n",
            "5      \t [-1.46191306 -1.336791  ]. \t  -38.82617470809004 \t -22.67190580753611\n",
            "6      \t [-2.73822047  5.12      ]. \t  -47.16201908944714 \t -22.67190580753611\n",
            "7      \t [ 5.12       -0.35162333]. \t  -45.00841525498375 \t -22.67190580753611\n",
            "8      \t [5.12 5.12]. \t  -57.849427451571785 \t -22.67190580753611\n",
            "9      \t [ 1.09298124 -2.48161346]. \t  -28.94492152427805 \t -22.67190580753611\n",
            "10     \t [-5.12 -5.12]. \t  -57.849427451571785 \t -22.67190580753611\n",
            "11     \t [ 5.12 -5.12]. \t  -57.849427451571785 \t -22.67190580753611\n",
            "12     \t [-3.41490673  0.75493339]. \t  -40.52602346648511 \t -22.67190580753611\n",
            "13     \t [-0.07692185  0.6970143 ]. \t  \u001b[92m-14.905180982515276\u001b[0m \t -14.905180982515276\n",
            "14     \t [-3.31657863 -2.66776777]. \t  -47.11895646880784 \t -14.905180982515276\n",
            "15     \t [-5.12  5.12]. \t  -57.849427451571785 \t -14.905180982515276\n",
            "16     \t [ 2.95861135 -1.0742201 ]. \t  \u001b[92m-11.311360352043167\u001b[0m \t -11.311360352043167\n",
            "17     \t [1.03718439 2.55512871]. \t  -27.282190100558818 \t -11.311360352043167\n",
            "18     \t [-0.54270008 -3.63144931]. \t  -49.90300290907253 \t -11.311360352043167\n",
            "19     \t [-0.7223645   0.68467701]. \t  -26.708366102360095 \t -11.311360352043167\n",
            "20     \t [-4.85217233  1.32463924]. \t  -43.83021651328372 \t -11.311360352043167\n"
          ]
        }
      ]
    },
    {
      "cell_type": "code",
      "metadata": {
        "id": "S3mxRQDLIUPC",
        "colab": {
          "base_uri": "https://localhost:8080/"
        },
        "outputId": "ef4fe18f-c466-439a-8a82-7ed3e58cba24"
      },
      "source": [
        "### ESTIMATED GP EI GRADIENTS\n",
        "\n",
        "np.random.seed(run_num_19)\n",
        "surrogate_approx_19 = GaussianProcess(cov_func, optimize=opt)\n",
        "\n",
        "approx_19 = GPGO_multi(surrogate_approx_19, Acquisition_new(util_grad_approx), objfunc, param)\n",
        "approx_19.run(init_evals=n_init, max_iter=iters)\n"
      ],
      "execution_count": 31,
      "outputs": [
        {
          "output_type": "stream",
          "name": "stdout",
          "text": [
            "Evaluation \t Proposed point \t  Current eval. \t Best eval.\n",
            "init   \t [-4.12125592  2.6751971 ]. \t  -41.43485596167127 \t -25.867003842388073\n",
            "init   \t [-2.59135515 -3.70553152]. \t  -51.60126035043229 \t -25.867003842388073\n",
            "init   \t [-1.72598719 -4.27008445]. \t  -43.97430127029199 \t -25.867003842388073\n",
            "init   \t [1.76104531 3.13952049]. \t  -25.867003842388073 \t -25.867003842388073\n",
            "init   \t [4.9432772  1.38916592]. \t  -44.66580306903559 \t -25.867003842388073\n",
            "1      \t [ 5.12 -5.12]. \t  -57.849427451571785 \t -25.867003842388073\n",
            "2      \t [ 1.77619464 -1.68663335]. \t  -28.238247751547107 \t -25.867003842388073\n",
            "3      \t [5.12 5.12]. \t  -57.849427451571785 \t -25.867003842388073\n",
            "4      \t [-1.28669736  5.12      ]. \t  -42.86569018501187 \t -25.867003842388073\n",
            "5      \t [-5.12       -0.97841384]. \t  -29.973843760306124 \t -25.867003842388073\n",
            "6      \t [-1.20053384  0.35650887]. \t  \u001b[92m-24.713832493597153\u001b[0m \t -24.713832493597153\n",
            "7      \t [ 1.5401455 -5.12     ]. \t  -50.980315881073935 \t -24.713832493597153\n",
            "8      \t [-5.12 -5.12]. \t  -57.849427451571785 \t -24.713832493597153\n",
            "9      \t [-5.12  5.12]. \t  -57.849427451571785 \t -24.713832493597153\n",
            "10     \t [ 5.12       -1.82150466]. \t  -37.89944862351517 \t -24.713832493597153\n",
            "11     \t [1.81556451 0.74307447]. \t  \u001b[92m-20.279435030464754\u001b[0m \t -20.279435030464754\n",
            "12     \t [2.0296664 5.12     ]. \t  -33.217480857356065 \t -20.279435030464754\n",
            "13     \t [-0.86365204  2.59155726]. \t  -29.303159740649676 \t -20.279435030464754\n",
            "14     \t [-0.58589236 -1.856717  ]. \t  -26.15545601869839 \t -20.279435030464754\n",
            "15     \t [-2.98478425 -0.75187469]. \t  \u001b[92m-19.402130285295044\u001b[0m \t -19.402130285295044\n",
            "16     \t [ 3.24038804 -3.28101404]. \t  -42.59795801419768 \t -19.402130285295044\n",
            "17     \t [-3.50068329  0.77003864]. \t  -41.59191012842804 \t -19.402130285295044\n",
            "18     \t [-5.12      -2.8069604]. \t  -43.30072734684 \t -19.402130285295044\n",
            "19     \t [0.3343493  0.40408088]. \t  -33.56845898817061 \t -19.402130285295044\n",
            "20     \t [2.48869387 0.94186978]. \t  -27.715124004800348 \t -19.402130285295044\n"
          ]
        }
      ]
    },
    {
      "cell_type": "code",
      "metadata": {
        "id": "Aawd59dRIUYn",
        "colab": {
          "base_uri": "https://localhost:8080/"
        },
        "outputId": "f1737d2d-15dd-4ebd-99ba-2ba0e15e7e19"
      },
      "source": [
        "### ESTIMATED GP EI GRADIENTS\n",
        "\n",
        "np.random.seed(run_num_20)\n",
        "surrogate_approx_20 = GaussianProcess(cov_func, optimize=opt)\n",
        "\n",
        "approx_20 = GPGO_multi(surrogate_approx_20, Acquisition_new(util_grad_approx), objfunc, param)\n",
        "approx_20.run(init_evals=n_init, max_iter=iters)\n"
      ],
      "execution_count": 32,
      "outputs": [
        {
          "output_type": "stream",
          "name": "stdout",
          "text": [
            "Evaluation \t Proposed point \t  Current eval. \t Best eval.\n",
            "init   \t [0.9024594  4.07258857]. \t  -20.24255447774017 \t -17.388691338534382\n",
            "init   \t [4.00927467 3.23417577]. \t  -35.55852254546393 \t -17.388691338534382\n",
            "init   \t [-4.75249064  1.96359764]. \t  -36.54582989269194 \t -17.388691338534382\n",
            "init   \t [-1.24230715  0.18955208]. \t  -17.388691338534382 \t -17.388691338534382\n",
            "init   \t [ 1.61742301 -3.13497377]. \t  -33.22932870179905 \t -17.388691338534382\n",
            "1      \t [-5.12       -3.80676527]. \t  -49.924648969758294 \t -17.388691338534382\n",
            "2      \t [ 5.12       -0.92644504]. \t  -30.832096866887802 \t -17.388691338534382\n",
            "3      \t [ 5.12 -5.12]. \t  -57.849427451571785 \t -17.388691338534382\n",
            "4      \t [-2.703692  5.12    ]. \t  -49.10340102448606 \t -17.388691338534382\n",
            "5      \t [-1.50460778 -5.12      ]. \t  -51.18436762764294 \t -17.388691338534382\n",
            "6      \t [1.91189042 0.46615145]. \t  -25.140989370455223 \t -17.388691338534382\n",
            "7      \t [-3.79264529 -1.02036442]. \t  -22.85951596461122 \t -17.388691338534382\n",
            "8      \t [-1.34490874  2.54597429]. \t  -43.492532920475306 \t -17.388691338534382\n",
            "9      \t [-1.17769307 -2.22263307]. \t  -20.227510591180682 \t -17.388691338534382\n",
            "10     \t [-5.12  5.12]. \t  -57.849427451571785 \t -17.388691338534382\n",
            "11     \t [5.12 5.12]. \t  -57.849427451571785 \t -17.388691338534382\n",
            "12     \t [ 2.22276021 -5.12      ]. \t  -42.162194244141176 \t -17.388691338534382\n",
            "13     \t [5.12      1.3220137]. \t  -45.04436553137296 \t -17.388691338534382\n",
            "14     \t [ 3.91456642 -2.67254799]. \t  -38.549455409847 \t -17.388691338534382\n",
            "15     \t [ 0.54280877 -1.04687998]. \t  -21.461723204348573 \t -17.388691338534382\n",
            "16     \t [2.3694811 5.12     ]. \t  -51.36082244118515 \t -17.388691338534382\n",
            "17     \t [-5.12       -0.32879815]. \t  -43.78404785514693 \t -17.388691338534382\n",
            "18     \t [-0.36926268  5.12      ]. \t  -45.87269510477007 \t -17.388691338534382\n",
            "19     \t [-2.90009445 -2.89711147]. \t  -20.727980909674358 \t -17.388691338534382\n",
            "20     \t [-2.78883732  0.66967683]. \t  -30.64532625784201 \t -17.388691338534382\n"
          ]
        }
      ]
    },
    {
      "cell_type": "code",
      "metadata": {
        "id": "xkgzPRbBTHaq",
        "colab": {
          "base_uri": "https://localhost:8080/"
        },
        "outputId": "363df541-ad77-4da2-d236-51b9b84cc640"
      },
      "source": [
        "end_approx = time.time()\n",
        "end_approx\n",
        "\n",
        "time_approx = end_approx - start_approx\n",
        "time_approx\n",
        "\n",
        "start_exact = time.time()\n",
        "start_exact"
      ],
      "execution_count": 33,
      "outputs": [
        {
          "output_type": "execute_result",
          "data": {
            "text/plain": [
              "1643279262.0333285"
            ]
          },
          "metadata": {},
          "execution_count": 33
        }
      ]
    },
    {
      "cell_type": "code",
      "metadata": {
        "id": "7CG3Ndvb16Rb",
        "colab": {
          "base_uri": "https://localhost:8080/"
        },
        "outputId": "c8ed99ee-8af8-4a1d-e46b-4f4fda68f758"
      },
      "source": [
        "### EXACT GP EI GRADIENTS\n",
        "\n",
        "np.random.seed(run_num_1)\n",
        "surrogate_exact_1 = dGaussianProcess(cov_func, optimize=opt)\n",
        "\n",
        "exact_1 = dGPGO(surrogate_exact_1, Acquisition_new(util_grad_exact), objfunc, param)\n",
        "exact_1.run(init_evals=n_init, max_iter=iters)\n"
      ],
      "execution_count": 34,
      "outputs": [
        {
          "output_type": "stream",
          "name": "stdout",
          "text": [
            "Evaluation \t Proposed point \t  Current eval. \t Best eval.\n",
            "init   \t [-0.84969467  2.25612281]. \t  -20.33436270766351 \t -19.908403246996286\n",
            "init   \t [-5.1188288  -2.02411446]. \t  -33.07414982069084 \t -19.908403246996286\n",
            "init   \t [-3.61721968 -4.17445279]. \t  -53.347974723929894 \t -19.908403246996286\n",
            "init   \t [-3.21269544 -1.58145816]. \t  -39.218472310354045 \t -19.908403246996286\n",
            "init   \t [-1.05710106  0.39748336]. \t  -19.908403246996286 \t -19.908403246996286\n",
            "1      \t [ 4.04077223 -4.24914728]. \t  -44.655863836006326 \t -19.908403246996286\n",
            "2      \t [3.95569971 5.12      ]. \t  -44.957164327661914 \t -19.908403246996286\n",
            "3      \t [5.12       0.47931867]. \t  -49.070150846574705 \t -19.908403246996286\n",
            "4      \t [-5.12        4.36680096]. \t  -64.69123843791516 \t -19.908403246996286\n",
            "5      \t [ 0.20333181 -5.12      ]. \t  -36.075648170413245 \t -19.908403246996286\n",
            "6      \t [ 1.75432371 -1.381871  ]. \t  -32.085240989199335 \t -19.908403246996286\n",
            "7      \t [0.30219617 5.12      ]. \t  -42.2371437744485 \t -19.908403246996286\n",
            "8      \t [-5.12        1.09583141]. \t  -31.884229782605093 \t -19.908403246996286\n",
            "9      \t [-2.29362606  4.58591516]. \t  -57.576254713337285 \t -19.908403246996286\n",
            "10     \t [ 5.12       -2.05550915]. \t  -33.75190859905911 \t -19.908403246996286\n",
            "11     \t [2.12691404 2.24188964]. \t  -22.05494397489777 \t -19.908403246996286\n",
            "12     \t [-0.30580613 -2.82865692]. \t  -26.786392616258762 \t -19.908403246996286\n",
            "13     \t [5.12       3.16072169]. \t  -43.59494856774238 \t -19.908403246996286\n",
            "14     \t [2.11817743 0.56735627]. \t  -26.558716491249974 \t -19.908403246996286\n",
            "15     \t [-2.91961565  1.57537661]. \t  -31.153857496240093 \t -19.908403246996286\n",
            "16     \t [ 1.78861371 -3.42070687]. \t  -41.282312249536886 \t -19.908403246996286\n",
            "17     \t [ 0.28278677 -0.93093934]. \t  \u001b[92m-13.918887105542504\u001b[0m \t -13.918887105542504\n",
            "18     \t [1.89191266 4.13073922]. \t  -26.049623733664195 \t -13.918887105542504\n",
            "19     \t [-1.80956774 -4.71108049]. \t  -44.23392077823246 \t -13.918887105542504\n",
            "20     \t [1.01360936 1.1848119 ]. \t  \u001b[92m-8.48539809445838\u001b[0m \t -8.48539809445838\n"
          ]
        }
      ]
    },
    {
      "cell_type": "code",
      "metadata": {
        "id": "-ilCPSAu9SAg",
        "colab": {
          "base_uri": "https://localhost:8080/"
        },
        "outputId": "f6bf470e-b6cc-49a3-acb9-a8fd11dfb843"
      },
      "source": [
        "### EXACT GP EI GRADIENTS\n",
        "\n",
        "np.random.seed(run_num_2)\n",
        "surrogate_exact_2 = dGaussianProcess(cov_func, optimize=opt)\n",
        "\n",
        "exact_2 = dGPGO(surrogate_exact_2, Acquisition_new(util_grad_exact), objfunc, param)\n",
        "exact_2.run(init_evals=n_init, max_iter=iters)\n"
      ],
      "execution_count": 35,
      "outputs": [
        {
          "output_type": "stream",
          "name": "stdout",
          "text": [
            "Evaluation \t Proposed point \t  Current eval. \t Best eval.\n",
            "init   \t [-0.6554122  -4.85451539]. \t  -43.490296251903594 \t -18.964539418712707\n",
            "init   \t [ 0.50854377 -0.6622987 ]. \t  -35.91861667536101 \t -18.964539418712707\n",
            "init   \t [-0.81543371 -1.73737143]. \t  -20.479562046739524 \t -18.964539418712707\n",
            "init   \t [-3.02439799  1.2213347 ]. \t  -18.964539418712707 \t -18.964539418712707\n",
            "init   \t [-2.05153614 -2.3876887 ]. \t  -28.041315668371354 \t -18.964539418712707\n",
            "1      \t [3.91207732 5.12      ]. \t  -45.71656758082061 \t -18.964539418712707\n",
            "2      \t [ 4.84262143 -3.96515559]. \t  -43.91554200116249 \t -18.964539418712707\n",
            "3      \t [-0.81906025  5.12      ]. \t  -35.39128099260596 \t -18.964539418712707\n",
            "4      \t [-5.12 -5.12]. \t  -57.849427451571785 \t -18.964539418712707\n",
            "5      \t [5.12       0.71181662]. \t  -41.80757997921044 \t -18.964539418712707\n",
            "6      \t [-4.6297519   4.23289614]. \t  -65.13623895313233 \t -18.964539418712707\n",
            "7      \t [1.67424765 2.45754179]. \t  -43.070856732743444 \t -18.964539418712707\n",
            "8      \t [ 2.03101976 -3.59038555]. \t  -35.63551920534306 \t -18.964539418712707\n",
            "9      \t [-0.87788224  1.86922398]. \t  \u001b[92m-10.25687316833537\u001b[0m \t -10.25687316833537\n",
            "10     \t [-5.12       -1.65217687]. \t  -47.42105345158615 \t -10.25687316833537\n",
            "11     \t [ 5.12       -1.61896123]. \t  -48.87995880424716 \t -10.25687316833537\n",
            "12     \t [-4.76114337  0.64090089]. \t  -48.71017690769318 \t -10.25687316833537\n",
            "13     \t [-2.1684195   3.16444778]. \t  -24.691204276044544 \t -10.25687316833537\n",
            "14     \t [1.62491182 5.07769781]. \t  -46.666504388445574 \t -10.25687316833537\n",
            "15     \t [ 2.77924478 -0.41444832]. \t  -34.65851144435502 \t -10.25687316833537\n",
            "16     \t [-2.86712043 -4.93427596]. \t  -36.69560834943781 \t -10.25687316833537\n",
            "17     \t [5.12       3.21859476]. \t  -47.3235969480685 \t -10.25687316833537\n",
            "18     \t [-1.68198696  0.03132855]. \t  -17.16767429280907 \t -10.25687316833537\n",
            "19     \t [-0.05554702  0.9658317 ]. \t  \u001b[92m-1.7683728100166523\u001b[0m \t -1.7683728100166523\n",
            "20     \t [0.69555508 0.97487304]. \t  -14.913085789193813 \t -1.7683728100166523\n"
          ]
        }
      ]
    },
    {
      "cell_type": "code",
      "metadata": {
        "id": "XieJ158mIvlP",
        "colab": {
          "base_uri": "https://localhost:8080/"
        },
        "outputId": "271a9691-a9a6-4525-c0e9-e3111427ed84"
      },
      "source": [
        "### EXACT GP EI GRADIENTS\n",
        "\n",
        "np.random.seed(run_num_3)\n",
        "surrogate_exact_3 = dGaussianProcess(cov_func, optimize=opt)\n",
        "\n",
        "exact_3 = dGPGO(surrogate_exact_3, Acquisition_new(util_grad_exact), objfunc, param)\n",
        "exact_3.run(init_evals=n_init, max_iter=iters)\n"
      ],
      "execution_count": 36,
      "outputs": [
        {
          "output_type": "stream",
          "name": "stdout",
          "text": [
            "Evaluation \t Proposed point \t  Current eval. \t Best eval.\n",
            "init   \t [0.52017052 2.1314337 ]. \t  -27.953858411008774 \t -10.607662635789808\n",
            "init   \t [-2.14113547  0.11087468]. \t  -10.607662635789808 \t -10.607662635789808\n",
            "init   \t [4.02377681 4.05804123]. \t  -33.42749829480097 \t -10.607662635789808\n",
            "init   \t [-3.83400642 -2.99783293]. \t  -28.650953928965198 \t -10.607662635789808\n",
            "init   \t [-4.59297584 -0.6061072 ]. \t  -57.6631355589384 \t -10.607662635789808\n",
            "1      \t [ 1.80565001 -3.04761061]. \t  -19.5666404549755 \t -10.607662635789808\n",
            "2      \t [-3.57871734  4.80548253]. \t  -61.28559802785689 \t -10.607662635789808\n",
            "3      \t [ 5.12       -0.22832109]. \t  -37.61892634098505 \t -10.607662635789808\n",
            "4      \t [-0.98127961 -5.12      ]. \t  -29.95672032642291 \t -10.607662635789808\n",
            "5      \t [-0.58862849 -1.88989711]. \t  -24.70632438438374 \t -10.607662635789808\n",
            "6      \t [ 5.12       -4.57451492]. \t  -68.77476117581725 \t -10.607662635789808\n",
            "7      \t [0.4944958 5.12     ]. \t  -49.16326018401635 \t -10.607662635789808\n",
            "8      \t [-5.12 -5.12]. \t  -57.849427451571785 \t -10.607662635789808\n",
            "9      \t [ 2.19890773 -0.28681017]. \t  -24.054373884308347 \t -10.607662635789808\n",
            "10     \t [ 1.75941138 -5.12      ]. \t  -41.4292523002601 \t -10.607662635789808\n",
            "11     \t [-3.39977026  2.05271234]. \t  -34.397219007599205 \t -10.607662635789808\n",
            "12     \t [3.55221499 1.72190511]. \t  -46.80592773596094 \t -10.607662635789808\n",
            "13     \t [-5.12        2.42645644]. \t  -53.7636412581605 \t -10.607662635789808\n",
            "14     \t [ 0.05554451 -0.0354738 ]. \t  \u001b[92m-0.8545497697666509\u001b[0m \t -0.8545497697666509\n",
            "15     \t [-0.77762468  0.49263945]. \t  -29.109693557760867 \t -0.8545497697666509\n",
            "16     \t [-1.31047694  3.19028349]. \t  -31.93967166976566 \t -0.8545497697666509\n",
            "17     \t [-1.76662932 -3.50338493]. \t  -44.34947266892255 \t -0.8545497697666509\n",
            "18     \t [ 3.94503891 -2.31569648]. \t  -35.527749515995524 \t -0.8545497697666509\n",
            "19     \t [5.12 5.12]. \t  -57.849427451571785 \t -0.8545497697666509\n",
            "20     \t [ 1.10141669 -1.49839041]. \t  -25.42025157072412 \t -0.8545497697666509\n"
          ]
        }
      ]
    },
    {
      "cell_type": "code",
      "metadata": {
        "id": "PhLBVOIfIvol",
        "colab": {
          "base_uri": "https://localhost:8080/"
        },
        "outputId": "04fc52ab-3861-448b-d633-afc8c5f70043"
      },
      "source": [
        "### EXACT GP EI GRADIENTS\n",
        "\n",
        "np.random.seed(run_num_4)\n",
        "surrogate_exact_4 = dGaussianProcess(cov_func, optimize=opt)\n",
        "\n",
        "exact_4 = dGPGO(surrogate_exact_4, Acquisition_new(util_grad_exact), objfunc, param)\n",
        "exact_4.run(init_evals=n_init, max_iter=iters)\n"
      ],
      "execution_count": 37,
      "outputs": [
        {
          "output_type": "stream",
          "name": "stdout",
          "text": [
            "Evaluation \t Proposed point \t  Current eval. \t Best eval.\n",
            "init   \t [4.78238555 0.48365823]. \t  -51.03163809010808 \t -14.323038259018315\n",
            "init   \t [4.84028785 2.19971578]. \t  -39.78645699016559 \t -14.323038259018315\n",
            "init   \t [ 2.02474316 -2.90724357]. \t  -14.323038259018315 \t -14.323038259018315\n",
            "init   \t [ 4.87705042 -5.05620219]. \t  -52.80627247106233 \t -14.323038259018315\n",
            "init   \t [-2.52946061 -0.66773471]. \t  -41.61497868486559 \t -14.323038259018315\n",
            "1      \t [-1.01565322  4.77412453]. \t  -32.362152132578984 \t -14.323038259018315\n",
            "2      \t [-5.12 -5.12]. \t  -57.849427451571785 \t -14.323038259018315\n",
            "3      \t [-0.96892694 -5.12      ]. \t  -30.053517501182938 \t -14.323038259018315\n",
            "4      \t [0.8312782 1.3534401]. \t  -23.686398382791584 \t -14.323038259018315\n",
            "5      \t [-5.12        3.19466591]. \t  -45.72348149433703 \t -14.323038259018315\n",
            "6      \t [4.10247948 5.12      ]. \t  -47.75743112638065 \t -14.323038259018315\n",
            "7      \t [-5.12      -1.8440995]. \t  -36.751468915848136 \t -14.323038259018315\n",
            "8      \t [-1.80917486  2.03023759]. \t  \u001b[92m-13.941922117758534\u001b[0m \t -13.941922117758534\n",
            "9      \t [1.97794851 3.4169475 ]. \t  -34.35270570239159 \t -13.941922117758534\n",
            "10     \t [ 4.72783099 -2.21056937]. \t  -46.17519072534815 \t -13.941922117758534\n",
            "11     \t [ 0.17741102 -1.4458869 ]. \t  -27.14519008816655 \t -13.941922117758534\n",
            "12     \t [ 1.4263009  -4.91291525]. \t  -46.57794101817442 \t -13.941922117758534\n",
            "13     \t [-2.78754811 -3.3117722 ]. \t  -40.18541306481385 \t -13.941922117758534\n",
            "14     \t [-3.40356404  5.12      ]. \t  -58.72871834098909 \t -13.941922117758534\n",
            "15     \t [ 2.3279673  -0.41964761]. \t  -39.05314084706497 \t -13.941922117758534\n",
            "16     \t [-5.09294681  0.5710618 ]. \t  -46.941254925903586 \t -13.941922117758534\n",
            "17     \t [-3.03216692  2.3317731 ]. \t  -29.74961374361005 \t -13.941922117758534\n",
            "18     \t [-0.60907899 -2.95553596]. \t  -27.23578282484715 \t -13.941922117758534\n",
            "19     \t [0.61555699 2.67722501]. \t  -39.43926653014315 \t -13.941922117758534\n",
            "20     \t [1.26696088 5.12      ]. \t  -41.59357091170198 \t -13.941922117758534\n"
          ]
        }
      ]
    },
    {
      "cell_type": "code",
      "metadata": {
        "id": "arbiPyj2IvsJ",
        "colab": {
          "base_uri": "https://localhost:8080/"
        },
        "outputId": "ef9aba02-f1b0-4216-acfc-8aad1691ed45"
      },
      "source": [
        "### EXACT GP EI GRADIENTS\n",
        "\n",
        "np.random.seed(run_num_5)\n",
        "surrogate_exact_5 = dGaussianProcess(cov_func, optimize=opt)\n",
        "\n",
        "exact_5 = dGPGO(surrogate_exact_5, Acquisition_new(util_grad_exact), objfunc, param)\n",
        "exact_5.run(init_evals=n_init, max_iter=iters)\n"
      ],
      "execution_count": 38,
      "outputs": [
        {
          "output_type": "stream",
          "name": "stdout",
          "text": [
            "Evaluation \t Proposed point \t  Current eval. \t Best eval.\n",
            "init   \t [-2.84678993  3.79629882]. \t  -33.93442008827236 \t -7.8108627039749745\n",
            "init   \t [-3.00319585  4.2865757 ]. \t  -39.673876075575784 \t -7.8108627039749745\n",
            "init   \t [-0.11866943  1.14425716]. \t  -7.8108627039749745 \t -7.8108627039749745\n",
            "init   \t [2.72289645 0.1886002 ]. \t  -25.38160395721669 \t -7.8108627039749745\n",
            "init   \t [-2.08076286 -3.19773462]. \t  -22.589982116319675 \t -7.8108627039749745\n",
            "1      \t [ 4.32895605 -5.09732646]. \t  -61.29478907190488 \t -7.8108627039749745\n",
            "2      \t [5.12 5.12]. \t  -57.849427451571785 \t -7.8108627039749745\n",
            "3      \t [-5.12      -0.2720871]. \t  -40.38206832200878 \t -7.8108627039749745\n",
            "4      \t [1.01338591 5.12      ]. \t  -29.987013097899762 \t -7.8108627039749745\n",
            "5      \t [-5.12 -5.12]. \t  -57.849427451571785 \t -7.8108627039749745\n",
            "6      \t [ 0.62772912 -5.12      ]. \t  -46.26754003098996 \t -7.8108627039749745\n",
            "7      \t [5.12       1.81418327]. \t  -38.29164386528663 \t -7.8108627039749745\n",
            "8      \t [ 5.12       -1.69626944]. \t  -45.114270362202724 \t -7.8108627039749745\n",
            "9      \t [-0.08075509 -1.23411109]. \t  -11.792767485746293 \t -7.8108627039749745\n",
            "10     \t [-2.69243371  1.16889555]. \t  -27.275929360706364 \t -7.8108627039749745\n",
            "11     \t [ 1.75543496 -2.32095987]. \t  -32.43927032259034 \t -7.8108627039749745\n",
            "12     \t [-5.12        2.58332045]. \t  -54.258917138852674 \t -7.8108627039749745\n",
            "13     \t [1.94374522 2.73045872]. \t  -23.07647303784789 \t -7.8108627039749745\n",
            "14     \t [-4.98001163 -2.60069947]. \t  -49.70717434726285 \t -7.8108627039749745\n",
            "15     \t [-0.2760325   2.50561101]. \t  -37.9764529809206 \t -7.8108627039749745\n",
            "16     \t [-1.78239098 -1.01791178]. \t  -12.25515978530565 \t -7.8108627039749745\n",
            "17     \t [0.44800612 0.16342572]. \t  -24.523220288666167 \t -7.8108627039749745\n",
            "18     \t [-1.2375421  -3.91215599]. \t  -27.539433007469395 \t -7.8108627039749745\n",
            "19     \t [-2.79060067 -1.3469818 ]. \t  -32.80175928706496 \t -7.8108627039749745\n",
            "20     \t [3.41848933 3.52770703]. \t  -62.696580355906825 \t -7.8108627039749745\n"
          ]
        }
      ]
    },
    {
      "cell_type": "code",
      "metadata": {
        "id": "04KJCEm_Ivvf",
        "colab": {
          "base_uri": "https://localhost:8080/"
        },
        "outputId": "1aab8455-5074-434d-aeb5-8acdf5589064"
      },
      "source": [
        "### EXACT GP EI GRADIENTS\n",
        "\n",
        "np.random.seed(run_num_6)\n",
        "surrogate_exact_6 = dGaussianProcess(cov_func, optimize=opt)\n",
        "\n",
        "exact_6 = dGPGO(surrogate_exact_6, Acquisition_new(util_grad_exact), objfunc, param)\n",
        "exact_6.run(init_evals=n_init, max_iter=iters)\n"
      ],
      "execution_count": 39,
      "outputs": [
        {
          "output_type": "stream",
          "name": "stdout",
          "text": [
            "Evaluation \t Proposed point \t  Current eval. \t Best eval.\n",
            "init   \t [ 4.02288795 -1.72052679]. \t  -31.08835710146886 \t -17.28954482757088\n",
            "init   \t [ 3.28938622 -4.69302655]. \t  -58.797867722203385 \t -17.28954482757088\n",
            "init   \t [-4.0175956   0.97333314]. \t  -17.28954482757088 \t -17.28954482757088\n",
            "init   \t [ 0.30532979 -0.83141193]. \t  -19.296253155889353 \t -17.28954482757088\n",
            "init   \t [-1.68542362  1.25459899]. \t  -28.650630936276173 \t -17.28954482757088\n",
            "1      \t [-5.12 -5.12]. \t  -57.849427451571785 \t -17.28954482757088\n",
            "2      \t [4.64255669 5.12      ]. \t  -66.72769251837919 \t -17.28954482757088\n",
            "3      \t [0.02050218 5.12      ]. \t  -29.007991053309418 \t -17.28954482757088\n",
            "4      \t [-0.92932825 -5.12      ]. \t  -30.75814561414174 \t -17.28954482757088\n",
            "5      \t [2.51815483 1.92164354]. \t  -31.156480488159325 \t -17.28954482757088\n",
            "6      \t [-3.62819326  4.5323828 ]. \t  -70.42778022243338 \t -17.28954482757088\n",
            "7      \t [-3.18693139 -2.0993916 ]. \t  -22.59157974281798 \t -17.28954482757088\n",
            "8      \t [5.12       1.26656361]. \t  -41.56774206720138 \t -17.28954482757088\n",
            "9      \t [ 0.27633324 -2.93190966]. \t  -21.220775844070484 \t -17.28954482757088\n",
            "10     \t [-5.12     -1.107439]. \t  -32.34443476941271 \t -17.28954482757088\n",
            "11     \t [ 2.24333322 -0.48213723]. \t  -34.783318917214686 \t -17.28954482757088\n",
            "12     \t [-0.12129521  2.91443517]. \t  \u001b[92m-12.685607572452096\u001b[0m \t -12.685607572452096\n",
            "13     \t [2.13398949 5.10204196]. \t  -35.91003886109774 \t -12.685607572452096\n",
            "14     \t [-5.10881441  2.33228622]. \t  -48.73005656349217 \t -12.685607572452096\n",
            "15     \t [-2.79688716 -4.03740747]. \t  -31.494604054600554 \t -12.685607572452096\n",
            "16     \t [-1.75057444 -0.92579848]. \t  -14.952791064328524 \t -12.685607572452096\n",
            "17     \t [-1.53102513  3.66480401]. \t  -50.686435661963735 \t -12.685607572452096\n",
            "18     \t [ 1.15342396 -2.51547464]. \t  -31.90830965786489 \t -12.685607572452096\n",
            "19     \t [ 1.00437138 -5.12      ]. \t  -29.93724732398062 \t -12.685607572452096\n",
            "20     \t [ 5.12      -2.9658051]. \t  -37.950635947990556 \t -12.685607572452096\n"
          ]
        }
      ]
    },
    {
      "cell_type": "code",
      "metadata": {
        "id": "tAOkme3CIvyO",
        "colab": {
          "base_uri": "https://localhost:8080/"
        },
        "outputId": "730989d2-86d4-4568-a69d-fa4cc955c39a"
      },
      "source": [
        "### EXACT GP EI GRADIENTS\n",
        "\n",
        "np.random.seed(run_num_7)\n",
        "surrogate_exact_7 = dGaussianProcess(cov_func, optimize=opt)\n",
        "\n",
        "exact_7 = dGPGO(surrogate_exact_7, Acquisition_new(util_grad_exact), objfunc, param)\n",
        "exact_7.run(init_evals=n_init, max_iter=iters)\n"
      ],
      "execution_count": 40,
      "outputs": [
        {
          "output_type": "stream",
          "name": "stdout",
          "text": [
            "Evaluation \t Proposed point \t  Current eval. \t Best eval.\n",
            "init   \t [-4.33860312  2.86636843]. \t  -45.646133072936244 \t -22.52235437888213\n",
            "init   \t [-0.63068947  2.28828342]. \t  -34.83012662845338 \t -22.52235437888213\n",
            "init   \t [4.8946126  0.39419771]. \t  -44.09657005662876 \t -22.52235437888213\n",
            "init   \t [ 0.01147355 -4.38219639]. \t  -36.613209822404315 \t -22.52235437888213\n",
            "init   \t [-2.37118484e+00 -1.20319155e-03]. \t  -22.52235437888213 \t -22.52235437888213\n",
            "1      \t [-5.12 -5.12]. \t  -57.849427451571785 \t -22.52235437888213\n",
            "2      \t [3.74335335 5.12      ]. \t  -53.35490818566572 \t -22.52235437888213\n",
            "3      \t [ 4.5282828  -4.16265257]. \t  -62.45872989450324 \t -22.52235437888213\n",
            "4      \t [-4.02558214 -1.33646422]. \t  -33.289738493146906 \t -22.52235437888213\n",
            "5      \t [ 1.30561205 -0.85934452]. \t  \u001b[92m-19.524180402300843\u001b[0m \t -19.524180402300843\n",
            "6      \t [0.93890964 4.55031943]. \t  -41.81897519330707 \t -19.524180402300843\n",
            "7      \t [-1.76468431  4.67855948]. \t  -48.4212093843437 \t -19.524180402300843\n",
            "8      \t [2.54606517 1.65161504]. \t  -44.58978587560092 \t -19.524180402300843\n",
            "9      \t [-2.38966912 -5.12      ]. \t  -52.3270962154796 \t -19.524180402300843\n",
            "10     \t [-4.68309795  5.12      ]. \t  -64.93699329099647 \t -19.524180402300843\n",
            "11     \t [-0.58385926 -2.1342886 ]. \t  -26.893182510193014 \t -19.524180402300843\n",
            "12     \t [ 3.02224013 -1.71037121]. \t  -24.621082464111016 \t -19.524180402300843\n",
            "13     \t [ 2.0159327  -4.66015352]. \t  -41.181203089500166 \t -19.524180402300843\n",
            "14     \t [-5.12        0.17123693]. \t  -34.20474924960598 \t -19.524180402300843\n",
            "15     \t [5.12      3.4380572]. \t  -59.99708741888733 \t -19.524180402300843\n",
            "16     \t [-0.18044525  0.19518283]. \t  \u001b[92m-12.46162564278432\u001b[0m \t -12.46162564278432\n",
            "17     \t [-2.54755671 -2.860231  ]. \t  -37.84243161132847 \t -12.46162564278432\n",
            "18     \t [ 1.19347349 -2.25353536]. \t  -23.24745028953262 \t -12.46162564278432\n",
            "19     \t [-2.64662787  1.06048681]. \t  -24.89074248543408 \t -12.46162564278432\n",
            "20     \t [0.47294178 1.44767156]. \t  -41.63959421265176 \t -12.46162564278432\n"
          ]
        }
      ]
    },
    {
      "cell_type": "code",
      "metadata": {
        "id": "69-J3EF4Iv1S",
        "colab": {
          "base_uri": "https://localhost:8080/"
        },
        "outputId": "9250085e-51d6-4e4e-af81-63b3d4ac4b2f"
      },
      "source": [
        "### EXACT GP EI GRADIENTS\n",
        "\n",
        "np.random.seed(run_num_8)\n",
        "surrogate_exact_8 = dGaussianProcess(cov_func, optimize=opt)\n",
        "\n",
        "exact_8 = dGPGO(surrogate_exact_8, Acquisition_new(util_grad_exact), objfunc, param)\n",
        "exact_8.run(init_evals=n_init, max_iter=iters)\n"
      ],
      "execution_count": 41,
      "outputs": [
        {
          "output_type": "stream",
          "name": "stdout",
          "text": [
            "Evaluation \t Proposed point \t  Current eval. \t Best eval.\n",
            "init   \t [3.82391708 4.79785639]. \t  -50.20079446939181 \t -13.871821018360485\n",
            "init   \t [3.78055209 0.31596228]. \t  -36.5114251593508 \t -13.871821018360485\n",
            "init   \t [-2.73686192 -5.00327624]. \t  -43.34985765011677 \t -13.871821018360485\n",
            "init   \t [-0.7119993  -0.99992207]. \t  -13.871821018360485 \t -13.871821018360485\n",
            "init   \t [ 0.23218863 -0.22126801]. \t  -17.190590355445654 \t -13.871821018360485\n",
            "1      \t [ 4.96380166 -4.82581639]. \t  -53.599814786253866 \t -13.871821018360485\n",
            "2      \t [-5.03492225  2.95509263]. \t  -34.71822332027364 \t -13.871821018360485\n",
            "3      \t [-0.90141252  5.12      ]. \t  -31.595241037171327 \t -13.871821018360485\n",
            "4      \t [ 1.08442296 -4.7906971 ]. \t  -32.97163332222783 \t -13.871821018360485\n",
            "5      \t [-5.12       -1.43958901]. \t  -50.285357808233925 \t -13.871821018360485\n",
            "6      \t [-1.95001889  1.93097606]. \t  \u001b[92m-8.946098136270543\u001b[0m \t -8.946098136270543\n",
            "7      \t [1.4384639  2.43251378]. \t  -46.362493156253606 \t -8.946098136270543\n",
            "8      \t [ 5.12       -1.96129112]. \t  -33.06568931585427 \t -8.946098136270543\n",
            "9      \t [ 2.53585061 -2.61902523]. \t  -50.368676483419065 \t -8.946098136270543\n",
            "10     \t [-5.12 -5.12]. \t  -57.849427451571785 \t -8.946098136270543\n",
            "11     \t [-1.84608428 -2.55223873]. \t  -33.71105836471632 \t -8.946098136270543\n",
            "12     \t [-3.53521444  0.81159486]. \t  -39.13841659889495 \t -8.946098136270543\n",
            "13     \t [-3.13247214  4.49735891]. \t  -53.30582213531235 \t -8.946098136270543\n",
            "14     \t [5.11902826 2.46571861]. \t  -54.72179025132261 \t -8.946098136270543\n",
            "15     \t [-1.05554731  2.50777543]. \t  -27.994082900054394 \t -8.946098136270543\n",
            "16     \t [1.47993639 0.12983354]. \t  -25.274622078992127 \t -8.946098136270543\n",
            "17     \t [1.59691139 4.87043975]. \t  -47.6084298152855 \t -8.946098136270543\n",
            "18     \t [ 0.10866507 -2.05519922]. \t  \u001b[92m-7.0727663956801265\u001b[0m \t -7.0727663956801265\n",
            "19     \t [-1.47888399  0.48186383]. \t  -42.26654909802762 \t -7.0727663956801265\n",
            "20     \t [-0.64789166 -4.20951724]. \t  -41.60803685670415 \t -7.0727663956801265\n"
          ]
        }
      ]
    },
    {
      "cell_type": "code",
      "metadata": {
        "id": "vonm9jyuIv4t",
        "colab": {
          "base_uri": "https://localhost:8080/"
        },
        "outputId": "8901239e-7d3d-4e18-c893-a3ee48b364b6"
      },
      "source": [
        "### EXACT GP EI GRADIENTS\n",
        "\n",
        "np.random.seed(run_num_9)\n",
        "surrogate_exact_9 = dGaussianProcess(cov_func, optimize=opt)\n",
        "\n",
        "exact_9 = dGPGO(surrogate_exact_9, Acquisition_new(util_grad_exact), objfunc, param)\n",
        "exact_9.run(init_evals=n_init, max_iter=iters)\n"
      ],
      "execution_count": 42,
      "outputs": [
        {
          "output_type": "stream",
          "name": "stdout",
          "text": [
            "Evaluation \t Proposed point \t  Current eval. \t Best eval.\n",
            "init   \t [-5.01376866  0.01919582]. \t  -25.248289026162446 \t -24.454800313488693\n",
            "init   \t [-0.04328148 -3.74958562]. \t  -24.454800313488693 \t -24.454800313488693\n",
            "init   \t [-3.66478248 -2.88195916]. \t  -39.46509426509438 \t -24.454800313488693\n",
            "init   \t [-0.83447623 -2.57944404]. \t  -31.06766397812992 \t -24.454800313488693\n",
            "init   \t [-4.25922917 -1.58209393]. \t  -49.922543556206975 \t -24.454800313488693\n",
            "1      \t [3.69491889 4.82146316]. \t  -55.95031066333101 \t -24.454800313488693\n",
            "2      \t [ 5.12       -0.96381407]. \t  -30.111009209089183 \t -24.454800313488693\n",
            "3      \t [-1.75726245  4.33524886]. \t  -46.530066187987714 \t -24.454800313488693\n",
            "4      \t [1.32149658 1.04456568]. \t  \u001b[92m-17.569642963323787\u001b[0m \t -17.569642963323787\n",
            "5      \t [ 2.60463618 -2.60486245]. \t  -49.39182228410674 \t -17.569642963323787\n",
            "6      \t [-4.85459855  3.02292184]. \t  -36.69959614874654 \t -17.569642963323787\n",
            "7      \t [-2.0231529   1.12454345]. \t  \u001b[92m-8.372049871726166\u001b[0m \t -8.372049871726166\n",
            "8      \t [-5.12 -5.12]. \t  -57.8494274515718 \t -8.372049871726166\n",
            "9      \t [5.12       2.01973518]. \t  -33.08082522657303 \t -8.372049871726166\n",
            "10     \t [ 3.17823476 -5.12      ]. \t  -44.66800355580448 \t -8.372049871726166\n",
            "11     \t [0.94616713 3.98258141]. \t  -17.382622301584618 \t -8.372049871726166\n",
            "12     \t [-0.75052838 -0.08322299]. \t  -11.873301194920476 \t -8.372049871726166\n",
            "13     \t [-0.46753853  2.02080343]. \t  -24.180263897600597 \t -8.372049871726166\n",
            "14     \t [3.03867133 0.53714132]. \t  -29.54472469451303 \t -8.372049871726166\n",
            "15     \t [ 0.78923244 -0.85958742]. \t  -12.567375746707373 \t -8.372049871726166\n",
            "16     \t [2.9097094  2.44835252]. \t  -35.505425793487845 \t -8.372049871726166\n",
            "17     \t [-2.77092986  0.66066291]. \t  -32.12630706856685 \t -8.372049871726166\n",
            "18     \t [-2.57731396 -4.76297909]. \t  -57.357040182610284 \t -8.372049871726166\n",
            "19     \t [-4.2590241  5.12     ]. \t  -57.63069719259711 \t -8.372049871726166\n",
            "20     \t [1.55162458 5.12      ]. \t  -50.81077975402977 \t -8.372049871726166\n"
          ]
        }
      ]
    },
    {
      "cell_type": "code",
      "metadata": {
        "id": "6amuYlUdIv7r",
        "colab": {
          "base_uri": "https://localhost:8080/"
        },
        "outputId": "fa662fd6-68cc-4477-8cc2-d5fb32cf6a55"
      },
      "source": [
        "### EXACT GP EI GRADIENTS\n",
        "\n",
        "np.random.seed(run_num_10)\n",
        "surrogate_exact_10 = dGaussianProcess(cov_func, optimize=opt)\n",
        "\n",
        "exact_10 = dGPGO(surrogate_exact_10, Acquisition_new(util_grad_exact), objfunc, param)\n",
        "exact_10.run(init_evals=n_init, max_iter=iters)\n"
      ],
      "execution_count": 43,
      "outputs": [
        {
          "output_type": "stream",
          "name": "stdout",
          "text": [
            "Evaluation \t Proposed point \t  Current eval. \t Best eval.\n",
            "init   \t [ 2.77832339 -4.90750004]. \t  -41.674330194390116 \t -13.839458310244165\n",
            "init   \t [1.36855793 2.54775176]. \t  -44.69639719065837 \t -13.839458310244165\n",
            "init   \t [-0.01528819 -2.81808235]. \t  -13.839458310244165 \t -13.839458310244165\n",
            "init   \t [-3.09183626  2.66783449]. \t  -33.23221510904937 \t -13.839458310244165\n",
            "init   \t [-3.38830503 -4.2154003 ]. \t  -54.73014366983691 \t -13.839458310244165\n",
            "1      \t [ 5.12       -0.53449745]. \t  -48.976408281386696 \t -13.839458310244165\n",
            "2      \t [5.12 5.12]. \t  -57.849427451571785 \t -13.839458310244165\n",
            "3      \t [-4.22754211 -0.73799094]. \t  -37.764185864993955 \t -13.839458310244165\n",
            "4      \t [-0.63815671  5.12      ]. \t  -45.79500674205619 \t -13.839458310244165\n",
            "5      \t [ 1.90874419 -0.86604919]. \t  \u001b[92m-9.3301841029277\u001b[0m \t -9.3301841029277\n",
            "6      \t [-0.38458602 -5.12      ]. \t  -46.556504161401904 \t -9.3301841029277\n",
            "7      \t [4.35013638 2.28560292]. \t  -52.25083705412648 \t -9.3301841029277\n",
            "8      \t [-1.27452338  0.4785302 ]. \t  -33.29730984851068 \t -9.3301841029277\n",
            "9      \t [2.29583476 5.12      ]. \t  -47.03581030707721 \t -9.3301841029277\n",
            "10     \t [-5.12        1.58344219]. \t  -50.08883510696233 \t -9.3301841029277\n",
            "11     \t [ 3.00960109 -2.34339411]. \t  -30.10448084136704 \t -9.3301841029277\n",
            "12     \t [-1.78678181 -1.96753264]. \t  -14.980578773383668 \t -9.3301841029277\n",
            "13     \t [-3.32372707  5.12      ]. \t  -54.44037262596764 \t -9.3301841029277\n",
            "14     \t [2.548763   0.16821764]. \t  -31.14341620193038 \t -9.3301841029277\n",
            "15     \t [ 0.35614192 -0.25518492]. \t  -26.70328176344171 \t -9.3301841029277\n",
            "16     \t [-5.12 -5.12]. \t  -57.849427451571785 \t -9.3301841029277\n",
            "17     \t [ 5.0630214  -2.98240022]. \t  -35.36376839366124 \t -9.3301841029277\n",
            "18     \t [-4.91723829 -2.84785477]. \t  -37.843077662227124 \t -9.3301841029277\n",
            "19     \t [-1.40201919 -2.92813304]. \t  -29.706006234892698 \t -9.3301841029277\n",
            "20     \t [-0.80798337  2.54686514]. \t  -33.14579990472818 \t -9.3301841029277\n"
          ]
        }
      ]
    },
    {
      "cell_type": "code",
      "metadata": {
        "id": "VwbLIP9cIv-F",
        "colab": {
          "base_uri": "https://localhost:8080/"
        },
        "outputId": "39e20fb3-a924-4b0c-ddac-b5960d592388"
      },
      "source": [
        "### EXACT GP EI GRADIENTS\n",
        "\n",
        "np.random.seed(run_num_11)\n",
        "surrogate_exact_11 = dGaussianProcess(cov_func, optimize=opt)\n",
        "\n",
        "exact_11 = dGPGO(surrogate_exact_11, Acquisition_new(util_grad_exact), objfunc, param)\n",
        "exact_11.run(init_evals=n_init, max_iter=iters)\n"
      ],
      "execution_count": 44,
      "outputs": [
        {
          "output_type": "stream",
          "name": "stdout",
          "text": [
            "Evaluation \t Proposed point \t  Current eval. \t Best eval.\n",
            "init   \t [-3.27403839 -4.92057353]. \t  -47.655641290890955 \t -10.679755252484755\n",
            "init   \t [-0.37664229  2.30332343]. \t  -35.87889240695259 \t -10.679755252484755\n",
            "init   \t [-0.81711509 -0.14922651]. \t  -10.679755252484755 \t -10.679755252484755\n",
            "init   \t [-4.98912446 -0.12931474]. \t  -28.05462905574235 \t -10.679755252484755\n",
            "init   \t [4.52410012 3.59214172]. \t  -71.62694632141611 \t -10.679755252484755\n",
            "1      \t [ 3.03550212 -4.46785095]. \t  -49.22040431745476 \t -10.679755252484755\n",
            "2      \t [ 4.91302382 -0.64498034]. \t  -42.14029727890504 \t -10.679755252484755\n",
            "3      \t [-1.19896852  5.12      ]. \t  -37.21049672982495 \t -10.679755252484755\n",
            "4      \t [-0.14967075 -3.28094651]. \t  -26.824632425862518 \t -10.679755252484755\n",
            "5      \t [-3.81010753  2.8468096 ]. \t  -33.219209813269664 \t -10.679755252484755\n",
            "6      \t [2.1329683  0.84931955]. \t  -12.719354383500566 \t -10.679755252484755\n",
            "7      \t [1.87189068 5.12      ]. \t  -35.49710486087807 \t -10.679755252484755\n",
            "8      \t [ 2.10476569 -1.63788323]. \t  -25.678287070032912 \t -10.679755252484755\n",
            "9      \t [-5.12       -2.84222092]. \t  -41.52736984257636 \t -10.679755252484755\n",
            "10     \t [-2.679429   -0.79715792]. \t  -29.18517538521155 \t -10.679755252484755\n",
            "11     \t [-4.00674609  5.12      ]. \t  -44.98770982923132 \t -10.679755252484755\n",
            "12     \t [ 0.32982701 -1.0410911 ]. \t  -16.332110672651474 \t -10.679755252484755\n",
            "13     \t [2.04369322 2.52577386]. \t  -30.79985574904819 \t -10.679755252484755\n",
            "14     \t [ 4.06722221 -2.47594005]. \t  -43.43732506930928 \t -10.679755252484755\n",
            "15     \t [-0.75504913 -5.12      ]. \t  -39.17761991061184 \t -10.679755252484755\n",
            "16     \t [-5.12 -5.12]. \t  -57.849427451571785 \t -10.679755252484755\n",
            "17     \t [5.12       1.48490237]. \t  -51.08468926570815 \t -10.679755252484755\n",
            "18     \t [ 5.12       -3.86829132]. \t  -47.12157521332903 \t -10.679755252484755\n",
            "19     \t [-2.40849978  1.27991721]. \t  -37.70015918320018 \t -10.679755252484755\n",
            "20     \t [-4.59557705  1.0992692 ]. \t  -42.46101864722366 \t -10.679755252484755\n"
          ]
        }
      ]
    },
    {
      "cell_type": "code",
      "metadata": {
        "id": "MlUNFjc-JTBY",
        "colab": {
          "base_uri": "https://localhost:8080/"
        },
        "outputId": "2d5c5cb4-ed0f-4193-a29f-301bda5df441"
      },
      "source": [
        "### EXACT GP EI GRADIENTS\n",
        "\n",
        "np.random.seed(run_num_12)\n",
        "surrogate_exact_12 = dGaussianProcess(cov_func, optimize=opt)\n",
        "\n",
        "exact_12 = dGPGO(surrogate_exact_12, Acquisition_new(util_grad_exact), objfunc, param)\n",
        "exact_12.run(init_evals=n_init, max_iter=iters)\n"
      ],
      "execution_count": 45,
      "outputs": [
        {
          "output_type": "stream",
          "name": "stdout",
          "text": [
            "Evaluation \t Proposed point \t  Current eval. \t Best eval.\n",
            "init   \t [-3.54137249  2.45810889]. \t  -57.903242869085595 \t -40.51116653209555\n",
            "init   \t [-2.42365424  0.34549139]. \t  -40.51116653209555 \t -40.51116653209555\n",
            "init   \t [-4.97075238  4.28796936]. \t  -55.62655915398208 \t -40.51116653209555\n",
            "init   \t [ 4.10332011 -4.77776458]. \t  -49.962803461970296 \t -40.51116653209555\n",
            "init   \t [ 4.6791612  -3.71497655]. \t  -62.183891474990624 \t -40.51116653209555\n",
            "1      \t [4.1801221 5.12     ]. \t  -52.14728433935211 \t -40.51116653209555\n",
            "2      \t [-5.12 -5.12]. \t  -57.849427451571785 \t -40.51116653209555\n",
            "3      \t [2.21197022 0.79384263]. \t  \u001b[92m-20.43618475285203\u001b[0m \t -20.43618475285203\n",
            "4      \t [-0.46911892 -4.42609904]. \t  -58.56397644469458 \t -20.43618475285203\n",
            "5      \t [5.12       0.02454424]. \t  -29.043993582333336 \t -20.43618475285203\n",
            "6      \t [0.0875721 4.603205 ]. \t  -40.64330333892433 \t -20.43618475285203\n",
            "7      \t [-5.12       -1.71400744]. \t  -44.10478715362278 \t -20.43618475285203\n",
            "8      \t [ 1.07319028 -1.68549606]. \t  \u001b[92m-18.974378470429208\u001b[0m \t -18.974378470429208\n",
            "9      \t [-2.4457565  -2.63132226]. \t  -49.115056746185736 \t -18.974378470429208\n",
            "10     \t [5.12       2.56065139]. \t  -54.76426966836394 \t -18.974378470429208\n",
            "11     \t [-0.20640147  1.94485232]. \t  \u001b[92m-11.714148189407585\u001b[0m \t -11.714148189407585\n",
            "12     \t [ 3.15180014 -1.45374446]. \t  -35.84187279008065 \t -11.714148189407585\n",
            "13     \t [-0.02820207 -0.1706231 ]. \t  \u001b[92m-5.403302324782374\u001b[0m \t -5.403302324782374\n",
            "14     \t [-2.11134182  4.879902  ]. \t  -33.33461937299219 \t -5.403302324782374\n",
            "15     \t [1.99845836 3.38154662]. \t  -32.78502599046829 \t -5.403302324782374\n",
            "16     \t [ 1.73915349 -4.95929747]. \t  -38.62550513033214 \t -5.403302324782374\n",
            "17     \t [-0.13451671  0.77756484]. \t  -12.263531410281018 \t -5.403302324782374\n",
            "18     \t [-0.36513483 -1.19748301]. \t  -24.946575662153712 \t -5.403302324782374\n",
            "19     \t [-5.12        0.51983748]. \t  -49.11736637158745 \t -5.403302324782374\n",
            "20     \t [ 0.49982566 -0.03564424]. \t  -20.500832640615343 \t -5.403302324782374\n"
          ]
        }
      ]
    },
    {
      "cell_type": "code",
      "metadata": {
        "id": "9BsKdU9eJTFL",
        "colab": {
          "base_uri": "https://localhost:8080/"
        },
        "outputId": "e3c06357-8721-4855-c8da-ccdb8ada6c35"
      },
      "source": [
        "### EXACT GP EI GRADIENTS\n",
        "\n",
        "np.random.seed(run_num_13)\n",
        "surrogate_exact_13 = dGaussianProcess(cov_func, optimize=opt)\n",
        "\n",
        "exact_13 = dGPGO(surrogate_exact_13, Acquisition_new(util_grad_exact), objfunc, param)\n",
        "exact_13.run(init_evals=n_init, max_iter=iters)\n"
      ],
      "execution_count": 46,
      "outputs": [
        {
          "output_type": "stream",
          "name": "stdout",
          "text": [
            "Evaluation \t Proposed point \t  Current eval. \t Best eval.\n",
            "init   \t [ 2.84367268 -2.68757791]. \t  -33.58019830007169 \t -17.435826639425656\n",
            "init   \t [3.32061217 4.76927179]. \t  -56.857057997503354 \t -17.435826639425656\n",
            "init   \t [ 4.83943541 -0.47667971]. \t  -48.211919361679726 \t -17.435826639425656\n",
            "init   \t [1.11659482 2.82139151]. \t  -17.435826639425656 \t -17.435826639425656\n",
            "init   \t [1.45012065 2.27346667]. \t  -38.25352329493884 \t -17.435826639425656\n",
            "1      \t [-4.10876704 -2.60547476]. \t  -43.79941556238635 \t -17.435826639425656\n",
            "2      \t [-3.79946932  2.66821301]. \t  -43.412509428311274 \t -17.435826639425656\n",
            "3      \t [-0.63511851 -5.12      ]. \t  -45.93562055650825 \t -17.435826639425656\n",
            "4      \t [-0.69660879 -0.85998059]. \t  -18.143631230272188 \t -17.435826639425656\n",
            "5      \t [-0.949167  5.12    ]. \t  -30.331370419796876 \t -17.435826639425656\n",
            "6      \t [-5.12 -5.12]. \t  -57.849427451571785 \t -17.435826639425656\n",
            "7      \t [-4.5509668  -0.02721916]. \t  -40.34954624651627 \t -17.435826639425656\n",
            "8      \t [5.12       2.90600281]. \t  -39.06350885118832 \t -17.435826639425656\n",
            "9      \t [ 2.45903261 -5.12      ]. \t  -54.64209172454363 \t -17.435826639425656\n",
            "10     \t [-1.09522995  1.3299283 ]. \t  -19.519150790241195 \t -17.435826639425656\n",
            "11     \t [ 4.98178265 -3.65668316]. \t  -53.787979904546205 \t -17.435826639425656\n",
            "12     \t [ 2.01300324 -0.5065593 ]. \t  -24.333650256006813 \t -17.435826639425656\n",
            "13     \t [-3.58976335  5.12      ]. \t  -60.26235190988494 \t -17.435826639425656\n",
            "14     \t [-0.34155664 -2.65395047]. \t  -38.27595709907416 \t -17.435826639425656\n",
            "15     \t [-2.25417483 -1.0117464 ]. \t  \u001b[92m-16.394440623456653\u001b[0m \t -16.394440623456653\n",
            "16     \t [-2.78853805 -4.68364038]. \t  -51.36434159677323 \t -16.394440623456653\n",
            "17     \t [1.00619853 5.12      ]. \t  -29.944732398614967 \t -16.394440623456653\n",
            "18     \t [-0.62734791  2.82579019]. \t  -30.76055636388051 \t -16.394440623456653\n",
            "19     \t [-3.21492355  1.04796609]. \t  -19.698568468935775 \t -16.394440623456653\n",
            "20     \t [-5.0522458   3.94987047]. \t  -42.15260223421056 \t -16.394440623456653\n"
          ]
        }
      ]
    },
    {
      "cell_type": "code",
      "metadata": {
        "id": "k6GjFBr1JTJf",
        "colab": {
          "base_uri": "https://localhost:8080/"
        },
        "outputId": "bba5784d-b19a-4b69-f2f4-427909e5a1b6"
      },
      "source": [
        "### EXACT GP EI GRADIENTS\n",
        "\n",
        "np.random.seed(run_num_14)\n",
        "surrogate_exact_14 = dGaussianProcess(cov_func, optimize=opt)\n",
        "\n",
        "exact_14 = dGPGO(surrogate_exact_14, Acquisition_new(util_grad_exact), objfunc, param)\n",
        "exact_14.run(init_evals=n_init, max_iter=iters)\n"
      ],
      "execution_count": 47,
      "outputs": [
        {
          "output_type": "stream",
          "name": "stdout",
          "text": [
            "Evaluation \t Proposed point \t  Current eval. \t Best eval.\n",
            "init   \t [0.14277984 2.79721013]. \t  -18.683085263052178 \t -10.423838604848608\n",
            "init   \t [ 3.7931795  -5.03759925]. \t  -47.36348784446708 \t -10.423838604848608\n",
            "init   \t [-1.94830412  4.68586229]. \t  -40.19779334078636 \t -10.423838604848608\n",
            "init   \t [ 0.13431513 -1.86076749]. \t  -10.423838604848608 \t -10.423838604848608\n",
            "init   \t [ 0.40140736 -2.85434939]. \t  -30.353548735049138 \t -10.423838604848608\n",
            "1      \t [-4.82578806 -5.12      ]. \t  -57.62897652523036 \t -10.423838604848608\n",
            "2      \t [5.12 5.12]. \t  -57.849427451571785 \t -10.423838604848608\n",
            "3      \t [-4.94978572  0.25422714]. \t  -35.32418192303912 \t -10.423838604848608\n",
            "4      \t [4.80749753 0.03051338]. \t  -29.761582978865995 \t -10.423838604848608\n",
            "5      \t [-1.73927576  0.35706862]. \t  -30.05714280882804 \t -10.423838604848608\n",
            "6      \t [-4.78091983  3.27931925]. \t  -53.5123576029817 \t -10.423838604848608\n",
            "7      \t [-1.55025717 -5.12      ]. \t  -50.83357046065794 \t -10.423838604848608\n",
            "8      \t [1.86721652 5.12      ]. \t  -35.69427097968973 \t -10.423838604848608\n",
            "9      \t [ 2.35025465 -0.95349257]. \t  -22.747552300151042 \t -10.423838604848608\n",
            "10     \t [-3.0168211  -2.36682438]. \t  -31.457534168700548 \t -10.423838604848608\n",
            "11     \t [2.99552436 2.30919597]. \t  -27.943733790872226 \t -10.423838604848608\n",
            "12     \t [0.68211091 0.64524838]. \t  -31.13576511563591 \t -10.423838604848608\n",
            "13     \t [ 4.19759884 -2.34349436]. \t  -45.42084337128036 \t -10.423838604848608\n",
            "14     \t [ 1.10917537 -5.12      ]. \t  -32.41692783117246 \t -10.423838604848608\n",
            "15     \t [-1.92618395  2.23730277]. \t  -18.975173298339612 \t -10.423838604848608\n",
            "16     \t [-1.46623595 -1.20214564]. \t  -30.40913861669943 \t -10.423838604848608\n",
            "17     \t [-0.01078415  5.12      ]. \t  -28.947777532243585 \t -10.423838604848608\n",
            "18     \t [-4.45085841 -3.23881125]. \t  -59.12470153898152 \t -10.423838604848608\n",
            "19     \t [4.70675772 2.96186171]. \t  -43.89562165521406 \t -10.423838604848608\n",
            "20     \t [ 5.00788372 -3.79145698]. \t  -46.89084916502436 \t -10.423838604848608\n"
          ]
        }
      ]
    },
    {
      "cell_type": "code",
      "metadata": {
        "id": "dPS8WB3aJTN6",
        "colab": {
          "base_uri": "https://localhost:8080/"
        },
        "outputId": "815969da-45b6-4134-84d0-d644d78312a5"
      },
      "source": [
        "### EXACT GP EI GRADIENTS\n",
        "\n",
        "np.random.seed(run_num_15)\n",
        "surrogate_exact_15 = dGaussianProcess(cov_func, optimize=opt)\n",
        "\n",
        "exact_15 = dGPGO(surrogate_exact_15, Acquisition_new(util_grad_exact), objfunc, param)\n",
        "exact_15.run(init_evals=n_init, max_iter=iters)\n"
      ],
      "execution_count": 48,
      "outputs": [
        {
          "output_type": "stream",
          "name": "stdout",
          "text": [
            "Evaluation \t Proposed point \t  Current eval. \t Best eval.\n",
            "init   \t [ 3.57189322 -3.28810573]. \t  -54.938487770767075 \t -7.990765314336182\n",
            "init   \t [-4.56332069 -1.41784631]. \t  -60.750198753157726 \t -7.990765314336182\n",
            "init   \t [-2.29989449  0.3072023 ]. \t  -31.984997246800887 \t -7.990765314336182\n",
            "init   \t [-1.9873903  -2.00218256]. \t  -7.990765314336182 \t -7.990765314336182\n",
            "init   \t [-3.97576933 -2.5610341 ]. \t  -41.754957769694336 \t -7.990765314336182\n",
            "1      \t [5.12       3.74434704]. \t  -53.29995963390897 \t -7.990765314336182\n",
            "2      \t [-3.93956611  5.12      ]. \t  -45.157200468068055 \t -7.990765314336182\n",
            "3      \t [0.56205256 4.02888216]. \t  -35.96152088934217 \t -7.990765314336182\n",
            "4      \t [-0.41695354 -5.12      ]. \t  -47.76781633366264 \t -7.990765314336182\n",
            "5      \t [2.33291851 0.4796834 ]. \t  -40.56864997401074 \t -7.990765314336182\n",
            "6      \t [-5.12 -5.12]. \t  -57.849427451571785 \t -7.990765314336182\n",
            "7      \t [-5.11881952  1.8124174 ]. \t  -38.324871502349524 \t -7.990765314336182\n",
            "8      \t [ 0.24169911 -1.81051418]. \t  -19.10379191391817 \t -7.990765314336182\n",
            "9      \t [5.12       0.61833842]. \t  -46.66781073748381 \t -7.990765314336182\n",
            "10     \t [-0.16409169  1.51829175]. \t  -27.126709257656266 \t -7.990765314336182\n",
            "11     \t [-2.20510488  3.1320295 ]. \t  -25.13655288757877 \t -7.990765314336182\n",
            "12     \t [ 1.59424175 -4.39578519]. \t  -58.09371665897717 \t -7.990765314336182\n",
            "13     \t [-1.85586197 -3.16888656]. \t  -22.435567169520553 \t -7.990765314336182\n",
            "14     \t [ 5.07438415 -1.47343587]. \t  -48.85385483748117 \t -7.990765314336182\n",
            "15     \t [3.01992233 5.03503697]. \t  -34.791110093127664 \t -7.990765314336182\n",
            "16     \t [ 0.36529859 -0.89353095]. \t  -19.71437947442144 \t -7.990765314336182\n",
            "17     \t [-2.9041699 -5.12     ]. \t  -39.11753968778024 \t -7.990765314336182\n",
            "18     \t [ 2.00262248 -1.58847866]. \t  -25.029230552679678 \t -7.990765314336182\n",
            "19     \t [-1.71089506 -1.31039083]. \t  -30.780740652166042 \t -7.990765314336182\n",
            "20     \t [3.55665941 2.10477683]. \t  -38.54275372623902 \t -7.990765314336182\n"
          ]
        }
      ]
    },
    {
      "cell_type": "code",
      "metadata": {
        "id": "SHWdp2giJTRm",
        "colab": {
          "base_uri": "https://localhost:8080/"
        },
        "outputId": "37caf8d9-6151-4e81-d6ad-b1ed055cc805"
      },
      "source": [
        "### EXACT GP EI GRADIENTS\n",
        "\n",
        "np.random.seed(run_num_16)\n",
        "surrogate_exact_16 = dGaussianProcess(cov_func, optimize=opt)\n",
        "\n",
        "exact_16 = dGPGO(surrogate_exact_16, Acquisition_new(util_grad_exact), objfunc, param)\n",
        "exact_16.run(init_evals=n_init, max_iter=iters)\n"
      ],
      "execution_count": 49,
      "outputs": [
        {
          "output_type": "stream",
          "name": "stdout",
          "text": [
            "Evaluation \t Proposed point \t  Current eval. \t Best eval.\n",
            "init   \t [-2.83349935  0.23719262]. \t  -22.27210456874814 \t -22.27210456874814\n",
            "init   \t [ 0.51918292 -4.65303603]. \t  -57.57021076017139 \t -22.27210456874814\n",
            "init   \t [-1.42613673 -2.83565116]. \t  -33.89145899403749 \t -22.27210456874814\n",
            "init   \t [ 1.9325559  -3.44339021]. \t  -35.85029586225333 \t -22.27210456874814\n",
            "init   \t [-4.39987336  4.51595121]. \t  -77.78800881964571 \t -22.27210456874814\n",
            "1      \t [2.142749   4.83374619]. \t  -36.69381850109535 \t -22.27210456874814\n",
            "2      \t [5.12       0.59422797]. \t  -47.57579460985704 \t -22.27210456874814\n",
            "3      \t [-5.12 -5.12]. \t  -57.849427451571785 \t -22.27210456874814\n",
            "4      \t [1.020987   0.80776409]. \t  \u001b[92m-8.231448011305835\u001b[0m \t -8.231448011305835\n",
            "5      \t [-0.849334    3.07002449]. \t  -15.254856600817323 \t -8.231448011305835\n",
            "6      \t [ 5.12       -3.14287922]. \t  -42.56859016945097 \t -8.231448011305835\n",
            "7      \t [5.12 5.12]. \t  -57.849427451571785 \t -8.231448011305835\n",
            "8      \t [-4.52486335 -2.1068523 ]. \t  -46.961753356862516 \t -8.231448011305835\n",
            "9      \t [ 2.4398155  -0.74036163]. \t  -36.399552587363885 \t -8.231448011305835\n",
            "10     \t [-5.09916718  0.34581391]. \t  -43.66333330294024 \t -8.231448011305835\n",
            "11     \t [2.94363131 2.21252658]. \t  -21.848080167869686 \t -8.231448011305835\n",
            "12     \t [-0.06234554  4.67707   ]. \t  -37.060004133803936 \t -8.231448011305835\n",
            "13     \t [-0.4943661  -0.01670121]. \t  -20.29342015744766 \t -8.231448011305835\n",
            "14     \t [-2.50470818 -5.05407733]. \t  -52.38459834484032 \t -8.231448011305835\n",
            "15     \t [-2.05327401  2.0270876 ]. \t  -9.024514326428479 \t -8.231448011305835\n",
            "16     \t [0.80013956 1.97994793]. \t  -11.54117242021125 \t -8.231448011305835\n",
            "17     \t [-3.05089315  2.2704587 ]. \t  -26.251778435844685 \t -8.231448011305835\n",
            "18     \t [5.12       2.89367237]. \t  -39.44790484034409 \t -8.231448011305835\n",
            "19     \t [ 0.16561753 -1.42179689]. \t  -25.808854843603648 \t -8.231448011305835\n",
            "20     \t [ 2.99416535 -5.06847411]. \t  -35.57249957997627 \t -8.231448011305835\n"
          ]
        }
      ]
    },
    {
      "cell_type": "code",
      "metadata": {
        "id": "yU2SflSsJTUs",
        "colab": {
          "base_uri": "https://localhost:8080/"
        },
        "outputId": "902d5ea9-efb7-40cc-c404-662a61b8d85b"
      },
      "source": [
        "### EXACT GP EI GRADIENTS\n",
        "\n",
        "np.random.seed(run_num_17)\n",
        "surrogate_exact_17 = dGaussianProcess(cov_func, optimize=opt)\n",
        "\n",
        "exact_17 = dGPGO(surrogate_exact_17, Acquisition_new(util_grad_exact), objfunc, param)\n",
        "exact_17.run(init_evals=n_init, max_iter=iters)\n"
      ],
      "execution_count": 50,
      "outputs": [
        {
          "output_type": "stream",
          "name": "stdout",
          "text": [
            "Evaluation \t Proposed point \t  Current eval. \t Best eval.\n",
            "init   \t [-2.10263037  0.31320838]. \t  -20.395145364684023 \t -20.395145364684023\n",
            "init   \t [-3.15882714 -4.42470033]. \t  -53.03732051200137 \t -20.395145364684023\n",
            "init   \t [2.93873111 1.60085526]. \t  -29.989224812583537 \t -20.395145364684023\n",
            "init   \t [1.40821398 0.77417363]. \t  -29.451989415882437 \t -20.395145364684023\n",
            "init   \t [-4.71999574 -1.45598869]. \t  -55.89242173757483 \t -20.395145364684023\n",
            "1      \t [ 4.96008736 -4.44720822]. \t  -64.14783177084814 \t -20.395145364684023\n",
            "2      \t [-1.51861519  5.12      ]. \t  -51.16258242247814 \t -20.395145364684023\n",
            "3      \t [5.12 5.12]. \t  -57.849427451571785 \t -20.395145364684023\n",
            "4      \t [ 0.7748557  -3.17283017]. \t  -24.450909806965385 \t -20.395145364684023\n",
            "5      \t [ 5.12       -0.76855727]. \t  -38.35204680848662 \t -20.395145364684023\n",
            "6      \t [-5.12        2.95221798]. \t  -38.08759998703763 \t -20.395145364684023\n",
            "7      \t [1.79495507 4.85360446]. \t  -37.93258808617763 \t -20.395145364684023\n",
            "8      \t [-0.8862222   2.47557512]. \t  -29.24466080571344 \t -20.395145364684023\n",
            "9      \t [-0.37273703 -5.12      ]. \t  -46.03346174382287 \t -20.395145364684023\n",
            "10     \t [-1.51195556 -1.86068884]. \t  -29.31244287796122 \t -20.395145364684023\n",
            "11     \t [ 2.66124126 -1.78228688]. \t  -33.53624881174039 \t -20.395145364684023\n",
            "12     \t [-3.90056254  4.98852243]. \t  -42.01484133768935 \t -20.395145364684023\n",
            "13     \t [4.8372895  2.68419576]. \t  -49.408376613848624 \t -20.395145364684023\n",
            "14     \t [-3.67002607  0.97943777]. \t  -29.327833581849895 \t -20.395145364684023\n",
            "15     \t [-0.13362754 -0.33814777]. \t  \u001b[92m-18.714288020608983\u001b[0m \t -18.714288020608983\n",
            "16     \t [ 3.69936349 -2.60263083]. \t  -51.57906647138893 \t -18.714288020608983\n",
            "17     \t [ 2.27870412 -5.12      ]. \t  -45.91097746622043 \t -18.714288020608983\n",
            "18     \t [1.05741971 2.94971348]. \t  \u001b[92m-10.957737071171334\u001b[0m \t -10.957737071171334\n",
            "19     \t [0.29952924 3.81205091]. \t  -33.88272572841092 \t -10.957737071171334\n",
            "20     \t [-2.76442355  2.82201947]. \t  -30.328554973019475 \t -10.957737071171334\n"
          ]
        }
      ]
    },
    {
      "cell_type": "code",
      "metadata": {
        "id": "es0KCh_0JTgY",
        "colab": {
          "base_uri": "https://localhost:8080/"
        },
        "outputId": "def25690-3b5e-4e47-b9a1-59542493c260"
      },
      "source": [
        "### EXACT GP EI GRADIENTS\n",
        "\n",
        "np.random.seed(run_num_18)\n",
        "surrogate_exact_18 = dGaussianProcess(cov_func, optimize=opt)\n",
        "\n",
        "exact_18 = dGPGO(surrogate_exact_18, Acquisition_new(util_grad_exact), objfunc, param)\n",
        "exact_18.run(init_evals=n_init, max_iter=iters)\n"
      ],
      "execution_count": 51,
      "outputs": [
        {
          "output_type": "stream",
          "name": "stdout",
          "text": [
            "Evaluation \t Proposed point \t  Current eval. \t Best eval.\n",
            "init   \t [1.53983224 0.05584255]. \t  -22.67190580753611 \t -22.67190580753611\n",
            "init   \t [ 3.87687906 -3.25795609]. \t  -38.990099416711985 \t -22.67190580753611\n",
            "init   \t [3.60686662 2.56139557]. \t  -56.66448698782129 \t -22.67190580753611\n",
            "init   \t [1.70088108 4.99604939]. \t  -40.894059318256296 \t -22.67190580753611\n",
            "init   \t [-2.48864335 -4.83014733]. \t  -54.6725749848372 \t -22.67190580753611\n",
            "1      \t [-5.00718904  2.9174042 ]. \t  -34.91005808676357 \t -22.67190580753611\n",
            "2      \t [-2.51728859 -0.57163024]. \t  -45.60874492925909 \t -22.67190580753611\n",
            "3      \t [-1.85577604  4.64440101]. \t  -45.005605029454756 \t -22.67190580753611\n",
            "4      \t [ 1.00451354 -5.12      ]. \t  -29.93778218898033 \t -22.67190580753611\n",
            "5      \t [-5.12       -2.72650916]. \t  -47.82918580534389 \t -22.67190580753611\n",
            "6      \t [-0.82577125  2.03320747]. \t  \u001b[92m-10.449684907674126\u001b[0m \t -10.449684907674126\n",
            "7      \t [5.12 5.12]. \t  -57.849427451571785 \t -10.449684907674126\n",
            "8      \t [-0.25994613 -2.14728488]. \t  -19.287925698292835 \t -10.449684907674126\n",
            "9      \t [ 5.12       -0.07579673]. \t  -30.043231926081237 \t -10.449684907674126\n",
            "10     \t [-4.18931653  5.12      ]. \t  -52.75394698722303 \t -10.449684907674126\n",
            "11     \t [-5.12       -0.08514162]. \t  -30.329075560992397 \t -10.449684907674126\n",
            "12     \t [0.77151894 2.47984664]. \t  -35.316856430230544 \t -10.449684907674126\n",
            "13     \t [ 4.45959784 -5.12      ]. \t  -68.49224332544647 \t -10.449684907674126\n",
            "14     \t [-5.12 -5.12]. \t  -57.849427451571785 \t -10.449684907674126\n",
            "15     \t [ 1.804687   -2.25118938]. \t  -25.0306103043634 \t -10.449684907674126\n",
            "16     \t [-0.51205758  0.45167308]. \t  -39.9800512299317 \t -10.449684907674126\n",
            "17     \t [-2.26139153 -2.65162392]. \t  -38.65514240475284 \t -10.449684907674126\n",
            "18     \t [ 5.12       -1.94939305]. \t  -33.226135552987806 \t -10.449684907674126\n",
            "19     \t [-2.95540943  2.35755823]. \t  -30.93772487523355 \t -10.449684907674126\n",
            "20     \t [-0.49704439 -4.76661766]. \t  -51.923750341880336 \t -10.449684907674126\n"
          ]
        }
      ]
    },
    {
      "cell_type": "code",
      "metadata": {
        "id": "Pput2LHPIwBM",
        "colab": {
          "base_uri": "https://localhost:8080/"
        },
        "outputId": "b0e52043-23e8-429c-983e-cd07572e3044"
      },
      "source": [
        "### EXACT GP EI GRADIENTS\n",
        "\n",
        "np.random.seed(run_num_19)\n",
        "surrogate_exact_19 = dGaussianProcess(cov_func, optimize=opt)\n",
        "\n",
        "exact_19 = dGPGO(surrogate_exact_19, Acquisition_new(util_grad_exact), objfunc, param)\n",
        "exact_19.run(init_evals=n_init, max_iter=iters)\n"
      ],
      "execution_count": 52,
      "outputs": [
        {
          "output_type": "stream",
          "name": "stdout",
          "text": [
            "Evaluation \t Proposed point \t  Current eval. \t Best eval.\n",
            "init   \t [-4.12125592  2.6751971 ]. \t  -41.43485596167127 \t -25.867003842388073\n",
            "init   \t [-2.59135515 -3.70553152]. \t  -51.60126035043229 \t -25.867003842388073\n",
            "init   \t [-1.72598719 -4.27008445]. \t  -43.97430127029199 \t -25.867003842388073\n",
            "init   \t [1.76104531 3.13952049]. \t  -25.867003842388073 \t -25.867003842388073\n",
            "init   \t [4.9432772  1.38916592]. \t  -44.66580306903559 \t -25.867003842388073\n",
            "1      \t [ 4.34615016 -4.21152016]. \t  -59.91210672035738 \t -25.867003842388073\n",
            "2      \t [-0.62695024 -0.0324845 ]. \t  \u001b[92m-17.585588423433606\u001b[0m \t -17.585588423433606\n",
            "3      \t [5.12 5.12]. \t  -57.849427451571785 \t -17.585588423433606\n",
            "4      \t [-1.28646676  5.12      ]. \t  -42.85098851783182 \t -17.585588423433606\n",
            "5      \t [ 2.32181534 -1.16182355]. \t  -25.84020243023238 \t -17.585588423433606\n",
            "6      \t [-5.12 -5.12]. \t  -57.849427451571785 \t -17.585588423433606\n",
            "7      \t [ 0.92864912 -3.51193817]. \t  -34.156174077395114 \t -17.585588423433606\n",
            "8      \t [-5.12      -0.9559965]. \t  -30.21842636537099 \t -17.585588423433606\n",
            "9      \t [-0.53614598  2.08377975]. \t  -25.72660264112357 \t -17.585588423433606\n",
            "10     \t [ 5.12       -1.40077668]. \t  -49.005646627260255 \t -17.585588423433606\n",
            "11     \t [-2.28600843 -1.14800171]. \t  -22.80800228037564 \t -17.585588423433606\n",
            "12     \t [2.21267224 5.12      ]. \t  -41.49670318285598 \t -17.585588423433606\n",
            "13     \t [1.66903958 1.03699121]. \t  -19.00026120876585 \t -17.585588423433606\n",
            "14     \t [-2.51850704  0.69376159]. \t  -40.217137361543536 \t -17.585588423433606\n",
            "15     \t [-5.12        0.94596679]. \t  -30.390356252464372 \t -17.585588423433606\n",
            "16     \t [ 0.0814341 -1.6878178]. \t  -17.944437322270247 \t -17.585588423433606\n",
            "17     \t [-2.8596441   4.05190743]. \t  -28.765676102630856 \t -17.585588423433606\n",
            "18     \t [ 1.71719607 -5.10056385]. \t  -42.941787406894356 \t -17.585588423433606\n",
            "19     \t [4.69797248 3.50791839]. \t  -67.5751366667553 \t -17.585588423433606\n",
            "20     \t [0.13090404 3.94007418]. \t  -19.43788738111969 \t -17.585588423433606\n"
          ]
        }
      ]
    },
    {
      "cell_type": "code",
      "metadata": {
        "id": "aw3xvSryIwDi",
        "colab": {
          "base_uri": "https://localhost:8080/"
        },
        "outputId": "9fceac0a-2a76-417f-81b2-bcbebbaf0184"
      },
      "source": [
        "### EXACT GP EI GRADIENTS\n",
        "\n",
        "np.random.seed(run_num_20)\n",
        "surrogate_exact_20 = dGaussianProcess(cov_func, optimize=opt)\n",
        "\n",
        "exact_20 = dGPGO(surrogate_exact_20, Acquisition_new(util_grad_exact), objfunc, param)\n",
        "exact_20.run(init_evals=n_init, max_iter=iters)\n"
      ],
      "execution_count": 53,
      "outputs": [
        {
          "output_type": "stream",
          "name": "stdout",
          "text": [
            "Evaluation \t Proposed point \t  Current eval. \t Best eval.\n",
            "init   \t [0.9024594  4.07258857]. \t  -20.24255447774017 \t -17.388691338534382\n",
            "init   \t [4.00927467 3.23417577]. \t  -35.55852254546393 \t -17.388691338534382\n",
            "init   \t [-4.75249064  1.96359764]. \t  -36.54582989269194 \t -17.388691338534382\n",
            "init   \t [-1.24230715  0.18955208]. \t  -17.388691338534382 \t -17.388691338534382\n",
            "init   \t [ 1.61742301 -3.13497377]. \t  -33.22932870179905 \t -17.388691338534382\n",
            "1      \t [-3.7653899 -5.12     ]. \t  -52.13740535917253 \t -17.388691338534382\n",
            "2      \t [ 5.12       -0.91572029]. \t  -31.132887476037034 \t -17.388691338534382\n",
            "3      \t [-2.32335582  4.695823  ]. \t  -55.23503374978317 \t -17.388691338534382\n",
            "4      \t [ 2.55240541 -0.47909495]. \t  -46.12094193929013 \t -17.388691338534382\n",
            "5      \t [-3.1572227 -1.9643346]. \t  -18.57192128922179 \t -17.388691338534382\n",
            "6      \t [ 4.68221667 -4.43412358]. \t  -74.87150444400912 \t -17.388691338534382\n",
            "7      \t [-0.67922448 -5.12      ]. \t  -43.68789178866747 \t -17.388691338534382\n",
            "8      \t [-5.12       -1.44953566]. \t  -50.52737644336485 \t -17.388691338534382\n",
            "9      \t [1.04336258 1.59738084]. \t  -22.19489976785917 \t -17.388691338534382\n",
            "10     \t [5.12 5.12]. \t  -57.849427451571785 \t -17.388691338534382\n",
            "11     \t [-0.69971495 -2.30529064]. \t  -32.31572008462794 \t -17.388691338534382\n",
            "12     \t [-4.9302853   4.29392078]. \t  -56.414311081095285 \t -17.388691338534382\n",
            "13     \t [-1.95884157  2.09212251]. \t  \u001b[92m-10.175490798227761\u001b[0m \t -10.175490798227761\n",
            "14     \t [ 1.58736272 -5.12      ]. \t  -49.97533955940263 \t -10.175490798227761\n",
            "15     \t [-1.07131018  2.9860607 ]. \t  -11.089679835412293 \t -10.175490798227761\n",
            "16     \t [2.70243572 5.12      ]. \t  -49.17213611342832 \t -10.175490798227761\n",
            "17     \t [-3.15829911  0.45253131]. \t  -34.28995259652508 \t -10.175490798227761\n",
            "18     \t [ 0.20704759 -0.30235072]. \t  -20.698445775264418 \t -10.175490798227761\n",
            "19     \t [5.12       1.52822877]. \t  -51.10331429570526 \t -10.175490798227761\n",
            "20     \t [2.85483515 2.626752  ]. \t  -35.92182839982959 \t -10.175490798227761\n"
          ]
        }
      ]
    },
    {
      "cell_type": "code",
      "metadata": {
        "id": "qNqAB3vBTPqb",
        "colab": {
          "base_uri": "https://localhost:8080/"
        },
        "outputId": "ee35a03d-04b4-4ba3-e2bc-7d10d64e2a14"
      },
      "source": [
        "end_exact = time.time()\n",
        "end_exact\n",
        "\n",
        "time_exact = end_exact - start_exact\n",
        "time_exact"
      ],
      "execution_count": 54,
      "outputs": [
        {
          "output_type": "execute_result",
          "data": {
            "text/plain": [
              "228.38417434692383"
            ]
          },
          "metadata": {},
          "execution_count": 54
        }
      ]
    },
    {
      "cell_type": "code",
      "metadata": {
        "id": "JPQzjdBZQxfg",
        "colab": {
          "base_uri": "https://localhost:8080/"
        },
        "outputId": "566cb636-9e73-431a-c476-2ae725154df4"
      },
      "source": [
        "### Simple regret minimization: run number = 1\n",
        "\n",
        "approx_output_1 = np.append(np.min(approx_1.GP.y[0:n_init]),approx_1.GP.y[n_init:(n_init+iters)]) \n",
        "exact_output_1 = np.append(np.min(exact_1.GP.y[0:n_init]),exact_1.GP.y[n_init:(n_init+iters)]) \n",
        "\n",
        "regret_approx_1 = np.log(-approx_output_1 + y_global_orig)\n",
        "regret_exact_1 = np.log(-exact_output_1 + y_global_orig)\n",
        "\n",
        "simple_regret_approx_1 = min_max_array(regret_approx_1)\n",
        "simple_regret_exact_1 = min_max_array(regret_exact_1)\n",
        "\n",
        "min_simple_regret_approx_1 = min(simple_regret_approx_1)\n",
        "min_simple_regret_exact_1 = min(simple_regret_exact_1)\n",
        "\n",
        "min_simple_regret_approx_1, min_simple_regret_exact_1"
      ],
      "execution_count": 55,
      "outputs": [
        {
          "output_type": "execute_result",
          "data": {
            "text/plain": [
              "(2.992209741077767, 2.1383468150232416)"
            ]
          },
          "metadata": {},
          "execution_count": 55
        }
      ]
    },
    {
      "cell_type": "code",
      "metadata": {
        "id": "94yBw5tqQxfk",
        "colab": {
          "base_uri": "https://localhost:8080/"
        },
        "outputId": "c711210b-63c2-49b4-9c99-b0a19d8300c6"
      },
      "source": [
        "### Simple regret minimization: run number = 2\n",
        "\n",
        "approx_output_2 = np.append(np.min(approx_2.GP.y[0:n_init]),approx_2.GP.y[n_init:(n_init+iters)]) \n",
        "exact_output_2 = np.append(np.min(exact_2.GP.y[0:n_init]),exact_2.GP.y[n_init:(n_init+iters)]) \n",
        "\n",
        "regret_approx_2 = np.log(-approx_output_2 + y_global_orig)\n",
        "regret_exact_2 = np.log(-exact_output_2 + y_global_orig)\n",
        "\n",
        "simple_regret_approx_2 = min_max_array(regret_approx_2)\n",
        "simple_regret_exact_2 = min_max_array(regret_exact_2)\n",
        "\n",
        "min_simple_regret_approx_2 = min(simple_regret_approx_2)\n",
        "min_simple_regret_exact_2 = min(simple_regret_exact_2)\n",
        "\n",
        "min_simple_regret_approx_2, min_simple_regret_exact_2"
      ],
      "execution_count": 56,
      "outputs": [
        {
          "output_type": "execute_result",
          "data": {
            "text/plain": [
              "(2.70208273351565, 0.5700598073805034)"
            ]
          },
          "metadata": {},
          "execution_count": 56
        }
      ]
    },
    {
      "cell_type": "code",
      "metadata": {
        "id": "Bu6SBWALQxfl",
        "colab": {
          "base_uri": "https://localhost:8080/"
        },
        "outputId": "e8b70d0b-f933-48f0-b496-9ad72a2168d6"
      },
      "source": [
        "### Simple regret minimization: run number = 3\n",
        "\n",
        "approx_output_3 = np.append(np.min(approx_3.GP.y[0:n_init]),approx_3.GP.y[n_init:(n_init+iters)]) \n",
        "exact_output_3 = np.append(np.min(exact_3.GP.y[0:n_init]),exact_3.GP.y[n_init:(n_init+iters)]) \n",
        "\n",
        "regret_approx_3 = np.log(-approx_output_3 + y_global_orig)\n",
        "regret_exact_3 = np.log(-exact_output_3 + y_global_orig)\n",
        "\n",
        "simple_regret_approx_3 = min_max_array(regret_approx_3)\n",
        "simple_regret_exact_3 = min_max_array(regret_exact_3)\n",
        "\n",
        "min_simple_regret_approx_3 = min(simple_regret_approx_3)\n",
        "min_simple_regret_exact_3 = min(simple_regret_exact_3)\n",
        "\n",
        "min_simple_regret_approx_3, min_simple_regret_exact_3"
      ],
      "execution_count": 57,
      "outputs": [
        {
          "output_type": "execute_result",
          "data": {
            "text/plain": [
              "(3.23902858709975, -0.1571805338082303)"
            ]
          },
          "metadata": {},
          "execution_count": 57
        }
      ]
    },
    {
      "cell_type": "code",
      "metadata": {
        "id": "AZm0jgxkQxfm",
        "colab": {
          "base_uri": "https://localhost:8080/"
        },
        "outputId": "14d4d916-f763-4cfd-cbab-80a2c09a2e25"
      },
      "source": [
        "### Simple regret minimization: run number = 4\n",
        "\n",
        "approx_output_4 = np.append(np.min(approx_4.GP.y[0:n_init]),approx_4.GP.y[n_init:(n_init+iters)]) \n",
        "exact_output_4 = np.append(np.min(exact_4.GP.y[0:n_init]),exact_4.GP.y[n_init:(n_init+iters)]) \n",
        "\n",
        "regret_approx_4 = np.log(-approx_output_4 + y_global_orig)\n",
        "regret_exact_4 = np.log(-exact_output_4 + y_global_orig)\n",
        "\n",
        "simple_regret_approx_4 = min_max_array(regret_approx_4)\n",
        "simple_regret_exact_4 = min_max_array(regret_exact_4)\n",
        "\n",
        "min_simple_regret_approx_4 = min(simple_regret_approx_4)\n",
        "min_simple_regret_exact_4 = min(simple_regret_exact_4)\n",
        "\n",
        "min_simple_regret_approx_4, min_simple_regret_exact_4"
      ],
      "execution_count": 58,
      "outputs": [
        {
          "output_type": "execute_result",
          "data": {
            "text/plain": [
              "(1.8624886057211374, 2.634900280888694)"
            ]
          },
          "metadata": {},
          "execution_count": 58
        }
      ]
    },
    {
      "cell_type": "code",
      "metadata": {
        "id": "NONPm8JIQxfn",
        "colab": {
          "base_uri": "https://localhost:8080/"
        },
        "outputId": "d9b3259e-dc85-4dfc-b0b2-70b5a2f50737"
      },
      "source": [
        "### Simple regret minimization: run number = 5\n",
        "\n",
        "approx_output_5 = np.append(np.min(approx_5.GP.y[0:n_init]),approx_5.GP.y[n_init:(n_init+iters)]) \n",
        "exact_output_5 = np.append(np.min(exact_5.GP.y[0:n_init]),exact_5.GP.y[n_init:(n_init+iters)]) \n",
        "\n",
        "regret_approx_5 = np.log(-approx_output_5 + y_global_orig)\n",
        "regret_exact_5 = np.log(-exact_output_5 + y_global_orig)\n",
        "\n",
        "simple_regret_approx_5 = min_max_array(regret_approx_5)\n",
        "simple_regret_exact_5 = min_max_array(regret_exact_5)\n",
        "\n",
        "min_simple_regret_approx_5 = min(simple_regret_approx_5)\n",
        "min_simple_regret_exact_5 = min(simple_regret_exact_5)\n",
        "\n",
        "min_simple_regret_approx_5, min_simple_regret_exact_5"
      ],
      "execution_count": 59,
      "outputs": [
        {
          "output_type": "execute_result",
          "data": {
            "text/plain": [
              "(1.824105677470207, 2.4674864186195857)"
            ]
          },
          "metadata": {},
          "execution_count": 59
        }
      ]
    },
    {
      "cell_type": "code",
      "metadata": {
        "id": "CJv3lPuSQxfp",
        "colab": {
          "base_uri": "https://localhost:8080/"
        },
        "outputId": "0b5be293-7f30-4b40-88f1-88b68f574564"
      },
      "source": [
        "### Simple regret minimization: run number = 6\n",
        "\n",
        "approx_output_6 = np.append(np.min(approx_6.GP.y[0:n_init]),approx_6.GP.y[n_init:(n_init+iters)]) \n",
        "exact_output_6 = np.append(np.min(exact_6.GP.y[0:n_init]),exact_6.GP.y[n_init:(n_init+iters)]) \n",
        "\n",
        "regret_approx_6 = np.log(-approx_output_6 + y_global_orig)\n",
        "regret_exact_6 = np.log(-exact_output_6 + y_global_orig)\n",
        "\n",
        "simple_regret_approx_6 = min_max_array(regret_approx_6)\n",
        "simple_regret_exact_6 = min_max_array(regret_exact_6)\n",
        "\n",
        "min_simple_regret_approx_6 = min(simple_regret_approx_6)\n",
        "min_simple_regret_exact_6 = min(simple_regret_exact_6)\n",
        "\n",
        "min_simple_regret_approx_6, min_simple_regret_exact_6"
      ],
      "execution_count": 60,
      "outputs": [
        {
          "output_type": "execute_result",
          "data": {
            "text/plain": [
              "(2.81898041979131, 2.5404680888259503)"
            ]
          },
          "metadata": {},
          "execution_count": 60
        }
      ]
    },
    {
      "cell_type": "code",
      "metadata": {
        "id": "quR2ZyApQxfq",
        "colab": {
          "base_uri": "https://localhost:8080/"
        },
        "outputId": "4e3518d7-5421-4d4a-bb3b-74a9bd1079f1"
      },
      "source": [
        "### Simple regret minimization: run number = 7\n",
        "\n",
        "approx_output_7 = np.append(np.min(approx_7.GP.y[0:n_init]),approx_7.GP.y[n_init:(n_init+iters)]) \n",
        "exact_output_7 = np.append(np.min(exact_7.GP.y[0:n_init]),exact_7.GP.y[n_init:(n_init+iters)]) \n",
        "\n",
        "regret_approx_7 = np.log(-approx_output_7 + y_global_orig)\n",
        "regret_exact_7 = np.log(-exact_output_7 + y_global_orig)\n",
        "\n",
        "simple_regret_approx_7 = min_max_array(regret_approx_7)\n",
        "simple_regret_exact_7 = min_max_array(regret_exact_7)\n",
        "\n",
        "min_simple_regret_approx_7 = min(simple_regret_approx_7)\n",
        "min_simple_regret_exact_7 = min(simple_regret_exact_7)\n",
        "\n",
        "min_simple_regret_approx_7, min_simple_regret_exact_7"
      ],
      "execution_count": 61,
      "outputs": [
        {
          "output_type": "execute_result",
          "data": {
            "text/plain": [
              "(2.5470487663770065, 2.5226539737722775)"
            ]
          },
          "metadata": {},
          "execution_count": 61
        }
      ]
    },
    {
      "cell_type": "code",
      "metadata": {
        "id": "99wY5nK6Qxfr",
        "colab": {
          "base_uri": "https://localhost:8080/"
        },
        "outputId": "ba290531-ddd7-4716-958e-4fb54c810694"
      },
      "source": [
        "### Simple regret minimization: run number = 8\n",
        "\n",
        "approx_output_8 = np.append(np.min(approx_8.GP.y[0:n_init]),approx_8.GP.y[n_init:(n_init+iters)]) \n",
        "exact_output_8 = np.append(np.min(exact_8.GP.y[0:n_init]),exact_8.GP.y[n_init:(n_init+iters)]) \n",
        "\n",
        "regret_approx_8 = np.log(-approx_output_8 + y_global_orig)\n",
        "regret_exact_8 = np.log(-exact_output_8 + y_global_orig)\n",
        "\n",
        "simple_regret_approx_8 = min_max_array(regret_approx_8)\n",
        "simple_regret_exact_8 = min_max_array(regret_exact_8)\n",
        "\n",
        "min_simple_regret_approx_8 = min(simple_regret_approx_8)\n",
        "min_simple_regret_exact_8 = min(simple_regret_exact_8)\n",
        "\n",
        "min_simple_regret_approx_8, min_simple_regret_exact_8"
      ],
      "execution_count": 62,
      "outputs": [
        {
          "output_type": "execute_result",
          "data": {
            "text/plain": [
              "(2.6964288623694412, 1.9562516898935736)"
            ]
          },
          "metadata": {},
          "execution_count": 62
        }
      ]
    },
    {
      "cell_type": "code",
      "metadata": {
        "id": "qt0P5t9qQxfs",
        "colab": {
          "base_uri": "https://localhost:8080/"
        },
        "outputId": "ef2d9be0-c516-464b-f2fd-5234ef20c4af"
      },
      "source": [
        "### Simple regret minimization: run number = 9\n",
        "\n",
        "approx_output_9 = np.append(np.min(approx_9.GP.y[0:n_init]),approx_9.GP.y[n_init:(n_init+iters)]) \n",
        "exact_output_9 = np.append(np.min(exact_9.GP.y[0:n_init]),exact_9.GP.y[n_init:(n_init+iters)]) \n",
        "\n",
        "regret_approx_9 = np.log(-approx_output_9 + y_global_orig)\n",
        "regret_exact_9 = np.log(-exact_output_9 + y_global_orig)\n",
        "\n",
        "simple_regret_approx_9 = min_max_array(regret_approx_9)\n",
        "simple_regret_exact_9 = min_max_array(regret_exact_9)\n",
        "\n",
        "min_simple_regret_approx_9 = min(simple_regret_approx_9)\n",
        "min_simple_regret_exact_9 = min(simple_regret_exact_9)\n",
        "\n",
        "min_simple_regret_approx_9, min_simple_regret_exact_9"
      ],
      "execution_count": 63,
      "outputs": [
        {
          "output_type": "execute_result",
          "data": {
            "text/plain": [
              "(2.7482040141063537, 2.1248987615328243)"
            ]
          },
          "metadata": {},
          "execution_count": 63
        }
      ]
    },
    {
      "cell_type": "code",
      "metadata": {
        "id": "vx8to9stQxft",
        "colab": {
          "base_uri": "https://localhost:8080/"
        },
        "outputId": "68b80f00-2bbc-4262-a640-5d6978d18589"
      },
      "source": [
        "### Simple regret minimization: run number = 10\n",
        "\n",
        "approx_output_10 = np.append(np.min(approx_10.GP.y[0:n_init]),approx_10.GP.y[n_init:(n_init+iters)]) \n",
        "exact_output_10 = np.append(np.min(exact_10.GP.y[0:n_init]),exact_10.GP.y[n_init:(n_init+iters)]) \n",
        "\n",
        "regret_approx_10 = np.log(-approx_output_10 + y_global_orig)\n",
        "regret_exact_10 = np.log(-exact_output_10 + y_global_orig)\n",
        "\n",
        "simple_regret_approx_10 = min_max_array(regret_approx_10)\n",
        "simple_regret_exact_10 = min_max_array(regret_exact_10)\n",
        "\n",
        "min_simple_regret_approx_10 = min(simple_regret_approx_10)\n",
        "min_simple_regret_exact_10 = min(simple_regret_exact_10)\n",
        "\n",
        "min_simple_regret_approx_10, min_simple_regret_exact_10"
      ],
      "execution_count": 64,
      "outputs": [
        {
          "output_type": "execute_result",
          "data": {
            "text/plain": [
              "(2.523870238599336, 2.233254747025526)"
            ]
          },
          "metadata": {},
          "execution_count": 64
        }
      ]
    },
    {
      "cell_type": "code",
      "metadata": {
        "id": "d-FGzWyHQxfu",
        "colab": {
          "base_uri": "https://localhost:8080/"
        },
        "outputId": "b25cadbb-ed88-4a27-eae2-f60eb3f6be6e"
      },
      "source": [
        "### Simple regret minimization: run number = 11\n",
        "\n",
        "approx_output_11 = np.append(np.min(approx_11.GP.y[0:n_init]),approx_11.GP.y[n_init:(n_init+iters)]) \n",
        "exact_output_11 = np.append(np.min(exact_11.GP.y[0:n_init]),exact_11.GP.y[n_init:(n_init+iters)]) \n",
        "\n",
        "regret_approx_11 = np.log(-approx_output_11 + y_global_orig)\n",
        "regret_exact_11 = np.log(-exact_output_11 + y_global_orig)\n",
        "\n",
        "simple_regret_approx_11 = min_max_array(regret_approx_11)\n",
        "simple_regret_exact_11 = min_max_array(regret_exact_11)\n",
        "\n",
        "min_simple_regret_approx_11 = min(simple_regret_approx_11)\n",
        "min_simple_regret_exact_11 = min(simple_regret_exact_11)\n",
        "\n",
        "min_simple_regret_approx_11, min_simple_regret_exact_11"
      ],
      "execution_count": 65,
      "outputs": [
        {
          "output_type": "execute_result",
          "data": {
            "text/plain": [
              "(2.437087712028319, 2.5431248006097396)"
            ]
          },
          "metadata": {},
          "execution_count": 65
        }
      ]
    },
    {
      "cell_type": "code",
      "metadata": {
        "id": "SvtsssyjQxfv",
        "colab": {
          "base_uri": "https://localhost:8080/"
        },
        "outputId": "f1ed9a4c-ffb9-4233-dfb1-61398bf273ae"
      },
      "source": [
        "### Simple regret minimization: run number = 12\n",
        "\n",
        "approx_output_12 = np.append(np.min(approx_12.GP.y[0:n_init]),approx_12.GP.y[n_init:(n_init+iters)]) \n",
        "exact_output_12 = np.append(np.min(exact_12.GP.y[0:n_init]),exact_12.GP.y[n_init:(n_init+iters)]) \n",
        "\n",
        "regret_approx_12 = np.log(-approx_output_12 + y_global_orig)\n",
        "regret_exact_12 = np.log(-exact_output_12 + y_global_orig)\n",
        "\n",
        "simple_regret_approx_12 = min_max_array(regret_approx_12)\n",
        "simple_regret_exact_12 = min_max_array(regret_exact_12)\n",
        "\n",
        "min_simple_regret_approx_12 = min(simple_regret_approx_12)\n",
        "min_simple_regret_exact_12 = min(simple_regret_exact_12)\n",
        "\n",
        "min_simple_regret_approx_12, min_simple_regret_exact_12"
      ],
      "execution_count": 66,
      "outputs": [
        {
          "output_type": "execute_result",
          "data": {
            "text/plain": [
              "(1.0147230089008081, 1.6870103082812145)"
            ]
          },
          "metadata": {},
          "execution_count": 66
        }
      ]
    },
    {
      "cell_type": "code",
      "metadata": {
        "id": "K6OiGcHkQxfw",
        "colab": {
          "base_uri": "https://localhost:8080/"
        },
        "outputId": "c2634be0-c6fa-4cfc-f4cf-1cf15cabc96c"
      },
      "source": [
        "### Simple regret minimization: run number = 13\n",
        "\n",
        "approx_output_13 = np.append(np.min(approx_13.GP.y[0:n_init]),approx_13.GP.y[n_init:(n_init+iters)]) \n",
        "exact_output_13 = np.append(np.min(exact_13.GP.y[0:n_init]),exact_13.GP.y[n_init:(n_init+iters)]) \n",
        "\n",
        "regret_approx_13 = np.log(-approx_output_13 + y_global_orig)\n",
        "regret_exact_13 = np.log(-exact_output_13 + y_global_orig)\n",
        "\n",
        "simple_regret_approx_13 = min_max_array(regret_approx_13)\n",
        "simple_regret_exact_13 = min_max_array(regret_exact_13)\n",
        "\n",
        "min_simple_regret_approx_13 = min(simple_regret_approx_13)\n",
        "min_simple_regret_exact_13 = min(simple_regret_exact_13)\n",
        "\n",
        "min_simple_regret_approx_13, min_simple_regret_exact_13"
      ],
      "execution_count": 67,
      "outputs": [
        {
          "output_type": "execute_result",
          "data": {
            "text/plain": [
              "(2.8985987755781992, 2.7969422909866894)"
            ]
          },
          "metadata": {},
          "execution_count": 67
        }
      ]
    },
    {
      "cell_type": "code",
      "metadata": {
        "id": "ogML73shQxfx",
        "colab": {
          "base_uri": "https://localhost:8080/"
        },
        "outputId": "d2f51a30-4b8f-49ee-a461-b159998fada6"
      },
      "source": [
        "### Simple regret minimization: run number = 14\n",
        "\n",
        "approx_output_14 = np.append(np.min(approx_14.GP.y[0:n_init]),approx_14.GP.y[n_init:(n_init+iters)]) \n",
        "exact_output_14 = np.append(np.min(exact_14.GP.y[0:n_init]),exact_14.GP.y[n_init:(n_init+iters)]) \n",
        "\n",
        "regret_approx_14 = np.log(-approx_output_14 + y_global_orig)\n",
        "regret_exact_14 = np.log(-exact_output_14 + y_global_orig)\n",
        "\n",
        "simple_regret_approx_14 = min_max_array(regret_approx_14)\n",
        "simple_regret_exact_14 = min_max_array(regret_exact_14)\n",
        "\n",
        "min_simple_regret_approx_14 = min(simple_regret_approx_14)\n",
        "min_simple_regret_exact_14 = min(simple_regret_exact_14)\n",
        "\n",
        "min_simple_regret_approx_14, min_simple_regret_exact_14"
      ],
      "execution_count": 68,
      "outputs": [
        {
          "output_type": "execute_result",
          "data": {
            "text/plain": [
              "(-0.7300172485627265, 2.943131456222313)"
            ]
          },
          "metadata": {},
          "execution_count": 68
        }
      ]
    },
    {
      "cell_type": "code",
      "metadata": {
        "id": "9Eg7gFT9Qxfx",
        "colab": {
          "base_uri": "https://localhost:8080/"
        },
        "outputId": "3f412ba3-662e-4bca-c291-fad42359e584"
      },
      "source": [
        "### Simple regret minimization: run number = 15\n",
        "\n",
        "approx_output_15 = np.append(np.min(approx_15.GP.y[0:n_init]),approx_15.GP.y[n_init:(n_init+iters)]) \n",
        "exact_output_15 = np.append(np.min(exact_15.GP.y[0:n_init]),exact_15.GP.y[n_init:(n_init+iters)]) \n",
        "\n",
        "regret_approx_15 = np.log(-approx_output_15 + y_global_orig)\n",
        "regret_exact_15 = np.log(-exact_output_15 + y_global_orig)\n",
        "\n",
        "simple_regret_approx_15 = min_max_array(regret_approx_15)\n",
        "simple_regret_exact_15 = min_max_array(regret_exact_15)\n",
        "\n",
        "min_simple_regret_approx_15 = min(simple_regret_approx_15)\n",
        "min_simple_regret_exact_15 = min(simple_regret_exact_15)\n",
        "\n",
        "min_simple_regret_approx_15, min_simple_regret_exact_15"
      ],
      "execution_count": 69,
      "outputs": [
        {
          "output_type": "execute_result",
          "data": {
            "text/plain": [
              "(2.8937534479573976, 2.9498868448727174)"
            ]
          },
          "metadata": {},
          "execution_count": 69
        }
      ]
    },
    {
      "cell_type": "code",
      "metadata": {
        "id": "lIAC1U7ZQxfy",
        "colab": {
          "base_uri": "https://localhost:8080/"
        },
        "outputId": "d8296d3c-420e-4ce6-dac9-d961bdcd173a"
      },
      "source": [
        "### Simple regret minimization: run number = 16\n",
        "\n",
        "approx_output_16 = np.append(np.min(approx_16.GP.y[0:n_init]),approx_16.GP.y[n_init:(n_init+iters)]) \n",
        "exact_output_16 = np.append(np.min(exact_16.GP.y[0:n_init]),exact_16.GP.y[n_init:(n_init+iters)]) \n",
        "\n",
        "regret_approx_16 = np.log(-approx_output_16 + y_global_orig)\n",
        "regret_exact_16 = np.log(-exact_output_16 + y_global_orig)\n",
        "\n",
        "simple_regret_approx_16 = min_max_array(regret_approx_16)\n",
        "simple_regret_exact_16 = min_max_array(regret_exact_16)\n",
        "\n",
        "min_simple_regret_approx_16 = min(simple_regret_approx_16)\n",
        "min_simple_regret_exact_16 = min(simple_regret_exact_16)\n",
        "\n",
        "min_simple_regret_approx_16, min_simple_regret_exact_16"
      ],
      "execution_count": 70,
      "outputs": [
        {
          "output_type": "execute_result",
          "data": {
            "text/plain": [
              "(1.8876451886191041, 2.107961942263342)"
            ]
          },
          "metadata": {},
          "execution_count": 70
        }
      ]
    },
    {
      "cell_type": "code",
      "metadata": {
        "id": "bGott36OQxfz",
        "colab": {
          "base_uri": "https://localhost:8080/"
        },
        "outputId": "1c2b4d06-d033-4dba-e9d0-1bacfff17898"
      },
      "source": [
        "### Simple regret minimization: run number = 17\n",
        "\n",
        "approx_output_17 = np.append(np.min(approx_17.GP.y[0:n_init]),approx_17.GP.y[n_init:(n_init+iters)]) \n",
        "exact_output_17 = np.append(np.min(exact_17.GP.y[0:n_init]),exact_17.GP.y[n_init:(n_init+iters)]) \n",
        "\n",
        "regret_approx_17 = np.log(-approx_output_17 + y_global_orig)\n",
        "regret_exact_17 = np.log(-exact_output_17 + y_global_orig)\n",
        "\n",
        "simple_regret_approx_17 = min_max_array(regret_approx_17)\n",
        "simple_regret_exact_17 = min_max_array(regret_exact_17)\n",
        "\n",
        "min_simple_regret_approx_17 = min(simple_regret_approx_17)\n",
        "min_simple_regret_exact_17 = min(simple_regret_exact_17)\n",
        "\n",
        "min_simple_regret_approx_17, min_simple_regret_exact_17"
      ],
      "execution_count": 71,
      "outputs": [
        {
          "output_type": "execute_result",
          "data": {
            "text/plain": [
              "(2.4422657786685558, 2.3940457885932176)"
            ]
          },
          "metadata": {},
          "execution_count": 71
        }
      ]
    },
    {
      "cell_type": "code",
      "metadata": {
        "id": "Cz9ZYMBMQxfz",
        "colab": {
          "base_uri": "https://localhost:8080/"
        },
        "outputId": "d8726023-8089-43ea-8e34-a50459404129"
      },
      "source": [
        "### Simple regret minimization: run number = 18\n",
        "\n",
        "approx_output_18 = np.append(np.min(approx_18.GP.y[0:n_init]),approx_18.GP.y[n_init:(n_init+iters)]) \n",
        "exact_output_18 = np.append(np.min(exact_18.GP.y[0:n_init]),exact_18.GP.y[n_init:(n_init+iters)]) \n",
        "\n",
        "regret_approx_18 = np.log(-approx_output_18 + y_global_orig)\n",
        "regret_exact_18 = np.log(-exact_output_18 + y_global_orig)\n",
        "\n",
        "simple_regret_approx_18 = min_max_array(regret_approx_18)\n",
        "simple_regret_exact_18 = min_max_array(regret_exact_18)\n",
        "\n",
        "min_simple_regret_approx_18 = min(simple_regret_approx_18)\n",
        "min_simple_regret_exact_18 = min(simple_regret_exact_18)\n",
        "\n",
        "min_simple_regret_approx_18, min_simple_regret_exact_18"
      ],
      "execution_count": 72,
      "outputs": [
        {
          "output_type": "execute_result",
          "data": {
            "text/plain": [
              "(2.425807561590367, 2.346571825580546)"
            ]
          },
          "metadata": {},
          "execution_count": 72
        }
      ]
    },
    {
      "cell_type": "code",
      "metadata": {
        "id": "OBfpWOHNQxf0",
        "colab": {
          "base_uri": "https://localhost:8080/"
        },
        "outputId": "919a931f-98dc-4f68-a43c-a4545de2d591"
      },
      "source": [
        "### Simple regret minimization: run number = 19\n",
        "\n",
        "approx_output_19 = np.append(np.min(approx_19.GP.y[0:n_init]),approx_19.GP.y[n_init:(n_init+iters)]) \n",
        "exact_output_19 = np.append(np.min(exact_19.GP.y[0:n_init]),exact_19.GP.y[n_init:(n_init+iters)]) \n",
        "\n",
        "regret_approx_19 = np.log(-approx_output_19 + y_global_orig)\n",
        "regret_exact_19 = np.log(-exact_output_19 + y_global_orig)\n",
        "\n",
        "simple_regret_approx_19 = min_max_array(regret_approx_19)\n",
        "simple_regret_exact_19 = min_max_array(regret_exact_19)\n",
        "\n",
        "min_simple_regret_approx_19 = min(simple_regret_approx_19)\n",
        "min_simple_regret_exact_19 = min(simple_regret_exact_19)\n",
        "\n",
        "min_simple_regret_approx_19, min_simple_regret_exact_19"
      ],
      "execution_count": 73,
      "outputs": [
        {
          "output_type": "execute_result",
          "data": {
            "text/plain": [
              "(2.9653828685611314, 2.8670797270342203)"
            ]
          },
          "metadata": {},
          "execution_count": 73
        }
      ]
    },
    {
      "cell_type": "code",
      "metadata": {
        "id": "BE1AJ7NsQxf0",
        "colab": {
          "base_uri": "https://localhost:8080/"
        },
        "outputId": "10efa08d-f96c-4da6-807f-fee4f20b6bd9"
      },
      "source": [
        "### Simple regret minimization: run number = 20\n",
        "\n",
        "approx_output_20 = np.append(np.min(approx_20.GP.y[0:n_init]),approx_20.GP.y[n_init:(n_init+iters)]) \n",
        "exact_output_20 = np.append(np.min(exact_20.GP.y[0:n_init]),exact_20.GP.y[n_init:(n_init+iters)]) \n",
        "\n",
        "regret_approx_20 = np.log(-approx_output_20 + y_global_orig)\n",
        "regret_exact_20 = np.log(-exact_output_20 + y_global_orig)\n",
        "\n",
        "simple_regret_approx_20 = min_max_array(regret_approx_20)\n",
        "simple_regret_exact_20 = min_max_array(regret_exact_20)\n",
        "\n",
        "min_simple_regret_approx_20 = min(simple_regret_approx_20)\n",
        "min_simple_regret_exact_20 = min(simple_regret_exact_20)\n",
        "\n",
        "min_simple_regret_approx_20, min_simple_regret_exact_20"
      ],
      "execution_count": 74,
      "outputs": [
        {
          "output_type": "execute_result",
          "data": {
            "text/plain": [
              "(3.00704358830277, 2.319981965863415)"
            ]
          },
          "metadata": {},
          "execution_count": 74
        }
      ]
    },
    {
      "cell_type": "code",
      "metadata": {
        "id": "bpX-bKAHQxf1"
      },
      "source": [
        "# Iteration1 :\n",
        "\n",
        "slice1 = 0\n",
        "\n",
        "approx1 = [simple_regret_approx_1[slice1],\n",
        "       simple_regret_approx_2[slice1],\n",
        "       simple_regret_approx_3[slice1],\n",
        "       simple_regret_approx_4[slice1],\n",
        "       simple_regret_approx_5[slice1],\n",
        "       simple_regret_approx_6[slice1],\n",
        "       simple_regret_approx_7[slice1],\n",
        "       simple_regret_approx_8[slice1],\n",
        "       simple_regret_approx_9[slice1],\n",
        "       simple_regret_approx_10[slice1],\n",
        "       simple_regret_approx_11[slice1],\n",
        "       simple_regret_approx_12[slice1],\n",
        "       simple_regret_approx_13[slice1],\n",
        "       simple_regret_approx_14[slice1],\n",
        "       simple_regret_approx_15[slice1],\n",
        "       simple_regret_approx_16[slice1],\n",
        "       simple_regret_approx_17[slice1],\n",
        "       simple_regret_approx_18[slice1],\n",
        "       simple_regret_approx_19[slice1],\n",
        "       simple_regret_approx_20[slice1]]\n",
        "\n",
        "exact1 = [simple_regret_exact_1[slice1],\n",
        "       simple_regret_exact_2[slice1],\n",
        "       simple_regret_exact_3[slice1],\n",
        "       simple_regret_exact_4[slice1],\n",
        "       simple_regret_exact_5[slice1],\n",
        "       simple_regret_exact_6[slice1],\n",
        "       simple_regret_exact_7[slice1],\n",
        "       simple_regret_exact_8[slice1],\n",
        "       simple_regret_exact_9[slice1],\n",
        "       simple_regret_exact_10[slice1],\n",
        "       simple_regret_exact_11[slice1],\n",
        "       simple_regret_exact_12[slice1],\n",
        "       simple_regret_exact_13[slice1],\n",
        "       simple_regret_exact_14[slice1],\n",
        "       simple_regret_exact_15[slice1],\n",
        "       simple_regret_exact_16[slice1],\n",
        "       simple_regret_exact_17[slice1],\n",
        "       simple_regret_exact_18[slice1],\n",
        "       simple_regret_exact_19[slice1],\n",
        "       simple_regret_exact_20[slice1]]\n",
        "\n",
        "approx1_results = pd.DataFrame(approx1).sort_values(by=[0], ascending=False)\n",
        "exact1_results = pd.DataFrame(exact1).sort_values(by=[0], ascending=False)\n",
        "\n",
        "### Best simple regret minimization IQR - approx:\n",
        "lower_approx1 = np.asarray(approx1_results[4:5][0])[0]\n",
        "median_approx1 = np.asarray(approx1_results[9:10][0])[0]\n",
        "upper_approx1 = np.asarray(approx1_results[14:15][0])[0]\n",
        "\n",
        "lower_exact1 = np.asarray(exact1_results[4:5][0])[0]\n",
        "median_exact1 = np.asarray(exact1_results[9:10][0])[0]\n",
        "upper_exact1 = np.asarray(exact1_results[14:15][0])[0]"
      ],
      "execution_count": 75,
      "outputs": []
    },
    {
      "cell_type": "code",
      "metadata": {
        "id": "CgIkJA1xQxf2"
      },
      "source": [
        "# Iteration11 :\n",
        "\n",
        "slice11 = 10\n",
        "\n",
        "approx11 = [simple_regret_approx_1[slice11],\n",
        "       simple_regret_approx_2[slice11],\n",
        "       simple_regret_approx_3[slice11],\n",
        "       simple_regret_approx_4[slice11],\n",
        "       simple_regret_approx_5[slice11],\n",
        "       simple_regret_approx_6[slice11],\n",
        "       simple_regret_approx_7[slice11],\n",
        "       simple_regret_approx_8[slice11],\n",
        "       simple_regret_approx_9[slice11],\n",
        "       simple_regret_approx_10[slice11],\n",
        "       simple_regret_approx_11[slice11],\n",
        "       simple_regret_approx_12[slice11],\n",
        "       simple_regret_approx_13[slice11],\n",
        "       simple_regret_approx_14[slice11],\n",
        "       simple_regret_approx_15[slice11],\n",
        "       simple_regret_approx_16[slice11],\n",
        "       simple_regret_approx_17[slice11],\n",
        "       simple_regret_approx_18[slice11],\n",
        "       simple_regret_approx_19[slice11],\n",
        "       simple_regret_approx_20[slice11]]\n",
        "\n",
        "exact11 = [simple_regret_exact_1[slice11],\n",
        "       simple_regret_exact_2[slice11],\n",
        "       simple_regret_exact_3[slice11],\n",
        "       simple_regret_exact_4[slice11],\n",
        "       simple_regret_exact_5[slice11],\n",
        "       simple_regret_exact_6[slice11],\n",
        "       simple_regret_exact_7[slice11],\n",
        "       simple_regret_exact_8[slice11],\n",
        "       simple_regret_exact_9[slice11],\n",
        "       simple_regret_exact_10[slice11],\n",
        "       simple_regret_exact_11[slice11],\n",
        "       simple_regret_exact_12[slice11],\n",
        "       simple_regret_exact_13[slice11],\n",
        "       simple_regret_exact_14[slice11],\n",
        "       simple_regret_exact_15[slice11],\n",
        "       simple_regret_exact_16[slice11],\n",
        "       simple_regret_exact_17[slice11],\n",
        "       simple_regret_exact_18[slice11],\n",
        "       simple_regret_exact_19[slice11],\n",
        "       simple_regret_exact_20[slice11]]\n",
        "\n",
        "approx11_results = pd.DataFrame(approx11).sort_values(by=[0], ascending=False)\n",
        "exact11_results = pd.DataFrame(exact11).sort_values(by=[0], ascending=False)\n",
        "\n",
        "### Best simple regret minimization IQR - approx:\n",
        "lower_approx11 = np.asarray(approx11_results[4:5][0])[0]\n",
        "median_approx11 = np.asarray(approx11_results[9:10][0])[0]\n",
        "upper_approx11 = np.asarray(approx11_results[14:15][0])[0]\n",
        "\n",
        "lower_exact11 = np.asarray(exact11_results[4:5][0])[0]\n",
        "median_exact11 = np.asarray(exact11_results[9:10][0])[0]\n",
        "upper_exact11 = np.asarray(exact11_results[14:15][0])[0]"
      ],
      "execution_count": 76,
      "outputs": []
    },
    {
      "cell_type": "code",
      "metadata": {
        "id": "MFePDfGuQxf2"
      },
      "source": [
        "# Iteration21 :\n",
        "\n",
        "slice21 = 20\n",
        "\n",
        "approx21 = [simple_regret_approx_1[slice21],\n",
        "       simple_regret_approx_2[slice21],\n",
        "       simple_regret_approx_3[slice21],\n",
        "       simple_regret_approx_4[slice21],\n",
        "       simple_regret_approx_5[slice21],\n",
        "       simple_regret_approx_6[slice21],\n",
        "       simple_regret_approx_7[slice21],\n",
        "       simple_regret_approx_8[slice21],\n",
        "       simple_regret_approx_9[slice21],\n",
        "       simple_regret_approx_10[slice21],\n",
        "       simple_regret_approx_11[slice21],\n",
        "       simple_regret_approx_12[slice21],\n",
        "       simple_regret_approx_13[slice21],\n",
        "       simple_regret_approx_14[slice21],\n",
        "       simple_regret_approx_15[slice21],\n",
        "       simple_regret_approx_16[slice21],\n",
        "       simple_regret_approx_17[slice21],\n",
        "       simple_regret_approx_18[slice21],\n",
        "       simple_regret_approx_19[slice21],\n",
        "       simple_regret_approx_20[slice21]]\n",
        "\n",
        "exact21 = [simple_regret_exact_1[slice21],\n",
        "       simple_regret_exact_2[slice21],\n",
        "       simple_regret_exact_3[slice21],\n",
        "       simple_regret_exact_4[slice21],\n",
        "       simple_regret_exact_5[slice21],\n",
        "       simple_regret_exact_6[slice21],\n",
        "       simple_regret_exact_7[slice21],\n",
        "       simple_regret_exact_8[slice21],\n",
        "       simple_regret_exact_9[slice21],\n",
        "       simple_regret_exact_10[slice21],\n",
        "       simple_regret_exact_11[slice21],\n",
        "       simple_regret_exact_12[slice21],\n",
        "       simple_regret_exact_13[slice21],\n",
        "       simple_regret_exact_14[slice21],\n",
        "       simple_regret_exact_15[slice21],\n",
        "       simple_regret_exact_16[slice21],\n",
        "       simple_regret_exact_17[slice21],\n",
        "       simple_regret_exact_18[slice21],\n",
        "       simple_regret_exact_19[slice21],\n",
        "       simple_regret_exact_20[slice21]]\n",
        "\n",
        "approx21_results = pd.DataFrame(approx21).sort_values(by=[0], ascending=False)\n",
        "exact21_results = pd.DataFrame(exact21).sort_values(by=[0], ascending=False)\n",
        "\n",
        "### Best simple regret minimization IQR - approx:\n",
        "lower_approx21 = np.asarray(approx21_results[4:5][0])[0]\n",
        "median_approx21 = np.asarray(approx21_results[9:10][0])[0]\n",
        "upper_approx21 = np.asarray(approx21_results[14:15][0])[0]\n",
        "\n",
        "lower_exact21 = np.asarray(exact21_results[4:5][0])[0]\n",
        "median_exact21 = np.asarray(exact21_results[9:10][0])[0]\n",
        "upper_exact21 = np.asarray(exact21_results[14:15][0])[0]"
      ],
      "execution_count": 77,
      "outputs": []
    },
    {
      "cell_type": "code",
      "metadata": {
        "id": "PrRDB1kfQxf3"
      },
      "source": [
        "# Iteration2 :\n",
        "\n",
        "slice2 = 1\n",
        "\n",
        "approx2 = [simple_regret_approx_1[slice2],\n",
        "       simple_regret_approx_2[slice2],\n",
        "       simple_regret_approx_3[slice2],\n",
        "       simple_regret_approx_4[slice2],\n",
        "       simple_regret_approx_5[slice2],\n",
        "       simple_regret_approx_6[slice2],\n",
        "       simple_regret_approx_7[slice2],\n",
        "       simple_regret_approx_8[slice2],\n",
        "       simple_regret_approx_9[slice2],\n",
        "       simple_regret_approx_10[slice2],\n",
        "       simple_regret_approx_11[slice2],\n",
        "       simple_regret_approx_12[slice2],\n",
        "       simple_regret_approx_13[slice2],\n",
        "       simple_regret_approx_14[slice2],\n",
        "       simple_regret_approx_15[slice2],\n",
        "       simple_regret_approx_16[slice2],\n",
        "       simple_regret_approx_17[slice2],\n",
        "       simple_regret_approx_18[slice2],\n",
        "       simple_regret_approx_19[slice2],\n",
        "       simple_regret_approx_20[slice2]]\n",
        "\n",
        "exact2 = [simple_regret_exact_1[slice2],\n",
        "       simple_regret_exact_2[slice2],\n",
        "       simple_regret_exact_3[slice2],\n",
        "       simple_regret_exact_4[slice2],\n",
        "       simple_regret_exact_5[slice2],\n",
        "       simple_regret_exact_6[slice2],\n",
        "       simple_regret_exact_7[slice2],\n",
        "       simple_regret_exact_8[slice2],\n",
        "       simple_regret_exact_9[slice2],\n",
        "       simple_regret_exact_10[slice2],\n",
        "       simple_regret_exact_11[slice2],\n",
        "       simple_regret_exact_12[slice2],\n",
        "       simple_regret_exact_13[slice2],\n",
        "       simple_regret_exact_14[slice2],\n",
        "       simple_regret_exact_15[slice2],\n",
        "       simple_regret_exact_16[slice2],\n",
        "       simple_regret_exact_17[slice2],\n",
        "       simple_regret_exact_18[slice2],\n",
        "       simple_regret_exact_19[slice2],\n",
        "       simple_regret_exact_20[slice2]]\n",
        "\n",
        "approx2_results = pd.DataFrame(approx2).sort_values(by=[0], ascending=False)\n",
        "exact2_results = pd.DataFrame(exact2).sort_values(by=[0], ascending=False)\n",
        "\n",
        "### Best simple regret minimization IQR - approx:\n",
        "lower_approx2 = np.asarray(approx2_results[4:5][0])[0]\n",
        "median_approx2 = np.asarray(approx2_results[9:10][0])[0]\n",
        "upper_approx2 = np.asarray(approx2_results[14:15][0])[0]\n",
        "\n",
        "lower_exact2 = np.asarray(exact2_results[4:5][0])[0]\n",
        "median_exact2 = np.asarray(exact2_results[9:10][0])[0]\n",
        "upper_exact2 = np.asarray(exact2_results[14:15][0])[0]"
      ],
      "execution_count": 78,
      "outputs": []
    },
    {
      "cell_type": "code",
      "metadata": {
        "id": "B8ncJDYeQxf3"
      },
      "source": [
        "# Iteration12 :\n",
        "\n",
        "slice12 = 11\n",
        "\n",
        "approx12 = [simple_regret_approx_1[slice12],\n",
        "       simple_regret_approx_2[slice12],\n",
        "       simple_regret_approx_3[slice12],\n",
        "       simple_regret_approx_4[slice12],\n",
        "       simple_regret_approx_5[slice12],\n",
        "       simple_regret_approx_6[slice12],\n",
        "       simple_regret_approx_7[slice12],\n",
        "       simple_regret_approx_8[slice12],\n",
        "       simple_regret_approx_9[slice12],\n",
        "       simple_regret_approx_10[slice12],\n",
        "       simple_regret_approx_11[slice12],\n",
        "       simple_regret_approx_12[slice12],\n",
        "       simple_regret_approx_13[slice12],\n",
        "       simple_regret_approx_14[slice12],\n",
        "       simple_regret_approx_15[slice12],\n",
        "       simple_regret_approx_16[slice12],\n",
        "       simple_regret_approx_17[slice12],\n",
        "       simple_regret_approx_18[slice12],\n",
        "       simple_regret_approx_19[slice12],\n",
        "       simple_regret_approx_20[slice12]]\n",
        "\n",
        "exact12 = [simple_regret_exact_1[slice12],\n",
        "       simple_regret_exact_2[slice12],\n",
        "       simple_regret_exact_3[slice12],\n",
        "       simple_regret_exact_4[slice12],\n",
        "       simple_regret_exact_5[slice12],\n",
        "       simple_regret_exact_6[slice12],\n",
        "       simple_regret_exact_7[slice12],\n",
        "       simple_regret_exact_8[slice12],\n",
        "       simple_regret_exact_9[slice12],\n",
        "       simple_regret_exact_10[slice12],\n",
        "       simple_regret_exact_11[slice12],\n",
        "       simple_regret_exact_12[slice12],\n",
        "       simple_regret_exact_13[slice12],\n",
        "       simple_regret_exact_14[slice12],\n",
        "       simple_regret_exact_15[slice12],\n",
        "       simple_regret_exact_16[slice12],\n",
        "       simple_regret_exact_17[slice12],\n",
        "       simple_regret_exact_18[slice12],\n",
        "       simple_regret_exact_19[slice12],\n",
        "       simple_regret_exact_20[slice12]]\n",
        "\n",
        "approx12_results = pd.DataFrame(approx12).sort_values(by=[0], ascending=False)\n",
        "exact12_results = pd.DataFrame(exact12).sort_values(by=[0], ascending=False)\n",
        "\n",
        "### Best simple regret minimization IQR - approx:\n",
        "lower_approx12 = np.asarray(approx12_results[4:5][0])[0]\n",
        "median_approx12 = np.asarray(approx12_results[9:10][0])[0]\n",
        "upper_approx12 = np.asarray(approx12_results[14:15][0])[0]\n",
        "\n",
        "lower_exact12 = np.asarray(exact12_results[4:5][0])[0]\n",
        "median_exact12 = np.asarray(exact12_results[9:10][0])[0]\n",
        "upper_exact12 = np.asarray(exact12_results[14:15][0])[0]"
      ],
      "execution_count": 79,
      "outputs": []
    },
    {
      "cell_type": "code",
      "metadata": {
        "id": "Jn4KpGvcQxf4"
      },
      "source": [
        "# Iteration3 :\n",
        "\n",
        "slice3 = 2\n",
        "\n",
        "approx3 = [simple_regret_approx_1[slice3],\n",
        "       simple_regret_approx_2[slice3],\n",
        "       simple_regret_approx_3[slice3],\n",
        "       simple_regret_approx_4[slice3],\n",
        "       simple_regret_approx_5[slice3],\n",
        "       simple_regret_approx_6[slice3],\n",
        "       simple_regret_approx_7[slice3],\n",
        "       simple_regret_approx_8[slice3],\n",
        "       simple_regret_approx_9[slice3],\n",
        "       simple_regret_approx_10[slice3],\n",
        "       simple_regret_approx_11[slice3],\n",
        "       simple_regret_approx_12[slice3],\n",
        "       simple_regret_approx_13[slice3],\n",
        "       simple_regret_approx_14[slice3],\n",
        "       simple_regret_approx_15[slice3],\n",
        "       simple_regret_approx_16[slice3],\n",
        "       simple_regret_approx_17[slice3],\n",
        "       simple_regret_approx_18[slice3],\n",
        "       simple_regret_approx_19[slice3],\n",
        "       simple_regret_approx_20[slice3]]\n",
        "\n",
        "exact3 = [simple_regret_exact_1[slice3],\n",
        "       simple_regret_exact_2[slice3],\n",
        "       simple_regret_exact_3[slice3],\n",
        "       simple_regret_exact_4[slice3],\n",
        "       simple_regret_exact_5[slice3],\n",
        "       simple_regret_exact_6[slice3],\n",
        "       simple_regret_exact_7[slice3],\n",
        "       simple_regret_exact_8[slice3],\n",
        "       simple_regret_exact_9[slice3],\n",
        "       simple_regret_exact_10[slice3],\n",
        "       simple_regret_exact_11[slice3],\n",
        "       simple_regret_exact_12[slice3],\n",
        "       simple_regret_exact_13[slice3],\n",
        "       simple_regret_exact_14[slice3],\n",
        "       simple_regret_exact_15[slice3],\n",
        "       simple_regret_exact_16[slice3],\n",
        "       simple_regret_exact_17[slice3],\n",
        "       simple_regret_exact_18[slice3],\n",
        "       simple_regret_exact_19[slice3],\n",
        "       simple_regret_exact_20[slice3]]\n",
        "\n",
        "approx3_results = pd.DataFrame(approx3).sort_values(by=[0], ascending=False)\n",
        "exact3_results = pd.DataFrame(exact3).sort_values(by=[0], ascending=False)\n",
        "\n",
        "### Best simple regret minimization IQR - approx:\n",
        "lower_approx3 = np.asarray(approx3_results[4:5][0])[0]\n",
        "median_approx3 = np.asarray(approx3_results[9:10][0])[0]\n",
        "upper_approx3 = np.asarray(approx3_results[14:15][0])[0]\n",
        "\n",
        "lower_exact3 = np.asarray(exact3_results[4:5][0])[0]\n",
        "median_exact3 = np.asarray(exact3_results[9:10][0])[0]\n",
        "upper_exact3 = np.asarray(exact3_results[14:15][0])[0]"
      ],
      "execution_count": 80,
      "outputs": []
    },
    {
      "cell_type": "code",
      "metadata": {
        "id": "plf83wxrQxf4"
      },
      "source": [
        "# Iteration13 :\n",
        "\n",
        "slice13 = 12\n",
        "\n",
        "approx13 = [simple_regret_approx_1[slice13],\n",
        "       simple_regret_approx_2[slice13],\n",
        "       simple_regret_approx_3[slice13],\n",
        "       simple_regret_approx_4[slice13],\n",
        "       simple_regret_approx_5[slice13],\n",
        "       simple_regret_approx_6[slice13],\n",
        "       simple_regret_approx_7[slice13],\n",
        "       simple_regret_approx_8[slice13],\n",
        "       simple_regret_approx_9[slice13],\n",
        "       simple_regret_approx_10[slice13],\n",
        "       simple_regret_approx_11[slice13],\n",
        "       simple_regret_approx_12[slice13],\n",
        "       simple_regret_approx_13[slice13],\n",
        "       simple_regret_approx_14[slice13],\n",
        "       simple_regret_approx_15[slice13],\n",
        "       simple_regret_approx_16[slice13],\n",
        "       simple_regret_approx_17[slice13],\n",
        "       simple_regret_approx_18[slice13],\n",
        "       simple_regret_approx_19[slice13],\n",
        "       simple_regret_approx_20[slice13]]\n",
        "\n",
        "exact13 = [simple_regret_exact_1[slice13],\n",
        "       simple_regret_exact_2[slice13],\n",
        "       simple_regret_exact_3[slice13],\n",
        "       simple_regret_exact_4[slice13],\n",
        "       simple_regret_exact_5[slice13],\n",
        "       simple_regret_exact_6[slice13],\n",
        "       simple_regret_exact_7[slice13],\n",
        "       simple_regret_exact_8[slice13],\n",
        "       simple_regret_exact_9[slice13],\n",
        "       simple_regret_exact_10[slice13],\n",
        "       simple_regret_exact_11[slice13],\n",
        "       simple_regret_exact_12[slice13],\n",
        "       simple_regret_exact_13[slice13],\n",
        "       simple_regret_exact_14[slice13],\n",
        "       simple_regret_exact_15[slice13],\n",
        "       simple_regret_exact_16[slice13],\n",
        "       simple_regret_exact_17[slice13],\n",
        "       simple_regret_exact_18[slice13],\n",
        "       simple_regret_exact_19[slice13],\n",
        "       simple_regret_exact_20[slice13]]\n",
        "\n",
        "approx13_results = pd.DataFrame(approx13).sort_values(by=[0], ascending=False)\n",
        "exact13_results = pd.DataFrame(exact13).sort_values(by=[0], ascending=False)\n",
        "\n",
        "### Best simple regret minimization IQR - approx:\n",
        "lower_approx13 = np.asarray(approx13_results[4:5][0])[0]\n",
        "median_approx13 = np.asarray(approx13_results[9:10][0])[0]\n",
        "upper_approx13 = np.asarray(approx13_results[14:15][0])[0]\n",
        "\n",
        "lower_exact13 = np.asarray(exact13_results[4:5][0])[0]\n",
        "median_exact13 = np.asarray(exact13_results[9:10][0])[0]\n",
        "upper_exact13 = np.asarray(exact13_results[14:15][0])[0]"
      ],
      "execution_count": 81,
      "outputs": []
    },
    {
      "cell_type": "code",
      "metadata": {
        "id": "9A7mlVvJQxf5"
      },
      "source": [
        "# Iteration4 :\n",
        "\n",
        "slice4 = 3\n",
        "\n",
        "approx4 = [simple_regret_approx_1[slice4],\n",
        "       simple_regret_approx_2[slice4],\n",
        "       simple_regret_approx_3[slice4],\n",
        "       simple_regret_approx_4[slice4],\n",
        "       simple_regret_approx_5[slice4],\n",
        "       simple_regret_approx_6[slice4],\n",
        "       simple_regret_approx_7[slice4],\n",
        "       simple_regret_approx_8[slice4],\n",
        "       simple_regret_approx_9[slice4],\n",
        "       simple_regret_approx_10[slice4],\n",
        "       simple_regret_approx_11[slice4],\n",
        "       simple_regret_approx_12[slice4],\n",
        "       simple_regret_approx_13[slice4],\n",
        "       simple_regret_approx_14[slice4],\n",
        "       simple_regret_approx_15[slice4],\n",
        "       simple_regret_approx_16[slice4],\n",
        "       simple_regret_approx_17[slice4],\n",
        "       simple_regret_approx_18[slice4],\n",
        "       simple_regret_approx_19[slice4],\n",
        "       simple_regret_approx_20[slice4]]\n",
        "\n",
        "exact4 = [simple_regret_exact_1[slice4],\n",
        "       simple_regret_exact_2[slice4],\n",
        "       simple_regret_exact_3[slice4],\n",
        "       simple_regret_exact_4[slice4],\n",
        "       simple_regret_exact_5[slice4],\n",
        "       simple_regret_exact_6[slice4],\n",
        "       simple_regret_exact_7[slice4],\n",
        "       simple_regret_exact_8[slice4],\n",
        "       simple_regret_exact_9[slice4],\n",
        "       simple_regret_exact_10[slice4],\n",
        "       simple_regret_exact_11[slice4],\n",
        "       simple_regret_exact_12[slice4],\n",
        "       simple_regret_exact_13[slice4],\n",
        "       simple_regret_exact_14[slice4],\n",
        "       simple_regret_exact_15[slice4],\n",
        "       simple_regret_exact_16[slice4],\n",
        "       simple_regret_exact_17[slice4],\n",
        "       simple_regret_exact_18[slice4],\n",
        "       simple_regret_exact_19[slice4],\n",
        "       simple_regret_exact_20[slice4]]\n",
        "\n",
        "approx4_results = pd.DataFrame(approx4).sort_values(by=[0], ascending=False)\n",
        "exact4_results = pd.DataFrame(exact4).sort_values(by=[0], ascending=False)\n",
        "\n",
        "### Best simple regret minimization IQR - approx:\n",
        "lower_approx4 = np.asarray(approx4_results[4:5][0])[0]\n",
        "median_approx4 = np.asarray(approx4_results[9:10][0])[0]\n",
        "upper_approx4 = np.asarray(approx4_results[14:15][0])[0]\n",
        "\n",
        "lower_exact4 = np.asarray(exact4_results[4:5][0])[0]\n",
        "median_exact4 = np.asarray(exact4_results[9:10][0])[0]\n",
        "upper_exact4 = np.asarray(exact4_results[14:15][0])[0]"
      ],
      "execution_count": 82,
      "outputs": []
    },
    {
      "cell_type": "code",
      "metadata": {
        "id": "ijq-rioYQxf5"
      },
      "source": [
        "# Iteration14 :\n",
        "\n",
        "slice14 = 13\n",
        "\n",
        "approx14 = [simple_regret_approx_1[slice14],\n",
        "       simple_regret_approx_2[slice14],\n",
        "       simple_regret_approx_3[slice14],\n",
        "       simple_regret_approx_4[slice14],\n",
        "       simple_regret_approx_5[slice14],\n",
        "       simple_regret_approx_6[slice14],\n",
        "       simple_regret_approx_7[slice14],\n",
        "       simple_regret_approx_8[slice14],\n",
        "       simple_regret_approx_9[slice14],\n",
        "       simple_regret_approx_10[slice14],\n",
        "       simple_regret_approx_11[slice14],\n",
        "       simple_regret_approx_12[slice14],\n",
        "       simple_regret_approx_13[slice14],\n",
        "       simple_regret_approx_14[slice14],\n",
        "       simple_regret_approx_15[slice14],\n",
        "       simple_regret_approx_16[slice14],\n",
        "       simple_regret_approx_17[slice14],\n",
        "       simple_regret_approx_18[slice14],\n",
        "       simple_regret_approx_19[slice14],\n",
        "       simple_regret_approx_20[slice14]]\n",
        "\n",
        "exact14 = [simple_regret_exact_1[slice14],\n",
        "       simple_regret_exact_2[slice14],\n",
        "       simple_regret_exact_3[slice14],\n",
        "       simple_regret_exact_4[slice14],\n",
        "       simple_regret_exact_5[slice14],\n",
        "       simple_regret_exact_6[slice14],\n",
        "       simple_regret_exact_7[slice14],\n",
        "       simple_regret_exact_8[slice14],\n",
        "       simple_regret_exact_9[slice14],\n",
        "       simple_regret_exact_10[slice14],\n",
        "       simple_regret_exact_11[slice14],\n",
        "       simple_regret_exact_12[slice14],\n",
        "       simple_regret_exact_13[slice14],\n",
        "       simple_regret_exact_14[slice14],\n",
        "       simple_regret_exact_15[slice14],\n",
        "       simple_regret_exact_16[slice14],\n",
        "       simple_regret_exact_17[slice14],\n",
        "       simple_regret_exact_18[slice14],\n",
        "       simple_regret_exact_19[slice14],\n",
        "       simple_regret_exact_20[slice14]]\n",
        "\n",
        "approx14_results = pd.DataFrame(approx14).sort_values(by=[0], ascending=False)\n",
        "exact14_results = pd.DataFrame(exact14).sort_values(by=[0], ascending=False)\n",
        "\n",
        "### Best simple regret minimization IQR - approx:\n",
        "lower_approx14 = np.asarray(approx14_results[4:5][0])[0]\n",
        "median_approx14 = np.asarray(approx14_results[9:10][0])[0]\n",
        "upper_approx14 = np.asarray(approx14_results[14:15][0])[0]\n",
        "\n",
        "lower_exact14 = np.asarray(exact14_results[4:5][0])[0]\n",
        "median_exact14 = np.asarray(exact14_results[9:10][0])[0]\n",
        "upper_exact14 = np.asarray(exact14_results[14:15][0])[0]"
      ],
      "execution_count": 83,
      "outputs": []
    },
    {
      "cell_type": "code",
      "metadata": {
        "id": "XINlZjoTd-ZK"
      },
      "source": [
        "# Iteration5 :\n",
        "\n",
        "slice5 = 4\n",
        "\n",
        "approx5 = [simple_regret_approx_1[slice5],\n",
        "       simple_regret_approx_2[slice5],\n",
        "       simple_regret_approx_3[slice5],\n",
        "       simple_regret_approx_4[slice5],\n",
        "       simple_regret_approx_5[slice5],\n",
        "       simple_regret_approx_6[slice5],\n",
        "       simple_regret_approx_7[slice5],\n",
        "       simple_regret_approx_8[slice5],\n",
        "       simple_regret_approx_9[slice5],\n",
        "       simple_regret_approx_10[slice5],\n",
        "       simple_regret_approx_11[slice5],\n",
        "       simple_regret_approx_12[slice5],\n",
        "       simple_regret_approx_13[slice5],\n",
        "       simple_regret_approx_14[slice5],\n",
        "       simple_regret_approx_15[slice5],\n",
        "       simple_regret_approx_16[slice5],\n",
        "       simple_regret_approx_17[slice5],\n",
        "       simple_regret_approx_18[slice5],\n",
        "       simple_regret_approx_19[slice5],\n",
        "       simple_regret_approx_20[slice5]]\n",
        "\n",
        "exact5 = [simple_regret_exact_1[slice5],\n",
        "       simple_regret_exact_2[slice5],\n",
        "       simple_regret_exact_3[slice5],\n",
        "       simple_regret_exact_4[slice5],\n",
        "       simple_regret_exact_5[slice5],\n",
        "       simple_regret_exact_6[slice5],\n",
        "       simple_regret_exact_7[slice5],\n",
        "       simple_regret_exact_8[slice5],\n",
        "       simple_regret_exact_9[slice5],\n",
        "       simple_regret_exact_10[slice5],\n",
        "       simple_regret_exact_11[slice5],\n",
        "       simple_regret_exact_12[slice5],\n",
        "       simple_regret_exact_13[slice5],\n",
        "       simple_regret_exact_14[slice5],\n",
        "       simple_regret_exact_15[slice5],\n",
        "       simple_regret_exact_16[slice5],\n",
        "       simple_regret_exact_17[slice5],\n",
        "       simple_regret_exact_18[slice5],\n",
        "       simple_regret_exact_19[slice5],\n",
        "       simple_regret_exact_20[slice5]]\n",
        "\n",
        "approx5_results = pd.DataFrame(approx5).sort_values(by=[0], ascending=False)\n",
        "exact5_results = pd.DataFrame(exact5).sort_values(by=[0], ascending=False)\n",
        "\n",
        "### Best simple regret minimization IQR - approx:\n",
        "lower_approx5 = np.asarray(approx5_results[4:5][0])[0]\n",
        "median_approx5 = np.asarray(approx5_results[9:10][0])[0]\n",
        "upper_approx5 = np.asarray(approx5_results[14:15][0])[0]\n",
        "\n",
        "lower_exact5 = np.asarray(exact5_results[4:5][0])[0]\n",
        "median_exact5 = np.asarray(exact5_results[9:10][0])[0]\n",
        "upper_exact5 = np.asarray(exact5_results[14:15][0])[0]"
      ],
      "execution_count": 84,
      "outputs": []
    },
    {
      "cell_type": "code",
      "metadata": {
        "id": "4aZ7C8sOQxf6"
      },
      "source": [
        "# Iteration15 :\n",
        "\n",
        "slice15 = 14\n",
        "\n",
        "approx15 = [simple_regret_approx_1[slice15],\n",
        "       simple_regret_approx_2[slice15],\n",
        "       simple_regret_approx_3[slice15],\n",
        "       simple_regret_approx_4[slice15],\n",
        "       simple_regret_approx_5[slice15],\n",
        "       simple_regret_approx_6[slice15],\n",
        "       simple_regret_approx_7[slice15],\n",
        "       simple_regret_approx_8[slice15],\n",
        "       simple_regret_approx_9[slice15],\n",
        "       simple_regret_approx_10[slice15],\n",
        "       simple_regret_approx_11[slice15],\n",
        "       simple_regret_approx_12[slice15],\n",
        "       simple_regret_approx_13[slice15],\n",
        "       simple_regret_approx_14[slice15],\n",
        "       simple_regret_approx_15[slice15],\n",
        "       simple_regret_approx_16[slice15],\n",
        "       simple_regret_approx_17[slice15],\n",
        "       simple_regret_approx_18[slice15],\n",
        "       simple_regret_approx_19[slice15],\n",
        "       simple_regret_approx_20[slice15]]\n",
        "\n",
        "exact15 = [simple_regret_exact_1[slice15],\n",
        "       simple_regret_exact_2[slice15],\n",
        "       simple_regret_exact_3[slice15],\n",
        "       simple_regret_exact_4[slice15],\n",
        "       simple_regret_exact_5[slice15],\n",
        "       simple_regret_exact_6[slice15],\n",
        "       simple_regret_exact_7[slice15],\n",
        "       simple_regret_exact_8[slice15],\n",
        "       simple_regret_exact_9[slice15],\n",
        "       simple_regret_exact_10[slice15],\n",
        "       simple_regret_exact_11[slice15],\n",
        "       simple_regret_exact_12[slice15],\n",
        "       simple_regret_exact_13[slice15],\n",
        "       simple_regret_exact_14[slice15],\n",
        "       simple_regret_exact_15[slice15],\n",
        "       simple_regret_exact_16[slice15],\n",
        "       simple_regret_exact_17[slice15],\n",
        "       simple_regret_exact_18[slice15],\n",
        "       simple_regret_exact_19[slice15],\n",
        "       simple_regret_exact_20[slice15]]\n",
        "\n",
        "approx15_results = pd.DataFrame(approx15).sort_values(by=[0], ascending=False)\n",
        "exact15_results = pd.DataFrame(exact15).sort_values(by=[0], ascending=False)\n",
        "\n",
        "### Best simple regret minimization IQR - approx:\n",
        "lower_approx15 = np.asarray(approx15_results[4:5][0])[0]\n",
        "median_approx15 = np.asarray(approx15_results[9:10][0])[0]\n",
        "upper_approx15 = np.asarray(approx15_results[14:15][0])[0]\n",
        "\n",
        "lower_exact15 = np.asarray(exact15_results[4:5][0])[0]\n",
        "median_exact15 = np.asarray(exact15_results[9:10][0])[0]\n",
        "upper_exact15 = np.asarray(exact15_results[14:15][0])[0]"
      ],
      "execution_count": 85,
      "outputs": []
    },
    {
      "cell_type": "code",
      "metadata": {
        "id": "KJINKhv1Qxf6"
      },
      "source": [
        "# Iteration6 :\n",
        "\n",
        "slice6 = 5\n",
        "\n",
        "approx6 = [simple_regret_approx_1[slice6],\n",
        "       simple_regret_approx_2[slice6],\n",
        "       simple_regret_approx_3[slice6],\n",
        "       simple_regret_approx_4[slice6],\n",
        "       simple_regret_approx_5[slice6],\n",
        "       simple_regret_approx_6[slice6],\n",
        "       simple_regret_approx_7[slice6],\n",
        "       simple_regret_approx_8[slice6],\n",
        "       simple_regret_approx_9[slice6],\n",
        "       simple_regret_approx_10[slice6],\n",
        "       simple_regret_approx_11[slice6],\n",
        "       simple_regret_approx_12[slice6],\n",
        "       simple_regret_approx_13[slice6],\n",
        "       simple_regret_approx_14[slice6],\n",
        "       simple_regret_approx_15[slice6],\n",
        "       simple_regret_approx_16[slice6],\n",
        "       simple_regret_approx_17[slice6],\n",
        "       simple_regret_approx_18[slice6],\n",
        "       simple_regret_approx_19[slice6],\n",
        "       simple_regret_approx_20[slice6]]\n",
        "\n",
        "exact6 = [simple_regret_exact_1[slice6],\n",
        "       simple_regret_exact_2[slice6],\n",
        "       simple_regret_exact_3[slice6],\n",
        "       simple_regret_exact_4[slice6],\n",
        "       simple_regret_exact_5[slice6],\n",
        "       simple_regret_exact_6[slice6],\n",
        "       simple_regret_exact_7[slice6],\n",
        "       simple_regret_exact_8[slice6],\n",
        "       simple_regret_exact_9[slice6],\n",
        "       simple_regret_exact_10[slice6],\n",
        "       simple_regret_exact_11[slice6],\n",
        "       simple_regret_exact_12[slice6],\n",
        "       simple_regret_exact_13[slice6],\n",
        "       simple_regret_exact_14[slice6],\n",
        "       simple_regret_exact_15[slice6],\n",
        "       simple_regret_exact_16[slice6],\n",
        "       simple_regret_exact_17[slice6],\n",
        "       simple_regret_exact_18[slice6],\n",
        "       simple_regret_exact_19[slice6],\n",
        "       simple_regret_exact_20[slice6]]\n",
        "\n",
        "approx6_results = pd.DataFrame(approx6).sort_values(by=[0], ascending=False)\n",
        "exact6_results = pd.DataFrame(exact6).sort_values(by=[0], ascending=False)\n",
        "\n",
        "### Best simple regret minimization IQR - approx:\n",
        "lower_approx6 = np.asarray(approx6_results[4:5][0])[0]\n",
        "median_approx6 = np.asarray(approx6_results[9:10][0])[0]\n",
        "upper_approx6 = np.asarray(approx6_results[14:15][0])[0]\n",
        "\n",
        "lower_exact6 = np.asarray(exact6_results[4:5][0])[0]\n",
        "median_exact6 = np.asarray(exact6_results[9:10][0])[0]\n",
        "upper_exact6 = np.asarray(exact6_results[14:15][0])[0]"
      ],
      "execution_count": 86,
      "outputs": []
    },
    {
      "cell_type": "code",
      "metadata": {
        "id": "nwC5N1FsQxf7"
      },
      "source": [
        "# Iteration16 :\n",
        "\n",
        "slice16 = 15\n",
        "\n",
        "approx16 = [simple_regret_approx_1[slice16],\n",
        "       simple_regret_approx_2[slice16],\n",
        "       simple_regret_approx_3[slice16],\n",
        "       simple_regret_approx_4[slice16],\n",
        "       simple_regret_approx_5[slice16],\n",
        "       simple_regret_approx_6[slice16],\n",
        "       simple_regret_approx_7[slice16],\n",
        "       simple_regret_approx_8[slice16],\n",
        "       simple_regret_approx_9[slice16],\n",
        "       simple_regret_approx_10[slice16],\n",
        "       simple_regret_approx_11[slice16],\n",
        "       simple_regret_approx_12[slice16],\n",
        "       simple_regret_approx_13[slice16],\n",
        "       simple_regret_approx_14[slice16],\n",
        "       simple_regret_approx_15[slice16],\n",
        "       simple_regret_approx_16[slice16],\n",
        "       simple_regret_approx_17[slice16],\n",
        "       simple_regret_approx_18[slice16],\n",
        "       simple_regret_approx_19[slice16],\n",
        "       simple_regret_approx_20[slice16]]\n",
        "\n",
        "exact16 = [simple_regret_exact_1[slice16],\n",
        "       simple_regret_exact_2[slice16],\n",
        "       simple_regret_exact_3[slice16],\n",
        "       simple_regret_exact_4[slice16],\n",
        "       simple_regret_exact_5[slice16],\n",
        "       simple_regret_exact_6[slice16],\n",
        "       simple_regret_exact_7[slice16],\n",
        "       simple_regret_exact_8[slice16],\n",
        "       simple_regret_exact_9[slice16],\n",
        "       simple_regret_exact_10[slice16],\n",
        "       simple_regret_exact_11[slice16],\n",
        "       simple_regret_exact_12[slice16],\n",
        "       simple_regret_exact_13[slice16],\n",
        "       simple_regret_exact_14[slice16],\n",
        "       simple_regret_exact_15[slice16],\n",
        "       simple_regret_exact_16[slice16],\n",
        "       simple_regret_exact_17[slice16],\n",
        "       simple_regret_exact_18[slice16],\n",
        "       simple_regret_exact_19[slice16],\n",
        "       simple_regret_exact_20[slice16]]\n",
        "\n",
        "approx16_results = pd.DataFrame(approx16).sort_values(by=[0], ascending=False)\n",
        "exact16_results = pd.DataFrame(exact16).sort_values(by=[0], ascending=False)\n",
        "\n",
        "### Best simple regret minimization IQR - approx:\n",
        "lower_approx16 = np.asarray(approx16_results[4:5][0])[0]\n",
        "median_approx16 = np.asarray(approx16_results[9:10][0])[0]\n",
        "upper_approx16 = np.asarray(approx16_results[14:15][0])[0]\n",
        "\n",
        "lower_exact16 = np.asarray(exact16_results[4:5][0])[0]\n",
        "median_exact16 = np.asarray(exact16_results[9:10][0])[0]\n",
        "upper_exact16 = np.asarray(exact16_results[14:15][0])[0]"
      ],
      "execution_count": 87,
      "outputs": []
    },
    {
      "cell_type": "code",
      "metadata": {
        "id": "TrPV0AfnQxf7"
      },
      "source": [
        "# Iteration7 :\n",
        "\n",
        "slice7 = 6\n",
        "\n",
        "approx7 = [simple_regret_approx_1[slice7],\n",
        "       simple_regret_approx_2[slice7],\n",
        "       simple_regret_approx_3[slice7],\n",
        "       simple_regret_approx_4[slice7],\n",
        "       simple_regret_approx_5[slice7],\n",
        "       simple_regret_approx_6[slice7],\n",
        "       simple_regret_approx_7[slice7],\n",
        "       simple_regret_approx_8[slice7],\n",
        "       simple_regret_approx_9[slice7],\n",
        "       simple_regret_approx_10[slice7],\n",
        "       simple_regret_approx_11[slice7],\n",
        "       simple_regret_approx_12[slice7],\n",
        "       simple_regret_approx_13[slice7],\n",
        "       simple_regret_approx_14[slice7],\n",
        "       simple_regret_approx_15[slice7],\n",
        "       simple_regret_approx_16[slice7],\n",
        "       simple_regret_approx_17[slice7],\n",
        "       simple_regret_approx_18[slice7],\n",
        "       simple_regret_approx_19[slice7],\n",
        "       simple_regret_approx_20[slice7]]\n",
        "\n",
        "exact7 = [simple_regret_exact_1[slice7],\n",
        "       simple_regret_exact_2[slice7],\n",
        "       simple_regret_exact_3[slice7],\n",
        "       simple_regret_exact_4[slice7],\n",
        "       simple_regret_exact_5[slice7],\n",
        "       simple_regret_exact_6[slice7],\n",
        "       simple_regret_exact_7[slice7],\n",
        "       simple_regret_exact_8[slice7],\n",
        "       simple_regret_exact_9[slice7],\n",
        "       simple_regret_exact_10[slice7],\n",
        "       simple_regret_exact_11[slice7],\n",
        "       simple_regret_exact_12[slice7],\n",
        "       simple_regret_exact_13[slice7],\n",
        "       simple_regret_exact_14[slice7],\n",
        "       simple_regret_exact_15[slice7],\n",
        "       simple_regret_exact_16[slice7],\n",
        "       simple_regret_exact_17[slice7],\n",
        "       simple_regret_exact_18[slice7],\n",
        "       simple_regret_exact_19[slice7],\n",
        "       simple_regret_exact_20[slice7]]\n",
        "\n",
        "approx7_results = pd.DataFrame(approx7).sort_values(by=[0], ascending=False)\n",
        "exact7_results = pd.DataFrame(exact7).sort_values(by=[0], ascending=False)\n",
        "\n",
        "### Best simple regret minimization IQR - approx:\n",
        "lower_approx7 = np.asarray(approx7_results[4:5][0])[0]\n",
        "median_approx7 = np.asarray(approx7_results[9:10][0])[0]\n",
        "upper_approx7 = np.asarray(approx7_results[14:15][0])[0]\n",
        "\n",
        "lower_exact7 = np.asarray(exact7_results[4:5][0])[0]\n",
        "median_exact7 = np.asarray(exact7_results[9:10][0])[0]\n",
        "upper_exact7 = np.asarray(exact7_results[14:15][0])[0]"
      ],
      "execution_count": 88,
      "outputs": []
    },
    {
      "cell_type": "code",
      "metadata": {
        "id": "Ub_-wpK4Qxf8"
      },
      "source": [
        "# Iteration17 :\n",
        "\n",
        "slice17 = 16\n",
        "\n",
        "approx17 = [simple_regret_approx_1[slice17],\n",
        "       simple_regret_approx_2[slice17],\n",
        "       simple_regret_approx_3[slice17],\n",
        "       simple_regret_approx_4[slice17],\n",
        "       simple_regret_approx_5[slice17],\n",
        "       simple_regret_approx_6[slice17],\n",
        "       simple_regret_approx_7[slice17],\n",
        "       simple_regret_approx_8[slice17],\n",
        "       simple_regret_approx_9[slice17],\n",
        "       simple_regret_approx_10[slice17],\n",
        "       simple_regret_approx_11[slice17],\n",
        "       simple_regret_approx_12[slice17],\n",
        "       simple_regret_approx_13[slice17],\n",
        "       simple_regret_approx_14[slice17],\n",
        "       simple_regret_approx_15[slice17],\n",
        "       simple_regret_approx_16[slice17],\n",
        "       simple_regret_approx_17[slice17],\n",
        "       simple_regret_approx_18[slice17],\n",
        "       simple_regret_approx_19[slice17],\n",
        "       simple_regret_approx_20[slice17]]\n",
        "\n",
        "exact17 = [simple_regret_exact_1[slice17],\n",
        "       simple_regret_exact_2[slice17],\n",
        "       simple_regret_exact_3[slice17],\n",
        "       simple_regret_exact_4[slice17],\n",
        "       simple_regret_exact_5[slice17],\n",
        "       simple_regret_exact_6[slice17],\n",
        "       simple_regret_exact_7[slice17],\n",
        "       simple_regret_exact_8[slice17],\n",
        "       simple_regret_exact_9[slice17],\n",
        "       simple_regret_exact_10[slice17],\n",
        "       simple_regret_exact_11[slice17],\n",
        "       simple_regret_exact_12[slice17],\n",
        "       simple_regret_exact_13[slice17],\n",
        "       simple_regret_exact_14[slice17],\n",
        "       simple_regret_exact_15[slice17],\n",
        "       simple_regret_exact_16[slice17],\n",
        "       simple_regret_exact_17[slice17],\n",
        "       simple_regret_exact_18[slice17],\n",
        "       simple_regret_exact_19[slice17],\n",
        "       simple_regret_exact_20[slice17]]\n",
        "\n",
        "approx17_results = pd.DataFrame(approx17).sort_values(by=[0], ascending=False)\n",
        "exact17_results = pd.DataFrame(exact17).sort_values(by=[0], ascending=False)\n",
        "\n",
        "### Best simple regret minimization IQR - approx:\n",
        "lower_approx17 = np.asarray(approx17_results[4:5][0])[0]\n",
        "median_approx17 = np.asarray(approx17_results[9:10][0])[0]\n",
        "upper_approx17 = np.asarray(approx17_results[14:15][0])[0]\n",
        "\n",
        "lower_exact17 = np.asarray(exact17_results[4:5][0])[0]\n",
        "median_exact17 = np.asarray(exact17_results[9:10][0])[0]\n",
        "upper_exact17 = np.asarray(exact17_results[14:15][0])[0]"
      ],
      "execution_count": 89,
      "outputs": []
    },
    {
      "cell_type": "code",
      "metadata": {
        "id": "-6VLo37PQxf8"
      },
      "source": [
        "# Iteration8 :\n",
        "\n",
        "slice8 = 7\n",
        "\n",
        "approx8 = [simple_regret_approx_1[slice8],\n",
        "       simple_regret_approx_2[slice8],\n",
        "       simple_regret_approx_3[slice8],\n",
        "       simple_regret_approx_4[slice8],\n",
        "       simple_regret_approx_5[slice8],\n",
        "       simple_regret_approx_6[slice8],\n",
        "       simple_regret_approx_7[slice8],\n",
        "       simple_regret_approx_8[slice8],\n",
        "       simple_regret_approx_9[slice8],\n",
        "       simple_regret_approx_10[slice8],\n",
        "       simple_regret_approx_11[slice8],\n",
        "       simple_regret_approx_12[slice8],\n",
        "       simple_regret_approx_13[slice8],\n",
        "       simple_regret_approx_14[slice8],\n",
        "       simple_regret_approx_15[slice8],\n",
        "       simple_regret_approx_16[slice8],\n",
        "       simple_regret_approx_17[slice8],\n",
        "       simple_regret_approx_18[slice8],\n",
        "       simple_regret_approx_19[slice8],\n",
        "       simple_regret_approx_20[slice8]]\n",
        "\n",
        "exact8 = [simple_regret_exact_1[slice8],\n",
        "       simple_regret_exact_2[slice8],\n",
        "       simple_regret_exact_3[slice8],\n",
        "       simple_regret_exact_4[slice8],\n",
        "       simple_regret_exact_5[slice8],\n",
        "       simple_regret_exact_6[slice8],\n",
        "       simple_regret_exact_7[slice8],\n",
        "       simple_regret_exact_8[slice8],\n",
        "       simple_regret_exact_9[slice8],\n",
        "       simple_regret_exact_10[slice8],\n",
        "       simple_regret_exact_11[slice8],\n",
        "       simple_regret_exact_12[slice8],\n",
        "       simple_regret_exact_13[slice8],\n",
        "       simple_regret_exact_14[slice8],\n",
        "       simple_regret_exact_15[slice8],\n",
        "       simple_regret_exact_16[slice8],\n",
        "       simple_regret_exact_17[slice8],\n",
        "       simple_regret_exact_18[slice8],\n",
        "       simple_regret_exact_19[slice8],\n",
        "       simple_regret_exact_20[slice8]]\n",
        "\n",
        "approx8_results = pd.DataFrame(approx8).sort_values(by=[0], ascending=False)\n",
        "exact8_results = pd.DataFrame(exact8).sort_values(by=[0], ascending=False)\n",
        "\n",
        "### Best simple regret minimization IQR - approx:\n",
        "lower_approx8 = np.asarray(approx8_results[4:5][0])[0]\n",
        "median_approx8 = np.asarray(approx8_results[9:10][0])[0]\n",
        "upper_approx8 = np.asarray(approx8_results[14:15][0])[0]\n",
        "\n",
        "lower_exact8 = np.asarray(exact8_results[4:5][0])[0]\n",
        "median_exact8 = np.asarray(exact8_results[9:10][0])[0]\n",
        "upper_exact8 = np.asarray(exact8_results[14:15][0])[0]"
      ],
      "execution_count": 90,
      "outputs": []
    },
    {
      "cell_type": "code",
      "metadata": {
        "id": "2Dp-9CC2Qxf9"
      },
      "source": [
        "# Iteration18 :\n",
        "\n",
        "slice18 = 17\n",
        "\n",
        "approx18 = [simple_regret_approx_1[slice18],\n",
        "       simple_regret_approx_2[slice18],\n",
        "       simple_regret_approx_3[slice18],\n",
        "       simple_regret_approx_4[slice18],\n",
        "       simple_regret_approx_5[slice18],\n",
        "       simple_regret_approx_6[slice18],\n",
        "       simple_regret_approx_7[slice18],\n",
        "       simple_regret_approx_8[slice18],\n",
        "       simple_regret_approx_9[slice18],\n",
        "       simple_regret_approx_10[slice18],\n",
        "       simple_regret_approx_11[slice18],\n",
        "       simple_regret_approx_12[slice18],\n",
        "       simple_regret_approx_13[slice18],\n",
        "       simple_regret_approx_14[slice18],\n",
        "       simple_regret_approx_15[slice18],\n",
        "       simple_regret_approx_16[slice18],\n",
        "       simple_regret_approx_17[slice18],\n",
        "       simple_regret_approx_18[slice18],\n",
        "       simple_regret_approx_19[slice18],\n",
        "       simple_regret_approx_20[slice18]]\n",
        "\n",
        "exact18 = [simple_regret_exact_1[slice18],\n",
        "       simple_regret_exact_2[slice18],\n",
        "       simple_regret_exact_3[slice18],\n",
        "       simple_regret_exact_4[slice18],\n",
        "       simple_regret_exact_5[slice18],\n",
        "       simple_regret_exact_6[slice18],\n",
        "       simple_regret_exact_7[slice18],\n",
        "       simple_regret_exact_8[slice18],\n",
        "       simple_regret_exact_9[slice18],\n",
        "       simple_regret_exact_10[slice18],\n",
        "       simple_regret_exact_11[slice18],\n",
        "       simple_regret_exact_12[slice18],\n",
        "       simple_regret_exact_13[slice18],\n",
        "       simple_regret_exact_14[slice18],\n",
        "       simple_regret_exact_15[slice18],\n",
        "       simple_regret_exact_16[slice18],\n",
        "       simple_regret_exact_17[slice18],\n",
        "       simple_regret_exact_18[slice18],\n",
        "       simple_regret_exact_19[slice18],\n",
        "       simple_regret_exact_20[slice18]]\n",
        "\n",
        "approx18_results = pd.DataFrame(approx18).sort_values(by=[0], ascending=False)\n",
        "exact18_results = pd.DataFrame(exact18).sort_values(by=[0], ascending=False)\n",
        "\n",
        "### Best simple regret minimization IQR - approx:\n",
        "lower_approx18 = np.asarray(approx18_results[4:5][0])[0]\n",
        "median_approx18 = np.asarray(approx18_results[9:10][0])[0]\n",
        "upper_approx18 = np.asarray(approx18_results[14:15][0])[0]\n",
        "\n",
        "lower_exact18 = np.asarray(exact18_results[4:5][0])[0]\n",
        "median_exact18 = np.asarray(exact18_results[9:10][0])[0]\n",
        "upper_exact18 = np.asarray(exact18_results[14:15][0])[0]"
      ],
      "execution_count": 91,
      "outputs": []
    },
    {
      "cell_type": "code",
      "metadata": {
        "id": "SqiaOpB7Qxf9"
      },
      "source": [
        "# Iteration9 :\n",
        "\n",
        "slice9 = 8\n",
        "\n",
        "approx9 = [simple_regret_approx_1[slice9],\n",
        "       simple_regret_approx_2[slice9],\n",
        "       simple_regret_approx_3[slice9],\n",
        "       simple_regret_approx_4[slice9],\n",
        "       simple_regret_approx_5[slice9],\n",
        "       simple_regret_approx_6[slice9],\n",
        "       simple_regret_approx_7[slice9],\n",
        "       simple_regret_approx_8[slice9],\n",
        "       simple_regret_approx_9[slice9],\n",
        "       simple_regret_approx_10[slice9],\n",
        "       simple_regret_approx_11[slice9],\n",
        "       simple_regret_approx_12[slice9],\n",
        "       simple_regret_approx_13[slice9],\n",
        "       simple_regret_approx_14[slice9],\n",
        "       simple_regret_approx_15[slice9],\n",
        "       simple_regret_approx_16[slice9],\n",
        "       simple_regret_approx_17[slice9],\n",
        "       simple_regret_approx_18[slice9],\n",
        "       simple_regret_approx_19[slice9],\n",
        "       simple_regret_approx_20[slice9]]\n",
        "\n",
        "exact9 = [simple_regret_exact_1[slice9],\n",
        "       simple_regret_exact_2[slice9],\n",
        "       simple_regret_exact_3[slice9],\n",
        "       simple_regret_exact_4[slice9],\n",
        "       simple_regret_exact_5[slice9],\n",
        "       simple_regret_exact_6[slice9],\n",
        "       simple_regret_exact_7[slice9],\n",
        "       simple_regret_exact_8[slice9],\n",
        "       simple_regret_exact_9[slice9],\n",
        "       simple_regret_exact_10[slice9],\n",
        "       simple_regret_exact_11[slice9],\n",
        "       simple_regret_exact_12[slice9],\n",
        "       simple_regret_exact_13[slice9],\n",
        "       simple_regret_exact_14[slice9],\n",
        "       simple_regret_exact_15[slice9],\n",
        "       simple_regret_exact_16[slice9],\n",
        "       simple_regret_exact_17[slice9],\n",
        "       simple_regret_exact_18[slice9],\n",
        "       simple_regret_exact_19[slice9],\n",
        "       simple_regret_exact_20[slice9]]\n",
        "\n",
        "approx9_results = pd.DataFrame(approx9).sort_values(by=[0], ascending=False)\n",
        "exact9_results = pd.DataFrame(exact9).sort_values(by=[0], ascending=False)\n",
        "\n",
        "### Best simple regret minimization IQR - approx:\n",
        "lower_approx9 = np.asarray(approx9_results[4:5][0])[0]\n",
        "median_approx9 = np.asarray(approx9_results[9:10][0])[0]\n",
        "upper_approx9 = np.asarray(approx9_results[14:15][0])[0]\n",
        "\n",
        "lower_exact9 = np.asarray(exact9_results[4:5][0])[0]\n",
        "median_exact9 = np.asarray(exact9_results[9:10][0])[0]\n",
        "upper_exact9 = np.asarray(exact9_results[14:15][0])[0]"
      ],
      "execution_count": 92,
      "outputs": []
    },
    {
      "cell_type": "code",
      "metadata": {
        "id": "OQkCCOsPQxf9"
      },
      "source": [
        "# Iteration19 :\n",
        "\n",
        "slice19 = 18\n",
        "\n",
        "approx19 = [simple_regret_approx_1[slice19],\n",
        "       simple_regret_approx_2[slice19],\n",
        "       simple_regret_approx_3[slice19],\n",
        "       simple_regret_approx_4[slice19],\n",
        "       simple_regret_approx_5[slice19],\n",
        "       simple_regret_approx_6[slice19],\n",
        "       simple_regret_approx_7[slice19],\n",
        "       simple_regret_approx_8[slice19],\n",
        "       simple_regret_approx_9[slice19],\n",
        "       simple_regret_approx_10[slice19],\n",
        "       simple_regret_approx_11[slice19],\n",
        "       simple_regret_approx_12[slice19],\n",
        "       simple_regret_approx_13[slice19],\n",
        "       simple_regret_approx_14[slice19],\n",
        "       simple_regret_approx_15[slice19],\n",
        "       simple_regret_approx_16[slice19],\n",
        "       simple_regret_approx_17[slice19],\n",
        "       simple_regret_approx_18[slice19],\n",
        "       simple_regret_approx_19[slice19],\n",
        "       simple_regret_approx_20[slice19]]\n",
        "\n",
        "exact19 = [simple_regret_exact_1[slice19],\n",
        "       simple_regret_exact_2[slice19],\n",
        "       simple_regret_exact_3[slice19],\n",
        "       simple_regret_exact_4[slice19],\n",
        "       simple_regret_exact_5[slice19],\n",
        "       simple_regret_exact_6[slice19],\n",
        "       simple_regret_exact_7[slice19],\n",
        "       simple_regret_exact_8[slice19],\n",
        "       simple_regret_exact_9[slice19],\n",
        "       simple_regret_exact_10[slice19],\n",
        "       simple_regret_exact_11[slice19],\n",
        "       simple_regret_exact_12[slice19],\n",
        "       simple_regret_exact_13[slice19],\n",
        "       simple_regret_exact_14[slice19],\n",
        "       simple_regret_exact_15[slice19],\n",
        "       simple_regret_exact_16[slice19],\n",
        "       simple_regret_exact_17[slice19],\n",
        "       simple_regret_exact_18[slice19],\n",
        "       simple_regret_exact_19[slice19],\n",
        "       simple_regret_exact_20[slice19]]\n",
        "\n",
        "approx19_results = pd.DataFrame(approx19).sort_values(by=[0], ascending=False)\n",
        "exact19_results = pd.DataFrame(exact19).sort_values(by=[0], ascending=False)\n",
        "\n",
        "### Best simple regret minimization IQR - approx:\n",
        "lower_approx19 = np.asarray(approx19_results[4:5][0])[0]\n",
        "median_approx19 = np.asarray(approx19_results[9:10][0])[0]\n",
        "upper_approx19 = np.asarray(approx19_results[14:15][0])[0]\n",
        "\n",
        "lower_exact19 = np.asarray(exact19_results[4:5][0])[0]\n",
        "median_exact19 = np.asarray(exact19_results[9:10][0])[0]\n",
        "upper_exact19 = np.asarray(exact19_results[14:15][0])[0]"
      ],
      "execution_count": 93,
      "outputs": []
    },
    {
      "cell_type": "code",
      "metadata": {
        "id": "h4vtWahcQxf-"
      },
      "source": [
        "# Iteration10 :\n",
        "\n",
        "slice10 = 9\n",
        "\n",
        "approx10 = [simple_regret_approx_1[slice10],\n",
        "       simple_regret_approx_2[slice10],\n",
        "       simple_regret_approx_3[slice10],\n",
        "       simple_regret_approx_4[slice10],\n",
        "       simple_regret_approx_5[slice10],\n",
        "       simple_regret_approx_6[slice10],\n",
        "       simple_regret_approx_7[slice10],\n",
        "       simple_regret_approx_8[slice10],\n",
        "       simple_regret_approx_9[slice10],\n",
        "       simple_regret_approx_10[slice10],\n",
        "       simple_regret_approx_11[slice10],\n",
        "       simple_regret_approx_12[slice10],\n",
        "       simple_regret_approx_13[slice10],\n",
        "       simple_regret_approx_14[slice10],\n",
        "       simple_regret_approx_15[slice10],\n",
        "       simple_regret_approx_16[slice10],\n",
        "       simple_regret_approx_17[slice10],\n",
        "       simple_regret_approx_18[slice10],\n",
        "       simple_regret_approx_19[slice10],\n",
        "       simple_regret_approx_20[slice10]]\n",
        "\n",
        "exact10 = [simple_regret_exact_1[slice10],\n",
        "       simple_regret_exact_2[slice10],\n",
        "       simple_regret_exact_3[slice10],\n",
        "       simple_regret_exact_4[slice10],\n",
        "       simple_regret_exact_5[slice10],\n",
        "       simple_regret_exact_6[slice10],\n",
        "       simple_regret_exact_7[slice10],\n",
        "       simple_regret_exact_8[slice10],\n",
        "       simple_regret_exact_9[slice10],\n",
        "       simple_regret_exact_10[slice10],\n",
        "       simple_regret_exact_11[slice10],\n",
        "       simple_regret_exact_12[slice10],\n",
        "       simple_regret_exact_13[slice10],\n",
        "       simple_regret_exact_14[slice10],\n",
        "       simple_regret_exact_15[slice10],\n",
        "       simple_regret_exact_16[slice10],\n",
        "       simple_regret_exact_17[slice10],\n",
        "       simple_regret_exact_18[slice10],\n",
        "       simple_regret_exact_19[slice10],\n",
        "       simple_regret_exact_20[slice10]]\n",
        "\n",
        "approx10_results = pd.DataFrame(approx10).sort_values(by=[0], ascending=False)\n",
        "exact10_results = pd.DataFrame(exact10).sort_values(by=[0], ascending=False)\n",
        "\n",
        "### Best simple regret minimization IQR - approx:\n",
        "lower_approx10 = np.asarray(approx10_results[4:5][0])[0]\n",
        "median_approx10 = np.asarray(approx10_results[9:10][0])[0]\n",
        "upper_approx10 = np.asarray(approx10_results[14:15][0])[0]\n",
        "\n",
        "lower_exact10 = np.asarray(exact10_results[4:5][0])[0]\n",
        "median_exact10 = np.asarray(exact10_results[9:10][0])[0]\n",
        "upper_exact10 = np.asarray(exact10_results[14:15][0])[0]"
      ],
      "execution_count": 94,
      "outputs": []
    },
    {
      "cell_type": "code",
      "metadata": {
        "id": "Rsf240pWQxf-"
      },
      "source": [
        "# Iteration20 :\n",
        "\n",
        "slice20 = 19\n",
        "\n",
        "approx20 = [simple_regret_approx_1[slice20],\n",
        "       simple_regret_approx_2[slice20],\n",
        "       simple_regret_approx_3[slice20],\n",
        "       simple_regret_approx_4[slice20],\n",
        "       simple_regret_approx_5[slice20],\n",
        "       simple_regret_approx_6[slice20],\n",
        "       simple_regret_approx_7[slice20],\n",
        "       simple_regret_approx_8[slice20],\n",
        "       simple_regret_approx_9[slice20],\n",
        "       simple_regret_approx_10[slice20],\n",
        "       simple_regret_approx_11[slice20],\n",
        "       simple_regret_approx_12[slice20],\n",
        "       simple_regret_approx_13[slice20],\n",
        "       simple_regret_approx_14[slice20],\n",
        "       simple_regret_approx_15[slice20],\n",
        "       simple_regret_approx_16[slice20],\n",
        "       simple_regret_approx_17[slice20],\n",
        "       simple_regret_approx_18[slice20],\n",
        "       simple_regret_approx_19[slice20],\n",
        "       simple_regret_approx_20[slice20]]\n",
        "\n",
        "exact20 = [simple_regret_exact_1[slice20],\n",
        "       simple_regret_exact_2[slice20],\n",
        "       simple_regret_exact_3[slice20],\n",
        "       simple_regret_exact_4[slice20],\n",
        "       simple_regret_exact_5[slice20],\n",
        "       simple_regret_exact_6[slice20],\n",
        "       simple_regret_exact_7[slice20],\n",
        "       simple_regret_exact_8[slice20],\n",
        "       simple_regret_exact_9[slice20],\n",
        "       simple_regret_exact_10[slice20],\n",
        "       simple_regret_exact_11[slice20],\n",
        "       simple_regret_exact_12[slice20],\n",
        "       simple_regret_exact_13[slice20],\n",
        "       simple_regret_exact_14[slice20],\n",
        "       simple_regret_exact_15[slice20],\n",
        "       simple_regret_exact_16[slice20],\n",
        "       simple_regret_exact_17[slice20],\n",
        "       simple_regret_exact_18[slice20],\n",
        "       simple_regret_exact_19[slice20],\n",
        "       simple_regret_exact_20[slice20]]\n",
        "\n",
        "approx20_results = pd.DataFrame(approx20).sort_values(by=[0], ascending=False)\n",
        "exact20_results = pd.DataFrame(exact20).sort_values(by=[0], ascending=False)\n",
        "\n",
        "### Best simple regret minimization IQR - approx:\n",
        "lower_approx20 = np.asarray(approx20_results[4:5][0])[0]\n",
        "median_approx20 = np.asarray(approx20_results[9:10][0])[0]\n",
        "upper_approx20 = np.asarray(approx20_results[14:15][0])[0]\n",
        "\n",
        "lower_exact20 = np.asarray(exact20_results[4:5][0])[0]\n",
        "median_exact20 = np.asarray(exact20_results[9:10][0])[0]\n",
        "upper_exact20 = np.asarray(exact20_results[14:15][0])[0]"
      ],
      "execution_count": 95,
      "outputs": []
    },
    {
      "cell_type": "code",
      "metadata": {
        "id": "gn36RejbQxf_"
      },
      "source": [
        "### Summarize arrays: 'Loser'\n",
        "\n",
        "lower_approx = [lower_approx1,\n",
        "            lower_approx2,\n",
        "            lower_approx3,\n",
        "            lower_approx4,\n",
        "            lower_approx5,\n",
        "            lower_approx6,\n",
        "            lower_approx7,\n",
        "            lower_approx8,\n",
        "            lower_approx9,\n",
        "            lower_approx10,\n",
        "            lower_approx11,\n",
        "            lower_approx12,\n",
        "            lower_approx13,\n",
        "            lower_approx14,\n",
        "            lower_approx15,\n",
        "            lower_approx16,\n",
        "            lower_approx17,\n",
        "            lower_approx18,\n",
        "            lower_approx19,\n",
        "            lower_approx20,\n",
        "            lower_approx21]\n",
        "\n",
        "median_approx = [median_approx1,\n",
        "            median_approx2,\n",
        "            median_approx3,\n",
        "            median_approx4,\n",
        "            median_approx5,\n",
        "            median_approx6,\n",
        "            median_approx7,\n",
        "            median_approx8,\n",
        "            median_approx9,\n",
        "            median_approx10,\n",
        "            median_approx11,\n",
        "            median_approx12,\n",
        "            median_approx13,\n",
        "            median_approx14,\n",
        "            median_approx15,\n",
        "            median_approx16,\n",
        "            median_approx17,\n",
        "            median_approx18,\n",
        "            median_approx19,\n",
        "            median_approx20,\n",
        "            median_approx21]\n",
        "\n",
        "upper_approx = [upper_approx1,\n",
        "            upper_approx2,\n",
        "            upper_approx3,\n",
        "            upper_approx4,\n",
        "            upper_approx5,\n",
        "            upper_approx6,\n",
        "            upper_approx7,\n",
        "            upper_approx8,\n",
        "            upper_approx9,\n",
        "            upper_approx10,\n",
        "            upper_approx11,\n",
        "            upper_approx12,\n",
        "            upper_approx13,\n",
        "            upper_approx14,\n",
        "            upper_approx15,\n",
        "            upper_approx16,\n",
        "            upper_approx17,\n",
        "            upper_approx18,\n",
        "            upper_approx19,\n",
        "            upper_approx20,\n",
        "            upper_approx21]"
      ],
      "execution_count": 96,
      "outputs": []
    },
    {
      "cell_type": "code",
      "metadata": {
        "id": "wxtGTOYfQxf_"
      },
      "source": [
        "### Summarize arrays: 'exact'\n",
        "\n",
        "lower_exact = [lower_exact1,\n",
        "            lower_exact2,\n",
        "            lower_exact3,\n",
        "            lower_exact4,\n",
        "            lower_exact5,\n",
        "            lower_exact6,\n",
        "            lower_exact7,\n",
        "            lower_exact8,\n",
        "            lower_exact9,\n",
        "            lower_exact10,\n",
        "            lower_exact11,\n",
        "            lower_exact12,\n",
        "            lower_exact13,\n",
        "            lower_exact14,\n",
        "            lower_exact15,\n",
        "            lower_exact16,\n",
        "            lower_exact17,\n",
        "            lower_exact18,\n",
        "            lower_exact19,\n",
        "            lower_exact20,\n",
        "            lower_exact21]\n",
        "\n",
        "median_exact = [median_exact1,\n",
        "            median_exact2,\n",
        "            median_exact3,\n",
        "            median_exact4,\n",
        "            median_exact5,\n",
        "            median_exact6,\n",
        "            median_exact7,\n",
        "            median_exact8,\n",
        "            median_exact9,\n",
        "            median_exact10,\n",
        "            median_exact11,\n",
        "            median_exact12,\n",
        "            median_exact13,\n",
        "            median_exact14,\n",
        "            median_exact15,\n",
        "            median_exact16,\n",
        "            median_exact17,\n",
        "            median_exact18,\n",
        "            median_exact19,\n",
        "            median_exact20,\n",
        "            median_exact21]\n",
        "\n",
        "upper_exact = [upper_exact1,\n",
        "            upper_exact2,\n",
        "            upper_exact3,\n",
        "            upper_exact4,\n",
        "            upper_exact5,\n",
        "            upper_exact6,\n",
        "            upper_exact7,\n",
        "            upper_exact8,\n",
        "            upper_exact9,\n",
        "            upper_exact10,\n",
        "            upper_exact11,\n",
        "            upper_exact12,\n",
        "            upper_exact13,\n",
        "            upper_exact14,\n",
        "            upper_exact15,\n",
        "            upper_exact16,\n",
        "            upper_exact17,\n",
        "            upper_exact18,\n",
        "            upper_exact19,\n",
        "            upper_exact20,\n",
        "            upper_exact21]"
      ],
      "execution_count": 97,
      "outputs": []
    },
    {
      "cell_type": "code",
      "metadata": {
        "id": "2MONq-BXQxgA",
        "colab": {
          "base_uri": "https://localhost:8080/",
          "height": 299
        },
        "outputId": "d87c6ffb-7cc3-4f53-94fb-15203e6943ac"
      },
      "source": [
        "### Visualise!\n",
        "\n",
        "title = func\n",
        "plt.figure()\n",
        "\n",
        "plt.plot(median_approx, color = 'Green')\n",
        "plt.plot(median_exact, color = 'Blue')\n",
        "\n",
        "xstar = np.arange(0, iters+1, step=1)\n",
        "plt.fill_between(xstar, lower_approx, upper_approx, facecolor = 'Green', alpha=0.4, label='GP ERM Optimization: Approx GP ERM gradients')\n",
        "plt.fill_between(xstar, lower_exact, upper_exact, facecolor = 'Blue', alpha=0.4, label='GP ERM Optimization: Exact GP dERM gradients')\n",
        "\n",
        "plt.title(title, weight = 'bold')\n",
        "plt.xlabel('(Post-initialization) iteration $\\it{k}$', weight = 'bold')\n",
        "plt.ylabel('log(Regret)', weight = 'bold') \n",
        "plt.legend(loc=1) # add plot legend\n",
        "\n",
        "### Make the x-ticks integers, not floats:\n",
        "count = len(xstar)\n",
        "plt.xticks(np.arange(count), np.arange(0, count))\n",
        "plt.show() #visualize!"
      ],
      "execution_count": 98,
      "outputs": [
        {
          "output_type": "display_data",
          "data": {
            "image/png": "[encoded data removed]",
            "text/plain": [
              "<Figure size 432x288 with 1 Axes>"
            ]
          },
          "metadata": {
            "needs_background": "light"
          }
        }
      ]
    },
    {
      "cell_type": "code",
      "metadata": {
        "id": "l5dkR2Id2oiu",
        "colab": {
          "base_uri": "https://localhost:8080/"
        },
        "outputId": "15eb2571-bf42-4d5a-a557-4c87a02fbe70"
      },
      "source": [
        "time_approx, time_exact\n"
      ],
      "execution_count": 99,
      "outputs": [
        {
          "output_type": "execute_result",
          "data": {
            "text/plain": [
              "(127.2826201915741, 228.38417434692383)"
            ]
          },
          "metadata": {},
          "execution_count": 99
        }
      ]
    },
    {
      "cell_type": "code",
      "metadata": {
        "id": "77BffxK2Fe61"
      },
      "source": [
        ""
      ],
      "execution_count": 99,
      "outputs": []
    }
  ]
}