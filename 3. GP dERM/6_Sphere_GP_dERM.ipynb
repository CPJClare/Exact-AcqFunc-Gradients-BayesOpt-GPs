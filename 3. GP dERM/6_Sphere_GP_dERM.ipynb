{
  "cells": [
    {
      "cell_type": "markdown",
      "metadata": {
        "id": "Dqn4dFx7Z2Ir"
      },
      "source": [
        "\n",
        "Sphere: 2D\n"
      ]
    },
    {
      "cell_type": "code",
      "execution_count": 1,
      "metadata": {
        "colab": {
          "base_uri": "https://localhost:8080/"
        },
        "id": "MJTM_GZZZb5x",
        "outputId": "fdaabe81-21be-4f8b-b3c2-acffbf0b127c"
      },
      "outputs": [
        {
          "output_type": "stream",
          "name": "stdout",
          "text": [
            "Looking in indexes: https://pypi.org/simple, https://us-python.pkg.dev/colab-wheels/public/simple/\n",
            "Collecting pyGPGO\n",
            "  Downloading pyGPGO-0.5.1.tar.gz (14 kB)\n",
            "Requirement already satisfied: numpy in /usr/local/lib/python3.7/dist-packages (from pyGPGO) (1.21.6)\n",
            "Requirement already satisfied: mkl in /usr/local/lib/python3.7/dist-packages (from pyGPGO) (2019.0)\n",
            "Requirement already satisfied: scipy in /usr/local/lib/python3.7/dist-packages (from pyGPGO) (1.7.3)\n",
            "Requirement already satisfied: joblib in /usr/local/lib/python3.7/dist-packages (from pyGPGO) (1.1.0)\n",
            "Requirement already satisfied: scikit-learn in /usr/local/lib/python3.7/dist-packages (from pyGPGO) (1.0.2)\n",
            "Requirement already satisfied: Theano-PyMC in /usr/local/lib/python3.7/dist-packages (from pyGPGO) (1.1.2)\n",
            "Requirement already satisfied: pyMC3 in /usr/local/lib/python3.7/dist-packages (from pyGPGO) (3.11.5)\n",
            "Requirement already satisfied: intel-openmp in /usr/local/lib/python3.7/dist-packages (from mkl->pyGPGO) (2022.1.0)\n",
            "Requirement already satisfied: patsy>=0.5.1 in /usr/local/lib/python3.7/dist-packages (from pyMC3->pyGPGO) (0.5.2)\n",
            "Requirement already satisfied: typing-extensions>=3.7.4 in /usr/local/lib/python3.7/dist-packages (from pyMC3->pyGPGO) (4.1.1)\n",
            "Requirement already satisfied: pandas>=0.24.0 in /usr/local/lib/python3.7/dist-packages (from pyMC3->pyGPGO) (1.3.5)\n",
            "Requirement already satisfied: cachetools>=4.2.1 in /usr/local/lib/python3.7/dist-packages (from pyMC3->pyGPGO) (4.2.4)\n",
            "Requirement already satisfied: dill in /usr/local/lib/python3.7/dist-packages (from pyMC3->pyGPGO) (0.3.5.1)\n",
            "Requirement already satisfied: arviz>=0.11.0 in /usr/local/lib/python3.7/dist-packages (from pyMC3->pyGPGO) (0.12.1)\n",
            "Requirement already satisfied: deprecat in /usr/local/lib/python3.7/dist-packages (from pyMC3->pyGPGO) (2.1.1)\n",
            "Requirement already satisfied: semver>=2.13.0 in /usr/local/lib/python3.7/dist-packages (from pyMC3->pyGPGO) (2.13.0)\n",
            "Requirement already satisfied: fastprogress>=0.2.0 in /usr/local/lib/python3.7/dist-packages (from pyMC3->pyGPGO) (1.0.3)\n",
            "Requirement already satisfied: filelock in /usr/local/lib/python3.7/dist-packages (from Theano-PyMC->pyGPGO) (3.7.1)\n",
            "Requirement already satisfied: xarray-einstats>=0.2 in /usr/local/lib/python3.7/dist-packages (from arviz>=0.11.0->pyMC3->pyGPGO) (0.2.2)\n",
            "Requirement already satisfied: matplotlib>=3.0 in /usr/local/lib/python3.7/dist-packages (from arviz>=0.11.0->pyMC3->pyGPGO) (3.2.2)\n",
            "Requirement already satisfied: setuptools>=38.4 in /usr/local/lib/python3.7/dist-packages (from arviz>=0.11.0->pyMC3->pyGPGO) (57.4.0)\n",
            "Requirement already satisfied: packaging in /usr/local/lib/python3.7/dist-packages (from arviz>=0.11.0->pyMC3->pyGPGO) (21.3)\n",
            "Requirement already satisfied: xarray>=0.16.1 in /usr/local/lib/python3.7/dist-packages (from arviz>=0.11.0->pyMC3->pyGPGO) (0.20.2)\n",
            "Requirement already satisfied: netcdf4 in /usr/local/lib/python3.7/dist-packages (from arviz>=0.11.0->pyMC3->pyGPGO) (1.6.0)\n",
            "Requirement already satisfied: kiwisolver>=1.0.1 in /usr/local/lib/python3.7/dist-packages (from matplotlib>=3.0->arviz>=0.11.0->pyMC3->pyGPGO) (1.4.4)\n",
            "Requirement already satisfied: python-dateutil>=2.1 in /usr/local/lib/python3.7/dist-packages (from matplotlib>=3.0->arviz>=0.11.0->pyMC3->pyGPGO) (2.8.2)\n",
            "Requirement already satisfied: pyparsing!=2.0.4,!=2.1.2,!=2.1.6,>=2.0.1 in /usr/local/lib/python3.7/dist-packages (from matplotlib>=3.0->arviz>=0.11.0->pyMC3->pyGPGO) (3.0.9)\n",
            "Requirement already satisfied: cycler>=0.10 in /usr/local/lib/python3.7/dist-packages (from matplotlib>=3.0->arviz>=0.11.0->pyMC3->pyGPGO) (0.11.0)\n",
            "Requirement already satisfied: pytz>=2017.3 in /usr/local/lib/python3.7/dist-packages (from pandas>=0.24.0->pyMC3->pyGPGO) (2022.1)\n",
            "Requirement already satisfied: six in /usr/local/lib/python3.7/dist-packages (from patsy>=0.5.1->pyMC3->pyGPGO) (1.15.0)\n",
            "Requirement already satisfied: importlib-metadata in /usr/local/lib/python3.7/dist-packages (from xarray>=0.16.1->arviz>=0.11.0->pyMC3->pyGPGO) (4.12.0)\n",
            "Requirement already satisfied: wrapt<2,>=1.10 in /usr/local/lib/python3.7/dist-packages (from deprecat->pyMC3->pyGPGO) (1.14.1)\n",
            "Requirement already satisfied: zipp>=0.5 in /usr/local/lib/python3.7/dist-packages (from importlib-metadata->xarray>=0.16.1->arviz>=0.11.0->pyMC3->pyGPGO) (3.8.1)\n",
            "Requirement already satisfied: cftime in /usr/local/lib/python3.7/dist-packages (from netcdf4->arviz>=0.11.0->pyMC3->pyGPGO) (1.6.1)\n",
            "Requirement already satisfied: threadpoolctl>=2.0.0 in /usr/local/lib/python3.7/dist-packages (from scikit-learn->pyGPGO) (3.1.0)\n",
            "Building wheels for collected packages: pyGPGO\n",
            "  Building wheel for pyGPGO (setup.py) ... \u001b[?25l\u001b[?25hdone\n",
            "  Created wheel for pyGPGO: filename=pyGPGO-0.5.1-py3-none-any.whl size=19879 sha256=53392a242acc87d6f5e13209afe2d78dcce767f8117c5a1ae9eeecfdecd62cee\n",
            "  Stored in directory: /root/.cache/pip/wheels/c8/5d/0b/2160114e2f1b87791c51b66cf07f89831dbb6f49167950316f\n",
            "Successfully built pyGPGO\n",
            "Installing collected packages: pyGPGO\n",
            "Successfully installed pyGPGO-0.5.1\n"
          ]
        }
      ],
      "source": [
        "pip install pyGPGO\n"
      ]
    },
    {
      "cell_type": "code",
      "execution_count": 2,
      "metadata": {
        "id": "ZJSSPbwPaEUB"
      },
      "outputs": [],
      "source": [
        "### Import:\n",
        "\n",
        "import numpy as np\n",
        "import scipy as sp\n",
        "import pandas as pd\n",
        "import matplotlib.pyplot as plt\n",
        "import warnings\n",
        "import itertools\n",
        "\n",
        "from pyGPGO.GPGO import GPGO\n",
        "from pyGPGO.surrogates.GaussianProcess import GaussianProcess\n",
        "from pyGPGO.acquisition import Acquisition\n",
        "from pyGPGO.covfunc import squaredExponential\n",
        "\n",
        "from joblib import Parallel, delayed\n",
        "from numpy.linalg import solve, cholesky\n",
        "from scipy.spatial.distance import cdist\n",
        "from scipy.optimize import minimize\n",
        "from scipy.stats import norm\n",
        "import time\n",
        "\n",
        "warnings.filterwarnings(\"ignore\", category=RuntimeWarning)\n"
      ]
    },
    {
      "cell_type": "code",
      "execution_count": 3,
      "metadata": {
        "id": "OeYcTUNoaJWa"
      },
      "outputs": [],
      "source": [
        "### Inputs:\n",
        "\n",
        "func = 'Sphere'\n",
        "n_test = 500\n",
        "eps = 1e-08\n",
        "\n",
        "util = 'ERM'\n",
        "\n",
        "n_init = 5 # random initialisations\n",
        "iters = 20\n",
        "opt = True"
      ]
    },
    {
      "cell_type": "code",
      "execution_count": 4,
      "metadata": {
        "id": "xpaEOjdzaPMS"
      },
      "outputs": [],
      "source": [
        "### Objective Function - Sphere(x) 2-D:\n",
        "\n",
        "def objfunc(x1_training, x2_training):\n",
        "            return  operator * ( x1_training ** 2\n",
        "                            + x2_training ** 2\n",
        "                            )\n",
        "        \n",
        "# Constraints:\n",
        "lb = -5.12\n",
        "ub = +5.12\n",
        "    \n",
        "# Input array dimension(s):\n",
        "dim = 2\n",
        "\n",
        "# 2-D inputs' parameter bounds:\n",
        "param = {'x1_training': ('cont', [lb, ub]),\n",
        "                 'x2_training': ('cont', [lb, ub])\n",
        "                 }\n",
        "    \n",
        "# True y bounds:\n",
        "y_lb = 0\n",
        "operator = -1 # targets global minimum \n",
        "y_global_orig = y_lb * operator # targets global minimum\n",
        "    \n",
        "# Test data:\n",
        "x1_test = np.linspace(lb, ub, n_test)\n",
        "x2_test = np.linspace(lb, ub, n_test)\n",
        "x_test = np.column_stack((x1_test, x2_test))\n"
      ]
    },
    {
      "cell_type": "code",
      "execution_count": 5,
      "metadata": {
        "id": "eYpI3Zm4aGxi"
      },
      "outputs": [],
      "source": [
        "n_start_AcqFunc = iters\n",
        "inverse = -1\n"
      ]
    },
    {
      "cell_type": "code",
      "execution_count": 6,
      "metadata": {
        "id": "oO_GUmOoaV0T"
      },
      "outputs": [],
      "source": [
        "### Cumulative Regret Calculators:\n",
        "\n",
        "def min_max_array(x):\n",
        "    new_list = []\n",
        "    for i, num in enumerate(x):\n",
        "            new_list.append(np.min(x[0:i+1]))\n",
        "    return new_list\n",
        "  \n",
        "def acqFuncExact(x):\n",
        "    new_array = []\n",
        "    x = np.array(x) \n",
        "    for i, num in enumerate(x):\n",
        "            new_array = x[:-2][::-3]\n",
        "    return new_array[::-1]\n",
        "\n",
        "def acqFuncApprox(x):\n",
        "    new_array = []\n",
        "    x = np.array(x) \n",
        "    for i, num in enumerate(x):\n",
        "            new_array = x[:-1][::-3]\n",
        "    return new_array[::-1]\n"
      ]
    },
    {
      "cell_type": "code",
      "execution_count": 7,
      "metadata": {
        "id": "kuuJx0IMam9S"
      },
      "outputs": [],
      "source": [
        "### Surrogate derivatives: \n",
        "\n",
        "cov_func = squaredExponential()\n",
        "\n",
        "def kronDelta(X, Xstar):                     # Kronecker's Delta method\n",
        "    return cdist(X, Xstar) < np.finfo(np.float32).eps\n",
        "\n",
        "def se(X, Xstar, sigmaf, l, sigman):         # S.E. kernel method\n",
        "    return sigmaf * np.exp(-0.5 * cdist(X, Xstar) ** 2 / l ** 2) + sigman * kronDelta(X, Xstar)\n",
        "\n",
        "def delta(X, Xstar):                         # Distance between training X and test Xstar vectors\n",
        "    return (X - Xstar)\n",
        "   \n",
        "def der_covmat(X, Xstar, sigmaf, l, sigman): # Covariance matrix derivative terms (i.e. exact, first-order)\n",
        "    nx = len(X)\n",
        "    ny = len(Xstar)\n",
        "    return np.round(np.array([(delta(np.atleast_2d(i), np.atleast_2d(j))[0] * se(np.atleast_2d(i), np.atleast_2d(j), sigmaf, l, sigman)[0]).sum() for (i, j) in itertools.product(X, Xstar)]).reshape(nx, ny), 8)\n",
        "\n",
        "class dGaussianProcess(GaussianProcess):    # Via inheritance, also optimises hyperparameters when opt = TRUE\n",
        "    \n",
        "    def AcqGrad(self, Xstar):               # Method returning exact, first-order derivatives of the GP's posterior mean and standard deviation\n",
        "        Xstar = np.atleast_2d(Xstar)\n",
        "        Kstar = self.covfunc.K(self.X, Xstar).T\n",
        "        \n",
        "        dKstar = der_covmat(self.X, Xstar, self.covfunc.sigmaf, self.covfunc.l, self.covfunc.sigman).T\n",
        "        alpha_Kstar = np.dot(np.linalg.inv(self.K + (self.covfunc.sigman**2) * np.eye(len(self.X))), Kstar.T)\n",
        "        \n",
        "        dm = np.dot(dKstar, self.alpha)\n",
        "        ds = -2 * np.dot(dKstar, alpha_Kstar)\n",
        "        \n",
        "        return dm, ds           \n"
      ]
    },
    {
      "cell_type": "code",
      "execution_count": 8,
      "metadata": {
        "id": "_Dc3YVHVaXz7"
      },
      "outputs": [],
      "source": [
        "### Add exact acquisition function gradient as attribute:\n",
        "\n",
        "class Acquisition_grad(Acquisition):    \n",
        "    def __init__(self, mode, eps=eps, **params):\n",
        "        \n",
        "        self.params = params\n",
        "        self.eps = eps\n",
        "\n",
        "        mode_dict = {\n",
        "            'ERM': self.ERM\n",
        "        }\n",
        "\n",
        "        self.f = mode_dict[mode]\n",
        "    \n",
        "    def ERM(self, y_global_orig, mean, std, ds, dm):\n",
        "        gamma = (mean - y_global_orig - self.eps) / (std + self.eps)\n",
        "        gamma_h = (mean - y_global_orig) / (std + self.eps)\n",
        "        dsdx = ds / (2 * (std + self.eps))\n",
        "        dmdx = (dm - gamma * dsdx) / (std + self.eps)\n",
        "        \n",
        "        f = (std + self.eps) * (gamma * norm.cdf(gamma) + norm.pdf(gamma))\n",
        "        df1 = f / (std + self.eps) * dsdx \n",
        "        df2 = (std + self.eps) * norm.cdf(gamma) * dmdx\n",
        "        df = (df1 + df2)[0]\n",
        "        df_arr = []\n",
        "\n",
        "        for j in range(0, dim):\n",
        "          df_arr.append(df)\n",
        "        return f, np.asarray(df_arr).transpose()\n",
        "        \n",
        "    def d_eval(self, y_global_orig, mean, std, ds, dm):\n",
        "    \n",
        "        return self.f(y_global_orig, mean, std, ds, dm, **self.params)\n",
        "        "
      ]
    },
    {
      "cell_type": "code",
      "execution_count": 9,
      "metadata": {
        "id": "PITEQC8YSl7i"
      },
      "outputs": [],
      "source": [
        "## GPGO_multi: \n",
        "\n",
        "class GPGO_multi(GPGO):\n",
        "    n_start = n_start_AcqFunc\n",
        "\n",
        "    def __init__(self, surrogate, acquisition, f, parameter_dict, n_jobs=1):\n",
        "        self.GP = surrogate\n",
        "        self.A = acquisition\n",
        "        self.f = f\n",
        "        self.parameters = parameter_dict\n",
        "        self.n_jobs = n_jobs\n",
        "\n",
        "        self.parameter_key = list(parameter_dict.keys())\n",
        "        self.parameter_value = list(parameter_dict.values())\n",
        "        self.parameter_type = [p[0] for p in self.parameter_value]\n",
        "        self.parameter_range = [p[1] for p in self.parameter_value]\n",
        "\n",
        "        self.history = []\n",
        "        self.header =   'Evaluation \\t Proposed point \\t  Current eval. \\t  Best eval. \\t        Exact EI: StdDev. x \\t Approx EI: StdDev. x '\n",
        "        self.template = '{:3}\\t {}\\t {:3}\\t {:3}\\t {:3}\\t {:3}'\n",
        " \n",
        "    def acqfuncExact(self, xnew, n_start=n_start_AcqFunc):\n",
        "        new_mean, new_var = self.GP.predict(xnew, return_std=True)\n",
        "        new_std = np.sqrt(new_var + eps)\n",
        "        dm, ds = self.GP.AcqGrad(xnew)\n",
        "        f, df = self.A.d_eval(y_global_orig, new_mean, new_std, ds=ds, dm=dm)\n",
        "\n",
        "        return -f, -df\n",
        "   \n",
        "    def acqfuncApprox(self, xnew, n_start=n_start_AcqFunc):\n",
        "        new_mean, new_var = self.GP.predict(xnew, return_std=True)\n",
        "        new_std = np.sqrt(new_var + eps)\n",
        "        dm, ds = self.GP.AcqGrad(xnew)\n",
        "        f, df = self.A.d_eval(y_global_orig, new_mean, new_std, ds=ds, dm=dm)\n",
        "\n",
        "        return -f\n",
        "   \n",
        "    def _optimizeAcq(self, method='L-BFGS-B', n_start=n_start_AcqFunc):\n",
        "        \n",
        "        start_points_dict = [self._sampleParam() for i in range(n_start)]\n",
        "        start_points_arr = np.array([list(s.values())\n",
        "                                     for s in start_points_dict])\n",
        "        x_best = np.empty((n_start, len(self.parameter_key)))\n",
        "        f_best = np.empty((n_start,))\n",
        "        opt = Parallel(n_jobs=self.n_jobs)(delayed(minimize)(self.acqfuncApprox,\n",
        "                                                                 x0=start_point,\n",
        "                                                                 method=method,\n",
        "                                                                 jac = False,\n",
        "                                                                 bounds=self.parameter_range) for start_point in\n",
        "                                               start_points_arr)\n",
        "        x_best = np.array([res.x for res in opt])\n",
        "        f_best = np.array([np.atleast_1d(res.fun)[0] for res in opt])\n",
        "        f_best_min = min(f_best)\n",
        "\n",
        "        self.x_best = x_best\n",
        "        self.f_best = f_best\n",
        "        self.f_best_min = f_best_min\n",
        "        self.x_best_std = np.std(x_best)\n",
        "        self.best = x_best[np.argmin(f_best)]\n",
        "        self.start_points_arr = start_points_arr        \n",
        "        self.history.append(self.x_best_std)\n",
        "\n",
        "        x_best_exact = np.empty((n_start, len(self.parameter_key)))\n",
        "        f_best_exact = np.empty((n_start,))\n",
        "        opt_exact = Parallel(n_jobs=self.n_jobs)(delayed(minimize)(self.acqfuncExact,\n",
        "                                                                 x0=start_point,\n",
        "                                                                 method=method,\n",
        "                                                                 jac = True,\n",
        "                                                                 bounds=self.parameter_range) for start_point in\n",
        "                                               start_points_arr)\n",
        "        x_best_exact = np.array([res.x for res in opt_exact])\n",
        "        f_best_exact = np.array([np.atleast_1d(res.fun)[0] for res in opt_exact])\n",
        "        f_best_min_exact = min(f_best_exact)\n",
        "\n",
        "        self.x_best_exact = x_best_exact\n",
        "        self.f_best_exact = f_best_exact\n",
        "        self.f_best_min_exact = f_best_min_exact\n",
        "        self.x_best_std_exact = np.std(x_best_exact)\n",
        "        self.best_exact = x_best_exact[np.argmin(f_best_exact)]\n",
        "        self.start_points_arr = start_points_arr\n",
        "        self.history.append(self.x_best_std_exact)\n",
        "\n",
        "    def _printInit(self):\n",
        "        print(self.header)\n",
        "        for init_eval in range(self.init_evals):\n",
        "            print(self.template.format('init', self.GP.X[init_eval], inverse * self.GP.y[init_eval], inverse * self.tau, '', ''))\n",
        "      \n",
        "    def _printCurrent(self):\n",
        "        OKGREEN = '\\033[92m'\n",
        "        ENDC = '\\033[0m'\n",
        "        BOLD = '\\033[1m'\n",
        "        eval = str(len(self.GP.y) - self.init_evals)\n",
        "        proposed = str(self.best)\n",
        "        curr_eval = str(inverse * self.GP.y[-1])\n",
        "        curr_best = str(inverse * self.tau)\n",
        "        min_acqfunc = str(self.f_best_min)\n",
        "        min_acqfunc_exact = str(self.f_best_min_exact)\n",
        "        x_best_std = str(self.x_best_std)\n",
        "        x_best_std_exact = str(self.x_best_std_exact)\n",
        "        if float(curr_eval) <= float(curr_best):\n",
        "            eval = BOLD + OKGREEN + eval + ENDC\n",
        "            proposed = BOLD + OKGREEN + proposed + ENDC\n",
        "            curr_eval = BOLD + OKGREEN + curr_eval + ENDC\n",
        "            curr_best = BOLD + OKGREEN + curr_best + ENDC\n",
        "            x_best_std = BOLD + OKGREEN + x_best_std + ENDC\n",
        "            x_best_std_exact = BOLD + OKGREEN + x_best_std_exact + ENDC\n",
        "        print(self.template.format(eval, proposed, curr_eval, curr_best, x_best_std_exact, x_best_std))\n",
        "        \n",
        "    def run(self, max_iter=10, init_evals=3, resume=False):\n",
        "        \n",
        "        if not resume:\n",
        "            self.init_evals = init_evals\n",
        "            self._firstRun(self.init_evals)\n",
        "            self._printInit()\n",
        "        for iteration in range(max_iter):\n",
        "            self._optimizeAcq()\n",
        "            self.updateGP()\n",
        "            self._printCurrent()\n"
      ]
    },
    {
      "cell_type": "code",
      "execution_count": 10,
      "metadata": {
        "id": "b_B-w81BJxKN"
      },
      "outputs": [],
      "source": [
        "## dGPGO:\n",
        "\n",
        "class dGPGO(GPGO):\n",
        "    n_start = n_start_AcqFunc\n",
        "\n",
        "    def __init__(self, surrogate, acquisition, f, parameter_dict, n_jobs=1):\n",
        "        self.GP = surrogate\n",
        "        self.A = acquisition\n",
        "        self.f = f\n",
        "        self.parameters = parameter_dict\n",
        "        self.n_jobs = n_jobs\n",
        "\n",
        "        self.parameter_key = list(parameter_dict.keys())\n",
        "        self.parameter_value = list(parameter_dict.values())\n",
        "        self.parameter_type = [p[0] for p in self.parameter_value]\n",
        "        self.parameter_range = [p[1] for p in self.parameter_value]\n",
        "\n",
        "        self.history = []\n",
        "        self.header =   'Evaluation \\t Proposed point \\t  Current eval. \\t  Best eval. \\t        Exact EI: StdDev. x \\t Approx EI: StdDev. x '\n",
        "        self.template = '{:3}\\t {}\\t {:3}\\t {:3}\\t {:3}\\t {:3}'\n",
        "\n",
        "    def acqfuncExact(self, xnew, n_start=n_start_AcqFunc):\n",
        "        new_mean, new_var = self.GP.predict(xnew, return_std=True)\n",
        "        new_std = np.sqrt(new_var + eps)\n",
        "        dm, ds = self.GP.AcqGrad(xnew)\n",
        "        f, df = self.A.d_eval(y_global_orig, new_mean, new_std, ds=ds, dm=dm)\n",
        "\n",
        "        return -f, -df\n",
        "   \n",
        "    def acqfuncApprox(self, xnew, n_start=n_start_AcqFunc):\n",
        "        new_mean, new_var = self.GP.predict(xnew, return_std=True)\n",
        "        new_std = np.sqrt(new_var + eps)\n",
        "        dm, ds = self.GP.AcqGrad(xnew)\n",
        "        f, df = self.A.d_eval(y_global_orig, new_mean, new_std, ds=ds, dm=dm)\n",
        "\n",
        "        return -f\n",
        "\n",
        "    def d_optimizeAcq(self, method='L-BFGS-B', n_start=n_start_AcqFunc):\n",
        "        start_points_dict = [self._sampleParam() for i in range(n_start)]\n",
        "        start_points_arr = np.array([list(s.values())\n",
        "                                     for s in start_points_dict])\n",
        "        x_best = np.empty((n_start, len(self.parameter_key)))\n",
        "        f_best = np.empty((n_start,))\n",
        "        opt = Parallel(n_jobs=self.n_jobs)(delayed(minimize)(self.acqfuncExact,\n",
        "                                                                 x0=start_point,\n",
        "                                                                 method=method,\n",
        "                                                                 jac = True,\n",
        "                                                                 bounds=self.parameter_range) for start_point in\n",
        "                                               start_points_arr)\n",
        "        x_best = np.array([res.x for res in opt])\n",
        "        f_best = np.array([np.atleast_1d(res.fun)[0] for res in opt])\n",
        "        f_best_min = min(f_best)\n",
        "\n",
        "        self.x_best = x_best\n",
        "        self.f_best = f_best\n",
        "        self.f_best_min = f_best_min\n",
        "        self.x_best_std = np.std(x_best)\n",
        "        self.best = x_best[np.argmin(f_best)]\n",
        "        self.start_points_arr = start_points_arr\n",
        "        self.history.append(self.x_best_std)\n",
        "\n",
        "        x_best_approx = np.empty((n_start, len(self.parameter_key)))\n",
        "        f_best_approx = np.empty((n_start,))\n",
        "        opt_approx = Parallel(n_jobs=self.n_jobs)(delayed(minimize)(self.acqfuncApprox,\n",
        "                                                                 x0=start_point,\n",
        "                                                                 method=method,\n",
        "                                                                 jac = False,\n",
        "                                                                 bounds=self.parameter_range) for start_point in\n",
        "                                               start_points_arr)\n",
        "        x_best_approx = np.array([res.x for res in opt_approx])\n",
        "        f_best_approx = np.array([np.atleast_1d(res.fun)[0] for res in opt_approx])\n",
        "        f_best_min_approx = min(f_best_approx)\n",
        "\n",
        "        self.x_best_approx = x_best_approx\n",
        "        self.f_best_approx = f_best_approx\n",
        "        self.f_best_min_approx = f_best_min_approx\n",
        "        self.x_best_std_approx = np.std(x_best_approx)\n",
        "        self.best_approx = x_best_approx[np.argmin(f_best_approx)]\n",
        "        self.start_points_arr = start_points_arr\n",
        "        self.history.append(self.x_best_std_approx)\n",
        "    \n",
        "    def _printInit(self):\n",
        "        print(self.header)\n",
        "        for init_eval in range(self.init_evals):\n",
        "            print(self.template.format('init', self.GP.X[init_eval], inverse * self.GP.y[init_eval], inverse * self.tau, '', ''))\n",
        "      \n",
        "    def _printCurrent(self):\n",
        "        OKGREEN = '\\033[92m'\n",
        "        ENDC = '\\033[0m'\n",
        "        BOLD = '\\033[1m'\n",
        "        eval = str(len(self.GP.y) - self.init_evals)\n",
        "        proposed = str(self.best)\n",
        "        curr_eval = str(inverse * self.GP.y[-1])\n",
        "        curr_best = str(inverse * self.tau)\n",
        "        min_acqfunc = str(self.f_best_min)\n",
        "        min_acqfunc_approx = str(self.f_best_min_approx)\n",
        "        x_best_std = str(self.x_best_std)\n",
        "        x_best_std_approx = str(self.x_best_std_approx)\n",
        "        if float(curr_eval) <= float(curr_best):\n",
        "            eval = BOLD + OKGREEN + eval + ENDC\n",
        "            proposed = BOLD + OKGREEN + proposed + ENDC\n",
        "            curr_eval = BOLD + OKGREEN + curr_eval + ENDC\n",
        "            curr_best = BOLD + OKGREEN + curr_best + ENDC\n",
        "            x_best_std = BOLD + OKGREEN + x_best_std + ENDC\n",
        "            x_best_std_approx = BOLD + OKGREEN + x_best_std_approx + ENDC\n",
        "        print(self.template.format(eval, proposed, curr_eval, curr_best, x_best_std, x_best_std_approx))\n",
        "\n",
        "    def run(self, max_iter=10, init_evals=3, resume=False):\n",
        "        \n",
        "        if not resume:\n",
        "            self.init_evals = init_evals\n",
        "            self._firstRun(self.init_evals)\n",
        "            self._printInit()\n",
        "        for iteration in range(max_iter):\n",
        "            self.d_optimizeAcq()\n",
        "            self.updateGP()\n",
        "            self._printCurrent()\n"
      ]
    },
    {
      "cell_type": "code",
      "execution_count": 11,
      "metadata": {
        "id": "qXIKGuXVGEg2"
      },
      "outputs": [],
      "source": [
        "###Reproducible set-seeds:\n",
        "\n",
        "run_num_1 = 1\n",
        "run_num_2 = 2\n",
        "run_num_3 = 3\n",
        "run_num_4 = 4\n",
        "run_num_5 = 5\n",
        "run_num_6 = 6\n",
        "run_num_7 = 7\n",
        "run_num_8 = 8\n",
        "run_num_9 = 9\n",
        "run_num_10 = 10\n",
        "run_num_11 = 11\n",
        "run_num_12 = 12\n",
        "run_num_13 = 13\n",
        "run_num_14 = 14\n",
        "run_num_15 = 15\n",
        "run_num_16 = 16\n",
        "run_num_17 = 17\n",
        "run_num_18 = 18\n",
        "run_num_19 = 19\n",
        "run_num_20 = 20\n"
      ]
    },
    {
      "cell_type": "code",
      "execution_count": 12,
      "metadata": {
        "colab": {
          "base_uri": "https://localhost:8080/"
        },
        "id": "JEhagQmnTVIK",
        "outputId": "3e19085d-d90f-4ab7-9f65-a8558f361435"
      },
      "outputs": [
        {
          "output_type": "execute_result",
          "data": {
            "text/plain": [
              "1659620315.9027278"
            ]
          },
          "metadata": {},
          "execution_count": 12
        }
      ],
      "source": [
        "start_approx = time.time()\n",
        "start_approx\n"
      ]
    },
    {
      "cell_type": "code",
      "execution_count": 13,
      "metadata": {
        "colab": {
          "base_uri": "https://localhost:8080/"
        },
        "id": "aH0YSTXufD1v",
        "outputId": "94b9f1fa-df1c-4d35-c8ec-7e4527e6be52"
      },
      "outputs": [
        {
          "output_type": "stream",
          "name": "stdout",
          "text": [
            "Evaluation \t Proposed point \t  Current eval. \t  Best eval. \t        Exact EI: StdDev. x \t Approx EI: StdDev. x \n",
            "init\t [-0.84969467  2.25612281]\t 5.812071182014687\t 1.275455677703416\t    \t    \n",
            "init\t [-5.1188288  -2.02411446]\t 30.299447634857913\t 1.275455677703416\t    \t    \n",
            "init\t [-3.61721968 -4.17445279]\t 30.510334291475417\t 1.275455677703416\t    \t    \n",
            "init\t [-3.21269544 -1.58145816]\t 12.822421857501787\t 1.275455677703416\t    \t    \n",
            "init\t [-1.05710106  0.39748336]\t 1.275455677703416\t 1.275455677703416\t    \t    \n",
            "1  \t [ 4.06634807 -4.83935541]\t 39.954547453636486\t 1.275455677703416\t 3.53437872101177\t 4.143326988760059\n",
            "2  \t [5.12       4.36601704]\t 45.276504812089044\t 1.275455677703416\t 3.3568462859465584\t 3.6722590151449417\n",
            "3  \t [-5.12  5.12]\t 52.4288\t 1.275455677703416\t 3.241858970139179\t 3.474168327181999\n",
            "4  \t [ 3.13505906 -0.10250276]\t 9.839102151045365\t 1.275455677703416\t 3.1368067655372\t 3.3897397652465955\n",
            "5  \t [ 0.39359091 -2.98330829]\t 9.055042152520045\t 1.275455677703416\t 2.678678081881958\t 3.342293074031948\n",
            "6  \t [1.01851822 5.12      ]\t 27.251779372423712\t 1.275455677703416\t 2.5578460170272104\t 3.2349342466289386\n",
            "7  \t [-5.12        1.48760095]\t 28.427356572710273\t 1.275455677703416\t 3.0428249946168706\t 3.344324083009321\n",
            "8  \t [ 5.12       -1.74285479]\t 29.25194283460534\t 1.275455677703416\t 3.117635900108572\t 3.2583672427231396\n",
            "9  \t [2.05941833 2.23295061]\t 9.22727229248872\t 1.275455677703416\t 2.754511755238665\t 2.781738153105517\n",
            "10 \t [-0.57245355 -5.12      ]\t 26.542103064558237\t 1.275455677703416\t 3.039493473252223\t 3.070824809604151\n",
            "11 \t [-1.9410535  5.12     ]\t 29.98208869906764\t 1.275455677703416\t 2.4850071235524065\t 2.8759116433168073\n",
            "\u001b[1m\u001b[92m12\u001b[0m\t \u001b[1m\u001b[92m[ 0.27079663 -0.3532143 ]\u001b[0m\t \u001b[1m\u001b[92m0.19809116062960283\u001b[0m\t \u001b[1m\u001b[92m0.19809116062960283\u001b[0m\t \u001b[1m\u001b[92m3.161096843729699\u001b[0m\t \u001b[1m\u001b[92m2.5525365369210067\u001b[0m\n",
            "\u001b[1m\u001b[92m13\u001b[0m\t \u001b[1m\u001b[92m[ 0.20839033 -0.35444925]\u001b[0m\t \u001b[1m\u001b[92m0.1690608038794487\u001b[0m\t \u001b[1m\u001b[92m0.1690608038794487\u001b[0m\t \u001b[1m\u001b[92m2.2518094418476653\u001b[0m\t \u001b[1m\u001b[92m2.3197819936564987\u001b[0m\n",
            "14 \t [-0.39166991 -0.59694349]\t 0.5097468502635158\t 0.1690608038794487\t 2.75125477853457\t 2.5946976920261187\n",
            "15 \t [5.12       1.33518027]\t 27.997106348329993\t 0.1690608038794487\t 2.4775771868520478\t 2.4468961703600742\n",
            "16 \t [ 0.49968821 -0.22900017]\t 0.3021293782569065\t 0.1690608038794487\t 2.718523950086172\t 2.7363971524704134\n",
            "17 \t [ 0.41354066 -0.25906453]\t 0.23813030860496803\t 0.1690608038794487\t 2.7891656956153716\t 2.385680086377321\n",
            "18 \t [ 0.36911818 -0.27359615]\t 0.21110308682023718\t 0.1690608038794487\t 2.890335289510993\t 2.606677052334455\n",
            "19 \t [ 0.34430642 -0.28210131]\t 0.19812806319941045\t 0.1690608038794487\t 3.140014834033252\t 2.995738377896033\n",
            "20 \t [ 0.3294573  -0.28746378]\t 0.19117753745142008\t 0.1690608038794487\t 2.8040632670896537\t 2.3272545878358666\n"
          ]
        }
      ],
      "source": [
        "### ESTIMATED GP EI GRADIENTS\n",
        "\n",
        "np.random.seed(run_num_1)\n",
        "surrogate_approx_1 = dGaussianProcess(cov_func, optimize=opt)\n",
        "\n",
        "approx_1 = GPGO_multi(surrogate_approx_1, Acquisition_grad(util), objfunc, param)\n",
        "approx_1.run(init_evals=n_init, max_iter=iters)\n"
      ]
    },
    {
      "cell_type": "code",
      "execution_count": 14,
      "metadata": {
        "id": "wTxsSZxFGBB5",
        "colab": {
          "base_uri": "https://localhost:8080/"
        },
        "outputId": "3e1fbdbb-7d96-4d8a-8cff-16a065bc4a70"
      },
      "outputs": [
        {
          "output_type": "stream",
          "name": "stdout",
          "text": [
            "Evaluation \t Proposed point \t  Current eval. \t  Best eval. \t        Exact EI: StdDev. x \t Approx EI: StdDev. x \n",
            "init\t [-0.6554122  -4.85451539]\t 23.995884788327533\t 0.6972563370202991\t    \t    \n",
            "init\t [ 0.50854377 -0.6622987 ]\t 0.6972563370202991\t 0.6972563370202991\t    \t    \n",
            "init\t [-0.81543371 -1.73737143]\t 3.683391625826377\t 0.6972563370202991\t    \t    \n",
            "init\t [-3.02439799  1.2213347 ]\t 10.638641624769724\t 0.6972563370202991\t    \t    \n",
            "init\t [-2.05153614 -2.3876887 ]\t 9.90985788235879\t 0.6972563370202991\t    \t    \n",
            "1  \t [4.81874241 3.07464552]\t 32.673723450709105\t 0.6972563370202991\t 3.7196174943107576\t 3.818091952834305\n",
            "2  \t [ 4.84260546 -3.96517156]\t 39.173413151255836\t 0.6972563370202991\t 2.798703843810863\t 3.8878653213842806\n",
            "3  \t [-9.87492382e-04  5.12000000e+00]\t 26.214400975141206\t 0.6972563370202991\t 3.6921202610683306\t 3.9130965146368912\n",
            "4  \t [-5.12  5.12]\t 52.4288\t 0.6972563370202991\t 3.1634962534089817\t 3.3447516226975793\n",
            "5  \t [-5.12 -5.12]\t 52.4288\t 0.6972563370202991\t 3.7259747644176233\t 3.3824700797665543\n",
            "6  \t [ 3.02232661 -0.40633674]\t 9.299567701638155\t 0.6972563370202991\t 3.0768687985207364\t 3.041113129698256\n",
            "7  \t [-5.12       -1.21271232]\t 27.685071167048793\t 0.6972563370202991\t 3.1089526175764\t 3.1107769373154044\n",
            "8  \t [0.41155902 1.58212764]\t 2.672508685360976\t 0.6972563370202991\t 2.3880444815621265\t 2.390755607084161\n",
            "9  \t [ 1.63640402 -2.80025905]\t 10.519268847809705\t 0.6972563370202991\t 2.7843751372243633\t 3.011115495200555\n",
            "10 \t [ 5.12       -0.42822766]\t 26.3977789300821\t 0.6972563370202991\t 2.97511537555668\t 3.328034573659258\n",
            "11 \t [2.87954186 5.12      ]\t 34.50616133995023\t 0.6972563370202991\t 3.169955438283609\t 3.0079716290719003\n",
            "\u001b[1m\u001b[92m12\u001b[0m\t \u001b[1m\u001b[92m[-0.42626057  0.04524589]\u001b[0m\t \u001b[1m\u001b[92m0.1837452600613238\u001b[0m\t \u001b[1m\u001b[92m0.1837452600613238\u001b[0m\t \u001b[1m\u001b[92m2.401860143573267\u001b[0m\t \u001b[1m\u001b[92m2.5053229968497317\u001b[0m\n",
            "13 \t [-2.31627952  3.55244844]\t 17.985040732462245\t 0.1837452600613238\t 2.8808870688122656\t 2.663802573285981\n",
            "\u001b[1m\u001b[92m14\u001b[0m\t \u001b[1m\u001b[92m[-0.30042965 -0.00504446]\u001b[0m\t \u001b[1m\u001b[92m0.09028342064746711\u001b[0m\t \u001b[1m\u001b[92m0.09028342064746711\u001b[0m\t \u001b[1m\u001b[92m2.982880418536423\u001b[0m\t \u001b[1m\u001b[92m2.8799585887185404\u001b[0m\n",
            "\u001b[1m\u001b[92m15\u001b[0m\t \u001b[1m\u001b[92m[-0.25885713 -0.02113913]\u001b[0m\t \u001b[1m\u001b[92m0.06745387744572318\u001b[0m\t \u001b[1m\u001b[92m0.06745387744572318\u001b[0m\t \u001b[1m\u001b[92m2.574722543003841\u001b[0m\t \u001b[1m\u001b[92m2.6155646828983095\u001b[0m\n",
            "\u001b[1m\u001b[92m16\u001b[0m\t \u001b[1m\u001b[92m[-0.24831492 -0.02599513]\u001b[0m\t \u001b[1m\u001b[92m0.06233604574752753\u001b[0m\t \u001b[1m\u001b[92m0.06233604574752753\u001b[0m\t \u001b[1m\u001b[92m2.6291044944811426\u001b[0m\t \u001b[1m\u001b[92m2.624576024621514\u001b[0m\n",
            "\u001b[1m\u001b[92m17\u001b[0m\t \u001b[1m\u001b[92m[-0.24579294 -0.02775475]\u001b[0m\t \u001b[1m\u001b[92m0.061184495197832665\u001b[0m\t \u001b[1m\u001b[92m0.061184495197832665\u001b[0m\t \u001b[1m\u001b[92m2.86371978663827\u001b[0m\t \u001b[1m\u001b[92m2.7774470777713716\u001b[0m\n",
            "\u001b[1m\u001b[92m18\u001b[0m\t \u001b[1m\u001b[92m[-0.24545183 -0.02851995]\u001b[0m\t \u001b[1m\u001b[92m0.061059985975126095\u001b[0m\t \u001b[1m\u001b[92m0.061059985975126095\u001b[0m\t \u001b[1m\u001b[92m2.8032615550786937\u001b[0m\t \u001b[1m\u001b[92m2.7767080225476364\u001b[0m\n",
            "19 \t [-0.24549476 -0.02898047]\t 0.061107542470268714\t 0.061059985975126095\t 2.855941480810614\t 2.8857823726447505\n",
            "20 \t [-0.24557536 -0.02930392]\t 0.06116597492561404\t 0.061059985975126095\t 2.8400489076033386\t 2.9560981821667522\n"
          ]
        }
      ],
      "source": [
        "### ESTIMATED GP EI GRADIENTS\n",
        "\n",
        "np.random.seed(run_num_2)\n",
        "surrogate_approx_2 = dGaussianProcess(cov_func, optimize=opt)\n",
        "\n",
        "approx_2 = GPGO_multi(surrogate_approx_2, Acquisition_grad(util), objfunc, param)\n",
        "approx_2.run(init_evals=n_init, max_iter=iters)\n"
      ]
    },
    {
      "cell_type": "code",
      "execution_count": 15,
      "metadata": {
        "id": "-dgzIrUIGCGT",
        "colab": {
          "base_uri": "https://localhost:8080/"
        },
        "outputId": "0fdd82ac-650e-425e-bc3e-473914597f49"
      },
      "outputs": [
        {
          "output_type": "stream",
          "name": "stdout",
          "text": [
            "Evaluation \t Proposed point \t  Current eval. \t  Best eval. \t        Exact EI: StdDev. x \t Approx EI: StdDev. x \n",
            "init\t [0.52017052 2.1314337 ]\t 4.813587005218131\t 4.59675431006429\t    \t    \n",
            "init\t [-2.14113547  0.11087468]\t 4.59675431006429\t 4.59675431006429\t    \t    \n",
            "init\t [4.02377681 4.05804123]\t 32.65847846685941\t 4.59675431006429\t    \t    \n",
            "init\t [-3.83400642 -2.99783293]\t 23.686607498512902\t 4.59675431006429\t    \t    \n",
            "init\t [-4.59297584 -0.6061072 ]\t 21.462792989409664\t 4.59675431006429\t    \t    \n",
            "1  \t [ 1.82812718 -3.59088954]\t 16.236536649853953\t 4.59675431006429\t 2.0399276094355456\t 3.352068685547001\n",
            "2  \t [-4.53043495  4.96162351]\t 45.14254870996783\t 4.59675431006429\t 2.79972758909691\t 3.7896077477636654\n",
            "3  \t [ 5.12       -0.54190283]\t 26.50805867302198\t 4.59675431006429\t 2.780928798522941\t 3.1588928927301287\n",
            "4  \t [ 5.12 -5.12]\t 52.4288\t 4.59675431006429\t 3.1263154074637294\t 3.062370922779278\n",
            "5  \t [-0.4099214  5.12     ]\t 26.382435550631943\t 4.59675431006429\t 2.9148847047792943\t 3.2447630213077416\n",
            "6  \t [-1.14867329 -5.12      ]\t 27.53385031727304\t 4.59675431006429\t 2.9199788860778146\t 2.658556413145108\n",
            "\u001b[1m\u001b[92m7\u001b[0m\t \u001b[1m\u001b[92m[ 1.35123819 -0.44014174]\u001b[0m\t \u001b[1m\u001b[92m2.0195693910219323\u001b[0m\t \u001b[1m\u001b[92m2.0195693910219323\u001b[0m\t \u001b[1m\u001b[92m2.81726003454783\u001b[0m\t \u001b[1m\u001b[92m2.618240948077457\u001b[0m\n",
            "8  \t [-2.4094731  2.4204583]\t 11.664178983460392\t 2.0195693910219323\t 3.1689290801732923\t 2.824970197651533\n",
            "9  \t [-0.61890816 -1.71696785]\t 3.331025903703881\t 2.0195693910219323\t 2.8775870327616\t 2.7250578036128537\n",
            "10 \t [2.63401981 1.16610317]\t 8.29785697461907\t 2.0195693910219323\t 2.9676669066030934\t 2.7412550348180242\n",
            "11 \t [-5.12 -5.12]\t 52.4288\t 2.0195693910219323\t 2.9905541037761862\t 3.23353616598013\n",
            "12 \t [-5.12        2.01359563]\t 30.268967351292368\t 2.0195693910219323\t 2.7497361236744062\t 2.841995057455684\n",
            "\u001b[1m\u001b[92m13\u001b[0m\t \u001b[1m\u001b[92m[-0.08439298  0.1278438 ]\u001b[0m\t \u001b[1m\u001b[92m0.023466212156608268\u001b[0m\t \u001b[1m\u001b[92m0.023466212156608268\u001b[0m\t \u001b[1m\u001b[92m2.9884346303144467\u001b[0m\t \u001b[1m\u001b[92m2.8803984715179984\u001b[0m\n",
            "\u001b[1m\u001b[92m14\u001b[0m\t \u001b[1m\u001b[92m[-0.08132988  0.1250587 ]\u001b[0m\t \u001b[1m\u001b[92m0.022254228136221837\u001b[0m\t \u001b[1m\u001b[92m0.022254228136221837\u001b[0m\t \u001b[1m\u001b[92m2.778206400554656\u001b[0m\t \u001b[1m\u001b[92m2.435228647189493\u001b[0m\n",
            "\u001b[1m\u001b[92m15\u001b[0m\t \u001b[1m\u001b[92m[-0.08026747  0.12410117]\u001b[0m\t \u001b[1m\u001b[92m0.021843966657329697\u001b[0m\t \u001b[1m\u001b[92m0.021843966657329697\u001b[0m\t \u001b[1m\u001b[92m2.800937202965049\u001b[0m\t \u001b[1m\u001b[92m2.4150537324031274\u001b[0m\n",
            "\u001b[1m\u001b[92m16\u001b[0m\t \u001b[1m\u001b[92m[-0.07975334  0.12364109]\u001b[0m\t \u001b[1m\u001b[92m0.02164771452009507\u001b[0m\t \u001b[1m\u001b[92m0.02164771452009507\u001b[0m\t \u001b[1m\u001b[92m2.941451525889292\u001b[0m\t \u001b[1m\u001b[92m2.7387533522193657\u001b[0m\n",
            "\u001b[1m\u001b[92m17\u001b[0m\t \u001b[1m\u001b[92m[-0.07945712  0.12337748]\u001b[0m\t \u001b[1m\u001b[92m0.02153543793458071\u001b[0m\t \u001b[1m\u001b[92m0.02153543793458071\u001b[0m\t \u001b[1m\u001b[92m2.8480429598297734\u001b[0m\t \u001b[1m\u001b[92m2.4982885090397415\u001b[0m\n",
            "\u001b[1m\u001b[92m18\u001b[0m\t \u001b[1m\u001b[92m[-0.07926699  0.12320871]\u001b[0m\t \u001b[1m\u001b[92m0.02146364231835996\u001b[0m\t \u001b[1m\u001b[92m0.02146364231835996\u001b[0m\t \u001b[1m\u001b[92m3.166060152717862\u001b[0m\t \u001b[1m\u001b[92m2.4672478727297835\u001b[0m\n",
            "\u001b[1m\u001b[92m19\u001b[0m\t \u001b[1m\u001b[92m[-0.07913622  0.12309345]\u001b[0m\t \u001b[1m\u001b[92m0.021414539393438736\u001b[0m\t \u001b[1m\u001b[92m0.021414539393438736\u001b[0m\t \u001b[1m\u001b[92m2.977583591468491\u001b[0m\t \u001b[1m\u001b[92m2.9263895756386185\u001b[0m\n",
            "\u001b[1m\u001b[92m20\u001b[0m\t \u001b[1m\u001b[92m[-0.07904014  0.12300855]\u001b[0m\t \u001b[1m\u001b[92m0.021378448140652175\u001b[0m\t \u001b[1m\u001b[92m0.021378448140652175\u001b[0m\t \u001b[1m\u001b[92m2.5263963973079986\u001b[0m\t \u001b[1m\u001b[92m2.5498756191827767\u001b[0m\n"
          ]
        }
      ],
      "source": [
        "### ESTIMATED GP EI GRADIENTS\n",
        "\n",
        "np.random.seed(run_num_3)\n",
        "surrogate_approx_3 = dGaussianProcess(cov_func, optimize=opt)\n",
        "\n",
        "approx_3 = GPGO_multi(surrogate_approx_3, Acquisition_grad(util), objfunc, param)\n",
        "approx_3.run(init_evals=n_init, max_iter=iters)\n"
      ]
    },
    {
      "cell_type": "code",
      "execution_count": 16,
      "metadata": {
        "id": "hOtG-2sCGCKS",
        "colab": {
          "base_uri": "https://localhost:8080/"
        },
        "outputId": "21065b3f-d230-4ba3-a09a-46e28684fb96"
      },
      "outputs": [
        {
          "output_type": "stream",
          "name": "stdout",
          "text": [
            "Evaluation \t Proposed point \t  Current eval. \t  Best eval. \t        Exact EI: StdDev. x \t Approx EI: StdDev. x \n",
            "init\t [4.78238555 0.48365823]\t 23.1051368481516\t 6.844040613967918\t    \t    \n",
            "init\t [4.84028785 2.19971578]\t 28.267135924302462\t 6.844040613967918\t    \t    \n",
            "init\t [ 2.02474316 -2.90724357]\t 12.551650027390728\t 6.844040613967918\t    \t    \n",
            "init\t [ 4.87705042 -5.05620219]\t 49.3508013219099\t 6.844040613967918\t    \t    \n",
            "init\t [-2.52946061 -0.66773471]\t 6.844040613967918\t 6.844040613967918\t    \t    \n",
            "1  \t [-2.49848471  4.68810004]\t 28.220707791149493\t 6.844040613967918\t 2.794170909695304\t 3.7079038501476522\n",
            "2  \t [-5.12 -5.12]\t 52.4288\t 6.844040613967918\t 3.8259589554724145\t 3.761460371073577\n",
            "3  \t [1.79747406 5.12      ]\t 29.44531299543434\t 6.844040613967918\t 3.4843510125105737\t 3.444917089999066\n",
            "\u001b[1m\u001b[92m4\u001b[0m\t \u001b[1m\u001b[92m[0.64168211 1.1215281 ]\u001b[0m\t \u001b[1m\u001b[92m1.6695812076669763\u001b[0m\t \u001b[1m\u001b[92m1.6695812076669763\u001b[0m\t \u001b[1m\u001b[92m3.164288637968995\u001b[0m\t \u001b[1m\u001b[92m3.4077853780945215\u001b[0m\n",
            "5  \t [-0.95719549 -5.12      ]\t 27.130623214897394\t 1.6695812076669763\t 2.9080659795665516\t 3.189043585588104\n",
            "6  \t [-5.12        1.72015752]\t 29.173341900999763\t 1.6695812076669763\t 3.0196346167705066\t 3.105100700684686\n",
            "7  \t [-5.12      -1.6657538]\t 28.989135738752495\t 1.6695812076669763\t 2.5927141381412997\t 2.4308700308792983\n",
            "8  \t [5.12 5.12]\t 52.4288\t 1.6695812076669763\t 2.6516855227883136\t 2.5086991913844803\n",
            "9  \t [-1.23376874  1.76326299]\t 4.631281686006941\t 1.6695812076669763\t 2.4758065641324984\t 2.4236748301827906\n",
            "\u001b[1m\u001b[92m10\u001b[0m\t \u001b[1m\u001b[92m[ 0.11735813 -0.8736056 ]\u001b[0m\t \u001b[1m\u001b[92m0.7769596772123502\u001b[0m\t \u001b[1m\u001b[92m0.7769596772123502\u001b[0m\t \u001b[1m\u001b[92m3.268813986948079\u001b[0m\t \u001b[1m\u001b[92m3.3110092121762467\u001b[0m\n",
            "11 \t [ 1.77744648 -0.03317224]\t 3.16041638221669\t 0.7769596772123502\t 3.072683855104684\t 3.117027138678723\n",
            "12 \t [-5.12  5.12]\t 52.4288\t 0.7769596772123502\t 2.800545646503264\t 3.085455527325918\n",
            "13 \t [-0.63881355 -2.04096657]\t 4.573627296410006\t 0.7769596772123502\t 2.796871357957104\t 2.6960331881420787\n",
            "14 \t [1.61172467 2.18040778]\t 7.351834527864886\t 0.7769596772123502\t 2.489159201578709\t 2.4577367151702245\n",
            "15 \t [ 5.12       -2.08946706]\t 30.580272594578126\t 0.7769596772123502\t 2.8240320204661367\t 2.961536701366495\n",
            "\u001b[1m\u001b[92m16\u001b[0m\t \u001b[1m\u001b[92m[-0.03380951 -0.00511473]\u001b[0m\t \u001b[1m\u001b[92m0.001169243108599654\u001b[0m\t \u001b[1m\u001b[92m0.001169243108599654\u001b[0m\t \u001b[1m\u001b[92m2.848410383246738\u001b[0m\t \u001b[1m\u001b[92m2.7001990463413152\u001b[0m\n",
            "\u001b[1m\u001b[92m17\u001b[0m\t \u001b[1m\u001b[92m[-0.02887655 -0.00946148]\u001b[0m\t \u001b[1m\u001b[92m0.0009233748488960546\u001b[0m\t \u001b[1m\u001b[92m0.0009233748488960546\u001b[0m\t \u001b[1m\u001b[92m2.3913648544438235\u001b[0m\t \u001b[1m\u001b[92m2.361175606497795\u001b[0m\n",
            "\u001b[1m\u001b[92m18\u001b[0m\t \u001b[1m\u001b[92m[-0.02683453 -0.01130279]\u001b[0m\t \u001b[1m\u001b[92m0.0008478451055823899\u001b[0m\t \u001b[1m\u001b[92m0.0008478451055823899\u001b[0m\t \u001b[1m\u001b[92m2.849630848833683\u001b[0m\t \u001b[1m\u001b[92m2.9287110528358\u001b[0m\n",
            "\u001b[1m\u001b[92m19\u001b[0m\t \u001b[1m\u001b[92m[-0.02574802 -0.01229595]\u001b[0m\t \u001b[1m\u001b[92m0.0008141509299001758\u001b[0m\t \u001b[1m\u001b[92m0.0008141509299001758\u001b[0m\t \u001b[1m\u001b[92m2.8862093621719205\u001b[0m\t \u001b[1m\u001b[92m2.8062549783717476\u001b[0m\n",
            "\u001b[1m\u001b[92m20\u001b[0m\t \u001b[1m\u001b[92m[-0.0250819  -0.01291052]\u001b[0m\t \u001b[1m\u001b[92m0.0007957831974009596\u001b[0m\t \u001b[1m\u001b[92m0.0007957831974009596\u001b[0m\t \u001b[1m\u001b[92m2.4269166157087367\u001b[0m\t \u001b[1m\u001b[92m2.29401396664744\u001b[0m\n"
          ]
        }
      ],
      "source": [
        "### ESTIMATED GP EI GRADIENTS\n",
        "\n",
        "np.random.seed(run_num_4)\n",
        "surrogate_approx_4 = dGaussianProcess(cov_func, optimize=opt)\n",
        "\n",
        "approx_4= GPGO_multi(surrogate_approx_4, Acquisition_grad(util), objfunc, param)\n",
        "approx_4.run(init_evals=n_init, max_iter=iters)\n"
      ]
    },
    {
      "cell_type": "code",
      "execution_count": 17,
      "metadata": {
        "id": "JF_SxcEvGCOl",
        "colab": {
          "base_uri": "https://localhost:8080/"
        },
        "outputId": "8c0d6715-92f5-4043-f92a-df38e74f0712"
      },
      "outputs": [
        {
          "output_type": "stream",
          "name": "stdout",
          "text": [
            "Evaluation \t Proposed point \t  Current eval. \t  Best eval. \t        Exact EI: StdDev. x \t Approx EI: StdDev. x \n",
            "init\t [-2.84678993  3.79629882]\t 22.516097589112718\t 1.3234068721819314\t    \t    \n",
            "init\t [-3.00319585  4.2865757 ]\t 27.393916517947076\t 1.3234068721819314\t    \t    \n",
            "init\t [-0.11866943  1.14425716]\t 1.3234068721819314\t 1.3234068721819314\t    \t    \n",
            "init\t [2.72289645 0.1886002 ]\t 7.449735113237491\t 1.3234068721819314\t    \t    \n",
            "init\t [-2.08076286 -3.19773462]\t 14.555080786026249\t 1.3234068721819314\t    \t    \n",
            "1  \t [ 4.32895605 -5.09732646]\t 44.722597532365825\t 1.3234068721819314\t 4.395109559366356\t 4.274627789641052\n",
            "2  \t [5.12       4.85435802]\t 49.77919180861997\t 1.3234068721819314\t 4.142476534465595\t 3.7350358899578877\n",
            "3  \t [-5.12       -0.04785525]\t 26.216690125239175\t 1.3234068721819314\t 3.3645087932405877\t 3.651697378557545\n",
            "4  \t [0.97324314 5.12      ]\t 27.16160220060327\t 1.3234068721819314\t 3.345550810592022\t 3.3320754246350037\n",
            "5  \t [-5.12 -5.12]\t 52.4288\t 1.3234068721819314\t 3.3613382230594517\t 3.469864087089079\n",
            "6  \t [ 0.60985986 -5.12      ]\t 26.58632904783045\t 1.3234068721819314\t 3.2432402984466457\t 3.401294416113453\n",
            "7  \t [ 5.12       -1.48567194]\t 28.42162110447929\t 1.3234068721819314\t 2.3850668466944818\t 2.5999194196652455\n",
            "8  \t [ 0.47660663 -1.47083825]\t 2.390519034512904\t 1.3234068721819314\t 3.050679938042453\t 3.2529385704245746\n",
            "9  \t [-1.85265925  0.20263273]\t 3.4734063056412636\t 1.3234068721819314\t 2.9531553506968695\t 3.0411741327118205\n",
            "10 \t [2.6428804 2.5634436]\t 13.55605986818945\t 1.3234068721819314\t 3.0283288038597287\t 2.700791886785794\n",
            "11 \t [5.12       1.54923186]\t 28.61451935426573\t 1.3234068721819314\t 2.792161947167664\t 3.125344653176299\n",
            "12 \t [ 2.13685152 -2.46902556]\t 10.662221649356603\t 1.3234068721819314\t 2.6718056178610015\t 2.5924599847300387\n",
            "13 \t [-0.35161782  2.31120827]\t 5.465318748569371\t 1.3234068721819314\t 2.926352304666003\t 2.769703017490938\n",
            "\u001b[1m\u001b[92m14\u001b[0m\t \u001b[1m\u001b[92m[0.21763619 0.01887832]\u001b[0m\t \u001b[1m\u001b[92m0.04772190188769004\u001b[0m\t \u001b[1m\u001b[92m0.04772190188769004\u001b[0m\t \u001b[1m\u001b[92m2.3131857403270986\u001b[0m\t \u001b[1m\u001b[92m2.282437242595617\u001b[0m\n",
            "\u001b[1m\u001b[92m15\u001b[0m\t \u001b[1m\u001b[92m[0.21644097 0.02535631]\u001b[0m\t \u001b[1m\u001b[92m0.04748963674431142\u001b[0m\t \u001b[1m\u001b[92m0.04748963674431142\u001b[0m\t \u001b[1m\u001b[92m2.553595931937393\u001b[0m\t \u001b[1m\u001b[92m2.45548377272219\u001b[0m\n",
            "\u001b[1m\u001b[92m16\u001b[0m\t \u001b[1m\u001b[92m[0.21593326 0.02821622]\u001b[0m\t \u001b[1m\u001b[92m0.04742332981916362\u001b[0m\t \u001b[1m\u001b[92m0.04742332981916362\u001b[0m\t \u001b[1m\u001b[92m2.714912828133171\u001b[0m\t \u001b[1m\u001b[92m2.7921974022781266\u001b[0m\n",
            "\u001b[1m\u001b[92m17\u001b[0m\t \u001b[1m\u001b[92m[0.21563406 0.02978256]\u001b[0m\t \u001b[1m\u001b[92m0.04738504835186445\u001b[0m\t \u001b[1m\u001b[92m0.04738504835186445\u001b[0m\t \u001b[1m\u001b[92m2.658533173535\u001b[0m\t \u001b[1m\u001b[92m3.0440479975078945\u001b[0m\n",
            "\u001b[1m\u001b[92m18\u001b[0m\t \u001b[1m\u001b[92m[0.21543352 0.03075665]\u001b[0m\t \u001b[1m\u001b[92m0.047357571927643415\u001b[0m\t \u001b[1m\u001b[92m0.047357571927643415\u001b[0m\t \u001b[1m\u001b[92m2.904119100777752\u001b[0m\t \u001b[1m\u001b[92m2.777108432283352\u001b[0m\n",
            "\u001b[1m\u001b[92m19\u001b[0m\t \u001b[1m\u001b[92m[0.21528714 0.03141266]\u001b[0m\t \u001b[1m\u001b[92m0.0473353093744659\u001b[0m\t \u001b[1m\u001b[92m0.0473353093744659\u001b[0m\t \u001b[1m\u001b[92m2.483564334285855\u001b[0m\t \u001b[1m\u001b[92m2.5817747852753605\u001b[0m\n",
            "\u001b[1m\u001b[92m20\u001b[0m\t \u001b[1m\u001b[92m[0.21517666 0.03188332]\u001b[0m\t \u001b[1m\u001b[92m0.047317540169686416\u001b[0m\t \u001b[1m\u001b[92m0.047317540169686416\u001b[0m\t \u001b[1m\u001b[92m2.7503747315397646\u001b[0m\t \u001b[1m\u001b[92m3.0709964030745867\u001b[0m\n"
          ]
        }
      ],
      "source": [
        "### ESTIMATED GP EI GRADIENTS\n",
        "\n",
        "np.random.seed(run_num_5)\n",
        "surrogate_approx_5 = dGaussianProcess(cov_func, optimize=opt)\n",
        "\n",
        "approx_5 = GPGO_multi(surrogate_approx_5, Acquisition_grad(util), objfunc, param)\n",
        "approx_5.run(init_evals=n_init, max_iter=iters)\n"
      ]
    },
    {
      "cell_type": "code",
      "execution_count": 18,
      "metadata": {
        "id": "-kDxZtJsGCR3",
        "colab": {
          "base_uri": "https://localhost:8080/"
        },
        "outputId": "565f1299-2d19-4e8a-fa92-16d6fc052ebb"
      },
      "outputs": [
        {
          "output_type": "stream",
          "name": "stdout",
          "text": [
            "Evaluation \t Proposed point \t  Current eval. \t  Best eval. \t        Exact EI: StdDev. x \t Approx EI: StdDev. x \n",
            "init\t [ 4.02288795 -1.72052679]\t 19.143839911819178\t 0.7844720799352826\t    \t    \n",
            "init\t [ 3.28938622 -4.69302655]\t 32.84455992822337\t 0.7844720799352826\t    \t    \n",
            "init\t [-4.0175956   0.97333314]\t 17.088451781196223\t 0.7844720799352826\t    \t    \n",
            "init\t [ 0.30532979 -0.83141193]\t 0.7844720799352826\t 0.7844720799352826\t    \t    \n",
            "init\t [-1.68542362  1.25459899]\t 4.414671405342624\t 0.7844720799352826\t    \t    \n",
            "1  \t [5.12 5.12]\t 52.428799999999995\t 0.7844720799352826\t 4.050258439347114\t 3.861809711766971\n",
            "2  \t [-3.32779551 -5.12      ]\t 37.28862295424252\t 0.7844720799352826\t 3.6505232924858\t 3.605862867209806\n",
            "3  \t [0.08327687 5.12      ]\t 26.2213350377559\t 0.7844720799352826\t 3.262111395301113\t 3.4007395176823967\n",
            "4  \t [-5.12  5.12]\t 52.4288\t 0.7844720799352826\t 3.18683262856039\t 3.9117809593365678\n",
            "5  \t [2.3453467  1.79754942]\t 8.73183508585215\t 0.7844720799352826\t 2.8158274563067147\t 2.717797263079058\n",
            "6  \t [-0.1655046  -3.15425634]\t 9.976724852286221\t 0.7844720799352826\t 3.063897107837676\t 3.148650647067932\n",
            "7  \t [-5.12       -2.11221719]\t 30.675861475284663\t 0.7844720799352826\t 3.236578150402836\t 3.1595317828130014\n",
            "8  \t [5.12       1.39038606]\t 28.147573394833255\t 0.7844720799352826\t 3.2173493652573386\t 3.0834810995854522\n",
            "9  \t [-1.90740413 -1.23455926]\t 5.162327076785956\t 0.7844720799352826\t 2.5378649558290554\t 2.616754640356799\n",
            "10 \t [ 1.16654869 -0.50000863]\t 1.610844480259556\t 0.7844720799352826\t 2.6088030125967387\t 2.7633084685506115\n",
            "11 \t [-2.32570096  3.46540151]\t 17.417892563999487\t 0.7844720799352826\t 3.234610341278766\t 2.9750520999066086\n",
            "\u001b[1m\u001b[92m12\u001b[0m\t \u001b[1m\u001b[92m[0.09822577 0.64777299]\u001b[0m\t \u001b[1m\u001b[92m0.42925814719400857\u001b[0m\t \u001b[1m\u001b[92m0.42925814719400857\u001b[0m\t \u001b[1m\u001b[92m2.9001405598945262\u001b[0m\t \u001b[1m\u001b[92m2.8189532130421386\u001b[0m\n",
            "13 \t [0.09696358 1.70052396]\t 2.90118367389455\t 0.42925814719400857\t 2.6726216466618227\t 2.4812461748433194\n",
            "14 \t [ 0.1860113 -5.12     ]\t 26.249000203961955\t 0.42925814719400857\t 2.9262289434768283\t 3.098219906767541\n",
            "\u001b[1m\u001b[92m15\u001b[0m\t \u001b[1m\u001b[92m[ 0.02315886 -0.08805191]\u001b[0m\t \u001b[1m\u001b[92m0.008289470907292987\u001b[0m\t \u001b[1m\u001b[92m0.008289470907292987\u001b[0m\t \u001b[1m\u001b[92m2.943938541878204\u001b[0m\t \u001b[1m\u001b[92m2.8335479777531605\u001b[0m\n",
            "16 \t [ 0.02366294 -0.08803817]\t 0.008310654449684573\t 0.008289470907292987\t 2.977922836146401\t 3.1118267620095996\n",
            "17 \t [ 0.02357141 -0.08804049]\t 0.008306739390967158\t 0.008289470907292987\t 3.26417082829861\t 3.223071203857355\n",
            "18 \t [ 0.02337382 -0.08804556]\t 0.008298356790867201\t 0.008289470907292987\t 2.992455515181462\t 2.5816555604520723\n",
            "19 \t [ 0.02317183 -0.0880512 ]\t 0.008289946750882987\t 0.008289470907292987\t 2.976951394860609\t 2.743992312443167\n",
            "\u001b[1m\u001b[92m20\u001b[0m\t \u001b[1m\u001b[92m[ 0.02298996 -0.08805588]\u001b[0m\t \u001b[1m\u001b[92m0.00828237537845821\u001b[0m\t \u001b[1m\u001b[92m0.00828237537845821\u001b[0m\t \u001b[1m\u001b[92m2.775980851186706\u001b[0m\t \u001b[1m\u001b[92m3.037802225123159\u001b[0m\n"
          ]
        }
      ],
      "source": [
        "### ESTIMATED GP EI GRADIENTS\n",
        "\n",
        "np.random.seed(run_num_6)\n",
        "surrogate_approx_6 = dGaussianProcess(cov_func, optimize=opt)\n",
        "\n",
        "approx_6 = GPGO_multi(surrogate_approx_6, Acquisition_grad(util), objfunc, param)\n",
        "approx_6.run(init_evals=n_init, max_iter=iters)\n"
      ]
    },
    {
      "cell_type": "code",
      "execution_count": 19,
      "metadata": {
        "id": "fKB8MCD_GCVI",
        "colab": {
          "base_uri": "https://localhost:8080/"
        },
        "outputId": "5e168aff-0817-4ed6-a20e-e6a5935c42f1"
      },
      "outputs": [
        {
          "output_type": "stream",
          "name": "stdout",
          "text": [
            "Evaluation \t Proposed point \t  Current eval. \t  Best eval. \t        Exact EI: StdDev. x \t Approx EI: StdDev. x \n",
            "init\t [-4.33860312  2.86636843]\t 27.039544996254122\t 5.622519010932044\t    \t    \n",
            "init\t [-0.63068947  2.28828342]\t 5.634010222398341\t 5.622519010932044\t    \t    \n",
            "init\t [4.8946126  0.39419771]\t 24.112624368867845\t 5.622519010932044\t    \t    \n",
            "init\t [ 0.01147355 -4.38219639]\t 19.20377688135857\t 5.622519010932044\t    \t    \n",
            "init\t [-2.37118484e+00 -1.20319155e-03]\t 5.622519010932044\t 5.622519010932044\t    \t    \n",
            "1  \t [-5.12 -5.12]\t 52.4288\t 5.622519010932044\t 3.2041352431907013\t 3.5195435779894733\n",
            "2  \t [ 5.12 -5.12]\t 52.4288\t 5.622519010932044\t 3.72535187905791\t 3.757323283374026\n",
            "3  \t [3.33439653 5.12      ]\t 37.33260019226747\t 5.622519010932044\t 3.949411660861772\t 3.7095861053294192\n",
            "4  \t [-4.02558214 -1.33646422]\t 17.991448177385568\t 5.622519010932044\t 2.8896328289336957\t 2.911219880677074\n",
            "\u001b[1m\u001b[92m5\u001b[0m\t \u001b[1m\u001b[92m[ 1.22343688 -0.77271602]\u001b[0m\t \u001b[1m\u001b[92m2.093887849321066\u001b[0m\t \u001b[1m\u001b[92m2.093887849321066\u001b[0m\t \u001b[1m\u001b[92m3.1486034732778836\u001b[0m\t \u001b[1m\u001b[92m3.058842517679994\u001b[0m\n",
            "6  \t [-1.25558975  5.12      ]\t 27.79090562213046\t 2.093887849321066\t 3.1459278894710874\t 3.415071395343698\n",
            "7  \t [ 2.86845092 -2.42916322]\t 14.128844603757447\t 2.093887849321066\t 2.366040742630663\t 2.657684693412169\n",
            "8  \t [1.98156568 1.8245334 ]\t 7.255524663383878\t 2.093887849321066\t 2.8925233742779732\t 3.0406589353442404\n",
            "9  \t [-0.54084165 -1.44037956]\t 2.367202979914245\t 2.093887849321066\t 3.2237763329182627\t 3.402117803949384\n",
            "10 \t [-2.40914606 -3.47090865]\t 17.851191557239943\t 2.093887849321066\t 3.074538072296885\t 3.462040656931807\n",
            "11 \t [-5.12  5.12]\t 52.4288\t 2.093887849321066\t 2.8121253234125025\t 3.1369791711369386\n",
            "\u001b[1m\u001b[92m12\u001b[0m\t \u001b[1m\u001b[92m[0.02795247 0.14020579]\u001b[0m\t \u001b[1m\u001b[92m0.020439003324513007\u001b[0m\t \u001b[1m\u001b[92m0.020439003324513007\u001b[0m\t \u001b[1m\u001b[92m3.175384777642453\u001b[0m\t \u001b[1m\u001b[92m3.2911002515939947\u001b[0m\n",
            "\u001b[1m\u001b[92m13\u001b[0m\t \u001b[1m\u001b[92m[0.03157538 0.13539331]\u001b[0m\t \u001b[1m\u001b[92m0.01932835251015678\u001b[0m\t \u001b[1m\u001b[92m0.01932835251015678\u001b[0m\t \u001b[1m\u001b[92m3.170067171822742\u001b[0m\t \u001b[1m\u001b[92m3.237809872364559\u001b[0m\n",
            "\u001b[1m\u001b[92m14\u001b[0m\t \u001b[1m\u001b[92m[0.03292195 0.1336028 ]\u001b[0m\t \u001b[1m\u001b[92m0.01893356223766269\u001b[0m\t \u001b[1m\u001b[92m0.01893356223766269\u001b[0m\t \u001b[1m\u001b[92m2.6519904303045783\u001b[0m\t \u001b[1m\u001b[92m2.6037876093957353\u001b[0m\n",
            "\u001b[1m\u001b[92m15\u001b[0m\t \u001b[1m\u001b[92m[0.0335946  0.13269175]\u001b[0m\t \u001b[1m\u001b[92m0.018735697778565732\u001b[0m\t \u001b[1m\u001b[92m0.018735697778565732\u001b[0m\t \u001b[1m\u001b[92m3.2633713927772297\u001b[0m\t \u001b[1m\u001b[92m3.0598147787611127\u001b[0m\n",
            "\u001b[1m\u001b[92m16\u001b[0m\t \u001b[1m\u001b[92m[0.03399006 0.13214895]\u001b[0m\t \u001b[1m\u001b[92m0.0186186677404696\u001b[0m\t \u001b[1m\u001b[92m0.0186186677404696\u001b[0m\t \u001b[1m\u001b[92m2.3151956226808017\u001b[0m\t \u001b[1m\u001b[92m2.3786065631885047\u001b[0m\n",
            "\u001b[1m\u001b[92m17\u001b[0m\t \u001b[1m\u001b[92m[0.03424809 0.13179169]\u001b[0m\t \u001b[1m\u001b[92m0.018541981314994488\u001b[0m\t \u001b[1m\u001b[92m0.018541981314994488\u001b[0m\t \u001b[1m\u001b[92m2.4440162590101826\u001b[0m\t \u001b[1m\u001b[92m2.586242589077772\u001b[0m\n",
            "\u001b[1m\u001b[92m18\u001b[0m\t \u001b[1m\u001b[92m[0.03442827 0.13154016]\u001b[0m\t \u001b[1m\u001b[92m0.018488118606149597\u001b[0m\t \u001b[1m\u001b[92m0.018488118606149597\u001b[0m\t \u001b[1m\u001b[92m3.1943453149169425\u001b[0m\t \u001b[1m\u001b[92m3.5032432080980054\u001b[0m\n",
            "\u001b[1m\u001b[92m19\u001b[0m\t \u001b[1m\u001b[92m[0.03456078 0.13135418]\u001b[0m\t \u001b[1m\u001b[92m0.018448367993755623\u001b[0m\t \u001b[1m\u001b[92m0.018448367993755623\u001b[0m\t \u001b[1m\u001b[92m3.018763670303267\u001b[0m\t \u001b[1m\u001b[92m3.008373254534073\u001b[0m\n",
            "\u001b[1m\u001b[92m20\u001b[0m\t \u001b[1m\u001b[92m[0.03466121 0.13121125]\u001b[0m\t \u001b[1m\u001b[92m0.018417792074498493\u001b[0m\t \u001b[1m\u001b[92m0.018417792074498493\u001b[0m\t \u001b[1m\u001b[92m2.8144772836774945\u001b[0m\t \u001b[1m\u001b[92m2.8241233311354\u001b[0m\n"
          ]
        }
      ],
      "source": [
        "### ESTIMATED GP EI GRADIENTS\n",
        "\n",
        "np.random.seed(run_num_7)\n",
        "surrogate_approx_7 = dGaussianProcess(cov_func, optimize=opt)\n",
        "\n",
        "approx_7 = GPGO_multi(surrogate_approx_7, Acquisition_grad(util), objfunc, param)\n",
        "approx_7.run(init_evals=n_init, max_iter=iters)\n"
      ]
    },
    {
      "cell_type": "code",
      "execution_count": 20,
      "metadata": {
        "id": "4unvifF-GCXp",
        "colab": {
          "base_uri": "https://localhost:8080/"
        },
        "outputId": "950879e6-5266-415a-bbba-68353581d952"
      },
      "outputs": [
        {
          "output_type": "stream",
          "name": "stdout",
          "text": [
            "Evaluation \t Proposed point \t  Current eval. \t  Best eval. \t        Exact EI: StdDev. x \t Approx EI: StdDev. x \n",
            "init\t [3.82391708 4.79785639]\t 37.641767782829874\t 0.10287109474532606\t    \t    \n",
            "init\t [3.78055209 0.31596228]\t 14.392406282091054\t 0.10287109474532606\t    \t    \n",
            "init\t [-2.73686192 -5.00327624]\t 32.52318635319257\t 0.10287109474532606\t    \t    \n",
            "init\t [-0.7119993  -0.99992207]\t 1.5067871566831337\t 0.10287109474532606\t    \t    \n",
            "init\t [ 0.23218863 -0.22126801]\t 0.10287109474532606\t 0.10287109474532606\t    \t    \n",
            "1  \t [-0.00463248  2.0748902 ]\t 4.3051908167202\t 0.10287109474532606\t 3.014594132539912\t 3.8418214925822123\n",
            "2  \t [ 5.12       -4.98863682]\t 51.10089734554798\t 0.10287109474532606\t 3.2611654003233874\t 4.022637051438944\n",
            "3  \t [-4.17756311  5.12      ]\t 43.66643351030382\t 0.10287109474532606\t 2.53379345021843\t 3.426198078044278\n",
            "4  \t [-5.12       -0.16117147]\t 26.240376243605684\t 0.10287109474532606\t 3.3425351865144832\t 3.546972194182447\n",
            "5  \t [ 1.199101   -3.61513883]\t 14.50707193007283\t 0.10287109474532606\t 3.0856850535555016\t 2.8951323961354243\n",
            "6  \t [-0.16703427  5.12      ]\t 26.242300447032356\t 0.10287109474532606\t 3.0669039495938675\t 3.188892448594623\n",
            "7  \t [-2.5699174  1.8903021]\t 10.177717456052784\t 0.10287109474532606\t 3.021193138782946\t 3.0897702102250206\n",
            "8  \t [-5.12       -3.23911379]\t 36.70625811373449\t 0.10287109474532606\t 3.4025836912444762\t 3.063638087076673\n",
            "9  \t [ 1.05313632 -0.46436988]\t 1.3247354949448362\t 0.10287109474532606\t 2.7384157053616627\t 2.9004256687005388\n",
            "10 \t [-2.1504401  -1.64234042]\t 7.3216746948508185\t 0.10287109474532606\t 2.942684457268886\t 3.3358534698967506\n",
            "11 \t [ 3.7000492  -2.22393383]\t 18.636245791427612\t 0.10287109474532606\t 2.8110431735193306\t 2.786681151201288\n",
            "12 \t [1.97176386 2.31306128]\t 9.238105218323598\t 0.10287109474532606\t 2.4608673844562508\t 2.65262633475502\n",
            "\u001b[1m\u001b[92m13\u001b[0m\t \u001b[1m\u001b[92m[-0.18346294  0.02221241]\u001b[0m\t \u001b[1m\u001b[92m0.03415204341032372\u001b[0m\t \u001b[1m\u001b[92m0.03415204341032372\u001b[0m\t \u001b[1m\u001b[92m2.5972043932185582\u001b[0m\t \u001b[1m\u001b[92m2.7332049930114044\u001b[0m\n",
            "\u001b[1m\u001b[92m14\u001b[0m\t \u001b[1m\u001b[92m[-0.15091626 -0.00430519]\u001b[0m\t \u001b[1m\u001b[92m0.022794251864957215\u001b[0m\t \u001b[1m\u001b[92m0.022794251864957215\u001b[0m\t \u001b[1m\u001b[92m2.877549742247684\u001b[0m\t \u001b[1m\u001b[92m3.1613233175814965\u001b[0m\n",
            "\u001b[1m\u001b[92m15\u001b[0m\t \u001b[1m\u001b[92m[-0.13710438 -0.01599493]\u001b[0m\t \u001b[1m\u001b[92m0.019053447552578644\u001b[0m\t \u001b[1m\u001b[92m0.019053447552578644\u001b[0m\t \u001b[1m\u001b[92m2.6164085068700778\u001b[0m\t \u001b[1m\u001b[92m2.566169247104015\u001b[0m\n",
            "\u001b[1m\u001b[92m16\u001b[0m\t \u001b[1m\u001b[92m[-0.12973972 -0.02237761]\u001b[0m\t \u001b[1m\u001b[92m0.0173331523939532\u001b[0m\t \u001b[1m\u001b[92m0.0173331523939532\u001b[0m\t \u001b[1m\u001b[92m2.861265698305599\u001b[0m\t \u001b[1m\u001b[92m2.335415033292939\u001b[0m\n",
            "\u001b[1m\u001b[92m17\u001b[0m\t \u001b[1m\u001b[92m[-0.12526631 -0.02631939]\u001b[0m\t \u001b[1m\u001b[92m0.016384359841900877\u001b[0m\t \u001b[1m\u001b[92m0.016384359841900877\u001b[0m\t \u001b[1m\u001b[92m3.319183389174112\u001b[0m\t \u001b[1m\u001b[92m3.047262149180107\u001b[0m\n",
            "\u001b[1m\u001b[92m18\u001b[0m\t \u001b[1m\u001b[92m[-0.1223064  -0.02896726]\u001b[0m\t \u001b[1m\u001b[92m0.01579795688074795\u001b[0m\t \u001b[1m\u001b[92m0.01579795688074795\u001b[0m\t \u001b[1m\u001b[92m2.8573667762711814\u001b[0m\t \u001b[1m\u001b[92m2.9135967586425826\u001b[0m\n",
            "\u001b[1m\u001b[92m19\u001b[0m\t \u001b[1m\u001b[92m[-0.12023026 -0.03084435]\u001b[0m\t \u001b[1m\u001b[92m0.015406689618446264\u001b[0m\t \u001b[1m\u001b[92m0.015406689618446264\u001b[0m\t \u001b[1m\u001b[92m2.6323954987091853\u001b[0m\t \u001b[1m\u001b[92m2.491577869815573\u001b[0m\n",
            "\u001b[1m\u001b[92m20\u001b[0m\t \u001b[1m\u001b[92m[-0.1187067  -0.03223441]\u001b[0m\t \u001b[1m\u001b[92m0.015130338402129498\u001b[0m\t \u001b[1m\u001b[92m0.015130338402129498\u001b[0m\t \u001b[1m\u001b[92m2.8097634038101864\u001b[0m\t \u001b[1m\u001b[92m2.575585670991564\u001b[0m\n"
          ]
        }
      ],
      "source": [
        "### ESTIMATED GP EI GRADIENTS\n",
        "\n",
        "np.random.seed(run_num_8)\n",
        "surrogate_approx_8 = dGaussianProcess(cov_func, optimize=opt)\n",
        "\n",
        "approx_8 = GPGO_multi(surrogate_approx_8, Acquisition_grad(util), objfunc, param)\n",
        "approx_8.run(init_evals=n_init, max_iter=iters)\n"
      ]
    },
    {
      "cell_type": "code",
      "execution_count": 21,
      "metadata": {
        "id": "85OIXcg7GCaJ",
        "colab": {
          "base_uri": "https://localhost:8080/"
        },
        "outputId": "ad27e40a-b831-4276-bebe-df38511e47a8"
      },
      "outputs": [
        {
          "output_type": "stream",
          "name": "stdout",
          "text": [
            "Evaluation \t Proposed point \t  Current eval. \t  Best eval. \t        Exact EI: StdDev. x \t Approx EI: StdDev. x \n",
            "init\t [-5.01376866  0.01919582]\t 25.138244697862262\t 7.349882113053805\t    \t    \n",
            "init\t [-0.04328148 -3.74958562]\t 14.061265633999861\t 7.349882113053805\t    \t    \n",
            "init\t [-3.66478248 -2.88195916]\t 21.736319271030034\t 7.349882113053805\t    \t    \n",
            "init\t [-0.83447623 -2.57944404]\t 7.349882113053805\t 7.349882113053805\t    \t    \n",
            "init\t [-4.25922917 -1.58209393]\t 20.64405433050371\t 7.349882113053805\t    \t    \n",
            "1  \t [3.69491889 4.82146316]\t 36.89893267190826\t 7.349882113053805\t 3.0905261515009332\t 3.114117452502966\n",
            "2  \t [-2.26307256  5.12      ]\t 31.33589739294164\t 7.349882113053805\t 3.24665874172362\t 3.967433650566336\n",
            "3  \t [ 4.78877615 -1.12845565]\t 24.205789180310127\t 7.349882113053805\t 2.741484617146401\t 2.9921549530996576\n",
            "\u001b[1m\u001b[92m4\u001b[0m\t \u001b[1m\u001b[92m[0.55110058 1.33498138]\u001b[0m\t \u001b[1m\u001b[92m2.0858871302031265\u001b[0m\t \u001b[1m\u001b[92m2.0858871302031265\u001b[0m\t \u001b[1m\u001b[92m2.791109931225452\u001b[0m\t \u001b[1m\u001b[92m3.1214978513951688\u001b[0m\n",
            "5  \t [ 4.05899696 -5.12      ]\t 42.68985632410142\t 2.0858871302031265\t 3.1309341343211825\t 3.2429416637261874\n",
            "6  \t [-5.12        3.45452958]\t 38.14817461421711\t 2.0858871302031265\t 2.6368362225767585\t 2.3857869616790204\n",
            "7  \t [-1.83414705  1.33622288]\t 5.14958697073222\t 2.0858871302031265\t 2.88472910299955\t 2.495021634917108\n",
            "8  \t [ 1.51403747 -0.78104456]\t 2.9023400667760466\t 2.0858871302031265\t 2.895585104342246\t 2.4051927547680223\n",
            "9  \t [5.12       1.94865091]\t 30.011640355740717\t 2.0858871302031265\t 3.160953414796255\t 2.9760557233316183\n",
            "10 \t [0.63224891 3.55386216]\t 13.029674905717107\t 2.0858871302031265\t 2.9902293003936133\t 2.6324913975903157\n",
            "11 \t [-5.12 -5.12]\t 52.4288\t 2.0858871302031265\t 3.353563050186368\t 3.438679435363529\n",
            "12 \t [2.23910412 1.12424998]\t 6.2775252650141375\t 2.0858871302031265\t 2.8739327739653384\t 2.8666427290703833\n",
            "\u001b[1m\u001b[92m13\u001b[0m\t \u001b[1m\u001b[92m[-0.51616316 -0.35396711]\u001b[0m\t \u001b[1m\u001b[92m0.3917171206758676\u001b[0m\t \u001b[1m\u001b[92m0.3917171206758676\u001b[0m\t \u001b[1m\u001b[92m2.1528187086830233\u001b[0m\t \u001b[1m\u001b[92m1.9695073163231203\u001b[0m\n",
            "14 \t [ 2.2580663  -2.52404674]\t 11.46967535886661\t 0.3917171206758676\t 2.5944276472483807\t 2.533294002106668\n",
            "\u001b[1m\u001b[92m15\u001b[0m\t \u001b[1m\u001b[92m[-0.25487408 -0.27338401]\u001b[0m\t \u001b[1m\u001b[92m0.13969961632845482\u001b[0m\t \u001b[1m\u001b[92m0.13969961632845482\u001b[0m\t \u001b[1m\u001b[92m2.829589859068008\u001b[0m\t \u001b[1m\u001b[92m2.7331999861962357\u001b[0m\n",
            "16 \t [-0.28327805 -0.28469485]\t 0.16129760947313365\t 0.13969961632845482\t 2.9322055045129676\t 2.989120522142643\n",
            "17 \t [-0.30039429 -0.29130155]\t 0.17509331979444973\t 0.13969961632845482\t 2.6197029989262925\t 2.6338658975008076\n",
            "18 \t [-0.31052833 -0.29503808]\t 0.1834753121745284\t 0.13969961632845482\t 2.8368814432453773\t 2.786370853624629\n",
            "19 \t [-0.31610914 -0.29693347]\t 0.188094478677725\t 0.13969961632845482\t 2.880838669773668\t 3.0934578069440906\n",
            "20 \t [-0.31894198 -0.29776539]\t 0.1903882117879015\t 0.13969961632845482\t 3.0338671606500003\t 3.215809350636333\n"
          ]
        }
      ],
      "source": [
        "### ESTIMATED GP EI GRADIENTS\n",
        "\n",
        "np.random.seed(run_num_9)\n",
        "surrogate_approx_9 = dGaussianProcess(cov_func, optimize=opt)\n",
        "\n",
        "approx_9 = GPGO_multi(surrogate_approx_9, Acquisition_grad(util), objfunc, param)\n",
        "approx_9.run(init_evals=n_init, max_iter=iters)\n"
      ]
    },
    {
      "cell_type": "code",
      "execution_count": 22,
      "metadata": {
        "id": "QQBR-qJPGCcp",
        "colab": {
          "base_uri": "https://localhost:8080/"
        },
        "outputId": "83fe7661-c523-4156-fb2c-590219d0f557"
      },
      "outputs": [
        {
          "output_type": "stream",
          "name": "stdout",
          "text": [
            "Evaluation \t Proposed point \t  Current eval. \t  Best eval. \t        Exact EI: StdDev. x \t Approx EI: StdDev. x \n",
            "init\t [ 2.77832339 -4.90750004]\t 31.80263747150094\t 7.941821858928501\t    \t    \n",
            "init\t [1.36855793 2.54775176]\t 8.363989812138083\t 7.941821858928501\t    \t    \n",
            "init\t [-0.01528819 -2.81808235]\t 7.941821858928501\t 7.941821858928501\t    \t    \n",
            "init\t [-3.09183626  2.66783449]\t 16.67679237031191\t 7.941821858928501\t    \t    \n",
            "init\t [-3.38830503 -4.2154003 ]\t 29.25021071405309\t 7.941821858928501\t    \t    \n",
            "1  \t [ 5.12       -0.36616944]\t 26.348480057234802\t 7.941821858928501\t 3.511751238630375\t 3.5733460396586043\n",
            "2  \t [5.12 5.12]\t 52.4288\t 7.941821858928501\t 3.0868716237908163\t 3.069277758482444\n",
            "3  \t [-5.12     -0.596191]\t 26.569843714046797\t 7.941821858928501\t 2.85124516827448\t 3.232018548477503\n",
            "4  \t [-0.58327257  5.12      ]\t 26.554606894666318\t 7.941821858928501\t 3.2111176541869906\t 3.4308421313878594\n",
            "5  \t [-5.12  5.12]\t 52.4288\t 7.941821858928501\t 3.022888035352893\t 3.0757158255338815\n",
            "\u001b[1m\u001b[92m6\u001b[0m\t \u001b[1m\u001b[92m[-0.91606113  0.09821237]\u001b[0m\t \u001b[1m\u001b[92m0.8488136588147368\u001b[0m\t \u001b[1m\u001b[92m0.8488136588147368\u001b[0m\t \u001b[1m\u001b[92m3.0941817642090306\u001b[0m\t \u001b[1m\u001b[92m3.056737862590797\u001b[0m\n",
            "7  \t [ 1.72128551 -0.47286364]\t 3.1864238358527404\t 0.8488136588147368\t 2.95736569850944\t 3.18074192359533\n",
            "8  \t [-2.01756432 -0.88321917]\t 4.850641885782455\t 0.8488136588147368\t 2.9501896224484243\t 3.1211144890268137\n",
            "9  \t [ 5.12       -3.34031016]\t 37.37207197966403\t 0.8488136588147368\t 3.159256226857803\t 3.2436314238052546\n",
            "10 \t [-0.45002936 -5.12      ]\t 26.41692642371642\t 0.8488136588147368\t 2.9977659975916042\t 3.131591600417345\n",
            "11 \t [-0.57222938  1.03640752]\t 1.401587015039228\t 0.8488136588147368\t 2.6280692837193427\t 2.6117676958753484\n",
            "12 \t [3.82725905 2.20864583]\t 19.526028193361917\t 0.8488136588147368\t 2.9979738243656278\t 3.0369475876029957\n",
            "13 \t [2.13830691 5.12      ]\t 30.78675644036599\t 0.8488136588147368\t 2.840570360953881\t 2.9576457214266494\n",
            "\u001b[1m\u001b[92m14\u001b[0m\t \u001b[1m\u001b[92m[ 0.04564724 -0.01370418]\u001b[0m\t \u001b[1m\u001b[92m0.002271475151800894\u001b[0m\t \u001b[1m\u001b[92m0.002271475151800894\u001b[0m\t \u001b[1m\u001b[92m3.0732249743676796\u001b[0m\t \u001b[1m\u001b[92m2.940713742931186\u001b[0m\n",
            "\u001b[1m\u001b[92m15\u001b[0m\t \u001b[1m\u001b[92m[ 0.04037241 -0.00745514]\u001b[0m\t \u001b[1m\u001b[92m0.0016855102790652439\u001b[0m\t \u001b[1m\u001b[92m0.0016855102790652439\u001b[0m\t \u001b[1m\u001b[92m3.070208125263424\u001b[0m\t \u001b[1m\u001b[92m2.6636030760889224\u001b[0m\n",
            "\u001b[1m\u001b[92m16\u001b[0m\t \u001b[1m\u001b[92m[ 0.03835866 -0.00514881]\u001b[0m\t \u001b[1m\u001b[92m0.0014978972293948358\u001b[0m\t \u001b[1m\u001b[92m0.0014978972293948358\u001b[0m\t \u001b[1m\u001b[92m2.8220316104384247\u001b[0m\t \u001b[1m\u001b[92m3.102785921712525\u001b[0m\n",
            "\u001b[1m\u001b[92m17\u001b[0m\t \u001b[1m\u001b[92m[ 0.03734216 -0.00401237]\u001b[0m\t \u001b[1m\u001b[92m0.001410535877973916\u001b[0m\t \u001b[1m\u001b[92m0.001410535877973916\u001b[0m\t \u001b[1m\u001b[92m2.709369665736417\u001b[0m\t \u001b[1m\u001b[92m2.737940939645273\u001b[0m\n",
            "\u001b[1m\u001b[92m18\u001b[0m\t \u001b[1m\u001b[92m[ 0.03674141 -0.00335395]\u001b[0m\t \u001b[1m\u001b[92m0.0013611801679167402\u001b[0m\t \u001b[1m\u001b[92m0.0013611801679167402\u001b[0m\t \u001b[1m\u001b[92m2.824215562529915\u001b[0m\t \u001b[1m\u001b[92m2.7724682719574845\u001b[0m\n",
            "\u001b[1m\u001b[92m19\u001b[0m\t \u001b[1m\u001b[92m[ 0.03635302 -0.00293228]\u001b[0m\t \u001b[1m\u001b[92m0.0013301405437106185\u001b[0m\t \u001b[1m\u001b[92m0.0013301405437106185\u001b[0m\t \u001b[1m\u001b[92m2.5083929866691226\u001b[0m\t \u001b[1m\u001b[92m1.8409616941391507\u001b[0m\n",
            "\u001b[1m\u001b[92m20\u001b[0m\t \u001b[1m\u001b[92m[ 0.03608121 -0.00264131]\u001b[0m\t \u001b[1m\u001b[92m0.0013088302935790185\u001b[0m\t \u001b[1m\u001b[92m0.0013088302935790185\u001b[0m\t \u001b[1m\u001b[92m3.1776874284709784\u001b[0m\t \u001b[1m\u001b[92m3.043723957765581\u001b[0m\n"
          ]
        }
      ],
      "source": [
        "### ESTIMATED GP EI GRADIENTS\n",
        "\n",
        "np.random.seed(run_num_10)\n",
        "surrogate_approx_10 = dGaussianProcess(cov_func, optimize=opt)\n",
        "\n",
        "approx_10 = GPGO_multi(surrogate_approx_10, Acquisition_grad(util), objfunc, param)\n",
        "approx_10.run(init_evals=n_init, max_iter=iters)\n"
      ]
    },
    {
      "cell_type": "code",
      "execution_count": 23,
      "metadata": {
        "id": "JS8ejeQ2GCfi",
        "colab": {
          "base_uri": "https://localhost:8080/"
        },
        "outputId": "f0de86e5-095d-4d78-c40a-af157c9540bc"
      },
      "outputs": [
        {
          "output_type": "stream",
          "name": "stdout",
          "text": [
            "Evaluation \t Proposed point \t  Current eval. \t  Best eval. \t        Exact EI: StdDev. x \t Approx EI: StdDev. x \n",
            "init\t [-3.27403839 -4.92057353]\t 34.93137118861299\t 0.6899456214148796\t    \t    \n",
            "init\t [-0.37664229  2.30332343]\t 5.447158259491397\t 0.6899456214148796\t    \t    \n",
            "init\t [-0.81711509 -0.14922651]\t 0.6899456214148796\t 0.6899456214148796\t    \t    \n",
            "init\t [-4.98912446 -0.12931474]\t 24.908085165573997\t 0.6899456214148796\t    \t    \n",
            "init\t [4.52410012 3.59214172]\t 33.37096399795931\t 0.6899456214148796\t    \t    \n",
            "1  \t [ 3.03550212 -4.46785095]\t 29.17596522689979\t 0.6899456214148796\t 2.9158170513702655\t 3.7829261858843455\n",
            "2  \t [-5.12  5.12]\t 52.4288\t 0.6899456214148796\t 2.223662794070773\t 3.22741835715085\n",
            "3  \t [ 5.12       -0.71940645]\t 26.73194564620236\t 0.6899456214148796\t 3.079335528690304\t 3.233738782454868\n",
            "4  \t [0.92481282 5.12      ]\t 27.069678751912193\t 0.6899456214148796\t 2.404853958634682\t 2.355575680473397\n",
            "5  \t [-0.19948548 -2.4701054 ]\t 6.141215126138828\t 0.6899456214148796\t 2.5550558861712895\t 2.2019895008714934\n",
            "6  \t [1.75667552 0.18959909]\t 3.121856700104522\t 0.6899456214148796\t 2.7057904806687136\t 2.8054047101239674\n",
            "7  \t [-2.93791775  2.40749561]\t 14.427395811272248\t 0.6899456214148796\t 3.1238815220548175\t 3.1367474309695456\n",
            "8  \t [-0.04562389 -5.12      ]\t 26.21648153949138\t 0.6899456214148796\t 2.7769683536948873\t 2.671781233779595\n",
            "9  \t [-2.19821918 -1.17096218]\t 6.203320011877078\t 0.6899456214148796\t 2.980411224983165\t 3.0343617427864036\n",
            "10 \t [-1.94706993  5.12      ]\t 30.005481327955312\t 0.6899456214148796\t 2.888147296239408\t 3.294383404148236\n",
            "11 \t [ 2.09278717 -1.63600485]\t 7.056270035978448\t 0.6899456214148796\t 3.2110806184506804\t 3.074452619746942\n",
            "12 \t [1.98902725 1.9641869 ]\t 7.814259601103826\t 0.6899456214148796\t 2.8614619180551997\t 3.077308153257446\n",
            "13 \t [-5.12       -2.87364454]\t 34.472232955045094\t 0.6899456214148796\t 2.9544206412775167\t 2.896974971805139\n",
            "\u001b[1m\u001b[92m14\u001b[0m\t \u001b[1m\u001b[92m[-0.16295303  0.09951826]\u001b[0m\t \u001b[1m\u001b[92m0.03645757307993323\u001b[0m\t \u001b[1m\u001b[92m0.03645757307993323\u001b[0m\t \u001b[1m\u001b[92m2.964325514394811\u001b[0m\t \u001b[1m\u001b[92m2.914443342778442\u001b[0m\n",
            "15 \t [-0.17822793  0.09934707]\t 0.0416350361131702\t 0.03645757307993323\t 2.8556608029425816\t 2.9616948324412053\n",
            "16 \t [-0.18545949  0.09922848]\t 0.04424151426023521\t 0.03645757307993323\t 3.1645330740963202\t 3.1851916580951816\n",
            "17 \t [-0.18962175  0.09911064]\t 0.045779326722199816\t 0.03645757307993323\t 2.191821638206451\t 2.2170339611891996\n",
            "18 \t [-0.19230014  0.0989996 ]\t 0.04678026580560256\t 0.03645757307993323\t 2.910541786854765\t 2.883968255658984\n",
            "19 \t [-0.19415456  0.09889737]\t 0.0474766812222374\t 0.03645757307993323\t 2.6767656753692064\t 2.643376741399848\n",
            "20 \t [-0.19550675  0.09880584]\t 0.04798548160707555\t 0.03645757307993323\t 2.9810873374249973\t 2.8484497133460245\n"
          ]
        }
      ],
      "source": [
        "### ESTIMATED GP EI GRADIENTS\n",
        "\n",
        "np.random.seed(run_num_11)\n",
        "surrogate_approx_11 = dGaussianProcess(cov_func, optimize=opt)\n",
        "\n",
        "approx_11 = GPGO_multi(surrogate_approx_11, Acquisition_grad(util), objfunc, param)\n",
        "approx_11.run(init_evals=n_init, max_iter=iters)\n"
      ]
    },
    {
      "cell_type": "code",
      "execution_count": 24,
      "metadata": {
        "id": "DXwjUVZ4GCii",
        "colab": {
          "base_uri": "https://localhost:8080/"
        },
        "outputId": "d78e3a21-1c26-4de7-d236-e1f7f4c87cea"
      },
      "outputs": [
        {
          "output_type": "stream",
          "name": "stdout",
          "text": [
            "Evaluation \t Proposed point \t  Current eval. \t  Best eval. \t        Exact EI: StdDev. x \t Approx EI: StdDev. x \n",
            "init\t [-3.54137249  2.45810889]\t 18.583618467979093\t 5.993464196233534\t    \t    \n",
            "init\t [-2.42365424  0.34549139]\t 5.993464196233534\t 5.993464196233534\t    \t    \n",
            "init\t [-4.97075238  4.28796936]\t 43.09506052206225\t 5.993464196233534\t    \t    \n",
            "init\t [ 4.10332011 -4.77776458]\t 39.66427028607538\t 5.993464196233534\t    \t    \n",
            "init\t [ 4.6791612  -3.71497655]\t 35.6956003298903\t 5.993464196233534\t    \t    \n",
            "1  \t [4.61121049 2.73895066]\t 28.76511294085281\t 5.993464196233534\t 3.78948948641799\t 3.4054397137486765\n",
            "2  \t [-5.12 -5.12]\t 52.4288\t 5.993464196233534\t 3.5092160185367227\t 3.599993554837231\n",
            "3  \t [0.38783121 5.12      ]\t 26.364813043813236\t 5.993464196233534\t 3.1962499276111362\t 3.2329327412274\n",
            "4  \t [-0.48765728 -3.66213155]\t 13.649017110780735\t 5.993464196233534\t 2.992852208092012\t 2.4279017150924225\n",
            "\u001b[1m\u001b[92m5\u001b[0m\t \u001b[1m\u001b[92m[ 1.54769251 -0.13151794]\u001b[0m\t \u001b[1m\u001b[92m2.4126490694132356\u001b[0m\t \u001b[1m\u001b[92m2.4126490694132356\u001b[0m\t \u001b[1m\u001b[92m2.9478330232257908\u001b[0m\t \u001b[1m\u001b[92m2.8026856434589367\u001b[0m\n",
            "6  \t [-5.12       -1.19093077]\t 27.63271610230875\t 2.4126490694132356\t 3.2647538473630453\t 3.3330764455179045\n",
            "7  \t [ 5.12       -0.48589473]\t 26.450493689330216\t 2.4126490694132356\t 2.8810656001280117\t 2.8331899963577185\n",
            "8  \t [0.15885512 1.81309801]\t 3.3125593529200503\t 2.4126490694132356\t 2.988999082357711\t 3.312403899204343\n",
            "9  \t [ 1.87604927 -2.04582768]\t 7.704971737767028\t 2.4126490694132356\t 3.073525490313539\t 2.816606577380207\n",
            "\u001b[1m\u001b[92m10\u001b[0m\t \u001b[1m\u001b[92m[-0.51105049 -0.78593349]\u001b[0m\t \u001b[1m\u001b[92m0.8788640508394705\u001b[0m\t \u001b[1m\u001b[92m0.8788640508394705\u001b[0m\t \u001b[1m\u001b[92m2.9308992474431195\u001b[0m\t \u001b[1m\u001b[92m3.155919735207968\u001b[0m\n",
            "11 \t [-2.55297328 -2.34747668]\t 12.02831934196738\t 0.8788640508394705\t 2.9254390437128905\t 2.9537660826921734\n",
            "12 \t [3.35365725 5.12      ]\t 37.461416931334014\t 0.8788640508394705\t 2.8820546127219893\t 2.815356335194897\n",
            "13 \t [2.00632449 1.52767794]\t 6.359137854070848\t 0.8788640508394705\t 2.775407476227175\t 2.860877982634335\n",
            "14 \t [ 1.27047034 -5.12      ]\t 27.828494893263766\t 0.8788640508394705\t 3.050129590793978\t 2.935069105634933\n",
            "\u001b[1m\u001b[92m15\u001b[0m\t \u001b[1m\u001b[92m[-0.14568362 -0.26623432]\u001b[0m\t \u001b[1m\u001b[92m0.09210442978408544\u001b[0m\t \u001b[1m\u001b[92m0.09210442978408544\u001b[0m\t \u001b[1m\u001b[92m3.0273696004392465\u001b[0m\t \u001b[1m\u001b[92m3.010456215186113\u001b[0m\n",
            "16 \t [-0.14880162 -0.28355035]\t 0.1025427243810467\t 0.09210442978408544\t 2.8105498604942203\t 2.661611093537244\n",
            "17 \t [-0.15054817 -0.29212407]\t 0.10800122201383736\t 0.09210442978408544\t 2.6782187086933003\t 2.6065476724080043\n",
            "18 \t [-0.15168893 -0.29719698]\t 0.11133557425854004\t 0.09210442978408544\t 3.15176392893106\t 2.989083499620449\n",
            "19 \t [-0.15250089 -0.30052019]\t 0.11356890521327571\t 0.09210442978408544\t 2.976475651308945\t 2.95385311009493\n",
            "20 \t [-0.15311052 -0.30284839]\t 0.11515997796996348\t 0.09210442978408544\t 2.593294207834936\t 2.3948160562046867\n"
          ]
        }
      ],
      "source": [
        "### ESTIMATED GP EI GRADIENTS\n",
        "\n",
        "np.random.seed(run_num_12)\n",
        "surrogate_approx_12 = dGaussianProcess(cov_func, optimize=opt)\n",
        "\n",
        "approx_12 = GPGO_multi(surrogate_approx_12, Acquisition_grad(util), objfunc, param)\n",
        "approx_12.run(init_evals=n_init, max_iter=iters)\n"
      ]
    },
    {
      "cell_type": "code",
      "execution_count": 25,
      "metadata": {
        "id": "CphOPndPGClX",
        "colab": {
          "base_uri": "https://localhost:8080/"
        },
        "outputId": "30ea8ad1-756e-471d-a452-d125aa7bb2dc"
      },
      "outputs": [
        {
          "output_type": "stream",
          "name": "stdout",
          "text": [
            "Evaluation \t Proposed point \t  Current eval. \t  Best eval. \t        Exact EI: StdDev. x \t Approx EI: StdDev. x \n",
            "init\t [ 2.84367268 -2.68757791]\t 15.30954934064491\t 7.271500601275535\t    \t    \n",
            "init\t [3.32061217 4.76927179]\t 33.772418600555795\t 7.271500601275535\t    \t    \n",
            "init\t [ 4.83943541 -0.47667971]\t 23.647358595121606\t 7.271500601275535\t    \t    \n",
            "init\t [1.11659482 2.82139151]\t 9.20703403927425\t 7.271500601275535\t    \t    \n",
            "init\t [1.45012065 2.27346667]\t 7.271500601275535\t 7.271500601275535\t    \t    \n",
            "1  \t [-4.10876704 -2.60547476]\t 23.670465283396044\t 7.271500601275535\t 3.0532147130708753\t 3.0988437564543267\n",
            "2  \t [-3.69153184  5.12      ]\t 39.84180735635964\t 7.271500601275535\t 3.068254844082413\t 3.548920657102279\n",
            "3  \t [-0.59462201 -5.12      ]\t 26.567975331219102\t 7.271500601275535\t 2.965812351956974\t 3.204735367735101\n",
            "\u001b[1m\u001b[92m4\u001b[0m\t \u001b[1m\u001b[92m[-2.36987646  1.04354129]\u001b[0m\t \u001b[1m\u001b[92m6.705292861685945\u001b[0m\t \u001b[1m\u001b[92m6.705292861685945\u001b[0m\t \u001b[1m\u001b[92m2.9894999902429493\u001b[0m\t \u001b[1m\u001b[92m3.0546932354176644\u001b[0m\n",
            "5  \t [ 5.12 -5.12]\t 52.4288\t 6.705292861685945\t 3.4459943636974666\t 3.876038479900793\n",
            "\u001b[1m\u001b[92m6\u001b[0m\t \u001b[1m\u001b[92m[-0.27733546 -1.27239961]\u001b[0m\t \u001b[1m\u001b[92m1.6959157119754171\u001b[0m\t \u001b[1m\u001b[92m1.6959157119754171\u001b[0m\t \u001b[1m\u001b[92m3.0271790129731078\u001b[0m\t \u001b[1m\u001b[92m2.866577063941325\u001b[0m\n",
            "7  \t [-5.12        1.50745004]\t 28.486805615895864\t 1.6959157119754171\t 2.9607238012882897\t 3.5562957893335385\n",
            "8  \t [-0.3147998  5.12     ]\t 26.3134989115488\t 1.6959157119754171\t 2.973710284567252\t 3.03342607681202\n",
            "9  \t [-5.12 -5.12]\t 52.4288\t 1.6959157119754171\t 2.868154603928931\t 3.103041001347906\n",
            "10 \t [5.12      2.4189757]\t 32.06584342446706\t 1.6959157119754171\t 2.6345605533481344\t 2.8979490020461594\n",
            "\u001b[1m\u001b[92m11\u001b[0m\t \u001b[1m\u001b[92m[ 1.28987873 -0.15559397]\u001b[0m\t \u001b[1m\u001b[92m1.6879966145382395\u001b[0m\t \u001b[1m\u001b[92m1.6879966145382395\u001b[0m\t \u001b[1m\u001b[92m2.9107481895034266\u001b[0m\t \u001b[1m\u001b[92m2.880690872831528\u001b[0m\n",
            "12 \t [-1.27515516 -2.0678178 ]\t 5.90189113094373\t 1.6879966145382395\t 2.6051339009380943\t 2.55700889830811\n",
            "\u001b[1m\u001b[92m13\u001b[0m\t \u001b[1m\u001b[92m[-0.17633281  0.28963594]\u001b[0m\t \u001b[1m\u001b[92m0.11498223970945792\u001b[0m\t \u001b[1m\u001b[92m0.11498223970945792\u001b[0m\t \u001b[1m\u001b[92m2.929638097589976\u001b[0m\t \u001b[1m\u001b[92m2.799122886759716\u001b[0m\n",
            "\u001b[1m\u001b[92m14\u001b[0m\t \u001b[1m\u001b[92m[-0.16507902  0.26890136]\u001b[0m\t \u001b[1m\u001b[92m0.09955902659770324\u001b[0m\t \u001b[1m\u001b[92m0.09955902659770324\u001b[0m\t \u001b[1m\u001b[92m2.45518406044557\u001b[0m\t \u001b[1m\u001b[92m2.0885790432664817\u001b[0m\n",
            "\u001b[1m\u001b[92m15\u001b[0m\t \u001b[1m\u001b[92m[-0.16066356  0.26112733]\u001b[0m\t \u001b[1m\u001b[92m0.09400026469712577\u001b[0m\t \u001b[1m\u001b[92m0.09400026469712577\u001b[0m\t \u001b[1m\u001b[92m2.8757887488241387\u001b[0m\t \u001b[1m\u001b[92m2.4050494117304657\u001b[0m\n",
            "\u001b[1m\u001b[92m16\u001b[0m\t \u001b[1m\u001b[92m[-0.15845373  0.25736977]\u001b[0m\t \u001b[1m\u001b[92m0.09134678599893901\u001b[0m\t \u001b[1m\u001b[92m0.09134678599893901\u001b[0m\t \u001b[1m\u001b[92m2.6272687535257004\u001b[0m\t \u001b[1m\u001b[92m2.441682513945871\u001b[0m\n",
            "\u001b[1m\u001b[92m17\u001b[0m\t \u001b[1m\u001b[92m[-0.15717999  0.25526604]\u001b[0m\t \u001b[1m\u001b[92m0.08986629845456387\u001b[0m\t \u001b[1m\u001b[92m0.08986629845456387\u001b[0m\t \u001b[1m\u001b[92m3.4571239166114007\u001b[0m\t \u001b[1m\u001b[92m3.4850676682310766\u001b[0m\n",
            "\u001b[1m\u001b[92m18\u001b[0m\t \u001b[1m\u001b[92m[-0.15637384  0.25396899]\u001b[0m\t \u001b[1m\u001b[92m0.08895302680593468\u001b[0m\t \u001b[1m\u001b[92m0.08895302680593468\u001b[0m\t \u001b[1m\u001b[92m2.2102322373214394\u001b[0m\t \u001b[1m\u001b[92m2.088674657209243\u001b[0m\n",
            "\u001b[1m\u001b[92m19\u001b[0m\t \u001b[1m\u001b[92m[-0.1558285   0.25311133]\u001b[0m\t \u001b[1m\u001b[92m0.08834786562005056\u001b[0m\t \u001b[1m\u001b[92m0.08834786562005056\u001b[0m\t \u001b[1m\u001b[92m2.949225866291557\u001b[0m\t \u001b[1m\u001b[92m2.666413709270823\u001b[0m\n",
            "\u001b[1m\u001b[92m20\u001b[0m\t \u001b[1m\u001b[92m[-0.15544031  0.25251747]\u001b[0m\t \u001b[1m\u001b[92m0.08792676140395406\u001b[0m\t \u001b[1m\u001b[92m0.08792676140395406\u001b[0m\t \u001b[1m\u001b[92m3.1596891849986357\u001b[0m\t \u001b[1m\u001b[92m3.12357684861263\u001b[0m\n"
          ]
        }
      ],
      "source": [
        "### ESTIMATED GP EI GRADIENTS\n",
        "\n",
        "np.random.seed(run_num_13)\n",
        "surrogate_approx_13 = dGaussianProcess(cov_func, optimize=opt)\n",
        "\n",
        "approx_13 = GPGO_multi(surrogate_approx_13, Acquisition_grad(util), objfunc, param)\n",
        "approx_13.run(init_evals=n_init, max_iter=iters)\n"
      ]
    },
    {
      "cell_type": "code",
      "execution_count": 26,
      "metadata": {
        "id": "ojHTeARNGCoi",
        "colab": {
          "base_uri": "https://localhost:8080/"
        },
        "outputId": "78d4aaec-5e2d-445f-fa7c-d7841cfe5b8a"
      },
      "outputs": [
        {
          "output_type": "stream",
          "name": "stdout",
          "text": [
            "Evaluation \t Proposed point \t  Current eval. \t  Best eval. \t        Exact EI: StdDev. x \t Approx EI: StdDev. x \n",
            "init\t [0.14277984 2.79721013]\t 7.844770612568215\t 3.480496204392171\t    \t    \n",
            "init\t [ 3.7931795  -5.03759925]\t 39.765616906968944\t 3.480496204392171\t    \t    \n",
            "init\t [-1.94830412  4.68586229]\t 25.753194366239512\t 3.480496204392171\t    \t    \n",
            "init\t [ 0.13431513 -1.86076749]\t 3.480496204392171\t 3.480496204392171\t    \t    \n",
            "init\t [ 0.40140736 -2.85434939]\t 8.308438305616814\t 3.480496204392171\t    \t    \n",
            "1  \t [-4.80213133 -4.31153952]\t 41.64983829336841\t 3.480496204392171\t 3.8400259412105604\t 3.7945970786431418\n",
            "2  \t [5.0187282  4.98604062]\t 50.048233788905506\t 3.480496204392171\t 3.707504701833349\t 3.939640019978396\n",
            "3  \t [-5.12        0.82504364]\t 26.895097010879343\t 3.480496204392171\t 2.6968582929683325\t 3.7421532164191964\n",
            "4  \t [ 5.12       -0.13884208]\t 26.233677124391313\t 3.480496204392171\t 2.943885611432247\t 3.3408185543249873\n",
            "\u001b[1m\u001b[92m5\u001b[0m\t \u001b[1m\u001b[92m[-1.65340757 -0.00223578]\u001b[0m\t \u001b[1m\u001b[92m2.7337615869575975\u001b[0m\t \u001b[1m\u001b[92m2.7337615869575975\u001b[0m\t \u001b[1m\u001b[92m2.6399349483492904\u001b[0m\t \u001b[1m\u001b[92m2.577279339827417\u001b[0m\n",
            "6  \t [-5.12  5.12]\t 52.4288\t 2.7337615869575975\t 2.803168258593079\t 2.8825775427143334\n",
            "7  \t [-1.31983549 -5.12      ]\t 27.95636572926477\t 2.7337615869575975\t 2.563858189147262\t 2.4584640433506513\n",
            "8  \t [1.71304457 0.20821424]\t 2.9778748818902376\t 2.7337615869575975\t 3.2493398008249312\t 2.831121478623093\n",
            "9  \t [1.56276592 5.12      ]\t 28.65663732105405\t 2.7337615869575975\t 2.935861190403802\t 2.94244844263902\n",
            "10 \t [-2.73250881 -1.79372862]\t 10.684066732503695\t 2.7337615869575975\t 2.6748338238723735\t 2.459182420910529\n",
            "11 \t [3.02987034 2.17910732]\t 13.928622964492309\t 2.7337615869575975\t 3.087082668778226\t 2.8430188775928715\n",
            "12 \t [ 2.77359613 -1.94993121]\t 11.495067229821268\t 2.7337615869575975\t 2.811296855999708\t 2.9580535556824414\n",
            "13 \t [-2.25799608  1.70243313]\t 7.9968248453591295\t 2.7337615869575975\t 2.7192606255455396\t 2.912277154578916\n",
            "\u001b[1m\u001b[92m14\u001b[0m\t \u001b[1m\u001b[92m[-0.00345743  0.04704604]\u001b[0m\t \u001b[1m\u001b[92m0.0022252840648847995\u001b[0m\t \u001b[1m\u001b[92m0.0022252840648847995\u001b[0m\t \u001b[1m\u001b[92m2.8821522395547112\u001b[0m\t \u001b[1m\u001b[92m2.792589290080315\u001b[0m\n",
            "\u001b[1m\u001b[92m15\u001b[0m\t \u001b[1m\u001b[92m[-0.0045919   0.04383626]\u001b[0m\t \u001b[1m\u001b[92m0.0019427035940869323\u001b[0m\t \u001b[1m\u001b[92m0.0019427035940869323\u001b[0m\t \u001b[1m\u001b[92m2.7648285088023123\u001b[0m\t \u001b[1m\u001b[92m2.636144942114863\u001b[0m\n",
            "\u001b[1m\u001b[92m16\u001b[0m\t \u001b[1m\u001b[92m[-0.0050356   0.04263492]\u001b[0m\t \u001b[1m\u001b[92m0.0018430938436871924\u001b[0m\t \u001b[1m\u001b[92m0.0018430938436871924\u001b[0m\t \u001b[1m\u001b[92m2.9154723153528757\u001b[0m\t \u001b[1m\u001b[92m2.9675184902149985\u001b[0m\n",
            "\u001b[1m\u001b[92m17\u001b[0m\t \u001b[1m\u001b[92m[-0.00526283  0.04203751]\u001b[0m\t \u001b[1m\u001b[92m0.0017948497646480945\u001b[0m\t \u001b[1m\u001b[92m0.0017948497646480945\u001b[0m\t \u001b[1m\u001b[92m2.8973075043844205\u001b[0m\t \u001b[1m\u001b[92m2.8490985315376465\u001b[0m\n",
            "\u001b[1m\u001b[92m18\u001b[0m\t \u001b[1m\u001b[92m[-0.00539738  0.04169101]\u001b[0m\t \u001b[1m\u001b[92m0.0017672720435068805\u001b[0m\t \u001b[1m\u001b[92m0.0017672720435068805\u001b[0m\t \u001b[1m\u001b[92m2.1189269361218237\u001b[0m\t \u001b[1m\u001b[92m2.0221194989640283\u001b[0m\n",
            "\u001b[1m\u001b[92m19\u001b[0m\t \u001b[1m\u001b[92m[-0.0054849   0.04146959]\u001b[0m\t \u001b[1m\u001b[92m0.00174981090584108\u001b[0m\t \u001b[1m\u001b[92m0.00174981090584108\u001b[0m\t \u001b[1m\u001b[92m2.9165990139565334\u001b[0m\t \u001b[1m\u001b[92m2.7425341631450078\u001b[0m\n",
            "\u001b[1m\u001b[92m20\u001b[0m\t \u001b[1m\u001b[92m[-0.0055457   0.04131797]\u001b[0m\t \u001b[1m\u001b[92m0.001737929144357524\u001b[0m\t \u001b[1m\u001b[92m0.001737929144357524\u001b[0m\t \u001b[1m\u001b[92m2.52506274137011\u001b[0m\t \u001b[1m\u001b[92m2.446871834555848\u001b[0m\n"
          ]
        }
      ],
      "source": [
        "### ESTIMATED GP EI GRADIENTS\n",
        "\n",
        "np.random.seed(run_num_14)\n",
        "surrogate_approx_14 = dGaussianProcess(cov_func, optimize=opt)\n",
        "\n",
        "approx_14 = GPGO_multi(surrogate_approx_14, Acquisition_grad(util), objfunc, param)\n",
        "approx_14.run(init_evals=n_init, max_iter=iters)\n"
      ]
    },
    {
      "cell_type": "code",
      "execution_count": 27,
      "metadata": {
        "id": "vCJzn4vWGCs3",
        "colab": {
          "base_uri": "https://localhost:8080/"
        },
        "outputId": "03fb1f03-abc2-493b-a66b-84ab5ae10e11"
      },
      "outputs": [
        {
          "output_type": "stream",
          "name": "stdout",
          "text": [
            "Evaluation \t Proposed point \t  Current eval. \t  Best eval. \t        Exact EI: StdDev. x \t Approx EI: StdDev. x \n",
            "init\t [ 3.57189322 -3.28810573]\t 23.57006045912445\t 5.383887924980681\t    \t    \n",
            "init\t [-4.56332069 -1.41784631]\t 22.834183843344235\t 5.383887924980681\t    \t    \n",
            "init\t [-2.29989449  0.3072023 ]\t 5.383887924980681\t 5.383887924980681\t    \t    \n",
            "init\t [-1.9873903  -2.00218256]\t 7.958455228543059\t 5.383887924980681\t    \t    \n",
            "init\t [-3.97576933 -2.5610341 ]\t 22.365637431409507\t 5.383887924980681\t    \t    \n",
            "1  \t [5.12 5.12]\t 52.4288\t 5.383887924980681\t 3.6268311811072125\t 3.721858191527722\n",
            "2  \t [-5.12        4.76091708]\t 48.88073146379702\t 5.383887924980681\t 2.9123848392279306\t 3.601470267170632\n",
            "3  \t [-0.01242886  5.12      ]\t 26.214554476647972\t 5.383887924980681\t 3.0721099410659276\t 3.2822859017809924\n",
            "4  \t [2.28786923 1.08382166]\t 6.409015018813981\t 5.383887924980681\t 2.792940764128972\t 2.8138951198072375\n",
            "5  \t [-0.11958936 -5.12      ]\t 26.228701615906857\t 5.383887924980681\t 3.28031673210757\t 3.2611338548031887\n",
            "6  \t [5.12      0.1261662]\t 26.23031790899054\t 5.383887924980681\t 3.0862844547442965\t 3.044241739979811\n",
            "\u001b[1m\u001b[92m7\u001b[0m\t \u001b[1m\u001b[92m[ 0.77799033 -1.35292033]\u001b[0m\t \u001b[1m\u001b[92m2.435662386426121\u001b[0m\t \u001b[1m\u001b[92m2.435662386426121\u001b[0m\t \u001b[1m\u001b[92m3.1892935618264753\u001b[0m\t \u001b[1m\u001b[92m2.725704639688925\u001b[0m\n",
            "8  \t [-5.12 -5.12]\t 52.4288\t 2.435662386426121\t 3.5030878351530035\t 3.420797326680559\n",
            "9  \t [-2.23280741  2.79570734]\t 12.801408447203162\t 2.435662386426121\t 2.306943062703079\t 2.4147145744979066\n",
            "10 \t [-5.12        1.46084817]\t 28.348477372263755\t 2.435662386426121\t 2.818431458954404\t 2.9394814208784936\n",
            "\u001b[1m\u001b[92m11\u001b[0m\t \u001b[1m\u001b[92m[-0.0096145   1.04811529]\u001b[0m\t \u001b[1m\u001b[92m1.0986380966410485\u001b[0m\t \u001b[1m\u001b[92m1.0986380966410485\u001b[0m\t \u001b[1m\u001b[92m2.6565246492728156\u001b[0m\t \u001b[1m\u001b[92m2.8364436957977346\u001b[0m\n",
            "12 \t [2.40969214 3.37957487]\t 17.228142545308774\t 1.0986380966410485\t 2.733680922254239\t 2.9526857160118336\n",
            "13 \t [0.06053006 1.73351351]\t 3.008732989784581\t 1.0986380966410485\t 3.2636784067353983\t 3.3845740267933735\n",
            "14 \t [ 5.12 -5.12]\t 52.4288\t 1.0986380966410485\t 2.8210586850009465\t 3.136422680409744\n",
            "\u001b[1m\u001b[92m15\u001b[0m\t \u001b[1m\u001b[92m[-0.08636322 -0.09205123]\u001b[0m\t \u001b[1m\u001b[92m0.015932033869422192\u001b[0m\t \u001b[1m\u001b[92m0.015932033869422192\u001b[0m\t \u001b[1m\u001b[92m2.14761692010088\u001b[0m\t \u001b[1m\u001b[92m2.5292928050703836\u001b[0m\n",
            "\u001b[1m\u001b[92m16\u001b[0m\t \u001b[1m\u001b[92m[-0.08313199 -0.08706296]\u001b[0m\t \u001b[1m\u001b[92m0.014490886672503249\u001b[0m\t \u001b[1m\u001b[92m0.014490886672503249\u001b[0m\t \u001b[1m\u001b[92m3.168111477562523\u001b[0m\t \u001b[1m\u001b[92m3.2775577222499708\u001b[0m\n",
            "\u001b[1m\u001b[92m17\u001b[0m\t \u001b[1m\u001b[92m[-0.08195098 -0.0851577 ]\u001b[0m\t \u001b[1m\u001b[92m0.01396779725690717\u001b[0m\t \u001b[1m\u001b[92m0.01396779725690717\u001b[0m\t \u001b[1m\u001b[92m2.4447663138488105\u001b[0m\t \u001b[1m\u001b[92m2.5179862784440554\u001b[0m\n",
            "\u001b[1m\u001b[92m18\u001b[0m\t \u001b[1m\u001b[92m[-0.08136132 -0.08418698]\u001b[0m\t \u001b[1m\u001b[92m0.013707113541706516\u001b[0m\t \u001b[1m\u001b[92m0.013707113541706516\u001b[0m\t \u001b[1m\u001b[92m2.930279246327106\u001b[0m\t \u001b[1m\u001b[92m3.0265850313450158\u001b[0m\n",
            "\u001b[1m\u001b[92m19\u001b[0m\t \u001b[1m\u001b[92m[-0.08102082 -0.08360444]\u001b[0m\t \u001b[1m\u001b[92m0.013554074910322619\u001b[0m\t \u001b[1m\u001b[92m0.013554074910322619\u001b[0m\t \u001b[1m\u001b[92m3.0491440272449086\u001b[0m\t \u001b[1m\u001b[92m3.1062398075348603\u001b[0m\n",
            "\u001b[1m\u001b[92m20\u001b[0m\t \u001b[1m\u001b[92m[-0.08080035 -0.08322494]\u001b[0m\t \u001b[1m\u001b[92m0.01345508712354283\u001b[0m\t \u001b[1m\u001b[92m0.01345508712354283\u001b[0m\t \u001b[1m\u001b[92m2.541517294333771\u001b[0m\t \u001b[1m\u001b[92m2.730182810079181\u001b[0m\n"
          ]
        }
      ],
      "source": [
        "### ESTIMATED GP EI GRADIENTS\n",
        "\n",
        "np.random.seed(run_num_15)\n",
        "surrogate_approx_15 = dGaussianProcess(cov_func, optimize=opt)\n",
        "\n",
        "approx_15 = GPGO_multi(surrogate_approx_15, Acquisition_grad(util), objfunc, param)\n",
        "approx_15.run(init_evals=n_init, max_iter=iters)\n"
      ]
    },
    {
      "cell_type": "code",
      "execution_count": 28,
      "metadata": {
        "id": "bGGkhp-kGCw6",
        "colab": {
          "base_uri": "https://localhost:8080/"
        },
        "outputId": "c5cd13e2-3b6d-4efa-e5b2-e8e69ac3865c"
      },
      "outputs": [
        {
          "output_type": "stream",
          "name": "stdout",
          "text": [
            "Evaluation \t Proposed point \t  Current eval. \t  Best eval. \t        Exact EI: StdDev. x \t Approx EI: StdDev. x \n",
            "init\t [-2.83349935  0.23719262]\t 8.084978900492077\t 8.084978900492077\t    \t    \n",
            "init\t [ 0.51918292 -4.65303603]\t 21.92029520206884\t 8.084978900492077\t    \t    \n",
            "init\t [-1.42613673 -2.83565116]\t 10.074783446012654\t 8.084978900492077\t    \t    \n",
            "init\t [ 1.9325559  -3.44339021]\t 15.591708419712269\t 8.084978900492077\t    \t    \n",
            "init\t [-4.39987336  4.51595121]\t 39.75270093978162\t 8.084978900492077\t    \t    \n",
            "1  \t [2.83129877 5.12      ]\t 34.23065270942368\t 8.084978900492077\t 3.563205465087404\t 3.6174225241180715\n",
            "2  \t [5.12       0.42509821]\t 26.395108490220043\t 8.084978900492077\t 3.3095812871832018\t 3.2256755203783145\n",
            "3  \t [-5.12 -5.12]\t 52.4288\t 8.084978900492077\t 3.4151240776085343\t 3.595946879436693\n",
            "\u001b[1m\u001b[92m4\u001b[0m\t \u001b[1m\u001b[92m[0.93098764 1.14344631]\u001b[0m\t \u001b[1m\u001b[92m2.1742074560978004\u001b[0m\t \u001b[1m\u001b[92m2.1742074560978004\u001b[0m\t \u001b[1m\u001b[92m2.8810953040020957\u001b[0m\t \u001b[1m\u001b[92m3.129011655427146\u001b[0m\n",
            "5  \t [-0.70627765  3.72196518]\t 14.351852933725974\t 2.1742074560978004\t 2.918880881558794\t 3.1336138986729467\n",
            "6  \t [ 5.12 -5.12]\t 52.4288\t 2.1742074560978004\t 3.1583735637001498\t 3.617633573019689\n",
            "7  \t [-5.12       -1.45579447]\t 28.333737544743975\t 2.1742074560978004\t 2.9102595726193483\t 2.716754482465368\n",
            "8  \t [ 1.94024331 -0.56194682]\t 4.080328314381941\t 2.1742074560978004\t 2.5542912600201584\t 2.622716100416273\n",
            "9  \t [5.12       3.38971748]\t 37.70458457126033\t 2.1742074560978004\t 3.2350974656376428\t 3.3131023515417675\n",
            "10 \t [-5.12        1.57255105]\t 28.687316809400254\t 2.1742074560978004\t 3.131513481652983\t 3.384127855950088\n",
            "\u001b[1m\u001b[92m11\u001b[0m\t \u001b[1m\u001b[92m[-0.37764425 -0.25804859]\u001b[0m\t \u001b[1m\u001b[92m0.20920425224285422\u001b[0m\t \u001b[1m\u001b[92m0.20920425224285422\u001b[0m\t \u001b[1m\u001b[92m3.12804043670435\u001b[0m\t \u001b[1m\u001b[92m3.141727532852333\u001b[0m\n",
            "\u001b[1m\u001b[92m12\u001b[0m\t \u001b[1m\u001b[92m[-0.37912698 -0.23383725]\u001b[0m\t \u001b[1m\u001b[92m0.1984171216028484\u001b[0m\t \u001b[1m\u001b[92m0.1984171216028484\u001b[0m\t \u001b[1m\u001b[92m3.1385687737942485\u001b[0m\t \u001b[1m\u001b[92m3.2752726404952015\u001b[0m\n",
            "13 \t [-0.52869554  0.55216212]\t 0.5844019845548727\t 0.1984171216028484\t 2.553747976800592\t 2.53248592971875\n",
            "14 \t [2.18452986 2.03122095]\t 8.89802923102771\t 0.1984171216028484\t 2.5886895521248814\t 2.4766610251080214\n",
            "15 \t [-0.17390691 -0.47512333]\t 0.2559857937303339\t 0.1984171216028484\t 2.6687348058371767\t 2.5416066288237396\n",
            "\u001b[1m\u001b[92m16\u001b[0m\t \u001b[1m\u001b[92m[-0.2301306  -0.28918695]\u001b[0m\t \u001b[1m\u001b[92m0.13658918428232508\u001b[0m\t \u001b[1m\u001b[92m0.13658918428232508\u001b[0m\t \u001b[1m\u001b[92m2.609617573304365\u001b[0m\t \u001b[1m\u001b[92m2.6053725698492762\u001b[0m\n",
            "\u001b[1m\u001b[92m17\u001b[0m\t \u001b[1m\u001b[92m[-0.23989377 -0.25729154]\u001b[0m\t \u001b[1m\u001b[92m0.12374795877328434\u001b[0m\t \u001b[1m\u001b[92m0.12374795877328434\u001b[0m\t \u001b[1m\u001b[92m3.0348519638146394\u001b[0m\t \u001b[1m\u001b[92m3.0961582650277633\u001b[0m\n",
            "\u001b[1m\u001b[92m18\u001b[0m\t \u001b[1m\u001b[92m[-0.24489906 -0.2442148 ]\u001b[0m\t \u001b[1m\u001b[92m0.11961641759893742\u001b[0m\t \u001b[1m\u001b[92m0.11961641759893742\u001b[0m\t \u001b[1m\u001b[92m2.6392173487574273\u001b[0m\t \u001b[1m\u001b[92m2.7377538041739387\u001b[0m\n",
            "\u001b[1m\u001b[92m19\u001b[0m\t \u001b[1m\u001b[92m[-0.24800034 -0.23835636]\u001b[0m\t \u001b[1m\u001b[92m0.11831792521743487\u001b[0m\t \u001b[1m\u001b[92m0.11831792521743487\u001b[0m\t \u001b[1m\u001b[92m2.6697487187450335\u001b[0m\t \u001b[1m\u001b[92m2.8096650775195324\u001b[0m\n",
            "\u001b[1m\u001b[92m20\u001b[0m\t \u001b[1m\u001b[92m[-0.25012887 -0.23563959]\u001b[0m\t \u001b[1m\u001b[92m0.11809046569195339\u001b[0m\t \u001b[1m\u001b[92m0.11809046569195339\u001b[0m\t \u001b[1m\u001b[92m3.0545989201202404\u001b[0m\t \u001b[1m\u001b[92m3.229049284237831\u001b[0m\n"
          ]
        }
      ],
      "source": [
        "### ESTIMATED GP EI GRADIENTS\n",
        "\n",
        "np.random.seed(run_num_16)\n",
        "surrogate_approx_16 = dGaussianProcess(cov_func, optimize=opt)\n",
        "\n",
        "approx_16 = GPGO_multi(surrogate_approx_16, Acquisition_grad(util), objfunc, param)\n",
        "approx_16.run(init_evals=n_init, max_iter=iters)\n"
      ]
    },
    {
      "cell_type": "code",
      "execution_count": 29,
      "metadata": {
        "id": "Yrs2mp7hGC1Z",
        "colab": {
          "base_uri": "https://localhost:8080/"
        },
        "outputId": "98f0d8d6-04e9-499b-d8d6-a6e1dd137412"
      },
      "outputs": [
        {
          "output_type": "stream",
          "name": "stdout",
          "text": [
            "Evaluation \t Proposed point \t  Current eval. \t  Best eval. \t        Exact EI: StdDev. x \t Approx EI: StdDev. x \n",
            "init\t [-2.10263037  0.31320838]\t 4.519153970964611\t 2.5824114132885994\t    \t    \n",
            "init\t [-3.15882714 -4.42470033]\t 29.556161939946307\t 2.5824114132885994\t    \t    \n",
            "init\t [2.93873111 1.60085526]\t 11.198878112253603\t 2.5824114132885994\t    \t    \n",
            "init\t [1.40821398 0.77417363]\t 2.5824114132885994\t 2.5824114132885994\t    \t    \n",
            "init\t [-4.71999574 -1.45598869]\t 24.39826283453718\t 2.5824114132885994\t    \t    \n",
            "1  \t [ 4.96008736 -4.44720822]\t 44.38012757656366\t 2.5824114132885994\t 3.5265385281530786\t 4.270374135697341\n",
            "2  \t [-5.12  5.12]\t 52.4288\t 2.5824114132885994\t 3.188495964090029\t 3.4253519200600118\n",
            "3  \t [-0.07230436  5.12      ]\t 26.21962792071718\t 2.5824114132885994\t 3.5392448294457317\t 3.319984524174325\n",
            "4  \t [5.12 5.12]\t 52.4288\t 2.5824114132885994\t 3.644895140657953\t 3.7833450126301247\n",
            "5  \t [ 0.85279436 -2.81535848]\t 8.653501575763329\t 2.5824114132885994\t 2.7447807026918585\t 2.849913307282806\n",
            "6  \t [ 5.12       -0.72474802]\t 26.739659698849387\t 2.5824114132885994\t 2.7020671145923085\t 2.8283234923980225\n",
            "7  \t [-5.12        1.69826121]\t 29.098491120413065\t 2.5824114132885994\t 2.662082775618096\t 2.7449092978415237\n",
            "8  \t [ 0.12986365 -5.12      ]\t 26.231264567467715\t 2.5824114132885994\t 3.1287150925775067\t 2.8413473738032726\n",
            "9  \t [-0.40429767  2.003042  ]\t 4.175633879694708\t 2.5824114132885994\t 3.323407041095766\t 3.0890028535206038\n",
            "10 \t [-2.39651346  3.16344524]\t 15.750662558751301\t 2.5824114132885994\t 2.4377536103895556\t 2.5770134538771226\n",
            "11 \t [-1.36534599 -1.70276089]\t 4.7635643231565865\t 2.5824114132885994\t 3.422145097264287\t 3.215171848061148\n",
            "\u001b[1m\u001b[92m12\u001b[0m\t \u001b[1m\u001b[92m[ 0.60758362 -0.35744483]\u001b[0m\t \u001b[1m\u001b[92m0.49692465623547666\u001b[0m\t \u001b[1m\u001b[92m0.49692465623547666\u001b[0m\t \u001b[1m\u001b[92m2.9810183862177917\u001b[0m\t \u001b[1m\u001b[92m3.0624655872326176\u001b[0m\n",
            "13 \t [ 2.08503152 -0.95669779]\t 5.26262711399288\t 0.49692465623547666\t 2.6545456298673056\t 2.683658877933158\n",
            "\u001b[1m\u001b[92m14\u001b[0m\t \u001b[1m\u001b[92m[0.07679313 0.00335902]\u001b[0m\t \u001b[1m\u001b[92m0.005908467810655367\u001b[0m\t \u001b[1m\u001b[92m0.005908467810655367\u001b[0m\t \u001b[1m\u001b[92m2.8883471153503177\u001b[0m\t \u001b[1m\u001b[92m2.8314512185708964\u001b[0m\n",
            "15 \t [ 8.26001771e-02 -3.08247557e-05]\t 0.006822790215059623\t 0.005908467810655367\t 2.564220572509419\t 2.911970411516385\n",
            "16 \t [ 0.08515663 -0.00151537]\t 0.007253947944850686\t 0.005908467810655367\t 2.682040290836215\t 2.439974342913525\n",
            "17 \t [ 0.08657559 -0.00233491]\t 0.007500784054881699\t 0.005908467810655367\t 2.4346257656068757\t 2.8675283469005737\n",
            "18 \t [ 0.08747104 -0.0028505 ]\t 0.0076593082629156225\t 0.005908467810655367\t 2.8385642571646383\t 2.9086046166701225\n",
            "19 \t [ 0.0880872  -0.00320254]\t 0.0077696115992179505\t 0.005908467810655367\t 2.677936232909861\t 2.937425301282164\n",
            "20 \t [ 0.08853635 -0.00345849]\t 0.007850645956776493\t 0.005908467810655367\t 2.8984848193242234\t 2.860877862646947\n"
          ]
        }
      ],
      "source": [
        "### ESTIMATED GP EI GRADIENTS\n",
        "\n",
        "np.random.seed(run_num_17)\n",
        "surrogate_approx_17 = dGaussianProcess(cov_func, optimize=opt)\n",
        "\n",
        "approx_17 = GPGO_multi(surrogate_approx_17, Acquisition_grad(util), objfunc, param)\n",
        "approx_17.run(init_evals=n_init, max_iter=iters)\n"
      ]
    },
    {
      "cell_type": "code",
      "execution_count": 30,
      "metadata": {
        "id": "f0HIEP3PIUEa",
        "colab": {
          "base_uri": "https://localhost:8080/"
        },
        "outputId": "8e25c2a0-605f-4c4b-f574-a8b657c01515"
      },
      "outputs": [
        {
          "output_type": "stream",
          "name": "stdout",
          "text": [
            "Evaluation \t Proposed point \t  Current eval. \t  Best eval. \t        Exact EI: StdDev. x \t Approx EI: StdDev. x \n",
            "init\t [1.53983224 0.05584255]\t 2.3742017032787373\t 2.3742017032787373\t    \t    \n",
            "init\t [ 3.87687906 -3.25795609]\t 25.644469161882945\t 2.3742017032787373\t    \t    \n",
            "init\t [3.60686662 2.56139557]\t 19.570234102364928\t 2.3742017032787373\t    \t    \n",
            "init\t [1.70088108 4.99604939]\t 27.853505942237412\t 2.3742017032787373\t    \t    \n",
            "init\t [-2.48864335 -4.83014733]\t 29.523668919355142\t 2.3742017032787373\t    \t    \n",
            "1  \t [-5.12        2.45238392]\t 32.228586914144365\t 2.3742017032787373\t 3.1207138130122365\t 3.696046577094346\n",
            "2  \t [-2.04721775 -0.54047181]\t 4.483210300083269\t 2.3742017032787373\t 2.6122895646681945\t 2.5590793004629147\n",
            "3  \t [-5.12       -1.86903584]\t 29.707694961288407\t 2.3742017032787373\t 2.929321014862238\t 3.114479992682161\n",
            "4  \t [-2.25562474  5.12      ]\t 31.302242986414406\t 2.3742017032787373\t 2.979085302015675\t 3.3516966796355194\n",
            "5  \t [ 1.0136057 -5.12     ]\t 27.241796523779914\t 2.3742017032787373\t 2.826913746473406\t 2.9181167076900665\n",
            "6  \t [-0.4819196   1.97688757]\t 4.14033095702547\t 2.3742017032787373\t 2.923665495049913\t 3.133447689280939\n",
            "7  \t [ 5.12       -0.22274103]\t 26.264013567951146\t 2.3742017032787373\t 3.178104842739997\t 3.118360134102748\n",
            "8  \t [5.12 5.12]\t 52.4288\t 2.3742017032787373\t 2.8269628293788958\t 3.2896281715170366\n",
            "9  \t [ 0.21822888 -1.9369233 ]\t 3.79929570345391\t 2.3742017032787373\t 2.873845902134706\t 3.0532112003633807\n",
            "10 \t [-5.12 -5.12]\t 52.4288\t 2.3742017032787373\t 3.1093665405312025\t 3.3592649147570697\n",
            "11 \t [-5.12  5.12]\t 52.4288\t 2.3742017032787373\t 2.9708881065513144\t 2.916600273696152\n",
            "12 \t [-2.37013674  1.61119126]\t 8.213485464542943\t 2.3742017032787373\t 2.550065628374967\t 2.653426501280289\n",
            "13 \t [ 5.12 -5.12]\t 52.4288\t 2.3742017032787373\t 2.8769358968202243\t 2.7270128910674534\n",
            "14 \t [ 2.10660443 -1.15089   ]\t 5.762330030291093\t 2.3742017032787373\t 2.464827211388391\t 2.256739077148663\n",
            "15 \t [1.11785244 1.38234217]\t 3.160463946072165\t 2.3742017032787373\t 2.7602679884549426\t 2.6250186718331006\n",
            "16 \t [-1.61392061 -2.23412959]\t 7.5960747810444325\t 2.3742017032787373\t 2.525887512871767\t 2.506435064862988\n",
            "\u001b[1m\u001b[92m17\u001b[0m\t \u001b[1m\u001b[92m[-0.08842678 -0.01660331]\u001b[0m\t \u001b[1m\u001b[92m0.008094964908594843\u001b[0m\t \u001b[1m\u001b[92m0.008094964908594843\u001b[0m\t \u001b[1m\u001b[92m3.454560826935763\u001b[0m\t \u001b[1m\u001b[92m3.228783322443615\u001b[0m\n",
            "18 \t [-0.08849039 -0.0166094 ]\t 0.008106420684458939\t 0.008094964908594843\t 2.95156241388243\t 2.8207678049942726\n",
            "19 \t [-0.08867323 -0.01662644]\t 0.008139379851002437\t 0.008094964908594843\t 2.76850646232941\t 2.6232814799535165\n",
            "20 \t [-0.08882018 -0.01663959]\t 0.008165899422918104\t 0.008094964908594843\t 2.834335857073904\t 2.7888728084116527\n"
          ]
        }
      ],
      "source": [
        "### ESTIMATED GP EI GRADIENTS\n",
        "\n",
        "np.random.seed(run_num_18)\n",
        "surrogate_approx_18 = dGaussianProcess(cov_func, optimize=opt)\n",
        "\n",
        "approx_18 = GPGO_multi(surrogate_approx_18, Acquisition_grad(util), objfunc, param)\n",
        "approx_18.run(init_evals=n_init, max_iter=iters)\n"
      ]
    },
    {
      "cell_type": "code",
      "execution_count": 31,
      "metadata": {
        "id": "S3mxRQDLIUPC",
        "colab": {
          "base_uri": "https://localhost:8080/"
        },
        "outputId": "0baf1f9a-ab81-4506-d0bc-cd39f212d3ea"
      },
      "outputs": [
        {
          "output_type": "stream",
          "name": "stdout",
          "text": [
            "Evaluation \t Proposed point \t  Current eval. \t  Best eval. \t        Exact EI: StdDev. x \t Approx EI: StdDev. x \n",
            "init\t [-4.12125592  2.6751971 ]\t 24.141429859518958\t 12.957869519084127\t    \t    \n",
            "init\t [-2.59135515 -3.70553152]\t 20.446085385698954\t 12.957869519084127\t    \t    \n",
            "init\t [-1.72598719 -4.27008445]\t 21.212653034418548\t 12.957869519084127\t    \t    \n",
            "init\t [1.76104531 3.13952049]\t 12.957869519084127\t 12.957869519084127\t    \t    \n",
            "init\t [4.9432772  1.38916592]\t 26.36577149009895\t 12.957869519084127\t    \t    \n",
            "1  \t [ 5.12       -4.68768694]\t 48.188808813073365\t 12.957869519084127\t 3.581359316945775\t 4.378859899613629\n",
            "\u001b[1m\u001b[92m2\u001b[0m\t \u001b[1m\u001b[92m[ 1.47881359 -1.38363932]\u001b[0m\t \u001b[1m\u001b[92m4.101347412748054\u001b[0m\t \u001b[1m\u001b[92m4.101347412748054\u001b[0m\t \u001b[1m\u001b[92m3.4574000598515533\u001b[0m\t \u001b[1m\u001b[92m3.367345591576622\u001b[0m\n",
            "3  \t [5.12 5.12]\t 52.4288\t 4.101347412748054\t 3.169324777595818\t 3.2817157559959353\n",
            "4  \t [-5.12       -1.05768127]\t 27.333089670096577\t 4.101347412748054\t 3.024705488448154\t 3.105420896564976\n",
            "5  \t [-1.25760048  5.12      ]\t 27.795958959660503\t 4.101347412748054\t 2.702045533545858\t 3.2496644099910657\n",
            "\u001b[1m\u001b[92m6\u001b[0m\t \u001b[1m\u001b[92m[-1.17869162  0.3470477 ]\u001b[0m\t \u001b[1m\u001b[92m1.5097560320313395\u001b[0m\t \u001b[1m\u001b[92m1.5097560320313395\u001b[0m\t \u001b[1m\u001b[92m3.103157443556129\u001b[0m\t \u001b[1m\u001b[92m3.193019072488167\u001b[0m\n",
            "7  \t [ 1.48880198 -5.12      ]\t 28.430931329508944\t 1.5097560320313395\t 3.045315958725154\t 3.250877714827953\n",
            "8  \t [-5.12 -5.12]\t 52.4288\t 1.5097560320313395\t 2.789712203211089\t 2.698644130316723\n",
            "9  \t [ 4.00639239 -1.57841724]\t 18.542581016785974\t 1.5097560320313395\t 2.7494802990862244\t 3.3991397892319424\n",
            "10 \t [-5.12  5.12]\t 52.4288\t 1.5097560320313395\t 3.0471813287003524\t 3.258107410525721\n",
            "11 \t [-0.8740544   1.90724415]\t 4.401551318243851\t 1.5097560320313395\t 2.3612341157752628\t 2.2217053221474368\n",
            "12 \t [-1.03265758 -1.11626804]\t 2.3124360253747804\t 1.5097560320313395\t 2.8374141564623163\t 2.234896948080123\n",
            "13 \t [1.25103942 0.54829483]\t 1.8657268501783257\t 1.5097560320313395\t 2.9379617772396913\t 2.592386990064127\n",
            "14 \t [-2.44659929  0.03663908]\t 5.9871905119477145\t 1.5097560320313395\t 2.488828005585944\t 2.392068795034763\n",
            "\u001b[1m\u001b[92m15\u001b[0m\t \u001b[1m\u001b[92m[0.02639624 0.03053899]\u001b[0m\t \u001b[1m\u001b[92m0.0016293914560172051\u001b[0m\t \u001b[1m\u001b[92m0.0016293914560172051\u001b[0m\t \u001b[1m\u001b[92m2.8199967331543854\u001b[0m\t \u001b[1m\u001b[92m2.7741879147454367\u001b[0m\n",
            "16 \t [0.02633108 0.03063087]\t 0.0016315761165614424\t 0.0016293914560172051\t 2.6496905081086464\t 2.359781134119692\n",
            "17 \t [0.02640823 0.03052871]\t 0.0016293968851462835\t 0.0016293914560172051\t 2.6332441218148066\t 2.097066021788569\n",
            "\u001b[1m\u001b[92m18\u001b[0m\t \u001b[1m\u001b[92m[0.02648745 0.03042503]\u001b[0m\t \u001b[1m\u001b[92m0.0016272676481845466\u001b[0m\t \u001b[1m\u001b[92m0.0016272676481845466\u001b[0m\t \u001b[1m\u001b[92m2.9202764287503973\u001b[0m\t \u001b[1m\u001b[92m2.5119270649190453\u001b[0m\n",
            "\u001b[1m\u001b[92m19\u001b[0m\t \u001b[1m\u001b[92m[0.02655258 0.03033905]\u001b[0m\t \u001b[1m\u001b[92m0.0016254975299568979\u001b[0m\t \u001b[1m\u001b[92m0.0016254975299568979\u001b[0m\t \u001b[1m\u001b[92m2.246890134356023\u001b[0m\t \u001b[1m\u001b[92m2.1849956890912026\u001b[0m\n",
            "\u001b[1m\u001b[92m20\u001b[0m\t \u001b[1m\u001b[92m[0.0266055 0.0302693]\u001b[0m\t \u001b[1m\u001b[92m0.0016240832025811362\u001b[0m\t \u001b[1m\u001b[92m0.0016240832025811362\u001b[0m\t \u001b[1m\u001b[92m2.706492012694498\u001b[0m\t \u001b[1m\u001b[92m2.4036898148585757\u001b[0m\n"
          ]
        }
      ],
      "source": [
        "### ESTIMATED GP EI GRADIENTS\n",
        "\n",
        "np.random.seed(run_num_19)\n",
        "surrogate_approx_19 = dGaussianProcess(cov_func, optimize=opt)\n",
        "\n",
        "approx_19 = GPGO_multi(surrogate_approx_19, Acquisition_grad(util), objfunc, param)\n",
        "approx_19.run(init_evals=n_init, max_iter=iters)\n"
      ]
    },
    {
      "cell_type": "code",
      "execution_count": 32,
      "metadata": {
        "id": "Aawd59dRIUYn",
        "colab": {
          "base_uri": "https://localhost:8080/"
        },
        "outputId": "293723d3-c457-47b2-bbce-2bd1c03d0593"
      },
      "outputs": [
        {
          "output_type": "stream",
          "name": "stdout",
          "text": [
            "Evaluation \t Proposed point \t  Current eval. \t  Best eval. \t        Exact EI: StdDev. x \t Approx EI: StdDev. x \n",
            "init\t [0.9024594  4.07258857]\t 17.400410665504328\t 1.579257056101869\t    \t    \n",
            "init\t [4.00927467 3.23417577]\t 26.53417627399789\t 1.579257056101869\t    \t    \n",
            "init\t [-4.75249064  1.96359764]\t 26.44188299535699\t 1.579257056101869\t    \t    \n",
            "init\t [-1.24230715  0.18955208]\t 1.579257056101869\t 1.579257056101869\t    \t    \n",
            "init\t [ 1.61742301 -3.13497377]\t 12.44411771617229\t 1.579257056101869\t    \t    \n",
            "1  \t [-3.43642144 -5.12      ]\t 38.02339231335999\t 1.579257056101869\t 3.032275020366754\t 2.852782274088817\n",
            "2  \t [ 5.12 -5.12]\t 52.4288\t 1.579257056101869\t 2.9292540641325178\t 3.798104382620611\n",
            "3  \t [ 5.12       -0.75178202]\t 26.779576205551827\t 1.579257056101869\t 2.6541731098324375\t 3.1109704230989177\n",
            "4  \t [-2.73893851  5.12      ]\t 33.71618417131032\t 1.579257056101869\t 3.115019853684389\t 3.1015959285173875\n",
            "5  \t [-5.12       -1.72983973]\t 29.206745486724564\t 1.579257056101869\t 2.9477676835624016\t 3.262228170373021\n",
            "6  \t [1.4712339  0.39169497]\t 2.3179541486564186\t 1.579257056101869\t 3.1056563174692093\t 3.07754162760566\n",
            "7  \t [-1.44437749 -2.14519603]\t 6.688092365115925\t 1.579257056101869\t 3.365354430615883\t 3.1844465133226043\n",
            "8  \t [-0.1639874 -5.12     ]\t 26.241291866856375\t 1.579257056101869\t 2.9521460005064015\t 3.237053286011778\n",
            "9  \t [-1.35274996  1.95914721]\t 5.668190222348217\t 1.579257056101869\t 3.067334631114565\t 3.0211915469414166\n",
            "\u001b[1m\u001b[92m10\u001b[0m\t \u001b[1m\u001b[92m[ 0.26401091 -0.53569061]\u001b[0m\t \u001b[1m\u001b[92m0.3566661914824065\u001b[0m\t \u001b[1m\u001b[92m0.3566661914824065\u001b[0m\t \u001b[1m\u001b[92m2.817004299879122\u001b[0m\t \u001b[1m\u001b[92m2.76385830861271\u001b[0m\n",
            "11 \t [-2.60058744 -0.10521188]\t 6.774124594490317\t 0.3566661914824065\t 3.019087741327319\t 2.6125218872412264\n",
            "\u001b[1m\u001b[92m12\u001b[0m\t \u001b[1m\u001b[92m[ 0.00838284 -0.12502976]\u001b[0m\t \u001b[1m\u001b[92m0.01570271270964126\u001b[0m\t \u001b[1m\u001b[92m0.01570271270964126\u001b[0m\t \u001b[1m\u001b[92m3.1724202344387527\u001b[0m\t \u001b[1m\u001b[92m3.361401018014502\u001b[0m\n",
            "13 \t [ 0.01315643 -0.14293326]\t 0.020603009715255388\t 0.01570271270964126\t 3.306461987223364\t 3.456999974931135\n",
            "14 \t [ 0.01579688 -0.15188553]\t 0.02331875577721182\t 0.01570271270964126\t 2.5784752963802453\t 2.4345132860452052\n",
            "15 \t [ 0.01744127 -0.15713765]\t 0.02499643782366516\t 0.01570271270964126\t 2.61185591563811\t 2.64169517296961\n",
            "16 \t [ 0.01854736 -0.16052366]\t 0.02611184977190509\t 0.01570271270964126\t 3.191680800920489\t 3.144757058585485\n",
            "17 \t [ 0.01933423 -0.16285691]\t 0.026896186826373618\t 0.01570271270964126\t 3.019005963917628\t 2.8410311347980883\n",
            "18 \t [ 0.01991736 -0.16454194]\t 0.02747075044840375\t 0.01570271270964126\t 3.12495174471891\t 3.2343423604153037\n",
            "19 \t [ 0.02036502 -0.16580077]\t 0.02790463053566035\t 0.01570271270964126\t 2.90575880904913\t 2.764575890537997\n",
            "20 \t [ 0.0207139  -0.16676661]\t 0.028240168885314606\t 0.01570271270964126\t 2.7092085465847835\t 2.810224724845248\n"
          ]
        }
      ],
      "source": [
        "### ESTIMATED GP EI GRADIENTS\n",
        "\n",
        "np.random.seed(run_num_20)\n",
        "surrogate_approx_20 = dGaussianProcess(cov_func, optimize=opt)\n",
        "\n",
        "approx_20 = GPGO_multi(surrogate_approx_20, Acquisition_grad(util), objfunc, param)\n",
        "approx_20.run(init_evals=n_init, max_iter=iters)\n"
      ]
    },
    {
      "cell_type": "code",
      "execution_count": 33,
      "metadata": {
        "id": "xkgzPRbBTHaq",
        "colab": {
          "base_uri": "https://localhost:8080/"
        },
        "outputId": "f7013ff1-10cc-4e3a-f86a-b4c7f6b61a1a"
      },
      "outputs": [
        {
          "output_type": "execute_result",
          "data": {
            "text/plain": [
              "1659621299.6397238"
            ]
          },
          "metadata": {},
          "execution_count": 33
        }
      ],
      "source": [
        "end_approx = time.time()\n",
        "end_approx\n",
        "\n",
        "time_approx = end_approx - start_approx\n",
        "time_approx\n",
        "\n",
        "start_exact = time.time()\n",
        "start_exact"
      ]
    },
    {
      "cell_type": "code",
      "execution_count": 34,
      "metadata": {
        "id": "7CG3Ndvb16Rb",
        "colab": {
          "base_uri": "https://localhost:8080/"
        },
        "outputId": "ed0fa0ea-975e-4f3b-9a5d-418f4ffffb4a"
      },
      "outputs": [
        {
          "output_type": "stream",
          "name": "stdout",
          "text": [
            "Evaluation \t Proposed point \t  Current eval. \t  Best eval. \t        Exact EI: StdDev. x \t Approx EI: StdDev. x \n",
            "init\t [-0.84969467  2.25612281]\t 5.812071182014687\t 1.275455677703416\t    \t    \n",
            "init\t [-5.1188288  -2.02411446]\t 30.299447634857913\t 1.275455677703416\t    \t    \n",
            "init\t [-3.61721968 -4.17445279]\t 30.510334291475417\t 1.275455677703416\t    \t    \n",
            "init\t [-3.21269544 -1.58145816]\t 12.822421857501787\t 1.275455677703416\t    \t    \n",
            "init\t [-1.05710106  0.39748336]\t 1.275455677703416\t 1.275455677703416\t    \t    \n",
            "1  \t [ 4.04077223 -4.24914728]\t 34.383092818836786\t 1.275455677703416\t 3.53437872101177\t 4.143326988760059\n",
            "2  \t [5.12       4.53450932]\t 46.77617472892402\t 1.275455677703416\t 3.3905590231465306\t 3.69401996784445\n",
            "3  \t [2.91892823 0.34368058]\t 8.638258337172488\t 1.275455677703416\t 3.3065219655749645\t 3.4154037738523875\n",
            "4  \t [-4.89963078  4.58717018]\t 45.0485120087331\t 1.275455677703416\t 3.2296130951033475\t 3.987553531995675\n",
            "5  \t [0.99495261 5.12      ]\t 27.204330694870038\t 1.275455677703416\t 2.7110529046430165\t 3.250150658178123\n",
            "6  \t [ 0.18184381 -5.12      ]\t 26.24746716990031\t 1.275455677703416\t 2.560568278754303\t 2.960560382054456\n",
            "7  \t [ 1.07771107 -1.95902315]\t 4.999232848180174\t 1.275455677703416\t 3.015143494749147\t 3.2087974519180062\n",
            "8  \t [-5.12        1.22138081]\t 27.706171090632825\t 1.275455677703416\t 3.17831986280842\t 3.2603649049438843\n",
            "9  \t [5.12      0.1031059]\t 26.225030826404968\t 1.275455677703416\t 2.9042160723153216\t 2.9902416864826202\n",
            "\u001b[1m\u001b[92m10\u001b[0m\t \u001b[1m\u001b[92m[-0.55366981 -0.6685977 ]\u001b[0m\t \u001b[1m\u001b[92m0.7535731412391038\u001b[0m\t \u001b[1m\u001b[92m0.7535731412391038\u001b[0m\t \u001b[1m\u001b[92m3.066166614644911\u001b[0m\t \u001b[1m\u001b[92m2.8806569194000256\u001b[0m\n",
            "11 \t [2.39915226 2.51412785]\t 12.07677039601128\t 0.7535731412391038\t 2.6037598401286735\t 2.8353284644906545\n",
            "12 \t [-1.67727162  3.87873571]\t 17.857830797890124\t 0.7535731412391038\t 2.967303881263816\t 2.8566617896307425\n",
            "13 \t [-0.83434381 -2.35351908]\t 6.235181634091469\t 0.7535731412391038\t 2.3753350127679127\t 2.500781579560093\n",
            "14 \t [-2.09261272  0.61982887]\t 4.763215831396687\t 0.7535731412391038\t 3.0240535591637894\t 2.9631967191720854\n",
            "\u001b[1m\u001b[92m15\u001b[0m\t \u001b[1m\u001b[92m[0.27957924 0.16888171]\u001b[0m\t \u001b[1m\u001b[92m0.10668558722724589\u001b[0m\t \u001b[1m\u001b[92m0.10668558722724589\u001b[0m\t \u001b[1m\u001b[92m2.424894671107871\u001b[0m\t \u001b[1m\u001b[92m2.4278525596927376\u001b[0m\n",
            "16 \t [0.39923903 0.04019223]\t 0.16100721500484313\t 0.10668558722724589\t 2.850646139801611\t 2.917977665943287\n",
            "17 \t [ 0.88480881 -0.3289173 ]\t 0.8910732248080881\t 0.10668558722724589\t 2.838742940078831\t 2.459240263591926\n",
            "18 \t [0.10924811 0.31638237]\t 0.11203295574284476\t 0.10668558722724589\t 2.8851103539107568\t 2.84142007610764\n",
            "19 \t [ 0.72501807 -0.22787284]\t 0.5775772334368082\t 0.10668558722724589\t 3.220173193404186\t 3.156468200839185\n",
            "\u001b[1m\u001b[92m20\u001b[0m\t \u001b[1m\u001b[92m[0.12055288 0.29175542]\u001b[0m\t \u001b[1m\u001b[92m0.09965422552546194\u001b[0m\t \u001b[1m\u001b[92m0.09965422552546194\u001b[0m\t \u001b[1m\u001b[92m2.901536002231191\u001b[0m\t \u001b[1m\u001b[92m2.7410310656035426\u001b[0m\n"
          ]
        }
      ],
      "source": [
        "### EXACT GP EI GRADIENTS\n",
        "\n",
        "np.random.seed(run_num_1)\n",
        "surrogate_exact_1 = dGaussianProcess(cov_func, optimize=opt)\n",
        "\n",
        "exact_1 = dGPGO(surrogate_exact_1, Acquisition_grad(util), objfunc, param)\n",
        "exact_1.run(init_evals=n_init, max_iter=iters)\n"
      ]
    },
    {
      "cell_type": "code",
      "execution_count": 35,
      "metadata": {
        "id": "-ilCPSAu9SAg",
        "colab": {
          "base_uri": "https://localhost:8080/"
        },
        "outputId": "47c69a8c-fd40-4367-92d5-ab7d3d34d45d"
      },
      "outputs": [
        {
          "output_type": "stream",
          "name": "stdout",
          "text": [
            "Evaluation \t Proposed point \t  Current eval. \t  Best eval. \t        Exact EI: StdDev. x \t Approx EI: StdDev. x \n",
            "init\t [-0.6554122  -4.85451539]\t 23.995884788327533\t 0.6972563370202991\t    \t    \n",
            "init\t [ 0.50854377 -0.6622987 ]\t 0.6972563370202991\t 0.6972563370202991\t    \t    \n",
            "init\t [-0.81543371 -1.73737143]\t 3.683391625826377\t 0.6972563370202991\t    \t    \n",
            "init\t [-3.02439799  1.2213347 ]\t 10.638641624769724\t 0.6972563370202991\t    \t    \n",
            "init\t [-2.05153614 -2.3876887 ]\t 9.90985788235879\t 0.6972563370202991\t    \t    \n",
            "1  \t [4.81874241 3.07464552]\t 32.673723450709105\t 0.6972563370202991\t 3.7196174943107576\t 3.818091952834305\n",
            "2  \t [ 4.84260546 -3.96517156]\t 39.173413151255836\t 0.6972563370202991\t 2.798703843810863\t 3.8878653213842806\n",
            "3  \t [0.03041468 5.12      ]\t 26.21532505286182\t 0.6972563370202991\t 3.6921202610683306\t 3.9130965146368912\n",
            "4  \t [-5.12 -5.12]\t 52.4288\t 0.6972563370202991\t 3.1632930320844332\t 3.345021594479179\n",
            "5  \t [ 2.9900556  -0.39151404]\t 9.093715754784018\t 0.6972563370202991\t 3.17429163349925\t 3.2660908556889083\n",
            "6  \t [-4.05725496  4.80539309]\t 39.55312049608112\t 0.6972563370202991\t 3.1329983762821656\t 3.6833601652938857\n",
            "7  \t [0.64664891 1.42994305]\t 2.4628919327916265\t 0.6972563370202991\t 3.1087790116286036\t 3.199776879718079\n",
            "8  \t [ 1.83762126 -3.14824939]\t 13.288326080000465\t 0.6972563370202991\t 2.5904410982803268\t 2.567864805661045\n",
            "9  \t [-5.12       -1.24298041]\t 27.759400293511185\t 0.6972563370202991\t 2.862104726173668\t 2.8281978254116344\n",
            "10 \t [2.90150105 5.12      ]\t 34.6331083504533\t 0.6972563370202991\t 2.988908344001946\t 2.9329329332151954\n",
            "11 \t [ 5.12       -0.44375609]\t 26.41131946410852\t 0.6972563370202991\t 2.966884793997306\t 2.9265463494839867\n",
            "\u001b[1m\u001b[92m12\u001b[0m\t \u001b[1m\u001b[92m[-0.68566738  0.40361874]\u001b[0m\t \u001b[1m\u001b[92m0.6330478398540023\u001b[0m\t \u001b[1m\u001b[92m0.6330478398540023\u001b[0m\t \u001b[1m\u001b[92m2.420605021576416\u001b[0m\t \u001b[1m\u001b[92m2.3688919271775286\u001b[0m\n",
            "13 \t [-0.700864    2.20542113]\t 5.355092695861358\t 0.6330478398540023\t 2.904377442426297\t 2.5375847041007753\n",
            "\u001b[1m\u001b[92m14\u001b[0m\t \u001b[1m\u001b[92m[-0.29801766 -0.09047898]\u001b[0m\t \u001b[1m\u001b[92m0.09700097352443793\u001b[0m\t \u001b[1m\u001b[92m0.09700097352443793\u001b[0m\t \u001b[1m\u001b[92m3.0624837315311235\u001b[0m\t \u001b[1m\u001b[92m3.202058048293483\u001b[0m\n",
            "\u001b[1m\u001b[92m15\u001b[0m\t \u001b[1m\u001b[92m[-0.06697463 -0.16885811]\u001b[0m\t \u001b[1m\u001b[92m0.032998660846878664\u001b[0m\t \u001b[1m\u001b[92m0.032998660846878664\u001b[0m\t \u001b[1m\u001b[92m2.6385738343098484\u001b[0m\t \u001b[1m\u001b[92m2.547565813047449\u001b[0m\n",
            "16 \t [ 0.35268497 -0.39680326]\t 0.2818395100866953\t 0.032998660846878664\t 2.6202304979342155\t 2.6360031069562333\n",
            "17 \t [-0.61904044  0.00673155]\t 0.3832563841726399\t 0.032998660846878664\t 2.865001081082979\t 2.7214739804877928\n",
            "18 \t [-0.47970275 -0.02442144]\t 0.23071113164395834\t 0.032998660846878664\t 2.747544475274222\t 2.6093708852656654\n",
            "19 \t [ 0.04669482 -0.20815122]\t 0.045507339083282375\t 0.032998660846878664\t 2.823538798846282\t 2.706835598052884\n",
            "20 \t [-0.33880872 -0.05949076]\t 0.11833050125756467\t 0.032998660846878664\t 2.832858270843668\t 2.8168545767546544\n"
          ]
        }
      ],
      "source": [
        "### EXACT GP EI GRADIENTS\n",
        "\n",
        "np.random.seed(run_num_2)\n",
        "surrogate_exact_2 = dGaussianProcess(cov_func, optimize=opt)\n",
        "\n",
        "exact_2 = dGPGO(surrogate_exact_2, Acquisition_grad(util), objfunc, param)\n",
        "exact_2.run(init_evals=n_init, max_iter=iters)\n"
      ]
    },
    {
      "cell_type": "code",
      "execution_count": 36,
      "metadata": {
        "id": "XieJ158mIvlP",
        "colab": {
          "base_uri": "https://localhost:8080/"
        },
        "outputId": "7c5cc1d3-b2e8-4b21-c9ce-65468136904a"
      },
      "outputs": [
        {
          "output_type": "stream",
          "name": "stdout",
          "text": [
            "Evaluation \t Proposed point \t  Current eval. \t  Best eval. \t        Exact EI: StdDev. x \t Approx EI: StdDev. x \n",
            "init\t [0.52017052 2.1314337 ]\t 4.813587005218131\t 4.59675431006429\t    \t    \n",
            "init\t [-2.14113547  0.11087468]\t 4.59675431006429\t 4.59675431006429\t    \t    \n",
            "init\t [4.02377681 4.05804123]\t 32.65847846685941\t 4.59675431006429\t    \t    \n",
            "init\t [-3.83400642 -2.99783293]\t 23.686607498512902\t 4.59675431006429\t    \t    \n",
            "init\t [-4.59297584 -0.6061072 ]\t 21.462792989409664\t 4.59675431006429\t    \t    \n",
            "1  \t [ 2.87039579 -1.98286482]\t 12.170924921871098\t 4.59675431006429\t 2.0399276094355456\t 3.352068685547001\n",
            "2  \t [-3.41122163  4.97297824]\t 36.36694557321632\t 4.59675431006429\t 2.8121940821273066\t 3.9193918052213266\n",
            "3  \t [5.12       0.49455483]\t 26.45898448030247\t 4.59675431006429\t 2.7713906872047733\t 3.379196171740737\n",
            "4  \t [-0.0698226 -5.12     ]\t 26.219275195083885\t 4.59675431006429\t 2.839104967053326\t 3.204646829254006\n",
            "5  \t [ 3.17715702 -4.87519394]\t 33.861842705659186\t 4.59675431006429\t 2.8931051243484545\t 3.3071641206338844\n",
            "\u001b[1m\u001b[92m6\u001b[0m\t \u001b[1m\u001b[92m[-0.22197926 -1.32239753]\u001b[0m\t \u001b[1m\u001b[92m1.7980100196183106\u001b[0m\t \u001b[1m\u001b[92m1.7980100196183106\u001b[0m\t \u001b[1m\u001b[92m2.6180405583603465\u001b[0m\t \u001b[1m\u001b[92m2.7205518327102993\u001b[0m\n",
            "7  \t [0.43181294 5.12      ]\t 26.40086241447518\t 1.7980100196183106\t 2.943567180898034\t 2.920806487493155\n",
            "8  \t [-5.10632884  2.19697835]\t 30.901308057134152\t 1.7980100196183106\t 2.7983890174298938\t 3.0955864043680212\n",
            "9  \t [-5.12 -5.12]\t 52.4288\t 1.7980100196183106\t 2.6401266015336557\t 2.5425461662458204\n",
            "\u001b[1m\u001b[92m10\u001b[0m\t \u001b[1m\u001b[92m[1.27754588 0.22345587]\u001b[0m\t \u001b[1m\u001b[92m1.6820560095314567\u001b[0m\t \u001b[1m\u001b[92m1.6820560095314567\u001b[0m\t \u001b[1m\u001b[92m2.8776584246977532\u001b[0m\t \u001b[1m\u001b[92m2.914005092648421\u001b[0m\n",
            "11 \t [-1.21927138  1.65507067]\t 4.225881611826267\t 1.6820560095314567\t 2.8378562423594316\t 2.7002672113650243\n",
            "12 \t [-1.08482104 -2.19375744]\t 5.989408398992868\t 1.6820560095314567\t 2.6480745784496444\t 2.6234713789664137\n",
            "13 \t [2.40772849 1.22024803]\t 7.286161727008144\t 1.6820560095314567\t 2.991522451570442\t 3.1583093485868354\n",
            "\u001b[1m\u001b[92m14\u001b[0m\t \u001b[1m\u001b[92m[ 0.11377585 -0.1087027 ]\u001b[0m\t \u001b[1m\u001b[92m0.02476122099394018\u001b[0m\t \u001b[1m\u001b[92m0.02476122099394018\u001b[0m\t \u001b[1m\u001b[92m2.5490514681178666\u001b[0m\t \u001b[1m\u001b[92m2.6741495701937543\u001b[0m\n",
            "15 \t [ 0.62079049 -0.62681224]\t 0.778274427397208\t 0.02476122099394018\t 2.9133033433514854\t 2.741871949030412\n",
            "16 \t [ 0.62804316 -0.63597808]\t 0.7989063200128383\t 0.02476122099394018\t 2.826993580105987\t 2.7128115087802263\n",
            "17 \t [ 0.1681821  -0.15474496]\t 0.052231218641139214\t 0.02476122099394018\t 2.4925688367081884\t 2.592201883940046\n",
            "18 \t [ 5.12       -2.09726821]\t 30.61293394828238\t 0.02476122099394018\t 3.146109497764797\t 3.113794087484764\n",
            "19 \t [ 0.17687538 -0.16341828]\t 0.05799043519589299\t 0.02476122099394018\t 2.982408841924763\t 2.6454747152023357\n",
            "20 \t [ 0.1919249  -0.17683864]\t 0.06810707122704543\t 0.02476122099394018\t 2.2470603082664042\t 2.2269427993608955\n"
          ]
        }
      ],
      "source": [
        "### EXACT GP EI GRADIENTS\n",
        "\n",
        "np.random.seed(run_num_3)\n",
        "surrogate_exact_3 = dGaussianProcess(cov_func, optimize=opt)\n",
        "\n",
        "exact_3 = dGPGO(surrogate_exact_3, Acquisition_grad(util), objfunc, param)\n",
        "exact_3.run(init_evals=n_init, max_iter=iters)\n"
      ]
    },
    {
      "cell_type": "code",
      "execution_count": 37,
      "metadata": {
        "id": "PhLBVOIfIvol",
        "colab": {
          "base_uri": "https://localhost:8080/"
        },
        "outputId": "78107e7b-fa33-4617-9d52-b8b3d293e3b8"
      },
      "outputs": [
        {
          "output_type": "stream",
          "name": "stdout",
          "text": [
            "Evaluation \t Proposed point \t  Current eval. \t  Best eval. \t        Exact EI: StdDev. x \t Approx EI: StdDev. x \n",
            "init\t [4.78238555 0.48365823]\t 23.1051368481516\t 6.844040613967918\t    \t    \n",
            "init\t [4.84028785 2.19971578]\t 28.267135924302462\t 6.844040613967918\t    \t    \n",
            "init\t [ 2.02474316 -2.90724357]\t 12.551650027390728\t 6.844040613967918\t    \t    \n",
            "init\t [ 4.87705042 -5.05620219]\t 49.3508013219099\t 6.844040613967918\t    \t    \n",
            "init\t [-2.52946061 -0.66773471]\t 6.844040613967918\t 6.844040613967918\t    \t    \n",
            "1  \t [-1.25015937  4.53961839]\t 22.17103353082063\t 6.844040613967918\t 2.794170909695304\t 3.7079038501476522\n",
            "2  \t [-5.12 -5.12]\t 52.4288\t 6.844040613967918\t 3.66931877100548\t 3.8025957634125\n",
            "3  \t [-0.96232943 -5.12      ]\t 27.140477939595495\t 6.844040613967918\t 3.4202445203403955\t 3.510096350290938\n",
            "\u001b[1m\u001b[92m4\u001b[0m\t \u001b[1m\u001b[92m[0.65728467 1.17944657]\u001b[0m\t \u001b[1m\u001b[92m1.8231173619068866\u001b[0m\t \u001b[1m\u001b[92m1.8231173619068866\u001b[0m\t \u001b[1m\u001b[92m3.135594206098595\u001b[0m\t \u001b[1m\u001b[92m3.3394639944779945\u001b[0m\n",
            "5  \t [-5.12        2.35532478]\t 31.76195481241593\t 1.8231173619068866\t 2.8537006426140983\t 3.3766030071373496\n",
            "6  \t [2.54582699 5.12      ]\t 32.69563504917044\t 1.8231173619068866\t 3.1688723508153216\t 3.1135618042987123\n",
            "7  \t [-5.12       -1.44590894]\t 28.305052664241963\t 1.8231173619068866\t 2.518621389067976\t 2.2064063648581946\n",
            "8  \t [-0.14030802 -1.5845308 ]\t 2.53042420150947\t 1.8231173619068866\t 2.66682961380288\t 2.2933636505209654\n",
            "9  \t [-1.90916618  1.72895273]\t 6.634193037501877\t 1.8231173619068866\t 2.6099761741725644\t 3.4858032717531047\n",
            "10 \t [1.60447609 0.34806332]\t 2.6954916153878177\t 1.8231173619068866\t 3.555055336264937\t 3.831855985403282\n",
            "11 \t [-3.85159088  5.1069182 ]\t 40.9153658219157\t 1.8231173619068866\t 3.1662936930719963\t 3.2158197140968214\n",
            "12 \t [1.22261962 2.44816132]\t 7.488292586376208\t 1.8231173619068866\t 2.795196877258827\t 2.978265876429144\n",
            "13 \t [-2.32668473 -2.85090882]\t 13.54114293774003\t 1.8231173619068866\t 2.644709494247099\t 2.726471524514296\n",
            "14 \t [5.12 5.12]\t 52.4288\t 1.8231173619068866\t 2.939636691645636\t 2.3971785900343425\n",
            "15 \t [ 5.12       -2.08918226]\t 30.579082509521697\t 1.8231173619068866\t 2.8883962706435216\t 3.06588780801217\n",
            "\u001b[1m\u001b[92m16\u001b[0m\t \u001b[1m\u001b[92m[-0.14890393  0.08333013]\u001b[0m\t \u001b[1m\u001b[92m0.029116292306077523\u001b[0m\t \u001b[1m\u001b[92m0.029116292306077523\u001b[0m\t \u001b[1m\u001b[92m2.8139834286186716\u001b[0m\t \u001b[1m\u001b[92m2.433807366908556\u001b[0m\n",
            "17 \t [-0.43718416  0.51070472]\t 0.4519493072003459\t 0.029116292306077523\t 2.7064421465297794\t 2.3358239351495382\n",
            "18 \t [ 0.182333 -0.250504]\t 0.09599757821979915\t 0.029116292306077523\t 2.8393173595485615\t 2.6318788655653775\n",
            "19 \t [ 0.27303598 -0.32619442]\t 0.18095144377880037\t 0.029116292306077523\t 2.9123484962826423\t 2.864039218409286\n",
            "20 \t [ 0.24126689 -0.2978926 ]\t 0.14694971092545037\t 0.029116292306077523\t 2.469201672142519\t 2.6511862165759914\n"
          ]
        }
      ],
      "source": [
        "### EXACT GP EI GRADIENTS\n",
        "\n",
        "np.random.seed(run_num_4)\n",
        "surrogate_exact_4 = dGaussianProcess(cov_func, optimize=opt)\n",
        "\n",
        "exact_4 = dGPGO(surrogate_exact_4, Acquisition_grad(util), objfunc, param)\n",
        "exact_4.run(init_evals=n_init, max_iter=iters)\n"
      ]
    },
    {
      "cell_type": "code",
      "execution_count": 38,
      "metadata": {
        "id": "arbiPyj2IvsJ",
        "colab": {
          "base_uri": "https://localhost:8080/"
        },
        "outputId": "5cf8afa7-4c28-4b4f-9845-dd4400331e94"
      },
      "outputs": [
        {
          "output_type": "stream",
          "name": "stdout",
          "text": [
            "Evaluation \t Proposed point \t  Current eval. \t  Best eval. \t        Exact EI: StdDev. x \t Approx EI: StdDev. x \n",
            "init\t [-2.84678993  3.79629882]\t 22.516097589112718\t 1.3234068721819314\t    \t    \n",
            "init\t [-3.00319585  4.2865757 ]\t 27.393916517947076\t 1.3234068721819314\t    \t    \n",
            "init\t [-0.11866943  1.14425716]\t 1.3234068721819314\t 1.3234068721819314\t    \t    \n",
            "init\t [2.72289645 0.1886002 ]\t 7.449735113237491\t 1.3234068721819314\t    \t    \n",
            "init\t [-2.08076286 -3.19773462]\t 14.555080786026249\t 1.3234068721819314\t    \t    \n",
            "1  \t [ 4.32895605 -5.09732646]\t 44.722597532365825\t 1.3234068721819314\t 4.395109559366356\t 4.274627789641052\n",
            "2  \t [5.11980621 5.12      ]\t 52.426815627780805\t 1.3234068721819314\t 4.142476534465595\t 3.7350358899578877\n",
            "3  \t [-5.12       -0.29950628]\t 26.30410400876508\t 1.3234068721819314\t 3.3803906609369556\t 3.6550016707308655\n",
            "4  \t [0.97659638 5.12      ]\t 27.16814048622748\t 1.3234068721819314\t 3.3640352516746193\t 3.3595741818220506\n",
            "5  \t [-5.12 -5.12]\t 52.4288\t 1.3234068721819314\t 3.3771077068748485\t 3.668340209512538\n",
            "6  \t [ 1.26043753 -2.70484235]\t 8.904874898633585\t 1.3234068721819314\t 3.2521071259118024\t 3.3976064191109696\n",
            "7  \t [ 5.12       -0.90638184]\t 27.03592803196822\t 1.3234068721819314\t 2.4492309317406233\t 2.7496449614962724\n",
            "\u001b[1m\u001b[92m8\u001b[0m\t \u001b[1m\u001b[92m[-0.42298633 -0.64335082]\u001b[0m\t \u001b[1m\u001b[92m0.5928177045430294\u001b[0m\t \u001b[1m\u001b[92m0.5928177045430294\u001b[0m\t \u001b[1m\u001b[92m3.0638592277310037\u001b[0m\t \u001b[1m\u001b[92m3.1456998075947573\u001b[0m\n",
            "9  \t [-1.81375002  0.07082667]\t 3.294705537200076\t 0.5928177045430294\t 2.8940274168521825\t 2.824404398077454\n",
            "10 \t [3.46755344 2.39410341]\t 17.755658018702704\t 0.5928177045430294\t 3.043212096112815\t 2.9084763654958636\n",
            "11 \t [ 0.25977268 -5.12      ]\t 26.281881845675723\t 0.5928177045430294\t 2.7141933141462897\t 2.9430757027100047\n",
            "12 \t [0.26560723 2.1396042 ]\t 4.648453347941898\t 0.5928177045430294\t 2.6349776625029597\t 3.070827775548132\n",
            "\u001b[1m\u001b[92m13\u001b[0m\t \u001b[1m\u001b[92m[ 0.4283176  -0.45190554]\u001b[0m\t \u001b[1m\u001b[92m0.38767458376620123\u001b[0m\t \u001b[1m\u001b[92m0.38767458376620123\u001b[0m\t \u001b[1m\u001b[92m2.9505968043129154\u001b[0m\t \u001b[1m\u001b[92m3.1007467684927295\u001b[0m\n",
            "14 \t [-5.12        2.51659502]\t 32.54765051592088\t 0.38767458376620123\t 2.2980390081179687\t 2.2584668122954277\n",
            "\u001b[1m\u001b[92m15\u001b[0m\t \u001b[1m\u001b[92m[ 0.18973504 -0.26444102]\u001b[0m\t \u001b[1m\u001b[92m0.10592843703802993\u001b[0m\t \u001b[1m\u001b[92m0.10592843703802993\u001b[0m\t \u001b[1m\u001b[92m2.6322917847911524\u001b[0m\t \u001b[1m\u001b[92m2.631154886785026\u001b[0m\n",
            "16 \t [ 0.25633679 -0.2912915 ]\t 0.15055928664392906\t 0.10592843703802993\t 2.7886385393692774\t 2.6297507920903325\n",
            "\u001b[1m\u001b[92m17\u001b[0m\t \u001b[1m\u001b[92m[ 0.13544592 -0.14913448]\u001b[0m\t \u001b[1m\u001b[92m0.04058669048566489\u001b[0m\t \u001b[1m\u001b[92m0.04058669048566489\u001b[0m\t \u001b[1m\u001b[92m2.558775277728554\u001b[0m\t \u001b[1m\u001b[92m2.619506845708495\u001b[0m\n",
            "18 \t [ 0.23136445 -0.2844035 ]\t 0.13441486141475442\t 0.04058669048566489\t 2.783429573683437\t 2.938124537023086\n",
            "19 \t [ 0.14922065 -0.17167317]\t 0.051738477705679214\t 0.04058669048566489\t 2.4596842921779025\t 2.3192583459082967\n",
            "20 \t [ 0.2566046  -0.31943903]\t 0.16788721266178544\t 0.04058669048566489\t 2.770223474496524\t 2.778415226143441\n"
          ]
        }
      ],
      "source": [
        "### EXACT GP EI GRADIENTS\n",
        "\n",
        "np.random.seed(run_num_5)\n",
        "surrogate_exact_5 = dGaussianProcess(cov_func, optimize=opt)\n",
        "\n",
        "exact_5 = dGPGO(surrogate_exact_5, Acquisition_grad(util), objfunc, param)\n",
        "exact_5.run(init_evals=n_init, max_iter=iters)\n"
      ]
    },
    {
      "cell_type": "code",
      "execution_count": 39,
      "metadata": {
        "id": "04KJCEm_Ivvf",
        "colab": {
          "base_uri": "https://localhost:8080/"
        },
        "outputId": "82a76238-cccd-492d-82bf-ab17c107e2e2"
      },
      "outputs": [
        {
          "output_type": "stream",
          "name": "stdout",
          "text": [
            "Evaluation \t Proposed point \t  Current eval. \t  Best eval. \t        Exact EI: StdDev. x \t Approx EI: StdDev. x \n",
            "init\t [ 4.02288795 -1.72052679]\t 19.143839911819178\t 0.7844720799352826\t    \t    \n",
            "init\t [ 3.28938622 -4.69302655]\t 32.84455992822337\t 0.7844720799352826\t    \t    \n",
            "init\t [-4.0175956   0.97333314]\t 17.088451781196223\t 0.7844720799352826\t    \t    \n",
            "init\t [ 0.30532979 -0.83141193]\t 0.7844720799352826\t 0.7844720799352826\t    \t    \n",
            "init\t [-1.68542362  1.25459899]\t 4.414671405342624\t 0.7844720799352826\t    \t    \n",
            "1  \t [4.83179343 5.12      ]\t 49.56062772375974\t 0.7844720799352826\t 4.050258439347114\t 3.861809711766971\n",
            "2  \t [-5.12 -5.12]\t 52.4288\t 0.7844720799352826\t 3.63557818120335\t 3.585563563768808\n",
            "3  \t [-0.14148483  5.12      ]\t 26.23441795614648\t 0.7844720799352826\t 3.4034205867002965\t 3.528345409529991\n",
            "4  \t [-0.87301974 -4.37692616]\t 19.919646083511967\t 0.7844720799352826\t 3.2126827651934797\t 3.990721238903689\n",
            "5  \t [2.3199126  1.72340131]\t 8.3521065217221\t 0.7844720799352826\t 2.5832799383339426\t 2.9823197721215835\n",
            "6  \t [-3.7138188   4.44675726]\t 33.5661002310799\t 0.7844720799352826\t 3.1544477236482718\t 3.4567512213250255\n",
            "7  \t [-3.10614397 -2.01860418]\t 13.722893174411034\t 0.7844720799352826\t 3.320624779177988\t 3.2064912273483\n",
            "8  \t [5.12       1.47821751]\t 28.399526996624875\t 0.7844720799352826\t 3.1128140761785743\t 3.2038615346211325\n",
            "9  \t [ 1.09975469 -2.10848821]\t 5.655182916181685\t 0.7844720799352826\t 2.6909588135031073\t 2.846375450461573\n",
            "\u001b[1m\u001b[92m10\u001b[0m\t \u001b[1m\u001b[92m[ 0.64124715 -0.06579107]\u001b[0m\t \u001b[1m\u001b[92m0.41552636880585964\u001b[0m\t \u001b[1m\u001b[92m0.41552636880585964\u001b[0m\t \u001b[1m\u001b[92m2.8884880608397143\u001b[0m\t \u001b[1m\u001b[92m2.816400795327226\u001b[0m\n",
            "11 \t [-5.12       -2.35737415]\t 31.77161287785731\t 0.41552636880585964\t 3.376569541319939\t 3.1965415523778673\n",
            "12 \t [0.06654738 1.4755233 ]\t 2.181597563414316\t 0.41552636880585964\t 2.714354764124119\t 2.6086207050925996\n",
            "13 \t [-0.6099475  -0.69458885]\t 0.8544896258690249\t 0.41552636880585964\t 2.687285755661615\t 2.238659923275435\n",
            "\u001b[1m\u001b[92m14\u001b[0m\t \u001b[1m\u001b[92m[ 0.50603187 -0.12372754]\u001b[0m\t \u001b[1m\u001b[92m0.27137675449456783\u001b[0m\t \u001b[1m\u001b[92m0.27137675449456783\u001b[0m\t \u001b[1m\u001b[92m2.9613864708924584\u001b[0m\t \u001b[1m\u001b[92m2.988863080843695\u001b[0m\n",
            "15 \t [2.09140649 4.09844744]\t 21.171252507980753\t 0.27137675449456783\t 3.0309128999231163\t 2.8880048660608826\n",
            "16 \t [ 0.61380398 -0.10836736]\t 0.38849880504843753\t 0.27137675449456783\t 2.7362950621133093\t 2.8399037484333705\n",
            "17 \t [ 0.65202368 -0.11757288]\t 0.4389582630604098\t 0.27137675449456783\t 3.2253646756725813\t 3.182548069742111\n",
            "18 \t [-0.85335655  2.56011453]\t 7.282403789875858\t 0.27137675449456783\t 3.032906307379447\t 3.039075064352765\n",
            "19 \t [-1.47319826 -0.04591742]\t 2.1724215273589693\t 0.27137675449456783\t 3.055125059656707\t 3.1328765653247856\n",
            "\u001b[1m\u001b[92m20\u001b[0m\t \u001b[1m\u001b[92m[0.30791867 0.00574608]\u001b[0m\t \u001b[1m\u001b[92m0.09484692437623944\u001b[0m\t \u001b[1m\u001b[92m0.09484692437623944\u001b[0m\t \u001b[1m\u001b[92m2.9259690416061255\u001b[0m\t \u001b[1m\u001b[92m2.852843459146018\u001b[0m\n"
          ]
        }
      ],
      "source": [
        "### EXACT GP EI GRADIENTS\n",
        "\n",
        "np.random.seed(run_num_6)\n",
        "surrogate_exact_6 = dGaussianProcess(cov_func, optimize=opt)\n",
        "\n",
        "exact_6 = dGPGO(surrogate_exact_6, Acquisition_grad(util), objfunc, param)\n",
        "exact_6.run(init_evals=n_init, max_iter=iters)\n"
      ]
    },
    {
      "cell_type": "code",
      "execution_count": 40,
      "metadata": {
        "id": "tAOkme3CIvyO",
        "colab": {
          "base_uri": "https://localhost:8080/"
        },
        "outputId": "caa96db2-f9d0-4335-db4e-e4a72bcd80d9"
      },
      "outputs": [
        {
          "output_type": "stream",
          "name": "stdout",
          "text": [
            "Evaluation \t Proposed point \t  Current eval. \t  Best eval. \t        Exact EI: StdDev. x \t Approx EI: StdDev. x \n",
            "init\t [-4.33860312  2.86636843]\t 27.039544996254122\t 5.622519010932044\t    \t    \n",
            "init\t [-0.63068947  2.28828342]\t 5.634010222398341\t 5.622519010932044\t    \t    \n",
            "init\t [4.8946126  0.39419771]\t 24.112624368867845\t 5.622519010932044\t    \t    \n",
            "init\t [ 0.01147355 -4.38219639]\t 19.20377688135857\t 5.622519010932044\t    \t    \n",
            "init\t [-2.37118484e+00 -1.20319155e-03]\t 5.622519010932044\t 5.622519010932044\t    \t    \n",
            "1  \t [-5.12 -5.12]\t 52.4288\t 5.622519010932044\t 3.2041352431907013\t 3.5195435779894733\n",
            "2  \t [3.33284689 5.12      ]\t 37.32226836951393\t 5.622519010932044\t 3.72535187905791\t 3.757323283374026\n",
            "3  \t [ 4.52356741 -4.16736796]\t 37.82961780903664\t 5.622519010932044\t 3.383649535399332\t 3.405184932087415\n",
            "4  \t [-4.02558214 -1.33646422]\t 17.991448177385568\t 5.622519010932044\t 2.8896328289336957\t 2.911219880677074\n",
            "\u001b[1m\u001b[92m5\u001b[0m\t \u001b[1m\u001b[92m[ 1.20811597 -0.75568934]\u001b[0m\t \u001b[1m\u001b[92m2.030610584581081\u001b[0m\t \u001b[1m\u001b[92m2.030610584581081\u001b[0m\t \u001b[1m\u001b[92m3.153757116381588\u001b[0m\t \u001b[1m\u001b[92m3.273256721683823\u001b[0m\n",
            "6  \t [1.93981458 1.96896296]\t 7.639695759008767\t 2.030610584581081\t 3.164710805261847\t 3.30362560252505\n",
            "7  \t [-1.01853363  5.12      ]\t 27.251810746689525\t 2.030610584581081\t 2.410810271465207\t 2.9397560459714915\n",
            "8  \t [ 2.33962757 -1.96360118]\t 9.32958673634312\t 2.030610584581081\t 2.89552643156748\t 3.126080107095864\n",
            "\u001b[1m\u001b[92m9\u001b[0m\t \u001b[1m\u001b[92m[-0.283316   -0.35204403]\u001b[0m\t \u001b[1m\u001b[92m0.20420295781605127\u001b[0m\t \u001b[1m\u001b[92m0.20420295781605127\u001b[0m\t \u001b[1m\u001b[92m3.1687759915075238\u001b[0m\t \u001b[1m\u001b[92m3.2105195710967895\u001b[0m\n",
            "10 \t [-0.52120624 -1.02484298]\t 1.3219590710820954\t 0.20420295781605127\t 3.024499220598786\t 3.1732495641203\n",
            "11 \t [5.12       3.35706455]\t 37.484282414768415\t 0.20420295781605127\t 2.951872581168231\t 3.0886047670885173\n",
            "12 \t [-2.39897828 -3.32740123]\t 16.826695721702933\t 0.20420295781605127\t 3.110276154467012\t 3.4021774747131572\n",
            "\u001b[1m\u001b[92m13\u001b[0m\t \u001b[1m\u001b[92m[ 0.32802025 -0.10333077]\u001b[0m\t \u001b[1m\u001b[92m0.11827453561128287\u001b[0m\t \u001b[1m\u001b[92m0.11827453561128287\u001b[0m\t \u001b[1m\u001b[92m3.0011963945084417\u001b[0m\t \u001b[1m\u001b[92m3.0012308606485942\u001b[0m\n",
            "\u001b[1m\u001b[92m14\u001b[0m\t \u001b[1m\u001b[92m[0.10978431 0.07663862]\u001b[0m\t \u001b[1m\u001b[92m0.017926073527470183\u001b[0m\t \u001b[1m\u001b[92m0.017926073527470183\u001b[0m\t \u001b[1m\u001b[92m2.3880876378381664\u001b[0m\t \u001b[1m\u001b[92m3.0153076319960204\u001b[0m\n",
            "15 \t [ 0.20983436 -0.03991931]\t 0.045624010402811443\t 0.017926073527470183\t 3.2620416536707015\t 3.610478166577082\n",
            "16 \t [0.15726796 0.0111152 ]\t 0.024856758205263087\t 0.017926073527470183\t 2.3224991782523148\t 2.3701778204488244\n",
            "17 \t [ 0.24588466 -0.06678963]\t 0.06492012252633719\t 0.017926073527470183\t 2.232364920550486\t 2.368422837454198\n",
            "18 \t [-0.28584814  0.35436385]\t 0.2072828916268753\t 0.017926073527470183\t 3.284188629479206\t 3.5055342463158556\n",
            "19 \t [ 0.19116298 -0.02332189]\t 0.037087197248888565\t 0.017926073527470183\t 3.077358987848147\t 3.243640059563238\n",
            "20 \t [ 0.24745802 -0.07202273]\t 0.06642274449185366\t 0.017926073527470183\t 2.8166836937935384\t 2.9175515043308464\n"
          ]
        }
      ],
      "source": [
        "### EXACT GP EI GRADIENTS\n",
        "\n",
        "np.random.seed(run_num_7)\n",
        "surrogate_exact_7 = dGaussianProcess(cov_func, optimize=opt)\n",
        "\n",
        "exact_7 = dGPGO(surrogate_exact_7, Acquisition_grad(util), objfunc, param)\n",
        "exact_7.run(init_evals=n_init, max_iter=iters)\n"
      ]
    },
    {
      "cell_type": "code",
      "execution_count": 41,
      "metadata": {
        "id": "69-J3EF4Iv1S",
        "colab": {
          "base_uri": "https://localhost:8080/"
        },
        "outputId": "748e2a2a-37ed-4bce-8630-47207245ca2b"
      },
      "outputs": [
        {
          "output_type": "stream",
          "name": "stdout",
          "text": [
            "Evaluation \t Proposed point \t  Current eval. \t  Best eval. \t        Exact EI: StdDev. x \t Approx EI: StdDev. x \n",
            "init\t [3.82391708 4.79785639]\t 37.641767782829874\t 0.10287109474532606\t    \t    \n",
            "init\t [3.78055209 0.31596228]\t 14.392406282091054\t 0.10287109474532606\t    \t    \n",
            "init\t [-2.73686192 -5.00327624]\t 32.52318635319257\t 0.10287109474532606\t    \t    \n",
            "init\t [-0.7119993  -0.99992207]\t 1.5067871566831337\t 0.10287109474532606\t    \t    \n",
            "init\t [ 0.23218863 -0.22126801]\t 0.10287109474532606\t 0.10287109474532606\t    \t    \n",
            "1  \t [0.02151874 1.98688278]\t 3.948166237617704\t 0.10287109474532606\t 3.014594132539912\t 3.8418214925822123\n",
            "2  \t [-5.03492225  2.95509263]\t 34.08301446412634\t 0.10287109474532606\t 3.2616659416645977\t 4.020368214528524\n",
            "3  \t [-5.12       -1.47949147]\t 28.403294996072056\t 0.10287109474532606\t 2.678630719586354\t 3.712905023214873\n",
            "4  \t [ 2.57783575 -4.69282903]\t 28.667881423739296\t 0.10287109474532606\t 3.2554289336841946\t 3.7819411592573147\n",
            "5  \t [-0.41663549  5.12      ]\t 26.387985133586174\t 0.10287109474532606\t 3.058620564084462\t 3.065945345870446\n",
            "6  \t [ 5.12       -2.56240007]\t 32.78029410553476\t 0.10287109474532606\t 2.968436951740627\t 3.0427114062861245\n",
            "7  \t [ 1.00881932 -0.84928227]\t 1.738996783645931\t 0.10287109474532606\t 2.8555837245970497\t 2.739422057279919\n",
            "8  \t [-2.26126248  0.52456668]\t 5.388478210164342\t 0.10287109474532606\t 3.066890326925893\t 2.8973448775985617\n",
            "9  \t [-0.46018899 -2.6883173 ]\t 7.438823801242653\t 0.10287109474532606\t 2.695817212402962\t 2.82038442971261\n",
            "10 \t [-2.16486257  2.92531307]\t 13.244086507024427\t 0.10287109474532606\t 3.0343804693243492\t 2.99371103810715\n",
            "11 \t [1.97989975 2.24390146]\t 8.955096772156544\t 0.10287109474532606\t 2.8427482361004754\t 3.2164618548718513\n",
            "\u001b[1m\u001b[92m12\u001b[0m\t \u001b[1m\u001b[92m[0.07594636 0.06416687]\u001b[0m\t \u001b[1m\u001b[92m0.009885237585157094\u001b[0m\t \u001b[1m\u001b[92m0.009885237585157094\u001b[0m\t \u001b[1m\u001b[92m2.416689514518835\u001b[0m\t \u001b[1m\u001b[92m2.588376757903093\u001b[0m\n",
            "13 \t [ 0.62383655 -0.13056778]\t 0.4062199887309034\t 0.009885237585157094\t 2.89749345846028\t 3.2826521264240514\n",
            "14 \t [5.11860196 2.27117782]\t 31.35833470135911\t 0.009885237585157094\t 3.255625064566481\t 3.447983558713119\n",
            "\u001b[1m\u001b[92m15\u001b[0m\t \u001b[1m\u001b[92m[0.01400731 0.08454795]\u001b[0m\t \u001b[1m\u001b[92m0.0073445612558782816\u001b[0m\t \u001b[1m\u001b[92m0.0073445612558782816\u001b[0m\t \u001b[1m\u001b[92m2.647269554207984\u001b[0m\t \u001b[1m\u001b[92m2.9147968177001453\u001b[0m\n",
            "16 \t [-0.30011767  0.31802353]\t 0.19120958154242673\t 0.0073445612558782816\t 2.6784123427888584\t 3.193755008711015\n",
            "17 \t [ 1.94842022 -1.714283  ]\t 6.735107556514822\t 0.0073445612558782816\t 3.0588594061633816\t 3.0519742169398016\n",
            "18 \t [ 0.39078546 -0.10206291]\t 0.16313010924197482\t 0.0073445612558782816\t 3.0223992114088585\t 3.227459739824379\n",
            "19 \t [ 0.19265052 -0.01288334]\t 0.037280204546392706\t 0.0073445612558782816\t 2.4582403682531258\t 2.5996201755239157\n",
            "20 \t [-0.17128984  0.21455392]\t 0.07537359198946077\t 0.0073445612558782816\t 2.6086637797867227\t 2.7183161034419294\n"
          ]
        }
      ],
      "source": [
        "### EXACT GP EI GRADIENTS\n",
        "\n",
        "np.random.seed(run_num_8)\n",
        "surrogate_exact_8 = dGaussianProcess(cov_func, optimize=opt)\n",
        "\n",
        "exact_8 = dGPGO(surrogate_exact_8, Acquisition_grad(util), objfunc, param)\n",
        "exact_8.run(init_evals=n_init, max_iter=iters)\n"
      ]
    },
    {
      "cell_type": "code",
      "execution_count": 42,
      "metadata": {
        "id": "vonm9jyuIv4t",
        "colab": {
          "base_uri": "https://localhost:8080/"
        },
        "outputId": "caea3425-f86d-4af4-cd70-5f951efdf5ee"
      },
      "outputs": [
        {
          "output_type": "stream",
          "name": "stdout",
          "text": [
            "Evaluation \t Proposed point \t  Current eval. \t  Best eval. \t        Exact EI: StdDev. x \t Approx EI: StdDev. x \n",
            "init\t [-5.01376866  0.01919582]\t 25.138244697862262\t 7.349882113053805\t    \t    \n",
            "init\t [-0.04328148 -3.74958562]\t 14.061265633999861\t 7.349882113053805\t    \t    \n",
            "init\t [-3.66478248 -2.88195916]\t 21.736319271030034\t 7.349882113053805\t    \t    \n",
            "init\t [-0.83447623 -2.57944404]\t 7.349882113053805\t 7.349882113053805\t    \t    \n",
            "init\t [-4.25922917 -1.58209393]\t 20.64405433050371\t 7.349882113053805\t    \t    \n",
            "1  \t [3.69491889 4.82146316]\t 36.89893267190826\t 7.349882113053805\t 3.0905261515009332\t 3.114117452502966\n",
            "2  \t [ 5.12       -0.96381407]\t 27.143337562162976\t 7.349882113053805\t 3.24665874172362\t 3.967433650566336\n",
            "3  \t [-1.76909223  4.32341908]\t 21.821639851175718\t 7.349882113053805\t 2.681872080903368\t 4.07978119548468\n",
            "\u001b[1m\u001b[92m4\u001b[0m\t \u001b[1m\u001b[92m[0.99478922 1.03537881]\u001b[0m\t \u001b[1m\u001b[92m2.061614860229406\u001b[0m\t \u001b[1m\u001b[92m2.061614860229406\u001b[0m\t \u001b[1m\u001b[92m2.850761209251135\u001b[0m\t \u001b[1m\u001b[92m3.4557538994417047\u001b[0m\n",
            "5  \t [ 2.83123084 -3.26291426]\t 18.662477502508857\t 2.061614860229406\t 3.1316375790966133\t 3.375505526743893\n",
            "6  \t [-4.72600087  3.15151952]\t 32.267159514558664\t 2.061614860229406\t 2.8640153405393867\t 2.864214722520329\n",
            "\u001b[1m\u001b[92m7\u001b[0m\t \u001b[1m\u001b[92m[-1.2557292   0.32795739]\u001b[0m\t \u001b[1m\u001b[92m1.6844118734063167\u001b[0m\t \u001b[1m\u001b[92m1.6844118734063167\u001b[0m\t \u001b[1m\u001b[92m2.9862226890426693\u001b[0m\t \u001b[1m\u001b[92m2.671100076064525\u001b[0m\n",
            "8  \t [2.90330081 1.66400798]\t 11.198078169915185\t 1.6844118734063167\t 2.868759113082113\t 3.187524205618423\n",
            "9  \t [-5.12 -5.12]\t 52.4288\t 1.6844118734063167\t 3.123360935187988\t 2.9926714410515114\n",
            "\u001b[1m\u001b[92m10\u001b[0m\t \u001b[1m\u001b[92m[ 0.99693053 -0.70222009]\u001b[0m\t \u001b[1m\u001b[92m1.486983529011733\u001b[0m\t \u001b[1m\u001b[92m1.486983529011733\u001b[0m\t \u001b[1m\u001b[92m2.3172571557180333\u001b[0m\t \u001b[1m\u001b[92m3.024045060613248\u001b[0m\n",
            "11 \t [-0.24064487  1.99257302]\t 4.028257191606164\t 1.486983529011733\t 3.0592496310591986\t 3.1952563844723585\n",
            "12 \t [0.88009674 5.08183357]\t 26.599602713496843\t 1.486983529011733\t 2.7550117633551836\t 3.129176166116854\n",
            "13 \t [-2.08488486  0.6401442 ]\t 4.75652947148608\t 1.486983529011733\t 2.0843210892134216\t 2.290467336974756\n",
            "14 \t [5.12       2.17828138]\t 30.959309751050096\t 1.486983529011733\t 2.738375639270149\t 2.763671775218135\n",
            "15 \t [-1.95955446 -5.12      ]\t 30.05425369331689\t 1.486983529011733\t 2.7334503980893077\t 3.0071403997150807\n",
            "\u001b[1m\u001b[92m16\u001b[0m\t \u001b[1m\u001b[92m[-0.24219924 -0.3535334 ]\u001b[0m\t \u001b[1m\u001b[92m0.1836463362605108\u001b[0m\t \u001b[1m\u001b[92m0.1836463362605108\u001b[0m\t \u001b[1m\u001b[92m2.8894286649019763\u001b[0m\t \u001b[1m\u001b[92m3.3934605438988235\u001b[0m\n",
            "17 \t [-0.07934486 -0.46423712]\t 0.221811709215614\t 0.1836463362605108\t 2.520521282150713\t 2.5842580561818544\n",
            "18 \t [-0.47627376 -0.24862509]\t 0.2886511350829235\t 0.1836463362605108\t 2.477002209084757\t 3.0223370358289734\n",
            "19 \t [-0.21078554 -0.39177019]\t 0.1979144260507504\t 0.1836463362605108\t 2.814930808691789\t 2.7264164812040264\n",
            "20 \t [-0.0703333 -0.4655436]\t 0.221677616783553\t 0.1836463362605108\t 2.9926174014255413\t 3.7407122164428834\n"
          ]
        }
      ],
      "source": [
        "### EXACT GP EI GRADIENTS\n",
        "\n",
        "np.random.seed(run_num_9)\n",
        "surrogate_exact_9 = dGaussianProcess(cov_func, optimize=opt)\n",
        "\n",
        "exact_9 = dGPGO(surrogate_exact_9, Acquisition_grad(util), objfunc, param)\n",
        "exact_9.run(init_evals=n_init, max_iter=iters)\n"
      ]
    },
    {
      "cell_type": "code",
      "execution_count": 43,
      "metadata": {
        "id": "6amuYlUdIv7r",
        "colab": {
          "base_uri": "https://localhost:8080/"
        },
        "outputId": "dbfa1256-d425-4576-cfe1-eec3fa609d50"
      },
      "outputs": [
        {
          "output_type": "stream",
          "name": "stdout",
          "text": [
            "Evaluation \t Proposed point \t  Current eval. \t  Best eval. \t        Exact EI: StdDev. x \t Approx EI: StdDev. x \n",
            "init\t [ 2.77832339 -4.90750004]\t 31.80263747150094\t 7.941821858928501\t    \t    \n",
            "init\t [1.36855793 2.54775176]\t 8.363989812138083\t 7.941821858928501\t    \t    \n",
            "init\t [-0.01528819 -2.81808235]\t 7.941821858928501\t 7.941821858928501\t    \t    \n",
            "init\t [-3.09183626  2.66783449]\t 16.67679237031191\t 7.941821858928501\t    \t    \n",
            "init\t [-3.38830503 -4.2154003 ]\t 29.25021071405309\t 7.941821858928501\t    \t    \n",
            "1  \t [ 5.12       -0.36312462]\t 26.346259491136617\t 7.941821858928501\t 3.511751238630375\t 3.5733460396586043\n",
            "2  \t [5.12 5.12]\t 52.4288\t 7.941821858928501\t 3.086865576892121\t 3.0692879647129487\n",
            "3  \t [-4.2170303  -0.72747913]\t 18.31257046398536\t 7.941821858928501\t 2.851282691237914\t 3.1369049341370427\n",
            "4  \t [-0.4936122  5.12     ]\t 26.458052999244767\t 7.941821858928501\t 3.3664462667887833\t 3.3367211411241744\n",
            "\u001b[1m\u001b[92m5\u001b[0m\t \u001b[1m\u001b[92m[ 0.09223992 -0.04557007]\u001b[0m\t \u001b[1m\u001b[92m0.010584834493645248\u001b[0m\t \u001b[1m\u001b[92m0.010584834493645248\u001b[0m\t \u001b[1m\u001b[92m3.0391240507533204\u001b[0m\t \u001b[1m\u001b[92m3.060955452595682\u001b[0m\n",
            "6  \t [ 2.01098176 -0.94063461]\t 4.9288411319517245\t 0.010584834493645248\t 3.303791494419681\t 3.03990918266731\n",
            "7  \t [-0.88465643  0.21138695]\t 0.827301438175859\t 0.010584834493645248\t 3.0459176192332813\t 3.5965373051453335\n",
            "8  \t [3.75558733 2.2486776 ]\t 19.16098709345448\t 0.010584834493645248\t 2.96935100186225\t 3.5710568294052245\n",
            "9  \t [-0.72485324 -5.12      ]\t 26.739812217959184\t 0.010584834493645248\t 3.095271154977013\t 3.5583621525050617\n",
            "10 \t [-0.60444126  0.95676799]\t 1.2807542160087562\t 0.010584834493645248\t 3.1778000624209253\t 3.5817060212475202\n",
            "11 \t [-0.08384184 -0.46181151]\t 0.22029932439060576\t 0.010584834493645248\t 2.511228741655086\t 3.8428115327604884\n",
            "12 \t [-0.75723371 -0.75425056]\t 1.1422967902515637\t 0.010584834493645248\t 3.0647451280007663\t 3.324527422916412\n",
            "13 \t [ 5.10965991 -3.29052927]\t 36.93620726315644\t 0.010584834493645248\t 2.8192752213648697\t 3.2085491092990304\n",
            "14 \t [0.34148026 0.08263859]\t 0.12343790641234413\t 0.010584834493645248\t 2.9606438112165208\t 3.4202894605195073\n",
            "15 \t [-0.05052303  0.3808554 ]\t 0.14760340933449428\t 0.010584834493645248\t 3.1674687095348655\t 3.1232524641611676\n",
            "16 \t [0.28520617 0.0618758 ]\t 0.08517117334738823\t 0.010584834493645248\t 2.9184572761086267\t 3.1304897252192507\n",
            "17 \t [0.0266786  0.29300904]\t 0.08656604249029641\t 0.010584834493645248\t 2.9563654279313556\t 3.20587449125199\n",
            "18 \t [-1.28819364 -0.12462131]\t 1.6749733211007467\t 0.010584834493645248\t 2.7991889188888\t 2.538451016018746\n",
            "19 \t [0.20073543 0.29553887]\t 0.1276379373844288\t 0.010584834493645248\t 2.4284470076039746\t 2.1715143744786456\n",
            "20 \t [0.2930248  0.16456776]\t 0.11294608156725135\t 0.010584834493645248\t 3.326668601690445\t 3.428325442079441\n"
          ]
        }
      ],
      "source": [
        "### EXACT GP EI GRADIENTS\n",
        "\n",
        "np.random.seed(run_num_10)\n",
        "surrogate_exact_10 = dGaussianProcess(cov_func, optimize=opt)\n",
        "\n",
        "exact_10 = dGPGO(surrogate_exact_10, Acquisition_grad(util), objfunc, param)\n",
        "exact_10.run(init_evals=n_init, max_iter=iters)\n"
      ]
    },
    {
      "cell_type": "code",
      "execution_count": 44,
      "metadata": {
        "id": "VwbLIP9cIv-F",
        "colab": {
          "base_uri": "https://localhost:8080/"
        },
        "outputId": "7a82356b-cf78-4ebe-87ba-79837372ab36"
      },
      "outputs": [
        {
          "output_type": "stream",
          "name": "stdout",
          "text": [
            "Evaluation \t Proposed point \t  Current eval. \t  Best eval. \t        Exact EI: StdDev. x \t Approx EI: StdDev. x \n",
            "init\t [-3.27403839 -4.92057353]\t 34.93137118861299\t 0.6899456214148796\t    \t    \n",
            "init\t [-0.37664229  2.30332343]\t 5.447158259491397\t 0.6899456214148796\t    \t    \n",
            "init\t [-0.81711509 -0.14922651]\t 0.6899456214148796\t 0.6899456214148796\t    \t    \n",
            "init\t [-4.98912446 -0.12931474]\t 24.908085165573997\t 0.6899456214148796\t    \t    \n",
            "init\t [4.52410012 3.59214172]\t 33.37096399795931\t 0.6899456214148796\t    \t    \n",
            "1  \t [ 3.03550212 -4.46785095]\t 29.17596522689979\t 0.6899456214148796\t 2.9158170513702655\t 3.7829261858843455\n",
            "2  \t [ 4.94058088 -0.61742327]\t 24.79055096336676\t 0.6899456214148796\t 2.223662794070773\t 3.22741835715085\n",
            "3  \t [-1.19896852  5.12      ]\t 27.65192550764565\t 0.6899456214148796\t 3.1612978909720906\t 3.4636628425458573\n",
            "4  \t [ 1.19946032 -1.29909369]\t 3.1263494758818773\t 0.6899456214148796\t 2.4435013002454946\t 2.7790996574064173\n",
            "5  \t [-3.74685325  2.91006388]\t 22.5073810596057\t 0.6899456214148796\t 2.7786900109534036\t 2.7692372536641976\n",
            "6  \t [-0.93971835 -2.50552252]\t 7.160713661600357\t 0.6899456214148796\t 2.8251567371319037\t 2.8410680749162873\n",
            "7  \t [1.91180411 1.46670425]\t 5.80621631219048\t 0.6899456214148796\t 3.1154319204426373\t 3.615247719616864\n",
            "8  \t [-0.10103644 -5.12      ]\t 26.224608361504007\t 0.6899456214148796\t 2.983814158168973\t 3.441693110303282\n",
            "9  \t [2.05401414 5.12      ]\t 30.433374095484773\t 0.6899456214148796\t 2.971302410460144\t 3.1301930042089245\n",
            "10 \t [-1.87586755  0.00640353]\t 3.518920056795833\t 0.6899456214148796\t 2.6488538513502817\t 2.7737264515238587\n",
            "11 \t [ 5.12       -3.18664803]\t 36.36912567187798\t 0.6899456214148796\t 2.8825390660077446\t 3.156600960238409\n",
            "12 \t [-4.10776843  5.12      ]\t 43.088161434638536\t 0.6899456214148796\t 2.851083888783246\t 2.8584349631756605\n",
            "\u001b[1m\u001b[92m13\u001b[0m\t \u001b[1m\u001b[92m[ 0.29113855 -0.20212727]\u001b[0m\t \u001b[1m\u001b[92m0.12561709025459333\u001b[0m\t \u001b[1m\u001b[92m0.12561709025459333\u001b[0m\t \u001b[1m\u001b[92m2.830713944991464\u001b[0m\t \u001b[1m\u001b[92m2.9088662060881365\u001b[0m\n",
            "14 \t [-5.12       -2.87005622]\t 34.45162270696944\t 0.12561709025459333\t 3.073684919059528\t 2.676467695462352\n",
            "15 \t [ 0.61998654 -0.36857991]\t 0.5202344677688133\t 0.12561709025459333\t 2.8389454901138365\t 2.546485414609525\n",
            "16 \t [-0.49774476  0.54207177]\t 0.5415916484833004\t 0.12561709025459333\t 3.10980347779888\t 2.973711238900246\n",
            "\u001b[1m\u001b[92m17\u001b[0m\t \u001b[1m\u001b[92m[ 0.24573875 -0.17897233]\u001b[0m\t \u001b[1m\u001b[92m0.09241862727799727\u001b[0m\t \u001b[1m\u001b[92m0.09241862727799727\u001b[0m\t \u001b[1m\u001b[92m2.1820227281981004\u001b[0m\t \u001b[1m\u001b[92m1.8578062929321892\u001b[0m\n",
            "\u001b[1m\u001b[92m18\u001b[0m\t \u001b[1m\u001b[92m[0.00657694 0.03193425]\u001b[0m\t \u001b[1m\u001b[92m0.0010630521918556103\u001b[0m\t \u001b[1m\u001b[92m0.0010630521918556103\u001b[0m\t \u001b[1m\u001b[92m2.8424171993721146\u001b[0m\t \u001b[1m\u001b[92m2.6231034411627814\u001b[0m\n",
            "19 \t [ 0.12335348 -0.07412087]\t 0.020709985577612437\t 0.0010630521918556103\t 2.600716763002764\t 2.3047163349074014\n",
            "20 \t [ 2.24401885 -0.76479963]\t 5.620539070231963\t 0.0010630521918556103\t 2.862476060279336\t 2.570432482474135\n"
          ]
        }
      ],
      "source": [
        "### EXACT GP EI GRADIENTS\n",
        "\n",
        "np.random.seed(run_num_11)\n",
        "surrogate_exact_11 = dGaussianProcess(cov_func, optimize=opt)\n",
        "\n",
        "exact_11 = dGPGO(surrogate_exact_11, Acquisition_grad(util), objfunc, param)\n",
        "exact_11.run(init_evals=n_init, max_iter=iters)\n"
      ]
    },
    {
      "cell_type": "code",
      "execution_count": 45,
      "metadata": {
        "id": "MlUNFjc-JTBY",
        "colab": {
          "base_uri": "https://localhost:8080/"
        },
        "outputId": "c65b0c05-0ab4-488e-9caf-2177ac50e367"
      },
      "outputs": [
        {
          "output_type": "stream",
          "name": "stdout",
          "text": [
            "Evaluation \t Proposed point \t  Current eval. \t  Best eval. \t        Exact EI: StdDev. x \t Approx EI: StdDev. x \n",
            "init\t [-3.54137249  2.45810889]\t 18.583618467979093\t 5.993464196233534\t    \t    \n",
            "init\t [-2.42365424  0.34549139]\t 5.993464196233534\t 5.993464196233534\t    \t    \n",
            "init\t [-4.97075238  4.28796936]\t 43.09506052206225\t 5.993464196233534\t    \t    \n",
            "init\t [ 4.10332011 -4.77776458]\t 39.66427028607538\t 5.993464196233534\t    \t    \n",
            "init\t [ 4.6791612  -3.71497655]\t 35.6956003298903\t 5.993464196233534\t    \t    \n",
            "1  \t [5.12 5.12]\t 52.4288\t 5.993464196233534\t 3.78948948641799\t 3.4054397137486765\n",
            "2  \t [-5.12 -5.12]\t 52.4288\t 5.993464196233534\t 3.446748855546685\t 3.2031242752618656\n",
            "\u001b[1m\u001b[92m3\u001b[0m\t \u001b[1m\u001b[92m[2.235001   0.81687341]\u001b[0m\t \u001b[1m\u001b[92m5.662511638051637\u001b[0m\t \u001b[1m\u001b[92m5.662511638051637\u001b[0m\t \u001b[1m\u001b[92m3.0204650036311533\u001b[0m\t \u001b[1m\u001b[92m2.8480926972286826\u001b[0m\n",
            "4  \t [0.22625775 5.12      ]\t 26.265592570173133\t 5.662511638051637\t 3.0093179016819898\t 3.1028963177612185\n",
            "5  \t [-0.46141072 -4.08348715]\t 16.887767167145142\t 5.662511638051637\t 2.7789980738778413\t 2.7877091591674494\n",
            "6  \t [-5.12       -1.19268507]\t 27.636897674961737\t 5.662511638051637\t 3.1968118423855283\t 3.355860776011392\n",
            "7  \t [5.12       1.15070305]\t 27.53851751730622\t 5.662511638051637\t 2.774827842645912\t 2.791906920275821\n",
            "\u001b[1m\u001b[92m8\u001b[0m\t \u001b[1m\u001b[92m[ 0.38202813 -1.10506293]\u001b[0m\t \u001b[1m\u001b[92m1.3671095796698476\u001b[0m\t \u001b[1m\u001b[92m1.3671095796698476\u001b[0m\t \u001b[1m\u001b[92m2.731751145153326\u001b[0m\t \u001b[1m\u001b[92m2.8147281173980927\u001b[0m\n",
            "9  \t [-0.03617446  1.60045905]\t 2.562777752974583\t 1.3671095796698476\t 2.7444230527441276\t 2.562989534951792\n",
            "10 \t [ 1.92809156 -1.76968986]\t 6.849339297002059\t 1.3671095796698476\t 2.8773339792703396\t 3.0263114280011454\n",
            "11 \t [-2.45070125 -1.55692832]\t 8.429962406806824\t 1.3671095796698476\t 3.0074637398874042\t 3.01253415929565\n",
            "12 \t [2.78217552 2.8842841 ]\t 16.059595397599253\t 1.3671095796698476\t 2.5660415062841095\t 2.8013715447137506\n",
            "\u001b[1m\u001b[92m13\u001b[0m\t \u001b[1m\u001b[92m[-0.12845669 -0.27087772]\u001b[0m\t \u001b[1m\u001b[92m0.08987586144040136\u001b[0m\t \u001b[1m\u001b[92m0.08987586144040136\u001b[0m\t \u001b[1m\u001b[92m2.7573877436322896\u001b[0m\t \u001b[1m\u001b[92m2.862139766823585\u001b[0m\n",
            "14 \t [-0.05082359 -0.4404422 ]\t 0.19657236824557434\t 0.08987586144040136\t 2.92761665418591\t 2.9777747313495118\n",
            "15 \t [-0.01983486 -0.73219338]\t 0.5365005686241185\t 0.08987586144040136\t 3.114361468069325\t 3.023700482969747\n",
            "16 \t [-2.201172    5.02264378]\t 30.072108695187687\t 0.08987586144040136\t 3.028178299240694\t 3.272150222627227\n",
            "17 \t [ 0.01537122 -0.45868146]\t 0.21062495734503975\t 0.08987586144040136\t 2.6472173530341867\t 2.7365108102204783\n",
            "\u001b[1m\u001b[92m18\u001b[0m\t \u001b[1m\u001b[92m[-0.22448322 -0.00263076]\u001b[0m\t \u001b[1m\u001b[92m0.05039963880376069\u001b[0m\t \u001b[1m\u001b[92m0.05039963880376069\u001b[0m\t \u001b[1m\u001b[92m3.177976441459534\u001b[0m\t \u001b[1m\u001b[92m3.198349462112584\u001b[0m\n",
            "19 \t [ 0.06415415 -0.5342928 ]\t 0.2895845477868927\t 0.05039963880376069\t 2.858593331348866\t 2.972706422152744\n",
            "20 \t [ 0.04167054 -0.49379936]\t 0.24557424330657354\t 0.05039963880376069\t 2.6633561426436216\t 2.2339765018801776\n"
          ]
        }
      ],
      "source": [
        "### EXACT GP EI GRADIENTS\n",
        "\n",
        "np.random.seed(run_num_12)\n",
        "surrogate_exact_12 = dGaussianProcess(cov_func, optimize=opt)\n",
        "\n",
        "exact_12 = dGPGO(surrogate_exact_12, Acquisition_grad(util), objfunc, param)\n",
        "exact_12.run(init_evals=n_init, max_iter=iters)\n"
      ]
    },
    {
      "cell_type": "code",
      "execution_count": 46,
      "metadata": {
        "id": "9BsKdU9eJTFL",
        "colab": {
          "base_uri": "https://localhost:8080/"
        },
        "outputId": "56069f70-141b-432c-a6b9-acba53c55016"
      },
      "outputs": [
        {
          "output_type": "stream",
          "name": "stdout",
          "text": [
            "Evaluation \t Proposed point \t  Current eval. \t  Best eval. \t        Exact EI: StdDev. x \t Approx EI: StdDev. x \n",
            "init\t [ 2.84367268 -2.68757791]\t 15.30954934064491\t 7.271500601275535\t    \t    \n",
            "init\t [3.32061217 4.76927179]\t 33.772418600555795\t 7.271500601275535\t    \t    \n",
            "init\t [ 4.83943541 -0.47667971]\t 23.647358595121606\t 7.271500601275535\t    \t    \n",
            "init\t [1.11659482 2.82139151]\t 9.20703403927425\t 7.271500601275535\t    \t    \n",
            "init\t [1.45012065 2.27346667]\t 7.271500601275535\t 7.271500601275535\t    \t    \n",
            "1  \t [-5.12       -3.40131911]\t 37.783371661224805\t 7.271500601275535\t 3.0532147130708753\t 3.0988437564543267\n",
            "2  \t [-4.19995421  2.26772811]\t 22.782206181656306\t 7.271500601275535\t 2.601932491242373\t 3.4428651107804775\n",
            "3  \t [-0.87534118 -5.12      ]\t 26.980622176658677\t 7.271500601275535\t 3.027176764168648\t 3.1175437594614857\n",
            "\u001b[1m\u001b[92m4\u001b[0m\t \u001b[1m\u001b[92m[-0.81232238 -0.97569418]\u001b[0m\t \u001b[1m\u001b[92m1.6118467877293887\u001b[0m\t \u001b[1m\u001b[92m1.6118467877293887\u001b[0m\t \u001b[1m\u001b[92m2.8405184913212898\u001b[0m\t \u001b[1m\u001b[92m2.96984919370988\u001b[0m\n",
            "5  \t [-0.949167  5.12    ]\t 27.11531798827151\t 1.6118467877293887\t 3.4335979619827177\t 3.792232047966703\n",
            "6  \t [-3.13474384 -0.64081501]\t 10.237262820621822\t 1.6118467877293887\t 2.813691520950403\t 3.2438953182269157\n",
            "\u001b[1m\u001b[92m7\u001b[0m\t \u001b[1m\u001b[92m[ 1.15596956 -0.37907313]\u001b[0m\t \u001b[1m\u001b[92m1.4799620654688816\u001b[0m\t \u001b[1m\u001b[92m1.4799620654688816\u001b[0m\t \u001b[1m\u001b[92m3.0419886655706523\u001b[0m\t \u001b[1m\u001b[92m3.6567327816883513\u001b[0m\n",
            "8  \t [-1.30412057  1.69216155]\t 4.56414115722537\t 1.4799620654688816\t 2.981263858926823\t 3.3474275854833775\n",
            "9  \t [ 2.45903261 -5.12      ]\t 32.261241361859135\t 1.4799620654688816\t 2.878839406236455\t 3.3869908833507143\n",
            "10 \t [-0.55847629 -2.1129283 ]\t 4.776361749803757\t 1.4799620654688816\t 2.6781159874831917\t 3.4852783108189263\n",
            "11 \t [5.12       2.70697219]\t 33.54209842882279\t 1.4799620654688816\t 3.0552354367019494\t 3.825422880449487\n",
            "12 \t [ 5.12       -3.01312581]\t 35.29332713868797\t 1.4799620654688816\t 2.8743425820478374\t 3.1468535551705403\n",
            "13 \t [-3.73024139  4.97952196]\t 38.710339759383565\t 1.4799620654688816\t 2.9718739275068615\t 3.219122638585401\n",
            "\u001b[1m\u001b[92m14\u001b[0m\t \u001b[1m\u001b[92m[-0.11118223  0.13801826]\u001b[0m\t \u001b[1m\u001b[92m0.03141052712820391\u001b[0m\t \u001b[1m\u001b[92m0.03141052712820391\u001b[0m\t \u001b[1m\u001b[92m2.4289064650666714\u001b[0m\t \u001b[1m\u001b[92m2.353908864699828\u001b[0m\n",
            "15 \t [1.90047309 0.1581344 ]\t 3.636804434899394\t 0.03141052712820391\t 2.89280943840555\t 3.2390319656639055\n",
            "\u001b[1m\u001b[92m16\u001b[0m\t \u001b[1m\u001b[92m[-0.08349631 -0.03894183]\u001b[0m\t \u001b[1m\u001b[92m0.008488100053200888\u001b[0m\t \u001b[1m\u001b[92m0.008488100053200888\u001b[0m\t \u001b[1m\u001b[92m2.6529214425642142\u001b[0m\t \u001b[1m\u001b[92m2.603529753098251\u001b[0m\n",
            "17 \t [-5.12      -0.3726205]\t 26.35324603703158\t 0.008488100053200888\t 3.4555657625849245\t 3.385953697104953\n",
            "18 \t [-0.35099225  0.15078291]\t 0.1459310487906952\t 0.008488100053200888\t 2.262221660662846\t 2.363633660273432\n",
            "19 \t [-1.43321497  0.55652613]\t 2.3638264698410656\t 0.008488100053200888\t 2.9228660531131205\t 2.770163948064814\n",
            "20 \t [-0.33121951  0.30118442]\t 0.20041841758430498\t 0.008488100053200888\t 3.2585721143921247\t 3.1089814681278694\n"
          ]
        }
      ],
      "source": [
        "### EXACT GP EI GRADIENTS\n",
        "\n",
        "np.random.seed(run_num_13)\n",
        "surrogate_exact_13 = dGaussianProcess(cov_func, optimize=opt)\n",
        "\n",
        "exact_13 = dGPGO(surrogate_exact_13, Acquisition_grad(util), objfunc, param)\n",
        "exact_13.run(init_evals=n_init, max_iter=iters)\n"
      ]
    },
    {
      "cell_type": "code",
      "execution_count": 47,
      "metadata": {
        "id": "k6GjFBr1JTJf",
        "colab": {
          "base_uri": "https://localhost:8080/"
        },
        "outputId": "d810bf5e-21cb-4d85-ce3c-5db621b8306f"
      },
      "outputs": [
        {
          "output_type": "stream",
          "name": "stdout",
          "text": [
            "Evaluation \t Proposed point \t  Current eval. \t  Best eval. \t        Exact EI: StdDev. x \t Approx EI: StdDev. x \n",
            "init\t [0.14277984 2.79721013]\t 7.844770612568215\t 3.480496204392171\t    \t    \n",
            "init\t [ 3.7931795  -5.03759925]\t 39.765616906968944\t 3.480496204392171\t    \t    \n",
            "init\t [-1.94830412  4.68586229]\t 25.753194366239512\t 3.480496204392171\t    \t    \n",
            "init\t [ 0.13431513 -1.86076749]\t 3.480496204392171\t 3.480496204392171\t    \t    \n",
            "init\t [ 0.40140736 -2.85434939]\t 8.308438305616814\t 3.480496204392171\t    \t    \n",
            "1  \t [5.12       4.96637578]\t 50.87928837612024\t 3.480496204392171\t 3.8400259412105604\t 3.7945970786431418\n",
            "2  \t [-5.12 -5.12]\t 52.4288\t 3.480496204392171\t 3.7729090735130733\t 3.773857287364641\n",
            "3  \t [-5.12        0.39224345]\t 26.36825492560946\t 3.480496204392171\t 2.7999335918963975\t 3.7186186258096816\n",
            "4  \t [ 4.71081134 -0.06617282]\t 22.196122302567513\t 3.480496204392171\t 2.92645636432267\t 3.3005214878937768\n",
            "5  \t [-2.73893387 -2.07532497]\t 11.808732483230772\t 3.480496204392171\t 2.731052096541508\t 2.5403017941058548\n",
            "\u001b[1m\u001b[92m6\u001b[0m\t \u001b[1m\u001b[92m[1.38737339 0.15814388]\u001b[0m\t \u001b[1m\u001b[92m1.9498144067095375\u001b[0m\t \u001b[1m\u001b[92m1.9498144067095375\u001b[0m\t \u001b[1m\u001b[92m2.5783747106085526\u001b[0m\t \u001b[1m\u001b[92m2.7549859375448005\u001b[0m\n",
            "7  \t [-1.38009263 -5.12      ]\t 28.119055659583772\t 1.9498144067095375\t 2.753445702634675\t 2.993508670396748\n",
            "8  \t [-5.12        3.79379075]\t 40.607248255557664\t 1.9498144067095375\t 3.1327088585396696\t 3.6406337398401782\n",
            "\u001b[1m\u001b[92m9\u001b[0m\t \u001b[1m\u001b[92m[-0.93206101  0.20659528]\u001b[0m\t \u001b[1m\u001b[92m0.9114193377601925\u001b[0m\t \u001b[1m\u001b[92m0.9114193377601925\u001b[0m\t \u001b[1m\u001b[92m2.8874583397247537\u001b[0m\t \u001b[1m\u001b[92m2.833848737524869\u001b[0m\n",
            "10 \t [-2.23470455  1.4067119 ]\t 6.97274282507381\t 0.9114193377601925\t 2.7446090227300592\t 2.9571136847192503\n",
            "11 \t [1.76462242 5.12      ]\t 29.328292268146768\t 0.9114193377601925\t 3.1048419106013974\t 3.1778259921159107\n",
            "12 \t [2.81607161 2.15424027]\t 12.57101044628886\t 0.9114193377601925\t 2.9733388446822775\t 3.0078825722568965\n",
            "13 \t [ 2.93496613 -2.20569496]\t 13.479116479160108\t 0.9114193377601925\t 2.6871865519232827\t 2.8950812776552115\n",
            "\u001b[1m\u001b[92m14\u001b[0m\t \u001b[1m\u001b[92m[-0.13045634 -0.13244762]\u001b[0m\t \u001b[1m\u001b[92m0.03456122804721065\u001b[0m\t \u001b[1m\u001b[92m0.03456122804721065\u001b[0m\t \u001b[1m\u001b[92m2.945381247321821\u001b[0m\t \u001b[1m\u001b[92m2.7703634726050934\u001b[0m\n",
            "15 \t [-0.14872091 -0.11563651]\t 0.03548970987629545\t 0.03456122804721065\t 2.7642835269403037\t 2.8064982199081436\n",
            "\u001b[1m\u001b[92m16\u001b[0m\t \u001b[1m\u001b[92m[-0.10752267 -0.13988788]\u001b[0m\t \u001b[1m\u001b[92m0.03112974461149834\u001b[0m\t \u001b[1m\u001b[92m0.03112974461149834\u001b[0m\t \u001b[1m\u001b[92m2.9315514244913663\u001b[0m\t \u001b[1m\u001b[92m3.0777257889027463\u001b[0m\n",
            "17 \t [ 0.99765004 -0.60979749]\t 1.3671585792321095\t 0.03112974461149834\t 2.988830203037411\t 3.2265581262654734\n",
            "18 \t [-0.3896159   0.08459738]\t 0.15895726562132464\t 0.03112974461149834\t 2.359493351170038\t 2.600809299460274\n",
            "19 \t [-0.61370913  0.66220966]\t 0.8151605315373698\t 0.03112974461149834\t 2.86469695128144\t 2.9844661511056447\n",
            "20 \t [-0.08651053 -0.2316437 ]\t 0.06114287374594723\t 0.03112974461149834\t 2.8860146898480203\t 2.61738868089611\n"
          ]
        }
      ],
      "source": [
        "### EXACT GP EI GRADIENTS\n",
        "\n",
        "np.random.seed(run_num_14)\n",
        "surrogate_exact_14 = dGaussianProcess(cov_func, optimize=opt)\n",
        "\n",
        "exact_14 = dGPGO(surrogate_exact_14, Acquisition_grad(util), objfunc, param)\n",
        "exact_14.run(init_evals=n_init, max_iter=iters)\n"
      ]
    },
    {
      "cell_type": "code",
      "execution_count": 48,
      "metadata": {
        "id": "dPS8WB3aJTN6",
        "colab": {
          "base_uri": "https://localhost:8080/"
        },
        "outputId": "bb7f2991-c515-499f-af92-2a6fd16b65cb"
      },
      "outputs": [
        {
          "output_type": "stream",
          "name": "stdout",
          "text": [
            "Evaluation \t Proposed point \t  Current eval. \t  Best eval. \t        Exact EI: StdDev. x \t Approx EI: StdDev. x \n",
            "init\t [ 3.57189322 -3.28810573]\t 23.57006045912445\t 5.383887924980681\t    \t    \n",
            "init\t [-4.56332069 -1.41784631]\t 22.834183843344235\t 5.383887924980681\t    \t    \n",
            "init\t [-2.29989449  0.3072023 ]\t 5.383887924980681\t 5.383887924980681\t    \t    \n",
            "init\t [-1.9873903  -2.00218256]\t 7.958455228543059\t 5.383887924980681\t    \t    \n",
            "init\t [-3.97576933 -2.5610341 ]\t 22.365637431409507\t 5.383887924980681\t    \t    \n",
            "1  \t [5.12       2.66905492]\t 33.338254155703545\t 5.383887924980681\t 3.6268311811072125\t 3.721858191527722\n",
            "2  \t [-0.07181799  5.12      ]\t 26.219557824040624\t 5.383887924980681\t 2.9982333128743788\t 3.6813970115354286\n",
            "3  \t [-4.9338141   3.75227743]\t 38.422107450632986\t 5.383887924980681\t 3.100929309132633\t 3.4238646567586195\n",
            "\u001b[1m\u001b[92m4\u001b[0m\t \u001b[1m\u001b[92m[1.14668048 1.21268204]\u001b[0m\t \u001b[1m\u001b[92m2.7854738588745263\u001b[0m\t \u001b[1m\u001b[92m2.7854738588745263\u001b[0m\t \u001b[1m\u001b[92m2.9238815199303363\u001b[0m\t \u001b[1m\u001b[92m2.6402719854210472\u001b[0m\n",
            "5  \t [-0.94535118 -5.12      ]\t 27.10808884984728\t 2.7854738588745263\t 3.625793510765079\t 3.1651465943136796\n",
            "\u001b[1m\u001b[92m6\u001b[0m\t \u001b[1m\u001b[92m[ 0.63181867 -1.06742907]\u001b[0m\t \u001b[1m\u001b[92m1.5385996575456797\u001b[0m\t \u001b[1m\u001b[92m1.5385996575456797\u001b[0m\t \u001b[1m\u001b[92m3.2043859522131712\u001b[0m\t \u001b[1m\u001b[92m3.197284544468386\u001b[0m\n",
            "7  \t [ 5.12       -0.59546062]\t 26.568973349630575\t 1.5385996575456797\t 3.0415764921423447\t 3.068024057408816\n",
            "8  \t [-5.12 -5.12]\t 52.4288\t 1.5385996575456797\t 3.550066721464962\t 3.424761249916475\n",
            "9  \t [3.1751963 5.12     ]\t 36.29627157311688\t 1.5385996575456797\t 2.506307973231073\t 2.607981679820626\n",
            "10 \t [-1.55624401  2.48510993]\t 8.59766681901356\t 1.5385996575456797\t 3.0989277615962596\t 3.0960917649989996\n",
            "11 \t [ 0.43680315 -2.17342105]\t 4.914556047904878\t 1.5385996575456797\t 2.6700419425639366\t 3.051299075828781\n",
            "12 \t [ 1.94547155 -0.0963982 ]\t 3.794152151816009\t 1.5385996575456797\t 2.735879633843957\t 3.153761642372273\n",
            "13 \t [-5.12        0.98004352]\t 27.17488530825235\t 1.5385996575456797\t 3.359799690833613\t 3.5910305364378456\n",
            "14 \t [1.71315864 2.48848056]\t 9.12744803667687\t 1.5385996575456797\t 2.8395279033445555\t 3.10227485164736\n",
            "\u001b[1m\u001b[92m15\u001b[0m\t \u001b[1m\u001b[92m[-0.26224678  0.40453644]\u001b[0m\t \u001b[1m\u001b[92m0.23242310772835215\u001b[0m\t \u001b[1m\u001b[92m0.23242310772835215\u001b[0m\t \u001b[1m\u001b[92m2.148960084704809\u001b[0m\t \u001b[1m\u001b[92m3.292456883962913\u001b[0m\n",
            "\u001b[1m\u001b[92m16\u001b[0m\t \u001b[1m\u001b[92m[-0.26137685  0.39293178]\u001b[0m\t \u001b[1m\u001b[92m0.222713241834399\u001b[0m\t \u001b[1m\u001b[92m0.222713241834399\u001b[0m\t \u001b[1m\u001b[92m3.0663069220186587\u001b[0m\t \u001b[1m\u001b[92m3.4877810225618924\u001b[0m\n",
            "\u001b[1m\u001b[92m17\u001b[0m\t \u001b[1m\u001b[92m[-0.09127123  0.06385141]\u001b[0m\t \u001b[1m\u001b[92m0.012407439578992192\u001b[0m\t \u001b[1m\u001b[92m0.012407439578992192\u001b[0m\t \u001b[1m\u001b[92m2.3889638164737965\u001b[0m\t \u001b[1m\u001b[92m3.177614469531929\u001b[0m\n",
            "\u001b[1m\u001b[92m18\u001b[0m\t \u001b[1m\u001b[92m[-0.02716319 -0.01364143]\u001b[0m\t \u001b[1m\u001b[92m0.0009239278215676335\u001b[0m\t \u001b[1m\u001b[92m0.0009239278215676335\u001b[0m\t \u001b[1m\u001b[92m2.999856970245142\u001b[0m\t \u001b[1m\u001b[92m3.432237187344058\u001b[0m\n",
            "19 \t [-0.18201818  0.21848606]\t 0.08086677412795062\t 0.0009239278215676335\t 3.0621573953593684\t 3.4300829179060384\n",
            "20 \t [-0.09464496  0.07159085]\t 0.014082919161946823\t 0.0009239278215676335\t 2.8004734332075283\t 2.4975916167306704\n"
          ]
        }
      ],
      "source": [
        "### EXACT GP EI GRADIENTS\n",
        "\n",
        "np.random.seed(run_num_15)\n",
        "surrogate_exact_15 = dGaussianProcess(cov_func, optimize=opt)\n",
        "\n",
        "exact_15 = dGPGO(surrogate_exact_15, Acquisition_grad(util), objfunc, param)\n",
        "exact_15.run(init_evals=n_init, max_iter=iters)\n"
      ]
    },
    {
      "cell_type": "code",
      "execution_count": 49,
      "metadata": {
        "id": "lu8ki9XIQPPN",
        "colab": {
          "base_uri": "https://localhost:8080/"
        },
        "outputId": "a15e8389-53f8-488f-9c1f-dd7cf4f4dda3"
      },
      "outputs": [
        {
          "output_type": "stream",
          "name": "stdout",
          "text": [
            "Evaluation \t Proposed point \t  Current eval. \t  Best eval. \t        Exact EI: StdDev. x \t Approx EI: StdDev. x \n",
            "init\t [-2.83349935  0.23719262]\t 8.084978900492077\t 8.084978900492077\t    \t    \n",
            "init\t [ 0.51918292 -4.65303603]\t 21.92029520206884\t 8.084978900492077\t    \t    \n",
            "init\t [-1.42613673 -2.83565116]\t 10.074783446012654\t 8.084978900492077\t    \t    \n",
            "init\t [ 1.9325559  -3.44339021]\t 15.591708419712269\t 8.084978900492077\t    \t    \n",
            "init\t [-4.39987336  4.51595121]\t 39.75270093978162\t 8.084978900492077\t    \t    \n",
            "1  \t [2.142749   4.83374619]\t 27.956475467604665\t 8.084978900492077\t 3.563205465087404\t 3.6174225241180715\n",
            "2  \t [5.12       0.52365354]\t 26.488613032595683\t 8.084978900492077\t 3.4693327534289593\t 3.521815258898298\n",
            "3  \t [-5.12 -5.12]\t 52.4288\t 8.084978900492077\t 3.393196068361103\t 3.7061413010159057\n",
            "\u001b[1m\u001b[92m4\u001b[0m\t \u001b[1m\u001b[92m[0.95143676 0.73821385]\u001b[0m\t \u001b[1m\u001b[92m1.4501916083886843\u001b[0m\t \u001b[1m\u001b[92m1.4501916083886843\u001b[0m\t \u001b[1m\u001b[92m2.8875629561059863\u001b[0m\t \u001b[1m\u001b[92m3.319427479625143\u001b[0m\n",
            "5  \t [-0.94162881  2.97772967]\t 9.753538835641207\t 1.4501916083886843\t 3.1337696757205538\t 3.333375577664391\n",
            "6  \t [ 5.12       -3.20080494]\t 36.45955227239018\t 1.4501916083886843\t 3.4508950580540554\t 3.7220495335009676\n",
            "7  \t [5.12       4.03952382]\t 42.532152725745945\t 1.4501916083886843\t 2.8268127963080985\t 3.1404325214674675\n",
            "8  \t [-4.36883581 -1.95082476]\t 22.89244354060402\t 1.4501916083886843\t 2.746925764091056\t 2.8278366536231694\n",
            "9  \t [ 2.14735407 -0.60438606]\t 4.9764120134281855\t 1.4501916083886843\t 2.8880839899155712\t 2.9799642927928423\n",
            "\u001b[1m\u001b[92m10\u001b[0m\t \u001b[1m\u001b[92m[-0.44166214  0.09449474]\u001b[0m\t \u001b[1m\u001b[92m0.2039947003811227\u001b[0m\t \u001b[1m\u001b[92m0.2039947003811227\u001b[0m\t \u001b[1m\u001b[92m3.0149182573112956\u001b[0m\t \u001b[1m\u001b[92m3.374508841041424\u001b[0m\n",
            "11 \t [2.41780825 1.68670352]\t 8.690765493229058\t 0.2039947003811227\t 3.0713037453564676\t 3.194967249009497\n",
            "12 \t [-5.12        1.14848528]\t 27.533418445754396\t 0.2039947003811227\t 3.0457962906428224\t 3.3786718145203825\n",
            "\u001b[1m\u001b[92m13\u001b[0m\t \u001b[1m\u001b[92m[-0.08391872 -0.44239428]\u001b[0m\t \u001b[1m\u001b[92m0.2027550539803496\u001b[0m\t \u001b[1m\u001b[92m0.2027550539803496\u001b[0m\t \u001b[1m\u001b[92m2.525792674441474\u001b[0m\t \u001b[1m\u001b[92m2.471597418805461\u001b[0m\n",
            "14 \t [-0.07291577 -0.47825516]\t 0.23404470511216935\t 0.2027550539803496\t 2.502211849651639\t 2.441773519260624\n",
            "\u001b[1m\u001b[92m15\u001b[0m\t \u001b[1m\u001b[92m[-0.17559187 -0.12880409]\u001b[0m\t \u001b[1m\u001b[92m0.047422998534116426\u001b[0m\t \u001b[1m\u001b[92m0.047422998534116426\u001b[0m\t \u001b[1m\u001b[92m2.723574791543702\u001b[0m\t \u001b[1m\u001b[92m2.758143653272739\u001b[0m\n",
            "16 \t [-0.25668656  0.19110962]\t 0.10241087283958075\t 0.047422998534116426\t 2.5491659852357946\t 2.6359051378633604\n",
            "17 \t [-0.22331842  0.03282783]\t 0.05094878311933263\t 0.047422998534116426\t 3.033792909845747\t 2.8771635052120628\n",
            "18 \t [-0.31652647  0.3679578 ]\t 0.23558194561305912\t 0.047422998534116426\t 2.862868931783352\t 2.8231040369923956\n",
            "19 \t [-1.03269269  5.12      ]\t 27.280854191701764\t 0.047422998534116426\t 2.592055582401484\t 2.6108300668161823\n",
            "20 \t [-0.41702085  0.54853464]\t 0.47479663766677954\t 0.047422998534116426\t 3.1203044088265917\t 2.977759545601786\n"
          ]
        }
      ],
      "source": [
        "### EXACT GP EI GRADIENTS\n",
        "\n",
        "np.random.seed(run_num_16)\n",
        "surrogate_exact_16 = dGaussianProcess(cov_func, optimize=opt)\n",
        "\n",
        "exact_16 = dGPGO(surrogate_exact_16, Acquisition_grad(util), objfunc, param)\n",
        "exact_16.run(init_evals=n_init, max_iter=iters)\n"
      ]
    },
    {
      "cell_type": "code",
      "execution_count": 50,
      "metadata": {
        "id": "yU2SflSsJTUs",
        "colab": {
          "base_uri": "https://localhost:8080/"
        },
        "outputId": "80de159e-2f20-47ee-9f8f-34f78903d068"
      },
      "outputs": [
        {
          "output_type": "stream",
          "name": "stdout",
          "text": [
            "Evaluation \t Proposed point \t  Current eval. \t  Best eval. \t        Exact EI: StdDev. x \t Approx EI: StdDev. x \n",
            "init\t [-2.10263037  0.31320838]\t 4.519153970964611\t 2.5824114132885994\t    \t    \n",
            "init\t [-3.15882714 -4.42470033]\t 29.556161939946307\t 2.5824114132885994\t    \t    \n",
            "init\t [2.93873111 1.60085526]\t 11.198878112253603\t 2.5824114132885994\t    \t    \n",
            "init\t [1.40821398 0.77417363]\t 2.5824114132885994\t 2.5824114132885994\t    \t    \n",
            "init\t [-4.71999574 -1.45598869]\t 24.39826283453718\t 2.5824114132885994\t    \t    \n",
            "1  \t [ 4.96008736 -4.44720822]\t 44.38012757656366\t 2.5824114132885994\t 3.5265385281530786\t 4.270374135697341\n",
            "2  \t [-1.2187706  5.12     ]\t 27.69980178179575\t 2.5824114132885994\t 3.188495964090029\t 3.4253519200600118\n",
            "3  \t [5.12 5.12]\t 52.4288\t 2.5824114132885994\t 3.4732401014805325\t 3.4033849593043843\n",
            "4  \t [ 0.90895521 -3.03873066]\t 10.060083594544418\t 2.5824114132885994\t 3.503040224827962\t 3.848922220497895\n",
            "5  \t [-4.82714937  2.72330661]\t 30.717769889097866\t 2.5824114132885994\t 2.688269079592573\t 3.3500835923510204\n",
            "6  \t [5.12       0.30504347]\t 26.307451521183978\t 2.5824114132885994\t 2.8973781675804773\t 2.8143075137130036\n",
            "7  \t [1.82211733 4.83155535]\t 26.664038693034776\t 2.5824114132885994\t 2.7273713683657914\t 2.658732386341369\n",
            "\u001b[1m\u001b[92m8\u001b[0m\t \u001b[1m\u001b[92m[-0.0120189   1.36282433]\u001b[0m\t \u001b[1m\u001b[92m1.8574346172588891\u001b[0m\t \u001b[1m\u001b[92m1.8574346172588891\u001b[0m\t \u001b[1m\u001b[92m3.160585758118901\u001b[0m\t \u001b[1m\u001b[92m3.197910995021825\u001b[0m\n",
            "9  \t [-0.21681451 -5.12      ]\t 26.261408533248357\t 1.8574346172588891\t 3.2553434469985683\t 3.4966075534662684\n",
            "\u001b[1m\u001b[92m10\u001b[0m\t \u001b[1m\u001b[92m[-0.31317139 -0.66190467]\u001b[0m\t \u001b[1m\u001b[92m0.5361941079733249\u001b[0m\t \u001b[1m\u001b[92m0.5361941079733249\u001b[0m\t \u001b[1m\u001b[92m2.589845391952656\u001b[0m\t \u001b[1m\u001b[92m2.480676226069904\u001b[0m\n",
            "11 \t [ 2.86470222 -1.57882592]\t 10.699210109971835\t 0.5361941079733249\t 3.305351242968784\t 3.0374103171830766\n",
            "12 \t [-1.49928672 -1.61823994]\t 4.866561160746441\t 0.5361941079733249\t 2.9043757320571526\t 2.9701026233840406\n",
            "13 \t [-1.66046525  2.31107068]\t 8.098192514591979\t 0.5361941079733249\t 2.5785704849307978\t 2.845285006133886\n",
            "\u001b[1m\u001b[92m14\u001b[0m\t \u001b[1m\u001b[92m[-0.02937052  0.13083637]\u001b[0m\t \u001b[1m\u001b[92m0.01798078398792293\u001b[0m\t \u001b[1m\u001b[92m0.01798078398792293\u001b[0m\t \u001b[1m\u001b[92m2.719795405458174\u001b[0m\t \u001b[1m\u001b[92m2.814711474589796\u001b[0m\n",
            "15 \t [ 0.13751631 -0.06700391]\t 0.02340026043411922\t 0.01798078398792293\t 2.70850571007266\t 2.985218284502505\n",
            "16 \t [ 0.24628141 -0.20771841]\t 0.1038014697457594\t 0.01798078398792293\t 2.5974312728739832\t 2.695600502543346\n",
            "17 \t [ 0.19456943 -0.13492061]\t 0.05606083450833693\t 0.01798078398792293\t 2.3380996207561373\t 2.5766636775370464\n",
            "18 \t [ 0.4095136 -0.3945589]\t 0.3233781081679187\t 0.01798078398792293\t 2.9146390224080054\t 3.0501287990458965\n",
            "19 \t [ 0.61961818 -0.61693352]\t 0.7645336545130547\t 0.01798078398792293\t 2.597055885860647\t 2.937825109959088\n",
            "20 \t [ 0.555043   -0.55651472]\t 0.6177813654087763\t 0.01798078398792293\t 2.8851128269120707\t 3.3642575502403336\n"
          ]
        }
      ],
      "source": [
        "### EXACT GP EI GRADIENTS\n",
        "\n",
        "np.random.seed(run_num_17)\n",
        "surrogate_exact_17 = dGaussianProcess(cov_func, optimize=opt)\n",
        "\n",
        "exact_17 = dGPGO(surrogate_exact_17, Acquisition_grad(util), objfunc, param)\n",
        "exact_17.run(init_evals=n_init, max_iter=iters)\n"
      ]
    },
    {
      "cell_type": "code",
      "execution_count": 51,
      "metadata": {
        "id": "eVEhyZ9BQS-1",
        "colab": {
          "base_uri": "https://localhost:8080/"
        },
        "outputId": "a131ace0-4535-4d62-9bdf-34d26cb6e3ca"
      },
      "outputs": [
        {
          "output_type": "stream",
          "name": "stdout",
          "text": [
            "Evaluation \t Proposed point \t  Current eval. \t  Best eval. \t        Exact EI: StdDev. x \t Approx EI: StdDev. x \n",
            "init\t [1.53983224 0.05584255]\t 2.3742017032787373\t 2.3742017032787373\t    \t    \n",
            "init\t [ 3.87687906 -3.25795609]\t 25.644469161882945\t 2.3742017032787373\t    \t    \n",
            "init\t [3.60686662 2.56139557]\t 19.570234102364928\t 2.3742017032787373\t    \t    \n",
            "init\t [1.70088108 4.99604939]\t 27.853505942237412\t 2.3742017032787373\t    \t    \n",
            "init\t [-2.48864335 -4.83014733]\t 29.523668919355142\t 2.3742017032787373\t    \t    \n",
            "1  \t [-5.00718904  2.9174042 ]\t 33.58318939621877\t 2.3742017032787373\t 3.1207138130122365\t 3.696046577094346\n",
            "2  \t [-2.20629533 -0.4515277 ]\t 5.071616345341137\t 2.3742017032787373\t 2.620976316505377\t 2.5356535751085905\n",
            "3  \t [-1.81231852  4.68785853]\t 25.260516000683577\t 2.3742017032787373\t 2.989737693669957\t 3.1995257355547415\n",
            "4  \t [-5.12       -2.02626883]\t 30.320165381448717\t 2.3742017032787373\t 3.1017908663937352\t 3.285234404996301\n",
            "5  \t [ 0.96814137 -5.12      ]\t 27.151697708933145\t 2.3742017032787373\t 2.6546744597050393\t 2.754816545880567\n",
            "6  \t [5.12 5.12]\t 52.4288\t 2.3742017032787373\t 2.957314342164143\t 3.1677972097570906\n",
            "7  \t [-0.40172341  1.77711169]\t 3.319507651853874\t 2.3742017032787373\t 2.8357227356405494\t 2.926418168431217\n",
            "8  \t [ 0.01718102 -1.87015772]\t 3.497785102104399\t 2.3742017032787373\t 2.941061207122909\t 3.211691502703975\n",
            "9  \t [ 5.12       -0.21884172]\t 26.262291698717778\t 2.3742017032787373\t 2.9452616432701375\t 2.9624124764316857\n",
            "10 \t [-2.28920058  1.55563122]\t 7.66042779227232\t 2.3742017032787373\t 3.113794004493461\t 3.2369171801533856\n",
            "11 \t [ 1.88554563 -1.27780187]\t 5.188059927159495\t 2.3742017032787373\t 2.9839874399739044\t 3.277265692000292\n",
            "12 \t [-5.12 -5.12]\t 52.4288\t 2.3742017032787373\t 2.7684244747892026\t 3.1652613042471227\n",
            "13 \t [-1.50335173 -2.29944369]\t 7.547507692535241\t 2.3742017032787373\t 2.964984051951183\t 2.8785818692678147\n",
            "14 \t [1.16809754 1.32632435]\t 3.123588136302538\t 2.3742017032787373\t 2.609747053138804\t 2.723347125119078\n",
            "\u001b[1m\u001b[92m15\u001b[0m\t \u001b[1m\u001b[92m[-0.0888187  -0.02997853]\u001b[0m\t \u001b[1m\u001b[92m0.00878747385777886\u001b[0m\t \u001b[1m\u001b[92m0.00878747385777886\u001b[0m\t \u001b[1m\u001b[92m2.6851740935176696\u001b[0m\t \u001b[1m\u001b[92m2.840680318860707\u001b[0m\n",
            "16 \t [-0.22049144  0.09079599]\t 0.056860385029604124\t 0.00878747385777886\t 2.5251782395481843\t 2.878631123442434\n",
            "17 \t [ 0.34729464 -0.4981765 ]\t 0.3687933948323676\t 0.00878747385777886\t 3.4568892340502337\t 3.588029938472656\n",
            "18 \t [-5.04172984  0.39642838]\t 25.57619519850807\t 0.00878747385777886\t 3.1160288280596515\t 3.43495254204975\n",
            "19 \t [-0.14473934 -0.00447111]\t 0.02096946818514781\t 0.00878747385777886\t 2.7675958256957998\t 2.604111235991232\n",
            "20 \t [-0.04061187 -0.1089169 ]\t 0.013512215606171664\t 0.00878747385777886\t 2.837546802111366\t 2.9918875204414532\n"
          ]
        }
      ],
      "source": [
        "### EXACT GP EI GRADIENTS\n",
        "\n",
        "np.random.seed(run_num_18)\n",
        "surrogate_exact_18 = dGaussianProcess(cov_func, optimize=opt)\n",
        "\n",
        "exact_18 = dGPGO(surrogate_exact_18, Acquisition_grad(util), objfunc, param)\n",
        "exact_18.run(init_evals=n_init, max_iter=iters)\n"
      ]
    },
    {
      "cell_type": "code",
      "execution_count": 52,
      "metadata": {
        "id": "B6gTz1ojQUxn",
        "colab": {
          "base_uri": "https://localhost:8080/"
        },
        "outputId": "576c6fe6-ec9d-4e4d-b270-a93cf04a46c1"
      },
      "outputs": [
        {
          "output_type": "stream",
          "name": "stdout",
          "text": [
            "Evaluation \t Proposed point \t  Current eval. \t  Best eval. \t        Exact EI: StdDev. x \t Approx EI: StdDev. x \n",
            "init\t [-4.12125592  2.6751971 ]\t 24.141429859518958\t 12.957869519084127\t    \t    \n",
            "init\t [-2.59135515 -3.70553152]\t 20.446085385698954\t 12.957869519084127\t    \t    \n",
            "init\t [-1.72598719 -4.27008445]\t 21.212653034418548\t 12.957869519084127\t    \t    \n",
            "init\t [1.76104531 3.13952049]\t 12.957869519084127\t 12.957869519084127\t    \t    \n",
            "init\t [4.9432772  1.38916592]\t 26.36577149009895\t 12.957869519084127\t    \t    \n",
            "1  \t [ 4.4173096  -4.14036072]\t 36.65521095762383\t 12.957869519084127\t 3.581359316945775\t 4.378859899613629\n",
            "\u001b[1m\u001b[92m2\u001b[0m\t \u001b[1m\u001b[92m[-0.6470334  -0.05256766]\u001b[0m\t \u001b[1m\u001b[92m0.4214155800166819\u001b[0m\t \u001b[1m\u001b[92m0.4214155800166819\u001b[0m\t \u001b[1m\u001b[92m3.399258814617538\u001b[0m\t \u001b[1m\u001b[92m3.528169097366247\u001b[0m\n",
            "3  \t [5.12 5.12]\t 52.4288\t 0.4214155800166819\t 3.200908212741103\t 3.2499522684282542\n",
            "4  \t [-5.12      -1.1745426]\t 27.59395032343713\t 0.4214155800166819\t 3.015516744580657\t 3.13027098336852\n",
            "5  \t [ 1.51419808 -0.91650497]\t 3.1327771626320535\t 0.4214155800166819\t 2.6408519962128447\t 2.67484103672483\n",
            "6  \t [-1.14397816  5.12      ]\t 27.523086022618664\t 0.4214155800166819\t 3.146412977805238\t 3.2567466388269484\n",
            "7  \t [-5.12 -5.12]\t 52.4288\t 0.4214155800166819\t 3.045810188193834\t 3.243365036831456\n",
            "8  \t [ 1.12072244 -5.12      ]\t 27.47041878438293\t 0.4214155800166819\t 2.602784232835373\t 2.707902156997186\n",
            "9  \t [-1.10914549  1.51078024]\t 3.5126606419629702\t 0.4214155800166819\t 2.7073682750395025\t 2.7785082042165485\n",
            "10 \t [-1.67377582 -0.71324865]\t 3.3102491411686996\t 0.4214155800166819\t 3.0033270233341613\t 3.127819831865549\n",
            "\u001b[1m\u001b[92m11\u001b[0m\t \u001b[1m\u001b[92m[0.47528229 0.40152365]\u001b[0m\t \u001b[1m\u001b[92m0.38711449678799376\u001b[0m\t \u001b[1m\u001b[92m0.38711449678799376\u001b[0m\t \u001b[1m\u001b[92m2.371790916136034\u001b[0m\t \u001b[1m\u001b[92m2.658071162024904\u001b[0m\n",
            "12 \t [ 3.67407058 -1.24029412]\t 15.037124124811175\t 0.38711449678799376\t 2.681389215472356\t 2.5355279935356867\n",
            "13 \t [1.20431159 0.57226323]\t 1.7778516155897397\t 0.38711449678799376\t 2.9308278009867497\t 2.994334809173973\n",
            "14 \t [ 0.57823059 -2.26897571]\t 5.48260139016733\t 0.38711449678799376\t 2.44365056453485\t 2.8158191616986277\n",
            "\u001b[1m\u001b[92m15\u001b[0m\t \u001b[1m\u001b[92m[0.01498555 0.10995787]\u001b[0m\t \u001b[1m\u001b[92m0.012315298945059353\u001b[0m\t \u001b[1m\u001b[92m0.012315298945059353\u001b[0m\t \u001b[1m\u001b[92m2.8066564919936496\u001b[0m\t \u001b[1m\u001b[92m3.011094563131662\u001b[0m\n",
            "16 \t [-0.02160864  0.15486775]\t 0.024450954072031433\t 0.012315298945059353\t 2.5600967983418825\t 2.8704600608282123\n",
            "17 \t [-0.04666573  0.20339114]\t 0.04354564554067815\t 0.012315298945059353\t 2.6630000873514312\t 2.707427938317008\n",
            "18 \t [-0.3100067   0.70071529]\t 0.5871060658795577\t 0.012315298945059353\t 2.973605791599974\t 2.9570922513128064\n",
            "\u001b[1m\u001b[92m19\u001b[0m\t \u001b[1m\u001b[92m[0.01408083 0.08383761]\u001b[0m\t \u001b[1m\u001b[92m0.007227013941591459\u001b[0m\t \u001b[1m\u001b[92m0.007227013941591459\u001b[0m\t \u001b[1m\u001b[92m2.160642809387044\u001b[0m\t \u001b[1m\u001b[92m2.4664670303705325\u001b[0m\n",
            "20 \t [-0.2626902   0.56118419]\t 0.3839338367369529\t 0.007227013941591459\t 2.6956948005406325\t 2.896263577758511\n"
          ]
        }
      ],
      "source": [
        "### EXACT GP EI GRADIENTS\n",
        "\n",
        "np.random.seed(run_num_19)\n",
        "surrogate_exact_19 = dGaussianProcess(cov_func, optimize=opt)\n",
        "\n",
        "exact_19 = dGPGO(surrogate_exact_19, Acquisition_grad(util), objfunc, param)\n",
        "exact_19.run(init_evals=n_init, max_iter=iters)\n"
      ]
    },
    {
      "cell_type": "code",
      "execution_count": 53,
      "metadata": {
        "id": "aw3xvSryIwDi",
        "colab": {
          "base_uri": "https://localhost:8080/"
        },
        "outputId": "368423a1-53f3-43ed-bef9-0d067748e3c8"
      },
      "outputs": [
        {
          "output_type": "stream",
          "name": "stdout",
          "text": [
            "Evaluation \t Proposed point \t  Current eval. \t  Best eval. \t        Exact EI: StdDev. x \t Approx EI: StdDev. x \n",
            "init\t [0.9024594  4.07258857]\t 17.400410665504328\t 1.579257056101869\t    \t    \n",
            "init\t [4.00927467 3.23417577]\t 26.53417627399789\t 1.579257056101869\t    \t    \n",
            "init\t [-4.75249064  1.96359764]\t 26.44188299535699\t 1.579257056101869\t    \t    \n",
            "init\t [-1.24230715  0.18955208]\t 1.579257056101869\t 1.579257056101869\t    \t    \n",
            "init\t [ 1.61742301 -3.13497377]\t 12.44411771617229\t 1.579257056101869\t    \t    \n",
            "1  \t [-5.12 -5.12]\t 52.4288\t 1.579257056101869\t 3.032275020366754\t 2.852782274088817\n",
            "2  \t [ 5.12       -1.04742298]\t 27.311494893830304\t 1.579257056101869\t 2.8389105879216747\t 3.4816450287981993\n",
            "3  \t [-1.30676606 -5.01414533]\t 26.84929096657001\t 1.579257056101869\t 2.548348583514117\t 3.084719853541067\n",
            "4  \t [-2.59478315  5.12      ]\t 32.947299607110466\t 1.579257056101869\t 2.9982251115847647\t 3.189488731858116\n",
            "5  \t [-3.00138069 -1.80849258]\t 12.278931466683723\t 1.579257056101869\t 2.8036568099786354\t 2.87895209795175\n",
            "6  \t [ 4.33691192 -4.78287703]\t 41.68471767295998\t 1.579257056101869\t 3.338912378706215\t 3.7232226513136255\n",
            "7  \t [1.85067351 0.10042877]\t 3.4350783600799426\t 1.579257056101869\t 3.529425784542777\t 3.1787972538374474\n",
            "8  \t [-1.29079874  1.90510218]\t 5.295575674942764\t 1.579257056101869\t 3.0645522318598246\t 3.248084273564923\n",
            "\u001b[1m\u001b[92m9\u001b[0m\t \u001b[1m\u001b[92m[-0.35259196 -0.74207363]\u001b[0m\t \u001b[1m\u001b[92m0.6749943555826969\u001b[0m\t \u001b[1m\u001b[92m0.6749943555826969\u001b[0m\t \u001b[1m\u001b[92m2.7168105998001932\u001b[0m\t \u001b[1m\u001b[92m2.795847758517149\u001b[0m\n",
            "10 \t [-5.12       -1.31143032]\t 27.934249491012938\t 0.6749943555826969\t 2.9969399884664036\t 3.0794364980712294\n",
            "11 \t [-0.44127509 -0.97350674]\t 1.1424390907408195\t 0.6749943555826969\t 3.0146272645456977\t 2.6496435415229955\n",
            "12 \t [0.62295598 1.3332305 ]\t 2.1655777049611755\t 0.6749943555826969\t 3.2212316191032864\t 3.3215053298387684\n",
            "13 \t [-0.50222013 -1.72486456]\t 3.227382810426193\t 0.6749943555826969\t 3.101785531721287\t 3.5737078436381404\n",
            "14 \t [-0.92318607  0.03751943]\t 0.8536802290817709\t 0.6749943555826969\t 2.4992432359989203\t 2.5810222773372975\n",
            "\u001b[1m\u001b[92m15\u001b[0m\t \u001b[1m\u001b[92m[ 0.02083733 -0.20845961]\u001b[0m\t \u001b[1m\u001b[92m0.04388960411218005\u001b[0m\t \u001b[1m\u001b[92m0.04388960411218005\u001b[0m\t \u001b[1m\u001b[92m2.620270316314595\u001b[0m\t \u001b[1m\u001b[92m2.4234559882699043\u001b[0m\n",
            "16 \t [5.12 5.12]\t 52.4288\t 0.04388960411218005\t 2.9087475566095615\t 3.228029241272813\n",
            "\u001b[1m\u001b[92m17\u001b[0m\t \u001b[1m\u001b[92m[-0.15032138 -0.00663921]\u001b[0m\t \u001b[1m\u001b[92m0.02264059576892618\u001b[0m\t \u001b[1m\u001b[92m0.02264059576892618\u001b[0m\t \u001b[1m\u001b[92m2.9413531205012338\u001b[0m\t \u001b[1m\u001b[92m2.7965554605082517\u001b[0m\n",
            "18 \t [ 0.21396943 -0.29542889]\t 0.1330611432143379\t 0.02264059576892618\t 3.0159940677225787\t 3.1653364155022\n",
            "\u001b[1m\u001b[92m19\u001b[0m\t \u001b[1m\u001b[92m[-0.10498523  0.00095419]\u001b[0m\t \u001b[1m\u001b[92m0.011022808790137496\u001b[0m\t \u001b[1m\u001b[92m0.011022808790137496\u001b[0m\t \u001b[1m\u001b[92m2.978382302787668\u001b[0m\t \u001b[1m\u001b[92m2.707746640732894\u001b[0m\n",
            "20 \t [ 0.39093202 -0.4570741 ]\t 0.3617445755089083\t 0.011022808790137496\t 2.648116665840278\t 2.5614624568903315\n"
          ]
        }
      ],
      "source": [
        "### EXACT GP EI GRADIENTS\n",
        "\n",
        "np.random.seed(run_num_20)\n",
        "surrogate_exact_20 = dGaussianProcess(cov_func, optimize=opt)\n",
        "\n",
        "exact_20 = dGPGO(surrogate_exact_20, Acquisition_grad(util), objfunc, param)\n",
        "exact_20.run(init_evals=n_init, max_iter=iters)\n"
      ]
    },
    {
      "cell_type": "code",
      "execution_count": 54,
      "metadata": {
        "id": "5c8szjivRPme",
        "colab": {
          "base_uri": "https://localhost:8080/"
        },
        "outputId": "53030593-1435-4d28-aa17-868f1a750f19"
      },
      "outputs": [
        {
          "output_type": "execute_result",
          "data": {
            "text/plain": [
              "947.7921721935272"
            ]
          },
          "metadata": {},
          "execution_count": 54
        }
      ],
      "source": [
        "end_exact = time.time()\n",
        "end_exact\n",
        "\n",
        "time_exact = end_exact - start_exact\n",
        "time_exact\n"
      ]
    },
    {
      "cell_type": "code",
      "execution_count": 55,
      "metadata": {
        "id": "f6gCKnp6RR8c",
        "colab": {
          "base_uri": "https://localhost:8080/"
        },
        "outputId": "70d66aa3-cfee-4b2e-ead3-a4962c9f0d34"
      },
      "outputs": [
        {
          "output_type": "execute_result",
          "data": {
            "text/plain": [
              "(-1.777496842497696, -2.306048829554888)"
            ]
          },
          "metadata": {},
          "execution_count": 55
        }
      ],
      "source": [
        "### Simple regret minimization: run number = 1\n",
        "\n",
        "approx_output_1 = np.append(np.min(-approx_1.GP.y[0:n_init]),-approx_1.GP.y[n_init:(n_init+iters)]) \n",
        "exact_output_1 = np.append(np.min(-exact_1.GP.y[0:n_init]),-exact_1.GP.y[n_init:(n_init+iters)]) \n",
        "\n",
        "regret_approx_1 = np.log(approx_output_1 - y_global_orig)\n",
        "regret_exact_1 = np.log(exact_output_1 - y_global_orig)\n",
        "\n",
        "simple_regret_approx_1 = min_max_array(regret_approx_1)\n",
        "simple_regret_exact_1 = min_max_array(regret_exact_1)\n",
        "\n",
        "min_simple_regret_approx_1 = min(simple_regret_approx_1)\n",
        "min_simple_regret_exact_1 = min(simple_regret_exact_1)\n",
        "\n",
        "min_simple_regret_approx_1, min_simple_regret_exact_1\n"
      ]
    },
    {
      "cell_type": "code",
      "execution_count": 56,
      "metadata": {
        "id": "94yBw5tqQxfk",
        "colab": {
          "base_uri": "https://localhost:8080/"
        },
        "outputId": "d0c71d1e-5aef-4b60-8383-6dd112a84bf8"
      },
      "outputs": [
        {
          "output_type": "execute_result",
          "data": {
            "text/plain": [
              "(-2.795898521365473, -3.4112882987366797)"
            ]
          },
          "metadata": {},
          "execution_count": 56
        }
      ],
      "source": [
        "### Simple regret minimization: run number = 2\n",
        "\n",
        "approx_output_2 = np.append(np.min(-approx_2.GP.y[0:n_init]),-approx_2.GP.y[n_init:(n_init+iters)]) \n",
        "exact_output_2 = np.append(np.min(-exact_2.GP.y[0:n_init]),-exact_2.GP.y[n_init:(n_init+iters)]) \n",
        "\n",
        "regret_approx_2 = np.log(approx_output_2 - y_global_orig)\n",
        "regret_exact_2 = np.log(exact_output_2 - y_global_orig)\n",
        "\n",
        "simple_regret_approx_2 = min_max_array(regret_approx_2)\n",
        "simple_regret_exact_2 = min_max_array(regret_exact_2)\n",
        "\n",
        "min_simple_regret_approx_2 = min(simple_regret_approx_2)\n",
        "min_simple_regret_exact_2 = min(simple_regret_exact_2)\n",
        "\n",
        "min_simple_regret_approx_2, min_simple_regret_exact_2\n"
      ]
    },
    {
      "cell_type": "code",
      "execution_count": 57,
      "metadata": {
        "id": "Bu6SBWALQxfl",
        "colab": {
          "base_uri": "https://localhost:8080/"
        },
        "outputId": "3cd5f5a2-f24c-4e3e-90c4-00ec4ba1c0ca"
      },
      "outputs": [
        {
          "output_type": "execute_result",
          "data": {
            "text/plain": [
              "(-3.845371960647685, -3.6984765192176146)"
            ]
          },
          "metadata": {},
          "execution_count": 57
        }
      ],
      "source": [
        "### Simple regret minimization: run number = 3\n",
        "\n",
        "approx_output_3 = np.append(np.min(-approx_3.GP.y[0:n_init]),-approx_3.GP.y[n_init:(n_init+iters)]) \n",
        "exact_output_3 = np.append(np.min(-exact_3.GP.y[0:n_init]),-exact_3.GP.y[n_init:(n_init+iters)]) \n",
        "\n",
        "regret_approx_3 = np.log(approx_output_3 - y_global_orig)\n",
        "regret_exact_3 = np.log(exact_output_3 - y_global_orig)\n",
        "\n",
        "simple_regret_approx_3 = min_max_array(regret_approx_3)\n",
        "simple_regret_exact_3 = min_max_array(regret_exact_3)\n",
        "\n",
        "min_simple_regret_approx_3 = min(simple_regret_approx_3)\n",
        "min_simple_regret_exact_3 = min(simple_regret_exact_3)\n",
        "\n",
        "min_simple_regret_approx_3, min_simple_regret_exact_3"
      ]
    },
    {
      "cell_type": "code",
      "execution_count": 58,
      "metadata": {
        "id": "AZm0jgxkQxfm",
        "colab": {
          "base_uri": "https://localhost:8080/"
        },
        "outputId": "ef84cc58-cd67-43a9-feed-1f30c822a2c9"
      },
      "outputs": [
        {
          "output_type": "execute_result",
          "data": {
            "text/plain": [
              "(-7.136183774292165, -3.536457388414055)"
            ]
          },
          "metadata": {},
          "execution_count": 58
        }
      ],
      "source": [
        "### Simple regret minimization: run number = 4\n",
        "\n",
        "approx_output_4 = np.append(np.min(-approx_4.GP.y[0:n_init]),-approx_4.GP.y[n_init:(n_init+iters)]) \n",
        "exact_output_4 = np.append(np.min(-exact_4.GP.y[0:n_init]),-exact_4.GP.y[n_init:(n_init+iters)]) \n",
        "\n",
        "regret_approx_4 = np.log(approx_output_4 - y_global_orig)\n",
        "regret_exact_4 = np.log(exact_output_4 - y_global_orig)\n",
        "\n",
        "simple_regret_approx_4 = min_max_array(regret_approx_4)\n",
        "simple_regret_exact_4 = min_max_array(regret_exact_4)\n",
        "\n",
        "min_simple_regret_approx_4 = min(simple_regret_approx_4)\n",
        "min_simple_regret_exact_4 = min(simple_regret_exact_4)\n",
        "\n",
        "min_simple_regret_approx_4, min_simple_regret_exact_4"
      ]
    },
    {
      "cell_type": "code",
      "execution_count": 59,
      "metadata": {
        "id": "NONPm8JIQxfn",
        "colab": {
          "base_uri": "https://localhost:8080/"
        },
        "outputId": "ec32a6fe-3eb2-4f20-86ec-6ecb35e354d3"
      },
      "outputs": [
        {
          "output_type": "execute_result",
          "data": {
            "text/plain": [
              "(-3.050874224112237, -3.2043150866694785)"
            ]
          },
          "metadata": {},
          "execution_count": 59
        }
      ],
      "source": [
        "### Simple regret minimization: run number = 5\n",
        "\n",
        "approx_output_5 = np.append(np.min(-approx_5.GP.y[0:n_init]),-approx_5.GP.y[n_init:(n_init+iters)]) \n",
        "exact_output_5 = np.append(np.min(-exact_5.GP.y[0:n_init]),-exact_5.GP.y[n_init:(n_init+iters)]) \n",
        "\n",
        "regret_approx_5 = np.log(approx_output_5 - y_global_orig)\n",
        "regret_exact_5 = np.log(exact_output_5 - y_global_orig)\n",
        "\n",
        "simple_regret_approx_5 = min_max_array(regret_approx_5)\n",
        "simple_regret_exact_5 = min_max_array(regret_exact_5)\n",
        "\n",
        "min_simple_regret_approx_5 = min(simple_regret_approx_5)\n",
        "min_simple_regret_exact_5 = min(simple_regret_exact_5)\n",
        "\n",
        "min_simple_regret_approx_5, min_simple_regret_exact_5"
      ]
    },
    {
      "cell_type": "code",
      "execution_count": 60,
      "metadata": {
        "id": "CJv3lPuSQxfp",
        "colab": {
          "base_uri": "https://localhost:8080/"
        },
        "outputId": "7f5bb21c-5975-45aa-9beb-71460a3aa6ba"
      },
      "outputs": [
        {
          "output_type": "execute_result",
          "data": {
            "text/plain": [
              "(-4.793625470271279, -2.355491009313049)"
            ]
          },
          "metadata": {},
          "execution_count": 60
        }
      ],
      "source": [
        "### Simple regret minimization: run number = 6\n",
        "\n",
        "approx_output_6 = np.append(np.min(-approx_6.GP.y[0:n_init]),-approx_6.GP.y[n_init:(n_init+iters)]) \n",
        "exact_output_6 = np.append(np.min(-exact_6.GP.y[0:n_init]),-exact_6.GP.y[n_init:(n_init+iters)]) \n",
        "\n",
        "regret_approx_6 = np.log(approx_output_6 - y_global_orig)\n",
        "regret_exact_6 = np.log(exact_output_6 - y_global_orig)\n",
        "\n",
        "simple_regret_approx_6 = min_max_array(regret_approx_6)\n",
        "simple_regret_exact_6 = min_max_array(regret_exact_6)\n",
        "\n",
        "min_simple_regret_approx_6 = min(simple_regret_approx_6)\n",
        "min_simple_regret_exact_6 = min(simple_regret_exact_6)\n",
        "\n",
        "min_simple_regret_approx_6, min_simple_regret_exact_6"
      ]
    },
    {
      "cell_type": "code",
      "execution_count": 61,
      "metadata": {
        "id": "quR2ZyApQxfq",
        "colab": {
          "base_uri": "https://localhost:8080/"
        },
        "outputId": "3dd007a2-2ad3-4a70-bf43-1f6b55c3307f"
      },
      "outputs": [
        {
          "output_type": "execute_result",
          "data": {
            "text/plain": [
              "(-3.9944381210018443, -4.02149900433329)"
            ]
          },
          "metadata": {},
          "execution_count": 61
        }
      ],
      "source": [
        "### Simple regret minimization: run number = 7\n",
        "\n",
        "approx_output_7 = np.append(np.min(-approx_7.GP.y[0:n_init]),-approx_7.GP.y[n_init:(n_init+iters)]) \n",
        "exact_output_7 = np.append(np.min(-exact_7.GP.y[0:n_init]),-exact_7.GP.y[n_init:(n_init+iters)]) \n",
        "\n",
        "regret_approx_7 = np.log(approx_output_7 - y_global_orig)\n",
        "regret_exact_7 = np.log(exact_output_7 - y_global_orig)\n",
        "\n",
        "simple_regret_approx_7 = min_max_array(regret_approx_7)\n",
        "simple_regret_exact_7 = min_max_array(regret_exact_7)\n",
        "\n",
        "min_simple_regret_approx_7 = min(simple_regret_approx_7)\n",
        "min_simple_regret_exact_7 = min(simple_regret_exact_7)\n",
        "\n",
        "min_simple_regret_approx_7, min_simple_regret_exact_7"
      ]
    },
    {
      "cell_type": "code",
      "execution_count": 62,
      "metadata": {
        "id": "99wY5nK6Qxfr",
        "colab": {
          "base_uri": "https://localhost:8080/"
        },
        "outputId": "b08f8ef9-7bcf-4341-d716-d0bbbf9ba96e"
      },
      "outputs": [
        {
          "output_type": "execute_result",
          "data": {
            "text/plain": [
              "(-4.1910533851313, -4.91379520485339)"
            ]
          },
          "metadata": {},
          "execution_count": 62
        }
      ],
      "source": [
        "### Simple regret minimization: run number = 8\n",
        "\n",
        "approx_output_8 = np.append(np.min(-approx_8.GP.y[0:n_init]),-approx_8.GP.y[n_init:(n_init+iters)]) \n",
        "exact_output_8 = np.append(np.min(-exact_8.GP.y[0:n_init]),-exact_8.GP.y[n_init:(n_init+iters)]) \n",
        "\n",
        "regret_approx_8 = np.log(approx_output_8 - y_global_orig)\n",
        "regret_exact_8 = np.log(exact_output_8 - y_global_orig)\n",
        "\n",
        "simple_regret_approx_8 = min_max_array(regret_approx_8)\n",
        "simple_regret_exact_8 = min_max_array(regret_exact_8)\n",
        "\n",
        "min_simple_regret_approx_8 = min(simple_regret_approx_8)\n",
        "min_simple_regret_exact_8 = min(simple_regret_exact_8)\n",
        "\n",
        "min_simple_regret_approx_8, min_simple_regret_exact_8"
      ]
    },
    {
      "cell_type": "code",
      "execution_count": 63,
      "metadata": {
        "id": "qt0P5t9qQxfs",
        "colab": {
          "base_uri": "https://localhost:8080/"
        },
        "outputId": "21a9f816-1459-421d-c47d-e81adef1eef9"
      },
      "outputs": [
        {
          "output_type": "execute_result",
          "data": {
            "text/plain": [
              "(-1.9682607591191639, -1.6947434564906765)"
            ]
          },
          "metadata": {},
          "execution_count": 63
        }
      ],
      "source": [
        "### Simple regret minimization: run number = 9\n",
        "\n",
        "approx_output_9 = np.append(np.min(-approx_9.GP.y[0:n_init]),-approx_9.GP.y[n_init:(n_init+iters)]) \n",
        "exact_output_9 = np.append(np.min(-exact_9.GP.y[0:n_init]),-exact_9.GP.y[n_init:(n_init+iters)]) \n",
        "\n",
        "regret_approx_9 = np.log(approx_output_9 - y_global_orig)\n",
        "regret_exact_9 = np.log(exact_output_9 - y_global_orig)\n",
        "\n",
        "simple_regret_approx_9 = min_max_array(regret_approx_9)\n",
        "simple_regret_exact_9 = min_max_array(regret_exact_9)\n",
        "\n",
        "min_simple_regret_approx_9 = min(simple_regret_approx_9)\n",
        "min_simple_regret_exact_9 = min(simple_regret_exact_9)\n",
        "\n",
        "min_simple_regret_approx_9, min_simple_regret_exact_9"
      ]
    },
    {
      "cell_type": "code",
      "execution_count": 64,
      "metadata": {
        "id": "vx8to9stQxft",
        "colab": {
          "base_uri": "https://localhost:8080/"
        },
        "outputId": "7e1e88cc-6976-48a0-c917-41b21abc0a5a"
      },
      "outputs": [
        {
          "output_type": "execute_result",
          "data": {
            "text/plain": [
              "(-6.638621446311669, -4.548333010450924)"
            ]
          },
          "metadata": {},
          "execution_count": 64
        }
      ],
      "source": [
        "### Simple regret minimization: run number = 10\n",
        "\n",
        "approx_output_10 = np.append(np.min(-approx_10.GP.y[0:n_init]),-approx_10.GP.y[n_init:(n_init+iters)]) \n",
        "exact_output_10 = np.append(np.min(-exact_10.GP.y[0:n_init]),-exact_10.GP.y[n_init:(n_init+iters)]) \n",
        "\n",
        "regret_approx_10 = np.log(approx_output_10 - y_global_orig)\n",
        "regret_exact_10 = np.log(exact_output_10 - y_global_orig)\n",
        "\n",
        "simple_regret_approx_10 = min_max_array(regret_approx_10)\n",
        "simple_regret_exact_10 = min_max_array(regret_exact_10)\n",
        "\n",
        "min_simple_regret_approx_10 = min(simple_regret_approx_10)\n",
        "min_simple_regret_exact_10 = min(simple_regret_exact_10)\n",
        "\n",
        "min_simple_regret_approx_10, min_simple_regret_exact_10"
      ]
    },
    {
      "cell_type": "code",
      "execution_count": 65,
      "metadata": {
        "id": "d-FGzWyHQxfu",
        "colab": {
          "base_uri": "https://localhost:8080/"
        },
        "outputId": "69f517e3-8c43-4332-9377-9d60cded1fa9"
      },
      "outputs": [
        {
          "output_type": "execute_result",
          "data": {
            "text/plain": [
              "(-3.3116060758545767, -6.846611082186411)"
            ]
          },
          "metadata": {},
          "execution_count": 65
        }
      ],
      "source": [
        "### Simple regret minimization: run number = 11\n",
        "\n",
        "approx_output_11 = np.append(np.min(-approx_11.GP.y[0:n_init]),-approx_11.GP.y[n_init:(n_init+iters)]) \n",
        "exact_output_11 = np.append(np.min(-exact_11.GP.y[0:n_init]),-exact_11.GP.y[n_init:(n_init+iters)]) \n",
        "\n",
        "regret_approx_11 = np.log(approx_output_11 - y_global_orig)\n",
        "regret_exact_11 = np.log(exact_output_11 - y_global_orig)\n",
        "\n",
        "simple_regret_approx_11 = min_max_array(regret_approx_11)\n",
        "simple_regret_exact_11 = min_max_array(regret_exact_11)\n",
        "\n",
        "min_simple_regret_approx_11 = min(simple_regret_approx_11)\n",
        "min_simple_regret_exact_11 = min(simple_regret_exact_11)\n",
        "\n",
        "min_simple_regret_approx_11, min_simple_regret_exact_11"
      ]
    },
    {
      "cell_type": "code",
      "execution_count": 66,
      "metadata": {
        "id": "SvtsssyjQxfv",
        "colab": {
          "base_uri": "https://localhost:8080/"
        },
        "outputId": "60e5f62d-94cd-45b8-934b-92f9c8b42a00"
      },
      "outputs": [
        {
          "output_type": "execute_result",
          "data": {
            "text/plain": [
              "(-2.3848322393304526, -2.9877712705225443)"
            ]
          },
          "metadata": {},
          "execution_count": 66
        }
      ],
      "source": [
        "### Simple regret minimization: run number = 12\n",
        "\n",
        "approx_output_12 = np.append(np.min(-approx_12.GP.y[0:n_init]),-approx_12.GP.y[n_init:(n_init+iters)]) \n",
        "exact_output_12 = np.append(np.min(-exact_12.GP.y[0:n_init]),-exact_12.GP.y[n_init:(n_init+iters)]) \n",
        "\n",
        "regret_approx_12 = np.log(approx_output_12 - y_global_orig)\n",
        "regret_exact_12 = np.log(exact_output_12 - y_global_orig)\n",
        "\n",
        "simple_regret_approx_12 = min_max_array(regret_approx_12)\n",
        "simple_regret_exact_12 = min_max_array(regret_exact_12)\n",
        "\n",
        "min_simple_regret_approx_12 = min(simple_regret_approx_12)\n",
        "min_simple_regret_exact_12 = min(simple_regret_exact_12)\n",
        "\n",
        "min_simple_regret_approx_12, min_simple_regret_exact_12"
      ]
    },
    {
      "cell_type": "code",
      "execution_count": 67,
      "metadata": {
        "id": "K6OiGcHkQxfw",
        "colab": {
          "base_uri": "https://localhost:8080/"
        },
        "outputId": "59936c2b-4347-42d2-f78e-9a77b475bebd"
      },
      "outputs": [
        {
          "output_type": "execute_result",
          "data": {
            "text/plain": [
              "(-2.431251067795123, -4.769090090133791)"
            ]
          },
          "metadata": {},
          "execution_count": 67
        }
      ],
      "source": [
        "### Simple regret minimization: run number = 13\n",
        "\n",
        "approx_output_13 = np.append(np.min(-approx_13.GP.y[0:n_init]),-approx_13.GP.y[n_init:(n_init+iters)]) \n",
        "exact_output_13 = np.append(np.min(-exact_13.GP.y[0:n_init]),-exact_13.GP.y[n_init:(n_init+iters)]) \n",
        "\n",
        "regret_approx_13 = np.log(approx_output_13 - y_global_orig)\n",
        "regret_exact_13 = np.log(exact_output_13 - y_global_orig)\n",
        "\n",
        "simple_regret_approx_13 = min_max_array(regret_approx_13)\n",
        "simple_regret_exact_13 = min_max_array(regret_exact_13)\n",
        "\n",
        "min_simple_regret_approx_13 = min(simple_regret_approx_13)\n",
        "min_simple_regret_exact_13 = min(simple_regret_exact_13)\n",
        "\n",
        "min_simple_regret_approx_13, min_simple_regret_exact_13"
      ]
    },
    {
      "cell_type": "code",
      "execution_count": 68,
      "metadata": {
        "id": "ogML73shQxfx",
        "colab": {
          "base_uri": "https://localhost:8080/"
        },
        "outputId": "cb789027-ade0-4d1e-91d6-c5d50f764cdc"
      },
      "outputs": [
        {
          "output_type": "execute_result",
          "data": {
            "text/plain": [
              "(-6.355061021463939, -3.469591498497437)"
            ]
          },
          "metadata": {},
          "execution_count": 68
        }
      ],
      "source": [
        "### Simple regret minimization: run number = 14\n",
        "\n",
        "approx_output_14 = np.append(np.min(-approx_14.GP.y[0:n_init]),-approx_14.GP.y[n_init:(n_init+iters)]) \n",
        "exact_output_14 = np.append(np.min(-exact_14.GP.y[0:n_init]),-exact_14.GP.y[n_init:(n_init+iters)]) \n",
        "\n",
        "regret_approx_14 = np.log(approx_output_14 - y_global_orig)\n",
        "regret_exact_14 = np.log(exact_output_14 - y_global_orig)\n",
        "\n",
        "simple_regret_approx_14 = min_max_array(regret_approx_14)\n",
        "simple_regret_exact_14 = min_max_array(regret_exact_14)\n",
        "\n",
        "min_simple_regret_approx_14 = min(simple_regret_approx_14)\n",
        "min_simple_regret_exact_14 = min(simple_regret_exact_14)\n",
        "\n",
        "min_simple_regret_approx_14, min_simple_regret_exact_14"
      ]
    },
    {
      "cell_type": "code",
      "execution_count": 69,
      "metadata": {
        "id": "9Eg7gFT9Qxfx",
        "colab": {
          "base_uri": "https://localhost:8080/"
        },
        "outputId": "199bfecf-a328-4449-e984-bac1126cb42e"
      },
      "outputs": [
        {
          "output_type": "execute_result",
          "data": {
            "text/plain": [
              "(-4.308398019644534, -6.986876604560284)"
            ]
          },
          "metadata": {},
          "execution_count": 69
        }
      ],
      "source": [
        "### Simple regret minimization: run number = 15\n",
        "\n",
        "approx_output_15 = np.append(np.min(-approx_15.GP.y[0:n_init]),-approx_15.GP.y[n_init:(n_init+iters)]) \n",
        "exact_output_15 = np.append(np.min(-exact_15.GP.y[0:n_init]),-exact_15.GP.y[n_init:(n_init+iters)]) \n",
        "\n",
        "regret_approx_15 = np.log(approx_output_15 - y_global_orig)\n",
        "regret_exact_15 = np.log(exact_output_15 - y_global_orig)\n",
        "\n",
        "simple_regret_approx_15 = min_max_array(regret_approx_15)\n",
        "simple_regret_exact_15 = min_max_array(regret_exact_15)\n",
        "\n",
        "min_simple_regret_approx_15 = min(simple_regret_approx_15)\n",
        "min_simple_regret_exact_15 = min(simple_regret_exact_15)\n",
        "\n",
        "min_simple_regret_approx_15, min_simple_regret_exact_15"
      ]
    },
    {
      "cell_type": "code",
      "execution_count": 70,
      "metadata": {
        "id": "lIAC1U7ZQxfy",
        "colab": {
          "base_uri": "https://localhost:8080/"
        },
        "outputId": "0dd85d37-13f3-4029-9fcd-0c04f2d95c1d"
      },
      "outputs": [
        {
          "output_type": "execute_result",
          "data": {
            "text/plain": [
              "(-2.136304289842525, -3.048647966811422)"
            ]
          },
          "metadata": {},
          "execution_count": 70
        }
      ],
      "source": [
        "### Simple regret minimization: run number = 16\n",
        "\n",
        "approx_output_16 = np.append(np.min(-approx_16.GP.y[0:n_init]),-approx_16.GP.y[n_init:(n_init+iters)]) \n",
        "exact_output_16 = np.append(np.min(-exact_16.GP.y[0:n_init]),-exact_16.GP.y[n_init:(n_init+iters)]) \n",
        "\n",
        "regret_approx_16 = np.log(approx_output_16 - y_global_orig)\n",
        "regret_exact_16 = np.log(exact_output_16 - y_global_orig)\n",
        "\n",
        "simple_regret_approx_16 = min_max_array(regret_approx_16)\n",
        "simple_regret_exact_16 = min_max_array(regret_exact_16)\n",
        "\n",
        "min_simple_regret_approx_16 = min(simple_regret_approx_16)\n",
        "min_simple_regret_exact_16 = min(simple_regret_exact_16)\n",
        "\n",
        "min_simple_regret_approx_16, min_simple_regret_exact_16"
      ]
    },
    {
      "cell_type": "code",
      "execution_count": 71,
      "metadata": {
        "id": "bGott36OQxfz",
        "colab": {
          "base_uri": "https://localhost:8080/"
        },
        "outputId": "32da735a-e1d0-4055-e093-f0e800dfb216"
      },
      "outputs": [
        {
          "output_type": "execute_result",
          "data": {
            "text/plain": [
              "(-5.131368734872394, -4.018451647556506)"
            ]
          },
          "metadata": {},
          "execution_count": 71
        }
      ],
      "source": [
        "### Simple regret minimization: run number = 17\n",
        "\n",
        "approx_output_17 = np.append(np.min(-approx_17.GP.y[0:n_init]),-approx_17.GP.y[n_init:(n_init+iters)]) \n",
        "exact_output_17 = np.append(np.min(-exact_17.GP.y[0:n_init]),-exact_17.GP.y[n_init:(n_init+iters)]) \n",
        "\n",
        "regret_approx_17 = np.log(approx_output_17 - y_global_orig)\n",
        "regret_exact_17 = np.log(exact_output_17 - y_global_orig)\n",
        "\n",
        "simple_regret_approx_17 = min_max_array(regret_approx_17)\n",
        "simple_regret_exact_17 = min_max_array(regret_exact_17)\n",
        "\n",
        "min_simple_regret_approx_17 = min(simple_regret_approx_17)\n",
        "min_simple_regret_exact_17 = min(simple_regret_exact_17)\n",
        "\n",
        "min_simple_regret_approx_17, min_simple_regret_exact_17"
      ]
    },
    {
      "cell_type": "code",
      "execution_count": 72,
      "metadata": {
        "id": "Cz9ZYMBMQxfz",
        "colab": {
          "base_uri": "https://localhost:8080/"
        },
        "outputId": "788ea86f-18e3-48a1-ea37-729285b9c800"
      },
      "outputs": [
        {
          "output_type": "execute_result",
          "data": {
            "text/plain": [
              "(-4.81651302681007, -4.734427996782483)"
            ]
          },
          "metadata": {},
          "execution_count": 72
        }
      ],
      "source": [
        "### Simple regret minimization: run number = 18\n",
        "\n",
        "approx_output_18 = np.append(np.min(-approx_18.GP.y[0:n_init]),-approx_18.GP.y[n_init:(n_init+iters)]) \n",
        "exact_output_18 = np.append(np.min(-exact_18.GP.y[0:n_init]),-exact_18.GP.y[n_init:(n_init+iters)]) \n",
        "\n",
        "regret_approx_18 = np.log(approx_output_18 - y_global_orig)\n",
        "regret_exact_18 = np.log(exact_output_18 - y_global_orig)\n",
        "\n",
        "simple_regret_approx_18 = min_max_array(regret_approx_18)\n",
        "simple_regret_exact_18 = min_max_array(regret_exact_18)\n",
        "\n",
        "min_simple_regret_approx_18 = min(simple_regret_approx_18)\n",
        "min_simple_regret_exact_18 = min(simple_regret_exact_18)\n",
        "\n",
        "min_simple_regret_approx_18, min_simple_regret_exact_18"
      ]
    },
    {
      "cell_type": "code",
      "execution_count": 73,
      "metadata": {
        "id": "OBfpWOHNQxf0",
        "colab": {
          "base_uri": "https://localhost:8080/"
        },
        "outputId": "bc85deb6-dabf-4d85-dd94-0e90c7c5b561"
      },
      "outputs": [
        {
          "output_type": "execute_result",
          "data": {
            "text/plain": [
              "(-6.422811805438559, -4.929929337585124)"
            ]
          },
          "metadata": {},
          "execution_count": 73
        }
      ],
      "source": [
        "### Simple regret minimization: run number = 19\n",
        "\n",
        "approx_output_19 = np.append(np.min(-approx_19.GP.y[0:n_init]),-approx_19.GP.y[n_init:(n_init+iters)]) \n",
        "exact_output_19 = np.append(np.min(-exact_19.GP.y[0:n_init]),-exact_19.GP.y[n_init:(n_init+iters)]) \n",
        "\n",
        "regret_approx_19 = np.log(approx_output_19 - y_global_orig)\n",
        "regret_exact_19 = np.log(exact_output_19 - y_global_orig)\n",
        "\n",
        "simple_regret_approx_19 = min_max_array(regret_approx_19)\n",
        "simple_regret_exact_19 = min_max_array(regret_exact_19)\n",
        "\n",
        "min_simple_regret_approx_19 = min(simple_regret_approx_19)\n",
        "min_simple_regret_exact_19 = min(simple_regret_exact_19)\n",
        "\n",
        "min_simple_regret_approx_19, min_simple_regret_exact_19"
      ]
    },
    {
      "cell_type": "code",
      "execution_count": 74,
      "metadata": {
        "id": "BE1AJ7NsQxf0",
        "colab": {
          "base_uri": "https://localhost:8080/"
        },
        "outputId": "09e4d3f4-b293-42fa-95b1-3a1b4aa5fe0f"
      },
      "outputs": [
        {
          "output_type": "execute_result",
          "data": {
            "text/plain": [
              "(-4.153921797499737, -4.507788626596343)"
            ]
          },
          "metadata": {},
          "execution_count": 74
        }
      ],
      "source": [
        "### Simple regret minimization: run number = 20\n",
        "\n",
        "approx_output_20 = np.append(np.min(-approx_20.GP.y[0:n_init]),-approx_20.GP.y[n_init:(n_init+iters)]) \n",
        "exact_output_20 = np.append(np.min(-exact_20.GP.y[0:n_init]),-exact_20.GP.y[n_init:(n_init+iters)]) \n",
        "\n",
        "regret_approx_20 = np.log(approx_output_20 - y_global_orig)\n",
        "regret_exact_20 = np.log(exact_output_20 - y_global_orig)\n",
        "\n",
        "simple_regret_approx_20 = min_max_array(regret_approx_20)\n",
        "simple_regret_exact_20 = min_max_array(regret_exact_20)\n",
        "\n",
        "min_simple_regret_approx_20 = min(simple_regret_approx_20)\n",
        "min_simple_regret_exact_20 = min(simple_regret_exact_20)\n",
        "\n",
        "min_simple_regret_approx_20, min_simple_regret_exact_20"
      ]
    },
    {
      "cell_type": "code",
      "execution_count": 75,
      "metadata": {
        "id": "bpX-bKAHQxf1"
      },
      "outputs": [],
      "source": [
        "# Iteration1 :\n",
        "\n",
        "slice1 = 0\n",
        "\n",
        "approx1 = [simple_regret_approx_1[slice1],\n",
        "       simple_regret_approx_2[slice1],\n",
        "       simple_regret_approx_3[slice1],\n",
        "       simple_regret_approx_4[slice1],\n",
        "       simple_regret_approx_5[slice1],\n",
        "       simple_regret_approx_6[slice1],\n",
        "       simple_regret_approx_7[slice1],\n",
        "       simple_regret_approx_8[slice1],\n",
        "       simple_regret_approx_9[slice1],\n",
        "       simple_regret_approx_10[slice1],\n",
        "       simple_regret_approx_11[slice1],\n",
        "       simple_regret_approx_12[slice1],\n",
        "       simple_regret_approx_13[slice1],\n",
        "       simple_regret_approx_14[slice1],\n",
        "       simple_regret_approx_15[slice1],\n",
        "       simple_regret_approx_16[slice1],\n",
        "       simple_regret_approx_17[slice1],\n",
        "       simple_regret_approx_18[slice1],\n",
        "       simple_regret_approx_19[slice1],\n",
        "       simple_regret_approx_20[slice1]]\n",
        "\n",
        "exact1 = [simple_regret_exact_1[slice1],\n",
        "       simple_regret_exact_2[slice1],\n",
        "       simple_regret_exact_3[slice1],\n",
        "       simple_regret_exact_4[slice1],\n",
        "       simple_regret_exact_5[slice1],\n",
        "       simple_regret_exact_6[slice1],\n",
        "       simple_regret_exact_7[slice1],\n",
        "       simple_regret_exact_8[slice1],\n",
        "       simple_regret_exact_9[slice1],\n",
        "       simple_regret_exact_10[slice1],\n",
        "       simple_regret_exact_11[slice1],\n",
        "       simple_regret_exact_12[slice1],\n",
        "       simple_regret_exact_13[slice1],\n",
        "       simple_regret_exact_14[slice1],\n",
        "       simple_regret_exact_15[slice1],\n",
        "       simple_regret_exact_16[slice1],\n",
        "       simple_regret_exact_17[slice1],\n",
        "       simple_regret_exact_18[slice1],\n",
        "       simple_regret_exact_19[slice1],\n",
        "       simple_regret_exact_20[slice1]]\n",
        "\n",
        "approx1_results = pd.DataFrame(approx1).sort_values(by=[0], ascending=False)\n",
        "exact1_results = pd.DataFrame(exact1).sort_values(by=[0], ascending=False)\n",
        "\n",
        "### Best simple regret minimization IQR - approx:\n",
        "lower_approx1 = np.asarray(approx1_results[4:5][0])[0]\n",
        "median_approx1 = np.asarray(approx1_results[9:10][0])[0]\n",
        "upper_approx1 = np.asarray(approx1_results[14:15][0])[0]\n",
        "\n",
        "lower_exact1 = np.asarray(exact1_results[4:5][0])[0]\n",
        "median_exact1 = np.asarray(exact1_results[9:10][0])[0]\n",
        "upper_exact1 = np.asarray(exact1_results[14:15][0])[0]"
      ]
    },
    {
      "cell_type": "code",
      "execution_count": 76,
      "metadata": {
        "id": "CgIkJA1xQxf2"
      },
      "outputs": [],
      "source": [
        "# Iteration11 :\n",
        "\n",
        "slice11 = 10\n",
        "\n",
        "approx11 = [simple_regret_approx_1[slice11],\n",
        "       simple_regret_approx_2[slice11],\n",
        "       simple_regret_approx_3[slice11],\n",
        "       simple_regret_approx_4[slice11],\n",
        "       simple_regret_approx_5[slice11],\n",
        "       simple_regret_approx_6[slice11],\n",
        "       simple_regret_approx_7[slice11],\n",
        "       simple_regret_approx_8[slice11],\n",
        "       simple_regret_approx_9[slice11],\n",
        "       simple_regret_approx_10[slice11],\n",
        "       simple_regret_approx_11[slice11],\n",
        "       simple_regret_approx_12[slice11],\n",
        "       simple_regret_approx_13[slice11],\n",
        "       simple_regret_approx_14[slice11],\n",
        "       simple_regret_approx_15[slice11],\n",
        "       simple_regret_approx_16[slice11],\n",
        "       simple_regret_approx_17[slice11],\n",
        "       simple_regret_approx_18[slice11],\n",
        "       simple_regret_approx_19[slice11],\n",
        "       simple_regret_approx_20[slice11]]\n",
        "\n",
        "exact11 = [simple_regret_exact_1[slice11],\n",
        "       simple_regret_exact_2[slice11],\n",
        "       simple_regret_exact_3[slice11],\n",
        "       simple_regret_exact_4[slice11],\n",
        "       simple_regret_exact_5[slice11],\n",
        "       simple_regret_exact_6[slice11],\n",
        "       simple_regret_exact_7[slice11],\n",
        "       simple_regret_exact_8[slice11],\n",
        "       simple_regret_exact_9[slice11],\n",
        "       simple_regret_exact_10[slice11],\n",
        "       simple_regret_exact_11[slice11],\n",
        "       simple_regret_exact_12[slice11],\n",
        "       simple_regret_exact_13[slice11],\n",
        "       simple_regret_exact_14[slice11],\n",
        "       simple_regret_exact_15[slice11],\n",
        "       simple_regret_exact_16[slice11],\n",
        "       simple_regret_exact_17[slice11],\n",
        "       simple_regret_exact_18[slice11],\n",
        "       simple_regret_exact_19[slice11],\n",
        "       simple_regret_exact_20[slice11]]\n",
        "\n",
        "approx11_results = pd.DataFrame(approx11).sort_values(by=[0], ascending=False)\n",
        "exact11_results = pd.DataFrame(exact11).sort_values(by=[0], ascending=False)\n",
        "\n",
        "### Best simple regret minimization IQR - approx:\n",
        "lower_approx11 = np.asarray(approx11_results[4:5][0])[0]\n",
        "median_approx11 = np.asarray(approx11_results[9:10][0])[0]\n",
        "upper_approx11 = np.asarray(approx11_results[14:15][0])[0]\n",
        "\n",
        "lower_exact11 = np.asarray(exact11_results[4:5][0])[0]\n",
        "median_exact11 = np.asarray(exact11_results[9:10][0])[0]\n",
        "upper_exact11 = np.asarray(exact11_results[14:15][0])[0]"
      ]
    },
    {
      "cell_type": "code",
      "execution_count": 77,
      "metadata": {
        "id": "MFePDfGuQxf2"
      },
      "outputs": [],
      "source": [
        "# Iteration21 :\n",
        "\n",
        "slice21 = 20\n",
        "\n",
        "approx21 = [simple_regret_approx_1[slice21],\n",
        "       simple_regret_approx_2[slice21],\n",
        "       simple_regret_approx_3[slice21],\n",
        "       simple_regret_approx_4[slice21],\n",
        "       simple_regret_approx_5[slice21],\n",
        "       simple_regret_approx_6[slice21],\n",
        "       simple_regret_approx_7[slice21],\n",
        "       simple_regret_approx_8[slice21],\n",
        "       simple_regret_approx_9[slice21],\n",
        "       simple_regret_approx_10[slice21],\n",
        "       simple_regret_approx_11[slice21],\n",
        "       simple_regret_approx_12[slice21],\n",
        "       simple_regret_approx_13[slice21],\n",
        "       simple_regret_approx_14[slice21],\n",
        "       simple_regret_approx_15[slice21],\n",
        "       simple_regret_approx_16[slice21],\n",
        "       simple_regret_approx_17[slice21],\n",
        "       simple_regret_approx_18[slice21],\n",
        "       simple_regret_approx_19[slice21],\n",
        "       simple_regret_approx_20[slice21]]\n",
        "\n",
        "exact21 = [simple_regret_exact_1[slice21],\n",
        "       simple_regret_exact_2[slice21],\n",
        "       simple_regret_exact_3[slice21],\n",
        "       simple_regret_exact_4[slice21],\n",
        "       simple_regret_exact_5[slice21],\n",
        "       simple_regret_exact_6[slice21],\n",
        "       simple_regret_exact_7[slice21],\n",
        "       simple_regret_exact_8[slice21],\n",
        "       simple_regret_exact_9[slice21],\n",
        "       simple_regret_exact_10[slice21],\n",
        "       simple_regret_exact_11[slice21],\n",
        "       simple_regret_exact_12[slice21],\n",
        "       simple_regret_exact_13[slice21],\n",
        "       simple_regret_exact_14[slice21],\n",
        "       simple_regret_exact_15[slice21],\n",
        "       simple_regret_exact_16[slice21],\n",
        "       simple_regret_exact_17[slice21],\n",
        "       simple_regret_exact_18[slice21],\n",
        "       simple_regret_exact_19[slice21],\n",
        "       simple_regret_exact_20[slice21]]\n",
        "\n",
        "approx21_results = pd.DataFrame(approx21).sort_values(by=[0], ascending=False)\n",
        "exact21_results = pd.DataFrame(exact21).sort_values(by=[0], ascending=False)\n",
        "\n",
        "### Best simple regret minimization IQR - approx:\n",
        "lower_approx21 = np.asarray(approx21_results[4:5][0])[0]\n",
        "median_approx21 = np.asarray(approx21_results[9:10][0])[0]\n",
        "upper_approx21 = np.asarray(approx21_results[14:15][0])[0]\n",
        "\n",
        "lower_exact21 = np.asarray(exact21_results[4:5][0])[0]\n",
        "median_exact21 = np.asarray(exact21_results[9:10][0])[0]\n",
        "upper_exact21 = np.asarray(exact21_results[14:15][0])[0]"
      ]
    },
    {
      "cell_type": "code",
      "execution_count": 78,
      "metadata": {
        "id": "PrRDB1kfQxf3"
      },
      "outputs": [],
      "source": [
        "# Iteration2 :\n",
        "\n",
        "slice2 = 1\n",
        "\n",
        "approx2 = [simple_regret_approx_1[slice2],\n",
        "       simple_regret_approx_2[slice2],\n",
        "       simple_regret_approx_3[slice2],\n",
        "       simple_regret_approx_4[slice2],\n",
        "       simple_regret_approx_5[slice2],\n",
        "       simple_regret_approx_6[slice2],\n",
        "       simple_regret_approx_7[slice2],\n",
        "       simple_regret_approx_8[slice2],\n",
        "       simple_regret_approx_9[slice2],\n",
        "       simple_regret_approx_10[slice2],\n",
        "       simple_regret_approx_11[slice2],\n",
        "       simple_regret_approx_12[slice2],\n",
        "       simple_regret_approx_13[slice2],\n",
        "       simple_regret_approx_14[slice2],\n",
        "       simple_regret_approx_15[slice2],\n",
        "       simple_regret_approx_16[slice2],\n",
        "       simple_regret_approx_17[slice2],\n",
        "       simple_regret_approx_18[slice2],\n",
        "       simple_regret_approx_19[slice2],\n",
        "       simple_regret_approx_20[slice2]]\n",
        "\n",
        "exact2 = [simple_regret_exact_1[slice2],\n",
        "       simple_regret_exact_2[slice2],\n",
        "       simple_regret_exact_3[slice2],\n",
        "       simple_regret_exact_4[slice2],\n",
        "       simple_regret_exact_5[slice2],\n",
        "       simple_regret_exact_6[slice2],\n",
        "       simple_regret_exact_7[slice2],\n",
        "       simple_regret_exact_8[slice2],\n",
        "       simple_regret_exact_9[slice2],\n",
        "       simple_regret_exact_10[slice2],\n",
        "       simple_regret_exact_11[slice2],\n",
        "       simple_regret_exact_12[slice2],\n",
        "       simple_regret_exact_13[slice2],\n",
        "       simple_regret_exact_14[slice2],\n",
        "       simple_regret_exact_15[slice2],\n",
        "       simple_regret_exact_16[slice2],\n",
        "       simple_regret_exact_17[slice2],\n",
        "       simple_regret_exact_18[slice2],\n",
        "       simple_regret_exact_19[slice2],\n",
        "       simple_regret_exact_20[slice2]]\n",
        "\n",
        "approx2_results = pd.DataFrame(approx2).sort_values(by=[0], ascending=False)\n",
        "exact2_results = pd.DataFrame(exact2).sort_values(by=[0], ascending=False)\n",
        "\n",
        "### Best simple regret minimization IQR - approx:\n",
        "lower_approx2 = np.asarray(approx2_results[4:5][0])[0]\n",
        "median_approx2 = np.asarray(approx2_results[9:10][0])[0]\n",
        "upper_approx2 = np.asarray(approx2_results[14:15][0])[0]\n",
        "\n",
        "lower_exact2 = np.asarray(exact2_results[4:5][0])[0]\n",
        "median_exact2 = np.asarray(exact2_results[9:10][0])[0]\n",
        "upper_exact2 = np.asarray(exact2_results[14:15][0])[0]"
      ]
    },
    {
      "cell_type": "code",
      "execution_count": 79,
      "metadata": {
        "id": "B8ncJDYeQxf3"
      },
      "outputs": [],
      "source": [
        "# Iteration12 :\n",
        "\n",
        "slice12 = 11\n",
        "\n",
        "approx12 = [simple_regret_approx_1[slice12],\n",
        "       simple_regret_approx_2[slice12],\n",
        "       simple_regret_approx_3[slice12],\n",
        "       simple_regret_approx_4[slice12],\n",
        "       simple_regret_approx_5[slice12],\n",
        "       simple_regret_approx_6[slice12],\n",
        "       simple_regret_approx_7[slice12],\n",
        "       simple_regret_approx_8[slice12],\n",
        "       simple_regret_approx_9[slice12],\n",
        "       simple_regret_approx_10[slice12],\n",
        "       simple_regret_approx_11[slice12],\n",
        "       simple_regret_approx_12[slice12],\n",
        "       simple_regret_approx_13[slice12],\n",
        "       simple_regret_approx_14[slice12],\n",
        "       simple_regret_approx_15[slice12],\n",
        "       simple_regret_approx_16[slice12],\n",
        "       simple_regret_approx_17[slice12],\n",
        "       simple_regret_approx_18[slice12],\n",
        "       simple_regret_approx_19[slice12],\n",
        "       simple_regret_approx_20[slice12]]\n",
        "\n",
        "exact12 = [simple_regret_exact_1[slice12],\n",
        "       simple_regret_exact_2[slice12],\n",
        "       simple_regret_exact_3[slice12],\n",
        "       simple_regret_exact_4[slice12],\n",
        "       simple_regret_exact_5[slice12],\n",
        "       simple_regret_exact_6[slice12],\n",
        "       simple_regret_exact_7[slice12],\n",
        "       simple_regret_exact_8[slice12],\n",
        "       simple_regret_exact_9[slice12],\n",
        "       simple_regret_exact_10[slice12],\n",
        "       simple_regret_exact_11[slice12],\n",
        "       simple_regret_exact_12[slice12],\n",
        "       simple_regret_exact_13[slice12],\n",
        "       simple_regret_exact_14[slice12],\n",
        "       simple_regret_exact_15[slice12],\n",
        "       simple_regret_exact_16[slice12],\n",
        "       simple_regret_exact_17[slice12],\n",
        "       simple_regret_exact_18[slice12],\n",
        "       simple_regret_exact_19[slice12],\n",
        "       simple_regret_exact_20[slice12]]\n",
        "\n",
        "approx12_results = pd.DataFrame(approx12).sort_values(by=[0], ascending=False)\n",
        "exact12_results = pd.DataFrame(exact12).sort_values(by=[0], ascending=False)\n",
        "\n",
        "### Best simple regret minimization IQR - approx:\n",
        "lower_approx12 = np.asarray(approx12_results[4:5][0])[0]\n",
        "median_approx12 = np.asarray(approx12_results[9:10][0])[0]\n",
        "upper_approx12 = np.asarray(approx12_results[14:15][0])[0]\n",
        "\n",
        "lower_exact12 = np.asarray(exact12_results[4:5][0])[0]\n",
        "median_exact12 = np.asarray(exact12_results[9:10][0])[0]\n",
        "upper_exact12 = np.asarray(exact12_results[14:15][0])[0]"
      ]
    },
    {
      "cell_type": "code",
      "execution_count": 80,
      "metadata": {
        "id": "Jn4KpGvcQxf4"
      },
      "outputs": [],
      "source": [
        "# Iteration3 :\n",
        "\n",
        "slice3 = 2\n",
        "\n",
        "approx3 = [simple_regret_approx_1[slice3],\n",
        "       simple_regret_approx_2[slice3],\n",
        "       simple_regret_approx_3[slice3],\n",
        "       simple_regret_approx_4[slice3],\n",
        "       simple_regret_approx_5[slice3],\n",
        "       simple_regret_approx_6[slice3],\n",
        "       simple_regret_approx_7[slice3],\n",
        "       simple_regret_approx_8[slice3],\n",
        "       simple_regret_approx_9[slice3],\n",
        "       simple_regret_approx_10[slice3],\n",
        "       simple_regret_approx_11[slice3],\n",
        "       simple_regret_approx_12[slice3],\n",
        "       simple_regret_approx_13[slice3],\n",
        "       simple_regret_approx_14[slice3],\n",
        "       simple_regret_approx_15[slice3],\n",
        "       simple_regret_approx_16[slice3],\n",
        "       simple_regret_approx_17[slice3],\n",
        "       simple_regret_approx_18[slice3],\n",
        "       simple_regret_approx_19[slice3],\n",
        "       simple_regret_approx_20[slice3]]\n",
        "\n",
        "exact3 = [simple_regret_exact_1[slice3],\n",
        "       simple_regret_exact_2[slice3],\n",
        "       simple_regret_exact_3[slice3],\n",
        "       simple_regret_exact_4[slice3],\n",
        "       simple_regret_exact_5[slice3],\n",
        "       simple_regret_exact_6[slice3],\n",
        "       simple_regret_exact_7[slice3],\n",
        "       simple_regret_exact_8[slice3],\n",
        "       simple_regret_exact_9[slice3],\n",
        "       simple_regret_exact_10[slice3],\n",
        "       simple_regret_exact_11[slice3],\n",
        "       simple_regret_exact_12[slice3],\n",
        "       simple_regret_exact_13[slice3],\n",
        "       simple_regret_exact_14[slice3],\n",
        "       simple_regret_exact_15[slice3],\n",
        "       simple_regret_exact_16[slice3],\n",
        "       simple_regret_exact_17[slice3],\n",
        "       simple_regret_exact_18[slice3],\n",
        "       simple_regret_exact_19[slice3],\n",
        "       simple_regret_exact_20[slice3]]\n",
        "\n",
        "approx3_results = pd.DataFrame(approx3).sort_values(by=[0], ascending=False)\n",
        "exact3_results = pd.DataFrame(exact3).sort_values(by=[0], ascending=False)\n",
        "\n",
        "### Best simple regret minimization IQR - approx:\n",
        "lower_approx3 = np.asarray(approx3_results[4:5][0])[0]\n",
        "median_approx3 = np.asarray(approx3_results[9:10][0])[0]\n",
        "upper_approx3 = np.asarray(approx3_results[14:15][0])[0]\n",
        "\n",
        "lower_exact3 = np.asarray(exact3_results[4:5][0])[0]\n",
        "median_exact3 = np.asarray(exact3_results[9:10][0])[0]\n",
        "upper_exact3 = np.asarray(exact3_results[14:15][0])[0]"
      ]
    },
    {
      "cell_type": "code",
      "execution_count": 81,
      "metadata": {
        "id": "plf83wxrQxf4"
      },
      "outputs": [],
      "source": [
        "# Iteration13 :\n",
        "\n",
        "slice13 = 12\n",
        "\n",
        "approx13 = [simple_regret_approx_1[slice13],\n",
        "       simple_regret_approx_2[slice13],\n",
        "       simple_regret_approx_3[slice13],\n",
        "       simple_regret_approx_4[slice13],\n",
        "       simple_regret_approx_5[slice13],\n",
        "       simple_regret_approx_6[slice13],\n",
        "       simple_regret_approx_7[slice13],\n",
        "       simple_regret_approx_8[slice13],\n",
        "       simple_regret_approx_9[slice13],\n",
        "       simple_regret_approx_10[slice13],\n",
        "       simple_regret_approx_11[slice13],\n",
        "       simple_regret_approx_12[slice13],\n",
        "       simple_regret_approx_13[slice13],\n",
        "       simple_regret_approx_14[slice13],\n",
        "       simple_regret_approx_15[slice13],\n",
        "       simple_regret_approx_16[slice13],\n",
        "       simple_regret_approx_17[slice13],\n",
        "       simple_regret_approx_18[slice13],\n",
        "       simple_regret_approx_19[slice13],\n",
        "       simple_regret_approx_20[slice13]]\n",
        "\n",
        "exact13 = [simple_regret_exact_1[slice13],\n",
        "       simple_regret_exact_2[slice13],\n",
        "       simple_regret_exact_3[slice13],\n",
        "       simple_regret_exact_4[slice13],\n",
        "       simple_regret_exact_5[slice13],\n",
        "       simple_regret_exact_6[slice13],\n",
        "       simple_regret_exact_7[slice13],\n",
        "       simple_regret_exact_8[slice13],\n",
        "       simple_regret_exact_9[slice13],\n",
        "       simple_regret_exact_10[slice13],\n",
        "       simple_regret_exact_11[slice13],\n",
        "       simple_regret_exact_12[slice13],\n",
        "       simple_regret_exact_13[slice13],\n",
        "       simple_regret_exact_14[slice13],\n",
        "       simple_regret_exact_15[slice13],\n",
        "       simple_regret_exact_16[slice13],\n",
        "       simple_regret_exact_17[slice13],\n",
        "       simple_regret_exact_18[slice13],\n",
        "       simple_regret_exact_19[slice13],\n",
        "       simple_regret_exact_20[slice13]]\n",
        "\n",
        "approx13_results = pd.DataFrame(approx13).sort_values(by=[0], ascending=False)\n",
        "exact13_results = pd.DataFrame(exact13).sort_values(by=[0], ascending=False)\n",
        "\n",
        "### Best simple regret minimization IQR - approx:\n",
        "lower_approx13 = np.asarray(approx13_results[4:5][0])[0]\n",
        "median_approx13 = np.asarray(approx13_results[9:10][0])[0]\n",
        "upper_approx13 = np.asarray(approx13_results[14:15][0])[0]\n",
        "\n",
        "lower_exact13 = np.asarray(exact13_results[4:5][0])[0]\n",
        "median_exact13 = np.asarray(exact13_results[9:10][0])[0]\n",
        "upper_exact13 = np.asarray(exact13_results[14:15][0])[0]"
      ]
    },
    {
      "cell_type": "code",
      "execution_count": 82,
      "metadata": {
        "id": "9A7mlVvJQxf5"
      },
      "outputs": [],
      "source": [
        "# Iteration4 :\n",
        "\n",
        "slice4 = 3\n",
        "\n",
        "approx4 = [simple_regret_approx_1[slice4],\n",
        "       simple_regret_approx_2[slice4],\n",
        "       simple_regret_approx_3[slice4],\n",
        "       simple_regret_approx_4[slice4],\n",
        "       simple_regret_approx_5[slice4],\n",
        "       simple_regret_approx_6[slice4],\n",
        "       simple_regret_approx_7[slice4],\n",
        "       simple_regret_approx_8[slice4],\n",
        "       simple_regret_approx_9[slice4],\n",
        "       simple_regret_approx_10[slice4],\n",
        "       simple_regret_approx_11[slice4],\n",
        "       simple_regret_approx_12[slice4],\n",
        "       simple_regret_approx_13[slice4],\n",
        "       simple_regret_approx_14[slice4],\n",
        "       simple_regret_approx_15[slice4],\n",
        "       simple_regret_approx_16[slice4],\n",
        "       simple_regret_approx_17[slice4],\n",
        "       simple_regret_approx_18[slice4],\n",
        "       simple_regret_approx_19[slice4],\n",
        "       simple_regret_approx_20[slice4]]\n",
        "\n",
        "exact4 = [simple_regret_exact_1[slice4],\n",
        "       simple_regret_exact_2[slice4],\n",
        "       simple_regret_exact_3[slice4],\n",
        "       simple_regret_exact_4[slice4],\n",
        "       simple_regret_exact_5[slice4],\n",
        "       simple_regret_exact_6[slice4],\n",
        "       simple_regret_exact_7[slice4],\n",
        "       simple_regret_exact_8[slice4],\n",
        "       simple_regret_exact_9[slice4],\n",
        "       simple_regret_exact_10[slice4],\n",
        "       simple_regret_exact_11[slice4],\n",
        "       simple_regret_exact_12[slice4],\n",
        "       simple_regret_exact_13[slice4],\n",
        "       simple_regret_exact_14[slice4],\n",
        "       simple_regret_exact_15[slice4],\n",
        "       simple_regret_exact_16[slice4],\n",
        "       simple_regret_exact_17[slice4],\n",
        "       simple_regret_exact_18[slice4],\n",
        "       simple_regret_exact_19[slice4],\n",
        "       simple_regret_exact_20[slice4]]\n",
        "\n",
        "approx4_results = pd.DataFrame(approx4).sort_values(by=[0], ascending=False)\n",
        "exact4_results = pd.DataFrame(exact4).sort_values(by=[0], ascending=False)\n",
        "\n",
        "### Best simple regret minimization IQR - approx:\n",
        "lower_approx4 = np.asarray(approx4_results[4:5][0])[0]\n",
        "median_approx4 = np.asarray(approx4_results[9:10][0])[0]\n",
        "upper_approx4 = np.asarray(approx4_results[14:15][0])[0]\n",
        "\n",
        "lower_exact4 = np.asarray(exact4_results[4:5][0])[0]\n",
        "median_exact4 = np.asarray(exact4_results[9:10][0])[0]\n",
        "upper_exact4 = np.asarray(exact4_results[14:15][0])[0]"
      ]
    },
    {
      "cell_type": "code",
      "execution_count": 83,
      "metadata": {
        "id": "ijq-rioYQxf5"
      },
      "outputs": [],
      "source": [
        "# Iteration14 :\n",
        "\n",
        "slice14 = 13\n",
        "\n",
        "approx14 = [simple_regret_approx_1[slice14],\n",
        "       simple_regret_approx_2[slice14],\n",
        "       simple_regret_approx_3[slice14],\n",
        "       simple_regret_approx_4[slice14],\n",
        "       simple_regret_approx_5[slice14],\n",
        "       simple_regret_approx_6[slice14],\n",
        "       simple_regret_approx_7[slice14],\n",
        "       simple_regret_approx_8[slice14],\n",
        "       simple_regret_approx_9[slice14],\n",
        "       simple_regret_approx_10[slice14],\n",
        "       simple_regret_approx_11[slice14],\n",
        "       simple_regret_approx_12[slice14],\n",
        "       simple_regret_approx_13[slice14],\n",
        "       simple_regret_approx_14[slice14],\n",
        "       simple_regret_approx_15[slice14],\n",
        "       simple_regret_approx_16[slice14],\n",
        "       simple_regret_approx_17[slice14],\n",
        "       simple_regret_approx_18[slice14],\n",
        "       simple_regret_approx_19[slice14],\n",
        "       simple_regret_approx_20[slice14]]\n",
        "\n",
        "exact14 = [simple_regret_exact_1[slice14],\n",
        "       simple_regret_exact_2[slice14],\n",
        "       simple_regret_exact_3[slice14],\n",
        "       simple_regret_exact_4[slice14],\n",
        "       simple_regret_exact_5[slice14],\n",
        "       simple_regret_exact_6[slice14],\n",
        "       simple_regret_exact_7[slice14],\n",
        "       simple_regret_exact_8[slice14],\n",
        "       simple_regret_exact_9[slice14],\n",
        "       simple_regret_exact_10[slice14],\n",
        "       simple_regret_exact_11[slice14],\n",
        "       simple_regret_exact_12[slice14],\n",
        "       simple_regret_exact_13[slice14],\n",
        "       simple_regret_exact_14[slice14],\n",
        "       simple_regret_exact_15[slice14],\n",
        "       simple_regret_exact_16[slice14],\n",
        "       simple_regret_exact_17[slice14],\n",
        "       simple_regret_exact_18[slice14],\n",
        "       simple_regret_exact_19[slice14],\n",
        "       simple_regret_exact_20[slice14]]\n",
        "\n",
        "approx14_results = pd.DataFrame(approx14).sort_values(by=[0], ascending=False)\n",
        "exact14_results = pd.DataFrame(exact14).sort_values(by=[0], ascending=False)\n",
        "\n",
        "### Best simple regret minimization IQR - approx:\n",
        "lower_approx14 = np.asarray(approx14_results[4:5][0])[0]\n",
        "median_approx14 = np.asarray(approx14_results[9:10][0])[0]\n",
        "upper_approx14 = np.asarray(approx14_results[14:15][0])[0]\n",
        "\n",
        "lower_exact14 = np.asarray(exact14_results[4:5][0])[0]\n",
        "median_exact14 = np.asarray(exact14_results[9:10][0])[0]\n",
        "upper_exact14 = np.asarray(exact14_results[14:15][0])[0]"
      ]
    },
    {
      "cell_type": "code",
      "execution_count": 84,
      "metadata": {
        "id": "XINlZjoTd-ZK"
      },
      "outputs": [],
      "source": [
        "# Iteration5 :\n",
        "\n",
        "slice5 = 4\n",
        "\n",
        "approx5 = [simple_regret_approx_1[slice5],\n",
        "       simple_regret_approx_2[slice5],\n",
        "       simple_regret_approx_3[slice5],\n",
        "       simple_regret_approx_4[slice5],\n",
        "       simple_regret_approx_5[slice5],\n",
        "       simple_regret_approx_6[slice5],\n",
        "       simple_regret_approx_7[slice5],\n",
        "       simple_regret_approx_8[slice5],\n",
        "       simple_regret_approx_9[slice5],\n",
        "       simple_regret_approx_10[slice5],\n",
        "       simple_regret_approx_11[slice5],\n",
        "       simple_regret_approx_12[slice5],\n",
        "       simple_regret_approx_13[slice5],\n",
        "       simple_regret_approx_14[slice5],\n",
        "       simple_regret_approx_15[slice5],\n",
        "       simple_regret_approx_16[slice5],\n",
        "       simple_regret_approx_17[slice5],\n",
        "       simple_regret_approx_18[slice5],\n",
        "       simple_regret_approx_19[slice5],\n",
        "       simple_regret_approx_20[slice5]]\n",
        "\n",
        "exact5 = [simple_regret_exact_1[slice5],\n",
        "       simple_regret_exact_2[slice5],\n",
        "       simple_regret_exact_3[slice5],\n",
        "       simple_regret_exact_4[slice5],\n",
        "       simple_regret_exact_5[slice5],\n",
        "       simple_regret_exact_6[slice5],\n",
        "       simple_regret_exact_7[slice5],\n",
        "       simple_regret_exact_8[slice5],\n",
        "       simple_regret_exact_9[slice5],\n",
        "       simple_regret_exact_10[slice5],\n",
        "       simple_regret_exact_11[slice5],\n",
        "       simple_regret_exact_12[slice5],\n",
        "       simple_regret_exact_13[slice5],\n",
        "       simple_regret_exact_14[slice5],\n",
        "       simple_regret_exact_15[slice5],\n",
        "       simple_regret_exact_16[slice5],\n",
        "       simple_regret_exact_17[slice5],\n",
        "       simple_regret_exact_18[slice5],\n",
        "       simple_regret_exact_19[slice5],\n",
        "       simple_regret_exact_20[slice5]]\n",
        "\n",
        "approx5_results = pd.DataFrame(approx5).sort_values(by=[0], ascending=False)\n",
        "exact5_results = pd.DataFrame(exact5).sort_values(by=[0], ascending=False)\n",
        "\n",
        "### Best simple regret minimization IQR - approx:\n",
        "lower_approx5 = np.asarray(approx5_results[4:5][0])[0]\n",
        "median_approx5 = np.asarray(approx5_results[9:10][0])[0]\n",
        "upper_approx5 = np.asarray(approx5_results[14:15][0])[0]\n",
        "\n",
        "lower_exact5 = np.asarray(exact5_results[4:5][0])[0]\n",
        "median_exact5 = np.asarray(exact5_results[9:10][0])[0]\n",
        "upper_exact5 = np.asarray(exact5_results[14:15][0])[0]"
      ]
    },
    {
      "cell_type": "code",
      "execution_count": 85,
      "metadata": {
        "id": "4aZ7C8sOQxf6"
      },
      "outputs": [],
      "source": [
        "# Iteration15 :\n",
        "\n",
        "slice15 = 14\n",
        "\n",
        "approx15 = [simple_regret_approx_1[slice15],\n",
        "       simple_regret_approx_2[slice15],\n",
        "       simple_regret_approx_3[slice15],\n",
        "       simple_regret_approx_4[slice15],\n",
        "       simple_regret_approx_5[slice15],\n",
        "       simple_regret_approx_6[slice15],\n",
        "       simple_regret_approx_7[slice15],\n",
        "       simple_regret_approx_8[slice15],\n",
        "       simple_regret_approx_9[slice15],\n",
        "       simple_regret_approx_10[slice15],\n",
        "       simple_regret_approx_11[slice15],\n",
        "       simple_regret_approx_12[slice15],\n",
        "       simple_regret_approx_13[slice15],\n",
        "       simple_regret_approx_14[slice15],\n",
        "       simple_regret_approx_15[slice15],\n",
        "       simple_regret_approx_16[slice15],\n",
        "       simple_regret_approx_17[slice15],\n",
        "       simple_regret_approx_18[slice15],\n",
        "       simple_regret_approx_19[slice15],\n",
        "       simple_regret_approx_20[slice15]]\n",
        "\n",
        "exact15 = [simple_regret_exact_1[slice15],\n",
        "       simple_regret_exact_2[slice15],\n",
        "       simple_regret_exact_3[slice15],\n",
        "       simple_regret_exact_4[slice15],\n",
        "       simple_regret_exact_5[slice15],\n",
        "       simple_regret_exact_6[slice15],\n",
        "       simple_regret_exact_7[slice15],\n",
        "       simple_regret_exact_8[slice15],\n",
        "       simple_regret_exact_9[slice15],\n",
        "       simple_regret_exact_10[slice15],\n",
        "       simple_regret_exact_11[slice15],\n",
        "       simple_regret_exact_12[slice15],\n",
        "       simple_regret_exact_13[slice15],\n",
        "       simple_regret_exact_14[slice15],\n",
        "       simple_regret_exact_15[slice15],\n",
        "       simple_regret_exact_16[slice15],\n",
        "       simple_regret_exact_17[slice15],\n",
        "       simple_regret_exact_18[slice15],\n",
        "       simple_regret_exact_19[slice15],\n",
        "       simple_regret_exact_20[slice15]]\n",
        "\n",
        "approx15_results = pd.DataFrame(approx15).sort_values(by=[0], ascending=False)\n",
        "exact15_results = pd.DataFrame(exact15).sort_values(by=[0], ascending=False)\n",
        "\n",
        "### Best simple regret minimization IQR - approx:\n",
        "lower_approx15 = np.asarray(approx15_results[4:5][0])[0]\n",
        "median_approx15 = np.asarray(approx15_results[9:10][0])[0]\n",
        "upper_approx15 = np.asarray(approx15_results[14:15][0])[0]\n",
        "\n",
        "lower_exact15 = np.asarray(exact15_results[4:5][0])[0]\n",
        "median_exact15 = np.asarray(exact15_results[9:10][0])[0]\n",
        "upper_exact15 = np.asarray(exact15_results[14:15][0])[0]"
      ]
    },
    {
      "cell_type": "code",
      "execution_count": 86,
      "metadata": {
        "id": "KJINKhv1Qxf6"
      },
      "outputs": [],
      "source": [
        "# Iteration6 :\n",
        "\n",
        "slice6 = 5\n",
        "\n",
        "approx6 = [simple_regret_approx_1[slice6],\n",
        "       simple_regret_approx_2[slice6],\n",
        "       simple_regret_approx_3[slice6],\n",
        "       simple_regret_approx_4[slice6],\n",
        "       simple_regret_approx_5[slice6],\n",
        "       simple_regret_approx_6[slice6],\n",
        "       simple_regret_approx_7[slice6],\n",
        "       simple_regret_approx_8[slice6],\n",
        "       simple_regret_approx_9[slice6],\n",
        "       simple_regret_approx_10[slice6],\n",
        "       simple_regret_approx_11[slice6],\n",
        "       simple_regret_approx_12[slice6],\n",
        "       simple_regret_approx_13[slice6],\n",
        "       simple_regret_approx_14[slice6],\n",
        "       simple_regret_approx_15[slice6],\n",
        "       simple_regret_approx_16[slice6],\n",
        "       simple_regret_approx_17[slice6],\n",
        "       simple_regret_approx_18[slice6],\n",
        "       simple_regret_approx_19[slice6],\n",
        "       simple_regret_approx_20[slice6]]\n",
        "\n",
        "exact6 = [simple_regret_exact_1[slice6],\n",
        "       simple_regret_exact_2[slice6],\n",
        "       simple_regret_exact_3[slice6],\n",
        "       simple_regret_exact_4[slice6],\n",
        "       simple_regret_exact_5[slice6],\n",
        "       simple_regret_exact_6[slice6],\n",
        "       simple_regret_exact_7[slice6],\n",
        "       simple_regret_exact_8[slice6],\n",
        "       simple_regret_exact_9[slice6],\n",
        "       simple_regret_exact_10[slice6],\n",
        "       simple_regret_exact_11[slice6],\n",
        "       simple_regret_exact_12[slice6],\n",
        "       simple_regret_exact_13[slice6],\n",
        "       simple_regret_exact_14[slice6],\n",
        "       simple_regret_exact_15[slice6],\n",
        "       simple_regret_exact_16[slice6],\n",
        "       simple_regret_exact_17[slice6],\n",
        "       simple_regret_exact_18[slice6],\n",
        "       simple_regret_exact_19[slice6],\n",
        "       simple_regret_exact_20[slice6]]\n",
        "\n",
        "approx6_results = pd.DataFrame(approx6).sort_values(by=[0], ascending=False)\n",
        "exact6_results = pd.DataFrame(exact6).sort_values(by=[0], ascending=False)\n",
        "\n",
        "### Best simple regret minimization IQR - approx:\n",
        "lower_approx6 = np.asarray(approx6_results[4:5][0])[0]\n",
        "median_approx6 = np.asarray(approx6_results[9:10][0])[0]\n",
        "upper_approx6 = np.asarray(approx6_results[14:15][0])[0]\n",
        "\n",
        "lower_exact6 = np.asarray(exact6_results[4:5][0])[0]\n",
        "median_exact6 = np.asarray(exact6_results[9:10][0])[0]\n",
        "upper_exact6 = np.asarray(exact6_results[14:15][0])[0]"
      ]
    },
    {
      "cell_type": "code",
      "execution_count": 87,
      "metadata": {
        "id": "nwC5N1FsQxf7"
      },
      "outputs": [],
      "source": [
        "# Iteration16 :\n",
        "\n",
        "slice16 = 15\n",
        "\n",
        "approx16 = [simple_regret_approx_1[slice16],\n",
        "       simple_regret_approx_2[slice16],\n",
        "       simple_regret_approx_3[slice16],\n",
        "       simple_regret_approx_4[slice16],\n",
        "       simple_regret_approx_5[slice16],\n",
        "       simple_regret_approx_6[slice16],\n",
        "       simple_regret_approx_7[slice16],\n",
        "       simple_regret_approx_8[slice16],\n",
        "       simple_regret_approx_9[slice16],\n",
        "       simple_regret_approx_10[slice16],\n",
        "       simple_regret_approx_11[slice16],\n",
        "       simple_regret_approx_12[slice16],\n",
        "       simple_regret_approx_13[slice16],\n",
        "       simple_regret_approx_14[slice16],\n",
        "       simple_regret_approx_15[slice16],\n",
        "       simple_regret_approx_16[slice16],\n",
        "       simple_regret_approx_17[slice16],\n",
        "       simple_regret_approx_18[slice16],\n",
        "       simple_regret_approx_19[slice16],\n",
        "       simple_regret_approx_20[slice16]]\n",
        "\n",
        "exact16 = [simple_regret_exact_1[slice16],\n",
        "       simple_regret_exact_2[slice16],\n",
        "       simple_regret_exact_3[slice16],\n",
        "       simple_regret_exact_4[slice16],\n",
        "       simple_regret_exact_5[slice16],\n",
        "       simple_regret_exact_6[slice16],\n",
        "       simple_regret_exact_7[slice16],\n",
        "       simple_regret_exact_8[slice16],\n",
        "       simple_regret_exact_9[slice16],\n",
        "       simple_regret_exact_10[slice16],\n",
        "       simple_regret_exact_11[slice16],\n",
        "       simple_regret_exact_12[slice16],\n",
        "       simple_regret_exact_13[slice16],\n",
        "       simple_regret_exact_14[slice16],\n",
        "       simple_regret_exact_15[slice16],\n",
        "       simple_regret_exact_16[slice16],\n",
        "       simple_regret_exact_17[slice16],\n",
        "       simple_regret_exact_18[slice16],\n",
        "       simple_regret_exact_19[slice16],\n",
        "       simple_regret_exact_20[slice16]]\n",
        "\n",
        "approx16_results = pd.DataFrame(approx16).sort_values(by=[0], ascending=False)\n",
        "exact16_results = pd.DataFrame(exact16).sort_values(by=[0], ascending=False)\n",
        "\n",
        "### Best simple regret minimization IQR - approx:\n",
        "lower_approx16 = np.asarray(approx16_results[4:5][0])[0]\n",
        "median_approx16 = np.asarray(approx16_results[9:10][0])[0]\n",
        "upper_approx16 = np.asarray(approx16_results[14:15][0])[0]\n",
        "\n",
        "lower_exact16 = np.asarray(exact16_results[4:5][0])[0]\n",
        "median_exact16 = np.asarray(exact16_results[9:10][0])[0]\n",
        "upper_exact16 = np.asarray(exact16_results[14:15][0])[0]"
      ]
    },
    {
      "cell_type": "code",
      "execution_count": 88,
      "metadata": {
        "id": "TrPV0AfnQxf7"
      },
      "outputs": [],
      "source": [
        "# Iteration7 :\n",
        "\n",
        "slice7 = 6\n",
        "\n",
        "approx7 = [simple_regret_approx_1[slice7],\n",
        "       simple_regret_approx_2[slice7],\n",
        "       simple_regret_approx_3[slice7],\n",
        "       simple_regret_approx_4[slice7],\n",
        "       simple_regret_approx_5[slice7],\n",
        "       simple_regret_approx_6[slice7],\n",
        "       simple_regret_approx_7[slice7],\n",
        "       simple_regret_approx_8[slice7],\n",
        "       simple_regret_approx_9[slice7],\n",
        "       simple_regret_approx_10[slice7],\n",
        "       simple_regret_approx_11[slice7],\n",
        "       simple_regret_approx_12[slice7],\n",
        "       simple_regret_approx_13[slice7],\n",
        "       simple_regret_approx_14[slice7],\n",
        "       simple_regret_approx_15[slice7],\n",
        "       simple_regret_approx_16[slice7],\n",
        "       simple_regret_approx_17[slice7],\n",
        "       simple_regret_approx_18[slice7],\n",
        "       simple_regret_approx_19[slice7],\n",
        "       simple_regret_approx_20[slice7]]\n",
        "\n",
        "exact7 = [simple_regret_exact_1[slice7],\n",
        "       simple_regret_exact_2[slice7],\n",
        "       simple_regret_exact_3[slice7],\n",
        "       simple_regret_exact_4[slice7],\n",
        "       simple_regret_exact_5[slice7],\n",
        "       simple_regret_exact_6[slice7],\n",
        "       simple_regret_exact_7[slice7],\n",
        "       simple_regret_exact_8[slice7],\n",
        "       simple_regret_exact_9[slice7],\n",
        "       simple_regret_exact_10[slice7],\n",
        "       simple_regret_exact_11[slice7],\n",
        "       simple_regret_exact_12[slice7],\n",
        "       simple_regret_exact_13[slice7],\n",
        "       simple_regret_exact_14[slice7],\n",
        "       simple_regret_exact_15[slice7],\n",
        "       simple_regret_exact_16[slice7],\n",
        "       simple_regret_exact_17[slice7],\n",
        "       simple_regret_exact_18[slice7],\n",
        "       simple_regret_exact_19[slice7],\n",
        "       simple_regret_exact_20[slice7]]\n",
        "\n",
        "approx7_results = pd.DataFrame(approx7).sort_values(by=[0], ascending=False)\n",
        "exact7_results = pd.DataFrame(exact7).sort_values(by=[0], ascending=False)\n",
        "\n",
        "### Best simple regret minimization IQR - approx:\n",
        "lower_approx7 = np.asarray(approx7_results[4:5][0])[0]\n",
        "median_approx7 = np.asarray(approx7_results[9:10][0])[0]\n",
        "upper_approx7 = np.asarray(approx7_results[14:15][0])[0]\n",
        "\n",
        "lower_exact7 = np.asarray(exact7_results[4:5][0])[0]\n",
        "median_exact7 = np.asarray(exact7_results[9:10][0])[0]\n",
        "upper_exact7 = np.asarray(exact7_results[14:15][0])[0]"
      ]
    },
    {
      "cell_type": "code",
      "execution_count": 89,
      "metadata": {
        "id": "Ub_-wpK4Qxf8"
      },
      "outputs": [],
      "source": [
        "# Iteration17 :\n",
        "\n",
        "slice17 = 16\n",
        "\n",
        "approx17 = [simple_regret_approx_1[slice17],\n",
        "       simple_regret_approx_2[slice17],\n",
        "       simple_regret_approx_3[slice17],\n",
        "       simple_regret_approx_4[slice17],\n",
        "       simple_regret_approx_5[slice17],\n",
        "       simple_regret_approx_6[slice17],\n",
        "       simple_regret_approx_7[slice17],\n",
        "       simple_regret_approx_8[slice17],\n",
        "       simple_regret_approx_9[slice17],\n",
        "       simple_regret_approx_10[slice17],\n",
        "       simple_regret_approx_11[slice17],\n",
        "       simple_regret_approx_12[slice17],\n",
        "       simple_regret_approx_13[slice17],\n",
        "       simple_regret_approx_14[slice17],\n",
        "       simple_regret_approx_15[slice17],\n",
        "       simple_regret_approx_16[slice17],\n",
        "       simple_regret_approx_17[slice17],\n",
        "       simple_regret_approx_18[slice17],\n",
        "       simple_regret_approx_19[slice17],\n",
        "       simple_regret_approx_20[slice17]]\n",
        "\n",
        "exact17 = [simple_regret_exact_1[slice17],\n",
        "       simple_regret_exact_2[slice17],\n",
        "       simple_regret_exact_3[slice17],\n",
        "       simple_regret_exact_4[slice17],\n",
        "       simple_regret_exact_5[slice17],\n",
        "       simple_regret_exact_6[slice17],\n",
        "       simple_regret_exact_7[slice17],\n",
        "       simple_regret_exact_8[slice17],\n",
        "       simple_regret_exact_9[slice17],\n",
        "       simple_regret_exact_10[slice17],\n",
        "       simple_regret_exact_11[slice17],\n",
        "       simple_regret_exact_12[slice17],\n",
        "       simple_regret_exact_13[slice17],\n",
        "       simple_regret_exact_14[slice17],\n",
        "       simple_regret_exact_15[slice17],\n",
        "       simple_regret_exact_16[slice17],\n",
        "       simple_regret_exact_17[slice17],\n",
        "       simple_regret_exact_18[slice17],\n",
        "       simple_regret_exact_19[slice17],\n",
        "       simple_regret_exact_20[slice17]]\n",
        "\n",
        "approx17_results = pd.DataFrame(approx17).sort_values(by=[0], ascending=False)\n",
        "exact17_results = pd.DataFrame(exact17).sort_values(by=[0], ascending=False)\n",
        "\n",
        "### Best simple regret minimization IQR - approx:\n",
        "lower_approx17 = np.asarray(approx17_results[4:5][0])[0]\n",
        "median_approx17 = np.asarray(approx17_results[9:10][0])[0]\n",
        "upper_approx17 = np.asarray(approx17_results[14:15][0])[0]\n",
        "\n",
        "lower_exact17 = np.asarray(exact17_results[4:5][0])[0]\n",
        "median_exact17 = np.asarray(exact17_results[9:10][0])[0]\n",
        "upper_exact17 = np.asarray(exact17_results[14:15][0])[0]"
      ]
    },
    {
      "cell_type": "code",
      "execution_count": 90,
      "metadata": {
        "id": "-6VLo37PQxf8"
      },
      "outputs": [],
      "source": [
        "# Iteration8 :\n",
        "\n",
        "slice8 = 7\n",
        "\n",
        "approx8 = [simple_regret_approx_1[slice8],\n",
        "       simple_regret_approx_2[slice8],\n",
        "       simple_regret_approx_3[slice8],\n",
        "       simple_regret_approx_4[slice8],\n",
        "       simple_regret_approx_5[slice8],\n",
        "       simple_regret_approx_6[slice8],\n",
        "       simple_regret_approx_7[slice8],\n",
        "       simple_regret_approx_8[slice8],\n",
        "       simple_regret_approx_9[slice8],\n",
        "       simple_regret_approx_10[slice8],\n",
        "       simple_regret_approx_11[slice8],\n",
        "       simple_regret_approx_12[slice8],\n",
        "       simple_regret_approx_13[slice8],\n",
        "       simple_regret_approx_14[slice8],\n",
        "       simple_regret_approx_15[slice8],\n",
        "       simple_regret_approx_16[slice8],\n",
        "       simple_regret_approx_17[slice8],\n",
        "       simple_regret_approx_18[slice8],\n",
        "       simple_regret_approx_19[slice8],\n",
        "       simple_regret_approx_20[slice8]]\n",
        "\n",
        "exact8 = [simple_regret_exact_1[slice8],\n",
        "       simple_regret_exact_2[slice8],\n",
        "       simple_regret_exact_3[slice8],\n",
        "       simple_regret_exact_4[slice8],\n",
        "       simple_regret_exact_5[slice8],\n",
        "       simple_regret_exact_6[slice8],\n",
        "       simple_regret_exact_7[slice8],\n",
        "       simple_regret_exact_8[slice8],\n",
        "       simple_regret_exact_9[slice8],\n",
        "       simple_regret_exact_10[slice8],\n",
        "       simple_regret_exact_11[slice8],\n",
        "       simple_regret_exact_12[slice8],\n",
        "       simple_regret_exact_13[slice8],\n",
        "       simple_regret_exact_14[slice8],\n",
        "       simple_regret_exact_15[slice8],\n",
        "       simple_regret_exact_16[slice8],\n",
        "       simple_regret_exact_17[slice8],\n",
        "       simple_regret_exact_18[slice8],\n",
        "       simple_regret_exact_19[slice8],\n",
        "       simple_regret_exact_20[slice8]]\n",
        "\n",
        "approx8_results = pd.DataFrame(approx8).sort_values(by=[0], ascending=False)\n",
        "exact8_results = pd.DataFrame(exact8).sort_values(by=[0], ascending=False)\n",
        "\n",
        "### Best simple regret minimization IQR - approx:\n",
        "lower_approx8 = np.asarray(approx8_results[4:5][0])[0]\n",
        "median_approx8 = np.asarray(approx8_results[9:10][0])[0]\n",
        "upper_approx8 = np.asarray(approx8_results[14:15][0])[0]\n",
        "\n",
        "lower_exact8 = np.asarray(exact8_results[4:5][0])[0]\n",
        "median_exact8 = np.asarray(exact8_results[9:10][0])[0]\n",
        "upper_exact8 = np.asarray(exact8_results[14:15][0])[0]"
      ]
    },
    {
      "cell_type": "code",
      "execution_count": 91,
      "metadata": {
        "id": "2Dp-9CC2Qxf9"
      },
      "outputs": [],
      "source": [
        "# Iteration18 :\n",
        "\n",
        "slice18 = 17\n",
        "\n",
        "approx18 = [simple_regret_approx_1[slice18],\n",
        "       simple_regret_approx_2[slice18],\n",
        "       simple_regret_approx_3[slice18],\n",
        "       simple_regret_approx_4[slice18],\n",
        "       simple_regret_approx_5[slice18],\n",
        "       simple_regret_approx_6[slice18],\n",
        "       simple_regret_approx_7[slice18],\n",
        "       simple_regret_approx_8[slice18],\n",
        "       simple_regret_approx_9[slice18],\n",
        "       simple_regret_approx_10[slice18],\n",
        "       simple_regret_approx_11[slice18],\n",
        "       simple_regret_approx_12[slice18],\n",
        "       simple_regret_approx_13[slice18],\n",
        "       simple_regret_approx_14[slice18],\n",
        "       simple_regret_approx_15[slice18],\n",
        "       simple_regret_approx_16[slice18],\n",
        "       simple_regret_approx_17[slice18],\n",
        "       simple_regret_approx_18[slice18],\n",
        "       simple_regret_approx_19[slice18],\n",
        "       simple_regret_approx_20[slice18]]\n",
        "\n",
        "exact18 = [simple_regret_exact_1[slice18],\n",
        "       simple_regret_exact_2[slice18],\n",
        "       simple_regret_exact_3[slice18],\n",
        "       simple_regret_exact_4[slice18],\n",
        "       simple_regret_exact_5[slice18],\n",
        "       simple_regret_exact_6[slice18],\n",
        "       simple_regret_exact_7[slice18],\n",
        "       simple_regret_exact_8[slice18],\n",
        "       simple_regret_exact_9[slice18],\n",
        "       simple_regret_exact_10[slice18],\n",
        "       simple_regret_exact_11[slice18],\n",
        "       simple_regret_exact_12[slice18],\n",
        "       simple_regret_exact_13[slice18],\n",
        "       simple_regret_exact_14[slice18],\n",
        "       simple_regret_exact_15[slice18],\n",
        "       simple_regret_exact_16[slice18],\n",
        "       simple_regret_exact_17[slice18],\n",
        "       simple_regret_exact_18[slice18],\n",
        "       simple_regret_exact_19[slice18],\n",
        "       simple_regret_exact_20[slice18]]\n",
        "\n",
        "approx18_results = pd.DataFrame(approx18).sort_values(by=[0], ascending=False)\n",
        "exact18_results = pd.DataFrame(exact18).sort_values(by=[0], ascending=False)\n",
        "\n",
        "### Best simple regret minimization IQR - approx:\n",
        "lower_approx18 = np.asarray(approx18_results[4:5][0])[0]\n",
        "median_approx18 = np.asarray(approx18_results[9:10][0])[0]\n",
        "upper_approx18 = np.asarray(approx18_results[14:15][0])[0]\n",
        "\n",
        "lower_exact18 = np.asarray(exact18_results[4:5][0])[0]\n",
        "median_exact18 = np.asarray(exact18_results[9:10][0])[0]\n",
        "upper_exact18 = np.asarray(exact18_results[14:15][0])[0]"
      ]
    },
    {
      "cell_type": "code",
      "execution_count": 92,
      "metadata": {
        "id": "SqiaOpB7Qxf9"
      },
      "outputs": [],
      "source": [
        "# Iteration9 :\n",
        "\n",
        "slice9 = 8\n",
        "\n",
        "approx9 = [simple_regret_approx_1[slice9],\n",
        "       simple_regret_approx_2[slice9],\n",
        "       simple_regret_approx_3[slice9],\n",
        "       simple_regret_approx_4[slice9],\n",
        "       simple_regret_approx_5[slice9],\n",
        "       simple_regret_approx_6[slice9],\n",
        "       simple_regret_approx_7[slice9],\n",
        "       simple_regret_approx_8[slice9],\n",
        "       simple_regret_approx_9[slice9],\n",
        "       simple_regret_approx_10[slice9],\n",
        "       simple_regret_approx_11[slice9],\n",
        "       simple_regret_approx_12[slice9],\n",
        "       simple_regret_approx_13[slice9],\n",
        "       simple_regret_approx_14[slice9],\n",
        "       simple_regret_approx_15[slice9],\n",
        "       simple_regret_approx_16[slice9],\n",
        "       simple_regret_approx_17[slice9],\n",
        "       simple_regret_approx_18[slice9],\n",
        "       simple_regret_approx_19[slice9],\n",
        "       simple_regret_approx_20[slice9]]\n",
        "\n",
        "exact9 = [simple_regret_exact_1[slice9],\n",
        "       simple_regret_exact_2[slice9],\n",
        "       simple_regret_exact_3[slice9],\n",
        "       simple_regret_exact_4[slice9],\n",
        "       simple_regret_exact_5[slice9],\n",
        "       simple_regret_exact_6[slice9],\n",
        "       simple_regret_exact_7[slice9],\n",
        "       simple_regret_exact_8[slice9],\n",
        "       simple_regret_exact_9[slice9],\n",
        "       simple_regret_exact_10[slice9],\n",
        "       simple_regret_exact_11[slice9],\n",
        "       simple_regret_exact_12[slice9],\n",
        "       simple_regret_exact_13[slice9],\n",
        "       simple_regret_exact_14[slice9],\n",
        "       simple_regret_exact_15[slice9],\n",
        "       simple_regret_exact_16[slice9],\n",
        "       simple_regret_exact_17[slice9],\n",
        "       simple_regret_exact_18[slice9],\n",
        "       simple_regret_exact_19[slice9],\n",
        "       simple_regret_exact_20[slice9]]\n",
        "\n",
        "approx9_results = pd.DataFrame(approx9).sort_values(by=[0], ascending=False)\n",
        "exact9_results = pd.DataFrame(exact9).sort_values(by=[0], ascending=False)\n",
        "\n",
        "### Best simple regret minimization IQR - approx:\n",
        "lower_approx9 = np.asarray(approx9_results[4:5][0])[0]\n",
        "median_approx9 = np.asarray(approx9_results[9:10][0])[0]\n",
        "upper_approx9 = np.asarray(approx9_results[14:15][0])[0]\n",
        "\n",
        "lower_exact9 = np.asarray(exact9_results[4:5][0])[0]\n",
        "median_exact9 = np.asarray(exact9_results[9:10][0])[0]\n",
        "upper_exact9 = np.asarray(exact9_results[14:15][0])[0]"
      ]
    },
    {
      "cell_type": "code",
      "execution_count": 93,
      "metadata": {
        "id": "OQkCCOsPQxf9"
      },
      "outputs": [],
      "source": [
        "# Iteration19 :\n",
        "\n",
        "slice19 = 18\n",
        "\n",
        "approx19 = [simple_regret_approx_1[slice19],\n",
        "       simple_regret_approx_2[slice19],\n",
        "       simple_regret_approx_3[slice19],\n",
        "       simple_regret_approx_4[slice19],\n",
        "       simple_regret_approx_5[slice19],\n",
        "       simple_regret_approx_6[slice19],\n",
        "       simple_regret_approx_7[slice19],\n",
        "       simple_regret_approx_8[slice19],\n",
        "       simple_regret_approx_9[slice19],\n",
        "       simple_regret_approx_10[slice19],\n",
        "       simple_regret_approx_11[slice19],\n",
        "       simple_regret_approx_12[slice19],\n",
        "       simple_regret_approx_13[slice19],\n",
        "       simple_regret_approx_14[slice19],\n",
        "       simple_regret_approx_15[slice19],\n",
        "       simple_regret_approx_16[slice19],\n",
        "       simple_regret_approx_17[slice19],\n",
        "       simple_regret_approx_18[slice19],\n",
        "       simple_regret_approx_19[slice19],\n",
        "       simple_regret_approx_20[slice19]]\n",
        "\n",
        "exact19 = [simple_regret_exact_1[slice19],\n",
        "       simple_regret_exact_2[slice19],\n",
        "       simple_regret_exact_3[slice19],\n",
        "       simple_regret_exact_4[slice19],\n",
        "       simple_regret_exact_5[slice19],\n",
        "       simple_regret_exact_6[slice19],\n",
        "       simple_regret_exact_7[slice19],\n",
        "       simple_regret_exact_8[slice19],\n",
        "       simple_regret_exact_9[slice19],\n",
        "       simple_regret_exact_10[slice19],\n",
        "       simple_regret_exact_11[slice19],\n",
        "       simple_regret_exact_12[slice19],\n",
        "       simple_regret_exact_13[slice19],\n",
        "       simple_regret_exact_14[slice19],\n",
        "       simple_regret_exact_15[slice19],\n",
        "       simple_regret_exact_16[slice19],\n",
        "       simple_regret_exact_17[slice19],\n",
        "       simple_regret_exact_18[slice19],\n",
        "       simple_regret_exact_19[slice19],\n",
        "       simple_regret_exact_20[slice19]]\n",
        "\n",
        "approx19_results = pd.DataFrame(approx19).sort_values(by=[0], ascending=False)\n",
        "exact19_results = pd.DataFrame(exact19).sort_values(by=[0], ascending=False)\n",
        "\n",
        "### Best simple regret minimization IQR - approx:\n",
        "lower_approx19 = np.asarray(approx19_results[4:5][0])[0]\n",
        "median_approx19 = np.asarray(approx19_results[9:10][0])[0]\n",
        "upper_approx19 = np.asarray(approx19_results[14:15][0])[0]\n",
        "\n",
        "lower_exact19 = np.asarray(exact19_results[4:5][0])[0]\n",
        "median_exact19 = np.asarray(exact19_results[9:10][0])[0]\n",
        "upper_exact19 = np.asarray(exact19_results[14:15][0])[0]"
      ]
    },
    {
      "cell_type": "code",
      "execution_count": 94,
      "metadata": {
        "id": "h4vtWahcQxf-"
      },
      "outputs": [],
      "source": [
        "# Iteration10 :\n",
        "\n",
        "slice10 = 9\n",
        "\n",
        "approx10 = [simple_regret_approx_1[slice10],\n",
        "       simple_regret_approx_2[slice10],\n",
        "       simple_regret_approx_3[slice10],\n",
        "       simple_regret_approx_4[slice10],\n",
        "       simple_regret_approx_5[slice10],\n",
        "       simple_regret_approx_6[slice10],\n",
        "       simple_regret_approx_7[slice10],\n",
        "       simple_regret_approx_8[slice10],\n",
        "       simple_regret_approx_9[slice10],\n",
        "       simple_regret_approx_10[slice10],\n",
        "       simple_regret_approx_11[slice10],\n",
        "       simple_regret_approx_12[slice10],\n",
        "       simple_regret_approx_13[slice10],\n",
        "       simple_regret_approx_14[slice10],\n",
        "       simple_regret_approx_15[slice10],\n",
        "       simple_regret_approx_16[slice10],\n",
        "       simple_regret_approx_17[slice10],\n",
        "       simple_regret_approx_18[slice10],\n",
        "       simple_regret_approx_19[slice10],\n",
        "       simple_regret_approx_20[slice10]]\n",
        "\n",
        "exact10 = [simple_regret_exact_1[slice10],\n",
        "       simple_regret_exact_2[slice10],\n",
        "       simple_regret_exact_3[slice10],\n",
        "       simple_regret_exact_4[slice10],\n",
        "       simple_regret_exact_5[slice10],\n",
        "       simple_regret_exact_6[slice10],\n",
        "       simple_regret_exact_7[slice10],\n",
        "       simple_regret_exact_8[slice10],\n",
        "       simple_regret_exact_9[slice10],\n",
        "       simple_regret_exact_10[slice10],\n",
        "       simple_regret_exact_11[slice10],\n",
        "       simple_regret_exact_12[slice10],\n",
        "       simple_regret_exact_13[slice10],\n",
        "       simple_regret_exact_14[slice10],\n",
        "       simple_regret_exact_15[slice10],\n",
        "       simple_regret_exact_16[slice10],\n",
        "       simple_regret_exact_17[slice10],\n",
        "       simple_regret_exact_18[slice10],\n",
        "       simple_regret_exact_19[slice10],\n",
        "       simple_regret_exact_20[slice10]]\n",
        "\n",
        "approx10_results = pd.DataFrame(approx10).sort_values(by=[0], ascending=False)\n",
        "exact10_results = pd.DataFrame(exact10).sort_values(by=[0], ascending=False)\n",
        "\n",
        "### Best simple regret minimization IQR - approx:\n",
        "lower_approx10 = np.asarray(approx10_results[4:5][0])[0]\n",
        "median_approx10 = np.asarray(approx10_results[9:10][0])[0]\n",
        "upper_approx10 = np.asarray(approx10_results[14:15][0])[0]\n",
        "\n",
        "lower_exact10 = np.asarray(exact10_results[4:5][0])[0]\n",
        "median_exact10 = np.asarray(exact10_results[9:10][0])[0]\n",
        "upper_exact10 = np.asarray(exact10_results[14:15][0])[0]"
      ]
    },
    {
      "cell_type": "code",
      "execution_count": 95,
      "metadata": {
        "id": "Rsf240pWQxf-"
      },
      "outputs": [],
      "source": [
        "# Iteration20 :\n",
        "\n",
        "slice20 = 19\n",
        "\n",
        "approx20 = [simple_regret_approx_1[slice20],\n",
        "       simple_regret_approx_2[slice20],\n",
        "       simple_regret_approx_3[slice20],\n",
        "       simple_regret_approx_4[slice20],\n",
        "       simple_regret_approx_5[slice20],\n",
        "       simple_regret_approx_6[slice20],\n",
        "       simple_regret_approx_7[slice20],\n",
        "       simple_regret_approx_8[slice20],\n",
        "       simple_regret_approx_9[slice20],\n",
        "       simple_regret_approx_10[slice20],\n",
        "       simple_regret_approx_11[slice20],\n",
        "       simple_regret_approx_12[slice20],\n",
        "       simple_regret_approx_13[slice20],\n",
        "       simple_regret_approx_14[slice20],\n",
        "       simple_regret_approx_15[slice20],\n",
        "       simple_regret_approx_16[slice20],\n",
        "       simple_regret_approx_17[slice20],\n",
        "       simple_regret_approx_18[slice20],\n",
        "       simple_regret_approx_19[slice20],\n",
        "       simple_regret_approx_20[slice20]]\n",
        "\n",
        "exact20 = [simple_regret_exact_1[slice20],\n",
        "       simple_regret_exact_2[slice20],\n",
        "       simple_regret_exact_3[slice20],\n",
        "       simple_regret_exact_4[slice20],\n",
        "       simple_regret_exact_5[slice20],\n",
        "       simple_regret_exact_6[slice20],\n",
        "       simple_regret_exact_7[slice20],\n",
        "       simple_regret_exact_8[slice20],\n",
        "       simple_regret_exact_9[slice20],\n",
        "       simple_regret_exact_10[slice20],\n",
        "       simple_regret_exact_11[slice20],\n",
        "       simple_regret_exact_12[slice20],\n",
        "       simple_regret_exact_13[slice20],\n",
        "       simple_regret_exact_14[slice20],\n",
        "       simple_regret_exact_15[slice20],\n",
        "       simple_regret_exact_16[slice20],\n",
        "       simple_regret_exact_17[slice20],\n",
        "       simple_regret_exact_18[slice20],\n",
        "       simple_regret_exact_19[slice20],\n",
        "       simple_regret_exact_20[slice20]]\n",
        "\n",
        "approx20_results = pd.DataFrame(approx20).sort_values(by=[0], ascending=False)\n",
        "exact20_results = pd.DataFrame(exact20).sort_values(by=[0], ascending=False)\n",
        "\n",
        "### Best simple regret minimization IQR - approx:\n",
        "lower_approx20 = np.asarray(approx20_results[4:5][0])[0]\n",
        "median_approx20 = np.asarray(approx20_results[9:10][0])[0]\n",
        "upper_approx20 = np.asarray(approx20_results[14:15][0])[0]\n",
        "\n",
        "lower_exact20 = np.asarray(exact20_results[4:5][0])[0]\n",
        "median_exact20 = np.asarray(exact20_results[9:10][0])[0]\n",
        "upper_exact20 = np.asarray(exact20_results[14:15][0])[0]"
      ]
    },
    {
      "cell_type": "code",
      "execution_count": 96,
      "metadata": {
        "id": "gn36RejbQxf_"
      },
      "outputs": [],
      "source": [
        "### Summarize arrays: 'Loser'\n",
        "\n",
        "lower_approx = [lower_approx1,\n",
        "            lower_approx2,\n",
        "            lower_approx3,\n",
        "            lower_approx4,\n",
        "            lower_approx5,\n",
        "            lower_approx6,\n",
        "            lower_approx7,\n",
        "            lower_approx8,\n",
        "            lower_approx9,\n",
        "            lower_approx10,\n",
        "            lower_approx11,\n",
        "            lower_approx12,\n",
        "            lower_approx13,\n",
        "            lower_approx14,\n",
        "            lower_approx15,\n",
        "            lower_approx16,\n",
        "            lower_approx17,\n",
        "            lower_approx18,\n",
        "            lower_approx19,\n",
        "            lower_approx20,\n",
        "            lower_approx21]\n",
        "\n",
        "median_approx = [median_approx1,\n",
        "            median_approx2,\n",
        "            median_approx3,\n",
        "            median_approx4,\n",
        "            median_approx5,\n",
        "            median_approx6,\n",
        "            median_approx7,\n",
        "            median_approx8,\n",
        "            median_approx9,\n",
        "            median_approx10,\n",
        "            median_approx11,\n",
        "            median_approx12,\n",
        "            median_approx13,\n",
        "            median_approx14,\n",
        "            median_approx15,\n",
        "            median_approx16,\n",
        "            median_approx17,\n",
        "            median_approx18,\n",
        "            median_approx19,\n",
        "            median_approx20,\n",
        "            median_approx21]\n",
        "\n",
        "upper_approx = [upper_approx1,\n",
        "            upper_approx2,\n",
        "            upper_approx3,\n",
        "            upper_approx4,\n",
        "            upper_approx5,\n",
        "            upper_approx6,\n",
        "            upper_approx7,\n",
        "            upper_approx8,\n",
        "            upper_approx9,\n",
        "            upper_approx10,\n",
        "            upper_approx11,\n",
        "            upper_approx12,\n",
        "            upper_approx13,\n",
        "            upper_approx14,\n",
        "            upper_approx15,\n",
        "            upper_approx16,\n",
        "            upper_approx17,\n",
        "            upper_approx18,\n",
        "            upper_approx19,\n",
        "            upper_approx20,\n",
        "            upper_approx21]"
      ]
    },
    {
      "cell_type": "code",
      "execution_count": 97,
      "metadata": {
        "id": "wxtGTOYfQxf_"
      },
      "outputs": [],
      "source": [
        "### Summarize arrays: 'exact'\n",
        "\n",
        "lower_exact = [lower_exact1,\n",
        "            lower_exact2,\n",
        "            lower_exact3,\n",
        "            lower_exact4,\n",
        "            lower_exact5,\n",
        "            lower_exact6,\n",
        "            lower_exact7,\n",
        "            lower_exact8,\n",
        "            lower_exact9,\n",
        "            lower_exact10,\n",
        "            lower_exact11,\n",
        "            lower_exact12,\n",
        "            lower_exact13,\n",
        "            lower_exact14,\n",
        "            lower_exact15,\n",
        "            lower_exact16,\n",
        "            lower_exact17,\n",
        "            lower_exact18,\n",
        "            lower_exact19,\n",
        "            lower_exact20,\n",
        "            lower_exact21]\n",
        "\n",
        "median_exact = [median_exact1,\n",
        "            median_exact2,\n",
        "            median_exact3,\n",
        "            median_exact4,\n",
        "            median_exact5,\n",
        "            median_exact6,\n",
        "            median_exact7,\n",
        "            median_exact8,\n",
        "            median_exact9,\n",
        "            median_exact10,\n",
        "            median_exact11,\n",
        "            median_exact12,\n",
        "            median_exact13,\n",
        "            median_exact14,\n",
        "            median_exact15,\n",
        "            median_exact16,\n",
        "            median_exact17,\n",
        "            median_exact18,\n",
        "            median_exact19,\n",
        "            median_exact20,\n",
        "            median_exact21]\n",
        "\n",
        "upper_exact = [upper_exact1,\n",
        "            upper_exact2,\n",
        "            upper_exact3,\n",
        "            upper_exact4,\n",
        "            upper_exact5,\n",
        "            upper_exact6,\n",
        "            upper_exact7,\n",
        "            upper_exact8,\n",
        "            upper_exact9,\n",
        "            upper_exact10,\n",
        "            upper_exact11,\n",
        "            upper_exact12,\n",
        "            upper_exact13,\n",
        "            upper_exact14,\n",
        "            upper_exact15,\n",
        "            upper_exact16,\n",
        "            upper_exact17,\n",
        "            upper_exact18,\n",
        "            upper_exact19,\n",
        "            upper_exact20,\n",
        "            upper_exact21]"
      ]
    },
    {
      "cell_type": "code",
      "execution_count": 98,
      "metadata": {
        "id": "2MONq-BXQxgA",
        "colab": {
          "base_uri": "https://localhost:8080/",
          "height": 299
        },
        "outputId": "064c8023-f0ef-4698-c5ac-d58b7ffbf916"
      },
      "outputs": [
        {
          "output_type": "display_data",
          "data": {
            "text/plain": [
              "<Figure size 432x288 with 1 Axes>"
            ],
            "image/png": "[encoded data removed]"
          },
          "metadata": {
            "needs_background": "light"
          }
        }
      ],
      "source": [
        "### Visualise!\n",
        "\n",
        "title = func\n",
        "plt.figure()\n",
        "\n",
        "plt.plot(median_approx, color = 'Green')\n",
        "plt.plot(median_exact, color = 'Blue')\n",
        "\n",
        "xstar = np.arange(0, iters+1, step=1)\n",
        "plt.fill_between(xstar, lower_approx, upper_approx, facecolor = 'Green', alpha=0.4, label='GP ERM Optimization: Approx GP ERM gradients')\n",
        "plt.fill_between(xstar, lower_exact, upper_exact, facecolor = 'Blue', alpha=0.4, label='GP ERM Optimization: Exact GP dERM gradients')\n",
        "\n",
        "plt.title(title, weight = 'bold')\n",
        "plt.xlabel('(Post-initialization) iteration $\\it{k}$', weight = 'bold')\n",
        "plt.ylabel('log(Regret)', weight = 'bold') \n",
        "plt.legend(loc=3) # add plot legend\n",
        "\n",
        "### Make the x-ticks integers, not floats:\n",
        "count = len(xstar)\n",
        "plt.xticks(np.arange(count), np.arange(0, count))\n",
        "plt.show() #visualize!"
      ]
    },
    {
      "cell_type": "code",
      "execution_count": 99,
      "metadata": {
        "id": "l5dkR2Id2oiu",
        "colab": {
          "base_uri": "https://localhost:8080/"
        },
        "outputId": "2a08ace7-2686-478d-a219-e019e900b6e7"
      },
      "outputs": [
        {
          "output_type": "execute_result",
          "data": {
            "text/plain": [
              "(983.7368955612183, 947.7921721935272)"
            ]
          },
          "metadata": {},
          "execution_count": 99
        }
      ],
      "source": [
        "time_approx, time_exact\n"
      ]
    },
    {
      "cell_type": "code",
      "source": [
        "### acqFunc attribute x, stddev: run number = 1\n",
        "\n",
        "acqFuncApprox_exact_1 = acqFuncApprox(exact_1.history)\n",
        "acqFuncExact_exact_1 = acqFuncExact(exact_1.history)\n",
        "\n",
        "e1 = np.mean(acqFuncExact_exact_1)\n",
        "a1 = np.mean(acqFuncApprox_exact_1)\n",
        "\n",
        "e1, a1\n"
      ],
      "metadata": {
        "colab": {
          "base_uri": "https://localhost:8080/"
        },
        "id": "uwxv4dmfGsLr",
        "outputId": "8221f5ec-3fd0-43e9-9671-3883bebfd1bd"
      },
      "execution_count": 100,
      "outputs": [
        {
          "output_type": "execute_result",
          "data": {
            "text/plain": [
              "(2.9494047813305184, 3.0745517325030787)"
            ]
          },
          "metadata": {},
          "execution_count": 100
        }
      ]
    },
    {
      "cell_type": "code",
      "source": [
        "### acqFunc attribute x, stddev: run number = 2\n",
        "\n",
        "acqFuncApprox_exact_2 = acqFuncApprox(exact_2.history)\n",
        "acqFuncExact_exact_2 = acqFuncExact(exact_2.history)\n",
        "\n",
        "e2 = np.mean(acqFuncExact_exact_2)\n",
        "a2 = np.mean(acqFuncApprox_exact_2)\n",
        "\n",
        "e2, a2\n"
      ],
      "metadata": {
        "colab": {
          "base_uri": "https://localhost:8080/"
        },
        "id": "0YSV00_pGsXe",
        "outputId": "4a48060f-06b7-4396-c53a-0c755e627b46"
      },
      "execution_count": 101,
      "outputs": [
        {
          "output_type": "execute_result",
          "data": {
            "text/plain": [
              "(2.9556677884481353, 3.025774191897193)"
            ]
          },
          "metadata": {},
          "execution_count": 101
        }
      ]
    },
    {
      "cell_type": "code",
      "source": [
        "### acqFunc attribute x, stddev: run number = 3\n",
        "\n",
        "acqFuncApprox_exact_3 = acqFuncApprox(exact_3.history)\n",
        "acqFuncExact_exact_3 = acqFuncExact(exact_3.history)\n",
        "\n",
        "e3 = np.mean(acqFuncExact_exact_3)\n",
        "a3 = np.mean(acqFuncApprox_exact_3)\n",
        "\n",
        "e3, a3\n"
      ],
      "metadata": {
        "colab": {
          "base_uri": "https://localhost:8080/"
        },
        "id": "HHVmsd2UGsjT",
        "outputId": "478753ca-6f7c-4bcf-9de1-aeeb15988952"
      },
      "execution_count": 102,
      "outputs": [
        {
          "output_type": "execute_result",
          "data": {
            "text/plain": [
              "(2.743422670085405, 2.9272629024386694)"
            ]
          },
          "metadata": {},
          "execution_count": 102
        }
      ]
    },
    {
      "cell_type": "code",
      "source": [
        "### acqFunc attribute x, stddev: run number = 4\n",
        "\n",
        "acqFuncApprox_exact_4 = acqFuncApprox(exact_4.history)\n",
        "acqFuncExact_exact_4 = acqFuncExact(exact_4.history)\n",
        "\n",
        "e4 = np.mean(acqFuncExact_exact_4)\n",
        "a4 = np.mean(acqFuncApprox_exact_4)\n",
        "\n",
        "e4, a4\n"
      ],
      "metadata": {
        "colab": {
          "base_uri": "https://localhost:8080/"
        },
        "id": "r7O19S2eGsu7",
        "outputId": "f45c5704-4907-4472-b7c2-883d6747990b"
      },
      "execution_count": 103,
      "outputs": [
        {
          "output_type": "execute_result",
          "data": {
            "text/plain": [
              "(2.9283955021933403, 2.9984006578998113)"
            ]
          },
          "metadata": {},
          "execution_count": 103
        }
      ]
    },
    {
      "cell_type": "code",
      "source": [
        "### acqFunc attribute x, stddev: run number = 5\n",
        "\n",
        "acqFuncApprox_exact_5 = acqFuncApprox(exact_5.history)\n",
        "acqFuncExact_exact_5 = acqFuncExact(exact_5.history)\n",
        "\n",
        "e5 = np.mean(acqFuncExact_exact_5)\n",
        "a5 = np.mean(acqFuncApprox_exact_5)\n",
        "\n",
        "e5, a5\n"
      ],
      "metadata": {
        "colab": {
          "base_uri": "https://localhost:8080/"
        },
        "id": "sdb9o6NuGs5m",
        "outputId": "7af9b827-720d-461a-ea79-8e0045371a3a"
      },
      "execution_count": 104,
      "outputs": [
        {
          "output_type": "execute_result",
          "data": {
            "text/plain": [
              "(2.9976203121496896, 3.050386969307234)"
            ]
          },
          "metadata": {},
          "execution_count": 104
        }
      ]
    },
    {
      "cell_type": "code",
      "source": [
        "### acqFunc attribute x, stddev: run number = 6\n",
        "\n",
        "acqFuncApprox_exact_6 = acqFuncApprox(exact_6.history)\n",
        "acqFuncExact_exact_6 = acqFuncExact(exact_6.history)\n",
        "\n",
        "e6 = np.mean(acqFuncExact_exact_6)\n",
        "a6 = np.mean(acqFuncApprox_exact_6)\n",
        "\n",
        "e6, a6\n"
      ],
      "metadata": {
        "colab": {
          "base_uri": "https://localhost:8080/"
        },
        "id": "COQl7LZ8GtE0",
        "outputId": "30fb7ca6-375e-4e30-f819-ee2ff40a1870"
      },
      "execution_count": 105,
      "outputs": [
        {
          "output_type": "execute_result",
          "data": {
            "text/plain": [
              "(3.0899361471237627, 3.122328847991191)"
            ]
          },
          "metadata": {},
          "execution_count": 105
        }
      ]
    },
    {
      "cell_type": "code",
      "source": [
        "### acqFunc attribute x, stddev: run number = 7\n",
        "\n",
        "acqFuncApprox_exact_7 = acqFuncApprox(exact_7.history)\n",
        "acqFuncExact_exact_7 = acqFuncExact(exact_7.history)\n",
        "\n",
        "e7 = np.mean(acqFuncExact_exact_7)\n",
        "a7 = np.mean(acqFuncApprox_exact_7)\n",
        "\n",
        "e7, a7\n"
      ],
      "metadata": {
        "colab": {
          "base_uri": "https://localhost:8080/"
        },
        "id": "2gy9EtTzGtP7",
        "outputId": "16cb2c87-14b3-46d4-962b-4cff00dce63a"
      },
      "execution_count": 106,
      "outputs": [
        {
          "output_type": "execute_result",
          "data": {
            "text/plain": [
              "(2.973370957747016, 3.157144232787882)"
            ]
          },
          "metadata": {},
          "execution_count": 106
        }
      ]
    },
    {
      "cell_type": "code",
      "source": [
        "### acqFunc attribute x, stddev: run number = 8\n",
        "\n",
        "acqFuncApprox_exact_8 = acqFuncApprox(exact_8.history)\n",
        "acqFuncExact_exact_8 = acqFuncExact(exact_8.history)\n",
        "\n",
        "e8 = np.mean(acqFuncExact_exact_8)\n",
        "a8 = np.mean(acqFuncApprox_exact_8)\n",
        "\n",
        "e8, a8\n"
      ],
      "metadata": {
        "colab": {
          "base_uri": "https://localhost:8080/"
        },
        "id": "S7mn0qoMGtbM",
        "outputId": "1b78c3b5-1417-4552-ab9c-d031dc40dd57"
      },
      "execution_count": 107,
      "outputs": [
        {
          "output_type": "execute_result",
          "data": {
            "text/plain": [
              "(2.8888224956402704, 3.157897570224552)"
            ]
          },
          "metadata": {},
          "execution_count": 107
        }
      ]
    },
    {
      "cell_type": "code",
      "source": [
        "### acqFunc attribute x, stddev: run number = 9\n",
        "\n",
        "acqFuncApprox_exact_9 = acqFuncApprox(exact_9.history)\n",
        "acqFuncExact_exact_9 = acqFuncExact(exact_9.history)\n",
        "\n",
        "e9 = np.mean(acqFuncExact_exact_9)\n",
        "a9 = np.mean(acqFuncApprox_exact_9)\n",
        "\n",
        "e9, a9\n"
      ],
      "metadata": {
        "colab": {
          "base_uri": "https://localhost:8080/"
        },
        "id": "BhljmkNxGtms",
        "outputId": "b3bc22f0-9a81-40f5-e8c5-956dce5b0199"
      },
      "execution_count": 108,
      "outputs": [
        {
          "output_type": "execute_result",
          "data": {
            "text/plain": [
              "(2.811298994164395, 3.129252181333068)"
            ]
          },
          "metadata": {},
          "execution_count": 108
        }
      ]
    },
    {
      "cell_type": "code",
      "source": [
        "### acqFunc attribute x, stddev: run number = 10\n",
        "\n",
        "acqFuncApprox_exact_10 = acqFuncApprox(exact_10.history)\n",
        "acqFuncExact_exact_10 = acqFuncExact(exact_10.history)\n",
        "\n",
        "e10 = np.mean(acqFuncExact_exact_10)\n",
        "a10 = np.mean(acqFuncApprox_exact_10)\n",
        "\n",
        "e10, a10\n"
      ],
      "metadata": {
        "colab": {
          "base_uri": "https://localhost:8080/"
        },
        "id": "W5GZo6k3Gtx8",
        "outputId": "8442ad70-34e0-4b66-d037-125ee82546dc"
      },
      "execution_count": 109,
      "outputs": [
        {
          "output_type": "execute_result",
          "data": {
            "text/plain": [
              "(3.0200045000605487, 3.245943603095179)"
            ]
          },
          "metadata": {},
          "execution_count": 109
        }
      ]
    },
    {
      "cell_type": "code",
      "source": [
        "### acqFunc attribute x, stddev: run number = 11\n",
        "\n",
        "acqFuncApprox_exact_11 = acqFuncApprox(exact_11.history)\n",
        "acqFuncExact_exact_11 = acqFuncExact(exact_11.history)\n",
        "\n",
        "e11 = np.mean(acqFuncExact_exact_11)\n",
        "a11 = np.mean(acqFuncApprox_exact_11)\n",
        "\n",
        "e11, a11\n"
      ],
      "metadata": {
        "colab": {
          "base_uri": "https://localhost:8080/"
        },
        "id": "isKNhDk5Gt9D",
        "outputId": "3d32ca21-5d9d-4583-f708-c33efe2b6323"
      },
      "execution_count": 110,
      "outputs": [
        {
          "output_type": "execute_result",
          "data": {
            "text/plain": [
              "(2.807096583138649, 2.9150448843585863)"
            ]
          },
          "metadata": {},
          "execution_count": 110
        }
      ]
    },
    {
      "cell_type": "code",
      "source": [
        "### acqFunc attribute x, stddev: run number = 12\n",
        "\n",
        "acqFuncApprox_exact_12 = acqFuncApprox(exact_12.history)\n",
        "acqFuncExact_exact_12 = acqFuncExact(exact_12.history)\n",
        "\n",
        "e12 = np.mean(acqFuncExact_exact_12)\n",
        "a12 = np.mean(acqFuncApprox_exact_12)\n",
        "\n",
        "e12, a12\n"
      ],
      "metadata": {
        "colab": {
          "base_uri": "https://localhost:8080/"
        },
        "id": "8ts-wrSuGuIm",
        "outputId": "7cb7ad5f-11f3-4a2c-c0ec-b566f1b801a9"
      },
      "execution_count": 111,
      "outputs": [
        {
          "output_type": "execute_result",
          "data": {
            "text/plain": [
              "(2.9559179931570414, 2.94951365219758)"
            ]
          },
          "metadata": {},
          "execution_count": 111
        }
      ]
    },
    {
      "cell_type": "code",
      "source": [
        "### acqFunc attribute x, stddev: run number = 13\n",
        "\n",
        "acqFuncApprox_exact_13 = acqFuncApprox(exact_13.history)\n",
        "acqFuncExact_exact_13 = acqFuncExact(exact_13.history)\n",
        "\n",
        "e13 = np.mean(acqFuncExact_exact_13)\n",
        "a13 = np.mean(acqFuncApprox_exact_13)\n",
        "\n",
        "e13, a13\n"
      ],
      "metadata": {
        "colab": {
          "base_uri": "https://localhost:8080/"
        },
        "id": "n0drhEe3GuUL",
        "outputId": "6d660cc0-17c0-4101-fd73-955905f85f78"
      },
      "execution_count": 112,
      "outputs": [
        {
          "output_type": "execute_result",
          "data": {
            "text/plain": [
              "(2.906282737199976, 3.177913058958982)"
            ]
          },
          "metadata": {},
          "execution_count": 112
        }
      ]
    },
    {
      "cell_type": "code",
      "source": [
        "### acqFunc attribute x, stddev: run number = 14\n",
        "\n",
        "acqFuncApprox_exact_14 = acqFuncApprox(exact_14.history)\n",
        "acqFuncExact_exact_14 = acqFuncExact(exact_14.history)\n",
        "\n",
        "e14 = np.mean(acqFuncExact_exact_14)\n",
        "a14 = np.mean(acqFuncApprox_exact_14)\n",
        "\n",
        "e14, a14\n"
      ],
      "metadata": {
        "colab": {
          "base_uri": "https://localhost:8080/"
        },
        "id": "R0W3MZaVGues",
        "outputId": "c20d901d-951f-45d0-f399-3a55b15ec3b8"
      },
      "execution_count": 113,
      "outputs": [
        {
          "output_type": "execute_result",
          "data": {
            "text/plain": [
              "(2.9336296201509637, 3.0736293312507224)"
            ]
          },
          "metadata": {},
          "execution_count": 113
        }
      ]
    },
    {
      "cell_type": "code",
      "source": [
        "### acqFunc attribute x, stddev: run number = 15\n",
        "\n",
        "acqFuncApprox_exact_15 = acqFuncApprox(exact_15.history)\n",
        "acqFuncExact_exact_15 = acqFuncExact(exact_15.history)\n",
        "\n",
        "e15 = np.mean(acqFuncExact_exact_15)\n",
        "a15 = np.mean(acqFuncApprox_exact_15)\n",
        "\n",
        "e15, a15\n"
      ],
      "metadata": {
        "colab": {
          "base_uri": "https://localhost:8080/"
        },
        "id": "DoXdDFHoGup-",
        "outputId": "4b8e44de-953d-44e5-c4e1-789fb1194206"
      },
      "execution_count": 114,
      "outputs": [
        {
          "output_type": "execute_result",
          "data": {
            "text/plain": [
              "(2.987445076352641, 3.2121405970246784)"
            ]
          },
          "metadata": {},
          "execution_count": 114
        }
      ]
    },
    {
      "cell_type": "code",
      "source": [
        "### acqFunc attribute x, stddev: run number = 16\n",
        "\n",
        "acqFuncApprox_exact_16 = acqFuncApprox(exact_16.history)\n",
        "acqFuncExact_exact_16 = acqFuncExact(exact_16.history)\n",
        "\n",
        "e16 = np.mean(acqFuncExact_exact_16)\n",
        "a16 = np.mean(acqFuncApprox_exact_16)\n",
        "\n",
        "e16, a16\n"
      ],
      "metadata": {
        "colab": {
          "base_uri": "https://localhost:8080/"
        },
        "id": "K_wAeqSoGu2j",
        "outputId": "fe1f7ede-20f5-41af-ac40-b8703142e205"
      },
      "execution_count": 115,
      "outputs": [
        {
          "output_type": "execute_result",
          "data": {
            "text/plain": [
              "(2.970078497705658, 3.085644496555109)"
            ]
          },
          "metadata": {},
          "execution_count": 115
        }
      ]
    },
    {
      "cell_type": "code",
      "source": [
        "### acqFunc attribute x, stddev: run number = 17\n",
        "\n",
        "acqFuncApprox_exact_17 = acqFuncApprox(exact_17.history)\n",
        "acqFuncExact_exact_17 = acqFuncExact(exact_17.history)\n",
        "\n",
        "e17 = np.mean(acqFuncExact_exact_17)\n",
        "a17 = np.mean(acqFuncApprox_exact_17)\n",
        "\n",
        "e17, a17\n"
      ],
      "metadata": {
        "colab": {
          "base_uri": "https://localhost:8080/"
        },
        "id": "n6zy78fjGvBT",
        "outputId": "c8c640a2-01ac-466e-cd4e-0cd71c2300d9"
      },
      "execution_count": 116,
      "outputs": [
        {
          "output_type": "execute_result",
          "data": {
            "text/plain": [
              "(2.9279522617729494, 3.1111777423821017)"
            ]
          },
          "metadata": {},
          "execution_count": 116
        }
      ]
    },
    {
      "cell_type": "code",
      "source": [
        "### acqFunc attribute x, stddev: run number = 18\n",
        "\n",
        "acqFuncApprox_exact_18 = acqFuncApprox(exact_18.history)\n",
        "acqFuncExact_exact_18 = acqFuncExact(exact_18.history)\n",
        "\n",
        "e18 = np.mean(acqFuncExact_exact_18)\n",
        "a18 = np.mean(acqFuncApprox_exact_18)\n",
        "\n",
        "e18, a18\n"
      ],
      "metadata": {
        "colab": {
          "base_uri": "https://localhost:8080/"
        },
        "id": "s_6_2K4iGvM-",
        "outputId": "0cf649e1-f739-4bfd-c784-b3d6b00e02d9"
      },
      "execution_count": 117,
      "outputs": [
        {
          "output_type": "execute_result",
          "data": {
            "text/plain": [
              "(2.8998301562406774, 3.0679631023002223)"
            ]
          },
          "metadata": {},
          "execution_count": 117
        }
      ]
    },
    {
      "cell_type": "code",
      "source": [
        "### acqFunc attribute x, stddev: run number = 19\n",
        "\n",
        "acqFuncApprox_exact_19 = acqFuncApprox(exact_19.history)\n",
        "acqFuncExact_exact_19 = acqFuncExact(exact_19.history)\n",
        "\n",
        "e19 = np.mean(acqFuncExact_exact_19)\n",
        "a19 = np.mean(acqFuncApprox_exact_19)\n",
        "\n",
        "e19, a19\n"
      ],
      "metadata": {
        "colab": {
          "base_uri": "https://localhost:8080/"
        },
        "id": "o8oO8pdBGvYk",
        "outputId": "a183bbdc-62e4-4d77-9445-b1b3883b90ea"
      },
      "execution_count": 118,
      "outputs": [
        {
          "output_type": "execute_result",
          "data": {
            "text/plain": [
              "(2.8315476529325307, 2.9994496851195547)"
            ]
          },
          "metadata": {},
          "execution_count": 118
        }
      ]
    },
    {
      "cell_type": "code",
      "source": [
        "### acqFunc attribute x, stddev: run number = 20\n",
        "\n",
        "acqFuncApprox_exact_20 = acqFuncApprox(exact_20.history)\n",
        "acqFuncExact_exact_20 = acqFuncExact(exact_20.history)\n",
        "\n",
        "e20 = np.mean(acqFuncExact_exact_20)\n",
        "a20 = np.mean(acqFuncApprox_exact_20)\n",
        "\n",
        "e20, a20\n"
      ],
      "metadata": {
        "colab": {
          "base_uri": "https://localhost:8080/"
        },
        "id": "b2w8oLc0IMzU",
        "outputId": "c7aeff77-584e-4c2e-cbe5-b0604091b767"
      },
      "execution_count": 119,
      "outputs": [
        {
          "output_type": "execute_result",
          "data": {
            "text/plain": [
              "(2.940890438894323, 3.026072080852796)"
            ]
          },
          "metadata": {},
          "execution_count": 119
        }
      ]
    },
    {
      "cell_type": "code",
      "source": [
        "### Summarize arrays: \n",
        "\n",
        "exact_stddev = np.sort([e1,e2,e3,e4,e5,e6,e7,e8,e9,e10,e11,e12,e13,e14,e15,e16,e17,e18,e19,e20])\n",
        "approx_stddev = np.sort([a1,a2,a3,a4,a5,a6,a7,a8,a9,a10,a11,a12,a13,a14,a15,a16,a17,a18,a19,a20])\n",
        "\n",
        "np.mean(exact_stddev), np.mean(approx_stddev)\n"
      ],
      "metadata": {
        "colab": {
          "base_uri": "https://localhost:8080/"
        },
        "id": "qAZs3yxMIZul",
        "outputId": "8d8d5776-f81c-4686-babb-4bf0731cfd90"
      },
      "execution_count": 120,
      "outputs": [
        {
          "output_type": "execute_result",
          "data": {
            "text/plain": [
              "(2.925930758324425, 3.075374576023909)"
            ]
          },
          "metadata": {},
          "execution_count": 120
        }
      ]
    },
    {
      "cell_type": "code",
      "source": [
        "### Visualise!\n",
        "\n",
        "title = func\n",
        "plt.figure()\n",
        "\n",
        "plt.plot(approx_stddev, color = 'Green', ls='-', label='Average $\\sigma$, attribute $\\mathbf{x}$: Approx GP ERM gradients')\n",
        "plt.plot(exact_stddev, color = 'Blue', ls='-.', label='Average $\\sigma$, attribute $\\mathbf{x}$: Exact GP dERM gradients')\n",
        "\n",
        "plt.title(title, weight = 'bold')\n",
        "plt.xlabel('Function evaluations: iteration $\\it{k}$', weight = 'bold')\n",
        "plt.ylabel('GP ERM: Average $\\sigma$, attribute $\\mathbf{x}$', weight = 'bold') \n",
        "plt.legend(loc=2) # add plot legend\n",
        "\n",
        "### Make the x-ticks integers, not floats:\n",
        "count = len(xstar)\n",
        "plt.xticks(np.arange(count), np.arange(1, count))\n",
        "plt.show() #visualize!\n"
      ],
      "metadata": {
        "colab": {
          "base_uri": "https://localhost:8080/",
          "height": 297
        },
        "id": "e_kpqYcMIZxu",
        "outputId": "dc3af715-13f2-4a27-aa6d-c20836c1c880"
      },
      "execution_count": 122,
      "outputs": [
        {
          "output_type": "display_data",
          "data": {
            "text/plain": [
              "<Figure size 432x288 with 1 Axes>"
            ],
            "image/png": "[encoded data removed]"
          },
          "metadata": {
            "needs_background": "light"
          }
        }
      ]
    },
    {
      "cell_type": "code",
      "source": [
        ""
      ],
      "metadata": {
        "id": "LToGd4vZIZ3I"
      },
      "execution_count": 121,
      "outputs": []
    }
  ],
  "metadata": {
    "colab": {
      "collapsed_sections": [],
      "name": "6_Sphere_GP_dERM.ipynb",
      "provenance": []
    },
    "kernelspec": {
      "display_name": "Python 3",
      "name": "python3"
    },
    "language_info": {
      "name": "python"
    }
  },
  "nbformat": 4,
  "nbformat_minor": 0
}